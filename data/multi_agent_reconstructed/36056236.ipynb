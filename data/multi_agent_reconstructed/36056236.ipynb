{
 "cells": [
  {
   "cell_type": "markdown",
   "id": "ed236e13",
   "metadata": {},
   "source": [
    "Load the dataset from a specified data source."
   ]
  },
  {
   "cell_type": "code",
   "execution_count": null,
   "id": "914ea9ac",
   "metadata": {},
   "outputs": [],
   "source": [
    "import pandas as pd\n",
    "\n",
    "dataset = pd.read_csv('data_source.csv')"
   ]
  },
  {
   "cell_type": "markdown",
   "id": "6d253a86",
   "metadata": {},
   "source": [
    "Handle null values by omitting rows with missing data."
   ]
  },
  {
   "cell_type": "code",
   "execution_count": null,
   "id": "bce68283",
   "metadata": {},
   "outputs": [],
   "source": [
    "dataset.dropna(inplace=True)"
   ]
  },
  {
   "cell_type": "markdown",
   "id": "9dccee88",
   "metadata": {},
   "source": [
    "Normalize the data to a range between 0 and 1."
   ]
  },
  {
   "cell_type": "code",
   "execution_count": null,
   "id": "c30c5501",
   "metadata": {},
   "outputs": [],
   "source": [
    "from sklearn.preprocessing import MinMaxScaler\n",
    "scaler = MinMaxScaler()\n",
    "dataset_scaled = scaler.fit_transform(dataset)"
   ]
  },
  {
   "cell_type": "markdown",
   "id": "8a9fd86b",
   "metadata": {},
   "source": [
    "Split the data into training (80%) and testing (20%) sets."
   ]
  },
  {
   "cell_type": "code",
   "execution_count": null,
   "id": "111cbee8",
   "metadata": {},
   "outputs": [],
   "source": [
    "from sklearn.model_selection import train_test_split\n",
    "train_set, test_set = train_test_split(dataset_scaled, test_size=0.2)"
   ]
  },
  {
   "cell_type": "markdown",
   "id": "8fa5d965",
   "metadata": {},
   "source": [
    "Build a Decision Tree model using the training set."
   ]
  },
  {
   "cell_type": "code",
   "execution_count": null,
   "id": "0627f85f",
   "metadata": {},
   "outputs": [],
   "source": [
    "from sklearn.tree import DecisionTreeClassifier\n",
    "decision_tree = DecisionTreeClassifier()\n",
    "decision_tree.fit(train_set.drop('target', axis=1), train_set['target'])"
   ]
  },
  {
   "cell_type": "markdown",
   "id": "5ad8d162",
   "metadata": {},
   "source": [
    "Build an SVM model using the training set."
   ]
  },
  {
   "cell_type": "code",
   "execution_count": null,
   "id": "5cd6ea50",
   "metadata": {},
   "outputs": [],
   "source": [
    "from sklearn.svm import SVC\n",
    "svm_model = SVC()\n",
    "svm_model.fit(train_set.drop('target', axis=1), train_set['target'])"
   ]
  },
  {
   "cell_type": "markdown",
   "id": "35908d01",
   "metadata": {},
   "source": [
    "Evaluate the models using the test set."
   ]
  },
  {
   "cell_type": "code",
   "execution_count": null,
   "id": "881fe64c",
   "metadata": {},
   "outputs": [],
   "source": [
    "decision_tree_predictions = decision_tree.predict(test_set.drop('target', axis=1))\n",
    "svm_predictions = svm_model.predict(test_set.drop('target', axis=1))"
   ]
  },
  {
   "cell_type": "markdown",
   "id": "4635551c",
   "metadata": {},
   "source": [
    "Calculate accuracy for both models."
   ]
  },
  {
   "cell_type": "code",
   "execution_count": null,
   "id": "3d37744e",
   "metadata": {},
   "outputs": [],
   "source": [
    "from sklearn.metrics import accuracy_score\n",
    "accuracy_dt = accuracy_score(test_set['target'], decision_tree_predictions)\n",
    "accuracy_svm = accuracy_score(test_set['target'], svm_predictions)"
   ]
  },
  {
   "cell_type": "markdown",
   "id": "cecea22f",
   "metadata": {},
   "source": [
    "Visualize the model accuracies using a bar chart."
   ]
  },
  {
   "cell_type": "code",
   "execution_count": null,
   "id": "183a6f07",
   "metadata": {},
   "outputs": [],
   "source": [
    "import matplotlib.pyplot as plt\n",
    "plt.bar(['Decision Tree', 'SVM'], [accuracy_dt, accuracy_svm])\n",
    "plt.title('Model Accuracy')\n",
    "plt.show()"
   ]
  }
 ],
 "metadata": {
  "kernelspec": {
   "display_name": "Python 3",
   "language": "python",
   "name": "python3"
  },
  "language_info": {
   "codemirror_mode": {
    "name": "ipython",
    "version": 3
   },
   "file_extension": ".py",
   "mimetype": "text/x-python",
   "name": "python",
   "nbconvert_exporter": "python",
   "pygments_lexer": "ipython3",
   "version": "3.8.5"
  }
 },
 "nbformat": 4,
 "nbformat_minor": 5
}
