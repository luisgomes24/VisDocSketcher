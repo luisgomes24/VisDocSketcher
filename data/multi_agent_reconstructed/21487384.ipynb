{
 "cells": [
  {
   "cell_type": "markdown",
   "id": "b3acc007",
   "metadata": {},
   "source": [
    "Load the Pokémon data from a CSV file into a DataFrame."
   ]
  },
  {
   "cell_type": "code",
   "execution_count": null,
   "id": "cc25721f",
   "metadata": {},
   "outputs": [],
   "source": [
    "import pandas as pd\n",
    "pokeman = pd.read_csv('pokemon_data.csv')"
   ]
  },
  {
   "cell_type": "markdown",
   "id": "30b966c5",
   "metadata": {},
   "source": [
    "Inspect the DataFrame by checking the first few rows and its shape."
   ]
  },
  {
   "cell_type": "code",
   "execution_count": null,
   "id": "a3d0f9ec",
   "metadata": {},
   "outputs": [],
   "source": [
    "print(pokeman.head())\n",
    "print(pokeman.shape)"
   ]
  },
  {
   "cell_type": "markdown",
   "id": "ab4541e1",
   "metadata": {},
   "source": [
    "Create a count plot of Pokémon by generation."
   ]
  },
  {
   "cell_type": "code",
   "execution_count": null,
   "id": "e3508ab9",
   "metadata": {},
   "outputs": [],
   "source": [
    "import seaborn as sns\n",
    "import matplotlib.pyplot as plt\n",
    "sns.countplot(data=pokeman, x='Generation')"
   ]
  },
  {
   "cell_type": "markdown",
   "id": "f57bd049",
   "metadata": {},
   "source": [
    "Display the count plot created in the previous step."
   ]
  },
  {
   "cell_type": "code",
   "execution_count": null,
   "id": "f4d49740",
   "metadata": {},
   "outputs": [],
   "source": [
    "plt.show()"
   ]
  },
  {
   "cell_type": "markdown",
   "id": "3b58153e",
   "metadata": {},
   "source": [
    "Sort the DataFrame by the Generation column."
   ]
  },
  {
   "cell_type": "code",
   "execution_count": null,
   "id": "d3fe7e18",
   "metadata": {},
   "outputs": [],
   "source": [
    "pokemon_sort = pokeman.sort_values(by='Generation')"
   ]
  },
  {
   "cell_type": "markdown",
   "id": "0b1f4c5f",
   "metadata": {},
   "source": [
    "Replot the count plot with a specified color palette."
   ]
  },
  {
   "cell_type": "code",
   "execution_count": null,
   "id": "2f70f632",
   "metadata": {},
   "outputs": [],
   "source": [
    "sns.countplot(data=pokemon_sort, x='Generation', palette='Set1')"
   ]
  },
  {
   "cell_type": "markdown",
   "id": "18552a81",
   "metadata": {},
   "source": [
    "Display the sorted count plot with colors."
   ]
  },
  {
   "cell_type": "code",
   "execution_count": null,
   "id": "fca57d1b",
   "metadata": {},
   "outputs": [],
   "source": [
    "plt.show()"
   ]
  }
 ],
 "metadata": {
  "kernelspec": {
   "display_name": "Python 3",
   "language": "python",
   "name": "python3"
  },
  "language_info": {
   "codemirror_mode": {
    "name": "ipython",
    "version": 3
   },
   "file_extension": ".py",
   "mimetype": "text/x-python",
   "name": "python",
   "nbconvert_exporter": "python",
   "pygments_lexer": "ipython3",
   "version": "3.8.5"
  }
 },
 "nbformat": 4,
 "nbformat_minor": 5
}
