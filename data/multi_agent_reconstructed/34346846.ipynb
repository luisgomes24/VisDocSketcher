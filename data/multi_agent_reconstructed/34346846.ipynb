{
 "cells": [
  {
   "cell_type": "markdown",
   "id": "8a0a10e5",
   "metadata": {},
   "source": [
    "Load the dataset from a CSV file into a DataFrame."
   ]
  },
  {
   "cell_type": "code",
   "execution_count": null,
   "id": "68d84c0f",
   "metadata": {},
   "outputs": [],
   "source": [
    "import pandas as pd\n",
    "\n",
    "raw_data = pd.read_csv('US_Crime_Data.csv')"
   ]
  },
  {
   "cell_type": "markdown",
   "id": "52779bf5",
   "metadata": {},
   "source": [
    "Extract the 'Title' column from the DataFrame."
   ]
  },
  {
   "cell_type": "code",
   "execution_count": null,
   "id": "a4fab53f",
   "metadata": {},
   "outputs": [],
   "source": [
    "titles_df = raw_data[['Title']]"
   ]
  },
  {
   "cell_type": "markdown",
   "id": "7cef4937",
   "metadata": {},
   "source": [
    "Define a function to clean the text and apply it to the titles."
   ]
  },
  {
   "cell_type": "code",
   "execution_count": null,
   "id": "4a52cea7",
   "metadata": {},
   "outputs": [],
   "source": [
    "def clean_text(text):\n",
    "    # Implement text cleaning logic\n",
    "    return cleaned_text\n",
    "\n",
    "cleaned_titles = titles_df['Title'].apply(clean_text)"
   ]
  },
  {
   "cell_type": "markdown",
   "id": "99c7a451",
   "metadata": {},
   "source": [
    "Tokenize the cleaned titles into sequences of integers."
   ]
  },
  {
   "cell_type": "code",
   "execution_count": null,
   "id": "4789acf3",
   "metadata": {},
   "outputs": [],
   "source": [
    "from tensorflow.keras.preprocessing.text import Tokenizer\n",
    "\n",
    "tokenizer = Tokenizer()\n",
    "tokenizer.fit_on_texts(cleaned_titles)\n",
    "tokens = tokenizer.texts_to_sequences(cleaned_titles)"
   ]
  },
  {
   "cell_type": "markdown",
   "id": "17ffd72e",
   "metadata": {},
   "source": [
    "Prepare input and output sequences for the model."
   ]
  },
  {
   "cell_type": "code",
   "execution_count": null,
   "id": "ecb8a096",
   "metadata": {},
   "outputs": [],
   "source": [
    "from tensorflow.keras.utils import to_categorical\n",
    "\n",
    "X = tokens[:-1]  # Input sequences\n",
    "Y = tokens[1:]   # Output labels\n",
    "Y = to_categorical(Y, num_classes=len(tokenizer.word_index) + 1)"
   ]
  },
  {
   "cell_type": "markdown",
   "id": "643e6c18",
   "metadata": {},
   "source": [
    "Create an LSTM model for processing the sequences."
   ]
  },
  {
   "cell_type": "code",
   "execution_count": null,
   "id": "f9d80dbf",
   "metadata": {},
   "outputs": [],
   "source": [
    "from tensorflow.keras.models import Sequential\n",
    "from tensorflow.keras.layers import LSTM, Dense\n",
    "\n",
    "model = Sequential()\n",
    "model.add(LSTM(128, input_shape=(None, len(tokenizer.word_index))))\n",
    "model.add(Dense(len(tokenizer.word_index), activation='softmax'))"
   ]
  },
  {
   "cell_type": "markdown",
   "id": "39609101",
   "metadata": {},
   "source": [
    "Compile the model using categorical crossentropy loss and Adam optimizer."
   ]
  },
  {
   "cell_type": "code",
   "execution_count": null,
   "id": "86e123c2",
   "metadata": {},
   "outputs": [],
   "source": [
    "model.compile(loss='categorical_crossentropy', optimizer='adam', metrics=['accuracy'])"
   ]
  },
  {
   "cell_type": "markdown",
   "id": "fd8d80f5",
   "metadata": {},
   "source": [
    "Train the model with the input and output sequences."
   ]
  },
  {
   "cell_type": "code",
   "execution_count": null,
   "id": "992309dd",
   "metadata": {},
   "outputs": [],
   "source": [
    "model.fit(X, Y, epochs=10, batch_size=32)"
   ]
  },
  {
   "cell_type": "markdown",
   "id": "2522fefc",
   "metadata": {},
   "source": [
    "Save the trained model to a .h5 file."
   ]
  },
  {
   "cell_type": "code",
   "execution_count": null,
   "id": "c637dfc1",
   "metadata": {},
   "outputs": [],
   "source": [
    "model.save('model.h5')"
   ]
  }
 ],
 "metadata": {
  "kernelspec": {
   "display_name": "Python 3",
   "language": "python",
   "name": "python3"
  },
  "language_info": {
   "codemirror_mode": {
    "name": "ipython",
    "version": 3
   },
   "file_extension": ".py",
   "mimetype": "text/x-python",
   "name": "python",
   "nbconvert_exporter": "python",
   "pygments_lexer": "ipython3",
   "version": "3.8.5"
  }
 },
 "nbformat": 4,
 "nbformat_minor": 5
}
