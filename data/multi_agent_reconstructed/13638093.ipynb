{
 "cells": [
  {
   "cell_type": "markdown",
   "id": "a099870c",
   "metadata": {},
   "source": [
    "Load the training data from 'train.csv' into a DataFrame."
   ]
  },
  {
   "cell_type": "code",
   "execution_count": null,
   "id": "60bb3fb4",
   "metadata": {},
   "outputs": [],
   "source": [
    "import pandas as pd\n",
    "alp_train = pd.read_csv('train.csv')"
   ]
  },
  {
   "cell_type": "markdown",
   "id": "45863af7",
   "metadata": {},
   "source": [
    "Define the features to be used for the model."
   ]
  },
  {
   "cell_type": "code",
   "execution_count": null,
   "id": "df4278c1",
   "metadata": {},
   "outputs": [],
   "source": [
    "features = ['ClaimNumber', 'DateTimeOfAccident', 'DateReported', 'WeeklyWages', 'ClaimDescription']"
   ]
  },
  {
   "cell_type": "markdown",
   "id": "a2b9618d",
   "metadata": {},
   "source": [
    "Calculate value counts for the selected features in the training DataFrame."
   ]
  },
  {
   "cell_type": "code",
   "execution_count": null,
   "id": "54c686f4",
   "metadata": {},
   "outputs": [],
   "source": [
    "train_value_counts = alp_train[features].value_counts()"
   ]
  },
  {
   "cell_type": "markdown",
   "id": "4eb9d5fa",
   "metadata": {},
   "source": [
    "Visualize the value counts of the training data using a bar plot."
   ]
  },
  {
   "cell_type": "code",
   "execution_count": null,
   "id": "4e9884f2",
   "metadata": {},
   "outputs": [],
   "source": [
    "import matplotlib.pyplot as plt\n",
    "train_value_counts.plot(kind='bar')\n",
    "plt.title('Training Data Value Counts')\n",
    "plt.show()"
   ]
  },
  {
   "cell_type": "markdown",
   "id": "4ca53dee",
   "metadata": {},
   "source": [
    "Load the testing data from 'test.csv' into a DataFrame."
   ]
  },
  {
   "cell_type": "code",
   "execution_count": null,
   "id": "0c1e3e06",
   "metadata": {},
   "outputs": [],
   "source": [
    "alp_test = pd.read_csv('test.csv')"
   ]
  },
  {
   "cell_type": "markdown",
   "id": "2a1c399f",
   "metadata": {},
   "source": [
    "Calculate value counts for the selected features in the testing DataFrame."
   ]
  },
  {
   "cell_type": "code",
   "execution_count": null,
   "id": "6c12cfff",
   "metadata": {},
   "outputs": [],
   "source": [
    "test_value_counts = alp_test[features].value_counts()"
   ]
  },
  {
   "cell_type": "markdown",
   "id": "6140f884",
   "metadata": {},
   "source": [
    "Visualize the value counts of the testing data using a bar plot."
   ]
  },
  {
   "cell_type": "code",
   "execution_count": null,
   "id": "0a105fa3",
   "metadata": {},
   "outputs": [],
   "source": [
    "test_value_counts.plot(kind='bar')\n",
    "plt.title('Testing Data Value Counts')\n",
    "plt.show()"
   ]
  }
 ],
 "metadata": {
  "kernelspec": {
   "display_name": "Python 3",
   "language": "python",
   "name": "python3"
  },
  "language_info": {
   "codemirror_mode": {
    "name": "ipython",
    "version": 3
   },
   "file_extension": ".py",
   "mimetype": "text/x-python",
   "name": "python",
   "nbconvert_exporter": "python",
   "pygments_lexer": "ipython3",
   "version": "3.8.5"
  }
 },
 "nbformat": 4,
 "nbformat_minor": 5
}
