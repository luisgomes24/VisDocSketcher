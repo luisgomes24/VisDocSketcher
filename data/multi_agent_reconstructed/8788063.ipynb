{
 "cells": [
  {
   "cell_type": "markdown",
   "id": "d0bdbef6",
   "metadata": {},
   "source": [
    "Load and preprocess images from the training dataset, rescaling pixel values."
   ]
  },
  {
   "cell_type": "code",
   "execution_count": null,
   "id": "e687238e",
   "metadata": {},
   "outputs": [],
   "source": [
    "import os\n",
    "import numpy as np\n",
    "from keras.preprocessing.image import ImageDataGenerator\n",
    "\n",
    "datagen = ImageDataGenerator(rescale=1./255)\n",
    "train_data = datagen.flow_from_directory('train.zip', target_size=(128, 128), batch_size=128, class_mode='binary')"
   ]
  },
  {
   "cell_type": "markdown",
   "id": "c2d8d1b8",
   "metadata": {},
   "source": [
    "Get file paths for dog and cat images in the training data."
   ]
  },
  {
   "cell_type": "code",
   "execution_count": null,
   "id": "ef1e330b",
   "metadata": {},
   "outputs": [],
   "source": [
    "train_dogs_filepaths = [os.path.join('train_data', fname) for fname in os.listdir('train_data/dogs')]\n",
    "train_cats_filepaths = [os.path.join('train_data', fname) for fname in os.listdir('train_data/cats')]"
   ]
  },
  {
   "cell_type": "markdown",
   "id": "02ad9c0e",
   "metadata": {},
   "source": [
    "Convert images to a numpy array for training."
   ]
  },
  {
   "cell_type": "code",
   "execution_count": null,
   "id": "afb863f8",
   "metadata": {},
   "outputs": [],
   "source": [
    "X_train = np.array([image.img_to_array(image.load_img(path, target_size=(128, 128))) for path in train_dogs_filepaths + train_cats_filepaths])"
   ]
  },
  {
   "cell_type": "markdown",
   "id": "1138ae98",
   "metadata": {},
   "source": [
    "Create target variable; label dogs as 1 and cats as 0."
   ]
  },
  {
   "cell_type": "code",
   "execution_count": null,
   "id": "554c853f",
   "metadata": {},
   "outputs": [],
   "source": [
    "y_train = np.array([1] * len(train_dogs_filepaths) + [0] * len(train_cats_filepaths))"
   ]
  },
  {
   "cell_type": "markdown",
   "id": "1a78c6cf",
   "metadata": {},
   "source": [
    "Define the CNN model architecture with convolutional layers, flattening, and dense layers."
   ]
  },
  {
   "cell_type": "code",
   "execution_count": null,
   "id": "aed4cd8a",
   "metadata": {},
   "outputs": [],
   "source": [
    "from keras.models import Sequential\n",
    "from keras.layers import Conv2D, Flatten, Dense, Dropout\n",
    "\n",
    "model = Sequential()\n",
    "model.add(Conv2D(32, (3, 3), activation='relu', input_shape=(128, 128, 3)))\n",
    "model.add(Conv2D(64, (3, 3), activation='relu'))\n",
    "model.add(Flatten())\n",
    "model.add(Dense(128, activation='relu'))\n",
    "model.add(Dropout(0.5))\n",
    "model.add(Dense(1, activation='sigmoid'))"
   ]
  },
  {
   "cell_type": "markdown",
   "id": "04dd0faa",
   "metadata": {},
   "source": [
    "Compile the model using binary crossentropy loss and the Adam optimizer."
   ]
  },
  {
   "cell_type": "code",
   "execution_count": null,
   "id": "c8cf5172",
   "metadata": {},
   "outputs": [],
   "source": [
    "model.compile(loss='binary_crossentropy', optimizer='adam', metrics=['accuracy'])"
   ]
  },
  {
   "cell_type": "markdown",
   "id": "23995867",
   "metadata": {},
   "source": [
    "Train the model on the training dataset for 3 epochs."
   ]
  },
  {
   "cell_type": "code",
   "execution_count": null,
   "id": "03a50127",
   "metadata": {},
   "outputs": [],
   "source": [
    "model.fit(X_train, y_train, batch_size=128, epochs=3)"
   ]
  },
  {
   "cell_type": "markdown",
   "id": "5d0d4cc5",
   "metadata": {},
   "source": [
    "Load and preprocess images from the testing dataset."
   ]
  },
  {
   "cell_type": "code",
   "execution_count": null,
   "id": "42d49a1d",
   "metadata": {},
   "outputs": [],
   "source": [
    "test_data = datagen.flow_from_directory('test.zip', target_size=(128, 128), class_mode=None, shuffle=False)"
   ]
  },
  {
   "cell_type": "markdown",
   "id": "671dae61",
   "metadata": {},
   "source": [
    "Convert test images to a numpy array."
   ]
  },
  {
   "cell_type": "code",
   "execution_count": null,
   "id": "38ca3e45",
   "metadata": {},
   "outputs": [],
   "source": [
    "arr_test = np.array([image.img_to_array(image.load_img(path, target_size=(128, 128))) for path in test_data.filepaths])"
   ]
  },
  {
   "cell_type": "markdown",
   "id": "08cd8595",
   "metadata": {},
   "source": [
    "Make predictions on the test dataset to obtain probabilities."
   ]
  },
  {
   "cell_type": "code",
   "execution_count": null,
   "id": "b1bf13da",
   "metadata": {},
   "outputs": [],
   "source": [
    "prediction_probabilities = model.predict(arr_test)"
   ]
  },
  {
   "cell_type": "markdown",
   "id": "1cc535e2",
   "metadata": {},
   "source": [
    "Visualize the model's prediction probabilities using a histogram."
   ]
  },
  {
   "cell_type": "code",
   "execution_count": null,
   "id": "500fb298",
   "metadata": {},
   "outputs": [],
   "source": [
    "import matplotlib.pyplot as plt\n",
    "plt.hist(prediction_probabilities)\n",
    "plt.title('Prediction Probabilities')\n",
    "plt.show()"
   ]
  }
 ],
 "metadata": {
  "kernelspec": {
   "display_name": "Python 3",
   "language": "python",
   "name": "python3"
  },
  "language_info": {
   "codemirror_mode": {
    "name": "ipython",
    "version": 3
   },
   "file_extension": ".py",
   "mimetype": "text/x-python",
   "name": "python",
   "nbconvert_exporter": "python",
   "pygments_lexer": "ipython3",
   "version": "3.8.5"
  }
 },
 "nbformat": 4,
 "nbformat_minor": 5
}
