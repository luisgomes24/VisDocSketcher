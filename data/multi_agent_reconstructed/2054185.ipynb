{
 "cells": [
  {
   "cell_type": "markdown",
   "id": "26db6788",
   "metadata": {},
   "source": [
    "Load data from a CSV file into a DataFrame."
   ]
  },
  {
   "cell_type": "code",
   "execution_count": null,
   "id": "4c4aee74",
   "metadata": {},
   "outputs": [],
   "source": [
    "import pandas as pd\n",
    "\n",
    "df = pd.read_csv('data_file.csv')"
   ]
  },
  {
   "cell_type": "markdown",
   "id": "e8a30f18",
   "metadata": {},
   "source": [
    "Select the top 10 features based on ANOVA F-value."
   ]
  },
  {
   "cell_type": "code",
   "execution_count": null,
   "id": "92d959ee",
   "metadata": {},
   "outputs": [],
   "source": [
    "from sklearn.feature_selection import SelectKBest, f_classif\n",
    "\n",
    "X_new = SelectKBest(f_classif, k=10).fit_transform(df.drop('target', axis=1), df['target'])"
   ]
  },
  {
   "cell_type": "markdown",
   "id": "43be7b46",
   "metadata": {},
   "source": [
    "Split the dataset into training and testing sets."
   ]
  },
  {
   "cell_type": "code",
   "execution_count": null,
   "id": "2366e334",
   "metadata": {},
   "outputs": [],
   "source": [
    "from sklearn.model_selection import train_test_split\n",
    "\n",
    "X_train, X_test, y_train, y_test = train_test_split(X_new, df['target'], test_size=0.2, random_state=42)"
   ]
  },
  {
   "cell_type": "markdown",
   "id": "94cc9eef",
   "metadata": {},
   "source": [
    "Train a linear regression model using the training data."
   ]
  },
  {
   "cell_type": "code",
   "execution_count": null,
   "id": "e847d252",
   "metadata": {},
   "outputs": [],
   "source": [
    "from sklearn.linear_model import LinearRegression\n",
    "\n",
    "model = LinearRegression()\n",
    "model.fit(X_train, y_train)"
   ]
  },
  {
   "cell_type": "markdown",
   "id": "70c93945",
   "metadata": {},
   "source": [
    "Evaluate the model using Mean Squared Error and R-squared."
   ]
  },
  {
   "cell_type": "code",
   "execution_count": null,
   "id": "687dde3f",
   "metadata": {},
   "outputs": [],
   "source": [
    "from sklearn.metrics import mean_squared_error, r2_score\n",
    "\n",
    "y_pred = model.predict(X_test)\n",
    "mse = mean_squared_error(y_test, y_pred)\n",
    "r2 = r2_score(y_test, y_pred)"
   ]
  },
  {
   "cell_type": "markdown",
   "id": "20de098a",
   "metadata": {},
   "source": [
    "Visualize the distribution of residuals from the predictions."
   ]
  },
  {
   "cell_type": "code",
   "execution_count": null,
   "id": "1d824761",
   "metadata": {},
   "outputs": [],
   "source": [
    "import matplotlib.pyplot as plt\n",
    "\n",
    "plt.hist(y_test - y_pred, bins=20)\n",
    "plt.title('Residuals Distribution')\n",
    "plt.show()"
   ]
  },
  {
   "cell_type": "markdown",
   "id": "967fef9d",
   "metadata": {},
   "source": [
    "Plot true values against predicted values to assess model performance."
   ]
  },
  {
   "cell_type": "code",
   "execution_count": null,
   "id": "2b6118a9",
   "metadata": {},
   "outputs": [],
   "source": [
    "plt.scatter(y_test, y_pred)\n",
    "plt.xlabel('True Values')\n",
    "plt.ylabel('Predictions')\n",
    "plt.title('True vs Predicted')\n",
    "plt.show()"
   ]
  }
 ],
 "metadata": {
  "kernelspec": {
   "display_name": "Python 3",
   "language": "python",
   "name": "python3"
  },
  "language_info": {
   "codemirror_mode": {
    "name": "ipython",
    "version": 3
   },
   "file_extension": ".py",
   "mimetype": "text/x-python",
   "name": "python",
   "nbconvert_exporter": "python",
   "pygments_lexer": "ipython3",
   "version": "3.8.5"
  }
 },
 "nbformat": 4,
 "nbformat_minor": 5
}
