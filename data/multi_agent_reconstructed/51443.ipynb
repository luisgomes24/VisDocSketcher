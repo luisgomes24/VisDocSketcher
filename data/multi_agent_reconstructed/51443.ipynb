{
 "cells": [
  {
   "cell_type": "markdown",
   "id": "ad1df74f",
   "metadata": {},
   "source": [
    "Import pandas and load the CSV file into a DataFrame."
   ]
  },
  {
   "cell_type": "code",
   "execution_count": null,
   "id": "13c9bc13",
   "metadata": {},
   "outputs": [],
   "source": [
    "import pandas as pd\n",
    "\n",
    "# Load the dataset\n",
    "trainDataFrame = pd.read_csv('../input/train.csv')"
   ]
  },
  {
   "cell_type": "markdown",
   "id": "ffd3e2d7",
   "metadata": {},
   "source": [
    "Extract the 'TARGET' column from the DataFrame as trainLabels."
   ]
  },
  {
   "cell_type": "code",
   "execution_count": null,
   "id": "6cee46e7",
   "metadata": {},
   "outputs": [],
   "source": [
    "trainLabels = trainDataFrame['TARGET']"
   ]
  }
 ],
 "metadata": {
  "kernelspec": {
   "display_name": "Python 3",
   "language": "python",
   "name": "python3"
  },
  "language_info": {
   "codemirror_mode": {
    "name": "ipython",
    "version": 3
   },
   "file_extension": ".py",
   "mimetype": "text/x-python",
   "name": "python",
   "nbconvert_exporter": "python",
   "pygments_lexer": "ipython3",
   "version": "3.8.5"
  }
 },
 "nbformat": 4,
 "nbformat_minor": 5
}
