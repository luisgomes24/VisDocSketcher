{
 "cells": [
  {
   "cell_type": "markdown",
   "id": "e0e53724",
   "metadata": {},
   "source": [
    "Read the CSV file containing the historical data into a DataFrame."
   ]
  },
  {
   "cell_type": "code",
   "execution_count": null,
   "id": "4d9d1895",
   "metadata": {},
   "outputs": [],
   "source": [
    "import pandas as pd\n",
    "dados = pd.read_csv('/adcc_historical_data.csv')"
   ]
  },
  {
   "cell_type": "markdown",
   "id": "8599996d",
   "metadata": {},
   "source": [
    "Count the occurrences of each combination of 'submission' and 'weight_class'."
   ]
  },
  {
   "cell_type": "code",
   "execution_count": null,
   "id": "70e71bcc",
   "metadata": {},
   "outputs": [],
   "source": [
    "counts = dados.groupby(['submission', 'weight_class']).size()"
   ]
  },
  {
   "cell_type": "markdown",
   "id": "88647b8c",
   "metadata": {},
   "source": [
    "Generate a bar plot to visualize the counts of submissions and weight classes."
   ]
  },
  {
   "cell_type": "code",
   "execution_count": null,
   "id": "550ce305",
   "metadata": {},
   "outputs": [],
   "source": [
    "import matplotlib.pyplot as plt\n",
    "counts.plot(kind='bar')\n",
    "plt.title('Submission and Weight Class Counts')\n",
    "plt.xlabel('Submissions and Weight Class')\n",
    "plt.ylabel('Count')\n",
    "plt.show()"
   ]
  },
  {
   "cell_type": "markdown",
   "id": "bc1def22",
   "metadata": {},
   "source": [
    "Analyze the occurrences of each win type."
   ]
  },
  {
   "cell_type": "code",
   "execution_count": null,
   "id": "6e6f7296",
   "metadata": {},
   "outputs": [],
   "source": [
    "win_types_analysis = dados['win_type'].value_counts()"
   ]
  },
  {
   "cell_type": "markdown",
   "id": "e29620c1",
   "metadata": {},
   "source": [
    "Create a bar plot to show the distribution of win types."
   ]
  },
  {
   "cell_type": "code",
   "execution_count": null,
   "id": "c5ebfbbd",
   "metadata": {},
   "outputs": [],
   "source": [
    "win_types_analysis.plot(kind='bar')\n",
    "plt.title('Win Type Distribution')\n",
    "plt.xlabel('Win Types')\n",
    "plt.ylabel('Count')\n",
    "plt.show()"
   ]
  },
  {
   "cell_type": "markdown",
   "id": "62ff42e5",
   "metadata": {},
   "source": [
    "Analyze the data to count matches for each year."
   ]
  },
  {
   "cell_type": "code",
   "execution_count": null,
   "id": "74dc6386",
   "metadata": {},
   "outputs": [],
   "source": [
    "dados['year'] = pd.to_datetime(dados['date']).dt.year\n",
    "yearly_analysis = dados.groupby('year').size()"
   ]
  },
  {
   "cell_type": "markdown",
   "id": "98079335",
   "metadata": {},
   "source": [
    "Visualize the number of matches over the years with a bar plot."
   ]
  },
  {
   "cell_type": "code",
   "execution_count": null,
   "id": "a414470a",
   "metadata": {},
   "outputs": [],
   "source": [
    "yearly_analysis.plot(kind='bar')\n",
    "plt.title('Matches Over Years')\n",
    "plt.xlabel('Year')\n",
    "plt.ylabel('Count')\n",
    "plt.show()"
   ]
  }
 ],
 "metadata": {
  "kernelspec": {
   "display_name": "Python 3",
   "language": "python",
   "name": "python3"
  },
  "language_info": {
   "codemirror_mode": {
    "name": "ipython",
    "version": 3
   },
   "file_extension": ".py",
   "mimetype": "text/x-python",
   "name": "python",
   "nbconvert_exporter": "python",
   "pygments_lexer": "ipython3",
   "version": "3.8.5"
  }
 },
 "nbformat": 4,
 "nbformat_minor": 5
}
