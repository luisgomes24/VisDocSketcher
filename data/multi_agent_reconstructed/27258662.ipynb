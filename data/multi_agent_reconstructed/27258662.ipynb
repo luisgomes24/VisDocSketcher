{
 "cells": [
  {
   "cell_type": "markdown",
   "id": "fdbbd091",
   "metadata": {},
   "source": [
    "Load the energy data from a CSV file into a DataFrame."
   ]
  },
  {
   "cell_type": "code",
   "execution_count": null,
   "id": "0fb8497d",
   "metadata": {},
   "outputs": [],
   "source": [
    "import pandas as pd\n",
    "energy_data = pd.read_csv('energy_data.csv')"
   ]
  },
  {
   "cell_type": "markdown",
   "id": "40c8f6cb",
   "metadata": {},
   "source": [
    "Load the weather data from a CSV file into a DataFrame."
   ]
  },
  {
   "cell_type": "code",
   "execution_count": null,
   "id": "1db70f79",
   "metadata": {},
   "outputs": [],
   "source": [
    "weather_data = pd.read_csv('weather_data.csv')"
   ]
  },
  {
   "cell_type": "markdown",
   "id": "d0c2fd97",
   "metadata": {},
   "source": [
    "Merge energy and weather data on the date column."
   ]
  },
  {
   "cell_type": "code",
   "execution_count": null,
   "id": "5ff30bba",
   "metadata": {},
   "outputs": [],
   "source": [
    "merged_data = pd.merge(energy_data, weather_data, on='date')"
   ]
  },
  {
   "cell_type": "markdown",
   "id": "e4c01fd8",
   "metadata": {},
   "source": [
    "Preprocess the merged data by scaling numerical features."
   ]
  },
  {
   "cell_type": "code",
   "execution_count": null,
   "id": "816ac15d",
   "metadata": {},
   "outputs": [],
   "source": [
    "from sklearn.preprocessing import StandardScaler\n",
    "scaler = StandardScaler()\n",
    "preprocessed_data = scaler.fit_transform(merged_data)"
   ]
  },
  {
   "cell_type": "markdown",
   "id": "622ceea7",
   "metadata": {},
   "source": [
    "Split the preprocessed data into training and testing sets."
   ]
  },
  {
   "cell_type": "code",
   "execution_count": null,
   "id": "ec080d7c",
   "metadata": {},
   "outputs": [],
   "source": [
    "from sklearn.model_selection import train_test_split\n",
    "train_data, test_data = train_test_split(preprocessed_data, test_size=0.2)"
   ]
  },
  {
   "cell_type": "markdown",
   "id": "1b9abd89",
   "metadata": {},
   "source": [
    "Train a linear regression model using the training data."
   ]
  },
  {
   "cell_type": "code",
   "execution_count": null,
   "id": "69b372b3",
   "metadata": {},
   "outputs": [],
   "source": [
    "from sklearn.linear_model import LinearRegression\n",
    "model = LinearRegression()\n",
    "model.fit(train_data[:, :-1], train_data[:, -1])"
   ]
  },
  {
   "cell_type": "markdown",
   "id": "8d1a42d1",
   "metadata": {},
   "source": [
    "Display a bar chart of the R² score for training and testing datasets."
   ]
  },
  {
   "cell_type": "code",
   "execution_count": null,
   "id": "b1c4500f",
   "metadata": {},
   "outputs": [],
   "source": [
    "import matplotlib.pyplot as plt\n",
    "plt.bar(['Train', 'Test'], [model.score(train_data[:, :-1], train_data[:, -1]), model.score(test_data[:, :-1], test_data[:, -1])])\n",
    "plt.ylabel('R² Score')\n",
    "plt.show()"
   ]
  },
  {
   "cell_type": "markdown",
   "id": "aaf1f407",
   "metadata": {},
   "source": [
    "Plot the learning curve showing training and testing scores over varying training set sizes."
   ]
  },
  {
   "cell_type": "code",
   "execution_count": null,
   "id": "01b8377e",
   "metadata": {},
   "outputs": [],
   "source": [
    "train_sizes, train_scores, test_scores = learning_curve(model, train_data[:, :-1], train_data[:, -1])\n",
    "plt.plot(train_sizes, train_scores.mean(axis=1), label='Training Score')\n",
    "plt.plot(train_sizes, test_scores.mean(axis=1), label='Test Score')\n",
    "plt.xlabel('Training Size')\n",
    "plt.ylabel('Score')\n",
    "plt.legend()\n",
    "plt.show()"
   ]
  },
  {
   "cell_type": "markdown",
   "id": "33c717b7",
   "metadata": {},
   "source": [
    "Visualize the predicted values against true values in a scatter plot."
   ]
  },
  {
   "cell_type": "code",
   "execution_count": null,
   "id": "ee510af4",
   "metadata": {},
   "outputs": [],
   "source": [
    "predictions = model.predict(test_data[:, :-1])\n",
    "plt.scatter(test_data[:, -1], predictions)\n",
    "plt.xlabel('True Values')\n",
    "plt.ylabel('Predictions')\n",
    "plt.show()"
   ]
  }
 ],
 "metadata": {
  "kernelspec": {
   "display_name": "Python 3",
   "language": "python",
   "name": "python3"
  },
  "language_info": {
   "codemirror_mode": {
    "name": "ipython",
    "version": 3
   },
   "file_extension": ".py",
   "mimetype": "text/x-python",
   "name": "python",
   "nbconvert_exporter": "python",
   "pygments_lexer": "ipython3",
   "version": "3.8.5"
  }
 },
 "nbformat": 4,
 "nbformat_minor": 5
}
