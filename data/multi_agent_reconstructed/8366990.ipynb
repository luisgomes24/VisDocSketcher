{
 "cells": [
  {
   "cell_type": "markdown",
   "id": "827f10d1",
   "metadata": {},
   "source": [
    "Import necessary libraries for data manipulation and visualization."
   ]
  },
  {
   "cell_type": "code",
   "execution_count": null,
   "id": "71eb2b04",
   "metadata": {},
   "outputs": [],
   "source": [
    "import matplotlib.pyplot as plt\n",
    "import numpy as np\n",
    "import os\n",
    "import pandas as pd"
   ]
  },
  {
   "cell_type": "markdown",
   "id": "7a6ebb51",
   "metadata": {},
   "source": [
    "Load the dataset into a pandas DataFrame."
   ]
  },
  {
   "cell_type": "code",
   "execution_count": null,
   "id": "93fdccc7",
   "metadata": {},
   "outputs": [],
   "source": [
    "df = pd.read_csv('data.csv')"
   ]
  },
  {
   "cell_type": "markdown",
   "id": "83c7bfc7",
   "metadata": {},
   "source": [
    "Get the count of unique values for each column in the DataFrame."
   ]
  },
  {
   "cell_type": "code",
   "execution_count": null,
   "id": "55e484f8",
   "metadata": {},
   "outputs": [],
   "source": [
    "nunique = df.nunique()"
   ]
  },
  {
   "cell_type": "markdown",
   "id": "87a77277",
   "metadata": {},
   "source": [
    "Extract and store the column names from the DataFrame."
   ]
  },
  {
   "cell_type": "code",
   "execution_count": null,
   "id": "2719ce5d",
   "metadata": {},
   "outputs": [],
   "source": [
    "columnNames = df.columns.tolist()"
   ]
  },
  {
   "cell_type": "markdown",
   "id": "675a7117",
   "metadata": {},
   "source": [
    "Plot histograms for each column to visualize their distributions."
   ]
  },
  {
   "cell_type": "code",
   "execution_count": null,
   "id": "a87e279d",
   "metadata": {},
   "outputs": [],
   "source": [
    "plt.hist(df[columnNames], bins=10)\n",
    "plt.title('Column Distribution')\n",
    "plt.xlabel('Values')\n",
    "plt.ylabel('Frequency')\n",
    "plt.show()"
   ]
  },
  {
   "cell_type": "markdown",
   "id": "21d15bd4",
   "metadata": {},
   "source": [
    "Create a scatter matrix to explore relationships between columns."
   ]
  },
  {
   "cell_type": "code",
   "execution_count": null,
   "id": "981ff24a",
   "metadata": {},
   "outputs": [],
   "source": [
    "pd.plotting.scatter_matrix(df, figsize=(10, 10))\n",
    "plt.suptitle('Scatter Matrix')\n",
    "plt.show()"
   ]
  },
  {
   "cell_type": "markdown",
   "id": "b84ef409",
   "metadata": {},
   "source": [
    "Calculate the correlation matrix for the DataFrame."
   ]
  },
  {
   "cell_type": "code",
   "execution_count": null,
   "id": "bd3bfca2",
   "metadata": {},
   "outputs": [],
   "source": [
    "correlation_matrix = df.corr()"
   ]
  },
  {
   "cell_type": "markdown",
   "id": "30a04e65",
   "metadata": {},
   "source": [
    "Visualize the correlation matrix using a heatmap."
   ]
  },
  {
   "cell_type": "code",
   "execution_count": null,
   "id": "2a7c3aba",
   "metadata": {},
   "outputs": [],
   "source": [
    "plt.imshow(correlation_matrix, cmap='hot', interpolation='nearest')\n",
    "plt.colorbar()\n",
    "plt.title('Correlation Matrix')\n",
    "plt.show()"
   ]
  }
 ],
 "metadata": {
  "kernelspec": {
   "display_name": "Python 3",
   "language": "python",
   "name": "python3"
  },
  "language_info": {
   "codemirror_mode": {
    "name": "ipython",
    "version": 3
   },
   "file_extension": ".py",
   "mimetype": "text/x-python",
   "name": "python",
   "nbconvert_exporter": "python",
   "pygments_lexer": "ipython3",
   "version": "3.8.5"
  }
 },
 "nbformat": 4,
 "nbformat_minor": 5
}
