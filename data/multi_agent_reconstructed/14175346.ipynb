{
 "cells": [
  {
   "cell_type": "markdown",
   "id": "c9a9fc04",
   "metadata": {},
   "source": [
    "Load the training data from 'train.csv' into a DataFrame named 'train_df'."
   ]
  },
  {
   "cell_type": "code",
   "execution_count": null,
   "id": "70a9c9a1",
   "metadata": {},
   "outputs": [],
   "source": [
    "import pandas as pd\n",
    "train_df = pd.read_csv('train.csv')"
   ]
  },
  {
   "cell_type": "markdown",
   "id": "fa559cb3",
   "metadata": {},
   "source": [
    "Load the testing data from 'test.csv' into a DataFrame named 'test_df'."
   ]
  },
  {
   "cell_type": "code",
   "execution_count": null,
   "id": "c34e2d29",
   "metadata": {},
   "outputs": [],
   "source": [
    "test_df = pd.read_csv('test.csv')"
   ]
  }
 ],
 "metadata": {
  "kernelspec": {
   "display_name": "Python 3",
   "language": "python",
   "name": "python3"
  },
  "language_info": {
   "codemirror_mode": {
    "name": "ipython",
    "version": 3
   },
   "file_extension": ".py",
   "mimetype": "text/x-python",
   "name": "python",
   "nbconvert_exporter": "python",
   "pygments_lexer": "ipython3",
   "version": "3.8.5"
  }
 },
 "nbformat": 4,
 "nbformat_minor": 5
}
