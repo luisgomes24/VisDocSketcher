{
 "cells": [
  {
   "cell_type": "markdown",
   "id": "2cf06e42",
   "metadata": {},
   "source": [
    "Read training and testing datasets from CSV files."
   ]
  },
  {
   "cell_type": "code",
   "execution_count": null,
   "id": "14fb1a69",
   "metadata": {},
   "outputs": [],
   "source": [
    "import pandas as pd\n",
    "\n",
    "df_train = pd.read_csv('/train.csv')\n",
    "df_test = pd.read_csv('/test.csv')"
   ]
  },
  {
   "cell_type": "markdown",
   "id": "a31c614a",
   "metadata": {},
   "source": [
    "Extract features by dropping the 'Class' column and store the target variable."
   ]
  },
  {
   "cell_type": "code",
   "execution_count": null,
   "id": "b2080922",
   "metadata": {},
   "outputs": [],
   "source": [
    "X_train = df_train.drop(columns=['Class']).values\n",
    "y_train = df_train['Class'].values"
   ]
  },
  {
   "cell_type": "markdown",
   "id": "f065fb9e",
   "metadata": {},
   "source": [
    "Extract features from the test dataset."
   ]
  },
  {
   "cell_type": "code",
   "execution_count": null,
   "id": "852dc278",
   "metadata": {},
   "outputs": [],
   "source": [
    "X_test = df_test.values"
   ]
  },
  {
   "cell_type": "markdown",
   "id": "32f68b7b",
   "metadata": {},
   "source": [
    "Apply PCA transformation to both training and testing feature sets."
   ]
  },
  {
   "cell_type": "code",
   "execution_count": null,
   "id": "d22a2ff1",
   "metadata": {},
   "outputs": [],
   "source": [
    "from sklearn.decomposition import PCA\n",
    "\n",
    "pca = PCA()\n",
    "X_train_pca = pca.fit_transform(X_train)\n",
    "X_test_pca = pca.transform(X_test)"
   ]
  },
  {
   "cell_type": "markdown",
   "id": "40b4bb2e",
   "metadata": {},
   "source": [
    "Train an SVC model using the PCA-transformed training data."
   ]
  },
  {
   "cell_type": "code",
   "execution_count": null,
   "id": "79c3a876",
   "metadata": {},
   "outputs": [],
   "source": [
    "from sklearn.svm import SVC\n",
    "\n",
    "model = SVC()\n",
    "model.fit(X_train_pca, y_train)"
   ]
  },
  {
   "cell_type": "markdown",
   "id": "c5504fca",
   "metadata": {},
   "source": [
    "Make predictions on the PCA-transformed test data and store them in the DataFrame."
   ]
  },
  {
   "cell_type": "code",
   "execution_count": null,
   "id": "0d8f6963",
   "metadata": {},
   "outputs": [],
   "source": [
    "predictions = model.predict(X_test_pca)\n",
    "df_test['Predictions'] = predictions"
   ]
  },
  {
   "cell_type": "markdown",
   "id": "72d2caa1",
   "metadata": {},
   "source": [
    "Save the predictions to a new CSV file for submission."
   ]
  },
  {
   "cell_type": "code",
   "execution_count": null,
   "id": "cacb9521",
   "metadata": {},
   "outputs": [],
   "source": [
    "df_test.to_csv('/sampleSubmission.csv', index=False)"
   ]
  }
 ],
 "metadata": {
  "kernelspec": {
   "display_name": "Python 3",
   "language": "python",
   "name": "python3"
  },
  "language_info": {
   "codemirror_mode": {
    "name": "ipython",
    "version": 3
   },
   "file_extension": ".py",
   "mimetype": "text/x-python",
   "name": "python",
   "nbconvert_exporter": "python",
   "pygments_lexer": "ipython3",
   "version": "3.8.5"
  }
 },
 "nbformat": 4,
 "nbformat_minor": 5
}
