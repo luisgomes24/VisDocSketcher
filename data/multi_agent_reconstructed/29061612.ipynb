{
 "cells": [
  {
   "cell_type": "markdown",
   "id": "2656d187",
   "metadata": {},
   "source": [
    "Reads training and testing data from CSV files."
   ]
  },
  {
   "cell_type": "code",
   "execution_count": null,
   "id": "628c42e0",
   "metadata": {},
   "outputs": [],
   "source": [
    "import pandas as pd\n",
    "train_data = pd.read_csv('/kaggle/input/titanic/train.csv')\n",
    "test_data = pd.read_csv('/kaggle/input/titanic/test.csv')"
   ]
  },
  {
   "cell_type": "markdown",
   "id": "4d92b53c",
   "metadata": {},
   "source": [
    "Preprocesses the train and test datasets."
   ]
  },
  {
   "cell_type": "code",
   "execution_count": null,
   "id": "dcba9b01",
   "metadata": {},
   "outputs": [],
   "source": [
    "train_data = preprocess(train_data)\n",
    "test_data = preprocess(test_data)"
   ]
  },
  {
   "cell_type": "markdown",
   "id": "99eb168e",
   "metadata": {},
   "source": [
    "Extracts features and target from the training set, including outliers."
   ]
  },
  {
   "cell_type": "code",
   "execution_count": null,
   "id": "42cd5310",
   "metadata": {},
   "outputs": [],
   "source": [
    "X_train_with_outliers = extract_outliers(train_data)\n",
    "Y_train_with_outliers = train_data['target']"
   ]
  },
  {
   "cell_type": "markdown",
   "id": "84ad1f77",
   "metadata": {},
   "source": [
    "Removes outliers from the features and corresponding targets."
   ]
  },
  {
   "cell_type": "code",
   "execution_count": null,
   "id": "7410e13b",
   "metadata": {},
   "outputs": [],
   "source": [
    "X_train_without_outliers = remove_outliers(X_train_with_outliers)\n",
    "Y_train_without_outliers = Y_train_with_outliers[X_train_with_outliers.index]"
   ]
  },
  {
   "cell_type": "markdown",
   "id": "0d43a07b",
   "metadata": {},
   "source": [
    "Trains a Support Vector Classifier on the cleaned data."
   ]
  },
  {
   "cell_type": "code",
   "execution_count": null,
   "id": "04b46a15",
   "metadata": {},
   "outputs": [],
   "source": [
    "from sklearn.svm import SVC\n",
    "model_svc = SVC().fit(X_train_without_outliers, Y_train_without_outliers)"
   ]
  },
  {
   "cell_type": "markdown",
   "id": "c1fb43eb",
   "metadata": {},
   "source": [
    "Trains a Random Forest Classifier on the cleaned data."
   ]
  },
  {
   "cell_type": "code",
   "execution_count": null,
   "id": "5ecf662c",
   "metadata": {},
   "outputs": [],
   "source": [
    "from sklearn.ensemble import RandomForestClassifier\n",
    "model_rf = RandomForestClassifier().fit(X_train_without_outliers, Y_train_without_outliers)"
   ]
  },
  {
   "cell_type": "markdown",
   "id": "74c53663",
   "metadata": {},
   "source": [
    "Trains an AdaBoost Classifier on the cleaned data."
   ]
  },
  {
   "cell_type": "code",
   "execution_count": null,
   "id": "6ff9b2e0",
   "metadata": {},
   "outputs": [],
   "source": [
    "from sklearn.ensemble import AdaBoostClassifier\n",
    "model_ab = AdaBoostClassifier().fit(X_train_without_outliers, Y_train_without_outliers)"
   ]
  },
  {
   "cell_type": "markdown",
   "id": "e999bef5",
   "metadata": {},
   "source": [
    "Trains a Gradient Boosting Classifier on the cleaned data."
   ]
  },
  {
   "cell_type": "code",
   "execution_count": null,
   "id": "19b13c42",
   "metadata": {},
   "outputs": [],
   "source": [
    "from sklearn.ensemble import GradientBoostingClassifier\n",
    "model_gb = GradientBoostingClassifier().fit(X_train_without_outliers, Y_train_without_outliers)"
   ]
  }
 ],
 "metadata": {
  "kernelspec": {
   "display_name": "Python 3",
   "language": "python",
   "name": "python3"
  },
  "language_info": {
   "codemirror_mode": {
    "name": "ipython",
    "version": 3
   },
   "file_extension": ".py",
   "mimetype": "text/x-python",
   "name": "python",
   "nbconvert_exporter": "python",
   "pygments_lexer": "ipython3",
   "version": "3.8.5"
  }
 },
 "nbformat": 4,
 "nbformat_minor": 5
}
