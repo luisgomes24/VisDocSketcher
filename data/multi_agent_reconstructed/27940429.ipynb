{
 "cells": [
  {
   "cell_type": "markdown",
   "id": "2974a1ba",
   "metadata": {},
   "source": [
    "This initializes the Weights and Biases project to track your experiments."
   ]
  },
  {
   "cell_type": "code",
   "execution_count": null,
   "id": "4a28d3a1",
   "metadata": {},
   "outputs": [],
   "source": [
    "import wandb\n",
    "\n",
    "# Initialize WandB project\n",
    "wandb.init(project='your_project_name')"
   ]
  },
  {
   "cell_type": "markdown",
   "id": "39fc6afa",
   "metadata": {},
   "source": [
    "Fetch the latest artifact containing the experiments from your WandB repository."
   ]
  },
  {
   "cell_type": "code",
   "execution_count": null,
   "id": "520ea070",
   "metadata": {},
   "outputs": [],
   "source": [
    "artifact = wandb.use_artifact('your_username/your_project_name/your_artifact_name:latest')"
   ]
  },
  {
   "cell_type": "markdown",
   "id": "11041453",
   "metadata": {},
   "source": [
    "Download the artifact, which includes experiment data, to your local machine."
   ]
  },
  {
   "cell_type": "code",
   "execution_count": null,
   "id": "9dfbf2af",
   "metadata": {},
   "outputs": [],
   "source": [
    "artifact.download()"
   ]
  },
  {
   "cell_type": "markdown",
   "id": "88885938",
   "metadata": {},
   "source": [
    "Specify the path where the downloaded experiments data is stored."
   ]
  },
  {
   "cell_type": "code",
   "execution_count": null,
   "id": "e93f5e44",
   "metadata": {},
   "outputs": [],
   "source": [
    "experiments_data = 'path/to/downloaded/experiments'"
   ]
  }
 ],
 "metadata": {
  "kernelspec": {
   "display_name": "Python 3",
   "language": "python",
   "name": "python3"
  },
  "language_info": {
   "codemirror_mode": {
    "name": "ipython",
    "version": 3
   },
   "file_extension": ".py",
   "mimetype": "text/x-python",
   "name": "python",
   "nbconvert_exporter": "python",
   "pygments_lexer": "ipython3",
   "version": "3.8.5"
  }
 },
 "nbformat": 4,
 "nbformat_minor": 5
}
