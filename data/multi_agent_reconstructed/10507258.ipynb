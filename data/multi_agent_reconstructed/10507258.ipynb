{
 "cells": [
  {
   "cell_type": "markdown",
   "id": "11c6d29d",
   "metadata": {},
   "source": [
    "Load data into a DataFrame using Pandas."
   ]
  },
  {
   "cell_type": "code",
   "execution_count": null,
   "id": "ca15a0f6",
   "metadata": {},
   "outputs": [],
   "source": [
    "import pandas as pd\n",
    "\n",
    "df = pd.read_csv('data.csv')"
   ]
  },
  {
   "cell_type": "markdown",
   "id": "9db0e463",
   "metadata": {},
   "source": [
    "Calculate the unique counts of each column."
   ]
  },
  {
   "cell_type": "code",
   "execution_count": null,
   "id": "c2b9cbf4",
   "metadata": {},
   "outputs": [],
   "source": [
    "unique_counts = df.nunique()"
   ]
  },
  {
   "cell_type": "markdown",
   "id": "d9a0940b",
   "metadata": {},
   "source": [
    "Plot the distribution of unique values for a specific column."
   ]
  },
  {
   "cell_type": "code",
   "execution_count": null,
   "id": "0e0d5f7c",
   "metadata": {},
   "outputs": [],
   "source": [
    "df['Category'].value_counts().plot(kind='bar')"
   ]
  },
  {
   "cell_type": "markdown",
   "id": "db92b815",
   "metadata": {},
   "source": [
    "Compute the correlation matrix for the DataFrame."
   ]
  },
  {
   "cell_type": "code",
   "execution_count": null,
   "id": "b64bf7ff",
   "metadata": {},
   "outputs": [],
   "source": [
    "correlation_matrix = df.corr()"
   ]
  },
  {
   "cell_type": "markdown",
   "id": "f43213c4",
   "metadata": {},
   "source": [
    "Visualize the correlation matrix using a heatmap."
   ]
  },
  {
   "cell_type": "code",
   "execution_count": null,
   "id": "36434343",
   "metadata": {},
   "outputs": [],
   "source": [
    "import seaborn as sns\n",
    "import matplotlib.pyplot as plt\n",
    "sns.heatmap(correlation_matrix, annot=True)\n",
    "plt.show()"
   ]
  },
  {
   "cell_type": "markdown",
   "id": "635ac32b",
   "metadata": {},
   "source": [
    "Retrieve the names of all columns in the DataFrame."
   ]
  },
  {
   "cell_type": "code",
   "execution_count": null,
   "id": "b63678ce",
   "metadata": {},
   "outputs": [],
   "source": [
    "df.columns.tolist()"
   ]
  },
  {
   "cell_type": "markdown",
   "id": "834147d5",
   "metadata": {},
   "source": [
    "Create a scatter plot matrix for the DataFrame."
   ]
  },
  {
   "cell_type": "code",
   "execution_count": null,
   "id": "be195ee1",
   "metadata": {},
   "outputs": [],
   "source": [
    "sns.pairplot(df)"
   ]
  }
 ],
 "metadata": {
  "kernelspec": {
   "display_name": "Python 3",
   "language": "python",
   "name": "python3"
  },
  "language_info": {
   "codemirror_mode": {
    "name": "ipython",
    "version": 3
   },
   "file_extension": ".py",
   "mimetype": "text/x-python",
   "name": "python",
   "nbconvert_exporter": "python",
   "pygments_lexer": "ipython3",
   "version": "3.8.5"
  }
 },
 "nbformat": 4,
 "nbformat_minor": 5
}
