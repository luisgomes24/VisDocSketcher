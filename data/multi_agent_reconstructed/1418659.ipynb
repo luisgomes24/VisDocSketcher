{
 "cells": [
  {
   "cell_type": "markdown",
   "id": "b3afa02b",
   "metadata": {},
   "source": [
    "This function rounds a number to two decimal places."
   ]
  },
  {
   "cell_type": "code",
   "execution_count": null,
   "id": "e91f880a",
   "metadata": {},
   "outputs": [],
   "source": [
    "def round_to_two_places(num):\n",
    "    return round(num, 2)"
   ]
  },
  {
   "cell_type": "markdown",
   "id": "49b3eb7f",
   "metadata": {},
   "source": [
    "This function calculates the candies left after sharing equally among friends."
   ]
  },
  {
   "cell_type": "code",
   "execution_count": null,
   "id": "a710c5a1",
   "metadata": {},
   "outputs": [],
   "source": [
    "def to_smash(total_candies, no_of_friends):\n",
    "    return total_candies % no_of_friends"
   ]
  }
 ],
 "metadata": {
  "kernelspec": {
   "display_name": "Python 3",
   "language": "python",
   "name": "python3"
  },
  "language_info": {
   "codemirror_mode": {
    "name": "ipython",
    "version": 3
   },
   "file_extension": ".py",
   "mimetype": "text/x-python",
   "name": "python",
   "nbconvert_exporter": "python",
   "pygments_lexer": "ipython3",
   "version": "3.8.5"
  }
 },
 "nbformat": 4,
 "nbformat_minor": 5
}
