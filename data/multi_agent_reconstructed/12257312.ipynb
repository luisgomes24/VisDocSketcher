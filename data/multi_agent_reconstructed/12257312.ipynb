{
 "cells": [
  {
   "cell_type": "markdown",
   "id": "1955e7d0",
   "metadata": {},
   "source": [
    "Read the CSV file containing 911 emergency call data."
   ]
  },
  {
   "cell_type": "code",
   "execution_count": null,
   "id": "8b156dc5",
   "metadata": {},
   "outputs": [],
   "source": [
    "import pandas as pd\n",
    "\n",
    "df = pd.read_csv('911.csv')"
   ]
  },
  {
   "cell_type": "markdown",
   "id": "0131cbec",
   "metadata": {},
   "source": [
    "Derive the reason for each call by extracting it from the title."
   ]
  },
  {
   "cell_type": "code",
   "execution_count": null,
   "id": "53834128",
   "metadata": {},
   "outputs": [],
   "source": [
    "df['Reason'] = df['title'].apply(lambda x: x.split(':')[0])"
   ]
  },
  {
   "cell_type": "markdown",
   "id": "51c60092",
   "metadata": {},
   "source": [
    "Extract the hour from the timestamp."
   ]
  },
  {
   "cell_type": "code",
   "execution_count": null,
   "id": "fd4d75d5",
   "metadata": {},
   "outputs": [],
   "source": [
    "df['Hour'] = pd.to_datetime(df['timeStamp']).dt.hour"
   ]
  },
  {
   "cell_type": "markdown",
   "id": "ff926df1",
   "metadata": {},
   "source": [
    "Extract the month from the timestamp."
   ]
  },
  {
   "cell_type": "code",
   "execution_count": null,
   "id": "af9b6628",
   "metadata": {},
   "outputs": [],
   "source": [
    "df['Month'] = pd.to_datetime(df['timeStamp']).dt.month"
   ]
  },
  {
   "cell_type": "markdown",
   "id": "1e167dc3",
   "metadata": {},
   "source": [
    "Get the day of the week from the timestamp."
   ]
  },
  {
   "cell_type": "code",
   "execution_count": null,
   "id": "a3860390",
   "metadata": {},
   "outputs": [],
   "source": [
    "df['DayOfWeek'] = pd.to_datetime(df['timeStamp']).dt.day_name()"
   ]
  },
  {
   "cell_type": "markdown",
   "id": "6ba292f7",
   "metadata": {},
   "source": [
    "Plot the reasons for calls in a bar chart for analysis."
   ]
  },
  {
   "cell_type": "code",
   "execution_count": null,
   "id": "172d60eb",
   "metadata": {},
   "outputs": [],
   "source": [
    "import matplotlib.pyplot as plt\n",
    "\n",
    "df['Reason'].value_counts().plot(kind='bar')\n",
    "plt.title('Reason-wise Analysis')\n",
    "plt.show()"
   ]
  },
  {
   "cell_type": "markdown",
   "id": "9c5ce904",
   "metadata": {},
   "source": [
    "Analyze and plot the number of calls per hour."
   ]
  },
  {
   "cell_type": "code",
   "execution_count": null,
   "id": "fbfa7598",
   "metadata": {},
   "outputs": [],
   "source": [
    "df.groupby('Hour').size().plot(kind='line')\n",
    "plt.title('Hourly Analysis')\n",
    "plt.show()"
   ]
  },
  {
   "cell_type": "markdown",
   "id": "cdfb3e40",
   "metadata": {},
   "source": [
    "Display monthly trends by plotting the number of calls per month."
   ]
  },
  {
   "cell_type": "code",
   "execution_count": null,
   "id": "73069d93",
   "metadata": {},
   "outputs": [],
   "source": [
    "df.groupby('Month').size().plot(kind='bar')\n",
    "plt.title('Month-wise Analysis')\n",
    "plt.show()"
   ]
  },
  {
   "cell_type": "markdown",
   "id": "fe82d13c",
   "metadata": {},
   "source": [
    "Plot weekly patterns by analyzing calls based on the day of the week."
   ]
  },
  {
   "cell_type": "code",
   "execution_count": null,
   "id": "9678c90b",
   "metadata": {},
   "outputs": [],
   "source": [
    "df.groupby('DayOfWeek').size().plot(kind='scatter', x='DayOfWeek', y='Hour')\n",
    "plt.title('Day-wise Analysis')\n",
    "plt.show()"
   ]
  }
 ],
 "metadata": {
  "kernelspec": {
   "display_name": "Python 3",
   "language": "python",
   "name": "python3"
  },
  "language_info": {
   "codemirror_mode": {
    "name": "ipython",
    "version": 3
   },
   "file_extension": ".py",
   "mimetype": "text/x-python",
   "name": "python",
   "nbconvert_exporter": "python",
   "pygments_lexer": "ipython3",
   "version": "3.8.5"
  }
 },
 "nbformat": 4,
 "nbformat_minor": 5
}
