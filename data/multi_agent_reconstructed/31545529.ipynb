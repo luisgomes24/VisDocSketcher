{
 "cells": [
  {
   "cell_type": "markdown",
   "id": "b9a7e223",
   "metadata": {},
   "source": [
    "Load the dataset from the specified CSV file."
   ]
  },
  {
   "cell_type": "code",
   "execution_count": null,
   "id": "f1b83172",
   "metadata": {},
   "outputs": [],
   "source": [
    "import pandas as pd\n",
    "\n",
    "data = pd.read_csv('/kaggle/input/coursera-free-courses-dataset/courserafree.csv')"
   ]
  },
  {
   "cell_type": "markdown",
   "id": "2638da9d",
   "metadata": {},
   "source": [
    "Preprocess the data by removing any missing values."
   ]
  },
  {
   "cell_type": "code",
   "execution_count": null,
   "id": "b6da4388",
   "metadata": {},
   "outputs": [],
   "source": [
    "data.dropna(inplace=True)"
   ]
  },
  {
   "cell_type": "markdown",
   "id": "9a0147a4",
   "metadata": {},
   "source": [
    "Define the main label 'ratings' for model training."
   ]
  },
  {
   "cell_type": "code",
   "execution_count": null,
   "id": "53e1defa",
   "metadata": {},
   "outputs": [],
   "source": [
    "y = data['ratings']"
   ]
  },
  {
   "cell_type": "markdown",
   "id": "776b5a41",
   "metadata": {},
   "source": [
    "Create feature set X by dropping the 'ratings' column from the dataset."
   ]
  },
  {
   "cell_type": "code",
   "execution_count": null,
   "id": "7b65302d",
   "metadata": {},
   "outputs": [],
   "source": [
    "X = data.drop(columns=['ratings'])"
   ]
  },
  {
   "cell_type": "markdown",
   "id": "71c98052",
   "metadata": {},
   "source": [
    "Create CatBoost Pools for training and testing datasets."
   ]
  },
  {
   "cell_type": "code",
   "execution_count": null,
   "id": "494d86f3",
   "metadata": {},
   "outputs": [],
   "source": [
    "from catboost import Pool\n",
    "\n",
    "train_data = Pool(X_train, label=y_train)\n",
    "test_data = Pool(X_test, label=y_test)"
   ]
  },
  {
   "cell_type": "markdown",
   "id": "36972d1f",
   "metadata": {},
   "source": [
    "Train the CatBoost regressor using the training data."
   ]
  },
  {
   "cell_type": "code",
   "execution_count": null,
   "id": "2485c19a",
   "metadata": {},
   "outputs": [],
   "source": [
    "from catboost import CatBoostRegressor\n",
    "\n",
    "model = CatBoostRegressor()\n",
    "model.fit(train_data)"
   ]
  }
 ],
 "metadata": {
  "kernelspec": {
   "display_name": "Python 3",
   "language": "python",
   "name": "python3"
  },
  "language_info": {
   "codemirror_mode": {
    "name": "ipython",
    "version": 3
   },
   "file_extension": ".py",
   "mimetype": "text/x-python",
   "name": "python",
   "nbconvert_exporter": "python",
   "pygments_lexer": "ipython3",
   "version": "3.8.5"
  }
 },
 "nbformat": 4,
 "nbformat_minor": 5
}
