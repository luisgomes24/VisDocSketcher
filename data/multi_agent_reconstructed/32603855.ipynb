{
 "cells": [
  {
   "cell_type": "markdown",
   "id": "efeadf15",
   "metadata": {},
   "source": [
    "Load training and test datasets from CSV files."
   ]
  },
  {
   "cell_type": "code",
   "execution_count": null,
   "id": "1102e67c",
   "metadata": {},
   "outputs": [],
   "source": [
    "import pandas as pd\n",
    "train_data = pd.read_csv('train.csv')\n",
    "test_data = pd.read_csv('test.csv')"
   ]
  },
  {
   "cell_type": "markdown",
   "id": "4615428d",
   "metadata": {},
   "source": [
    "Make a copy of the training data for processing."
   ]
  },
  {
   "cell_type": "code",
   "execution_count": null,
   "id": "3064458a",
   "metadata": {},
   "outputs": [],
   "source": [
    "train = train_data.copy()"
   ]
  },
  {
   "cell_type": "markdown",
   "id": "eae8cfa9",
   "metadata": {},
   "source": [
    "Separate the features (X) and the target variable (y) from the training set."
   ]
  },
  {
   "cell_type": "code",
   "execution_count": null,
   "id": "28491f45",
   "metadata": {},
   "outputs": [],
   "source": [
    "X = train.drop('target', axis=1)\n",
    "y = train['target']"
   ]
  },
  {
   "cell_type": "markdown",
   "id": "4ed06130",
   "metadata": {},
   "source": [
    "Split the data into training and cross-validation sets."
   ]
  },
  {
   "cell_type": "code",
   "execution_count": null,
   "id": "fb65a5b3",
   "metadata": {},
   "outputs": [],
   "source": [
    "from sklearn.model_selection import train_test_split\n",
    "X_train, X_cv, y_train, y_cv = train_test_split(X, y, test_size=0.2, random_state=42)"
   ]
  },
  {
   "cell_type": "markdown",
   "id": "bd497bb8",
   "metadata": {},
   "source": [
    "Initialize the XGBoost classifier."
   ]
  },
  {
   "cell_type": "code",
   "execution_count": null,
   "id": "621e3673",
   "metadata": {},
   "outputs": [],
   "source": [
    "from xgboost import XGBClassifier\n",
    "model = XGBClassifier()"
   ]
  },
  {
   "cell_type": "markdown",
   "id": "eb3efdd7",
   "metadata": {},
   "source": [
    "Train the XGBoost model on the training data."
   ]
  },
  {
   "cell_type": "code",
   "execution_count": null,
   "id": "6cb65a90",
   "metadata": {},
   "outputs": [],
   "source": [
    "model.fit(X_train, y_train)"
   ]
  },
  {
   "cell_type": "markdown",
   "id": "ffa883c6",
   "metadata": {},
   "source": [
    "Use the trained model to make predictions on the cross-validation set."
   ]
  },
  {
   "cell_type": "code",
   "execution_count": null,
   "id": "3b185d20",
   "metadata": {},
   "outputs": [],
   "source": [
    "models = model.predict(X_cv)"
   ]
  },
  {
   "cell_type": "markdown",
   "id": "d22551e5",
   "metadata": {},
   "source": [
    "Prepare the submission DataFrame and save it as a CSV file."
   ]
  },
  {
   "cell_type": "code",
   "execution_count": null,
   "id": "9aa6d73b",
   "metadata": {},
   "outputs": [],
   "source": [
    "submission = pd.DataFrame({'Id': test_data['Id'], 'Predicted': model.predict(test_data.drop('Id', axis=1))})\n",
    "submission.to_csv('submission.csv', index=False)"
   ]
  }
 ],
 "metadata": {
  "kernelspec": {
   "display_name": "Python 3",
   "language": "python",
   "name": "python3"
  },
  "language_info": {
   "codemirror_mode": {
    "name": "ipython",
    "version": 3
   },
   "file_extension": ".py",
   "mimetype": "text/x-python",
   "name": "python",
   "nbconvert_exporter": "python",
   "pygments_lexer": "ipython3",
   "version": "3.8.5"
  }
 },
 "nbformat": 4,
 "nbformat_minor": 5
}
