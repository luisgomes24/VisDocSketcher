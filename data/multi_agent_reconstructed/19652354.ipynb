{
 "cells": [
  {
   "cell_type": "markdown",
   "id": "ae414a04",
   "metadata": {},
   "source": [
    "Load the CSV file into a DataFrame."
   ]
  },
  {
   "cell_type": "code",
   "execution_count": null,
   "id": "081c96d8",
   "metadata": {},
   "outputs": [],
   "source": [
    "import pandas as pd\n",
    "df = pd.read_csv('Year 2010-2011.csv')"
   ]
  },
  {
   "cell_type": "markdown",
   "id": "12e567b0",
   "metadata": {},
   "source": [
    "Calculate the TotalPrice by multiplying Quantity and UnitPrice."
   ]
  },
  {
   "cell_type": "code",
   "execution_count": null,
   "id": "41be107e",
   "metadata": {},
   "outputs": [],
   "source": [
    "df['TotalPrice'] = df['Quantity'] * df['UnitPrice']"
   ]
  },
  {
   "cell_type": "markdown",
   "id": "c31e163a",
   "metadata": {},
   "source": [
    "Create a new DataFrame for RFM, aggregating recency, frequency, and monetary values."
   ]
  },
  {
   "cell_type": "code",
   "execution_count": null,
   "id": "4911989b",
   "metadata": {},
   "outputs": [],
   "source": [
    "rfm_df = df.groupby('CustomerID').agg(\n",
    "    recency=('InvoiceDate', lambda x: (df['InvoiceDate'].max() - x.max()).days),\n",
    "    frequency=('InvoiceNo', 'count'),\n",
    "    monetary=('TotalPrice', 'sum')\n",
    ").reset_index()"
   ]
  },
  {
   "cell_type": "markdown",
   "id": "b7345855",
   "metadata": {},
   "source": [
    "Calculate the RFM score based on ranking of recency, frequency, and monetary values."
   ]
  },
  {
   "cell_type": "code",
   "execution_count": null,
   "id": "cdc7a46c",
   "metadata": {},
   "outputs": [],
   "source": [
    "rfm_df['RFM_SCORE'] = (rfm_df['recency'].rank(ascending=False) + \n",
    "                                rfm_df['frequency'].rank(ascending=True) + \n",
    "                                rfm_df['monetary'].rank(ascending=True))"
   ]
  },
  {
   "cell_type": "markdown",
   "id": "e6a8854e",
   "metadata": {},
   "source": [
    "Segment customers into categories based on the RFM score."
   ]
  },
  {
   "cell_type": "code",
   "execution_count": null,
   "id": "03e75472",
   "metadata": {},
   "outputs": [],
   "source": [
    "rfm_df['Segment'] = pd.qcut(rfm_df['RFM_SCORE'], q=4, labels=['Low', 'Medium', 'High', 'Very High'])"
   ]
  }
 ],
 "metadata": {
  "kernelspec": {
   "display_name": "Python 3",
   "language": "python",
   "name": "python3"
  },
  "language_info": {
   "codemirror_mode": {
    "name": "ipython",
    "version": 3
   },
   "file_extension": ".py",
   "mimetype": "text/x-python",
   "name": "python",
   "nbconvert_exporter": "python",
   "pygments_lexer": "ipython3",
   "version": "3.8.5"
  }
 },
 "nbformat": 4,
 "nbformat_minor": 5
}
