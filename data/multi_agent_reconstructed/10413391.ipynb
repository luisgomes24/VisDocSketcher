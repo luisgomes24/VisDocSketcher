{
 "cells": [
  {
   "cell_type": "markdown",
   "id": "5cc0eea8",
   "metadata": {},
   "source": [
    "Load the dataset from a CSV file using Pandas."
   ]
  },
  {
   "cell_type": "code",
   "execution_count": null,
   "id": "a755b94c",
   "metadata": {},
   "outputs": [],
   "source": [
    "import pandas as pd\n",
    "\n",
    "# Load the dataset\n",
    "dataset = pd.read_csv('data.csv')"
   ]
  },
  {
   "cell_type": "markdown",
   "id": "eb2c2869",
   "metadata": {},
   "source": [
    "Split the dataset into training and testing sets."
   ]
  },
  {
   "cell_type": "code",
   "execution_count": null,
   "id": "a30a5408",
   "metadata": {},
   "outputs": [],
   "source": [
    "from sklearn.model_selection import train_test_split\n",
    "\n",
    "X_train, X_test, y_train, y_test = train_test_split(dataset.drop('target', axis=1), dataset['target'], test_size=0.2)"
   ]
  },
  {
   "cell_type": "markdown",
   "id": "298d5d52",
   "metadata": {},
   "source": [
    "Train a linear regression model on the training data."
   ]
  },
  {
   "cell_type": "code",
   "execution_count": null,
   "id": "d3b4e684",
   "metadata": {},
   "outputs": [],
   "source": [
    "from sklearn.linear_model import LinearRegression\n",
    "\n",
    "model_1 = LinearRegression()\n",
    "model_1.fit(X_train, y_train)"
   ]
  },
  {
   "cell_type": "markdown",
   "id": "40dd39b9",
   "metadata": {},
   "source": [
    "Visualize the results of Task 2 with a scatter plot and prediction line."
   ]
  },
  {
   "cell_type": "code",
   "execution_count": null,
   "id": "ea99c109",
   "metadata": {},
   "outputs": [],
   "source": [
    "import matplotlib.pyplot as plt\n",
    "\n",
    "plt.scatter(X_test['feature1'], y_test, color='blue')\n",
    "plt.plot(X_test['feature1'], model_1.predict(X_test), color='red')\n",
    "plt.show()"
   ]
  },
  {
   "cell_type": "markdown",
   "id": "be8d6046",
   "metadata": {},
   "source": [
    "Train a decision tree regressor model on the training data."
   ]
  },
  {
   "cell_type": "code",
   "execution_count": null,
   "id": "c53b4961",
   "metadata": {},
   "outputs": [],
   "source": [
    "from sklearn.tree import DecisionTreeRegressor\n",
    "\n",
    "model_2 = DecisionTreeRegressor()\n",
    "model_2.fit(X_train, y_train)"
   ]
  },
  {
   "cell_type": "markdown",
   "id": "3fa6c994",
   "metadata": {},
   "source": [
    "Visualize the predictions of the decision tree model for Task 3."
   ]
  },
  {
   "cell_type": "code",
   "execution_count": null,
   "id": "06c1ac74",
   "metadata": {},
   "outputs": [],
   "source": [
    "plt.plot(model_2.predict(X_test), marker='o')\n",
    "plt.title('Model 3 Predictions')\n",
    "plt.xlabel('Q1, Q2, Q3')\n",
    "plt.ylabel('Predicted Value')\n",
    "plt.show()"
   ]
  },
  {
   "cell_type": "markdown",
   "id": "28fac903",
   "metadata": {},
   "source": [
    "Compile results from the models into a DataFrame and save to a CSV file."
   ]
  },
  {
   "cell_type": "code",
   "execution_count": null,
   "id": "7754f476",
   "metadata": {},
   "outputs": [],
   "source": [
    "results = pd.DataFrame({'Actual': y_test, 'Model 1 Predictions': model_1.predict(X_test), 'Model 2 Predictions': model_2.predict(X_test)})\n",
    "results.to_csv('results.csv', index=False)"
   ]
  }
 ],
 "metadata": {
  "kernelspec": {
   "display_name": "Python 3",
   "language": "python",
   "name": "python3"
  },
  "language_info": {
   "codemirror_mode": {
    "name": "ipython",
    "version": 3
   },
   "file_extension": ".py",
   "mimetype": "text/x-python",
   "name": "python",
   "nbconvert_exporter": "python",
   "pygments_lexer": "ipython3",
   "version": "3.8.5"
  }
 },
 "nbformat": 4,
 "nbformat_minor": 5
}
