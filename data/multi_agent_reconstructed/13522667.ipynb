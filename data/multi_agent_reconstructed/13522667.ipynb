{
 "cells": [
  {
   "cell_type": "markdown",
   "id": "db0a5d3f",
   "metadata": {},
   "source": [
    "Load the CSV file containing raw data into a DataFrame."
   ]
  },
  {
   "cell_type": "code",
   "execution_count": null,
   "id": "feff63a8",
   "metadata": {},
   "outputs": [],
   "source": [
    "import pandas as pd\n",
    "data = pd.read_csv('data.csv')"
   ]
  },
  {
   "cell_type": "markdown",
   "id": "22603d5b",
   "metadata": {},
   "source": [
    "Standardize the 'Amount' and 'Time' columns using StandardScaler."
   ]
  },
  {
   "cell_type": "code",
   "execution_count": null,
   "id": "e47a7b41",
   "metadata": {},
   "outputs": [],
   "source": [
    "from sklearn.preprocessing import StandardScaler\n",
    "scaler = StandardScaler()\n",
    "data[['Amount', 'Time']] = scaler.fit_transform(data[['Amount', 'Time']])"
   ]
  },
  {
   "cell_type": "markdown",
   "id": "e90ba83a",
   "metadata": {},
   "source": [
    "Define features by dropping the target column from the DataFrame."
   ]
  },
  {
   "cell_type": "code",
   "execution_count": null,
   "id": "7aa85693",
   "metadata": {},
   "outputs": [],
   "source": [
    "X = data.drop('target_column', axis=1)"
   ]
  },
  {
   "cell_type": "markdown",
   "id": "ea158a61",
   "metadata": {},
   "source": [
    "Define the target variable by selecting the target column from the DataFrame."
   ]
  },
  {
   "cell_type": "code",
   "execution_count": null,
   "id": "d2d54be9",
   "metadata": {},
   "outputs": [],
   "source": [
    "y = data['target_column']"
   ]
  },
  {
   "cell_type": "markdown",
   "id": "ab33c4d0",
   "metadata": {},
   "source": [
    "Split the dataset into training and testing sets for features."
   ]
  },
  {
   "cell_type": "code",
   "execution_count": null,
   "id": "f419dffa",
   "metadata": {},
   "outputs": [],
   "source": [
    "from sklearn.model_selection import train_test_split\n",
    "X_train, X_test, y_train, y_test = train_test_split(X, y, test_size=0.2, random_state=42)"
   ]
  },
  {
   "cell_type": "markdown",
   "id": "96a19f3f",
   "metadata": {},
   "source": [
    "Apply random under-sampling to balance the classes in the training set."
   ]
  },
  {
   "cell_type": "code",
   "execution_count": null,
   "id": "619cabec",
   "metadata": {},
   "outputs": [],
   "source": [
    "from imblearn.under_sampling import RandomUnderSampler\n",
    "rus = RandomUnderSampler()\n",
    "X_rus, y_rus = rus.fit_resample(X_train, y_train)"
   ]
  },
  {
   "cell_type": "markdown",
   "id": "ae16af38",
   "metadata": {},
   "source": [
    "Train a Logistic Regression model using the under-sampled data."
   ]
  },
  {
   "cell_type": "code",
   "execution_count": null,
   "id": "24435ee4",
   "metadata": {},
   "outputs": [],
   "source": [
    "from sklearn.linear_model import LogisticRegression\n",
    "model_log = LogisticRegression()\n",
    "model_log.fit(X_rus, y_rus)"
   ]
  },
  {
   "cell_type": "markdown",
   "id": "a1ab959a",
   "metadata": {},
   "source": [
    "Make predictions using the Logistic Regression model on the test set."
   ]
  },
  {
   "cell_type": "code",
   "execution_count": null,
   "id": "7e8b457b",
   "metadata": {},
   "outputs": [],
   "source": [
    "y_pred_log = model_log.predict(X_test)"
   ]
  },
  {
   "cell_type": "markdown",
   "id": "bd476d63",
   "metadata": {},
   "source": [
    "Train a Decision Tree model using the same under-sampled data."
   ]
  },
  {
   "cell_type": "code",
   "execution_count": null,
   "id": "3da62174",
   "metadata": {},
   "outputs": [],
   "source": [
    "from sklearn.tree import DecisionTreeClassifier\n",
    "model_tree = DecisionTreeClassifier()\n",
    "model_tree.fit(X_rus, y_rus)"
   ]
  },
  {
   "cell_type": "markdown",
   "id": "2a31fd48",
   "metadata": {},
   "source": [
    "Make predictions using the Decision Tree model on the test set."
   ]
  },
  {
   "cell_type": "code",
   "execution_count": null,
   "id": "3365db7a",
   "metadata": {},
   "outputs": [],
   "source": [
    "y_pred_tree = model_tree.predict(X_test)"
   ]
  }
 ],
 "metadata": {
  "kernelspec": {
   "display_name": "Python 3",
   "language": "python",
   "name": "python3"
  },
  "language_info": {
   "codemirror_mode": {
    "name": "ipython",
    "version": 3
   },
   "file_extension": ".py",
   "mimetype": "text/x-python",
   "name": "python",
   "nbconvert_exporter": "python",
   "pygments_lexer": "ipython3",
   "version": "3.8.5"
  }
 },
 "nbformat": 4,
 "nbformat_minor": 5
}
