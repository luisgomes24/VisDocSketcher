{
 "cells": [
  {
   "cell_type": "markdown",
   "id": "5bf791bb",
   "metadata": {},
   "source": [
    "Load data from the CSV file containing civilian employment levels."
   ]
  },
  {
   "cell_type": "code",
   "execution_count": null,
   "id": "8cfb8e96",
   "metadata": {},
   "outputs": [],
   "source": [
    "import pandas as pd\n",
    "\n",
    "data = pd.read_csv('Civilian Employment Level.csv')"
   ]
  },
  {
   "cell_type": "markdown",
   "id": "2ae061e2",
   "metadata": {},
   "source": [
    "Save the loaded data to a new CSV file."
   ]
  },
  {
   "cell_type": "code",
   "execution_count": null,
   "id": "c3f906be",
   "metadata": {},
   "outputs": [],
   "source": [
    "data.to_csv('Civilian Employment Level_1.csv')"
   ]
  },
  {
   "cell_type": "markdown",
   "id": "de99746a",
   "metadata": {},
   "source": [
    "Split the data into features (X) and target variable (y)."
   ]
  },
  {
   "cell_type": "code",
   "execution_count": null,
   "id": "dbc3094f",
   "metadata": {},
   "outputs": [],
   "source": [
    "X = data.drop('target_column', axis=1)\n",
    "y = data['target_column']"
   ]
  },
  {
   "cell_type": "markdown",
   "id": "eec0f041",
   "metadata": {},
   "source": [
    "Divide the dataset into training and test sets."
   ]
  },
  {
   "cell_type": "code",
   "execution_count": null,
   "id": "5ac11f6c",
   "metadata": {},
   "outputs": [],
   "source": [
    "from sklearn.model_selection import train_test_split\n",
    "X_train, X_test, y_train, y_test = train_test_split(X, y, test_size=0.2)"
   ]
  },
  {
   "cell_type": "markdown",
   "id": "08949c5b",
   "metadata": {},
   "source": [
    "Initialize and train a linear regression model on the training set."
   ]
  },
  {
   "cell_type": "code",
   "execution_count": null,
   "id": "b9bb816f",
   "metadata": {},
   "outputs": [],
   "source": [
    "from sklearn.linear_model import LinearRegression\n",
    "model = LinearRegression()\n",
    "model.fit(X_train, y_train)"
   ]
  },
  {
   "cell_type": "markdown",
   "id": "b28548b5",
   "metadata": {},
   "source": [
    "Create a plot to visualize the predicted vs true values."
   ]
  },
  {
   "cell_type": "code",
   "execution_count": null,
   "id": "b9eec773",
   "metadata": {},
   "outputs": [],
   "source": [
    "import matplotlib.pyplot as plt\n",
    "plt.plot(y_test, model.predict(X_test))\n",
    "plt.xlabel('True Values')\n",
    "plt.ylabel('Predictions')\n",
    "plt.title('Output Plot')\n",
    "plt.show()"
   ]
  }
 ],
 "metadata": {
  "kernelspec": {
   "display_name": "Python 3",
   "language": "python",
   "name": "python3"
  },
  "language_info": {
   "codemirror_mode": {
    "name": "ipython",
    "version": 3
   },
   "file_extension": ".py",
   "mimetype": "text/x-python",
   "name": "python",
   "nbconvert_exporter": "python",
   "pygments_lexer": "ipython3",
   "version": "3.8.5"
  }
 },
 "nbformat": 4,
 "nbformat_minor": 5
}
