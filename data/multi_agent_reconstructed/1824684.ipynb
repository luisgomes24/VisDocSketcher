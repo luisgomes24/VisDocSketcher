{
 "cells": [
  {
   "cell_type": "markdown",
   "id": "09c7026b",
   "metadata": {},
   "source": [
    "Read the CSV file into a DataFrame called `home_data`."
   ]
  },
  {
   "cell_type": "code",
   "execution_count": null,
   "id": "251d4ba7",
   "metadata": {},
   "outputs": [],
   "source": [
    "import pandas as pd\n",
    "home_data = pd.read_csv('../input/home-data-for-ml-course/train.csv')"
   ]
  },
  {
   "cell_type": "markdown",
   "id": "4e9026e8",
   "metadata": {},
   "source": [
    "Extract the target variable 'SalePrice' into variable `y`."
   ]
  },
  {
   "cell_type": "code",
   "execution_count": null,
   "id": "d860a90e",
   "metadata": {},
   "outputs": [],
   "source": [
    "y = home_data['SalePrice']"
   ]
  },
  {
   "cell_type": "markdown",
   "id": "4309e8df",
   "metadata": {},
   "source": [
    "Split `y` into training and validation sets: `train_y` and `val_y`."
   ]
  },
  {
   "cell_type": "code",
   "execution_count": null,
   "id": "fc5d2f75",
   "metadata": {},
   "outputs": [],
   "source": [
    "from sklearn.model_selection import train_test_split\n",
    "train_y, val_y = train_test_split(y, test_size=0.2, random_state=42)"
   ]
  },
  {
   "cell_type": "markdown",
   "id": "7e7b79e3",
   "metadata": {},
   "source": [
    "Select relevant features by dropping 'SalePrice' from `home_data`."
   ]
  },
  {
   "cell_type": "code",
   "execution_count": null,
   "id": "46f8f694",
   "metadata": {},
   "outputs": [],
   "source": [
    "X = home_data.drop('SalePrice', axis=1)"
   ]
  },
  {
   "cell_type": "markdown",
   "id": "f90840ee",
   "metadata": {},
   "source": [
    "Split `X` into training and validation sets: `train_X` and `val_X`."
   ]
  },
  {
   "cell_type": "code",
   "execution_count": null,
   "id": "06a1b121",
   "metadata": {},
   "outputs": [],
   "source": [
    "train_X, val_X = train_test_split(X, test_size=0.2, random_state=42)"
   ]
  },
  {
   "cell_type": "markdown",
   "id": "bd23ec81",
   "metadata": {},
   "source": [
    "Train a linear regression model using `train_X` and `train_y`."
   ]
  },
  {
   "cell_type": "code",
   "execution_count": null,
   "id": "fab115f2",
   "metadata": {},
   "outputs": [],
   "source": [
    "from sklearn.linear_model import LinearRegression\n",
    "iowa_model = LinearRegression()\n",
    "iowa_model.fit(train_X, train_y)"
   ]
  },
  {
   "cell_type": "markdown",
   "id": "be232e30",
   "metadata": {},
   "source": [
    "Predict values using the validation features `val_X`."
   ]
  },
  {
   "cell_type": "code",
   "execution_count": null,
   "id": "62e5463f",
   "metadata": {},
   "outputs": [],
   "source": [
    "val_predictions = iowa_model.predict(val_X)"
   ]
  },
  {
   "cell_type": "markdown",
   "id": "f0c75270",
   "metadata": {},
   "source": [
    "Calculate the Mean Absolute Error (MAE) between `val_y` and `val_predictions`."
   ]
  },
  {
   "cell_type": "code",
   "execution_count": null,
   "id": "561f9534",
   "metadata": {},
   "outputs": [],
   "source": [
    "from sklearn.metrics import mean_absolute_error\n",
    "val_mae = mean_absolute_error(val_y, val_predictions)"
   ]
  },
  {
   "cell_type": "markdown",
   "id": "3bc836c7",
   "metadata": {},
   "source": [
    "Assess model performance by storing the trained model as `final_model`."
   ]
  },
  {
   "cell_type": "code",
   "execution_count": null,
   "id": "3f3e5979",
   "metadata": {},
   "outputs": [],
   "source": [
    "final_model = iowa_model"
   ]
  }
 ],
 "metadata": {
  "kernelspec": {
   "display_name": "Python 3",
   "language": "python",
   "name": "python3"
  },
  "language_info": {
   "codemirror_mode": {
    "name": "ipython",
    "version": 3
   },
   "file_extension": ".py",
   "mimetype": "text/x-python",
   "name": "python",
   "nbconvert_exporter": "python",
   "pygments_lexer": "ipython3",
   "version": "3.8.5"
  }
 },
 "nbformat": 4,
 "nbformat_minor": 5
}
