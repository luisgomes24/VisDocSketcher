{
 "cells": [
  {
   "cell_type": "markdown",
   "id": "a7a1cb31",
   "metadata": {},
   "source": [
    "This step indicates the beginning of the workflow."
   ]
  },
  {
   "cell_type": "code",
   "execution_count": null,
   "id": "553b9881",
   "metadata": {},
   "outputs": [],
   "source": [
    "print('Start')"
   ]
  },
  {
   "cell_type": "markdown",
   "id": "861b6ae1",
   "metadata": {},
   "source": [
    "This function represents the first action to be performed."
   ]
  },
  {
   "cell_type": "code",
   "execution_count": null,
   "id": "99950efc",
   "metadata": {},
   "outputs": [],
   "source": [
    "action_1_result = action_1()"
   ]
  },
  {
   "cell_type": "markdown",
   "id": "2d60f153",
   "metadata": {},
   "source": [
    "This function represents the second action, using the result of Action 1."
   ]
  },
  {
   "cell_type": "code",
   "execution_count": null,
   "id": "dc8c976d",
   "metadata": {},
   "outputs": [],
   "source": [
    "action_2_result = action_2(action_1_result)"
   ]
  },
  {
   "cell_type": "markdown",
   "id": "3f7a1c37",
   "metadata": {},
   "source": [
    "This step indicates the completion of the workflow."
   ]
  },
  {
   "cell_type": "code",
   "execution_count": null,
   "id": "77af6f1b",
   "metadata": {},
   "outputs": [],
   "source": [
    "print('End')"
   ]
  }
 ],
 "metadata": {
  "kernelspec": {
   "display_name": "Python 3",
   "language": "python",
   "name": "python3"
  },
  "language_info": {
   "codemirror_mode": {
    "name": "ipython",
    "version": 3
   },
   "file_extension": ".py",
   "mimetype": "text/x-python",
   "name": "python",
   "nbconvert_exporter": "python",
   "pygments_lexer": "ipython3",
   "version": "3.8.5"
  }
 },
 "nbformat": 4,
 "nbformat_minor": 5
}
