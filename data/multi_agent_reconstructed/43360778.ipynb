{
 "cells": [
  {
   "cell_type": "markdown",
   "id": "95fae2cb",
   "metadata": {},
   "source": [
    "Load a JSON Lines file containing riddles into a Python list."
   ]
  },
  {
   "cell_type": "code",
   "execution_count": null,
   "id": "d3222c8e",
   "metadata": {},
   "outputs": [],
   "source": [
    "import json\n",
    "\n",
    "with open('riddles.jsonl', 'r') as file:\n",
    "    data = [json.loads(line) for line in file]"
   ]
  }
 ],
 "metadata": {
  "kernelspec": {
   "display_name": "Python 3",
   "language": "python",
   "name": "python3"
  },
  "language_info": {
   "codemirror_mode": {
    "name": "ipython",
    "version": 3
   },
   "file_extension": ".py",
   "mimetype": "text/x-python",
   "name": "python",
   "nbconvert_exporter": "python",
   "pygments_lexer": "ipython3",
   "version": "3.8.5"
  }
 },
 "nbformat": 4,
 "nbformat_minor": 5
}
