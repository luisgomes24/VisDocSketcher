{
 "cells": [
  {
   "cell_type": "markdown",
   "id": "946ec308",
   "metadata": {},
   "source": [
    "Load the SMS Spam Collection dataset using pandas."
   ]
  },
  {
   "cell_type": "code",
   "execution_count": null,
   "id": "01ab5ab9",
   "metadata": {},
   "outputs": [],
   "source": [
    "import pandas as pd\n",
    "\n",
    "# Load the dataset\n",
    "file_path = 'path_to_sms_spam_collection.csv'\n",
    "df = pd.read_csv(file_path)"
   ]
  },
  {
   "cell_type": "markdown",
   "id": "3e9200cd",
   "metadata": {},
   "source": [
    "Extract features (messages) and target labels from the DataFrame."
   ]
  },
  {
   "cell_type": "code",
   "execution_count": null,
   "id": "0e22f76c",
   "metadata": {},
   "outputs": [],
   "source": [
    "X = df['message']\n",
    "Y = df['label']"
   ]
  },
  {
   "cell_type": "markdown",
   "id": "57193fe3",
   "metadata": {},
   "source": [
    "Split the dataset into training and testing sets."
   ]
  },
  {
   "cell_type": "code",
   "execution_count": null,
   "id": "11cab149",
   "metadata": {},
   "outputs": [],
   "source": [
    "from sklearn.model_selection import train_test_split\n",
    "X_train, X_test, Y_train, Y_test = train_test_split(X, Y, test_size=0.2, random_state=42)"
   ]
  },
  {
   "cell_type": "markdown",
   "id": "a8df2ecc",
   "metadata": {},
   "source": [
    "Transform the training and testing data using CountVectorizer."
   ]
  },
  {
   "cell_type": "code",
   "execution_count": null,
   "id": "53fa9993",
   "metadata": {},
   "outputs": [],
   "source": [
    "from sklearn.feature_extraction.text import CountVectorizer\n",
    "count_vectorizer = CountVectorizer()\n",
    "X_train_cv = count_vectorizer.fit_transform(X_train)\n",
    "X_test_cv = count_vectorizer.transform(X_test)"
   ]
  },
  {
   "cell_type": "markdown",
   "id": "61cc6c6e",
   "metadata": {},
   "source": [
    "Transform the training and testing data using TfidfVectorizer."
   ]
  },
  {
   "cell_type": "code",
   "execution_count": null,
   "id": "acd6486a",
   "metadata": {},
   "outputs": [],
   "source": [
    "from sklearn.feature_extraction.text import TfidfVectorizer\n",
    "tfidf_vectorizer = TfidfVectorizer()\n",
    "X_train_tf = tfidf_vectorizer.fit_transform(X_train)\n",
    "X_test_tf = tfidf_vectorizer.transform(X_test)"
   ]
  },
  {
   "cell_type": "markdown",
   "id": "74b65a6d",
   "metadata": {},
   "source": [
    "Train the Multinomial Naive Bayes model with training data."
   ]
  },
  {
   "cell_type": "code",
   "execution_count": null,
   "id": "683660cf",
   "metadata": {},
   "outputs": [],
   "source": [
    "from sklearn.naive_bayes import MultinomialNB\n",
    "model = MultinomialNB()\n",
    "model.fit(X_train_cv, Y_train)"
   ]
  },
  {
   "cell_type": "markdown",
   "id": "ed850b9d",
   "metadata": {},
   "source": [
    "Make predictions on the test set using the CountVectorizer model."
   ]
  },
  {
   "cell_type": "code",
   "execution_count": null,
   "id": "a1202796",
   "metadata": {},
   "outputs": [],
   "source": [
    "predictions_cv = model.predict(X_test_cv)"
   ]
  },
  {
   "cell_type": "markdown",
   "id": "ecffc3a6",
   "metadata": {},
   "source": [
    "Train the model with Tfidf data and make predictions."
   ]
  },
  {
   "cell_type": "code",
   "execution_count": null,
   "id": "3ab838aa",
   "metadata": {},
   "outputs": [],
   "source": [
    "model.fit(X_train_tf, Y_train)\n",
    "predictions_tf = model.predict(X_test_tf)"
   ]
  }
 ],
 "metadata": {
  "kernelspec": {
   "display_name": "Python 3",
   "language": "python",
   "name": "python3"
  },
  "language_info": {
   "codemirror_mode": {
    "name": "ipython",
    "version": 3
   },
   "file_extension": ".py",
   "mimetype": "text/x-python",
   "name": "python",
   "nbconvert_exporter": "python",
   "pygments_lexer": "ipython3",
   "version": "3.8.5"
  }
 },
 "nbformat": 4,
 "nbformat_minor": 5
}
