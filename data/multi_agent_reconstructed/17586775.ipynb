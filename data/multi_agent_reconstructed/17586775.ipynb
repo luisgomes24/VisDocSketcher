{
 "cells": [
  {
   "cell_type": "markdown",
   "id": "9df442cd",
   "metadata": {},
   "source": [
    "This step loads the training images from a specified folder using OpenCV."
   ]
  },
  {
   "cell_type": "code",
   "execution_count": null,
   "id": "52ea9bfc",
   "metadata": {},
   "outputs": [],
   "source": [
    "import os\n",
    "import cv2\n",
    "import matplotlib.pyplot as plt\n",
    "\n",
    "# Load training images\n",
    "def load_images_from_folder(folder):\n",
    "    images = []\n",
    "    for filename in os.listdir(folder):\n",
    "        img = cv2.imread(os.path.join(folder, filename))\n",
    "        if img is not None:\n",
    "            images.append(img)\n",
    "    return images\n",
    "\n",
    "train_images = load_images_from_folder('path/to/train/images')"
   ]
  },
  {
   "cell_type": "markdown",
   "id": "869947f7",
   "metadata": {},
   "source": [
    "This function plots the color value distribution of the training images."
   ]
  },
  {
   "cell_type": "code",
   "execution_count": null,
   "id": "f430a131",
   "metadata": {},
   "outputs": [],
   "source": [
    "def plot_data_distribution(images):\n",
    "    values = []\n",
    "    for img in images:\n",
    "        values.extend(img.flatten())  # Flatten to get color values\n",
    "    plt.hist(values, bins=30, color='gold', edgecolor='black')\n",
    "    plt.title('Training Data Distribution')\n",
    "    plt.xlabel('Value Range')\n",
    "    plt.ylabel('Frequency')\n",
    "    plt.show()\n",
    "\n",
    "plot_data_distribution(train_images)"
   ]
  },
  {
   "cell_type": "markdown",
   "id": "0d5ed1ee",
   "metadata": {},
   "source": [
    "This step loads the testing images from a specified folder."
   ]
  },
  {
   "cell_type": "code",
   "execution_count": null,
   "id": "df5db59f",
   "metadata": {},
   "outputs": [],
   "source": [
    "test_images = load_images_from_folder('path/to/test/images')"
   ]
  },
  {
   "cell_type": "markdown",
   "id": "9af5acef",
   "metadata": {},
   "source": [
    "This function plots the color value distribution of the testing images."
   ]
  },
  {
   "cell_type": "code",
   "execution_count": null,
   "id": "76150057",
   "metadata": {},
   "outputs": [],
   "source": [
    "plot_data_distribution(test_images)"
   ]
  }
 ],
 "metadata": {
  "kernelspec": {
   "display_name": "Python 3",
   "language": "python",
   "name": "python3"
  },
  "language_info": {
   "codemirror_mode": {
    "name": "ipython",
    "version": 3
   },
   "file_extension": ".py",
   "mimetype": "text/x-python",
   "name": "python",
   "nbconvert_exporter": "python",
   "pygments_lexer": "ipython3",
   "version": "3.8.5"
  }
 },
 "nbformat": 4,
 "nbformat_minor": 5
}
