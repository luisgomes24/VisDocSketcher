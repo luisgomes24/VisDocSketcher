{
 "cells": [
  {
   "cell_type": "markdown",
   "id": "0e365ddb",
   "metadata": {},
   "source": [
    "Load training images using the `ImageDataGenerator` and prepare them for training."
   ]
  },
  {
   "cell_type": "code",
   "execution_count": null,
   "id": "f20fc55e",
   "metadata": {},
   "outputs": [],
   "source": [
    "from tensorflow.keras.preprocessing.image import ImageDataGenerator\n",
    "\n",
    "datagen = ImageDataGenerator(rescale=1./255)\n",
    "train_generator = datagen.flow_from_directory('train_directory', target_size=(150, 150), batch_size=32, class_mode='categorical')"
   ]
  },
  {
   "cell_type": "markdown",
   "id": "1d1ec0d5",
   "metadata": {},
   "source": [
    "Load test images from a separate directory to evaluate the model performance."
   ]
  },
  {
   "cell_type": "code",
   "execution_count": null,
   "id": "28c38f7e",
   "metadata": {},
   "outputs": [],
   "source": [
    "test_generator = datagen.flow_from_directory('test_directory', target_size=(150, 150), batch_size=32, class_mode='categorical')"
   ]
  },
  {
   "cell_type": "markdown",
   "id": "e349f970",
   "metadata": {},
   "source": [
    "Define a Convolutional Neural Network (CNN) model architecture."
   ]
  },
  {
   "cell_type": "code",
   "execution_count": null,
   "id": "3c7df2a4",
   "metadata": {},
   "outputs": [],
   "source": [
    "model = Sequential()\n",
    "model.add(Conv2D(32, (3, 3), activation='relu', input_shape=(150, 150, 3)))\n",
    "model.add(MaxPooling2D(pool_size=(2, 2)))\n",
    "model.add(Flatten())\n",
    "model.add(Dense(64, activation='relu'))\n",
    "model.add(Dense(num_classes, activation='softmax'))"
   ]
  },
  {
   "cell_type": "markdown",
   "id": "cd8113cc",
   "metadata": {},
   "source": [
    "Compile the model with an optimizer and loss function suitable for multi-class classification."
   ]
  },
  {
   "cell_type": "code",
   "execution_count": null,
   "id": "491e6c1a",
   "metadata": {},
   "outputs": [],
   "source": [
    "model.compile(optimizer='adam', loss='categorical_crossentropy', metrics=['accuracy'])"
   ]
  },
  {
   "cell_type": "markdown",
   "id": "7329b3cc",
   "metadata": {},
   "source": [
    "Train the model using the training dataset and validate it with the validation dataset."
   ]
  },
  {
   "cell_type": "code",
   "execution_count": null,
   "id": "b99f5cec",
   "metadata": {},
   "outputs": [],
   "source": [
    "history = model.fit(train_generator, validation_data=validation_generator, epochs=10)"
   ]
  },
  {
   "cell_type": "markdown",
   "id": "dc2af8fb",
   "metadata": {},
   "source": [
    "Evaluate the model performance on the test dataset."
   ]
  },
  {
   "cell_type": "code",
   "execution_count": null,
   "id": "fb75fa98",
   "metadata": {},
   "outputs": [],
   "source": [
    "test_loss, test_acc = model.evaluate(test_generator)"
   ]
  },
  {
   "cell_type": "markdown",
   "id": "b3312d23",
   "metadata": {},
   "source": [
    "Plot the training and validation accuracy over epochs to visualize model performance."
   ]
  },
  {
   "cell_type": "code",
   "execution_count": null,
   "id": "05b7f1b9",
   "metadata": {},
   "outputs": [],
   "source": [
    "import matplotlib.pyplot as plt\n",
    "\n",
    "plt.plot(history.history['accuracy'], label='accuracy')\n",
    "plt.plot(history.history['val_accuracy'], label='val_accuracy')\n",
    "plt.xlabel('Epoch')\n",
    "plt.ylabel('Accuracy')\n",
    "plt.legend(loc='upper left')\n",
    "plt.show()"
   ]
  }
 ],
 "metadata": {
  "kernelspec": {
   "display_name": "Python 3",
   "language": "python",
   "name": "python3"
  },
  "language_info": {
   "codemirror_mode": {
    "name": "ipython",
    "version": 3
   },
   "file_extension": ".py",
   "mimetype": "text/x-python",
   "name": "python",
   "nbconvert_exporter": "python",
   "pygments_lexer": "ipython3",
   "version": "3.8.5"
  }
 },
 "nbformat": 4,
 "nbformat_minor": 5
}
