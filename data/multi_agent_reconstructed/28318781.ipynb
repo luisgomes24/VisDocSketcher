{
 "cells": [
  {
   "cell_type": "markdown",
   "id": "42d7afc1",
   "metadata": {},
   "source": [
    "Create a DataFrame 'df' with random values and a categorical feature 'cats'."
   ]
  },
  {
   "cell_type": "code",
   "execution_count": null,
   "id": "742eca8c",
   "metadata": {},
   "outputs": [],
   "source": [
    "import pandas as pd\n",
    "import numpy as np\n",
    "\n",
    "df = pd.DataFrame(np.random.rand(100, 5), columns=['A', 'B', 'C', 'D', 'cats'])"
   ]
  },
  {
   "cell_type": "markdown",
   "id": "d8c6ebaa",
   "metadata": {},
   "source": [
    "Convert the DataFrame 'df' to an NVTabular Dataset 'ds'."
   ]
  },
  {
   "cell_type": "code",
   "execution_count": null,
   "id": "79952bb9",
   "metadata": {},
   "outputs": [],
   "source": [
    "from nvtabular import Dataset\n",
    "dataset = Dataset(df)"
   ]
  },
  {
   "cell_type": "markdown",
   "id": "edc21e2f",
   "metadata": {},
   "source": [
    "Define a pipeline that includes hashing for the 'cats' feature."
   ]
  },
  {
   "cell_type": "code",
   "execution_count": null,
   "id": "582a62a3",
   "metadata": {},
   "outputs": [],
   "source": [
    "from nvtabular import Pipeline\n",
    "pipeline = Pipeline(aggregations=[('cats', 'hash')])"
   ]
  },
  {
   "cell_type": "markdown",
   "id": "f9c98726",
   "metadata": {},
   "source": [
    "Fit the pipeline to the dataset to create a workflow 'wf'."
   ]
  },
  {
   "cell_type": "code",
   "execution_count": null,
   "id": "e69b54b6",
   "metadata": {},
   "outputs": [],
   "source": [
    "workflow = pipeline.fit(dataset)"
   ]
  },
  {
   "cell_type": "markdown",
   "id": "b63708a0",
   "metadata": {},
   "source": [
    "Run fit_transform on the workflow to obtain the final output 'o'."
   ]
  },
  {
   "cell_type": "code",
   "execution_count": null,
   "id": "ac22e80a",
   "metadata": {},
   "outputs": [],
   "source": [
    "output = workflow.fit_transform(dataset)"
   ]
  }
 ],
 "metadata": {
  "kernelspec": {
   "display_name": "Python 3",
   "language": "python",
   "name": "python3"
  },
  "language_info": {
   "codemirror_mode": {
    "name": "ipython",
    "version": 3
   },
   "file_extension": ".py",
   "mimetype": "text/x-python",
   "name": "python",
   "nbconvert_exporter": "python",
   "pygments_lexer": "ipython3",
   "version": "3.8.5"
  }
 },
 "nbformat": 4,
 "nbformat_minor": 5
}
