{
 "cells": [
  {
   "cell_type": "markdown",
   "id": "5835da61",
   "metadata": {},
   "source": [
    "Load the dataset from a CSV file into a DataFrame."
   ]
  },
  {
   "cell_type": "code",
   "execution_count": null,
   "id": "9d04ad4d",
   "metadata": {},
   "outputs": [],
   "source": [
    "import pandas as pd\n",
    "\n",
    "df = pd.read_csv('housetrain.csv')"
   ]
  },
  {
   "cell_type": "markdown",
   "id": "b5a91123",
   "metadata": {},
   "source": [
    "Select columns of type float from the DataFrame."
   ]
  },
  {
   "cell_type": "code",
   "execution_count": null,
   "id": "834cbce3",
   "metadata": {},
   "outputs": [],
   "source": [
    "df_float = df.select_dtypes(include=['float64'])"
   ]
  },
  {
   "cell_type": "markdown",
   "id": "27cb8fcb",
   "metadata": {},
   "source": [
    "Extract the 'LotFrontage' column from the float DataFrame."
   ]
  },
  {
   "cell_type": "code",
   "execution_count": null,
   "id": "d78a8d69",
   "metadata": {},
   "outputs": [],
   "source": [
    "lotFrontage = df_float['LotFrontage']"
   ]
  },
  {
   "cell_type": "markdown",
   "id": "cf9670f9",
   "metadata": {},
   "source": [
    "Calculate the mean of the 'LotFrontage' column."
   ]
  },
  {
   "cell_type": "code",
   "execution_count": null,
   "id": "841eec89",
   "metadata": {},
   "outputs": [],
   "source": [
    "lr1 = lotFrontage.mean()"
   ]
  },
  {
   "cell_type": "markdown",
   "id": "36101079",
   "metadata": {},
   "source": [
    "Extract the 'MasVnrArea' column from the float DataFrame."
   ]
  },
  {
   "cell_type": "code",
   "execution_count": null,
   "id": "1abb0544",
   "metadata": {},
   "outputs": [],
   "source": [
    "masVnrAre = df_float['MasVnrArea']"
   ]
  },
  {
   "cell_type": "markdown",
   "id": "5571bb08",
   "metadata": {},
   "source": [
    "Extract the 'SalePrice' column from the original DataFrame."
   ]
  },
  {
   "cell_type": "code",
   "execution_count": null,
   "id": "a3a021b7",
   "metadata": {},
   "outputs": [],
   "source": [
    "salePrice = df['SalePrice']"
   ]
  },
  {
   "cell_type": "markdown",
   "id": "65169467",
   "metadata": {},
   "source": [
    "Calculate the mean product of 'MasVnrArea' and 'SalePrice'."
   ]
  },
  {
   "cell_type": "code",
   "execution_count": null,
   "id": "d22115ac",
   "metadata": {},
   "outputs": [],
   "source": [
    "lr2 = (masVnrAre * salePrice).mean()"
   ]
  },
  {
   "cell_type": "markdown",
   "id": "6bdf0b76",
   "metadata": {},
   "source": [
    "Extract the 'GarageYrBlt' column from the original DataFrame."
   ]
  },
  {
   "cell_type": "code",
   "execution_count": null,
   "id": "3b12d062",
   "metadata": {},
   "outputs": [],
   "source": [
    "garageYrBlt = df['GarageYrBlt']"
   ]
  },
  {
   "cell_type": "markdown",
   "id": "4c8a40ce",
   "metadata": {},
   "source": [
    "Calculate the mean of the 'GarageYrBlt' column."
   ]
  },
  {
   "cell_type": "code",
   "execution_count": null,
   "id": "96898749",
   "metadata": {},
   "outputs": [],
   "source": [
    "lr3 = garageYrBlt.mean()"
   ]
  }
 ],
 "metadata": {
  "kernelspec": {
   "display_name": "Python 3",
   "language": "python",
   "name": "python3"
  },
  "language_info": {
   "codemirror_mode": {
    "name": "ipython",
    "version": 3
   },
   "file_extension": ".py",
   "mimetype": "text/x-python",
   "name": "python",
   "nbconvert_exporter": "python",
   "pygments_lexer": "ipython3",
   "version": "3.8.5"
  }
 },
 "nbformat": 4,
 "nbformat_minor": 5
}
