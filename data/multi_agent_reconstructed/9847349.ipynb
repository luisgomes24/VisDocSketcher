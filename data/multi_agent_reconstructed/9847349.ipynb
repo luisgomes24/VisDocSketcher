{
 "cells": [
  {
   "cell_type": "markdown",
   "id": "9fa830b0",
   "metadata": {},
   "source": [
    "Load the necessary libraries and read the CSV files into DataFrames."
   ]
  },
  {
   "cell_type": "code",
   "execution_count": null,
   "id": "7a865f2a",
   "metadata": {},
   "outputs": [],
   "source": [
    "import pandas as pd\n",
    "\n",
    "# Read the data\n",
    " fatal_data = pd.read_csv('fatal-police-shootings-data.csv')\n",
    "population_data = pd.read_csv('State Populations.csv')"
   ]
  },
  {
   "cell_type": "markdown",
   "id": "d8ccf517",
   "metadata": {},
   "source": [
    "Create a copy of the fatal data for further analysis."
   ]
  },
  {
   "cell_type": "code",
   "execution_count": null,
   "id": "1e0cf700",
   "metadata": {},
   "outputs": [],
   "source": [
    "df = fatal_data.copy()"
   ]
  },
  {
   "cell_type": "markdown",
   "id": "60c5799f",
   "metadata": {},
   "source": [
    "Extract the year from the date column and create a new 'year' column."
   ]
  },
  {
   "cell_type": "code",
   "execution_count": null,
   "id": "e786715c",
   "metadata": {},
   "outputs": [],
   "source": [
    "df['year'] = pd.to_datetime(df['date']).dt.year"
   ]
  },
  {
   "cell_type": "markdown",
   "id": "a2ca57b5",
   "metadata": {},
   "source": [
    "Group the data by state and count the number of incidents."
   ]
  },
  {
   "cell_type": "code",
   "execution_count": null,
   "id": "b4233d08",
   "metadata": {},
   "outputs": [],
   "source": [
    "state_grouped = df.groupby('state').size()"
   ]
  },
  {
   "cell_type": "markdown",
   "id": "1f9e2d13",
   "metadata": {},
   "source": [
    "Analyze gender and race distribution of incidents."
   ]
  },
  {
   "cell_type": "code",
   "execution_count": null,
   "id": "ece9f275",
   "metadata": {},
   "outputs": [],
   "source": [
    "gender_race_analysis = df[['gender', 'race']].value_counts()"
   ]
  },
  {
   "cell_type": "markdown",
   "id": "93a11ee4",
   "metadata": {},
   "source": [
    "Visualize the trend of incidents over the years."
   ]
  },
  {
   "cell_type": "code",
   "execution_count": null,
   "id": "68cd340f",
   "metadata": {},
   "outputs": [],
   "source": [
    "import matplotlib.pyplot as plt\n",
    "\n",
    "plt.figure(figsize=(10,5))\n",
    "plt.plot(df['year'].value_counts().sort_index())\n",
    "plt.title('Yearly Incident Analysis')\n",
    "plt.xlabel('Year')\n",
    "plt.ylabel('Number of Incidents')\n",
    "plt.show()"
   ]
  },
  {
   "cell_type": "markdown",
   "id": "98d31a6c",
   "metadata": {},
   "source": [
    "Create a bar chart to visualize incidents grouped by state."
   ]
  },
  {
   "cell_type": "code",
   "execution_count": null,
   "id": "6c66efc2",
   "metadata": {},
   "outputs": [],
   "source": [
    "state_grouped.plot(kind='bar')\n",
    "plt.title('State-wise Incident Analysis')\n",
    "plt.xlabel('States')\n",
    "plt.ylabel('Number of Incidents')\n",
    "plt.show()"
   ]
  }
 ],
 "metadata": {
  "kernelspec": {
   "display_name": "Python 3",
   "language": "python",
   "name": "python3"
  },
  "language_info": {
   "codemirror_mode": {
    "name": "ipython",
    "version": 3
   },
   "file_extension": ".py",
   "mimetype": "text/x-python",
   "name": "python",
   "nbconvert_exporter": "python",
   "pygments_lexer": "ipython3",
   "version": "3.8.5"
  }
 },
 "nbformat": 4,
 "nbformat_minor": 5
}
