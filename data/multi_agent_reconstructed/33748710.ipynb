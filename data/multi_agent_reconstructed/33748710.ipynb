{
 "cells": [
  {
   "cell_type": "markdown",
   "id": "4f010e64",
   "metadata": {},
   "source": [
    "Load the CSV file into a DataFrame."
   ]
  },
  {
   "cell_type": "code",
   "execution_count": null,
   "id": "973463a7",
   "metadata": {},
   "outputs": [],
   "source": [
    "import pandas as pd\n",
    "df = pd.read_csv('worlds_100_most_powerful_women.csv')"
   ]
  },
  {
   "cell_type": "markdown",
   "id": "0524aa35",
   "metadata": {},
   "source": [
    "Select specific columns for analysis."
   ]
  },
  {
   "cell_type": "code",
   "execution_count": null,
   "id": "934af9de",
   "metadata": {},
   "outputs": [],
   "source": [
    "selected_columns = df[['Name', 'Country', 'Net Worth']]\n",
    "selected_features = selected_columns.copy()"
   ]
  },
  {
   "cell_type": "markdown",
   "id": "293598d9",
   "metadata": {},
   "source": [
    "Visualize the distribution of the selected features using a boxplot."
   ]
  },
  {
   "cell_type": "code",
   "execution_count": null,
   "id": "d551c606",
   "metadata": {},
   "outputs": [],
   "source": [
    "import matplotlib.pyplot as plt\n",
    "selected_features.boxplot(column='Net Worth')\n",
    "plt.title('Feature Distribution')\n",
    "plt.show()"
   ]
  },
  {
   "cell_type": "markdown",
   "id": "9492544e",
   "metadata": {},
   "source": [
    "Prepare data for the ML model by splitting it into training and testing sets."
   ]
  },
  {
   "cell_type": "code",
   "execution_count": null,
   "id": "07510fff",
   "metadata": {},
   "outputs": [],
   "source": [
    "from sklearn.model_selection import train_test_split\n",
    "X = selected_features[['Country', 'Net Worth']]\n",
    "y = df['Name']\n",
    "X_train, X_test, y_train, y_test = train_test_split(X, y, test_size=0.2)"
   ]
  },
  {
   "cell_type": "markdown",
   "id": "8749130d",
   "metadata": {},
   "source": [
    "Train a linear regression model with the training data."
   ]
  },
  {
   "cell_type": "code",
   "execution_count": null,
   "id": "edb979f4",
   "metadata": {},
   "outputs": [],
   "source": [
    "from sklearn.linear_model import LinearRegression\n",
    "model = LinearRegression()\n",
    "model.fit(X_train, y_train)"
   ]
  },
  {
   "cell_type": "markdown",
   "id": "7caf7cc3",
   "metadata": {},
   "source": [
    "Evaluate the performance of the model by comparing predictions with actual values."
   ]
  },
  {
   "cell_type": "code",
   "execution_count": null,
   "id": "b67bd59d",
   "metadata": {},
   "outputs": [],
   "source": [
    "predictions = model.predict(X_test)\n",
    "plt.plot(predictions, label='Predictions')\n",
    "plt.plot(y_test.values, label='Actual')\n",
    "plt.title('ML Model Performance')\n",
    "plt.legend()\n",
    "plt.show()"
   ]
  },
  {
   "cell_type": "markdown",
   "id": "9968804c",
   "metadata": {},
   "source": [
    "Generate and save a performance report as a PDF file."
   ]
  },
  {
   "cell_type": "code",
   "execution_count": null,
   "id": "b6022a1f",
   "metadata": {},
   "outputs": [],
   "source": [
    "from fpdf import FPDF\n",
    "pdf = FPDF()\n",
    "pdf.add_page()\n",
    "pdf.set_font('Arial', 'B', 16)\n",
    "pdf.cell(40, 10, 'ML Model Performance Report')\n",
    "pdf.output('Report.pdf')"
   ]
  }
 ],
 "metadata": {
  "kernelspec": {
   "display_name": "Python 3",
   "language": "python",
   "name": "python3"
  },
  "language_info": {
   "codemirror_mode": {
    "name": "ipython",
    "version": 3
   },
   "file_extension": ".py",
   "mimetype": "text/x-python",
   "name": "python",
   "nbconvert_exporter": "python",
   "pygments_lexer": "ipython3",
   "version": "3.8.5"
  }
 },
 "nbformat": 4,
 "nbformat_minor": 5
}
