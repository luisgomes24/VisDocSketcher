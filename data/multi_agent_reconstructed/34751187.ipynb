{
 "cells": [
  {
   "cell_type": "markdown",
   "id": "93d3b570",
   "metadata": {},
   "source": [
    "Load the data from the CSV file into a DataFrame."
   ]
  },
  {
   "cell_type": "code",
   "execution_count": null,
   "id": "1627f000",
   "metadata": {},
   "outputs": [],
   "source": [
    "import pandas as pd\n",
    "\n",
    "dataset = pd.read_csv('bank-additional.csv')"
   ]
  },
  {
   "cell_type": "markdown",
   "id": "87eb77c9",
   "metadata": {},
   "source": [
    "Select features (X) and the target variable (Y) from the dataset."
   ]
  },
  {
   "cell_type": "code",
   "execution_count": null,
   "id": "1244f8ce",
   "metadata": {},
   "outputs": [],
   "source": [
    "X = dataset.drop('target_column', axis=1)\n",
    "Y = dataset['target_column']"
   ]
  },
  {
   "cell_type": "markdown",
   "id": "ff614f2a",
   "metadata": {},
   "source": [
    "Split the data into training and testing sets."
   ]
  },
  {
   "cell_type": "code",
   "execution_count": null,
   "id": "6b3a1236",
   "metadata": {},
   "outputs": [],
   "source": [
    "from sklearn.model_selection import train_test_split\n",
    "\n",
    "X_train, X_test, Y_train, Y_test = train_test_split(X, Y, test_size=0.2, random_state=42)"
   ]
  },
  {
   "cell_type": "markdown",
   "id": "072acbb1",
   "metadata": {},
   "source": [
    "Initialize the KNeighborsClassifier model."
   ]
  },
  {
   "cell_type": "code",
   "execution_count": null,
   "id": "5918c9d6",
   "metadata": {},
   "outputs": [],
   "source": [
    "from sklearn.neighbors import KNeighborsClassifier\n",
    "\n",
    "model = KNeighborsClassifier()"
   ]
  },
  {
   "cell_type": "markdown",
   "id": "5b75553c",
   "metadata": {},
   "source": [
    "Train the model using the training data."
   ]
  },
  {
   "cell_type": "code",
   "execution_count": null,
   "id": "ca205e93",
   "metadata": {},
   "outputs": [],
   "source": [
    "model.fit(X_train, Y_train)"
   ]
  },
  {
   "cell_type": "markdown",
   "id": "80e6b778",
   "metadata": {},
   "source": [
    "Evaluate the model by making predictions on the testing set."
   ]
  },
  {
   "cell_type": "code",
   "execution_count": null,
   "id": "be2d3137",
   "metadata": {},
   "outputs": [],
   "source": [
    "predictions = model.predict(X_test)"
   ]
  }
 ],
 "metadata": {
  "kernelspec": {
   "display_name": "Python 3",
   "language": "python",
   "name": "python3"
  },
  "language_info": {
   "codemirror_mode": {
    "name": "ipython",
    "version": 3
   },
   "file_extension": ".py",
   "mimetype": "text/x-python",
   "name": "python",
   "nbconvert_exporter": "python",
   "pygments_lexer": "ipython3",
   "version": "3.8.5"
  }
 },
 "nbformat": 4,
 "nbformat_minor": 5
}
