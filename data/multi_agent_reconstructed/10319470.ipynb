{
 "cells": [
  {
   "cell_type": "markdown",
   "id": "4b6ed08e",
   "metadata": {},
   "source": [
    "Load the IMDB movie dataset from a CSV file into a DataFrame."
   ]
  },
  {
   "cell_type": "code",
   "execution_count": null,
   "id": "9dd2409d",
   "metadata": {},
   "outputs": [],
   "source": [
    "import pandas as pd\n",
    "df = pd.read_csv('imdb_movies.csv')"
   ]
  },
  {
   "cell_type": "markdown",
   "id": "41afbee3",
   "metadata": {},
   "source": [
    "Analyze and get the maximum values for each column in the DataFrame."
   ]
  },
  {
   "cell_type": "code",
   "execution_count": null,
   "id": "c3266624",
   "metadata": {},
   "outputs": [],
   "source": [
    "max_info = df.describe().loc['max']"
   ]
  },
  {
   "cell_type": "markdown",
   "id": "037fa403",
   "metadata": {},
   "source": [
    "Analyze and get the minimum values for each column in the DataFrame."
   ]
  },
  {
   "cell_type": "code",
   "execution_count": null,
   "id": "cb3bb948",
   "metadata": {},
   "outputs": [],
   "source": [
    "min_info = df.describe().loc['min']"
   ]
  },
  {
   "cell_type": "markdown",
   "id": "1d690e6c",
   "metadata": {},
   "source": [
    "Combine the maximum and minimum information into a single DataFrame."
   ]
  },
  {
   "cell_type": "code",
   "execution_count": null,
   "id": "5102cc59",
   "metadata": {},
   "outputs": [],
   "source": [
    "all_info = pd.concat([max_info, min_info], axis=0)"
   ]
  }
 ],
 "metadata": {
  "kernelspec": {
   "display_name": "Python 3",
   "language": "python",
   "name": "python3"
  },
  "language_info": {
   "codemirror_mode": {
    "name": "ipython",
    "version": 3
   },
   "file_extension": ".py",
   "mimetype": "text/x-python",
   "name": "python",
   "nbconvert_exporter": "python",
   "pygments_lexer": "ipython3",
   "version": "3.8.5"
  }
 },
 "nbformat": 4,
 "nbformat_minor": 5
}
