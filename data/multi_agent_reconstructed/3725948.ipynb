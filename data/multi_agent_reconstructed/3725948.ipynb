{
 "cells": [
  {
   "cell_type": "markdown",
   "id": "88678239",
   "metadata": {},
   "source": [
    "Load the GloVe embeddings from a pickle file."
   ]
  },
  {
   "cell_type": "code",
   "execution_count": null,
   "id": "da99f4d7",
   "metadata": {},
   "outputs": [],
   "source": [
    "import pickle\n",
    "with open('glove_embeddings.pkl', 'rb') as f:\n",
    "    glove_embeddings = pickle.load(f)"
   ]
  },
  {
   "cell_type": "markdown",
   "id": "ecffc927",
   "metadata": {},
   "source": [
    "Create a dictionary from the loaded GloVe embeddings."
   ]
  },
  {
   "cell_type": "code",
   "execution_count": null,
   "id": "cb48d515",
   "metadata": {},
   "outputs": [],
   "source": [
    "embeddings_dict_glove = {word: vector for word, vector in glove_embeddings.items()}"
   ]
  },
  {
   "cell_type": "markdown",
   "id": "800ea217",
   "metadata": {},
   "source": [
    "Generate character analysis using the embeddings dictionary."
   ]
  },
  {
   "cell_type": "code",
   "execution_count": null,
   "id": "caef3b8e",
   "metadata": {},
   "outputs": [],
   "source": [
    "glove_chars = analyze_characters(embeddings_dict_glove)"
   ]
  },
  {
   "cell_type": "markdown",
   "id": "ab8f7a3a",
   "metadata": {},
   "source": [
    "Filter the character analysis using a predefined white list."
   ]
  },
  {
   "cell_type": "code",
   "execution_count": null,
   "id": "78da220f",
   "metadata": {},
   "outputs": [],
   "source": [
    "glove_symbols = filter_with_whitelist(glove_chars, white_list)"
   ]
  }
 ],
 "metadata": {
  "kernelspec": {
   "display_name": "Python 3",
   "language": "python",
   "name": "python3"
  },
  "language_info": {
   "codemirror_mode": {
    "name": "ipython",
    "version": 3
   },
   "file_extension": ".py",
   "mimetype": "text/x-python",
   "name": "python",
   "nbconvert_exporter": "python",
   "pygments_lexer": "ipython3",
   "version": "3.8.5"
  }
 },
 "nbformat": 4,
 "nbformat_minor": 5
}
