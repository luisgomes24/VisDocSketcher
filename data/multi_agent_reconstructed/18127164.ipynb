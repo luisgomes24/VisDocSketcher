{
 "cells": [
  {
   "cell_type": "markdown",
   "id": "d1d94b1b",
   "metadata": {},
   "source": [
    "Load the test data from a CSV file into a DataFrame."
   ]
  },
  {
   "cell_type": "code",
   "execution_count": null,
   "id": "afb1de0a",
   "metadata": {},
   "outputs": [],
   "source": [
    "import pandas as pd\n",
    "\n",
    "df_test = pd.read_csv('test_data.csv')"
   ]
  },
  {
   "cell_type": "markdown",
   "id": "3a9bbea3",
   "metadata": {},
   "source": [
    "Remove the 'id' column from the test DataFrame."
   ]
  },
  {
   "cell_type": "code",
   "execution_count": null,
   "id": "8e8c23a1",
   "metadata": {},
   "outputs": [],
   "source": [
    "df_test.drop(columns=['id'], inplace=True)"
   ]
  },
  {
   "cell_type": "markdown",
   "id": "dc7fa59c",
   "metadata": {},
   "source": [
    "Load the training data from a CSV file into a DataFrame."
   ]
  },
  {
   "cell_type": "code",
   "execution_count": null,
   "id": "36bd3f3e",
   "metadata": {},
   "outputs": [],
   "source": [
    "import pandas as pd\n",
    "\n",
    "df_train = pd.read_csv('train_data.csv')"
   ]
  },
  {
   "cell_type": "markdown",
   "id": "9b5b6492",
   "metadata": {},
   "source": [
    "Remove the 'id' column from the training DataFrame."
   ]
  },
  {
   "cell_type": "code",
   "execution_count": null,
   "id": "c1ca3752",
   "metadata": {},
   "outputs": [],
   "source": [
    "df_train.drop(columns=['id'], inplace=True)"
   ]
  },
  {
   "cell_type": "markdown",
   "id": "def86b30",
   "metadata": {},
   "source": [
    "Extract features (x_train) and target (y_train) from the training DataFrame."
   ]
  },
  {
   "cell_type": "code",
   "execution_count": null,
   "id": "4d2aedda",
   "metadata": {},
   "outputs": [],
   "source": [
    "x_train = df_train.drop(columns=['target'])\n",
    "y_train = df_train['target']"
   ]
  },
  {
   "cell_type": "markdown",
   "id": "b7473547",
   "metadata": {},
   "source": [
    "Prepare the test features to be the same as the test DataFrame."
   ]
  },
  {
   "cell_type": "code",
   "execution_count": null,
   "id": "1ff294b7",
   "metadata": {},
   "outputs": [],
   "source": [
    "x_test = df_test"
   ]
  },
  {
   "cell_type": "markdown",
   "id": "51f256a4",
   "metadata": {},
   "source": [
    "Initialize a Logistic Regression model."
   ]
  },
  {
   "cell_type": "code",
   "execution_count": null,
   "id": "4a6c3c89",
   "metadata": {},
   "outputs": [],
   "source": [
    "from sklearn.linear_model import LogisticRegression\n",
    "\n",
    "model = LogisticRegression()"
   ]
  },
  {
   "cell_type": "markdown",
   "id": "97c6682e",
   "metadata": {},
   "source": [
    "Train the Logistic Regression model on the training data."
   ]
  },
  {
   "cell_type": "code",
   "execution_count": null,
   "id": "cff80654",
   "metadata": {},
   "outputs": [],
   "source": [
    "model.fit(x_train, y_train)"
   ]
  },
  {
   "cell_type": "markdown",
   "id": "45325772",
   "metadata": {},
   "source": [
    "Make predictions on the test features."
   ]
  },
  {
   "cell_type": "code",
   "execution_count": null,
   "id": "896a31b5",
   "metadata": {},
   "outputs": [],
   "source": [
    "predictions = model.predict(x_test)"
   ]
  },
  {
   "cell_type": "markdown",
   "id": "e1c7a45f",
   "metadata": {},
   "source": [
    "Save the trained model to a pickle file."
   ]
  },
  {
   "cell_type": "code",
   "execution_count": null,
   "id": "8d12a4d9",
   "metadata": {},
   "outputs": [],
   "source": [
    "import joblib\n",
    "\n",
    "joblib.dump(model, 'logistic_model.pkl')"
   ]
  }
 ],
 "metadata": {
  "kernelspec": {
   "display_name": "Python 3",
   "language": "python",
   "name": "python3"
  },
  "language_info": {
   "codemirror_mode": {
    "name": "ipython",
    "version": 3
   },
   "file_extension": ".py",
   "mimetype": "text/x-python",
   "name": "python",
   "nbconvert_exporter": "python",
   "pygments_lexer": "ipython3",
   "version": "3.8.5"
  }
 },
 "nbformat": 4,
 "nbformat_minor": 5
}
