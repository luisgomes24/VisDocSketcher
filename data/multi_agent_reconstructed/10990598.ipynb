{
 "cells": [
  {
   "cell_type": "markdown",
   "id": "b553c598",
   "metadata": {},
   "source": [
    "Convert the image to a numpy array and extract its shape."
   ]
  },
  {
   "cell_type": "code",
   "execution_count": null,
   "id": "87d19d10",
   "metadata": {},
   "outputs": [],
   "source": [
    "import numpy as np\n",
    "from tensorflow.keras.preprocessing.image import ImageDataGenerator\n",
    "\n",
    "# Assuming 'img' has been defined at this point\n",
    "img_array = np.array(img)\n",
    "shape_of_image = img_array.shape"
   ]
  },
  {
   "cell_type": "markdown",
   "id": "50ad1576",
   "metadata": {},
   "source": [
    "Visualize the image in a Jupyter notebook."
   ]
  },
  {
   "cell_type": "code",
   "execution_count": null,
   "id": "700f07bf",
   "metadata": {},
   "outputs": [],
   "source": [
    "import matplotlib.pyplot as plt\n",
    "\n",
    "plt.imshow(img_array)\n",
    "plt.show()"
   ]
  },
  {
   "cell_type": "markdown",
   "id": "137c6f4f",
   "metadata": {},
   "source": [
    "Extract classes from the directory structure."
   ]
  },
  {
   "cell_type": "code",
   "execution_count": null,
   "id": "938f64f0",
   "metadata": {},
   "outputs": [],
   "source": [
    "import os\n",
    "\n",
    "classes = os.listdir('path_to_training_data')"
   ]
  },
  {
   "cell_type": "markdown",
   "id": "b5746a59",
   "metadata": {},
   "source": [
    "Calculate the number of classes."
   ]
  },
  {
   "cell_type": "code",
   "execution_count": null,
   "id": "b0487631",
   "metadata": {},
   "outputs": [],
   "source": [
    "number_of_class = len(classes)"
   ]
  },
  {
   "cell_type": "markdown",
   "id": "5add17dd",
   "metadata": {},
   "source": [
    "Set up the training data generator with augmentation."
   ]
  },
  {
   "cell_type": "code",
   "execution_count": null,
   "id": "b43421e6",
   "metadata": {},
   "outputs": [],
   "source": [
    "train_datagen = ImageDataGenerator(rescale=1./255)\n",
    "train_generator = train_datagen.flow_from_directory('path_to_training_data', target_size=(150, 150), batch_size=32, class_mode='categorical')"
   ]
  },
  {
   "cell_type": "markdown",
   "id": "ea965ecd",
   "metadata": {},
   "source": [
    "Create a Sequential CNN model and set the input layer."
   ]
  },
  {
   "cell_type": "code",
   "execution_count": null,
   "id": "1098a451",
   "metadata": {},
   "outputs": [],
   "source": [
    "from tensorflow.keras.models import Sequential\n",
    "from tensorflow.keras.layers import Dense, Conv2D, Flatten\n",
    "\n",
    "model = Sequential()\n",
    "model.add(Conv2D(32, (3, 3), activation='relu', input_shape=shape_of_image[1:]))\n",
    "model.add(Flatten())\n",
    "model.add(Dense(number_of_class, activation='softmax'))"
   ]
  },
  {
   "cell_type": "markdown",
   "id": "0ee1db04",
   "metadata": {},
   "source": [
    "Fit the model using the training data generator."
   ]
  },
  {
   "cell_type": "code",
   "execution_count": null,
   "id": "d4de36c3",
   "metadata": {},
   "outputs": [],
   "source": [
    "history = model.fit(train_generator, epochs=10)"
   ]
  },
  {
   "cell_type": "markdown",
   "id": "1a421dd3",
   "metadata": {},
   "source": [
    "Record and visualize the training history."
   ]
  },
  {
   "cell_type": "code",
   "execution_count": null,
   "id": "011c4073",
   "metadata": {},
   "outputs": [],
   "source": [
    "plt.plot(history.history['loss'])\n",
    "plt.title('Model loss')\n",
    "plt.ylabel('Loss')\n",
    "plt.xlabel('Epoch')\n",
    "plt.show()"
   ]
  }
 ],
 "metadata": {
  "kernelspec": {
   "display_name": "Python 3",
   "language": "python",
   "name": "python3"
  },
  "language_info": {
   "codemirror_mode": {
    "name": "ipython",
    "version": 3
   },
   "file_extension": ".py",
   "mimetype": "text/x-python",
   "name": "python",
   "nbconvert_exporter": "python",
   "pygments_lexer": "ipython3",
   "version": "3.8.5"
  }
 },
 "nbformat": 4,
 "nbformat_minor": 5
}
