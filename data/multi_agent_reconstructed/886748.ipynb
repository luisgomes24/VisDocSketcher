{
 "cells": [
  {
   "cell_type": "markdown",
   "id": "98f4dea8",
   "metadata": {},
   "source": [
    "Read the wine reviews CSV file into a DataFrame."
   ]
  },
  {
   "cell_type": "code",
   "execution_count": null,
   "id": "bc7288e3",
   "metadata": {},
   "outputs": [],
   "source": [
    "import pandas as pd\n",
    "\n",
    "wine_reviews_df = pd.read_csv('wine_reviews.csv')"
   ]
  },
  {
   "cell_type": "markdown",
   "id": "76794fb5",
   "metadata": {},
   "source": [
    "Read the pregnant women data from an Excel file into a DataFrame."
   ]
  },
  {
   "cell_type": "code",
   "execution_count": null,
   "id": "e2e91aa7",
   "metadata": {},
   "outputs": [],
   "source": [
    "pregnant_women_df = pd.read_excel('pregnant_women.xlsx')"
   ]
  },
  {
   "cell_type": "markdown",
   "id": "e097e463",
   "metadata": {},
   "source": [
    "Connect to the SQLite database and read the artists data into a DataFrame."
   ]
  },
  {
   "cell_type": "code",
   "execution_count": null,
   "id": "8de5649e",
   "metadata": {},
   "outputs": [],
   "source": [
    "import sqlite3\n",
    "\n",
    "conn = sqlite3.connect('artists.db')\n",
    "artists_df = pd.read_sql_query('SELECT * FROM artists', conn)"
   ]
  },
  {
   "cell_type": "markdown",
   "id": "bb128fc0",
   "metadata": {},
   "source": [
    "Combine the three DataFrames into a single DataFrame named q6_df."
   ]
  },
  {
   "cell_type": "code",
   "execution_count": null,
   "id": "83dadac2",
   "metadata": {},
   "outputs": [],
   "source": [
    "q6_df = pd.concat([wine_reviews_df, pregnant_women_df, artists_df])"
   ]
  },
  {
   "cell_type": "markdown",
   "id": "671c8da3",
   "metadata": {},
   "source": [
    "Save the combined DataFrame q6_df to a CSV file."
   ]
  },
  {
   "cell_type": "code",
   "execution_count": null,
   "id": "d09bc368",
   "metadata": {},
   "outputs": [],
   "source": [
    "q6_df.to_csv('cows_and_goats.csv', index=False)"
   ]
  }
 ],
 "metadata": {
  "kernelspec": {
   "display_name": "Python 3",
   "language": "python",
   "name": "python3"
  },
  "language_info": {
   "codemirror_mode": {
    "name": "ipython",
    "version": 3
   },
   "file_extension": ".py",
   "mimetype": "text/x-python",
   "name": "python",
   "nbconvert_exporter": "python",
   "pygments_lexer": "ipython3",
   "version": "3.8.5"
  }
 },
 "nbformat": 4,
 "nbformat_minor": 5
}
