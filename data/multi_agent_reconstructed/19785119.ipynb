{
 "cells": [
  {
   "cell_type": "markdown",
   "id": "d69c480d",
   "metadata": {},
   "source": [
    "Import the 'get_graph' function to obtain the slot machine graph."
   ]
  },
  {
   "cell_type": "code",
   "execution_count": null,
   "id": "ff76222d",
   "metadata": {},
   "outputs": [],
   "source": [
    "from learntools.python.jimmy_slots import get_graph"
   ]
  },
  {
   "cell_type": "markdown",
   "id": "80495add",
   "metadata": {},
   "source": [
    "Call 'get_graph()' to retrieve the slot machine graph."
   ]
  },
  {
   "cell_type": "code",
   "execution_count": null,
   "id": "e4c6162b",
   "metadata": {},
   "outputs": [],
   "source": [
    "graph = get_graph()"
   ]
  },
  {
   "cell_type": "markdown",
   "id": "eaf756cf",
   "metadata": {},
   "source": [
    "Import the 'best_items' function for analyzing items usage."
   ]
  },
  {
   "cell_type": "code",
   "execution_count": null,
   "id": "bc570bff",
   "metadata": {},
   "outputs": [],
   "source": [
    "from learntools.python.luigi_analysis import best_items"
   ]
  },
  {
   "cell_type": "markdown",
   "id": "16174309",
   "metadata": {},
   "source": [
    "Analyze item usage using the 'best_items' function."
   ]
  },
  {
   "cell_type": "code",
   "execution_count": null,
   "id": "209108d3",
   "metadata": {},
   "outputs": [],
   "source": [
    "item_usage = best_items(graph)"
   ]
  },
  {
   "cell_type": "markdown",
   "id": "802e227e",
   "metadata": {},
   "source": [
    "Count items picked by first-place finishers."
   ]
  },
  {
   "cell_type": "code",
   "execution_count": null,
   "id": "2946c6e7",
   "metadata": {},
   "outputs": [],
   "source": [
    "first_place_counts = count_first_place_items(item_usage)"
   ]
  },
  {
   "cell_type": "markdown",
   "id": "f8b59795",
   "metadata": {},
   "source": [
    "Visualize the slot machine balance after 500 spins."
   ]
  },
  {
   "cell_type": "code",
   "execution_count": null,
   "id": "78726f22",
   "metadata": {},
   "outputs": [],
   "source": [
    "visualize_balance_after_spins(graph, spins=500)"
   ]
  }
 ],
 "metadata": {
  "kernelspec": {
   "display_name": "Python 3",
   "language": "python",
   "name": "python3"
  },
  "language_info": {
   "codemirror_mode": {
    "name": "ipython",
    "version": 3
   },
   "file_extension": ".py",
   "mimetype": "text/x-python",
   "name": "python",
   "nbconvert_exporter": "python",
   "pygments_lexer": "ipython3",
   "version": "3.8.5"
  }
 },
 "nbformat": 4,
 "nbformat_minor": 5
}
