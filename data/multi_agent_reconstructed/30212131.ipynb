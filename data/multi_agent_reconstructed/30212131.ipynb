{
 "cells": [
  {
   "cell_type": "markdown",
   "id": "1e987329",
   "metadata": {},
   "source": [
    "Read the CSV file from the specified path into a DataFrame `df`."
   ]
  },
  {
   "cell_type": "code",
   "execution_count": null,
   "id": "07c435a1",
   "metadata": {},
   "outputs": [],
   "source": [
    "import pandas as pd\n",
    "\n",
    "df = pd.read_csv('../input/netflix-shows/netflix_titles.csv')"
   ]
  },
  {
   "cell_type": "markdown",
   "id": "5c934e42",
   "metadata": {},
   "source": [
    "Filter `df` for entries where the type is 'Movie' and store in `df_movie`."
   ]
  },
  {
   "cell_type": "code",
   "execution_count": null,
   "id": "8c9e6551",
   "metadata": {},
   "outputs": [],
   "source": [
    "df_movie = df[df['type'] == 'Movie']"
   ]
  },
  {
   "cell_type": "markdown",
   "id": "efa3946e",
   "metadata": {},
   "source": [
    "Filter `df` for entries where the type is 'TV Show' and store in `df_TVshow`."
   ]
  },
  {
   "cell_type": "code",
   "execution_count": null,
   "id": "f1d9fb6e",
   "metadata": {},
   "outputs": [],
   "source": [
    "df_TVshow = df[df['type'] == 'TV Show']"
   ]
  }
 ],
 "metadata": {
  "kernelspec": {
   "display_name": "Python 3",
   "language": "python",
   "name": "python3"
  },
  "language_info": {
   "codemirror_mode": {
    "name": "ipython",
    "version": 3
   },
   "file_extension": ".py",
   "mimetype": "text/x-python",
   "name": "python",
   "nbconvert_exporter": "python",
   "pygments_lexer": "ipython3",
   "version": "3.8.5"
  }
 },
 "nbformat": 4,
 "nbformat_minor": 5
}
