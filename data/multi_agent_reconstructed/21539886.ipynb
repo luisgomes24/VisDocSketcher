{
 "cells": [
  {
   "cell_type": "markdown",
   "id": "6b7ea1bf",
   "metadata": {},
   "source": [
    "Load the Iris dataset into a pandas DataFrame."
   ]
  },
  {
   "cell_type": "code",
   "execution_count": null,
   "id": "e6f9943b",
   "metadata": {},
   "outputs": [],
   "source": [
    "import pandas as pd\n",
    "df = pd.read_csv('iris.csv')"
   ]
  },
  {
   "cell_type": "markdown",
   "id": "c1f2c7c4",
   "metadata": {},
   "source": [
    "Separate data into features (X) and target variable (y)."
   ]
  },
  {
   "cell_type": "code",
   "execution_count": null,
   "id": "a62c59a4",
   "metadata": {},
   "outputs": [],
   "source": [
    "X = df.drop('species', axis=1)\n",
    "y = df['species']"
   ]
  },
  {
   "cell_type": "markdown",
   "id": "b357f6c3",
   "metadata": {},
   "source": [
    "Create and train a Logistic Regression model using the data."
   ]
  },
  {
   "cell_type": "code",
   "execution_count": null,
   "id": "f37a313b",
   "metadata": {},
   "outputs": [],
   "source": [
    "from sklearn.linear_model import LogisticRegression\n",
    "model = LogisticRegression()\n",
    "model.fit(X, y)"
   ]
  },
  {
   "cell_type": "markdown",
   "id": "4ce745b2",
   "metadata": {},
   "source": [
    "Visualize the coefficients of the logistic regression model."
   ]
  },
  {
   "cell_type": "code",
   "execution_count": null,
   "id": "95c5bf42",
   "metadata": {},
   "outputs": [],
   "source": [
    "import matplotlib.pyplot as plt\n",
    "plt.bar(X.columns, model.coef_[0])\n",
    "plt.xlabel('Features')\n",
    "plt.ylabel('Coefficient Values')\n",
    "plt.title('Logistic Regression Coefficients')\n",
    "plt.show()"
   ]
  },
  {
   "cell_type": "markdown",
   "id": "14b7ca8e",
   "metadata": {},
   "source": [
    "Make predictions and evaluate the model's accuracy."
   ]
  },
  {
   "cell_type": "code",
   "execution_count": null,
   "id": "81ddba50",
   "metadata": {},
   "outputs": [],
   "source": [
    "from sklearn.metrics import accuracy_score\n",
    "predictions = model.predict(X)\n",
    "accuracy = accuracy_score(y, predictions)"
   ]
  },
  {
   "cell_type": "markdown",
   "id": "d64c7f4e",
   "metadata": {},
   "source": [
    "Display model predictions versus actual species as a scatter plot."
   ]
  },
  {
   "cell_type": "code",
   "execution_count": null,
   "id": "c8112b9a",
   "metadata": {},
   "outputs": [],
   "source": [
    "plt.scatter(range(len(y)), y, c=predictions)\n",
    "plt.xlabel('Sample Index')\n",
    "plt.ylabel('True Species')\n",
    "plt.title('Model Predictions')\n",
    "plt.show()"
   ]
  }
 ],
 "metadata": {
  "kernelspec": {
   "display_name": "Python 3",
   "language": "python",
   "name": "python3"
  },
  "language_info": {
   "codemirror_mode": {
    "name": "ipython",
    "version": 3
   },
   "file_extension": ".py",
   "mimetype": "text/x-python",
   "name": "python",
   "nbconvert_exporter": "python",
   "pygments_lexer": "ipython3",
   "version": "3.8.5"
  }
 },
 "nbformat": 4,
 "nbformat_minor": 5
}
