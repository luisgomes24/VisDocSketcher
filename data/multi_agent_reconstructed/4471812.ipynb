{
 "cells": [
  {
   "cell_type": "markdown",
   "id": "0a3e25cb",
   "metadata": {},
   "source": [
    "Load training data from a CSV file into a DataFrame."
   ]
  },
  {
   "cell_type": "code",
   "execution_count": null,
   "id": "b315ca3a",
   "metadata": {},
   "outputs": [],
   "source": [
    "import pandas as pd\n",
    "train_df = pd.read_csv('train.csv')"
   ]
  },
  {
   "cell_type": "markdown",
   "id": "812f5def",
   "metadata": {},
   "source": [
    "Load testing data from a CSV file into a DataFrame."
   ]
  },
  {
   "cell_type": "code",
   "execution_count": null,
   "id": "e8bbc8a6",
   "metadata": {},
   "outputs": [],
   "source": [
    "test_df = pd.read_csv('test.csv')"
   ]
  },
  {
   "cell_type": "markdown",
   "id": "6d0e58bd",
   "metadata": {},
   "source": [
    "Extract features from the training DataFrame by dropping the label column."
   ]
  },
  {
   "cell_type": "code",
   "execution_count": null,
   "id": "79ecde87",
   "metadata": {},
   "outputs": [],
   "source": [
    "train_data = train_df.drop('label', axis=1)"
   ]
  },
  {
   "cell_type": "markdown",
   "id": "ef4f4e64",
   "metadata": {},
   "source": [
    "Extract labels from the training DataFrame."
   ]
  },
  {
   "cell_type": "code",
   "execution_count": null,
   "id": "e77afc67",
   "metadata": {},
   "outputs": [],
   "source": [
    "train_label = train_df['label']"
   ]
  },
  {
   "cell_type": "markdown",
   "id": "267cfecb",
   "metadata": {},
   "source": [
    "Apply PCA transformation to the training features."
   ]
  },
  {
   "cell_type": "code",
   "execution_count": null,
   "id": "17ef9464",
   "metadata": {},
   "outputs": [],
   "source": [
    "from sklearn.decomposition import PCA\n",
    "pca = PCA(n_components=2)\n",
    "pcaTrainData = pca.fit_transform(train_data)"
   ]
  },
  {
   "cell_type": "markdown",
   "id": "5ceb9b74",
   "metadata": {},
   "source": [
    "Apply the same PCA transformation to the testing data."
   ]
  },
  {
   "cell_type": "code",
   "execution_count": null,
   "id": "6e68f446",
   "metadata": {},
   "outputs": [],
   "source": [
    "pcaTestData = pca.transform(test_df)"
   ]
  },
  {
   "cell_type": "markdown",
   "id": "c5fad471",
   "metadata": {},
   "source": [
    "Initialize the K-Neighbors Classifier model."
   ]
  },
  {
   "cell_type": "code",
   "execution_count": null,
   "id": "b266071c",
   "metadata": {},
   "outputs": [],
   "source": [
    "from sklearn.neighbors import KNeighborsClassifier\n",
    "model = KNeighborsClassifier()"
   ]
  },
  {
   "cell_type": "markdown",
   "id": "a2d950cd",
   "metadata": {},
   "source": [
    "Train the K-Neighbors Classifier with PCA-transformed training data and labels."
   ]
  },
  {
   "cell_type": "code",
   "execution_count": null,
   "id": "afbbd8ea",
   "metadata": {},
   "outputs": [],
   "source": [
    "model.fit(pcaTrainData, train_label)"
   ]
  },
  {
   "cell_type": "markdown",
   "id": "7d662080",
   "metadata": {},
   "source": [
    "Predict labels for the PCA-transformed testing data."
   ]
  },
  {
   "cell_type": "code",
   "execution_count": null,
   "id": "5dad3879",
   "metadata": {},
   "outputs": [],
   "source": [
    "testLabel = model.predict(pcaTestData)"
   ]
  }
 ],
 "metadata": {
  "kernelspec": {
   "display_name": "Python 3",
   "language": "python",
   "name": "python3"
  },
  "language_info": {
   "codemirror_mode": {
    "name": "ipython",
    "version": 3
   },
   "file_extension": ".py",
   "mimetype": "text/x-python",
   "name": "python",
   "nbconvert_exporter": "python",
   "pygments_lexer": "ipython3",
   "version": "3.8.5"
  }
 },
 "nbformat": 4,
 "nbformat_minor": 5
}
