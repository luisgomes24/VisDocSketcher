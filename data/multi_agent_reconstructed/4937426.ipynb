{
 "cells": [
  {
   "cell_type": "markdown",
   "id": "d51c48bb",
   "metadata": {},
   "source": [
    "Read the first 1000 rows from 'funda_train.csv' into a DataFrame named df1."
   ]
  },
  {
   "cell_type": "code",
   "execution_count": null,
   "id": "23b182cd",
   "metadata": {},
   "outputs": [],
   "source": [
    "import pandas as pd\n",
    "\n",
    "df1 = pd.read_csv('funda_train.csv', nrows=1000)"
   ]
  },
  {
   "cell_type": "markdown",
   "id": "a3c74dd1",
   "metadata": {},
   "source": [
    "Generate and display histogram plots for visualizing the distribution of values in df1."
   ]
  },
  {
   "cell_type": "code",
   "execution_count": null,
   "id": "80c0ea4b",
   "metadata": {},
   "outputs": [],
   "source": [
    "import matplotlib.pyplot as plt\n",
    "\n",
    "df1.hist()\n",
    "plt.title('Distribution Plots')\n",
    "plt.show()"
   ]
  },
  {
   "cell_type": "markdown",
   "id": "a90ebff5",
   "metadata": {},
   "source": [
    "Create a scatter matrix to visualize pairwise relationships in the DataFrame df1."
   ]
  },
  {
   "cell_type": "code",
   "execution_count": null,
   "id": "4905cc2e",
   "metadata": {},
   "outputs": [],
   "source": [
    "import seaborn as sns\n",
    "\n",
    "sns.pairplot(df1)\n",
    "plt.title('Scatter Matrix')\n",
    "plt.show()"
   ]
  },
  {
   "cell_type": "markdown",
   "id": "ff7fbb5e",
   "metadata": {},
   "source": [
    "Compute and visualize the correlation matrix of df1 using a heatmap."
   ]
  },
  {
   "cell_type": "code",
   "execution_count": null,
   "id": "f6f5666e",
   "metadata": {},
   "outputs": [],
   "source": [
    "import seaborn as sns\n",
    "\n",
    "correlation_matrix = df1.corr()\n",
    "sns.heatmap(correlation_matrix, annot=True)\n",
    "plt.title('Correlation Matrix')\n",
    "plt.show()"
   ]
  }
 ],
 "metadata": {
  "kernelspec": {
   "display_name": "Python 3",
   "language": "python",
   "name": "python3"
  },
  "language_info": {
   "codemirror_mode": {
    "name": "ipython",
    "version": 3
   },
   "file_extension": ".py",
   "mimetype": "text/x-python",
   "name": "python",
   "nbconvert_exporter": "python",
   "pygments_lexer": "ipython3",
   "version": "3.8.5"
  }
 },
 "nbformat": 4,
 "nbformat_minor": 5
}
