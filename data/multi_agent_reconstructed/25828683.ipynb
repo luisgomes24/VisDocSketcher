{
 "cells": [
  {
   "cell_type": "markdown",
   "id": "21785f5e",
   "metadata": {},
   "source": [
    "Load the CSV file 'tesla_stocks.csv' into a DataFrame called 'df'."
   ]
  },
  {
   "cell_type": "code",
   "execution_count": null,
   "id": "2f8075ef",
   "metadata": {},
   "outputs": [],
   "source": [
    "import pandas as pd\n",
    "\n",
    "df = pd.read_csv('tesla_stocks.csv')"
   ]
  },
  {
   "cell_type": "markdown",
   "id": "f3842dcc",
   "metadata": {},
   "source": [
    "Create a bar plot using 'Category' and 'Value' columns from the DataFrame."
   ]
  },
  {
   "cell_type": "code",
   "execution_count": null,
   "id": "29155554",
   "metadata": {},
   "outputs": [],
   "source": [
    "import matplotlib.pyplot as plt\n",
    "\n",
    "# Assuming 'Category' and 'Value' are columns in df\n",
    "plt.bar(df['Category'], df['Value'])\n",
    "plt.xlabel('Category')\n",
    "plt.ylabel('Value')\n",
    "plt.title('Bar Plot')\n",
    "plt.show()"
   ]
  }
 ],
 "metadata": {
  "kernelspec": {
   "display_name": "Python 3",
   "language": "python",
   "name": "python3"
  },
  "language_info": {
   "codemirror_mode": {
    "name": "ipython",
    "version": 3
   },
   "file_extension": ".py",
   "mimetype": "text/x-python",
   "name": "python",
   "nbconvert_exporter": "python",
   "pygments_lexer": "ipython3",
   "version": "3.8.5"
  }
 },
 "nbformat": 4,
 "nbformat_minor": 5
}
