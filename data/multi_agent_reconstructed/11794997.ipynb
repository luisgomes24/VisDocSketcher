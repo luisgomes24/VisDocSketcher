{
 "cells": [
  {
   "cell_type": "markdown",
   "id": "be0e3993",
   "metadata": {},
   "source": [
    "Read test features from a CSV file."
   ]
  },
  {
   "cell_type": "code",
   "execution_count": null,
   "id": "30d21c10",
   "metadata": {},
   "outputs": [],
   "source": [
    "import pandas as pd\n",
    "\n",
    "test_features = pd.read_csv('./input/lish-moa/test_features.csv')"
   ]
  },
  {
   "cell_type": "markdown",
   "id": "5bf44663",
   "metadata": {},
   "source": [
    "Create a copy of the test features DataFrame."
   ]
  },
  {
   "cell_type": "code",
   "execution_count": null,
   "id": "c73cc650",
   "metadata": {},
   "outputs": [],
   "source": [
    "x_test = test_features.copy()"
   ]
  },
  {
   "cell_type": "markdown",
   "id": "824dde30",
   "metadata": {},
   "source": [
    "Apply quantile transformation to the test features."
   ]
  },
  {
   "cell_type": "code",
   "execution_count": null,
   "id": "360c8cdd",
   "metadata": {},
   "outputs": [],
   "source": [
    "from sklearn.preprocessing import QuantileTransformer\n",
    "\n",
    "quantile_transformer = QuantileTransformer()\n",
    "x_test = quantile_transformer.fit_transform(x_test)"
   ]
  },
  {
   "cell_type": "markdown",
   "id": "2d945a38",
   "metadata": {},
   "source": [
    "Standardize the quantile transformed features."
   ]
  },
  {
   "cell_type": "code",
   "execution_count": null,
   "id": "8c114919",
   "metadata": {},
   "outputs": [],
   "source": [
    "from sklearn.preprocessing import StandardScaler\n",
    "\n",
    "scaler = StandardScaler()\n",
    "XX_test = scaler.fit_transform(x_test)"
   ]
  },
  {
   "cell_type": "markdown",
   "id": "531fdce7",
   "metadata": {},
   "source": [
    "Load the XGBoost model and make predictions on the standardized data."
   ]
  },
  {
   "cell_type": "code",
   "execution_count": null,
   "id": "e7c71945",
   "metadata": {},
   "outputs": [],
   "source": [
    "import xgboost as xgb\n",
    "\n",
    "model = xgb.Booster()\n",
    "model.load_model('model.xgb')\n",
    "predictions = model.predict(xgb.DMatrix(XX_test))"
   ]
  },
  {
   "cell_type": "markdown",
   "id": "c358449d",
   "metadata": {},
   "source": [
    "Read the sample submission template from a CSV file."
   ]
  },
  {
   "cell_type": "code",
   "execution_count": null,
   "id": "d52c593a",
   "metadata": {},
   "outputs": [],
   "source": [
    "sample_submission = pd.read_csv('./kaggle/input/lish-moa/sample_submission.csv')"
   ]
  },
  {
   "cell_type": "markdown",
   "id": "fda8cfc4",
   "metadata": {},
   "source": [
    "Populate the sample submission with predictions."
   ]
  },
  {
   "cell_type": "code",
   "execution_count": null,
   "id": "8f934202",
   "metadata": {},
   "outputs": [],
   "source": [
    "sample_submission['target'] = predictions"
   ]
  },
  {
   "cell_type": "markdown",
   "id": "3d178804",
   "metadata": {},
   "source": [
    "Write the populated predictions to a submission CSV file."
   ]
  },
  {
   "cell_type": "code",
   "execution_count": null,
   "id": "b19a7b0d",
   "metadata": {},
   "outputs": [],
   "source": [
    "sample_submission.to_csv('./submission.csv', index=False)"
   ]
  }
 ],
 "metadata": {
  "kernelspec": {
   "display_name": "Python 3",
   "language": "python",
   "name": "python3"
  },
  "language_info": {
   "codemirror_mode": {
    "name": "ipython",
    "version": 3
   },
   "file_extension": ".py",
   "mimetype": "text/x-python",
   "name": "python",
   "nbconvert_exporter": "python",
   "pygments_lexer": "ipython3",
   "version": "3.8.5"
  }
 },
 "nbformat": 4,
 "nbformat_minor": 5
}
