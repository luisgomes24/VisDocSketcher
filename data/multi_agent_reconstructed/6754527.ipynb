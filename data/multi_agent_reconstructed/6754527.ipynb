{
 "cells": [
  {
   "cell_type": "markdown",
   "id": "54fbd27e",
   "metadata": {},
   "source": [
    "Load CSV data using pandas from the specified file path."
   ]
  },
  {
   "cell_type": "code",
   "execution_count": null,
   "id": "39993ef2",
   "metadata": {},
   "outputs": [],
   "source": [
    "import pandas as pd\n",
    "\n",
    "def load_data(file_path):\n",
    "    return pd.read_csv(file_path)"
   ]
  },
  {
   "cell_type": "markdown",
   "id": "a48322b5",
   "metadata": {},
   "source": [
    "Load data from four CSV files into separate DataFrames."
   ]
  },
  {
   "cell_type": "code",
   "execution_count": null,
   "id": "a8cef4c1",
   "metadata": {},
   "outputs": [],
   "source": [
    "df0 = load_data('/kaggle/input/emg-4/0.csv')\n",
    "df1 = load_data('/kaggle/input/emg-4/1.csv')\n",
    "df2 = load_data('/kaggle/input/emg-4/2.csv')\n",
    "df3 = load_data('/kaggle/input/emg-4/3.csv')"
   ]
  },
  {
   "cell_type": "markdown",
   "id": "9fe9df86",
   "metadata": {},
   "source": [
    "Concatenate the individual DataFrames into a single DataFrame."
   ]
  },
  {
   "cell_type": "code",
   "execution_count": null,
   "id": "32277d16",
   "metadata": {},
   "outputs": [],
   "source": [
    "df = pd.concat([df0, df1, df2, df3], axis=0).reset_index(drop=True)"
   ]
  },
  {
   "cell_type": "markdown",
   "id": "2eb89e3a",
   "metadata": {},
   "source": [
    "Drop the last column from the DataFrame to get features."
   ]
  },
  {
   "cell_type": "code",
   "execution_count": null,
   "id": "d4a50490",
   "metadata": {},
   "outputs": [],
   "source": [
    "dfx = df.iloc[:, :-1]"
   ]
  },
  {
   "cell_type": "markdown",
   "id": "b0b11560",
   "metadata": {},
   "source": [
    "Split the feature DataFrame into training and testing sets."
   ]
  },
  {
   "cell_type": "code",
   "execution_count": null,
   "id": "b1187897",
   "metadata": {},
   "outputs": [],
   "source": [
    "from sklearn.model_selection import train_test_split\n",
    "\n",
    "x_train, x_test = train_test_split(dfx, test_size=0.2, random_state=42)"
   ]
  },
  {
   "cell_type": "markdown",
   "id": "89666a92",
   "metadata": {},
   "source": [
    "Normalize the training and testing feature sets using MinMaxScaler."
   ]
  },
  {
   "cell_type": "code",
   "execution_count": null,
   "id": "1625b5b0",
   "metadata": {},
   "outputs": [],
   "source": [
    "from sklearn.preprocessing import MinMaxScaler\n",
    "\n",
    "scaler = MinMaxScaler()\n",
    "scaler.fit(x_train)\n",
    "x_train_normalized = scaler.transform(x_train)\n",
    "x_test_normalized = scaler.transform(x_test)"
   ]
  },
  {
   "cell_type": "markdown",
   "id": "238656f9",
   "metadata": {},
   "source": [
    "Select the last column as the target variable and split it into training and testing sets."
   ]
  },
  {
   "cell_type": "code",
   "execution_count": null,
   "id": "2acab0f0",
   "metadata": {},
   "outputs": [],
   "source": [
    "y = df.iloc[:, -1]\n",
    "y_train, y_test = train_test_split(y, test_size=0.2, random_state=42)"
   ]
  },
  {
   "cell_type": "markdown",
   "id": "14569379",
   "metadata": {},
   "source": [
    "Create and train a Keras Sequential model with one hidden layer."
   ]
  },
  {
   "cell_type": "code",
   "execution_count": null,
   "id": "4d803c96",
   "metadata": {},
   "outputs": [],
   "source": [
    "from keras.models import Sequential\n",
    "from keras.layers import Dense\n",
    "\n",
    "model = Sequential()\n",
    "model.add(Dense(64, activation='relu', input_shape=(x_train_normalized.shape[1],)))\n",
    "model.add(Dense(1, activation='sigmoid'))\n",
    "model.compile(optimizer='adam', loss='binary_crossentropy', metrics=['accuracy'])\n",
    "model.fit(x_train_normalized, y_train, epochs=10, batch_size=32)"
   ]
  },
  {
   "cell_type": "markdown",
   "id": "db31f435",
   "metadata": {},
   "source": [
    "Generate predictions on the normalized test data using the trained model."
   ]
  },
  {
   "cell_type": "code",
   "execution_count": null,
   "id": "91949cf1",
   "metadata": {},
   "outputs": [],
   "source": [
    "y_pred = model.predict(x_test_normalized)"
   ]
  }
 ],
 "metadata": {
  "kernelspec": {
   "display_name": "Python 3",
   "language": "python",
   "name": "python3"
  },
  "language_info": {
   "codemirror_mode": {
    "name": "ipython",
    "version": 3
   },
   "file_extension": ".py",
   "mimetype": "text/x-python",
   "name": "python",
   "nbconvert_exporter": "python",
   "pygments_lexer": "ipython3",
   "version": "3.8.5"
  }
 },
 "nbformat": 4,
 "nbformat_minor": 5
}
