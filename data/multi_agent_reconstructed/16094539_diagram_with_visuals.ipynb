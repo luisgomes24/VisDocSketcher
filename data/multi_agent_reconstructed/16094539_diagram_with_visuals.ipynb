{
 "cells": [
  {
   "cell_type": "markdown",
   "id": "33f152d0",
   "metadata": {},
   "source": [
    "Read the training and test CSV files into DataFrames."
   ]
  },
  {
   "cell_type": "code",
   "execution_count": null,
   "id": "62186227",
   "metadata": {},
   "outputs": [],
   "source": [
    "import pandas as pd\n",
    "train_data = pd.read_csv('Training Data.csv')\n",
    "test_data = pd.read_csv('Test Data.csv')"
   ]
  },
  {
   "cell_type": "markdown",
   "id": "1dd990b3",
   "metadata": {},
   "source": [
    "Concatenate the training and test DataFrames."
   ]
  },
  {
   "cell_type": "code",
   "execution_count": null,
   "id": "a27dd3de",
   "metadata": {},
   "outputs": [],
   "source": [
    "data = pd.concat([train_data, test_data])"
   ]
  },
  {
   "cell_type": "markdown",
   "id": "360bc1f2",
   "metadata": {},
   "source": [
    "Extract features (X) and the target variable (y) from the DataFrame."
   ]
  },
  {
   "cell_type": "code",
   "execution_count": null,
   "id": "5f716c24",
   "metadata": {},
   "outputs": [],
   "source": [
    "X = data.drop(columns=['target'])\n",
    "y = data['target']"
   ]
  },
  {
   "cell_type": "markdown",
   "id": "223fdcc1",
   "metadata": {},
   "source": [
    "Split the data into training and testing sets."
   ]
  },
  {
   "cell_type": "code",
   "execution_count": null,
   "id": "bb680569",
   "metadata": {},
   "outputs": [],
   "source": [
    "from sklearn.model_selection import train_test_split\n",
    "X_train, X_test, y_train, y_test = train_test_split(X, y, test_size=0.2, random_state=42)"
   ]
  },
  {
   "cell_type": "markdown",
   "id": "beb48e4f",
   "metadata": {},
   "source": [
    "Resample the training data to handle class imbalance."
   ]
  },
  {
   "cell_type": "code",
   "execution_count": null,
   "id": "ae0fae0d",
   "metadata": {},
   "outputs": [],
   "source": [
    "from imblearn.over_sampling import RandomOverSampler\n",
    "oversampler = RandomOverSampler()\n",
    "X_resampled, y_resampled = oversampler.fit_resample(X_train, y_train)"
   ]
  },
  {
   "cell_type": "markdown",
   "id": "41533fa5",
   "metadata": {},
   "source": [
    "Train a Random Forest classifier on the resampled training data."
   ]
  },
  {
   "cell_type": "code",
   "execution_count": null,
   "id": "0544d375",
   "metadata": {},
   "outputs": [],
   "source": [
    "from sklearn.ensemble import RandomForestClassifier\n",
    "model = RandomForestClassifier()\n",
    "model.fit(X_resampled, y_resampled)"
   ]
  },
  {
   "cell_type": "markdown",
   "id": "40622874",
   "metadata": {},
   "source": [
    "Make predictions on the test set."
   ]
  },
  {
   "cell_type": "code",
   "execution_count": null,
   "id": "3ffbf95d",
   "metadata": {},
   "outputs": [],
   "source": [
    "predictions = model.predict(X_test)"
   ]
  },
  {
   "cell_type": "markdown",
   "id": "a476cfc9",
   "metadata": {},
   "source": [
    "Prepare and save the submission file with predictions."
   ]
  },
  {
   "cell_type": "code",
   "execution_count": null,
   "id": "56efd1a5",
   "metadata": {},
   "outputs": [],
   "source": [
    "submission = pd.DataFrame({'Id': test_data.index, ' prediction': predictions})\n",
    "submission.to_csv('submission.csv', index=False)"
   ]
  }
 ],
 "metadata": {
  "kernelspec": {
   "display_name": "Python 3",
   "language": "python",
   "name": "python3"
  },
  "language_info": {
   "codemirror_mode": {
    "name": "ipython",
    "version": 3
   },
   "file_extension": ".py",
   "mimetype": "text/x-python",
   "name": "python",
   "nbconvert_exporter": "python",
   "pygments_lexer": "ipython3",
   "version": "3.8.5"
  }
 },
 "nbformat": 4,
 "nbformat_minor": 5
}
