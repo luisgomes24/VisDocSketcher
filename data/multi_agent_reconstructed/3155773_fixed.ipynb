{
 "cells": [
  {
   "cell_type": "markdown",
   "id": "2ea3d62a",
   "metadata": {},
   "source": [
    "Import necessary libraries for creating a neural network and loading the MNIST dataset."
   ]
  },
  {
   "cell_type": "code",
   "execution_count": null,
   "id": "6c8c9884",
   "metadata": {},
   "outputs": [],
   "source": [
    "import tensorflow as tf\n",
    "from tensorflow.keras import layers, models\n",
    "from tensorflow.keras.datasets import mnist"
   ]
  },
  {
   "cell_type": "markdown",
   "id": "c6194494",
   "metadata": {},
   "source": [
    "Load the MNIST dataset and split it into training and testing sets."
   ]
  },
  {
   "cell_type": "code",
   "execution_count": null,
   "id": "1680c3a3",
   "metadata": {},
   "outputs": [],
   "source": [
    "(x_train, y_train), (x_test, y_test) = mnist.load_data()"
   ]
  },
  {
   "cell_type": "markdown",
   "id": "b7e577b6",
   "metadata": {},
   "source": [
    "Normalize the pixel values of the images to the range [0, 1]."
   ]
  },
  {
   "cell_type": "code",
   "execution_count": null,
   "id": "7d6770ee",
   "metadata": {},
   "outputs": [],
   "source": [
    "x_train = x_train.astype('float32') / 255.0\n",
    "x_test = x_test.astype('float32') / 255.0"
   ]
  },
  {
   "cell_type": "markdown",
   "id": "2f61bdb0",
   "metadata": {},
   "source": [
    "Initialize a Sequential model to build the neural network architecture."
   ]
  },
  {
   "cell_type": "code",
   "execution_count": null,
   "id": "8f20b0f3",
   "metadata": {},
   "outputs": [],
   "source": [
    "model = models.Sequential()"
   ]
  },
  {
   "cell_type": "markdown",
   "id": "f845397a",
   "metadata": {},
   "source": [
    "Add a Flatten layer to convert 2D images to 1D vectors."
   ]
  },
  {
   "cell_type": "code",
   "execution_count": null,
   "id": "b5f14552",
   "metadata": {},
   "outputs": [],
   "source": [
    "model.add(layers.Flatten(input_shape=(28, 28)))"
   ]
  },
  {
   "cell_type": "markdown",
   "id": "5177c8a6",
   "metadata": {},
   "source": [
    "Add a Dense layer with 128 neurons and ReLU activation."
   ]
  },
  {
   "cell_type": "code",
   "execution_count": null,
   "id": "415d37bb",
   "metadata": {},
   "outputs": [],
   "source": [
    "model.add(layers.Dense(128, activation='relu'))"
   ]
  },
  {
   "cell_type": "markdown",
   "id": "9d7d7c3e",
   "metadata": {},
   "source": [
    "Add another Dense layer with 512 neurons and ReLU activation."
   ]
  },
  {
   "cell_type": "code",
   "execution_count": null,
   "id": "fc9c44df",
   "metadata": {},
   "outputs": [],
   "source": [
    "model.add(layers.Dense(512, activation='relu'))"
   ]
  },
  {
   "cell_type": "markdown",
   "id": "758c8a3c",
   "metadata": {},
   "source": [
    "Add a Dense layer with 1024 neurons and ReLU activation."
   ]
  },
  {
   "cell_type": "code",
   "execution_count": null,
   "id": "34959c39",
   "metadata": {},
   "outputs": [],
   "source": [
    "model.add(layers.Dense(1024, activation='relu'))"
   ]
  },
  {
   "cell_type": "markdown",
   "id": "720bfaff",
   "metadata": {},
   "source": [
    "Add another Dense layer with 512 neurons and ReLU activation."
   ]
  },
  {
   "cell_type": "code",
   "execution_count": null,
   "id": "97b0fa6d",
   "metadata": {},
   "outputs": [],
   "source": [
    "model.add(layers.Dense(512, activation='relu'))"
   ]
  },
  {
   "cell_type": "markdown",
   "id": "b9323840",
   "metadata": {},
   "source": [
    "Add a Dense layer with 128 neurons and ReLU activation."
   ]
  },
  {
   "cell_type": "code",
   "execution_count": null,
   "id": "57acf0b2",
   "metadata": {},
   "outputs": [],
   "source": [
    "model.add(layers.Dense(128, activation='relu'))"
   ]
  },
  {
   "cell_type": "markdown",
   "id": "1c5232ed",
   "metadata": {},
   "source": [
    "Add the final Dense layer with 10 neurons and softmax activation for classification."
   ]
  },
  {
   "cell_type": "code",
   "execution_count": null,
   "id": "a9976fe5",
   "metadata": {},
   "outputs": [],
   "source": [
    "model.add(layers.Dense(10, activation='softmax'))"
   ]
  },
  {
   "cell_type": "markdown",
   "id": "f85f75d2",
   "metadata": {},
   "source": [
    "Compile the model using Adam optimizer and specify the loss function and metrics."
   ]
  },
  {
   "cell_type": "code",
   "execution_count": null,
   "id": "8d709c3a",
   "metadata": {},
   "outputs": [],
   "source": [
    "model.compile(optimizer='adam', loss='sparse_categorical_crossentropy', metrics=['accuracy'])"
   ]
  },
  {
   "cell_type": "markdown",
   "id": "44e85e1d",
   "metadata": {},
   "source": [
    "Train the model with the training data for 10 epochs."
   ]
  },
  {
   "cell_type": "code",
   "execution_count": null,
   "id": "b7bb5477",
   "metadata": {},
   "outputs": [],
   "source": [
    "model.fit(x_train, y_train, epochs=10)"
   ]
  },
  {
   "cell_type": "markdown",
   "id": "827a867e",
   "metadata": {},
   "source": [
    "Normalize the testing data in the same way as the training data."
   ]
  },
  {
   "cell_type": "code",
   "execution_count": null,
   "id": "9daf8fab",
   "metadata": {},
   "outputs": [],
   "source": [
    "x_test = x_test.astype('float32') / 255.0"
   ]
  },
  {
   "cell_type": "markdown",
   "id": "734cf2d9",
   "metadata": {},
   "source": [
    "Evaluate the model using the testing data."
   ]
  },
  {
   "cell_type": "code",
   "execution_count": null,
   "id": "0660f9e0",
   "metadata": {},
   "outputs": [],
   "source": [
    "model.evaluate(x_test, y_test)"
   ]
  },
  {
   "cell_type": "markdown",
   "id": "f1496f37",
   "metadata": {},
   "source": [
    "Generate predictions for the test data."
   ]
  },
  {
   "cell_type": "code",
   "execution_count": null,
   "id": "4345ba14",
   "metadata": {},
   "outputs": [],
   "source": [
    "y_predict = model.predict(x_test)"
   ]
  },
  {
   "cell_type": "markdown",
   "id": "471c471f",
   "metadata": {},
   "source": [
    "Convert predicted probabilities to predicted class labels."
   ]
  },
  {
   "cell_type": "code",
   "execution_count": null,
   "id": "16bf3e4c",
   "metadata": {},
   "outputs": [],
   "source": [
    "import numpy as np\n",
    "y_pred = np.argmax(y_predict, axis=1)"
   ]
  },
  {
   "cell_type": "markdown",
   "id": "d83e9b1e",
   "metadata": {},
   "source": [
    "Compute confusion matrix and accuracy score based on predictions."
   ]
  },
  {
   "cell_type": "code",
   "execution_count": null,
   "id": "f3d77654",
   "metadata": {},
   "outputs": [],
   "source": [
    "from sklearn.metrics import confusion_matrix, accuracy_score\n",
    "cm = confusion_matrix(y_test, y_pred)\n",
    "acc = accuracy_score(y_test, y_pred)"
   ]
  },
  {
   "cell_type": "markdown",
   "id": "f9626121",
   "metadata": {},
   "source": [
    "Display the confusion matrix and the accuracy score."
   ]
  },
  {
   "cell_type": "code",
   "execution_count": null,
   "id": "4db102e6",
   "metadata": {},
   "outputs": [],
   "source": [
    "print('Confusion Matrix:\\n', cm)\n",
    "print('Accuracy Score:', acc)"
   ]
  }
 ],
 "metadata": {
  "kernelspec": {
   "display_name": "Python 3",
   "language": "python",
   "name": "python3"
  },
  "language_info": {
   "codemirror_mode": {
    "name": "ipython",
    "version": 3
   },
   "file_extension": ".py",
   "mimetype": "text/x-python",
   "name": "python",
   "nbconvert_exporter": "python",
   "pygments_lexer": "ipython3",
   "version": "3.8.5"
  }
 },
 "nbformat": 4,
 "nbformat_minor": 5
}
