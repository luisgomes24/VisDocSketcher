{
 "cells": [
  {
   "cell_type": "markdown",
   "id": "c514d82f",
   "metadata": {},
   "source": [
    "Load sensor geometry data from a CSV file."
   ]
  },
  {
   "cell_type": "code",
   "execution_count": null,
   "id": "38c38f5f",
   "metadata": {},
   "outputs": [],
   "source": [
    "import pandas as pd\n",
    "geometry = pd.read_csv('sensor_geometry.csv')"
   ]
  },
  {
   "cell_type": "markdown",
   "id": "0c45ec22",
   "metadata": {},
   "source": [
    "Load training metadata from a Parquet file."
   ]
  },
  {
   "cell_type": "code",
   "execution_count": null,
   "id": "7efb1ad2",
   "metadata": {},
   "outputs": [],
   "source": [
    "train = pd.read_parquet('train_meta.parquet')"
   ]
  },
  {
   "cell_type": "markdown",
   "id": "e6049f0e",
   "metadata": {},
   "source": [
    "Load event data from a specified Parquet file."
   ]
  },
  {
   "cell_type": "code",
   "execution_count": null,
   "id": "66bd8766",
   "metadata": {},
   "outputs": [],
   "source": [
    "batch_data = pd.read_parquet('batch_15.parquet')"
   ]
  },
  {
   "cell_type": "markdown",
   "id": "583d1535",
   "metadata": {},
   "source": [
    "Merge the train data with geometry data based on a common column."
   ]
  },
  {
   "cell_type": "code",
   "execution_count": null,
   "id": "8534aaa3",
   "metadata": {},
   "outputs": [],
   "source": [
    "meta_train = pd.merge(train, geometry, on='common_column')"
   ]
  },
  {
   "cell_type": "markdown",
   "id": "4f994617",
   "metadata": {},
   "source": [
    "Initialize a linear regression model for prediction."
   ]
  },
  {
   "cell_type": "code",
   "execution_count": null,
   "id": "901ff9fa",
   "metadata": {},
   "outputs": [],
   "source": [
    "from sklearn.linear_model import LinearRegression\n",
    "model = LinearRegression()"
   ]
  },
  {
   "cell_type": "markdown",
   "id": "96a90c68",
   "metadata": {},
   "source": [
    "Fit the model using features and target from the merged data."
   ]
  },
  {
   "cell_type": "code",
   "execution_count": null,
   "id": "f8b8233e",
   "metadata": {},
   "outputs": [],
   "source": [
    "X = meta_train[['features']]\n",
    "y = meta_train['target']\n",
    "model.fit(X, y)"
   ]
  },
  {
   "cell_type": "markdown",
   "id": "ad8f6fa7",
   "metadata": {},
   "source": [
    "Predict azimuth and zenith values using the model on batch data."
   ]
  },
  {
   "cell_type": "code",
   "execution_count": null,
   "id": "e3a92b20",
   "metadata": {},
   "outputs": [],
   "source": [
    "ssub = model.predict(batch_data[['features']])"
   ]
  },
  {
   "cell_type": "markdown",
   "id": "c69814c7",
   "metadata": {},
   "source": [
    "Create a submission DataFrame and save it to a Parquet file."
   ]
  },
  {
   "cell_type": "code",
   "execution_count": null,
   "id": "1cf2249a",
   "metadata": {},
   "outputs": [],
   "source": [
    "submission = pd.DataFrame(ssub, columns=['azimuth', 'zenith'])\n",
    "submission.to_parquet('sample_submission.parquet', index=False)"
   ]
  }
 ],
 "metadata": {
  "kernelspec": {
   "display_name": "Python 3",
   "language": "python",
   "name": "python3"
  },
  "language_info": {
   "codemirror_mode": {
    "name": "ipython",
    "version": 3
   },
   "file_extension": ".py",
   "mimetype": "text/x-python",
   "name": "python",
   "nbconvert_exporter": "python",
   "pygments_lexer": "ipython3",
   "version": "3.8.5"
  }
 },
 "nbformat": 4,
 "nbformat_minor": 5
}
