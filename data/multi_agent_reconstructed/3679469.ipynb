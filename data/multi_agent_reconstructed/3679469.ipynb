{
 "cells": [
  {
   "cell_type": "markdown",
   "id": "8a509dec",
   "metadata": {},
   "source": [
    "Read the CSV file into a DataFrame."
   ]
  },
  {
   "cell_type": "code",
   "execution_count": null,
   "id": "81c17e22",
   "metadata": {},
   "outputs": [],
   "source": [
    "import pandas as pd\n",
    "df = pd.read_csv('train.csv')"
   ]
  },
  {
   "cell_type": "markdown",
   "id": "65658608",
   "metadata": {},
   "source": [
    "Split the data into training and testing sets."
   ]
  },
  {
   "cell_type": "code",
   "execution_count": null,
   "id": "cf690445",
   "metadata": {},
   "outputs": [],
   "source": [
    "train = df.sample(frac=0.8, random_state=42)\n",
    "test = df.drop(train.index)"
   ]
  },
  {
   "cell_type": "markdown",
   "id": "2b822aed",
   "metadata": {},
   "source": [
    "Slice the training data into features and target."
   ]
  },
  {
   "cell_type": "code",
   "execution_count": null,
   "id": "09464b90",
   "metadata": {},
   "outputs": [],
   "source": [
    "train_y = train['target'].values\n",
    "train_X = train.drop('target', axis=1).values"
   ]
  },
  {
   "cell_type": "markdown",
   "id": "31ddc523",
   "metadata": {},
   "source": [
    "Slice the testing data into features and target."
   ]
  },
  {
   "cell_type": "code",
   "execution_count": null,
   "id": "5a370c06",
   "metadata": {},
   "outputs": [],
   "source": [
    "test_y = test['target'].values\n",
    "test_X = test.drop('target', axis=1).values"
   ]
  },
  {
   "cell_type": "markdown",
   "id": "e132a7d0",
   "metadata": {},
   "source": [
    "Prepare the Keras model structure."
   ]
  },
  {
   "cell_type": "code",
   "execution_count": null,
   "id": "526d055a",
   "metadata": {},
   "outputs": [],
   "source": [
    "from keras.models import Sequential\n",
    "from keras.layers import Dense\n",
    "model = Sequential()\n",
    "model.add(Dense(64, input_dim=train_X.shape[1], activation='relu'))\n",
    "model.add(Dense(1, activation='sigmoid'))"
   ]
  },
  {
   "cell_type": "markdown",
   "id": "e90c92d2",
   "metadata": {},
   "source": [
    "Compile the model with loss function and optimizer."
   ]
  },
  {
   "cell_type": "code",
   "execution_count": null,
   "id": "d33b0306",
   "metadata": {},
   "outputs": [],
   "source": [
    "model.compile(loss='binary_crossentropy', optimizer='adam', metrics=['accuracy'])"
   ]
  },
  {
   "cell_type": "markdown",
   "id": "103505fe",
   "metadata": {},
   "source": [
    "Train the model using the training data."
   ]
  },
  {
   "cell_type": "code",
   "execution_count": null,
   "id": "906e9d06",
   "metadata": {},
   "outputs": [],
   "source": [
    "model.fit(train_X, train_y, epochs=100, batch_size=10, verbose=0)"
   ]
  },
  {
   "cell_type": "markdown",
   "id": "e4bf4e08",
   "metadata": {},
   "source": [
    "Predict on the test data."
   ]
  },
  {
   "cell_type": "code",
   "execution_count": null,
   "id": "9d4a7613",
   "metadata": {},
   "outputs": [],
   "source": [
    "test_keras = model.predict(test_X)"
   ]
  },
  {
   "cell_type": "markdown",
   "id": "efacff2d",
   "metadata": {},
   "source": [
    "Visualize the model output."
   ]
  },
  {
   "cell_type": "code",
   "execution_count": null,
   "id": "d54aa8a3",
   "metadata": {},
   "outputs": [],
   "source": [
    "import matplotlib.pyplot as plt\n",
    "plt.bar(range(len(train_y)), train_y)\n",
    "plt.title('Model Output')\n",
    "plt.show()"
   ]
  },
  {
   "cell_type": "markdown",
   "id": "055bed10",
   "metadata": {},
   "source": [
    "Visualize the predictions."
   ]
  },
  {
   "cell_type": "code",
   "execution_count": null,
   "id": "1e0a1314",
   "metadata": {},
   "outputs": [],
   "source": [
    "plt.scatter(range(len(test_y)), test_keras)\n",
    "plt.title('Predictions')\n",
    "plt.show()"
   ]
  }
 ],
 "metadata": {
  "kernelspec": {
   "display_name": "Python 3",
   "language": "python",
   "name": "python3"
  },
  "language_info": {
   "codemirror_mode": {
    "name": "ipython",
    "version": 3
   },
   "file_extension": ".py",
   "mimetype": "text/x-python",
   "name": "python",
   "nbconvert_exporter": "python",
   "pygments_lexer": "ipython3",
   "version": "3.8.5"
  }
 },
 "nbformat": 4,
 "nbformat_minor": 5
}
