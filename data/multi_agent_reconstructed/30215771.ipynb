{
 "cells": [
  {
   "cell_type": "markdown",
   "id": "4557e963",
   "metadata": {},
   "source": [
    "Load the course data from 'coursea_data.csv' into a DataFrame."
   ]
  },
  {
   "cell_type": "code",
   "execution_count": null,
   "id": "e24407c1",
   "metadata": {},
   "outputs": [],
   "source": [
    "import pandas as pd\n",
    "df = pd.read_csv('coursea_data.csv')"
   ]
  },
  {
   "cell_type": "markdown",
   "id": "69bd9ecd",
   "metadata": {},
   "source": [
    "Perform initial exploration by displaying the first few rows of the DataFrame."
   ]
  },
  {
   "cell_type": "code",
   "execution_count": null,
   "id": "09846cb5",
   "metadata": {},
   "outputs": [],
   "source": [
    "# Data exploration and visualization\n",
    "print(df.head())"
   ]
  },
  {
   "cell_type": "markdown",
   "id": "ff15f41c",
   "metadata": {},
   "source": [
    "Drop the 'Unnamed' column from the DataFrame."
   ]
  },
  {
   "cell_type": "code",
   "execution_count": null,
   "id": "f0910eab",
   "metadata": {},
   "outputs": [],
   "source": [
    "df.drop(columns=['Unnamed'], inplace=True)"
   ]
  },
  {
   "cell_type": "markdown",
   "id": "8b791bc4",
   "metadata": {},
   "source": [
    "Modify 'df' to create 'df_fe1' and adjust 'course_students_enrolled' by scaling."
   ]
  },
  {
   "cell_type": "code",
   "execution_count": null,
   "id": "8f94b859",
   "metadata": {},
   "outputs": [],
   "source": [
    "df_fe1 = df.copy()\n",
    "df_fe1['course_students_enrolled'] *= 1.1"
   ]
  },
  {
   "cell_type": "markdown",
   "id": "03c05e9a",
   "metadata": {},
   "source": [
    "Modify the 'course_difficulty' column to numerical values for easier analysis."
   ]
  },
  {
   "cell_type": "code",
   "execution_count": null,
   "id": "278039ca",
   "metadata": {},
   "outputs": [],
   "source": [
    "df_fe1['course_difficulty'] = df_fe1['course_difficulty'].replace({'Easy': 1, 'Medium': 2, 'Hard': 3})"
   ]
  },
  {
   "cell_type": "markdown",
   "id": "84ede138",
   "metadata": {},
   "source": [
    "Load reviews from 'Coursera_reviews.csv' into a DataFrame."
   ]
  },
  {
   "cell_type": "code",
   "execution_count": null,
   "id": "ee29e3a6",
   "metadata": {},
   "outputs": [],
   "source": [
    "reviews = pd.read_csv('Coursera_reviews.csv')"
   ]
  },
  {
   "cell_type": "markdown",
   "id": "d7a012ce",
   "metadata": {},
   "source": [
    "Conduct sentiment analysis on the loaded reviews."
   ]
  },
  {
   "cell_type": "code",
   "execution_count": null,
   "id": "56d56c18",
   "metadata": {},
   "outputs": [],
   "source": [
    "sentiment_analysis(reviews)"
   ]
  },
  {
   "cell_type": "markdown",
   "id": "f7477d79",
   "metadata": {},
   "source": [
    "Group reviews by 'course' and calculate the average rating."
   ]
  },
  {
   "cell_type": "code",
   "execution_count": null,
   "id": "2ed049fc",
   "metadata": {},
   "outputs": [],
   "source": [
    "grouped_reviews = reviews.groupby('course')['rating'].mean()"
   ]
  },
  {
   "cell_type": "markdown",
   "id": "3c5ef5d5",
   "metadata": {},
   "source": [
    "Calculate the correlation between 'course_difficulty' and average ratings."
   ]
  },
  {
   "cell_type": "code",
   "execution_count": null,
   "id": "d090a1f3",
   "metadata": {},
   "outputs": [],
   "source": [
    "correlation = df_fe1['course_difficulty'].corr(grouped_reviews)"
   ]
  },
  {
   "cell_type": "markdown",
   "id": "200ccdf6",
   "metadata": {},
   "source": [
    "Group 'df_fe1' by 'organization' and sum 'course_students_enrolled'."
   ]
  },
  {
   "cell_type": "code",
   "execution_count": null,
   "id": "2288cafd",
   "metadata": {},
   "outputs": [],
   "source": [
    "g_uni = df_fe1.groupby('organization')['course_students_enrolled'].sum()"
   ]
  },
  {
   "cell_type": "markdown",
   "id": "53efd012",
   "metadata": {},
   "source": [
    "Visualize course organization metrics using a bar chart."
   ]
  },
  {
   "cell_type": "code",
   "execution_count": null,
   "id": "4dee1edc",
   "metadata": {},
   "outputs": [],
   "source": [
    "import matplotlib.pyplot as plt\n",
    "plt.bar(g_uni.index, g_uni.values)\n",
    "plt.title('Course Organization Metrics')\n",
    "plt.show()"
   ]
  }
 ],
 "metadata": {
  "kernelspec": {
   "display_name": "Python 3",
   "language": "python",
   "name": "python3"
  },
  "language_info": {
   "codemirror_mode": {
    "name": "ipython",
    "version": 3
   },
   "file_extension": ".py",
   "mimetype": "text/x-python",
   "name": "python",
   "nbconvert_exporter": "python",
   "pygments_lexer": "ipython3",
   "version": "3.8.5"
  }
 },
 "nbformat": 4,
 "nbformat_minor": 5
}
