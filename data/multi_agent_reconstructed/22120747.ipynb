{
 "cells": [
  {
   "cell_type": "markdown",
   "id": "30dce235",
   "metadata": {},
   "source": [
    "Load images and their corresponding labels from the specified directory using ImageFolder."
   ]
  },
  {
   "cell_type": "code",
   "execution_count": null,
   "id": "28a2a5f8",
   "metadata": {},
   "outputs": [],
   "source": [
    "import os\n",
    "from torchvision import datasets\n",
    "\n",
    "image_dir = '../input/ballon-dor-2021-images'\n",
    "\n",
    "dataset = datasets.ImageFolder(root=image_dir)\n",
    "labels = dataset.targets"
   ]
  },
  {
   "cell_type": "markdown",
   "id": "f08653d6",
   "metadata": {},
   "source": [
    "Create DataLoader instances with a specified batch size and shuffling enabled for training."
   ]
  },
  {
   "cell_type": "code",
   "execution_count": null,
   "id": "45192c85",
   "metadata": {},
   "outputs": [],
   "source": [
    "from torch.utils.data import DataLoader\n",
    "\n",
    "dls = DataLoader(dataset, batch_size=32, shuffle=True)"
   ]
  },
  {
   "cell_type": "markdown",
   "id": "b8928e5f",
   "metadata": {},
   "source": [
    "Output confirmation that the DataLoaders have been successfully created."
   ]
  },
  {
   "cell_type": "code",
   "execution_count": null,
   "id": "e25f36d3",
   "metadata": {},
   "outputs": [],
   "source": [
    "print('DataLoaders created')"
   ]
  }
 ],
 "metadata": {
  "kernelspec": {
   "display_name": "Python 3",
   "language": "python",
   "name": "python3"
  },
  "language_info": {
   "codemirror_mode": {
    "name": "ipython",
    "version": 3
   },
   "file_extension": ".py",
   "mimetype": "text/x-python",
   "name": "python",
   "nbconvert_exporter": "python",
   "pygments_lexer": "ipython3",
   "version": "3.8.5"
  }
 },
 "nbformat": 4,
 "nbformat_minor": 5
}
