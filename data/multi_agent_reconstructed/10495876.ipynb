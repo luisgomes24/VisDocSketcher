{
 "cells": [
  {
   "cell_type": "markdown",
   "id": "682f3533",
   "metadata": {},
   "source": [
    "Load the dataset from the Excel file."
   ]
  },
  {
   "cell_type": "code",
   "execution_count": null,
   "id": "4b548c25",
   "metadata": {},
   "outputs": [],
   "source": [
    "import pandas as pd\n",
    "\n",
    "df = pd.read_excel('Kaggle_Sirio_Libanes_ICU_Prediction.xlsx')"
   ]
  },
  {
   "cell_type": "markdown",
   "id": "e8e4ec92",
   "metadata": {},
   "source": [
    "Drop any rows with NaN values and fill remaining NaNs with 0."
   ]
  },
  {
   "cell_type": "code",
   "execution_count": null,
   "id": "decfd324",
   "metadata": {},
   "outputs": [],
   "source": [
    "df = df.dropna().fillna(0)"
   ]
  },
  {
   "cell_type": "markdown",
   "id": "cf6b2cdd",
   "metadata": {},
   "source": [
    "Extract features 'x' and target 'y' from the DataFrame."
   ]
  },
  {
   "cell_type": "code",
   "execution_count": null,
   "id": "d361e708",
   "metadata": {},
   "outputs": [],
   "source": [
    "x = df.drop('target_column', axis=1)\n",
    "y = df['target_column']"
   ]
  },
  {
   "cell_type": "markdown",
   "id": "49805526",
   "metadata": {},
   "source": [
    "Split data into training and testing sets."
   ]
  },
  {
   "cell_type": "code",
   "execution_count": null,
   "id": "40ddebe3",
   "metadata": {},
   "outputs": [],
   "source": [
    "from sklearn.model_selection import train_test_split\n",
    "train_clfs, test_clfs, train_y, test_y = train_test_split(x, y, test_size=0.2, random_state=42)"
   ]
  },
  {
   "cell_type": "markdown",
   "id": "6b383ce1",
   "metadata": {},
   "source": [
    "Train a Decision Tree classifier."
   ]
  },
  {
   "cell_type": "code",
   "execution_count": null,
   "id": "c28dc915",
   "metadata": {},
   "outputs": [],
   "source": [
    "from sklearn.tree import DecisionTreeClassifier\n",
    "clf1 = DecisionTreeClassifier().fit(train_clfs, train_y)"
   ]
  },
  {
   "cell_type": "markdown",
   "id": "a6c0b901",
   "metadata": {},
   "source": [
    "Train a Logistic Regression classifier."
   ]
  },
  {
   "cell_type": "code",
   "execution_count": null,
   "id": "3259e8d7",
   "metadata": {},
   "outputs": [],
   "source": [
    "from sklearn.linear_model import LogisticRegression\n",
    "clf2 = LogisticRegression().fit(train_clfs, train_y)"
   ]
  },
  {
   "cell_type": "markdown",
   "id": "42cdf7b4",
   "metadata": {},
   "source": [
    "Train a K-Neighbors classifier."
   ]
  },
  {
   "cell_type": "code",
   "execution_count": null,
   "id": "9cecb87c",
   "metadata": {},
   "outputs": [],
   "source": [
    "from sklearn.neighbors import KNeighborsClassifier\n",
    "clf3 = KNeighborsClassifier().fit(train_clfs, train_y)"
   ]
  },
  {
   "cell_type": "markdown",
   "id": "72f137fe",
   "metadata": {},
   "source": [
    "Train a Random Forest classifier."
   ]
  },
  {
   "cell_type": "code",
   "execution_count": null,
   "id": "3093d83a",
   "metadata": {},
   "outputs": [],
   "source": [
    "from sklearn.ensemble import RandomForestClassifier\n",
    "clf4 = RandomForestClassifier().fit(train_clfs, train_y)"
   ]
  },
  {
   "cell_type": "markdown",
   "id": "f9861f5d",
   "metadata": {},
   "source": [
    "Train an AdaBoost classifier."
   ]
  },
  {
   "cell_type": "code",
   "execution_count": null,
   "id": "8f0a9497",
   "metadata": {},
   "outputs": [],
   "source": [
    "from sklearn.ensemble import AdaBoostClassifier\n",
    "clf5 = AdaBoostClassifier().fit(train_clfs, train_y)"
   ]
  },
  {
   "cell_type": "markdown",
   "id": "26b79252",
   "metadata": {},
   "source": [
    "Train a Support Vector Machine classifier."
   ]
  },
  {
   "cell_type": "code",
   "execution_count": null,
   "id": "68edd75c",
   "metadata": {},
   "outputs": [],
   "source": [
    "from sklearn.svm import SVC\n",
    "clf6 = SVC().fit(train_clfs, train_y)"
   ]
  },
  {
   "cell_type": "markdown",
   "id": "893b012b",
   "metadata": {},
   "source": [
    "Store the results of all classifiers."
   ]
  },
  {
   "cell_type": "code",
   "execution_count": null,
   "id": "11ebea71",
   "metadata": {},
   "outputs": [],
   "source": [
    "results = [clf1.score(test_clfs, test_y), clf2.score(test_clfs, test_y), clf3.score(test_clfs, test_y), clf4.score(test_clfs, test_y), clf5.score(test_clfs, test_y), clf6.score(test_clfs, test_y)]"
   ]
  },
  {
   "cell_type": "markdown",
   "id": "6632b3b6",
   "metadata": {},
   "source": [
    "Create a DataFrame to hold the accuracy results."
   ]
  },
  {
   "cell_type": "code",
   "execution_count": null,
   "id": "34d4cc92",
   "metadata": {},
   "outputs": [],
   "source": [
    "df_results_test = pd.DataFrame(results, columns=['accuracy'])"
   ]
  },
  {
   "cell_type": "markdown",
   "id": "8b647b27",
   "metadata": {},
   "source": [
    "Train an XGBoost model."
   ]
  },
  {
   "cell_type": "code",
   "execution_count": null,
   "id": "5ff896bb",
   "metadata": {},
   "outputs": [],
   "source": [
    "import xgboost as xgb\n",
    "train_xgb = xgb.DMatrix(data=train_clfs, label=train_y)\n",
    "model = xgb.train(params, train_xgb)"
   ]
  },
  {
   "cell_type": "markdown",
   "id": "c82ac452",
   "metadata": {},
   "source": [
    "Store the prediction results from the XGBoost model."
   ]
  },
  {
   "cell_type": "code",
   "execution_count": null,
   "id": "a15a5f8b",
   "metadata": {},
   "outputs": [],
   "source": [
    "df_results_xgb = model.predict(xgb.DMatrix(test_clfs))"
   ]
  },
  {
   "cell_type": "markdown",
   "id": "3222a796",
   "metadata": {},
   "source": [
    "Combine results from classifiers and XGBoost."
   ]
  },
  {
   "cell_type": "code",
   "execution_count": null,
   "id": "4ab273c9",
   "metadata": {},
   "outputs": [],
   "source": [
    "df_results = pd.concat([df_results_test, pd.DataFrame(df_results_xgb)], axis=1)"
   ]
  },
  {
   "cell_type": "markdown",
   "id": "89774c0c",
   "metadata": {},
   "source": [
    "Prepare data for plotting."
   ]
  },
  {
   "cell_type": "code",
   "execution_count": null,
   "id": "4f6f3b15",
   "metadata": {},
   "outputs": [],
   "source": [
    "df_plot = df_results.melt()"
   ]
  },
  {
   "cell_type": "markdown",
   "id": "e32e5f30",
   "metadata": {},
   "source": [
    "Plot the accuracy results of classifiers."
   ]
  },
  {
   "cell_type": "code",
   "execution_count": null,
   "id": "4dc5f4da",
   "metadata": {},
   "outputs": [],
   "source": [
    "import matplotlib.pyplot as plt\n",
    "plt.figure(figsize=(10,6))\n",
    "plt.bar(df_plot['variable'], df_plot['value'])\n",
    "plt.title('Model Accuracy Results')\n",
    "plt.xlabel('Models')\n",
    "plt.ylabel('Accuracy')\n",
    "plt.show()"
   ]
  }
 ],
 "metadata": {
  "kernelspec": {
   "display_name": "Python 3",
   "language": "python",
   "name": "python3"
  },
  "language_info": {
   "codemirror_mode": {
    "name": "ipython",
    "version": 3
   },
   "file_extension": ".py",
   "mimetype": "text/x-python",
   "name": "python",
   "nbconvert_exporter": "python",
   "pygments_lexer": "ipython3",
   "version": "3.8.5"
  }
 },
 "nbformat": 4,
 "nbformat_minor": 5
}
