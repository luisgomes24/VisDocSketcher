{
 "cells": [
  {
   "cell_type": "markdown",
   "id": "474f84ab",
   "metadata": {},
   "source": [
    "Load the dataset from a CSV file using pandas."
   ]
  },
  {
   "cell_type": "code",
   "execution_count": null,
   "id": "2cff6943",
   "metadata": {},
   "outputs": [],
   "source": [
    "import pandas as pd\n",
    "skin_df = pd.read_csv('/kaggle/input/skin-cancer-mnist-ham10000/HAM10000_metadata.csv')"
   ]
  },
  {
   "cell_type": "markdown",
   "id": "ee860bd6",
   "metadata": {},
   "source": [
    "Create a dictionary mapping image IDs to their respective diseases."
   ]
  },
  {
   "cell_type": "code",
   "execution_count": null,
   "id": "50586056",
   "metadata": {},
   "outputs": [],
   "source": [
    "img_to_class_dict = {row['image_id']: row['diagnosis'] for _, row in skin_df.iterrows()}"
   ]
  },
  {
   "cell_type": "markdown",
   "id": "99bccbb5",
   "metadata": {},
   "source": [
    "Encapsulate the data into DataLoaders for use in training."
   ]
  },
  {
   "cell_type": "code",
   "execution_count": null,
   "id": "d82b7b24",
   "metadata": {},
   "outputs": [],
   "source": [
    "from fastai.vision.all import DataLoaders\n",
    "\n",
    "# Code to create DataLoaders goes here\n",
    "dls = DataLoaders()"
   ]
  },
  {
   "cell_type": "markdown",
   "id": "6d2226e1",
   "metadata": {},
   "source": [
    "Initialize the learner with the DataLoaders and the ResNet34 model."
   ]
  },
  {
   "cell_type": "code",
   "execution_count": null,
   "id": "d3ea93e7",
   "metadata": {},
   "outputs": [],
   "source": [
    "from fastai.vision.all import cnn_learner, resnet34\n",
    "learn = cnn_learner(dls, resnet34)"
   ]
  },
  {
   "cell_type": "markdown",
   "id": "e2c1efd6",
   "metadata": {},
   "source": [
    "Train the model for 3 epochs with a learning rate of 0.01."
   ]
  },
  {
   "cell_type": "code",
   "execution_count": null,
   "id": "d7e2a112",
   "metadata": {},
   "outputs": [],
   "source": [
    "learn.fit(3, lr=1e-2)"
   ]
  }
 ],
 "metadata": {
  "kernelspec": {
   "display_name": "Python 3",
   "language": "python",
   "name": "python3"
  },
  "language_info": {
   "codemirror_mode": {
    "name": "ipython",
    "version": 3
   },
   "file_extension": ".py",
   "mimetype": "text/x-python",
   "name": "python",
   "nbconvert_exporter": "python",
   "pygments_lexer": "ipython3",
   "version": "3.8.5"
  }
 },
 "nbformat": 4,
 "nbformat_minor": 5
}
