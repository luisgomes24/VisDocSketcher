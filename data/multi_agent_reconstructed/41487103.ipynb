{
 "cells": [
  {
   "cell_type": "markdown",
   "id": "e68e5cf4",
   "metadata": {},
   "source": [
    "Read the CSV file using pandas and store it in a DataFrame."
   ]
  },
  {
   "cell_type": "code",
   "execution_count": null,
   "id": "a726da22",
   "metadata": {},
   "outputs": [],
   "source": [
    "import pandas as pd\n",
    "\n",
    "train_csv = pd.read_csv('train.csv')"
   ]
  },
  {
   "cell_type": "markdown",
   "id": "7987a418",
   "metadata": {},
   "source": [
    "Count occurrences of each injury type in the dataset."
   ]
  },
  {
   "cell_type": "code",
   "execution_count": null,
   "id": "95e529e0",
   "metadata": {},
   "outputs": [],
   "source": [
    "injury_counts = train_csv['injury'].value_counts()"
   ]
  },
  {
   "cell_type": "markdown",
   "id": "922c0a94",
   "metadata": {},
   "source": [
    "Visualize the injury counts with a scatter plot."
   ]
  },
  {
   "cell_type": "code",
   "execution_count": null,
   "id": "a9147198",
   "metadata": {},
   "outputs": [],
   "source": [
    "import matplotlib.pyplot as plt\n",
    "\n",
    "plt.scatter(injury_counts.index, injury_counts.values)\n",
    "plt.xlabel('Injury Type')\n",
    "plt.ylabel('Counts')\n",
    "plt.title('Injury Counts')\n",
    "plt.show()"
   ]
  }
 ],
 "metadata": {
  "kernelspec": {
   "display_name": "Python 3",
   "language": "python",
   "name": "python3"
  },
  "language_info": {
   "codemirror_mode": {
    "name": "ipython",
    "version": 3
   },
   "file_extension": ".py",
   "mimetype": "text/x-python",
   "name": "python",
   "nbconvert_exporter": "python",
   "pygments_lexer": "ipython3",
   "version": "3.8.5"
  }
 },
 "nbformat": 4,
 "nbformat_minor": 5
}
