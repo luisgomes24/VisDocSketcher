{
 "cells": [
  {
   "cell_type": "markdown",
   "id": "d4ffb36d",
   "metadata": {},
   "source": [
    "Load the adjusted submission data into a DataFrame named df_test."
   ]
  },
  {
   "cell_type": "code",
   "execution_count": null,
   "id": "fd252c25",
   "metadata": {},
   "outputs": [],
   "source": [
    "import pandas as pd\n",
    "\n",
    "df_test = pd.read_csv('submission_adjusted.csv')"
   ]
  },
  {
   "cell_type": "markdown",
   "id": "28e6ca53",
   "metadata": {},
   "source": [
    "Load the training data into a DataFrame named train."
   ]
  },
  {
   "cell_type": "code",
   "execution_count": null,
   "id": "f9979bb2",
   "metadata": {},
   "outputs": [],
   "source": [
    "train = pd.read_csv('train_V2.csv')"
   ]
  },
  {
   "cell_type": "markdown",
   "id": "5faa656b",
   "metadata": {},
   "source": [
    "Load submission ensemble data into a DataFrame named df_sub."
   ]
  },
  {
   "cell_type": "code",
   "execution_count": null,
   "id": "d30eb4c2",
   "metadata": {},
   "outputs": [],
   "source": [
    "df_sub = pd.read_csv('submission_ensemble_v5.csv')"
   ]
  },
  {
   "cell_type": "markdown",
   "id": "292c9774",
   "metadata": {},
   "source": [
    "Group the df_sub DataFrame by 'group' and calculate the mean."
   ]
  },
  {
   "cell_type": "code",
   "execution_count": null,
   "id": "5e8cdf16",
   "metadata": {},
   "outputs": [],
   "source": [
    "df_sub_group = df_sub.groupby('group').mean()"
   ]
  },
  {
   "cell_type": "markdown",
   "id": "10408850",
   "metadata": {},
   "source": [
    "Import LightGBM and initialize the model."
   ]
  },
  {
   "cell_type": "code",
   "execution_count": null,
   "id": "81d8df20",
   "metadata": {},
   "outputs": [],
   "source": [
    "from lightgbm import LGBMClassifier\n",
    "model_lgbm = LGBMClassifier()"
   ]
  },
  {
   "cell_type": "markdown",
   "id": "aa4e52b7",
   "metadata": {},
   "source": [
    "Import Sequential from Keras to build a neural network model."
   ]
  },
  {
   "cell_type": "code",
   "execution_count": null,
   "id": "02a382c1",
   "metadata": {},
   "outputs": [],
   "source": [
    "from keras.models import Sequential\n",
    "model_nn = Sequential()"
   ]
  },
  {
   "cell_type": "markdown",
   "id": "b0e9e63f",
   "metadata": {},
   "source": [
    "Fit the LightGBM model on the training data and predict using df_test."
   ]
  },
  {
   "cell_type": "code",
   "execution_count": null,
   "id": "3ca30d22",
   "metadata": {},
   "outputs": [],
   "source": [
    "predictions_lgbm = model_lgbm.fit(train.iloc[:, :-1], train.iloc[:, -1]).predict(df_test)"
   ]
  },
  {
   "cell_type": "markdown",
   "id": "df0ba054",
   "metadata": {},
   "source": [
    "Predict outcomes using the neural network model on df_test."
   ]
  },
  {
   "cell_type": "code",
   "execution_count": null,
   "id": "552ec41b",
   "metadata": {},
   "outputs": [],
   "source": [
    "predictions_nn = model_nn.predict(df_test)"
   ]
  },
  {
   "cell_type": "markdown",
   "id": "60b416bc",
   "metadata": {},
   "source": [
    "Create a DataFrame to hold predictions from both models."
   ]
  },
  {
   "cell_type": "code",
   "execution_count": null,
   "id": "4e76c3bc",
   "metadata": {},
   "outputs": [],
   "source": [
    "df_final = pd.DataFrame({'lgbm': predictions_lgbm, 'nn': predictions_nn})"
   ]
  },
  {
   "cell_type": "markdown",
   "id": "e6e76ce5",
   "metadata": {},
   "source": [
    "Save the combined predictions as a CSV file."
   ]
  },
  {
   "cell_type": "code",
   "execution_count": null,
   "id": "f5fecb1a",
   "metadata": {},
   "outputs": [],
   "source": [
    "df_final.to_csv('submission_ensemble_l2_v4.csv', index=False)"
   ]
  }
 ],
 "metadata": {
  "kernelspec": {
   "display_name": "Python 3",
   "language": "python",
   "name": "python3"
  },
  "language_info": {
   "codemirror_mode": {
    "name": "ipython",
    "version": 3
   },
   "file_extension": ".py",
   "mimetype": "text/x-python",
   "name": "python",
   "nbconvert_exporter": "python",
   "pygments_lexer": "ipython3",
   "version": "3.8.5"
  }
 },
 "nbformat": 4,
 "nbformat_minor": 5
}
