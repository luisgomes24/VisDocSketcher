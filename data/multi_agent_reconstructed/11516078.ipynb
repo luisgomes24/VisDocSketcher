{
 "cells": [
  {
   "cell_type": "markdown",
   "id": "1d36f35e",
   "metadata": {},
   "source": [
    "Load the CSV file into a DataFrame using pandas."
   ]
  },
  {
   "cell_type": "code",
   "execution_count": null,
   "id": "4723f889",
   "metadata": {},
   "outputs": [],
   "source": [
    "import pandas as pd\n",
    "\n",
    "df1 = pd.read_csv('sentiment3.csv')"
   ]
  },
  {
   "cell_type": "markdown",
   "id": "3ab7faca",
   "metadata": {},
   "source": [
    "Display the first few rows of the DataFrame for data preview."
   ]
  },
  {
   "cell_type": "code",
   "execution_count": null,
   "id": "8ad74576",
   "metadata": {},
   "outputs": [],
   "source": [
    "df1.head()"
   ]
  },
  {
   "cell_type": "markdown",
   "id": "f8daeae2",
   "metadata": {},
   "source": [
    "Define a function to plot the distribution for each column in the DataFrame."
   ]
  },
  {
   "cell_type": "code",
   "execution_count": null,
   "id": "344875f4",
   "metadata": {},
   "outputs": [],
   "source": [
    "import matplotlib.pyplot as plt\n",
    "import seaborn as sns\n",
    "\n",
    "def plot_per_column_distribution(df):\n",
    "    df.hist(figsize=(10, 10))\n",
    "    plt.tight_layout()\n",
    "    plt.show()"
   ]
  },
  {
   "cell_type": "markdown",
   "id": "0f967a19",
   "metadata": {},
   "source": [
    "Call the function to visualize the distribution of columns in the DataFrame."
   ]
  },
  {
   "cell_type": "code",
   "execution_count": null,
   "id": "b64d4b9d",
   "metadata": {},
   "outputs": [],
   "source": [
    "plot_per_column_distribution(df1)"
   ]
  },
  {
   "cell_type": "markdown",
   "id": "608057fd",
   "metadata": {},
   "source": [
    "Define a function to plot the correlation matrix of the DataFrame."
   ]
  },
  {
   "cell_type": "code",
   "execution_count": null,
   "id": "03006b31",
   "metadata": {},
   "outputs": [],
   "source": [
    "def plot_correlation_matrix(df):\n",
    "    plt.figure(figsize=(10, 8))\n",
    "    sns.heatmap(df.corr(), annot=True, cmap='coolwarm')\n",
    "    plt.show()"
   ]
  },
  {
   "cell_type": "markdown",
   "id": "1f24e353",
   "metadata": {},
   "source": [
    "Call the function to visualize the correlation between columns."
   ]
  },
  {
   "cell_type": "code",
   "execution_count": null,
   "id": "96b98aba",
   "metadata": {},
   "outputs": [],
   "source": [
    "plot_correlation_matrix(df1)"
   ]
  },
  {
   "cell_type": "markdown",
   "id": "774c93eb",
   "metadata": {},
   "source": [
    "Define a function to create a scatter matrix for the DataFrame."
   ]
  },
  {
   "cell_type": "code",
   "execution_count": null,
   "id": "a4a06816",
   "metadata": {},
   "outputs": [],
   "source": [
    "def plot_scatter_matrix(df):\n",
    "    pd.plotting.scatter_matrix(df, figsize=(12, 12), diagonal='kde')\n",
    "    plt.show()"
   ]
  },
  {
   "cell_type": "markdown",
   "id": "7ff18545",
   "metadata": {},
   "source": [
    "Call the function to visualize relationships between pairs of columns."
   ]
  },
  {
   "cell_type": "code",
   "execution_count": null,
   "id": "bf0b72a3",
   "metadata": {},
   "outputs": [],
   "source": [
    "plot_scatter_matrix(df1)"
   ]
  }
 ],
 "metadata": {
  "kernelspec": {
   "display_name": "Python 3",
   "language": "python",
   "name": "python3"
  },
  "language_info": {
   "codemirror_mode": {
    "name": "ipython",
    "version": 3
   },
   "file_extension": ".py",
   "mimetype": "text/x-python",
   "name": "python",
   "nbconvert_exporter": "python",
   "pygments_lexer": "ipython3",
   "version": "3.8.5"
  }
 },
 "nbformat": 4,
 "nbformat_minor": 5
}
