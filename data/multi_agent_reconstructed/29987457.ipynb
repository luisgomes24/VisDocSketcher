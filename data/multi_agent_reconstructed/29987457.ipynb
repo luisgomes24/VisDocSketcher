{
 "cells": [
  {
   "cell_type": "markdown",
   "id": "23bd794d",
   "metadata": {},
   "source": [
    "Load the video file using OpenCV."
   ]
  },
  {
   "cell_type": "code",
   "execution_count": null,
   "id": "d1d6e7bd",
   "metadata": {},
   "outputs": [],
   "source": [
    "import cv2\n",
    "video_path = '019d5b34_1.mp4'\n",
    "video_capture = cv2.VideoCapture(video_path)"
   ]
  },
  {
   "cell_type": "markdown",
   "id": "b0acbdc2",
   "metadata": {},
   "source": [
    "Extract frames from the video until it's finished."
   ]
  },
  {
   "cell_type": "code",
   "execution_count": null,
   "id": "c0ed0905",
   "metadata": {},
   "outputs": [],
   "source": [
    "frames = []\n",
    "while(video_capture.isOpened()): \n",
    "    ret, frame = video_capture.read()\n",
    "    if not ret: break\n",
    "    frames.append(frame)\n",
    "video_capture.release()"
   ]
  },
  {
   "cell_type": "markdown",
   "id": "3c6d69fa",
   "metadata": {},
   "source": [
    "Load the YOLOv5 model for object detection."
   ]
  },
  {
   "cell_type": "code",
   "execution_count": null,
   "id": "51384231",
   "metadata": {},
   "outputs": [],
   "source": [
    "import torch\n",
    "model = torch.hub.load('ultralytics/yolov5', 'custom', path='yolov5l_trained_600images.pt')"
   ]
  },
  {
   "cell_type": "markdown",
   "id": "6675665f",
   "metadata": {},
   "source": [
    "Perform detection on the extracted frames and retrieve results as a DataFrame."
   ]
  },
  {
   "cell_type": "code",
   "execution_count": null,
   "id": "ce541687",
   "metadata": {},
   "outputs": [],
   "source": [
    "results = model(frames)\n",
    "results_df = results.pandas().xyxy[0]"
   ]
  },
  {
   "cell_type": "markdown",
   "id": "f7e4a6ab",
   "metadata": {},
   "source": [
    "Filter the detection results to keep those with confidence above 0.65."
   ]
  },
  {
   "cell_type": "code",
   "execution_count": null,
   "id": "72333902",
   "metadata": {},
   "outputs": [],
   "source": [
    "filtered_results = results_df[results_df['confidence'] > 0.65]"
   ]
  },
  {
   "cell_type": "markdown",
   "id": "bee8d3ff",
   "metadata": {},
   "source": [
    "Create a DataFrame to store the filtered detection results."
   ]
  },
  {
   "cell_type": "code",
   "execution_count": null,
   "id": "93392d8d",
   "metadata": {},
   "outputs": [],
   "source": [
    "import pandas as pd\n",
    "box_df = pd.DataFrame(filtered_results)"
   ]
  },
  {
   "cell_type": "markdown",
   "id": "53888b3a",
   "metadata": {},
   "source": [
    "Visualize the filtered detections using a box plot."
   ]
  },
  {
   "cell_type": "code",
   "execution_count": null,
   "id": "f20a60eb",
   "metadata": {},
   "outputs": [],
   "source": [
    "import matplotlib.pyplot as plt\n",
    "plt.boxplot(box_df['confidence'])\n",
    "plt.show()"
   ]
  },
  {
   "cell_type": "markdown",
   "id": "b20b359f",
   "metadata": {},
   "source": [
    "Load images from the specified directory for visualization."
   ]
  },
  {
   "cell_type": "code",
   "execution_count": null,
   "id": "08153610",
   "metadata": {},
   "outputs": [],
   "source": [
    "image_dir = 'image_directory/'\n",
    "images = [cv2.imread(image_dir + img) for img in os.listdir(image_dir)]"
   ]
  },
  {
   "cell_type": "markdown",
   "id": "c9003356",
   "metadata": {},
   "source": [
    "Display the images for visualization."
   ]
  },
  {
   "cell_type": "code",
   "execution_count": null,
   "id": "dee7b311",
   "metadata": {},
   "outputs": [],
   "source": [
    "for img in images:\n",
    "    plt.imshow(cv2.cvtColor(img, cv2.COLOR_BGR2RGB))\n",
    "    plt.axis('off')\n",
    "    plt.show()"
   ]
  }
 ],
 "metadata": {
  "kernelspec": {
   "display_name": "Python 3",
   "language": "python",
   "name": "python3"
  },
  "language_info": {
   "codemirror_mode": {
    "name": "ipython",
    "version": 3
   },
   "file_extension": ".py",
   "mimetype": "text/x-python",
   "name": "python",
   "nbconvert_exporter": "python",
   "pygments_lexer": "ipython3",
   "version": "3.8.5"
  }
 },
 "nbformat": 4,
 "nbformat_minor": 5
}
