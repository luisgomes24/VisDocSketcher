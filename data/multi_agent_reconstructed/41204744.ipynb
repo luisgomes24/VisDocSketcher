{
 "cells": [
  {
   "cell_type": "markdown",
   "id": "dd8a3737",
   "metadata": {},
   "source": [
    "Load the dataset from a CSV file into a DataFrame."
   ]
  },
  {
   "cell_type": "code",
   "execution_count": null,
   "id": "40d58bd1",
   "metadata": {},
   "outputs": [],
   "source": [
    "import pandas as pd\n",
    "\n",
    "# Load the dataset\n",
    "data = pd.read_csv('Fraud.csv')"
   ]
  },
  {
   "cell_type": "markdown",
   "id": "91ad2867",
   "metadata": {},
   "source": [
    "Filter the dataset based on the 'nameDest' column."
   ]
  },
  {
   "cell_type": "code",
   "execution_count": null,
   "id": "b672d4be",
   "metadata": {},
   "outputs": [],
   "source": [
    "new_data = data[data['nameDest'] == 'some_filter']"
   ]
  },
  {
   "cell_type": "markdown",
   "id": "2315e743",
   "metadata": {},
   "source": [
    "Select features and target variable from the filtered dataset."
   ]
  },
  {
   "cell_type": "code",
   "execution_count": null,
   "id": "ccd1de70",
   "metadata": {},
   "outputs": [],
   "source": [
    "X = new_data.drop(columns=['target_column'])\n",
    "\n",
    "y = new_data['target_column']"
   ]
  },
  {
   "cell_type": "markdown",
   "id": "f88fe3d1",
   "metadata": {},
   "source": [
    "Apply RandomUnderSampler to balance the features and target variable."
   ]
  },
  {
   "cell_type": "code",
   "execution_count": null,
   "id": "68de52a6",
   "metadata": {},
   "outputs": [],
   "source": [
    "from imblearn.under_sampling import RandomUnderSampler\n",
    "\n",
    "ros = RandomUnderSampler()\n",
    "X_resampled, y_resampled = ros.fit_resample(X, y)"
   ]
  },
  {
   "cell_type": "markdown",
   "id": "dad38263",
   "metadata": {},
   "source": [
    "Split the resampled dataset into training and testing sets."
   ]
  },
  {
   "cell_type": "code",
   "execution_count": null,
   "id": "09b65c62",
   "metadata": {},
   "outputs": [],
   "source": [
    "from sklearn.model_selection import train_test_split\n",
    "\n",
    "X_train, X_test, y_train, y_test = train_test_split(X_resampled, y_resampled, test_size=0.2, random_state=42)"
   ]
  },
  {
   "cell_type": "markdown",
   "id": "6e18096a",
   "metadata": {},
   "source": [
    "Train the Random Forest model using the training features and target."
   ]
  },
  {
   "cell_type": "code",
   "execution_count": null,
   "id": "249516af",
   "metadata": {},
   "outputs": [],
   "source": [
    "from sklearn.ensemble import RandomForestClassifier\n",
    "\n",
    "model = RandomForestClassifier()\n",
    "model.fit(X_train, y_train)"
   ]
  },
  {
   "cell_type": "markdown",
   "id": "d9c7eddb",
   "metadata": {},
   "source": [
    "Make predictions on the test set."
   ]
  },
  {
   "cell_type": "code",
   "execution_count": null,
   "id": "02d95037",
   "metadata": {},
   "outputs": [],
   "source": [
    "y_val_pred = model.predict(X_test)"
   ]
  },
  {
   "cell_type": "markdown",
   "id": "ab1e47f6",
   "metadata": {},
   "source": [
    "Calculate validation accuracy."
   ]
  },
  {
   "cell_type": "code",
   "execution_count": null,
   "id": "06217377",
   "metadata": {},
   "outputs": [],
   "source": [
    "from sklearn.metrics import accuracy_score, precision_score, recall_score, f1_score\n",
    "\n",
    "accuracy_val = accuracy_score(y_test, y_val_pred)"
   ]
  },
  {
   "cell_type": "markdown",
   "id": "0e308e52",
   "metadata": {},
   "source": [
    "Calculate precision, recall, and F1 score for the test predictions."
   ]
  },
  {
   "cell_type": "code",
   "execution_count": null,
   "id": "777997c8",
   "metadata": {},
   "outputs": [],
   "source": [
    "precision_val = precision_score(y_test, y_val_pred)\n",
    "recall_val = recall_score(y_test, y_val_pred)\n",
    "f1_val = f1_score(y_test, y_val_pred)"
   ]
  }
 ],
 "metadata": {
  "kernelspec": {
   "display_name": "Python 3",
   "language": "python",
   "name": "python3"
  },
  "language_info": {
   "codemirror_mode": {
    "name": "ipython",
    "version": 3
   },
   "file_extension": ".py",
   "mimetype": "text/x-python",
   "name": "python",
   "nbconvert_exporter": "python",
   "pygments_lexer": "ipython3",
   "version": "3.8.5"
  }
 },
 "nbformat": 4,
 "nbformat_minor": 5
}
