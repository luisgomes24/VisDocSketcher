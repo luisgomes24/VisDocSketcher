{
 "cells": [
  {
   "cell_type": "markdown",
   "id": "95edc0a6",
   "metadata": {},
   "source": [
    "Load the dataset from a CSV file using pandas."
   ]
  },
  {
   "cell_type": "code",
   "execution_count": null,
   "id": "f60027cc",
   "metadata": {},
   "outputs": [],
   "source": [
    "import pandas as pd\n",
    "df = pd.read_csv('data.csv')"
   ]
  },
  {
   "cell_type": "markdown",
   "id": "5778f59f",
   "metadata": {},
   "source": [
    "Preprocess the data by filling missing values."
   ]
  },
  {
   "cell_type": "code",
   "execution_count": null,
   "id": "04bd5320",
   "metadata": {},
   "outputs": [],
   "source": [
    "df.fillna(method='ffill', inplace=True)"
   ]
  },
  {
   "cell_type": "markdown",
   "id": "71c40d5b",
   "metadata": {},
   "source": [
    "Separate features and target variable."
   ]
  },
  {
   "cell_type": "code",
   "execution_count": null,
   "id": "9bd30c80",
   "metadata": {},
   "outputs": [],
   "source": [
    "X = df.drop('target', axis=1)\n",
    "y = df['target']"
   ]
  },
  {
   "cell_type": "markdown",
   "id": "2061f3be",
   "metadata": {},
   "source": [
    "Select the top 10 features based on ANOVA F-statistic."
   ]
  },
  {
   "cell_type": "code",
   "execution_count": null,
   "id": "7b2d8ca9",
   "metadata": {},
   "outputs": [],
   "source": [
    "from sklearn.feature_selection import SelectKBest, f_classif\n",
    "X_new = SelectKBest(f_classif, k=10).fit_transform(X, y)"
   ]
  },
  {
   "cell_type": "markdown",
   "id": "7290d93e",
   "metadata": {},
   "source": [
    "Split the data into training and testing sets."
   ]
  },
  {
   "cell_type": "code",
   "execution_count": null,
   "id": "2b2821c8",
   "metadata": {},
   "outputs": [],
   "source": [
    "from sklearn.model_selection import train_test_split\n",
    "X_train, X_test, y_train, y_test = train_test_split(X_new, y, test_size=0.2)"
   ]
  },
  {
   "cell_type": "markdown",
   "id": "ec07c71e",
   "metadata": {},
   "source": [
    "Train a logistic regression model on the training data."
   ]
  },
  {
   "cell_type": "code",
   "execution_count": null,
   "id": "c5f11067",
   "metadata": {},
   "outputs": [],
   "source": [
    "from sklearn.linear_model import LogisticRegression\n",
    "model = LogisticRegression()\n",
    "model.fit(X_train, y_train)"
   ]
  },
  {
   "cell_type": "markdown",
   "id": "47ef00d0",
   "metadata": {},
   "source": [
    "Evaluate model performance using accuracy score."
   ]
  },
  {
   "cell_type": "code",
   "execution_count": null,
   "id": "d8a1ed31",
   "metadata": {},
   "outputs": [],
   "source": [
    "from sklearn.metrics import accuracy_score\n",
    "y_pred = model.predict(X_test)\n",
    "accuracy = accuracy_score(y_test, y_pred)"
   ]
  },
  {
   "cell_type": "markdown",
   "id": "5827bf4e",
   "metadata": {},
   "source": [
    "Output the predictions on the test set."
   ]
  },
  {
   "cell_type": "code",
   "execution_count": null,
   "id": "b89c4fde",
   "metadata": {},
   "outputs": [],
   "source": [
    "print('Predictions:', y_pred)"
   ]
  }
 ],
 "metadata": {
  "kernelspec": {
   "display_name": "Python 3",
   "language": "python",
   "name": "python3"
  },
  "language_info": {
   "codemirror_mode": {
    "name": "ipython",
    "version": 3
   },
   "file_extension": ".py",
   "mimetype": "text/x-python",
   "name": "python",
   "nbconvert_exporter": "python",
   "pygments_lexer": "ipython3",
   "version": "3.8.5"
  }
 },
 "nbformat": 4,
 "nbformat_minor": 5
}
