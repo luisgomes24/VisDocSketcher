{
 "cells": [
  {
   "cell_type": "markdown",
   "id": "ab9c177a",
   "metadata": {},
   "source": [
    "Load the supplemental metadata CSV file using pandas."
   ]
  },
  {
   "cell_type": "code",
   "execution_count": null,
   "id": "b2749fa9",
   "metadata": {},
   "outputs": [],
   "source": [
    "import pandas as pd\n",
    "metadata = pd.read_csv('/kaggle/input/asl-fingerspelling/supplemental_metadata.csv')"
   ]
  },
  {
   "cell_type": "markdown",
   "id": "02e4c4b3",
   "metadata": {},
   "source": [
    "Load the training data CSV file."
   ]
  },
  {
   "cell_type": "code",
   "execution_count": null,
   "id": "0a727535",
   "metadata": {},
   "outputs": [],
   "source": [
    "train_data = pd.read_csv('/kaggle/input/asl-fingerspelling/train.csv')"
   ]
  },
  {
   "cell_type": "markdown",
   "id": "5c70a01f",
   "metadata": {},
   "source": [
    "Load the landmarks data from Parquet files."
   ]
  },
  {
   "cell_type": "code",
   "execution_count": null,
   "id": "4685abb8",
   "metadata": {},
   "outputs": [],
   "source": [
    "landmarks_data = pd.read_parquet('path_to_landmarks_data.parquet')"
   ]
  },
  {
   "cell_type": "markdown",
   "id": "6c00d7c6",
   "metadata": {},
   "source": [
    "Compute the correlation matrix for the training data."
   ]
  },
  {
   "cell_type": "code",
   "execution_count": null,
   "id": "757421bb",
   "metadata": {},
   "outputs": [],
   "source": [
    "correlation_matrix = train_data.corr()"
   ]
  },
  {
   "cell_type": "markdown",
   "id": "023856c3",
   "metadata": {},
   "source": [
    "Select specific columns from the correlation matrix for analysis."
   ]
  },
  {
   "cell_type": "code",
   "execution_count": null,
   "id": "ca55d34d",
   "metadata": {},
   "outputs": [],
   "source": [
    "sample_dataset = correlation_matrix[['col1', 'col2', 'col3']]"
   ]
  }
 ],
 "metadata": {
  "kernelspec": {
   "display_name": "Python 3",
   "language": "python",
   "name": "python3"
  },
  "language_info": {
   "codemirror_mode": {
    "name": "ipython",
    "version": 3
   },
   "file_extension": ".py",
   "mimetype": "text/x-python",
   "name": "python",
   "nbconvert_exporter": "python",
   "pygments_lexer": "ipython3",
   "version": "3.8.5"
  }
 },
 "nbformat": 4,
 "nbformat_minor": 5
}
