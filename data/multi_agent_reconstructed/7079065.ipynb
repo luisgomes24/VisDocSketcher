{
 "cells": [
  {
   "cell_type": "markdown",
   "id": "9d2f52ae",
   "metadata": {},
   "source": [
    "Import necessary libraries and list all files in the 'kaggle/input' directory."
   ]
  },
  {
   "cell_type": "code",
   "execution_count": null,
   "id": "76d608ad",
   "metadata": {},
   "outputs": [],
   "source": [
    "import os\n",
    "\n",
    "input_path = 'kaggle/input'\n",
    "\n",
    "# List files in the input directory\n",
    "files = os.listdir(input_path)"
   ]
  },
  {
   "cell_type": "markdown",
   "id": "463c46ac",
   "metadata": {},
   "source": [
    "Filter the list to find CSV files and print a message if none are found."
   ]
  },
  {
   "cell_type": "code",
   "execution_count": null,
   "id": "487acee9",
   "metadata": {},
   "outputs": [],
   "source": [
    "csv_files = [file for file in files if file.endswith('.csv')]\n",
    "\n",
    "if not csv_files:\n",
    "    print('No CSV files found')"
   ]
  }
 ],
 "metadata": {
  "kernelspec": {
   "display_name": "Python 3",
   "language": "python",
   "name": "python3"
  },
  "language_info": {
   "codemirror_mode": {
    "name": "ipython",
    "version": 3
   },
   "file_extension": ".py",
   "mimetype": "text/x-python",
   "name": "python",
   "nbconvert_exporter": "python",
   "pygments_lexer": "ipython3",
   "version": "3.8.5"
  }
 },
 "nbformat": 4,
 "nbformat_minor": 5
}
