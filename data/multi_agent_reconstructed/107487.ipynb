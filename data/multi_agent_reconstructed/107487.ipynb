{
 "cells": [
  {
   "cell_type": "markdown",
   "id": "2ee1ab4e",
   "metadata": {},
   "source": [
    "Read the CSV file 'train.csv' into a DataFrame named 'train_df'."
   ]
  },
  {
   "cell_type": "code",
   "execution_count": null,
   "id": "7bed8b89",
   "metadata": {},
   "outputs": [],
   "source": [
    "import pandas as pd\n",
    "train_df = pd.read_csv('train.csv')"
   ]
  },
  {
   "cell_type": "markdown",
   "id": "1b2303e9",
   "metadata": {},
   "source": [
    "Define a function to plot each continuous feature's loss using line plots."
   ]
  },
  {
   "cell_type": "code",
   "execution_count": null,
   "id": "b8453550",
   "metadata": {},
   "outputs": [],
   "source": [
    "import matplotlib.pyplot as plt\n",
    "\n",
    "def plot_feature_loss(df):\n",
    "    for column in df.select_dtypes(include=['float64', 'int64']).columns:\n",
    "        plt.figure()\n",
    "        plt.plot(df[column])\n",
    "        plt.title(f'Loss for {column}')\n",
    "        plt.xlabel('Index')\n",
    "        plt.ylabel('Loss')\n",
    "        plt.show()"
   ]
  },
  {
   "cell_type": "markdown",
   "id": "62b73e0a",
   "metadata": {},
   "source": [
    "Call the 'plot_feature_loss' function with the 'train_df' DataFrame."
   ]
  },
  {
   "cell_type": "code",
   "execution_count": null,
   "id": "e157f140",
   "metadata": {},
   "outputs": [],
   "source": [
    "plot_feature_loss(train_df)"
   ]
  }
 ],
 "metadata": {
  "kernelspec": {
   "display_name": "Python 3",
   "language": "python",
   "name": "python3"
  },
  "language_info": {
   "codemirror_mode": {
    "name": "ipython",
    "version": 3
   },
   "file_extension": ".py",
   "mimetype": "text/x-python",
   "name": "python",
   "nbconvert_exporter": "python",
   "pygments_lexer": "ipython3",
   "version": "3.8.5"
  }
 },
 "nbformat": 4,
 "nbformat_minor": 5
}
