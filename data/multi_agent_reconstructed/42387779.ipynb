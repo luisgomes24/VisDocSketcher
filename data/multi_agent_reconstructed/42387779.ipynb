{
 "cells": [
  {
   "cell_type": "markdown",
   "id": "1006bee9",
   "metadata": {},
   "source": [
    "Load the Titanic CSV file into a pandas DataFrame."
   ]
  },
  {
   "cell_type": "code",
   "execution_count": null,
   "id": "51c7ed20",
   "metadata": {},
   "outputs": [],
   "source": [
    "import pandas as pd\n",
    "df = pd.read_csv('titanic.csv')"
   ]
  },
  {
   "cell_type": "markdown",
   "id": "29a0f464",
   "metadata": {},
   "source": [
    "Filter the DataFrame to retain only selected columns."
   ]
  },
  {
   "cell_type": "code",
   "execution_count": null,
   "id": "25e82f14",
   "metadata": {},
   "outputs": [],
   "source": [
    "df = df[['PassengerId', 'Survived', 'Pclass', 'Name']]"
   ]
  }
 ],
 "metadata": {
  "kernelspec": {
   "display_name": "Python 3",
   "language": "python",
   "name": "python3"
  },
  "language_info": {
   "codemirror_mode": {
    "name": "ipython",
    "version": 3
   },
   "file_extension": ".py",
   "mimetype": "text/x-python",
   "name": "python",
   "nbconvert_exporter": "python",
   "pygments_lexer": "ipython3",
   "version": "3.8.5"
  }
 },
 "nbformat": 4,
 "nbformat_minor": 5
}
