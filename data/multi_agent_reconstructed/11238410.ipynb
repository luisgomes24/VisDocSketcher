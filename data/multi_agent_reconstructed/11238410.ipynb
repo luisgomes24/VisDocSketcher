{
 "cells": [
  {
   "cell_type": "markdown",
   "id": "a2b37cc2",
   "metadata": {},
   "source": [
    "Load data from a CSV file into a DataFrame using pandas."
   ]
  },
  {
   "cell_type": "code",
   "execution_count": null,
   "id": "cfd57af3",
   "metadata": {},
   "outputs": [],
   "source": [
    "import pandas as pd\n",
    "\n",
    "data = pd.read_csv('data.csv')"
   ]
  },
  {
   "cell_type": "markdown",
   "id": "ef5f6f5b",
   "metadata": {},
   "source": [
    "Select the top 5 features based on ANOVA F-statistic."
   ]
  },
  {
   "cell_type": "code",
   "execution_count": null,
   "id": "04cf9af1",
   "metadata": {},
   "outputs": [],
   "source": [
    "from sklearn.feature_selection import SelectKBest, f_classif\n",
    "\n",
    "X_new = SelectKBest(f_classif, k=5).fit_transform(X, y)"
   ]
  },
  {
   "cell_type": "markdown",
   "id": "ead222b0",
   "metadata": {},
   "source": [
    "Split the dataset into training and testing sets with an 80-20 ratio."
   ]
  },
  {
   "cell_type": "code",
   "execution_count": null,
   "id": "205bb709",
   "metadata": {},
   "outputs": [],
   "source": [
    "from sklearn.model_selection import train_test_split\n",
    "\n",
    "X_train, X_test, y_train, y_test = train_test_split(X_new, y, test_size=0.2, random_state=42)"
   ]
  },
  {
   "cell_type": "markdown",
   "id": "cd381996",
   "metadata": {},
   "source": [
    "Instantiate a linear regression model."
   ]
  },
  {
   "cell_type": "code",
   "execution_count": null,
   "id": "9bfb2bec",
   "metadata": {},
   "outputs": [],
   "source": [
    "from sklearn.linear_model import LinearRegression\n",
    "\n",
    "model = LinearRegression()"
   ]
  },
  {
   "cell_type": "markdown",
   "id": "5c57500c",
   "metadata": {},
   "source": [
    "Train the model using the training data."
   ]
  },
  {
   "cell_type": "code",
   "execution_count": null,
   "id": "12b5f7bf",
   "metadata": {},
   "outputs": [],
   "source": [
    "model.fit(X_train, y_train)"
   ]
  },
  {
   "cell_type": "markdown",
   "id": "cf1f4535",
   "metadata": {},
   "source": [
    "Visualize the predictions against the true values from the training set."
   ]
  },
  {
   "cell_type": "code",
   "execution_count": null,
   "id": "d79af3e2",
   "metadata": {},
   "outputs": [],
   "source": [
    "import matplotlib.pyplot as plt\n",
    "\n",
    "plt.scatter(y_train, model.predict(X_train))\n",
    "plt.xlabel('True Values')\n",
    "plt.ylabel('Predictions')\n",
    "plt.title('Model Training Results')\n",
    "plt.show()"
   ]
  },
  {
   "cell_type": "markdown",
   "id": "83e8cc30",
   "metadata": {},
   "source": [
    "Calculate evaluation metrics: mean squared error and R² score."
   ]
  },
  {
   "cell_type": "code",
   "execution_count": null,
   "id": "e6faca6d",
   "metadata": {},
   "outputs": [],
   "source": [
    "from sklearn.metrics import mean_squared_error, r2_score\n",
    "\n",
    "mse = mean_squared_error(y_test, model.predict(X_test))\n",
    "r2 = r2_score(y_test, model.predict(X_test))"
   ]
  },
  {
   "cell_type": "markdown",
   "id": "ecf76d3f",
   "metadata": {},
   "source": [
    "Create a boxplot to compare true values and predicted values."
   ]
  },
  {
   "cell_type": "code",
   "execution_count": null,
   "id": "a9cc1326",
   "metadata": {},
   "outputs": [],
   "source": [
    "plt.boxplot([y_test, model.predict(X_test)], labels=['True', 'Predicted'])\n",
    "plt.title('Evaluation Metrics')\n",
    "plt.show()"
   ]
  },
  {
   "cell_type": "markdown",
   "id": "b1c24482",
   "metadata": {},
   "source": [
    "Plot the final predictions against sample indices."
   ]
  },
  {
   "cell_type": "code",
   "execution_count": null,
   "id": "21cb52d8",
   "metadata": {},
   "outputs": [],
   "source": [
    "plt.plot(range(len(model.predict(X_test))), model.predict(X_test), marker='o')\n",
    "plt.title('Final Visualization')\n",
    "plt.xlabel('Sample Index')\n",
    "plt.ylabel('Predictions')\n",
    "plt.show()"
   ]
  }
 ],
 "metadata": {
  "kernelspec": {
   "display_name": "Python 3",
   "language": "python",
   "name": "python3"
  },
  "language_info": {
   "codemirror_mode": {
    "name": "ipython",
    "version": 3
   },
   "file_extension": ".py",
   "mimetype": "text/x-python",
   "name": "python",
   "nbconvert_exporter": "python",
   "pygments_lexer": "ipython3",
   "version": "3.8.5"
  }
 },
 "nbformat": 4,
 "nbformat_minor": 5
}
