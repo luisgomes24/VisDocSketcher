{
 "cells": [
  {
   "cell_type": "markdown",
   "id": "d633d032",
   "metadata": {},
   "source": [
    "Load wine reviews from a CSV file into a DataFrame."
   ]
  },
  {
   "cell_type": "code",
   "execution_count": null,
   "id": "60c6eb71",
   "metadata": {},
   "outputs": [],
   "source": [
    "import pandas as pd\n",
    "\n",
    "df = pd.read_csv('wine_reviews.csv')"
   ]
  },
  {
   "cell_type": "markdown",
   "id": "290c7e15",
   "metadata": {},
   "source": [
    "Transform data by removing any rows with missing values."
   ]
  },
  {
   "cell_type": "code",
   "execution_count": null,
   "id": "f917401a",
   "metadata": {},
   "outputs": [],
   "source": [
    "df_cleaned = df.dropna()"
   ]
  },
  {
   "cell_type": "markdown",
   "id": "f342760f",
   "metadata": {},
   "source": [
    "Visualize review counts using a scatter plot."
   ]
  },
  {
   "cell_type": "code",
   "execution_count": null,
   "id": "7eb56a4d",
   "metadata": {},
   "outputs": [],
   "source": [
    "import matplotlib.pyplot as plt\n",
    "\n",
    "plt.scatter(df_cleaned['X_Axis'], df_cleaned['Y_Axis'])\n",
    "plt.xlabel('X Axis')\n",
    "plt.ylabel('Y Axis')\n",
    "plt.show()"
   ]
  },
  {
   "cell_type": "markdown",
   "id": "dd56b376",
   "metadata": {},
   "source": [
    "Calculate and visualize average ratings by category using a bar chart."
   ]
  },
  {
   "cell_type": "code",
   "execution_count": null,
   "id": "23540fd8",
   "metadata": {},
   "outputs": [],
   "source": [
    "avg_ratings = df_cleaned.groupby('Category')['Rating'].mean().reset_index()\n",
    "\n",
    "plt.bar(avg_ratings['Category'], avg_ratings['Rating'])\n",
    "plt.ylabel('Average Rating')\n",
    "plt.show()"
   ]
  },
  {
   "cell_type": "markdown",
   "id": "7d5e7d15",
   "metadata": {},
   "source": [
    "Display the distribution of wine prices using a histogram."
   ]
  },
  {
   "cell_type": "code",
   "execution_count": null,
   "id": "96017ae6",
   "metadata": {},
   "outputs": [],
   "source": [
    "plt.hist(df_cleaned['Price'], bins=10, edgecolor='black')\n",
    "plt.xlabel('Value Range')\n",
    "plt.ylabel('Frequency')\n",
    "plt.title('Price Distribution')\n",
    "plt.show()"
   ]
  }
 ],
 "metadata": {
  "kernelspec": {
   "display_name": "Python 3",
   "language": "python",
   "name": "python3"
  },
  "language_info": {
   "codemirror_mode": {
    "name": "ipython",
    "version": 3
   },
   "file_extension": ".py",
   "mimetype": "text/x-python",
   "name": "python",
   "nbconvert_exporter": "python",
   "pygments_lexer": "ipython3",
   "version": "3.8.5"
  }
 },
 "nbformat": 4,
 "nbformat_minor": 5
}
