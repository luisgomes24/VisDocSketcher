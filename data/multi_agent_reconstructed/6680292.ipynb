{
 "cells": [
  {
   "cell_type": "markdown",
   "id": "2406b91d",
   "metadata": {},
   "source": [
    "Import pandas and read 'train.csv' into a DataFrame called df_train."
   ]
  },
  {
   "cell_type": "code",
   "execution_count": null,
   "id": "9e505bc2",
   "metadata": {},
   "outputs": [],
   "source": [
    "import pandas as pd\n",
    "df_train = pd.read_csv('train.csv')"
   ]
  },
  {
   "cell_type": "markdown",
   "id": "44fc84e3",
   "metadata": {},
   "source": [
    "Read 'building_metadata.csv' into a DataFrame called df_building_metadata."
   ]
  },
  {
   "cell_type": "code",
   "execution_count": null,
   "id": "be3d6329",
   "metadata": {},
   "outputs": [],
   "source": [
    "df_building_metadata = pd.read_csv('building_metadata.csv')"
   ]
  }
 ],
 "metadata": {
  "kernelspec": {
   "display_name": "Python 3",
   "language": "python",
   "name": "python3"
  },
  "language_info": {
   "codemirror_mode": {
    "name": "ipython",
    "version": 3
   },
   "file_extension": ".py",
   "mimetype": "text/x-python",
   "name": "python",
   "nbconvert_exporter": "python",
   "pygments_lexer": "ipython3",
   "version": "3.8.5"
  }
 },
 "nbformat": 4,
 "nbformat_minor": 5
}
