{
 "cells": [
  {
   "cell_type": "markdown",
   "id": "9e327a1d",
   "metadata": {},
   "source": [
    "Load the 'russian_lasers_personnel.csv' dataset into a DataFrame."
   ]
  },
  {
   "cell_type": "code",
   "execution_count": null,
   "id": "1f166866",
   "metadata": {},
   "outputs": [],
   "source": [
    "import pandas as pd\n",
    "\n",
    "russian_personnel = pd.read_csv('russian_lasers_personnel.csv')"
   ]
  },
  {
   "cell_type": "markdown",
   "id": "5f31efb4",
   "metadata": {},
   "source": [
    "Load the 'russian_lasers_equipment.csv' dataset into a DataFrame."
   ]
  },
  {
   "cell_type": "code",
   "execution_count": null,
   "id": "00550193",
   "metadata": {},
   "outputs": [],
   "source": [
    "russian_equipment = pd.read_csv('russian_lasers_equipment.csv')"
   ]
  },
  {
   "cell_type": "markdown",
   "id": "7abde8c7",
   "metadata": {},
   "source": [
    "Create a copy of the 'russian_personnel' DataFrame."
   ]
  },
  {
   "cell_type": "code",
   "execution_count": null,
   "id": "9a96925d",
   "metadata": {},
   "outputs": [],
   "source": [
    "russian_personnel_copy = russian_personnel.copy()"
   ]
  },
  {
   "cell_type": "markdown",
   "id": "f4d706a5",
   "metadata": {},
   "source": [
    "Drop the 'date' column from the copied personnel DataFrame."
   ]
  },
  {
   "cell_type": "code",
   "execution_count": null,
   "id": "7fd54a17",
   "metadata": {},
   "outputs": [],
   "source": [
    "russian_personnel_copy.drop(columns='date', inplace=True)"
   ]
  },
  {
   "cell_type": "markdown",
   "id": "efa1b604",
   "metadata": {},
   "source": [
    "Drop the 'date' column from the equipment DataFrame."
   ]
  },
  {
   "cell_type": "code",
   "execution_count": null,
   "id": "a7e75966",
   "metadata": {},
   "outputs": [],
   "source": [
    "russian_equipment.drop(columns='date', inplace=True)"
   ]
  },
  {
   "cell_type": "markdown",
   "id": "d1e3c8a5",
   "metadata": {},
   "source": [
    "Fill NaN values in the copied personnel DataFrame using forward fill."
   ]
  },
  {
   "cell_type": "code",
   "execution_count": null,
   "id": "a1e72cb4",
   "metadata": {},
   "outputs": [],
   "source": [
    "russian_personnel_copy.fillna(method='ffill', inplace=True)"
   ]
  },
  {
   "cell_type": "markdown",
   "id": "f76a409d",
   "metadata": {},
   "source": [
    "Fill NaN values in the equipment DataFrame with the mean."
   ]
  },
  {
   "cell_type": "code",
   "execution_count": null,
   "id": "ce86f48e",
   "metadata": {},
   "outputs": [],
   "source": [
    "russian_equipment.fillna(method='mean', inplace=True)"
   ]
  },
  {
   "cell_type": "markdown",
   "id": "e5237765",
   "metadata": {},
   "source": [
    "Plot a graph of equipment losses for visualization."
   ]
  },
  {
   "cell_type": "code",
   "execution_count": null,
   "id": "a21ef6c3",
   "metadata": {},
   "outputs": [],
   "source": [
    "import matplotlib.pyplot as plt\n",
    "\n",
    "plt.plot(russian_equipment['column_name'])\n",
    "plt.title('Plot: Equipment Losses')\n",
    "plt.show()"
   ]
  },
  {
   "cell_type": "markdown",
   "id": "86117378",
   "metadata": {},
   "source": [
    "Plot a graph of personnel losses for visualization."
   ]
  },
  {
   "cell_type": "code",
   "execution_count": null,
   "id": "9773c492",
   "metadata": {},
   "outputs": [],
   "source": [
    "plt.plot(russian_personnel_copy['column_name'])\n",
    "plt.title('Plot: Personnel Losses')\n",
    "plt.show()"
   ]
  },
  {
   "cell_type": "markdown",
   "id": "1ea40fd8",
   "metadata": {},
   "source": [
    "Replace remaining NaN values in the personnel DataFrame with zero."
   ]
  },
  {
   "cell_type": "code",
   "execution_count": null,
   "id": "6bf49d9d",
   "metadata": {},
   "outputs": [],
   "source": [
    "russian_personnel_copy.fillna(0, inplace=True)"
   ]
  },
  {
   "cell_type": "markdown",
   "id": "33af4abc",
   "metadata": {},
   "source": [
    "Replace remaining NaN values in the equipment DataFrame with zero."
   ]
  },
  {
   "cell_type": "code",
   "execution_count": null,
   "id": "270c547f",
   "metadata": {},
   "outputs": [],
   "source": [
    "russian_equipment.fillna(0, inplace=True)"
   ]
  }
 ],
 "metadata": {
  "kernelspec": {
   "display_name": "Python 3",
   "language": "python",
   "name": "python3"
  },
  "language_info": {
   "codemirror_mode": {
    "name": "ipython",
    "version": 3
   },
   "file_extension": ".py",
   "mimetype": "text/x-python",
   "name": "python",
   "nbconvert_exporter": "python",
   "pygments_lexer": "ipython3",
   "version": "3.8.5"
  }
 },
 "nbformat": 4,
 "nbformat_minor": 5
}
