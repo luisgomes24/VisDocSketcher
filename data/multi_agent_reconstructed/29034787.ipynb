{
 "cells": [
  {
   "cell_type": "markdown",
   "id": "e06b4760",
   "metadata": {},
   "source": [
    "Load the dataset using pandas."
   ]
  },
  {
   "cell_type": "code",
   "execution_count": null,
   "id": "e332dbd7",
   "metadata": {},
   "outputs": [],
   "source": [
    "import pandas as pd\n",
    "\n",
    "# Load the dataset\n",
    "data = pd.read_csv('data.csv')"
   ]
  },
  {
   "cell_type": "markdown",
   "id": "6f6658c1",
   "metadata": {},
   "source": [
    "Select features and labels for the model."
   ]
  },
  {
   "cell_type": "code",
   "execution_count": null,
   "id": "5ef5011d",
   "metadata": {},
   "outputs": [],
   "source": [
    "features = data[['Feature1', 'Feature2']]\n",
    "labels = data['Label']"
   ]
  },
  {
   "cell_type": "markdown",
   "id": "5ebccbaa",
   "metadata": {},
   "source": [
    "Split the dataset into training and test sets."
   ]
  },
  {
   "cell_type": "code",
   "execution_count": null,
   "id": "433bb931",
   "metadata": {},
   "outputs": [],
   "source": [
    "from sklearn.model_selection import train_test_split\n",
    "\n",
    "X_train, X_test, y_train, y_test = train_test_split(features, labels, test_size=0.2, random_state=42)"
   ]
  },
  {
   "cell_type": "markdown",
   "id": "e119c256",
   "metadata": {},
   "source": [
    "Initialize the AdaBoost, Gradient Boosting, and XGBoost regression models."
   ]
  },
  {
   "cell_type": "code",
   "execution_count": null,
   "id": "c7fbd98e",
   "metadata": {},
   "outputs": [],
   "source": [
    "from sklearn.ensemble import AdaBoostRegressor, GradientBoostingRegressor\n",
    "from xgboost import XGBRegressor\n",
    "\n",
    "# Initialize models\n",
    "ada_model = AdaBoostRegressor()\n",
    "gb_model = GradientBoostingRegressor()\n",
    "xgb_model = XGBRegressor()"
   ]
  },
  {
   "cell_type": "markdown",
   "id": "b0ace478",
   "metadata": {},
   "source": [
    "Train the models on the training data."
   ]
  },
  {
   "cell_type": "code",
   "execution_count": null,
   "id": "567df9ba",
   "metadata": {},
   "outputs": [],
   "source": [
    "ada_model.fit(X_train, y_train)\n",
    "gb_model.fit(X_train, y_train)\n",
    "xgb_model.fit(X_train, y_train)"
   ]
  },
  {
   "cell_type": "markdown",
   "id": "e03f6f17",
   "metadata": {},
   "source": [
    "Make predictions using the test set."
   ]
  },
  {
   "cell_type": "code",
   "execution_count": null,
   "id": "c08cf883",
   "metadata": {},
   "outputs": [],
   "source": [
    "ada_preds = ada_model.predict(X_test)\n",
    "gb_preds = gb_model.predict(X_test)\n",
    "xgb_preds = xgb_model.predict(X_test)"
   ]
  },
  {
   "cell_type": "markdown",
   "id": "9324bef3",
   "metadata": {},
   "source": [
    "Evaluate model performance using Mean Squared Error."
   ]
  },
  {
   "cell_type": "code",
   "execution_count": null,
   "id": "99d98b35",
   "metadata": {},
   "outputs": [],
   "source": [
    "from sklearn.metrics import mean_squared_error\n",
    "\n",
    "ada_mse = mean_squared_error(y_test, ada_preds)\n",
    "gb_mse = mean_squared_error(y_test, gb_preds)\n",
    "xgb_mse = mean_squared_error(y_test, xgb_preds)"
   ]
  },
  {
   "cell_type": "markdown",
   "id": "0217f502",
   "metadata": {},
   "source": [
    "Output the predictions from all models."
   ]
  },
  {
   "cell_type": "code",
   "execution_count": null,
   "id": "98e4d54f",
   "metadata": {},
   "outputs": [],
   "source": [
    "print(ada_preds, gb_preds, xgb_preds)"
   ]
  }
 ],
 "metadata": {
  "kernelspec": {
   "display_name": "Python 3",
   "language": "python",
   "name": "python3"
  },
  "language_info": {
   "codemirror_mode": {
    "name": "ipython",
    "version": 3
   },
   "file_extension": ".py",
   "mimetype": "text/x-python",
   "name": "python",
   "nbconvert_exporter": "python",
   "pygments_lexer": "ipython3",
   "version": "3.8.5"
  }
 },
 "nbformat": 4,
 "nbformat_minor": 5
}
