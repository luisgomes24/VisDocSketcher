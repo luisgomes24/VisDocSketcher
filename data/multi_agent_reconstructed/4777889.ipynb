{
 "cells": [
  {
   "cell_type": "markdown",
   "id": "f330189c",
   "metadata": {},
   "source": [
    "Load the training data from 'train.csv' into a DataFrame named 'train'."
   ]
  },
  {
   "cell_type": "code",
   "execution_count": null,
   "id": "602ca155",
   "metadata": {},
   "outputs": [],
   "source": [
    "import pandas as pd\n",
    "train = pd.read_csv('train.csv')"
   ]
  },
  {
   "cell_type": "markdown",
   "id": "e2a33d0e",
   "metadata": {},
   "source": [
    "Load the testing data from 'test.csv' into a DataFrame named 'test'."
   ]
  },
  {
   "cell_type": "code",
   "execution_count": null,
   "id": "17f816b9",
   "metadata": {},
   "outputs": [],
   "source": [
    "test = pd.read_csv('test.csv')"
   ]
  }
 ],
 "metadata": {
  "kernelspec": {
   "display_name": "Python 3",
   "language": "python",
   "name": "python3"
  },
  "language_info": {
   "codemirror_mode": {
    "name": "ipython",
    "version": 3
   },
   "file_extension": ".py",
   "mimetype": "text/x-python",
   "name": "python",
   "nbconvert_exporter": "python",
   "pygments_lexer": "ipython3",
   "version": "3.8.5"
  }
 },
 "nbformat": 4,
 "nbformat_minor": 5
}
