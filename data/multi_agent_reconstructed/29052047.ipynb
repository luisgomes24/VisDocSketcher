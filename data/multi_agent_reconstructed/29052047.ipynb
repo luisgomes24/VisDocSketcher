{
 "cells": [
  {
   "cell_type": "markdown",
   "id": "5f6af073",
   "metadata": {},
   "source": [
    "Import the pandas library for data manipulation."
   ]
  },
  {
   "cell_type": "code",
   "execution_count": null,
   "id": "fe3e5df4",
   "metadata": {},
   "outputs": [],
   "source": [
    "import pandas as pd"
   ]
  },
  {
   "cell_type": "markdown",
   "id": "80e4dfbd",
   "metadata": {},
   "source": [
    "Load the CSV file 'Airlines.csv' into a DataFrame named 'df'."
   ]
  },
  {
   "cell_type": "code",
   "execution_count": null,
   "id": "23ce6bd9",
   "metadata": {},
   "outputs": [],
   "source": [
    "df = pd.read_csv('Airlines.csv')"
   ]
  }
 ],
 "metadata": {
  "kernelspec": {
   "display_name": "Python 3",
   "language": "python",
   "name": "python3"
  },
  "language_info": {
   "codemirror_mode": {
    "name": "ipython",
    "version": 3
   },
   "file_extension": ".py",
   "mimetype": "text/x-python",
   "name": "python",
   "nbconvert_exporter": "python",
   "pygments_lexer": "ipython3",
   "version": "3.8.5"
  }
 },
 "nbformat": 4,
 "nbformat_minor": 5
}
