{
 "cells": [
  {
   "cell_type": "markdown",
   "id": "5b5fafc6",
   "metadata": {},
   "source": [
    "Load ratings and books datasets, then merge them based on 'book_id'."
   ]
  },
  {
   "cell_type": "code",
   "execution_count": null,
   "id": "ad5cc41c",
   "metadata": {},
   "outputs": [],
   "source": [
    "import pandas as pd\n",
    "\n",
    "ratings = pd.read_csv('ratings.csv')\n",
    "books = pd.read_csv('books.csv')\n",
    "df = pd.merge(ratings, books, on='book_id')"
   ]
  },
  {
   "cell_type": "markdown",
   "id": "a569ebc5",
   "metadata": {},
   "source": [
    "Create a copy of the merged DataFrame for training purposes."
   ]
  },
  {
   "cell_type": "code",
   "execution_count": null,
   "id": "7fb94b64",
   "metadata": {},
   "outputs": [],
   "source": [
    "train_df = df.copy()"
   ]
  },
  {
   "cell_type": "markdown",
   "id": "a5ffabf0",
   "metadata": {},
   "source": [
    "Pivot the DataFrame to create a user-item rating matrix."
   ]
  },
  {
   "cell_type": "code",
   "execution_count": null,
   "id": "47e35e2a",
   "metadata": {},
   "outputs": [],
   "source": [
    "user_ratings = train_df.pivot(index='user_id', columns='book_id', values='rating')"
   ]
  },
  {
   "cell_type": "markdown",
   "id": "846f681c",
   "metadata": {},
   "source": [
    "Create a Surprise dataset from the training DataFrame."
   ]
  },
  {
   "cell_type": "code",
   "execution_count": null,
   "id": "19700878",
   "metadata": {},
   "outputs": [],
   "source": [
    "from surprise import Dataset, Reader\n",
    "reader = Reader(rating_scale=(1, 5))\n",
    "data = Dataset.load_from_df(train_df[['user_id', 'book_id', 'rating']], reader)"
   ]
  },
  {
   "cell_type": "markdown",
   "id": "a8be4960",
   "metadata": {},
   "source": [
    "Prepare a train/test split from the Surprise dataset."
   ]
  },
  {
   "cell_type": "code",
   "execution_count": null,
   "id": "5c87f6d5",
   "metadata": {},
   "outputs": [],
   "source": [
    "from surprise.model_selection import train_test_split\n",
    "trainset, testset = train_test_split(data, test_size=0.2)"
   ]
  },
  {
   "cell_type": "markdown",
   "id": "c6053368",
   "metadata": {},
   "source": [
    "Train a KNN user-based model using the training set."
   ]
  },
  {
   "cell_type": "code",
   "execution_count": null,
   "id": "3334ec97",
   "metadata": {},
   "outputs": [],
   "source": [
    "from surprise import KNNBasic\n",
    "user_based_model = KNNBasic(similarity='cosine')\n",
    "user_based_model.fit(trainset)"
   ]
  },
  {
   "cell_type": "markdown",
   "id": "8799cae0",
   "metadata": {},
   "source": [
    "Predict and evaluate the user-based model using RMSE."
   ]
  },
  {
   "cell_type": "code",
   "execution_count": null,
   "id": "f8e713ad",
   "metadata": {},
   "outputs": [],
   "source": [
    "from surprise import accuracy\n",
    "predictions = user_based_model.test(testset)\n",
    "accuracy.rmse(predictions)"
   ]
  },
  {
   "cell_type": "markdown",
   "id": "59511faf",
   "metadata": {},
   "source": [
    "Train a KNN item-based model using the training set."
   ]
  },
  {
   "cell_type": "code",
   "execution_count": null,
   "id": "bb2c441f",
   "metadata": {},
   "outputs": [],
   "source": [
    "item_based_model = KNNBasic(similarity='cosine', user_based=False)\n",
    "item_based_model.fit(trainset)"
   ]
  },
  {
   "cell_type": "markdown",
   "id": "765ec239",
   "metadata": {},
   "source": [
    "Predict and evaluate the item-based model using RMSE."
   ]
  },
  {
   "cell_type": "code",
   "execution_count": null,
   "id": "707067fc",
   "metadata": {},
   "outputs": [],
   "source": [
    "predictions_item = item_based_model.test(testset)\n",
    "accuracy.rmse(predictions_item)"
   ]
  },
  {
   "cell_type": "markdown",
   "id": "c340c762",
   "metadata": {},
   "source": [
    "Define a function to generate book recommendations for a given user."
   ]
  },
  {
   "cell_type": "code",
   "execution_count": null,
   "id": "e7c388a1",
   "metadata": {},
   "outputs": [],
   "source": [
    "def generate_recommendations(user_id, model, n=5):\n",
    "    user_inner_id = trainset.to_inner_uid(user_id)\n",
    "    user_ratings = model.get_neighbors(user_inner_id, k=n)\n",
    "    return [trainset.to_raw_iid(i) for i in user_ratings]"
   ]
  }
 ],
 "metadata": {
  "kernelspec": {
   "display_name": "Python 3",
   "language": "python",
   "name": "python3"
  },
  "language_info": {
   "codemirror_mode": {
    "name": "ipython",
    "version": 3
   },
   "file_extension": ".py",
   "mimetype": "text/x-python",
   "name": "python",
   "nbconvert_exporter": "python",
   "pygments_lexer": "ipython3",
   "version": "3.8.5"
  }
 },
 "nbformat": 4,
 "nbformat_minor": 5
}
