{
 "cells": [
  {
   "cell_type": "markdown",
   "id": "3893737d",
   "metadata": {},
   "source": [
    "Assign a weight of 5 for four in a row score."
   ]
  },
  {
   "cell_type": "code",
   "execution_count": null,
   "id": "33c0eafb",
   "metadata": {},
   "outputs": [],
   "source": [
    "weight_four_in_row = 5"
   ]
  },
  {
   "cell_type": "markdown",
   "id": "7f5c2a1a",
   "metadata": {},
   "source": [
    "Assign a weight of 2 for three in a row score."
   ]
  },
  {
   "cell_type": "code",
   "execution_count": null,
   "id": "7e59d578",
   "metadata": {},
   "outputs": [],
   "source": [
    "weight_three_in_row = 2"
   ]
  },
  {
   "cell_type": "markdown",
   "id": "9ed06d44",
   "metadata": {},
   "source": [
    "Assign a weight of 1 for two in a row score."
   ]
  },
  {
   "cell_type": "code",
   "execution_count": null,
   "id": "1e749355",
   "metadata": {},
   "outputs": [],
   "source": [
    "weight_two_in_row = 1"
   ]
  },
  {
   "cell_type": "markdown",
   "id": "36069f22",
   "metadata": {},
   "source": [
    "Assign a weight of -5 for opposing two in a row score."
   ]
  },
  {
   "cell_type": "code",
   "execution_count": null,
   "id": "8f82ba67",
   "metadata": {},
   "outputs": [],
   "source": [
    "weight_opposing_two = -5"
   ]
  },
  {
   "cell_type": "markdown",
   "id": "7a65f469",
   "metadata": {},
   "source": [
    "Assign a weight of -2 for opposing three in a row score."
   ]
  },
  {
   "cell_type": "code",
   "execution_count": null,
   "id": "aa3f8508",
   "metadata": {},
   "outputs": [],
   "source": [
    "weight_opposing_three = -2"
   ]
  }
 ],
 "metadata": {
  "kernelspec": {
   "display_name": "Python 3",
   "language": "python",
   "name": "python3"
  },
  "language_info": {
   "codemirror_mode": {
    "name": "ipython",
    "version": 3
   },
   "file_extension": ".py",
   "mimetype": "text/x-python",
   "name": "python",
   "nbconvert_exporter": "python",
   "pygments_lexer": "ipython3",
   "version": "3.8.5"
  }
 },
 "nbformat": 4,
 "nbformat_minor": 5
}
