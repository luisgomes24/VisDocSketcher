{
 "cells": [
  {
   "cell_type": "markdown",
   "id": "ee4e03cc",
   "metadata": {},
   "source": [
    "Load the training data from the CSV file."
   ]
  },
  {
   "cell_type": "code",
   "execution_count": null,
   "id": "f894f34e",
   "metadata": {},
   "outputs": [],
   "source": [
    "import pandas as pd\n",
    "train_data = pd.read_csv('train.csv')"
   ]
  },
  {
   "cell_type": "markdown",
   "id": "5dd06dfb",
   "metadata": {},
   "source": [
    "Read the asset details from another CSV file."
   ]
  },
  {
   "cell_type": "code",
   "execution_count": null,
   "id": "f50d226b",
   "metadata": {},
   "outputs": [],
   "source": [
    "asset_details = pd.read_csv('asset_details.csv')"
   ]
  },
  {
   "cell_type": "markdown",
   "id": "a30db8b9",
   "metadata": {},
   "source": [
    "Create and display a bar plot of asset counts."
   ]
  },
  {
   "cell_type": "code",
   "execution_count": null,
   "id": "da9f2090",
   "metadata": {},
   "outputs": [],
   "source": [
    "import matplotlib.pyplot as plt\n",
    "asset_details['Asset'].value_counts().plot(kind='bar')\n",
    "plt.title('Asset Count Plot')\n",
    "plt.show()"
   ]
  },
  {
   "cell_type": "markdown",
   "id": "7db693bb",
   "metadata": {},
   "source": [
    "Filter data for Bitcoin and plot its price over time."
   ]
  },
  {
   "cell_type": "code",
   "execution_count": null,
   "id": "1cfcb9a9",
   "metadata": {},
   "outputs": [],
   "source": [
    "bitcoin_data = asset_details[asset_details['Asset'] == 'Bitcoin']\n",
    "bitcoin_data.plot(x='Date', y='Price', kind='line')\n",
    "plt.title('Bitcoin Candle Plot')\n",
    "plt.show()"
   ]
  },
  {
   "cell_type": "markdown",
   "id": "ad028d79",
   "metadata": {},
   "source": [
    "Filter data for Ethereum and plot its price over time."
   ]
  },
  {
   "cell_type": "code",
   "execution_count": null,
   "id": "434196c6",
   "metadata": {},
   "outputs": [],
   "source": [
    "ethereum_data = asset_details[asset_details['Asset'] == 'Ethereum']\n",
    "ebethereum_data.plot(x='Date', y='Price', kind='line')\n",
    "plt.title('Ethereum Candle Plot')\n",
    "plt.show()"
   ]
  },
  {
   "cell_type": "markdown",
   "id": "020e64a4",
   "metadata": {},
   "source": [
    "Filter data for Litecoin and plot its price over time."
   ]
  },
  {
   "cell_type": "code",
   "execution_count": null,
   "id": "e59536ca",
   "metadata": {},
   "outputs": [],
   "source": [
    "litecoin_data = asset_details[asset_details['Asset'] == 'Litecoin']\n",
    "litecoin_data.plot(x='Date', y='Price', kind='line')\n",
    "plt.title('Litecoin Candle Plot')\n",
    "plt.show()"
   ]
  },
  {
   "cell_type": "markdown",
   "id": "733a8533",
   "metadata": {},
   "source": [
    "Create and fit an ARIMA model for time series predictions."
   ]
  },
  {
   "cell_type": "code",
   "execution_count": null,
   "id": "d5b2c3e2",
   "metadata": {},
   "outputs": [],
   "source": [
    "import statsmodels.api as sm\n",
    "model = sm.tsa.ARIMA(asset_details['Price'], order=(5, 1, 0))\n",
    "model_fit = model.fit()\n",
    "model_fit.forecast(steps=5)"
   ]
  }
 ],
 "metadata": {
  "kernelspec": {
   "display_name": "Python 3",
   "language": "python",
   "name": "python3"
  },
  "language_info": {
   "codemirror_mode": {
    "name": "ipython",
    "version": 3
   },
   "file_extension": ".py",
   "mimetype": "text/x-python",
   "name": "python",
   "nbconvert_exporter": "python",
   "pygments_lexer": "ipython3",
   "version": "3.8.5"
  }
 },
 "nbformat": 4,
 "nbformat_minor": 5
}
