{
 "cells": [
  {
   "cell_type": "markdown",
   "id": "57737f57",
   "metadata": {},
   "source": [
    "Import the pandas library to handle data."
   ]
  },
  {
   "cell_type": "code",
   "execution_count": null,
   "id": "e22c7ae8",
   "metadata": {},
   "outputs": [],
   "source": [
    "import pandas as pd"
   ]
  },
  {
   "cell_type": "markdown",
   "id": "71af5df0",
   "metadata": {},
   "source": [
    "Read the CSV file into a DataFrame using `read_csv()`."
   ]
  },
  {
   "cell_type": "code",
   "execution_count": null,
   "id": "942d367a",
   "metadata": {},
   "outputs": [],
   "source": [
    "df = pd.read_csv('geonames-postal-code.csv')"
   ]
  },
  {
   "cell_type": "markdown",
   "id": "0cbc6796",
   "metadata": {},
   "source": [
    "Display the DataFrame to confirm data has been loaded."
   ]
  },
  {
   "cell_type": "code",
   "execution_count": null,
   "id": "679046e1",
   "metadata": {},
   "outputs": [],
   "source": [
    "print(df)"
   ]
  }
 ],
 "metadata": {
  "kernelspec": {
   "display_name": "Python 3",
   "language": "python",
   "name": "python3"
  },
  "language_info": {
   "codemirror_mode": {
    "name": "ipython",
    "version": 3
   },
   "file_extension": ".py",
   "mimetype": "text/x-python",
   "name": "python",
   "nbconvert_exporter": "python",
   "pygments_lexer": "ipython3",
   "version": "3.8.5"
  }
 },
 "nbformat": 4,
 "nbformat_minor": 5
}
