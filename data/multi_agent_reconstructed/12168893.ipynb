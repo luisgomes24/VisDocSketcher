{
 "cells": [
  {
   "cell_type": "markdown",
   "id": "a397d5bd",
   "metadata": {},
   "source": [
    "Load the CSV file and count the number of rows read."
   ]
  },
  {
   "cell_type": "code",
   "execution_count": null,
   "id": "a96a30ec",
   "metadata": {},
   "outputs": [],
   "source": [
    "import pandas as pd\n",
    "\n",
    "df = pd.read_csv('gldv2_extra.csv')\n",
    "nRowsRead = len(df)"
   ]
  },
  {
   "cell_type": "markdown",
   "id": "1bf12dff",
   "metadata": {},
   "source": [
    "Display the number of rows read from the CSV."
   ]
  },
  {
   "cell_type": "code",
   "execution_count": null,
   "id": "157923fb",
   "metadata": {},
   "outputs": [],
   "source": [
    "print(f'Number of rows read: {nRowsRead}')"
   ]
  },
  {
   "cell_type": "markdown",
   "id": "2655cff2",
   "metadata": {},
   "source": [
    "Visualize the data using a boxplot."
   ]
  },
  {
   "cell_type": "code",
   "execution_count": null,
   "id": "700d5e20",
   "metadata": {},
   "outputs": [],
   "source": [
    "import matplotlib.pyplot as plt\n",
    "import seaborn as sns\n",
    "\n",
    "plt.figure(figsize=(10,5))\n",
    "sns.boxplot(data=df)\n",
    "plt.title('Boxplot of DataFrame df1')\n",
    "plt.show()"
   ]
  },
  {
   "cell_type": "markdown",
   "id": "493faf98",
   "metadata": {},
   "source": [
    "Display number of rows for each category."
   ]
  },
  {
   "cell_type": "code",
   "execution_count": null,
   "id": "28c3d0c1",
   "metadata": {},
   "outputs": [],
   "source": [
    "plt.figure(figsize=(10,5))\n",
    "sns.countplot(data=df)\n",
    "plt.title('Number of Rows by Category')\n",
    "plt.show()"
   ]
  },
  {
   "cell_type": "markdown",
   "id": "2be8bfa6",
   "metadata": {},
   "source": [
    "Visualize the number of columns in the DataFrame."
   ]
  },
  {
   "cell_type": "code",
   "execution_count": null,
   "id": "eb2458bc",
   "metadata": {},
   "outputs": [],
   "source": [
    "plt.figure(figsize=(10,5))\n",
    "sns.barplot(data=df.count().reset_index(), x='index', y=0)\n",
    "plt.title('Number of Columns')\n",
    "plt.show()"
   ]
  }
 ],
 "metadata": {
  "kernelspec": {
   "display_name": "Python 3",
   "language": "python",
   "name": "python3"
  },
  "language_info": {
   "codemirror_mode": {
    "name": "ipython",
    "version": 3
   },
   "file_extension": ".py",
   "mimetype": "text/x-python",
   "name": "python",
   "nbconvert_exporter": "python",
   "pygments_lexer": "ipython3",
   "version": "3.8.5"
  }
 },
 "nbformat": 4,
 "nbformat_minor": 5
}
