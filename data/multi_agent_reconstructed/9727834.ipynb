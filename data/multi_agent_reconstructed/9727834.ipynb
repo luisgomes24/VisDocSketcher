{
 "cells": [
  {
   "cell_type": "markdown",
   "id": "ffd1cc9a",
   "metadata": {},
   "source": [
    "Load the CSV file and retrieve the first 1000 rows into df1."
   ]
  },
  {
   "cell_type": "code",
   "execution_count": null,
   "id": "05d661c4",
   "metadata": {},
   "outputs": [],
   "source": [
    "import pandas as pd\n",
    "\n",
    "df1 = pd.read_csv('March_2020_ontime.csv')\n",
    "\n",
    "df1 = df1.head(1000)"
   ]
  },
  {
   "cell_type": "markdown",
   "id": "fa71b12a",
   "metadata": {},
   "source": [
    "Define and call a function to plot the distribution of each column in df1."
   ]
  },
  {
   "cell_type": "code",
   "execution_count": null,
   "id": "4dab2c4e",
   "metadata": {},
   "outputs": [],
   "source": [
    "import matplotlib.pyplot as plt\n",
    "import seaborn as sns\n",
    "\n",
    "def plotPerColumnDistribution(df, width, height):\n",
    "    plt.figure(figsize=(width, height))\n",
    "    df.hist(bins=30)\n",
    "    plt.show()\n",
    "\n",
    "plotPerColumnDistribution(df1, 10, 5)"
   ]
  },
  {
   "cell_type": "markdown",
   "id": "36dac26e",
   "metadata": {},
   "source": [
    "Define and call a function to visualize the correlation matrix of df1."
   ]
  },
  {
   "cell_type": "code",
   "execution_count": null,
   "id": "2a5f5119",
   "metadata": {},
   "outputs": [],
   "source": [
    "def plotCorrelationMatrix(df, size):\n",
    "    plt.figure(figsize=(size, size))\n",
    "    sns.heatmap(df.corr(), annot=True)\n",
    "    plt.show()\n",
    "\n",
    "plotCorrelationMatrix(df1, 8)"
   ]
  },
  {
   "cell_type": "markdown",
   "id": "fab9449f",
   "metadata": {},
   "source": [
    "Define and call a function to create a scatter matrix for df1."
   ]
  },
  {
   "cell_type": "code",
   "execution_count": null,
   "id": "2f3783b5",
   "metadata": {},
   "outputs": [],
   "source": [
    "def plotScatterMatrix(df, width, height):\n",
    "    sns.pairplot(df)\n",
    "    plt.show()\n",
    "\n",
    "plotScatterMatrix(df1, 20, 10)"
   ]
  },
  {
   "cell_type": "markdown",
   "id": "32f6f5b5",
   "metadata": {},
   "source": [
    "Load the same CSV file into df2 and retrieve the first 1000 rows."
   ]
  },
  {
   "cell_type": "code",
   "execution_count": null,
   "id": "2f7b8c92",
   "metadata": {},
   "outputs": [],
   "source": [
    "df2 = pd.read_csv('March_2020_ontime.csv')\n",
    "\n",
    "df2 = df2.head(1000)"
   ]
  },
  {
   "cell_type": "markdown",
   "id": "877beaa8",
   "metadata": {},
   "source": [
    "Plot the distribution of each column in df2."
   ]
  },
  {
   "cell_type": "code",
   "execution_count": null,
   "id": "5c2e2b91",
   "metadata": {},
   "outputs": [],
   "source": [
    "plotPerColumnDistribution(df2, 10, 5)"
   ]
  },
  {
   "cell_type": "markdown",
   "id": "b51f415a",
   "metadata": {},
   "source": [
    "Visualize the correlation matrix for df2."
   ]
  },
  {
   "cell_type": "code",
   "execution_count": null,
   "id": "99c17517",
   "metadata": {},
   "outputs": [],
   "source": [
    "plotCorrelationMatrix(df2, 8)"
   ]
  },
  {
   "cell_type": "markdown",
   "id": "e5bf544b",
   "metadata": {},
   "source": [
    "Create a scatter matrix for df2."
   ]
  },
  {
   "cell_type": "code",
   "execution_count": null,
   "id": "591de7c7",
   "metadata": {},
   "outputs": [],
   "source": [
    "plotScatterMatrix(df2, 20, 10)"
   ]
  }
 ],
 "metadata": {
  "kernelspec": {
   "display_name": "Python 3",
   "language": "python",
   "name": "python3"
  },
  "language_info": {
   "codemirror_mode": {
    "name": "ipython",
    "version": 3
   },
   "file_extension": ".py",
   "mimetype": "text/x-python",
   "name": "python",
   "nbconvert_exporter": "python",
   "pygments_lexer": "ipython3",
   "version": "3.8.5"
  }
 },
 "nbformat": 4,
 "nbformat_minor": 5
}
