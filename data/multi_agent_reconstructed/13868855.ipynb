{
 "cells": [
  {
   "cell_type": "markdown",
   "id": "34741f94",
   "metadata": {},
   "source": [
    "Load the first submission file using pandas."
   ]
  },
  {
   "cell_type": "code",
   "execution_count": null,
   "id": "aa3aca30",
   "metadata": {},
   "outputs": [],
   "source": [
    "import pandas as pd\n",
    "submission_1 = pd.read_csv('../input/audio-detection-soliset-201/submission.csv')"
   ]
  },
  {
   "cell_type": "markdown",
   "id": "4cf4c7be",
   "metadata": {},
   "source": [
    "Load the second submission file."
   ]
  },
  {
   "cell_type": "code",
   "execution_count": null,
   "id": "27fe377c",
   "metadata": {},
   "outputs": [],
   "source": [
    "submission_2 = pd.read_csv('../input/inference-resnet-rfx-audio-detection/submission.csv')"
   ]
  },
  {
   "cell_type": "markdown",
   "id": "dd8f9faf",
   "metadata": {},
   "source": [
    "Load the third submission file."
   ]
  },
  {
   "cell_type": "code",
   "execution_count": null,
   "id": "be0a8c0f",
   "metadata": {},
   "outputs": [],
   "source": [
    "submission_3 = pd.read_csv('../input/minimal-fastai-solution-score-0-61/submission.csv')"
   ]
  },
  {
   "cell_type": "markdown",
   "id": "c52c7641",
   "metadata": {},
   "source": [
    "Load the fourth submission file."
   ]
  },
  {
   "cell_type": "code",
   "execution_count": null,
   "id": "13454c58",
   "metadata": {},
   "outputs": [],
   "source": [
    "submission_4 = pd.read_csv('../input/all-in-one-rfcx-baseline-for-beginners/submission.csv')"
   ]
  },
  {
   "cell_type": "markdown",
   "id": "4fc216bc",
   "metadata": {},
   "source": [
    "Load the fifth submission file."
   ]
  },
  {
   "cell_type": "code",
   "execution_count": null,
   "id": "a0592069",
   "metadata": {},
   "outputs": [],
   "source": [
    "submission_5 = pd.read_csv('../input/rfcx-train-resnet50-with-tpu/submission.csv')"
   ]
  },
  {
   "cell_type": "markdown",
   "id": "b33be6b0",
   "metadata": {},
   "source": [
    "Load the sixth submission file."
   ]
  },
  {
   "cell_type": "code",
   "execution_count": null,
   "id": "2f365167",
   "metadata": {},
   "outputs": [],
   "source": [
    "submission_6 = pd.read_csv('../input/rfcx-resnet50-tpu/submission.csv')"
   ]
  },
  {
   "cell_type": "markdown",
   "id": "a7359a4f",
   "metadata": {},
   "source": [
    "Load the seventh submission file."
   ]
  },
  {
   "cell_type": "code",
   "execution_count": null,
   "id": "caa28f36",
   "metadata": {},
   "outputs": [],
   "source": [
    "submission_7 = pd.read_csv('../input/resnet34-more-augmentations-mixup-tta-inference/submission.csv')"
   ]
  },
  {
   "cell_type": "markdown",
   "id": "01d1e9f3",
   "metadata": {},
   "source": [
    "Load the eighth submission file."
   ]
  },
  {
   "cell_type": "code",
   "execution_count": null,
   "id": "5c8469fa",
   "metadata": {},
   "outputs": [],
   "source": [
    "submission_8 = pd.read_csv('../input/inference-tpu-rfcx-audio-detection-fast/submission.csv')"
   ]
  },
  {
   "cell_type": "markdown",
   "id": "c2941a76",
   "metadata": {},
   "source": [
    "Load the ninth submission file."
   ]
  },
  {
   "cell_type": "code",
   "execution_count": null,
   "id": "3174543f",
   "metadata": {},
   "outputs": [],
   "source": [
    "submission_9 = pd.read_csv('../input/rfcx-bagging-with-different-weights-0871-score/submission.csv')"
   ]
  },
  {
   "cell_type": "markdown",
   "id": "12cc4dfa",
   "metadata": {},
   "source": [
    "Merge all submission files into one DataFrame."
   ]
  },
  {
   "cell_type": "code",
   "execution_count": null,
   "id": "5fdba735",
   "metadata": {},
   "outputs": [],
   "source": [
    "merged_submission = pd.concat([submission_1, submission_2, submission_3, submission_4, submission_5, submission_6, submission_7, submission_8, submission_9])"
   ]
  }
 ],
 "metadata": {
  "kernelspec": {
   "display_name": "Python 3",
   "language": "python",
   "name": "python3"
  },
  "language_info": {
   "codemirror_mode": {
    "name": "ipython",
    "version": 3
   },
   "file_extension": ".py",
   "mimetype": "text/x-python",
   "name": "python",
   "nbconvert_exporter": "python",
   "pygments_lexer": "ipython3",
   "version": "3.8.5"
  }
 },
 "nbformat": 4,
 "nbformat_minor": 5
}
