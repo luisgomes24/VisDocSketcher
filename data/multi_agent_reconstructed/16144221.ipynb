{
 "cells": [
  {
   "cell_type": "markdown",
   "id": "114990be",
   "metadata": {},
   "source": [
    "Load the CSV file into a DataFrame named 'df'."
   ]
  },
  {
   "cell_type": "code",
   "execution_count": null,
   "id": "2bf5ce13",
   "metadata": {},
   "outputs": [],
   "source": [
    "import pandas as pd\n",
    "df = pd.read_csv('/kaggle/input/github-commit-messages-dataset/full.csv')"
   ]
  },
  {
   "cell_type": "markdown",
   "id": "0e41c983",
   "metadata": {},
   "source": [
    "Validate and remove duplicate entries from the DataFrame."
   ]
  },
  {
   "cell_type": "code",
   "execution_count": null,
   "id": "58b5404f",
   "metadata": {},
   "outputs": [],
   "source": [
    "processed_df = df.drop_duplicates()"
   ]
  },
  {
   "cell_type": "markdown",
   "id": "174b5bf5",
   "metadata": {},
   "source": [
    "Calculate the cumulative summation of the processed DataFrame."
   ]
  },
  {
   "cell_type": "code",
   "execution_count": null,
   "id": "4a57bb8b",
   "metadata": {},
   "outputs": [],
   "source": [
    "total_df = processed_df.cumsum()"
   ]
  },
  {
   "cell_type": "markdown",
   "id": "8cf87a49",
   "metadata": {},
   "source": [
    "Extract the year and month from the date column into a new column."
   ]
  },
  {
   "cell_type": "code",
   "execution_count": null,
   "id": "77839376",
   "metadata": {},
   "outputs": [],
   "source": [
    "processed_df['Year-Month'] = processed_df['date_column'].dt.to_period('M')"
   ]
  },
  {
   "cell_type": "markdown",
   "id": "e906cc2a",
   "metadata": {},
   "source": [
    "Extract unique repositories from the processed DataFrame."
   ]
  },
  {
   "cell_type": "code",
   "execution_count": null,
   "id": "9bde5412",
   "metadata": {},
   "outputs": [],
   "source": [
    "repos = processed_df['repository'].unique()"
   ]
  },
  {
   "cell_type": "markdown",
   "id": "d065d0f9",
   "metadata": {},
   "source": [
    "Generate a color mapping for the unique repositories."
   ]
  },
  {
   "cell_type": "code",
   "execution_count": null,
   "id": "ae3fc4d9",
   "metadata": {},
   "outputs": [],
   "source": [
    "color = {repo: idx for idx, repo in enumerate(repos)}"
   ]
  },
  {
   "cell_type": "markdown",
   "id": "e08879ee",
   "metadata": {},
   "source": [
    "Group the DataFrame by repositories to count the number of commits."
   ]
  },
  {
   "cell_type": "code",
   "execution_count": null,
   "id": "471253fa",
   "metadata": {},
   "outputs": [],
   "source": [
    "user_commit_df = processed_df.groupby('repository').size().reset_index(name='commit_count')"
   ]
  },
  {
   "cell_type": "markdown",
   "id": "e73dc512",
   "metadata": {},
   "source": [
    "Prepare data for various plots, including scatter plot data."
   ]
  },
  {
   "cell_type": "code",
   "execution_count": null,
   "id": "6f532905",
   "metadata": {},
   "outputs": [],
   "source": [
    "visualizations = { 'scatter_plot_data': user_commit_df, 'color_mapping': color }"
   ]
  }
 ],
 "metadata": {
  "kernelspec": {
   "display_name": "Python 3",
   "language": "python",
   "name": "python3"
  },
  "language_info": {
   "codemirror_mode": {
    "name": "ipython",
    "version": 3
   },
   "file_extension": ".py",
   "mimetype": "text/x-python",
   "name": "python",
   "nbconvert_exporter": "python",
   "pygments_lexer": "ipython3",
   "version": "3.8.5"
  }
 },
 "nbformat": 4,
 "nbformat_minor": 5
}
