{
 "cells": [
  {
   "cell_type": "markdown",
   "id": "38b7bb9c",
   "metadata": {},
   "source": [
    "Import the necessary libraries for data manipulation and visualization."
   ]
  },
  {
   "cell_type": "code",
   "execution_count": null,
   "id": "07c5c5f4",
   "metadata": {},
   "outputs": [],
   "source": [
    "import numpy as np\n",
    "import matplotlib.pyplot as plt\n",
    "import pandas as pd\n",
    "from sklearn import datasets"
   ]
  },
  {
   "cell_type": "markdown",
   "id": "f8f173e2",
   "metadata": {},
   "source": [
    "List the files in the specified directory and display their paths."
   ]
  },
  {
   "cell_type": "code",
   "execution_count": null,
   "id": "aac8fe90",
   "metadata": {},
   "outputs": [],
   "source": [
    "file_paths = os.listdir('directory_path')\n",
    "print(file_paths)"
   ]
  },
  {
   "cell_type": "markdown",
   "id": "49e161e2",
   "metadata": {},
   "source": [
    "Define a function to plot the distribution of each column in the dataset."
   ]
  },
  {
   "cell_type": "code",
   "execution_count": null,
   "id": "7a927773",
   "metadata": {},
   "outputs": [],
   "source": [
    "def plotPerColumnDistribution(data):\n",
    "    data.hist(bins=30, figsize=(15, 10))\n",
    "    plt.show()"
   ]
  },
  {
   "cell_type": "markdown",
   "id": "b289ad4d",
   "metadata": {},
   "source": [
    "Define a function to plot the correlation matrix of the dataset."
   ]
  },
  {
   "cell_type": "code",
   "execution_count": null,
   "id": "ee7e9005",
   "metadata": {},
   "outputs": [],
   "source": [
    "def plotCorrelationMatrix(data):\n",
    "    correlation = data.corr()\n",
    "    plt.matshow(correlation)\n",
    "    plt.show()"
   ]
  },
  {
   "cell_type": "markdown",
   "id": "2ec4afa5",
   "metadata": {},
   "source": [
    "Define a function to plot a scatter matrix for visualizing relationships."
   ]
  },
  {
   "cell_type": "code",
   "execution_count": null,
   "id": "d26d7993",
   "metadata": {},
   "outputs": [],
   "source": [
    "def plotScatterMatrix(data):\n",
    "    pd.plotting.scatter_matrix(data, figsize=(15, 10))\n",
    "    plt.show()"
   ]
  }
 ],
 "metadata": {
  "kernelspec": {
   "display_name": "Python 3",
   "language": "python",
   "name": "python3"
  },
  "language_info": {
   "codemirror_mode": {
    "name": "ipython",
    "version": 3
   },
   "file_extension": ".py",
   "mimetype": "text/x-python",
   "name": "python",
   "nbconvert_exporter": "python",
   "pygments_lexer": "ipython3",
   "version": "3.8.5"
  }
 },
 "nbformat": 4,
 "nbformat_minor": 5
}
