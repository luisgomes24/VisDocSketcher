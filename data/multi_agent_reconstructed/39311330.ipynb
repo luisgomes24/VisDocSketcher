{
 "cells": [
  {
   "cell_type": "markdown",
   "id": "4ebbf124",
   "metadata": {},
   "source": [
    "Import the pandas library for data manipulation."
   ]
  },
  {
   "cell_type": "code",
   "execution_count": null,
   "id": "5093b2a3",
   "metadata": {},
   "outputs": [],
   "source": [
    "import pandas as pd"
   ]
  },
  {
   "cell_type": "markdown",
   "id": "d3c596de",
   "metadata": {},
   "source": [
    "Read the CSV file 'starbucks.csv' into a DataFrame named 'data'."
   ]
  },
  {
   "cell_type": "code",
   "execution_count": null,
   "id": "565f5cfd",
   "metadata": {},
   "outputs": [],
   "source": [
    "data = pd.read_csv('starbucks.csv')"
   ]
  }
 ],
 "metadata": {
  "kernelspec": {
   "display_name": "Python 3",
   "language": "python",
   "name": "python3"
  },
  "language_info": {
   "codemirror_mode": {
    "name": "ipython",
    "version": 3
   },
   "file_extension": ".py",
   "mimetype": "text/x-python",
   "name": "python",
   "nbconvert_exporter": "python",
   "pygments_lexer": "ipython3",
   "version": "3.8.5"
  }
 },
 "nbformat": 4,
 "nbformat_minor": 5
}
