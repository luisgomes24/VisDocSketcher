{
 "cells": [
  {
   "cell_type": "markdown",
   "id": "e5ebfd3c",
   "metadata": {},
   "source": [
    "Load the Adult Income dataset into a DataFrame."
   ]
  },
  {
   "cell_type": "code",
   "execution_count": null,
   "id": "49562fa0",
   "metadata": {},
   "outputs": [],
   "source": [
    "import pandas as pd\n",
    "df = pd.read_csv('adult_income.csv')"
   ]
  },
  {
   "cell_type": "markdown",
   "id": "9349455a",
   "metadata": {},
   "source": [
    "Clean the DataFrame by removing missing values and resetting the index."
   ]
  },
  {
   "cell_type": "code",
   "execution_count": null,
   "id": "c69af26d",
   "metadata": {},
   "outputs": [],
   "source": [
    "df1 = df.dropna().reset_index(drop=True)"
   ]
  },
  {
   "cell_type": "markdown",
   "id": "8c63d7f4",
   "metadata": {},
   "source": [
    "Separate the DataFrame into features (X) and the target variable (y)."
   ]
  },
  {
   "cell_type": "code",
   "execution_count": null,
   "id": "5f173b50",
   "metadata": {},
   "outputs": [],
   "source": [
    "X = df1.drop('income', axis=1)\n",
    "y = df1['income']"
   ]
  },
  {
   "cell_type": "markdown",
   "id": "84c4a8f4",
   "metadata": {},
   "source": [
    "Split the data into training and testing sets (80% train, 20% test)."
   ]
  },
  {
   "cell_type": "code",
   "execution_count": null,
   "id": "890305cb",
   "metadata": {},
   "outputs": [],
   "source": [
    "from sklearn.model_selection import train_test_split\n",
    "x_train, x_test, y_train, y_test = train_test_split(X, y, test_size=0.2, random_state=42)"
   ]
  },
  {
   "cell_type": "markdown",
   "id": "a7829f4c",
   "metadata": {},
   "source": [
    "Initialize the KNeighborsClassifier model."
   ]
  },
  {
   "cell_type": "code",
   "execution_count": null,
   "id": "d36967a0",
   "metadata": {},
   "outputs": [],
   "source": [
    "from sklearn.neighbors import KNeighborsClassifier\n",
    "model = KNeighborsClassifier()"
   ]
  },
  {
   "cell_type": "markdown",
   "id": "bc390ca7",
   "metadata": {},
   "source": [
    "Fit the model to the training data."
   ]
  },
  {
   "cell_type": "code",
   "execution_count": null,
   "id": "e6bf1c10",
   "metadata": {},
   "outputs": [],
   "source": [
    "model.fit(x_train, y_train)"
   ]
  },
  {
   "cell_type": "markdown",
   "id": "0071e499",
   "metadata": {},
   "source": [
    "Evaluate the model's performance using classification report and accuracy score."
   ]
  },
  {
   "cell_type": "code",
   "execution_count": null,
   "id": "7c123b5d",
   "metadata": {},
   "outputs": [],
   "source": [
    "from sklearn.metrics import classification_report, accuracy_score\n",
    "y_pred = model.predict(x_test)\n",
    "eval_report = classification_report(y_test, y_pred)\n",
    "accuracy = accuracy_score(y_test, y_pred)"
   ]
  }
 ],
 "metadata": {
  "kernelspec": {
   "display_name": "Python 3",
   "language": "python",
   "name": "python3"
  },
  "language_info": {
   "codemirror_mode": {
    "name": "ipython",
    "version": 3
   },
   "file_extension": ".py",
   "mimetype": "text/x-python",
   "name": "python",
   "nbconvert_exporter": "python",
   "pygments_lexer": "ipython3",
   "version": "3.8.5"
  }
 },
 "nbformat": 4,
 "nbformat_minor": 5
}
