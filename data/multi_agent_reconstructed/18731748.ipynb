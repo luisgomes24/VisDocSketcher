{
 "cells": [
  {
   "cell_type": "markdown",
   "id": "ae61b515",
   "metadata": {},
   "source": [
    "Load the loan application data from a CSV file into a DataFrame."
   ]
  },
  {
   "cell_type": "code",
   "execution_count": null,
   "id": "0a21a458",
   "metadata": {},
   "outputs": [],
   "source": [
    "import pandas as pd\n",
    "loans = pd.read_csv('loan_application_data.csv')"
   ]
  },
  {
   "cell_type": "markdown",
   "id": "283bb6b2",
   "metadata": {},
   "source": [
    "Clean the data by dropping the 'Loan_Status' column."
   ]
  },
  {
   "cell_type": "code",
   "execution_count": null,
   "id": "0dbda94b",
   "metadata": {},
   "outputs": [],
   "source": [
    "loans.drop(columns=['Loan_Status'], inplace=True)"
   ]
  },
  {
   "cell_type": "markdown",
   "id": "26d0c6a3",
   "metadata": {},
   "source": [
    "Select the features (X) for the model by excluding 'Loan_Status'."
   ]
  },
  {
   "cell_type": "code",
   "execution_count": null,
   "id": "9a13c2f4",
   "metadata": {},
   "outputs": [],
   "source": [
    "X = loans.drop(columns=['Loan_Status'])"
   ]
  },
  {
   "cell_type": "markdown",
   "id": "44dc2727",
   "metadata": {},
   "source": [
    "Select the target variable (y) which is 'Loan_Status'."
   ]
  },
  {
   "cell_type": "code",
   "execution_count": null,
   "id": "ed308a24",
   "metadata": {},
   "outputs": [],
   "source": [
    "y = loans['Loan_Status']"
   ]
  },
  {
   "cell_type": "markdown",
   "id": "15f30eb1",
   "metadata": {},
   "source": [
    "Train a Random Forest classifier using the feature set."
   ]
  },
  {
   "cell_type": "code",
   "execution_count": null,
   "id": "ed3acd7c",
   "metadata": {},
   "outputs": [],
   "source": [
    "from sklearn.ensemble import RandomForestClassifier\n",
    "model_rf = RandomForestClassifier()\n",
    "model_rf.fit(X, y)"
   ]
  },
  {
   "cell_type": "markdown",
   "id": "5990b21d",
   "metadata": {},
   "source": [
    "Train a Decision Tree classifier using the feature set."
   ]
  },
  {
   "cell_type": "code",
   "execution_count": null,
   "id": "cce7cbfb",
   "metadata": {},
   "outputs": [],
   "source": [
    "from sklearn.tree import DecisionTreeClassifier\n",
    "model_dt = DecisionTreeClassifier()\n",
    "model_dt.fit(X, y)"
   ]
  },
  {
   "cell_type": "markdown",
   "id": "13526472",
   "metadata": {},
   "source": [
    "Train a Gaussian Naive Bayes classifier using the feature set."
   ]
  },
  {
   "cell_type": "code",
   "execution_count": null,
   "id": "bef6f190",
   "metadata": {},
   "outputs": [],
   "source": [
    "from sklearn.naive_bayes import GaussianNB\n",
    "model_gnb = GaussianNB()\n",
    "model_gnb.fit(X, y)"
   ]
  },
  {
   "cell_type": "markdown",
   "id": "ae141fd2",
   "metadata": {},
   "source": [
    "Train a K-Neighbors classifier using the feature set."
   ]
  },
  {
   "cell_type": "code",
   "execution_count": null,
   "id": "5495e8d5",
   "metadata": {},
   "outputs": [],
   "source": [
    "from sklearn.neighbors import KNeighborsClassifier\n",
    "model_knn = KNeighborsClassifier()\n",
    "model_knn.fit(X, y)"
   ]
  }
 ],
 "metadata": {
  "kernelspec": {
   "display_name": "Python 3",
   "language": "python",
   "name": "python3"
  },
  "language_info": {
   "codemirror_mode": {
    "name": "ipython",
    "version": 3
   },
   "file_extension": ".py",
   "mimetype": "text/x-python",
   "name": "python",
   "nbconvert_exporter": "python",
   "pygments_lexer": "ipython3",
   "version": "3.8.5"
  }
 },
 "nbformat": 4,
 "nbformat_minor": 5
}
