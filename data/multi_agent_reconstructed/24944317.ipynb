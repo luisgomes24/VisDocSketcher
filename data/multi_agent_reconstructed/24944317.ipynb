{
 "cells": [
  {
   "cell_type": "markdown",
   "id": "bcdf53ca",
   "metadata": {},
   "source": [
    "Load the training data and drop unnecessary columns."
   ]
  },
  {
   "cell_type": "code",
   "execution_count": null,
   "id": "3e4b0089",
   "metadata": {},
   "outputs": [],
   "source": [
    "import pandas as pd\n",
    "train_df = pd.read_csv('train.csv')\n",
    "train_df.drop(['PassengerId', 'Name'], axis=1, inplace=True)"
   ]
  },
  {
   "cell_type": "markdown",
   "id": "48725ce9",
   "metadata": {},
   "source": [
    "Load the test data and drop unnecessary columns."
   ]
  },
  {
   "cell_type": "code",
   "execution_count": null,
   "id": "3d2ed738",
   "metadata": {},
   "outputs": [],
   "source": [
    "test_df = pd.read_csv('test.csv')\n",
    "test_df.drop(['PassengerId', 'Name'], axis=1, inplace=True)"
   ]
  },
  {
   "cell_type": "markdown",
   "id": "b0fe463e",
   "metadata": {},
   "source": [
    "Split the 'Cabin' column into multiple features for training data."
   ]
  },
  {
   "cell_type": "code",
   "execution_count": null,
   "id": "6fef8650",
   "metadata": {},
   "outputs": [],
   "source": [
    "train_df['Cabin'] = train_df['Cabin'].str.split(' ')"
   ]
  },
  {
   "cell_type": "markdown",
   "id": "f4220045",
   "metadata": {},
   "source": [
    "Split the 'Cabin' column into multiple features for test data."
   ]
  },
  {
   "cell_type": "code",
   "execution_count": null,
   "id": "b2ce5f93",
   "metadata": {},
   "outputs": [],
   "source": [
    "test_df['Cabin'] = test_df['Cabin'].str.split(' ')"
   ]
  },
  {
   "cell_type": "markdown",
   "id": "95c56aa7",
   "metadata": {},
   "source": [
    "Convert categorical variables to numeric in training data."
   ]
  },
  {
   "cell_type": "code",
   "execution_count": null,
   "id": "7ea74021",
   "metadata": {},
   "outputs": [],
   "source": [
    "train_df = pd.get_dummies(train_df, drop_first=True)"
   ]
  },
  {
   "cell_type": "markdown",
   "id": "13e1a1d5",
   "metadata": {},
   "source": [
    "Convert categorical variables to numeric in test data."
   ]
  },
  {
   "cell_type": "code",
   "execution_count": null,
   "id": "bce66c7c",
   "metadata": {},
   "outputs": [],
   "source": [
    "test_df = pd.get_dummies(test_df, drop_first=True)"
   ]
  },
  {
   "cell_type": "markdown",
   "id": "64205346",
   "metadata": {},
   "source": [
    "Impute missing values in the training data."
   ]
  },
  {
   "cell_type": "code",
   "execution_count": null,
   "id": "baa7e41a",
   "metadata": {},
   "outputs": [],
   "source": [
    "from sklearn.impute import SimpleImputer\n",
    "imputer = SimpleImputer(strategy='mean')\n",
    "train_imputed = imputer.fit_transform(train_df)"
   ]
  },
  {
   "cell_type": "markdown",
   "id": "d56d2b3b",
   "metadata": {},
   "source": [
    "Impute missing values in the test data."
   ]
  },
  {
   "cell_type": "code",
   "execution_count": null,
   "id": "787b012e",
   "metadata": {},
   "outputs": [],
   "source": [
    "test_imputed = imputer.transform(test_df)"
   ]
  },
  {
   "cell_type": "markdown",
   "id": "683afabc",
   "metadata": {},
   "source": [
    "Extract features and target variable from training data."
   ]
  },
  {
   "cell_type": "code",
   "execution_count": null,
   "id": "54302a5f",
   "metadata": {},
   "outputs": [],
   "source": [
    "X = train_imputed.drop(['Transported'], axis=1)\n",
    "y = train_imputed['Transported']"
   ]
  },
  {
   "cell_type": "markdown",
   "id": "bca9c442",
   "metadata": {},
   "source": [
    "Split training data into train and test sets."
   ]
  },
  {
   "cell_type": "code",
   "execution_count": null,
   "id": "4b6042f6",
   "metadata": {},
   "outputs": [],
   "source": [
    "from sklearn.model_selection import train_test_split\n",
    "X_train, X_test, y_train, y_test = train_test_split(X, y, test_size=0.2)"
   ]
  },
  {
   "cell_type": "markdown",
   "id": "f28827b2",
   "metadata": {},
   "source": [
    "Train the AutoML model with the training dataset."
   ]
  },
  {
   "cell_type": "code",
   "execution_count": null,
   "id": "14e47e74",
   "metadata": {},
   "outputs": [],
   "source": [
    "from automl import AutoML\n",
    "model = AutoML()\n",
    "model.fit(X_train, y_train)"
   ]
  },
  {
   "cell_type": "markdown",
   "id": "0fa5401f",
   "metadata": {},
   "source": [
    "Make predictions on the test dataset."
   ]
  },
  {
   "cell_type": "code",
   "execution_count": null,
   "id": "4773c3ea",
   "metadata": {},
   "outputs": [],
   "source": [
    "predictions = model.predict(test_imputed)"
   ]
  },
  {
   "cell_type": "markdown",
   "id": "d7f68663",
   "metadata": {},
   "source": [
    "Save the final predictions to a CSV file."
   ]
  },
  {
   "cell_type": "code",
   "execution_count": null,
   "id": "be6d75b0",
   "metadata": {},
   "outputs": [],
   "source": [
    "import numpy as np\n",
    "np.savetxt('predictions.csv', predictions, delimiter=',')"
   ]
  }
 ],
 "metadata": {
  "kernelspec": {
   "display_name": "Python 3",
   "language": "python",
   "name": "python3"
  },
  "language_info": {
   "codemirror_mode": {
    "name": "ipython",
    "version": 3
   },
   "file_extension": ".py",
   "mimetype": "text/x-python",
   "name": "python",
   "nbconvert_exporter": "python",
   "pygments_lexer": "ipython3",
   "version": "3.8.5"
  }
 },
 "nbformat": 4,
 "nbformat_minor": 5
}
