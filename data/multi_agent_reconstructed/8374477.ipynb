{
 "cells": [
  {
   "cell_type": "markdown",
   "id": "891d01f3",
   "metadata": {},
   "source": [
    "Load the CSV file into a DataFrame called `video_pandas`."
   ]
  },
  {
   "cell_type": "code",
   "execution_count": null,
   "id": "f5e0f16a",
   "metadata": {},
   "outputs": [],
   "source": [
    "import pandas as pd\n",
    "video_pandas = pd.read_csv('Video_Store.csv')"
   ]
  },
  {
   "cell_type": "markdown",
   "id": "489d152a",
   "metadata": {},
   "source": [
    "Filter the DataFrame for rows where Income is greater than 30K."
   ]
  },
  {
   "cell_type": "code",
   "execution_count": null,
   "id": "5a6f1350",
   "metadata": {},
   "outputs": [],
   "source": [
    "video_sub = video_pandas[video_pandas['Income'] > 30000]"
   ]
  },
  {
   "cell_type": "markdown",
   "id": "a04a6884",
   "metadata": {},
   "source": [
    "Calculate the Z-score of the Age column."
   ]
  },
  {
   "cell_type": "code",
   "execution_count": null,
   "id": "6a4b61dd",
   "metadata": {},
   "outputs": [],
   "source": [
    "from scipy.stats import zscore\n",
    "video_sub['Age_Z'] = zscore(video_sub['Age'])"
   ]
  },
  {
   "cell_type": "markdown",
   "id": "39d05336",
   "metadata": {},
   "source": [
    "Calculate the Z-score of the Income column."
   ]
  },
  {
   "cell_type": "code",
   "execution_count": null,
   "id": "aa45e3b3",
   "metadata": {},
   "outputs": [],
   "source": [
    "video_sub['Income_Z'] = zscore(video_sub['Income'])"
   ]
  },
  {
   "cell_type": "markdown",
   "id": "c56f3dbd",
   "metadata": {},
   "source": [
    "Calculate the Z-score of the Rentals column."
   ]
  },
  {
   "cell_type": "code",
   "execution_count": null,
   "id": "69438dda",
   "metadata": {},
   "outputs": [],
   "source": [
    "video_sub['Rentals_Z'] = zscore(video_sub['Rentals'])"
   ]
  },
  {
   "cell_type": "markdown",
   "id": "c46e7801",
   "metadata": {},
   "source": [
    "Calculate the Z-score of the Average Per Visit column."
   ]
  },
  {
   "cell_type": "code",
   "execution_count": null,
   "id": "10fa8854",
   "metadata": {},
   "outputs": [],
   "source": [
    "video_sub['Avg_Per_Visit_Z'] = zscore(video_sub['Avg_Per_Visit'])"
   ]
  },
  {
   "cell_type": "markdown",
   "id": "3f32aefd",
   "metadata": {},
   "source": [
    "Create dummy variables for the Genre column."
   ]
  },
  {
   "cell_type": "code",
   "execution_count": null,
   "id": "0ae3b7fe",
   "metadata": {},
   "outputs": [],
   "source": [
    "video_sub = pd.get_dummies(video_sub, columns=['Genre'], drop_first=True)"
   ]
  },
  {
   "cell_type": "markdown",
   "id": "7661aecb",
   "metadata": {},
   "source": [
    "Create a crosstab of Gender by Genre."
   ]
  },
  {
   "cell_type": "code",
   "execution_count": null,
   "id": "1bdf06f2",
   "metadata": {},
   "outputs": [],
   "source": [
    "video_cross = pd.crosstab(video_sub['Gender'], video_sub['Genre'])"
   ]
  },
  {
   "cell_type": "markdown",
   "id": "74c493df",
   "metadata": {},
   "source": [
    "Plot a bar chart to visualize the crosstab."
   ]
  },
  {
   "cell_type": "code",
   "execution_count": null,
   "id": "eefc12c0",
   "metadata": {},
   "outputs": [],
   "source": [
    "import matplotlib.pyplot as plt\n",
    "video_cross.plot(kind='bar')\n",
    "plt.title('Crosstab of Gender by Genre')\n",
    "plt.xlabel('Gender')\n",
    "plt.ylabel('Count')\n",
    "plt.show()"
   ]
  }
 ],
 "metadata": {
  "kernelspec": {
   "display_name": "Python 3",
   "language": "python",
   "name": "python3"
  },
  "language_info": {
   "codemirror_mode": {
    "name": "ipython",
    "version": 3
   },
   "file_extension": ".py",
   "mimetype": "text/x-python",
   "name": "python",
   "nbconvert_exporter": "python",
   "pygments_lexer": "ipython3",
   "version": "3.8.5"
  }
 },
 "nbformat": 4,
 "nbformat_minor": 5
}
