{
 "cells": [
  {
   "cell_type": "markdown",
   "id": "dd7b8d34",
   "metadata": {},
   "source": [
    "This reads the CSV file 'train.csv' and stores the data in the dataframe 'df1'."
   ]
  },
  {
   "cell_type": "code",
   "execution_count": null,
   "id": "43642957",
   "metadata": {},
   "outputs": [],
   "source": [
    "import pandas as pd\n",
    "df1 = pd.read_csv('train.csv')"
   ]
  },
  {
   "cell_type": "markdown",
   "id": "2abd1fa5",
   "metadata": {},
   "source": [
    "This provides a statistical summary of 'df1', helping in understanding the dataset."
   ]
  },
  {
   "cell_type": "code",
   "execution_count": null,
   "id": "8793c3bb",
   "metadata": {},
   "outputs": [],
   "source": [
    "df1.describe()"
   ]
  },
  {
   "cell_type": "markdown",
   "id": "a9c39655",
   "metadata": {},
   "source": [
    "This creates visualizations of relationships between features in 'df1' using Seaborn."
   ]
  },
  {
   "cell_type": "code",
   "execution_count": null,
   "id": "341be77f",
   "metadata": {},
   "outputs": [],
   "source": [
    "import seaborn as sns\n",
    "import matplotlib.pyplot as plt\n",
    "sns.pairplot(df1)\n",
    "plt.show()"
   ]
  }
 ],
 "metadata": {
  "kernelspec": {
   "display_name": "Python 3",
   "language": "python",
   "name": "python3"
  },
  "language_info": {
   "codemirror_mode": {
    "name": "ipython",
    "version": 3
   },
   "file_extension": ".py",
   "mimetype": "text/x-python",
   "name": "python",
   "nbconvert_exporter": "python",
   "pygments_lexer": "ipython3",
   "version": "3.8.5"
  }
 },
 "nbformat": 4,
 "nbformat_minor": 5
}
