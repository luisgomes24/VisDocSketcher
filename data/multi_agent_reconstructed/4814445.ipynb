{
 "cells": [
  {
   "cell_type": "markdown",
   "id": "65e25d4f",
   "metadata": {},
   "source": [
    "Import the pandas library, which is used for data manipulation and analysis."
   ]
  },
  {
   "cell_type": "code",
   "execution_count": null,
   "id": "92f31b21",
   "metadata": {},
   "outputs": [],
   "source": [
    "import pandas as pd"
   ]
  },
  {
   "cell_type": "markdown",
   "id": "c68706ea",
   "metadata": {},
   "source": [
    "Load the dataset from 'kc_house_data.csv' into a DataFrame named 'house_df'."
   ]
  },
  {
   "cell_type": "code",
   "execution_count": null,
   "id": "67cf5618",
   "metadata": {},
   "outputs": [],
   "source": [
    "house_df = pd.read_csv('kc_house_data.csv')"
   ]
  }
 ],
 "metadata": {
  "kernelspec": {
   "display_name": "Python 3",
   "language": "python",
   "name": "python3"
  },
  "language_info": {
   "codemirror_mode": {
    "name": "ipython",
    "version": 3
   },
   "file_extension": ".py",
   "mimetype": "text/x-python",
   "name": "python",
   "nbconvert_exporter": "python",
   "pygments_lexer": "ipython3",
   "version": "3.8.5"
  }
 },
 "nbformat": 4,
 "nbformat_minor": 5
}
