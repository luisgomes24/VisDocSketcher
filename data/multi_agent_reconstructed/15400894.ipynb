{
 "cells": [
  {
   "cell_type": "markdown",
   "id": "45722ea7",
   "metadata": {},
   "source": [
    "Load data from 'trends.csv' into a DataFrame."
   ]
  },
  {
   "cell_type": "code",
   "execution_count": null,
   "id": "1c6ea0bd",
   "metadata": {},
   "outputs": [],
   "source": [
    "import pandas as pd\n",
    "df = pd.read_csv('trends.csv')"
   ]
  },
  {
   "cell_type": "markdown",
   "id": "6b726130",
   "metadata": {},
   "source": [
    "Filter the DataFrame for US data from 2012."
   ]
  },
  {
   "cell_type": "code",
   "execution_count": null,
   "id": "60ba947b",
   "metadata": {},
   "outputs": [],
   "source": [
    "df_filtered = df[(df['country'] == 'US') & (df['year'] >= 2012)]"
   ]
  },
  {
   "cell_type": "markdown",
   "id": "2daad3a8",
   "metadata": {},
   "source": [
    "Initialize an empty list for defining update steps."
   ]
  },
  {
   "cell_type": "code",
   "execution_count": null,
   "id": "dfbd732e",
   "metadata": {},
   "outputs": [],
   "source": [
    "steps = []  # Define the update steps"
   ]
  },
  {
   "cell_type": "markdown",
   "id": "c04f216c",
   "metadata": {},
   "source": [
    "Initialize an empty list to hold slider configurations."
   ]
  },
  {
   "cell_type": "code",
   "execution_count": null,
   "id": "f9c84312",
   "metadata": {},
   "outputs": [],
   "source": [
    "sliders = []  # Configure sliders for user interaction"
   ]
  },
  {
   "cell_type": "markdown",
   "id": "3dd070fc",
   "metadata": {},
   "source": [
    "Configure the figure using filtered data and steps."
   ]
  },
  {
   "cell_type": "code",
   "execution_count": null,
   "id": "d1defeba",
   "metadata": {},
   "outputs": [],
   "source": [
    "fig = create_figure(df_filtered, steps, sliders)"
   ]
  },
  {
   "cell_type": "markdown",
   "id": "0d815b8a",
   "metadata": {},
   "source": [
    "Select top 8 categories and generate a dictionary for buttons."
   ]
  },
  {
   "cell_type": "code",
   "execution_count": null,
   "id": "a4030e7b",
   "metadata": {},
   "outputs": [],
   "source": [
    "button_dict = {category: action for category, action in zip(df_filtered['category'].value_counts().index[:8], actions)}"
   ]
  },
  {
   "cell_type": "markdown",
   "id": "0da2925e",
   "metadata": {},
   "source": [
    "Visualize the figure with 'fig.show()'."
   ]
  },
  {
   "cell_type": "code",
   "execution_count": null,
   "id": "d7c85073",
   "metadata": {},
   "outputs": [],
   "source": [
    "fig.show()"
   ]
  }
 ],
 "metadata": {
  "kernelspec": {
   "display_name": "Python 3",
   "language": "python",
   "name": "python3"
  },
  "language_info": {
   "codemirror_mode": {
    "name": "ipython",
    "version": 3
   },
   "file_extension": ".py",
   "mimetype": "text/x-python",
   "name": "python",
   "nbconvert_exporter": "python",
   "pygments_lexer": "ipython3",
   "version": "3.8.5"
  }
 },
 "nbformat": 4,
 "nbformat_minor": 5
}
