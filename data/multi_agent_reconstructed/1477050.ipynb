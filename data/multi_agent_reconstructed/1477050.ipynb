{
 "cells": [
  {
   "cell_type": "markdown",
   "id": "a0938813",
   "metadata": {},
   "source": [
    "Load the training and test datasets using pandas."
   ]
  },
  {
   "cell_type": "code",
   "execution_count": null,
   "id": "2e43fe06",
   "metadata": {},
   "outputs": [],
   "source": [
    "import pandas as pd\n",
    "train_df = pd.read_csv('Train Data/train.csv')\n",
    "test_df = pd.read_csv('Test Data/test.csv')"
   ]
  },
  {
   "cell_type": "markdown",
   "id": "bc77c134",
   "metadata": {},
   "source": [
    "Extract features (X) and target (y) from the training DataFrame."
   ]
  },
  {
   "cell_type": "code",
   "execution_count": null,
   "id": "dc20755b",
   "metadata": {},
   "outputs": [],
   "source": [
    "X = train_df.drop('target_column', axis=1)\n",
    "y = train_df['target_column']"
   ]
  },
  {
   "cell_type": "markdown",
   "id": "19d515f7",
   "metadata": {},
   "source": [
    "Split the data into training and testing sets."
   ]
  },
  {
   "cell_type": "code",
   "execution_count": null,
   "id": "7e85caad",
   "metadata": {},
   "outputs": [],
   "source": [
    "from sklearn.model_selection import train_test_split\n",
    "X_train, X_test, y_train, y_test = train_test_split(X, y, test_size=0.2, random_state=42)"
   ]
  },
  {
   "cell_type": "markdown",
   "id": "58099ff6",
   "metadata": {},
   "source": [
    "Train the XGBoost model using the training data."
   ]
  },
  {
   "cell_type": "code",
   "execution_count": null,
   "id": "a0efdaed",
   "metadata": {},
   "outputs": [],
   "source": [
    "import xgboost as xgb\n",
    "model = xgb.XGBRegressor()\n",
    "model.fit(X_train, y_train)"
   ]
  },
  {
   "cell_type": "markdown",
   "id": "623cee04",
   "metadata": {},
   "source": [
    "Make predictions on the test data using the trained model."
   ]
  },
  {
   "cell_type": "code",
   "execution_count": null,
   "id": "742e37c0",
   "metadata": {},
   "outputs": [],
   "source": [
    "y_pred = model.predict(X_test)"
   ]
  },
  {
   "cell_type": "markdown",
   "id": "b9658b77",
   "metadata": {},
   "source": [
    "Create a submission DataFrame and save the predictions to a CSV file."
   ]
  },
  {
   "cell_type": "code",
   "execution_count": null,
   "id": "193a4c08",
   "metadata": {},
   "outputs": [],
   "source": [
    "submission = pd.DataFrame({'predicted_fare_amount': y_pred})\n",
    "submission.to_csv('submission.csv', index=False)"
   ]
  }
 ],
 "metadata": {
  "kernelspec": {
   "display_name": "Python 3",
   "language": "python",
   "name": "python3"
  },
  "language_info": {
   "codemirror_mode": {
    "name": "ipython",
    "version": 3
   },
   "file_extension": ".py",
   "mimetype": "text/x-python",
   "name": "python",
   "nbconvert_exporter": "python",
   "pygments_lexer": "ipython3",
   "version": "3.8.5"
  }
 },
 "nbformat": 4,
 "nbformat_minor": 5
}
