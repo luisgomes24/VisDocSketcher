{
 "cells": [
  {
   "cell_type": "markdown",
   "id": "e8dcf323",
   "metadata": {},
   "source": [
    "Import necessary libraries for data handling and image processing."
   ]
  },
  {
   "cell_type": "code",
   "execution_count": null,
   "id": "ee2de194",
   "metadata": {},
   "outputs": [],
   "source": [
    "import pandas as pd\n",
    "from keras.preprocessing.image import load_img, img_to_array\n",
    "import numpy as np"
   ]
  },
  {
   "cell_type": "markdown",
   "id": "b3d1ca51",
   "metadata": {},
   "source": [
    "Load and resize training images to 48x48 pixels."
   ]
  },
  {
   "cell_type": "code",
   "execution_count": null,
   "id": "986f0ee8",
   "metadata": {},
   "outputs": [],
   "source": [
    "train_data = [img_to_array(load_img(f'/kaggle/input/cifar-10/train/{file}', target_size=(48, 48))) for file in train_files]"
   ]
  },
  {
   "cell_type": "markdown",
   "id": "2fc3effd",
   "metadata": {},
   "source": [
    "Load and resize testing images to 48x48 pixels."
   ]
  },
  {
   "cell_type": "code",
   "execution_count": null,
   "id": "dbd4f47e",
   "metadata": {},
   "outputs": [],
   "source": [
    "test_data = [img_to_array(load_img(f'/kaggle/input/cifar-10/test/{file}', target_size=(48, 48))) for file in test_files]"
   ]
  },
  {
   "cell_type": "markdown",
   "id": "3a697514",
   "metadata": {},
   "source": [
    "Read the CSV file containing training labels."
   ]
  },
  {
   "cell_type": "code",
   "execution_count": null,
   "id": "029b62c9",
   "metadata": {},
   "outputs": [],
   "source": [
    "labels = pd.read_csv('/kaggle/input/cifar-10/trainLabels.csv')"
   ]
  },
  {
   "cell_type": "markdown",
   "id": "06f3bf46",
   "metadata": {},
   "source": [
    "Convert labels to one-hot encoding format."
   ]
  },
  {
   "cell_type": "code",
   "execution_count": null,
   "id": "9431d146",
   "metadata": {},
   "outputs": [],
   "source": [
    "from keras.utils import to_categorical\n",
    "encoded_labels = to_categorical(labels['label'].values)"
   ]
  },
  {
   "cell_type": "markdown",
   "id": "dd535b21",
   "metadata": {},
   "source": [
    "Shuffle and split data into training and testing sets."
   ]
  },
  {
   "cell_type": "code",
   "execution_count": null,
   "id": "12aab997",
   "metadata": {},
   "outputs": [],
   "source": [
    "from sklearn.model_selection import train_test_split\n",
    "x_train, x_test, y_train, y_test = train_test_split(train_data, encoded_labels, test_size=0.2)"
   ]
  },
  {
   "cell_type": "markdown",
   "id": "683df07f",
   "metadata": {},
   "source": [
    "Initialize a Sequential model for the CNN."
   ]
  },
  {
   "cell_type": "code",
   "execution_count": null,
   "id": "ae1bab6a",
   "metadata": {},
   "outputs": [],
   "source": [
    "from keras.models import Sequential\n",
    "from keras.layers import Conv2D, Dense, Flatten\n",
    "model = Sequential()"
   ]
  },
  {
   "cell_type": "markdown",
   "id": "961b6304",
   "metadata": {},
   "source": [
    "Add convolutional and dense layers to the model."
   ]
  },
  {
   "cell_type": "code",
   "execution_count": null,
   "id": "22210e4a",
   "metadata": {},
   "outputs": [],
   "source": [
    "model.add(Conv2D(32, (3, 3), activation='relu', input_shape=(48, 48, 3)))\n",
    "model.add(Conv2D(64, (3, 3), activation='relu'))\n",
    "model.add(Flatten())\n",
    "model.add(Dense(128, activation='relu'))\n",
    "model.add(Dense(len(np.unique(labels['label'])), activation='softmax'))"
   ]
  },
  {
   "cell_type": "markdown",
   "id": "b778ea2c",
   "metadata": {},
   "source": [
    "Compile the model with the Adam optimizer and categorical crossentropy loss."
   ]
  },
  {
   "cell_type": "code",
   "execution_count": null,
   "id": "f2d05623",
   "metadata": {},
   "outputs": [],
   "source": [
    "model.compile(optimizer='adam', loss='categorical_crossentropy', metrics=['accuracy'])"
   ]
  },
  {
   "cell_type": "markdown",
   "id": "f003defd",
   "metadata": {},
   "source": [
    "Train the model using the training data and validate on the test set."
   ]
  },
  {
   "cell_type": "code",
   "execution_count": null,
   "id": "9783bad1",
   "metadata": {},
   "outputs": [],
   "source": [
    "model.fit(x_train, y_train, epochs=10, validation_data=(x_test, y_test))"
   ]
  }
 ],
 "metadata": {
  "kernelspec": {
   "display_name": "Python 3",
   "language": "python",
   "name": "python3"
  },
  "language_info": {
   "codemirror_mode": {
    "name": "ipython",
    "version": 3
   },
   "file_extension": ".py",
   "mimetype": "text/x-python",
   "name": "python",
   "nbconvert_exporter": "python",
   "pygments_lexer": "ipython3",
   "version": "3.8.5"
  }
 },
 "nbformat": 4,
 "nbformat_minor": 5
}
