{
 "cells": [
  {
   "cell_type": "markdown",
   "id": "0fa787ab",
   "metadata": {},
   "source": [
    "Load the Kidney Disease dataset from a CSV file using pandas."
   ]
  },
  {
   "cell_type": "code",
   "execution_count": null,
   "id": "c2c140a8",
   "metadata": {},
   "outputs": [],
   "source": [
    "import pandas as pd\n",
    "\n",
    "data = pd.read_csv('kidney_disease.csv')"
   ]
  },
  {
   "cell_type": "markdown",
   "id": "76889e7a",
   "metadata": {},
   "source": [
    "Split the data into features (X) and target (y) by dropping the target column."
   ]
  },
  {
   "cell_type": "code",
   "execution_count": null,
   "id": "5ea0f394",
   "metadata": {},
   "outputs": [],
   "source": [
    "X = data.drop('target_column', axis=1)\n",
    "y = data['target_column']"
   ]
  }
 ],
 "metadata": {
  "kernelspec": {
   "display_name": "Python 3",
   "language": "python",
   "name": "python3"
  },
  "language_info": {
   "codemirror_mode": {
    "name": "ipython",
    "version": 3
   },
   "file_extension": ".py",
   "mimetype": "text/x-python",
   "name": "python",
   "nbconvert_exporter": "python",
   "pygments_lexer": "ipython3",
   "version": "3.8.5"
  }
 },
 "nbformat": 4,
 "nbformat_minor": 5
}
