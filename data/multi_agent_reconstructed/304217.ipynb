{
 "cells": [
  {
   "cell_type": "markdown",
   "id": "a2c7c6d1",
   "metadata": {},
   "source": [
    "Read the training data from 'train.csv' into a DataFrame called df_train."
   ]
  },
  {
   "cell_type": "code",
   "execution_count": null,
   "id": "40218d2f",
   "metadata": {},
   "outputs": [],
   "source": [
    "import pandas as pd\n",
    "df_train = pd.read_csv('train.csv')"
   ]
  },
  {
   "cell_type": "markdown",
   "id": "07554f09",
   "metadata": {},
   "source": [
    "Read the testing data from 'test.csv' into a DataFrame called df_test."
   ]
  },
  {
   "cell_type": "code",
   "execution_count": null,
   "id": "c501579d",
   "metadata": {},
   "outputs": [],
   "source": [
    "df_test = pd.read_csv('test.csv')"
   ]
  }
 ],
 "metadata": {
  "kernelspec": {
   "display_name": "Python 3",
   "language": "python",
   "name": "python3"
  },
  "language_info": {
   "codemirror_mode": {
    "name": "ipython",
    "version": 3
   },
   "file_extension": ".py",
   "mimetype": "text/x-python",
   "name": "python",
   "nbconvert_exporter": "python",
   "pygments_lexer": "ipython3",
   "version": "3.8.5"
  }
 },
 "nbformat": 4,
 "nbformat_minor": 5
}
