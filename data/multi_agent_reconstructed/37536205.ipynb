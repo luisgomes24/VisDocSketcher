{
 "cells": [
  {
   "cell_type": "markdown",
   "id": "2985a5da",
   "metadata": {},
   "source": [
    "Load training data from a CSV file into a DataFrame."
   ]
  },
  {
   "cell_type": "code",
   "execution_count": null,
   "id": "514f5e58",
   "metadata": {},
   "outputs": [],
   "source": [
    "import pandas as pd\n",
    "data = pd.read_csv('../input/titanic/train.csv')"
   ]
  },
  {
   "cell_type": "markdown",
   "id": "31e94eef",
   "metadata": {},
   "source": [
    "Preprocess the data to create training and testing DataFrames."
   ]
  },
  {
   "cell_type": "code",
   "execution_count": null,
   "id": "4b89b197",
   "metadata": {},
   "outputs": [],
   "source": [
    "train_df, test_df = preprocess_data(data)"
   ]
  },
  {
   "cell_type": "markdown",
   "id": "78967f05",
   "metadata": {},
   "source": [
    "Split the training data into training and validation sets."
   ]
  },
  {
   "cell_type": "code",
   "execution_count": null,
   "id": "bf751c89",
   "metadata": {},
   "outputs": [],
   "source": [
    "from sklearn.model_selection import train_test_split\n",
    "X_train, X_val, y_train, y_val = train_test_split(train_df.drop('target', axis=1), train_df['target'], test_size=0.2, random_state=42)"
   ]
  },
  {
   "cell_type": "markdown",
   "id": "96638daa",
   "metadata": {},
   "source": [
    "Train a Support Vector Classifier model using the training data."
   ]
  },
  {
   "cell_type": "code",
   "execution_count": null,
   "id": "c89b73f3",
   "metadata": {},
   "outputs": [],
   "source": [
    "from sklearn.svm import SVC\n",
    "svm_clf = SVC()\n",
    "svm_clf.fit(X_train, y_train)"
   ]
  },
  {
   "cell_type": "markdown",
   "id": "4da0158f",
   "metadata": {},
   "source": [
    "Validate the model using the validation data."
   ]
  },
  {
   "cell_type": "code",
   "execution_count": null,
   "id": "1a389183",
   "metadata": {},
   "outputs": [],
   "source": [
    "y_val_pred = svm_clf.predict(X_val)"
   ]
  },
  {
   "cell_type": "markdown",
   "id": "1975f6a0",
   "metadata": {},
   "source": [
    "Make predictions on the test dataset."
   ]
  },
  {
   "cell_type": "code",
   "execution_count": null,
   "id": "aba17efe",
   "metadata": {},
   "outputs": [],
   "source": [
    "submission = svm_clf.predict(test_df)"
   ]
  },
  {
   "cell_type": "markdown",
   "id": "58fe68e0",
   "metadata": {},
   "source": [
    "Save the predictions to a CSV file for submission."
   ]
  },
  {
   "cell_type": "code",
   "execution_count": null,
   "id": "1077edf4",
   "metadata": {},
   "outputs": [],
   "source": [
    "submission_df = pd.DataFrame({'Id': test_df['Id'], 'Prediction': submission})\n",
    "submission_df.to_csv('submission.csv', index=False)"
   ]
  }
 ],
 "metadata": {
  "kernelspec": {
   "display_name": "Python 3",
   "language": "python",
   "name": "python3"
  },
  "language_info": {
   "codemirror_mode": {
    "name": "ipython",
    "version": 3
   },
   "file_extension": ".py",
   "mimetype": "text/x-python",
   "name": "python",
   "nbconvert_exporter": "python",
   "pygments_lexer": "ipython3",
   "version": "3.8.5"
  }
 },
 "nbformat": 4,
 "nbformat_minor": 5
}
