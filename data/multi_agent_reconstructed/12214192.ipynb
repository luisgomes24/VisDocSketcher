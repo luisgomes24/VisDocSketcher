{
 "cells": [
  {
   "cell_type": "markdown",
   "id": "3d638914",
   "metadata": {},
   "source": [
    "Load the dataset from a CSV file."
   ]
  },
  {
   "cell_type": "code",
   "execution_count": null,
   "id": "01e0784f",
   "metadata": {},
   "outputs": [],
   "source": [
    "import pandas as pd\n",
    "\n",
    "data = pd.read_csv('data_source.csv')"
   ]
  },
  {
   "cell_type": "markdown",
   "id": "ba319026",
   "metadata": {},
   "source": [
    "Select the top 10 features using ANOVA F-value."
   ]
  },
  {
   "cell_type": "code",
   "execution_count": null,
   "id": "c5fb5828",
   "metadata": {},
   "outputs": [],
   "source": [
    "from sklearn.feature_selection import SelectKBest, f_classif\n",
    "\n",
    "X_new = SelectKBest(f_classif, k=10).fit_transform(X, y)"
   ]
  },
  {
   "cell_type": "markdown",
   "id": "3f6796bc",
   "metadata": {},
   "source": [
    "Split the data into training and test sets."
   ]
  },
  {
   "cell_type": "code",
   "execution_count": null,
   "id": "1534ca83",
   "metadata": {},
   "outputs": [],
   "source": [
    "from sklearn.model_selection import train_test_split\n",
    "\n",
    "X_train, X_test, y_train, y_test = train_test_split(X_new, y, test_size=0.2, random_state=42)"
   ]
  },
  {
   "cell_type": "markdown",
   "id": "0ff6cc31",
   "metadata": {},
   "source": [
    "Train a Random Forest model on the training data."
   ]
  },
  {
   "cell_type": "code",
   "execution_count": null,
   "id": "b470ac80",
   "metadata": {},
   "outputs": [],
   "source": [
    "from sklearn.ensemble import RandomForestClassifier\n",
    "\n",
    "model = RandomForestClassifier()\n",
    "model.fit(X_train, y_train)"
   ]
  },
  {
   "cell_type": "markdown",
   "id": "9cbbc85a",
   "metadata": {},
   "source": [
    "Generate a scatter plot of the test features vs. the target."
   ]
  },
  {
   "cell_type": "code",
   "execution_count": null,
   "id": "f5b07323",
   "metadata": {},
   "outputs": [],
   "source": [
    "import matplotlib.pyplot as plt\n",
    "\n",
    "plt.scatter(X_test[:, 0], y_test)\n",
    "plt.title('Plot1')\n",
    "plt.xlabel('Feature 1')\n",
    "plt.ylabel('Target')\n",
    "plt.show()"
   ]
  },
  {
   "cell_type": "markdown",
   "id": "df967cdf",
   "metadata": {},
   "source": [
    "Create a bar plot to visualize categorical data."
   ]
  },
  {
   "cell_type": "code",
   "execution_count": null,
   "id": "88afa9f7",
   "metadata": {},
   "outputs": [],
   "source": [
    "import seaborn as sns\n",
    "\n",
    "sns.barplot(x=['A', 'B', 'C'], y=[value_A, value_B, value_C])\n",
    "plt.title('Plot2')\n",
    "plt.ylabel('Total')\n",
    "plt.show()"
   ]
  }
 ],
 "metadata": {
  "kernelspec": {
   "display_name": "Python 3",
   "language": "python",
   "name": "python3"
  },
  "language_info": {
   "codemirror_mode": {
    "name": "ipython",
    "version": 3
   },
   "file_extension": ".py",
   "mimetype": "text/x-python",
   "name": "python",
   "nbconvert_exporter": "python",
   "pygments_lexer": "ipython3",
   "version": "3.8.5"
  }
 },
 "nbformat": 4,
 "nbformat_minor": 5
}
