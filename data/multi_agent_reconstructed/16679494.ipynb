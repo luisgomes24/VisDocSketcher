{
 "cells": [
  {
   "cell_type": "markdown",
   "id": "8c39101e",
   "metadata": {},
   "source": [
    "Load data from a CSV file into a Pandas DataFrame."
   ]
  },
  {
   "cell_type": "code",
   "execution_count": null,
   "id": "cb87b653",
   "metadata": {},
   "outputs": [],
   "source": [
    "import pandas as pd\n",
    "\n",
    "df = pd.read_csv('data.csv')"
   ]
  },
  {
   "cell_type": "markdown",
   "id": "d7380fc8",
   "metadata": {},
   "source": [
    "Extract data values from the DataFrame to use as the source."
   ]
  },
  {
   "cell_type": "code",
   "execution_count": null,
   "id": "4f20f2bd",
   "metadata": {},
   "outputs": [],
   "source": [
    "data_source = df.values"
   ]
  },
  {
   "cell_type": "markdown",
   "id": "bef24f4e",
   "metadata": {},
   "source": [
    "Perform data processing, filtering out non-positive values."
   ]
  },
  {
   "cell_type": "code",
   "execution_count": null,
   "id": "84fa599a",
   "metadata": {},
   "outputs": [],
   "source": [
    "processed_data = data_source[data_source > 0]"
   ]
  },
  {
   "cell_type": "markdown",
   "id": "a68c5daf",
   "metadata": {},
   "source": [
    "Initialize the machine learning model (Linear Regression)."
   ]
  },
  {
   "cell_type": "code",
   "execution_count": null,
   "id": "90d1254a",
   "metadata": {},
   "outputs": [],
   "source": [
    "from sklearn.linear_model import LinearRegression\n",
    "model = LinearRegression()"
   ]
  },
  {
   "cell_type": "markdown",
   "id": "25451a13",
   "metadata": {},
   "source": [
    "Separate features and target variable from the processed data."
   ]
  },
  {
   "cell_type": "code",
   "execution_count": null,
   "id": "8c2816b7",
   "metadata": {},
   "outputs": [],
   "source": [
    "X = processed_data[:, :-1]\n",
    "y = processed_data[:, -1]"
   ]
  },
  {
   "cell_type": "markdown",
   "id": "04b658d7",
   "metadata": {},
   "source": [
    "Select the top 5 features using ANOVA F-test for feature selection."
   ]
  },
  {
   "cell_type": "code",
   "execution_count": null,
   "id": "60464199",
   "metadata": {},
   "outputs": [],
   "source": [
    "from sklearn.feature_selection import SelectKBest, f_classif\n",
    "selector = SelectKBest(f_classif, k=5)\n",
    "X_selected = selector.fit_transform(X, y)"
   ]
  },
  {
   "cell_type": "markdown",
   "id": "0a344db3",
   "metadata": {},
   "source": [
    "Split the dataset into training and testing sets."
   ]
  },
  {
   "cell_type": "code",
   "execution_count": null,
   "id": "12c20e54",
   "metadata": {},
   "outputs": [],
   "source": [
    "from sklearn.model_selection import train_test_split\n",
    "X_train, X_test, y_train, y_test = train_test_split(X_selected, y, test_size=0.2, random_state=42)"
   ]
  },
  {
   "cell_type": "markdown",
   "id": "c88a1fd8",
   "metadata": {},
   "source": [
    "Output images of the test features to visualize the data."
   ]
  },
  {
   "cell_type": "code",
   "execution_count": null,
   "id": "faa384d8",
   "metadata": {},
   "outputs": [],
   "source": [
    "import matplotlib.pyplot as plt\n",
    "plt.imshow(X_test)"
   ]
  }
 ],
 "metadata": {
  "kernelspec": {
   "display_name": "Python 3",
   "language": "python",
   "name": "python3"
  },
  "language_info": {
   "codemirror_mode": {
    "name": "ipython",
    "version": 3
   },
   "file_extension": ".py",
   "mimetype": "text/x-python",
   "name": "python",
   "nbconvert_exporter": "python",
   "pygments_lexer": "ipython3",
   "version": "3.8.5"
  }
 },
 "nbformat": 4,
 "nbformat_minor": 5
}
