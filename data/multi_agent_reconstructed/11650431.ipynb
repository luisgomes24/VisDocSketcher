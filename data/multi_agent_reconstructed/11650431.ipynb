{
 "cells": [
  {
   "cell_type": "markdown",
   "id": "2800734e",
   "metadata": {},
   "source": [
    "Load the dataset into a DataFrame from a CSV file."
   ]
  },
  {
   "cell_type": "code",
   "execution_count": null,
   "id": "cb391772",
   "metadata": {},
   "outputs": [],
   "source": [
    "import pandas as pd\n",
    "df = pd.read_csv('data.csv')"
   ]
  },
  {
   "cell_type": "markdown",
   "id": "f9b1a890",
   "metadata": {},
   "source": [
    "Calculate the unique value counts for each column in the DataFrame."
   ]
  },
  {
   "cell_type": "code",
   "execution_count": null,
   "id": "3c455ac9",
   "metadata": {},
   "outputs": [],
   "source": [
    "unique_counts = df.nunique()"
   ]
  },
  {
   "cell_type": "markdown",
   "id": "1cb8ad7f",
   "metadata": {},
   "source": [
    "Extract the list of column names from the DataFrame."
   ]
  },
  {
   "cell_type": "code",
   "execution_count": null,
   "id": "d00fb283",
   "metadata": {},
   "outputs": [],
   "source": [
    "column_names = df.columns.tolist()"
   ]
  },
  {
   "cell_type": "markdown",
   "id": "4f4d5a5e",
   "metadata": {},
   "source": [
    "Filter columns to include only those with more than one unique value."
   ]
  },
  {
   "cell_type": "code",
   "execution_count": null,
   "id": "8105c448",
   "metadata": {},
   "outputs": [],
   "source": [
    "filtered_columns = [col for col in column_names if unique_counts[col] > 1]"
   ]
  },
  {
   "cell_type": "markdown",
   "id": "80378468",
   "metadata": {},
   "source": [
    "Define the plot size for visualization."
   ]
  },
  {
   "cell_type": "code",
   "execution_count": null,
   "id": "6d140a62",
   "metadata": {},
   "outputs": [],
   "source": [
    "import matplotlib.pyplot as plt\n",
    "import seaborn as sns\n",
    "plt.figure(figsize=(10, 8))"
   ]
  },
  {
   "cell_type": "markdown",
   "id": "5ab67553",
   "metadata": {},
   "source": [
    "Set the text size for better visibility in plots."
   ]
  },
  {
   "cell_type": "code",
   "execution_count": null,
   "id": "ad847669",
   "metadata": {},
   "outputs": [],
   "source": [
    "sns.set_context('notebook', font_scale=1.5)"
   ]
  },
  {
   "cell_type": "markdown",
   "id": "4c4d699f",
   "metadata": {},
   "source": [
    "Create a scatter matrix plot using the filtered columns."
   ]
  },
  {
   "cell_type": "code",
   "execution_count": null,
   "id": "a9b34d1c",
   "metadata": {},
   "outputs": [],
   "source": [
    "sns.pairplot(df[filtered_columns])"
   ]
  },
  {
   "cell_type": "markdown",
   "id": "e11a8f6b",
   "metadata": {},
   "source": [
    "Calculate the correlation matrix of the DataFrame."
   ]
  },
  {
   "cell_type": "code",
   "execution_count": null,
   "id": "f0c0dce4",
   "metadata": {},
   "outputs": [],
   "source": [
    "correlation_matrix = df.corr()"
   ]
  },
  {
   "cell_type": "markdown",
   "id": "73f1735f",
   "metadata": {},
   "source": [
    "Plot the correlation matrix as a heatmap for visual analysis."
   ]
  },
  {
   "cell_type": "code",
   "execution_count": null,
   "id": "01fe5c2c",
   "metadata": {},
   "outputs": [],
   "source": [
    "sns.heatmap(correlation_matrix, annot=True, cmap='coolwarm')"
   ]
  }
 ],
 "metadata": {
  "kernelspec": {
   "display_name": "Python 3",
   "language": "python",
   "name": "python3"
  },
  "language_info": {
   "codemirror_mode": {
    "name": "ipython",
    "version": 3
   },
   "file_extension": ".py",
   "mimetype": "text/x-python",
   "name": "python",
   "nbconvert_exporter": "python",
   "pygments_lexer": "ipython3",
   "version": "3.8.5"
  }
 },
 "nbformat": 4,
 "nbformat_minor": 5
}
