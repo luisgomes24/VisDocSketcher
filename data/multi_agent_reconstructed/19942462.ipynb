{
 "cells": [
  {
   "cell_type": "markdown",
   "id": "29066688",
   "metadata": {},
   "source": [
    "Load the training data from 'train.csv' using pandas."
   ]
  },
  {
   "cell_type": "code",
   "execution_count": null,
   "id": "5a36458f",
   "metadata": {},
   "outputs": [],
   "source": [
    "import pandas as pd\n",
    "train_data = pd.read_csv('train.csv')\n"
   ]
  },
  {
   "cell_type": "markdown",
   "id": "a00cb7b3",
   "metadata": {},
   "source": [
    "Extract the target variable 'SalePrice' from the training data."
   ]
  },
  {
   "cell_type": "code",
   "execution_count": null,
   "id": "4dfb135d",
   "metadata": {},
   "outputs": [],
   "source": [
    "train_data['SalePrice']\n"
   ]
  },
  {
   "cell_type": "markdown",
   "id": "7de53df0",
   "metadata": {},
   "source": [
    "Split the data into training and validation sets."
   ]
  },
  {
   "cell_type": "code",
   "execution_count": null,
   "id": "81e1b828",
   "metadata": {},
   "outputs": [],
   "source": [
    "from sklearn.model_selection import train_test_split\n",
    "X = train_data.drop('SalePrice', axis=1)\n",
    "y = train_data['SalePrice']\n",
    "X_train, X_valid, y_train, y_valid = train_test_split(X, y, test_size=0.2, random_state=42)\n"
   ]
  },
  {
   "cell_type": "markdown",
   "id": "57b4b59d",
   "metadata": {},
   "source": [
    "Apply one-hot encoding to the training features."
   ]
  },
  {
   "cell_type": "code",
   "execution_count": null,
   "id": "5b89e906",
   "metadata": {},
   "outputs": [],
   "source": [
    "from sklearn.preprocessing import OneHotEncoder\n",
    "encoder = OneHotEncoder(handle_unknown='ignore')\n",
    "X_train_processed = encoder.fit_transform(X_train).toarray()\n"
   ]
  },
  {
   "cell_type": "markdown",
   "id": "177f2368",
   "metadata": {},
   "source": [
    "Apply the same one-hot encoding to the validation features."
   ]
  },
  {
   "cell_type": "code",
   "execution_count": null,
   "id": "f418ba84",
   "metadata": {},
   "outputs": [],
   "source": [
    "X_valid_processed = encoder.transform(X_valid).toarray()\n"
   ]
  },
  {
   "cell_type": "markdown",
   "id": "9015757a",
   "metadata": {},
   "source": [
    "Fit the first XGBoost regressor model."
   ]
  },
  {
   "cell_type": "code",
   "execution_count": null,
   "id": "272b567d",
   "metadata": {},
   "outputs": [],
   "source": [
    "from xgboost import XGBRegressor\n",
    "model_1 = XGBRegressor()\n",
    "model_1.fit(X_train_processed, y_train)\n"
   ]
  },
  {
   "cell_type": "markdown",
   "id": "2f579f25",
   "metadata": {},
   "source": [
    "Fit the second tuned XGBoost regressor model."
   ]
  },
  {
   "cell_type": "code",
   "execution_count": null,
   "id": "6cbc1114",
   "metadata": {},
   "outputs": [],
   "source": [
    "model_2 = XGBRegressor(alpha=0.1, learning_rate=0.05)\n",
    "model_2.fit(X_train_processed, y_train)\n"
   ]
  },
  {
   "cell_type": "markdown",
   "id": "f8d40261",
   "metadata": {},
   "source": [
    "Fit the third XGBoost regressor model with poor parameters."
   ]
  },
  {
   "cell_type": "code",
   "execution_count": null,
   "id": "076d6fca",
   "metadata": {},
   "outputs": [],
   "source": [
    "model_3 = XGBRegressor(n_estimators=50)\n",
    "model_3.fit(X_train_processed, y_train)\n"
   ]
  },
  {
   "cell_type": "markdown",
   "id": "f8bdf94f",
   "metadata": {},
   "source": [
    "Make predictions using the first model."
   ]
  },
  {
   "cell_type": "code",
   "execution_count": null,
   "id": "1246d77a",
   "metadata": {},
   "outputs": [],
   "source": [
    "predictions_1 = model_1.predict(X_valid_processed)\n"
   ]
  },
  {
   "cell_type": "markdown",
   "id": "45013a3f",
   "metadata": {},
   "source": [
    "Make predictions using the second model."
   ]
  },
  {
   "cell_type": "code",
   "execution_count": null,
   "id": "f9f00766",
   "metadata": {},
   "outputs": [],
   "source": [
    "predictions_2 = model_2.predict(X_valid_processed)\n"
   ]
  },
  {
   "cell_type": "markdown",
   "id": "138ad326",
   "metadata": {},
   "source": [
    "Make predictions using the third model."
   ]
  },
  {
   "cell_type": "code",
   "execution_count": null,
   "id": "b31058d5",
   "metadata": {},
   "outputs": [],
   "source": [
    "predictions_3 = model_3.predict(X_valid_processed)\n"
   ]
  },
  {
   "cell_type": "markdown",
   "id": "ae9ca30f",
   "metadata": {},
   "source": [
    "Calculate the Mean Absolute Error for the first model."
   ]
  },
  {
   "cell_type": "code",
   "execution_count": null,
   "id": "e1efad0a",
   "metadata": {},
   "outputs": [],
   "source": [
    "mae_1 = mean_absolute_error(y_valid, predictions_1)\n"
   ]
  },
  {
   "cell_type": "markdown",
   "id": "3bc0efd5",
   "metadata": {},
   "source": [
    "Calculate the Mean Absolute Error for the second model."
   ]
  },
  {
   "cell_type": "code",
   "execution_count": null,
   "id": "d55a71c3",
   "metadata": {},
   "outputs": [],
   "source": [
    "mae_2 = mean_absolute_error(y_valid, predictions_2)\n"
   ]
  },
  {
   "cell_type": "markdown",
   "id": "355f8cec",
   "metadata": {},
   "source": [
    "Calculate the Mean Absolute Error for the third model."
   ]
  },
  {
   "cell_type": "code",
   "execution_count": null,
   "id": "9c13e04d",
   "metadata": {},
   "outputs": [],
   "source": [
    "mae_3 = mean_absolute_error(y_valid, predictions_3)\n"
   ]
  }
 ],
 "metadata": {
  "kernelspec": {
   "display_name": "Python 3",
   "language": "python",
   "name": "python3"
  },
  "language_info": {
   "codemirror_mode": {
    "name": "ipython",
    "version": 3
   },
   "file_extension": ".py",
   "mimetype": "text/x-python",
   "name": "python",
   "nbconvert_exporter": "python",
   "pygments_lexer": "ipython3",
   "version": "3.8.5"
  }
 },
 "nbformat": 4,
 "nbformat_minor": 5
}
