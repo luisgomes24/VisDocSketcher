{
 "cells": [
  {
   "cell_type": "markdown",
   "id": "a32a4d00",
   "metadata": {},
   "source": [
    "Read the CSV file into a pandas DataFrame."
   ]
  },
  {
   "cell_type": "code",
   "execution_count": null,
   "id": "3a919523",
   "metadata": {},
   "outputs": [],
   "source": [
    "import pandas as pd\n",
    "\n",
    "data = pd.read_csv('data.csv')"
   ]
  },
  {
   "cell_type": "markdown",
   "id": "00f41a5f",
   "metadata": {},
   "source": [
    "Select specific columns from the DataFrame."
   ]
  },
  {
   "cell_type": "code",
   "execution_count": null,
   "id": "eeba4192",
   "metadata": {},
   "outputs": [],
   "source": [
    "selected_columns = data[['Column1', 'Column2']]"
   ]
  },
  {
   "cell_type": "markdown",
   "id": "a58d89a0",
   "metadata": {},
   "source": [
    "Generate and display a histogram plot for the selected column."
   ]
  },
  {
   "cell_type": "code",
   "execution_count": null,
   "id": "f00cc2ce",
   "metadata": {},
   "outputs": [],
   "source": [
    "import matplotlib.pyplot as plt\n",
    "plt.hist(selected_columns['Column1'])\n",
    "plt.title('Histogram Plot')\n",
    "plt.xlabel('Value Range')\n",
    "plt.ylabel('Frequency')\n",
    "plt.show()"
   ]
  },
  {
   "cell_type": "markdown",
   "id": "6c95efa9",
   "metadata": {},
   "source": [
    "Generate and display a bar plot for the selected column."
   ]
  },
  {
   "cell_type": "code",
   "execution_count": null,
   "id": "c4d336d4",
   "metadata": {},
   "outputs": [],
   "source": [
    "selected_columns['Column2'].value_counts().plot(kind='bar')\n",
    "plt.title('Bar Plot')\n",
    "plt.xlabel('Category')\n",
    "plt.ylabel('Value')\n",
    "plt.show()"
   ]
  }
 ],
 "metadata": {
  "kernelspec": {
   "display_name": "Python 3",
   "language": "python",
   "name": "python3"
  },
  "language_info": {
   "codemirror_mode": {
    "name": "ipython",
    "version": 3
   },
   "file_extension": ".py",
   "mimetype": "text/x-python",
   "name": "python",
   "nbconvert_exporter": "python",
   "pygments_lexer": "ipython3",
   "version": "3.8.5"
  }
 },
 "nbformat": 4,
 "nbformat_minor": 5
}
