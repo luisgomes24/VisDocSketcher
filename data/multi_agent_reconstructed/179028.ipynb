{
 "cells": [
  {
   "cell_type": "markdown",
   "id": "4f766964",
   "metadata": {},
   "source": [
    "This step imports the pandas library, which is essential for data manipulation and analysis."
   ]
  },
  {
   "cell_type": "code",
   "execution_count": null,
   "id": "7d0263a6",
   "metadata": {},
   "outputs": [],
   "source": [
    "# Importing pandas library\n",
    "import pandas as pd"
   ]
  },
  {
   "cell_type": "markdown",
   "id": "96eecd45",
   "metadata": {},
   "source": [
    "This step reads the specified CSV file into a DataFrame called 'df'."
   ]
  },
  {
   "cell_type": "code",
   "execution_count": null,
   "id": "e5f228e3",
   "metadata": {},
   "outputs": [],
   "source": [
    "# Reading the CSV file\n",
    "df = pd.read_csv('data/mental-health-in-tech-2016_20161114.csv')"
   ]
  }
 ],
 "metadata": {
  "kernelspec": {
   "display_name": "Python 3",
   "language": "python",
   "name": "python3"
  },
  "language_info": {
   "codemirror_mode": {
    "name": "ipython",
    "version": 3
   },
   "file_extension": ".py",
   "mimetype": "text/x-python",
   "name": "python",
   "nbconvert_exporter": "python",
   "pygments_lexer": "ipython3",
   "version": "3.8.5"
  }
 },
 "nbformat": 4,
 "nbformat_minor": 5
}
