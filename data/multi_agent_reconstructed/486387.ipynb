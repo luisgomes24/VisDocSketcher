{
 "cells": [
  {
   "cell_type": "markdown",
   "id": "b2b8bbc3",
   "metadata": {},
   "source": [
    "Set the vector length for the pixel data of images."
   ]
  },
  {
   "cell_type": "code",
   "execution_count": null,
   "id": "7ef62e2d",
   "metadata": {},
   "outputs": [],
   "source": [
    "vector_length = 400"
   ]
  },
  {
   "cell_type": "markdown",
   "id": "c408651d",
   "metadata": {},
   "source": [
    "Initialize the number of trees for the model."
   ]
  },
  {
   "cell_type": "code",
   "execution_count": null,
   "id": "10a22ebb",
   "metadata": {},
   "outputs": [],
   "source": [
    "Ntrees_initial = 1"
   ]
  },
  {
   "cell_type": "markdown",
   "id": "03492ee3",
   "metadata": {},
   "source": [
    "Set the total number of trees for training."
   ]
  },
  {
   "cell_type": "code",
   "execution_count": null,
   "id": "72372c0c",
   "metadata": {},
   "outputs": [],
   "source": [
    "Ntrees = 10"
   ]
  },
  {
   "cell_type": "markdown",
   "id": "deb84194",
   "metadata": {},
   "source": [
    "Specify the data source for training the model."
   ]
  },
  {
   "cell_type": "code",
   "execution_count": null,
   "id": "0b813d0c",
   "metadata": {},
   "outputs": [],
   "source": [
    "snakeeyes_data = 'snakeeyes_{0.02d}.dat'"
   ]
  },
  {
   "cell_type": "markdown",
   "id": "046d4171",
   "metadata": {},
   "source": [
    "Initialize the array index for small data analysis."
   ]
  },
  {
   "cell_type": "code",
   "execution_count": null,
   "id": "b60dd918",
   "metadata": {},
   "outputs": [],
   "source": [
    "ArrayIndex = 1"
   ]
  },
  {
   "cell_type": "markdown",
   "id": "ca4e9a8d",
   "metadata": {},
   "source": [
    "Prepare configuration for the model using larger data."
   ]
  },
  {
   "cell_type": "code",
   "execution_count": null,
   "id": "c4b66448",
   "metadata": {},
   "outputs": [],
   "source": [
    "tbig = {'ArrayIndex': ArrayIndex, 'Trees': 10}"
   ]
  },
  {
   "cell_type": "markdown",
   "id": "dfdf65c4",
   "metadata": {},
   "source": [
    "Prepare configuration for the model using smaller data."
   ]
  },
  {
   "cell_type": "code",
   "execution_count": null,
   "id": "52fc3c7f",
   "metadata": {},
   "outputs": [],
   "source": [
    "tbad = {'ArrayIndex': ArrayIndex, 'Trees': 'var small'}"
   ]
  },
  {
   "cell_type": "markdown",
   "id": "96663101",
   "metadata": {},
   "source": [
    "Define the model type for larger data analysis."
   ]
  },
  {
   "cell_type": "code",
   "execution_count": null,
   "id": "f20b7127",
   "metadata": {},
   "outputs": [],
   "source": [
    "model_big = 'Approximate Nearest Neighbor'"
   ]
  },
  {
   "cell_type": "markdown",
   "id": "374e3ec7",
   "metadata": {},
   "source": [
    "Analyze neighbors in the trained model with larger data."
   ]
  },
  {
   "cell_type": "code",
   "execution_count": null,
   "id": "d7eb63f0",
   "metadata": {},
   "outputs": [],
   "source": [
    "neighbor_analysis_big = analyze_neighbors(model_big)"
   ]
  },
  {
   "cell_type": "markdown",
   "id": "f0055fc1",
   "metadata": {},
   "source": [
    "Define the model type for smaller data analysis."
   ]
  },
  {
   "cell_type": "code",
   "execution_count": null,
   "id": "dd59f269",
   "metadata": {},
   "outputs": [],
   "source": [
    "model_small = 'Approximate Nearest Neighbor'"
   ]
  },
  {
   "cell_type": "markdown",
   "id": "7dfcbe4a",
   "metadata": {},
   "source": [
    "Analyze neighbors in the trained model with smaller data."
   ]
  },
  {
   "cell_type": "code",
   "execution_count": null,
   "id": "ee50b0e8",
   "metadata": {},
   "outputs": [],
   "source": [
    "neighbor_analysis_small = analyze_neighbors(model_small)"
   ]
  },
  {
   "cell_type": "markdown",
   "id": "308ea9de",
   "metadata": {},
   "source": [
    "Evaluate performance degradation between small and large data models."
   ]
  },
  {
   "cell_type": "code",
   "execution_count": null,
   "id": "cd49199d",
   "metadata": {},
   "outputs": [],
   "source": [
    "performance_degradation = check_performance(neighbor_analysis_big, neighbor_analysis_small)"
   ]
  }
 ],
 "metadata": {
  "kernelspec": {
   "display_name": "Python 3",
   "language": "python",
   "name": "python3"
  },
  "language_info": {
   "codemirror_mode": {
    "name": "ipython",
    "version": 3
   },
   "file_extension": ".py",
   "mimetype": "text/x-python",
   "name": "python",
   "nbconvert_exporter": "python",
   "pygments_lexer": "ipython3",
   "version": "3.8.5"
  }
 },
 "nbformat": 4,
 "nbformat_minor": 5
}
