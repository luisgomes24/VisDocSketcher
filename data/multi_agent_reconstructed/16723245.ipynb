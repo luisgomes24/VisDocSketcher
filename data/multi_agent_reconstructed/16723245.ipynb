{
 "cells": [
  {
   "cell_type": "markdown",
   "id": "efcdbfe0",
   "metadata": {},
   "source": [
    "Collects data from a SQL database into a DataFrame."
   ]
  },
  {
   "cell_type": "code",
   "execution_count": null,
   "id": "885c9867",
   "metadata": {},
   "outputs": [],
   "source": [
    "import pandas as pd\n",
    "import sqlite3\n",
    "\n",
    "connection = sqlite3.connect('database.db')\n",
    "query = 'SELECT * FROM table_name'\n",
    "data = pd.read_sql(query, connection)"
   ]
  },
  {
   "cell_type": "markdown",
   "id": "d5011f53",
   "metadata": {},
   "source": [
    "Cleans the data by removing missing values."
   ]
  },
  {
   "cell_type": "code",
   "execution_count": null,
   "id": "cc23fd51",
   "metadata": {},
   "outputs": [],
   "source": [
    "data.dropna(inplace=True)"
   ]
  },
  {
   "cell_type": "markdown",
   "id": "60b37b8e",
   "metadata": {},
   "source": [
    "Selects the best features from the dataset."
   ]
  },
  {
   "cell_type": "code",
   "execution_count": null,
   "id": "6b82ad17",
   "metadata": {},
   "outputs": [],
   "source": [
    "from sklearn.feature_selection import SelectKBest, f_classif\n",
    "X = data.drop('target', axis=1)\n",
    "y = data['target']\n",
    "selector = SelectKBest(score_func=f_classif, k='all')\n",
    "X_new = selector.fit_transform(X, y)"
   ]
  },
  {
   "cell_type": "markdown",
   "id": "22e8fc3b",
   "metadata": {},
   "source": [
    "Splits the data into training and testing sets."
   ]
  },
  {
   "cell_type": "code",
   "execution_count": null,
   "id": "2bb2f549",
   "metadata": {},
   "outputs": [],
   "source": [
    "from sklearn.model_selection import train_test_split\n",
    "X_train, X_test, y_train, y_test = train_test_split(X_new, y, test_size=0.2, random_state=42)"
   ]
  },
  {
   "cell_type": "markdown",
   "id": "1d0345be",
   "metadata": {},
   "source": [
    "Creates a neural network model for training."
   ]
  },
  {
   "cell_type": "code",
   "execution_count": null,
   "id": "a120e054",
   "metadata": {},
   "outputs": [],
   "source": [
    "from keras.models import Sequential\n",
    "from keras.layers import Dense\n",
    "model = Sequential()\n",
    "model.add(Dense(32, input_dim=X_train.shape[1], activation='relu'))\n",
    "model.add(Dense(1, activation='sigmoid'))\n",
    "model.compile(loss='binary_crossentropy', optimizer='adam', metrics=['accuracy'])"
   ]
  },
  {
   "cell_type": "markdown",
   "id": "079a41cd",
   "metadata": {},
   "source": [
    "Trains the neural network model using the training data."
   ]
  },
  {
   "cell_type": "code",
   "execution_count": null,
   "id": "bb7e8b2f",
   "metadata": {},
   "outputs": [],
   "source": [
    "model.fit(X_train, y_train, epochs=10, batch_size=10)"
   ]
  },
  {
   "cell_type": "markdown",
   "id": "59716267",
   "metadata": {},
   "source": [
    "Evaluates the model's performance using the test data."
   ]
  },
  {
   "cell_type": "code",
   "execution_count": null,
   "id": "cfe8bc44",
   "metadata": {},
   "outputs": [],
   "source": [
    "loss, accuracy = model.evaluate(X_test, y_test)"
   ]
  },
  {
   "cell_type": "markdown",
   "id": "d0aff035",
   "metadata": {},
   "source": [
    "Saves the trained model to a file for later use."
   ]
  },
  {
   "cell_type": "code",
   "execution_count": null,
   "id": "e79960f0",
   "metadata": {},
   "outputs": [],
   "source": [
    "model.save('model.h5')"
   ]
  },
  {
   "cell_type": "markdown",
   "id": "f11df5c0",
   "metadata": {},
   "source": [
    "Outputs the results to a JSON file."
   ]
  },
  {
   "cell_type": "code",
   "execution_count": null,
   "id": "0445db5e",
   "metadata": {},
   "outputs": [],
   "source": [
    "import json\n",
    "with open('output.json', 'w') as f:\n",
    "    json.dump(data.to_dict(), f)"
   ]
  }
 ],
 "metadata": {
  "kernelspec": {
   "display_name": "Python 3",
   "language": "python",
   "name": "python3"
  },
  "language_info": {
   "codemirror_mode": {
    "name": "ipython",
    "version": 3
   },
   "file_extension": ".py",
   "mimetype": "text/x-python",
   "name": "python",
   "nbconvert_exporter": "python",
   "pygments_lexer": "ipython3",
   "version": "3.8.5"
  }
 },
 "nbformat": 4,
 "nbformat_minor": 5
}
