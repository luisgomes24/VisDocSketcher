{
 "cells": [
  {
   "cell_type": "markdown",
   "id": "f47fe168",
   "metadata": {},
   "source": [
    "Read the CSV files into DataFrames for users, books, and ratings."
   ]
  },
  {
   "cell_type": "code",
   "execution_count": null,
   "id": "19f53c7e",
   "metadata": {},
   "outputs": [],
   "source": [
    "import pandas as pd\n",
    "\n",
    "users = pd.read_csv('BX-Users.csv')\n",
    "books = pd.read_csv('BX-Books.csv')\n",
    "ratings = pd.read_csv('BX-Book-Ratings.csv')"
   ]
  },
  {
   "cell_type": "markdown",
   "id": "11e8d7bf",
   "metadata": {},
   "source": [
    "Merge users, ratings, and books DataFrames into a single dataset."
   ]
  },
  {
   "cell_type": "code",
   "execution_count": null,
   "id": "81fb8b6c",
   "metadata": {},
   "outputs": [],
   "source": [
    "dataset = pd.merge(pd.merge(users, ratings, on='User-ID'), books, on='ISBN')"
   ]
  },
  {
   "cell_type": "markdown",
   "id": "67ec8e1b",
   "metadata": {},
   "source": [
    "Filter the dataset to keep only the ratings greater than zero."
   ]
  },
  {
   "cell_type": "code",
   "execution_count": null,
   "id": "98fb4f96",
   "metadata": {},
   "outputs": [],
   "source": [
    "new_data = dataset[dataset['Book-Rating'] > 0]"
   ]
  },
  {
   "cell_type": "markdown",
   "id": "0d4a730e",
   "metadata": {},
   "source": [
    "Create features X by dropping the target from new_data, and y as the target variable."
   ]
  },
  {
   "cell_type": "code",
   "execution_count": null,
   "id": "4397d351",
   "metadata": {},
   "outputs": [],
   "source": [
    "X = new_data.drop(['Book-Rating'], axis=1)\n",
    "y = new_data['Book-Rating']"
   ]
  },
  {
   "cell_type": "markdown",
   "id": "9f1fbc57",
   "metadata": {},
   "source": [
    "Split the data into training and testing sets for both features and target."
   ]
  },
  {
   "cell_type": "code",
   "execution_count": null,
   "id": "da85542f",
   "metadata": {},
   "outputs": [],
   "source": [
    "from sklearn.model_selection import train_test_split\n",
    "X_train, X_test = train_test_split(X, test_size=0.2, random_state=42)\n",
    "y_train, y_test = train_test_split(y, test_size=0.2, random_state=42)"
   ]
  },
  {
   "cell_type": "markdown",
   "id": "0cfaff83",
   "metadata": {},
   "source": [
    "Initialize the Multinomial Naive Bayes model and fit it to the training data."
   ]
  },
  {
   "cell_type": "code",
   "execution_count": null,
   "id": "04872e2f",
   "metadata": {},
   "outputs": [],
   "source": [
    "from sklearn.naive_bayes import MultinomialNB\n",
    "model = MultinomialNB()\n",
    "model.fit(X_train, y_train)"
   ]
  }
 ],
 "metadata": {
  "kernelspec": {
   "display_name": "Python 3",
   "language": "python",
   "name": "python3"
  },
  "language_info": {
   "codemirror_mode": {
    "name": "ipython",
    "version": 3
   },
   "file_extension": ".py",
   "mimetype": "text/x-python",
   "name": "python",
   "nbconvert_exporter": "python",
   "pygments_lexer": "ipython3",
   "version": "3.8.5"
  }
 },
 "nbformat": 4,
 "nbformat_minor": 5
}
