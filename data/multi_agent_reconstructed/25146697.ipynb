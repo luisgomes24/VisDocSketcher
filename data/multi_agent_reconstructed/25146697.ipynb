{
 "cells": [
  {
   "cell_type": "markdown",
   "id": "21851029",
   "metadata": {},
   "source": [
    "Load and normalize images from CelebA and LFW datasets."
   ]
  },
  {
   "cell_type": "code",
   "execution_count": null,
   "id": "31547038",
   "metadata": {},
   "outputs": [],
   "source": [
    "import cv2\n",
    "import numpy as np\n",
    "\n",
    "def load_and_normalize_images(paths):\n",
    "    images = []\n",
    "    for path in paths:\n",
    "        img = cv2.imread(path)\n",
    "        img = cv2.resize(img, (128, 128))  # Resize to 128x128\n",
    "        img = img / 255.0  # Normalize to [0, 1]\n",
    "        images.append(img)\n",
    "    return np.array(images)\n",
    "\n",
    "celeba_paths = ['path/to/celeba1.jpg', 'path/to/celeba2.jpg']\n",
    "lfw_paths = ['path/to/lfw1.jpg', 'path/to/lfw2.jpg']\n",
    "\n",
    "image_paths = celeba_paths + lfw_paths\n",
    "normalized_data = load_and_normalize_images(image_paths)"
   ]
  },
  {
   "cell_type": "markdown",
   "id": "09d9e2e9",
   "metadata": {},
   "source": [
    "Apply PCA to reduce the dimensionality of the image data."
   ]
  },
  {
   "cell_type": "code",
   "execution_count": null,
   "id": "80a49d9d",
   "metadata": {},
   "outputs": [],
   "source": [
    "from sklearn.decomposition import PCA\n",
    "\n",
    "pca_model = PCA(n_components=10)\n",
    "pca_data = pca_model.fit_transform(normalized_data.reshape(len(normalized_data), -1))"
   ]
  },
  {
   "cell_type": "markdown",
   "id": "e0adba81",
   "metadata": {},
   "source": [
    "Train a KMeans model on the PCA data to identify clusters."
   ]
  },
  {
   "cell_type": "code",
   "execution_count": null,
   "id": "cdc5850f",
   "metadata": {},
   "outputs": [],
   "source": [
    "from sklearn.cluster import KMeans\n",
    "\n",
    "kmeans_model = KMeans(n_clusters=5)\n",
    "kmeans_labels = kmeans_model.fit_predict(pca_data)"
   ]
  },
  {
   "cell_type": "markdown",
   "id": "868ba971",
   "metadata": {},
   "source": [
    "Visualize KMeans clusters in PCA space."
   ]
  },
  {
   "cell_type": "code",
   "execution_count": null,
   "id": "3e66c2ae",
   "metadata": {},
   "outputs": [],
   "source": [
    "import matplotlib.pyplot as plt\n",
    "\n",
    "plt.scatter(pca_data[:, 0], pca_data[:, 1], c=kmeans_labels)\n",
    "plt.title('KMeans Clusters on PCA Data')\n",
    "plt.xlabel('PCA Component 1')\n",
    "plt.ylabel('PCA Component 2')\n",
    "plt.show()"
   ]
  }
 ],
 "metadata": {
  "kernelspec": {
   "display_name": "Python 3",
   "language": "python",
   "name": "python3"
  },
  "language_info": {
   "codemirror_mode": {
    "name": "ipython",
    "version": 3
   },
   "file_extension": ".py",
   "mimetype": "text/x-python",
   "name": "python",
   "nbconvert_exporter": "python",
   "pygments_lexer": "ipython3",
   "version": "3.8.5"
  }
 },
 "nbformat": 4,
 "nbformat_minor": 5
}
