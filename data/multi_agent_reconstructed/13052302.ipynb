{
 "cells": [
  {
   "cell_type": "markdown",
   "id": "06617678",
   "metadata": {},
   "source": [
    "Load the county candidate data for governor elections."
   ]
  },
  {
   "cell_type": "code",
   "execution_count": null,
   "id": "69dcc9f2",
   "metadata": {},
   "outputs": [],
   "source": [
    "import pandas as pd\n",
    "data1 = pd.read_csv('./input/us-election-2020/governor_county_candidate.csv')"
   ]
  },
  {
   "cell_type": "markdown",
   "id": "a6da0240",
   "metadata": {},
   "source": [
    "Load the state data for governor elections."
   ]
  },
  {
   "cell_type": "code",
   "execution_count": null,
   "id": "293450b5",
   "metadata": {},
   "outputs": [],
   "source": [
    "data2 = pd.read_csv('./input/us-election-2020/governor_state.csv')"
   ]
  },
  {
   "cell_type": "markdown",
   "id": "c6a5603d",
   "metadata": {},
   "source": [
    "Load the candidate data for house elections."
   ]
  },
  {
   "cell_type": "code",
   "execution_count": null,
   "id": "0628732e",
   "metadata": {},
   "outputs": [],
   "source": [
    "data3 = pd.read_csv('./input/us-election-2020/house_candidate.csv')"
   ]
  },
  {
   "cell_type": "markdown",
   "id": "b23def5e",
   "metadata": {},
   "source": [
    "Load the state data for house elections."
   ]
  },
  {
   "cell_type": "code",
   "execution_count": null,
   "id": "40c82fa5",
   "metadata": {},
   "outputs": [],
   "source": [
    "data4 = pd.read_csv('./input/us-election-2020/house_state.csv')"
   ]
  },
  {
   "cell_type": "markdown",
   "id": "a42c489b",
   "metadata": {},
   "source": [
    "Load the county data for president elections."
   ]
  },
  {
   "cell_type": "code",
   "execution_count": null,
   "id": "75be210d",
   "metadata": {},
   "outputs": [],
   "source": [
    "data5 = pd.read_csv('./input/us-election-2020/president_county.csv')"
   ]
  },
  {
   "cell_type": "markdown",
   "id": "6f9311da",
   "metadata": {},
   "source": [
    "Load the state data for president elections."
   ]
  },
  {
   "cell_type": "code",
   "execution_count": null,
   "id": "cb7dd303",
   "metadata": {},
   "outputs": [],
   "source": [
    "data6 = pd.read_csv('./input/us-election-2020/president_state.csv')"
   ]
  },
  {
   "cell_type": "markdown",
   "id": "09187ea3",
   "metadata": {},
   "source": [
    "Load the county data for senate elections."
   ]
  },
  {
   "cell_type": "code",
   "execution_count": null,
   "id": "6280eaa9",
   "metadata": {},
   "outputs": [],
   "source": [
    "data7 = pd.read_csv('./input/us-election-2020/senate_county.csv')"
   ]
  },
  {
   "cell_type": "markdown",
   "id": "6473d51d",
   "metadata": {},
   "source": [
    "Load the state data for senate elections."
   ]
  },
  {
   "cell_type": "code",
   "execution_count": null,
   "id": "1c75fa04",
   "metadata": {},
   "outputs": [],
   "source": [
    "data8 = pd.read_csv('./input/us-election-2020/senate_state.csv')"
   ]
  },
  {
   "cell_type": "markdown",
   "id": "8d082921",
   "metadata": {},
   "source": [
    "Load the candidate data for senate elections."
   ]
  },
  {
   "cell_type": "code",
   "execution_count": null,
   "id": "25816434",
   "metadata": {},
   "outputs": [],
   "source": [
    "data9 = pd.read_csv('./input/us-election-2020/senate_candidate.csv')"
   ]
  },
  {
   "cell_type": "markdown",
   "id": "77a84f50",
   "metadata": {},
   "source": [
    "Load additional required data."
   ]
  },
  {
   "cell_type": "code",
   "execution_count": null,
   "id": "4ce8f64b",
   "metadata": {},
   "outputs": [],
   "source": [
    "data10 = pd.read_csv('./input/us-election-2020/other_data_1.csv')"
   ]
  },
  {
   "cell_type": "markdown",
   "id": "2669c63c",
   "metadata": {},
   "source": [
    "Load more additional required data."
   ]
  },
  {
   "cell_type": "code",
   "execution_count": null,
   "id": "aed9db44",
   "metadata": {},
   "outputs": [],
   "source": [
    "data11 = pd.read_csv('./input/us-election-2020/other_data_2.csv')"
   ]
  }
 ],
 "metadata": {
  "kernelspec": {
   "display_name": "Python 3",
   "language": "python",
   "name": "python3"
  },
  "language_info": {
   "codemirror_mode": {
    "name": "ipython",
    "version": 3
   },
   "file_extension": ".py",
   "mimetype": "text/x-python",
   "name": "python",
   "nbconvert_exporter": "python",
   "pygments_lexer": "ipython3",
   "version": "3.8.5"
  }
 },
 "nbformat": 4,
 "nbformat_minor": 5
}
