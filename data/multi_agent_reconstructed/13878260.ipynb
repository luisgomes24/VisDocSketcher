{
 "cells": [
  {
   "cell_type": "markdown",
   "id": "3aea3b69",
   "metadata": {},
   "source": [
    "Checks if there is a lucky number (e.g., 7) in the given list."
   ]
  },
  {
   "cell_type": "code",
   "execution_count": null,
   "id": "5154af3a",
   "metadata": {},
   "outputs": [],
   "source": [
    "def has_lucky_number(nums):\n",
    "    return any(num == 7 for num in nums"
   ]
  },
  {
   "cell_type": "markdown",
   "id": "a54b4d9e",
   "metadata": {},
   "source": [
    "Compares each element in list L to a given threshold."
   ]
  },
  {
   "cell_type": "code",
   "execution_count": null,
   "id": "fea510b1",
   "metadata": {},
   "outputs": [],
   "source": [
    "def elementwise_greater_than(L, threshold):\n",
    "    return [x > threshold for x in L]"
   ]
  },
  {
   "cell_type": "markdown",
   "id": "1090cb6a",
   "metadata": {},
   "source": [
    "Determines if the menu has consecutive identical meals."
   ]
  },
  {
   "cell_type": "code",
   "execution_count": null,
   "id": "b58d284c",
   "metadata": {},
   "outputs": [],
   "source": [
    "def menu_is_boring(meals):\n",
    "    return len(set(meals)) < len(meals)"
   ]
  },
  {
   "cell_type": "markdown",
   "id": "86e23f8e",
   "metadata": {},
   "source": [
    "Simulates and calculates the average payout for a slot machine after a given number of runs."
   ]
  },
  {
   "cell_type": "code",
   "execution_count": null,
   "id": "eefc028f",
   "metadata": {},
   "outputs": [],
   "source": [
    "def estimate_average_slot_payout(n_runs):\n",
    "    return sum(random.betavariate(2, 5) for _ in range(n_runs)) / n_runs"
   ]
  }
 ],
 "metadata": {
  "kernelspec": {
   "display_name": "Python 3",
   "language": "python",
   "name": "python3"
  },
  "language_info": {
   "codemirror_mode": {
    "name": "ipython",
    "version": 3
   },
   "file_extension": ".py",
   "mimetype": "text/x-python",
   "name": "python",
   "nbconvert_exporter": "python",
   "pygments_lexer": "ipython3",
   "version": "3.8.5"
  }
 },
 "nbformat": 4,
 "nbformat_minor": 5
}
