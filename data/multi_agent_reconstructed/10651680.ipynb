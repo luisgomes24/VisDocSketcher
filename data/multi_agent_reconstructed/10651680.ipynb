{
 "cells": [
  {
   "cell_type": "markdown",
   "id": "620ef522",
   "metadata": {},
   "source": [
    "Load the dataset into a DataFrame and separate features (X) from the target variable (y)."
   ]
  },
  {
   "cell_type": "code",
   "execution_count": null,
   "id": "9722e600",
   "metadata": {},
   "outputs": [],
   "source": [
    "import pandas as pd\n",
    "X = pd.read_csv('data.csv')\n",
    "y = X.pop('SalePrice')"
   ]
  },
  {
   "cell_type": "markdown",
   "id": "29c94e5e",
   "metadata": {},
   "source": [
    "Split the data into training and validation sets using an 80-20 ratio."
   ]
  },
  {
   "cell_type": "code",
   "execution_count": null,
   "id": "6c8d8fe6",
   "metadata": {},
   "outputs": [],
   "source": [
    "from sklearn.model_selection import train_test_split\n",
    "X_train_full, X_valid_full, y_train, y_valid = train_test_split(X, y, train_size=0.8, random_state=42)"
   ]
  },
  {
   "cell_type": "markdown",
   "id": "555252b6",
   "metadata": {},
   "source": [
    "Perform feature engineering by converting categorical variables to dummy/indicator variables."
   ]
  },
  {
   "cell_type": "code",
   "execution_count": null,
   "id": "d3c58bf2",
   "metadata": {},
   "outputs": [],
   "source": [
    "X_train = pd.get_dummies(X_train_full)\n",
    "X_valid = pd.get_dummies(X_valid_full)"
   ]
  },
  {
   "cell_type": "markdown",
   "id": "d43dea80",
   "metadata": {},
   "source": [
    "Initialize and train the first XGBoost regressor model."
   ]
  },
  {
   "cell_type": "code",
   "execution_count": null,
   "id": "41cb890e",
   "metadata": {},
   "outputs": [],
   "source": [
    "from xgboost import XGBRegressor\n",
    "my_model_1 = XGBRegressor(random_state=0)\n",
    "my_model_1.fit(X_train, y_train)"
   ]
  },
  {
   "cell_type": "markdown",
   "id": "a87e81fc",
   "metadata": {},
   "source": [
    "Make predictions on the validation set using the first model."
   ]
  },
  {
   "cell_type": "code",
   "execution_count": null,
   "id": "3d164343",
   "metadata": {},
   "outputs": [],
   "source": [
    "predictions_1 = my_model_1.predict(X_valid)"
   ]
  },
  {
   "cell_type": "markdown",
   "id": "6ceb9496",
   "metadata": {},
   "source": [
    "Calculate the Mean Absolute Error (MAE) for the first model's predictions."
   ]
  },
  {
   "cell_type": "code",
   "execution_count": null,
   "id": "33270d1d",
   "metadata": {},
   "outputs": [],
   "source": [
    "from sklearn.metrics import mean_absolute_error\n",
    "mae_1 = mean_absolute_error(y_valid, predictions_1)"
   ]
  },
  {
   "cell_type": "markdown",
   "id": "30bc0826",
   "metadata": {},
   "source": [
    "Initialize and train the second XGBoost regressor model with specific parameters."
   ]
  },
  {
   "cell_type": "code",
   "execution_count": null,
   "id": "22d26b37",
   "metadata": {},
   "outputs": [],
   "source": [
    "my_model_2 = XGBRegressor(n_estimators=1000, learning_rate=0.05)\n",
    "my_model_2.fit(X_train, y_train)"
   ]
  },
  {
   "cell_type": "markdown",
   "id": "cf10d8f9",
   "metadata": {},
   "source": [
    "Make predictions on the validation set using the second model."
   ]
  },
  {
   "cell_type": "code",
   "execution_count": null,
   "id": "b6c11ad7",
   "metadata": {},
   "outputs": [],
   "source": [
    "predictions_2 = my_model_2.predict(X_valid)"
   ]
  },
  {
   "cell_type": "markdown",
   "id": "50a86134",
   "metadata": {},
   "source": [
    "Calculate the MAE for the second model's predictions."
   ]
  },
  {
   "cell_type": "code",
   "execution_count": null,
   "id": "3e4fcabc",
   "metadata": {},
   "outputs": [],
   "source": [
    "mae_2 = mean_absolute_error(y_valid, predictions_2)"
   ]
  },
  {
   "cell_type": "markdown",
   "id": "4003d62d",
   "metadata": {},
   "source": [
    "Initialize and train the third XGBoost regressor model with different parameters."
   ]
  },
  {
   "cell_type": "code",
   "execution_count": null,
   "id": "ce25f3ba",
   "metadata": {},
   "outputs": [],
   "source": [
    "my_model_3 = XGBRegressor(n_estimators=1)\n",
    "my_model_3.fit(X_train, y_train)"
   ]
  },
  {
   "cell_type": "markdown",
   "id": "97b98a38",
   "metadata": {},
   "source": [
    "Make predictions on the validation set using the third model."
   ]
  },
  {
   "cell_type": "code",
   "execution_count": null,
   "id": "c679566e",
   "metadata": {},
   "outputs": [],
   "source": [
    "predictions_3 = my_model_3.predict(X_valid)"
   ]
  },
  {
   "cell_type": "markdown",
   "id": "483b4ba4",
   "metadata": {},
   "source": [
    "Calculate the MAE for the third model's predictions."
   ]
  },
  {
   "cell_type": "code",
   "execution_count": null,
   "id": "9abe2128",
   "metadata": {},
   "outputs": [],
   "source": [
    "mae_3 = mean_absolute_error(y_valid, predictions_3)"
   ]
  }
 ],
 "metadata": {
  "kernelspec": {
   "display_name": "Python 3",
   "language": "python",
   "name": "python3"
  },
  "language_info": {
   "codemirror_mode": {
    "name": "ipython",
    "version": 3
   },
   "file_extension": ".py",
   "mimetype": "text/x-python",
   "name": "python",
   "nbconvert_exporter": "python",
   "pygments_lexer": "ipython3",
   "version": "3.8.5"
  }
 },
 "nbformat": 4,
 "nbformat_minor": 5
}
