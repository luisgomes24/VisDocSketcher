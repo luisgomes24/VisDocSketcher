{
 "cells": [
  {
   "cell_type": "markdown",
   "id": "770f5727",
   "metadata": {},
   "source": [
    "Load the CSV file into a DataFrame named 'df'."
   ]
  },
  {
   "cell_type": "code",
   "execution_count": null,
   "id": "c5ef157a",
   "metadata": {},
   "outputs": [],
   "source": [
    "import pandas as pd\n",
    "\n",
    "df = pd.read_csv('USD_BRL_1994_2021_ANO_MES_DIA.csv')"
   ]
  },
  {
   "cell_type": "markdown",
   "id": "8efe0c61",
   "metadata": {},
   "source": [
    "Filter the DataFrame 'df' to create 'df2' containing only data for years before 2021."
   ]
  },
  {
   "cell_type": "code",
   "execution_count": null,
   "id": "ada5a9cb",
   "metadata": {},
   "outputs": [],
   "source": [
    "df2 = df[df['Year'] < 2021]"
   ]
  }
 ],
 "metadata": {
  "kernelspec": {
   "display_name": "Python 3",
   "language": "python",
   "name": "python3"
  },
  "language_info": {
   "codemirror_mode": {
    "name": "ipython",
    "version": 3
   },
   "file_extension": ".py",
   "mimetype": "text/x-python",
   "name": "python",
   "nbconvert_exporter": "python",
   "pygments_lexer": "ipython3",
   "version": "3.8.5"
  }
 },
 "nbformat": 4,
 "nbformat_minor": 5
}
