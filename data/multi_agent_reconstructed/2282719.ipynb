{
 "cells": [
  {
   "cell_type": "markdown",
   "id": "bf3f2038",
   "metadata": {},
   "source": [
    "Selects the second element from the input list L."
   ]
  },
  {
   "cell_type": "code",
   "execution_count": null,
   "id": "9248b652",
   "metadata": {},
   "outputs": [],
   "source": [
    "def select_second(L):\n",
    "    return L[1]"
   ]
  },
  {
   "cell_type": "markdown",
   "id": "512b8520",
   "metadata": {},
   "source": [
    "Returns the last team captain from the list of teams."
   ]
  },
  {
   "cell_type": "code",
   "execution_count": null,
   "id": "9df1c789",
   "metadata": {},
   "outputs": [],
   "source": [
    "teams = ['Team A', 'Team B', 'Team C']\n",
    "last_team_captain = teams[-1]"
   ]
  },
  {
   "cell_type": "markdown",
   "id": "6bcaebf5",
   "metadata": {},
   "source": [
    "Swaps the first and last racer names in the list."
   ]
  },
  {
   "cell_type": "code",
   "execution_count": null,
   "id": "92df0ec4",
   "metadata": {},
   "outputs": [],
   "source": [
    "def swap_first_and_last(racers):\n",
    "    racers[0], racers[-1] = racers[-1], racers[0]"
   ]
  },
  {
   "cell_type": "markdown",
   "id": "c60945bb",
   "metadata": {},
   "source": [
    "Orders the list of party arrivals."
   ]
  },
  {
   "cell_type": "code",
   "execution_count": null,
   "id": "895e38c0",
   "metadata": {},
   "outputs": [],
   "source": [
    "arrivals = sorted(['Alice', 'Bob', 'Charlie'])"
   ]
  },
  {
   "cell_type": "markdown",
   "id": "aac2d6a5",
   "metadata": {},
   "source": [
    "Determines lengths that surpass a certain threshold."
   ]
  },
  {
   "cell_type": "code",
   "execution_count": null,
   "id": "b1e2f198",
   "metadata": {},
   "outputs": [],
   "source": [
    "def check_lengths(lengths):\n",
    "    return [length for length in lengths if length > threshold]"
   ]
  },
  {
   "cell_type": "markdown",
   "id": "67136348",
   "metadata": {},
   "source": [
    "Counts how many numbers are negative in the given list."
   ]
  },
  {
   "cell_type": "code",
   "execution_count": null,
   "id": "a3f908c6",
   "metadata": {},
   "outputs": [],
   "source": [
    "def count_negatives(nums):\n",
    "    return sum(1 for num in nums if num < 0)"
   ]
  }
 ],
 "metadata": {
  "kernelspec": {
   "display_name": "Python 3",
   "language": "python",
   "name": "python3"
  },
  "language_info": {
   "codemirror_mode": {
    "name": "ipython",
    "version": 3
   },
   "file_extension": ".py",
   "mimetype": "text/x-python",
   "name": "python",
   "nbconvert_exporter": "python",
   "pygments_lexer": "ipython3",
   "version": "3.8.5"
  }
 },
 "nbformat": 4,
 "nbformat_minor": 5
}
