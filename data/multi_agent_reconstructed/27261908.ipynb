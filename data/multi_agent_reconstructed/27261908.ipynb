{
 "cells": [
  {
   "cell_type": "markdown",
   "id": "734bf8a8",
   "metadata": {},
   "source": [
    "Loads and preprocesses images from the specified directory."
   ]
  },
  {
   "cell_type": "code",
   "execution_count": null,
   "id": "141757ad",
   "metadata": {},
   "outputs": [],
   "source": [
    "import os\n",
    "from tensorflow.keras.preprocessing.image import ImageDataGenerator\n",
    "\n",
    "def load_data(directory):\n",
    "    datagen = ImageDataGenerator(rescale=1./255)\n",
    "    return datagen.flow_from_directory(directory, target_size=(224, 224), class_mode='categorical')\n",
    "\n",
    "image_array = load_data('./input/animals10/raw-img')"
   ]
  },
  {
   "cell_type": "markdown",
   "id": "a713d4cf",
   "metadata": {},
   "source": [
    "One-hot encodes the labels for multi-class classification."
   ]
  },
  {
   "cell_type": "code",
   "execution_count": null,
   "id": "a6b3414e",
   "metadata": {},
   "outputs": [],
   "source": [
    "import numpy as np\n",
    "from sklearn.preprocessing import OneHotEncoder\n",
    "\n",
    "labels = np.array([0, 1, 2])  # Example label array\n",
    "encoder = OneHotEncoder(sparse=False)\n",
    "image_label = encoder.fit_transform(labels.reshape(-1, 1))"
   ]
  },
  {
   "cell_type": "markdown",
   "id": "3c5c8d6e",
   "metadata": {},
   "source": [
    "Splits the dataset into training and testing sets."
   ]
  },
  {
   "cell_type": "code",
   "execution_count": null,
   "id": "b91100d7",
   "metadata": {},
   "outputs": [],
   "source": [
    "from sklearn.model_selection import train_test_split\n",
    "X_train, X_test, y_train, y_test = train_test_split(image_array, image_label, test_size=0.2, random_state=42)"
   ]
  },
  {
   "cell_type": "markdown",
   "id": "5efc167d",
   "metadata": {},
   "source": [
    "Defines a model using EfficientNetB7 as the base."
   ]
  },
  {
   "cell_type": "code",
   "execution_count": null,
   "id": "fa4c3303",
   "metadata": {},
   "outputs": [],
   "source": [
    "from tensorflow.keras.applications import EfficientNetB7\n",
    "from tensorflow.keras.models import Sequential\n",
    "from tensorflow.keras.layers import Dense, Flatten\n",
    "\n",
    "model = Sequential([\n",
    "    EfficientNetB7(input_shape=(224, 224, 3), include_top=False, weights='imagenet'),\n",
    "    Flatten(),\n",
    "    Dense(256, activation='relu'),\n",
    "    Dense(len(np.unique(labels)), activation='softmax')\n",
    "])"
   ]
  },
  {
   "cell_type": "markdown",
   "id": "49f76ab1",
   "metadata": {},
   "source": [
    "Compiles the model with the optimizer and loss function."
   ]
  },
  {
   "cell_type": "code",
   "execution_count": null,
   "id": "7ca3e6de",
   "metadata": {},
   "outputs": [],
   "source": [
    "from tensorflow.keras.optimizers import Adam\n",
    "model.compile(optimizer=Adam(), loss='categorical_crossentropy', metrics=['accuracy'])"
   ]
  },
  {
   "cell_type": "markdown",
   "id": "33a6d91e",
   "metadata": {},
   "source": [
    "Trains the model with specified epochs, batch size, and callbacks."
   ]
  },
  {
   "cell_type": "code",
   "execution_count": null,
   "id": "dcc406b0",
   "metadata": {},
   "outputs": [],
   "source": [
    "history = model.fit(X_train, y_train, validation_data=(X_test, y_test), epochs=15, batch_size=32, callbacks=[EarlyStopping(monitor='val_loss'), ModelCheckpoint('best_model.h5', save_best_only=True), ReduceLROnPlateau(monitor='val_loss')])"
   ]
  },
  {
   "cell_type": "markdown",
   "id": "11f76bc1",
   "metadata": {},
   "source": [
    "Evaluates the model performance on the test set."
   ]
  },
  {
   "cell_type": "code",
   "execution_count": null,
   "id": "ea39e55f",
   "metadata": {},
   "outputs": [],
   "source": [
    "evaluation = model.evaluate(X_test, y_test)"
   ]
  }
 ],
 "metadata": {
  "kernelspec": {
   "display_name": "Python 3",
   "language": "python",
   "name": "python3"
  },
  "language_info": {
   "codemirror_mode": {
    "name": "ipython",
    "version": 3
   },
   "file_extension": ".py",
   "mimetype": "text/x-python",
   "name": "python",
   "nbconvert_exporter": "python",
   "pygments_lexer": "ipython3",
   "version": "3.8.5"
  }
 },
 "nbformat": 4,
 "nbformat_minor": 5
}
