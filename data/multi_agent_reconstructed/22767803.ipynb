{
 "cells": [
  {
   "cell_type": "markdown",
   "id": "a1403300",
   "metadata": {},
   "source": [
    "Load the heart disease dataset into a DataFrame."
   ]
  },
  {
   "cell_type": "code",
   "execution_count": null,
   "id": "3b9fccab",
   "metadata": {},
   "outputs": [],
   "source": [
    "import pandas as pd\n",
    "df = pd.read_csv('heart.csv')"
   ]
  },
  {
   "cell_type": "markdown",
   "id": "90467dc6",
   "metadata": {},
   "source": [
    "Group the DataFrame by HeartDisease outcomes (1 and 0)."
   ]
  },
  {
   "cell_type": "code",
   "execution_count": null,
   "id": "d2a87406",
   "metadata": {},
   "outputs": [],
   "source": [
    "group1 = df[df['HeartDisease'] == 1]\n",
    "group0 = df[df['HeartDisease'] == 0]"
   ]
  },
  {
   "cell_type": "markdown",
   "id": "3f1eee76",
   "metadata": {},
   "source": [
    "Visualize analysis for group with HeartDisease = 1."
   ]
  },
  {
   "cell_type": "code",
   "execution_count": null,
   "id": "331e5d99",
   "metadata": {},
   "outputs": [],
   "source": [
    "import matplotlib.pyplot as plt\n",
    "plt.scatter(group1['Age'], group1['Cholesterol'])\n",
    "plt.title('Analyze Group 1')\n",
    "plt.show()"
   ]
  },
  {
   "cell_type": "markdown",
   "id": "a31cd028",
   "metadata": {},
   "source": [
    "Visualize analysis for group with HeartDisease = 0."
   ]
  },
  {
   "cell_type": "code",
   "execution_count": null,
   "id": "89b52323",
   "metadata": {},
   "outputs": [],
   "source": [
    "plt.scatter(group0['Age'], group0['Cholesterol'])\n",
    "plt.title('Analyze Group 0')\n",
    "plt.show()"
   ]
  },
  {
   "cell_type": "markdown",
   "id": "d0650195",
   "metadata": {},
   "source": [
    "Select features and target for the model."
   ]
  },
  {
   "cell_type": "code",
   "execution_count": null,
   "id": "9be0ea0c",
   "metadata": {},
   "outputs": [],
   "source": [
    "features = df[['Age', 'Sex', 'Cholesterol']]\n",
    "target = df['HeartDisease']"
   ]
  },
  {
   "cell_type": "markdown",
   "id": "0bbff388",
   "metadata": {},
   "source": [
    "Train a Random Forest Classifier on the selected features."
   ]
  },
  {
   "cell_type": "code",
   "execution_count": null,
   "id": "cdf9f5af",
   "metadata": {},
   "outputs": [],
   "source": [
    "from sklearn.ensemble import RandomForestClassifier\n",
    "model = RandomForestClassifier()\n",
    "model.fit(features, target)"
   ]
  },
  {
   "cell_type": "markdown",
   "id": "f13c4022",
   "metadata": {},
   "source": [
    "Make predictions using the trained model."
   ]
  },
  {
   "cell_type": "code",
   "execution_count": null,
   "id": "d7abbdeb",
   "metadata": {},
   "outputs": [],
   "source": [
    "predictions = model.predict(features)"
   ]
  },
  {
   "cell_type": "markdown",
   "id": "073600c5",
   "metadata": {},
   "source": [
    "Visualize the predicted outcomes of HeartDisease."
   ]
  },
  {
   "cell_type": "code",
   "execution_count": null,
   "id": "c8fba8a6",
   "metadata": {},
   "outputs": [],
   "source": [
    "plt.scatter(features['Age'], predictions)\n",
    "plt.title('HeartDisease Outcome')\n",
    "plt.show()"
   ]
  }
 ],
 "metadata": {
  "kernelspec": {
   "display_name": "Python 3",
   "language": "python",
   "name": "python3"
  },
  "language_info": {
   "codemirror_mode": {
    "name": "ipython",
    "version": 3
   },
   "file_extension": ".py",
   "mimetype": "text/x-python",
   "name": "python",
   "nbconvert_exporter": "python",
   "pygments_lexer": "ipython3",
   "version": "3.8.5"
  }
 },
 "nbformat": 4,
 "nbformat_minor": 5
}
