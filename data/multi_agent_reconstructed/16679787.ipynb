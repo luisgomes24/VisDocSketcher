{
 "cells": [
  {
   "cell_type": "markdown",
   "id": "8988988f",
   "metadata": {},
   "source": [
    "Load the data from the CSV file into a DataFrame."
   ]
  },
  {
   "cell_type": "code",
   "execution_count": null,
   "id": "80f0a2b8",
   "metadata": {},
   "outputs": [],
   "source": [
    "import pandas as pd\n",
    "\n",
    "data = pd.read_csv('insurance.csv')"
   ]
  },
  {
   "cell_type": "markdown",
   "id": "c596923e",
   "metadata": {},
   "source": [
    "Initialize a Random Forest model for classification."
   ]
  },
  {
   "cell_type": "code",
   "execution_count": null,
   "id": "2efde624",
   "metadata": {},
   "outputs": [],
   "source": [
    "from sklearn.ensemble import RandomForestClassifier\n",
    "\n",
    "model = RandomForestClassifier()"
   ]
  },
  {
   "cell_type": "markdown",
   "id": "8e69d232",
   "metadata": {},
   "source": [
    "Create a list to hold top models."
   ]
  },
  {
   "cell_type": "code",
   "execution_count": null,
   "id": "f70385b6",
   "metadata": {},
   "outputs": [],
   "source": [
    "models = [model]  # List of top models"
   ]
  },
  {
   "cell_type": "markdown",
   "id": "568d88d3",
   "metadata": {},
   "source": [
    "Split the data into training and testing sets."
   ]
  },
  {
   "cell_type": "code",
   "execution_count": null,
   "id": "be93f37c",
   "metadata": {},
   "outputs": [],
   "source": [
    "from sklearn.model_selection import train_test_split\n",
    "\n",
    "X_train, X_test, y_train, y_test = train_test_split(data.drop('target', axis=1), data['target'], test_size=0.2)"
   ]
  },
  {
   "cell_type": "markdown",
   "id": "dd6864de",
   "metadata": {},
   "source": [
    "Train the Random Forest model on the training data."
   ]
  },
  {
   "cell_type": "code",
   "execution_count": null,
   "id": "c1a26bff",
   "metadata": {},
   "outputs": [],
   "source": [
    "model.fit(X_train, y_train)"
   ]
  },
  {
   "cell_type": "markdown",
   "id": "16740f6b",
   "metadata": {},
   "source": [
    "Blend the top models to create a combined model."
   ]
  },
  {
   "cell_type": "code",
   "execution_count": null,
   "id": "3b8b7cc2",
   "metadata": {},
   "outputs": [],
   "source": [
    "combined_model = sum(models) / len(models)"
   ]
  },
  {
   "cell_type": "markdown",
   "id": "f0e587f6",
   "metadata": {},
   "source": [
    "Create and train a tuned version of the Random Forest model."
   ]
  },
  {
   "cell_type": "code",
   "execution_count": null,
   "id": "3e88df1b",
   "metadata": {},
   "outputs": [],
   "source": [
    "tuned_model = RandomForestClassifier(n_estimators=100, max_depth=10)\n",
    "tuned_model.fit(X_train, y_train)"
   ]
  },
  {
   "cell_type": "markdown",
   "id": "4445b872",
   "metadata": {},
   "source": [
    "Combine the blended model with the tuned model to obtain the final model."
   ]
  },
  {
   "cell_type": "code",
   "execution_count": null,
   "id": "ad06085a",
   "metadata": {},
   "outputs": [],
   "source": [
    "final_model = combined_model + tuned_model"
   ]
  }
 ],
 "metadata": {
  "kernelspec": {
   "display_name": "Python 3",
   "language": "python",
   "name": "python3"
  },
  "language_info": {
   "codemirror_mode": {
    "name": "ipython",
    "version": 3
   },
   "file_extension": ".py",
   "mimetype": "text/x-python",
   "name": "python",
   "nbconvert_exporter": "python",
   "pygments_lexer": "ipython3",
   "version": "3.8.5"
  }
 },
 "nbformat": 4,
 "nbformat_minor": 5
}
