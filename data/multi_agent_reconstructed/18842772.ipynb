{
 "cells": [
  {
   "cell_type": "markdown",
   "id": "68bf0e5e",
   "metadata": {},
   "source": [
    "Read the CSV file into a DataFrame named 'df'."
   ]
  },
  {
   "cell_type": "code",
   "execution_count": null,
   "id": "a8dfc919",
   "metadata": {},
   "outputs": [],
   "source": [
    "import pandas as pd\n",
    "\n",
    "df = pd.read_csv('../input/shark-attack-dataset/attacks.csv')"
   ]
  },
  {
   "cell_type": "markdown",
   "id": "1bad4abf",
   "metadata": {},
   "source": [
    "Create a copy of the original DataFrame, naming it 'shark'."
   ]
  },
  {
   "cell_type": "code",
   "execution_count": null,
   "id": "1a4a35db",
   "metadata": {},
   "outputs": [],
   "source": [
    "shark = df.copy()"
   ]
  },
  {
   "cell_type": "markdown",
   "id": "d40e0f9e",
   "metadata": {},
   "source": [
    "Group 'shark' DataFrame by 'sex', count occurrences, and sort by count in descending order."
   ]
  },
  {
   "cell_type": "code",
   "execution_count": null,
   "id": "4e95673d",
   "metadata": {},
   "outputs": [],
   "source": [
    "sharka = shark.groupby('sex').size().reset_index(name='count').sort_values(by='count', ascending=False)"
   ]
  }
 ],
 "metadata": {
  "kernelspec": {
   "display_name": "Python 3",
   "language": "python",
   "name": "python3"
  },
  "language_info": {
   "codemirror_mode": {
    "name": "ipython",
    "version": 3
   },
   "file_extension": ".py",
   "mimetype": "text/x-python",
   "name": "python",
   "nbconvert_exporter": "python",
   "pygments_lexer": "ipython3",
   "version": "3.8.5"
  }
 },
 "nbformat": 4,
 "nbformat_minor": 5
}
