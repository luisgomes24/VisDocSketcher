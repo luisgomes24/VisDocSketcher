{
 "cells": [
  {
   "cell_type": "markdown",
   "id": "e55295d2",
   "metadata": {},
   "source": [
    "Import the pandas library to handle data in DataFrame format."
   ]
  },
  {
   "cell_type": "code",
   "execution_count": null,
   "id": "8abc2805",
   "metadata": {},
   "outputs": [],
   "source": [
    "import pandas as pd"
   ]
  },
  {
   "cell_type": "markdown",
   "id": "144f4323",
   "metadata": {},
   "source": [
    "Import the make_blobs function to generate synthetic data for clustering."
   ]
  },
  {
   "cell_type": "code",
   "execution_count": null,
   "id": "df635187",
   "metadata": {},
   "outputs": [],
   "source": [
    "from sklearn.datasets import make_blobs"
   ]
  },
  {
   "cell_type": "markdown",
   "id": "1176da20",
   "metadata": {},
   "source": [
    "Generate synthetic data and corresponding target labels using make_blobs."
   ]
  },
  {
   "cell_type": "code",
   "execution_count": null,
   "id": "68753dff",
   "metadata": {},
   "outputs": [],
   "source": [
    "data, y = make_blobs(n_samples=100, centers=3, random_state=42)"
   ]
  },
  {
   "cell_type": "markdown",
   "id": "382908f1",
   "metadata": {},
   "source": [
    "Define a class to hold custom hyperparameters for the KMeans algorithm."
   ]
  },
  {
   "cell_type": "code",
   "execution_count": null,
   "id": "d8f4ae1c",
   "metadata": {},
   "outputs": [],
   "source": [
    "class CustomKMeansHyperparameters:\n",
    "    n_clusters = 3\n",
    "    n_kmeans = 10\n",
    "    iterations = 500\n",
    "    eval_metric = 'inertia'"
   ]
  },
  {
   "cell_type": "markdown",
   "id": "3d4177d0",
   "metadata": {},
   "source": [
    "Define a custom KMeans class with initialization and fitting methods."
   ]
  },
  {
   "cell_type": "code",
   "execution_count": null,
   "id": "8eeba0e4",
   "metadata": {},
   "outputs": [],
   "source": [
    "class CustomKMeans:\n",
    "    def __init__(self, n_clusters, n_kmeans, iterations, eval_metric):\n",
    "        # Initialize parameters\n",
    "    def fit(self, X):\n",
    "        # Fit the model to the data"
   ]
  },
  {
   "cell_type": "markdown",
   "id": "bdbbadbb",
   "metadata": {},
   "source": [
    "Create an instance of the hyperparameter class."
   ]
  },
  {
   "cell_type": "code",
   "execution_count": null,
   "id": "7ec39c8c",
   "metadata": {},
   "outputs": [],
   "source": [
    "hyperparams = CustomKMeansHyperparameters()"
   ]
  },
  {
   "cell_type": "markdown",
   "id": "383f52e1",
   "metadata": {},
   "source": [
    "Instantiate the custom KMeans class with specified hyperparameters."
   ]
  },
  {
   "cell_type": "code",
   "execution_count": null,
   "id": "bb6f35dd",
   "metadata": {},
   "outputs": [],
   "source": [
    "kmeans = CustomKMeans(hyperparams.n_clusters, hyperparams.n_kmeans, hyperparams.iterations, hyperparams.eval_metric)"
   ]
  },
  {
   "cell_type": "markdown",
   "id": "dbddecec",
   "metadata": {},
   "source": [
    "Assign the generated data to variable X for use in KMeans."
   ]
  },
  {
   "cell_type": "code",
   "execution_count": null,
   "id": "35695a55",
   "metadata": {},
   "outputs": [],
   "source": [
    "X = data"
   ]
  },
  {
   "cell_type": "markdown",
   "id": "1a69efb6",
   "metadata": {},
   "source": [
    "Fit the custom KMeans model to the data and get the predicted cluster labels."
   ]
  },
  {
   "cell_type": "code",
   "execution_count": null,
   "id": "f6a5e724",
   "metadata": {},
   "outputs": [],
   "source": [
    "y_pred = kmeans.fit(X)"
   ]
  },
  {
   "cell_type": "markdown",
   "id": "ac55576e",
   "metadata": {},
   "source": [
    "Print the predicted cluster labels from the KMeans model."
   ]
  },
  {
   "cell_type": "code",
   "execution_count": null,
   "id": "19706477",
   "metadata": {},
   "outputs": [],
   "source": [
    "print(y_pred)"
   ]
  }
 ],
 "metadata": {
  "kernelspec": {
   "display_name": "Python 3",
   "language": "python",
   "name": "python3"
  },
  "language_info": {
   "codemirror_mode": {
    "name": "ipython",
    "version": 3
   },
   "file_extension": ".py",
   "mimetype": "text/x-python",
   "name": "python",
   "nbconvert_exporter": "python",
   "pygments_lexer": "ipython3",
   "version": "3.8.5"
  }
 },
 "nbformat": 4,
 "nbformat_minor": 5
}
