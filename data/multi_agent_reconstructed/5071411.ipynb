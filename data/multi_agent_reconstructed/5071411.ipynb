{
 "cells": [
  {
   "cell_type": "markdown",
   "id": "939d4e30",
   "metadata": {},
   "source": [
    "Read the CSV file into a DataFrame called df1."
   ]
  },
  {
   "cell_type": "code",
   "execution_count": null,
   "id": "f74405df",
   "metadata": {},
   "outputs": [],
   "source": [
    "import pandas as pd\n",
    "\n",
    "df1 = pd.read_csv('imagelist.csv')"
   ]
  },
  {
   "cell_type": "markdown",
   "id": "53146c46",
   "metadata": {},
   "source": [
    "Display the first few rows of df1 for a quick data preview."
   ]
  },
  {
   "cell_type": "code",
   "execution_count": null,
   "id": "2821ac45",
   "metadata": {},
   "outputs": [],
   "source": [
    "print(df1.head())"
   ]
  },
  {
   "cell_type": "markdown",
   "id": "1eed33c1",
   "metadata": {},
   "source": [
    "Function to create a distribution plot for each column in the DataFrame."
   ]
  },
  {
   "cell_type": "code",
   "execution_count": null,
   "id": "d83dde05",
   "metadata": {},
   "outputs": [],
   "source": [
    "def plotPerColumnDistribution(df):\n",
    "    import matplotlib.pyplot as plt\n",
    "    df.hist(bins=30, figsize=(15,10))\n",
    "    plt.show()"
   ]
  },
  {
   "cell_type": "markdown",
   "id": "9273135c",
   "metadata": {},
   "source": [
    "Call the function to generate distribution plots for df1."
   ]
  },
  {
   "cell_type": "code",
   "execution_count": null,
   "id": "2b84d8b0",
   "metadata": {},
   "outputs": [],
   "source": [
    "plotPerColumnDistribution(df1)"
   ]
  },
  {
   "cell_type": "markdown",
   "id": "d8c7dbde",
   "metadata": {},
   "source": [
    "Function to plot the correlation matrix using seaborn."
   ]
  },
  {
   "cell_type": "code",
   "execution_count": null,
   "id": "f17e827b",
   "metadata": {},
   "outputs": [],
   "source": [
    "def plotCorrelationMatrix(df):\n",
    "    import seaborn as sns\n",
    "    import matplotlib.pyplot as plt\n",
    "    corr = df.corr()\n",
    "    sns.heatmap(corr, annot=True)\n",
    "    plt.show()"
   ]
  },
  {
   "cell_type": "markdown",
   "id": "9c502e6f",
   "metadata": {},
   "source": [
    "Call the function to display the correlation matrix for df1."
   ]
  },
  {
   "cell_type": "code",
   "execution_count": null,
   "id": "aadd49d1",
   "metadata": {},
   "outputs": [],
   "source": [
    "plotCorrelationMatrix(df1)"
   ]
  },
  {
   "cell_type": "markdown",
   "id": "569f81df",
   "metadata": {},
   "source": [
    "Function to create a scatter matrix plot for the DataFrame."
   ]
  },
  {
   "cell_type": "code",
   "execution_count": null,
   "id": "fd5a0833",
   "metadata": {},
   "outputs": [],
   "source": [
    "def plotScatterMatrix(df):\n",
    "    from pandas.plotting import scatter_matrix\n",
    "    import matplotlib.pyplot as plt\n",
    "    scatter_matrix(df, figsize=(15, 10))\n",
    "    plt.show()"
   ]
  },
  {
   "cell_type": "markdown",
   "id": "d570f38f",
   "metadata": {},
   "source": [
    "Call the function to generate the scatter matrix for df1."
   ]
  },
  {
   "cell_type": "code",
   "execution_count": null,
   "id": "18f9a544",
   "metadata": {},
   "outputs": [],
   "source": [
    "plotScatterMatrix(df1)"
   ]
  }
 ],
 "metadata": {
  "kernelspec": {
   "display_name": "Python 3",
   "language": "python",
   "name": "python3"
  },
  "language_info": {
   "codemirror_mode": {
    "name": "ipython",
    "version": 3
   },
   "file_extension": ".py",
   "mimetype": "text/x-python",
   "name": "python",
   "nbconvert_exporter": "python",
   "pygments_lexer": "ipython3",
   "version": "3.8.5"
  }
 },
 "nbformat": 4,
 "nbformat_minor": 5
}
