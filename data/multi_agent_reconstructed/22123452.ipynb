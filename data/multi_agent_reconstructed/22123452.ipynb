{
 "cells": [
  {
   "cell_type": "markdown",
   "id": "e100516c",
   "metadata": {},
   "source": [
    "Load the CSV file into a DataFrame using pandas."
   ]
  },
  {
   "cell_type": "code",
   "execution_count": null,
   "id": "f89ae3a5",
   "metadata": {},
   "outputs": [],
   "source": [
    "import pandas as pd\n",
    "\n",
    "df = pd.read_csv('India_Census_2011_Data.csv')"
   ]
  },
  {
   "cell_type": "markdown",
   "id": "ee1d1397",
   "metadata": {},
   "source": [
    "Display the first few rows of the DataFrame for inspection."
   ]
  },
  {
   "cell_type": "code",
   "execution_count": null,
   "id": "cacf04b4",
   "metadata": {},
   "outputs": [],
   "source": [
    "df.head()"
   ]
  },
  {
   "cell_type": "markdown",
   "id": "c942a319",
   "metadata": {},
   "source": [
    "Convert the 'Population' column to integer type for manipulation."
   ]
  },
  {
   "cell_type": "code",
   "execution_count": null,
   "id": "366c29d3",
   "metadata": {},
   "outputs": [],
   "source": [
    "df['Population'] = df['Population'].astype(int)"
   ]
  },
  {
   "cell_type": "markdown",
   "id": "63bd19f0",
   "metadata": {},
   "source": [
    "Remove any rows with missing values from the DataFrame."
   ]
  },
  {
   "cell_type": "code",
   "execution_count": null,
   "id": "26d747b5",
   "metadata": {},
   "outputs": [],
   "source": [
    "df = df.dropna()"
   ]
  }
 ],
 "metadata": {
  "kernelspec": {
   "display_name": "Python 3",
   "language": "python",
   "name": "python3"
  },
  "language_info": {
   "codemirror_mode": {
    "name": "ipython",
    "version": 3
   },
   "file_extension": ".py",
   "mimetype": "text/x-python",
   "name": "python",
   "nbconvert_exporter": "python",
   "pygments_lexer": "ipython3",
   "version": "3.8.5"
  }
 },
 "nbformat": 4,
 "nbformat_minor": 5
}
