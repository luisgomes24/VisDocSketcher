{
 "cells": [
  {
   "cell_type": "markdown",
   "id": "677824f2",
   "metadata": {},
   "source": [
    "Load the input data from a CSV file using Pandas."
   ]
  },
  {
   "cell_type": "code",
   "execution_count": null,
   "id": "6c46184e",
   "metadata": {},
   "outputs": [],
   "source": [
    "import pandas as pd\n",
    "\n",
    "data = pd.read_csv('input_data.csv')"
   ]
  },
  {
   "cell_type": "markdown",
   "id": "e66434e2",
   "metadata": {},
   "source": [
    "Select the relevant features from the data source for model training."
   ]
  },
  {
   "cell_type": "code",
   "execution_count": null,
   "id": "72259bf5",
   "metadata": {},
   "outputs": [],
   "source": [
    "data_source = data[['feature1', 'feature2', 'target']]"
   ]
  },
  {
   "cell_type": "markdown",
   "id": "20be9fcb",
   "metadata": {},
   "source": [
    "Split the dataset into training and testing sets."
   ]
  },
  {
   "cell_type": "code",
   "execution_count": null,
   "id": "1b356225",
   "metadata": {},
   "outputs": [],
   "source": [
    "from sklearn.model_selection import train_test_split\n",
    "X_train, X_test, y_train, y_test = train_test_split(data_source.iloc[:, :-1], data_source.iloc[:, -1], test_size=0.2)"
   ]
  },
  {
   "cell_type": "markdown",
   "id": "16665ebc",
   "metadata": {},
   "source": [
    "Initialize and train a linear regression model on the training data."
   ]
  },
  {
   "cell_type": "code",
   "execution_count": null,
   "id": "3fdb9907",
   "metadata": {},
   "outputs": [],
   "source": [
    "from sklearn.linear_model import LinearRegression\n",
    "model = LinearRegression()\n",
    "model.fit(X_train, y_train)"
   ]
  },
  {
   "cell_type": "markdown",
   "id": "ba3fe0b2",
   "metadata": {},
   "source": [
    "Make predictions using the trained model on the test data."
   ]
  },
  {
   "cell_type": "code",
   "execution_count": null,
   "id": "5bbb60c0",
   "metadata": {},
   "outputs": [],
   "source": [
    "import matplotlib.pyplot as plt\n",
    "import seaborn as sns\n",
    "\n",
    "predictions = model.predict(X_test)"
   ]
  },
  {
   "cell_type": "markdown",
   "id": "c14f1d55",
   "metadata": {},
   "source": [
    "Create and save a scatter plot comparing actual vs. predicted values."
   ]
  },
  {
   "cell_type": "code",
   "execution_count": null,
   "id": "9c2f7fb9",
   "metadata": {},
   "outputs": [],
   "source": [
    "plt.scatter(X_test['feature1'], y_test, color='blue', label='Actual')\n",
    "plt.scatter(X_test['feature1'], predictions, color='red', label='Predicted')\n",
    "plt.xlabel('Feature 1')\n",
    "plt.ylabel('Target')\n",
    "plt.legend()\n",
    "plt.title('Scatter Plot')\n",
    "plt.savefig('scatter_plot.png')"
   ]
  },
  {
   "cell_type": "markdown",
   "id": "37fd8983",
   "metadata": {},
   "source": [
    "Create and save a histogram of the target variable."
   ]
  },
  {
   "cell_type": "code",
   "execution_count": null,
   "id": "b2664724",
   "metadata": {},
   "outputs": [],
   "source": [
    "plt.hist(data_source['target'], bins=10, color='orange', edgecolor='black')\n",
    "plt.xlabel('Value Range')\n",
    "plt.ylabel('Frequency')\n",
    "plt.title('Histogram')\n",
    "plt.savefig('histogram.png')"
   ]
  }
 ],
 "metadata": {
  "kernelspec": {
   "display_name": "Python 3",
   "language": "python",
   "name": "python3"
  },
  "language_info": {
   "codemirror_mode": {
    "name": "ipython",
    "version": 3
   },
   "file_extension": ".py",
   "mimetype": "text/x-python",
   "name": "python",
   "nbconvert_exporter": "python",
   "pygments_lexer": "ipython3",
   "version": "3.8.5"
  }
 },
 "nbformat": 4,
 "nbformat_minor": 5
}
