{
 "cells": [
  {
   "cell_type": "markdown",
   "id": "8fb0ba98",
   "metadata": {},
   "source": [
    "Read the first CSV file into a DataFrame named df1."
   ]
  },
  {
   "cell_type": "code",
   "execution_count": null,
   "id": "55ed0028",
   "metadata": {},
   "outputs": [],
   "source": [
    "import pandas as pd\n",
    "df1 = pd.read_csv('lol_version_Date.csv')"
   ]
  },
  {
   "cell_type": "markdown",
   "id": "bd6f33c2",
   "metadata": {},
   "source": [
    "Generate distribution graphs for df1."
   ]
  },
  {
   "cell_type": "code",
   "execution_count": null,
   "id": "8fdc8793",
   "metadata": {},
   "outputs": [],
   "source": [
    "import seaborn as sns\n",
    "import matplotlib.pyplot as plt\n",
    "sns.histplot(df1)\n",
    "plt.title('Distribution Graphs of df1')\n",
    "plt.show()"
   ]
  },
  {
   "cell_type": "markdown",
   "id": "7607891f",
   "metadata": {},
   "source": [
    "Compute the correlation matrix for df1."
   ]
  },
  {
   "cell_type": "code",
   "execution_count": null,
   "id": "092baaea",
   "metadata": {},
   "outputs": [],
   "source": [
    "correlation_matrix_df1 = df1.corr()"
   ]
  },
  {
   "cell_type": "markdown",
   "id": "4b0d8c70",
   "metadata": {},
   "source": [
    "Create a scatter matrix for df1."
   ]
  },
  {
   "cell_type": "code",
   "execution_count": null,
   "id": "ee8a5e81",
   "metadata": {},
   "outputs": [],
   "source": [
    "from pandas.plotting import scatter_matrix\n",
    "scatter_matrix(df1)\n",
    "plt.title('Scatter Matrix of df1')\n",
    "plt.show()"
   ]
  },
  {
   "cell_type": "markdown",
   "id": "8298dc07",
   "metadata": {},
   "source": [
    "Read the second CSV file into a DataFrame named df2."
   ]
  },
  {
   "cell_type": "code",
   "execution_count": null,
   "id": "0e706441",
   "metadata": {},
   "outputs": [],
   "source": [
    "df2 = pd.read_csv('lose_team_stats.csv')"
   ]
  },
  {
   "cell_type": "markdown",
   "id": "4444a2cd",
   "metadata": {},
   "source": [
    "Generate distribution graphs for df2."
   ]
  },
  {
   "cell_type": "code",
   "execution_count": null,
   "id": "5490f0a1",
   "metadata": {},
   "outputs": [],
   "source": [
    "sns.histplot(df2)\n",
    "plt.title('Distribution Graphs of df2')\n",
    "plt.show()"
   ]
  },
  {
   "cell_type": "markdown",
   "id": "05063ce3",
   "metadata": {},
   "source": [
    "Compute the correlation matrix for df2."
   ]
  },
  {
   "cell_type": "code",
   "execution_count": null,
   "id": "689df6a8",
   "metadata": {},
   "outputs": [],
   "source": [
    "correlation_matrix_df2 = df2.corr()"
   ]
  },
  {
   "cell_type": "markdown",
   "id": "8c7f6475",
   "metadata": {},
   "source": [
    "Create a scatter matrix for df2."
   ]
  },
  {
   "cell_type": "code",
   "execution_count": null,
   "id": "1bb0e9f2",
   "metadata": {},
   "outputs": [],
   "source": [
    "scatter_matrix(df2)\n",
    "plt.title('Scatter Matrix of df2')\n",
    "plt.show()"
   ]
  },
  {
   "cell_type": "markdown",
   "id": "2e752d96",
   "metadata": {},
   "source": [
    "Read the third CSV file into a DataFrame named df3."
   ]
  },
  {
   "cell_type": "code",
   "execution_count": null,
   "id": "24bc1821",
   "metadata": {},
   "outputs": [],
   "source": [
    "df3 = pd.read_csv('stats.csv')"
   ]
  },
  {
   "cell_type": "markdown",
   "id": "4f81dc21",
   "metadata": {},
   "source": [
    "Generate distribution graphs for df3."
   ]
  },
  {
   "cell_type": "code",
   "execution_count": null,
   "id": "3614c38a",
   "metadata": {},
   "outputs": [],
   "source": [
    "sns.histplot(df3)\n",
    "plt.title('Distribution Graphs of df3')\n",
    "plt.show()"
   ]
  },
  {
   "cell_type": "markdown",
   "id": "9aeac3ff",
   "metadata": {},
   "source": [
    "Compute the correlation matrix for df3."
   ]
  },
  {
   "cell_type": "code",
   "execution_count": null,
   "id": "f42c0848",
   "metadata": {},
   "outputs": [],
   "source": [
    "correlation_matrix_df3 = df3.corr()"
   ]
  },
  {
   "cell_type": "markdown",
   "id": "1d4ca1a8",
   "metadata": {},
   "source": [
    "Create a scatter matrix for df3."
   ]
  },
  {
   "cell_type": "code",
   "execution_count": null,
   "id": "f22b608c",
   "metadata": {},
   "outputs": [],
   "source": [
    "scatter_matrix(df3)\n",
    "plt.title('Scatter Matrix of df3')\n",
    "plt.show()"
   ]
  }
 ],
 "metadata": {
  "kernelspec": {
   "display_name": "Python 3",
   "language": "python",
   "name": "python3"
  },
  "language_info": {
   "codemirror_mode": {
    "name": "ipython",
    "version": 3
   },
   "file_extension": ".py",
   "mimetype": "text/x-python",
   "name": "python",
   "nbconvert_exporter": "python",
   "pygments_lexer": "ipython3",
   "version": "3.8.5"
  }
 },
 "nbformat": 4,
 "nbformat_minor": 5
}
