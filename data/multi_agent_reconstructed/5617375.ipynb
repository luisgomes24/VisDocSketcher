{
 "cells": [
  {
   "cell_type": "markdown",
   "id": "65ec98e2",
   "metadata": {},
   "source": [
    "Read the training data from 'train.csv' into a DataFrame."
   ]
  },
  {
   "cell_type": "code",
   "execution_count": null,
   "id": "1209b2b0",
   "metadata": {},
   "outputs": [],
   "source": [
    "import pandas as pd\n",
    "train = pd.read_csv('train.csv')"
   ]
  },
  {
   "cell_type": "markdown",
   "id": "99594487",
   "metadata": {},
   "source": [
    "Read the test data from 'test.csv' into a DataFrame."
   ]
  },
  {
   "cell_type": "code",
   "execution_count": null,
   "id": "00893f31",
   "metadata": {},
   "outputs": [],
   "source": [
    "import pandas as pd\n",
    "test = pd.read_csv('test.csv')"
   ]
  },
  {
   "cell_type": "markdown",
   "id": "56994a56",
   "metadata": {},
   "source": [
    "Extract the target variable from the training DataFrame."
   ]
  },
  {
   "cell_type": "code",
   "execution_count": null,
   "id": "70ac2180",
   "metadata": {},
   "outputs": [],
   "source": [
    "y = train['target']"
   ]
  },
  {
   "cell_type": "markdown",
   "id": "ed5014a6",
   "metadata": {},
   "source": [
    "Fit the tokenizer on the texts from the training data."
   ]
  },
  {
   "cell_type": "code",
   "execution_count": null,
   "id": "be76adf5",
   "metadata": {},
   "outputs": [],
   "source": [
    "from keras.preprocessing.text import Tokenizer\n",
    "\n",
    "tokenizer = Tokenizer()\n",
    "tokenizer.fit_on_texts(train['text'])"
   ]
  },
  {
   "cell_type": "markdown",
   "id": "8e6a819e",
   "metadata": {},
   "source": [
    "Convert texts from both training and test sets to sequences."
   ]
  },
  {
   "cell_type": "code",
   "execution_count": null,
   "id": "8d3ff1ee",
   "metadata": {},
   "outputs": [],
   "source": [
    "train_sequences = tokenizer.texts_to_sequences(train['text'])\n",
    "test_sequences = tokenizer.texts_to_sequences(test['text'])"
   ]
  },
  {
   "cell_type": "markdown",
   "id": "a0481e33",
   "metadata": {},
   "source": [
    "Define and compile an LSTM model for binary classification."
   ]
  },
  {
   "cell_type": "code",
   "execution_count": null,
   "id": "f72192d1",
   "metadata": {},
   "outputs": [],
   "source": [
    "from keras.models import Sequential\n",
    "from keras.layers import LSTM, Dense, Embedding\n",
    "\n",
    "model = Sequential()\n",
    "model.add(Embedding(input_dim=len(tokenizer.word_index)+1, output_dim=128))\n",
    "model.add(LSTM(100))\n",
    "model.add(Dense(1, activation='sigmoid'))\n",
    "model.compile(loss='binary_crossentropy', optimizer='adam', metrics=['accuracy'])"
   ]
  },
  {
   "cell_type": "markdown",
   "id": "e0441a6d",
   "metadata": {},
   "source": [
    "Train the LSTM model on the training sequences and target."
   ]
  },
  {
   "cell_type": "code",
   "execution_count": null,
   "id": "46a47441",
   "metadata": {},
   "outputs": [],
   "source": [
    "model.fit(train_sequences, y, epochs=5, batch_size=32)"
   ]
  },
  {
   "cell_type": "markdown",
   "id": "80b7cc6b",
   "metadata": {},
   "source": [
    "Make predictions on the test set using the trained model."
   ]
  },
  {
   "cell_type": "code",
   "execution_count": null,
   "id": "6c2584c4",
   "metadata": {},
   "outputs": [],
   "source": [
    "predictions = model.predict(test_sequences)"
   ]
  },
  {
   "cell_type": "markdown",
   "id": "1ee5dad0",
   "metadata": {},
   "source": [
    "Create a submission DataFrame combining IDs and predictions."
   ]
  },
  {
   "cell_type": "code",
   "execution_count": null,
   "id": "a6b5d58e",
   "metadata": {},
   "outputs": [],
   "source": [
    "submission = pd.DataFrame({'ID': test['ID'], 'Prediction': predictions.flatten()})"
   ]
  },
  {
   "cell_type": "markdown",
   "id": "affbba42",
   "metadata": {},
   "source": [
    "Save the submission DataFrame to a CSV file."
   ]
  },
  {
   "cell_type": "code",
   "execution_count": null,
   "id": "d62c9ff6",
   "metadata": {},
   "outputs": [],
   "source": [
    "submission.to_csv('submission.csv', index=False)"
   ]
  }
 ],
 "metadata": {
  "kernelspec": {
   "display_name": "Python 3",
   "language": "python",
   "name": "python3"
  },
  "language_info": {
   "codemirror_mode": {
    "name": "ipython",
    "version": 3
   },
   "file_extension": ".py",
   "mimetype": "text/x-python",
   "name": "python",
   "nbconvert_exporter": "python",
   "pygments_lexer": "ipython3",
   "version": "3.8.5"
  }
 },
 "nbformat": 4,
 "nbformat_minor": 5
}
