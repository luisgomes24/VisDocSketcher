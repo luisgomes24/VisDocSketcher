{
 "cells": [
  {
   "cell_type": "markdown",
   "id": "b959f08e",
   "metadata": {},
   "source": [
    "Load training data from a CSV file into a DataFrame."
   ]
  },
  {
   "cell_type": "code",
   "execution_count": null,
   "id": "d82b4178",
   "metadata": {},
   "outputs": [],
   "source": [
    "import pandas as pd\n",
    "X_full = pd.read_csv('train.csv')"
   ]
  },
  {
   "cell_type": "markdown",
   "id": "c31dc070",
   "metadata": {},
   "source": [
    "Select specific features from the full dataset."
   ]
  },
  {
   "cell_type": "code",
   "execution_count": null,
   "id": "18c31e44",
   "metadata": {},
   "outputs": [],
   "source": [
    "X = X_full[['feature1', 'feature2', 'feature3']]"
   ]
  },
  {
   "cell_type": "markdown",
   "id": "9e9558bf",
   "metadata": {},
   "source": [
    "Split the dataset into training and testing sets."
   ]
  },
  {
   "cell_type": "code",
   "execution_count": null,
   "id": "a41e289d",
   "metadata": {},
   "outputs": [],
   "source": [
    "from sklearn.model_selection import train_test_split\n",
    "X_train, X_test = train_test_split(X, test_size=0.2)"
   ]
  },
  {
   "cell_type": "markdown",
   "id": "da684847",
   "metadata": {},
   "source": [
    "Extract the target variable from the full dataset."
   ]
  },
  {
   "cell_type": "code",
   "execution_count": null,
   "id": "01322b14",
   "metadata": {},
   "outputs": [],
   "source": [
    "y_full = X_full['target']"
   ]
  },
  {
   "cell_type": "markdown",
   "id": "3c6316f9",
   "metadata": {},
   "source": [
    "Split the target variable into training and testing sets."
   ]
  },
  {
   "cell_type": "code",
   "execution_count": null,
   "id": "8f07916f",
   "metadata": {},
   "outputs": [],
   "source": [
    "y_train, y_test = train_test_split(y_full, test_size=0.2)"
   ]
  },
  {
   "cell_type": "markdown",
   "id": "51b8452e",
   "metadata": {},
   "source": [
    "Train three RandomForestRegressor models using training features and targets."
   ]
  },
  {
   "cell_type": "code",
   "execution_count": null,
   "id": "77007d6d",
   "metadata": {},
   "outputs": [],
   "source": [
    "from sklearn.ensemble import RandomForestRegressor\n",
    "model_1 = RandomForestRegressor().fit(X_train, y_train)\n",
    "model_2 = RandomForestRegressor().fit(X_train, y_train)\n",
    "model_3 = RandomForestRegressor().fit(X_train, y_train)"
   ]
  },
  {
   "cell_type": "markdown",
   "id": "05aa49ad",
   "metadata": {},
   "source": [
    "Use the best model to make predictions on the test set."
   ]
  },
  {
   "cell_type": "code",
   "execution_count": null,
   "id": "1427bc30",
   "metadata": {},
   "outputs": [],
   "source": [
    "preds_test = model_3.predict(X_test)"
   ]
  },
  {
   "cell_type": "markdown",
   "id": "ad620d32",
   "metadata": {},
   "source": [
    "Create a DataFrame for the submission with predictions."
   ]
  },
  {
   "cell_type": "code",
   "execution_count": null,
   "id": "1fe1b83b",
   "metadata": {},
   "outputs": [],
   "source": [
    "submission = pd.DataFrame({'predictions': preds_test})"
   ]
  },
  {
   "cell_type": "markdown",
   "id": "b0f7b057",
   "metadata": {},
   "source": [
    "Save the submission DataFrame to a CSV file."
   ]
  },
  {
   "cell_type": "code",
   "execution_count": null,
   "id": "d8c8ddd7",
   "metadata": {},
   "outputs": [],
   "source": [
    "submission.to_csv('submission.csv', index=False)"
   ]
  }
 ],
 "metadata": {
  "kernelspec": {
   "display_name": "Python 3",
   "language": "python",
   "name": "python3"
  },
  "language_info": {
   "codemirror_mode": {
    "name": "ipython",
    "version": 3
   },
   "file_extension": ".py",
   "mimetype": "text/x-python",
   "name": "python",
   "nbconvert_exporter": "python",
   "pygments_lexer": "ipython3",
   "version": "3.8.5"
  }
 },
 "nbformat": 4,
 "nbformat_minor": 5
}
