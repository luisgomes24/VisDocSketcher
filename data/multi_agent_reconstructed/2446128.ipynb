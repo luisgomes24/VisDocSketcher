{
 "cells": [
  {
   "cell_type": "markdown",
   "id": "327787b7",
   "metadata": {},
   "source": [
    "Import the FastAI library and create a Path object pointing to the directory with images of blood cells."
   ]
  },
  {
   "cell_type": "code",
   "execution_count": null,
   "id": "36d9ecfe",
   "metadata": {},
   "outputs": [],
   "source": [
    "from fastai.vision.all import *\n",
    "path = Path('path/to/images')"
   ]
  },
  {
   "cell_type": "markdown",
   "id": "eb391647",
   "metadata": {},
   "source": [
    "Create DataLoaders with training and validation datasets by splitting the images."
   ]
  },
  {
   "cell_type": "code",
   "execution_count": null,
   "id": "2a640492",
   "metadata": {},
   "outputs": [],
   "source": [
    "dls = ImageDataLoaders.from_folder(path, valid_pct=0.2, item_tfms=Resize(224))"
   ]
  },
  {
   "cell_type": "markdown",
   "id": "dc3ff031",
   "metadata": {},
   "source": [
    "Initialize the Learner using the ResNet34 architecture and specify the accuracy metric."
   ]
  },
  {
   "cell_type": "code",
   "execution_count": null,
   "id": "da171962",
   "metadata": {},
   "outputs": [],
   "source": [
    "learn = cnn_learner(dls, resnet34, metrics=accuracy)"
   ]
  },
  {
   "cell_type": "markdown",
   "id": "1000588d",
   "metadata": {},
   "source": [
    "Train the model for 1 epoch, tuning the parameters for better performance."
   ]
  },
  {
   "cell_type": "code",
   "execution_count": null,
   "id": "6f2eed12",
   "metadata": {},
   "outputs": [],
   "source": [
    "learn.fine_tune(1)"
   ]
  },
  {
   "cell_type": "markdown",
   "id": "e5af9655",
   "metadata": {},
   "source": [
    "Perform classification interpretation to analyze the insights from the trained model."
   ]
  },
  {
   "cell_type": "code",
   "execution_count": null,
   "id": "f7789f09",
   "metadata": {},
   "outputs": [],
   "source": [
    "interp = ClassificationInterpretation.from_learner(learn)"
   ]
  },
  {
   "cell_type": "markdown",
   "id": "c2db944c",
   "metadata": {},
   "source": [
    "Generate the confusion matrix to visualize the performance of the model."
   ]
  },
  {
   "cell_type": "code",
   "execution_count": null,
   "id": "0619aa19",
   "metadata": {},
   "outputs": [],
   "source": [
    "conf_matrix = interp.confusion_matrix()"
   ]
  },
  {
   "cell_type": "markdown",
   "id": "a9d0c7c0",
   "metadata": {},
   "source": [
    "Obtain class probabilities (predictions) for validation data."
   ]
  },
  {
   "cell_type": "code",
   "execution_count": null,
   "id": "0f14efc7",
   "metadata": {},
   "outputs": [],
   "source": [
    "preds = learn.get_preds()"
   ]
  },
  {
   "cell_type": "markdown",
   "id": "a1ba7e34",
   "metadata": {},
   "source": [
    "Generate a classification report summarizing precision, recall, and F1-score."
   ]
  },
  {
   "cell_type": "code",
   "execution_count": null,
   "id": "6969ff78",
   "metadata": {},
   "outputs": [],
   "source": [
    "report = classification_report(*preds)"
   ]
  },
  {
   "cell_type": "markdown",
   "id": "0aa6c8bf",
   "metadata": {},
   "source": [
    "Evaluate the model performance using the validation dataset."
   ]
  },
  {
   "cell_type": "code",
   "execution_count": null,
   "id": "f9fb481f",
   "metadata": {},
   "outputs": [],
   "source": [
    "learn.validate()"
   ]
  }
 ],
 "metadata": {
  "kernelspec": {
   "display_name": "Python 3",
   "language": "python",
   "name": "python3"
  },
  "language_info": {
   "codemirror_mode": {
    "name": "ipython",
    "version": 3
   },
   "file_extension": ".py",
   "mimetype": "text/x-python",
   "name": "python",
   "nbconvert_exporter": "python",
   "pygments_lexer": "ipython3",
   "version": "3.8.5"
  }
 },
 "nbformat": 4,
 "nbformat_minor": 5
}
