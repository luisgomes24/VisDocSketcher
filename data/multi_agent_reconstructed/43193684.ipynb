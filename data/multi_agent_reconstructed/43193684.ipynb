{
 "cells": [
  {
   "cell_type": "markdown",
   "id": "8de2a4f1",
   "metadata": {},
   "source": [
    "Read the training data from 'train_data.csv' into a DataFrame."
   ]
  },
  {
   "cell_type": "code",
   "execution_count": null,
   "id": "5a5335d5",
   "metadata": {},
   "outputs": [],
   "source": [
    "import pandas as pd\n",
    "train_data = pd.read_csv('train_data.csv')"
   ]
  },
  {
   "cell_type": "markdown",
   "id": "73d16304",
   "metadata": {},
   "source": [
    "Read the test data from 'test_sequences.csv' into a DataFrame."
   ]
  },
  {
   "cell_type": "code",
   "execution_count": null,
   "id": "2396b4da",
   "metadata": {},
   "outputs": [],
   "source": [
    "test_data = pd.read_csv('test_sequences.csv')"
   ]
  },
  {
   "cell_type": "markdown",
   "id": "6b0400bb",
   "metadata": {},
   "source": [
    "Compute the percentage of null values in the training data."
   ]
  },
  {
   "cell_type": "code",
   "execution_count": null,
   "id": "1355cec1",
   "metadata": {},
   "outputs": [],
   "source": [
    "train_nulls = train_data.isnull().mean() * 100"
   ]
  },
  {
   "cell_type": "markdown",
   "id": "e9e6a1e8",
   "metadata": {},
   "source": [
    "Compute the percentage of null values in the test data."
   ]
  },
  {
   "cell_type": "code",
   "execution_count": null,
   "id": "3521996f",
   "metadata": {},
   "outputs": [],
   "source": [
    "test_nulls = test_data.isnull().mean() * 100"
   ]
  },
  {
   "cell_type": "markdown",
   "id": "172659c0",
   "metadata": {},
   "source": [
    "Visualize the null percentage in the training data with a bar plot."
   ]
  },
  {
   "cell_type": "code",
   "execution_count": null,
   "id": "0826a8d0",
   "metadata": {},
   "outputs": [],
   "source": [
    "import matplotlib.pyplot as plt\n",
    "train_nulls.plot(kind='bar')\n",
    "plt.title('Null Percentage in Training Data')\n",
    "plt.show()"
   ]
  },
  {
   "cell_type": "markdown",
   "id": "767d7864",
   "metadata": {},
   "source": [
    "Visualize the null percentage in the test data with a bar plot."
   ]
  },
  {
   "cell_type": "code",
   "execution_count": null,
   "id": "722ceca7",
   "metadata": {},
   "outputs": [],
   "source": [
    "test_nulls.plot(kind='bar')\n",
    "plt.title('Null Percentage in Test Data')\n",
    "plt.show()"
   ]
  }
 ],
 "metadata": {
  "kernelspec": {
   "display_name": "Python 3",
   "language": "python",
   "name": "python3"
  },
  "language_info": {
   "codemirror_mode": {
    "name": "ipython",
    "version": 3
   },
   "file_extension": ".py",
   "mimetype": "text/x-python",
   "name": "python",
   "nbconvert_exporter": "python",
   "pygments_lexer": "ipython3",
   "version": "3.8.5"
  }
 },
 "nbformat": 4,
 "nbformat_minor": 5
}
