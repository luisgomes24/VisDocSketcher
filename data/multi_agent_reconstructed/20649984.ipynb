{
 "cells": [
  {
   "cell_type": "markdown",
   "id": "710cdff9",
   "metadata": {},
   "source": [
    "Load the image file and transform it to a tensor suitable for the model."
   ]
  },
  {
   "cell_type": "code",
   "execution_count": null,
   "id": "dd23ef06",
   "metadata": {},
   "outputs": [],
   "source": [
    "from PIL import Image\n",
    "import torchvision.transforms as transforms\n",
    "image = Image.open('path/to/image.jpg')\n",
    "transform = transforms.Compose([\n",
    "    transforms.Resize((224, 224)),\n",
    "    transforms.ToTensor()\n",
    "])\n",
    "test_image = transform(image)"
   ]
  },
  {
   "cell_type": "markdown",
   "id": "9725844d",
   "metadata": {},
   "source": [
    "Load the pre-trained PyTorch model and set it to evaluation mode."
   ]
  },
  {
   "cell_type": "code",
   "execution_count": null,
   "id": "09db1fb3",
   "metadata": {},
   "outputs": [],
   "source": [
    "import torch\n",
    "model = torch.load('path/to/model.pth')\n",
    "model.eval()"
   ]
  },
  {
   "cell_type": "markdown",
   "id": "77472c01",
   "metadata": {},
   "source": [
    "Perform inference by passing the test image through the model to get predictions."
   ]
  },
  {
   "cell_type": "code",
   "execution_count": null,
   "id": "9f8a2206",
   "metadata": {},
   "outputs": [],
   "source": [
    "with torch.no_grad():\n",
    "    input_tensor = test_image.unsqueeze(0)\n",
    "    output = model(input_tensor)"
   ]
  },
  {
   "cell_type": "markdown",
   "id": "384f1034",
   "metadata": {},
   "source": [
    "Use argmax to find the index of the highest probability class from the model's output."
   ]
  },
  {
   "cell_type": "code",
   "execution_count": null,
   "id": "c37359de",
   "metadata": {},
   "outputs": [],
   "source": [
    "predicted_class = output.argmax(dim=1)"
   ]
  }
 ],
 "metadata": {
  "kernelspec": {
   "display_name": "Python 3",
   "language": "python",
   "name": "python3"
  },
  "language_info": {
   "codemirror_mode": {
    "name": "ipython",
    "version": 3
   },
   "file_extension": ".py",
   "mimetype": "text/x-python",
   "name": "python",
   "nbconvert_exporter": "python",
   "pygments_lexer": "ipython3",
   "version": "3.8.5"
  }
 },
 "nbformat": 4,
 "nbformat_minor": 5
}
