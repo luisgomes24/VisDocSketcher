{
 "cells": [
  {
   "cell_type": "markdown",
   "id": "6ab163c0",
   "metadata": {},
   "source": [
    "Read the NFL Play by Play CSV file into a DataFrame."
   ]
  },
  {
   "cell_type": "code",
   "execution_count": null,
   "id": "ebbda831",
   "metadata": {},
   "outputs": [],
   "source": [
    "import pandas as pd\n",
    "nfl_data = pd.read_csv('nfl_play_by_play.csv')"
   ]
  },
  {
   "cell_type": "markdown",
   "id": "3b736627",
   "metadata": {},
   "source": [
    "Count the number of missing values in each column."
   ]
  },
  {
   "cell_type": "code",
   "execution_count": null,
   "id": "7c82a846",
   "metadata": {},
   "outputs": [],
   "source": [
    "missing_values_count = nfl_data.isnull().sum()"
   ]
  },
  {
   "cell_type": "markdown",
   "id": "36cfe03a",
   "metadata": {},
   "source": [
    "Drop columns that contain any missing values."
   ]
  },
  {
   "cell_type": "code",
   "execution_count": null,
   "id": "5f5446fb",
   "metadata": {},
   "outputs": [],
   "source": [
    "columns_with_na_dropped = nfl_data.dropna(axis=1)"
   ]
  },
  {
   "cell_type": "markdown",
   "id": "c491afe4",
   "metadata": {},
   "source": [
    "Calculate the total number of missing values."
   ]
  },
  {
   "cell_type": "code",
   "execution_count": null,
   "id": "805fa778",
   "metadata": {},
   "outputs": [],
   "source": [
    "total_missing = missing_values_count.sum()"
   ]
  },
  {
   "cell_type": "markdown",
   "id": "f80a837e",
   "metadata": {},
   "source": [
    "Read the Building Permits CSV file into a DataFrame."
   ]
  },
  {
   "cell_type": "code",
   "execution_count": null,
   "id": "476ef875",
   "metadata": {},
   "outputs": [],
   "source": [
    "sf_permits = pd.read_csv('building_permits.csv')"
   ]
  },
  {
   "cell_type": "markdown",
   "id": "673e78b9",
   "metadata": {},
   "source": [
    "Count the number of missing values in each column of permits."
   ]
  },
  {
   "cell_type": "code",
   "execution_count": null,
   "id": "00ec2312",
   "metadata": {},
   "outputs": [],
   "source": [
    "sf_missing_values_count = sf_permits.isnull().sum()"
   ]
  },
  {
   "cell_type": "markdown",
   "id": "e8f4aa5a",
   "metadata": {},
   "source": [
    "Drop columns with any missing values in permits."
   ]
  },
  {
   "cell_type": "code",
   "execution_count": null,
   "id": "37ec7d83",
   "metadata": {},
   "outputs": [],
   "source": [
    "sf_columns_with_na_dropped = sf_permits.dropna(axis=1)"
   ]
  },
  {
   "cell_type": "markdown",
   "id": "e529d306",
   "metadata": {},
   "source": [
    "Calculate the total number of missing values in the permits data."
   ]
  },
  {
   "cell_type": "code",
   "execution_count": null,
   "id": "b7e20a8c",
   "metadata": {},
   "outputs": [],
   "source": [
    "sf_total_missing = sf_missing_values_count.sum()"
   ]
  },
  {
   "cell_type": "markdown",
   "id": "a385bc00",
   "metadata": {},
   "source": [
    "Calculate the total number of cells in the NFL DataFrame."
   ]
  },
  {
   "cell_type": "code",
   "execution_count": null,
   "id": "21885844",
   "metadata": {},
   "outputs": [],
   "source": [
    "total_cells = nfl_data.size"
   ]
  },
  {
   "cell_type": "markdown",
   "id": "b869e1e3",
   "metadata": {},
   "source": [
    "Calculate the total number of cells in the Building Permits DataFrame."
   ]
  },
  {
   "cell_type": "code",
   "execution_count": null,
   "id": "1ba54005",
   "metadata": {},
   "outputs": [],
   "source": [
    "sf_total_cells = sf_permits.size"
   ]
  }
 ],
 "metadata": {
  "kernelspec": {
   "display_name": "Python 3",
   "language": "python",
   "name": "python3"
  },
  "language_info": {
   "codemirror_mode": {
    "name": "ipython",
    "version": 3
   },
   "file_extension": ".py",
   "mimetype": "text/x-python",
   "name": "python",
   "nbconvert_exporter": "python",
   "pygments_lexer": "ipython3",
   "version": "3.8.5"
  }
 },
 "nbformat": 4,
 "nbformat_minor": 5
}
