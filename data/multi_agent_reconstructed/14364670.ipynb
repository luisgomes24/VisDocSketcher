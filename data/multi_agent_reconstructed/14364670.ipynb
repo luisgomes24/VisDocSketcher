{
 "cells": [
  {
   "cell_type": "markdown",
   "id": "91a7c0af",
   "metadata": {},
   "source": [
    "Generate an input feature array 'X' with 100 random squared values."
   ]
  },
  {
   "cell_type": "code",
   "execution_count": null,
   "id": "848103c5",
   "metadata": {},
   "outputs": [],
   "source": [
    "import numpy as np\n",
    "\n",
    "np.random.seed(0)\n",
    "X = np.random.rand(100, 1) ** 2"
   ]
  },
  {
   "cell_type": "markdown",
   "id": "493e4998",
   "metadata": {},
   "source": [
    "Create target output 'y' based on 'X' with added random noise."
   ]
  },
  {
   "cell_type": "code",
   "execution_count": null,
   "id": "a1d70a31",
   "metadata": {},
   "outputs": [],
   "source": [
    "y = 2 * X.flatten() + np.random.randn(100) * 0.1"
   ]
  },
  {
   "cell_type": "markdown",
   "id": "e1b4442d",
   "metadata": {},
   "source": [
    "Initialize polynomial regression and score lists for degrees 1 to 8."
   ]
  },
  {
   "cell_type": "code",
   "execution_count": null,
   "id": "fc2d1026",
   "metadata": {},
   "outputs": [],
   "source": [
    "from sklearn.preprocessing import PolynomialFeatures\n",
    "from sklearn.linear_model import LinearRegression\n",
    "from sklearn.pipeline import make_pipeline\n",
    "\n",
    "degrees = range(1, 9)\n",
    "tr_scores = []\n",
    "te_scores = []"
   ]
  },
  {
   "cell_type": "markdown",
   "id": "f2f3baca",
   "metadata": {},
   "source": [
    "Train polynomial regression models and store training and testing scores."
   ]
  },
  {
   "cell_type": "code",
   "execution_count": null,
   "id": "d6da6e6c",
   "metadata": {},
   "outputs": [],
   "source": [
    "for degree in degrees:\n",
    "    model = make_pipeline(PolynomialFeatures(degree), LinearRegression())\n",
    "    model.fit(X, y)\n",
    "    tr_scores.append(model.score(X, y))\n",
    "    te_scores.append(model.score(X2, y2))"
   ]
  },
  {
   "cell_type": "markdown",
   "id": "9a56343d",
   "metadata": {},
   "source": [
    "Create an array 'xf' of 1000 evenly spaced points for prediction plotting."
   ]
  },
  {
   "cell_type": "code",
   "execution_count": null,
   "id": "efedd80a",
   "metadata": {},
   "outputs": [],
   "source": [
    "xf = np.linspace(0, 1, 1000).reshape(-1, 1)"
   ]
  },
  {
   "cell_type": "markdown",
   "id": "37663845",
   "metadata": {},
   "source": [
    "Initialize a plot with a specified figure size."
   ]
  },
  {
   "cell_type": "code",
   "execution_count": null,
   "id": "2307350a",
   "metadata": {},
   "outputs": [],
   "source": [
    "import matplotlib.pyplot as plt\n",
    "\n",
    "plt.figure(figsize=(12, 8))"
   ]
  },
  {
   "cell_type": "markdown",
   "id": "0afaff55",
   "metadata": {},
   "source": [
    "Plot predictions for each polynomial degree."
   ]
  },
  {
   "cell_type": "code",
   "execution_count": null,
   "id": "f2d3d4e8",
   "metadata": {},
   "outputs": [],
   "source": [
    "for degree in degrees:\n",
    "    plt.plot(xf, model.predict(xf), label=f'Degree {degree}')"
   ]
  },
  {
   "cell_type": "markdown",
   "id": "82dee92c",
   "metadata": {},
   "source": [
    "Display training data and polynomial regression results on the graph."
   ]
  },
  {
   "cell_type": "code",
   "execution_count": null,
   "id": "f0970ed8",
   "metadata": {},
   "outputs": [],
   "source": [
    "plt.scatter(X, y, color='red')\n",
    "plt.title('Polynomial Regression Results')\n",
    "plt.xlabel('Input Feature (X)')\n",
    "plt.ylabel('Target Output (y)')\n",
    "plt.legend()\n",
    "plt.show()"
   ]
  },
  {
   "cell_type": "markdown",
   "id": "11662f32",
   "metadata": {},
   "source": [
    "Generate a new input feature array 'X2' for testing and corresponding target output 'y2'."
   ]
  },
  {
   "cell_type": "code",
   "execution_count": null,
   "id": "00161490",
   "metadata": {},
   "outputs": [],
   "source": [
    "X2 = np.random.rand(20, 1) ** 2\n",
    "\n",
    "y2 = 2 * X2.flatten() + np.random.randn(20) * 0.1"
   ]
  }
 ],
 "metadata": {
  "kernelspec": {
   "display_name": "Python 3",
   "language": "python",
   "name": "python3"
  },
  "language_info": {
   "codemirror_mode": {
    "name": "ipython",
    "version": 3
   },
   "file_extension": ".py",
   "mimetype": "text/x-python",
   "name": "python",
   "nbconvert_exporter": "python",
   "pygments_lexer": "ipython3",
   "version": "3.8.5"
  }
 },
 "nbformat": 4,
 "nbformat_minor": 5
}
