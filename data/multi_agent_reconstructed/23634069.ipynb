{
 "cells": [
  {
   "cell_type": "markdown",
   "id": "0c95675d",
   "metadata": {},
   "source": [
    "Import the pandas library and read 'Finland.csv' into a DataFrame called fi_df."
   ]
  },
  {
   "cell_type": "code",
   "execution_count": null,
   "id": "25dc5612",
   "metadata": {},
   "outputs": [],
   "source": [
    "import pandas as pd\n",
    "fi_df = pd.read_csv('Finland.csv')"
   ]
  },
  {
   "cell_type": "markdown",
   "id": "b250a0ea",
   "metadata": {},
   "source": [
    "Read 'Norway.csv' into a DataFrame called no_df."
   ]
  },
  {
   "cell_type": "code",
   "execution_count": null,
   "id": "a73709df",
   "metadata": {},
   "outputs": [],
   "source": [
    "no_df = pd.read_csv('Norway.csv')"
   ]
  }
 ],
 "metadata": {
  "kernelspec": {
   "display_name": "Python 3",
   "language": "python",
   "name": "python3"
  },
  "language_info": {
   "codemirror_mode": {
    "name": "ipython",
    "version": 3
   },
   "file_extension": ".py",
   "mimetype": "text/x-python",
   "name": "python",
   "nbconvert_exporter": "python",
   "pygments_lexer": "ipython3",
   "version": "3.8.5"
  }
 },
 "nbformat": 4,
 "nbformat_minor": 5
}
