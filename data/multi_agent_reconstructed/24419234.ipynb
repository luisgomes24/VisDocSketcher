{
 "cells": [
  {
   "cell_type": "markdown",
   "id": "2630b273",
   "metadata": {},
   "source": [
    "Load the training data from 'train.csv' into a DataFrame."
   ]
  },
  {
   "cell_type": "code",
   "execution_count": null,
   "id": "af373c14",
   "metadata": {},
   "outputs": [],
   "source": [
    "import pandas as pd\n",
    "train_df = pd.read_csv('train.csv')"
   ]
  },
  {
   "cell_type": "markdown",
   "id": "534d2f07",
   "metadata": {},
   "source": [
    "Load the test data from 'test.csv' into a DataFrame."
   ]
  },
  {
   "cell_type": "code",
   "execution_count": null,
   "id": "df47ffb0",
   "metadata": {},
   "outputs": [],
   "source": [
    "test_df = pd.read_csv('test.csv')"
   ]
  },
  {
   "cell_type": "markdown",
   "id": "70f46174",
   "metadata": {},
   "source": [
    "Load the sample submission data from 'sample_submission.csv' into a DataFrame."
   ]
  },
  {
   "cell_type": "code",
   "execution_count": null,
   "id": "cce31dd7",
   "metadata": {},
   "outputs": [],
   "source": [
    "sample_submission = pd.read_csv('sample_submission.csv')"
   ]
  },
  {
   "cell_type": "markdown",
   "id": "a41dfbd7",
   "metadata": {},
   "source": [
    "Identify columns in the training DataFrame that contain '_Score' in their names."
   ]
  },
  {
   "cell_type": "code",
   "execution_count": null,
   "id": "b53dffb8",
   "metadata": {},
   "outputs": [],
   "source": [
    "score_cols = [col for col in train_df.columns if '_Score' in col]"
   ]
  },
  {
   "cell_type": "markdown",
   "id": "ac2d6061",
   "metadata": {},
   "source": [
    "Create a sample from the training DataFrame for testing purposes."
   ]
  },
  {
   "cell_type": "code",
   "execution_count": null,
   "id": "fe500787",
   "metadata": {},
   "outputs": [],
   "source": [
    "train_sample = train_df.sample(frac=0.1, random_state=1)"
   ]
  },
  {
   "cell_type": "markdown",
   "id": "e71aff4b",
   "metadata": {},
   "source": [
    "Initialize the Extra Trees Classifier model."
   ]
  },
  {
   "cell_type": "code",
   "execution_count": null,
   "id": "9b040dee",
   "metadata": {},
   "outputs": [],
   "source": [
    "from sklearn.ensemble import ExtraTreesClassifier\n",
    "model = ExtraTreesClassifier()"
   ]
  },
  {
   "cell_type": "markdown",
   "id": "b01f27b1",
   "metadata": {},
   "source": [
    "Fit the model using the sampled training data, excluding the score columns."
   ]
  },
  {
   "cell_type": "code",
   "execution_count": null,
   "id": "dccfe8de",
   "metadata": {},
   "outputs": [],
   "source": [
    "model.fit(train_sample.drop(score_cols, axis=1), train_sample[score_cols])"
   ]
  },
  {
   "cell_type": "markdown",
   "id": "bde69daf",
   "metadata": {},
   "source": [
    "Make predictions on the test DataFrame using the trained model."
   ]
  },
  {
   "cell_type": "code",
   "execution_count": null,
   "id": "f4ed3604",
   "metadata": {},
   "outputs": [],
   "source": [
    "predictions = model.predict(test_df)"
   ]
  },
  {
   "cell_type": "markdown",
   "id": "70dae3e8",
   "metadata": {},
   "source": [
    "Create a submission DataFrame with IDs and predictions."
   ]
  },
  {
   "cell_type": "code",
   "execution_count": null,
   "id": "b930136e",
   "metadata": {},
   "outputs": [],
   "source": [
    "submission = pd.DataFrame({'Id': test_df['Id'], 'Predictions': predictions})"
   ]
  }
 ],
 "metadata": {
  "kernelspec": {
   "display_name": "Python 3",
   "language": "python",
   "name": "python3"
  },
  "language_info": {
   "codemirror_mode": {
    "name": "ipython",
    "version": 3
   },
   "file_extension": ".py",
   "mimetype": "text/x-python",
   "name": "python",
   "nbconvert_exporter": "python",
   "pygments_lexer": "ipython3",
   "version": "3.8.5"
  }
 },
 "nbformat": 4,
 "nbformat_minor": 5
}
