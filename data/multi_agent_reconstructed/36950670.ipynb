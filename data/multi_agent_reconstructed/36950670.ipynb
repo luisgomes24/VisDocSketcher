{
 "cells": [
  {
   "cell_type": "markdown",
   "id": "4405a9e6",
   "metadata": {},
   "source": [
    "Loads the dataset from 'train.csv' into a DataFrame."
   ]
  },
  {
   "cell_type": "code",
   "execution_count": null,
   "id": "73f68e6d",
   "metadata": {},
   "outputs": [],
   "source": [
    "import pandas as pd\n",
    "\n",
    "df = pd.read_csv('train.csv')"
   ]
  },
  {
   "cell_type": "markdown",
   "id": "373e3e82",
   "metadata": {},
   "source": [
    "Extracts the labels (targets) from the DataFrame."
   ]
  },
  {
   "cell_type": "code",
   "execution_count": null,
   "id": "c8882354",
   "metadata": {},
   "outputs": [],
   "source": [
    "targets = df['target_column']  # Replace 'target_column' with the actual column name"
   ]
  },
  {
   "cell_type": "markdown",
   "id": "4a932b38",
   "metadata": {},
   "source": [
    "Splits the data into training and testing sets."
   ]
  },
  {
   "cell_type": "code",
   "execution_count": null,
   "id": "7a4a9943",
   "metadata": {},
   "outputs": [],
   "source": [
    "from sklearn.model_selection import train_test_split\n",
    "\n",
    "X = df.drop('target_column', axis=1)\n",
    "X_train, X_test, y_train, y_test = train_test_split(X, targets, test_size=0.2)"
   ]
  },
  {
   "cell_type": "markdown",
   "id": "a45dd967",
   "metadata": {},
   "source": [
    "Trains a Logistic Regression model using the training data."
   ]
  },
  {
   "cell_type": "code",
   "execution_count": null,
   "id": "b9b803bf",
   "metadata": {},
   "outputs": [],
   "source": [
    "from sklearn.linear_model import LogisticRegression\n",
    "\n",
    "log_reg = LogisticRegression()\n",
    "log_reg.fit(X_train, y_train)"
   ]
  },
  {
   "cell_type": "markdown",
   "id": "67b2446a",
   "metadata": {},
   "source": [
    "Trains a Support Vector Machine model using the training data."
   ]
  },
  {
   "cell_type": "code",
   "execution_count": null,
   "id": "303ddd86",
   "metadata": {},
   "outputs": [],
   "source": [
    "from sklearn.svm import SVC\n",
    "\n",
    "svc = SVC()\n",
    "svc.fit(X_train, y_train)"
   ]
  },
  {
   "cell_type": "markdown",
   "id": "69c45593",
   "metadata": {},
   "source": [
    "Trains a Decision Tree Classifier model using the training data."
   ]
  },
  {
   "cell_type": "code",
   "execution_count": null,
   "id": "95821323",
   "metadata": {},
   "outputs": [],
   "source": [
    "from sklearn.tree import DecisionTreeClassifier\n",
    "\n",
    "dec_tree = DecisionTreeClassifier()\n",
    "dec_tree.fit(X_train, y_train)"
   ]
  },
  {
   "cell_type": "markdown",
   "id": "0a8234c5",
   "metadata": {},
   "source": [
    "Trains a Random Forest Classifier model using the training data."
   ]
  },
  {
   "cell_type": "code",
   "execution_count": null,
   "id": "44482dc9",
   "metadata": {},
   "outputs": [],
   "source": [
    "from sklearn.ensemble import RandomForestClassifier\n",
    "\n",
    "rf_clf = RandomForestClassifier()\n",
    "rf_clf.fit(X_train, y_train)"
   ]
  }
 ],
 "metadata": {
  "kernelspec": {
   "display_name": "Python 3",
   "language": "python",
   "name": "python3"
  },
  "language_info": {
   "codemirror_mode": {
    "name": "ipython",
    "version": 3
   },
   "file_extension": ".py",
   "mimetype": "text/x-python",
   "name": "python",
   "nbconvert_exporter": "python",
   "pygments_lexer": "ipython3",
   "version": "3.8.5"
  }
 },
 "nbformat": 4,
 "nbformat_minor": 5
}
