{
 "cells": [
  {
   "cell_type": "markdown",
   "id": "8ad76de9",
   "metadata": {},
   "source": [
    "Load the three CSV files into respective DataFrames."
   ]
  },
  {
   "cell_type": "code",
   "execution_count": null,
   "id": "9b2a28b5",
   "metadata": {},
   "outputs": [],
   "source": [
    "import pandas as pd\n",
    "reddit_df = pd.read_csv('reddit_wsb.csv')\n",
    "nyse_df = pd.read_csv('nyse-listed_csv.csv')\n",
    "other_df = pd.read_csv('other-listed_csv.csv')"
   ]
  },
  {
   "cell_type": "markdown",
   "id": "684cc17e",
   "metadata": {},
   "source": [
    "Extract ticker symbols from NYSE and other DataFrames into lists."
   ]
  },
  {
   "cell_type": "code",
   "execution_count": null,
   "id": "dea090ff",
   "metadata": {},
   "outputs": [],
   "source": [
    "nyse_tickers_list = nyse_df['Ticker'].tolist()\n",
    "other_tickers_list = other_df['Ticker'].tolist()"
   ]
  },
  {
   "cell_type": "markdown",
   "id": "645b1bbe",
   "metadata": {},
   "source": [
    "Combine the titles and bodies of Reddit posts into a single text blob."
   ]
  },
  {
   "cell_type": "code",
   "execution_count": null,
   "id": "dd16d427",
   "metadata": {},
   "outputs": [],
   "source": [
    "blob_text = reddit_df['Title'] + ' ' + reddit_df['Body']"
   ]
  },
  {
   "cell_type": "markdown",
   "id": "cbcf8c36",
   "metadata": {},
   "source": [
    "Remove common stopwords from the text blob."
   ]
  },
  {
   "cell_type": "code",
   "execution_count": null,
   "id": "2eb1d595",
   "metadata": {},
   "outputs": [],
   "source": [
    "stopwords = set(['a', 'the', 'and', 'is', 'in'])\n",
    "filtered_sentence = ' '.join([word for word in blob_text.split() if word.lower() not in stopwords])"
   ]
  },
  {
   "cell_type": "markdown",
   "id": "5039568d",
   "metadata": {},
   "source": [
    "Count the occurrences of each word in the filtered sentence."
   ]
  },
  {
   "cell_type": "code",
   "execution_count": null,
   "id": "5d783526",
   "metadata": {},
   "outputs": [],
   "source": [
    "from collections import Counter\n",
    "counts = Counter(filtered_sentence.split())"
   ]
  },
  {
   "cell_type": "markdown",
   "id": "15221f35",
   "metadata": {},
   "source": [
    "Analyze and retrieve the 10 most common words from the counts."
   ]
  },
  {
   "cell_type": "code",
   "execution_count": null,
   "id": "da735ae6",
   "metadata": {},
   "outputs": [],
   "source": [
    "most_common_words = counts.most_common(10)"
   ]
  }
 ],
 "metadata": {
  "kernelspec": {
   "display_name": "Python 3",
   "language": "python",
   "name": "python3"
  },
  "language_info": {
   "codemirror_mode": {
    "name": "ipython",
    "version": 3
   },
   "file_extension": ".py",
   "mimetype": "text/x-python",
   "name": "python",
   "nbconvert_exporter": "python",
   "pygments_lexer": "ipython3",
   "version": "3.8.5"
  }
 },
 "nbformat": 4,
 "nbformat_minor": 5
}
