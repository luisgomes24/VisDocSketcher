{
 "cells": [
  {
   "cell_type": "markdown",
   "id": "948e8bf9",
   "metadata": {},
   "source": [
    "Load the test and training datasets from CSV files."
   ]
  },
  {
   "cell_type": "code",
   "execution_count": null,
   "id": "b70a16f6",
   "metadata": {},
   "outputs": [],
   "source": [
    "import pandas as pd\n",
    "\n",
    "df_test = pd.read_csv('test.csv')\n",
    "df_train = pd.read_csv('train.csv')\n"
   ]
  },
  {
   "cell_type": "markdown",
   "id": "dd0aeda5",
   "metadata": {},
   "source": [
    "Load the sample submission format."
   ]
  },
  {
   "cell_type": "code",
   "execution_count": null,
   "id": "afa4d3f9",
   "metadata": {},
   "outputs": [],
   "source": [
    "import numpy as np\n",
    "\n",
    "df_test['Submission Format'] = pd.read_csv('sample_submission.csv')\n"
   ]
  },
  {
   "cell_type": "markdown",
   "id": "5e535828",
   "metadata": {},
   "source": [
    "Define a function to compare distributions of train and test datasets."
   ]
  },
  {
   "cell_type": "code",
   "execution_count": null,
   "id": "19127dad",
   "metadata": {},
   "outputs": [],
   "source": [
    "import matplotlib.pyplot as plt\n",
    "\n",
    "def comparePlot(df1, df2):\n",
    "    plt.figure(figsize=(12, 6))\n",
    "    plt.hist(df1, alpha=0.5, label='Train')\n",
    "    plt.hist(df2, alpha=0.5, label='Test')\n",
    "    plt.legend()\n",
    "    plt.show()\n"
   ]
  },
  {
   "cell_type": "markdown",
   "id": "d1cb1547",
   "metadata": {},
   "source": [
    "Analyze and visualize distributions of a specific feature in train and test datasets."
   ]
  },
  {
   "cell_type": "code",
   "execution_count": null,
   "id": "098244aa",
   "metadata": {},
   "outputs": [],
   "source": [
    "comparePlot(df_train['Feature'], df_test['Feature'])\n"
   ]
  },
  {
   "cell_type": "markdown",
   "id": "e0e4d7a9",
   "metadata": {},
   "source": [
    "Train a LightGBM classifier on the training dataset."
   ]
  },
  {
   "cell_type": "code",
   "execution_count": null,
   "id": "38d9eff0",
   "metadata": {},
   "outputs": [],
   "source": [
    "import lightgbm as lgb\n",
    "\n",
    "model_lgb = lgb.LGBMClassifier()\n",
    "model_lgb.fit(df_train.drop('target', axis=1), df_train['target'])\n"
   ]
  },
  {
   "cell_type": "markdown",
   "id": "5ecc5fdd",
   "metadata": {},
   "source": [
    "Train a Decision Tree classifier on the training dataset."
   ]
  },
  {
   "cell_type": "code",
   "execution_count": null,
   "id": "f0744239",
   "metadata": {},
   "outputs": [],
   "source": [
    "from sklearn.tree import DecisionTreeClassifier\n",
    "\n",
    "model_dt = DecisionTreeClassifier()\n",
    "model_dt.fit(df_train.drop('target', axis=1), df_train['target'])\n"
   ]
  },
  {
   "cell_type": "markdown",
   "id": "ff2b59d5",
   "metadata": {},
   "source": [
    "Load the array containing average signature version timestamps."
   ]
  },
  {
   "cell_type": "code",
   "execution_count": null,
   "id": "a50702bb",
   "metadata": {},
   "outputs": [],
   "source": [
    "av_version = np.load('AvSigVersionTimestamps.npy')\n"
   ]
  },
  {
   "cell_type": "markdown",
   "id": "38c3e7ab",
   "metadata": {},
   "source": [
    "Identify and count occurrences of each country in the training dataset."
   ]
  },
  {
   "cell_type": "code",
   "execution_count": null,
   "id": "11b4222a",
   "metadata": {},
   "outputs": [],
   "source": [
    "country_identifier = df_train['Country'].value_counts()\n"
   ]
  }
 ],
 "metadata": {
  "kernelspec": {
   "display_name": "Python 3",
   "language": "python",
   "name": "python3"
  },
  "language_info": {
   "codemirror_mode": {
    "name": "ipython",
    "version": 3
   },
   "file_extension": ".py",
   "mimetype": "text/x-python",
   "name": "python",
   "nbconvert_exporter": "python",
   "pygments_lexer": "ipython3",
   "version": "3.8.5"
  }
 },
 "nbformat": 4,
 "nbformat_minor": 5
}
