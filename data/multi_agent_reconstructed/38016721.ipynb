{
 "cells": [
  {
   "cell_type": "markdown",
   "id": "38dcda94",
   "metadata": {},
   "source": [
    "Load the dataset from a CSV file into a DataFrame."
   ]
  },
  {
   "cell_type": "code",
   "execution_count": null,
   "id": "26d85a4c",
   "metadata": {},
   "outputs": [],
   "source": [
    "import pandas as pd\n",
    "\n",
    "data_train = pd.read_csv('train.csv')"
   ]
  },
  {
   "cell_type": "markdown",
   "id": "9a1201b9",
   "metadata": {},
   "source": [
    "Remove unused columns from the DataFrame."
   ]
  },
  {
   "cell_type": "code",
   "execution_count": null,
   "id": "90fed2f9",
   "metadata": {},
   "outputs": [],
   "source": [
    "data_train.drop(columns=['UnusedColumn1', 'UnusedColumn2'], inplace=True)"
   ]
  },
  {
   "cell_type": "markdown",
   "id": "7b6c7ca5",
   "metadata": {},
   "source": [
    "Separate features (X) from the target variable (Y), which is 'Survived'."
   ]
  },
  {
   "cell_type": "code",
   "execution_count": null,
   "id": "5dec6ff4",
   "metadata": {},
   "outputs": [],
   "source": [
    "X = data_train.drop(columns=['Survived'])\n",
    "Y = data_train['Survived']"
   ]
  },
  {
   "cell_type": "markdown",
   "id": "0463b893",
   "metadata": {},
   "source": [
    "Split the data into training and testing sets."
   ]
  },
  {
   "cell_type": "code",
   "execution_count": null,
   "id": "15510f30",
   "metadata": {},
   "outputs": [],
   "source": [
    "from sklearn.model_selection import train_test_split\n",
    "\n",
    "X_train, X_test, y_train, y_test = train_test_split(X, Y, test_size=0.2, random_state=42)"
   ]
  },
  {
   "cell_type": "markdown",
   "id": "899d2b4b",
   "metadata": {},
   "source": [
    "Create a logistic regression model and fit it to the training data."
   ]
  },
  {
   "cell_type": "code",
   "execution_count": null,
   "id": "e4e4fbae",
   "metadata": {},
   "outputs": [],
   "source": [
    "from sklearn.linear_model import LogisticRegression\n",
    "\n",
    "lr = LogisticRegression(max_iter=5000)\n",
    "lr.fit(X_train, y_train)"
   ]
  },
  {
   "cell_type": "markdown",
   "id": "29471d49",
   "metadata": {},
   "source": [
    "Make predictions using the test set with the logistic regression model."
   ]
  },
  {
   "cell_type": "code",
   "execution_count": null,
   "id": "a4f0912a",
   "metadata": {},
   "outputs": [],
   "source": [
    "lr_predictions = lr.predict(X_test)"
   ]
  },
  {
   "cell_type": "markdown",
   "id": "2775dc30",
   "metadata": {},
   "source": [
    "Create a random forest model and fit it to the training data."
   ]
  },
  {
   "cell_type": "code",
   "execution_count": null,
   "id": "12db9d93",
   "metadata": {},
   "outputs": [],
   "source": [
    "from sklearn.ensemble import RandomForestClassifier\n",
    "\n",
    "rf = RandomForestClassifier(n_estimators=1000)\n",
    "rf.fit(X_train, y_train)"
   ]
  },
  {
   "cell_type": "markdown",
   "id": "8d21fcdd",
   "metadata": {},
   "source": [
    "Make predictions using the test set with the random forest model."
   ]
  },
  {
   "cell_type": "code",
   "execution_count": null,
   "id": "53850c20",
   "metadata": {},
   "outputs": [],
   "source": [
    "rf_predictions = rf.predict(X_test)"
   ]
  }
 ],
 "metadata": {
  "kernelspec": {
   "display_name": "Python 3",
   "language": "python",
   "name": "python3"
  },
  "language_info": {
   "codemirror_mode": {
    "name": "ipython",
    "version": 3
   },
   "file_extension": ".py",
   "mimetype": "text/x-python",
   "name": "python",
   "nbconvert_exporter": "python",
   "pygments_lexer": "ipython3",
   "version": "3.8.5"
  }
 },
 "nbformat": 4,
 "nbformat_minor": 5
}
