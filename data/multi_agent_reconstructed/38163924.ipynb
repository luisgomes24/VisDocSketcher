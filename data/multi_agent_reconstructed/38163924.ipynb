{
 "cells": [
  {
   "cell_type": "markdown",
   "id": "e7e96643",
   "metadata": {},
   "source": [
    "Read the CSV file into a DataFrame using Pandas."
   ]
  },
  {
   "cell_type": "code",
   "execution_count": null,
   "id": "9f0b7369",
   "metadata": {},
   "outputs": [],
   "source": [
    "import pandas as pd\n",
    "df = pd.read_csv('Advertising.csv')"
   ]
  },
  {
   "cell_type": "markdown",
   "id": "a040cf45",
   "metadata": {},
   "source": [
    "Extract unique ad types from the DataFrame."
   ]
  },
  {
   "cell_type": "code",
   "execution_count": null,
   "id": "86431a50",
   "metadata": {},
   "outputs": [],
   "source": [
    "types = df['Ad Type'].unique()"
   ]
  },
  {
   "cell_type": "markdown",
   "id": "b5f2cee3",
   "metadata": {},
   "source": [
    "Calculate the total advertising cost from the Cost column."
   ]
  },
  {
   "cell_type": "code",
   "execution_count": null,
   "id": "62479da8",
   "metadata": {},
   "outputs": [],
   "source": [
    "total_cost = df['Cost'].sum()"
   ]
  },
  {
   "cell_type": "markdown",
   "id": "cb901d39",
   "metadata": {},
   "source": [
    "Extract the sales column as the target variable."
   ]
  },
  {
   "cell_type": "code",
   "execution_count": null,
   "id": "cbd17434",
   "metadata": {},
   "outputs": [],
   "source": [
    "sales = df['Sales']"
   ]
  },
  {
   "cell_type": "markdown",
   "id": "3ac1cb6d",
   "metadata": {},
   "source": [
    "Initialize the Linear Regression model to use for predictions."
   ]
  },
  {
   "cell_type": "code",
   "execution_count": null,
   "id": "11b8434b",
   "metadata": {},
   "outputs": [],
   "source": [
    "from sklearn.linear_model import LinearRegression\n",
    "model = LinearRegression()"
   ]
  }
 ],
 "metadata": {
  "kernelspec": {
   "display_name": "Python 3",
   "language": "python",
   "name": "python3"
  },
  "language_info": {
   "codemirror_mode": {
    "name": "ipython",
    "version": 3
   },
   "file_extension": ".py",
   "mimetype": "text/x-python",
   "name": "python",
   "nbconvert_exporter": "python",
   "pygments_lexer": "ipython3",
   "version": "3.8.5"
  }
 },
 "nbformat": 4,
 "nbformat_minor": 5
}
