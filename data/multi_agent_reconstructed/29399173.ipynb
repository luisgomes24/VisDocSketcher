{
 "cells": [
  {
   "cell_type": "markdown",
   "id": "5cd6eaae",
   "metadata": {},
   "source": [
    "This step imports necessary libraries and scrapes the Commonwealth Games webpage."
   ]
  },
  {
   "cell_type": "code",
   "execution_count": null,
   "id": "4854c8c9",
   "metadata": {},
   "outputs": [],
   "source": [
    "import requests\n",
    "from bs4 import BeautifulSoup\n",
    "\n",
    "url = 'URL_OF_COMMONWEALTH_GAMES_WEBPAGE'\n",
    "response = requests.get(url)\n",
    "soup = BeautifulSoup(response.content, 'html.parser')"
   ]
  },
  {
   "cell_type": "markdown",
   "id": "6a2c4917",
   "metadata": {},
   "source": [
    "Extracts the medal standings data from the scraped HTML."
   ]
  },
  {
   "cell_type": "code",
   "execution_count": null,
   "id": "bdcb6151",
   "metadata": {},
   "outputs": [],
   "source": [
    "medals = soup.find('div', class_='medal_standings_class')\n",
    "medal_standings_list = []\n",
    "for row in medals.find_all('tr'):\n",
    "    medal_standings_list.append(row.text)"
   ]
  },
  {
   "cell_type": "markdown",
   "id": "49d334f8",
   "metadata": {},
   "source": [
    "Scrapes the 2022 Commonwealth Games Wikipedia page for athlete data."
   ]
  },
  {
   "cell_type": "code",
   "execution_count": null,
   "id": "a4f217e7",
   "metadata": {},
   "outputs": [],
   "source": [
    "import pandas as pd\n",
    "url_wiki = 'URL_OF_WIKIPEDIA_2022_COMMONWEALTH_GAMES'\n",
    "wiki_response = requests.get(url_wiki)\n",
    "wiki_soup = BeautifulSoup(wiki_response.content, 'html.parser')"
   ]
  },
  {
   "cell_type": "markdown",
   "id": "bde63d01",
   "metadata": {},
   "source": [
    "Extracts athlete count data from the Wikipedia HTML."
   ]
  },
  {
   "cell_type": "code",
   "execution_count": null,
   "id": "20cdeb61",
   "metadata": {},
   "outputs": [],
   "source": [
    "athletes = wiki_soup.find('div', class_='athlete_count_class')\n",
    "athlete_count_data = []\n",
    "for row in athletes.find_all('tr'):\n",
    "    athlete_count_data.append(row.text)"
   ]
  },
  {
   "cell_type": "markdown",
   "id": "8799b210",
   "metadata": {},
   "source": [
    "Creates a DataFrame from the athlete count data extracted from Wikipedia."
   ]
  },
  {
   "cell_type": "code",
   "execution_count": null,
   "id": "39f3fd61",
   "metadata": {},
   "outputs": [],
   "source": [
    "athlete_count_df = pd.DataFrame(athlete_count_data, columns=['Athlete Count'])"
   ]
  }
 ],
 "metadata": {
  "kernelspec": {
   "display_name": "Python 3",
   "language": "python",
   "name": "python3"
  },
  "language_info": {
   "codemirror_mode": {
    "name": "ipython",
    "version": 3
   },
   "file_extension": ".py",
   "mimetype": "text/x-python",
   "name": "python",
   "nbconvert_exporter": "python",
   "pygments_lexer": "ipython3",
   "version": "3.8.5"
  }
 },
 "nbformat": 4,
 "nbformat_minor": 5
}
