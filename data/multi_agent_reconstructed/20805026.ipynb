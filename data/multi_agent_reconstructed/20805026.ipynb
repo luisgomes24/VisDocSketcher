{
 "cells": [
  {
   "cell_type": "markdown",
   "id": "b4575e45",
   "metadata": {},
   "source": [
    "Load the training data from 'train.csv' into a DataFrame."
   ]
  },
  {
   "cell_type": "code",
   "execution_count": null,
   "id": "48d1db16",
   "metadata": {},
   "outputs": [],
   "source": [
    "import pandas as pd\n",
    "train_data = pd.read_csv('train.csv')"
   ]
  },
  {
   "cell_type": "markdown",
   "id": "b41b3729",
   "metadata": {},
   "source": [
    "Load the test data from 'test.csv' into a DataFrame."
   ]
  },
  {
   "cell_type": "code",
   "execution_count": null,
   "id": "19bb8225",
   "metadata": {},
   "outputs": [],
   "source": [
    "test_data = pd.read_csv('test.csv')"
   ]
  },
  {
   "cell_type": "markdown",
   "id": "21001a1f",
   "metadata": {},
   "source": [
    "Initialize the TabularAutoML model for training."
   ]
  },
  {
   "cell_type": "code",
   "execution_count": null,
   "id": "1a3bb2f9",
   "metadata": {},
   "outputs": [],
   "source": [
    "from lightautoml import TabularAutoML\n",
    "model = TabularAutoML()"
   ]
  },
  {
   "cell_type": "markdown",
   "id": "7aa60556",
   "metadata": {},
   "source": [
    "Fit the model using the training data."
   ]
  },
  {
   "cell_type": "code",
   "execution_count": null,
   "id": "9ade346e",
   "metadata": {},
   "outputs": [],
   "source": [
    "model.fit(train_data)"
   ]
  },
  {
   "cell_type": "markdown",
   "id": "0eaeabe3",
   "metadata": {},
   "source": [
    "Generate out-of-fold predictions using the training data."
   ]
  },
  {
   "cell_type": "code",
   "execution_count": null,
   "id": "3731a447",
   "metadata": {},
   "outputs": [],
   "source": [
    "oof_pred = model.predict(train_data)"
   ]
  },
  {
   "cell_type": "markdown",
   "id": "7c5674fd",
   "metadata": {},
   "source": [
    "Generate predictions for the test data."
   ]
  },
  {
   "cell_type": "code",
   "execution_count": null,
   "id": "4333009a",
   "metadata": {},
   "outputs": [],
   "source": [
    "test_pred = model.predict(test_data)"
   ]
  },
  {
   "cell_type": "markdown",
   "id": "910fcc95",
   "metadata": {},
   "source": [
    "Prepare the results DataFrame from the test predictions."
   ]
  },
  {
   "cell_type": "code",
   "execution_count": null,
   "id": "abe96de9",
   "metadata": {},
   "outputs": [],
   "source": [
    "result = pd.DataFrame(test_pred, columns=['Prediction'])"
   ]
  },
  {
   "cell_type": "markdown",
   "id": "87615b3f",
   "metadata": {},
   "source": [
    "Save the results DataFrame to 'gender_submission.csv'."
   ]
  },
  {
   "cell_type": "code",
   "execution_count": null,
   "id": "793f5b0d",
   "metadata": {},
   "outputs": [],
   "source": [
    "result.to_csv('gender_submission.csv', index=False)"
   ]
  }
 ],
 "metadata": {
  "kernelspec": {
   "display_name": "Python 3",
   "language": "python",
   "name": "python3"
  },
  "language_info": {
   "codemirror_mode": {
    "name": "ipython",
    "version": 3
   },
   "file_extension": ".py",
   "mimetype": "text/x-python",
   "name": "python",
   "nbconvert_exporter": "python",
   "pygments_lexer": "ipython3",
   "version": "3.8.5"
  }
 },
 "nbformat": 4,
 "nbformat_minor": 5
}
