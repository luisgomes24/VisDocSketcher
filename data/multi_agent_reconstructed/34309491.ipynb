{
 "cells": [
  {
   "cell_type": "markdown",
   "id": "22cd3bdc",
   "metadata": {},
   "source": [
    "Load the dataset 'train.csv' into a pandas DataFrame."
   ]
  },
  {
   "cell_type": "code",
   "execution_count": null,
   "id": "ba36a1ef",
   "metadata": {},
   "outputs": [],
   "source": [
    "import pandas as pd\n",
    "df = pd.read_csv('train.csv')"
   ]
  },
  {
   "cell_type": "markdown",
   "id": "3876b296",
   "metadata": {},
   "source": [
    "Clean the DataFrame by removing rows with missing values."
   ]
  },
  {
   "cell_type": "code",
   "execution_count": null,
   "id": "ccbd1e2b",
   "metadata": {},
   "outputs": [],
   "source": [
    "df_clean = df.dropna()"
   ]
  },
  {
   "cell_type": "markdown",
   "id": "9773fa69",
   "metadata": {},
   "source": [
    "Split the cleaned DataFrame into features (X) and target (y)."
   ]
  },
  {
   "cell_type": "code",
   "execution_count": null,
   "id": "230f94ee",
   "metadata": {},
   "outputs": [],
   "source": [
    "X = df_clean.drop('target_column', axis=1)\n",
    "y = df_clean['target_column']"
   ]
  },
  {
   "cell_type": "markdown",
   "id": "457f2e7c",
   "metadata": {},
   "source": [
    "Perform train-test split on the features and target variables."
   ]
  },
  {
   "cell_type": "code",
   "execution_count": null,
   "id": "a2d6e8cf",
   "metadata": {},
   "outputs": [],
   "source": [
    "from sklearn.model_selection import train_test_split\n",
    "X_train, X_test, y_train, y_test = train_test_split(X, y, test_size=0.2, random_state=42)"
   ]
  },
  {
   "cell_type": "markdown",
   "id": "c4bfb9d5",
   "metadata": {},
   "source": [
    "Initialize and train a machine learning model using the training data."
   ]
  },
  {
   "cell_type": "code",
   "execution_count": null,
   "id": "e7bbc2f2",
   "metadata": {},
   "outputs": [],
   "source": [
    "from sklearn.ensemble import RandomForestClassifier\n",
    "model = RandomForestClassifier()\n",
    "model.fit(X_train, y_train)"
   ]
  },
  {
   "cell_type": "markdown",
   "id": "75ea53ac",
   "metadata": {},
   "source": [
    "Visualize the distribution of the training target variable."
   ]
  },
  {
   "cell_type": "code",
   "execution_count": null,
   "id": "d6c2637a",
   "metadata": {},
   "outputs": [],
   "source": [
    "import matplotlib.pyplot as plt\n",
    "plt.bar(y_train.value_counts().index, y_train.value_counts())\n",
    "plt.title('y_train Distribution')\n",
    "plt.show()"
   ]
  },
  {
   "cell_type": "markdown",
   "id": "4d7b2984",
   "metadata": {},
   "source": [
    "Visualize the distribution of the test target variable."
   ]
  },
  {
   "cell_type": "code",
   "execution_count": null,
   "id": "da2228db",
   "metadata": {},
   "outputs": [],
   "source": [
    "plt.bar(y_test.value_counts().index, y_test.value_counts())\n",
    "plt.title('y_test Distribution')\n",
    "plt.show()"
   ]
  }
 ],
 "metadata": {
  "kernelspec": {
   "display_name": "Python 3",
   "language": "python",
   "name": "python3"
  },
  "language_info": {
   "codemirror_mode": {
    "name": "ipython",
    "version": 3
   },
   "file_extension": ".py",
   "mimetype": "text/x-python",
   "name": "python",
   "nbconvert_exporter": "python",
   "pygments_lexer": "ipython3",
   "version": "3.8.5"
  }
 },
 "nbformat": 4,
 "nbformat_minor": 5
}
