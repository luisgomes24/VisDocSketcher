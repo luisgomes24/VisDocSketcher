{
 "cells": [
  {
   "cell_type": "markdown",
   "id": "4adb3e3c",
   "metadata": {},
   "source": [
    "Read the training data from 'train.csv'."
   ]
  },
  {
   "cell_type": "code",
   "execution_count": null,
   "id": "116dfcf9",
   "metadata": {},
   "outputs": [],
   "source": [
    "import pandas as pd\n",
    "train = pd.read_csv('train.csv')"
   ]
  },
  {
   "cell_type": "markdown",
   "id": "15b13ca9",
   "metadata": {},
   "source": [
    "Read the labels from 'train_labels.csv'."
   ]
  },
  {
   "cell_type": "code",
   "execution_count": null,
   "id": "a0fb50d5",
   "metadata": {},
   "outputs": [],
   "source": [
    "train_labels = pd.read_csv('train_labels.csv')"
   ]
  },
  {
   "cell_type": "markdown",
   "id": "41d60a56",
   "metadata": {},
   "source": [
    "Extract the labels from the training labels DataFrame."
   ]
  },
  {
   "cell_type": "code",
   "execution_count": null,
   "id": "6ed70462",
   "metadata": {},
   "outputs": [],
   "source": [
    "labels = train_labels['label']"
   ]
  },
  {
   "cell_type": "markdown",
   "id": "f26ac599",
   "metadata": {},
   "source": [
    "Select the features needed for training the model."
   ]
  },
  {
   "cell_type": "code",
   "execution_count": null,
   "id": "977d51ce",
   "metadata": {},
   "outputs": [],
   "source": [
    "features = train[['feature1', 'feature2']]"
   ]
  },
  {
   "cell_type": "markdown",
   "id": "3e31538f",
   "metadata": {},
   "source": [
    "Visualize the features using a scatter plot."
   ]
  },
  {
   "cell_type": "code",
   "execution_count": null,
   "id": "8b16593f",
   "metadata": {},
   "outputs": [],
   "source": [
    "import matplotlib.pyplot as plt\n",
    "plt.scatter(features['feature1'], features['feature2'])\n",
    "plt.title('Scatter Plot')\n",
    "plt.show()"
   ]
  },
  {
   "cell_type": "markdown",
   "id": "e90a3abc",
   "metadata": {},
   "source": [
    "Set up GroupKFold for cross-validation."
   ]
  },
  {
   "cell_type": "code",
   "execution_count": null,
   "id": "d1ffd562",
   "metadata": {},
   "outputs": [],
   "source": [
    "from sklearn.model_selection import GroupKFold\n",
    "gkf = GroupKFold(n_splits=5)"
   ]
  },
  {
   "cell_type": "markdown",
   "id": "ec5fe975",
   "metadata": {},
   "source": [
    "Initialize the XGBoost model."
   ]
  },
  {
   "cell_type": "code",
   "execution_count": null,
   "id": "bdda40e0",
   "metadata": {},
   "outputs": [],
   "source": [
    "import xgboost as xgb\n",
    "model = xgb.XGBClassifier()"
   ]
  },
  {
   "cell_type": "markdown",
   "id": "db4aa384",
   "metadata": {},
   "source": [
    "Train the model with features and labels."
   ]
  },
  {
   "cell_type": "code",
   "execution_count": null,
   "id": "bc23c73d",
   "metadata": {},
   "outputs": [],
   "source": [
    "from sklearn.metrics import accuracy_score\n",
    "model.fit(features, labels)"
   ]
  },
  {
   "cell_type": "markdown",
   "id": "951bfd09",
   "metadata": {},
   "source": [
    "Generate predictions using the trained model on the test data."
   ]
  },
  {
   "cell_type": "code",
   "execution_count": null,
   "id": "b15d76a8",
   "metadata": {},
   "outputs": [],
   "source": [
    "predictions = model.predict(test)"
   ]
  },
  {
   "cell_type": "markdown",
   "id": "9fdd4995",
   "metadata": {},
   "source": [
    "Read the test data from 'test.csv'."
   ]
  },
  {
   "cell_type": "code",
   "execution_count": null,
   "id": "104586b6",
   "metadata": {},
   "outputs": [],
   "source": [
    "test = pd.read_csv('test.csv')"
   ]
  },
  {
   "cell_type": "markdown",
   "id": "e4a0e602",
   "metadata": {},
   "source": [
    "Save the predictions to 'sample_submission.csv'."
   ]
  },
  {
   "cell_type": "code",
   "execution_count": null,
   "id": "0ce211c1",
   "metadata": {},
   "outputs": [],
   "source": [
    "predictions_df = pd.DataFrame(predictions, columns=['Predictions'])\n",
    "predictions_df.to_csv('sample_submission.csv', index=False)"
   ]
  },
  {
   "cell_type": "markdown",
   "id": "23267e3c",
   "metadata": {},
   "source": [
    "Visualize the distribution of predictions with a histogram."
   ]
  },
  {
   "cell_type": "code",
   "execution_count": null,
   "id": "afc5419d",
   "metadata": {},
   "outputs": [],
   "source": [
    "plt.hist(predictions)\n",
    "plt.title('Histogram')\n",
    "plt.show()"
   ]
  }
 ],
 "metadata": {
  "kernelspec": {
   "display_name": "Python 3",
   "language": "python",
   "name": "python3"
  },
  "language_info": {
   "codemirror_mode": {
    "name": "ipython",
    "version": 3
   },
   "file_extension": ".py",
   "mimetype": "text/x-python",
   "name": "python",
   "nbconvert_exporter": "python",
   "pygments_lexer": "ipython3",
   "version": "3.8.5"
  }
 },
 "nbformat": 4,
 "nbformat_minor": 5
}
