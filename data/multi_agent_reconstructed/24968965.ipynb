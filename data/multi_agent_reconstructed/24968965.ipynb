{
 "cells": [
  {
   "cell_type": "markdown",
   "id": "33f48e62",
   "metadata": {},
   "source": [
    "Load the CSV file containing tweets into a DataFrame."
   ]
  },
  {
   "cell_type": "code",
   "execution_count": null,
   "id": "e39f0811",
   "metadata": {},
   "outputs": [],
   "source": [
    "import pandas as pd\n",
    "\n",
    "tweets_df = pd.read_csv('tweets.csv')"
   ]
  },
  {
   "cell_type": "markdown",
   "id": "8d25506e",
   "metadata": {},
   "source": [
    "Process the DataFrame to retain only the 'date' and 'text' columns."
   ]
  },
  {
   "cell_type": "code",
   "execution_count": null,
   "id": "730ab9ce",
   "metadata": {},
   "outputs": [],
   "source": [
    "tweets_df = tweets_df[['date', 'text']]"
   ]
  }
 ],
 "metadata": {
  "kernelspec": {
   "display_name": "Python 3",
   "language": "python",
   "name": "python3"
  },
  "language_info": {
   "codemirror_mode": {
    "name": "ipython",
    "version": 3
   },
   "file_extension": ".py",
   "mimetype": "text/x-python",
   "name": "python",
   "nbconvert_exporter": "python",
   "pygments_lexer": "ipython3",
   "version": "3.8.5"
  }
 },
 "nbformat": 4,
 "nbformat_minor": 5
}
