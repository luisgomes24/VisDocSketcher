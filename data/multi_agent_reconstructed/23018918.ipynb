{
 "cells": [
  {
   "cell_type": "markdown",
   "id": "3d8f24a7",
   "metadata": {},
   "source": [
    "Load the CIFAR-10 dataset and split it into training and testing sets."
   ]
  },
  {
   "cell_type": "code",
   "execution_count": null,
   "id": "8ab227fb",
   "metadata": {},
   "outputs": [],
   "source": [
    "from keras.datasets import cifar10\n",
    "(X_train, y_train), (X_test, y_test) = cifar10.load_data()"
   ]
  },
  {
   "cell_type": "markdown",
   "id": "4b0c8ff9",
   "metadata": {},
   "source": [
    "Split the dataset into training and testing datasets."
   ]
  },
  {
   "cell_type": "code",
   "execution_count": null,
   "id": "b69b212b",
   "metadata": {},
   "outputs": [],
   "source": [
    "from sklearn.model_selection import train_test_split\n",
    "X_train, X_test, y_train, y_test = train_test_split(X, y, test_size=0.2)"
   ]
  },
  {
   "cell_type": "markdown",
   "id": "8a5a4ce5",
   "metadata": {},
   "source": [
    "Create an Artificial Neural Network (ANN) model."
   ]
  },
  {
   "cell_type": "code",
   "execution_count": null,
   "id": "b0351718",
   "metadata": {},
   "outputs": [],
   "source": [
    "from keras.models import Sequential\n",
    "from keras.layers import Dense, Flatten\n",
    "ann_model = Sequential()\n",
    "ann_model.add(Flatten(input_shape=(32, 32, 3)))\n",
    "ann_model.add(Dense(128, activation='relu'))\n",
    "ann_model.add(Dense(10, activation='softmax'))"
   ]
  },
  {
   "cell_type": "markdown",
   "id": "2ef4d1f5",
   "metadata": {},
   "source": [
    "Compile and train the ANN model using the training data."
   ]
  },
  {
   "cell_type": "code",
   "execution_count": null,
   "id": "4fca50e4",
   "metadata": {},
   "outputs": [],
   "source": [
    "ann_model.compile(loss='sparse_categorical_crossentropy', optimizer='adam', metrics=['accuracy'])\n",
    "ann_model.fit(X_train, y_train, epochs=10)"
   ]
  },
  {
   "cell_type": "markdown",
   "id": "ad751393",
   "metadata": {},
   "source": [
    "Use the ANN model to make predictions on the test dataset."
   ]
  },
  {
   "cell_type": "code",
   "execution_count": null,
   "id": "2cb9b0d9",
   "metadata": {},
   "outputs": [],
   "source": [
    "pred = ann_model.predict(X_test)"
   ]
  },
  {
   "cell_type": "markdown",
   "id": "0404637b",
   "metadata": {},
   "source": [
    "Create a Convolutional Neural Network (CNN) model."
   ]
  },
  {
   "cell_type": "code",
   "execution_count": null,
   "id": "bd5a8195",
   "metadata": {},
   "outputs": [],
   "source": [
    "from keras.models import Sequential\n",
    "from keras.layers import Conv2D, MaxPooling2D, Flatten, Dense\n",
    "cnn_model = Sequential()\n",
    "cnn_model.add(Conv2D(32, (3, 3), activation='relu', input_shape=(32, 32, 3)))\n",
    "cnn_model.add(MaxPooling2D(pool_size=(2, 2)))\n",
    "cnn_model.add(Flatten())\n",
    "cnn_model.add(Dense(128, activation='relu'))\n",
    "cnn_model.add(Dense(10, activation='softmax'))"
   ]
  },
  {
   "cell_type": "markdown",
   "id": "bdb4e1f5",
   "metadata": {},
   "source": [
    "Compile and train the CNN model using the training data."
   ]
  },
  {
   "cell_type": "code",
   "execution_count": null,
   "id": "718c881f",
   "metadata": {},
   "outputs": [],
   "source": [
    "cnn_model.compile(loss='sparse_categorical_crossentropy', optimizer='adam', metrics=['accuracy'])\n",
    "cnn_model.fit(X_train, y_train, epochs=10)"
   ]
  },
  {
   "cell_type": "markdown",
   "id": "cdd66a1d",
   "metadata": {},
   "source": [
    "Use the CNN model to make predictions on the test dataset."
   ]
  },
  {
   "cell_type": "code",
   "execution_count": null,
   "id": "1d3c3e6b",
   "metadata": {},
   "outputs": [],
   "source": [
    "res = cnn_model.predict(X_test)"
   ]
  },
  {
   "cell_type": "markdown",
   "id": "50b7b5a1",
   "metadata": {},
   "source": [
    "Evaluate the ANN model's performance using a classification report."
   ]
  },
  {
   "cell_type": "code",
   "execution_count": null,
   "id": "daa7e514",
   "metadata": {},
   "outputs": [],
   "source": [
    "from sklearn.metrics import classification_report\n",
    "print(classification_report(y_test, np.argmax(pred, axis=1)))"
   ]
  },
  {
   "cell_type": "markdown",
   "id": "bf1f92a6",
   "metadata": {},
   "source": [
    "Evaluate the CNN model's performance using a classification report."
   ]
  },
  {
   "cell_type": "code",
   "execution_count": null,
   "id": "a18e2f46",
   "metadata": {},
   "outputs": [],
   "source": [
    "print(classification_report(y_test, np.argmax(res, axis=1)))"
   ]
  }
 ],
 "metadata": {
  "kernelspec": {
   "display_name": "Python 3",
   "language": "python",
   "name": "python3"
  },
  "language_info": {
   "codemirror_mode": {
    "name": "ipython",
    "version": 3
   },
   "file_extension": ".py",
   "mimetype": "text/x-python",
   "name": "python",
   "nbconvert_exporter": "python",
   "pygments_lexer": "ipython3",
   "version": "3.8.5"
  }
 },
 "nbformat": 4,
 "nbformat_minor": 5
}
