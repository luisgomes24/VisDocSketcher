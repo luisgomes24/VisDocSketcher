{
 "cells": [
  {
   "cell_type": "markdown",
   "id": "6effed04",
   "metadata": {},
   "source": [
    "Read the first CSV file into a DataFrame."
   ]
  },
  {
   "cell_type": "code",
   "execution_count": null,
   "id": "152420f5",
   "metadata": {},
   "outputs": [],
   "source": [
    "import pandas as pd\n",
    "df1 = pd.read_csv('Dataset1_train.csv')"
   ]
  },
  {
   "cell_type": "markdown",
   "id": "ff27b61c",
   "metadata": {},
   "source": [
    "Filter df1 to create dfA1 with rows where PrimaryKey equals 'A1'."
   ]
  },
  {
   "cell_type": "code",
   "execution_count": null,
   "id": "3ef2faf1",
   "metadata": {},
   "outputs": [],
   "source": [
    "dfA1 = df1[df1['PrimaryKey'] == 'A1']"
   ]
  },
  {
   "cell_type": "markdown",
   "id": "aa07d7a4",
   "metadata": {},
   "source": [
    "Read the second CSV file into a DataFrame."
   ]
  },
  {
   "cell_type": "code",
   "execution_count": null,
   "id": "236da5ba",
   "metadata": {},
   "outputs": [],
   "source": [
    "df2 = pd.read_csv('Dataset2_train.csv')"
   ]
  },
  {
   "cell_type": "markdown",
   "id": "b18c6b05",
   "metadata": {},
   "source": [
    "Filter df2 to create dfA2 with rows where PrimaryKey is either 'A2' or 'A4'."
   ]
  },
  {
   "cell_type": "code",
   "execution_count": null,
   "id": "6c8df994",
   "metadata": {},
   "outputs": [],
   "source": [
    "dfA2 = df2[df2['PrimaryKey'].isin(['A2', 'A4'])]"
   ]
  },
  {
   "cell_type": "markdown",
   "id": "c8cc8c5b",
   "metadata": {},
   "source": [
    "Merge dfA1 and dfA2 based on a common key column."
   ]
  },
  {
   "cell_type": "code",
   "execution_count": null,
   "id": "d602358b",
   "metadata": {},
   "outputs": [],
   "source": [
    "df3 = pd.merge(dfA1, dfA2, on='KeyColumn')"
   ]
  },
  {
   "cell_type": "markdown",
   "id": "facf9916",
   "metadata": {},
   "source": [
    "Plot the relevant column from dfA1."
   ]
  },
  {
   "cell_type": "code",
   "execution_count": null,
   "id": "9e0b6014",
   "metadata": {},
   "outputs": [],
   "source": [
    "import matplotlib.pyplot as plt\n",
    "plt.plot(dfA1['Column'])\n",
    "plt.title('Plot of dfA1')\n",
    "plt.show()"
   ]
  },
  {
   "cell_type": "markdown",
   "id": "90a452d0",
   "metadata": {},
   "source": [
    "Plot the relevant column from dfA2."
   ]
  },
  {
   "cell_type": "code",
   "execution_count": null,
   "id": "948bdd02",
   "metadata": {},
   "outputs": [],
   "source": [
    "plt.plot(dfA2['Column'])\n",
    "plt.title('Plot of dfA2')\n",
    "plt.show()"
   ]
  },
  {
   "cell_type": "markdown",
   "id": "07ac677c",
   "metadata": {},
   "source": [
    "Plot the relevant column from the merged DataFrame df3."
   ]
  },
  {
   "cell_type": "code",
   "execution_count": null,
   "id": "2602db59",
   "metadata": {},
   "outputs": [],
   "source": [
    "plt.plot(df3['Column'])\n",
    "plt.title('Plot of df3')\n",
    "plt.show()"
   ]
  }
 ],
 "metadata": {
  "kernelspec": {
   "display_name": "Python 3",
   "language": "python",
   "name": "python3"
  },
  "language_info": {
   "codemirror_mode": {
    "name": "ipython",
    "version": 3
   },
   "file_extension": ".py",
   "mimetype": "text/x-python",
   "name": "python",
   "nbconvert_exporter": "python",
   "pygments_lexer": "ipython3",
   "version": "3.8.5"
  }
 },
 "nbformat": 4,
 "nbformat_minor": 5
}
