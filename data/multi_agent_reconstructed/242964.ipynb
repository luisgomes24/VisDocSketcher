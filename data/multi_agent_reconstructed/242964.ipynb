{
 "cells": [
  {
   "cell_type": "markdown",
   "id": "ff003bd8",
   "metadata": {},
   "source": [
    "Load the weather data from a CSV file using Pandas."
   ]
  },
  {
   "cell_type": "code",
   "execution_count": null,
   "id": "21d902e9",
   "metadata": {},
   "outputs": [],
   "source": [
    "import pandas as pd\n",
    "weather_data = pd.read_csv('weather_data.csv')"
   ]
  },
  {
   "cell_type": "markdown",
   "id": "4c81fb66",
   "metadata": {},
   "source": [
    "Create a DataFrame from the loaded weather data."
   ]
  },
  {
   "cell_type": "code",
   "execution_count": null,
   "id": "f51d20ed",
   "metadata": {},
   "outputs": [],
   "source": [
    "df = pd.DataFrame(weather_data)"
   ]
  },
  {
   "cell_type": "markdown",
   "id": "a0e65d7a",
   "metadata": {},
   "source": [
    "Aggregate the data by year, calculating the mean for each year."
   ]
  },
  {
   "cell_type": "code",
   "execution_count": null,
   "id": "85e939ed",
   "metadata": {},
   "outputs": [],
   "source": [
    "aggregated_data = df.groupby(df['date'].dt.year).mean()"
   ]
  },
  {
   "cell_type": "markdown",
   "id": "389c5da0",
   "metadata": {},
   "source": [
    "Prepare to create plots with Matplotlib."
   ]
  },
  {
   "cell_type": "code",
   "execution_count": null,
   "id": "ec5a46e4",
   "metadata": {},
   "outputs": [],
   "source": [
    "import matplotlib.pyplot as plt\n",
    "plt.figure(figsize=(10, 5))"
   ]
  },
  {
   "cell_type": "markdown",
   "id": "4acb6c6c",
   "metadata": {},
   "source": [
    "Plot and save the yearly heat index over the years."
   ]
  },
  {
   "cell_type": "code",
   "execution_count": null,
   "id": "fcb45ff2",
   "metadata": {},
   "outputs": [],
   "source": [
    "plt.plot(aggregated_data.index, aggregated_data['heat_index'])\n",
    "plt.title('Yearly Heat Index Plot')\n",
    "plt.xlabel('Year')\n",
    "plt.ylabel('Heat Index')\n",
    "plt.savefig('yearly_heat_index_plot.png')"
   ]
  },
  {
   "cell_type": "markdown",
   "id": "40e9e82c",
   "metadata": {},
   "source": [
    "Plot and save the yearly rainfall over the years."
   ]
  },
  {
   "cell_type": "code",
   "execution_count": null,
   "id": "fc9fe8ac",
   "metadata": {},
   "outputs": [],
   "source": [
    "plt.figure(figsize=(10, 5))\n",
    "plt.plot(aggregated_data.index, aggregated_data['rainfall'])\n",
    "plt.title('Yearly Rainfall Plot')\n",
    "plt.xlabel('Year')\n",
    "plt.ylabel('Rainfall')\n",
    "plt.savefig('yearly_rainfall_plot.png')"
   ]
  }
 ],
 "metadata": {
  "kernelspec": {
   "display_name": "Python 3",
   "language": "python",
   "name": "python3"
  },
  "language_info": {
   "codemirror_mode": {
    "name": "ipython",
    "version": 3
   },
   "file_extension": ".py",
   "mimetype": "text/x-python",
   "name": "python",
   "nbconvert_exporter": "python",
   "pygments_lexer": "ipython3",
   "version": "3.8.5"
  }
 },
 "nbformat": 4,
 "nbformat_minor": 5
}
