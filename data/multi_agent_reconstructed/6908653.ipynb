{
 "cells": [
  {
   "cell_type": "markdown",
   "id": "f25ffe0a",
   "metadata": {},
   "source": [
    "Sets the number of rows to read from the CSV file."
   ]
  },
  {
   "cell_type": "code",
   "execution_count": null,
   "id": "5c83eee7",
   "metadata": {},
   "outputs": [],
   "source": [
    "import pandas as pd\n",
    "nRowsRead = 1000"
   ]
  },
  {
   "cell_type": "markdown",
   "id": "d5757f79",
   "metadata": {},
   "source": [
    "Reads the first 1000 rows from the specified CSV file into a DataFrame."
   ]
  },
  {
   "cell_type": "code",
   "execution_count": null,
   "id": "ea1a393e",
   "metadata": {},
   "outputs": [],
   "source": [
    "df1 = pd.read_csv('time_series_new-3000.csv', nrows=nRowsRead)"
   ]
  },
  {
   "cell_type": "markdown",
   "id": "8145d8fd",
   "metadata": {},
   "source": [
    "Calculates the number of rows in the DataFrame."
   ]
  },
  {
   "cell_type": "code",
   "execution_count": null,
   "id": "a5cbe64a",
   "metadata": {},
   "outputs": [],
   "source": [
    "nRow = df1.shape[0]"
   ]
  },
  {
   "cell_type": "markdown",
   "id": "8d176625",
   "metadata": {},
   "source": [
    "Calculates the number of columns in the DataFrame."
   ]
  },
  {
   "cell_type": "code",
   "execution_count": null,
   "id": "08c53452",
   "metadata": {},
   "outputs": [],
   "source": [
    "nCol = df1.shape[1]"
   ]
  },
  {
   "cell_type": "markdown",
   "id": "481ac6b7",
   "metadata": {},
   "source": [
    "Plots the distribution of values in each column of the DataFrame."
   ]
  },
  {
   "cell_type": "code",
   "execution_count": null,
   "id": "e72ca1d8",
   "metadata": {},
   "outputs": [],
   "source": [
    "import seaborn as sns\n",
    "import matplotlib.pyplot as plt\n",
    "sns.countplot(data=df1)\n",
    "plt.show()"
   ]
  },
  {
   "cell_type": "markdown",
   "id": "207710a2",
   "metadata": {},
   "source": [
    "Plots a correlation matrix to visualize the relationships between numerical columns."
   ]
  },
  {
   "cell_type": "code",
   "execution_count": null,
   "id": "8c67a2ab",
   "metadata": {},
   "outputs": [],
   "source": [
    "sns.heatmap(df1.corr(), annot=True)\n",
    "plt.show()"
   ]
  },
  {
   "cell_type": "markdown",
   "id": "d442ff9c",
   "metadata": {},
   "source": [
    "Generates a scatter matrix to explore the pairwise relationships in the DataFrame."
   ]
  },
  {
   "cell_type": "code",
   "execution_count": null,
   "id": "dfc20b6d",
   "metadata": {},
   "outputs": [],
   "source": [
    "pd.plotting.scatter_matrix(df1, figsize=(10, 10))\n",
    "plt.show()"
   ]
  }
 ],
 "metadata": {
  "kernelspec": {
   "display_name": "Python 3",
   "language": "python",
   "name": "python3"
  },
  "language_info": {
   "codemirror_mode": {
    "name": "ipython",
    "version": 3
   },
   "file_extension": ".py",
   "mimetype": "text/x-python",
   "name": "python",
   "nbconvert_exporter": "python",
   "pygments_lexer": "ipython3",
   "version": "3.8.5"
  }
 },
 "nbformat": 4,
 "nbformat_minor": 5
}
