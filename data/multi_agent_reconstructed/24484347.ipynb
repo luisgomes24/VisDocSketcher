{
 "cells": [
  {
   "cell_type": "markdown",
   "id": "cb92117a",
   "metadata": {},
   "source": [
    "Load the US energy data from a CSV file."
   ]
  },
  {
   "cell_type": "code",
   "execution_count": null,
   "id": "8db2c692",
   "metadata": {},
   "outputs": [],
   "source": [
    "import pandas as pd\n",
    "\n",
    "df = pd.read_csv('../input/tsdata-1/us_energy.csv')"
   ]
  },
  {
   "cell_type": "markdown",
   "id": "27c61937",
   "metadata": {},
   "source": [
    "Set the date column as the index and plot the data."
   ]
  },
  {
   "cell_type": "code",
   "execution_count": null,
   "id": "f37307f1",
   "metadata": {},
   "outputs": [],
   "source": [
    "df.set_index('date', inplace=True)\n",
    "\n",
    "df.plot()"
   ]
  },
  {
   "cell_type": "markdown",
   "id": "1f044b85",
   "metadata": {},
   "source": [
    "Perform seasonal decomposition on the data and plot the results."
   ]
  },
  {
   "cell_type": "code",
   "execution_count": null,
   "id": "58efb296",
   "metadata": {},
   "outputs": [],
   "source": [
    "from statsmodels.tsa.seasonal import seasonal_decompose\n",
    "\n",
    "decomposition = seasonal_decompose(df['value'], model='additive')\n",
    "\n",
    "decomposition.plot()"
   ]
  },
  {
   "cell_type": "markdown",
   "id": "917be905",
   "metadata": {},
   "source": [
    "Split the data into training and validation sets at the cutoff date."
   ]
  },
  {
   "cell_type": "code",
   "execution_count": null,
   "id": "d11617d9",
   "metadata": {},
   "outputs": [],
   "source": [
    "cutoff = '2020-01-01'\n",
    "\n",
    "xtrain = df.loc[:cutoff]\n",
    "xvalid = df.loc[cutoff:]"
   ]
  },
  {
   "cell_type": "markdown",
   "id": "13f24245",
   "metadata": {},
   "source": [
    "Fit an Exponential Smoothing model to the training data."
   ]
  },
  {
   "cell_type": "code",
   "execution_count": null,
   "id": "02ca4771",
   "metadata": {},
   "outputs": [],
   "source": [
    "from statsmodels.tsa.holtwinters import ExponentialSmoothing\n",
    "\n",
    "model = ExponentialSmoothing(xtrain, seasonal='add', seasonal_periods=12).fit()"
   ]
  },
  {
   "cell_type": "markdown",
   "id": "f64ce2b5",
   "metadata": {},
   "source": [
    "Generate forecasts for the validation period."
   ]
  },
  {
   "cell_type": "code",
   "execution_count": null,
   "id": "e3dce5e1",
   "metadata": {},
   "outputs": [],
   "source": [
    "forecast = model.forecast(len(xvalid))"
   ]
  },
  {
   "cell_type": "markdown",
   "id": "08c419e3",
   "metadata": {},
   "source": [
    "Plot the actual vs. forecasted values to visualize performance."
   ]
  },
  {
   "cell_type": "code",
   "execution_count": null,
   "id": "4249d6fb",
   "metadata": {},
   "outputs": [],
   "source": [
    "import matplotlib.pyplot as plt\n",
    "\n",
    "plt.plot(xvalid.index, xvalid['value'], label='Actual')\n",
    "plt.plot(xvalid.index, forecast, label='Forecast')\n",
    "plt.legend()\n",
    "plt.show()"
   ]
  },
  {
   "cell_type": "markdown",
   "id": "17e25b21",
   "metadata": {},
   "source": [
    "Plot the autocorrelation of the forecasted values."
   ]
  },
  {
   "cell_type": "code",
   "execution_count": null,
   "id": "91973c8a",
   "metadata": {},
   "outputs": [],
   "source": [
    "from pandas.plotting import autocorrelation_plot\n",
    "\n",
    "autocorrelation_plot(forecast)"
   ]
  },
  {
   "cell_type": "markdown",
   "id": "9be1c937",
   "metadata": {},
   "source": [
    "Load the greenhouse climate data from a CSV file."
   ]
  },
  {
   "cell_type": "code",
   "execution_count": null,
   "id": "29da49f8",
   "metadata": {},
   "outputs": [],
   "source": [
    "xdat = pd.read_csv('../input/greenhouse-dataset/GreenhouseClimate1.csv')"
   ]
  },
  {
   "cell_type": "markdown",
   "id": "b9899db3",
   "metadata": {},
   "source": [
    "Perform data cleaning by removing NaN values and obtaining descriptive statistics."
   ]
  },
  {
   "cell_type": "code",
   "execution_count": null,
   "id": "c34987fc",
   "metadata": {},
   "outputs": [],
   "source": [
    "xdat.dropna(inplace=True)\n",
    "\n",
    "descriptive_stats = xdat.describe()"
   ]
  },
  {
   "cell_type": "markdown",
   "id": "c22e2abc",
   "metadata": {},
   "source": [
    "Fit a Prophet model to the cleaned climate data."
   ]
  },
  {
   "cell_type": "code",
   "execution_count": null,
   "id": "6c5018d2",
   "metadata": {},
   "outputs": [],
   "source": [
    "from fbprophet import Prophet\n",
    "\n",
    "prophet_model = Prophet()\n",
    "prophet_model.fit(xdat)"
   ]
  },
  {
   "cell_type": "markdown",
   "id": "b9a4b0c8",
   "metadata": {},
   "source": [
    "Perform cross-validation on the Prophet model to evaluate performance."
   ]
  },
  {
   "cell_type": "code",
   "execution_count": null,
   "id": "cea86498",
   "metadata": {},
   "outputs": [],
   "source": [
    "from fbprophet.diagnostics import cross_validation\n",
    "\n",
    "df_cv = cross_validation(prophet_model, initial='365 days', period='30 days', horizon='30 days')"
   ]
  },
  {
   "cell_type": "markdown",
   "id": "03e9d63b",
   "metadata": {},
   "source": [
    "Calculate performance metrics from the cross-validation results."
   ]
  },
  {
   "cell_type": "code",
   "execution_count": null,
   "id": "0628d59c",
   "metadata": {},
   "outputs": [],
   "source": [
    "from fbprophet.diagnostics import performance_metrics\n",
    "\n",
    "metrics = performance_metrics(df_cv)"
   ]
  },
  {
   "cell_type": "markdown",
   "id": "f60959fa",
   "metadata": {},
   "source": [
    "Fit a NeuralProphet model to the cleaned climate data."
   ]
  },
  {
   "cell_type": "code",
   "execution_count": null,
   "id": "335a57f2",
   "metadata": {},
   "outputs": [],
   "source": [
    "neural_prophet_model = NeuralProphet()\n",
    "neural_prophet_model.fit(xdat)"
   ]
  },
  {
   "cell_type": "markdown",
   "id": "615f6f04",
   "metadata": {},
   "source": [
    "Generate forecasts using both Prophet and NeuralProphet models."
   ]
  },
  {
   "cell_type": "code",
   "execution_count": null,
   "id": "c1f1599b",
   "metadata": {},
   "outputs": [],
   "source": [
    "prophet_forecast = prophet_model.predict(future)\n",
    "neural_forecast = neural_prophet_model.predict(future)"
   ]
  },
  {
   "cell_type": "markdown",
   "id": "badf3970",
   "metadata": {},
   "source": [
    "Create a DataFrame to compare predictions from both models."
   ]
  },
  {
   "cell_type": "code",
   "execution_count": null,
   "id": "ba948121",
   "metadata": {},
   "outputs": [],
   "source": [
    "comparison_df = pd.DataFrame({'Prophet': prophet_forecast['yhat'], 'NeuralProphet': neural_forecast['yhat']})"
   ]
  }
 ],
 "metadata": {
  "kernelspec": {
   "display_name": "Python 3",
   "language": "python",
   "name": "python3"
  },
  "language_info": {
   "codemirror_mode": {
    "name": "ipython",
    "version": 3
   },
   "file_extension": ".py",
   "mimetype": "text/x-python",
   "name": "python",
   "nbconvert_exporter": "python",
   "pygments_lexer": "ipython3",
   "version": "3.8.5"
  }
 },
 "nbformat": 4,
 "nbformat_minor": 5
}
