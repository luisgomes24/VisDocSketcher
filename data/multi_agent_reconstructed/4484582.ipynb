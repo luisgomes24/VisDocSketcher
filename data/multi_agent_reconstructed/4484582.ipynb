{
 "cells": [
  {
   "cell_type": "markdown",
   "id": "9af15624",
   "metadata": {},
   "source": [
    "Load DICOM images from a specified folder using the pydicom library."
   ]
  },
  {
   "cell_type": "code",
   "execution_count": null,
   "id": "c0e72347",
   "metadata": {},
   "outputs": [],
   "source": [
    "import pydicom\n",
    "import os\n",
    "\n",
    "def load_dicom_images(folder_path):\n",
    "    images = []\n",
    "    for filename in os.listdir(folder_path):\n",
    "        if filename.endswith('.dcm'):\n",
    "            filepath = os.path.join(folder_path, filename)\n",
    "            images.append(pydicom.dcmread(filepath))\n",
    "    return images"
   ]
  },
  {
   "cell_type": "markdown",
   "id": "835d7b7c",
   "metadata": {},
   "source": [
    "Visualize the loaded DICOM images using Matplotlib."
   ]
  },
  {
   "cell_type": "code",
   "execution_count": null,
   "id": "937ffccd",
   "metadata": {},
   "outputs": [],
   "source": [
    "import matplotlib.pyplot as plt\n",
    "\n",
    "def visualize_images(images):\n",
    "    for image in images:\n",
    "        plt.imshow(image.pixel_array, cmap='gray')\n",
    "        plt.axis('off')\n",
    "        plt.show()"
   ]
  },
  {
   "cell_type": "markdown",
   "id": "81cd3966",
   "metadata": {},
   "source": [
    "Apply image processing techniques like Gaussian blur to the images."
   ]
  },
  {
   "cell_type": "code",
   "execution_count": null,
   "id": "66bc5836",
   "metadata": {},
   "outputs": [],
   "source": [
    "import cv2\n",
    "\n",
    "def process_images(images):\n",
    "    processed_images = []\n",
    "    for image in images:\n",
    "        img_array = image.pixel_array\n",
    "        processed = cv2GaussianBlur(img_array, (5, 5), 0)\n",
    "        processed_images.append(processed)\n",
    "    return processed_images"
   ]
  },
  {
   "cell_type": "markdown",
   "id": "e7481deb",
   "metadata": {},
   "source": [
    "Generate binary masks from processed images using thresholding."
   ]
  },
  {
   "cell_type": "code",
   "execution_count": null,
   "id": "fe9f49da",
   "metadata": {},
   "outputs": [],
   "source": [
    "import numpy as np\n",
    "\n",
    "def generate_masks(processed_images):\n",
    "    masks = []\n",
    "    for img in processed_images:\n",
    "        _, mask = cv2.threshold(img, 127, 255, cv2.THRESH_BINARY)\n",
    "        masks.append(mask)\n",
    "    return masks"
   ]
  },
  {
   "cell_type": "markdown",
   "id": "92c29766",
   "metadata": {},
   "source": [
    "Visualize the generated masks using Matplotlib."
   ]
  },
  {
   "cell_type": "code",
   "execution_count": null,
   "id": "3e156225",
   "metadata": {},
   "outputs": [],
   "source": [
    "def visualize_output(masks):\n",
    "    for mask in masks:\n",
    "        plt.imshow(mask, cmap='gray')\n",
    "        plt.axis('off')\n",
    "        plt.show()"
   ]
  }
 ],
 "metadata": {
  "kernelspec": {
   "display_name": "Python 3",
   "language": "python",
   "name": "python3"
  },
  "language_info": {
   "codemirror_mode": {
    "name": "ipython",
    "version": 3
   },
   "file_extension": ".py",
   "mimetype": "text/x-python",
   "name": "python",
   "nbconvert_exporter": "python",
   "pygments_lexer": "ipython3",
   "version": "3.8.5"
  }
 },
 "nbformat": 4,
 "nbformat_minor": 5
}
