{
 "cells": [
  {
   "cell_type": "markdown",
   "id": "eeb594ad",
   "metadata": {},
   "source": [
    "Load data from 'hotel_bookings.csv' into a DataFrame."
   ]
  },
  {
   "cell_type": "code",
   "execution_count": null,
   "id": "224f5462",
   "metadata": {},
   "outputs": [],
   "source": [
    "import pandas as pd\n",
    "df = pd.read_csv('hotel_bookings.csv')"
   ]
  },
  {
   "cell_type": "markdown",
   "id": "58e83e3f",
   "metadata": {},
   "source": [
    "Clean data by dropping missing values and replacing NaNs with 'unknown'."
   ]
  },
  {
   "cell_type": "code",
   "execution_count": null,
   "id": "8f260d99",
   "metadata": {},
   "outputs": [],
   "source": [
    "df.dropna(inplace=True)\n",
    "df.fillna('unknown', inplace=True)"
   ]
  },
  {
   "cell_type": "markdown",
   "id": "14b3a974",
   "metadata": {},
   "source": [
    "Load the DistilBERT model for sequence classification."
   ]
  },
  {
   "cell_type": "code",
   "execution_count": null,
   "id": "7492a8ea",
   "metadata": {},
   "outputs": [],
   "source": [
    "from transformers import DistilBertTokenizer, DistilBertForSequenceClassification\n",
    "model = DistilBertForSequenceClassification.from_pretrained('distilbert-base-uncased')"
   ]
  },
  {
   "cell_type": "markdown",
   "id": "244cca16",
   "metadata": {},
   "source": [
    "Split the data into training and testing sets."
   ]
  },
  {
   "cell_type": "code",
   "execution_count": null,
   "id": "e773bf4f",
   "metadata": {},
   "outputs": [],
   "source": [
    "from sklearn.model_selection import train_test_split\n",
    "train_df, test_df = train_test_split(df, test_size=0.2)"
   ]
  },
  {
   "cell_type": "markdown",
   "id": "e067774e",
   "metadata": {},
   "source": [
    "Train the DistilBERT model on the training data."
   ]
  },
  {
   "cell_type": "code",
   "execution_count": null,
   "id": "e24ef0d8",
   "metadata": {},
   "outputs": [],
   "source": [
    "model.train()  # Assuming model training code here"
   ]
  },
  {
   "cell_type": "markdown",
   "id": "299ba52d",
   "metadata": {},
   "source": [
    "Generate model evaluation metrics based on the test data."
   ]
  },
  {
   "cell_type": "code",
   "execution_count": null,
   "id": "81493397",
   "metadata": {},
   "outputs": [],
   "source": [
    "metrics = model.evaluate(test_df)  # Assuming evaluation method\n",
    "print(metrics)"
   ]
  },
  {
   "cell_type": "markdown",
   "id": "85893c92",
   "metadata": {},
   "source": [
    "Save the trained model to a file for future use."
   ]
  },
  {
   "cell_type": "code",
   "execution_count": null,
   "id": "db156794",
   "metadata": {},
   "outputs": [],
   "source": [
    "import joblib\n",
    "joblib.dump(model, 'distilbert_model.pkl')"
   ]
  },
  {
   "cell_type": "markdown",
   "id": "62dbd131",
   "metadata": {},
   "source": [
    "Make predictions on the test data using the trained model."
   ]
  },
  {
   "cell_type": "code",
   "execution_count": null,
   "id": "08c632e8",
   "metadata": {},
   "outputs": [],
   "source": [
    "predictions = model.predict(test_df)  # Assuming prediction method"
   ]
  },
  {
   "cell_type": "markdown",
   "id": "9ec0eedf",
   "metadata": {},
   "source": [
    "Visualize the predictions using a histogram."
   ]
  },
  {
   "cell_type": "code",
   "execution_count": null,
   "id": "d07d068b",
   "metadata": {},
   "outputs": [],
   "source": [
    "import matplotlib.pyplot as plt\n",
    "plt.hist(predictions)\n",
    "plt.show()"
   ]
  }
 ],
 "metadata": {
  "kernelspec": {
   "display_name": "Python 3",
   "language": "python",
   "name": "python3"
  },
  "language_info": {
   "codemirror_mode": {
    "name": "ipython",
    "version": 3
   },
   "file_extension": ".py",
   "mimetype": "text/x-python",
   "name": "python",
   "nbconvert_exporter": "python",
   "pygments_lexer": "ipython3",
   "version": "3.8.5"
  }
 },
 "nbformat": 4,
 "nbformat_minor": 5
}
