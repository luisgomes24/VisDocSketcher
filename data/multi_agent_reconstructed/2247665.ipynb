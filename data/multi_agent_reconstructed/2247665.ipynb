{
 "cells": [
  {
   "cell_type": "markdown",
   "id": "7ce0a4a3",
   "metadata": {},
   "source": [
    "Load data from 'train.csv' into a DataFrame named 'home_data'."
   ]
  },
  {
   "cell_type": "code",
   "execution_count": null,
   "id": "aa3dada2",
   "metadata": {},
   "outputs": [],
   "source": [
    "import pandas as pd\n",
    "home_data = pd.read_csv('train.csv')"
   ]
  },
  {
   "cell_type": "markdown",
   "id": "4aa2f800",
   "metadata": {},
   "source": [
    "Extract the target variable 'SalePrice' from the DataFrame."
   ]
  },
  {
   "cell_type": "code",
   "execution_count": null,
   "id": "01feeb31",
   "metadata": {},
   "outputs": [],
   "source": [
    "y = home_data['SalePrice']"
   ]
  },
  {
   "cell_type": "markdown",
   "id": "8f2e51a8",
   "metadata": {},
   "source": [
    "Split the data into training and test sets."
   ]
  },
  {
   "cell_type": "code",
   "execution_count": null,
   "id": "7346ddbe",
   "metadata": {},
   "outputs": [],
   "source": [
    "from sklearn.model_selection import train_test_split\n",
    "X_train, X_test, y_train, y_test = train_test_split(home_data.drop('SalePrice', axis=1), y, test_size=0.2, random_state=42)"
   ]
  },
  {
   "cell_type": "markdown",
   "id": "477c4c26",
   "metadata": {},
   "source": [
    "Train a linear regression model using the training data."
   ]
  },
  {
   "cell_type": "code",
   "execution_count": null,
   "id": "ed49a2a9",
   "metadata": {},
   "outputs": [],
   "source": [
    "from sklearn.linear_model import LinearRegression\n",
    "model = LinearRegression()\n",
    "model.fit(X_train, y_train)"
   ]
  },
  {
   "cell_type": "markdown",
   "id": "22a6f2d4",
   "metadata": {},
   "source": [
    "Make predictions on the test set."
   ]
  },
  {
   "cell_type": "code",
   "execution_count": null,
   "id": "b7af6f68",
   "metadata": {},
   "outputs": [],
   "source": [
    "predictions = model.predict(X_test)"
   ]
  },
  {
   "cell_type": "markdown",
   "id": "f0cf991b",
   "metadata": {},
   "source": [
    "Evaluate the model using Mean Squared Error and R-squared metrics."
   ]
  },
  {
   "cell_type": "code",
   "execution_count": null,
   "id": "80092bbb",
   "metadata": {},
   "outputs": [],
   "source": [
    "from sklearn.metrics import mean_squared_error, r2_score\n",
    "mse = mean_squared_error(y_test, predictions)\n",
    "r2 = r2_score(y_test, predictions)"
   ]
  },
  {
   "cell_type": "markdown",
   "id": "757c02dd",
   "metadata": {},
   "source": [
    "Summarize the evaluation metrics into a DataFrame called 'results_summary'."
   ]
  },
  {
   "cell_type": "code",
   "execution_count": null,
   "id": "392bdd0b",
   "metadata": {},
   "outputs": [],
   "source": [
    "results_summary = pd.DataFrame({'MSE': [mse], 'R²': [r2]})"
   ]
  }
 ],
 "metadata": {
  "kernelspec": {
   "display_name": "Python 3",
   "language": "python",
   "name": "python3"
  },
  "language_info": {
   "codemirror_mode": {
    "name": "ipython",
    "version": 3
   },
   "file_extension": ".py",
   "mimetype": "text/x-python",
   "name": "python",
   "nbconvert_exporter": "python",
   "pygments_lexer": "ipython3",
   "version": "3.8.5"
  }
 },
 "nbformat": 4,
 "nbformat_minor": 5
}
