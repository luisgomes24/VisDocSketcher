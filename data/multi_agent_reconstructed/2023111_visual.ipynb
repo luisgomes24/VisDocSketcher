{
 "cells": [
  {
   "cell_type": "markdown",
   "id": "128c0cbb",
   "metadata": {},
   "source": [
    "Read the CSV file into a DataFrame named 'suicide_attacks'."
   ]
  },
  {
   "cell_type": "code",
   "execution_count": null,
   "id": "cee8bea7",
   "metadata": {},
   "outputs": [],
   "source": [
    "import pandas as pd\n",
    "suicide_attacks = pd.read_csv('PakistanSuicideAttacks.csv')"
   ]
  },
  {
   "cell_type": "markdown",
   "id": "06b87dbd",
   "metadata": {},
   "source": [
    "Extract unique cities from the 'City' column."
   ]
  },
  {
   "cell_type": "code",
   "execution_count": null,
   "id": "b8085e9f",
   "metadata": {},
   "outputs": [],
   "source": [
    "cities = suicide_attacks['City'].unique()"
   ]
  },
  {
   "cell_type": "markdown",
   "id": "7da0f635",
   "metadata": {},
   "source": [
    "Extract unique provinces from the 'Province' column."
   ]
  },
  {
   "cell_type": "code",
   "execution_count": null,
   "id": "b3034963",
   "metadata": {},
   "outputs": [],
   "source": [
    "prov = suicide_attacks['Province'].unique()"
   ]
  },
  {
   "cell_type": "markdown",
   "id": "07a568e9",
   "metadata": {},
   "source": [
    "Clean the city names by converting them to lowercase and stripping whitespace."
   ]
  },
  {
   "cell_type": "code",
   "execution_count": null,
   "id": "43111bdf",
   "metadata": {},
   "outputs": [],
   "source": [
    "cleaned_cities = [city.lower().strip() for city in cities]"
   ]
  },
  {
   "cell_type": "markdown",
   "id": "cc6f56d9",
   "metadata": {},
   "source": [
    "Clean the province names by converting them to lowercase."
   ]
  },
  {
   "cell_type": "code",
   "execution_count": null,
   "id": "eded9b47",
   "metadata": {},
   "outputs": [],
   "source": [
    "cleaned_prov = [province.lower() for province in prov]"
   ]
  },
  {
   "cell_type": "markdown",
   "id": "0a272345",
   "metadata": {},
   "source": [
    "Create a corrected DataFrame by updating the 'City' and 'Province' columns."
   ]
  },
  {
   "cell_type": "code",
   "execution_count": null,
   "id": "26fc896e",
   "metadata": {},
   "outputs": [],
   "source": [
    "corrected_df = suicide_attacks.copy()\n",
    "corrected_df['City'] = cleaned_cities\n",
    "corrected_df['Province'] = cleaned_prov"
   ]
  }
 ],
 "metadata": {
  "kernelspec": {
   "display_name": "Python 3",
   "language": "python",
   "name": "python3"
  },
  "language_info": {
   "codemirror_mode": {
    "name": "ipython",
    "version": 3
   },
   "file_extension": ".py",
   "mimetype": "text/x-python",
   "name": "python",
   "nbconvert_exporter": "python",
   "pygments_lexer": "ipython3",
   "version": "3.8.5"
  }
 },
 "nbformat": 4,
 "nbformat_minor": 5
}
