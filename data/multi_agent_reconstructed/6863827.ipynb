{
 "cells": [
  {
   "cell_type": "markdown",
   "id": "efe71a3e",
   "metadata": {},
   "source": [
    "The function `start()` initiates the workflow and calls the `process()` function."
   ]
  },
  {
   "cell_type": "code",
   "execution_count": null,
   "id": "b25ece37",
   "metadata": {},
   "outputs": [],
   "source": [
    "def start():\n",
    "    print('Starting the process')\n",
    "    process()"
   ]
  },
  {
   "cell_type": "markdown",
   "id": "240875e8",
   "metadata": {},
   "source": [
    "The `process()` function simulates data processing and proceeds to the `decision()` function."
   ]
  },
  {
   "cell_type": "code",
   "execution_count": null,
   "id": "4cb9f9f1",
   "metadata": {},
   "outputs": [],
   "source": [
    "def process():\n",
    "    print('Processing data')\n",
    "    decision()"
   ]
  },
  {
   "cell_type": "markdown",
   "id": "2cf66cc0",
   "metadata": {},
   "source": [
    "The `decision()` function asks the user for input to determine the next step. It either ends the process or loops back to processing."
   ]
  },
  {
   "cell_type": "code",
   "execution_count": null,
   "id": "0ed51a28",
   "metadata": {},
   "outputs": [],
   "source": [
    "def decision():\n",
    "    user_input = input('Is the condition met? (yes/no): ')\n",
    "    if user_input.lower() == 'yes':\n",
    "        end()\n",
    "    else:\n",
    "        process()"
   ]
  },
  {
   "cell_type": "markdown",
   "id": "f789c664",
   "metadata": {},
   "source": [
    "The `end()` function signifies the completion of the workflow."
   ]
  },
  {
   "cell_type": "code",
   "execution_count": null,
   "id": "deb12b61",
   "metadata": {},
   "outputs": [],
   "source": [
    "def end():\n",
    "    print('Ending the process')"
   ]
  }
 ],
 "metadata": {
  "kernelspec": {
   "display_name": "Python 3",
   "language": "python",
   "name": "python3"
  },
  "language_info": {
   "codemirror_mode": {
    "name": "ipython",
    "version": 3
   },
   "file_extension": ".py",
   "mimetype": "text/x-python",
   "name": "python",
   "nbconvert_exporter": "python",
   "pygments_lexer": "ipython3",
   "version": "3.8.5"
  }
 },
 "nbformat": 4,
 "nbformat_minor": 5
}
