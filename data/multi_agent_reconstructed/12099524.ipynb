{
 "cells": [
  {
   "cell_type": "markdown",
   "id": "b345ca24",
   "metadata": {},
   "source": [
    "Load and concatenate metadata parquet parts and feature CSV into a single DataFrame."
   ]
  },
  {
   "cell_type": "code",
   "execution_count": null,
   "id": "8d5c349d",
   "metadata": {},
   "outputs": [],
   "source": [
    "import pandas as pd\n",
    "train_meta_parts = pd.read_parquet('train_metadata.parquet')\n",
    "train_feat_df = pd.read_csv('train_features.csv')\n",
    "train_metadf = pd.concat([train_meta_parts, train_feat_df], axis=1)"
   ]
  },
  {
   "cell_type": "markdown",
   "id": "85b8910f",
   "metadata": {},
   "source": [
    "Extract unique IDs from the training feature DataFrame."
   ]
  },
  {
   "cell_type": "code",
   "execution_count": null,
   "id": "76764b6e",
   "metadata": {},
   "outputs": [],
   "source": [
    "unique_pids = train_feat_df['id'].unique()"
   ]
  },
  {
   "cell_type": "markdown",
   "id": "6b1b9ada",
   "metadata": {},
   "source": [
    "Calculate 5% of the unique IDs for validation."
   ]
  },
  {
   "cell_type": "code",
   "execution_count": null,
   "id": "3b29a101",
   "metadata": {},
   "outputs": [],
   "source": [
    "nvalid = int(len(unique_pids) * 0.05)"
   ]
  },
  {
   "cell_type": "markdown",
   "id": "8f63f783",
   "metadata": {},
   "source": [
    "Organize training data into a dictionary using unique IDs."
   ]
  },
  {
   "cell_type": "code",
   "execution_count": null,
   "id": "6ccce5bc",
   "metadata": {},
   "outputs": [],
   "source": [
    "files_dict = {pid: train_feat_df[train_feat_df['id'] == pid] for pid in unique_pids[:nvalid]}"
   ]
  },
  {
   "cell_type": "markdown",
   "id": "63ed4803",
   "metadata": {},
   "source": [
    "Create a DataBlock instance to manage the training data."
   ]
  },
  {
   "cell_type": "code",
   "execution_count": null,
   "id": "83892fd5",
   "metadata": {},
   "outputs": [],
   "source": [
    "data_block = DataBlock(data=files_dict)"
   ]
  },
  {
   "cell_type": "markdown",
   "id": "353b4253",
   "metadata": {},
   "source": [
    "Initialize the multi-headed sequence classifier model."
   ]
  },
  {
   "cell_type": "code",
   "execution_count": null,
   "id": "e70c7814",
   "metadata": {},
   "outputs": [],
   "source": [
    "model = MultiHeadedSequenceClassifier()"
   ]
  },
  {
   "cell_type": "markdown",
   "id": "7c8f9405",
   "metadata": {},
   "source": [
    "Fit the model using the organized training data."
   ]
  },
  {
   "cell_type": "code",
   "execution_count": null,
   "id": "f719a2f3",
   "metadata": {},
   "outputs": [],
   "source": [
    "model.fit(data_block)"
   ]
  }
 ],
 "metadata": {
  "kernelspec": {
   "display_name": "Python 3",
   "language": "python",
   "name": "python3"
  },
  "language_info": {
   "codemirror_mode": {
    "name": "ipython",
    "version": 3
   },
   "file_extension": ".py",
   "mimetype": "text/x-python",
   "name": "python",
   "nbconvert_exporter": "python",
   "pygments_lexer": "ipython3",
   "version": "3.8.5"
  }
 },
 "nbformat": 4,
 "nbformat_minor": 5
}
