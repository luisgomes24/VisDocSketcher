{
 "cells": [
  {
   "cell_type": "markdown",
   "id": "92becf82",
   "metadata": {},
   "source": [
    "Import pandas and specify the CSV file path."
   ]
  },
  {
   "cell_type": "code",
   "execution_count": null,
   "id": "192d653d",
   "metadata": {},
   "outputs": [],
   "source": [
    "import pandas as pd\n",
    "\n",
    "file_path = '../input/f.csv'"
   ]
  },
  {
   "cell_type": "markdown",
   "id": "a7440393",
   "metadata": {},
   "source": [
    "Read the first 1000 rows from the CSV file into a DataFrame."
   ]
  },
  {
   "cell_type": "code",
   "execution_count": null,
   "id": "24d5ac50",
   "metadata": {},
   "outputs": [],
   "source": [
    "df1 = pd.read_csv(file_path, nrows=1000)"
   ]
  },
  {
   "cell_type": "markdown",
   "id": "3c8f6fd3",
   "metadata": {},
   "source": [
    "Calculate the number of rows and columns in the DataFrame."
   ]
  },
  {
   "cell_type": "code",
   "execution_count": null,
   "id": "25c49ee9",
   "metadata": {},
   "outputs": [],
   "source": [
    "nRow, nCol = df1.shape"
   ]
  },
  {
   "cell_type": "markdown",
   "id": "247f2150",
   "metadata": {},
   "source": [
    "Import libraries for plotting: Matplotlib and Seaborn."
   ]
  },
  {
   "cell_type": "code",
   "execution_count": null,
   "id": "e40b08a2",
   "metadata": {},
   "outputs": [],
   "source": [
    "import matplotlib.pyplot as plt\n",
    "import seaborn as sns"
   ]
  },
  {
   "cell_type": "markdown",
   "id": "8626827c",
   "metadata": {},
   "source": [
    "Create scatter plots using the data from the DataFrame."
   ]
  },
  {
   "cell_type": "code",
   "execution_count": null,
   "id": "fe96a5ca",
   "metadata": {},
   "outputs": [],
   "source": [
    "sns.scatterplot(data=df1)"
   ]
  },
  {
   "cell_type": "markdown",
   "id": "b33ad8ab",
   "metadata": {},
   "source": [
    "Create density plots to visualize the distributions of the data."
   ]
  },
  {
   "cell_type": "code",
   "execution_count": null,
   "id": "1e46891f",
   "metadata": {},
   "outputs": [],
   "source": [
    "sns.kdeplot(data=df1)"
   ]
  },
  {
   "cell_type": "markdown",
   "id": "96fe501c",
   "metadata": {},
   "source": [
    "Generate the correlation matrix for the DataFrame."
   ]
  },
  {
   "cell_type": "code",
   "execution_count": null,
   "id": "c8e9ce93",
   "metadata": {},
   "outputs": [],
   "source": [
    "correlation_matrix = df1.corr()"
   ]
  },
  {
   "cell_type": "markdown",
   "id": "931ffedc",
   "metadata": {},
   "source": [
    "Visualize the correlation matrix with a heatmap."
   ]
  },
  {
   "cell_type": "code",
   "execution_count": null,
   "id": "392ad0ef",
   "metadata": {},
   "outputs": [],
   "source": [
    "sns.heatmap(correlation_matrix)"
   ]
  },
  {
   "cell_type": "markdown",
   "id": "0a3ced7e",
   "metadata": {},
   "source": [
    "Generate distribution graphs for the data in the DataFrame."
   ]
  },
  {
   "cell_type": "code",
   "execution_count": null,
   "id": "c65821cd",
   "metadata": {},
   "outputs": [],
   "source": [
    "sns.displot(df1)"
   ]
  }
 ],
 "metadata": {
  "kernelspec": {
   "display_name": "Python 3",
   "language": "python",
   "name": "python3"
  },
  "language_info": {
   "codemirror_mode": {
    "name": "ipython",
    "version": 3
   },
   "file_extension": ".py",
   "mimetype": "text/x-python",
   "name": "python",
   "nbconvert_exporter": "python",
   "pygments_lexer": "ipython3",
   "version": "3.8.5"
  }
 },
 "nbformat": 4,
 "nbformat_minor": 5
}
