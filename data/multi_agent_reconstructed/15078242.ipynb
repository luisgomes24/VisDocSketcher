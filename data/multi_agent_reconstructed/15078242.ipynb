{
 "cells": [
  {
   "cell_type": "markdown",
   "id": "6dee9f1f",
   "metadata": {},
   "source": [
    "Load the dataset from a Feather file into a DataFrame."
   ]
  },
  {
   "cell_type": "code",
   "execution_count": null,
   "id": "110909a7",
   "metadata": {},
   "outputs": [],
   "source": [
    "import pandas as pd\n",
    "\n",
    "data = pd.read_feather('train.feather')"
   ]
  },
  {
   "cell_type": "markdown",
   "id": "598ad623",
   "metadata": {},
   "source": [
    "Extract the feature columns from the DataFrame."
   ]
  },
  {
   "cell_type": "code",
   "execution_count": null,
   "id": "926115ba",
   "metadata": {},
   "outputs": [],
   "source": [
    "features = data[['feature1', 'feature2', 'feature3']]"
   ]
  },
  {
   "cell_type": "markdown",
   "id": "d3a5ef5f",
   "metadata": {},
   "source": [
    "Extract the response column from the DataFrame."
   ]
  },
  {
   "cell_type": "code",
   "execution_count": null,
   "id": "9c6673df",
   "metadata": {},
   "outputs": [],
   "source": [
    "resp_cols = data['response']"
   ]
  },
  {
   "cell_type": "markdown",
   "id": "94445f70",
   "metadata": {},
   "source": [
    "Create action columns based on specific selections from the DataFrame."
   ]
  },
  {
   "cell_type": "code",
   "execution_count": null,
   "id": "03ba6fc3",
   "metadata": {},
   "outputs": [],
   "source": [
    "action_cols = data[['action1', 'action2']]"
   ]
  },
  {
   "cell_type": "markdown",
   "id": "c96b734f",
   "metadata": {},
   "source": [
    "Set up K-Fold cross-validation with 5 splits."
   ]
  },
  {
   "cell_type": "code",
   "execution_count": null,
   "id": "fb10430f",
   "metadata": {},
   "outputs": [],
   "source": [
    "from sklearn.model_selection import KFold\n",
    "\n",
    "kf = KFold(n_splits=5)"
   ]
  },
  {
   "cell_type": "markdown",
   "id": "5e6615bd",
   "metadata": {},
   "source": [
    "Iterate over the splits, creating training and testing datasets."
   ]
  },
  {
   "cell_type": "code",
   "execution_count": null,
   "id": "27963ef5",
   "metadata": {},
   "outputs": [],
   "source": [
    "for train_index, test_index in kf.split(features):\n",
    "    X_train, X_test = features.iloc[train_index], features.iloc[test_index]\n",
    "    y_train, y_test = resp_cols.iloc[train_index], resp_cols.iloc[test_index]"
   ]
  },
  {
   "cell_type": "markdown",
   "id": "bccd7410",
   "metadata": {},
   "source": [
    "Define a simple neural network model with one hidden layer."
   ]
  },
  {
   "cell_type": "code",
   "execution_count": null,
   "id": "e7b65d04",
   "metadata": {},
   "outputs": [],
   "source": [
    "from keras.models import Sequential\n",
    "from keras.layers import Dense\n",
    "\n",
    "model = Sequential() \n",
    "model.add(Dense(64, activation='relu', input_shape=(X_train.shape[1],)))\n",
    "model.add(Dense(1, activation='sigmoid'))"
   ]
  },
  {
   "cell_type": "markdown",
   "id": "be964a70",
   "metadata": {},
   "source": [
    "Compile the model with an optimizer and loss function."
   ]
  },
  {
   "cell_type": "code",
   "execution_count": null,
   "id": "5317c1c7",
   "metadata": {},
   "outputs": [],
   "source": [
    "model.compile(optimizer='adam', loss='binary_crossentropy', metrics=['accuracy'])"
   ]
  },
  {
   "cell_type": "markdown",
   "id": "ea3d6957",
   "metadata": {},
   "source": [
    "Train the model using the training data."
   ]
  },
  {
   "cell_type": "code",
   "execution_count": null,
   "id": "a2ff06f0",
   "metadata": {},
   "outputs": [],
   "source": [
    "model.fit(X_train, y_train, epochs=10, batch_size=32)"
   ]
  },
  {
   "cell_type": "markdown",
   "id": "658a7444",
   "metadata": {},
   "source": [
    "Make predictions on the test set and store them."
   ]
  },
  {
   "cell_type": "code",
   "execution_count": null,
   "id": "4faa8afb",
   "metadata": {},
   "outputs": [],
   "source": [
    "preds = model.predict(X_test)\n",
    "preds_list.append(preds)"
   ]
  },
  {
   "cell_type": "markdown",
   "id": "1b15f071",
   "metadata": {},
   "source": [
    "Evaluate the model's performance using accuracy."
   ]
  },
  {
   "cell_type": "code",
   "execution_count": null,
   "id": "1ba32b0b",
   "metadata": {},
   "outputs": [],
   "source": [
    "from sklearn.metrics import accuracy_score\n",
    "evaluation = accuracy_score(y_test, preds.round())"
   ]
  },
  {
   "cell_type": "markdown",
   "id": "3c181944",
   "metadata": {},
   "source": [
    "Save the model weights for future use."
   ]
  },
  {
   "cell_type": "code",
   "execution_count": null,
   "id": "2499af33",
   "metadata": {},
   "outputs": [],
   "source": [
    "model.save_weights('model_weights.h5')"
   ]
  },
  {
   "cell_type": "markdown",
   "id": "edf864a7",
   "metadata": {},
   "source": [
    "Serialize and save the evaluation metrics."
   ]
  },
  {
   "cell_type": "code",
   "execution_count": null,
   "id": "71468a15",
   "metadata": {},
   "outputs": [],
   "source": [
    "import pickle\n",
    "with open('lc.pkl', 'wb') as f:\n",
    "    pickle.dump(evaluation, f)"
   ]
  }
 ],
 "metadata": {
  "kernelspec": {
   "display_name": "Python 3",
   "language": "python",
   "name": "python3"
  },
  "language_info": {
   "codemirror_mode": {
    "name": "ipython",
    "version": 3
   },
   "file_extension": ".py",
   "mimetype": "text/x-python",
   "name": "python",
   "nbconvert_exporter": "python",
   "pygments_lexer": "ipython3",
   "version": "3.8.5"
  }
 },
 "nbformat": 4,
 "nbformat_minor": 5
}
