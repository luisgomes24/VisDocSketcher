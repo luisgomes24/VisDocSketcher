{
 "cells": [
  {
   "cell_type": "markdown",
   "id": "fb4e70fd",
   "metadata": {},
   "source": [
    "Load the training data from the first CSV file into a DataFrame named df1."
   ]
  },
  {
   "cell_type": "code",
   "execution_count": null,
   "id": "fad7ce93",
   "metadata": {},
   "outputs": [],
   "source": [
    "import pandas as pd\n",
    "df1 = pd.read_csv('Training_Apr_jul_2019_Master_Lanes.csv')"
   ]
  },
  {
   "cell_type": "markdown",
   "id": "2e99b838",
   "metadata": {},
   "source": [
    "Load the testing data from the second CSV file into a DataFrame named df2."
   ]
  },
  {
   "cell_type": "code",
   "execution_count": null,
   "id": "96046b9c",
   "metadata": {},
   "outputs": [],
   "source": [
    "df2 = pd.read_csv('Testing_Aug_dec_2019_Master.csv')"
   ]
  },
  {
   "cell_type": "markdown",
   "id": "ae51a6e3",
   "metadata": {},
   "source": [
    "Load the training data from the third CSV file into a DataFrame named df3."
   ]
  },
  {
   "cell_type": "code",
   "execution_count": null,
   "id": "df133cc0",
   "metadata": {},
   "outputs": [],
   "source": [
    "df3 = pd.read_csv('Training_Jan_mar_2019_Master_Lanes.csv')"
   ]
  },
  {
   "cell_type": "markdown",
   "id": "bf20f2c6",
   "metadata": {},
   "source": [
    "Visualize the first few rows of df1 to check its contents."
   ]
  },
  {
   "cell_type": "code",
   "execution_count": null,
   "id": "36003818",
   "metadata": {},
   "outputs": [],
   "source": [
    "df1.head()"
   ]
  },
  {
   "cell_type": "markdown",
   "id": "4be31b87",
   "metadata": {},
   "source": [
    "Visualize the first few rows of df2 to check its contents."
   ]
  },
  {
   "cell_type": "code",
   "execution_count": null,
   "id": "874bbf54",
   "metadata": {},
   "outputs": [],
   "source": [
    "df2.head()"
   ]
  },
  {
   "cell_type": "markdown",
   "id": "10087b46",
   "metadata": {},
   "source": [
    "Visualize the first few rows of df3 to check its contents."
   ]
  },
  {
   "cell_type": "code",
   "execution_count": null,
   "id": "897ec92f",
   "metadata": {},
   "outputs": [],
   "source": [
    "df3.head()"
   ]
  }
 ],
 "metadata": {
  "kernelspec": {
   "display_name": "Python 3",
   "language": "python",
   "name": "python3"
  },
  "language_info": {
   "codemirror_mode": {
    "name": "ipython",
    "version": 3
   },
   "file_extension": ".py",
   "mimetype": "text/x-python",
   "name": "python",
   "nbconvert_exporter": "python",
   "pygments_lexer": "ipython3",
   "version": "3.8.5"
  }
 },
 "nbformat": 4,
 "nbformat_minor": 5
}
