{
 "cells": [
  {
   "cell_type": "markdown",
   "id": "128c52d8",
   "metadata": {},
   "source": [
    "Load necessary libraries and the training CSV file that contains the DICOM image info."
   ]
  },
  {
   "cell_type": "code",
   "execution_count": null,
   "id": "8b64b651",
   "metadata": {},
   "outputs": [],
   "source": [
    "import pandas as pd\n",
    "import pydicom\n",
    "import cv2\n",
    "\n",
    "# Load the training data\n",
    "csv_file = 'data/training.csv'\n",
    "dicom_images_path = 'data/dicom_images/'\n",
    "training_data = pd.read_csv(csv_file)"
   ]
  },
  {
   "cell_type": "markdown",
   "id": "82d5d0e9",
   "metadata": {},
   "source": [
    "Create a DataFrame containing only the image identifiers from the training data."
   ]
  },
  {
   "cell_type": "code",
   "execution_count": null,
   "id": "f35d5bfe",
   "metadata": {},
   "outputs": [],
   "source": [
    "image_identifiers = training_data[['image_id']].copy()"
   ]
  },
  {
   "cell_type": "markdown",
   "id": "e4d77875",
   "metadata": {},
   "source": [
    "Define a function to load a DICOM image using its identifier."
   ]
  },
  {
   "cell_type": "code",
   "execution_count": null,
   "id": "32723f33",
   "metadata": {},
   "outputs": [],
   "source": [
    "def load_image(image_id):\n",
    "    return pydicom.dcmread(dicom_images_path + image_id).pixel_array"
   ]
  },
  {
   "cell_type": "markdown",
   "id": "56266c16",
   "metadata": {},
   "source": [
    "Load the first image in the DataFrame using the load_image function."
   ]
  },
  {
   "cell_type": "code",
   "execution_count": null,
   "id": "c9be8168",
   "metadata": {},
   "outputs": [],
   "source": [
    "input_image = load_image(image_identifiers.iloc[0]['image_id'])"
   ]
  },
  {
   "cell_type": "markdown",
   "id": "1d228a07",
   "metadata": {},
   "source": [
    "Save the loaded image as a JPEG file with the specified output file name."
   ]
  },
  {
   "cell_type": "code",
   "execution_count": null,
   "id": "57a1f4a7",
   "metadata": {},
   "outputs": [],
   "source": [
    "output_image_name = 'output_image.jpeg'\n",
    "cv2.imwrite(output_image_name, input_image)"
   ]
  }
 ],
 "metadata": {
  "kernelspec": {
   "display_name": "Python 3",
   "language": "python",
   "name": "python3"
  },
  "language_info": {
   "codemirror_mode": {
    "name": "ipython",
    "version": 3
   },
   "file_extension": ".py",
   "mimetype": "text/x-python",
   "name": "python",
   "nbconvert_exporter": "python",
   "pygments_lexer": "ipython3",
   "version": "3.8.5"
  }
 },
 "nbformat": 4,
 "nbformat_minor": 5
}
