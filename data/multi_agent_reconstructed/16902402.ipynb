{
 "cells": [
  {
   "cell_type": "markdown",
   "id": "705b761d",
   "metadata": {},
   "source": [
    "Load the dataset from a CSV file into a DataFrame."
   ]
  },
  {
   "cell_type": "code",
   "execution_count": null,
   "id": "e9b9c2eb",
   "metadata": {},
   "outputs": [],
   "source": [
    "import pandas as pd\n",
    "df = pd.read_csv('KaggleV2-May-2016.csv')"
   ]
  },
  {
   "cell_type": "markdown",
   "id": "5b2ec36c",
   "metadata": {},
   "source": [
    "Perform data cleaning by removing missing values."
   ]
  },
  {
   "cell_type": "code",
   "execution_count": null,
   "id": "105c549a",
   "metadata": {},
   "outputs": [],
   "source": [
    "df.dropna(inplace=True)"
   ]
  },
  {
   "cell_type": "markdown",
   "id": "08b1ac8a",
   "metadata": {},
   "source": [
    "Encode the 'Show' feature as categorical numeric values."
   ]
  },
  {
   "cell_type": "code",
   "execution_count": null,
   "id": "83ddc759",
   "metadata": {},
   "outputs": [],
   "source": [
    "df['Show'] = df['Show'].astype('category').cat.codes"
   ]
  },
  {
   "cell_type": "markdown",
   "id": "84c90bf5",
   "metadata": {},
   "source": [
    "Create a binary encoded feature for 'Male'."
   ]
  },
  {
   "cell_type": "code",
   "execution_count": null,
   "id": "40f0fe77",
   "metadata": {},
   "outputs": [],
   "source": [
    "df['Male'] = df['Gender'].apply(lambda x: 1 if x == 'Male' else 0)"
   ]
  },
  {
   "cell_type": "markdown",
   "id": "abc90002",
   "metadata": {},
   "source": [
    "Create age bins for the 'Age' column."
   ]
  },
  {
   "cell_type": "code",
   "execution_count": null,
   "id": "efc87ea4",
   "metadata": {},
   "outputs": [],
   "source": [
    "df['Age Bin'] = pd.cut(df['Age'], bins=[0, 18, 35, 50, 65, 100], labels=['0-18', '19-35', '36-50', '51-65', '66+'])"
   ]
  },
  {
   "cell_type": "markdown",
   "id": "32ade9eb",
   "metadata": {},
   "source": [
    "Create a feature indicating if a person is both diabetic and hypertensive."
   ]
  },
  {
   "cell_type": "code",
   "execution_count": null,
   "id": "508fc3f4",
   "metadata": {},
   "outputs": [],
   "source": [
    "df['Diabetic & Hypertensive'] = df.apply(lambda row: 1 if row['Diabetic'] and row['Hypertensive'] else 0, axis=1)"
   ]
  },
  {
   "cell_type": "markdown",
   "id": "be5b3c73",
   "metadata": {},
   "source": [
    "Normalize the 'Wait Days' feature."
   ]
  },
  {
   "cell_type": "code",
   "execution_count": null,
   "id": "36286a0f",
   "metadata": {},
   "outputs": [],
   "source": [
    "df['Wait Days'] = (df['Wait Days'] - df['Wait Days'].mean()) / df['Wait Days'].std()"
   ]
  },
  {
   "cell_type": "markdown",
   "id": "d33af28f",
   "metadata": {},
   "source": [
    "Select features and labels for model training."
   ]
  },
  {
   "cell_type": "code",
   "execution_count": null,
   "id": "3ed03365",
   "metadata": {},
   "outputs": [],
   "source": [
    "features = df[['Show', 'Male', 'Age Bin', 'Diabetic & Hypertensive', 'Wait Days']]\n",
    "labels = df['Target']"
   ]
  },
  {
   "cell_type": "markdown",
   "id": "a569f7c9",
   "metadata": {},
   "source": [
    "Split the dataset into training and testing sets."
   ]
  },
  {
   "cell_type": "code",
   "execution_count": null,
   "id": "bd763d56",
   "metadata": {},
   "outputs": [],
   "source": [
    "from sklearn.model_selection import train_test_split\n",
    "X_train, X_test, y_train, y_test = train_test_split(features, labels, test_size=0.2, random_state=42)"
   ]
  },
  {
   "cell_type": "markdown",
   "id": "73e04e34",
   "metadata": {},
   "source": [
    "Train a Random Forest model using the training data."
   ]
  },
  {
   "cell_type": "code",
   "execution_count": null,
   "id": "4161b130",
   "metadata": {},
   "outputs": [],
   "source": [
    "from sklearn.ensemble import RandomForestClassifier\n",
    "model = RandomForestClassifier()\n",
    "model.fit(X_train, y_train)"
   ]
  },
  {
   "cell_type": "markdown",
   "id": "8e3d0166",
   "metadata": {},
   "source": [
    "Evaluate the model's accuracy on the test set."
   ]
  },
  {
   "cell_type": "code",
   "execution_count": null,
   "id": "e10b33dd",
   "metadata": {},
   "outputs": [],
   "source": [
    "accuracy = model.score(X_test, y_test)"
   ]
  },
  {
   "cell_type": "markdown",
   "id": "e959e700",
   "metadata": {},
   "source": [
    "Visualize the model evaluation results."
   ]
  },
  {
   "cell_type": "code",
   "execution_count": null,
   "id": "525aec9c",
   "metadata": {},
   "outputs": [],
   "source": [
    "import matplotlib.pyplot as plt\n",
    "plt.bar(['Model Accuracy'], [accuracy])\n",
    "plt.ylabel('Accuracy')\n",
    "plt.title('Model Evaluation')\n",
    "plt.show()"
   ]
  },
  {
   "cell_type": "markdown",
   "id": "e68f9562",
   "metadata": {},
   "source": [
    "Perform show rate analysis to find the proportion of each show."
   ]
  },
  {
   "cell_type": "code",
   "execution_count": null,
   "id": "4d18aa3a",
   "metadata": {},
   "outputs": [],
   "source": [
    "df['Show Rate'] = df['Show'].value_counts(normalize=True)"
   ]
  }
 ],
 "metadata": {
  "kernelspec": {
   "display_name": "Python 3",
   "language": "python",
   "name": "python3"
  },
  "language_info": {
   "codemirror_mode": {
    "name": "ipython",
    "version": 3
   },
   "file_extension": ".py",
   "mimetype": "text/x-python",
   "name": "python",
   "nbconvert_exporter": "python",
   "pygments_lexer": "ipython3",
   "version": "3.8.5"
  }
 },
 "nbformat": 4,
 "nbformat_minor": 5
}
