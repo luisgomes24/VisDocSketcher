{
 "cells": [
  {
   "cell_type": "markdown",
   "id": "6f0e1355",
   "metadata": {},
   "source": [
    "Load the Crime Data from a CSV file into a DataFrame."
   ]
  },
  {
   "cell_type": "code",
   "execution_count": null,
   "id": "0e044222",
   "metadata": {},
   "outputs": [],
   "source": [
    "import pandas as pd\n",
    "crime_df = pd.read_csv('path/to/crime_data.csv')"
   ]
  },
  {
   "cell_type": "markdown",
   "id": "16df12c1",
   "metadata": {},
   "source": [
    "Drop specific columns and handle missing values (NaNs)."
   ]
  },
  {
   "cell_type": "code",
   "execution_count": null,
   "id": "c6abe01c",
   "metadata": {},
   "outputs": [],
   "source": [
    "crime_df = crime_df.drop(columns=['unwanted_column1', 'unwanted_column2'])\n",
    "crime_df = crime_df.dropna()"
   ]
  },
  {
   "cell_type": "markdown",
   "id": "d3d1d47b",
   "metadata": {},
   "source": [
    "Visualize the preprocessed crime data using a bar chart."
   ]
  },
  {
   "cell_type": "code",
   "execution_count": null,
   "id": "3be2d121",
   "metadata": {},
   "outputs": [],
   "source": [
    "import matplotlib.pyplot as plt\n",
    "crime_df.plot(kind='bar')\n",
    "plt.xlabel('Category')\n",
    "plt.ylabel('Value')\n",
    "plt.show()"
   ]
  }
 ],
 "metadata": {
  "kernelspec": {
   "display_name": "Python 3",
   "language": "python",
   "name": "python3"
  },
  "language_info": {
   "codemirror_mode": {
    "name": "ipython",
    "version": 3
   },
   "file_extension": ".py",
   "mimetype": "text/x-python",
   "name": "python",
   "nbconvert_exporter": "python",
   "pygments_lexer": "ipython3",
   "version": "3.8.5"
  }
 },
 "nbformat": 4,
 "nbformat_minor": 5
}
