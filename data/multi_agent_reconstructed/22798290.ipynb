{
 "cells": [
  {
   "cell_type": "markdown",
   "id": "9d48f7b3",
   "metadata": {},
   "source": [
    "Read the CSV file into a DataFrame."
   ]
  },
  {
   "cell_type": "code",
   "execution_count": null,
   "id": "803e75f4",
   "metadata": {},
   "outputs": [],
   "source": [
    "import pandas as pd\n",
    "data = pd.read_csv('student_clustering.csv')"
   ]
  },
  {
   "cell_type": "markdown",
   "id": "d55e1b6c",
   "metadata": {},
   "source": [
    "Extract the relevant features from the DataFrame using iloc."
   ]
  },
  {
   "cell_type": "code",
   "execution_count": null,
   "id": "ec6a1566",
   "metadata": {},
   "outputs": [],
   "source": [
    "X = data.iloc[:, [<feature_indices>]]"
   ]
  },
  {
   "cell_type": "markdown",
   "id": "98e7d15c",
   "metadata": {},
   "source": [
    "Apply KMeans clustering with 4 clusters and get the cluster labels."
   ]
  },
  {
   "cell_type": "code",
   "execution_count": null,
   "id": "8b7e25e6",
   "metadata": {},
   "outputs": [],
   "source": [
    "from sklearn.cluster import KMeans\n",
    "kmeans = KMeans(n_clusters=4)\n",
    "y_means = kmeans.fit_predict(X)"
   ]
  },
  {
   "cell_type": "markdown",
   "id": "5a751299",
   "metadata": {},
   "source": [
    "Calculate the Within-Cluster Sum of Squares (WCSS) for different cluster counts."
   ]
  },
  {
   "cell_type": "code",
   "execution_count": null,
   "id": "33fc0165",
   "metadata": {},
   "outputs": [],
   "source": [
    "from sklearn.metrics import silhouette_score\n",
    "wcss = []\n",
    "for i in range(1, 11):\n",
    "    kmeans = KMeans(n_clusters=i)\n",
    "    kmeans.fit(X)\n",
    "    wcss.append(kmeans.inertia_)"
   ]
  },
  {
   "cell_type": "markdown",
   "id": "4db1afbc",
   "metadata": {},
   "source": [
    "Visualize the WCSS to determine the optimal number of clusters using the Elbow method."
   ]
  },
  {
   "cell_type": "code",
   "execution_count": null,
   "id": "ae5d151e",
   "metadata": {},
   "outputs": [],
   "source": [
    "import matplotlib.pyplot as plt\n",
    "plt.plot(range(1, 11), wcss)\n",
    "plt.title('Elbow Method')\n",
    "plt.xlabel('Number of Clusters')\n",
    "plt.ylabel('WCSS')\n",
    "plt.show()"
   ]
  },
  {
   "cell_type": "markdown",
   "id": "4ce3894f",
   "metadata": {},
   "source": [
    "Slice the DataFrame into separate DataFrames for each cluster."
   ]
  },
  {
   "cell_type": "code",
   "execution_count": null,
   "id": "ed6bd153",
   "metadata": {},
   "outputs": [],
   "source": [
    "clusters = [data[y_means == i] for i in range(4)]"
   ]
  },
  {
   "cell_type": "markdown",
   "id": "ba6cd654",
   "metadata": {},
   "source": [
    "Assign each cluster DataFrame to a specific variable."
   ]
  },
  {
   "cell_type": "code",
   "execution_count": null,
   "id": "dc527c03",
   "metadata": {},
   "outputs": [],
   "source": [
    "cluster_1, cluster_2, cluster_3, cluster_4 = clusters"
   ]
  },
  {
   "cell_type": "markdown",
   "id": "ec8edaf2",
   "metadata": {},
   "source": [
    "Plot the clusters for visualization."
   ]
  },
  {
   "cell_type": "code",
   "execution_count": null,
   "id": "726bd96b",
   "metadata": {},
   "outputs": [],
   "source": [
    "plt.scatter(X[:, 0], X[:, 1], c=y_means)\n",
    "plt.title('Cluster Visualization')\n",
    "plt.show()"
   ]
  }
 ],
 "metadata": {
  "kernelspec": {
   "display_name": "Python 3",
   "language": "python",
   "name": "python3"
  },
  "language_info": {
   "codemirror_mode": {
    "name": "ipython",
    "version": 3
   },
   "file_extension": ".py",
   "mimetype": "text/x-python",
   "name": "python",
   "nbconvert_exporter": "python",
   "pygments_lexer": "ipython3",
   "version": "3.8.5"
  }
 },
 "nbformat": 4,
 "nbformat_minor": 5
}
