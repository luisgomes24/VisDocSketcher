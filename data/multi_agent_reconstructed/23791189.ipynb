{
 "cells": [
  {
   "cell_type": "markdown",
   "id": "ade638eb",
   "metadata": {},
   "source": [
    "Import the pandas library and read the CSV file into a DataFrame named 'df'."
   ]
  },
  {
   "cell_type": "code",
   "execution_count": null,
   "id": "5413d1b7",
   "metadata": {},
   "outputs": [],
   "source": [
    "import pandas as pd\n",
    "df = pd.read_csv('Froza_Horizon_Cars.csv')"
   ]
  },
  {
   "cell_type": "markdown",
   "id": "a5376236",
   "metadata": {},
   "source": [
    "Filter specific columns from 'df' and store the result in a new DataFrame named 'df1'."
   ]
  },
  {
   "cell_type": "code",
   "execution_count": null,
   "id": "aeb198fa",
   "metadata": {},
   "outputs": [],
   "source": [
    "df1 = df[['Column1', 'Column2', 'Column3']]"
   ]
  }
 ],
 "metadata": {
  "kernelspec": {
   "display_name": "Python 3",
   "language": "python",
   "name": "python3"
  },
  "language_info": {
   "codemirror_mode": {
    "name": "ipython",
    "version": 3
   },
   "file_extension": ".py",
   "mimetype": "text/x-python",
   "name": "python",
   "nbconvert_exporter": "python",
   "pygments_lexer": "ipython3",
   "version": "3.8.5"
  }
 },
 "nbformat": 4,
 "nbformat_minor": 5
}
