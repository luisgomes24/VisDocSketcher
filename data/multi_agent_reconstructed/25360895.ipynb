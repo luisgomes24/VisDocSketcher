{
 "cells": [
  {
   "cell_type": "markdown",
   "id": "27620b47",
   "metadata": {},
   "source": [
    "Load the training and external datasets from CSV files."
   ]
  },
  {
   "cell_type": "code",
   "execution_count": null,
   "id": "b0c1690b",
   "metadata": {},
   "outputs": [],
   "source": [
    "import pandas as pd\n",
    "train_data = pd.read_csv('train.csv')\n",
    "external_data = pd.read_csv('lightautoml_rounded_special_ve_37_v2.csv')"
   ]
  },
  {
   "cell_type": "markdown",
   "id": "59d5a4ab",
   "metadata": {},
   "source": [
    "Create a copy of the training data for submissions."
   ]
  },
  {
   "cell_type": "code",
   "execution_count": null,
   "id": "cd43c936",
   "metadata": {},
   "outputs": [],
   "source": [
    "submission_in = train_data.copy()"
   ]
  },
  {
   "cell_type": "markdown",
   "id": "3547cd67",
   "metadata": {},
   "source": [
    "Calculate the lower and upper quartiles of the submission data."
   ]
  },
  {
   "cell_type": "code",
   "execution_count": null,
   "id": "909ebd8d",
   "metadata": {},
   "outputs": [],
   "source": [
    "lower_quantiles = submission_in.quantile(0.25)\n",
    "upper_quantiles = submission_in.quantile(0.75)"
   ]
  },
  {
   "cell_type": "markdown",
   "id": "fec0b3e9",
   "metadata": {},
   "source": [
    "Filter the submission data based on the calculated quantiles."
   ]
  },
  {
   "cell_type": "code",
   "execution_count": null,
   "id": "0359384a",
   "metadata": {},
   "outputs": [],
   "source": [
    "submission_out = submission_in[(submission_in >= lower_quantiles) & (submission_in <= upper_quantiles)]"
   ]
  },
  {
   "cell_type": "markdown",
   "id": "d085f343",
   "metadata": {},
   "source": [
    "Compute the Mean Absolute Error between actual and predicted values."
   ]
  },
  {
   "cell_type": "code",
   "execution_count": null,
   "id": "cb940e84",
   "metadata": {},
   "outputs": [],
   "source": [
    "from sklearn.metrics import mean_absolute_error\n",
    "mae = mean_absolute_error(actual_values, predicted_values)"
   ]
  },
  {
   "cell_type": "markdown",
   "id": "03913b37",
   "metadata": {},
   "source": [
    "Calculate the difference between actual and predicted values."
   ]
  },
  {
   "cell_type": "code",
   "execution_count": null,
   "id": "e2d0acc2",
   "metadata": {},
   "outputs": [],
   "source": [
    "difference = actual_values - predicted_values"
   ]
  },
  {
   "cell_type": "markdown",
   "id": "38840a28",
   "metadata": {},
   "source": [
    "Plot a histogram of the differences to visualize the error distribution."
   ]
  },
  {
   "cell_type": "code",
   "execution_count": null,
   "id": "bb0e3951",
   "metadata": {},
   "outputs": [],
   "source": [
    "import matplotlib.pyplot as plt\n",
    "plt.hist(difference, bins=30)\n",
    "plt.show()"
   ]
  }
 ],
 "metadata": {
  "kernelspec": {
   "display_name": "Python 3",
   "language": "python",
   "name": "python3"
  },
  "language_info": {
   "codemirror_mode": {
    "name": "ipython",
    "version": 3
   },
   "file_extension": ".py",
   "mimetype": "text/x-python",
   "name": "python",
   "nbconvert_exporter": "python",
   "pygments_lexer": "ipython3",
   "version": "3.8.5"
  }
 },
 "nbformat": 4,
 "nbformat_minor": 5
}
