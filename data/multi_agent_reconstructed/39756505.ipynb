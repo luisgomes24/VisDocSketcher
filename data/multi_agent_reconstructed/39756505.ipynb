{
 "cells": [
  {
   "cell_type": "markdown",
   "id": "2184112b",
   "metadata": {},
   "source": [
    "Load the CSV file into a DataFrame named 'reviews'."
   ]
  },
  {
   "cell_type": "code",
   "execution_count": null,
   "id": "7efe353d",
   "metadata": {},
   "outputs": [],
   "source": [
    "import pandas as pd\n",
    "reviews = pd.read_csv('winemag-data-130k-v2.csv')"
   ]
  },
  {
   "cell_type": "markdown",
   "id": "2255741c",
   "metadata": {},
   "source": [
    "Calculate the mean of the 'points' column and store it in 'review_points_mean'."
   ]
  },
  {
   "cell_type": "code",
   "execution_count": null,
   "id": "7912b249",
   "metadata": {},
   "outputs": [],
   "source": [
    "review_points_mean = reviews['points'].mean()"
   ]
  },
  {
   "cell_type": "markdown",
   "id": "4c1dd951",
   "metadata": {},
   "source": [
    "Calculate the mean of the 'price' column and store it in 'review_price_mean'."
   ]
  },
  {
   "cell_type": "code",
   "execution_count": null,
   "id": "76e0cadf",
   "metadata": {},
   "outputs": [],
   "source": [
    "review_price_mean = reviews['price'].mean()"
   ]
  }
 ],
 "metadata": {
  "kernelspec": {
   "display_name": "Python 3",
   "language": "python",
   "name": "python3"
  },
  "language_info": {
   "codemirror_mode": {
    "name": "ipython",
    "version": 3
   },
   "file_extension": ".py",
   "mimetype": "text/x-python",
   "name": "python",
   "nbconvert_exporter": "python",
   "pygments_lexer": "ipython3",
   "version": "3.8.5"
  }
 },
 "nbformat": 4,
 "nbformat_minor": 5
}
