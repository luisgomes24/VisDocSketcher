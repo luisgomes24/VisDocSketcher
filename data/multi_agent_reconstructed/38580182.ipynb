{
 "cells": [
  {
   "cell_type": "markdown",
   "id": "b173ba0d",
   "metadata": {},
   "source": [
    "Load the data from 'data.csv' into a DataFrame."
   ]
  },
  {
   "cell_type": "code",
   "execution_count": null,
   "id": "5162e9f0",
   "metadata": {},
   "outputs": [],
   "source": [
    "import pandas as pd\n",
    "\n",
    "data = pd.read_csv('data.csv')"
   ]
  },
  {
   "cell_type": "markdown",
   "id": "b519168e",
   "metadata": {},
   "source": [
    "Create a copy of the data DataFrame."
   ]
  },
  {
   "cell_type": "code",
   "execution_count": null,
   "id": "08bce4b1",
   "metadata": {},
   "outputs": [],
   "source": [
    "df = data.copy()"
   ]
  },
  {
   "cell_type": "markdown",
   "id": "e34dffd2",
   "metadata": {},
   "source": [
    "Identify numeric columns in the DataFrame."
   ]
  },
  {
   "cell_type": "code",
   "execution_count": null,
   "id": "1f914fcf",
   "metadata": {},
   "outputs": [],
   "source": [
    "num_cols = df.select_dtypes(include=['number']).columns.tolist()"
   ]
  },
  {
   "cell_type": "markdown",
   "id": "778c9a18",
   "metadata": {},
   "source": [
    "Identify categorical columns in the DataFrame."
   ]
  },
  {
   "cell_type": "code",
   "execution_count": null,
   "id": "6087bb91",
   "metadata": {},
   "outputs": [],
   "source": [
    "cat_cols = df.select_dtypes(exclude=['number']).columns.tolist()"
   ]
  },
  {
   "cell_type": "markdown",
   "id": "133ca6a2",
   "metadata": {},
   "source": [
    "Load the submission format from 'sample_submission.csv'."
   ]
  },
  {
   "cell_type": "code",
   "execution_count": null,
   "id": "2d41e327",
   "metadata": {},
   "outputs": [],
   "source": [
    "sample_submission = pd.read_csv('sample_submission.csv')"
   ]
  }
 ],
 "metadata": {
  "kernelspec": {
   "display_name": "Python 3",
   "language": "python",
   "name": "python3"
  },
  "language_info": {
   "codemirror_mode": {
    "name": "ipython",
    "version": 3
   },
   "file_extension": ".py",
   "mimetype": "text/x-python",
   "name": "python",
   "nbconvert_exporter": "python",
   "pygments_lexer": "ipython3",
   "version": "3.8.5"
  }
 },
 "nbformat": 4,
 "nbformat_minor": 5
}
