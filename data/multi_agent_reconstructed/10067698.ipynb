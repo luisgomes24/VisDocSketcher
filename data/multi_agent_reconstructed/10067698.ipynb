{
 "cells": [
  {
   "cell_type": "markdown",
   "id": "1094f7cd",
   "metadata": {},
   "source": [
    "Load the first 1000 rows of the apps.csv file into dataframe df1."
   ]
  },
  {
   "cell_type": "code",
   "execution_count": null,
   "id": "4705bef7",
   "metadata": {},
   "outputs": [],
   "source": [
    "import pandas as pd\n",
    "df1 = pd.read_csv('/apps.csv', nrows=1000)"
   ]
  },
  {
   "cell_type": "markdown",
   "id": "95f6937a",
   "metadata": {},
   "source": [
    "Load the first 1000 rows of the user_reviews.csv file into dataframe df2."
   ]
  },
  {
   "cell_type": "code",
   "execution_count": null,
   "id": "ac75aa32",
   "metadata": {},
   "outputs": [],
   "source": [
    "df2 = pd.read_csv('/user_reviews.csv', nrows=1000)"
   ]
  }
 ],
 "metadata": {
  "kernelspec": {
   "display_name": "Python 3",
   "language": "python",
   "name": "python3"
  },
  "language_info": {
   "codemirror_mode": {
    "name": "ipython",
    "version": 3
   },
   "file_extension": ".py",
   "mimetype": "text/x-python",
   "name": "python",
   "nbconvert_exporter": "python",
   "pygments_lexer": "ipython3",
   "version": "3.8.5"
  }
 },
 "nbformat": 4,
 "nbformat_minor": 5
}
