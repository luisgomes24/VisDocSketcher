{
 "cells": [
  {
   "cell_type": "markdown",
   "id": "43454ba6",
   "metadata": {},
   "source": [
    "Load the candy data from a CSV file into a DataFrame."
   ]
  },
  {
   "cell_type": "code",
   "execution_count": null,
   "id": "2f079d9c",
   "metadata": {},
   "outputs": [],
   "source": [
    "import pandas as pd\n",
    "\n",
    "data = pd.read_csv('candy_data.csv')"
   ]
  },
  {
   "cell_type": "markdown",
   "id": "59b34ff2",
   "metadata": {},
   "source": [
    "Remove the 'bar' column from the DataFrame."
   ]
  },
  {
   "cell_type": "code",
   "execution_count": null,
   "id": "9c03f117",
   "metadata": {},
   "outputs": [],
   "source": [
    "data = data.drop('bar', axis=1)"
   ]
  },
  {
   "cell_type": "markdown",
   "id": "1b76a117",
   "metadata": {},
   "source": [
    "Create features 'X' by excluding the 'bar' column, and extract target 'y' from it."
   ]
  },
  {
   "cell_type": "code",
   "execution_count": null,
   "id": "df3114c5",
   "metadata": {},
   "outputs": [],
   "source": [
    "X = data.drop('bar', axis=1)\n",
    "y = data['bar']"
   ]
  },
  {
   "cell_type": "markdown",
   "id": "2ee26057",
   "metadata": {},
   "source": [
    "Normalize the features 'X' using MinMaxScaler."
   ]
  },
  {
   "cell_type": "code",
   "execution_count": null,
   "id": "9a203263",
   "metadata": {},
   "outputs": [],
   "source": [
    "from sklearn.preprocessing import MinMaxScaler\n",
    "\n",
    "scaler = MinMaxScaler()\n",
    "X = scaler.fit_transform(X)"
   ]
  },
  {
   "cell_type": "markdown",
   "id": "2cc4ce77",
   "metadata": {},
   "source": [
    "Split the data into training and testing sets."
   ]
  },
  {
   "cell_type": "code",
   "execution_count": null,
   "id": "56bbf09d",
   "metadata": {},
   "outputs": [],
   "source": [
    "from sklearn.model_selection import train_test_split\n",
    "\n",
    "X_train, X_test, y_train, y_test = train_test_split(X, y, test_size=0.2)"
   ]
  },
  {
   "cell_type": "markdown",
   "id": "05c439de",
   "metadata": {},
   "source": [
    "Train a logistic regression model using the training data."
   ]
  },
  {
   "cell_type": "code",
   "execution_count": null,
   "id": "574a2d89",
   "metadata": {},
   "outputs": [],
   "source": [
    "from sklearn.linear_model import LogisticRegression\n",
    "\n",
    "model = LogisticRegression()\n",
    "model.fit(X_train, y_train)"
   ]
  },
  {
   "cell_type": "markdown",
   "id": "be65fe97",
   "metadata": {},
   "source": [
    "Evaluate the trained model on testing data to obtain accuracy."
   ]
  },
  {
   "cell_type": "code",
   "execution_count": null,
   "id": "ecb338ae",
   "metadata": {},
   "outputs": [],
   "source": [
    "accuracy = model.score(X_test, y_test)"
   ]
  }
 ],
 "metadata": {
  "kernelspec": {
   "display_name": "Python 3",
   "language": "python",
   "name": "python3"
  },
  "language_info": {
   "codemirror_mode": {
    "name": "ipython",
    "version": 3
   },
   "file_extension": ".py",
   "mimetype": "text/x-python",
   "name": "python",
   "nbconvert_exporter": "python",
   "pygments_lexer": "ipython3",
   "version": "3.8.5"
  }
 },
 "nbformat": 4,
 "nbformat_minor": 5
}
