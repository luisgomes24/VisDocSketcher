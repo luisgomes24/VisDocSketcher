{
 "cells": [
  {
   "cell_type": "markdown",
   "id": "dba9b8f3",
   "metadata": {},
   "source": [
    "Get a number from the user and calculate its square."
   ]
  },
  {
   "cell_type": "code",
   "execution_count": null,
   "id": "cdaaf8e6",
   "metadata": {},
   "outputs": [],
   "source": [
    "a = float(input('Input a number: '))\n",
    "squared_a = a ** 2"
   ]
  },
  {
   "cell_type": "markdown",
   "id": "09bace26",
   "metadata": {},
   "source": [
    "Get another number and generate its multiples up to 5."
   ]
  },
  {
   "cell_type": "code",
   "execution_count": null,
   "id": "cd7dbeac",
   "metadata": {},
   "outputs": [],
   "source": [
    "x = float(input('Input another number: '))\n",
    "result = [x * i for i in range(1, 6)]"
   ]
  },
  {
   "cell_type": "markdown",
   "id": "825fde90",
   "metadata": {},
   "source": [
    "Convert the input weight from kilograms to pounds."
   ]
  },
  {
   "cell_type": "code",
   "execution_count": null,
   "id": "269d76ab",
   "metadata": {},
   "outputs": [],
   "source": [
    "weight = float(input('Input weight in kilograms: '))\n",
    "pounds = weight * 2.20462"
   ]
  },
  {
   "cell_type": "markdown",
   "id": "d7aef3ab",
   "metadata": {},
   "source": [
    "Get three numbers from the user and calculate their total."
   ]
  },
  {
   "cell_type": "code",
   "execution_count": null,
   "id": "c94736d0",
   "metadata": {},
   "outputs": [],
   "source": [
    "num1 = float(input('Input first number: '))\n",
    "num2 = float(input('Input second number: '))\n",
    "num3 = float(input('Input third number: '))\n",
    "total = num1 + num2 + num3"
   ]
  },
  {
   "cell_type": "markdown",
   "id": "079adde0",
   "metadata": {},
   "source": [
    "Calculate a 15% tip based on the meal price."
   ]
  },
  {
   "cell_type": "code",
   "execution_count": null,
   "id": "ae7e91f2",
   "metadata": {},
   "outputs": [],
   "source": [
    "meal_price = float(input('Input meal price: '))\n",
    "tip = meal_price * 0.15"
   ]
  },
  {
   "cell_type": "markdown",
   "id": "f7c23e6c",
   "metadata": {},
   "source": [
    "Calculate and output the average of the three input numbers."
   ]
  },
  {
   "cell_type": "code",
   "execution_count": null,
   "id": "ff63ced2",
   "metadata": {},
   "outputs": [],
   "source": [
    "average = total / 3\n",
    "print('Average:', average)"
   ]
  },
  {
   "cell_type": "markdown",
   "id": "6eb3abea",
   "metadata": {},
   "source": [
    "Output the calculated tip."
   ]
  },
  {
   "cell_type": "code",
   "execution_count": null,
   "id": "80f40f94",
   "metadata": {},
   "outputs": [],
   "source": [
    "print('Tip:', tip)"
   ]
  }
 ],
 "metadata": {
  "kernelspec": {
   "display_name": "Python 3",
   "language": "python",
   "name": "python3"
  },
  "language_info": {
   "codemirror_mode": {
    "name": "ipython",
    "version": 3
   },
   "file_extension": ".py",
   "mimetype": "text/x-python",
   "name": "python",
   "nbconvert_exporter": "python",
   "pygments_lexer": "ipython3",
   "version": "3.8.5"
  }
 },
 "nbformat": 4,
 "nbformat_minor": 5
}
