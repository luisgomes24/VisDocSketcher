{
 "cells": [
  {
   "cell_type": "markdown",
   "id": "f01681e8",
   "metadata": {},
   "source": [
    "Load training and testing data from CSV files."
   ]
  },
  {
   "cell_type": "code",
   "execution_count": null,
   "id": "4eb450c2",
   "metadata": {},
   "outputs": [],
   "source": [
    "import pandas as pd\n",
    "\n",
    "data_train = pd.read_csv('train.csv')\n",
    "data_test = pd.read_csv('test.csv')"
   ]
  },
  {
   "cell_type": "markdown",
   "id": "41539009",
   "metadata": {},
   "source": [
    "Split the training data into features (X) and target (y)."
   ]
  },
  {
   "cell_type": "code",
   "execution_count": null,
   "id": "0a0d4c8e",
   "metadata": {},
   "outputs": [],
   "source": [
    "X = data_train.drop('target', axis=1)\n",
    "y = data_train['target']"
   ]
  },
  {
   "cell_type": "markdown",
   "id": "c3f77f02",
   "metadata": {},
   "source": [
    "Initialize the Random Forest Classifier model."
   ]
  },
  {
   "cell_type": "code",
   "execution_count": null,
   "id": "ca2bf93f",
   "metadata": {},
   "outputs": [],
   "source": [
    "from sklearn.ensemble import RandomForestClassifier\n",
    "\n",
    "model = RandomForestClassifier()"
   ]
  },
  {
   "cell_type": "markdown",
   "id": "704c5de2",
   "metadata": {},
   "source": [
    "Train the model using the training data."
   ]
  },
  {
   "cell_type": "code",
   "execution_count": null,
   "id": "b3322e72",
   "metadata": {},
   "outputs": [],
   "source": [
    "model.fit(X, y)"
   ]
  },
  {
   "cell_type": "markdown",
   "id": "842048af",
   "metadata": {},
   "source": [
    "Make predictions on the test data."
   ]
  },
  {
   "cell_type": "code",
   "execution_count": null,
   "id": "d2ed050f",
   "metadata": {},
   "outputs": [],
   "source": [
    "predictions = model.predict(data_test)"
   ]
  },
  {
   "cell_type": "markdown",
   "id": "ceba7079",
   "metadata": {},
   "source": [
    "Prepare the submission DataFrame and save it to a CSV file."
   ]
  },
  {
   "cell_type": "code",
   "execution_count": null,
   "id": "1f0eccbe",
   "metadata": {},
   "outputs": [],
   "source": [
    "submission = pd.DataFrame({'Id': data_test['Id'], 'Prediction': predictions})\n",
    "submission.to_csv('submission.csv', index=False)"
   ]
  }
 ],
 "metadata": {
  "kernelspec": {
   "display_name": "Python 3",
   "language": "python",
   "name": "python3"
  },
  "language_info": {
   "codemirror_mode": {
    "name": "ipython",
    "version": 3
   },
   "file_extension": ".py",
   "mimetype": "text/x-python",
   "name": "python",
   "nbconvert_exporter": "python",
   "pygments_lexer": "ipython3",
   "version": "3.8.5"
  }
 },
 "nbformat": 4,
 "nbformat_minor": 5
}
