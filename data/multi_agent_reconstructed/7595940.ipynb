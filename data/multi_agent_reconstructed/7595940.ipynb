{
 "cells": [
  {
   "cell_type": "markdown",
   "id": "a67421e7",
   "metadata": {},
   "source": [
    "Import the anime dataset from a CSV file."
   ]
  },
  {
   "cell_type": "code",
   "execution_count": null,
   "id": "ba344955",
   "metadata": {},
   "outputs": [],
   "source": [
    "import pandas as pd\n",
    "animes = pd.read_csv('anime.csv')"
   ]
  },
  {
   "cell_type": "markdown",
   "id": "6e050560",
   "metadata": {},
   "source": [
    "Import the ratings dataset from a CSV file."
   ]
  },
  {
   "cell_type": "code",
   "execution_count": null,
   "id": "485bd60e",
   "metadata": {},
   "outputs": [],
   "source": [
    "ratings = pd.read_csv('rating.csv')"
   ]
  },
  {
   "cell_type": "markdown",
   "id": "43e34a67",
   "metadata": {},
   "source": [
    "Convert genres in the animes dataset to dummy/indicator variables."
   ]
  },
  {
   "cell_type": "code",
   "execution_count": null,
   "id": "76629534",
   "metadata": {},
   "outputs": [],
   "source": [
    "dummies = pd.get_dummies(animes['Genres'])"
   ]
  },
  {
   "cell_type": "markdown",
   "id": "a563279c",
   "metadata": {},
   "source": [
    "Filter the animes dataset to keep only those with known episodes."
   ]
  },
  {
   "cell_type": "code",
   "execution_count": null,
   "id": "288d6134",
   "metadata": {},
   "outputs": [],
   "source": [
    "know_episodes = animes[animes['Episodes'].notnull()]"
   ]
  },
  {
   "cell_type": "markdown",
   "id": "582089e9",
   "metadata": {},
   "source": [
    "Calculate the correlation matrix for the filtered dataset."
   ]
  },
  {
   "cell_type": "code",
   "execution_count": null,
   "id": "45d48808",
   "metadata": {},
   "outputs": [],
   "source": [
    "matrix = know_episodes.corr()"
   ]
  },
  {
   "cell_type": "markdown",
   "id": "9ad12773",
   "metadata": {},
   "source": [
    "Generate and display a heatmap of the correlation matrix."
   ]
  },
  {
   "cell_type": "code",
   "execution_count": null,
   "id": "6da72b74",
   "metadata": {},
   "outputs": [],
   "source": [
    "import seaborn as sns\n",
    "import matplotlib.pyplot as plt\n",
    "sns.heatmap(matrix)\n",
    "plt.show()"
   ]
  },
  {
   "cell_type": "markdown",
   "id": "b47f33df",
   "metadata": {},
   "source": [
    "Convert the correlation matrix into a graph using NetworkX."
   ]
  },
  {
   "cell_type": "code",
   "execution_count": null,
   "id": "a345c7ed",
   "metadata": {},
   "outputs": [],
   "source": [
    "import networkx as nx\n",
    "G = nx.from_pandas_adjacency(matrix)"
   ]
  },
  {
   "cell_type": "markdown",
   "id": "5aa54c81",
   "metadata": {},
   "source": [
    "Filter the graph to create a subgraph based on anime titles."
   ]
  },
  {
   "cell_type": "code",
   "execution_count": null,
   "id": "c50472ca",
   "metadata": {},
   "outputs": [],
   "source": [
    "subgraph = G.subgraph(list(know_episodes['Title']))"
   ]
  },
  {
   "cell_type": "markdown",
   "id": "2d02a14a",
   "metadata": {},
   "source": [
    "Generate and visualize the network plot of the subgraph."
   ]
  },
  {
   "cell_type": "code",
   "execution_count": null,
   "id": "1ee456b4",
   "metadata": {},
   "outputs": [],
   "source": [
    "import matplotlib.pyplot as plt\n",
    "nx.draw(subgraph, with_labels=True)\n",
    "plt.show()"
   ]
  }
 ],
 "metadata": {
  "kernelspec": {
   "display_name": "Python 3",
   "language": "python",
   "name": "python3"
  },
  "language_info": {
   "codemirror_mode": {
    "name": "ipython",
    "version": 3
   },
   "file_extension": ".py",
   "mimetype": "text/x-python",
   "name": "python",
   "nbconvert_exporter": "python",
   "pygments_lexer": "ipython3",
   "version": "3.8.5"
  }
 },
 "nbformat": 4,
 "nbformat_minor": 5
}
