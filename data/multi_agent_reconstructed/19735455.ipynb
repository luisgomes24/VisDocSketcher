{
 "cells": [
  {
   "cell_type": "markdown",
   "id": "cf832a63",
   "metadata": {},
   "source": [
    "Load training and testing data from CSV files using pandas."
   ]
  },
  {
   "cell_type": "code",
   "execution_count": null,
   "id": "d57534ce",
   "metadata": {},
   "outputs": [],
   "source": [
    "import pandas as pd\n",
    "train_data = pd.read_csv('train.csv')\n",
    "test_data = pd.read_csv('test.csv')"
   ]
  },
  {
   "cell_type": "markdown",
   "id": "b73ac6b4",
   "metadata": {},
   "source": [
    "Remove rows from the training data where 'SalePrice' is missing."
   ]
  },
  {
   "cell_type": "code",
   "execution_count": null,
   "id": "68ea0d1d",
   "metadata": {},
   "outputs": [],
   "source": [
    "train_data_cleaned = train_data.dropna(subset=['SalePrice'])"
   ]
  },
  {
   "cell_type": "markdown",
   "id": "43e887b4",
   "metadata": {},
   "source": [
    "Select numeric columns for input features and extract 'SalePrice' as the target variable."
   ]
  },
  {
   "cell_type": "code",
   "execution_count": null,
   "id": "258a39e9",
   "metadata": {},
   "outputs": [],
   "source": [
    "X = train_data_cleaned.select_dtypes(include=['number'])\n",
    "y = train_data_cleaned['SalePrice']"
   ]
  },
  {
   "cell_type": "markdown",
   "id": "fef8f078",
   "metadata": {},
   "source": [
    "Initialize a Random Forest Regressor model with a specified number of estimators."
   ]
  },
  {
   "cell_type": "code",
   "execution_count": null,
   "id": "9505a518",
   "metadata": {},
   "outputs": [],
   "source": [
    "from sklearn.ensemble import RandomForestRegressor\n",
    "model = RandomForestRegressor(n_estimators=100)"
   ]
  },
  {
   "cell_type": "markdown",
   "id": "c80f5849",
   "metadata": {},
   "source": [
    "Train the model using the input features and target variable."
   ]
  },
  {
   "cell_type": "code",
   "execution_count": null,
   "id": "3f9e5b0d",
   "metadata": {},
   "outputs": [],
   "source": [
    "model.fit(X, y)"
   ]
  },
  {
   "cell_type": "markdown",
   "id": "c2595e09",
   "metadata": {},
   "source": [
    "Use the trained model to make predictions on the test data."
   ]
  },
  {
   "cell_type": "code",
   "execution_count": null,
   "id": "df3758d4",
   "metadata": {},
   "outputs": [],
   "source": [
    "results = model.predict(test_data.select_dtypes(include=['number']))"
   ]
  }
 ],
 "metadata": {
  "kernelspec": {
   "display_name": "Python 3",
   "language": "python",
   "name": "python3"
  },
  "language_info": {
   "codemirror_mode": {
    "name": "ipython",
    "version": 3
   },
   "file_extension": ".py",
   "mimetype": "text/x-python",
   "name": "python",
   "nbconvert_exporter": "python",
   "pygments_lexer": "ipython3",
   "version": "3.8.5"
  }
 },
 "nbformat": 4,
 "nbformat_minor": 5
}
