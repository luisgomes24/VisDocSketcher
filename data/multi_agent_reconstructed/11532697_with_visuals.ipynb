{
 "cells": [
  {
   "cell_type": "markdown",
   "id": "412f6e7a",
   "metadata": {},
   "source": [
    "Load training feature data from 'train_features.csv' into a DataFrame."
   ]
  },
  {
   "cell_type": "code",
   "execution_count": null,
   "id": "50ba2d1c",
   "metadata": {},
   "outputs": [],
   "source": [
    "import pandas as pd\n",
    "df_Train = pd.read_csv('train_features.csv')"
   ]
  },
  {
   "cell_type": "markdown",
   "id": "b0fbfd5d",
   "metadata": {},
   "source": [
    "Load training target data with scores from 'train_targets_scored.csv'."
   ]
  },
  {
   "cell_type": "code",
   "execution_count": null,
   "id": "938b2314",
   "metadata": {},
   "outputs": [],
   "source": [
    "df_Train_scored = pd.read_csv('train_targets_scored.csv')"
   ]
  },
  {
   "cell_type": "markdown",
   "id": "5541ebff",
   "metadata": {},
   "source": [
    "Load training target data without scores from 'train_targets_nonscored.csv'."
   ]
  },
  {
   "cell_type": "code",
   "execution_count": null,
   "id": "0f8f3dc8",
   "metadata": {},
   "outputs": [],
   "source": [
    "df_Train_unsourced = pd.read_csv('train_targets_nonscored.csv')"
   ]
  },
  {
   "cell_type": "markdown",
   "id": "753da1c7",
   "metadata": {},
   "source": [
    "Perform exploratory data analysis (EDA) by plotting a histogram of a feature."
   ]
  },
  {
   "cell_type": "code",
   "execution_count": null,
   "id": "ff9dce19",
   "metadata": {},
   "outputs": [],
   "source": [
    "import matplotlib.pyplot as plt\n",
    "plt.hist(df_Train['feature_column'])\n",
    "plt.show()"
   ]
  },
  {
   "cell_type": "markdown",
   "id": "88ccca8e",
   "metadata": {},
   "source": [
    "Split the training data into training and validation sets for model training."
   ]
  },
  {
   "cell_type": "code",
   "execution_count": null,
   "id": "ef4d4257",
   "metadata": {},
   "outputs": [],
   "source": [
    "from sklearn.model_selection import train_test_split\n",
    "X_train, X_val, y_train, y_val = train_test_split(df_Train, df_Train_scored, test_size=0.2)"
   ]
  },
  {
   "cell_type": "markdown",
   "id": "4d9dbfc0",
   "metadata": {},
   "source": [
    "Train a linear regression model using the training dataset."
   ]
  },
  {
   "cell_type": "code",
   "execution_count": null,
   "id": "5b60b777",
   "metadata": {},
   "outputs": [],
   "source": [
    "from sklearn.linear_model import LinearRegression\n",
    "model = LinearRegression()\n",
    "model.fit(X_train, y_train)"
   ]
  },
  {
   "cell_type": "markdown",
   "id": "48caa794",
   "metadata": {},
   "source": [
    "Evaluate the trained model by predicting on validation data and plotting results."
   ]
  },
  {
   "cell_type": "code",
   "execution_count": null,
   "id": "96d89090",
   "metadata": {},
   "outputs": [],
   "source": [
    "y_pred = model.predict(X_val)\n",
    "plt.boxplot(y_pred)\n",
    "plt.show()"
   ]
  },
  {
   "cell_type": "markdown",
   "id": "d9b20dd0",
   "metadata": {},
   "source": [
    "Generate additional insights by computing the mean of the features grouped by category."
   ]
  },
  {
   "cell_type": "code",
   "execution_count": null,
   "id": "dd715832",
   "metadata": {},
   "outputs": [],
   "source": [
    "additional_insight = df_Train_unsourced.groupby('category').mean()"
   ]
  },
  {
   "cell_type": "markdown",
   "id": "93c2d418",
   "metadata": {},
   "source": [
    "Load test feature data and predict probabilities using the trained model."
   ]
  },
  {
   "cell_type": "code",
   "execution_count": null,
   "id": "7a8ff381",
   "metadata": {},
   "outputs": [],
   "source": [
    "df_Test = pd.read_csv('test_features.csv')\n",
    "probabilities = model.predict(df_Test)"
   ]
  }
 ],
 "metadata": {
  "kernelspec": {
   "display_name": "Python 3",
   "language": "python",
   "name": "python3"
  },
  "language_info": {
   "codemirror_mode": {
    "name": "ipython",
    "version": 3
   },
   "file_extension": ".py",
   "mimetype": "text/x-python",
   "name": "python",
   "nbconvert_exporter": "python",
   "pygments_lexer": "ipython3",
   "version": "3.8.5"
  }
 },
 "nbformat": 4,
 "nbformat_minor": 5
}
