{
 "cells": [
  {
   "cell_type": "markdown",
   "id": "5726d9bc",
   "metadata": {},
   "source": [
    "Load the training data from a CSV file."
   ]
  },
  {
   "cell_type": "code",
   "execution_count": null,
   "id": "bcce2789",
   "metadata": {},
   "outputs": [],
   "source": [
    "import pandas as pd\n",
    "train_data = pd.read_csv('/kaggle/input/titanic/train.csv')"
   ]
  },
  {
   "cell_type": "markdown",
   "id": "72ca01da",
   "metadata": {},
   "source": [
    "Load the test data from a CSV file."
   ]
  },
  {
   "cell_type": "code",
   "execution_count": null,
   "id": "93e5443b",
   "metadata": {},
   "outputs": [],
   "source": [
    "test_data = pd.read_csv('/kaggle/input/titanic/test.csv')"
   ]
  },
  {
   "cell_type": "markdown",
   "id": "268a8669",
   "metadata": {},
   "source": [
    "Select features (X) and target (y) for the model."
   ]
  },
  {
   "cell_type": "code",
   "execution_count": null,
   "id": "dd664e5f",
   "metadata": {},
   "outputs": [],
   "source": [
    "X = train_data.drop(['Survived'], axis=1)\n",
    "y = train_data['Survived']"
   ]
  },
  {
   "cell_type": "markdown",
   "id": "66060951",
   "metadata": {},
   "source": [
    "Split the data into training and testing sets."
   ]
  },
  {
   "cell_type": "code",
   "execution_count": null,
   "id": "bb5b9e82",
   "metadata": {},
   "outputs": [],
   "source": [
    "from sklearn.model_selection import train_test_split\n",
    "train_X, test_X, train_y, test_y = train_test_split(X, y, test_size=0.2, random_state=42)"
   ]
  },
  {
   "cell_type": "markdown",
   "id": "f3b53a16",
   "metadata": {},
   "source": [
    "Initialize the Random Forest Classifier model."
   ]
  },
  {
   "cell_type": "code",
   "execution_count": null,
   "id": "6ceb5141",
   "metadata": {},
   "outputs": [],
   "source": [
    "from sklearn.ensemble import RandomForestClassifier\n",
    "rf_model = RandomForestClassifier(n_estimators=500, max_depth=3)"
   ]
  },
  {
   "cell_type": "markdown",
   "id": "69d864d8",
   "metadata": {},
   "source": [
    "Initialize the XGBoost Classifier model."
   ]
  },
  {
   "cell_type": "code",
   "execution_count": null,
   "id": "a58cfe2e",
   "metadata": {},
   "outputs": [],
   "source": [
    "from xgboost import XGBClassifier\n",
    "xgb_model = XGBClassifier(n_estimators=1000, learning_rate=0.05)"
   ]
  },
  {
   "cell_type": "markdown",
   "id": "6c5f9a52",
   "metadata": {},
   "source": [
    "Initialize the Logistic Regression model."
   ]
  },
  {
   "cell_type": "code",
   "execution_count": null,
   "id": "75178e72",
   "metadata": {},
   "outputs": [],
   "source": [
    "from sklearn.linear_model import LogisticRegression\n",
    "logistic_model = LogisticRegression()"
   ]
  },
  {
   "cell_type": "markdown",
   "id": "2d9c59c5",
   "metadata": {},
   "source": [
    "Train the Random Forest model and predict the test set."
   ]
  },
  {
   "cell_type": "code",
   "execution_count": null,
   "id": "b5db454e",
   "metadata": {},
   "outputs": [],
   "source": [
    "predictions_rf = rf_model.fit(train_X, train_y).predict(test_X)"
   ]
  },
  {
   "cell_type": "markdown",
   "id": "3573f8e7",
   "metadata": {},
   "source": [
    "Train the XGBoost model and predict the test set."
   ]
  },
  {
   "cell_type": "code",
   "execution_count": null,
   "id": "db467faf",
   "metadata": {},
   "outputs": [],
   "source": [
    "predictions_xgb = xgb_model.fit(train_X, train_y).predict(test_X)"
   ]
  },
  {
   "cell_type": "markdown",
   "id": "171aa6af",
   "metadata": {},
   "source": [
    "Train the Logistic Regression model and predict the test set."
   ]
  },
  {
   "cell_type": "code",
   "execution_count": null,
   "id": "dd4ac85a",
   "metadata": {},
   "outputs": [],
   "source": [
    "predictions_logistic = logistic_model.fit(train_X, train_y).predict(test_X)"
   ]
  },
  {
   "cell_type": "markdown",
   "id": "6535ba21",
   "metadata": {},
   "source": [
    "Create a DataFrame for the output predictions."
   ]
  },
  {
   "cell_type": "code",
   "execution_count": null,
   "id": "67b48439",
   "metadata": {},
   "outputs": [],
   "source": [
    "output = pd.DataFrame({'PassengerId': test_data['PassengerId'], 'Survived': predictions_rf})"
   ]
  },
  {
   "cell_type": "markdown",
   "id": "96b8cfd2",
   "metadata": {},
   "source": [
    "Save the predictions to a CSV file."
   ]
  },
  {
   "cell_type": "code",
   "execution_count": null,
   "id": "5951e314",
   "metadata": {},
   "outputs": [],
   "source": [
    "output.to_csv('submission.csv', index=False)"
   ]
  }
 ],
 "metadata": {
  "kernelspec": {
   "display_name": "Python 3",
   "language": "python",
   "name": "python3"
  },
  "language_info": {
   "codemirror_mode": {
    "name": "ipython",
    "version": 3
   },
   "file_extension": ".py",
   "mimetype": "text/x-python",
   "name": "python",
   "nbconvert_exporter": "python",
   "pygments_lexer": "ipython3",
   "version": "3.8.5"
  }
 },
 "nbformat": 4,
 "nbformat_minor": 5
}
