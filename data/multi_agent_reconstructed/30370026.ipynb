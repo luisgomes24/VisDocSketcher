{
 "cells": [
  {
   "cell_type": "markdown",
   "id": "adcc8b7e",
   "metadata": {},
   "source": [
    "Load the training data from 'train_data.json' into variable X."
   ]
  },
  {
   "cell_type": "code",
   "execution_count": null,
   "id": "f48e8817",
   "metadata": {},
   "outputs": [],
   "source": [
    "import pandas as pd\n",
    "\n",
    "# Load training data\n",
    "X = pd.read_json('train_data.json')"
   ]
  },
  {
   "cell_type": "markdown",
   "id": "f3265319",
   "metadata": {},
   "source": [
    "Load the training labels from 'train_labels.json' into variable y."
   ]
  },
  {
   "cell_type": "code",
   "execution_count": null,
   "id": "9eff4556",
   "metadata": {},
   "outputs": [],
   "source": [
    "y = pd.read_json('train_labels.json')"
   ]
  }
 ],
 "metadata": {
  "kernelspec": {
   "display_name": "Python 3",
   "language": "python",
   "name": "python3"
  },
  "language_info": {
   "codemirror_mode": {
    "name": "ipython",
    "version": 3
   },
   "file_extension": ".py",
   "mimetype": "text/x-python",
   "name": "python",
   "nbconvert_exporter": "python",
   "pygments_lexer": "ipython3",
   "version": "3.8.5"
  }
 },
 "nbformat": 4,
 "nbformat_minor": 5
}
