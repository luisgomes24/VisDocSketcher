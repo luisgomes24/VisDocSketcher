{
 "cells": [
  {
   "cell_type": "markdown",
   "id": "f6306556",
   "metadata": {},
   "source": [
    "Load the test data from 'test_lung_mask.csv' into a DataFrame named df1."
   ]
  },
  {
   "cell_type": "code",
   "execution_count": null,
   "id": "2557be8a",
   "metadata": {},
   "outputs": [],
   "source": [
    "import pandas as pd\n",
    "df1 = pd.read_csv('test_lung_mask.csv')"
   ]
  },
  {
   "cell_type": "markdown",
   "id": "58ef2ee6",
   "metadata": {},
   "source": [
    "Perform exploratory analysis on df1 to summarize statistics."
   ]
  },
  {
   "cell_type": "code",
   "execution_count": null,
   "id": "c45da8b0",
   "metadata": {},
   "outputs": [],
   "source": [
    "df1.describe()"
   ]
  },
  {
   "cell_type": "markdown",
   "id": "69dedafa",
   "metadata": {},
   "source": [
    "Generate and display plots for exploratory analysis of df1."
   ]
  },
  {
   "cell_type": "code",
   "execution_count": null,
   "id": "728b28b0",
   "metadata": {},
   "outputs": [],
   "source": [
    "import matplotlib.pyplot as plt\n",
    "plt.figure()\n",
    "df1.hist()\n",
    "plt.show()"
   ]
  },
  {
   "cell_type": "markdown",
   "id": "09fff83d",
   "metadata": {},
   "source": [
    "Load the training data from 'train_lung_mask.csv' into a DataFrame named df2."
   ]
  },
  {
   "cell_type": "code",
   "execution_count": null,
   "id": "8da892ce",
   "metadata": {},
   "outputs": [],
   "source": [
    "import pandas as pd\n",
    "df2 = pd.read_csv('train_lung_mask.csv')"
   ]
  },
  {
   "cell_type": "markdown",
   "id": "d3da1529",
   "metadata": {},
   "source": [
    "Perform exploratory analysis on df2 to summarize statistics."
   ]
  },
  {
   "cell_type": "code",
   "execution_count": null,
   "id": "f22deb90",
   "metadata": {},
   "outputs": [],
   "source": [
    "df2.describe()"
   ]
  },
  {
   "cell_type": "markdown",
   "id": "cf63bd46",
   "metadata": {},
   "source": [
    "Generate and display plots for exploratory analysis of df2."
   ]
  },
  {
   "cell_type": "code",
   "execution_count": null,
   "id": "96d76eeb",
   "metadata": {},
   "outputs": [],
   "source": [
    "plt.figure()\n",
    "df2.hist()\n",
    "plt.show()"
   ]
  }
 ],
 "metadata": {
  "kernelspec": {
   "display_name": "Python 3",
   "language": "python",
   "name": "python3"
  },
  "language_info": {
   "codemirror_mode": {
    "name": "ipython",
    "version": 3
   },
   "file_extension": ".py",
   "mimetype": "text/x-python",
   "name": "python",
   "nbconvert_exporter": "python",
   "pygments_lexer": "ipython3",
   "version": "3.8.5"
  }
 },
 "nbformat": 4,
 "nbformat_minor": 5
}
