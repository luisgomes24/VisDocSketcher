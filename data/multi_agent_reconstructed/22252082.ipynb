{
 "cells": [
  {
   "cell_type": "markdown",
   "id": "42577aa4",
   "metadata": {},
   "source": [
    "Define a list of image URLs to be processed."
   ]
  },
  {
   "cell_type": "code",
   "execution_count": null,
   "id": "c92c6675",
   "metadata": {},
   "outputs": [],
   "source": [
    "image_urls = ['url1', 'url2', 'url3']"
   ]
  },
  {
   "cell_type": "markdown",
   "id": "0e2fa91f",
   "metadata": {},
   "source": [
    "Import keras-ocr and initialize an OCR pipeline."
   ]
  },
  {
   "cell_type": "code",
   "execution_count": null,
   "id": "98bffcdd",
   "metadata": {},
   "outputs": [],
   "source": [
    "import keras_ocr\n",
    "\n",
    "pipeline = keras_ocr.pipeline.Pipeline()"
   ]
  },
  {
   "cell_type": "markdown",
   "id": "6285aafa",
   "metadata": {},
   "source": [
    "Load images from the specified URLs using keras-ocr tools."
   ]
  },
  {
   "cell_type": "code",
   "execution_count": null,
   "id": "4c63605b",
   "metadata": {},
   "outputs": [],
   "source": [
    "images = keras_ocr.tools.read(urls=image_urls)"
   ]
  },
  {
   "cell_type": "markdown",
   "id": "9fd32182",
   "metadata": {},
   "source": [
    "Run OCR using Keras-OCR on the loaded images."
   ]
  },
  {
   "cell_type": "code",
   "execution_count": null,
   "id": "b66a2555",
   "metadata": {},
   "outputs": [],
   "source": [
    "kerasocr_preds = pipeline.recognize(images)"
   ]
  },
  {
   "cell_type": "markdown",
   "id": "fd624abe",
   "metadata": {},
   "source": [
    "Import EasyOCR and create a reader for English text."
   ]
  },
  {
   "cell_type": "code",
   "execution_count": null,
   "id": "902fe175",
   "metadata": {},
   "outputs": [],
   "source": [
    "import easyocr\n",
    "\n",
    "easyocr_reader = easyocr.Reader(['en'])"
   ]
  },
  {
   "cell_type": "markdown",
   "id": "92709a51",
   "metadata": {},
   "source": [
    "Perform OCR on the images using EasyOCR."
   ]
  },
  {
   "cell_type": "code",
   "execution_count": null,
   "id": "baa2d5a0",
   "metadata": {},
   "outputs": [],
   "source": [
    "easyocr_preds = easyocr_reader.readtext(images)"
   ]
  },
  {
   "cell_type": "markdown",
   "id": "26aab010",
   "metadata": {},
   "source": [
    "Use Pytesseract to extract text from each image."
   ]
  },
  {
   "cell_type": "code",
   "execution_count": null,
   "id": "55a0776b",
   "metadata": {},
   "outputs": [],
   "source": [
    "import pytesseract\n",
    "\n",
    "pytesseract_preds = [pytesseract.image_to_string(image) for image in images]"
   ]
  },
  {
   "cell_type": "markdown",
   "id": "ca1f5759",
   "metadata": {},
   "source": [
    "Define a function to display results from the different OCR outputs."
   ]
  },
  {
   "cell_type": "code",
   "execution_count": null,
   "id": "41708c26",
   "metadata": {},
   "outputs": [],
   "source": [
    "def display_results(*predictions):\n",
    "    for pred in predictions:\n",
    "        print(pred)"
   ]
  },
  {
   "cell_type": "markdown",
   "id": "1f8a2823",
   "metadata": {},
   "source": [
    "Call the display function to show OCR results from all methods."
   ]
  },
  {
   "cell_type": "code",
   "execution_count": null,
   "id": "1772c7be",
   "metadata": {},
   "outputs": [],
   "source": [
    "display_results(kerasocr_preds, easyocr_preds, pytesseract_preds)"
   ]
  }
 ],
 "metadata": {
  "kernelspec": {
   "display_name": "Python 3",
   "language": "python",
   "name": "python3"
  },
  "language_info": {
   "codemirror_mode": {
    "name": "ipython",
    "version": 3
   },
   "file_extension": ".py",
   "mimetype": "text/x-python",
   "name": "python",
   "nbconvert_exporter": "python",
   "pygments_lexer": "ipython3",
   "version": "3.8.5"
  }
 },
 "nbformat": 4,
 "nbformat_minor": 5
}
