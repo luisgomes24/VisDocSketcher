{
 "cells": [
  {
   "cell_type": "markdown",
   "id": "b929fc8d",
   "metadata": {},
   "source": [
    "This code creates a bar chart for Process A, showing values for categories A, B, and C."
   ]
  },
  {
   "cell_type": "code",
   "execution_count": null,
   "id": "4ec48e70",
   "metadata": {},
   "outputs": [],
   "source": [
    "import matplotlib.pyplot as plt\n",
    "\n",
    "categories = ['A', 'B', 'C']\n",
    "values = [10, 20, 15]\n",
    "plt.bar(categories, values, color='orange', edgecolor='black')\n",
    "plt.ylabel('Value')\n",
    "plt.title('Process A')\n",
    "plt.show()"
   ]
  },
  {
   "cell_type": "markdown",
   "id": "2d3b6f3c",
   "metadata": {},
   "source": [
    "This code generates a line plot for Process B, illustrating the metric over time."
   ]
  },
  {
   "cell_type": "code",
   "execution_count": null,
   "id": "507eda44",
   "metadata": {},
   "outputs": [],
   "source": [
    "import matplotlib.pyplot as plt\n",
    "import numpy as np\n",
    "\n",
    "times = ['Q1', 'Q2', 'Q3']\n",
    "metric = [5, 10, 15]\n",
    "x = np.arange(len(times))\n",
    "plt.plot(x, metric, marker='o', linestyle='--')\n",
    "plt.xticks(x, times)\n",
    "plt.ylabel('Metric')\n",
    "plt.title('Process B')\n",
    "plt.show()"
   ]
  },
  {
   "cell_type": "markdown",
   "id": "26453ec7",
   "metadata": {},
   "source": [
    "This code produces a scatter plot for Process C, showing random y-values against three categories."
   ]
  },
  {
   "cell_type": "code",
   "execution_count": null,
   "id": "b6c60b3c",
   "metadata": {},
   "outputs": [],
   "source": [
    "import matplotlib.pyplot as plt\n",
    "import numpy as np\n",
    "\n",
    "x = np.array(['Low', 'Medium', 'High'])\n",
    "y = np.random.rand(10)\n",
    "plt.scatter(x, y, edgecolor='black')\n",
    "plt.ylabel('Y Axis')\n",
    "plt.title('Process C')\n",
    "plt.show()"
   ]
  },
  {
   "cell_type": "markdown",
   "id": "8c153a38",
   "metadata": {},
   "source": [
    "This code creates a histogram for Process E, displaying the frequency of different value ranges."
   ]
  },
  {
   "cell_type": "code",
   "execution_count": null,
   "id": "cd4ef780",
   "metadata": {},
   "outputs": [],
   "source": [
    "import matplotlib.pyplot as plt\n",
    "\n",
    "value_ranges = [0, 10, 20, 30, 40, 50, 60, 70]\n",
    "frequency = [5, 10, 15, 20, 10, 5]\n",
    "plt.hist(value_ranges[:-1], weights=frequency, bins=value_ranges, edgecolor='black', alpha=0.5)\n",
    "plt.xlabel('Value Range')\n",
    "plt.ylabel('Frequency')\n",
    "plt.title('End Process E')\n",
    "plt.show()"
   ]
  }
 ],
 "metadata": {
  "kernelspec": {
   "display_name": "Python 3",
   "language": "python",
   "name": "python3"
  },
  "language_info": {
   "codemirror_mode": {
    "name": "ipython",
    "version": 3
   },
   "file_extension": ".py",
   "mimetype": "text/x-python",
   "name": "python",
   "nbconvert_exporter": "python",
   "pygments_lexer": "ipython3",
   "version": "3.8.5"
  }
 },
 "nbformat": 4,
 "nbformat_minor": 5
}
