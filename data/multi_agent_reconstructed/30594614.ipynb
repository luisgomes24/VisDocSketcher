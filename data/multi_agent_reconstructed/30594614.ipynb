{
 "cells": [
  {
   "cell_type": "markdown",
   "id": "11e8581e",
   "metadata": {},
   "source": [
    "Load the dataset from a CSV file."
   ]
  },
  {
   "cell_type": "code",
   "execution_count": null,
   "id": "f3589f9c",
   "metadata": {},
   "outputs": [],
   "source": [
    "import pandas as pd\n",
    "\n",
    "dataset = pd.read_csv('exchange_rates.csv')"
   ]
  },
  {
   "cell_type": "markdown",
   "id": "b0e895fb",
   "metadata": {},
   "source": [
    "Extract USD and INR exchange rates from the dataset."
   ]
  },
  {
   "cell_type": "code",
   "execution_count": null,
   "id": "06a46044",
   "metadata": {},
   "outputs": [],
   "source": [
    "data_usd = dataset[['Date', 'USD']]\n",
    "data_inr = dataset[['Date', 'INR']]"
   ]
  },
  {
   "cell_type": "markdown",
   "id": "0967fc4e",
   "metadata": {},
   "source": [
    "Visualize USD exchange rates over time."
   ]
  },
  {
   "cell_type": "code",
   "execution_count": null,
   "id": "32a15cda",
   "metadata": {},
   "outputs": [],
   "source": [
    "import matplotlib.pyplot as plt\n",
    "\n",
    "plt.plot(data_usd['Date'], data_usd['USD'])\n",
    "plt.title('USD Exchange Rates Visualization')\n",
    "plt.xlabel('Date')\n",
    "plt.ylabel('Exchange Rate')\n",
    "plt.show()"
   ]
  },
  {
   "cell_type": "markdown",
   "id": "cdae95e8",
   "metadata": {},
   "source": [
    "Visualize INR exchange rates over time."
   ]
  },
  {
   "cell_type": "code",
   "execution_count": null,
   "id": "e5fbbf8b",
   "metadata": {},
   "outputs": [],
   "source": [
    "plt.plot(data_inr['Date'], data_inr['INR'])\n",
    "plt.title('INR Exchange Rates Visualization')\n",
    "plt.xlabel('Date')\n",
    "plt.ylabel('Exchange Rate')\n",
    "plt.show()"
   ]
  },
  {
   "cell_type": "markdown",
   "id": "dd26fc4d",
   "metadata": {},
   "source": [
    "Split the INR data into training and testing sets."
   ]
  },
  {
   "cell_type": "code",
   "execution_count": null,
   "id": "49598ba5",
   "metadata": {},
   "outputs": [],
   "source": [
    "from sklearn.model_selection import train_test_split\n",
    "\n",
    "train_data, test_data = train_test_split(data_inr, test_size=0.2, random_state=42)"
   ]
  },
  {
   "cell_type": "markdown",
   "id": "396ec05b",
   "metadata": {},
   "source": [
    "Prepare feature and target datasets for model training."
   ]
  },
  {
   "cell_type": "code",
   "execution_count": null,
   "id": "c211d3b6",
   "metadata": {},
   "outputs": [],
   "source": [
    "train_X = train_data[['Date']]  # Features\n",
    "train_y = train_data['INR']  # Target\n",
    "\n",
    "test_X = test_data[['Date']]\n",
    "test_y = test_data['INR']"
   ]
  },
  {
   "cell_type": "markdown",
   "id": "d6a3d46d",
   "metadata": {},
   "source": [
    "Create an LSTM model for the prediction task."
   ]
  },
  {
   "cell_type": "code",
   "execution_count": null,
   "id": "b8a38a97",
   "metadata": {},
   "outputs": [],
   "source": [
    "from keras.models import Sequential\n",
    "from keras.layers import LSTM, Dense\n",
    "\n",
    "model = Sequential()\n",
    "model.add(LSTM(50, input_shape=(train_X.shape[1], 1)))\n",
    "model.add(Dense(1))"
   ]
  },
  {
   "cell_type": "markdown",
   "id": "e8267641",
   "metadata": {},
   "source": [
    "Compile the LSTM model with an optimizer and loss function."
   ]
  },
  {
   "cell_type": "code",
   "execution_count": null,
   "id": "405d1cb9",
   "metadata": {},
   "outputs": [],
   "source": [
    "model.compile(optimizer='adam', loss='mean_squared_error')"
   ]
  },
  {
   "cell_type": "markdown",
   "id": "157979f3",
   "metadata": {},
   "source": [
    "Train the model using the training data."
   ]
  },
  {
   "cell_type": "code",
   "execution_count": null,
   "id": "39d519e4",
   "metadata": {},
   "outputs": [],
   "source": [
    "model.fit(train_X, train_y, epochs=50, batch_size=32)"
   ]
  },
  {
   "cell_type": "markdown",
   "id": "57cd2288",
   "metadata": {},
   "source": [
    "Generate predictions using the test dataset."
   ]
  },
  {
   "cell_type": "code",
   "execution_count": null,
   "id": "8f6a2eb7",
   "metadata": {},
   "outputs": [],
   "source": [
    "predictions = model.predict(test_X)"
   ]
  },
  {
   "cell_type": "markdown",
   "id": "9456a109",
   "metadata": {},
   "source": [
    "Evaluate model performance using RMSE."
   ]
  },
  {
   "cell_type": "code",
   "execution_count": null,
   "id": "aa8e774e",
   "metadata": {},
   "outputs": [],
   "source": [
    "from sklearn.metrics import mean_squared_error\n",
    "rmse = mean_squared_error(test_y, predictions, squared=False)"
   ]
  },
  {
   "cell_type": "markdown",
   "id": "b4d5650f",
   "metadata": {},
   "source": [
    "Visualize the comparison between actual and predicted values."
   ]
  },
  {
   "cell_type": "code",
   "execution_count": null,
   "id": "c235b4fc",
   "metadata": {},
   "outputs": [],
   "source": [
    "plt.plot(test_y.index, test_y, label='Actual')\n",
    "plt.plot(test_y.index, predictions, label='Predicted')\n",
    "plt.title('Predictions vs Actuals Visualization')\n",
    "plt.legend()\n",
    "plt.show()"
   ]
  }
 ],
 "metadata": {
  "kernelspec": {
   "display_name": "Python 3",
   "language": "python",
   "name": "python3"
  },
  "language_info": {
   "codemirror_mode": {
    "name": "ipython",
    "version": 3
   },
   "file_extension": ".py",
   "mimetype": "text/x-python",
   "name": "python",
   "nbconvert_exporter": "python",
   "pygments_lexer": "ipython3",
   "version": "3.8.5"
  }
 },
 "nbformat": 4,
 "nbformat_minor": 5
}
