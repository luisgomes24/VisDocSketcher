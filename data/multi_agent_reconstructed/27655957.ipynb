{
 "cells": [
  {
   "cell_type": "markdown",
   "id": "de28b050",
   "metadata": {},
   "source": [
    "Define the path for the CSV file containing air quality data."
   ]
  },
  {
   "cell_type": "code",
   "execution_count": null,
   "id": "f9bfbb7a",
   "metadata": {},
   "outputs": [],
   "source": [
    "file_path = '/air-quality-india.csv'"
   ]
  },
  {
   "cell_type": "markdown",
   "id": "37e66480",
   "metadata": {},
   "source": [
    "Read the CSV file into a DataFrame named 'aqi_data' using pandas."
   ]
  },
  {
   "cell_type": "code",
   "execution_count": null,
   "id": "4a8e67e6",
   "metadata": {},
   "outputs": [],
   "source": [
    "import pandas as pd\n",
    "aqi_data = pd.read_csv(file_path)"
   ]
  },
  {
   "cell_type": "markdown",
   "id": "36c13949",
   "metadata": {},
   "source": [
    "Plot the time series using the 'date' column for the x-axis and 'AQI' for the y-axis."
   ]
  },
  {
   "cell_type": "code",
   "execution_count": null,
   "id": "e777e48b",
   "metadata": {},
   "outputs": [],
   "source": [
    "import matplotlib.pyplot as plt\n",
    "plt.plot(aqi_data['date'], aqi_data['AQI'])"
   ]
  }
 ],
 "metadata": {
  "kernelspec": {
   "display_name": "Python 3",
   "language": "python",
   "name": "python3"
  },
  "language_info": {
   "codemirror_mode": {
    "name": "ipython",
    "version": 3
   },
   "file_extension": ".py",
   "mimetype": "text/x-python",
   "name": "python",
   "nbconvert_exporter": "python",
   "pygments_lexer": "ipython3",
   "version": "3.8.5"
  }
 },
 "nbformat": 4,
 "nbformat_minor": 5
}
