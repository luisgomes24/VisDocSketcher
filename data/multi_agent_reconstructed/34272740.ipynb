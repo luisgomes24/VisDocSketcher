{
 "cells": [
  {
   "cell_type": "markdown",
   "id": "1d5c8a73",
   "metadata": {},
   "source": [
    "Import the pandas library and read the CSV file into a DataFrame called `raw_df`."
   ]
  },
  {
   "cell_type": "code",
   "execution_count": null,
   "id": "827fdad8",
   "metadata": {},
   "outputs": [],
   "source": [
    "import pandas as pd\n",
    "raw_df = pd.read_csv('/kaggle/input/population-2022/population.csv')"
   ]
  },
  {
   "cell_type": "markdown",
   "id": "c6764a98",
   "metadata": {},
   "source": [
    "Create a subset of `raw_df` called `sub_df`, filtering rows where the 'Value' is greater than 1000."
   ]
  },
  {
   "cell_type": "code",
   "execution_count": null,
   "id": "f57011fe",
   "metadata": {},
   "outputs": [],
   "source": [
    "sub_df = raw_df[raw_df['Value'] > 1000]"
   ]
  }
 ],
 "metadata": {
  "kernelspec": {
   "display_name": "Python 3",
   "language": "python",
   "name": "python3"
  },
  "language_info": {
   "codemirror_mode": {
    "name": "ipython",
    "version": 3
   },
   "file_extension": ".py",
   "mimetype": "text/x-python",
   "name": "python",
   "nbconvert_exporter": "python",
   "pygments_lexer": "ipython3",
   "version": "3.8.5"
  }
 },
 "nbformat": 4,
 "nbformat_minor": 5
}
