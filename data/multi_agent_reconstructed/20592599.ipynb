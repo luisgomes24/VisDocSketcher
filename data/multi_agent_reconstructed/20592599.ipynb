{
 "cells": [
  {
   "cell_type": "markdown",
   "id": "3a5f5c8b",
   "metadata": {},
   "source": [
    "Importing the pandas library for data manipulation."
   ]
  },
  {
   "cell_type": "code",
   "execution_count": null,
   "id": "97e3207b",
   "metadata": {},
   "outputs": [],
   "source": [
    "import pandas as pd"
   ]
  },
  {
   "cell_type": "markdown",
   "id": "12f9bc6a",
   "metadata": {},
   "source": [
    "Reading the CSV file 'CC GENERAL.csv' into a DataFrame called raw_df."
   ]
  },
  {
   "cell_type": "code",
   "execution_count": null,
   "id": "84d22c31",
   "metadata": {},
   "outputs": [],
   "source": [
    "raw_df = pd.read_csv('CC GENERAL.csv')"
   ]
  }
 ],
 "metadata": {
  "kernelspec": {
   "display_name": "Python 3",
   "language": "python",
   "name": "python3"
  },
  "language_info": {
   "codemirror_mode": {
    "name": "ipython",
    "version": 3
   },
   "file_extension": ".py",
   "mimetype": "text/x-python",
   "name": "python",
   "nbconvert_exporter": "python",
   "pygments_lexer": "ipython3",
   "version": "3.8.5"
  }
 },
 "nbformat": 4,
 "nbformat_minor": 5
}
