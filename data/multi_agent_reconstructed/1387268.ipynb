{
 "cells": [
  {
   "cell_type": "markdown",
   "id": "c864d2f4",
   "metadata": {},
   "source": [
    "Load the CSV file into a DataFrame named df1."
   ]
  },
  {
   "cell_type": "code",
   "execution_count": null,
   "id": "45164152",
   "metadata": {},
   "outputs": [],
   "source": [
    "import pandas as pd\n",
    "df1 = pd.read_csv('trade-waste-hauler-licensees.csv')"
   ]
  },
  {
   "cell_type": "markdown",
   "id": "7bb274f0",
   "metadata": {},
   "source": [
    "Preview the first few rows of the DataFrame to understand the data."
   ]
  },
  {
   "cell_type": "code",
   "execution_count": null,
   "id": "11a4569b",
   "metadata": {},
   "outputs": [],
   "source": [
    "print(df1.head())"
   ]
  },
  {
   "cell_type": "markdown",
   "id": "8189596b",
   "metadata": {},
   "source": [
    "Create a histogram to visualize the distribution of a specific column."
   ]
  },
  {
   "cell_type": "code",
   "execution_count": null,
   "id": "a848b4e4",
   "metadata": {},
   "outputs": [],
   "source": [
    "import matplotlib.pyplot as plt\n",
    "plt.hist(df1['column_name'], bins=10)\n",
    "plt.show()"
   ]
  },
  {
   "cell_type": "markdown",
   "id": "a09f731d",
   "metadata": {},
   "source": [
    "Perform PCA to reduce the dimensionality of the data."
   ]
  },
  {
   "cell_type": "code",
   "execution_count": null,
   "id": "0d4e6227",
   "metadata": {},
   "outputs": [],
   "source": [
    "from sklearn.decomposition import PCA\n",
    "pca = PCA()\n",
    "pca_result = pca.fit_transform(df1[['column1', 'column2']])"
   ]
  }
 ],
 "metadata": {
  "kernelspec": {
   "display_name": "Python 3",
   "language": "python",
   "name": "python3"
  },
  "language_info": {
   "codemirror_mode": {
    "name": "ipython",
    "version": 3
   },
   "file_extension": ".py",
   "mimetype": "text/x-python",
   "name": "python",
   "nbconvert_exporter": "python",
   "pygments_lexer": "ipython3",
   "version": "3.8.5"
  }
 },
 "nbformat": 4,
 "nbformat_minor": 5
}
