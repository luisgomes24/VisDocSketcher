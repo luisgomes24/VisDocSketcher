{
 "cells": [
  {
   "cell_type": "markdown",
   "id": "f5f8ab72",
   "metadata": {},
   "source": [
    "Extracts data from the SQL database using a connection string."
   ]
  },
  {
   "cell_type": "code",
   "execution_count": null,
   "id": "f55536a5",
   "metadata": {},
   "outputs": [],
   "source": [
    "import pandas as pd\\n\\n# Load data from SQL database\\ndatabase_connection_string = 'your_connection_string'\\ndf = pd.read_sql('SELECT * FROM your_table', database_connection_string)"
   ]
  },
  {
   "cell_type": "markdown",
   "id": "4533e427",
   "metadata": {},
   "source": [
    "Stores the extracted data into a CSV file for processing."
   ]
  },
  {
   "cell_type": "code",
   "execution_count": null,
   "id": "6f456863",
   "metadata": {},
   "outputs": [],
   "source": [
    "df.to_csv('data.csv', index=False)\\n\\n# Save the dataframe to a CSV file"
   ]
  },
  {
   "cell_type": "markdown",
   "id": "36d07cc0",
   "metadata": {},
   "source": [
    "Loads the CSV file and prepares the dataset, converting categorical data."
   ]
  },
  {
   "cell_type": "code",
   "execution_count": null,
   "id": "c45f543c",
   "metadata": {},
   "outputs": [],
   "source": [
    "df = pd.read_csv('data.csv')\\ndf['Category'] = df['Category'].astype('category')"
   ]
  },
  {
   "cell_type": "markdown",
   "id": "21b70123",
   "metadata": {},
   "source": [
    "Visualizes the dataset to understand the distribution of values."
   ]
  },
  {
   "cell_type": "code",
   "execution_count": null,
   "id": "57d94300",
   "metadata": {},
   "outputs": [],
   "source": [
    "import matplotlib.pyplot as plt\\n\\n# Visualize data distribution\\nplt.bar(df['Category'], df['Value'])\\nplt.show()"
   ]
  },
  {
   "cell_type": "markdown",
   "id": "5db2e58e",
   "metadata": {},
   "source": [
    "Splits the dataset into training and testing sets."
   ]
  },
  {
   "cell_type": "code",
   "execution_count": null,
   "id": "89552646",
   "metadata": {},
   "outputs": [],
   "source": [
    "from sklearn.model_selection import train_test_split\\nX = df[['feature1', 'feature2']]\\ny = df['target']\\nX_train, X_test, y_train, y_test = train_test_split(X, y, test_size=0.2)"
   ]
  },
  {
   "cell_type": "markdown",
   "id": "db0b2054",
   "metadata": {},
   "source": [
    "Trains a Linear Regression model on the training data."
   ]
  },
  {
   "cell_type": "code",
   "execution_count": null,
   "id": "ddb426b3",
   "metadata": {},
   "outputs": [],
   "source": [
    "from sklearn.linear_model import LinearRegression\\nmodel = LinearRegression()\\nmodel.fit(X_train, y_train)"
   ]
  },
  {
   "cell_type": "markdown",
   "id": "0488932a",
   "metadata": {},
   "source": [
    "Uses the trained model to predict outcomes on the test dataset."
   ]
  },
  {
   "cell_type": "code",
   "execution_count": null,
   "id": "1b9cf66e",
   "metadata": {},
   "outputs": [],
   "source": [
    "y_pred = model.predict(X_test)\\n\\n# Make predictions on the test data"
   ]
  },
  {
   "cell_type": "markdown",
   "id": "705b7f30",
   "metadata": {},
   "source": [
    "Evaluates the model by plotting actual vs. predicted results and calculating MSE."
   ]
  },
  {
   "cell_type": "code",
   "execution_count": null,
   "id": "94214b96",
   "metadata": {},
   "outputs": [],
   "source": [
    "import matplotlib.pyplot as plt\\nfrom sklearn.metrics import mean_squared_error\\n\\nmse = mean_squared_error(y_test, y_pred)\\nplt.plot(y_test, label='Actual')\\nplt.plot(y_pred, label='Predicted')\\nplt.legend()\\nplt.show()"
   ]
  }
 ],
 "metadata": {
  "kernelspec": {
   "display_name": "Python 3",
   "language": "python",
   "name": "python3"
  },
  "language_info": {
   "codemirror_mode": {
    "name": "ipython",
    "version": 3
   },
   "file_extension": ".py",
   "mimetype": "text/x-python",
   "name": "python",
   "nbconvert_exporter": "python",
   "pygments_lexer": "ipython3",
   "version": "3.8.5"
  }
 },
 "nbformat": 4,
 "nbformat_minor": 5
}
