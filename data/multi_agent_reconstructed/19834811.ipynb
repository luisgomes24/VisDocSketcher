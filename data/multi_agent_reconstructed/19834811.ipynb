{
 "cells": [
  {
   "cell_type": "markdown",
   "id": "afc24394",
   "metadata": {},
   "source": [
    "Read the training data from a CSV file."
   ]
  },
  {
   "cell_type": "code",
   "execution_count": null,
   "id": "1659d070",
   "metadata": {},
   "outputs": [],
   "source": [
    "import pandas as pd\n",
    "X_full = pd.read_csv('train.csv')"
   ]
  },
  {
   "cell_type": "markdown",
   "id": "70ba5153",
   "metadata": {},
   "source": [
    "Select features by dropping the target column 'SALE_PRICE'."
   ]
  },
  {
   "cell_type": "code",
   "execution_count": null,
   "id": "25a66ae6",
   "metadata": {},
   "outputs": [],
   "source": [
    "features = X_full.drop(columns=['SALE_PRICE'])"
   ]
  },
  {
   "cell_type": "markdown",
   "id": "cfc74d49",
   "metadata": {},
   "source": [
    "Split the data into training and validation sets."
   ]
  },
  {
   "cell_type": "code",
   "execution_count": null,
   "id": "71d5f8fc",
   "metadata": {},
   "outputs": [],
   "source": [
    "from sklearn.model_selection import train_test_split\n",
    "X_train, X_valid, y_train, y_valid = train_test_split(features, X_full['SALE_PRICE'], test_size=0.2, random_state=42)"
   ]
  },
  {
   "cell_type": "markdown",
   "id": "9749d8b7",
   "metadata": {},
   "source": [
    "Initialize and train three Random Forest models on the training data."
   ]
  },
  {
   "cell_type": "code",
   "execution_count": null,
   "id": "06c7fe15",
   "metadata": {},
   "outputs": [],
   "source": [
    "from sklearn.ensemble import RandomForestRegressor\n",
    "model_1 = RandomForestRegressor().fit(X_train, y_train)\n",
    "model_2 = RandomForestRegressor().fit(X_train, y_train)\n",
    "model_3 = RandomForestRegressor().fit(X_train, y_train)"
   ]
  },
  {
   "cell_type": "markdown",
   "id": "00daed83",
   "metadata": {},
   "source": [
    "Train two additional Random Forest models on the same training data."
   ]
  },
  {
   "cell_type": "code",
   "execution_count": null,
   "id": "13ffb016",
   "metadata": {},
   "outputs": [],
   "source": [
    "model_4 = RandomForestRegressor().fit(X_train, y_train)\n",
    "model_5 = RandomForestRegressor().fit(X_train, y_train)"
   ]
  },
  {
   "cell_type": "markdown",
   "id": "988aaee7",
   "metadata": {},
   "source": [
    "Make predictions and evaluate using mean absolute error."
   ]
  },
  {
   "cell_type": "code",
   "execution_count": null,
   "id": "c54307db",
   "metadata": {},
   "outputs": [],
   "source": [
    "from sklearn.metrics import mean_absolute_error\n",
    "preds = (model_1.predict(X_valid) + model_2.predict(X_valid) + model_3.predict(X_valid) + model_4.predict(X_valid) + model_5.predict(X_valid)) / 5\n",
    "mae = mean_absolute_error(y_valid, preds)"
   ]
  },
  {
   "cell_type": "markdown",
   "id": "8bec6a60",
   "metadata": {},
   "source": [
    "Read the test data from a CSV file."
   ]
  },
  {
   "cell_type": "code",
   "execution_count": null,
   "id": "a549deac",
   "metadata": {},
   "outputs": [],
   "source": [
    "X_test_full = pd.read_csv('test.csv')"
   ]
  },
  {
   "cell_type": "markdown",
   "id": "0e2e25d1",
   "metadata": {},
   "source": [
    "Predict the sale prices using the test set."
   ]
  },
  {
   "cell_type": "code",
   "execution_count": null,
   "id": "951f0b71",
   "metadata": {},
   "outputs": [],
   "source": [
    "preds_test = (model_1.predict(X_test_full) + model_2.predict(X_test_full) + model_3.predict(X_test_full) + model_4.predict(X_test_full) + model_5.predict(X_test_full)) / 5"
   ]
  },
  {
   "cell_type": "markdown",
   "id": "71f33157",
   "metadata": {},
   "source": [
    "Create a submission DataFrame and export to CSV."
   ]
  },
  {
   "cell_type": "code",
   "execution_count": null,
   "id": "ad74d69e",
   "metadata": {},
   "outputs": [],
   "source": [
    "submission = pd.DataFrame({'Id': X_test_full.index, 'SalePrice': preds_test})\n",
    "submission.to_csv('submission.csv', index=False)"
   ]
  }
 ],
 "metadata": {
  "kernelspec": {
   "display_name": "Python 3",
   "language": "python",
   "name": "python3"
  },
  "language_info": {
   "codemirror_mode": {
    "name": "ipython",
    "version": 3
   },
   "file_extension": ".py",
   "mimetype": "text/x-python",
   "name": "python",
   "nbconvert_exporter": "python",
   "pygments_lexer": "ipython3",
   "version": "3.8.5"
  }
 },
 "nbformat": 4,
 "nbformat_minor": 5
}
