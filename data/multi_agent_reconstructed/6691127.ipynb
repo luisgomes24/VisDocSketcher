{
 "cells": [
  {
   "cell_type": "markdown",
   "id": "1f9853a7",
   "metadata": {},
   "source": [
    "Load data from CSV files into pandas DataFrames."
   ]
  },
  {
   "cell_type": "code",
   "execution_count": null,
   "id": "c4596624",
   "metadata": {},
   "outputs": [],
   "source": [
    "import pandas as pd\n",
    "weather_train = pd.read_csv('weather_train.csv')\n",
    "weather_test = pd.read_csv('weather_test.csv')\n",
    "train = pd.read_csv('train.csv')\n",
    "building_metadata = pd.read_csv('building_metadata.csv')\n",
    "test = pd.read_csv('test.csv')"
   ]
  },
  {
   "cell_type": "markdown",
   "id": "c0c6a947",
   "metadata": {},
   "source": [
    "Filter out data entries that don't have a building_id."
   ]
  },
  {
   "cell_type": "code",
   "execution_count": null,
   "id": "87a01251",
   "metadata": {},
   "outputs": [],
   "source": [
    "filtered_train = train[train['building_id'].notnull()]\n",
    "filtered_test = test[test['building_id'].notnull()]"
   ]
  },
  {
   "cell_type": "markdown",
   "id": "cf93a6f6",
   "metadata": {},
   "source": [
    "Filter out weather data entries based on site_id."
   ]
  },
  {
   "cell_type": "code",
   "execution_count": null,
   "id": "d1d1d975",
   "metadata": {},
   "outputs": [],
   "source": [
    "filtered_weather_train = weather_train[weather_train['site_id'].notnull()]\n",
    "filtered_weather_test = weather_test[weather_test['site_id'].notnull()]"
   ]
  },
  {
   "cell_type": "markdown",
   "id": "f694bcb7",
   "metadata": {},
   "source": [
    "Merge the filtered training and testing data with the corresponding weather data."
   ]
  },
  {
   "cell_type": "code",
   "execution_count": null,
   "id": "eeee108b",
   "metadata": {},
   "outputs": [],
   "source": [
    "X_train = filtered_train.merge(filtered_weather_train, on='building_id')\n",
    "X_test = filtered_test.merge(filtered_weather_test, on='building_id')"
   ]
  },
  {
   "cell_type": "markdown",
   "id": "e68784f4",
   "metadata": {},
   "source": [
    "Create and fit a Prophet model for forecasting."
   ]
  },
  {
   "cell_type": "code",
   "execution_count": null,
   "id": "5be5fbdf",
   "metadata": {},
   "outputs": [],
   "source": [
    "from fbprophet import Prophet\n",
    "model = Prophet(growth='logistic', yearly_seasonality=True)\n",
    "model.fit(X_train)"
   ]
  },
  {
   "cell_type": "markdown",
   "id": "6f1ac6de",
   "metadata": {},
   "source": [
    "Create a future DataFrame and make predictions using the fitted model."
   ]
  },
  {
   "cell_type": "code",
   "execution_count": null,
   "id": "1f22af3e",
   "metadata": {},
   "outputs": [],
   "source": [
    "future = model.make_future_dataframe(periods=30)\n",
    "prediction = model.predict(future)"
   ]
  },
  {
   "cell_type": "markdown",
   "id": "18fd3458",
   "metadata": {},
   "source": [
    "Visualize the predictions using matplotlib."
   ]
  },
  {
   "cell_type": "code",
   "execution_count": null,
   "id": "78bf6f96",
   "metadata": {},
   "outputs": [],
   "source": [
    "import matplotlib.pyplot as plt\n",
    "fig = model.plot(prediction)\n",
    "plt.title('Predictions Visualization')\n",
    "plt.show()"
   ]
  }
 ],
 "metadata": {
  "kernelspec": {
   "display_name": "Python 3",
   "language": "python",
   "name": "python3"
  },
  "language_info": {
   "codemirror_mode": {
    "name": "ipython",
    "version": 3
   },
   "file_extension": ".py",
   "mimetype": "text/x-python",
   "name": "python",
   "nbconvert_exporter": "python",
   "pygments_lexer": "ipython3",
   "version": "3.8.5"
  }
 },
 "nbformat": 4,
 "nbformat_minor": 5
}
