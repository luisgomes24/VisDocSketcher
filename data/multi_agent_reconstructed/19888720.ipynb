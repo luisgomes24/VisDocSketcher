{
 "cells": [
  {
   "cell_type": "markdown",
   "id": "b779c196",
   "metadata": {},
   "source": [
    "Load the training labels from a CSV file."
   ]
  },
  {
   "cell_type": "code",
   "execution_count": null,
   "id": "1d9d2321",
   "metadata": {},
   "outputs": [],
   "source": [
    "import pandas as pd\n",
    "\n",
    "df_train = pd.read_csv('train_labels.csv')"
   ]
  },
  {
   "cell_type": "markdown",
   "id": "f120ff0c",
   "metadata": {},
   "source": [
    "Load sample submission data from a CSV file."
   ]
  },
  {
   "cell_type": "code",
   "execution_count": null,
   "id": "2ee4a9a2",
   "metadata": {},
   "outputs": [],
   "source": [
    "df_subm = pd.read_csv('sample_submission.csv')"
   ]
  },
  {
   "cell_type": "markdown",
   "id": "a953f22f",
   "metadata": {},
   "source": [
    "Filter the training data to only include positive examples."
   ]
  },
  {
   "cell_type": "code",
   "execution_count": null,
   "id": "8cc5048f",
   "metadata": {},
   "outputs": [],
   "source": [
    "df_train_pos = df_train[df_train['label'] == 1]"
   ]
  },
  {
   "cell_type": "markdown",
   "id": "ebcb8b1e",
   "metadata": {},
   "source": [
    "Function to load and return a random example from filtered training data."
   ]
  },
  {
   "cell_type": "code",
   "execution_count": null,
   "id": "08fecad8",
   "metadata": {},
   "outputs": [],
   "source": [
    "def load_example():\n",
    "    # Load and return an example\n",
    "    return df_train_pos.sample()"
   ]
  },
  {
   "cell_type": "markdown",
   "id": "feb571f8",
   "metadata": {},
   "source": [
    "Load an example from the filtered training data."
   ]
  },
  {
   "cell_type": "code",
   "execution_count": null,
   "id": "76928114",
   "metadata": {},
   "outputs": [],
   "source": [
    "x0 = load_example()"
   ]
  },
  {
   "cell_type": "markdown",
   "id": "e43e2fd6",
   "metadata": {},
   "source": [
    "Normalize the features of the example using z-score normalization."
   ]
  },
  {
   "cell_type": "code",
   "execution_count": null,
   "id": "44acfa91",
   "metadata": {},
   "outputs": [],
   "source": [
    "import numpy as np\n",
    "\n",
    "xn0 = (x0 - np.mean(x0)) / np.std(x0)"
   ]
  },
  {
   "cell_type": "markdown",
   "id": "d40d96d7",
   "metadata": {},
   "source": [
    "Function to find columns similar to the given input."
   ]
  },
  {
   "cell_type": "code",
   "execution_count": null,
   "id": "fc914c55",
   "metadata": {},
   "outputs": [],
   "source": [
    "def find_similar_column(x):\n",
    "    # Find similar columns to the input\n",
    "    return csm"
   ]
  },
  {
   "cell_type": "markdown",
   "id": "7b3e4322",
   "metadata": {},
   "source": [
    "Get similar columns based on the normalized input."
   ]
  },
  {
   "cell_type": "code",
   "execution_count": null,
   "id": "02a114de",
   "metadata": {},
   "outputs": [],
   "source": [
    "csm = find_similar_column(xn0)"
   ]
  },
  {
   "cell_type": "markdown",
   "id": "24507fe9",
   "metadata": {},
   "source": [
    "Build and compile a 2-layer Multi-Layer Perceptron (MLP) model."
   ]
  },
  {
   "cell_type": "code",
   "execution_count": null,
   "id": "f10a8236",
   "metadata": {},
   "outputs": [],
   "source": [
    "from keras.models import Sequential\n",
    "from keras.layers import Dense\n",
    "\n",
    "model = Sequential()\n",
    "model.add(Dense(64, activation='relu', input_dim=xn0.shape[1]))\n",
    "model.add(Dense(32, activation='relu'))\n",
    "model.compile(optimizer='adam', loss='mean_squared_error')"
   ]
  }
 ],
 "metadata": {
  "kernelspec": {
   "display_name": "Python 3",
   "language": "python",
   "name": "python3"
  },
  "language_info": {
   "codemirror_mode": {
    "name": "ipython",
    "version": 3
   },
   "file_extension": ".py",
   "mimetype": "text/x-python",
   "name": "python",
   "nbconvert_exporter": "python",
   "pygments_lexer": "ipython3",
   "version": "3.8.5"
  }
 },
 "nbformat": 4,
 "nbformat_minor": 5
}
