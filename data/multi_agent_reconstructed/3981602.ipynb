{
 "cells": [
  {
   "cell_type": "markdown",
   "id": "9582135b",
   "metadata": {},
   "source": [
    "Load the initial dataset from Data Node 1."
   ]
  },
  {
   "cell_type": "code",
   "execution_count": null,
   "id": "508beb25",
   "metadata": {},
   "outputs": [],
   "source": [
    "import pandas as pd\n",
    "\n",
    "df1 = pd.read_csv('data_node_1.csv')"
   ]
  },
  {
   "cell_type": "markdown",
   "id": "3974c8f9",
   "metadata": {},
   "source": [
    "Clean the data by removing any missing values in Data Node 2."
   ]
  },
  {
   "cell_type": "code",
   "execution_count": null,
   "id": "f87c4ca5",
   "metadata": {},
   "outputs": [],
   "source": [
    "df2 = df1.dropna()"
   ]
  },
  {
   "cell_type": "markdown",
   "id": "e3fc0837",
   "metadata": {},
   "source": [
    "Convert categorical variables into numerical format in Data Node 3."
   ]
  },
  {
   "cell_type": "code",
   "execution_count": null,
   "id": "cc2ed2bd",
   "metadata": {},
   "outputs": [],
   "source": [
    "df3 = pd.get_dummies(df2)"
   ]
  },
  {
   "cell_type": "markdown",
   "id": "4efe9ad7",
   "metadata": {},
   "source": [
    "Select the top features based on statistical tests for feature selection."
   ]
  },
  {
   "cell_type": "code",
   "execution_count": null,
   "id": "aec1e242",
   "metadata": {},
   "outputs": [],
   "source": [
    "from sklearn.feature_selection import SelectKBest, f_classif\n",
    "X_selected = SelectKBest(f_classif, k=5).fit_transform(df3.drop('target', axis=1), df3['target'])"
   ]
  },
  {
   "cell_type": "markdown",
   "id": "07a556cb",
   "metadata": {},
   "source": [
    "Split the dataset into training and testing sets."
   ]
  },
  {
   "cell_type": "code",
   "execution_count": null,
   "id": "084e74b7",
   "metadata": {},
   "outputs": [],
   "source": [
    "from sklearn.model_selection import train_test_split\n",
    "X_train, X_test, y_train, y_test = train_test_split(X_selected, df3['target'], test_size=0.2, random_state=42)"
   ]
  },
  {
   "cell_type": "markdown",
   "id": "345d3a21",
   "metadata": {},
   "source": [
    "Train a Random Forest model on the training data."
   ]
  },
  {
   "cell_type": "code",
   "execution_count": null,
   "id": "17a1a7e2",
   "metadata": {},
   "outputs": [],
   "source": [
    "from sklearn.ensemble import RandomForestClassifier\n",
    "model = RandomForestClassifier()\n",
    "model.fit(X_train, y_train)"
   ]
  }
 ],
 "metadata": {
  "kernelspec": {
   "display_name": "Python 3",
   "language": "python",
   "name": "python3"
  },
  "language_info": {
   "codemirror_mode": {
    "name": "ipython",
    "version": 3
   },
   "file_extension": ".py",
   "mimetype": "text/x-python",
   "name": "python",
   "nbconvert_exporter": "python",
   "pygments_lexer": "ipython3",
   "version": "3.8.5"
  }
 },
 "nbformat": 4,
 "nbformat_minor": 5
}
