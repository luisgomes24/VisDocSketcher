{
 "cells": [
  {
   "cell_type": "markdown",
   "id": "22a3db3a",
   "metadata": {},
   "source": [
    "Load data from 'Reports_1a.csv' and create a bar chart for values grouped by category."
   ]
  },
  {
   "cell_type": "code",
   "execution_count": null,
   "id": "aae1d075",
   "metadata": {},
   "outputs": [],
   "source": [
    "import pandas as pd\n",
    "import matplotlib.pyplot as plt\n",
    "\n",
    "# Load data\n",
    "report_1a = pd.read_csv('Reports_1a.csv')\n",
    "\n",
    "# Plot bar chart\n",
    "report_1a.plot(kind='bar', x='Category', y='Value', color='beige')\n",
    "plt.title('Bar Chart of Reports_1a')\n",
    "plt.xlabel('Category')\n",
    "plt.ylabel('Value')\n",
    "plt.savefig('bar_chart_reports_1a.png')\n",
    "plt.show()"
   ]
  },
  {
   "cell_type": "markdown",
   "id": "f0a13072",
   "metadata": {},
   "source": [
    "Load data from 'Reports_1b.csv' and create a box plot for values grouped by groups."
   ]
  },
  {
   "cell_type": "code",
   "execution_count": null,
   "id": "82b7dfac",
   "metadata": {},
   "outputs": [],
   "source": [
    "report_1b = pd.read_csv('Reports_1b.csv')\n",
    "\n",
    "# Plot box plot\n",
    "report_1b.boxplot(column='Value', by='Groups', color='beige')\n",
    "plt.title('Box Plot of Reports_1b')\n",
    "plt.suptitle('')\n",
    "plt.xlabel('Groups')\n",
    "plt.ylabel('Value')\n",
    "plt.savefig('box_plot_reports_1b.png')\n",
    "plt.show()"
   ]
  }
 ],
 "metadata": {
  "kernelspec": {
   "display_name": "Python 3",
   "language": "python",
   "name": "python3"
  },
  "language_info": {
   "codemirror_mode": {
    "name": "ipython",
    "version": 3
   },
   "file_extension": ".py",
   "mimetype": "text/x-python",
   "name": "python",
   "nbconvert_exporter": "python",
   "pygments_lexer": "ipython3",
   "version": "3.8.5"
  }
 },
 "nbformat": 4,
 "nbformat_minor": 5
}
