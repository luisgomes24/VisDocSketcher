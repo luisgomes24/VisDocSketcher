{
 "cells": [
  {
   "cell_type": "markdown",
   "id": "abae5f31",
   "metadata": {},
   "source": [
    "Read the CSV file into a DataFrame."
   ]
  },
  {
   "cell_type": "code",
   "execution_count": null,
   "id": "e50beeed",
   "metadata": {},
   "outputs": [],
   "source": [
    "import pandas as pd\n",
    "df = pd.read_csv('tistene-knihy_2020_export.csv')"
   ]
  },
  {
   "cell_type": "markdown",
   "id": "9ea0c4f9",
   "metadata": {},
   "source": [
    "Visualize the data using a bar plot."
   ]
  },
  {
   "cell_type": "code",
   "execution_count": null,
   "id": "56ab2dc4",
   "metadata": {},
   "outputs": [],
   "source": [
    "import matplotlib.pyplot as plt\n",
    "\n",
    "df['column_name'].value_counts().plot(kind='bar')\n",
    "plt.xlabel('Category')\n",
    "plt.ylabel('Values')\n",
    "plt.show()"
   ]
  },
  {
   "cell_type": "markdown",
   "id": "78f82543",
   "metadata": {},
   "source": [
    "Generate word clouds for the columns 'Nazev' and 'Autor'."
   ]
  },
  {
   "cell_type": "code",
   "execution_count": null,
   "id": "f9cd5e0d",
   "metadata": {},
   "outputs": [],
   "source": [
    "from wordcloud import WordCloud\n",
    "\n",
    "wordcloud_nazev = WordCloud().generate(' '.join(df['Nazev']))\n",
    "wordcloud_autor = WordCloud().generate(' '.join(df['Autor']))"
   ]
  }
 ],
 "metadata": {
  "kernelspec": {
   "display_name": "Python 3",
   "language": "python",
   "name": "python3"
  },
  "language_info": {
   "codemirror_mode": {
    "name": "ipython",
    "version": 3
   },
   "file_extension": ".py",
   "mimetype": "text/x-python",
   "name": "python",
   "nbconvert_exporter": "python",
   "pygments_lexer": "ipython3",
   "version": "3.8.5"
  }
 },
 "nbformat": 4,
 "nbformat_minor": 5
}
