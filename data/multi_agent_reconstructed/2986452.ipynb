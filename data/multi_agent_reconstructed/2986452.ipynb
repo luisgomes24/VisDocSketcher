{
 "cells": [
  {
   "cell_type": "markdown",
   "id": "ba62550c",
   "metadata": {},
   "source": [
    "Import necessary libraries and load the dataset into a DataFrame `df`."
   ]
  },
  {
   "cell_type": "code",
   "execution_count": null,
   "id": "758a5d0f",
   "metadata": {},
   "outputs": [],
   "source": [
    "import pandas as pd\n",
    "import matplotlib.pyplot as plt\n",
    "import seaborn as sns\n",
    "df = pd.read_csv('data.csv')"
   ]
  },
  {
   "cell_type": "markdown",
   "id": "e72018da",
   "metadata": {},
   "source": [
    "Define a function to plot boxplots for the distribution of each column."
   ]
  },
  {
   "cell_type": "code",
   "execution_count": null,
   "id": "abe1e203",
   "metadata": {},
   "outputs": [],
   "source": [
    "def plot_per_column_distribution(data):\n",
    "    data.boxplot()\n",
    "    plt.show()"
   ]
  },
  {
   "cell_type": "markdown",
   "id": "2cf38158",
   "metadata": {},
   "source": [
    "Call the `plot_per_column_distribution` function to visualize the data."
   ]
  },
  {
   "cell_type": "code",
   "execution_count": null,
   "id": "0db2441c",
   "metadata": {},
   "outputs": [],
   "source": [
    "plot_per_column_distribution(df)"
   ]
  },
  {
   "cell_type": "markdown",
   "id": "290c81ad",
   "metadata": {},
   "source": [
    "Define a function to plot the correlation matrix using a heatmap."
   ]
  },
  {
   "cell_type": "code",
   "execution_count": null,
   "id": "03355e7c",
   "metadata": {},
   "outputs": [],
   "source": [
    "def plot_correlation_matrix(data):\n",
    "    sns.heatmap(data.corr(), annot=True)\n",
    "    plt.show()"
   ]
  },
  {
   "cell_type": "markdown",
   "id": "4eb81cac",
   "metadata": {},
   "source": [
    "Call the `plot_correlation_matrix` function to visualize the correlations."
   ]
  },
  {
   "cell_type": "code",
   "execution_count": null,
   "id": "c2ce891e",
   "metadata": {},
   "outputs": [],
   "source": [
    "plot_correlation_matrix(df)"
   ]
  },
  {
   "cell_type": "markdown",
   "id": "c52b8f76",
   "metadata": {},
   "source": [
    "Define a function to create a scatter plot matrix for visualizing pairwise relationships."
   ]
  },
  {
   "cell_type": "code",
   "execution_count": null,
   "id": "03ec30f7",
   "metadata": {},
   "outputs": [],
   "source": [
    "def plot_scatter_matrix(data):\n",
    "    sns.pairplot(data)\n",
    "    plt.show()"
   ]
  },
  {
   "cell_type": "markdown",
   "id": "675dd96f",
   "metadata": {},
   "source": [
    "Call the `plot_scatter_matrix` function to visualize pairwise relationships."
   ]
  },
  {
   "cell_type": "code",
   "execution_count": null,
   "id": "7735fdee",
   "metadata": {},
   "outputs": [],
   "source": [
    "plot_scatter_matrix(df)"
   ]
  }
 ],
 "metadata": {
  "kernelspec": {
   "display_name": "Python 3",
   "language": "python",
   "name": "python3"
  },
  "language_info": {
   "codemirror_mode": {
    "name": "ipython",
    "version": 3
   },
   "file_extension": ".py",
   "mimetype": "text/x-python",
   "name": "python",
   "nbconvert_exporter": "python",
   "pygments_lexer": "ipython3",
   "version": "3.8.5"
  }
 },
 "nbformat": 4,
 "nbformat_minor": 5
}
