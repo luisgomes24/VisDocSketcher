{
 "cells": [
  {
   "cell_type": "markdown",
   "id": "3bdf3a84",
   "metadata": {},
   "source": [
    "Read the CSV file located at '../input/spotify.csv' into a DataFrame named `spotify_data`."
   ]
  },
  {
   "cell_type": "code",
   "execution_count": null,
   "id": "bf3323f3",
   "metadata": {},
   "outputs": [],
   "source": [
    "import pandas as pd\n",
    "\n",
    "spotify_data = pd.read_csv('../input/spotify.csv')"
   ]
  },
  {
   "cell_type": "markdown",
   "id": "b8f32918",
   "metadata": {},
   "source": [
    "Create and display a line plot using Seaborn with the data from `spotify_data`."
   ]
  },
  {
   "cell_type": "code",
   "execution_count": null,
   "id": "9d0a7e50",
   "metadata": {},
   "outputs": [],
   "source": [
    "import seaborn as sns\n",
    "import matplotlib.pyplot as plt\n",
    "\n",
    "sns.lineplot(data=spotify_data)\n",
    "plt.show()"
   ]
  }
 ],
 "metadata": {
  "kernelspec": {
   "display_name": "Python 3",
   "language": "python",
   "name": "python3"
  },
  "language_info": {
   "codemirror_mode": {
    "name": "ipython",
    "version": 3
   },
   "file_extension": ".py",
   "mimetype": "text/x-python",
   "name": "python",
   "nbconvert_exporter": "python",
   "pygments_lexer": "ipython3",
   "version": "3.8.5"
  }
 },
 "nbformat": 4,
 "nbformat_minor": 5
}
