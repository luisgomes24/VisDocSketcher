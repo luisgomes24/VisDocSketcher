{
 "cells": [
  {
   "cell_type": "markdown",
   "id": "fbeb9fd5",
   "metadata": {},
   "source": [
    "Load NFL play-by-play data into a DataFrame."
   ]
  },
  {
   "cell_type": "code",
   "execution_count": null,
   "id": "f9d395ca",
   "metadata": {},
   "outputs": [],
   "source": [
    "import pandas as pd\n",
    "nfl_data = pd.read_csv('nfl_play_by_play_2009_2017.csv')"
   ]
  },
  {
   "cell_type": "markdown",
   "id": "bcefbb39",
   "metadata": {},
   "source": [
    "Load building permits data into a DataFrame."
   ]
  },
  {
   "cell_type": "code",
   "execution_count": null,
   "id": "cdd20af1",
   "metadata": {},
   "outputs": [],
   "source": [
    "import pandas as pd\n",
    "building_permits = pd.read_csv('building_permits.csv')"
   ]
  },
  {
   "cell_type": "markdown",
   "id": "315b61b5",
   "metadata": {},
   "source": [
    "Count missing values in the NFL DataFrame."
   ]
  },
  {
   "cell_type": "code",
   "execution_count": null,
   "id": "4093423c",
   "metadata": {},
   "outputs": [],
   "source": [
    "missing_values_count = nfl_data.isnull().sum()"
   ]
  },
  {
   "cell_type": "markdown",
   "id": "4c3c1341",
   "metadata": {},
   "source": [
    "Calculate the total number of cells in the NFL DataFrame."
   ]
  },
  {
   "cell_type": "code",
   "execution_count": null,
   "id": "e3f01893",
   "metadata": {},
   "outputs": [],
   "source": [
    "total_cells = nfl_data.size"
   ]
  },
  {
   "cell_type": "markdown",
   "id": "0b738ccd",
   "metadata": {},
   "source": [
    "Calculate the total number of missing values in the NFL DataFrame."
   ]
  },
  {
   "cell_type": "code",
   "execution_count": null,
   "id": "488bebb1",
   "metadata": {},
   "outputs": [],
   "source": [
    "total_missing = missing_values_count.sum()"
   ]
  },
  {
   "cell_type": "markdown",
   "id": "ad424348",
   "metadata": {},
   "source": [
    "Create a subset of the NFL DataFrame excluding rows with missing values in a specific column."
   ]
  },
  {
   "cell_type": "code",
   "execution_count": null,
   "id": "25f225fa",
   "metadata": {},
   "outputs": [],
   "source": [
    "subset_nfl_data = nfl_data[nfl_data['column_of_interest'].notnull()]"
   ]
  },
  {
   "cell_type": "markdown",
   "id": "55f8e9e1",
   "metadata": {},
   "source": [
    "Drop columns with any missing values from the building permits DataFrame."
   ]
  },
  {
   "cell_type": "code",
   "execution_count": null,
   "id": "1e559d21",
   "metadata": {},
   "outputs": [],
   "source": [
    "columns_with_na_dropped = building_permits.dropna(axis=1)"
   ]
  }
 ],
 "metadata": {
  "kernelspec": {
   "display_name": "Python 3",
   "language": "python",
   "name": "python3"
  },
  "language_info": {
   "codemirror_mode": {
    "name": "ipython",
    "version": 3
   },
   "file_extension": ".py",
   "mimetype": "text/x-python",
   "name": "python",
   "nbconvert_exporter": "python",
   "pygments_lexer": "ipython3",
   "version": "3.8.5"
  }
 },
 "nbformat": 4,
 "nbformat_minor": 5
}
