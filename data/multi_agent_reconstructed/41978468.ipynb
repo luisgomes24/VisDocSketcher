{
 "cells": [
  {
   "cell_type": "markdown",
   "id": "29cb48e8",
   "metadata": {},
   "source": [
    "Load the dataset from a CSV file into a DataFrame."
   ]
  },
  {
   "cell_type": "code",
   "execution_count": null,
   "id": "6e0210e7",
   "metadata": {},
   "outputs": [],
   "source": [
    "import pandas as pd\n",
    "df = pd.read_csv('data.csv')"
   ]
  },
  {
   "cell_type": "markdown",
   "id": "895b30d6",
   "metadata": {},
   "source": [
    "Extract the year from the date column and create a new 'year' column."
   ]
  },
  {
   "cell_type": "code",
   "execution_count": null,
   "id": "2caa5eba",
   "metadata": {},
   "outputs": [],
   "source": [
    "df['year'] = pd.to_datetime(df['date']).dt.year"
   ]
  },
  {
   "cell_type": "markdown",
   "id": "40b6b7d1",
   "metadata": {},
   "source": [
    "Get the unique years from the 'year' column."
   ]
  },
  {
   "cell_type": "code",
   "execution_count": null,
   "id": "f27bbe62",
   "metadata": {},
   "outputs": [],
   "source": [
    "unique_years = df['year'].unique()"
   ]
  },
  {
   "cell_type": "markdown",
   "id": "797ed024",
   "metadata": {},
   "source": [
    "Calculate the counts of each gender in the dataset."
   ]
  },
  {
   "cell_type": "code",
   "execution_count": null,
   "id": "c3e0480e",
   "metadata": {},
   "outputs": [],
   "source": [
    "counts = df['gender'].value_counts()"
   ]
  },
  {
   "cell_type": "markdown",
   "id": "f26e0338",
   "metadata": {},
   "source": [
    "Extract the count of males from the counts."
   ]
  },
  {
   "cell_type": "code",
   "execution_count": null,
   "id": "d8336a05",
   "metadata": {},
   "outputs": [],
   "source": [
    "male_counts = counts.get('Male', 0)"
   ]
  },
  {
   "cell_type": "markdown",
   "id": "600f726f",
   "metadata": {},
   "source": [
    "Extract the count of females from the counts."
   ]
  },
  {
   "cell_type": "code",
   "execution_count": null,
   "id": "d4faa5d2",
   "metadata": {},
   "outputs": [],
   "source": [
    "female_counts = counts.get('Female', 0)"
   ]
  },
  {
   "cell_type": "markdown",
   "id": "dc900cdc",
   "metadata": {},
   "source": [
    "Create a bar trace for male counts."
   ]
  },
  {
   "cell_type": "code",
   "execution_count": null,
   "id": "7fbbe858",
   "metadata": {},
   "outputs": [],
   "source": [
    "import plotly.graph_objs as go\n",
    "male_trace = go.Bar(x=['Male'], y=[male_counts])"
   ]
  },
  {
   "cell_type": "markdown",
   "id": "5b9bc9c2",
   "metadata": {},
   "source": [
    "Create a bar trace for female counts."
   ]
  },
  {
   "cell_type": "code",
   "execution_count": null,
   "id": "3f4b96a7",
   "metadata": {},
   "outputs": [],
   "source": [
    "female_trace = go.Bar(x=['Female'], y=[female_counts])"
   ]
  },
  {
   "cell_type": "markdown",
   "id": "bb167c20",
   "metadata": {},
   "source": [
    "Combine male and female traces into a data list."
   ]
  },
  {
   "cell_type": "code",
   "execution_count": null,
   "id": "1aff7f7e",
   "metadata": {},
   "outputs": [],
   "source": [
    "data = [male_trace, female_trace]"
   ]
  },
  {
   "cell_type": "markdown",
   "id": "4a27e228",
   "metadata": {},
   "source": [
    "Create a layout for the bar chart."
   ]
  },
  {
   "cell_type": "code",
   "execution_count": null,
   "id": "36b6aa6f",
   "metadata": {},
   "outputs": [],
   "source": [
    "layout = go.Layout(title='Gender Counts', barmode='group')"
   ]
  },
  {
   "cell_type": "markdown",
   "id": "923e4021",
   "metadata": {},
   "source": [
    "Create a figure with the data and layout."
   ]
  },
  {
   "cell_type": "code",
   "execution_count": null,
   "id": "9294af62",
   "metadata": {},
   "outputs": [],
   "source": [
    "fig = go.Figure(data=data, layout=layout)"
   ]
  },
  {
   "cell_type": "markdown",
   "id": "1c413fef",
   "metadata": {},
   "source": [
    "Visualize the results by displaying the bar chart."
   ]
  },
  {
   "cell_type": "code",
   "execution_count": null,
   "id": "9dbba8d3",
   "metadata": {},
   "outputs": [],
   "source": [
    "fig.show()"
   ]
  }
 ],
 "metadata": {
  "kernelspec": {
   "display_name": "Python 3",
   "language": "python",
   "name": "python3"
  },
  "language_info": {
   "codemirror_mode": {
    "name": "ipython",
    "version": 3
   },
   "file_extension": ".py",
   "mimetype": "text/x-python",
   "name": "python",
   "nbconvert_exporter": "python",
   "pygments_lexer": "ipython3",
   "version": "3.8.5"
  }
 },
 "nbformat": 4,
 "nbformat_minor": 5
}
