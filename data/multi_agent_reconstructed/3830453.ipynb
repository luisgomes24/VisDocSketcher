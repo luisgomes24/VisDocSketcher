{
 "cells": [
  {
   "cell_type": "markdown",
   "id": "ec7a5655",
   "metadata": {},
   "source": [
    "Load the DC Wiki data from a CSV file into a DataFrame."
   ]
  },
  {
   "cell_type": "code",
   "execution_count": null,
   "id": "bd17ae7d",
   "metadata": {},
   "outputs": [],
   "source": [
    "import pandas as pd\n",
    "my_data_dc = pd.read_csv('dc-wikia-data.csv')"
   ]
  },
  {
   "cell_type": "markdown",
   "id": "e541db8d",
   "metadata": {},
   "source": [
    "Display the first few rows of the DC Wiki DataFrame."
   ]
  },
  {
   "cell_type": "code",
   "execution_count": null,
   "id": "f3f4dcf0",
   "metadata": {},
   "outputs": [],
   "source": [
    "my_data_dc.head()"
   ]
  },
  {
   "cell_type": "markdown",
   "id": "cc16c568",
   "metadata": {},
   "source": [
    "Generate descriptive statistics for the DC Wiki DataFrame."
   ]
  },
  {
   "cell_type": "code",
   "execution_count": null,
   "id": "56c3a4c0",
   "metadata": {},
   "outputs": [],
   "source": [
    "my_data_dc.describe(include='all')"
   ]
  },
  {
   "cell_type": "markdown",
   "id": "a82099a2",
   "metadata": {},
   "source": [
    "Load the Marvel Wiki data from a CSV file into a DataFrame."
   ]
  },
  {
   "cell_type": "code",
   "execution_count": null,
   "id": "b58f7809",
   "metadata": {},
   "outputs": [],
   "source": [
    "my_data_ml = pd.read_csv('marvel-wikia-data.csv')"
   ]
  }
 ],
 "metadata": {
  "kernelspec": {
   "display_name": "Python 3",
   "language": "python",
   "name": "python3"
  },
  "language_info": {
   "codemirror_mode": {
    "name": "ipython",
    "version": 3
   },
   "file_extension": ".py",
   "mimetype": "text/x-python",
   "name": "python",
   "nbconvert_exporter": "python",
   "pygments_lexer": "ipython3",
   "version": "3.8.5"
  }
 },
 "nbformat": 4,
 "nbformat_minor": 5
}
