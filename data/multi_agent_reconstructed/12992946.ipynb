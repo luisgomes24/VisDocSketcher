{
 "cells": [
  {
   "cell_type": "markdown",
   "id": "d78ff1cb",
   "metadata": {},
   "source": [
    "Load the beer consumption data from a CSV file into a DataFrame."
   ]
  },
  {
   "cell_type": "code",
   "execution_count": null,
   "id": "f82d729f",
   "metadata": {},
   "outputs": [],
   "source": [
    "import pandas as pd\n",
    "\n",
    "# Load CSV file\n",
    "df = pd.read_csv('beer_consumption.csv')"
   ]
  },
  {
   "cell_type": "markdown",
   "id": "d4c5e772",
   "metadata": {},
   "source": [
    "Create a bar plot to visualize the data in the DataFrame."
   ]
  },
  {
   "cell_type": "code",
   "execution_count": null,
   "id": "79ce1d53",
   "metadata": {},
   "outputs": [],
   "source": [
    "import matplotlib.pyplot as plt\n",
    "\n",
    "# Plot the data\n",
    "df.plot(kind='bar')\n",
    "plt.show()"
   ]
  },
  {
   "cell_type": "markdown",
   "id": "e8c9d98e",
   "metadata": {},
   "source": [
    "Copy and filter the DataFrame to include only specified columns A, B, and C."
   ]
  },
  {
   "cell_type": "code",
   "execution_count": null,
   "id": "8751bab6",
   "metadata": {},
   "outputs": [],
   "source": [
    "df_r_copy = df[['A', 'B', 'C']].copy()"
   ]
  },
  {
   "cell_type": "markdown",
   "id": "b5ac2c05",
   "metadata": {},
   "source": [
    "Create a box plot to visualize the filtered data from the new DataFrame."
   ]
  },
  {
   "cell_type": "code",
   "execution_count": null,
   "id": "88619dce",
   "metadata": {},
   "outputs": [],
   "source": [
    "df_r_copy.plot(kind='box')\n",
    "plt.show()"
   ]
  }
 ],
 "metadata": {
  "kernelspec": {
   "display_name": "Python 3",
   "language": "python",
   "name": "python3"
  },
  "language_info": {
   "codemirror_mode": {
    "name": "ipython",
    "version": 3
   },
   "file_extension": ".py",
   "mimetype": "text/x-python",
   "name": "python",
   "nbconvert_exporter": "python",
   "pygments_lexer": "ipython3",
   "version": "3.8.5"
  }
 },
 "nbformat": 4,
 "nbformat_minor": 5
}
