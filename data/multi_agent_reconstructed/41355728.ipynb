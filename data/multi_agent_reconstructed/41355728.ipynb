{
 "cells": [
  {
   "cell_type": "markdown",
   "id": "d9ef2131",
   "metadata": {},
   "source": [
    "Load happy images dataset from the specified path."
   ]
  },
  {
   "cell_type": "code",
   "execution_count": null,
   "id": "835ef556",
   "metadata": {},
   "outputs": [],
   "source": [
    "import pandas as pd\n",
    "happy_images = pd.read_csv('/kaggle/input/pets-facial-expression-dataset/happy')"
   ]
  },
  {
   "cell_type": "markdown",
   "id": "208b23da",
   "metadata": {},
   "source": [
    "Load sad images dataset from the specified path."
   ]
  },
  {
   "cell_type": "code",
   "execution_count": null,
   "id": "eac8e566",
   "metadata": {},
   "outputs": [],
   "source": [
    "sad_images = pd.read_csv('/kaggle/input/pets-facial-expression-dataset/sad')"
   ]
  },
  {
   "cell_type": "markdown",
   "id": "6f383f98",
   "metadata": {},
   "source": [
    "Load angry images dataset from the specified path."
   ]
  },
  {
   "cell_type": "code",
   "execution_count": null,
   "id": "3475a55f",
   "metadata": {},
   "outputs": [],
   "source": [
    "angry_images = pd.read_csv('/kaggle/input/pets-facial-expression-dataset/angry')"
   ]
  },
  {
   "cell_type": "markdown",
   "id": "7331d55d",
   "metadata": {},
   "source": [
    "Combine images into features (X) and corresponding labels (Y)."
   ]
  },
  {
   "cell_type": "code",
   "execution_count": null,
   "id": "54c27e98",
   "metadata": {},
   "outputs": [],
   "source": [
    "X = happy_images + sad_images + angry_images\n",
    "Y = ['happy']*len(happy_images) + ['sad']*len(sad_images) + ['angry']*len(angry_images)"
   ]
  },
  {
   "cell_type": "markdown",
   "id": "eea07676",
   "metadata": {},
   "source": [
    "Split the dataset into training and testing sets."
   ]
  },
  {
   "cell_type": "code",
   "execution_count": null,
   "id": "be1dadcd",
   "metadata": {},
   "outputs": [],
   "source": [
    "from sklearn.model_selection import train_test_split\n",
    "X_train, X_test, y_train, y_test = train_test_split(X, Y, test_size=0.2, random_state=42)"
   ]
  },
  {
   "cell_type": "markdown",
   "id": "5882e06f",
   "metadata": {},
   "source": [
    "Initialize a CNN model using Keras."
   ]
  },
  {
   "cell_type": "code",
   "execution_count": null,
   "id": "fadc7b72",
   "metadata": {},
   "outputs": [],
   "source": [
    "from keras.models import Sequential\n",
    "from keras.layers import Conv2D, Flatten, Dense\n",
    "model = Sequential()"
   ]
  },
  {
   "cell_type": "markdown",
   "id": "48c4204d",
   "metadata": {},
   "source": [
    "Add layers to the CNN model."
   ]
  },
  {
   "cell_type": "code",
   "execution_count": null,
   "id": "999a2672",
   "metadata": {},
   "outputs": [],
   "source": [
    "model.add(Conv2D(32, (3, 3), activation='relu', input_shape=(image_height, image_width, channels)))\n",
    "model.add(Flatten())\n",
    "model.add(Dense(3, activation='softmax'))"
   ]
  },
  {
   "cell_type": "markdown",
   "id": "d45f8952",
   "metadata": {},
   "source": [
    "Compile the CNN model with optimizer and loss function."
   ]
  },
  {
   "cell_type": "code",
   "execution_count": null,
   "id": "45954e71",
   "metadata": {},
   "outputs": [],
   "source": [
    "model.compile(optimizer='adam', loss='sparse_categorical_crossentropy', metrics=['accuracy'])"
   ]
  },
  {
   "cell_type": "markdown",
   "id": "42846e48",
   "metadata": {},
   "source": [
    "Train the CNN model on the training dataset."
   ]
  },
  {
   "cell_type": "code",
   "execution_count": null,
   "id": "212590b2",
   "metadata": {},
   "outputs": [],
   "source": [
    "model.fit(X_train, y_train, epochs=10, batch_size=32)"
   ]
  },
  {
   "cell_type": "markdown",
   "id": "1be9707b",
   "metadata": {},
   "source": [
    "Evaluate the model performance on the test dataset."
   ]
  },
  {
   "cell_type": "code",
   "execution_count": null,
   "id": "1bba91c8",
   "metadata": {},
   "outputs": [],
   "source": [
    "evaluation = model.evaluate(X_test, y_test)"
   ]
  },
  {
   "cell_type": "markdown",
   "id": "9f861c73",
   "metadata": {},
   "source": [
    "Load a custom test image for prediction."
   ]
  },
  {
   "cell_type": "code",
   "execution_count": null,
   "id": "6c94abc1",
   "metadata": {},
   "outputs": [],
   "source": [
    "from keras.preprocessing import image\n",
    "loaded_model = model\n",
    "custom_test_image = image.load_img('path_to_image')"
   ]
  }
 ],
 "metadata": {
  "kernelspec": {
   "display_name": "Python 3",
   "language": "python",
   "name": "python3"
  },
  "language_info": {
   "codemirror_mode": {
    "name": "ipython",
    "version": 3
   },
   "file_extension": ".py",
   "mimetype": "text/x-python",
   "name": "python",
   "nbconvert_exporter": "python",
   "pygments_lexer": "ipython3",
   "version": "3.8.5"
  }
 },
 "nbformat": 4,
 "nbformat_minor": 5
}
