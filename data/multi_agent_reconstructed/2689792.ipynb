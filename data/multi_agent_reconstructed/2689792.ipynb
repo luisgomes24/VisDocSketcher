{
 "cells": [
  {
   "cell_type": "markdown",
   "id": "ac0964cd",
   "metadata": {},
   "source": [
    "Read the training data from 'train.csv' into a DataFrame."
   ]
  },
  {
   "cell_type": "code",
   "execution_count": null,
   "id": "5a977bf8",
   "metadata": {},
   "outputs": [],
   "source": [
    "import pandas as pd\n",
    "\n",
    "df = pd.read_csv('train.csv')"
   ]
  },
  {
   "cell_type": "markdown",
   "id": "8f282859",
   "metadata": {},
   "source": [
    "Read the testing data from 'test.csv' into a DataFrame."
   ]
  },
  {
   "cell_type": "code",
   "execution_count": null,
   "id": "cb1db285",
   "metadata": {},
   "outputs": [],
   "source": [
    "test_df = pd.read_csv('test.csv')"
   ]
  },
  {
   "cell_type": "markdown",
   "id": "8b738675",
   "metadata": {},
   "source": [
    "Apply MinMaxScaler to normalize the training DataFrame."
   ]
  },
  {
   "cell_type": "code",
   "execution_count": null,
   "id": "1b5936a6",
   "metadata": {},
   "outputs": [],
   "source": [
    "from sklearn.preprocessing import MinMaxScaler\n",
    "\n",
    "scaler = MinMaxScaler()\n",
    "df_scaled = scaler.fit_transform(df)"
   ]
  },
  {
   "cell_type": "markdown",
   "id": "8f996e92",
   "metadata": {},
   "source": [
    "Split the scaled DataFrame into training and development sets."
   ]
  },
  {
   "cell_type": "code",
   "execution_count": null,
   "id": "e83d4318",
   "metadata": {},
   "outputs": [],
   "source": [
    "from sklearn.model_selection import train_test_split\n",
    "\n",
    "train_df, dev_df = train_test_split(df_scaled, test_size=0.2)"
   ]
  },
  {
   "cell_type": "markdown",
   "id": "5258c55f",
   "metadata": {},
   "source": [
    "Separate features and target variable from the training DataFrame."
   ]
  },
  {
   "cell_type": "code",
   "execution_count": null,
   "id": "aeaf378c",
   "metadata": {},
   "outputs": [],
   "source": [
    "train_x = train_df[:, :-1]\n",
    "train_y = train_df[:, -1]"
   ]
  },
  {
   "cell_type": "markdown",
   "id": "653f53dd",
   "metadata": {},
   "source": [
    "Define a sequential neural network model."
   ]
  },
  {
   "cell_type": "code",
   "execution_count": null,
   "id": "a0aa29db",
   "metadata": {},
   "outputs": [],
   "source": [
    "from keras.models import Sequential\n",
    "from keras.layers import Dense\n",
    "\n",
    "model = Sequential()\n",
    "model.add(Dense(64, activation='relu', input_shape=(train_x.shape[1],)))\n",
    "model.add(Dense(1, activation='sigmoid'))"
   ]
  },
  {
   "cell_type": "markdown",
   "id": "bbea119e",
   "metadata": {},
   "source": [
    "Compile the model with Adam optimizer and binary crossentropy loss."
   ]
  },
  {
   "cell_type": "code",
   "execution_count": null,
   "id": "22f33c1a",
   "metadata": {},
   "outputs": [],
   "source": [
    "model.compile(optimizer='adam', loss='binary_crossentropy', metrics=['accuracy'])"
   ]
  },
  {
   "cell_type": "markdown",
   "id": "2f4b2640",
   "metadata": {},
   "source": [
    "Train the model on the training data."
   ]
  },
  {
   "cell_type": "code",
   "execution_count": null,
   "id": "156b31b2",
   "metadata": {},
   "outputs": [],
   "source": [
    "model.fit(train_x, train_y, epochs=10, batch_size=32)"
   ]
  },
  {
   "cell_type": "markdown",
   "id": "cccb2a3c",
   "metadata": {},
   "source": [
    "Scale the test data and make predictions."
   ]
  },
  {
   "cell_type": "code",
   "execution_count": null,
   "id": "195a3062",
   "metadata": {},
   "outputs": [],
   "source": [
    "test_x = scaler.transform(test_df)\n",
    "predictions = model.predict(test_x)"
   ]
  },
  {
   "cell_type": "markdown",
   "id": "6f9cd1dc",
   "metadata": {},
   "source": [
    "Create a submission DataFrame and save it to 'sample_submission.csv'."
   ]
  },
  {
   "cell_type": "code",
   "execution_count": null,
   "id": "ed6a260f",
   "metadata": {},
   "outputs": [],
   "source": [
    "submission = pd.DataFrame({'Prediction': predictions.flatten()})\n",
    "submission.to_csv('sample_submission.csv', index=False)"
   ]
  }
 ],
 "metadata": {
  "kernelspec": {
   "display_name": "Python 3",
   "language": "python",
   "name": "python3"
  },
  "language_info": {
   "codemirror_mode": {
    "name": "ipython",
    "version": 3
   },
   "file_extension": ".py",
   "mimetype": "text/x-python",
   "name": "python",
   "nbconvert_exporter": "python",
   "pygments_lexer": "ipython3",
   "version": "3.8.5"
  }
 },
 "nbformat": 4,
 "nbformat_minor": 5
}
