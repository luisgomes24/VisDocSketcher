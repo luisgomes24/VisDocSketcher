{
 "cells": [
  {
   "cell_type": "markdown",
   "id": "9ca9425d",
   "metadata": {},
   "source": [
    "Load the Spotify dataset from a CSV file into a DataFrame."
   ]
  },
  {
   "cell_type": "code",
   "execution_count": null,
   "id": "829e21f7",
   "metadata": {},
   "outputs": [],
   "source": [
    "import pandas as pd\n",
    "spotify_df = pd.read_csv('spotify.csv')"
   ]
  },
  {
   "cell_type": "markdown",
   "id": "1145d971",
   "metadata": {},
   "source": [
    "Create feature set X and target variable y from the DataFrame."
   ]
  },
  {
   "cell_type": "code",
   "execution_count": null,
   "id": "0b6574f0",
   "metadata": {},
   "outputs": [],
   "source": [
    "X = spotify_df[['features_num', 'features_cat', 'artists']]\n",
    "y = spotify_df['track_popularity']"
   ]
  },
  {
   "cell_type": "markdown",
   "id": "a2b5850e",
   "metadata": {},
   "source": [
    "Split the data into training and validation sets."
   ]
  },
  {
   "cell_type": "code",
   "execution_count": null,
   "id": "2e9e8a2b",
   "metadata": {},
   "outputs": [],
   "source": [
    "from sklearn.model_selection import train_test_split\n",
    "X_train, X_valid, y_train, y_valid = train_test_split(X, y, test_size=0.2, random_state=42)"
   ]
  },
  {
   "cell_type": "markdown",
   "id": "2d0caeb1",
   "metadata": {},
   "source": [
    "Setup a preprocessor for numerical and categorical features."
   ]
  },
  {
   "cell_type": "code",
   "execution_count": null,
   "id": "3cd2f635",
   "metadata": {},
   "outputs": [],
   "source": [
    "from sklearn.compose import ColumnTransformer\n",
    "from sklearn.preprocessing import StandardScaler, OneHotEncoder\n",
    "num_features = ['features_num']\n",
    "cat_features = ['features_cat', 'artists']\n",
    "preprocessor = ColumnTransformer(transformers=[('num', StandardScaler(), num_features), ('cat', OneHotEncoder(), cat_features)])"
   ]
  },
  {
   "cell_type": "markdown",
   "id": "116e87c5",
   "metadata": {},
   "source": [
    "Fit the preprocessor on the training features."
   ]
  },
  {
   "cell_type": "code",
   "execution_count": null,
   "id": "a2a74cff",
   "metadata": {},
   "outputs": [],
   "source": [
    "preprocessor.fit(X_train)"
   ]
  },
  {
   "cell_type": "markdown",
   "id": "79294901",
   "metadata": {},
   "source": [
    "Transform the validation features using the fitted preprocessor."
   ]
  },
  {
   "cell_type": "code",
   "execution_count": null,
   "id": "9020c606",
   "metadata": {},
   "outputs": [],
   "source": [
    "X_valid_transformed = preprocessor.transform(X_valid)"
   ]
  },
  {
   "cell_type": "markdown",
   "id": "08c5143f",
   "metadata": {},
   "source": [
    "Define and compile a neural network model for prediction."
   ]
  },
  {
   "cell_type": "code",
   "execution_count": null,
   "id": "d8e84e22",
   "metadata": {},
   "outputs": [],
   "source": [
    "from keras.models import Sequential\n",
    "from keras.layers import Dense\n",
    "model = Sequential()\n",
    "model.add(Dense(128, activation='relu', input_shape=(X_train.shape[1],)))\n",
    "model.add(Dense(64, activation='relu'))\n",
    "model.add(Dense(1, activation='linear'))\n",
    "model.compile(optimizer='adam', loss='mse')"
   ]
  },
  {
   "cell_type": "markdown",
   "id": "da848e30",
   "metadata": {},
   "source": [
    "Train the neural network model and store the training history."
   ]
  },
  {
   "cell_type": "code",
   "execution_count": null,
   "id": "9117d53c",
   "metadata": {},
   "outputs": [],
   "source": [
    "history = model.fit(X_train, y_train, validation_data=(X_valid_transformed, y_valid), epochs=50, batch_size=32)"
   ]
  }
 ],
 "metadata": {
  "kernelspec": {
   "display_name": "Python 3",
   "language": "python",
   "name": "python3"
  },
  "language_info": {
   "codemirror_mode": {
    "name": "ipython",
    "version": 3
   },
   "file_extension": ".py",
   "mimetype": "text/x-python",
   "name": "python",
   "nbconvert_exporter": "python",
   "pygments_lexer": "ipython3",
   "version": "3.8.5"
  }
 },
 "nbformat": 4,
 "nbformat_minor": 5
}
