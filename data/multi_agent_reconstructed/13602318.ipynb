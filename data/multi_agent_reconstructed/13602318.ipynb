{
 "cells": [
  {
   "cell_type": "markdown",
   "id": "ccd43a77",
   "metadata": {},
   "source": [
    "Load training data from CSV into a DataFrame."
   ]
  },
  {
   "cell_type": "code",
   "execution_count": null,
   "id": "0c8d8916",
   "metadata": {},
   "outputs": [],
   "source": [
    "import pandas as pd\n",
    "train_df = pd.read_csv('train.csv')"
   ]
  },
  {
   "cell_type": "markdown",
   "id": "a2b5ca7d",
   "metadata": {},
   "source": [
    "Load the sample submission format from CSV."
   ]
  },
  {
   "cell_type": "code",
   "execution_count": null,
   "id": "2e1a0ada",
   "metadata": {},
   "outputs": [],
   "source": [
    "sample_df = pd.read_csv('sample_submission.csv')"
   ]
  },
  {
   "cell_type": "markdown",
   "id": "b61e76f7",
   "metadata": {},
   "source": [
    "Initialize the ResNet50 model."
   ]
  },
  {
   "cell_type": "code",
   "execution_count": null,
   "id": "8f73f9bc",
   "metadata": {},
   "outputs": [],
   "source": [
    "import torchvision.models as models\n",
    "model = models.resnet50(pretrained=False)"
   ]
  },
  {
   "cell_type": "markdown",
   "id": "a8b3a18f",
   "metadata": {},
   "source": [
    "Create a DataLoader for batching the training data."
   ]
  },
  {
   "cell_type": "code",
   "execution_count": null,
   "id": "f3069259",
   "metadata": {},
   "outputs": [],
   "source": [
    "from torch.utils.data import DataLoader\n",
    "train_loader = DataLoader(train_df, batch_size=32, shuffle=True)"
   ]
  },
  {
   "cell_type": "markdown",
   "id": "d9482214",
   "metadata": {},
   "source": [
    "Train the model using images from the DataLoader."
   ]
  },
  {
   "cell_type": "code",
   "execution_count": null,
   "id": "bd1a148d",
   "metadata": {},
   "outputs": [],
   "source": [
    "for images, labels in train_loader:\n",
    "    outputs = model(images)"
   ]
  },
  {
   "cell_type": "markdown",
   "id": "2bb4426a",
   "metadata": {},
   "source": [
    "Generate predictions for the images."
   ]
  },
  {
   "cell_type": "code",
   "execution_count": null,
   "id": "4ec683bc",
   "metadata": {},
   "outputs": [],
   "source": [
    "predictions = model(images).argmax(dim=1)"
   ]
  },
  {
   "cell_type": "markdown",
   "id": "5fca9490",
   "metadata": {},
   "source": [
    "Prepare and save submission DataFrame to CSV."
   ]
  },
  {
   "cell_type": "code",
   "execution_count": null,
   "id": "cc0bc626",
   "metadata": {},
   "outputs": [],
   "source": [
    "submission = pd.DataFrame({'Id': sample_df['Id'], 'Predicted': predictions})\n",
    "submission.to_csv('submission.csv', index=False)"
   ]
  }
 ],
 "metadata": {
  "kernelspec": {
   "display_name": "Python 3",
   "language": "python",
   "name": "python3"
  },
  "language_info": {
   "codemirror_mode": {
    "name": "ipython",
    "version": 3
   },
   "file_extension": ".py",
   "mimetype": "text/x-python",
   "name": "python",
   "nbconvert_exporter": "python",
   "pygments_lexer": "ipython3",
   "version": "3.8.5"
  }
 },
 "nbformat": 4,
 "nbformat_minor": 5
}
