{
 "cells": [
  {
   "cell_type": "markdown",
   "id": "e2a56619",
   "metadata": {},
   "source": [
    "Load the training dataset from a CSV file into a DataFrame."
   ]
  },
  {
   "cell_type": "code",
   "execution_count": null,
   "id": "18f724c7",
   "metadata": {},
   "outputs": [],
   "source": [
    "import pandas as pd\n",
    "df_train = pd.read_csv('train.csv')"
   ]
  },
  {
   "cell_type": "markdown",
   "id": "15f8a252",
   "metadata": {},
   "source": [
    "Load the testing dataset from a CSV file into a DataFrame."
   ]
  },
  {
   "cell_type": "code",
   "execution_count": null,
   "id": "dd127e10",
   "metadata": {},
   "outputs": [],
   "source": [
    "df_test = pd.read_csv('test.csv')"
   ]
  },
  {
   "cell_type": "markdown",
   "id": "15408297",
   "metadata": {},
   "source": [
    "Prepare features (X_train) and select the target variable (Y_train) from the training data."
   ]
  },
  {
   "cell_type": "code",
   "execution_count": null,
   "id": "dde085c0",
   "metadata": {},
   "outputs": [],
   "source": [
    "X_train = df_train.drop('target_column', axis=1)\n",
    "Y_train = df_train['target_column']"
   ]
  },
  {
   "cell_type": "markdown",
   "id": "3a5742f1",
   "metadata": {},
   "source": [
    "Initialize the Random Forest Classifier model."
   ]
  },
  {
   "cell_type": "code",
   "execution_count": null,
   "id": "2d6a26f5",
   "metadata": {},
   "outputs": [],
   "source": [
    "from sklearn.ensemble import RandomForestClassifier\n",
    "model = RandomForestClassifier()"
   ]
  },
  {
   "cell_type": "markdown",
   "id": "fa19165e",
   "metadata": {},
   "source": [
    "Train the model using the features and target variable."
   ]
  },
  {
   "cell_type": "code",
   "execution_count": null,
   "id": "57f128da",
   "metadata": {},
   "outputs": [],
   "source": [
    "model.fit(X_train, Y_train)"
   ]
  },
  {
   "cell_type": "markdown",
   "id": "7f32bc56",
   "metadata": {},
   "source": [
    "Use the trained model to make predictions on the test dataset."
   ]
  },
  {
   "cell_type": "code",
   "execution_count": null,
   "id": "eda1d56c",
   "metadata": {},
   "outputs": [],
   "source": [
    "predictions = model.predict(df_test)"
   ]
  },
  {
   "cell_type": "markdown",
   "id": "dfd4f427",
   "metadata": {},
   "source": [
    "Create a submission DataFrame with IDs and predictions."
   ]
  },
  {
   "cell_type": "code",
   "execution_count": null,
   "id": "d133c816",
   "metadata": {},
   "outputs": [],
   "source": [
    "submission = pd.DataFrame({'Id': df_test['Id'], 'Prediction': predictions})"
   ]
  },
  {
   "cell_type": "markdown",
   "id": "b6b12165",
   "metadata": {},
   "source": [
    "Output the submission DataFrame to a CSV file."
   ]
  },
  {
   "cell_type": "code",
   "execution_count": null,
   "id": "a4f6f3ca",
   "metadata": {},
   "outputs": [],
   "source": [
    "submission.to_csv('submission.csv', index=False)"
   ]
  }
 ],
 "metadata": {
  "kernelspec": {
   "display_name": "Python 3",
   "language": "python",
   "name": "python3"
  },
  "language_info": {
   "codemirror_mode": {
    "name": "ipython",
    "version": 3
   },
   "file_extension": ".py",
   "mimetype": "text/x-python",
   "name": "python",
   "nbconvert_exporter": "python",
   "pygments_lexer": "ipython3",
   "version": "3.8.5"
  }
 },
 "nbformat": 4,
 "nbformat_minor": 5
}
