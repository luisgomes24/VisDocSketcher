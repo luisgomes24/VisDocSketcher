{
 "cells": [
  {
   "cell_type": "markdown",
   "id": "ae669641",
   "metadata": {},
   "source": [
    "Load training data from 'train.csv' into a DataFrame."
   ]
  },
  {
   "cell_type": "code",
   "execution_count": null,
   "id": "350f4270",
   "metadata": {},
   "outputs": [],
   "source": [
    "import pandas as pd\n",
    "train_df = pd.read_csv('/train.csv')"
   ]
  },
  {
   "cell_type": "markdown",
   "id": "06e5e603",
   "metadata": {},
   "source": [
    "Load test data from 'test.csv' into a DataFrame."
   ]
  },
  {
   "cell_type": "code",
   "execution_count": null,
   "id": "66e6ccc5",
   "metadata": {},
   "outputs": [],
   "source": [
    "import pandas as pd\n",
    "test_df = pd.read_csv('/test.csv')"
   ]
  },
  {
   "cell_type": "markdown",
   "id": "09924bf3",
   "metadata": {},
   "source": [
    "Separate features (X) and target variable (y) from the training DataFrame."
   ]
  },
  {
   "cell_type": "code",
   "execution_count": null,
   "id": "81d334e0",
   "metadata": {},
   "outputs": [],
   "source": [
    "X = train_df.drop('target_column', axis=1)\n",
    "y = train_df['target_column']"
   ]
  },
  {
   "cell_type": "markdown",
   "id": "8e3d72ea",
   "metadata": {},
   "source": [
    "Initialize the XGBoost regressor model."
   ]
  },
  {
   "cell_type": "code",
   "execution_count": null,
   "id": "57fd793d",
   "metadata": {},
   "outputs": [],
   "source": [
    "from xgboost import XGBRegressor\n",
    "model_xgb = XGBRegressor()"
   ]
  },
  {
   "cell_type": "markdown",
   "id": "4c89989f",
   "metadata": {},
   "source": [
    "Initialize the LightGBM regressor model."
   ]
  },
  {
   "cell_type": "code",
   "execution_count": null,
   "id": "dd73d292",
   "metadata": {},
   "outputs": [],
   "source": [
    "from lightgbm import LGBMRegressor\n",
    "model_lgb = LGBMRegressor()"
   ]
  },
  {
   "cell_type": "markdown",
   "id": "2caaeeef",
   "metadata": {},
   "source": [
    "Initialize the CatBoost regressor model."
   ]
  },
  {
   "cell_type": "code",
   "execution_count": null,
   "id": "40732105",
   "metadata": {},
   "outputs": [],
   "source": [
    "from catboost import CatBoostRegressor\n",
    "model_cat = CatBoostRegressor()"
   ]
  },
  {
   "cell_type": "markdown",
   "id": "dd886006",
   "metadata": {},
   "source": [
    "Perform feature engineering on the test DataFrame."
   ]
  },
  {
   "cell_type": "code",
   "execution_count": null,
   "id": "d30b96b8",
   "metadata": {},
   "outputs": [],
   "source": [
    "features_engineered_test = feature_engineering(test_df)"
   ]
  },
  {
   "cell_type": "markdown",
   "id": "e9317720",
   "metadata": {},
   "source": [
    "Fit the XGBoost model and make predictions on the test set."
   ]
  },
  {
   "cell_type": "code",
   "execution_count": null,
   "id": "a024dca5",
   "metadata": {},
   "outputs": [],
   "source": [
    "predictions_xgb = model_xgb.fit(X, y).predict(features_engineered_test)\n"
   ]
  },
  {
   "cell_type": "markdown",
   "id": "fcdd1af4",
   "metadata": {},
   "source": [
    "Fit the LightGBM model and make predictions on the test set."
   ]
  },
  {
   "cell_type": "code",
   "execution_count": null,
   "id": "65488c8a",
   "metadata": {},
   "outputs": [],
   "source": [
    "predictions_lgb = model_lgb.fit(X, y).predict(features_engineered_test)"
   ]
  },
  {
   "cell_type": "markdown",
   "id": "3e65ea80",
   "metadata": {},
   "source": [
    "Fit the CatBoost model and make predictions on the test set."
   ]
  },
  {
   "cell_type": "code",
   "execution_count": null,
   "id": "e3810400",
   "metadata": {},
   "outputs": [],
   "source": [
    "predictions_cat = model_cat.fit(X, y).predict(features_engineered_test)"
   ]
  },
  {
   "cell_type": "markdown",
   "id": "3f99237f",
   "metadata": {},
   "source": [
    "Create a DataFrame with predictions from all models."
   ]
  },
  {
   "cell_type": "code",
   "execution_count": null,
   "id": "a630aa07",
   "metadata": {},
   "outputs": [],
   "source": [
    "submission = pd.DataFrame({'predictions_xgb': predictions_xgb, 'predictions_lgb': predictions_lgb, 'predictions_cat': predictions_cat})"
   ]
  },
  {
   "cell_type": "markdown",
   "id": "33e63ff6",
   "metadata": {},
   "source": [
    "Save the predictions to 'sample_submission.csv'."
   ]
  },
  {
   "cell_type": "code",
   "execution_count": null,
   "id": "4b2acaa1",
   "metadata": {},
   "outputs": [],
   "source": [
    "submission.to_csv('/sample_submission.csv', index=False)"
   ]
  }
 ],
 "metadata": {
  "kernelspec": {
   "display_name": "Python 3",
   "language": "python",
   "name": "python3"
  },
  "language_info": {
   "codemirror_mode": {
    "name": "ipython",
    "version": 3
   },
   "file_extension": ".py",
   "mimetype": "text/x-python",
   "name": "python",
   "nbconvert_exporter": "python",
   "pygments_lexer": "ipython3",
   "version": "3.8.5"
  }
 },
 "nbformat": 4,
 "nbformat_minor": 5
}
