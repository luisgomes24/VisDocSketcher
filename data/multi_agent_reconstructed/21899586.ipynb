{
 "cells": [
  {
   "cell_type": "markdown",
   "id": "630b2efb",
   "metadata": {},
   "source": [
    "Load the sample submission CSV file into a DataFrame."
   ]
  },
  {
   "cell_type": "code",
   "execution_count": null,
   "id": "e7ce83d8",
   "metadata": {},
   "outputs": [],
   "source": [
    "import pandas as pd\n",
    "sub = pd.read_csv('Sample_submission.csv.gz')"
   ]
  },
  {
   "cell_type": "markdown",
   "id": "2f2286f7",
   "metadata": {},
   "source": [
    "Load the training CSV file into a DataFrame."
   ]
  },
  {
   "cell_type": "code",
   "execution_count": null,
   "id": "0921953b",
   "metadata": {},
   "outputs": [],
   "source": [
    "train = pd.read_csv('train.csv.gz')"
   ]
  },
  {
   "cell_type": "markdown",
   "id": "7be72b4f",
   "metadata": {},
   "source": [
    "Transform the 'breed' column of the training data using TF-IDF."
   ]
  },
  {
   "cell_type": "code",
   "execution_count": null,
   "id": "98d8f922",
   "metadata": {},
   "outputs": [],
   "source": [
    "from sklearn.feature_extraction.text import TfidfVectorizer\n",
    "vectorizer = TfidfVectorizer()\n",
    "breed_text = vectorizer.fit_transform(train['breed'])"
   ]
  },
  {
   "cell_type": "markdown",
   "id": "7b435bbd",
   "metadata": {},
   "source": [
    "Apply SVD transformation to reduce dimensionality of the TF-IDF matrix."
   ]
  },
  {
   "cell_type": "code",
   "execution_count": null,
   "id": "905de82d",
   "metadata": {},
   "outputs": [],
   "source": [
    "from sklearn.decomposition import TruncatedSVD\n",
    "svd = TruncatedSVD(n_components=100)\n",
    "breed_svd = svd.fit_transform(breed_text)"
   ]
  },
  {
   "cell_type": "markdown",
   "id": "d2a9a558",
   "metadata": {},
   "source": [
    "Combine the original training data with the SVD-transformed data."
   ]
  },
  {
   "cell_type": "code",
   "execution_count": null,
   "id": "2252ea3b",
   "metadata": {},
   "outputs": [],
   "source": [
    "alldata = pd.concat([train, pd.DataFrame(breed_svd)], axis=1)"
   ]
  }
 ],
 "metadata": {
  "kernelspec": {
   "display_name": "Python 3",
   "language": "python",
   "name": "python3"
  },
  "language_info": {
   "codemirror_mode": {
    "name": "ipython",
    "version": 3
   },
   "file_extension": ".py",
   "mimetype": "text/x-python",
   "name": "python",
   "nbconvert_exporter": "python",
   "pygments_lexer": "ipython3",
   "version": "3.8.5"
  }
 },
 "nbformat": 4,
 "nbformat_minor": 5
}
