{
 "cells": [
  {
   "cell_type": "markdown",
   "id": "cb2d3c7b",
   "metadata": {},
   "source": [
    "Load the CD36 importance data from a CSV file."
   ]
  },
  {
   "cell_type": "code",
   "execution_count": null,
   "id": "6f74c09f",
   "metadata": {},
   "outputs": [],
   "source": [
    "import pandas as pd\n",
    "cd36_importances = pd.read_csv('CD36importances.csv')"
   ]
  },
  {
   "cell_type": "markdown",
   "id": "24c95cdd",
   "metadata": {},
   "source": [
    "Load the input training data from an HDF5 file."
   ]
  },
  {
   "cell_type": "code",
   "execution_count": null,
   "id": "81237be5",
   "metadata": {},
   "outputs": [],
   "source": [
    "import h5py\n",
    "data_inputs = h5py.File('train_cite_inputs.h5', 'r')"
   ]
  },
  {
   "cell_type": "markdown",
   "id": "e0e944ef",
   "metadata": {},
   "source": [
    "Convert the HDF5 dataset into a DataFrame."
   ]
  },
  {
   "cell_type": "code",
   "execution_count": null,
   "id": "6646cd5e",
   "metadata": {},
   "outputs": [],
   "source": [
    "train_cite_input_df = pd.DataFrame(data_inputs['dataset_name'])"
   ]
  },
  {
   "cell_type": "markdown",
   "id": "9510d065",
   "metadata": {},
   "source": [
    "Load the target training data from an HDF5 file."
   ]
  },
  {
   "cell_type": "code",
   "execution_count": null,
   "id": "4efb53cb",
   "metadata": {},
   "outputs": [],
   "source": [
    "data_targets = h5py.File('train_cite_targets.h5', 'r')"
   ]
  },
  {
   "cell_type": "markdown",
   "id": "900a2df7",
   "metadata": {},
   "source": [
    "Create a DataFrame from the CD36 importances."
   ]
  },
  {
   "cell_type": "code",
   "execution_count": null,
   "id": "89d13cb8",
   "metadata": {},
   "outputs": [],
   "source": [
    "dfc = pd.DataFrame({'importance': cd36_importances['column_name']})"
   ]
  },
  {
   "cell_type": "markdown",
   "id": "3d8cf0fc",
   "metadata": {},
   "source": [
    "Create a duplicate of the dfc DataFrame."
   ]
  },
  {
   "cell_type": "code",
   "execution_count": null,
   "id": "6215761d",
   "metadata": {},
   "outputs": [],
   "source": [
    "dfc_sim = dfc.copy()"
   ]
  },
  {
   "cell_type": "markdown",
   "id": "2457cd67",
   "metadata": {},
   "source": [
    "Merge the dfc DataFrame with the training inputs."
   ]
  },
  {
   "cell_type": "code",
   "execution_count": null,
   "id": "aac55e62",
   "metadata": {},
   "outputs": [],
   "source": [
    "df_cd36 = dfc.merge(train_cite_input_df, on='key_column')"
   ]
  },
  {
   "cell_type": "markdown",
   "id": "92e410b9",
   "metadata": {},
   "source": [
    "Merge df_cd36 with dfc_sim."
   ]
  },
  {
   "cell_type": "code",
   "execution_count": null,
   "id": "0fa2b970",
   "metadata": {},
   "outputs": [],
   "source": [
    "sim_df_merge = df_cd36.merge(dfc_sim, on='key_column')"
   ]
  },
  {
   "cell_type": "markdown",
   "id": "0deda0da",
   "metadata": {},
   "source": [
    "Calculate the correlation of the merged DataFrame."
   ]
  },
  {
   "cell_type": "code",
   "execution_count": null,
   "id": "f0c6b052",
   "metadata": {},
   "outputs": [],
   "source": [
    "df_sim_corr = sim_df_merge.corr()"
   ]
  },
  {
   "cell_type": "markdown",
   "id": "7648f844",
   "metadata": {},
   "source": [
    "Load the pre-trained model."
   ]
  },
  {
   "cell_type": "code",
   "execution_count": null,
   "id": "9d02f9a7",
   "metadata": {},
   "outputs": [],
   "source": [
    "from keras.models import load_model\n",
    "model = load_model('model.h5')"
   ]
  },
  {
   "cell_type": "markdown",
   "id": "78d6b832",
   "metadata": {},
   "source": [
    "Fit the model using the training input and targets."
   ]
  },
  {
   "cell_type": "code",
   "execution_count": null,
   "id": "e264acd0",
   "metadata": {},
   "outputs": [],
   "source": [
    "model.fit(train_cite_input_df, data_targets['target'])"
   ]
  },
  {
   "cell_type": "markdown",
   "id": "552b52b4",
   "metadata": {},
   "source": [
    "Use the model to make predictions on new data."
   ]
  },
  {
   "cell_type": "code",
   "execution_count": null,
   "id": "eeb01d67",
   "metadata": {},
   "outputs": [],
   "source": [
    "output = model.predict(new_data)"
   ]
  }
 ],
 "metadata": {
  "kernelspec": {
   "display_name": "Python 3",
   "language": "python",
   "name": "python3"
  },
  "language_info": {
   "codemirror_mode": {
    "name": "ipython",
    "version": 3
   },
   "file_extension": ".py",
   "mimetype": "text/x-python",
   "name": "python",
   "nbconvert_exporter": "python",
   "pygments_lexer": "ipython3",
   "version": "3.8.5"
  }
 },
 "nbformat": 4,
 "nbformat_minor": 5
}
