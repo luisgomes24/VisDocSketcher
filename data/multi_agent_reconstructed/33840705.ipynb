{
 "cells": [
  {
   "cell_type": "markdown",
   "id": "b5fff772",
   "metadata": {},
   "source": [
    "Load user ratings from the CSV file."
   ]
  },
  {
   "cell_type": "code",
   "execution_count": null,
   "id": "7d36b961",
   "metadata": {},
   "outputs": [],
   "source": [
    "import pandas as pd\n",
    "ratings_df = pd.read_csv('ratings.csv')"
   ]
  },
  {
   "cell_type": "markdown",
   "id": "6c6891a9",
   "metadata": {},
   "source": [
    "Load anime details from the CSV file."
   ]
  },
  {
   "cell_type": "code",
   "execution_count": null,
   "id": "669bf70a",
   "metadata": {},
   "outputs": [],
   "source": [
    "anime_df = pd.read_csv('anime.csv')"
   ]
  },
  {
   "cell_type": "markdown",
   "id": "87946077",
   "metadata": {},
   "source": [
    "Merge user ratings and anime details into a single DataFrame."
   ]
  },
  {
   "cell_type": "code",
   "execution_count": null,
   "id": "3cfc8e84",
   "metadata": {},
   "outputs": [],
   "source": [
    "df = pd.merge(ratings_df, anime_df, on='anime_id')"
   ]
  },
  {
   "cell_type": "markdown",
   "id": "8f7ce220",
   "metadata": {},
   "source": [
    "Create a subset DataFrame with selected anime IDs."
   ]
  },
  {
   "cell_type": "code",
   "execution_count": null,
   "id": "2144b14d",
   "metadata": {},
   "outputs": [],
   "source": [
    "sample_df = df[df['anime_id'].isin(selected_anime_ids)]"
   ]
  },
  {
   "cell_type": "markdown",
   "id": "3d38bb21",
   "metadata": {},
   "source": [
    "Create a user-item pivot table."
   ]
  },
  {
   "cell_type": "code",
   "execution_count": null,
   "id": "b3651d9a",
   "metadata": {},
   "outputs": [],
   "source": [
    "user_anime_df = sample_df.pivot(index='user_id', columns='anime_id', values='rating')"
   ]
  },
  {
   "cell_type": "markdown",
   "id": "9d8b22d4",
   "metadata": {},
   "source": [
    "Convert the DataFrame to Surprise Dataset format."
   ]
  },
  {
   "cell_type": "code",
   "execution_count": null,
   "id": "8dd5c220",
   "metadata": {},
   "outputs": [],
   "source": [
    "from surprise import Dataset\n",
    "from surprise import Reader\n",
    "reader = Reader(rating_scale=(1, 10))\n",
    "data = Dataset.load_from_df(sample_df[['user_id', 'anime_id', 'rating']], reader)"
   ]
  },
  {
   "cell_type": "markdown",
   "id": "da77b6c9",
   "metadata": {},
   "source": [
    "Split the data into training and test datasets."
   ]
  },
  {
   "cell_type": "code",
   "execution_count": null,
   "id": "14f1d966",
   "metadata": {},
   "outputs": [],
   "source": [
    "from surprise.model_selection import train_test_split\n",
    "t_trainset, testset = train_test_split(data, test_size=0.2)"
   ]
  },
  {
   "cell_type": "markdown",
   "id": "4f0342e8",
   "metadata": {},
   "source": [
    "Set up GridSearchCV for hyperparameter tuning."
   ]
  },
  {
   "cell_type": "code",
   "execution_count": null,
   "id": "1b628c78",
   "metadata": {},
   "outputs": [],
   "source": [
    "from surprise import SVD\n",
    "from surprise.model_selection import GridSearchCV\n",
    "param_grid = {'n_factors': [50, 100], 'n_epochs': [5, 10]}\n",
    "grid_search = GridSearchCV(SVD, param_grid, measures=['rmse'], cv=3)"
   ]
  },
  {
   "cell_type": "markdown",
   "id": "8c6cb1af",
   "metadata": {},
   "source": [
    "Fit the model using the training dataset."
   ]
  },
  {
   "cell_type": "code",
   "execution_count": null,
   "id": "d673d5c1",
   "metadata": {},
   "outputs": [],
   "source": [
    "grid_search.fit(t_trainset)"
   ]
  },
  {
   "cell_type": "markdown",
   "id": "4a347684",
   "metadata": {},
   "source": [
    "Retrieve the best SVD model from the grid search."
   ]
  },
  {
   "cell_type": "code",
   "execution_count": null,
   "id": "3bf101b3",
   "metadata": {},
   "outputs": [],
   "source": [
    "svd_model = grid_search.best_estimator_"
   ]
  },
  {
   "cell_type": "markdown",
   "id": "e6604cb8",
   "metadata": {},
   "source": [
    "Generate predicted ratings for the test dataset."
   ]
  },
  {
   "cell_type": "code",
   "execution_count": null,
   "id": "18ba6b12",
   "metadata": {},
   "outputs": [],
   "source": [
    "predictions = svd_model.predict(testset)"
   ]
  }
 ],
 "metadata": {
  "kernelspec": {
   "display_name": "Python 3",
   "language": "python",
   "name": "python3"
  },
  "language_info": {
   "codemirror_mode": {
    "name": "ipython",
    "version": 3
   },
   "file_extension": ".py",
   "mimetype": "text/x-python",
   "name": "python",
   "nbconvert_exporter": "python",
   "pygments_lexer": "ipython3",
   "version": "3.8.5"
  }
 },
 "nbformat": 4,
 "nbformat_minor": 5
}
