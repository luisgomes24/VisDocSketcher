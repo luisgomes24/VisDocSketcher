{
 "cells": [
  {
   "cell_type": "markdown",
   "id": "bb5f4746",
   "metadata": {},
   "source": [
    "Import necessary libraries: pandas for data manipulation and seaborn/matplotlib for plotting."
   ]
  },
  {
   "cell_type": "code",
   "execution_count": null,
   "id": "cec9f1bc",
   "metadata": {},
   "outputs": [],
   "source": [
    "import pandas as pd\n",
    "import seaborn as sns\n",
    "import matplotlib.pyplot as plt"
   ]
  },
  {
   "cell_type": "markdown",
   "id": "64460661",
   "metadata": {},
   "source": [
    "Load the dataset into a DataFrame called 'df'. Replace 'data.csv' with your actual file path."
   ]
  },
  {
   "cell_type": "code",
   "execution_count": null,
   "id": "736490f8",
   "metadata": {},
   "outputs": [],
   "source": [
    "df = pd.read_csv('data.csv')"
   ]
  },
  {
   "cell_type": "markdown",
   "id": "c7d4772a",
   "metadata": {},
   "source": [
    "Create a distribution plot for a specific column in the DataFrame."
   ]
  },
  {
   "cell_type": "code",
   "execution_count": null,
   "id": "8a332fe6",
   "metadata": {},
   "outputs": [],
   "source": [
    "sns.histplot(df['column_name'])\n",
    "plt.title('Distribution Plot')\n",
    "plt.show()"
   ]
  },
  {
   "cell_type": "markdown",
   "id": "6b9cbb13",
   "metadata": {},
   "source": [
    "Generate a correlation matrix plot to visualize relationships between variables in the DataFrame."
   ]
  },
  {
   "cell_type": "code",
   "execution_count": null,
   "id": "58bc622c",
   "metadata": {},
   "outputs": [],
   "source": [
    "sns.heatmap(df.corr(), annot=True)\n",
    "plt.title('Correlation Matrix Plot')\n",
    "plt.show()"
   ]
  },
  {
   "cell_type": "markdown",
   "id": "a4e8cfef",
   "metadata": {},
   "source": [
    "Create a scatter plot to examine the relationship between two specified columns in the DataFrame."
   ]
  },
  {
   "cell_type": "code",
   "execution_count": null,
   "id": "942bf559",
   "metadata": {},
   "outputs": [],
   "source": [
    "sns.scatterplot(data=df, x='x_column', y='y_column')\n",
    "plt.title('Scatter Plot')\n",
    "plt.show()"
   ]
  }
 ],
 "metadata": {
  "kernelspec": {
   "display_name": "Python 3",
   "language": "python",
   "name": "python3"
  },
  "language_info": {
   "codemirror_mode": {
    "name": "ipython",
    "version": 3
   },
   "file_extension": ".py",
   "mimetype": "text/x-python",
   "name": "python",
   "nbconvert_exporter": "python",
   "pygments_lexer": "ipython3",
   "version": "3.8.5"
  }
 },
 "nbformat": 4,
 "nbformat_minor": 5
}
