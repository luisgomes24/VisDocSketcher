{
 "cells": [
  {
   "cell_type": "markdown",
   "id": "fc349477",
   "metadata": {},
   "source": [
    "Load the data from 'movie.csv' into a DataFrame named df1."
   ]
  },
  {
   "cell_type": "code",
   "execution_count": null,
   "id": "5c6a5af1",
   "metadata": {},
   "outputs": [],
   "source": [
    "import pandas as pd\n",
    "df1 = pd.read_csv('movie.csv')"
   ]
  },
  {
   "cell_type": "markdown",
   "id": "eb19aa2a",
   "metadata": {},
   "source": [
    "Define a function to plot distribution for each column in the DataFrame."
   ]
  },
  {
   "cell_type": "code",
   "execution_count": null,
   "id": "cde0fa44",
   "metadata": {},
   "outputs": [],
   "source": [
    "def plotPerColumnDistribution(df):\n",
    "    df.hist(bins=50, figsize=(20, 15))\n",
    "    plt.show()"
   ]
  },
  {
   "cell_type": "markdown",
   "id": "ce786fae",
   "metadata": {},
   "source": [
    "Define a function to plot a correlation matrix for the DataFrame."
   ]
  },
  {
   "cell_type": "code",
   "execution_count": null,
   "id": "eee8188c",
   "metadata": {},
   "outputs": [],
   "source": [
    "def plotCorrelationMatrix(df):\n",
    "    import seaborn as sns\n",
    "    import matplotlib.pyplot as plt\n",
    "    plt.figure(figsize=(10, 8))\n",
    "    sns.heatmap(df.corr(), annot=True, fmt='.2f')\n",
    "    plt.show()"
   ]
  },
  {
   "cell_type": "markdown",
   "id": "16f5a7d0",
   "metadata": {},
   "source": [
    "Define a function to create a scatter matrix plot for the DataFrame."
   ]
  },
  {
   "cell_type": "code",
   "execution_count": null,
   "id": "b585ca5f",
   "metadata": {},
   "outputs": [],
   "source": [
    "def plotScatterMatrix(df):\n",
    "    pd.plotting.scatter_matrix(df, figsize=(15, 10))\n",
    "    plt.show()"
   ]
  }
 ],
 "metadata": {
  "kernelspec": {
   "display_name": "Python 3",
   "language": "python",
   "name": "python3"
  },
  "language_info": {
   "codemirror_mode": {
    "name": "ipython",
    "version": 3
   },
   "file_extension": ".py",
   "mimetype": "text/x-python",
   "name": "python",
   "nbconvert_exporter": "python",
   "pygments_lexer": "ipython3",
   "version": "3.8.5"
  }
 },
 "nbformat": 4,
 "nbformat_minor": 5
}
