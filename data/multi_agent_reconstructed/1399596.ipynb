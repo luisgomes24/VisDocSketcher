{
 "cells": [
  {
   "cell_type": "markdown",
   "id": "b5009ff7",
   "metadata": {},
   "source": [
    "Read the CSV file containing transportation department permits data into a DataFrame."
   ]
  },
  {
   "cell_type": "code",
   "execution_count": null,
   "id": "8df238e2",
   "metadata": {},
   "outputs": [],
   "source": [
    "import pandas as pd\n",
    "two_df = pd.read_csv('transportation_permits.csv')"
   ]
  },
  {
   "cell_type": "markdown",
   "id": "90962f07",
   "metadata": {},
   "source": [
    "Create a DataFrame named 'df1' from the read data."
   ]
  },
  {
   "cell_type": "code",
   "execution_count": null,
   "id": "a998f874",
   "metadata": {},
   "outputs": [],
   "source": [
    "df1 = pd.DataFrame(two_df)"
   ]
  },
  {
   "cell_type": "markdown",
   "id": "78ce8c3f",
   "metadata": {},
   "source": [
    "Generate histogram plots for a specified column in the DataFrame."
   ]
  },
  {
   "cell_type": "code",
   "execution_count": null,
   "id": "2b7e5929",
   "metadata": {},
   "outputs": [],
   "source": [
    "import matplotlib.pyplot as plt\n",
    "plt.hist(df1['column_name'])\n",
    "plt.title('Histogram')\n",
    "plt.show()"
   ]
  },
  {
   "cell_type": "markdown",
   "id": "fbececf8",
   "metadata": {},
   "source": [
    "Generate a correlation matrix plot to visualize relationships between variables."
   ]
  },
  {
   "cell_type": "code",
   "execution_count": null,
   "id": "79eac2e5",
   "metadata": {},
   "outputs": [],
   "source": [
    "import seaborn as sns\n",
    "corr = df1.corr()\n",
    "sns.heatmap(corr, annot=True)\n",
    "plt.title('Correlation Matrix')\n",
    "plt.show()"
   ]
  },
  {
   "cell_type": "markdown",
   "id": "53cedefc",
   "metadata": {},
   "source": [
    "Generate scatter and density plots for specified columns."
   ]
  },
  {
   "cell_type": "code",
   "execution_count": null,
   "id": "a04d1f0b",
   "metadata": {},
   "outputs": [],
   "source": [
    "sns.scatterplot(data=df1, x='column_x', y='column_y')\n",
    "plt.title('Scatter and Density Plot')\n",
    "plt.show()"
   ]
  },
  {
   "cell_type": "markdown",
   "id": "b4f81764",
   "metadata": {},
   "source": [
    "Perform PCA and generate a 2D plot to visualize reduced dimensions."
   ]
  },
  {
   "cell_type": "code",
   "execution_count": null,
   "id": "25cda79a",
   "metadata": {},
   "outputs": [],
   "source": [
    "from sklearn.decomposition import PCA\n",
    "pca = PCA(n_components=2)\n",
    "df_pca = pca.fit_transform(df1)\n",
    "plt.scatter(df_pca[:, 0], df_pca[:, 1])\n",
    "plt.title('2D PCA Plot')\n",
    "plt.show()"
   ]
  },
  {
   "cell_type": "markdown",
   "id": "154a0cd5",
   "metadata": {},
   "source": [
    "Perform PCA and generate a 3D plot for visualizing the three principal components."
   ]
  },
  {
   "cell_type": "code",
   "execution_count": null,
   "id": "4ac7a8ac",
   "metadata": {},
   "outputs": [],
   "source": [
    "pca = PCA(n_components=3)\n",
    "df_pca_3d = pca.fit_transform(df1)\n",
    "from mpl_toolkits.mplot3d import Axes3D\n",
    "fig = plt.figure()\n",
    "ax = fig.add_subplot(111, projection='3d')\n",
    "ax.scatter(df_pca_3d[:, 0], df_pca_3d[:, 1], df_pca_3d[:, 2])\n",
    "plt.title('3D PCA Plot')\n",
    "plt.show()"
   ]
  }
 ],
 "metadata": {
  "kernelspec": {
   "display_name": "Python 3",
   "language": "python",
   "name": "python3"
  },
  "language_info": {
   "codemirror_mode": {
    "name": "ipython",
    "version": 3
   },
   "file_extension": ".py",
   "mimetype": "text/x-python",
   "name": "python",
   "nbconvert_exporter": "python",
   "pygments_lexer": "ipython3",
   "version": "3.8.5"
  }
 },
 "nbformat": 4,
 "nbformat_minor": 5
}
