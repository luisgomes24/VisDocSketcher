{
 "cells": [
  {
   "cell_type": "markdown",
   "id": "e8de806e",
   "metadata": {},
   "source": [
    "Load the main dataset from 'ConcreteStrengthData.csv' into a DataFrame."
   ]
  },
  {
   "cell_type": "code",
   "execution_count": null,
   "id": "61e64abd",
   "metadata": {},
   "outputs": [],
   "source": [
    "import pandas as pd\n",
    "original_df = pd.read_csv('ConcreteStrengthData.csv')"
   ]
  },
  {
   "cell_type": "markdown",
   "id": "379b9502",
   "metadata": {},
   "source": [
    "Load training, test datasets, and the sample submission file."
   ]
  },
  {
   "cell_type": "code",
   "execution_count": null,
   "id": "254c116f",
   "metadata": {},
   "outputs": [],
   "source": [
    "train_df = pd.read_csv('train.csv')\n",
    "test_df = pd.read_csv('test.csv')\n",
    "sample_sub = pd.read_csv('sample_submission.csv')"
   ]
  },
  {
   "cell_type": "markdown",
   "id": "53b61469",
   "metadata": {},
   "source": [
    "Generate a correlation heatmap to visualize relationships between features."
   ]
  },
  {
   "cell_type": "code",
   "execution_count": null,
   "id": "adb9101a",
   "metadata": {},
   "outputs": [],
   "source": [
    "import seaborn as sns\n",
    "import matplotlib.pyplot as plt\n",
    "sns.heatmap(original_df.corr(), annot=True)\n",
    "plt.show()"
   ]
  },
  {
   "cell_type": "markdown",
   "id": "57085d00",
   "metadata": {},
   "source": [
    "Split the training data into features and target, then create training and validation sets."
   ]
  },
  {
   "cell_type": "code",
   "execution_count": null,
   "id": "1dc2a18b",
   "metadata": {},
   "outputs": [],
   "source": [
    "from sklearn.model_selection import train_test_split\n",
    "X = train_df.drop('aux_target', axis=1)\n",
    "y = train_df['aux_target']\n",
    "X_train, X_val, y_train, y_val = train_test_split(X, y, test_size=0.2)"
   ]
  },
  {
   "cell_type": "markdown",
   "id": "dfd110d6",
   "metadata": {},
   "source": [
    "Train an XGBoost model and evaluate its performance on the validation set."
   ]
  },
  {
   "cell_type": "code",
   "execution_count": null,
   "id": "9947f269",
   "metadata": {},
   "outputs": [],
   "source": [
    "from sklearn.metrics import classification_report\n",
    "from xgboost import XGBClassifier\n",
    "model_xgb = XGBClassifier()\n",
    "model_xgb.fit(X_train, y_train)\n",
    "y_pred = model_xgb.predict(X_val)\n",
    "print(classification_report(y_val, y_pred))"
   ]
  },
  {
   "cell_type": "markdown",
   "id": "45c04b8c",
   "metadata": {},
   "source": [
    "Train a LightGBM model and evaluate its performance on the validation set."
   ]
  },
  {
   "cell_type": "code",
   "execution_count": null,
   "id": "a13745ba",
   "metadata": {},
   "outputs": [],
   "source": [
    "from lightgbm import LGBMClassifier\n",
    "model_lgb = LGBMClassifier()\n",
    "model_lgb.fit(X_train, y_train)\n",
    "y_pred_lgb = model_lgb.predict(X_val)\n",
    "print(classification_report(y_val, y_pred_lgb))"
   ]
  },
  {
   "cell_type": "markdown",
   "id": "42219c2e",
   "metadata": {},
   "source": [
    "Train a Random Forest model and evaluate its performance on the validation set."
   ]
  },
  {
   "cell_type": "code",
   "execution_count": null,
   "id": "ae589290",
   "metadata": {},
   "outputs": [],
   "source": [
    "from sklearn.ensemble import RandomForestClassifier\n",
    "model_rf = RandomForestClassifier()\n",
    "model_rf.fit(X_train, y_train)\n",
    "y_pred_rf = model_rf.predict(X_val)\n",
    "print(classification_report(y_val, y_pred_rf))"
   ]
  },
  {
   "cell_type": "markdown",
   "id": "2d9295df",
   "metadata": {},
   "source": [
    "Train a CatBoost model and evaluate its performance on the validation set."
   ]
  },
  {
   "cell_type": "code",
   "execution_count": null,
   "id": "72bc88c1",
   "metadata": {},
   "outputs": [],
   "source": [
    "from catboost import CatBoostClassifier\n",
    "model_cb = CatBoostClassifier(silent=True)\n",
    "model_cb.fit(X_train, y_train)\n",
    "y_pred_cb = model_cb.predict(X_val)\n",
    "print(classification_report(y_val, y_pred_cb))"
   ]
  }
 ],
 "metadata": {
  "kernelspec": {
   "display_name": "Python 3",
   "language": "python",
   "name": "python3"
  },
  "language_info": {
   "codemirror_mode": {
    "name": "ipython",
    "version": 3
   },
   "file_extension": ".py",
   "mimetype": "text/x-python",
   "name": "python",
   "nbconvert_exporter": "python",
   "pygments_lexer": "ipython3",
   "version": "3.8.5"
  }
 },
 "nbformat": 4,
 "nbformat_minor": 5
}
