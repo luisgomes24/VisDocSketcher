{
 "cells": [
  {
   "cell_type": "markdown",
   "id": "08174c29",
   "metadata": {},
   "source": [
    "Load the training data from a CSV file."
   ]
  },
  {
   "cell_type": "code",
   "execution_count": null,
   "id": "ddf9d49e",
   "metadata": {},
   "outputs": [],
   "source": [
    "import pandas as pd\n",
    "\n",
    "df_train = pd.read_csv('train.csv')"
   ]
  },
  {
   "cell_type": "markdown",
   "id": "5306f190",
   "metadata": {},
   "source": [
    "Extract features (X) and the target variable (y) from the training data."
   ]
  },
  {
   "cell_type": "code",
   "execution_count": null,
   "id": "06973eb0",
   "metadata": {},
   "outputs": [],
   "source": [
    "X = df_train.drop('target_column', axis=1)\n",
    "\n",
    "y = df_train['target_column']"
   ]
  },
  {
   "cell_type": "markdown",
   "id": "1e5cd2ab",
   "metadata": {},
   "source": [
    "Identify categorical features in the dataset."
   ]
  },
  {
   "cell_type": "code",
   "execution_count": null,
   "id": "9f5ae32a",
   "metadata": {},
   "outputs": [],
   "source": [
    "categorical_features = X.select_dtypes(include=['object']).columns.tolist()"
   ]
  },
  {
   "cell_type": "markdown",
   "id": "882b75fd",
   "metadata": {},
   "source": [
    "Aggregate categorical means using value counts for normalization."
   ]
  },
  {
   "cell_type": "code",
   "execution_count": null,
   "id": "a30b2347",
   "metadata": {},
   "outputs": [],
   "source": [
    "df_temp = X[categorical_features].apply(lambda x: x.map(x.value_counts(normalize=True)))"
   ]
  },
  {
   "cell_type": "markdown",
   "id": "067f17a9",
   "metadata": {},
   "source": [
    "Concatenate the original features with the aggregated categorical features."
   ]
  },
  {
   "cell_type": "code",
   "execution_count": null,
   "id": "9a4147c3",
   "metadata": {},
   "outputs": [],
   "source": [
    "enhanced_X = pd.concat([X, df_temp], axis=1)"
   ]
  },
  {
   "cell_type": "markdown",
   "id": "753bc528",
   "metadata": {},
   "source": [
    "Train a CatBoost classifier model using the enhanced features and target."
   ]
  },
  {
   "cell_type": "code",
   "execution_count": null,
   "id": "d157cf7b",
   "metadata": {},
   "outputs": [],
   "source": [
    "from catboost import CatBoostClassifier\n",
    "\n",
    "model = CatBoostClassifier()\n",
    "model.fit(enhanced_X, y)"
   ]
  },
  {
   "cell_type": "markdown",
   "id": "aad2bffa",
   "metadata": {},
   "source": [
    "Load the test data from a CSV file and extract features."
   ]
  },
  {
   "cell_type": "code",
   "execution_count": null,
   "id": "92a1f186",
   "metadata": {},
   "outputs": [],
   "source": [
    "df_test = pd.read_csv('test.csv')\n",
    "\n",
    "X_test = df_test.drop('target_column_test', axis=1)"
   ]
  },
  {
   "cell_type": "markdown",
   "id": "f7464af6",
   "metadata": {},
   "source": [
    "Use the trained model to make predictions on the test data."
   ]
  },
  {
   "cell_type": "code",
   "execution_count": null,
   "id": "49a4d322",
   "metadata": {},
   "outputs": [],
   "source": [
    "predictions = model.predict(X_test)"
   ]
  }
 ],
 "metadata": {
  "kernelspec": {
   "display_name": "Python 3",
   "language": "python",
   "name": "python3"
  },
  "language_info": {
   "codemirror_mode": {
    "name": "ipython",
    "version": 3
   },
   "file_extension": ".py",
   "mimetype": "text/x-python",
   "name": "python",
   "nbconvert_exporter": "python",
   "pygments_lexer": "ipython3",
   "version": "3.8.5"
  }
 },
 "nbformat": 4,
 "nbformat_minor": 5
}
