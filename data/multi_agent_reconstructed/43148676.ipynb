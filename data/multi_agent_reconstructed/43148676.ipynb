{
 "cells": [
  {
   "cell_type": "markdown",
   "id": "256da1ec",
   "metadata": {},
   "source": [
    "Load the CIFAR-10 dataset, splitting it into training and testing data."
   ]
  },
  {
   "cell_type": "code",
   "execution_count": null,
   "id": "ff29a5d5",
   "metadata": {},
   "outputs": [],
   "source": [
    "from keras.datasets import cifar10\n",
    "(X_train, y_train), (X_test, y_test) = cifar10.load_data()"
   ]
  },
  {
   "cell_type": "markdown",
   "id": "4a1ff034",
   "metadata": {},
   "source": [
    "Define the class names corresponding to the CIFAR-10 dataset."
   ]
  },
  {
   "cell_type": "code",
   "execution_count": null,
   "id": "9da62e2e",
   "metadata": {},
   "outputs": [],
   "source": [
    "classes = ['airplane', 'automobile', 'bird', 'cat', 'deer', 'dog', 'frog', 'horse', 'ship', 'truck']"
   ]
  },
  {
   "cell_type": "markdown",
   "id": "e4c8ca5f",
   "metadata": {},
   "source": [
    "Create a Multilayer Perceptron (MLP) model."
   ]
  },
  {
   "cell_type": "code",
   "execution_count": null,
   "id": "c6c1663a",
   "metadata": {},
   "outputs": [],
   "source": [
    "from keras.models import Sequential\n",
    "from keras.layers import Dense, Flatten\n",
    "\n",
    "mlp_model = Sequential([Flatten(input_shape=(32, 32, 3)), Dense(128, activation='relu'), Dense(10, activation='softmax')])"
   ]
  },
  {
   "cell_type": "markdown",
   "id": "5bca4b9b",
   "metadata": {},
   "source": [
    "Compile the MLP model using an optimizer and loss function."
   ]
  },
  {
   "cell_type": "code",
   "execution_count": null,
   "id": "e1e33ada",
   "metadata": {},
   "outputs": [],
   "source": [
    "mlp_model.compile(optimizer='adam', loss='sparse_categorical_crossentropy', metrics=['accuracy'])"
   ]
  },
  {
   "cell_type": "markdown",
   "id": "89884e64",
   "metadata": {},
   "source": [
    "Train the MLP model on the training data and validate with the test data."
   ]
  },
  {
   "cell_type": "code",
   "execution_count": null,
   "id": "8b419565",
   "metadata": {},
   "outputs": [],
   "source": [
    "mlp_model.fit(X_train, y_train, epochs=10, validation_data=(X_test, y_test))"
   ]
  },
  {
   "cell_type": "markdown",
   "id": "d0542f8f",
   "metadata": {},
   "source": [
    "Create a Convolutional Neural Network (CNN) model."
   ]
  },
  {
   "cell_type": "code",
   "execution_count": null,
   "id": "1632862a",
   "metadata": {},
   "outputs": [],
   "source": [
    "from keras.layers import Conv2D, MaxPooling2D\n",
    "\n",
    "cnn_model = Sequential([Conv2D(32, (3, 3), activation='relu', input_shape=(32, 32, 3)), MaxPooling2D((2, 2)), Flatten(), Dense(10, activation='softmax')])"
   ]
  },
  {
   "cell_type": "markdown",
   "id": "b9631d24",
   "metadata": {},
   "source": [
    "Compile the CNN model using an optimizer and loss function."
   ]
  },
  {
   "cell_type": "code",
   "execution_count": null,
   "id": "8f5ff14f",
   "metadata": {},
   "outputs": [],
   "source": [
    "cnn_model.compile(optimizer='adam', loss='sparse_categorical_crossentropy', metrics=['accuracy'])"
   ]
  },
  {
   "cell_type": "markdown",
   "id": "79e2a7b0",
   "metadata": {},
   "source": [
    "Train the CNN model on the training data and validate with the test data."
   ]
  },
  {
   "cell_type": "code",
   "execution_count": null,
   "id": "cf1e218e",
   "metadata": {},
   "outputs": [],
   "source": [
    "cnn_model.fit(X_train, y_train, epochs=10, validation_data=(X_test, y_test))"
   ]
  }
 ],
 "metadata": {
  "kernelspec": {
   "display_name": "Python 3",
   "language": "python",
   "name": "python3"
  },
  "language_info": {
   "codemirror_mode": {
    "name": "ipython",
    "version": 3
   },
   "file_extension": ".py",
   "mimetype": "text/x-python",
   "name": "python",
   "nbconvert_exporter": "python",
   "pygments_lexer": "ipython3",
   "version": "3.8.5"
  }
 },
 "nbformat": 4,
 "nbformat_minor": 5
}
