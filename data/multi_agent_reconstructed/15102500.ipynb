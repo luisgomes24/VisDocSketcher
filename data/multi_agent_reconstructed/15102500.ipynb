{
 "cells": [
  {
   "cell_type": "markdown",
   "id": "85fb4ad0",
   "metadata": {},
   "source": [
    "Read the training data from 'sales_train.csv'."
   ]
  },
  {
   "cell_type": "code",
   "execution_count": null,
   "id": "b5602a84",
   "metadata": {},
   "outputs": [],
   "source": [
    "import pandas as pd\n",
    "train_df = pd.read_csv('sales_train.csv')"
   ]
  },
  {
   "cell_type": "markdown",
   "id": "2d447d99",
   "metadata": {},
   "source": [
    "Read the test data from 'test.csv'."
   ]
  },
  {
   "cell_type": "code",
   "execution_count": null,
   "id": "9fafa0d4",
   "metadata": {},
   "outputs": [],
   "source": [
    "test_df = pd.read_csv('test.csv')"
   ]
  },
  {
   "cell_type": "markdown",
   "id": "9428db31",
   "metadata": {},
   "source": [
    "Read additional datasets: shops, items, and item categories."
   ]
  },
  {
   "cell_type": "code",
   "execution_count": null,
   "id": "9401103b",
   "metadata": {},
   "outputs": [],
   "source": [
    "shop_df = pd.read_csv('shops.csv')\n",
    "items_df = pd.read_csv('items.csv')\n",
    "item_cat = pd.read_csv('item_categories.csv')"
   ]
  },
  {
   "cell_type": "markdown",
   "id": "314dfe57",
   "metadata": {},
   "source": [
    "Group the training data by shop and item."
   ]
  },
  {
   "cell_type": "code",
   "execution_count": null,
   "id": "5462ffa7",
   "metadata": {},
   "outputs": [],
   "source": [
    "data = train_df.groupby(['shop_id', 'item_id']).agg({'date': 'min'}).reset_index()"
   ]
  },
  {
   "cell_type": "markdown",
   "id": "332685a6",
   "metadata": {},
   "source": [
    "Prepare features by dropping unnecessary columns and extract the target variable."
   ]
  },
  {
   "cell_type": "code",
   "execution_count": null,
   "id": "816a258b",
   "metadata": {},
   "outputs": [],
   "source": [
    "x_train = data.drop(columns=['date'])\n",
    "y_train = train_df['target_column']"
   ]
  },
  {
   "cell_type": "markdown",
   "id": "c03db348",
   "metadata": {},
   "source": [
    "Instantiate the LightGBM Regressor model."
   ]
  },
  {
   "cell_type": "code",
   "execution_count": null,
   "id": "bad83a49",
   "metadata": {},
   "outputs": [],
   "source": [
    "from lightgbm import LGBMRegressor\n",
    "model = LGBMRegressor()"
   ]
  },
  {
   "cell_type": "markdown",
   "id": "efae907a",
   "metadata": {},
   "source": [
    "Train the model using the prepared features and target."
   ]
  },
  {
   "cell_type": "code",
   "execution_count": null,
   "id": "929567b1",
   "metadata": {},
   "outputs": [],
   "source": [
    "model.fit(x_train, y_train)"
   ]
  },
  {
   "cell_type": "markdown",
   "id": "b091bbb7",
   "metadata": {},
   "source": [
    "Make predictions on the test set."
   ]
  },
  {
   "cell_type": "code",
   "execution_count": null,
   "id": "eaf3951d",
   "metadata": {},
   "outputs": [],
   "source": [
    "y_pred_lgb = model.predict(x_test)"
   ]
  },
  {
   "cell_type": "markdown",
   "id": "58d65bc8",
   "metadata": {},
   "source": [
    "Prepare the submission by loading the sample submission format and adding predictions."
   ]
  },
  {
   "cell_type": "code",
   "execution_count": null,
   "id": "e75e614f",
   "metadata": {},
   "outputs": [],
   "source": [
    "sub = pd.read_csv('sample_submission.csv')\n",
    "sub['target'] = y_pred_lgb"
   ]
  },
  {
   "cell_type": "markdown",
   "id": "0b7f51d2",
   "metadata": {},
   "source": [
    "Save the final submission to a CSV file."
   ]
  },
  {
   "cell_type": "code",
   "execution_count": null,
   "id": "8d187d27",
   "metadata": {},
   "outputs": [],
   "source": [
    "sub.to_csv('submission.csv', index=False)"
   ]
  }
 ],
 "metadata": {
  "kernelspec": {
   "display_name": "Python 3",
   "language": "python",
   "name": "python3"
  },
  "language_info": {
   "codemirror_mode": {
    "name": "ipython",
    "version": 3
   },
   "file_extension": ".py",
   "mimetype": "text/x-python",
   "name": "python",
   "nbconvert_exporter": "python",
   "pygments_lexer": "ipython3",
   "version": "3.8.5"
  }
 },
 "nbformat": 4,
 "nbformat_minor": 5
}
