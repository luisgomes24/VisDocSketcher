{
 "cells": [
  {
   "cell_type": "markdown",
   "id": "ebd6bd47",
   "metadata": {},
   "source": [
    "Load the MNIST dataset, which consists of handwritten digits."
   ]
  },
  {
   "cell_type": "code",
   "execution_count": null,
   "id": "e90153d6",
   "metadata": {},
   "outputs": [],
   "source": [
    "import numpy as np\n",
    "from tensorflow.keras.datasets import mnist\n",
    "\n",
    "(x_train, y_train), (x_test, y_test) = mnist.load_data()"
   ]
  },
  {
   "cell_type": "markdown",
   "id": "85c981ff",
   "metadata": {},
   "source": [
    "Normalize the pixel values to be between 0 and 1."
   ]
  },
  {
   "cell_type": "code",
   "execution_count": null,
   "id": "3115d34b",
   "metadata": {},
   "outputs": [],
   "source": [
    "x_train = x_train.astype('float32') / 255.0\n",
    "x_test = x_test.astype('float32') / 255.0"
   ]
  },
  {
   "cell_type": "markdown",
   "id": "31e6ca3a",
   "metadata": {},
   "source": [
    "Initialize a Sequential model for building the neural network."
   ]
  },
  {
   "cell_type": "code",
   "execution_count": null,
   "id": "f814da39",
   "metadata": {},
   "outputs": [],
   "source": [
    "from tensorflow.keras.models import Sequential\n",
    "from tensorflow.keras.layers import Flatten, Dense\n",
    "\n",
    "model = Sequential()"
   ]
  },
  {
   "cell_type": "markdown",
   "id": "48bc96fb",
   "metadata": {},
   "source": [
    "Flatten the 28x28 input images into 1D arrays."
   ]
  },
  {
   "cell_type": "code",
   "execution_count": null,
   "id": "4c6b44eb",
   "metadata": {},
   "outputs": [],
   "source": [
    "model.add(Flatten(input_shape=(28, 28)))"
   ]
  },
  {
   "cell_type": "markdown",
   "id": "2e6f60c9",
   "metadata": {},
   "source": [
    "Add a dense layer with 128 neurons and ReLU activation."
   ]
  },
  {
   "cell_type": "code",
   "execution_count": null,
   "id": "4d3df52e",
   "metadata": {},
   "outputs": [],
   "source": [
    "model.add(Dense(128, activation='relu'))"
   ]
  },
  {
   "cell_type": "markdown",
   "id": "70f019d8",
   "metadata": {},
   "source": [
    "Add a dense layer with 512 neurons and ReLU activation."
   ]
  },
  {
   "cell_type": "code",
   "execution_count": null,
   "id": "b245cac9",
   "metadata": {},
   "outputs": [],
   "source": [
    "model.add(Dense(512, activation='relu'))"
   ]
  },
  {
   "cell_type": "markdown",
   "id": "29304653",
   "metadata": {},
   "source": [
    "Add a dense layer with 1024 neurons and ReLU activation."
   ]
  },
  {
   "cell_type": "code",
   "execution_count": null,
   "id": "4c874c93",
   "metadata": {},
   "outputs": [],
   "source": [
    "model.add(Dense(1024, activation='relu'))"
   ]
  },
  {
   "cell_type": "markdown",
   "id": "0aeb3876",
   "metadata": {},
   "source": [
    "Add another dense layer with 512 neurons and ReLU activation."
   ]
  },
  {
   "cell_type": "code",
   "execution_count": null,
   "id": "82177d70",
   "metadata": {},
   "outputs": [],
   "source": [
    "model.add(Dense(512, activation='relu'))"
   ]
  },
  {
   "cell_type": "markdown",
   "id": "920963e9",
   "metadata": {},
   "source": [
    "Add another dense layer with 128 neurons and ReLU activation."
   ]
  },
  {
   "cell_type": "code",
   "execution_count": null,
   "id": "d128e45e",
   "metadata": {},
   "outputs": [],
   "source": [
    "model.add(Dense(128, activation='relu'))"
   ]
  },
  {
   "cell_type": "markdown",
   "id": "457286e8",
   "metadata": {},
   "source": [
    "Add an output layer with 10 neurons and softmax activation for classification."
   ]
  },
  {
   "cell_type": "code",
   "execution_count": null,
   "id": "1c082623",
   "metadata": {},
   "outputs": [],
   "source": [
    "model.add(Dense(10, activation='softmax'))"
   ]
  },
  {
   "cell_type": "markdown",
   "id": "14c6573c",
   "metadata": {},
   "source": [
    "Compile the model using Adam optimizer and sparse categorical crossentropy loss."
   ]
  },
  {
   "cell_type": "code",
   "execution_count": null,
   "id": "c38f535d",
   "metadata": {},
   "outputs": [],
   "source": [
    "model.compile(optimizer='adam', loss='sparse_categorical_crossentropy', metrics=['accuracy'])"
   ]
  },
  {
   "cell_type": "markdown",
   "id": "5b4e4af7",
   "metadata": {},
   "source": [
    "Train the model on the training set for 10 epochs."
   ]
  },
  {
   "cell_type": "code",
   "execution_count": null,
   "id": "a262fb92",
   "metadata": {},
   "outputs": [],
   "source": [
    "model.fit(x_train, y_train, epochs=10)"
   ]
  },
  {
   "cell_type": "markdown",
   "id": "8bec5eb8",
   "metadata": {},
   "source": [
    "Normalize the test set in the same way as the training set."
   ]
  },
  {
   "cell_type": "code",
   "execution_count": null,
   "id": "ac10fac0",
   "metadata": {},
   "outputs": [],
   "source": [
    "x_test_normalized = x_test.astype('float32') / 255.0"
   ]
  },
  {
   "cell_type": "markdown",
   "id": "4cc94aa6",
   "metadata": {},
   "source": [
    "Evaluate the model on the test set to get loss and accuracy."
   ]
  },
  {
   "cell_type": "code",
   "execution_count": null,
   "id": "4776e0d3",
   "metadata": {},
   "outputs": [],
   "source": [
    "test_loss, test_accuracy = model.evaluate(x_test_normalized, y_test)"
   ]
  },
  {
   "cell_type": "markdown",
   "id": "cd5c9cbd",
   "metadata": {},
   "source": [
    "Make predictions on the normalized test set."
   ]
  },
  {
   "cell_type": "code",
   "execution_count": null,
   "id": "de49a6fb",
   "metadata": {},
   "outputs": [],
   "source": [
    "y_predict = model.predict(x_test_normalized)"
   ]
  },
  {
   "cell_type": "markdown",
   "id": "5833dd12",
   "metadata": {},
   "source": [
    "Get the predicted classes by taking the argmax of predictions."
   ]
  },
  {
   "cell_type": "code",
   "execution_count": null,
   "id": "c567eb61",
   "metadata": {},
   "outputs": [],
   "source": [
    "y_pred = np.argmax(y_predict, axis=1)"
   ]
  },
  {
   "cell_type": "markdown",
   "id": "70cfc7ac",
   "metadata": {},
   "source": [
    "Calculate the confusion matrix and accuracy score."
   ]
  },
  {
   "cell_type": "code",
   "execution_count": null,
   "id": "276947f8",
   "metadata": {},
   "outputs": [],
   "source": [
    "from sklearn.metrics import confusion_matrix, accuracy_score\n",
    "\n",
    "conf_matrix = confusion_matrix(y_test, y_pred)\n",
    "accuracy = accuracy_score(y_test, y_pred)"
   ]
  },
  {
   "cell_type": "markdown",
   "id": "8184c97e",
   "metadata": {},
   "source": [
    "Display the confusion matrix and accuracy score."
   ]
  },
  {
   "cell_type": "code",
   "execution_count": null,
   "id": "036d78df",
   "metadata": {},
   "outputs": [],
   "source": [
    "print(conf_matrix)\n",
    "print('Accuracy:', accuracy)"
   ]
  }
 ],
 "metadata": {
  "kernelspec": {
   "display_name": "Python 3",
   "language": "python",
   "name": "python3"
  },
  "language_info": {
   "codemirror_mode": {
    "name": "ipython",
    "version": 3
   },
   "file_extension": ".py",
   "mimetype": "text/x-python",
   "name": "python",
   "nbconvert_exporter": "python",
   "pygments_lexer": "ipython3",
   "version": "3.8.5"
  }
 },
 "nbformat": 4,
 "nbformat_minor": 5
}
