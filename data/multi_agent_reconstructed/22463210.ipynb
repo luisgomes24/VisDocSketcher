{
 "cells": [
  {
   "cell_type": "markdown",
   "id": "3936a351",
   "metadata": {},
   "source": [
    "Load the dataset from a CSV file into a DataFrame named 'df'."
   ]
  },
  {
   "cell_type": "code",
   "execution_count": null,
   "id": "c111c9be",
   "metadata": {},
   "outputs": [],
   "source": [
    "import pandas as pd\n",
    "\n",
    "df = pd.read_csv('playstation_4_games.csv')"
   ]
  },
  {
   "cell_type": "markdown",
   "id": "036e5b26",
   "metadata": {},
   "source": [
    "Extract and process genres from the DataFrame into a list."
   ]
  },
  {
   "cell_type": "code",
   "execution_count": null,
   "id": "d64e97e2",
   "metadata": {},
   "outputs": [],
   "source": [
    "genres = df['Genre'].str.split(',').explode().unique().tolist()"
   ]
  },
  {
   "cell_type": "markdown",
   "id": "09e56053",
   "metadata": {},
   "source": [
    "Generate value counts for the 'Publisher' column and store it in 'vc'."
   ]
  },
  {
   "cell_type": "code",
   "execution_count": null,
   "id": "2baa0f9e",
   "metadata": {},
   "outputs": [],
   "source": [
    "vc = df['Publisher'].value_counts()"
   ]
  },
  {
   "cell_type": "markdown",
   "id": "989befca",
   "metadata": {},
   "source": [
    "Visualize the publisher distribution using a bar chart."
   ]
  },
  {
   "cell_type": "code",
   "execution_count": null,
   "id": "113ec6f2",
   "metadata": {},
   "outputs": [],
   "source": [
    "vc.plot(kind='bar')\n",
    "plt.title('Publisher Distribution')\n",
    "plt.show()"
   ]
  },
  {
   "cell_type": "markdown",
   "id": "4f8834a9",
   "metadata": {},
   "source": [
    "Generate value counts for the 'Developer' column."
   ]
  },
  {
   "cell_type": "code",
   "execution_count": null,
   "id": "051828f0",
   "metadata": {},
   "outputs": [],
   "source": [
    "vc_developer = df['Developer'].value_counts()"
   ]
  },
  {
   "cell_type": "markdown",
   "id": "1974b995",
   "metadata": {},
   "source": [
    "Visualize the developer distribution using a bar chart."
   ]
  },
  {
   "cell_type": "code",
   "execution_count": null,
   "id": "87ab4d95",
   "metadata": {},
   "outputs": [],
   "source": [
    "vc_developer.plot(kind='bar')\n",
    "plt.title('Developer Distribution')\n",
    "plt.show()"
   ]
  },
  {
   "cell_type": "markdown",
   "id": "a8270a89",
   "metadata": {},
   "source": [
    "Visualize the release year distribution using a bar chart."
   ]
  },
  {
   "cell_type": "code",
   "execution_count": null,
   "id": "1b3cbb85",
   "metadata": {},
   "outputs": [],
   "source": [
    "df['Release Year'].value_counts().sort_index().plot(kind='bar')\n",
    "plt.title('Release Year Distribution')\n",
    "plt.show()"
   ]
  },
  {
   "cell_type": "markdown",
   "id": "db25723f",
   "metadata": {},
   "source": [
    "Generate value counts for the 'Genre' column to analyze genre popularity."
   ]
  },
  {
   "cell_type": "code",
   "execution_count": null,
   "id": "95898741",
   "metadata": {},
   "outputs": [],
   "source": [
    "genre_popularity = df['Genre'].value_counts()"
   ]
  },
  {
   "cell_type": "markdown",
   "id": "2d677a22",
   "metadata": {},
   "source": [
    "Visualize genre popularity using a bar chart."
   ]
  },
  {
   "cell_type": "code",
   "execution_count": null,
   "id": "7154f49b",
   "metadata": {},
   "outputs": [],
   "source": [
    "genre_popularity.plot(kind='bar')\n",
    "plt.title('Genre Popularity')\n",
    "plt.show()"
   ]
  }
 ],
 "metadata": {
  "kernelspec": {
   "display_name": "Python 3",
   "language": "python",
   "name": "python3"
  },
  "language_info": {
   "codemirror_mode": {
    "name": "ipython",
    "version": 3
   },
   "file_extension": ".py",
   "mimetype": "text/x-python",
   "name": "python",
   "nbconvert_exporter": "python",
   "pygments_lexer": "ipython3",
   "version": "3.8.5"
  }
 },
 "nbformat": 4,
 "nbformat_minor": 5
}
