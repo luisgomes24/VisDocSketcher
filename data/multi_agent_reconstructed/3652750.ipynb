{
 "cells": [
  {
   "cell_type": "markdown",
   "id": "f03d4b23",
   "metadata": {},
   "source": [
    "Import TensorFlow and ImageDataGenerator to load images from the specified directory."
   ]
  },
  {
   "cell_type": "code",
   "execution_count": null,
   "id": "7d75c7a3",
   "metadata": {},
   "outputs": [],
   "source": [
    "import tensorflow as tf\n",
    "from tensorflow.keras.preprocessing.image import ImageDataGenerator\n",
    "\n",
    "data_dir = 'path_to_asl_alphabet_train'"
   ]
  },
  {
   "cell_type": "markdown",
   "id": "98c65148",
   "metadata": {},
   "source": [
    "Create a training generator that rescales images and resizes them to 64x64 pixels."
   ]
  },
  {
   "cell_type": "code",
   "execution_count": null,
   "id": "d865119c",
   "metadata": {},
   "outputs": [],
   "source": [
    "train_datagen = ImageDataGenerator(rescale=1.0/255)\n",
    "train_generator = train_datagen.flow_from_directory(\n",
    "    data_dir,\n",
    "    target_size=(64, 64),\n",
    "    class_mode='categorical')"
   ]
  },
  {
   "cell_type": "markdown",
   "id": "cae99ed5",
   "metadata": {},
   "source": [
    "Create a validation generator to process validation images similarly to the training images."
   ]
  },
  {
   "cell_type": "code",
   "execution_count": null,
   "id": "445f7b30",
   "metadata": {},
   "outputs": [],
   "source": [
    "validation_datagen = ImageDataGenerator(rescale=1.0/255)\n",
    "validation_generator = validation_datagen.flow_from_directory(\n",
    "    data_dir,\n",
    "    target_size=(64, 64),\n",
    "    class_mode='categorical')"
   ]
  },
  {
   "cell_type": "markdown",
   "id": "becebf92",
   "metadata": {},
   "source": [
    "Initialize a Keras Sequential model for building the neural network."
   ]
  },
  {
   "cell_type": "code",
   "execution_count": null,
   "id": "049fe405",
   "metadata": {},
   "outputs": [],
   "source": [
    "my_model = tf.keras.models.Sequential()"
   ]
  },
  {
   "cell_type": "markdown",
   "id": "c9dac1f0",
   "metadata": {},
   "source": [
    "Add a convolutional layer to the model for feature extraction."
   ]
  },
  {
   "cell_type": "code",
   "execution_count": null,
   "id": "8a0ff1ec",
   "metadata": {},
   "outputs": [],
   "source": [
    "my_model.add(tf.keras.layers.Conv2D(32, (3, 3), activation='relu', input_shape=(64, 64, 3)))"
   ]
  },
  {
   "cell_type": "markdown",
   "id": "47b1d894",
   "metadata": {},
   "source": [
    "Add a dropout layer to prevent overfitting during training."
   ]
  },
  {
   "cell_type": "code",
   "execution_count": null,
   "id": "65fef56b",
   "metadata": {},
   "outputs": [],
   "source": [
    "my_model.add(tf.keras.layers.Dropout(0.5))"
   ]
  },
  {
   "cell_type": "markdown",
   "id": "c977855b",
   "metadata": {},
   "source": [
    "Add a dense layer with softmax activation for multi-class classification of 29 ASL signs."
   ]
  },
  {
   "cell_type": "code",
   "execution_count": null,
   "id": "d5998b8a",
   "metadata": {},
   "outputs": [],
   "source": [
    "my_model.add(tf.keras.layers.Dense(29, activation='softmax'))"
   ]
  },
  {
   "cell_type": "markdown",
   "id": "e53c3e83",
   "metadata": {},
   "source": [
    "Compile the model using Adam optimizer and categorical crossentropy loss."
   ]
  },
  {
   "cell_type": "code",
   "execution_count": null,
   "id": "3a687fa9",
   "metadata": {},
   "outputs": [],
   "source": [
    "my_model.compile(optimizer='adam', loss='categorical_crossentropy', metrics=['accuracy'])"
   ]
  },
  {
   "cell_type": "markdown",
   "id": "a0fc41a9",
   "metadata": {},
   "source": [
    "Train the model using the training and validation generators for 10 epochs."
   ]
  },
  {
   "cell_type": "code",
   "execution_count": null,
   "id": "12ef7558",
   "metadata": {},
   "outputs": [],
   "source": [
    "history = my_model.fit(train_generator, validation_data=validation_generator, epochs=10)"
   ]
  },
  {
   "cell_type": "markdown",
   "id": "ffe92301",
   "metadata": {},
   "source": [
    "Evaluate the model on the validation set to calculate accuracy."
   ]
  },
  {
   "cell_type": "code",
   "execution_count": null,
   "id": "799de944",
   "metadata": {},
   "outputs": [],
   "source": [
    "evaluation = my_model.evaluate(validation_generator)"
   ]
  }
 ],
 "metadata": {
  "kernelspec": {
   "display_name": "Python 3",
   "language": "python",
   "name": "python3"
  },
  "language_info": {
   "codemirror_mode": {
    "name": "ipython",
    "version": 3
   },
   "file_extension": ".py",
   "mimetype": "text/x-python",
   "name": "python",
   "nbconvert_exporter": "python",
   "pygments_lexer": "ipython3",
   "version": "3.8.5"
  }
 },
 "nbformat": 4,
 "nbformat_minor": 5
}
