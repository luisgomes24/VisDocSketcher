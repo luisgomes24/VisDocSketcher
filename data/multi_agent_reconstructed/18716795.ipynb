{
 "cells": [
  {
   "cell_type": "markdown",
   "id": "7e80d424",
   "metadata": {},
   "source": [
    "Load the alcohol consumption dataset using pandas."
   ]
  },
  {
   "cell_type": "code",
   "execution_count": null,
   "id": "bb149b90",
   "metadata": {},
   "outputs": [],
   "source": [
    "import pandas as pd\n",
    "\n",
    "dataset = pd.read_csv('../input/alcohol-consumption/gapminder_alcohol.csv')"
   ]
  },
  {
   "cell_type": "markdown",
   "id": "fdf6bd73",
   "metadata": {},
   "source": [
    "Retrieve the bottom 10 countries by alcohol consumption."
   ]
  },
  {
   "cell_type": "code",
   "execution_count": null,
   "id": "99b75929",
   "metadata": {},
   "outputs": [],
   "source": [
    "bottom_10_alcohol = dataset.nsmallest(10, 'alcohol_consumption')"
   ]
  },
  {
   "cell_type": "markdown",
   "id": "691e40e3",
   "metadata": {},
   "source": [
    "Retrieve the top 10 countries by alcohol consumption."
   ]
  },
  {
   "cell_type": "code",
   "execution_count": null,
   "id": "84f7aea9",
   "metadata": {},
   "outputs": [],
   "source": [
    "top_10_alcohol = dataset.nlargest(10, 'alcohol_consumption')"
   ]
  },
  {
   "cell_type": "markdown",
   "id": "e3eb3576",
   "metadata": {},
   "source": [
    "Get the countries with the highest suicide rates."
   ]
  },
  {
   "cell_type": "code",
   "execution_count": null,
   "id": "36894ec9",
   "metadata": {},
   "outputs": [],
   "source": [
    "highest_suicide_rates = dataset.nlargest(10, 'suicide_rate')"
   ]
  },
  {
   "cell_type": "markdown",
   "id": "2160fa8d",
   "metadata": {},
   "source": [
    "Get the countries with the lowest suicide rates."
   ]
  },
  {
   "cell_type": "code",
   "execution_count": null,
   "id": "20860935",
   "metadata": {},
   "outputs": [],
   "source": [
    "lowest_suicide_rates = dataset.nsmallest(10, 'suicide_rate')"
   ]
  },
  {
   "cell_type": "markdown",
   "id": "7c0000a9",
   "metadata": {},
   "source": [
    "Calculate the correlation matrix for the dataset."
   ]
  },
  {
   "cell_type": "code",
   "execution_count": null,
   "id": "7113e4db",
   "metadata": {},
   "outputs": [],
   "source": [
    "correlation_matrix = dataset.corr()"
   ]
  }
 ],
 "metadata": {
  "kernelspec": {
   "display_name": "Python 3",
   "language": "python",
   "name": "python3"
  },
  "language_info": {
   "codemirror_mode": {
    "name": "ipython",
    "version": 3
   },
   "file_extension": ".py",
   "mimetype": "text/x-python",
   "name": "python",
   "nbconvert_exporter": "python",
   "pygments_lexer": "ipython3",
   "version": "3.8.5"
  }
 },
 "nbformat": 4,
 "nbformat_minor": 5
}
