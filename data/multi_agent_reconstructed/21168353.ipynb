{
 "cells": [
  {
   "cell_type": "markdown",
   "id": "72532852",
   "metadata": {},
   "source": [
    "Reads the S phase genes from a tab-separated text file."
   ]
  },
  {
   "cell_type": "code",
   "execution_count": null,
   "id": "019077d8",
   "metadata": {},
   "outputs": [],
   "source": [
    "import pandas as pd\n",
    "\n",
    "data = pd.read_csv('cell_cycle_genes_reactome_extended.txt', sep='\\t')"
   ]
  },
  {
   "cell_type": "markdown",
   "id": "6870bbfe",
   "metadata": {},
   "source": [
    "Uses processed H5AD files to access G2/M phase genes."
   ]
  },
  {
   "cell_type": "code",
   "execution_count": null,
   "id": "68e997e0",
   "metadata": {},
   "outputs": [],
   "source": [
    "import h5py\n",
    "\n",
    "with h5py.File('processed_h5ad.h5', 'r') as f:\n",
    "    g2m_genes = f['g2m_phase_genes'][:]  # Assuming the dataset is within the file"
   ]
  },
  {
   "cell_type": "markdown",
   "id": "d4e76441",
   "metadata": {},
   "source": [
    "Performs PCA on S and G2/M phase genes."
   ]
  },
  {
   "cell_type": "code",
   "execution_count": null,
   "id": "ca358947",
   "metadata": {},
   "outputs": [],
   "source": [
    "from sklearn.decomposition import PCA\n",
    "\n",
    "pca = PCA(n_components=2)\n",
    "results = pca.fit_transform(data[['S_phase', 'G2M_phase']])"
   ]
  },
  {
   "cell_type": "markdown",
   "id": "abfea410",
   "metadata": {},
   "source": [
    "Visualizes PCA results as a box plot."
   ]
  },
  {
   "cell_type": "code",
   "execution_count": null,
   "id": "d91496d2",
   "metadata": {},
   "outputs": [],
   "source": [
    "import matplotlib.pyplot as plt\n",
    "\n",
    "plt.boxplot(results)\n",
    "plt.title('PCA Results')\n",
    "plt.show()"
   ]
  },
  {
   "cell_type": "markdown",
   "id": "d657e0d1",
   "metadata": {},
   "source": [
    "Transforms PCA results into UMAP for further dimensionality reduction."
   ]
  },
  {
   "cell_type": "code",
   "execution_count": null,
   "id": "55ada9b1",
   "metadata": {},
   "outputs": [],
   "source": [
    "from sklearn.manifold import UMAP\n",
    "\n",
    "umap = UMAP()\n",
    "umap_results = umap.fit_transform(results)"
   ]
  },
  {
   "cell_type": "markdown",
   "id": "cb50dfe8",
   "metadata": {},
   "source": [
    "Visualizes UMAP results as a bar chart."
   ]
  },
  {
   "cell_type": "code",
   "execution_count": null,
   "id": "cbc8aa02",
   "metadata": {},
   "outputs": [],
   "source": [
    "plt.bar(['A', 'B', 'C'], [umap_results.mean(axis=0)])\n",
    "plt.title('UMAP Results')\n",
    "plt.show()"
   ]
  }
 ],
 "metadata": {
  "kernelspec": {
   "display_name": "Python 3",
   "language": "python",
   "name": "python3"
  },
  "language_info": {
   "codemirror_mode": {
    "name": "ipython",
    "version": 3
   },
   "file_extension": ".py",
   "mimetype": "text/x-python",
   "name": "python",
   "nbconvert_exporter": "python",
   "pygments_lexer": "ipython3",
   "version": "3.8.5"
  }
 },
 "nbformat": 4,
 "nbformat_minor": 5
}
