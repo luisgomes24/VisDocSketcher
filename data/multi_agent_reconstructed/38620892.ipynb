{
 "cells": [
  {
   "cell_type": "markdown",
   "id": "29cd1fe4",
   "metadata": {},
   "source": [
    "Generate random data arrays for the plot."
   ]
  },
  {
   "cell_type": "code",
   "execution_count": null,
   "id": "6ef84b95",
   "metadata": {},
   "outputs": [],
   "source": [
    "import numpy as np\n",
    "import pandas as pd\n",
    "import matplotlib.pyplot as plt\n",
    "\n",
    "# Step 1: Generate random data\n",
    "np.random.seed(0)\n",
    "data = np.random.rand(10, 2) * 100\n"
   ]
  },
  {
   "cell_type": "markdown",
   "id": "171f0e30",
   "metadata": {},
   "source": [
    "Define the time values, group names, and corresponding values."
   ]
  },
  {
   "cell_type": "code",
   "execution_count": null,
   "id": "d4e0c2ff",
   "metadata": {},
   "outputs": [],
   "source": [
    "t = np.linspace(0, 10, 10)\n",
    "names = ['Low', 'Medium', 'High'] * 3 + ['High']\n",
    "values = data[:, 1]\n"
   ]
  },
  {
   "cell_type": "markdown",
   "id": "019ca059",
   "metadata": {},
   "source": [
    "Create a scatter plot of values against time."
   ]
  },
  {
   "cell_type": "code",
   "execution_count": null,
   "id": "c42cf373",
   "metadata": {},
   "outputs": [],
   "source": [
    "plt.scatter(t, values)\n",
    "plt.xlabel('t')\n",
    "plt.ylabel('Values')\n",
    "plt.title('Scatter Plot')\n",
    "plt.show()\n"
   ]
  },
  {
   "cell_type": "markdown",
   "id": "e7006f4a",
   "metadata": {},
   "source": [
    "Create a categorical plot using seaborn for the given names and values."
   ]
  },
  {
   "cell_type": "code",
   "execution_count": null,
   "id": "1ee0977b",
   "metadata": {},
   "outputs": [],
   "source": [
    "import seaborn as sns\n",
    "sns.catplot(x=names, y=values, kind='strip')\n",
    "plt.title('Categorical Plot')\n",
    "plt.show()\n"
   ]
  },
  {
   "cell_type": "markdown",
   "id": "7e50b473",
   "metadata": {},
   "source": [
    "Calculate y as the vertical position using gravitational constant g."
   ]
  },
  {
   "cell_type": "code",
   "execution_count": null,
   "id": "d643ab20",
   "metadata": {},
   "outputs": [],
   "source": [
    "g = 9.81\n",
    "y = g * t**2 / 2\n"
   ]
  },
  {
   "cell_type": "markdown",
   "id": "81ddb989",
   "metadata": {},
   "source": [
    "Plot t against the calculated y values."
   ]
  },
  {
   "cell_type": "code",
   "execution_count": null,
   "id": "02c356a9",
   "metadata": {},
   "outputs": [],
   "source": [
    "plt.scatter(t, y)\n",
    "plt.xlabel('t')\n",
    "plt.ylabel('y')\n",
    "plt.title('Plot t vs. y')\n",
    "plt.show()\n"
   ]
  }
 ],
 "metadata": {
  "kernelspec": {
   "display_name": "Python 3",
   "language": "python",
   "name": "python3"
  },
  "language_info": {
   "codemirror_mode": {
    "name": "ipython",
    "version": 3
   },
   "file_extension": ".py",
   "mimetype": "text/x-python",
   "name": "python",
   "nbconvert_exporter": "python",
   "pygments_lexer": "ipython3",
   "version": "3.8.5"
  }
 },
 "nbformat": 4,
 "nbformat_minor": 5
}
