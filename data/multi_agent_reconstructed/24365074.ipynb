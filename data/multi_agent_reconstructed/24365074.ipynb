{
 "cells": [
  {
   "cell_type": "markdown",
   "id": "20d4b721",
   "metadata": {},
   "source": [
    "Load the training and test datasets from CSV files."
   ]
  },
  {
   "cell_type": "code",
   "execution_count": null,
   "id": "abff8289",
   "metadata": {},
   "outputs": [],
   "source": [
    "import pandas as pd\n",
    "train = pd.read_csv('train.csv')\n",
    "test = pd.read_csv('test.csv')"
   ]
  },
  {
   "cell_type": "markdown",
   "id": "32643d1d",
   "metadata": {},
   "source": [
    "Split the training data into features (X) and target (y)."
   ]
  },
  {
   "cell_type": "code",
   "execution_count": null,
   "id": "fd0c0705",
   "metadata": {},
   "outputs": [],
   "source": [
    "X = train.drop('target', axis=1)\n",
    "y = train['target']"
   ]
  },
  {
   "cell_type": "markdown",
   "id": "c40ce012",
   "metadata": {},
   "source": [
    "Split the training data into training and validation sets."
   ]
  },
  {
   "cell_type": "code",
   "execution_count": null,
   "id": "46ccf2ca",
   "metadata": {},
   "outputs": [],
   "source": [
    "from sklearn.model_selection import train_test_split\n",
    "X_train, X_val, y_train, y_val = train_test_split(X, y, test_size=0.2, random_state=42)"
   ]
  },
  {
   "cell_type": "markdown",
   "id": "6d5b79c4",
   "metadata": {},
   "source": [
    "Initialize the Extra Trees Classifier model with specific parameters."
   ]
  },
  {
   "cell_type": "code",
   "execution_count": null,
   "id": "a0300c98",
   "metadata": {},
   "outputs": [],
   "source": [
    "from sklearn.ensemble import ExtraTreesClassifier\n",
    "model = ExtraTreesClassifier(n_estimators=800, random_state=0, n_jobs=-1)"
   ]
  },
  {
   "cell_type": "markdown",
   "id": "cc990767",
   "metadata": {},
   "source": [
    "Train the model using the training features and targets."
   ]
  },
  {
   "cell_type": "code",
   "execution_count": null,
   "id": "eade9d65",
   "metadata": {},
   "outputs": [],
   "source": [
    "model.fit(X_train, y_train)"
   ]
  },
  {
   "cell_type": "markdown",
   "id": "bd2eee47",
   "metadata": {},
   "source": [
    "Make predictions on the test dataset."
   ]
  },
  {
   "cell_type": "code",
   "execution_count": null,
   "id": "d8489a72",
   "metadata": {},
   "outputs": [],
   "source": [
    "pred = model.predict(test)"
   ]
  },
  {
   "cell_type": "markdown",
   "id": "81dcf3dc",
   "metadata": {},
   "source": [
    "Create the submission DataFrame by loading the template and adding predictions."
   ]
  },
  {
   "cell_type": "code",
   "execution_count": null,
   "id": "cab54766",
   "metadata": {},
   "outputs": [],
   "source": [
    "submission = pd.read_csv('sample_submission.csv')\n",
    "submission['target'] = pred"
   ]
  },
  {
   "cell_type": "markdown",
   "id": "f29c3bdf",
   "metadata": {},
   "source": [
    "Save the submission results to a CSV file."
   ]
  },
  {
   "cell_type": "code",
   "execution_count": null,
   "id": "c831ec21",
   "metadata": {},
   "outputs": [],
   "source": [
    "submission.to_csv('submission.csv', index=False)"
   ]
  }
 ],
 "metadata": {
  "kernelspec": {
   "display_name": "Python 3",
   "language": "python",
   "name": "python3"
  },
  "language_info": {
   "codemirror_mode": {
    "name": "ipython",
    "version": 3
   },
   "file_extension": ".py",
   "mimetype": "text/x-python",
   "name": "python",
   "nbconvert_exporter": "python",
   "pygments_lexer": "ipython3",
   "version": "3.8.5"
  }
 },
 "nbformat": 4,
 "nbformat_minor": 5
}
