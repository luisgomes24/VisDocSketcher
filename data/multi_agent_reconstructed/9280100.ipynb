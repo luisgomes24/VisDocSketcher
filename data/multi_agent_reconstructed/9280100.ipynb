{
 "cells": [
  {
   "cell_type": "markdown",
   "id": "e341be20",
   "metadata": {},
   "source": [
    "Load the dataset from a JSON file using Pandas."
   ]
  },
  {
   "cell_type": "code",
   "execution_count": null,
   "id": "e9bf8ebd",
   "metadata": {},
   "outputs": [],
   "source": [
    "import pandas as pd\n",
    "\n",
    "dataset = pd.read_json('Sarcasm_Headlines_Dataset_v2.json')"
   ]
  },
  {
   "cell_type": "markdown",
   "id": "6a7d4a10",
   "metadata": {},
   "source": [
    "Perform data cleaning by removing missing values."
   ]
  },
  {
   "cell_type": "code",
   "execution_count": null,
   "id": "54041f76",
   "metadata": {},
   "outputs": [],
   "source": [
    "dataset.dropna(inplace=True)"
   ]
  },
  {
   "cell_type": "markdown",
   "id": "b74f6ad2",
   "metadata": {},
   "source": [
    "Transform categorical labels into numerical format."
   ]
  },
  {
   "cell_type": "code",
   "execution_count": null,
   "id": "c3b6925b",
   "metadata": {},
   "outputs": [],
   "source": [
    "from sklearn.preprocessing import LabelEncoder\n",
    "dataset['label'] = LabelEncoder().fit_transform(dataset['label'])"
   ]
  },
  {
   "cell_type": "markdown",
   "id": "b02805ae",
   "metadata": {},
   "source": [
    "Separate features (headlines) and target variable (labels)."
   ]
  },
  {
   "cell_type": "code",
   "execution_count": null,
   "id": "decca9f5",
   "metadata": {},
   "outputs": [],
   "source": [
    "X = dataset['headline']\n",
    "y = dataset['label']"
   ]
  },
  {
   "cell_type": "markdown",
   "id": "a4233498",
   "metadata": {},
   "source": [
    "Split the data into training and validation sets."
   ]
  },
  {
   "cell_type": "code",
   "execution_count": null,
   "id": "df026c8c",
   "metadata": {},
   "outputs": [],
   "source": [
    "from sklearn.model_selection import train_test_split\n",
    "X_train, X_val, y_train, y_val = train_test_split(X, y, test_size=0.2)"
   ]
  },
  {
   "cell_type": "markdown",
   "id": "8eb639a8",
   "metadata": {},
   "source": [
    "Train a logistic regression model on the training data."
   ]
  },
  {
   "cell_type": "code",
   "execution_count": null,
   "id": "c7f79ec2",
   "metadata": {},
   "outputs": [],
   "source": [
    "from sklearn.linear_model import LogisticRegression\n",
    "model = LogisticRegression()\n",
    "model.fit(X_train, y_train)"
   ]
  },
  {
   "cell_type": "markdown",
   "id": "0e92deb2",
   "metadata": {},
   "source": [
    "Validate the model by calculating its accuracy on the validation set."
   ]
  },
  {
   "cell_type": "code",
   "execution_count": null,
   "id": "51f6d188",
   "metadata": {},
   "outputs": [],
   "source": [
    "from sklearn.metrics import accuracy_score\n",
    "predictions = model.predict(X_val)\n",
    "accuracy = accuracy_score(y_val, predictions)"
   ]
  },
  {
   "cell_type": "markdown",
   "id": "4a9707bf",
   "metadata": {},
   "source": [
    "Perform hyperparameter tuning using GridSearchCV."
   ]
  },
  {
   "cell_type": "code",
   "execution_count": null,
   "id": "19ee172d",
   "metadata": {},
   "outputs": [],
   "source": [
    "from sklearn.model_selection import GridSearchCV\n",
    "param_grid = {'C': [0.1, 1, 10]}\n",
    "grid = GridSearchCV(LogisticRegression(), param_grid, scoring='accuracy')\n",
    "grid.fit(X_train, y_train)"
   ]
  },
  {
   "cell_type": "markdown",
   "id": "96fb42d4",
   "metadata": {},
   "source": [
    "Save the results, including accuracy, to a JSON file."
   ]
  },
  {
   "cell_type": "code",
   "execution_count": null,
   "id": "fc2bc5e9",
   "metadata": {},
   "outputs": [],
   "source": [
    "import json\n",
    "with open('Results.json', 'w') as f:\n",
    "    json.dump({'accuracy': accuracy}, f)"
   ]
  }
 ],
 "metadata": {
  "kernelspec": {
   "display_name": "Python 3",
   "language": "python",
   "name": "python3"
  },
  "language_info": {
   "codemirror_mode": {
    "name": "ipython",
    "version": 3
   },
   "file_extension": ".py",
   "mimetype": "text/x-python",
   "name": "python",
   "nbconvert_exporter": "python",
   "pygments_lexer": "ipython3",
   "version": "3.8.5"
  }
 },
 "nbformat": 4,
 "nbformat_minor": 5
}
