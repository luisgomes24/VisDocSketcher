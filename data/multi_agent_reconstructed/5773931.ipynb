{
 "cells": [
  {
   "cell_type": "markdown",
   "id": "0bcbf71b",
   "metadata": {},
   "source": [
    "Initialize the path to the directory containing the dataset."
   ]
  },
  {
   "cell_type": "code",
   "execution_count": null,
   "id": "578f0156",
   "metadata": {},
   "outputs": [],
   "source": [
    "from fastai.vision.all import *\n",
    "path = Path('../input/hymenoptera-data/hymenoptera_data')"
   ]
  },
  {
   "cell_type": "markdown",
   "id": "59d9288f",
   "metadata": {},
   "source": [
    "Create an ImageList from the specified folder of images."
   ]
  },
  {
   "cell_type": "code",
   "execution_count": null,
   "id": "b926adc8",
   "metadata": {},
   "outputs": [],
   "source": [
    "images = ImageList.from_folder(path)"
   ]
  },
  {
   "cell_type": "markdown",
   "id": "4d5e20fb",
   "metadata": {},
   "source": [
    "Split the ImageList into train and validation datasets."
   ]
  },
  {
   "cell_type": "code",
   "execution_count": null,
   "id": "cd18116c",
   "metadata": {},
   "outputs": [],
   "source": [
    "train_images, valid_images = images.split_by_folder(valid_pct=0.2)"
   ]
  },
  {
   "cell_type": "markdown",
   "id": "45b21527",
   "metadata": {},
   "source": [
    "Generate a LabelList containing labels for classification from the folder."
   ]
  },
  {
   "cell_type": "code",
   "execution_count": null,
   "id": "2f6f195c",
   "metadata": {},
   "outputs": [],
   "source": [
    "label_list = LabelList.from_folder(path)"
   ]
  },
  {
   "cell_type": "markdown",
   "id": "99f962ff",
   "metadata": {},
   "source": [
    "Create a DataBunch of normalized data ready for training."
   ]
  },
  {
   "cell_type": "code",
   "execution_count": null,
   "id": "306b0be5",
   "metadata": {},
   "outputs": [],
   "source": [
    "data = DataBunch.create(train_images, valid_images, ds_tfms=get_transforms())"
   ]
  },
  {
   "cell_type": "markdown",
   "id": "995865b5",
   "metadata": {},
   "source": [
    "Create a learner using a CNN with ResNet18 architecture."
   ]
  },
  {
   "cell_type": "code",
   "execution_count": null,
   "id": "f7d9bebe",
   "metadata": {},
   "outputs": [],
   "source": [
    "learn = cnn_learner(data, models.resnet18, metrics=accuracy)"
   ]
  },
  {
   "cell_type": "markdown",
   "id": "62ccc1a6",
   "metadata": {},
   "source": [
    "Generate predictions using the trained model."
   ]
  },
  {
   "cell_type": "code",
   "execution_count": null,
   "id": "b6427051",
   "metadata": {},
   "outputs": [],
   "source": [
    "preds = learn.get_preds()"
   ]
  },
  {
   "cell_type": "markdown",
   "id": "ef9fa0aa",
   "metadata": {},
   "source": [
    "Obtain the true labels from the validation images."
   ]
  },
  {
   "cell_type": "code",
   "execution_count": null,
   "id": "338fd837",
   "metadata": {},
   "outputs": [],
   "source": [
    "truth = valid_images.items"
   ]
  },
  {
   "cell_type": "markdown",
   "id": "40cfcb29",
   "metadata": {},
   "source": [
    "Train the model for 4 epochs with a specified learning rate."
   ]
  },
  {
   "cell_type": "code",
   "execution_count": null,
   "id": "5f188f39",
   "metadata": {},
   "outputs": [],
   "source": [
    "learn.fit_one_cycle(4, max_lr=1e-3)"
   ]
  }
 ],
 "metadata": {
  "kernelspec": {
   "display_name": "Python 3",
   "language": "python",
   "name": "python3"
  },
  "language_info": {
   "codemirror_mode": {
    "name": "ipython",
    "version": 3
   },
   "file_extension": ".py",
   "mimetype": "text/x-python",
   "name": "python",
   "nbconvert_exporter": "python",
   "pygments_lexer": "ipython3",
   "version": "3.8.5"
  }
 },
 "nbformat": 4,
 "nbformat_minor": 5
}
