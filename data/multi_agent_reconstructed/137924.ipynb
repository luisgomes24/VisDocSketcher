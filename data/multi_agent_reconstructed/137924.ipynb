{
 "cells": [
  {
   "cell_type": "markdown",
   "id": "0fcaf4d2",
   "metadata": {},
   "source": [
    "Load the Titanic dataset using Pandas."
   ]
  },
  {
   "cell_type": "code",
   "execution_count": null,
   "id": "1ae9a32b",
   "metadata": {},
   "outputs": [],
   "source": [
    "import pandas as pd\n",
    "df = pd.read_csv('titanic.csv')"
   ]
  },
  {
   "cell_type": "markdown",
   "id": "3cfe5307",
   "metadata": {},
   "source": [
    "Perform basic data preprocessing by removing rows with missing values."
   ]
  },
  {
   "cell_type": "code",
   "execution_count": null,
   "id": "7330d40d",
   "metadata": {},
   "outputs": [],
   "source": [
    "df.dropna(inplace=True)"
   ]
  },
  {
   "cell_type": "markdown",
   "id": "ff51201e",
   "metadata": {},
   "source": [
    "Select important features from the dataset."
   ]
  },
  {
   "cell_type": "code",
   "execution_count": null,
   "id": "f3e39049",
   "metadata": {},
   "outputs": [],
   "source": [
    "from sklearn.feature_selection import SelectKBest, chi2\n",
    "X = df.drop('Survived', axis=1)\n",
    "y = df['Survived']\n",
    "selector = SelectKBest(score_func=chi2, k='all')\n",
    "X_selected = selector.fit_transform(X, y)"
   ]
  },
  {
   "cell_type": "markdown",
   "id": "e3119bb2",
   "metadata": {},
   "source": [
    "Scale the features using standardization."
   ]
  },
  {
   "cell_type": "code",
   "execution_count": null,
   "id": "9ad3068f",
   "metadata": {},
   "outputs": [],
   "source": [
    "from sklearn.preprocessing import StandardScaler\n",
    "scaler = StandardScaler()\n",
    "X_scaled = scaler.fit_transform(X_selected)"
   ]
  },
  {
   "cell_type": "markdown",
   "id": "feedee6a",
   "metadata": {},
   "source": [
    "Train a Logistic Regression model."
   ]
  },
  {
   "cell_type": "code",
   "execution_count": null,
   "id": "e6053bb6",
   "metadata": {},
   "outputs": [],
   "source": [
    "from sklearn.linear_model import LogisticRegression\n",
    "log_reg = LogisticRegression()\n",
    "log_reg.fit(X_scaled, y)"
   ]
  },
  {
   "cell_type": "markdown",
   "id": "16df3d92",
   "metadata": {},
   "source": [
    "Train a Random Forest Classifier."
   ]
  },
  {
   "cell_type": "code",
   "execution_count": null,
   "id": "0db7033e",
   "metadata": {},
   "outputs": [],
   "source": [
    "from sklearn.ensemble import RandomForestClassifier\n",
    "rf_clf = RandomForestClassifier()\n",
    "rf_clf.fit(X_scaled, y)"
   ]
  },
  {
   "cell_type": "markdown",
   "id": "e98cd3ec",
   "metadata": {},
   "source": [
    "Compare the performance of both models using cross-validation scores."
   ]
  },
  {
   "cell_type": "code",
   "execution_count": null,
   "id": "a7dbf53a",
   "metadata": {},
   "outputs": [],
   "source": [
    "from sklearn.model_selection import cross_val_score\n",
    "log_reg_score = cross_val_score(log_reg, X_scaled, y, cv=5)\n",
    "rf_score = cross_val_score(rf_clf, X_scaled, y, cv=5)"
   ]
  },
  {
   "cell_type": "markdown",
   "id": "3d28ac33",
   "metadata": {},
   "source": [
    "Visualize the performance comparison of the models."
   ]
  },
  {
   "cell_type": "code",
   "execution_count": null,
   "id": "241f965f",
   "metadata": {},
   "outputs": [],
   "source": [
    "import matplotlib.pyplot as plt\n",
    "plt.boxplot([log_reg_score, rf_score], labels=['Logistic Regression', 'Random Forest'])\n",
    "plt.title('Performance Comparison')\n",
    "plt.show()"
   ]
  },
  {
   "cell_type": "markdown",
   "id": "0fb52581",
   "metadata": {},
   "source": [
    "Analyze residuals from the Logistic Regression model."
   ]
  },
  {
   "cell_type": "code",
   "execution_count": null,
   "id": "49bbd997",
   "metadata": {},
   "outputs": [],
   "source": [
    "import seaborn as sns\n",
    "residuals_log = y - log_reg.predict(X_scaled)\n",
    "sns.histplot(residuals_log, kde=True)\n",
    "plt.title('Residual Analysis for Logistic Regression')\n",
    "plt.show()"
   ]
  },
  {
   "cell_type": "markdown",
   "id": "9bef8873",
   "metadata": {},
   "source": [
    "Generate predictions using the Random Forest model."
   ]
  },
  {
   "cell_type": "code",
   "execution_count": null,
   "id": "e77752cf",
   "metadata": {},
   "outputs": [],
   "source": [
    "predictions = rf_clf.predict(X_scaled)"
   ]
  },
  {
   "cell_type": "markdown",
   "id": "2bf8a8da",
   "metadata": {},
   "source": [
    "Create a submission file with predictions."
   ]
  },
  {
   "cell_type": "code",
   "execution_count": null,
   "id": "d2569867",
   "metadata": {},
   "outputs": [],
   "source": [
    "submission = pd.DataFrame({'PassengerId': df['PassengerId'], 'Survived': predictions})\n",
    "submission.to_csv('submission.csv', index=False)"
   ]
  },
  {
   "cell_type": "markdown",
   "id": "d85225a0",
   "metadata": {},
   "source": [
    "Load the final predictions from the submission file."
   ]
  },
  {
   "cell_type": "code",
   "execution_count": null,
   "id": "c49a0029",
   "metadata": {},
   "outputs": [],
   "source": [
    "final_predictions = pd.read_csv('submission.csv')"
   ]
  },
  {
   "cell_type": "markdown",
   "id": "065a4798",
   "metadata": {},
   "source": [
    "Generate a data overview of the final predictions."
   ]
  },
  {
   "cell_type": "code",
   "execution_count": null,
   "id": "b27cefd3",
   "metadata": {},
   "outputs": [],
   "source": [
    "overview = final_predictions.describe()"
   ]
  }
 ],
 "metadata": {
  "kernelspec": {
   "display_name": "Python 3",
   "language": "python",
   "name": "python3"
  },
  "language_info": {
   "codemirror_mode": {
    "name": "ipython",
    "version": 3
   },
   "file_extension": ".py",
   "mimetype": "text/x-python",
   "name": "python",
   "nbconvert_exporter": "python",
   "pygments_lexer": "ipython3",
   "version": "3.8.5"
  }
 },
 "nbformat": 4,
 "nbformat_minor": 5
}
