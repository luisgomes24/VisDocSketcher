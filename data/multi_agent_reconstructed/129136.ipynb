{
 "cells": [
  {
   "cell_type": "markdown",
   "id": "2d3fa327",
   "metadata": {},
   "source": [
    "Read the CSV file into a DataFrame."
   ]
  },
  {
   "cell_type": "code",
   "execution_count": null,
   "id": "3d473513",
   "metadata": {},
   "outputs": [],
   "source": [
    "import pandas as pd\n",
    "cars = pd.read_csv('./input/autos.csv')"
   ]
  },
  {
   "cell_type": "markdown",
   "id": "69a1884f",
   "metadata": {},
   "source": [
    "Drop any rows with null values from the DataFrame."
   ]
  },
  {
   "cell_type": "code",
   "execution_count": null,
   "id": "542294a2",
   "metadata": {},
   "outputs": [],
   "source": [
    "cars_updated = cars.dropna()"
   ]
  },
  {
   "cell_type": "markdown",
   "id": "f4267ec3",
   "metadata": {},
   "source": [
    "Apply label encoding to categorical variables."
   ]
  },
  {
   "cell_type": "code",
   "execution_count": null,
   "id": "670ee77c",
   "metadata": {},
   "outputs": [],
   "source": [
    "from sklearn.preprocessing import LabelEncoder\n",
    "le = LabelEncoder()\n",
    "for col in cars_updated.select_dtypes(include=['object']).columns:\n",
    "    cars_updated[col] = le.fit_transform(cars_updated[col])"
   ]
  },
  {
   "cell_type": "markdown",
   "id": "384055b8",
   "metadata": {},
   "source": [
    "Split data into training and testing sets."
   ]
  },
  {
   "cell_type": "code",
   "execution_count": null,
   "id": "bf1b3f20",
   "metadata": {},
   "outputs": [],
   "source": [
    "from sklearn.model_selection import train_test_split\n",
    "X = cars_updated.drop('target_variable', axis=1)\n",
    "y = cars_updated['target_variable']\n",
    "X_train, X_test, y_train, y_test = train_test_split(X, y, test_size=0.2, random_state=42)"
   ]
  },
  {
   "cell_type": "markdown",
   "id": "5e2cbdde",
   "metadata": {},
   "source": [
    "Train a linear regression model using the training data."
   ]
  },
  {
   "cell_type": "code",
   "execution_count": null,
   "id": "04e4113d",
   "metadata": {},
   "outputs": [],
   "source": [
    "from sklearn.linear_model import LinearRegression\n",
    "model = LinearRegression()\n",
    "model.fit(X_train, y_train)"
   ]
  },
  {
   "cell_type": "markdown",
   "id": "759978e2",
   "metadata": {},
   "source": [
    "Make predictions using the trained model on the test data."
   ]
  },
  {
   "cell_type": "code",
   "execution_count": null,
   "id": "414f4814",
   "metadata": {},
   "outputs": [],
   "source": [
    "y_pred = model.predict(X_test)"
   ]
  }
 ],
 "metadata": {
  "kernelspec": {
   "display_name": "Python 3",
   "language": "python",
   "name": "python3"
  },
  "language_info": {
   "codemirror_mode": {
    "name": "ipython",
    "version": 3
   },
   "file_extension": ".py",
   "mimetype": "text/x-python",
   "name": "python",
   "nbconvert_exporter": "python",
   "pygments_lexer": "ipython3",
   "version": "3.8.5"
  }
 },
 "nbformat": 4,
 "nbformat_minor": 5
}
