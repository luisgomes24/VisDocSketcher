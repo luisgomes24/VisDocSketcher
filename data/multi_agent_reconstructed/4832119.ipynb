{
 "cells": [
  {
   "cell_type": "markdown",
   "id": "6b75a611",
   "metadata": {},
   "source": [
    "Lists all tables in the 'chicago_crime' dataset."
   ]
  },
  {
   "cell_type": "code",
   "execution_count": null,
   "id": "2899936a",
   "metadata": {},
   "outputs": [],
   "source": [
    "tables = client.list_tables('chicago_crime')"
   ]
  },
  {
   "cell_type": "markdown",
   "id": "6d999123",
   "metadata": {},
   "source": [
    "Determines the number of tables available in the dataset."
   ]
  },
  {
   "cell_type": "code",
   "execution_count": null,
   "id": "dda803ec",
   "metadata": {},
   "outputs": [],
   "source": [
    "num_tables = len(tables)"
   ]
  },
  {
   "cell_type": "markdown",
   "id": "814b6c66",
   "metadata": {},
   "source": [
    "Selects the reference of the first table for processing."
   ]
  },
  {
   "cell_type": "code",
   "execution_count": null,
   "id": "023c6ed9",
   "metadata": {},
   "outputs": [],
   "source": [
    "table_ref = tables[0]  # Assuming we are working with the first table"
   ]
  },
  {
   "cell_type": "markdown",
   "id": "6ade3e1f",
   "metadata": {},
   "source": [
    "Retrieves the schema information of the specified table."
   ]
  },
  {
   "cell_type": "code",
   "execution_count": null,
   "id": "e57d2b2b",
   "metadata": {},
   "outputs": [],
   "source": [
    "table = client.get_table(table_ref)"
   ]
  },
  {
   "cell_type": "markdown",
   "id": "e0858309",
   "metadata": {},
   "source": [
    "Counts the number of fields in the schema that are of type TIMESTAMP."
   ]
  },
  {
   "cell_type": "code",
   "execution_count": null,
   "id": "bb8d2f26",
   "metadata": {},
   "outputs": [],
   "source": [
    "num_timestamp_fields = sum(1 for field in table.schema if field.field_type == 'TIMESTAMP')"
   ]
  },
  {
   "cell_type": "markdown",
   "id": "c63096a2",
   "metadata": {},
   "source": [
    "Extracts the first 5 rows from the table into a Pandas DataFrame."
   ]
  },
  {
   "cell_type": "code",
   "execution_count": null,
   "id": "8a406838",
   "metadata": {},
   "outputs": [],
   "source": [
    "rows = client.list_rows(table, max_results=5).to_dataframe()"
   ]
  },
  {
   "cell_type": "markdown",
   "id": "a15aa447",
   "metadata": {},
   "source": [
    "Extracts the latitude feature from the DataFrame."
   ]
  },
  {
   "cell_type": "code",
   "execution_count": null,
   "id": "3ba6a1ce",
   "metadata": {},
   "outputs": [],
   "source": [
    "latitude = rows['latitude']"
   ]
  },
  {
   "cell_type": "markdown",
   "id": "e6babe4d",
   "metadata": {},
   "source": [
    "Extracts the longitude feature from the DataFrame."
   ]
  },
  {
   "cell_type": "code",
   "execution_count": null,
   "id": "a13b8163",
   "metadata": {},
   "outputs": [],
   "source": [
    "longitude = rows['longitude']"
   ]
  }
 ],
 "metadata": {
  "kernelspec": {
   "display_name": "Python 3",
   "language": "python",
   "name": "python3"
  },
  "language_info": {
   "codemirror_mode": {
    "name": "ipython",
    "version": 3
   },
   "file_extension": ".py",
   "mimetype": "text/x-python",
   "name": "python",
   "nbconvert_exporter": "python",
   "pygments_lexer": "ipython3",
   "version": "3.8.5"
  }
 },
 "nbformat": 4,
 "nbformat_minor": 5
}
