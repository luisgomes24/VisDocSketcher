{
 "cells": [
  {
   "cell_type": "markdown",
   "id": "073bde0c",
   "metadata": {},
   "source": [
    "Load the IPL dataset from a CSV file into a Pandas DataFrame."
   ]
  },
  {
   "cell_type": "code",
   "execution_count": null,
   "id": "6a1a2db4",
   "metadata": {},
   "outputs": [],
   "source": [
    "import pandas as pd\n",
    "ipl_data = pd.read_csv('ipl_dataset_2008_2020.csv')"
   ]
  },
  {
   "cell_type": "markdown",
   "id": "26acc574",
   "metadata": {},
   "source": [
    "Load the CSK match data from another CSV file into a Pandas DataFrame."
   ]
  },
  {
   "cell_type": "code",
   "execution_count": null,
   "id": "12ea2f35",
   "metadata": {},
   "outputs": [],
   "source": [
    "csk_data = pd.read_csv('csk_match_data.csv')"
   ]
  },
  {
   "cell_type": "markdown",
   "id": "5c7ff5bd",
   "metadata": {},
   "source": [
    "Merge the IPL and CSK DataFrames using 'match_id' as the key."
   ]
  },
  {
   "cell_type": "code",
   "execution_count": null,
   "id": "f86969f2",
   "metadata": {},
   "outputs": [],
   "source": [
    "pivot_table = pd.merge(ipl_data, csk_data, on='match_id')"
   ]
  },
  {
   "cell_type": "markdown",
   "id": "969fc90b",
   "metadata": {},
   "source": [
    "Perform the Chi-square test for independence on the pivot table."
   ]
  },
  {
   "cell_type": "code",
   "execution_count": null,
   "id": "ec5adc12",
   "metadata": {},
   "outputs": [],
   "source": [
    "from scipy.stats import chi2_contingency\n",
    "chi2, p, _, _ = chi2_contingency(pivot_table)"
   ]
  },
  {
   "cell_type": "markdown",
   "id": "1b39be1c",
   "metadata": {},
   "source": [
    "Visualize the Chi-square test statistic using a box plot."
   ]
  },
  {
   "cell_type": "code",
   "execution_count": null,
   "id": "03b32e9d",
   "metadata": {},
   "outputs": [],
   "source": [
    "import matplotlib.pyplot as plt\n",
    "plt.boxplot(pivot_table['column_of_interest'])\n",
    "plt.title('Chi-square Test Statistic')\n",
    "plt.show()"
   ]
  },
  {
   "cell_type": "markdown",
   "id": "767e3941",
   "metadata": {},
   "source": [
    "Visualize the P-value obtained from the Chi-square test using a box plot."
   ]
  },
  {
   "cell_type": "code",
   "execution_count": null,
   "id": "65f235e5",
   "metadata": {},
   "outputs": [],
   "source": [
    "plt.boxplot(pivot_table['p_value_column'])\n",
    "plt.title('P-value')\n",
    "plt.show()"
   ]
  }
 ],
 "metadata": {
  "kernelspec": {
   "display_name": "Python 3",
   "language": "python",
   "name": "python3"
  },
  "language_info": {
   "codemirror_mode": {
    "name": "ipython",
    "version": 3
   },
   "file_extension": ".py",
   "mimetype": "text/x-python",
   "name": "python",
   "nbconvert_exporter": "python",
   "pygments_lexer": "ipython3",
   "version": "3.8.5"
  }
 },
 "nbformat": 4,
 "nbformat_minor": 5
}
