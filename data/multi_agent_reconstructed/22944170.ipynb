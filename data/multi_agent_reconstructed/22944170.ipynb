{
 "cells": [
  {
   "cell_type": "markdown",
   "id": "d2b41e51",
   "metadata": {},
   "source": [
    "Load the CSV file into a pandas DataFrame."
   ]
  },
  {
   "cell_type": "code",
   "execution_count": null,
   "id": "a972f67f",
   "metadata": {},
   "outputs": [],
   "source": [
    "import pandas as pd\n",
    "\n",
    "df = pd.read_csv('mr_beast_youtube_stats.csv')"
   ]
  },
  {
   "cell_type": "markdown",
   "id": "e4c3ca1a",
   "metadata": {},
   "source": [
    "Generate a profiling report using pandas Profiling."
   ]
  },
  {
   "cell_type": "code",
   "execution_count": null,
   "id": "bc24ec41",
   "metadata": {},
   "outputs": [],
   "source": [
    "from pandas_profiling import ProfileReport\n",
    "\n",
    "report = ProfileReport(df)"
   ]
  },
  {
   "cell_type": "markdown",
   "id": "e3d27642",
   "metadata": {},
   "source": [
    "Display the pandas profiling report in a Jupyter notebook."
   ]
  },
  {
   "cell_type": "code",
   "execution_count": null,
   "id": "7e950201",
   "metadata": {},
   "outputs": [],
   "source": [
    "report.to_notebook_iframe()"
   ]
  },
  {
   "cell_type": "markdown",
   "id": "77e09418",
   "metadata": {},
   "source": [
    "Create an analysis report using SweetViz."
   ]
  },
  {
   "cell_type": "code",
   "execution_count": null,
   "id": "b792b670",
   "metadata": {},
   "outputs": [],
   "source": [
    "import sweetviz as sv\n",
    "\n",
    "advert_report = sv.analyze(df)"
   ]
  },
  {
   "cell_type": "markdown",
   "id": "507d42d8",
   "metadata": {},
   "source": [
    "Display the SweetViz report as an HTML file."
   ]
  },
  {
   "cell_type": "code",
   "execution_count": null,
   "id": "410c89cc",
   "metadata": {},
   "outputs": [],
   "source": [
    "advert_report.show_html()"
   ]
  }
 ],
 "metadata": {
  "kernelspec": {
   "display_name": "Python 3",
   "language": "python",
   "name": "python3"
  },
  "language_info": {
   "codemirror_mode": {
    "name": "ipython",
    "version": 3
   },
   "file_extension": ".py",
   "mimetype": "text/x-python",
   "name": "python",
   "nbconvert_exporter": "python",
   "pygments_lexer": "ipython3",
   "version": "3.8.5"
  }
 },
 "nbformat": 4,
 "nbformat_minor": 5
}
