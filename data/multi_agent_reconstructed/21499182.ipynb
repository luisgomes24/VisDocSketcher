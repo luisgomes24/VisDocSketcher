{
 "cells": [
  {
   "cell_type": "markdown",
   "id": "51af780e",
   "metadata": {},
   "source": [
    "Load data from 'acc.csv' into a DataFrame called 'df'."
   ]
  },
  {
   "cell_type": "code",
   "execution_count": null,
   "id": "6d272243",
   "metadata": {},
   "outputs": [],
   "source": [
    "import pandas as pd\n",
    "df = pd.read_csv('acc.csv')"
   ]
  },
  {
   "cell_type": "markdown",
   "id": "ea64db8d",
   "metadata": {},
   "source": [
    "Remove null values and convert the 'Month' column from string to numerical format."
   ]
  },
  {
   "cell_type": "code",
   "execution_count": null,
   "id": "45e689ec",
   "metadata": {},
   "outputs": [],
   "source": [
    "df.dropna(inplace=True)\n",
    "df['Month'] = pd.to_datetime(df['Month'], format='%B').dt.month"
   ]
  }
 ],
 "metadata": {
  "kernelspec": {
   "display_name": "Python 3",
   "language": "python",
   "name": "python3"
  },
  "language_info": {
   "codemirror_mode": {
    "name": "ipython",
    "version": 3
   },
   "file_extension": ".py",
   "mimetype": "text/x-python",
   "name": "python",
   "nbconvert_exporter": "python",
   "pygments_lexer": "ipython3",
   "version": "3.8.5"
  }
 },
 "nbformat": 4,
 "nbformat_minor": 5
}
