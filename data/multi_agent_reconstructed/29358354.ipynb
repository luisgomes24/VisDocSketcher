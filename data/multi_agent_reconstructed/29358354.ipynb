{
 "cells": [
  {
   "cell_type": "markdown",
   "id": "d1a239d8",
   "metadata": {},
   "source": [
    "Read emissions data for EU27 from a CSV file."
   ]
  },
  {
   "cell_type": "code",
   "execution_count": null,
   "id": "51cc88a3",
   "metadata": {},
   "outputs": [],
   "source": [
    "import pandas as pd\n",
    "\n",
    "data1 = pd.read_csv('emissions_data_eu27.csv')"
   ]
  },
  {
   "cell_type": "markdown",
   "id": "4f739a8b",
   "metadata": {},
   "source": [
    "Read emissions data for EU28 from a CSV file."
   ]
  },
  {
   "cell_type": "code",
   "execution_count": null,
   "id": "48ccdb1d",
   "metadata": {},
   "outputs": [],
   "source": [
    "data2 = pd.read_csv('emissions_data_eu28.csv')"
   ]
  },
  {
   "cell_type": "markdown",
   "id": "467bfea8",
   "metadata": {},
   "source": [
    "Filter the EU28 data by unit 'T' for relevant emissions."
   ]
  },
  {
   "cell_type": "code",
   "execution_count": null,
   "id": "c3aab193",
   "metadata": {},
   "outputs": [],
   "source": [
    "data_world_t_unit = data2[data2['Unit'] == 'T']"
   ]
  },
  {
   "cell_type": "markdown",
   "id": "18b27b83",
   "metadata": {},
   "source": [
    "Group the filtered data by air pollutant."
   ]
  },
  {
   "cell_type": "code",
   "execution_count": null,
   "id": "f3d0ccfb",
   "metadata": {},
   "outputs": [],
   "source": [
    "airpol_groupby = data_world_t_unit.groupby('Air Pollutant').sum()"
   ]
  },
  {
   "cell_type": "markdown",
   "id": "29cc1151",
   "metadata": {},
   "source": [
    "Group the filtered data by industry usage."
   ]
  },
  {
   "cell_type": "code",
   "execution_count": null,
   "id": "9e1b62da",
   "metadata": {},
   "outputs": [],
   "source": [
    "induse_groupby = data_world_t_unit.groupby('Industry Usage').sum()"
   ]
  },
  {
   "cell_type": "markdown",
   "id": "e5ab0f8d",
   "metadata": {},
   "source": [
    "Group the filtered data by CPA activities."
   ]
  },
  {
   "cell_type": "code",
   "execution_count": null,
   "id": "00787173",
   "metadata": {},
   "outputs": [],
   "source": [
    "cpa_groupby = data_world_t_unit.groupby('CPA Activities').sum()"
   ]
  },
  {
   "cell_type": "markdown",
   "id": "b734a0c7",
   "metadata": {},
   "source": [
    "Group the filtered data by origin."
   ]
  },
  {
   "cell_type": "code",
   "execution_count": null,
   "id": "897c89a4",
   "metadata": {},
   "outputs": [],
   "source": [
    "origin_groupby = data_world_t_unit.groupby('Origin').sum()"
   ]
  },
  {
   "cell_type": "markdown",
   "id": "6cc347ba",
   "metadata": {},
   "source": [
    "Visualize air pollutant emissions using a bar plot."
   ]
  },
  {
   "cell_type": "code",
   "execution_count": null,
   "id": "f4555657",
   "metadata": {},
   "outputs": [],
   "source": [
    "airpol_groupby.plot(kind='bar')\n",
    "plt.title('Air Pollutant Emissions Plot')\n",
    "plt.show()"
   ]
  },
  {
   "cell_type": "markdown",
   "id": "28e10549",
   "metadata": {},
   "source": [
    "Visualize industry usage emissions using a bar plot."
   ]
  },
  {
   "cell_type": "code",
   "execution_count": null,
   "id": "f8436d4c",
   "metadata": {},
   "outputs": [],
   "source": [
    "induse_groupby.plot(kind='bar')\n",
    "plt.title('Industry Usage Emissions Plot')\n",
    "plt.show()"
   ]
  },
  {
   "cell_type": "markdown",
   "id": "fdf57ae2",
   "metadata": {},
   "source": [
    "Visualize CPA activity emissions using a bar plot."
   ]
  },
  {
   "cell_type": "code",
   "execution_count": null,
   "id": "72473d89",
   "metadata": {},
   "outputs": [],
   "source": [
    "cpa_groupby.plot(kind='bar')\n",
    "plt.title('CPA Activity Emissions Plot')\n",
    "plt.show()"
   ]
  },
  {
   "cell_type": "markdown",
   "id": "4d75526f",
   "metadata": {},
   "source": [
    "Visualize origin emissions using a bar plot."
   ]
  },
  {
   "cell_type": "code",
   "execution_count": null,
   "id": "c028799f",
   "metadata": {},
   "outputs": [],
   "source": [
    "origin_groupby.plot(kind='bar')\n",
    "plt.title('Origin Emissions Plot')\n",
    "plt.show()"
   ]
  }
 ],
 "metadata": {
  "kernelspec": {
   "display_name": "Python 3",
   "language": "python",
   "name": "python3"
  },
  "language_info": {
   "codemirror_mode": {
    "name": "ipython",
    "version": 3
   },
   "file_extension": ".py",
   "mimetype": "text/x-python",
   "name": "python",
   "nbconvert_exporter": "python",
   "pygments_lexer": "ipython3",
   "version": "3.8.5"
  }
 },
 "nbformat": 4,
 "nbformat_minor": 5
}
