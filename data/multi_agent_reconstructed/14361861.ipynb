{
 "cells": [
  {
   "cell_type": "markdown",
   "id": "5457f467",
   "metadata": {},
   "source": [
    "Load the training data from a zip file into a DataFrame using pandas."
   ]
  },
  {
   "cell_type": "code",
   "execution_count": null,
   "id": "ee449220",
   "metadata": {},
   "outputs": [],
   "source": [
    "import pandas as pd\n",
    "\n",
    "train_df = pd.read_csv('train.csv.zip')"
   ]
  },
  {
   "cell_type": "markdown",
   "id": "8a3805d3",
   "metadata": {},
   "source": [
    "Load the testing data from a zip file into a DataFrame using pandas."
   ]
  },
  {
   "cell_type": "code",
   "execution_count": null,
   "id": "fdede167",
   "metadata": {},
   "outputs": [],
   "source": [
    "test_df = pd.read_csv('test.csv.zip')"
   ]
  }
 ],
 "metadata": {
  "kernelspec": {
   "display_name": "Python 3",
   "language": "python",
   "name": "python3"
  },
  "language_info": {
   "codemirror_mode": {
    "name": "ipython",
    "version": 3
   },
   "file_extension": ".py",
   "mimetype": "text/x-python",
   "name": "python",
   "nbconvert_exporter": "python",
   "pygments_lexer": "ipython3",
   "version": "3.8.5"
  }
 },
 "nbformat": 4,
 "nbformat_minor": 5
}
