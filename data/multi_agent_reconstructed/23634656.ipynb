{
 "cells": [
  {
   "cell_type": "markdown",
   "id": "3649fa06",
   "metadata": {},
   "source": [
    "Get user input for the year to calculate Easter."
   ]
  },
  {
   "cell_type": "code",
   "execution_count": null,
   "id": "3c2af33f",
   "metadata": {},
   "outputs": [],
   "source": [
    "year = int(input('Input year for Easter calculation: '))"
   ]
  },
  {
   "cell_type": "markdown",
   "id": "9eb84b30",
   "metadata": {},
   "source": [
    "Set d1 to the fixed date string for March 21."
   ]
  },
  {
   "cell_type": "code",
   "execution_count": null,
   "id": "06d16251",
   "metadata": {},
   "outputs": [],
   "source": [
    "d1 = 'March 21'"
   ]
  },
  {
   "cell_type": "markdown",
   "id": "28d76207",
   "metadata": {},
   "source": [
    "Calculate the date of the full moon following d1."
   ]
  },
  {
   "cell_type": "code",
   "execution_count": null,
   "id": "e6247f7d",
   "metadata": {},
   "outputs": [],
   "source": [
    "from datetime import datetime, timedelta\n",
    "import lunarcalendar\n",
    "\n",
    "d2 = lunarcalendar.Lunar(month=full_moon_month, year=year).full_moon_date()"
   ]
  },
  {
   "cell_type": "markdown",
   "id": "20e4d296",
   "metadata": {},
   "source": [
    "Convert the full moon date (d2) into a date object."
   ]
  },
  {
   "cell_type": "code",
   "execution_count": null,
   "id": "8cdf6ae2",
   "metadata": {},
   "outputs": [],
   "source": [
    "d2_date = datetime.strptime(d2.strftime('%Y-%m-%d'), '%Y-%m-%d')"
   ]
  },
  {
   "cell_type": "markdown",
   "id": "57438137",
   "metadata": {},
   "source": [
    "Calculate the first Sunday after the full moon date."
   ]
  },
  {
   "cell_type": "code",
   "execution_count": null,
   "id": "d94c7362",
   "metadata": {},
   "outputs": [],
   "source": [
    "sunday_after_full_moon = d2_date + timedelta(days=(6 - d2_date.weekday()))"
   ]
  }
 ],
 "metadata": {
  "kernelspec": {
   "display_name": "Python 3",
   "language": "python",
   "name": "python3"
  },
  "language_info": {
   "codemirror_mode": {
    "name": "ipython",
    "version": 3
   },
   "file_extension": ".py",
   "mimetype": "text/x-python",
   "name": "python",
   "nbconvert_exporter": "python",
   "pygments_lexer": "ipython3",
   "version": "3.8.5"
  }
 },
 "nbformat": 4,
 "nbformat_minor": 5
}
