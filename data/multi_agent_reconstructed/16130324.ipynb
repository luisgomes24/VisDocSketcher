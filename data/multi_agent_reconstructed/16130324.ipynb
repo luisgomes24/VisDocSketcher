{
 "cells": [
  {
   "cell_type": "markdown",
   "id": "329ca772",
   "metadata": {},
   "source": [
    "Load the training data from 'train.csv' and preprocess it by removing any missing values."
   ]
  },
  {
   "cell_type": "code",
   "execution_count": null,
   "id": "2ced0b44",
   "metadata": {},
   "outputs": [],
   "source": [
    "import pandas as pd\n",
    "df = pd.read_csv('train.csv')\n",
    "df = df.dropna()"
   ]
  },
  {
   "cell_type": "markdown",
   "id": "8a845352",
   "metadata": {},
   "source": [
    "Load the test data from 'test.csv' and preprocess it by removing any missing values."
   ]
  },
  {
   "cell_type": "code",
   "execution_count": null,
   "id": "e4143cfd",
   "metadata": {},
   "outputs": [],
   "source": [
    "test_df = pd.read_csv('test.csv')\n",
    "test_df = test_df.dropna()"
   ]
  }
 ],
 "metadata": {
  "kernelspec": {
   "display_name": "Python 3",
   "language": "python",
   "name": "python3"
  },
  "language_info": {
   "codemirror_mode": {
    "name": "ipython",
    "version": 3
   },
   "file_extension": ".py",
   "mimetype": "text/x-python",
   "name": "python",
   "nbconvert_exporter": "python",
   "pygments_lexer": "ipython3",
   "version": "3.8.5"
  }
 },
 "nbformat": 4,
 "nbformat_minor": 5
}
