{
 "cells": [
  {
   "cell_type": "markdown",
   "id": "686ee984",
   "metadata": {},
   "source": [
    "Load training and validation data using ImageDataGenerator with normalization."
   ]
  },
  {
   "cell_type": "code",
   "execution_count": null,
   "id": "31776466",
   "metadata": {},
   "outputs": [],
   "source": [
    "from keras.preprocessing.image import ImageDataGenerator\n",
    "train_datagen = ImageDataGenerator(rescale=1./255)\n",
    "val_datagen = ImageDataGenerator(rescale=1./255)"
   ]
  },
  {
   "cell_type": "markdown",
   "id": "ac55c42c",
   "metadata": {},
   "source": [
    "Retrieve image and label batches from directories."
   ]
  },
  {
   "cell_type": "code",
   "execution_count": null,
   "id": "c61018e4",
   "metadata": {},
   "outputs": [],
   "source": [
    "train_generator = train_datagen.flow_from_directory('train_data_path', target_size=(img_height, img_width), batch_size=batch_size, class_mode='categorical')\n",
    "val_generator = val_datagen.flow_from_directory('val_data_path', target_size=(img_height, img_width), batch_size=batch_size, class_mode='categorical')"
   ]
  },
  {
   "cell_type": "markdown",
   "id": "91e0e6b0",
   "metadata": {},
   "source": [
    "Extract batches of images and labels for training and testing."
   ]
  },
  {
   "cell_type": "code",
   "execution_count": null,
   "id": "70bd8513",
   "metadata": {},
   "outputs": [],
   "source": [
    "import numpy as np\n",
    "x_train, y_train = next(train_generator)\n",
    "x_test, y_test = next(val_generator)"
   ]
  },
  {
   "cell_type": "markdown",
   "id": "4a3488ed",
   "metadata": {},
   "source": [
    "Normalize and split the data for testing."
   ]
  },
  {
   "cell_type": "code",
   "execution_count": null,
   "id": "bb7533dd",
   "metadata": {},
   "outputs": [],
   "source": [
    "from sklearn.model_selection import train_test_split\n",
    "x_train, x_test, y_train, y_test = train_test_split(x_train, y_train, test_size=0.2)"
   ]
  },
  {
   "cell_type": "markdown",
   "id": "4902134c",
   "metadata": {},
   "source": [
    "Initialize and configure the CoAtNet model."
   ]
  },
  {
   "cell_type": "code",
   "execution_count": null,
   "id": "ddd3279f",
   "metadata": {},
   "outputs": [],
   "source": [
    "from keras.models import Sequential\n",
    "from keras.layers import CoAtNet\n",
    "model = Sequential()\n",
    "model.add(CoAtNet(input_shape=(img_height, img_width, channels), classes=num_classes))"
   ]
  },
  {
   "cell_type": "markdown",
   "id": "a56d7d4a",
   "metadata": {},
   "source": [
    "Compile and train the CoAtNet model."
   ]
  },
  {
   "cell_type": "code",
   "execution_count": null,
   "id": "9611bfd6",
   "metadata": {},
   "outputs": [],
   "source": [
    "model.compile(optimizer='adam', loss='categorical_crossentropy', metrics=['accuracy'])\n",
    "model.fit(x_train, y_train, epochs=10, batch_size=batch_size)"
   ]
  },
  {
   "cell_type": "markdown",
   "id": "19666634",
   "metadata": {},
   "source": [
    "Use the trained model to predict on the test data."
   ]
  },
  {
   "cell_type": "code",
   "execution_count": null,
   "id": "9c9f6f83",
   "metadata": {},
   "outputs": [],
   "source": [
    "pred_x = model.predict(x_test)"
   ]
  },
  {
   "cell_type": "markdown",
   "id": "e8826095",
   "metadata": {},
   "source": [
    "Derive the predicted labels from model predictions."
   ]
  },
  {
   "cell_type": "code",
   "execution_count": null,
   "id": "e46df41b",
   "metadata": {},
   "outputs": [],
   "source": [
    "y_pred = np.argmax(pred_x, axis=1)"
   ]
  },
  {
   "cell_type": "markdown",
   "id": "ca1b978c",
   "metadata": {},
   "source": [
    "Compare predicted labels with actual test labels using a confusion matrix."
   ]
  },
  {
   "cell_type": "code",
   "execution_count": null,
   "id": "f0d21863",
   "metadata": {},
   "outputs": [],
   "source": [
    "from sklearn.metrics import confusion_matrix\n",
    "c_matrix = confusion_matrix(np.argmax(y_test, axis=1), y_pred)"
   ]
  }
 ],
 "metadata": {
  "kernelspec": {
   "display_name": "Python 3",
   "language": "python",
   "name": "python3"
  },
  "language_info": {
   "codemirror_mode": {
    "name": "ipython",
    "version": 3
   },
   "file_extension": ".py",
   "mimetype": "text/x-python",
   "name": "python",
   "nbconvert_exporter": "python",
   "pygments_lexer": "ipython3",
   "version": "3.8.5"
  }
 },
 "nbformat": 4,
 "nbformat_minor": 5
}
