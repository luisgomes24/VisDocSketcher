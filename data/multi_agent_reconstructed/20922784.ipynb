{
 "cells": [
  {
   "cell_type": "markdown",
   "id": "5248be88",
   "metadata": {},
   "source": [
    "Import the os module and define the path to the dataset directory."
   ]
  },
  {
   "cell_type": "code",
   "execution_count": null,
   "id": "0b78bcfe",
   "metadata": {},
   "outputs": [],
   "source": [
    "import os\n",
    "DATA_DIR = 'path/to/data_dir'"
   ]
  },
  {
   "cell_type": "markdown",
   "id": "0250b682",
   "metadata": {},
   "source": [
    "Set the path for the training dataset using the main directory."
   ]
  },
  {
   "cell_type": "code",
   "execution_count": null,
   "id": "877fcb67",
   "metadata": {},
   "outputs": [],
   "source": [
    "trn_dir = os.path.join(DATA_DIR, 'training_set')"
   ]
  },
  {
   "cell_type": "markdown",
   "id": "a43b67d7",
   "metadata": {},
   "source": [
    "Set the path for the validation dataset using the main directory."
   ]
  },
  {
   "cell_type": "code",
   "execution_count": null,
   "id": "b7d3c4cd",
   "metadata": {},
   "outputs": [],
   "source": [
    "val_dir = os.path.join(DATA_DIR, 'test_set')"
   ]
  },
  {
   "cell_type": "markdown",
   "id": "df5cce7e",
   "metadata": {},
   "source": [
    "Load the training dataset using ImageFolder and apply transformations."
   ]
  },
  {
   "cell_type": "code",
   "execution_count": null,
   "id": "d008c8b6",
   "metadata": {},
   "outputs": [],
   "source": [
    "from torchvision import datasets\n",
    "train_ds = datasets.ImageFolder(root=trn_dir, transform=your_transform)"
   ]
  },
  {
   "cell_type": "markdown",
   "id": "ce1fd54c",
   "metadata": {},
   "source": [
    "Create a DataLoader for the training dataset."
   ]
  },
  {
   "cell_type": "code",
   "execution_count": null,
   "id": "39a2240a",
   "metadata": {},
   "outputs": [],
   "source": [
    "from torch.utils.data import DataLoader\n",
    "train_dl = DataLoader(train_ds, batch_size=32, shuffle=True)"
   ]
  },
  {
   "cell_type": "markdown",
   "id": "75d6b516",
   "metadata": {},
   "source": [
    "Load the validation dataset using ImageFolder and apply transformations."
   ]
  },
  {
   "cell_type": "code",
   "execution_count": null,
   "id": "4c6970db",
   "metadata": {},
   "outputs": [],
   "source": [
    "valid_ds = datasets.ImageFolder(root=val_dir, transform=your_transform)"
   ]
  },
  {
   "cell_type": "markdown",
   "id": "f377e253",
   "metadata": {},
   "source": [
    "Create a DataLoader for the validation dataset."
   ]
  },
  {
   "cell_type": "code",
   "execution_count": null,
   "id": "e361523e",
   "metadata": {},
   "outputs": [],
   "source": [
    "valid_dl = DataLoader(valid_ds, batch_size=32, shuffle=False)"
   ]
  }
 ],
 "metadata": {
  "kernelspec": {
   "display_name": "Python 3",
   "language": "python",
   "name": "python3"
  },
  "language_info": {
   "codemirror_mode": {
    "name": "ipython",
    "version": 3
   },
   "file_extension": ".py",
   "mimetype": "text/x-python",
   "name": "python",
   "nbconvert_exporter": "python",
   "pygments_lexer": "ipython3",
   "version": "3.8.5"
  }
 },
 "nbformat": 4,
 "nbformat_minor": 5
}
