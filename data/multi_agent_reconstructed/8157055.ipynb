{
 "cells": [
  {
   "cell_type": "markdown",
   "id": "e64eac72",
   "metadata": {},
   "source": [
    "Load the CSV file containing advertising data into a DataFrame."
   ]
  },
  {
   "cell_type": "code",
   "execution_count": null,
   "id": "5be0c319",
   "metadata": {},
   "outputs": [],
   "source": [
    "import pandas as pd\n",
    "\n",
    "# Read CSV file\n",
    "data = pd.read_csv('Advertising.csv')"
   ]
  },
  {
   "cell_type": "markdown",
   "id": "6cec4181",
   "metadata": {},
   "source": [
    "Extract the 'TV' column from the DataFrame."
   ]
  },
  {
   "cell_type": "code",
   "execution_count": null,
   "id": "3e6391db",
   "metadata": {},
   "outputs": [],
   "source": [
    "tv_expenditures = data['TV']\n",
    "#a = tv_expenditures"
   ]
  },
  {
   "cell_type": "markdown",
   "id": "343b6c33",
   "metadata": {},
   "source": [
    "Extract the 'Sales' column from the DataFrame."
   ]
  },
  {
   "cell_type": "code",
   "execution_count": null,
   "id": "cea5f5eb",
   "metadata": {},
   "outputs": [],
   "source": [
    "sales = data['Sales']\n",
    "#b = sales"
   ]
  },
  {
   "cell_type": "markdown",
   "id": "342ab335",
   "metadata": {},
   "source": [
    "Extract the 'Radio' column from the DataFrame."
   ]
  },
  {
   "cell_type": "code",
   "execution_count": null,
   "id": "92f3d374",
   "metadata": {},
   "outputs": [],
   "source": [
    "radio_expenditures = data['Radio']\n",
    "#c = radio_expenditures"
   ]
  },
  {
   "cell_type": "markdown",
   "id": "901e3c38",
   "metadata": {},
   "source": [
    "Extract the 'Newspaper' column from the DataFrame."
   ]
  },
  {
   "cell_type": "code",
   "execution_count": null,
   "id": "fe2d021e",
   "metadata": {},
   "outputs": [],
   "source": [
    "newspaper_expenditures = data['Newspaper']\n",
    "#d = newspaper_expenditures"
   ]
  },
  {
   "cell_type": "markdown",
   "id": "5f48a28f",
   "metadata": {},
   "source": [
    "Create and display a histogram of TV expenditures."
   ]
  },
  {
   "cell_type": "code",
   "execution_count": null,
   "id": "968029e6",
   "metadata": {},
   "outputs": [],
   "source": [
    "import matplotlib.pyplot as plt\n",
    "\n",
    "plt.hist(tv_expenditures, bins=10)\n",
    "plt.title('TV Expenditures Histogram')\n",
    "plt.xlabel('TV Expenditures')\n",
    "plt.ylabel('Frequency')\n",
    "plt.show()"
   ]
  },
  {
   "cell_type": "markdown",
   "id": "c7ebde1f",
   "metadata": {},
   "source": [
    "Create and display a joint plot for TV expenditures vs Sales."
   ]
  },
  {
   "cell_type": "code",
   "execution_count": null,
   "id": "5b9e6bca",
   "metadata": {},
   "outputs": [],
   "source": [
    "import seaborn as sns\n",
    "\n",
    "sns.jointplot(x=sales, y=tv_expenditures)\n",
    "plt.title('TV vs Sales Joint Plot')\n",
    "plt.show()"
   ]
  },
  {
   "cell_type": "markdown",
   "id": "ec4f2e1c",
   "metadata": {},
   "source": [
    "Create and display a histogram of Radio expenditures."
   ]
  },
  {
   "cell_type": "code",
   "execution_count": null,
   "id": "c8f8c6e6",
   "metadata": {},
   "outputs": [],
   "source": [
    "plt.hist(radio_expenditures, bins=10)\n",
    "plt.title('Radio Expenditures Histogram')\n",
    "plt.xlabel('Radio Expenditures')\n",
    "plt.ylabel('Frequency')\n",
    "plt.show()"
   ]
  },
  {
   "cell_type": "markdown",
   "id": "640b845b",
   "metadata": {},
   "source": [
    "Create and display a histogram of Newspaper expenditures."
   ]
  },
  {
   "cell_type": "code",
   "execution_count": null,
   "id": "5ea5ec87",
   "metadata": {},
   "outputs": [],
   "source": [
    "plt.hist(newspaper_expenditures, bins=10)\n",
    "plt.title('Newspaper Expenditures Histogram')\n",
    "plt.xlabel('Newspaper Expenditures')\n",
    "plt.ylabel('Frequency')\n",
    "plt.show()"
   ]
  },
  {
   "cell_type": "markdown",
   "id": "346c3273",
   "metadata": {},
   "source": [
    "Calculate and display a heatmap of the correlation matrix."
   ]
  },
  {
   "cell_type": "code",
   "execution_count": null,
   "id": "d542423c",
   "metadata": {},
   "outputs": [],
   "source": [
    "correlation_matrix = data.corr()\n",
    "\n",
    "sns.heatmap(correlation_matrix, annot=True)\n",
    "plt.title('Correlation Heatmap')\n",
    "plt.show()"
   ]
  }
 ],
 "metadata": {
  "kernelspec": {
   "display_name": "Python 3",
   "language": "python",
   "name": "python3"
  },
  "language_info": {
   "codemirror_mode": {
    "name": "ipython",
    "version": 3
   },
   "file_extension": ".py",
   "mimetype": "text/x-python",
   "name": "python",
   "nbconvert_exporter": "python",
   "pygments_lexer": "ipython3",
   "version": "3.8.5"
  }
 },
 "nbformat": 4,
 "nbformat_minor": 5
}
