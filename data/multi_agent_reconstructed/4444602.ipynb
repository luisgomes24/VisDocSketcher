{
 "cells": [
  {
   "cell_type": "markdown",
   "id": "47b3c74a",
   "metadata": {},
   "source": [
    "Load the dataset 'train.csv' into a pandas DataFrame."
   ]
  },
  {
   "cell_type": "code",
   "execution_count": null,
   "id": "44c820b2",
   "metadata": {},
   "outputs": [],
   "source": [
    "import pandas as pd\n",
    "home_data = pd.read_csv('train.csv')"
   ]
  },
  {
   "cell_type": "markdown",
   "id": "9d6d7c84",
   "metadata": {},
   "source": [
    "Extract the target variable from the DataFrame."
   ]
  },
  {
   "cell_type": "code",
   "execution_count": null,
   "id": "84db1bdc",
   "metadata": {},
   "outputs": [],
   "source": [
    "y = home_data['target_column']"
   ]
  },
  {
   "cell_type": "markdown",
   "id": "09b6cea5",
   "metadata": {},
   "source": [
    "Define features by dropping the target variable from the DataFrame."
   ]
  },
  {
   "cell_type": "code",
   "execution_count": null,
   "id": "4af5c476",
   "metadata": {},
   "outputs": [],
   "source": [
    "X = home_data.drop(columns=['target_column'])"
   ]
  },
  {
   "cell_type": "markdown",
   "id": "437c4b3c",
   "metadata": {},
   "source": [
    "Split the data into training and validation sets."
   ]
  },
  {
   "cell_type": "code",
   "execution_count": null,
   "id": "c80ba39b",
   "metadata": {},
   "outputs": [],
   "source": [
    "from sklearn.model_selection import train_test_split\n",
    "train_X, val_X, train_y, val_y = train_test_split(X, y, test_size=0.2)"
   ]
  },
  {
   "cell_type": "markdown",
   "id": "39c8c430",
   "metadata": {},
   "source": [
    "Train a Decision Tree Regressor model on the training data."
   ]
  },
  {
   "cell_type": "code",
   "execution_count": null,
   "id": "1e5dd442",
   "metadata": {},
   "outputs": [],
   "source": [
    "from sklearn.tree import DecisionTreeRegressor\n",
    "iowa_model = DecisionTreeRegressor()\n",
    "iowa_model.fit(train_X, train_y)"
   ]
  },
  {
   "cell_type": "markdown",
   "id": "a4a88b2f",
   "metadata": {},
   "source": [
    "Generate predictions using the validation features."
   ]
  },
  {
   "cell_type": "code",
   "execution_count": null,
   "id": "6116f4f4",
   "metadata": {},
   "outputs": [],
   "source": [
    "val_predictions = iowa_model.predict(val_X)"
   ]
  },
  {
   "cell_type": "markdown",
   "id": "d8e3d0dd",
   "metadata": {},
   "source": [
    "Train a Random Forest Regressor model on the training data."
   ]
  },
  {
   "cell_type": "code",
   "execution_count": null,
   "id": "f28f570f",
   "metadata": {},
   "outputs": [],
   "source": [
    "from sklearn.ensemble import RandomForestRegressor\n",
    "rf_model = RandomForestRegressor()\n",
    "rf_model.fit(train_X, train_y)"
   ]
  },
  {
   "cell_type": "markdown",
   "id": "490141a6",
   "metadata": {},
   "source": [
    "Generate predictions using the Random Forest model on the validation features."
   ]
  },
  {
   "cell_type": "code",
   "execution_count": null,
   "id": "6a11e045",
   "metadata": {},
   "outputs": [],
   "source": [
    "rf_val_predictions = rf_model.predict(val_X)"
   ]
  },
  {
   "cell_type": "markdown",
   "id": "ccdfcef2",
   "metadata": {},
   "source": [
    "Evaluate the Random Forest model by calculating mean absolute error."
   ]
  },
  {
   "cell_type": "code",
   "execution_count": null,
   "id": "15775bd2",
   "metadata": {},
   "outputs": [],
   "source": [
    "from sklearn.metrics import mean_absolute_error\n",
    "rf_val_mae = mean_absolute_error(val_y, rf_val_predictions)"
   ]
  }
 ],
 "metadata": {
  "kernelspec": {
   "display_name": "Python 3",
   "language": "python",
   "name": "python3"
  },
  "language_info": {
   "codemirror_mode": {
    "name": "ipython",
    "version": 3
   },
   "file_extension": ".py",
   "mimetype": "text/x-python",
   "name": "python",
   "nbconvert_exporter": "python",
   "pygments_lexer": "ipython3",
   "version": "3.8.5"
  }
 },
 "nbformat": 4,
 "nbformat_minor": 5
}
