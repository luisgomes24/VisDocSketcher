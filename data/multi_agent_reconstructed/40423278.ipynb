{
 "cells": [
  {
   "cell_type": "markdown",
   "id": "5ddfd2b5",
   "metadata": {},
   "source": [
    "Initializes a list L and returns its elements."
   ]
  },
  {
   "cell_type": "code",
   "execution_count": null,
   "id": "a061f90f",
   "metadata": {},
   "outputs": [],
   "source": [
    "L = [1, 2, 3, 4, 5]\n",
    "list_elements = list(L)"
   ]
  },
  {
   "cell_type": "markdown",
   "id": "00997064",
   "metadata": {},
   "source": [
    "Defines teams and fetches corresponding captain names."
   ]
  },
  {
   "cell_type": "code",
   "execution_count": null,
   "id": "449c68d6",
   "metadata": {},
   "outputs": [],
   "source": [
    "teams = {'A': 'Team A', 'B': 'Team B', 'C': 'Team C'}\n",
    "captains = {key: 'Captain ' + key for key in teams.keys()}"
   ]
  },
  {
   "cell_type": "markdown",
   "id": "dd7f490e",
   "metadata": {},
   "source": [
    "Defines a list of racers and swaps their positions."
   ]
  },
  {
   "cell_type": "code",
   "execution_count": null,
   "id": "1c60fe92",
   "metadata": {},
   "outputs": [],
   "source": [
    "racers = ['Racer 1', 'Racer 2', 'Racer 3']\n",
    "racers[0], racers[1] = racers[1], racers[0]"
   ]
  },
  {
   "cell_type": "markdown",
   "id": "5fdc4127",
   "metadata": {},
   "source": [
    "Calculates the lengths of the defined lists."
   ]
  },
  {
   "cell_type": "code",
   "execution_count": null,
   "id": "0777c039",
   "metadata": {},
   "outputs": [],
   "source": [
    "lengths = [len(list_elements), len(teams), len(racers)]"
   ]
  },
  {
   "cell_type": "markdown",
   "id": "a89e0fb4",
   "metadata": {},
   "source": [
    "Defines arrival times and checks frequency of arrivals."
   ]
  },
  {
   "cell_type": "code",
   "execution_count": null,
   "id": "a8ff10b5",
   "metadata": {},
   "outputs": [],
   "source": [
    "arrivals = [30, 35, 40, 45, 50]\n",
    "arrivals_count = {time: arrivals.count(time) for time in set(arrivals)}"
   ]
  }
 ],
 "metadata": {
  "kernelspec": {
   "display_name": "Python 3",
   "language": "python",
   "name": "python3"
  },
  "language_info": {
   "codemirror_mode": {
    "name": "ipython",
    "version": 3
   },
   "file_extension": ".py",
   "mimetype": "text/x-python",
   "name": "python",
   "nbconvert_exporter": "python",
   "pygments_lexer": "ipython3",
   "version": "3.8.5"
  }
 },
 "nbformat": 4,
 "nbformat_minor": 5
}
