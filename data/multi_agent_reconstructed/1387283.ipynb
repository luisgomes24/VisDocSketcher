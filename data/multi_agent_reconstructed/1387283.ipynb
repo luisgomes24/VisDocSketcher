{
 "cells": [
  {
   "cell_type": "markdown",
   "id": "299e650a",
   "metadata": {},
   "source": [
    "Load the CSV file into a pandas DataFrame."
   ]
  },
  {
   "cell_type": "code",
   "execution_count": null,
   "id": "744d9f3b",
   "metadata": {},
   "outputs": [],
   "source": [
    "import pandas as pd\n",
    "df1 = pd.read_csv('../input/rodent-inspection.csv')"
   ]
  },
  {
   "cell_type": "markdown",
   "id": "1d68869d",
   "metadata": {},
   "source": [
    "Generate a histogram of the DataFrame to visualize the distribution of values."
   ]
  },
  {
   "cell_type": "code",
   "execution_count": null,
   "id": "8265e161",
   "metadata": {},
   "outputs": [],
   "source": [
    "import matplotlib.pyplot as plt\n",
    "df1.hist()\n",
    "plt.title('Histogram')\n",
    "plt.xlabel('Value Range')\n",
    "plt.ylabel('Frequency')\n",
    "plt.show()"
   ]
  },
  {
   "cell_type": "markdown",
   "id": "94e0b17c",
   "metadata": {},
   "source": [
    "Create a correlation matrix to illustrate relationships between variables."
   ]
  },
  {
   "cell_type": "code",
   "execution_count": null,
   "id": "dac43d26",
   "metadata": {},
   "outputs": [],
   "source": [
    "import seaborn as sns\n",
    "sns.heatmap(df1.corr(), annot=True)\n",
    "plt.title('Correlation Matrix')\n",
    "plt.show()"
   ]
  },
  {
   "cell_type": "markdown",
   "id": "b68147c3",
   "metadata": {},
   "source": [
    "Display a scatter matrix to visualize pairwise relationships in the dataset."
   ]
  },
  {
   "cell_type": "code",
   "execution_count": null,
   "id": "b56039e6",
   "metadata": {},
   "outputs": [],
   "source": [
    "sns.pairplot(df1)\n",
    "plt.title('Scatter Matrix')\n",
    "plt.show()"
   ]
  },
  {
   "cell_type": "markdown",
   "id": "366ca7ba",
   "metadata": {},
   "source": [
    "Perform PCA to reduce dimensionality and visualize variance explained by components."
   ]
  },
  {
   "cell_type": "code",
   "execution_count": null,
   "id": "42428fbd",
   "metadata": {},
   "outputs": [],
   "source": [
    "from sklearn.decomposition import PCA\n",
    "from sklearn.preprocessing import StandardScaler\n",
    "scaler = StandardScaler()\n",
    "scaled_data = scaler.fit_transform(df1)\n",
    "pca = PCA(n_components=2)\n",
    "pca_result = pca.fit_transform(scaled_data)\n",
    "plt.bar(['A', 'B', 'C'], pca.explained_variance_ratio_)\n",
    "plt.title('PCA')\n",
    "plt.ylabel('Variance Explained')\n",
    "plt.show()"
   ]
  }
 ],
 "metadata": {
  "kernelspec": {
   "display_name": "Python 3",
   "language": "python",
   "name": "python3"
  },
  "language_info": {
   "codemirror_mode": {
    "name": "ipython",
    "version": 3
   },
   "file_extension": ".py",
   "mimetype": "text/x-python",
   "name": "python",
   "nbconvert_exporter": "python",
   "pygments_lexer": "ipython3",
   "version": "3.8.5"
  }
 },
 "nbformat": 4,
 "nbformat_minor": 5
}
