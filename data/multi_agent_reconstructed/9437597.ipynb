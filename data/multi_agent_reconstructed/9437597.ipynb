{
 "cells": [
  {
   "cell_type": "markdown",
   "id": "0948592e",
   "metadata": {},
   "source": [
    "Generate data from the training images directory using ImageDataGenerator."
   ]
  },
  {
   "cell_type": "code",
   "execution_count": null,
   "id": "116fba56",
   "metadata": {},
   "outputs": [],
   "source": [
    "from keras.preprocessing.image import ImageDataGenerator\n",
    "train_datagen = ImageDataGenerator(rescale=1./255)\n",
    "train_generator = train_datagen.flow_from_directory('train_directory', target_size=(224, 224), class_mode='categorical')"
   ]
  },
  {
   "cell_type": "markdown",
   "id": "f34ca546",
   "metadata": {},
   "source": [
    "Generate data from the validation images directory."
   ]
  },
  {
   "cell_type": "code",
   "execution_count": null,
   "id": "d2dbb279",
   "metadata": {},
   "outputs": [],
   "source": [
    "validation_datagen = ImageDataGenerator(rescale=1./255)\n",
    "validation_generator = validation_datagen.flow_from_directory('validation_directory', target_size=(224, 224), class_mode='categorical')"
   ]
  },
  {
   "cell_type": "markdown",
   "id": "17b20871",
   "metadata": {},
   "source": [
    "Load the pre-trained ResNet50 model without the top layers."
   ]
  },
  {
   "cell_type": "code",
   "execution_count": null,
   "id": "7b1f4f0b",
   "metadata": {},
   "outputs": [],
   "source": [
    "from keras.applications import ResNet50\n",
    "base_model = ResNet50(weights='imagenet', include_top=False, input_shape=(224, 224, 3))"
   ]
  },
  {
   "cell_type": "markdown",
   "id": "e2b05aac",
   "metadata": {},
   "source": [
    "Build a new sequential model with the loaded base model."
   ]
  },
  {
   "cell_type": "code",
   "execution_count": null,
   "id": "edfd0004",
   "metadata": {},
   "outputs": [],
   "source": [
    "from keras.models import Sequential\n",
    "from keras.layers import Flatten, Dense\n",
    "my_new_model = Sequential()\n",
    "my_new_model.add(base_model)\n",
    "my_new_model.add(Flatten())\n",
    "my_new_model.add(Dense(256, activation='relu'))\n",
    "my_new_model.add(Dense(num_classes, activation='softmax'))"
   ]
  },
  {
   "cell_type": "markdown",
   "id": "4808cde4",
   "metadata": {},
   "source": [
    "Compile the model using the Adam optimizer and categorical crossentropy loss."
   ]
  },
  {
   "cell_type": "code",
   "execution_count": null,
   "id": "fada8e55",
   "metadata": {},
   "outputs": [],
   "source": [
    "my_new_model.compile(optimizer='adam', loss='categorical_crossentropy', metrics=['accuracy'])"
   ]
  },
  {
   "cell_type": "markdown",
   "id": "6578685c",
   "metadata": {},
   "source": [
    "Train the model using data from the generators."
   ]
  },
  {
   "cell_type": "code",
   "execution_count": null,
   "id": "029bad83",
   "metadata": {},
   "outputs": [],
   "source": [
    "history = my_new_model.fit(train_generator, epochs=10, validation_data=validation_generator)"
   ]
  },
  {
   "cell_type": "markdown",
   "id": "2e79cc64",
   "metadata": {},
   "source": [
    "Output the training statistics after fitting the model."
   ]
  },
  {
   "cell_type": "code",
   "execution_count": null,
   "id": "bcdbdc80",
   "metadata": {},
   "outputs": [],
   "source": [
    "fit_stats = history.history"
   ]
  }
 ],
 "metadata": {
  "kernelspec": {
   "display_name": "Python 3",
   "language": "python",
   "name": "python3"
  },
  "language_info": {
   "codemirror_mode": {
    "name": "ipython",
    "version": 3
   },
   "file_extension": ".py",
   "mimetype": "text/x-python",
   "name": "python",
   "nbconvert_exporter": "python",
   "pygments_lexer": "ipython3",
   "version": "3.8.5"
  }
 },
 "nbformat": 4,
 "nbformat_minor": 5
}
