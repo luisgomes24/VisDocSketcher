{
 "cells": [
  {
   "cell_type": "markdown",
   "id": "96e75a7f",
   "metadata": {},
   "source": [
    "Load training feature data from 'train_features.csv'."
   ]
  },
  {
   "cell_type": "code",
   "execution_count": null,
   "id": "7ba659b0",
   "metadata": {},
   "outputs": [],
   "source": [
    "import pandas as pd\n",
    "df_Train = pd.read_csv('train_features.csv')"
   ]
  },
  {
   "cell_type": "markdown",
   "id": "b9e73ddb",
   "metadata": {},
   "source": [
    "Load training target data (scored) from 'train_targets_scored.csv'."
   ]
  },
  {
   "cell_type": "code",
   "execution_count": null,
   "id": "8d60ee4e",
   "metadata": {},
   "outputs": [],
   "source": [
    "df_Train_scored = pd.read_csv('train_targets_scored.csv')"
   ]
  },
  {
   "cell_type": "markdown",
   "id": "e27ddb94",
   "metadata": {},
   "source": [
    "Load training target data (nonscored) from 'train_targets_nonscored.csv'."
   ]
  },
  {
   "cell_type": "code",
   "execution_count": null,
   "id": "ac5a967c",
   "metadata": {},
   "outputs": [],
   "source": [
    "df_Train_unscored = pd.read_csv('train_targets_nonscored.csv')"
   ]
  },
  {
   "cell_type": "markdown",
   "id": "0546fe75",
   "metadata": {},
   "source": [
    "Load test feature data from 'test_features.csv'."
   ]
  },
  {
   "cell_type": "code",
   "execution_count": null,
   "id": "0085f9e8",
   "metadata": {},
   "outputs": [],
   "source": [
    "df_Test = pd.read_csv('test_features.csv')"
   ]
  },
  {
   "cell_type": "markdown",
   "id": "72ac9e65",
   "metadata": {},
   "source": [
    "Perform exploratory data analysis (EDA) using pairplot for visualization."
   ]
  },
  {
   "cell_type": "code",
   "execution_count": null,
   "id": "30581c56",
   "metadata": {},
   "outputs": [],
   "source": [
    "import seaborn as sns\n",
    "import matplotlib.pyplot as plt\n",
    "sns.pairplot(df_Train)\n",
    "plt.show()"
   ]
  },
  {
   "cell_type": "markdown",
   "id": "4d4020ae",
   "metadata": {},
   "source": [
    "Train a random forest model using the training features and targets."
   ]
  },
  {
   "cell_type": "code",
   "execution_count": null,
   "id": "f5a347bd",
   "metadata": {},
   "outputs": [],
   "source": [
    "from sklearn.ensemble import RandomForestClassifier\n",
    "model = RandomForestClassifier()\n",
    "model.fit(df_Train, df_Train_scored)"
   ]
  },
  {
   "cell_type": "markdown",
   "id": "aef37d81",
   "metadata": {},
   "source": [
    "Evaluate model performance using accuracy score."
   ]
  },
  {
   "cell_type": "code",
   "execution_count": null,
   "id": "2369ec31",
   "metadata": {},
   "outputs": [],
   "source": [
    "from sklearn.metrics import accuracy_score\n",
    "predictions = model.predict(df_Train)\n",
    "evaluation = accuracy_score(df_Train_scored, predictions)"
   ]
  },
  {
   "cell_type": "markdown",
   "id": "aaa75e03",
   "metadata": {},
   "source": [
    "Visualize additional insights with a scatter plot."
   ]
  },
  {
   "cell_type": "code",
   "execution_count": null,
   "id": "7d1005e2",
   "metadata": {},
   "outputs": [],
   "source": [
    "import matplotlib.pyplot as plt\n",
    "sns.scatterplot(x=df_Train['feature1'], y=predictions)\n",
    "plt.show()"
   ]
  },
  {
   "cell_type": "markdown",
   "id": "7e3c6f9f",
   "metadata": {},
   "source": [
    "Predict probabilities for the test set using the trained model."
   ]
  },
  {
   "cell_type": "code",
   "execution_count": null,
   "id": "9d8ae16f",
   "metadata": {},
   "outputs": [],
   "source": [
    "test_predictions = model.predict_proba(df_Test)"
   ]
  }
 ],
 "metadata": {
  "kernelspec": {
   "display_name": "Python 3",
   "language": "python",
   "name": "python3"
  },
  "language_info": {
   "codemirror_mode": {
    "name": "ipython",
    "version": 3
   },
   "file_extension": ".py",
   "mimetype": "text/x-python",
   "name": "python",
   "nbconvert_exporter": "python",
   "pygments_lexer": "ipython3",
   "version": "3.8.5"
  }
 },
 "nbformat": 4,
 "nbformat_minor": 5
}
