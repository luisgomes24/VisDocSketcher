{
 "cells": [
  {
   "cell_type": "markdown",
   "id": "f72b9c4d",
   "metadata": {},
   "source": [
    "Load the dataset from 'heart.csv' into a DataFrame."
   ]
  },
  {
   "cell_type": "code",
   "execution_count": null,
   "id": "2387318b",
   "metadata": {},
   "outputs": [],
   "source": [
    "import pandas as pd\n",
    "df = pd.read_csv('heart.csv')"
   ]
  },
  {
   "cell_type": "markdown",
   "id": "9fce095d",
   "metadata": {},
   "source": [
    "Display the first few rows and summary statistics of the DataFrame."
   ]
  },
  {
   "cell_type": "code",
   "execution_count": null,
   "id": "c4594e5c",
   "metadata": {},
   "outputs": [],
   "source": [
    "print(df.head())\n",
    "print(df.describe())"
   ]
  },
  {
   "cell_type": "markdown",
   "id": "55d63dc9",
   "metadata": {},
   "source": [
    "Check for null values in the DataFrame."
   ]
  },
  {
   "cell_type": "code",
   "execution_count": null,
   "id": "1d23eec8",
   "metadata": {},
   "outputs": [],
   "source": [
    "if df.isnull().sum().sum() == 0:\n",
    "    print('Null check: None found')"
   ]
  },
  {
   "cell_type": "markdown",
   "id": "f3b1d374",
   "metadata": {},
   "source": [
    "Normalize selected columns of the DataFrame."
   ]
  },
  {
   "cell_type": "code",
   "execution_count": null,
   "id": "2496c02b",
   "metadata": {},
   "outputs": [],
   "source": [
    "from sklearn.preprocessing import MinMaxScaler\n",
    "scaler = MinMaxScaler()\n",
    "norm_cols = df[['col1', 'col2']].columns\n",
    "df[norm_cols] = scaler.fit_transform(df[norm_cols])"
   ]
  },
  {
   "cell_type": "markdown",
   "id": "f7b61ac1",
   "metadata": {},
   "source": [
    "Split the dataset into training and testing sets."
   ]
  },
  {
   "cell_type": "code",
   "execution_count": null,
   "id": "6ed30b84",
   "metadata": {},
   "outputs": [],
   "source": [
    "from sklearn.model_selection import train_test_split\n",
    "X = df.drop('target_column', axis=1)\n",
    "y = df['target_column']\n",
    "X_train, X_test, y_train, y_test = train_test_split(X, y, test_size=0.2, random_state=42)"
   ]
  },
  {
   "cell_type": "markdown",
   "id": "30b8e44c",
   "metadata": {},
   "source": [
    "Train a Logistic Regression model on the training data."
   ]
  },
  {
   "cell_type": "code",
   "execution_count": null,
   "id": "6f1abddd",
   "metadata": {},
   "outputs": [],
   "source": [
    "from sklearn.linear_model import LogisticRegression\n",
    "model = LogisticRegression()\n",
    "model.fit(X_train, y_train)"
   ]
  },
  {
   "cell_type": "markdown",
   "id": "8cfd2d69",
   "metadata": {},
   "source": [
    "Make predictions on the test dataset."
   ]
  },
  {
   "cell_type": "code",
   "execution_count": null,
   "id": "619715e0",
   "metadata": {},
   "outputs": [],
   "source": [
    "y_pred = model.predict(X_test)"
   ]
  },
  {
   "cell_type": "markdown",
   "id": "41bd48d3",
   "metadata": {},
   "source": [
    "Calculate the accuracy score of the predictions."
   ]
  },
  {
   "cell_type": "code",
   "execution_count": null,
   "id": "01afd0f3",
   "metadata": {},
   "outputs": [],
   "source": [
    "from sklearn.metrics import accuracy_score\n",
    "acc = accuracy_score(y_test, y_pred)"
   ]
  },
  {
   "cell_type": "markdown",
   "id": "416e67aa",
   "metadata": {},
   "source": [
    "Display the calculated accuracy percentage."
   ]
  },
  {
   "cell_type": "code",
   "execution_count": null,
   "id": "7c0a6bfa",
   "metadata": {},
   "outputs": [],
   "source": [
    "print(f'Accuracy: {acc * 100:.2f}%')"
   ]
  }
 ],
 "metadata": {
  "kernelspec": {
   "display_name": "Python 3",
   "language": "python",
   "name": "python3"
  },
  "language_info": {
   "codemirror_mode": {
    "name": "ipython",
    "version": 3
   },
   "file_extension": ".py",
   "mimetype": "text/x-python",
   "name": "python",
   "nbconvert_exporter": "python",
   "pygments_lexer": "ipython3",
   "version": "3.8.5"
  }
 },
 "nbformat": 4,
 "nbformat_minor": 5
}
