{
 "cells": [
  {
   "cell_type": "markdown",
   "id": "2886385f",
   "metadata": {},
   "source": [
    "Set the path for training data and fetch image files using glob."
   ]
  },
  {
   "cell_type": "code",
   "execution_count": null,
   "id": "c4a7da16",
   "metadata": {},
   "outputs": [],
   "source": [
    "train_path = 'path/to/training/data'\n",
    "import glob\n",
    "files = glob.glob(train_path + '/*.jpg')"
   ]
  },
  {
   "cell_type": "markdown",
   "id": "cbc9e75d",
   "metadata": {},
   "source": [
    "Create data loaders for training images using Fastai's ImageDataLoaders."
   ]
  },
  {
   "cell_type": "code",
   "execution_count": null,
   "id": "db14662c",
   "metadata": {},
   "outputs": [],
   "source": [
    "from fastai.vision.all import DataBlock, ImageDataLoaders\n",
    "train_loader = ImageDataLoaders.from_name_re(train_path, files)"
   ]
  },
  {
   "cell_type": "markdown",
   "id": "c1e3b39f",
   "metadata": {},
   "source": [
    "Set the path for test data and fetch test image files."
   ]
  },
  {
   "cell_type": "code",
   "execution_count": null,
   "id": "7fa9cfda",
   "metadata": {},
   "outputs": [],
   "source": [
    "test_path = 'path/to/test/data'\n",
    "test_files = glob.glob(test_path + '/*.jpg')"
   ]
  },
  {
   "cell_type": "markdown",
   "id": "fe75dd33",
   "metadata": {},
   "source": [
    "Create a learner object using a ResNet34 model architecture."
   ]
  },
  {
   "cell_type": "code",
   "execution_count": null,
   "id": "079df37c",
   "metadata": {},
   "outputs": [],
   "source": [
    "from fastai.vision.all import cnn_learner, resnet34\n",
    "learn = cnn_learner(train_loader, resnet34, metrics=accuracy)"
   ]
  },
  {
   "cell_type": "markdown",
   "id": "1b5a77f8",
   "metadata": {},
   "source": [
    "Train the model using fine-tuning for a specified number of epochs."
   ]
  },
  {
   "cell_type": "code",
   "execution_count": null,
   "id": "ed27df16",
   "metadata": {},
   "outputs": [],
   "source": [
    "learn.fine_tune(epochs=5)"
   ]
  },
  {
   "cell_type": "markdown",
   "id": "afa24dcb",
   "metadata": {},
   "source": [
    "Fetch predictions from the trained model on the validation set."
   ]
  },
  {
   "cell_type": "code",
   "execution_count": null,
   "id": "39335579",
   "metadata": {},
   "outputs": [],
   "source": [
    "preds, _ = learn.get_preds()"
   ]
  },
  {
   "cell_type": "markdown",
   "id": "a9aec97f",
   "metadata": {},
   "source": [
    "Map predictions to their corresponding labels."
   ]
  },
  {
   "cell_type": "code",
   "execution_count": null,
   "id": "14b1b0f2",
   "metadata": {},
   "outputs": [],
   "source": [
    "from fastai.metrics import accuracy\n",
    "results = preds.argmax(dim=1)"
   ]
  },
  {
   "cell_type": "markdown",
   "id": "126d2cba",
   "metadata": {},
   "source": [
    "Store the predicted labels in a DataFrame for visualization."
   ]
  },
  {
   "cell_type": "code",
   "execution_count": null,
   "id": "9c781431",
   "metadata": {},
   "outputs": [],
   "source": [
    "import pandas as pd\n",
    "results_df = pd.DataFrame({'Predictions': results})"
   ]
  }
 ],
 "metadata": {
  "kernelspec": {
   "display_name": "Python 3",
   "language": "python",
   "name": "python3"
  },
  "language_info": {
   "codemirror_mode": {
    "name": "ipython",
    "version": 3
   },
   "file_extension": ".py",
   "mimetype": "text/x-python",
   "name": "python",
   "nbconvert_exporter": "python",
   "pygments_lexer": "ipython3",
   "version": "3.8.5"
  }
 },
 "nbformat": 4,
 "nbformat_minor": 5
}
