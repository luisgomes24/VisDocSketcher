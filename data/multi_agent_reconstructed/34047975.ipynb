{
 "cells": [
  {
   "cell_type": "markdown",
   "id": "4327c495",
   "metadata": {},
   "source": [
    "Load the dataset from a CSV file into a DataFrame."
   ]
  },
  {
   "cell_type": "code",
   "execution_count": null,
   "id": "9727678c",
   "metadata": {},
   "outputs": [],
   "source": [
    "import pandas as pd\n",
    "\n",
    "df = pd.read_csv('Gold Price (2013-2023).csv')"
   ]
  },
  {
   "cell_type": "markdown",
   "id": "128effea",
   "metadata": {},
   "source": [
    "Split the data into training and testing datasets based on the date."
   ]
  },
  {
   "cell_type": "code",
   "execution_count": null,
   "id": "d3f512ff",
   "metadata": {},
   "outputs": [],
   "source": [
    "train_data = df[df['Date'] < '2022-01-01']\n",
    "test_data = df[df['Date'] >= '2022-01-01']"
   ]
  },
  {
   "cell_type": "markdown",
   "id": "4f59bd70",
   "metadata": {},
   "source": [
    "Extract features and target variable for training and testing."
   ]
  },
  {
   "cell_type": "code",
   "execution_count": null,
   "id": "8f9f74c2",
   "metadata": {},
   "outputs": [],
   "source": [
    "X_train = train_data[['Feature1', 'Feature2']].values\n",
    "Y_train = train_data['Target'].values\n",
    "X_test = test_data[['Feature1', 'Feature2']].values\n",
    "Y_test = test_data['Target'].values"
   ]
  },
  {
   "cell_type": "markdown",
   "id": "0d3f4139",
   "metadata": {},
   "source": [
    "Define and compile the LSTM model."
   ]
  },
  {
   "cell_type": "code",
   "execution_count": null,
   "id": "1da6e850",
   "metadata": {},
   "outputs": [],
   "source": [
    "from keras.models import Sequential\n",
    "from keras.layers import LSTM, Dense\n",
    "\n",
    "model = Sequential()\n",
    "model.add(LSTM(50, activation='relu', input_shape=(X_train.shape[1], 1)))\n",
    "model.add(Dense(1))\n",
    "model.compile(optimizer='adam', loss='mse')"
   ]
  },
  {
   "cell_type": "markdown",
   "id": "cb16a220",
   "metadata": {},
   "source": [
    "Train the LSTM model and store the training history."
   ]
  },
  {
   "cell_type": "code",
   "execution_count": null,
   "id": "d732b8b8",
   "metadata": {},
   "outputs": [],
   "source": [
    "history = model.fit(X_train, Y_train, epochs=200, batch_size=32, validation_data=(X_test, Y_test))"
   ]
  },
  {
   "cell_type": "markdown",
   "id": "88fe5fe7",
   "metadata": {},
   "source": [
    "Generate predictions using the test data."
   ]
  },
  {
   "cell_type": "code",
   "execution_count": null,
   "id": "e5283c78",
   "metadata": {},
   "outputs": [],
   "source": [
    "Y_pred = model.predict(X_test)"
   ]
  },
  {
   "cell_type": "markdown",
   "id": "6707425c",
   "metadata": {},
   "source": [
    "Evaluate the model performance using Mean Squared Error."
   ]
  },
  {
   "cell_type": "code",
   "execution_count": null,
   "id": "2aa80e36",
   "metadata": {},
   "outputs": [],
   "source": [
    "from sklearn.metrics import mean_squared_error\n",
    "\n",
    "result = mean_squared_error(Y_test, Y_pred)"
   ]
  }
 ],
 "metadata": {
  "kernelspec": {
   "display_name": "Python 3",
   "language": "python",
   "name": "python3"
  },
  "language_info": {
   "codemirror_mode": {
    "name": "ipython",
    "version": 3
   },
   "file_extension": ".py",
   "mimetype": "text/x-python",
   "name": "python",
   "nbconvert_exporter": "python",
   "pygments_lexer": "ipython3",
   "version": "3.8.5"
  }
 },
 "nbformat": 4,
 "nbformat_minor": 5
}
