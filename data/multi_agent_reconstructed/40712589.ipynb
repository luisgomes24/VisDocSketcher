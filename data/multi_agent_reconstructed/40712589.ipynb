{
 "cells": [
  {
   "cell_type": "markdown",
   "id": "231723dd",
   "metadata": {},
   "source": [
    "Load data from the CSV file into a DataFrame."
   ]
  },
  {
   "cell_type": "code",
   "execution_count": null,
   "id": "c205fab4",
   "metadata": {},
   "outputs": [],
   "source": [
    "import pandas as pd\n",
    "\n",
    "df = pd.read_csv('My Uber Drives - 2016.csv')"
   ]
  },
  {
   "cell_type": "markdown",
   "id": "921ba4dc",
   "metadata": {},
   "source": [
    "Convert the end_date column to datetime format."
   ]
  },
  {
   "cell_type": "code",
   "execution_count": null,
   "id": "6caab2bb",
   "metadata": {},
   "outputs": [],
   "source": [
    "df['end_date'] = pd.to_datetime(df['end_date'])"
   ]
  },
  {
   "cell_type": "markdown",
   "id": "02d58803",
   "metadata": {},
   "source": [
    "Extract and count occurrences of each purpose."
   ]
  },
  {
   "cell_type": "code",
   "execution_count": null,
   "id": "ba091173",
   "metadata": {},
   "outputs": [],
   "source": [
    "purpose_counts = df['purpose'].value_counts()"
   ]
  },
  {
   "cell_type": "markdown",
   "id": "6cc92d2b",
   "metadata": {},
   "source": [
    "Plot the counts of purposes in a bar chart."
   ]
  },
  {
   "cell_type": "code",
   "execution_count": null,
   "id": "4a0065f5",
   "metadata": {},
   "outputs": [],
   "source": [
    "purpose_counts.plot(kind='bar')\n",
    "plt.title('Purpose Counts')\n",
    "plt.show()"
   ]
  },
  {
   "cell_type": "markdown",
   "id": "bab9aed0",
   "metadata": {},
   "source": [
    "Convert the start_date column to datetime format."
   ]
  },
  {
   "cell_type": "code",
   "execution_count": null,
   "id": "fc421b80",
   "metadata": {},
   "outputs": [],
   "source": [
    "df['start_date'] = pd.to_datetime(df['start_date'])"
   ]
  },
  {
   "cell_type": "markdown",
   "id": "60d8d62a",
   "metadata": {},
   "source": [
    "Extract the month name from the start_date."
   ]
  },
  {
   "cell_type": "code",
   "execution_count": null,
   "id": "e50fe6c9",
   "metadata": {},
   "outputs": [],
   "source": [
    "df['month_name'] = df['start_date'].dt.month_name()"
   ]
  },
  {
   "cell_type": "markdown",
   "id": "ca28a707",
   "metadata": {},
   "source": [
    "Aggregate rides by month."
   ]
  },
  {
   "cell_type": "code",
   "execution_count": null,
   "id": "af3462a5",
   "metadata": {},
   "outputs": [],
   "source": [
    "rides_per_month = df['month_name'].value_counts()"
   ]
  },
  {
   "cell_type": "markdown",
   "id": "360d0059",
   "metadata": {},
   "source": [
    "Plot the aggregated rides per month in a bar chart."
   ]
  },
  {
   "cell_type": "code",
   "execution_count": null,
   "id": "0c74bc84",
   "metadata": {},
   "outputs": [],
   "source": [
    "rides_per_month.plot(kind='bar')\n",
    "plt.title('Rides per Month')\n",
    "plt.show()"
   ]
  },
  {
   "cell_type": "markdown",
   "id": "9b562b4d",
   "metadata": {},
   "source": [
    "Extract the day name from the start_date."
   ]
  },
  {
   "cell_type": "code",
   "execution_count": null,
   "id": "54c047d8",
   "metadata": {},
   "outputs": [],
   "source": [
    "df['day_name'] = df['start_date'].dt.day_name()"
   ]
  },
  {
   "cell_type": "markdown",
   "id": "720297aa",
   "metadata": {},
   "source": [
    "Aggregate rides by day."
   ]
  },
  {
   "cell_type": "code",
   "execution_count": null,
   "id": "b6de943f",
   "metadata": {},
   "outputs": [],
   "source": [
    "rides_per_day = df['day_name'].value_counts()"
   ]
  },
  {
   "cell_type": "markdown",
   "id": "a4108935",
   "metadata": {},
   "source": [
    "Plot the aggregated rides per day in a bar chart."
   ]
  },
  {
   "cell_type": "code",
   "execution_count": null,
   "id": "5f2a36cc",
   "metadata": {},
   "outputs": [],
   "source": [
    "rides_per_day.plot(kind='bar')\n",
    "plt.title('Rides per Day')\n",
    "plt.show()"
   ]
  },
  {
   "cell_type": "markdown",
   "id": "cf000eec",
   "metadata": {},
   "source": [
    "Extract and count occurrences of each start location."
   ]
  },
  {
   "cell_type": "code",
   "execution_count": null,
   "id": "c53a4503",
   "metadata": {},
   "outputs": [],
   "source": [
    "start_location_counts = df['start'].value_counts()"
   ]
  },
  {
   "cell_type": "markdown",
   "id": "2ab1f2ef",
   "metadata": {},
   "source": [
    "Plot the counts of start locations in a bar chart."
   ]
  },
  {
   "cell_type": "code",
   "execution_count": null,
   "id": "baefdffa",
   "metadata": {},
   "outputs": [],
   "source": [
    "start_location_counts.plot(kind='bar')\n",
    "plt.title('Start Location Counts')\n",
    "plt.show()"
   ]
  },
  {
   "cell_type": "markdown",
   "id": "ea903f8f",
   "metadata": {},
   "source": [
    "Extract and count occurrences of each stop location."
   ]
  },
  {
   "cell_type": "code",
   "execution_count": null,
   "id": "d16d54c9",
   "metadata": {},
   "outputs": [],
   "source": [
    "stop_location_counts = df['stop'].value_counts()"
   ]
  },
  {
   "cell_type": "markdown",
   "id": "4efd5f31",
   "metadata": {},
   "source": [
    "Plot the counts of stop locations in a bar chart."
   ]
  },
  {
   "cell_type": "code",
   "execution_count": null,
   "id": "44c18c19",
   "metadata": {},
   "outputs": [],
   "source": [
    "stop_location_counts.plot(kind='bar')\n",
    "plt.title('Stop Location Counts')\n",
    "plt.show()"
   ]
  }
 ],
 "metadata": {
  "kernelspec": {
   "display_name": "Python 3",
   "language": "python",
   "name": "python3"
  },
  "language_info": {
   "codemirror_mode": {
    "name": "ipython",
    "version": 3
   },
   "file_extension": ".py",
   "mimetype": "text/x-python",
   "name": "python",
   "nbconvert_exporter": "python",
   "pygments_lexer": "ipython3",
   "version": "3.8.5"
  }
 },
 "nbformat": 4,
 "nbformat_minor": 5
}
