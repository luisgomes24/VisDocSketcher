{
 "cells": [
  {
   "cell_type": "markdown",
   "id": "4fbd5334",
   "metadata": {},
   "source": [
    "Load the CSV file into a Pandas DataFrame."
   ]
  },
  {
   "cell_type": "code",
   "execution_count": null,
   "id": "eed291d9",
   "metadata": {},
   "outputs": [],
   "source": [
    "import pandas as pd\n",
    "news_df = pd.read_csv('news.csv')"
   ]
  },
  {
   "cell_type": "markdown",
   "id": "86f67d03",
   "metadata": {},
   "source": [
    "Filter the DataFrame to keep non-null entries from the year 2023."
   ]
  },
  {
   "cell_type": "code",
   "execution_count": null,
   "id": "8c8e3046",
   "metadata": {},
   "outputs": [],
   "source": [
    "news_df = news_df[news_df['date'].notnull() & (news_df['date'].dt.year == 2023)]"
   ]
  },
  {
   "cell_type": "markdown",
   "id": "f612ca33",
   "metadata": {},
   "source": [
    "Extract text from the filtered DataFrame into a list."
   ]
  },
  {
   "cell_type": "code",
   "execution_count": null,
   "id": "aafeb2a5",
   "metadata": {},
   "outputs": [],
   "source": [
    "docs = news_df['text'].tolist()"
   ]
  },
  {
   "cell_type": "markdown",
   "id": "f500eb7f",
   "metadata": {},
   "source": [
    "Initialize the BERTopic model."
   ]
  },
  {
   "cell_type": "code",
   "execution_count": null,
   "id": "bf529daf",
   "metadata": {},
   "outputs": [],
   "source": [
    "from bertopic import BERTopic\n",
    "model = BERTopic()"
   ]
  },
  {
   "cell_type": "markdown",
   "id": "863912fe",
   "metadata": {},
   "source": [
    "Train the model on the list of documents."
   ]
  },
  {
   "cell_type": "code",
   "execution_count": null,
   "id": "84e4d57d",
   "metadata": {},
   "outputs": [],
   "source": [
    "topics, probabilities = model.fit_transform(docs)"
   ]
  },
  {
   "cell_type": "markdown",
   "id": "b512e1a9",
   "metadata": {},
   "source": [
    "Create visualizations for the topics and clusters."
   ]
  },
  {
   "cell_type": "code",
   "execution_count": null,
   "id": "5fb85949",
   "metadata": {},
   "outputs": [],
   "source": [
    "model.visualize_documents(docs)"
   ]
  }
 ],
 "metadata": {
  "kernelspec": {
   "display_name": "Python 3",
   "language": "python",
   "name": "python3"
  },
  "language_info": {
   "codemirror_mode": {
    "name": "ipython",
    "version": 3
   },
   "file_extension": ".py",
   "mimetype": "text/x-python",
   "name": "python",
   "nbconvert_exporter": "python",
   "pygments_lexer": "ipython3",
   "version": "3.8.5"
  }
 },
 "nbformat": 4,
 "nbformat_minor": 5
}
