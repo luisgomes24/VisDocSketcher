{
 "cells": [
  {
   "cell_type": "markdown",
   "id": "d7808743",
   "metadata": {},
   "source": [
    "Load the training, testing, and sample submission datasets using pandas."
   ]
  },
  {
   "cell_type": "code",
   "execution_count": null,
   "id": "a3e36d0d",
   "metadata": {},
   "outputs": [],
   "source": [
    "import pandas as pd\n",
    "train_df = pd.read_csv('train.csv')\n",
    "test_df = pd.read_csv('test.csv')\n",
    "sample_submission_df = pd.read_csv('sample_submission.csv')"
   ]
  },
  {
   "cell_type": "markdown",
   "id": "bd6ac5f6",
   "metadata": {},
   "source": [
    "Extract the target variable (Attrition) and feature variables (Age, DistanceFromHome, TotalWorkingYears) from the training data."
   ]
  },
  {
   "cell_type": "code",
   "execution_count": null,
   "id": "42c55b73",
   "metadata": {},
   "outputs": [],
   "source": [
    "y = train_df['Attrition']\n",
    "X = train_df[['Age', 'DistanceFromHome', 'TotalWorkingYears']]"
   ]
  },
  {
   "cell_type": "markdown",
   "id": "e5494afa",
   "metadata": {},
   "source": [
    "Train a Logistic Regression model with class weights balanced to handle imbalanced classes."
   ]
  },
  {
   "cell_type": "code",
   "execution_count": null,
   "id": "d79feccc",
   "metadata": {},
   "outputs": [],
   "source": [
    "from sklearn.linear_model import LogisticRegression\n",
    "model = LogisticRegression(class_weight='balanced')\n",
    "model.fit(X, y)"
   ]
  },
  {
   "cell_type": "markdown",
   "id": "f948f143",
   "metadata": {},
   "source": [
    "Generate predicted values for the training dataset using the trained model."
   ]
  },
  {
   "cell_type": "code",
   "execution_count": null,
   "id": "1495c083",
   "metadata": {},
   "outputs": [],
   "source": [
    "y_train_predictions = model.predict(X)"
   ]
  }
 ],
 "metadata": {
  "kernelspec": {
   "display_name": "Python 3",
   "language": "python",
   "name": "python3"
  },
  "language_info": {
   "codemirror_mode": {
    "name": "ipython",
    "version": 3
   },
   "file_extension": ".py",
   "mimetype": "text/x-python",
   "name": "python",
   "nbconvert_exporter": "python",
   "pygments_lexer": "ipython3",
   "version": "3.8.5"
  }
 },
 "nbformat": 4,
 "nbformat_minor": 5
}
