{
 "cells": [
  {
   "cell_type": "markdown",
   "id": "03e174f7",
   "metadata": {},
   "source": [
    "Load the CSV data into a pandas DataFrame."
   ]
  },
  {
   "cell_type": "code",
   "execution_count": null,
   "id": "4c5b641f",
   "metadata": {},
   "outputs": [],
   "source": [
    "import pandas as pd\n",
    "\n",
    "# Load data into dataframe\n",
    "df = pd.read_csv('/kaggle/input/advertisingcsv/Advertising.csv')"
   ]
  },
  {
   "cell_type": "markdown",
   "id": "98d6db66",
   "metadata": {},
   "source": [
    "Split the DataFrame into features (X) and target (y)."
   ]
  },
  {
   "cell_type": "code",
   "execution_count": null,
   "id": "128b7180",
   "metadata": {},
   "outputs": [],
   "source": [
    "X = df.drop('target_column', axis=1)\n",
    "y = df['target_column']"
   ]
  },
  {
   "cell_type": "markdown",
   "id": "123f4f44",
   "metadata": {},
   "source": [
    "Split X and y into training and testing sets."
   ]
  },
  {
   "cell_type": "code",
   "execution_count": null,
   "id": "65e67d63",
   "metadata": {},
   "outputs": [],
   "source": [
    "from sklearn.model_selection import train_test_split\n",
    "\n",
    "X_train, X_test, y_train, y_test = train_test_split(X, y, test_size=0.2, random_state=42)"
   ]
  },
  {
   "cell_type": "markdown",
   "id": "a934fa4f",
   "metadata": {},
   "source": [
    "Train a Linear Regression model using the training data."
   ]
  },
  {
   "cell_type": "code",
   "execution_count": null,
   "id": "b387ea77",
   "metadata": {},
   "outputs": [],
   "source": [
    "from sklearn.linear_model import LinearRegression\n",
    "\n",
    "lin_model = LinearRegression()\n",
    "lin_model.fit(X_train, y_train)"
   ]
  },
  {
   "cell_type": "markdown",
   "id": "e05f2c62",
   "metadata": {},
   "source": [
    "Use the trained model to predict sales for the test set."
   ]
  },
  {
   "cell_type": "code",
   "execution_count": null,
   "id": "7adb18c2",
   "metadata": {},
   "outputs": [],
   "source": [
    "predicted_sales_1 = lin_model.predict(X_test)\n",
    "predicted_sales_2 = lin_model.predict(X_test)"
   ]
  }
 ],
 "metadata": {
  "kernelspec": {
   "display_name": "Python 3",
   "language": "python",
   "name": "python3"
  },
  "language_info": {
   "codemirror_mode": {
    "name": "ipython",
    "version": 3
   },
   "file_extension": ".py",
   "mimetype": "text/x-python",
   "name": "python",
   "nbconvert_exporter": "python",
   "pygments_lexer": "ipython3",
   "version": "3.8.5"
  }
 },
 "nbformat": 4,
 "nbformat_minor": 5
}
