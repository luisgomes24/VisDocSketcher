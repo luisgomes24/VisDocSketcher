{
 "cells": [
  {
   "cell_type": "markdown",
   "id": "35e49e32",
   "metadata": {},
   "source": [
    "Load the dataset from the specified CSV file into a DataFrame."
   ]
  },
  {
   "cell_type": "code",
   "execution_count": null,
   "id": "db695701",
   "metadata": {},
   "outputs": [],
   "source": [
    "import pandas as pd\n",
    "home_data = pd.read_csv('../input/home-data-for-ml-course/train.csv')"
   ]
  },
  {
   "cell_type": "markdown",
   "id": "202c41da",
   "metadata": {},
   "source": [
    "Define the features to be used for modeling."
   ]
  },
  {
   "cell_type": "code",
   "execution_count": null,
   "id": "828fbbdb",
   "metadata": {},
   "outputs": [],
   "source": [
    "feature_columns = ['feature1', 'feature2', 'feature3']"
   ]
  },
  {
   "cell_type": "markdown",
   "id": "335723cf",
   "metadata": {},
   "source": [
    "Create the feature set by selecting the defined features from the data."
   ]
  },
  {
   "cell_type": "code",
   "execution_count": null,
   "id": "b6f7bf05",
   "metadata": {},
   "outputs": [],
   "source": [
    "X = home_data[feature_columns]"
   ]
  },
  {
   "cell_type": "markdown",
   "id": "17e4623a",
   "metadata": {},
   "source": [
    "Extract the target variable from the dataset."
   ]
  },
  {
   "cell_type": "code",
   "execution_count": null,
   "id": "df224569",
   "metadata": {},
   "outputs": [],
   "source": [
    "y = home_data['target']"
   ]
  },
  {
   "cell_type": "markdown",
   "id": "176d48a4",
   "metadata": {},
   "source": [
    "Split the feature set and target variable into training and validation sets."
   ]
  },
  {
   "cell_type": "code",
   "execution_count": null,
   "id": "85e4eed0",
   "metadata": {},
   "outputs": [],
   "source": [
    "from sklearn.model_selection import train_test_split\n",
    "train_X, val_X, train_y, val_y = train_test_split(X, y, test_size=0.2)"
   ]
  },
  {
   "cell_type": "markdown",
   "id": "e5e210f9",
   "metadata": {},
   "source": [
    "Instantiate the Decision Tree Regressor model."
   ]
  },
  {
   "cell_type": "code",
   "execution_count": null,
   "id": "90fa1670",
   "metadata": {},
   "outputs": [],
   "source": [
    "from sklearn.tree import DecisionTreeRegressor\n",
    "model = DecisionTreeRegressor()"
   ]
  },
  {
   "cell_type": "markdown",
   "id": "9713106a",
   "metadata": {},
   "source": [
    "Train the model using the training data."
   ]
  },
  {
   "cell_type": "code",
   "execution_count": null,
   "id": "feb3bf5d",
   "metadata": {},
   "outputs": [],
   "source": [
    "model.fit(train_X, train_y)"
   ]
  },
  {
   "cell_type": "markdown",
   "id": "d8480df0",
   "metadata": {},
   "source": [
    "Use the trained model to make predictions on the validation set."
   ]
  },
  {
   "cell_type": "code",
   "execution_count": null,
   "id": "f50fd385",
   "metadata": {},
   "outputs": [],
   "source": [
    "val_predictions = model.predict(val_X)"
   ]
  },
  {
   "cell_type": "markdown",
   "id": "9b9655bc",
   "metadata": {},
   "source": [
    "Calculate the Mean Absolute Error (MAE) to evaluate model performance."
   ]
  },
  {
   "cell_type": "code",
   "execution_count": null,
   "id": "1228f8fd",
   "metadata": {},
   "outputs": [],
   "source": [
    "from sklearn.metrics import mean_absolute_error\n",
    "val_mae = mean_absolute_error(val_y, val_predictions)"
   ]
  }
 ],
 "metadata": {
  "kernelspec": {
   "display_name": "Python 3",
   "language": "python",
   "name": "python3"
  },
  "language_info": {
   "codemirror_mode": {
    "name": "ipython",
    "version": 3
   },
   "file_extension": ".py",
   "mimetype": "text/x-python",
   "name": "python",
   "nbconvert_exporter": "python",
   "pygments_lexer": "ipython3",
   "version": "3.8.5"
  }
 },
 "nbformat": 4,
 "nbformat_minor": 5
}
