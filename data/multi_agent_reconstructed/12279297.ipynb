{
 "cells": [
  {
   "cell_type": "markdown",
   "id": "504c0f04",
   "metadata": {},
   "source": [
    "Import the CSV file containing the victims' data into a DataFrame."
   ]
  },
  {
   "cell_type": "code",
   "execution_count": null,
   "id": "ae944123",
   "metadata": {},
   "outputs": [],
   "source": [
    "import pandas as pd\n",
    "\n",
    "df = pd.read_csv('20_Victims_of_rape.csv')"
   ]
  },
  {
   "cell_type": "markdown",
   "id": "6a066d27",
   "metadata": {},
   "source": [
    "Extract victims aged above 50."
   ]
  },
  {
   "cell_type": "code",
   "execution_count": null,
   "id": "278c99f8",
   "metadata": {},
   "outputs": [],
   "source": [
    "Victims_above_50 = df[df['age'] > 50]"
   ]
  },
  {
   "cell_type": "markdown",
   "id": "62b72c84",
   "metadata": {},
   "source": [
    "Extract victims aged between 30 and 50."
   ]
  },
  {
   "cell_type": "code",
   "execution_count": null,
   "id": "a356b382",
   "metadata": {},
   "outputs": [],
   "source": [
    "Victims_30_to_50 = df[(df['age'] >= 30) & (df['age'] <= 50)]"
   ]
  },
  {
   "cell_type": "markdown",
   "id": "e95139b8",
   "metadata": {},
   "source": [
    "Extract victims aged between 18 and 38."
   ]
  },
  {
   "cell_type": "code",
   "execution_count": null,
   "id": "ee2b3b26",
   "metadata": {},
   "outputs": [],
   "source": [
    "Victims_18_to_38 = df[(df['age'] >= 18) & (df['age'] <= 38)]"
   ]
  },
  {
   "cell_type": "markdown",
   "id": "dfbe8605",
   "metadata": {},
   "source": [
    "Extract victims aged between 14 and 18."
   ]
  },
  {
   "cell_type": "code",
   "execution_count": null,
   "id": "5e36850e",
   "metadata": {},
   "outputs": [],
   "source": [
    "Victims_14_to_18 = df[(df['age'] >= 14) & (df['age'] < 18)]"
   ]
  },
  {
   "cell_type": "markdown",
   "id": "8ccc0b8a",
   "metadata": {},
   "source": [
    "Extract victims aged between 10 and 14."
   ]
  },
  {
   "cell_type": "code",
   "execution_count": null,
   "id": "49b35487",
   "metadata": {},
   "outputs": [],
   "source": [
    "Victims_10_to_14 = df[(df['age'] >= 10) & (df['age'] < 14)]"
   ]
  },
  {
   "cell_type": "markdown",
   "id": "b0b50f63",
   "metadata": {},
   "source": [
    "Extract victims aged below 10."
   ]
  },
  {
   "cell_type": "code",
   "execution_count": null,
   "id": "c4d160d4",
   "metadata": {},
   "outputs": [],
   "source": [
    "Victims_upto_10 = df[df['age'] < 10]"
   ]
  },
  {
   "cell_type": "markdown",
   "id": "9d026c8c",
   "metadata": {},
   "source": [
    "Create a pie chart for victims above 50."
   ]
  },
  {
   "cell_type": "code",
   "execution_count": null,
   "id": "edc51410",
   "metadata": {},
   "outputs": [],
   "source": [
    "Victims_above_50['age'].value_counts().plot.pie()"
   ]
  },
  {
   "cell_type": "markdown",
   "id": "a99bb44f",
   "metadata": {},
   "source": [
    "Create a pie chart for victims aged 30 to 50."
   ]
  },
  {
   "cell_type": "code",
   "execution_count": null,
   "id": "5171a69d",
   "metadata": {},
   "outputs": [],
   "source": [
    "Victims_30_to_50['age'].value_counts().plot.pie()"
   ]
  },
  {
   "cell_type": "markdown",
   "id": "9c3bc66f",
   "metadata": {},
   "source": [
    "Create a pie chart for victims aged 18 to 38."
   ]
  },
  {
   "cell_type": "code",
   "execution_count": null,
   "id": "88a2d6cb",
   "metadata": {},
   "outputs": [],
   "source": [
    "Victims_18_to_38['age'].value_counts().plot.pie()"
   ]
  },
  {
   "cell_type": "markdown",
   "id": "fba85f06",
   "metadata": {},
   "source": [
    "Create a pie chart for victims aged 14 to 18."
   ]
  },
  {
   "cell_type": "code",
   "execution_count": null,
   "id": "4069fa09",
   "metadata": {},
   "outputs": [],
   "source": [
    "Victims_14_to_18['age'].value_counts().plot.pie()"
   ]
  },
  {
   "cell_type": "markdown",
   "id": "64bcc2ba",
   "metadata": {},
   "source": [
    "Create a pie chart for victims aged 10 to 14."
   ]
  },
  {
   "cell_type": "code",
   "execution_count": null,
   "id": "593911f6",
   "metadata": {},
   "outputs": [],
   "source": [
    "Victims_10_to_14['age'].value_counts().plot.pie()"
   ]
  },
  {
   "cell_type": "markdown",
   "id": "0d8d3ce3",
   "metadata": {},
   "source": [
    "Create a pie chart for victims below 10."
   ]
  },
  {
   "cell_type": "code",
   "execution_count": null,
   "id": "2f33958f",
   "metadata": {},
   "outputs": [],
   "source": [
    "Victims_upto_10['age'].value_counts().plot.pie()"
   ]
  },
  {
   "cell_type": "markdown",
   "id": "8e8f672f",
   "metadata": {},
   "source": [
    "Import the CSV file containing auto theft data into another DataFrame."
   ]
  },
  {
   "cell_type": "code",
   "execution_count": null,
   "id": "ac383325",
   "metadata": {},
   "outputs": [],
   "source": [
    "import pandas as pd\n",
    "\n",
    "df1 = pd.read_csv('30_Auto_theft.csv')"
   ]
  },
  {
   "cell_type": "markdown",
   "id": "7a38cf94",
   "metadata": {},
   "source": [
    "Summarize the data for stolen vehicles."
   ]
  },
  {
   "cell_type": "code",
   "execution_count": null,
   "id": "62b4f15f",
   "metadata": {},
   "outputs": [],
   "source": [
    "stolen_df = df1[df1['status'] == 'stolen']"
   ]
  },
  {
   "cell_type": "markdown",
   "id": "aa2c1bca",
   "metadata": {},
   "source": [
    "Summarize the data for theft incidents."
   ]
  },
  {
   "cell_type": "code",
   "execution_count": null,
   "id": "9ecc21e6",
   "metadata": {},
   "outputs": [],
   "source": [
    "theft_df = df1[df1['status'] == 'theft']"
   ]
  },
  {
   "cell_type": "markdown",
   "id": "269b7a2d",
   "metadata": {},
   "source": [
    "Summarize the data for traced vehicles."
   ]
  },
  {
   "cell_type": "code",
   "execution_count": null,
   "id": "2202bce2",
   "metadata": {},
   "outputs": [],
   "source": [
    "traced_df = df1[df1['status'] == 'traced']"
   ]
  },
  {
   "cell_type": "markdown",
   "id": "523376d6",
   "metadata": {},
   "source": [
    "Create a bar chart for stolen vehicles."
   ]
  },
  {
   "cell_type": "code",
   "execution_count": null,
   "id": "98ce8fe8",
   "metadata": {},
   "outputs": [],
   "source": [
    "stolen_df['type'].value_counts().plot.bar()"
   ]
  },
  {
   "cell_type": "markdown",
   "id": "ff41d517",
   "metadata": {},
   "source": [
    "Create a pie chart for stolen vehicles."
   ]
  },
  {
   "cell_type": "code",
   "execution_count": null,
   "id": "4a4fb48c",
   "metadata": {},
   "outputs": [],
   "source": [
    "stolen_df['type'].value_counts().plot.pie()"
   ]
  },
  {
   "cell_type": "markdown",
   "id": "cc32cda6",
   "metadata": {},
   "source": [
    "Create a bar chart for theft incidents."
   ]
  },
  {
   "cell_type": "code",
   "execution_count": null,
   "id": "82cdbef9",
   "metadata": {},
   "outputs": [],
   "source": [
    "theft_df['type'].value_counts().plot.bar()"
   ]
  },
  {
   "cell_type": "markdown",
   "id": "bc58883b",
   "metadata": {},
   "source": [
    "Create a pie chart for theft incidents."
   ]
  },
  {
   "cell_type": "code",
   "execution_count": null,
   "id": "b7eecc9e",
   "metadata": {},
   "outputs": [],
   "source": [
    "theft_df['type'].value_counts().plot.pie()"
   ]
  },
  {
   "cell_type": "markdown",
   "id": "4539571e",
   "metadata": {},
   "source": [
    "Create a bar chart for traced vehicles."
   ]
  },
  {
   "cell_type": "code",
   "execution_count": null,
   "id": "d80a72fe",
   "metadata": {},
   "outputs": [],
   "source": [
    "traced_df['type'].value_counts().plot.bar()"
   ]
  },
  {
   "cell_type": "markdown",
   "id": "f00d9f91",
   "metadata": {},
   "source": [
    "Create a pie chart for traced vehicles."
   ]
  },
  {
   "cell_type": "code",
   "execution_count": null,
   "id": "1f18a884",
   "metadata": {},
   "outputs": [],
   "source": [
    "traced_df['type'].value_counts().plot.pie()"
   ]
  }
 ],
 "metadata": {
  "kernelspec": {
   "display_name": "Python 3",
   "language": "python",
   "name": "python3"
  },
  "language_info": {
   "codemirror_mode": {
    "name": "ipython",
    "version": 3
   },
   "file_extension": ".py",
   "mimetype": "text/x-python",
   "name": "python",
   "nbconvert_exporter": "python",
   "pygments_lexer": "ipython3",
   "version": "3.8.5"
  }
 },
 "nbformat": 4,
 "nbformat_minor": 5
}
