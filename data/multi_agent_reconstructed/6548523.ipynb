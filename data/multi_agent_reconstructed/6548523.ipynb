{
 "cells": [
  {
   "cell_type": "markdown",
   "id": "79d2757e",
   "metadata": {},
   "source": [
    "Load data from 'CARS.csv' into a DataFrame named 'dados'."
   ]
  },
  {
   "cell_type": "code",
   "execution_count": null,
   "id": "e18f8a4b",
   "metadata": {},
   "outputs": [],
   "source": [
    "import pandas as pd\n",
    "dados = pd.read_csv('CARS.csv')"
   ]
  },
  {
   "cell_type": "markdown",
   "id": "50364afb",
   "metadata": {},
   "source": [
    "Select the features necessary for clustering."
   ]
  },
  {
   "cell_type": "code",
   "execution_count": null,
   "id": "830bdb8a",
   "metadata": {},
   "outputs": [],
   "source": [
    "x = dados[['mpg', 'cylinders', 'cubicinches', 'hp', 'weightlbs', 'time-to-60', 'year']]"
   ]
  },
  {
   "cell_type": "markdown",
   "id": "65de6365",
   "metadata": {},
   "source": [
    "Convert the selected features DataFrame to a NumPy array."
   ]
  },
  {
   "cell_type": "code",
   "execution_count": null,
   "id": "3ea0e6bc",
   "metadata": {},
   "outputs": [],
   "source": [
    "import numpy as np\n",
    "x_array = x.to_numpy()"
   ]
  },
  {
   "cell_type": "markdown",
   "id": "8bd43a47",
   "metadata": {},
   "source": [
    "Initialize the KMeans model and fit the data to the model."
   ]
  },
  {
   "cell_type": "code",
   "execution_count": null,
   "id": "5d63acf5",
   "metadata": {},
   "outputs": [],
   "source": [
    "from sklearn.cluster import KMeans\n",
    "kmeans = KMeans(n_clusters=3)\n",
    "kmeans.fit(x_array)"
   ]
  },
  {
   "cell_type": "markdown",
   "id": "ec9c6e54",
   "metadata": {},
   "source": [
    "Predict clusters and add the cluster labels to the 'dados' DataFrame."
   ]
  },
  {
   "cell_type": "code",
   "execution_count": null,
   "id": "eb87a4ef",
   "metadata": {},
   "outputs": [],
   "source": [
    "dados['clusters'] = kmeans.predict(x_array)"
   ]
  }
 ],
 "metadata": {
  "kernelspec": {
   "display_name": "Python 3",
   "language": "python",
   "name": "python3"
  },
  "language_info": {
   "codemirror_mode": {
    "name": "ipython",
    "version": 3
   },
   "file_extension": ".py",
   "mimetype": "text/x-python",
   "name": "python",
   "nbconvert_exporter": "python",
   "pygments_lexer": "ipython3",
   "version": "3.8.5"
  }
 },
 "nbformat": 4,
 "nbformat_minor": 5
}
