{
 "cells": [
  {
   "cell_type": "markdown",
   "id": "8ab2579e",
   "metadata": {},
   "source": [
    "Load training data from 'train.csv' into a DataFrame."
   ]
  },
  {
   "cell_type": "code",
   "execution_count": null,
   "id": "ebb3415c",
   "metadata": {},
   "outputs": [],
   "source": [
    "import pandas as pd\n",
    "home_data = pd.read_csv('train.csv')"
   ]
  },
  {
   "cell_type": "markdown",
   "id": "0f623b71",
   "metadata": {},
   "source": [
    "Select features for the model and extract the target variable 'SalePrice'."
   ]
  },
  {
   "cell_type": "code",
   "execution_count": null,
   "id": "679ae6ce",
   "metadata": {},
   "outputs": [],
   "source": [
    "features = home_data.columns.drop('SalePrice')\n",
    "X = home_data[features]\n",
    "y = home_data['SalePrice']"
   ]
  },
  {
   "cell_type": "markdown",
   "id": "033ff45d",
   "metadata": {},
   "source": [
    "Split the data into training and validation sets."
   ]
  },
  {
   "cell_type": "code",
   "execution_count": null,
   "id": "ca50f49f",
   "metadata": {},
   "outputs": [],
   "source": [
    "from sklearn.model_selection import train_test_split\n",
    "train_X, val_X, train_y, val_y = train_test_split(X, y, test_size=0.2, random_state=42)"
   ]
  },
  {
   "cell_type": "markdown",
   "id": "c833ffc7",
   "metadata": {},
   "source": [
    "Create and train a Random Forest Regressor model."
   ]
  },
  {
   "cell_type": "code",
   "execution_count": null,
   "id": "ba7558df",
   "metadata": {},
   "outputs": [],
   "source": [
    "from sklearn.ensemble import RandomForestRegressor\n",
    "model = RandomForestRegressor()\n",
    "model.fit(train_X, train_y)"
   ]
  },
  {
   "cell_type": "markdown",
   "id": "61a85e1f",
   "metadata": {},
   "source": [
    "Load test data from 'test.csv' and select relevant features."
   ]
  },
  {
   "cell_type": "code",
   "execution_count": null,
   "id": "c5163bae",
   "metadata": {},
   "outputs": [],
   "source": [
    "test_data = pd.read_csv('test.csv')\n",
    "test_X = test_data[features]"
   ]
  },
  {
   "cell_type": "markdown",
   "id": "1c85f2db",
   "metadata": {},
   "source": [
    "Extract IDs from test data for the output."
   ]
  },
  {
   "cell_type": "code",
   "execution_count": null,
   "id": "b29acf7d",
   "metadata": {},
   "outputs": [],
   "source": [
    "IDs = test_data['Id']"
   ]
  },
  {
   "cell_type": "markdown",
   "id": "e6630624",
   "metadata": {},
   "source": [
    "Make predictions on the test data using the trained model."
   ]
  },
  {
   "cell_type": "code",
   "execution_count": null,
   "id": "dcd7eab7",
   "metadata": {},
   "outputs": [],
   "source": [
    "test_preds = model.predict(test_X)"
   ]
  },
  {
   "cell_type": "markdown",
   "id": "4fda606a",
   "metadata": {},
   "source": [
    "Concatenate IDs and predictions into a new DataFrame."
   ]
  },
  {
   "cell_type": "code",
   "execution_count": null,
   "id": "ba55d37e",
   "metadata": {},
   "outputs": [],
   "source": [
    "output = pd.DataFrame({'Id': IDs, 'SalePrice': test_preds})"
   ]
  },
  {
   "cell_type": "markdown",
   "id": "a4edcdff",
   "metadata": {},
   "source": [
    "Save the output DataFrame to 'submission.csv'."
   ]
  },
  {
   "cell_type": "code",
   "execution_count": null,
   "id": "749f81e9",
   "metadata": {},
   "outputs": [],
   "source": [
    "output.to_csv('submission.csv', index=False)"
   ]
  }
 ],
 "metadata": {
  "kernelspec": {
   "display_name": "Python 3",
   "language": "python",
   "name": "python3"
  },
  "language_info": {
   "codemirror_mode": {
    "name": "ipython",
    "version": 3
   },
   "file_extension": ".py",
   "mimetype": "text/x-python",
   "name": "python",
   "nbconvert_exporter": "python",
   "pygments_lexer": "ipython3",
   "version": "3.8.5"
  }
 },
 "nbformat": 4,
 "nbformat_minor": 5
}
