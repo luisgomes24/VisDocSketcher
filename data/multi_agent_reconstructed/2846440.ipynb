{
 "cells": [
  {
   "cell_type": "markdown",
   "id": "3db0cdb9",
   "metadata": {},
   "source": [
    "Load training labels and sample submission files using pandas."
   ]
  },
  {
   "cell_type": "code",
   "execution_count": null,
   "id": "377f88bb",
   "metadata": {},
   "outputs": [],
   "source": [
    "import pandas as pd\n",
    "\n",
    "train_labels = pd.read_csv('../input/train_labels.csv')\n",
    "sample_submission = pd.read_csv('../input/sample_submission.csv')"
   ]
  },
  {
   "cell_type": "markdown",
   "id": "b1f34e73",
   "metadata": {},
   "source": [
    "Assign the training labels to a DataFrame and get unique labels."
   ]
  },
  {
   "cell_type": "code",
   "execution_count": null,
   "id": "d3b7a826",
   "metadata": {},
   "outputs": [],
   "source": [
    "df = train_labels\n",
    "\n",
    "df_unique = df['label'].unique()"
   ]
  },
  {
   "cell_type": "markdown",
   "id": "8bf36d0f",
   "metadata": {},
   "source": [
    "Create an ImageDataLoaders object from the CSV files and specify the label column."
   ]
  },
  {
   "cell_type": "code",
   "execution_count": null,
   "id": "eb456d12",
   "metadata": {},
   "outputs": [],
   "source": [
    "from fastai.vision.all import ImageDataLoaders\n",
    "\n",
    "data = ImageDataLoaders.from_csv('../input/', df, folder='train', label_col='label')"
   ]
  },
  {
   "cell_type": "markdown",
   "id": "2e2efb6c",
   "metadata": {},
   "source": [
    "Initialize the CNN model using DenseNet161 architecture."
   ]
  },
  {
   "cell_type": "code",
   "execution_count": null,
   "id": "26e9e6e0",
   "metadata": {},
   "outputs": [],
   "source": [
    "from fastai.vision.all import create_cnn, models\n",
    "\n",
    "learn = create_cnn(data, models.densenet161)"
   ]
  },
  {
   "cell_type": "markdown",
   "id": "244c3f2b",
   "metadata": {},
   "source": [
    "Train the model for 5 epochs."
   ]
  },
  {
   "cell_type": "code",
   "execution_count": null,
   "id": "6bbaf504",
   "metadata": {},
   "outputs": [],
   "source": [
    "learn.fit_one_cycle(5)"
   ]
  },
  {
   "cell_type": "markdown",
   "id": "0fecbe1f",
   "metadata": {},
   "source": [
    "Get predictions from the trained model."
   ]
  },
  {
   "cell_type": "code",
   "execution_count": null,
   "id": "2b6a5386",
   "metadata": {},
   "outputs": [],
   "source": [
    "path = '../input/'\n",
    "preds = learn.get_preds()"
   ]
  },
  {
   "cell_type": "markdown",
   "id": "79f36757",
   "metadata": {},
   "source": [
    "Create a submission DataFrame and save it to a CSV file."
   ]
  },
  {
   "cell_type": "code",
   "execution_count": null,
   "id": "7272598a",
   "metadata": {},
   "outputs": [],
   "source": [
    "submission_df = pd.DataFrame({'id': df_sub['id'], 'label': preds.argmax(dim=1).numpy()})\n",
    "submission_df.to_csv('submission.csv', index=False)"
   ]
  }
 ],
 "metadata": {
  "kernelspec": {
   "display_name": "Python 3",
   "language": "python",
   "name": "python3"
  },
  "language_info": {
   "codemirror_mode": {
    "name": "ipython",
    "version": 3
   },
   "file_extension": ".py",
   "mimetype": "text/x-python",
   "name": "python",
   "nbconvert_exporter": "python",
   "pygments_lexer": "ipython3",
   "version": "3.8.5"
  }
 },
 "nbformat": 4,
 "nbformat_minor": 5
}
