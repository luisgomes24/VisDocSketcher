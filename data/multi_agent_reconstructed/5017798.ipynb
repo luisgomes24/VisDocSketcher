{
 "cells": [
  {
   "cell_type": "markdown",
   "id": "0ddf4959",
   "metadata": {},
   "source": [
    "Load the CSV file 'blockbusters.csv' into a DataFrame named df1."
   ]
  },
  {
   "cell_type": "code",
   "execution_count": null,
   "id": "e8a33fd8",
   "metadata": {},
   "outputs": [],
   "source": [
    "import pandas as pd\n",
    "\n",
    "df1 = pd.read_csv('blockbusters.csv')"
   ]
  },
  {
   "cell_type": "markdown",
   "id": "a42d3e0e",
   "metadata": {},
   "source": [
    "Create a bar chart visualizing the revenue of blockbuster movies using the DataFrame df1."
   ]
  },
  {
   "cell_type": "code",
   "execution_count": null,
   "id": "13abf44a",
   "metadata": {},
   "outputs": [],
   "source": [
    "import matplotlib.pyplot as plt\n",
    "\n",
    "# Example visualization\n",
    "plt.bar(df1['Movie'], df1['Revenue'])\n",
    "plt.xlabel('Movie')\n",
    "plt.ylabel('Revenue')\n",
    "plt.title('Blockbuster Movies Revenue')\n",
    "plt.show()"
   ]
  }
 ],
 "metadata": {
  "kernelspec": {
   "display_name": "Python 3",
   "language": "python",
   "name": "python3"
  },
  "language_info": {
   "codemirror_mode": {
    "name": "ipython",
    "version": 3
   },
   "file_extension": ".py",
   "mimetype": "text/x-python",
   "name": "python",
   "nbconvert_exporter": "python",
   "pygments_lexer": "ipython3",
   "version": "3.8.5"
  }
 },
 "nbformat": 4,
 "nbformat_minor": 5
}
