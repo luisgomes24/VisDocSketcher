{
 "cells": [
  {
   "cell_type": "markdown",
   "id": "12ed7078",
   "metadata": {},
   "source": [
    "Load the Wine Reviews dataset using pandas."
   ]
  },
  {
   "cell_type": "code",
   "execution_count": null,
   "id": "cd00c455",
   "metadata": {},
   "outputs": [],
   "source": [
    "import pandas as pd\n",
    "df_wine = pd.read_csv('wine_reviews.csv')"
   ]
  },
  {
   "cell_type": "markdown",
   "id": "13c2d983",
   "metadata": {},
   "source": [
    "Load the Gaming Subreddit product links dataset."
   ]
  },
  {
   "cell_type": "code",
   "execution_count": null,
   "id": "d8820291",
   "metadata": {},
   "outputs": [],
   "source": [
    "df_gaming = pd.read_csv('gaming_subreddit_links.csv')"
   ]
  },
  {
   "cell_type": "markdown",
   "id": "2aff413e",
   "metadata": {},
   "source": [
    "Load the Movie Subreddit product links dataset."
   ]
  },
  {
   "cell_type": "code",
   "execution_count": null,
   "id": "9213a61e",
   "metadata": {},
   "outputs": [],
   "source": [
    "df_movie = pd.read_csv('movie_subreddit_links.csv')"
   ]
  },
  {
   "cell_type": "markdown",
   "id": "86b750b3",
   "metadata": {},
   "source": [
    "Load the Powerlifting Meets dataset."
   ]
  },
  {
   "cell_type": "code",
   "execution_count": null,
   "id": "513f4829",
   "metadata": {},
   "outputs": [],
   "source": [
    "df_powerlifting = pd.read_csv('powerlifting_meets.csv')"
   ]
  },
  {
   "cell_type": "markdown",
   "id": "4bb4f6ec",
   "metadata": {},
   "source": [
    "Combine Gaming, Movie, and Powerlifting datasets into one."
   ]
  },
  {
   "cell_type": "code",
   "execution_count": null,
   "id": "7d186731",
   "metadata": {},
   "outputs": [],
   "source": [
    "df_combined = pd.concat([df_gaming, df_movie, df_powerlifting], ignore_index=True)"
   ]
  },
  {
   "cell_type": "markdown",
   "id": "d19e29c6",
   "metadata": {},
   "source": [
    "Perform analysis on the combined dataset."
   ]
  },
  {
   "cell_type": "code",
   "execution_count": null,
   "id": "b1e17253",
   "metadata": {},
   "outputs": [],
   "source": [
    "analysis = analyze_data(df_combined)"
   ]
  }
 ],
 "metadata": {
  "kernelspec": {
   "display_name": "Python 3",
   "language": "python",
   "name": "python3"
  },
  "language_info": {
   "codemirror_mode": {
    "name": "ipython",
    "version": 3
   },
   "file_extension": ".py",
   "mimetype": "text/x-python",
   "name": "python",
   "nbconvert_exporter": "python",
   "pygments_lexer": "ipython3",
   "version": "3.8.5"
  }
 },
 "nbformat": 4,
 "nbformat_minor": 5
}
