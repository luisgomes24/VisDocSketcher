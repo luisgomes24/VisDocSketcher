{
 "cells": [
  {
   "cell_type": "markdown",
   "id": "d9ebce9e",
   "metadata": {},
   "source": [
    "Load the training data from a CSV file into a DataFrame."
   ]
  },
  {
   "cell_type": "code",
   "execution_count": null,
   "id": "de2d8bd7",
   "metadata": {},
   "outputs": [],
   "source": [
    "import pandas as pd\n",
    "train_df = pd.read_csv('train.csv')"
   ]
  },
  {
   "cell_type": "markdown",
   "id": "f47f68b6",
   "metadata": {},
   "source": [
    "Load the test data from a CSV file into a DataFrame."
   ]
  },
  {
   "cell_type": "code",
   "execution_count": null,
   "id": "634b6bb5",
   "metadata": {},
   "outputs": [],
   "source": [
    "test_df = pd.read_csv('test.csv')"
   ]
  },
  {
   "cell_type": "markdown",
   "id": "85d27d9f",
   "metadata": {},
   "source": [
    "Split the training data into training and validation sets."
   ]
  },
  {
   "cell_type": "code",
   "execution_count": null,
   "id": "ac915ecc",
   "metadata": {},
   "outputs": [],
   "source": [
    "from sklearn.model_selection import train_test_split\n",
    "x_train, x_val, y_train, y_val = train_test_split(train_df.drop('label', axis=1), train_df['label'])"
   ]
  },
  {
   "cell_type": "markdown",
   "id": "fa827e82",
   "metadata": {},
   "source": [
    "Combine features and labels for training and validation sets."
   ]
  },
  {
   "cell_type": "code",
   "execution_count": null,
   "id": "900a096d",
   "metadata": {},
   "outputs": [],
   "source": [
    "train_data = pd.concat([x_train, y_train], axis=1)\n",
    "val_data = pd.concat([x_val, y_val], axis=1)"
   ]
  },
  {
   "cell_type": "markdown",
   "id": "f28b8c8c",
   "metadata": {},
   "source": [
    "Generate image data from the training and validation DataFrames."
   ]
  },
  {
   "cell_type": "code",
   "execution_count": null,
   "id": "d8d463aa",
   "metadata": {},
   "outputs": [],
   "source": [
    "from keras.preprocessing.image import ImageDataGenerator\n",
    "train_img_gen = ImageDataGenerator().flow_from_dataframe(dataframe=train_data)\n",
    "val_img_gen = ImageDataGenerator().flow_from_dataframe(dataframe=val_data)"
   ]
  },
  {
   "cell_type": "markdown",
   "id": "027e9071",
   "metadata": {},
   "source": [
    "Create a ResNet101 model without the top classification layer."
   ]
  },
  {
   "cell_type": "code",
   "execution_count": null,
   "id": "f2248e37",
   "metadata": {},
   "outputs": [],
   "source": [
    "from keras.applications import ResNet101\n",
    "from keras.models import Sequential\n",
    "model = Sequential()\n",
    "model.add(ResNet101(weights='imagenet', include_top=False))"
   ]
  },
  {
   "cell_type": "markdown",
   "id": "a383e246",
   "metadata": {},
   "source": [
    "Compile the model using focal loss and Adam optimizer."
   ]
  },
  {
   "cell_type": "code",
   "execution_count": null,
   "id": "196bbbaa",
   "metadata": {},
   "outputs": [],
   "source": [
    "model.compile(loss='focal_loss', optimizer='adam')"
   ]
  },
  {
   "cell_type": "markdown",
   "id": "763a2815",
   "metadata": {},
   "source": [
    "Train the model using the training and validation image generators."
   ]
  },
  {
   "cell_type": "code",
   "execution_count": null,
   "id": "bbea0b01",
   "metadata": {},
   "outputs": [],
   "source": [
    "model.fit(train_img_gen, validation_data=val_img_gen)"
   ]
  }
 ],
 "metadata": {
  "kernelspec": {
   "display_name": "Python 3",
   "language": "python",
   "name": "python3"
  },
  "language_info": {
   "codemirror_mode": {
    "name": "ipython",
    "version": 3
   },
   "file_extension": ".py",
   "mimetype": "text/x-python",
   "name": "python",
   "nbconvert_exporter": "python",
   "pygments_lexer": "ipython3",
   "version": "3.8.5"
  }
 },
 "nbformat": 4,
 "nbformat_minor": 5
}
