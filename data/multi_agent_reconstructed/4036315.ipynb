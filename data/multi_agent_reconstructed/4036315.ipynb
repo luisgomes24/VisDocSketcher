{
 "cells": [
  {
   "cell_type": "markdown",
   "id": "34bc3659",
   "metadata": {},
   "source": [
    "Load the training data from 'train.csv' into a DataFrame."
   ]
  },
  {
   "cell_type": "code",
   "execution_count": null,
   "id": "58c0a965",
   "metadata": {},
   "outputs": [],
   "source": [
    "import pandas as pd\n",
    "raw_train = pd.read_csv('train.csv')"
   ]
  },
  {
   "cell_type": "markdown",
   "id": "491a724a",
   "metadata": {},
   "source": [
    "Load the test data from 'test.csv' into a DataFrame."
   ]
  },
  {
   "cell_type": "code",
   "execution_count": null,
   "id": "c623d259",
   "metadata": {},
   "outputs": [],
   "source": [
    "test_data = pd.read_csv('test.csv')"
   ]
  },
  {
   "cell_type": "markdown",
   "id": "3f7b9454",
   "metadata": {},
   "source": [
    "Perform feature selection using the SelectKBest method."
   ]
  },
  {
   "cell_type": "code",
   "execution_count": null,
   "id": "0ada9444",
   "metadata": {},
   "outputs": [],
   "source": [
    "from sklearn.feature_selection import SelectKBest, f_regression\n",
    "selected_features = SelectKBest(score_func=f_regression, k=10).fit_transform(raw_train.drop('target', axis=1), raw_train['target'])"
   ]
  },
  {
   "cell_type": "markdown",
   "id": "dba04061",
   "metadata": {},
   "source": [
    "Train the first model using Gradient Boosting Regressor."
   ]
  },
  {
   "cell_type": "code",
   "execution_count": null,
   "id": "49232ae5",
   "metadata": {},
   "outputs": [],
   "source": [
    "from sklearn.ensemble import GradientBoostingRegressor\n",
    "gb_model = GradientBoostingRegressor().fit(selected_features, raw_train['target'])"
   ]
  },
  {
   "cell_type": "markdown",
   "id": "320e1789",
   "metadata": {},
   "source": [
    "Make predictions on the validation set using the Gradient Boosting model."
   ]
  },
  {
   "cell_type": "code",
   "execution_count": null,
   "id": "761cd86d",
   "metadata": {},
   "outputs": [],
   "source": [
    "validation_predictions = gb_model.predict(selected_features)"
   ]
  },
  {
   "cell_type": "markdown",
   "id": "3a96bd6b",
   "metadata": {},
   "source": [
    "Train the second model using Extra Trees Regressor."
   ]
  },
  {
   "cell_type": "code",
   "execution_count": null,
   "id": "74160a2c",
   "metadata": {},
   "outputs": [],
   "source": [
    "from sklearn.ensemble import ExtraTreesRegressor\n",
    "et_model = ExtraTreesRegressor().fit(selected_features, raw_train['target'])"
   ]
  },
  {
   "cell_type": "markdown",
   "id": "f8458591",
   "metadata": {},
   "source": [
    "Make predictions on the test data using the Extra Trees model."
   ]
  },
  {
   "cell_type": "code",
   "execution_count": null,
   "id": "6537202b",
   "metadata": {},
   "outputs": [],
   "source": [
    "test_predictions = et_model.predict(test_data)"
   ]
  },
  {
   "cell_type": "markdown",
   "id": "1abdee24",
   "metadata": {},
   "source": [
    "Save the predictions to 'submission.csv' along with the IDs."
   ]
  },
  {
   "cell_type": "code",
   "execution_count": null,
   "id": "dd6d9f0e",
   "metadata": {},
   "outputs": [],
   "source": [
    "submission = pd.DataFrame({'Id': test_data['Id'], 'Prediction': test_predictions})\n",
    "submission.to_csv('submission.csv', index=False)"
   ]
  }
 ],
 "metadata": {
  "kernelspec": {
   "display_name": "Python 3",
   "language": "python",
   "name": "python3"
  },
  "language_info": {
   "codemirror_mode": {
    "name": "ipython",
    "version": 3
   },
   "file_extension": ".py",
   "mimetype": "text/x-python",
   "name": "python",
   "nbconvert_exporter": "python",
   "pygments_lexer": "ipython3",
   "version": "3.8.5"
  }
 },
 "nbformat": 4,
 "nbformat_minor": 5
}
