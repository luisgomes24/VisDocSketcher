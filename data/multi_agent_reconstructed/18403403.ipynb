{
 "cells": [
  {
   "cell_type": "markdown",
   "id": "15da2b26",
   "metadata": {},
   "source": [
    "Define fields necessary for plotting, including 'timestamp' and 'crime_type'."
   ]
  },
  {
   "cell_type": "code",
   "execution_count": null,
   "id": "896861cb",
   "metadata": {},
   "outputs": [],
   "source": [
    "import pandas as pd\n",
    "import matplotlib.pyplot as plt\n",
    "fields_for_plotting = ['timestamp', 'crime_type']"
   ]
  },
  {
   "cell_type": "markdown",
   "id": "c060c2c8",
   "metadata": {},
   "source": [
    "Load the Chicago crime dataset into a Pandas DataFrame."
   ]
  },
  {
   "cell_type": "code",
   "execution_count": null,
   "id": "8db568c9",
   "metadata": {},
   "outputs": [],
   "source": [
    "chicago_crime_data = pd.read_csv('chicago_crime.csv')"
   ]
  },
  {
   "cell_type": "markdown",
   "id": "9630a693",
   "metadata": {},
   "source": [
    "Fetch the table schema, extracting the list of columns from the DataFrame."
   ]
  },
  {
   "cell_type": "code",
   "execution_count": null,
   "id": "96e67f67",
   "metadata": {},
   "outputs": [],
   "source": [
    "tables = chicago_crime_data.columns.tolist()"
   ]
  },
  {
   "cell_type": "markdown",
   "id": "38dac869",
   "metadata": {},
   "source": [
    "Count the total number of tables by counting the column names."
   ]
  },
  {
   "cell_type": "code",
   "execution_count": null,
   "id": "fa8ce0c1",
   "metadata": {},
   "outputs": [],
   "source": [
    "num_tables = len(tables)"
   ]
  },
  {
   "cell_type": "markdown",
   "id": "a84674b1",
   "metadata": {},
   "source": [
    "Fetch the specific table containing timestamps from the DataFrame."
   ]
  },
  {
   "cell_type": "code",
   "execution_count": null,
   "id": "77625d96",
   "metadata": {},
   "outputs": [],
   "source": [
    "table = chicago_crime_data[['timestamp']]"
   ]
  },
  {
   "cell_type": "markdown",
   "id": "106646be",
   "metadata": {},
   "source": [
    "Calculate the hour distribution of the timestamp fields."
   ]
  },
  {
   "cell_type": "code",
   "execution_count": null,
   "id": "68939756",
   "metadata": {},
   "outputs": [],
   "source": [
    "num_timestamp_fields = table['timestamp'].dt.hour.value_counts()"
   ]
  }
 ],
 "metadata": {
  "kernelspec": {
   "display_name": "Python 3",
   "language": "python",
   "name": "python3"
  },
  "language_info": {
   "codemirror_mode": {
    "name": "ipython",
    "version": 3
   },
   "file_extension": ".py",
   "mimetype": "text/x-python",
   "name": "python",
   "nbconvert_exporter": "python",
   "pygments_lexer": "ipython3",
   "version": "3.8.5"
  }
 },
 "nbformat": 4,
 "nbformat_minor": 5
}
