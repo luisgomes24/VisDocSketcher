{
 "cells": [
  {
   "cell_type": "markdown",
   "id": "104d1702",
   "metadata": {},
   "source": [
    "Fetch data from a CSV file using pandas and return it."
   ]
  },
  {
   "cell_type": "code",
   "execution_count": null,
   "id": "67ceea1c",
   "metadata": {},
   "outputs": [],
   "source": [
    "import pandas as pd\n",
    "\n",
    "def fetch_data(file_path):\n",
    "    data = pd.read_csv(file_path)\n",
    "    return data"
   ]
  },
  {
   "cell_type": "markdown",
   "id": "9db9723a",
   "metadata": {},
   "source": [
    "Load the data into a DataFrame."
   ]
  },
  {
   "cell_type": "code",
   "execution_count": null,
   "id": "0e8171d2",
   "metadata": {},
   "outputs": [],
   "source": [
    "data_frame = fetch_data('data.csv')"
   ]
  },
  {
   "cell_type": "markdown",
   "id": "35b42544",
   "metadata": {},
   "source": [
    "Create and display a bar plot of the data."
   ]
  },
  {
   "cell_type": "code",
   "execution_count": null,
   "id": "2a753bb1",
   "metadata": {},
   "outputs": [],
   "source": [
    "import matplotlib.pyplot as plt\n",
    "\n",
    "plt.bar(data_frame['Category'], data_frame['Value'])\n",
    "plt.title('Bar Plot')\n",
    "plt.xlabel('Category')\n",
    "plt.ylabel('Value')\n",
    "plt.savefig('bar_plot.png')\n",
    "plt.show()"
   ]
  },
  {
   "cell_type": "markdown",
   "id": "f24d7660",
   "metadata": {},
   "source": [
    "Train a linear regression model using the data."
   ]
  },
  {
   "cell_type": "code",
   "execution_count": null,
   "id": "20192fdd",
   "metadata": {},
   "outputs": [],
   "source": [
    "from sklearn.linear_model import LinearRegression\n",
    "\n",
    "model = LinearRegression()\n",
    "X = data_frame[['Q1', 'Q2']]\n",
    "y = data_frame['Metric']\n",
    "model.fit(X, y)"
   ]
  },
  {
   "cell_type": "markdown",
   "id": "00e1b193",
   "metadata": {},
   "source": [
    "Generate a line plot based on predictions from the ML model."
   ]
  },
  {
   "cell_type": "code",
   "execution_count": null,
   "id": "e12e7a79",
   "metadata": {},
   "outputs": [],
   "source": [
    "predictions = model.predict(X)\n",
    "\n",
    "plt.plot(data_frame['Q1'], predictions, marker='o')\n",
    "plt.title('Line Plot')\n",
    "plt.xlabel('Time')\n",
    "plt.ylabel('Metric')\n",
    "plt.savefig('line_plot.png')\n",
    "plt.show()"
   ]
  }
 ],
 "metadata": {
  "kernelspec": {
   "display_name": "Python 3",
   "language": "python",
   "name": "python3"
  },
  "language_info": {
   "codemirror_mode": {
    "name": "ipython",
    "version": 3
   },
   "file_extension": ".py",
   "mimetype": "text/x-python",
   "name": "python",
   "nbconvert_exporter": "python",
   "pygments_lexer": "ipython3",
   "version": "3.8.5"
  }
 },
 "nbformat": 4,
 "nbformat_minor": 5
}
