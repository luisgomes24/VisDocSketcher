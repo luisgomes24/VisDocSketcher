{
 "cells": [
  {
   "cell_type": "markdown",
   "id": "218bb55c",
   "metadata": {},
   "source": [
    "Load the CSV file into a DataFrame named 'df'."
   ]
  },
  {
   "cell_type": "code",
   "execution_count": null,
   "id": "774bdfd0",
   "metadata": {},
   "outputs": [],
   "source": [
    "import pandas as pd\n",
    "df = pd.read_csv('basic1.csv')"
   ]
  },
  {
   "cell_type": "markdown",
   "id": "60d34c29",
   "metadata": {},
   "source": [
    "Create 'df2' as the cumulative sum of 'f1' where 'f2' equals 1."
   ]
  },
  {
   "cell_type": "code",
   "execution_count": null,
   "id": "ccc0b82b",
   "metadata": {},
   "outputs": [],
   "source": [
    "df2 = df[df['f2'] == 1]['f1'].cumsum()"
   ]
  },
  {
   "cell_type": "markdown",
   "id": "d0bf154f",
   "metadata": {},
   "source": [
    "Fill NaN values in 'df2' using the next valid value (backward fill)."
   ]
  },
  {
   "cell_type": "code",
   "execution_count": null,
   "id": "f5580c68",
   "metadata": {},
   "outputs": [],
   "source": [
    "df2.fillna(method='bfill', inplace=True)"
   ]
  },
  {
   "cell_type": "markdown",
   "id": "0e27f815",
   "metadata": {},
   "source": [
    "Calculate the mean of 'df2' and print the result."
   ]
  },
  {
   "cell_type": "code",
   "execution_count": null,
   "id": "7eee7efc",
   "metadata": {},
   "outputs": [],
   "source": [
    "mean_value = df2.mean()\n",
    "print(mean_value)"
   ]
  }
 ],
 "metadata": {
  "kernelspec": {
   "display_name": "Python 3",
   "language": "python",
   "name": "python3"
  },
  "language_info": {
   "codemirror_mode": {
    "name": "ipython",
    "version": 3
   },
   "file_extension": ".py",
   "mimetype": "text/x-python",
   "name": "python",
   "nbconvert_exporter": "python",
   "pygments_lexer": "ipython3",
   "version": "3.8.5"
  }
 },
 "nbformat": 4,
 "nbformat_minor": 5
}
