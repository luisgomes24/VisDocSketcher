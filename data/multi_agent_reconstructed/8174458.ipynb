{
 "cells": [
  {
   "cell_type": "markdown",
   "id": "f34bc5e3",
   "metadata": {},
   "source": [
    "Import pandas and read the first column of the CSV file as df1."
   ]
  },
  {
   "cell_type": "code",
   "execution_count": null,
   "id": "b9a7deda",
   "metadata": {},
   "outputs": [],
   "source": [
    "import pandas as pd\n",
    "df1 = pd.read_csv('TAT_Prediction_Train_Version_61.csv', usecols=[0])"
   ]
  },
  {
   "cell_type": "markdown",
   "id": "09293ff5",
   "metadata": {},
   "source": [
    "Read the second column of the CSV file as df2."
   ]
  },
  {
   "cell_type": "code",
   "execution_count": null,
   "id": "e5e9e744",
   "metadata": {},
   "outputs": [],
   "source": [
    "df2 = pd.read_csv('TAT_Prediction_Train_Version_61.csv', usecols=[1])"
   ]
  }
 ],
 "metadata": {
  "kernelspec": {
   "display_name": "Python 3",
   "language": "python",
   "name": "python3"
  },
  "language_info": {
   "codemirror_mode": {
    "name": "ipython",
    "version": 3
   },
   "file_extension": ".py",
   "mimetype": "text/x-python",
   "name": "python",
   "nbconvert_exporter": "python",
   "pygments_lexer": "ipython3",
   "version": "3.8.5"
  }
 },
 "nbformat": 4,
 "nbformat_minor": 5
}
