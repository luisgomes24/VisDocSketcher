{
 "cells": [
  {
   "cell_type": "markdown",
   "id": "20d1c5e6",
   "metadata": {},
   "source": [
    "Load the dataset from a CSV file into a DataFrame."
   ]
  },
  {
   "cell_type": "code",
   "execution_count": null,
   "id": "06fc74d1",
   "metadata": {},
   "outputs": [],
   "source": [
    "import pandas as pd\n",
    "df = pd.read_csv('train.csv')"
   ]
  },
  {
   "cell_type": "markdown",
   "id": "d4cb0b22",
   "metadata": {},
   "source": [
    "Calculate the mean target value for each category."
   ]
  },
  {
   "cell_type": "code",
   "execution_count": null,
   "id": "423d77da",
   "metadata": {},
   "outputs": [],
   "source": [
    "mean_target = df.groupby('Category')['Target'].mean()"
   ]
  },
  {
   "cell_type": "markdown",
   "id": "9576d556",
   "metadata": {},
   "source": [
    "Calculate the RMSE (Root Mean Squared Error) from actual and predicted values."
   ]
  },
  {
   "cell_type": "code",
   "execution_count": null,
   "id": "484c6274",
   "metadata": {},
   "outputs": [],
   "source": [
    "import numpy as np\n",
    "from sklearn.metrics import mean_squared_error\n",
    "rmse_values = np.sqrt(mean_squared_error(df['Actual'], df['Predicted']))"
   ]
  },
  {
   "cell_type": "markdown",
   "id": "7d320619",
   "metadata": {},
   "source": [
    "Plot the distribution of RMSE values."
   ]
  },
  {
   "cell_type": "code",
   "execution_count": null,
   "id": "edc97544",
   "metadata": {},
   "outputs": [],
   "source": [
    "import matplotlib.pyplot as plt\n",
    "plt.hist(rmse_values, bins=10)\n",
    "plt.title('RMSE Values Distribution')\n",
    "plt.show()"
   ]
  },
  {
   "cell_type": "markdown",
   "id": "8f43d80c",
   "metadata": {},
   "source": [
    "Calculate the mean of the RMSE values."
   ]
  },
  {
   "cell_type": "code",
   "execution_count": null,
   "id": "ebe8a7d6",
   "metadata": {},
   "outputs": [],
   "source": [
    "mc_mean = rmse_values.mean()"
   ]
  },
  {
   "cell_type": "markdown",
   "id": "98e74d4b",
   "metadata": {},
   "source": [
    "Calculate the standard deviation of the RMSE values."
   ]
  },
  {
   "cell_type": "code",
   "execution_count": null,
   "id": "36900c16",
   "metadata": {},
   "outputs": [],
   "source": [
    "mc_std = rmse_values.std()"
   ]
  },
  {
   "cell_type": "markdown",
   "id": "50ef230f",
   "metadata": {},
   "source": [
    "Visualize the distribution of the Monte Carlo mean RMSE."
   ]
  },
  {
   "cell_type": "code",
   "execution_count": null,
   "id": "60b93b39",
   "metadata": {},
   "outputs": [],
   "source": [
    "plt.hist(rmse_values, bins=10)\n",
    "plt.title('Monte Carlo Mean RMSE')\n",
    "plt.show()"
   ]
  },
  {
   "cell_type": "markdown",
   "id": "c8886cca",
   "metadata": {},
   "source": [
    "Visualize the distribution of the Monte Carlo standard deviation RMSE."
   ]
  },
  {
   "cell_type": "code",
   "execution_count": null,
   "id": "50382c35",
   "metadata": {},
   "outputs": [],
   "source": [
    "plt.hist(rmse_values, bins=10)\n",
    "plt.title('Monte Carlo Std Dev RMSE')\n",
    "plt.show()"
   ]
  }
 ],
 "metadata": {
  "kernelspec": {
   "display_name": "Python 3",
   "language": "python",
   "name": "python3"
  },
  "language_info": {
   "codemirror_mode": {
    "name": "ipython",
    "version": 3
   },
   "file_extension": ".py",
   "mimetype": "text/x-python",
   "name": "python",
   "nbconvert_exporter": "python",
   "pygments_lexer": "ipython3",
   "version": "3.8.5"
  }
 },
 "nbformat": 4,
 "nbformat_minor": 5
}
