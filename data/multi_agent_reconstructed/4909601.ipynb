{
 "cells": [
  {
   "cell_type": "markdown",
   "id": "0f1e4319",
   "metadata": {},
   "source": [
    "Load the training data from 'Train.csv' into a DataFrame."
   ]
  },
  {
   "cell_type": "code",
   "execution_count": null,
   "id": "a2f1c265",
   "metadata": {},
   "outputs": [],
   "source": [
    "import pandas as pd\n",
    "df_train = pd.read_csv('Train.csv')"
   ]
  },
  {
   "cell_type": "markdown",
   "id": "6c625e91",
   "metadata": {},
   "source": [
    "Load the Unicode translation data from 'Unicode Translation.csv' into a DataFrame."
   ]
  },
  {
   "cell_type": "code",
   "execution_count": null,
   "id": "2424a111",
   "metadata": {},
   "outputs": [],
   "source": [
    "unicode_trans = pd.read_csv('Unicode Translation.csv')"
   ]
  },
  {
   "cell_type": "markdown",
   "id": "b5f27d1d",
   "metadata": {},
   "source": [
    "Extract unique labels from the training DataFrame."
   ]
  },
  {
   "cell_type": "code",
   "execution_count": null,
   "id": "6053f920",
   "metadata": {},
   "outputs": [],
   "source": [
    "labels = df_train['label'].unique()"
   ]
  },
  {
   "cell_type": "markdown",
   "id": "0c9cc531",
   "metadata": {},
   "source": [
    "Create a DataFrame containing rows where labels are NaN."
   ]
  },
  {
   "cell_type": "code",
   "execution_count": null,
   "id": "ea65b7ae",
   "metadata": {},
   "outputs": [],
   "source": [
    "nan_df = df_train[df_train['label'].isna()]"
   ]
  },
  {
   "cell_type": "markdown",
   "id": "91d21cf9",
   "metadata": {},
   "source": [
    "Create a dictionary mapping Unicode codepoints to their translations."
   ]
  },
  {
   "cell_type": "code",
   "execution_count": null,
   "id": "a94b8a48",
   "metadata": {},
   "outputs": [],
   "source": [
    "unicode_map = unicode_trans.set_index('codepoint')['translation'].to_dict()"
   ]
  },
  {
   "cell_type": "markdown",
   "id": "1535c8b9",
   "metadata": {},
   "source": [
    "Filter the Unicode translations to include only those with valid labels."
   ]
  },
  {
   "cell_type": "code",
   "execution_count": null,
   "id": "17eb2fc7",
   "metadata": {},
   "outputs": [],
   "source": [
    "unicode_trans_only_labels = unicode_trans[unicode_trans['label'].notna()]"
   ]
  },
  {
   "cell_type": "markdown",
   "id": "bd4b9282",
   "metadata": {},
   "source": [
    "Remove rows from df_train where labels are NaN."
   ]
  },
  {
   "cell_type": "code",
   "execution_count": null,
   "id": "c53da997",
   "metadata": {},
   "outputs": [],
   "source": [
    "df_train = df_train[df_train['label'].notna()]"
   ]
  },
  {
   "cell_type": "markdown",
   "id": "a4e1fb68",
   "metadata": {},
   "source": [
    "Define a function to validate that all unique labels are in the Unicode map."
   ]
  },
  {
   "cell_type": "code",
   "execution_count": null,
   "id": "7083f644",
   "metadata": {},
   "outputs": [],
   "source": [
    "def validate_data(df, unicode_map):\n",
    "    return all(label in unicode_map for label in df['label'].unique())"
   ]
  }
 ],
 "metadata": {
  "kernelspec": {
   "display_name": "Python 3",
   "language": "python",
   "name": "python3"
  },
  "language_info": {
   "codemirror_mode": {
    "name": "ipython",
    "version": 3
   },
   "file_extension": ".py",
   "mimetype": "text/x-python",
   "name": "python",
   "nbconvert_exporter": "python",
   "pygments_lexer": "ipython3",
   "version": "3.8.5"
  }
 },
 "nbformat": 4,
 "nbformat_minor": 5
}
