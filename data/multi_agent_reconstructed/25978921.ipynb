{
 "cells": [
  {
   "cell_type": "markdown",
   "id": "b03b1802",
   "metadata": {},
   "source": [
    "Load the Pistachio image dataset using ImageFolder from torchvision."
   ]
  },
  {
   "cell_type": "code",
   "execution_count": null,
   "id": "87250d51",
   "metadata": {},
   "outputs": [],
   "source": [
    "from torchvision import datasets\n",
    "\n",
    "train_data_all = datasets.ImageFolder('path/to/pistachio/images')"
   ]
  }
 ],
 "metadata": {
  "kernelspec": {
   "display_name": "Python 3",
   "language": "python",
   "name": "python3"
  },
  "language_info": {
   "codemirror_mode": {
    "name": "ipython",
    "version": 3
   },
   "file_extension": ".py",
   "mimetype": "text/x-python",
   "name": "python",
   "nbconvert_exporter": "python",
   "pygments_lexer": "ipython3",
   "version": "3.8.5"
  }
 },
 "nbformat": 4,
 "nbformat_minor": 5
}
