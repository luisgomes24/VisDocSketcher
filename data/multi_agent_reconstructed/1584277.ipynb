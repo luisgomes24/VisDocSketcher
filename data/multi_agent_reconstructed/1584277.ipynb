{
 "cells": [
  {
   "cell_type": "markdown",
   "id": "153b587c",
   "metadata": {},
   "source": [
    "Import the pandas library for data manipulation."
   ]
  },
  {
   "cell_type": "code",
   "execution_count": null,
   "id": "bc070b64",
   "metadata": {},
   "outputs": [],
   "source": [
    "import pandas as pd"
   ]
  },
  {
   "cell_type": "markdown",
   "id": "16eeb4a7",
   "metadata": {},
   "source": [
    "Load the first CSV file into a DataFrame df1."
   ]
  },
  {
   "cell_type": "code",
   "execution_count": null,
   "id": "e06e6e81",
   "metadata": {},
   "outputs": [],
   "source": [
    "df1 = pd.read_csv('IDA_country.csv')"
   ]
  },
  {
   "cell_type": "markdown",
   "id": "3c9b74dd",
   "metadata": {},
   "source": [
    "Load the second CSV file into a DataFrame df2."
   ]
  },
  {
   "cell_type": "code",
   "execution_count": null,
   "id": "ed184f99",
   "metadata": {},
   "outputs": [],
   "source": [
    "df2 = pd.read_csv('IDA_country_series.csv')"
   ]
  },
  {
   "cell_type": "markdown",
   "id": "1b63f241",
   "metadata": {},
   "source": [
    "Load the third CSV file into a DataFrame df3."
   ]
  },
  {
   "cell_type": "code",
   "execution_count": null,
   "id": "1f0167cd",
   "metadata": {},
   "outputs": [],
   "source": [
    "df3 = pd.read_csv('IDA_data.csv')"
   ]
  },
  {
   "cell_type": "markdown",
   "id": "2424ad8b",
   "metadata": {},
   "source": [
    "Create a bar plot from df1 with categories and values."
   ]
  },
  {
   "cell_type": "code",
   "execution_count": null,
   "id": "7bb1ef34",
   "metadata": {},
   "outputs": [],
   "source": [
    "import matplotlib.pyplot as plt\n",
    "plt.bar(df1['Category'], df1['Value'])\n",
    "plt.show()"
   ]
  },
  {
   "cell_type": "markdown",
   "id": "bdc15093",
   "metadata": {},
   "source": [
    "Create a scatter plot from df2 with x and y axes."
   ]
  },
  {
   "cell_type": "code",
   "execution_count": null,
   "id": "46d6ad54",
   "metadata": {},
   "outputs": [],
   "source": [
    "plt.scatter(df2['X_Axis'], df2['Y_Axis'])\n",
    "plt.show()"
   ]
  },
  {
   "cell_type": "markdown",
   "id": "41ca6c38",
   "metadata": {},
   "source": [
    "Create a line plot from df3 showing metric over time."
   ]
  },
  {
   "cell_type": "code",
   "execution_count": null,
   "id": "a482b534",
   "metadata": {},
   "outputs": [],
   "source": [
    "plt.plot(df3['Time'], df3['Metric'])\n",
    "plt.show()"
   ]
  }
 ],
 "metadata": {
  "kernelspec": {
   "display_name": "Python 3",
   "language": "python",
   "name": "python3"
  },
  "language_info": {
   "codemirror_mode": {
    "name": "ipython",
    "version": 3
   },
   "file_extension": ".py",
   "mimetype": "text/x-python",
   "name": "python",
   "nbconvert_exporter": "python",
   "pygments_lexer": "ipython3",
   "version": "3.8.5"
  }
 },
 "nbformat": 4,
 "nbformat_minor": 5
}
