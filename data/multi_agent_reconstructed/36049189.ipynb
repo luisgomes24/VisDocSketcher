{
 "cells": [
  {
   "cell_type": "markdown",
   "id": "01455748",
   "metadata": {},
   "source": [
    "Defines a list of training files."
   ]
  },
  {
   "cell_type": "code",
   "execution_count": null,
   "id": "4e8fffd6",
   "metadata": {},
   "outputs": [],
   "source": [
    "train_files = ['file1.csv', 'file2.csv']"
   ]
  },
  {
   "cell_type": "markdown",
   "id": "7fb9bd11",
   "metadata": {},
   "source": [
    "Loads and concatenates the training data files into a DataFrame."
   ]
  },
  {
   "cell_type": "code",
   "execution_count": null,
   "id": "1507d0a9",
   "metadata": {},
   "outputs": [],
   "source": [
    "df_train = pd.concat([pd.read_csv(f) for f in train_files])"
   ]
  },
  {
   "cell_type": "markdown",
   "id": "5fdcf0a7",
   "metadata": {},
   "source": [
    "Defines a list of development files."
   ]
  },
  {
   "cell_type": "code",
   "execution_count": null,
   "id": "663cb676",
   "metadata": {},
   "outputs": [],
   "source": [
    "dev_files = ['dev_file1.csv', 'dev_file2.csv']"
   ]
  },
  {
   "cell_type": "markdown",
   "id": "2c997eaf",
   "metadata": {},
   "source": [
    "Loads and concatenates the development data files into a DataFrame."
   ]
  },
  {
   "cell_type": "code",
   "execution_count": null,
   "id": "1d186deb",
   "metadata": {},
   "outputs": [],
   "source": [
    "df_dev = pd.concat([pd.read_csv(f) for f in dev_files])"
   ]
  }
 ],
 "metadata": {
  "kernelspec": {
   "display_name": "Python 3",
   "language": "python",
   "name": "python3"
  },
  "language_info": {
   "codemirror_mode": {
    "name": "ipython",
    "version": 3
   },
   "file_extension": ".py",
   "mimetype": "text/x-python",
   "name": "python",
   "nbconvert_exporter": "python",
   "pygments_lexer": "ipython3",
   "version": "3.8.5"
  }
 },
 "nbformat": 4,
 "nbformat_minor": 5
}
