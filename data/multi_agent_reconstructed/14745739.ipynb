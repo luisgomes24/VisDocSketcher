{
 "cells": [
  {
   "cell_type": "markdown",
   "id": "84cb394c",
   "metadata": {},
   "source": [
    "Load the training data from a CSV file into a DataFrame."
   ]
  },
  {
   "cell_type": "code",
   "execution_count": null,
   "id": "b19a93ff",
   "metadata": {},
   "outputs": [],
   "source": [
    "import pandas as pd\n",
    "df_train = pd.read_csv('train_data.csv')"
   ]
  },
  {
   "cell_type": "markdown",
   "id": "77029c7d",
   "metadata": {},
   "source": [
    "Load the test data from a CSV file into a DataFrame."
   ]
  },
  {
   "cell_type": "code",
   "execution_count": null,
   "id": "41366108",
   "metadata": {},
   "outputs": [],
   "source": [
    "df_test = pd.read_csv('test_data.csv')"
   ]
  },
  {
   "cell_type": "markdown",
   "id": "b0ea00e3",
   "metadata": {},
   "source": [
    "Tokenize the text data from the training set using BERT tokenizer."
   ]
  },
  {
   "cell_type": "code",
   "execution_count": null,
   "id": "84c84e48",
   "metadata": {},
   "outputs": [],
   "source": [
    "from transformers import BertTokenizer\n",
    "tokenizer = BertTokenizer.from_pretrained('bert-base-uncased')\n",
    "input_ids = tokenizer(df_train['text'].tolist(), padding=True, truncation=True, return_tensors='pt')"
   ]
  },
  {
   "cell_type": "markdown",
   "id": "b3f98edb",
   "metadata": {},
   "source": [
    "Create attention masks to focus on actual tokens in the input sequences."
   ]
  },
  {
   "cell_type": "code",
   "execution_count": null,
   "id": "45aa4ef6",
   "metadata": {},
   "outputs": [],
   "source": [
    "attention_masks = (input_ids != 0).type(input_ids.dtype)"
   ]
  },
  {
   "cell_type": "markdown",
   "id": "b876f7a6",
   "metadata": {},
   "source": [
    "Split the inputs into training and validation sets."
   ]
  },
  {
   "cell_type": "code",
   "execution_count": null,
   "id": "2cf9ba89",
   "metadata": {},
   "outputs": [],
   "source": [
    "train_inputs, validation_inputs = attention_masks.split(0.8)"
   ]
  },
  {
   "cell_type": "markdown",
   "id": "c1aaead3",
   "metadata": {},
   "source": [
    "Initialize the model and training arguments using the Trainer class from Hugging Face."
   ]
  },
  {
   "cell_type": "code",
   "execution_count": null,
   "id": "997b8be4",
   "metadata": {},
   "outputs": [],
   "source": [
    "from transformers import BertForSequenceClassification, Trainer, TrainingArguments\n",
    "model = BertForSequenceClassification.from_pretrained('bert-base-uncased')\n",
    "training_args = TrainingArguments(output_dir='./results')\n",
    "trainer = Trainer(model=model, args=training_args, train_dataset=train_inputs)"
   ]
  },
  {
   "cell_type": "markdown",
   "id": "a4f65d80",
   "metadata": {},
   "source": [
    "Train the model using the training inputs."
   ]
  },
  {
   "cell_type": "code",
   "execution_count": null,
   "id": "e420320c",
   "metadata": {},
   "outputs": [],
   "source": [
    "trainer.train()"
   ]
  },
  {
   "cell_type": "markdown",
   "id": "19eec25a",
   "metadata": {},
   "source": [
    "Generate predictions using the trained model on validation inputs."
   ]
  },
  {
   "cell_type": "code",
   "execution_count": null,
   "id": "6b4aee5c",
   "metadata": {},
   "outputs": [],
   "source": [
    "predictions = trainer.predict(validation_inputs)"
   ]
  },
  {
   "cell_type": "markdown",
   "id": "225a9d08",
   "metadata": {},
   "source": [
    "Save predictions to a CSV file."
   ]
  },
  {
   "cell_type": "code",
   "execution_count": null,
   "id": "6a4c7314",
   "metadata": {},
   "outputs": [],
   "source": [
    "pred_df = pd.DataFrame(predictions.predictions)\n",
    "pred_df.to_csv('predictions.csv', index=False)"
   ]
  }
 ],
 "metadata": {
  "kernelspec": {
   "display_name": "Python 3",
   "language": "python",
   "name": "python3"
  },
  "language_info": {
   "codemirror_mode": {
    "name": "ipython",
    "version": 3
   },
   "file_extension": ".py",
   "mimetype": "text/x-python",
   "name": "python",
   "nbconvert_exporter": "python",
   "pygments_lexer": "ipython3",
   "version": "3.8.5"
  }
 },
 "nbformat": 4,
 "nbformat_minor": 5
}
