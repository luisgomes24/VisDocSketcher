{
 "cells": [
  {
   "cell_type": "markdown",
   "id": "140efe0d",
   "metadata": {},
   "source": [
    "Function to read all text files in a specified directory and extract names."
   ]
  },
  {
   "cell_type": "code",
   "execution_count": null,
   "id": "a0146a2a",
   "metadata": {},
   "outputs": [],
   "source": [
    "import os\n",
    "\n",
    "def read_directory_of_names(directory):\n",
    "    names = []\n",
    "    for filename in os.listdir(directory):\n",
    "        if filename.endswith('.txt'):\n",
    "            with open(os.path.join(directory, filename)) as file:\n",
    "                names.extend(file.readlines())\n",
    "    return names"
   ]
  },
  {
   "cell_type": "markdown",
   "id": "1666a295",
   "metadata": {},
   "source": [
    "Function to strip whitespace and create a list of name categories."
   ]
  },
  {
   "cell_type": "code",
   "execution_count": null,
   "id": "372366a3",
   "metadata": {},
   "outputs": [],
   "source": [
    "def get_category_lines(names):\n",
    "    categories = [name.strip() for name in names]\n",
    "    return categories"
   ]
  },
  {
   "cell_type": "markdown",
   "id": "00ecbad7",
   "metadata": {},
   "source": [
    "Tracking a list of loss values during model training."
   ]
  },
  {
   "cell_type": "code",
   "execution_count": null,
   "id": "3a8fcff3",
   "metadata": {},
   "outputs": [],
   "source": [
    "import numpy as np\n",
    "\n",
    "all_losses = []\n",
    "\n",
    "# Example function to add a loss value\n",
    "\n",
    "def track_loss(loss):\n",
    "    all_losses.append(loss)"
   ]
  },
  {
   "cell_type": "markdown",
   "id": "9e7adaed",
   "metadata": {},
   "source": [
    "Calculate confusion matrix using true labels and predicted labels."
   ]
  },
  {
   "cell_type": "code",
   "execution_count": null,
   "id": "80d7bcb1",
   "metadata": {},
   "outputs": [],
   "source": [
    "from sklearn.metrics import confusion_matrix\n",
    "\n",
    "def calculate_confusion_matrix(y_true, y_pred):\n",
    "    return confusion_matrix(y_true, y_pred)"
   ]
  },
  {
   "cell_type": "markdown",
   "id": "6ad19184",
   "metadata": {},
   "source": [
    "Define an RNN model using LSTM layers for classification."
   ]
  },
  {
   "cell_type": "code",
   "execution_count": null,
   "id": "7e2c865f",
   "metadata": {},
   "outputs": [],
   "source": [
    "import keras\n",
    "from keras.models import Sequential\n",
    "from keras.layers import Dense, LSTM\n",
    "\n",
    "model = Sequential()\n",
    "model.add(LSTM(128, input_shape=(None, 1)))\n",
    "model.add(Dense(n_categories, activation='softmax'))"
   ]
  },
  {
   "cell_type": "markdown",
   "id": "77a70116",
   "metadata": {},
   "source": [
    "Get predicted categories and find the indices of maximum probabilities."
   ]
  },
  {
   "cell_type": "code",
   "execution_count": null,
   "id": "35f5561f",
   "metadata": {},
   "outputs": [],
   "source": [
    "predicted_categories = model.predict(X_test)\n",
    "\n",
    "# Convert probabilities to category indices\n",
    "predicted_indices = np.argmax(predicted_categories, axis=1)"
   ]
  },
  {
   "cell_type": "markdown",
   "id": "ef39636b",
   "metadata": {},
   "source": [
    "Function to convert indices into their corresponding category names."
   ]
  },
  {
   "cell_type": "code",
   "execution_count": null,
   "id": "4cc5a7ea",
   "metadata": {},
   "outputs": [],
   "source": [
    "def index_based_on_categories(predicted_indices, categories):\n",
    "    return [categories[i] for i in predicted_indices]"
   ]
  },
  {
   "cell_type": "markdown",
   "id": "105cdb7f",
   "metadata": {},
   "source": [
    "Calculate the number of unique categories from the list."
   ]
  },
  {
   "cell_type": "code",
   "execution_count": null,
   "id": "125f831b",
   "metadata": {},
   "outputs": [],
   "source": [
    "unique_categories = set(categories)\n",
    "number_of_unique_categories = len(unique_categories)"
   ]
  }
 ],
 "metadata": {
  "kernelspec": {
   "display_name": "Python 3",
   "language": "python",
   "name": "python3"
  },
  "language_info": {
   "codemirror_mode": {
    "name": "ipython",
    "version": 3
   },
   "file_extension": ".py",
   "mimetype": "text/x-python",
   "name": "python",
   "nbconvert_exporter": "python",
   "pygments_lexer": "ipython3",
   "version": "3.8.5"
  }
 },
 "nbformat": 4,
 "nbformat_minor": 5
}
