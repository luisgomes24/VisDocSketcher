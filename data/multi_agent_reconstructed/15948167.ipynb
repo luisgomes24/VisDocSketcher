{
 "cells": [
  {
   "cell_type": "markdown",
   "id": "65e6103c",
   "metadata": {},
   "source": [
    "Initialize data augmentation for the training set and create a generator."
   ]
  },
  {
   "cell_type": "code",
   "execution_count": null,
   "id": "a9db3496",
   "metadata": {},
   "outputs": [],
   "source": [
    "from tensorflow.keras.preprocessing.image import ImageDataGenerator\n",
    "train_datagen = ImageDataGenerator(rescale=1./255)\n",
    "train_generator = train_datagen.flow_from_directory('input/cat-and-dog/training_set', target_size=(150, 150), batch_size=32, class_mode='binary')"
   ]
  },
  {
   "cell_type": "markdown",
   "id": "65c679e7",
   "metadata": {},
   "source": [
    "Initialize data augmentation for the test set and create a generator."
   ]
  },
  {
   "cell_type": "code",
   "execution_count": null,
   "id": "be9aa923",
   "metadata": {},
   "outputs": [],
   "source": [
    "test_datagen = ImageDataGenerator(rescale=1./255)\n",
    "test_generator = test_datagen.flow_from_directory('input/cat-and-dog/test_set', target_size=(150, 150), batch_size=32, class_mode='binary')"
   ]
  },
  {
   "cell_type": "markdown",
   "id": "fb3c6a48",
   "metadata": {},
   "source": [
    "Define a Convolutional Neural Network (CNN) with layers: Conv2D, MaxPooling2D, Flatten, and Dense."
   ]
  },
  {
   "cell_type": "code",
   "execution_count": null,
   "id": "149da700",
   "metadata": {},
   "outputs": [],
   "source": [
    "from tensorflow.keras.models import Sequential\n",
    "from tensorflow.keras.layers import Conv2D, MaxPooling2D, Flatten, Dense\n",
    "model = Sequential()\n",
    "model.add(Conv2D(32, (3, 3), activation='relu', input_shape=(150, 150, 3)))\n",
    "model.add(MaxPooling2D(pool_size=(2, 2)))\n",
    "model.add(Flatten())\n",
    "model.add(Dense(1, activation='sigmoid'))"
   ]
  },
  {
   "cell_type": "markdown",
   "id": "ffd4efd7",
   "metadata": {},
   "source": [
    "Compile the model using Adam optimizer and binary crossentropy loss."
   ]
  },
  {
   "cell_type": "code",
   "execution_count": null,
   "id": "6df0eadf",
   "metadata": {},
   "outputs": [],
   "source": [
    "model.compile(optimizer='adam', loss='binary_crossentropy', metrics=['accuracy'])"
   ]
  },
  {
   "cell_type": "markdown",
   "id": "e8a3469b",
   "metadata": {},
   "source": [
    "Train the model with the training data and validate using the test data."
   ]
  },
  {
   "cell_type": "code",
   "execution_count": null,
   "id": "a9d165d2",
   "metadata": {},
   "outputs": [],
   "source": [
    "model.fit(train_generator, steps_per_epoch=100, epochs=15, validation_data=test_generator, validation_steps=50)"
   ]
  },
  {
   "cell_type": "markdown",
   "id": "d6afe622",
   "metadata": {},
   "source": [
    "Load and preprocess a new image for prediction to see the model's output."
   ]
  },
  {
   "cell_type": "code",
   "execution_count": null,
   "id": "8e457b34",
   "metadata": {},
   "outputs": [],
   "source": [
    "import numpy as np\n",
    "from tensorflow.keras.preprocessing import image\n",
    "img = image.load_img('input/single-cat/cat_or_dog_2.jpg', target_size=(150, 150))\n",
    "img_array = image.img_to_array(img)\n",
    "img_array = np.expand_dims(img_array, axis=0)\n",
    "img_array /= 255.0\n",
    "model.predict(img_array)"
   ]
  },
  {
   "cell_type": "markdown",
   "id": "9cc3b348",
   "metadata": {},
   "source": [
    "Load and preprocess another image for prediction to check the model's accuracy."
   ]
  },
  {
   "cell_type": "code",
   "execution_count": null,
   "id": "cad3f3f5",
   "metadata": {},
   "outputs": [],
   "source": [
    "img = image.load_img('input/single-dog/cat_or_dog_1.jpg', target_size=(150, 150))\n",
    "img_array = image.img_to_array(img)\n",
    "img_array = np.expand_dims(img_array, axis=0)\n",
    "img_array /= 255.0\n",
    "model.predict(img_array)"
   ]
  }
 ],
 "metadata": {
  "kernelspec": {
   "display_name": "Python 3",
   "language": "python",
   "name": "python3"
  },
  "language_info": {
   "codemirror_mode": {
    "name": "ipython",
    "version": 3
   },
   "file_extension": ".py",
   "mimetype": "text/x-python",
   "name": "python",
   "nbconvert_exporter": "python",
   "pygments_lexer": "ipython3",
   "version": "3.8.5"
  }
 },
 "nbformat": 4,
 "nbformat_minor": 5
}
