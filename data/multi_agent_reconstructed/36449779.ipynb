{
 "cells": [
  {
   "cell_type": "markdown",
   "id": "cefef535",
   "metadata": {},
   "source": [
    "Set the path to the image dataset directory."
   ]
  },
  {
   "cell_type": "code",
   "execution_count": null,
   "id": "4516ecdc",
   "metadata": {},
   "outputs": [],
   "source": [
    "data_dir = 'path/to/dataset'"
   ]
  },
  {
   "cell_type": "markdown",
   "id": "1f4d18c6",
   "metadata": {},
   "source": [
    "Create a list of image file paths."
   ]
  },
  {
   "cell_type": "code",
   "execution_count": null,
   "id": "8c289ee0",
   "metadata": {},
   "outputs": [],
   "source": [
    "filepaths = [...]  # List of image file paths"
   ]
  },
  {
   "cell_type": "markdown",
   "id": "a15b7e32",
   "metadata": {},
   "source": [
    "Create a list of corresponding labels for the images."
   ]
  },
  {
   "cell_type": "code",
   "execution_count": null,
   "id": "52c16a00",
   "metadata": {},
   "outputs": [],
   "source": [
    "labels = [...]  # List of image labels"
   ]
  },
  {
   "cell_type": "markdown",
   "id": "6ce0507b",
   "metadata": {},
   "source": [
    "Combine the file paths and labels into a DataFrame."
   ]
  },
  {
   "cell_type": "code",
   "execution_count": null,
   "id": "b2bf420d",
   "metadata": {},
   "outputs": [],
   "source": [
    "import pandas as pd\n",
    "df = pd.DataFrame({'filepaths': filepaths, 'labels': labels})"
   ]
  },
  {
   "cell_type": "markdown",
   "id": "797deb14",
   "metadata": {},
   "source": [
    "Split the DataFrame into training, validation, and test sets."
   ]
  },
  {
   "cell_type": "code",
   "execution_count": null,
   "id": "d3347dd5",
   "metadata": {},
   "outputs": [],
   "source": [
    "train_df, valid_df, test_df = np.split(df.sample(frac=1, random_state=42), [int(.7*len(df)), int(.85*len(df))])"
   ]
  },
  {
   "cell_type": "markdown",
   "id": "42ff39b4",
   "metadata": {},
   "source": [
    "Create ImageDataLoaders from the training and validation DataFrames."
   ]
  },
  {
   "cell_type": "code",
   "execution_count": null,
   "id": "076ee6f6",
   "metadata": {},
   "outputs": [],
   "source": [
    "from fastai.vision.all import *\n",
    "dls = ImageDataLoaders.from_df(train_df, valid_df, ...)"
   ]
  },
  {
   "cell_type": "markdown",
   "id": "f9eb4267",
   "metadata": {},
   "source": [
    "Initialize a CNN learner using the EfficientNet-B3 architecture."
   ]
  },
  {
   "cell_type": "code",
   "execution_count": null,
   "id": "59f13298",
   "metadata": {},
   "outputs": [],
   "source": [
    "learn = cnn_learner(dls, efficientnet_b3, metrics=[accuracy, error_rate])"
   ]
  },
  {
   "cell_type": "markdown",
   "id": "e80e8fb8",
   "metadata": {},
   "source": [
    "Train the model for 30 cycles with a specified learning rate."
   ]
  },
  {
   "cell_type": "code",
   "execution_count": null,
   "id": "a16a970d",
   "metadata": {},
   "outputs": [],
   "source": [
    "learn.fit_one_cycle(30, slice(1e-3, 1e-2))"
   ]
  },
  {
   "cell_type": "markdown",
   "id": "8d4b5893",
   "metadata": {},
   "source": [
    "Obtain model predictions and true labels for the validation set."
   ]
  },
  {
   "cell_type": "code",
   "execution_count": null,
   "id": "2c6bd903",
   "metadata": {},
   "outputs": [],
   "source": [
    "preds, y = learn.get_preds()"
   ]
  },
  {
   "cell_type": "markdown",
   "id": "82f1993c",
   "metadata": {},
   "source": [
    "Calculate the loss on the validation set."
   ]
  },
  {
   "cell_type": "code",
   "execution_count": null,
   "id": "7300bcdd",
   "metadata": {},
   "outputs": [],
   "source": [
    "loss = learn.validate()[0]"
   ]
  },
  {
   "cell_type": "markdown",
   "id": "3352b214",
   "metadata": {},
   "source": [
    "Perform model interpretation and error analysis."
   ]
  },
  {
   "cell_type": "code",
   "execution_count": null,
   "id": "1e141677",
   "metadata": {},
   "outputs": [],
   "source": [
    "learn.interpret()"
   ]
  }
 ],
 "metadata": {
  "kernelspec": {
   "display_name": "Python 3",
   "language": "python",
   "name": "python3"
  },
  "language_info": {
   "codemirror_mode": {
    "name": "ipython",
    "version": 3
   },
   "file_extension": ".py",
   "mimetype": "text/x-python",
   "name": "python",
   "nbconvert_exporter": "python",
   "pygments_lexer": "ipython3",
   "version": "3.8.5"
  }
 },
 "nbformat": 4,
 "nbformat_minor": 5
}
