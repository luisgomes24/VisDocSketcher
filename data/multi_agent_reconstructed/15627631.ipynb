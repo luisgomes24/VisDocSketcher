{
 "cells": [
  {
   "cell_type": "markdown",
   "id": "797df606",
   "metadata": {},
   "source": [
    "Load the dataset from 'train.csv' into a DataFrame named df_orig."
   ]
  },
  {
   "cell_type": "code",
   "execution_count": null,
   "id": "ec5634b9",
   "metadata": {},
   "outputs": [],
   "source": [
    "import pandas as pd\n",
    "df_orig = pd.read_csv('train.csv')"
   ]
  },
  {
   "cell_type": "markdown",
   "id": "adfc27f6",
   "metadata": {},
   "source": [
    "Create a scatter plot using the 'X Axis' and 'Y Axis' columns from df_orig."
   ]
  },
  {
   "cell_type": "code",
   "execution_count": null,
   "id": "e76ffb34",
   "metadata": {},
   "outputs": [],
   "source": [
    "import matplotlib.pyplot as plt\n",
    "plt.scatter(df_orig['X Axis'], df_orig['Y Axis'])\n",
    "plt.xlabel('X Axis')\n",
    "plt.ylabel('Y Axis')\n",
    "plt.show()"
   ]
  },
  {
   "cell_type": "markdown",
   "id": "db5fd59a",
   "metadata": {},
   "source": [
    "Extract numerical features from df_orig into a new DataFrame named df_num."
   ]
  },
  {
   "cell_type": "code",
   "execution_count": null,
   "id": "92c1f900",
   "metadata": {},
   "outputs": [],
   "source": [
    "df_num = df_orig.select_dtypes(include=['number'])"
   ]
  },
  {
   "cell_type": "markdown",
   "id": "df2b5f4f",
   "metadata": {},
   "source": [
    "Extract categorical features from df_orig into a new DataFrame named df_cate."
   ]
  },
  {
   "cell_type": "code",
   "execution_count": null,
   "id": "91b87eca",
   "metadata": {},
   "outputs": [],
   "source": [
    "df_cate = df_orig.select_dtypes(include=['object'])"
   ]
  },
  {
   "cell_type": "markdown",
   "id": "383f6f84",
   "metadata": {},
   "source": [
    "Generate histograms for the numerical features in df_num."
   ]
  },
  {
   "cell_type": "code",
   "execution_count": null,
   "id": "9ae33e2b",
   "metadata": {},
   "outputs": [],
   "source": [
    "df_num.hist()\n",
    "plt.show()"
   ]
  },
  {
   "cell_type": "markdown",
   "id": "5cb27d2b",
   "metadata": {},
   "source": [
    "Create box plots for the categorical features in df_cate."
   ]
  },
  {
   "cell_type": "code",
   "execution_count": null,
   "id": "69bf0250",
   "metadata": {},
   "outputs": [],
   "source": [
    "import seaborn as sns\n",
    "sns.boxplot(data=df_cate)\n",
    "plt.show()"
   ]
  }
 ],
 "metadata": {
  "kernelspec": {
   "display_name": "Python 3",
   "language": "python",
   "name": "python3"
  },
  "language_info": {
   "codemirror_mode": {
    "name": "ipython",
    "version": 3
   },
   "file_extension": ".py",
   "mimetype": "text/x-python",
   "name": "python",
   "nbconvert_exporter": "python",
   "pygments_lexer": "ipython3",
   "version": "3.8.5"
  }
 },
 "nbformat": 4,
 "nbformat_minor": 5
}
