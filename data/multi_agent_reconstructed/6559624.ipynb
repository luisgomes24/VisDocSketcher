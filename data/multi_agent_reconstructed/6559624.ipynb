{
 "cells": [
  {
   "cell_type": "markdown",
   "id": "8f09717f",
   "metadata": {},
   "source": [
    "Load questions data from 'questions_only.csv'."
   ]
  },
  {
   "cell_type": "code",
   "execution_count": null,
   "id": "98819b8d",
   "metadata": {},
   "outputs": [],
   "source": [
    "import pandas as pd\n",
    "df_questions = pd.read_csv('questions_only.csv')"
   ]
  },
  {
   "cell_type": "markdown",
   "id": "de6b3c47",
   "metadata": {},
   "source": [
    "Load multiple choice responses from 'multiple_choice_responses.csv'."
   ]
  },
  {
   "cell_type": "code",
   "execution_count": null,
   "id": "78b09470",
   "metadata": {},
   "outputs": [],
   "source": [
    "df_responses = pd.read_csv('multiple_choice_responses.csv')"
   ]
  },
  {
   "cell_type": "markdown",
   "id": "60f7b566",
   "metadata": {},
   "source": [
    "Filter data to include only students and data scientists."
   ]
  },
  {
   "cell_type": "code",
   "execution_count": null,
   "id": "9ea69f6b",
   "metadata": {},
   "outputs": [],
   "source": [
    "df_filtered = df_responses[(df_responses['role'] == 'student') | (df_responses['role'] == 'data scientist')]"
   ]
  },
  {
   "cell_type": "markdown",
   "id": "c86c2299",
   "metadata": {},
   "source": [
    "Separate the features (X) from the target variable (y)."
   ]
  },
  {
   "cell_type": "code",
   "execution_count": null,
   "id": "9b52eaf3",
   "metadata": {},
   "outputs": [],
   "source": [
    "X = df_filtered.drop('target_variable', axis=1)\n",
    "y = df_filtered['target_variable']"
   ]
  },
  {
   "cell_type": "markdown",
   "id": "d1c82482",
   "metadata": {},
   "source": [
    "Split the data into training and validation sets."
   ]
  },
  {
   "cell_type": "code",
   "execution_count": null,
   "id": "afde0147",
   "metadata": {},
   "outputs": [],
   "source": [
    "from sklearn.model_selection import train_test_split\n",
    "X_train, X_valid, y_train, y_valid = train_test_split(X, y, test_size=0.2, random_state=42)"
   ]
  },
  {
   "cell_type": "markdown",
   "id": "af33acdb",
   "metadata": {},
   "source": [
    "Train a Random Forest model using the training dataset."
   ]
  },
  {
   "cell_type": "code",
   "execution_count": null,
   "id": "9058aa2e",
   "metadata": {},
   "outputs": [],
   "source": [
    "from sklearn.ensemble import RandomForestClassifier\n",
    "model = RandomForestClassifier()\n",
    "model.fit(X_train, y_train)"
   ]
  },
  {
   "cell_type": "markdown",
   "id": "ef59c5bf",
   "metadata": {},
   "source": [
    "Make predictions on the validation set."
   ]
  },
  {
   "cell_type": "code",
   "execution_count": null,
   "id": "1a16c94a",
   "metadata": {},
   "outputs": [],
   "source": [
    "predictions = model.predict(X_valid)"
   ]
  },
  {
   "cell_type": "markdown",
   "id": "b8ccc738",
   "metadata": {},
   "source": [
    "Evaluate the model's accuracy using the validation predictions."
   ]
  },
  {
   "cell_type": "code",
   "execution_count": null,
   "id": "57e6fb23",
   "metadata": {},
   "outputs": [],
   "source": [
    "from sklearn.metrics import accuracy_score\n",
    "accuracy = accuracy_score(y_valid, predictions)"
   ]
  }
 ],
 "metadata": {
  "kernelspec": {
   "display_name": "Python 3",
   "language": "python",
   "name": "python3"
  },
  "language_info": {
   "codemirror_mode": {
    "name": "ipython",
    "version": 3
   },
   "file_extension": ".py",
   "mimetype": "text/x-python",
   "name": "python",
   "nbconvert_exporter": "python",
   "pygments_lexer": "ipython3",
   "version": "3.8.5"
  }
 },
 "nbformat": 4,
 "nbformat_minor": 5
}
