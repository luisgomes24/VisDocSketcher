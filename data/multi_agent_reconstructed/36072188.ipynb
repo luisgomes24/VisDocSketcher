{
 "cells": [
  {
   "cell_type": "markdown",
   "id": "22966d73",
   "metadata": {},
   "source": [
    "Read the CSV file into a DataFrame."
   ]
  },
  {
   "cell_type": "code",
   "execution_count": null,
   "id": "ec671ee5",
   "metadata": {},
   "outputs": [],
   "source": [
    "import pandas as pd\n",
    "\n",
    "data = pd.read_csv('cardata.csv')"
   ]
  },
  {
   "cell_type": "markdown",
   "id": "731dd119",
   "metadata": {},
   "source": [
    "Process the DataFrame to separate features (X) and target (Y)."
   ]
  },
  {
   "cell_type": "code",
   "execution_count": null,
   "id": "aefaa50f",
   "metadata": {},
   "outputs": [],
   "source": [
    "X = data.drop('target_column', axis=1)\n",
    "Y = data['target_column']"
   ]
  },
  {
   "cell_type": "markdown",
   "id": "693a019c",
   "metadata": {},
   "source": [
    "Split the data into training and test sets."
   ]
  },
  {
   "cell_type": "code",
   "execution_count": null,
   "id": "650a9a13",
   "metadata": {},
   "outputs": [],
   "source": [
    "from sklearn.model_selection import train_test_split\n",
    "X_train, X_test, Y_train, Y_test = train_test_split(X, Y, test_size=0.2, random_state=42)"
   ]
  },
  {
   "cell_type": "markdown",
   "id": "c377312d",
   "metadata": {},
   "source": [
    "Initialize the Linear Regression model."
   ]
  },
  {
   "cell_type": "code",
   "execution_count": null,
   "id": "e4fa2250",
   "metadata": {},
   "outputs": [],
   "source": [
    "from sklearn.linear_model import LinearRegression\n",
    "model = LinearRegression()"
   ]
  },
  {
   "cell_type": "markdown",
   "id": "674994f9",
   "metadata": {},
   "source": [
    "Train the model using the training data."
   ]
  },
  {
   "cell_type": "code",
   "execution_count": null,
   "id": "a8303dc2",
   "metadata": {},
   "outputs": [],
   "source": [
    "model.fit(X_train, Y_train)"
   ]
  },
  {
   "cell_type": "markdown",
   "id": "83e235aa",
   "metadata": {},
   "source": [
    "Predict outcomes for the training set."
   ]
  },
  {
   "cell_type": "code",
   "execution_count": null,
   "id": "8c7f115f",
   "metadata": {},
   "outputs": [],
   "source": [
    "train_predictions = model.predict(X_train)"
   ]
  },
  {
   "cell_type": "markdown",
   "id": "41a41dfc",
   "metadata": {},
   "source": [
    "Predict outcomes for the test set."
   ]
  },
  {
   "cell_type": "code",
   "execution_count": null,
   "id": "ca250ec3",
   "metadata": {},
   "outputs": [],
   "source": [
    "test_predictions = model.predict(X_test)"
   ]
  }
 ],
 "metadata": {
  "kernelspec": {
   "display_name": "Python 3",
   "language": "python",
   "name": "python3"
  },
  "language_info": {
   "codemirror_mode": {
    "name": "ipython",
    "version": 3
   },
   "file_extension": ".py",
   "mimetype": "text/x-python",
   "name": "python",
   "nbconvert_exporter": "python",
   "pygments_lexer": "ipython3",
   "version": "3.8.5"
  }
 },
 "nbformat": 4,
 "nbformat_minor": 5
}
