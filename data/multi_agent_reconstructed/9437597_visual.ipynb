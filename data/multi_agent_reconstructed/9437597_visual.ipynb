{
 "cells": [
  {
   "cell_type": "markdown",
   "id": "7c543c45",
   "metadata": {},
   "source": [
    "This function creates data generators for training and validation images with rescaling."
   ]
  },
  {
   "cell_type": "code",
   "execution_count": null,
   "id": "a35b175b",
   "metadata": {},
   "outputs": [],
   "source": [
    "from keras.preprocessing.image import ImageDataGenerator\n",
    "\n",
    "def create_generators(train_dir, validation_dir):\n",
    "    train_datagen = ImageDataGenerator(rescale=1./255)\n",
    "    validation_datagen = ImageDataGenerator(rescale=1./255)\n",
    "    train_generator = train_datagen.flow_from_directory(\n",
    "        train_dir,\n",
    "        target_size=(224, 224),\n",
    "        batch_size=32,\n",
    "        class_mode='categorical')\n",
    "    validation_generator = validation_datagen.flow_from_directory(\n",
    "        validation_dir,\n",
    "        target_size=(224, 224),\n",
    "        batch_size=32,\n",
    "        class_mode='categorical')\n",
    "    return train_generator, validation_generator"
   ]
  },
  {
   "cell_type": "markdown",
   "id": "64679483",
   "metadata": {},
   "source": [
    "Load the pre-trained ResNet50 model to use as the base for the new model."
   ]
  },
  {
   "cell_type": "code",
   "execution_count": null,
   "id": "2c0c9307",
   "metadata": {},
   "outputs": [],
   "source": [
    "from keras.applications import ResNet50\n",
    "from keras.models import Sequential\n",
    "from keras.layers import Dense\n",
    "\n",
    "base_model = ResNet50(weights='imagenet', include_top=False, input_shape=(224, 224, 3))"
   ]
  },
  {
   "cell_type": "markdown",
   "id": "b720acf5",
   "metadata": {},
   "source": [
    "Build a new sequential model adding the base model and additional layers."
   ]
  },
  {
   "cell_type": "code",
   "execution_count": null,
   "id": "53e2519b",
   "metadata": {},
   "outputs": [],
   "source": [
    "my_new_model = Sequential()\n",
    "my_new_model.add(base_model)\n",
    "my_new_model.add(Dense(256, activation='relu'))\n",
    "my_new_model.add(Dense(num_classes, activation='softmax'))"
   ]
  },
  {
   "cell_type": "markdown",
   "id": "5984ca45",
   "metadata": {},
   "source": [
    "Compile the model using the Adam optimizer, categorical crossentropy loss, and accuracy metric."
   ]
  },
  {
   "cell_type": "code",
   "execution_count": null,
   "id": "6838a64c",
   "metadata": {},
   "outputs": [],
   "source": [
    "my_new_model.compile(optimizer='adam', loss='categorical_crossentropy', metrics=['accuracy'])"
   ]
  },
  {
   "cell_type": "markdown",
   "id": "6aae7d35",
   "metadata": {},
   "source": [
    "Train the model using the training generator and validate with the validation generator."
   ]
  },
  {
   "cell_type": "code",
   "execution_count": null,
   "id": "351fd7ac",
   "metadata": {},
   "outputs": [],
   "source": [
    "fit_stats = my_new_model.fit(train_generator, epochs=10, validation_data=validation_generator)"
   ]
  },
  {
   "cell_type": "markdown",
   "id": "270c248b",
   "metadata": {},
   "source": [
    "Output the fit statistics after training to evaluate the model performance."
   ]
  },
  {
   "cell_type": "code",
   "execution_count": null,
   "id": "6c4abb5c",
   "metadata": {},
   "outputs": [],
   "source": [
    "print(fit_stats.history)"
   ]
  },
  {
   "cell_type": "markdown",
   "id": "227b5499",
   "metadata": {},
   "source": [
    "Store the results in a pickle file for later analysis."
   ]
  },
  {
   "cell_type": "code",
   "execution_count": null,
   "id": "a899fe47",
   "metadata": {},
   "outputs": [],
   "source": [
    "import pickle\n",
    "\n",
    "with open('fit_stats.pkl', 'wb') as f:\n",
    "    pickle.dump(fit_stats.history, f)"
   ]
  }
 ],
 "metadata": {
  "kernelspec": {
   "display_name": "Python 3",
   "language": "python",
   "name": "python3"
  },
  "language_info": {
   "codemirror_mode": {
    "name": "ipython",
    "version": 3
   },
   "file_extension": ".py",
   "mimetype": "text/x-python",
   "name": "python",
   "nbconvert_exporter": "python",
   "pygments_lexer": "ipython3",
   "version": "3.8.5"
  }
 },
 "nbformat": 4,
 "nbformat_minor": 5
}
