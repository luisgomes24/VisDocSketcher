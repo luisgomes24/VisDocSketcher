{
 "cells": [
  {
   "cell_type": "markdown",
   "id": "126c31f9",
   "metadata": {},
   "source": [
    "Read multiple CSV files into separate DataFrames."
   ]
  },
  {
   "cell_type": "code",
   "execution_count": null,
   "id": "ef5e654b",
   "metadata": {},
   "outputs": [],
   "source": [
    "import pandas as pd\n",
    "df_2004 = pd.read_csv('LokSabha2004.csv')\n",
    "df_2009 = pd.read_csv('LokSabha2009.csv')\n",
    "df_2014 = pd.read_csv('LokSabha2014.csv')\n",
    "df_2019 = pd.read_csv('LokSabha2019.csv')"
   ]
  },
  {
   "cell_type": "markdown",
   "id": "513d5500",
   "metadata": {},
   "source": [
    "Sort each DataFrame by the number of criminal cases."
   ]
  },
  {
   "cell_type": "code",
   "execution_count": null,
   "id": "830e6b5a",
   "metadata": {},
   "outputs": [],
   "source": [
    "df_2004_sorted = df_2004.sort_values(by='criminal_cases')\n",
    "df_2009_sorted = df_2009.sort_values(by='criminal_cases')\n",
    "df_2014_sorted = df_2014.sort_values(by='criminal_cases')\n",
    "df_2019_sorted = df_2019.sort_values(by='criminal_cases')"
   ]
  },
  {
   "cell_type": "markdown",
   "id": "7064478b",
   "metadata": {},
   "source": [
    "Define a function to find the city with the highest number of criminal cases."
   ]
  },
  {
   "cell_type": "code",
   "execution_count": null,
   "id": "de12fa71",
   "metadata": {},
   "outputs": [],
   "source": [
    "def find_highest_crime_city(df):\n",
    "    return df.loc[df['criminal_cases'].idxmax(), 'city']"
   ]
  },
  {
   "cell_type": "markdown",
   "id": "e4ca7880",
   "metadata": {},
   "source": [
    "Apply the function to find the highest crime city for each DataFrame."
   ]
  },
  {
   "cell_type": "code",
   "execution_count": null,
   "id": "c710c7e3",
   "metadata": {},
   "outputs": [],
   "source": [
    "highest_crime_city_2004 = find_highest_crime_city(df_2004_sorted)\n",
    "highest_crime_city_2009 = find_highest_crime_city(df_2009_sorted)\n",
    "highest_crime_city_2014 = find_highest_crime_city(df_2014_sorted)\n",
    "highest_crime_city_2019 = find_highest_crime_city(df_2019_sorted)"
   ]
  },
  {
   "cell_type": "markdown",
   "id": "e6fb4c4f",
   "metadata": {},
   "source": [
    "Define a function to get the top five candidates by criminal cases."
   ]
  },
  {
   "cell_type": "code",
   "execution_count": null,
   "id": "22d9628d",
   "metadata": {},
   "outputs": [],
   "source": [
    "def top_five_crime_candidates(df):\n",
    "    return df.nlargest(5, 'criminal_cases')['candidate']"
   ]
  },
  {
   "cell_type": "markdown",
   "id": "2c2429ff",
   "metadata": {},
   "source": [
    "Get top five crime candidates for each sorted DataFrame."
   ]
  },
  {
   "cell_type": "code",
   "execution_count": null,
   "id": "355fc56f",
   "metadata": {},
   "outputs": [],
   "source": [
    "top_five_candidates_2004 = top_five_crime_candidates(df_2004_sorted)\n",
    "top_five_candidates_2009 = top_five_crime_candidates(df_2009_sorted)\n",
    "top_five_candidates_2014 = top_five_crime_candidates(df_2014_sorted)\n",
    "top_five_candidates_2019 = top_five_crime_candidates(df_2019_sorted)"
   ]
  }
 ],
 "metadata": {
  "kernelspec": {
   "display_name": "Python 3",
   "language": "python",
   "name": "python3"
  },
  "language_info": {
   "codemirror_mode": {
    "name": "ipython",
    "version": 3
   },
   "file_extension": ".py",
   "mimetype": "text/x-python",
   "name": "python",
   "nbconvert_exporter": "python",
   "pygments_lexer": "ipython3",
   "version": "3.8.5"
  }
 },
 "nbformat": 4,
 "nbformat_minor": 5
}
