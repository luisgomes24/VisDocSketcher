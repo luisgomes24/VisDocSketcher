{
 "cells": [
  {
   "cell_type": "markdown",
   "id": "b4b654d5",
   "metadata": {},
   "source": [
    "Load the PovStatsCountry dataset from a CSV file."
   ]
  },
  {
   "cell_type": "code",
   "execution_count": null,
   "id": "b4bc6771",
   "metadata": {},
   "outputs": [],
   "source": [
    "import pandas as pd\n",
    "\n",
    "pov_stats_country = pd.read_csv('PovStatsCountry.csv')"
   ]
  },
  {
   "cell_type": "markdown",
   "id": "3aa6711f",
   "metadata": {},
   "source": [
    "Create a scatter plot using the X and Y values from the dataset."
   ]
  },
  {
   "cell_type": "code",
   "execution_count": null,
   "id": "5b5a8948",
   "metadata": {},
   "outputs": [],
   "source": [
    "import matplotlib.pyplot as plt\n",
    "\n",
    "plt.scatter(pov_stats_country['X Axis'], pov_stats_country['Y Axis'])\n",
    "plt.title('Scatter Plot')\n",
    "plt.xlabel('X Axis')\n",
    "plt.ylabel('Yield')\n",
    "plt.show()"
   ]
  },
  {
   "cell_type": "markdown",
   "id": "9374e329",
   "metadata": {},
   "source": [
    "Load the PovStatsCountry-Series dataset from a CSV file."
   ]
  },
  {
   "cell_type": "code",
   "execution_count": null,
   "id": "06cd6c08",
   "metadata": {},
   "outputs": [],
   "source": [
    "pov_stats_country_series = pd.read_csv('PovStatsCountry-Series.csv')"
   ]
  },
  {
   "cell_type": "markdown",
   "id": "ae252adb",
   "metadata": {},
   "source": [
    "Create a histogram to visualize the distribution of values."
   ]
  },
  {
   "cell_type": "code",
   "execution_count": null,
   "id": "ba207d9e",
   "metadata": {},
   "outputs": [],
   "source": [
    "plt.hist(pov_stats_country_series['Value Range'])\n",
    "plt.title('Histogram')\n",
    "plt.xlabel('Value Range')\n",
    "plt.ylabel('Frequency')\n",
    "plt.show()"
   ]
  },
  {
   "cell_type": "markdown",
   "id": "f818ab6f",
   "metadata": {},
   "source": [
    "Generate a boxplot to display summary statistics of the data."
   ]
  },
  {
   "cell_type": "code",
   "execution_count": null,
   "id": "67aef260",
   "metadata": {},
   "outputs": [],
   "source": [
    "plt.boxplot(pov_stats_country_series['Value'])\n",
    "plt.title('Boxplot')\n",
    "plt.xticks([1], ['A', 'B', 'C'])\n",
    "plt.ylabel('Value')\n",
    "plt.show()"
   ]
  },
  {
   "cell_type": "markdown",
   "id": "ef372577",
   "metadata": {},
   "source": [
    "Create a line plot to analyze trends over time."
   ]
  },
  {
   "cell_type": "code",
   "execution_count": null,
   "id": "e00706b7",
   "metadata": {},
   "outputs": [],
   "source": [
    "plt.plot(pov_stats_country['Time'], pov_stats_country['Yield'], marker='o')\n",
    "plt.title('Lineplot')\n",
    "plt.xlabel('Time')\n",
    "plt.ylabel('Yield')\n",
    "plt.show()"
   ]
  },
  {
   "cell_type": "markdown",
   "id": "c9b139c4",
   "metadata": {},
   "source": [
    "Generate a density plot to visualize the probability density of the yield values."
   ]
  },
  {
   "cell_type": "code",
   "execution_count": null,
   "id": "eaa87c24",
   "metadata": {},
   "outputs": [],
   "source": [
    "import seaborn as sns\n",
    "sns.kdeplot(pov_stats_country['Y Axis'])\n",
    "plt.title('Density Plot')\n",
    "plt.xlabel('Yield')\n",
    "plt.ylabel('Density')\n",
    "plt.show()"
   ]
  }
 ],
 "metadata": {
  "kernelspec": {
   "display_name": "Python 3",
   "language": "python",
   "name": "python3"
  },
  "language_info": {
   "codemirror_mode": {
    "name": "ipython",
    "version": 3
   },
   "file_extension": ".py",
   "mimetype": "text/x-python",
   "name": "python",
   "nbconvert_exporter": "python",
   "pygments_lexer": "ipython3",
   "version": "3.8.5"
  }
 },
 "nbformat": 4,
 "nbformat_minor": 5
}
