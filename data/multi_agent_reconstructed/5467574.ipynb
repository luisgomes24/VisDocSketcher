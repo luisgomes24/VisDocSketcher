{
 "cells": [
  {
   "cell_type": "markdown",
   "id": "80f18a38",
   "metadata": {},
   "source": [
    "Load data from a CSV file into a Pandas DataFrame."
   ]
  },
  {
   "cell_type": "code",
   "execution_count": null,
   "id": "85ebb3e0",
   "metadata": {},
   "outputs": [],
   "source": [
    "import pandas as pd\n",
    "data = pd.read_csv('data_source.csv')"
   ]
  },
  {
   "cell_type": "markdown",
   "id": "d00772f9",
   "metadata": {},
   "source": [
    "Select relevant features from the DataFrame."
   ]
  },
  {
   "cell_type": "code",
   "execution_count": null,
   "id": "96605e7d",
   "metadata": {},
   "outputs": [],
   "source": [
    "features = data[['feature1', 'feature2', 'feature3']]"
   ]
  },
  {
   "cell_type": "markdown",
   "id": "7b1dbc16",
   "metadata": {},
   "source": [
    "Split the dataset into training and testing sets."
   ]
  },
  {
   "cell_type": "code",
   "execution_count": null,
   "id": "983ecbe7",
   "metadata": {},
   "outputs": [],
   "source": [
    "from sklearn.model_selection import train_test_split\n",
    "X_train, X_test, y_train, y_test = train_test_split(features, label, test_size=0.2)"
   ]
  },
  {
   "cell_type": "markdown",
   "id": "927a9cd1",
   "metadata": {},
   "source": [
    "Train a linear regression model on the training data."
   ]
  },
  {
   "cell_type": "code",
   "execution_count": null,
   "id": "db850954",
   "metadata": {},
   "outputs": [],
   "source": [
    "from sklearn.linear_model import LinearRegression\n",
    "model = LinearRegression()\n",
    "model.fit(X_train, y_train)"
   ]
  },
  {
   "cell_type": "markdown",
   "id": "96af133c",
   "metadata": {},
   "source": [
    "Generate predictions using the test set."
   ]
  },
  {
   "cell_type": "code",
   "execution_count": null,
   "id": "d0d451a2",
   "metadata": {},
   "outputs": [],
   "source": [
    "predictions = model.predict(X_test)"
   ]
  },
  {
   "cell_type": "markdown",
   "id": "72691720",
   "metadata": {},
   "source": [
    "Visualize the model predictions against actual values."
   ]
  },
  {
   "cell_type": "code",
   "execution_count": null,
   "id": "6668ddd4",
   "metadata": {},
   "outputs": [],
   "source": [
    "import matplotlib.pyplot as plt\n",
    "plt.scatter(X_test, y_test, color='black')\n",
    "plt.plot(X_test, predictions, color='blue')\n",
    "plt.show()"
   ]
  },
  {
   "cell_type": "markdown",
   "id": "2c5ac1bd",
   "metadata": {},
   "source": [
    "Evaluate the model's performance using Mean Squared Error."
   ]
  },
  {
   "cell_type": "code",
   "execution_count": null,
   "id": "df2a5cd4",
   "metadata": {},
   "outputs": [],
   "source": [
    "from sklearn.metrics import mean_squared_error\n",
    "mse = mean_squared_error(y_test, predictions)"
   ]
  }
 ],
 "metadata": {
  "kernelspec": {
   "display_name": "Python 3",
   "language": "python",
   "name": "python3"
  },
  "language_info": {
   "codemirror_mode": {
    "name": "ipython",
    "version": 3
   },
   "file_extension": ".py",
   "mimetype": "text/x-python",
   "name": "python",
   "nbconvert_exporter": "python",
   "pygments_lexer": "ipython3",
   "version": "3.8.5"
  }
 },
 "nbformat": 4,
 "nbformat_minor": 5
}
