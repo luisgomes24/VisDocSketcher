{
 "cells": [
  {
   "cell_type": "markdown",
   "id": "04359b22",
   "metadata": {},
   "source": [
    "Create an instance of a normal distribution with mean 0 and standard deviation 1. Generate 1000 samples."
   ]
  },
  {
   "cell_type": "code",
   "execution_count": null,
   "id": "76c49d15",
   "metadata": {},
   "outputs": [],
   "source": [
    "from scipy.stats import norm\n",
    "n = norm(loc=0, scale=1)\n",
    "samples_n = n.rvs(size=1000)"
   ]
  },
  {
   "cell_type": "markdown",
   "id": "1c39d2f6",
   "metadata": {},
   "source": [
    "Plot the histogram of the generated normal distribution samples."
   ]
  },
  {
   "cell_type": "code",
   "execution_count": null,
   "id": "3b7c5b50",
   "metadata": {},
   "outputs": [],
   "source": [
    "import matplotlib.pyplot as plt\n",
    "plt.hist(samples_n, bins=30, density=True)\n",
    "plt.title('Normal Distribution')\n",
    "plt.show()"
   ]
  },
  {
   "cell_type": "markdown",
   "id": "9657e6e2",
   "metadata": {},
   "source": [
    "Create an instance of a symmetric triangular distribution. Generate 1000 samples."
   ]
  },
  {
   "cell_type": "code",
   "execution_count": null,
   "id": "8d59e24d",
   "metadata": {},
   "outputs": [],
   "source": [
    "from scipy.stats import triang\n",
    "st = triang(c=0.5, loc=0, scale=1)\n",
    "samples_st = st.rvs(size=1000)"
   ]
  },
  {
   "cell_type": "markdown",
   "id": "da54862f",
   "metadata": {},
   "source": [
    "Plot the histogram of the generated symmetric triangular distribution samples."
   ]
  },
  {
   "cell_type": "code",
   "execution_count": null,
   "id": "a0ef4620",
   "metadata": {},
   "outputs": [],
   "source": [
    "plt.hist(samples_st, bins=30, density=True)\n",
    "plt.title('Symmetric Triangular Distribution')\n",
    "plt.show()"
   ]
  },
  {
   "cell_type": "markdown",
   "id": "781a79c5",
   "metadata": {},
   "source": [
    "Create an instance of an exponential distribution with a scale parameter of 1. Generate 1000 samples."
   ]
  },
  {
   "cell_type": "code",
   "execution_count": null,
   "id": "4eaafcbc",
   "metadata": {},
   "outputs": [],
   "source": [
    "from scipy.stats import expon\n",
    "e = expon(loc=0, scale=1)\n",
    "samples_e = e.rvs(size=1000)"
   ]
  },
  {
   "cell_type": "markdown",
   "id": "af107c2e",
   "metadata": {},
   "source": [
    "Plot the histogram of the generated exponential distribution samples."
   ]
  },
  {
   "cell_type": "code",
   "execution_count": null,
   "id": "b3421643",
   "metadata": {},
   "outputs": [],
   "source": [
    "plt.hist(samples_e, bins=30, density=True)\n",
    "plt.title('Exponential Distribution')\n",
    "plt.show()"
   ]
  },
  {
   "cell_type": "markdown",
   "id": "3ca5aced",
   "metadata": {},
   "source": [
    "Generate a statistical summary of the exponential distribution samples."
   ]
  },
  {
   "cell_type": "code",
   "execution_count": null,
   "id": "430e4f89",
   "metadata": {},
   "outputs": [],
   "source": [
    "from scipy import stats\n",
    "summary_e = stats.describe(samples_e)"
   ]
  },
  {
   "cell_type": "markdown",
   "id": "8f7a1ca7",
   "metadata": {},
   "source": [
    "Plot the Probability Density Function (PDF) and Cumulative Distribution Function (CDF) for the exponential distribution."
   ]
  },
  {
   "cell_type": "code",
   "execution_count": null,
   "id": "8c5e193c",
   "metadata": {},
   "outputs": [],
   "source": [
    "plt.figure()\n",
    "x = np.linspace(0, 5, 100)\n",
    "plt.plot(x, e.pdf(x), label='PDF')\n",
    "plt.plot(x, e.cdf(x), label='CDF')\n",
    "plt.title('Statistical Summary')\n",
    "plt.legend()\n",
    "plt.show()"
   ]
  }
 ],
 "metadata": {
  "kernelspec": {
   "display_name": "Python 3",
   "language": "python",
   "name": "python3"
  },
  "language_info": {
   "codemirror_mode": {
    "name": "ipython",
    "version": 3
   },
   "file_extension": ".py",
   "mimetype": "text/x-python",
   "name": "python",
   "nbconvert_exporter": "python",
   "pygments_lexer": "ipython3",
   "version": "3.8.5"
  }
 },
 "nbformat": 4,
 "nbformat_minor": 5
}
