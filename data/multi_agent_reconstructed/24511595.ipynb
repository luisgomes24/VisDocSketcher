{
 "cells": [
  {
   "cell_type": "markdown",
   "id": "dda8dfc8",
   "metadata": {},
   "source": [
    "Load transaction data from the CSV file into a DataFrame."
   ]
  },
  {
   "cell_type": "code",
   "execution_count": null,
   "id": "8a4caa8e",
   "metadata": {},
   "outputs": [],
   "source": [
    "import pandas as pd\n",
    "transactions_train = pd.read_csv('transactions_train.csv')"
   ]
  },
  {
   "cell_type": "markdown",
   "id": "156a1792",
   "metadata": {},
   "source": [
    "Aggregate transaction data by date and sum the prices."
   ]
  },
  {
   "cell_type": "code",
   "execution_count": null,
   "id": "4d0b01a2",
   "metadata": {},
   "outputs": [],
   "source": [
    "transactions = transactions_train.groupby('date').sum().reset_index()"
   ]
  },
  {
   "cell_type": "markdown",
   "id": "c7e03b85",
   "metadata": {},
   "source": [
    "Train a Prophet model using the aggregated transaction data."
   ]
  },
  {
   "cell_type": "code",
   "execution_count": null,
   "id": "bb04f632",
   "metadata": {},
   "outputs": [],
   "source": [
    "from fbprophet import Prophet\n",
    "model = Prophet().fit(transactions)"
   ]
  },
  {
   "cell_type": "markdown",
   "id": "4600ff10",
   "metadata": {},
   "source": [
    "Create a DataFrame for future dates to forecast."
   ]
  },
  {
   "cell_type": "code",
   "execution_count": null,
   "id": "34483820",
   "metadata": {},
   "outputs": [],
   "source": [
    "future = model.make_future_dataframe(periods=30)"
   ]
  },
  {
   "cell_type": "markdown",
   "id": "df3219e6",
   "metadata": {},
   "source": [
    "Perform the forecast using the trained Prophet model."
   ]
  },
  {
   "cell_type": "code",
   "execution_count": null,
   "id": "b3485130",
   "metadata": {},
   "outputs": [],
   "source": [
    "forecast = model.predict(future)"
   ]
  },
  {
   "cell_type": "markdown",
   "id": "4d4677c3",
   "metadata": {},
   "source": [
    "Output the forecast results plot."
   ]
  },
  {
   "cell_type": "code",
   "execution_count": null,
   "id": "e2f88844",
   "metadata": {},
   "outputs": [],
   "source": [
    "model.plot(forecast)"
   ]
  },
  {
   "cell_type": "markdown",
   "id": "a9df5c92",
   "metadata": {},
   "source": [
    "Cross-validate the model using the cross-validation method."
   ]
  },
  {
   "cell_type": "code",
   "execution_count": null,
   "id": "fd11948c",
   "metadata": {},
   "outputs": [],
   "source": [
    "from fbprophet.diagnostics import cross_validation\n",
    "cv_results = cross_validation(model, initial='365 days', period='30 days', horizon='30 days')"
   ]
  },
  {
   "cell_type": "markdown",
   "id": "1508e938",
   "metadata": {},
   "source": [
    "Compute performance metrics from the cross-validation results."
   ]
  },
  {
   "cell_type": "code",
   "execution_count": null,
   "id": "a1b10ea8",
   "metadata": {},
   "outputs": [],
   "source": [
    "from fbprophet.diagnostics import performance_metrics\n",
    "metrics = performance_metrics(cv_results)"
   ]
  }
 ],
 "metadata": {
  "kernelspec": {
   "display_name": "Python 3",
   "language": "python",
   "name": "python3"
  },
  "language_info": {
   "codemirror_mode": {
    "name": "ipython",
    "version": 3
   },
   "file_extension": ".py",
   "mimetype": "text/x-python",
   "name": "python",
   "nbconvert_exporter": "python",
   "pygments_lexer": "ipython3",
   "version": "3.8.5"
  }
 },
 "nbformat": 4,
 "nbformat_minor": 5
}
