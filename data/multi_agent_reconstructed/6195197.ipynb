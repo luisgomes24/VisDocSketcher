{
 "cells": [
  {
   "cell_type": "markdown",
   "id": "94bebd9e",
   "metadata": {},
   "source": [
    "Read the training data from the CSV file using pandas."
   ]
  },
  {
   "cell_type": "code",
   "execution_count": null,
   "id": "06c43cad",
   "metadata": {},
   "outputs": [],
   "source": [
    "import pandas as pd\n",
    "\n",
    "df = pd.read_csv('train.csv')"
   ]
  },
  {
   "cell_type": "markdown",
   "id": "8799d2dc",
   "metadata": {},
   "source": [
    "Filter the dataframe with specific conditions (masks) to create df_train."
   ]
  },
  {
   "cell_type": "code",
   "execution_count": null,
   "id": "12de30be",
   "metadata": {},
   "outputs": [],
   "source": [
    "mask = df['mask_column'] == True\n",
    "df_train = df[mask]"
   ]
  },
  {
   "cell_type": "markdown",
   "id": "eb79650d",
   "metadata": {},
   "source": [
    "Instantiate the ImageData class for training data with needed transformations."
   ]
  },
  {
   "cell_type": "code",
   "execution_count": null,
   "id": "cd529ac0",
   "metadata": {},
   "outputs": [],
   "source": [
    "from torchvision import transforms\n",
    "from torch.utils.data import DataLoader\n",
    "from custom_dataset import ImageData\n",
    "\n",
    "train_data = ImageData(df_train, transform=transforms.ToTensor())"
   ]
  },
  {
   "cell_type": "markdown",
   "id": "3b2213c5",
   "metadata": {},
   "source": [
    "Load the training data into a DataLoader for batching and shuffling."
   ]
  },
  {
   "cell_type": "code",
   "execution_count": null,
   "id": "75e685a8",
   "metadata": {},
   "outputs": [],
   "source": [
    "train_loader = DataLoader(train_data, batch_size=32, shuffle=True)"
   ]
  },
  {
   "cell_type": "markdown",
   "id": "cdd457b6",
   "metadata": {},
   "source": [
    "Initialize the SGD optimizer for model training."
   ]
  },
  {
   "cell_type": "code",
   "execution_count": null,
   "id": "bfe84dbc",
   "metadata": {},
   "outputs": [],
   "source": [
    "import torch.optim as optim\n",
    "\n",
    "optimizer = optim.SGD(model.parameters(), lr=0.01)"
   ]
  },
  {
   "cell_type": "markdown",
   "id": "63bd06ca",
   "metadata": {},
   "source": [
    "Use the DataLoader to iterate through the training data for model training."
   ]
  },
  {
   "cell_type": "code",
   "execution_count": null,
   "id": "39f44a17",
   "metadata": {},
   "outputs": [],
   "source": [
    "for data in train_loader:\n",
    "    # Training loop here\n",
    "    pass"
   ]
  },
  {
   "cell_type": "markdown",
   "id": "a756fcc3",
   "metadata": {},
   "source": [
    "Load the DeepLabV3 model for segmentation tasks."
   ]
  },
  {
   "cell_type": "code",
   "execution_count": null,
   "id": "f99a8321",
   "metadata": {},
   "outputs": [],
   "source": [
    "from torchvision import models\n",
    "\n",
    "model = models.segmentation.deeplabv3_resnet50(pretrained=True)"
   ]
  }
 ],
 "metadata": {
  "kernelspec": {
   "display_name": "Python 3",
   "language": "python",
   "name": "python3"
  },
  "language_info": {
   "codemirror_mode": {
    "name": "ipython",
    "version": 3
   },
   "file_extension": ".py",
   "mimetype": "text/x-python",
   "name": "python",
   "nbconvert_exporter": "python",
   "pygments_lexer": "ipython3",
   "version": "3.8.5"
  }
 },
 "nbformat": 4,
 "nbformat_minor": 5
}
