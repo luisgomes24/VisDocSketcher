{
 "cells": [
  {
   "cell_type": "markdown",
   "id": "f67b43ff",
   "metadata": {},
   "source": [
    "Load the sensor test data from a CSV file into a DataFrame df1."
   ]
  },
  {
   "cell_type": "code",
   "execution_count": null,
   "id": "a15e26fa",
   "metadata": {},
   "outputs": [],
   "source": [
    "import pandas as pd\n",
    "df1 = pd.read_csv('/kaggle/input/sensor_test.csv')"
   ]
  },
  {
   "cell_type": "markdown",
   "id": "b10e08fd",
   "metadata": {},
   "source": [
    "Load the sensor train data from a CSV file into a DataFrame df2."
   ]
  },
  {
   "cell_type": "code",
   "execution_count": null,
   "id": "50251129",
   "metadata": {},
   "outputs": [],
   "source": [
    "import pandas as pd\n",
    "df2 = pd.read_csv('/kaggle/input/sensor_train.csv')"
   ]
  },
  {
   "cell_type": "markdown",
   "id": "ba7b3dd3",
   "metadata": {},
   "source": [
    "Define a function to visualize the distribution of each column in df1 using histograms."
   ]
  },
  {
   "cell_type": "code",
   "execution_count": null,
   "id": "c7fce8d7",
   "metadata": {},
   "outputs": [],
   "source": [
    "import matplotlib.pyplot as plt\n",
    "import seaborn as sns\n",
    "def plotPerColumnDistribution(df):\n",
    "    df.hist(bins=50, figsize=(20,15))\n",
    "    plt.show()"
   ]
  },
  {
   "cell_type": "markdown",
   "id": "7eeb1d05",
   "metadata": {},
   "source": [
    "Call the function to visualize the distribution of the sensor test data."
   ]
  },
  {
   "cell_type": "code",
   "execution_count": null,
   "id": "c9eb3082",
   "metadata": {},
   "outputs": [],
   "source": [
    "plotPerColumnDistribution(df1)"
   ]
  },
  {
   "cell_type": "markdown",
   "id": "8fae8683",
   "metadata": {},
   "source": [
    "Define a function to visualize the correlation matrix of df1 using a heatmap."
   ]
  },
  {
   "cell_type": "code",
   "execution_count": null,
   "id": "bf93023a",
   "metadata": {},
   "outputs": [],
   "source": [
    "def plotCorrelationMatrix(df):\n",
    "    correlation = df.corr()\n",
    "    sns.heatmap(correlation, annot=True)\n",
    "    plt.show()"
   ]
  },
  {
   "cell_type": "markdown",
   "id": "59aec797",
   "metadata": {},
   "source": [
    "Call the function to visualize the correlation matrix of the sensor test data."
   ]
  },
  {
   "cell_type": "code",
   "execution_count": null,
   "id": "e4de0974",
   "metadata": {},
   "outputs": [],
   "source": [
    "plotCorrelationMatrix(df1)"
   ]
  },
  {
   "cell_type": "markdown",
   "id": "c2586697",
   "metadata": {},
   "source": [
    "Define a function to visualize a scatter matrix of df1."
   ]
  },
  {
   "cell_type": "code",
   "execution_count": null,
   "id": "ca35bfd0",
   "metadata": {},
   "outputs": [],
   "source": [
    "import matplotlib.pyplot as plt\n",
    "import seaborn as sns\n",
    "from pandas.plotting import scatter_matrix\n",
    "def plotScatterMatrix(df):\n",
    "    scatter_matrix(df, figsize=(15,15))\n",
    "    plt.show()"
   ]
  },
  {
   "cell_type": "markdown",
   "id": "d0e05ad7",
   "metadata": {},
   "source": [
    "Call the function to visualize the scatter matrix of the sensor test data."
   ]
  },
  {
   "cell_type": "code",
   "execution_count": null,
   "id": "1e522cba",
   "metadata": {},
   "outputs": [],
   "source": [
    "plotScatterMatrix(df1)"
   ]
  },
  {
   "cell_type": "markdown",
   "id": "f8340c78",
   "metadata": {},
   "source": [
    "Call the function to visualize the distribution of the sensor train data."
   ]
  },
  {
   "cell_type": "code",
   "execution_count": null,
   "id": "8d26fcca",
   "metadata": {},
   "outputs": [],
   "source": [
    "plotPerColumnDistribution(df2)"
   ]
  },
  {
   "cell_type": "markdown",
   "id": "8b9f390a",
   "metadata": {},
   "source": [
    "Call the function to visualize the correlation matrix of the sensor train data."
   ]
  },
  {
   "cell_type": "code",
   "execution_count": null,
   "id": "9b4a0140",
   "metadata": {},
   "outputs": [],
   "source": [
    "plotCorrelationMatrix(df2)"
   ]
  },
  {
   "cell_type": "markdown",
   "id": "a823faf6",
   "metadata": {},
   "source": [
    "Call the function to visualize the scatter matrix of the sensor train data."
   ]
  },
  {
   "cell_type": "code",
   "execution_count": null,
   "id": "d76519e4",
   "metadata": {},
   "outputs": [],
   "source": [
    "plotScatterMatrix(df2)"
   ]
  }
 ],
 "metadata": {
  "kernelspec": {
   "display_name": "Python 3",
   "language": "python",
   "name": "python3"
  },
  "language_info": {
   "codemirror_mode": {
    "name": "ipython",
    "version": 3
   },
   "file_extension": ".py",
   "mimetype": "text/x-python",
   "name": "python",
   "nbconvert_exporter": "python",
   "pygments_lexer": "ipython3",
   "version": "3.8.5"
  }
 },
 "nbformat": 4,
 "nbformat_minor": 5
}
