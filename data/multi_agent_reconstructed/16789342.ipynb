{
 "cells": [
  {
   "cell_type": "markdown",
   "id": "04d40af0",
   "metadata": {},
   "source": [
    "Define the data source as a CSV file containing the violent videos dataset."
   ]
  },
  {
   "cell_type": "code",
   "execution_count": null,
   "id": "bf14eab2",
   "metadata": {},
   "outputs": [],
   "source": [
    "data_source = 'violent_videos_dataset.csv'"
   ]
  },
  {
   "cell_type": "markdown",
   "id": "ee5683e7",
   "metadata": {},
   "source": [
    "Import the Pandas library and read the CSV file into a DataFrame."
   ]
  },
  {
   "cell_type": "code",
   "execution_count": null,
   "id": "e9f4ef76",
   "metadata": {},
   "outputs": [],
   "source": [
    "import pandas as pd\n",
    "\n",
    "dataset = pd.read_csv(data_source)"
   ]
  }
 ],
 "metadata": {
  "kernelspec": {
   "display_name": "Python 3",
   "language": "python",
   "name": "python3"
  },
  "language_info": {
   "codemirror_mode": {
    "name": "ipython",
    "version": 3
   },
   "file_extension": ".py",
   "mimetype": "text/x-python",
   "name": "python",
   "nbconvert_exporter": "python",
   "pygments_lexer": "ipython3",
   "version": "3.8.5"
  }
 },
 "nbformat": 4,
 "nbformat_minor": 5
}
