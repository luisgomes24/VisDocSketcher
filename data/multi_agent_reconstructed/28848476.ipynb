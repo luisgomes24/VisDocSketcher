{
 "cells": [
  {
   "cell_type": "markdown",
   "id": "fee517b5",
   "metadata": {},
   "source": [
    "Import the pandas library and read the CSV file into a DataFrame named df1."
   ]
  },
  {
   "cell_type": "code",
   "execution_count": null,
   "id": "9e824d52",
   "metadata": {},
   "outputs": [],
   "source": [
    "import pandas as pd\n",
    "df1 = pd.read_csv('DATA.csv')"
   ]
  },
  {
   "cell_type": "markdown",
   "id": "12692945",
   "metadata": {},
   "source": [
    "Drop the column 'Unnamed: 5' from df1 and store the result in a new DataFrame named df."
   ]
  },
  {
   "cell_type": "code",
   "execution_count": null,
   "id": "a51fa6fd",
   "metadata": {},
   "outputs": [],
   "source": [
    "df = df1.drop(columns=['Unnamed: 5'])"
   ]
  }
 ],
 "metadata": {
  "kernelspec": {
   "display_name": "Python 3",
   "language": "python",
   "name": "python3"
  },
  "language_info": {
   "codemirror_mode": {
    "name": "ipython",
    "version": 3
   },
   "file_extension": ".py",
   "mimetype": "text/x-python",
   "name": "python",
   "nbconvert_exporter": "python",
   "pygments_lexer": "ipython3",
   "version": "3.8.5"
  }
 },
 "nbformat": 4,
 "nbformat_minor": 5
}
