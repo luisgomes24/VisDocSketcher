{
 "cells": [
  {
   "cell_type": "markdown",
   "id": "3f686440",
   "metadata": {},
   "source": [
    "Read the training data from 'train.csv' into a DataFrame."
   ]
  },
  {
   "cell_type": "code",
   "execution_count": null,
   "id": "4befc252",
   "metadata": {},
   "outputs": [],
   "source": [
    "import pandas as pd\n",
    "train_df = pd.read_csv('train.csv')"
   ]
  },
  {
   "cell_type": "markdown",
   "id": "d7940dab",
   "metadata": {},
   "source": [
    "Remove the 'id' and 'loss' columns from the DataFrame."
   ]
  },
  {
   "cell_type": "code",
   "execution_count": null,
   "id": "bcb66f10",
   "metadata": {},
   "outputs": [],
   "source": [
    "train_df.drop(['id', 'loss'], axis=1, inplace=True)"
   ]
  },
  {
   "cell_type": "markdown",
   "id": "35450fce",
   "metadata": {},
   "source": [
    "Fill NaN values with the mean values of each column in the DataFrame."
   ]
  },
  {
   "cell_type": "code",
   "execution_count": null,
   "id": "f180c47a",
   "metadata": {},
   "outputs": [],
   "source": [
    "X = train_df.fillna(train_df.mean())"
   ]
  },
  {
   "cell_type": "markdown",
   "id": "228efa3f",
   "metadata": {},
   "source": [
    "Extract the target variable 'loss' from the DataFrame."
   ]
  },
  {
   "cell_type": "code",
   "execution_count": null,
   "id": "a291a343",
   "metadata": {},
   "outputs": [],
   "source": [
    "y = train_df['loss']"
   ]
  },
  {
   "cell_type": "markdown",
   "id": "0a0ff001",
   "metadata": {},
   "source": [
    "Read the test data from 'test.csv' into a DataFrame."
   ]
  },
  {
   "cell_type": "code",
   "execution_count": null,
   "id": "b6c11048",
   "metadata": {},
   "outputs": [],
   "source": [
    "import pandas as pd\n",
    "test_df = pd.read_csv('test.csv')"
   ]
  },
  {
   "cell_type": "markdown",
   "id": "93a54f5a",
   "metadata": {},
   "source": [
    "Clean the test DataFrame by filling NaN values with the mean."
   ]
  },
  {
   "cell_type": "code",
   "execution_count": null,
   "id": "2a64b490",
   "metadata": {},
   "outputs": [],
   "source": [
    "X_test = test_df.fillna(test_df.mean())"
   ]
  },
  {
   "cell_type": "markdown",
   "id": "7c33d8d2",
   "metadata": {},
   "source": [
    "Import and train the AutoML model using the input features and target variable."
   ]
  },
  {
   "cell_type": "code",
   "execution_count": null,
   "id": "11aaf569",
   "metadata": {},
   "outputs": [],
   "source": [
    "from auto_ml import AutoML\n",
    "model = AutoML()\n",
    "model.fit(X, y)"
   ]
  },
  {
   "cell_type": "markdown",
   "id": "522d4292",
   "metadata": {},
   "source": [
    "Use the trained model to make predictions on the test data."
   ]
  },
  {
   "cell_type": "code",
   "execution_count": null,
   "id": "b5983265",
   "metadata": {},
   "outputs": [],
   "source": [
    "predictions = model.predict(X_test)"
   ]
  },
  {
   "cell_type": "markdown",
   "id": "92322db0",
   "metadata": {},
   "source": [
    "Create a submission DataFrame with IDs and predictions."
   ]
  },
  {
   "cell_type": "code",
   "execution_count": null,
   "id": "857bfc67",
   "metadata": {},
   "outputs": [],
   "source": [
    "submission_df = pd.DataFrame({'Id': test_df['id'], 'Predictions': predictions})"
   ]
  },
  {
   "cell_type": "markdown",
   "id": "a988ef05",
   "metadata": {},
   "source": [
    "Save the submission DataFrame to 'submission.csv'."
   ]
  },
  {
   "cell_type": "code",
   "execution_count": null,
   "id": "a6c2f7ad",
   "metadata": {},
   "outputs": [],
   "source": [
    "submission_df.to_csv('submission.csv', index=False)"
   ]
  }
 ],
 "metadata": {
  "kernelspec": {
   "display_name": "Python 3",
   "language": "python",
   "name": "python3"
  },
  "language_info": {
   "codemirror_mode": {
    "name": "ipython",
    "version": 3
   },
   "file_extension": ".py",
   "mimetype": "text/x-python",
   "name": "python",
   "nbconvert_exporter": "python",
   "pygments_lexer": "ipython3",
   "version": "3.8.5"
  }
 },
 "nbformat": 4,
 "nbformat_minor": 5
}
