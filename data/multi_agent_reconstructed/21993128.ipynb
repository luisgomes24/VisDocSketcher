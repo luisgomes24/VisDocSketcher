{
 "cells": [
  {
   "cell_type": "markdown",
   "id": "e1288a4e",
   "metadata": {},
   "source": [
    "Read the preprocessed CSV file into a DataFrame."
   ]
  },
  {
   "cell_type": "code",
   "execution_count": null,
   "id": "25ea2d1d",
   "metadata": {},
   "outputs": [],
   "source": [
    "import pandas as pd\n",
    "\n",
    "df = pd.read_csv('preprocessed_data.csv')"
   ]
  },
  {
   "cell_type": "markdown",
   "id": "ee57b6a1",
   "metadata": {},
   "source": [
    "Specify the path for the image directory."
   ]
  },
  {
   "cell_type": "code",
   "execution_count": null,
   "id": "aa3321b5",
   "metadata": {},
   "outputs": [],
   "source": [
    "images_data = 'image_directory_path'"
   ]
  },
  {
   "cell_type": "markdown",
   "id": "a8b38aeb",
   "metadata": {},
   "source": [
    "Split the DataFrame into training and validation datasets."
   ]
  },
  {
   "cell_type": "code",
   "execution_count": null,
   "id": "37c74ffa",
   "metadata": {},
   "outputs": [],
   "source": [
    "training_data = df[df['set'] == 'train']\n",
    "validation_data = df[df['set'] == 'val']"
   ]
  },
  {
   "cell_type": "markdown",
   "id": "3c3f0e4f",
   "metadata": {},
   "source": [
    "Initialize the InceptionV3 model for feature extraction."
   ]
  },
  {
   "cell_type": "code",
   "execution_count": null,
   "id": "a7947d07",
   "metadata": {},
   "outputs": [],
   "source": [
    "from tensorflow.keras.applications import InceptionV3\n",
    "from tensorflow.keras.models import Model\n",
    "\n",
    "model = InceptionV3(weights='imagenet', include_top=False)"
   ]
  },
  {
   "cell_type": "markdown",
   "id": "67564105",
   "metadata": {},
   "source": [
    "Evaluate the model using the validation dataset."
   ]
  },
  {
   "cell_type": "code",
   "execution_count": null,
   "id": "95c8c759",
   "metadata": {},
   "outputs": [],
   "source": [
    "model.evaluate(validation_data)"
   ]
  },
  {
   "cell_type": "markdown",
   "id": "fb1b8653",
   "metadata": {},
   "source": [
    "Create a DataFrame to store validation results."
   ]
  },
  {
   "cell_type": "code",
   "execution_count": null,
   "id": "cbeceaa0",
   "metadata": {},
   "outputs": [],
   "source": [
    "val_df = pd.DataFrame(model.predict(validation_data))"
   ]
  },
  {
   "cell_type": "markdown",
   "id": "94439169",
   "metadata": {},
   "source": [
    "Normalize the validation images for inference."
   ]
  },
  {
   "cell_type": "code",
   "execution_count": null,
   "id": "5698cfaf",
   "metadata": {},
   "outputs": [],
   "source": [
    "val_image_data = (validation_data - 255.0) / 255.0"
   ]
  },
  {
   "cell_type": "markdown",
   "id": "b003833b",
   "metadata": {},
   "source": [
    "Display the predictions stored in the validation results DataFrame."
   ]
  },
  {
   "cell_type": "code",
   "execution_count": null,
   "id": "ae26b784",
   "metadata": {},
   "outputs": [],
   "source": [
    "print(val_df)"
   ]
  }
 ],
 "metadata": {
  "kernelspec": {
   "display_name": "Python 3",
   "language": "python",
   "name": "python3"
  },
  "language_info": {
   "codemirror_mode": {
    "name": "ipython",
    "version": 3
   },
   "file_extension": ".py",
   "mimetype": "text/x-python",
   "name": "python",
   "nbconvert_exporter": "python",
   "pygments_lexer": "ipython3",
   "version": "3.8.5"
  }
 },
 "nbformat": 4,
 "nbformat_minor": 5
}
