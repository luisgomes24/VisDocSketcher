{
 "cells": [
  {
   "cell_type": "markdown",
   "id": "8c027fdd",
   "metadata": {},
   "source": [
    "Load the MNIST dataset using Keras."
   ]
  },
  {
   "cell_type": "code",
   "execution_count": null,
   "id": "b4e8fdcd",
   "metadata": {},
   "outputs": [],
   "source": [
    "import pandas as pd\n",
    "from keras.datasets import mnist\n",
    "\n",
    "(X_train, y_train), (_, _) = mnist.load_data()"
   ]
  },
  {
   "cell_type": "markdown",
   "id": "1b0583f1",
   "metadata": {},
   "source": [
    "Process data by reshaping and normalizing the pixel values."
   ]
  },
  {
   "cell_type": "code",
   "execution_count": null,
   "id": "876ea569",
   "metadata": {},
   "outputs": [],
   "source": [
    "X_train = X_train.reshape(X_train.shape[0], -1) / 255.0"
   ]
  },
  {
   "cell_type": "markdown",
   "id": "2eff242d",
   "metadata": {},
   "source": [
    "Split data into training and validation sets."
   ]
  },
  {
   "cell_type": "code",
   "execution_count": null,
   "id": "26f21642",
   "metadata": {},
   "outputs": [],
   "source": [
    "from sklearn.model_selection import train_test_split\n",
    "X_train, X_val, y_train, y_val = train_test_split(X_train, y_train, test_size=0.2)"
   ]
  },
  {
   "cell_type": "markdown",
   "id": "5cdc3afd",
   "metadata": {},
   "source": [
    "Define a simple neural network model."
   ]
  },
  {
   "cell_type": "code",
   "execution_count": null,
   "id": "55e8765b",
   "metadata": {},
   "outputs": [],
   "source": [
    "from keras.models import Sequential\n",
    "from keras.layers import Dense\n",
    "\n",
    "model = Sequential()\n",
    "model.add(Dense(128, activation='relu', input_shape=(X_train.shape[1],)))\n",
    "model.add(Dense(10, activation='softmax'))"
   ]
  },
  {
   "cell_type": "markdown",
   "id": "f93bc7e6",
   "metadata": {},
   "source": [
    "Compile the model with optimizer and loss function."
   ]
  },
  {
   "cell_type": "code",
   "execution_count": null,
   "id": "a8566ac6",
   "metadata": {},
   "outputs": [],
   "source": [
    "model.compile(optimizer='adam', loss='sparse_categorical_crossentropy', metrics=['accuracy'])"
   ]
  },
  {
   "cell_type": "markdown",
   "id": "064239ab",
   "metadata": {},
   "source": [
    "Train the model on training data and validate on validation data."
   ]
  },
  {
   "cell_type": "code",
   "execution_count": null,
   "id": "51e92418",
   "metadata": {},
   "outputs": [],
   "source": [
    "history = model.fit(X_train, y_train, validation_data=(X_val, y_val), epochs=10)"
   ]
  },
  {
   "cell_type": "markdown",
   "id": "649818b7",
   "metadata": {},
   "source": [
    "Retrieve training accuracy over epochs."
   ]
  },
  {
   "cell_type": "code",
   "execution_count": null,
   "id": "a6a636e2",
   "metadata": {},
   "outputs": [],
   "source": [
    "train_accuracy = history.history['accuracy']"
   ]
  },
  {
   "cell_type": "markdown",
   "id": "27e61f15",
   "metadata": {},
   "source": [
    "Retrieve loss values over training epochs."
   ]
  },
  {
   "cell_type": "code",
   "execution_count": null,
   "id": "f325b9bc",
   "metadata": {},
   "outputs": [],
   "source": [
    "loss_over_epochs = history.history['loss']"
   ]
  },
  {
   "cell_type": "markdown",
   "id": "04c3847e",
   "metadata": {},
   "source": [
    "Retrieve validation accuracy scores."
   ]
  },
  {
   "cell_type": "code",
   "execution_count": null,
   "id": "3835b1aa",
   "metadata": {},
   "outputs": [],
   "source": [
    "validation_scores = history.history['val_accuracy']"
   ]
  }
 ],
 "metadata": {
  "kernelspec": {
   "display_name": "Python 3",
   "language": "python",
   "name": "python3"
  },
  "language_info": {
   "codemirror_mode": {
    "name": "ipython",
    "version": 3
   },
   "file_extension": ".py",
   "mimetype": "text/x-python",
   "name": "python",
   "nbconvert_exporter": "python",
   "pygments_lexer": "ipython3",
   "version": "3.8.5"
  }
 },
 "nbformat": 4,
 "nbformat_minor": 5
}
