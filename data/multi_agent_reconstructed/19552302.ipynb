{
 "cells": [
  {
   "cell_type": "markdown",
   "id": "8e479b1c",
   "metadata": {},
   "source": [
    "Load the full dataset from a CSV file into a Pandas DataFrame."
   ]
  },
  {
   "cell_type": "code",
   "execution_count": null,
   "id": "a8567dc9",
   "metadata": {},
   "outputs": [],
   "source": [
    "import pandas as pd\n",
    "\n",
    "df = pd.read_csv('full_dataset.csv')"
   ]
  },
  {
   "cell_type": "markdown",
   "id": "3b3353a9",
   "metadata": {},
   "source": [
    "Split the DataFrame into features and target variable."
   ]
  },
  {
   "cell_type": "code",
   "execution_count": null,
   "id": "b2298477",
   "metadata": {},
   "outputs": [],
   "source": [
    "features = df.drop('target', axis=1)\n",
    "target = df['target']"
   ]
  },
  {
   "cell_type": "markdown",
   "id": "e4560115",
   "metadata": {},
   "source": [
    "Perform feature selection to keep the top 10 features."
   ]
  },
  {
   "cell_type": "code",
   "execution_count": null,
   "id": "30ad574b",
   "metadata": {},
   "outputs": [],
   "source": [
    "from sklearn.feature_selection import SelectKBest, f_classif\n",
    "selected_features = SelectKBest(score_func=f_classif, k=10).fit_transform(features, target)"
   ]
  },
  {
   "cell_type": "markdown",
   "id": "ad0776d8",
   "metadata": {},
   "source": [
    "Split the data into training and testing sets (80-20 split)."
   ]
  },
  {
   "cell_type": "code",
   "execution_count": null,
   "id": "436b0c49",
   "metadata": {},
   "outputs": [],
   "source": [
    "from sklearn.model_selection import train_test_split\n",
    "X_train, X_test, y_train, y_test = train_test_split(selected_features, target, test_size=0.2, random_state=42)"
   ]
  },
  {
   "cell_type": "markdown",
   "id": "9842eaea",
   "metadata": {},
   "source": [
    "Create and train a Random Forest model using the training data."
   ]
  },
  {
   "cell_type": "code",
   "execution_count": null,
   "id": "01a70380",
   "metadata": {},
   "outputs": [],
   "source": [
    "from sklearn.ensemble import RandomForestClassifier\n",
    "model = RandomForestClassifier()\n",
    "model.fit(X_train, y_train)"
   ]
  },
  {
   "cell_type": "markdown",
   "id": "af5ee3d2",
   "metadata": {},
   "source": [
    "Visualize the feature importances of the model using a bar chart."
   ]
  },
  {
   "cell_type": "code",
   "execution_count": null,
   "id": "84962779",
   "metadata": {},
   "outputs": [],
   "source": [
    "import matplotlib.pyplot as plt\n",
    "plt.bar(['A', 'B', 'C'], model.feature_importances_)\n",
    "plt.title('Model Visualization')\n",
    "plt.show()"
   ]
  },
  {
   "cell_type": "markdown",
   "id": "059e354a",
   "metadata": {},
   "source": [
    "Calculate and print the model's accuracy on the test set."
   ]
  },
  {
   "cell_type": "code",
   "execution_count": null,
   "id": "0998ca42",
   "metadata": {},
   "outputs": [],
   "source": [
    "from sklearn.metrics import accuracy_score\n",
    "predictions = model.predict(X_test)\n",
    "accuracy = accuracy_score(y_test, predictions)\n",
    "print('Accuracy:', accuracy)"
   ]
  }
 ],
 "metadata": {
  "kernelspec": {
   "display_name": "Python 3",
   "language": "python",
   "name": "python3"
  },
  "language_info": {
   "codemirror_mode": {
    "name": "ipython",
    "version": 3
   },
   "file_extension": ".py",
   "mimetype": "text/x-python",
   "name": "python",
   "nbconvert_exporter": "python",
   "pygments_lexer": "ipython3",
   "version": "3.8.5"
  }
 },
 "nbformat": 4,
 "nbformat_minor": 5
}
