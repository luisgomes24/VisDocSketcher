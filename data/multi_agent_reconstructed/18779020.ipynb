{
 "cells": [
  {
   "cell_type": "markdown",
   "id": "5a964ae2",
   "metadata": {},
   "source": [
    "Import necessary libraries for data handling and one-hot encoding."
   ]
  },
  {
   "cell_type": "code",
   "execution_count": null,
   "id": "d108839b",
   "metadata": {},
   "outputs": [],
   "source": [
    "import numpy as np\n",
    "from keras.utils import to_categorical\n",
    "from sklearn.model_selection import train_test_split"
   ]
  },
  {
   "cell_type": "markdown",
   "id": "f1eafa06",
   "metadata": {},
   "source": [
    "Define a function to combine images of ripe and unripe bananas into array X."
   ]
  },
  {
   "cell_type": "code",
   "execution_count": null,
   "id": "688e20f3",
   "metadata": {},
   "outputs": [],
   "source": [
    "def make_train_data(ripe_imgs, unripe_imgs):\n",
    "    X = np.array(ripe_imgs + unripe_imgs)\n",
    "    return X"
   ]
  },
  {
   "cell_type": "markdown",
   "id": "9dff913a",
   "metadata": {},
   "source": [
    "Create labels for the images indicating if they are ripe or unripe."
   ]
  },
  {
   "cell_type": "code",
   "execution_count": null,
   "id": "59a7ded0",
   "metadata": {},
   "outputs": [],
   "source": [
    "labels = ['ripe'] * len(ripe_imgs) + ['unripe'] * len(unripe_imgs)"
   ]
  },
  {
   "cell_type": "markdown",
   "id": "2542dcd6",
   "metadata": {},
   "source": [
    "Convert the labels list into a NumPy array Z."
   ]
  },
  {
   "cell_type": "code",
   "execution_count": null,
   "id": "80601784",
   "metadata": {},
   "outputs": [],
   "source": [
    "Z = np.array(labels)"
   ]
  },
  {
   "cell_type": "markdown",
   "id": "85b1647c",
   "metadata": {},
   "source": [
    "One-hot encode the labels Y from the array Z."
   ]
  },
  {
   "cell_type": "code",
   "execution_count": null,
   "id": "ee9b2f12",
   "metadata": {},
   "outputs": [],
   "source": [
    "Y = to_categorical(Z)"
   ]
  },
  {
   "cell_type": "markdown",
   "id": "d74af156",
   "metadata": {},
   "source": [
    "Create training and testing sets from the combined images and one-hot encoded labels."
   ]
  },
  {
   "cell_type": "code",
   "execution_count": null,
   "id": "753e1087",
   "metadata": {},
   "outputs": [],
   "source": [
    "X, Y = make_train_data(ripe_imgs, unripe_imgs), Y\n",
    "x_train, x_test, y_train, y_test = train_test_split(X, Y, test_size=0.2)"
   ]
  },
  {
   "cell_type": "markdown",
   "id": "04c233b0",
   "metadata": {},
   "source": [
    "Import Keras libraries and initialize a Sequential CNN model."
   ]
  },
  {
   "cell_type": "code",
   "execution_count": null,
   "id": "607cca2a",
   "metadata": {},
   "outputs": [],
   "source": [
    "from keras.models import Sequential\n",
    "from keras.layers import Conv2D, Flatten, Dense\n",
    "\n",
    "model = Sequential()"
   ]
  },
  {
   "cell_type": "markdown",
   "id": "6fe98f71",
   "metadata": {},
   "source": [
    "Add layers to the model including convolutional, flatten, and dense layers."
   ]
  },
  {
   "cell_type": "code",
   "execution_count": null,
   "id": "91281194",
   "metadata": {},
   "outputs": [],
   "source": [
    "model.add(Conv2D(32, (3, 3), activation='relu', input_shape=(image_height, image_width, channels)))\n",
    "model.add(Flatten())\n",
    "model.add(Dense(2, activation='softmax'))"
   ]
  },
  {
   "cell_type": "markdown",
   "id": "56edb0d8",
   "metadata": {},
   "source": [
    "Compile the CNN model with an optimizer and loss function."
   ]
  },
  {
   "cell_type": "code",
   "execution_count": null,
   "id": "c7e12e4c",
   "metadata": {},
   "outputs": [],
   "source": [
    "model.compile(optimizer='adam', loss='categorical_crossentropy', metrics=['accuracy'])"
   ]
  },
  {
   "cell_type": "markdown",
   "id": "9cb6ea0a",
   "metadata": {},
   "source": [
    "Train the model using the training data for 10 epochs with validation."
   ]
  },
  {
   "cell_type": "code",
   "execution_count": null,
   "id": "0240c2d4",
   "metadata": {},
   "outputs": [],
   "source": [
    "model.fit(x_train, y_train, epochs=10, validation_data=(x_test, y_test))"
   ]
  },
  {
   "cell_type": "markdown",
   "id": "62de316f",
   "metadata": {},
   "source": [
    "Save the trained model to a file named 'banana_model.h5'."
   ]
  },
  {
   "cell_type": "code",
   "execution_count": null,
   "id": "916ed572",
   "metadata": {},
   "outputs": [],
   "source": [
    "model.save('banana_model.h5')"
   ]
  }
 ],
 "metadata": {
  "kernelspec": {
   "display_name": "Python 3",
   "language": "python",
   "name": "python3"
  },
  "language_info": {
   "codemirror_mode": {
    "name": "ipython",
    "version": 3
   },
   "file_extension": ".py",
   "mimetype": "text/x-python",
   "name": "python",
   "nbconvert_exporter": "python",
   "pygments_lexer": "ipython3",
   "version": "3.8.5"
  }
 },
 "nbformat": 4,
 "nbformat_minor": 5
}
