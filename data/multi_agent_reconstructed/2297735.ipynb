{
 "cells": [
  {
   "cell_type": "markdown",
   "id": "2987fef4",
   "metadata": {},
   "source": [
    "Reads the training data from a CSV file."
   ]
  },
  {
   "cell_type": "code",
   "execution_count": null,
   "id": "aef217d7",
   "metadata": {},
   "outputs": [],
   "source": [
    "import pandas as pd\n",
    "df_train = pd.read_csv('df_train.csv')"
   ]
  },
  {
   "cell_type": "markdown",
   "id": "96972aad",
   "metadata": {},
   "source": [
    "Counts the occurrences by month in the training dataset."
   ]
  },
  {
   "cell_type": "code",
   "execution_count": null,
   "id": "a5cbd1a9",
   "metadata": {},
   "outputs": [],
   "source": [
    "df_month_counts_train = df_train.groupby(['month']).count()"
   ]
  },
  {
   "cell_type": "markdown",
   "id": "e4c6e69b",
   "metadata": {},
   "source": [
    "Cleans the training dataset by removing any missing values."
   ]
  },
  {
   "cell_type": "code",
   "execution_count": null,
   "id": "a9a37be9",
   "metadata": {},
   "outputs": [],
   "source": [
    "df_train_new = df_train.dropna()"
   ]
  },
  {
   "cell_type": "markdown",
   "id": "78847857",
   "metadata": {},
   "source": [
    "Reads the testing data from a CSV file."
   ]
  },
  {
   "cell_type": "code",
   "execution_count": null,
   "id": "eb4d8d78",
   "metadata": {},
   "outputs": [],
   "source": [
    "df_test = pd.read_csv('df_test.csv')"
   ]
  },
  {
   "cell_type": "markdown",
   "id": "8748d881",
   "metadata": {},
   "source": [
    "Counts the occurrences by month in the testing dataset."
   ]
  },
  {
   "cell_type": "code",
   "execution_count": null,
   "id": "afee13c3",
   "metadata": {},
   "outputs": [],
   "source": [
    "df_month_counts_test = df_test.groupby(['month']).count()"
   ]
  },
  {
   "cell_type": "markdown",
   "id": "0b388c10",
   "metadata": {},
   "source": [
    "Calculates the mean target for the testing dataset, grouped by month."
   ]
  },
  {
   "cell_type": "code",
   "execution_count": null,
   "id": "16cc7763",
   "metadata": {},
   "outputs": [],
   "source": [
    "df_month_means = df_test.groupby(['month']).mean()"
   ]
  },
  {
   "cell_type": "markdown",
   "id": "d0ba3a58",
   "metadata": {},
   "source": [
    "Combines the processed dataframes into a single dataframe for analysis."
   ]
  },
  {
   "cell_type": "code",
   "execution_count": null,
   "id": "bd0a983d",
   "metadata": {},
   "outputs": [],
   "source": [
    "df_feature_groups = pd.concat([df_month_counts_train, df_train_new, df_month_counts_test, df_month_means], axis=1)"
   ]
  }
 ],
 "metadata": {
  "kernelspec": {
   "display_name": "Python 3",
   "language": "python",
   "name": "python3"
  },
  "language_info": {
   "codemirror_mode": {
    "name": "ipython",
    "version": 3
   },
   "file_extension": ".py",
   "mimetype": "text/x-python",
   "name": "python",
   "nbconvert_exporter": "python",
   "pygments_lexer": "ipython3",
   "version": "3.8.5"
  }
 },
 "nbformat": 4,
 "nbformat_minor": 5
}
