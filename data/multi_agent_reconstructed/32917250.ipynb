{
 "cells": [
  {
   "cell_type": "markdown",
   "id": "0f834bde",
   "metadata": {},
   "source": [
    "Import the training data from a CSV file using pandas."
   ]
  },
  {
   "cell_type": "code",
   "execution_count": null,
   "id": "a706e73d",
   "metadata": {},
   "outputs": [],
   "source": [
    "import pandas as pd\n",
    "train_data = pd.read_csv('train.csv')"
   ]
  },
  {
   "cell_type": "markdown",
   "id": "8c8c7af6",
   "metadata": {},
   "source": [
    "Import the testing data from a CSV file using pandas."
   ]
  },
  {
   "cell_type": "code",
   "execution_count": null,
   "id": "0118c1f9",
   "metadata": {},
   "outputs": [],
   "source": [
    "test_data = pd.read_csv('test.csv')"
   ]
  },
  {
   "cell_type": "markdown",
   "id": "23b6dfda",
   "metadata": {},
   "source": [
    "Check for duplicate entries in the training data."
   ]
  },
  {
   "cell_type": "code",
   "execution_count": null,
   "id": "8cf050b0",
   "metadata": {},
   "outputs": [],
   "source": [
    "dups_train = train_data[train_data.duplicated()]"
   ]
  },
  {
   "cell_type": "markdown",
   "id": "0a70b391",
   "metadata": {},
   "source": [
    "Check for duplicate entries in the testing data."
   ]
  },
  {
   "cell_type": "code",
   "execution_count": null,
   "id": "510f1331",
   "metadata": {},
   "outputs": [],
   "source": [
    "dups_test = test_data[test_data.duplicated()]"
   ]
  }
 ],
 "metadata": {
  "kernelspec": {
   "display_name": "Python 3",
   "language": "python",
   "name": "python3"
  },
  "language_info": {
   "codemirror_mode": {
    "name": "ipython",
    "version": 3
   },
   "file_extension": ".py",
   "mimetype": "text/x-python",
   "name": "python",
   "nbconvert_exporter": "python",
   "pygments_lexer": "ipython3",
   "version": "3.8.5"
  }
 },
 "nbformat": 4,
 "nbformat_minor": 5
}
