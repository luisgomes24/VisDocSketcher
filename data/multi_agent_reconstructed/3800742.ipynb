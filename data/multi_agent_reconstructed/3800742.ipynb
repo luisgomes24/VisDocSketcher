{
 "cells": [
  {
   "cell_type": "markdown",
   "id": "86d93304",
   "metadata": {},
   "source": [
    "Load images from the specified folder into a list."
   ]
  },
  {
   "cell_type": "code",
   "execution_count": null,
   "id": "a880bf79",
   "metadata": {},
   "outputs": [],
   "source": [
    "import os\n",
    "from PIL import Image\n",
    "\n",
    "image_folder = '../input/cell_images/'\n",
    "images = [Image.open(os.path.join(image_folder, f)) for f in os.listdir(image_folder) if f.endswith('.png')]"
   ]
  },
  {
   "cell_type": "markdown",
   "id": "ed9a6a1b",
   "metadata": {},
   "source": [
    "Define data transformations to preprocess the images."
   ]
  },
  {
   "cell_type": "code",
   "execution_count": null,
   "id": "de4431a9",
   "metadata": {},
   "outputs": [],
   "source": [
    "import torchvision.transforms as transforms\n",
    "\n",
    "data_transform = transforms.Compose([\n",
    "    transforms.Resize((128, 128)),\n",
    "    transforms.ToTensor()\n",
    "])"
   ]
  },
  {
   "cell_type": "markdown",
   "id": "a0a2fe49",
   "metadata": {},
   "source": [
    "Create a custom dataset class to load images and apply transformations."
   ]
  },
  {
   "cell_type": "code",
   "execution_count": null,
   "id": "b000c3cb",
   "metadata": {},
   "outputs": [],
   "source": [
    "from torch.utils.data import DataLoader, Dataset\n",
    "\n",
    "class CellDataset(Dataset):\n",
    "    def __init__(self, images, transform=None):\n",
    "        self.images = images\n",
    "        self.transform = transform\n",
    "\n",
    "    def __len__(self):\n",
    "        return len(self.images)\n",
    "\n",
    "    def __getitem__(self, idx):\n",
    "        image = self.images[idx]\n",
    "        if self.transform:\n",
    "            image = self.transform(image)\n",
    "        return image\n",
    "\n",
    "cell_dataset = CellDataset(images, transform=data_transform)"
   ]
  },
  {
   "cell_type": "markdown",
   "id": "d7007471",
   "metadata": {},
   "source": [
    "Initialize DataLoaders for training and validation datasets."
   ]
  },
  {
   "cell_type": "code",
   "execution_count": null,
   "id": "92a21d12",
   "metadata": {},
   "outputs": [],
   "source": [
    "train_loader = DataLoader(cell_dataset, batch_size=32, shuffle=True)\n",
    "val_loader = DataLoader(cell_dataset, batch_size=32, shuffle=False)"
   ]
  },
  {
   "cell_type": "markdown",
   "id": "43b77620",
   "metadata": {},
   "source": [
    "Define a simple neural network architecture and the loss function."
   ]
  },
  {
   "cell_type": "code",
   "execution_count": null,
   "id": "24fa2a76",
   "metadata": {},
   "outputs": [],
   "source": [
    "import torch.nn as nn\n",
    "import torch.optim as optim\n",
    "\n",
    "net = nn.Sequential(\n",
    "    nn.Conv2d(3, 16, kernel_size=3, stride=1, padding=1),\n",
    "    nn.ReLU(),\n",
    "    nn.MaxPool2d(kernel_size=2, stride=2),\n",
    "    nn.Flatten(),\n",
    "    nn.Linear(16 * 64 * 64, 10)\n",
    ")\n",
    "\n",
    "criterion = nn.CrossEntropyLoss()"
   ]
  },
  {
   "cell_type": "markdown",
   "id": "df61d995",
   "metadata": {},
   "source": [
    "Initialize the optimizer for training the model."
   ]
  },
  {
   "cell_type": "code",
   "execution_count": null,
   "id": "34c93103",
   "metadata": {},
   "outputs": [],
   "source": [
    "optimizer = optim.Adam(net.parameters(), lr=0.001)"
   ]
  },
  {
   "cell_type": "markdown",
   "id": "6158139b",
   "metadata": {},
   "source": [
    "Set up a learning rate scheduler to adjust the learning rate during training."
   ]
  },
  {
   "cell_type": "code",
   "execution_count": null,
   "id": "eea300fb",
   "metadata": {},
   "outputs": [],
   "source": [
    "from torch.optim.lr_scheduler import StepLR\n",
    "\n",
    "scheduler = StepLR(optimizer, step_size=10, gamma=0.1)"
   ]
  }
 ],
 "metadata": {
  "kernelspec": {
   "display_name": "Python 3",
   "language": "python",
   "name": "python3"
  },
  "language_info": {
   "codemirror_mode": {
    "name": "ipython",
    "version": 3
   },
   "file_extension": ".py",
   "mimetype": "text/x-python",
   "name": "python",
   "nbconvert_exporter": "python",
   "pygments_lexer": "ipython3",
   "version": "3.8.5"
  }
 },
 "nbformat": 4,
 "nbformat_minor": 5
}
