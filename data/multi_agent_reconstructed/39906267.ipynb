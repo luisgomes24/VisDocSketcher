{
 "cells": [
  {
   "cell_type": "markdown",
   "id": "a41b57b7",
   "metadata": {},
   "source": [
    "Read the training data from a CSV file into a DataFrame."
   ]
  },
  {
   "cell_type": "code",
   "execution_count": null,
   "id": "66b84c5e",
   "metadata": {},
   "outputs": [],
   "source": [
    "import pandas as pd\n",
    "df_train = pd.read_csv('genetic_data_train.csv')"
   ]
  },
  {
   "cell_type": "markdown",
   "id": "20a01b38",
   "metadata": {},
   "source": [
    "Split the data and train a Random Forest model on the training set."
   ]
  },
  {
   "cell_type": "code",
   "execution_count": null,
   "id": "f42879c9",
   "metadata": {},
   "outputs": [],
   "source": [
    "from sklearn.model_selection import train_test_split\n",
    "from sklearn.ensemble import RandomForestClassifier\n",
    "X = df_train.drop('target', axis=1)\n",
    "y = df_train['target']\n",
    "X_train, X_val, y_train, y_val = train_test_split(X, y, test_size=0.2)\n",
    "model = RandomForestClassifier()\n",
    "model.fit(X_train, y_train)"
   ]
  },
  {
   "cell_type": "markdown",
   "id": "bb2388e6",
   "metadata": {},
   "source": [
    "Read the testing data from a CSV file into a DataFrame."
   ]
  },
  {
   "cell_type": "code",
   "execution_count": null,
   "id": "0f72ef03",
   "metadata": {},
   "outputs": [],
   "source": [
    "df_test = pd.read_csv('genetic_data_test.csv')"
   ]
  },
  {
   "cell_type": "markdown",
   "id": "ec98045f",
   "metadata": {},
   "source": [
    "Use the trained model to make predictions on the test data."
   ]
  },
  {
   "cell_type": "code",
   "execution_count": null,
   "id": "b7ac936c",
   "metadata": {},
   "outputs": [],
   "source": [
    "predictions = model.predict(df_test)"
   ]
  },
  {
   "cell_type": "markdown",
   "id": "54ec4c42",
   "metadata": {},
   "source": [
    "Evaluate the model's performance using accuracy on the test data."
   ]
  },
  {
   "cell_type": "code",
   "execution_count": null,
   "id": "bac3d280",
   "metadata": {},
   "outputs": [],
   "source": [
    "from sklearn.metrics import accuracy_score\n",
    "evaluation = accuracy_score(df_test['target'], predictions)"
   ]
  }
 ],
 "metadata": {
  "kernelspec": {
   "display_name": "Python 3",
   "language": "python",
   "name": "python3"
  },
  "language_info": {
   "codemirror_mode": {
    "name": "ipython",
    "version": 3
   },
   "file_extension": ".py",
   "mimetype": "text/x-python",
   "name": "python",
   "nbconvert_exporter": "python",
   "pygments_lexer": "ipython3",
   "version": "3.8.5"
  }
 },
 "nbformat": 4,
 "nbformat_minor": 5
}
