{
 "cells": [
  {
   "cell_type": "markdown",
   "id": "0f587f7e",
   "metadata": {},
   "source": [
    "Load the training data from the CSV file into a DataFrame named 'train'."
   ]
  },
  {
   "cell_type": "code",
   "execution_count": null,
   "id": "9b4c76c3",
   "metadata": {},
   "outputs": [],
   "source": [
    "import pandas as pd\n",
    "train = pd.read_csv('/kaggle/input/playground-series-s3e16/train.csv')"
   ]
  },
  {
   "cell_type": "markdown",
   "id": "37b0ba6d",
   "metadata": {},
   "source": [
    "Load the testing data from the CSV file into a DataFrame named 'test'."
   ]
  },
  {
   "cell_type": "code",
   "execution_count": null,
   "id": "d35bf3d9",
   "metadata": {},
   "outputs": [],
   "source": [
    "test = pd.read_csv('/kaggle/input/playground-series-s3e16/test.csv')"
   ]
  }
 ],
 "metadata": {
  "kernelspec": {
   "display_name": "Python 3",
   "language": "python",
   "name": "python3"
  },
  "language_info": {
   "codemirror_mode": {
    "name": "ipython",
    "version": 3
   },
   "file_extension": ".py",
   "mimetype": "text/x-python",
   "name": "python",
   "nbconvert_exporter": "python",
   "pygments_lexer": "ipython3",
   "version": "3.8.5"
  }
 },
 "nbformat": 4,
 "nbformat_minor": 5
}
