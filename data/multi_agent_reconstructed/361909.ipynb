{
 "cells": [
  {
   "cell_type": "markdown",
   "id": "56e3f8f4",
   "metadata": {},
   "source": [
    "Connect to the SQLite database to load data."
   ]
  },
  {
   "cell_type": "code",
   "execution_count": null,
   "id": "7dccf783",
   "metadata": {},
   "outputs": [],
   "source": [
    "import sqlite3\n",
    "\n",
    "def load_data(db_path):\n",
    "    conn = sqlite3.connect(db_path)\n",
    "    return conn"
   ]
  },
  {
   "cell_type": "markdown",
   "id": "0b607116",
   "metadata": {},
   "source": [
    "Filter the matches to extract games involving PSG."
   ]
  },
  {
   "cell_type": "code",
   "execution_count": null,
   "id": "f69274e4",
   "metadata": {},
   "outputs": [],
   "source": [
    "def get_psg_games(conn):\n",
    "    query = 'SELECT * FROM Matches WHERE team = \"PSG\"'\n",
    "    return pd.read_sql_query(query, conn)"
   ]
  },
  {
   "cell_type": "markdown",
   "id": "e1487033",
   "metadata": {},
   "source": [
    "Retrieve information about the teams from the database."
   ]
  },
  {
   "cell_type": "code",
   "execution_count": null,
   "id": "1a8bab4a",
   "metadata": {},
   "outputs": [],
   "source": [
    "def get_teams(conn):\n",
    "    query = 'SELECT * FROM teams'\n",
    "    return pd.read_sql_query(query, conn)"
   ]
  },
  {
   "cell_type": "markdown",
   "id": "05fb7911",
   "metadata": {},
   "source": [
    "Retrieve information about the countries from the database."
   ]
  },
  {
   "cell_type": "code",
   "execution_count": null,
   "id": "030ff90d",
   "metadata": {},
   "outputs": [],
   "source": [
    "def get_countries(conn):\n",
    "    query = 'SELECT * FROM countries'\n",
    "    return pd.read_sql_query(query, conn)"
   ]
  },
  {
   "cell_type": "markdown",
   "id": "c059c460",
   "metadata": {},
   "source": [
    "Calculate statistical metrics for PSG games."
   ]
  },
  {
   "cell_type": "code",
   "execution_count": null,
   "id": "77c44a0b",
   "metadata": {},
   "outputs": [],
   "source": [
    "def calculate_stats(psg_games):\n",
    "    return psg_games.describe()"
   ]
  },
  {
   "cell_type": "markdown",
   "id": "55ef65ca",
   "metadata": {},
   "source": [
    "Calculate the accuracy of bets based on match results."
   ]
  },
  {
   "cell_type": "code",
   "execution_count": null,
   "id": "9daa9d25",
   "metadata": {},
   "outputs": [],
   "source": [
    "def calculate_betting_accuracy(psg_games):\n",
    "    # Assuming 'bet' and 'result' columns exist\n",
    "    correct_bets = psg_games[psg_games['bet'] == psg_games['result']]\n",
    "    return len(correct_bets) / len(psg_games)"
   ]
  },
  {
   "cell_type": "markdown",
   "id": "86ceb336",
   "metadata": {},
   "source": [
    "Save the calculated data to CSV files for further analysis."
   ]
  },
  {
   "cell_type": "code",
   "execution_count": null,
   "id": "a74cae4d",
   "metadata": {},
   "outputs": [],
   "source": [
    "def save_to_csv(data, filename):\n",
    "    data.to_csv(filename, index=False)"
   ]
  }
 ],
 "metadata": {
  "kernelspec": {
   "display_name": "Python 3",
   "language": "python",
   "name": "python3"
  },
  "language_info": {
   "codemirror_mode": {
    "name": "ipython",
    "version": 3
   },
   "file_extension": ".py",
   "mimetype": "text/x-python",
   "name": "python",
   "nbconvert_exporter": "python",
   "pygments_lexer": "ipython3",
   "version": "3.8.5"
  }
 },
 "nbformat": 4,
 "nbformat_minor": 5
}
