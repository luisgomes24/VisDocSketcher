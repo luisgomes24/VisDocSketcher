{
 "cells": [
  {
   "cell_type": "markdown",
   "id": "f1a9d2bb",
   "metadata": {},
   "source": [
    "Load the training dataset from a CSV file."
   ]
  },
  {
   "cell_type": "code",
   "execution_count": null,
   "id": "ace20d9c",
   "metadata": {},
   "outputs": [],
   "source": [
    "import pandas as pd\n",
    "train_data = pd.read_csv('train.csv')"
   ]
  },
  {
   "cell_type": "markdown",
   "id": "df5334b3",
   "metadata": {},
   "source": [
    "Load the testing dataset from a CSV file."
   ]
  },
  {
   "cell_type": "code",
   "execution_count": null,
   "id": "4cf48618",
   "metadata": {},
   "outputs": [],
   "source": [
    "test_data = pd.read_csv('test.csv')"
   ]
  },
  {
   "cell_type": "markdown",
   "id": "28d57236",
   "metadata": {},
   "source": [
    "Filter the training dataset for confirmed cases."
   ]
  },
  {
   "cell_type": "code",
   "execution_count": null,
   "id": "e806cef4",
   "metadata": {},
   "outputs": [],
   "source": [
    "filtered_data = train_data[train_data['Class'] == 'Confirmed']"
   ]
  },
  {
   "cell_type": "markdown",
   "id": "7e98bd2f",
   "metadata": {},
   "source": [
    "Define features by dropping the target column from the filtered data."
   ]
  },
  {
   "cell_type": "code",
   "execution_count": null,
   "id": "1d142557",
   "metadata": {},
   "outputs": [],
   "source": [
    "X = filtered_data.drop(columns=['Target'])"
   ]
  },
  {
   "cell_type": "markdown",
   "id": "2a7bfbd7",
   "metadata": {},
   "source": [
    "Extract the target variable from the filtered dataset."
   ]
  },
  {
   "cell_type": "code",
   "execution_count": null,
   "id": "27513ffa",
   "metadata": {},
   "outputs": [],
   "source": [
    "y = filtered_data['Target']"
   ]
  },
  {
   "cell_type": "markdown",
   "id": "fb99bb68",
   "metadata": {},
   "source": [
    "Split the data into training and validation sets."
   ]
  },
  {
   "cell_type": "code",
   "execution_count": null,
   "id": "0c12d705",
   "metadata": {},
   "outputs": [],
   "source": [
    "from sklearn.model_selection import train_test_split\n",
    "X_train, X_val, y_train, y_val = train_test_split(X, y, test_size=0.2)"
   ]
  },
  {
   "cell_type": "markdown",
   "id": "952ee891",
   "metadata": {},
   "source": [
    "Initialize a Random Forest classifier model."
   ]
  },
  {
   "cell_type": "code",
   "execution_count": null,
   "id": "7859d4fd",
   "metadata": {},
   "outputs": [],
   "source": [
    "from sklearn.ensemble import RandomForestClassifier\n",
    "model = RandomForestClassifier()"
   ]
  },
  {
   "cell_type": "markdown",
   "id": "95234b67",
   "metadata": {},
   "source": [
    "Fit the model on the training data."
   ]
  },
  {
   "cell_type": "code",
   "execution_count": null,
   "id": "2b7a4a5d",
   "metadata": {},
   "outputs": [],
   "source": [
    "model.fit(X_train, y_train)"
   ]
  },
  {
   "cell_type": "markdown",
   "id": "11ea7618",
   "metadata": {},
   "source": [
    "Make predictions on the validation set."
   ]
  },
  {
   "cell_type": "code",
   "execution_count": null,
   "id": "a6ea6d56",
   "metadata": {},
   "outputs": [],
   "source": [
    "y_pred = model.predict(X_val)"
   ]
  },
  {
   "cell_type": "markdown",
   "id": "d2032076",
   "metadata": {},
   "source": [
    "Calculate the accuracy of the model on the validation set."
   ]
  },
  {
   "cell_type": "code",
   "execution_count": null,
   "id": "ad4e5d4e",
   "metadata": {},
   "outputs": [],
   "source": [
    "from sklearn.metrics import accuracy_score\n",
    "accuracy = accuracy_score(y_val, y_pred)"
   ]
  },
  {
   "cell_type": "markdown",
   "id": "c64493c0",
   "metadata": {},
   "source": [
    "Create a submission DataFrame for predictions on the test data."
   ]
  },
  {
   "cell_type": "code",
   "execution_count": null,
   "id": "87dc6597",
   "metadata": {},
   "outputs": [],
   "source": [
    "submission = pd.DataFrame({'Id': test_data['Id'], 'Prediction': model.predict(test_data.drop(columns=['Id']))})"
   ]
  },
  {
   "cell_type": "markdown",
   "id": "aea9d8c6",
   "metadata": {},
   "source": [
    "Save the submission DataFrame to a CSV file."
   ]
  },
  {
   "cell_type": "code",
   "execution_count": null,
   "id": "cdd0abdb",
   "metadata": {},
   "outputs": [],
   "source": [
    "submission.to_csv('submission.csv', index=False)"
   ]
  }
 ],
 "metadata": {
  "kernelspec": {
   "display_name": "Python 3",
   "language": "python",
   "name": "python3"
  },
  "language_info": {
   "codemirror_mode": {
    "name": "ipython",
    "version": 3
   },
   "file_extension": ".py",
   "mimetype": "text/x-python",
   "name": "python",
   "nbconvert_exporter": "python",
   "pygments_lexer": "ipython3",
   "version": "3.8.5"
  }
 },
 "nbformat": 4,
 "nbformat_minor": 5
}
