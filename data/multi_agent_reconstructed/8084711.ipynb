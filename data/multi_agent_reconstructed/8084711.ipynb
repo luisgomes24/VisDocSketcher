{
 "cells": [
  {
   "cell_type": "markdown",
   "id": "7e38d04e",
   "metadata": {},
   "source": [
    "Importing the pandas library for data manipulation."
   ]
  },
  {
   "cell_type": "code",
   "execution_count": null,
   "id": "6d12130e",
   "metadata": {},
   "outputs": [],
   "source": [
    "import pandas as pd"
   ]
  },
  {
   "cell_type": "markdown",
   "id": "fd25d21d",
   "metadata": {},
   "source": [
    "Reading the CSV file into a DataFrame named 'df'."
   ]
  },
  {
   "cell_type": "code",
   "execution_count": null,
   "id": "ceb9166f",
   "metadata": {},
   "outputs": [],
   "source": [
    "df = pd.read_csv('Logistic-Regression-Classification-data.csv')"
   ]
  },
  {
   "cell_type": "markdown",
   "id": "00bbdbd7",
   "metadata": {},
   "source": [
    "Separating features (X) and target variable (y) from the DataFrame."
   ]
  },
  {
   "cell_type": "code",
   "execution_count": null,
   "id": "1cd7107d",
   "metadata": {},
   "outputs": [],
   "source": [
    "X = df.iloc[:, :-1].values; y = df.iloc[:, -1].values"
   ]
  },
  {
   "cell_type": "markdown",
   "id": "ac241651",
   "metadata": {},
   "source": [
    "Importing Logistic Regression model and creating an instance."
   ]
  },
  {
   "cell_type": "code",
   "execution_count": null,
   "id": "8f79cf46",
   "metadata": {},
   "outputs": [],
   "source": [
    "from sklearn.linear_model import LogisticRegression\n",
    "model = LogisticRegression()"
   ]
  }
 ],
 "metadata": {
  "kernelspec": {
   "display_name": "Python 3",
   "language": "python",
   "name": "python3"
  },
  "language_info": {
   "codemirror_mode": {
    "name": "ipython",
    "version": 3
   },
   "file_extension": ".py",
   "mimetype": "text/x-python",
   "name": "python",
   "nbconvert_exporter": "python",
   "pygments_lexer": "ipython3",
   "version": "3.8.5"
  }
 },
 "nbformat": 4,
 "nbformat_minor": 5
}
