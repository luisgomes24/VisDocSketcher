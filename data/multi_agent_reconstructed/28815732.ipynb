{
 "cells": [
  {
   "cell_type": "markdown",
   "id": "7a1a7229",
   "metadata": {},
   "source": [
    "Lists all TIF files in the specified directory using the glob module."
   ]
  },
  {
   "cell_type": "code",
   "execution_count": null,
   "id": "d1e9a866",
   "metadata": {},
   "outputs": [],
   "source": [
    "import glob\n",
    "image_paths = glob.glob('../input/mayo-clinic-strip-ai/test/*.tif')"
   ]
  },
  {
   "cell_type": "markdown",
   "id": "56132728",
   "metadata": {},
   "source": [
    "Loads the images from the listed file paths using the PIL library."
   ]
  },
  {
   "cell_type": "code",
   "execution_count": null,
   "id": "bba0f2ed",
   "metadata": {},
   "outputs": [],
   "source": [
    "from PIL import Image\n",
    "images = [Image.open(image_path) for image_path in image_paths]"
   ]
  },
  {
   "cell_type": "markdown",
   "id": "d76f5497",
   "metadata": {},
   "source": [
    "Creates tiles by cropping each image into smaller sections (100x100 pixels)."
   ]
  },
  {
   "cell_type": "code",
   "execution_count": null,
   "id": "58e4e491",
   "metadata": {},
   "outputs": [],
   "source": [
    "tiles = [image.crop((0, 0, 100, 100)) for image in images]"
   ]
  }
 ],
 "metadata": {
  "kernelspec": {
   "display_name": "Python 3",
   "language": "python",
   "name": "python3"
  },
  "language_info": {
   "codemirror_mode": {
    "name": "ipython",
    "version": 3
   },
   "file_extension": ".py",
   "mimetype": "text/x-python",
   "name": "python",
   "nbconvert_exporter": "python",
   "pygments_lexer": "ipython3",
   "version": "3.8.5"
  }
 },
 "nbformat": 4,
 "nbformat_minor": 5
}
