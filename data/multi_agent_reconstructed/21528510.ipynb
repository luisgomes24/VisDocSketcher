{
 "cells": [
  {
   "cell_type": "markdown",
   "id": "62531f1c",
   "metadata": {},
   "source": [
    "Defines a list of file IDs for the models to be downloaded."
   ]
  },
  {
   "cell_type": "code",
   "execution_count": null,
   "id": "f0352eef",
   "metadata": {},
   "outputs": [],
   "source": [
    "file_ids = ['id1', 'id2', 'id3']"
   ]
  },
  {
   "cell_type": "markdown",
   "id": "be489aa4",
   "metadata": {},
   "source": [
    "Assigns the first file ID to the variable 'fid' for processing."
   ]
  },
  {
   "cell_type": "code",
   "execution_count": null,
   "id": "96a18fc4",
   "metadata": {},
   "outputs": [],
   "source": [
    "fid = file_ids[0]"
   ]
  },
  {
   "cell_type": "markdown",
   "id": "28a076b6",
   "metadata": {},
   "source": [
    "Generates a download link using the file ID."
   ]
  },
  {
   "cell_type": "code",
   "execution_count": null,
   "id": "0f55e2e3",
   "metadata": {},
   "outputs": [],
   "source": [
    "download_link = f'https://example.com/download/{fid}'"
   ]
  },
  {
   "cell_type": "markdown",
   "id": "f4191b39",
   "metadata": {},
   "source": [
    "Uses wget to download the file from the generated link."
   ]
  },
  {
   "cell_type": "code",
   "execution_count": null,
   "id": "d610e43d",
   "metadata": {},
   "outputs": [],
   "source": [
    "!wget {download_link}"
   ]
  }
 ],
 "metadata": {
  "kernelspec": {
   "display_name": "Python 3",
   "language": "python",
   "name": "python3"
  },
  "language_info": {
   "codemirror_mode": {
    "name": "ipython",
    "version": 3
   },
   "file_extension": ".py",
   "mimetype": "text/x-python",
   "name": "python",
   "nbconvert_exporter": "python",
   "pygments_lexer": "ipython3",
   "version": "3.8.5"
  }
 },
 "nbformat": 4,
 "nbformat_minor": 5
}
