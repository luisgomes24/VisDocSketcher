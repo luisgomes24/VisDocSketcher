{
 "cells": [
  {
   "cell_type": "markdown",
   "id": "5176a686",
   "metadata": {},
   "source": [
    "Load the dataset from a CSV file into a DataFrame."
   ]
  },
  {
   "cell_type": "code",
   "execution_count": null,
   "id": "2a685146",
   "metadata": {},
   "outputs": [],
   "source": [
    "import pandas as pd\n",
    "\n",
    "data = pd.read_csv('kaggle_survey_2021_responses.csv')"
   ]
  },
  {
   "cell_type": "markdown",
   "id": "453ca74b",
   "metadata": {},
   "source": [
    "Filter the DataFrame to get lists of indices for notebook users."
   ]
  },
  {
   "cell_type": "code",
   "execution_count": null,
   "id": "d59c5d8e",
   "metadata": {},
   "outputs": [],
   "source": [
    "d1 = data[data['Q35'] == 'Notebook']\n",
    "d2 = data[data['Q35'] == 'Other']\n",
    "d3 = data[data['Q35'] == 'Both']"
   ]
  },
  {
   "cell_type": "markdown",
   "id": "3b728cdc",
   "metadata": {},
   "source": [
    "Count the occurrences of each response in question 35."
   ]
  },
  {
   "cell_type": "code",
   "execution_count": null,
   "id": "5de8e4a4",
   "metadata": {},
   "outputs": [],
   "source": [
    "counts = data['Q35'].value_counts()"
   ]
  },
  {
   "cell_type": "markdown",
   "id": "f2424352",
   "metadata": {},
   "source": [
    "Group counts by education level."
   ]
  },
  {
   "cell_type": "code",
   "execution_count": null,
   "id": "a8fa9882",
   "metadata": {},
   "outputs": [],
   "source": [
    "outer = data.groupby('Education Level').size()"
   ]
  },
  {
   "cell_type": "markdown",
   "id": "4c0f642b",
   "metadata": {},
   "source": [
    "Group counts by education level and programming language."
   ]
  },
  {
   "cell_type": "code",
   "execution_count": null,
   "id": "a579fd3a",
   "metadata": {},
   "outputs": [],
   "source": [
    "inner = data.groupby(['Education Level', 'Programming Language']).size()"
   ]
  },
  {
   "cell_type": "markdown",
   "id": "fb46fec9",
   "metadata": {},
   "source": [
    "Create a Venn diagram to visualize notebook users."
   ]
  },
  {
   "cell_type": "code",
   "execution_count": null,
   "id": "2e958ded",
   "metadata": {},
   "outputs": [],
   "source": [
    "import matplotlib.pyplot as plt\n",
    "from matplotlib_venn import venn2\n",
    "\n",
    "venn2(subsets=(d1.count(), d2.count()), set_labels=('Notebook', 'Other'))\n",
    "plt.title('Venn Diagram')\n",
    "plt.show()"
   ]
  },
  {
   "cell_type": "markdown",
   "id": "1e553545",
   "metadata": {},
   "source": [
    "Create pie charts to visualize education and language groups."
   ]
  },
  {
   "cell_type": "code",
   "execution_count": null,
   "id": "2bc55180",
   "metadata": {},
   "outputs": [],
   "source": [
    "plt.figure(figsize=(8, 6))\n",
    "plt.pie(counts, labels=counts.index, autopct='%1.1f%%')\n",
    "plt.title('Pie Charts for Education and Language Groups')\n",
    "plt.show()"
   ]
  },
  {
   "cell_type": "markdown",
   "id": "df0040c1",
   "metadata": {},
   "source": [
    "Generate a circular packing visualization for BI tool counts."
   ]
  },
  {
   "cell_type": "code",
   "execution_count": null,
   "id": "9912565d",
   "metadata": {},
   "outputs": [],
   "source": [
    "import squarify\n",
    "\n",
    "labels = counts.index\n",
    "sizes = counts.values\n",
    "squarify.plot(sizes=sizes, label=labels, alpha=.8)\n",
    "plt.title('Circular Packing')\n",
    "plt.show()"
   ]
  }
 ],
 "metadata": {
  "kernelspec": {
   "display_name": "Python 3",
   "language": "python",
   "name": "python3"
  },
  "language_info": {
   "codemirror_mode": {
    "name": "ipython",
    "version": 3
   },
   "file_extension": ".py",
   "mimetype": "text/x-python",
   "name": "python",
   "nbconvert_exporter": "python",
   "pygments_lexer": "ipython3",
   "version": "3.8.5"
  }
 },
 "nbformat": 4,
 "nbformat_minor": 5
}
