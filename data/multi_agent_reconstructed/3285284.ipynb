{
 "cells": [
  {
   "cell_type": "markdown",
   "id": "4cd1057f",
   "metadata": {},
   "source": [
    "Import the pandas library and read the Parking Violations CSV file into a DataFrame called df2017."
   ]
  },
  {
   "cell_type": "code",
   "execution_count": null,
   "id": "db77a247",
   "metadata": {},
   "outputs": [],
   "source": [
    "import pandas as pd\n",
    "df2017 = pd.read_csv('parking_violations.csv')"
   ]
  },
  {
   "cell_type": "markdown",
   "id": "620b8cff",
   "metadata": {},
   "source": [
    "Create a new DataFrame mini2017 by randomly sampling 10% of the rows from df2017."
   ]
  },
  {
   "cell_type": "code",
   "execution_count": null,
   "id": "942583c9",
   "metadata": {},
   "outputs": [],
   "source": [
    "mini2017 = df2017.sample(frac=0.1)"
   ]
  }
 ],
 "metadata": {
  "kernelspec": {
   "display_name": "Python 3",
   "language": "python",
   "name": "python3"
  },
  "language_info": {
   "codemirror_mode": {
    "name": "ipython",
    "version": 3
   },
   "file_extension": ".py",
   "mimetype": "text/x-python",
   "name": "python",
   "nbconvert_exporter": "python",
   "pygments_lexer": "ipython3",
   "version": "3.8.5"
  }
 },
 "nbformat": 4,
 "nbformat_minor": 5
}
