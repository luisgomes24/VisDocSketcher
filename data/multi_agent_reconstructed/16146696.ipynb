{
 "cells": [
  {
   "cell_type": "markdown",
   "id": "8e9940cb",
   "metadata": {},
   "source": [
    "Load images from files using the `load_img` function."
   ]
  },
  {
   "cell_type": "code",
   "execution_count": null,
   "id": "b97fc136",
   "metadata": {},
   "outputs": [],
   "source": [
    "from tensorflow.keras.preprocessing.image import load_img\n",
    "import numpy as np\n",
    "\n",
    "image1 = load_img('tiger.jfif')\n",
    "image2 = load_img('glasses.jfif')\n",
    "image3 = load_img('nature1.jfif')\n",
    "image4 = load_img('viratkohli.jfif')"
   ]
  },
  {
   "cell_type": "markdown",
   "id": "331d455e",
   "metadata": {},
   "source": [
    "Store the loaded images in a list for processing."
   ]
  },
  {
   "cell_type": "code",
   "execution_count": null,
   "id": "ce7d680a",
   "metadata": {},
   "outputs": [],
   "source": [
    "img = [image1, image2, image3, image4]"
   ]
  },
  {
   "cell_type": "markdown",
   "id": "7e4efd4b",
   "metadata": {},
   "source": [
    "Expand dimensions of each image and preprocess for model input."
   ]
  },
  {
   "cell_type": "code",
   "execution_count": null,
   "id": "2dd83cfb",
   "metadata": {},
   "outputs": [],
   "source": [
    "from tensorflow.keras.applications.resnet50 import preprocess_input\n",
    "\n",
    "x = [np.expand_dims(image, axis=0) for image in img]"
   ]
  },
  {
   "cell_type": "markdown",
   "id": "2cadc123",
   "metadata": {},
   "source": [
    "Load the ResNet50 model with pre-trained ImageNet weights."
   ]
  },
  {
   "cell_type": "code",
   "execution_count": null,
   "id": "3f8d12cc",
   "metadata": {},
   "outputs": [],
   "source": [
    "from tensorflow.keras.applications import ResNet50\n",
    "model = ResNet50(weights='imagenet')"
   ]
  },
  {
   "cell_type": "markdown",
   "id": "dda47b13",
   "metadata": {},
   "source": [
    "Make predictions for each processed image using the model."
   ]
  },
  {
   "cell_type": "code",
   "execution_count": null,
   "id": "2183e377",
   "metadata": {},
   "outputs": [],
   "source": [
    "pred = [model.predict(image) for image in x]"
   ]
  }
 ],
 "metadata": {
  "kernelspec": {
   "display_name": "Python 3",
   "language": "python",
   "name": "python3"
  },
  "language_info": {
   "codemirror_mode": {
    "name": "ipython",
    "version": 3
   },
   "file_extension": ".py",
   "mimetype": "text/x-python",
   "name": "python",
   "nbconvert_exporter": "python",
   "pygments_lexer": "ipython3",
   "version": "3.8.5"
  }
 },
 "nbformat": 4,
 "nbformat_minor": 5
}
