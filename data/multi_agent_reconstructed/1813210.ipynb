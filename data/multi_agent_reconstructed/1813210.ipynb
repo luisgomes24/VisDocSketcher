{
 "cells": [
  {
   "cell_type": "markdown",
   "id": "4cdedecb",
   "metadata": {},
   "source": [
    "Load data from a CSV file into a DataFrame named df1."
   ]
  },
  {
   "cell_type": "code",
   "execution_count": null,
   "id": "125e19a0",
   "metadata": {},
   "outputs": [],
   "source": [
    "import pandas as pd\n",
    "df1 = pd.read_csv('../input/total-private-construction-spending.csv')"
   ]
  },
  {
   "cell_type": "markdown",
   "id": "2425eab3",
   "metadata": {},
   "source": [
    "Plot the distribution of a specified column from df1 using a histogram."
   ]
  },
  {
   "cell_type": "code",
   "execution_count": null,
   "id": "2ca54ac7",
   "metadata": {},
   "outputs": [],
   "source": [
    "import matplotlib.pyplot as plt\n",
    "import seaborn as sns\n",
    "sns.set(style='whitegrid')\n",
    "\n",
    "plt.figure(figsize=(10, 6))\n",
    "sns.histplot(df1['column_name'], bins=30, kde=True)\n",
    "plt.title('Distribution of Column Name')\n",
    "plt.xlabel('Column Name')\n",
    "plt.ylabel('Frequency')\n",
    "plt.show()"
   ]
  }
 ],
 "metadata": {
  "kernelspec": {
   "display_name": "Python 3",
   "language": "python",
   "name": "python3"
  },
  "language_info": {
   "codemirror_mode": {
    "name": "ipython",
    "version": 3
   },
   "file_extension": ".py",
   "mimetype": "text/x-python",
   "name": "python",
   "nbconvert_exporter": "python",
   "pygments_lexer": "ipython3",
   "version": "3.8.5"
  }
 },
 "nbformat": 4,
 "nbformat_minor": 5
}
