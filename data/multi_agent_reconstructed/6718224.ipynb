{
 "cells": [
  {
   "cell_type": "markdown",
   "id": "e8fd0da0",
   "metadata": {},
   "source": [
    "Read the CSV file 'gptest.csv' into a DataFrame called df1."
   ]
  },
  {
   "cell_type": "code",
   "execution_count": null,
   "id": "98e34d7b",
   "metadata": {},
   "outputs": [],
   "source": [
    "import pandas as pd\n",
    "df1 = pd.read_csv('gptest.csv')"
   ]
  },
  {
   "cell_type": "markdown",
   "id": "b5726688",
   "metadata": {},
   "source": [
    "Define a function to visualize the distribution of each column in df1."
   ]
  },
  {
   "cell_type": "code",
   "execution_count": null,
   "id": "fc5a85f7",
   "metadata": {},
   "outputs": [],
   "source": [
    "import matplotlib.pyplot as plt\n",
    "import seaborn as sns\n",
    "def plotPerColumnDistribution(df):\n",
    "    for column in df.columns:\n",
    "        plt.figure()\n",
    "        sns.histplot(df[column])\n",
    "        plt.title(f'Distribution of {column}')\n",
    "        plt.show()"
   ]
  },
  {
   "cell_type": "markdown",
   "id": "ad9c3723",
   "metadata": {},
   "source": [
    "Define a function to visualize the correlation matrix of df1."
   ]
  },
  {
   "cell_type": "code",
   "execution_count": null,
   "id": "99eadeab",
   "metadata": {},
   "outputs": [],
   "source": [
    "def plotCorrelationMatrix(df):\n",
    "    plt.figure(figsize=(10, 8))\n",
    "    sns.heatmap(df.corr(), annot=True, fmt='.2f', cmap='coolwarm')\n",
    "    plt.title('Correlation Matrix')\n",
    "    plt.show()"
   ]
  },
  {
   "cell_type": "markdown",
   "id": "ac36b582",
   "metadata": {},
   "source": [
    "Define a function to visualize the scatter matrix of df1."
   ]
  },
  {
   "cell_type": "code",
   "execution_count": null,
   "id": "5a27e4fa",
   "metadata": {},
   "outputs": [],
   "source": [
    "def plotScatterMatrix(df):\n",
    "    pd.plotting.scatter_matrix(df, figsize=(10, 10), diagonal='kde')\n",
    "    plt.suptitle('Scatter Matrix')\n",
    "    plt.show()"
   ]
  }
 ],
 "metadata": {
  "kernelspec": {
   "display_name": "Python 3",
   "language": "python",
   "name": "python3"
  },
  "language_info": {
   "codemirror_mode": {
    "name": "ipython",
    "version": 3
   },
   "file_extension": ".py",
   "mimetype": "text/x-python",
   "name": "python",
   "nbconvert_exporter": "python",
   "pygments_lexer": "ipython3",
   "version": "3.8.5"
  }
 },
 "nbformat": 4,
 "nbformat_minor": 5
}
