{
 "cells": [
  {
   "cell_type": "markdown",
   "id": "b3eaa74a",
   "metadata": {},
   "source": [
    "Import the pandas library and load the CSV file into a DataFrame named 'df'."
   ]
  },
  {
   "cell_type": "code",
   "execution_count": null,
   "id": "7387eda6",
   "metadata": {},
   "outputs": [],
   "source": [
    "import pandas as pd\n",
    "df = pd.read_csv('../input/samsung-electronics-stock-historical-price/005930.KS.csv')"
   ]
  },
  {
   "cell_type": "markdown",
   "id": "6f0c8ad0",
   "metadata": {},
   "source": [
    "Define a function to calculate Bollinger Bands. It calculates the rolling mean and standard deviation."
   ]
  },
  {
   "cell_type": "code",
   "execution_count": null,
   "id": "0b3746e5",
   "metadata": {},
   "outputs": [],
   "source": [
    "def bollinger_bands(df, window=20, num_std_dev=2):\n",
    "    rolling_mean = df['Close'].rolling(window=window).mean()\n",
    "    rolling_std = df['Close'].rolling(window=window).std()\n",
    "    upper_band = rolling_mean + (rolling_std * num_std_dev)\n",
    "    lower_band = rolling_mean - (rolling_std * num_std_dev)\n",
    "    return rolling_mean, upper_band, lower_band"
   ]
  },
  {
   "cell_type": "markdown",
   "id": "7dc1394c",
   "metadata": {},
   "source": [
    "Call the Bollinger Bands function with the DataFrame 'df' to get the mean, upper, and lower bands."
   ]
  },
  {
   "cell_type": "code",
   "execution_count": null,
   "id": "e7f063c8",
   "metadata": {},
   "outputs": [],
   "source": [
    "mean, upper, lower = bollinger_bands(df)"
   ]
  }
 ],
 "metadata": {
  "kernelspec": {
   "display_name": "Python 3",
   "language": "python",
   "name": "python3"
  },
  "language_info": {
   "codemirror_mode": {
    "name": "ipython",
    "version": 3
   },
   "file_extension": ".py",
   "mimetype": "text/x-python",
   "name": "python",
   "nbconvert_exporter": "python",
   "pygments_lexer": "ipython3",
   "version": "3.8.5"
  }
 },
 "nbformat": 4,
 "nbformat_minor": 5
}
