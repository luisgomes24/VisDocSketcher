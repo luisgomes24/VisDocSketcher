{
 "cells": [
  {
   "cell_type": "markdown",
   "id": "df100ef1",
   "metadata": {},
   "source": [
    "Load data from the specified source using pandas."
   ]
  },
  {
   "cell_type": "code",
   "execution_count": null,
   "id": "eb4b4b1c",
   "metadata": {},
   "outputs": [],
   "source": [
    "import pandas as pd\n",
    "\n",
    "data = pd.read_csv('data_source.csv')"
   ]
  },
  {
   "cell_type": "markdown",
   "id": "a7bf21cd",
   "metadata": {},
   "source": [
    "Process the dataset by removing any missing values."
   ]
  },
  {
   "cell_type": "code",
   "execution_count": null,
   "id": "f7abd147",
   "metadata": {},
   "outputs": [],
   "source": [
    "data = data.dropna()"
   ]
  },
  {
   "cell_type": "markdown",
   "id": "1493c335",
   "metadata": {},
   "source": [
    "Select the top 10 features based on univariate statistical tests."
   ]
  },
  {
   "cell_type": "code",
   "execution_count": null,
   "id": "56f7ea52",
   "metadata": {},
   "outputs": [],
   "source": [
    "from sklearn.feature_selection import SelectKBest, f_regression\n",
    "\n",
    "X = data.drop('target', axis=1)\n",
    "y = data['target']\n",
    "selector = SelectKBest(score_func=f_regression, k=10)\n",
    "X_selected = selector.fit_transform(X, y)"
   ]
  },
  {
   "cell_type": "markdown",
   "id": "e4ffa34e",
   "metadata": {},
   "source": [
    "Split the dataset into training and testing sets."
   ]
  },
  {
   "cell_type": "code",
   "execution_count": null,
   "id": "a297a62a",
   "metadata": {},
   "outputs": [],
   "source": [
    "from sklearn.model_selection import train_test_split\n",
    "\n",
    "X_train, X_test, y_train, y_test = train_test_split(X_selected, y, test_size=0.2, random_state=42)"
   ]
  },
  {
   "cell_type": "markdown",
   "id": "0678440c",
   "metadata": {},
   "source": [
    "Train a linear regression model with the training data."
   ]
  },
  {
   "cell_type": "code",
   "execution_count": null,
   "id": "a16f787a",
   "metadata": {},
   "outputs": [],
   "source": [
    "from sklearn.linear_model import LinearRegression\n",
    "\n",
    "model = LinearRegression()\n",
    "model.fit(X_train, y_train)"
   ]
  },
  {
   "cell_type": "markdown",
   "id": "073ff773",
   "metadata": {},
   "source": [
    "Make predictions using the test data."
   ]
  },
  {
   "cell_type": "code",
   "execution_count": null,
   "id": "971f30b2",
   "metadata": {},
   "outputs": [],
   "source": [
    "predictions = model.predict(X_test)"
   ]
  },
  {
   "cell_type": "markdown",
   "id": "751c5e47",
   "metadata": {},
   "source": [
    "Evaluate the model's performance using Mean Squared Error."
   ]
  },
  {
   "cell_type": "code",
   "execution_count": null,
   "id": "257083ee",
   "metadata": {},
   "outputs": [],
   "source": [
    "from sklearn.metrics import mean_squared_error\n",
    "\n",
    "mse = mean_squared_error(y_test, predictions)"
   ]
  },
  {
   "cell_type": "markdown",
   "id": "2ffe0932",
   "metadata": {},
   "source": [
    "Visualize the predictions against the true values."
   ]
  },
  {
   "cell_type": "code",
   "execution_count": null,
   "id": "33b791b5",
   "metadata": {},
   "outputs": [],
   "source": [
    "import matplotlib.pyplot as plt\n",
    "\n",
    "plt.scatter(y_test, predictions)\n",
    "plt.xlabel('True Values')\n",
    "plt.ylabel('Predictions')\n",
    "plt.title('Predictions vs True Values')\n",
    "plt.show()"
   ]
  }
 ],
 "metadata": {
  "kernelspec": {
   "display_name": "Python 3",
   "language": "python",
   "name": "python3"
  },
  "language_info": {
   "codemirror_mode": {
    "name": "ipython",
    "version": 3
   },
   "file_extension": ".py",
   "mimetype": "text/x-python",
   "name": "python",
   "nbconvert_exporter": "python",
   "pygments_lexer": "ipython3",
   "version": "3.8.5"
  }
 },
 "nbformat": 4,
 "nbformat_minor": 5
}
