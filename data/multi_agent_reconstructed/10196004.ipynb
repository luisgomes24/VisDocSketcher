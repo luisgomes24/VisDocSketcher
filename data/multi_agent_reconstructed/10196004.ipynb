{
 "cells": [
  {
   "cell_type": "markdown",
   "id": "a3a56975",
   "metadata": {},
   "source": [
    "Load the MNIST dataset into training and validation sets."
   ]
  },
  {
   "cell_type": "code",
   "execution_count": null,
   "id": "861d4438",
   "metadata": {},
   "outputs": [],
   "source": [
    "from tensorflow.keras.datasets import mnist\n",
    "\n",
    "(training_images, training_labels), (validation_images, validation_labels) = mnist.load_data()"
   ]
  },
  {
   "cell_type": "markdown",
   "id": "823b8467",
   "metadata": {},
   "source": [
    "Create the training dataset from the loaded training images and labels."
   ]
  },
  {
   "cell_type": "code",
   "execution_count": null,
   "id": "8ae90fc8",
   "metadata": {},
   "outputs": [],
   "source": [
    "training_dataset = (training_images, training_labels)"
   ]
  },
  {
   "cell_type": "markdown",
   "id": "6f7cdf8a",
   "metadata": {},
   "source": [
    "Create the validation dataset from the loaded validation images and labels."
   ]
  },
  {
   "cell_type": "code",
   "execution_count": null,
   "id": "3fad14bb",
   "metadata": {},
   "outputs": [],
   "source": [
    "validation_dataset = (validation_images, validation_labels)"
   ]
  }
 ],
 "metadata": {
  "kernelspec": {
   "display_name": "Python 3",
   "language": "python",
   "name": "python3"
  },
  "language_info": {
   "codemirror_mode": {
    "name": "ipython",
    "version": 3
   },
   "file_extension": ".py",
   "mimetype": "text/x-python",
   "name": "python",
   "nbconvert_exporter": "python",
   "pygments_lexer": "ipython3",
   "version": "3.8.5"
  }
 },
 "nbformat": 4,
 "nbformat_minor": 5
}
