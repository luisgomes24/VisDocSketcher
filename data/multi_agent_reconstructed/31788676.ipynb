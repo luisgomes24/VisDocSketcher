{
 "cells": [
  {
   "cell_type": "markdown",
   "id": "1716bf23",
   "metadata": {},
   "source": [
    "Load the dataset from a CSV file into a pandas DataFrame."
   ]
  },
  {
   "cell_type": "code",
   "execution_count": null,
   "id": "3299c473",
   "metadata": {},
   "outputs": [],
   "source": [
    "import pandas as pd\n",
    "data = pd.read_csv('data.csv')"
   ]
  },
  {
   "cell_type": "markdown",
   "id": "7ed67bad",
   "metadata": {},
   "source": [
    "Generate a summary of statistics for the dataset."
   ]
  },
  {
   "cell_type": "code",
   "execution_count": null,
   "id": "7411954d",
   "metadata": {},
   "outputs": [],
   "source": [
    "data.describe()"
   ]
  },
  {
   "cell_type": "markdown",
   "id": "1f2ddada",
   "metadata": {},
   "source": [
    "Calculate total sales for each month."
   ]
  },
  {
   "cell_type": "code",
   "execution_count": null,
   "id": "33c34a5d",
   "metadata": {},
   "outputs": [],
   "source": [
    "monthly_sales = data.groupby('month')['sales'].sum()"
   ]
  },
  {
   "cell_type": "markdown",
   "id": "97924c74",
   "metadata": {},
   "source": [
    "Fit an ARIMA model to the monthly sales data."
   ]
  },
  {
   "cell_type": "code",
   "execution_count": null,
   "id": "459873cf",
   "metadata": {},
   "outputs": [],
   "source": [
    "from statsmodels.tsa.arima.model import ARIMA\n",
    "model = ARIMA(monthly_sales, order=(1, 1, 1))\n",
    "model_fit = model.fit()"
   ]
  },
  {
   "cell_type": "markdown",
   "id": "f8684e1b",
   "metadata": {},
   "source": [
    "Visualize the monthly sales data using a line plot."
   ]
  },
  {
   "cell_type": "code",
   "execution_count": null,
   "id": "5a27b5ae",
   "metadata": {},
   "outputs": [],
   "source": [
    "import matplotlib.pyplot as plt\n",
    "plt.plot(monthly_sales)\n",
    "plt.title('Monthly Sales')\n",
    "plt.show()"
   ]
  },
  {
   "cell_type": "markdown",
   "id": "b2b389f8",
   "metadata": {},
   "source": [
    "Generate and save plots of the monthly sales."
   ]
  },
  {
   "cell_type": "code",
   "execution_count": null,
   "id": "e0de69ae",
   "metadata": {},
   "outputs": [],
   "source": [
    "plt.savefig('monthly_sales_plot.png')"
   ]
  },
  {
   "cell_type": "markdown",
   "id": "3a9a589a",
   "metadata": {},
   "source": [
    "Evaluate the ARIMA model by viewing its summary metrics."
   ]
  },
  {
   "cell_type": "code",
   "execution_count": null,
   "id": "35930493",
   "metadata": {},
   "outputs": [],
   "source": [
    "model_fit.summary()"
   ]
  }
 ],
 "metadata": {
  "kernelspec": {
   "display_name": "Python 3",
   "language": "python",
   "name": "python3"
  },
  "language_info": {
   "codemirror_mode": {
    "name": "ipython",
    "version": 3
   },
   "file_extension": ".py",
   "mimetype": "text/x-python",
   "name": "python",
   "nbconvert_exporter": "python",
   "pygments_lexer": "ipython3",
   "version": "3.8.5"
  }
 },
 "nbformat": 4,
 "nbformat_minor": 5
}
