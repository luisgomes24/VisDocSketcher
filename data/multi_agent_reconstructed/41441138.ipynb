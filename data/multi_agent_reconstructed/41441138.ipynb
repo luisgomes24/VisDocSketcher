{
 "cells": [
  {
   "cell_type": "markdown",
   "id": "6edcdf68",
   "metadata": {},
   "source": [
    "Load the CSV file into a DataFrame using pandas."
   ]
  },
  {
   "cell_type": "code",
   "execution_count": null,
   "id": "0fd93426",
   "metadata": {},
   "outputs": [],
   "source": [
    "import pandas as pd\n",
    "data = pd.read_csv('Crime_Data_from_2020_to_Present.csv')"
   ]
  },
  {
   "cell_type": "markdown",
   "id": "1390d5ca",
   "metadata": {},
   "source": [
    "Perform initial exploration to view the first few records, summary info, and basic statistics."
   ]
  },
  {
   "cell_type": "code",
   "execution_count": null,
   "id": "55e51365",
   "metadata": {},
   "outputs": [],
   "source": [
    "data.head(), data.info(), data.describe()"
   ]
  },
  {
   "cell_type": "markdown",
   "id": "a2ae1c3b",
   "metadata": {},
   "source": [
    "Visualize the data using count plots for categorical columns."
   ]
  },
  {
   "cell_type": "code",
   "execution_count": null,
   "id": "39989821",
   "metadata": {},
   "outputs": [],
   "source": [
    "import matplotlib.pyplot as plt\n",
    "import seaborn as sns\n",
    "sns.countplot(x='column_name', data=data)\n",
    "plt.show()"
   ]
  },
  {
   "cell_type": "markdown",
   "id": "ffba7b52",
   "metadata": {},
   "source": [
    "Create pie charts to visualize the distribution of a categorical variable."
   ]
  },
  {
   "cell_type": "code",
   "execution_count": null,
   "id": "c0aad2b1",
   "metadata": {},
   "outputs": [],
   "source": [
    "data['column_name'].value_counts().plot.pie(autopct='%1.1f%%')\n",
    "plt.show()"
   ]
  }
 ],
 "metadata": {
  "kernelspec": {
   "display_name": "Python 3",
   "language": "python",
   "name": "python3"
  },
  "language_info": {
   "codemirror_mode": {
    "name": "ipython",
    "version": 3
   },
   "file_extension": ".py",
   "mimetype": "text/x-python",
   "name": "python",
   "nbconvert_exporter": "python",
   "pygments_lexer": "ipython3",
   "version": "3.8.5"
  }
 },
 "nbformat": 4,
 "nbformat_minor": 5
}
