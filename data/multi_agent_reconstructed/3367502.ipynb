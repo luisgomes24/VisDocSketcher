{
 "cells": [
  {
   "cell_type": "markdown",
   "id": "aa6a3f23",
   "metadata": {},
   "source": [
    "Load training data from a CSV file into a DataFrame."
   ]
  },
  {
   "cell_type": "code",
   "execution_count": null,
   "id": "039d18f1",
   "metadata": {},
   "outputs": [],
   "source": [
    "import pandas as pd\n",
    "train_df = pd.read_csv('train.csv')"
   ]
  },
  {
   "cell_type": "markdown",
   "id": "5c2cc702",
   "metadata": {},
   "source": [
    "Load test data from a CSV file into a DataFrame."
   ]
  },
  {
   "cell_type": "code",
   "execution_count": null,
   "id": "2f0a3b54",
   "metadata": {},
   "outputs": [],
   "source": [
    "test_df = pd.read_csv('test.csv')"
   ]
  },
  {
   "cell_type": "markdown",
   "id": "b7ad04c0",
   "metadata": {},
   "source": [
    "Extract features and target variable from the training DataFrame."
   ]
  },
  {
   "cell_type": "code",
   "execution_count": null,
   "id": "7d900c8d",
   "metadata": {},
   "outputs": [],
   "source": [
    "train_features = train_df.drop('target', axis=1)\n",
    "train_target = train_df['target']"
   ]
  },
  {
   "cell_type": "markdown",
   "id": "70118251",
   "metadata": {},
   "source": [
    "Extract features from the test DataFrame."
   ]
  },
  {
   "cell_type": "code",
   "execution_count": null,
   "id": "8cfee00e",
   "metadata": {},
   "outputs": [],
   "source": [
    "test_features = test_df.drop('target', axis=1)"
   ]
  },
  {
   "cell_type": "markdown",
   "id": "84d05f29",
   "metadata": {},
   "source": [
    "Combine features and target data into a single DataFrame for training."
   ]
  },
  {
   "cell_type": "code",
   "execution_count": null,
   "id": "8c3e66fd",
   "metadata": {},
   "outputs": [],
   "source": [
    "train_all = pd.concat([train_features, train_target], axis=1)"
   ]
  },
  {
   "cell_type": "markdown",
   "id": "adb7592a",
   "metadata": {},
   "source": [
    "Identify fake and real data from the test features."
   ]
  },
  {
   "cell_type": "code",
   "execution_count": null,
   "id": "42a2a917",
   "metadata": {},
   "outputs": [],
   "source": [
    "fake_data = identify_fake_data(test_features)\n",
    "real_data = identify_real_data(test_features)"
   ]
  },
  {
   "cell_type": "markdown",
   "id": "ed2b40cb",
   "metadata": {},
   "source": [
    "Save the indices of the fake and real data."
   ]
  },
  {
   "cell_type": "code",
   "execution_count": null,
   "id": "2ff34919",
   "metadata": {},
   "outputs": [],
   "source": [
    "index_fake_data = fake_data.index\n",
    "index_real_data = real_data.index"
   ]
  }
 ],
 "metadata": {
  "kernelspec": {
   "display_name": "Python 3",
   "language": "python",
   "name": "python3"
  },
  "language_info": {
   "codemirror_mode": {
    "name": "ipython",
    "version": 3
   },
   "file_extension": ".py",
   "mimetype": "text/x-python",
   "name": "python",
   "nbconvert_exporter": "python",
   "pygments_lexer": "ipython3",
   "version": "3.8.5"
  }
 },
 "nbformat": 4,
 "nbformat_minor": 5
}
