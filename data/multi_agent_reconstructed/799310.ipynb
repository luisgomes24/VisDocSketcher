{
 "cells": [
  {
   "cell_type": "markdown",
   "id": "d5e12f78",
   "metadata": {},
   "source": [
    "Import the pandas library and read the CSV file into a DataFrame named 'suicide_attacks'."
   ]
  },
  {
   "cell_type": "code",
   "execution_count": null,
   "id": "0b80c4bb",
   "metadata": {},
   "outputs": [],
   "source": [
    "import pandas as pd\n",
    "suicide_attacks = pd.read_csv('PakistanSuicideAttacks Ver 11 (30-November-2017).csv')"
   ]
  },
  {
   "cell_type": "markdown",
   "id": "1fccc944",
   "metadata": {},
   "source": [
    "Extract unique city names from the 'City' column and store them in the 'cities' variable."
   ]
  },
  {
   "cell_type": "code",
   "execution_count": null,
   "id": "bab3a591",
   "metadata": {},
   "outputs": [],
   "source": [
    "cities = suicide_attacks['City'].unique()"
   ]
  },
  {
   "cell_type": "markdown",
   "id": "5b97834c",
   "metadata": {},
   "source": [
    "Extract unique province names from the 'Province' column and store them in the 'provinces' variable."
   ]
  },
  {
   "cell_type": "code",
   "execution_count": null,
   "id": "9ca1a628",
   "metadata": {},
   "outputs": [],
   "source": [
    "provinces = suicide_attacks['Province'].unique()"
   ]
  },
  {
   "cell_type": "markdown",
   "id": "a3acb5c4",
   "metadata": {},
   "source": [
    "Prepare to clean the text and apply fuzzy matching to correct any inconsistencies."
   ]
  },
  {
   "cell_type": "code",
   "execution_count": null,
   "id": "09d34c4d",
   "metadata": {},
   "outputs": [],
   "source": [
    "# Text cleaning and fuzzy matching\n",
    "# Implement text processing steps here"
   ]
  }
 ],
 "metadata": {
  "kernelspec": {
   "display_name": "Python 3",
   "language": "python",
   "name": "python3"
  },
  "language_info": {
   "codemirror_mode": {
    "name": "ipython",
    "version": 3
   },
   "file_extension": ".py",
   "mimetype": "text/x-python",
   "name": "python",
   "nbconvert_exporter": "python",
   "pygments_lexer": "ipython3",
   "version": "3.8.5"
  }
 },
 "nbformat": 4,
 "nbformat_minor": 5
}
