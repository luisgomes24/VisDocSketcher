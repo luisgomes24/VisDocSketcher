{
 "cells": [
  {
   "cell_type": "markdown",
   "id": "2fcb6efd",
   "metadata": {},
   "source": [
    "Load the 'age-bias-wordparts.csv' file into a DataFrame df1."
   ]
  },
  {
   "cell_type": "code",
   "execution_count": null,
   "id": "ba43fd5f",
   "metadata": {},
   "outputs": [],
   "source": [
    "import pandas as pd\n",
    "df1 = pd.read_csv('age-bias-wordparts.csv')"
   ]
  },
  {
   "cell_type": "markdown",
   "id": "199f81a9",
   "metadata": {},
   "source": [
    "Load the 'Female-Bias-wordparts.csv' file into a DataFrame df2."
   ]
  },
  {
   "cell_type": "code",
   "execution_count": null,
   "id": "057dead3",
   "metadata": {},
   "outputs": [],
   "source": [
    "df2 = pd.read_csv('Female-Bias-wordparts.csv')"
   ]
  },
  {
   "cell_type": "markdown",
   "id": "e966ae5e",
   "metadata": {},
   "source": [
    "Load the 'job_descriptions.csv' file into a DataFrame df3."
   ]
  },
  {
   "cell_type": "code",
   "execution_count": null,
   "id": "bf5b1148",
   "metadata": {},
   "outputs": [],
   "source": [
    "df3 = pd.read_csv('job_descriptions.csv')"
   ]
  },
  {
   "cell_type": "markdown",
   "id": "1c846e21",
   "metadata": {},
   "source": [
    "Define a function to plot distributions for each column in a DataFrame."
   ]
  },
  {
   "cell_type": "code",
   "execution_count": null,
   "id": "0dc8f204",
   "metadata": {},
   "outputs": [],
   "source": [
    "def plotPerColumnDistribution(df): # plotting logic here\n",
    "    pass"
   ]
  },
  {
   "cell_type": "markdown",
   "id": "55c05510",
   "metadata": {},
   "source": [
    "Call the function to plot distributions for df1."
   ]
  },
  {
   "cell_type": "code",
   "execution_count": null,
   "id": "d33ca5cf",
   "metadata": {},
   "outputs": [],
   "source": [
    "plotPerColumnDistribution(df1)"
   ]
  },
  {
   "cell_type": "markdown",
   "id": "f5913dd8",
   "metadata": {},
   "source": [
    "Call the function to plot distributions for df2."
   ]
  },
  {
   "cell_type": "code",
   "execution_count": null,
   "id": "6ab4661a",
   "metadata": {},
   "outputs": [],
   "source": [
    "plotPerColumnDistribution(df2)"
   ]
  },
  {
   "cell_type": "markdown",
   "id": "f97b71ab",
   "metadata": {},
   "source": [
    "Call the function to plot distributions for df3."
   ]
  },
  {
   "cell_type": "code",
   "execution_count": null,
   "id": "1f62b951",
   "metadata": {},
   "outputs": [],
   "source": [
    "plotPerColumnDistribution(df3)"
   ]
  },
  {
   "cell_type": "markdown",
   "id": "a9547028",
   "metadata": {},
   "source": [
    "Display the first few rows of DataFrame df1."
   ]
  },
  {
   "cell_type": "code",
   "execution_count": null,
   "id": "d463ebfe",
   "metadata": {},
   "outputs": [],
   "source": [
    "df1.head()"
   ]
  },
  {
   "cell_type": "markdown",
   "id": "54bb50be",
   "metadata": {},
   "source": [
    "Display the first few rows of DataFrame df2."
   ]
  },
  {
   "cell_type": "code",
   "execution_count": null,
   "id": "f1705283",
   "metadata": {},
   "outputs": [],
   "source": [
    "df2.head()"
   ]
  },
  {
   "cell_type": "markdown",
   "id": "69095bf0",
   "metadata": {},
   "source": [
    "Display the first few rows of DataFrame df3."
   ]
  },
  {
   "cell_type": "code",
   "execution_count": null,
   "id": "e1570b62",
   "metadata": {},
   "outputs": [],
   "source": [
    "df3.head()"
   ]
  }
 ],
 "metadata": {
  "kernelspec": {
   "display_name": "Python 3",
   "language": "python",
   "name": "python3"
  },
  "language_info": {
   "codemirror_mode": {
    "name": "ipython",
    "version": 3
   },
   "file_extension": ".py",
   "mimetype": "text/x-python",
   "name": "python",
   "nbconvert_exporter": "python",
   "pygments_lexer": "ipython3",
   "version": "3.8.5"
  }
 },
 "nbformat": 4,
 "nbformat_minor": 5
}
