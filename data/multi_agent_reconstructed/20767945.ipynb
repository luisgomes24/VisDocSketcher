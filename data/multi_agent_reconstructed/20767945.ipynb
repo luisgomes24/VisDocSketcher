{
 "cells": [
  {
   "cell_type": "markdown",
   "id": "631b4a75",
   "metadata": {},
   "source": [
    "Load the Wine Reviews dataset into a DataFrame."
   ]
  },
  {
   "cell_type": "code",
   "execution_count": null,
   "id": "4d969c3f",
   "metadata": {},
   "outputs": [],
   "source": [
    "import pandas as pd\n",
    "wine_reviews = pd.read_csv('wine_reviews.csv')"
   ]
  },
  {
   "cell_type": "markdown",
   "id": "c87d78d0",
   "metadata": {},
   "source": [
    "Create a Fruits DataFrame by extracting relevant columns."
   ]
  },
  {
   "cell_type": "code",
   "execution_count": null,
   "id": "a0804216",
   "metadata": {},
   "outputs": [],
   "source": [
    "fruits_df = wine_reviews[['fruit', 'region', 'price']]"
   ]
  },
  {
   "cell_type": "markdown",
   "id": "23bfc4d5",
   "metadata": {},
   "source": [
    "Split the 'fruit' column into 'fruit' and 'category' columns."
   ]
  },
  {
   "cell_type": "code",
   "execution_count": null,
   "id": "d797f6dd",
   "metadata": {},
   "outputs": [],
   "source": [
    "fruits_df[['fruit', 'category']] = fruits_df['fruit'].str.split('_', expand=True)"
   ]
  },
  {
   "cell_type": "markdown",
   "id": "9371f8ab",
   "metadata": {},
   "source": [
    "Create a Fruit Sales DataFrame by summing sales for each category."
   ]
  },
  {
   "cell_type": "code",
   "execution_count": null,
   "id": "d1df6c56",
   "metadata": {},
   "outputs": [],
   "source": [
    "fruit_sales_df = fruits_df.groupby('category').sum().reset_index()"
   ]
  },
  {
   "cell_type": "markdown",
   "id": "686b367d",
   "metadata": {},
   "source": [
    "Generate a bar plot to visualize product sales by category."
   ]
  },
  {
   "cell_type": "code",
   "execution_count": null,
   "id": "48b0f5ab",
   "metadata": {},
   "outputs": [],
   "source": [
    "import matplotlib.pyplot as plt\n",
    "fruit_sales_df.plot.bar(x='category', y='sales')\n",
    "plt.title('Product Sales Bar Plot')\n",
    "plt.show()"
   ]
  },
  {
   "cell_type": "markdown",
   "id": "74abffb2",
   "metadata": {},
   "source": [
    "Create a scatter plot to show sales trends over time."
   ]
  },
  {
   "cell_type": "code",
   "execution_count": null,
   "id": "f581e09b",
   "metadata": {},
   "outputs": [],
   "source": [
    "fruit_sales_df.plot.scatter(x='time', y='sales')\n",
    "plt.title('Sales Over Time Scatter Plot')\n",
    "plt.show()"
   ]
  }
 ],
 "metadata": {
  "kernelspec": {
   "display_name": "Python 3",
   "language": "python",
   "name": "python3"
  },
  "language_info": {
   "codemirror_mode": {
    "name": "ipython",
    "version": 3
   },
   "file_extension": ".py",
   "mimetype": "text/x-python",
   "name": "python",
   "nbconvert_exporter": "python",
   "pygments_lexer": "ipython3",
   "version": "3.8.5"
  }
 },
 "nbformat": 4,
 "nbformat_minor": 5
}
