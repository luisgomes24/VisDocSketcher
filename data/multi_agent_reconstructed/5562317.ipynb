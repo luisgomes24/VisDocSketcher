{
 "cells": [
  {
   "cell_type": "markdown",
   "id": "02954706",
   "metadata": {},
   "source": [
    "Load the CSV file into a Pandas DataFrame."
   ]
  },
  {
   "cell_type": "code",
   "execution_count": null,
   "id": "d5d87c3c",
   "metadata": {},
   "outputs": [],
   "source": [
    "import pandas as pd\n",
    "df = pd.read_csv('german_credit_data.csv')"
   ]
  },
  {
   "cell_type": "markdown",
   "id": "eb4b0e1c",
   "metadata": {},
   "source": [
    "Clean the data by removing rows with missing values."
   ]
  },
  {
   "cell_type": "code",
   "execution_count": null,
   "id": "91459f1e",
   "metadata": {},
   "outputs": [],
   "source": [
    "df.dropna(inplace=True)"
   ]
  },
  {
   "cell_type": "markdown",
   "id": "d81352ac",
   "metadata": {},
   "source": [
    "Analyze the data by applying PCA to reduce the feature set."
   ]
  },
  {
   "cell_type": "code",
   "execution_count": null,
   "id": "24a3bdd7",
   "metadata": {},
   "outputs": [],
   "source": [
    "from sklearn.decomposition import PCA\n",
    "pca = PCA(n_components=5)\n",
    "principal_components = pca.fit_transform(df)"
   ]
  },
  {
   "cell_type": "markdown",
   "id": "e6b3baa6",
   "metadata": {},
   "source": [
    "Visualize the reduced features using a scatter plot."
   ]
  },
  {
   "cell_type": "code",
   "execution_count": null,
   "id": "ef39c51f",
   "metadata": {},
   "outputs": [],
   "source": [
    "import matplotlib.pyplot as plt\n",
    "plt.scatter(principal_components[:, 0], principal_components[:, 1])\n",
    "plt.title('PCA Results')\n",
    "plt.xlabel('Principal Component 1')\n",
    "plt.ylabel('Principal Component 2')\n",
    "plt.show()"
   ]
  }
 ],
 "metadata": {
  "kernelspec": {
   "display_name": "Python 3",
   "language": "python",
   "name": "python3"
  },
  "language_info": {
   "codemirror_mode": {
    "name": "ipython",
    "version": 3
   },
   "file_extension": ".py",
   "mimetype": "text/x-python",
   "name": "python",
   "nbconvert_exporter": "python",
   "pygments_lexer": "ipython3",
   "version": "3.8.5"
  }
 },
 "nbformat": 4,
 "nbformat_minor": 5
}
