{
 "cells": [
  {
   "cell_type": "markdown",
   "id": "8e03ac44",
   "metadata": {},
   "source": [
    "Read the CSV file containing museum visitor data into a DataFrame."
   ]
  },
  {
   "cell_type": "code",
   "execution_count": null,
   "id": "d140065b",
   "metadata": {},
   "outputs": [],
   "source": [
    "import pandas as pd\n",
    "museum_data = pd.read_csv('../input/museum_visitors.csv')"
   ]
  },
  {
   "cell_type": "markdown",
   "id": "710d7d55",
   "metadata": {},
   "source": [
    "Extract data for California museum visitors in July."
   ]
  },
  {
   "cell_type": "code",
   "execution_count": null,
   "id": "33836e84",
   "metadata": {},
   "outputs": [],
   "source": [
    "ca_museum_jul18 = museum_data[museum_data['location'] == 'CA'][museum_data['month'] == 'July']"
   ]
  },
  {
   "cell_type": "markdown",
   "id": "40285f7d",
   "metadata": {},
   "source": [
    "Plot line charts showing the number of visitors to the California museum in July."
   ]
  },
  {
   "cell_type": "code",
   "execution_count": null,
   "id": "684cfdb5",
   "metadata": {},
   "outputs": [],
   "source": [
    "import matplotlib.pyplot as plt\n",
    "plt.plot(ca_museum_jul18['date'], ca_museum_jul18['visitors'])\n",
    "plt.title('California Museum Visitors - July')\n",
    "plt.xlabel('Date')\n",
    "plt.ylabel('Number of Visitors')\n",
    "plt.show()"
   ]
  },
  {
   "cell_type": "markdown",
   "id": "75acd38e",
   "metadata": {},
   "source": [
    "Extract data for Avila museum visitors in October."
   ]
  },
  {
   "cell_type": "code",
   "execution_count": null,
   "id": "e79400cf",
   "metadata": {},
   "outputs": [],
   "source": [
    "avila_oct18 = museum_data[museum_data['location'] == 'Avila'][museum_data['month'] == 'October']"
   ]
  },
  {
   "cell_type": "markdown",
   "id": "009c7eaf",
   "metadata": {},
   "source": [
    "Define a function to validate that the extracted data contains no null values."
   ]
  },
  {
   "cell_type": "code",
   "execution_count": null,
   "id": "37d3c656",
   "metadata": {},
   "outputs": [],
   "source": [
    "def validate_data(data):\n",
    "    return data.notnull().all()"
   ]
  },
  {
   "cell_type": "markdown",
   "id": "16d77fd6",
   "metadata": {},
   "source": [
    "Validate the extracted datasets for California and Avila."
   ]
  },
  {
   "cell_type": "code",
   "execution_count": null,
   "id": "ae91d018",
   "metadata": {},
   "outputs": [],
   "source": [
    "valid_ca = validate_data(ca_museum_jul18)\n",
    "valid_avila = validate_data(avila_oct18)"
   ]
  },
  {
   "cell_type": "markdown",
   "id": "62a9dfa4",
   "metadata": {},
   "source": [
    "Define a function to summarize the data and answer questions regarding visitor statistics."
   ]
  },
  {
   "cell_type": "code",
   "execution_count": null,
   "id": "004e361a",
   "metadata": {},
   "outputs": [],
   "source": [
    "def answer_questions(data):\n",
    "    return data.describe()"
   ]
  },
  {
   "cell_type": "markdown",
   "id": "07ba8cf5",
   "metadata": {},
   "source": [
    "Generate summaries for both California and Avila visitor data."
   ]
  },
  {
   "cell_type": "code",
   "execution_count": null,
   "id": "fae13463",
   "metadata": {},
   "outputs": [],
   "source": [
    "summary_ca = answer_questions(ca_museum_jul18)\n",
    "summary_avila = answer_questions(avila_oct18)"
   ]
  }
 ],
 "metadata": {
  "kernelspec": {
   "display_name": "Python 3",
   "language": "python",
   "name": "python3"
  },
  "language_info": {
   "codemirror_mode": {
    "name": "ipython",
    "version": 3
   },
   "file_extension": ".py",
   "mimetype": "text/x-python",
   "name": "python",
   "nbconvert_exporter": "python",
   "pygments_lexer": "ipython3",
   "version": "3.8.5"
  }
 },
 "nbformat": 4,
 "nbformat_minor": 5
}
