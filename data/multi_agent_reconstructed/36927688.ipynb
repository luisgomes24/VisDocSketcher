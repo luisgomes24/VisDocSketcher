{
 "cells": [
  {
   "cell_type": "markdown",
   "id": "b0332c42",
   "metadata": {},
   "source": [
    "Load the dataset directory and retrieve class names from the main folder."
   ]
  },
  {
   "cell_type": "code",
   "execution_count": null,
   "id": "513b041a",
   "metadata": {},
   "outputs": [],
   "source": [
    "import os\n",
    "\n",
    "data_dir = 'path/to/intel_image_classification'\n",
    "class_name = os.listdir(data_dir)"
   ]
  },
  {
   "cell_type": "markdown",
   "id": "5682646d",
   "metadata": {},
   "source": [
    "Set up data augmentation and load training data from the specified directory."
   ]
  },
  {
   "cell_type": "code",
   "execution_count": null,
   "id": "a93347ca",
   "metadata": {},
   "outputs": [],
   "source": [
    "from tensorflow.keras.preprocessing.image import ImageDataGenerator\n",
    "\n",
    "datagen = ImageDataGenerator(rescale=1./255)\n",
    "train_data = datagen.flow_from_directory(data_dir, target_size=(150, 150), subset='training')"
   ]
  },
  {
   "cell_type": "markdown",
   "id": "791a156f",
   "metadata": {},
   "source": [
    "Load validation data using the same data generator with a specified validation subset."
   ]
  },
  {
   "cell_type": "code",
   "execution_count": null,
   "id": "ca2fc7ab",
   "metadata": {},
   "outputs": [],
   "source": [
    "val_data = datagen.flow_from_directory(data_dir, target_size=(150, 150), subset='validation')"
   ]
  },
  {
   "cell_type": "markdown",
   "id": "635d5980",
   "metadata": {},
   "source": [
    "Load test data from the directory, using the same preprocessing settings."
   ]
  },
  {
   "cell_type": "code",
   "execution_count": null,
   "id": "fce28ce6",
   "metadata": {},
   "outputs": [],
   "source": [
    "test_data = datagen.flow_from_directory(data_dir, target_size=(150, 150), subset='testing')"
   ]
  },
  {
   "cell_type": "markdown",
   "id": "3becac8b",
   "metadata": {},
   "source": [
    "Define a Sequential Convolutional Neural Network model architecture for image classification."
   ]
  },
  {
   "cell_type": "code",
   "execution_count": null,
   "id": "197ddb82",
   "metadata": {},
   "outputs": [],
   "source": [
    "from tensorflow.keras.models import Sequential\n",
    "from tensorflow.keras.layers import Conv2D, MaxPooling2D, Flatten, Dense\n",
    "\n",
    "model = Sequential()\n",
    "model.add(Conv2D(32, (3, 3), activation='relu', input_shape=(150, 150, 3)))\n",
    "model.add(MaxPooling2D(pool_size=(2, 2)))\n",
    "model.add(Flatten())\n",
    "model.add(Dense(64, activation='relu'))\n",
    "model.add(Dense(len(class_name), activation='softmax'))"
   ]
  },
  {
   "cell_type": "markdown",
   "id": "6a457129",
   "metadata": {},
   "source": [
    "Compile the model with an optimizer and loss function suited for multi-class classification."
   ]
  },
  {
   "cell_type": "code",
   "execution_count": null,
   "id": "2ae1b2bb",
   "metadata": {},
   "outputs": [],
   "source": [
    "model.compile(optimizer='adam', loss='categorical_crossentropy', metrics=['accuracy'])"
   ]
  },
  {
   "cell_type": "markdown",
   "id": "aab8ad89",
   "metadata": {},
   "source": [
    "Train the model using training and validation datasets, storing the training history."
   ]
  },
  {
   "cell_type": "code",
   "execution_count": null,
   "id": "0da5e8f1",
   "metadata": {},
   "outputs": [],
   "source": [
    "hist = model.fit(train_data, validation_data=val_data, epochs=10)"
   ]
  }
 ],
 "metadata": {
  "kernelspec": {
   "display_name": "Python 3",
   "language": "python",
   "name": "python3"
  },
  "language_info": {
   "codemirror_mode": {
    "name": "ipython",
    "version": 3
   },
   "file_extension": ".py",
   "mimetype": "text/x-python",
   "name": "python",
   "nbconvert_exporter": "python",
   "pygments_lexer": "ipython3",
   "version": "3.8.5"
  }
 },
 "nbformat": 4,
 "nbformat_minor": 5
}
