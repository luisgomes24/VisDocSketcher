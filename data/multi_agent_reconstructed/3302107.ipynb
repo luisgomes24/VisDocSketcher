{
 "cells": [
  {
   "cell_type": "markdown",
   "id": "1492ae22",
   "metadata": {},
   "source": [
    "Read the CSV file into a DataFrame named 'reviews'."
   ]
  },
  {
   "cell_type": "code",
   "execution_count": null,
   "id": "ef59ff35",
   "metadata": {},
   "outputs": [],
   "source": [
    "import pandas as pd\n",
    "reviews = pd.read_csv('winemag-data-130K-v2.csv')"
   ]
  },
  {
   "cell_type": "markdown",
   "id": "547f7bfe",
   "metadata": {},
   "source": [
    "Group by 'variety' and count the number of reviews for each."
   ]
  },
  {
   "cell_type": "code",
   "execution_count": null,
   "id": "f0540944",
   "metadata": {},
   "outputs": [],
   "source": [
    "reviews_written = reviews.groupby('variety').size()"
   ]
  },
  {
   "cell_type": "markdown",
   "id": "3273bd37",
   "metadata": {},
   "source": [
    "Find the best rating based on price by grouping and applying max function."
   ]
  },
  {
   "cell_type": "code",
   "execution_count": null,
   "id": "2eac4085",
   "metadata": {},
   "outputs": [],
   "source": [
    "best_rating_per_price = reviews.groupby('price')['points'].max()"
   ]
  },
  {
   "cell_type": "markdown",
   "id": "d5b014ae",
   "metadata": {},
   "source": [
    "Get the minimum and maximum ratings for each price by aggregating."
   ]
  },
  {
   "cell_type": "code",
   "execution_count": null,
   "id": "2cf019b2",
   "metadata": {},
   "outputs": [],
   "source": [
    "price_extremes = reviews.groupby('price')['points'].agg(['min', 'max'])"
   ]
  },
  {
   "cell_type": "markdown",
   "id": "ca81d6a4",
   "metadata": {},
   "source": [
    "Calculate the mean rating for each price by grouping."
   ]
  },
  {
   "cell_type": "code",
   "execution_count": null,
   "id": "4031b6d0",
   "metadata": {},
   "outputs": [],
   "source": [
    "reviewer_mean_ratings = reviews.groupby('price')['points'].mean()"
   ]
  },
  {
   "cell_type": "markdown",
   "id": "97e52b5a",
   "metadata": {},
   "source": [
    "Create a MultiIndex from 'country' and 'variety' to count occurrences."
   ]
  },
  {
   "cell_type": "code",
   "execution_count": null,
   "id": "d541da2d",
   "metadata": {},
   "outputs": [],
   "source": [
    "country_varieties = reviews.groupby(['country', 'variety']).size()"
   ]
  },
  {
   "cell_type": "markdown",
   "id": "d852c8bf",
   "metadata": {},
   "source": [
    "Sort the DataFrame by price for further analysis."
   ]
  },
  {
   "cell_type": "code",
   "execution_count": null,
   "id": "18dbe6c3",
   "metadata": {},
   "outputs": [],
   "source": [
    "sorted_varieties = reviews.sort_values(by='price')"
   ]
  }
 ],
 "metadata": {
  "kernelspec": {
   "display_name": "Python 3",
   "language": "python",
   "name": "python3"
  },
  "language_info": {
   "codemirror_mode": {
    "name": "ipython",
    "version": 3
   },
   "file_extension": ".py",
   "mimetype": "text/x-python",
   "name": "python",
   "nbconvert_exporter": "python",
   "pygments_lexer": "ipython3",
   "version": "3.8.5"
  }
 },
 "nbformat": 4,
 "nbformat_minor": 5
}
