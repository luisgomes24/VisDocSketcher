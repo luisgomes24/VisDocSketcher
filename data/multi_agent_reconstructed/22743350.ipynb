{
 "cells": [
  {
   "cell_type": "markdown",
   "id": "b8d3786d",
   "metadata": {},
   "source": [
    "Read the CSV file 'train.csv' into a DataFrame."
   ]
  },
  {
   "cell_type": "code",
   "execution_count": null,
   "id": "01b53314",
   "metadata": {},
   "outputs": [],
   "source": [
    "import pandas as pd\n",
    "\n",
    "data = pd.read_csv('train.csv')"
   ]
  },
  {
   "cell_type": "markdown",
   "id": "7369fa00",
   "metadata": {},
   "source": [
    "Create a copy of the original DataFrame to work with."
   ]
  },
  {
   "cell_type": "code",
   "execution_count": null,
   "id": "bc364765",
   "metadata": {},
   "outputs": [],
   "source": [
    "train_df = data.copy()"
   ]
  },
  {
   "cell_type": "markdown",
   "id": "b9d8c4dd",
   "metadata": {},
   "source": [
    "Drop the 'Id' column from the DataFrame."
   ]
  },
  {
   "cell_type": "code",
   "execution_count": null,
   "id": "9606cbd6",
   "metadata": {},
   "outputs": [],
   "source": [
    "train_df.drop(columns=['Id'], inplace=True)"
   ]
  },
  {
   "cell_type": "markdown",
   "id": "2378326c",
   "metadata": {},
   "source": [
    "Create a final DataFrame without the 'Id' column."
   ]
  },
  {
   "cell_type": "code",
   "execution_count": null,
   "id": "e5c5c364",
   "metadata": {},
   "outputs": [],
   "source": [
    "train = train_df.copy()"
   ]
  }
 ],
 "metadata": {
  "kernelspec": {
   "display_name": "Python 3",
   "language": "python",
   "name": "python3"
  },
  "language_info": {
   "codemirror_mode": {
    "name": "ipython",
    "version": 3
   },
   "file_extension": ".py",
   "mimetype": "text/x-python",
   "name": "python",
   "nbconvert_exporter": "python",
   "pygments_lexer": "ipython3",
   "version": "3.8.5"
  }
 },
 "nbformat": 4,
 "nbformat_minor": 5
}
