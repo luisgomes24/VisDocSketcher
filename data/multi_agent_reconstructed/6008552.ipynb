{
 "cells": [
  {
   "cell_type": "markdown",
   "id": "db72d7af",
   "metadata": {},
   "source": [
    "Load the CSV file 'submission.csv' and read the first 1000 rows into a DataFrame named df1."
   ]
  },
  {
   "cell_type": "code",
   "execution_count": null,
   "id": "660fefd8",
   "metadata": {},
   "outputs": [],
   "source": [
    "import pandas as pd\n",
    "\n",
    "df1 = pd.read_csv('submission.csv', nrows=1000)"
   ]
  },
  {
   "cell_type": "markdown",
   "id": "b51dd499",
   "metadata": {},
   "source": [
    "Define a function to plot histograms for each column in the DataFrame."
   ]
  },
  {
   "cell_type": "code",
   "execution_count": null,
   "id": "8f83ae8a",
   "metadata": {},
   "outputs": [],
   "source": [
    "def plotPerColumnDistribution(df):\n",
    "    df.hist()\n",
    "    plt.show()"
   ]
  },
  {
   "cell_type": "markdown",
   "id": "d36b42ca",
   "metadata": {},
   "source": [
    "Define a function to plot a correlation matrix using a heatmap from the DataFrame."
   ]
  },
  {
   "cell_type": "code",
   "execution_count": null,
   "id": "cbfe9b1a",
   "metadata": {},
   "outputs": [],
   "source": [
    "def plotCorrelationMatrix(df):\n",
    "    import seaborn as sns\n",
    "    correlation = df.corr()\n",
    "    sns.heatmap(correlation, annot=True)\n",
    "    plt.show()"
   ]
  },
  {
   "cell_type": "markdown",
   "id": "2f8540ea",
   "metadata": {},
   "source": [
    "Define a function to create a scatter matrix of the DataFrame for visualizing pairwise relationships."
   ]
  },
  {
   "cell_type": "code",
   "execution_count": null,
   "id": "2db2e488",
   "metadata": {},
   "outputs": [],
   "source": [
    "def plotScatterMatrix(df):\n",
    "    pd.plotting.scatter_matrix(df)\n",
    "    plt.show()"
   ]
  }
 ],
 "metadata": {
  "kernelspec": {
   "display_name": "Python 3",
   "language": "python",
   "name": "python3"
  },
  "language_info": {
   "codemirror_mode": {
    "name": "ipython",
    "version": 3
   },
   "file_extension": ".py",
   "mimetype": "text/x-python",
   "name": "python",
   "nbconvert_exporter": "python",
   "pygments_lexer": "ipython3",
   "version": "3.8.5"
  }
 },
 "nbformat": 4,
 "nbformat_minor": 5
}
