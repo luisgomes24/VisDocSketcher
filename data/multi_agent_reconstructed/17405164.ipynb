{
 "cells": [
  {
   "cell_type": "markdown",
   "id": "e3393d4d",
   "metadata": {},
   "source": [
    "Load the test and train datasets from CSV files."
   ]
  },
  {
   "cell_type": "code",
   "execution_count": null,
   "id": "c8b0ad9d",
   "metadata": {},
   "outputs": [],
   "source": [
    "import pandas as pd\n",
    "\n",
    "test_data = pd.read_csv('test.csv')\n",
    "train_data = pd.read_csv('train.csv')"
   ]
  },
  {
   "cell_type": "markdown",
   "id": "4c3aa841",
   "metadata": {},
   "source": [
    "Select relevant features from the test data."
   ]
  },
  {
   "cell_type": "code",
   "execution_count": null,
   "id": "22ee5123",
   "metadata": {},
   "outputs": [],
   "source": [
    "x_test = test_data[['Pclass', 'Sex', 'SibSp', 'Parch']]"
   ]
  },
  {
   "cell_type": "markdown",
   "id": "5eb89973",
   "metadata": {},
   "source": [
    "Select features and target variable from the training data."
   ]
  },
  {
   "cell_type": "code",
   "execution_count": null,
   "id": "44f91f53",
   "metadata": {},
   "outputs": [],
   "source": [
    "x_train = train_data[['Pclass', 'Sex', 'SibSp', 'Parch']]\n",
    "y_train = train_data['target']"
   ]
  },
  {
   "cell_type": "markdown",
   "id": "5bdcc486",
   "metadata": {},
   "source": [
    "Initialize and train the Random Forest model."
   ]
  },
  {
   "cell_type": "code",
   "execution_count": null,
   "id": "df43b7b0",
   "metadata": {},
   "outputs": [],
   "source": [
    "from sklearn.ensemble import RandomForestClassifier\n",
    "\n",
    "model = RandomForestClassifier(max_depth=7, n_estimators=20)\n",
    "model.fit(x_train, y_train)"
   ]
  },
  {
   "cell_type": "markdown",
   "id": "56cde5d0",
   "metadata": {},
   "source": [
    "Make predictions on the test data using the trained model."
   ]
  },
  {
   "cell_type": "code",
   "execution_count": null,
   "id": "12ae5b28",
   "metadata": {},
   "outputs": [],
   "source": [
    "predictions = model.predict(x_test)"
   ]
  },
  {
   "cell_type": "markdown",
   "id": "85017138",
   "metadata": {},
   "source": [
    "Save the predictions to a CSV file."
   ]
  },
  {
   "cell_type": "code",
   "execution_count": null,
   "id": "e41b8a00",
   "metadata": {},
   "outputs": [],
   "source": [
    "output = pd.DataFrame({'Predictions': predictions})\n",
    "output.to_csv('my_submission.csv', index=False)"
   ]
  }
 ],
 "metadata": {
  "kernelspec": {
   "display_name": "Python 3",
   "language": "python",
   "name": "python3"
  },
  "language_info": {
   "codemirror_mode": {
    "name": "ipython",
    "version": 3
   },
   "file_extension": ".py",
   "mimetype": "text/x-python",
   "name": "python",
   "nbconvert_exporter": "python",
   "pygments_lexer": "ipython3",
   "version": "3.8.5"
  }
 },
 "nbformat": 4,
 "nbformat_minor": 5
}
