{
 "cells": [
  {
   "cell_type": "markdown",
   "id": "e4af3d86",
   "metadata": {},
   "source": [
    "Load the training data from CSV into a DataFrame."
   ]
  },
  {
   "cell_type": "code",
   "execution_count": null,
   "id": "bd0f0b68",
   "metadata": {},
   "outputs": [],
   "source": [
    "import pandas as pd\n",
    "train_df = pd.read_csv('UNSW_NB15_training-set.csv')"
   ]
  },
  {
   "cell_type": "markdown",
   "id": "cbc42be3",
   "metadata": {},
   "source": [
    "Load the testing data from CSV into a DataFrame."
   ]
  },
  {
   "cell_type": "code",
   "execution_count": null,
   "id": "0ff0936b",
   "metadata": {},
   "outputs": [],
   "source": [
    "test_df = pd.read_csv('UNSW_NB15_testing-set.csv')"
   ]
  },
  {
   "cell_type": "markdown",
   "id": "8caeb9f2",
   "metadata": {},
   "source": [
    "Extract features and labels from the training data."
   ]
  },
  {
   "cell_type": "code",
   "execution_count": null,
   "id": "90b2a3cd",
   "metadata": {},
   "outputs": [],
   "source": [
    "x_train = train_df.drop('label', axis=1)\n",
    "y_train = train_df['label']"
   ]
  },
  {
   "cell_type": "markdown",
   "id": "a4dbb571",
   "metadata": {},
   "source": [
    "Extract features and labels from the testing data."
   ]
  },
  {
   "cell_type": "code",
   "execution_count": null,
   "id": "ad4d1c6d",
   "metadata": {},
   "outputs": [],
   "source": [
    "x_test = test_df.drop('label', axis=1)\n",
    "y_test = test_df['label']"
   ]
  },
  {
   "cell_type": "markdown",
   "id": "13157a52",
   "metadata": {},
   "source": [
    "Scale non-categorical features in the training data."
   ]
  },
  {
   "cell_type": "code",
   "execution_count": null,
   "id": "9b89e99e",
   "metadata": {},
   "outputs": [],
   "source": [
    "from sklearn.preprocessing import StandardScaler\n",
    "scaler = StandardScaler()\n",
    "scaled_x_train = scaler.fit_transform(x_train)"
   ]
  },
  {
   "cell_type": "markdown",
   "id": "d89c8fa1",
   "metadata": {},
   "source": [
    "Scale non-categorical features in the testing data."
   ]
  },
  {
   "cell_type": "code",
   "execution_count": null,
   "id": "b087c9f4",
   "metadata": {},
   "outputs": [],
   "source": [
    "scaled_x_test = scaler.transform(x_test)"
   ]
  },
  {
   "cell_type": "markdown",
   "id": "91885774",
   "metadata": {},
   "source": [
    "Convert categorical variables into dummy/indicator variables in the training data."
   ]
  },
  {
   "cell_type": "code",
   "execution_count": null,
   "id": "bd7043a2",
   "metadata": {},
   "outputs": [],
   "source": [
    "import pandas as pd\n",
    "dummy_encoded_x_train = pd.get_dummies(scaled_x_train)"
   ]
  },
  {
   "cell_type": "markdown",
   "id": "95d474ed",
   "metadata": {},
   "source": [
    "Convert categorical variables into dummy/indicator variables in the testing data."
   ]
  },
  {
   "cell_type": "code",
   "execution_count": null,
   "id": "14d6f632",
   "metadata": {},
   "outputs": [],
   "source": [
    "dummy_encoded_x_test = pd.get_dummies(scaled_x_test)"
   ]
  },
  {
   "cell_type": "markdown",
   "id": "9b734435",
   "metadata": {},
   "source": [
    "Filter features in the training data to be consistent with the testing data."
   ]
  },
  {
   "cell_type": "code",
   "execution_count": null,
   "id": "dd7033b6",
   "metadata": {},
   "outputs": [],
   "source": [
    "consistent_x_train = dummy_encoded_x_train.iloc[:, :dummy_encoded_x_test.shape[1]]"
   ]
  },
  {
   "cell_type": "markdown",
   "id": "840ef006",
   "metadata": {},
   "source": [
    "Filter features in the testing data to be consistent with the training data."
   ]
  },
  {
   "cell_type": "code",
   "execution_count": null,
   "id": "9ba6b8ae",
   "metadata": {},
   "outputs": [],
   "source": [
    "consistent_x_test = dummy_encoded_x_test.iloc[:, :dummy_encoded_x_train.shape[1]]"
   ]
  },
  {
   "cell_type": "markdown",
   "id": "240655db",
   "metadata": {},
   "source": [
    "Save the processed training data as a CSV file."
   ]
  },
  {
   "cell_type": "code",
   "execution_count": null,
   "id": "7fa3db41",
   "metadata": {},
   "outputs": [],
   "source": [
    "pd.DataFrame(consistent_x_train).to_csv('train.csv', index=False)"
   ]
  },
  {
   "cell_type": "markdown",
   "id": "f89b53b7",
   "metadata": {},
   "source": [
    "Save the processed testing data as a CSV file."
   ]
  },
  {
   "cell_type": "code",
   "execution_count": null,
   "id": "4b7ac002",
   "metadata": {},
   "outputs": [],
   "source": [
    "pd.DataFrame(consistent_x_test).to_csv('test.csv', index=False)"
   ]
  }
 ],
 "metadata": {
  "kernelspec": {
   "display_name": "Python 3",
   "language": "python",
   "name": "python3"
  },
  "language_info": {
   "codemirror_mode": {
    "name": "ipython",
    "version": 3
   },
   "file_extension": ".py",
   "mimetype": "text/x-python",
   "name": "python",
   "nbconvert_exporter": "python",
   "pygments_lexer": "ipython3",
   "version": "3.8.5"
  }
 },
 "nbformat": 4,
 "nbformat_minor": 5
}
