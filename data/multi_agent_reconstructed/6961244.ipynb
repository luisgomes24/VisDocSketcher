{
 "cells": [
  {
   "cell_type": "markdown",
   "id": "604a1f8d",
   "metadata": {},
   "source": [
    "Import the pandas library to handle data manipulation and analysis."
   ]
  },
  {
   "cell_type": "code",
   "execution_count": null,
   "id": "a99a8140",
   "metadata": {},
   "outputs": [],
   "source": [
    "import pandas as pd"
   ]
  },
  {
   "cell_type": "markdown",
   "id": "2baeff80",
   "metadata": {},
   "source": [
    "Read the wine quality data from a CSV file and store it in a DataFrame named df1."
   ]
  },
  {
   "cell_type": "code",
   "execution_count": null,
   "id": "b9274fe2",
   "metadata": {},
   "outputs": [],
   "source": [
    "df1 = pd.read_csv('wine_quality_data.csv')"
   ]
  }
 ],
 "metadata": {
  "kernelspec": {
   "display_name": "Python 3",
   "language": "python",
   "name": "python3"
  },
  "language_info": {
   "codemirror_mode": {
    "name": "ipython",
    "version": 3
   },
   "file_extension": ".py",
   "mimetype": "text/x-python",
   "name": "python",
   "nbconvert_exporter": "python",
   "pygments_lexer": "ipython3",
   "version": "3.8.5"
  }
 },
 "nbformat": 4,
 "nbformat_minor": 5
}
