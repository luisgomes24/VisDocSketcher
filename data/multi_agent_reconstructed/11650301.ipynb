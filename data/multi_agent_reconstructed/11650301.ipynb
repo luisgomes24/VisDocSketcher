{
 "cells": [
  {
   "cell_type": "markdown",
   "id": "d1a8273a",
   "metadata": {},
   "source": [
    "Load the leads data from a CSV file into a DataFrame called df1."
   ]
  },
  {
   "cell_type": "code",
   "execution_count": null,
   "id": "dcdda8ae",
   "metadata": {},
   "outputs": [],
   "source": [
    "import pandas as pd\n",
    "df1 = pd.read_csv('leads_data.csv')"
   ]
  },
  {
   "cell_type": "markdown",
   "id": "a6659212",
   "metadata": {},
   "source": [
    "Select the top 10 features from df1 using the SelectKBest method."
   ]
  },
  {
   "cell_type": "code",
   "execution_count": null,
   "id": "a78c9e3c",
   "metadata": {},
   "outputs": [],
   "source": [
    "from sklearn.feature_selection import SelectKBest, f_classif\n",
    "selector = SelectKBest(score_func=f_classif, k=10)\n",
    "X_selected = selector.fit_transform(df1.iloc[:, :-1], df1.iloc[:, -1])"
   ]
  },
  {
   "cell_type": "markdown",
   "id": "ae5a1219",
   "metadata": {},
   "source": [
    "Split the selected features and target variable into training and testing sets."
   ]
  },
  {
   "cell_type": "code",
   "execution_count": null,
   "id": "6e0bf406",
   "metadata": {},
   "outputs": [],
   "source": [
    "from sklearn.model_selection import train_test_split\n",
    "X_train, X_test, y_train, y_test = train_test_split(X_selected, df1.iloc[:, -1], test_size=0.2, random_state=42)"
   ]
  }
 ],
 "metadata": {
  "kernelspec": {
   "display_name": "Python 3",
   "language": "python",
   "name": "python3"
  },
  "language_info": {
   "codemirror_mode": {
    "name": "ipython",
    "version": 3
   },
   "file_extension": ".py",
   "mimetype": "text/x-python",
   "name": "python",
   "nbconvert_exporter": "python",
   "pygments_lexer": "ipython3",
   "version": "3.8.5"
  }
 },
 "nbformat": 4,
 "nbformat_minor": 5
}
