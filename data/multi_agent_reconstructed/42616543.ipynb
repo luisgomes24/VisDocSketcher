{
 "cells": [
  {
   "cell_type": "markdown",
   "id": "8452a20f",
   "metadata": {},
   "source": [
    "Load the Kaggle URLs from a text file for further processing."
   ]
  },
  {
   "cell_type": "code",
   "execution_count": null,
   "id": "25ecdd98",
   "metadata": {},
   "outputs": [],
   "source": [
    "import pandas as pd\n",
    "import requests\n",
    "\n",
    "# Load Kaggle URLs from a text file\n",
    "with open('kaggle_urls.txt') as f:\n",
    "    urls = f.read().splitlines()"
   ]
  },
  {
   "cell_type": "markdown",
   "id": "3b0501a3",
   "metadata": {},
   "source": [
    "Collect response times by sending requests to each Kaggle URL."
   ]
  },
  {
   "cell_type": "code",
   "execution_count": null,
   "id": "3885e6fb",
   "metadata": {},
   "outputs": [],
   "source": [
    "response_times = []\n",
    "for url in urls:\n",
    "    response = requests.get(url)\n",
    "    response_times.append(response.elapsed.total_seconds())"
   ]
  },
  {
   "cell_type": "markdown",
   "id": "46e8b47e",
   "metadata": {},
   "source": [
    "Parse the response times to round them for easier analysis."
   ]
  },
  {
   "cell_type": "code",
   "execution_count": null,
   "id": "7d49462d",
   "metadata": {},
   "outputs": [],
   "source": [
    "parsed_times = [round(time, 2) for time in response_times]"
   ]
  },
  {
   "cell_type": "markdown",
   "id": "77d9b943",
   "metadata": {},
   "source": [
    "Create a DataFrame from the parsed response times."
   ]
  },
  {
   "cell_type": "code",
   "execution_count": null,
   "id": "77f9c818",
   "metadata": {},
   "outputs": [],
   "source": [
    "df = pd.DataFrame(parsed_times, columns=['Response Time'])"
   ]
  },
  {
   "cell_type": "markdown",
   "id": "1bf4b6e7",
   "metadata": {},
   "source": [
    "Generate and display a histogram to visualize response time distribution."
   ]
  },
  {
   "cell_type": "code",
   "execution_count": null,
   "id": "22517655",
   "metadata": {},
   "outputs": [],
   "source": [
    "import matplotlib.pyplot as plt\n",
    "\n",
    "plt.hist(df['Response Time'], bins=10, color='yellow', edgecolor='black')\n",
    "plt.title('Histogram of Response Times')\n",
    "plt.xlabel('Value Range')\n",
    "plt.ylabel('Frequency')\n",
    "plt.show()"
   ]
  },
  {
   "cell_type": "markdown",
   "id": "52b1809f",
   "metadata": {},
   "source": [
    "Create and display a boxplot to analyze response time statistics."
   ]
  },
  {
   "cell_type": "code",
   "execution_count": null,
   "id": "e2d1c572",
   "metadata": {},
   "outputs": [],
   "source": [
    "plt.boxplot(df['Response Time'], labels=['Response Times'])\n",
    "plt.title('Boxplot of Response Times')\n",
    "plt.ylabel('Value')\n",
    "plt.show()"
   ]
  }
 ],
 "metadata": {
  "kernelspec": {
   "display_name": "Python 3",
   "language": "python",
   "name": "python3"
  },
  "language_info": {
   "codemirror_mode": {
    "name": "ipython",
    "version": 3
   },
   "file_extension": ".py",
   "mimetype": "text/x-python",
   "name": "python",
   "nbconvert_exporter": "python",
   "pygments_lexer": "ipython3",
   "version": "3.8.5"
  }
 },
 "nbformat": 4,
 "nbformat_minor": 5
}
