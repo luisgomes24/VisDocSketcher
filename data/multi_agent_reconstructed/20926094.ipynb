{
 "cells": [
  {
   "cell_type": "markdown",
   "id": "a3a7ef2f",
   "metadata": {},
   "source": [
    "Import the pandas library for data manipulation."
   ]
  },
  {
   "cell_type": "code",
   "execution_count": null,
   "id": "ebc76f3f",
   "metadata": {},
   "outputs": [],
   "source": [
    "import pandas as pd"
   ]
  },
  {
   "cell_type": "markdown",
   "id": "f58b45fc",
   "metadata": {},
   "source": [
    "Read the CSV file into a pandas DataFrame named 'pima'."
   ]
  },
  {
   "cell_type": "code",
   "execution_count": null,
   "id": "771d16e6",
   "metadata": {},
   "outputs": [],
   "source": [
    "pima = pd.read_csv('datasets_228_482_diabetes.csv')"
   ]
  }
 ],
 "metadata": {
  "kernelspec": {
   "display_name": "Python 3",
   "language": "python",
   "name": "python3"
  },
  "language_info": {
   "codemirror_mode": {
    "name": "ipython",
    "version": 3
   },
   "file_extension": ".py",
   "mimetype": "text/x-python",
   "name": "python",
   "nbconvert_exporter": "python",
   "pygments_lexer": "ipython3",
   "version": "3.8.5"
  }
 },
 "nbformat": 4,
 "nbformat_minor": 5
}
