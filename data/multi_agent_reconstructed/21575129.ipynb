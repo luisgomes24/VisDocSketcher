{
 "cells": [
  {
   "cell_type": "markdown",
   "id": "a853f7dd",
   "metadata": {},
   "source": [
    "This imports the Pandas library, which is essential for data manipulation."
   ]
  },
  {
   "cell_type": "code",
   "execution_count": null,
   "id": "9b1d4c34",
   "metadata": {},
   "outputs": [],
   "source": [
    "import pandas as pd"
   ]
  },
  {
   "cell_type": "markdown",
   "id": "242d6c62",
   "metadata": {},
   "source": [
    "Loads the NBA players data from a CSV file into a DataFrame."
   ]
  },
  {
   "cell_type": "code",
   "execution_count": null,
   "id": "d2813575",
   "metadata": {},
   "outputs": [],
   "source": [
    "nba_data = pd.read_csv('nba_players.csv')"
   ]
  },
  {
   "cell_type": "markdown",
   "id": "5eb1343e",
   "metadata": {},
   "source": [
    "Cleans the data by removing any rows with missing values."
   ]
  },
  {
   "cell_type": "code",
   "execution_count": null,
   "id": "0772fd44",
   "metadata": {},
   "outputs": [],
   "source": [
    "nba_data.dropna(inplace=True)"
   ]
  },
  {
   "cell_type": "markdown",
   "id": "3dafde4c",
   "metadata": {},
   "source": [
    "Splits the dataset into training and testing sets, with 20% for testing."
   ]
  },
  {
   "cell_type": "code",
   "execution_count": null,
   "id": "fad073cb",
   "metadata": {},
   "outputs": [],
   "source": [
    "from sklearn.model_selection import train_test_split\n",
    "X = nba_data.drop('target_column', axis=1)\n",
    "y = nba_data['target_column']\n",
    "X_train, X_test, y_train, y_test = train_test_split(X, y, test_size=0.2)"
   ]
  },
  {
   "cell_type": "markdown",
   "id": "01052c8d",
   "metadata": {},
   "source": [
    "Trains a linear regression model using the training data."
   ]
  },
  {
   "cell_type": "code",
   "execution_count": null,
   "id": "d066872c",
   "metadata": {},
   "outputs": [],
   "source": [
    "from sklearn.linear_model import LinearRegression\n",
    "model = LinearRegression()\n",
    "model.fit(X_train, y_train)"
   ]
  },
  {
   "cell_type": "markdown",
   "id": "bf28ee29",
   "metadata": {},
   "source": [
    "Makes predictions on the test set using the trained model."
   ]
  },
  {
   "cell_type": "code",
   "execution_count": null,
   "id": "63ce964e",
   "metadata": {},
   "outputs": [],
   "source": [
    "predictions = model.predict(X_test)"
   ]
  },
  {
   "cell_type": "markdown",
   "id": "43a622fb",
   "metadata": {},
   "source": [
    "Visualizes the actual vs predicted values using a scatter plot."
   ]
  },
  {
   "cell_type": "code",
   "execution_count": null,
   "id": "317d479a",
   "metadata": {},
   "outputs": [],
   "source": [
    "import matplotlib.pyplot as plt\n",
    "plt.scatter(y_test, predictions)\n",
    "plt.xlabel('Actual'); plt.ylabel('Predicted'); plt.title('Actual vs Predicted')\n",
    "plt.show()"
   ]
  }
 ],
 "metadata": {
  "kernelspec": {
   "display_name": "Python 3",
   "language": "python",
   "name": "python3"
  },
  "language_info": {
   "codemirror_mode": {
    "name": "ipython",
    "version": 3
   },
   "file_extension": ".py",
   "mimetype": "text/x-python",
   "name": "python",
   "nbconvert_exporter": "python",
   "pygments_lexer": "ipython3",
   "version": "3.8.5"
  }
 },
 "nbformat": 4,
 "nbformat_minor": 5
}
