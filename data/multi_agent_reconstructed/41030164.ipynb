{
 "cells": [
  {
   "cell_type": "markdown",
   "id": "f6b96daf",
   "metadata": {},
   "source": [
    "Read the CSV file 'leaderboard.csv' into a DataFrame."
   ]
  },
  {
   "cell_type": "code",
   "execution_count": null,
   "id": "b10ea607",
   "metadata": {},
   "outputs": [],
   "source": [
    "import pandas as pd\n",
    "leaderboard_df = pd.read_csv('leaderboard.csv')"
   ]
  },
  {
   "cell_type": "markdown",
   "id": "94ab502d",
   "metadata": {},
   "source": [
    "Save the DataFrame as a new CSV file named 'full_leaderboard.csv'."
   ]
  },
  {
   "cell_type": "code",
   "execution_count": null,
   "id": "a83cb04a",
   "metadata": {},
   "outputs": [],
   "source": [
    "leaderboard_df.to_csv('full_leaderboard.csv', index=False)"
   ]
  }
 ],
 "metadata": {
  "kernelspec": {
   "display_name": "Python 3",
   "language": "python",
   "name": "python3"
  },
  "language_info": {
   "codemirror_mode": {
    "name": "ipython",
    "version": 3
   },
   "file_extension": ".py",
   "mimetype": "text/x-python",
   "name": "python",
   "nbconvert_exporter": "python",
   "pygments_lexer": "ipython3",
   "version": "3.8.5"
  }
 },
 "nbformat": 4,
 "nbformat_minor": 5
}
