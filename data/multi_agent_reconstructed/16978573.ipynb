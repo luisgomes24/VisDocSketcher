{
 "cells": [
  {
   "cell_type": "markdown",
   "id": "85adb593",
   "metadata": {},
   "source": [
    "Import necessary libraries and define paths for vehicle and non-vehicle image datasets, then create an empty DataFrame."
   ]
  },
  {
   "cell_type": "code",
   "execution_count": null,
   "id": "e998d04b",
   "metadata": {},
   "outputs": [],
   "source": [
    "import pandas as pd\n",
    "\n",
    "vehicles_path = '../input/vehicle-detection-image-set/data/vehicles/*'\n",
    "non_vehicles_path = '../input/vehicle-detection-image-set/data/non-vehicles/*'\n",
    "df = pd.DataFrame()"
   ]
  },
  {
   "cell_type": "markdown",
   "id": "63a709e7",
   "metadata": {},
   "source": [
    "Split the DataFrame into train and test datasets, using 80% for training."
   ]
  },
  {
   "cell_type": "code",
   "execution_count": null,
   "id": "400f7635",
   "metadata": {},
   "outputs": [],
   "source": [
    "train_df = df.sample(frac=0.8, random_state=42)\n",
    "test_df = df.drop(train_df.index)"
   ]
  },
  {
   "cell_type": "markdown",
   "id": "22b191c3",
   "metadata": {},
   "source": [
    "Convert training and testing image and label data into NumPy arrays."
   ]
  },
  {
   "cell_type": "code",
   "execution_count": null,
   "id": "2a44f1fe",
   "metadata": {},
   "outputs": [],
   "source": [
    "train_img = train_df['image'].values\n",
    "train_label = train_df['label'].values\n",
    "test_img = test_df['image'].values\n",
    "test_label = test_df['label'].values"
   ]
  },
  {
   "cell_type": "markdown",
   "id": "a0532f9c",
   "metadata": {},
   "source": [
    "Construct a Sequential model for the Convolutional Neural Network."
   ]
  },
  {
   "cell_type": "code",
   "execution_count": null,
   "id": "9fd284ba",
   "metadata": {},
   "outputs": [],
   "source": [
    "from keras.models import Sequential\n",
    "from keras.layers import Conv2D, MaxPooling2D, Flatten, Dense\n",
    "\n",
    "model = Sequential()"
   ]
  },
  {
   "cell_type": "markdown",
   "id": "59121473",
   "metadata": {},
   "source": [
    "Add convolutional and max pooling layers to the model."
   ]
  },
  {
   "cell_type": "code",
   "execution_count": null,
   "id": "18b979da",
   "metadata": {},
   "outputs": [],
   "source": [
    "model.add(Conv2D(32, (3, 3), activation='relu', input_shape=(image_height, image_width, num_channels)))\n",
    "model.add(MaxPooling2D(pool_size=(2, 2)))"
   ]
  },
  {
   "cell_type": "markdown",
   "id": "d2de0f03",
   "metadata": {},
   "source": [
    "Flatten the output and add dense layers for classification."
   ]
  },
  {
   "cell_type": "code",
   "execution_count": null,
   "id": "f8d8d48a",
   "metadata": {},
   "outputs": [],
   "source": [
    "model.add(Flatten())\n",
    "model.add(Dense(64, activation='relu'))\n",
    "model.add(Dense(num_classes, activation='softmax'))"
   ]
  },
  {
   "cell_type": "markdown",
   "id": "9d5ed559",
   "metadata": {},
   "source": [
    "Compile the model with an optimizer, loss function, and metrics for evaluation."
   ]
  },
  {
   "cell_type": "code",
   "execution_count": null,
   "id": "58ec02b5",
   "metadata": {},
   "outputs": [],
   "source": [
    "model.compile(optimizer='adam', loss='sparse_categorical_crossentropy', metrics=['accuracy'])"
   ]
  },
  {
   "cell_type": "markdown",
   "id": "3f1f80b5",
   "metadata": {},
   "source": [
    "Train the model using the training data with validation on the test data."
   ]
  },
  {
   "cell_type": "code",
   "execution_count": null,
   "id": "34da98bb",
   "metadata": {},
   "outputs": [],
   "source": [
    "model.fit(train_img, train_label, epochs=10, validation_data=(test_img, test_label))"
   ]
  },
  {
   "cell_type": "markdown",
   "id": "88f14b34",
   "metadata": {},
   "source": [
    "Make predictions on the testing images using the trained model."
   ]
  },
  {
   "cell_type": "code",
   "execution_count": null,
   "id": "12166f18",
   "metadata": {},
   "outputs": [],
   "source": [
    "predictions = model.predict(test_img)"
   ]
  }
 ],
 "metadata": {
  "kernelspec": {
   "display_name": "Python 3",
   "language": "python",
   "name": "python3"
  },
  "language_info": {
   "codemirror_mode": {
    "name": "ipython",
    "version": 3
   },
   "file_extension": ".py",
   "mimetype": "text/x-python",
   "name": "python",
   "nbconvert_exporter": "python",
   "pygments_lexer": "ipython3",
   "version": "3.8.5"
  }
 },
 "nbformat": 4,
 "nbformat_minor": 5
}
