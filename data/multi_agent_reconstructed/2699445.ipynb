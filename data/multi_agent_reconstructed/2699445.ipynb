{
 "cells": [
  {
   "cell_type": "markdown",
   "id": "e4f1ff67",
   "metadata": {},
   "source": [
    "Import pandas and read the CSV file into a DataFrame named kickstarters_2017."
   ]
  },
  {
   "cell_type": "code",
   "execution_count": null,
   "id": "fb10bebb",
   "metadata": {},
   "outputs": [],
   "source": [
    "import pandas as pd\n",
    "kickstarters_2017 = pd.read_csv('ks-projects-201801.csv')"
   ]
  },
  {
   "cell_type": "markdown",
   "id": "58aba58d",
   "metadata": {},
   "source": [
    "Extract the 'usd_goal_real' column from the DataFrame and assign it to the variable usd_goal."
   ]
  },
  {
   "cell_type": "code",
   "execution_count": null,
   "id": "29e59369",
   "metadata": {},
   "outputs": [],
   "source": [
    "usd_goal = kickstarters_2017['usd_goal_real']"
   ]
  }
 ],
 "metadata": {
  "kernelspec": {
   "display_name": "Python 3",
   "language": "python",
   "name": "python3"
  },
  "language_info": {
   "codemirror_mode": {
    "name": "ipython",
    "version": 3
   },
   "file_extension": ".py",
   "mimetype": "text/x-python",
   "name": "python",
   "nbconvert_exporter": "python",
   "pygments_lexer": "ipython3",
   "version": "3.8.5"
  }
 },
 "nbformat": 4,
 "nbformat_minor": 5
}
