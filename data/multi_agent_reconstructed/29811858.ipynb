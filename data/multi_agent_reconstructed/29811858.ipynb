{
 "cells": [
  {
   "cell_type": "markdown",
   "id": "eccfd8fd",
   "metadata": {},
   "source": [
    "Load data from the 'sample_commits' table in BigQuery."
   ]
  },
  {
   "cell_type": "code",
   "execution_count": null,
   "id": "09873df5",
   "metadata": {},
   "outputs": [],
   "source": [
    "import pandas as pd\n",
    "\n",
    "db_url = 'bigquery-public-data.github_repos'\n",
    "\n",
    "sample_commits_df = pd.read_gbq(f'select * from `{db_url}.sample_commits`')"
   ]
  },
  {
   "cell_type": "markdown",
   "id": "49cd7da2",
   "metadata": {},
   "source": [
    "Store the sample commits data in 'sample_commits_table'."
   ]
  },
  {
   "cell_type": "code",
   "execution_count": null,
   "id": "2ec8ac0f",
   "metadata": {},
   "outputs": [],
   "source": [
    "sample_commits_table = sample_commits_df"
   ]
  },
  {
   "cell_type": "markdown",
   "id": "69ab9e93",
   "metadata": {},
   "source": [
    "Query the maximum number of commits from the 'sample_commits_table'."
   ]
  },
  {
   "cell_type": "code",
   "execution_count": null,
   "id": "6ed7f17b",
   "metadata": {},
   "outputs": [],
   "source": [
    "max_commits_query = sample_commits_table['commits'].max()"
   ]
  },
  {
   "cell_type": "markdown",
   "id": "69654bf1",
   "metadata": {},
   "source": [
    "Load data from the 'languages' table in BigQuery."
   ]
  },
  {
   "cell_type": "code",
   "execution_count": null,
   "id": "0fb0befb",
   "metadata": {},
   "outputs": [],
   "source": [
    "languages_df = pd.read_gbq(f'select * from `{db_url}.languages`')"
   ]
  },
  {
   "cell_type": "markdown",
   "id": "ecd8249c",
   "metadata": {},
   "source": [
    "Store the languages data in 'languages_table'."
   ]
  },
  {
   "cell_type": "code",
   "execution_count": null,
   "id": "b5f4b68e",
   "metadata": {},
   "outputs": [],
   "source": [
    "languages_table = languages_df"
   ]
  },
  {
   "cell_type": "markdown",
   "id": "52d6fcc2",
   "metadata": {},
   "source": [
    "Query the most popular programming language from 'languages_table'."
   ]
  },
  {
   "cell_type": "code",
   "execution_count": null,
   "id": "12402fd2",
   "metadata": {},
   "outputs": [],
   "source": [
    "pop_lang_query = languages_table['language'].value_counts().idxmax()"
   ]
  },
  {
   "cell_type": "markdown",
   "id": "f89a8f75",
   "metadata": {},
   "source": [
    "Query all unique programming languages from 'languages_table'."
   ]
  },
  {
   "cell_type": "code",
   "execution_count": null,
   "id": "f667ee79",
   "metadata": {},
   "outputs": [],
   "source": [
    "all_langs_query = languages_table['language'].unique()"
   ]
  }
 ],
 "metadata": {
  "kernelspec": {
   "display_name": "Python 3",
   "language": "python",
   "name": "python3"
  },
  "language_info": {
   "codemirror_mode": {
    "name": "ipython",
    "version": 3
   },
   "file_extension": ".py",
   "mimetype": "text/x-python",
   "name": "python",
   "nbconvert_exporter": "python",
   "pygments_lexer": "ipython3",
   "version": "3.8.5"
  }
 },
 "nbformat": 4,
 "nbformat_minor": 5
}
