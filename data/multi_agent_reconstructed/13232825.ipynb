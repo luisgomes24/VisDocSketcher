{
 "cells": [
  {
   "cell_type": "markdown",
   "id": "f8676678",
   "metadata": {},
   "source": [
    "Import necessary libraries including pandas for data manipulation and TensorFlow for modeling."
   ]
  },
  {
   "cell_type": "code",
   "execution_count": null,
   "id": "fedc30e7",
   "metadata": {},
   "outputs": [],
   "source": [
    "import pandas as pd\n",
    "import tensorflow as tf\n",
    "from tensorflow.keras.models import Sequential\n",
    "from tensorflow.keras.layers import Xception"
   ]
  },
  {
   "cell_type": "markdown",
   "id": "1dfa9cec",
   "metadata": {},
   "source": [
    "Read the data from an Excel file into a DataFrame."
   ]
  },
  {
   "cell_type": "code",
   "execution_count": null,
   "id": "70873705",
   "metadata": {},
   "outputs": [],
   "source": [
    "data = pd.read_excel('Porosity Image J.xlsx')"
   ]
  },
  {
   "cell_type": "markdown",
   "id": "26d8d56f",
   "metadata": {},
   "source": [
    "Split the dataset into training and test subsets."
   ]
  },
  {
   "cell_type": "code",
   "execution_count": null,
   "id": "e56cf80a",
   "metadata": {},
   "outputs": [],
   "source": [
    "ds_train, ds_test = train_test_split(data, test_size=0.2)"
   ]
  },
  {
   "cell_type": "markdown",
   "id": "afb364de",
   "metadata": {},
   "source": [
    "Create a data augmentation pipeline using TensorFlow."
   ]
  },
  {
   "cell_type": "code",
   "execution_count": null,
   "id": "dd6787b6",
   "metadata": {},
   "outputs": [],
   "source": [
    "data_augmentation = tf.keras.Sequential([\n",
    "    tf.keras.layers.RandomFlip('horizontal'),\n",
    "    tf.keras.layers.RandomRotation(0.1)\n",
    "])"
   ]
  },
  {
   "cell_type": "markdown",
   "id": "4a363d47",
   "metadata": {},
   "source": [
    "Define a Keras model using the Xception architecture."
   ]
  },
  {
   "cell_type": "code",
   "execution_count": null,
   "id": "79c89aba",
   "metadata": {},
   "outputs": [],
   "source": [
    "model = Sequential([\n",
    "    Xception(input_shape=(299, 299, 3), include_top=False),\n",
    "    tf.keras.layers.GlobalAveragePooling2D(),\n",
    "    tf.keras.layers.Dense(1, activation='sigmoid')\n",
    "])"
   ]
  },
  {
   "cell_type": "markdown",
   "id": "d0eb2921",
   "metadata": {},
   "source": [
    "Compile the model with an optimizer, loss function, and evaluation metrics."
   ]
  },
  {
   "cell_type": "code",
   "execution_count": null,
   "id": "da22edfd",
   "metadata": {},
   "outputs": [],
   "source": [
    "model.compile(optimizer='adam', loss='binary_crossentropy', metrics=['accuracy'])"
   ]
  },
  {
   "cell_type": "markdown",
   "id": "e0167ec4",
   "metadata": {},
   "source": [
    "Train the model and store training history for evaluation."
   ]
  },
  {
   "cell_type": "code",
   "execution_count": null,
   "id": "dba592d2",
   "metadata": {},
   "outputs": [],
   "source": [
    "history = model.fit(ds_train, validation_data=ds_test, epochs=10)"
   ]
  },
  {
   "cell_type": "markdown",
   "id": "85dcf8dc",
   "metadata": {},
   "source": [
    "Visualize the training accuracy over epochs."
   ]
  },
  {
   "cell_type": "code",
   "execution_count": null,
   "id": "d029ddf9",
   "metadata": {},
   "outputs": [],
   "source": [
    "import matplotlib.pyplot as plt\n",
    "plt.plot(history.history['accuracy'])\n",
    "plt.title('Model Accuracy')"
   ]
  },
  {
   "cell_type": "markdown",
   "id": "8f4a736e",
   "metadata": {},
   "source": [
    "Save the training history plot as an image file."
   ]
  },
  {
   "cell_type": "code",
   "execution_count": null,
   "id": "c4bc2b79",
   "metadata": {},
   "outputs": [],
   "source": [
    "plt.savefig('training_history.png')"
   ]
  }
 ],
 "metadata": {
  "kernelspec": {
   "display_name": "Python 3",
   "language": "python",
   "name": "python3"
  },
  "language_info": {
   "codemirror_mode": {
    "name": "ipython",
    "version": 3
   },
   "file_extension": ".py",
   "mimetype": "text/x-python",
   "name": "python",
   "nbconvert_exporter": "python",
   "pygments_lexer": "ipython3",
   "version": "3.8.5"
  }
 },
 "nbformat": 4,
 "nbformat_minor": 5
}
