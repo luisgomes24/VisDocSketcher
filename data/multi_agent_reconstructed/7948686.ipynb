{
 "cells": [
  {
   "cell_type": "markdown",
   "id": "75fb74bf",
   "metadata": {},
   "source": [
    "Load data from 'db_books.csv' into a DataFrame called df1."
   ]
  },
  {
   "cell_type": "code",
   "execution_count": null,
   "id": "f41d5043",
   "metadata": {},
   "outputs": [],
   "source": [
    "import pandas as pd\n",
    "df1 = pd.read_csv('db_books.csv')"
   ]
  },
  {
   "cell_type": "markdown",
   "id": "b1ce25b3",
   "metadata": {},
   "source": [
    "Load data from 'stories.csv' into a DataFrame called df2."
   ]
  },
  {
   "cell_type": "code",
   "execution_count": null,
   "id": "a7539dbe",
   "metadata": {},
   "outputs": [],
   "source": [
    "df2 = pd.read_csv('stories.csv')"
   ]
  }
 ],
 "metadata": {
  "kernelspec": {
   "display_name": "Python 3",
   "language": "python",
   "name": "python3"
  },
  "language_info": {
   "codemirror_mode": {
    "name": "ipython",
    "version": 3
   },
   "file_extension": ".py",
   "mimetype": "text/x-python",
   "name": "python",
   "nbconvert_exporter": "python",
   "pygments_lexer": "ipython3",
   "version": "3.8.5"
  }
 },
 "nbformat": 4,
 "nbformat_minor": 5
}
