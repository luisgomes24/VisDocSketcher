{
 "cells": [
  {
   "cell_type": "markdown",
   "id": "cf3c1ec5",
   "metadata": {},
   "source": [
    "Load the OpenAQ dataset and filter for US cities."
   ]
  },
  {
   "cell_type": "code",
   "execution_count": null,
   "id": "05304754",
   "metadata": {},
   "outputs": [],
   "source": [
    "import pandas as pd\n",
    "\n",
    "dataset = pd.read_csv('openaq_dataset.csv')\n",
    "\n",
    "us_cities = dataset[dataset['country'] == 'US']"
   ]
  },
  {
   "cell_type": "markdown",
   "id": "5066de16",
   "metadata": {},
   "source": [
    "Filter the dataset for pollutants that have a value of zero."
   ]
  },
  {
   "cell_type": "code",
   "execution_count": null,
   "id": "16936eeb",
   "metadata": {},
   "outputs": [],
   "source": [
    "zero_pollutants = dataset[dataset['value'] == 0]"
   ]
  }
 ],
 "metadata": {
  "kernelspec": {
   "display_name": "Python 3",
   "language": "python",
   "name": "python3"
  },
  "language_info": {
   "codemirror_mode": {
    "name": "ipython",
    "version": 3
   },
   "file_extension": ".py",
   "mimetype": "text/x-python",
   "name": "python",
   "nbconvert_exporter": "python",
   "pygments_lexer": "ipython3",
   "version": "3.8.5"
  }
 },
 "nbformat": 4,
 "nbformat_minor": 5
}
