{
 "cells": [
  {
   "cell_type": "markdown",
   "id": "0a88ab8e",
   "metadata": {},
   "source": [
    "Load the COVID-19 data from a CSV file into a DataFrame."
   ]
  },
  {
   "cell_type": "code",
   "execution_count": null,
   "id": "e5bfb624",
   "metadata": {},
   "outputs": [],
   "source": [
    "import pandas as pd\n",
    "my_data = pd.read_csv('corona_morocco.csv')"
   ]
  },
  {
   "cell_type": "markdown",
   "id": "11a538ce",
   "metadata": {},
   "source": [
    "Calculate active cases by subtracting total deaths from total confirmed cases."
   ]
  },
  {
   "cell_type": "code",
   "execution_count": null,
   "id": "dc542307",
   "metadata": {},
   "outputs": [],
   "source": [
    "my_data['actif_column'] = my_data['total_confirmed'] - my_data['total_deaths']"
   ]
  },
  {
   "cell_type": "markdown",
   "id": "3b0c1380",
   "metadata": {},
   "source": [
    "Extract the total number of deaths by summing the deaths column."
   ]
  },
  {
   "cell_type": "code",
   "execution_count": null,
   "id": "e7ae4899",
   "metadata": {},
   "outputs": [],
   "source": [
    "total_Deaths = my_data['total_deaths'].sum()"
   ]
  },
  {
   "cell_type": "markdown",
   "id": "1bafc44d",
   "metadata": {},
   "source": [
    "Extract the total number of confirmed cases by summing the confirmed cases column."
   ]
  },
  {
   "cell_type": "code",
   "execution_count": null,
   "id": "40f40b1f",
   "metadata": {},
   "outputs": [],
   "source": [
    "total_Confirmed = my_data['total_confirmed'].sum()"
   ]
  },
  {
   "cell_type": "markdown",
   "id": "3bf08981",
   "metadata": {},
   "source": [
    "Differentiate to get the number of new cases per day."
   ]
  },
  {
   "cell_type": "code",
   "execution_count": null,
   "id": "cda998f2",
   "metadata": {},
   "outputs": [],
   "source": [
    "new_cases = my_data['total_confirmed'].diff()"
   ]
  },
  {
   "cell_type": "markdown",
   "id": "e749946d",
   "metadata": {},
   "source": [
    "Fit a Prophet model using total confirmed cases, new cases, and total deaths."
   ]
  },
  {
   "cell_type": "code",
   "execution_count": null,
   "id": "571bd471",
   "metadata": {},
   "outputs": [],
   "source": [
    "from fbprophet import Prophet\n",
    "model = Prophet()\n",
    "model.fit(my_data[['date', 'total_confirmed', 'new_cases', 'total_deaths']])"
   ]
  },
  {
   "cell_type": "markdown",
   "id": "dd33d2ca",
   "metadata": {},
   "source": [
    "Generate forecasting results using the fitted Prophet model."
   ]
  },
  {
   "cell_type": "code",
   "execution_count": null,
   "id": "8085075e",
   "metadata": {},
   "outputs": [],
   "source": [
    "forecast_results = model.predict(future_data)"
   ]
  },
  {
   "cell_type": "markdown",
   "id": "195733ca",
   "metadata": {},
   "source": [
    "Visualize the forecasting results using matplotlib."
   ]
  },
  {
   "cell_type": "code",
   "execution_count": null,
   "id": "fa034a75",
   "metadata": {},
   "outputs": [],
   "source": [
    "import matplotlib.pyplot as plt\n",
    "model.plot(forecast_results)\n",
    "plt.show()"
   ]
  }
 ],
 "metadata": {
  "kernelspec": {
   "display_name": "Python 3",
   "language": "python",
   "name": "python3"
  },
  "language_info": {
   "codemirror_mode": {
    "name": "ipython",
    "version": 3
   },
   "file_extension": ".py",
   "mimetype": "text/x-python",
   "name": "python",
   "nbconvert_exporter": "python",
   "pygments_lexer": "ipython3",
   "version": "3.8.5"
  }
 },
 "nbformat": 4,
 "nbformat_minor": 5
}
