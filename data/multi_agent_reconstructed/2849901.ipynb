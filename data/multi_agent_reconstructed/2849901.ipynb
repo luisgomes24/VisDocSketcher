{
 "cells": [
  {
   "cell_type": "markdown",
   "id": "d0e77619",
   "metadata": {},
   "source": [
    "Load the CSV file 'legislatives.csv' into a DataFrame named 'df1'."
   ]
  },
  {
   "cell_type": "code",
   "execution_count": null,
   "id": "cdaa370a",
   "metadata": {},
   "outputs": [],
   "source": [
    "import pandas as pd\n",
    "df1 = pd.read_csv('legislatives.csv')"
   ]
  },
  {
   "cell_type": "markdown",
   "id": "8301dd5b",
   "metadata": {},
   "source": [
    "Define a function to plot the distribution of each column in the DataFrame using histograms."
   ]
  },
  {
   "cell_type": "code",
   "execution_count": null,
   "id": "f05a4518",
   "metadata": {},
   "outputs": [],
   "source": [
    "import matplotlib.pyplot as plt\n",
    "def plotPerColumnDistribution(df):\n",
    "    df.hist(figsize=(10, 10))\n",
    "    plt.tight_layout()\n",
    "    plt.show()"
   ]
  },
  {
   "cell_type": "markdown",
   "id": "67c58263",
   "metadata": {},
   "source": [
    "Call the 'plotPerColumnDistribution' function, passing 'df1' to visualize the distributions."
   ]
  },
  {
   "cell_type": "code",
   "execution_count": null,
   "id": "dec57486",
   "metadata": {},
   "outputs": [],
   "source": [
    "plotPerColumnDistribution(df1)"
   ]
  }
 ],
 "metadata": {
  "kernelspec": {
   "display_name": "Python 3",
   "language": "python",
   "name": "python3"
  },
  "language_info": {
   "codemirror_mode": {
    "name": "ipython",
    "version": 3
   },
   "file_extension": ".py",
   "mimetype": "text/x-python",
   "name": "python",
   "nbconvert_exporter": "python",
   "pygments_lexer": "ipython3",
   "version": "3.8.5"
  }
 },
 "nbformat": 4,
 "nbformat_minor": 5
}
