{
 "cells": [
  {
   "cell_type": "markdown",
   "id": "5d29d1db",
   "metadata": {},
   "source": [
    "Indicates the beginning of the workflow."
   ]
  },
  {
   "cell_type": "code",
   "execution_count": null,
   "id": "841a3a99",
   "metadata": {},
   "outputs": [],
   "source": [
    "# Start Section\n",
    "print('Process Started')"
   ]
  },
  {
   "cell_type": "markdown",
   "id": "043425a5",
   "metadata": {},
   "source": [
    "Loads data from a CSV file into a DataFrame."
   ]
  },
  {
   "cell_type": "code",
   "execution_count": null,
   "id": "f927c1e4",
   "metadata": {},
   "outputs": [],
   "source": [
    "# Load Data\n",
    "import pandas as pd\n",
    "data = pd.read_csv('data.csv')"
   ]
  },
  {
   "cell_type": "markdown",
   "id": "0ba6ba72",
   "metadata": {},
   "source": [
    "Cleans the data by removing any missing values."
   ]
  },
  {
   "cell_type": "code",
   "execution_count": null,
   "id": "fddf9e21",
   "metadata": {},
   "outputs": [],
   "source": [
    "# Process Data\n",
    "data_cleaned = data.dropna()"
   ]
  },
  {
   "cell_type": "markdown",
   "id": "c18b9625",
   "metadata": {},
   "source": [
    "Generates a bar chart to visualize the data."
   ]
  },
  {
   "cell_type": "code",
   "execution_count": null,
   "id": "2788a6ab",
   "metadata": {},
   "outputs": [],
   "source": [
    "# Analyze Results\n",
    "import matplotlib.pyplot as plt\n",
    "plt.bar(data_cleaned['Category'], data_cleaned['Value'])\n",
    "plt.show()"
   ]
  },
  {
   "cell_type": "markdown",
   "id": "bcf16837",
   "metadata": {},
   "source": [
    "Creates a report of the data statistics and saves it to a text file."
   ]
  },
  {
   "cell_type": "code",
   "execution_count": null,
   "id": "ab401a15",
   "metadata": {},
   "outputs": [],
   "source": [
    "# Generate Report\n",
    "report = data_cleaned.describe().to_string()\n",
    "with open('report.txt', 'w') as f:\n",
    "    f.write(report)"
   ]
  },
  {
   "cell_type": "markdown",
   "id": "f7bf3113",
   "metadata": {},
   "source": [
    "Indicates the end of the workflow."
   ]
  },
  {
   "cell_type": "code",
   "execution_count": null,
   "id": "9455d71f",
   "metadata": {},
   "outputs": [],
   "source": [
    "# End Section\n",
    "print('Process Completed')"
   ]
  }
 ],
 "metadata": {
  "kernelspec": {
   "display_name": "Python 3",
   "language": "python",
   "name": "python3"
  },
  "language_info": {
   "codemirror_mode": {
    "name": "ipython",
    "version": 3
   },
   "file_extension": ".py",
   "mimetype": "text/x-python",
   "name": "python",
   "nbconvert_exporter": "python",
   "pygments_lexer": "ipython3",
   "version": "3.8.5"
  }
 },
 "nbformat": 4,
 "nbformat_minor": 5
}
