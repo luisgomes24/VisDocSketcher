{
 "cells": [
  {
   "cell_type": "markdown",
   "id": "edc02dae",
   "metadata": {},
   "source": [
    "Load training data from 'Train.csv' into dataframe df1."
   ]
  },
  {
   "cell_type": "code",
   "execution_count": null,
   "id": "b7c11b2f",
   "metadata": {},
   "outputs": [],
   "source": [
    "import pandas as pd\n",
    "df1 = pd.read_csv('Train.csv')"
   ]
  },
  {
   "cell_type": "markdown",
   "id": "cc83d1cd",
   "metadata": {},
   "source": [
    "Load test data from 'Test.csv' into dataframe df2."
   ]
  },
  {
   "cell_type": "code",
   "execution_count": null,
   "id": "2b97f71c",
   "metadata": {},
   "outputs": [],
   "source": [
    "df2 = pd.read_csv('Test.csv')"
   ]
  },
  {
   "cell_type": "markdown",
   "id": "828fc059",
   "metadata": {},
   "source": [
    "Visualize the distribution of each column in the training dataframe df1."
   ]
  },
  {
   "cell_type": "code",
   "execution_count": null,
   "id": "e54843f8",
   "metadata": {},
   "outputs": [],
   "source": [
    "plotPerColumnDistribution(df1)"
   ]
  },
  {
   "cell_type": "markdown",
   "id": "71994534",
   "metadata": {},
   "source": [
    "Create a correlation matrix for the training dataframe df1."
   ]
  },
  {
   "cell_type": "code",
   "execution_count": null,
   "id": "5cb9aef3",
   "metadata": {},
   "outputs": [],
   "source": [
    "plotCorrelationMatrix(df1)"
   ]
  },
  {
   "cell_type": "markdown",
   "id": "bdb9dc31",
   "metadata": {},
   "source": [
    "Create a correlation matrix for the test dataframe df2."
   ]
  },
  {
   "cell_type": "code",
   "execution_count": null,
   "id": "22c519d3",
   "metadata": {},
   "outputs": [],
   "source": [
    "plotCorrelationMatrix(df2)"
   ]
  },
  {
   "cell_type": "markdown",
   "id": "2a86fb63",
   "metadata": {},
   "source": [
    "Generate a scatter matrix for the training dataframe df1."
   ]
  },
  {
   "cell_type": "code",
   "execution_count": null,
   "id": "1aaba6c5",
   "metadata": {},
   "outputs": [],
   "source": [
    "plotScatterMatrix(df1)"
   ]
  },
  {
   "cell_type": "markdown",
   "id": "0621fa4f",
   "metadata": {},
   "source": [
    "Generate a scatter matrix for the test dataframe df2."
   ]
  },
  {
   "cell_type": "code",
   "execution_count": null,
   "id": "51b2d542",
   "metadata": {},
   "outputs": [],
   "source": [
    "plotScatterMatrix(df2)"
   ]
  }
 ],
 "metadata": {
  "kernelspec": {
   "display_name": "Python 3",
   "language": "python",
   "name": "python3"
  },
  "language_info": {
   "codemirror_mode": {
    "name": "ipython",
    "version": 3
   },
   "file_extension": ".py",
   "mimetype": "text/x-python",
   "name": "python",
   "nbconvert_exporter": "python",
   "pygments_lexer": "ipython3",
   "version": "3.8.5"
  }
 },
 "nbformat": 4,
 "nbformat_minor": 5
}
