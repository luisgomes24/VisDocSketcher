{
 "cells": [
  {
   "cell_type": "markdown",
   "id": "f829fdbd",
   "metadata": {},
   "source": [
    "Load the Oxford IIIT Pet Dataset using TensorFlow Datasets."
   ]
  },
  {
   "cell_type": "code",
   "execution_count": null,
   "id": "546b19d4",
   "metadata": {},
   "outputs": [],
   "source": [
    "import tensorflow_datasets as tfds\n",
    "\n",
    "dataset = tfds.load('oxford_iiit_pet', as_supervised=True)"
   ]
  },
  {
   "cell_type": "markdown",
   "id": "086f4088",
   "metadata": {},
   "source": [
    "Map the training and testing datasets to appropriate image loading functions."
   ]
  },
  {
   "cell_type": "code",
   "execution_count": null,
   "id": "4f1a1660",
   "metadata": {},
   "outputs": [],
   "source": [
    "train = dataset['train'].map(load_image_train)\n",
    "\n",
    "test = dataset['test'].map(load_image_test)"
   ]
  },
  {
   "cell_type": "markdown",
   "id": "256ab9be",
   "metadata": {},
   "source": [
    "Prepare the training dataset by caching, shuffling, batching, and repeating."
   ]
  },
  {
   "cell_type": "code",
   "execution_count": null,
   "id": "037f3b13",
   "metadata": {},
   "outputs": [],
   "source": [
    "train_dataset = train.cache().shuffle(BUFFER_SIZE).batch(BATCH_SIZE).repeat()"
   ]
  },
  {
   "cell_type": "markdown",
   "id": "b8c55a37",
   "metadata": {},
   "source": [
    "Batch the test dataset."
   ]
  },
  {
   "cell_type": "code",
   "execution_count": null,
   "id": "84d9f986",
   "metadata": {},
   "outputs": [],
   "source": [
    "test_dataset = test.batch(BATCH_SIZE)"
   ]
  },
  {
   "cell_type": "markdown",
   "id": "cf51af1b",
   "metadata": {},
   "source": [
    "Train the U-Net model using the training dataset with validation on the test dataset."
   ]
  },
  {
   "cell_type": "code",
   "execution_count": null,
   "id": "3ae453bc",
   "metadata": {},
   "outputs": [],
   "source": [
    "model.fit(train_dataset, epochs=NUM_EPOCHS, validation_data=test_dataset)"
   ]
  }
 ],
 "metadata": {
  "kernelspec": {
   "display_name": "Python 3",
   "language": "python",
   "name": "python3"
  },
  "language_info": {
   "codemirror_mode": {
    "name": "ipython",
    "version": 3
   },
   "file_extension": ".py",
   "mimetype": "text/x-python",
   "name": "python",
   "nbconvert_exporter": "python",
   "pygments_lexer": "ipython3",
   "version": "3.8.5"
  }
 },
 "nbformat": 4,
 "nbformat_minor": 5
}
