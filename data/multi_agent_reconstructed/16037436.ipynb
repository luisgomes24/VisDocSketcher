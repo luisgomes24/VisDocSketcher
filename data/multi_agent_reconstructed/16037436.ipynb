{
 "cells": [
  {
   "cell_type": "markdown",
   "id": "bf3f3b7f",
   "metadata": {},
   "source": [
    "Load the training and testing datasets from Excel files."
   ]
  },
  {
   "cell_type": "code",
   "execution_count": null,
   "id": "b33bd639",
   "metadata": {},
   "outputs": [],
   "source": [
    "import pandas as pd\n",
    "\n",
    "data_train = pd.read_excel('Data_Train.xlsx')\n",
    "data_test = pd.read_excel('Data_Test.xlsx')"
   ]
  },
  {
   "cell_type": "markdown",
   "id": "25f42a85",
   "metadata": {},
   "source": [
    "Split the training data into features (X_train) and target (y_train)."
   ]
  },
  {
   "cell_type": "code",
   "execution_count": null,
   "id": "086d216e",
   "metadata": {},
   "outputs": [],
   "source": [
    "X_train = data_train.drop('target', axis=1)\n",
    "y_train = data_train['target']"
   ]
  },
  {
   "cell_type": "markdown",
   "id": "c02766d4",
   "metadata": {},
   "source": [
    "Split the testing data into features (X_test) and target (y_test)."
   ]
  },
  {
   "cell_type": "code",
   "execution_count": null,
   "id": "52952f89",
   "metadata": {},
   "outputs": [],
   "source": [
    "X_test = data_test.drop('target', axis=1)\n",
    "y_test = data_test['target']"
   ]
  },
  {
   "cell_type": "markdown",
   "id": "7c97f459",
   "metadata": {},
   "source": [
    "Train a Logistic Regression model on the training data."
   ]
  },
  {
   "cell_type": "code",
   "execution_count": null,
   "id": "14ec9feb",
   "metadata": {},
   "outputs": [],
   "source": [
    "from sklearn.linear_model import LogisticRegression\n",
    "model_lr = LogisticRegression()\n",
    "model_lr.fit(X_train, y_train)"
   ]
  },
  {
   "cell_type": "markdown",
   "id": "6ba2f502",
   "metadata": {},
   "source": [
    "Train an XGBoost model on the training data."
   ]
  },
  {
   "cell_type": "code",
   "execution_count": null,
   "id": "d0b4098a",
   "metadata": {},
   "outputs": [],
   "source": [
    "from xgboost import XGBClassifier\n",
    "model_xgb = XGBClassifier()\n",
    "model_xgb.fit(X_train, y_train)"
   ]
  },
  {
   "cell_type": "markdown",
   "id": "5cae4f89",
   "metadata": {},
   "source": [
    "Train a Decision Tree model on the training data."
   ]
  },
  {
   "cell_type": "code",
   "execution_count": null,
   "id": "8e5fcf69",
   "metadata": {},
   "outputs": [],
   "source": [
    "from sklearn.tree import DecisionTreeClassifier\n",
    "model_dt = DecisionTreeClassifier()\n",
    "model_dt.fit(X_train, y_train)"
   ]
  },
  {
   "cell_type": "markdown",
   "id": "024451fe",
   "metadata": {},
   "source": [
    "Train a K-Neighbors model on the training data."
   ]
  },
  {
   "cell_type": "code",
   "execution_count": null,
   "id": "a3c08ed2",
   "metadata": {},
   "outputs": [],
   "source": [
    "from sklearn.neighbors import KNeighborsClassifier\n",
    "model_knn = KNeighborsClassifier()\n",
    "model_knn.fit(X_train, y_train)"
   ]
  },
  {
   "cell_type": "markdown",
   "id": "d9c7b435",
   "metadata": {},
   "source": [
    "Train a Support Vector Machine model on the training data."
   ]
  },
  {
   "cell_type": "code",
   "execution_count": null,
   "id": "ee32e0a5",
   "metadata": {},
   "outputs": [],
   "source": [
    "from sklearn.svm import SVC\n",
    "model_svc = SVC()\n",
    "model_svc.fit(X_train, y_train)"
   ]
  },
  {
   "cell_type": "markdown",
   "id": "d730cd40",
   "metadata": {},
   "source": [
    "Train a Random Forest model on the training data."
   ]
  },
  {
   "cell_type": "code",
   "execution_count": null,
   "id": "797f157e",
   "metadata": {},
   "outputs": [],
   "source": [
    "from sklearn.ensemble import RandomForestClassifier\n",
    "model_rf = RandomForestClassifier()\n",
    "model_rf.fit(X_train, y_train)"
   ]
  },
  {
   "cell_type": "markdown",
   "id": "a26d6e16",
   "metadata": {},
   "source": [
    "Train an AdaBoost model on the training data."
   ]
  },
  {
   "cell_type": "code",
   "execution_count": null,
   "id": "9d1b961f",
   "metadata": {},
   "outputs": [],
   "source": [
    "from sklearn.ensemble import AdaBoostClassifier\n",
    "model_ab = AdaBoostClassifier()\n",
    "model_ab.fit(X_train, y_train)"
   ]
  },
  {
   "cell_type": "markdown",
   "id": "95ba124a",
   "metadata": {},
   "source": [
    "Train a Bagging model on the training data."
   ]
  },
  {
   "cell_type": "code",
   "execution_count": null,
   "id": "8cac051e",
   "metadata": {},
   "outputs": [],
   "source": [
    "from sklearn.ensemble import BaggingClassifier\n",
    "model_bg = BaggingClassifier()\n",
    "model_bg.fit(X_train, y_train)"
   ]
  },
  {
   "cell_type": "markdown",
   "id": "e2f9a2fd",
   "metadata": {},
   "source": [
    "Train an Extra Trees model on the training data."
   ]
  },
  {
   "cell_type": "code",
   "execution_count": null,
   "id": "553ebb8d",
   "metadata": {},
   "outputs": [],
   "source": [
    "from sklearn.ensemble import ExtraTreesClassifier\n",
    "model_et = ExtraTreesClassifier()\n",
    "model_et.fit(X_train, y_train)"
   ]
  }
 ],
 "metadata": {
  "kernelspec": {
   "display_name": "Python 3",
   "language": "python",
   "name": "python3"
  },
  "language_info": {
   "codemirror_mode": {
    "name": "ipython",
    "version": 3
   },
   "file_extension": ".py",
   "mimetype": "text/x-python",
   "name": "python",
   "nbconvert_exporter": "python",
   "pygments_lexer": "ipython3",
   "version": "3.8.5"
  }
 },
 "nbformat": 4,
 "nbformat_minor": 5
}
