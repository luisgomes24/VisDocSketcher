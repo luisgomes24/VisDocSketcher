{
 "cells": [
  {
   "cell_type": "markdown",
   "id": "e9076452",
   "metadata": {},
   "source": [
    "Load the training dataset into a DataFrame."
   ]
  },
  {
   "cell_type": "code",
   "execution_count": null,
   "id": "c6616b72",
   "metadata": {},
   "outputs": [],
   "source": [
    "import pandas as pd\n",
    "train_df = pd.read_csv('train.csv')"
   ]
  },
  {
   "cell_type": "markdown",
   "id": "fcbad747",
   "metadata": {},
   "source": [
    "Extract features and target variable from the training DataFrame."
   ]
  },
  {
   "cell_type": "code",
   "execution_count": null,
   "id": "59724089",
   "metadata": {},
   "outputs": [],
   "source": [
    "feature_cols = ['R', 'C', 'u_in', 'u_out']\n",
    "X_train = train_df[feature_cols]\n",
    "y_train = train_df.pop('pressure')"
   ]
  },
  {
   "cell_type": "markdown",
   "id": "8d6b23b3",
   "metadata": {},
   "source": [
    "Scale the feature columns of the training DataFrame."
   ]
  },
  {
   "cell_type": "code",
   "execution_count": null,
   "id": "25ac13fa",
   "metadata": {},
   "outputs": [],
   "source": [
    "from sklearn.preprocessing import StandardScaler\n",
    "scaler = StandardScaler()\n",
    "X_train_scaled = scaler.fit_transform(X_train)"
   ]
  },
  {
   "cell_type": "markdown",
   "id": "5ba7b361",
   "metadata": {},
   "source": [
    "Reshape the scaled features for LSTM model input."
   ]
  },
  {
   "cell_type": "code",
   "execution_count": null,
   "id": "cfdf16a6",
   "metadata": {},
   "outputs": [],
   "source": [
    "import numpy as np\n",
    "X_train_scaled = np.reshape(X_train_scaled, (X_train_scaled.shape[0], X_train_scaled.shape[1], 1))"
   ]
  },
  {
   "cell_type": "markdown",
   "id": "47ff6dae",
   "metadata": {},
   "source": [
    "Define the LSTM model architecture."
   ]
  },
  {
   "cell_type": "code",
   "execution_count": null,
   "id": "f4d9b811",
   "metadata": {},
   "outputs": [],
   "source": [
    "from keras.models import Sequential\n",
    "from keras.layers import LSTM, Dense\n",
    "model = Sequential()\n",
    "model.add(LSTM(50, input_shape=(X_train_scaled.shape[1], 1)))\n",
    "model.add(Dense(1))"
   ]
  },
  {
   "cell_type": "markdown",
   "id": "aa46890b",
   "metadata": {},
   "source": [
    "Compile and train the LSTM model using the scaled features and target."
   ]
  },
  {
   "cell_type": "code",
   "execution_count": null,
   "id": "c843a872",
   "metadata": {},
   "outputs": [],
   "source": [
    "model.compile(optimizer='adam', loss='mean_squared_error')\n",
    "model.fit(X_train_scaled, y_train, epochs=50, batch_size=32)"
   ]
  },
  {
   "cell_type": "markdown",
   "id": "7a9c1f34",
   "metadata": {},
   "source": [
    "Load the test dataset and extract the features."
   ]
  },
  {
   "cell_type": "code",
   "execution_count": null,
   "id": "7ae1996e",
   "metadata": {},
   "outputs": [],
   "source": [
    "test_df = pd.read_csv('test.csv')\n",
    "X_test = test_df[feature_cols]"
   ]
  },
  {
   "cell_type": "markdown",
   "id": "ef5bbd28",
   "metadata": {},
   "source": [
    "Scale the features of the test dataset using the same scaler."
   ]
  },
  {
   "cell_type": "code",
   "execution_count": null,
   "id": "c935eef6",
   "metadata": {},
   "outputs": [],
   "source": [
    "X_test_scaled = scaler.transform(X_test)"
   ]
  },
  {
   "cell_type": "markdown",
   "id": "446d10c3",
   "metadata": {},
   "source": [
    "Reshape the scaled test features for LSTM model input."
   ]
  },
  {
   "cell_type": "code",
   "execution_count": null,
   "id": "e010a7ef",
   "metadata": {},
   "outputs": [],
   "source": [
    "X_test_scaled = np.reshape(X_test_scaled, (X_test_scaled.shape[0], X_test_scaled.shape[1], 1))"
   ]
  },
  {
   "cell_type": "markdown",
   "id": "ef5bfbba",
   "metadata": {},
   "source": [
    "Use the trained model to make predictions on the test data."
   ]
  },
  {
   "cell_type": "code",
   "execution_count": null,
   "id": "e6fe414b",
   "metadata": {},
   "outputs": [],
   "source": [
    "predictions = model.predict(X_test_scaled)"
   ]
  },
  {
   "cell_type": "markdown",
   "id": "96242e57",
   "metadata": {},
   "source": [
    "Save the predictions into the sample submission format and write to a CSV file."
   ]
  },
  {
   "cell_type": "code",
   "execution_count": null,
   "id": "8fc088bf",
   "metadata": {},
   "outputs": [],
   "source": [
    "sample_submission = pd.read_csv('sample_submission.csv')\n",
    "sample_submission['pressure'] = predictions\n",
    "sample_submission.to_csv('submission.csv', index=False)"
   ]
  }
 ],
 "metadata": {
  "kernelspec": {
   "display_name": "Python 3",
   "language": "python",
   "name": "python3"
  },
  "language_info": {
   "codemirror_mode": {
    "name": "ipython",
    "version": 3
   },
   "file_extension": ".py",
   "mimetype": "text/x-python",
   "name": "python",
   "nbconvert_exporter": "python",
   "pygments_lexer": "ipython3",
   "version": "3.8.5"
  }
 },
 "nbformat": 4,
 "nbformat_minor": 5
}
