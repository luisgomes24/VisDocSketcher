{
 "cells": [
  {
   "cell_type": "markdown",
   "id": "49253ad5",
   "metadata": {},
   "source": [
    "Load training and validation datasets from CSV files."
   ]
  },
  {
   "cell_type": "code",
   "execution_count": null,
   "id": "65ce0153",
   "metadata": {},
   "outputs": [],
   "source": [
    "import pandas as pd\n",
    "train_df = pd.read_csv('train.csv')\n",
    "valid_df = pd.read_csv('validation.csv')"
   ]
  },
  {
   "cell_type": "markdown",
   "id": "ea214fd7",
   "metadata": {},
   "source": [
    "Save the loaded DataFrames to new CSV files."
   ]
  },
  {
   "cell_type": "code",
   "execution_count": null,
   "id": "e3407b80",
   "metadata": {},
   "outputs": [],
   "source": [
    "train_df.to_csv('train_df.csv', index=False)\n",
    "valid_df.to_csv('valid_df.csv', index=False)"
   ]
  },
  {
   "cell_type": "markdown",
   "id": "ef1056f8",
   "metadata": {},
   "source": [
    "Plot the correlation matrix of the training DataFrame."
   ]
  },
  {
   "cell_type": "code",
   "execution_count": null,
   "id": "b6dc889a",
   "metadata": {},
   "outputs": [],
   "source": [
    "import seaborn as sns\n",
    "import matplotlib.pyplot as plt\n",
    "sns.heatmap(train_df.corr())\n",
    "plt.show()"
   ]
  },
  {
   "cell_type": "markdown",
   "id": "67a48b4e",
   "metadata": {},
   "source": [
    "Extract relevant label columns for further analysis."
   ]
  },
  {
   "cell_type": "code",
   "execution_count": null,
   "id": "461ab36a",
   "metadata": {},
   "outputs": [],
   "source": [
    "band_labels = train_df['label_column']\n",
    "band_labels_nickname = train_df['nickname_column']"
   ]
  },
  {
   "cell_type": "markdown",
   "id": "c3a97646",
   "metadata": {},
   "source": [
    "Visualize pairwise relationships in the dataset, colored by labels."
   ]
  },
  {
   "cell_type": "code",
   "execution_count": null,
   "id": "9f71e656",
   "metadata": {},
   "outputs": [],
   "source": [
    "sns.pairplot(train_df, hue='label_column')\n",
    "plt.show()"
   ]
  },
  {
   "cell_type": "markdown",
   "id": "ad136836",
   "metadata": {},
   "source": [
    "Perform and display correlation analysis on the training DataFrame."
   ]
  },
  {
   "cell_type": "code",
   "execution_count": null,
   "id": "aaae1780",
   "metadata": {},
   "outputs": [],
   "source": [
    "print('Correlation Analysis')\n",
    "print(train_df.corr())"
   ]
  }
 ],
 "metadata": {
  "kernelspec": {
   "display_name": "Python 3",
   "language": "python",
   "name": "python3"
  },
  "language_info": {
   "codemirror_mode": {
    "name": "ipython",
    "version": 3
   },
   "file_extension": ".py",
   "mimetype": "text/x-python",
   "name": "python",
   "nbconvert_exporter": "python",
   "pygments_lexer": "ipython3",
   "version": "3.8.5"
  }
 },
 "nbformat": 4,
 "nbformat_minor": 5
}
