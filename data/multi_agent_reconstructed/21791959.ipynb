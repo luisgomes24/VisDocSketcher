{
 "cells": [
  {
   "cell_type": "markdown",
   "id": "a1c19197",
   "metadata": {},
   "source": [
    "Import necessary libraries for numerical operations, data handling, and plotting."
   ]
  },
  {
   "cell_type": "code",
   "execution_count": null,
   "id": "0c8eb9fa",
   "metadata": {},
   "outputs": [],
   "source": [
    "import numpy as np\n",
    "import pandas as pd\n",
    "import matplotlib.pyplot as plt"
   ]
  },
  {
   "cell_type": "markdown",
   "id": "721d763a",
   "metadata": {},
   "source": [
    "Generate 20 evenly spaced values between 0 and 1."
   ]
  },
  {
   "cell_type": "code",
   "execution_count": null,
   "id": "1ed7d89a",
   "metadata": {},
   "outputs": [],
   "source": [
    "x = np.linspace(0, 1, 20)"
   ]
  },
  {
   "cell_type": "markdown",
   "id": "2dbf9123",
   "metadata": {},
   "source": [
    "Define the function g(x) to compute values based on sine and a constant."
   ]
  },
  {
   "cell_type": "code",
   "execution_count": null,
   "id": "74ad59c7",
   "metadata": {},
   "outputs": [],
   "source": [
    "def g(x):\n",
    "    return np.sin(2 * np.pi * x) + 0.1 * 20"
   ]
  },
  {
   "cell_type": "markdown",
   "id": "ad775e58",
   "metadata": {},
   "source": [
    "Iterate through each x value to compute corresponding y values using g(x)."
   ]
  },
  {
   "cell_type": "code",
   "execution_count": null,
   "id": "23d33403",
   "metadata": {},
   "outputs": [],
   "source": [
    "y_values = [g(val) for val in x]"
   ]
  },
  {
   "cell_type": "markdown",
   "id": "8bd50155",
   "metadata": {},
   "source": [
    "Combine x and y values into a list of tuples for easier handling."
   ]
  },
  {
   "cell_type": "code",
   "execution_count": null,
   "id": "ad7652db",
   "metadata": {},
   "outputs": [],
   "source": [
    "data = list(zip(x, y_values))"
   ]
  },
  {
   "cell_type": "markdown",
   "id": "9aaddaaf",
   "metadata": {},
   "source": [
    "Create a DataFrame from the list of tuples for structured data organization."
   ]
  },
  {
   "cell_type": "code",
   "execution_count": null,
   "id": "3d2d7d91",
   "metadata": {},
   "outputs": [],
   "source": [
    "df = pd.DataFrame(data, columns=['x', 'y'])"
   ]
  },
  {
   "cell_type": "markdown",
   "id": "a94c57e0",
   "metadata": {},
   "source": [
    "Visualize the data in a scatter plot to observe the relationship between x and y."
   ]
  },
  {
   "cell_type": "code",
   "execution_count": null,
   "id": "92622ee5",
   "metadata": {},
   "outputs": [],
   "source": [
    "plt.scatter(df['x'], df['y'])\n",
    "plt.title('Scatter Plot')\n",
    "plt.xlabel('x')\n",
    "plt.ylabel('y')\n",
    "plt.show()"
   ]
  },
  {
   "cell_type": "markdown",
   "id": "910cb38d",
   "metadata": {},
   "source": [
    "Visualize the data in a line plot to observe trends between x and y."
   ]
  },
  {
   "cell_type": "code",
   "execution_count": null,
   "id": "aeb4232c",
   "metadata": {},
   "outputs": [],
   "source": [
    "plt.plot(df['x'], df['y'])\n",
    "plt.title('Line Plot')\n",
    "plt.xlabel('x')\n",
    "plt.ylabel('y')\n",
    "plt.show()"
   ]
  }
 ],
 "metadata": {
  "kernelspec": {
   "display_name": "Python 3",
   "language": "python",
   "name": "python3"
  },
  "language_info": {
   "codemirror_mode": {
    "name": "ipython",
    "version": 3
   },
   "file_extension": ".py",
   "mimetype": "text/x-python",
   "name": "python",
   "nbconvert_exporter": "python",
   "pygments_lexer": "ipython3",
   "version": "3.8.5"
  }
 },
 "nbformat": 4,
 "nbformat_minor": 5
}
