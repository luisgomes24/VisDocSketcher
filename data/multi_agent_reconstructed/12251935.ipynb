{
 "cells": [
  {
   "cell_type": "markdown",
   "id": "a5b02135",
   "metadata": {},
   "source": [
    "Process the text from url1-combined.txt to extract unigrams."
   ]
  },
  {
   "cell_type": "code",
   "execution_count": null,
   "id": "95558da3",
   "metadata": {},
   "outputs": [],
   "source": [
    "url1_unigrams = process_text('url1-combined.txt')"
   ]
  },
  {
   "cell_type": "markdown",
   "id": "cfa63a0e",
   "metadata": {},
   "source": [
    "Create bigrams from the unigrams and score them."
   ]
  },
  {
   "cell_type": "code",
   "execution_count": null,
   "id": "03494cdd",
   "metadata": {},
   "outputs": [],
   "source": [
    "url1_bigrams = create_bigram_scored_list(url1_unigrams)"
   ]
  },
  {
   "cell_type": "markdown",
   "id": "a214f8a2",
   "metadata": {},
   "source": [
    "Convert the scored bigrams into a DataFrame for url1."
   ]
  },
  {
   "cell_type": "code",
   "execution_count": null,
   "id": "205e817b",
   "metadata": {},
   "outputs": [],
   "source": [
    "df_url1 = pd.DataFrame(url1_bigrams)"
   ]
  },
  {
   "cell_type": "markdown",
   "id": "c64388d8",
   "metadata": {},
   "source": [
    "Process the text from url2-combined.txt to extract unigrams."
   ]
  },
  {
   "cell_type": "code",
   "execution_count": null,
   "id": "57138635",
   "metadata": {},
   "outputs": [],
   "source": [
    "url2_unigrams = process_text('url2-combined.txt')"
   ]
  },
  {
   "cell_type": "markdown",
   "id": "dd91afbe",
   "metadata": {},
   "source": [
    "Create bigrams from the unigrams and score them."
   ]
  },
  {
   "cell_type": "code",
   "execution_count": null,
   "id": "df8ab7d3",
   "metadata": {},
   "outputs": [],
   "source": [
    "url2_bigrams = create_bigram_scored_list(url2_unigrams)"
   ]
  },
  {
   "cell_type": "markdown",
   "id": "9726aed6",
   "metadata": {},
   "source": [
    "Convert the scored bigrams into a DataFrame for url2."
   ]
  },
  {
   "cell_type": "code",
   "execution_count": null,
   "id": "f31e4854",
   "metadata": {},
   "outputs": [],
   "source": [
    "df_url2 = pd.DataFrame(url2_bigrams)"
   ]
  },
  {
   "cell_type": "markdown",
   "id": "8a772420",
   "metadata": {},
   "source": [
    "Process the text from url3-combined.txt to extract unigrams."
   ]
  },
  {
   "cell_type": "code",
   "execution_count": null,
   "id": "ee5a14c6",
   "metadata": {},
   "outputs": [],
   "source": [
    "url3_unigrams = process_text('url3-combined.txt')"
   ]
  },
  {
   "cell_type": "markdown",
   "id": "bfbbd947",
   "metadata": {},
   "source": [
    "Create bigrams from the unigrams and score them."
   ]
  },
  {
   "cell_type": "code",
   "execution_count": null,
   "id": "9078b0ce",
   "metadata": {},
   "outputs": [],
   "source": [
    "url3_bigrams = create_bigram_scored_list(url3_unigrams)"
   ]
  },
  {
   "cell_type": "markdown",
   "id": "25d172f7",
   "metadata": {},
   "source": [
    "Convert the scored bigrams into a DataFrame for url3."
   ]
  },
  {
   "cell_type": "code",
   "execution_count": null,
   "id": "fb1d6faa",
   "metadata": {},
   "outputs": [],
   "source": [
    "df_url3 = pd.DataFrame(url3_bigrams)"
   ]
  }
 ],
 "metadata": {
  "kernelspec": {
   "display_name": "Python 3",
   "language": "python",
   "name": "python3"
  },
  "language_info": {
   "codemirror_mode": {
    "name": "ipython",
    "version": 3
   },
   "file_extension": ".py",
   "mimetype": "text/x-python",
   "name": "python",
   "nbconvert_exporter": "python",
   "pygments_lexer": "ipython3",
   "version": "3.8.5"
  }
 },
 "nbformat": 4,
 "nbformat_minor": 5
}
