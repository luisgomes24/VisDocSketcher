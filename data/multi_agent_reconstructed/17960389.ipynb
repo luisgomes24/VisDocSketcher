{
 "cells": [
  {
   "cell_type": "markdown",
   "id": "91f5852f",
   "metadata": {},
   "source": [
    "Import the pandas library to handle data manipulation."
   ]
  },
  {
   "cell_type": "code",
   "execution_count": null,
   "id": "af385051",
   "metadata": {},
   "outputs": [],
   "source": [
    "import pandas as pd"
   ]
  },
  {
   "cell_type": "markdown",
   "id": "43798ebe",
   "metadata": {},
   "source": [
    "Load the training dataset from a CSV file."
   ]
  },
  {
   "cell_type": "code",
   "execution_count": null,
   "id": "2cc59c67",
   "metadata": {},
   "outputs": [],
   "source": [
    "df_train = pd.read_csv('train_data.csv')"
   ]
  },
  {
   "cell_type": "markdown",
   "id": "7944b408",
   "metadata": {},
   "source": [
    "Load the testing dataset from a CSV file."
   ]
  },
  {
   "cell_type": "code",
   "execution_count": null,
   "id": "d6b449e4",
   "metadata": {},
   "outputs": [],
   "source": [
    "df_test = pd.read_csv('test_data.csv')"
   ]
  },
  {
   "cell_type": "markdown",
   "id": "796f3dad",
   "metadata": {},
   "source": [
    "Separate features from the target variable in the training data."
   ]
  },
  {
   "cell_type": "code",
   "execution_count": null,
   "id": "3f8a47fe",
   "metadata": {},
   "outputs": [],
   "source": [
    "X = df_train.drop('target', axis=1)"
   ]
  },
  {
   "cell_type": "markdown",
   "id": "04532dd7",
   "metadata": {},
   "source": [
    "Define the target variable from the training dataset."
   ]
  },
  {
   "cell_type": "code",
   "execution_count": null,
   "id": "0bc7fc42",
   "metadata": {},
   "outputs": [],
   "source": [
    "y = df_train['target']"
   ]
  },
  {
   "cell_type": "markdown",
   "id": "0e93aba3",
   "metadata": {},
   "source": [
    "Import the train_test_split function to split datasets."
   ]
  },
  {
   "cell_type": "code",
   "execution_count": null,
   "id": "a10b997d",
   "metadata": {},
   "outputs": [],
   "source": [
    "from sklearn.model_selection import train_test_split"
   ]
  },
  {
   "cell_type": "markdown",
   "id": "7c5bd49a",
   "metadata": {},
   "source": [
    "Split the training data into training and testing sets."
   ]
  },
  {
   "cell_type": "code",
   "execution_count": null,
   "id": "319ff1fc",
   "metadata": {},
   "outputs": [],
   "source": [
    "X_train, X_test, y_train, y_test = train_test_split(X, y, test_size=0.2, random_state=42)"
   ]
  },
  {
   "cell_type": "markdown",
   "id": "c4635e61",
   "metadata": {},
   "source": [
    "Import the Linear Regression model."
   ]
  },
  {
   "cell_type": "code",
   "execution_count": null,
   "id": "80aa3782",
   "metadata": {},
   "outputs": [],
   "source": [
    "from sklearn.linear_model import LinearRegression"
   ]
  },
  {
   "cell_type": "markdown",
   "id": "6f3a1128",
   "metadata": {},
   "source": [
    "Initialize the Linear Regression model."
   ]
  },
  {
   "cell_type": "code",
   "execution_count": null,
   "id": "e6cd66a8",
   "metadata": {},
   "outputs": [],
   "source": [
    "lr = LinearRegression()"
   ]
  },
  {
   "cell_type": "markdown",
   "id": "d5944e34",
   "metadata": {},
   "source": [
    "Train the Linear Regression model using the training data."
   ]
  },
  {
   "cell_type": "code",
   "execution_count": null,
   "id": "c4508913",
   "metadata": {},
   "outputs": [],
   "source": [
    "lr.fit(X_train, y_train)"
   ]
  },
  {
   "cell_type": "markdown",
   "id": "314923f9",
   "metadata": {},
   "source": [
    "Make predictions on the test set using the trained model."
   ]
  },
  {
   "cell_type": "code",
   "execution_count": null,
   "id": "96a971f1",
   "metadata": {},
   "outputs": [],
   "source": [
    "lr_pred = lr.predict(X_test)"
   ]
  },
  {
   "cell_type": "markdown",
   "id": "47d0609e",
   "metadata": {},
   "source": [
    "Import the Random Forest Regressor model."
   ]
  },
  {
   "cell_type": "code",
   "execution_count": null,
   "id": "cd3ac5a3",
   "metadata": {},
   "outputs": [],
   "source": [
    "from sklearn.ensemble import RandomForestRegressor"
   ]
  },
  {
   "cell_type": "markdown",
   "id": "a1d3d26a",
   "metadata": {},
   "source": [
    "Initialize the Random Forest Regressor model."
   ]
  },
  {
   "cell_type": "code",
   "execution_count": null,
   "id": "0267ce8f",
   "metadata": {},
   "outputs": [],
   "source": [
    "rfr = RandomForestRegressor()"
   ]
  },
  {
   "cell_type": "markdown",
   "id": "8357d313",
   "metadata": {},
   "source": [
    "Train the Random Forest model using the training data."
   ]
  },
  {
   "cell_type": "code",
   "execution_count": null,
   "id": "b29ed13d",
   "metadata": {},
   "outputs": [],
   "source": [
    "rfr.fit(X_train, y_train)"
   ]
  },
  {
   "cell_type": "markdown",
   "id": "1467f2cf",
   "metadata": {},
   "source": [
    "Make predictions on the test set with the Random Forest model."
   ]
  },
  {
   "cell_type": "code",
   "execution_count": null,
   "id": "39619343",
   "metadata": {},
   "outputs": [],
   "source": [
    "rfr_pred = rfr.predict(X_test)"
   ]
  },
  {
   "cell_type": "markdown",
   "id": "653a3642",
   "metadata": {},
   "source": [
    "Import the XGBoost library for gradient boosting."
   ]
  },
  {
   "cell_type": "code",
   "execution_count": null,
   "id": "0f5d030c",
   "metadata": {},
   "outputs": [],
   "source": [
    "import xgboost as xgb"
   ]
  },
  {
   "cell_type": "markdown",
   "id": "18340989",
   "metadata": {},
   "source": [
    "Initialize the XGBoost Regressor model."
   ]
  },
  {
   "cell_type": "code",
   "execution_count": null,
   "id": "f85f0ae4",
   "metadata": {},
   "outputs": [],
   "source": [
    "xgb_model = xgb.XGBRegressor()"
   ]
  },
  {
   "cell_type": "markdown",
   "id": "447628ac",
   "metadata": {},
   "source": [
    "Train the XGBoost model using the training data."
   ]
  },
  {
   "cell_type": "code",
   "execution_count": null,
   "id": "0e457410",
   "metadata": {},
   "outputs": [],
   "source": [
    "xgb_model.fit(X_train, y_train)"
   ]
  },
  {
   "cell_type": "markdown",
   "id": "6031e890",
   "metadata": {},
   "source": [
    "Make predictions on the test set using the XGBoost model."
   ]
  },
  {
   "cell_type": "code",
   "execution_count": null,
   "id": "2556440e",
   "metadata": {},
   "outputs": [],
   "source": [
    "xgb_pred = xgb_model.predict(X_test)"
   ]
  },
  {
   "cell_type": "markdown",
   "id": "b615f6e8",
   "metadata": {},
   "source": [
    "Create a final DataFrame with actual and predicted values."
   ]
  },
  {
   "cell_type": "code",
   "execution_count": null,
   "id": "6918d7b0",
   "metadata": {},
   "outputs": [],
   "source": [
    "df_final = pd.DataFrame({'Actual': y_test, 'LR_Pred': lr_pred, 'RFR_Pred': rfr_pred, 'XGB_Pred': xgb_pred})"
   ]
  },
  {
   "cell_type": "markdown",
   "id": "6ecedd39",
   "metadata": {},
   "source": [
    "Export the final DataFrame to a CSV file."
   ]
  },
  {
   "cell_type": "code",
   "execution_count": null,
   "id": "e5efe5f8",
   "metadata": {},
   "outputs": [],
   "source": [
    "df_final.to_csv('final_predictions.csv', index=False)"
   ]
  }
 ],
 "metadata": {
  "kernelspec": {
   "display_name": "Python 3",
   "language": "python",
   "name": "python3"
  },
  "language_info": {
   "codemirror_mode": {
    "name": "ipython",
    "version": 3
   },
   "file_extension": ".py",
   "mimetype": "text/x-python",
   "name": "python",
   "nbconvert_exporter": "python",
   "pygments_lexer": "ipython3",
   "version": "3.8.5"
  }
 },
 "nbformat": 4,
 "nbformat_minor": 5
}
