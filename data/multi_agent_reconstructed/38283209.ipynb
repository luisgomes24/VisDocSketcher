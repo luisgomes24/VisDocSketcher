{
 "cells": [
  {
   "cell_type": "markdown",
   "id": "e28f2f01",
   "metadata": {},
   "source": [
    "Define class A with attributes id and name."
   ]
  },
  {
   "cell_type": "code",
   "execution_count": null,
   "id": "2d25e160",
   "metadata": {},
   "outputs": [],
   "source": [
    "class A:\n",
    "    def __init__(self, id: int, name: str):\n",
    "        self.id = id\n",
    "        self.name = name"
   ]
  },
  {
   "cell_type": "markdown",
   "id": "abe1b1fd",
   "metadata": {},
   "source": [
    "Define class B with attributes id and description."
   ]
  },
  {
   "cell_type": "code",
   "execution_count": null,
   "id": "9186d3e7",
   "metadata": {},
   "outputs": [],
   "source": [
    "class B:\n",
    "    def __init__(self, id: int, description: str):\n",
    "        self.id = id\n",
    "        self.description = description"
   ]
  }
 ],
 "metadata": {
  "kernelspec": {
   "display_name": "Python 3",
   "language": "python",
   "name": "python3"
  },
  "language_info": {
   "codemirror_mode": {
    "name": "ipython",
    "version": 3
   },
   "file_extension": ".py",
   "mimetype": "text/x-python",
   "name": "python",
   "nbconvert_exporter": "python",
   "pygments_lexer": "ipython3",
   "version": "3.8.5"
  }
 },
 "nbformat": 4,
 "nbformat_minor": 5
}
