{
 "cells": [
  {
   "cell_type": "markdown",
   "id": "905bb945",
   "metadata": {},
   "source": [
    "Load the Bandcamp sales data from a CSV file into a DataFrame."
   ]
  },
  {
   "cell_type": "code",
   "execution_count": null,
   "id": "b109629b",
   "metadata": {},
   "outputs": [],
   "source": [
    "import pandas as pd\n",
    "df = pd.read_csv('bandcamp_sales_data.csv')"
   ]
  },
  {
   "cell_type": "markdown",
   "id": "db633ec2",
   "metadata": {},
   "source": [
    "Split the DataFrame into training and testing sets."
   ]
  },
  {
   "cell_type": "code",
   "execution_count": null,
   "id": "616096a0",
   "metadata": {},
   "outputs": [],
   "source": [
    "from sklearn.model_selection import train_test_split\n",
    "X_train, X_test, y_train, y_test = train_test_split(df.drop('target_column', axis=1), df['target_column'], test_size=0.2)"
   ]
  },
  {
   "cell_type": "markdown",
   "id": "d2ae2de0",
   "metadata": {},
   "source": [
    "Initialize and train a machine learning model using the training data."
   ]
  },
  {
   "cell_type": "code",
   "execution_count": null,
   "id": "6b585112",
   "metadata": {},
   "outputs": [],
   "source": [
    "from sklearn.ensemble import RandomForestClassifier\n",
    "model = RandomForestClassifier()\n",
    "model.fit(X_train, y_train)"
   ]
  },
  {
   "cell_type": "markdown",
   "id": "be79572b",
   "metadata": {},
   "source": [
    "Generate predictions using the trained model on the testing data."
   ]
  },
  {
   "cell_type": "code",
   "execution_count": null,
   "id": "f220f93c",
   "metadata": {},
   "outputs": [],
   "source": [
    "predictions = model.predict(X_test)"
   ]
  },
  {
   "cell_type": "markdown",
   "id": "11b695cf",
   "metadata": {},
   "source": [
    "Combine the test features and predictions into a single output array."
   ]
  },
  {
   "cell_type": "code",
   "execution_count": null,
   "id": "5af82ec5",
   "metadata": {},
   "outputs": [],
   "source": [
    "import numpy as np\n",
    "output = np.column_stack((X_test, predictions))"
   ]
  }
 ],
 "metadata": {
  "kernelspec": {
   "display_name": "Python 3",
   "language": "python",
   "name": "python3"
  },
  "language_info": {
   "codemirror_mode": {
    "name": "ipython",
    "version": 3
   },
   "file_extension": ".py",
   "mimetype": "text/x-python",
   "name": "python",
   "nbconvert_exporter": "python",
   "pygments_lexer": "ipython3",
   "version": "3.8.5"
  }
 },
 "nbformat": 4,
 "nbformat_minor": 5
}
