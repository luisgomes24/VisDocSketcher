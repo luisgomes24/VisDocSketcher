{
 "cells": [
  {
   "cell_type": "markdown",
   "id": "2619cf72",
   "metadata": {},
   "source": [
    "Load the diamonds dataset from a CSV file."
   ]
  },
  {
   "cell_type": "code",
   "execution_count": null,
   "id": "287dd247",
   "metadata": {},
   "outputs": [],
   "source": [
    "import pandas as pd\n",
    "\n",
    "# Load the dataset\n",
    "df = pd.read_csv('/kaggle/input/diamonds.csv')"
   ]
  },
  {
   "cell_type": "markdown",
   "id": "681f72cb",
   "metadata": {},
   "source": [
    "Split data into features (X) and target (y), then into training and testing sets."
   ]
  },
  {
   "cell_type": "code",
   "execution_count": null,
   "id": "becc03fe",
   "metadata": {},
   "outputs": [],
   "source": [
    "from sklearn.model_selection import train_test_split\n",
    "\n",
    "X = df.drop('price', axis=1)\n",
    "y = df['price']\n",
    "\n",
    "X_train, X_test, y_train, y_test = train_test_split(X, y, test_size=0.2, random_state=42)"
   ]
  },
  {
   "cell_type": "markdown",
   "id": "c5a9e2ea",
   "metadata": {},
   "source": [
    "Scale the training and testing features for improved model performance."
   ]
  },
  {
   "cell_type": "code",
   "execution_count": null,
   "id": "727a7c17",
   "metadata": {},
   "outputs": [],
   "source": [
    "from sklearn.preprocessing import StandardScaler\n",
    "\n",
    "scaler = StandardScaler()\n",
    "X_train_scaled = scaler.fit_transform(X_train)\n",
    "X_test_scaled = scaler.transform(X_test)"
   ]
  },
  {
   "cell_type": "markdown",
   "id": "26a59c56",
   "metadata": {},
   "source": [
    "Train a CatBoost Regressor model using the scaled training features."
   ]
  },
  {
   "cell_type": "code",
   "execution_count": null,
   "id": "101d1f50",
   "metadata": {},
   "outputs": [],
   "source": [
    "from catboost import CatBoostRegressor\n",
    "\n",
    "model = CatBoostRegressor()\n",
    "model.fit(X_train_scaled, y_train)"
   ]
  },
  {
   "cell_type": "markdown",
   "id": "948cee32",
   "metadata": {},
   "source": [
    "Predict the prices using the scaled test features."
   ]
  },
  {
   "cell_type": "code",
   "execution_count": null,
   "id": "87b67715",
   "metadata": {},
   "outputs": [],
   "source": [
    "y_predicted = model.predict(X_test_scaled)"
   ]
  },
  {
   "cell_type": "markdown",
   "id": "18d125ed",
   "metadata": {},
   "source": [
    "Evaluate the model using Mean Absolute Error (MAE) and Mean Squared Error (MSE)."
   ]
  },
  {
   "cell_type": "code",
   "execution_count": null,
   "id": "ca1090ed",
   "metadata": {},
   "outputs": [],
   "source": [
    "from sklearn.metrics import mean_absolute_error, mean_squared_error\n",
    "mae = mean_absolute_error(y_test, y_predicted)\n",
    "mse = mean_squared_error(y_test, y_predicted)"
   ]
  },
  {
   "cell_type": "markdown",
   "id": "a1e3b319",
   "metadata": {},
   "source": [
    "Perform correlation analysis on the dataset."
   ]
  },
  {
   "cell_type": "code",
   "execution_count": null,
   "id": "2c3cd873",
   "metadata": {},
   "outputs": [],
   "source": [
    "correlation_stats = df.corr()"
   ]
  }
 ],
 "metadata": {
  "kernelspec": {
   "display_name": "Python 3",
   "language": "python",
   "name": "python3"
  },
  "language_info": {
   "codemirror_mode": {
    "name": "ipython",
    "version": 3
   },
   "file_extension": ".py",
   "mimetype": "text/x-python",
   "name": "python",
   "nbconvert_exporter": "python",
   "pygments_lexer": "ipython3",
   "version": "3.8.5"
  }
 },
 "nbformat": 4,
 "nbformat_minor": 5
}
