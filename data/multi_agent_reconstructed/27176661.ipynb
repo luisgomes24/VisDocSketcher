{
 "cells": [
  {
   "cell_type": "markdown",
   "id": "de43623f",
   "metadata": {},
   "source": [
    "Read the CSV file into a DataFrame."
   ]
  },
  {
   "cell_type": "code",
   "execution_count": null,
   "id": "50ff55c9",
   "metadata": {},
   "outputs": [],
   "source": [
    "import pandas as pd\n",
    "df = pd.read_csv('bank.csv')"
   ]
  },
  {
   "cell_type": "markdown",
   "id": "54a00106",
   "metadata": {},
   "source": [
    "Apply One-Hot Encoding and standardize the DataFrame."
   ]
  },
  {
   "cell_type": "code",
   "execution_count": null,
   "id": "8ceddb0d",
   "metadata": {},
   "outputs": [],
   "source": [
    "df_OH = pd.get_dummies(df)\n",
    "df_OH = (df_OH - df_OH.mean()) / df_OH.std()"
   ]
  },
  {
   "cell_type": "markdown",
   "id": "46359f88",
   "metadata": {},
   "source": [
    "Initialize KMeans with 3 clusters and fit to the encoded DataFrame."
   ]
  },
  {
   "cell_type": "code",
   "execution_count": null,
   "id": "d32742ab",
   "metadata": {},
   "outputs": [],
   "source": [
    "from sklearn.cluster import KMeans\n",
    "kmeans = KMeans(n_clusters=3)\n",
    "kmeans.fit(df_OH)"
   ]
  },
  {
   "cell_type": "markdown",
   "id": "352f3446",
   "metadata": {},
   "source": [
    "Assign predicted cluster labels to the original DataFrame."
   ]
  },
  {
   "cell_type": "code",
   "execution_count": null,
   "id": "5f922c31",
   "metadata": {},
   "outputs": [],
   "source": [
    "df['clusters'] = kmeans.predict(df_OH)"
   ]
  },
  {
   "cell_type": "markdown",
   "id": "0efcf540",
   "metadata": {},
   "source": [
    "Group the original DataFrame by cluster and calculate the mean."
   ]
  },
  {
   "cell_type": "code",
   "execution_count": null,
   "id": "b6806a0d",
   "metadata": {},
   "outputs": [],
   "source": [
    "grouped = df.groupby('clusters').mean()"
   ]
  }
 ],
 "metadata": {
  "kernelspec": {
   "display_name": "Python 3",
   "language": "python",
   "name": "python3"
  },
  "language_info": {
   "codemirror_mode": {
    "name": "ipython",
    "version": 3
   },
   "file_extension": ".py",
   "mimetype": "text/x-python",
   "name": "python",
   "nbconvert_exporter": "python",
   "pygments_lexer": "ipython3",
   "version": "3.8.5"
  }
 },
 "nbformat": 4,
 "nbformat_minor": 5
}
