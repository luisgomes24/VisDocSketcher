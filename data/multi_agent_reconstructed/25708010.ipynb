{
 "cells": [
  {
   "cell_type": "markdown",
   "id": "c82a745c",
   "metadata": {},
   "source": [
    "Load the hotel ID to code mapping from a CSV file into a DataFrame."
   ]
  },
  {
   "cell_type": "code",
   "execution_count": null,
   "id": "18f966bb",
   "metadata": {},
   "outputs": [],
   "source": [
    "import pandas as pd\n",
    "\n",
    "hotel_id_code_df = pd.read_csv('hotel_id_code_mapping.csv')"
   ]
  },
  {
   "cell_type": "markdown",
   "id": "ff83e1e0",
   "metadata": {},
   "source": [
    "Construct a DataFrame from the image files present in the 'test_images' directory."
   ]
  },
  {
   "cell_type": "code",
   "execution_count": null,
   "id": "966cab9c",
   "metadata": {},
   "outputs": [],
   "source": [
    "import os\n",
    "\n",
    "image_files = [f for f in os.listdir('test_images/') if f.endswith(('.png', '.jpg', '.jpeg'))]\n",
    "test_df = pd.DataFrame({'image_file': image_files})"
   ]
  }
 ],
 "metadata": {
  "kernelspec": {
   "display_name": "Python 3",
   "language": "python",
   "name": "python3"
  },
  "language_info": {
   "codemirror_mode": {
    "name": "ipython",
    "version": 3
   },
   "file_extension": ".py",
   "mimetype": "text/x-python",
   "name": "python",
   "nbconvert_exporter": "python",
   "pygments_lexer": "ipython3",
   "version": "3.8.5"
  }
 },
 "nbformat": 4,
 "nbformat_minor": 5
}
