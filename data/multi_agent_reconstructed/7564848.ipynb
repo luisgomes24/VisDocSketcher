{
 "cells": [
  {
   "cell_type": "markdown",
   "id": "01fb73f9",
   "metadata": {},
   "source": [
    "Load data from 'error_analysis.csv' into a DataFrame named 'df1'."
   ]
  },
  {
   "cell_type": "code",
   "execution_count": null,
   "id": "e473f02b",
   "metadata": {},
   "outputs": [],
   "source": [
    "import pandas as pd\n",
    "df1 = pd.read_csv('error_analysis.csv')"
   ]
  },
  {
   "cell_type": "markdown",
   "id": "98eb2fdb",
   "metadata": {},
   "source": [
    "Generate distribution graphs for each column in 'df1'."
   ]
  },
  {
   "cell_type": "code",
   "execution_count": null,
   "id": "da5a6ce5",
   "metadata": {},
   "outputs": [],
   "source": [
    "plotPerColumnDistribution(df1)"
   ]
  },
  {
   "cell_type": "markdown",
   "id": "d2bb0057",
   "metadata": {},
   "source": [
    "Create a correlation matrix to visualize relationships between columns."
   ]
  },
  {
   "cell_type": "code",
   "execution_count": null,
   "id": "e915b221",
   "metadata": {},
   "outputs": [],
   "source": [
    "plotCorrelationMatrix(df1)"
   ]
  },
  {
   "cell_type": "markdown",
   "id": "2697d748",
   "metadata": {},
   "source": [
    "Plot scatter and density plots for pairwise columns in 'df1'."
   ]
  },
  {
   "cell_type": "code",
   "execution_count": null,
   "id": "fbb10da0",
   "metadata": {},
   "outputs": [],
   "source": [
    "plotScatterMatrix(df1)"
   ]
  }
 ],
 "metadata": {
  "kernelspec": {
   "display_name": "Python 3",
   "language": "python",
   "name": "python3"
  },
  "language_info": {
   "codemirror_mode": {
    "name": "ipython",
    "version": 3
   },
   "file_extension": ".py",
   "mimetype": "text/x-python",
   "name": "python",
   "nbconvert_exporter": "python",
   "pygments_lexer": "ipython3",
   "version": "3.8.5"
  }
 },
 "nbformat": 4,
 "nbformat_minor": 5
}
