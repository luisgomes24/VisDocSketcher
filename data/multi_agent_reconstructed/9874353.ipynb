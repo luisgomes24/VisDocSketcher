{
 "cells": [
  {
   "cell_type": "markdown",
   "id": "5d2e97f7",
   "metadata": {},
   "source": [
    "Load COVID-19 data from the CSV file into a DataFrame."
   ]
  },
  {
   "cell_type": "code",
   "execution_count": null,
   "id": "943d8757",
   "metadata": {},
   "outputs": [],
   "source": [
    "import pandas as pd\n",
    "df1 = pd.read_csv('/kaggle/input/sl_districts_coronavirus.csv')"
   ]
  },
  {
   "cell_type": "markdown",
   "id": "6013ba9c",
   "metadata": {},
   "source": [
    "Load demographic data from the CSV file into a DataFrame."
   ]
  },
  {
   "cell_type": "code",
   "execution_count": null,
   "id": "71e6c6a9",
   "metadata": {},
   "outputs": [],
   "source": [
    "df2 = pd.read_csv('/kaggle/input/sl_districts_demographics.csv')"
   ]
  },
  {
   "cell_type": "markdown",
   "id": "3959a050",
   "metadata": {},
   "source": [
    "Load info sources data from the CSV file into a DataFrame."
   ]
  },
  {
   "cell_type": "code",
   "execution_count": null,
   "id": "d0b1adaf",
   "metadata": {},
   "outputs": [],
   "source": [
    "df3 = pd.read_csv('/kaggle/input/sl_districts_info_sources.csv')"
   ]
  },
  {
   "cell_type": "markdown",
   "id": "f0244421",
   "metadata": {},
   "source": [
    "Plot the distribution of a specified column from the COVID-19 data."
   ]
  },
  {
   "cell_type": "code",
   "execution_count": null,
   "id": "653a3127",
   "metadata": {},
   "outputs": [],
   "source": [
    "import matplotlib.pyplot as plt\n",
    "plt.hist(df1['column_name'], bins=10)\n",
    "plt.title('Plotting distributions')\n",
    "plt.show()"
   ]
  },
  {
   "cell_type": "markdown",
   "id": "4bd9a682",
   "metadata": {},
   "source": [
    "Calculate the correlation matrix for the COVID-19 DataFrame."
   ]
  },
  {
   "cell_type": "code",
   "execution_count": null,
   "id": "85ccfa9a",
   "metadata": {},
   "outputs": [],
   "source": [
    "correlation_matrix = df1.corr()"
   ]
  },
  {
   "cell_type": "markdown",
   "id": "58f687b8",
   "metadata": {},
   "source": [
    "Create a scatter matrix to visualize relationships between variables."
   ]
  },
  {
   "cell_type": "code",
   "execution_count": null,
   "id": "e34f7e3f",
   "metadata": {},
   "outputs": [],
   "source": [
    "import seaborn as sns\n",
    "sns.pairplot(df1)\n",
    "plt.title('Scatter matrix')\n",
    "plt.show()"
   ]
  }
 ],
 "metadata": {
  "kernelspec": {
   "display_name": "Python 3",
   "language": "python",
   "name": "python3"
  },
  "language_info": {
   "codemirror_mode": {
    "name": "ipython",
    "version": 3
   },
   "file_extension": ".py",
   "mimetype": "text/x-python",
   "name": "python",
   "nbconvert_exporter": "python",
   "pygments_lexer": "ipython3",
   "version": "3.8.5"
  }
 },
 "nbformat": 4,
 "nbformat_minor": 5
}
