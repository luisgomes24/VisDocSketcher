{
 "cells": [
  {
   "cell_type": "markdown",
   "id": "a3999b23",
   "metadata": {},
   "source": [
    "Load the CSV file into a DataFrame using pandas."
   ]
  },
  {
   "cell_type": "code",
   "execution_count": null,
   "id": "740dc3a2",
   "metadata": {},
   "outputs": [],
   "source": [
    "import pandas as pd\n",
    "\n",
    "alpha_fold_df = pd.read_csv('alpha_fold_df.csv')"
   ]
  },
  {
   "cell_type": "markdown",
   "id": "4f3e9e7f",
   "metadata": {},
   "source": [
    "Extract unique wildtype sequences from the DataFrame."
   ]
  },
  {
   "cell_type": "code",
   "execution_count": null,
   "id": "d19423dd",
   "metadata": {},
   "outputs": [],
   "source": [
    "wildtypes = alpha_fold_df['wildtype_sequence'].unique()"
   ]
  }
 ],
 "metadata": {
  "kernelspec": {
   "display_name": "Python 3",
   "language": "python",
   "name": "python3"
  },
  "language_info": {
   "codemirror_mode": {
    "name": "ipython",
    "version": 3
   },
   "file_extension": ".py",
   "mimetype": "text/x-python",
   "name": "python",
   "nbconvert_exporter": "python",
   "pygments_lexer": "ipython3",
   "version": "3.8.5"
  }
 },
 "nbformat": 4,
 "nbformat_minor": 5
}
