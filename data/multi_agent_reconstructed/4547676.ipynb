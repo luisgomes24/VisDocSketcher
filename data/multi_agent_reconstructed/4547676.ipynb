{
 "cells": [
  {
   "cell_type": "markdown",
   "id": "3eba91b1",
   "metadata": {},
   "source": [
    "Import the bigquery library and create a client instance."
   ]
  },
  {
   "cell_type": "code",
   "execution_count": null,
   "id": "cd719651",
   "metadata": {},
   "outputs": [],
   "source": [
    "from google.cloud import bigquery\n",
    "\n",
    "client = bigquery.Client()"
   ]
  },
  {
   "cell_type": "markdown",
   "id": "c87d55a2",
   "metadata": {},
   "source": [
    "Reference the 'chicago_crime' dataset from the BigQuery public data project."
   ]
  },
  {
   "cell_type": "code",
   "execution_count": null,
   "id": "5cdeda12",
   "metadata": {},
   "outputs": [],
   "source": [
    "dataset_ref = client.dataset('chicago_crime', project='bigquery-public-data')"
   ]
  },
  {
   "cell_type": "markdown",
   "id": "c6ae41d5",
   "metadata": {},
   "source": [
    "Get the dataset object using the dataset reference."
   ]
  },
  {
   "cell_type": "code",
   "execution_count": null,
   "id": "20a9248d",
   "metadata": {},
   "outputs": [],
   "source": [
    "dataset = client.get_dataset(dataset_ref)"
   ]
  },
  {
   "cell_type": "markdown",
   "id": "27e2961c",
   "metadata": {},
   "source": [
    "List all tables present in the dataset."
   ]
  },
  {
   "cell_type": "code",
   "execution_count": null,
   "id": "09bf9f0d",
   "metadata": {},
   "outputs": [],
   "source": [
    "tables = list(client.list_tables(dataset))"
   ]
  },
  {
   "cell_type": "markdown",
   "id": "2cdf1f36",
   "metadata": {},
   "source": [
    "Extract the table IDs from the list of tables."
   ]
  },
  {
   "cell_type": "code",
   "execution_count": null,
   "id": "66cf5f1d",
   "metadata": {},
   "outputs": [],
   "source": [
    "num_tables = [table.table_id for table in tables]"
   ]
  },
  {
   "cell_type": "markdown",
   "id": "8379f644",
   "metadata": {},
   "source": [
    "Reference the 'crime' table within the dataset."
   ]
  },
  {
   "cell_type": "code",
   "execution_count": null,
   "id": "6a77f239",
   "metadata": {},
   "outputs": [],
   "source": [
    "table_ref = dataset_ref.table('crime')"
   ]
  },
  {
   "cell_type": "markdown",
   "id": "c29bb3a5",
   "metadata": {},
   "source": [
    "Get the table object using the table reference."
   ]
  },
  {
   "cell_type": "code",
   "execution_count": null,
   "id": "63d56877",
   "metadata": {},
   "outputs": [],
   "source": [
    "table = client.get_table(table_ref)"
   ]
  },
  {
   "cell_type": "markdown",
   "id": "bce6e383",
   "metadata": {},
   "source": [
    "Define the fields to be used for plotting."
   ]
  },
  {
   "cell_type": "code",
   "execution_count": null,
   "id": "05d3f6f1",
   "metadata": {},
   "outputs": [],
   "source": [
    "fields_for_plotting = ['latitude', 'longitude']"
   ]
  }
 ],
 "metadata": {
  "kernelspec": {
   "display_name": "Python 3",
   "language": "python",
   "name": "python3"
  },
  "language_info": {
   "codemirror_mode": {
    "name": "ipython",
    "version": 3
   },
   "file_extension": ".py",
   "mimetype": "text/x-python",
   "name": "python",
   "nbconvert_exporter": "python",
   "pygments_lexer": "ipython3",
   "version": "3.8.5"
  }
 },
 "nbformat": 4,
 "nbformat_minor": 5
}
