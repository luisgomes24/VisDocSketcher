{
 "cells": [
  {
   "cell_type": "markdown",
   "id": "ebdb832f",
   "metadata": {},
   "source": [
    "Import the pandas library, which is essential for data manipulation in Python."
   ]
  },
  {
   "cell_type": "code",
   "execution_count": null,
   "id": "068fd5d4",
   "metadata": {},
   "outputs": [],
   "source": [
    "import pandas as pd"
   ]
  },
  {
   "cell_type": "markdown",
   "id": "ecef1382",
   "metadata": {},
   "source": [
    "Load the data from 'train.csv' into a pandas DataFrame named 'train_df'."
   ]
  },
  {
   "cell_type": "code",
   "execution_count": null,
   "id": "b7d2202c",
   "metadata": {},
   "outputs": [],
   "source": [
    "train_df = pd.read_csv('train.csv')"
   ]
  }
 ],
 "metadata": {
  "kernelspec": {
   "display_name": "Python 3",
   "language": "python",
   "name": "python3"
  },
  "language_info": {
   "codemirror_mode": {
    "name": "ipython",
    "version": 3
   },
   "file_extension": ".py",
   "mimetype": "text/x-python",
   "name": "python",
   "nbconvert_exporter": "python",
   "pygments_lexer": "ipython3",
   "version": "3.8.5"
  }
 },
 "nbformat": 4,
 "nbformat_minor": 5
}
