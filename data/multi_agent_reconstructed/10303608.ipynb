{
 "cells": [
  {
   "cell_type": "markdown",
   "id": "5ce79713",
   "metadata": {},
   "source": [
    "Load the CSV file into a DataFrame named 'df1' using pandas."
   ]
  },
  {
   "cell_type": "code",
   "execution_count": null,
   "id": "d907c483",
   "metadata": {},
   "outputs": [],
   "source": [
    "import pandas as pd\n",
    "df1 = pd.read_csv('imdb_movie_data.csv')"
   ]
  },
  {
   "cell_type": "markdown",
   "id": "f969c38a",
   "metadata": {},
   "source": [
    "Set the styling for the visualizations using Seaborn and Matplotlib."
   ]
  },
  {
   "cell_type": "code",
   "execution_count": null,
   "id": "9f441c5a",
   "metadata": {},
   "outputs": [],
   "source": [
    "import seaborn as sns\n",
    "import matplotlib.pyplot as plt\n",
    "sns.set(style='whitegrid')"
   ]
  },
  {
   "cell_type": "markdown",
   "id": "687657d9",
   "metadata": {},
   "source": [
    "Perform exploratory data analysis (EDA) to summarize the DataFrame's statistics."
   ]
  },
  {
   "cell_type": "code",
   "execution_count": null,
   "id": "f3cade28",
   "metadata": {},
   "outputs": [],
   "source": [
    "df1.describe()"
   ]
  },
  {
   "cell_type": "markdown",
   "id": "c4bcd573",
   "metadata": {},
   "source": [
    "Create pair plots to visualize relationships between features in 'df1'."
   ]
  },
  {
   "cell_type": "code",
   "execution_count": null,
   "id": "393ced21",
   "metadata": {},
   "outputs": [],
   "source": [
    "sns.pairplot(df1)\n",
    "plt.show()"
   ]
  },
  {
   "cell_type": "markdown",
   "id": "2006b475",
   "metadata": {},
   "source": [
    "Generate a heatmap to show correlations between different variables in the dataset."
   ]
  },
  {
   "cell_type": "code",
   "execution_count": null,
   "id": "fb8c1931",
   "metadata": {},
   "outputs": [],
   "source": [
    "sns.heatmap(df1.corr(), annot=True, cmap='coolwarm')\n",
    "plt.show()"
   ]
  }
 ],
 "metadata": {
  "kernelspec": {
   "display_name": "Python 3",
   "language": "python",
   "name": "python3"
  },
  "language_info": {
   "codemirror_mode": {
    "name": "ipython",
    "version": 3
   },
   "file_extension": ".py",
   "mimetype": "text/x-python",
   "name": "python",
   "nbconvert_exporter": "python",
   "pygments_lexer": "ipython3",
   "version": "3.8.5"
  }
 },
 "nbformat": 4,
 "nbformat_minor": 5
}
