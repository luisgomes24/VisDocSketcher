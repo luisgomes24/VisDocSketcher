{
 "cells": [
  {
   "cell_type": "markdown",
   "id": "6600a78d",
   "metadata": {},
   "source": [
    "Defines the type of product as 'mobile'."
   ]
  },
  {
   "cell_type": "code",
   "execution_count": null,
   "id": "6a5c55cf",
   "metadata": {},
   "outputs": [],
   "source": [
    "product_type = 'mobile'"
   ]
  },
  {
   "cell_type": "markdown",
   "id": "fa88cd83",
   "metadata": {},
   "source": [
    "Creates a Mobile class and instances mob1 and mob2 with brand and price."
   ]
  },
  {
   "cell_type": "code",
   "execution_count": null,
   "id": "328007d2",
   "metadata": {},
   "outputs": [],
   "source": [
    "class Mobile:\n",
    "    def __init__(self, brand, price):\n",
    "        self.brand = brand\n",
    "        self.price = price\n",
    "mob1 = Mobile('BrandA', 500)\n",
    "mob2 = Mobile('BrandB', 600)"
   ]
  },
  {
   "cell_type": "markdown",
   "id": "3c640528",
   "metadata": {},
   "source": [
    "Defines a function to return the price of the mobile product."
   ]
  },
  {
   "cell_type": "code",
   "execution_count": null,
   "id": "26037658",
   "metadata": {},
   "outputs": [],
   "source": [
    "def purchase_product(mobile):\n",
    "    return mobile.price"
   ]
  },
  {
   "cell_type": "markdown",
   "id": "e5881122",
   "metadata": {},
   "source": [
    "Calls the purchase_product function for mob1 and stores the price."
   ]
  },
  {
   "cell_type": "code",
   "execution_count": null,
   "id": "97437caf",
   "metadata": {},
   "outputs": [],
   "source": [
    "price = purchase_product(mob1)"
   ]
  },
  {
   "cell_type": "markdown",
   "id": "1eab2ed8",
   "metadata": {},
   "source": [
    "Calculates a discount of 10% on the price."
   ]
  },
  {
   "cell_type": "code",
   "execution_count": null,
   "id": "e643e92b",
   "metadata": {},
   "outputs": [],
   "source": [
    "discount = 0.1 * price"
   ]
  },
  {
   "cell_type": "markdown",
   "id": "ff7e7e45",
   "metadata": {},
   "source": [
    "Calculates the total price after applying the discount."
   ]
  },
  {
   "cell_type": "code",
   "execution_count": null,
   "id": "534a45d0",
   "metadata": {},
   "outputs": [],
   "source": [
    "total_price = price - discount"
   ]
  },
  {
   "cell_type": "markdown",
   "id": "5be582b6",
   "metadata": {},
   "source": [
    "Prints the final output of the total price."
   ]
  },
  {
   "cell_type": "code",
   "execution_count": null,
   "id": "e9c99277",
   "metadata": {},
   "outputs": [],
   "source": [
    "print('Final Output:', total_price)"
   ]
  }
 ],
 "metadata": {
  "kernelspec": {
   "display_name": "Python 3",
   "language": "python",
   "name": "python3"
  },
  "language_info": {
   "codemirror_mode": {
    "name": "ipython",
    "version": 3
   },
   "file_extension": ".py",
   "mimetype": "text/x-python",
   "name": "python",
   "nbconvert_exporter": "python",
   "pygments_lexer": "ipython3",
   "version": "3.8.5"
  }
 },
 "nbformat": 4,
 "nbformat_minor": 5
}
