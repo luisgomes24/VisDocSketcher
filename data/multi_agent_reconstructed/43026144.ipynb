{
 "cells": [
  {
   "cell_type": "markdown",
   "id": "cc36a4c3",
   "metadata": {},
   "source": [
    "Load the dataset into a DataFrame."
   ]
  },
  {
   "cell_type": "code",
   "execution_count": null,
   "id": "1c05d029",
   "metadata": {},
   "outputs": [],
   "source": [
    "import pandas as pd\n",
    "\n",
    "df = pd.read_csv('university_rankings_2023.csv')"
   ]
  },
  {
   "cell_type": "markdown",
   "id": "a23e0f47",
   "metadata": {},
   "source": [
    "Drop the target column to create features dataset x."
   ]
  },
  {
   "cell_type": "code",
   "execution_count": null,
   "id": "72c857e8",
   "metadata": {},
   "outputs": [],
   "source": [
    "x = df.drop(columns=['target_column'])"
   ]
  },
  {
   "cell_type": "markdown",
   "id": "90bde79b",
   "metadata": {},
   "source": [
    "Extract the target variable y from the DataFrame."
   ]
  },
  {
   "cell_type": "code",
   "execution_count": null,
   "id": "90ea67fd",
   "metadata": {},
   "outputs": [],
   "source": [
    "y = df['target_column']"
   ]
  },
  {
   "cell_type": "markdown",
   "id": "605d2900",
   "metadata": {},
   "source": [
    "Split the data into training and testing sets."
   ]
  },
  {
   "cell_type": "code",
   "execution_count": null,
   "id": "51aafc38",
   "metadata": {},
   "outputs": [],
   "source": [
    "from sklearn.model_selection import train_test_split\n",
    "x_train, x_test, y_train, y_test = train_test_split(x, y, test_size=0.2, random_state=42)"
   ]
  },
  {
   "cell_type": "markdown",
   "id": "0340bbf9",
   "metadata": {},
   "source": [
    "Initialize the Random Forest Classifier with specified parameters."
   ]
  },
  {
   "cell_type": "code",
   "execution_count": null,
   "id": "28374113",
   "metadata": {},
   "outputs": [],
   "source": [
    "from sklearn.ensemble import RandomForestClassifier\n",
    "model = RandomForestClassifier(criterion='entropy', n_estimators=200)"
   ]
  },
  {
   "cell_type": "markdown",
   "id": "a9d3e666",
   "metadata": {},
   "source": [
    "Train the model using the training dataset."
   ]
  },
  {
   "cell_type": "code",
   "execution_count": null,
   "id": "b99e9dce",
   "metadata": {},
   "outputs": [],
   "source": [
    "model.fit(x_train, y_train)"
   ]
  },
  {
   "cell_type": "markdown",
   "id": "3773d845",
   "metadata": {},
   "source": [
    "Make predictions on the test dataset."
   ]
  },
  {
   "cell_type": "code",
   "execution_count": null,
   "id": "4d550972",
   "metadata": {},
   "outputs": [],
   "source": [
    "y_pred = model.predict(x_test)"
   ]
  },
  {
   "cell_type": "markdown",
   "id": "a309ec69",
   "metadata": {},
   "source": [
    "Calculate the accuracy of the model predictions."
   ]
  },
  {
   "cell_type": "code",
   "execution_count": null,
   "id": "c923fba9",
   "metadata": {},
   "outputs": [],
   "source": [
    "from sklearn.metrics import accuracy_score\n",
    "accuracy = accuracy_score(y_test, y_pred)"
   ]
  }
 ],
 "metadata": {
  "kernelspec": {
   "display_name": "Python 3",
   "language": "python",
   "name": "python3"
  },
  "language_info": {
   "codemirror_mode": {
    "name": "ipython",
    "version": 3
   },
   "file_extension": ".py",
   "mimetype": "text/x-python",
   "name": "python",
   "nbconvert_exporter": "python",
   "pygments_lexer": "ipython3",
   "version": "3.8.5"
  }
 },
 "nbformat": 4,
 "nbformat_minor": 5
}
