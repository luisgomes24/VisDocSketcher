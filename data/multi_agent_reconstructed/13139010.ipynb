{
 "cells": [
  {
   "cell_type": "markdown",
   "id": "cceddc92",
   "metadata": {},
   "source": [
    "Read DICOM images from a specified directory using pydicom."
   ]
  },
  {
   "cell_type": "code",
   "execution_count": null,
   "id": "435c4155",
   "metadata": {},
   "outputs": [],
   "source": [
    "import pydicom\n",
    "import pandas as pd\n",
    "\n",
    "def read_dicom_images(directory):\n",
    "    images = []\n",
    "    for filename in os.listdir(directory):\n",
    "        if filename.endswith('.dcm'):\n",
    "            img = pydicom.dcmread(os.path.join(directory, filename))\n",
    "            images.append(img)\n",
    "    return images"
   ]
  },
  {
   "cell_type": "markdown",
   "id": "4a390210",
   "metadata": {},
   "source": [
    "Read the CSV metadata file using pandas."
   ]
  },
  {
   "cell_type": "code",
   "execution_count": null,
   "id": "7ae67bc9",
   "metadata": {},
   "outputs": [],
   "source": [
    "def read_csv_metadata(file_path):\n",
    "    metadata = pd.read_csv(file_path)\n",
    "    return metadata"
   ]
  }
 ],
 "metadata": {
  "kernelspec": {
   "display_name": "Python 3",
   "language": "python",
   "name": "python3"
  },
  "language_info": {
   "codemirror_mode": {
    "name": "ipython",
    "version": 3
   },
   "file_extension": ".py",
   "mimetype": "text/x-python",
   "name": "python",
   "nbconvert_exporter": "python",
   "pygments_lexer": "ipython3",
   "version": "3.8.5"
  }
 },
 "nbformat": 4,
 "nbformat_minor": 5
}
