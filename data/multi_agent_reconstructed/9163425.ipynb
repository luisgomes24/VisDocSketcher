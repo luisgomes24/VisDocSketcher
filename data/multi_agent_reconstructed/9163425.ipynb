{
 "cells": [
  {
   "cell_type": "markdown",
   "id": "e81adc44",
   "metadata": {},
   "source": [
    "Define the size of images to be used for training."
   ]
  },
  {
   "cell_type": "code",
   "execution_count": null,
   "id": "82142007",
   "metadata": {},
   "outputs": [],
   "source": [
    "image_size = (224, 224)"
   ]
  },
  {
   "cell_type": "markdown",
   "id": "5e7ee27d",
   "metadata": {},
   "source": [
    "Set the batch size for processing during training."
   ]
  },
  {
   "cell_type": "code",
   "execution_count": null,
   "id": "61fd5f68",
   "metadata": {},
   "outputs": [],
   "source": [
    "batch_size = 32"
   ]
  },
  {
   "cell_type": "markdown",
   "id": "936adf23",
   "metadata": {},
   "source": [
    "List the classes of flowers for classification."
   ]
  },
  {
   "cell_type": "code",
   "execution_count": null,
   "id": "bda5e924",
   "metadata": {},
   "outputs": [],
   "source": [
    "flower_classes = ['daisy', 'dandelion', 'roses', 'sunflowers', 'tulips']"
   ]
  },
  {
   "cell_type": "markdown",
   "id": "c4602892",
   "metadata": {},
   "source": [
    "Set the base path for accessing data in the GCS bucket."
   ]
  },
  {
   "cell_type": "code",
   "execution_count": null,
   "id": "ac57acc7",
   "metadata": {},
   "outputs": [],
   "source": [
    "gcs_base_path = 'gs://your-bucket/data/'"
   ]
  },
  {
   "cell_type": "markdown",
   "id": "d9446788",
   "metadata": {},
   "source": [
    "Define the path for accessing training filenames."
   ]
  },
  {
   "cell_type": "code",
   "execution_count": null,
   "id": "d935e6e9",
   "metadata": {},
   "outputs": [],
   "source": [
    "training_filenames = gcs_base_path + 'training.txt'"
   ]
  },
  {
   "cell_type": "markdown",
   "id": "9e7e019c",
   "metadata": {},
   "source": [
    "Define the path for accessing validation filenames."
   ]
  },
  {
   "cell_type": "code",
   "execution_count": null,
   "id": "3c473553",
   "metadata": {},
   "outputs": [],
   "source": [
    "validation_filenames = gcs_base_path + 'validation.txt'"
   ]
  },
  {
   "cell_type": "markdown",
   "id": "4d74bce4",
   "metadata": {},
   "source": [
    "Define the path for accessing test filenames."
   ]
  },
  {
   "cell_type": "code",
   "execution_count": null,
   "id": "8573e01c",
   "metadata": {},
   "outputs": [],
   "source": [
    "test_filenames = gcs_base_path + 'test.txt'"
   ]
  },
  {
   "cell_type": "markdown",
   "id": "7defe0e7",
   "metadata": {},
   "source": [
    "Fetch the batched training dataset."
   ]
  },
  {
   "cell_type": "code",
   "execution_count": null,
   "id": "e61f931b",
   "metadata": {},
   "outputs": [],
   "source": [
    "train_dataset = get_batched_dataset(training_filenames, labeled=True, train=True)"
   ]
  },
  {
   "cell_type": "markdown",
   "id": "25853756",
   "metadata": {},
   "source": [
    "Fetch the batched validation dataset."
   ]
  },
  {
   "cell_type": "code",
   "execution_count": null,
   "id": "84ca5c87",
   "metadata": {},
   "outputs": [],
   "source": [
    "val_dataset = get_batched_dataset(validation_filenames, labeled=True)"
   ]
  },
  {
   "cell_type": "markdown",
   "id": "622f8431",
   "metadata": {},
   "source": [
    "Fetch the batched test dataset for evaluation."
   ]
  },
  {
   "cell_type": "code",
   "execution_count": null,
   "id": "f856f08b",
   "metadata": {},
   "outputs": [],
   "source": [
    "test_dataset = get_batched_dataset(test_filenames, labeled=False)"
   ]
  },
  {
   "cell_type": "markdown",
   "id": "fcb58ed4",
   "metadata": {},
   "source": [
    "Initialize the EfficientNetB0 model for training."
   ]
  },
  {
   "cell_type": "code",
   "execution_count": null,
   "id": "c74987a4",
   "metadata": {},
   "outputs": [],
   "source": [
    "model = EfficientNetB0()"
   ]
  }
 ],
 "metadata": {
  "kernelspec": {
   "display_name": "Python 3",
   "language": "python",
   "name": "python3"
  },
  "language_info": {
   "codemirror_mode": {
    "name": "ipython",
    "version": 3
   },
   "file_extension": ".py",
   "mimetype": "text/x-python",
   "name": "python",
   "nbconvert_exporter": "python",
   "pygments_lexer": "ipython3",
   "version": "3.8.5"
  }
 },
 "nbformat": 4,
 "nbformat_minor": 5
}
