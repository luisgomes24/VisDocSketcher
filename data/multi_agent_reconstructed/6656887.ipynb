{
 "cells": [
  {
   "cell_type": "markdown",
   "id": "09a7155e",
   "metadata": {},
   "source": [
    "Read the training CSV file into a DataFrame."
   ]
  },
  {
   "cell_type": "code",
   "execution_count": null,
   "id": "20cd15e1",
   "metadata": {},
   "outputs": [],
   "source": [
    "import pandas as pd\n",
    "train_pd = pd.read_csv('train.csv')"
   ]
  },
  {
   "cell_type": "markdown",
   "id": "94eea386",
   "metadata": {},
   "source": [
    "Read the building metadata CSV file."
   ]
  },
  {
   "cell_type": "code",
   "execution_count": null,
   "id": "02c80528",
   "metadata": {},
   "outputs": [],
   "source": [
    "train_building_pd = pd.read_csv('building_metadata.csv')"
   ]
  },
  {
   "cell_type": "markdown",
   "id": "92b48161",
   "metadata": {},
   "source": [
    "Merge training data with building metadata."
   ]
  },
  {
   "cell_type": "code",
   "execution_count": null,
   "id": "8ca74b32",
   "metadata": {},
   "outputs": [],
   "source": [
    "train_pd = train_pd.merge(train_building_pd, on='building_id')"
   ]
  },
  {
   "cell_type": "markdown",
   "id": "380556c3",
   "metadata": {},
   "source": [
    "Filter the training data for site1."
   ]
  },
  {
   "cell_type": "code",
   "execution_count": null,
   "id": "ed9ae1c1",
   "metadata": {},
   "outputs": [],
   "source": [
    "train_pd = train_pd[train_pd['site_id'] == 1]"
   ]
  },
  {
   "cell_type": "markdown",
   "id": "6d10e52d",
   "metadata": {},
   "source": [
    "Read the test CSV file into a DataFrame."
   ]
  },
  {
   "cell_type": "code",
   "execution_count": null,
   "id": "f54c08fd",
   "metadata": {},
   "outputs": [],
   "source": [
    "test_pd = pd.read_csv('test.csv')"
   ]
  },
  {
   "cell_type": "markdown",
   "id": "f3f04f98",
   "metadata": {},
   "source": [
    "Merge test data with building metadata."
   ]
  },
  {
   "cell_type": "code",
   "execution_count": null,
   "id": "63ab8359",
   "metadata": {},
   "outputs": [],
   "source": [
    "test_pd = test_pd.merge(train_building_pd, on='building_id')"
   ]
  },
  {
   "cell_type": "markdown",
   "id": "6cf23809",
   "metadata": {},
   "source": [
    "Filter the test data for site1."
   ]
  },
  {
   "cell_type": "code",
   "execution_count": null,
   "id": "8f738c2e",
   "metadata": {},
   "outputs": [],
   "source": [
    "test_pd = test_pd[test_pd['site_id'] == 1]"
   ]
  },
  {
   "cell_type": "markdown",
   "id": "e0848f9b",
   "metadata": {},
   "source": [
    "Read the scraped data CSV for site1."
   ]
  },
  {
   "cell_type": "code",
   "execution_count": null,
   "id": "e16f81a6",
   "metadata": {},
   "outputs": [],
   "source": [
    "site1_pd = pd.read_csv('site1_scraped.csv')"
   ]
  },
  {
   "cell_type": "markdown",
   "id": "21c65220",
   "metadata": {},
   "source": [
    "Join the filtered train data with site1 scraped data."
   ]
  },
  {
   "cell_type": "code",
   "execution_count": null,
   "id": "e6d295ba",
   "metadata": {},
   "outputs": [],
   "source": [
    "train_pd = train_pd.merge(site1_pd, on='common_column')"
   ]
  },
  {
   "cell_type": "markdown",
   "id": "010f9bb9",
   "metadata": {},
   "source": [
    "Join the filtered test data with site1 scraped data."
   ]
  },
  {
   "cell_type": "code",
   "execution_count": null,
   "id": "dce31b2d",
   "metadata": {},
   "outputs": [],
   "source": [
    "test_pd = test_pd.merge(site1_pd, on='common_column')"
   ]
  },
  {
   "cell_type": "markdown",
   "id": "57fcbf07",
   "metadata": {},
   "source": [
    "Concatenate the train and test data into one DataFrame."
   ]
  },
  {
   "cell_type": "code",
   "execution_count": null,
   "id": "5d208d5b",
   "metadata": {},
   "outputs": [],
   "source": [
    "full_pd = pd.concat([train_pd, test_pd])"
   ]
  }
 ],
 "metadata": {
  "kernelspec": {
   "display_name": "Python 3",
   "language": "python",
   "name": "python3"
  },
  "language_info": {
   "codemirror_mode": {
    "name": "ipython",
    "version": 3
   },
   "file_extension": ".py",
   "mimetype": "text/x-python",
   "name": "python",
   "nbconvert_exporter": "python",
   "pygments_lexer": "ipython3",
   "version": "3.8.5"
  }
 },
 "nbformat": 4,
 "nbformat_minor": 5
}
