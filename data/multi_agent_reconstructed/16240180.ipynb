{
 "cells": [
  {
   "cell_type": "markdown",
   "id": "6a3c6785",
   "metadata": {},
   "source": [
    "Import libraries and generate data points along with random errors."
   ]
  },
  {
   "cell_type": "code",
   "execution_count": null,
   "id": "0f46b297",
   "metadata": {},
   "outputs": [],
   "source": [
    "import numpy as np\n",
    "import pandas as pd\n",
    "import matplotlib.pyplot as plt\n",
    "\n",
    "# Generate data\n",
    "N = 100\n",
    "N_x = N\n",
    "epsilon = np.random.normal(0, 1, N)\n"
   ]
  },
  {
   "cell_type": "markdown",
   "id": "554408e1",
   "metadata": {},
   "source": [
    "Calculate and print the total number of points generated."
   ]
  },
  {
   "cell_type": "code",
   "execution_count": null,
   "id": "92735d5a",
   "metadata": {},
   "outputs": [],
   "source": [
    "# Calculate total points\n",
    "print(N)\n"
   ]
  },
  {
   "cell_type": "markdown",
   "id": "b6d46b49",
   "metadata": {},
   "source": [
    "Generate x values uniformly between 0 and 10 and visualize them."
   ]
  },
  {
   "cell_type": "code",
   "execution_count": null,
   "id": "7a36b83b",
   "metadata": {},
   "outputs": [],
   "source": [
    "x = np.random.uniform(0, 10, N_x)\n",
    "plt.scatter(x, np.zeros(N_x))\n",
    "plt.title('Generated x Values')\n",
    "plt.show()\n"
   ]
  },
  {
   "cell_type": "markdown",
   "id": "dd559f0f",
   "metadata": {},
   "source": [
    "Define the linear equation (lambda equation) for generating true y values."
   ]
  },
  {
   "cell_type": "code",
   "execution_count": null,
   "id": "baa85320",
   "metadata": {},
   "outputs": [],
   "source": [
    "lambda_eq = 3 * x + 5\n"
   ]
  },
  {
   "cell_type": "markdown",
   "id": "3909af64",
   "metadata": {},
   "source": [
    "Calculate true y values by adding random errors to the linear equation results."
   ]
  },
  {
   "cell_type": "code",
   "execution_count": null,
   "id": "4ecc2a60",
   "metadata": {},
   "outputs": [],
   "source": [
    "y = lambda_eq + epsilon\n"
   ]
  },
  {
   "cell_type": "markdown",
   "id": "252a685d",
   "metadata": {},
   "source": [
    "Calculate measured y values by introducing some noise."
   ]
  },
  {
   "cell_type": "code",
   "execution_count": null,
   "id": "27ede18b",
   "metadata": {},
   "outputs": [],
   "source": [
    "y_measure = y + np.random.normal(0, 0.5, N)\n"
   ]
  },
  {
   "cell_type": "markdown",
   "id": "79843ead",
   "metadata": {},
   "source": [
    "Create a DataFrame to organize the x, true y, and measured y values."
   ]
  },
  {
   "cell_type": "code",
   "execution_count": null,
   "id": "967b4ee5",
   "metadata": {},
   "outputs": [],
   "source": [
    "df = pd.DataFrame({'x': x, 'y': y, 'y_measure': y_measure})\n"
   ]
  },
  {
   "cell_type": "markdown",
   "id": "88036523",
   "metadata": {},
   "source": [
    "Plot true y against measured y for visualization."
   ]
  },
  {
   "cell_type": "code",
   "execution_count": null,
   "id": "f8cc5953",
   "metadata": {},
   "outputs": [],
   "source": [
    "plt.scatter(df['x'], df['y'], label='True y')\n",
    "plt.scatter(df['x'], df['y_measure'], label='Measured y')\n",
    "plt.legend()\n",
    "plt.title('y vs. y_measure')\n",
    "plt.show()\n"
   ]
  },
  {
   "cell_type": "markdown",
   "id": "b06c4565",
   "metadata": {},
   "source": [
    "Import and initialize the linear regression model."
   ]
  },
  {
   "cell_type": "code",
   "execution_count": null,
   "id": "6689cd40",
   "metadata": {},
   "outputs": [],
   "source": [
    "from sklearn.linear_model import LinearRegression\n",
    "model = LinearRegression()\n"
   ]
  },
  {
   "cell_type": "markdown",
   "id": "2826bd45",
   "metadata": {},
   "source": [
    "Fit the linear regression model using the input x values and measured y values."
   ]
  },
  {
   "cell_type": "code",
   "execution_count": null,
   "id": "80c928ae",
   "metadata": {},
   "outputs": [],
   "source": [
    "model.fit(df[['x']], df['y_measure'])\n"
   ]
  },
  {
   "cell_type": "markdown",
   "id": "16be6391",
   "metadata": {},
   "source": [
    "Define hyperparameters for the model."
   ]
  },
  {
   "cell_type": "code",
   "execution_count": null,
   "id": "4a53d12d",
   "metadata": {},
   "outputs": [],
   "source": [
    "alpha = 10\n",
    "beta = 60\n"
   ]
  }
 ],
 "metadata": {
  "kernelspec": {
   "display_name": "Python 3",
   "language": "python",
   "name": "python3"
  },
  "language_info": {
   "codemirror_mode": {
    "name": "ipython",
    "version": 3
   },
   "file_extension": ".py",
   "mimetype": "text/x-python",
   "name": "python",
   "nbconvert_exporter": "python",
   "pygments_lexer": "ipython3",
   "version": "3.8.5"
  }
 },
 "nbformat": 4,
 "nbformat_minor": 5
}
