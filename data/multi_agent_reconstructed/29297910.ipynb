{
 "cells": [
  {
   "cell_type": "markdown",
   "id": "13478fbc",
   "metadata": {},
   "source": [
    "Load the training data from 'train.csv' into a DataFrame."
   ]
  },
  {
   "cell_type": "code",
   "execution_count": null,
   "id": "af620102",
   "metadata": {},
   "outputs": [],
   "source": [
    "import pandas as pd\n",
    "df_train = pd.read_csv('train.csv')"
   ]
  },
  {
   "cell_type": "markdown",
   "id": "fc78d9e3",
   "metadata": {},
   "source": [
    "Create a copy of the training DataFrame for further processing."
   ]
  },
  {
   "cell_type": "code",
   "execution_count": null,
   "id": "541bc89c",
   "metadata": {},
   "outputs": [],
   "source": [
    "df_all = df_train.copy()"
   ]
  },
  {
   "cell_type": "markdown",
   "id": "0db472f6",
   "metadata": {},
   "source": [
    "Split the data into features (X) and target (y), then further into training and validation sets."
   ]
  },
  {
   "cell_type": "code",
   "execution_count": null,
   "id": "33ca5e4e",
   "metadata": {},
   "outputs": [],
   "source": [
    "from sklearn.model_selection import train_test_split\n",
    "X, y = df_all.drop('target', axis=1), df_all['target']\n",
    "X_train, X_valid, y_train, y_valid = train_test_split(X, y, test_size=0.2)"
   ]
  },
  {
   "cell_type": "markdown",
   "id": "6d61b94d",
   "metadata": {},
   "source": [
    "Encode categorical features using OneHotEncoder."
   ]
  },
  {
   "cell_type": "code",
   "execution_count": null,
   "id": "5071f439",
   "metadata": {},
   "outputs": [],
   "source": [
    "from sklearn.preprocessing import OneHotEncoder\n",
    "encoders = OneHotEncoder(handle_unknown='ignore')\n",
    "df_train_encoded = encoders.fit_transform(X_train)"
   ]
  },
  {
   "cell_type": "markdown",
   "id": "0ff38200",
   "metadata": {},
   "source": [
    "Load the test data from 'test.csv' and apply the same encoding."
   ]
  },
  {
   "cell_type": "code",
   "execution_count": null,
   "id": "1bc368ae",
   "metadata": {},
   "outputs": [],
   "source": [
    "df_test = pd.read_csv('test.csv')\n",
    "df_test_encoded = encoders.transform(df_test)"
   ]
  },
  {
   "cell_type": "markdown",
   "id": "74986746",
   "metadata": {},
   "source": [
    "Initialize and train a TPOT classifier model using the encoded training data."
   ]
  },
  {
   "cell_type": "code",
   "execution_count": null,
   "id": "53780f9f",
   "metadata": {},
   "outputs": [],
   "source": [
    "from tpot import TPOTClassifier\n",
    "model_tpot = TPOTClassifier()\n",
    "model_tpot.fit(df_train_encoded, y_train)"
   ]
  },
  {
   "cell_type": "markdown",
   "id": "32ea8a2b",
   "metadata": {},
   "source": [
    "Make predictions on the encoded test data using the trained model."
   ]
  },
  {
   "cell_type": "code",
   "execution_count": null,
   "id": "d94c024a",
   "metadata": {},
   "outputs": [],
   "source": [
    "predictions = model_tpot.predict(df_test_encoded)"
   ]
  },
  {
   "cell_type": "markdown",
   "id": "7ce9d716",
   "metadata": {},
   "source": [
    "Load the sample submission format and populate it with the predictions."
   ]
  },
  {
   "cell_type": "code",
   "execution_count": null,
   "id": "b72562ef",
   "metadata": {},
   "outputs": [],
   "source": [
    "df_submission = pd.read_csv('sample_submission.csv')\n",
    "df_submission['target'] = predictions"
   ]
  },
  {
   "cell_type": "markdown",
   "id": "a46b0e94",
   "metadata": {},
   "source": [
    "Save the submission DataFrame to 'submission.csv' without the index."
   ]
  },
  {
   "cell_type": "code",
   "execution_count": null,
   "id": "6402fa06",
   "metadata": {},
   "outputs": [],
   "source": [
    "df_submission.to_csv('submission.csv', index=False)"
   ]
  }
 ],
 "metadata": {
  "kernelspec": {
   "display_name": "Python 3",
   "language": "python",
   "name": "python3"
  },
  "language_info": {
   "codemirror_mode": {
    "name": "ipython",
    "version": 3
   },
   "file_extension": ".py",
   "mimetype": "text/x-python",
   "name": "python",
   "nbconvert_exporter": "python",
   "pygments_lexer": "ipython3",
   "version": "3.8.5"
  }
 },
 "nbformat": 4,
 "nbformat_minor": 5
}
