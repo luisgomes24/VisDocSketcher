{
 "cells": [
  {
   "cell_type": "markdown",
   "id": "330dc8c6",
   "metadata": {},
   "source": [
    "Load the CSV file 'mff.csv' into a DataFrame named df1."
   ]
  },
  {
   "cell_type": "code",
   "execution_count": null,
   "id": "26445fde",
   "metadata": {},
   "outputs": [],
   "source": [
    "import pandas as pd\n",
    "df1 = pd.read_csv('mff.csv')"
   ]
  },
  {
   "cell_type": "markdown",
   "id": "ce827073",
   "metadata": {},
   "source": [
    "Preview the first five rows of the DataFrame df1."
   ]
  },
  {
   "cell_type": "code",
   "execution_count": null,
   "id": "61a27c05",
   "metadata": {},
   "outputs": [],
   "source": [
    "print(df1.head(5))"
   ]
  },
  {
   "cell_type": "markdown",
   "id": "fd8bfacb",
   "metadata": {},
   "source": [
    "Define a function to plot the distribution for each column in the DataFrame using seaborn."
   ]
  },
  {
   "cell_type": "code",
   "execution_count": null,
   "id": "816de98e",
   "metadata": {},
   "outputs": [],
   "source": [
    "import matplotlib.pyplot as plt\n",
    "import seaborn as sns\n",
    "def plotPerColumnDistribution(df):\n",
    "    for column in df.columns:\n",
    "        plt.figure(figsize=(10, 4))\n",
    "        sns.histplot(df[column], kde=True)\n",
    "        plt.title(f'Distribution of {column}')\n",
    "        plt.show()"
   ]
  },
  {
   "cell_type": "markdown",
   "id": "8b68554d",
   "metadata": {},
   "source": [
    "Call the function to plot the distribution of each column in df1."
   ]
  },
  {
   "cell_type": "code",
   "execution_count": null,
   "id": "8019cce1",
   "metadata": {},
   "outputs": [],
   "source": [
    "plotPerColumnDistribution(df1)"
   ]
  }
 ],
 "metadata": {
  "kernelspec": {
   "display_name": "Python 3",
   "language": "python",
   "name": "python3"
  },
  "language_info": {
   "codemirror_mode": {
    "name": "ipython",
    "version": 3
   },
   "file_extension": ".py",
   "mimetype": "text/x-python",
   "name": "python",
   "nbconvert_exporter": "python",
   "pygments_lexer": "ipython3",
   "version": "3.8.5"
  }
 },
 "nbformat": 4,
 "nbformat_minor": 5
}
