{
 "cells": [
  {
   "cell_type": "markdown",
   "id": "22361255",
   "metadata": {},
   "source": [
    "Read the CSV file 'ionosphere_data.csv' into a DataFrame called df1."
   ]
  },
  {
   "cell_type": "code",
   "execution_count": null,
   "id": "6b6d8777",
   "metadata": {},
   "outputs": [],
   "source": [
    "import pandas as pd\n",
    "df1 = pd.read_csv('ionosphere_data.csv')"
   ]
  },
  {
   "cell_type": "markdown",
   "id": "ec85befa",
   "metadata": {},
   "source": [
    "Define a function to plot the distribution of each column in the DataFrame."
   ]
  },
  {
   "cell_type": "code",
   "execution_count": null,
   "id": "2d00d535",
   "metadata": {},
   "outputs": [],
   "source": [
    "import seaborn as sns\n",
    "import matplotlib.pyplot as plt\n",
    "\n",
    "def plotPerColumnDistribution(data):\n",
    "    data.hist(bins=30, figsize=(15, 10))\n",
    "    plt.show()"
   ]
  },
  {
   "cell_type": "markdown",
   "id": "706e3915",
   "metadata": {},
   "source": [
    "Define a function to plot the correlation matrix of the DataFrame."
   ]
  },
  {
   "cell_type": "code",
   "execution_count": null,
   "id": "b53319db",
   "metadata": {},
   "outputs": [],
   "source": [
    "def plotCorrelationMatrix(data):\n",
    "    corr = data.corr()\n",
    "    sns.heatmap(corr, annot=True, fmt='.2f', cmap='coolwarm')\n",
    "    plt.show()"
   ]
  },
  {
   "cell_type": "markdown",
   "id": "0b818940",
   "metadata": {},
   "source": [
    "Define a function to create a scatter matrix for the DataFrame."
   ]
  },
  {
   "cell_type": "code",
   "execution_count": null,
   "id": "d12635c5",
   "metadata": {},
   "outputs": [],
   "source": [
    "def plotScatterMatrix(data):\n",
    "    sns.pairplot(data)\n",
    "    plt.show()"
   ]
  }
 ],
 "metadata": {
  "kernelspec": {
   "display_name": "Python 3",
   "language": "python",
   "name": "python3"
  },
  "language_info": {
   "codemirror_mode": {
    "name": "ipython",
    "version": 3
   },
   "file_extension": ".py",
   "mimetype": "text/x-python",
   "name": "python",
   "nbconvert_exporter": "python",
   "pygments_lexer": "ipython3",
   "version": "3.8.5"
  }
 },
 "nbformat": 4,
 "nbformat_minor": 5
}
