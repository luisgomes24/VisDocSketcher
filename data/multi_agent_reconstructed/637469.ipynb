{
 "cells": [
  {
   "cell_type": "markdown",
   "id": "b5b92fc6",
   "metadata": {},
   "source": [
    "Import the BigQueryHelper from the OpenAQ library and define the dataset."
   ]
  },
  {
   "cell_type": "code",
   "execution_count": null,
   "id": "9c829748",
   "metadata": {},
   "outputs": [],
   "source": [
    "from openaq import BigQueryHelper\n",
    "\n",
    "dataset = 'bigquery-public-data.openaq.global_air_quality'"
   ]
  },
  {
   "cell_type": "markdown",
   "id": "44a3ef49",
   "metadata": {},
   "source": [
    "Define the SQL query to select US cities from the dataset."
   ]
  },
  {
   "cell_type": "code",
   "execution_count": null,
   "id": "dd4fd284",
   "metadata": {},
   "outputs": [],
   "source": [
    "us_cities_query = 'SELECT * FROM `bigquery-public-data.openaq.global_air_quality` WHERE country = \"US\"'"
   ]
  },
  {
   "cell_type": "markdown",
   "id": "ad9315e0",
   "metadata": {},
   "source": [
    "Execute the query to retrieve US cities as a DataFrame."
   ]
  },
  {
   "cell_type": "code",
   "execution_count": null,
   "id": "d010ec87",
   "metadata": {},
   "outputs": [],
   "source": [
    "us_cities = BigQueryHelper.query_to_pandas_safe(us_cities_query)"
   ]
  },
  {
   "cell_type": "markdown",
   "id": "ba61977c",
   "metadata": {},
   "source": [
    "Define the SQL query to select countries with units not equal to 'ppm'."
   ]
  },
  {
   "cell_type": "code",
   "execution_count": null,
   "id": "9bc049ed",
   "metadata": {},
   "outputs": [],
   "source": [
    "query_1 = 'SELECT * FROM `bigquery-public-data.openaq.global_air_quality` WHERE unit != \"ppm\"'"
   ]
  },
  {
   "cell_type": "markdown",
   "id": "c3bc8f23",
   "metadata": {},
   "source": [
    "Execute the query to retrieve countries with non-ppm units."
   ]
  },
  {
   "cell_type": "code",
   "execution_count": null,
   "id": "0f08bb00",
   "metadata": {},
   "outputs": [],
   "source": [
    "unit_countries = BigQueryHelper.query_to_pandas_safe(query_1)"
   ]
  },
  {
   "cell_type": "markdown",
   "id": "f36a1f31",
   "metadata": {},
   "source": [
    "Define the SQL query to select records with zero pollutant values."
   ]
  },
  {
   "cell_type": "code",
   "execution_count": null,
   "id": "daf4a170",
   "metadata": {},
   "outputs": [],
   "source": [
    "query_2 = 'SELECT * FROM `bigquery-public-data.openaq.global_air_quality` WHERE value = 0'"
   ]
  },
  {
   "cell_type": "markdown",
   "id": "ffed4530",
   "metadata": {},
   "source": [
    "Execute the query to retrieve records with zero pollutant values."
   ]
  },
  {
   "cell_type": "code",
   "execution_count": null,
   "id": "2e976215",
   "metadata": {},
   "outputs": [],
   "source": [
    "zero_pollutant = BigQueryHelper.query_to_pandas_safe(query_2)"
   ]
  }
 ],
 "metadata": {
  "kernelspec": {
   "display_name": "Python 3",
   "language": "python",
   "name": "python3"
  },
  "language_info": {
   "codemirror_mode": {
    "name": "ipython",
    "version": 3
   },
   "file_extension": ".py",
   "mimetype": "text/x-python",
   "name": "python",
   "nbconvert_exporter": "python",
   "pygments_lexer": "ipython3",
   "version": "3.8.5"
  }
 },
 "nbformat": 4,
 "nbformat_minor": 5
}
