{
 "cells": [
  {
   "cell_type": "markdown",
   "id": "fe074e52",
   "metadata": {},
   "source": [
    "Load the training data from 'train.csv' into a DataFrame."
   ]
  },
  {
   "cell_type": "code",
   "execution_count": null,
   "id": "530d7039",
   "metadata": {},
   "outputs": [],
   "source": [
    "import pandas as pd\n",
    "train_df = pd.read_csv('train.csv')"
   ]
  },
  {
   "cell_type": "markdown",
   "id": "e6ef872c",
   "metadata": {},
   "source": [
    "Perform feature engineering to create a new feature."
   ]
  },
  {
   "cell_type": "code",
   "execution_count": null,
   "id": "e74597c6",
   "metadata": {},
   "outputs": [],
   "source": [
    "train_df['simple_engineered_feature'] = train_df.apply(feature_engineering, axis=1)"
   ]
  },
  {
   "cell_type": "markdown",
   "id": "b4473f13",
   "metadata": {},
   "source": [
    "Concatenate the original DataFrame with the new feature."
   ]
  },
  {
   "cell_type": "code",
   "execution_count": null,
   "id": "bb1039d9",
   "metadata": {},
   "outputs": [],
   "source": [
    "train_features = pd.concat([train_df, train_df['simple_engineered_feature']], axis=1)"
   ]
  },
  {
   "cell_type": "markdown",
   "id": "12c773be",
   "metadata": {},
   "source": [
    "Initialize a Sequential model for the neural network."
   ]
  },
  {
   "cell_type": "code",
   "execution_count": null,
   "id": "0fe2eb40",
   "metadata": {},
   "outputs": [],
   "source": [
    "from keras.models import Sequential\n",
    "from keras.layers import Dense\n",
    "model = Sequential()"
   ]
  },
  {
   "cell_type": "markdown",
   "id": "b6c40a39",
   "metadata": {},
   "source": [
    "Add a dense layer with 512 units and ReLU activation."
   ]
  },
  {
   "cell_type": "code",
   "execution_count": null,
   "id": "b00efc85",
   "metadata": {},
   "outputs": [],
   "source": [
    "model.add(Dense(512, activation='relu', input_shape=(train_features.shape[1],)))"
   ]
  },
  {
   "cell_type": "markdown",
   "id": "dda663af",
   "metadata": {},
   "source": [
    "Add a second dense layer with 128 units and ReLU activation."
   ]
  },
  {
   "cell_type": "code",
   "execution_count": null,
   "id": "9441e1e4",
   "metadata": {},
   "outputs": [],
   "source": [
    "model.add(Dense(128, activation='relu'))"
   ]
  },
  {
   "cell_type": "markdown",
   "id": "9aad2e47",
   "metadata": {},
   "source": [
    "Add an output layer with a number of units equal to target columns."
   ]
  },
  {
   "cell_type": "code",
   "execution_count": null,
   "id": "85dff3e8",
   "metadata": {},
   "outputs": [],
   "source": [
    "model.add(Dense(len(target_cols), activation='sigmoid'))"
   ]
  },
  {
   "cell_type": "markdown",
   "id": "9a3433c3",
   "metadata": {},
   "source": [
    "Compile the model with binary crossentropy loss and Adam optimizer."
   ]
  },
  {
   "cell_type": "code",
   "execution_count": null,
   "id": "226e13d4",
   "metadata": {},
   "outputs": [],
   "source": [
    "model.compile(loss='binary_crossentropy', optimizer='adam', metrics=['accuracy'])"
   ]
  },
  {
   "cell_type": "markdown",
   "id": "3fd4e7a2",
   "metadata": {},
   "source": [
    "Set up early stopping to prevent overfitting."
   ]
  },
  {
   "cell_type": "code",
   "execution_count": null,
   "id": "dd9dc01b",
   "metadata": {},
   "outputs": [],
   "source": [
    "from keras.callbacks import EarlyStopping\n",
    "early_stopping = EarlyStopping(patience=5)"
   ]
  },
  {
   "cell_type": "markdown",
   "id": "96520053",
   "metadata": {},
   "source": [
    "Train the model using the training features and labels."
   ]
  },
  {
   "cell_type": "code",
   "execution_count": null,
   "id": "1bb17afa",
   "metadata": {},
   "outputs": [],
   "source": [
    "model.fit(train_features, labels, epochs=50, callbacks=[early_stopping])"
   ]
  },
  {
   "cell_type": "markdown",
   "id": "6ea52d65",
   "metadata": {},
   "source": [
    "Load test data and apply feature engineering."
   ]
  },
  {
   "cell_type": "code",
   "execution_count": null,
   "id": "39aaf80d",
   "metadata": {},
   "outputs": [],
   "source": [
    "test_df = pd.read_csv('test.csv')\n",
    "test_df['simple_engineered_feature_test'] = test_df.apply(feature_engineering_test, axis=1)"
   ]
  },
  {
   "cell_type": "markdown",
   "id": "c4ed1ee4",
   "metadata": {},
   "source": [
    "Concatenate the test DataFrame with the new feature."
   ]
  },
  {
   "cell_type": "code",
   "execution_count": null,
   "id": "546821bf",
   "metadata": {},
   "outputs": [],
   "source": [
    "test_features = pd.concat([test_df, test_df['simple_engineered_feature_test']], axis=1)"
   ]
  },
  {
   "cell_type": "markdown",
   "id": "d0e5a9d6",
   "metadata": {},
   "source": [
    "Use the trained model to make predictions on test features."
   ]
  },
  {
   "cell_type": "code",
   "execution_count": null,
   "id": "3d52dae7",
   "metadata": {},
   "outputs": [],
   "source": [
    "predictions = model.predict(test_features)"
   ]
  },
  {
   "cell_type": "markdown",
   "id": "258d2409",
   "metadata": {},
   "source": [
    "Save the predictions to 'submission.csv'."
   ]
  },
  {
   "cell_type": "code",
   "execution_count": null,
   "id": "f864e1a4",
   "metadata": {},
   "outputs": [],
   "source": [
    "submission = pd.DataFrame(predictions, columns=target_cols)\n",
    "submission.to_csv('submission.csv', index=False)"
   ]
  }
 ],
 "metadata": {
  "kernelspec": {
   "display_name": "Python 3",
   "language": "python",
   "name": "python3"
  },
  "language_info": {
   "codemirror_mode": {
    "name": "ipython",
    "version": 3
   },
   "file_extension": ".py",
   "mimetype": "text/x-python",
   "name": "python",
   "nbconvert_exporter": "python",
   "pygments_lexer": "ipython3",
   "version": "3.8.5"
  }
 },
 "nbformat": 4,
 "nbformat_minor": 5
}
