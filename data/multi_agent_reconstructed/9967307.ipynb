{
 "cells": [
  {
   "cell_type": "markdown",
   "id": "f8434ee9",
   "metadata": {},
   "source": [
    "Load the CSV file into a DataFrame."
   ]
  },
  {
   "cell_type": "code",
   "execution_count": null,
   "id": "6122baf5",
   "metadata": {},
   "outputs": [],
   "source": [
    "import pandas as pd\n",
    "\n",
    "df_segmentation = pd.read_csv('segmentation-data.csv')"
   ]
  },
  {
   "cell_type": "markdown",
   "id": "a3c974b6",
   "metadata": {},
   "source": [
    "Perform descriptive analysis and visualize data using pair plots."
   ]
  },
  {
   "cell_type": "code",
   "execution_count": null,
   "id": "7c27d83c",
   "metadata": {},
   "outputs": [],
   "source": [
    "import matplotlib.pyplot as plt\n",
    "import seaborn as sns\n",
    "\n",
    "sns.pairplot(df_segmentation)\n",
    "plt.show()"
   ]
  },
  {
   "cell_type": "markdown",
   "id": "853416a6",
   "metadata": {},
   "source": [
    "Standardize the data to have mean=0 and variance=1."
   ]
  },
  {
   "cell_type": "code",
   "execution_count": null,
   "id": "32055c6d",
   "metadata": {},
   "outputs": [],
   "source": [
    "from sklearn.preprocessing import StandardScaler\n",
    "\n",
    "scaler = StandardScaler()\n",
    "segmentation_std = scaler.fit_transform(df_segmentation)"
   ]
  },
  {
   "cell_type": "markdown",
   "id": "640b505e",
   "metadata": {},
   "source": [
    "Apply KMeans clustering on the standardized data."
   ]
  },
  {
   "cell_type": "code",
   "execution_count": null,
   "id": "9647b2f8",
   "metadata": {},
   "outputs": [],
   "source": [
    "from sklearn.cluster import KMeans\n",
    "\n",
    "kmeans = KMeans(n_clusters=3)\n",
    "kmeans.fit(segmentation_std)"
   ]
  },
  {
   "cell_type": "markdown",
   "id": "6de75668",
   "metadata": {},
   "source": [
    "Assign the cluster labels to the original DataFrame."
   ]
  },
  {
   "cell_type": "code",
   "execution_count": null,
   "id": "ff8e5576",
   "metadata": {},
   "outputs": [],
   "source": [
    "df_segmentation['Segment'] = kmeans.labels_"
   ]
  },
  {
   "cell_type": "markdown",
   "id": "4a894f98",
   "metadata": {},
   "source": [
    "Perform PCA to reduce the dimensionality of the standardized data."
   ]
  },
  {
   "cell_type": "code",
   "execution_count": null,
   "id": "152c0d23",
   "metadata": {},
   "outputs": [],
   "source": [
    "from sklearn.decomposition import PCA\n",
    "\n",
    "pca = PCA(n_components=2)\n",
    "scores_pca = pca.fit_transform(segmentation_std)"
   ]
  },
  {
   "cell_type": "markdown",
   "id": "1fbb2f13",
   "metadata": {},
   "source": [
    "Apply KMeans clustering on the PCA-transformed data."
   ]
  },
  {
   "cell_type": "code",
   "execution_count": null,
   "id": "4def0a78",
   "metadata": {},
   "outputs": [],
   "source": [
    "kmeans_pca = KMeans(n_clusters=3)\n",
    "kmeans_pca.fit(scores_pca)"
   ]
  },
  {
   "cell_type": "markdown",
   "id": "69e45a42",
   "metadata": {},
   "source": [
    "Assign the cluster labels from the PCA model to the DataFrame."
   ]
  },
  {
   "cell_type": "code",
   "execution_count": null,
   "id": "e1be44f7",
   "metadata": {},
   "outputs": [],
   "source": [
    "df_segmentation['Segment_PCA'] = kmeans_pca.labels_"
   ]
  }
 ],
 "metadata": {
  "kernelspec": {
   "display_name": "Python 3",
   "language": "python",
   "name": "python3"
  },
  "language_info": {
   "codemirror_mode": {
    "name": "ipython",
    "version": 3
   },
   "file_extension": ".py",
   "mimetype": "text/x-python",
   "name": "python",
   "nbconvert_exporter": "python",
   "pygments_lexer": "ipython3",
   "version": "3.8.5"
  }
 },
 "nbformat": 4,
 "nbformat_minor": 5
}
