{
 "cells": [
  {
   "cell_type": "markdown",
   "id": "163a9369",
   "metadata": {},
   "source": [
    "Load the clients data from 'clients.csv' into a DataFrame named df1."
   ]
  },
  {
   "cell_type": "code",
   "execution_count": null,
   "id": "e57adb43",
   "metadata": {},
   "outputs": [],
   "source": [
    "import pandas as pd\n",
    "df1 = pd.read_csv('clients.csv')"
   ]
  },
  {
   "cell_type": "markdown",
   "id": "be4ac8c8",
   "metadata": {},
   "source": [
    "Load the products data from 'products.csv' into a DataFrame named df2."
   ]
  },
  {
   "cell_type": "code",
   "execution_count": null,
   "id": "a7b50484",
   "metadata": {},
   "outputs": [],
   "source": [
    "import pandas as pd\n",
    "df2 = pd.read_csv('products.csv')"
   ]
  },
  {
   "cell_type": "markdown",
   "id": "08b0f4f1",
   "metadata": {},
   "source": [
    "Load the purchases data from 'purchases.csv' into a DataFrame named df3."
   ]
  },
  {
   "cell_type": "code",
   "execution_count": null,
   "id": "77b61be3",
   "metadata": {},
   "outputs": [],
   "source": [
    "import pandas as pd\n",
    "df3 = pd.read_csv('purchases.csv')"
   ]
  },
  {
   "cell_type": "markdown",
   "id": "1a5603f0",
   "metadata": {},
   "source": [
    "Perform visualization for df1 using a histogram."
   ]
  },
  {
   "cell_type": "code",
   "execution_count": null,
   "id": "985bcb94",
   "metadata": {},
   "outputs": [],
   "source": [
    "import matplotlib.pyplot as plt\n",
    "# Visualization code for df1\n",
    "plt.hist(df1['column_name'])\n",
    "plt.show()"
   ]
  },
  {
   "cell_type": "markdown",
   "id": "f2948035",
   "metadata": {},
   "source": [
    "Perform visualization for df2 using a bar chart."
   ]
  },
  {
   "cell_type": "code",
   "execution_count": null,
   "id": "2af897a9",
   "metadata": {},
   "outputs": [],
   "source": [
    "import matplotlib.pyplot as plt\n",
    "# Visualization code for df2\n",
    "plt.bar(df2['column_name'], df2['another_column'])\n",
    "plt.show()"
   ]
  },
  {
   "cell_type": "markdown",
   "id": "f50068e8",
   "metadata": {},
   "source": [
    "Perform visualization for df3 using a scatter plot."
   ]
  },
  {
   "cell_type": "code",
   "execution_count": null,
   "id": "e03b2fe6",
   "metadata": {},
   "outputs": [],
   "source": [
    "import matplotlib.pyplot as plt\n",
    "# Visualization code for df3\n",
    "plt.scatter(df3['column_name1'], df3['column_name2'])\n",
    "plt.show()"
   ]
  }
 ],
 "metadata": {
  "kernelspec": {
   "display_name": "Python 3",
   "language": "python",
   "name": "python3"
  },
  "language_info": {
   "codemirror_mode": {
    "name": "ipython",
    "version": 3
   },
   "file_extension": ".py",
   "mimetype": "text/x-python",
   "name": "python",
   "nbconvert_exporter": "python",
   "pygments_lexer": "ipython3",
   "version": "3.8.5"
  }
 },
 "nbformat": 4,
 "nbformat_minor": 5
}
