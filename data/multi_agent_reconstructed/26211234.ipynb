{
 "cells": [
  {
   "cell_type": "markdown",
   "id": "46c78595",
   "metadata": {},
   "source": [
    "Load the dataset from a CSV file into a Pandas DataFrame."
   ]
  },
  {
   "cell_type": "code",
   "execution_count": null,
   "id": "8bca005d",
   "metadata": {},
   "outputs": [],
   "source": [
    "import pandas as pd\n",
    "df = pd.read_csv('cardio_train.csv')"
   ]
  },
  {
   "cell_type": "markdown",
   "id": "a4f7d64e",
   "metadata": {},
   "source": [
    "Check the structure and data types of the DataFrame."
   ]
  },
  {
   "cell_type": "code",
   "execution_count": null,
   "id": "b132eea8",
   "metadata": {},
   "outputs": [],
   "source": [
    "df.info()"
   ]
  },
  {
   "cell_type": "markdown",
   "id": "f8ff28c7",
   "metadata": {},
   "source": [
    "Generate descriptive statistics of the dataset."
   ]
  },
  {
   "cell_type": "code",
   "execution_count": null,
   "id": "ca78b8f1",
   "metadata": {},
   "outputs": [],
   "source": [
    "df.describe()"
   ]
  },
  {
   "cell_type": "markdown",
   "id": "631fd3d9",
   "metadata": {},
   "source": [
    "Calculate the average age for each cardio group."
   ]
  },
  {
   "cell_type": "code",
   "execution_count": null,
   "id": "aa607dc7",
   "metadata": {},
   "outputs": [],
   "source": [
    "df.groupby('cardio')['age'].mean()"
   ]
  },
  {
   "cell_type": "markdown",
   "id": "f37310ed",
   "metadata": {},
   "source": [
    "Create a pivot table analyzing age by smoking and drinking status."
   ]
  },
  {
   "cell_type": "code",
   "execution_count": null,
   "id": "bed3a7d6",
   "metadata": {},
   "outputs": [],
   "source": [
    "df.pivot_table(values='age', index='smoke', columns='drinker', aggfunc='mean')"
   ]
  },
  {
   "cell_type": "markdown",
   "id": "73211e45",
   "metadata": {},
   "source": [
    "Visualize the age distribution by cardio status with a boxplot."
   ]
  },
  {
   "cell_type": "code",
   "execution_count": null,
   "id": "12afe6c4",
   "metadata": {},
   "outputs": [],
   "source": [
    "import seaborn as sns\n",
    "import matplotlib.pyplot as plt\n",
    "sns.boxplot(x='cardio', y='age', data=df)\n",
    "plt.show()"
   ]
  },
  {
   "cell_type": "markdown",
   "id": "3128e47c",
   "metadata": {},
   "source": [
    "Remove the target column 'cardio' for further analysis."
   ]
  },
  {
   "cell_type": "code",
   "execution_count": null,
   "id": "e374dd2b",
   "metadata": {},
   "outputs": [],
   "source": [
    "df.drop(['cardio'], axis=1, inplace=True)"
   ]
  },
  {
   "cell_type": "markdown",
   "id": "bdfcc1a3",
   "metadata": {},
   "source": [
    "Extract the 'height' column for further analysis."
   ]
  },
  {
   "cell_type": "code",
   "execution_count": null,
   "id": "62965b88",
   "metadata": {},
   "outputs": [],
   "source": [
    "h = df['height']"
   ]
  },
  {
   "cell_type": "markdown",
   "id": "de9ae3a9",
   "metadata": {},
   "source": [
    "Plot a histogram to visualize the distribution of heights."
   ]
  },
  {
   "cell_type": "code",
   "execution_count": null,
   "id": "7e7bba38",
   "metadata": {},
   "outputs": [],
   "source": [
    "df['height'].hist()\n",
    "plt.title('Height Distribution')\n",
    "plt.show()"
   ]
  },
  {
   "cell_type": "markdown",
   "id": "c6e58cfd",
   "metadata": {},
   "source": [
    "Create a countplot to visualize the relationship between age and cardio status."
   ]
  },
  {
   "cell_type": "code",
   "execution_count": null,
   "id": "8a02f371",
   "metadata": {},
   "outputs": [],
   "source": [
    "sns.countplot(y='age', hue='cardio', data=df)\n",
    "plt.title('Age and Cardio Countplot')\n",
    "plt.show()"
   ]
  },
  {
   "cell_type": "markdown",
   "id": "f7bdccb6",
   "metadata": {},
   "source": [
    "Remove identified outliers from the DataFrame."
   ]
  },
  {
   "cell_type": "code",
   "execution_count": null,
   "id": "5a387c58",
   "metadata": {},
   "outputs": [],
   "source": [
    "df.drop(outliers.index, inplace=True)"
   ]
  },
  {
   "cell_type": "markdown",
   "id": "9c55e214",
   "metadata": {},
   "source": [
    "Normalize the height data by applying Z-score scaling."
   ]
  },
  {
   "cell_type": "code",
   "execution_count": null,
   "id": "2b9a217a",
   "metadata": {},
   "outputs": [],
   "source": [
    "df['height'] = (df['height'] - df['height'].mean()) / df['height'].std()"
   ]
  }
 ],
 "metadata": {
  "kernelspec": {
   "display_name": "Python 3",
   "language": "python",
   "name": "python3"
  },
  "language_info": {
   "codemirror_mode": {
    "name": "ipython",
    "version": 3
   },
   "file_extension": ".py",
   "mimetype": "text/x-python",
   "name": "python",
   "nbconvert_exporter": "python",
   "pygments_lexer": "ipython3",
   "version": "3.8.5"
  }
 },
 "nbformat": 4,
 "nbformat_minor": 5
}
