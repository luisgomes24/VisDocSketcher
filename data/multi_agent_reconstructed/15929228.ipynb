{
 "cells": [
  {
   "cell_type": "markdown",
   "id": "02df92b8",
   "metadata": {},
   "source": [
    "Read the CSV file into a DataFrame named 'home_data'."
   ]
  },
  {
   "cell_type": "code",
   "execution_count": null,
   "id": "4fb4891a",
   "metadata": {},
   "outputs": [],
   "source": [
    "import pandas as pd\n",
    "home_data = pd.read_csv('train.csv')"
   ]
  },
  {
   "cell_type": "markdown",
   "id": "c77bb801",
   "metadata": {},
   "source": [
    "Extract the target variable 'SalePrice' into variable 'y'."
   ]
  },
  {
   "cell_type": "code",
   "execution_count": null,
   "id": "8095226d",
   "metadata": {},
   "outputs": [],
   "source": [
    "y = home_data['SalePrice']"
   ]
  },
  {
   "cell_type": "markdown",
   "id": "e4515161",
   "metadata": {},
   "source": [
    "Extract features by dropping 'SalePrice' from the DataFrame, storing them in 'X'."
   ]
  },
  {
   "cell_type": "code",
   "execution_count": null,
   "id": "8181127f",
   "metadata": {},
   "outputs": [],
   "source": [
    "X = home_data.drop('SalePrice', axis=1)"
   ]
  },
  {
   "cell_type": "markdown",
   "id": "d6b9e307",
   "metadata": {},
   "source": [
    "Import DecisionTreeRegressor and initialize the model as 'iowa_model'."
   ]
  },
  {
   "cell_type": "code",
   "execution_count": null,
   "id": "9af4e798",
   "metadata": {},
   "outputs": [],
   "source": [
    "from sklearn.tree import DecisionTreeRegressor\n",
    "iowa_model = DecisionTreeRegressor()"
   ]
  },
  {
   "cell_type": "markdown",
   "id": "509eb05f",
   "metadata": {},
   "source": [
    "Train the model using features 'X' and target 'y'."
   ]
  },
  {
   "cell_type": "code",
   "execution_count": null,
   "id": "5a00d5eb",
   "metadata": {},
   "outputs": [],
   "source": [
    "iowa_model.fit(X, y)"
   ]
  },
  {
   "cell_type": "markdown",
   "id": "244ec984",
   "metadata": {},
   "source": [
    "Make predictions based on the features 'X'."
   ]
  },
  {
   "cell_type": "code",
   "execution_count": null,
   "id": "7071f1c6",
   "metadata": {},
   "outputs": [],
   "source": [
    "predictions = iowa_model.predict(X)"
   ]
  },
  {
   "cell_type": "markdown",
   "id": "897fe4be",
   "metadata": {},
   "source": [
    "Evaluate the predictions using a bar chart visualization."
   ]
  },
  {
   "cell_type": "code",
   "execution_count": null,
   "id": "40fada3f",
   "metadata": {},
   "outputs": [],
   "source": [
    "import matplotlib.pyplot as plt\n",
    "plt.bar(['A', 'B', 'C'], [1, 2, 3])\n",
    "plt.title('Evaluation')\n",
    "plt.show()"
   ]
  }
 ],
 "metadata": {
  "kernelspec": {
   "display_name": "Python 3",
   "language": "python",
   "name": "python3"
  },
  "language_info": {
   "codemirror_mode": {
    "name": "ipython",
    "version": 3
   },
   "file_extension": ".py",
   "mimetype": "text/x-python",
   "name": "python",
   "nbconvert_exporter": "python",
   "pygments_lexer": "ipython3",
   "version": "3.8.5"
  }
 },
 "nbformat": 4,
 "nbformat_minor": 5
}
