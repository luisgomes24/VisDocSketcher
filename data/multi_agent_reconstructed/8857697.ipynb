{
 "cells": [
  {
   "cell_type": "markdown",
   "id": "e0b63169",
   "metadata": {},
   "source": [
    "Load the training data from the CSV file."
   ]
  },
  {
   "cell_type": "code",
   "execution_count": null,
   "id": "b72ae749",
   "metadata": {},
   "outputs": [],
   "source": [
    "import pandas as pd\n",
    "train_data = pd.read_csv('train_clean_kalman.csv')"
   ]
  },
  {
   "cell_type": "markdown",
   "id": "345ca9d9",
   "metadata": {},
   "source": [
    "Create a DataFrame for the training data."
   ]
  },
  {
   "cell_type": "code",
   "execution_count": null,
   "id": "87b7d09b",
   "metadata": {},
   "outputs": [],
   "source": [
    "train_df = pd.DataFrame(train_data)"
   ]
  },
  {
   "cell_type": "markdown",
   "id": "95df3dd0",
   "metadata": {},
   "source": [
    "Extract the true state values from the training DataFrame."
   ]
  },
  {
   "cell_type": "code",
   "execution_count": null,
   "id": "aed0b8aa",
   "metadata": {},
   "outputs": [],
   "source": [
    "true_state = train_df['open_channels']"
   ]
  },
  {
   "cell_type": "markdown",
   "id": "8bf87e62",
   "metadata": {},
   "source": [
    "Extract the signal data from the training DataFrame."
   ]
  },
  {
   "cell_type": "code",
   "execution_count": null,
   "id": "26dc138f",
   "metadata": {},
   "outputs": [],
   "source": [
    "signal = train_df['signal']"
   ]
  },
  {
   "cell_type": "markdown",
   "id": "b888ec5a",
   "metadata": {},
   "source": [
    "Split the signal and true state into training and validation sets."
   ]
  },
  {
   "cell_type": "code",
   "execution_count": null,
   "id": "26e0c4d9",
   "metadata": {},
   "outputs": [],
   "source": [
    "from sklearn.model_selection import train_test_split\n",
    "X_train, X_valid, y_train, y_valid = train_test_split(signal, true_state, test_size=0.2)"
   ]
  },
  {
   "cell_type": "markdown",
   "id": "0a8ff66c",
   "metadata": {},
   "source": [
    "Initialize the Viterbi Classifier model."
   ]
  },
  {
   "cell_type": "code",
   "execution_count": null,
   "id": "7fcb62c0",
   "metadata": {},
   "outputs": [],
   "source": [
    "from sklearn.hmm import GaussianHMM\n",
    "model = GaussianHMM()"
   ]
  },
  {
   "cell_type": "markdown",
   "id": "a1acad30",
   "metadata": {},
   "source": [
    "Fit the model using the training data."
   ]
  },
  {
   "cell_type": "code",
   "execution_count": null,
   "id": "5c0ea071",
   "metadata": {},
   "outputs": [],
   "source": [
    "model.fit(X_train.reshape(-1, 1), y_train)"
   ]
  },
  {
   "cell_type": "markdown",
   "id": "4dc4f5ae",
   "metadata": {},
   "source": [
    "Make predictions on the validation set."
   ]
  },
  {
   "cell_type": "code",
   "execution_count": null,
   "id": "bde4f7a9",
   "metadata": {},
   "outputs": [],
   "source": [
    "train_predictions = model.predict(X_valid.reshape(-1, 1))"
   ]
  },
  {
   "cell_type": "markdown",
   "id": "a181271c",
   "metadata": {},
   "source": [
    "Load the test data from the CSV file."
   ]
  },
  {
   "cell_type": "code",
   "execution_count": null,
   "id": "75790887",
   "metadata": {},
   "outputs": [],
   "source": [
    "import pandas as pd\n",
    "test_data = pd.read_csv('test_clean_kalman.csv')"
   ]
  },
  {
   "cell_type": "markdown",
   "id": "162dff13",
   "metadata": {},
   "source": [
    "Create a DataFrame for the test data."
   ]
  },
  {
   "cell_type": "code",
   "execution_count": null,
   "id": "a9a81ac9",
   "metadata": {},
   "outputs": [],
   "source": [
    "test_df = pd.DataFrame(test_data)"
   ]
  },
  {
   "cell_type": "markdown",
   "id": "3b8390fe",
   "metadata": {},
   "source": [
    "Extract the signal data from the test DataFrame."
   ]
  },
  {
   "cell_type": "code",
   "execution_count": null,
   "id": "c3b58c11",
   "metadata": {},
   "outputs": [],
   "source": [
    "test_signal = test_df['signal']"
   ]
  },
  {
   "cell_type": "markdown",
   "id": "a8ac047f",
   "metadata": {},
   "source": [
    "Use the fitted model to predict on the test signal."
   ]
  },
  {
   "cell_type": "code",
   "execution_count": null,
   "id": "78494bdb",
   "metadata": {},
   "outputs": [],
   "source": [
    "test_predictions = model.predict(test_signal.reshape(-1, 1))"
   ]
  },
  {
   "cell_type": "markdown",
   "id": "fa597e1f",
   "metadata": {},
   "source": [
    "Prepare the submission DataFrame and save it to a CSV file."
   ]
  },
  {
   "cell_type": "code",
   "execution_count": null,
   "id": "a7798b3c",
   "metadata": {},
   "outputs": [],
   "source": [
    "submission_df = pd.DataFrame({'Predictions': test_predictions})\n",
    "submission_df.to_csv('sample_submission.csv', index=False)"
   ]
  }
 ],
 "metadata": {
  "kernelspec": {
   "display_name": "Python 3",
   "language": "python",
   "name": "python3"
  },
  "language_info": {
   "codemirror_mode": {
    "name": "ipython",
    "version": 3
   },
   "file_extension": ".py",
   "mimetype": "text/x-python",
   "name": "python",
   "nbconvert_exporter": "python",
   "pygments_lexer": "ipython3",
   "version": "3.8.5"
  }
 },
 "nbformat": 4,
 "nbformat_minor": 5
}
