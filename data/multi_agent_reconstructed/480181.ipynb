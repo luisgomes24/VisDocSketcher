{
 "cells": [
  {
   "cell_type": "markdown",
   "id": "32e77de6",
   "metadata": {},
   "source": [
    "Load the CSV file 'train.csv' into a Pandas DataFrame called 'house_train'."
   ]
  },
  {
   "cell_type": "code",
   "execution_count": null,
   "id": "9e16aa28",
   "metadata": {},
   "outputs": [],
   "source": [
    "import pandas as pd\n",
    "house_train = pd.read_csv('train.csv')"
   ]
  },
  {
   "cell_type": "markdown",
   "id": "b8620a1b",
   "metadata": {},
   "source": [
    "Take a random sample of 10% from the 'house_train' DataFrame."
   ]
  },
  {
   "cell_type": "code",
   "execution_count": null,
   "id": "b54f3485",
   "metadata": {},
   "outputs": [],
   "source": [
    "sample = house_train.sample(frac=0.1, random_state=1)"
   ]
  },
  {
   "cell_type": "markdown",
   "id": "611b0042",
   "metadata": {},
   "source": [
    "Create a cross table from two specific columns of the sampled data."
   ]
  },
  {
   "cell_type": "code",
   "execution_count": null,
   "id": "4ba453ab",
   "metadata": {},
   "outputs": [],
   "source": [
    "cross_table = pd.crosstab(sample['column1'], sample['column2'])"
   ]
  },
  {
   "cell_type": "markdown",
   "id": "0af071fe",
   "metadata": {},
   "source": [
    "Conduct a Chi-Square test using the created cross table."
   ]
  },
  {
   "cell_type": "code",
   "execution_count": null,
   "id": "b541bcbe",
   "metadata": {},
   "outputs": [],
   "source": [
    "from scipy.stats import chi2_contingency\n",
    "chi2_stat, p_val, dof, ex = chi2_contingency(cross_table)"
   ]
  }
 ],
 "metadata": {
  "kernelspec": {
   "display_name": "Python 3",
   "language": "python",
   "name": "python3"
  },
  "language_info": {
   "codemirror_mode": {
    "name": "ipython",
    "version": 3
   },
   "file_extension": ".py",
   "mimetype": "text/x-python",
   "name": "python",
   "nbconvert_exporter": "python",
   "pygments_lexer": "ipython3",
   "version": "3.8.5"
  }
 },
 "nbformat": 4,
 "nbformat_minor": 5
}
