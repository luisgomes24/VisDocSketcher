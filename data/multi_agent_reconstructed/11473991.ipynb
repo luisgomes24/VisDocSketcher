{
 "cells": [
  {
   "cell_type": "markdown",
   "id": "7ea60cb7",
   "metadata": {},
   "source": [
    "Load the CSV file into a DataFrame named df1."
   ]
  },
  {
   "cell_type": "code",
   "execution_count": null,
   "id": "5bd7ede3",
   "metadata": {},
   "outputs": [],
   "source": [
    "import pandas as pd\n",
    "\n",
    "df1 = pd.read_csv('Felicia3Fights_addedFeatures.csv')"
   ]
  },
  {
   "cell_type": "markdown",
   "id": "c73548f5",
   "metadata": {},
   "source": [
    "Define a function to plot the distribution of each column in df1."
   ]
  },
  {
   "cell_type": "code",
   "execution_count": null,
   "id": "bc47a87f",
   "metadata": {},
   "outputs": [],
   "source": [
    "import matplotlib.pyplot as plt\n",
    "import seaborn as sns\n",
    "\n",
    "def plotPerColumnDistribution(df):\n",
    "    df.hist(bins=10, figsize=(10, 5))\n",
    "    plt.tight_layout()\n",
    "    plt.show()"
   ]
  },
  {
   "cell_type": "markdown",
   "id": "ed0861cc",
   "metadata": {},
   "source": [
    "Define a function to plot the correlation matrix of df1."
   ]
  },
  {
   "cell_type": "code",
   "execution_count": null,
   "id": "3064640f",
   "metadata": {},
   "outputs": [],
   "source": [
    "def plotCorrelationMatrix(df):\n",
    "    plt.figure(figsize=(10, 6))\n",
    "    sns.heatmap(df.corr(), annot=True, fmt='.2f', cmap='coolwarm')\n",
    "    plt.show()"
   ]
  },
  {
   "cell_type": "markdown",
   "id": "009b7b76",
   "metadata": {},
   "source": [
    "Define a function to create a scatter matrix for df1."
   ]
  },
  {
   "cell_type": "code",
   "execution_count": null,
   "id": "6deb2dbd",
   "metadata": {},
   "outputs": [],
   "source": [
    "def plotScatterMatrix(df):\n",
    "    pd.plotting.scatter_matrix(df, figsize=(10, 10))\n",
    "    plt.show()"
   ]
  }
 ],
 "metadata": {
  "kernelspec": {
   "display_name": "Python 3",
   "language": "python",
   "name": "python3"
  },
  "language_info": {
   "codemirror_mode": {
    "name": "ipython",
    "version": 3
   },
   "file_extension": ".py",
   "mimetype": "text/x-python",
   "name": "python",
   "nbconvert_exporter": "python",
   "pygments_lexer": "ipython3",
   "version": "3.8.5"
  }
 },
 "nbformat": 4,
 "nbformat_minor": 5
}
