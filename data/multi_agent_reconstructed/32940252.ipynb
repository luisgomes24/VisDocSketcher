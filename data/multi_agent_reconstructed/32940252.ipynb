{
 "cells": [
  {
   "cell_type": "markdown",
   "id": "0957513b",
   "metadata": {},
   "source": [
    "Load the DICOM file using Pydicom."
   ]
  },
  {
   "cell_type": "code",
   "execution_count": null,
   "id": "9cd04703",
   "metadata": {},
   "outputs": [],
   "source": [
    "import pydicom\n",
    "\n",
    "dicom_file = pydicom.dcmread('train_images/10006/4628222612.dcm')"
   ]
  },
  {
   "cell_type": "markdown",
   "id": "24a0a56a",
   "metadata": {},
   "source": [
    "Extract the pixel array from the DICOM file."
   ]
  },
  {
   "cell_type": "code",
   "execution_count": null,
   "id": "ab7094ee",
   "metadata": {},
   "outputs": [],
   "source": [
    "tfio_image = dicom_file.pixel_array"
   ]
  },
  {
   "cell_type": "markdown",
   "id": "a2a922bf",
   "metadata": {},
   "source": [
    "Convert the image to a lossy format by normalizing pixel values."
   ]
  },
  {
   "cell_type": "code",
   "execution_count": null,
   "id": "804876f3",
   "metadata": {},
   "outputs": [],
   "source": [
    "lossy_tfio_image = tfio_image.astype('float32') / 255"
   ]
  },
  {
   "cell_type": "markdown",
   "id": "1f583a8d",
   "metadata": {},
   "source": [
    "Calculate the maximum value of the TFIO image."
   ]
  },
  {
   "cell_type": "code",
   "execution_count": null,
   "id": "e44d0817",
   "metadata": {},
   "outputs": [],
   "source": [
    "max_value = max(tfio_image.flatten())"
   ]
  },
  {
   "cell_type": "markdown",
   "id": "d373b3d5",
   "metadata": {},
   "source": [
    "Display a bar chart showing maximum value among categories."
   ]
  },
  {
   "cell_type": "code",
   "execution_count": null,
   "id": "ea9a9660",
   "metadata": {},
   "outputs": [],
   "source": [
    "import matplotlib.pyplot as plt\n",
    "\n",
    "plt.bar(['A', 'B', 'C'], [1, 2, max_value])\n",
    "plt.xlabel('Category')\n",
    "plt.ylabel('Value')\n",
    "plt.show()"
   ]
  },
  {
   "cell_type": "markdown",
   "id": "eea65f75",
   "metadata": {},
   "source": [
    "Create and display a scatter plot of the image data."
   ]
  },
  {
   "cell_type": "code",
   "execution_count": null,
   "id": "a643ffee",
   "metadata": {},
   "outputs": [],
   "source": [
    "plt.scatter(['Low', 'Medium', 'High'], [1, 2, 3])\n",
    "plt.xlabel('X Axis')\n",
    "plt.ylabel('Y Axis')\n",
    "plt.show()"
   ]
  }
 ],
 "metadata": {
  "kernelspec": {
   "display_name": "Python 3",
   "language": "python",
   "name": "python3"
  },
  "language_info": {
   "codemirror_mode": {
    "name": "ipython",
    "version": 3
   },
   "file_extension": ".py",
   "mimetype": "text/x-python",
   "name": "python",
   "nbconvert_exporter": "python",
   "pygments_lexer": "ipython3",
   "version": "3.8.5"
  }
 },
 "nbformat": 4,
 "nbformat_minor": 5
}
