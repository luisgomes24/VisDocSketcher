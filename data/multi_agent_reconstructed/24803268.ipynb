{
 "cells": [
  {
   "cell_type": "markdown",
   "id": "b998946f",
   "metadata": {},
   "source": [
    "Load the training data from 'train.csv' using pandas."
   ]
  },
  {
   "cell_type": "code",
   "execution_count": null,
   "id": "e19d3fdd",
   "metadata": {},
   "outputs": [],
   "source": [
    "import pandas as pd\n",
    "TRAIN_PATH = 'train.csv'\n",
    "train_data = pd.read_csv(TRAIN_PATH)"
   ]
  },
  {
   "cell_type": "markdown",
   "id": "17ef48a3",
   "metadata": {},
   "source": [
    "Load the test data from 'test.csv' using pandas."
   ]
  },
  {
   "cell_type": "code",
   "execution_count": null,
   "id": "76279a08",
   "metadata": {},
   "outputs": [],
   "source": [
    "TEST_PATH = 'test.csv'\n",
    "test_data = pd.read_csv(TEST_PATH)"
   ]
  }
 ],
 "metadata": {
  "kernelspec": {
   "display_name": "Python 3",
   "language": "python",
   "name": "python3"
  },
  "language_info": {
   "codemirror_mode": {
    "name": "ipython",
    "version": 3
   },
   "file_extension": ".py",
   "mimetype": "text/x-python",
   "name": "python",
   "nbconvert_exporter": "python",
   "pygments_lexer": "ipython3",
   "version": "3.8.5"
  }
 },
 "nbformat": 4,
 "nbformat_minor": 5
}
