{
 "cells": [
  {
   "cell_type": "markdown",
   "id": "e681b7a4",
   "metadata": {},
   "source": [
    "Read the training data from a CSV file into a DataFrame."
   ]
  },
  {
   "cell_type": "code",
   "execution_count": null,
   "id": "cc7d1ce4",
   "metadata": {},
   "outputs": [],
   "source": [
    "import pandas as pd\n",
    "df_train = pd.read_csv('train.csv')"
   ]
  },
  {
   "cell_type": "markdown",
   "id": "ee4dd542",
   "metadata": {},
   "source": [
    "Extract features and target from the training DataFrame."
   ]
  },
  {
   "cell_type": "code",
   "execution_count": null,
   "id": "d8fb3640",
   "metadata": {},
   "outputs": [],
   "source": [
    "X_train = df_train.drop('target_column', axis=1)\n",
    "y_train = df_train['target_column']"
   ]
  },
  {
   "cell_type": "markdown",
   "id": "176b9dc9",
   "metadata": {},
   "source": [
    "Train a Logistic Regression model with the training data."
   ]
  },
  {
   "cell_type": "code",
   "execution_count": null,
   "id": "3aa0f082",
   "metadata": {},
   "outputs": [],
   "source": [
    "from sklearn.linear_model import LogisticRegression\n",
    "model_lr = LogisticRegression()\n",
    "model_lr.fit(X_train, y_train)"
   ]
  },
  {
   "cell_type": "markdown",
   "id": "82783d4e",
   "metadata": {},
   "source": [
    "Train a Support Vector Classifier (SVC) with the training data."
   ]
  },
  {
   "cell_type": "code",
   "execution_count": null,
   "id": "fcb4418d",
   "metadata": {},
   "outputs": [],
   "source": [
    "from sklearn.svm import SVC\n",
    "model_svc = SVC()\n",
    "model_svc.fit(X_train, y_train)"
   ]
  },
  {
   "cell_type": "markdown",
   "id": "51d13de0",
   "metadata": {},
   "source": [
    "Train a K-Nearest Neighbors (KNN) model with the training data."
   ]
  },
  {
   "cell_type": "code",
   "execution_count": null,
   "id": "92f0aaf1",
   "metadata": {},
   "outputs": [],
   "source": [
    "from sklearn.neighbors import KNeighborsClassifier\n",
    "model_knn = KNeighborsClassifier()\n",
    "model_knn.fit(X_train, y_train)"
   ]
  },
  {
   "cell_type": "markdown",
   "id": "8bff5231",
   "metadata": {},
   "source": [
    "Train a Gaussian Naive Bayes model with the training data."
   ]
  },
  {
   "cell_type": "code",
   "execution_count": null,
   "id": "8144a494",
   "metadata": {},
   "outputs": [],
   "source": [
    "from sklearn.naive_bayes import GaussianNB\n",
    "model_gnb = GaussianNB()\n",
    "model_gnb.fit(X_train, y_train)"
   ]
  },
  {
   "cell_type": "markdown",
   "id": "6f7c6a11",
   "metadata": {},
   "source": [
    "Train a Perceptron model with the training data."
   ]
  },
  {
   "cell_type": "code",
   "execution_count": null,
   "id": "e6776e58",
   "metadata": {},
   "outputs": [],
   "source": [
    "from sklearn.neural_network import MLPClassifier\n",
    "model_perc = MLPClassifier()\n",
    "model_perc.fit(X_train, y_train)"
   ]
  },
  {
   "cell_type": "markdown",
   "id": "71f1d046",
   "metadata": {},
   "source": [
    "Train a Decision Tree Classifier model with the training data."
   ]
  },
  {
   "cell_type": "code",
   "execution_count": null,
   "id": "dcb6a4a4",
   "metadata": {},
   "outputs": [],
   "source": [
    "from sklearn.tree import DecisionTreeClassifier\n",
    "model_dt = DecisionTreeClassifier()\n",
    "model_dt.fit(X_train, y_train)"
   ]
  },
  {
   "cell_type": "markdown",
   "id": "4ee41512",
   "metadata": {},
   "source": [
    "Train a Random Forest Classifier model with the training data."
   ]
  },
  {
   "cell_type": "code",
   "execution_count": null,
   "id": "06997085",
   "metadata": {},
   "outputs": [],
   "source": [
    "from sklearn.ensemble import RandomForestClassifier\n",
    "model_rf = RandomForestClassifier()\n",
    "model_rf.fit(X_train, y_train)"
   ]
  },
  {
   "cell_type": "markdown",
   "id": "5e0d4db1",
   "metadata": {},
   "source": [
    "Read the test data from a CSV file and extract features."
   ]
  },
  {
   "cell_type": "code",
   "execution_count": null,
   "id": "08887e24",
   "metadata": {},
   "outputs": [],
   "source": [
    "df_test = pd.read_csv('test.csv')\n",
    "X_test = df_test.drop('target_column', axis=1)"
   ]
  },
  {
   "cell_type": "markdown",
   "id": "a7d79024",
   "metadata": {},
   "source": [
    "Make predictions using all trained models on the test data."
   ]
  },
  {
   "cell_type": "code",
   "execution_count": null,
   "id": "bfec24cf",
   "metadata": {},
   "outputs": [],
   "source": [
    "predictions_lr = model_lr.predict(X_test)\n",
    "predictions_svc = model_svc.predict(X_test)\n",
    "predictions_knn = model_knn.predict(X_test)\n",
    "predictions_gnb = model_gnb.predict(X_test)\n",
    "predictions_perc = model_perc.predict(X_test)\n",
    "predictions_dt = model_dt.predict(X_test)\n",
    "predictions_rf = model_rf.predict(X_test)"
   ]
  }
 ],
 "metadata": {
  "kernelspec": {
   "display_name": "Python 3",
   "language": "python",
   "name": "python3"
  },
  "language_info": {
   "codemirror_mode": {
    "name": "ipython",
    "version": 3
   },
   "file_extension": ".py",
   "mimetype": "text/x-python",
   "name": "python",
   "nbconvert_exporter": "python",
   "pygments_lexer": "ipython3",
   "version": "3.8.5"
  }
 },
 "nbformat": 4,
 "nbformat_minor": 5
}
