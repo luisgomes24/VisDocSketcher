{
 "cells": [
  {
   "cell_type": "markdown",
   "id": "4ebd7876",
   "metadata": {},
   "source": [
    "Load training, test, and country information data from CSV files into Pandas DataFrames."
   ]
  },
  {
   "cell_type": "code",
   "execution_count": null,
   "id": "a8fb05e3",
   "metadata": {},
   "outputs": [],
   "source": [
    "import pandas as pd\n",
    "\n",
    "train_data = pd.read_csv('train_data.csv')\n",
    "test_data = pd.read_csv('test_data.csv')\n",
    "country_info = pd.read_csv('country_info.csv')"
   ]
  },
  {
   "cell_type": "markdown",
   "id": "d8b1c734",
   "metadata": {},
   "source": [
    "Combine the training, test, and country DataFrames into a single DataFrame."
   ]
  },
  {
   "cell_type": "code",
   "execution_count": null,
   "id": "89ed78e7",
   "metadata": {},
   "outputs": [],
   "source": [
    "data_frames = pd.concat([train_data, test_data, country_info], axis=1)"
   ]
  },
  {
   "cell_type": "markdown",
   "id": "e4b9cb88",
   "metadata": {},
   "source": [
    "Perform feature selection to identify the top 10 features using SelectKBest."
   ]
  },
  {
   "cell_type": "code",
   "execution_count": null,
   "id": "320ca576",
   "metadata": {},
   "outputs": [],
   "source": [
    "from sklearn.feature_selection import SelectKBest, f_classif\n",
    "\n",
    "X = data_frames.drop('target', axis=1)\n",
    "y = data_frames['target']\n",
    "selector = SelectKBest(score_func=f_classif, k=10)\n",
    "selector.fit(X, y)\n",
    "selected_features = selector.get_support(indices=True)"
   ]
  },
  {
   "cell_type": "markdown",
   "id": "26389b6c",
   "metadata": {},
   "source": [
    "Split the selected features and target variable into training and test sets."
   ]
  },
  {
   "cell_type": "code",
   "execution_count": null,
   "id": "75b89e41",
   "metadata": {},
   "outputs": [],
   "source": [
    "from sklearn.model_selection import train_test_split\n",
    "\n",
    "X_train, X_test, y_train, y_test = train_test_split(data_frames.iloc[:, selected_features], data_frames['target'], test_size=0.2, random_state=42)"
   ]
  },
  {
   "cell_type": "markdown",
   "id": "f8f4ff4c",
   "metadata": {},
   "source": [
    "Initialize and train a LightGBM model using the training dataset."
   ]
  },
  {
   "cell_type": "code",
   "execution_count": null,
   "id": "18fe693e",
   "metadata": {},
   "outputs": [],
   "source": [
    "import lightgbm as lgb\n",
    "\n",
    "model = lgb.LGBMClassifier()\n",
    "model.fit(X_train, y_train)"
   ]
  },
  {
   "cell_type": "markdown",
   "id": "cee1e623",
   "metadata": {},
   "source": [
    "Make predictions on the test dataset using the trained model."
   ]
  },
  {
   "cell_type": "code",
   "execution_count": null,
   "id": "9137d3dc",
   "metadata": {},
   "outputs": [],
   "source": [
    "predictions = model.predict(X_test)"
   ]
  },
  {
   "cell_type": "markdown",
   "id": "10260180",
   "metadata": {},
   "source": [
    "Visualize the predictions by plotting the actual vs predicted values."
   ]
  },
  {
   "cell_type": "code",
   "execution_count": null,
   "id": "fe176262",
   "metadata": {},
   "outputs": [],
   "source": [
    "import matplotlib.pyplot as plt\n",
    "\n",
    "plt.figure(figsize=(10,5))\n",
    "plt.scatter(y_test, predictions)\n",
    "plt.xlabel('Actual')\n",
    "plt.ylabel('Predicted')\n",
    "plt.title('Predictions')\n",
    "plt.show()"
   ]
  },
  {
   "cell_type": "markdown",
   "id": "b6f803e3",
   "metadata": {},
   "source": [
    "Evaluate the model's performance using a classification report."
   ]
  },
  {
   "cell_type": "code",
   "execution_count": null,
   "id": "c4aeea92",
   "metadata": {},
   "outputs": [],
   "source": [
    "from sklearn.metrics import classification_report\n",
    "\n",
    "report = classification_report(y_test, predictions)\n",
    "print(report)"
   ]
  },
  {
   "cell_type": "markdown",
   "id": "e9fbf70e",
   "metadata": {},
   "source": [
    "Display a histogram of feature importances from the trained model."
   ]
  },
  {
   "cell_type": "code",
   "execution_count": null,
   "id": "90361cf2",
   "metadata": {},
   "outputs": [],
   "source": [
    "plt.figure(figsize=(10,5))\n",
    "plt.hist(model.feature_importances_, bins=10)\n",
    "plt.title('Feature Importance')\n",
    "plt.xlabel('Feature Index')\n",
    "plt.ylabel('Importance')\n",
    "plt.show()"
   ]
  },
  {
   "cell_type": "markdown",
   "id": "e5989dde",
   "metadata": {},
   "source": [
    "Calculate learning curve data for the model."
   ]
  },
  {
   "cell_type": "code",
   "execution_count": null,
   "id": "6b0f8d67",
   "metadata": {},
   "outputs": [],
   "source": [
    "import numpy as np\n",
    "\n",
    "train_sizes = np.linspace(0.1, 1.0, 10)\n",
    "train_scores, test_scores = model.learning_curve(X_train, y_train, train_sizes=train_sizes)"
   ]
  },
  {
   "cell_type": "markdown",
   "id": "9f2c06e8",
   "metadata": {},
   "source": [
    "Plot the learning curve showing training and test scores as training size increases."
   ]
  },
  {
   "cell_type": "code",
   "execution_count": null,
   "id": "550b14ea",
   "metadata": {},
   "outputs": [],
   "source": [
    "plt.figure(figsize=(10,5))\n",
    "plt.plot(train_sizes, train_scores.mean(axis=1), label='Training Score')\n",
    "plt.plot(train_sizes, test_scores.mean(axis=1), label='Test Score')\n",
    "plt.title('Learning Curve')\n",
    "plt.xlabel('Training Size')\n",
    "plt.ylabel('Score')\n",
    "plt.legend()\n",
    "plt.show()"
   ]
  }
 ],
 "metadata": {
  "kernelspec": {
   "display_name": "Python 3",
   "language": "python",
   "name": "python3"
  },
  "language_info": {
   "codemirror_mode": {
    "name": "ipython",
    "version": 3
   },
   "file_extension": ".py",
   "mimetype": "text/x-python",
   "name": "python",
   "nbconvert_exporter": "python",
   "pygments_lexer": "ipython3",
   "version": "3.8.5"
  }
 },
 "nbformat": 4,
 "nbformat_minor": 5
}
