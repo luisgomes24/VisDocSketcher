{
 "cells": [
  {
   "cell_type": "markdown",
   "id": "ad8740bc",
   "metadata": {},
   "source": [
    "Load the CSV file containing the student performance data."
   ]
  },
  {
   "cell_type": "code",
   "execution_count": null,
   "id": "ad007fa1",
   "metadata": {},
   "outputs": [],
   "source": [
    "import pandas as pd\n",
    "\n",
    "# Load CSV file\n",
    "file_path = 'StudentsPerformance.csv'\n",
    "data = pd.read_csv(file_path)"
   ]
  },
  {
   "cell_type": "markdown",
   "id": "c22b2aa3",
   "metadata": {},
   "source": [
    "Extract categorical features from the data."
   ]
  },
  {
   "cell_type": "code",
   "execution_count": null,
   "id": "b4501a5a",
   "metadata": {},
   "outputs": [],
   "source": [
    "features_cat = data.select_dtypes(include=['object'])"
   ]
  },
  {
   "cell_type": "markdown",
   "id": "513a3032",
   "metadata": {},
   "source": [
    "Extract numerical features from the data."
   ]
  },
  {
   "cell_type": "code",
   "execution_count": null,
   "id": "ce9b56ab",
   "metadata": {},
   "outputs": [],
   "source": [
    "features_num = data.select_dtypes(include=['float64', 'int64'])"
   ]
  },
  {
   "cell_type": "markdown",
   "id": "71c4ea6b",
   "metadata": {},
   "source": [
    "Scale numerical features to standardize them."
   ]
  },
  {
   "cell_type": "code",
   "execution_count": null,
   "id": "b9be9199",
   "metadata": {},
   "outputs": [],
   "source": [
    "from sklearn.preprocessing import StandardScaler\n",
    "scaler = StandardScaler()\n",
    "features_scaled = scaler.fit_transform(features_num)"
   ]
  },
  {
   "cell_type": "markdown",
   "id": "66bef1e9",
   "metadata": {},
   "source": [
    "Apply KMeans clustering to identify clusters in the scaled features."
   ]
  },
  {
   "cell_type": "code",
   "execution_count": null,
   "id": "b5cb6220",
   "metadata": {},
   "outputs": [],
   "source": [
    "from sklearn.cluster import KMeans\n",
    "kmeans = KMeans(n_clusters=7)\n",
    "identified_clusters = kmeans.fit_predict(features_scaled)"
   ]
  },
  {
   "cell_type": "markdown",
   "id": "005c4ba8",
   "metadata": {},
   "source": [
    "Append the identified clusters as a new column in the original data."
   ]
  },
  {
   "cell_type": "code",
   "execution_count": null,
   "id": "5c3dac15",
   "metadata": {},
   "outputs": [],
   "source": [
    "data['clusters'] = identified_clusters"
   ]
  },
  {
   "cell_type": "markdown",
   "id": "988af112",
   "metadata": {},
   "source": [
    "Create a new DataFrame that includes the clusters in the data."
   ]
  },
  {
   "cell_type": "code",
   "execution_count": null,
   "id": "681f6486",
   "metadata": {},
   "outputs": [],
   "source": [
    "data_with_clusters = data.copy()"
   ]
  }
 ],
 "metadata": {
  "kernelspec": {
   "display_name": "Python 3",
   "language": "python",
   "name": "python3"
  },
  "language_info": {
   "codemirror_mode": {
    "name": "ipython",
    "version": 3
   },
   "file_extension": ".py",
   "mimetype": "text/x-python",
   "name": "python",
   "nbconvert_exporter": "python",
   "pygments_lexer": "ipython3",
   "version": "3.8.5"
  }
 },
 "nbformat": 4,
 "nbformat_minor": 5
}
