{
 "cells": [
  {
   "cell_type": "markdown",
   "id": "e53e6c0b",
   "metadata": {},
   "source": [
    "Load the training data from 'train.csv' using pandas."
   ]
  },
  {
   "cell_type": "code",
   "execution_count": null,
   "id": "12644ef4",
   "metadata": {},
   "outputs": [],
   "source": [
    "import pandas as pd\n",
    "train_data = pd.read_csv('train.csv')"
   ]
  },
  {
   "cell_type": "markdown",
   "id": "a3ad17f4",
   "metadata": {},
   "source": [
    "Load the testing data from 'test.csv' using pandas."
   ]
  },
  {
   "cell_type": "code",
   "execution_count": null,
   "id": "8b9e331c",
   "metadata": {},
   "outputs": [],
   "source": [
    "test_data = pd.read_csv('test.csv')"
   ]
  }
 ],
 "metadata": {
  "kernelspec": {
   "display_name": "Python 3",
   "language": "python",
   "name": "python3"
  },
  "language_info": {
   "codemirror_mode": {
    "name": "ipython",
    "version": 3
   },
   "file_extension": ".py",
   "mimetype": "text/x-python",
   "name": "python",
   "nbconvert_exporter": "python",
   "pygments_lexer": "ipython3",
   "version": "3.8.5"
  }
 },
 "nbformat": 4,
 "nbformat_minor": 5
}
