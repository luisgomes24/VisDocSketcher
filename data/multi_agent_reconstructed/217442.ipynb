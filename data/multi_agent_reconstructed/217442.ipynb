{
 "cells": [
  {
   "cell_type": "markdown",
   "id": "f1a2d79b",
   "metadata": {},
   "source": [
    "Load the CT and PET images from an HDF5 file using h5py."
   ]
  },
  {
   "cell_type": "code",
   "execution_count": null,
   "id": "5f70beba",
   "metadata": {},
   "outputs": [],
   "source": [
    "import h5py\n",
    "\n",
    "file_path = 'lab_petct_vox_5.00mm.h5'\n",
    "with h5py.File(file_path, 'r') as f:\n",
    "    ct_image = f['ct_image'][()]\n",
    "    pet_image = f['pet_image'][()]"
   ]
  },
  {
   "cell_type": "markdown",
   "id": "811f28f0",
   "metadata": {},
   "source": [
    "Stack the CT and PET images along a new axis to create a 3D volume."
   ]
  },
  {
   "cell_type": "code",
   "execution_count": null,
   "id": "dced04c0",
   "metadata": {},
   "outputs": [],
   "source": [
    "import numpy as np\n",
    "\n",
    "petct_vol = np.stack((ct_image, pet_image), axis=-1)"
   ]
  },
  {
   "cell_type": "markdown",
   "id": "456267a9",
   "metadata": {},
   "source": [
    "Apply the SLIC algorithm to segment the stacked CT and PET volume."
   ]
  },
  {
   "cell_type": "code",
   "execution_count": null,
   "id": "0a90e435",
   "metadata": {},
   "outputs": [],
   "source": [
    "from skimage.segmentation import slic\n",
    "\n",
    "petct_segs = slic(petct_vol, n_segments=2000, compactness=0.1)"
   ]
  },
  {
   "cell_type": "markdown",
   "id": "a7369572",
   "metadata": {},
   "source": [
    "Filter the segments based on brightness to isolate bright segments."
   ]
  },
  {
   "cell_type": "code",
   "execution_count": null,
   "id": "30d16a7c",
   "metadata": {},
   "outputs": [],
   "source": [
    "bright_segs = petct_segs[petct_segs > brightness_threshold]"
   ]
  },
  {
   "cell_type": "markdown",
   "id": "3b8301fc",
   "metadata": {},
   "source": [
    "Load the label image from the HDF5 file for validation."
   ]
  },
  {
   "cell_type": "code",
   "execution_count": null,
   "id": "91328a62",
   "metadata": {},
   "outputs": [],
   "source": [
    "with h5py.File(file_path, 'r') as f:\n",
    "    label_image = f['label_image'][()]"
   ]
  }
 ],
 "metadata": {
  "kernelspec": {
   "display_name": "Python 3",
   "language": "python",
   "name": "python3"
  },
  "language_info": {
   "codemirror_mode": {
    "name": "ipython",
    "version": 3
   },
   "file_extension": ".py",
   "mimetype": "text/x-python",
   "name": "python",
   "nbconvert_exporter": "python",
   "pygments_lexer": "ipython3",
   "version": "3.8.5"
  }
 },
 "nbformat": 4,
 "nbformat_minor": 5
}
