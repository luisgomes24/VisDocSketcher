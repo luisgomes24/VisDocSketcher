{
 "cells": [
  {
   "cell_type": "markdown",
   "id": "e36bf0cf",
   "metadata": {},
   "source": [
    "Load data from a CSV file into a DataFrame."
   ]
  },
  {
   "cell_type": "code",
   "execution_count": null,
   "id": "4be2148e",
   "metadata": {},
   "outputs": [],
   "source": [
    "import pandas as pd\n",
    "blog_details = pd.read_csv('sb_blog.csv')"
   ]
  },
  {
   "cell_type": "markdown",
   "id": "8801f689",
   "metadata": {},
   "source": [
    "Sort the blog details DataFrame by the 'claps' column."
   ]
  },
  {
   "cell_type": "code",
   "execution_count": null,
   "id": "5ded9551",
   "metadata": {},
   "outputs": [],
   "source": [
    "sorted_blog_details = blog_details.sort_values(by='claps')"
   ]
  },
  {
   "cell_type": "markdown",
   "id": "3a6b8228",
   "metadata": {},
   "source": [
    "Preprocess the transcript column to prepare the data."
   ]
  },
  {
   "cell_type": "code",
   "execution_count": null,
   "id": "42956f9c",
   "metadata": {},
   "outputs": [],
   "source": [
    "script = preprocess_transcript(blog_details['transcript'])"
   ]
  },
  {
   "cell_type": "markdown",
   "id": "52918af9",
   "metadata": {},
   "source": [
    "Preprocess the intro column for analysis."
   ]
  },
  {
   "cell_type": "code",
   "execution_count": null,
   "id": "ede09400",
   "metadata": {},
   "outputs": [],
   "source": [
    "intro = preprocess_intro(blog_details['intro'])"
   ]
  },
  {
   "cell_type": "markdown",
   "id": "1dfa9c4f",
   "metadata": {},
   "source": [
    "Calculate the length of the preprocessed script."
   ]
  },
  {
   "cell_type": "code",
   "execution_count": null,
   "id": "93b837ac",
   "metadata": {},
   "outputs": [],
   "source": [
    "script_len = len(script)"
   ]
  },
  {
   "cell_type": "markdown",
   "id": "e3440c60",
   "metadata": {},
   "source": [
    "Calculate the length of the preprocessed intro."
   ]
  },
  {
   "cell_type": "code",
   "execution_count": null,
   "id": "84f561d6",
   "metadata": {},
   "outputs": [],
   "source": [
    "intro_len = len(intro)"
   ]
  }
 ],
 "metadata": {
  "kernelspec": {
   "display_name": "Python 3",
   "language": "python",
   "name": "python3"
  },
  "language_info": {
   "codemirror_mode": {
    "name": "ipython",
    "version": 3
   },
   "file_extension": ".py",
   "mimetype": "text/x-python",
   "name": "python",
   "nbconvert_exporter": "python",
   "pygments_lexer": "ipython3",
   "version": "3.8.5"
  }
 },
 "nbformat": 4,
 "nbformat_minor": 5
}
