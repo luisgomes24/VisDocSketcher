{
 "cells": [
  {
   "cell_type": "markdown",
   "id": "672cccf3",
   "metadata": {},
   "source": [
    "Read the training data from a CSV file."
   ]
  },
  {
   "cell_type": "code",
   "execution_count": null,
   "id": "5efd8960",
   "metadata": {},
   "outputs": [],
   "source": [
    "import pandas as pd\n",
    "\n",
    "data = pd.read_csv('train_data.csv')"
   ]
  },
  {
   "cell_type": "markdown",
   "id": "3948cb1e",
   "metadata": {},
   "source": [
    "Split the data into features (X) and target (y) columns."
   ]
  },
  {
   "cell_type": "code",
   "execution_count": null,
   "id": "893faf40",
   "metadata": {},
   "outputs": [],
   "source": [
    "X = data[['feature1', 'feature2']]\n",
    "y = data['target']"
   ]
  },
  {
   "cell_type": "markdown",
   "id": "ae2d300e",
   "metadata": {},
   "source": [
    "Create a DataFrame from the training data."
   ]
  },
  {
   "cell_type": "code",
   "execution_count": null,
   "id": "94755783",
   "metadata": {},
   "outputs": [],
   "source": [
    "train_df = pd.DataFrame(data)"
   ]
  },
  {
   "cell_type": "markdown",
   "id": "5309b0fe",
   "metadata": {},
   "source": [
    "Visualize the categorical data using a bar plot."
   ]
  },
  {
   "cell_type": "code",
   "execution_count": null,
   "id": "e4378778",
   "metadata": {},
   "outputs": [],
   "source": [
    "import matplotlib.pyplot as plt\n",
    "\n",
    "train_df['Category'].value_counts().plot(kind='bar')\n",
    "plt.show()"
   ]
  },
  {
   "cell_type": "markdown",
   "id": "7f0b34ad",
   "metadata": {},
   "source": [
    "Create a scatterplot to visualize the relationship between two features."
   ]
  },
  {
   "cell_type": "code",
   "execution_count": null,
   "id": "d12612ab",
   "metadata": {},
   "outputs": [],
   "source": [
    "plt.scatter(train_df['feature1'], train_df['feature2'])\n",
    "plt.xlabel('Feature 1')\n",
    "plt.ylabel('Feature 2')\n",
    "plt.show()"
   ]
  },
  {
   "cell_type": "markdown",
   "id": "3278967e",
   "metadata": {},
   "source": [
    "Split the data into training and testing sets and train a linear regression model."
   ]
  },
  {
   "cell_type": "code",
   "execution_count": null,
   "id": "de58fa9b",
   "metadata": {},
   "outputs": [],
   "source": [
    "from sklearn.model_selection import train_test_split\n",
    "from sklearn.linear_model import LinearRegression\n",
    "\n",
    "X_train, X_test, y_train, y_test = train_test_split(X, y, test_size=0.2)\n",
    "model = LinearRegression()\n",
    "model.fit(X_train, y_train)"
   ]
  }
 ],
 "metadata": {
  "kernelspec": {
   "display_name": "Python 3",
   "language": "python",
   "name": "python3"
  },
  "language_info": {
   "codemirror_mode": {
    "name": "ipython",
    "version": 3
   },
   "file_extension": ".py",
   "mimetype": "text/x-python",
   "name": "python",
   "nbconvert_exporter": "python",
   "pygments_lexer": "ipython3",
   "version": "3.8.5"
  }
 },
 "nbformat": 4,
 "nbformat_minor": 5
}
