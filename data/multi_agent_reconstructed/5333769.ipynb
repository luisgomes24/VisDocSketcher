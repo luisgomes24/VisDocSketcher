{
 "cells": [
  {
   "cell_type": "markdown",
   "id": "3396f49e",
   "metadata": {},
   "source": [
    "Load the training data from a CSV file into a Pandas DataFrame."
   ]
  },
  {
   "cell_type": "code",
   "execution_count": null,
   "id": "c3e5dfb6",
   "metadata": {},
   "outputs": [],
   "source": [
    "import pandas as pd\n",
    "import matplotlib.pyplot as plt\n",
    "\n",
    "train_data = pd.read_csv('train_transaction.csv')"
   ]
  },
  {
   "cell_type": "markdown",
   "id": "4c0ea0dd",
   "metadata": {},
   "source": [
    "Create a scatter plot from the training data with X and Y axes labeled."
   ]
  },
  {
   "cell_type": "code",
   "execution_count": null,
   "id": "265154f1",
   "metadata": {},
   "outputs": [],
   "source": [
    "plt.scatter(train_data['X'], train_data['Y'])\n",
    "plt.xlabel('X Axis')\n",
    "plt.ylabel('Y Axis')\n",
    "plt.title('Scatter Plot')"
   ]
  },
  {
   "cell_type": "markdown",
   "id": "5ae5f6fe",
   "metadata": {},
   "source": [
    "Display the scatter plot for the training data."
   ]
  },
  {
   "cell_type": "code",
   "execution_count": null,
   "id": "d6c61cc7",
   "metadata": {},
   "outputs": [],
   "source": [
    "plt.show()"
   ]
  },
  {
   "cell_type": "markdown",
   "id": "459e7866",
   "metadata": {},
   "source": [
    "Load the test data from a CSV file into a Pandas DataFrame."
   ]
  },
  {
   "cell_type": "code",
   "execution_count": null,
   "id": "d18964cf",
   "metadata": {},
   "outputs": [],
   "source": [
    "test_data = pd.read_csv('test_transaction.csv')"
   ]
  },
  {
   "cell_type": "markdown",
   "id": "188340e8",
   "metadata": {},
   "source": [
    "Create a scatter plot for the test data with X and Y axes labeled."
   ]
  },
  {
   "cell_type": "code",
   "execution_count": null,
   "id": "39e691af",
   "metadata": {},
   "outputs": [],
   "source": [
    "plt.scatter(test_data['X'], test_data['Y'])\n",
    "plt.xlabel('X Axis')\n",
    "plt.ylabel('Y Axis')\n",
    "plt.title('Output Scatter Plot')"
   ]
  },
  {
   "cell_type": "markdown",
   "id": "7cd846da",
   "metadata": {},
   "source": [
    "Display the scatter plot for the test data."
   ]
  },
  {
   "cell_type": "code",
   "execution_count": null,
   "id": "a45a63e0",
   "metadata": {},
   "outputs": [],
   "source": [
    "plt.show()"
   ]
  }
 ],
 "metadata": {
  "kernelspec": {
   "display_name": "Python 3",
   "language": "python",
   "name": "python3"
  },
  "language_info": {
   "codemirror_mode": {
    "name": "ipython",
    "version": 3
   },
   "file_extension": ".py",
   "mimetype": "text/x-python",
   "name": "python",
   "nbconvert_exporter": "python",
   "pygments_lexer": "ipython3",
   "version": "3.8.5"
  }
 },
 "nbformat": 4,
 "nbformat_minor": 5
}
