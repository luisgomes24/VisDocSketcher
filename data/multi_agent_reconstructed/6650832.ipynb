{
 "cells": [
  {
   "cell_type": "markdown",
   "id": "e5abd7ba",
   "metadata": {},
   "source": [
    "Load the first CSV file into a DataFrame called df1."
   ]
  },
  {
   "cell_type": "code",
   "execution_count": null,
   "id": "89726070",
   "metadata": {},
   "outputs": [],
   "source": [
    "import pandas as pd\n",
    "df1 = pd.read_csv('/kaggle/input/operators.csv')"
   ]
  },
  {
   "cell_type": "markdown",
   "id": "29351bb2",
   "metadata": {},
   "source": [
    "Load the second CSV file into a DataFrame called df2."
   ]
  },
  {
   "cell_type": "code",
   "execution_count": null,
   "id": "0a5ccc6a",
   "metadata": {},
   "outputs": [],
   "source": [
    "df2 = pd.read_csv('/kaggle/input/weapons.csv')"
   ]
  },
  {
   "cell_type": "markdown",
   "id": "4e251c98",
   "metadata": {},
   "source": [
    "Create and display a histogram to show the distribution of df1."
   ]
  },
  {
   "cell_type": "code",
   "execution_count": null,
   "id": "1941ec4b",
   "metadata": {},
   "outputs": [],
   "source": [
    "import seaborn as sns\n",
    "import matplotlib.pyplot as plt\n",
    "sns.histplot(df1)\n",
    "plt.title('Distribution for df1')\n",
    "plt.show()"
   ]
  },
  {
   "cell_type": "markdown",
   "id": "cfba8737",
   "metadata": {},
   "source": [
    "Create and display a heatmap to visualize the correlation in df1."
   ]
  },
  {
   "cell_type": "code",
   "execution_count": null,
   "id": "78456378",
   "metadata": {},
   "outputs": [],
   "source": [
    "sns.heatmap(df1.corr(), annot=True)\n",
    "plt.title('Correlation for df1')\n",
    "plt.show()"
   ]
  },
  {
   "cell_type": "markdown",
   "id": "e62fe7a1",
   "metadata": {},
   "source": [
    "Create and display a scatter plot for df1."
   ]
  },
  {
   "cell_type": "code",
   "execution_count": null,
   "id": "0a54cf0c",
   "metadata": {},
   "outputs": [],
   "source": [
    "sns.scatterplot(x='X_Axis', y='Y_Axis', data=df1)\n",
    "plt.title('Scatter Plot for df1')\n",
    "plt.show()"
   ]
  },
  {
   "cell_type": "markdown",
   "id": "877e73c1",
   "metadata": {},
   "source": [
    "Create and display a histogram to show the distribution of df2."
   ]
  },
  {
   "cell_type": "code",
   "execution_count": null,
   "id": "121cb4ad",
   "metadata": {},
   "outputs": [],
   "source": [
    "sns.histplot(df2)\n",
    "plt.title('Distribution for df2')\n",
    "plt.show()"
   ]
  },
  {
   "cell_type": "markdown",
   "id": "b1f14a75",
   "metadata": {},
   "source": [
    "Create and display a heatmap to visualize the correlation in df2."
   ]
  },
  {
   "cell_type": "code",
   "execution_count": null,
   "id": "0eb0da33",
   "metadata": {},
   "outputs": [],
   "source": [
    "sns.heatmap(df2.corr(), annot=True)\n",
    "plt.title('Correlation for df2')\n",
    "plt.show()"
   ]
  },
  {
   "cell_type": "markdown",
   "id": "75d0cd9c",
   "metadata": {},
   "source": [
    "Create and display a scatter plot for df2."
   ]
  },
  {
   "cell_type": "code",
   "execution_count": null,
   "id": "8a399e2e",
   "metadata": {},
   "outputs": [],
   "source": [
    "sns.scatterplot(x='X_Axis', y='Y_Axis', data=df2)\n",
    "plt.title('Scatter Plot for df2')\n",
    "plt.show()"
   ]
  }
 ],
 "metadata": {
  "kernelspec": {
   "display_name": "Python 3",
   "language": "python",
   "name": "python3"
  },
  "language_info": {
   "codemirror_mode": {
    "name": "ipython",
    "version": 3
   },
   "file_extension": ".py",
   "mimetype": "text/x-python",
   "name": "python",
   "nbconvert_exporter": "python",
   "pygments_lexer": "ipython3",
   "version": "3.8.5"
  }
 },
 "nbformat": 4,
 "nbformat_minor": 5
}
