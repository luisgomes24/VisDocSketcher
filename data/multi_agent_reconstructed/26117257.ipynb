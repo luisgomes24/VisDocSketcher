{
 "cells": [
  {
   "cell_type": "markdown",
   "id": "e3644baf",
   "metadata": {},
   "source": [
    "Read the Taj Mahal image using OpenCV."
   ]
  },
  {
   "cell_type": "code",
   "execution_count": null,
   "id": "bc28247f",
   "metadata": {},
   "outputs": [],
   "source": [
    "import cv2\n",
    "image_taj_mahal = cv2.imread('taj_mahal.jpg')"
   ]
  },
  {
   "cell_type": "markdown",
   "id": "62981344",
   "metadata": {},
   "source": [
    "Store the BGR representation of the Taj Mahal image."
   ]
  },
  {
   "cell_type": "code",
   "execution_count": null,
   "id": "109a0377",
   "metadata": {},
   "outputs": [],
   "source": [
    "image_bgr_taj_mahal = image_taj_mahal"
   ]
  },
  {
   "cell_type": "markdown",
   "id": "80eb51d9",
   "metadata": {},
   "source": [
    "Convert the BGR image to RGB format."
   ]
  },
  {
   "cell_type": "code",
   "execution_count": null,
   "id": "889f12b5",
   "metadata": {},
   "outputs": [],
   "source": [
    "image_rgb_taj_mahal = cv2.cvtColor(image_bgr_taj_mahal, cv2.COLOR_BGR2RGB)"
   ]
  },
  {
   "cell_type": "markdown",
   "id": "3c7fdd7d",
   "metadata": {},
   "source": [
    "Convert the RGB image to a tensor."
   ]
  },
  {
   "cell_type": "code",
   "execution_count": null,
   "id": "209616a0",
   "metadata": {},
   "outputs": [],
   "source": [
    "import torch\n",
    "tensor_rgb_taj_mahal = torch.tensor(image_rgb_taj_mahal).permute(2, 0, 1)"
   ]
  },
  {
   "cell_type": "markdown",
   "id": "46ed5e2e",
   "metadata": {},
   "source": [
    "Read the Tōdai-ji Temple image using OpenCV."
   ]
  },
  {
   "cell_type": "code",
   "execution_count": null,
   "id": "290d56ac",
   "metadata": {},
   "outputs": [],
   "source": [
    "image_todai_ji = cv2.imread('todai_ji.jpg')"
   ]
  },
  {
   "cell_type": "markdown",
   "id": "1877ac30",
   "metadata": {},
   "source": [
    "Store the BGR representation of the Tōdai-ji image."
   ]
  },
  {
   "cell_type": "code",
   "execution_count": null,
   "id": "2cc45df0",
   "metadata": {},
   "outputs": [],
   "source": [
    "image_bgr_todai_ji = image_todai_ji"
   ]
  },
  {
   "cell_type": "markdown",
   "id": "96c6eccd",
   "metadata": {},
   "source": [
    "Convert the Tōdai-ji BGR image to RGB format."
   ]
  },
  {
   "cell_type": "code",
   "execution_count": null,
   "id": "f866ae84",
   "metadata": {},
   "outputs": [],
   "source": [
    "image_rgb_todai_ji = cv2.cvtColor(image_bgr_todai_ji, cv2.COLOR_BGR2RGB)"
   ]
  },
  {
   "cell_type": "markdown",
   "id": "196c9c4f",
   "metadata": {},
   "source": [
    "Convert the RGB Tōdai-ji image to a tensor."
   ]
  },
  {
   "cell_type": "code",
   "execution_count": null,
   "id": "cac56bf3",
   "metadata": {},
   "outputs": [],
   "source": [
    "tensor_rgb_todai_ji = torch.tensor(image_rgb_todai_ji).permute(2, 0, 1)"
   ]
  },
  {
   "cell_type": "markdown",
   "id": "3419133e",
   "metadata": {},
   "source": [
    "Read the Piazza San Marco image using OpenCV."
   ]
  },
  {
   "cell_type": "code",
   "execution_count": null,
   "id": "2329ed85",
   "metadata": {},
   "outputs": [],
   "source": [
    "image_san_marco = cv2.imread('san_marco.jpg')"
   ]
  },
  {
   "cell_type": "markdown",
   "id": "bdfef163",
   "metadata": {},
   "source": [
    "Store the BGR representation of the San Marco image."
   ]
  },
  {
   "cell_type": "code",
   "execution_count": null,
   "id": "80780ba8",
   "metadata": {},
   "outputs": [],
   "source": [
    "image_bgr_san_marco = image_san_marco"
   ]
  },
  {
   "cell_type": "markdown",
   "id": "6a317cb6",
   "metadata": {},
   "source": [
    "Convert the San Marco BGR image to RGB format."
   ]
  },
  {
   "cell_type": "code",
   "execution_count": null,
   "id": "18f8c0a9",
   "metadata": {},
   "outputs": [],
   "source": [
    "image_rgb_san_marco = cv2.cvtColor(image_bgr_san_marco, cv2.COLOR_BGR2RGB)"
   ]
  },
  {
   "cell_type": "markdown",
   "id": "e8d6bb27",
   "metadata": {},
   "source": [
    "Convert the RGB San Marco image to a tensor."
   ]
  },
  {
   "cell_type": "code",
   "execution_count": null,
   "id": "a5a0b744",
   "metadata": {},
   "outputs": [],
   "source": [
    "tensor_rgb_san_marco = torch.tensor(image_rgb_san_marco).permute(2, 0, 1)"
   ]
  },
  {
   "cell_type": "markdown",
   "id": "804d6f4d",
   "metadata": {},
   "source": [
    "Create an augmentation pipeline with various transformations."
   ]
  },
  {
   "cell_type": "code",
   "execution_count": null,
   "id": "15071ef2",
   "metadata": {},
   "outputs": [],
   "source": [
    "from torchvision import transforms\n",
    "augmentation_pipeline = transforms.Compose([transforms.ColorJitter(), transforms.RandomAffine(), transforms.RandomPerspective()])"
   ]
  },
  {
   "cell_type": "markdown",
   "id": "5fb8aae2",
   "metadata": {},
   "source": [
    "Apply augmentations to the Taj Mahal tensor."
   ]
  },
  {
   "cell_type": "code",
   "execution_count": null,
   "id": "b304a6fb",
   "metadata": {},
   "outputs": [],
   "source": [
    "augmented_tensor_taj_mahal = augmentation_pipeline(tensor_rgb_taj_mahal)"
   ]
  },
  {
   "cell_type": "markdown",
   "id": "ea977e31",
   "metadata": {},
   "source": [
    "Apply augmentations to the Tōdai-ji tensor."
   ]
  },
  {
   "cell_type": "code",
   "execution_count": null,
   "id": "06ba3276",
   "metadata": {},
   "outputs": [],
   "source": [
    "augmented_tensor_todai_ji = augmentation_pipeline(tensor_rgb_todai_ji)"
   ]
  },
  {
   "cell_type": "markdown",
   "id": "d9c724df",
   "metadata": {},
   "source": [
    "Apply augmentations to the San Marco tensor."
   ]
  },
  {
   "cell_type": "code",
   "execution_count": null,
   "id": "a3339da2",
   "metadata": {},
   "outputs": [],
   "source": [
    "augmented_tensor_san_marco = augmentation_pipeline(tensor_rgb_san_marco)"
   ]
  }
 ],
 "metadata": {
  "kernelspec": {
   "display_name": "Python 3",
   "language": "python",
   "name": "python3"
  },
  "language_info": {
   "codemirror_mode": {
    "name": "ipython",
    "version": 3
   },
   "file_extension": ".py",
   "mimetype": "text/x-python",
   "name": "python",
   "nbconvert_exporter": "python",
   "pygments_lexer": "ipython3",
   "version": "3.8.5"
  }
 },
 "nbformat": 4,
 "nbformat_minor": 5
}
