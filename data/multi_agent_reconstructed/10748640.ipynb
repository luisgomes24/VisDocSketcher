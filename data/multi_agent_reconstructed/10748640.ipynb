{
 "cells": [
  {
   "cell_type": "markdown",
   "id": "527da97d",
   "metadata": {},
   "source": [
    "Load data from a CSV file into a DataFrame."
   ]
  },
  {
   "cell_type": "code",
   "execution_count": null,
   "id": "a16dce99",
   "metadata": {},
   "outputs": [],
   "source": [
    "import pandas as pd\n",
    "raw_csv_data = pd.read_csv('data.csv')"
   ]
  },
  {
   "cell_type": "markdown",
   "id": "0d9f4c08",
   "metadata": {},
   "source": [
    "Create a copy of the raw data for further processing."
   ]
  },
  {
   "cell_type": "code",
   "execution_count": null,
   "id": "70f41d2d",
   "metadata": {},
   "outputs": [],
   "source": [
    "df_comp = raw_csv_data.copy()"
   ]
  },
  {
   "cell_type": "markdown",
   "id": "33c36353",
   "metadata": {},
   "source": [
    "Calculate returns based on the price column."
   ]
  },
  {
   "cell_type": "code",
   "execution_count": null,
   "id": "9260b49a",
   "metadata": {},
   "outputs": [],
   "source": [
    "df['returns'] = df['price'].pct_change()"
   ]
  },
  {
   "cell_type": "markdown",
   "id": "32fa252d",
   "metadata": {},
   "source": [
    "Split the DataFrame into training and test datasets."
   ]
  },
  {
   "cell_type": "code",
   "execution_count": null,
   "id": "9228a9e1",
   "metadata": {},
   "outputs": [],
   "source": [
    "df_train, df_test = df[:-20], df[-20:]"
   ]
  },
  {
   "cell_type": "markdown",
   "id": "2a32bf8c",
   "metadata": {},
   "source": [
    "Train an ARMA(1,1) model on the training dataset."
   ]
  },
  {
   "cell_type": "code",
   "execution_count": null,
   "id": "ce1563e8",
   "metadata": {},
   "outputs": [],
   "source": [
    "from statsmodels.tsa.arima_model import ARMA\n",
    "model_ret_ar_1_ma_1 = ARMA(df['returns'], order=(1, 1)).fit()"
   ]
  },
  {
   "cell_type": "markdown",
   "id": "fb42ccfa",
   "metadata": {},
   "source": [
    "Fit the ARMA(1,1) model and summarize the results."
   ]
  },
  {
   "cell_type": "code",
   "execution_count": null,
   "id": "2cfef08c",
   "metadata": {},
   "outputs": [],
   "source": [
    "results_ret_ar_1_ma_1 = model_ret_ar_1_ma_1.summary()"
   ]
  },
  {
   "cell_type": "markdown",
   "id": "e3772691",
   "metadata": {},
   "source": [
    "Train an ARMA(3,3) model on the training dataset."
   ]
  },
  {
   "cell_type": "code",
   "execution_count": null,
   "id": "eda13220",
   "metadata": {},
   "outputs": [],
   "source": [
    "from statsmodels.tsa.arima_model import ARMA\n",
    "model_ret_ar_3_ma_3 = ARMA(df['returns'], order=(3, 3)).fit()"
   ]
  },
  {
   "cell_type": "markdown",
   "id": "f01c7961",
   "metadata": {},
   "source": [
    "Fit the ARMA(3,3) model and summarize the results."
   ]
  },
  {
   "cell_type": "code",
   "execution_count": null,
   "id": "5157d02b",
   "metadata": {},
   "outputs": [],
   "source": [
    "results_ret_ar_3_ma_3 = model_ret_ar_3_ma_3.summary()"
   ]
  },
  {
   "cell_type": "markdown",
   "id": "0c6b11c4",
   "metadata": {},
   "source": [
    "Compare AIC values of ARMA models to evaluate performance."
   ]
  },
  {
   "cell_type": "code",
   "execution_count": null,
   "id": "44bb697a",
   "metadata": {},
   "outputs": [],
   "source": [
    "comparison = {'ARMA(1,1)': results_ret_ar_1_ma_1.aic, 'ARMA(3,3)': results_ret_ar_3_ma_3.aic}"
   ]
  }
 ],
 "metadata": {
  "kernelspec": {
   "display_name": "Python 3",
   "language": "python",
   "name": "python3"
  },
  "language_info": {
   "codemirror_mode": {
    "name": "ipython",
    "version": 3
   },
   "file_extension": ".py",
   "mimetype": "text/x-python",
   "name": "python",
   "nbconvert_exporter": "python",
   "pygments_lexer": "ipython3",
   "version": "3.8.5"
  }
 },
 "nbformat": 4,
 "nbformat_minor": 5
}
