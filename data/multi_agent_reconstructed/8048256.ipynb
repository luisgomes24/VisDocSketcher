{
 "cells": [
  {
   "cell_type": "markdown",
   "id": "80687fe2",
   "metadata": {},
   "source": [
    "Load data from the Excel file into a DataFrame."
   ]
  },
  {
   "cell_type": "code",
   "execution_count": null,
   "id": "c7ea4a92",
   "metadata": {},
   "outputs": [],
   "source": [
    "import pandas as pd\n",
    "df = pd.read_excel('train_data_modified21_02.xlsx')"
   ]
  },
  {
   "cell_type": "markdown",
   "id": "87f2daf0",
   "metadata": {},
   "source": [
    "Extract target labels from the DataFrame."
   ]
  },
  {
   "cell_type": "code",
   "execution_count": null,
   "id": "70d54d7d",
   "metadata": {},
   "outputs": [],
   "source": [
    "labels = df['target_column']"
   ]
  },
  {
   "cell_type": "markdown",
   "id": "92f5c213",
   "metadata": {},
   "source": [
    "Check for missing values in the DataFrame."
   ]
  },
  {
   "cell_type": "code",
   "execution_count": null,
   "id": "63c54a76",
   "metadata": {},
   "outputs": [],
   "source": [
    "df_null = df.isnull().sum()"
   ]
  },
  {
   "cell_type": "markdown",
   "id": "b3197a0b",
   "metadata": {},
   "source": [
    "Handle missing values by filling NaNs with the previous value."
   ]
  },
  {
   "cell_type": "code",
   "execution_count": null,
   "id": "e3516289",
   "metadata": {},
   "outputs": [],
   "source": [
    "df.fillna(method='ffill', inplace=True)"
   ]
  }
 ],
 "metadata": {
  "kernelspec": {
   "display_name": "Python 3",
   "language": "python",
   "name": "python3"
  },
  "language_info": {
   "codemirror_mode": {
    "name": "ipython",
    "version": 3
   },
   "file_extension": ".py",
   "mimetype": "text/x-python",
   "name": "python",
   "nbconvert_exporter": "python",
   "pygments_lexer": "ipython3",
   "version": "3.8.5"
  }
 },
 "nbformat": 4,
 "nbformat_minor": 5
}
