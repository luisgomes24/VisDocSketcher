{
 "cells": [
  {
   "cell_type": "markdown",
   "id": "708b31c3",
   "metadata": {},
   "source": [
    "Load the Follicular Lymphoma RNA-seq data using Scanpy's read function."
   ]
  },
  {
   "cell_type": "code",
   "execution_count": null,
   "id": "1b796546",
   "metadata": {},
   "outputs": [],
   "source": [
    "import scanpy as sc\n",
    "\n",
    "adata = sc.read_10x_mtx('path/to/data')"
   ]
  },
  {
   "cell_type": "markdown",
   "id": "b3ce855e",
   "metadata": {},
   "source": [
    "Define gene lists for G1/S and G2/M phases."
   ]
  },
  {
   "cell_type": "code",
   "execution_count": null,
   "id": "819ebbc9",
   "metadata": {},
   "outputs": [],
   "source": [
    "G1S_genes_Tirosh = ['gene1', 'gene2', 'gene3']\n",
    "G2M_genes_Tirosh = ['gene4', 'gene5', 'gene6']"
   ]
  },
  {
   "cell_type": "markdown",
   "id": "d898800d",
   "metadata": {},
   "source": [
    "Normalize the data and log-transform it for further analysis."
   ]
  },
  {
   "cell_type": "code",
   "execution_count": null,
   "id": "67fe4024",
   "metadata": {},
   "outputs": [],
   "source": [
    "sc.pp.normalize_total(adata, target_sum=1e4)\n",
    "sc.pp.log1p(adata)"
   ]
  },
  {
   "cell_type": "markdown",
   "id": "00fab43c",
   "metadata": {},
   "source": [
    "Plot the spatial distribution of the cells."
   ]
  },
  {
   "cell_type": "code",
   "execution_count": null,
   "id": "ffed4a00",
   "metadata": {},
   "outputs": [],
   "source": [
    "sc.pl.scatter(adata, x='x_coordinate', y='y_coordinate')"
   ]
  },
  {
   "cell_type": "markdown",
   "id": "a60fd32d",
   "metadata": {},
   "source": [
    "Generate a phase plot using the defined gene lists."
   ]
  },
  {
   "cell_type": "code",
   "execution_count": null,
   "id": "fb40af65",
   "metadata": {},
   "outputs": [],
   "source": [
    "phase_plot(adata, G1S_genes_Tirosh, G2M_genes_Tirosh)"
   ]
  }
 ],
 "metadata": {
  "kernelspec": {
   "display_name": "Python 3",
   "language": "python",
   "name": "python3"
  },
  "language_info": {
   "codemirror_mode": {
    "name": "ipython",
    "version": 3
   },
   "file_extension": ".py",
   "mimetype": "text/x-python",
   "name": "python",
   "nbconvert_exporter": "python",
   "pygments_lexer": "ipython3",
   "version": "3.8.5"
  }
 },
 "nbformat": 4,
 "nbformat_minor": 5
}
