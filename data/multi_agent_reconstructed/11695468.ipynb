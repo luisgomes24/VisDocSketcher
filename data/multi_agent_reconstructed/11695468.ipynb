{
 "cells": [
  {
   "cell_type": "markdown",
   "id": "a7768580",
   "metadata": {},
   "source": [
    "Read the CSV file into a DataFrame named df1."
   ]
  },
  {
   "cell_type": "code",
   "execution_count": null,
   "id": "afb840b5",
   "metadata": {},
   "outputs": [],
   "source": [
    "import pandas as pd\n",
    "\n",
    "df1 = pd.read_csv('eu_sf_far_2007_2013.csv')"
   ]
  },
  {
   "cell_type": "markdown",
   "id": "b7b66d3b",
   "metadata": {},
   "source": [
    "Plot distributions of variables using a pairplot."
   ]
  },
  {
   "cell_type": "code",
   "execution_count": null,
   "id": "4993f408",
   "metadata": {},
   "outputs": [],
   "source": [
    "import seaborn as sns\n",
    "import matplotlib.pyplot as plt\n",
    "\n",
    "sns.pairplot(df1)\n",
    "plt.show()"
   ]
  },
  {
   "cell_type": "markdown",
   "id": "5ae38a8f",
   "metadata": {},
   "source": [
    "Create a histogram for a specified column in the DataFrame."
   ]
  },
  {
   "cell_type": "code",
   "execution_count": null,
   "id": "13f8034f",
   "metadata": {},
   "outputs": [],
   "source": [
    "df1['ColumnName'].hist(bins=10)\n",
    "plt.xlabel('Value')\n",
    "plt.ylabel('Frequency')\n",
    "plt.title('Histogram')\n",
    "plt.show()"
   ]
  },
  {
   "cell_type": "markdown",
   "id": "7cdba565",
   "metadata": {},
   "source": [
    "Generate and visualize the correlation matrix using a heatmap."
   ]
  },
  {
   "cell_type": "code",
   "execution_count": null,
   "id": "c9da9b31",
   "metadata": {},
   "outputs": [],
   "source": [
    "correlation_matrix = df1.corr()\n",
    "sns.heatmap(correlation_matrix, annot=True)\n",
    "plt.title('Correlation Matrix')\n",
    "plt.show()"
   ]
  }
 ],
 "metadata": {
  "kernelspec": {
   "display_name": "Python 3",
   "language": "python",
   "name": "python3"
  },
  "language_info": {
   "codemirror_mode": {
    "name": "ipython",
    "version": 3
   },
   "file_extension": ".py",
   "mimetype": "text/x-python",
   "name": "python",
   "nbconvert_exporter": "python",
   "pygments_lexer": "ipython3",
   "version": "3.8.5"
  }
 },
 "nbformat": 4,
 "nbformat_minor": 5
}
