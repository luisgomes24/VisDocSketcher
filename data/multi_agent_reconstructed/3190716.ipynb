{
 "cells": [
  {
   "cell_type": "markdown",
   "id": "9b11f6e5",
   "metadata": {},
   "source": [
    "Import required libraries and define the dimensions of each layer."
   ]
  },
  {
   "cell_type": "code",
   "execution_count": null,
   "id": "5751d1e5",
   "metadata": {},
   "outputs": [],
   "source": [
    "import numpy as np\n",
    "from keras.models import Sequential\n",
    "from keras.layers import Dense\n",
    "from keras.optimizers import Adam\n",
    "\n",
    "# Define dimensions of layers\n",
    "layers_dims = [10, 5, 1]  # Example sizes"
   ]
  },
  {
   "cell_type": "markdown",
   "id": "18609f94",
   "metadata": {},
   "source": [
    "Create a Sequential model and add layers according to the defined dimensions."
   ]
  },
  {
   "cell_type": "code",
   "execution_count": null,
   "id": "f294b7e1",
   "metadata": {},
   "outputs": [],
   "source": [
    "model = Sequential()\n",
    "model.add(Dense(layers_dims[1], input_dim=layers_dims[0], activation='relu'))\n",
    "model.add(Dense(layers_dims[2], activation='sigmoid'))"
   ]
  },
  {
   "cell_type": "markdown",
   "id": "90d454e1",
   "metadata": {},
   "source": [
    "Compile the model using the Adam optimizer and specify the loss function."
   ]
  },
  {
   "cell_type": "code",
   "execution_count": null,
   "id": "d13800ff",
   "metadata": {},
   "outputs": [],
   "source": [
    "model.compile(optimizer=Adam(), loss='binary_crossentropy', metrics=['accuracy'])"
   ]
  },
  {
   "cell_type": "markdown",
   "id": "9e807402",
   "metadata": {},
   "source": [
    "Train the model using input data X and true labels Y for a specified number of epochs."
   ]
  },
  {
   "cell_type": "code",
   "execution_count": null,
   "id": "6ba6c009",
   "metadata": {},
   "outputs": [],
   "source": [
    "model.fit(X, Y, epochs=100, batch_size=32, verbose=1)"
   ]
  },
  {
   "cell_type": "markdown",
   "id": "b622bfa2",
   "metadata": {},
   "source": [
    "Evaluate the model on training data to track the training cost."
   ]
  },
  {
   "cell_type": "code",
   "execution_count": null,
   "id": "26d85884",
   "metadata": {},
   "outputs": [],
   "source": [
    "train_loss = model.evaluate(X, Y)"
   ]
  },
  {
   "cell_type": "markdown",
   "id": "543ff66c",
   "metadata": {},
   "source": [
    "Generate predictions from the trained model for input data X."
   ]
  },
  {
   "cell_type": "code",
   "execution_count": null,
   "id": "6ed4cdc2",
   "metadata": {},
   "outputs": [],
   "source": [
    "predictions = model.predict(X)\n",
    "# Use predictions in further analysis"
   ]
  }
 ],
 "metadata": {
  "kernelspec": {
   "display_name": "Python 3",
   "language": "python",
   "name": "python3"
  },
  "language_info": {
   "codemirror_mode": {
    "name": "ipython",
    "version": 3
   },
   "file_extension": ".py",
   "mimetype": "text/x-python",
   "name": "python",
   "nbconvert_exporter": "python",
   "pygments_lexer": "ipython3",
   "version": "3.8.5"
  }
 },
 "nbformat": 4,
 "nbformat_minor": 5
}
