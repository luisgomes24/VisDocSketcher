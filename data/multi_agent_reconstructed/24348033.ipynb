{
 "cells": [
  {
   "cell_type": "markdown",
   "id": "94896a9b",
   "metadata": {},
   "source": [
    "Create DATA using rx.range(1000) to generate a range of numbers."
   ]
  },
  {
   "cell_type": "code",
   "execution_count": null,
   "id": "01d786dc",
   "metadata": {},
   "outputs": [],
   "source": [
    "import rx\n",
    "\n",
    "DATA = rx.range(1000)"
   ]
  },
  {
   "cell_type": "markdown",
   "id": "ffff9f41",
   "metadata": {},
   "source": [
    "Use DATA in a pipeline with various operators."
   ]
  },
  {
   "cell_type": "code",
   "execution_count": null,
   "id": "eb2d7feb",
   "metadata": {},
   "outputs": [],
   "source": [
    "DATA.pipe(...)"
   ]
  },
  {
   "cell_type": "markdown",
   "id": "0e7c0b5e",
   "metadata": {},
   "source": [
    "Define SKIP_CONDITION to filter even values from DATA."
   ]
  },
  {
   "cell_type": "code",
   "execution_count": null,
   "id": "d4d413c2",
   "metadata": {},
   "outputs": [],
   "source": [
    "SKIP_CONDITION = DATA.filter(lambda x: x % 2 == 0)"
   ]
  },
  {
   "cell_type": "markdown",
   "id": "bad0f762",
   "metadata": {},
   "source": [
    "Use SKIP_CONDITION in a 'while' subscription."
   ]
  },
  {
   "cell_type": "code",
   "execution_count": null,
   "id": "f23c8172",
   "metadata": {},
   "outputs": [],
   "source": [
    "SKIP_CONDITION.subscribe(...)"
   ]
  },
  {
   "cell_type": "markdown",
   "id": "1cb05c96",
   "metadata": {},
   "source": [
    "Define SKIP_SECOND to skip the first item in DATA."
   ]
  },
  {
   "cell_type": "code",
   "execution_count": null,
   "id": "66e98c74",
   "metadata": {},
   "outputs": [],
   "source": [
    "SKIP_SECOND = DATA.skip(1)"
   ]
  },
  {
   "cell_type": "markdown",
   "id": "412169ed",
   "metadata": {},
   "source": [
    "Use SKIP_SECOND in an 'until' subscription."
   ]
  },
  {
   "cell_type": "code",
   "execution_count": null,
   "id": "0a832326",
   "metadata": {},
   "outputs": [],
   "source": [
    "SKIP_SECOND.subscribe(...)"
   ]
  }
 ],
 "metadata": {
  "kernelspec": {
   "display_name": "Python 3",
   "language": "python",
   "name": "python3"
  },
  "language_info": {
   "codemirror_mode": {
    "name": "ipython",
    "version": 3
   },
   "file_extension": ".py",
   "mimetype": "text/x-python",
   "name": "python",
   "nbconvert_exporter": "python",
   "pygments_lexer": "ipython3",
   "version": "3.8.5"
  }
 },
 "nbformat": 4,
 "nbformat_minor": 5
}
