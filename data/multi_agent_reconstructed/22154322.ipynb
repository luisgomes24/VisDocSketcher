{
 "cells": [
  {
   "cell_type": "markdown",
   "id": "8566fedf",
   "metadata": {},
   "source": [
    "Load the test sales data from the CSV file."
   ]
  },
  {
   "cell_type": "code",
   "execution_count": null,
   "id": "14119f67",
   "metadata": {},
   "outputs": [],
   "source": [
    "import pandas as pd\n",
    "test_df = pd.read_csv('test_sales.csv')"
   ]
  },
  {
   "cell_type": "markdown",
   "id": "1fb0cbd6",
   "metadata": {},
   "source": [
    "Load the store data from the CSV file."
   ]
  },
  {
   "cell_type": "code",
   "execution_count": null,
   "id": "bc982bcb",
   "metadata": {},
   "outputs": [],
   "source": [
    "stores_df = pd.read_csv('stores.csv')"
   ]
  },
  {
   "cell_type": "markdown",
   "id": "0586b00a",
   "metadata": {},
   "source": [
    "Load the training sales data from the CSV file."
   ]
  },
  {
   "cell_type": "code",
   "execution_count": null,
   "id": "492696f0",
   "metadata": {},
   "outputs": [],
   "source": [
    "train_df = pd.read_csv('train_sales.csv')"
   ]
  },
  {
   "cell_type": "markdown",
   "id": "5e5a27d9",
   "metadata": {},
   "source": [
    "Load the features data from the CSV file."
   ]
  },
  {
   "cell_type": "code",
   "execution_count": null,
   "id": "2b656a87",
   "metadata": {},
   "outputs": [],
   "source": [
    "features_df = pd.read_csv('features.csv')"
   ]
  },
  {
   "cell_type": "markdown",
   "id": "3c68587e",
   "metadata": {},
   "source": [
    "Merge the test data with features using a common key."
   ]
  },
  {
   "cell_type": "code",
   "execution_count": null,
   "id": "b1982091",
   "metadata": {},
   "outputs": [],
   "source": [
    "test_large_df = pd.merge(test_df, features_df, on='key')"
   ]
  },
  {
   "cell_type": "markdown",
   "id": "0c2a58dc",
   "metadata": {},
   "source": [
    "Merge the training data with features using a common key."
   ]
  },
  {
   "cell_type": "code",
   "execution_count": null,
   "id": "041abf46",
   "metadata": {},
   "outputs": [],
   "source": [
    "train_large_df = pd.merge(train_df, features_df, on='key')"
   ]
  },
  {
   "cell_type": "markdown",
   "id": "1c6c01e5",
   "metadata": {},
   "source": [
    "Concatenate the merged training and test data."
   ]
  },
  {
   "cell_type": "code",
   "execution_count": null,
   "id": "7470724f",
   "metadata": {},
   "outputs": [],
   "source": [
    "train_test_large_df = pd.concat([train_large_df, test_large_df])"
   ]
  },
  {
   "cell_type": "markdown",
   "id": "c5ae2c73",
   "metadata": {},
   "source": [
    "Split the data into features (X) and target (y) for training."
   ]
  },
  {
   "cell_type": "code",
   "execution_count": null,
   "id": "859d4c31",
   "metadata": {},
   "outputs": [],
   "source": [
    "train_x_df = train_test_large_df.drop('target', axis=1)\n",
    "train_y = train_test_large_df['target']"
   ]
  },
  {
   "cell_type": "markdown",
   "id": "256e44bd",
   "metadata": {},
   "source": [
    "Prepare validation data by splitting features (X) and target (y)."
   ]
  },
  {
   "cell_type": "code",
   "execution_count": null,
   "id": "89860a71",
   "metadata": {},
   "outputs": [],
   "source": [
    "valid_x_df = train_test_large_df.drop('target', axis=1)\n",
    "valid_y = train_test_large_df['target']"
   ]
  },
  {
   "cell_type": "markdown",
   "id": "17f653cb",
   "metadata": {},
   "source": [
    "Prepare the training dataset for the model."
   ]
  },
  {
   "cell_type": "code",
   "execution_count": null,
   "id": "dc90299e",
   "metadata": {},
   "outputs": [],
   "source": [
    "atrain = ... # Prepare your training dataset here"
   ]
  },
  {
   "cell_type": "markdown",
   "id": "2b7b9882",
   "metadata": {},
   "source": [
    "Prepare the validation dataset for evaluation."
   ]
  },
  {
   "cell_type": "code",
   "execution_count": null,
   "id": "c4ad9b1b",
   "metadata": {},
   "outputs": [],
   "source": [
    "dvalid = ... # Prepare your validation dataset here"
   ]
  },
  {
   "cell_type": "markdown",
   "id": "d6152406",
   "metadata": {},
   "source": [
    "Train the LightGBM model using the training data."
   ]
  },
  {
   "cell_type": "code",
   "execution_count": null,
   "id": "39bf5367",
   "metadata": {},
   "outputs": [],
   "source": [
    "import lightgbm as lgb\n",
    "model = lgb.LGBMModel().fit(atrain, train_y)"
   ]
  },
  {
   "cell_type": "markdown",
   "id": "628ed273",
   "metadata": {},
   "source": [
    "Make predictions on the test data using the trained model."
   ]
  },
  {
   "cell_type": "code",
   "execution_count": null,
   "id": "76b7a124",
   "metadata": {},
   "outputs": [],
   "source": [
    "test_pred = model.predict(test_large_df)"
   ]
  },
  {
   "cell_type": "markdown",
   "id": "a78781f0",
   "metadata": {},
   "source": [
    "Create a submission dataframe with id and predictions."
   ]
  },
  {
   "cell_type": "code",
   "execution_count": null,
   "id": "52935279",
   "metadata": {},
   "outputs": [],
   "source": [
    "sub_df = pd.DataFrame({'id': test_large_df['id'], 'prediction': test_pred})"
   ]
  },
  {
   "cell_type": "markdown",
   "id": "6cffa046",
   "metadata": {},
   "source": [
    "Save the submission dataframe to a CSV file."
   ]
  },
  {
   "cell_type": "code",
   "execution_count": null,
   "id": "949a7b99",
   "metadata": {},
   "outputs": [],
   "source": [
    "sub_df.to_csv('submission.csv', index=False)"
   ]
  }
 ],
 "metadata": {
  "kernelspec": {
   "display_name": "Python 3",
   "language": "python",
   "name": "python3"
  },
  "language_info": {
   "codemirror_mode": {
    "name": "ipython",
    "version": 3
   },
   "file_extension": ".py",
   "mimetype": "text/x-python",
   "name": "python",
   "nbconvert_exporter": "python",
   "pygments_lexer": "ipython3",
   "version": "3.8.5"
  }
 },
 "nbformat": 4,
 "nbformat_minor": 5
}
