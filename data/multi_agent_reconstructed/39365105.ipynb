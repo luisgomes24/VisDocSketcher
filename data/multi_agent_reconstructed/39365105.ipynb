{
 "cells": [
  {
   "cell_type": "markdown",
   "id": "bda77bcd",
   "metadata": {},
   "source": [
    "Load the datasets using Pandas."
   ]
  },
  {
   "cell_type": "code",
   "execution_count": null,
   "id": "9fb5279d",
   "metadata": {},
   "outputs": [],
   "source": [
    "import pandas as pd\n",
    "\n",
    "df_train = pd.read_csv('train.csv')\n",
    "df_test = pd.read_csv('test.csv')\n",
    "df_sample_submission = pd.read_csv('sample_submission.csv')\n",
    "df_revealed_test = pd.read_csv('revealed_test.csv')\n",
    "df_census_starter = pd.read_csv('census_starter.csv')"
   ]
  },
  {
   "cell_type": "markdown",
   "id": "06181eab",
   "metadata": {},
   "source": [
    "Split the training data into features (X_train) and target (y_train)."
   ]
  },
  {
   "cell_type": "code",
   "execution_count": null,
   "id": "1fc2613f",
   "metadata": {},
   "outputs": [],
   "source": [
    "X_train = df_train.drop('target', axis=1)\n",
    "y_train = df_train['target']\n",
    "X_test = df_test.drop('target', axis=1)"
   ]
  },
  {
   "cell_type": "markdown",
   "id": "72387311",
   "metadata": {},
   "source": [
    "Initialize a Linear Regression model."
   ]
  },
  {
   "cell_type": "code",
   "execution_count": null,
   "id": "d07f1a74",
   "metadata": {},
   "outputs": [],
   "source": [
    "from sklearn.linear_model import LinearRegression\n",
    "model_lr = LinearRegression()"
   ]
  },
  {
   "cell_type": "markdown",
   "id": "8d1706c7",
   "metadata": {},
   "source": [
    "Initialize a Ridge Regression model."
   ]
  },
  {
   "cell_type": "code",
   "execution_count": null,
   "id": "166b5a78",
   "metadata": {},
   "outputs": [],
   "source": [
    "from sklearn.linear_model import Ridge\n",
    "model_ridge = Ridge(alpha=0.1)"
   ]
  },
  {
   "cell_type": "markdown",
   "id": "ca063e2d",
   "metadata": {},
   "source": [
    "Initialize a Lasso Regression model."
   ]
  },
  {
   "cell_type": "code",
   "execution_count": null,
   "id": "87077a3a",
   "metadata": {},
   "outputs": [],
   "source": [
    "from sklearn.linear_model import Lasso\n",
    "model_lasso = Lasso(alpha=0.1)"
   ]
  },
  {
   "cell_type": "markdown",
   "id": "19c08aff",
   "metadata": {},
   "source": [
    "Initialize a Random Forest model."
   ]
  },
  {
   "cell_type": "code",
   "execution_count": null,
   "id": "86c97eee",
   "metadata": {},
   "outputs": [],
   "source": [
    "from sklearn.ensemble import RandomForestRegressor\n",
    "model_rf = RandomForestRegressor(n_estimators=100)"
   ]
  },
  {
   "cell_type": "markdown",
   "id": "9b518c65",
   "metadata": {},
   "source": [
    "Initialize a K-Nearest Neighbors model."
   ]
  },
  {
   "cell_type": "code",
   "execution_count": null,
   "id": "9fdeedc8",
   "metadata": {},
   "outputs": [],
   "source": [
    "from sklearn.neighbors import KNeighborsRegressor\n",
    "model_knn = KNeighborsRegressor(n_neighbors=5)"
   ]
  },
  {
   "cell_type": "markdown",
   "id": "5be7b8d5",
   "metadata": {},
   "source": [
    "Initialize an XGBoost model."
   ]
  },
  {
   "cell_type": "code",
   "execution_count": null,
   "id": "fdcb6012",
   "metadata": {},
   "outputs": [],
   "source": [
    "from xgboost import XGBRegressor\n",
    "model_xgb = XGBRegressor(max_depth=3, learning_rate=0.1)"
   ]
  },
  {
   "cell_type": "markdown",
   "id": "b5f22033",
   "metadata": {},
   "source": [
    "Train the Linear Regression model and make predictions."
   ]
  },
  {
   "cell_type": "code",
   "execution_count": null,
   "id": "48da2dcb",
   "metadata": {},
   "outputs": [],
   "source": [
    "model_lr.fit(X_train, y_train)\n",
    "y_pred_lr = model_lr.predict(X_test)"
   ]
  },
  {
   "cell_type": "markdown",
   "id": "147e240a",
   "metadata": {},
   "source": [
    "Train the Ridge model and make predictions."
   ]
  },
  {
   "cell_type": "code",
   "execution_count": null,
   "id": "71e70356",
   "metadata": {},
   "outputs": [],
   "source": [
    "model_ridge.fit(X_train, y_train)\n",
    "y_pred_ridge = model_ridge.predict(X_test)"
   ]
  },
  {
   "cell_type": "markdown",
   "id": "27a266cc",
   "metadata": {},
   "source": [
    "Train the Lasso model and make predictions."
   ]
  },
  {
   "cell_type": "code",
   "execution_count": null,
   "id": "53029fc7",
   "metadata": {},
   "outputs": [],
   "source": [
    "model_lasso.fit(X_train, y_train)\n",
    "y_pred_lasso = model_lasso.predict(X_test)"
   ]
  },
  {
   "cell_type": "markdown",
   "id": "9dc020c4",
   "metadata": {},
   "source": [
    "Train the Random Forest model and make predictions."
   ]
  },
  {
   "cell_type": "code",
   "execution_count": null,
   "id": "5121272b",
   "metadata": {},
   "outputs": [],
   "source": [
    "model_rf.fit(X_train, y_train)\n",
    "y_pred_rf = model_rf.predict(X_test)"
   ]
  },
  {
   "cell_type": "markdown",
   "id": "4a100b47",
   "metadata": {},
   "source": [
    "Train the KNN model and make predictions."
   ]
  },
  {
   "cell_type": "code",
   "execution_count": null,
   "id": "ad345213",
   "metadata": {},
   "outputs": [],
   "source": [
    "model_knn.fit(X_train, y_train)\n",
    "y_pred_knn = model_knn.predict(X_test)"
   ]
  },
  {
   "cell_type": "markdown",
   "id": "3d525f22",
   "metadata": {},
   "source": [
    "Train the XGBoost model and make predictions."
   ]
  },
  {
   "cell_type": "code",
   "execution_count": null,
   "id": "c45be69c",
   "metadata": {},
   "outputs": [],
   "source": [
    "model_xgb.fit(X_train, y_train)\n",
    "y_pred_xgb = model_xgb.predict(X_test)"
   ]
  }
 ],
 "metadata": {
  "kernelspec": {
   "display_name": "Python 3",
   "language": "python",
   "name": "python3"
  },
  "language_info": {
   "codemirror_mode": {
    "name": "ipython",
    "version": 3
   },
   "file_extension": ".py",
   "mimetype": "text/x-python",
   "name": "python",
   "nbconvert_exporter": "python",
   "pygments_lexer": "ipython3",
   "version": "3.8.5"
  }
 },
 "nbformat": 4,
 "nbformat_minor": 5
}
