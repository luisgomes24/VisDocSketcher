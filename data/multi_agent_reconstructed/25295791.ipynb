{
 "cells": [
  {
   "cell_type": "markdown",
   "id": "d7c5d116",
   "metadata": {},
   "source": [
    "Load the training, testing, and submission CSV files into DataFrames."
   ]
  },
  {
   "cell_type": "code",
   "execution_count": null,
   "id": "ae16b911",
   "metadata": {},
   "outputs": [],
   "source": [
    "import pandas as pd\n",
    "train_df = pd.read_csv('train.csv')\n",
    "test_df = pd.read_csv('test.csv')\n",
    "sample_df = pd.read_csv('sample_submission.csv')"
   ]
  },
  {
   "cell_type": "markdown",
   "id": "4cb64e34",
   "metadata": {},
   "source": [
    "Split the training DataFrame into features (x) and target (y)."
   ]
  },
  {
   "cell_type": "code",
   "execution_count": null,
   "id": "266a8693",
   "metadata": {},
   "outputs": [],
   "source": [
    "x = train_df.drop('target_column', axis=1)\n",
    "y = train_df['target_column']"
   ]
  },
  {
   "cell_type": "markdown",
   "id": "a21df45a",
   "metadata": {},
   "source": [
    "Partition the data into training and validation sets."
   ]
  },
  {
   "cell_type": "code",
   "execution_count": null,
   "id": "df3da595",
   "metadata": {},
   "outputs": [],
   "source": [
    "from sklearn.model_selection import train_test_split\n",
    "xtrain, xval, ytrain, yval = train_test_split(x, y, test_size=0.2, random_state=42)"
   ]
  },
  {
   "cell_type": "markdown",
   "id": "f8ad7c3e",
   "metadata": {},
   "source": [
    "Instantiate and train a RandomForestRegressor model using the training data."
   ]
  },
  {
   "cell_type": "code",
   "execution_count": null,
   "id": "8b628f73",
   "metadata": {},
   "outputs": [],
   "source": [
    "from sklearn.ensemble import RandomForestRegressor\n",
    "model = RandomForestRegressor()\n",
    "model.fit(xtrain, ytrain)"
   ]
  },
  {
   "cell_type": "markdown",
   "id": "2df141a6",
   "metadata": {},
   "source": [
    "Evaluate the model performance using mean squared error on the validation set."
   ]
  },
  {
   "cell_type": "code",
   "execution_count": null,
   "id": "a9d71cd1",
   "metadata": {},
   "outputs": [],
   "source": [
    "from sklearn.metrics import mean_squared_error\n",
    "ypred = model.predict(xval)\n",
    "mse = mean_squared_error(yval, ypred)"
   ]
  },
  {
   "cell_type": "markdown",
   "id": "df91db2f",
   "metadata": {},
   "source": [
    "Make predictions on the test DataFrame."
   ]
  },
  {
   "cell_type": "code",
   "execution_count": null,
   "id": "b2b401bd",
   "metadata": {},
   "outputs": [],
   "source": [
    "ypred_test = model.predict(test_df)"
   ]
  },
  {
   "cell_type": "markdown",
   "id": "d84a1f82",
   "metadata": {},
   "source": [
    "Add the predictions to the sample DataFrame and export it to CSV for submission."
   ]
  },
  {
   "cell_type": "code",
   "execution_count": null,
   "id": "1be57f20",
   "metadata": {},
   "outputs": [],
   "source": [
    "sample_df['target_column'] = ypred_test\n",
    "sample_df.to_csv('submission.csv', index=False)"
   ]
  }
 ],
 "metadata": {
  "kernelspec": {
   "display_name": "Python 3",
   "language": "python",
   "name": "python3"
  },
  "language_info": {
   "codemirror_mode": {
    "name": "ipython",
    "version": 3
   },
   "file_extension": ".py",
   "mimetype": "text/x-python",
   "name": "python",
   "nbconvert_exporter": "python",
   "pygments_lexer": "ipython3",
   "version": "3.8.5"
  }
 },
 "nbformat": 4,
 "nbformat_minor": 5
}
