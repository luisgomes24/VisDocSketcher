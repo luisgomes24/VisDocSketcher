{
 "cells": [
  {
   "cell_type": "markdown",
   "id": "38f5a6b0",
   "metadata": {},
   "source": [
    "Load the dataset from a CSV file using pandas."
   ]
  },
  {
   "cell_type": "code",
   "execution_count": null,
   "id": "f9efa79d",
   "metadata": {},
   "outputs": [],
   "source": [
    "import pandas as pd\n",
    "\n",
    "# Read CSV file\n",
    "df = pd.read_csv('./input/bmidataset/bmi.csv')"
   ]
  },
  {
   "cell_type": "markdown",
   "id": "8bc53858",
   "metadata": {},
   "source": [
    "Drop the 'Index' column and separate features (X) and target variable (y)."
   ]
  },
  {
   "cell_type": "code",
   "execution_count": null,
   "id": "fd1ccef7",
   "metadata": {},
   "outputs": [],
   "source": [
    "df.drop(columns=['Index'], inplace=True)\n",
    "X = df.drop(columns=['Target'])\n",
    "y = df['Target']"
   ]
  },
  {
   "cell_type": "markdown",
   "id": "0d8d0f44",
   "metadata": {},
   "source": [
    "Split the data into training and testing sets."
   ]
  },
  {
   "cell_type": "code",
   "execution_count": null,
   "id": "cb5928e0",
   "metadata": {},
   "outputs": [],
   "source": [
    "from sklearn.model_selection import train_test_split\n",
    "X_train, X_test, y_train, y_test = train_test_split(X, y, test_size=0.2, random_state=42)"
   ]
  },
  {
   "cell_type": "markdown",
   "id": "9d4f465a",
   "metadata": {},
   "source": [
    "Train a Random Forest classifier and make predictions."
   ]
  },
  {
   "cell_type": "code",
   "execution_count": null,
   "id": "55037395",
   "metadata": {},
   "outputs": [],
   "source": [
    "from sklearn.ensemble import RandomForestClassifier\n",
    "\n",
    "rf_model = RandomForestClassifier(random_state=1, max_features='sqrt')\n",
    "rf_model.fit(X_train, y_train)\n",
    "y_pred_rf = rf_model.predict(X_test)"
   ]
  },
  {
   "cell_type": "markdown",
   "id": "02c13524",
   "metadata": {},
   "source": [
    "Train a Decision Tree classifier and make predictions."
   ]
  },
  {
   "cell_type": "code",
   "execution_count": null,
   "id": "03211ab1",
   "metadata": {},
   "outputs": [],
   "source": [
    "from sklearn.tree import DecisionTreeClassifier\n",
    "\n",
    "dt_model = DecisionTreeClassifier(max_depth=3, criterion='gini')\n",
    "dt_model.fit(X_train, y_train)\n",
    "y_pred_dt = dt_model.predict(X_test)"
   ]
  },
  {
   "cell_type": "markdown",
   "id": "5c94522b",
   "metadata": {},
   "source": [
    "Train a Linear Support Vector Classifier and make predictions."
   ]
  },
  {
   "cell_type": "code",
   "execution_count": null,
   "id": "83ba152f",
   "metadata": {},
   "outputs": [],
   "source": [
    "from sklearn.svm import LinearSVC\n",
    "\n",
    "svc_model = LinearSVC()\n",
    "svc_model.fit(X_train, y_train)\n",
    "y_pred_svc = svc_model.predict(X_test)"
   ]
  },
  {
   "cell_type": "markdown",
   "id": "41110091",
   "metadata": {},
   "source": [
    "Train a K-Neighbors classifier and make predictions."
   ]
  },
  {
   "cell_type": "code",
   "execution_count": null,
   "id": "3c6cc230",
   "metadata": {},
   "outputs": [],
   "source": [
    "from sklearn.neighbors import KNeighborsClassifier\n",
    "\n",
    "knn_model = KNeighborsClassifier(n_neighbors=5)\n",
    "knn_model.fit(X_train, y_train)\n",
    "y_pred_knn = knn_model.predict(X_test)"
   ]
  },
  {
   "cell_type": "markdown",
   "id": "a9fc50ca",
   "metadata": {},
   "source": [
    "Train an AdaBoost classifier and make predictions."
   ]
  },
  {
   "cell_type": "code",
   "execution_count": null,
   "id": "a6631f23",
   "metadata": {},
   "outputs": [],
   "source": [
    "from sklearn.ensemble import AdaBoostClassifier\n",
    "\n",
    "ada_model = AdaBoostClassifier()\n",
    "ada_model.fit(X_train, y_train)\n",
    "y_pred_ada = ada_model.predict(X_test)"
   ]
  },
  {
   "cell_type": "markdown",
   "id": "4aac0782",
   "metadata": {},
   "source": [
    "Train an XGBoost classifier and make predictions."
   ]
  },
  {
   "cell_type": "code",
   "execution_count": null,
   "id": "f68417b2",
   "metadata": {},
   "outputs": [],
   "source": [
    "from xgboost import XGBClassifier\n",
    "\n",
    "xgb_model = XGBClassifier()\n",
    "xgb_model.fit(X_train, y_train)\n",
    "y_pred_xgb = xgb_model.predict(X_test)"
   ]
  },
  {
   "cell_type": "markdown",
   "id": "d93aabba",
   "metadata": {},
   "source": [
    "Train a Gaussian Naive Bayes classifier and make predictions."
   ]
  },
  {
   "cell_type": "code",
   "execution_count": null,
   "id": "27ae2d9c",
   "metadata": {},
   "outputs": [],
   "source": [
    "from sklearn.naive_bayes import GaussianNB\n",
    "\n",
    "gnb_model = GaussianNB()\n",
    "gnb_model.fit(X_train, y_train)\n",
    "y_pred_gnb = gnb_model.predict(X_test)"
   ]
  },
  {
   "cell_type": "markdown",
   "id": "9151217c",
   "metadata": {},
   "source": [
    "Evaluate the models using confusion matrices."
   ]
  },
  {
   "cell_type": "code",
   "execution_count": null,
   "id": "27d0f927",
   "metadata": {},
   "outputs": [],
   "source": [
    "from sklearn.metrics import confusion_matrix\n",
    "\n",
    "cm_rf = confusion_matrix(y_test, y_pred_rf)\n",
    "cm_dt = confusion_matrix(y_test, y_pred_dt)\n",
    "cm_svc = confusion_matrix(y_test, y_pred_svc)\n",
    "cm_knn = confusion_matrix(y_test, y_pred_knn)\n",
    "cm_ada = confusion_matrix(y_test, y_pred_ada)\n",
    "cm_xgb = confusion_matrix(y_test, y_pred_xgb)\n",
    "cm_gnb = confusion_matrix(y_test, y_pred_gnb)"
   ]
  }
 ],
 "metadata": {
  "kernelspec": {
   "display_name": "Python 3",
   "language": "python",
   "name": "python3"
  },
  "language_info": {
   "codemirror_mode": {
    "name": "ipython",
    "version": 3
   },
   "file_extension": ".py",
   "mimetype": "text/x-python",
   "name": "python",
   "nbconvert_exporter": "python",
   "pygments_lexer": "ipython3",
   "version": "3.8.5"
  }
 },
 "nbformat": 4,
 "nbformat_minor": 5
}
