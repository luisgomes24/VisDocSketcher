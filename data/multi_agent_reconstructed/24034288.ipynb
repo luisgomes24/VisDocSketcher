{
 "cells": [
  {
   "cell_type": "markdown",
   "id": "0664c657",
   "metadata": {},
   "source": [
    "Load the training data from the CSV file into a DataFrame."
   ]
  },
  {
   "cell_type": "code",
   "execution_count": null,
   "id": "97df9baf",
   "metadata": {},
   "outputs": [],
   "source": [
    "import pandas as pd\n",
    "train_data = pd.read_csv('../input/petfinder-pawpularity-score/train.csv')"
   ]
  },
  {
   "cell_type": "markdown",
   "id": "ffadc344",
   "metadata": {},
   "source": [
    "Load the test data from the CSV file into a DataFrame."
   ]
  },
  {
   "cell_type": "code",
   "execution_count": null,
   "id": "06142f25",
   "metadata": {},
   "outputs": [],
   "source": [
    "test_data = pd.read_csv('../input/petfinder-pawpularity-score/test.csv')"
   ]
  },
  {
   "cell_type": "markdown",
   "id": "a2956332",
   "metadata": {},
   "source": [
    "Load the sample submission data from the CSV file into a DataFrame."
   ]
  },
  {
   "cell_type": "code",
   "execution_count": null,
   "id": "c920c8e5",
   "metadata": {},
   "outputs": [],
   "source": [
    "sample_submission = pd.read_csv('../input/petfinder-pawpularity-score/sample_submission.csv')"
   ]
  }
 ],
 "metadata": {
  "kernelspec": {
   "display_name": "Python 3",
   "language": "python",
   "name": "python3"
  },
  "language_info": {
   "codemirror_mode": {
    "name": "ipython",
    "version": 3
   },
   "file_extension": ".py",
   "mimetype": "text/x-python",
   "name": "python",
   "nbconvert_exporter": "python",
   "pygments_lexer": "ipython3",
   "version": "3.8.5"
  }
 },
 "nbformat": 4,
 "nbformat_minor": 5
}
