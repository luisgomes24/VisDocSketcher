{
 "cells": [
  {
   "cell_type": "markdown",
   "id": "545ebcd2",
   "metadata": {},
   "source": [
    "Load the training data from the CSV file using pandas."
   ]
  },
  {
   "cell_type": "code",
   "execution_count": null,
   "id": "a922082f",
   "metadata": {},
   "outputs": [],
   "source": [
    "import pandas as pd\n",
    "\n",
    "data = pd.read_csv('train.csv')"
   ]
  },
  {
   "cell_type": "markdown",
   "id": "ee7a6c7b",
   "metadata": {},
   "source": [
    "Create a bar plot to visualize the relationship between categories and their values."
   ]
  },
  {
   "cell_type": "code",
   "execution_count": null,
   "id": "a70e6955",
   "metadata": {},
   "outputs": [],
   "source": [
    "import matplotlib.pyplot as plt\n",
    "\n",
    "plt.bar(data['Category'], data['Value'])\n",
    "plt.xlabel('Category')\n",
    "plt.ylabel('Value')\n",
    "plt.title('Bar Plot')\n",
    "plt.show()"
   ]
  },
  {
   "cell_type": "markdown",
   "id": "32c2e43d",
   "metadata": {},
   "source": [
    "Generate a box plot to summarize the distribution of values for each category."
   ]
  },
  {
   "cell_type": "code",
   "execution_count": null,
   "id": "f4c8ad6c",
   "metadata": {},
   "outputs": [],
   "source": [
    "plt.boxplot([data[data['Category'] == 'A']['Value'], data[data['Category'] == 'B']['Value'], data[data['Category'] == 'C']['Value']], labels=['A', 'B', 'C'])\n",
    "plt.ylabel('Value')\n",
    "plt.title('Box Plot')\n",
    "plt.show()"
   ]
  }
 ],
 "metadata": {
  "kernelspec": {
   "display_name": "Python 3",
   "language": "python",
   "name": "python3"
  },
  "language_info": {
   "codemirror_mode": {
    "name": "ipython",
    "version": 3
   },
   "file_extension": ".py",
   "mimetype": "text/x-python",
   "name": "python",
   "nbconvert_exporter": "python",
   "pygments_lexer": "ipython3",
   "version": "3.8.5"
  }
 },
 "nbformat": 4,
 "nbformat_minor": 5
}
