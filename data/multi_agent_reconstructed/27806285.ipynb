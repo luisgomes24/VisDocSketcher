{
 "cells": [
  {
   "cell_type": "markdown",
   "id": "c5d6eaa0",
   "metadata": {},
   "source": [
    "Load the training data from a CSV file."
   ]
  },
  {
   "cell_type": "code",
   "execution_count": null,
   "id": "e5a8ac5c",
   "metadata": {},
   "outputs": [],
   "source": [
    "import pandas as pd\n",
    "train_data = pd.read_csv('train_data.csv')"
   ]
  },
  {
   "cell_type": "markdown",
   "id": "17198be3",
   "metadata": {},
   "source": [
    "Load the validation data from a CSV file."
   ]
  },
  {
   "cell_type": "code",
   "execution_count": null,
   "id": "d4373989",
   "metadata": {},
   "outputs": [],
   "source": [
    "val_data = pd.read_csv('validation_data.csv')"
   ]
  },
  {
   "cell_type": "markdown",
   "id": "7bc27eaa",
   "metadata": {},
   "source": [
    "Perform feature selection using SelectKBest to identify the most relevant features."
   ]
  },
  {
   "cell_type": "code",
   "execution_count": null,
   "id": "204ae55a",
   "metadata": {},
   "outputs": [],
   "source": [
    "from sklearn.feature_selection import SelectKBest, f_regression\n",
    "X_train, y_train = train_data.drop('target', axis=1), train_data['target']\n",
    "selector = SelectKBest(score_func=f_regression, k='all')\n",
    "selector.fit(X_train, y_train)\n",
    "X_train_selected = selector.transform(X_train)"
   ]
  },
  {
   "cell_type": "markdown",
   "id": "2c0e29f1",
   "metadata": {},
   "source": [
    "Create and train a Decision Tree model using the selected features."
   ]
  },
  {
   "cell_type": "code",
   "execution_count": null,
   "id": "743e1d30",
   "metadata": {},
   "outputs": [],
   "source": [
    "from sklearn.tree import DecisionTreeRegressor\n",
    "model_dt = DecisionTreeRegressor()\n",
    "model_dt.fit(X_train_selected, y_train)"
   ]
  },
  {
   "cell_type": "markdown",
   "id": "77c02920",
   "metadata": {},
   "source": [
    "Create and train a Random Forest model using the selected features."
   ]
  },
  {
   "cell_type": "code",
   "execution_count": null,
   "id": "4696d4da",
   "metadata": {},
   "outputs": [],
   "source": [
    "from sklearn.ensemble import RandomForestRegressor\n",
    "model_rf = RandomForestRegressor()\n",
    "model_rf.fit(X_train_selected, y_train)"
   ]
  },
  {
   "cell_type": "markdown",
   "id": "4004444c",
   "metadata": {},
   "source": [
    "Create and train a Support Vector Regression model using the selected features."
   ]
  },
  {
   "cell_type": "code",
   "execution_count": null,
   "id": "bfcd301e",
   "metadata": {},
   "outputs": [],
   "source": [
    "from sklearn.svm import SVR\n",
    "model_svr = SVR()\n",
    "model_svr.fit(X_train_selected, y_train)"
   ]
  },
  {
   "cell_type": "markdown",
   "id": "6e8e2d87",
   "metadata": {},
   "source": [
    "Generate and display model output as a bar chart comparing predictions from each model."
   ]
  },
  {
   "cell_type": "code",
   "execution_count": null,
   "id": "4d397d77",
   "metadata": {},
   "outputs": [],
   "source": [
    "import matplotlib.pyplot as plt\n",
    "predictions_dt = model_dt.predict(selector.transform(val_data.drop('target', axis=1)))\n",
    "predictions_rf = model_rf.predict(selector.transform(val_data.drop('target', axis=1)))\n",
    "predictions_svr = model_svr.predict(selector.transform(val_data.drop('target', axis=1)))\n",
    "results = pd.DataFrame({'Decision Tree': predictions_dt, 'Random Forest': predictions_rf, 'SVR': predictions_svr})\n",
    "results.plot(kind='bar')\n",
    "plt.title('Model Output')\n",
    "plt.xlabel('Category')\n",
    "plt.ylabel('Value')\n",
    "plt.show()"
   ]
  }
 ],
 "metadata": {
  "kernelspec": {
   "display_name": "Python 3",
   "language": "python",
   "name": "python3"
  },
  "language_info": {
   "codemirror_mode": {
    "name": "ipython",
    "version": 3
   },
   "file_extension": ".py",
   "mimetype": "text/x-python",
   "name": "python",
   "nbconvert_exporter": "python",
   "pygments_lexer": "ipython3",
   "version": "3.8.5"
  }
 },
 "nbformat": 4,
 "nbformat_minor": 5
}
