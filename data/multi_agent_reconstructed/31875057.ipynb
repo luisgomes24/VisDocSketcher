{
 "cells": [
  {
   "cell_type": "markdown",
   "id": "28ab5ef5",
   "metadata": {},
   "source": [
    "Load data from a Parquet file into a DataFrame."
   ]
  },
  {
   "cell_type": "code",
   "execution_count": null,
   "id": "713c7d6d",
   "metadata": {},
   "outputs": [],
   "source": [
    "import pandas as pd\n",
    "train = pd.read_parquet('uk_pm.parquet')"
   ]
  },
  {
   "cell_type": "markdown",
   "id": "f58ad352",
   "metadata": {},
   "source": [
    "Load data from a CSV file into a DataFrame."
   ]
  },
  {
   "cell_type": "code",
   "execution_count": null,
   "id": "723c10fa",
   "metadata": {},
   "outputs": [],
   "source": [
    "df = pd.read_csv('uk_pm.csv')"
   ]
  },
  {
   "cell_type": "markdown",
   "id": "1c0fbe5d",
   "metadata": {},
   "source": [
    "Clean text data by removing non-alphabetic characters."
   ]
  },
  {
   "cell_type": "code",
   "execution_count": null,
   "id": "105ef449",
   "metadata": {},
   "outputs": [],
   "source": [
    "train['clean_text'] = train['text'].str.replace('[^a-zA-Z ]', '')"
   ]
  },
  {
   "cell_type": "markdown",
   "id": "31164201",
   "metadata": {},
   "source": [
    "Create TF-IDF model to transform the cleaned text."
   ]
  },
  {
   "cell_type": "code",
   "execution_count": null,
   "id": "aa8e279a",
   "metadata": {},
   "outputs": [],
   "source": [
    "from sklearn.feature_extraction.text import TfidfVectorizer\n",
    "vectorizer = TfidfVectorizer()\n",
    "tf_idf_matrix = vectorizer.fit_transform(train['clean_text'])"
   ]
  },
  {
   "cell_type": "markdown",
   "id": "1443a11a",
   "metadata": {},
   "source": [
    "Visualize TF-IDF values as a heatmap."
   ]
  },
  {
   "cell_type": "code",
   "execution_count": null,
   "id": "dea3ca83",
   "metadata": {},
   "outputs": [],
   "source": [
    "import matplotlib.pyplot as plt\n",
    "plt.imshow(tf_idf_matrix.toarray(), aspect='auto')\n",
    "plt.title('TF-IDF Values')\n",
    "plt.show()"
   ]
  },
  {
   "cell_type": "markdown",
   "id": "85f9d475",
   "metadata": {},
   "source": [
    "Fit LDA model to the TF-IDF matrix to identify topics."
   ]
  },
  {
   "cell_type": "code",
   "execution_count": null,
   "id": "c0535450",
   "metadata": {},
   "outputs": [],
   "source": [
    "from sklearn.decomposition import LatentDirichletAllocation as LDA\n",
    "lda = LDA(n_components=10)\n",
    "lda.fit(tf_idf_matrix)"
   ]
  },
  {
   "cell_type": "markdown",
   "id": "01df6be1",
   "metadata": {},
   "source": [
    "Identify topics based on the fitted LDA model."
   ]
  },
  {
   "cell_type": "code",
   "execution_count": null,
   "id": "0701e2da",
   "metadata": {},
   "outputs": [],
   "source": [
    "topics = lda.transform(tf_idf_matrix)"
   ]
  }
 ],
 "metadata": {
  "kernelspec": {
   "display_name": "Python 3",
   "language": "python",
   "name": "python3"
  },
  "language_info": {
   "codemirror_mode": {
    "name": "ipython",
    "version": 3
   },
   "file_extension": ".py",
   "mimetype": "text/x-python",
   "name": "python",
   "nbconvert_exporter": "python",
   "pygments_lexer": "ipython3",
   "version": "3.8.5"
  }
 },
 "nbformat": 4,
 "nbformat_minor": 5
}
