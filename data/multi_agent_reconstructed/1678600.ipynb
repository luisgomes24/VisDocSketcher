{
 "cells": [
  {
   "cell_type": "markdown",
   "id": "628d3b86",
   "metadata": {},
   "source": [
    "Load a DataFrame (df) from a CSV file."
   ]
  },
  {
   "cell_type": "code",
   "execution_count": null,
   "id": "c0936af9",
   "metadata": {},
   "outputs": [],
   "source": [
    "import pandas as pd\n",
    "\n",
    "df = pd.read_csv('data.csv')"
   ]
  },
  {
   "cell_type": "markdown",
   "id": "355d5cad",
   "metadata": {},
   "source": [
    "Use plotting functions to create a plot with columns from df."
   ]
  },
  {
   "cell_type": "code",
   "execution_count": null,
   "id": "935befa6",
   "metadata": {},
   "outputs": [],
   "source": [
    "import matplotlib.pyplot as plt\n",
    "\n",
    "plt.plot(df['column1'], df['column2'])\n",
    "plt.show()"
   ]
  },
  {
   "cell_type": "markdown",
   "id": "e1077e4a",
   "metadata": {},
   "source": [
    "Save the modified DataFrame back to a CSV file."
   ]
  },
  {
   "cell_type": "code",
   "execution_count": null,
   "id": "444458dc",
   "metadata": {},
   "outputs": [],
   "source": [
    "df.to_csv('output.csv', index=False)"
   ]
  }
 ],
 "metadata": {
  "kernelspec": {
   "display_name": "Python 3",
   "language": "python",
   "name": "python3"
  },
  "language_info": {
   "codemirror_mode": {
    "name": "ipython",
    "version": 3
   },
   "file_extension": ".py",
   "mimetype": "text/x-python",
   "name": "python",
   "nbconvert_exporter": "python",
   "pygments_lexer": "ipython3",
   "version": "3.8.5"
  }
 },
 "nbformat": 4,
 "nbformat_minor": 5
}
