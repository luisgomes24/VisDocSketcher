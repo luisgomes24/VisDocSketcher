{
 "cells": [
  {
   "cell_type": "markdown",
   "id": "2510629f",
   "metadata": {},
   "source": [
    "Load the dataset into a DataFrame using pandas."
   ]
  },
  {
   "cell_type": "code",
   "execution_count": null,
   "id": "f61b1863",
   "metadata": {},
   "outputs": [],
   "source": [
    "import pandas as pd\n",
    "df = pd.read_csv('data.csv')"
   ]
  },
  {
   "cell_type": "markdown",
   "id": "acb56e0e",
   "metadata": {},
   "source": [
    "Clean the DataFrame by removing rows with missing values."
   ]
  },
  {
   "cell_type": "code",
   "execution_count": null,
   "id": "deed9ef7",
   "metadata": {},
   "outputs": [],
   "source": [
    "df_cleaned = df.dropna()"
   ]
  },
  {
   "cell_type": "markdown",
   "id": "9c622702",
   "metadata": {},
   "source": [
    "Select the top features based on ANOVA F-value."
   ]
  },
  {
   "cell_type": "code",
   "execution_count": null,
   "id": "0eefd9f4",
   "metadata": {},
   "outputs": [],
   "source": [
    "from sklearn.feature_selection import SelectKBest, f_classif\n",
    "X = df_cleaned.drop('target', axis=1)\n",
    "y = df_cleaned['target']\n",
    "X_selected = SelectKBest(f_classif, k=5).fit_transform(X, y)"
   ]
  },
  {
   "cell_type": "markdown",
   "id": "eb371811",
   "metadata": {},
   "source": [
    "Train a Gaussian Naive Bayes model on the selected features."
   ]
  },
  {
   "cell_type": "code",
   "execution_count": null,
   "id": "cfbf6dde",
   "metadata": {},
   "outputs": [],
   "source": [
    "from sklearn.naive_bayes import GaussianNB\n",
    "model_gnb = GaussianNB().fit(X_selected, y)"
   ]
  },
  {
   "cell_type": "markdown",
   "id": "7b46019e",
   "metadata": {},
   "source": [
    "Train a K-Nearest Neighbors model on the selected features."
   ]
  },
  {
   "cell_type": "code",
   "execution_count": null,
   "id": "7cc9ec1c",
   "metadata": {},
   "outputs": [],
   "source": [
    "from sklearn.neighbors import KNeighborsClassifier\n",
    "model_knn = KNeighborsClassifier().fit(X_selected, y)"
   ]
  },
  {
   "cell_type": "markdown",
   "id": "eda8f340",
   "metadata": {},
   "source": [
    "Visualize the processed data in a bar chart."
   ]
  },
  {
   "cell_type": "code",
   "execution_count": null,
   "id": "c93c2aad",
   "metadata": {},
   "outputs": [],
   "source": [
    "import matplotlib.pyplot as plt\n",
    "plt.bar(['A', 'B', 'C'], [1, 2, 3])\n",
    "plt.title('Data Preprocessing')\n",
    "plt.show()"
   ]
  },
  {
   "cell_type": "markdown",
   "id": "1ab70a3b",
   "metadata": {},
   "source": [
    "Evaluate model performance using accuracy score."
   ]
  },
  {
   "cell_type": "code",
   "execution_count": null,
   "id": "c11289cf",
   "metadata": {},
   "outputs": [],
   "source": [
    "from sklearn.metrics import accuracy_score\n",
    "y_pred = model_gnb.predict(X_selected)\n",
    "accuracy = accuracy_score(y, y_pred)"
   ]
  },
  {
   "cell_type": "markdown",
   "id": "ca40d98d",
   "metadata": {},
   "source": [
    "Plot model performance over different complexities."
   ]
  },
  {
   "cell_type": "code",
   "execution_count": null,
   "id": "3b0de8e2",
   "metadata": {},
   "outputs": [],
   "source": [
    "plt.plot(range(1, 11), accuracy)\n",
    "plt.title('Model Performance')\n",
    "plt.xlabel('Model Complexity')\n",
    "plt.ylabel('Accuracy')\n",
    "plt.show()"
   ]
  },
  {
   "cell_type": "markdown",
   "id": "c2a107be",
   "metadata": {},
   "source": [
    "Visualize the results with a scatter plot."
   ]
  },
  {
   "cell_type": "code",
   "execution_count": null,
   "id": "0c3557ca",
   "metadata": {},
   "outputs": [],
   "source": [
    "plt.scatter(X_selected[:, 0], y)\n",
    "plt.title('Results Visualization')\n",
    "plt.xlabel('Feature 1')\n",
    "plt.ylabel('Target')\n",
    "plt.show()"
   ]
  }
 ],
 "metadata": {
  "kernelspec": {
   "display_name": "Python 3",
   "language": "python",
   "name": "python3"
  },
  "language_info": {
   "codemirror_mode": {
    "name": "ipython",
    "version": 3
   },
   "file_extension": ".py",
   "mimetype": "text/x-python",
   "name": "python",
   "nbconvert_exporter": "python",
   "pygments_lexer": "ipython3",
   "version": "3.8.5"
  }
 },
 "nbformat": 4,
 "nbformat_minor": 5
}
