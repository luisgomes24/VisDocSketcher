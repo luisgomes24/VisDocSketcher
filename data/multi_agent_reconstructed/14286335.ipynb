{
 "cells": [
  {
   "cell_type": "markdown",
   "id": "4a3c2133",
   "metadata": {},
   "source": [
    "Load the CSV file into a DataFrame."
   ]
  },
  {
   "cell_type": "code",
   "execution_count": null,
   "id": "5704688f",
   "metadata": {},
   "outputs": [],
   "source": [
    "import pandas as pd\n",
    "df = pd.read_csv('WomenRepresentationInCityProperty-SanFrancisco.csv')"
   ]
  },
  {
   "cell_type": "markdown",
   "id": "38dee389",
   "metadata": {},
   "source": [
    "Filter the DataFrame for rows where Gender is 'F' and 'M'."
   ]
  },
  {
   "cell_type": "code",
   "execution_count": null,
   "id": "eb59858b",
   "metadata": {},
   "outputs": [],
   "source": [
    "df_FM = df[df['Gender'].isin(['F', 'M'])]"
   ]
  },
  {
   "cell_type": "markdown",
   "id": "9d0b5fbf",
   "metadata": {},
   "source": [
    "Filter the DataFrame for rows where Gender is 'M' and 'F'."
   ]
  },
  {
   "cell_type": "code",
   "execution_count": null,
   "id": "9f1976e0",
   "metadata": {},
   "outputs": [],
   "source": [
    "df_MF = df[df['Gender'].isin(['M', 'F'])]"
   ]
  },
  {
   "cell_type": "markdown",
   "id": "066e82a1",
   "metadata": {},
   "source": [
    "Filter the DataFrame for rows where Gender is 'M' and 'M'."
   ]
  },
  {
   "cell_type": "code",
   "execution_count": null,
   "id": "a9296d48",
   "metadata": {},
   "outputs": [],
   "source": [
    "df_MM = df[df['Gender'].isin(['M', 'M'])]"
   ]
  },
  {
   "cell_type": "markdown",
   "id": "a129e0ac",
   "metadata": {},
   "source": [
    "Count the number of males in the filtered DataFrame."
   ]
  },
  {
   "cell_type": "code",
   "execution_count": null,
   "id": "1aef920b",
   "metadata": {},
   "outputs": [],
   "source": [
    "male_count = df_MM.shape[0]"
   ]
  },
  {
   "cell_type": "markdown",
   "id": "4677626e",
   "metadata": {},
   "source": [
    "Count the number of females in the filtered DataFrame."
   ]
  },
  {
   "cell_type": "code",
   "execution_count": null,
   "id": "cf3a84a7",
   "metadata": {},
   "outputs": [],
   "source": [
    "female_count = df_FM.shape[0]"
   ]
  },
  {
   "cell_type": "markdown",
   "id": "8f377db2",
   "metadata": {},
   "source": [
    "Aggregate the counts by department."
   ]
  },
  {
   "cell_type": "code",
   "execution_count": null,
   "id": "59024dfa",
   "metadata": {},
   "outputs": [],
   "source": [
    "df_department = df.groupby('Department').count()"
   ]
  }
 ],
 "metadata": {
  "kernelspec": {
   "display_name": "Python 3",
   "language": "python",
   "name": "python3"
  },
  "language_info": {
   "codemirror_mode": {
    "name": "ipython",
    "version": 3
   },
   "file_extension": ".py",
   "mimetype": "text/x-python",
   "name": "python",
   "nbconvert_exporter": "python",
   "pygments_lexer": "ipython3",
   "version": "3.8.5"
  }
 },
 "nbformat": 4,
 "nbformat_minor": 5
}
