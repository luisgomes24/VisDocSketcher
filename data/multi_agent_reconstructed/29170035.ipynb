{
 "cells": [
  {
   "cell_type": "markdown",
   "id": "df66cbaf",
   "metadata": {},
   "source": [
    "Load input data from a CSV file."
   ]
  },
  {
   "cell_type": "code",
   "execution_count": null,
   "id": "e103c861",
   "metadata": {},
   "outputs": [],
   "source": [
    "import pandas as pd\n",
    "\n",
    "data = pd.read_csv('data_source.csv')"
   ]
  },
  {
   "cell_type": "markdown",
   "id": "44fa3107",
   "metadata": {},
   "source": [
    "Remove any missing values from the data."
   ]
  },
  {
   "cell_type": "code",
   "execution_count": null,
   "id": "8424392e",
   "metadata": {},
   "outputs": [],
   "source": [
    "data.dropna(inplace=True)"
   ]
  },
  {
   "cell_type": "markdown",
   "id": "0b3d2608",
   "metadata": {},
   "source": [
    "Select the top 10 features based on ANOVA F-statistic."
   ]
  },
  {
   "cell_type": "code",
   "execution_count": null,
   "id": "06b11bbe",
   "metadata": {},
   "outputs": [],
   "source": [
    "from sklearn.feature_selection import SelectKBest, f_classif\n",
    "selected_features = SelectKBest(score_func=f_classif, k=10).fit_transform(X, y)"
   ]
  },
  {
   "cell_type": "markdown",
   "id": "6f83537a",
   "metadata": {},
   "source": [
    "Split the dataset into training and test sets."
   ]
  },
  {
   "cell_type": "code",
   "execution_count": null,
   "id": "db97132e",
   "metadata": {},
   "outputs": [],
   "source": [
    "from sklearn.model_selection import train_test_split\n",
    "X_train, X_test, y_train, y_test = train_test_split(X, y, test_size=0.2, random_state=42)"
   ]
  },
  {
   "cell_type": "markdown",
   "id": "2f6d25bd",
   "metadata": {},
   "source": [
    "Train a Linear Regression model using the training data."
   ]
  },
  {
   "cell_type": "code",
   "execution_count": null,
   "id": "843d3d75",
   "metadata": {},
   "outputs": [],
   "source": [
    "from sklearn.linear_model import LinearRegression\n",
    "model = LinearRegression()\n",
    "model.fit(X_train, y_train)"
   ]
  },
  {
   "cell_type": "markdown",
   "id": "683778b6",
   "metadata": {},
   "source": [
    "Make predictions on the test set."
   ]
  },
  {
   "cell_type": "code",
   "execution_count": null,
   "id": "29632ea0",
   "metadata": {},
   "outputs": [],
   "source": [
    "predictions = model.predict(X_test)"
   ]
  },
  {
   "cell_type": "markdown",
   "id": "8bf8368a",
   "metadata": {},
   "source": [
    "Evaluate model performance using Mean Squared Error."
   ]
  },
  {
   "cell_type": "code",
   "execution_count": null,
   "id": "531f7a60",
   "metadata": {},
   "outputs": [],
   "source": [
    "from sklearn.metrics import mean_squared_error\n",
    "mse = mean_squared_error(y_test, predictions)"
   ]
  },
  {
   "cell_type": "markdown",
   "id": "e9798b08",
   "metadata": {},
   "source": [
    "Visualize the true values against predictions."
   ]
  },
  {
   "cell_type": "code",
   "execution_count": null,
   "id": "ad54df62",
   "metadata": {},
   "outputs": [],
   "source": [
    "import matplotlib.pyplot as plt\n",
    "plt.scatter(y_test, predictions)\n",
    "plt.xlabel('True Values')\n",
    "plt.ylabel('Predictions')\n",
    "plt.show()"
   ]
  }
 ],
 "metadata": {
  "kernelspec": {
   "display_name": "Python 3",
   "language": "python",
   "name": "python3"
  },
  "language_info": {
   "codemirror_mode": {
    "name": "ipython",
    "version": 3
   },
   "file_extension": ".py",
   "mimetype": "text/x-python",
   "name": "python",
   "nbconvert_exporter": "python",
   "pygments_lexer": "ipython3",
   "version": "3.8.5"
  }
 },
 "nbformat": 4,
 "nbformat_minor": 5
}
