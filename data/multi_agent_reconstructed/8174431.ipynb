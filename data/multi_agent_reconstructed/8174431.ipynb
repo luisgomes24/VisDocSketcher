{
 "cells": [
  {
   "cell_type": "markdown",
   "id": "ae380c0a",
   "metadata": {},
   "source": [
    "Import necessary libraries and load the dataset containing processing times."
   ]
  },
  {
   "cell_type": "code",
   "execution_count": null,
   "id": "e89ff3e0",
   "metadata": {},
   "outputs": [],
   "source": [
    "import pandas as pd\n",
    "from sklearn.model_selection import train_test_split\n",
    "from sklearn.ensemble import RandomForestRegressor\n",
    "\n",
    "# Load the dataset\n",
    "data = pd.read_csv('processing_time_data.csv')"
   ]
  },
  {
   "cell_type": "markdown",
   "id": "bd760246",
   "metadata": {},
   "source": [
    "Prepare data by separating features and target variable, then split into training and testing sets."
   ]
  },
  {
   "cell_type": "code",
   "execution_count": null,
   "id": "7c4df464",
   "metadata": {},
   "outputs": [],
   "source": [
    "X = data.drop('processing_time', axis=1)\n",
    "y = data['processing_time']\n",
    "X_train, X_test, y_train, y_test = train_test_split(X, y, test_size=0.2, random_state=42)"
   ]
  },
  {
   "cell_type": "markdown",
   "id": "e009cbea",
   "metadata": {},
   "source": [
    "Create and train a Random Forest model using the training data."
   ]
  },
  {
   "cell_type": "code",
   "execution_count": null,
   "id": "55f6db4a",
   "metadata": {},
   "outputs": [],
   "source": [
    "model = RandomForestRegressor(n_estimators=100, random_state=42)\n",
    "model.fit(X_train, y_train)"
   ]
  },
  {
   "cell_type": "markdown",
   "id": "402d0ac7",
   "metadata": {},
   "source": [
    "Make predictions on the test set and organize actual vs predicted results."
   ]
  },
  {
   "cell_type": "code",
   "execution_count": null,
   "id": "e6e559e6",
   "metadata": {},
   "outputs": [],
   "source": [
    "predictions = model.predict(X_test)\n",
    "results = pd.DataFrame({'Actual': y_test, 'Predicted': predictions})"
   ]
  },
  {
   "cell_type": "markdown",
   "id": "6ede12f6",
   "metadata": {},
   "source": [
    "Display the actual and predicted processing times side by side."
   ]
  },
  {
   "cell_type": "code",
   "execution_count": null,
   "id": "772eb14e",
   "metadata": {},
   "outputs": [],
   "source": [
    "print(results)"
   ]
  }
 ],
 "metadata": {
  "kernelspec": {
   "display_name": "Python 3",
   "language": "python",
   "name": "python3"
  },
  "language_info": {
   "codemirror_mode": {
    "name": "ipython",
    "version": 3
   },
   "file_extension": ".py",
   "mimetype": "text/x-python",
   "name": "python",
   "nbconvert_exporter": "python",
   "pygments_lexer": "ipython3",
   "version": "3.8.5"
  }
 },
 "nbformat": 4,
 "nbformat_minor": 5
}
