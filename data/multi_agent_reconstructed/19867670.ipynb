{
 "cells": [
  {
   "cell_type": "markdown",
   "id": "9f8617a7",
   "metadata": {},
   "source": [
    "Load the CSV file and split it into training and test dataframes."
   ]
  },
  {
   "cell_type": "code",
   "execution_count": null,
   "id": "458122eb",
   "metadata": {},
   "outputs": [],
   "source": [
    "import pandas as pd\n",
    "train_df = pd.read_csv('train_with_features.csv')\n",
    "train_df, test_df = train_df[:int(len(train_df)*0.8)], train_df[int(len(train_df)*0.8):]"
   ]
  },
  {
   "cell_type": "markdown",
   "id": "caabd624",
   "metadata": {},
   "source": [
    "Train a Tabular Neural Network model using the training dataframe."
   ]
  },
  {
   "cell_type": "code",
   "execution_count": null,
   "id": "6209a71c",
   "metadata": {},
   "outputs": [],
   "source": [
    "from sklearn.neural_network import MLPRegressor\n",
    "nn_model = MLPRegressor().fit(train_df[['features']], train_df['target'])"
   ]
  },
  {
   "cell_type": "markdown",
   "id": "180109cb",
   "metadata": {},
   "source": [
    "Generate predictions using the trained neural network model on the test dataframe."
   ]
  },
  {
   "cell_type": "code",
   "execution_count": null,
   "id": "58fac3b4",
   "metadata": {},
   "outputs": [],
   "source": [
    "nn_preds = nn_model.predict(test_df[['features']])"
   ]
  },
  {
   "cell_type": "markdown",
   "id": "4840651e",
   "metadata": {},
   "source": [
    "Train a LightGBM model using the training dataframe."
   ]
  },
  {
   "cell_type": "code",
   "execution_count": null,
   "id": "0c703cdb",
   "metadata": {},
   "outputs": [],
   "source": [
    "from lightgbm import LGBMRegressor\n",
    "lgb_model = LGBMRegressor().fit(train_df[['features']], train_df['target'])"
   ]
  },
  {
   "cell_type": "markdown",
   "id": "c1e1a32b",
   "metadata": {},
   "source": [
    "Generate predictions using the trained LightGBM model on the test dataframe."
   ]
  },
  {
   "cell_type": "code",
   "execution_count": null,
   "id": "1d00489a",
   "metadata": {},
   "outputs": [],
   "source": [
    "lgb_preds = lgb_model.predict(test_df[['features']])"
   ]
  },
  {
   "cell_type": "markdown",
   "id": "bb345305",
   "metadata": {},
   "source": [
    "Create a submission dataframe and compute a weighted sum of predictions."
   ]
  },
  {
   "cell_type": "code",
   "execution_count": null,
   "id": "8daa7a06",
   "metadata": {},
   "outputs": [],
   "source": [
    "submission = pd.DataFrame({'nn_preds': nn_preds, 'lgb_preds': lgb_preds})\n",
    "submission['weighted_sum'] = submission['nn_preds'] * 0.5 + submission['lgb_preds'] * 0.5"
   ]
  },
  {
   "cell_type": "markdown",
   "id": "32658319",
   "metadata": {},
   "source": [
    "Save the weighted sum to a CSV file for submission."
   ]
  },
  {
   "cell_type": "code",
   "execution_count": null,
   "id": "55c0c3db",
   "metadata": {},
   "outputs": [],
   "source": [
    "submission[['weighted_sum']].to_csv('submission.csv', index=False)"
   ]
  }
 ],
 "metadata": {
  "kernelspec": {
   "display_name": "Python 3",
   "language": "python",
   "name": "python3"
  },
  "language_info": {
   "codemirror_mode": {
    "name": "ipython",
    "version": 3
   },
   "file_extension": ".py",
   "mimetype": "text/x-python",
   "name": "python",
   "nbconvert_exporter": "python",
   "pygments_lexer": "ipython3",
   "version": "3.8.5"
  }
 },
 "nbformat": 4,
 "nbformat_minor": 5
}
