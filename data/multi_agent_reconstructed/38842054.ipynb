{
 "cells": [
  {
   "cell_type": "markdown",
   "id": "f5396c30",
   "metadata": {},
   "source": [
    "Load the character index from a JSON file."
   ]
  },
  {
   "cell_type": "code",
   "execution_count": null,
   "id": "8852aa3b",
   "metadata": {},
   "outputs": [],
   "source": [
    "import json\n",
    "\n",
    "with open('index.json', 'r') as f:\n",
    "    char_index = json.load(f)"
   ]
  },
  {
   "cell_type": "markdown",
   "id": "e98da62d",
   "metadata": {},
   "source": [
    "Load training data from a NumPy file."
   ]
  },
  {
   "cell_type": "code",
   "execution_count": null,
   "id": "6b92837b",
   "metadata": {},
   "outputs": [],
   "source": [
    "import numpy as np\n",
    "train_data = np.load('train.npy')"
   ]
  },
  {
   "cell_type": "markdown",
   "id": "3cef4755",
   "metadata": {},
   "source": [
    "Create a list of labels from the character index."
   ]
  },
  {
   "cell_type": "code",
   "execution_count": null,
   "id": "4707fe36",
   "metadata": {},
   "outputs": [],
   "source": [
    "labels = list(char_index.keys())"
   ]
  },
  {
   "cell_type": "markdown",
   "id": "48a24d7a",
   "metadata": {},
   "source": [
    "Create a reverse mapping from index to character."
   ]
  },
  {
   "cell_type": "code",
   "execution_count": null,
   "id": "6ea89bd0",
   "metadata": {},
   "outputs": [],
   "source": [
    "reverse_mapping = {v: k for k, v in char_index.items()}"
   ]
  },
  {
   "cell_type": "markdown",
   "id": "dfabdf3e",
   "metadata": {},
   "source": [
    "Write the reverse mapping to a JSON file."
   ]
  },
  {
   "cell_type": "code",
   "execution_count": null,
   "id": "c79a16e7",
   "metadata": {},
   "outputs": [],
   "source": [
    "with open('output.json', 'w') as f:\n",
    "    json.dump(reverse_mapping, f)"
   ]
  },
  {
   "cell_type": "markdown",
   "id": "7ea389fd",
   "metadata": {},
   "source": [
    "Extract sequence IDs from training data."
   ]
  },
  {
   "cell_type": "code",
   "execution_count": null,
   "id": "46617e11",
   "metadata": {},
   "outputs": [],
   "source": [
    "sequence_id_list = [char_index[c] for c in train_data]"
   ]
  },
  {
   "cell_type": "markdown",
   "id": "8d700bdd",
   "metadata": {},
   "source": [
    "Process data to create a list of starting sequence IDs."
   ]
  },
  {
   "cell_type": "code",
   "execution_count": null,
   "id": "253b0e92",
   "metadata": {},
   "outputs": [],
   "source": [
    "start_list = [seq[0] for seq in sequence_id_list]"
   ]
  },
  {
   "cell_type": "markdown",
   "id": "7761ffde",
   "metadata": {},
   "source": [
    "Process data to create a list of lengths of sequences."
   ]
  },
  {
   "cell_type": "code",
   "execution_count": null,
   "id": "c53ca1f2",
   "metadata": {},
   "outputs": [],
   "source": [
    "length_list = [len(seq) for seq in sequence_id_list]"
   ]
  },
  {
   "cell_type": "markdown",
   "id": "f5acfd46",
   "metadata": {},
   "source": [
    "Serialize and save the start list to a pickle file."
   ]
  },
  {
   "cell_type": "code",
   "execution_count": null,
   "id": "2e29dc7e",
   "metadata": {},
   "outputs": [],
   "source": [
    "import pickle\n",
    "with open('train.pickle', 'wb') as f:\n",
    "    pickle.dump(start_list, f)"
   ]
  },
  {
   "cell_type": "markdown",
   "id": "70d3782e",
   "metadata": {},
   "source": [
    "Save the sequence IDs to a NumPy file."
   ]
  },
  {
   "cell_type": "code",
   "execution_count": null,
   "id": "d0c70355",
   "metadata": {},
   "outputs": [],
   "source": [
    "np.save('train.npy', sequence_id_list)"
   ]
  }
 ],
 "metadata": {
  "kernelspec": {
   "display_name": "Python 3",
   "language": "python",
   "name": "python3"
  },
  "language_info": {
   "codemirror_mode": {
    "name": "ipython",
    "version": 3
   },
   "file_extension": ".py",
   "mimetype": "text/x-python",
   "name": "python",
   "nbconvert_exporter": "python",
   "pygments_lexer": "ipython3",
   "version": "3.8.5"
  }
 },
 "nbformat": 4,
 "nbformat_minor": 5
}
