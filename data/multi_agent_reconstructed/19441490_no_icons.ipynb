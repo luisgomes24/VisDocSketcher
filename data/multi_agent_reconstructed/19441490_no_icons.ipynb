{
 "cells": [
  {
   "cell_type": "markdown",
   "id": "85834c2b",
   "metadata": {},
   "source": [
    "Import necessary libraries: pandas for data manipulation and klib for data cleaning."
   ]
  },
  {
   "cell_type": "code",
   "execution_count": null,
   "id": "4127a9b8",
   "metadata": {},
   "outputs": [],
   "source": [
    "import pandas as pd\n",
    "import klib"
   ]
  },
  {
   "cell_type": "markdown",
   "id": "55e8acd3",
   "metadata": {},
   "source": [
    "Read the CSV file '/products_info.csv' into a DataFrame named 'df'."
   ]
  },
  {
   "cell_type": "code",
   "execution_count": null,
   "id": "44162ee4",
   "metadata": {},
   "outputs": [],
   "source": [
    "df = pd.read_csv('/products_info.csv')"
   ]
  },
  {
   "cell_type": "markdown",
   "id": "f1df96cc",
   "metadata": {},
   "source": [
    "Clean the DataFrame 'df' using klib's data cleaning function, resulting in 'df_cleaned'."
   ]
  },
  {
   "cell_type": "code",
   "execution_count": null,
   "id": "1119d6f1",
   "metadata": {},
   "outputs": [],
   "source": [
    "df_cleaned = klib.data_cleaning(df)"
   ]
  },
  {
   "cell_type": "markdown",
   "id": "0a719960",
   "metadata": {},
   "source": [
    "Read the CSV file '/5404.csv' into another DataFrame named 'df1'."
   ]
  },
  {
   "cell_type": "code",
   "execution_count": null,
   "id": "110ef949",
   "metadata": {},
   "outputs": [],
   "source": [
    "df1 = pd.read_csv('/5404.csv')"
   ]
  },
  {
   "cell_type": "markdown",
   "id": "eb346bf7",
   "metadata": {},
   "source": [
    "Clean the DataFrame 'df1' using klib's data cleaning function, resulting in 'df1_cleaned'."
   ]
  },
  {
   "cell_type": "code",
   "execution_count": null,
   "id": "709d7519",
   "metadata": {},
   "outputs": [],
   "source": [
    "df1_cleaned = klib.data_cleaning(df1)"
   ]
  },
  {
   "cell_type": "markdown",
   "id": "f898b492",
   "metadata": {},
   "source": [
    "Generate the correlation matrix from the cleaned DataFrame 'df1_cleaned'."
   ]
  },
  {
   "cell_type": "code",
   "execution_count": null,
   "id": "eb331fb8",
   "metadata": {},
   "outputs": [],
   "source": [
    "correlation_matrix = df1_cleaned.corr()"
   ]
  },
  {
   "cell_type": "markdown",
   "id": "3f13af77",
   "metadata": {},
   "source": [
    "Plot the correlation matrix for visualization."
   ]
  },
  {
   "cell_type": "code",
   "execution_count": null,
   "id": "617c11f1",
   "metadata": {},
   "outputs": [],
   "source": [
    "klib.plot_corr(correlation_matrix)"
   ]
  },
  {
   "cell_type": "markdown",
   "id": "9241901e",
   "metadata": {},
   "source": [
    "Plot the distribution of the cleaned DataFrame 'df_cleaned'."
   ]
  },
  {
   "cell_type": "code",
   "execution_count": null,
   "id": "4b865e04",
   "metadata": {},
   "outputs": [],
   "source": [
    "klib.plot_distribution(df_cleaned)"
   ]
  }
 ],
 "metadata": {
  "kernelspec": {
   "display_name": "Python 3",
   "language": "python",
   "name": "python3"
  },
  "language_info": {
   "codemirror_mode": {
    "name": "ipython",
    "version": 3
   },
   "file_extension": ".py",
   "mimetype": "text/x-python",
   "name": "python",
   "nbconvert_exporter": "python",
   "pygments_lexer": "ipython3",
   "version": "3.8.5"
  }
 },
 "nbformat": 4,
 "nbformat_minor": 5
}
