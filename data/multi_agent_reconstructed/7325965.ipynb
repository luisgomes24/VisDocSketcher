{
 "cells": [
  {
   "cell_type": "markdown",
   "id": "6b9e93f2",
   "metadata": {},
   "source": [
    "Load the insurance data by reading a CSV file into a pandas DataFrame."
   ]
  },
  {
   "cell_type": "code",
   "execution_count": null,
   "id": "85ca5aa9",
   "metadata": {},
   "outputs": [],
   "source": [
    "import pandas as pd\n",
    "\n",
    "dat = pd.read_csv('insurance.csv')"
   ]
  },
  {
   "cell_type": "markdown",
   "id": "29458bce",
   "metadata": {},
   "source": [
    "Plot a scatter chart to visualize the relationship between BMI and charges."
   ]
  },
  {
   "cell_type": "code",
   "execution_count": null,
   "id": "065bd4c7",
   "metadata": {},
   "outputs": [],
   "source": [
    "import matplotlib.pyplot as plt\n",
    "\n",
    "plt.scatter(dat['BMI'], dat['charges'])"
   ]
  },
  {
   "cell_type": "markdown",
   "id": "e0b795b5",
   "metadata": {},
   "source": [
    "Add color to the plot based on the sex of individuals."
   ]
  },
  {
   "cell_type": "code",
   "execution_count": null,
   "id": "a8f77041",
   "metadata": {},
   "outputs": [],
   "source": [
    "plt.scatter(dat['BMI'], dat['charges'], c=dat['sex'].apply(lambda x: 0 if x == 'male' else 1), cmap='coolwarm')"
   ]
  },
  {
   "cell_type": "markdown",
   "id": "12efea0b",
   "metadata": {},
   "source": [
    "Enhance the plot with a title and axis labels, then display it."
   ]
  },
  {
   "cell_type": "code",
   "execution_count": null,
   "id": "dac0c21f",
   "metadata": {},
   "outputs": [],
   "source": [
    "plt.title('BMI vs Charges colored by Sex')\n",
    "plt.xlabel('BMI')\n",
    "plt.ylabel('Charges')\n",
    "plt.show()"
   ]
  }
 ],
 "metadata": {
  "kernelspec": {
   "display_name": "Python 3",
   "language": "python",
   "name": "python3"
  },
  "language_info": {
   "codemirror_mode": {
    "name": "ipython",
    "version": 3
   },
   "file_extension": ".py",
   "mimetype": "text/x-python",
   "name": "python",
   "nbconvert_exporter": "python",
   "pygments_lexer": "ipython3",
   "version": "3.8.5"
  }
 },
 "nbformat": 4,
 "nbformat_minor": 5
}
