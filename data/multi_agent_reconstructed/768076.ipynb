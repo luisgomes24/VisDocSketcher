{
 "cells": [
  {
   "cell_type": "markdown",
   "id": "b8d7b8f3",
   "metadata": {},
   "source": [
    "Load the NFL play-by-play data from the CSV file into a DataFrame."
   ]
  },
  {
   "cell_type": "code",
   "execution_count": null,
   "id": "21b1cea0",
   "metadata": {},
   "outputs": [],
   "source": [
    "import pandas as pd\n",
    "nfl_data = pd.read_csv('../input/nflplaybyplay2009to2016/NFL Play by Play 2009-2017 (v4).csv')"
   ]
  },
  {
   "cell_type": "markdown",
   "id": "9424a930",
   "metadata": {},
   "source": [
    "Load the building permits data from the CSV file into a DataFrame."
   ]
  },
  {
   "cell_type": "code",
   "execution_count": null,
   "id": "a9618903",
   "metadata": {},
   "outputs": [],
   "source": [
    "building_permits_data = pd.read_csv('../input/building-permit-applications-data/Building_Permits.csv')"
   ]
  }
 ],
 "metadata": {
  "kernelspec": {
   "display_name": "Python 3",
   "language": "python",
   "name": "python3"
  },
  "language_info": {
   "codemirror_mode": {
    "name": "ipython",
    "version": 3
   },
   "file_extension": ".py",
   "mimetype": "text/x-python",
   "name": "python",
   "nbconvert_exporter": "python",
   "pygments_lexer": "ipython3",
   "version": "3.8.5"
  }
 },
 "nbformat": 4,
 "nbformat_minor": 5
}
