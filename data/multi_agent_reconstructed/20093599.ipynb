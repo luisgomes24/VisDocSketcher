{
 "cells": [
  {
   "cell_type": "markdown",
   "id": "ea8cd497",
   "metadata": {},
   "source": [
    "Defines a function to select the second element from a list."
   ]
  },
  {
   "cell_type": "code",
   "execution_count": null,
   "id": "aa0505f9",
   "metadata": {},
   "outputs": [],
   "source": [
    "def select_second_element(lst):\n",
    "    return lst[1]"
   ]
  },
  {
   "cell_type": "markdown",
   "id": "787f2809",
   "metadata": {},
   "source": [
    "Assumes the last team is the worst and assigns its captain."
   ]
  },
  {
   "cell_type": "code",
   "execution_count": null,
   "id": "6566729c",
   "metadata": {},
   "outputs": [],
   "source": [
    "teams = ['Team A', 'Team B', 'Team C']\n",
    "captain = teams[-1]  # Example for worst team"
   ]
  },
  {
   "cell_type": "markdown",
   "id": "8c07ff17",
   "metadata": {},
   "source": [
    "Creates a list of lengths and sorts them for comparison."
   ]
  },
  {
   "cell_type": "code",
   "execution_count": null,
   "id": "c11cbc32",
   "metadata": {},
   "outputs": [],
   "source": [
    "lengths = [12, 15, 15, 10]\n",
    "lengths.sort()"
   ]
  },
  {
   "cell_type": "markdown",
   "id": "6f35aa4c",
   "metadata": {},
   "source": [
    "Compares the sizes of the teams and lengths lists."
   ]
  },
  {
   "cell_type": "code",
   "execution_count": null,
   "id": "fb03ea71",
   "metadata": {},
   "outputs": [],
   "source": [
    "list_sizes = [len(teams), len(lengths)]\n",
    "comparison_result = list_sizes[0] - list_sizes[1]"
   ]
  },
  {
   "cell_type": "markdown",
   "id": "55c0972c",
   "metadata": {},
   "source": [
    "Generates random initial positions for the racers."
   ]
  },
  {
   "cell_type": "code",
   "execution_count": null,
   "id": "68cfd608",
   "metadata": {},
   "outputs": [],
   "source": [
    "import random\n",
    "racer_positions = [random.randint(1, 10) for _ in range(len(teams))]"
   ]
  },
  {
   "cell_type": "markdown",
   "id": "05bed781",
   "metadata": {},
   "source": [
    "Swaps the positions of the first two racers."
   ]
  },
  {
   "cell_type": "code",
   "execution_count": null,
   "id": "fb2c7fe1",
   "metadata": {},
   "outputs": [],
   "source": [
    "racer_positions[0], racer_positions[1] = racer_positions[1], racer_positions[0]"
   ]
  },
  {
   "cell_type": "markdown",
   "id": "c019607e",
   "metadata": {},
   "source": [
    "Checks if a racer arrives on time."
   ]
  },
  {
   "cell_type": "code",
   "execution_count": null,
   "id": "d61ae3c2",
   "metadata": {},
   "outputs": [],
   "source": [
    "arrivals = ['Alice', 'Bob']\n",
    "if 'Alice' in arrivals:\n",
    "    print('Alice is on time!')"
   ]
  },
  {
   "cell_type": "markdown",
   "id": "40419fb9",
   "metadata": {},
   "source": [
    "Verifies if any late arrivals match the initial arrivals."
   ]
  },
  {
   "cell_type": "code",
   "execution_count": null,
   "id": "e9cf2f27",
   "metadata": {},
   "outputs": [],
   "source": [
    "late_names = ['Charlie']\n",
    "for name in late_names:\n",
    "    if name in arrivals:\n",
    "        print(name + ' is late.')"
   ]
  }
 ],
 "metadata": {
  "kernelspec": {
   "display_name": "Python 3",
   "language": "python",
   "name": "python3"
  },
  "language_info": {
   "codemirror_mode": {
    "name": "ipython",
    "version": 3
   },
   "file_extension": ".py",
   "mimetype": "text/x-python",
   "name": "python",
   "nbconvert_exporter": "python",
   "pygments_lexer": "ipython3",
   "version": "3.8.5"
  }
 },
 "nbformat": 4,
 "nbformat_minor": 5
}
