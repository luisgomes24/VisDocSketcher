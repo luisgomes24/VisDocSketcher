{
 "cells": [
  {
   "cell_type": "markdown",
   "id": "68dbcb4c",
   "metadata": {},
   "source": [
    "Load the CO2 Emissions dataset into a DataFrame."
   ]
  },
  {
   "cell_type": "code",
   "execution_count": null,
   "id": "342816cb",
   "metadata": {},
   "outputs": [],
   "source": [
    "import pandas as pd\n",
    "\n",
    "df = pd.read_csv('CO2 Emissions.csv')"
   ]
  },
  {
   "cell_type": "markdown",
   "id": "25feafb2",
   "metadata": {},
   "source": [
    "Stratify the dataset into training and testing sets based on VehicleClass."
   ]
  },
  {
   "cell_type": "code",
   "execution_count": null,
   "id": "ca46a3ba",
   "metadata": {},
   "outputs": [],
   "source": [
    "from sklearn.model_selection import train_test_split\n",
    "\n",
    "strat_train_set, strat_test_set = train_test_split(df, stratify=df['VehicleClass'])"
   ]
  },
  {
   "cell_type": "markdown",
   "id": "df1b31bb",
   "metadata": {},
   "source": [
    "Extract features (X_train) and target (y_train) from the training set."
   ]
  },
  {
   "cell_type": "code",
   "execution_count": null,
   "id": "4c1edbc3",
   "metadata": {},
   "outputs": [],
   "source": [
    "X_train = strat_train_set.drop('target_column', axis=1)\n",
    "y_train = strat_train_set['target_column']"
   ]
  },
  {
   "cell_type": "markdown",
   "id": "015d2e45",
   "metadata": {},
   "source": [
    "Apply ColumnTransformer to scale numerical features in the training data."
   ]
  },
  {
   "cell_type": "code",
   "execution_count": null,
   "id": "c6f44598",
   "metadata": {},
   "outputs": [],
   "source": [
    "from sklearn.compose import ColumnTransformer\n",
    "from sklearn.preprocessing import StandardScaler\n",
    "\n",
    "preprocessor = ColumnTransformer(transformers=[('num', StandardScaler(), numerical_features)])\n",
    "X_train_prepared = preprocessor.fit_transform(X_train)"
   ]
  },
  {
   "cell_type": "markdown",
   "id": "12fd0650",
   "metadata": {},
   "source": [
    "Train a Random Forest Regression model using specified hyperparameters."
   ]
  },
  {
   "cell_type": "code",
   "execution_count": null,
   "id": "afc0cbdd",
   "metadata": {},
   "outputs": [],
   "source": [
    "from sklearn.ensemble import RandomForestRegressor\n",
    "\n",
    "rf_model = RandomForestRegressor(n_estimators=100, max_depth=7, min_samples_split=20)\n",
    "rf_model.fit(X_train_prepared, y_train)"
   ]
  },
  {
   "cell_type": "markdown",
   "id": "f9817b56",
   "metadata": {},
   "source": [
    "Train a Linear Regression model on the prepared training data."
   ]
  },
  {
   "cell_type": "code",
   "execution_count": null,
   "id": "ca2b2f80",
   "metadata": {},
   "outputs": [],
   "source": [
    "from sklearn.linear_model import LinearRegression\n",
    "\n",
    "lr_model = LinearRegression()\n",
    "lr_model.fit(X_train_prepared, y_train)"
   ]
  },
  {
   "cell_type": "markdown",
   "id": "00f97d6f",
   "metadata": {},
   "source": [
    "Train a Ridge Regression model with a specified alpha hyperparameter."
   ]
  },
  {
   "cell_type": "code",
   "execution_count": null,
   "id": "e0f6d54b",
   "metadata": {},
   "outputs": [],
   "source": [
    "from sklearn.linear_model import Ridge\n",
    "\n",
    "ridge_model = Ridge(alpha=5)\n",
    "ridge_model.fit(X_train_prepared, y_train)"
   ]
  },
  {
   "cell_type": "markdown",
   "id": "829cdbcd",
   "metadata": {},
   "source": [
    "Create and train a TensorFlow Neural Network with defined layers and hyperparameters."
   ]
  },
  {
   "cell_type": "code",
   "execution_count": null,
   "id": "7367a38c",
   "metadata": {},
   "outputs": [],
   "source": [
    "from tensorflow import keras\n",
    "\n",
    "model = keras.Sequential([\n",
    "    keras.layers.Dense(75, activation='linear'),\n",
    "    keras.layers.Dense(50, activation='linear'),\n",
    "    keras.layers.Dense(25, activation='linear')\n",
    "])\n",
    "model.compile(optimizer=keras.optimizers.Adam(learning_rate=0.01), loss='mean_squared_error')\n",
    "model.fit(X_train_prepared, y_train, epochs=1000)"
   ]
  }
 ],
 "metadata": {
  "kernelspec": {
   "display_name": "Python 3",
   "language": "python",
   "name": "python3"
  },
  "language_info": {
   "codemirror_mode": {
    "name": "ipython",
    "version": 3
   },
   "file_extension": ".py",
   "mimetype": "text/x-python",
   "name": "python",
   "nbconvert_exporter": "python",
   "pygments_lexer": "ipython3",
   "version": "3.8.5"
  }
 },
 "nbformat": 4,
 "nbformat_minor": 5
}
