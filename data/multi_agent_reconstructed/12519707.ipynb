{
 "cells": [
  {
   "cell_type": "markdown",
   "id": "f4908770",
   "metadata": {},
   "source": [
    "Read the JSON file into a pandas DataFrame."
   ]
  },
  {
   "cell_type": "code",
   "execution_count": null,
   "id": "dd23ad7b",
   "metadata": {},
   "outputs": [],
   "source": [
    "import pandas as pd\n",
    "\n",
    "df = pd.read_json('embold_train.json')"
   ]
  },
  {
   "cell_type": "markdown",
   "id": "db3bc7d6",
   "metadata": {},
   "source": [
    "Filter the DataFrame to get only bug entries."
   ]
  },
  {
   "cell_type": "code",
   "execution_count": null,
   "id": "b3eea459",
   "metadata": {},
   "outputs": [],
   "source": [
    "df_bug = df[df['type'] == 'bug']"
   ]
  },
  {
   "cell_type": "markdown",
   "id": "19b2b38e",
   "metadata": {},
   "source": [
    "Filter the DataFrame to get only feature entries."
   ]
  },
  {
   "cell_type": "code",
   "execution_count": null,
   "id": "8e0497c8",
   "metadata": {},
   "outputs": [],
   "source": [
    "df_feature = df[df['type'] == 'feature']"
   ]
  },
  {
   "cell_type": "markdown",
   "id": "f1b4c6b1",
   "metadata": {},
   "source": [
    "Filter the DataFrame to get only question entries."
   ]
  },
  {
   "cell_type": "code",
   "execution_count": null,
   "id": "c9772ecf",
   "metadata": {},
   "outputs": [],
   "source": [
    "df_question = df[df['type'] == 'question']"
   ]
  },
  {
   "cell_type": "markdown",
   "id": "98d1337d",
   "metadata": {},
   "source": [
    "Create a data loader for training using filtered features."
   ]
  },
  {
   "cell_type": "code",
   "execution_count": null,
   "id": "46b90130",
   "metadata": {},
   "outputs": [],
   "source": [
    "train_data_loader = create_data_loader(df_feature)"
   ]
  },
  {
   "cell_type": "markdown",
   "id": "87970049",
   "metadata": {},
   "source": [
    "Create a data loader for testing using filtered questions."
   ]
  },
  {
   "cell_type": "code",
   "execution_count": null,
   "id": "6d4e5184",
   "metadata": {},
   "outputs": [],
   "source": [
    "testing_data_loader = create_data_loader(df_question)"
   ]
  },
  {
   "cell_type": "markdown",
   "id": "7951efad",
   "metadata": {},
   "source": [
    "Create a data loader for validation using filtered bugs."
   ]
  },
  {
   "cell_type": "code",
   "execution_count": null,
   "id": "ab54d8ca",
   "metadata": {},
   "outputs": [],
   "source": [
    "val_data_loader = create_data_loader(df_bug)"
   ]
  },
  {
   "cell_type": "markdown",
   "id": "f44b4e5d",
   "metadata": {},
   "source": [
    "Train the model using the training data loader."
   ]
  },
  {
   "cell_type": "code",
   "execution_count": null,
   "id": "88d95e85",
   "metadata": {},
   "outputs": [],
   "source": [
    "model = train_model(train_data_loader)"
   ]
  },
  {
   "cell_type": "markdown",
   "id": "e47521bd",
   "metadata": {},
   "source": [
    "Test the model using the testing data loader."
   ]
  },
  {
   "cell_type": "code",
   "execution_count": null,
   "id": "009b195c",
   "metadata": {},
   "outputs": [],
   "source": [
    "test_model(testing_data_loader)"
   ]
  },
  {
   "cell_type": "markdown",
   "id": "764f3cc5",
   "metadata": {},
   "source": [
    "Validate the model using the validation data loader."
   ]
  },
  {
   "cell_type": "code",
   "execution_count": null,
   "id": "20a8d649",
   "metadata": {},
   "outputs": [],
   "source": [
    "validate_model(val_data_loader)"
   ]
  }
 ],
 "metadata": {
  "kernelspec": {
   "display_name": "Python 3",
   "language": "python",
   "name": "python3"
  },
  "language_info": {
   "codemirror_mode": {
    "name": "ipython",
    "version": 3
   },
   "file_extension": ".py",
   "mimetype": "text/x-python",
   "name": "python",
   "nbconvert_exporter": "python",
   "pygments_lexer": "ipython3",
   "version": "3.8.5"
  }
 },
 "nbformat": 4,
 "nbformat_minor": 5
}
