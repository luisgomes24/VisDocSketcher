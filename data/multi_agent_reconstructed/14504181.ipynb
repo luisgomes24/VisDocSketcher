{
 "cells": [
  {
   "cell_type": "markdown",
   "id": "bcf1e91f",
   "metadata": {},
   "source": [
    "Load data from a CSV file into a DataFrame."
   ]
  },
  {
   "cell_type": "code",
   "execution_count": null,
   "id": "e5b8bfcf",
   "metadata": {},
   "outputs": [],
   "source": [
    "import pandas as pd\n",
    "\n",
    "data = pd.read_csv('data.csv')"
   ]
  },
  {
   "cell_type": "markdown",
   "id": "f7aa8fb5",
   "metadata": {},
   "source": [
    "Filter data to include only entries from India."
   ]
  },
  {
   "cell_type": "code",
   "execution_count": null,
   "id": "8db01760",
   "metadata": {},
   "outputs": [],
   "source": [
    "india_data = data[data['Country'] == 'India']"
   ]
  },
  {
   "cell_type": "markdown",
   "id": "7d8be1b9",
   "metadata": {},
   "source": [
    "Filter data to include only entries from Canada."
   ]
  },
  {
   "cell_type": "code",
   "execution_count": null,
   "id": "7c3ba4ae",
   "metadata": {},
   "outputs": [],
   "source": [
    "canada_data = data[data['Country'] == 'Canada']"
   ]
  },
  {
   "cell_type": "markdown",
   "id": "5d7cb330",
   "metadata": {},
   "source": [
    "Filter data for selected countries (India and Canada)."
   ]
  },
  {
   "cell_type": "code",
   "execution_count": null,
   "id": "d4c836c2",
   "metadata": {},
   "outputs": [],
   "source": [
    "selected_countries_data = data[data['Country'].isin(['India', 'Canada'])]"
   ]
  },
  {
   "cell_type": "markdown",
   "id": "6d4d635d",
   "metadata": {},
   "source": [
    "Perform analysis on the filtered India data."
   ]
  },
  {
   "cell_type": "code",
   "execution_count": null,
   "id": "c79a3cbf",
   "metadata": {},
   "outputs": [],
   "source": [
    "india_analysis = india_data.describe()"
   ]
  },
  {
   "cell_type": "markdown",
   "id": "d09f87bb",
   "metadata": {},
   "source": [
    "Compare the data of selected countries by calculating the mean."
   ]
  },
  {
   "cell_type": "code",
   "execution_count": null,
   "id": "755fc493",
   "metadata": {},
   "outputs": [],
   "source": [
    "comparison = selected_countries_data.groupby('Country').mean()"
   ]
  }
 ],
 "metadata": {
  "kernelspec": {
   "display_name": "Python 3",
   "language": "python",
   "name": "python3"
  },
  "language_info": {
   "codemirror_mode": {
    "name": "ipython",
    "version": 3
   },
   "file_extension": ".py",
   "mimetype": "text/x-python",
   "name": "python",
   "nbconvert_exporter": "python",
   "pygments_lexer": "ipython3",
   "version": "3.8.5"
  }
 },
 "nbformat": 4,
 "nbformat_minor": 5
}
