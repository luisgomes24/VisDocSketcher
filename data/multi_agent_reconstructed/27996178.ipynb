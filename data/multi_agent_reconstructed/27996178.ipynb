{
 "cells": [
  {
   "cell_type": "markdown",
   "id": "60d9a2fb",
   "metadata": {},
   "source": [
    "Read the data from the CSV file using pandas."
   ]
  },
  {
   "cell_type": "code",
   "execution_count": null,
   "id": "6e5904df",
   "metadata": {},
   "outputs": [],
   "source": [
    "import pandas as pd\n",
    "df = pd.read_csv('/Supermart Grocery Sales - Retail Analytics Dataset.csv')"
   ]
  },
  {
   "cell_type": "markdown",
   "id": "9394043c",
   "metadata": {},
   "source": [
    "Drop entries where the region is 'North' for data cleaning."
   ]
  },
  {
   "cell_type": "code",
   "execution_count": null,
   "id": "03f1a98a",
   "metadata": {},
   "outputs": [],
   "source": [
    "df = df[df['Region'] != 'North']"
   ]
  },
  {
   "cell_type": "markdown",
   "id": "3056690f",
   "metadata": {},
   "source": [
    "Calculate total profit by category and sub-category."
   ]
  },
  {
   "cell_type": "code",
   "execution_count": null,
   "id": "4929893d",
   "metadata": {},
   "outputs": [],
   "source": [
    "sale_profit = df.groupby(['Category', 'Sub-Category'])['Profit'].sum().reset_index()"
   ]
  },
  {
   "cell_type": "markdown",
   "id": "c17e6eee",
   "metadata": {},
   "source": [
    "Aggregate sales by year."
   ]
  },
  {
   "cell_type": "code",
   "execution_count": null,
   "id": "aa4e123f",
   "metadata": {},
   "outputs": [],
   "source": [
    "year_sale = df.groupby(df['Order Date'].dt.year)['Sales'].sum().reset_index()"
   ]
  },
  {
   "cell_type": "markdown",
   "id": "3883bbaa",
   "metadata": {},
   "source": [
    "Visualize total sales by sub-categories using a bar chart."
   ]
  },
  {
   "cell_type": "code",
   "execution_count": null,
   "id": "6c913d42",
   "metadata": {},
   "outputs": [],
   "source": [
    "import matplotlib.pyplot as plt\n",
    "plt.bar(sale_profit['Sub-Category'], sale_profit['Profit'])\n",
    "plt.title('Sales by Sub-Categories')\n",
    "plt.show()"
   ]
  },
  {
   "cell_type": "markdown",
   "id": "f9e38c92",
   "metadata": {},
   "source": [
    "Visualize total sales by year using a bar chart."
   ]
  },
  {
   "cell_type": "code",
   "execution_count": null,
   "id": "22c0427c",
   "metadata": {},
   "outputs": [],
   "source": [
    "plt.bar(year_sale['Order Date'], year_sale['Sales'])\n",
    "plt.title('Sales by Year')\n",
    "plt.show()"
   ]
  }
 ],
 "metadata": {
  "kernelspec": {
   "display_name": "Python 3",
   "language": "python",
   "name": "python3"
  },
  "language_info": {
   "codemirror_mode": {
    "name": "ipython",
    "version": 3
   },
   "file_extension": ".py",
   "mimetype": "text/x-python",
   "name": "python",
   "nbconvert_exporter": "python",
   "pygments_lexer": "ipython3",
   "version": "3.8.5"
  }
 },
 "nbformat": 4,
 "nbformat_minor": 5
}
