{
 "cells": [
  {
   "cell_type": "markdown",
   "id": "92d03656",
   "metadata": {},
   "source": [
    "Read the CSV file into a DataFrame named `study_df`."
   ]
  },
  {
   "cell_type": "code",
   "execution_count": null,
   "id": "45bce2bb",
   "metadata": {},
   "outputs": [],
   "source": [
    "import pandas as pd\n",
    "study_df = pd.read_csv('../input/study_list.csv')"
   ]
  },
  {
   "cell_type": "markdown",
   "id": "33c5cd2c",
   "metadata": {},
   "source": [
    "Open the HDF5 file and read the dataset into `p_data`."
   ]
  },
  {
   "cell_type": "code",
   "execution_count": null,
   "id": "70ad4952",
   "metadata": {},
   "outputs": [],
   "source": [
    "import h5py\n",
    "with h5py.File('../input/patient_images_lowres.h5', 'r') as file:\n",
    "    p_data = file['data']"
   ]
  },
  {
   "cell_type": "markdown",
   "id": "8009fa56",
   "metadata": {},
   "source": [
    "Extract patient IDs (`p_id`) and images (`p_img`) from `p_data`."
   ]
  },
  {
   "cell_type": "code",
   "execution_count": null,
   "id": "8da67032",
   "metadata": {},
   "outputs": [],
   "source": [
    "p_id = p_data['p_id']\n",
    "p_img = p_data['p_img']"
   ]
  },
  {
   "cell_type": "markdown",
   "id": "142fcdf9",
   "metadata": {},
   "source": [
    "Filter `study_df` to get a DataFrame `c_df` that contains relevant study entries."
   ]
  },
  {
   "cell_type": "code",
   "execution_count": null,
   "id": "13cc389d",
   "metadata": {},
   "outputs": [],
   "source": [
    "c_df = study_df[study_df['study_id'].isin(p_id)]"
   ]
  },
  {
   "cell_type": "markdown",
   "id": "f7fd2023",
   "metadata": {},
   "source": [
    "Create a dictionary `c_dict` mapping patient IDs to their corresponding images."
   ]
  },
  {
   "cell_type": "code",
   "execution_count": null,
   "id": "ace23633",
   "metadata": {},
   "outputs": [],
   "source": [
    "c_dict = {p: img for p, img in zip(p_id, p_img)}"
   ]
  },
  {
   "cell_type": "markdown",
   "id": "9695688f",
   "metadata": {},
   "source": [
    "Plot the images from `c_dict` with their titles."
   ]
  },
  {
   "cell_type": "code",
   "execution_count": null,
   "id": "6bd965aa",
   "metadata": {},
   "outputs": [],
   "source": [
    "import matplotlib.pyplot as plt\n",
    "for title, img in c_dict.items():\n",
    "    plt.imshow(img)\n",
    "    plt.title(title)\n",
    "    plt.show()"
   ]
  }
 ],
 "metadata": {
  "kernelspec": {
   "display_name": "Python 3",
   "language": "python",
   "name": "python3"
  },
  "language_info": {
   "codemirror_mode": {
    "name": "ipython",
    "version": 3
   },
   "file_extension": ".py",
   "mimetype": "text/x-python",
   "name": "python",
   "nbconvert_exporter": "python",
   "pygments_lexer": "ipython3",
   "version": "3.8.5"
  }
 },
 "nbformat": 4,
 "nbformat_minor": 5
}
