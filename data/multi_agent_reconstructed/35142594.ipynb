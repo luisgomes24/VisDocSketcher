{
 "cells": [
  {
   "cell_type": "markdown",
   "id": "06575910",
   "metadata": {},
   "source": [
    "Load and normalize the first input image."
   ]
  },
  {
   "cell_type": "code",
   "execution_count": null,
   "id": "b10b6493",
   "metadata": {},
   "outputs": [],
   "source": [
    "import cv2\n",
    "import numpy as np\n",
    "from PIL import Image\n",
    "\n",
    "# Load Image 1\n",
    "image1 = Image.open('first_image.png').convert('RGB')\n",
    "image1 = np.array(image1) / 255.0"
   ]
  },
  {
   "cell_type": "markdown",
   "id": "69bfbc21",
   "metadata": {},
   "source": [
    "Load and normalize the second input image."
   ]
  },
  {
   "cell_type": "code",
   "execution_count": null,
   "id": "6e307f98",
   "metadata": {},
   "outputs": [],
   "source": [
    "# Load Image 2\n",
    "image2 = Image.open('second_image.png').convert('RGB')\n",
    "image2 = np.array(image2) / 255.0"
   ]
  },
  {
   "cell_type": "markdown",
   "id": "9bfcd6ec",
   "metadata": {},
   "source": [
    "Set the interpolation time and prepare input data."
   ]
  },
  {
   "cell_type": "code",
   "execution_count": null,
   "id": "e1847d4e",
   "metadata": {},
   "outputs": [],
   "source": [
    "time_interpolation = 5  # Set interpolation time in seconds\n",
    "input_data = (image1, image2)"
   ]
  },
  {
   "cell_type": "markdown",
   "id": "f2324c27",
   "metadata": {},
   "source": [
    "Infer using the FILM model to generate the mid frame."
   ]
  },
  {
   "cell_type": "code",
   "execution_count": null,
   "id": "12c18eca",
   "metadata": {},
   "outputs": [],
   "source": [
    "model = load_fil_model('path_to_model')  # Load FILM model\n",
    "mid_frame = model.infer(input_data, time_interpolation)"
   ]
  },
  {
   "cell_type": "markdown",
   "id": "c8e82292",
   "metadata": {},
   "source": [
    "Generate additional frames using extended interpolation."
   ]
  },
  {
   "cell_type": "code",
   "execution_count": null,
   "id": "61d5b41a",
   "metadata": {},
   "outputs": [],
   "source": [
    "frames = generate_extended_interpolation(image1, mid_frame, image2, num_frames=30)"
   ]
  },
  {
   "cell_type": "markdown",
   "id": "c2c605c2",
   "metadata": {},
   "source": [
    "Display each interpolated frame."
   ]
  },
  {
   "cell_type": "code",
   "execution_count": null,
   "id": "de84df52",
   "metadata": {},
   "outputs": [],
   "source": [
    "for frame in frames:\n",
    "    display_frame(frame)  # Function to display each frame"
   ]
  },
  {
   "cell_type": "markdown",
   "id": "fa480bb8",
   "metadata": {},
   "source": [
    "Create a video from the generated frames."
   ]
  },
  {
   "cell_type": "code",
   "execution_count": null,
   "id": "34c247db",
   "metadata": {},
   "outputs": [],
   "source": [
    "create_video(frames, 'output_video.mp4')"
   ]
  },
  {
   "cell_type": "markdown",
   "id": "8f55146f",
   "metadata": {},
   "source": [
    "Save the generated frames as images."
   ]
  },
  {
   "cell_type": "code",
   "execution_count": null,
   "id": "163e43ac",
   "metadata": {},
   "outputs": [],
   "source": [
    "save_images(frames, 'output_images/')"
   ]
  },
  {
   "cell_type": "markdown",
   "id": "19a88c08",
   "metadata": {},
   "source": [
    "Show the created video."
   ]
  },
  {
   "cell_type": "code",
   "execution_count": null,
   "id": "b3173ba0",
   "metadata": {},
   "outputs": [],
   "source": [
    "show_video('output_video.mp4')"
   ]
  }
 ],
 "metadata": {
  "kernelspec": {
   "display_name": "Python 3",
   "language": "python",
   "name": "python3"
  },
  "language_info": {
   "codemirror_mode": {
    "name": "ipython",
    "version": 3
   },
   "file_extension": ".py",
   "mimetype": "text/x-python",
   "name": "python",
   "nbconvert_exporter": "python",
   "pygments_lexer": "ipython3",
   "version": "3.8.5"
  }
 },
 "nbformat": 4,
 "nbformat_minor": 5
}
