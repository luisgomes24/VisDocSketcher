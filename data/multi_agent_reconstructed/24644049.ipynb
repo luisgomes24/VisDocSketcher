{
 "cells": [
  {
   "cell_type": "markdown",
   "id": "99e7392f",
   "metadata": {},
   "source": [
    "Read three CSV files and store them in separate DataFrames."
   ]
  },
  {
   "cell_type": "code",
   "execution_count": null,
   "id": "297326f8",
   "metadata": {},
   "outputs": [],
   "source": [
    "import pandas as pd\n",
    "df_CCC = pd.read_csv('CCC.csv')\n",
    "df_gc = pd.read_csv('gc.csv')\n",
    "df_gn = pd.read_csv('gn.csv')"
   ]
  },
  {
   "cell_type": "markdown",
   "id": "dd466013",
   "metadata": {},
   "source": [
    "Combine the 'text' column from all DataFrames into a single list."
   ]
  },
  {
   "cell_type": "code",
   "execution_count": null,
   "id": "411b9198",
   "metadata": {},
   "outputs": [],
   "source": [
    "text_list = df_CCC['text'].tolist() + df_gc['text'].tolist() + df_gn['text'].tolist()"
   ]
  },
  {
   "cell_type": "markdown",
   "id": "6c505daf",
   "metadata": {},
   "source": [
    "Create a target dataset with unique comment texts."
   ]
  },
  {
   "cell_type": "code",
   "execution_count": null,
   "id": "1e1b57ec",
   "metadata": {},
   "outputs": [],
   "source": [
    "target_dataset = pd.DataFrame(text_list).drop_duplicates()"
   ]
  },
  {
   "cell_type": "markdown",
   "id": "ccec958e",
   "metadata": {},
   "source": [
    "Filter out any comments that are not valid."
   ]
  },
  {
   "cell_type": "code",
   "execution_count": null,
   "id": "8e52c435",
   "metadata": {},
   "outputs": [],
   "source": [
    "filtered_comments = target_dataset[target_dataset['text'].notna()]"
   ]
  },
  {
   "cell_type": "markdown",
   "id": "5e2c6b91",
   "metadata": {},
   "source": [
    "Reset the index of the filtered comments DataFrame."
   ]
  },
  {
   "cell_type": "code",
   "execution_count": null,
   "id": "8056f369",
   "metadata": {},
   "outputs": [],
   "source": [
    "CCDataset = filtered_comments.reset_index(drop=True)"
   ]
  },
  {
   "cell_type": "markdown",
   "id": "d5b280bc",
   "metadata": {},
   "source": [
    "Create a test dataset by sampling 20% of the CCDataset."
   ]
  },
  {
   "cell_type": "code",
   "execution_count": null,
   "id": "f0888d5d",
   "metadata": {},
   "outputs": [],
   "source": [
    "test_dataset = CCDataset.sample(frac=0.2, random_state=42)"
   ]
  },
  {
   "cell_type": "markdown",
   "id": "f27e82ec",
   "metadata": {},
   "source": [
    "Initialize a DataLoader for the test dataset."
   ]
  },
  {
   "cell_type": "code",
   "execution_count": null,
   "id": "9fb4b97a",
   "metadata": {},
   "outputs": [],
   "source": [
    "from torch.utils.data import DataLoader\n",
    "test_loader = DataLoader(test_dataset, batch_size=32, shuffle=True)"
   ]
  },
  {
   "cell_type": "markdown",
   "id": "b202ff25",
   "metadata": {},
   "source": [
    "Run inference on the test loader using the trained model."
   ]
  },
  {
   "cell_type": "code",
   "execution_count": null,
   "id": "7631e302",
   "metadata": {},
   "outputs": [],
   "source": [
    "predictions = model.inference(test_loader)"
   ]
  },
  {
   "cell_type": "markdown",
   "id": "220f3cac",
   "metadata": {},
   "source": [
    "Save the predictions to a CSV file."
   ]
  },
  {
   "cell_type": "code",
   "execution_count": null,
   "id": "cd358451",
   "metadata": {},
   "outputs": [],
   "source": [
    "predictions_df = pd.DataFrame(predictions, columns=['predictions'])\n",
    "predictions_df.to_csv('saved_predictions.csv', index=False)"
   ]
  }
 ],
 "metadata": {
  "kernelspec": {
   "display_name": "Python 3",
   "language": "python",
   "name": "python3"
  },
  "language_info": {
   "codemirror_mode": {
    "name": "ipython",
    "version": 3
   },
   "file_extension": ".py",
   "mimetype": "text/x-python",
   "name": "python",
   "nbconvert_exporter": "python",
   "pygments_lexer": "ipython3",
   "version": "3.8.5"
  }
 },
 "nbformat": 4,
 "nbformat_minor": 5
}
