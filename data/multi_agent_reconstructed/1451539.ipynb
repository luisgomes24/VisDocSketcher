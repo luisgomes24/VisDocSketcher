{
 "cells": [
  {
   "cell_type": "markdown",
   "id": "44c99263",
   "metadata": {},
   "source": [
    "Load the CSV file into a DataFrame named 'df'."
   ]
  },
  {
   "cell_type": "code",
   "execution_count": null,
   "id": "e0451a45",
   "metadata": {},
   "outputs": [],
   "source": [
    "import pandas as pd\n",
    "\n",
    "df = pd.read_csv('train_ship_segmentations.csv')"
   ]
  },
  {
   "cell_type": "markdown",
   "id": "39932d8c",
   "metadata": {},
   "source": [
    "Extract unique image IDs from the DataFrame and store them in 'train_ids'."
   ]
  },
  {
   "cell_type": "code",
   "execution_count": null,
   "id": "22c64abd",
   "metadata": {},
   "outputs": [],
   "source": [
    "train_ids = df['ImageId'].unique()"
   ]
  },
  {
   "cell_type": "markdown",
   "id": "1fffae00",
   "metadata": {},
   "source": [
    "Get paths for training images where encoded pixels are available, stored in 'path_train'."
   ]
  },
  {
   "cell_type": "code",
   "execution_count": null,
   "id": "42e47562",
   "metadata": {},
   "outputs": [],
   "source": [
    "path_train = df[df['EncodedPixels'].notnull()]['ImageId']"
   ]
  },
  {
   "cell_type": "markdown",
   "id": "741dabd4",
   "metadata": {},
   "source": [
    "Get paths for test images where encoded pixels are absent, stored in 'path_test'."
   ]
  },
  {
   "cell_type": "code",
   "execution_count": null,
   "id": "062ce2c2",
   "metadata": {},
   "outputs": [],
   "source": [
    "path_test = df[df['EncodedPixels'].isnull()]['ImageId']"
   ]
  }
 ],
 "metadata": {
  "kernelspec": {
   "display_name": "Python 3",
   "language": "python",
   "name": "python3"
  },
  "language_info": {
   "codemirror_mode": {
    "name": "ipython",
    "version": 3
   },
   "file_extension": ".py",
   "mimetype": "text/x-python",
   "name": "python",
   "nbconvert_exporter": "python",
   "pygments_lexer": "ipython3",
   "version": "3.8.5"
  }
 },
 "nbformat": 4,
 "nbformat_minor": 5
}
