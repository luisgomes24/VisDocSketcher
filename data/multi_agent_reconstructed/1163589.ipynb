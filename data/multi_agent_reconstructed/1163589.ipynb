{
 "cells": [
  {
   "cell_type": "markdown",
   "id": "bf401f53",
   "metadata": {},
   "source": [
    "Load the training data from 'train.csv' using pandas."
   ]
  },
  {
   "cell_type": "code",
   "execution_count": null,
   "id": "07157789",
   "metadata": {},
   "outputs": [],
   "source": [
    "import pandas as pd\n",
    "train_data = pd.read_csv('train.csv')"
   ]
  },
  {
   "cell_type": "markdown",
   "id": "964e73fb",
   "metadata": {},
   "source": [
    "Load the testing data from 'test.csv' using pandas."
   ]
  },
  {
   "cell_type": "code",
   "execution_count": null,
   "id": "442a7c11",
   "metadata": {},
   "outputs": [],
   "source": [
    "import pandas as pd\n",
    "test_data = pd.read_csv('test.csv')"
   ]
  }
 ],
 "metadata": {
  "kernelspec": {
   "display_name": "Python 3",
   "language": "python",
   "name": "python3"
  },
  "language_info": {
   "codemirror_mode": {
    "name": "ipython",
    "version": 3
   },
   "file_extension": ".py",
   "mimetype": "text/x-python",
   "name": "python",
   "nbconvert_exporter": "python",
   "pygments_lexer": "ipython3",
   "version": "3.8.5"
  }
 },
 "nbformat": 4,
 "nbformat_minor": 5
}
