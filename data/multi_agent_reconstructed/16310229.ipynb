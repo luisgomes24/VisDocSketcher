{
 "cells": [
  {
   "cell_type": "markdown",
   "id": "53ddcb4c",
   "metadata": {},
   "source": [
    "Import the pandas library to work with dataframes."
   ]
  },
  {
   "cell_type": "code",
   "execution_count": null,
   "id": "5daf98d2",
   "metadata": {},
   "outputs": [],
   "source": [
    "import pandas as pd"
   ]
  },
  {
   "cell_type": "markdown",
   "id": "17167cca",
   "metadata": {},
   "source": [
    "Read the CSV file 'eegout777.csv' into a dataframe."
   ]
  },
  {
   "cell_type": "code",
   "execution_count": null,
   "id": "b711b65c",
   "metadata": {},
   "outputs": [],
   "source": [
    "df = pd.read_csv('eegout777.csv')"
   ]
  },
  {
   "cell_type": "markdown",
   "id": "89456065",
   "metadata": {},
   "source": [
    "Convert the dataframe 'df' into a NumPy array 'x'."
   ]
  },
  {
   "cell_type": "code",
   "execution_count": null,
   "id": "14f0c6a0",
   "metadata": {},
   "outputs": [],
   "source": [
    "x = df.to_numpy()"
   ]
  }
 ],
 "metadata": {
  "kernelspec": {
   "display_name": "Python 3",
   "language": "python",
   "name": "python3"
  },
  "language_info": {
   "codemirror_mode": {
    "name": "ipython",
    "version": 3
   },
   "file_extension": ".py",
   "mimetype": "text/x-python",
   "name": "python",
   "nbconvert_exporter": "python",
   "pygments_lexer": "ipython3",
   "version": "3.8.5"
  }
 },
 "nbformat": 4,
 "nbformat_minor": 5
}
