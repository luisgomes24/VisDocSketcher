{
 "cells": [
  {
   "cell_type": "markdown",
   "id": "36f95acd",
   "metadata": {},
   "source": [
    "Load locations data from a CSV file into a DataFrame."
   ]
  },
  {
   "cell_type": "code",
   "execution_count": null,
   "id": "4097174a",
   "metadata": {},
   "outputs": [],
   "source": [
    "import pandas as pd\n",
    "locations_data = pd.read_csv('locations_data.csv')"
   ]
  },
  {
   "cell_type": "markdown",
   "id": "dcf06cf1",
   "metadata": {},
   "source": [
    "Extract relevant columns to create a DataFrame of restaurant info."
   ]
  },
  {
   "cell_type": "code",
   "execution_count": null,
   "id": "27cfef69",
   "metadata": {},
   "outputs": [],
   "source": [
    "restaurant_info = locations_data[['name', 'location', 'cuisine']]"
   ]
  },
  {
   "cell_type": "markdown",
   "id": "d496f064",
   "metadata": {},
   "source": [
    "Split data and fit a linear regression model to predict target values."
   ]
  },
  {
   "cell_type": "code",
   "execution_count": null,
   "id": "9f482965",
   "metadata": {},
   "outputs": [],
   "source": [
    "from sklearn.model_selection import train_test_split\n",
    "from sklearn.linear_model import LinearRegression\n",
    "X = restaurant_info[['location_features']]\n",
    "y = restaurant_info['target']\n",
    "x_train, x_test, y_train, y_test = train_test_split(X, y, test_size=0.2)\n",
    "model = LinearRegression().fit(x_train, y_train)"
   ]
  },
  {
   "cell_type": "markdown",
   "id": "7b366575",
   "metadata": {},
   "source": [
    "Make predictions using the trained linear regression model."
   ]
  },
  {
   "cell_type": "code",
   "execution_count": null,
   "id": "ed773ae6",
   "metadata": {},
   "outputs": [],
   "source": [
    "predictions = model.predict(x_test)"
   ]
  },
  {
   "cell_type": "markdown",
   "id": "12c57cd4",
   "metadata": {},
   "source": [
    "Assign clusters based on predictions using a defined threshold."
   ]
  },
  {
   "cell_type": "code",
   "execution_count": null,
   "id": "8d19d9ed",
   "metadata": {},
   "outputs": [],
   "source": [
    "import numpy as np\n",
    "clusters = np.where(predictions > threshold, 1, 0)"
   ]
  },
  {
   "cell_type": "markdown",
   "id": "ffc043cf",
   "metadata": {},
   "source": [
    "Visualize cluster assignments using a scatter plot."
   ]
  },
  {
   "cell_type": "code",
   "execution_count": null,
   "id": "1e64733e",
   "metadata": {},
   "outputs": [],
   "source": [
    "import matplotlib.pyplot as plt\n",
    "plt.scatter(x_test, y_test, c=clusters)\n",
    "plt.title('Cluster Assignments Visualization')\n",
    "plt.show()"
   ]
  },
  {
   "cell_type": "markdown",
   "id": "0dac8de7",
   "metadata": {},
   "source": [
    "Calculate and output evaluation metrics like mean squared error."
   ]
  },
  {
   "cell_type": "code",
   "execution_count": null,
   "id": "30203978",
   "metadata": {},
   "outputs": [],
   "source": [
    "from sklearn.metrics import mean_squared_error\n",
    "metrics = mean_squared_error(y_test, predictions)"
   ]
  }
 ],
 "metadata": {
  "kernelspec": {
   "display_name": "Python 3",
   "language": "python",
   "name": "python3"
  },
  "language_info": {
   "codemirror_mode": {
    "name": "ipython",
    "version": 3
   },
   "file_extension": ".py",
   "mimetype": "text/x-python",
   "name": "python",
   "nbconvert_exporter": "python",
   "pygments_lexer": "ipython3",
   "version": "3.8.5"
  }
 },
 "nbformat": 4,
 "nbformat_minor": 5
}
