{
 "cells": [
  {
   "cell_type": "markdown",
   "id": "d7f0c98c",
   "metadata": {},
   "source": [
    "Get the quality input from the user, expected between 0 and 10."
   ]
  },
  {
   "cell_type": "code",
   "execution_count": null,
   "id": "e26193b7",
   "metadata": {},
   "outputs": [],
   "source": [
    "quality = int(input('Enter Quality (0-10): '))"
   ]
  },
  {
   "cell_type": "markdown",
   "id": "15875f7b",
   "metadata": {},
   "source": [
    "Define the fuzzy logic control system function to process the quality."
   ]
  },
  {
   "cell_type": "code",
   "execution_count": null,
   "id": "ca4603dd",
   "metadata": {},
   "outputs": [],
   "source": [
    "def fuzzy_logic_control_system(quality):\n",
    "    # Logic for fuzzy control based on quality\n",
    "    return quality * 10"
   ]
  },
  {
   "cell_type": "markdown",
   "id": "7f9039ad",
   "metadata": {},
   "source": [
    "Call the fuzzy logic control system function to get the service value."
   ]
  },
  {
   "cell_type": "code",
   "execution_count": null,
   "id": "ea96402d",
   "metadata": {},
   "outputs": [],
   "source": [
    "service = fuzzy_logic_control_system(quality)"
   ]
  },
  {
   "cell_type": "markdown",
   "id": "426f28f0",
   "metadata": {},
   "source": [
    "Define a function to calculate the tip based on the service value."
   ]
  },
  {
   "cell_type": "code",
   "execution_count": null,
   "id": "ffc6fc81",
   "metadata": {},
   "outputs": [],
   "source": [
    "def calculate_tip(service):\n",
    "    # Calculate tip based on service\n",
    "    return service * 2.5"
   ]
  },
  {
   "cell_type": "markdown",
   "id": "d9712e08",
   "metadata": {},
   "source": [
    "Calculate the tip based on the service value derived from the fuzzy logic system."
   ]
  },
  {
   "cell_type": "code",
   "execution_count": null,
   "id": "435f90fe",
   "metadata": {},
   "outputs": [],
   "source": [
    "tip = calculate_tip(service)"
   ]
  },
  {
   "cell_type": "markdown",
   "id": "acec9775",
   "metadata": {},
   "source": [
    "Define a control system simulation function to display the calculated tip."
   ]
  },
  {
   "cell_type": "code",
   "execution_count": null,
   "id": "369ccf8a",
   "metadata": {},
   "outputs": [],
   "source": [
    "def control_system_simulation(tip):\n",
    "    print(f'Tip amount: {tip}')"
   ]
  },
  {
   "cell_type": "markdown",
   "id": "1f433ee2",
   "metadata": {},
   "source": [
    "Execute the control system simulation to show the final tip amount."
   ]
  },
  {
   "cell_type": "code",
   "execution_count": null,
   "id": "75451e50",
   "metadata": {},
   "outputs": [],
   "source": [
    "control_system_simulation(tip)"
   ]
  }
 ],
 "metadata": {
  "kernelspec": {
   "display_name": "Python 3",
   "language": "python",
   "name": "python3"
  },
  "language_info": {
   "codemirror_mode": {
    "name": "ipython",
    "version": 3
   },
   "file_extension": ".py",
   "mimetype": "text/x-python",
   "name": "python",
   "nbconvert_exporter": "python",
   "pygments_lexer": "ipython3",
   "version": "3.8.5"
  }
 },
 "nbformat": 4,
 "nbformat_minor": 5
}
