{
 "cells": [
  {
   "cell_type": "markdown",
   "id": "62220207",
   "metadata": {},
   "source": [
    "Load the earthquake data from a CSV file."
   ]
  },
  {
   "cell_type": "code",
   "execution_count": null,
   "id": "bfacb40b",
   "metadata": {},
   "outputs": [],
   "source": [
    "import pandas as pd\n",
    "earthquakes = pd.read_csv('earthquake_database.csv')"
   ]
  },
  {
   "cell_type": "markdown",
   "id": "97b910fd",
   "metadata": {},
   "source": [
    "Load the landslide data from a CSV file."
   ]
  },
  {
   "cell_type": "code",
   "execution_count": null,
   "id": "ff1b2890",
   "metadata": {},
   "outputs": [],
   "source": [
    "landslides = pd.read_csv('landslide_events.csv')"
   ]
  },
  {
   "cell_type": "markdown",
   "id": "472c8b1a",
   "metadata": {},
   "source": [
    "Parse and filter earthquakes to retain only those with valid dates."
   ]
  },
  {
   "cell_type": "code",
   "execution_count": null,
   "id": "8950e462",
   "metadata": {},
   "outputs": [],
   "source": [
    "earthquake_data = earthquakes[earthquakes['date'].notnull()]"
   ]
  },
  {
   "cell_type": "markdown",
   "id": "cc3bc35e",
   "metadata": {},
   "source": [
    "Extract and group landslide events by day of the month."
   ]
  },
  {
   "cell_type": "code",
   "execution_count": null,
   "id": "45b69607",
   "metadata": {},
   "outputs": [],
   "source": [
    "landslide_data['day'] = pd.to_datetime(landslides['date']).dt.day\n",
    "grouped_landslides = landslide_data['day'].value_counts()"
   ]
  },
  {
   "cell_type": "markdown",
   "id": "728289f4",
   "metadata": {},
   "source": [
    "Create a bar chart for the day of month landslides."
   ]
  },
  {
   "cell_type": "code",
   "execution_count": null,
   "id": "b3b4c27d",
   "metadata": {},
   "outputs": [],
   "source": [
    "landslide_data['day'].value_counts().plot(kind='bar', title='Day of Month Landslides Chart')"
   ]
  },
  {
   "cell_type": "markdown",
   "id": "887f3ffc",
   "metadata": {},
   "source": [
    "Extract and group earthquakes by day of the month."
   ]
  },
  {
   "cell_type": "code",
   "execution_count": null,
   "id": "41eae1d9",
   "metadata": {},
   "outputs": [],
   "source": [
    "earthquake_data['day'] = pd.to_datetime(earthquake_data['date']).dt.day\n",
    "grouped_earthquakes = earthquake_data['day'].value_counts()"
   ]
  },
  {
   "cell_type": "markdown",
   "id": "cb745eff",
   "metadata": {},
   "source": [
    "Create a bar chart for the day of month earthquakes."
   ]
  },
  {
   "cell_type": "code",
   "execution_count": null,
   "id": "a1ba0aec",
   "metadata": {},
   "outputs": [],
   "source": [
    "earthquake_data['day'].value_counts().plot(kind='bar', title='Day of Month Earthquakes Chart')"
   ]
  }
 ],
 "metadata": {
  "kernelspec": {
   "display_name": "Python 3",
   "language": "python",
   "name": "python3"
  },
  "language_info": {
   "codemirror_mode": {
    "name": "ipython",
    "version": 3
   },
   "file_extension": ".py",
   "mimetype": "text/x-python",
   "name": "python",
   "nbconvert_exporter": "python",
   "pygments_lexer": "ipython3",
   "version": "3.8.5"
  }
 },
 "nbformat": 4,
 "nbformat_minor": 5
}
