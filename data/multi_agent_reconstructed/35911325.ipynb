{
 "cells": [
  {
   "cell_type": "markdown",
   "id": "093f5d4d",
   "metadata": {},
   "source": [
    "Load the submission file using pandas."
   ]
  },
  {
   "cell_type": "code",
   "execution_count": null,
   "id": "9bfe7a44",
   "metadata": {},
   "outputs": [],
   "source": [
    "import pandas as pd\n",
    "submission = pd.read_csv('submission.csv')"
   ]
  },
  {
   "cell_type": "markdown",
   "id": "cd7dfa35",
   "metadata": {},
   "source": [
    "Load the training data and taxonomy from CSV files."
   ]
  },
  {
   "cell_type": "code",
   "execution_count": null,
   "id": "dc7125b1",
   "metadata": {},
   "outputs": [],
   "source": [
    "train = pd.read_csv('training_data.csv')\n",
    "taxonomy = pd.read_csv('taxonomy.csv')"
   ]
  },
  {
   "cell_type": "markdown",
   "id": "30ada97e",
   "metadata": {},
   "source": [
    "Process the training data to get counts of labels and families."
   ]
  },
  {
   "cell_type": "code",
   "execution_count": null,
   "id": "d2eea280",
   "metadata": {},
   "outputs": [],
   "source": [
    "counts_labels = train['label'].value_counts()\n",
    "counts_family = train['family'].value_counts()"
   ]
  },
  {
   "cell_type": "markdown",
   "id": "b0565b9d",
   "metadata": {},
   "source": [
    "Split the data into training and testing sets."
   ]
  },
  {
   "cell_type": "code",
   "execution_count": null,
   "id": "605e6d9e",
   "metadata": {},
   "outputs": [],
   "source": [
    "from sklearn.model_selection import train_test_split\n",
    "X_train, X_test, y_train, y_test = train_test_split(train.drop('label', axis=1), train['label'], test_size=0.2)"
   ]
  },
  {
   "cell_type": "markdown",
   "id": "395a88f7",
   "metadata": {},
   "source": [
    "Train a Random Forest model using the training data."
   ]
  },
  {
   "cell_type": "code",
   "execution_count": null,
   "id": "0f0ec27f",
   "metadata": {},
   "outputs": [],
   "source": [
    "from sklearn.ensemble import RandomForestClassifier\n",
    "model = RandomForestClassifier()\n",
    "model.fit(X_train, y_train)"
   ]
  },
  {
   "cell_type": "markdown",
   "id": "e28c4c06",
   "metadata": {},
   "source": [
    "Evaluate the model's accuracy on the test data."
   ]
  },
  {
   "cell_type": "code",
   "execution_count": null,
   "id": "3e47ca16",
   "metadata": {},
   "outputs": [],
   "source": [
    "from sklearn.metrics import accuracy_score\n",
    "predictions = model.predict(X_test)\n",
    "accuracy = accuracy_score(y_test, predictions)"
   ]
  },
  {
   "cell_type": "markdown",
   "id": "0e47265e",
   "metadata": {},
   "source": [
    "Make predictions on the submission data."
   ]
  },
  {
   "cell_type": "code",
   "execution_count": null,
   "id": "d1038d55",
   "metadata": {},
   "outputs": [],
   "source": [
    "submission['predictions'] = model.predict(submission.drop('id', axis=1))"
   ]
  },
  {
   "cell_type": "markdown",
   "id": "fbebf4aa",
   "metadata": {},
   "source": [
    "Generate the final submission file."
   ]
  },
  {
   "cell_type": "code",
   "execution_count": null,
   "id": "cb1569a2",
   "metadata": {},
   "outputs": [],
   "source": [
    "submission.to_csv('final_submission.csv', index=False)"
   ]
  }
 ],
 "metadata": {
  "kernelspec": {
   "display_name": "Python 3",
   "language": "python",
   "name": "python3"
  },
  "language_info": {
   "codemirror_mode": {
    "name": "ipython",
    "version": 3
   },
   "file_extension": ".py",
   "mimetype": "text/x-python",
   "name": "python",
   "nbconvert_exporter": "python",
   "pygments_lexer": "ipython3",
   "version": "3.8.5"
  }
 },
 "nbformat": 4,
 "nbformat_minor": 5
}
