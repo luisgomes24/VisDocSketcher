{
 "cells": [
  {
   "cell_type": "markdown",
   "id": "17ae53e2",
   "metadata": {},
   "source": [
    "Load the CSV file containing earthquake data into a Pandas DataFrame."
   ]
  },
  {
   "cell_type": "code",
   "execution_count": null,
   "id": "d9e18475",
   "metadata": {},
   "outputs": [],
   "source": [
    "import pandas as pd\n",
    "data0 = pd.read_csv('italy_earthquakes_from_2016-08-24_to_2016-11-30.csv')"
   ]
  },
  {
   "cell_type": "markdown",
   "id": "b78e8828",
   "metadata": {},
   "source": [
    "Display the first few rows of the DataFrame to inspect the data."
   ]
  },
  {
   "cell_type": "code",
   "execution_count": null,
   "id": "68bbd426",
   "metadata": {},
   "outputs": [],
   "source": [
    "data0.head()"
   ]
  },
  {
   "cell_type": "markdown",
   "id": "8ff61d7a",
   "metadata": {},
   "source": [
    "Create a scatter plot to visualize the relationship between two variables in the DataFrame."
   ]
  },
  {
   "cell_type": "code",
   "execution_count": null,
   "id": "8bc39639",
   "metadata": {},
   "outputs": [],
   "source": [
    "import matplotlib.pyplot as plt\n",
    "plt.scatter(data0['X Axis'], data0['Y Axis'])\n",
    "plt.xlabel('X Axis')\n",
    "plt.ylabel('Y Axis')\n",
    "plt.show()"
   ]
  }
 ],
 "metadata": {
  "kernelspec": {
   "display_name": "Python 3",
   "language": "python",
   "name": "python3"
  },
  "language_info": {
   "codemirror_mode": {
    "name": "ipython",
    "version": 3
   },
   "file_extension": ".py",
   "mimetype": "text/x-python",
   "name": "python",
   "nbconvert_exporter": "python",
   "pygments_lexer": "ipython3",
   "version": "3.8.5"
  }
 },
 "nbformat": 4,
 "nbformat_minor": 5
}
