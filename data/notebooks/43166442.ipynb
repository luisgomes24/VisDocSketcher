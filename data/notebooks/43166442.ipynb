{
 "cells": [
  {
   "cell_type": "code",
   "execution_count": null,
   "id": "5317c90b",
   "metadata": {},
   "outputs": [],
   "source": [
    "import os\n",
    "import json\n",
    "from PIL import Image\n",
    "import numpy as np\n",
    "import matplotlib.pyplot as plt\n",
    "\n",
    "import torch\n",
    "from torchvision import transforms\n",
    "from torch.utils.data import Dataset, DataLoader"
   ]
  },
  {
   "cell_type": "code",
   "execution_count": null,
   "id": "215e34fb",
   "metadata": {},
   "outputs": [],
   "source": [
    "class config:\n",
    "    dev_images_path = '/kaggle/input/vlsp-dataset/dev-images/dev-images'\n",
    "    dev_json_path = '/kaggle/input/vlsp-dataset/vlsp2023_dev_data.json'\n",
    "    train_images_path = '/kaggle/input/vlsp-dataset/training-data-20230913T111851Z-001/training-data/training-images/training-images'\n",
    "    train_json_path = '/kaggle/input/vlsp-dataset/training-data-20230913T111851Z-001/training-data/vlsp2023_train_data.json'\n",
    "#     model_dir = ''\n",
    "#     TRAIN_SIZE = \n",
    "#     SEED = \n",
    "#     EPOCHS = \n",
    "#     MAX_LEN = \n",
    "#     TRAIN_BATCH_SIZE = \n",
    "#     VAL_BATCH_SIZE = \n",
    "#     target_list = []\n",
    "#     NUM_WORKERS = os.cpu_count()\n",
    "    \n",
    "# torch.manual_seed(config.SEED)\n",
    "# torch.cuda.manual_seed(config.SEED)\n",
    "# device = torch.device('cuda') if torch.cuda.is_available() else torch.device('cpu')\n",
    "# print(device)"
   ]
  },
  {
   "cell_type": "code",
   "execution_count": null,
   "id": "5602b40f",
   "metadata": {},
   "outputs": [],
   "source": [
    "print(\"length dev-images:\", len([name for name in os.listdir(config.dev_images_path) if os.path.isfile(os.path.join(config.dev_images_path, name))]))\n",
    "print(\"length train-images:\", len([name for name in os.listdir(config.train_images_path) if os.path.isfile(os.path.join(config.train_images_path, name))]))"
   ]
  },
  {
   "cell_type": "code",
   "execution_count": null,
   "id": "07dd6f75",
   "metadata": {},
   "outputs": [],
   "source": [
    "class VLSP_Dataset(Dataset):\n",
    "    def __init__(self, json_file, image_dir, transform=None):\n",
    "        self.image_dir = image_dir\n",
    "        self.transform = transform\n",
    "\n",
    "        with open(json_file, 'r') as json_file:\n",
    "            data = json.load(json_file)\n",
    "\n",
    "        self.dataset = []\n",
    "\n",
    "        for annotation_id, annotation_data in data['annotations'].items():\n",
    "            image_id = annotation_data['image_id']\n",
    "            question = annotation_data['question']\n",
    "            answer = annotation_data['answer']\n",
    "\n",
    "            image_filename = data['images'][str(image_id)]\n",
    "            image_path = f'{image_dir}/{image_filename}'\n",
    "            label = f\"{question} [SEP] {answer}\"\n",
    "\n",
    "            self.dataset.append((image_path, label))\n",
    "\n",
    "    def __len__(self):\n",
    "        return len(self.dataset)\n",
    "\n",
    "    def __getitem__(self, idx):\n",
    "        image_path, label = self.dataset[idx]\n",
    "        image = Image.open(image_path).convert('RGB')\n",
    "\n",
    "        if self.transform:\n",
    "            image = self.transform(image)\n",
    "\n",
    "        return image, label"
   ]
  },
  {
   "cell_type": "code",
   "execution_count": null,
   "id": "196ea962",
   "metadata": {},
   "outputs": [],
   "source": [
    "dev_json_file = config.dev_json_path\n",
    "dev_image_dir = config.dev_images_path\n",
    "\n",
    "train_json_file = config.train_json_path\n",
    "train_image_dir = config.train_images_path\n",
    "\n",
    "vlsp_dataset = VLSP_Dataset(dev_json_file, dev_image_dir, transform=transforms.Compose([transforms.Resize((224, 224)), transforms.ToTensor()]))"
   ]
  },
  {
   "cell_type": "code",
   "execution_count": null,
   "id": "4dd298da",
   "metadata": {},
   "outputs": [],
   "source": [
    "random_indices = np.random.choice(len(vlsp_dataset), 5)\n",
    "\n",
    "for idx in random_indices:\n",
    "    image, label = vlsp_dataset[idx]\n",
    "    \n",
    "    image = image.permute(1, 2, 0).numpy()\n",
    "    \n",
    "    plt.figure(figsize=(8, 8))\n",
    "    plt.imshow(image)\n",
    "    plt.title(f\"Label: {label}\")\n",
    "    plt.axis('off')\n",
    "    plt.show()"
   ]
  }
 ],
 "metadata": {},
 "nbformat": 4,
 "nbformat_minor": 5
}
