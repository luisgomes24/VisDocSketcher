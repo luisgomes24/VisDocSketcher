{
 "cells": [
  {
   "cell_type": "markdown",
   "id": "4ad611aa",
   "metadata": {},
   "source": [
    "<h1 style=\"text-align: center; font-family: Verdana; font-size: 32px; font-style: normal; font-weight: bold; text-decoration: none; text-transform: none; font-variant: small-caps; letter-spacing: 3px; color: #468282; background-color: #ffffff;\">Comparing AutoEDA: AutoViz Vs SweetViz Vs Lux Vs Dataprep Vs Pandas Profiling</h1>\n",
    "<h2 style=\"text-align: center; font-family: Verdana; font-size: 24px; font-style: normal; font-weight: bold; text-decoration: underline; text-transform: none; letter-spacing: 2px; color: navy; background-color: #ffffff;\">Started NoteBook on Mr:Beast YT video stats</h2>\n",
    "\n",
    "\n",
    "<p align=\"center\">\n",
    " <img width=\"600\" src=\"https://miro.medium.com/max/1400/1*mTUJBqDOJ_JLokb4MeBHaQ.png\">\n",
    "</p>\n",
    "\n",
    "In this notebook we are going to compare the top Auto EDA libraries that really facilite the dataset analysis and visualziation!\n",
    "\n",
    "The main idea is that you can compare time to plot and results of each AutoEda library so you can select the best for your work.\n",
    "\n",
    "**PS: is inspaired from [@andreshg's](https://www.kaggle.com/andreshg) NoteBook**\n",
    "- [📊 Automatic EDA Libraries 📚 Comparisson](https://www.kaggle.com/andreshg/automatic-eda-libraries-comparisson)"
   ]
  },
  {
   "cell_type": "markdown",
   "id": "c388b453",
   "metadata": {},
   "source": [
    "<a id='1'></a>\n",
    "# <p style=\"background-color:skyblue; font-family:newtimeroman; font-size:150%; text-align:center\">1. 📊 Dataprep 📚</p>"
   ]
  },
  {
   "cell_type": "code",
   "execution_count": null,
   "id": "418a6a99",
   "metadata": {},
   "outputs": [],
   "source": [
    "!pip install -q dataprep"
   ]
  },
  {
   "cell_type": "code",
   "execution_count": null,
   "id": "584b3e4e",
   "metadata": {},
   "outputs": [],
   "source": [
    "from dataprep.eda import plot, plot_correlation, create_report, plot_missing"
   ]
  },
  {
   "cell_type": "code",
   "execution_count": null,
   "id": "5f6648cc",
   "metadata": {},
   "outputs": [],
   "source": [
    "import pandas as pd"
   ]
  },
  {
   "cell_type": "code",
   "execution_count": null,
   "id": "29e78afa",
   "metadata": {},
   "outputs": [],
   "source": [
    "df = pd.read_csv('../input/mr-beast-youtube-video-statistics/mr_beast_youtube_stats.csv')"
   ]
  },
  {
   "cell_type": "code",
   "execution_count": null,
   "id": "1f742473",
   "metadata": {},
   "outputs": [],
   "source": [
    "plot(df)"
   ]
  },
  {
   "cell_type": "code",
   "execution_count": null,
   "id": "6ca92edf",
   "metadata": {},
   "outputs": [],
   "source": [
    "create_report(df)"
   ]
  },
  {
   "cell_type": "markdown",
   "id": "d02991de",
   "metadata": {},
   "source": [
    "<a id='2'></a>\n",
    "# <p style=\"background-color:skyblue; font-family:newtimeroman; font-size:150%; text-align:center\">2. 📊 AutoViz 📚</p>\n",
    "\n",
    "AutoViz stands out of the crowd of freeware Pythonic Rapid EDA Automation tools, doing things in a very fast way, the way better than its close freeware rivals like SweetViz or Pandas Profiling"
   ]
  },
  {
   "cell_type": "code",
   "execution_count": null,
   "id": "9e861d7e",
   "metadata": {},
   "outputs": [],
   "source": [
    "# !pip install -q bokeh==2.4.2"
   ]
  },
  {
   "cell_type": "code",
   "execution_count": null,
   "id": "1a7ada20",
   "metadata": {},
   "outputs": [],
   "source": [
    "# ! pip install hvplot==0.7.3; fsspec==0.8.3; holoviews==1.14.6; panel==0.12.6"
   ]
  },
  {
   "cell_type": "code",
   "execution_count": null,
   "id": "de4554df",
   "metadata": {},
   "outputs": [],
   "source": [
    "# !pip install -q git+git://github.com/AutoViML/AutoViz.git --no-deps\n",
    "# !pip install -q xlrd"
   ]
  },
  {
   "cell_type": "code",
   "execution_count": null,
   "id": "1c5dcf48",
   "metadata": {},
   "outputs": [],
   "source": [
    "# # Start of AutoViz process\n",
    "# start_time = dt.datetime.now()\n",
    "# print(\"Started at \", start_time)"
   ]
  },
  {
   "cell_type": "code",
   "execution_count": null,
   "id": "93e88670",
   "metadata": {},
   "outputs": [],
   "source": [
    "# !pip install -q ../input/global-wheels/autoviz-0.1.29-py3-none-any.whl"
   ]
  },
  {
   "cell_type": "code",
   "execution_count": null,
   "id": "b481b7f4",
   "metadata": {},
   "outputs": [],
   "source": [
    "# from autoviz.AutoViz_Class import AutoViz_Class\n",
    "# %matplotlib inline\n",
    "\n",
    "\n",
    "# AV = AutoViz_Class()\n",
    "# df = AV.AutoViz('../input/mr-beast-youtube-video-statistics/mr_beast_youtube_stats.csv', chart_format='png')"
   ]
  },
  {
   "cell_type": "markdown",
   "id": "ef159adf",
   "metadata": {},
   "source": [
    "<a id='3'></a>\n",
    "# <p style=\"background-color:skyblue; font-family:newtimeroman; font-size:150%; text-align:center\">3. 📊 Pandas Profiling 📚</p>"
   ]
  },
  {
   "cell_type": "code",
   "execution_count": null,
   "id": "4249ec6f",
   "metadata": {},
   "outputs": [],
   "source": [
    "from pandas_profiling import ProfileReport"
   ]
  },
  {
   "cell_type": "code",
   "execution_count": null,
   "id": "c969b4fc",
   "metadata": {},
   "outputs": [],
   "source": [
    "df = pd.read_csv('../input/mr-beast-youtube-video-statistics/mr_beast_youtube_stats.csv')"
   ]
  },
  {
   "cell_type": "code",
   "execution_count": null,
   "id": "f628b94e",
   "metadata": {},
   "outputs": [],
   "source": [
    "report = ProfileReport(df)"
   ]
  },
  {
   "cell_type": "code",
   "execution_count": null,
   "id": "12d50646",
   "metadata": {},
   "outputs": [],
   "source": [
    "report"
   ]
  },
  {
   "cell_type": "markdown",
   "id": "d4e78562",
   "metadata": {},
   "source": [
    "<a id='4'></a>\n",
    "# <p style=\"background-color:skyblue; font-family:newtimeroman; font-size:150%; text-align:center\">4. 📊 SweetViz 📚</p>"
   ]
  },
  {
   "cell_type": "code",
   "execution_count": null,
   "id": "a9be475a",
   "metadata": {},
   "outputs": [],
   "source": [
    "!pip install -q sweetviz"
   ]
  },
  {
   "cell_type": "code",
   "execution_count": null,
   "id": "69789c25",
   "metadata": {},
   "outputs": [],
   "source": [
    "import sweetviz as sv"
   ]
  },
  {
   "cell_type": "code",
   "execution_count": null,
   "id": "e5d6ce06",
   "metadata": {},
   "outputs": [],
   "source": [
    "import pandas as pd\n",
    "df = pd.read_csv('../input/mr-beast-youtube-video-statistics/mr_beast_youtube_stats.csv')"
   ]
  },
  {
   "cell_type": "code",
   "execution_count": null,
   "id": "dff234eb",
   "metadata": {},
   "outputs": [],
   "source": [
    "advert_report = sv.analyze([df, 'Data'])"
   ]
  },
  {
   "cell_type": "code",
   "execution_count": null,
   "id": "d8ac6568",
   "metadata": {},
   "outputs": [],
   "source": [
    "advert_report.show_html()"
   ]
  },
  {
   "cell_type": "markdown",
   "id": "662fbff8",
   "metadata": {},
   "source": [
    "![sweetviz.gif](attachment:sweetviz.gif)"
   ]
  },
  {
   "cell_type": "markdown",
   "id": "5b3ea797",
   "metadata": {},
   "source": [
    "<a id='5'></a>\n",
    "# <p style=\"background-color:skyblue; font-family:newtimeroman; font-size:150%; text-align:center\">5. 📊 Lux 📚</p>"
   ]
  },
  {
   "cell_type": "code",
   "execution_count": null,
   "id": "b974df97",
   "metadata": {},
   "outputs": [],
   "source": [
    "!pip install -q lux-api"
   ]
  },
  {
   "cell_type": "code",
   "execution_count": null,
   "id": "b2395efc",
   "metadata": {},
   "outputs": [],
   "source": [
    "import lux\n",
    "import pandas as pd"
   ]
  },
  {
   "cell_type": "code",
   "execution_count": null,
   "id": "db38981b",
   "metadata": {},
   "outputs": [],
   "source": [
    "df = pd.read_csv('../input/mr-beast-youtube-video-statistics/mr_beast_youtube_stats.csv')"
   ]
  },
  {
   "cell_type": "code",
   "execution_count": null,
   "id": "f284f1a7",
   "metadata": {},
   "outputs": [],
   "source": [
    "df"
   ]
  },
  {
   "cell_type": "markdown",
   "id": "4d5904b7",
   "metadata": {},
   "source": [
    "<a id='6'></a>\n",
    "# <p style=\"background-color:skyblue; font-family:newtimeroman; font-size:150%; text-align:center\">6. 📊 D-Tale 📚</p>"
   ]
  },
  {
   "cell_type": "code",
   "execution_count": null,
   "id": "97010fca",
   "metadata": {},
   "outputs": [],
   "source": [
    "! pip install -q dtale"
   ]
  },
  {
   "cell_type": "code",
   "execution_count": null,
   "id": "74c076bd",
   "metadata": {},
   "outputs": [],
   "source": [
    "nan"
   ]
  },
  {
   "cell_type": "markdown",
   "id": "914647a0",
   "metadata": {},
   "source": [
    "# References\n",
    "\n",
    "The references to the blog posts below may be helpful in your deeper delve into the universe of AutoViz\n",
    "\n",
    "* Pandas Profiling GitHub - https://github.com/pandas-profiling/pandas-profiling\n",
    "* Dan Roth, AutoViz: A New Tool for Automated Visualization - https://towardsdatascience.com/autoviz-a-new-tool-for-automated-visualization-ec9c1744a6ad\n",
    "* George Vyshnya, PROs and CONs of Rapid EDA Tools - https://medium.com/sbc-group-blog/pros-and-cons-of-rapid-eda-tools-e1ccd159ab07\n",
    "* SweetViz - https://towardsdatascience.com/sweetviz-automated-eda-in-python-a97e4cabacde\n",
    "* DataPrep - https://sfu-db.github.io/dataprep/user_guide/eda/plot.html"
   ]
  }
 ],
 "metadata": {},
 "nbformat": 4,
 "nbformat_minor": 5
}
