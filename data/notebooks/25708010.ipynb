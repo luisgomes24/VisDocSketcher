{
 "cells": [
  {
   "cell_type": "markdown",
   "id": "cfe68c1f",
   "metadata": {},
   "source": [
    "# Intro\n",
    "Inference notebook for [Hotel-ID starter - classification - traning](https://www.kaggle.com/code/michaln/hotel-id-starter-classification-traning)\n",
    "\n"
   ]
  },
  {
   "cell_type": "markdown",
   "id": "10468a9d",
   "metadata": {},
   "source": [
    "# Setup"
   ]
  },
  {
   "cell_type": "code",
   "execution_count": null,
   "id": "a87327d8",
   "metadata": {},
   "outputs": [],
   "source": [
    "import sys\n",
    "sys.path.append('../input/timm-pytorch-image-models/pytorch-image-models-master')"
   ]
  },
  {
   "cell_type": "markdown",
   "id": "cdb61aba",
   "metadata": {},
   "source": [
    "# Imports"
   ]
  },
  {
   "cell_type": "code",
   "execution_count": null,
   "id": "49540906",
   "metadata": {},
   "outputs": [],
   "source": [
    "import numpy as np\n",
    "import pandas as pd\n",
    "import random\n",
    "import os\n",
    "import math"
   ]
  },
  {
   "cell_type": "code",
   "execution_count": null,
   "id": "3302285b",
   "metadata": {},
   "outputs": [],
   "source": [
    "from PIL import Image as pil_image\n",
    "from tqdm import tqdm"
   ]
  },
  {
   "cell_type": "code",
   "execution_count": null,
   "id": "829b056e",
   "metadata": {},
   "outputs": [],
   "source": [
    "import torch\n",
    "import torch.nn as nn\n",
    "from torch.utils.data import DataLoader\n",
    "\n",
    "import timm"
   ]
  },
  {
   "cell_type": "markdown",
   "id": "a716e704",
   "metadata": {},
   "source": [
    "# Global"
   ]
  },
  {
   "cell_type": "code",
   "execution_count": null,
   "id": "1895da71",
   "metadata": {},
   "outputs": [],
   "source": [
    "SEED = 42\n",
    "IMG_SIZE = 256\n",
    "\n",
    "PROJECT_FOLDER = \"../input/hotel-id-to-combat-human-trafficking-2022-fgvc9/\"\n",
    "TEST_DATA_FOLDER = PROJECT_FOLDER + \"test_images/\""
   ]
  },
  {
   "cell_type": "code",
   "execution_count": null,
   "id": "15f76dc7",
   "metadata": {},
   "outputs": [],
   "source": [
    "print(os.listdir(PROJECT_FOLDER))"
   ]
  },
  {
   "cell_type": "code",
   "execution_count": null,
   "id": "fa1285a8",
   "metadata": {},
   "outputs": [],
   "source": [
    "def seed_everything(seed):\n",
    "    random.seed(seed)\n",
    "    os.environ['PYTHONHASHSEED'] = str(seed)\n",
    "    np.random.seed(seed)\n",
    "    torch.manual_seed(seed)\n",
    "    torch.cuda.manual_seed(seed)\n",
    "    torch.backends.cudnn.deterministic = True"
   ]
  },
  {
   "cell_type": "markdown",
   "id": "ae181ee6",
   "metadata": {},
   "source": [
    "# Dataset and transformations"
   ]
  },
  {
   "cell_type": "code",
   "execution_count": null,
   "id": "25ec7de9",
   "metadata": {},
   "outputs": [],
   "source": [
    "import albumentations as A\n",
    "import albumentations.pytorch as APT\n",
    "import cv2 \n",
    "\n",
    "base_transform = A.Compose([\n",
    "    A.ToFloat(),\n",
    "    APT.transforms.ToTensorV2(),\n",
    "])"
   ]
  },
  {
   "cell_type": "code",
   "execution_count": null,
   "id": "7901d90f",
   "metadata": {},
   "outputs": [],
   "source": [
    "def pad_image(img):\n",
    "    w, h, c = np.shape(img)\n",
    "    if w > h:\n",
    "        pad = int((w - h) / 2)\n",
    "        img = cv2.copyMakeBorder(img, 0, 0, pad, pad, cv2.BORDER_CONSTANT, value=0)\n",
    "    else:\n",
    "        pad = int((h - w) / 2)\n",
    "        img = cv2.copyMakeBorder(img, pad, pad, 0, 0, cv2.BORDER_CONSTANT, value=0)\n",
    "        \n",
    "    return img\n",
    "\n",
    "\n",
    "def open_and_preprocess_image(image_path):\n",
    "    img = cv2.imread(image_path)\n",
    "    img = cv2.cvtColor(img, cv2.COLOR_BGR2RGB)\n",
    "    img = pad_image(img)\n",
    "    return cv2.resize(img, (IMG_SIZE, IMG_SIZE))"
   ]
  },
  {
   "cell_type": "code",
   "execution_count": null,
   "id": "de9b0c75",
   "metadata": {},
   "outputs": [],
   "source": [
    "class HotelImageDataset:\n",
    "    def __init__(self, data, transform=None, data_folder=\"train_images/\"):\n",
    "        self.data = data\n",
    "        self.data_folder = data_folder\n",
    "        self.transform = transform\n",
    "\n",
    "    def __len__(self):\n",
    "        return len(self.data)\n",
    "    \n",
    "    def __getitem__(self, idx):\n",
    "        record = self.data.iloc[idx]\n",
    "        image_path = self.data_folder + record[\"image_id\"]\n",
    "        \n",
    "        image = np.array(open_and_preprocess_image(image_path)).astype(np.uint8)\n",
    "\n",
    "        if self.transform:\n",
    "            transformed = self.transform(image=image)\n",
    "            image = transformed[\"image\"]\n",
    "        \n",
    "        return {\n",
    "            \"image\" : image,\n",
    "        }"
   ]
  },
  {
   "cell_type": "markdown",
   "id": "8340ef42",
   "metadata": {},
   "source": [
    "# Model"
   ]
  },
  {
   "cell_type": "code",
   "execution_count": null,
   "id": "423dc4e9",
   "metadata": {},
   "outputs": [],
   "source": [
    "class HotelIdModel(nn.Module):\n",
    "    def __init__(self, n_classes=100, backbone_name=\"efficientnet_b0\"):\n",
    "        super(HotelIdModel, self).__init__()\n",
    "        \n",
    "        self.backbone = timm.create_model(backbone_name, num_classes=n_classes, pretrained=False)\n",
    "\n",
    "    def forward(self, x):\n",
    "        return self.backbone(x)"
   ]
  },
  {
   "cell_type": "markdown",
   "id": "27ea4bc8",
   "metadata": {},
   "source": [
    "# Model helper functions"
   ]
  },
  {
   "cell_type": "code",
   "execution_count": null,
   "id": "23455211",
   "metadata": {},
   "outputs": [],
   "source": [
    "def predict(loader, model, n_matches=5):\n",
    "    preds = []\n",
    "    with torch.no_grad():\n",
    "        t = tqdm(loader)\n",
    "        for i, sample in enumerate(t):\n",
    "            input = sample['image'].to(args.device)\n",
    "            outputs = model(input)\n",
    "            outputs = torch.sigmoid(outputs).detach().cpu().numpy()\n",
    "            preds.extend(outputs)\n",
    "    \n",
    "    # get 5 top predictions\n",
    "    preds = np.argsort(-np.array(preds), axis=1)[:, :5]\n",
    "    return preds"
   ]
  },
  {
   "cell_type": "markdown",
   "id": "3bb8a397",
   "metadata": {},
   "source": [
    "# Prepare data"
   ]
  },
  {
   "cell_type": "code",
   "execution_count": null,
   "id": "93a44c3a",
   "metadata": {},
   "outputs": [],
   "source": [
    "test_df = pd.DataFrame(data={\"image_id\": os.listdir(TEST_DATA_FOLDER), \"hotel_id\": \"\"}).sort_values(by=\"image_id\")"
   ]
  },
  {
   "cell_type": "code",
   "execution_count": null,
   "id": "516a3802",
   "metadata": {},
   "outputs": [],
   "source": [
    "# code hotel_id mapping created in training notebook by encoding hotel_ids\n",
    "hotel_id_code_df = pd.read_csv('../input/hotel-id-starter-classification-traning/hotel_id_code_mapping.csv')\n",
    "hotel_id_code_map = hotel_id_code_df.set_index('hotel_id_code').to_dict()[\"hotel_id\"]"
   ]
  },
  {
   "cell_type": "markdown",
   "id": "8b963ed4",
   "metadata": {},
   "source": [
    "# Prepare model"
   ]
  },
  {
   "cell_type": "code",
   "execution_count": null,
   "id": "5bc752b5",
   "metadata": {},
   "outputs": [],
   "source": [
    "def get_model(model_type, backbone_name, checkpoint_path, args):\n",
    "    model = HotelIdModel(args.n_classes, backbone_name)\n",
    "        \n",
    "    checkpoint = torch.load(checkpoint_path)\n",
    "    model.load_state_dict(checkpoint[\"model\"])\n",
    "    model = model.to(args.device)\n",
    "    \n",
    "    return model"
   ]
  },
  {
   "cell_type": "code",
   "execution_count": null,
   "id": "f193d30d",
   "metadata": {},
   "outputs": [],
   "source": [
    "class args:\n",
    "    batch_size = 64\n",
    "    num_workers = 2\n",
    "    n_classes = hotel_id_code_df[\"hotel_id\"].nunique()\n",
    "    device = ('cuda' if torch.cuda.is_available() else 'cpu')\n",
    "    \n",
    "    \n",
    "seed_everything(seed=SEED)\n",
    "\n",
    "test_dataset = HotelImageDataset(test_df, base_transform, data_folder=TEST_DATA_FOLDER)\n",
    "test_loader = DataLoader(test_dataset, num_workers=args.num_workers, batch_size=args.batch_size, shuffle=False)"
   ]
  },
  {
   "cell_type": "code",
   "execution_count": null,
   "id": "439d47b9",
   "metadata": {},
   "outputs": [],
   "source": [
    "model = get_model(\"classification\", \"efficientnet_b0\",\n",
    "                  \"../input/hotel-id-starter-classification-traning/checkpoint-classification-model-efficientnet_b0-256x256.pt\", \n",
    "                  args)"
   ]
  },
  {
   "cell_type": "markdown",
   "id": "fb8aed8b",
   "metadata": {},
   "source": [
    "# Submission"
   ]
  },
  {
   "cell_type": "code",
   "execution_count": null,
   "id": "126b14a1",
   "metadata": {},
   "outputs": [],
   "source": [
    "%%time\n",
    "\n",
    "preds = predict(test_loader, model)\n",
    "# replace classes with hotel_id using mapping created in trainig notebook\n",
    "preds = [[hotel_id_code_map[b] for b in a] for a in preds]\n",
    "# transform array of hotel_ids into string\n",
    "test_df[\"hotel_id\"] = [str(list(l)).strip(\"[]\").replace(\",\", \"\") for l in preds]\n",
    "\n",
    "test_df.to_csv(\"submission.csv\", index=False)\n",
    "test_df.head()"
   ]
  }
 ],
 "metadata": {},
 "nbformat": 4,
 "nbformat_minor": 5
}
