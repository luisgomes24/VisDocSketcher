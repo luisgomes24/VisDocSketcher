{
 "cells": [
  {
   "cell_type": "code",
   "execution_count": null,
   "id": "a1f38f16",
   "metadata": {},
   "outputs": [],
   "source": [
    "import pandas as pd\n",
    "import numpy as np\n",
    "import matplotlib.pyplot as plt\n",
    "import plotly.express as px\n",
    "import plotly.graph_objects as go\n",
    "from sklearn.model_selection import train_test_split\n",
    "from sklearn.metrics import r2_score\n",
    "from sklearn.linear_model import LinearRegression\n",
    "import random\n",
    "from sklearn.metrics import mean_squared_error, r2_score, mean_absolute_error"
   ]
  },
  {
   "cell_type": "markdown",
   "id": "8c81f30c",
   "metadata": {},
   "source": [
    "****Read the data ****"
   ]
  },
  {
   "cell_type": "code",
   "execution_count": null,
   "id": "262f702f",
   "metadata": {},
   "outputs": [],
   "source": [
    "df=pd.read_csv('/kaggle/input/most-watched-stocks-of-past-decade20132023/AAPL(Apple).csv')"
   ]
  },
  {
   "cell_type": "code",
   "execution_count": null,
   "id": "0adb07f3",
   "metadata": {},
   "outputs": [],
   "source": [
    "df.head()"
   ]
  },
  {
   "cell_type": "code",
   "execution_count": null,
   "id": "f5b06328",
   "metadata": {},
   "outputs": [],
   "source": [
    "df.describe()"
   ]
  },
  {
   "cell_type": "code",
   "execution_count": null,
   "id": "cb99f198",
   "metadata": {},
   "outputs": [],
   "source": [
    "df.info()"
   ]
  },
  {
   "cell_type": "code",
   "execution_count": null,
   "id": "c66aa2a0",
   "metadata": {},
   "outputs": [],
   "source": [
    "df.dtypes"
   ]
  },
  {
   "cell_type": "code",
   "execution_count": null,
   "id": "5a5b4332",
   "metadata": {},
   "outputs": [],
   "source": [
    "df['Date']=pd.to_datetime(df[\"Date\"])\n",
    "df.dtypes"
   ]
  },
  {
   "cell_type": "markdown",
   "id": "cb00a6eb",
   "metadata": {},
   "source": [
    "**Visualize the data**"
   ]
  },
  {
   "cell_type": "code",
   "execution_count": null,
   "id": "91e3774c",
   "metadata": {},
   "outputs": [],
   "source": [
    "# fig = go.Figure()\n",
    "# obj = go.Scatter(\n",
    "#     x = ,\n",
    "#     y = ,\n",
    "#     mode = 'lines',\n",
    "#     name=\"High\",\n",
    "# )\n",
    "# fig.add_trace(obj)\n",
    "# fig.update_layout(title='Stock Prices' , legend=dict(orientation=\"h\",yanchor=\"bottom\",y=1.02,xanchor=\"right\",x=1))\n",
    "# fig.show()\n",
    "\n",
    "plt.plot(df['Date'], df['Adj Close'])\n",
    "# Adding Title to the Plot\n",
    "plt.title(\"Stock Prices\") \n",
    "# Setting the X and Y labels\n",
    "plt.xlabel('Date')\n",
    "plt.ylabel('High')\n",
    "plt.show()"
   ]
  },
  {
   "cell_type": "markdown",
   "id": "2d1bdd90",
   "metadata": {},
   "source": [
    "**Find 3 day moving average**"
   ]
  },
  {
   "cell_type": "code",
   "execution_count": null,
   "id": "75de85a9",
   "metadata": {},
   "outputs": [],
   "source": [
    "df['MA3'] = df['Adj Close'].rolling(3, min_periods=1).mean()"
   ]
  },
  {
   "cell_type": "code",
   "execution_count": null,
   "id": "89a03d5b",
   "metadata": {},
   "outputs": [],
   "source": [
    "df.head()"
   ]
  },
  {
   "cell_type": "code",
   "execution_count": null,
   "id": "75e54a1a",
   "metadata": {},
   "outputs": [],
   "source": [
    "plt.plot(df['Date'], df['MA3'])\n",
    "# Adding Title to the Plot\n",
    "plt.title(\"Stock Prices\") \n",
    "# Setting the X and Y labels\n",
    "plt.xlabel('Date')\n",
    "plt.ylabel('MA3')\n",
    "plt.show()"
   ]
  },
  {
   "cell_type": "markdown",
   "id": "229b79cc",
   "metadata": {},
   "source": [
    "**Split data into train and test**"
   ]
  },
  {
   "cell_type": "code",
   "execution_count": null,
   "id": "1d6e1154",
   "metadata": {},
   "outputs": [],
   "source": [
    "X_train, X_test, y_train, y_test = train_test_split(df[['Adj Close']], df[['MA3']], test_size=.2)"
   ]
  },
  {
   "cell_type": "code",
   "execution_count": null,
   "id": "f6bc1544",
   "metadata": {},
   "outputs": [],
   "source": [
    "reg = LinearRegression()"
   ]
  },
  {
   "cell_type": "code",
   "execution_count": null,
   "id": "46401db5",
   "metadata": {},
   "outputs": [],
   "source": [
    "reg.fit(X_train,y_train)"
   ]
  },
  {
   "cell_type": "code",
   "execution_count": null,
   "id": "cedcc0b5",
   "metadata": {},
   "outputs": [],
   "source": [
    "preds = reg.predict(X_test)"
   ]
  },
  {
   "cell_type": "code",
   "execution_count": null,
   "id": "eaa03e5d",
   "metadata": {},
   "outputs": [],
   "source": [
    "print(\"Model Coefficients:\", reg.coef_)\n",
    "print(\"Mean Absolute Error:\", mean_absolute_error(y_test, preds))\n",
    "print(\"Coefficient of Determination:\", r2_score(y_test, preds))"
   ]
  },
  {
   "cell_type": "markdown",
   "id": "019732c3",
   "metadata": {},
   "source": [
    "**Find 9 day moving average**"
   ]
  },
  {
   "cell_type": "code",
   "execution_count": null,
   "id": "71d3a13e",
   "metadata": {},
   "outputs": [],
   "source": [
    "df['MA9'] = df['Adj Close'].rolling(9, min_periods=1).mean()"
   ]
  },
  {
   "cell_type": "code",
   "execution_count": null,
   "id": "99ea0c14",
   "metadata": {},
   "outputs": [],
   "source": [
    "df.head()"
   ]
  },
  {
   "cell_type": "code",
   "execution_count": null,
   "id": "839cc315",
   "metadata": {},
   "outputs": [],
   "source": [
    "plt.plot(df['Date'], df['MA3'])\n",
    "# Adding Title to the Plot\n",
    "plt.title(\"Stock Prices\") \n",
    "# Setting the X and Y labels\n",
    "plt.xlabel('Date')\n",
    "plt.ylabel('MA3')\n",
    "plt.show()"
   ]
  },
  {
   "cell_type": "code",
   "execution_count": null,
   "id": "c52c1cd1",
   "metadata": {},
   "outputs": [],
   "source": [
    "X_train, X_test, y_train, y_test = train_test_split(df[['Adj Close']], df[['MA9']], test_size=.2)"
   ]
  },
  {
   "cell_type": "code",
   "execution_count": null,
   "id": "e891769b",
   "metadata": {},
   "outputs": [],
   "source": [
    "reg = LinearRegression()\n",
    "reg.fit(X_train,y_train)\n",
    "preds = reg.predict(X_test)"
   ]
  },
  {
   "cell_type": "code",
   "execution_count": null,
   "id": "508b424d",
   "metadata": {},
   "outputs": [],
   "source": [
    "print(\"Model Coefficients:\", reg.coef_)\n",
    "print(\"Mean Absolute Error:\", mean_absolute_error(y_test, preds))\n",
    "print(\"Coefficient of Determination:\", r2_score(y_test, preds))"
   ]
  }
 ],
 "metadata": {},
 "nbformat": 4,
 "nbformat_minor": 5
}
