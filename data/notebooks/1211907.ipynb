{
 "cells": [
  {
   "cell_type": "markdown",
   "id": "55f6768d",
   "metadata": {},
   "source": [
    "# Welcome to my notebook!\n",
    "### If you think this notebook is heading somewhere and can be meaningful to others then upvote it! I will like to have many people look at it and share their point of view. You don't get better by just being told you are doing a good job, but rather by suggestions and criticism.\n",
    "### Thank you!"
   ]
  },
  {
   "cell_type": "markdown",
   "id": "412ac0a4",
   "metadata": {},
   "source": [
    "## Glossary\n",
    "\n",
    "- <a href='#introduction'>1 <b>Introduction:</b></a>\n",
    "- <a href='#importing'>2 <b>Importing and installing dependencies:</b></a>\n",
    "- <a href='#overview'>3 <b>Overview:</b></a>\n",
    "    - <a href='#columns'>3.1 Columns</a>\n",
    "    - <a href='#missingValues'>3.2 Missing Values</a>\n",
    "- <a href='#schoolExplorer'>4 <b>School Explorer:</b></a>\n",
    "    - <a href='#schoolRegions'>4.1 School Regions</a>\n",
    "- <a href='#brooklyn'>5 <b>Brooklyn</b></a>\n",
    "    - <a href='#brooklynOverview'>5.1 Brooklyn overview:</a>\n",
    "- <a href='#bronx'>6 <b>Bronx:</b></a>\n",
    "- <a href='#newYork'>7 <b>New York:</b></a>\n",
    "- <a href='#statenIsland'>8 <b>Staten Island:</b></a>"
   ]
  },
  {
   "cell_type": "markdown",
   "id": "2228ba3d",
   "metadata": {},
   "source": [
    "## <a id='introduction'>1 <b>Introduction:</b></a>"
   ]
  },
  {
   "cell_type": "markdown",
   "id": "6fd55799",
   "metadata": {},
   "source": [
    "PASSNYC is a not-for-profit organization that facilitates a collective impact that is dedicated to broadening educational opportunities for New York City's talented and underserved students. New York City is home to some of the most impressive educational institutions in the world, yet in recent years, the City’s specialized high schools - institutions with historically transformative impact on student outcomes - have seen a shift toward more homogeneous student body demographics.<br>\n",
    "\n",
    "PASSNYC uses public data to identify students within New York City’s under-performing school districts and, through consulting and collaboration with partners, aims to increase the diversity of students taking the Specialized High School Admissions Test (SHSAT). By focusing efforts in under-performing areas that are historically underrepresented in SHSAT registration, we will help pave the path to specialized high schools for a more diverse group of students."
   ]
  },
  {
   "cell_type": "markdown",
   "id": "ec207163",
   "metadata": {},
   "source": [
    "## <a id='importing'>2 <b>Importing and installing dependencies:</b></a>"
   ]
  },
  {
   "cell_type": "code",
   "execution_count": null,
   "id": "8493a21d",
   "metadata": {},
   "outputs": [],
   "source": [
    "import numpy as np # linear algebra\n",
    "import pandas as pd # data processing, CSV file I/O (e.g. pd.read_csv)\n",
    "from sklearn.model_selection import cross_val_score, train_test_split\n",
    "from sklearn.preprocessing import StandardScaler\n",
    "from sklearn.linear_model import LinearRegression, RidgeCV, LassoCV, ElasticNetCV\n",
    "from sklearn.metrics import mean_squared_error, make_scorer\n",
    "from scipy.stats import skew\n",
    "from IPython.display import display\n",
    "import lightgbm as lgb\n",
    "import matplotlib.pyplot as plt\n",
    "import seaborn as sns\n",
    "%matplotlib inline\n",
    "\n",
    "# Limiting floats output to 3 decimal points:\n",
    "pd.set_option('display.float_format', lambda x: '{:.3f}'.format(x)) \n",
    "\n",
    "# Adjusting the displays of the dataset (for some reason, I had to save the data in a variable before pd would allow me to change the display options. Let me know if there is a way around this.):\n",
    "# pd.set_option('display.height', 1000)\n",
    "# pd.set_option('display.max_rows', 500)\n",
    "# pd.set_option('display.max_columns', 500)\n",
    "# pd.set_option('display.width', 1000)\n",
    "\n",
    "print('Dependencies installed!')"
   ]
  },
  {
   "cell_type": "markdown",
   "id": "dcd1916a",
   "metadata": {},
   "source": [
    "## <a id='overview'>3 <b>Overview of dataset:</b></a>"
   ]
  },
  {
   "cell_type": "code",
   "execution_count": null,
   "id": "e65440a1",
   "metadata": {},
   "outputs": [],
   "source": [
    "school_explorer = pd.read_csv('../input/data-science-for-good/2016 School Explorer.csv')\n",
    "registration_testers = pd.read_csv('../input/data-science-for-good/D5 SHSAT Registrations and Testers.csv')"
   ]
  },
  {
   "cell_type": "code",
   "execution_count": null,
   "id": "1a169df6",
   "metadata": {},
   "outputs": [],
   "source": [
    "school_explorer.head()"
   ]
  },
  {
   "cell_type": "code",
   "execution_count": null,
   "id": "707ea174",
   "metadata": {},
   "outputs": [],
   "source": [
    "registration_testers.head()"
   ]
  },
  {
   "cell_type": "code",
   "execution_count": null,
   "id": "dc54941b",
   "metadata": {},
   "outputs": [],
   "source": [
    "print(school_explorer.shape)\n",
    "school_explorer.describe()"
   ]
  },
  {
   "cell_type": "code",
   "execution_count": null,
   "id": "46b76519",
   "metadata": {},
   "outputs": [],
   "source": [
    "print(registration_testers.shape)\n",
    "registration_testers.describe()"
   ]
  },
  {
   "cell_type": "markdown",
   "id": "a9b75f92",
   "metadata": {},
   "source": [
    "### <a id='columns'>3.1 <b>Columns:</b></a>\n",
    "A preliminary overview of school_explorer:\n",
    "- Separate the different schools by region (Manhattan, Brooklyn, Bronx, Queens, Staten Island and many more).\n",
    "    - Which regions performs best?\n",
    "    - Does economic wealth of region help performance?\n",
    "    - Where are the majority of schools? Is there a reason for this?\n",
    "- Grades provided by schools (PK, 01, 02, 03, 04, 05, 06, 07, 08, 09, 10, 11, 12)\n",
    "    - Which grade is the most popular?\n",
    "    - Why are some grades not provided by some schools?\n",
    "- Community school or not.\n",
    "    - Performance between a community and not?\n",
    "- Estimated income of school.\n",
    "    - Does income affect the performance of the school and students?\n",
    "- The ethnic background of students.\n",
    "    - The relation between ethnic background?\n",
    "- Performance of teachers, leadership, environment, family-community.\n",
    "    - Does the staff have a big impact on the performance of the students?\n",
    "- Trust of school by peers.\n",
    "    - Does trust has a big impact on the performance of the students?\n",
    "- Performance of students\n",
    "    - ELA Proficiency.\n",
    "    - MATH Proficiency.\n",
    "- Grades 3 to 8. \n",
    "    - Why only these 6 grades?"
   ]
  },
  {
   "cell_type": "code",
   "execution_count": null,
   "id": "7551170a",
   "metadata": {},
   "outputs": [],
   "source": [
    "school_explorer.columns.tolist()"
   ]
  },
  {
   "cell_type": "markdown",
   "id": "85d6d664",
   "metadata": {},
   "source": [
    "A preliminary overview of registration_testers:\n",
    "- Year of SHST\n",
    "- Grade level\n",
    "- Enrollment\n",
    "- Total number of registered for the SHSAT\n",
    "- The total number that took the SHSAT"
   ]
  },
  {
   "cell_type": "code",
   "execution_count": null,
   "id": "0455fde4",
   "metadata": {},
   "outputs": [],
   "source": [
    "registration_testers.columns.tolist()"
   ]
  },
  {
   "cell_type": "markdown",
   "id": "b8b97d1b",
   "metadata": {},
   "source": [
    "### <a id='missingValues'>3.2 <b>Missing Values:</b></a>\n",
    "- school_explorer has some missing values:\n",
    "    - Majority of values in:\n",
    "        - Other Location Code in LCGMS, Adjusted Grade, New?\n",
    "        - Do we need these columns?\n",
    "    - Small/Medium amount of values missing:\n",
    "        - School Income Estimate is missing 31% of the data. This can make a conflict when deciding whether or not funding for schools affects the overall performance.\n",
    "        - Most of the other columns that are missing values range between 1% - 6%, which is not a very significant value. We might be able to fill those values with averages or use them as they are."
   ]
  },
  {
   "cell_type": "code",
   "execution_count": null,
   "id": "ccd60021",
   "metadata": {},
   "outputs": [],
   "source": [
    "total = school_explorer.isnull().sum().sort_values(ascending=False)\n",
    "percent = ((school_explorer.isnull().sum() / school_explorer.isnull().count()) * 100).sort_values(ascending=False)\n",
    "missing_values = pd.DataFrame({'Total ': total, 'Missing ratio ': percent})\n",
    "missing_values.head(25)"
   ]
  },
  {
   "cell_type": "markdown",
   "id": "8fc9834d",
   "metadata": {},
   "source": [
    "No missing values in registration_testers"
   ]
  },
  {
   "cell_type": "code",
   "execution_count": null,
   "id": "5951c954",
   "metadata": {},
   "outputs": [],
   "source": [
    "total = registration_testers.isnull().sum().sort_values(ascending=False)\n",
    "percent = ((registration_testers.isnull().sum() / registration_testers.isnull().count()) * 100).sort_values(ascending=False)\n",
    "missing_values = pd.DataFrame({'Total ': total, 'Missing ratio ': percent})\n",
    "missing_values.head(10)"
   ]
  },
  {
   "cell_type": "markdown",
   "id": "2064ea4b",
   "metadata": {},
   "source": [
    "## <a id='schoolExplorer'>4 <b>School Explorer:</b></a>"
   ]
  },
  {
   "cell_type": "markdown",
   "id": "c2212256",
   "metadata": {},
   "source": [
    "### <a id='schoolRegions'>4.1 <b>School Regions</b></a>\n",
    "Surprisingly, Brooklyn seems to have the most schools followed by the Bronx, New York and Staten Island. After that, the cities tend to have an average distribution amongst each other.\n",
    "This raises the question of why Brooklyn has more schools in comparison to the Bronx or New York. Let's analyze the top 4 cities since they display the most difference in the dataset."
   ]
  },
  {
   "cell_type": "code",
   "execution_count": null,
   "id": "a4d92763",
   "metadata": {},
   "outputs": [],
   "source": [
    "total = pd.DataFrame(school_explorer['City'].value_counts().reset_index())\n",
    "total.columns = ['city', 'total']\n",
    "\n",
    "plt.figure(figsize=(20, 10))\n",
    "\n",
    "barplot = sns.barplot(x=total['total'], y=total['city'])\n",
    "barplot.set(xlabel='', ylabel='')\n",
    "plt.title('Total of schools in each city:', fontsize=20)\n",
    "plt.xticks(fontsize=17)\n",
    "plt.yticks(fontsize=10)\n",
    "plt.show()"
   ]
  },
  {
   "cell_type": "markdown",
   "id": "55fc41f4",
   "metadata": {},
   "source": [
    "## <a id='brooklyn'>5 <b>Brooklyn:</b></a>"
   ]
  },
  {
   "cell_type": "markdown",
   "id": "e13e64f6",
   "metadata": {},
   "source": [
    "### <a id='brooklynOverview'>5.1 Brooklyn overview:</a>\n",
    "A preliminary overview of brooklyn_census:\n",
    "- Population of Brooklyn is above 2.5 million.\n",
    "- Has an estimated increase of 5.8%.\n",
    "- 22.9% of the populatiin is under the age of 18.\n",
    "    - We can analyze whether or not a good percentage attends schools.\n",
    "- Ethnicity:\n",
    "    - 49% of the population is white.\n",
    "    - 34.3% is Black or African American\n",
    "- Median income $50,640\n",
    "- Poverty level 20.6%"
   ]
  },
  {
   "cell_type": "code",
   "execution_count": null,
   "id": "41144e10",
   "metadata": {},
   "outputs": [],
   "source": [
    "# Census downloaded from: https://www.census.gov/quickfacts/fact/table/kingscountybrooklynboroughnewyork/IPE120216\n",
    "brooklyn_census = pd.read_csv('../input/brooklyn-census/QuickFacts Jun-27-2018 (1).csv') \n",
    "\n",
    "# Dropping the second and last column since it does not have any values.\n",
    "brooklyn_census = brooklyn_census.drop('Fact Note', axis=1)\n",
    "brooklyn_census = brooklyn_census.drop('Value Note for Kings County (Brooklyn Borough), New York', axis=1)\n",
    "\n",
    "# Renaming the 'Kings County (Brooklyn Borough), New York' for easier use:\n",
    "brooklyn_census.columns = ['fact', 'total']\n",
    "brooklyn_census.head(60)"
   ]
  },
  {
   "cell_type": "code",
   "execution_count": null,
   "id": "af244d9a",
   "metadata": {},
   "outputs": [],
   "source": [
    "# Saving only Brooklyn schools in a variable:\n",
    "brooklyn = pd.DataFrame(school_explorer[school_explorer['City'] == 'BROOKLYN'])\n",
    "print(brooklyn.shape)\n",
    "brooklyn.head()"
   ]
  },
  {
   "cell_type": "code",
   "execution_count": null,
   "id": "bae5e7e0",
   "metadata": {},
   "outputs": [],
   "source": [
    "nan"
   ]
  },
  {
   "cell_type": "code",
   "execution_count": null,
   "id": "743c7794",
   "metadata": {},
   "outputs": [],
   "source": [
    "nan"
   ]
  },
  {
   "cell_type": "code",
   "execution_count": null,
   "id": "01771a2b",
   "metadata": {},
   "outputs": [],
   "source": [
    "nan"
   ]
  },
  {
   "cell_type": "code",
   "execution_count": null,
   "id": "b344f9ba",
   "metadata": {},
   "outputs": [],
   "source": [
    "nan"
   ]
  },
  {
   "cell_type": "code",
   "execution_count": null,
   "id": "4f1efd4e",
   "metadata": {},
   "outputs": [],
   "source": [
    "nan"
   ]
  },
  {
   "cell_type": "code",
   "execution_count": null,
   "id": "1a83fbf6",
   "metadata": {},
   "outputs": [],
   "source": [
    "nan"
   ]
  },
  {
   "cell_type": "code",
   "execution_count": null,
   "id": "02aa8c82",
   "metadata": {},
   "outputs": [],
   "source": [
    "nan"
   ]
  },
  {
   "cell_type": "code",
   "execution_count": null,
   "id": "23b17afc",
   "metadata": {},
   "outputs": [],
   "source": [
    "nan"
   ]
  }
 ],
 "metadata": {},
 "nbformat": 4,
 "nbformat_minor": 5
}
