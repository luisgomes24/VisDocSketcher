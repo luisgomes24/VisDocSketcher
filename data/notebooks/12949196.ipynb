{
 "cells": [
  {
   "cell_type": "markdown",
   "id": "a0b0097c",
   "metadata": {},
   "source": [
    "# Possibly everything you need to know about the contest\n",
    "\n",
    "![Header](https://storage.googleapis.com/kaggle-competitions/kaggle/21669/logos/header.png)\n",
    "\n",
    "This notebook is created to understand what needs to be done with the dataset obtained in the contest. I have tried to cover a few possible aspects and explained them in simple language. What I have tried to cover is mentioned in the index below:\n",
    "\n",
    "## Content\n",
    "\n",
    "1. [Evaluation metrics](https://www.kaggle.com/thanatoz/everything-you-need-to-know-about-the-contest?scriptVersionId=47211475#Evaluation-metrics)\n",
    "    * [Explaination](https://www.kaggle.com/thanatoz/everything-you-need-to-know-about-the-contest?scriptVersionId=47211475#Explaination)\n",
    "2. [Looking into the dataset](https://www.kaggle.com/thanatoz/everything-you-need-to-know-about-the-contest?scriptVersionId=47211475#Looking-into-the-dataset)\n",
    "    * [The .csv files](https://www.kaggle.com/thanatoz/everything-you-need-to-know-about-the-contest?scriptVersionId=47211475#The-.csv-files)\n",
    "    * [Train test folders](https://www.kaggle.com/thanatoz/everything-you-need-to-know-about-the-contest?scriptVersionId=47211475#Train-test-folders)\n",
    "    * [What is FLAC?](https://www.kaggle.com/thanatoz/everything-you-need-to-know-about-the-contest?scriptVersionId=47211475#What-is-FLAC?)\n",
    "    * [Visualizing the Audio file](https://www.kaggle.com/thanatoz/everything-you-need-to-know-about-the-contest?scriptVersionId=47211475#Visualizing-the-Audio-file)\n",
    "    * [Loading the FLAC files](https://www.kaggle.com/thanatoz/everything-you-need-to-know-about-the-contest?scriptVersionId=47211475#Loading-the-flac-files)\n",
    "    * [Plotting the Audio files](https://www.kaggle.com/thanatoz/everything-you-need-to-know-about-the-contest?scriptVersionId=47211475#Plotting-the-Audio-files)\n",
    "3. [References](https://www.kaggle.com/thanatoz/everything-you-need-to-know-about-the-contest?scriptVersionId=47211475#References)\n",
    "    \n",
    "I'll keep adding more and more data into this file as it clicks me, but till then you can share what else could be added into the file in the comment section."
   ]
  },
  {
   "cell_type": "markdown",
   "id": "bd02a4a5",
   "metadata": {},
   "source": [
    "## Evaluation metrics\n",
    "\n",
    "[Label ranking average precision (LRAP)](https://scikit-learn.org/stable/modules/model_evaluation.html#label-ranking-average-precision) measures the average precision of predictive model instead of using precision and recall whose values ranges from $0\\lt x\\le1$. To simplify, it answers the question that for each of the given samples what percents of the higher-ranked labels were true labels.\n",
    "\n",
    "Formally, given a binary indicator matrix of the ground truth labels $ y \\in \\left\\{0, 1\\right\\}^{n_\\text{samples} \\times n_\\text{labels}} $ and the score associated with each label $\\hat{f} \\in \\mathbb{R}^{n_\\text{samples} \\times n_\\text{labels}}$ the average precision is defined as\n",
    "$$ LRAP(y, \\hat{f}) = \\frac{1}{n_{\\text{samples}}}\n",
    "  \\sum_{i=0}^{n_{\\text{samples}} - 1} \\frac{1}{||y_i||_0}\n",
    "  \\sum_{j:y_{ij} = 1} \\frac{|{L}_{ij}|}{\\text{rank}_{ij}} $$\n",
    "  \n",
    "where ${L}_{ij} = \\left\\{k: y_{ik} = 1, \\hat{f}_{ik} \\geq \\hat{f}_{ij} \\right\\}$, $\\text{rank}_{ij} = \\left|\\left\\{k: \\hat{f}_{ik} \\geq \\hat{f}_{ij} \\right\\}\\right|$, $|\\cdot|$ computes the cardinality of the set (i.e., the number of elements in the set), and $||\\cdot||_0$ is the $\\ell_0$ “norm” (which computes the number of nonzero elements in a vector).\n",
    "\n",
    "  "
   ]
  },
  {
   "cell_type": "code",
   "execution_count": null,
   "id": "3270f9db",
   "metadata": {},
   "outputs": [],
   "source": [
    "import numpy as np\n",
    "from sklearn.metrics import label_ranking_average_precision_score\n",
    "\n",
    "y_true = np.array([[1, 0, 0], [0, 0, 1]])\n",
    "y_score = np.array([[0.75, 0.5, 1], [1, 0.2, 0.1]])\n",
    "label_ranking_average_precision_score(y_true, y_score)"
   ]
  },
  {
   "cell_type": "markdown",
   "id": "3d8441af",
   "metadata": {},
   "source": [
    "#### Explaination\n",
    "\n",
    "In order to simplify the above calculation, we can break it down as follows:\n",
    "1. In the first sample, the y_true is `[1, 0, 0]` and the y_score is `[0.75, 0.5, 1]` which means that the class A is given $2^{nd}$ rank. This makes the value of $ {\\sum_{j:y_{ij} = 1}} \\frac{|{L}_{ij}|}{\\text{rank}_{ij}}$ to be 1/2 = 0.5.\n",
    "\n",
    "2. In the second sample, the y_true is `[0, 0, 1]` and the y_score is `[1, 0.2, 0.1]` which means that the class C is given $3^{rd}$ rank. This gives the value of $ {\\sum_{j:y_{ij} = 1}} \\frac{|{L}_{ij}|}{\\text{rank}_{ij}}$ to be 1/3 = 0.333333333\n",
    "\n",
    "Now we calculate the average of all the samples (2 in our case) and thus our final result will be $\\frac{1}{2}*(0.5+0.33333333) = 0.416666666$"
   ]
  },
  {
   "cell_type": "markdown",
   "id": "b09846ad",
   "metadata": {},
   "source": [
    "## Looking into the dataset"
   ]
  },
  {
   "cell_type": "code",
   "execution_count": null,
   "id": "e23a6e1b",
   "metadata": {},
   "outputs": [],
   "source": [
    "import pandas as pd\n",
    "import matplotlib\n",
    "from matplotlib import pyplot as plt\n",
    "import sklearn\n",
    "import seaborn as sns\n",
    "import plotly.figure_factory as ff\n",
    "\n",
    "matplotlib.rcParams['figure.figsize'] = (12.0, 6.0)"
   ]
  },
  {
   "cell_type": "markdown",
   "id": "e98ecca5",
   "metadata": {},
   "source": [
    "### The .csv files\n",
    "\n",
    "The dataset contains 2 csv files:\n",
    "> 1. **train_tp.csv** - training data of true positive species labels, with corresponding time localization\n",
    "> 2. **train_fp.csv** - training data of false positives species labels, with corresponding time localization\n",
    "\n",
    "Where the information of every column is as follows:\n",
    "> 1. **recording_id** - The id of file containing the recording\n",
    "> 2. **species_id** - The id of the specie\n",
    "> 3. **songtype_id** - The id for songtype\n",
    "> 4. **t_min, t_max** - Contains the start and end timing of the annotated signal\n",
    "> 5. **f_min, f_max** - Contains the lower frequency and upper of annotated signal\n"
   ]
  },
  {
   "cell_type": "code",
   "execution_count": null,
   "id": "f06e6ab8",
   "metadata": {},
   "outputs": [],
   "source": [
    "tp_data=pd.read_csv('/kaggle/input/rfcx-species-audio-detection/train_tp.csv')\n",
    "fp_data=pd.read_csv('/kaggle/input/rfcx-species-audio-detection/train_fp.csv')"
   ]
  },
  {
   "cell_type": "code",
   "execution_count": null,
   "id": "20da6819",
   "metadata": {},
   "outputs": [],
   "source": [
    "tp_data.tail()"
   ]
  },
  {
   "cell_type": "code",
   "execution_count": null,
   "id": "98e5e20c",
   "metadata": {},
   "outputs": [],
   "source": [
    "fp_data.tail()"
   ]
  },
  {
   "cell_type": "code",
   "execution_count": null,
   "id": "3bcb2f37",
   "metadata": {},
   "outputs": [],
   "source": [
    "def plot_counts(feature:str, dataframe:pd.DataFrame, kind:str=\"bar\"):\n",
    "    dataframe[feature].value_counts().plot(kind=kind)\n",
    "    \n",
    "plot_counts('species_id', tp_data)"
   ]
  },
  {
   "cell_type": "code",
   "execution_count": null,
   "id": "b07ce3e0",
   "metadata": {},
   "outputs": [],
   "source": [
    "plot_counts(\"songtype_id\", tp_data)"
   ]
  },
  {
   "cell_type": "markdown",
   "id": "6e192299",
   "metadata": {},
   "source": [
    "### Train test folders\n",
    "\n",
    "In the train test folders of the dataset, we are presented with flac files with labels in corresponding csv files. The number of files that we have are:"
   ]
  },
  {
   "cell_type": "code",
   "execution_count": null,
   "id": "3a3cd99f",
   "metadata": {},
   "outputs": [],
   "source": [
    "import os\n",
    "\n",
    "print(f'Number of files in Train folder are: {len(os.listdir(\"../input/rfcx-species-audio-detection/train/\"))}, \\\n",
    "and test folder are {len(os.listdir(\"../input/rfcx-species-audio-detection/test/\"))}')"
   ]
  },
  {
   "cell_type": "markdown",
   "id": "8f6ccb8d",
   "metadata": {},
   "source": [
    "## What is FLAC?\n",
    "\n",
    "To simply state, FLAC files are a lossless encoding format for storing audio. FLAC ‘Quality’ is determined by the ‘sample rate’, and the ‘bit depth’.  Sample rates start at 22,050hz, 32,000hz, 44,1000hz, 48,000hz, 88,200, 96,000hz and go up to 192,000hz, and bit size can generally range from 8 to 32 bits. \n",
    "![flac vs mp3](https://www.off-the-beat.com/wp-content/uploads/2020/02/FLAC-vs-MP3-.jpg)\n",
    "If you want to read more about FLAC vs MP3 encoding, here is a wonderful blog that you can refer: https://www.off-the-beat.com/flac-vs-mp3/"
   ]
  },
  {
   "cell_type": "markdown",
   "id": "5ab0250a",
   "metadata": {},
   "source": [
    "## Visualizing the Audio file\n",
    "\n",
    "Refering to Allen Downey's talk on [Basics of sound processing](https://www.youtube.com/watch?v=0ALKGR0I5MA) at SciPy 2015 and [his presentation](https://docs.google.com/presentation/d/1zzgNu_HbKL2iPkHS8-qhtDV20QfWt9lC3ZwPVZo8Rw0/pub?start=false&loop=false&delayms=3000&slide=id.g5a7a9806e_0_14), we can understand audio files as wave files as follows:\n",
    "\n",
    "![Amplitudes](https://miro.medium.com/max/1400/1*akRbhl8739UEDuKHkOUR1Q.png)"
   ]
  },
  {
   "cell_type": "markdown",
   "id": "74fcd0ba",
   "metadata": {},
   "source": [
    "### Loading the flac files\n",
    "\n",
    "Flac files, just like mp3 files could be easily loaded using the _librosa_ library. _Librosa_ is the ultimate library for most of the audio processing requirements that you want to carry out. Lets start by calling the library and loading a file."
   ]
  },
  {
   "cell_type": "code",
   "execution_count": null,
   "id": "9afe7c48",
   "metadata": {},
   "outputs": [],
   "source": [
    "import librosa\n",
    "from librosa import display"
   ]
  },
  {
   "cell_type": "code",
   "execution_count": null,
   "id": "1bb895a5",
   "metadata": {},
   "outputs": [],
   "source": [
    "audio_path = f'../input/rfcx-species-audio-detection/train/{tp_data[\"recording_id\"].values[0]}.flac'\n",
    "x, sr = librosa.load(audio_path)"
   ]
  },
  {
   "cell_type": "markdown",
   "id": "8e4e40aa",
   "metadata": {},
   "source": [
    "where _x_ is the data from the file and _sr_ is the sampling rate of the file. The function returns the numpy array with timestamps and the default sampling rate of 22KHz (Sampling rate: number of samples per second measured in Hz or KHz)."
   ]
  },
  {
   "cell_type": "code",
   "execution_count": null,
   "id": "ef94a4be",
   "metadata": {},
   "outputs": [],
   "source": [
    "print(x.shape, sr)"
   ]
  },
  {
   "cell_type": "markdown",
   "id": "cfe52ef8",
   "metadata": {},
   "source": [
    "We can also change the sampling rate of the file by some arbitary value as follows"
   ]
  },
  {
   "cell_type": "code",
   "execution_count": null,
   "id": "f075aa50",
   "metadata": {},
   "outputs": [],
   "source": [
    "librosa.load(audio_path, sr=44100)"
   ]
  },
  {
   "cell_type": "code",
   "execution_count": null,
   "id": "a566bd6f",
   "metadata": {},
   "outputs": [],
   "source": [
    "import IPython.display as ipyd"
   ]
  },
  {
   "cell_type": "code",
   "execution_count": null,
   "id": "3c689700",
   "metadata": {},
   "outputs": [],
   "source": [
    "ipyd.Audio(audio_path)"
   ]
  },
  {
   "cell_type": "markdown",
   "id": "a28cb664",
   "metadata": {},
   "source": [
    "### Plotting the Audio files\n",
    "\n",
    "Librosa gives us a huge options to work with. So Let's start by plotting the amplitude envelope of a waveform."
   ]
  },
  {
   "cell_type": "code",
   "execution_count": null,
   "id": "55e87f65",
   "metadata": {},
   "outputs": [],
   "source": [
    "plt.figure(figsize=(14, 5))\n",
    "display.waveplot(x, sr=sr)"
   ]
  },
  {
   "cell_type": "markdown",
   "id": "a055d6f1",
   "metadata": {},
   "source": [
    "**Fourier transform**\n",
    "\n",
    "The \"Fast Fourier Transform\" (FFT) is an important measurement method in the science of audio and acoustics measurement. It converts a signal into individual spectral components and thereby provides frequency information about the signal. FFTs are used for fault analysis, quality control, and condition monitoring of machines or systems."
   ]
  },
  {
   "cell_type": "code",
   "execution_count": null,
   "id": "400d8324",
   "metadata": {},
   "outputs": [],
   "source": [
    "n_fft = 2048\n",
    "D = np.abs(librosa.stft(x[:n_fft], n_fft=n_fft, hop_length=n_fft+1))\n",
    "plt.plot(D);"
   ]
  },
  {
   "cell_type": "code",
   "execution_count": null,
   "id": "b0b46d97",
   "metadata": {},
   "outputs": [],
   "source": [
    "hop_length = 512\n",
    "D = np.abs(librosa.stft(x, n_fft=n_fft,  hop_length=hop_length))\n",
    "display.specshow(D, sr=sr, x_axis='time', y_axis='linear')\n",
    "plt.colorbar()"
   ]
  },
  {
   "cell_type": "markdown",
   "id": "c6863f26",
   "metadata": {},
   "source": [
    "1. **Spectrogram**\n",
    "\n",
    "A spectrogram is a visual representation of the spectrum of frequencies of sound or other signals as they vary with time. Spectrograms are sometimes called sonographs, voiceprints, or voicegrams. When the data is represented in a 3D plot, they may be called waterfalls. In 2-dimensional arrays, the first axis is frequency while the second axis is time. We can display a spectrogram using. librosa.display.specshow."
   ]
  },
  {
   "cell_type": "code",
   "execution_count": null,
   "id": "0df52997",
   "metadata": {},
   "outputs": [],
   "source": [
    "X = librosa.stft(x)\n",
    "Xdb = librosa.amplitude_to_db(abs(X))\n",
    "plt.figure(figsize=(14, 5))\n",
    "display.specshow(Xdb, sr=sr, x_axis='time', y_axis='hz')\n",
    "plt.colorbar()"
   ]
  },
  {
   "cell_type": "markdown",
   "id": "b911b4cc",
   "metadata": {},
   "source": [
    "The vertical axis shows frequencies (from 0 to 10kHz), and the horizontal axis shows the time of the clip. Since we see that all action is taking place at the bottom of the spectrum, we can convert the frequency axis to a logarithmic one."
   ]
  },
  {
   "cell_type": "code",
   "execution_count": null,
   "id": "5446950a",
   "metadata": {},
   "outputs": [],
   "source": [
    "plt.figure(figsize=(14, 5))\n",
    "display.specshow(Xdb, sr=sr, x_axis='time', y_axis='log')\n",
    "plt.colorbar()"
   ]
  },
  {
   "cell_type": "markdown",
   "id": "527488e0",
   "metadata": {},
   "source": [
    "2. **Feature extraction**\n",
    "\n",
    "Every audio signal consists of many features. However, we must extract the characteristics that are relevant to the problem we are trying to solve. The process of extracting features to use them for analysis is called feature extraction. Let us study about few of the features in detail."
   ]
  },
  {
   "cell_type": "markdown",
   "id": "86dd346d",
   "metadata": {},
   "source": [
    "**Zero Crossing Rate**\n",
    "\n",
    "The zero crossing rate is the rate of sign-changes along a signal, i.e., the rate at which the signal changes from positive to negative or back. Let us calculate the zero crossing rate for our example audio clip."
   ]
  },
  {
   "cell_type": "code",
   "execution_count": null,
   "id": "957384dd",
   "metadata": {},
   "outputs": [],
   "source": [
    "# Zooming in the amplitute envelope\n",
    "n0 = 5000\n",
    "n1 = 5100\n",
    "plt.figure(figsize=(14, 5))\n",
    "plt.plot(x[n0:n1])\n",
    "plt.grid()"
   ]
  },
  {
   "cell_type": "code",
   "execution_count": null,
   "id": "918aa29f",
   "metadata": {},
   "outputs": [],
   "source": [
    "zero_crossings = librosa.zero_crossings(x[n0:n1], pad=False)\n",
    "print(sum(zero_crossings))"
   ]
  },
  {
   "cell_type": "markdown",
   "id": "103077b5",
   "metadata": {},
   "source": [
    "**Spectral Centroid**\n",
    "\n",
    "It indicates where the ”centre of mass” for a sound is located and is calculated as the weighted mean of the frequencies present in the sound. Consider two songs, one from a blues genre and the other belonging to metal."
   ]
  },
  {
   "cell_type": "code",
   "execution_count": null,
   "id": "a2667735",
   "metadata": {},
   "outputs": [],
   "source": [
    "spectral_centroids = librosa.feature.spectral_centroid(x, sr=sr)[0]\n",
    "spectral_centroids.shape"
   ]
  },
  {
   "cell_type": "code",
   "execution_count": null,
   "id": "13719e1c",
   "metadata": {},
   "outputs": [],
   "source": [
    "# Computing the time variable for visualization\n",
    "frames = range(len(spectral_centroids))\n",
    "t = librosa.frames_to_time(frames)\n",
    "# Normalising the spectral centroid for visualisation\n",
    "def normalize(x, axis=0):\n",
    "    return sklearn.preprocessing.minmax_scale(x, axis=axis)\n",
    "#Plotting the Spectral Centroid along the waveform\n",
    "librosa.display.waveplot(x, sr=sr, alpha=0.4)\n",
    "plt.plot(t, normalize(spectral_centroids), color='r')"
   ]
  },
  {
   "cell_type": "markdown",
   "id": "f2f60eba",
   "metadata": {},
   "source": [
    "**Mel-Frequency Cepstral Coefficients**\n",
    "\n",
    "The Mel frequency cepstral coefficients (MFCCs) of a signal are a small set of features (usually about 10–20) which concisely describe the overall shape of a spectral envelope. It models the characteristics of the human voice."
   ]
  },
  {
   "cell_type": "code",
   "execution_count": null,
   "id": "40eae11b",
   "metadata": {},
   "outputs": [],
   "source": [
    "mfccs = librosa.feature.mfcc(x, sr=sr)\n",
    "print(mfccs.shape)"
   ]
  },
  {
   "cell_type": "code",
   "execution_count": null,
   "id": "7f4f506f",
   "metadata": {},
   "outputs": [],
   "source": [
    "#Displaying  the MFCCs:\n",
    "display.specshow(mfccs, sr=sr, x_axis='time')"
   ]
  },
  {
   "cell_type": "markdown",
   "id": "8f6b1906",
   "metadata": {},
   "source": [
    "## References\n",
    "\n",
    "1. [Explore the rainforest soundscape](https://www.kaggle.com/gpreda/explore-the-rainforest-soundscape)\n",
    "2. [EDA and Audio Processing with Python](https://www.kaggle.com/parulpandey/eda-and-audio-processing-with-python/?scriptVersionId=37933197#data)\n",
    "3. [Allen Downey SciPy2015 presentation](https://docs.google.com/presentation/d/1zzgNu_HbKL2iPkHS8-qhtDV20QfWt9lC3ZwPVZo8Rw0/pub?start=false&loop=false&delayms=3000&slide=id.p)"
   ]
  }
 ],
 "metadata": {},
 "nbformat": 4,
 "nbformat_minor": 5
}
