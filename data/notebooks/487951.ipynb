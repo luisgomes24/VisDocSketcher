{
 "cells": [
  {
   "cell_type": "code",
   "execution_count": null,
   "id": "07631d38",
   "metadata": {},
   "outputs": [],
   "source": [
    "# This Python 3 environment comes with many helpful analytics libraries installed\n",
    "# It is defined by the kaggle/python docker image: https://github.com/kaggle/docker-python\n",
    "# For example, here's several helpful packages to load in \n",
    "\n",
    "import numpy as np # linear algebra\n",
    "import pandas as pd # data processing, CSV file I/O (e.g. pd.read_csv)\n",
    "\n",
    "# Input data files are available in the \"../input/\" directory.\n",
    "# For example, running this (by clicking run or pressing Shift+Enter) will list the files in the input directory\n",
    "\n",
    "from subprocess import check_output\n",
    "print(check_output([\"ls\", \"../input\"]).decode(\"utf8\"))\n",
    "\n",
    "# Any results you write to the current directory are saved as output."
   ]
  },
  {
   "cell_type": "code",
   "execution_count": null,
   "id": "8d312412",
   "metadata": {},
   "outputs": [],
   "source": [
    "child_prefs = pd.read_csv('../input/child_wishlist.csv', header=None)\n",
    "child_prefs = child_prefs.drop(0, axis=1).values\n",
    "\n",
    "gift_prefs = pd.read_csv('../input/gift_goodkids.csv', header=None)\n",
    "gift_prefs = gift_prefs.drop(0, axis=1).values"
   ]
  },
  {
   "cell_type": "code",
   "execution_count": null,
   "id": "6eb16f6a",
   "metadata": {},
   "outputs": [],
   "source": [
    "twins = 4000\n",
    "n_children = child_prefs.shape[0]\n",
    "n_gift_type = gift_prefs.shape[0]\n",
    "n_gift_quantity = gift_prefs.shape[1]"
   ]
  },
  {
   "cell_type": "code",
   "execution_count": null,
   "id": "623d7ae2",
   "metadata": {},
   "outputs": [],
   "source": [
    "def pick_first_choice(child_pref, avail_gifts):\n",
    "    \n",
    "    # preference list (of remaining available gifts)\n",
    "    overlap = set(child_pref) & set(avail_gifts)\n",
    "    child_pref_available = [x for x in child_pref if x in overlap] # preserves pref order\n",
    "    \n",
    "    try: # first pick on the list\n",
    "        return child_pref_available[0]\n",
    "    except: # if prefered gifts aren't available, pick first available\n",
    "        return avail_gifts[0]"
   ]
  },
  {
   "cell_type": "code",
   "execution_count": null,
   "id": "69b3b31f",
   "metadata": {},
   "outputs": [],
   "source": [
    "gift_matches = []\n",
    "gift_counter = np.zeros(n_gift_type)\n",
    "\n",
    "for child in range(n_children):\n",
    "    \n",
    "    if child < twins and child % 2 == 0: # twin 1\n",
    "        avail_gifts = np.where(gift_counter < n_gift_quantity-1)[0]\n",
    "        chosen_gift = pick_first_choice(child_prefs[child], avail_gifts)\n",
    "        \n",
    "    elif child < twins and child % 2 == 1: # twin 2\n",
    "        chosen_gift = chosen_gift # pick same as twin 1\n",
    "        \n",
    "    else: # not twins\n",
    "        avail_gifts = np.where(gift_counter < n_gift_quantity)[0]\n",
    "        chosen_gift = pick_first_choice(child_prefs[child], avail_gifts)        \n",
    "\n",
    "    gift_counter[chosen_gift] += 1\n",
    "    gift_matches.append((child, chosen_gift))"
   ]
  },
  {
   "cell_type": "code",
   "execution_count": null,
   "id": "2d0e7b75",
   "metadata": {},
   "outputs": [],
   "source": [
    "p = pd.DataFrame(gift_matches, columns=['ChildId', 'GiftId']).set_index('ChildId')\n",
    "p.to_csv('nice_inversion_benchmark.csv')"
   ]
  }
 ],
 "metadata": {},
 "nbformat": 4,
 "nbformat_minor": 5
}
