{
 "cells": [
  {
   "cell_type": "code",
   "execution_count": null,
   "id": "8d6eec17",
   "metadata": {},
   "outputs": [],
   "source": [
    "# This Python 3 environment comes with many helpful analytics libraries installed\n",
    "# It is defined by the kaggle/python Docker image: https://github.com/kaggle/docker-python\n",
    "# For example, here's several helpful packages to load\n",
    "\n",
    "import numpy as np # linear algebra\n",
    "import pandas as pd # data processing, CSV file I/O (e.g. pd.read_csv)\n",
    "\n",
    "# Input data files are available in the read-only \"../input/\" directory\n",
    "# For example, running this (by clicking run or pressing Shift+Enter) will list all files under the input directory\n",
    "\n",
    "import os\n",
    "for dirname, _, filenames in os.walk('/kaggle/input'):\n",
    "    for filename in filenames:\n",
    "        print(os.path.join(dirname, filename))\n",
    "\n",
    "# You can write up to 20GB to the current directory (/kaggle/working/) that gets preserved as output when you create a version using \"Save & Run All\" \n",
    "# You can also write temporary files to /kaggle/temp/, but they won't be saved outside of the current session"
   ]
  },
  {
   "cell_type": "markdown",
   "id": "a62574a1",
   "metadata": {},
   "source": [
    "# Prepare data for inspection"
   ]
  },
  {
   "cell_type": "code",
   "execution_count": null,
   "id": "587ca087",
   "metadata": {},
   "outputs": [],
   "source": [
    "import pandas as pd\n",
    "df1 = pd.read_csv('/kaggle/input/netflix-prize-data/combined_data_1.txt', names=['user_id', 'rating', 'date'])\n",
    "df2 = pd.read_csv('/kaggle/input/netflix-prize-data/combined_data_2.txt', names=['user_id', 'rating', 'date'])\n",
    "df3 = pd.read_csv('/kaggle/input/netflix-prize-data/combined_data_3.txt', names=['user_id', 'rating', 'date'])\n",
    "df4 = pd.read_csv('/kaggle/input/netflix-prize-data/combined_data_4.txt', names=['user_id', 'rating', 'date'])\n",
    "\n",
    "combined_data = pd.concat([df1, df2, df3, df4])\n",
    "\n",
    "probe = pd.read_csv('/kaggle/input/netflix-prize-data/probe.txt', names=['user_id'])"
   ]
  },
  {
   "cell_type": "code",
   "execution_count": null,
   "id": "f85d3e85",
   "metadata": {},
   "outputs": [],
   "source": [
    "def extract_movie_id(user_id):\n",
    "    if user_id[-1] == ':':\n",
    "        return user_id[:-1]\n",
    "    else:\n",
    "        return None\n",
    "\n",
    "combined_data['movie_id'] = combined_data['user_id'].apply(extract_movie_id) # Add column movie id when user_id have last letter ':'\n",
    "combined_data['movie_id'] = combined_data['movie_id'].fillna(method='ffill') # Fill forward all NaN values of movie_id.\n",
    "combined_data.dropna(subset=['rating'], inplace=True) # Drop all rows where rating is Nan\n",
    "combined_data.reset_index(drop=True, inplace=True) # Reset index \n",
    "print(combined_data)"
   ]
  },
  {
   "cell_type": "markdown",
   "id": "ae98df03",
   "metadata": {},
   "source": [
    "Probe dataset preparation"
   ]
  },
  {
   "cell_type": "code",
   "execution_count": null,
   "id": "90d41e48",
   "metadata": {},
   "outputs": [],
   "source": [
    "probe['movie_id'] = probe['user_id'].apply(extract_movie_id) # Add column movie id when user_id have last letter ':'\n",
    "probe['movie_id'] = probe['movie_id'].fillna(method='ffill') # Fill forward all NaN values of movie_id.\n",
    "\n",
    "probe = probe[~probe.user_id.str.endswith(':')]\n",
    "\n",
    "probe.reset_index(drop=True, inplace=True) # Reset index "
   ]
  },
  {
   "cell_type": "code",
   "execution_count": null,
   "id": "7e89426f",
   "metadata": {},
   "outputs": [],
   "source": [
    "combined_data.dtypes"
   ]
  },
  {
   "cell_type": "markdown",
   "id": "53b10137",
   "metadata": {},
   "source": [
    "## Useful Plots for uderstanding data."
   ]
  },
  {
   "cell_type": "code",
   "execution_count": null,
   "id": "fe2f4a53",
   "metadata": {},
   "outputs": [],
   "source": [
    "import matplotlib.pyplot as plt \n",
    "\n",
    "# Load small portion of data\n",
    "df = combined_data[:100000]\n",
    "\n",
    "# Change dtype of movie_id to int only for bar plot\n",
    "df['movie_id'] = df['movie_id'].astype(int) \n",
    "\n",
    "# Average ratings groupby\n",
    "average_ratings = df.groupby('movie_id', as_index=False)['rating'].mean() \n",
    "\n",
    "\n",
    "# Create a plot\n",
    "plt.bar(average_ratings['movie_id'], average_ratings['rating']) \n",
    "plt.xlabel('Movie ID') \n",
    "plt.ylabel('Average Rating') \n",
    "plt.title('Average Ratings by Movie') \n",
    "plt.show()"
   ]
  },
  {
   "cell_type": "code",
   "execution_count": null,
   "id": "5908a4d5",
   "metadata": {},
   "outputs": [],
   "source": [
    "# Wyliczenie ilości ocen dla poszczególnych filmów \n",
    "ratings_per_movie = df.groupby('movie_id', as_index=False)['rating'].count() \n",
    "\n",
    "# Sortowanie danych po movie_id \n",
    "ratings_per_movie.sort_values(by='movie_id', inplace=True) \n",
    "\n",
    "# Stworzenie wykresu \n",
    "plt.bar(ratings_per_movie['movie_id'], ratings_per_movie['rating']) \n",
    "plt.xlabel('Movie ID') \n",
    "plt.ylabel('Number of Ratings') \n",
    "plt.title('Number of Ratings by Movie') \n",
    "plt.show()"
   ]
  },
  {
   "cell_type": "code",
   "execution_count": null,
   "id": "b3d2af2b",
   "metadata": {},
   "outputs": [],
   "source": [
    "nan"
   ]
  },
  {
   "cell_type": "code",
   "execution_count": null,
   "id": "9dc0a833",
   "metadata": {},
   "outputs": [],
   "source": [
    "nan"
   ]
  }
 ],
 "metadata": {},
 "nbformat": 4,
 "nbformat_minor": 5
}
