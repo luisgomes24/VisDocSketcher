{
 "cells": [
  {
   "cell_type": "code",
   "execution_count": null,
   "id": "5e3d53c2",
   "metadata": {},
   "outputs": [],
   "source": [
    "import os\n",
    "GPU_id = 0\n",
    "os.environ['CUDA_VISIBLE_DEVICES'] = str(GPU_id)"
   ]
  },
  {
   "cell_type": "code",
   "execution_count": null,
   "id": "279e269b",
   "metadata": {},
   "outputs": [],
   "source": [
    "import warnings\n",
    "warnings.filterwarnings(\"ignore\")\n",
    "\n",
    "import fastai\n",
    "print(fastai.__version__)\n",
    "from fastai.vision import *\n",
    "from fastai.callbacks import SaveModelCallback\n",
    "import time"
   ]
  },
  {
   "cell_type": "markdown",
   "id": "2e174315",
   "metadata": {},
   "source": [
    "### Create a Path instance"
   ]
  },
  {
   "cell_type": "code",
   "execution_count": null,
   "id": "f3016265",
   "metadata": {},
   "outputs": [],
   "source": [
    "path = Path('../input/hymenoptera-data/hymenoptera_data')\n",
    "print(type(path))\n",
    "path.ls()"
   ]
  },
  {
   "cell_type": "code",
   "execution_count": null,
   "id": "05c72fbe",
   "metadata": {},
   "outputs": [],
   "source": [
    "(path/'train').ls()"
   ]
  },
  {
   "cell_type": "markdown",
   "id": "f629f5bc",
   "metadata": {},
   "source": [
    "### Create an ImageList instance"
   ]
  },
  {
   "cell_type": "code",
   "execution_count": null,
   "id": "5a3fae89",
   "metadata": {},
   "outputs": [],
   "source": [
    "il = ImageList.from_folder(path)\n",
    "il.items[0]"
   ]
  },
  {
   "cell_type": "code",
   "execution_count": null,
   "id": "2b0d35bb",
   "metadata": {},
   "outputs": [],
   "source": [
    "il"
   ]
  },
  {
   "cell_type": "code",
   "execution_count": null,
   "id": "1be48b0f",
   "metadata": {},
   "outputs": [],
   "source": [
    "il[0].show()"
   ]
  },
  {
   "cell_type": "markdown",
   "id": "7abce613",
   "metadata": {},
   "source": [
    "### Create item lists for train and valid"
   ]
  },
  {
   "cell_type": "code",
   "execution_count": null,
   "id": "3c71907e",
   "metadata": {},
   "outputs": [],
   "source": [
    "sd = il.split_by_folder(train='train', valid='val')\n",
    "sd"
   ]
  },
  {
   "cell_type": "markdown",
   "id": "4e9b9f32",
   "metadata": {},
   "source": [
    "### Create a label list"
   ]
  },
  {
   "cell_type": "code",
   "execution_count": null,
   "id": "b52c626b",
   "metadata": {},
   "outputs": [],
   "source": [
    "ll = sd.label_from_folder()\n",
    "ll"
   ]
  },
  {
   "cell_type": "markdown",
   "id": "e19336e8",
   "metadata": {},
   "source": [
    "### Show an image with label"
   ]
  },
  {
   "cell_type": "code",
   "execution_count": null,
   "id": "ade74633",
   "metadata": {},
   "outputs": [],
   "source": [
    "%%time\n",
    "x,y = ll.train[0]\n",
    "x.show()\n",
    "print(y,x.shape)"
   ]
  },
  {
   "cell_type": "markdown",
   "id": "499c9470",
   "metadata": {},
   "source": [
    "### Apply transformations"
   ]
  },
  {
   "cell_type": "code",
   "execution_count": null,
   "id": "6862e7fa",
   "metadata": {},
   "outputs": [],
   "source": [
    "tfms = get_transforms(max_rotate=25); len(tfms)"
   ]
  },
  {
   "cell_type": "code",
   "execution_count": null,
   "id": "7e176b32",
   "metadata": {},
   "outputs": [],
   "source": [
    "ll = ll.transform(tfms,size=224)"
   ]
  },
  {
   "cell_type": "code",
   "execution_count": null,
   "id": "23822e79",
   "metadata": {},
   "outputs": [],
   "source": [
    "%%time\n",
    "x,y = ll.train[0]\n",
    "x.show()\n",
    "print(y,x.shape)"
   ]
  },
  {
   "cell_type": "markdown",
   "id": "799da841",
   "metadata": {},
   "source": [
    "### Create a databunch instance"
   ]
  },
  {
   "cell_type": "code",
   "execution_count": null,
   "id": "77ac96a9",
   "metadata": {},
   "outputs": [],
   "source": [
    "%%time\n",
    "bs = 32\n",
    "data = ll.databunch(bs=bs).normalize(imagenet_stats)"
   ]
  },
  {
   "cell_type": "code",
   "execution_count": null,
   "id": "e6b75a5e",
   "metadata": {},
   "outputs": [],
   "source": [
    "x,y = data.train_ds[0]\n",
    "x.show()\n",
    "print(y)"
   ]
  },
  {
   "cell_type": "markdown",
   "id": "79afa9eb",
   "metadata": {},
   "source": [
    "### Show random transformations of the same image"
   ]
  },
  {
   "cell_type": "code",
   "execution_count": null,
   "id": "9817fe21",
   "metadata": {},
   "outputs": [],
   "source": [
    "def _plot(i,j,ax): data.train_ds[0][0].show(ax)\n",
    "plot_multi(_plot, 3, 3, figsize=(8,8))"
   ]
  },
  {
   "cell_type": "markdown",
   "id": "ae973358",
   "metadata": {},
   "source": [
    "### show a batch of images with labels"
   ]
  },
  {
   "cell_type": "code",
   "execution_count": null,
   "id": "219d74ae",
   "metadata": {},
   "outputs": [],
   "source": [
    "xb,yb = data.one_batch()\n",
    "print(xb.shape,yb.shape)\n",
    "data.show_batch(rows=3, figsize=(10,8))"
   ]
  },
  {
   "cell_type": "markdown",
   "id": "ca286977",
   "metadata": {},
   "source": [
    "### Create a CNN learner"
   ]
  },
  {
   "cell_type": "code",
   "execution_count": null,
   "id": "1b1a5526",
   "metadata": {},
   "outputs": [],
   "source": [
    "%%time\n",
    "learn = cnn_learner(data, models.resnet18, metrics=accuracy)\n",
    "learn.model_dir = '/kaggle/working/models'"
   ]
  },
  {
   "cell_type": "markdown",
   "id": "ed1f0d33",
   "metadata": {},
   "source": [
    "### find a proper learning rate"
   ]
  },
  {
   "cell_type": "code",
   "execution_count": null,
   "id": "4dfebb89",
   "metadata": {},
   "outputs": [],
   "source": [
    "!pwd"
   ]
  },
  {
   "cell_type": "code",
   "execution_count": null,
   "id": "1145bd0f",
   "metadata": {},
   "outputs": [],
   "source": [
    "learn.lr_find()"
   ]
  },
  {
   "cell_type": "code",
   "execution_count": null,
   "id": "277036ac",
   "metadata": {},
   "outputs": [],
   "source": [
    "learn.recorder.plot()"
   ]
  },
  {
   "cell_type": "markdown",
   "id": "6c4528f5",
   "metadata": {},
   "source": [
    "### training"
   ]
  },
  {
   "cell_type": "code",
   "execution_count": null,
   "id": "f2d5d077",
   "metadata": {},
   "outputs": [],
   "source": [
    "learn.fit_one_cycle(10,max_lr=slice(0.007),callbacks=[\n",
    "            SaveModelCallback(learn, every='improvement', monitor='accuracy'),\n",
    "            ])"
   ]
  },
  {
   "cell_type": "code",
   "execution_count": null,
   "id": "c3a8ba75",
   "metadata": {},
   "outputs": [],
   "source": [
    "pred, truth = learn.get_preds()"
   ]
  },
  {
   "cell_type": "code",
   "execution_count": null,
   "id": "cc11b5cb",
   "metadata": {},
   "outputs": [],
   "source": [
    "pred = pred.numpy()\n",
    "truth = truth.numpy()\n",
    "acc = np.mean(np.argmax(pred,axis=1) == truth)\n",
    "print('Validation Accuracy %.4f'%acc)"
   ]
  }
 ],
 "metadata": {},
 "nbformat": 4,
 "nbformat_minor": 5
}
