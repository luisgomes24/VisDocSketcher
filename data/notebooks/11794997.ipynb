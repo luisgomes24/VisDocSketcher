{
 "cells": [
  {
   "cell_type": "code",
   "execution_count": null,
   "id": "65a40dab",
   "metadata": {},
   "outputs": [],
   "source": [
    "# import warnings, sys\n",
    "# warnings.filterwarnings(\"ignore\")\n",
    "\n",
    "# # Chris's RAPIDS dataset\n",
    "# !cp ../input/rapids/rapids.0.15.0 /opt/conda/envs/rapids.tar.gz\n",
    "# !cd /opt/conda/envs/ && tar -xzvf rapids.tar.gz > /dev/null\n",
    "# sys.path = [\"/opt/conda/envs/rapids/lib/python3.7/site-packages\"] + sys.path\n",
    "# sys.path = [\"/opt/conda/envs/rapids/lib/python3.7\"] + sys.path\n",
    "# sys.path = [\"/opt/conda/envs/rapids/lib\"] + sys.path \n",
    "# !cp /opt/conda/envs/rapids/lib/libxgboost.so /opt/conda/lib/"
   ]
  },
  {
   "cell_type": "markdown",
   "id": "75190a19",
   "metadata": {},
   "source": [
    "# Import Library"
   ]
  },
  {
   "cell_type": "code",
   "execution_count": null,
   "id": "973ad9a8",
   "metadata": {},
   "outputs": [],
   "source": [
    "import pandas as pd\n",
    "import numpy as np\n",
    "import matplotlib.pyplot as plt\n",
    "import pickle"
   ]
  },
  {
   "cell_type": "markdown",
   "id": "af4062e3",
   "metadata": {},
   "source": [
    "# Read and Describe the Dataset"
   ]
  },
  {
   "cell_type": "code",
   "execution_count": null,
   "id": "8d5bb073",
   "metadata": {},
   "outputs": [],
   "source": [
    "# Read the Dataset\n",
    "# test = pd.read_csv(\"/kaggle/input/mechanisms-of-action-moa-eda/test_clean\")\n",
    "test = pd.read_csv(\"../input/lish-moa/test_features.csv\")\n",
    "target_scored = pd.read_csv(\"/kaggle/input/lish-moa/train_targets_scored.csv\")\n",
    "sample = pd.read_csv(\"/kaggle/input/lish-moa/sample_submission.csv\")"
   ]
  },
  {
   "cell_type": "code",
   "execution_count": null,
   "id": "caed3bfc",
   "metadata": {},
   "outputs": [],
   "source": [
    "def clean_fn(data):\n",
    "    data.loc[:, 'cp_type'] = data.loc[:, 'cp_type'].map({'trt_cp': 0, 'ctl_vehicle': 1})\n",
    "    data.loc[:, 'cp_dose'] = data.loc[:, 'cp_dose'].map({'D1': 0, 'D2': 1})\n",
    "    del data['sig_id']\n",
    "    return data\n",
    "\n",
    "test =  clean_fn(test)\n"
   ]
  },
  {
   "cell_type": "code",
   "execution_count": null,
   "id": "25d073a8",
   "metadata": {},
   "outputs": [],
   "source": [
    "from sklearn import preprocessing\n",
    "x_test = test.copy()\n",
    "\n",
    "quantile_transformer = preprocessing.QuantileTransformer(random_state=0)\n",
    "X_test = quantile_transformer.fit_transform(x_test)"
   ]
  },
  {
   "cell_type": "code",
   "execution_count": null,
   "id": "025b96f5",
   "metadata": {},
   "outputs": [],
   "source": [
    "X_test.mean()"
   ]
  },
  {
   "cell_type": "code",
   "execution_count": null,
   "id": "07741c4d",
   "metadata": {},
   "outputs": [],
   "source": [
    "XX_test = preprocessing.scale(x_test,axis=0, with_mean=True, with_std=True, copy=True)"
   ]
  },
  {
   "cell_type": "code",
   "execution_count": null,
   "id": "006eb1ec",
   "metadata": {},
   "outputs": [],
   "source": [
    "XX_test.mean()"
   ]
  },
  {
   "cell_type": "code",
   "execution_count": null,
   "id": "4c9f0d3c",
   "metadata": {},
   "outputs": [],
   "source": [
    "import seaborn as sns\n",
    "sns.distplot(XX_test);"
   ]
  },
  {
   "cell_type": "code",
   "execution_count": null,
   "id": "559969c1",
   "metadata": {},
   "outputs": [],
   "source": [
    "sns.distplot(X_test);"
   ]
  },
  {
   "cell_type": "code",
   "execution_count": null,
   "id": "952d5f15",
   "metadata": {},
   "outputs": [],
   "source": [
    "sns.distplot(test);"
   ]
  },
  {
   "cell_type": "code",
   "execution_count": null,
   "id": "7e08c274",
   "metadata": {},
   "outputs": [],
   "source": [
    "qtest=pd.read_csv(\"../input/mechanisms-of-action-moa-eda/test_clean\")\n",
    "sns.distplot(qtest);"
   ]
  },
  {
   "cell_type": "code",
   "execution_count": null,
   "id": "e9a673c7",
   "metadata": {},
   "outputs": [],
   "source": [
    "# First Five rows\n",
    "\n",
    "test.head()"
   ]
  },
  {
   "cell_type": "code",
   "execution_count": null,
   "id": "d9f152e6",
   "metadata": {},
   "outputs": [],
   "source": [
    "plt.plot(test.skew())"
   ]
  },
  {
   "cell_type": "code",
   "execution_count": null,
   "id": "23523050",
   "metadata": {},
   "outputs": [],
   "source": [
    "target_scored.sum()[1:].sort_values()"
   ]
  },
  {
   "cell_type": "code",
   "execution_count": null,
   "id": "409b38e4",
   "metadata": {},
   "outputs": [],
   "source": [
    "# # drop columns that have only one label for 1's in target\n",
    "# copy_target = target_scored.copy()\n",
    "# target_scored =target_scored.drop(['atp-sensitive_potassium_channel_antagonist',\n",
    "#                     'erbb2_inhibitor'], axis=1)\n"
   ]
  },
  {
   "cell_type": "code",
   "execution_count": null,
   "id": "31913e81",
   "metadata": {},
   "outputs": [],
   "source": [
    "# # Load from file\n",
    "# with open(pkl_filename, 'rb') as file:\n",
    "#     pickle_model = pickle.load(file)\n",
    "#     pickle_model.predict(test)\n"
   ]
  },
  {
   "cell_type": "code",
   "execution_count": null,
   "id": "5961c9eb",
   "metadata": {},
   "outputs": [],
   "source": [
    "from sklearn.kernel_approximation import Nystroem\n",
    "kernel = Nystroem(kernel = 'rbf', n_components = 100, random_state = 0)\n",
    "\n",
    "# test = kernel.fit_transform(test)\n",
    "XX_test = kernel.fit_transform(XX_test)\n"
   ]
  },
  {
   "cell_type": "code",
   "execution_count": null,
   "id": "f6f2983f",
   "metadata": {},
   "outputs": [],
   "source": [
    "# import cuml\n",
    "# Select all columns from target(not id)\n",
    "# select = target_scored.iloc[:,1:2]\n",
    "MODEL_DIR = \"../input/training-of-mechanisms-of-action-moa-eda/\"\n",
    "#select = target_scored.iloc[:,1:3]\n",
    "\n",
    "\n",
    "\n",
    "\n",
    "preds = []\n",
    "# for i in select:\n",
    "for i, _col in enumerate(target_scored.columns):\n",
    "    if _col != \"sig_id\":\n",
    "        pkl_filename = str(MODEL_DIR)+\"model\"+str(i)+\".pkl\"\n",
    "#         print(pkl_filename)\n",
    "    \n",
    "        with open(pkl_filename, 'rb') as file:\n",
    "            pickle_model = pickle.load(file)\n",
    "#             prediction = pickle_model.predict(test)\n",
    "            \n",
    "            prediction = pickle_model.predict(XX_test)\n",
    "            preds.append(prediction)\n",
    "        \n",
    "            sample[_col]=(sum(preds)/len(preds))/5\n",
    "        \n",
    "        "
   ]
  },
  {
   "cell_type": "code",
   "execution_count": null,
   "id": "9a63ac08",
   "metadata": {},
   "outputs": [],
   "source": [
    "sample.head()"
   ]
  },
  {
   "cell_type": "code",
   "execution_count": null,
   "id": "59f98763",
   "metadata": {},
   "outputs": [],
   "source": [
    "sample.to_csv('submission.csv', index=False)"
   ]
  },
  {
   "cell_type": "code",
   "execution_count": null,
   "id": "764c21ff",
   "metadata": {},
   "outputs": [],
   "source": [
    "nan"
   ]
  }
 ],
 "metadata": {},
 "nbformat": 4,
 "nbformat_minor": 5
}
