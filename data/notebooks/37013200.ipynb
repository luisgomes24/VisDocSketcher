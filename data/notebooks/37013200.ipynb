{
 "cells": [
  {
   "cell_type": "code",
   "execution_count": null,
   "id": "091f07e7",
   "metadata": {},
   "outputs": [],
   "source": [
    "import numpy as np # linear algebra\n",
    "import pandas as pd # data processing, CSV file I/O (e.g. pd.read_csv)\n",
    "\n",
    "import os\n",
    "for dirname, _, filenames in os.walk('/kaggle/input'):\n",
    "    for filename in filenames:\n",
    "        print(os.path.join(dirname, filename))"
   ]
  },
  {
   "cell_type": "code",
   "execution_count": null,
   "id": "6943eabf",
   "metadata": {},
   "outputs": [],
   "source": [
    "import pandas as pd\n",
    "import numpy as np\n",
    "from sklearn.ensemble import RandomForestRegressor\n",
    "from sklearn.metrics import mean_absolute_percentage_error\n",
    "\n",
    "train_df = pd.read_csv('/kaggle/input/gdz-elektrik-datathon-2023/train.csv')\n",
    "submit_df = pd.read_csv('/kaggle/input/gdz-elektrik-datathon-2023/sample_submission.csv')\n",
    "med_df = pd.read_csv('/kaggle/input/gdz-elektrik-datathon-2023/med.csv')\n",
    "\n",
    "med_df[\"Yıl\"] = pd.to_datetime(med_df[\"Tarih\"]).dt.year\n",
    "med_df[\"Ay\"] = pd.to_datetime(med_df[\"Tarih\"]).dt.month\n",
    "med_df[\"Gün\"] = pd.to_datetime(med_df[\"Tarih\"]).dt.day\n",
    "\n",
    "train_df[\"Yıl\"] = pd.to_datetime(train_df[\"Tarih\"]).dt.year\n",
    "train_df[\"Ay\"] = pd.to_datetime(train_df[\"Tarih\"]).dt.month\n",
    "train_df[\"Gün\"] = pd.to_datetime(train_df[\"Tarih\"]).dt.day\n",
    "train_df[\"Saat\"] = pd.to_datetime(train_df[\"Tarih\"]).dt.hour\n",
    "\n",
    "submit_df[\"Yıl\"] = pd.to_datetime(submit_df[\"Tarih\"]).dt.year\n",
    "submit_df[\"Ay\"] = pd.to_datetime(submit_df[\"Tarih\"]).dt.month\n",
    "submit_df[\"Gün\"] = pd.to_datetime(submit_df[\"Tarih\"]).dt.day\n",
    "submit_df[\"Saat\"] = pd.to_datetime(submit_df[\"Tarih\"]).dt.hour\n",
    "submit_df[\"Kesintili Günler\"]=0\n",
    "\n",
    "train_df = train_df.drop(\"Tarih\", axis=1)\n",
    "submit_df = submit_df.drop(\"Tarih\", axis=1)\n",
    "med_df = med_df.drop(\"Tarih\", axis=1)\n",
    "\n",
    "med_df[['Yıl', 'Ay', 'Gün']] = med_df[['Yıl', 'Ay', 'Gün']].astype(int)\n",
    "train_df['Kesintili Günler'] = train_df.apply(lambda row: int((row[['Yıl', 'Ay', 'Gün']] == med_df[['Yıl', 'Ay', 'Gün']]).all(axis=1).any()), axis=1)"
   ]
  },
  {
   "cell_type": "code",
   "execution_count": null,
   "id": "5480b7a5",
   "metadata": {},
   "outputs": [],
   "source": [
    "calendar = pd.read_csv('/kaggle/input/d/frtgnn/turkish-calendar/Turkish calendar.csv',sep=(\";\"))\n",
    "new_df = calendar.iloc[853:2557].copy()\n",
    "new_df.loc[:, \"Ay\"] = pd.to_datetime(new_df[\"CALENDAR_DATE\"], format=\"%d.%m.%Y\").dt.month\n",
    "new_df.loc[:, \"Yıl\"] = pd.to_datetime(new_df[\"CALENDAR_DATE\"], format=\"%d.%m.%Y\").dt.year\n",
    "new_df = new_df.drop([\"SEASON_SK\", \"SPECIAL_DAY_SK\", \"SPECIAL_DAY_SK2\"], axis=1)"
   ]
  },
  {
   "cell_type": "code",
   "execution_count": null,
   "id": "298269d3",
   "metadata": {},
   "outputs": [],
   "source": [
    "new_df[\"WEEKEND_FLAG\"] =new_df[\"WEEKEND_FLAG\"].replace([\"N\"],0)\n",
    "new_df[\"WEEKEND_FLAG\"] =new_df[\"WEEKEND_FLAG\"].replace([\"Y\"],1)\n",
    "new_df[\"RAMADAN_FLAG\"] =new_df[\"RAMADAN_FLAG\"].replace([\"N\"],0)\n",
    "new_df[\"RAMADAN_FLAG\"] =new_df[\"RAMADAN_FLAG\"].replace([\"Y\"],1)\n",
    "new_df[\"PUBLIC_HOLIDAY_FLAG\"] =new_df[\"PUBLIC_HOLIDAY_FLAG\"].replace([\"N\"],0)\n",
    "new_df[\"PUBLIC_HOLIDAY_FLAG\"] =new_df[\"PUBLIC_HOLIDAY_FLAG\"].replace([\"Y\"],1)"
   ]
  },
  {
   "cell_type": "code",
   "execution_count": null,
   "id": "b2085691",
   "metadata": {},
   "outputs": [],
   "source": [
    "new_df.rename(columns={'DAY_OF_MONTH': 'Gün'}, inplace=True)\n",
    "new_df.rename(columns={'DAY_OF_WEEK_SK': 'Haftanın Günü'}, inplace=True)\n",
    "new_df.rename(columns={'QUARTER_OF_YEAR': 'Sezon'}, inplace=True)\n",
    "new_df.rename(columns={'WEEKEND_FLAG': 'Haftasonu - Haftaiçi'}, inplace=True)\n",
    "new_df.rename(columns={'WEEK_OF_YEAR': 'Yılın kaçıncı haftası'}, inplace=True)\n",
    "new_df.rename(columns={'RAMADAN_FLAG': 'Ramazan'}, inplace=True)\n",
    "new_df.rename(columns={'RELIGIOUS_DAY_FLAG_SK': 'Dini Gün'}, inplace=True)\n",
    "new_df.rename(columns={'NATIONAL_DAY_FLAG_SK': 'Ulusal Gün'}, inplace=True)\n",
    "new_df.rename(columns={'PUBLIC_HOLIDAY_FLAG': 'Resmi tatil'}, inplace=True)\n"
   ]
  },
  {
   "cell_type": "code",
   "execution_count": null,
   "id": "dce7202b",
   "metadata": {},
   "outputs": [],
   "source": [
    "new_df_submit=new_df.iloc[0:31]\n",
    "new_df_train=new_df.iloc[31:1704]\n",
    "merged_df = pd.merge(train_df, new_df_train, on=[\"Yıl\", \"Ay\", \"Gün\"])\n",
    "merged_df2 = pd.merge(submit_df, new_df_submit, on=[\"Yıl\", \"Ay\", \"Gün\"])"
   ]
  },
  {
   "cell_type": "code",
   "execution_count": null,
   "id": "752def1c",
   "metadata": {},
   "outputs": [],
   "source": [
    "merged_df"
   ]
  },
  {
   "cell_type": "code",
   "execution_count": null,
   "id": "ac433b0f",
   "metadata": {},
   "outputs": [],
   "source": [
    "X_train=merged_df.drop(\"Dağıtılan Enerji (MWh)\", axis=1)\n",
    "X_train=X_train.drop(\"CALENDAR_DATE\", axis=1)\n",
    "y_train=merged_df[\"Dağıtılan Enerji (MWh)\"]\n",
    "X_test=merged_df2.drop(\"Dağıtılan Enerji (MWh)\", axis=1)\n",
    "X_test=X_test.drop(\"CALENDAR_DATE\", axis=1)"
   ]
  },
  {
   "cell_type": "code",
   "execution_count": null,
   "id": "620ba9c0",
   "metadata": {},
   "outputs": [],
   "source": [
    "rf_model = RandomForestRegressor(n_estimators=100, random_state=42)\n",
    "rf_model.fit(X_train, y_train)\n",
    "\n",
    "# Make predictions on the validation set\n",
    "y_pred = rf_model.predict(X_test)"
   ]
  },
  {
   "cell_type": "code",
   "execution_count": null,
   "id": "a5fd90db",
   "metadata": {},
   "outputs": [],
   "source": [
    "subm= pd.read_csv('/kaggle/input/gdz-elektrik-datathon-2023/sample_submission.csv')\n",
    "subm[\"Dağıtılan Enerji (MWh)\"]=y_pred\n",
    "subm"
   ]
  },
  {
   "cell_type": "code",
   "execution_count": null,
   "id": "82b00122",
   "metadata": {},
   "outputs": [],
   "source": [
    "subm.to_csv(\"submission6.csv\",index=None)"
   ]
  }
 ],
 "metadata": {},
 "nbformat": 4,
 "nbformat_minor": 5
}
