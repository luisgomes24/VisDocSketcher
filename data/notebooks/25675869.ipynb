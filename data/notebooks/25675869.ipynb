{
 "cells": [
  {
   "cell_type": "markdown",
   "id": "ea72abba",
   "metadata": {},
   "source": [
    "# skimpy"
   ]
  },
  {
   "cell_type": "markdown",
   "id": "49475235",
   "metadata": {},
   "source": [
    "skimpy is a light weight tool that provides summary statistics about variables in data frames \n",
    "\n",
    "within the console or your interactive Python window. \n",
    "\n",
    "Think of it as a super-charged version of df.describe()."
   ]
  },
  {
   "cell_type": "code",
   "execution_count": null,
   "id": "67c4125d",
   "metadata": {},
   "outputs": [],
   "source": [
    "from IPython.display import clear_output\n",
    "!pip -q install skimpy\n",
    "clear_output()\n",
    "\n",
    "import numpy as np\n",
    "import pandas as pd\n",
    "\n",
    "import skimpy \n",
    "\n",
    "TRAIN_PATH = \"../input/titanic/train.csv\"\n",
    "TEST_PATH = \"../input/titanic/test.csv\""
   ]
  },
  {
   "cell_type": "code",
   "execution_count": null,
   "id": "d029985b",
   "metadata": {},
   "outputs": [],
   "source": [
    "train = pd.read_csv(TRAIN_PATH)\n",
    "test = pd.read_csv(TEST_PATH)"
   ]
  },
  {
   "cell_type": "code",
   "execution_count": null,
   "id": "a31c8764",
   "metadata": {},
   "outputs": [],
   "source": [
    "skimpy.skim(train)"
   ]
  },
  {
   "cell_type": "code",
   "execution_count": null,
   "id": "a92d6323",
   "metadata": {},
   "outputs": [],
   "source": [
    "skimpy.skim(train,header_style=\"italic magenta\")"
   ]
  },
  {
   "cell_type": "code",
   "execution_count": null,
   "id": "422d4de7",
   "metadata": {},
   "outputs": [],
   "source": [
    "skimpy.skim(test)"
   ]
  },
  {
   "cell_type": "code",
   "execution_count": null,
   "id": "6b952e9b",
   "metadata": {},
   "outputs": [],
   "source": [
    "skimpy.skim(test,header_style=\"italic magenta\")"
   ]
  }
 ],
 "metadata": {},
 "nbformat": 4,
 "nbformat_minor": 5
}
