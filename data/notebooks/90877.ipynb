{
 "cells": [
  {
   "cell_type": "markdown",
   "id": "48d4f1e9",
   "metadata": {},
   "source": [
    "# Breakdown of the 4th Down\n",
    "A look at 4th down possessions during the 2015 NFL Season "
   ]
  },
  {
   "cell_type": "code",
   "execution_count": null,
   "id": "9505b93e",
   "metadata": {},
   "outputs": [],
   "source": [
    "%matplotlib inline\n",
    "\n",
    "import pandas as pd\n",
    "import numpy as np\n",
    "import warnings\n",
    "import pandas as pd\n",
    "import seaborn as sns\n",
    "import math\n",
    "import numpy as np\n",
    "import matplotlib.pyplot as plt\n",
    "from IPython.display import display, HTML\n",
    "from astropy.table import Table\n",
    "from scipy import stats\n",
    "from statsmodels.formula.api import ols\n",
    "warnings.simplefilter(action = \"ignore\")\n",
    "\n",
    "all_plays = pd.read_csv('../input/nflplaybyplay2015.csv')\n",
    "play_codes = {'Punt': 'Punt', 'Field Goal': 'Field Goal', 'Pass': 'Play Attempt (Pass/Run/Sack)', 'No Play': 'Other', 'Run': 'Play Attempt (Pass/Run/Sack)', 'Sack': 'Play Attempt (Pass/Run/Sack)', 'QB Kneel': 'Other', 'Timeout': 'Other'}\n",
    "all_plays['Play'] = all_plays['PlayType'].map(play_codes)\n",
    "\n",
    "short_flag = all_plays['ydstogo'] < 5\n",
    "med_flag = (all_plays['ydstogo'] >= 5) & (all_plays['ydstogo'] <= 10)\n",
    "long_flag = all_plays['ydstogo'] > 10\n",
    "\n",
    "all_plays.loc[short_flag, 'dist_cat'] = 'Short'\n",
    "all_plays.loc[med_flag, 'dist_cat'] = 'Medium'\n",
    "all_plays.loc[long_flag, 'dist_cat'] = 'Long'\n"
   ]
  },
  {
   "cell_type": "markdown",
   "id": "3f96a3e5",
   "metadata": {},
   "source": [
    "Create a dataframe of just the 4th Down Plays"
   ]
  },
  {
   "cell_type": "code",
   "execution_count": null,
   "id": "5c2be90a",
   "metadata": {},
   "outputs": [],
   "source": [
    "other_plays = all_plays[all_plays['down'] != 4]\n",
    "fourth_plays = all_plays[all_plays['down'] == 4]\n",
    "fourth_plays = fourth_plays.drop(['Unnamed: 0', 'PlayAttempted', 'Season'], 1)\n",
    "converted_flag = fourth_plays['ydstogo'] > fourth_plays['Yards.Gained']\n",
    "fourth_plays['converted'] = 1\n",
    "fourth_plays.loc[converted_flag, 'converted'] = 0\n",
    "\n"
   ]
  },
  {
   "cell_type": "markdown",
   "id": "4b7e8c8d",
   "metadata": {},
   "source": [
    "Create some other dataframes that divide up the fourth down plays by attempts, punts, field goals and other.  Do the same for first quarter, second quarter, third quarter and fourth."
   ]
  },
  {
   "cell_type": "code",
   "execution_count": null,
   "id": "a1245427",
   "metadata": {},
   "outputs": [],
   "source": [
    "attempts = fourth_plays[fourth_plays['Play'] == 'Play Attempt (Pass/Run/Sack)']\n",
    "punts = fourth_plays[fourth_plays['Play'] == 'Punt']\n",
    "field_goals = fourth_plays[fourth_plays['Play'] == 'Field Goal']\n",
    "other_plays = fourth_plays[fourth_plays['Play'] == 'Other']\n",
    "\n",
    "first_qtr = fourth_plays[fourth_plays['qtr'] == 1]\n",
    "second_qtr = fourth_plays[fourth_plays['qtr'] == 2]\n",
    "third_qtr = fourth_plays[fourth_plays['qtr'] == 3]\n",
    "fourth_qtr = fourth_plays[fourth_plays['qtr'] == 4]"
   ]
  },
  {
   "cell_type": "markdown",
   "id": "27bca25a",
   "metadata": {},
   "source": [
    "## Distribution of Play Type"
   ]
  },
  {
   "cell_type": "code",
   "execution_count": null,
   "id": "e4f91692",
   "metadata": {},
   "outputs": [],
   "source": [
    "att = attempts['yrdline100']\n",
    "punt = punts['yrdline100']\n",
    "fg = field_goals['yrdline100']\n",
    "other = other_plays['yrdline100']\n",
    "rows = ['4th Down Attempt', 'Punt', 'FG', 'Other']\n",
    "    \n",
    "distance_avg = [round(np.mean(att), 2), round(np.mean(punt), 2), round(np.mean(fg), 2), round(np.mean(other), 2)]\n",
    "distance_mode = [stats.mode(att).mode, stats.mode(punt).mode, stats.mode(fg).mode, stats.mode(other).mode]\n",
    "distance_sd = [round(np.std(att), 2), round(np.std(punt), 2), round(np.std(fg), 2), round(np.std(other), 2)]    \n",
    "tbl = Table([rows, distance_avg, distance_mode, distance_sd], names=('Type', 'Average Dist to Goal', 'Mode', 'SD'))\n",
    "print(tbl)"
   ]
  },
  {
   "cell_type": "markdown",
   "id": "1a10240f",
   "metadata": {},
   "source": [
    "We see that 4th down attempts occur around the 38 yard line, a mark that is inbetwen the average punt and fg line.  This is not particularly a surpirse.  However, we note that 4th down attempts have a much larger spread than punts and FG.  This is most likely due to the variety of when 4th downs need to be completed (ie at the end of games a team that is down may be forced to attempt a 4th and long). "
   ]
  },
  {
   "cell_type": "markdown",
   "id": "df15ccaa",
   "metadata": {},
   "source": [
    "### Distribution of Play Type by Distance to Goal"
   ]
  },
  {
   "cell_type": "code",
   "execution_count": null,
   "id": "90f7377c",
   "metadata": {},
   "outputs": [],
   "source": [
    "g1 = sns.FacetGrid(fourth_plays, col='Play')\n",
    "g1.map(plt.hist, 'yrdline100')\n",
    "g2 = sns.FacetGrid(fourth_plays, col='Play')\n",
    "g2.map(sns.boxplot, 'yrdline100')\n",
    "sns.plt.show()"
   ]
  },
  {
   "cell_type": "markdown",
   "id": "77397a8d",
   "metadata": {},
   "source": [
    "### Distribution of Play Type by Time Left"
   ]
  },
  {
   "cell_type": "code",
   "execution_count": null,
   "id": "2434ab45",
   "metadata": {},
   "outputs": [],
   "source": [
    "g1 = sns.FacetGrid(fourth_plays, col='Play')\n",
    "g1.map(plt.hist, 'TimeSecs')\n",
    "\n",
    "g1 = sns.FacetGrid(fourth_plays, col='Play')\n",
    "g1.map(sns.boxplot, 'TimeSecs')\n",
    "sns.plt.show()"
   ]
  },
  {
   "cell_type": "markdown",
   "id": "859eab0b",
   "metadata": {},
   "source": [
    "### Distribution of Play Type by Distance to First Down\n"
   ]
  },
  {
   "cell_type": "code",
   "execution_count": null,
   "id": "0a318a46",
   "metadata": {},
   "outputs": [],
   "source": [
    "g1 = sns.FacetGrid(fourth_plays, col='Play')\n",
    "g1.map(plt.hist, 'ydstogo')\n",
    "\n",
    "g1 = sns.FacetGrid(fourth_plays, col='Play')\n",
    "g1.map(sns.boxplot, 'ydstogo')\n",
    "sns.plt.show()"
   ]
  },
  {
   "cell_type": "markdown",
   "id": "0d4b3d91",
   "metadata": {},
   "source": [
    "### Wins vs. 4th Down Attempts Percentage"
   ]
  },
  {
   "cell_type": "code",
   "execution_count": null,
   "id": "db6f2340",
   "metadata": {},
   "outputs": [],
   "source": [
    "standings15 = pd.read_csv('../input/standings2015.csv')\n",
    "fourth_plays_vc = dict(fourth_plays['posteam'].value_counts())\n",
    "attempts_vc = dict(attempts['posteam'].value_counts())\n",
    "standings15['4thPossesions'] = standings15['Team'].map(fourth_plays_vc)\n",
    "standings15['4thAttempts'] = standings15['Team'].map(attempts_vc)\n",
    "standings15['PercentAttempts'] = standings15['4thAttempts']/standings15['4thPossesions']\n"
   ]
  },
  {
   "cell_type": "code",
   "execution_count": null,
   "id": "478f8924",
   "metadata": {},
   "outputs": [],
   "source": [
    "sns.regplot(standings15['PercentAttempts'], standings15['Win'])\n",
    "plt.title('Percent of 4th Down Attempts vs. Wins')"
   ]
  },
  {
   "cell_type": "code",
   "execution_count": null,
   "id": "0c1fdb6e",
   "metadata": {},
   "outputs": [],
   "source": [
    "display(standings15)"
   ]
  },
  {
   "cell_type": "code",
   "execution_count": null,
   "id": "f1122d30",
   "metadata": {},
   "outputs": [],
   "source": [
    "model = ols('Win~PercentAttempts', standings15).fit()\n",
    "model.summary()"
   ]
  },
  {
   "cell_type": "markdown",
   "id": "7cb7dfbc",
   "metadata": {},
   "source": [
    "While it is generally agreed upon that 4th down possessions are under utilized by teams, this data seems to contradict that fact.  There is a negative correlation between how often a team attempts to convert a 4th down and the number of wins a team has.  We see that that the true coef for PercentAttempts falls in quite a large range (-93, -21) and that with an R^2 value of 0.024, about 1/4 of all wins can be attributed to PercentAttempts.  This means in a 256 game season among all teams, approximately 64 wins were affected by attempts on 4th Down.   \n",
    "\n",
    "However, I do not believe that this can reliably attest to the discussion of whether or not to go for it on 4th Down.  We see that that no team even attempts 1/4 of their 4th downs.  For now, I posit that there is insufficient data resulting from a reluctance of coaches to make an attempt.  This is also a limited set as it is only data for the 2015 season.  "
   ]
  },
  {
   "cell_type": "markdown",
   "id": "07755dd1",
   "metadata": {},
   "source": [
    "### Point Spread during 4th Down"
   ]
  },
  {
   "cell_type": "code",
   "execution_count": null,
   "id": "ee544d7b",
   "metadata": {},
   "outputs": [],
   "source": [
    "g1 = sns.FacetGrid(fourth_plays, col='Play')\n",
    "bins_fg = [-27, -24, -21, -18, -15, -12, -9, -6, -3, 0, 3, 6, 9, 12, 15, 18, 21, 24, 27]\n",
    "bins_td = [-28, -21, -14, -7, 0, 7, 14, 21, 28]\n",
    "g1.map(sns.distplot, 'ScoreDiff', bins=bins_td)\n"
   ]
  },
  {
   "cell_type": "markdown",
   "id": "9cfcf014",
   "metadata": {},
   "source": [
    "Focusing on punts and attempts only.  We see that the graph for attempts is skewed slightly to the left, implying that teams that are down will attempt 4th downs more often.  It is interesting to note, however, that there is a sudden dropoff in attempts once a team is ahead during a game.  In contrast, the number of punts increases drastically as soon as the score difference is greater than 0."
   ]
  },
  {
   "cell_type": "code",
   "execution_count": null,
   "id": "f7a96ca9",
   "metadata": {},
   "outputs": [],
   "source": [
    "g1 = sns.distplot(attempts['ScoreDiff'], bins=bins_td)\n",
    "plt.title('Distribution of Score Difference on 4th Down Attempts')\n"
   ]
  },
  {
   "cell_type": "code",
   "execution_count": null,
   "id": "177ebd6f",
   "metadata": {},
   "outputs": [],
   "source": [
    "g1 = sns.distplot(punts['ScoreDiff'], bins=bins_td)\n",
    "plt.title('Distribution of Score Difference on Punts')\n",
    "plt.draw()\n"
   ]
  },
  {
   "cell_type": "markdown",
   "id": "cf21b12f",
   "metadata": {},
   "source": [
    "### Pass vs. Run\n",
    "This section looks at all attempted 4th downs to determine if running or passing was more popular as well as how effective the play was. "
   ]
  },
  {
   "cell_type": "code",
   "execution_count": null,
   "id": "8a05c3d4",
   "metadata": {},
   "outputs": [],
   "source": [
    "run_plays_4D = len(fourth_plays['PlayType'] == 'Run')\n",
    "all_runs = len(all_plays['PlayType'] == 'Run')\n",
    "pass_plays_4D = len(fourth_plays['PlayType'] == 'Pass') + len(attempts['PlayType'] == 'Sack')\n",
    "all_pass = len(all_plays['PlayType'] == 'Pass') + len(all_plays['PlayType'] == 'Sack')\n",
    "\n",
    "play_usage = ['Run', 'Pass']\n",
    "\n",
    "print('Total Plays:', len(all_plays))\n",
    "print('Total 4D Plays:', len(fourth_plays), '\\n')\n",
    "runs_and_passes = {\n",
    "                    '4th Down': pd.Series([run_plays_4D, pass_plays_4D], index=play_usage), \n",
    "                    '4th Down Ratio': pd.Series([run_plays_4D/len(all_plays), pass_plays_4D/len(all_plays)], index=play_usage),\n",
    "                    'All Downs': pd.Series([all_runs, all_pass], index=play_usage), \n",
    "                    'Percentage of All Plays': pd.Series([all_runs/len(all_plays), all_pass/len(all_plays)], index=play_usage)}\n",
    "display(pd.DataFrame(runs_and_passes))"
   ]
  },
  {
   "cell_type": "code",
   "execution_count": null,
   "id": "355604f9",
   "metadata": {},
   "outputs": [],
   "source": [
    "nan"
   ]
  }
 ],
 "metadata": {},
 "nbformat": 4,
 "nbformat_minor": 5
}
