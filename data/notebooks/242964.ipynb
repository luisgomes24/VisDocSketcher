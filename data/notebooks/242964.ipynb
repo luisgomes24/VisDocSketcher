{
 "cells": [
  {
   "cell_type": "markdown",
   "id": "19a348d6",
   "metadata": {},
   "source": [
    "Data should improved. There are more missing values."
   ]
  },
  {
   "cell_type": "code",
   "execution_count": null,
   "id": "795d65c4",
   "metadata": {},
   "outputs": [],
   "source": [
    "# This Python 3 environment comes with many helpful analytics libraries installed\n",
    "# It is defined by the kaggle/python docker image: https://github.com/kaggle/docker-python\n",
    "# For example, here's several helpful packages to load in \n",
    "\n",
    "import numpy as np # linear algebra\n",
    "import pandas as pd # data processing, CSV file I/O (e.g. pd.read_csv)\n",
    "import pandas as pd\n",
    "import datetime as dt\n",
    "import matplotlib.pyplot as plt\n",
    "import scipy.stats\n",
    "import seaborn as sns\n",
    "import datetime\n",
    "from pylab import rcParams\n",
    "%matplotlib inline\n",
    "# Input data files are available in the \"../input/\" directory.\n",
    "# For example, running this (by clicking run or pressing Shift+Enter) will list the files in the input directory\n",
    "\n",
    "from subprocess import check_output\n",
    "print(check_output([\"ls\", \"../input\"]).decode(\"utf8\"))\n",
    "\n",
    "# Any results you write to the current directory are saved as output."
   ]
  },
  {
   "cell_type": "code",
   "execution_count": null,
   "id": "29c87206",
   "metadata": {},
   "outputs": [],
   "source": [
    "data = pd.read_csv(\"../input/testset.csv\",parse_dates=['datetime_utc'],skipinitialspace=True)"
   ]
  },
  {
   "cell_type": "code",
   "execution_count": null,
   "id": "4e2bbe00",
   "metadata": {},
   "outputs": [],
   "source": [
    "#lenght \n",
    "len(data)"
   ]
  },
  {
   "cell_type": "code",
   "execution_count": null,
   "id": "f504e2f8",
   "metadata": {},
   "outputs": [],
   "source": [
    "data.columns"
   ]
  },
  {
   "cell_type": "code",
   "execution_count": null,
   "id": "d634e69e",
   "metadata": {},
   "outputs": [],
   "source": [
    "#'Formatted Date' transformation:\n",
    "data['Date'] = pd.to_datetime(data['datetime_utc'])\n",
    "data['year'] = data['Date'].dt.year\n",
    "data['month'] = data['Date'].dt.month\n",
    "data['day'] = data['Date'].dt.day\n",
    "data['hour'] = data['Date'].dt.hour\n"
   ]
  },
  {
   "cell_type": "markdown",
   "id": "41120aed",
   "metadata": {},
   "source": [
    "**Delh Average Humidity by year**"
   ]
  },
  {
   "cell_type": "code",
   "execution_count": null,
   "id": "5123ea4e",
   "metadata": {},
   "outputs": [],
   "source": [
    "year_humi = data.groupby(data.year).mean()\n",
    "pd.stats.moments.ewma(year_humi._hum, 5).plot()\n",
    "year_humi._hum.plot(linewidth=1)\n",
    "plt.title('Delh Average Humidity by year')\n",
    "plt.xlabel('year')"
   ]
  },
  {
   "cell_type": "markdown",
   "id": "c3579fd7",
   "metadata": {},
   "source": [
    "**Delhi Average Heat by year**"
   ]
  },
  {
   "cell_type": "code",
   "execution_count": null,
   "id": "9b5560be",
   "metadata": {},
   "outputs": [],
   "source": [
    "year_heat = data.groupby(data.year).mean()\n",
    "pd.stats.moments.ewma(year_heat._heatindexm , 5).plot()\n",
    "year_heat._heatindexm .plot(linewidth=1)\n",
    "plt.title('Delhi Average Heat by year')\n",
    "plt.xlabel('year')"
   ]
  },
  {
   "cell_type": "markdown",
   "id": "5a40d072",
   "metadata": {},
   "source": [
    "nan"
   ]
  },
  {
   "cell_type": "code",
   "execution_count": null,
   "id": "041d18f5",
   "metadata": {},
   "outputs": [],
   "source": [
    "year_rain = data.groupby(data.year).mean()\n",
    "pd.stats.moments.ewma(year_rain._rain, 5).plot()\n",
    "year_rain._rain.plot(linewidth=1)\n",
    "plt.title('Delhi Average Rain by year')\n",
    "plt.xlabel('year')"
   ]
  },
  {
   "cell_type": "markdown",
   "id": "6ad6cac4",
   "metadata": {},
   "source": [
    "**Delhi Heat**"
   ]
  },
  {
   "cell_type": "code",
   "execution_count": null,
   "id": "0be9160b",
   "metadata": {},
   "outputs": [],
   "source": [
    "p = sns.stripplot(data=data, x='year', y='_heatindexm');\n",
    "p.set(title='Delhi Heat')\n",
    "dec_ticks = [y if not x%20 else '' for x,y in enumerate(p.get_xticklabels())]\n",
    "p.set(xticklabels=dec_ticks)"
   ]
  },
  {
   "cell_type": "code",
   "execution_count": null,
   "id": "adbfd3dc",
   "metadata": {},
   "outputs": [],
   "source": [
    "#This code copied and modified, Code Owner Dont Know\n",
    "#Drawing a heatmap\n",
    "def facet_heatmap(data, color, **kws):\n",
    "    values=data.columns.values[3]\n",
    "    data = data.pivot(index='day', columns='hour', values=values)\n",
    "    sns.heatmap(data, cmap='coolwarm', **kws)  \n",
    "\n",
    "#Joining heatmaps of every month in a year \n",
    "def weather_calendar(year,weather): \n",
    "    dfyear = data[data['year']==year][['month', 'day', 'hour', weather]]\n",
    "    vmin=dfyear[weather].min()\n",
    "    vmax=dfyear[weather].max()\n",
    "    with sns.plotting_context(font_scale=12):\n",
    "        g = sns.FacetGrid(dfyear,col=\"month\", col_wrap=3) #One heatmap per month\n",
    "        g = g.map_dataframe(facet_heatmap,vmin=vmin, vmax=vmax)\n",
    "        g.set_axis_labels('Hour', 'Day')\n",
    "        plt.subplots_adjust(top=0.9)\n",
    "        g.fig.suptitle('%s Calendar. Year: %s.' %(weather, year), fontsize=18)\n"
   ]
  },
  {
   "cell_type": "code",
   "execution_count": null,
   "id": "1ff63491",
   "metadata": {},
   "outputs": [],
   "source": [
    "weather_calendar(2006,'_hum')"
   ]
  },
  {
   "cell_type": "code",
   "execution_count": null,
   "id": "a83c943c",
   "metadata": {},
   "outputs": [],
   "source": [
    "weather_calendar(2006,'_rain')"
   ]
  },
  {
   "cell_type": "code",
   "execution_count": null,
   "id": "f62e7352",
   "metadata": {},
   "outputs": [],
   "source": [
    "weather_calendar(2006,'_fog')"
   ]
  },
  {
   "cell_type": "code",
   "execution_count": null,
   "id": "c8cf1f52",
   "metadata": {},
   "outputs": [],
   "source": [
    "nan"
   ]
  }
 ],
 "metadata": {},
 "nbformat": 4,
 "nbformat_minor": 5
}
