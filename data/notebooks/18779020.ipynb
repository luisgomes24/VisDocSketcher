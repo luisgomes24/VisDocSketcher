{
 "cells": [
  {
   "cell_type": "markdown",
   "id": "7a98118f",
   "metadata": {},
   "source": [
    "**Import file training dari Kaggle input**"
   ]
  },
  {
   "cell_type": "code",
   "execution_count": null,
   "id": "185fa259",
   "metadata": {},
   "outputs": [],
   "source": [
    "import os\n",
    "from sklearn.metrics import classification_report, confusion_matrix\n",
    "try:\n",
    "  # The %tensorflow_version magic only works in colab.\n",
    "  %tensorflow_version 2.x\n",
    "except Exception:\n",
    "  pass\n",
    "import tensorflow as tf\n",
    "\n",
    "import os\n",
    "\n",
    "for dirname, _, filenames in os.walk('/kaggle/input'):\n",
    "    for filename in filenames:\n",
    "        print(os.path.join(dirname, filename))\n"
   ]
  },
  {
   "cell_type": "markdown",
   "id": "08670313",
   "metadata": {},
   "source": [
    "**Import Kebutuhan Plugin**"
   ]
  },
  {
   "cell_type": "code",
   "execution_count": null,
   "id": "d106ddce",
   "metadata": {},
   "outputs": [],
   "source": [
    "# Ignore  the warnings\n",
    "import warnings\n",
    "warnings.filterwarnings('always')\n",
    "warnings.filterwarnings('ignore')\n",
    "\n",
    "# data visualisation and manipulation\n",
    "import numpy as np\n",
    "import pandas as pd\n",
    "import matplotlib.pyplot as plt\n",
    "from matplotlib import style\n",
    "import seaborn as sns\n",
    " \n",
    "#configure\n",
    "# sets matplotlib to inline and displays graphs below the corressponding cell.\n",
    "%matplotlib inline  \n",
    "style.use('fivethirtyeight')\n",
    "sns.set(style='whitegrid',color_codes=True)\n",
    "\n",
    "#model selection\n",
    "from sklearn.model_selection import train_test_split\n",
    "from sklearn.model_selection import KFold\n",
    "from sklearn.metrics import accuracy_score,precision_score,recall_score,confusion_matrix,classification_report,roc_curve,roc_auc_score\n",
    "from sklearn.model_selection import GridSearchCV\n",
    "from sklearn.preprocessing import LabelEncoder\n",
    "\n",
    "#preprocess.\n",
    "from keras.preprocessing.image import ImageDataGenerator\n",
    "\n",
    "#dl libraraies\n",
    "from keras import backend as K\n",
    "from keras.models import Sequential\n",
    "from keras.layers import Dense\n",
    "from keras.optimizers import Adam,SGD,Adagrad,Adadelta,RMSprop\n",
    "from tensorflow.keras.utils import to_categorical\n",
    "\n",
    "# specifically for cnn\n",
    "from keras.layers import Dropout, Flatten,Activation\n",
    "from keras.layers import Conv2D, MaxPooling2D, BatchNormalization\n",
    " \n",
    "import tensorflow as tf\n",
    "import random as rn\n",
    "\n",
    "# specifically for manipulating zipped images and getting numpy arrays of pixel values of images.\n",
    "import cv2                  \n",
    "import numpy as np  \n",
    "import itertools\n",
    "from tqdm import tqdm\n",
    "import os                   \n",
    "from random import shuffle  \n",
    "from zipfile import ZipFile\n",
    "from PIL import Image"
   ]
  },
  {
   "cell_type": "markdown",
   "id": "35578afa",
   "metadata": {},
   "source": [
    "**Deklarasi PATH gambar**"
   ]
  },
  {
   "cell_type": "code",
   "execution_count": null,
   "id": "b209a3a2",
   "metadata": {},
   "outputs": [],
   "source": [
    "X = []\n",
    "Z = []\n",
    "IMG_SIZE = 75\n",
    "pisang_matang = '../input/datapisang/pisang/pisang matang'\n",
    "pisang_mentah = '../input/datapisang/pisang/pisang mentah'"
   ]
  },
  {
   "cell_type": "markdown",
   "id": "b749c24d",
   "metadata": {},
   "source": [
    "**Membuat variable**"
   ]
  },
  {
   "cell_type": "code",
   "execution_count": null,
   "id": "0fb36943",
   "metadata": {},
   "outputs": [],
   "source": [
    "def assign_label(img,maks):\n",
    "    return maks"
   ]
  },
  {
   "cell_type": "markdown",
   "id": "e6c42690",
   "metadata": {},
   "source": [
    "**Menyatukan data menjadi path atau satuan dan memberikan label**"
   ]
  },
  {
   "cell_type": "code",
   "execution_count": null,
   "id": "d5cb73ad",
   "metadata": {},
   "outputs": [],
   "source": [
    "def make_train_data(maks,DIR):\n",
    "    for img in tqdm(os.listdir(DIR)):\n",
    "        label=assign_label(img,maks)\n",
    "        path = os.path.join(DIR,img)\n",
    "        img = cv2.imread(path,cv2.IMREAD_COLOR)\n",
    "        img = cv2.resize(img, (IMG_SIZE,IMG_SIZE))\n",
    "        \n",
    "        X.append(np.array(img))\n",
    "        Z.append(str(label))"
   ]
  },
  {
   "cell_type": "markdown",
   "id": "77602d1b",
   "metadata": {},
   "source": [
    "**Membuat train data path dan penamaan**"
   ]
  },
  {
   "cell_type": "code",
   "execution_count": null,
   "id": "84d96abb",
   "metadata": {},
   "outputs": [],
   "source": [
    "make_train_data('pisang_matang', pisang_matang)\n",
    "print(len(X))\n",
    "\n",
    "make_train_data('pisang_mentah', pisang_mentah)\n",
    "print(len(X))"
   ]
  },
  {
   "cell_type": "markdown",
   "id": "92214927",
   "metadata": {},
   "source": [
    "**visualisasi sampel data gambar beserta label**"
   ]
  },
  {
   "cell_type": "code",
   "execution_count": null,
   "id": "1118d6c1",
   "metadata": {},
   "outputs": [],
   "source": [
    "fig,ax=plt.subplots(12,2)\n",
    "fig.set_size_inches(20,20)\n",
    "for i in range(12):\n",
    "    for j in range (2):\n",
    "        l=rn.randint(0,len(Z))\n",
    "        ax[i,j].imshow(X[l])\n",
    "        ax[i,j].set_title('Dataset: '+Z[l])\n",
    "        \n",
    "plt.tight_layout()"
   ]
  },
  {
   "cell_type": "markdown",
   "id": "f6308f2b",
   "metadata": {},
   "source": [
    "**Membuat pangilan singkat untuk variable**"
   ]
  },
  {
   "cell_type": "code",
   "execution_count": null,
   "id": "d6f55eb7",
   "metadata": {},
   "outputs": [],
   "source": [
    "le = LabelEncoder()\n",
    "Y = le.fit_transform(Z)\n",
    "Y = to_categorical(Y,20)\n",
    "X = np.array(X)\n",
    "X = X/255"
   ]
  },
  {
   "cell_type": "markdown",
   "id": "831f0dd1",
   "metadata": {},
   "source": [
    "**Membagi dataset kedalam data train dan data test split data**"
   ]
  },
  {
   "cell_type": "code",
   "execution_count": null,
   "id": "61493b5d",
   "metadata": {},
   "outputs": [],
   "source": [
    "x_train,x_test,y_train,y_test=train_test_split(X,Y,test_size=0.2,random_state=2)"
   ]
  },
  {
   "cell_type": "markdown",
   "id": "34ab84a5",
   "metadata": {},
   "source": [
    "**Mengambil data secara acak yang digunakan pada train dan test data**"
   ]
  },
  {
   "cell_type": "code",
   "execution_count": null,
   "id": "2eac43d3",
   "metadata": {},
   "outputs": [],
   "source": [
    "np.random.seed(20)\n",
    "rn.seed(20)\n",
    "tf.random.set_seed(20)"
   ]
  },
  {
   "cell_type": "markdown",
   "id": "9fdad4ef",
   "metadata": {},
   "source": [
    "**Membuat model data CNN untuk sequential tabel atau summary data**"
   ]
  },
  {
   "cell_type": "code",
   "execution_count": null,
   "id": "1bd69191",
   "metadata": {},
   "outputs": [],
   "source": [
    "model = Sequential()\n",
    "model.add(Conv2D(filters = 32, kernel_size = (17,17),padding = 'Same',activation ='relu', input_shape = (IMG_SIZE,IMG_SIZE,3)))\n",
    "model.add(MaxPooling2D(pool_size=(2,2)))\n",
    "\n",
    "model.add(Conv2D(filters = 64, kernel_size = (3,3),padding = 'Same',activation ='relu'))\n",
    "model.add(MaxPooling2D(pool_size=(2,2), strides=(2,2)))\n",
    " \n",
    "model.add(Conv2D(filters =96, kernel_size = (3,3),padding = 'Same',activation ='relu'))\n",
    "model.add(MaxPooling2D(pool_size=(2,2), strides=(2,2)))\n",
    "\n",
    "model.add(Conv2D(filters = 96, kernel_size = (3,3),padding = 'Same',activation ='relu'))\n",
    "model.add(MaxPooling2D(pool_size=(2,2), strides=(2,2)))\n",
    "\n",
    "model.add(Flatten())\n",
    "model.add(Dense(512))\n",
    "model.add(Activation('relu'))\n",
    "model.add(Dense(20, activation = \"softmax\"))"
   ]
  },
  {
   "cell_type": "markdown",
   "id": "be4373c8",
   "metadata": {},
   "source": [
    "**Membuat val akurasi pada saat epoch data**"
   ]
  },
  {
   "cell_type": "code",
   "execution_count": null,
   "id": "dc3e4cc0",
   "metadata": {},
   "outputs": [],
   "source": [
    "from keras.callbacks import ReduceLROnPlateau\n",
    "red_lr= ReduceLROnPlateau(monitor='val_acc',patience=3,verbose=1,factor=0.1)"
   ]
  },
  {
   "cell_type": "markdown",
   "id": "8a982667",
   "metadata": {},
   "source": [
    "**Membuat Data Generator untuk Augmentasi Data**"
   ]
  },
  {
   "cell_type": "code",
   "execution_count": null,
   "id": "175f9f02",
   "metadata": {},
   "outputs": [],
   "source": [
    "datagen = ImageDataGenerator(\n",
    "        featurewise_center=False,  # set input mean to 0 over the dataset\n",
    "        samplewise_center=False,  # set each sample mean to 0\n",
    "        featurewise_std_normalization=False,  # divide inputs by std of the dataset\n",
    "        samplewise_std_normalization=False,  # divide each input by its std\n",
    "        zca_whitening=False,  # apply ZCA whitening\n",
    "        rotation_range=10,  # secara acak merotasi gambar 10 derajat(degrees, 0 to 180)\n",
    "        zoom_range = 0.1, # secara acak  zoom atau memperbesar gambar 10 persen \n",
    "        width_shift_range=0.2,  # secara acak menggeser gambar horizontal 20 persen\n",
    "        height_shift_range=0.2,  # secara acak menggeser gambar vertikal 20 persen\n",
    "        horizontal_flip=True,  # secara acak membalik gambar\n",
    "        vertical_flip=False)  # randomly flip images\n",
    "datagen.fit(x_train)"
   ]
  },
  {
   "cell_type": "markdown",
   "id": "f8fd0b96",
   "metadata": {},
   "source": [
    "**Memberikan keterangan loss akurasi dan metric akurasi**"
   ]
  },
  {
   "cell_type": "code",
   "execution_count": null,
   "id": "a94be870",
   "metadata": {},
   "outputs": [],
   "source": [
    "model.compile(optimizer=Adam(lr=0.001),loss='categorical_crossentropy',metrics=['accuracy'])"
   ]
  },
  {
   "cell_type": "markdown",
   "id": "f6ea6d68",
   "metadata": {},
   "source": [
    "**Proses Train Data**"
   ]
  },
  {
   "cell_type": "code",
   "execution_count": null,
   "id": "f51a5c79",
   "metadata": {},
   "outputs": [],
   "source": [
    "batch = 20\n",
    "epoch = 50\n",
    "step = np.ceil(x_train.shape[0] / batch)\n",
    "History = model.fit_generator(\n",
    "    datagen.flow(x_train,y_train, batch_size = batch),\n",
    "    epochs = epoch,\n",
    "    validation_data = (x_test,y_test),\n",
    "    verbose = 1,\n",
    "    steps_per_epoch = step\n",
    ")"
   ]
  },
  {
   "cell_type": "markdown",
   "id": "72a6a20c",
   "metadata": {},
   "source": [
    "**Menyimpan hasil model ke format .h5**"
   ]
  },
  {
   "cell_type": "code",
   "execution_count": null,
   "id": "f61b6d7d",
   "metadata": {},
   "outputs": [],
   "source": [
    "model.save('/kaggle/working/modeldeteksikematanganpisang.h5')\n",
    "%cd /kaggle/working/"
   ]
  },
  {
   "cell_type": "markdown",
   "id": "e8e92a6b",
   "metadata": {},
   "source": [
    "**Konversi model h5 ke TFlite**"
   ]
  },
  {
   "cell_type": "code",
   "execution_count": null,
   "id": "5a4c569e",
   "metadata": {},
   "outputs": [],
   "source": [
    "saved_model_dir = '/kaggle/working/'\n",
    "tf.saved_model.save(model, saved_model_dir)\n",
    "\n",
    "converter = tf.lite.TFLiteConverter.from_saved_model(saved_model_dir)\n",
    "tflite_model = converter.convert()\n",
    "\n",
    "with open('model.tflite', 'wb') as f:\n",
    "  f.write(tflite_model)\n",
    "\n",
    "target_names = ['pisang_matang','pisang_mentah']\n",
    "labels = '\\n'.join(target_names)\n",
    "\n",
    "with open('labels.txt', 'w') as f:\n",
    "  f.write(labels)"
   ]
  },
  {
   "cell_type": "markdown",
   "id": "8b4727e0",
   "metadata": {},
   "source": [
    "**Menampilkan squential tabel**"
   ]
  },
  {
   "cell_type": "code",
   "execution_count": null,
   "id": "d1da684c",
   "metadata": {},
   "outputs": [],
   "source": [
    "model.summary()"
   ]
  },
  {
   "cell_type": "markdown",
   "id": "cc49787e",
   "metadata": {},
   "source": [
    "**Menampilkan *Confusion Matrix***"
   ]
  },
  {
   "cell_type": "code",
   "execution_count": null,
   "id": "3fabc208",
   "metadata": {},
   "outputs": [],
   "source": [
    "Y_pred = model.predict_generator(x_test)\n",
    "y_pred = np.argmax(Y_pred, axis=1)\n",
    "y_test = np.argmax(y_test, axis=1)\n",
    "cm = confusion_matrix(y_test, y_pred)\n",
    "print(cm)"
   ]
  },
  {
   "cell_type": "markdown",
   "id": "fe819fa2",
   "metadata": {},
   "source": [
    "**Menampilkan *Classification Report***"
   ]
  },
  {
   "cell_type": "code",
   "execution_count": null,
   "id": "653664a6",
   "metadata": {},
   "outputs": [],
   "source": [
    "print(classification_report(y_test, y_pred, target_names=target_names))"
   ]
  },
  {
   "cell_type": "markdown",
   "id": "7842dde0",
   "metadata": {},
   "source": [
    "**Menampilkan *Normalized Confusion matrix* dalam bentuk tabel**"
   ]
  },
  {
   "cell_type": "code",
   "execution_count": null,
   "id": "8aefd296",
   "metadata": {},
   "outputs": [],
   "source": [
    "def plot_confusion_matrix(cm, classes, normalize=True, title='Confusion matrix', cmap=plt.cm.Blues):\n",
    "\n",
    "    \"\"\"\n",
    "    This function prints and plots the confusion matrix.\n",
    "    Normalization can be applied by setting `normalize=True`.\n",
    "    \"\"\"\n",
    "\n",
    "    plt.figure(figsize=(15,15))\n",
    "    plt.imshow(cm, interpolation='nearest', cmap=cmap)\n",
    "    plt.title(title)\n",
    "    plt.colorbar()\n",
    "\n",
    "    tick_marks = np.arange(len(classes))\n",
    "    plt.xticks(tick_marks, classes, rotation=90)\n",
    "    plt.yticks(tick_marks, classes)\n",
    "\n",
    "    if normalize:\n",
    "        cm = cm.astype('float') / cm.sum(axis=1)[:, np.newaxis]\n",
    "        cm = np.around(cm, decimals=2)\n",
    "        cm[np.isnan(cm)] = 0.0\n",
    "        print(\"Normalized confusion matrix\")\n",
    "    else:\n",
    "        print('Confusion matrix, without normalization')\n",
    "    thresh = cm.max() / 2.\n",
    "\n",
    "    for i, j in itertools.product(range(cm.shape[0]), range(cm.shape[1])):\n",
    "        plt.text(j, i, cm[i, j],\n",
    "                 horizontalalignment=\"center\",\n",
    "                 color=\"white\" if cm[i, j] > thresh else \"black\")\n",
    "    plt.tight_layout()\n",
    "    plt.ylabel('True label')\n",
    "    plt.xlabel('Predicted label')"
   ]
  },
  {
   "cell_type": "code",
   "execution_count": null,
   "id": "d9a973c3",
   "metadata": {},
   "outputs": [],
   "source": [
    "plot_confusion_matrix(cm, target_names, title='Confusion Matrix')"
   ]
  },
  {
   "cell_type": "markdown",
   "id": "9ca7c7b7",
   "metadata": {},
   "source": [
    "**Memanggil model .h5 yang telah ditraining sebelumnya**"
   ]
  },
  {
   "cell_type": "code",
   "execution_count": null,
   "id": "1a313b33",
   "metadata": {},
   "outputs": [],
   "source": [
    "new_model = tf.keras.models.load_model('/kaggle/working/modeldeteksikematanganpisang.h5')"
   ]
  },
  {
   "cell_type": "markdown",
   "id": "9d1341c0",
   "metadata": {},
   "source": [
    "**Menampilkan sequential tabel**"
   ]
  },
  {
   "cell_type": "code",
   "execution_count": null,
   "id": "c6601a82",
   "metadata": {},
   "outputs": [],
   "source": [
    "new_model.summary()"
   ]
  },
  {
   "cell_type": "markdown",
   "id": "56710474",
   "metadata": {},
   "source": [
    "**Menampilkan grafik Loss**"
   ]
  },
  {
   "cell_type": "code",
   "execution_count": null,
   "id": "cde26665",
   "metadata": {},
   "outputs": [],
   "source": [
    "plt.plot(History.history['loss'])\n",
    "plt.plot(History.history['val_loss'])\n",
    "plt.title('Model Loss')\n",
    "plt.ylabel('Loss')\n",
    "plt.xlabel('Epochs')\n",
    "plt.legend(['train', 'test'])\n",
    "plt.show()"
   ]
  },
  {
   "cell_type": "markdown",
   "id": "26041e93",
   "metadata": {},
   "source": [
    "**Menampilkan grafik Accuracy**"
   ]
  },
  {
   "cell_type": "code",
   "execution_count": null,
   "id": "a2817c78",
   "metadata": {},
   "outputs": [],
   "source": [
    "plt.plot(History.history['accuracy'])\n",
    "plt.plot(History.history['val_accuracy'])\n",
    "plt.title('Model Accuracy')\n",
    "plt.ylabel('Accuracy')\n",
    "plt.xlabel('Epochs')\n",
    "plt.legend(['train', 'test'])\n",
    "plt.show()"
   ]
  },
  {
   "cell_type": "markdown",
   "id": "50bc14f4",
   "metadata": {},
   "source": [
    "**Membuat variabel untuk memulai prediksi**"
   ]
  },
  {
   "cell_type": "code",
   "execution_count": null,
   "id": "91178dd2",
   "metadata": {},
   "outputs": [],
   "source": [
    "pred=new_model.predict(x_test)\n",
    "pred_digits=np.argmax(pred,axis=1)"
   ]
  },
  {
   "cell_type": "markdown",
   "id": "5edb8466",
   "metadata": {},
   "source": [
    "**Menyimpan beberapa indeks yang salah diklasifikasikan**"
   ]
  },
  {
   "cell_type": "code",
   "execution_count": null,
   "id": "f94f7929",
   "metadata": {},
   "outputs": [],
   "source": [
    "i=0\n",
    "prop_class=[]\n",
    "mis_class=[]\n",
    "\n",
    "for i in range(len(y_test)):\n",
    "    if(np.argmax(y_test[i])==pred_digits[i]):\n",
    "        prop_class.append(i)\n",
    "    if(len(prop_class)==8):\n",
    "        break\n",
    "\n",
    "i=0\n",
    "for i in range(len(y_test)):\n",
    "    if(not np.argmax(y_test[i])==pred_digits[i]):\n",
    "        mis_class.append(i)\n",
    "    if(len(mis_class)==8):\n",
    "        break"
   ]
  },
  {
   "cell_type": "markdown",
   "id": "3960d220",
   "metadata": {},
   "source": [
    "**Memanggil dan menampilkan gambar yang sudah di prediksi**"
   ]
  },
  {
   "cell_type": "code",
   "execution_count": null,
   "id": "679aa0c4",
   "metadata": {},
   "outputs": [],
   "source": [
    "warnings.filterwarnings('always')\n",
    "warnings.filterwarnings('ignore')\n",
    "\n",
    "count=0\n",
    "fig,ax=plt.subplots(4,2)\n",
    "fig.set_size_inches(20,20)\n",
    "for i in range (4):\n",
    "    for j in range (2):\n",
    "        ax[i,j].imshow(x_test[prop_class[count]])\n",
    "      \n",
    "        count+=1"
   ]
  },
  {
   "cell_type": "code",
   "execution_count": null,
   "id": "7350d64a",
   "metadata": {},
   "outputs": [],
   "source": [
    "warnings.filterwarnings('always')\n",
    "warnings.filterwarnings('ignore')\n",
    "\n",
    "count=0\n",
    "fig,ax=plt.subplots(4,2)\n",
    "fig.set_size_inches(20,20)\n",
    "for i in range (4):\n",
    "    for j in range (2):\n",
    "        ax[i,j].imshow(x_test[mis_class[count]])\n",
    "        plt.tight_layout()\n",
    "        count+=1"
   ]
  },
  {
   "cell_type": "code",
   "execution_count": null,
   "id": "43b22c29",
   "metadata": {},
   "outputs": [],
   "source": [
    "warnings.filterwarnings('always')\n",
    "warnings.filterwarnings('ignore')\n",
    "\n",
    "count=0\n",
    "fig,ax=plt.subplots(4,2)\n",
    "fig.set_size_inches(20,20)\n",
    "for i in range (4):\n",
    "    for j in range (2):\n",
    "        ax[i,j].imshow(x_test[prop_class[count]])\n",
    "        ax[i,j].set_title(\"Detection : \"+str(le.inverse_transform([pred_digits[prop_class[count]]])))\n",
    "        plt.tight_layout()\n",
    "        count+=1"
   ]
  },
  {
   "cell_type": "code",
   "execution_count": null,
   "id": "be1e67a7",
   "metadata": {},
   "outputs": [],
   "source": [
    "#new_model.fit(x_train,y_train,epochs=epoch,batch_size=batch,validation_data = (x_test,y_test))"
   ]
  }
 ],
 "metadata": {},
 "nbformat": 4,
 "nbformat_minor": 5
}
