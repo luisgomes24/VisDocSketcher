{
 "cells": [
  {
   "cell_type": "code",
   "execution_count": null,
   "id": "29bb2d16",
   "metadata": {},
   "outputs": [],
   "source": [
    "import pandas as pd\n",
    "import numpy as np\n",
    "import matplotlib.pyplot as plt\n",
    "%matplotlib inline\n",
    "import seaborn as sns"
   ]
  },
  {
   "cell_type": "code",
   "execution_count": null,
   "id": "53e389b7",
   "metadata": {},
   "outputs": [],
   "source": [
    "from sklearn.datasets import load_iris"
   ]
  },
  {
   "cell_type": "code",
   "execution_count": null,
   "id": "0714f8e9",
   "metadata": {},
   "outputs": [],
   "source": [
    "from sklearn.cluster import KMeans"
   ]
  },
  {
   "cell_type": "code",
   "execution_count": null,
   "id": "118b9b99",
   "metadata": {},
   "outputs": [],
   "source": [
    "df=pd.DataFrame(load_iris().data[:,2:],columns=['Petal length','Petal Width'])"
   ]
  },
  {
   "cell_type": "code",
   "execution_count": null,
   "id": "16b13eae",
   "metadata": {},
   "outputs": [],
   "source": [
    "df.head()"
   ]
  },
  {
   "cell_type": "code",
   "execution_count": null,
   "id": "c813db77",
   "metadata": {},
   "outputs": [],
   "source": [
    "plt.scatter(df['Petal length'],df['Petal Width'])"
   ]
  },
  {
   "cell_type": "code",
   "execution_count": null,
   "id": "180fbff1",
   "metadata": {},
   "outputs": [],
   "source": [
    "km=KMeans(n_clusters=3)\n",
    "df['cluster']=km.fit_predict(df[['Petal length','Petal Width']])"
   ]
  },
  {
   "cell_type": "code",
   "execution_count": null,
   "id": "08ddbaf4",
   "metadata": {},
   "outputs": [],
   "source": [
    "df['cluster']"
   ]
  },
  {
   "cell_type": "code",
   "execution_count": null,
   "id": "fb1d0f86",
   "metadata": {},
   "outputs": [],
   "source": [
    "km.cluster_centers_"
   ]
  },
  {
   "cell_type": "code",
   "execution_count": null,
   "id": "a0dde02b",
   "metadata": {},
   "outputs": [],
   "source": [
    "df1=df[df['cluster']==0]\n",
    "df2=df[df['cluster']==1]\n",
    "df3=df[df['cluster']==2]\n",
    "sns.scatterplot(data=df1,x='Petal length',y='Petal Width')\n",
    "sns.scatterplot(data=df2,x='Petal length',y='Petal Width')\n",
    "sns.scatterplot(data=df3,x='Petal length',y='Petal Width')\n",
    "plt.scatter(km.cluster_centers_[:,0],km.cluster_centers_[:,1],marker='*',label='centroid')\n",
    "plt.xlabel('Petal Length')\n",
    "plt.ylabel('Petal Width')\n",
    "plt.legend()\n",
    "plt.show()"
   ]
  },
  {
   "cell_type": "code",
   "execution_count": null,
   "id": "a8f4ca1e",
   "metadata": {},
   "outputs": [],
   "source": [
    "from sklearn.preprocessing import MinMaxScaler"
   ]
  },
  {
   "cell_type": "code",
   "execution_count": null,
   "id": "2db2db10",
   "metadata": {},
   "outputs": [],
   "source": [
    "df4=df.copy()"
   ]
  },
  {
   "cell_type": "code",
   "execution_count": null,
   "id": "247b4aea",
   "metadata": {},
   "outputs": [],
   "source": [
    "scaler = MinMaxScaler()\n",
    "df4['Petal length']=scaler.fit_transform(df4[['Petal length']])\n",
    "df4['Petal Width']=scaler.fit_transform(df4[['Petal Width']])"
   ]
  },
  {
   "cell_type": "code",
   "execution_count": null,
   "id": "a9cf8795",
   "metadata": {},
   "outputs": [],
   "source": [
    "kms=KMeans(n_clusters=3)\n",
    "df4['cluster']=kms.fit_predict(df4[['Petal length','Petal Width']])"
   ]
  },
  {
   "cell_type": "code",
   "execution_count": null,
   "id": "f079058d",
   "metadata": {},
   "outputs": [],
   "source": [
    "kms.cluster_centers_"
   ]
  },
  {
   "cell_type": "code",
   "execution_count": null,
   "id": "c39875eb",
   "metadata": {},
   "outputs": [],
   "source": [
    "df5=df4[df4['cluster']==0]\n",
    "df6=df4[df4['cluster']==1]\n",
    "df7=df4[df4['cluster']==2]\n",
    "sns.scatterplot(data=df5,x='Petal length',y='Petal Width')\n",
    "sns.scatterplot(data=df6,x='Petal length',y='Petal Width')\n",
    "sns.scatterplot(data=df7,x='Petal length',y='Petal Width')\n",
    "plt.scatter(kms.cluster_centers_[:,0],kms.cluster_centers_[:,1],marker='*',label='centroid')\n",
    "plt.xlabel('Petal Length')\n",
    "plt.ylabel('Petal Width')\n",
    "plt.legend()\n",
    "plt.show()"
   ]
  },
  {
   "cell_type": "code",
   "execution_count": null,
   "id": "dcd01584",
   "metadata": {},
   "outputs": [],
   "source": [
    "sse=[]\n",
    "ssem=[]\n",
    "k_rng=range(1,11)\n",
    "for k in k_rng:\n",
    "    kmk=KMeans(n_clusters=k)\n",
    "    kmk.fit(df[['Petal length','Petal Width']])\n",
    "    sse.append(kmk.inertia_)\n",
    "    kmks=KMeans(n_clusters=k)\n",
    "    kmks.fit(df4[['Petal length','Petal Width']])\n",
    "    ssem.append(kmks.inertia_)"
   ]
  },
  {
   "cell_type": "code",
   "execution_count": null,
   "id": "3e94ea80",
   "metadata": {},
   "outputs": [],
   "source": [
    "sns.lineplot(sse)\n",
    "sns.lineplot(ssem)\n",
    "plt.grid(True)\n",
    "plt.xlabel('K')\n",
    "plt.ylabel('Sum of Squared Error')\n",
    "plt.title('Elbow Chart')\n",
    "plt.show()"
   ]
  },
  {
   "cell_type": "markdown",
   "id": "80ded3c8",
   "metadata": {},
   "source": [
    "2 is the perfect value use."
   ]
  },
  {
   "cell_type": "code",
   "execution_count": null,
   "id": "4d255655",
   "metadata": {},
   "outputs": [],
   "source": [
    "df9=df.copy()"
   ]
  },
  {
   "cell_type": "code",
   "execution_count": null,
   "id": "08ef5fea",
   "metadata": {},
   "outputs": [],
   "source": [
    "kmf=KMeans(n_clusters=2)\n",
    "df9['cluster']=kmf.fit_predict(df9[['Petal length','Petal Width']])"
   ]
  },
  {
   "cell_type": "code",
   "execution_count": null,
   "id": "e1ec9d6c",
   "metadata": {},
   "outputs": [],
   "source": [
    "df9.head()"
   ]
  },
  {
   "cell_type": "code",
   "execution_count": null,
   "id": "573c6724",
   "metadata": {},
   "outputs": [],
   "source": [
    "df9.cluster.unique()"
   ]
  },
  {
   "cell_type": "code",
   "execution_count": null,
   "id": "de540a56",
   "metadata": {},
   "outputs": [],
   "source": [
    "df10=df9[df9['cluster']==0]\n",
    "df11=df9[df9['cluster']==1]\n",
    "sns.scatterplot(data=df10,x='Petal length',y='Petal Width')\n",
    "sns.scatterplot(data=df11,x='Petal length',y='Petal Width')\n",
    "# sns.scatterplot(data=df7,x='Petal length',y='Petal Width')\n",
    "plt.scatter(kmf.cluster_centers_[:,0],kmf.cluster_centers_[:,1],marker='*',label='centroid')\n",
    "plt.xlabel('Petal Length')\n",
    "plt.ylabel('Petal Width')\n",
    "plt.legend()\n",
    "plt.show()"
   ]
  }
 ],
 "metadata": {},
 "nbformat": 4,
 "nbformat_minor": 5
}
