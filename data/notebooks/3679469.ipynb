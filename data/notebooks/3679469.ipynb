{
 "cells": [
  {
   "cell_type": "code",
   "execution_count": null,
   "id": "2eaecacc",
   "metadata": {},
   "outputs": [],
   "source": [
    "import numpy as np\n",
    "import pandas as pd\n",
    "from sklearn.preprocessing import LabelEncoder, MinMaxScaler, StandardScaler\n",
    "\n",
    "from keras.layers import Input, Dense, Activation, Embedding, concatenate, Flatten, Dropout\n",
    "from keras.regularizers import l1, l2\n",
    "from keras.models import Model\n",
    "\n",
    "from keras.optimizers import SGD\n",
    "\n",
    "from keras.callbacks import EarlyStopping, ModelCheckpoint\n"
   ]
  },
  {
   "cell_type": "code",
   "execution_count": null,
   "id": "ba2acdb2",
   "metadata": {},
   "outputs": [],
   "source": [
    "df = pd.read_csv('../input/train.csv')"
   ]
  },
  {
   "cell_type": "code",
   "execution_count": null,
   "id": "7e96c72f",
   "metadata": {},
   "outputs": [],
   "source": [
    "df.head()"
   ]
  },
  {
   "cell_type": "code",
   "execution_count": null,
   "id": "50bf7f1d",
   "metadata": {},
   "outputs": [],
   "source": [
    "df = df[ ['Survived','Pclass', 'Sex', 'Age', 'SibSp', 'Parch','Fare', 'Embarked'] ]\n",
    "df['Age'].fillna(df.Age.mean(), inplace=True)\n",
    "df['Fare'].fillna(df.Fare.mean(), inplace=True)\n",
    "df['Sex'] = LabelEncoder().fit_transform(  df['Sex'] )\n",
    "df['Embarked'] = LabelEncoder().fit_transform(  df['Embarked'].fillna('unknown') )\n",
    "\n",
    "\n",
    "for f in ['Pclass', 'Sex', 'Age', 'SibSp', 'Parch','Fare']:\n",
    "    df[f] = StandardScaler().fit_transform( df[f].values.reshape(-1,1)  )\n",
    "\n",
    "df.isnull().sum()"
   ]
  },
  {
   "cell_type": "code",
   "execution_count": null,
   "id": "33dc87c0",
   "metadata": {},
   "outputs": [],
   "source": [
    "train = df[:700].reset_index(drop=True)\n",
    "test  = df[700:].reset_index(drop=True)\n",
    "print(train.shape, test.shape)\n",
    "train_y = train.Survived.values\n",
    "train_X = train.drop('Survived', axis=1)\n",
    "test_y = test.Survived.values\n",
    "test_X = test.drop('Survived', axis=1)\n",
    "print(train_X.shape, test_X.shape)\n"
   ]
  },
  {
   "cell_type": "code",
   "execution_count": null,
   "id": "1a9c6d9d",
   "metadata": {},
   "outputs": [],
   "source": [
    "\n",
    "\n",
    "def prepare_data(df):\n",
    "    X = dict()\n",
    "    X['embedding'] = df['Embarked'].values\n",
    "    X['numeric'] = df.drop('Embarked', axis=1).values\n",
    "    return X\n",
    "\n",
    "train_keras = prepare_data(train_X)\n",
    "test_keras = prepare_data(test_X)\n",
    "\n",
    "    "
   ]
  },
  {
   "cell_type": "code",
   "execution_count": null,
   "id": "fd4d93fa",
   "metadata": {},
   "outputs": [],
   "source": [
    "def create_model():\n",
    "    np.random.seed(0)\n",
    "    \n",
    "    inpt_num = Input(shape=(6,) ,name='numeric' )\n",
    "    inpt_emb = Input(shape=(1,) ,name='embedding' )\n",
    "    \n",
    "    emb = Embedding( input_dim=df['Embarked'].max()+1, output_dim=5)(inpt_emb)\n",
    "    emb = Flatten()(emb)\n",
    "    x = concatenate( [inpt_num, emb] )\n",
    "    \n",
    "    x = Dense(100, kernel_regularizer=l2(1e-5)) (x)\n",
    "    x = Activation('relu') (x)\n",
    "    x = Dropout(.2) (x)\n",
    "    \n",
    "    x = Dense(1) (x)\n",
    "    x = Activation('sigmoid') (x)\n",
    "    \n",
    "    \n",
    "    \n",
    "    model = Model([inpt_num, inpt_emb], x)\n",
    "    \n",
    "    return model"
   ]
  },
  {
   "cell_type": "code",
   "execution_count": null,
   "id": "011e7d02",
   "metadata": {},
   "outputs": [],
   "source": [
    "model = create_model()\n",
    "model.summary()"
   ]
  },
  {
   "cell_type": "code",
   "execution_count": null,
   "id": "53480a78",
   "metadata": {},
   "outputs": [],
   "source": [
    "es = EarlyStopping(monitor='val_loss',mode='min', patience=5)\n",
    "mc = ModelCheckpoint( filepath='./weights.h5', monitor='val_loss',mode='min', save_best_only=True )\n",
    "\n",
    "model = create_model()\n",
    "\n",
    "model.compile( optimizer=SGD(), loss='mse', metrics=['accuracy'] )\n",
    "\n",
    "model.fit( x=train_keras, y=train_y, batch_size=32, epochs=10000000, verbose=1, callbacks=[es, mc],\n",
    "          validation_data=(test_keras, test_y), shuffle=True )\n"
   ]
  },
  {
   "cell_type": "code",
   "execution_count": null,
   "id": "8f6f19cb",
   "metadata": {},
   "outputs": [],
   "source": [
    "p  = model.predict( test_keras )\n",
    "from sklearn.metrics import mean_squared_error, accuracy_score\n",
    "print ( mean_squared_error( test_y, p), accuracy_score( test_y, p>.5) )\n",
    "\n",
    "#700/700 [==============================] - 0s 52us/step - loss: 0.1333 - acc: 0.8114 - val_loss: 0.1081 - val_acc: 0.8586\n",
    "#0.10784520996085677 0.8586387434554974"
   ]
  },
  {
   "cell_type": "code",
   "execution_count": null,
   "id": "bc92d97c",
   "metadata": {},
   "outputs": [],
   "source": [
    "model.load_weights('./weights.h5')\n",
    "p  = model.predict( test_keras )\n",
    "from sklearn.metrics import mean_squared_error, accuracy_score\n",
    "print ( mean_squared_error( test_y, p), accuracy_score( test_y, p>.5) )\n",
    "\n",
    "#0.1078 4520996085677 sans checkpoint\n",
    "#0.1078 1066959635068 avec checkpoint"
   ]
  },
  {
   "cell_type": "code",
   "execution_count": null,
   "id": "3957fc17",
   "metadata": {},
   "outputs": [],
   "source": [
    "nan"
   ]
  }
 ],
 "metadata": {},
 "nbformat": 4,
 "nbformat_minor": 5
}
