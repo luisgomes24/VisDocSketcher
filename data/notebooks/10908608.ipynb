{
 "cells": [
  {
   "cell_type": "code",
   "execution_count": null,
   "id": "0263e02e",
   "metadata": {},
   "outputs": [],
   "source": [
    "# This Python 3 environment comes with many helpful analytics libraries installed\n",
    "# It is defined by the kaggle/python Docker image: https://github.com/kaggle/docker-python\n",
    "# For example, here's several helpful packages to load\n",
    "\n",
    "import numpy as np # linear algebra\n",
    "import pandas as pd # data processing, CSV file I/O (e.g. pd.read_csv)\n",
    "\n",
    "# Input data files are available in the read-only \"../input/\" directory\n",
    "# For example, running this (by clicking run or pressing Shift+Enter) will list all files under the input directory\n",
    "\n",
    "import os\n",
    "for dirname, _, filenames in os.walk('/kaggle/input'):\n",
    "    for filename in filenames:\n",
    "        print(os.path.join(dirname, filename))\n",
    "\n",
    "# You can write up to 5GB to the current directory (/kaggle/working/) that gets preserved as output when you create a version using \"Save & Run All\" \n",
    "# You can also write temporary files to /kaggle/temp/, but they won't be saved outside of the current session"
   ]
  },
  {
   "cell_type": "code",
   "execution_count": null,
   "id": "f366bb19",
   "metadata": {},
   "outputs": [],
   "source": [
    "#Read_commaSeparatedValues\n",
    "train_data = pd.read_csv('/kaggle/input/titanic/train.csv')\n",
    "#Head returns first 5 of data set\n",
    "train_data.head()"
   ]
  },
  {
   "cell_type": "code",
   "execution_count": null,
   "id": "3e0810db",
   "metadata": {},
   "outputs": [],
   "source": [
    "test_data = pd.read_csv('/kaggle/input/titanic/test.csv')\n",
    "test_data.head()"
   ]
  },
  {
   "cell_type": "code",
   "execution_count": null,
   "id": "9572b6af",
   "metadata": {},
   "outputs": [],
   "source": [
    "#Checking to see if the assumption that all female passengers survived\n",
    "#survived either returns 1 or 0 in the column.\n",
    "#adding shows \n",
    "women = train_data.loc[train_data.Sex =='female']['Survived']\n",
    "rate_women =sum(women)/len(women)\n",
    "print('% of women who survived:',rate_women)\n",
    "print(women)"
   ]
  },
  {
   "cell_type": "code",
   "execution_count": null,
   "id": "a3b18724",
   "metadata": {},
   "outputs": [],
   "source": [
    "men = train_data.loc[train_data.Sex=='male']['Survived']\n",
    "rate_men = sum(men)/len(men)\n",
    "print('% of men who survived:', rate_men)"
   ]
  },
  {
   "cell_type": "code",
   "execution_count": null,
   "id": "0ab76047",
   "metadata": {},
   "outputs": [],
   "source": [
    "from sklearn.ensemble import RandomForestClassifier\n",
    "\n",
    "y = train_data[\"Survived\"]\n",
    "\n",
    "features = [\"Pclass\", \"Sex\", \"SibSp\", \"Parch\"]\n",
    "X = pd.get_dummies(train_data[features])\n",
    "X_test = pd.get_dummies(test_data[features])\n",
    "\n",
    "model = RandomForestClassifier(n_estimators=100, max_depth=5, random_state=1)\n",
    "model.fit(X, y)\n",
    "predictions = model.predict(X_test)\n",
    "\n",
    "output = pd.DataFrame({'PassengerId': test_data.PassengerId, 'Survived': predictions})\n",
    "output.to_csv('my_submission.csv', index=False)\n",
    "print(\"Your submission was successfully saved!!\")"
   ]
  }
 ],
 "metadata": {},
 "nbformat": 4,
 "nbformat_minor": 5
}
