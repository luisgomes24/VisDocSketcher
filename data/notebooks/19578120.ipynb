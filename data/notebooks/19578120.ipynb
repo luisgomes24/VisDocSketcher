{
 "cells": [
  {
   "cell_type": "markdown",
   "id": "6c4dc24e",
   "metadata": {},
   "source": [
    "This is third part of https://www.kaggle.com/mustafacicek/detailed-marketing-cohort-pareto-rfm-forecast\n",
    "\n",
    "You can reach this data from here. https://www.kaggle.com/mustafacicek/online-retail-final"
   ]
  },
  {
   "cell_type": "code",
   "execution_count": null,
   "id": "20d99c19",
   "metadata": {},
   "outputs": [],
   "source": [
    "import pandas as pd\n",
    "import numpy as np\n",
    "import seaborn as sns\n",
    "import matplotlib.pyplot as plt\n",
    "import datetime as dt\n",
    "from matplotlib.ticker import PercentFormatter\n",
    "\n",
    "pd.options.mode.chained_assignment = None\n",
    "\n",
    "plt.rcParams[\"axes.facecolor\"] = \"#A2A2A2\"\n",
    "plt.rcParams[\"axes.grid\"] = 1"
   ]
  },
  {
   "cell_type": "code",
   "execution_count": null,
   "id": "ef5b81bb",
   "metadata": {},
   "outputs": [],
   "source": [
    "df = pd.read_csv(\"../input/online-retail-final/online_retail_final.csv\")\n",
    "df.head()"
   ]
  },
  {
   "cell_type": "markdown",
   "id": "3bcde882",
   "metadata": {},
   "source": [
    "# Pareto Principle"
   ]
  },
  {
   "cell_type": "markdown",
   "id": "71a6440c",
   "metadata": {},
   "source": [
    "The Pareto principle states that for many outcomes, roughly 80% of consequences come from 20% of causes (the “vital few”).\n",
    "\n",
    "Other names for this principle are the 80/20 rule, the law of the vital few, or the principle of factor sparsity.\n",
    "\n",
    "![](https://upload.wikimedia.org/wikipedia/commons/e/eb/Pareto_principle.png)\n",
    "\n",
    "*https://en.wikipedia.org/wiki/Pareto_principle"
   ]
  },
  {
   "cell_type": "markdown",
   "id": "95492496",
   "metadata": {},
   "source": [
    "**Lets implement Pareto's 80-20 rule to our dataset**. We have two hypothesis:\n",
    "\n",
    "    1) 80% of company's revenue comes from 20% of total customers.\n",
    "\n",
    "    2) 80% of company's revenue comes from 20% of total products."
   ]
  },
  {
   "cell_type": "markdown",
   "id": "20fb0acd",
   "metadata": {},
   "source": [
    "**Sample Pareto Chart**\n",
    "\n",
    "![](https://www.cec.health.nsw.gov.au/__data/assets/image/0005/341285/Pareto-1.png)\n",
    "\n",
    "*https://www.cec.health.nsw.gov.au/Quality-Improvement-Academy/quality-improvement-tools/pareto-charts"
   ]
  },
  {
   "cell_type": "markdown",
   "id": "03d55ebb",
   "metadata": {},
   "source": [
    "**To check these hypothesis, we need only two things.** \n",
    "\n",
    "1) Individual sale records for customer/product\n",
    "\n",
    "2) Calculating cumulative sum for them"
   ]
  },
  {
   "cell_type": "markdown",
   "id": "af5e00e8",
   "metadata": {},
   "source": [
    "I define below functions for calculation and visualization.\n",
    "\n",
    "**prepare_pareto_data** finds individual revenue per customer/product and calculates cumulative percentage of them.\n",
    "\n",
    "**create_pareto_plot** takes output from these data and visualize it."
   ]
  },
  {
   "cell_type": "code",
   "execution_count": null,
   "id": "afd6bbbc",
   "metadata": {},
   "outputs": [],
   "source": [
    "def prepare_pareto_data(df, col, price):\n",
    "    \n",
    "    df_price = pd.DataFrame(df.groupby(col)[price].sum())\n",
    "    df_price = df_price.sort_values(price, ascending = False)\n",
    "\n",
    "    df_price[\"CumulativePercentage\"] = (df_price[price].cumsum() / df_price[price].sum() * 100).round(2)\n",
    "    \n",
    "    return df_price"
   ]
  },
  {
   "cell_type": "code",
   "execution_count": null,
   "id": "4426bcd6",
   "metadata": {},
   "outputs": [],
   "source": [
    "def create_pareto_plot(df, col, price, log = True):\n",
    "    \n",
    "    plt.rcParams[\"axes.facecolor\"] = \"#A2A2A2\"\n",
    "    fig, ax = plt.subplots(figsize = (15, 5), dpi = 150, facecolor = \"#A2A2A2\")\n",
    "    plt.rcParams[\"axes.grid\"] = False\n",
    "    \n",
    "    if log == True:\n",
    "        sns.barplot(x = np.arange(len(df)), y = np.log(df[price]),  ax = ax, color = \"#101820\")\n",
    "        ax.set_ylabel(\"Total Price (Log - Scale)\")\n",
    "    else:\n",
    "        sns.barplot(x = np.arange(len(df)), y = df[price],  ax = ax, color = \"#101820\")\n",
    "\n",
    "    ax2 = ax.twinx()\n",
    "    \n",
    "    sns.lineplot(x = np.arange(len(df)), y = df.CumulativePercentage, ax = ax2, color = \"#0019AA\")\n",
    "    ax2.axhline(80, color = \"#008878\", linestyle = \"dashed\", alpha = 1)\n",
    "    ax2.axhline(90, color = \"#008878\", linestyle = \"dashed\", alpha = 0.75)\n",
    "\n",
    "    vlines = [int(len(df) * x / 10) for x in range(1, 10)]\n",
    "    for vline in vlines: ax2.axvline(vline, color = \"#008878\", linestyle = \"dashed\", alpha = 0.1)\n",
    "        \n",
    "    interaction_80 = (df.shape[0] - df[df.CumulativePercentage >= 80].shape[0])\n",
    "    ax2.axvline(interaction_80, color = \"#008878\", linestyle = \"dashed\", alpha = 1)\n",
    "\n",
    "    interaction_80_percentage = round((interaction_80 / df.shape[0]) * 100)\n",
    "    plt.text(interaction_80 + 25, 95, str(interaction_80_percentage) + \"%\")   \n",
    "    \n",
    "    prop = dict(arrowstyle= \"-|>\", color = \"#000000\", lw = 1.5, ls = \"--\")\n",
    "    plt.annotate(\"\", xy = (interaction_80 - 10, 80),  xytext = (interaction_80 + 120 , 73), arrowprops = prop)\n",
    "    \n",
    "    interaction_90 = (df.shape[0] - df[df.CumulativePercentage >= 90].shape[0])\n",
    "    ax2.axvline(interaction_90, color = \"#008878\", linestyle = \"dashed\", alpha = 0.8)\n",
    "    interaction_90_percentage = round((interaction_90 / df.shape[0]) * 100)\n",
    "    plt.text(interaction_90 + 25, 95, str(interaction_90_percentage) + \"%\")   \n",
    "    plt.annotate(\"\", xy = (interaction_90 - 10, 90),  xytext = (interaction_90 + 120 , 83), arrowprops = prop)\n",
    "\n",
    "    ax2.yaxis.set_major_formatter(PercentFormatter())\n",
    "    ax.set_yticks([])\n",
    "    plt.xticks([])\n",
    "    ax.set_ylabel(\"Revenue\", fontname = \"Times New Roman\")\n",
    "    ax2.set_ylabel(\"Cumulative Percentage\", fontname = \"Times New Roman\")\n",
    "    subject = \"Customers\" if col == \"CustomerID\" else \"Products\"\n",
    "    plt.title(\"Pareto Chart for \" + subject, fontname = \"Times New Roman\")\n",
    "    ax.set_xlabel(subject, fontname = \"Times New Roman\")\n",
    "    sns.despine(left = True, right = True, bottom = True, top = True)\n",
    "    plt.show()"
   ]
  },
  {
   "cell_type": "markdown",
   "id": "9bf04214",
   "metadata": {},
   "source": [
    "# Pareto Chart for Customers"
   ]
  },
  {
   "cell_type": "code",
   "execution_count": null,
   "id": "85e5d2fd",
   "metadata": {},
   "outputs": [],
   "source": [
    "customer_price = prepare_pareto_data(df, \"CustomerID\", \"TotalPrice\")\n",
    "\n",
    "customer_price.head(10)"
   ]
  },
  {
   "cell_type": "code",
   "execution_count": null,
   "id": "99e3e344",
   "metadata": {},
   "outputs": [],
   "source": [
    "create_pareto_plot(customer_price, \"CustomerID\", \"TotalPrice\", log = False)"
   ]
  },
  {
   "cell_type": "markdown",
   "id": "67edacbd",
   "metadata": {},
   "source": [
    "We can also plot it in log scale. It helps us for better visualization."
   ]
  },
  {
   "cell_type": "code",
   "execution_count": null,
   "id": "3c1ccad4",
   "metadata": {},
   "outputs": [],
   "source": [
    "create_pareto_plot(customer_price, \"CustomerID\", \"TotalPrice\", log = True)"
   ]
  },
  {
   "cell_type": "markdown",
   "id": "06b9fd38",
   "metadata": {},
   "source": [
    "Well, lets interpret these two charts. Actually, we don't need to write a lot of things. \n",
    "\n",
    "We can see that 80% of company's revenue comes from top 30% of customers.\n",
    "\n",
    "Also, 90% of company's revenue comes from top 48% of customers."
   ]
  },
  {
   "cell_type": "markdown",
   "id": "d4bc832f",
   "metadata": {},
   "source": [
    "# Pareto Chart for Products"
   ]
  },
  {
   "cell_type": "code",
   "execution_count": null,
   "id": "a3bac96d",
   "metadata": {},
   "outputs": [],
   "source": [
    "item_price = prepare_pareto_data(df, \"StockCode\", \"TotalPrice\")\n",
    "\n",
    "item_price.head(10)"
   ]
  },
  {
   "cell_type": "code",
   "execution_count": null,
   "id": "f955be03",
   "metadata": {},
   "outputs": [],
   "source": [
    "create_pareto_plot(item_price, \"StockCode\", \"TotalPrice\", log = False)"
   ]
  },
  {
   "cell_type": "code",
   "execution_count": null,
   "id": "12ef85a6",
   "metadata": {},
   "outputs": [],
   "source": [
    "create_pareto_plot(item_price, \"StockCode\", \"TotalPrice\")"
   ]
  },
  {
   "cell_type": "markdown",
   "id": "4bebebc8",
   "metadata": {},
   "source": [
    "We can see that 80% of company's revenue comes from top 23% of products that have most revenue.\n",
    "\n",
    "Also, 90% of company's revenue comes from 36% of products that have most revenue.\n",
    "\n",
    "Maybe, if the company reduce by half its variety of items, revenue couldn't decrease significantly."
   ]
  },
  {
   "cell_type": "code",
   "execution_count": null,
   "id": "ea41007c",
   "metadata": {},
   "outputs": [],
   "source": [
    "top_customers = customer_price[customer_price.CumulativePercentage <= 80].index.tolist()\n",
    "\n",
    "products_for_top_customers = df[df.CustomerID.isin(top_customers)].Description.drop_duplicates().values.tolist()\n",
    "\n",
    "products_for_other_customers = df[~df.CustomerID.isin(top_customers)].Description.drop_duplicates().values.tolist()"
   ]
  },
  {
   "cell_type": "markdown",
   "id": "ebc4ea56",
   "metadata": {},
   "source": [
    "# Next\n",
    "\n",
    "Next chapters:\n",
    "\n",
    "https://www.kaggle.com/mustafacicek/marketing-analytics-rfm-analysis\n",
    "\n",
    "https://www.kaggle.com/mustafacicek/marketing-analytics-forecasting\n",
    "\n",
    "Full work: https://www.kaggle.com/mustafacicek/detailed-marketing-analytics-cohort-pareto-rfm"
   ]
  }
 ],
 "metadata": {},
 "nbformat": 4,
 "nbformat_minor": 5
}
