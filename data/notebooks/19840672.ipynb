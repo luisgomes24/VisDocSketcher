{
 "cells": [
  {
   "cell_type": "code",
   "execution_count": null,
   "id": "4cca7e01",
   "metadata": {},
   "outputs": [],
   "source": [
    "# This Python 3 environment comes with many helpful analytics libraries installed\n",
    "# It is defined by the kaggle/python Docker image: https://github.com/kaggle/docker-python\n",
    "# For example, here's several helpful packages to load\n",
    "\n",
    "import numpy as np # linear algebra\n",
    "import pandas as pd # data processing, CSV file I/O (e.g. pd.read_csv)\n",
    "\n",
    "# Input data files are available in the read-only \"../input/\" directory\n",
    "# For example, running this (by clicking run or pressing Shift+Enter) will list all files under the input directory\n",
    "\n",
    "import os\n",
    "for dirname, _, filenames in os.walk('/kaggle/input'):\n",
    "    for filename in filenames:\n",
    "        print(os.path.join(dirname, filename))\n",
    "\n",
    "# You can write up to 20GB to the current directory (/kaggle/working/) that gets preserved as output when you create a version using \"Save & Run All\" \n",
    "# You can also write temporary files to /kaggle/temp/, but they won't be saved outside of the current session"
   ]
  },
  {
   "cell_type": "markdown",
   "id": "c988dd87",
   "metadata": {},
   "source": [
    "## Import the Libraries"
   ]
  },
  {
   "cell_type": "code",
   "execution_count": null,
   "id": "c7376604",
   "metadata": {},
   "outputs": [],
   "source": [
    "import numpy as np\n",
    "import pandas as pd\n",
    "import matplotlib.pyplot as plt\n",
    "import seaborn as sns\n",
    "\n",
    "import plotly.express as px\n",
    "import plotly.graph_objects as go\n",
    "from plotly.subplots import make_subplots\n",
    "from datetime import datetime"
   ]
  },
  {
   "cell_type": "markdown",
   "id": "a7bfb698",
   "metadata": {},
   "source": [
    "## Import the Dataset"
   ]
  },
  {
   "cell_type": "code",
   "execution_count": null,
   "id": "f0cb2023",
   "metadata": {},
   "outputs": [],
   "source": [
    "df = pd.read_csv(\"/kaggle/input/rainfall-data-from-1901-to-2017-for-india/Rainfall_Data_LL.csv\")\n",
    "df.head()"
   ]
  },
  {
   "cell_type": "markdown",
   "id": "e9344024",
   "metadata": {},
   "source": [
    "## Exploratory Data Analysis"
   ]
  },
  {
   "cell_type": "code",
   "execution_count": null,
   "id": "85b95bb9",
   "metadata": {},
   "outputs": [],
   "source": [
    "# basic information about the dataset\n",
    "df.info()"
   ]
  },
  {
   "cell_type": "code",
   "execution_count": null,
   "id": "4ac605d8",
   "metadata": {},
   "outputs": [],
   "source": [
    "# number of null values in each column\n",
    "df.isnull().sum()"
   ]
  },
  {
   "cell_type": "markdown",
   "id": "565fb0ce",
   "metadata": {},
   "source": [
    "### Average Rainfall per Subdivision"
   ]
  },
  {
   "cell_type": "code",
   "execution_count": null,
   "id": "a64c5663",
   "metadata": {},
   "outputs": [],
   "source": [
    "df[['SUBDIVISION','ANNUAL']].groupby('SUBDIVISION').mean()"
   ]
  },
  {
   "cell_type": "markdown",
   "id": "1c7dcd23",
   "metadata": {},
   "source": [
    "## Subdivision with Lowest Rainfall"
   ]
  },
  {
   "cell_type": "code",
   "execution_count": null,
   "id": "55921cef",
   "metadata": {},
   "outputs": [],
   "source": [
    "df[['SUBDIVISION','ANNUAL']].groupby('SUBDIVISION').mean().sort_values('ANNUAL').iloc[0]"
   ]
  },
  {
   "cell_type": "markdown",
   "id": "472f5a43",
   "metadata": {},
   "source": [
    "## Subdivision with Heighest Rainfall"
   ]
  },
  {
   "cell_type": "code",
   "execution_count": null,
   "id": "d847d526",
   "metadata": {},
   "outputs": [],
   "source": [
    "df[['SUBDIVISION','ANNUAL']].groupby('SUBDIVISION').mean().sort_values('ANNUAL').iloc[-1]"
   ]
  },
  {
   "cell_type": "markdown",
   "id": "720377cd",
   "metadata": {},
   "source": [
    "## Subdivision that receives heighest rainfall in winter"
   ]
  },
  {
   "cell_type": "code",
   "execution_count": null,
   "id": "519111ab",
   "metadata": {},
   "outputs": [],
   "source": [
    "df[['SUBDIVISION', 'Jan-Feb']].groupby('SUBDIVISION').mean().sort_values('Jan-Feb').iloc[-1]"
   ]
  },
  {
   "cell_type": "markdown",
   "id": "b1125f31",
   "metadata": {},
   "source": [
    "## Andaman & Nicobar Islands\n",
    "For the rest of my analysis, I have chosen Andaman & Nicobar Islands"
   ]
  },
  {
   "cell_type": "code",
   "execution_count": null,
   "id": "4de15f95",
   "metadata": {},
   "outputs": [],
   "source": [
    "# only extracted the monthly data\n",
    "andaman = df.loc[df['SUBDIVISION'] == 'Andaman & Nicobar Islands'].iloc[:, 2:16]\n",
    "andaman.head()"
   ]
  },
  {
   "cell_type": "code",
   "execution_count": null,
   "id": "2b54e498",
   "metadata": {},
   "outputs": [],
   "source": [
    "andaman.info()"
   ]
  },
  {
   "cell_type": "markdown",
   "id": "9e676eec",
   "metadata": {},
   "source": [
    "## Distribution of Annual rainfall\n"
   ]
  },
  {
   "cell_type": "code",
   "execution_count": null,
   "id": "bc5cb4c5",
   "metadata": {},
   "outputs": [],
   "source": [
    "sns.displot(x='ANNUAL', data=andaman, kde=True)"
   ]
  },
  {
   "cell_type": "markdown",
   "id": "f2b45c0c",
   "metadata": {},
   "source": [
    "## Statistical Information about the region"
   ]
  },
  {
   "cell_type": "code",
   "execution_count": null,
   "id": "fb0434d9",
   "metadata": {},
   "outputs": [],
   "source": [
    "andaman['ANNUAL'].describe()"
   ]
  },
  {
   "cell_type": "markdown",
   "id": "06d7df0e",
   "metadata": {},
   "source": [
    "## Which year received the maximum and minimum rainfall?"
   ]
  },
  {
   "cell_type": "code",
   "execution_count": null,
   "id": "26da147c",
   "metadata": {},
   "outputs": [],
   "source": [
    "andaman[andaman['ANNUAL'] == andaman['ANNUAL'].max()]"
   ]
  },
  {
   "cell_type": "code",
   "execution_count": null,
   "id": "3800af66",
   "metadata": {},
   "outputs": [],
   "source": [
    "andaman[andaman['ANNUAL'] == andaman['ANNUAL'].min()]"
   ]
  },
  {
   "cell_type": "markdown",
   "id": "b3dcdbe4",
   "metadata": {},
   "source": [
    "Now, we'll make an attribute that would contain date (month, year). So that we could get rainfall values with the timeline."
   ]
  },
  {
   "cell_type": "code",
   "execution_count": null,
   "id": "2f7c3ded",
   "metadata": {},
   "outputs": [],
   "source": [
    "df1 = pd.melt(andaman, id_vars='YEAR', value_vars=andaman.columns[1:-1]) ## This will melt the data\n",
    "df1.head()"
   ]
  },
  {
   "cell_type": "code",
   "execution_count": null,
   "id": "41110657",
   "metadata": {},
   "outputs": [],
   "source": [
    "df1.tail()"
   ]
  },
  {
   "cell_type": "code",
   "execution_count": null,
   "id": "49462046",
   "metadata": {},
   "outputs": [],
   "source": [
    "df1['Date'] = df1['variable'] + ' ' + df1['YEAR'].astype(str)  \n",
    "df1.loc[:,'Date'] = df1['Date'].apply(lambda x : datetime.strptime(x, '%b %Y')) ## Converting String to datetime object\n",
    "df1.head()"
   ]
  },
  {
   "cell_type": "markdown",
   "id": "e565e37d",
   "metadata": {},
   "source": [
    "## Rainfall throughout 1901 - 2017"
   ]
  },
  {
   "cell_type": "code",
   "execution_count": null,
   "id": "36e66a25",
   "metadata": {},
   "outputs": [],
   "source": [
    "df1.columns=['Year', 'Month', 'Rainfall', 'Date']\n",
    "df1.sort_values(by='Date', inplace=True) ## To get the time series right.\n",
    "fig = go.Figure(layout = go.Layout(yaxis=dict(range=[0, df1['Rainfall'].max()+1])))\n",
    "fig.add_trace(go.Scatter(x=df1['Date'], y=df1['Rainfall']), )\n",
    "fig.update_layout(title='Rainfall Throught Timeline:',\n",
    "                 xaxis_title='Time', yaxis_title='Rainfall in mm')\n",
    "fig.update_layout(xaxis=go.layout.XAxis(\n",
    "    rangeselector=dict(\n",
    "        buttons=list([dict(label=\"Whole View\", step=\"all\"),\n",
    "                      dict(count=1,label=\"One Year View\",step=\"year\",stepmode=\"todate\")                      \n",
    "                     ])),\n",
    "        rangeslider=dict(visible=True),type=\"date\")\n",
    ")\n",
    "fig.show()"
   ]
  },
  {
   "cell_type": "code",
   "execution_count": null,
   "id": "8113e28c",
   "metadata": {},
   "outputs": [],
   "source": [
    "fig = px.box(df1, 'Month', 'Rainfall')\n",
    "fig.update_layout(title='Minimum, Maximum and Median Monthly Rainfall.')\n",
    "fig.show()"
   ]
  },
  {
   "cell_type": "markdown",
   "id": "4c5e1838",
   "metadata": {},
   "source": [
    "### Insights:\n",
    "- February has the lowest rainfall\n",
    "- June has the maximum rainfall\n",
    "- Rainfall in March vary the lowest as it has lowest standard deviation"
   ]
  },
  {
   "cell_type": "code",
   "execution_count": null,
   "id": "d4162b79",
   "metadata": {},
   "outputs": [],
   "source": [
    "from sklearn.cluster import KMeans\n",
    "sse = []\n",
    "target = df1['Rainfall'].to_numpy().reshape(-1,1)\n",
    "num_clusters = list(range(1, 10))\n",
    "\n",
    "for k in num_clusters:\n",
    "    km = KMeans(n_clusters=k)\n",
    "    km.fit(target)\n",
    "    sse.append(km.inertia_)\n",
    "\n",
    "fig = go.Figure(data=[\n",
    "    go.Scatter(x = num_clusters, y=sse, mode='lines'),\n",
    "    go.Scatter(x = num_clusters, y=sse, mode='markers')\n",
    "])\n",
    "\n",
    "fig.update_layout(title=\"Evaluation on number of clusters:\",\n",
    "                 xaxis_title = \"Number of Clusters:\",\n",
    "                 yaxis_title = \"Sum of Squared Distance\",\n",
    "                 showlegend=False)\n",
    "fig.show()"
   ]
  },
  {
   "cell_type": "markdown",
   "id": "50667d39",
   "metadata": {},
   "source": [
    "Cluster size of 3 is the ideal choice of k"
   ]
  },
  {
   "cell_type": "code",
   "execution_count": null,
   "id": "a95736db",
   "metadata": {},
   "outputs": [],
   "source": [
    "km = KMeans(3)\n",
    "km.fit(df1['Rainfall'].to_numpy().reshape(-1,1))\n",
    "df1.loc[:,'Rainfall Labels'] = km.labels_\n",
    "fig = px.scatter(df1, 'Date', 'Rainfall', color='Rainfall Labels')\n",
    "fig.update_layout(title = \"Rainfall clusters.\",\n",
    "                 xaxis_title=\"Date\", yaxis_title=\"Rainfall\")\n",
    "fig.show()"
   ]
  },
  {
   "cell_type": "code",
   "execution_count": null,
   "id": "534637f2",
   "metadata": {},
   "outputs": [],
   "source": [
    "fig = px.histogram(x=df1['Rainfall'], nbins=200, histnorm='density')\n",
    "fig.update_layout(title='Frequency chart of rainfall readings:',\n",
    "                 xaxis_title='Rainfall', yaxis_title='Count')"
   ]
  },
  {
   "cell_type": "code",
   "execution_count": null,
   "id": "49a1c001",
   "metadata": {},
   "outputs": [],
   "source": [
    "fig = px.line(df1, 'Year', 'Rainfall', facet_col='Month', facet_col_wrap=4)\n",
    "fig.update_layout(title='Monthly rainfall throught history:')\n",
    "fig.show()"
   ]
  },
  {
   "cell_type": "code",
   "execution_count": null,
   "id": "3921d18c",
   "metadata": {},
   "outputs": [],
   "source": [
    "## I am using decision tree regressor for prediction as the data does not actually have a linear trend.\n",
    "from sklearn.model_selection import train_test_split \n",
    "from sklearn.metrics import r2_score \n",
    "from sklearn.linear_model import LinearRegression\n",
    "\n",
    "df2 = df1[['Year', 'Month', 'Rainfall']].copy()\n",
    "df2 = pd.get_dummies(df2)\n",
    "y = df2[['Rainfall']]\n",
    "x = df2.drop(columns='Rainfall')\n",
    "\n",
    "lr = LinearRegression()\n",
    "train_x, test_x, train_y, test_y = train_test_split(x,y,test_size=0.3)\n",
    "lr.fit(train_x, train_y)\n",
    "pred = lr.predict(test_x)\n",
    "r2_score(test_y, pred)"
   ]
  },
  {
   "cell_type": "markdown",
   "id": "319faeb5",
   "metadata": {},
   "source": [
    "## That brings us to the end of this project. You can connect with me on Twitter [@PiyalBanik](https://twitter.com/PiyalBanik)"
   ]
  },
  {
   "cell_type": "code",
   "execution_count": null,
   "id": "4e74de2b",
   "metadata": {},
   "outputs": [],
   "source": [
    "nan"
   ]
  }
 ],
 "metadata": {},
 "nbformat": 4,
 "nbformat_minor": 5
}
