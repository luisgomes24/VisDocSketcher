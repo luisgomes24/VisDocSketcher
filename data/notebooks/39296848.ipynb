{
 "cells": [
  {
   "cell_type": "markdown",
   "id": "c3b74eb0",
   "metadata": {},
   "source": [
    "### Imported Required Liabraries"
   ]
  },
  {
   "cell_type": "code",
   "execution_count": null,
   "id": "24985e2c",
   "metadata": {},
   "outputs": [],
   "source": [
    "import numpy as np\n",
    "import pandas as pd\n",
    "import matplotlib.pyplot as plt\n",
    "import seaborn as sns\n",
    "from sklearn.linear_model import LinearRegression, Ridge, Lasso\n",
    "from sklearn.ensemble import RandomForestRegressor\n",
    "from sklearn.svm import SVR\n",
    "from sklearn.neighbors import KNeighborsRegressor\n",
    "from xgboost import XGBRegressor\n",
    "from sklearn.model_selection import GridSearchCV, train_test_split\n",
    "from sklearn.metrics import mean_absolute_error"
   ]
  },
  {
   "cell_type": "markdown",
   "id": "9a8cffa2",
   "metadata": {},
   "source": [
    "### Load the Datasets"
   ]
  },
  {
   "cell_type": "code",
   "execution_count": null,
   "id": "b6da0af3",
   "metadata": {},
   "outputs": [],
   "source": [
    "df_train = pd.read_csv('/kaggle/input/playground-series-s3e16/train.csv')"
   ]
  },
  {
   "cell_type": "code",
   "execution_count": null,
   "id": "717768c5",
   "metadata": {},
   "outputs": [],
   "source": [
    "df_train"
   ]
  },
  {
   "cell_type": "code",
   "execution_count": null,
   "id": "d0956569",
   "metadata": {},
   "outputs": [],
   "source": [
    "df_test = pd.read_csv('/kaggle/input/playground-series-s3e16/test.csv')"
   ]
  },
  {
   "cell_type": "code",
   "execution_count": null,
   "id": "3116e029",
   "metadata": {},
   "outputs": [],
   "source": [
    "df_test"
   ]
  },
  {
   "cell_type": "code",
   "execution_count": null,
   "id": "7dadbd20",
   "metadata": {},
   "outputs": [],
   "source": [
    "df_sample_submission = pd.read_csv('/kaggle/input/playground-series-s3e16/sample_submission.csv')"
   ]
  },
  {
   "cell_type": "code",
   "execution_count": null,
   "id": "758e38d7",
   "metadata": {},
   "outputs": [],
   "source": [
    "df_sample_submission"
   ]
  },
  {
   "cell_type": "code",
   "execution_count": null,
   "id": "04dc8465",
   "metadata": {},
   "outputs": [],
   "source": [
    "df_test.info()"
   ]
  },
  {
   "cell_type": "code",
   "execution_count": null,
   "id": "dced02ba",
   "metadata": {},
   "outputs": [],
   "source": [
    "df_train.Sex.unique()"
   ]
  },
  {
   "cell_type": "code",
   "execution_count": null,
   "id": "413f3270",
   "metadata": {},
   "outputs": [],
   "source": [
    "df_train.Sex.value_counts()"
   ]
  },
  {
   "cell_type": "code",
   "execution_count": null,
   "id": "0064b39e",
   "metadata": {},
   "outputs": [],
   "source": [
    "df_train = df_train[(df_train['Height'] > 0)]"
   ]
  },
  {
   "cell_type": "code",
   "execution_count": null,
   "id": "348fe194",
   "metadata": {},
   "outputs": [],
   "source": [
    "df_train.shape"
   ]
  },
  {
   "cell_type": "code",
   "execution_count": null,
   "id": "27818716",
   "metadata": {},
   "outputs": [],
   "source": [
    "df_train.head()"
   ]
  },
  {
   "cell_type": "code",
   "execution_count": null,
   "id": "85e321f8",
   "metadata": {},
   "outputs": [],
   "source": [
    "df_train = pd.get_dummies(df_train)"
   ]
  },
  {
   "cell_type": "code",
   "execution_count": null,
   "id": "db5847d4",
   "metadata": {},
   "outputs": [],
   "source": [
    "df_train.head()"
   ]
  },
  {
   "cell_type": "markdown",
   "id": "459923f6",
   "metadata": {},
   "source": [
    "### Created Correlation Heatmap"
   ]
  },
  {
   "cell_type": "code",
   "execution_count": null,
   "id": "3c6e6150",
   "metadata": {},
   "outputs": [],
   "source": [
    "plt.figure(figsize = (12,9))\n",
    "sns.heatmap(df_train.corr(), annot = True, cmap = \"magma_r\")\n",
    "plt.title(\"Correlation Heatmap\",fontdict = {\"fontweight\":\"bold\"})\n",
    "plt.show()"
   ]
  },
  {
   "cell_type": "code",
   "execution_count": null,
   "id": "bacb8428",
   "metadata": {},
   "outputs": [],
   "source": [
    "X  = df_train.drop(['id','Age'], axis = 1).values"
   ]
  },
  {
   "cell_type": "code",
   "execution_count": null,
   "id": "ac216632",
   "metadata": {},
   "outputs": [],
   "source": [
    "y = df_train['Age'].values"
   ]
  },
  {
   "cell_type": "code",
   "execution_count": null,
   "id": "f1882b19",
   "metadata": {},
   "outputs": [],
   "source": [
    "X_train, X_test, y_train, y_test = train_test_split(X, y, test_size=0.2, random_state=42)"
   ]
  },
  {
   "cell_type": "markdown",
   "id": "17f0eedb",
   "metadata": {},
   "source": [
    "### Applied Various Algorithms and Hyperparameters using GridSearchCV"
   ]
  },
  {
   "cell_type": "code",
   "execution_count": null,
   "id": "3223c1c5",
   "metadata": {},
   "outputs": [],
   "source": [
    "models = {\n",
    "    'Linear Regression': (LinearRegression(), {}),\n",
    "    'Ridge': (Ridge(), {'alpha': [0.001, 0.01, 0.1, 1, 10]}),\n",
    "    'Lasso': (Lasso(), {'alpha': [0.001, 0.01, 0.1, 1, 10]}),\n",
    "    'Random Forest': (RandomForestRegressor(), {'n_estimators': [10, 50, 100, 200]}),\n",
    "#     'Support Vector Machine': (SVR(), {'C': [0.1, 1, 10]}),\n",
    "    'K-Nearest Neighbors': (KNeighborsRegressor(), {'n_neighbors': [3, 5, 7]}),\n",
    "    'XGBoost': (XGBRegressor(), {'max_depth': [3, 6, 9], 'learning_rate': [0.1, 0.01, 0.001]})\n",
    "}"
   ]
  },
  {
   "cell_type": "code",
   "execution_count": null,
   "id": "8abd19f5",
   "metadata": {},
   "outputs": [],
   "source": [
    "for model_name, (model, param_grid) in models.items():\n",
    "    print(f\"Training {model_name}...\")\n",
    "    grid_search = GridSearchCV(model, param_grid, scoring='neg_mean_absolute_error', cv=3)\n",
    "    grid_search.fit(X_train, y_train)\n",
    "\n",
    "    # Get the best model and its performance on the test set\n",
    "    best_model = grid_search.best_estimator_\n",
    "    y_pred = best_model.predict(X_test)\n",
    "    mae = mean_absolute_error(y_test, y_pred)\n",
    "    print(f\"Best Parameters for {model_name}: {grid_search.best_params_}\")\n",
    "    print(f\"Mean Absolute Error for {model_name}: {mae}\\n\")"
   ]
  },
  {
   "cell_type": "markdown",
   "id": "109cee06",
   "metadata": {},
   "source": [
    "#### XGBoost Regressor is giving lowest Mean Absolute Error"
   ]
  },
  {
   "cell_type": "code",
   "execution_count": null,
   "id": "b9a46968",
   "metadata": {},
   "outputs": [],
   "source": [
    "model = XGBRegressor(learning_rate=0.1, max_depth=6, objective='reg:squarederror', random_state=42)"
   ]
  },
  {
   "cell_type": "code",
   "execution_count": null,
   "id": "1d03ff77",
   "metadata": {},
   "outputs": [],
   "source": [
    "model.fit(X_train, y_train)"
   ]
  },
  {
   "cell_type": "code",
   "execution_count": null,
   "id": "3b426076",
   "metadata": {},
   "outputs": [],
   "source": [
    "y_pred = model.predict(X_test)"
   ]
  },
  {
   "cell_type": "code",
   "execution_count": null,
   "id": "38924480",
   "metadata": {},
   "outputs": [],
   "source": [
    "mse = mean_absolute_error(y_test, y_pred)\n",
    "print(f\"Mean Aboslute Error: {mse}\")"
   ]
  },
  {
   "cell_type": "code",
   "execution_count": null,
   "id": "a6477f22",
   "metadata": {},
   "outputs": [],
   "source": [
    "model.fit(X,y)"
   ]
  },
  {
   "cell_type": "code",
   "execution_count": null,
   "id": "2b707a34",
   "metadata": {},
   "outputs": [],
   "source": [
    "df_test.drop(['id'], axis = 1, inplace = True)"
   ]
  },
  {
   "cell_type": "code",
   "execution_count": null,
   "id": "814fb904",
   "metadata": {},
   "outputs": [],
   "source": [
    "df_test = pd.get_dummies(df_test)"
   ]
  },
  {
   "cell_type": "code",
   "execution_count": null,
   "id": "d9a6f70e",
   "metadata": {},
   "outputs": [],
   "source": [
    "df_test"
   ]
  },
  {
   "cell_type": "code",
   "execution_count": null,
   "id": "dfa2d089",
   "metadata": {},
   "outputs": [],
   "source": [
    "y_pred = model.predict(df_test)"
   ]
  },
  {
   "cell_type": "code",
   "execution_count": null,
   "id": "e95d4541",
   "metadata": {},
   "outputs": [],
   "source": [
    "y_pred"
   ]
  },
  {
   "cell_type": "code",
   "execution_count": null,
   "id": "877b3691",
   "metadata": {},
   "outputs": [],
   "source": [
    "solution = pd.DataFrame(y_pred, columns = [\"y\"])"
   ]
  },
  {
   "cell_type": "code",
   "execution_count": null,
   "id": "592500a5",
   "metadata": {},
   "outputs": [],
   "source": [
    "df = df_sample_submission.join(solution)"
   ]
  },
  {
   "cell_type": "code",
   "execution_count": null,
   "id": "c0868e4b",
   "metadata": {},
   "outputs": [],
   "source": [
    "df = df.drop(['Age'], axis = 1)"
   ]
  },
  {
   "cell_type": "code",
   "execution_count": null,
   "id": "80ce780b",
   "metadata": {},
   "outputs": [],
   "source": [
    "df.rename(columns = {'y':'Age'}, inplace = True)"
   ]
  },
  {
   "cell_type": "code",
   "execution_count": null,
   "id": "560eb5ba",
   "metadata": {},
   "outputs": [],
   "source": [
    "df.to_csv('solution.csv', header = True, index = True)"
   ]
  }
 ],
 "metadata": {},
 "nbformat": 4,
 "nbformat_minor": 5
}
