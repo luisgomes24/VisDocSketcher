{
 "cells": [
  {
   "cell_type": "markdown",
   "id": "d403df5a",
   "metadata": {},
   "source": [
    "## **Problem Statement**\n",
    "The task is to forecast the total amount of products sold in every shop for the test set. Note that the list of shops and products slightly changes every month. Creating a robust model that can handle such situations is part of the challenge.\n"
   ]
  },
  {
   "cell_type": "code",
   "execution_count": null,
   "id": "c983ae1a",
   "metadata": {},
   "outputs": [],
   "source": [
    "import pandas as pd"
   ]
  },
  {
   "cell_type": "code",
   "execution_count": null,
   "id": "1fbcc265",
   "metadata": {},
   "outputs": [],
   "source": [
    "import warnings\n",
    "warnings.filterwarnings('always')\n",
    "warnings.filterwarnings('ignore')"
   ]
  },
  {
   "cell_type": "code",
   "execution_count": null,
   "id": "3369554c",
   "metadata": {},
   "outputs": [],
   "source": [
    "train_df=pd.read_csv(\"../input/competitive-data-science-predict-future-sales/sales_train.csv\")"
   ]
  },
  {
   "cell_type": "code",
   "execution_count": null,
   "id": "367fe14d",
   "metadata": {},
   "outputs": [],
   "source": [
    "test_df=pd.read_csv(\"../input/competitive-data-science-predict-future-sales/test.csv\")"
   ]
  },
  {
   "cell_type": "code",
   "execution_count": null,
   "id": "d5f1e0bc",
   "metadata": {},
   "outputs": [],
   "source": [
    "sub=pd.read_csv(\"../input/competitive-data-science-predict-future-sales/sample_submission.csv\")"
   ]
  },
  {
   "cell_type": "code",
   "execution_count": null,
   "id": "9f110c4e",
   "metadata": {},
   "outputs": [],
   "source": [
    "train_df.head()"
   ]
  },
  {
   "cell_type": "code",
   "execution_count": null,
   "id": "2d8f01af",
   "metadata": {},
   "outputs": [],
   "source": [
    "train_df.shape"
   ]
  },
  {
   "cell_type": "code",
   "execution_count": null,
   "id": "cad95aef",
   "metadata": {},
   "outputs": [],
   "source": [
    "test_df.shape"
   ]
  },
  {
   "cell_type": "code",
   "execution_count": null,
   "id": "3d785c48",
   "metadata": {},
   "outputs": [],
   "source": [
    "shop_df=pd.read_csv(\"../input/competitive-data-science-predict-future-sales/shops.csv\")"
   ]
  },
  {
   "cell_type": "code",
   "execution_count": null,
   "id": "529093f0",
   "metadata": {},
   "outputs": [],
   "source": [
    "shop_df.head()"
   ]
  },
  {
   "cell_type": "code",
   "execution_count": null,
   "id": "5e5469fe",
   "metadata": {},
   "outputs": [],
   "source": [
    "items_df=pd.read_csv(\"../input/competitive-data-science-predict-future-sales/items.csv\")"
   ]
  },
  {
   "cell_type": "code",
   "execution_count": null,
   "id": "7432fa13",
   "metadata": {},
   "outputs": [],
   "source": [
    "items_df.head()"
   ]
  },
  {
   "cell_type": "code",
   "execution_count": null,
   "id": "812a283e",
   "metadata": {},
   "outputs": [],
   "source": [
    "item_cat=pd.read_csv(\"../input/competitive-data-science-predict-future-sales/item_categories.csv\")"
   ]
  },
  {
   "cell_type": "code",
   "execution_count": null,
   "id": "05a563bd",
   "metadata": {},
   "outputs": [],
   "source": [
    "item_cat.head()"
   ]
  },
  {
   "cell_type": "code",
   "execution_count": null,
   "id": "464b7cfe",
   "metadata": {},
   "outputs": [],
   "source": [
    "train_df.describe()"
   ]
  },
  {
   "cell_type": "code",
   "execution_count": null,
   "id": "02a3f677",
   "metadata": {},
   "outputs": [],
   "source": [
    "train_df.describe().T"
   ]
  },
  {
   "cell_type": "code",
   "execution_count": null,
   "id": "443f4c49",
   "metadata": {},
   "outputs": [],
   "source": [
    "# getting the information about the data\n",
    "\n",
    "train_df.info()"
   ]
  },
  {
   "cell_type": "code",
   "execution_count": null,
   "id": "6831682d",
   "metadata": {},
   "outputs": [],
   "source": [
    "train_df.isnull().sum()"
   ]
  },
  {
   "cell_type": "code",
   "execution_count": null,
   "id": "726ca211",
   "metadata": {},
   "outputs": [],
   "source": [
    "#check for null values in each data frame\n",
    "print(\"No. of Null values in the train set :\", train_df.isnull().sum().sum())\n",
    "print(\"No. of Null values in the test set :\", test_df.isnull().sum().sum())\n",
    "print(\"No. of Null values in the item set :\", items_df.isnull().sum().sum())\n",
    "print(\"No. of Null values in the shops set :\", shop_df.isnull().sum().sum())\n",
    "print(\"No. of Null values in the item_categories set :\", item_cat.isnull().sum().sum())"
   ]
  },
  {
   "cell_type": "code",
   "execution_count": null,
   "id": "9bf8115a",
   "metadata": {},
   "outputs": [],
   "source": [
    "import numpy as np\n",
    "import matplotlib.pyplot as plt\n",
    "import seaborn as sns"
   ]
  },
  {
   "cell_type": "code",
   "execution_count": null,
   "id": "1ee8d731",
   "metadata": {},
   "outputs": [],
   "source": [
    "plt.rcParams['figure.figsize'] = (19, 9)\n",
    "sns.barplot(item_cat['item_category_id'], item_cat['item_category_id'], palette = 'colorblind')\n",
    "plt.title('Count for Different Items Categories', fontsize = 30)\n",
    "plt.xlabel('Item Categories', fontsize = 15)\n",
    "plt.ylabel('Items in each Categories', fontsize = 15)\n",
    "plt.show()"
   ]
  },
  {
   "cell_type": "code",
   "execution_count": null,
   "id": "1eee1c2a",
   "metadata": {},
   "outputs": [],
   "source": [
    "plt.rcParams['figure.figsize'] = (19, 9)\n",
    "sns.countplot(train_df['date_block_num'])\n",
    "plt.title('Date blocks according to months', fontsize = 30)\n",
    "plt.xlabel('Different blocks of months', fontsize = 15)\n",
    "plt.ylabel('No. of Purchases', fontsize = 15)\n",
    "plt.show()"
   ]
  },
  {
   "cell_type": "code",
   "execution_count": null,
   "id": "884dfeee",
   "metadata": {},
   "outputs": [],
   "source": [
    "plt.rcParams['figure.figsize'] = (13, 7)\n",
    "sns.distplot(train_df['item_price'], color = 'red')\n",
    "plt.title('Distribution of the price of Items', fontsize = 30)\n",
    "plt.xlabel('Range of price of items', fontsize = 15)\n",
    "plt.ylabel('Distrbution of prices over items', fontsize = 15)\n",
    "plt.show()"
   ]
  },
  {
   "cell_type": "code",
   "execution_count": null,
   "id": "9d8f34ad",
   "metadata": {},
   "outputs": [],
   "source": [
    "train_df.nunique()"
   ]
  },
  {
   "cell_type": "code",
   "execution_count": null,
   "id": "ada6e79c",
   "metadata": {},
   "outputs": [],
   "source": [
    "train_df['item_id'].value_counts()"
   ]
  },
  {
   "cell_type": "code",
   "execution_count": null,
   "id": "583133b0",
   "metadata": {},
   "outputs": [],
   "source": [
    "\n",
    "# checking the no. of unique item present in the stores\n",
    "\n",
    "x = train_df['item_id'].nunique()\n",
    "print(\"The No. of Unique Items Present in the stores available: \", x)"
   ]
  },
  {
   "cell_type": "code",
   "execution_count": null,
   "id": "88f7461d",
   "metadata": {},
   "outputs": [],
   "source": [
    "# checking the no. of unique item present in the stores\n",
    "\n",
    "x = item_cat['item_category_id'].nunique()\n",
    "print(\"The No. of Unique categories for Items Present in the stores available: \", x)"
   ]
  },
  {
   "cell_type": "code",
   "execution_count": null,
   "id": "afae1c83",
   "metadata": {},
   "outputs": [],
   "source": [
    "# checking the no. of unique shops given in the dataset\n",
    "\n",
    "x = train_df['shop_id'].nunique()\n"
   ]
  },
  {
   "cell_type": "code",
   "execution_count": null,
   "id": "97a26f40",
   "metadata": {},
   "outputs": [],
   "source": [
    "print(\"No. of Unique Shops are :\", x)"
   ]
  },
  {
   "cell_type": "code",
   "execution_count": null,
   "id": "11980346",
   "metadata": {},
   "outputs": [],
   "source": [
    "# making a word cloud for item categories name\n",
    "\n",
    "from wordcloud import WordCloud\n",
    "from wordcloud import STOPWORDS\n",
    "\n",
    "plt.rcParams['figure.figsize'] = (15, 12)\n",
    "stopwords = set(STOPWORDS)\n",
    "wordcloud = WordCloud(background_color = 'lightblue',\n",
    "                      max_words = 200, \n",
    "                      stopwords = stopwords,\n",
    "                     width = 1200,\n",
    "                     height = 800,\n",
    "                     random_state = 42).generate(str(item_cat['item_category_name']))\n",
    "\n",
    "\n",
    "plt.title('Wordcloud for Item Category Names', fontsize = 30)\n",
    "plt.axis('off')\n",
    "plt.imshow(wordcloud, interpolation = 'bilinear')"
   ]
  },
  {
   "cell_type": "code",
   "execution_count": null,
   "id": "362d8843",
   "metadata": {},
   "outputs": [],
   "source": [
    "# making a word cloud for item name\n",
    "\n",
    "from wordcloud import WordCloud\n",
    "from wordcloud import STOPWORDS\n",
    "\n",
    "plt.rcParams['figure.figsize'] = (15, 12)\n",
    "stopwords = set(STOPWORDS)\n",
    "wordcloud = WordCloud(background_color = 'pink',\n",
    "                      max_words = 200, \n",
    "                      stopwords = stopwords,\n",
    "                     width = 1200,\n",
    "                     height = 800,\n",
    "                     random_state = 42).generate(str(items_df['item_name']))\n",
    "\n",
    "\n",
    "plt.title('Wordcloud for Item Names', fontsize = 30)\n",
    "plt.axis('off')\n",
    "plt.imshow(wordcloud, interpolation = 'bilinear')"
   ]
  },
  {
   "cell_type": "code",
   "execution_count": null,
   "id": "e8c21c3a",
   "metadata": {},
   "outputs": [],
   "source": [
    "# making a word cloud for shop name\n",
    "\n",
    "from wordcloud import WordCloud\n",
    "from wordcloud import STOPWORDS\n",
    "\n",
    "plt.rcParams['figure.figsize'] = (15, 12)\n",
    "stopwords = set(STOPWORDS)\n",
    "wordcloud = WordCloud(background_color = 'gray',\n",
    "                      max_words = 200, \n",
    "                      stopwords = stopwords,\n",
    "                     width = 1200,\n",
    "                     height = 800,\n",
    "                     random_state = 42).generate(str(shop_df['shop_name']))\n",
    "\n",
    "\n",
    "plt.title('Wordcloud for Shop Names', fontsize = 30)\n",
    "plt.axis('off')\n",
    "plt.imshow(wordcloud, interpolation = 'bilinear')"
   ]
  },
  {
   "cell_type": "code",
   "execution_count": null,
   "id": "df3c0432",
   "metadata": {},
   "outputs": [],
   "source": [
    "# making a new column day\n",
    "train_df['date'] = pd.to_datetime(train_df['date'], errors='coerce')"
   ]
  },
  {
   "cell_type": "code",
   "execution_count": null,
   "id": "d01cb774",
   "metadata": {},
   "outputs": [],
   "source": [
    "# making a new column month\n",
    "train_df['month'] = pd.to_datetime(train_df['date'], errors='coerce')\n",
    "\n",
    "# making a new column year\n",
    "train_df['year'] = pd.to_datetime(train_df['date'], errors='coerce')\n",
    "\n",
    "# making a new column week\n",
    "train_df['week'] =pd.to_datetime(train_df['date'], errors='coerce')\n",
    "\n",
    "# checking the new columns\n",
    "train_df.columns"
   ]
  },
  {
   "cell_type": "code",
   "execution_count": null,
   "id": "3df8f9ba",
   "metadata": {},
   "outputs": [],
   "source": [
    "train_df.head()"
   ]
  },
  {
   "cell_type": "code",
   "execution_count": null,
   "id": "622211a5",
   "metadata": {},
   "outputs": [],
   "source": [
    "# checking which days are most busisiest for the shops\n",
    "\n",
    "plt.rcParams['figure.figsize'] = (15, 7)\n",
    "sns.countplot(train_df['date'])\n",
    "plt.title('The most busiest days for the shops', fontsize = 30)\n",
    "plt.xlabel('Days', fontsize = 15)\n",
    "plt.ylabel('Frequency', fontsize = 15)\n",
    "\n",
    "plt.show()"
   ]
  },
  {
   "cell_type": "code",
   "execution_count": null,
   "id": "a9036207",
   "metadata": {},
   "outputs": [],
   "source": [
    "# checking which months are most busisiest for the shops\n",
    "\n",
    "plt.rcParams['figure.figsize'] = (15, 7)\n",
    "sns.countplot(train_df['month'], palette = 'dark')\n",
    "plt.title('The most busiest months for the shops', fontsize = 30)\n",
    "plt.xlabel('Months', fontsize = 15)\n",
    "plt.ylabel('Frequency', fontsize = 15)\n",
    "\n",
    "plt.show()"
   ]
  },
  {
   "cell_type": "code",
   "execution_count": null,
   "id": "a993a86a",
   "metadata": {},
   "outputs": [],
   "source": [
    "# checking the columns of the train data\n",
    "\n",
    "train_df.columns"
   ]
  },
  {
   "cell_type": "code",
   "execution_count": null,
   "id": "423dd3c1",
   "metadata": {},
   "outputs": [],
   "source": [
    "train_df.dtypes"
   ]
  },
  {
   "cell_type": "code",
   "execution_count": null,
   "id": "86218a99",
   "metadata": {},
   "outputs": [],
   "source": [
    "# converting the data into monthly sales data\n",
    "\n",
    "# making a dataset with only monthly sales data\n",
    "data = train_df.groupby([train_df['date'].apply(lambda x: x.strftime('%Y-%m')),'item_id','shop_id']).sum().reset_index()\n",
    "\n",
    "# specifying the important attributes which we want to add to the data\n",
    "data = data[['date','item_id','shop_id','item_cnt_day']]\n",
    "\n",
    "# at last we can select the specific attributes from the dataset which are important \n",
    "data = data.pivot_table(index=['item_id','shop_id'], columns = 'date', values = 'item_cnt_day', fill_value = 0).reset_index()\n",
    "\n",
    "# looking at the newly prepared datset\n",
    "data.shape"
   ]
  },
  {
   "cell_type": "code",
   "execution_count": null,
   "id": "1c679b6a",
   "metadata": {},
   "outputs": [],
   "source": [
    "# let's merge the monthly sales data prepared to the test data set\n",
    "\n",
    "test_df=pd.merge(test_df, data, on = ['item_id', 'shop_id'], how = 'left')\n",
    "\n",
    "# filling the empty values found in the dataset\n",
    "test_df.fillna(0, inplace = True)\n",
    "\n",
    "# checking the dataset\n",
    "test_df.head()"
   ]
  },
  {
   "cell_type": "code",
   "execution_count": null,
   "id": "77037590",
   "metadata": {},
   "outputs": [],
   "source": [
    "# now let's create the actual training data\n",
    "\n",
    "x_train = test_df.drop(['2015-10', 'item_id', 'shop_id'], axis = 1)\n",
    "y_train = test_df['2015-10']\n",
    "\n",
    "# deleting the first column so that it can predict the future sales data\n",
    "x_test = test_df.drop(['2013-01', 'item_id', 'shop_id'], axis = 1)\n",
    "\n",
    "# checking the shapes of the datasets\n",
    "print(\"Shape of x_train :\", x_train.shape)\n",
    "print(\"Shape of x_test :\", x_test.shape)\n",
    "print(\"Shape of y_test :\", y_train.shape)"
   ]
  },
  {
   "cell_type": "code",
   "execution_count": null,
   "id": "787e14f7",
   "metadata": {},
   "outputs": [],
   "source": [
    "# let's check the x_train dataset\n",
    "\n",
    "x_train.head()"
   ]
  },
  {
   "cell_type": "code",
   "execution_count": null,
   "id": "6320e00c",
   "metadata": {},
   "outputs": [],
   "source": [
    "# let's check the x_test data\n",
    "\n",
    "x_test.head()"
   ]
  },
  {
   "cell_type": "code",
   "execution_count": null,
   "id": "990c2aa9",
   "metadata": {},
   "outputs": [],
   "source": [
    "# splitting the data into train and valid dataset\n",
    "\n",
    "from sklearn.model_selection import train_test_split\n",
    "\n",
    "x_train, x_valid, y_train, y_valid = train_test_split(x_train, y_train, test_size = 0.2, random_state = 0)\n",
    "\n",
    "# checking the shapes\n",
    "print(\"Shape of x_train :\", x_train.shape)\n",
    "print(\"Shape of x_valid :\", x_valid.shape)\n",
    "print(\"Shape of y_train :\", y_train.shape)\n",
    "print(\"Shape of y_valid :\", y_valid.shape)"
   ]
  },
  {
   "cell_type": "code",
   "execution_count": null,
   "id": "e993f799",
   "metadata": {},
   "outputs": [],
   "source": [
    "# MODELING\n",
    "\n",
    "from lightgbm import LGBMRegressor\n",
    "\n",
    "model_lgb = LGBMRegressor( n_estimators=200,\n",
    "                           learning_rate=0.03,\n",
    "                           num_leaves=32,\n",
    "                           colsample_bytree=0.9497036,\n",
    "                           subsample=0.8715623,\n",
    "                           max_depth=8,\n",
    "                           reg_alpha=0.04,\n",
    "                           reg_lambda=0.073,\n",
    "                           min_split_gain=0.0222415,\n",
    "                           min_child_weight=40)\n",
    "model_lgb.fit(x_train, y_train)\n",
    "\n",
    "y_pred_lgb = model_lgb.predict(x_test)"
   ]
  },
  {
   "cell_type": "code",
   "execution_count": null,
   "id": "63b06a8d",
   "metadata": {},
   "outputs": [],
   "source": [
    "# Get the test set predictions and clip values to the specified range\n",
    "y_pred_lgb = model_lgb.predict(x_test).clip(0., 20.)\n",
    "\n",
    "# Create the submission file and submit\n",
    "preds = pd.DataFrame(y_pred_lgb, columns=['item_cnt_month'])\n",
    "preds.to_csv('submission.csv',index_label='ID')"
   ]
  }
 ],
 "metadata": {},
 "nbformat": 4,
 "nbformat_minor": 5
}
