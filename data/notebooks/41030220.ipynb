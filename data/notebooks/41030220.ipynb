{
 "cells": [
  {
   "cell_type": "markdown",
   "id": "0c50148c",
   "metadata": {},
   "source": [
    "# **Implementation of SVM on Pima Indians Diabetes Database**"
   ]
  },
  {
   "cell_type": "markdown",
   "id": "0b56c58a",
   "metadata": {},
   "source": [
    "# **Importing the required libraries**"
   ]
  },
  {
   "cell_type": "code",
   "execution_count": null,
   "id": "2cfeeef6",
   "metadata": {},
   "outputs": [],
   "source": [
    "import numpy as np   # Importing the numpy library for numerical computations\n",
    "import pandas as pd  # Importing the pandas library for data manipulation and analysis\n",
    "import matplotlib.pyplot as plt  # Importing the matplotlib library for plotting graphs\n",
    "import seaborn as sns  # Importing the seaborn library for enhanced data visualization\n",
    "from sklearn.preprocessing import StandardScaler  # Importing StandardScaler from sklearn.preprocessing module\n",
    "from sklearn.model_selection import train_test_split  # Importing train_test_split from sklearn.model_selection module\n",
    "from sklearn.metrics import accuracy_score  # Importing accuracy_score from sklearn.metrics module\n",
    "from sklearn.svm import SVC  # Importing SVC (Support Vector Classifier) from sklearn.svm module\n",
    "from sklearn.metrics import confusion_matrix    # Importing the confusion_matrix function for evaluating classification results\n",
    "from sklearn.metrics import classification_report   # Importing the classification_report function for detailed classification metrics"
   ]
  },
  {
   "cell_type": "markdown",
   "id": "b21841ba",
   "metadata": {},
   "source": [
    "# **Importing our dataset**"
   ]
  },
  {
   "cell_type": "code",
   "execution_count": null,
   "id": "8ebd74e9",
   "metadata": {},
   "outputs": [],
   "source": [
    "# Reading the CSV file 'diabetes.csv' and storing the data in a DataFrame called 'data'\n",
    "data = pd.read_csv('/kaggle/input/pima-indians-diabetes-database/diabetes.csv')"
   ]
  },
  {
   "cell_type": "code",
   "execution_count": null,
   "id": "48b827dd",
   "metadata": {},
   "outputs": [],
   "source": [
    "# Displaying the first 5 rows of the dataset\n",
    "data.head(5)"
   ]
  },
  {
   "cell_type": "code",
   "execution_count": null,
   "id": "8b172757",
   "metadata": {},
   "outputs": [],
   "source": [
    "# Displaying the last 5 rows of the dataset\n",
    "data.tail(5)"
   ]
  },
  {
   "cell_type": "markdown",
   "id": "bba00f8a",
   "metadata": {},
   "source": [
    "# **Understanding our data**"
   ]
  },
  {
   "cell_type": "code",
   "execution_count": null,
   "id": "21cb3c97",
   "metadata": {},
   "outputs": [],
   "source": [
    "# Shape of our data\n",
    "print(\"Rows and Columns of the dataset :- \",data.shape)"
   ]
  },
  {
   "cell_type": "code",
   "execution_count": null,
   "id": "366150cc",
   "metadata": {},
   "outputs": [],
   "source": [
    "# Identifying information about composition and potential data quality\n",
    "data.info()"
   ]
  },
  {
   "cell_type": "code",
   "execution_count": null,
   "id": "38414002",
   "metadata": {},
   "outputs": [],
   "source": [
    "# Displaying the columns in our dataset\n",
    "data.columns"
   ]
  },
  {
   "cell_type": "markdown",
   "id": "edac1b8a",
   "metadata": {},
   "source": [
    "### **Columns or Features Description**\n",
    "\n",
    "- 'Pregnancies': Number of times pregnant\n",
    "- 'Glucose': Plasma glucose concentration in a 2-hour oral glucose tolerance test\n",
    "- 'BloodPressure': Diastolic blood pressure (mm Hg)\n",
    "- 'SkinThickness': Triceps skinfold thickness (mm)\n",
    "- 'Insulin': 2-Hour serum insulin (mu U/ml)\n",
    "- 'BMI': Body mass index (weight in kg / (height in meters)^2)\n",
    "- 'DiabetesPedigreeFunction': Diabetes pedigree function (a measure of the genetic influence)\n",
    "- 'Age': Age (years)\n",
    "- 'Outcome': Binary variable indicating whether a person has diabetes or not (0 - No, 1 - Yes)"
   ]
  },
  {
   "cell_type": "code",
   "execution_count": null,
   "id": "93e1a711",
   "metadata": {},
   "outputs": [],
   "source": [
    "# To show statistical summary of the columns of our data\n",
    "data.describe(include ='all')"
   ]
  },
  {
   "cell_type": "markdown",
   "id": "965ddbc5",
   "metadata": {},
   "source": [
    "# **Checking NULL Values**"
   ]
  },
  {
   "cell_type": "code",
   "execution_count": null,
   "id": "ec5e538f",
   "metadata": {},
   "outputs": [],
   "source": [
    "# To count the null values\n",
    "data.isnull().sum()"
   ]
  },
  {
   "cell_type": "markdown",
   "id": "f907b04f",
   "metadata": {},
   "source": [
    "From the output 'data.isnull().sum()' where all the columns show a count of 0, we can infer that there are no missing values (null values) in any of the columns of the DataFrame data.\n",
    "\n",
    "This is a positive indication as missing values can sometimes lead to issues or inaccuracies in data analysis and modeling. Having a dataset without missing values allows us to work with complete information for each variable, ensuring more reliable and accurate results in our analysis or modeling tasks."
   ]
  },
  {
   "cell_type": "markdown",
   "id": "37b25afd",
   "metadata": {},
   "source": [
    "# **Checking distribution of Target Variable**"
   ]
  },
  {
   "cell_type": "code",
   "execution_count": null,
   "id": "a4151d2d",
   "metadata": {},
   "outputs": [],
   "source": [
    "# Count the occurrences of each unique value in the 'Outcome' column\n",
    "data['Outcome'].value_counts()"
   ]
  },
  {
   "cell_type": "markdown",
   "id": "fbd07604",
   "metadata": {},
   "source": [
    "This indicates that in the 'Outcome' column, there are 500 occurrences of the value 0 and 268 occurrences of the value 1. These values likely represent the presence or absence of diabetes, where 0 represents no diabetes and 1 represents the presence of diabetes."
   ]
  },
  {
   "cell_type": "code",
   "execution_count": null,
   "id": "5b437bf6",
   "metadata": {},
   "outputs": [],
   "source": [
    "# Creating a countplot to visualize the distribution of 'Outcome' values\n",
    "sns.countplot(x='Outcome', data=data)\n",
    "\n",
    "# Adding a label to the x-axis\n",
    "plt.xlabel('0 -> No diabetes   1 -> Diabetes')\n",
    "\n",
    "# Adding a label to the y-axis\n",
    "plt.ylabel('Count')\n",
    "\n",
    "# Setting the title of the plot\n",
    "plt.title('Distribution of the target variable')\n",
    "\n",
    "# Displaying the plot\n",
    "plt.show()"
   ]
  },
  {
   "cell_type": "code",
   "execution_count": null,
   "id": "4c5c8104",
   "metadata": {},
   "outputs": [],
   "source": [
    "# Grouping the data by the 'Outcome' column and calculating the mean for each group\n",
    "data.groupby('Outcome').mean()"
   ]
  },
  {
   "cell_type": "markdown",
   "id": "eb50dfbd",
   "metadata": {},
   "source": [
    "# **Performing EDA**"
   ]
  },
  {
   "cell_type": "code",
   "execution_count": null,
   "id": "2cb72dc2",
   "metadata": {},
   "outputs": [],
   "source": [
    "# Creating a histogram to visualize the distribution of the 'Age' variable\n",
    "plt.hist(data['Age'])\n",
    "\n",
    "# Adding a label to the x-axis\n",
    "plt.xlabel('Age')\n",
    "\n",
    "# Adding a label to the y-axis\n",
    "plt.ylabel('Frequency')\n",
    "\n",
    "# Display the histogram plot\n",
    "plt.show()"
   ]
  },
  {
   "cell_type": "code",
   "execution_count": null,
   "id": "5b52d4eb",
   "metadata": {},
   "outputs": [],
   "source": [
    "# Creating a scatter plot to visualize the relationship between 'BMI' and 'Glucose'\n",
    "plt.scatter(data['BMI'], data['Glucose'])\n",
    "\n",
    "# Adding a label to the x-axis\n",
    "plt.xlabel('BMI')\n",
    "\n",
    "# Adding a label to the y-axis\n",
    "plt.ylabel('Glucose')\n",
    "\n",
    "# Adding a title to the plot\n",
    "plt.title('Scatter Plot: BMI vs. Glucose')\n",
    "\n",
    "# Display the scatter plot\n",
    "plt.show()"
   ]
  },
  {
   "cell_type": "code",
   "execution_count": null,
   "id": "be69af76",
   "metadata": {},
   "outputs": [],
   "source": [
    "# Compute correlation matrix\n",
    "corr_matrix = data.corr()\n",
    "\n",
    "# Plot heatmap of correlation matrix\n",
    "plt.figure(figsize=(10, 8))\n",
    "sns.heatmap(corr_matrix, annot=True, cmap='YlGnBu')\n",
    "plt.title('Correlation Matrix Heatmap')\n",
    "plt.show()"
   ]
  },
  {
   "cell_type": "code",
   "execution_count": null,
   "id": "11ffcf02",
   "metadata": {},
   "outputs": [],
   "source": [
    "# Creating a pair plot to visualize pairwise relationships between variables, with 'Outcome' as the hue\n",
    "sns.pairplot(data, hue='Outcome')\n",
    "\n",
    "# Adding a title to the plot\n",
    "plt.title('Pair Plot')\n",
    "\n",
    "# Display the pair plot\n",
    "plt.show()"
   ]
  },
  {
   "cell_type": "code",
   "execution_count": null,
   "id": "42bb5431",
   "metadata": {},
   "outputs": [],
   "source": [
    "# Set the figure size for the violin plot\n",
    "plt.figure(figsize=(8, 6))\n",
    "\n",
    "# Creating a violin plot to visualize the distribution of 'Glucose' by 'Outcome'\n",
    "sns.violinplot(x='Outcome', y='Glucose', data=data)\n",
    "\n",
    "# Adding a label to the x-axis\n",
    "plt.xlabel('Outcome')\n",
    "\n",
    "# Adding a label to the y-axis\n",
    "plt.ylabel('Glucose')\n",
    "\n",
    "# Adding a title to the plot\n",
    "plt.title('Violin Plot: Glucose by Outcome')\n",
    "\n",
    "# Display the violin plot\n",
    "plt.show()"
   ]
  },
  {
   "cell_type": "code",
   "execution_count": null,
   "id": "4d8fed4a",
   "metadata": {},
   "outputs": [],
   "source": [
    "# Setting the figure size for the count plot\n",
    "plt.figure(figsize=(8, 6))\n",
    "\n",
    "# Creating a count plot with hue to visualize 'Pregnancies' counts by 'Outcome'\n",
    "sns.countplot(x='Outcome', hue='Pregnancies', data=data)\n",
    "\n",
    "# Adding a label to the x-axis\n",
    "plt.xlabel('Outcome')\n",
    "\n",
    "# Adding a label to the y-axis\n",
    "plt.ylabel('Count')\n",
    "\n",
    "# Adding a title to the plot\n",
    "plt.title('Bar Plot: Pregnancies Counts by Outcome')\n",
    "\n",
    "# Display the count plot\n",
    "plt.show()"
   ]
  },
  {
   "cell_type": "markdown",
   "id": "cc869fab",
   "metadata": {},
   "source": [
    "# **Splitting our dataset**"
   ]
  },
  {
   "cell_type": "code",
   "execution_count": null,
   "id": "5e3a623c",
   "metadata": {},
   "outputs": [],
   "source": [
    "# Creating the feature variables by dropping the 'Outcome' column\n",
    "X = data.drop(columns='Outcome', axis=1)\n",
    "\n",
    "# Creating the target variable\n",
    "Y = data['Outcome']"
   ]
  },
  {
   "cell_type": "code",
   "execution_count": null,
   "id": "20ddb25e",
   "metadata": {},
   "outputs": [],
   "source": [
    "# Displaying our feature variable\n",
    "X"
   ]
  },
  {
   "cell_type": "code",
   "execution_count": null,
   "id": "e8a866dd",
   "metadata": {},
   "outputs": [],
   "source": [
    "# Displaying our target variable\n",
    "Y"
   ]
  },
  {
   "cell_type": "markdown",
   "id": "7fea5359",
   "metadata": {},
   "source": [
    "# **Data Standardization**"
   ]
  },
  {
   "cell_type": "code",
   "execution_count": null,
   "id": "171b45b6",
   "metadata": {},
   "outputs": [],
   "source": [
    "# Create an instance of the StandardScaler\n",
    "scaler = StandardScaler()"
   ]
  },
  {
   "cell_type": "code",
   "execution_count": null,
   "id": "fc5c1361",
   "metadata": {},
   "outputs": [],
   "source": [
    "# Fitting the StandardScaler to the feature variables (X)\n",
    "scaler.fit(X)"
   ]
  },
  {
   "cell_type": "code",
   "execution_count": null,
   "id": "1e5b1147",
   "metadata": {},
   "outputs": [],
   "source": [
    "# Transform the feature variables (X) using the fitted StandardScaler\n",
    "standardized_data = scaler.transform(X)\n",
    "standardized_data"
   ]
  },
  {
   "cell_type": "code",
   "execution_count": null,
   "id": "53b22aab",
   "metadata": {},
   "outputs": [],
   "source": [
    "# Assigning the standardized feature variables to X\n",
    "X = standardized_data\n",
    "\n",
    "# Assigning the 'Outcome' column from the diabetes_dataset DataFrame to Y\n",
    "Y = data['Outcome']"
   ]
  },
  {
   "cell_type": "code",
   "execution_count": null,
   "id": "cf0850e4",
   "metadata": {},
   "outputs": [],
   "source": [
    "# Displaying our feature variable after scaling\n",
    "X"
   ]
  },
  {
   "cell_type": "code",
   "execution_count": null,
   "id": "45e623bd",
   "metadata": {},
   "outputs": [],
   "source": [
    "# Displaying our target variable\n",
    "Y"
   ]
  },
  {
   "cell_type": "markdown",
   "id": "c2ea3d47",
   "metadata": {},
   "source": [
    "# **Train Test Split**"
   ]
  },
  {
   "cell_type": "code",
   "execution_count": null,
   "id": "a9b113cb",
   "metadata": {},
   "outputs": [],
   "source": [
    "# Split the data into training and testing sets\n",
    "# X_train: training feature variables\n",
    "# X_test: testing feature variables\n",
    "# Y_train: training target variable\n",
    "# Y_test: testing target variable\n",
    "# The data is split using a test size of 0.2 (20% of the data) and a random state of 2 for reproducibility\n",
    "\n",
    "X_train, X_test, Y_train, Y_test = train_test_split(X, Y, test_size=0.2, random_state=2)"
   ]
  },
  {
   "cell_type": "code",
   "execution_count": null,
   "id": "a8c504a7",
   "metadata": {},
   "outputs": [],
   "source": [
    "# Print the shapes of X, X_train, and X_test\n",
    "print(\"Shape of X:\", X.shape)\n",
    "print(\"Shape of X_train:\", X_train.shape)\n",
    "print(\"Shape of X_test:\", X_test.shape)"
   ]
  },
  {
   "cell_type": "markdown",
   "id": "efce0312",
   "metadata": {},
   "source": [
    "# **Training our Model**"
   ]
  },
  {
   "cell_type": "code",
   "execution_count": null,
   "id": "a64b6f61",
   "metadata": {},
   "outputs": [],
   "source": [
    "# Creating an instance of the Support Vector Classifier (SVC)\n",
    "# The kernel parameter is set to 'rbf' indicating a radial basis function kernel\n",
    "# The random_state parameter is set to 0 for reproducibility\n",
    "SVM = SVC(kernel='rbf', random_state=0)"
   ]
  },
  {
   "cell_type": "code",
   "execution_count": null,
   "id": "81bafd91",
   "metadata": {},
   "outputs": [],
   "source": [
    "# Fitting the SVM model to the training data\n",
    "SVM.fit(X_train, Y_train)"
   ]
  },
  {
   "cell_type": "markdown",
   "id": "855f6991",
   "metadata": {},
   "source": [
    "# **Model Evaluation**"
   ]
  },
  {
   "cell_type": "markdown",
   "id": "62976665",
   "metadata": {},
   "source": [
    "## **Accuracy Score of Training data**"
   ]
  },
  {
   "cell_type": "code",
   "execution_count": null,
   "id": "87668cd2",
   "metadata": {},
   "outputs": [],
   "source": [
    "# Calculate the accuracy score of the model on the training data\n",
    "training_data_accuracy = SVM.score(X_train, Y_train)\n",
    "\n",
    "# Print the accuracy score of the training data\n",
    "print('Accuracy score of the training data:', training_data_accuracy)"
   ]
  },
  {
   "cell_type": "markdown",
   "id": "5c1f59f7",
   "metadata": {},
   "source": [
    "## **Accuracy Score of Testing data**"
   ]
  },
  {
   "cell_type": "code",
   "execution_count": null,
   "id": "d71ffa6c",
   "metadata": {},
   "outputs": [],
   "source": [
    "# Calculate the accuracy score of the model on the testing data\n",
    "testing_data_accuracy = SVM.score(X_test, Y_test)\n",
    "\n",
    "# Print the accuracy score of the testing data\n",
    "print('Accuracy score of the testing data:', testing_data_accuracy)"
   ]
  },
  {
   "cell_type": "markdown",
   "id": "eec72899",
   "metadata": {},
   "source": [
    "# **Confusion Matrix**"
   ]
  },
  {
   "cell_type": "code",
   "execution_count": null,
   "id": "fe3a7892",
   "metadata": {},
   "outputs": [],
   "source": [
    "# Predicting the target variable for the testing data\n",
    "y_predict = SVM.predict(X_test)\n",
    "\n",
    "# Computing the confusion matrix\n",
    "confusion_matrix(Y_test,y_predict)\n",
    "\n",
    "# Creating a cross-tabulation table\n",
    "pd.crosstab(Y_test, y_predict, rownames=['True'], colnames=['Predicted'], margins=True)"
   ]
  },
  {
   "cell_type": "code",
   "execution_count": null,
   "id": "2e6b0ad5",
   "metadata": {},
   "outputs": [],
   "source": [
    "# Computing the confusion matrix\n",
    "cnf_matrix = confusion_matrix(Y_test, y_predict)\n",
    "\n",
    "# Creating a heatmap of the confusion matrix\n",
    "plt.figure(figsize=(8, 6))\n",
    "p = sns.heatmap(pd.DataFrame(cnf_matrix), annot=True, cmap=\"YlGnBu\", fmt='g')\n",
    "\n",
    "# Setting the title of the heatmap\n",
    "plt.title('Confusion Matrix', y=1.1)\n",
    "\n",
    "# Setting the label for the y-axis\n",
    "plt.ylabel('Actual label')\n",
    "\n",
    "# Setting the label for the x-axis\n",
    "plt.xlabel('Predicted label')\n",
    "\n",
    "# Displaying the heatmap\n",
    "plt.show()"
   ]
  },
  {
   "cell_type": "markdown",
   "id": "5a1d8d5a",
   "metadata": {},
   "source": [
    "# **Classification Report**"
   ]
  },
  {
   "cell_type": "code",
   "execution_count": null,
   "id": "308609c8",
   "metadata": {},
   "outputs": [],
   "source": [
    "print(classification_report(Y_test,y_predict))"
   ]
  },
  {
   "cell_type": "markdown",
   "id": "3fff2744",
   "metadata": {},
   "source": [
    "# **Predictive System**"
   ]
  },
  {
   "cell_type": "code",
   "execution_count": null,
   "id": "4660278e",
   "metadata": {},
   "outputs": [],
   "source": [
    "# Defining the input data\n",
    "input_data = (5, 116, 74, 0, 175, 25.8, 0.587, 51)\n",
    "\n",
    "# Convert the input data to a numpy array\n",
    "input_data_as_numpy_array = np.asarray(input_data)\n",
    "\n",
    "# Reshape the array as we are predicting for one instance\n",
    "input_data_reshaped = input_data_as_numpy_array.reshape(1, -1)\n",
    "\n",
    "# Standardize the input data\n",
    "std_data = scaler.transform(input_data_reshaped)\n",
    "print(\"Standardized input data:\", std_data)\n",
    "\n",
    "# Make the prediction using the SVM model\n",
    "prediction = SVM.predict(std_data)\n",
    "print(\"Prediction:\", prediction)\n",
    "\n",
    "# Print the result based on the prediction\n",
    "if prediction[0] == 0:\n",
    "    print('The person is not diabetic')\n",
    "else:\n",
    "    print('The person is diabetic')"
   ]
  }
 ],
 "metadata": {},
 "nbformat": 4,
 "nbformat_minor": 5
}
