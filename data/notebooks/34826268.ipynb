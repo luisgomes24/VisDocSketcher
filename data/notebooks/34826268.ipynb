{
 "cells": [
  {
   "cell_type": "markdown",
   "id": "af66d7ad",
   "metadata": {},
   "source": [
    "<center>\n",
    "    <a href=\"#\"><img class=\"col-img3\" src=\"https://www.rochester.edu/newscenter/wp-content/uploads/2014/11/fea-video-gam-controller.jpg\" alt=\"\"><p class=\"col-text\"></p></a>\n",
    "</center>"
   ]
  },
  {
   "cell_type": "markdown",
   "id": "87e0c300",
   "metadata": {},
   "source": [
    "\n",
    "<h1 style=\"background-color:#8000ff;font-family:newtimeroman;font-size:350%;text-align:center;border-radius: 15px 50px;\">📋 Table of Content</h1>\n",
    "\n",
    "<div style=\"border-radius:10px;\n",
    "            border :#0A0104 solid;\n",
    "            padding: 15px;\n",
    "            background-color:  ;\n",
    "           font-size:110%;\n",
    "            text-align: left\">\n",
    "    <a id=\"table\"></a>\n",
    "    <center>\n",
    "        > <a href=\"#1\"> 📌 Objectives of Notebook</a>\n",
    "        <br>\n",
    "        > <a href=\"#8\"> 📈 Interesting chartsms</a>\n",
    "        <br>\n",
    "        > <a href=\"#9\"> 💻 Example Dataloader</a>\n",
    "        <br>\n",
    "        > <a href=\"#6\"> 📥 LOADING DATASET</a>\n",
    "        <br>\n",
    "        > <a href=\"#4\"> 📚 Importing Libraries</a>\n",
    "        <br>\n",
    "        > <a href=\"#3\"> 📖 Basic concepts</a>\n",
    "        <br>\n",
    "        > <a href=\"#7\"> 🧹 Data Cleaning</a>\n",
    "        <br>\n",
    "        > <a href=\"#5\"> ⚙️ CONFIG</a>\n",
    "        <br>\n",
    "        > <a href=\"#2\"> 🎯 Goals</a>\n",
    "        <br>\n",
    "    </center>\n",
    "</div>\n"
   ]
  },
  {
   "cell_type": "markdown",
   "id": "943fb595",
   "metadata": {},
   "source": [
    "## <div style=\"padding:10px;background-color:#8000ff;margin:0;color:black;font-family:newtimeroman;font-size:100%;text-align:center;border-radius: 15px 50px;overflow:hidden;font-weight:500\">📌 Objectives of Notebook</div> \n",
    "\n",
    "<div style=\"border-radius:10px;\n",
    "            border :#0A0104 solid;\n",
    "            padding: 15px;\n",
    "            background-color:  ;\n",
    "           font-size:110%;\n",
    "            text-align: left\">\n",
    "    <center>\n",
    "        > 📥 Load the dataset 💻\n",
    "        <br>\n",
    "        > 📚 Import the necessary libraries 🔧\n",
    "        <br>\n",
    "        > 🕵🏻‍♀️ Show example images from the dataset 🖼️\n",
    "        <br>\n",
    "        > 📖 Explain basic concepts related to the project 💡\n",
    "        <br>\n",
    "        > 🐝Analyze the relationship between attributes.\n",
    "        <br>\n",
    "        > 🗺️Practice using libraries to visualize data.\n",
    "    </center>\n",
    "</div>\n"
   ]
  },
  {
   "cell_type": "markdown",
   "id": "f72b3915",
   "metadata": {},
   "source": [
    "<a id=\"2\"></a>\n",
    "# <div style=\"padding:10px;background-color:#8000ff;margin:0;color:black;font-family:newtimeroman;font-size:100%;text-align:center;border-radius: 15px 50px;overflow:hidden;font-weight:500\">🎯 Goals</div> \n",
    "\n",
    "The goal of this competition is to predict student performance during game-based learning in real-time using one of the largest open datasets of game logs. The purpose of this competition is to advance research into knowledge-tracing methods for game-based learning and to help game developers create more effective learning experiences for students. The competition is hosted by Field Day Lab, a publicly-funded research lab at the Wisconsin Center for Educational Research, with the support of the Walton Family Foundation and Schmidt Futures.\n"
   ]
  },
  {
   "cell_type": "markdown",
   "id": "4c4f4943",
   "metadata": {},
   "source": [
    "<a id=\"3\"></a>\n",
    "# <p style=\"padding:10px;background-color:#8000ff;margin:0;color:black;font-family:newtimeroman;font-size:100%;text-align:center;border-radius: 15px 50px;overflow:hidden;font-weight:500\">📖 Basic concepts</p>\n",
    "_ _ _\n",
    "<center>\n",
    "    <font size=\"6\">\n",
    "        Introduction\n",
    "    </font>\n",
    "</center>\n",
    "\n",
    "- - - \n",
    "\n",
    "The field of education is constantly evolving and finding new ways to make learning more engaging and enjoyable for students. Game-based learning has emerged as a popular approach that combines education and entertainment, allowing students to learn while playing games. However, there is still a lack of research into how to effectively use data science and learning analytics to improve game-based learning.\n",
    "\n",
    "The goal of this competition is to help fill this gap by providing a platform for data scientists and researchers to develop models that can predict student performance during game-based learning in real-time. The competition is hosted by Field Day Lab, a publicly-funded research lab at the Wisconsin Center for Educational Research, and is supported by the Walton Family Foundation and Schmidt Futures.\n",
    "\n",
    "This competition offers a unique opportunity for participants to make a meaningful impact in the field of education by advancing research into knowledge-tracing methods for game-based learning. By developing a model that accurately predicts student performance, participants will support game developers in creating more effective learning experiences and contributing to the broader support of game-based learning platforms.\n",
    "\n",
    "_ _ _\n",
    "<center>\n",
    "    <font size=\"6\">\n",
    "        Predict Student Performance from Game Play\n",
    "    </font>\n",
    "</center>\n",
    "\n",
    "- - - \n",
    "\n",
    "Predicting student performance from game play refers to the process of using data collected from students' interactions with educational games to make predictions about their learning and performance. This involves analyzing the game logs, which record information such as the actions taken by the students, the score they achieved, and the time taken to complete the game, to build a model that can accurately predict how well a student is likely to perform in future game-based learning sessions. The goal of this process is to provide game developers and educators with valuable insights that can be used to improve the effectiveness of game-based learning and to better support individual students.\n",
    "\n",
    "_ _ _\n",
    "<center>\n",
    "    <font size=\"6\">\n",
    "       Brief Definition\n",
    "    </font>\n",
    "</center>\n",
    "\n",
    "_ _ _\n",
    "\n",
    "> __Game-based learning__ => An educational approach where students learn through playing games.\n",
    "\n",
    "> __Knowledge tracing__ => A method used in online learning environments and intelligent tutoring systems to track a student's understanding of a particular topic.\n",
    "\n",
    "> __Educational games__ => Games that have an educational purpose or focus.\n",
    "\n",
    "> __Data science__ => The field that deals with the extraction of insights and knowledge from data using statistical and computational methods.\n",
    "\n",
    "> __Learning analytics__ => The measurement, collection, analysis, and reporting of data about learners and their contexts, for purposes of understanding and optimizing learning and the environments in which it occurs.\n",
    "\n",
    "> __Real-time prediction__ => A prediction made in real-time, as events unfold.\n",
    "\n",
    "> __Open dataset__ => A dataset that is freely available for anyone to use.\n",
    "\n",
    "> __Publicly-funded research lab__ => A research lab that is funded by public funds, as opposed to private funds or industry funding."
   ]
  },
  {
   "cell_type": "markdown",
   "id": "9a0d6b96",
   "metadata": {},
   "source": [
    "<a id=\"4\"></a>\n",
    "# <p style=\"padding:10px;background-color:#8000ff;margin:0;color:black;font-family:newtimeroman;font-size:100%;text-align:center;border-radius: 15px 50px;overflow:hidden;font-weight:500\">📚 Importing Libraries</p>\n"
   ]
  },
  {
   "cell_type": "code",
   "execution_count": null,
   "id": "ef784e12",
   "metadata": {},
   "outputs": [],
   "source": [
    "! pip install plotly==5.11.0"
   ]
  },
  {
   "cell_type": "code",
   "execution_count": null,
   "id": "0ebde502",
   "metadata": {},
   "outputs": [],
   "source": [
    "import pandas as pd\n",
    "import seaborn as sns\n",
    "import plotly.express as px\n",
    "import matplotlib.pyplot as plt\n",
    "import plotly.graph_objects as go\n",
    "from mpl_toolkits.mplot3d import Axes3D\n",
    "from plotly.offline import init_notebook_mode, iplot"
   ]
  },
  {
   "cell_type": "markdown",
   "id": "96495544",
   "metadata": {},
   "source": [
    "<a id=\"5\"></a>\n",
    "# <p style=\"padding:10px;background-color:#8000ff;margin:0;color:black;font-family:newtimeroman;font-size:100%;text-align:center;border-radius: 15px 50px;overflow:hidden;font-weight:500\">⚙️ CONFIG</p>"
   ]
  },
  {
   "cell_type": "code",
   "execution_count": null,
   "id": "d767706e",
   "metadata": {},
   "outputs": [],
   "source": [
    "class CFG:\n",
    "    \n",
    "    class path:\n",
    "        to_train =  '/kaggle/input/predict-student-performance-from-game-play/train.csv'\n",
    "        to_labels = '/kaggle/input/predict-student-performance-from-game-play/train_labels.csv'\n",
    "    \n",
    "    class dataloader:\n",
    "        batch_size = 10\n",
    "        random_state = 10"
   ]
  },
  {
   "cell_type": "markdown",
   "id": "53d6272c",
   "metadata": {},
   "source": [
    "<a id=\"6\"></a>\n",
    "# <p style=\"padding:10px;background-color:#8000ff;margin:0;color:black;font-family:newtimeroman;font-size:100%;text-align:center;border-radius: 15px 50px;overflow:hidden;font-weight:500\">📥 LOADING DATASET</p>\n"
   ]
  },
  {
   "cell_type": "code",
   "execution_count": null,
   "id": "12bc9346",
   "metadata": {},
   "outputs": [],
   "source": [
    "train = pd.read_csv(CFG.path.to_train)\n",
    "\n",
    "print(f\"train.shape={train.shape}\")\n",
    "train.head()"
   ]
  },
  {
   "cell_type": "code",
   "execution_count": null,
   "id": "7f51fd65",
   "metadata": {},
   "outputs": [],
   "source": [
    "print(f\"Avalible columns : {list(train)}\")"
   ]
  },
  {
   "cell_type": "code",
   "execution_count": null,
   "id": "022086c9",
   "metadata": {},
   "outputs": [],
   "source": [
    "labels = pd.read_csv(CFG.path.to_labels)\n",
    "\n",
    "print(f\"labels.shape={labels.shape}\")\n",
    "labels.head()"
   ]
  },
  {
   "cell_type": "markdown",
   "id": "8a783f95",
   "metadata": {},
   "source": [
    "<a id=\"7\"></a>\n",
    "# <p style=\"padding:10px;background-color:#8000ff;margin:0;color:black;font-family:newtimeroman;font-size:100%;text-align:center;border-radius: 15px 50px;overflow:hidden;font-weight:500\">📈 Interesting chartsms</p>\n"
   ]
  },
  {
   "cell_type": "code",
   "execution_count": null,
   "id": "9778882f",
   "metadata": {},
   "outputs": [],
   "source": [
    "event_count = train['event_name'].value_counts().reset_index()\n",
    "event_count.columns = ['event_name', 'count']\n",
    "\n",
    "fig = px.bar(event_count, x='event_name', y='count', color='count', title=\"Count the number of occurrences of each event\")\n",
    "fig.show()"
   ]
  },
  {
   "cell_type": "code",
   "execution_count": null,
   "id": "2ee2e681",
   "metadata": {},
   "outputs": [],
   "source": [
    "name_count = train['name'].value_counts().reset_index()\n",
    "name_count.columns = ['name', 'count']\n",
    "\n",
    "fig = px.bar(name_count, x='name', y='count', color='count', title=\"Count the number of occurrences of each name\")\n",
    "fig.show()"
   ]
  },
  {
   "cell_type": "code",
   "execution_count": null,
   "id": "fa861543",
   "metadata": {},
   "outputs": [],
   "source": [
    "page_count = train['page'].value_counts().reset_index()\n",
    "page_count.columns = ['page', 'count']\n",
    "\n",
    "fig = px.bar(page_count, x='page', y='count', color='count', title=\"Count the number of occurrences of each page\")\n",
    "fig.show()"
   ]
  },
  {
   "cell_type": "code",
   "execution_count": null,
   "id": "e4e73d98",
   "metadata": {},
   "outputs": [],
   "source": [
    "events_in_session = pd.DataFrame(train.groupby('session_id').size())\n",
    "events_in_session.columns = [\"n_of_events\"]\n",
    "\n",
    "fig = px.histogram(events_in_session, x=\"n_of_events\", title=\"Types of events in dataset\")\n",
    "fig.show()"
   ]
  },
  {
   "cell_type": "markdown",
   "id": "eea31249",
   "metadata": {},
   "source": [
    "<a id=\"8\"></a>\n",
    "# <p style=\"padding:10px;background-color:#8000ff;margin:0;color:black;font-family:newtimeroman;font-size:100%;text-align:center;border-radius: 15px 50px;overflow:hidden;font-weight:500\">💻 Example Dataloader</p>\n"
   ]
  },
  {
   "cell_type": "code",
   "execution_count": null,
   "id": "2a1c5d7a",
   "metadata": {},
   "outputs": [],
   "source": [
    "batch_users = train[\n",
    "    train[\"session_id\"].isin(\n",
    "        train['session_id'].drop_duplicates()\\\n",
    "                           .sample(\n",
    "                               CFG.dataloader.batch_size,\n",
    "                               random_state=CFG.dataloader.random_state\n",
    "                           ).values\n",
    "    )\n",
    "].reset_index(drop=True)\n",
    "\n",
    "print(f\"batch_users.shape={batch_users.shape}\")\n",
    "batch_users.head()"
   ]
  },
  {
   "cell_type": "markdown",
   "id": "de2a5ec3",
   "metadata": {},
   "source": [
    "<a id=\"3\"></a>\n",
    "# <p style=\"padding:10px;background-color:#8000ff;margin:0;color:black;font-family:newtimeroman;font-size:100%;text-align:center;border-radius: 15px 50px;overflow:hidden;font-weight:500\">Thank you for watching!</p>\n",
    "\n",
    "<center> <img src=\"https://raw.githubusercontent.com/ntclai/PictureForMyProject/main/87481-of-thanks-letter-text-logo-calligraphy-drawing%20(1).png\" style='width: 600px; height: 300px;'>"
   ]
  }
 ],
 "metadata": {},
 "nbformat": 4,
 "nbformat_minor": 5
}
