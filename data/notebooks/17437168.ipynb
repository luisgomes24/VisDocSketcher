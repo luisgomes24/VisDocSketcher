{
 "cells": [
  {
   "cell_type": "markdown",
   "id": "e38da148",
   "metadata": {},
   "source": [
    "# Heart Attack Prediction"
   ]
  },
  {
   "cell_type": "markdown",
   "id": "9109bf8d",
   "metadata": {},
   "source": [
    "I will keep present the code as simple as possible, for beginners to understand."
   ]
  },
  {
   "cell_type": "code",
   "execution_count": null,
   "id": "14fee72b",
   "metadata": {},
   "outputs": [],
   "source": [
    "import pandas as pd # importing libraries"
   ]
  },
  {
   "cell_type": "code",
   "execution_count": null,
   "id": "f923fc05",
   "metadata": {},
   "outputs": [],
   "source": [
    "# importing the data to a dataframe \n",
    "df = pd.read_csv(\"../input/heart-attack-analysis-prediction-dataset/heart.csv\") "
   ]
  },
  {
   "cell_type": "markdown",
   "id": "9b700fd7",
   "metadata": {},
   "source": [
    "## Understanding the data"
   ]
  },
  {
   "cell_type": "code",
   "execution_count": null,
   "id": "d565f8a4",
   "metadata": {},
   "outputs": [],
   "source": [
    "df.head() # displaying first 5 rows"
   ]
  },
  {
   "cell_type": "code",
   "execution_count": null,
   "id": "f0efec22",
   "metadata": {},
   "outputs": [],
   "source": [
    "df.columns #column names"
   ]
  },
  {
   "cell_type": "code",
   "execution_count": null,
   "id": "811f5f33",
   "metadata": {},
   "outputs": [],
   "source": [
    "print('Shape is',df.shape) # shape of the dataframe"
   ]
  },
  {
   "cell_type": "code",
   "execution_count": null,
   "id": "f42dde50",
   "metadata": {},
   "outputs": [],
   "source": [
    "df.isnull().sum() # checking for null values"
   ]
  },
  {
   "cell_type": "markdown",
   "id": "2f777ba1",
   "metadata": {},
   "source": [
    "There are no null values"
   ]
  },
  {
   "cell_type": "code",
   "execution_count": null,
   "id": "394a1d95",
   "metadata": {},
   "outputs": [],
   "source": [
    "df.describe() #summary statistics"
   ]
  },
  {
   "cell_type": "markdown",
   "id": "715445ba",
   "metadata": {},
   "source": [
    "Looking at the data we can understand that the data need to be scaled, because some features have different ranges."
   ]
  },
  {
   "cell_type": "markdown",
   "id": "f3e18d6e",
   "metadata": {},
   "source": [
    "## Feature Scaling"
   ]
  },
  {
   "cell_type": "markdown",
   "id": "aa82c238",
   "metadata": {},
   "source": [
    "Feature scaling is a method used to normalize the range of independent variables or features of data. In data processing,"
   ]
  },
  {
   "cell_type": "code",
   "execution_count": null,
   "id": "9d84f4c7",
   "metadata": {},
   "outputs": [],
   "source": [
    "# dividing some columns with their maximum value, to get normalized values between 0 and 1\n",
    "df['age'] = df['age']/max(df['age'])\n",
    "df['cp'] = df['cp']/max(df['cp'])\n",
    "df['trtbps'] = df['trtbps']/max(df['trtbps'])\n",
    "df['chol'] = df['chol']/max(df['chol'])\n",
    "df['thalachh'] = df['thalachh']/max(df['thalachh'])"
   ]
  },
  {
   "cell_type": "code",
   "execution_count": null,
   "id": "d7a8142a",
   "metadata": {},
   "outputs": [],
   "source": [
    "#now let us look at normalized data.\n",
    "df.describe()"
   ]
  },
  {
   "cell_type": "markdown",
   "id": "c33e563d",
   "metadata": {},
   "source": [
    "## Data Modelling"
   ]
  },
  {
   "cell_type": "code",
   "execution_count": null,
   "id": "b923036a",
   "metadata": {},
   "outputs": [],
   "source": [
    "from sklearn.model_selection import train_test_split\n",
    "\n",
    "#splitting data into training data and testing data\n",
    "X_train, X_test, y_train, y_test = train_test_split(\n",
    "    df.drop(['output'], axis=1),\n",
    "    df.output,\n",
    "    test_size= 0.2,  # 20% test data & 80% train data\n",
    "    random_state=0,\n",
    "    stratify=df.output\n",
    ")"
   ]
  },
  {
   "cell_type": "markdown",
   "id": "bb430976",
   "metadata": {},
   "source": [
    "### Logistic regression"
   ]
  },
  {
   "cell_type": "code",
   "execution_count": null,
   "id": "f7df2d1a",
   "metadata": {},
   "outputs": [],
   "source": [
    "# Logistic regression\n",
    "from sklearn.linear_model import LogisticRegression\n",
    "clf = LogisticRegression()\n",
    "clf.fit(X_train, y_train)\n",
    "\n",
    "from sklearn.metrics import accuracy_score\n",
    "\n",
    "Y_pred = clf.predict(X_test)\n",
    "acc=accuracy_score(y_test, Y_pred)\n",
    "print('Accuracy is',round(acc,2)*100,'%')"
   ]
  },
  {
   "cell_type": "markdown",
   "id": "21a5cbc0",
   "metadata": {},
   "source": [
    "If you like the notebook, please consider upvotting. Thank you"
   ]
  }
 ],
 "metadata": {},
 "nbformat": 4,
 "nbformat_minor": 5
}
