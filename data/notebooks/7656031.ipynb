{
 "cells": [
  {
   "cell_type": "markdown",
   "id": "70189e79",
   "metadata": {},
   "source": [
    "# Show Cars with Similar Local Orientation"
   ]
  },
  {
   "cell_type": "code",
   "execution_count": null,
   "id": "aa84cf1b",
   "metadata": {},
   "outputs": [],
   "source": [
    "import math\n",
    "import random\n",
    "from pathlib import Path\n",
    "from collections import defaultdict\n",
    "import numpy as np\n",
    "import pandas as pd\n",
    "import cv2\n",
    "from scipy.spatial.transform import Rotation\n",
    "from tqdm.notebook import tqdm\n",
    "import matplotlib.pyplot as plt"
   ]
  },
  {
   "cell_type": "code",
   "execution_count": null,
   "id": "b19b7644",
   "metadata": {},
   "outputs": [],
   "source": [
    "camera_matrix = np.array(\n",
    "    [[2304.5479, 0,  1686.2379],\n",
    "     [0, 2305.8757, 1354.9849],\n",
    "     [0, 0, 1]], dtype=np.float32)\n",
    "\n",
    "# code from https://www.kaggle.com/hocop1/centernet-baseline\n",
    "def str2coords(s, names=('id', 'yaw', 'pitch', 'roll', 'x', 'y', 'z')):\n",
    "    '''\n",
    "    Input:\n",
    "        s: PredictionString (e.g. from train dataframe)\n",
    "        names: array of what to extract from the string\n",
    "    Output:\n",
    "        list of dicts with keys from `names`\n",
    "    '''\n",
    "    coords = []\n",
    "    for l in np.array(s.split()).reshape([-1, 7]):\n",
    "        coords.append(dict(zip(names, l.astype('float'))))\n",
    "        if 'id' in coords[-1]:\n",
    "            coords[-1]['id'] = int(coords[-1]['id'])\n",
    "    return coords\n",
    "\n",
    "def get_img_coords(x, y, z):\n",
    "    p = np.array([x, y, z]).T\n",
    "    img_p = np.dot(camera_matrix, p)\n",
    "    img_p[0] /= img_p[2]\n",
    "    img_p[1] /= img_p[2]\n",
    "    return img_p[0], img_p[1], z\n",
    "\n",
    "def get_centerize_mat(x, y, z):\n",
    "    yaw = 0\n",
    "    pitch = -np.arctan(x / z)\n",
    "    roll = np.arctan(y / z)\n",
    "    return Rotation.from_euler(\"xyz\", (roll, pitch, yaw)).as_dcm()\n",
    "\n",
    "def get_targets(c):\n",
    "    x, y, z = c[\"x\"], c[\"y\"], c[\"z\"]\n",
    "    roll, pitch, yaw = c[\"roll\"], c[\"pitch\"], c[\"yaw\"]\n",
    "    ix, iy, _ = get_img_coords(x, y, z)\n",
    "    Rt2 = get_centerize_mat(x, y, z)\n",
    "    Rt1 = Rt2 @ Rotation.from_euler(\"yxz\", (pitch, yaw, roll)).as_dcm()\n",
    "    rot = Rotation.from_dcm(Rt1)\n",
    "    r1, r2, r3 = rot.as_euler(\"yxz\")\n",
    "    r3 = r3 - math.pi if r3 > 0 else r3 + math.pi\n",
    "    return dict(x=x, y=y, z=z, r1=r1, r2=r2, r3=r3, ix=ix, iy=iy)"
   ]
  },
  {
   "cell_type": "code",
   "execution_count": null,
   "id": "eecadd25",
   "metadata": {},
   "outputs": [],
   "source": [
    "train = pd.read_csv(\"../input/pku-autonomous-driving/train.csv\")\n",
    "\n",
    "angles = []\n",
    "cars = []\n",
    "\n",
    "for i, row in tqdm(train.iterrows(), total=len(train)):\n",
    "    coords = str2coords(row[\"PredictionString\"])\n",
    "\n",
    "    for c in coords:\n",
    "        t = get_targets(c)\n",
    "        t[\"img_id\"] = row[\"ImageId\"]\n",
    "        cars.append(t)\n",
    "        angles.append((t[\"r1\"], t[\"r2\"], t[\"r3\"]))"
   ]
  },
  {
   "cell_type": "code",
   "execution_count": null,
   "id": "e58eed1d",
   "metadata": {},
   "outputs": [],
   "source": [
    "def imcrop(img, bbox):\n",
    "    x1, y1, x2, y2 = bbox\n",
    "    if x1 < 0 or y1 < 0 or x2 > img.shape[1] or y2 > img.shape[0]:\n",
    "        img, x1, x2, y1, y2 = pad_img_to_fit_bbox(img, x1, x2, y1, y2)\n",
    "    return img[y1:y2, x1:x2, :]\n",
    "\n",
    "def pad_img_to_fit_bbox(img, x1, x2, y1, y2):\n",
    "    img = cv2.copyMakeBorder(img, - min(0, y1), max(y2 - img.shape[0], 0),\n",
    "                            -min(0, x1), max(x2 - img.shape[1], 0),cv2.BORDER_REPLICATE)\n",
    "    y2 += -min(0, y1)\n",
    "    y1 += -min(0, y1)\n",
    "    x2 += -min(0, x1)\n",
    "    x1 += -min(0, x1)\n",
    "    return img, x1, x2, y1, y2\n",
    "\n",
    "def get_target_car_img(car):\n",
    "    img_dir = Path(\"../input/pku-autonomous-driving/train_images\")\n",
    "    img_id, x, y, s = car[\"img_id\"], car[\"ix\"], car[\"iy\"], 10000 / car[\"z\"]\n",
    "    img_path = img_dir.joinpath(img_id + \".jpg\")\n",
    "    img = cv2.imread(str(img_path))\n",
    "    h, w = img.shape[:2]\n",
    "    x1 = int(x - s / 2)\n",
    "    y1 = int(y - s / 2)\n",
    "    x2 = int(x + s / 2)\n",
    "    y2 = int(y + s / 2)\n",
    "    return imcrop(img, (x1, y1, x2, y2))"
   ]
  },
  {
   "cell_type": "code",
   "execution_count": null,
   "id": "a653eda2",
   "metadata": {},
   "outputs": [],
   "source": [
    "def rot_dist(rot1, rot2):\n",
    "    diff = Rotation.inv(rot2) * rot1\n",
    "    w = np.clip(diff.as_quat()[-1], -1., 1.)\n",
    "    w = (math.acos(w) * 360) / math.pi\n",
    "    if w > 180:\n",
    "        w = 360 - w\n",
    "    return w\n",
    "\n",
    "def euler_dist(euler1, euler2):\n",
    "    rot1 = Rotation.from_euler(\"xyz\", euler1)\n",
    "    rot2 = Rotation.from_euler(\"xyz\", euler2)\n",
    "    return rot_dist(rot1, rot2)\n",
    "\n",
    "def car_dist(car1, car2):\n",
    "    euler1 = (car1[\"r1\"], car1[\"r2\"], car1[\"r3\"])\n",
    "    euler2 = (car2[\"r1\"], car2[\"r2\"], car2[\"r3\"])\n",
    "    return euler_dist(euler1, euler2)"
   ]
  },
  {
   "cell_type": "code",
   "execution_count": null,
   "id": "edc9bebb",
   "metadata": {},
   "outputs": [],
   "source": [
    "def show_cars(cars):\n",
    "    cols, rows = 4, 4\n",
    "    img_num = cols * rows\n",
    "    fig = plt.figure(figsize=(20,20))\n",
    "\n",
    "    for i in range(img_num):\n",
    "        car = cars[i]\n",
    "        img =  get_target_car_img(car)\n",
    "        img = cv2.resize(img, (512, 512))\n",
    "        ax = fig.add_subplot(rows, cols, i + 1)\n",
    "        ax.imshow(img[:, :, ::-1])\n",
    "        plt.axis('off')"
   ]
  },
  {
   "cell_type": "code",
   "execution_count": null,
   "id": "8f828569",
   "metadata": {},
   "outputs": [],
   "source": [
    "# select one car randomly\n",
    "# car = random.choice(cars)  # use this!\n",
    "car = cars[10]\n",
    "img = get_target_car_img(car)\n",
    "plt.imshow(img[:, :, ::-1])"
   ]
  },
  {
   "cell_type": "code",
   "execution_count": null,
   "id": "9f18a4a6",
   "metadata": {},
   "outputs": [],
   "source": [
    "car_dists = [(c, car_dist(car, c)) for c in cars[:1000]]  # use only first 1000 cars because distance calculation is slow...\n",
    "sorted_car_dists = sorted(car_dists, key=lambda x: x[1])"
   ]
  },
  {
   "cell_type": "code",
   "execution_count": null,
   "id": "82a713b9",
   "metadata": {},
   "outputs": [],
   "source": [
    "# show 16 cars with nearest orientations to the above selected car\n",
    "show_cars([c[0] for c in sorted_car_dists[:16]])"
   ]
  },
  {
   "cell_type": "markdown",
   "id": "72ce107d",
   "metadata": {},
   "source": [
    "# Clustering Quaternions"
   ]
  },
  {
   "cell_type": "code",
   "execution_count": null,
   "id": "6356d1b6",
   "metadata": {},
   "outputs": [],
   "source": [
    "def kmeans(samples, k, reduce, distance, max_iter=300):\n",
    "    sample_num = len(samples)\n",
    "    centroids  = [samples[i] for i in np.random.choice(sample_num, k)]\n",
    "    \n",
    "    for i in range(max_iter):\n",
    "        dist = 0.0\n",
    "        centroid_id_to_samples = defaultdict(list)\n",
    "\n",
    "        for sample in samples:\n",
    "            distances = [distance(sample, c) for c in centroids]\n",
    "            nearest_id = np.argmin(np.array(distances))\n",
    "            dist += distances[nearest_id]\n",
    "            centroid_id_to_samples[nearest_id].append(sample)\n",
    "            \n",
    "        print(i, dist / sample_num)\n",
    "            \n",
    "        for k, v in centroid_id_to_samples.items():\n",
    "            centroids[k] = reduce(v)\n",
    "            \n",
    "    return centroids"
   ]
  },
  {
   "cell_type": "code",
   "execution_count": null,
   "id": "01c05d2d",
   "metadata": {},
   "outputs": [],
   "source": [
    "# code from https://github.com/christophhagen/averaging-quaternions\n",
    "# https://github.com/christophhagen/averaging-quaternions/blob/master/LICENSE\n",
    "def average_rotations(rots):\n",
    "    # Number of quaternions to average\n",
    "    M = len(rots)\n",
    "    Q = np.array([q.as_quat() for q in rots])\n",
    "    A = np.zeros(shape=(4, 4))\n",
    "\n",
    "    for i in range(M):\n",
    "        q = Q[i,:]\n",
    "        # multiply q with its transposed version q' and add A\n",
    "        A = np.outer(q,q) + A\n",
    "\n",
    "    # scale\n",
    "    A = (1.0/M)*A\n",
    "    # compute eigenvalues and -vectors\n",
    "    eigenValues, eigenVectors = np.linalg.eig(A)\n",
    "    # Sort by largest eigenvalue\n",
    "    eigenVectors = eigenVectors[:,eigenValues.argsort()[::-1]]\n",
    "    # return the real part of the largest eigenvector (has only real part)\n",
    "    return Rotation.from_quat(np.real(eigenVectors[:,0]))"
   ]
  },
  {
   "cell_type": "code",
   "execution_count": null,
   "id": "c2510622",
   "metadata": {},
   "outputs": [],
   "source": [
    "rots = [Rotation.from_euler(\"yxz\", angle) for angle in angles]"
   ]
  },
  {
   "cell_type": "code",
   "execution_count": null,
   "id": "a87d0c13",
   "metadata": {},
   "outputs": [],
   "source": [
    "%%time\n",
    "# cluster 5000 quaternions into 32 clusters\n",
    "centroids = kmeans(rots[:5000], 32, average_rotations, rot_dist, max_iter=10)"
   ]
  },
  {
   "cell_type": "code",
   "execution_count": null,
   "id": "cc6e6d58",
   "metadata": {},
   "outputs": [],
   "source": [
    "centroid_id_to_cars = defaultdict(list)\n",
    "\n",
    "for car in tqdm(cars[:5000]):\n",
    "    car_rot = Rotation.from_euler(\"yxz\", (car[\"r1\"], car[\"r2\"], car[\"r3\"]))\n",
    "    distances = [rot_dist(car_rot, c) for c in centroids]\n",
    "    nearest_centroid_id = np.argmin(np.array(distances))\n",
    "    centroid_id_to_cars[nearest_centroid_id].append(car)"
   ]
  },
  {
   "cell_type": "code",
   "execution_count": null,
   "id": "31bcdac3",
   "metadata": {},
   "outputs": [],
   "source": [
    "# cluster 0\n",
    "show_cars(random.sample(centroid_id_to_cars[0], 16))"
   ]
  },
  {
   "cell_type": "code",
   "execution_count": null,
   "id": "df71b925",
   "metadata": {},
   "outputs": [],
   "source": [
    "# cluster 1\n",
    "show_cars(random.sample(centroid_id_to_cars[1], 16))"
   ]
  },
  {
   "cell_type": "code",
   "execution_count": null,
   "id": "ccd7cf44",
   "metadata": {},
   "outputs": [],
   "source": [
    "# cluster 2\n",
    "show_cars(random.sample(centroid_id_to_cars[2], 16))"
   ]
  },
  {
   "cell_type": "code",
   "execution_count": null,
   "id": "f1301050",
   "metadata": {},
   "outputs": [],
   "source": [
    "# cluster 3\n",
    "show_cars(random.sample(centroid_id_to_cars[3], 16))"
   ]
  }
 ],
 "metadata": {},
 "nbformat": 4,
 "nbformat_minor": 5
}
