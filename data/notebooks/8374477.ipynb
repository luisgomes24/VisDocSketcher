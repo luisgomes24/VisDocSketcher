{
 "cells": [
  {
   "cell_type": "markdown",
   "id": "3bd8a92d",
   "metadata": {},
   "source": [
    "# The below shows some basic munging and pre-processing using both Numpy and Pandas on a data set called video store.\n",
    "In many cases I did the task in Pandas. \n",
    "Also some work in Matplotlib"
   ]
  },
  {
   "cell_type": "code",
   "execution_count": null,
   "id": "643bb5c7",
   "metadata": {},
   "outputs": [],
   "source": [
    "#import packages.\n",
    "%matplotlib inline \n",
    "import numpy as np\n",
    "import matplotlib.pyplot as plt\n",
    "import pandas as pd"
   ]
  },
  {
   "cell_type": "markdown",
   "id": "403ba413",
   "metadata": {},
   "source": [
    "# get current directory"
   ]
  },
  {
   "cell_type": "code",
   "execution_count": null,
   "id": "1d53ff3a",
   "metadata": {},
   "outputs": [],
   "source": [
    "pwd"
   ]
  },
  {
   "cell_type": "code",
   "execution_count": null,
   "id": "939f09d9",
   "metadata": {},
   "outputs": [],
   "source": [
    "ls"
   ]
  },
  {
   "cell_type": "markdown",
   "id": "2477ac31",
   "metadata": {},
   "source": [
    "# change working directory if needed -- not usually needed on cloud services\n"
   ]
  },
  {
   "cell_type": "code",
   "execution_count": null,
   "id": "a5664243",
   "metadata": {},
   "outputs": [],
   "source": [
    "cd ../working # changes working directory to the child of the parent of the current working directory"
   ]
  },
  {
   "cell_type": "code",
   "execution_count": null,
   "id": "2357fc33",
   "metadata": {},
   "outputs": [],
   "source": [
    "cd /kaggle/working"
   ]
  },
  {
   "cell_type": "markdown",
   "id": "ca25678b",
   "metadata": {},
   "source": [
    "## Importing and printing a Pandas array is like a R Dataframe."
   ]
  },
  {
   "cell_type": "code",
   "execution_count": null,
   "id": "ed80f600",
   "metadata": {},
   "outputs": [],
   "source": [
    "#Import Using Pandas\n",
    "video_pandas=pd.read_csv(\"../input/Video_Store.csv\")\n",
    "video_pandas"
   ]
  },
  {
   "cell_type": "markdown",
   "id": "42f02c16",
   "metadata": {},
   "source": [
    "# Pandas works with this basic structure df.var.function()"
   ]
  },
  {
   "cell_type": "code",
   "execution_count": null,
   "id": "57b6f23f",
   "metadata": {},
   "outputs": [],
   "source": [
    "#similar to names(video_pandas) in R\n",
    "video_pandas.columns"
   ]
  },
  {
   "cell_type": "code",
   "execution_count": null,
   "id": "38afe78a",
   "metadata": {},
   "outputs": [],
   "source": [
    "#similar to dim(video_pandas) in R\n",
    "video_pandas.shape"
   ]
  },
  {
   "cell_type": "code",
   "execution_count": null,
   "id": "344a07e0",
   "metadata": {},
   "outputs": [],
   "source": [
    "#show variables by type something like apply(video_pandas, 2, class) in R\n",
    "video_pandas.dtypes"
   ]
  },
  {
   "cell_type": "code",
   "execution_count": null,
   "id": "3e966f7c",
   "metadata": {},
   "outputs": [],
   "source": [
    "#Descriptives on Income\n",
    "print(video_pandas.Income.min()),\n",
    "print(video_pandas.Income.max()),\n",
    "print(video_pandas.Income.std()),\n",
    "print(video_pandas.Income.mean())"
   ]
  },
  {
   "cell_type": "code",
   "execution_count": null,
   "id": "b8feb435",
   "metadata": {},
   "outputs": [],
   "source": [
    "#Descriptives on Age using Pandas\n",
    "print(video_pandas.Age.min(),video_pandas.Age.max(),video_pandas.Age.std(),video_pandas.Age.mean())"
   ]
  },
  {
   "cell_type": "code",
   "execution_count": null,
   "id": "db5e1a89",
   "metadata": {},
   "outputs": [],
   "source": [
    "#Descriptives on Rentals. Similar to Summary in R\n",
    "video_pandas.Rentals.describe()"
   ]
  },
  {
   "cell_type": "code",
   "execution_count": null,
   "id": "d9208c36",
   "metadata": {},
   "outputs": [],
   "source": [
    "#descptives via Pandas\n",
    "video_pandas.mean()"
   ]
  },
  {
   "cell_type": "code",
   "execution_count": null,
   "id": "390ac4e5",
   "metadata": {},
   "outputs": [],
   "source": [
    "#using pandas, count by category on a categorical variable.\n",
    "video_pandas.groupby('Genre').size()\n",
    "\n",
    "# get cross-tab of genre by other variables\n",
    "video_pandas.groupby('Genre').mean()"
   ]
  },
  {
   "cell_type": "code",
   "execution_count": null,
   "id": "d8fc242b",
   "metadata": {},
   "outputs": [],
   "source": [
    "#Using Pandas Query function. Custumers with incomes greater than $30K\n",
    "video_sub=video_pandas.query('Income > 30000') \n",
    "video_sub"
   ]
  },
  {
   "cell_type": "code",
   "execution_count": null,
   "id": "cad76a6d",
   "metadata": {},
   "outputs": [],
   "source": [
    "# using pandas, count by category for a categorical variable.\n",
    "video_sub.groupby('Gender').size()"
   ]
  },
  {
   "cell_type": "code",
   "execution_count": null,
   "id": "ffb1fe07",
   "metadata": {},
   "outputs": [],
   "source": [
    "# Desciptives of customers with incomes greater than $30K\n",
    "video_sub.mean()"
   ]
  },
  {
   "cell_type": "code",
   "execution_count": null,
   "id": "4665d281",
   "metadata": {},
   "outputs": [],
   "source": [
    "video_sub.Genre.value_counts()"
   ]
  },
  {
   "cell_type": "code",
   "execution_count": null,
   "id": "bced0866",
   "metadata": {},
   "outputs": [],
   "source": [
    "#using pandas, count by category for a categorical variable.\n",
    "video_sub.groupby('Genre').size()\n"
   ]
  },
  {
   "cell_type": "code",
   "execution_count": null,
   "id": "77da3ce5",
   "metadata": {},
   "outputs": [],
   "source": [
    "#shorten the df\n",
    "vp=video_pandas"
   ]
  },
  {
   "cell_type": "code",
   "execution_count": null,
   "id": "9defe797",
   "metadata": {},
   "outputs": [],
   "source": [
    "#Transform to Z-Scores\n",
    "#This is the manual way with formulas. Will show a function later.\n",
    "Age_Z=pd.DataFrame((vp.Age-vp.Age.mean())/vp.Age.std())\n",
    "Income_Z=pd.DataFrame((vp.Income-vp.Income.mean())/vp.Income.std())\n",
    "Rentals_Z=pd.DataFrame((vp.Rentals-vp.Rentals.mean())/vp.Rentals.std())\n",
    "#Showing how you use a variable that has spaces.\n",
    "Avg_Per_Visit_Z=pd.DataFrame((vp['Avg Per Visit']-vp['Avg Per Visit'].mean())/vp['Avg Per Visit'].std())\n",
    "Avg_Per_Visit_Z=pd.DataFrame((vp['Avg Per Visit']-vp['Avg Per Visit'].mean())/vp['Avg Per Visit'].std())\n",
    "Age_Z.head(10)"
   ]
  },
  {
   "cell_type": "code",
   "execution_count": null,
   "id": "14c19e96",
   "metadata": {},
   "outputs": [],
   "source": [
    "Income_Z.head()"
   ]
  },
  {
   "cell_type": "code",
   "execution_count": null,
   "id": "daa92840",
   "metadata": {},
   "outputs": [],
   "source": [
    "# Dummies via Pandas\n",
    "Genre_dummy=pd.DataFrame(pd.get_dummies(vp['Genre']))\n",
    "Genre_dummy"
   ]
  },
  {
   "cell_type": "markdown",
   "id": "c7ba5d37",
   "metadata": {},
   "source": [
    "# My Histogram"
   ]
  },
  {
   "cell_type": "code",
   "execution_count": null,
   "id": "cb288c07",
   "metadata": {},
   "outputs": [],
   "source": [
    "#histogram of Income using 9 bins\n",
    "n, bins, patches = plt.hist(vp.Income, 9, facecolor='green', alpha=0.75)\n",
    "plt.ylim(0, 10)\n",
    "plt.title('histogram of Income using 9 bins')\n",
    "plt.xlabel(\"Income\")\n",
    "plt.ylabel(\"Frequency\")\n",
    "plt.show()"
   ]
  },
  {
   "cell_type": "markdown",
   "id": "2876cb10",
   "metadata": {},
   "source": [
    "# histogram of Age using 7 bins"
   ]
  },
  {
   "cell_type": "code",
   "execution_count": null,
   "id": "b8f162f7",
   "metadata": {},
   "outputs": [],
   "source": [
    "\n",
    "n, bins, patches = plt.hist(vp.Age, 7, facecolor='blue', alpha=0.75)\n",
    "plt.ylim(0, 15)\n",
    "plt.xlabel(\"Age\")\n",
    "plt.ylabel(\"Frequency\")\n",
    "plt.title('Histogram of Age using 7 bins')\n",
    "plt.show()"
   ]
  },
  {
   "cell_type": "code",
   "execution_count": null,
   "id": "5e9f2ddf",
   "metadata": {},
   "outputs": [],
   "source": [
    "plt.scatter(vp.Income,vp.Age)\n",
    "plt.title('Scatter of Income and Age')\n",
    "plt.xlabel(\"Income\")\n",
    "plt.ylabel(\"Age\")\n",
    "plt.xlim(0, 100000)\n",
    "plt.show()"
   ]
  },
  {
   "cell_type": "code",
   "execution_count": null,
   "id": "b6c12a0c",
   "metadata": {},
   "outputs": [],
   "source": [
    "#Crosstab using Pandas\n",
    "video_cross=pd.crosstab(vp.Gender, vp.Genre,colnames=['Genre'],rownames=['Gender'])\n",
    "print(video_cross)"
   ]
  },
  {
   "cell_type": "code",
   "execution_count": null,
   "id": "3707ed2d",
   "metadata": {},
   "outputs": [],
   "source": [
    "#Bar plot of Genre by Gender\n",
    "video_cross.plot(kind='bar', stacked=True)\n",
    "plt.title('Movie Genre by Gender')\n",
    "\n"
   ]
  }
 ],
 "metadata": {},
 "nbformat": 4,
 "nbformat_minor": 5
}
