{
 "cells": [
  {
   "cell_type": "code",
   "execution_count": null,
   "id": "8709ba26",
   "metadata": {},
   "outputs": [],
   "source": [
    "!pip install uniem sentence-transformers"
   ]
  },
  {
   "cell_type": "code",
   "execution_count": null,
   "id": "c2c52281",
   "metadata": {},
   "outputs": [],
   "source": [
    "from sentence_transformers import SentenceTransformer\n",
    "\n",
    "model = SentenceTransformer('infgrad/stella-base-zh')"
   ]
  },
  {
   "cell_type": "code",
   "execution_count": null,
   "id": "0cf80e2b",
   "metadata": {},
   "outputs": [],
   "source": [
    "sentences = [\"谜底：白羊\", \"猜谜语：一身卷卷细毛，吃的青青野草，过了数九寒冬，无私献出白毛。 （打一动物）\"]"
   ]
  },
  {
   "cell_type": "code",
   "execution_count": null,
   "id": "08846f5d",
   "metadata": {},
   "outputs": [],
   "source": [
    "embeddings = model.encode(sentences, normalize_embeddings=True)"
   ]
  },
  {
   "cell_type": "code",
   "execution_count": null,
   "id": "20eedb2c",
   "metadata": {},
   "outputs": [],
   "source": [
    "embeddings"
   ]
  },
  {
   "cell_type": "code",
   "execution_count": null,
   "id": "2a8486ec",
   "metadata": {},
   "outputs": [],
   "source": [
    "from sentence_transformers.util import cos_sim\n",
    "\n",
    "print(cos_sim(embeddings[0], embeddings[1]))"
   ]
  },
  {
   "cell_type": "markdown",
   "id": "820f2d0e",
   "metadata": {},
   "source": [
    "# 微调"
   ]
  },
  {
   "cell_type": "code",
   "execution_count": null,
   "id": "f24f1b33",
   "metadata": {},
   "outputs": [],
   "source": [
    "import pandas as pd\n",
    "\n",
    "df = pd.read_json('https://raw.githubusercontent.com/wangyuxinwhy/uniem/main/examples/example_data/riddle.jsonl', lines=True)\n",
    "df = df.rename(columns={'instruction': 'text', 'output': 'text_pos'})\n",
    "\n",
    "df"
   ]
  },
  {
   "cell_type": "code",
   "execution_count": null,
   "id": "d0351453",
   "metadata": {},
   "outputs": [],
   "source": [
    "from uniem.finetuner import FineTuner\n",
    "\n",
    "finetuner = FineTuner.from_pretrained('infgrad/stella-base-zh', dataset=df.to_dict('records'))\n",
    "fintuned_model = finetuner.run(epochs=10, output_dir='finetuned-model')"
   ]
  },
  {
   "cell_type": "code",
   "execution_count": null,
   "id": "2b88b319",
   "metadata": {},
   "outputs": [],
   "source": [
    "from sentence_transformers import SentenceTransformer\n",
    "\n",
    "model = SentenceTransformer('/kaggle/working/finetuned-model/model')\n",
    "\n",
    "sentences = [\"谜底：白羊\",\n",
    "             \"猜谜语：一身卷卷细毛，吃的青青野草，过了数九寒冬，无私献出白毛。 （打一动物）\"]\n",
    "embeddings = model.encode(sentences)\n",
    "\n",
    "embeddings"
   ]
  },
  {
   "cell_type": "code",
   "execution_count": null,
   "id": "4d10b91d",
   "metadata": {},
   "outputs": [],
   "source": [
    "from sentence_transformers.util import cos_sim\n",
    "\n",
    "print(cos_sim(embeddings[0], embeddings[1]))"
   ]
  }
 ],
 "metadata": {},
 "nbformat": 4,
 "nbformat_minor": 5
}
