{
 "cells": [
  {
   "cell_type": "code",
   "execution_count": null,
   "id": "b5661a84",
   "metadata": {},
   "outputs": [],
   "source": [
    "# This Python 3 environment comes with many helpful analytics libraries installed\n",
    "# It is defined by the kaggle/python Docker image: https://github.com/kaggle/docker-python\n",
    "# For example, here's several helpful packages to load\n",
    "\n",
    "import numpy as np # linear algebra\n",
    "import pandas as pd # data processing, CSV file I/O (e.g. pd.read_csv)\n",
    "import matplotlib.pyplot as plt\n",
    "import seaborn as sb\n",
    "sb.set_style('whitegrid')\n",
    "# Input data files are available in the read-only \"../input/\" directory\n",
    "# For example, running this (by clicking run or pressing Shift+Enter) will list all files under the input directory\n",
    "\n",
    "import os\n",
    "for dirname, _, filenames in os.walk('/kaggle/input'):\n",
    "    for filename in filenames:\n",
    "        print(os.path.join(dirname, filename))\n",
    "\n",
    "# You can write up to 20GB to the current directory (/kaggle/working/) that gets preserved as output when you create a version using \"Save & Run All\" \n",
    "# You can also write temporary files to /kaggle/temp/, but they won't be saved outside of the current session"
   ]
  },
  {
   "cell_type": "code",
   "execution_count": null,
   "id": "a9479bdf",
   "metadata": {},
   "outputs": [],
   "source": [
    "data = pd.read_csv('../input/women-entrepreneurship-and-labor-force/Dataset3.csv', delimiter=';', encoding = \"ISO-8859-1\")"
   ]
  },
  {
   "cell_type": "code",
   "execution_count": null,
   "id": "9a7a22ca",
   "metadata": {},
   "outputs": [],
   "source": [
    "data"
   ]
  },
  {
   "cell_type": "code",
   "execution_count": null,
   "id": "d42ee339",
   "metadata": {},
   "outputs": [],
   "source": [
    "data.drop('No',1,inplace=True)"
   ]
  },
  {
   "cell_type": "markdown",
   "id": "f40ad7a0",
   "metadata": {},
   "source": [
    "# **Looking out for Null Values**"
   ]
  },
  {
   "cell_type": "code",
   "execution_count": null,
   "id": "0ce1c1dc",
   "metadata": {},
   "outputs": [],
   "source": [
    "data.isnull().sum()"
   ]
  },
  {
   "cell_type": "markdown",
   "id": "1ad776b0",
   "metadata": {},
   "source": [
    "Data is clean."
   ]
  },
  {
   "cell_type": "code",
   "execution_count": null,
   "id": "f7d7c15b",
   "metadata": {},
   "outputs": [],
   "source": [
    "data.dtypes"
   ]
  },
  {
   "cell_type": "code",
   "execution_count": null,
   "id": "2661d6ae",
   "metadata": {},
   "outputs": [],
   "source": [
    "from sklearn.preprocessing import LabelEncoder,LabelBinarizer\n",
    "le = LabelEncoder()\n",
    "lb = LabelBinarizer()\n",
    "data['Country'].unique()\n",
    "country = {'Austria':1, 'Belgium':2, 'Estonia':3, 'Finland':4, 'France':5, 'Germany':6,\n",
    "       'Greece':7, 'Ireland':8, 'Italy':9, 'Latvia':10, 'Lithuania':11, 'Netherlands':12,\n",
    "       'Slovakia':13, 'Slovenia':14, 'Spain':15, 'Croatia':16, 'Denmark':17, 'Hungary':18,\n",
    "       'Poland':19, 'Sweden':20, 'Australia':21, 'Iceland':22, 'Japan':23, 'Norway':24,\n",
    "       'Singapore':25, 'Switzerland':26, 'Taiwan':27, 'Algeria':28, 'Argentina':29,\n",
    "       'Bolivia':30, 'Bosnia and Herzegovina':31, 'Brazil':32, 'China':33,\n",
    "       'Costa Rica':34, 'Ecuador':35, 'Egypt':36, 'El Salvador':37, 'Ghana':38, 'India':39,\n",
    "       'Jamaica':40, 'Macedonia':41, 'Malaysia':42, 'Mexico':43, 'Panama':44, 'Peru':45,\n",
    "       'Russia':46, 'Saudi Arabia':47, 'Thailand':48, 'Tunisia':49, 'Turkey':50,\n",
    "       'Uruguay':51}\n",
    "data['country'] = data['Country'].map(country)\n",
    "data['European Union Membership'] = lb.fit_transform(data['European Union Membership'])\n",
    "data['Currency'] = lb.fit_transform(data['Currency'])\n",
    "data['Level of development'] = le.fit_transform(data['Level of development'])\n"
   ]
  },
  {
   "cell_type": "code",
   "execution_count": null,
   "id": "84000b16",
   "metadata": {},
   "outputs": [],
   "source": [
    "data"
   ]
  },
  {
   "cell_type": "markdown",
   "id": "50677842",
   "metadata": {},
   "source": [
    "# **Data Analysis**"
   ]
  },
  {
   "cell_type": "code",
   "execution_count": null,
   "id": "e99433b8",
   "metadata": {},
   "outputs": [],
   "source": [
    "data.describe()"
   ]
  },
  {
   "cell_type": "code",
   "execution_count": null,
   "id": "884efaed",
   "metadata": {},
   "outputs": [],
   "source": [
    "plt.figure(figsize = (25,10))\n",
    "sb.heatmap(data.corr(),annot=True,cmap = 'twilight_shifted')"
   ]
  },
  {
   "cell_type": "markdown",
   "id": "49994dbb",
   "metadata": {},
   "source": [
    "* Women Entrepreneurship Index,Entrepreneurship Index have a positive co-relation with Participation Rate\n",
    "* Female Labor Force Participation Rate has a strong negetive corelation with participation rate\n"
   ]
  },
  {
   "cell_type": "markdown",
   "id": "9eafcec5",
   "metadata": {},
   "source": [
    "**Female Labour Force Participation Rate by Countries**"
   ]
  },
  {
   "cell_type": "code",
   "execution_count": null,
   "id": "7fa9790d",
   "metadata": {},
   "outputs": [],
   "source": [
    "plt.figure(figsize = (25,15))\n",
    "sb.barplot(x= data['country'],y = data['Female Labor Force Participation Rate']);\n",
    "plt.yticks([5,10,15,20,25,30,35,40,45,50,55,60,65,70,75,80,85]);\n",
    "        #'Austria':1, 'Belgium':2, 'Estonia':3, 'Finland':4, 'France':5, 'Germany':6,\n",
    "       #'Greece':7, 'Ireland':8, 'Italy':9, 'Latvia':10, 'Lithuania':11, 'Netherlands':12,\n",
    "       #'Slovakia':13, 'Slovenia':14, 'Spain':15, 'Croatia':16, 'Denmark':17, 'Hungary':18,\n",
    "       #'Poland':19, 'Sweden':20, 'Australia':21, 'Iceland':22, 'Japan':23, 'Norway':24,\n",
    "       #'Singapore':25, 'Switzerland':26, 'Taiwan':27, 'Algeria':28, 'Argentina':29,\n",
    "       #'Bolivia':30, 'Bosnia and Herzegovina':31, 'Brazil':32, 'China':33,\n",
    "       #'Costa Rica':34, 'Ecuador':35, 'Egypt':36, 'El Salvador':37, 'Ghana':38, 'India':39,\n",
    "       #'Jamaica':40, 'Macedonia':41, 'Malaysia':42, 'Mexico':43, 'Panama':44, 'Peru':45,\n",
    "       #'Russia':46, 'Saudi Arabia':47, 'Thailand':48, 'Tunisia':49, 'Turkey':50,\n",
    "       #'Uruguay':51#"
   ]
  },
  {
   "cell_type": "markdown",
   "id": "adc345ed",
   "metadata": {},
   "source": [
    "* Iceland tops the list of Participation Rate followed by Switzerland ,Sweden,Macedona and Germany\n",
    "* Saudi Arabia and Algeria have the Least Participation Rate for Females"
   ]
  },
  {
   "cell_type": "markdown",
   "id": "83b3c9dc",
   "metadata": {},
   "source": [
    "Level of Development and Female Employement Rate"
   ]
  },
  {
   "cell_type": "code",
   "execution_count": null,
   "id": "fbc8ce1b",
   "metadata": {},
   "outputs": [],
   "source": [
    "plt.figure(figsize = (25,10))\n",
    "plt.hist(data['Level of development']);\n",
    "plt.xticks(ticks = [0,1],labels = ['Developed','Developing']);\n"
   ]
  },
  {
   "cell_type": "markdown",
   "id": "3b522457",
   "metadata": {},
   "source": [
    "**More than 25 out of 51 countries in the list are developed nations**"
   ]
  },
  {
   "cell_type": "code",
   "execution_count": null,
   "id": "33f43c8b",
   "metadata": {},
   "outputs": [],
   "source": [
    "plt.figure(figsize = (25,10))\n",
    "sb.regplot(x = data['Level of development'],y=data['Female Labor Force Participation Rate'])"
   ]
  },
  {
   "cell_type": "markdown",
   "id": "c2cc8d36",
   "metadata": {},
   "source": [
    "**The Rate of Female Labor Force Participation Rate in developed countries is more**"
   ]
  },
  {
   "cell_type": "markdown",
   "id": "d37bad89",
   "metadata": {},
   "source": [
    "**Woman Entrepreneurship Index by country**"
   ]
  },
  {
   "cell_type": "code",
   "execution_count": null,
   "id": "1f8d8c47",
   "metadata": {},
   "outputs": [],
   "source": [
    "plt.figure(figsize = (25,10))\n",
    "sb.barplot(x= data['country'],y = data['Women Entrepreneurship Index']);\n",
    "plt.yticks([5,10,15,20,25,30,35,40,45,50,55,60,65,70,75]);\n",
    "        #'Austria':1, 'Belgium':2, 'Estonia':3, 'Finland':4, 'France':5, 'Germany':6,\n",
    "       #'Greece':7, 'Ireland':8, 'Italy':9, 'Latvia':10, 'Lithuania':11, 'Netherlands':12,\n",
    "       #'Slovakia':13, 'Slovenia':14, 'Spain':15, 'Croatia':16, 'Denmark':17, 'Hungary':18,\n",
    "       #'Poland':19, 'Sweden':20, 'Australia':21, 'Iceland':22, 'Japan':23, 'Norway':24,\n",
    "       #'Singapore':25, 'Switzerland':26, 'Taiwan':27, 'Algeria':28, 'Argentina':29,\n",
    "       #'Bolivia':30, 'Bosnia and Herzegovina':31, 'Brazil':32, 'China':33,\n",
    "       #'Costa Rica':34, 'Ecuador':35, 'Egypt':36, 'El Salvador':37, 'Ghana':38, 'India':39,\n",
    "       #'Jamaica':40, 'Macedonia':41, 'Malaysia':42, 'Mexico':43, 'Panama':44, 'Peru':45,\n",
    "       #'Russia':46, 'Saudi Arabia':47, 'Thailand':48, 'Tunisia':49, 'Turkey':50,\n",
    "       #'Uruguay':51#\n",
    "plt.title('Women Entrepreneurship Index by Country');"
   ]
  },
  {
   "cell_type": "markdown",
   "id": "7f2a0229",
   "metadata": {},
   "source": [
    "* Women Entrepreneurship Index is maximum in Iceland followed by Denmark,Lithuania\n",
    "* Women Entrepreneurship Index is mimimum in India,Ghana"
   ]
  },
  {
   "cell_type": "markdown",
   "id": "4d153b73",
   "metadata": {},
   "source": [
    "Women Entrepreneurship Index and Female Labor Force Participation Rate "
   ]
  },
  {
   "cell_type": "code",
   "execution_count": null,
   "id": "b85f7916",
   "metadata": {},
   "outputs": [],
   "source": [
    "plt.figure(figsize = (25,10))\n",
    "sb.lineplot(x = data['Women Entrepreneurship Index'],y = data['Female Labor Force Participation Rate'],color = 'darkviolet')"
   ]
  },
  {
   "cell_type": "code",
   "execution_count": null,
   "id": "15253ba3",
   "metadata": {},
   "outputs": [],
   "source": [
    "plt.figure(figsize = (25,10))\n",
    "sb.residplot(x = data['Women Entrepreneurship Index'],y = data['Female Labor Force Participation Rate'],color = 'darkviolet')"
   ]
  },
  {
   "cell_type": "code",
   "execution_count": null,
   "id": "c07220c9",
   "metadata": {},
   "outputs": [],
   "source": [
    "plt.figure(figsize = (25,10))\n",
    "sb.regplot(x = data['Women Entrepreneurship Index'],y = data['Female Labor Force Participation Rate'],color = 'darkviolet')"
   ]
  },
  {
   "cell_type": "markdown",
   "id": "bd1e8055",
   "metadata": {},
   "source": [
    "**As Women Entrepreneurship Index increases Female Labor Force Participation Rate increases**"
   ]
  },
  {
   "cell_type": "markdown",
   "id": "1cf37b26",
   "metadata": {},
   "source": [
    "**Entrepreneurship Index**"
   ]
  },
  {
   "cell_type": "code",
   "execution_count": null,
   "id": "fb6b60e5",
   "metadata": {},
   "outputs": [],
   "source": [
    "plt.figure(figsize = (25,10))\n",
    "sb.barplot(x= data['country'],y = data['Entrepreneurship Index']);\n",
    "plt.yticks([5,10,15,20,25,30,35,40,45,50,55,60,65,70,75]);\n",
    "        #'Austria':1, 'Belgium':2, 'Estonia':3, 'Finland':4, 'France':5, 'Germany':6,\n",
    "       #'Greece':7, 'Ireland':8, 'Italy':9, 'Latvia':10, 'Lithuania':11, 'Netherlands':12,\n",
    "       #'Slovakia':13, 'Slovenia':14, 'Spain':15, 'Croatia':16, 'Denmark':17, 'Hungary':18,\n",
    "       #'Poland':19, 'Sweden':20, 'Australia':21, 'Iceland':22, 'Japan':23, 'Norway':24,\n",
    "       #'Singapore':25, 'Switzerland':26, 'Taiwan':27, 'Algeria':28, 'Argentina':29,\n",
    "       #'Bolivia':30, 'Bosnia and Herzegovina':31, 'Brazil':32, 'China':33,\n",
    "       #'Costa Rica':34, 'Ecuador':35, 'Egypt':36, 'El Salvador':37, 'Ghana':38, 'India':39,\n",
    "       #'Jamaica':40, 'Macedonia':41, 'Malaysia':42, 'Mexico':43, 'Panama':44, 'Peru':45,\n",
    "       #'Russia':46, 'Saudi Arabia':47, 'Thailand':48, 'Tunisia':49, 'Turkey':50,\n",
    "       #'Uruguay':51#\n",
    "plt.title('Entrepreneurship Index by Country');"
   ]
  },
  {
   "cell_type": "markdown",
   "id": "8e6c6bba",
   "metadata": {},
   "source": [
    "* Australia has the highest Entrepreneurship Index followed by Sweden"
   ]
  },
  {
   "cell_type": "code",
   "execution_count": null,
   "id": "d0274489",
   "metadata": {},
   "outputs": [],
   "source": [
    "plt.figure(figsize = (25,10))\n",
    "sb.lineplot(x = data['Entrepreneurship Index'],y = data['Women Entrepreneurship Index'],color = 'darkviolet')"
   ]
  },
  {
   "cell_type": "code",
   "execution_count": null,
   "id": "466085f6",
   "metadata": {},
   "outputs": [],
   "source": [
    "plt.figure(figsize = (25,10))\n",
    "sb.regplot(x = data['Entrepreneurship Index'],y = data['Women Entrepreneurship Index'],color = 'darkviolet')"
   ]
  },
  {
   "cell_type": "markdown",
   "id": "2e3e8705",
   "metadata": {},
   "source": [
    "As Entrepreneurship Index increases Women Entrepreneurship Index increases"
   ]
  },
  {
   "cell_type": "code",
   "execution_count": null,
   "id": "272b430e",
   "metadata": {},
   "outputs": [],
   "source": [
    "plt.figure(figsize = (25,10))\n",
    "sb.lineplot(x = data['Entrepreneurship Index'],y = data['Female Labor Force Participation Rate'],color = 'darkviolet')"
   ]
  },
  {
   "cell_type": "code",
   "execution_count": null,
   "id": "5eb45a3b",
   "metadata": {},
   "outputs": [],
   "source": [
    "plt.figure(figsize = (25,10))\n",
    "sb.regplot(x = data['Entrepreneurship Index'],y = data['Female Labor Force Participation Rate'],color = 'darkviolet')"
   ]
  },
  {
   "cell_type": "markdown",
   "id": "3eaac06f",
   "metadata": {},
   "source": [
    "As Entrepreneurship Index increases Female Participation rate also increases"
   ]
  },
  {
   "cell_type": "markdown",
   "id": "76820609",
   "metadata": {},
   "source": [
    "**Inflation Rate**"
   ]
  },
  {
   "cell_type": "code",
   "execution_count": null,
   "id": "452f1924",
   "metadata": {},
   "outputs": [],
   "source": [
    "plt.figure(figsize = (25,10))\n",
    "sb.barplot(x= data['country'],y = data['Inflation rate']);\n",
    "\n",
    "        #'Austria':1, 'Belgium':2, 'Estonia':3, 'Finland':4, 'France':5, 'Germany':6,\n",
    "       #'Greece':7, 'Ireland':8, 'Italy':9, 'Latvia':10, 'Lithuania':11, 'Netherlands':12,\n",
    "       #'Slovakia':13, 'Slovenia':14, 'Spain':15, 'Croatia':16, 'Denmark':17, 'Hungary':18,\n",
    "       #'Poland':19, 'Sweden':20, 'Australia':21, 'Iceland':22, 'Japan':23, 'Norway':24,\n",
    "       #'Singapore':25, 'Switzerland':26, 'Taiwan':27, 'Algeria':28, 'Argentina':29,\n",
    "       #'Bolivia':30, 'Bosnia and Herzegovina':31, 'Brazil':32, 'China':33,\n",
    "       #'Costa Rica':34, 'Ecuador':35, 'Egypt':36, 'El Salvador':37, 'Ghana':38, 'India':39,\n",
    "       #'Jamaica':40, 'Macedonia':41, 'Malaysia':42, 'Mexico':43, 'Panama':44, 'Peru':45,\n",
    "       #'Russia':46, 'Saudi Arabia':47, 'Thailand':48, 'Tunisia':49, 'Turkey':50,\n",
    "       #'Uruguay':51#\n",
    "plt.title('Inflation rate by Country');"
   ]
  },
  {
   "cell_type": "markdown",
   "id": "49d429be",
   "metadata": {},
   "source": [
    "Among the given countries \n",
    "* Argentina has the highest inflation rate\n",
    "* El Salvador has the lowest inflation rate"
   ]
  },
  {
   "cell_type": "code",
   "execution_count": null,
   "id": "f16a5d04",
   "metadata": {},
   "outputs": [],
   "source": [
    "plt.figure(figsize=(25,10))\n",
    "sb.regplot(data['Inflation rate'],data['Level of development'])"
   ]
  },
  {
   "cell_type": "markdown",
   "id": "cd3d953d",
   "metadata": {},
   "source": [
    "* Inflation Rate is generally higher in developing countries"
   ]
  },
  {
   "cell_type": "code",
   "execution_count": null,
   "id": "9b82da0d",
   "metadata": {},
   "outputs": [],
   "source": [
    "plt.figure(figsize = (25,10))\n",
    "sb.regplot(x = data['Inflation rate'],y = data['Female Labor Force Participation Rate'],color = 'darkviolet')"
   ]
  },
  {
   "cell_type": "markdown",
   "id": "fdbe508a",
   "metadata": {},
   "source": [
    "**With increase in inflation rate Female Labor Force participation rate tends to decrease**"
   ]
  },
  {
   "cell_type": "code",
   "execution_count": null,
   "id": "276d443d",
   "metadata": {},
   "outputs": [],
   "source": [
    "nan"
   ]
  }
 ],
 "metadata": {},
 "nbformat": 4,
 "nbformat_minor": 5
}
