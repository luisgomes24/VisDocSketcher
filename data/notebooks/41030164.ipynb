{
 "cells": [
  {
   "cell_type": "markdown",
   "id": "c7bc3569",
   "metadata": {},
   "source": [
    "Below is the leaderboard for the Efficiency Prize track of this competition. See the [Efficiency Prize Evaluation](https://www.kaggle.com/competitions/commonlit-evaluate-student-summaries/overview/efficiency-prize-evaluation) page for details on how this leaderboard was computed. We show only the top 100 teams here, but you may view the full `leaderboard.csv` file in the output data of this notebook for the rest."
   ]
  },
  {
   "cell_type": "code",
   "execution_count": null,
   "id": "d58d1e06",
   "metadata": {},
   "outputs": [],
   "source": [
    "import pandas as pd\n",
    "\n",
    "pd.options.display.min_rows = 100\n",
    "pd.options.display.max_rows = 100\n",
    "\n",
    "leaderboard = pd.read_csv('../input/evaluate-student-summaries-efficiency-data/leaderboard.csv', index_col='EfficiencyRank')\n",
    "leaderboard.to_csv('full_leaderboard.csv')\n",
    "leaderboard.head(100)"
   ]
  }
 ],
 "metadata": {},
 "nbformat": 4,
 "nbformat_minor": 5
}
