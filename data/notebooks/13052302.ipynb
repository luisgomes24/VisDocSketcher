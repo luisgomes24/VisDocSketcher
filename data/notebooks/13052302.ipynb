{
 "cells": [
  {
   "cell_type": "code",
   "execution_count": null,
   "id": "6a44e0b3",
   "metadata": {},
   "outputs": [],
   "source": [
    "import pandas as pd"
   ]
  },
  {
   "cell_type": "code",
   "execution_count": null,
   "id": "eb6aa183",
   "metadata": {},
   "outputs": [],
   "source": [
    "data1=pd.read_csv(\"../input/us-election-2020/governors_county.csv\")\n",
    "data1"
   ]
  },
  {
   "cell_type": "code",
   "execution_count": null,
   "id": "81680827",
   "metadata": {},
   "outputs": [],
   "source": [
    "df = pd.DataFrame(data1)\n",
    "df.drop(df.columns[[0, 1, 4]], axis = 1, inplace = True)\n",
    "df.head()"
   ]
  },
  {
   "cell_type": "code",
   "execution_count": null,
   "id": "70f2f478",
   "metadata": {},
   "outputs": [],
   "source": [
    "import seaborn as sns\n",
    "sns.scatterplot(data=df)"
   ]
  },
  {
   "cell_type": "code",
   "execution_count": null,
   "id": "7c83c8c4",
   "metadata": {},
   "outputs": [],
   "source": [
    "data2=pd.read_csv(\"../input/us-election-2020/governors_county_candidate.csv\")\n",
    "data2"
   ]
  },
  {
   "cell_type": "code",
   "execution_count": null,
   "id": "f17dab14",
   "metadata": {},
   "outputs": [],
   "source": [
    "import matplotlib.pyplot as plt\n",
    "df = pd.DataFrame(data2)\n",
    "df.drop(df.columns[[0, 1, 2, 4]], axis = 1, inplace = True)\n",
    "df"
   ]
  },
  {
   "cell_type": "code",
   "execution_count": null,
   "id": "6d859c3a",
   "metadata": {},
   "outputs": [],
   "source": [
    "sns.catplot(x=\"party\", y=\"won\", kind = \"bar\", data=df)"
   ]
  },
  {
   "cell_type": "code",
   "execution_count": null,
   "id": "3d8184ae",
   "metadata": {},
   "outputs": [],
   "source": [
    "data3=pd.read_csv(\"../input/us-election-2020/governors_state.csv\")\n",
    "data3"
   ]
  },
  {
   "cell_type": "code",
   "execution_count": null,
   "id": "79c01e78",
   "metadata": {},
   "outputs": [],
   "source": [
    "import matplotlib.pyplot as plt\n",
    "df = pd.DataFrame(data3)"
   ]
  },
  {
   "cell_type": "code",
   "execution_count": null,
   "id": "8378e955",
   "metadata": {},
   "outputs": [],
   "source": [
    "sns.catplot(x=\"state\", y=\"votes\", kind = \"bar\", data=df)"
   ]
  },
  {
   "cell_type": "code",
   "execution_count": null,
   "id": "07f17b1b",
   "metadata": {},
   "outputs": [],
   "source": [
    "data4=pd.read_csv(\"../input/us-election-2020/house_candidate.csv\")\n",
    "data4"
   ]
  },
  {
   "cell_type": "code",
   "execution_count": null,
   "id": "4030bd42",
   "metadata": {},
   "outputs": [],
   "source": [
    "import matplotlib.pyplot as plt\n",
    "df = pd.DataFrame(data4)\n",
    "df.drop(df.columns[[0, 1, 4]], axis = 1, inplace = True)\n",
    "df"
   ]
  },
  {
   "cell_type": "code",
   "execution_count": null,
   "id": "196d4880",
   "metadata": {},
   "outputs": [],
   "source": [
    "sns.catplot(x=\"party\", y=\"total_votes\",data=df)"
   ]
  },
  {
   "cell_type": "code",
   "execution_count": null,
   "id": "abdd35f8",
   "metadata": {},
   "outputs": [],
   "source": [
    "data5=pd.read_csv(\"../input/us-election-2020/house_state.csv\")\n",
    "data5"
   ]
  },
  {
   "cell_type": "code",
   "execution_count": null,
   "id": "bcce7bce",
   "metadata": {},
   "outputs": [],
   "source": [
    "import seaborn as sns\n",
    "df = pd.DataFrame(data5)\n",
    "df.drop(df.columns[[0, 3]], axis = 1, inplace = True)\n",
    "df.head()"
   ]
  },
  {
   "cell_type": "code",
   "execution_count": null,
   "id": "c72c5e29",
   "metadata": {},
   "outputs": [],
   "source": [
    "sns.scatterplot(data=df)"
   ]
  },
  {
   "cell_type": "code",
   "execution_count": null,
   "id": "01637fe8",
   "metadata": {},
   "outputs": [],
   "source": [
    "data6=pd.read_csv(\"../input/us-election-2020/president_county.csv\")\n",
    "data6"
   ]
  },
  {
   "cell_type": "code",
   "execution_count": null,
   "id": "0a9078cb",
   "metadata": {},
   "outputs": [],
   "source": [
    "import seaborn as sns\n",
    "df = pd.DataFrame(data6)\n",
    "df.drop(df.columns[[0]], axis = 1, inplace = True)\n",
    "df.head()"
   ]
  },
  {
   "cell_type": "code",
   "execution_count": null,
   "id": "1bd44c9f",
   "metadata": {},
   "outputs": [],
   "source": [
    "sns.boxplot(data=df)"
   ]
  },
  {
   "cell_type": "code",
   "execution_count": null,
   "id": "3c19b92f",
   "metadata": {},
   "outputs": [],
   "source": [
    "data7=pd.read_csv(\"../input/us-election-2020/president_county_candidate.csv\")\n",
    "data7"
   ]
  },
  {
   "cell_type": "code",
   "execution_count": null,
   "id": "e3fd5472",
   "metadata": {},
   "outputs": [],
   "source": [
    "import seaborn as sns\n",
    "df = pd.DataFrame(data7)\n",
    "df.drop(df.columns[[0,1,3,5]], axis = 1, inplace = True)\n",
    "df.head()"
   ]
  },
  {
   "cell_type": "code",
   "execution_count": null,
   "id": "b8b06b8a",
   "metadata": {},
   "outputs": [],
   "source": [
    "sns.catplot(x=\"candidate\", y=\"total_votes\",kind= \"bar\", data=df)"
   ]
  },
  {
   "cell_type": "code",
   "execution_count": null,
   "id": "8fcb2a6a",
   "metadata": {},
   "outputs": [],
   "source": [
    "data8=pd.read_csv(\"../input/us-election-2020/president_state.csv\")\n",
    "data8"
   ]
  },
  {
   "cell_type": "code",
   "execution_count": null,
   "id": "9c4050e1",
   "metadata": {},
   "outputs": [],
   "source": [
    "import seaborn as sns\n",
    "df = pd.DataFrame(data8)\n",
    "df.drop(df.columns[[]], axis = 1, inplace = True)\n",
    "df.head()"
   ]
  },
  {
   "cell_type": "code",
   "execution_count": null,
   "id": "d4cb572e",
   "metadata": {},
   "outputs": [],
   "source": [
    "sns.catplot(x=\"total_votes\", y=\"state\",data=df)"
   ]
  },
  {
   "cell_type": "code",
   "execution_count": null,
   "id": "8389d3a5",
   "metadata": {},
   "outputs": [],
   "source": [
    "data9=pd.read_csv(\"../input/us-election-2020/senate_county.csv\")\n",
    "data9"
   ]
  },
  {
   "cell_type": "code",
   "execution_count": null,
   "id": "418ea63d",
   "metadata": {},
   "outputs": [],
   "source": [
    "import seaborn as sns\n",
    "df = pd.DataFrame(data9)\n",
    "df.drop(df.columns[[0,1, 2]], axis = 1, inplace = True)\n",
    "df.head()"
   ]
  },
  {
   "cell_type": "code",
   "execution_count": null,
   "id": "e7e65687",
   "metadata": {},
   "outputs": [],
   "source": [
    "sns.boxplot(data=df)"
   ]
  },
  {
   "cell_type": "code",
   "execution_count": null,
   "id": "e447d721",
   "metadata": {},
   "outputs": [],
   "source": [
    "data10=pd.read_csv(\"../input/us-election-2020/senate_county_candidate.csv\")\n",
    "data10"
   ]
  },
  {
   "cell_type": "code",
   "execution_count": null,
   "id": "6fc36569",
   "metadata": {},
   "outputs": [],
   "source": [
    "import seaborn as sns\n",
    "df = pd.DataFrame(data10)\n",
    "df.drop(df.columns[[0,1,2]], axis = 1, inplace = True)\n",
    "df.head()"
   ]
  },
  {
   "cell_type": "code",
   "execution_count": null,
   "id": "47cc3716",
   "metadata": {},
   "outputs": [],
   "source": [
    "sns.catplot(x=\"party\", y=\"total_votes\",kind= \"bar\", data=df)"
   ]
  },
  {
   "cell_type": "code",
   "execution_count": null,
   "id": "1fc8f52c",
   "metadata": {},
   "outputs": [],
   "source": [
    "data11=pd.read_csv(\"../input/us-election-2020/senate_state.csv\")\n",
    "data11"
   ]
  },
  {
   "cell_type": "code",
   "execution_count": null,
   "id": "fc0d03c6",
   "metadata": {},
   "outputs": [],
   "source": [
    "import seaborn as sns\n",
    "df = pd.DataFrame(data11)\n",
    "df.drop(df.columns[[]], axis = 1, inplace = True)\n",
    "df.head()"
   ]
  },
  {
   "cell_type": "code",
   "execution_count": null,
   "id": "7e0c0c0a",
   "metadata": {},
   "outputs": [],
   "source": [
    "sns.catplot(x=\"total_votes\", y=\"state\",kind= \"bar\", data=df)"
   ]
  }
 ],
 "metadata": {},
 "nbformat": 4,
 "nbformat_minor": 5
}
