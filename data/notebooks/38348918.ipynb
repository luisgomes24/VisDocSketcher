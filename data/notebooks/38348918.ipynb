{
 "cells": [
  {
   "cell_type": "markdown",
   "id": "180c74ab",
   "metadata": {},
   "source": [
    "# Author : Muhammad Bilal Hussain\n",
    "## Date : 10/05/2023\n",
    "## Purpose : Creating Visualizations using Pandas\n",
    "<button style=\"background-color: #008CBA; color: white; padding: 10px 20px; border: none; border-radius: 5px;\">This Notebook is Originally Created by Author</button>\n",
    "\n",
    "#### Appreciate me: 🙌🏼🙌🏼\n",
    "\n",
    "[![Facebook](https://img.shields.io/badge/Facebook-%231877F2.svg?&style=for-the-badge&logo=Facebook&logoColor=white)](https://www.facebook.com/Bilalwsr)\n",
    "[![LinkedIn](https://img.shields.io/badge/LinkedIn-%230077B5.svg?&style=for-the-badge&logo=LinkedIn&logoColor=white)](https://www.linkedin.com/in/bilalwsr)\n",
    "[![Github](https://img.shields.io/badge/Github-%23121011.svg?&style=for-the-badge&logo=Github&logoColor=white)](https://github.com/bilalwsr)\n",
    "[![Kaggle](https://img.shields.io/badge/Kaggle-%2320BEFF.svg?style=for-the-badge&logo=kaggle&logoColor=white)](https://www.kaggle.com/bilalwaseer)\n",
    "\n"
   ]
  },
  {
   "cell_type": "markdown",
   "id": "32649f99",
   "metadata": {},
   "source": [
    "> <h1 style=\"background-color:Green;\"> Importing Libraries</h1>\n"
   ]
  },
  {
   "cell_type": "code",
   "execution_count": null,
   "id": "3d16aa6c",
   "metadata": {},
   "outputs": [],
   "source": [
    "import pandas  as pd \n",
    "import seaborn as sns # for Iris dataset\n",
    "import numpy as pd\n",
    "import matplotlib.pyplot as plt"
   ]
  },
  {
   "cell_type": "code",
   "execution_count": null,
   "id": "0d2ab1e0",
   "metadata": {},
   "outputs": [],
   "source": [
    "# importing dataset\n",
    "df = sns.load_dataset('iris')"
   ]
  },
  {
   "cell_type": "code",
   "execution_count": null,
   "id": "d2f7c17a",
   "metadata": {},
   "outputs": [],
   "source": [
    "df.tail()"
   ]
  },
  {
   "cell_type": "markdown",
   "id": "40537a12",
   "metadata": {},
   "source": [
    "> <h1 style=\"background-color:red;\"> Visualizations</h1>\n"
   ]
  },
  {
   "cell_type": "code",
   "execution_count": null,
   "id": "cf154b63",
   "metadata": {},
   "outputs": [],
   "source": [
    "# so i have done nothing except this code below and this pandas has given us a plot\n",
    "df.plot(figsize=(12,8));"
   ]
  },
  {
   "cell_type": "markdown",
   "id": "37ee3aa7",
   "metadata": {},
   "source": [
    "<h1 style=\"border:2px solid Tomato;\">Let's Make some plots using Pandas</h1>\n"
   ]
  },
  {
   "cell_type": "code",
   "execution_count": null,
   "id": "107353d5",
   "metadata": {},
   "outputs": [],
   "source": [
    "df.plot(kind= 'barh', x='species', y='sepal_length', figsize=(20, 70),\n",
    "        title='Species and their Sepal Length');\n"
   ]
  },
  {
   "cell_type": "code",
   "execution_count": null,
   "id": "13dc2315",
   "metadata": {},
   "outputs": [],
   "source": [
    "df.plot(kind= 'barh',stacked=True, figsize=(40, 100), ylabel='Species');\n"
   ]
  },
  {
   "cell_type": "markdown",
   "id": "1e15b2bf",
   "metadata": {},
   "source": [
    "<h1 style=\"border:4px solid Green;\">Conclusion</h1>\n",
    "\n",
    "* It's pretty handy when you don't import to libraries and just want to make quick analysis\n"
   ]
  }
 ],
 "metadata": {},
 "nbformat": 4,
 "nbformat_minor": 5
}
