{
 "cells": [
  {
   "cell_type": "code",
   "execution_count": null,
   "id": "47335d2e",
   "metadata": {},
   "outputs": [],
   "source": [
    "# This Python 3 environment comes with many helpful analytics libraries installed\n",
    "# It is defined by the kaggle/python Docker image: https://github.com/kaggle/docker-python\n",
    "# For example, here's several helpful packages to load\n",
    "\n",
    "import numpy as np # linear algebra\n",
    "import pandas as pd # data processing, CSV file I/O (e.g. pd.read_csv)\n",
    "\n",
    "# Input data files are available in the read-only \"../input/\" directory\n",
    "# For example, running this (by clicking run or pressing Shift+Enter) will list all files under the input directory\n",
    "\n",
    "import os\n",
    "for dirname, _, filenames in os.walk('/kaggle/input'):\n",
    "    for filename in filenames:\n",
    "        print(os.path.join(dirname, filename))\n",
    "\n",
    "# You can write up to 20GB to the current directory (/kaggle/working/) that gets preserved as output when you create a version using \"Save & Run All\" \n",
    "# You can also write temporary files to /kaggle/temp/, but they won't be saved outside of the current session"
   ]
  },
  {
   "cell_type": "code",
   "execution_count": null,
   "id": "6547ed7b",
   "metadata": {},
   "outputs": [],
   "source": [
    "from keras.applications.resnet50 import ResNet50\n",
    "from keras.applications.resnet50 import preprocess_input, decode_predictions\n",
    "from keras.preprocessing import image\n",
    "import numpy as np\n",
    "print('Imported Successfully!')"
   ]
  },
  {
   "cell_type": "markdown",
   "id": "57bf89e6",
   "metadata": {},
   "source": [
    "Loading a Resnet model"
   ]
  },
  {
   "cell_type": "code",
   "execution_count": null,
   "id": "71e37ded",
   "metadata": {},
   "outputs": [],
   "source": [
    "model = ResNet50(weights='imagenet')\n",
    "print('Model Downloaded Successfully!')"
   ]
  },
  {
   "cell_type": "code",
   "execution_count": null,
   "id": "3554e7ae",
   "metadata": {},
   "outputs": [],
   "source": [
    "from PIL import Image\n",
    "from zipfile import ZipFile"
   ]
  },
  {
   "cell_type": "code",
   "execution_count": null,
   "id": "470868e0",
   "metadata": {},
   "outputs": [],
   "source": [
    "img_path = '/kaggle/input/images-for-resnet/tiger.jfif'\n",
    "img = image.load_img(img_path,target_size=(224,224))\n",
    "x = image.img_to_array(img)\n",
    "x = np.expand_dims(x,axis=0)\n",
    "x = preprocess_input(x)\n",
    "print('Image Processing Done!')"
   ]
  },
  {
   "cell_type": "code",
   "execution_count": null,
   "id": "f0c0662a",
   "metadata": {},
   "outputs": [],
   "source": [
    "pred = model.predict(x)\n",
    "# decode the results into a list of tuples (class, description, probability)\n",
    "print(decode_predictions(pred,top=3)[0])"
   ]
  },
  {
   "cell_type": "code",
   "execution_count": null,
   "id": "94ed326f",
   "metadata": {},
   "outputs": [],
   "source": [
    "img_path = '/kaggle/input/images-for-resnet/glasses.jfif'\n",
    "img = image.load_img(img_path,target_size=(224,224))\n",
    "x = image.img_to_array(img)\n",
    "x = np.expand_dims(x,axis=0)\n",
    "x = preprocess_input(x)\n",
    "print('Image Processing Done!')\n",
    "\n",
    "pred = model.predict(x)\n",
    "# decode the results into a list of tuples (class, description, probability)\n",
    "print(decode_predictions(pred,top=3)[0])"
   ]
  },
  {
   "cell_type": "code",
   "execution_count": null,
   "id": "5dd583e7",
   "metadata": {},
   "outputs": [],
   "source": [
    "img_path = '/kaggle/input/images-for-resnet/nature1.jfif'\n",
    "img = image.load_img(img_path,target_size=(224,224))\n",
    "x = image.img_to_array(img)\n",
    "x = np.expand_dims(x,axis=0)\n",
    "x = preprocess_input(x)\n",
    "print('Image Processing Done!')\n",
    "\n",
    "pred = model.predict(x)\n",
    "# decode the results into a list of tuples (class, description, probability)\n",
    "print(decode_predictions(pred,top=3)[0])"
   ]
  },
  {
   "cell_type": "code",
   "execution_count": null,
   "id": "622840ba",
   "metadata": {},
   "outputs": [],
   "source": [
    "img_path = '/kaggle/input/images-for-resnet/viratkohli.jfif'\n",
    "img = image.load_img(img_path,target_size=(224,224))\n",
    "x = image.img_to_array(img)\n",
    "x = np.expand_dims(x,axis=0)\n",
    "x = preprocess_input(x)\n",
    "print('Image Processing Done!')\n",
    "\n",
    "pred = model.predict(x)\n",
    "# decode the results into a list of tuples (class, description, probability)\n",
    "print(decode_predictions(pred,top=3)[0])"
   ]
  },
  {
   "cell_type": "markdown",
   "id": "1bf9b948",
   "metadata": {},
   "source": [
    "**In this Notebook we loaded a pretrained ResNet model and used our own image files to see the predicted labels agains it.**"
   ]
  }
 ],
 "metadata": {},
 "nbformat": 4,
 "nbformat_minor": 5
}
