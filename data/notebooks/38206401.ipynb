{
 "cells": [
  {
   "cell_type": "markdown",
   "id": "8ece4ced",
   "metadata": {},
   "source": [
    "## ML Model to predict best move\n",
    "\n",
    "Much of code is taken from the William Lifferth's Kaggle Notebook. (Thank You!)  \n",
    "Resulted in 0.12 score on the public and 0.15 on private leaderboard."
   ]
  },
  {
   "cell_type": "code",
   "execution_count": null,
   "id": "596cd763",
   "metadata": {},
   "outputs": [],
   "source": [
    "import pandas as pd\n",
    "import numpy as np\n",
    "import chess"
   ]
  },
  {
   "cell_type": "code",
   "execution_count": null,
   "id": "5c7d2d77",
   "metadata": {},
   "outputs": [],
   "source": [
    "train_df = pd.read_csv('/kaggle/input/train-an-ai-to-play-chess/train.csv', index_col='id')"
   ]
  },
  {
   "cell_type": "code",
   "execution_count": null,
   "id": "69c6ad69",
   "metadata": {},
   "outputs": [],
   "source": [
    "train_df.head()"
   ]
  },
  {
   "cell_type": "code",
   "execution_count": null,
   "id": "585ca8ab",
   "metadata": {},
   "outputs": [],
   "source": [
    "train_df = train_df[:55000]\n",
    "val_df = train_df[:-1000]"
   ]
  },
  {
   "cell_type": "markdown",
   "id": "babb131c",
   "metadata": {},
   "source": [
    "### Preprocessing the FEN notation"
   ]
  },
  {
   "cell_type": "code",
   "execution_count": null,
   "id": "d2047adf",
   "metadata": {},
   "outputs": [],
   "source": [
    "def one_hot_encode_peice(piece):\n",
    "    pieces = list('rnbqkpRNBQKP.')\n",
    "    arr = np.zeros(len(pieces))\n",
    "    piece_to_index = {p: i for i, p in enumerate(pieces)}\n",
    "    index = piece_to_index[piece]\n",
    "    arr[index] = 1\n",
    "    return arr"
   ]
  },
  {
   "cell_type": "markdown",
   "id": "db2c7b1f",
   "metadata": {},
   "source": [
    "### Custom Encoding for pieces\n",
    "\n",
    "Rather than using the one hot encoding for pieces, I assigned these custom values to them.\n",
    "Although one hot encoding is recommended, this custom encoding provided slightly better results on leaderboard 😅.  \n",
    "Used positive piece value for White Pieces and negative for Black Pieces.  \n",
    "I feel Bishop == 3.5 rather 3."
   ]
  },
  {
   "cell_type": "code",
   "execution_count": null,
   "id": "303b5c61",
   "metadata": {},
   "outputs": [],
   "source": [
    "def encode_board(board):\n",
    "    # first lets turn the board into a string\n",
    "    board_str = str(board)\n",
    "    # then lets remove all the spaces\n",
    "    material_dict = {\n",
    "        'p': -1,\n",
    "        'b': -3.5,\n",
    "        'n': -3,\n",
    "        'r': -5,\n",
    "        'q': -9,\n",
    "        'k': -4,\n",
    "        'K': 4,\n",
    "        '.': 0,\n",
    "        'P': 1,\n",
    "        'B': 3.5,\n",
    "        'N': 3,\n",
    "        'R': 5,\n",
    "        'Q': 9,\n",
    "    }\n",
    "    board_str = board_str.replace(' ', '')\n",
    "    board_list = []\n",
    "    for row in board_str.split('\\n'):\n",
    "        row_list = []\n",
    "        for piece in row:\n",
    "            # print(piece)\n",
    "            row_list.append(material_dict.get(piece))\n",
    "        board_list.append(row_list)\n",
    "    return np.array(board_list)"
   ]
  },
  {
   "cell_type": "code",
   "execution_count": null,
   "id": "5057b861",
   "metadata": {},
   "outputs": [],
   "source": [
    "encode_board(chess.Board())"
   ]
  },
  {
   "cell_type": "code",
   "execution_count": null,
   "id": "cdf8362b",
   "metadata": {},
   "outputs": [],
   "source": [
    "def encode_fen_string(fen_str):\n",
    "    board = chess.Board(fen=fen_str)\n",
    "    return encode_board(board)"
   ]
  },
  {
   "cell_type": "code",
   "execution_count": null,
   "id": "75cf4dc3",
   "metadata": {},
   "outputs": [],
   "source": [
    "X_train = np.stack(train_df['board'].apply(encode_fen_string))\n",
    "y_train = train_df['black_score']"
   ]
  },
  {
   "cell_type": "code",
   "execution_count": null,
   "id": "76c9b3be",
   "metadata": {},
   "outputs": [],
   "source": [
    "X_val = np.stack(val_df['board'].apply(encode_fen_string))\n",
    "y_val = val_df['black_score']"
   ]
  },
  {
   "cell_type": "markdown",
   "id": "5157eef7",
   "metadata": {},
   "source": [
    "### Model and Training"
   ]
  },
  {
   "cell_type": "code",
   "execution_count": null,
   "id": "bb454d68",
   "metadata": {},
   "outputs": [],
   "source": [
    "from keras.models import Sequential\n",
    "from keras.layers import Dense, Flatten, Dropout\n",
    "\n",
    "# With the Keras Sequential model we can stack neural network layers together\n",
    "model = Sequential([\n",
    "    Flatten(),\n",
    "    Dense(512, activation='relu'),\n",
    "    Dropout(0.2),\n",
    "    Dense(128, activation='relu'),\n",
    "    Dropout(0.2),\n",
    "    Dense(1),\n",
    "])\n",
    "\n",
    "model.compile(\n",
    "    optimizer='adam',\n",
    "    loss='mean_squared_error')"
   ]
  },
  {
   "cell_type": "code",
   "execution_count": null,
   "id": "139f8741",
   "metadata": {},
   "outputs": [],
   "source": [
    "# To test things out, let's train for 20 epochs and see how our model is doing\n",
    "history = model.fit(\n",
    "    X_train,\n",
    "    y_train,\n",
    "    epochs=50,\n",
    "    validation_data=(X_val, y_val))"
   ]
  },
  {
   "cell_type": "code",
   "execution_count": null,
   "id": "6e5302e6",
   "metadata": {},
   "outputs": [],
   "source": [
    "model.save('./model_512_128_1_other')"
   ]
  },
  {
   "cell_type": "code",
   "execution_count": null,
   "id": "b05ad0e1",
   "metadata": {},
   "outputs": [],
   "source": [
    "import matplotlib.pyplot as plt\n",
    "\n",
    "# Lets plot the history of our training session to see how things progressed over time\n",
    "plt.style.use('ggplot')\n",
    "plt.plot(history.history['loss'], label='train loss')\n",
    "plt.plot(history.history['val_loss'], label='val loss')\n",
    "plt.legend()\n",
    "plt.title('Loss During Training')\n",
    "plt.show()"
   ]
  },
  {
   "cell_type": "code",
   "execution_count": null,
   "id": "d46482df",
   "metadata": {},
   "outputs": [],
   "source": [
    "def play_nn(fen, player='b'):\n",
    "    # We can create a python-chess board instance from the FEN string like this:\n",
    "    board = chess.Board(fen=fen)\n",
    "\n",
    "    # And then evaluate all legal moves\n",
    "    best_move = ''\n",
    "    worst_move = ''\n",
    "    minScore = float('inf')\n",
    "    maxScore = float('-inf')\n",
    "\n",
    "    moves = []\n",
    "    for move in board.legal_moves:\n",
    "        # For each move, we'll make a copy of the board and try that move out\n",
    "        candidate_board = board.copy()\n",
    "        candidate_board.push(move)\n",
    "        input_vector = encode_board(str(candidate_board)).astype(np.int32).flatten()\n",
    "        \n",
    "        # This is where our model gets to shine! It tells us how good the resultant score board is for black:\n",
    "        score = model.predict(np.expand_dims(input_vector, axis=0), verbose=0)[0][0]\n",
    "        if score > maxScore:\n",
    "            best_move = move\n",
    "            maxScore = score\n",
    "        elif score < minScore:\n",
    "            worst_move = move\n",
    "            minScore = score\n",
    "        # moves.append((score, move))\n",
    "        # if show_move_evaluations:\n",
    "        #     print(f'{move}: {score}')\n",
    "    \n",
    "    # By default sorting our moves will put the lowest scores at the top.\n",
    "    # This would give us the right answer if we were playing as white,\n",
    "    # but if we're playing as black we want to reverse things (then grab the first move):\n",
    "    \n",
    "    if(player=='b'):\n",
    "        return str(worst_move)\n",
    "    # Now we turn our move into a string, return it and call it a day!\n",
    "    return str(best_move)"
   ]
  },
  {
   "cell_type": "code",
   "execution_count": null,
   "id": "982c7287",
   "metadata": {},
   "outputs": [],
   "source": [
    "from IPython.display import SVG, display\n",
    "\n",
    "# Our play function accepts whatever strategy our AI is using, like play_random from above\n",
    "def play_game(ai_function):\n",
    "    board = chess.Board()\n",
    "\n",
    "    while board.outcome() is None:\n",
    "        # We print out the board as an SVG\n",
    "        display(SVG(board._repr_svg_()))\n",
    "\n",
    "        # If it's white's turn, we have the user play\n",
    "        if board.turn == chess.WHITE:\n",
    "            user_move = input('Your move: ')\n",
    "            if user_move == 'quit':\n",
    "                break\n",
    "            # The move a user puts in isn't a valid move, we keep prompting them for a valid move\n",
    "            while user_move not in [str(move) for move in board.legal_moves]:\n",
    "                print('That wasn\\'t a valid move. Please enter a move in Standard Algebraic Notation')\n",
    "                user_move = input('Your move: ')\n",
    "            board.push_san(user_move)\n",
    "\n",
    "        # If it's black's turn, we have the AI play\n",
    "        elif board.turn == chess.BLACK:\n",
    "            ai_move = ai_function(board.fen())\n",
    "            print(f'AI move: {ai_move}')\n",
    "            board.push_san(ai_move)\n",
    "    print(board.outcome())\n"
   ]
  },
  {
   "cell_type": "markdown",
   "id": "0c210f9a",
   "metadata": {},
   "source": [
    "### Inference"
   ]
  },
  {
   "cell_type": "code",
   "execution_count": null,
   "id": "6857ff8e",
   "metadata": {},
   "outputs": [],
   "source": [
    "test_df = pd.read_csv('/kaggle/input/train-an-ai-to-play-chess/test.csv')"
   ]
  },
  {
   "cell_type": "code",
   "execution_count": null,
   "id": "9413aac6",
   "metadata": {},
   "outputs": [],
   "source": [
    "test_df.head()"
   ]
  },
  {
   "cell_type": "code",
   "execution_count": null,
   "id": "0407a880",
   "metadata": {},
   "outputs": [],
   "source": [
    "test_df['best_move'] = test_df['board'].apply(play_nn)"
   ]
  },
  {
   "cell_type": "code",
   "execution_count": null,
   "id": "e1ed3e3a",
   "metadata": {},
   "outputs": [],
   "source": [
    "test_df.head()"
   ]
  },
  {
   "cell_type": "code",
   "execution_count": null,
   "id": "141e4dbb",
   "metadata": {},
   "outputs": [],
   "source": [
    "submission = pd.read_csv('/kaggle/input/train-an-ai-to-play-chess/sample_submission.csv')\n",
    "submission['best_move'] = test_df['best_move']"
   ]
  },
  {
   "cell_type": "code",
   "execution_count": null,
   "id": "4e6071eb",
   "metadata": {},
   "outputs": [],
   "source": [
    "submission.to_csv('nn_sub_4.csv', index=False)"
   ]
  },
  {
   "cell_type": "code",
   "execution_count": null,
   "id": "d228f799",
   "metadata": {},
   "outputs": [],
   "source": [
    "nan"
   ]
  }
 ],
 "metadata": {},
 "nbformat": 4,
 "nbformat_minor": 5
}
