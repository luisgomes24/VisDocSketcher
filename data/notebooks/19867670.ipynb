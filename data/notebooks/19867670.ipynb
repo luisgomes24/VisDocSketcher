{
 "cells": [
  {
   "cell_type": "code",
   "execution_count": null,
   "id": "fb8c3174",
   "metadata": {},
   "outputs": [],
   "source": [
    "from optiver_features import generate_test_df\n",
    "from fastai.tabular.all import *"
   ]
  },
  {
   "cell_type": "code",
   "execution_count": null,
   "id": "ba164d66",
   "metadata": {},
   "outputs": [],
   "source": [
    "test_df = generate_test_df()\n",
    "train_df = pd.read_csv('../input/optiver-train-features/train_with_features.csv')"
   ]
  },
  {
   "cell_type": "code",
   "execution_count": null,
   "id": "3de3e26f",
   "metadata": {},
   "outputs": [],
   "source": [
    "def pred_tabular_nn(train_df, test_df):\n",
    "    train_df = train_df.drop(['time_id', 'row_id'], axis=1).fillna(0)\n",
    "    train_df.stock_id = train_df.stock_id.astype('category')\n",
    "    cont_nn,cat_nn = cont_cat_split(train_df,  dep_var='target')\n",
    "    dls = TabularPandas(train_df, [Categorify, Normalize], cat_nn, cont_nn, y_names='target').dataloaders(2048)\n",
    "    test_dl = dls.test_dl(test_df.fillna(0))\n",
    "    learn = tabular_learner(dls, y_range=(0,.1), layers=[1000,500,200], n_out=1, path = '../input/optiver-models/')\n",
    "    res = torch.zeros(len(test_df))\n",
    "    for idx in range(5):\n",
    "        learn.load(f'nn_fold{idx}')\n",
    "        preds, _ = learn.get_preds(dl=test_dl)\n",
    "        res += preds.squeeze() / 3\n",
    "    return res.numpy()"
   ]
  },
  {
   "cell_type": "code",
   "execution_count": null,
   "id": "d9123e76",
   "metadata": {},
   "outputs": [],
   "source": [
    "def pred_lgb(test_df):\n",
    "    test_df = test_df.drop(['row_id', 'time_id'], axis=1)\n",
    "    res = np.zeros(len(test_df))\n",
    "    for idx in range(10):\n",
    "        filename = f'../input/optiver-models/models/lgb_fold{idx}.pickle'\n",
    "        model = pickle.load(open(filename, 'rb'))\n",
    "        preds = model.predict(test_df)\n",
    "        res += preds / 10\n",
    "    return res"
   ]
  },
  {
   "cell_type": "code",
   "execution_count": null,
   "id": "601b77bd",
   "metadata": {},
   "outputs": [],
   "source": [
    "nn_preds = pred_tabular_nn(train_df, test_df)\n",
    "lgb_preds = pred_lgb(test_df)\n",
    "\n",
    "test_df['target']=(nn_preds*0.575+lgb_preds*0.425)\n",
    "test_df[['row_id', 'target']].to_csv('submission.csv', index =False)\n",
    "pd.read_csv('submission.csv').head()"
   ]
  }
 ],
 "metadata": {},
 "nbformat": 4,
 "nbformat_minor": 5
}
