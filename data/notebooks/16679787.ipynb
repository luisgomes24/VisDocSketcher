{
 "cells": [
  {
   "cell_type": "code",
   "execution_count": null,
   "id": "9235a18f",
   "metadata": {},
   "outputs": [],
   "source": [
    "nan"
   ]
  },
  {
   "cell_type": "markdown",
   "id": "fa85818d",
   "metadata": {},
   "source": [
    "![planodesaude.png](attachment:b8c6aa8a-3dc5-4f5b-aeae-9ceab6529d03.png)\n",
    "\n",
    "## Contexto de Negócio\n",
    "\n",
    "Sabemos que o serviço público de saúde no Brasil e em outros países é bem precário, o que leva parte da população a buscar formas de atendimento privadas usando Planos de Saúde. \n",
    "\n",
    "No entanto, estes planos privados sofrem pesada regulação pela ANS - Agência Nacional de Saúde o que eleva os custos e valores das mensalidades, além dos custos associados à internação, UTI e outros procedimentos cirúrgicos. \n",
    "\n",
    "Mas será que existem outros fatores que influenciam o valor do plano de saúde? \n",
    "\n",
    "Neste estudo iremos analisar um dataset de uma seguradora americana e verificar que fatores podem influenciar o preço final de um plano de saúde. "
   ]
  },
  {
   "cell_type": "markdown",
   "id": "e99689cb",
   "metadata": {},
   "source": [
    "## Objetivo do Projeto:\n",
    "\n",
    "Obter um modelo para prever os custos e valores para um Plano de Saúde"
   ]
  },
  {
   "cell_type": "code",
   "execution_count": null,
   "id": "35b83b45",
   "metadata": {},
   "outputs": [],
   "source": [
    "# This Python 3 environment comes with many helpful analytics libraries installed\n",
    "# It is defined by the kaggle/python Docker image: https://github.com/kaggle/docker-python\n",
    "# For example, here's several helpful packages to load\n",
    "\n",
    "import numpy as np # linear algebra\n",
    "import pandas as pd # data processing, CSV file I/O (e.g. pd.read_csv)\n",
    "\n",
    "# Input data files are available in the read-only \"../input/\" directory\n",
    "# For example, running this (by clicking run or pressing Shift+Enter) will list all files under the input directory\n",
    "\n",
    "import os\n",
    "for dirname, _, filenames in os.walk('/kaggle/input'):\n",
    "    for filename in filenames:\n",
    "        print(os.path.join(dirname, filename))\n",
    "\n",
    "# You can write up to 20GB to the current directory (/kaggle/working/) that gets preserved as output when you create a version using \"Save & Run All\" \n",
    "# You can also write temporary files to /kaggle/temp/, but they won't be saved outside of the current session"
   ]
  },
  {
   "cell_type": "markdown",
   "id": "0647e364",
   "metadata": {},
   "source": [
    "Para este estudo usaremos a biblioteca PyCaret que permite análises supervisionadas e não supervisionadas com pouco código e boa acurácia. "
   ]
  },
  {
   "cell_type": "code",
   "execution_count": null,
   "id": "f3451838",
   "metadata": {},
   "outputs": [],
   "source": [
    "# Carregando o Pycaret\n",
    "\n",
    "!pip install pycaret"
   ]
  },
  {
   "cell_type": "code",
   "execution_count": null,
   "id": "6817a3ab",
   "metadata": {},
   "outputs": [],
   "source": [
    "from pycaret.datasets import get_data"
   ]
  },
  {
   "cell_type": "markdown",
   "id": "7856d4d5",
   "metadata": {},
   "source": [
    "Vamos importar a nossa base de dados **'insurance'** que contém informações sobre beneficiários de plano de saúde. "
   ]
  },
  {
   "cell_type": "code",
   "execution_count": null,
   "id": "556938af",
   "metadata": {},
   "outputs": [],
   "source": [
    "dados = get_data('insurance')"
   ]
  },
  {
   "cell_type": "markdown",
   "id": "4e4bf30c",
   "metadata": {},
   "source": [
    "Analisando nossa base, temos dados simulados de beneficiários (usuários de plano de saúde) e os gastos com plano de saúde num dado intervalo de tempo. \n",
    "\n",
    "Os seguintes atributos estão presentes no banco de dados:\n",
    "\n",
    "Idade em anos: age\n",
    "Sexo: sex\n",
    "Índice de Massa Corporal: bmi\n",
    "Número de crianças vinculadas ao plano de saúde: children\n",
    "Se é fumante ou não: smoker\n",
    "Região dos Estados Unidos: region\n",
    "Sinistro (gastos) em unidade monetária: charges\n",
    "\n",
    "Nosso objetivo é criar modelos preditivos que retornem o atributo **'charges'** (valor do plano).\n",
    "\n",
    "Para isso, vamos iniciar importando os modelos de regressão do PyCaret:\n"
   ]
  },
  {
   "cell_type": "code",
   "execution_count": null,
   "id": "39eae782",
   "metadata": {},
   "outputs": [],
   "source": [
    "from pycaret.regression import *"
   ]
  },
  {
   "cell_type": "code",
   "execution_count": null,
   "id": "e5b0b215",
   "metadata": {},
   "outputs": [],
   "source": [
    "# configurações de pré processamento e validação dos modelos \n",
    "\n",
    "regressao = setup(data = dados,\n",
    "                 target = 'charges',\n",
    "                 normalize = True,\n",
    "                 combine_rare_levels = True,\n",
    "                 remove_outliers = True,\n",
    "                 session_id = 1)"
   ]
  },
  {
   "cell_type": "markdown",
   "id": "574e940f",
   "metadata": {},
   "source": [
    "### Criando um modelo inicial básico com Random Forest"
   ]
  },
  {
   "cell_type": "markdown",
   "id": "db4fb192",
   "metadata": {},
   "source": [
    "O PyCaret possui uma enorme gama de algoritmos que podemos usar para nosso estudo. Neste exercício usaremos o Random Forest e faremos uma comparação para verificar sua acurácia. "
   ]
  },
  {
   "cell_type": "code",
   "execution_count": null,
   "id": "b189a561",
   "metadata": {},
   "outputs": [],
   "source": [
    "models()"
   ]
  },
  {
   "cell_type": "markdown",
   "id": "06c37761",
   "metadata": {},
   "source": [
    "Aqui estamos criando o modelo com o nome 'floresta'."
   ]
  },
  {
   "cell_type": "code",
   "execution_count": null,
   "id": "cb346a67",
   "metadata": {},
   "outputs": [],
   "source": [
    "floresta = create_model('rf')"
   ]
  },
  {
   "cell_type": "markdown",
   "id": "0d27e302",
   "metadata": {},
   "source": [
    "Agora iremos ajustar o modelo usando o método RandomSearch e como parâmetro o RMSLE (Erro Médio Quadrático Logarítmico)"
   ]
  },
  {
   "cell_type": "code",
   "execution_count": null,
   "id": "fd27ceeb",
   "metadata": {},
   "outputs": [],
   "source": [
    "# Ajustando o modelo RF através do método RandomSearch\n",
    "\n",
    "floresta_adj = tune_model(floresta, optimize = 'RMSLE', n_iter = 20)"
   ]
  },
  {
   "cell_type": "code",
   "execution_count": null,
   "id": "1c8fae4a",
   "metadata": {},
   "outputs": [],
   "source": [
    "# Verificando a importância das variáveis no modelo ajustado\n",
    "\n",
    "plot_model(floresta_adj, plot = 'feature')"
   ]
  },
  {
   "cell_type": "markdown",
   "id": "1a25b53b",
   "metadata": {},
   "source": [
    "Analisando as variáveis acima, vemos claramente que \"smoker_yes\" (fumantes) e \"age\" (idade), são fatores importantes na predição e composição dos valores do plano de saúde. "
   ]
  },
  {
   "cell_type": "markdown",
   "id": "7412aa37",
   "metadata": {},
   "source": [
    "Vamos agora avaliar outros modelos de machine learning disponíveis e selecionar os 3 melhores, nas suas configurações padrão:"
   ]
  },
  {
   "cell_type": "code",
   "execution_count": null,
   "id": "f81f3cba",
   "metadata": {},
   "outputs": [],
   "source": [
    "modelos = compare_models(sort = 'RMSLE', n_select = 4)"
   ]
  },
  {
   "cell_type": "code",
   "execution_count": null,
   "id": "8141e5c6",
   "metadata": {},
   "outputs": [],
   "source": [
    "modelos_tunados = [tune_model(i, optimize = 'RMSE') for i in modelos]"
   ]
  },
  {
   "cell_type": "code",
   "execution_count": null,
   "id": "16f0dd96",
   "metadata": {},
   "outputs": [],
   "source": [
    "# vamos combinar os 5 modelos tunados em um único preditor\n",
    "\n",
    "modelo_combinado = blend_models(modelos_tunados)"
   ]
  },
  {
   "cell_type": "code",
   "execution_count": null,
   "id": "14001a0d",
   "metadata": {},
   "outputs": [],
   "source": [
    "# verificando a performance nos dados de validação\n",
    "\n",
    "pred = predict_model(modelo_combinado)"
   ]
  },
  {
   "cell_type": "markdown",
   "id": "52203efc",
   "metadata": {},
   "source": [
    "nan"
   ]
  },
  {
   "cell_type": "code",
   "execution_count": null,
   "id": "185e136a",
   "metadata": {},
   "outputs": [],
   "source": [
    "# Aplicando o modelo final em todos os dados disponíveis\n",
    "\n",
    "modelo_final = finalize_model(modelo_combinado)"
   ]
  },
  {
   "cell_type": "code",
   "execution_count": null,
   "id": "7a711202",
   "metadata": {},
   "outputs": [],
   "source": [
    "# Salvando o modelo final\n",
    "\n",
    "save_model(modelo_final, 'final_model')\n",
    "\n",
    "# Salvando o modelo para deploy na nuvem\n",
    "save_model(modelo_final, model_name = 'deployment_28042020')"
   ]
  },
  {
   "cell_type": "code",
   "execution_count": null,
   "id": "8694f8b7",
   "metadata": {},
   "outputs": [],
   "source": [
    "# Fazendo um deploy básico\n",
    "\n",
    "def CustoSeguro (age, sex, bmi, children, smoker, region):\n",
    "    dados0 = {'age': [age], 'sex': [sex], 'bmi': [bmi], 'children': [children], 'smoker': [smoker], 'region': [region]}\n",
    "    dados = pd.DataFrame(dados0)\n",
    "    \n",
    "    modelo = load_model('./final_model')\n",
    "    \n",
    "    pred = float(predict_model(modelo, data = dados)['Label'].round(2))\n",
    "    valor = round(1.8*pred, 2)\n",
    "    \n",
    "    print(' ')\n",
    "    print('Idade: {}'.format(age))\n",
    "    print('Sexo: {}'.format(sex))\n",
    "    print('IMC: {}'.format(bmi))\n",
    "    print('Crianças: {}'.format(children))\n",
    "    print('Fumante: {}'.format(smoker))\n",
    "    print('Região: {}'.format(region))\n",
    "    print(' ')\n",
    "    print('Custo do Seguro: ${}'.format(pred))\n",
    "    print('Valor de Venda: ${}'.format(valor))\n",
    "          "
   ]
  },
  {
   "cell_type": "code",
   "execution_count": null,
   "id": "ea0a76b9",
   "metadata": {},
   "outputs": [],
   "source": [
    "# Testando o deploy\n",
    "\n",
    "CustoSeguro(age = 32, sex = 'female', bmi = 25, children = 0, smoker = 'no', region = 'southwest')"
   ]
  },
  {
   "cell_type": "code",
   "execution_count": null,
   "id": "9e62ccbb",
   "metadata": {},
   "outputs": [],
   "source": [
    "nan"
   ]
  },
  {
   "cell_type": "markdown",
   "id": "51fdbaac",
   "metadata": {},
   "source": [
    "nan"
   ]
  }
 ],
 "metadata": {},
 "nbformat": 4,
 "nbformat_minor": 5
}
