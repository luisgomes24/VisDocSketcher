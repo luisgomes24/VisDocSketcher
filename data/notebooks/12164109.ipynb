{
 "cells": [
  {
   "cell_type": "code",
   "execution_count": null,
   "id": "cbb7244e",
   "metadata": {},
   "outputs": [],
   "source": [
    "# This Python 3 environment comes with many helpful analytics libraries installed\n",
    "# It is defined by the kaggle/python Docker image: https://github.com/kaggle/docker-python\n",
    "# For example, here's several helpful packages to load\n",
    "\n",
    "import numpy as np # linear algebra\n",
    "import pandas as pd # data processing, CSV file I/O (e.g. pd.read_csv)\n",
    "import seaborn as sns\n",
    "import matplotlib.pyplot as plt\n",
    "sns.set(font_scale=1.4)\n",
    "# Input data files are available in the read-only \"../input/\" directory\n",
    "# For example, running this (by clicking run or pressing Shift+Enter) will list all files under the input directory\n",
    "\n",
    "import os\n",
    " \n",
    "\n",
    "# You can write up to 5GB to the current directory (/kaggle/working/) that gets preserved as output when you create a version using \"Save & Run All\" \n",
    "# You can also write temporary files to /kaggle/temp/, but they won't be saved outside of the current session"
   ]
  },
  {
   "cell_type": "code",
   "execution_count": null,
   "id": "aa75ae3e",
   "metadata": {},
   "outputs": [],
   "source": [
    "# This Python 3 environment comes with many helpful analytics libraries installed\n",
    "# It is defined by the kaggle/python Docker image: https://github.com/kaggle/docker-python\n",
    "# For example, here's several helpful packages to load\n",
    "\n",
    "import numpy as np # linear algebra\n",
    "import pandas as pd # data processing, CSV file I/O (e.g. pd.read_csv)\n",
    "import seaborn as sns\n",
    "import matplotlib.pyplot as plt\n",
    "sns.set(font_scale=1.4)\n",
    "# Input data files are available in the read-only \"../input/\" directory\n",
    "# For example, running this (by clicking run or pressing Shift+Enter) will list all files under the input directory\n",
    "\n",
    "import os\n",
    " \n",
    "\n",
    "# You can write up to 5GB to the current directory (/kaggle/working/) that gets preserved as output when you create a version using \"Save & Run All\" \n",
    "# You can also write temporary files to /kaggle/temp/, but they won't be saved outside of the current session"
   ]
  },
  {
   "cell_type": "code",
   "execution_count": null,
   "id": "5243f832",
   "metadata": {},
   "outputs": [],
   "source": [
    " "
   ]
  },
  {
   "cell_type": "code",
   "execution_count": null,
   "id": "e5d022db",
   "metadata": {},
   "outputs": [],
   "source": [
    " "
   ]
  },
  {
   "cell_type": "code",
   "execution_count": null,
   "id": "3a8c4658",
   "metadata": {},
   "outputs": [],
   "source": [
    "train_df=pd.read_csv('../input/rsna-str-pulmonary-embolism-detection/train.csv')\n",
    "test_df=pd.read_csv('../input/rsna-str-pulmonary-embolism-detection/test.csv')"
   ]
  },
  {
   "cell_type": "code",
   "execution_count": null,
   "id": "0c3883e7",
   "metadata": {},
   "outputs": [],
   "source": [
    "train_df=pd.read_csv('../input/rsna-str-pulmonary-embolism-detection/train.csv')\n",
    "test_df=pd.read_csv('../input/rsna-str-pulmonary-embolism-detection/test.csv')"
   ]
  },
  {
   "cell_type": "code",
   "execution_count": null,
   "id": "b8c1e54f",
   "metadata": {},
   "outputs": [],
   "source": [
    "train_df.columns"
   ]
  },
  {
   "cell_type": "code",
   "execution_count": null,
   "id": "0ed65836",
   "metadata": {},
   "outputs": [],
   "source": [
    "train_df.columns"
   ]
  },
  {
   "cell_type": "code",
   "execution_count": null,
   "id": "0180c991",
   "metadata": {},
   "outputs": [],
   "source": [
    "list_of_patient_ids=os.listdir('../input/rsna-str-pulmonary-embolism-detection/train')"
   ]
  },
  {
   "cell_type": "code",
   "execution_count": null,
   "id": "55e57d44",
   "metadata": {},
   "outputs": [],
   "source": [
    "list_of_patient_ids=os.listdir('../input/rsna-str-pulmonary-embolism-detection/train')"
   ]
  },
  {
   "cell_type": "code",
   "execution_count": null,
   "id": "5c3e0c3d",
   "metadata": {},
   "outputs": [],
   "source": [
    "len(list_of_patient_ids)\n",
    "#total 7279 patients in the study\n",
    "#study instance id map to image ids "
   ]
  },
  {
   "cell_type": "code",
   "execution_count": null,
   "id": "aa753262",
   "metadata": {},
   "outputs": [],
   "source": [
    "len(list_of_patient_ids)\n",
    "#total 7279 patients in the study\n",
    "#study instance id map to image ids "
   ]
  },
  {
   "cell_type": "code",
   "execution_count": null,
   "id": "e0df70c4",
   "metadata": {},
   "outputs": [],
   "source": [
    "#\n",
    "train_df[train_df.StudyInstanceUID=='df06fad17bc3']\n",
    "\n",
    "test_df[test_df.StudyInstanceUID=='df06fad17bc3']\n",
    "#train_df.StudyInstanceUID.nunique() "
   ]
  },
  {
   "cell_type": "code",
   "execution_count": null,
   "id": "41ee34a4",
   "metadata": {},
   "outputs": [],
   "source": [
    "#\n",
    "train_df[train_df.StudyInstanceUID=='df06fad17bc3']\n",
    "\n",
    "test_df[test_df.StudyInstanceUID=='df06fad17bc3']\n",
    "#train_df.StudyInstanceUID.nunique() "
   ]
  },
  {
   "cell_type": "code",
   "execution_count": null,
   "id": "2c918ae7",
   "metadata": {},
   "outputs": [],
   "source": [
    "train_df.groupby(['StudyInstanceUID','SeriesInstanceUID']).agg(series_count=('SOPInstanceUID','count'))\n",
    "## each patient has got only one CT report ,total patients 7279"
   ]
  },
  {
   "cell_type": "code",
   "execution_count": null,
   "id": "7f345c97",
   "metadata": {},
   "outputs": [],
   "source": [
    "train_df.groupby(['StudyInstanceUID','SeriesInstanceUID']).agg(series_count=('SOPInstanceUID','count'))\n",
    "## each patient has got only one CT report ,total patients 7279"
   ]
  },
  {
   "cell_type": "code",
   "execution_count": null,
   "id": "6a5bd291",
   "metadata": {},
   "outputs": [],
   "source": [
    "#train_df.iloc[:,4:].columns.tolist()"
   ]
  },
  {
   "cell_type": "code",
   "execution_count": null,
   "id": "a7b8ad0d",
   "metadata": {},
   "outputs": [],
   "source": [
    "#train_df.iloc[:,4:].columns.tolist()"
   ]
  },
  {
   "cell_type": "code",
   "execution_count": null,
   "id": "91bffd30",
   "metadata": {},
   "outputs": [],
   "source": [
    "plt.bar??"
   ]
  },
  {
   "cell_type": "code",
   "execution_count": null,
   "id": "bd6623eb",
   "metadata": {},
   "outputs": [],
   "source": [
    "plt.bar??"
   ]
  },
  {
   "cell_type": "code",
   "execution_count": null,
   "id": "0712c65a",
   "metadata": {},
   "outputs": [],
   "source": [
    "#train_df[train_df.negative_exam_for_pe==0].sum(axis=1)\n",
    "#eda  my_plot.legend([\"Total\",\"Belts\",\"Shirts\",\"Shoes\"]\n",
    "'''\n",
    "import seaborn as sns\n",
    "import matplotlib.pyplot as plt\n",
    "sns.set(font_scale=1.4)\n",
    "plt.rcParams[\"figure.figsize\"] = (10,10)\n",
    "#train_df.iloc[:,4:].sum(axis= 0).plot(kind='bar')\n",
    "#plt.figure(figsize=15,20)\n",
    "#my_colors = 'rgbkymc'\n",
    "#plt.barh (height=train_df.iloc[:,4:].sum(axis= 0),x=train_df.iloc[:,4:].columns.tolist(),\n",
    "#         color  =plt.cm.Paired(np.arange(len(train_df.iloc[:,4:].columns.tolist()))) )\n",
    "\n",
    "plt.barh (width=train_df.iloc[:,4:].sum(axis= 0),y=train_df.iloc[:,4:].columns.tolist(),\n",
    "         color  =plt.cm.Paired(np.arange(len(train_df.iloc[:,4:].columns.tolist()))) )\n",
    "#plt.legend(train_df.iloc[:,4:].columns.tolist()) \n",
    "#train_df.iloc[:,3:].plot()\n",
    "\n",
    "#train_df.iloc[:,4:].value_counts(0).plot(kind='bar');\n",
    "'''"
   ]
  },
  {
   "cell_type": "code",
   "execution_count": null,
   "id": "1a3b0997",
   "metadata": {},
   "outputs": [],
   "source": [
    "#train_df[train_df.negative_exam_for_pe==0].sum(axis=1)\n",
    "#eda  my_plot.legend([\"Total\",\"Belts\",\"Shirts\",\"Shoes\"]\n",
    "'''\n",
    "import seaborn as sns\n",
    "import matplotlib.pyplot as plt\n",
    "sns.set(font_scale=1.4)\n",
    "plt.rcParams[\"figure.figsize\"] = (10,10)\n",
    "#train_df.iloc[:,4:].sum(axis= 0).plot(kind='bar')\n",
    "#plt.figure(figsize=15,20)\n",
    "#my_colors = 'rgbkymc'\n",
    "#plt.barh (height=train_df.iloc[:,4:].sum(axis= 0),x=train_df.iloc[:,4:].columns.tolist(),\n",
    "#         color  =plt.cm.Paired(np.arange(len(train_df.iloc[:,4:].columns.tolist()))) )\n",
    "\n",
    "plt.barh (width=train_df.iloc[:,4:].sum(axis= 0),y=train_df.iloc[:,4:].columns.tolist(),\n",
    "         color  =plt.cm.Paired(np.arange(len(train_df.iloc[:,4:].columns.tolist()))) )\n",
    "#plt.legend(train_df.iloc[:,4:].columns.tolist()) \n",
    "#train_df.iloc[:,3:].plot()\n",
    "\n",
    "#train_df.iloc[:,4:].value_counts(0).plot(kind='bar');\n",
    "'''"
   ]
  },
  {
   "cell_type": "code",
   "execution_count": null,
   "id": "0b8b68a3",
   "metadata": {},
   "outputs": [],
   "source": [
    "#check the counts of each illnesses\n",
    "train_df.iloc[:,4:].sum(axis= 0).reset_index().rename (columns={'index':'category_illness', 0:'count'})"
   ]
  },
  {
   "cell_type": "code",
   "execution_count": null,
   "id": "bc4d5f22",
   "metadata": {},
   "outputs": [],
   "source": [
    "#check the counts of each illnesses\n",
    "train_df.iloc[:,4:].sum(axis= 0).reset_index().rename (columns={'index':'category_illness', 0:'count'})"
   ]
  },
  {
   "cell_type": "code",
   "execution_count": null,
   "id": "10ac68a2",
   "metadata": {},
   "outputs": [],
   "source": [
    "#checking each category if lung illness\n",
    "sns.barplot(y=train_df.iloc[:,4:].columns.tolist(),x=train_df.iloc[:,4:].sum(axis= 0))"
   ]
  },
  {
   "cell_type": "code",
   "execution_count": null,
   "id": "54fee3e3",
   "metadata": {},
   "outputs": [],
   "source": [
    "#checking each category if lung illness\n",
    "sns.barplot(y=train_df.iloc[:,4:].columns.tolist(),x=train_df.iloc[:,4:].sum(axis= 0))"
   ]
  },
  {
   "cell_type": "code",
   "execution_count": null,
   "id": "8630add2",
   "metadata": {},
   "outputs": [],
   "source": [
    "#checking co occurance\n",
    "train_df[train_df.negative_exam_for_pe!=0].iloc[:,4:].sum(axis= 0).reset_index().rename (columns={'index':'category_illness', 0:'count'})"
   ]
  },
  {
   "cell_type": "code",
   "execution_count": null,
   "id": "b2c0c2db",
   "metadata": {},
   "outputs": [],
   "source": [
    "#checking co occurance\n",
    "train_df[train_df.negative_exam_for_pe!=0].iloc[:,4:].sum(axis= 0).reset_index().rename (columns={'index':'category_illness', 0:'count'})"
   ]
  },
  {
   "cell_type": "code",
   "execution_count": null,
   "id": "a2db9698",
   "metadata": {},
   "outputs": [],
   "source": [
    "train_df[train_df.central_pe!=0].iloc[:,4:].sum(axis= 0).reset_index().rename (columns={'index':'category_illness', 0:'count'})\n",
    "#central PE occurs frequently along with rightsided/leftsided PE\n",
    "sns.barplot(y=train_df.iloc[:,4:].columns.tolist(),x=train_df[train_df.central_pe!=0].iloc[:,4:].sum(axis= 0))"
   ]
  },
  {
   "cell_type": "code",
   "execution_count": null,
   "id": "5b076589",
   "metadata": {},
   "outputs": [],
   "source": [
    "train_df[train_df.central_pe!=0].iloc[:,4:].sum(axis= 0).reset_index().rename (columns={'index':'category_illness', 0:'count'})\n",
    "#central PE occurs frequently along with rightsided/leftsided PE\n",
    "sns.barplot(y=train_df.iloc[:,4:].columns.tolist(),x=train_df[train_df.central_pe!=0].iloc[:,4:].sum(axis= 0))"
   ]
  },
  {
   "cell_type": "markdown",
   "id": "a4fe0f06",
   "metadata": {},
   "source": [
    "Flow artifact is less as we see below,left and right lung have more occurance of PE"
   ]
  },
  {
   "cell_type": "markdown",
   "id": "8971609d",
   "metadata": {},
   "source": [
    "Flow artifact is less as we see below,left and right lung have more occurance of PE"
   ]
  },
  {
   "cell_type": "code",
   "execution_count": null,
   "id": "37c3e255",
   "metadata": {},
   "outputs": [],
   "source": [
    "#rightsided_pe\n",
    "sns.barplot(y=train_df.iloc[:,4:].columns.tolist(),x=train_df[train_df.rightsided_pe!=0].iloc[:,4:].sum(axis= 0))"
   ]
  },
  {
   "cell_type": "code",
   "execution_count": null,
   "id": "4a5bb460",
   "metadata": {},
   "outputs": [],
   "source": [
    "#rightsided_pe\n",
    "sns.barplot(y=train_df.iloc[:,4:].columns.tolist(),x=train_df[train_df.rightsided_pe!=0].iloc[:,4:].sum(axis= 0))"
   ]
  },
  {
   "cell_type": "code",
   "execution_count": null,
   "id": "f8f0ba10",
   "metadata": {},
   "outputs": [],
   "source": [
    "sns.barplot(y=train_df.iloc[:,4:].columns.tolist(),x=train_df[train_df.leftsided_pe!=0].iloc[:,4:].sum(axis= 0))\n"
   ]
  },
  {
   "cell_type": "code",
   "execution_count": null,
   "id": "3ffc637f",
   "metadata": {},
   "outputs": [],
   "source": [
    "sns.barplot(y=train_df.iloc[:,4:].columns.tolist(),x=train_df[train_df.leftsided_pe!=0].iloc[:,4:].sum(axis= 0))\n"
   ]
  },
  {
   "cell_type": "code",
   "execution_count": null,
   "id": "0ba01889",
   "metadata": {},
   "outputs": [],
   "source": [
    "sns.barplot(y=train_df.iloc[:,4:].columns.tolist(),x=train_df[train_df.true_filling_defect_not_pe!=0].iloc[:,4:].sum(axis= 0))\n"
   ]
  },
  {
   "cell_type": "code",
   "execution_count": null,
   "id": "88908e4d",
   "metadata": {},
   "outputs": [],
   "source": [
    "sns.barplot(y=train_df.iloc[:,4:].columns.tolist(),x=train_df[train_df.true_filling_defect_not_pe!=0].iloc[:,4:].sum(axis= 0))\n"
   ]
  },
  {
   "cell_type": "code",
   "execution_count": null,
   "id": "fca11048",
   "metadata": {},
   "outputs": [],
   "source": [
    "sns.barplot(y=train_df.iloc[:,4:].columns.tolist(),x=train_df[train_df.chronic_pe!=0].iloc[:,4:].sum(axis= 0))\n"
   ]
  },
  {
   "cell_type": "code",
   "execution_count": null,
   "id": "e61e93f5",
   "metadata": {},
   "outputs": [],
   "source": [
    "sns.barplot(y=train_df.iloc[:,4:].columns.tolist(),x=train_df[train_df.chronic_pe!=0].iloc[:,4:].sum(axis= 0))\n"
   ]
  },
  {
   "cell_type": "code",
   "execution_count": null,
   "id": "902d55f3",
   "metadata": {},
   "outputs": [],
   "source": [
    "sns.barplot(y=train_df.iloc[:,4:].columns.tolist(),x=train_df[train_df.rv_lv_ratio_lt_1!=0].iloc[:,4:].sum(axis= 0))\n"
   ]
  },
  {
   "cell_type": "code",
   "execution_count": null,
   "id": "1902e783",
   "metadata": {},
   "outputs": [],
   "source": [
    "sns.barplot(y=train_df.iloc[:,4:].columns.tolist(),x=train_df[train_df.rv_lv_ratio_lt_1!=0].iloc[:,4:].sum(axis= 0))\n"
   ]
  },
  {
   "cell_type": "code",
   "execution_count": null,
   "id": "e45fee6c",
   "metadata": {},
   "outputs": [],
   "source": [
    "sns.barplot(y=train_df.iloc[:,4:].columns.tolist(),x=train_df[train_df.rv_lv_ratio_gte_1!=0].iloc[:,4:].sum(axis= 0))\n",
    "\n"
   ]
  },
  {
   "cell_type": "code",
   "execution_count": null,
   "id": "6f87e277",
   "metadata": {},
   "outputs": [],
   "source": [
    "sns.barplot(y=train_df.iloc[:,4:].columns.tolist(),x=train_df[train_df.rv_lv_ratio_gte_1!=0].iloc[:,4:].sum(axis= 0))\n",
    "\n"
   ]
  },
  {
   "cell_type": "code",
   "execution_count": null,
   "id": "078d4c51",
   "metadata": {},
   "outputs": [],
   "source": [
    "#train_df[train_df.central_pe!=0].iloc[:,4:].sum(axis= 0).reset_index().rename (columns={'index':'category_illness', 0:'count'})\n",
    "#central PE occurs frequently along with rightsided/leftsided PE\n",
    "sns.barplot(y=train_df.iloc[:,4:].columns.tolist(),x=train_df[train_df.acute_and_chronic_pe!=0].iloc[:,4:].sum(axis= 0))"
   ]
  },
  {
   "cell_type": "code",
   "execution_count": null,
   "id": "2bf928ce",
   "metadata": {},
   "outputs": [],
   "source": [
    "#train_df[train_df.central_pe!=0].iloc[:,4:].sum(axis= 0).reset_index().rename (columns={'index':'category_illness', 0:'count'})\n",
    "#central PE occurs frequently along with rightsided/leftsided PE\n",
    "sns.barplot(y=train_df.iloc[:,4:].columns.tolist(),x=train_df[train_df.acute_and_chronic_pe!=0].iloc[:,4:].sum(axis= 0))"
   ]
  },
  {
   "cell_type": "code",
   "execution_count": null,
   "id": "c892bd23",
   "metadata": {},
   "outputs": [],
   "source": [
    "train_df[train_df.pe_present_on_image!=0].StudyInstanceUID.nunique()  "
   ]
  },
  {
   "cell_type": "code",
   "execution_count": null,
   "id": "300d7da3",
   "metadata": {},
   "outputs": [],
   "source": [
    "train_df[train_df.pe_present_on_image!=0].StudyInstanceUID.nunique()  "
   ]
  },
  {
   "cell_type": "code",
   "execution_count": null,
   "id": "e1ac7b5b",
   "metadata": {},
   "outputs": [],
   "source": [
    "sample_sub=pd.read_csv('../input/rsna-str-pulmonary-embolism-detection/sample_submission.csv')\n"
   ]
  },
  {
   "cell_type": "code",
   "execution_count": null,
   "id": "2dcc9021",
   "metadata": {},
   "outputs": [],
   "source": [
    "sample_sub=pd.read_csv('../input/rsna-str-pulmonary-embolism-detection/sample_submission.csv')\n"
   ]
  },
  {
   "cell_type": "code",
   "execution_count": null,
   "id": "39bf83ff",
   "metadata": {},
   "outputs": [],
   "source": [
    "#there are patients for whom only id are given but not category suffix \n",
    "sample_sub[sample_sub.id=='5f34e0c61c00']"
   ]
  },
  {
   "cell_type": "code",
   "execution_count": null,
   "id": "4699b2a9",
   "metadata": {},
   "outputs": [],
   "source": [
    "#there are patients for whom only id are given but not category suffix \n",
    "sample_sub[sample_sub.id=='5f34e0c61c00']"
   ]
  },
  {
   "cell_type": "code",
   "execution_count": null,
   "id": "8629909e",
   "metadata": {},
   "outputs": [],
   "source": [
    "#sample_sub.sort_values(by='id')\n",
    "#sample_sub[~sample_sub.id.str.contains('pe')]\n",
    "#sample_sub[sample_sub.id.str.contains('df06fad17bc3')]"
   ]
  },
  {
   "cell_type": "code",
   "execution_count": null,
   "id": "01e4681a",
   "metadata": {},
   "outputs": [],
   "source": [
    "#sample_sub.sort_values(by='id')\n",
    "#sample_sub[~sample_sub.id.str.contains('pe')]\n",
    "#sample_sub[sample_sub.id.str.contains('df06fad17bc3')]"
   ]
  },
  {
   "cell_type": "markdown",
   "id": "50122822",
   "metadata": {},
   "source": [
    "Checking how many Patients have no PE"
   ]
  },
  {
   "cell_type": "markdown",
   "id": "203ae494",
   "metadata": {},
   "source": [
    "Checking how many Patients have no PE"
   ]
  },
  {
   "cell_type": "code",
   "execution_count": null,
   "id": "919595c0",
   "metadata": {},
   "outputs": [],
   "source": [
    "neg_pe_count_df=train_df.loc[train_df.negative_exam_for_pe==1,:]\n",
    "neg_pe_count_df.groupby(['StudyInstanceUID','SeriesInstanceUID']).agg(neg_pe_count=('SOPInstanceUID','count') )\n",
    "#oh majority of patients have no PE    and thus seem to be having normal lung"
   ]
  },
  {
   "cell_type": "code",
   "execution_count": null,
   "id": "0a5e3676",
   "metadata": {},
   "outputs": [],
   "source": [
    "neg_pe_count_df=train_df.loc[train_df.negative_exam_for_pe==1,:]\n",
    "neg_pe_count_df.groupby(['StudyInstanceUID','SeriesInstanceUID']).agg(neg_pe_count=('SOPInstanceUID','count') )\n",
    "#oh majority of patients have no PE    and thus seem to be having normal lung"
   ]
  },
  {
   "cell_type": "code",
   "execution_count": null,
   "id": "2ec3ee89",
   "metadata": {},
   "outputs": [],
   "source": [
    "#sanity check to see if any patients has got inconsistent findings,looks like perfect\n",
    "# patient with pe_present_on_image has aleast one PE illness category on\n",
    "train_df.loc[train_df.negative_exam_for_pe==1,:].pe_present_on_image.value_counts()"
   ]
  },
  {
   "cell_type": "code",
   "execution_count": null,
   "id": "ee0ccfc1",
   "metadata": {},
   "outputs": [],
   "source": [
    "#sanity check to see if any patients has got inconsistent findings,looks like perfect\n",
    "# patient with pe_present_on_image has aleast one PE illness category on\n",
    "train_df.loc[train_df.negative_exam_for_pe==1,:].pe_present_on_image.value_counts()"
   ]
  },
  {
   "cell_type": "markdown",
   "id": "4c9fd805",
   "metadata": {},
   "source": [
    "**binary column showing if patient has any illness or not**"
   ]
  },
  {
   "cell_type": "markdown",
   "id": "7b952b95",
   "metadata": {},
   "source": [
    "**binary column showing if patient has any illness or not**"
   ]
  },
  {
   "cell_type": "code",
   "execution_count": null,
   "id": "8d7f6f15",
   "metadata": {},
   "outputs": [],
   "source": [
    "#4911+2368\n",
    "train_df.pe_present_on_image.value_counts() #\n",
    "#train_df.StudyInstanceUID.nunique()\n",
    "#neg_pe_count_df.groupby(['StudyInstanceUID','SeriesInstanceUID']) [neg_pe_count_df.iloc[:,4:].columns.tolist()].apply(lambda x : x.astype(int).sum())"
   ]
  },
  {
   "cell_type": "code",
   "execution_count": null,
   "id": "3514cf74",
   "metadata": {},
   "outputs": [],
   "source": [
    "#4911+2368\n",
    "train_df.pe_present_on_image.value_counts() #\n",
    "#train_df.StudyInstanceUID.nunique()\n",
    "#neg_pe_count_df.groupby(['StudyInstanceUID','SeriesInstanceUID']) [neg_pe_count_df.iloc[:,4:].columns.tolist()].apply(lambda x : x.astype(int).sum())"
   ]
  },
  {
   "cell_type": "code",
   "execution_count": null,
   "id": "3213f98b",
   "metadata": {},
   "outputs": [],
   "source": [
    "#lets try to check the coexistence of each illness type\n",
    "#looks like all slices are consistent with each other for a patient and hence one can pick randomly few to check for particular PE illness\n",
    "pos_pe_count_df=train_df.loc[train_df.negative_exam_for_pe!=1,:]\n",
    "\n",
    "pos_pe_count_df.groupby(['StudyInstanceUID','SeriesInstanceUID']) [pos_pe_count_df.iloc[:,4:].columns.tolist()].apply(lambda x : x.astype(int).sum())"
   ]
  },
  {
   "cell_type": "code",
   "execution_count": null,
   "id": "ad7b8ee9",
   "metadata": {},
   "outputs": [],
   "source": [
    "#lets try to check the coexistence of each illness type\n",
    "#looks like all slices are consistent with each other for a patient and hence one can pick randomly few to check for particular PE illness\n",
    "pos_pe_count_df=train_df.loc[train_df.negative_exam_for_pe!=1,:]\n",
    "\n",
    "pos_pe_count_df.groupby(['StudyInstanceUID','SeriesInstanceUID']) [pos_pe_count_df.iloc[:,4:].columns.tolist()].apply(lambda x : x.astype(int).sum())"
   ]
  },
  {
   "cell_type": "markdown",
   "id": "15bb9310",
   "metadata": {},
   "source": [
    "Will continue updating if get more thoughts"
   ]
  },
  {
   "cell_type": "markdown",
   "id": "9ca2a568",
   "metadata": {},
   "source": [
    "Will continue updating if get more thoughts"
   ]
  }
 ],
 "metadata": {},
 "nbformat": 4,
 "nbformat_minor": 5
}
