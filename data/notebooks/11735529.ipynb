{
 "cells": [
  {
   "cell_type": "markdown",
   "id": "28f48fc2",
   "metadata": {},
   "source": [
    "# CO2 Emissions Data Visualisation\n",
    "\n",
    "This notebook tries to visualise the harmful CO2 emissions made by different countries from 1750 - 2017. I have used the [C02 GHG Emissions](https://www.kaggle.com/yoannboyere/co2-ghg-emissionsdata) dataset for this purpose."
   ]
  },
  {
   "cell_type": "code",
   "execution_count": null,
   "id": "fa0245ce",
   "metadata": {},
   "outputs": [],
   "source": [
    "'''Libraries'''\n",
    "\n",
    "import numpy as np # linear algebra\n",
    "import pandas as pd # data processing, CSV file I/O (e.g. pd.read_csv)\n",
    "import os, gc, warnings\n",
    "warnings.filterwarnings(\"ignore\")\n",
    "\n",
    "# PLot\n",
    "import plotly.express as px\n",
    "import plotly.graph_objects as go\n"
   ]
  },
  {
   "cell_type": "code",
   "execution_count": null,
   "id": "2a3c9c96",
   "metadata": {},
   "outputs": [],
   "source": [
    "'''Data'''\n",
    "url = '../input/co2-ghg-emissionsdata/co2_emission.csv'\n",
    "df = pd.read_csv(url, header='infer')\n",
    "\n",
    "# Drop Code Column\n",
    "df.drop('Code', axis=1, inplace=True)\n",
    "\n",
    "# Rename Emission Column\n",
    "df.rename(columns={'Annual CO₂ emissions (tonnes )':'Co2_Emissions'}, inplace=True)\n",
    "\n",
    "# Total Records\n",
    "print(\"total records: \", df.shape[0])\n",
    "\n",
    "# Unique Countries\n",
    "print(\"total unique countries: \", df.Entity.nunique())\n",
    "\n",
    "# Inspect\n",
    "df.head()"
   ]
  },
  {
   "cell_type": "markdown",
   "id": "c7f9f7d6",
   "metadata": {},
   "source": [
    "## Visualisation"
   ]
  },
  {
   "cell_type": "code",
   "execution_count": null,
   "id": "2b3416bf",
   "metadata": {},
   "outputs": [],
   "source": [
    "'''Visualisation - Helper Function'''\n",
    "\n",
    "def visualise(country):\n",
    "    \n",
    "    '''Creating a seperate dataframe'''\n",
    "    df_vis = df[df['Entity'] == country]\n",
    "    tot_yr = df_vis.Year.max() - df_vis.Year.min()\n",
    "    tot_em = df_vis.Co2_Emissions.sum()\n",
    "    print(f\"Total Co2 Emissions by {country} in {tot_yr} years: {'{:.2f}'.format(tot_em)} tonnes\")\n",
    "    \n",
    "    '''Plot'''\n",
    "    fig = px.line(df_vis, x=\"Year\", y='Co2_Emissions', hover_data={\"Co2_Emissions\"},\n",
    "              title='Total Co2 Emissions by '+country+' in '+str(tot_yr)+' years')\n",
    "    \n",
    "    fig.show()"
   ]
  },
  {
   "cell_type": "code",
   "execution_count": null,
   "id": "89c548a2",
   "metadata": {},
   "outputs": [],
   "source": [
    "# China\n",
    "visualise('China')"
   ]
  },
  {
   "cell_type": "code",
   "execution_count": null,
   "id": "03961cff",
   "metadata": {},
   "outputs": [],
   "source": [
    "# Brazil\n",
    "visualise('Brazil')"
   ]
  },
  {
   "cell_type": "code",
   "execution_count": null,
   "id": "32d879ba",
   "metadata": {},
   "outputs": [],
   "source": [
    "# Australia\n",
    "visualise('Australia')"
   ]
  },
  {
   "cell_type": "code",
   "execution_count": null,
   "id": "fe636724",
   "metadata": {},
   "outputs": [],
   "source": [
    "# Hong Kong\n",
    "visualise('Hong Kong')"
   ]
  },
  {
   "cell_type": "code",
   "execution_count": null,
   "id": "357cceac",
   "metadata": {},
   "outputs": [],
   "source": [
    "# India\n",
    "visualise('India')"
   ]
  },
  {
   "cell_type": "code",
   "execution_count": null,
   "id": "0ed0b643",
   "metadata": {},
   "outputs": [],
   "source": [
    "# Japan\n",
    "visualise('Japan')"
   ]
  },
  {
   "cell_type": "code",
   "execution_count": null,
   "id": "f8189f9f",
   "metadata": {},
   "outputs": [],
   "source": [
    "# New Zealand\n",
    "visualise('New Zealand')"
   ]
  },
  {
   "cell_type": "code",
   "execution_count": null,
   "id": "d96db56f",
   "metadata": {},
   "outputs": [],
   "source": [
    "# United States\n",
    "visualise('United States')"
   ]
  },
  {
   "cell_type": "code",
   "execution_count": null,
   "id": "890abb7f",
   "metadata": {},
   "outputs": [],
   "source": [
    "# United Kingdom\n",
    "visualise('United Kingdom')"
   ]
  },
  {
   "cell_type": "code",
   "execution_count": null,
   "id": "3cb5ffeb",
   "metadata": {},
   "outputs": [],
   "source": [
    "# Singapore\n",
    "visualise('Singapore')"
   ]
  },
  {
   "cell_type": "code",
   "execution_count": null,
   "id": "84c73641",
   "metadata": {},
   "outputs": [],
   "source": [
    "# Switzerland\n",
    "visualise('Switzerland')"
   ]
  },
  {
   "cell_type": "markdown",
   "id": "07daf97d",
   "metadata": {},
   "source": [
    "## Hope that was enlighting, please do consider to UPVOTE :-)"
   ]
  }
 ],
 "metadata": {},
 "nbformat": 4,
 "nbformat_minor": 5
}
