{
 "cells": [
  {
   "cell_type": "code",
   "execution_count": null,
   "id": "f1f9f568",
   "metadata": {},
   "outputs": [],
   "source": [
    "!pip install --pre pycaret"
   ]
  },
  {
   "cell_type": "code",
   "execution_count": null,
   "id": "6bd60bbf",
   "metadata": {},
   "outputs": [],
   "source": [
    "import pandas as pd\n",
    "train=pd.read_csv('../input/tps092022-time-series-conversation/train_Spain_KaggleRama_Kaggle Advanced Techniques.csv')\n",
    "train.head()"
   ]
  },
  {
   "cell_type": "code",
   "execution_count": null,
   "id": "71bbf48a",
   "metadata": {},
   "outputs": [],
   "source": [
    "train.info()"
   ]
  },
  {
   "cell_type": "code",
   "execution_count": null,
   "id": "726f63ed",
   "metadata": {},
   "outputs": [],
   "source": [
    "train['date'] = pd.to_datetime(train['date'])\n",
    "train.set_index('date',inplace=True)\n",
    "train[:5]"
   ]
  },
  {
   "cell_type": "code",
   "execution_count": null,
   "id": "29fd6396",
   "metadata": {},
   "outputs": [],
   "source": [
    "test=pd.read_csv('../input/tps092022-time-series-conversation/test_Spain_KaggleRama_Kaggle Advanced Techniques.csv')\n",
    "test.head()"
   ]
  },
  {
   "cell_type": "code",
   "execution_count": null,
   "id": "06d9c8c5",
   "metadata": {},
   "outputs": [],
   "source": [
    "test.nunique()"
   ]
  },
  {
   "cell_type": "code",
   "execution_count": null,
   "id": "6e0f0474",
   "metadata": {},
   "outputs": [],
   "source": [
    "from pycaret.time_series import *\n",
    "time = setup(train, fh = 120, fold = 5, session_id = 42)"
   ]
  },
  {
   "cell_type": "code",
   "execution_count": null,
   "id": "cd01d3fa",
   "metadata": {},
   "outputs": [],
   "source": [
    "model=time.compare_models(sort = 'SMAPE')\n",
    "model"
   ]
  },
  {
   "cell_type": "code",
   "execution_count": null,
   "id": "05fccf77",
   "metadata": {},
   "outputs": [],
   "source": [
    "y_predict = time.predict_model(model)"
   ]
  },
  {
   "cell_type": "code",
   "execution_count": null,
   "id": "5ee96b2c",
   "metadata": {},
   "outputs": [],
   "source": [
    "tuned_model = time.tune_model(model,optimize = 'SMAPE')\n",
    "tuned_model"
   ]
  },
  {
   "cell_type": "code",
   "execution_count": null,
   "id": "5c961a43",
   "metadata": {},
   "outputs": [],
   "source": [
    "time.predict_model(tuned_model)"
   ]
  },
  {
   "cell_type": "code",
   "execution_count": null,
   "id": "a60ff7fc",
   "metadata": {},
   "outputs": [],
   "source": [
    "# Finalize Model\n",
    "final_model = time.finalize_model(tuned_model)\n",
    "final_model\n"
   ]
  },
  {
   "cell_type": "code",
   "execution_count": null,
   "id": "6aa8abed",
   "metadata": {},
   "outputs": [],
   "source": [
    "df = predict_model(final_model, fh = 365).reset_index()\n",
    "df.columns=['date','num_sold']\n",
    "df.head()"
   ]
  },
  {
   "cell_type": "code",
   "execution_count": null,
   "id": "2f2e739c",
   "metadata": {},
   "outputs": [],
   "source": [
    "test['date'] = pd.to_datetime(test['date'])\n",
    "test.info()"
   ]
  },
  {
   "cell_type": "code",
   "execution_count": null,
   "id": "68564a55",
   "metadata": {},
   "outputs": [],
   "source": [
    "test.head()"
   ]
  },
  {
   "cell_type": "code",
   "execution_count": null,
   "id": "adfac88a",
   "metadata": {},
   "outputs": [],
   "source": [
    "test['num_sold']=df['num_sold']\n",
    "test=test[['row_id','num_sold']]\n",
    "test.shape"
   ]
  },
  {
   "cell_type": "code",
   "execution_count": null,
   "id": "ac4f219e",
   "metadata": {},
   "outputs": [],
   "source": [
    "test.head()"
   ]
  },
  {
   "cell_type": "code",
   "execution_count": null,
   "id": "1565eeef",
   "metadata": {},
   "outputs": [],
   "source": [
    "test.to_csv('./Spain_KaggleRama_Kaggle Advanced Techniques.csv',index=False)"
   ]
  }
 ],
 "metadata": {},
 "nbformat": 4,
 "nbformat_minor": 5
}
