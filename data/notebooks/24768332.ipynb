{
 "cells": [
  {
   "cell_type": "code",
   "execution_count": null,
   "id": "236ba65d",
   "metadata": {},
   "outputs": [],
   "source": [
    "import pandas as pd\n",
    "import seaborn as sns\n",
    "import numpy as np\n",
    "import matplotlib.pyplot as plt\n",
    "from sklearn.model_selection import train_test_split\n",
    "from sklearn.preprocessing import StandardScaler\n",
    "from sklearn.metrics import confusion_matrix, accuracy_score, classification_report\n",
    "from sklearn import metrics\n",
    "from sklearn.model_selection import cross_val_score\n",
    "from sklearn.linear_model import LogisticRegression\n",
    "from sklearn.naive_bayes import GaussianNB\n",
    "from sklearn.ensemble import RandomForestClassifier\n",
    "from sklearn.ensemble import VotingClassifier\n",
    "import warnings\n",
    "warnings.filterwarnings(\"ignore\")"
   ]
  },
  {
   "cell_type": "code",
   "execution_count": null,
   "id": "3f61c00b",
   "metadata": {},
   "outputs": [],
   "source": [
    "data = pd.read_csv('../input/heart-failure-prediction/heart.csv')\n",
    "data"
   ]
  },
  {
   "cell_type": "code",
   "execution_count": null,
   "id": "1fc731c0",
   "metadata": {},
   "outputs": [],
   "source": [
    "data.columns"
   ]
  },
  {
   "cell_type": "code",
   "execution_count": null,
   "id": "af169286",
   "metadata": {},
   "outputs": [],
   "source": [
    "data.describe()"
   ]
  },
  {
   "cell_type": "code",
   "execution_count": null,
   "id": "20d96ac5",
   "metadata": {},
   "outputs": [],
   "source": [
    "data.info()"
   ]
  },
  {
   "cell_type": "code",
   "execution_count": null,
   "id": "0b8152f0",
   "metadata": {},
   "outputs": [],
   "source": [
    "plt.figure(figsize=(20,10))\n",
    "plt.title('Histogram of Age with Positive vs Negative Cases')\n",
    "sns.histplot(data=data, x='Age', hue='HeartDisease', bins=30, kde=True);"
   ]
  },
  {
   "cell_type": "markdown",
   "id": "3e41e1a0",
   "metadata": {},
   "source": [
    "## Categorical scatterplots"
   ]
  },
  {
   "cell_type": "code",
   "execution_count": null,
   "id": "1e38f52d",
   "metadata": {},
   "outputs": [],
   "source": [
    "sns.catplot(y=\"Age\", x=\"Sex\", hue = \"ChestPainType\", kind=\"swarm\", data=data)"
   ]
  },
  {
   "cell_type": "code",
   "execution_count": null,
   "id": "560ddb69",
   "metadata": {},
   "outputs": [],
   "source": [
    "sns.catplot(y=\"Age\", x=\"Sex\", hue = \"RestingBP\", kind=\"swarm\", data=data)"
   ]
  },
  {
   "cell_type": "code",
   "execution_count": null,
   "id": "4d3d95f7",
   "metadata": {},
   "outputs": [],
   "source": [
    "sns.catplot(y=\"Age\", x=\"Sex\", hue = \"HeartDisease\", kind=\"swarm\", data=data)\n"
   ]
  },
  {
   "cell_type": "markdown",
   "id": "fb33df20",
   "metadata": {},
   "source": [
    "### Distributions of observations within categories"
   ]
  },
  {
   "cell_type": "code",
   "execution_count": null,
   "id": "e923514d",
   "metadata": {},
   "outputs": [],
   "source": [
    "sns.catplot(y=\"Age\", x=\"Sex\", hue = \"HeartDisease\", kind=\"box\", data=data)"
   ]
  },
  {
   "cell_type": "code",
   "execution_count": null,
   "id": "62c96687",
   "metadata": {},
   "outputs": [],
   "source": [
    "sns.catplot(x=\"ChestPainType\", y=\"Cholesterol\", kind=\"boxen\",\n",
    "            data=data.sort_values(\"ChestPainType\"))"
   ]
  },
  {
   "cell_type": "code",
   "execution_count": null,
   "id": "00c484d9",
   "metadata": {},
   "outputs": [],
   "source": [
    "sns.catplot(x=\"ST_Slope\", y=\"Cholesterol\", hue=\"Sex\",\n",
    "            kind=\"violin\", data=data)"
   ]
  },
  {
   "cell_type": "code",
   "execution_count": null,
   "id": "cc553ddf",
   "metadata": {},
   "outputs": [],
   "source": [
    "g = sns.catplot(x=\"ChestPainType\", y=\"MaxHR\", kind=\"violin\", inner=None, data=data)\n",
    "sns.swarmplot(x=\"ChestPainType\", y=\"MaxHR\", color=\"k\", size=3, data=data, ax=g.ax)"
   ]
  },
  {
   "cell_type": "markdown",
   "id": "4245e41a",
   "metadata": {},
   "source": [
    "## Showing multiple relationships with facets"
   ]
  },
  {
   "cell_type": "code",
   "execution_count": null,
   "id": "617526fb",
   "metadata": {},
   "outputs": [],
   "source": [
    "sns.catplot(x=\"ChestPainType\", y=\"MaxHR\", hue=\"ExerciseAngina\",\n",
    "            col=\"HeartDisease\", aspect=.7,\n",
    "            kind=\"swarm\", data=data)"
   ]
  },
  {
   "cell_type": "code",
   "execution_count": null,
   "id": "d7f980da",
   "metadata": {},
   "outputs": [],
   "source": [
    "g = sns.catplot(x=\"Age\", y=\"HeartDisease\", row=\"RestingECG\",\n",
    "                kind=\"box\", orient=\"h\", height=2, aspect=6,\n",
    "                data=data)\n",
    "g.set(xscale=\"log\")"
   ]
  },
  {
   "cell_type": "code",
   "execution_count": null,
   "id": "121faee8",
   "metadata": {},
   "outputs": [],
   "source": [
    "sns.set_theme(style=\"ticks\")\n",
    "\n",
    "# Initialize the figure with a logarithmic x axis\n",
    "f, ax = plt.subplots(figsize=(20, 10))\n",
    "ax.set_xscale(\"log\")\n",
    "\n",
    "# Plot the orbital period with horizontal boxes\n",
    "sns.boxplot(x=\"Cholesterol\", y=\"ChestPainType\", data=data,\n",
    "            whis=[0, 100], width=.6, palette=\"vlag\")\n",
    "\n",
    "# Add in points to show each observation\n",
    "sns.stripplot(x=\"Cholesterol\", y=\"ChestPainType\", data=data,\n",
    "              size=4, color=\".6\", linewidth=0)\n",
    "\n",
    "# Tweak the visual presentation\n",
    "ax.xaxis.grid(True)\n",
    "ax.set(xlabel=\"Cholesterol\")\n",
    "ax.set(ylabel=\"ChestPainType\")\n",
    "sns.despine(trim=True, left=True)"
   ]
  },
  {
   "cell_type": "code",
   "execution_count": null,
   "id": "2ca36df1",
   "metadata": {},
   "outputs": [],
   "source": [
    "f, ax = plt.subplots(figsize=(20, 10))\n",
    "ax.set_xscale(\"log\")\n",
    "\n",
    "# Plot the orbital period with horizontal boxes\n",
    "sns.boxplot(x=\"RestingBP\", y=\"ChestPainType\", data=data,\n",
    "            whis=[0, 100], width=.6, palette=\"vlag\")\n",
    "\n",
    "# Add in points to show each observation\n",
    "sns.stripplot(x=\"RestingBP\", y=\"ChestPainType\", data=data,\n",
    "              size=4, color=\".3\", linewidth=0)\n",
    "\n",
    "# Tweak the visual presentation\n",
    "ax.xaxis.grid(True)\n",
    "ax.set(xlabel=\"RestingBP\")\n",
    "ax.set(ylabel=\"ChestPainType\")\n",
    "sns.despine(trim=True, left=True)"
   ]
  },
  {
   "cell_type": "code",
   "execution_count": null,
   "id": "c1026e51",
   "metadata": {},
   "outputs": [],
   "source": [
    "f, ax = plt.subplots(figsize=(20, 10))\n",
    "ax.set_xscale(\"log\")\n",
    "\n",
    "# Plot the orbital period with horizontal boxes\n",
    "sns.boxplot(x=\"MaxHR\", y=\"ChestPainType\", data=data,\n",
    "            whis=[0, 100], width=.6, palette=\"vlag\")\n",
    "\n",
    "# Add in points to show each observation\n",
    "sns.stripplot(x=\"MaxHR\", y=\"ChestPainType\", data=data,\n",
    "              size=4, color=\".3\", linewidth=0)\n",
    "\n",
    "# Tweak the visual presentation\n",
    "ax.xaxis.grid(True)\n",
    "ax.set(xlabel=\"MaxHR\")\n",
    "ax.set(ylabel=\"ChestPainType\")\n",
    "sns.despine(trim=True, left=True)"
   ]
  },
  {
   "cell_type": "markdown",
   "id": "5d940097",
   "metadata": {},
   "source": [
    "## Correlation Heatmap"
   ]
  },
  {
   "cell_type": "code",
   "execution_count": null,
   "id": "3f453737",
   "metadata": {},
   "outputs": [],
   "source": [
    "plt.figure(figsize=(12,8))\n",
    "sns.heatmap(data.corr(),annot=True,cmap='BrBG')\n",
    "plt.title('Correlation Heatmap\\n',fontweight='bold',fontsize=14)\n",
    "plt.show()"
   ]
  },
  {
   "cell_type": "markdown",
   "id": "59343f19",
   "metadata": {},
   "source": [
    "# Convert Categorical Variable to Numeric using \"get_dummies\" "
   ]
  },
  {
   "cell_type": "code",
   "execution_count": null,
   "id": "08aa97f9",
   "metadata": {},
   "outputs": [],
   "source": [
    "sex = pd.get_dummies(data.Sex)\n",
    "cpt = pd.get_dummies(data.ChestPainType)\n",
    "recg = pd.get_dummies(data.RestingECG)\n",
    "ea = pd.get_dummies(data.ExerciseAngina)\n",
    "sts = pd.get_dummies(data.ST_Slope)"
   ]
  },
  {
   "cell_type": "markdown",
   "id": "721859e3",
   "metadata": {},
   "source": [
    "# Concatenate the dummies to original dataframe"
   ]
  },
  {
   "cell_type": "code",
   "execution_count": null,
   "id": "c39b3264",
   "metadata": {},
   "outputs": [],
   "source": [
    "merged = pd.concat([data, sex,cpt,recg,ea,sts], axis='columns')"
   ]
  },
  {
   "cell_type": "code",
   "execution_count": null,
   "id": "d82ae5b9",
   "metadata": {},
   "outputs": [],
   "source": [
    "# drop the values\n",
    "data = merged.drop(['Sex', 'ChestPainType','RestingECG','ExerciseAngina','ST_Slope'], axis='columns')\n",
    "data"
   ]
  },
  {
   "cell_type": "code",
   "execution_count": null,
   "id": "b7f0e0ec",
   "metadata": {},
   "outputs": [],
   "source": [
    "plt.figure(figsize=(12,8))\n",
    "sns.heatmap(data.corr(),annot=True,cmap='BrBG')\n",
    "plt.title('Correlation Heatmap\\n',fontweight='bold',fontsize=14)\n",
    "plt.show()"
   ]
  },
  {
   "cell_type": "code",
   "execution_count": null,
   "id": "a911a7d1",
   "metadata": {},
   "outputs": [],
   "source": [
    "data.isnull()"
   ]
  },
  {
   "cell_type": "code",
   "execution_count": null,
   "id": "281aa2da",
   "metadata": {},
   "outputs": [],
   "source": [
    "# No null value detect\n",
    "sns.heatmap(data.isnull())"
   ]
  },
  {
   "cell_type": "code",
   "execution_count": null,
   "id": "82770e70",
   "metadata": {},
   "outputs": [],
   "source": [
    "data.shape"
   ]
  },
  {
   "cell_type": "code",
   "execution_count": null,
   "id": "3ced3939",
   "metadata": {},
   "outputs": [],
   "source": [
    "# Features\n",
    "X = data.drop('HeartDisease', axis = 1) # selecting all columns except the target\n",
    "# Target variable\n",
    "y = data['HeartDisease']"
   ]
  },
  {
   "cell_type": "code",
   "execution_count": null,
   "id": "a3ba6e72",
   "metadata": {},
   "outputs": [],
   "source": [
    "print(X.shape, y.shape)"
   ]
  },
  {
   "cell_type": "code",
   "execution_count": null,
   "id": "b3ead7d3",
   "metadata": {},
   "outputs": [],
   "source": [
    "# Train-test split\n",
    "X_train, X_test, y_train, y_test = train_test_split(X, y, train_size=0.8, shuffle=True, random_state=1)"
   ]
  },
  {
   "cell_type": "code",
   "execution_count": null,
   "id": "5243dbf0",
   "metadata": {},
   "outputs": [],
   "source": [
    "# Scale X\n",
    "scaler = StandardScaler()\n",
    "scaler.fit(X_train)\n",
    "X_train = pd.DataFrame(scaler.transform(X_train), index=X_train.index, columns=X_train.columns)\n",
    "X_test = pd.DataFrame(scaler.transform(X_test), index=X_test.index, columns=X_test.columns)\n",
    "X = scaler.fit_transform(X)"
   ]
  },
  {
   "cell_type": "code",
   "execution_count": null,
   "id": "87cf5b3a",
   "metadata": {},
   "outputs": [],
   "source": [
    "def model_matrics(model,name):\n",
    "    lrscore = model.score(X_test,y_test)\n",
    "    pred = model.predict(X_test)\n",
    "    lrcm = confusion_matrix(y_test,pred)\n",
    "    lrcr = classification_report(y_test,pred)\n",
    "    acc = metrics.accuracy_score(y_test,pred)\n",
    "    prec = metrics.precision_score(y_test,pred)\n",
    "    rec = metrics.recall_score(y_test,pred)\n",
    "    f1 = metrics.f1_score(y_test,pred)\n",
    "    cm = confusion_matrix(y_test,pred)\n",
    "    Specificity = cm[0,0]/(cm[0,0]+cm[0,1])\n",
    "    Sensitivity = cm[1,1]/(cm[1,0]+cm[1,1])\n",
    "\n",
    "    print(name)\n",
    "    print('*******************')\n",
    "    print('Testscore')\n",
    "    print('---------')\n",
    "    print(lrscore)\n",
    "    print('\\n')\n",
    "    print('confusion Matrix')\n",
    "    print('----------------')\n",
    "    print(lrcm)\n",
    "    print('\\n')\n",
    "    print('Classification Report')\n",
    "    print('---------------------')\n",
    "    print(lrcr)\n",
    "    print('Accuracy')\n",
    "    print('---------------------')\n",
    "    print(acc)\n",
    "    print('Precision')\n",
    "    print('---------------------')\n",
    "    print(prec)\n",
    "    print('Recall')\n",
    "    print('---------------------')\n",
    "    print(rec)\n",
    "    print('F1_score')\n",
    "    print('---------------------')\n",
    "    print(f1)\n",
    "    print('Specificity')\n",
    "    print('---------------------')\n",
    "    print(Specificity )\n",
    "    print('Sensitivity  ')\n",
    "    print('---------------------')\n",
    "    print(Sensitivity )\n",
    "\n",
    "    # Compute False postive rate, and True positive rate\n",
    "    fpr, tpr, thresholds = metrics.roc_curve(y_test, model.predict_proba(X_test)[:,1])\n",
    "\n",
    "    # Calculate Area under the curve to display on the plot\n",
    "    roc_auc = metrics.roc_auc_score(y_test,model.predict(X_test))\n",
    "\n",
    "    plt.title('Receiver Operating Characteristic of '+name)\n",
    "    plt.plot(fpr, tpr, 'b', label = 'AUC = %0.2f' % roc_auc)\n",
    "    plt.legend(loc = 'lower right')\n",
    "    plt.plot([0, 1], [0, 1],'r--')\n",
    "    plt.xlim([0, 1])\n",
    "    plt.ylim([0, 1])\n",
    "    plt.ylabel('True Positive Rate')\n",
    "    plt.xlabel('False Positive Rate')\n",
    "    plt.show()\n",
    "    print(\"ROC_AUC of \" +name,roc_auc)\n",
    "    print(\"   \")"
   ]
  },
  {
   "cell_type": "code",
   "execution_count": null,
   "id": "b92631c6",
   "metadata": {},
   "outputs": [],
   "source": [
    "from sklearn.model_selection import GridSearchCV\n",
    "from sklearn.linear_model import LogisticRegression\n",
    "lr_model = LogisticRegression()"
   ]
  },
  {
   "cell_type": "code",
   "execution_count": null,
   "id": "ea3ff73e",
   "metadata": {},
   "outputs": [],
   "source": [
    "lr_model = LogisticRegression(penalty='l2',C=1,max_iter=100)\n",
    "lr_model.fit(X_train,y_train)"
   ]
  },
  {
   "cell_type": "code",
   "execution_count": null,
   "id": "e7497f09",
   "metadata": {},
   "outputs": [],
   "source": [
    "model_matrics(lr_model,\"Logistic Regression\")"
   ]
  },
  {
   "cell_type": "markdown",
   "id": "39c8a65e",
   "metadata": {},
   "source": [
    "# Majority Class Labels (Majority/Hard Voting)"
   ]
  },
  {
   "cell_type": "markdown",
   "id": "d0b9744d",
   "metadata": {},
   "source": [
    "In majority voting, the predicted class label for a particular sample is the class label that represents the majority (mode) of the class labels predicted by each individual classifier.\n",
    "\n",
    "E.g., if the prediction for a given sample is\n",
    "\n",
    "classifier 1 -> class 1\n",
    "\n",
    "classifier 2 -> class 1\n",
    "\n",
    "classifier 3 -> class 2\n",
    "\n",
    "the VotingClassifier (with voting='hard') would classify the sample as “class 1” based on the majority class label.\n",
    "\n",
    "In the cases of a tie, the VotingClassifier will select the class based on the ascending sort order. E.g., in the following scenario\n",
    "\n",
    "classifier 1 -> class 2\n",
    "\n",
    "classifier 2 -> class 1\n",
    "\n",
    "the class label 1 will be assigned to the sample."
   ]
  },
  {
   "cell_type": "code",
   "execution_count": null,
   "id": "5c565b52",
   "metadata": {},
   "outputs": [],
   "source": [
    "clf1 = LogisticRegression(random_state=1)\n",
    "clf2 = RandomForestClassifier(n_estimators=50, random_state=1)\n",
    "clf3 = GaussianNB()"
   ]
  },
  {
   "cell_type": "code",
   "execution_count": null,
   "id": "68bd07ee",
   "metadata": {},
   "outputs": [],
   "source": [
    "eclf = VotingClassifier(estimators=[('lr', clf1), ('rf', clf2), ('gnb', clf3)],voting='hard')"
   ]
  },
  {
   "cell_type": "code",
   "execution_count": null,
   "id": "838fb0f1",
   "metadata": {},
   "outputs": [],
   "source": [
    "for clf, label in zip([clf1, clf2, clf3, eclf], ['Logistic Regression', 'Random Forest', 'naive Bayes', 'Ensemble']):\n",
    "    scores = cross_val_score(clf, X, y, scoring='accuracy', cv=5)\n",
    "    print(\"Accuracy: %0.2f (+/- %0.2f) [%s]\" % (scores.mean(), scores.std(), label))"
   ]
  },
  {
   "cell_type": "markdown",
   "id": "f6d0140c",
   "metadata": {},
   "source": [
    "# Weighted Average Probabilities (Soft Voting)"
   ]
  },
  {
   "cell_type": "markdown",
   "id": "8e64b20b",
   "metadata": {},
   "source": [
    "In contrast to majority voting (hard voting), soft voting returns the class label as argmax of the sum of predicted probabilities.\n",
    "\n",
    "Specific weights can be assigned to each classifier via the weights parameter. When weights are provided, the predicted class probabilities for each classifier are collected, multiplied by the classifier weight, and averaged. The final class label is then derived from the class label with the highest average probability.\n",
    "\n",
    "To illustrate this with a simple example, let’s assume we have 3 classifiers and a 3-class classification problems where we assign equal weights to all classifiers: w1=1, w2=1, w3=1."
   ]
  },
  {
   "cell_type": "code",
   "execution_count": null,
   "id": "a7fb48ce",
   "metadata": {},
   "outputs": [],
   "source": [
    "from sklearn.tree import DecisionTreeClassifier\n",
    "from sklearn.neighbors import KNeighborsClassifier\n",
    "from sklearn.svm import SVC\n",
    "from itertools import product"
   ]
  },
  {
   "cell_type": "code",
   "execution_count": null,
   "id": "5b97956d",
   "metadata": {},
   "outputs": [],
   "source": [
    "clf1 = DecisionTreeClassifier(max_depth=4)\n",
    "clf2 = KNeighborsClassifier(n_neighbors=7)\n",
    "clf3 = SVC(kernel='rbf', probability=True)\n",
    "eclf = VotingClassifier(estimators=[('dt', clf1), ('knn', clf2), ('svc', clf3)], voting='soft', weights=[2, 1, 2])"
   ]
  },
  {
   "cell_type": "code",
   "execution_count": null,
   "id": "8eea3e94",
   "metadata": {},
   "outputs": [],
   "source": [
    "clf1 = clf1.fit(X, y)\n",
    "clf2 = clf2.fit(X, y)\n",
    "clf3 = clf3.fit(X, y)\n",
    "eclf = eclf.fit(X, y)"
   ]
  },
  {
   "cell_type": "code",
   "execution_count": null,
   "id": "256e28d2",
   "metadata": {},
   "outputs": [],
   "source": [
    "for clf, label in zip([clf1, clf2, clf3, eclf], ['DecisionTreeClassifier', 'KNeighborsClassifier', 'SVC', 'Ensemble']):\n",
    "    model_matrics(clf,label)    "
   ]
  },
  {
   "cell_type": "code",
   "execution_count": null,
   "id": "2bd638f7",
   "metadata": {},
   "outputs": [],
   "source": [
    "nan"
   ]
  }
 ],
 "metadata": {},
 "nbformat": 4,
 "nbformat_minor": 5
}
