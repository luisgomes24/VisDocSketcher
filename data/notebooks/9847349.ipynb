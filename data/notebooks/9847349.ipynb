{
 "cells": [
  {
   "cell_type": "code",
   "execution_count": null,
   "id": "9fd933d8",
   "metadata": {},
   "outputs": [],
   "source": [
    "import os \n",
    "import pandas as pd \n",
    "import seaborn as sns\n",
    "import matplotlib.pyplot as plt\n",
    "from matplotlib.gridspec import GridSpec\n",
    "from datetime import date"
   ]
  },
  {
   "cell_type": "markdown",
   "id": "fd10e01e",
   "metadata": {},
   "source": [
    "# Reading data"
   ]
  },
  {
   "cell_type": "code",
   "execution_count": null,
   "id": "726e0289",
   "metadata": {},
   "outputs": [],
   "source": [
    "for dirname, _, filenames in os.walk('/kaggle/input'):\n",
    "    for filename in filenames:\n",
    "        print(os.path.join(dirname, filename))"
   ]
  },
  {
   "cell_type": "code",
   "execution_count": null,
   "id": "8011516d",
   "metadata": {},
   "outputs": [],
   "source": [
    "df = pd.read_csv('/kaggle/input/police-deadly-force-usage-us/fatal-police-shootings-data.csv', delimiter=',')"
   ]
  },
  {
   "cell_type": "code",
   "execution_count": null,
   "id": "90b3f48e",
   "metadata": {},
   "outputs": [],
   "source": [
    "df.head()"
   ]
  },
  {
   "cell_type": "code",
   "execution_count": null,
   "id": "b02688ad",
   "metadata": {},
   "outputs": [],
   "source": [
    "df.info()"
   ]
  },
  {
   "cell_type": "code",
   "execution_count": null,
   "id": "82e049d4",
   "metadata": {},
   "outputs": [],
   "source": [
    "df.nunique()"
   ]
  },
  {
   "cell_type": "markdown",
   "id": "c85493cf",
   "metadata": {},
   "source": [
    "A new column 'year' is introduced, since at some point data will be examined during years as periods of time."
   ]
  },
  {
   "cell_type": "code",
   "execution_count": null,
   "id": "19c95544",
   "metadata": {},
   "outputs": [],
   "source": [
    "df['date'] = pd.to_datetime(df['date'])\n",
    "df['year'] = df.date.dt.year\n",
    "df.head()"
   ]
  },
  {
   "cell_type": "markdown",
   "id": "4b3b8a64",
   "metadata": {},
   "source": [
    "# Exploring data by gender"
   ]
  },
  {
   "cell_type": "code",
   "execution_count": null,
   "id": "241b5b2a",
   "metadata": {},
   "outputs": [],
   "source": [
    "df.gender.value_counts()"
   ]
  },
  {
   "cell_type": "code",
   "execution_count": null,
   "id": "a0182d86",
   "metadata": {},
   "outputs": [],
   "source": [
    "df[df.gender.isna()]"
   ]
  },
  {
   "cell_type": "code",
   "execution_count": null,
   "id": "ba6a942b",
   "metadata": {},
   "outputs": [],
   "source": [
    "df.gender.fillna(value='Unknown',inplace=True)\n",
    "df.gender.value_counts()"
   ]
  },
  {
   "cell_type": "code",
   "execution_count": null,
   "id": "449a54aa",
   "metadata": {},
   "outputs": [],
   "source": [
    "plt.figure(figsize=(8,5))\n",
    "ax = sns.countplot(x='gender', data=df);\n",
    "total = df.gender.value_counts().sum()\n",
    "for p in ax.patches:\n",
    "    perc = '{:.2f}%'.format(100 * p.get_height()/total)\n",
    "    ax.annotate(perc, (p.get_x()+0.33, p.get_height()+50))\n",
    "plt.title('Police Shooting Deaths in US (2015-2020)', fontsize=16)\n",
    "plt.show()"
   ]
  },
  {
   "cell_type": "code",
   "execution_count": null,
   "id": "61669008",
   "metadata": {},
   "outputs": [],
   "source": [
    "df_M=df[df['gender']=='M'].groupby(['year'])['id'].count().reset_index()\n",
    "df_F=df[df['gender']=='F'].groupby(['year'])['id'].count().reset_index()\n",
    "\n",
    "fig = plt.figure(figsize=(12,5))\n",
    "g = GridSpec(1,2)\n",
    "ax1 = fig.add_subplot(g[0,0])\n",
    "ax2 = fig.add_subplot(g[0,1])\n",
    "\n",
    "sns.barplot(x='year', y='id', ax=ax1, data=df_M)\n",
    "sns.barplot(x='year', y='id', ax=ax2, data=df_F)\n",
    "ax1.set_title('Male population')\n",
    "ax2.set_title('Female population')\n",
    "ax1.set_ylabel('count')\n",
    "ax2.set_ylabel('count')\n",
    "plt.show()"
   ]
  },
  {
   "cell_type": "markdown",
   "id": "2f338b12",
   "metadata": {},
   "source": [
    "# Racial distribution"
   ]
  },
  {
   "cell_type": "code",
   "execution_count": null,
   "id": "9b8d8502",
   "metadata": {},
   "outputs": [],
   "source": [
    "df.race.notna().value_counts()"
   ]
  },
  {
   "cell_type": "code",
   "execution_count": null,
   "id": "bae5e88a",
   "metadata": {},
   "outputs": [],
   "source": [
    "df.race.fillna(value='U',inplace=True)\n",
    "df.race.value_counts()"
   ]
  },
  {
   "cell_type": "code",
   "execution_count": null,
   "id": "cb37d565",
   "metadata": {},
   "outputs": [],
   "source": [
    "race_grouped = df.groupby(['year','race'])['id'].count().unstack(level=-1)\n",
    "race_grouped = race_grouped[['W', 'B', 'H', 'U', 'A', 'N', 'O']]\n",
    "race_grouped = race_grouped.rename(columns={'W': 'White', 'B': 'Black', 'H': 'Hispanic', \n",
    "                    'U': 'Unknown', 'A': 'Asian', 'N': 'Native American', 'O': 'Other'})\n",
    "race_grouped"
   ]
  },
  {
   "cell_type": "code",
   "execution_count": null,
   "id": "9602721d",
   "metadata": {},
   "outputs": [],
   "source": [
    "plt.figure(figsize=(12,6))\n",
    "race_grouped.plot.barh(stacked=True)\n",
    "plt.legend(bbox_to_anchor=(1.1, 1.05))\n",
    "plt.show()"
   ]
  },
  {
   "cell_type": "markdown",
   "id": "35d98d33",
   "metadata": {},
   "source": [
    "# Geographical distribution"
   ]
  },
  {
   "cell_type": "code",
   "execution_count": null,
   "id": "2b1548d6",
   "metadata": {},
   "outputs": [],
   "source": [
    "state_pops = pd.read_csv('../input/us-state-populations-2018/State Populations.csv')\n",
    "state_codes = {'California' : 'CA', 'Texas' : 'TX', 'Florida' : 'FL', 'New York' : 'NY', 'Pennsylvania' : 'PA',\n",
    "       'Illinois' : 'IL', 'Ohio' : 'OH', 'Georgia' : 'GA', 'North Carolina' : 'NC', 'Michigan' : 'MI',\n",
    "       'New Jersey' : 'NJ', 'Virginia' : 'VA', 'Washington' : 'WA', 'Arizona' : 'AZ', 'Massachusetts' : 'MA',\n",
    "       'Tennessee' : 'TN', 'Indiana' : 'IN', 'Missouri' : 'MO', 'Maryland' : 'MD', 'Wisconsin' : 'WI',\n",
    "       'Colorado' : 'CO', 'Minnesota' : 'MN', 'South Carolina' : 'SC', 'Alabama' : 'AL', 'Louisiana' : 'LA',\n",
    "       'Kentucky' : 'KY', 'Oregon' : 'OR', 'Oklahoma' : 'OK', 'Connecticut' : 'CT', 'Iowa' : 'IA', 'Utah' : 'UT',\n",
    "       'Nevada' : 'NV', 'Arkansas' : 'AR', 'Mississippi' : 'MS', 'Kansas' : 'KS', 'New Mexico' : 'NM',\n",
    "       'Nebraska' : 'NE', 'West Virginia' : 'WV', 'Idaho' : 'ID', 'Hawaii' : 'HI', 'New Hampshire' : 'NH',\n",
    "       'Maine' : 'ME', 'Montana' : 'MT', 'Rhode Island' : 'RI', 'Delaware' : 'DE', 'South Dakota' : 'SD',\n",
    "       'North Dakota' : 'ND', 'Alaska' : 'AK', 'District of Columbia' : 'DC', 'Vermont' : 'VT',\n",
    "       'Wyoming' : 'WY'}\n",
    "state_pops['State Code'] = state_pops['State'].apply(lambda x: state_codes[x])\n",
    "state_pops.head()"
   ]
  },
  {
   "cell_type": "code",
   "execution_count": null,
   "id": "84b5d040",
   "metadata": {},
   "outputs": [],
   "source": [
    "state_grouped = df.groupby(['state'])['id'].count().reset_index()\n",
    "state_grouped.head()"
   ]
  },
  {
   "cell_type": "code",
   "execution_count": null,
   "id": "4aa70d60",
   "metadata": {},
   "outputs": [],
   "source": [
    "state_grouped['population'] = state_grouped['state'].apply(lambda x: state_pops[state_pops['State Code'] == x].values[0,1])\n",
    "state_grouped['per100000'] = state_grouped['id']/state_grouped['population']*100000\n",
    "state_grouped.sort_values('per100000', ascending=False, inplace=True)\n",
    "state_grouped.head()"
   ]
  },
  {
   "cell_type": "code",
   "execution_count": null,
   "id": "4c7e8580",
   "metadata": {},
   "outputs": [],
   "source": [
    "plt.figure(figsize=(8,15))\n",
    "sns.barplot(x='per100000', y='state', data=state_grouped)\n",
    "plt.title('Police Shootings in US (2015-2020)', fontsize=16)\n",
    "plt.xlabel('Deaths per 100,000')\n",
    "plt.show()"
   ]
  }
 ],
 "metadata": {},
 "nbformat": 4,
 "nbformat_minor": 5
}
