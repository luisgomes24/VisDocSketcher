{
 "cells": [
  {
   "cell_type": "markdown",
   "id": "87e48185",
   "metadata": {},
   "source": [
    "# Introduction"
   ]
  },
  {
   "cell_type": "markdown",
   "id": "ee5bf3f4",
   "metadata": {},
   "source": [
    "#### In this notebook I have tried to determine which features affect the student's subjectwise and overall performance by looking at the data distribution overall and also based on clusters formed on the basis of scores. The features involved are:\n",
    "\n",
    "*  gender : sex of students\n",
    "*  race/ethnicity : ethnicity of students\n",
    "*  parental level of education : parents' final education\n",
    "* lunch : standard or free/reduced\n",
    "* test preparation course : Any course done/completed to prepare for test or not"
   ]
  },
  {
   "cell_type": "markdown",
   "id": "e966c3f9",
   "metadata": {},
   "source": [
    "# Importing Libraries"
   ]
  },
  {
   "cell_type": "code",
   "execution_count": null,
   "id": "102f8479",
   "metadata": {},
   "outputs": [],
   "source": [
    "import numpy as np \n",
    "import pandas as pd \n",
    "import matplotlib.pyplot as plt\n",
    "import matplotlib.ticker as ticker\n",
    "import seaborn as sns\n",
    "from sklearn.preprocessing import StandardScaler, OneHotEncoder\n",
    "from sklearn.compose import make_column_transformer\n",
    "from sklearn.cluster import KMeans\n",
    "%matplotlib inline\n",
    "import warnings\n",
    "warnings.filterwarnings('ignore')\n",
    "\n",
    "import os\n",
    "for dirname, _, filenames in os.walk('/kaggle/input'):\n",
    "    for filename in filenames:\n",
    "        print(os.path.join(dirname, filename))\n",
    "\n"
   ]
  },
  {
   "cell_type": "code",
   "execution_count": null,
   "id": "0a06a806",
   "metadata": {},
   "outputs": [],
   "source": [
    "%config InteractiveShell.ast_node_interactivity = 'all'"
   ]
  },
  {
   "cell_type": "markdown",
   "id": "7c19d8b9",
   "metadata": {},
   "source": [
    "# Loading Dataset"
   ]
  },
  {
   "cell_type": "code",
   "execution_count": null,
   "id": "e5c4145d",
   "metadata": {},
   "outputs": [],
   "source": [
    "data = pd.read_csv('../input/students-performance-in-exams/StudentsPerformance.csv')\n",
    "data.head()"
   ]
  },
  {
   "cell_type": "markdown",
   "id": "08ac224f",
   "metadata": {},
   "source": [
    "# Basic EDA"
   ]
  },
  {
   "cell_type": "code",
   "execution_count": null,
   "id": "682895af",
   "metadata": {},
   "outputs": [],
   "source": [
    "data.describe()"
   ]
  },
  {
   "cell_type": "code",
   "execution_count": null,
   "id": "8ddcac5b",
   "metadata": {},
   "outputs": [],
   "source": [
    "data.describe(include = 'object')"
   ]
  },
  {
   "cell_type": "code",
   "execution_count": null,
   "id": "f5db45b8",
   "metadata": {},
   "outputs": [],
   "source": [
    "data.shape"
   ]
  },
  {
   "cell_type": "code",
   "execution_count": null,
   "id": "f3e67a11",
   "metadata": {},
   "outputs": [],
   "source": [
    "data.duplicated().sum()"
   ]
  },
  {
   "cell_type": "code",
   "execution_count": null,
   "id": "1cf90aee",
   "metadata": {},
   "outputs": [],
   "source": [
    "data.isnull().sum()"
   ]
  },
  {
   "cell_type": "code",
   "execution_count": null,
   "id": "dc4d7213",
   "metadata": {},
   "outputs": [],
   "source": [
    "data['sum'] = data['math score'] + data['reading score'] + data['writing score'] # making new feature which takes overall score"
   ]
  },
  {
   "cell_type": "code",
   "execution_count": null,
   "id": "ebd3506f",
   "metadata": {},
   "outputs": [],
   "source": [
    "data['parental level of education'].unique()"
   ]
  },
  {
   "cell_type": "code",
   "execution_count": null,
   "id": "fae82007",
   "metadata": {},
   "outputs": [],
   "source": [
    "data['race/ethnicity'].unique()"
   ]
  },
  {
   "cell_type": "code",
   "execution_count": null,
   "id": "929a4748",
   "metadata": {},
   "outputs": [],
   "source": [
    "lst = ['math score','reading score','writing score','sum']\n",
    "features_cat = ['gender','race/ethnicity','parental level of education','test preparation course','lunch']\n",
    "features_num = ['math score','reading score','writing score','sum']\n",
    "data_copy = data.drop( features_cat,axis = 'columns')"
   ]
  },
  {
   "cell_type": "markdown",
   "id": "ddcbe640",
   "metadata": {},
   "source": [
    "# KMeans Clustering "
   ]
  },
  {
   "cell_type": "markdown",
   "id": "2bec0185",
   "metadata": {},
   "source": [
    "##### To classify students into groups and check which feature affects the scores significantly"
   ]
  },
  {
   "cell_type": "code",
   "execution_count": null,
   "id": "69e3c636",
   "metadata": {},
   "outputs": [],
   "source": [
    "preprocessor = make_column_transformer(\n",
    "    (StandardScaler(), features_num ))\n",
    "X = preprocessor.fit_transform(data_copy)\n",
    "wcss=[]\n",
    "for i in range(1,30):\n",
    "    kmeans = KMeans(i)\n",
    "    kmeans.fit(X)\n",
    "    wcss_iter = kmeans.inertia_\n",
    "    wcss.append(wcss_iter)\n",
    "\n",
    "number_clusters = range(1,30)\n",
    "plt.figure(figsize = (10,10))\n",
    "plt.plot(number_clusters,wcss,marker = 'o')\n",
    "plt.title('The Elbow Method')\n",
    "plt.xlabel('Number of clusters')\n",
    "plt.ylabel('WCSS')"
   ]
  },
  {
   "cell_type": "code",
   "execution_count": null,
   "id": "6c350cb8",
   "metadata": {},
   "outputs": [],
   "source": [
    "kmeans = KMeans(7)\n",
    "kmeans.fit(X)\n",
    "identified_clusters = kmeans.fit_predict(X)\n",
    "data_with_clusters = data.copy()\n",
    "data_with_clusters['Clusters'] = identified_clusters "
   ]
  },
  {
   "cell_type": "code",
   "execution_count": null,
   "id": "a995cb28",
   "metadata": {},
   "outputs": [],
   "source": [
    "# %config InteractiveShell.ast_node_interactivity = 'last'\n",
    "for i in lst:\n",
    "    df = pd.concat([data_with_clusters.loc[data_with_clusters['Clusters'] == 0][i].describe(),\n",
    "    data_with_clusters.loc[data_with_clusters['Clusters'] == 1][i].describe(),\n",
    "    data_with_clusters.loc[data_with_clusters['Clusters'] == 2][i].describe(),\n",
    "    data_with_clusters.loc[data_with_clusters['Clusters'] == 3][i].describe(),\n",
    "    data_with_clusters.loc[data_with_clusters['Clusters'] == 4][i].describe(),\n",
    "    data_with_clusters.loc[data_with_clusters['Clusters'] == 5][i].describe(),\n",
    "    data_with_clusters.loc[data_with_clusters['Clusters'] == 6][i].describe()],axis = 'columns')\n",
    "    df.columns = [0,1,2,3,4,5,6] \n",
    "    df.style.set_caption(i.title())\n",
    " \n",
    "    "
   ]
  },
  {
   "cell_type": "markdown",
   "id": "fa84b91c",
   "metadata": {},
   "source": [
    "#### Here we can see that based on the scores the descending order of scoring clusters is 6,2,4,0,3,5,1 (overall scores)"
   ]
  },
  {
   "cell_type": "markdown",
   "id": "fb142d98",
   "metadata": {},
   "source": [
    "#### Below we are grouping parental level of education into 3 classes low,medium and high. Also, we are simplifying the entries in the race/ethnicity column"
   ]
  },
  {
   "cell_type": "code",
   "execution_count": null,
   "id": "2c464183",
   "metadata": {},
   "outputs": [],
   "source": [
    "data['parental level of education v2'] = data['parental level of education'].replace(['some high school','high school','associate\\'s degree','some college',\"bachelor's degree\",\"master's degree\"],['low','low','medium','low','high','high'])\n",
    "data_with_clusters['parental level of education v2'] = data_with_clusters['parental level of education'].replace(['some high school','high school','associate\\'s degree','some college',\"bachelor's degree\",\"master's degree\"],['low','low','medium','low','high','high'])\n",
    "data['race/ethnicity v2'] = data['race/ethnicity'].replace(['group A','group B','group C','group D','group E'],['A','B','C','D','E'])\n",
    "data_with_clusters['race/ethnicity v2'] = data_with_clusters['race/ethnicity'].replace(['group A','group B','group C','group D','group E'],['A','B','C','D','E'])"
   ]
  },
  {
   "cell_type": "markdown",
   "id": "8b2e4016",
   "metadata": {},
   "source": [
    "#### Now we classify the clusters into ranks based on scores"
   ]
  },
  {
   "cell_type": "code",
   "execution_count": null,
   "id": "1e7087e5",
   "metadata": {},
   "outputs": [],
   "source": [
    "ranksdf = df.sort_values(by = 'mean',axis = 1,ascending = False)\n",
    "ranks = ranksdf.columns\n",
    "ranks\n",
    "data_with_clusters['Ranks'] = data_with_clusters['Clusters'].replace(ranks,[1,2,3,4,5,6,7]) #getting ranks based on scores"
   ]
  },
  {
   "cell_type": "markdown",
   "id": "8b291854",
   "metadata": {},
   "source": [
    "# Analysis based on Gender "
   ]
  },
  {
   "cell_type": "code",
   "execution_count": null,
   "id": "cb10f5e0",
   "metadata": {},
   "outputs": [],
   "source": [
    "plt.figure(figsize = (5,6))\n",
    "ax = plt.subplot(111)\n",
    "sns.countplot(data['gender'],order = ['male','female'],palette = ['blue','pink'])\n",
    "ax.bar_label(ax.containers[0])\n",
    "ax.set_ylabel('Count', size = 'large', backgroundcolor = 'yellow',labelpad = 20)\n",
    "ax.set_xlabel('Gender', size = 'large',backgroundcolor = 'yellow',labelpad = 20)"
   ]
  },
  {
   "cell_type": "markdown",
   "id": "712d1c50",
   "metadata": {},
   "source": [
    "#### Here we see the count of females is greater than men but not by too much."
   ]
  },
  {
   "cell_type": "markdown",
   "id": "3ba6eb35",
   "metadata": {},
   "source": [
    "#### Some descriptive stats for individual and overall scores can be seen below"
   ]
  },
  {
   "cell_type": "code",
   "execution_count": null,
   "id": "18b5ce71",
   "metadata": {},
   "outputs": [],
   "source": [
    "data.groupby(['gender'])['math score'].describe()"
   ]
  },
  {
   "cell_type": "code",
   "execution_count": null,
   "id": "b440fed5",
   "metadata": {},
   "outputs": [],
   "source": [
    "data.groupby(['gender'])['reading score'].describe()"
   ]
  },
  {
   "cell_type": "code",
   "execution_count": null,
   "id": "e549b51f",
   "metadata": {},
   "outputs": [],
   "source": [
    "data.groupby(['gender'])['writing score'].describe()"
   ]
  },
  {
   "cell_type": "code",
   "execution_count": null,
   "id": "f19417a1",
   "metadata": {},
   "outputs": [],
   "source": [
    "data.groupby(['gender'])['sum'].describe()"
   ]
  },
  {
   "cell_type": "code",
   "execution_count": null,
   "id": "38be9ac8",
   "metadata": {},
   "outputs": [],
   "source": [
    "for i in lst:\n",
    "    desc = data.groupby(['gender'])[i].describe()\n",
    "    desc.reset_index(level = 0,inplace = True)\n",
    "    plt.figure(figsize = (5,6))\n",
    "    ax = plt.subplot(111)\n",
    "    ax.title.set_text(i.title())\n",
    "    sns.barplot(x = 'gender',y = 'mean' , data = desc, order = ['male','female'],palette = ['blue','pink'])\n",
    "    ax.bar_label(ax.containers[0])\n",
    "    ax.set_ylabel(f'Avg. {i.title()}', size = 'large', backgroundcolor = 'yellow',labelpad = 20)\n",
    "    ax.set_xlabel('Gender', size = 'large',backgroundcolor = 'yellow',labelpad = 20)\n"
   ]
  },
  {
   "cell_type": "markdown",
   "id": "eeb48142",
   "metadata": {},
   "source": [
    "#### These plots indicate that on average male students did better in math but female students did better in reading and writing and hence, overall average scores were better for female students."
   ]
  },
  {
   "cell_type": "markdown",
   "id": "f1d0742e",
   "metadata": {},
   "source": [
    "#### Distribution of scores is represented below to get a better idea in boxplot form and kdeplot form."
   ]
  },
  {
   "cell_type": "code",
   "execution_count": null,
   "id": "73bff7d0",
   "metadata": {},
   "outputs": [],
   "source": [
    "for i in lst:\n",
    "    plt.figure(figsize = (10,10))\n",
    "    ax = plt.subplot(111)\n",
    "    ax.title.set_text(i.title())\n",
    "    sns.boxplot(x = data['gender'], y = data[i], palette = ['blue','pink'],order = ['male','female'])\n",
    "    tick_spacing = 5\n",
    "    ax.yaxis.set_major_locator(ticker.MultipleLocator(tick_spacing))\n",
    "    ax.set_xlabel('Gender', size = 'large',backgroundcolor = 'yellow',labelpad = 20)\n",
    "    ax.set_ylabel(i.title(), size = 'large',backgroundcolor = 'yellow',labelpad = 20)\n",
    "    \n",
    "data_female = data.loc[data['gender']== 'female']\n",
    "data_male = data.loc[data['gender'] == 'male']\n",
    "for i in lst:\n",
    "    plt.figure(figsize = (20,5))\n",
    "    ax1 = plt.subplot(111)\n",
    "    sns.kdeplot(data_male[i], color = 'blue',multiple = 'stack')\n",
    "    sns.kdeplot(data_female[i], color = 'pink', multiple = 'stack')\n",
    "    tick_spacing = 5\n",
    "    ax1.xaxis.set_major_locator(ticker.MultipleLocator(tick_spacing))\n",
    "    ax1.set_ylabel('Density', size = 'large', backgroundcolor = 'yellow',labelpad = 20)\n",
    "    ax1.set_xlabel(i.title(), size = 'large',backgroundcolor = 'yellow',labelpad = 20)"
   ]
  },
  {
   "cell_type": "markdown",
   "id": "7dca69d1",
   "metadata": {},
   "source": [
    "#### Next comes the analysis based on our kmeans clustering."
   ]
  },
  {
   "cell_type": "code",
   "execution_count": null,
   "id": "6e2befa4",
   "metadata": {},
   "outputs": [],
   "source": [
    "desc = data_with_clusters.groupby(['Ranks','gender'])['sum'].describe()\n",
    "desc.reset_index(level = [0,1],inplace = True)\n",
    "count_female = desc.loc[desc['gender']=='female']['count'].sum()\n",
    "count_male = desc.loc[desc['gender']=='male']['count'].sum()\n",
    "index_female = desc.loc[desc['gender']=='female'].index\n",
    "index_male = desc.loc[desc['gender']=='male'].index\n",
    "desc['percentage'] = pd.Series()\n",
    "for row in index_female:\n",
    "    desc.loc[row,'percentage']= desc.loc[row,'count']/count_female\n",
    "for row in index_male:\n",
    "    desc.loc[row,'percentage']= desc.loc[row,'count']/count_male\n",
    "desc\n",
    "plt.figure(figsize = (10,10))\n",
    "ax = plt.subplot(111)\n",
    "sns.barplot(x = 'Ranks',y ='percentage' ,data = desc,hue = 'gender',palette = ['pink','blue'])\n",
    "ax.set_ylabel('Percentage', size = 'large', backgroundcolor = 'yellow',labelpad = 20)\n",
    "ax.set_xlabel('Ranks', size = 'large',backgroundcolor = 'yellow',labelpad = 20)"
   ]
  },
  {
   "cell_type": "markdown",
   "id": "e343b178",
   "metadata": {},
   "source": [
    "#### This is the distribution based on our kmeans clusters which tells us that in these clusters based on scores there is no clear trend and hence gender does not seem to be a major factor even though overall score average was higher for female students."
   ]
  },
  {
   "cell_type": "markdown",
   "id": "955deb1e",
   "metadata": {},
   "source": [
    "# Analysis based on Test Preparation Course"
   ]
  },
  {
   "cell_type": "code",
   "execution_count": null,
   "id": "f01b55e9",
   "metadata": {},
   "outputs": [],
   "source": [
    "plt.figure(figsize = (5,6))\n",
    "ax = plt.subplot(111)\n",
    "sns.countplot(data['test preparation course'],palette = ['red','green'])\n",
    "ax.bar_label(ax.containers[0])\n",
    "ax.set_ylabel('Count', size = 'large', backgroundcolor = 'yellow',labelpad = 20)\n",
    "ax.set_xlabel('Test Preparation Course', size = 'large',backgroundcolor = 'yellow',labelpad = 20)"
   ]
  },
  {
   "cell_type": "markdown",
   "id": "8d0c0c58",
   "metadata": {},
   "source": [
    "#### The number of students who have completed some course to prepare for tests is much less than those who have not."
   ]
  },
  {
   "cell_type": "markdown",
   "id": "a77ae79b",
   "metadata": {},
   "source": [
    "#### Below are some descriptive stats based on individual and overall scores."
   ]
  },
  {
   "cell_type": "code",
   "execution_count": null,
   "id": "6637470c",
   "metadata": {},
   "outputs": [],
   "source": [
    "data.groupby(['test preparation course'])['math score'].describe()"
   ]
  },
  {
   "cell_type": "code",
   "execution_count": null,
   "id": "3ef45723",
   "metadata": {},
   "outputs": [],
   "source": [
    "data.groupby(['test preparation course'])['reading score'].describe()"
   ]
  },
  {
   "cell_type": "code",
   "execution_count": null,
   "id": "4680536f",
   "metadata": {},
   "outputs": [],
   "source": [
    "data.groupby(['test preparation course'])['writing score'].describe()"
   ]
  },
  {
   "cell_type": "code",
   "execution_count": null,
   "id": "37a55dae",
   "metadata": {},
   "outputs": [],
   "source": [
    "data.groupby(['test preparation course'])['sum'].describe()"
   ]
  },
  {
   "cell_type": "code",
   "execution_count": null,
   "id": "3b2d4999",
   "metadata": {},
   "outputs": [],
   "source": [
    "for i in lst:\n",
    "    desc = data.groupby(['test preparation course'])[i].describe()\n",
    "    desc.reset_index(level = 0,inplace = True)\n",
    "    plt.figure(figsize = (5,6))\n",
    "    ax = plt.subplot(111)\n",
    "    ax.title.set_text(i.title())\n",
    "    sns.barplot(x = 'test preparation course',y = 'mean' , data = desc, order = ['none','completed'],palette = ['red','green'])\n",
    "    ax.bar_label(ax.containers[0])\n",
    "    ax.set_ylabel(f'Avg. {i.title()}', size = 'large', backgroundcolor = 'yellow',labelpad = 20)\n",
    "    ax.set_xlabel('Test Preparation Course', size = 'large',backgroundcolor = 'yellow',labelpad = 20)\n"
   ]
  },
  {
   "cell_type": "markdown",
   "id": "0b9c0183",
   "metadata": {},
   "source": [
    "#### On average we can say that students who did some preparation course scored better."
   ]
  },
  {
   "cell_type": "markdown",
   "id": "3a43c268",
   "metadata": {},
   "source": [
    "#### Below we can see the distribution of the scores through boxplot and kdeplot forms."
   ]
  },
  {
   "cell_type": "code",
   "execution_count": null,
   "id": "a43df841",
   "metadata": {},
   "outputs": [],
   "source": [
    "data_completed = data.loc[data['test preparation course']== 'completed']\n",
    "data_none = data.loc[data['test preparation course'] == 'none']"
   ]
  },
  {
   "cell_type": "code",
   "execution_count": null,
   "id": "d03bd483",
   "metadata": {},
   "outputs": [],
   "source": [
    "for i in lst:\n",
    "    plt.figure(figsize = (10,10))\n",
    "    ax = plt.subplot(111)\n",
    "    ax.title.set_text(i.title())\n",
    "    sns.boxplot(x = data['test preparation course'], y = data[i], palette = ['red','green'])\n",
    "    tick_spacing = 5\n",
    "    ax.yaxis.set_major_locator(ticker.MultipleLocator(tick_spacing))\n",
    "    ax.set_xlabel('Test Completion Course', size = 'large',backgroundcolor = 'yellow',labelpad = 20)\n",
    "    ax.set_ylabel(i.title(), size = 'large',backgroundcolor = 'yellow',labelpad = 20)\n",
    "    \n",
    "for i in lst:\n",
    "    plt.figure(figsize = (20,5))\n",
    "    ax1 = plt.subplot(111)\n",
    "    sns.kdeplot(data_none[i], color = 'red',multiple = 'stack')\n",
    "    sns.kdeplot(data_completed[i], color = 'green',multiple = 'stack' )\n",
    "    tick_spacing = 5\n",
    "    ax1.xaxis.set_major_locator(ticker.MultipleLocator(tick_spacing))\n",
    "    ax1.set_ylabel('Density', size = 'large', backgroundcolor = 'yellow',labelpad = 20)\n",
    "    ax1.set_xlabel(i.title(), size = 'large',backgroundcolor = 'yellow',labelpad = 20)"
   ]
  },
  {
   "cell_type": "markdown",
   "id": "0334db1d",
   "metadata": {},
   "source": [
    "#### Next comes the analysis based on our kmeans clustering."
   ]
  },
  {
   "cell_type": "code",
   "execution_count": null,
   "id": "6c1c2875",
   "metadata": {},
   "outputs": [],
   "source": [
    "desc = data_with_clusters.groupby(['Ranks','test preparation course'])['sum'].describe()\n",
    "desc.reset_index(level = [0,1],inplace = True)\n",
    "count_none = desc.loc[desc['test preparation course']=='none']['count'].sum()\n",
    "count_completed = desc.loc[desc['test preparation course']=='completed']['count'].sum()\n",
    "index_none = desc.loc[desc['test preparation course']=='none'].index\n",
    "index_completed = desc.loc[desc['test preparation course']=='completed'].index\n",
    "desc['percentage'] = pd.Series()\n",
    "for row in index_none:\n",
    "    desc.loc[row,'percentage']= desc.loc[row,'count']/count_none\n",
    "for row in index_completed:\n",
    "    desc.loc[row,'percentage']= desc.loc[row,'count']/count_completed\n",
    "desc\n",
    "plt.figure(figsize = (10,10))\n",
    "ax = plt.subplot(111)\n",
    "sns.barplot(x = 'Ranks',y ='percentage' ,data = desc,hue = 'test preparation course',palette = ['green','red'])\n",
    "ax.set_ylabel('Percentage', size = 'large', backgroundcolor = 'yellow',labelpad = 20)\n",
    "ax.set_xlabel('Ranks', size = 'large',backgroundcolor = 'yellow',labelpad = 20)"
   ]
  },
  {
   "cell_type": "markdown",
   "id": "e2f39bf6",
   "metadata": {},
   "source": [
    "#### Here we can clearly see that the clusters with high scoring students had high percentages of students who had done some test preparation course."
   ]
  },
  {
   "cell_type": "markdown",
   "id": "52b7d5d8",
   "metadata": {},
   "source": [
    "# Analysis based on Lunch type"
   ]
  },
  {
   "cell_type": "code",
   "execution_count": null,
   "id": "d7b82c01",
   "metadata": {},
   "outputs": [],
   "source": [
    "plt.figure(figsize = (5,6))\n",
    "ax = plt.subplot(111)\n",
    "sns.countplot(data['lunch'])\n",
    "ax.bar_label(ax.containers[0])\n",
    "ax.set_ylabel('Count', size = 'large', backgroundcolor = 'yellow',labelpad = 20)\n",
    "ax.set_xlabel('Lunch', size = 'large',backgroundcolor = 'yellow',labelpad = 20)"
   ]
  },
  {
   "cell_type": "markdown",
   "id": "3d06d5c0",
   "metadata": {},
   "source": [
    "#### The count of students who eat a standard lunch is much higher than those who eat a reduced meal"
   ]
  },
  {
   "cell_type": "markdown",
   "id": "7063081b",
   "metadata": {},
   "source": [
    "#### Below are some descriptive stats for individual and overall scores."
   ]
  },
  {
   "cell_type": "code",
   "execution_count": null,
   "id": "5c673f0c",
   "metadata": {},
   "outputs": [],
   "source": [
    "data.groupby(['lunch'])['math score'].describe()"
   ]
  },
  {
   "cell_type": "code",
   "execution_count": null,
   "id": "e3770e90",
   "metadata": {},
   "outputs": [],
   "source": [
    "data.groupby(['lunch'])['reading score'].describe()"
   ]
  },
  {
   "cell_type": "code",
   "execution_count": null,
   "id": "455ecef2",
   "metadata": {},
   "outputs": [],
   "source": [
    "data.groupby(['lunch'])['writing score'].describe()"
   ]
  },
  {
   "cell_type": "code",
   "execution_count": null,
   "id": "83050fa5",
   "metadata": {},
   "outputs": [],
   "source": [
    "data.groupby(['lunch'])['sum'].describe()"
   ]
  },
  {
   "cell_type": "code",
   "execution_count": null,
   "id": "60b9412b",
   "metadata": {},
   "outputs": [],
   "source": [
    "for i in lst:\n",
    "    desc = data.groupby(['lunch'])[i].describe()\n",
    "    desc.reset_index(level = 0,inplace = True)\n",
    "    plt.figure(figsize = (5,6))\n",
    "    ax = plt.subplot(111)\n",
    "    ax.title.set_text(i.title())\n",
    "    sns.barplot(x = 'lunch',y = 'mean' , data = desc, order = ['standard','free/reduced'])\n",
    "    ax.bar_label(ax.containers[0])\n",
    "    ax.set_ylabel(f'Avg. {i.title()}', size = 'large', backgroundcolor = 'yellow',labelpad = 20)\n",
    "    ax.set_xlabel('Lunch', size = 'large',backgroundcolor = 'yellow',labelpad = 20)\n"
   ]
  },
  {
   "cell_type": "markdown",
   "id": "68c408cf",
   "metadata": {},
   "source": [
    "#### Here we can see that on average students eating a standard lunch scored better."
   ]
  },
  {
   "cell_type": "markdown",
   "id": "56bd5923",
   "metadata": {},
   "source": [
    "#### Below we can see the distribution of the scores through boxplot and kdeplot forms."
   ]
  },
  {
   "cell_type": "code",
   "execution_count": null,
   "id": "f6de314c",
   "metadata": {},
   "outputs": [],
   "source": [
    "data_free = data.loc[data['lunch']== 'free/reduced']\n",
    "data_standard = data.loc[data['lunch'] == 'standard']"
   ]
  },
  {
   "cell_type": "code",
   "execution_count": null,
   "id": "f6552ab7",
   "metadata": {},
   "outputs": [],
   "source": [
    "for i in lst:\n",
    "    plt.figure(figsize = (10,10))\n",
    "    ax = plt.subplot(111)\n",
    "    ax.title.set_text(i.title())\n",
    "    sns.boxplot(x = data['lunch'], y = data[i])\n",
    "    tick_spacing = 5\n",
    "    ax.yaxis.set_major_locator(ticker.MultipleLocator(tick_spacing))\n",
    "    ax.set_xlabel('Lunch', size = 'large',backgroundcolor = 'yellow',labelpad = 20)\n",
    "    ax.set_ylabel(i.title(), size = 'large',backgroundcolor = 'yellow',labelpad = 20)\n",
    "    \n",
    "for i in lst:\n",
    "    plt.figure(figsize = (20,5))\n",
    "    ax1 = plt.subplot(111)\n",
    "    sns.kdeplot(data_standard[i],multiple = 'stack')\n",
    "    sns.kdeplot(data_free[i],multiple = 'stack' )\n",
    "    tick_spacing = 5\n",
    "    ax1.xaxis.set_major_locator(ticker.MultipleLocator(tick_spacing))\n",
    "    ax1.set_ylabel('Density', size = 'large', backgroundcolor = 'yellow',labelpad = 20)\n",
    "    ax1.set_xlabel(i.title(), size = 'large',backgroundcolor = 'yellow',labelpad = 20)"
   ]
  },
  {
   "cell_type": "markdown",
   "id": "5e7e7858",
   "metadata": {},
   "source": [
    "#### Now comes the analysis based on our kmeans clusters."
   ]
  },
  {
   "cell_type": "code",
   "execution_count": null,
   "id": "861cab80",
   "metadata": {},
   "outputs": [],
   "source": [
    "desc = data_with_clusters.groupby(['Ranks','lunch'])['sum'].describe()\n",
    "desc.reset_index(level = [0,1],inplace = True)\n",
    "count_free = desc.loc[desc['lunch']=='free/reduced']['count'].sum()\n",
    "count_standard = desc.loc[desc['lunch']=='standard']['count'].sum()\n",
    "index_free = desc.loc[desc['lunch']=='free/reduced'].index\n",
    "index_standard = desc.loc[desc['lunch']=='standard'].index\n",
    "desc['percentage'] = pd.Series()\n",
    "for row in index_free:\n",
    "    desc.loc[row,'percentage']= desc.loc[row,'count']/count_free\n",
    "for row in index_standard:\n",
    "    desc.loc[row,'percentage']= desc.loc[row,'count']/count_standard\n",
    "desc\n",
    "plt.figure(figsize = (10,10))\n",
    "ax = plt.subplot(111)\n",
    "sns.barplot(x = 'Ranks',y ='percentage' ,data = desc,hue = 'lunch')\n",
    "ax.set_ylabel('Percentage', size = 'large', backgroundcolor = 'yellow',labelpad = 20)\n",
    "ax.set_xlabel('Ranks', size = 'large',backgroundcolor = 'yellow',labelpad = 20)"
   ]
  },
  {
   "cell_type": "markdown",
   "id": "410f2ce1",
   "metadata": {},
   "source": [
    "#### We can easily notice the trend that of the students who eat a standard lunch high percentage are scoring well. Hence proper nourishment is important"
   ]
  },
  {
   "cell_type": "markdown",
   "id": "3430511f",
   "metadata": {},
   "source": [
    "# Analysis based on Parental Level of Education"
   ]
  },
  {
   "cell_type": "code",
   "execution_count": null,
   "id": "9bf07e9d",
   "metadata": {},
   "outputs": [],
   "source": [
    "plt.figure(figsize = (20,6))\n",
    "ax = plt.subplot(111)\n",
    "sns.countplot(data['parental level of education v2'],palette = 'Greens',order = ['low','medium','high'] )\n",
    "ax.bar_label(ax.containers[0])\n",
    "ax.set_ylabel('Count', size = 'large', backgroundcolor = 'yellow',labelpad = 20)\n",
    "ax.set_xlabel('Parental level of Education', size = 'large',backgroundcolor = 'yellow',labelpad = 20)"
   ]
  },
  {
   "cell_type": "markdown",
   "id": "e3fe1cc4",
   "metadata": {},
   "source": [
    "#### Here we can see that most of the parents only have a high school education or are college dropouts."
   ]
  },
  {
   "cell_type": "markdown",
   "id": "2e6071a2",
   "metadata": {},
   "source": [
    "#### Some descriptive stats for individual and overall scores can be seen below"
   ]
  },
  {
   "cell_type": "code",
   "execution_count": null,
   "id": "95e37b27",
   "metadata": {},
   "outputs": [],
   "source": [
    "data.groupby(['parental level of education v2'])['math score'].describe()"
   ]
  },
  {
   "cell_type": "code",
   "execution_count": null,
   "id": "74516359",
   "metadata": {},
   "outputs": [],
   "source": [
    "data.groupby(['parental level of education v2'])['reading score'].describe()"
   ]
  },
  {
   "cell_type": "code",
   "execution_count": null,
   "id": "92961206",
   "metadata": {},
   "outputs": [],
   "source": [
    "data.groupby(['parental level of education v2'])['writing score'].describe()"
   ]
  },
  {
   "cell_type": "code",
   "execution_count": null,
   "id": "b684453b",
   "metadata": {},
   "outputs": [],
   "source": [
    "for i in lst:\n",
    "    desc = data.groupby(['parental level of education v2'])[i].describe()\n",
    "    desc.reset_index(level = 0,inplace = True)\n",
    "    plt.figure(figsize = (10,6))\n",
    "    ax = plt.subplot(111)\n",
    "    ax.title.set_text(i.title())\n",
    "    sns.barplot(x = 'parental level of education v2',y = 'mean' , data = desc, order = ['low','medium','high'], palette = 'Greens')\n",
    "    ax.bar_label(ax.containers[0])\n",
    "    ax.set_ylabel(f'Avg. {i.title()}', size = 'large', backgroundcolor = 'yellow',labelpad = 20)\n",
    "    ax.set_xlabel('Parental Level of education', size = 'large',backgroundcolor = 'yellow',labelpad = 20)"
   ]
  },
  {
   "cell_type": "markdown",
   "id": "9d2ad881",
   "metadata": {},
   "source": [
    "#### Here we see that on average students whose parents have a higher level of education scored better. "
   ]
  },
  {
   "cell_type": "markdown",
   "id": "fa14d155",
   "metadata": {},
   "source": [
    "#### Now comes the analysis based on our kmeans clusters."
   ]
  },
  {
   "cell_type": "code",
   "execution_count": null,
   "id": "e0c2dba2",
   "metadata": {},
   "outputs": [],
   "source": [
    "desc = data_with_clusters.groupby(['Ranks','parental level of education v2'])['sum'].describe()\n",
    "desc.reset_index(level = [0,1],inplace = True)\n",
    "count_low = desc.loc[desc['parental level of education v2']=='low']['count'].sum()\n",
    "count_medium = desc.loc[desc['parental level of education v2']=='medium']['count'].sum()\n",
    "count_high = desc.loc[desc['parental level of education v2']=='high']['count'].sum()\n",
    "index_low = desc.loc[desc['parental level of education v2']=='low'].index\n",
    "index_medium = desc.loc[desc['parental level of education v2']=='medium'].index\n",
    "index_high = desc.loc[desc['parental level of education v2']=='high'].index\n",
    "desc['percentage'] = pd.Series()\n",
    "for row in index_low:\n",
    "    desc.loc[row,'percentage']= desc.loc[row,'count']/count_low\n",
    "for row in index_medium:\n",
    "    desc.loc[row,'percentage']= desc.loc[row,'count']/count_medium\n",
    "for row in index_high:\n",
    "    desc.loc[row,'percentage']= desc.loc[row,'count']/count_high\n",
    "desc\n",
    "plt.figure(figsize = (10,10))\n",
    "sns.barplot(x = 'Ranks',y ='percentage' ,data = desc,hue = 'parental level of education v2', palette = 'Greens')"
   ]
  },
  {
   "cell_type": "markdown",
   "id": "0dffa192",
   "metadata": {},
   "source": [
    "#### Here we can see the trend that among the students whose parents have a higher level of education a higher ratio tend to do well in the examinations. However this trend is weaker than the other strong trends we have seen before"
   ]
  },
  {
   "cell_type": "markdown",
   "id": "ff4948d9",
   "metadata": {},
   "source": [
    "# Analysis based on Race/Ethnicity"
   ]
  },
  {
   "cell_type": "code",
   "execution_count": null,
   "id": "188348c6",
   "metadata": {},
   "outputs": [],
   "source": [
    "plt.figure(figsize = (20,6))\n",
    "ax = plt.subplot(111)\n",
    "sns.countplot(data['race/ethnicity v2'],order = ['A','B','C','D','E'] )\n",
    "ax.bar_label(ax.containers[0])\n",
    "ax.set_ylabel('Count', size = 'large', backgroundcolor = 'yellow',labelpad = 20)\n",
    "ax.set_xlabel('Race/Ethnicity', size = 'large',backgroundcolor = 'yellow',labelpad = 20)"
   ]
  },
  {
   "cell_type": "markdown",
   "id": "10bda4a1",
   "metadata": {},
   "source": [
    "#### Most of the students belong to ethnicity represented by group C and group D"
   ]
  },
  {
   "cell_type": "markdown",
   "id": "7ac74a21",
   "metadata": {},
   "source": [
    "#### Some descriptive stats for individual and overall scores can be seen below"
   ]
  },
  {
   "cell_type": "code",
   "execution_count": null,
   "id": "775dd8a9",
   "metadata": {},
   "outputs": [],
   "source": [
    "data.groupby(['race/ethnicity v2'])['math score'].describe()"
   ]
  },
  {
   "cell_type": "code",
   "execution_count": null,
   "id": "04a68185",
   "metadata": {},
   "outputs": [],
   "source": [
    "data.groupby(['race/ethnicity v2'])['reading score'].describe()"
   ]
  },
  {
   "cell_type": "code",
   "execution_count": null,
   "id": "234e9d14",
   "metadata": {},
   "outputs": [],
   "source": [
    "data.groupby(['race/ethnicity v2'])['writing score'].describe()"
   ]
  },
  {
   "cell_type": "code",
   "execution_count": null,
   "id": "1279b7b1",
   "metadata": {},
   "outputs": [],
   "source": [
    "data.groupby(['race/ethnicity v2'])['sum'].describe()"
   ]
  },
  {
   "cell_type": "code",
   "execution_count": null,
   "id": "606c2540",
   "metadata": {},
   "outputs": [],
   "source": [
    "for i in lst:\n",
    "    desc = data.groupby(['race/ethnicity v2'])[i].describe()\n",
    "    desc.reset_index(level = 0,inplace = True)\n",
    "    plt.figure(figsize = (10,6))\n",
    "    ax = plt.subplot(111)\n",
    "    ax.title.set_text(i.title())\n",
    "    sns.barplot(x = 'race/ethnicity v2',y = 'mean' , data = desc)\n",
    "    ax.bar_label(ax.containers[0])\n",
    "    ax.set_ylabel(f'Avg. {i.title()}', size = 'large', backgroundcolor = 'yellow',labelpad = 20)\n",
    "    ax.set_xlabel('Race/Ethnicity ', size = 'large',backgroundcolor = 'yellow',labelpad = 20)"
   ]
  },
  {
   "cell_type": "markdown",
   "id": "c1f6d8e5",
   "metadata": {},
   "source": [
    "#### Here we can see that on average there is standard trend showing that students from ethnicity E tend to do well while students from group A dont."
   ]
  },
  {
   "cell_type": "markdown",
   "id": "a844f94d",
   "metadata": {},
   "source": [
    "#### Now comes the analysis based on our kmeans clusters."
   ]
  },
  {
   "cell_type": "code",
   "execution_count": null,
   "id": "83d26bf8",
   "metadata": {},
   "outputs": [],
   "source": [
    "desc = data_with_clusters.groupby(['Ranks','race/ethnicity v2'])['sum'].describe()\n",
    "desc.reset_index(level = [0,1],inplace = True)\n",
    "count_a = desc.loc[desc['race/ethnicity v2']=='A']['count'].sum()\n",
    "count_b = desc.loc[desc['race/ethnicity v2']=='B']['count'].sum()\n",
    "count_c = desc.loc[desc['race/ethnicity v2']=='C']['count'].sum()\n",
    "count_d = desc.loc[desc['race/ethnicity v2']=='D']['count'].sum()\n",
    "count_e = desc.loc[desc['race/ethnicity v2']=='E']['count'].sum()\n",
    "index_a = desc.loc[desc['race/ethnicity v2']=='A'].index\n",
    "index_b = desc.loc[desc['race/ethnicity v2']=='B'].index\n",
    "index_c = desc.loc[desc['race/ethnicity v2']=='C'].index\n",
    "index_d = desc.loc[desc['race/ethnicity v2']=='D'].index\n",
    "index_e = desc.loc[desc['race/ethnicity v2']=='E'].index\n",
    "desc['percentage'] = pd.Series()\n",
    "for row in index_a:\n",
    "    desc.loc[row,'percentage']= desc.loc[row,'count']/count_a\n",
    "for row in index_b:\n",
    "    desc.loc[row,'percentage']= desc.loc[row,'count']/count_b\n",
    "for row in index_c:\n",
    "    desc.loc[row,'percentage']= desc.loc[row,'count']/count_c\n",
    "for row in index_d:\n",
    "    desc.loc[row,'percentage']= desc.loc[row,'count']/count_d\n",
    "for row in index_e:\n",
    "    desc.loc[row,'percentage']= desc.loc[row,'count']/count_e\n",
    "desc\n",
    "plt.figure(figsize = (10,10))\n",
    "ax = plt.subplot(111)\n",
    "sns.barplot(x = 'Ranks',y ='percentage' ,data = desc,hue = 'race/ethnicity v2')\n",
    "ax.set_ylabel('Percentage', size = 'large', backgroundcolor = 'yellow',labelpad = 20)\n",
    "ax.set_xlabel('Ranks', size = 'large',backgroundcolor = 'yellow',labelpad = 20)"
   ]
  },
  {
   "cell_type": "markdown",
   "id": "aaee2167",
   "metadata": {},
   "source": [
    "#### The trends here are same as the trends seen for averages."
   ]
  },
  {
   "cell_type": "markdown",
   "id": "a465443c",
   "metadata": {},
   "source": [
    "# Conclusion"
   ]
  },
  {
   "cell_type": "markdown",
   "id": "3ee88a81",
   "metadata": {},
   "source": [
    "1. The Gender ratio is not very bad and the count of female students is a bit higher than that of male students. When it comes to scores, the gender does not play a significant or standard role in determining score. So, regardless of gender, the student can do well. \n",
    "\n",
    "2. Number of students who have currently availed the test preparation courses are much less than those who have not. But, according to our analysis, this needs to change and students should start using these courses to do well in examinations.\n",
    "\n",
    "3. The Lunch type which is linked with the nourishment of the student also plays an important role in determining how the student does in the examinations. Luckily, the number of students getting a standard lunch and hence proper nourishment is high.\n",
    "\n",
    "4. The conclusions from the Race/Ethncity feature cant be derived directly as we have to see the different conditions for people from different groups and so we have to examine the conditions for group E vs the other groups to see why the students perform better.\n",
    "\n",
    "5. Parental level of education seems to be a relevant factor but not a major one. Also, it is factor with which conditions are linked as well.\n",
    " \n",
    "Overall, taking test preparation courses and proper nourishment are beneficial for the students."
   ]
  }
 ],
 "metadata": {},
 "nbformat": 4,
 "nbformat_minor": 5
}
