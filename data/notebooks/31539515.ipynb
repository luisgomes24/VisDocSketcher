{
 "cells": [
  {
   "cell_type": "code",
   "execution_count": null,
   "id": "62251c61",
   "metadata": {},
   "outputs": [],
   "source": [
    "import pandas as pd\n",
    "import numpy as np\n",
    "import matplotlib.pyplot as plt\n",
    "from tqdm.notebook import tqdm\n",
    "from collections import Counter\n",
    "from scipy.ndimage.interpolation import rotate"
   ]
  },
  {
   "cell_type": "markdown",
   "id": "b80fdce3",
   "metadata": {},
   "source": [
    "## Rotation\n",
    "In the big-data-derby-2022 competition, information about a racehorse's speed and average curvature is critical. \n",
    "\n",
    "This information can be calculated as numerical approximations from the latitude and the longitude.\n",
    "\n",
    "On the other hand, since the track is skewed. \n",
    "\n",
    "The skewed path implies a rounding error around the x and y axes. So, I think there is some need for rotation.\n",
    "\n",
    "\n",
    "* This document introduces heuristic rotation."
   ]
  },
  {
   "cell_type": "code",
   "execution_count": null,
   "id": "6308e09d",
   "metadata": {},
   "outputs": [],
   "source": [
    "df = pd.read_csv(\"../input/big-data-derby-2022/nyra_tracking_table.csv\")\n",
    "df = df.sort_values(by=['track_id','race_date','race_number','program_number','trakus_index']).reset_index(drop=True)\n",
    "df.head(10)"
   ]
  },
  {
   "cell_type": "markdown",
   "id": "69448e8a",
   "metadata": {},
   "source": [
    "# Skew"
   ]
  },
  {
   "cell_type": "code",
   "execution_count": null,
   "id": "c840e0be",
   "metadata": {},
   "outputs": [],
   "source": [
    "plt.figure(figsize=(15, 5))\n",
    "for i, track_id in enumerate(['AQU','BEL','SAR']):\n",
    "    print(f\"track_id :{track_id}\")\n",
    "    position = df.loc[(df.track_id == track_id), ['longitude','latitude']].to_numpy()\n",
    "    plt.subplot(1,3,i+1)\n",
    "    plt.title(f\"track_id :{track_id}\")\n",
    "    plt.scatter(position[::100, 0], position[::100, 1])\n",
    "plt.show()"
   ]
  },
  {
   "cell_type": "markdown",
   "id": "0cbf7900",
   "metadata": {},
   "source": [
    "# Find a rotate angle"
   ]
  },
  {
   "cell_type": "code",
   "execution_count": null,
   "id": "c59c4bcf",
   "metadata": {},
   "outputs": [],
   "source": [
    "def get_feature(image):\n",
    "    x_proj = image.sum(axis=0)\n",
    "    y_proj = image.sum(axis=1)\n",
    "        \n",
    "    x_count = (x_proj > x_proj.mean() - x_proj.std()).sum()\n",
    "    y_count = (y_proj > y_proj.mean()).sum()\n",
    "    \n",
    "    if y_count > 0:\n",
    "        return x_count/y_count\n",
    "    else:\n",
    "        return 0."
   ]
  },
  {
   "cell_type": "code",
   "execution_count": null,
   "id": "c037cd9b",
   "metadata": {},
   "outputs": [],
   "source": [
    "track_id_list = ['AQU','BEL','SAR']\n",
    "position_list = []\n",
    "position_image_list = []\n",
    "\n",
    "for track_id in track_id_list:\n",
    "    position = df.loc[(df.track_id==track_id), ['longitude','latitude']].to_numpy()\n",
    "    \n",
    "    # round position\n",
    "    rounded_pos = (position*1e5).round().astype('int')\n",
    "    x_max, y_max = rounded_pos.max(axis=0)\n",
    "    x_min, y_min = rounded_pos.min(axis=0)\n",
    "    pos_img = np.zeros([y_max - y_min + 1, x_max-x_min + 1])\n",
    "    \n",
    "    pos_count_dict = Counter([tuple(x) for x in rounded_pos])\n",
    "    for key in pos_count_dict:\n",
    "        pos_img[key[1] -y_min,key[0]-x_min] = 1\n",
    "\n",
    "    position_list.append(position)\n",
    "    position_image_list.append(pos_img)"
   ]
  },
  {
   "cell_type": "code",
   "execution_count": null,
   "id": "c315a7af",
   "metadata": {},
   "outputs": [],
   "source": [
    "# plot pos_img\n",
    "plt.figure(figsize=(12,4))\n",
    "for i, item in enumerate(zip(track_id_list, position_image_list)):\n",
    "    track_id, pos_img = item\n",
    "    plt.subplot(1,3,i+1)\n",
    "    plt.title(f\"track_id :{track_id}\")\n",
    "    plt.imshow(pos_img, origin='lower')\n",
    "plt.show()"
   ]
  },
  {
   "cell_type": "code",
   "execution_count": null,
   "id": "c603c626",
   "metadata": {},
   "outputs": [],
   "source": [
    "angle_space = np.linspace(0, 180, 1000)\n",
    "\n",
    "mean_angle_list = []\n",
    "list_of_feature_list = []\n",
    "for pos_img in position_image_list:\n",
    "    feature_list = []\n",
    "    for angle in tqdm(angle_space):\n",
    "        rotated_pos_img = rotate(pos_img, angle)\n",
    "        cur_feature = get_feature(rotated_pos_img)\n",
    "        feature_list.append(cur_feature)\n",
    "        \n",
    "    feature_list = np.array(feature_list)\n",
    "    \n",
    "    max_idx = np.where(feature_list==np.max(feature_list))[0]\n",
    "    mean_angle = angle_space[max_idx].mean()\n",
    "    \n",
    "    mean_angle_list.append(mean_angle)\n",
    "    list_of_feature_list.append(feature_list)\n",
    "print(mean_angle_list)"
   ]
  },
  {
   "cell_type": "code",
   "execution_count": null,
   "id": "9c140d82",
   "metadata": {},
   "outputs": [],
   "source": [
    "# plot\n",
    "plt.figure(figsize=(18,8))\n",
    "\n",
    "for i in range(3):\n",
    "    track_id = track_id_list[i]\n",
    "    pos_img = position_image_list[i]\n",
    "    mean_angle = mean_angle_list[i]\n",
    "    feature_list = list_of_feature_list[i]\n",
    "    \n",
    "    rotated_pos_img = rotate(pos_img, mean_angle)\n",
    "    plt.subplot(2,3,i+1)\n",
    "    plt.title(f\"track_id :{track_id}\")\n",
    "    plt.imshow(rotated_pos_img, origin='lower')\n",
    "    plt.subplot(2,3,i+4)\n",
    "    plt.title(f\"features with respect to rotation angles\")\n",
    "    plt.plot(feature_list)\n",
    "    plt.xticks(np.arange(0, len(feature_list), len(feature_list)//10), \n",
    "               angle_space[::len(angle_space)//10].round(2), rotation=45)\n",
    "\n",
    "plt.tight_layout()\n",
    "plt.show()"
   ]
  },
  {
   "cell_type": "markdown",
   "id": "9a7331da",
   "metadata": {},
   "source": [
    "# Rotate the array"
   ]
  },
  {
   "cell_type": "code",
   "execution_count": null,
   "id": "64573777",
   "metadata": {},
   "outputs": [],
   "source": [
    "def rotate_arr_clockwise(arr, angle):\n",
    "    rad_angle = np.pi/180*angle\n",
    "    mat = np.array([[np.cos(rad_angle), np.sin(rad_angle)],\n",
    "                    [- np.sin(rad_angle), np.cos(rad_angle)]])\n",
    "    return np.dot(mat, arr.T).T"
   ]
  },
  {
   "cell_type": "code",
   "execution_count": null,
   "id": "101cbb39",
   "metadata": {},
   "outputs": [],
   "source": [
    "angle_items = dict(zip(track_id_list, mean_angle_list))\n",
    "angle_items"
   ]
  },
  {
   "cell_type": "code",
   "execution_count": null,
   "id": "f04e125a",
   "metadata": {},
   "outputs": [],
   "source": [
    "plt.figure(figsize=(18, 4))\n",
    "for idx, (track_id, mean_angle) in enumerate(angle_items.items()):\n",
    "    position = position_list[idx]\n",
    "    rotated_position = rotate_arr_clockwise(position, mean_angle)\n",
    "    \n",
    "    # if start position x of some player is larger than center pos \n",
    "    if rotated_position[0, 0] > rotated_position[:, 0].mean():\n",
    "        mean_angle += 180\n",
    "        angle_items[track_id] = mean_angle\n",
    "        rotated_position = rotate_arr_clockwise(position, mean_angle)\n",
    "        \n",
    "    plt.subplot(1, 3, idx+1)\n",
    "    plt.title(f\"track_id: {track_id}\")\n",
    "    plt.scatter(rotated_position[:, 0], rotated_position[:, 1], s=1)\n",
    "    plt.grid(color='lightgray', linestyle='--', linewidth=1, alpha=0.5)\n",
    "\n",
    "plt.show()\n",
    "print(f\"final rotate angle: {angle_items}\")"
   ]
  },
  {
   "cell_type": "markdown",
   "id": "e1349846",
   "metadata": {},
   "source": [
    "This is a heuristic method based on the idea that minimize vertical size, and maximize horizontal size.\n",
    "\n",
    "Thanks."
   ]
  }
 ],
 "metadata": {},
 "nbformat": 4,
 "nbformat_minor": 5
}
