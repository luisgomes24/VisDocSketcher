{
 "cells": [
  {
   "cell_type": "code",
   "execution_count": null,
   "id": "8a5ed6c0",
   "metadata": {},
   "outputs": [],
   "source": [
    "# This Python 3 environment comes with many helpful analytics libraries installed\n",
    "# It is defined by the kaggle/python Docker image: https://github.com/kaggle/docker-python\n",
    "# For example, here's several helpful packages to load\n",
    "\n",
    "import numpy as np # linear algebra\n",
    "import pandas as pd # data processing, CSV file I/O (e.g. pd.read_csv)\n",
    "\n",
    "# Input data files are available in the read-only \"../input/\" directory\n",
    "# For example, running this (by clicking run or pressing Shift+Enter) will list all files under the input directory\n",
    "\n",
    "import os\n",
    "for dirname, _, filenames in os.walk('/kaggle/input'):\n",
    "    for filename in filenames:\n",
    "        print(os.path.join(dirname, filename))\n",
    "\n",
    "# You can write up to 20GB to the current directory (/kaggle/working/) that gets preserved as output when you create a version using \"Save & Run All\" \n",
    "# You can also write temporary files to /kaggle/temp/, but they won't be saved outside of the current session"
   ]
  },
  {
   "cell_type": "markdown",
   "id": "fabd43c1",
   "metadata": {},
   "source": [
    "# **importing needed libraries**"
   ]
  },
  {
   "cell_type": "code",
   "execution_count": null,
   "id": "5622f92b",
   "metadata": {},
   "outputs": [],
   "source": [
    "import pandas as pd\n",
    "import matplotlib.pyplot as plt\n",
    "import seaborn as sns"
   ]
  },
  {
   "cell_type": "markdown",
   "id": "d281a882",
   "metadata": {},
   "source": [
    "# Let's take a look at our data"
   ]
  },
  {
   "cell_type": "code",
   "execution_count": null,
   "id": "a3db966a",
   "metadata": {},
   "outputs": [],
   "source": [
    "alcohol = pd.read_csv('../input/alcohol-consumption/gapminder_alcohol.csv')"
   ]
  },
  {
   "cell_type": "code",
   "execution_count": null,
   "id": "b380204e",
   "metadata": {},
   "outputs": [],
   "source": [
    "alcohol.head()"
   ]
  },
  {
   "cell_type": "code",
   "execution_count": null,
   "id": "af016fc9",
   "metadata": {},
   "outputs": [],
   "source": [
    "alcohol.describe().T"
   ]
  },
  {
   "cell_type": "markdown",
   "id": "0d8443b5",
   "metadata": {},
   "source": [
    "# checking if there are empty records and then filling them with an average value"
   ]
  },
  {
   "cell_type": "code",
   "execution_count": null,
   "id": "0a145cf6",
   "metadata": {},
   "outputs": [],
   "source": [
    "alcohol.isnull().sum()"
   ]
  },
  {
   "cell_type": "code",
   "execution_count": null,
   "id": "68a40cb5",
   "metadata": {},
   "outputs": [],
   "source": [
    "alcohol['alcconsumption'].fillna((alcohol['alcconsumption'].mean()), inplace=True)\n",
    "alcohol['incomeperperson'].fillna((alcohol['incomeperperson'].mean()), inplace=True)\n",
    "alcohol['suicideper100th'].fillna((alcohol['suicideper100th'].mean()), inplace=True)\n",
    "alcohol['employrate'].fillna((alcohol['employrate'].mean()), inplace=True)\n",
    "alcohol['urbanrate'].fillna((alcohol['urbanrate'].mean()), inplace=True)"
   ]
  },
  {
   "cell_type": "markdown",
   "id": "70aed02e",
   "metadata": {},
   "source": [
    "# as we see there are not empty records after that"
   ]
  },
  {
   "cell_type": "code",
   "execution_count": null,
   "id": "fb4f61dd",
   "metadata": {},
   "outputs": [],
   "source": [
    "alcohol.isnull().sum()"
   ]
  },
  {
   "cell_type": "code",
   "execution_count": null,
   "id": "8a6b1b46",
   "metadata": {},
   "outputs": [],
   "source": [
    "alcohol.columns"
   ]
  },
  {
   "cell_type": "markdown",
   "id": "a5281d55",
   "metadata": {},
   "source": [
    "# let's create charts"
   ]
  },
  {
   "cell_type": "code",
   "execution_count": null,
   "id": "070500b3",
   "metadata": {},
   "outputs": [],
   "source": [
    "alcohol_consumption = alcohol.sort_values('alcconsumption')\n",
    "bottom10ac = alcohol_consumption[:10]\n",
    "plt.figure(figsize=(12,10))\n",
    "sns.barplot(x='country',y='alcconsumption',data=bottom10ac).set_title('Top 10 countries with the lowest alcohol consumption')"
   ]
  },
  {
   "cell_type": "code",
   "execution_count": null,
   "id": "60449df8",
   "metadata": {},
   "outputs": [],
   "source": [
    "alcohol_consumption = alcohol.sort_values('alcconsumption',ascending=False)\n",
    "top10ac = alcohol_consumption[:10]\n",
    "plt.figure(figsize=(12,10))\n",
    "sns.barplot(x='country',y='alcconsumption',data=top10ac).set_title('Top 10 countries with the highest alcohol consumption')"
   ]
  },
  {
   "cell_type": "code",
   "execution_count": null,
   "id": "9627f28b",
   "metadata": {},
   "outputs": [],
   "source": [
    "suicide_rate = alcohol.sort_values('suicideper100th',ascending=False)\n",
    "suicide_rate_top10 = suicide_rate[:10]\n",
    "plt.figure(figsize=(14,10))\n",
    "sns.barplot(x='country',y='suicideper100th',data=suicide_rate_top10).set_title('Top 10 countries with the highest number of suicides')"
   ]
  },
  {
   "cell_type": "code",
   "execution_count": null,
   "id": "e967f197",
   "metadata": {},
   "outputs": [],
   "source": [
    "suicide_rate = alcohol.sort_values('suicideper100th')\n",
    "suicide_rate_bottom10 = suicide_rate[:10]\n",
    "plt.figure(figsize=(18,10))\n",
    "sns.barplot(x='country',y='suicideper100th',data=suicide_rate_bottom10).set_title('Top 10 countries with the lowest number of suicides')"
   ]
  },
  {
   "cell_type": "markdown",
   "id": "9391daf8",
   "metadata": {},
   "source": [
    "# let's see if there is any correlation in our data"
   ]
  },
  {
   "cell_type": "code",
   "execution_count": null,
   "id": "f2755e00",
   "metadata": {},
   "outputs": [],
   "source": [
    "sns.set_style('darkgrid')\n",
    "sns.set_context('paper',font_scale=1.4)\n",
    "sns.jointplot(x='alcconsumption',y='urbanrate',data=alcohol,kind='reg')"
   ]
  },
  {
   "cell_type": "code",
   "execution_count": null,
   "id": "59605f8d",
   "metadata": {},
   "outputs": [],
   "source": [
    "sns.set_style('darkgrid')\n",
    "sns.set_context('paper',font_scale=1.4)\n",
    "sns.jointplot(x='alcconsumption',y='suicideper100th',data=alcohol,kind='reg')"
   ]
  },
  {
   "cell_type": "markdown",
   "id": "05507606",
   "metadata": {},
   "source": [
    "# As you can see in the above charts, you can see a small correlation. Let's check using heatmaps if I have not overlooked any other correlations and how much they are exactly"
   ]
  },
  {
   "cell_type": "code",
   "execution_count": null,
   "id": "3dc9b27d",
   "metadata": {},
   "outputs": [],
   "source": [
    "alcohol_corr = alcohol.corr()\n",
    "sns.heatmap(alcohol_corr,annot=True,cmap='Purples')"
   ]
  },
  {
   "cell_type": "markdown",
   "id": "46be59f0",
   "metadata": {},
   "source": [
    "# let's display only those records whose correlation is greater than 0.25"
   ]
  },
  {
   "cell_type": "code",
   "execution_count": null,
   "id": "5697b7b3",
   "metadata": {},
   "outputs": [],
   "source": [
    "alc_corr = sns.heatmap(alcohol_corr,annot=True,cmap='Purples')\n",
    "for t in alc_corr.texts:\n",
    "    if float(t.get_text())>=0.24:\n",
    "        t.set_text(t.get_text())\n",
    "    else:\n",
    "        t.set_text(\"\") "
   ]
  },
  {
   "cell_type": "markdown",
   "id": "5d1a1806",
   "metadata": {},
   "source": [
    "# As we see the greatest correlation occurs between **incomeperperson and urbanrate(0.47)**.There is also some corelation between **alcohol consumption and suicideper100th (0.35)**, **urban rate and alcohol consumption(0.25)**"
   ]
  },
  {
   "cell_type": "markdown",
   "id": "cb17a523",
   "metadata": {},
   "source": [
    "# If you have any feedback, write a comment. If you like it, leave it upvote, it will definitely motivate me to learn more"
   ]
  }
 ],
 "metadata": {},
 "nbformat": 4,
 "nbformat_minor": 5
}
