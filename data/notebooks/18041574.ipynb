{
 "cells": [
  {
   "cell_type": "code",
   "execution_count": null,
   "id": "aac00563",
   "metadata": {},
   "outputs": [],
   "source": [
    "#import the required libraries\n",
    "import numpy as np\n",
    "import pandas as pd\n",
    "import matplotlib.pyplot as plt\n",
    "import seaborn as sns\n",
    "%matplotlib inline\n",
    "\n",
    "sns.set_style(\"whitegrid\")"
   ]
  },
  {
   "cell_type": "code",
   "execution_count": null,
   "id": "f5fd50e2",
   "metadata": {},
   "outputs": [],
   "source": [
    "import os\n",
    "for dirname, _, filenames in os.walk('/kaggle/input'):\n",
    "    for filename in filenames:\n",
    "        print(os.path.join(dirname, filename))"
   ]
  },
  {
   "cell_type": "code",
   "execution_count": null,
   "id": "82b91f9b",
   "metadata": {},
   "outputs": [],
   "source": [
    "df = pd.read_csv(\"/kaggle/input/predict-test-scores-of-students/test_scores.csv\") #load the dataset"
   ]
  },
  {
   "cell_type": "code",
   "execution_count": null,
   "id": "d1ddc2b0",
   "metadata": {},
   "outputs": [],
   "source": [
    "df.head(10) #show the top 10 values on given dataset"
   ]
  },
  {
   "cell_type": "code",
   "execution_count": null,
   "id": "2d3e67b1",
   "metadata": {},
   "outputs": [],
   "source": [
    "df.info() #info() used for print a concise data summary of the given dataframe"
   ]
  },
  {
   "cell_type": "code",
   "execution_count": null,
   "id": "b69ecfd4",
   "metadata": {},
   "outputs": [],
   "source": [
    "df.isnull().sum()  #it's used for checking the missing values"
   ]
  },
  {
   "cell_type": "code",
   "execution_count": null,
   "id": "b72396e5",
   "metadata": {},
   "outputs": [],
   "source": [
    "df.describe() "
   ]
  },
  {
   "cell_type": "code",
   "execution_count": null,
   "id": "949d5a51",
   "metadata": {},
   "outputs": [],
   "source": [
    "df['school_type'].value_counts() #count the school types in given dataset"
   ]
  },
  {
   "cell_type": "code",
   "execution_count": null,
   "id": "85827a82",
   "metadata": {},
   "outputs": [],
   "source": [
    "df['school_setting'].value_counts() "
   ]
  },
  {
   "cell_type": "code",
   "execution_count": null,
   "id": "8f2c19a3",
   "metadata": {},
   "outputs": [],
   "source": [
    "#checking the outliers\n",
    "\n",
    "uv = np.percentile(df['posttest'], [99])[0]\n",
    "print(uv)"
   ]
  },
  {
   "cell_type": "code",
   "execution_count": null,
   "id": "68e9a5be",
   "metadata": {},
   "outputs": [],
   "source": [
    "df.posttest[(df.posttest > uv)] "
   ]
  },
  {
   "cell_type": "code",
   "execution_count": null,
   "id": "101b027c",
   "metadata": {},
   "outputs": [],
   "source": [
    "df.columns #print the columns in a given DataFrame"
   ]
  },
  {
   "cell_type": "code",
   "execution_count": null,
   "id": "b40f6006",
   "metadata": {},
   "outputs": [],
   "source": [
    "#remove the unwanted columns\n",
    "df = df.drop(\"classroom\", axis = 1)\n",
    "df = df.drop(\"gender\", axis = 1)"
   ]
  },
  {
   "cell_type": "code",
   "execution_count": null,
   "id": "db3d52d3",
   "metadata": {},
   "outputs": [],
   "source": [
    "df.head()"
   ]
  },
  {
   "cell_type": "markdown",
   "id": "3d3eb14a",
   "metadata": {},
   "source": [
    "DATA VISUALIZATION"
   ]
  },
  {
   "cell_type": "code",
   "execution_count": null,
   "id": "37e00970",
   "metadata": {},
   "outputs": [],
   "source": [
    "plt.figure(figsize=(10, 6))\n",
    "sns.countplot(x = df['school_setting'], hue = df['school_type'], palette=\"magma\")"
   ]
  },
  {
   "cell_type": "code",
   "execution_count": null,
   "id": "cce2e4b0",
   "metadata": {},
   "outputs": [],
   "source": [
    "plt.figure(figsize=(10, 6))\n",
    "sns.countplot(x = df[\"teaching_method\"], hue = df[\"school_type\"], palette=\"magma\")"
   ]
  },
  {
   "cell_type": "code",
   "execution_count": null,
   "id": "325febf8",
   "metadata": {},
   "outputs": [],
   "source": [
    "plt.figure(figsize=(10, 6))\n",
    "sns.boxplot(x = df[\"n_student\"], y = df['posttest'], hue = df[\"school_type\"])"
   ]
  },
  {
   "cell_type": "code",
   "execution_count": null,
   "id": "93052af2",
   "metadata": {},
   "outputs": [],
   "source": [
    "plt.figure(figsize=(10, 6))\n",
    "sns.boxplot(x = df['n_student'], y = df['pretest'], hue = df['school_type'])"
   ]
  },
  {
   "cell_type": "code",
   "execution_count": null,
   "id": "8a4ae88f",
   "metadata": {},
   "outputs": [],
   "source": [
    "plt.figure(figsize=(16, 8))\n",
    "sns.scatterplot(df['pretest'], df['posttest'], hue=df['school_setting'])\n",
    "plt.legend()"
   ]
  },
  {
   "cell_type": "code",
   "execution_count": null,
   "id": "c56dca94",
   "metadata": {},
   "outputs": [],
   "source": [
    "pretest_m = df['pretest'].describe()\n",
    "posttest_m = df['posttest'].describe()\n",
    "\n",
    "avg_mean = posttest_m - pretest_m\n",
    "print(avg_mean[\"mean\"])"
   ]
  },
  {
   "cell_type": "code",
   "execution_count": null,
   "id": "1c850bc6",
   "metadata": {},
   "outputs": [],
   "source": [
    "plt.figure(figsize=(16, 6))\n",
    "\n",
    "ax = sns.kdeplot(df[\"pretest\"], shade = True, fill=True, label=\"Pretest\")\n",
    "ax = sns.kdeplot(df[\"posttest\"], shade = True, fill = True, label = \"Posttest\")\n",
    "\n",
    "plt.axvline(posttest_m['mean'], linestyle = \"--\", color = \"orange\", label = \"Posttest_Mean\")\n",
    "plt.axvline(pretest_m[\"mean\"], linestyle=\"--\", color = \"#5D8BBA\", label = \"Pretest_mean\")\n",
    "\n",
    "plt.title(\"Distribution of pretest and posttest\")\n",
    "plt.legend()\n",
    "plt.show()"
   ]
  },
  {
   "cell_type": "code",
   "execution_count": null,
   "id": "40645563",
   "metadata": {},
   "outputs": [],
   "source": [
    "x = df.drop(\"posttest\", axis=1) #seprate the independent values in given dataframe\n",
    "y = df['posttest']  #seprate the dependent values in the given dataframw\n",
    "\n",
    "x = pd.get_dummies(x)  #fill the dummy values in independent features\n",
    "x.head()"
   ]
  },
  {
   "cell_type": "code",
   "execution_count": null,
   "id": "52a07fdc",
   "metadata": {},
   "outputs": [],
   "source": [
    "#Import the Required machine-learning libraries\n",
    "from sklearn.model_selection import train_test_split, GridSearchCV\n",
    "from sklearn.tree import DecisionTreeRegressor\n",
    "from sklearn.ensemble import RandomForestRegressor\n",
    "from sklearn.metrics import mean_absolute_error, mean_squared_error, r2_score, classification_report\n",
    "from sklearn.preprocessing import StandardScaler"
   ]
  },
  {
   "cell_type": "code",
   "execution_count": null,
   "id": "f1f90dff",
   "metadata": {},
   "outputs": [],
   "source": [
    "X_train, X_test, y_train, y_test = train_test_split(x, y, test_size=0.30, random_state=101)"
   ]
  },
  {
   "cell_type": "code",
   "execution_count": null,
   "id": "539c8cd5",
   "metadata": {},
   "outputs": [],
   "source": [
    "X_train.shape"
   ]
  },
  {
   "cell_type": "code",
   "execution_count": null,
   "id": "6e9ba4c0",
   "metadata": {},
   "outputs": [],
   "source": [
    "X_test.shape"
   ]
  },
  {
   "cell_type": "code",
   "execution_count": null,
   "id": "6064c1a7",
   "metadata": {},
   "outputs": [],
   "source": [
    "y_train.shape"
   ]
  },
  {
   "cell_type": "code",
   "execution_count": null,
   "id": "f5e5b86f",
   "metadata": {},
   "outputs": [],
   "source": [
    "y_test.shape"
   ]
  },
  {
   "cell_type": "code",
   "execution_count": null,
   "id": "843d2579",
   "metadata": {},
   "outputs": [],
   "source": [
    "ss = StandardScaler()\n",
    "X_train_s = ss.fit_transform(X_train)\n",
    "X_test_s = ss.fit_transform(X_test)"
   ]
  },
  {
   "cell_type": "code",
   "execution_count": null,
   "id": "0d4d4cbb",
   "metadata": {},
   "outputs": [],
   "source": [
    "X_train_s"
   ]
  },
  {
   "cell_type": "code",
   "execution_count": null,
   "id": "d2a7c3f0",
   "metadata": {},
   "outputs": [],
   "source": [
    "X_test_s"
   ]
  },
  {
   "cell_type": "code",
   "execution_count": null,
   "id": "f1335ef1",
   "metadata": {},
   "outputs": [],
   "source": [
    "rf = RandomForestRegressor(max_depth=6)\n",
    "rf.fit(X_train_s, y_train)\n",
    "rf_pred = rf.predict(X_test_s)"
   ]
  },
  {
   "cell_type": "code",
   "execution_count": null,
   "id": "954b3307",
   "metadata": {},
   "outputs": [],
   "source": [
    "#rf_pred"
   ]
  },
  {
   "cell_type": "code",
   "execution_count": null,
   "id": "22f03094",
   "metadata": {},
   "outputs": [],
   "source": [
    "dt = DecisionTreeRegressor(max_depth=6)\n",
    "dt.fit(X_train_s, y_train)\n",
    "dt_pred = dt.predict(X_test_s)"
   ]
  },
  {
   "cell_type": "code",
   "execution_count": null,
   "id": "0e6ea0b5",
   "metadata": {},
   "outputs": [],
   "source": [
    "#dt_pred"
   ]
  },
  {
   "cell_type": "code",
   "execution_count": null,
   "id": "311a7216",
   "metadata": {},
   "outputs": [],
   "source": [
    "print(\"mean_absolute error of random_forest model\", mean_absolute_error(y_test, rf_pred))\n",
    "print(\"mean_squared error of random_forest model: \", mean_squared_error(y_test, rf_pred))\n",
    "print(\"r2_score of random_forest model: \", r2_score(y_test, rf_pred))"
   ]
  },
  {
   "cell_type": "code",
   "execution_count": null,
   "id": "b37535fc",
   "metadata": {},
   "outputs": [],
   "source": [
    "print(\"mean_absolute error of DecisionTreeRegressor model: \", mean_absolute_error(y_test, dt_pred))\n",
    "print(\"mean_squared error of DecisionTreeRegressor model: \", mean_squared_error(y_test, dt_pred))\n",
    "print(\"r2_score value of DecisionTreeRegressor model: \", r2_score(y_test, dt_pred))"
   ]
  },
  {
   "cell_type": "code",
   "execution_count": null,
   "id": "a90a4421",
   "metadata": {},
   "outputs": [],
   "source": [
    "nan"
   ]
  }
 ],
 "metadata": {},
 "nbformat": 4,
 "nbformat_minor": 5
}
