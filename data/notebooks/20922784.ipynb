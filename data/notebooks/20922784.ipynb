{
 "cells": [
  {
   "cell_type": "code",
   "execution_count": null,
   "id": "7a811faf",
   "metadata": {},
   "outputs": [],
   "source": [
    "import torch\n",
    "import torchvision\n",
    "from torchvision import transforms\n",
    "import torch.nn as nn\n",
    "import time\n",
    "import os\n",
    "import copy\n",
    "from torchvision import datasets, models, transforms\n",
    "import glob\n",
    "import matplotlib.pyplot as plt\n",
    "# from __future__ import print_function\n",
    "# !pip intsall torchsummary\n",
    "\n",
    "# import torchsummary\n",
    "import torchvision.models as models"
   ]
  },
  {
   "cell_type": "code",
   "execution_count": null,
   "id": "be72d02b",
   "metadata": {},
   "outputs": [],
   "source": [
    "print(torch.__version__)\n",
    "print(torch.cuda.get_device_name())\n",
    "print(torch.cuda.get_device_properties('cuda'))\n"
   ]
  },
  {
   "cell_type": "code",
   "execution_count": null,
   "id": "ccc752d7",
   "metadata": {},
   "outputs": [],
   "source": [
    "DATA_DIR = '../input/cat-and-dog'\n",
    "sz = 224\n",
    "batch_size = 16"
   ]
  },
  {
   "cell_type": "code",
   "execution_count": null,
   "id": "7d32614d",
   "metadata": {},
   "outputs": [],
   "source": [
    "os.listdir(DATA_DIR)"
   ]
  },
  {
   "cell_type": "code",
   "execution_count": null,
   "id": "09549ed3",
   "metadata": {},
   "outputs": [],
   "source": [
    "trn_dir = f'{DATA_DIR}/training_set/training_set'\n",
    "val_dir = f'{DATA_DIR}/test_set/test_set'"
   ]
  },
  {
   "cell_type": "code",
   "execution_count": null,
   "id": "30e15100",
   "metadata": {},
   "outputs": [],
   "source": [
    "os.listdir(val_dir)"
   ]
  },
  {
   "cell_type": "code",
   "execution_count": null,
   "id": "f8b4f09d",
   "metadata": {},
   "outputs": [],
   "source": [
    "os.listdir(trn_dir)"
   ]
  },
  {
   "cell_type": "code",
   "execution_count": null,
   "id": "635bf240",
   "metadata": {},
   "outputs": [],
   "source": [
    "trn_fnames = glob.glob(f'{trn_dir}/*/*.jpg')\n",
    "trn_fnames[:5]"
   ]
  },
  {
   "cell_type": "code",
   "execution_count": null,
   "id": "97145e46",
   "metadata": {},
   "outputs": [],
   "source": [
    "img = plt.imread(trn_fnames[1])\n",
    "plt.imshow(img);"
   ]
  },
  {
   "cell_type": "code",
   "execution_count": null,
   "id": "157f8ede",
   "metadata": {},
   "outputs": [],
   "source": [
    "img.shape"
   ]
  },
  {
   "cell_type": "markdown",
   "id": "2cb185b9",
   "metadata": {},
   "source": [
    "# Read Image "
   ]
  },
  {
   "cell_type": "code",
   "execution_count": null,
   "id": "2cdbd6aa",
   "metadata": {},
   "outputs": [],
   "source": [
    "train_ds = datasets.ImageFolder(trn_dir)"
   ]
  },
  {
   "cell_type": "code",
   "execution_count": null,
   "id": "91a72775",
   "metadata": {},
   "outputs": [],
   "source": [
    "train_ds.class_to_idx"
   ]
  },
  {
   "cell_type": "code",
   "execution_count": null,
   "id": "ca9918f7",
   "metadata": {},
   "outputs": [],
   "source": [
    "train_ds.root"
   ]
  },
  {
   "cell_type": "code",
   "execution_count": null,
   "id": "126d8dd7",
   "metadata": {},
   "outputs": [],
   "source": [
    "train_ds.imgs"
   ]
  },
  {
   "cell_type": "code",
   "execution_count": null,
   "id": "e5759f31",
   "metadata": {},
   "outputs": [],
   "source": [
    "type(train_ds.transform)"
   ]
  },
  {
   "cell_type": "code",
   "execution_count": null,
   "id": "698d43d7",
   "metadata": {},
   "outputs": [],
   "source": [
    "tfms = transforms.Compose([\n",
    "    transforms.Resize((sz, sz)),  # PIL Image\n",
    "    transforms.ToTensor(),        # Tensor\n",
    "    transforms.Normalize([0.485, 0.456, 0.406], [0.229, 0.224, 0.225])\n",
    "])\n",
    "\n",
    "train_ds = datasets.ImageFolder(trn_dir, transform=tfms)\n",
    "valid_ds = datasets.ImageFolder(val_dir, transform=tfms)"
   ]
  },
  {
   "cell_type": "code",
   "execution_count": null,
   "id": "19ca0cdb",
   "metadata": {},
   "outputs": [],
   "source": [
    "len(train_ds), len(valid_ds)"
   ]
  },
  {
   "cell_type": "markdown",
   "id": "e8e8dd1d",
   "metadata": {},
   "source": [
    "# data loader\n"
   ]
  },
  {
   "cell_type": "code",
   "execution_count": null,
   "id": "9eb60330",
   "metadata": {},
   "outputs": [],
   "source": [
    "train_dl = torch.utils.data.DataLoader(train_ds, batch_size=batch_size, \n",
    "                                       shuffle=True, num_workers=8)\n",
    "valid_dl = torch.utils.data.DataLoader(valid_ds, batch_size=batch_size, \n",
    "                                       shuffle=True, num_workers=8)"
   ]
  },
  {
   "cell_type": "code",
   "execution_count": null,
   "id": "bdb16fd8",
   "metadata": {},
   "outputs": [],
   "source": [
    "import itertools\n",
    "import torch\n",
    "import numpy as np\n",
    "import matplotlib.pyplot as plt\n",
    "from tqdm import tqdm\n",
    "from sklearn.metrics import confusion_matrix\n",
    "\n",
    "\n",
    "def imshow(inp, title=None):\n",
    "    \"\"\"Imshow for Tensor.\n",
    "    \"\"\"\n",
    "    inp = inp.numpy().transpose((1, 2, 0))\n",
    "    mean = np.array([0.485, 0.456, 0.406])\n",
    "    std  = np.array([0.229, 0.224, 0.225])\n",
    "    inp = std * inp + mean\n",
    "    inp = np.clip(inp, 0, 1)\n",
    "    plt.imshow(inp)\n",
    "    plt.axis('off')\n",
    "    if title is not None:\n",
    "        plt.title(title)\n"
   ]
  },
  {
   "cell_type": "code",
   "execution_count": null,
   "id": "45e27764",
   "metadata": {},
   "outputs": [],
   "source": [
    "inputs, targets = next(iter(train_dl))\n",
    "out = torchvision.utils.make_grid(inputs, padding=3)\n",
    "plt.figure(figsize=(16, 12))\n",
    "imshow(out, title='Random images from training data')"
   ]
  },
  {
   "cell_type": "code",
   "execution_count": null,
   "id": "88aed821",
   "metadata": {},
   "outputs": [],
   "source": [
    "nan"
   ]
  },
  {
   "cell_type": "code",
   "execution_count": null,
   "id": "22dbf863",
   "metadata": {},
   "outputs": [],
   "source": [
    "nan"
   ]
  },
  {
   "cell_type": "code",
   "execution_count": null,
   "id": "5cf192a2",
   "metadata": {},
   "outputs": [],
   "source": [
    "nan"
   ]
  },
  {
   "cell_type": "code",
   "execution_count": null,
   "id": "44512e40",
   "metadata": {},
   "outputs": [],
   "source": [
    "nan"
   ]
  },
  {
   "cell_type": "code",
   "execution_count": null,
   "id": "dede078f",
   "metadata": {},
   "outputs": [],
   "source": [
    "nan"
   ]
  }
 ],
 "metadata": {},
 "nbformat": 4,
 "nbformat_minor": 5
}
