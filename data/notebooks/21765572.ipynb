{
 "cells": [
  {
   "cell_type": "code",
   "execution_count": null,
   "id": "8c2d9598",
   "metadata": {},
   "outputs": [],
   "source": [
    "# imports\n",
    "from pathlib import Path\n",
    "import numpy as np\n",
    "import pandas as pd\n",
    "from matplotlib import pyplot as plt\n",
    "from sklearn.model_selection import train_test_split"
   ]
  },
  {
   "cell_type": "code",
   "execution_count": null,
   "id": "f64415f8",
   "metadata": {},
   "outputs": [],
   "source": [
    "input_path = Path('/kaggle/input/tabular-playground-series-nov-2021/')\n",
    "list(input_path.iterdir())"
   ]
  },
  {
   "cell_type": "code",
   "execution_count": null,
   "id": "18aef1c6",
   "metadata": {},
   "outputs": [],
   "source": [
    "train_df = pd.read_csv(input_path/'train.csv')\n",
    "test_df = pd.read_csv(input_path/'test.csv')\n",
    "submission_df = pd.read_csv(input_path/'sample_submission.csv')\n",
    "\n",
    "train_df.shape, test_df.shape"
   ]
  },
  {
   "cell_type": "code",
   "execution_count": null,
   "id": "c08fb903",
   "metadata": {},
   "outputs": [],
   "source": [
    "submission_df.head(3)"
   ]
  },
  {
   "cell_type": "code",
   "execution_count": null,
   "id": "4d7bc0ef",
   "metadata": {},
   "outputs": [],
   "source": [
    "train_df.head(3)"
   ]
  },
  {
   "cell_type": "markdown",
   "id": "3313a388",
   "metadata": {},
   "source": [
    "## Data sanity check"
   ]
  },
  {
   "cell_type": "code",
   "execution_count": null,
   "id": "3d9ba461",
   "metadata": {},
   "outputs": [],
   "source": [
    "# null values\n",
    "train_df.isnull().sum().sum(), test_df.isnull().sum().sum()"
   ]
  },
  {
   "cell_type": "code",
   "execution_count": null,
   "id": "2c28ed0f",
   "metadata": {},
   "outputs": [],
   "source": [
    "# duplicates check\n",
    "len(train_df) - len(train_df.drop(['id', 'target'], axis=1).drop_duplicates())"
   ]
  },
  {
   "cell_type": "markdown",
   "id": "183d1d4b",
   "metadata": {},
   "source": [
    "## EDA\n",
    "\n",
    "1. It is said that, all the variables are continuous\n",
    "2. Target variable is binary"
   ]
  },
  {
   "cell_type": "code",
   "execution_count": null,
   "id": "48867b64",
   "metadata": {},
   "outputs": [],
   "source": [
    "test_id = test_df.loc[:, 'id']\n",
    "train_target = train_df.loc[:, 'target']\n",
    "train_df.drop(['id', 'target'], axis=1, inplace=True)"
   ]
  },
  {
   "cell_type": "code",
   "execution_count": null,
   "id": "15f68fce",
   "metadata": {},
   "outputs": [],
   "source": [
    "train_target_counts = train_target.value_counts()\n",
    "labels = train_target_counts.index\n",
    "counts = train_target_counts.values\n",
    "\n",
    "plt.bar(labels, counts)\n",
    "plt.xticks(labels)\n",
    "plt.show()"
   ]
  },
  {
   "cell_type": "code",
   "execution_count": null,
   "id": "cde06d66",
   "metadata": {},
   "outputs": [],
   "source": [
    "# Scaling the data\n",
    "from sklearn.preprocessing import StandardScaler, Normalizer\n",
    "scaler = StandardScaler()\n",
    "normalizer = Normalizer()"
   ]
  },
  {
   "cell_type": "markdown",
   "id": "73dd5df6",
   "metadata": {},
   "source": [
    "## Model building"
   ]
  },
  {
   "cell_type": "code",
   "execution_count": null,
   "id": "ad3f9b78",
   "metadata": {},
   "outputs": [],
   "source": [
    "import catboost\n",
    "import optuna\n",
    "from sklearn.pipeline import Pipeline\n",
    "from sklearn.preprocessing import StandardScaler, Normalizer\n",
    "from sklearn.model_selection import StratifiedKFold\n",
    "from sklearn.metrics import classification_report, auc, roc_auc_score"
   ]
  },
  {
   "cell_type": "code",
   "execution_count": null,
   "id": "8b92da89",
   "metadata": {},
   "outputs": [],
   "source": [
    "X_train, X_test, y_train, y_test = train_test_split(train_df, train_target, test_size=0.25, stratify=train_target,\n",
    "                                                    shuffle=True, random_state=13)\n",
    "X_train.shape, X_test.shape"
   ]
  },
  {
   "cell_type": "code",
   "execution_count": null,
   "id": "fa20d292",
   "metadata": {},
   "outputs": [],
   "source": [
    "def objective(trial):\n",
    "    \"\"\"\n",
    "    Objective function to tune XGBoost classifier\n",
    "    \"\"\"\n",
    "    params = {\n",
    "        'task_type': 'GPU',\n",
    "        'iterations': trial.suggest_int('iterations', 50, 300),\n",
    "        'learning_rate': trial.suggest_loguniform('learning_rate', 0.01, 0.3),\n",
    "        'depth': trial.suggest_int('depth', 4, 10),\n",
    "    }\n",
    "    \n",
    "    # KFold split\n",
    "    skf = StratifiedKFold(n_splits=5, random_state=13, shuffle=True)\n",
    "    cv_scores = []\n",
    "    \n",
    "    for train_ix, test_ix in skf.split(X_train, y_train):\n",
    "        X_train_k, X_test_k = X_train.iloc[train_ix], X_train.iloc[test_ix]\n",
    "        y_train_k, y_test_k = y_train.iloc[train_ix], y_train.iloc[test_ix]\n",
    "        \n",
    "        # Scale data\n",
    "        # X_train_k = scaler.fit_transform(X_train_k)\n",
    "        # X_test_k = scaler.transform(X_test_k)\n",
    "    \n",
    "        booster = catboost.CatBoostClassifier(**params, loss_function='Logloss', eval_metric='AUC')\n",
    "        booster.fit(X_train_k, y_train_k, eval_set=[(X_test_k, y_test_k)], verbose=0)\n",
    "        preds = booster.predict_proba(X_test)\n",
    "        preds = preds[:, 1]\n",
    "        cv_scores.append(preds)\n",
    "    cv_score = np.mean(cv_scores, axis=0)\n",
    "    return roc_auc_score(y_test, cv_score)"
   ]
  },
  {
   "cell_type": "code",
   "execution_count": null,
   "id": "aea4a865",
   "metadata": {},
   "outputs": [],
   "source": [
    "study = optuna.create_study(direction='maximize')\n",
    "study.optimize(objective, n_trials=50, timeout=600)"
   ]
  },
  {
   "cell_type": "code",
   "execution_count": null,
   "id": "a0d91bea",
   "metadata": {},
   "outputs": [],
   "source": [
    "study.best_trial, study.best_params"
   ]
  },
  {
   "cell_type": "code",
   "execution_count": null,
   "id": "981aaf44",
   "metadata": {},
   "outputs": [],
   "source": [
    "test_df_preds = []\n",
    "skf = StratifiedKFold(n_splits=5, random_state=13, shuffle=True)\n",
    "for train_ix, test_ix in skf.split(train_df, train_target):\n",
    "    X_train, X_test = train_df.iloc[train_ix], train_df.iloc[test_ix]\n",
    "    y_train, y_test = train_target.iloc[train_ix], train_target.iloc[test_ix]\n",
    "    # xgb model\n",
    "    cat_model = catboost.CatBoostClassifier(**study.best_params, task_type='GPU', loss_function='Logloss', eval_metric='AUC')\n",
    "    cat_model.fit(X_train, y_train, verbose=0, eval_set=[(X_test, y_test)])\n",
    "    print(cat_model.best_score_)\n",
    "    test_preds = cat_model.predict_proba(test_df.drop('id', axis=1))\n",
    "    test_preds = test_preds[:, 1]\n",
    "    test_df_preds.append(test_preds)"
   ]
  },
  {
   "cell_type": "code",
   "execution_count": null,
   "id": "8f665024",
   "metadata": {},
   "outputs": [],
   "source": [
    "submission_df.target = np.mean(test_df_preds, axis=0)"
   ]
  },
  {
   "cell_type": "code",
   "execution_count": null,
   "id": "e6ecc402",
   "metadata": {},
   "outputs": [],
   "source": [
    "submission_df.to_csv('submission.csv', index=False)"
   ]
  },
  {
   "cell_type": "code",
   "execution_count": null,
   "id": "0be4c030",
   "metadata": {},
   "outputs": [],
   "source": [
    "nan"
   ]
  },
  {
   "cell_type": "code",
   "execution_count": null,
   "id": "938de0ae",
   "metadata": {},
   "outputs": [],
   "source": [
    "nan"
   ]
  }
 ],
 "metadata": {},
 "nbformat": 4,
 "nbformat_minor": 5
}
