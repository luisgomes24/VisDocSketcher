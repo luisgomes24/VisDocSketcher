{
 "cells": [
  {
   "cell_type": "markdown",
   "id": "57120d7b",
   "metadata": {},
   "source": [
    "## Introduction\r\n",
    "Greetings! This is an automatically generated kernel with starter code demonstrating how to read in the data and begin exploring. If you're inspired to dig deeper, click the blue \"Fork Notebook\" button at the top of this kernel to begin editing your own copy."
   ]
  },
  {
   "cell_type": "markdown",
   "id": "75940ae3",
   "metadata": {},
   "source": [
    "## Exploratory Analysis\r\n",
    "To begin this exploratory analysis, first import libraries and define functions for plotting the data using `matplotlib`. Depending on the data, not all plots will be made.Remember, I'm only a kerneling bot, not Jeff Dean or a Kaggle Competitions Grandmaster!"
   ]
  },
  {
   "cell_type": "code",
   "execution_count": null,
   "id": "9efa5200",
   "metadata": {},
   "outputs": [],
   "source": [
    "from mpl_toolkits.mplot3d import Axes3D\r\n",
    "from sklearn.decomposition import PCA\r\n",
    "from sklearn.preprocessing import StandardScaler\r\n",
    "import matplotlib.pyplot as plt # plotting\r\n",
    "import numpy as np # linear algebra\r\n",
    "import os # accessing directory structure\r\n",
    "import pandas as pd # data processing, CSV file I/O (e.g. pd.read_csv)\r\n"
   ]
  },
  {
   "cell_type": "markdown",
   "id": "88151c18",
   "metadata": {},
   "source": [
    "There are 2 csv files in the current version of the dataset:\n"
   ]
  },
  {
   "cell_type": "code",
   "execution_count": null,
   "id": "b6b92982",
   "metadata": {},
   "outputs": [],
   "source": [
    "print(os.listdir('../input'))"
   ]
  },
  {
   "cell_type": "markdown",
   "id": "b2cea2af",
   "metadata": {},
   "source": [
    "The next hidden code cells define functions for plotting data. Click on the \"Code\" button in the published kernel to reveal the hidden code."
   ]
  },
  {
   "cell_type": "code",
   "execution_count": null,
   "id": "83a0e87c",
   "metadata": {},
   "outputs": [],
   "source": [
    "# Plot the PCA with either 2 or 3 reduced components\r\n",
    "def plotPCA(df, nComponents):\n",
    "\tdf = df.select_dtypes(include =[np.number]) # keep only numerical columns\r\n",
    "\tdf = df.dropna('columns') # drop columns with NaN\r\n",
    "\tif df.shape[1] < nComponents:\r\n",
    "\t\tprint(f'No PCA graph shown: The number of numeric columns ({df.shape[1]}) is less than the number of PCA components ({nComponents})')\r\n",
    "\t\treturn\r\n",
    "\tdf = df.astype('float64') # Cast to float for sklearn functions\r\n",
    "\tdf = StandardScaler().fit_transform(df) # Standardize features by removing the mean and scaling to unit variance\r\n",
    "\tpca = PCA(n_components = nComponents)\r\n",
    "\tprincipalComponents = pca.fit_transform(df)\r\n",
    "\tprincipalDf = pd.DataFrame(data = principalComponents, columns = ['Principal Component ' + str(i) for i in range(1, nComponents + 1)])\r\n",
    "\tfig = plt.figure(figsize = (8, 8))\r\n",
    "\tif (nComponents == 3):\r\n",
    "\t\tax = fig.add_subplot(111, projection = '3d')\r\n",
    "\t\tax.set_xlabel('Principal Component 1', fontsize = 15)\r\n",
    "\t\tax.set_ylabel('Principal Component 2', fontsize = 15)\r\n",
    "\t\tax.set_zlabel('Principal Component 3', fontsize = 15)\r\n",
    "\t\tax.set_title('3 component PCA', fontsize = 20)\r\n",
    "\t\tax.scatter(xs = principalDf.iloc[:, 0], ys = principalDf.iloc[:, 1], zs = principalDf.iloc[:, 2])\r\n",
    "\telse:\r\n",
    "\t\tax = fig.add_subplot(111)\r\n",
    "\t\tax.set_xlabel('Principal Component 1', fontsize = 15)\r\n",
    "\t\tax.set_ylabel('Principal Component 2', fontsize = 15)\r\n",
    "\t\tax.set_title('2 component PCA', fontsize = 20)\r\n",
    "\t\tax.scatter(x = principalDf.iloc[:, 0], y = principalDf.iloc[:, 1])\r\n"
   ]
  },
  {
   "cell_type": "code",
   "execution_count": null,
   "id": "592bf500",
   "metadata": {},
   "outputs": [],
   "source": [
    "# Histogram of column data\r\n",
    "def plotHistogram(df, nHistogramShown, nHistogramPerRow):\n",
    "\tnunique = df.nunique()\r\n",
    "\tdf = df[[col for col in df if nunique[col] > 1 and nunique[col] < 50]] # For displaying purposes, pick columns that have between 1 and 50 unique values\r\n",
    "\tnRow, nCol = df.shape\r\n",
    "\tcolumnNames = list(df)\r\n",
    "\tnHistRow = (nCol + nHistogramPerRow - 1) / nHistogramPerRow\r\n",
    "\tplt.figure(num=None, figsize=(6*nHistogramPerRow, 8*nHistRow), dpi=80, facecolor='w', edgecolor='k')\n",
    "\tfor i in range(min(nCol, nHistogramShown)):\r\n",
    "\t\tplt.subplot(nHistRow, nHistogramPerRow, i+1)\r\n",
    "\t\tdf.iloc[:,i].hist()\r\n",
    "\t\tplt.ylabel('counts')\r\n",
    "\t\tplt.xticks(rotation=90)\r\n",
    "\t\tplt.title(f'{columnNames[i]} (column {i})')\r\n",
    "\tplt.tight_layout(pad=1.0, w_pad=1.0, h_pad=1.0)\r\n",
    "\tplt.show()\r\n"
   ]
  },
  {
   "cell_type": "code",
   "execution_count": null,
   "id": "2cea7bbb",
   "metadata": {},
   "outputs": [],
   "source": [
    "# Correlation matrix\r\n",
    "def plotCorrelationMatrix(df, graphWidth):\n",
    "\tfilename = df.dataframeName\r\n",
    "\tdf = df.dropna('columns') # drop columns with NaN\r\n",
    "\tdf = df[[col for col in df if df[col].nunique() > 1]] # keep columns where there are more than 1 unique values\r\n",
    "\tif df.shape[1] < 2:\r\n",
    "\t\tprint(f'No correlation plots shown: The number of non-NaN or constant columns ({df.shape[1]}) is less than 2')\r\n",
    "\t\treturn\r\n",
    "\tcorr = df.corr()\r\n",
    "\tplt.figure(num=None, figsize=(graphWidth, graphWidth), dpi=80, facecolor='w', edgecolor='k')\r\n",
    "\tcorrMat = plt.matshow(corr, fignum = 1)\r\n",
    "\tplt.xticks(range(len(corr.columns)), corr.columns, rotation=90)\r\n",
    "\tplt.yticks(range(len(corr.columns)), corr.columns)\r\n",
    "\tplt.gca().xaxis.tick_bottom()\r\n",
    "\tplt.colorbar(corrMat)\r\n",
    "\tplt.title(f'Correlation Matrix for {filename}', fontsize=15)\r\n",
    "\tplt.show()\r\n"
   ]
  },
  {
   "cell_type": "code",
   "execution_count": null,
   "id": "bebbe1d2",
   "metadata": {},
   "outputs": [],
   "source": [
    "# Scatter and density plots\r\n",
    "def plotScatterMatrix(df, plotSize, textSize):\n",
    "\tdf = df.select_dtypes(include =[np.number]) # keep only numerical columns\r\n",
    "\t# Remove rows and columns that would lead to df being singular\r\n",
    "\tdf = df.dropna('columns')\r\n",
    "\tdf = df[[col for col in df if df[col].nunique() > 1]] # keep columns where there are more than 1 unique values\r\n",
    "\tcolumnNames = list(df)\r\n",
    "\tif len(columnNames) > 10: # reduce the number of columns for matrix inversion of kernel density plots\n",
    "\t\tcolumnNames = columnNames[:10]\n",
    "\tdf = df[columnNames]\r\n",
    "\tax = pd.plotting.scatter_matrix(df, alpha=0.75, figsize=[plotSize, plotSize], diagonal='kde')\r\n",
    "\tcorrs = df.corr().values\r\n",
    "\tfor i, j in zip(*plt.np.triu_indices_from(ax, k = 1)):\r\n",
    "\t\tax[i, j].annotate('Corr. coef = %.3f' % corrs[i, j], (0.8, 0.2), xycoords='axes fraction', ha='center', va='center', size=textSize)\r\n",
    "\tplt.suptitle('Scatter and Density Plot')\r\n",
    "\tplt.show()\r\n"
   ]
  },
  {
   "cell_type": "markdown",
   "id": "102e70cb",
   "metadata": {},
   "source": [
    "Now, read in the data and use the plotting functions to visualize the data."
   ]
  },
  {
   "cell_type": "markdown",
   "id": "4ac07612",
   "metadata": {},
   "source": [
    "### Let's check 1st file: ../input/nys-school-tax-relief-star-reimbursement-by-county-beginning-levy-year-1998.csv"
   ]
  },
  {
   "cell_type": "code",
   "execution_count": null,
   "id": "31030f3c",
   "metadata": {},
   "outputs": [],
   "source": [
    "nRowsRead = 100 # specify 'None' if want to read whole file\n",
    "# nys-school-tax-relief-star-reimbursement-by-county-beginning-levy-year-1998.csv has 1160 rows in reality, but we are only loading/previewing the first 100 rows\n",
    "df1 = pd.read_csv('../input/nys-school-tax-relief-star-reimbursement-by-county-beginning-levy-year-1998.csv', delimiter=',', nrows = nRowsRead)\n",
    "df1.dataframeName = 'nys-school-tax-relief-star-reimbursement-by-county-beginning-levy-year-1998.csv'\n",
    "nRow, nCol = df1.shape\n",
    "print(f'There are {nRow} rows and {nCol} columns')"
   ]
  },
  {
   "cell_type": "markdown",
   "id": "25221fae",
   "metadata": {},
   "source": [
    "Let's take a quick look at what the data looks like:"
   ]
  },
  {
   "cell_type": "code",
   "execution_count": null,
   "id": "70d79b37",
   "metadata": {},
   "outputs": [],
   "source": [
    "df1.head(5)"
   ]
  },
  {
   "cell_type": "markdown",
   "id": "86830a40",
   "metadata": {},
   "source": [
    "Histogram of sampled columns:"
   ]
  },
  {
   "cell_type": "code",
   "execution_count": null,
   "id": "0fe96be7",
   "metadata": {},
   "outputs": [],
   "source": [
    "plotHistogram(df1, 10, 5)"
   ]
  },
  {
   "cell_type": "markdown",
   "id": "41907b5d",
   "metadata": {},
   "source": [
    "Correlation matrix:"
   ]
  },
  {
   "cell_type": "code",
   "execution_count": null,
   "id": "e6086c1a",
   "metadata": {},
   "outputs": [],
   "source": [
    "plotCorrelationMatrix(df1, 8)"
   ]
  },
  {
   "cell_type": "markdown",
   "id": "e33518f4",
   "metadata": {},
   "source": [
    "Scatter and density plots:"
   ]
  },
  {
   "cell_type": "code",
   "execution_count": null,
   "id": "e7bdc761",
   "metadata": {},
   "outputs": [],
   "source": [
    "plotScatterMatrix(df1, 18, 10)"
   ]
  },
  {
   "cell_type": "markdown",
   "id": "5269d930",
   "metadata": {},
   "source": [
    "2D and 3D PCA Plots"
   ]
  },
  {
   "cell_type": "code",
   "execution_count": null,
   "id": "69103249",
   "metadata": {},
   "outputs": [],
   "source": [
    "plotPCA(df1, 2) # 2D PCA\n",
    "plotPCA(df1, 3) # 3D PCA"
   ]
  },
  {
   "cell_type": "markdown",
   "id": "93e7601d",
   "metadata": {},
   "source": [
    "### Let's check 2nd file: ../input/nys-school-tax-relief-star-reimbursement-by-school-district-beginning-levy-year-1998.csv"
   ]
  },
  {
   "cell_type": "code",
   "execution_count": null,
   "id": "84406a11",
   "metadata": {},
   "outputs": [],
   "source": [
    "nRowsRead = 100 # specify 'None' if want to read whole file\n",
    "# nys-school-tax-relief-star-reimbursement-by-school-district-beginning-levy-year-1998.csv has 13636 rows in reality, but we are only loading/previewing the first 100 rows\n",
    "df2 = pd.read_csv('../input/nys-school-tax-relief-star-reimbursement-by-school-district-beginning-levy-year-1998.csv', delimiter=',', nrows = nRowsRead)\n",
    "df2.dataframeName = 'nys-school-tax-relief-star-reimbursement-by-school-district-beginning-levy-year-1998.csv'\n",
    "nRow, nCol = df2.shape\n",
    "print(f'There are {nRow} rows and {nCol} columns')"
   ]
  },
  {
   "cell_type": "markdown",
   "id": "ac54ece5",
   "metadata": {},
   "source": [
    "Let's take a quick look at what the data looks like:"
   ]
  },
  {
   "cell_type": "code",
   "execution_count": null,
   "id": "c71d4abe",
   "metadata": {},
   "outputs": [],
   "source": [
    "df2.head(5)"
   ]
  },
  {
   "cell_type": "markdown",
   "id": "a78e7262",
   "metadata": {},
   "source": [
    "Histogram of sampled columns:"
   ]
  },
  {
   "cell_type": "code",
   "execution_count": null,
   "id": "c31314ec",
   "metadata": {},
   "outputs": [],
   "source": [
    "plotHistogram(df2, 10, 5)"
   ]
  },
  {
   "cell_type": "markdown",
   "id": "086824b6",
   "metadata": {},
   "source": [
    "Correlation matrix:"
   ]
  },
  {
   "cell_type": "code",
   "execution_count": null,
   "id": "90fda780",
   "metadata": {},
   "outputs": [],
   "source": [
    "plotCorrelationMatrix(df2, 8)"
   ]
  },
  {
   "cell_type": "markdown",
   "id": "46dce32a",
   "metadata": {},
   "source": [
    "Scatter and density plots:"
   ]
  },
  {
   "cell_type": "code",
   "execution_count": null,
   "id": "5c644ccb",
   "metadata": {},
   "outputs": [],
   "source": [
    "plotScatterMatrix(df2, 18, 10)"
   ]
  },
  {
   "cell_type": "markdown",
   "id": "2c6a5a15",
   "metadata": {},
   "source": [
    "2D and 3D PCA Plots"
   ]
  },
  {
   "cell_type": "code",
   "execution_count": null,
   "id": "a8b7adee",
   "metadata": {},
   "outputs": [],
   "source": [
    "plotPCA(df2, 2) # 2D PCA\n",
    "plotPCA(df2, 3) # 3D PCA"
   ]
  },
  {
   "cell_type": "markdown",
   "id": "91cf58bf",
   "metadata": {},
   "source": [
    "## Conclusion\r\n",
    "This concludes this starter analysis! To continue from here, click the blue \"Fork Notebook\" button at the top. This will create a copy of the code and environment for you to edit, delete, modify, and add code as you please. Happy Kaggling!"
   ]
  }
 ],
 "metadata": {},
 "nbformat": 4,
 "nbformat_minor": 5
}
