{
 "cells": [
  {
   "cell_type": "code",
   "execution_count": null,
   "id": "73724323",
   "metadata": {},
   "outputs": [],
   "source": [
    "!pip install --pre pycaret"
   ]
  },
  {
   "cell_type": "code",
   "execution_count": null,
   "id": "11d4b9d4",
   "metadata": {},
   "outputs": [],
   "source": [
    "import pandas as pd\n",
    "train=pd.read_csv('../input/tps092022-time-series-conversation/train_Belgium_KaggleMart_Kaggle Getting Started.csv')\n",
    "train.head()"
   ]
  },
  {
   "cell_type": "code",
   "execution_count": null,
   "id": "e957f150",
   "metadata": {},
   "outputs": [],
   "source": [
    "train.info()"
   ]
  },
  {
   "cell_type": "code",
   "execution_count": null,
   "id": "ba32dde2",
   "metadata": {},
   "outputs": [],
   "source": [
    "train['date'] = pd.to_datetime(train['date'])\n",
    "train.set_index('date',inplace=True)\n",
    "train[:5]"
   ]
  },
  {
   "cell_type": "code",
   "execution_count": null,
   "id": "5b8a5be9",
   "metadata": {},
   "outputs": [],
   "source": [
    "test=pd.read_csv('../input/tps092022-time-series-conversation/test_Belgium_KaggleMart_Kaggle Getting Started.csv')\n",
    "test.head()"
   ]
  },
  {
   "cell_type": "code",
   "execution_count": null,
   "id": "f961f897",
   "metadata": {},
   "outputs": [],
   "source": [
    "test.nunique()"
   ]
  },
  {
   "cell_type": "code",
   "execution_count": null,
   "id": "19d1cf96",
   "metadata": {},
   "outputs": [],
   "source": [
    "from pycaret.time_series import *\n",
    "time = setup(train, fh = 120, fold = 5, session_id = 42)"
   ]
  },
  {
   "cell_type": "code",
   "execution_count": null,
   "id": "b2160f4a",
   "metadata": {},
   "outputs": [],
   "source": [
    "model=time.compare_models(sort = 'SMAPE')\n",
    "model"
   ]
  },
  {
   "cell_type": "code",
   "execution_count": null,
   "id": "55be8e3f",
   "metadata": {},
   "outputs": [],
   "source": [
    "y_predict = time.predict_model(model)"
   ]
  },
  {
   "cell_type": "code",
   "execution_count": null,
   "id": "9ace82d9",
   "metadata": {},
   "outputs": [],
   "source": [
    "tuned_model = time.tune_model(model,optimize = 'SMAPE')\n",
    "tuned_model"
   ]
  },
  {
   "cell_type": "code",
   "execution_count": null,
   "id": "3af4522d",
   "metadata": {},
   "outputs": [],
   "source": [
    "time.predict_model(tuned_model)"
   ]
  },
  {
   "cell_type": "code",
   "execution_count": null,
   "id": "87d6d226",
   "metadata": {},
   "outputs": [],
   "source": [
    "# Finalize Model\n",
    "final_model = time.finalize_model(tuned_model)\n",
    "final_model\n"
   ]
  },
  {
   "cell_type": "code",
   "execution_count": null,
   "id": "83c9ed73",
   "metadata": {},
   "outputs": [],
   "source": [
    "df = predict_model(final_model, fh = 365).reset_index()\n",
    "df.columns=['date','num_sold']\n",
    "df.head()"
   ]
  },
  {
   "cell_type": "code",
   "execution_count": null,
   "id": "2a1a2db2",
   "metadata": {},
   "outputs": [],
   "source": [
    "test['date'] = pd.to_datetime(test['date'])\n",
    "test.info()"
   ]
  },
  {
   "cell_type": "code",
   "execution_count": null,
   "id": "75039fe5",
   "metadata": {},
   "outputs": [],
   "source": [
    "test.head()"
   ]
  },
  {
   "cell_type": "code",
   "execution_count": null,
   "id": "70a7d062",
   "metadata": {},
   "outputs": [],
   "source": [
    "test['num_sold']=df['num_sold']\n",
    "test=test[['row_id','num_sold']]\n",
    "test.shape"
   ]
  },
  {
   "cell_type": "code",
   "execution_count": null,
   "id": "10c1b523",
   "metadata": {},
   "outputs": [],
   "source": [
    "test.head()"
   ]
  },
  {
   "cell_type": "code",
   "execution_count": null,
   "id": "68787484",
   "metadata": {},
   "outputs": [],
   "source": [
    "test.to_csv('./Belgium_KaggleMart_Kaggle Getting Started.csv',index=False)"
   ]
  }
 ],
 "metadata": {},
 "nbformat": 4,
 "nbformat_minor": 5
}
