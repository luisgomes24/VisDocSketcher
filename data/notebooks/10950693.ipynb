{
 "cells": [
  {
   "cell_type": "code",
   "execution_count": null,
   "id": "18d4035e",
   "metadata": {},
   "outputs": [],
   "source": [
    "import pandas as pd\n",
    "import numpy as np\n",
    "import matplotlib.pyplot as plt\n",
    "import plotly.express as px\n",
    "import plotly\n",
    "import seaborn as sns\n",
    "%matplotlib inline\n",
    "import plotly.graph_objects as go"
   ]
  },
  {
   "cell_type": "code",
   "execution_count": null,
   "id": "efe0b9d0",
   "metadata": {},
   "outputs": [],
   "source": [
    "import os\n",
    "for dirname, _, filenames in os.walk('/kaggle/input'):\n",
    "    for filename in filenames:\n",
    "        print(os.path.join(dirname, filename))\n",
    "df = pd.read_csv(\"../input/data-analyst-jobs/DataAnalyst.csv\")\n",
    "\n",
    "pd.options.display.max_columns=None\n",
    "df.head()"
   ]
  },
  {
   "cell_type": "code",
   "execution_count": null,
   "id": "1e656a49",
   "metadata": {},
   "outputs": [],
   "source": [
    "df.isnull().sum()"
   ]
  },
  {
   "cell_type": "code",
   "execution_count": null,
   "id": "cc75a062",
   "metadata": {},
   "outputs": [],
   "source": [
    "#In the dataset their are very few null values but their are many rows with value '-1' so we need replace these values with null values first.\n",
    "df.replace({'-1': None},inplace =True, regex= True)      #to replace string values\n",
    "df=df.replace({-1:None})                                 #to replace integer values"
   ]
  },
  {
   "cell_type": "code",
   "execution_count": null,
   "id": "38c61a9c",
   "metadata": {},
   "outputs": [],
   "source": [
    "#Now we will get the actual number of null values\n",
    "df.isnull().sum()"
   ]
  },
  {
   "cell_type": "code",
   "execution_count": null,
   "id": "e60353d1",
   "metadata": {},
   "outputs": [],
   "source": [
    "#Deleting the unnessecary columns\n",
    "df.drop(['Competitors','Easy Apply'], axis=1,inplace=True)    #Most of values in these columns are null\n",
    "df.drop(['Unnamed: 0','Job Description'], axis=1,inplace=True)"
   ]
  },
  {
   "cell_type": "markdown",
   "id": "d9c19f69",
   "metadata": {},
   "source": [
    "# * Dealing with the missing data"
   ]
  },
  {
   "cell_type": "code",
   "execution_count": null,
   "id": "ba02c516",
   "metadata": {},
   "outputs": [],
   "source": [
    "# First of we will check the number of null values in each row and delete the rows with more then 2 null values\n",
    "a=df.isnull().sum(axis=1).to_frame('Number of null values')\n",
    "\n",
    "a"
   ]
  },
  {
   "cell_type": "code",
   "execution_count": null,
   "id": "87778280",
   "metadata": {},
   "outputs": [],
   "source": [
    "\n",
    "b=[]\n",
    "for i in range(2253):\n",
    "    if a['Number of null values'].iloc[i]>2 :\n",
    "        b.append(i)\n",
    "    i=i+1\n",
    "\n",
    "# b contains index number of rows with more than two null values      "
   ]
  },
  {
   "cell_type": "code",
   "execution_count": null,
   "id": "7b479aa8",
   "metadata": {},
   "outputs": [],
   "source": [
    "#Now we will delete rows with more than two null values\n",
    "df.drop( b, inplace=True)\n",
    "df.shape                           # We have removed around 190 rows"
   ]
  },
  {
   "cell_type": "markdown",
   "id": "3cb1cc25",
   "metadata": {},
   "source": [
    "We can classify the companies based upon the number of employees\n",
    "1. 1 to 50 employees          -Early stage startup\n",
    "2. 51 to 500 employess        -Micro Enterprises\n",
    "3. 501 to 1000 employees      -Small Enterprises\n",
    "4. 1001 to 5000 employees     -Medium Enterprises\n",
    "5. > 5000 employees           -Large  Enterprises.\n",
    "\n",
    "So we will replace the columns values as per the above classification also their are 35 companies where the size is unknown so we will keep them under Micro Enterprises as this category has highest count"
   ]
  },
  {
   "cell_type": "code",
   "execution_count": null,
   "id": "92fe12c2",
   "metadata": {},
   "outputs": [],
   "source": [
    "for i in range(1912) :\n",
    "    if df['Size'].iloc[i]== '1 to 50 employees' :\n",
    "        df['Size'].iloc[i]='Early stage startup'\n",
    "    elif df['Size'].iloc[i]== '51 to 200 employees' or df['Size'].iloc[i]== '201 to 500 employees' or df['Size'].iloc[i]== 'Unknown' :\n",
    "        df['Size'].iloc[i]='Micro Enterprise'\n",
    "    elif df['Size'].iloc[i]== '501 to 1000 employees' :\n",
    "        df['Size'].iloc[i]='Small Enterprise'\n",
    "    elif df['Size'].iloc[i]== '1001 to 5000 employees' :\n",
    "        df['Size'].iloc[i]='Medium Enterprise'\n",
    "    elif df['Size'].iloc[i]== '5001 to 10000 employees' or df['Size'].iloc[i]== '10000+ employees' :\n",
    "        df['Size'].iloc[i]='Large Enterprise'\n",
    "    i=i+1"
   ]
  },
  {
   "cell_type": "code",
   "execution_count": null,
   "id": "bab3c4d4",
   "metadata": {},
   "outputs": [],
   "source": [
    "df['Size'].value_counts()"
   ]
  },
  {
   "cell_type": "markdown",
   "id": "fb334c13",
   "metadata": {},
   "source": [
    "In the Salary Estimate column the values are given in form of range so we will replace the range of salary with the mean of that range"
   ]
  },
  {
   "cell_type": "code",
   "execution_count": null,
   "id": "ceabec07",
   "metadata": {},
   "outputs": [],
   "source": [
    "df[\"Salary Estimate\"].fillna('$42K-$76K (Glassdoor est.)', inplace = True) "
   ]
  },
  {
   "cell_type": "code",
   "execution_count": null,
   "id": "72f9eba5",
   "metadata": {},
   "outputs": [],
   "source": [
    "#Function to find out the mean salary\n",
    "def salary(a) :\n",
    "    a = a.replace(\"K\", \"\")\n",
    "    a = a.replace(\"$\", \"\")\n",
    "    a=a[0:-16]\n",
    "    a=a.split(\"-\")\n",
    "    b=int(a[0])\n",
    "    c=int(a[1])\n",
    "    return (b+c)*1000/2"
   ]
  },
  {
   "cell_type": "code",
   "execution_count": null,
   "id": "3a5a4d24",
   "metadata": {},
   "outputs": [],
   "source": [
    "df['Salary Estimate']=df['Salary Estimate'].apply(salary)\n",
    "df.rename(columns = {'Salary Estimate':'Salary Estimate in USD'}, inplace = True)"
   ]
  },
  {
   "cell_type": "markdown",
   "id": "5990f94a",
   "metadata": {},
   "source": [
    "In the rating column their are 33 null values. We will fill them with the mean of rating column that is 3.7"
   ]
  },
  {
   "cell_type": "code",
   "execution_count": null,
   "id": "acb7abdd",
   "metadata": {},
   "outputs": [],
   "source": [
    "df[\"Rating\"].fillna(3.7 , inplace = True) "
   ]
  },
  {
   "cell_type": "markdown",
   "id": "77c434f3",
   "metadata": {},
   "source": [
    "In the 'Type of ownership' 7 values are mentioned as 'unknown' we can replace them with the mode of column"
   ]
  },
  {
   "cell_type": "code",
   "execution_count": null,
   "id": "77e91a1f",
   "metadata": {},
   "outputs": [],
   "source": [
    "df[\"Type of ownership\"].replace({\"Unknown\": \"Company - Private\"}, inplace=True)"
   ]
  },
  {
   "cell_type": "code",
   "execution_count": null,
   "id": "8279793f",
   "metadata": {},
   "outputs": [],
   "source": [
    "df[\"Industry\"].fillna('IT Services', inplace = True)\n",
    "df[\"Sector\"].fillna('Information Technology', inplace = True) "
   ]
  },
  {
   "cell_type": "markdown",
   "id": "7a3f51ec",
   "metadata": {},
   "source": [
    "In the column named 'Founded' thier are 315 missing values. To get a better insight I have divide the founding year into four categories depending upon the year of establishment.\n",
    "1.After 2000\n",
    "2.Between 1951-2000\n",
    "3.Between 1901-1950\n",
    "4.Before 1900\n"
   ]
  },
  {
   "cell_type": "code",
   "execution_count": null,
   "id": "d2bbdd10",
   "metadata": {},
   "outputs": [],
   "source": [
    "for i in range(1912):\n",
    "    if type(df['Founded'].iloc[i])== int :\n",
    "        if df['Founded'].iloc[i]>2000 :\n",
    "            df['Founded'].iloc[i]= 'After 2000'\n",
    "        elif  1950 <df['Founded'].iloc[i]<=2000 :\n",
    "            df['Founded'].iloc[i]= 'Between 1951-2000'\n",
    "        elif  1900 <df['Founded'].iloc[i]<=1950 :\n",
    "            df['Founded'].iloc[i]= 'Between 1901-1950'\n",
    "        elif df['Founded'].iloc[i]<1900 :\n",
    "            df['Founded'].iloc[i]= 'Before 1900'\n",
    "    else :\n",
    "        df['Founded'].iloc[i]=None\n",
    "    i=i+1\n",
    "    "
   ]
  },
  {
   "cell_type": "code",
   "execution_count": null,
   "id": "616f2536",
   "metadata": {},
   "outputs": [],
   "source": [
    "df['Founded'].value_counts()"
   ]
  },
  {
   "cell_type": "code",
   "execution_count": null,
   "id": "1f9747df",
   "metadata": {},
   "outputs": [],
   "source": [
    "fig = px.histogram(df, x=\"Founded\",nbins=20)\n",
    "fig.show()"
   ]
  },
  {
   "cell_type": "markdown",
   "id": "c58ffadb",
   "metadata": {},
   "source": [
    "To deal with missing values in 'Founded' column first we will replace the null values with 'unknown'"
   ]
  },
  {
   "cell_type": "code",
   "execution_count": null,
   "id": "a7a8e7dd",
   "metadata": {},
   "outputs": [],
   "source": [
    "df[\"Founded\"].fillna(\"unknown\", inplace = True)"
   ]
  },
  {
   "cell_type": "code",
   "execution_count": null,
   "id": "913bba4c",
   "metadata": {},
   "outputs": [],
   "source": [
    "for i in range(1912) :\n",
    "    if df['Founded'].iloc[i]=='unknown' :\n",
    "        if df['Size'].iloc[i]=='Small Enterprise' or df['Size'].iloc[i]=='Micro Enterprise' or df['Size'].iloc[i]=='Early stage startup' :\n",
    "            df['Founded'].iloc[i]='After 2000'\n",
    "        elif df['Size'].iloc[i]=='Medium Enterprise' or df['Size'].iloc[i]=='Large Enterprise' :\n",
    "            df['Founded'].iloc[i]='1951-2000'\n",
    "    i=i+1"
   ]
  },
  {
   "cell_type": "markdown",
   "id": "3fdf9916",
   "metadata": {},
   "source": [
    "Extraction State from Location Column"
   ]
  },
  {
   "cell_type": "code",
   "execution_count": null,
   "id": "9e522515",
   "metadata": {},
   "outputs": [],
   "source": [
    "#First we will add new column that will contain state abbrevation from the column Location.\n",
    "df['Location_State']=0*df['Rating']\n",
    "for i in range(1912) :\n",
    "    df['Location_State'].iloc[i]=df['Location'].iloc[i].split(',')[1]\n",
    "    i=i+1\n",
    "for i in range(1912):\n",
    "    df['Location_State'].iloc[i]=df['Location_State'].iloc[i].replace(\" \",\"\")\n",
    "    i=i+1\n"
   ]
  },
  {
   "cell_type": "code",
   "execution_count": null,
   "id": "81ba916e",
   "metadata": {},
   "outputs": [],
   "source": [
    "df.Location_State.unique()"
   ]
  },
  {
   "cell_type": "code",
   "execution_count": null,
   "id": "1cd2785e",
   "metadata": {},
   "outputs": [],
   "source": [
    "#the file df1 contain the list on state in USA and their abbrivations so we will merge df1 and df to get the name of state from the abbrevation code\n",
    "url='https://drive.google.com/file/d/1_m3xn7Q0U2melCCSFz-ZX_wQWob85_OJ/view?usp=sharing'\n",
    "path = 'https://drive.google.com/uc?export=download&id='+url.split('/')[-2]\n",
    "df1 = pd.read_excel(path)\n",
    "df1.head()"
   ]
  },
  {
   "cell_type": "code",
   "execution_count": null,
   "id": "2ab4753a",
   "metadata": {},
   "outputs": [],
   "source": [
    "i = pd.merge(df, df1,  on ='Location_State', how ='left')\n",
    "df=i.copy()\n"
   ]
  },
  {
   "cell_type": "code",
   "execution_count": null,
   "id": "a71d1290",
   "metadata": {},
   "outputs": [],
   "source": [
    "df['Location_State']=df['State']\n",
    "df.drop(['State','Latitude','Longitude'], axis=1,inplace=True)\n",
    "df.head()"
   ]
  },
  {
   "cell_type": "code",
   "execution_count": null,
   "id": "04f7db2f",
   "metadata": {},
   "outputs": [],
   "source": [
    "df.isnull().sum()"
   ]
  },
  {
   "cell_type": "code",
   "execution_count": null,
   "id": "d355979d",
   "metadata": {},
   "outputs": [],
   "source": [
    "df.dropna(axis=0,inplace=True)"
   ]
  },
  {
   "cell_type": "markdown",
   "id": "354945e5",
   "metadata": {},
   "source": [
    "# Data Visualization\n",
    "![Data Visualization](https://www.incimages.com/uploaded_files/image/1920x1080/getty_518119836_236936.jpg)"
   ]
  },
  {
   "cell_type": "markdown",
   "id": "d1c0618a",
   "metadata": {},
   "source": [
    "1.State Wise Job Openings"
   ]
  },
  {
   "cell_type": "code",
   "execution_count": null,
   "id": "613bb454",
   "metadata": {},
   "outputs": [],
   "source": [
    "a=df['Location_State'].value_counts()\n",
    "a=a.reset_index()\n",
    "a.columns=['Location_State','Number of openings']\n",
    "fig = px.pie(a, values='Number of openings', names='Location_State', title='State wise distribution of Jobs')\n",
    "fig.show()"
   ]
  },
  {
   "cell_type": "markdown",
   "id": "ee8ffefb",
   "metadata": {},
   "source": [
    "Plotting the Openings on Map"
   ]
  },
  {
   "cell_type": "code",
   "execution_count": null,
   "id": "9093bcd3",
   "metadata": {},
   "outputs": [],
   "source": [
    "b=a.copy()\n",
    "b.columns=['State','Number of openings']\n",
    "c = pd.merge(b, df1,  on ='State', how ='left')\n",
    "df3=c.copy()\n",
    "df3['Location_State']=df3['State']\n",
    "df3.drop(['State'], axis=1,inplace=True)\n",
    "\n",
    "fig = px.scatter_geo(df3,lat='Latitude',lon='Longitude',color='Location_State',size_max=40,\n",
    "                     locationmode = 'USA-states',size='Number of openings',scope='usa',width=1000,height=700)\n",
    "fig.show()"
   ]
  },
  {
   "cell_type": "markdown",
   "id": "568b8df6",
   "metadata": {},
   "source": [
    "Average salary accross various locations"
   ]
  },
  {
   "cell_type": "code",
   "execution_count": null,
   "id": "3bc83f1e",
   "metadata": {},
   "outputs": [],
   "source": [
    "g=df.groupby(['Location_State'],as_index=False)[['Salary Estimate in USD']].mean()\n",
    "g.columns=['State','Average salary offered in USD']\n",
    "d = pd.merge(g, df1,  on ='State', how ='left')\n",
    "df4=d.copy()\n",
    "df4['Location_State']=df4['State']\n",
    "df4.drop(['State'], axis=1,inplace=True)\n",
    "fig = px.scatter_geo(df4,lat='Latitude',lon='Longitude',color='Location_State',size_max=40,\n",
    "                     locationmode = 'USA-states',size='Average salary offered in USD',scope='usa',width=1000,height=700)\n",
    "fig.show()"
   ]
  },
  {
   "cell_type": "markdown",
   "id": "cb5aa5ab",
   "metadata": {},
   "source": [
    " Companies with highest number of opening"
   ]
  },
  {
   "cell_type": "code",
   "execution_count": null,
   "id": "5f2b8d62",
   "metadata": {},
   "outputs": [],
   "source": [
    "g=df['Company Name'].value_counts().nlargest(10)\n",
    "g=g.reset_index()\n",
    "g.columns=['Company Name','Number of openings']\n",
    "g"
   ]
  },
  {
   "cell_type": "code",
   "execution_count": null,
   "id": "8a687115",
   "metadata": {},
   "outputs": [],
   "source": [
    "fig=px.bar(g,x='Company Name',y='Number of openings',color='Number of openings',labels={\n",
    "                     \"Company Name\": \"Company Name\",\n",
    "                     \"Number of openings\": \"Number of openings\"\n",
    "                     \n",
    "                 },\n",
    "                 title='Companies with highest number of openings')\n",
    "fig.show()"
   ]
  },
  {
   "cell_type": "markdown",
   "id": "90d116e2",
   "metadata": {},
   "source": [
    "Industries offering highest salary"
   ]
  },
  {
   "cell_type": "code",
   "execution_count": null,
   "id": "d7f7f5c2",
   "metadata": {},
   "outputs": [],
   "source": [
    "nan"
   ]
  },
  {
   "cell_type": "code",
   "execution_count": null,
   "id": "10182c0b",
   "metadata": {},
   "outputs": [],
   "source": [
    "g1=df.groupby(['Industry'],as_index=False)[['Salary Estimate in USD']].mean()\n",
    "g1.columns=['Industry','Average salary offered in USD']\n",
    "g1=g1.sort_values(by=['Average salary offered in USD'],ascending=False)\n",
    "g1=g1.head(10)\n",
    "g1"
   ]
  },
  {
   "cell_type": "code",
   "execution_count": null,
   "id": "b992ce90",
   "metadata": {},
   "outputs": [],
   "source": [
    "fig=px.bar(g1,x='Industry',y='Average salary offered in USD',color='Average salary offered in USD',labels={\n",
    "                     \"Industry\": \"Industry\",\n",
    "                     \"Average salary offered in USD\": \"Average salary offered in USD\"\n",
    "                     \n",
    "                 },\n",
    "                 title='Top Paying Industries')\n",
    "fig.show()"
   ]
  },
  {
   "cell_type": "markdown",
   "id": "ada58eaa",
   "metadata": {},
   "source": [
    "Sector wise salary distribution"
   ]
  },
  {
   "cell_type": "code",
   "execution_count": null,
   "id": "b7d0e5e0",
   "metadata": {},
   "outputs": [],
   "source": [
    "nan"
   ]
  },
  {
   "cell_type": "code",
   "execution_count": null,
   "id": "2033e051",
   "metadata": {},
   "outputs": [],
   "source": [
    "fig = px.box(df,x=\"Salary Estimate in USD\", y=\"Sector\",height=1000,color='Sector')\n",
    "fig.show()"
   ]
  },
  {
   "cell_type": "markdown",
   "id": "81b024a8",
   "metadata": {},
   "source": [
    "Sector wise openings"
   ]
  },
  {
   "cell_type": "code",
   "execution_count": null,
   "id": "21542017",
   "metadata": {},
   "outputs": [],
   "source": [
    "nan"
   ]
  },
  {
   "cell_type": "code",
   "execution_count": null,
   "id": "5d882640",
   "metadata": {},
   "outputs": [],
   "source": [
    "g2=df['Sector'].value_counts().nlargest(10)\n",
    "g2=g2.reset_index()\n",
    "g2.columns=['Sector','Number of openings']\n",
    "g2"
   ]
  },
  {
   "cell_type": "code",
   "execution_count": null,
   "id": "71a2395d",
   "metadata": {},
   "outputs": [],
   "source": [
    "fig=px.bar(g2,x='Sector',y='Number of openings',color='Number of openings',labels={\n",
    "                     \"Sector\": \"Sector\",\n",
    "                     \"Number of openings\": \"Number of openings\"\n",
    "                     \n",
    "                 },\n",
    "                 title='Sectors with highest number of openings')\n",
    "fig.show()"
   ]
  },
  {
   "cell_type": "markdown",
   "id": "5da66053",
   "metadata": {},
   "source": [
    " Age wise distribution of companies"
   ]
  },
  {
   "cell_type": "code",
   "execution_count": null,
   "id": "dc39dba1",
   "metadata": {},
   "outputs": [],
   "source": [
    "nan"
   ]
  },
  {
   "cell_type": "code",
   "execution_count": null,
   "id": "f143c53e",
   "metadata": {},
   "outputs": [],
   "source": [
    "g3=df['Founded'].value_counts()\n",
    "g3=g3.reset_index()\n",
    "g3.columns=['Founded','Number of companies']\n",
    "fig = px.pie(g3, values='Number of companies', names='Founded', title='Age wise distribution of companies')\n",
    "fig.show()"
   ]
  },
  {
   "cell_type": "markdown",
   "id": "ebb95248",
   "metadata": {},
   "source": [
    " Company Age Vs Salary"
   ]
  },
  {
   "cell_type": "code",
   "execution_count": null,
   "id": "79a196be",
   "metadata": {},
   "outputs": [],
   "source": [
    "nan"
   ]
  },
  {
   "cell_type": "code",
   "execution_count": null,
   "id": "fc0d7e02",
   "metadata": {},
   "outputs": [],
   "source": [
    "g4=df.groupby(['Founded'],as_index=False)[['Salary Estimate in USD']].mean()\n",
    "g4.columns=['Founded','Average salary offered in USD']\n",
    "\n",
    "\n",
    "fig=px.bar(g4,x='Founded',y='Average salary offered in USD',color='Average salary offered in USD',labels={\n",
    "                     \"Founded\": \"Founded\",\n",
    "                     \"Average salary offered in USD\": \"Average salary offered in USD\"\n",
    "                     \n",
    "                 },\n",
    "                 title='Company age Vs Average salary')\n",
    "fig.show()"
   ]
  },
  {
   "cell_type": "markdown",
   "id": "7ba3509a",
   "metadata": {},
   "source": [
    " Company Rating Vs Salary"
   ]
  },
  {
   "cell_type": "code",
   "execution_count": null,
   "id": "0c69dfa5",
   "metadata": {},
   "outputs": [],
   "source": [
    "g5=df.groupby(['Rating'],as_index=False)[['Salary Estimate in USD']].mean()\n",
    "g5.columns=['Rating','Average salary offered in USD']\n",
    "fig=px.bar(g5,x='Rating',y='Average salary offered in USD',color='Average salary offered in USD',labels={\n",
    "                     \"Rating\": \"Rating\",\n",
    "                     \"Average salary offered in USD\": \"Average salary offered in USD\"\n",
    "                     \n",
    "                 },\n",
    "                 title='Rating Vs Average salary')\n",
    "fig.show()\n",
    "#from the bar plot we can see that their is no direct relation between rating and salary offered so we can conclude that the rating depends on other factors too."
   ]
  },
  {
   "cell_type": "code",
   "execution_count": null,
   "id": "fcdea0f5",
   "metadata": {},
   "outputs": [],
   "source": [
    "g6=df.groupby(['Size'],as_index=False)[['Salary Estimate in USD']].count()\n",
    "g6.columns=['Size','Number of Openings']\n",
    "fig = px.pie(g6, values='Number of Openings', names='Size', title='Job openings as per company size')\n",
    "fig.show()"
   ]
  },
  {
   "cell_type": "markdown",
   "id": "6e1b1d39",
   "metadata": {},
   "source": [
    "# Please upvote if you like my work"
   ]
  },
  {
   "cell_type": "markdown",
   "id": "3516f5a9",
   "metadata": {},
   "source": [
    "nan"
   ]
  }
 ],
 "metadata": {},
 "nbformat": 4,
 "nbformat_minor": 5
}
