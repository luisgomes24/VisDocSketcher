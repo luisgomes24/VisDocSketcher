{
 "cells": [
  {
   "cell_type": "code",
   "execution_count": null,
   "id": "e10ea3fd",
   "metadata": {},
   "outputs": [],
   "source": [
    "# Reading Data\n",
    "import os\n",
    "import pandas as pd\n",
    "import numpy as np\n",
    "import matplotlib.pyplot as plt\n",
    "import seaborn as sns\n",
    "import cv2\n",
    "\n",
    "# Make Preprocessing Data\n",
    "from sklearn.utils import shuffle\n",
    "from keras.utils import to_categorical\n",
    "from sklearn.model_selection import train_test_split\n",
    "from imblearn.over_sampling import SMOTE\n",
    "\n",
    "# Building Model\n",
    "import tensorflow as tf\n",
    "import tensorflow.keras as k\n",
    "\n",
    "# Loding Model\n",
    "import pickle"
   ]
  },
  {
   "cell_type": "markdown",
   "id": "d9a93efc",
   "metadata": {},
   "source": [
    "# Reading Data"
   ]
  },
  {
   "cell_type": "code",
   "execution_count": null,
   "id": "4572d1b1",
   "metadata": {},
   "outputs": [],
   "source": [
    "path_train = r\"/kaggle/input/cifar-10/train.7z\"\n",
    "path_test = r\"/kaggle/input/cifar-10/test.7z\"\n",
    "label_df = pd.read_csv(r\"/kaggle/input/cifar-10/trainLabels.csv\").values\n",
    "\n",
    "train_data = []\n",
    "test_data = []\n",
    "\n",
    "label = []\n",
    "class_name = [\"airplane\", \"automobile\", \"bird\",\"cat\", \"deer\", \"dog\",\"frog\",\"horse\", \"ship\",\"truck\"]\n",
    "\n",
    "# Loading Training Data\n",
    "for file in os.listdir(path_train):\n",
    "    images = os.listdir(path_train + \"\\\\\" + file)\n",
    "    for image in images:\n",
    "        img = cv2.imread(path_train + \"\\\\\" + file + \"\\\\\" + image)\n",
    "        img = cv2.resize(img, (48, 48))\n",
    "        train_data.append(img)\n",
    "        label.append([class_name.index(label_df[int(image.split(\".\")[0]) - 1][1])])\n",
    "\n",
    "print(\"--------- Done --------\")\n",
    "        \n",
    "# Loading Testing Data\n",
    "for file in os.listdir(path_test):\n",
    "    images = os.listdir(path_test + \"\\\\\" + file)\n",
    "    for image in images:\n",
    "        img = cv2.imread(path_test + \"\\\\\" + file + \"\\\\\" + image)\n",
    "        img = cv2.resize(img, (48, 48))\n",
    "        test_data.append(img)\n",
    "\n",
    "print(\"--------- Done --------\")\n",
    "\n",
    "\n",
    "print(\"Training Length images is ==> \",len(test_data))\n",
    "print(\"Testing Length images is ==> \",len(train_data))"
   ]
  },
  {
   "cell_type": "code",
   "execution_count": null,
   "id": "79f42b91",
   "metadata": {},
   "outputs": [],
   "source": [
    "# Training\n",
    "train_data = np.array(train_data)\n",
    "train_data = train_data.astype(\"float32\")\n",
    "train_data = train_data / 255.0\n",
    "\n",
    "# Testing\n",
    "test_data = np.array(test_data)\n",
    "test_data = test_data.astype(\"float32\")\n",
    "test_data = test_data / 255.0"
   ]
  },
  {
   "cell_type": "code",
   "execution_count": null,
   "id": "67e93d9a",
   "metadata": {},
   "outputs": [],
   "source": [
    "label = [i[0] for i in label]\n",
    "label = np.array(label)\n",
    "label_img = to_categorical(label, 10)\n",
    "label_img"
   ]
  },
  {
   "cell_type": "markdown",
   "id": "4c475feb",
   "metadata": {},
   "source": [
    "## Shuffle & Split ==> Data"
   ]
  },
  {
   "cell_type": "code",
   "execution_count": null,
   "id": "73689a2d",
   "metadata": {},
   "outputs": [],
   "source": [
    "x_img, y_label = shuffle(train_data, label_img, random_state=4)\n",
    "x_train, x_test, y_train, y_test = train_test_split(x_img, y_label, train_size=0.7, random_state=42)"
   ]
  },
  {
   "cell_type": "markdown",
   "id": "585894a0",
   "metadata": {},
   "source": [
    "# Show Some Data"
   ]
  },
  {
   "cell_type": "code",
   "execution_count": null,
   "id": "1247ad08",
   "metadata": {},
   "outputs": [],
   "source": [
    "plt.figure(figsize=(10, 10))\n",
    "for i in range(0, 25):\n",
    "    plt.subplot(5, 5, i+1)\n",
    "    plt.xticks([])\n",
    "    plt.yticks([])\n",
    "    plt.imshow(x_train[i])\n",
    "    plt.title(class_name[np.argmax(y_train[i])])"
   ]
  },
  {
   "cell_type": "markdown",
   "id": "4e1a76ec",
   "metadata": {},
   "source": [
    "## Building Model from Scratch"
   ]
  },
  {
   "cell_type": "code",
   "execution_count": null,
   "id": "4bb0ea9b",
   "metadata": {},
   "outputs": [],
   "source": [
    "model = k.models.Sequential()\n",
    "\n",
    "model.add(k.layers.Conv2D(16, (5, 5), activation=\"relu\", input_shape=(48, 48, 3), padding=\"same\"))\n",
    "model.add(k.layers.AveragePooling2D((2, 2)))\n",
    "\n",
    "model.add(k.layers.Conv2D(32, (4, 4), activation=\"relu\",  padding=\"valid\"))\n",
    "model.add(k.layers.AveragePooling2D((2, 2)))\n",
    "\n",
    "model.add(k.layers.Conv2D(64, (3, 3), activation=\"relu\", padding=\"valid\"))\n",
    "\n",
    "model.add(k.layers.Conv2D(64, (3, 3), activation=\"relu\", padding=\"same\"))\n",
    "model.add(k.layers.AveragePooling2D((2, 2)))\n",
    "\n",
    "model.add(k.layers.Conv2D(128, (2, 2), activation=\"relu\", padding=\"valid\"))\n",
    "model.add(k.layers.MaxPool2D((2, 2)))\n",
    "\n",
    "model.add(k.layers.Conv2D(256, (2, 2), activation=\"relu\", padding=\"same\"))\n",
    "\n",
    "model.add(k.layers.Flatten())\n",
    "\n",
    "model.add(k.layers.Dense(128, activation=\"relu\"))\n",
    "model.add(k.layers.Dropout(0.2))\n",
    "\n",
    "model.add(k.layers.Dense(32, activation=\"relu\"))\n",
    "model.add(k.layers.Dropout(0.2))\n",
    "\n",
    "model.add(k.layers.Dense(10, activation=\"softmax\"))\n",
    "\n",
    "model.compile(optimizer=\"nadam\", loss=k.losses.CategoricalCrossentropy(), metrics=[\"accuracy\"])\n",
    "\n",
    "model.summary()"
   ]
  },
  {
   "cell_type": "code",
   "execution_count": null,
   "id": "bc3e6f28",
   "metadata": {},
   "outputs": [],
   "source": [
    "history = model.fit(x_train, y_train, epochs=50, validation_data=(x_test, y_test), validation_split=0.4)"
   ]
  },
  {
   "cell_type": "code",
   "execution_count": null,
   "id": "98dc34cf",
   "metadata": {},
   "outputs": [],
   "source": [
    "plt.plot(history.history[\"loss\"], label=\"Loss\")\n",
    "plt.plot(history.history[\"val_loss\"], label=\"Val_Loss\")\n",
    "\n",
    "plt.xlabel(\"Epochs\")\n",
    "plt.ylabel(\"Loss\")\n",
    "\n",
    "plt.title(\"Loss Vs Epochs\")\n",
    "\n",
    "plt.legend()\n",
    "plt.grid()"
   ]
  },
  {
   "cell_type": "code",
   "execution_count": null,
   "id": "36362b8a",
   "metadata": {},
   "outputs": [],
   "source": [
    "plt.plot(history.history[\"accuracy\"], label=\"accuracy\")\n",
    "plt.plot(history.history[\"val_accuracy\"], label=\"val_accuracy\")\n",
    "\n",
    "plt.xlabel(\"Epochs\")\n",
    "plt.ylabel(\"Accuracy\")\n",
    "\n",
    "plt.title(\"Accuracy Vs Epochs\")\n",
    "\n",
    "plt.legend()\n",
    "plt.grid()"
   ]
  },
  {
   "cell_type": "code",
   "execution_count": null,
   "id": "b836c567",
   "metadata": {},
   "outputs": [],
   "source": [
    "loss, accuracy = model_mask.evaluate(x_test, y_test)\n",
    "\n",
    "print(f\"The Accuracy Testing Data is ==> {accuracy} %\")\n",
    "print(f\"The loss Testing Data is ==> {loss}\")"
   ]
  },
  {
   "cell_type": "code",
   "execution_count": null,
   "id": "63068170",
   "metadata": {},
   "outputs": [],
   "source": [
    "nan"
   ]
  },
  {
   "cell_type": "code",
   "execution_count": null,
   "id": "d8810948",
   "metadata": {},
   "outputs": [],
   "source": [
    "nan"
   ]
  }
 ],
 "metadata": {},
 "nbformat": 4,
 "nbformat_minor": 5
}
