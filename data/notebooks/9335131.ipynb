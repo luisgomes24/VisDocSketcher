{
 "cells": [
  {
   "cell_type": "markdown",
   "id": "118346ad",
   "metadata": {},
   "source": [
    "## NAME : JAYNIL GAGLANI\n",
    "## ROLL NO : 13\n",
    "## BATCH : A\n",
    "## DATA WAREHOUSING AND MINING\n",
    "## EXPERIMENT NO 7"
   ]
  },
  {
   "cell_type": "code",
   "execution_count": null,
   "id": "28f460f4",
   "metadata": {},
   "outputs": [],
   "source": [
    "import numpy as np # linear algebra\n",
    "import pandas as pd # data processing, CSV file I/O (e.g. pd.read_csv)\n",
    "import matplotlib.pyplot as plt # data visualization\n",
    "import seaborn as sns # statistical data visualization\n",
    "from sklearn.model_selection import train_test_split\n",
    "from sklearn.naive_bayes import GaussianNB\n",
    "from sklearn.preprocessing import LabelEncoder\n",
    "from sklearn.preprocessing import StandardScaler\n",
    "from sklearn.metrics import accuracy_score,classification_report,confusion_matrix\n",
    "from sklearn.model_selection import cross_val_score\n",
    "from sklearn.tree import DecisionTreeClassifier\n",
    "from sklearn.svm import LinearSVC\n",
    "from sklearn.ensemble import RandomForestClassifier"
   ]
  },
  {
   "cell_type": "code",
   "execution_count": null,
   "id": "ceb1ef11",
   "metadata": {},
   "outputs": [],
   "source": [
    "df = pd.read_csv(\"../input/weather-dataset-rattle-package/weatherAUS.csv\")\n",
    "df.head()"
   ]
  },
  {
   "cell_type": "markdown",
   "id": "5ff6bcc9",
   "metadata": {},
   "source": [
    "## Data Cleaning\n",
    "\n",
    "### Handling Missing Values in Categorical Columns"
   ]
  },
  {
   "cell_type": "code",
   "execution_count": null,
   "id": "8659bd15",
   "metadata": {},
   "outputs": [],
   "source": [
    "categorical = [var for var in df.columns if df[var].dtype=='O']\n",
    "print('There are {} categorical variables\\n'.format(len(categorical)))\n",
    "print('The categorical variables are :', categorical)"
   ]
  },
  {
   "cell_type": "code",
   "execution_count": null,
   "id": "fa4cd7c5",
   "metadata": {},
   "outputs": [],
   "source": [
    "cat1 = [var for var in categorical if df[var].isnull().sum()!=0]\n",
    "print(df[cat1].isnull().sum())"
   ]
  },
  {
   "cell_type": "code",
   "execution_count": null,
   "id": "c031ef7b",
   "metadata": {},
   "outputs": [],
   "source": [
    "for var in categorical:\n",
    "    print(var + ' conatins '+str(len(df[var].unique()))+ \" labels \")"
   ]
  },
  {
   "cell_type": "markdown",
   "id": "f4701e33",
   "metadata": {},
   "source": [
    "### Splitting the Date column into respective 'Year','Month' & 'Day'.**"
   ]
  },
  {
   "cell_type": "code",
   "execution_count": null,
   "id": "8c718324",
   "metadata": {},
   "outputs": [],
   "source": [
    "df['Date'] = pd.to_datetime(df['Date'])\n",
    "df['Year'] = df['Date'].dt.year\n",
    "df['Month'] = df['Date'].dt.month\n",
    "df['Day'] = df['Date'].dt.day\n",
    "\n",
    "df.drop('Date',axis=1,inplace=True)"
   ]
  },
  {
   "cell_type": "code",
   "execution_count": null,
   "id": "6c41ce94",
   "metadata": {},
   "outputs": [],
   "source": [
    "categorical = [var for var in df.columns if df[var].dtype=='O']\n",
    "print(\"There are {} categorical variables : \".format(len(categorical)))\n",
    "print(categorical)"
   ]
  },
  {
   "cell_type": "markdown",
   "id": "531fdcb2",
   "metadata": {},
   "source": [
    "### Replacing the missing categorical values by the most frequent value in respective columns. "
   ]
  },
  {
   "cell_type": "code",
   "execution_count": null,
   "id": "ae577a68",
   "metadata": {},
   "outputs": [],
   "source": [
    "for var in categorical:\n",
    "    df[var].fillna(df[var].mode()[0],inplace=True)"
   ]
  },
  {
   "cell_type": "code",
   "execution_count": null,
   "id": "74a81d17",
   "metadata": {},
   "outputs": [],
   "source": [
    "numerical = [var for var in df.columns if df[var].dtype!='O']\n",
    "print(numerical)"
   ]
  },
  {
   "cell_type": "code",
   "execution_count": null,
   "id": "924d3464",
   "metadata": {},
   "outputs": [],
   "source": [
    "num1 = df[numerical].isnull().sum()\n",
    "num1 = num1[num1!=0]\n",
    "num1"
   ]
  },
  {
   "cell_type": "markdown",
   "id": "f0937dbc",
   "metadata": {},
   "source": [
    "### Replacing the missing numercial values by the mean of their respective columns."
   ]
  },
  {
   "cell_type": "code",
   "execution_count": null,
   "id": "8f5ec5bf",
   "metadata": {},
   "outputs": [],
   "source": [
    "for col in num1.index:\n",
    "    col_mean = df[col].mean()\n",
    "    df[col].fillna(col_mean,inplace=True)"
   ]
  },
  {
   "cell_type": "code",
   "execution_count": null,
   "id": "ba384ed0",
   "metadata": {},
   "outputs": [],
   "source": [
    "le = LabelEncoder()\n",
    "new_df = df\n",
    "for col in categorical:\n",
    "    new_df[col] = le.fit_transform(df[col])\n",
    "col_names = new_df.columns"
   ]
  },
  {
   "cell_type": "code",
   "execution_count": null,
   "id": "e8486ef7",
   "metadata": {},
   "outputs": [],
   "source": [
    "new_df.head()"
   ]
  },
  {
   "cell_type": "markdown",
   "id": "1e8ebaaf",
   "metadata": {},
   "source": [
    "## Feature Scaling using MinMaxScaler"
   ]
  },
  {
   "cell_type": "code",
   "execution_count": null,
   "id": "3f8c75d1",
   "metadata": {},
   "outputs": [],
   "source": [
    "from sklearn.preprocessing import MinMaxScaler\n",
    "ss = MinMaxScaler()\n",
    "new_df = ss.fit_transform(new_df)\n",
    "new_df = pd.DataFrame(new_df,columns = col_names )"
   ]
  },
  {
   "cell_type": "code",
   "execution_count": null,
   "id": "e40e1f1a",
   "metadata": {},
   "outputs": [],
   "source": [
    "new_df.describe()"
   ]
  },
  {
   "cell_type": "code",
   "execution_count": null,
   "id": "7d864f85",
   "metadata": {},
   "outputs": [],
   "source": [
    "# new_df.to_csv(\"weatherCleaned.csv\")"
   ]
  },
  {
   "cell_type": "markdown",
   "id": "64958c85",
   "metadata": {},
   "source": [
    "## Data Visualization\n",
    "\n",
    "### Heatmap of correlation among the columns of data."
   ]
  },
  {
   "cell_type": "code",
   "execution_count": null,
   "id": "714b63ba",
   "metadata": {},
   "outputs": [],
   "source": [
    "correlation = new_df.corr()\n",
    "plt.figure(figsize=(16,12))\n",
    "plt.title('Correlation Heatmap of Rain in Australia Dataset')\n",
    "ax = sns.heatmap(correlation, square=True, annot=True, fmt='.2f', linecolor='white',cmap='viridis')\n",
    "ax.set_xticklabels(ax.get_xticklabels(), rotation=90)\n",
    "ax.set_yticklabels(ax.get_yticklabels(), rotation=30)           \n",
    "plt.show()"
   ]
  },
  {
   "cell_type": "code",
   "execution_count": null,
   "id": "2ef82d32",
   "metadata": {},
   "outputs": [],
   "source": [
    "y = new_df.RainTomorrow\n",
    "X = new_df.drop('RainTomorrow',axis=1)\n",
    "x = df[['Humidity3pm','RISK_MM']]"
   ]
  },
  {
   "cell_type": "markdown",
   "id": "bd8dd27e",
   "metadata": {},
   "source": [
    "## Applying various clustering algorithms on the training set.¶\n",
    "> ## 1. K-Means Clustering"
   ]
  },
  {
   "cell_type": "code",
   "execution_count": null,
   "id": "2e0850bf",
   "metadata": {},
   "outputs": [],
   "source": [
    "from sklearn.cluster import KMeans\n",
    "from sklearn import metrics"
   ]
  },
  {
   "cell_type": "markdown",
   "id": "7585203c",
   "metadata": {},
   "source": [
    "### Fittng the data to KMeans Clustering and calculating CH score\n"
   ]
  },
  {
   "cell_type": "code",
   "execution_count": null,
   "id": "ea071d8d",
   "metadata": {},
   "outputs": [],
   "source": [
    "kmeans = KMeans(n_clusters=2, random_state=100)\n",
    "kmeans.fit(x)\n",
    "labels_1 = kmeans.labels_\n",
    "np.unique(kmeans.labels_)\n",
    "print(kmeans.cluster_centers_)\n",
    "metrics.calinski_harabasz_score(X, labels_1)"
   ]
  },
  {
   "cell_type": "markdown",
   "id": "19ead618",
   "metadata": {},
   "source": [
    "### Choosing only the high variance columns for data visualization of clustering for n_clusters = 2\n"
   ]
  },
  {
   "cell_type": "code",
   "execution_count": null,
   "id": "1a6a3c39",
   "metadata": {},
   "outputs": [],
   "source": [
    "plt.scatter(x.iloc[:,0],x.iloc[:,1], c=kmeans.labels_,cmap='rainbow')\n",
    "plt.scatter(kmeans.cluster_centers_[:,0] ,kmeans.cluster_centers_[:,1], color='black')\n",
    "plt.xlabel('Humidity3pm')\n",
    "plt.ylabel(\"RISK_MM\")\n",
    "plt.title(\"n_clusters = 2\")"
   ]
  },
  {
   "cell_type": "markdown",
   "id": "7ba31fc9",
   "metadata": {},
   "source": [
    "### Determining the Elbow Point for accurate value of K\n"
   ]
  },
  {
   "cell_type": "code",
   "execution_count": null,
   "id": "1fdc720b",
   "metadata": {},
   "outputs": [],
   "source": [
    "sum_of_squared_distances = []\n",
    "K = range(1,15,2)\n",
    "for k in K:\n",
    "    k_means = KMeans(n_clusters=k)\n",
    "    model = k_means.fit(X)\n",
    "    sum_of_squared_distances.append(k_means.inertia_)"
   ]
  },
  {
   "cell_type": "code",
   "execution_count": null,
   "id": "5d3dd232",
   "metadata": {},
   "outputs": [],
   "source": [
    "plt.plot(K, sum_of_squared_distances, 'bx-')\n",
    "plt.xlabel('k')\n",
    "plt.ylabel('sum_of_squared_distances')\n",
    "plt.title('elbow method for optimal k')\n",
    "plt.show()"
   ]
  },
  {
   "cell_type": "markdown",
   "id": "90a14649",
   "metadata": {},
   "source": [
    "## Observations KMeans\n",
    "> ## The Elbow Method is one of the most popular methods to determine this optimal value of k.\n",
    "> ## From the above plot it is clear that for n_clusters = 2 we get the elbow point which means that k = 2 is ideal for clustering"
   ]
  },
  {
   "cell_type": "markdown",
   "id": "71e7393c",
   "metadata": {},
   "source": [
    "## Conclusion\n",
    "> ## Hence , KMeans clustering algorithm was applied to WeatherAUS dataset.\n",
    "> ## 2 clusters were optimal for the given dataset and Elbow methos was employed to get the optimal K value."
   ]
  },
  {
   "cell_type": "code",
   "execution_count": null,
   "id": "7acd6a77",
   "metadata": {},
   "outputs": [],
   "source": [
    "pip install scikit-learn-extra"
   ]
  },
  {
   "cell_type": "code",
   "execution_count": null,
   "id": "8e341116",
   "metadata": {},
   "outputs": [],
   "source": [
    "nan"
   ]
  }
 ],
 "metadata": {},
 "nbformat": 4,
 "nbformat_minor": 5
}
