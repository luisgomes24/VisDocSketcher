{
 "cells": [
  {
   "cell_type": "code",
   "execution_count": null,
   "id": "8bc6850c",
   "metadata": {},
   "outputs": [],
   "source": [
    "# This Python 3 environment comes with many helpful analytics libraries installed\n",
    "# It is defined by the kaggle/python Docker image: https://github.com/kaggle/docker-python\n",
    "# For example, here's several helpful packages to load\n",
    "\n",
    "import numpy as np # linear algebra\n",
    "import pandas as pd # data processing, CSV file I/O (e.g. pd.read_csv)\n",
    "\n",
    "# Input data files are available in the read-only \"../input/\" directory\n",
    "# For example, running this (by clicking run or pressing Shift+Enter) will list all files under the input directory\n",
    "\n",
    "import os\n",
    "for dirname, _, filenames in os.walk('/kaggle/input'):\n",
    "    for filename in filenames:\n",
    "        print(os.path.join(dirname, filename))\n",
    "\n",
    "# You can write up to 20GB to the current directory (/kaggle/working/) that gets preserved as output when you create a version using \"Save & Run All\" \n",
    "# You can also write temporary files to /kaggle/temp/, but they won't be saved outside of the current session"
   ]
  },
  {
   "cell_type": "code",
   "execution_count": null,
   "id": "34647bb6",
   "metadata": {},
   "outputs": [],
   "source": [
    "import lightgbm as lgb\n",
    "import optuna.integration.lightgbm as oplgb\n",
    "from sklearn.model_selection import KFold\n",
    "from sklearn.metrics import mean_squared_error\n",
    "from tqdm.notebook import tqdm\n",
    "import matplotlib.pyplot as plt\n",
    "import category_encoders as ce\n",
    "import seaborn as sns"
   ]
  },
  {
   "cell_type": "code",
   "execution_count": null,
   "id": "c2fe5838",
   "metadata": {},
   "outputs": [],
   "source": [
    "df_train = pd.read_csv(\"/kaggle/input/tabular-playground-series-feb-2021/train.csv\")\n",
    "df_test = pd.read_csv(\"/kaggle/input/tabular-playground-series-feb-2021/test.csv\")\n",
    "df_sample = pd.read_csv(\"/kaggle/input/tabular-playground-series-feb-2021/sample_submission.csv\")"
   ]
  },
  {
   "cell_type": "code",
   "execution_count": null,
   "id": "c773160b",
   "metadata": {},
   "outputs": [],
   "source": [
    "df_train"
   ]
  },
  {
   "cell_type": "code",
   "execution_count": null,
   "id": "0eddc17f",
   "metadata": {},
   "outputs": [],
   "source": [
    "df_test"
   ]
  },
  {
   "cell_type": "code",
   "execution_count": null,
   "id": "8b1e7698",
   "metadata": {},
   "outputs": [],
   "source": [
    "train_id = df_train[\"id\"]\n",
    "test_id = df_test[\"id\"]\n",
    "\n",
    "df_train.drop(\"id\", axis=1, inplace=True)\n",
    "df_test.drop(\"id\", axis=1, inplace=True)"
   ]
  },
  {
   "cell_type": "markdown",
   "id": "0c34e883",
   "metadata": {},
   "source": [
    "# OneHotEncoder"
   ]
  },
  {
   "cell_type": "code",
   "execution_count": null,
   "id": "fe2da599",
   "metadata": {},
   "outputs": [],
   "source": [
    "cat_features = [f\"cat{i}\" for i in range(9 + 1)]"
   ]
  },
  {
   "cell_type": "code",
   "execution_count": null,
   "id": "6aa43c2c",
   "metadata": {},
   "outputs": [],
   "source": [
    "onehot_encoder = ce.one_hot.OneHotEncoder()\n",
    "onehot_encoder.fit(pd.concat([df_train[cat_features], df_test[cat_features]], axis=0))\n",
    "train_ohe = onehot_encoder.transform(df_train[cat_features])\n",
    "test_ohe = onehot_encoder.transform(df_test[cat_features])\n",
    "train_ohe.columns = [f\"OHE_{col}\" for col in train_ohe]\n",
    "test_ohe.columns = [f\"OHE_{col}\" for col in test_ohe]"
   ]
  },
  {
   "cell_type": "code",
   "execution_count": null,
   "id": "ce529131",
   "metadata": {},
   "outputs": [],
   "source": [
    "numerical_features = [f\"cont{i}\" for i in range(13 + 1)]"
   ]
  },
  {
   "cell_type": "code",
   "execution_count": null,
   "id": "70dfb3e1",
   "metadata": {},
   "outputs": [],
   "source": [
    "train_x = pd.concat([\n",
    "    df_train[numerical_features],\n",
    "    train_ohe\n",
    "], axis=1)"
   ]
  },
  {
   "cell_type": "code",
   "execution_count": null,
   "id": "dea37de7",
   "metadata": {},
   "outputs": [],
   "source": [
    "test_x = pd.concat([\n",
    "    df_test[numerical_features],\n",
    "    test_ohe\n",
    "], axis=1)"
   ]
  },
  {
   "cell_type": "code",
   "execution_count": null,
   "id": "fc022d6c",
   "metadata": {},
   "outputs": [],
   "source": [
    "train_y = df_train[\"target\"]"
   ]
  },
  {
   "cell_type": "code",
   "execution_count": null,
   "id": "b5274459",
   "metadata": {},
   "outputs": [],
   "source": [
    "train_x"
   ]
  },
  {
   "cell_type": "code",
   "execution_count": null,
   "id": "201acbdd",
   "metadata": {},
   "outputs": [],
   "source": [
    "test_x"
   ]
  },
  {
   "cell_type": "markdown",
   "id": "b5b5fdf1",
   "metadata": {},
   "source": [
    "# Optuna"
   ]
  },
  {
   "cell_type": "code",
   "execution_count": null,
   "id": "a7be77d9",
   "metadata": {},
   "outputs": [],
   "source": [
    "oplgb_train_data = oplgb.Dataset(train_x, train_y)"
   ]
  },
  {
   "cell_type": "code",
   "execution_count": null,
   "id": "59be55bd",
   "metadata": {},
   "outputs": [],
   "source": [
    "oplgb_params = {\n",
    "    \"objective\": \"regression\",\n",
    "    \"metric\": \"root_mean_squared_error\",\n",
    "    \"verbosity\": -1,\n",
    "    \"learning_rate\": 0.01\n",
    "}"
   ]
  },
  {
   "cell_type": "code",
   "execution_count": null,
   "id": "775df6f4",
   "metadata": {},
   "outputs": [],
   "source": [
    "folds = KFold(n_splits=5, shuffle=True, random_state=2021)"
   ]
  },
  {
   "cell_type": "code",
   "execution_count": null,
   "id": "b2696c5d",
   "metadata": {},
   "outputs": [],
   "source": [
    "tuner_cv = oplgb.LightGBMTunerCV(oplgb_params, oplgb_train_data, num_boost_round=1000, early_stopping_rounds=100, folds=folds, verbose_eval=100, time_budget=21600)\n",
    "tuner_cv.run()"
   ]
  },
  {
   "cell_type": "code",
   "execution_count": null,
   "id": "b87556ad",
   "metadata": {},
   "outputs": [],
   "source": [
    "tuner_cv.best_params"
   ]
  },
  {
   "cell_type": "code",
   "execution_count": null,
   "id": "6f908986",
   "metadata": {},
   "outputs": [],
   "source": [
    "class FoldsAverageLGBM:\n",
    "    def __init__(self, folds):\n",
    "        self.folds = folds\n",
    "        self.models = []\n",
    "        \n",
    "    def fit(self, lgb_params, train_x, train_y):\n",
    "        oof_preds = np.zeros_like(train_y)\n",
    "        \n",
    "        self.train_x = train_x\n",
    "        self.train_y = train_y.values\n",
    "        \n",
    "        for tr_idx, va_idx in tqdm(folds.split(train_x)):\n",
    "            tr_x, va_x = self.train_x.iloc[tr_idx], self.train_x.iloc[va_idx]\n",
    "            tr_y, va_y = self.train_y[tr_idx], self.train_y[va_idx]\n",
    "            \n",
    "            lgb_train_dataset = lgb.Dataset(tr_x, tr_y)\n",
    "            lgb_valid_dataset = lgb.Dataset(va_x, va_y)\n",
    "            model = lgb.train(lgb_params, lgb_train_dataset, valid_sets=[lgb_valid_dataset], verbose_eval=100)\n",
    "            self.models.append(model)\n",
    "            \n",
    "            oof_pred = model.predict(va_x)\n",
    "            oof_preds[va_idx] = oof_pred\n",
    "            \n",
    "        self.oof_preds = oof_preds\n",
    "        \n",
    "    def predict(self, test_x):\n",
    "        preds = []\n",
    "        for model in tqdm(self.models):\n",
    "            pred = model.predict(test_x)\n",
    "            preds.append(pred)\n",
    "        preds = np.mean(preds, axis=0)\n",
    "        return preds\n",
    "    \n",
    "    def get_feature_importance(self, importance_type=\"gain\"):\n",
    "        feature_names = self.models[0].feature_name()\n",
    "        feature_importances_list = [model.feature_importance(importance_type) for model in self.models]\n",
    "        \n",
    "        out_df = pd.DataFrame()\n",
    "        for i, name in enumerate(feature_names):\n",
    "            out_df[name] = [v[i] for v in feature_importances_list]\n",
    "        return out_df"
   ]
  },
  {
   "cell_type": "code",
   "execution_count": null,
   "id": "7513accd",
   "metadata": {},
   "outputs": [],
   "source": [
    "def plot_importance(importance_df, max_features=100):\n",
    "    feature_order = list(importance_df.mean().sort_values(ascending=False).index[:max_features])\n",
    "    target_data = importance_df[feature_order]\n",
    "    sns.boxenplot(data=target_data, orient=\"h\", order=feature_order)"
   ]
  },
  {
   "cell_type": "code",
   "execution_count": null,
   "id": "66bb5603",
   "metadata": {},
   "outputs": [],
   "source": [
    "lgb_params = dict(tuner_cv.best_params)\n",
    "lgb_params[\"learning_rate\"] = 0.005\n",
    "lgb_params[\"early_stopping_round\"] = 200\n",
    "lgb_params[\"num_iterations\"] = 20000"
   ]
  },
  {
   "cell_type": "code",
   "execution_count": null,
   "id": "6e84f3b8",
   "metadata": {},
   "outputs": [],
   "source": [
    "folds_average_lgbm = FoldsAverageLGBM(folds)"
   ]
  },
  {
   "cell_type": "code",
   "execution_count": null,
   "id": "85293968",
   "metadata": {},
   "outputs": [],
   "source": [
    "folds_average_lgbm.fit(lgb_params, train_x, train_y)"
   ]
  },
  {
   "cell_type": "code",
   "execution_count": null,
   "id": "ff111bf6",
   "metadata": {},
   "outputs": [],
   "source": [
    "plt.figure(figsize=(20, 20))\n",
    "importance_df = folds_average_lgbm.get_feature_importance()\n",
    "plot_importance(importance_df)"
   ]
  },
  {
   "cell_type": "code",
   "execution_count": null,
   "id": "b44b001d",
   "metadata": {},
   "outputs": [],
   "source": [
    "np.sqrt(mean_squared_error(df_train.target, folds_average_lgbm.oof_preds))"
   ]
  },
  {
   "cell_type": "code",
   "execution_count": null,
   "id": "63fd089b",
   "metadata": {},
   "outputs": [],
   "source": [
    "y_pred = folds_average_lgbm.predict(test_x)"
   ]
  },
  {
   "cell_type": "code",
   "execution_count": null,
   "id": "5dc69eb9",
   "metadata": {},
   "outputs": [],
   "source": [
    "sub = df_sample.copy()\n",
    "sub[\"target\"] = y_pred\n",
    "\n",
    "sub.to_csv(\"submission_optuna_lgbm_ohe_v1.csv\", index=False)\n",
    "\n",
    "sub.head()"
   ]
  },
  {
   "cell_type": "code",
   "execution_count": null,
   "id": "5e1383ca",
   "metadata": {},
   "outputs": [],
   "source": [
    "nan"
   ]
  }
 ],
 "metadata": {},
 "nbformat": 4,
 "nbformat_minor": 5
}
