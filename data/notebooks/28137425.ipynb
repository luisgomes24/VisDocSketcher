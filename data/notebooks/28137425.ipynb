{
 "cells": [
  {
   "cell_type": "markdown",
   "id": "e259ffd3",
   "metadata": {},
   "source": [
    "# **Base de dados**\n",
    "\n",
    "Este banco de dados foi disponibilizado pela instituição de ensino EBAC. O conjunto possui informações de 10127 clientes com perfil variado. Através da análise do banco, desejamos identificar o perfil dos clientes inadimplentes e elaborar uma estratégia para mitigar danos."
   ]
  },
  {
   "cell_type": "code",
   "execution_count": null,
   "id": "bd2cf2bf",
   "metadata": {},
   "outputs": [],
   "source": [
    "import pandas as pd\n",
    "import numpy as np\n",
    "import seaborn as sns\n",
    "import matplotlib.pyplot as plt\n",
    "sns.set_style(\"whitegrid\")\n",
    "\n"
   ]
  },
  {
   "cell_type": "code",
   "execution_count": null,
   "id": "0eadd241",
   "metadata": {},
   "outputs": [],
   "source": [
    "leitura_df=pd.read_csv('/kaggle/input/analise-de-dados/Dados_bancarios.csv',na_values='na')\n",
    "display(leitura_df)"
   ]
  },
  {
   "cell_type": "markdown",
   "id": "c971ff94",
   "metadata": {},
   "source": [
    "* Podemos visualizar que existem valores faltantes para alguns clientes"
   ]
  },
  {
   "cell_type": "code",
   "execution_count": null,
   "id": "a9bc2f5e",
   "metadata": {},
   "outputs": [],
   "source": [
    "leitura_df.info()\n"
   ]
  },
  {
   "cell_type": "markdown",
   "id": "5abd1659",
   "metadata": {},
   "source": [
    "* Identificamos que as colunas *limite_credito e valor_transacoes_12m* estão com a tipificação errada, uma vez que nas colunas existem um float e não uma string"
   ]
  },
  {
   "cell_type": "code",
   "execution_count": null,
   "id": "8e011179",
   "metadata": {},
   "outputs": [],
   "source": [
    "total,_=leitura_df.shape\n",
    "adimplente,_=leitura_df[leitura_df['default']==0].shape\n",
    "inadimplente,_=leitura_df[leitura_df['default']==1].shape\n",
    "print(f'O percentual de clientes adimplente é de {round(100* adimplente / total ,2)}%')\n",
    "print(f'O percentual de clientes inadimplente é de {round(100* inadimplente / total ,2)}%')"
   ]
  },
  {
   "cell_type": "markdown",
   "id": "77bec2b1",
   "metadata": {},
   "source": [
    "* Como podemos visualizar, o percentual de clientes inadimplentes é de 16.07%"
   ]
  },
  {
   "cell_type": "code",
   "execution_count": null,
   "id": "5a91b3a7",
   "metadata": {},
   "outputs": [],
   "source": [
    "leitura_df.isna().any()"
   ]
  },
  {
   "cell_type": "markdown",
   "id": "808d3e6a",
   "metadata": {},
   "source": [
    "* Aqui verificamos que as colunas escolaridade, estado_civil e salario_anual possuem valores faltantes.  "
   ]
  },
  {
   "cell_type": "markdown",
   "id": "dbbf8b9d",
   "metadata": {},
   "source": [
    "# **Limpeza de dados:**"
   ]
  },
  {
   "cell_type": "code",
   "execution_count": null,
   "id": "a8ed7d8e",
   "metadata": {},
   "outputs": [],
   "source": [
    "leitura_df.dropna(inplace=True)"
   ]
  },
  {
   "cell_type": "code",
   "execution_count": null,
   "id": "ab407f56",
   "metadata": {},
   "outputs": [],
   "source": [
    "novo_total,_=leitura_df.shape\n",
    "novo_adimplente,_=leitura_df[leitura_df['default']==0].shape\n",
    "novo_inadimplente,_=leitura_df[leitura_df['default']==1].shape\n",
    "print(f'O novo percentual de clientes adimplente é de {round(100* novo_adimplente / novo_total ,2)}%')\n",
    "print(f'O percentual de clientes adimplente é de {round(100* adimplente / total ,2)}%')\n",
    "print(f'O novo percentual de clientes inadimplente é de {round(100* novo_inadimplente / novo_total ,2)}%')\n",
    "print(f'O percentual de clientes inadimplente é de {round(100* inadimplente / total ,2)}%')"
   ]
  },
  {
   "cell_type": "markdown",
   "id": "51c7da13",
   "metadata": {},
   "source": [
    "* Verificamos que após a limpeza dos valores faltantes não houve impacto relevante no banco."
   ]
  },
  {
   "cell_type": "code",
   "execution_count": null,
   "id": "a7fbc0aa",
   "metadata": {},
   "outputs": [],
   "source": [
    "leitura_df[['limite_credito','valor_transacoes_12m']]"
   ]
  },
  {
   "cell_type": "markdown",
   "id": "b30c332c",
   "metadata": {},
   "source": [
    "* Identificamos que a tipificação das duas colunas estão erradas pois não seguem as regras de pontuação Python "
   ]
  },
  {
   "cell_type": "code",
   "execution_count": null,
   "id": "743a8975",
   "metadata": {},
   "outputs": [],
   "source": [
    "fn=lambda valor:float(valor.replace('.','').replace(',','.'))"
   ]
  },
  {
   "cell_type": "markdown",
   "id": "8eb31d70",
   "metadata": {},
   "source": [
    "* Ajustando a pontuação de acordo com normas Python"
   ]
  },
  {
   "cell_type": "code",
   "execution_count": null,
   "id": "80a382e2",
   "metadata": {},
   "outputs": [],
   "source": [
    "leitura_df['limite_credito']=leitura_df['limite_credito'].apply(fn)\n",
    "leitura_df['valor_transacoes_12m']=leitura_df['valor_transacoes_12m'].apply(fn)"
   ]
  },
  {
   "cell_type": "code",
   "execution_count": null,
   "id": "9ada622f",
   "metadata": {},
   "outputs": [],
   "source": [
    "leitura_df[['limite_credito','valor_transacoes_12m']]"
   ]
  },
  {
   "cell_type": "markdown",
   "id": "6300270a",
   "metadata": {},
   "source": [
    "* Colunas ajustadas de acordo com a norma Python"
   ]
  },
  {
   "cell_type": "code",
   "execution_count": null,
   "id": "feadb617",
   "metadata": {},
   "outputs": [],
   "source": [
    "leitura_df.select_dtypes('object').describe().transpose()"
   ]
  },
  {
   "cell_type": "code",
   "execution_count": null,
   "id": "c97e70c5",
   "metadata": {},
   "outputs": [],
   "source": [
    "leitura_df.drop('id',axis=1).select_dtypes('number').describe().transpose()"
   ]
  },
  {
   "cell_type": "code",
   "execution_count": null,
   "id": "d0b0d5be",
   "metadata": {},
   "outputs": [],
   "source": [
    "coluna='escolaridade'\n",
    "titulos=['Escolaridade dos Cliente',\n",
    "         'Escolaridade dos Clientes Adimplentes',\n",
    "         'Escolaridade dos Cliente Inadimplentes']\n"
   ]
  },
  {
   "cell_type": "code",
   "execution_count": null,
   "id": "a4351961",
   "metadata": {},
   "outputs": [],
   "source": [
    "adimplente_df=leitura_df[leitura_df['default']==0]\n",
    "inadimplente_df=leitura_df[leitura_df['default']==1]"
   ]
  },
  {
   "cell_type": "code",
   "execution_count": null,
   "id": "23d4f500",
   "metadata": {},
   "outputs": [],
   "source": [
    "eixo=0\n",
    "max_y=0 \n",
    "max=leitura_df.select_dtypes('object').describe()[coluna]['freq']*1.1\n",
    "figura, eixos=plt.subplots(1,3, figsize=(20,5),sharex=True)\n",
    "\n",
    "for dataframe in [leitura_df,adimplente_df,inadimplente_df]:\n",
    "  leitura_df_to_plot=dataframe[coluna].value_counts().to_frame()\n",
    "  leitura_df_to_plot.rename(columns={coluna:'frequencia_absoluta'},inplace=True)\n",
    "  leitura_df_to_plot[coluna]=leitura_df_to_plot.index\n",
    "  leitura_df_to_plot.sort_values(by=[coluna], inplace=True)\n",
    "  leitura_df_to_plot.sort_values(by=[coluna])\n",
    "\n",
    "  f= sns.barplot(x=leitura_df_to_plot[coluna],y=leitura_df_to_plot['frequencia_absoluta'], ax=eixos[eixo])\n",
    "  f.set(title=titulos[eixo], xlabel=coluna.capitalize(),ylabel='Frequência Absoluta')\n",
    "  f.set_xticklabels(labels=f.get_xticklabels(),rotation=90)\n",
    "  _,max_y_f=f.get_ylim()\n",
    "  max_y=max_y_f if max_y_f > max_y else max_y\n",
    "  f.set(ylim=(0,max_y))\n",
    "  eixo+=1\n",
    "\n",
    "  figura.show()"
   ]
  },
  {
   "cell_type": "markdown",
   "id": "1761f379",
   "metadata": {},
   "source": [
    "* Não houve variação entre os gráficos"
   ]
  },
  {
   "cell_type": "code",
   "execution_count": null,
   "id": "361ba83b",
   "metadata": {},
   "outputs": [],
   "source": [
    "coluna='qtd_transacoes_12m'\n",
    "titulos=['Qtd de transações dos clientes',\n",
    "         'Qtd de transaçoes dos clientes adimplentes',\n",
    "         'Qtd de transações do clientes inadimplentes']"
   ]
  },
  {
   "cell_type": "code",
   "execution_count": null,
   "id": "9c4edcd9",
   "metadata": {},
   "outputs": [],
   "source": [
    "eixo = 0\n",
    "max_y = 0\n",
    "figura, eixos = plt.subplots(1,3, figsize=(20, 5), sharex=True)\n",
    "for dataframe in [leitura_df, adimplente_df, inadimplente_df]:\n",
    "  f = sns.histplot(x=coluna, data=dataframe, stat='count', ax=eixos[eixo])\n",
    "  f.set(title=titulos[eixo], xlabel=coluna.capitalize(), ylabel='Frequência Absoluta')\n",
    "  _, max_y_f = f.get_ylim()\n",
    "  max_y = max_y_f if max_y_f > max_y else max_y\n",
    "  f.set(ylim=(0, max_y))\n",
    "  eixo += 1\n",
    "figura.show()\n"
   ]
  },
  {
   "cell_type": "markdown",
   "id": "0ba4cba5",
   "metadata": {},
   "source": [
    "* Idenficamos que o perfil dos clientes inadimplentes são daqueles que realizaram entre 30 a 50 transações"
   ]
  },
  {
   "cell_type": "code",
   "execution_count": null,
   "id": "56235fba",
   "metadata": {},
   "outputs": [],
   "source": [
    "coluna='limite_credito'\n",
    "titulos=['Limite de credito dos clientes',\n",
    "         'Limite de credito dos clientes adimplentes',\n",
    "         'Limite de credito dos cliente inadimplentes']"
   ]
  },
  {
   "cell_type": "code",
   "execution_count": null,
   "id": "6dee9a33",
   "metadata": {},
   "outputs": [],
   "source": [
    "eixo = 0\n",
    "max_y = 0\n",
    "figura, eixos = plt.subplots(1,3, figsize=(20, 5), sharex=True)\n",
    "for dataframe in [leitura_df, adimplente_df, inadimplente_df]:\n",
    "  f = sns.histplot(x=coluna, data=dataframe, stat='count', ax=eixos[eixo])\n",
    "  f.set(title=titulos[eixo], xlabel=coluna.capitalize(), ylabel='Frequência Absoluta')\n",
    "  _, max_y_f = f.get_ylim()\n",
    "  max_y = max_y_f if max_y_f > max_y else max_y\n",
    "  f.set(ylim=(0, max_y))\n",
    "  eixo += 1\n",
    "figura.show()"
   ]
  },
  {
   "cell_type": "markdown",
   "id": "757d7d11",
   "metadata": {},
   "source": [
    "* Não houve variação entre os gráficos"
   ]
  },
  {
   "cell_type": "markdown",
   "id": "9bab7ef7",
   "metadata": {},
   "source": [
    "# **Conclusão**\n",
    "\n",
    "Uma possível medida para mitigar os índices de inadimplência, é enviar um pop up com informativo de educação financeira para os clientes com transações entre 30 a 50."
   ]
  },
  {
   "cell_type": "code",
   "execution_count": null,
   "id": "683062e4",
   "metadata": {},
   "outputs": [],
   "source": [
    "nan"
   ]
  },
  {
   "cell_type": "code",
   "execution_count": null,
   "id": "738f6841",
   "metadata": {},
   "outputs": [],
   "source": [
    "nan"
   ]
  },
  {
   "cell_type": "code",
   "execution_count": null,
   "id": "6f85b5c6",
   "metadata": {},
   "outputs": [],
   "source": [
    "nan"
   ]
  },
  {
   "cell_type": "code",
   "execution_count": null,
   "id": "41df08c5",
   "metadata": {},
   "outputs": [],
   "source": [
    "nan"
   ]
  },
  {
   "cell_type": "code",
   "execution_count": null,
   "id": "42be9ae9",
   "metadata": {},
   "outputs": [],
   "source": [
    "nan"
   ]
  },
  {
   "cell_type": "code",
   "execution_count": null,
   "id": "3b6f590b",
   "metadata": {},
   "outputs": [],
   "source": [
    "nan"
   ]
  },
  {
   "cell_type": "code",
   "execution_count": null,
   "id": "cd8f6afd",
   "metadata": {},
   "outputs": [],
   "source": [
    "nan"
   ]
  },
  {
   "cell_type": "code",
   "execution_count": null,
   "id": "aaacf4a4",
   "metadata": {},
   "outputs": [],
   "source": [
    "nan"
   ]
  },
  {
   "cell_type": "code",
   "execution_count": null,
   "id": "d200d04e",
   "metadata": {},
   "outputs": [],
   "source": [
    "nan"
   ]
  },
  {
   "cell_type": "code",
   "execution_count": null,
   "id": "1f2db085",
   "metadata": {},
   "outputs": [],
   "source": [
    "nan"
   ]
  },
  {
   "cell_type": "code",
   "execution_count": null,
   "id": "66b91d1b",
   "metadata": {},
   "outputs": [],
   "source": [
    "nan"
   ]
  },
  {
   "cell_type": "code",
   "execution_count": null,
   "id": "d6aef3b0",
   "metadata": {},
   "outputs": [],
   "source": [
    "nan"
   ]
  },
  {
   "cell_type": "code",
   "execution_count": null,
   "id": "e9cacf05",
   "metadata": {},
   "outputs": [],
   "source": [
    "nan"
   ]
  },
  {
   "cell_type": "code",
   "execution_count": null,
   "id": "e53424de",
   "metadata": {},
   "outputs": [],
   "source": [
    "nan"
   ]
  }
 ],
 "metadata": {},
 "nbformat": 4,
 "nbformat_minor": 5
}
