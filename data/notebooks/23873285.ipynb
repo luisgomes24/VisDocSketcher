{
 "cells": [
  {
   "cell_type": "code",
   "execution_count": null,
   "id": "10ebfb82",
   "metadata": {},
   "outputs": [],
   "source": [
    "# This Python 3 environment comes with many helpful analytics libraries installed\n",
    "# It is defined by the kaggle/python Docker image: https://github.com/kaggle/docker-python\n",
    "# For example, here's several helpful packages to load\n",
    "\n",
    "import numpy as np # linear algebra\n",
    "import pandas as pd # data processing, CSV file I/O (e.g. pd.read_csv)\n",
    "\n",
    "# Input data files are available in the read-only \"../input/\" directory\n",
    "# For example, running this (by clicking run or pressing Shift+Enter) will list all files under the input directory\n",
    "\n",
    "import os\n",
    "for dirname, _, filenames in os.walk('/kaggle/input'):\n",
    "    for filename in filenames:\n",
    "        print(os.path.join(dirname, filename))\n",
    "\n",
    "# You can write up to 20GB to the current directory (/kaggle/working/) that gets preserved as output when you create a version using \"Save & Run All\" \n",
    "# You can also write temporary files to /kaggle/temp/, but they won't be saved outside of the current session"
   ]
  },
  {
   "cell_type": "markdown",
   "id": "8448d790",
   "metadata": {},
   "source": [
    "# Telco Customer- Customer Lifetime Value "
   ]
  },
  {
   "cell_type": "markdown",
   "id": "96a2576c",
   "metadata": {},
   "source": [
    "Customer Lifetime Value :It is the monetary value that a customer will bring to this company during her/his relationship-communication with a company."
   ]
  },
  {
   "cell_type": "markdown",
   "id": "50832c61",
   "metadata": {},
   "source": [
    "![](https://unscrambl.com/wp-content/uploads/2021/02/Capture3-1536x953.png)"
   ]
  },
  {
   "cell_type": "code",
   "execution_count": null,
   "id": "ef563099",
   "metadata": {},
   "outputs": [],
   "source": [
    "#importing libraries\n",
    "import pandas as pd\n",
    "from sklearn.preprocessing import MinMaxScaler"
   ]
  },
  {
   "cell_type": "code",
   "execution_count": null,
   "id": "ac4deb3d",
   "metadata": {},
   "outputs": [],
   "source": [
    "#Loading the Data Set\n",
    "df =pd.read_csv('/kaggle/input/telco-customer-churn/WA_Fn-UseC_-Telco-Customer-Churn.csv')"
   ]
  },
  {
   "cell_type": "code",
   "execution_count": null,
   "id": "dd581fb9",
   "metadata": {},
   "outputs": [],
   "source": [
    "df.head()"
   ]
  },
  {
   "cell_type": "markdown",
   "id": "a1574377",
   "metadata": {},
   "source": [
    "# General information about the dataset\n"
   ]
  },
  {
   "cell_type": "code",
   "execution_count": null,
   "id": "7a614069",
   "metadata": {},
   "outputs": [],
   "source": [
    "df.shape"
   ]
  },
  {
   "cell_type": "code",
   "execution_count": null,
   "id": "e06aee36",
   "metadata": {},
   "outputs": [],
   "source": [
    "df.info()"
   ]
  },
  {
   "cell_type": "code",
   "execution_count": null,
   "id": "3b7f8fd6",
   "metadata": {},
   "outputs": [],
   "source": [
    "#Sum of missing observations in the data set\n",
    "df.isnull().sum()"
   ]
  },
  {
   "cell_type": "code",
   "execution_count": null,
   "id": "e24ad488",
   "metadata": {},
   "outputs": [],
   "source": [
    "#Descriptive statistics of the dataset\n",
    "df.describe().T"
   ]
  },
  {
   "cell_type": "code",
   "execution_count": null,
   "id": "d04c5089",
   "metadata": {},
   "outputs": [],
   "source": [
    "#type change\n",
    "df['TotalCharges'] = pd.to_numeric(df['TotalCharges'],errors='coerce')"
   ]
  },
  {
   "cell_type": "code",
   "execution_count": null,
   "id": "7bb3f33e",
   "metadata": {},
   "outputs": [],
   "source": [
    "#Giving new values to the \"Contract\" variable\n",
    "\n",
    "df[\"Contract\"].replace(\"Month-to-month\",1,inplace=True)\n",
    "df[\"Contract\"].replace(\"One year\",12,inplace=True)\n",
    "df[\"Contract\"].replace(\"Two year\",24,inplace=True)\n",
    "df[\"Contract\"] = df[\"Contract\"].astype(int)"
   ]
  },
  {
   "cell_type": "markdown",
   "id": "5129afa8",
   "metadata": {},
   "source": [
    "I thought that when we multiply the monthly amount collected from the customer and the contract period of the customer, we can find the total amount to be paid.I created a new variable called “new_totalcharges”.When I compared this new variable with the “TotalCharges” variable, I saw that the two were different."
   ]
  },
  {
   "cell_type": "code",
   "execution_count": null,
   "id": "56794f8c",
   "metadata": {},
   "outputs": [],
   "source": [
    "df[\"new_totalcharges\"]=df[\"MonthlyCharges\"]*df[\"Contract\"]\n",
    "df[[\"new_totalcharges\",\"TotalCharges\"]].head()"
   ]
  },
  {
   "cell_type": "code",
   "execution_count": null,
   "id": "d076fd58",
   "metadata": {},
   "outputs": [],
   "source": [
    "#Number of transactions\n",
    "df[\"Transection\"]=df[\"TotalCharges\"]/df[\"MonthlyCharges\"]\n",
    "df['Transection']=round( df['Transection'],0)"
   ]
  },
  {
   "cell_type": "markdown",
   "id": "229ac539",
   "metadata": {},
   "source": [
    "# Customer Lifetime Value calculation"
   ]
  },
  {
   "cell_type": "code",
   "execution_count": null,
   "id": "9f56f7c4",
   "metadata": {},
   "outputs": [],
   "source": [
    "\n",
    "#Customer Lifetime Value calculation\n",
    "\n",
    "def cltv_c(dataframe, profit=0.10):\n",
    "\n",
    "    cltv_c = dataframe.groupby('customerID').agg({'Contract': lambda x: x.sum(),\n",
    "                                                   'Transection': lambda x: x.sum(),\n",
    "                                                   'TotalCharges': lambda x: x.sum()})\n",
    "\n",
    "    cltv_c.columns = ['total_transaction', 'total_unit', 'total_price']\n",
    "\n",
    "    # Avg_order_value\n",
    "    cltv_c['avg_order_value'] = cltv_c['total_price'] / cltv_c['total_transaction']\n",
    "\n",
    "    # Purchase_Frequency\n",
    "    cltv_c[\"purchase_frequency\"] = cltv_c['total_transaction'] / cltv_c.shape[0]\n",
    "\n",
    "    # Repeat rate & Churn rate\n",
    "    repeat_rate = cltv_c[cltv_c.total_transaction > 1].shape[0] / cltv_c.shape[0]\n",
    "    churn_rate = 1 - repeat_rate\n",
    "\n",
    "    # Profit_margin\n",
    "    cltv_c['profit_margin'] = cltv_c['total_price'] * profit\n",
    "\n",
    "    # Customer Value\n",
    "    cltv_c['customer_value'] = (cltv_c['avg_order_value'] * cltv_c[\"purchase_frequency\"])\n",
    "\n",
    "    # Customer Lifetime Value\n",
    "    cltv_c['cltv'] = (cltv_c['customer_value'] / churn_rate) * cltv_c['profit_margin']\n",
    "\n",
    "    scaler = MinMaxScaler(feature_range=(0, 1))\n",
    "    scaler.fit(cltv_c[[\"cltv\"]])\n",
    "    cltv_c[\"scaled_cltv\"] = scaler.transform(cltv_c[[\"cltv\"]])\n",
    "\n",
    "    # Segment\n",
    "    cltv_c[\"segment\"] = pd.qcut(cltv_c[\"scaled_cltv\"], 4, labels=[\"D\", \"C\", \"B\", \"A\"])\n",
    "\n",
    "    return cltv_c\n",
    "\n",
    "final_df = cltv_c(df)"
   ]
  },
  {
   "cell_type": "code",
   "execution_count": null,
   "id": "7c18a7ac",
   "metadata": {},
   "outputs": [],
   "source": [
    "final_df.reset_index().head()"
   ]
  },
  {
   "cell_type": "code",
   "execution_count": null,
   "id": "394e5464",
   "metadata": {},
   "outputs": [],
   "source": [
    "#averages of scaled_cltv in segment breakdown\n",
    "final_df.groupby(\"segment\").agg({\"scaled_cltv\": \"mean\"})"
   ]
  },
  {
   "cell_type": "code",
   "execution_count": null,
   "id": "9be78d1a",
   "metadata": {},
   "outputs": [],
   "source": [
    "#Number of customers in group A segment\n",
    "final_df[final_df[\"segment\"]==\"A\"].shape"
   ]
  },
  {
   "cell_type": "code",
   "execution_count": null,
   "id": "530592a9",
   "metadata": {},
   "outputs": [],
   "source": [
    "#Number of customers in group D segment\n",
    "final_df[final_df[\"segment\"]==\"D\"].shape"
   ]
  },
  {
   "cell_type": "code",
   "execution_count": null,
   "id": "d865531f",
   "metadata": {},
   "outputs": [],
   "source": [
    "#number of customers with churn in the dataset\n",
    "df[df[\"Churn\"]==\"Yes\"].shape"
   ]
  },
  {
   "cell_type": "markdown",
   "id": "02495245",
   "metadata": {},
   "source": [
    "Churn refers to the number of customers that the business lost in a period."
   ]
  },
  {
   "cell_type": "markdown",
   "id": "3de187a9",
   "metadata": {},
   "source": [
    "# Conclusion"
   ]
  },
  {
   "cell_type": "markdown",
   "id": "084901af",
   "metadata": {},
   "source": [
    "\n",
    "We divided our customers into segments by making a sorting according to the CLTV values ​​to be calculated for each customer and by dividing at certain points according to the CLTV values ​​and creating groups."
   ]
  },
  {
   "cell_type": "markdown",
   "id": "01e9047d",
   "metadata": {},
   "source": [
    "Customers in segment A have the highest returns."
   ]
  },
  {
   "cell_type": "markdown",
   "id": "a1ae5e6c",
   "metadata": {},
   "source": [
    "Purpose: to find its value in the company by comparing the behavior of all customers in our company and considering the buying habits of a single customer."
   ]
  },
  {
   "cell_type": "code",
   "execution_count": null,
   "id": "0b0c31ba",
   "metadata": {},
   "outputs": [],
   "source": [
    "nan"
   ]
  },
  {
   "cell_type": "code",
   "execution_count": null,
   "id": "e16e2ece",
   "metadata": {},
   "outputs": [],
   "source": [
    "nan"
   ]
  },
  {
   "cell_type": "code",
   "execution_count": null,
   "id": "0d42f110",
   "metadata": {},
   "outputs": [],
   "source": [
    "nan"
   ]
  },
  {
   "cell_type": "code",
   "execution_count": null,
   "id": "46904b2a",
   "metadata": {},
   "outputs": [],
   "source": [
    "nan"
   ]
  },
  {
   "cell_type": "code",
   "execution_count": null,
   "id": "975748ea",
   "metadata": {},
   "outputs": [],
   "source": [
    "nan"
   ]
  },
  {
   "cell_type": "code",
   "execution_count": null,
   "id": "0b67aa68",
   "metadata": {},
   "outputs": [],
   "source": [
    "nan"
   ]
  },
  {
   "cell_type": "code",
   "execution_count": null,
   "id": "03a0c2cc",
   "metadata": {},
   "outputs": [],
   "source": [
    "nan"
   ]
  },
  {
   "cell_type": "code",
   "execution_count": null,
   "id": "2f60dff7",
   "metadata": {},
   "outputs": [],
   "source": [
    "nan"
   ]
  },
  {
   "cell_type": "code",
   "execution_count": null,
   "id": "1d262376",
   "metadata": {},
   "outputs": [],
   "source": [
    "nan"
   ]
  },
  {
   "cell_type": "code",
   "execution_count": null,
   "id": "f5edab0d",
   "metadata": {},
   "outputs": [],
   "source": [
    "nan"
   ]
  }
 ],
 "metadata": {},
 "nbformat": 4,
 "nbformat_minor": 5
}
