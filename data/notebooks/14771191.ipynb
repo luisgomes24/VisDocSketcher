{
 "cells": [
  {
   "cell_type": "markdown",
   "id": "a792b451",
   "metadata": {},
   "source": [
    "# Introduction \n",
    "Hi everyone This is just a test notebook for testing the growth of my Tomato plants.\n",
    "\n",
    "Lets import some useful libraries:"
   ]
  },
  {
   "cell_type": "code",
   "execution_count": null,
   "id": "ed84e910",
   "metadata": {},
   "outputs": [],
   "source": [
    "import numpy as np\n",
    "import pandas as pd\n",
    "import tensorflow as tf\n",
    "import matplotlib.pyplot as plt\n",
    "\n",
    "\n",
    "MyCnn = tf.keras.models.load_model('/kaggle/input/home-grown-tomato-plants/TomatoHealth.h5')\n",
    "# printing model summary \n",
    "MyCnn.summary()"
   ]
  },
  {
   "cell_type": "code",
   "execution_count": null,
   "id": "92c3748b",
   "metadata": {},
   "outputs": [],
   "source": [
    "# loading Class names\n",
    "text_file = open(\"/kaggle/input/home-grown-tomato-plants/classNames.txt\", \"r\")\n",
    "lines = text_file.readlines()\n",
    "import re\n",
    "lines = re.sub('\\[|\\]|\\\"|\\'', '', str(lines))\n",
    "classNames = lines.split(',')\n",
    "print(classNames)\n"
   ]
  },
  {
   "cell_type": "markdown",
   "id": "595c87f8",
   "metadata": {},
   "source": [
    "# The testing function"
   ]
  },
  {
   "cell_type": "code",
   "execution_count": null,
   "id": "3b4ee7fe",
   "metadata": {},
   "outputs": [],
   "source": [
    "def Tester(imgPath, model):\n",
    "    img = plt.imread(imgPath)\n",
    "    predictions = model.predict(np.array([img]))[0]\n",
    " \n",
    "    predictions = classNames[np.argmax(predictions)]\n",
    "    plt.figure(figsize = (10, 7))\n",
    "    plt.imshow(img)\n",
    "    plt.title('Predicted label: ' + predictions)"
   ]
  },
  {
   "cell_type": "code",
   "execution_count": null,
   "id": "accd03d7",
   "metadata": {},
   "outputs": [],
   "source": [
    "Tester('/kaggle/input/home-grown-tomato-plants/tomato_validatio/tomato_validatio/IMG_20210209_135136229_HDR.jpg', MyCnn)"
   ]
  },
  {
   "cell_type": "code",
   "execution_count": null,
   "id": "855e7083",
   "metadata": {},
   "outputs": [],
   "source": [
    "Tester('/kaggle/input/home-grown-tomato-plants/tomato_validatio/tomato_validatio/IMG_20210208_215530576_HDR.jpg', MyCnn)"
   ]
  },
  {
   "cell_type": "code",
   "execution_count": null,
   "id": "5c4b3ff2",
   "metadata": {},
   "outputs": [],
   "source": [
    "Tester('/kaggle/input/home-grown-tomato-plants/tomato_validatio/tomato_validatio/IMG_20210209_135103763_HDR.jpg', MyCnn)"
   ]
  },
  {
   "cell_type": "code",
   "execution_count": null,
   "id": "e0d2eeab",
   "metadata": {},
   "outputs": [],
   "source": [
    "Tester('/kaggle/input/home-grown-tomato-plants/tomato_validatio/tomato_validatio/IMG_20210209_135154611_HDR.jpg', MyCnn)"
   ]
  }
 ],
 "metadata": {},
 "nbformat": 4,
 "nbformat_minor": 5
}
