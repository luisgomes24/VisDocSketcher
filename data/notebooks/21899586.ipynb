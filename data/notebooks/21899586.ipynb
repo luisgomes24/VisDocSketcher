{
 "cells": [
  {
   "cell_type": "code",
   "execution_count": null,
   "id": "d3494de4",
   "metadata": {},
   "outputs": [],
   "source": [
    "# This Python 3 environment comes with many helpful analytics libraries installed\n",
    "# It is defined by the kaggle/python Docker image: https://github.com/kaggle/docker-python\n",
    "# For example, here's several helpful packages to load\n",
    "\n",
    "import numpy as np # linear algebra\n",
    "import pandas as pd # data processing, CSV file I/O (e.g. pd.read_csv)\n",
    "\n",
    "# Input data files are available in the read-only \"../input/\" directory\n",
    "# For example, running this (by clicking run or pressing Shift+Enter) will list all files under the input directory\n",
    "\n",
    "import os\n",
    "for dirname, _, filenames in os.walk('/kaggle/input'):\n",
    "    for filename in filenames:\n",
    "        print(os.path.join(dirname, filename))\n",
    "\n",
    "# You can write up to 20GB to the current directory (/kaggle/working/) that gets preserved as output when you create a version using \"Save & Run All\" \n",
    "# You can also write temporary files to /kaggle/temp/, but they won't be saved outside of the current session"
   ]
  },
  {
   "cell_type": "code",
   "execution_count": null,
   "id": "26cd6d4f",
   "metadata": {},
   "outputs": [],
   "source": [
    "train = pd.read_csv('/kaggle/input/shelter-animal-outcomes/train.csv.gz')\n",
    "train"
   ]
  },
  {
   "cell_type": "code",
   "execution_count": null,
   "id": "c96cd33c",
   "metadata": {},
   "outputs": [],
   "source": [
    "train['AnimalType'].nunique()"
   ]
  },
  {
   "cell_type": "code",
   "execution_count": null,
   "id": "110bb6a2",
   "metadata": {},
   "outputs": [],
   "source": [
    "alldata = pd.concat([train,test], ignore_index = True)\n",
    "alldata"
   ]
  },
  {
   "cell_type": "code",
   "execution_count": null,
   "id": "985a8383",
   "metadata": {},
   "outputs": [],
   "source": [
    "alldata['Breed'].value_counts()"
   ]
  },
  {
   "cell_type": "code",
   "execution_count": null,
   "id": "08242343",
   "metadata": {},
   "outputs": [],
   "source": [
    "from sklearn.feature_extraction.text import TfidfVectorizer\n",
    "\n",
    "tf = TfidfVectorizer()"
   ]
  },
  {
   "cell_type": "code",
   "execution_count": null,
   "id": "c5e15f52",
   "metadata": {},
   "outputs": [],
   "source": [
    "breed_text = tf.fit_transform(alldata['Breed'])\n",
    "breed_text"
   ]
  },
  {
   "cell_type": "code",
   "execution_count": null,
   "id": "a44519de",
   "metadata": {},
   "outputs": [],
   "source": [
    "breed_text[0]"
   ]
  },
  {
   "cell_type": "code",
   "execution_count": null,
   "id": "85f89db2",
   "metadata": {},
   "outputs": [],
   "source": [
    "print(breed_text[0])"
   ]
  },
  {
   "cell_type": "code",
   "execution_count": null,
   "id": "af96c565",
   "metadata": {},
   "outputs": [],
   "source": [
    "pd.options.display.max_columns = 999\n",
    "pd.DataFrame(breed_text.todense())"
   ]
  },
  {
   "cell_type": "code",
   "execution_count": null,
   "id": "785a4d62",
   "metadata": {},
   "outputs": [],
   "source": [
    "from sklearn.decomposition import TruncatedSVD\n",
    "\n",
    "svd = TruncatedSVD(n_components = 5)"
   ]
  },
  {
   "cell_type": "code",
   "execution_count": null,
   "id": "bc9fc084",
   "metadata": {},
   "outputs": [],
   "source": [
    "breed_svd = svd.fit_transform(breed_text)\n",
    "breed_svd"
   ]
  },
  {
   "cell_type": "code",
   "execution_count": null,
   "id": "ff1d97a3",
   "metadata": {},
   "outputs": [],
   "source": [
    "breed = pd.DataFrame(breed_svd)\n",
    "breed"
   ]
  },
  {
   "cell_type": "code",
   "execution_count": null,
   "id": "d2114ccb",
   "metadata": {},
   "outputs": [],
   "source": [
    "alldata = pd.concat([alldata, breed], axis =1)\n",
    "alldata"
   ]
  },
  {
   "cell_type": "code",
   "execution_count": null,
   "id": "93aac378",
   "metadata": {},
   "outputs": [],
   "source": [
    "alldata.head(3)"
   ]
  },
  {
   "cell_type": "code",
   "execution_count": null,
   "id": "ca16be74",
   "metadata": {},
   "outputs": [],
   "source": [
    "alldata.columns()"
   ]
  },
  {
   "cell_type": "code",
   "execution_count": null,
   "id": "bc07f01a",
   "metadata": {},
   "outputs": [],
   "source": [
    "nan"
   ]
  },
  {
   "cell_type": "code",
   "execution_count": null,
   "id": "e8b21d2e",
   "metadata": {},
   "outputs": [],
   "source": [
    "nan"
   ]
  },
  {
   "cell_type": "code",
   "execution_count": null,
   "id": "d00b057c",
   "metadata": {},
   "outputs": [],
   "source": [
    "# test = pd.read_csv('/kaggle/input/shelter-animal-outcomes/test.csv.gz')\n",
    "# test.head(3)"
   ]
  },
  {
   "cell_type": "code",
   "execution_count": null,
   "id": "e1a70710",
   "metadata": {},
   "outputs": [],
   "source": [
    "sub = pd.read_csv('/kaggle/input/shelter-animal-outcomes/sample_submission.csv.gz')\n",
    "\n",
    "sub"
   ]
  },
  {
   "cell_type": "code",
   "execution_count": null,
   "id": "acd89063",
   "metadata": {},
   "outputs": [],
   "source": [
    "nan"
   ]
  },
  {
   "cell_type": "code",
   "execution_count": null,
   "id": "2462b36c",
   "metadata": {},
   "outputs": [],
   "source": [
    "nan"
   ]
  },
  {
   "cell_type": "code",
   "execution_count": null,
   "id": "41bb6042",
   "metadata": {},
   "outputs": [],
   "source": [
    "nan"
   ]
  },
  {
   "cell_type": "code",
   "execution_count": null,
   "id": "4350a914",
   "metadata": {},
   "outputs": [],
   "source": [
    "nan"
   ]
  },
  {
   "cell_type": "code",
   "execution_count": null,
   "id": "9ee0e71e",
   "metadata": {},
   "outputs": [],
   "source": [
    "nan"
   ]
  },
  {
   "cell_type": "code",
   "execution_count": null,
   "id": "2dddd21d",
   "metadata": {},
   "outputs": [],
   "source": [
    "nan"
   ]
  },
  {
   "cell_type": "code",
   "execution_count": null,
   "id": "52fffa9c",
   "metadata": {},
   "outputs": [],
   "source": [
    "nan"
   ]
  }
 ],
 "metadata": {},
 "nbformat": 4,
 "nbformat_minor": 5
}
