{
 "cells": [
  {
   "cell_type": "code",
   "execution_count": null,
   "id": "c55ed83b",
   "metadata": {},
   "outputs": [],
   "source": [
    "# This Python 3 environment comes with many helpful analytics libraries installed\n",
    "# It is defined by the kaggle/python Docker image: https://github.com/kaggle/docker-python\n",
    "# For example, here's several helpful packages to load\n",
    "\n",
    "import numpy as np # linear algebra\n",
    "import pandas as pd # data processing, CSV file I/O (e.g. pd.read_csv)\n",
    "\n",
    "# Input data files are available in the read-only \"../input/\" directory\n",
    "# For example, running this (by clicking run or pressing Shift+Enter) will list all files under the input directory\n",
    "\n",
    "import os\n",
    "for dirname, _, filenames in os.walk('/kaggle/input'):\n",
    "    for filename in filenames:\n",
    "        print(os.path.join(dirname, filename))\n",
    "\n",
    "# You can write up to 20GB to the current directory (/kaggle/working/) that gets preserved as output when you create a version using \"Save & Run All\" \n",
    "# You can also write temporary files to /kaggle/temp/, but they won't be saved outside of the current session"
   ]
  },
  {
   "cell_type": "code",
   "execution_count": null,
   "id": "f14ac747",
   "metadata": {},
   "outputs": [],
   "source": [
    "from datetime import datetime\n",
    "import matplotlib.pyplot as plt\n",
    "import seaborn as sns\n",
    "\n",
    "%matplotlib inline\n",
    "\n",
    "plt.rcParams['figure.figsize'] = [12,6]\n",
    "plt.rcParams['figure.dpi'] = 70\n",
    "sns.set_theme(style='white')\n",
    "\n",
    "df = pd.read_csv('../input/unicorn-startups-cleaned/Unicorn_Clean.csv')\n",
    "df = df.drop('Unnamed: 0', axis=1)\n",
    "df.head()"
   ]
  },
  {
   "cell_type": "code",
   "execution_count": null,
   "id": "cd0b66fe",
   "metadata": {},
   "outputs": [],
   "source": [
    "industrydf = df.groupby(by='Industry').sum().sort_values(by='Valuation ($B)', ascending=False)\n",
    "industrydf"
   ]
  },
  {
   "cell_type": "code",
   "execution_count": null,
   "id": "bf2dfac0",
   "metadata": {},
   "outputs": [],
   "source": [
    "industry = sns.barplot(data=industrydf, x = industrydf.index, y = 'Valuation ($B)', palette = 'Purples_r')\n",
    "industry.set_xticklabels(industry.get_xticklabels(), rotation=90)\n",
    "industry.set_title('Highest Valued Industries',fontsize=16);"
   ]
  },
  {
   "cell_type": "code",
   "execution_count": null,
   "id": "f256b945",
   "metadata": {},
   "outputs": [],
   "source": [
    "companydf20 = df.groupby(by='Company').sum().sort_values(by='Valuation ($B)', ascending=False).head(20)\n",
    "companydf20.head(10)"
   ]
  },
  {
   "cell_type": "code",
   "execution_count": null,
   "id": "3e3c1104",
   "metadata": {},
   "outputs": [],
   "source": [
    "company = sns.barplot(data=companydf20, x = companydf20.index, y = 'Valuation ($B)', palette = 'Purples_r')\n",
    "company.set_xticklabels(company.get_xticklabels(), rotation=90)\n",
    "company.set_title('Highest Valued Companies',fontsize=16);"
   ]
  },
  {
   "cell_type": "code",
   "execution_count": null,
   "id": "1c4e8bb1",
   "metadata": {},
   "outputs": [],
   "source": [
    "df['Date Joined'] = pd.to_datetime(df['Date Joined'])\n",
    "date = sns.histplot(data=df, x = 'Date Joined', palette = 'Purples_r')\n",
    "date.set_title('Rise of the Unicorn',fontsize=16);\n",
    "#The number of unicorn companies is increasing as time goes on"
   ]
  },
  {
   "cell_type": "code",
   "execution_count": null,
   "id": "0f303b45",
   "metadata": {},
   "outputs": [],
   "source": [
    "# applying the groupby function on df\n",
    "dates = df.groupby(['Date Joined', 'Company','Country','Industry'])['Valuation ($B)'].sum()\n",
    "dates = pd.DataFrame(dates, columns = ['Valuation ($B)'])\n",
    "dates.reset_index(inplace=True)\n",
    "dates = dates.groupby([pd.Grouper(key='Date Joined',freq='M'), \"Company\", 'Country', 'Industry', 'Valuation ($B)']).sum()\n",
    "dates.reset_index(inplace=True)\n",
    "dates.head()"
   ]
  },
  {
   "cell_type": "code",
   "execution_count": null,
   "id": "1839c809",
   "metadata": {},
   "outputs": [],
   "source": [
    "dates['Date Joined'] = pd.to_datetime(dates['Date Joined']).dt.date"
   ]
  },
  {
   "cell_type": "code",
   "execution_count": null,
   "id": "239c2b58",
   "metadata": {},
   "outputs": [],
   "source": [
    "import plotly.express as px\n",
    "px.bar(dates, x='Date Joined', y='Valuation ($B)',color='Industry',\n",
    "       hover_data={'Company',\n",
    "                   'Date Joined',\n",
    "                   'Valuation ($B)',\n",
    "                   'Industry'})\n",
    "#Dates represented using a bargraph so as to not conflate value of company over time (Using a lineplot, the value would revert to 0 since the date is specifying initial valuation). "
   ]
  }
 ],
 "metadata": {},
 "nbformat": 4,
 "nbformat_minor": 5
}
