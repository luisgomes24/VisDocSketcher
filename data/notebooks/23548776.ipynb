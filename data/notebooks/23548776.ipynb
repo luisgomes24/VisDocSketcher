{
 "cells": [
  {
   "cell_type": "code",
   "execution_count": null,
   "id": "5f666109",
   "metadata": {},
   "outputs": [],
   "source": [
    "import pandas as pd\n",
    "data=pd.read_csv('../input/tabular-playground-series-jan-2022/train.csv')\n",
    "data.head()"
   ]
  },
  {
   "cell_type": "code",
   "execution_count": null,
   "id": "e81c3281",
   "metadata": {},
   "outputs": [],
   "source": [
    "data.info()"
   ]
  },
  {
   "cell_type": "code",
   "execution_count": null,
   "id": "bc0d0c1e",
   "metadata": {},
   "outputs": [],
   "source": [
    "data.nunique()"
   ]
  },
  {
   "cell_type": "code",
   "execution_count": null,
   "id": "30b54cee",
   "metadata": {},
   "outputs": [],
   "source": [
    "data.date=pd.to_datetime(data.date, infer_datetime_format=True)\n",
    "data.info()"
   ]
  },
  {
   "cell_type": "code",
   "execution_count": null,
   "id": "f062594a",
   "metadata": {},
   "outputs": [],
   "source": [
    "data.head()"
   ]
  },
  {
   "cell_type": "code",
   "execution_count": null,
   "id": "252f6ec8",
   "metadata": {},
   "outputs": [],
   "source": [
    "!pip install pycaret"
   ]
  },
  {
   "cell_type": "code",
   "execution_count": null,
   "id": "3bfbcb9b",
   "metadata": {},
   "outputs": [],
   "source": [
    "from pycaret.regression import *"
   ]
  },
  {
   "cell_type": "code",
   "execution_count": null,
   "id": "22d9f513",
   "metadata": {},
   "outputs": [],
   "source": [
    "sol= setup(data =data, session_id=42,\n",
    "             target = 'num_sold',\n",
    "                  normalize = True, \n",
    "                  transformation = True, \n",
    "                  log_experiment = True,\n",
    "                  remove_multicollinearity = True, \n",
    "             transform_target = True,\n",
    "          combine_rare_levels = True,\n",
    "            ignore_low_variance = True,\n",
    "           normalize_method='robust',\n",
    "            train_size = 0.8,\n",
    "            handle_unknown_categorical = True, unknown_categorical_method = 'most_frequent',\n",
    "           date_features = ['date'],\n",
    "           ignore_features=['row_id'],silent=True\n",
    "          )"
   ]
  },
  {
   "cell_type": "code",
   "execution_count": null,
   "id": "d289294b",
   "metadata": {},
   "outputs": [],
   "source": [
    "model_dt_MAE = tune_model(create_model('dt'),optimize = 'MAE')\n",
    "model_dt_MAE"
   ]
  },
  {
   "cell_type": "code",
   "execution_count": null,
   "id": "100000ca",
   "metadata": {},
   "outputs": [],
   "source": [
    "plot_model(model_dt_MAE,plot = 'learning')"
   ]
  },
  {
   "cell_type": "code",
   "execution_count": null,
   "id": "8a1d4d5f",
   "metadata": {},
   "outputs": [],
   "source": [
    "predict_model(model_dt_MAE)"
   ]
  },
  {
   "cell_type": "code",
   "execution_count": null,
   "id": "1d7f6aca",
   "metadata": {},
   "outputs": [],
   "source": [
    "final_dt = finalize_model(model_dt_MAE)\n",
    "final_dt"
   ]
  },
  {
   "cell_type": "code",
   "execution_count": null,
   "id": "12acfeaa",
   "metadata": {},
   "outputs": [],
   "source": [
    "test=pd.read_csv(\"../input/tabular-playground-series-jan-2022/test.csv\")\n",
    "test.head()"
   ]
  },
  {
   "cell_type": "code",
   "execution_count": null,
   "id": "894f01b9",
   "metadata": {},
   "outputs": [],
   "source": [
    "test.date=pd.to_datetime(test.date, infer_datetime_format=True)\n",
    "test.info()"
   ]
  },
  {
   "cell_type": "code",
   "execution_count": null,
   "id": "37330460",
   "metadata": {},
   "outputs": [],
   "source": [
    "predictions=predict_model(final_dt,data =test)\n",
    "predictions.head()"
   ]
  },
  {
   "cell_type": "code",
   "execution_count": null,
   "id": "1a921eb6",
   "metadata": {},
   "outputs": [],
   "source": [
    "predictions=predictions[['row_id','Label']]\n",
    "predictions.head()"
   ]
  },
  {
   "cell_type": "code",
   "execution_count": null,
   "id": "d961fc40",
   "metadata": {},
   "outputs": [],
   "source": [
    "sol=pd.read_csv('../input/tabular-playground-series-jan-2022/sample_submission.csv')\n",
    "sol.head()"
   ]
  },
  {
   "cell_type": "code",
   "execution_count": null,
   "id": "7f23eb25",
   "metadata": {},
   "outputs": [],
   "source": [
    "sol.num_sold=predictions.Label\n",
    "sol.head()"
   ]
  },
  {
   "cell_type": "code",
   "execution_count": null,
   "id": "3c6e2f15",
   "metadata": {},
   "outputs": [],
   "source": [
    "sol.to_csv('./submission.csv',index=False)"
   ]
  },
  {
   "cell_type": "code",
   "execution_count": null,
   "id": "f0430d68",
   "metadata": {},
   "outputs": [],
   "source": [
    "save_model(model_dt_MAE, './model_dt_MAE')"
   ]
  }
 ],
 "metadata": {},
 "nbformat": 4,
 "nbformat_minor": 5
}
