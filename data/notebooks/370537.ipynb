{
 "cells": [
  {
   "cell_type": "code",
   "execution_count": null,
   "id": "90abc592",
   "metadata": {},
   "outputs": [],
   "source": [
    "import numpy as np\n",
    "from skimage import data, color\n",
    "from skimage.io import imread, imsave\n",
    "from skimage.transform import rescale\n",
    "from skimage.feature import canny, peak_local_max\n",
    "from scipy import ndimage as ndi\n",
    "from skimage.viewer import ImageViewer\n",
    "from scipy.ndimage.filters import convolve\n",
    "from skimage.transform import hough_circle\n",
    "from skimage.draw import circle_perimeter\n",
    "import os\n",
    "from glob import glob\n",
    "from tqdm import tqdm"
   ]
  },
  {
   "cell_type": "code",
   "execution_count": null,
   "id": "b4edb50a",
   "metadata": {},
   "outputs": [],
   "source": [
    "# find all images\n",
    "training_images = glob(os.path.join('..', 'input', 'valid', '*.jpg'))\n",
    "print(len(training_images), 'found')"
   ]
  },
  {
   "cell_type": "code",
   "execution_count": null,
   "id": "91bcaf25",
   "metadata": {},
   "outputs": [],
   "source": [
    "for training_image in tqdm(training_images):\n",
    "    original_image = imread(training_image, as_grey=True)\n",
    "\n",
    "    image = rescale(original_image, 1200.0 / len(original_image))\n",
    "\n",
    "    edges = canny(image, sigma=0.7)\n",
    "\n",
    "    kernel = np.array(5 * [5*[1]])\n",
    "\n",
    "    edges = convolve(edges, kernel)\n",
    "\n",
    "    fill = ndi.binary_fill_holes(edges)\n",
    "\n",
    "    edges = canny(fill)\n",
    "\n",
    "    hough_radii = np.arange(50, 150, 5)\n",
    "    hough_res = hough_circle(edges, hough_radii)\n",
    "\n",
    "    centers = []\n",
    "    accums = []\n",
    "    radii = []\n",
    "\n",
    "    for radius, h in zip(hough_radii, hough_res):\n",
    "        num_peaks = 20\n",
    "        peaks = peak_local_max(h, num_peaks=num_peaks)\n",
    "        centers.extend(peaks)\n",
    "        accums.extend(h[peaks[:, 0], peaks[:, 1]])\n",
    "        radii.extend([radius] * num_peaks)\n",
    "\n",
    "    circles = []\n",
    "    for idx in np.argsort(accums)[::-1][:100]:\n",
    "        center_x, center_y = centers[idx]\n",
    "        radius = radii[idx]\n",
    "        add = True\n",
    "        for c in circles:\n",
    "            if (c[0] - center_y) * (c[0] - center_y) + (c[1] - center_x) * (c[1] - center_x) < (c[2] + radius) * (c[2] + radius) * 0.25:\n",
    "                add = False\n",
    "                break\n",
    "        if add:\n",
    "            circles.append([center_y, center_x, radius])\n",
    "\n",
    "    i = 0\n",
    "    for c in circles:\n",
    "        circle_img = image[c[1] - c[2]:c[1] + c[2], c[0] - c[2]:c[0] + c[2]]\n",
    "        imsave(os.path.basename(training_image) + \"_\" + str(i) + \".png\", circle_img)\n",
    "        i += 1\n"
   ]
  },
  {
   "cell_type": "code",
   "execution_count": null,
   "id": "763a0915",
   "metadata": {},
   "outputs": [],
   "source": [
    "nan"
   ]
  }
 ],
 "metadata": {},
 "nbformat": 4,
 "nbformat_minor": 5
}
