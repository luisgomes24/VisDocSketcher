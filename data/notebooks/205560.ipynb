{
 "cells": [
  {
   "cell_type": "markdown",
   "id": "8993bc2b",
   "metadata": {},
   "source": [
    "### Founding History \n",
    "\n",
    "<p> The first Starbucks opened in Seattle, Washington, on March 31, 1971,by three partners who met while they were students at the University of San Francisco: English teacher Jerry Baldwin, history teacher Zev Siegl, and writer Gordon Bowker were inspired to sell high-quality coffee beans and equipment by coffee roasting entrepreneur Alfred Peet after he taught them his style of roasting beans. The company took the name of the chief mate in the book Moby-Dick: Starbuck, after considering \"Cargo House\" and \"Pequod\". Bowker recalls that Terry Heckler, with whom Bowker owned an advertising agency, thought words beginning with \"st\" were powerful. The founders brainstormed a list of words beginning with \"st\". Someone pulled out an old mining map of the Cascade Range and saw a mining town named \"Starbo\", which immediately put Bowker in mind of the character \"Starbuck\". </p>\n",
    "\n",
    "### Surprising Facts about  \n",
    "\n",
    "* It was founded by two teachers and a writer\n",
    "* The most loyal 20% of customers come into the store at least 16 times per month.\n",
    "* There are over 87,000 drink combination possibilities.\n",
    "* The “trenta” sized cup holds more liquid than the human stomach.\n",
    "* The inventor of the Pumpkin Spice Latte was a Stanford basketball player.\n",
    "* Since 1987, an average of two Starbucks stores have opened each day.\n",
    "* The majority of their flavored drinks contain more sugar than one should consume in entire day.\n",
    "* A “grande” sized coffee contains four times the amount of caffeine as Red Bull.\n",
    "* Starbucks spends more on the healthcare insurance of its employees than on its coffee beans.\n",
    "\n"
   ]
  },
  {
   "cell_type": "code",
   "execution_count": null,
   "id": "55030997",
   "metadata": {},
   "outputs": [],
   "source": [
    "import pandas as pd\n",
    "import numpy as np\n",
    "import seaborn as sns\n",
    "import matplotlib.pyplot as plt\n",
    "from mpl_toolkits.basemap import Basemap\n",
    "%matplotlib inline\n",
    "sns.set(style=\"white\", context=\"talk\")\n",
    "\n",
    "starbucks = pd.read_csv('../input/directory.csv')"
   ]
  },
  {
   "cell_type": "code",
   "execution_count": null,
   "id": "05aa4089",
   "metadata": {},
   "outputs": [],
   "source": [
    "from IPython.display import Image\n",
    "Image(url='https://rde-stanford-edu.s3.amazonaws.com/Hospitality/Images/starbucks-header.jpg', embed = True)"
   ]
  },
  {
   "cell_type": "markdown",
   "id": "0bab0ae0",
   "metadata": {},
   "source": [
    "### Read first few rows"
   ]
  },
  {
   "cell_type": "code",
   "execution_count": null,
   "id": "4d09f6eb",
   "metadata": {},
   "outputs": [],
   "source": [
    "starbucks.head(5)"
   ]
  },
  {
   "cell_type": "markdown",
   "id": "308100e0",
   "metadata": {},
   "source": [
    "### Read last few rows"
   ]
  },
  {
   "cell_type": "code",
   "execution_count": null,
   "id": "dece1d7a",
   "metadata": {},
   "outputs": [],
   "source": [
    "starbucks.tail(5)"
   ]
  },
  {
   "cell_type": "markdown",
   "id": "bac60b11",
   "metadata": {},
   "source": [
    "###Dataset dimensions"
   ]
  },
  {
   "cell_type": "code",
   "execution_count": null,
   "id": "9754fe9a",
   "metadata": {},
   "outputs": [],
   "source": [
    "starbucks.shape"
   ]
  },
  {
   "cell_type": "markdown",
   "id": "59faa194",
   "metadata": {},
   "source": [
    "### Number of Records having complete data for each column"
   ]
  },
  {
   "cell_type": "code",
   "execution_count": null,
   "id": "7d024043",
   "metadata": {},
   "outputs": [],
   "source": [
    "starbucks.notnull().sum()"
   ]
  },
  {
   "cell_type": "markdown",
   "id": "1be30980",
   "metadata": {},
   "source": [
    "### Completeness Percentage"
   ]
  },
  {
   "cell_type": "code",
   "execution_count": null,
   "id": "4436cdc4",
   "metadata": {},
   "outputs": [],
   "source": [
    "starbucks.notnull().sum() * 100/starbucks.shape[0]"
   ]
  },
  {
   "cell_type": "markdown",
   "id": "6166d710",
   "metadata": {},
   "source": [
    "### How many stores are operating around the world?"
   ]
  },
  {
   "cell_type": "code",
   "execution_count": null,
   "id": "a5c63f71",
   "metadata": {},
   "outputs": [],
   "source": [
    "starbucks.shape[0]"
   ]
  },
  {
   "cell_type": "markdown",
   "id": "1f6927ad",
   "metadata": {},
   "source": [
    "### How many countries have stores around the world?"
   ]
  },
  {
   "cell_type": "code",
   "execution_count": null,
   "id": "ea08359e",
   "metadata": {},
   "outputs": [],
   "source": [
    "len(starbucks.Country.unique())"
   ]
  },
  {
   "cell_type": "markdown",
   "id": "e4f4c15e",
   "metadata": {},
   "source": [
    "### Which Country has the maximum number of Stores?"
   ]
  },
  {
   "cell_type": "code",
   "execution_count": null,
   "id": "0f31a105",
   "metadata": {},
   "outputs": [],
   "source": [
    "starbucks.Country.value_counts().head(1)"
   ]
  },
  {
   "cell_type": "markdown",
   "id": "a6a58f5a",
   "metadata": {},
   "source": [
    "### Top 10 Countries with most number of stores"
   ]
  },
  {
   "cell_type": "code",
   "execution_count": null,
   "id": "1cc3ac26",
   "metadata": {},
   "outputs": [],
   "source": [
    "starbucks.Country.value_counts().head(10)"
   ]
  },
  {
   "cell_type": "code",
   "execution_count": null,
   "id": "9fee3a2c",
   "metadata": {},
   "outputs": [],
   "source": [
    "fig = plt.figure(figsize=(8,5))\n",
    "ax = fig.add_subplot(111)\n",
    "ax.set(title = \"Top 10 Countries with Most Number of Starbucks Stores\")\n",
    "starbucks.Country.value_counts().head(10).plot(kind=\"bar\", color = \"maroon\")"
   ]
  },
  {
   "cell_type": "markdown",
   "id": "9d3c5337",
   "metadata": {},
   "source": [
    "### Which city has the maximum number of stores?"
   ]
  },
  {
   "cell_type": "code",
   "execution_count": null,
   "id": "bbdf2aed",
   "metadata": {},
   "outputs": [],
   "source": [
    "starbucks.City.value_counts().head(1)"
   ]
  },
  {
   "cell_type": "markdown",
   "id": "96ae168d",
   "metadata": {},
   "source": [
    "### Top 10 Cities with most number of stores"
   ]
  },
  {
   "cell_type": "code",
   "execution_count": null,
   "id": "a09dd62c",
   "metadata": {},
   "outputs": [],
   "source": [
    "starbucks.City.value_counts().head(10)"
   ]
  },
  {
   "cell_type": "code",
   "execution_count": null,
   "id": "30c2a002",
   "metadata": {},
   "outputs": [],
   "source": [
    "fig = plt.figure(figsize=(8,5))\n",
    "ax = fig.add_subplot(111)\n",
    "ax.set(title = \"Top 10 Cities with most number of Starbucks Stores\")\n",
    "starbucks.City.value_counts().head(10).plot(kind=\"bar\")\n",
    "plt.show()"
   ]
  },
  {
   "cell_type": "markdown",
   "id": "9f5c0bc9",
   "metadata": {},
   "source": [
    "### Who owns the stores?"
   ]
  },
  {
   "cell_type": "code",
   "execution_count": null,
   "id": "fdab9356",
   "metadata": {},
   "outputs": [],
   "source": [
    "starbucks['Ownership Type'].value_counts()"
   ]
  },
  {
   "cell_type": "code",
   "execution_count": null,
   "id": "66970afe",
   "metadata": {},
   "outputs": [],
   "source": [
    "fig = plt.figure(figsize=(8,5))\n",
    "ax = fig.add_subplot(111)\n",
    "ax.set(title = \"Who owns the stores?\")\n",
    "starbucks['Ownership Type'].value_counts().plot(kind=\"bar\", color = \"maroon\")\n",
    "plt.show()"
   ]
  },
  {
   "cell_type": "markdown",
   "id": "fbed6264",
   "metadata": {},
   "source": [
    "### Which State in USA has the most number of Starbucks stores?"
   ]
  },
  {
   "cell_type": "code",
   "execution_count": null,
   "id": "1687d741",
   "metadata": {},
   "outputs": [],
   "source": [
    "usa_states = starbucks[starbucks['Country'] == 'US']\n",
    "usa_states['State/Province'].value_counts().head(1)"
   ]
  },
  {
   "cell_type": "markdown",
   "id": "1d7311b9",
   "metadata": {},
   "source": [
    "### What are the Top 10 States in USA based on number of stores?"
   ]
  },
  {
   "cell_type": "code",
   "execution_count": null,
   "id": "854a1038",
   "metadata": {},
   "outputs": [],
   "source": [
    "usa_states['State/Province'].value_counts().head(10)"
   ]
  },
  {
   "cell_type": "code",
   "execution_count": null,
   "id": "d8c62b28",
   "metadata": {},
   "outputs": [],
   "source": [
    "fig = plt.figure(figsize=(8,5))\n",
    "ax = fig.add_subplot(111)\n",
    "ax.set(title=\"What are the Top 10 States in USA with most number of stores?\")\n",
    "usa_states['State/Province'].value_counts().head(10).plot(kind=\"bar\")\n",
    "plt.show()"
   ]
  },
  {
   "cell_type": "markdown",
   "id": "bfb89ca5",
   "metadata": {},
   "source": [
    "### Brands under which Starbucks Operates"
   ]
  },
  {
   "cell_type": "code",
   "execution_count": null,
   "id": "d41ea44a",
   "metadata": {},
   "outputs": [],
   "source": [
    "starbucks.Brand.value_counts()"
   ]
  },
  {
   "cell_type": "code",
   "execution_count": null,
   "id": "541ff7d3",
   "metadata": {},
   "outputs": [],
   "source": [
    "fig = plt.figure(figsize=(8,5))\n",
    "ax = fig.add_subplot(111)\n",
    "ax.set(title=\"Brand under which Starbucks Operates\")\n",
    "starbucks.Brand.value_counts().plot(kind=\"bar\", color = \"maroon\")\n",
    "plt.show()"
   ]
  },
  {
   "cell_type": "markdown",
   "id": "907c4d03",
   "metadata": {},
   "source": [
    "###Mapping of the Stores World Wide"
   ]
  },
  {
   "cell_type": "code",
   "execution_count": null,
   "id": "8bd3e19f",
   "metadata": {},
   "outputs": [],
   "source": [
    "plt.figure(figsize=(12,9))\n",
    "m = Basemap(projection = 'mill', llcrnrlat = -80, urcrnrlat = 80, llcrnrlon = -180, urcrnrlon = 180, resolution = 'h')\n",
    "m.drawcoastlines()\n",
    "m.drawcountries()\n",
    "\n",
    "m.drawmapboundary(fill_color='white')\n",
    "\n",
    "x, y = m(list(starbucks[\"Longitude\"].astype(float)), list(starbucks[\"Latitude\"].astype(float)))\n",
    "m.plot(x, y, 'bo', markersize = 5, alpha = 0.6, color = \"blue\")\n",
    "\n",
    "plt.title('Starbucks Stores Across the World')\n",
    "plt.show()"
   ]
  },
  {
   "cell_type": "markdown",
   "id": "6078b094",
   "metadata": {},
   "source": [
    "### Mapping of Stores in USA"
   ]
  },
  {
   "cell_type": "code",
   "execution_count": null,
   "id": "76236fc7",
   "metadata": {},
   "outputs": [],
   "source": [
    "plt.figure(figsize=(10,8))\n",
    "m = Basemap(projection='mill', llcrnrlat = 20, urcrnrlat = 50, llcrnrlon = -130, urcrnrlon = -60, resolution = 'h')\n",
    "m.drawcoastlines()\n",
    "m.drawcountries()\n",
    "m.drawmapboundary(fill_color='white')\n",
    "\n",
    "x, y = m(list(usa_states[\"Longitude\"].astype(float)), list(usa_states[\"Latitude\"].astype(float)))\n",
    "m.plot(x, y, 'bo', markersize = 5)\n",
    "\n",
    "plt.title('Extinct and Endangered Languages in USA')\n",
    "plt.show()"
   ]
  },
  {
   "cell_type": "markdown",
   "id": "76853e45",
   "metadata": {},
   "source": [
    "### References\n",
    "\n",
    "* https://en.wikipedia.org/wiki/Starbucks\n",
    "* http://www.therichest.com/business/companies-business/10-facts-you-didnt-know-about-starbucks/\n",
    "* https://spoonuniversity.com/lifestyle/starbucks-facts-that-will-shock-you\n",
    "* https://en.wikipedia.org/wiki/Tata_Starbucks"
   ]
  }
 ],
 "metadata": {},
 "nbformat": 4,
 "nbformat_minor": 5
}
