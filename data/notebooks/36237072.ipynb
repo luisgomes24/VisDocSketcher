{
 "cells": [
  {
   "cell_type": "code",
   "execution_count": null,
   "id": "03c73088",
   "metadata": {},
   "outputs": [],
   "source": [
    "import numpy as np # linear algebra\n",
    "import pandas as pd # data processing, CSV file I/O (e.g. pd.read_csv)\n",
    "import matplotlib.pyplot as plt\n",
    "plt.style.use('ggplot')\n",
    "import seaborn as sns\n",
    "cp = sns.color_palette()\n",
    "# cp\n",
    "import warnings\n",
    "warnings.filterwarnings('ignore')\n",
    "pd.set_option('display.max_columns', None)\n",
    "pd.set_option('display.max_rows', None)\n",
    "pd.set_option('display.width', None)\n",
    "pd.set_option('display.max_colwidth', -1)"
   ]
  },
  {
   "cell_type": "code",
   "execution_count": null,
   "id": "4cfc907f",
   "metadata": {},
   "outputs": [],
   "source": [
    "data = pd.read_csv('/kaggle/input/indian-startups-top-300/Startups1.csv')\n",
    "data.head()"
   ]
  },
  {
   "cell_type": "code",
   "execution_count": null,
   "id": "c8371c97",
   "metadata": {},
   "outputs": [],
   "source": [
    "data['No. of Employees'].head()"
   ]
  },
  {
   "cell_type": "code",
   "execution_count": null,
   "id": "cf7c5ff4",
   "metadata": {},
   "outputs": [],
   "source": [
    "data.columns"
   ]
  },
  {
   "cell_type": "code",
   "execution_count": null,
   "id": "73bad05b",
   "metadata": {},
   "outputs": [],
   "source": [
    "def preprocess_inputs(df):\n",
    "    df = df.copy()\n",
    "    df = df.drop('Unnamed: 0', axis = 1)\n",
    "    \n",
    "    \n",
    "    return df"
   ]
  },
  {
   "cell_type": "code",
   "execution_count": null,
   "id": "b4a122e2",
   "metadata": {},
   "outputs": [],
   "source": [
    "X = preprocess_inputs(data)\n",
    "X.head()"
   ]
  },
  {
   "cell_type": "code",
   "execution_count": null,
   "id": "66d4ba7f",
   "metadata": {},
   "outputs": [],
   "source": [
    "X.groupby('City')['No. of Investors'].sum().plot(kind = 'bar');"
   ]
  },
  {
   "cell_type": "code",
   "execution_count": null,
   "id": "8ba68260",
   "metadata": {},
   "outputs": [],
   "source": [
    "X.info()"
   ]
  },
  {
   "cell_type": "code",
   "execution_count": null,
   "id": "f553ef86",
   "metadata": {},
   "outputs": [],
   "source": [
    "X['No. of Employees'] = X['No. of Employees'].str.replace('+', '')\n",
    "X['No. of Employees'] = X['No. of Employees'].str.replace('Not Available', '0')\n",
    "# [Not Available]\n",
    "X['No. of Employees'] = X['No. of Employees'].apply(lambda x: x.split('-'))\n",
    "X.head()"
   ]
  },
  {
   "cell_type": "code",
   "execution_count": null,
   "id": "9065bb79",
   "metadata": {},
   "outputs": [],
   "source": [
    "import numpy as np\n",
    "# X['No. of Employees'] = X['No. of Employees'].apply(np.mean)"
   ]
  },
  {
   "cell_type": "code",
   "execution_count": null,
   "id": "4f53365c",
   "metadata": {},
   "outputs": [],
   "source": [
    "X.groupby('City')['Funding Amount in $'].sum().plot(kind = 'bar');"
   ]
  },
  {
   "cell_type": "code",
   "execution_count": null,
   "id": "cb60967f",
   "metadata": {},
   "outputs": [],
   "source": [
    "# X['No. of Employees'].str.replace('+', '')"
   ]
  },
  {
   "cell_type": "code",
   "execution_count": null,
   "id": "594ded9e",
   "metadata": {},
   "outputs": [],
   "source": [
    "# mean_of_list = lambda row: pd.Series(sum(row) / len(row))\n",
    "# X['No. of Employees'] = X['No. of Employees'].apply(lambda x: )\n",
    "X['No. of Employees'].head(4)"
   ]
  },
  {
   "cell_type": "code",
   "execution_count": null,
   "id": "6cf2df6e",
   "metadata": {},
   "outputs": [],
   "source": [
    "def list_mean(lst):\n",
    "    return sum(int(x) for x in lst) / len(lst)\n",
    "\n",
    "# Apply the function to the column and create a new column with the result\n",
    "X['No. of Employees']  = X['No. of Employees'].apply(list_mean)\n",
    "X.head()"
   ]
  },
  {
   "cell_type": "code",
   "execution_count": null,
   "id": "c7a98992",
   "metadata": {},
   "outputs": [],
   "source": [
    "# temp = df.groupby('Starting Year')['Company'].count().reset_index()"
   ]
  },
  {
   "cell_type": "code",
   "execution_count": null,
   "id": "e48e47d0",
   "metadata": {},
   "outputs": [],
   "source": [
    "plt.figure(figsize = (10, 3))\n",
    "ax = X.groupby('Starting Year')['Company'].count().plot(kind = 'bar', title = 'Number of companies starting year-wise', color = cp[1:])\n",
    "plt.xticks(rotation = 45)\n",
    "labels = (X.groupby('Starting Year')['Company'].count()).values\n",
    "ax.bar_label(ax.containers[0], labels = labels, label_type = \"edge\")\n",
    "plt.show()"
   ]
  },
  {
   "cell_type": "code",
   "execution_count": null,
   "id": "9e810ed2",
   "metadata": {},
   "outputs": [],
   "source": [
    "X.groupby('Starting Year').sum().head()"
   ]
  },
  {
   "cell_type": "code",
   "execution_count": null,
   "id": "42f58a23",
   "metadata": {},
   "outputs": [],
   "source": [
    "# X.groupby('Starting Year')['Funding Amount in $'].sum().plot(kind = 'bar')\n",
    "\n",
    "\n",
    "plt.figure(figsize = (10, 3))\n",
    "ax = X.groupby('Starting Year')['Funding Amount in $'].sum().plot(kind = 'bar', title = 'Funding amount year wise', color = cp[1:])\n",
    "plt.xticks(rotation = 45)\n",
    "labels = (X.groupby('Starting Year')['Funding Amount in $'].sum()).values\n",
    "# ax.bar_label(ax.containers[0], labels = labels, label_type = \"edge\")\n",
    "plt.show()"
   ]
  },
  {
   "cell_type": "code",
   "execution_count": null,
   "id": "b620559c",
   "metadata": {},
   "outputs": [],
   "source": [
    "nan"
   ]
  }
 ],
 "metadata": {},
 "nbformat": 4,
 "nbformat_minor": 5
}
