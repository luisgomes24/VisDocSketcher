{
 "cells": [
  {
   "cell_type": "code",
   "execution_count": null,
   "id": "26be7112",
   "metadata": {},
   "outputs": [],
   "source": [
    "# This Python 3 environment comes with many helpful analytics libraries installed\n",
    "# It is defined by the kaggle/python Docker image: https://github.com/kaggle/docker-python\n",
    "# For example, here's several helpful packages to load\n",
    "\n",
    "import numpy as np # linear algebra\n",
    "import pandas as pd # data processing, CSV file I/O (e.g. pd.read_csv)\n",
    "\n",
    "# Input data files are available in the read-only \"../input/\" directory\n",
    "# For example, running this (by clicking run or pressing Shift+Enter) will list all files under the input directory\n",
    "\n",
    "import os\n",
    "for dirname, _, filenames in os.walk('/kaggle/input'):\n",
    "    for filename in filenames:\n",
    "        print(os.path.join(dirname, filename))\n",
    "\n",
    "# You can write up to 20GB to the current directory (/kaggle/working/) that gets preserved as output when you create a version using \"Save & Run All\" \n",
    "# You can also write temporary files to /kaggle/temp/, but they won't be saved outside of the current session"
   ]
  },
  {
   "cell_type": "markdown",
   "id": "e3fd433a",
   "metadata": {},
   "source": [
    "# The Russian-Ukranian War"
   ]
  },
  {
   "cell_type": "markdown",
   "id": "f490690f",
   "metadata": {},
   "source": [
    "The purpose of this notebook is to gain further insight into the true, factual losses that the Russian War Machine as incurred over the last two weeks.  To begin, let's take a look at the first of the two sets: russia_losses_equipment."
   ]
  },
  {
   "cell_type": "code",
   "execution_count": null,
   "id": "136cf65a",
   "metadata": {},
   "outputs": [],
   "source": [
    "russian_equipment = pd.read_csv(\"../input/2022-ukraine-russian-war/russia_losses_equipment.csv\", index_col=\"date\", parse_dates=True)\n",
    "russian_equipment"
   ]
  },
  {
   "cell_type": "markdown",
   "id": "40fa18ad",
   "metadata": {},
   "source": [
    "As expected, the dataset is quite small; the war has only been going since February 26th, 2022.  What are the datatypes of each attribute?"
   ]
  },
  {
   "cell_type": "code",
   "execution_count": null,
   "id": "7f8da22e",
   "metadata": {},
   "outputs": [],
   "source": [
    "russian_equipment.dtypes"
   ]
  },
  {
   "cell_type": "markdown",
   "id": "755e43c1",
   "metadata": {},
   "source": [
    "First, let's make a visualization to see the losses the Russian War Machine has incurred over time.  Since we are using time as a variable, it would be a good idea to use a line graph.  Also, to avoid some potential issues, I am going to remove the \"day\" attribute and work only with the \"date\" index."
   ]
  },
  {
   "cell_type": "code",
   "execution_count": null,
   "id": "88a82b14",
   "metadata": {},
   "outputs": [],
   "source": [
    "import matplotlib.pyplot as plt\n",
    "%matplotlib inline\n",
    "import seaborn as sns\n",
    "\n",
    "russian_equipment_no_day = russian_equipment.drop(\"day\", axis=1)\n",
    "russian_equipment_no_day.head()\n",
    "\n",
    "sns.set_style(\"darkgrid\")\n",
    "plt.figure(figsize=(20,9))\n",
    "plt.title(\"Russian Equipment Losses\")\n",
    "plt.xlabel(\"Date\")\n",
    "plt.ylabel(\"Asset\")\n",
    "sns.lineplot(data=russian_equipment_no_day)\n",
    "plt.show()"
   ]
  },
  {
   "cell_type": "markdown",
   "id": "7daf9e79",
   "metadata": {},
   "source": [
    "There are three bins that trend positively: fuel, tanks, and military auto.  It could also be argued that fuel expenditures have a relationship with tank and military auto losses.  Let's take a closer look at these three variables."
   ]
  },
  {
   "cell_type": "code",
   "execution_count": null,
   "id": "355b94f3",
   "metadata": {},
   "outputs": [],
   "source": [
    "plt.figure(figsize=(20,9))\n",
    "\n",
    "x_data = [\"military auto\", \"APC\"]\n",
    "\n",
    "for vehicle in x_data:\n",
    "    sns.lmplot(data=russian_equipment_no_day, x=vehicle, y=\"tank\")\n",
    "plt.show()"
   ]
  },
  {
   "cell_type": "markdown",
   "id": "7be5c026",
   "metadata": {},
   "source": [
    "Military auto losses have a large, positive trending relationship.  At the static rate of 60 fuel tanks lost per day, this behavior is to be expected.  The more fuel that is lost, the more likely it is to be that vehicle losses will incure due to lack of fuel and/or Ukranian acquisition.\n",
    "\n",
    "Now, let's take a look at the Russian Personnel losses over time."
   ]
  },
  {
   "cell_type": "code",
   "execution_count": null,
   "id": "657f5013",
   "metadata": {},
   "outputs": [],
   "source": [
    "russian_personnel = pd.read_csv(\"../input/2022-ukraine-russian-war/russia_losses_personnel.csv\", parse_dates=True)\n",
    "russian_personnel"
   ]
  },
  {
   "cell_type": "markdown",
   "id": "f744d5a1",
   "metadata": {},
   "source": [
    "Two columns \"POW\" contain NaN values.  Let's replace the POW NaNs with the mean of the column while dropping the \"personnel*\" column; personnel is ordinal data that I don't see a concrete use for at this time."
   ]
  },
  {
   "cell_type": "code",
   "execution_count": null,
   "id": "bd130e5b",
   "metadata": {},
   "outputs": [],
   "source": [
    "# Also dropping the \"day\" column as datetime values are preferred.\n",
    "# russian_personnel = russian_personnel.drop(\"day\", axis=1)\n",
    "russian_personnel = russian_personnel.drop(\"personnel*\", axis=1)\n",
    "russian_personnel"
   ]
  },
  {
   "cell_type": "code",
   "execution_count": null,
   "id": "b1d32096",
   "metadata": {},
   "outputs": [],
   "source": [
    "# Replace NaNs with the mean of the POW column\n",
    "from sklearn.impute import SimpleImputer\n",
    "\n",
    "russian_personnel_copy = russian_personnel.drop(\"date\", axis=1)\n",
    "\n",
    "my_imputer = SimpleImputer()\n",
    "imputed_data = pd.DataFrame(my_imputer.fit_transform(russian_personnel_copy))\n",
    "imputed_data.columns = russian_personnel_copy.columns\n",
    "imputed_data"
   ]
  },
  {
   "cell_type": "markdown",
   "id": "55530f36",
   "metadata": {},
   "source": [
    "While this is a good show of how machine learning can regressively backfill NaN values with the mean, it is probably a better idea to replace the NaNs with zero.  This will scew the data much less, and it makes more sense since the data was lower at the start of the invasion most likely."
   ]
  },
  {
   "cell_type": "code",
   "execution_count": null,
   "id": "73f7ba18",
   "metadata": {},
   "outputs": [],
   "source": [
    "# Replace all NaN POW values with zero\n",
    "russian_personnel_copy = russian_personnel.fillna(0)\n",
    "russian_personnel_copy"
   ]
  },
  {
   "cell_type": "markdown",
   "id": "41678b5a",
   "metadata": {},
   "source": [
    "Now let's create some visualizations."
   ]
  },
  {
   "cell_type": "code",
   "execution_count": null,
   "id": "6a6cac0e",
   "metadata": {},
   "outputs": [],
   "source": [
    "plt.figure(figsize=(20,6))\n",
    "sns.lineplot(data=russian_personnel_copy, x=\"date\", y=\"personnel\")\n",
    "plt.show()"
   ]
  },
  {
   "cell_type": "markdown",
   "id": "790d7371",
   "metadata": {},
   "source": [
    "Personnel losses trends upward as equipment losses trend upward as well.  As the dataset is still relatviely small, the only concrete insights that can be made are that Russian equipment and personnel losses will continue to increase as their invasion continues.  This is because the Ukranian resistance Russian forces have faced thus far has been incredibly driven, powerful, and a clearly more intense adversary than the Kremlin could have ever expected.  Based on this data, the longer the Russian occupancy in Ukraine continues the higher the cost the Kremlin must pay in Russian assets and lives."
   ]
  },
  {
   "cell_type": "code",
   "execution_count": null,
   "id": "a0066edb",
   "metadata": {},
   "outputs": [],
   "source": [
    "nan"
   ]
  }
 ],
 "metadata": {},
 "nbformat": 4,
 "nbformat_minor": 5
}
