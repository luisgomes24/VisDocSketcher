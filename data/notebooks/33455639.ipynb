{
 "cells": [
  {
   "cell_type": "markdown",
   "id": "af767970",
   "metadata": {},
   "source": [
    "# LECR Same Title Predict\n",
    "\n",
    "There are contents and topics with same title.\n",
    "\n",
    "ex.  \n",
    "> content `c_7ff92a954a3d` title is **\"12. 20: Bird Reproduction\"**.<br>\n",
    "> topic `t_0008a1bd84ba` title is **\"12. 20: Bird Reproduction\"** too.  \n",
    "\n",
    "This code submits content with the same title as a prediction."
   ]
  },
  {
   "cell_type": "code",
   "execution_count": null,
   "id": "5a78dd67",
   "metadata": {},
   "outputs": [],
   "source": [
    "import pandas as pd"
   ]
  },
  {
   "cell_type": "code",
   "execution_count": null,
   "id": "bed5ddb9",
   "metadata": {},
   "outputs": [],
   "source": [
    "class CFG:\n",
    "    INPUT = '/kaggle/input/learning-equality-curriculum-recommendations'"
   ]
  },
  {
   "cell_type": "code",
   "execution_count": null,
   "id": "0aa39a0b",
   "metadata": {},
   "outputs": [],
   "source": [
    "sub_df = pd.read_csv(f'{CFG.INPUT}/sample_submission.csv')\n",
    "topics_df = pd.read_csv(f'{CFG.INPUT}/topics.csv')\n",
    "content_df = pd.read_csv(f'{CFG.INPUT}/content.csv')"
   ]
  },
  {
   "cell_type": "code",
   "execution_count": null,
   "id": "9955d548",
   "metadata": {},
   "outputs": [],
   "source": [
    "predicts = []\n",
    "for topic_id in sub_df['topic_id']:\n",
    "    title = topics_df.query(f\"id=='{topic_id}'\")['title'].iloc[0]\n",
    "    p = content_df[content_df['title'] == title]['id'].tolist()\n",
    "    p = \" \".join(p)\n",
    "    predicts.append(p)"
   ]
  },
  {
   "cell_type": "code",
   "execution_count": null,
   "id": "df843bd0",
   "metadata": {},
   "outputs": [],
   "source": [
    "sub_df['content_ids'] = predicts\n",
    "sub_df"
   ]
  },
  {
   "cell_type": "code",
   "execution_count": null,
   "id": "edb69a5a",
   "metadata": {},
   "outputs": [],
   "source": [
    "sub_df.to_csv('submission.csv', index=None)"
   ]
  },
  {
   "cell_type": "code",
   "execution_count": null,
   "id": "0127207f",
   "metadata": {},
   "outputs": [],
   "source": [
    "!ls"
   ]
  },
  {
   "cell_type": "code",
   "execution_count": null,
   "id": "72ca3127",
   "metadata": {},
   "outputs": [],
   "source": [
    "nan"
   ]
  }
 ],
 "metadata": {},
 "nbformat": 4,
 "nbformat_minor": 5
}
