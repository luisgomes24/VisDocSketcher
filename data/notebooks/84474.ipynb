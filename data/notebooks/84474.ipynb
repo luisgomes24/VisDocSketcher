{
 "cells": [
  {
   "cell_type": "markdown",
   "id": "a097c2d6",
   "metadata": {},
   "source": [
    "From a glance at the data, it looks to be about a month. Looking at a single location (Beijing), is there any regular pattern over the week?\n",
    "\n",
    "### First, the standard imports..."
   ]
  },
  {
   "cell_type": "code",
   "execution_count": null,
   "id": "1224b318",
   "metadata": {},
   "outputs": [],
   "source": [
    "import numpy as np\n",
    "import pandas as pd\n",
    "import os\n",
    "import matplotlib.pyplot as plt\n",
    "import seaborn as sns \n",
    "from mpl_toolkits.basemap import Basemap\n",
    "%matplotlib inline"
   ]
  },
  {
   "cell_type": "markdown",
   "id": "4cb20ba6",
   "metadata": {},
   "source": [
    "### Get all the events in Beijing"
   ]
  },
  {
   "cell_type": "code",
   "execution_count": null,
   "id": "50cb5e7b",
   "metadata": {},
   "outputs": [],
   "source": [
    "df_events = pd.read_csv(\"../input/events.csv\", dtype={'device_id': np.str})\n",
    "\n",
    "idx_beijing = (df_events[\"longitude\"]>116) &\\\n",
    "              (df_events[\"longitude\"]<117) &\\\n",
    "              (df_events[\"latitude\"]>39.5) &\\\n",
    "              (df_events[\"latitude\"]<40.5)\n",
    "df_events_beijing = df_events[idx_beijing]\n",
    "\n",
    "print(\"Total # events:\", len(df_events))\n",
    "print(\"Total # Beijing events:\", len(df_events_beijing))\n",
    "\n",
    "\n",
    "plt.figure(1, figsize=(12,6))\n",
    "plt.title(\"Events by day\")\n",
    "plt.hist(df_events_beijing['timestamp'].map( lambda x: pd.to_datetime(x).dayofweek ), bins=7)\n",
    "plt.show()"
   ]
  },
  {
   "cell_type": "markdown",
   "id": "3dbc7edd",
   "metadata": {},
   "source": [
    "A fairly flat distribution there. Pandas defines \"0\" as Monday, and \"6\" as Sunday so it looks like Monday is the least busy day, by maybe 10%.\n",
    "\n",
    "What about each hour separately?"
   ]
  },
  {
   "cell_type": "code",
   "execution_count": null,
   "id": "ec501f05",
   "metadata": {},
   "outputs": [],
   "source": [
    "plt.figure(1, figsize=(12,6))\n",
    "plt.title(\"Events by hour\")\n",
    "plt.hist(df_events_beijing['timestamp'].map( lambda x: pd.to_datetime(x).dayofweek*24 + pd.to_datetime(x).hour ), bins=168)\n",
    "plt.show()"
   ]
  },
  {
   "cell_type": "markdown",
   "id": "62f6ef01",
   "metadata": {},
   "source": [
    "Looks like the quietest times is 04:00 on Monday morning. Makes sense, people will need to be in work a few hours later.\n",
    "\n",
    "### Is there a gender split?"
   ]
  },
  {
   "cell_type": "code",
   "execution_count": null,
   "id": "17300e03",
   "metadata": {},
   "outputs": [],
   "source": [
    "df_gender_age = pd.read_csv(\"../input/gender_age_train.csv\", dtype={'device_id': np.str})\n",
    "print(\"Total number of people in training set: \", len(df_gender_age))\n",
    "df_joined = pd.merge(df_gender_age, df_events_beijing, on=\"device_id\", how=\"inner\")\n",
    "print(\"Number of Beijing events in training set: \", len(df_joined))\n",
    "df_female = df_joined[df_joined[\"gender\"]==\"F\"]\n",
    "df_male = df_joined[df_joined[\"gender\"]==\"M\"]\n",
    "print(\"Number of male events in Beijing: \", len(df_male))\n",
    "print(\"Number of female events in Beijing: \", len(df_female))\n",
    "\n",
    "plt.figure(1, figsize=(12,12))\n",
    "plt.subplot(211)\n",
    "plt.title(\"Female events by hour\")\n",
    "plt.hist(df_female['timestamp'].map( lambda x: pd.to_datetime(x).dayofweek*24 + pd.to_datetime(x).hour ), bins=168)\n",
    "plt.subplot(212)\n",
    "plt.title(\"Male events by hour\")\n",
    "plt.hist(df_male['timestamp'].map( lambda x: pd.to_datetime(x).dayofweek*24 + pd.to_datetime(x).hour ), bins=168)\n",
    "plt.show()"
   ]
  },
  {
   "cell_type": "markdown",
   "id": "9e3bad13",
   "metadata": {},
   "source": [
    "OK, there are some gender differences there. Women generally seem to have more of a rest in the early hours of the morning, with the notable exception of Friday night/Saturday morning, where they're even more likely than the men to be active. There's also a very large spike on Thursday evening. Could this be after-work drinks?\n",
    "\n",
    "### What about age?"
   ]
  },
  {
   "cell_type": "code",
   "execution_count": null,
   "id": "3fea21bc",
   "metadata": {},
   "outputs": [],
   "source": [
    "df_under = df_joined[df_joined[\"age\"]<30]\n",
    "df_between = df_joined[(df_joined[\"age\"]>=30) & (df_joined[\"age\"]<40)]\n",
    "df_over = df_joined[df_joined[\"age\"]>=40]\n",
    "print(\"Number of under-30s events in Beijing: \", len(df_under))\n",
    "print(\"Number of 30-something events in Beijing: \", len(df_between))\n",
    "print(\"Number of over-40s events in Beijing: \", len(df_over))\n",
    "\n",
    "plt.figure(1, figsize=(12,18))\n",
    "plt.subplot(311)\n",
    "plt.title(\"Under-30s events by hour\")\n",
    "plt.hist(df_under['timestamp'].map( lambda x: pd.to_datetime(x).dayofweek*24 + pd.to_datetime(x).hour ), bins=168)\n",
    "plt.subplot(312)\n",
    "plt.title(\"30-something events by hour\")\n",
    "plt.hist(df_between['timestamp'].map( lambda x: pd.to_datetime(x).dayofweek*24 + pd.to_datetime(x).hour ), bins=168)\n",
    "plt.subplot(313)\n",
    "plt.title(\"Over-40s events by hour\")\n",
    "plt.hist(df_over['timestamp'].map( lambda x: pd.to_datetime(x).dayofweek*24 + pd.to_datetime(x).hour ), bins=168)\n",
    "plt.show()"
   ]
  },
  {
   "cell_type": "markdown",
   "id": "c67c5626",
   "metadata": {},
   "source": [
    "Interesting. Looks like our over-40s are really busy on Saturday afternoons.\n",
    "\n",
    "There's a similar bump on Friday night for the under-30s as for the women... that suggests that an event just after midnight on Friday night/Saturday morning is disproportionately likely to be both female and under 30. What are the actual ratios?"
   ]
  },
  {
   "cell_type": "code",
   "execution_count": null,
   "id": "dddac586",
   "metadata": {},
   "outputs": [],
   "source": [
    "idx_friday_night = df_joined['timestamp'].map( lambda x: (pd.to_datetime(x).dayofweek==5) & (pd.to_datetime(x).hour < 6) )\n",
    "df_friday_night = df_joined[idx_friday_night]\n",
    "print(\"Number of Friday night events: \", len(df_friday_night))\n",
    "print(\"Number of unique devices: \", df_friday_night[\"device_id\"].nunique())\n",
    "\n",
    "print(\"\\nBeijing Night Owls:\")\n",
    "df_friday_night[\"group\"].value_counts()"
   ]
  },
  {
   "cell_type": "markdown",
   "id": "6740111e",
   "metadata": {},
   "source": [
    "That fits our intuition from the other charts, then. Given that males outnumber females 2:1 in the data, and it's a small age range, that's quite a striking 'win' for F24-26 to represent a full 20% of the Friday night events.\n",
    "\n",
    "Does this pattern apply more generally? And what are the overall user ratios?"
   ]
  },
  {
   "cell_type": "code",
   "execution_count": null,
   "id": "f2e45a97",
   "metadata": {},
   "outputs": [],
   "source": [
    "print(\"Total users: \", len(df_gender_age))\n",
    "print(\"\\nUser group counts:\")\n",
    "df_gender_age[\"group\"].value_counts()"
   ]
  },
  {
   "cell_type": "markdown",
   "id": "ddfdab6a",
   "metadata": {},
   "source": [
    "Wow, so 1/17th (5.6%) of the users (F24-26) account for 1/5th (20.1%) of Friday night events in Beijing.\n",
    "\n",
    "It's too slow trying to check the whole of China, so I think I need to fix how I'm doing time calculations... to be continued in another Notebook."
   ]
  }
 ],
 "metadata": {},
 "nbformat": 4,
 "nbformat_minor": 5
}
