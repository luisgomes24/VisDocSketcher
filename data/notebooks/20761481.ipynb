{
 "cells": [
  {
   "cell_type": "markdown",
   "id": "51fac359",
   "metadata": {},
   "source": [
    "# 興味\n",
    "- どんなデータの形で入れるのが良いのか検討する\n",
    " - 全trainデータ\n",
    " - 全trainデータ、プレート・ねじ別"
   ]
  },
  {
   "cell_type": "code",
   "execution_count": null,
   "id": "ef5c7b0b",
   "metadata": {},
   "outputs": [],
   "source": [
    "# ライブラリのimport\n",
    "from dataclasses import dataclass\n",
    "from pathlib import Path\n",
    "\n",
    "import numpy as np\n",
    "import pandas as pd\n",
    "from tqdm import tqdm\n",
    "import matplotlib.pyplot as plt\n",
    "import plotly.express as px\n",
    "\n",
    "import librosa\n",
    "import librosa.display\n",
    "import IPython\n",
    "\n",
    "from sklearn.preprocessing import minmax_scale, MinMaxScaler\n",
    "from sklearn.decomposition import PCA\n",
    "from sklearn.manifold import TSNE\n",
    "\n",
    "from sklearn.metrics import roc_auc_score\n",
    "from sklearn.neighbors import LocalOutlierFactor\n",
    "from sklearn.ensemble import IsolationForest\n",
    "\n",
    "import umap\n"
   ]
  },
  {
   "cell_type": "code",
   "execution_count": null,
   "id": "b4dd81b5",
   "metadata": {},
   "outputs": [],
   "source": [
    "@dataclass(frozen=True)\n",
    "class DataPath:\n",
    "    input_dir: str = '../input/hah-data-science-challenge'\n",
    "    train_wav_dir: str = f'{input_dir}/train/train'\n",
    "    test_wav_dir: str = f'{input_dir}/test/test'\n",
    "    train_csv: str = f'{input_dir}/train.csv'\n",
    "    test_csv: str = f'{input_dir}/test.csv'\n",
    "\n",
    "data_path = DataPath()"
   ]
  },
  {
   "cell_type": "code",
   "execution_count": null,
   "id": "a3da1150",
   "metadata": {},
   "outputs": [],
   "source": [
    "df_train = pd.read_csv(data_path.train_csv)\n",
    "df_test = pd.read_csv(data_path.test_csv)\n",
    "\n",
    "df_train['file_path'] = data_path.train_wav_dir +'/' +df_train['ファイル']\n",
    "df_test['file_path'] = data_path.test_wav_dir +'/'+ df_test['ファイル']"
   ]
  },
  {
   "cell_type": "code",
   "execution_count": null,
   "id": "f8e66adb",
   "metadata": {},
   "outputs": [],
   "source": [
    "file_names = df_train['file_path'].tolist()"
   ]
  },
  {
   "cell_type": "code",
   "execution_count": null,
   "id": "d810e561",
   "metadata": {},
   "outputs": [],
   "source": [
    "from typing import List\n",
    "\n",
    "# フーリエ変換用のheplerクラスを作る。\n",
    "class FourieTransformHelper:\n",
    "    def __init__(self,  \n",
    "                 file_names: List[str],\n",
    "                 input_dir: str=None):\n",
    "        if isinstance(file_names, list):\n",
    "            self.file_names = file_names\n",
    "        else:\n",
    "            raise TypeError(f'file_names type is {type(file_names)} not list!')\n",
    "        self.input_dir = input_dir\n",
    "        self.spectra, self.frequencies = [], []\n",
    "        \n",
    "    def _get_spectrum(self, signal, sample_rate):\n",
    "        # 参考 https://medium.com/analytics-vidhya/simplifying-audio-data-fft-stft-mfcc-for-machine-learning-and-deep-learning-443a2f962e0e\n",
    "        fft = np.fft.fft(signal)\n",
    "        spectrum = np.abs(fft)\n",
    "        frequency = np.linspace(0, sample_rate, int(len(spectrum)/2))\n",
    "        spectrum = spectrum[:int(len(spectrum)/2)]\n",
    "        return spectrum, frequency\n",
    "    \n",
    "    def _get_filename(self, file_name):\n",
    "            if self.input_dir:\n",
    "                return f'{self.input_dir}/{file_name}'\n",
    "            else:\n",
    "                return file_name\n",
    "    \n",
    "    def get_spectra(self):\n",
    "        for file_name in tqdm(self.file_names):\n",
    "            file_path = self._get_filename(file_name)\n",
    "            audio, sample_rate = librosa.load(file_path)\n",
    "            # 適当な長さに切り取る。キリのいい数字にした。\n",
    "            audio = audio[:40000]\n",
    "            spectrum, frequency = self._get_spectrum(audio, sample_rate)\n",
    "            self.spectra.append(spectrum)\n",
    "            self.frequencies.append(frequency)   "
   ]
  },
  {
   "cell_type": "code",
   "execution_count": null,
   "id": "a2552475",
   "metadata": {},
   "outputs": [],
   "source": [
    "helper = FourieTransformHelper(file_names)\n",
    "helper.get_spectra()"
   ]
  },
  {
   "cell_type": "code",
   "execution_count": null,
   "id": "181143b8",
   "metadata": {},
   "outputs": [],
   "source": [
    "spectra = minmax_scale(helper.spectra, axis=1)"
   ]
  },
  {
   "cell_type": "code",
   "execution_count": null,
   "id": "eab15985",
   "metadata": {},
   "outputs": [],
   "source": [
    "df_frq = pd.DataFrame(spectra)"
   ]
  },
  {
   "cell_type": "code",
   "execution_count": null,
   "id": "8a20ae98",
   "metadata": {},
   "outputs": [],
   "source": [
    "df = pd.concat([df_train.reset_index(drop=True), df_frq], axis=1)"
   ]
  },
  {
   "cell_type": "markdown",
   "id": "bf776ff8",
   "metadata": {},
   "source": [
    "# 全てのデータを可視化してみる"
   ]
  },
  {
   "cell_type": "code",
   "execution_count": null,
   "id": "7912032c",
   "metadata": {},
   "outputs": [],
   "source": [
    "tsne_embed = TSNE().fit_transform(df.iloc[:, 8:])\n",
    "umap_embed = umap.UMAP().fit_transform(df.iloc[:, 8:])\n",
    "\n",
    "fig = px.scatter(x=tsne_embed[:,0],y=tsne_embed[:,1], \n",
    "                 color=df['Target'].astype(str).tolist(),\n",
    "                hover_name=df['ファイル'].tolist())\n",
    "fig.show()\n",
    "fig = px.scatter(x=umap_embed[:,0],y=umap_embed[:,1], \n",
    "                 color=df['Target'].astype(str).tolist(),               \n",
    "                 hover_name=df['ファイル'].tolist())\n",
    "fig.show()"
   ]
  },
  {
   "cell_type": "markdown",
   "id": "cbdb5106",
   "metadata": {},
   "source": [
    "# ネジとプレートを分けて可視化してみる\n",
    "\n",
    "## ネジ：大　プレート：大"
   ]
  },
  {
   "cell_type": "code",
   "execution_count": null,
   "id": "e9a7efa3",
   "metadata": {},
   "outputs": [],
   "source": [
    "df_screw_big_plate_big = df[(df['ねじ']=='大') & (df['プレート']=='大')]\n",
    "\n",
    "tsne_embed = TSNE().fit_transform(df_screw_big_plate_big.iloc[:, 8:])\n",
    "umap_embed = umap.UMAP().fit_transform(df_screw_big_plate_big.iloc[:, 8:])\n",
    "\n",
    "fig = px.scatter(x=tsne_embed[:,0],y=tsne_embed[:,1], \n",
    "                 color=df_screw_big_plate_big['Target'].astype(str).tolist(),\n",
    "                 hover_name=df_screw_big_plate_big['ファイル'].tolist())\n",
    "fig.show()\n",
    "fig = px.scatter(x=umap_embed[:,0],y=umap_embed[:,1], \n",
    "                 color=df_screw_big_plate_big['Target'].astype(str).tolist(),\n",
    "                 hover_name=df_screw_big_plate_big['ファイル'].tolist())\n",
    "fig.show()\n",
    "\n"
   ]
  },
  {
   "cell_type": "markdown",
   "id": "07803e37",
   "metadata": {},
   "source": [
    "## ネジ：小　プレート：大"
   ]
  },
  {
   "cell_type": "code",
   "execution_count": null,
   "id": "05af6aee",
   "metadata": {},
   "outputs": [],
   "source": [
    "df_screw_small_plate_big = df[(df['ねじ']=='小') & (df['プレート']=='大')]\n",
    "\n",
    "tsne_embed = TSNE().fit_transform(df_screw_small_plate_big.iloc[:, 8:])\n",
    "umap_embed = umap.UMAP().fit_transform(df_screw_small_plate_big.iloc[:, 8:])\n",
    "\n",
    "fig = px.scatter(x=tsne_embed[:,0],y=tsne_embed[:,1], \n",
    "                 color=df_screw_small_plate_big['Target'].astype(str).tolist(),\n",
    "                 hover_name=df_screw_small_plate_big['ファイル'].tolist())\n",
    "fig.show()\n",
    "fig = px.scatter(x=umap_embed[:,0],y=umap_embed[:,1], \n",
    "                 color=df_screw_small_plate_big['Target'].astype(str).tolist(),\n",
    "                 hover_name=df_screw_small_plate_big['ファイル'].tolist())\n",
    "fig.show()\n"
   ]
  },
  {
   "cell_type": "markdown",
   "id": "c1ce389c",
   "metadata": {},
   "source": [
    "## ネジ：大 プレート：小"
   ]
  },
  {
   "cell_type": "code",
   "execution_count": null,
   "id": "5b0b5eb3",
   "metadata": {},
   "outputs": [],
   "source": [
    "df_screw_big_plate_small = df[(df['ねじ']=='大') & (df['プレート']=='小')]\n",
    "\n",
    "tsne_embed = TSNE().fit_transform(df_screw_big_plate_small.iloc[:, 8:])\n",
    "umap_embed = umap.UMAP().fit_transform(df_screw_big_plate_small.iloc[:, 8:])\n",
    "\n",
    "fig = px.scatter(x=tsne_embed[:,0],y=tsne_embed[:,1], \n",
    "                 color=df_screw_big_plate_small['Target'].astype(str).tolist(),\n",
    "                 hover_name=df_screw_big_plate_small['ファイル'].tolist())\n",
    "fig.show()\n",
    "fig = px.scatter(x=umap_embed[:,0],y=umap_embed[:,1], \n",
    "                 color=df_screw_big_plate_small['Target'].astype(str).tolist(),\n",
    "                 hover_name=df_screw_big_plate_small['ファイル'].tolist())\n",
    "fig.show()\n",
    "\n"
   ]
  }
 ],
 "metadata": {},
 "nbformat": 4,
 "nbformat_minor": 5
}
