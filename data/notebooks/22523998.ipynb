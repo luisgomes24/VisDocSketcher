{
 "cells": [
  {
   "cell_type": "markdown",
   "id": "d6eed8ad",
   "metadata": {},
   "source": [
    "## EDA and data cleaning\n",
    "\n",
    "This notebook is only for data inspection and cleaning, it doesn't apply any modeling to the dataset.\n",
    "\n",
    "#### The following methods are applied:  \n",
    "- Load the csv file into a dataframe\n",
    "- Inspect number of images per dog\n",
    "- Inspect most common dog breeds in the dataset\n",
    "- Load image dimensions (width and height) and calculate aspect ratio for all images\n",
    "\n",
    "#### Data cleaning\n",
    "- Filter out images that are invalid, or too small (width or height < 100 pixels)\n",
    "- Filter out images with outlier aspect ratio (keep images with aspect ratio between 0.75 and 1.33)\n",
    "- Resize all images to 80x80 pixels\n",
    "- Convert all images to greyscale\n",
    "- Save the result into pkl file in the working directory\n",
    "\n",
    "\n",
    "**Note**: this notebook takes ~40 minutes to run!"
   ]
  },
  {
   "cell_type": "code",
   "execution_count": null,
   "id": "4bfc7874",
   "metadata": {},
   "outputs": [],
   "source": [
    "# basic imports\n",
    "import os\n",
    "import pandas as pd\n",
    "import numpy as np\n",
    "from tqdm import tqdm\n",
    "tqdm.pandas()\n",
    "\n",
    "# plotting imports\n",
    "from matplotlib import pyplot as plt \n",
    "import matplotlib.image as mpimg\n",
    "%matplotlib inline\n",
    "import seaborn as sns \n",
    "sns.set()\n",
    "\n",
    "# image libs imports\n",
    "from PIL import Image\n",
    "\n",
    "# global variables\n",
    "# Root folder: /kaggle/input/dog-breed-photos/\n",
    "# CSV file   : /kaggle/input/dog-breed-photos/dog_breed_photos.csv\n",
    "# Images     : /kaggle/input/dog-breed-photos/dog_breed_photos/dog_breed_photos/<image>\n",
    "image_folder = '/kaggle/input/dog-breed-photos/dog_breed_photos/dog_breed_photos/'"
   ]
  },
  {
   "cell_type": "code",
   "execution_count": null,
   "id": "a223bab2",
   "metadata": {},
   "outputs": [],
   "source": [
    "# load dataframe and look at random 5 rows\n",
    "df = pd.read_csv('/kaggle/input/dog-breed-photos/dog_breed_photos.csv')\n",
    "df.sample(5, random_state = 13)"
   ]
  },
  {
   "cell_type": "code",
   "execution_count": null,
   "id": "120ffe00",
   "metadata": {},
   "outputs": [],
   "source": [
    "# Show the histogram of number of photos per dog\n",
    "ax = df[['DogId', 'ImageNumber']].groupby('DogId').max()['ImageNumber'].hist(bins = 10)\n",
    "_ = ax.set(xticks=range(1,11), xlabel = '# Images per dog', ylabel='# Dogs')\n",
    "_ = ax.set_title('Histogram showing distribution of the number of images per dog')"
   ]
  },
  {
   "cell_type": "code",
   "execution_count": null,
   "id": "4551a32f",
   "metadata": {},
   "outputs": [],
   "source": [
    "# Most common breeds\n",
    "df['Breed'].value_counts().reset_index()\\\n",
    "    .rename(columns={'index': 'Most Common Breeds', 'Breed':'Dogs'}).head(10)"
   ]
  },
  {
   "cell_type": "code",
   "execution_count": null,
   "id": "efb06d3c",
   "metadata": {},
   "outputs": [],
   "source": [
    "# inspecting sample images from the images folder!\n",
    "df_plot = df.sample(9, random_state = 10).reset_index()\n",
    "fig, ax = plt.subplots(3,3, figsize=(12,12))\n",
    "for i, axi in enumerate(ax.flat):\n",
    "    breed = df_plot.Breed[i]                       # get the breed\n",
    "    filePath = image_folder + df_plot.Image[i]     # build file path\n",
    "    axi.imshow(Image.open(filePath))               # show the image\n",
    "    axi.set(xticks=[], yticks=[], xlabel = breed)  # put the breed as xlabel\n",
    "    axi.patch.set_edgecolor('black')               # black border\n",
    "    \n",
    "plt.suptitle('Sample photos in the dataset')\n",
    "fig.tight_layout()"
   ]
  },
  {
   "cell_type": "code",
   "execution_count": null,
   "id": "e6c8c51c",
   "metadata": {},
   "outputs": [],
   "source": [
    "# Get dimensions of images, some images are corrupted or cannot be read.\n",
    "# return (0,0) in that case so we can filter out corrupted images.\n",
    "def get_dimensions(path):\n",
    "    try:\n",
    "        image = Image.open(image_folder + path)\n",
    "        return image.size\n",
    "    except Exception as e:\n",
    "        return (0,0) # if the image is corrupted or un-readable return size (0,0)\n",
    "    \n",
    "# Get the dimensions of the image \n",
    "# use progress_apply to show progress of slow operations\n",
    "df[['Width', 'Height']] = df.progress_apply(lambda row: get_dimensions(row.Image) , axis = 1).tolist()"
   ]
  },
  {
   "cell_type": "code",
   "execution_count": null,
   "id": "e57b96ef",
   "metadata": {},
   "outputs": [],
   "source": [
    "# 2-d histogram of image width/height\n",
    "with sns.axes_style('white'):\n",
    "    sns.jointplot(x=\"Width\", y=\"Height\", data=df, kind=\"hist\", color ='blue')"
   ]
  },
  {
   "cell_type": "code",
   "execution_count": null,
   "id": "3dfd099d",
   "metadata": {},
   "outputs": [],
   "source": [
    "# Add aspect ratio as a new variable\n",
    "df['AspectRatio'] = np.where(df['Height'] > 0, df['Width']/df['Height'], 0)"
   ]
  },
  {
   "cell_type": "code",
   "execution_count": null,
   "id": "fe8093a1",
   "metadata": {},
   "outputs": [],
   "source": [
    "# check the aspect ratio of all the images\n",
    "_ = df['AspectRatio'].hist(bins = 10)"
   ]
  },
  {
   "cell_type": "code",
   "execution_count": null,
   "id": "691e2d84",
   "metadata": {},
   "outputs": [],
   "source": [
    "# OUTLIERS in aspect ratio:\n",
    "# check the images with outlier aspect ratio\n",
    "_ = df[['AspectRatio']].boxplot()"
   ]
  },
  {
   "cell_type": "markdown",
   "id": "edc131f5",
   "metadata": {},
   "source": [
    "## Data Cleaning decisions:\n"
   ]
  },
  {
   "cell_type": "code",
   "execution_count": null,
   "id": "8723dfa7",
   "metadata": {},
   "outputs": [],
   "source": [
    "## 1. Remove invalid or small images\n",
    "\n",
    "print(\"Shape before removing invalid images {}\".format(df.shape))\n",
    "\n",
    "# remove rows with zero/tiny width and height\n",
    "# this will remove corrupted images or very small images\n",
    "df = df[(df['Width'] >= 100) & (df['Height'] >= 100)].copy()\n",
    "\n",
    "print(\"Shape after removing invalid images {}\".format(df.shape))"
   ]
  },
  {
   "cell_type": "code",
   "execution_count": null,
   "id": "af7eaae2",
   "metadata": {},
   "outputs": [],
   "source": [
    "## 2. Remove rows with too small, or too high aspect ratio\n",
    "print(\"Shape before removing outlier aspect ratio {}\".format(df.shape))\n",
    "\n",
    "df = df[(df['AspectRatio'] > 0.749) & (df['AspectRatio'] < 1.334)].copy()\n",
    "\n",
    "print(\"Shape removing removing outlier aspect ratio {}\".format(df.shape))\n",
    "\n",
    "# check the boxplot of aspect ratio again to make sure we don't have outliers\n",
    "df[['AspectRatio']].boxplot()"
   ]
  },
  {
   "cell_type": "code",
   "execution_count": null,
   "id": "ab01195d",
   "metadata": {},
   "outputs": [],
   "source": [
    "## 3. Resize images and convert to greyscale\n",
    "def load_and_resize_image(path):\n",
    "    img = Image.open(image_folder + path)\n",
    "    img = img.resize((80, 80), Image.ANTIALIAS).convert(mode=\"L\") \n",
    "    return np.array(img)\n",
    "\n",
    "# show progress bar while resizing all images\n",
    "df['data'] = df.progress_apply(lambda row: load_and_resize_image(row.Image), axis = 1)"
   ]
  },
  {
   "cell_type": "markdown",
   "id": "cde33b47",
   "metadata": {},
   "source": [
    "## Saving clean data as pkl file"
   ]
  },
  {
   "cell_type": "code",
   "execution_count": null,
   "id": "6ea553a5",
   "metadata": {},
   "outputs": [],
   "source": [
    "## save to working folder\n",
    "df.to_pickle('/kaggle/working/dog_breed_photos_v1.pkl')"
   ]
  }
 ],
 "metadata": {},
 "nbformat": 4,
 "nbformat_minor": 5
}
