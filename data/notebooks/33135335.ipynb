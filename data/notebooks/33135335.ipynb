{
 "cells": [
  {
   "cell_type": "markdown",
   "id": "5a369a0c",
   "metadata": {},
   "source": [
    "# Libraries"
   ]
  },
  {
   "cell_type": "code",
   "execution_count": null,
   "id": "d9f113a2",
   "metadata": {},
   "outputs": [],
   "source": [
    "# Core\n",
    "import numpy as np\n",
    "import random\n",
    "import matplotlib.pyplot as plt\n",
    "%matplotlib inline\n",
    "from sklearn.metrics import confusion_matrix\n",
    "import seaborn as sns\n",
    "sns.set(style='darkgrid', font_scale=1.4)\n",
    "import os\n",
    "os.environ['TF_CPP_MIN_LOG_LEVEL'] = '3'\n",
    "\n",
    "# Tensorflow\n",
    "from tensorflow import keras\n",
    "from tensorflow.keras.preprocessing.image import ImageDataGenerator\n",
    "from tensorflow.keras.preprocessing import image\n",
    "from tensorflow.keras.applications.inception_resnet_v2 import InceptionResNetV2, preprocess_input\n",
    "from tensorflow.keras.layers import Dense, Flatten\n",
    "from tensorflow.keras.models import Model\n",
    "from tensorflow.keras.optimizers import Adam"
   ]
  },
  {
   "cell_type": "markdown",
   "id": "d3dc1f61",
   "metadata": {},
   "source": [
    "# Config"
   ]
  },
  {
   "cell_type": "code",
   "execution_count": null,
   "id": "e1ac47ea",
   "metadata": {},
   "outputs": [],
   "source": [
    "# Paths\n",
    "train_dir = '/kaggle/input/cats-and-dogs-image-classification/train'\n",
    "test_dir = '/kaggle/input/cats-and-dogs-image-classification/test'\n",
    "\n",
    "# Hyperparameters\n",
    "CFG = dict(\n",
    "    seed = 77,\n",
    "    batch_size = 16,\n",
    "    img_size = (299,299),\n",
    "    epochs = 5,\n",
    "    patience = 5\n",
    ")"
   ]
  },
  {
   "cell_type": "markdown",
   "id": "153b2d6f",
   "metadata": {},
   "source": [
    "# Data augmentation"
   ]
  },
  {
   "cell_type": "code",
   "execution_count": null,
   "id": "49badf65",
   "metadata": {},
   "outputs": [],
   "source": [
    "# Augment train set only\n",
    "train_data_generator = ImageDataGenerator(\n",
    "        validation_split=0.15,\n",
    "        rotation_range=15,\n",
    "        width_shift_range=0.1,\n",
    "        height_shift_range=0.1,\n",
    "        preprocessing_function=preprocess_input,\n",
    "        shear_range=0.1,\n",
    "        zoom_range=0.2,\n",
    "        horizontal_flip=True,\n",
    "        fill_mode='nearest')\n",
    "\n",
    "val_data_generator = ImageDataGenerator(preprocessing_function=preprocess_input, validation_split=0.15)\n",
    "test_data_generator = ImageDataGenerator(preprocessing_function=preprocess_input)"
   ]
  },
  {
   "cell_type": "markdown",
   "id": "becdf225",
   "metadata": {},
   "source": [
    "# Data"
   ]
  },
  {
   "cell_type": "code",
   "execution_count": null,
   "id": "b60f7530",
   "metadata": {},
   "outputs": [],
   "source": [
    "# Connect generators to data in folders\n",
    "train_generator = train_data_generator.flow_from_directory(train_dir, target_size=CFG['img_size'], shuffle=True, seed=CFG['seed'], class_mode='categorical', batch_size=CFG['batch_size'], subset=\"training\")\n",
    "validation_generator = val_data_generator.flow_from_directory(train_dir, target_size=CFG['img_size'], shuffle=False, seed=CFG['seed'], class_mode='categorical', batch_size=CFG['batch_size'], subset=\"validation\")\n",
    "test_generator = test_data_generator.flow_from_directory(test_dir, target_size=CFG['img_size'], shuffle=False, seed=CFG['seed'], class_mode='categorical', batch_size=CFG['batch_size'])\n",
    "\n",
    "# Number of samples and classes\n",
    "nb_train_samples = train_generator.samples\n",
    "nb_validation_samples = validation_generator.samples\n",
    "nb_test_samples = test_generator.samples\n",
    "classes = list(train_generator.class_indices.keys())\n",
    "print('Classes:'+str(classes))\n",
    "num_classes = len(classes)"
   ]
  },
  {
   "cell_type": "code",
   "execution_count": null,
   "id": "19d9fa53",
   "metadata": {},
   "outputs": [],
   "source": [
    "# Visualise some examples\n",
    "plt.figure(figsize=(15,15))\n",
    "for i in range(9):\n",
    "    ax = plt.subplot(3,3,i+1)\n",
    "    ax.grid(False)\n",
    "    ax.get_xaxis().set_visible(False)\n",
    "    ax.get_yaxis().set_visible(False)\n",
    "    batch = train_generator.next()\n",
    "    imgs = (batch[0] + 1) * 127.5\n",
    "    label = int(batch[1][0][0])\n",
    "    image = imgs[0].astype('uint8')\n",
    "    plt.imshow(image)\n",
    "    plt.title('cat' if label==1 else 'dog')\n",
    "plt.show()"
   ]
  },
  {
   "cell_type": "markdown",
   "id": "eb9a763c",
   "metadata": {},
   "source": [
    "# Transfer learning"
   ]
  },
  {
   "cell_type": "code",
   "execution_count": null,
   "id": "de44e15f",
   "metadata": {},
   "outputs": [],
   "source": [
    "# Pre-trained deep convolutional neural network\n",
    "base_model = InceptionResNetV2(weights='imagenet', include_top=False, input_shape=(CFG['img_size'][0], CFG['img_size'][1], 3))\n",
    "\n",
    "# Add new layers\n",
    "x = base_model.output\n",
    "x = Flatten()(x)\n",
    "x = Dense(100, activation='relu')(x)\n",
    "predictions = Dense(num_classes, activation='softmax', kernel_initializer='random_uniform')(x)\n",
    "\n",
    "# Build model\n",
    "model = Model(inputs=base_model.input, outputs=predictions)\n",
    "\n",
    "# Freeze pre-trained layers\n",
    "for layer in base_model.layers:\n",
    "    layer.trainable = False\n",
    "    \n",
    "# Define optimiser\n",
    "optimizer = Adam()\n",
    "model.compile(optimizer=optimizer, loss='categorical_crossentropy', metrics=['accuracy'])"
   ]
  },
  {
   "cell_type": "markdown",
   "id": "9cec005c",
   "metadata": {},
   "source": [
    "# Train model"
   ]
  },
  {
   "cell_type": "code",
   "execution_count": null,
   "id": "4313f42c",
   "metadata": {},
   "outputs": [],
   "source": [
    "# Save the best model\n",
    "save_checkpoint = keras.callbacks.ModelCheckpoint(filepath='model.h5', monitor='val_loss', save_best_only=True, verbose=1)\n",
    "\n",
    "# Early stopping\n",
    "early_stopping = keras.callbacks.EarlyStopping(monitor='val_loss', patience=CFG['patience'], verbose=True)"
   ]
  },
  {
   "cell_type": "code",
   "execution_count": null,
   "id": "a43d270e",
   "metadata": {},
   "outputs": [],
   "source": [
    "# Train model\n",
    "history = model.fit(\n",
    "        train_generator,\n",
    "        steps_per_epoch=nb_train_samples // CFG['batch_size'],\n",
    "        epochs=CFG['epochs'],\n",
    "        callbacks=[save_checkpoint,early_stopping],\n",
    "        validation_data=validation_generator,\n",
    "        verbose=True,\n",
    "        validation_steps=nb_validation_samples // CFG['batch_size'])"
   ]
  },
  {
   "cell_type": "markdown",
   "id": "0ef1ae1c",
   "metadata": {},
   "source": [
    "# Learning curves"
   ]
  },
  {
   "cell_type": "code",
   "execution_count": null,
   "id": "9babfc0d",
   "metadata": {},
   "outputs": [],
   "source": [
    "# History\n",
    "history_dict = history.history\n",
    "loss_values = history_dict['loss']\n",
    "val_loss_values = history_dict['val_loss']\n",
    "\n",
    "# Loss\n",
    "epochs_x = range(1, len(loss_values) + 1)\n",
    "plt.figure(figsize=(10,10))\n",
    "plt.subplot(2,1,1)\n",
    "plt.plot(epochs_x, loss_values, 'b-o', label='Training loss')\n",
    "plt.plot(epochs_x, val_loss_values, 'r-o', label='Validation loss')\n",
    "plt.title('Training and validation Loss')\n",
    "plt.xlabel('Epochs')\n",
    "plt.ylabel('Loss')\n",
    "\n",
    "# Accuracy\n",
    "plt.subplot(2,1,2)\n",
    "acc_values = history_dict['accuracy']\n",
    "val_acc_values = history_dict['val_accuracy']\n",
    "plt.plot(epochs_x, acc_values, 'b-o', label='Training acc')\n",
    "plt.plot(epochs_x, val_acc_values, 'r-o', label='Validation acc')\n",
    "plt.title('Training and validation accuracy')\n",
    "plt.xlabel('Epochs')\n",
    "plt.ylabel('Acc')\n",
    "plt.legend()\n",
    "plt.tight_layout()\n",
    "plt.show()"
   ]
  },
  {
   "cell_type": "markdown",
   "id": "56f453e8",
   "metadata": {},
   "source": [
    "# Evaluate"
   ]
  },
  {
   "cell_type": "code",
   "execution_count": null,
   "id": "01c3820d",
   "metadata": {},
   "outputs": [],
   "source": [
    "# Evaluate on validation dataset\n",
    "score = model.evaluate(validation_generator, verbose=False)\n",
    "print('Val loss:', score[0])\n",
    "print('Val accuracy:', score[1])"
   ]
  },
  {
   "cell_type": "code",
   "execution_count": null,
   "id": "71036c82",
   "metadata": {},
   "outputs": [],
   "source": [
    "# Evaluate on test dataset\n",
    "score = model.evaluate(test_generator, verbose=False)\n",
    "print('Test loss:', score[0])\n",
    "print('Test accuracy:', score[1])"
   ]
  },
  {
   "cell_type": "code",
   "execution_count": null,
   "id": "d80bcef3",
   "metadata": {},
   "outputs": [],
   "source": [
    "# Confusion matrix\n",
    "y_pred = np.argmax(model.predict(test_generator), axis=1)\n",
    "cm = confusion_matrix(test_generator.classes, y_pred)\n",
    "\n",
    "# Heatmap\n",
    "plt.figure(figsize=(8,6))\n",
    "sns.heatmap(cm, annot=True, fmt='d', cbar=True, cmap='Blues',xticklabels=classes, yticklabels=classes)\n",
    "plt.xlabel('Predicted label')\n",
    "plt.ylabel('True label')\n",
    "plt.title('Confusion matrix')\n",
    "plt.show()"
   ]
  }
 ],
 "metadata": {},
 "nbformat": 4,
 "nbformat_minor": 5
}
