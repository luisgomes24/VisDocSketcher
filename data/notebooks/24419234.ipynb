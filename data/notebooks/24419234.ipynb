{
 "cells": [
  {
   "cell_type": "code",
   "execution_count": null,
   "id": "13b90397",
   "metadata": {},
   "outputs": [],
   "source": [
    "import pandas as pd\n",
    "train=pd.read_csv('../input/autism-prediction-autoviz/train.csv')\n",
    "train.head()"
   ]
  },
  {
   "cell_type": "code",
   "execution_count": null,
   "id": "f5e0ca44",
   "metadata": {},
   "outputs": [],
   "source": [
    "test=pd.read_csv('../input/autism-prediction-autoviz/test.csv')\n",
    "test.head()"
   ]
  },
  {
   "cell_type": "code",
   "execution_count": null,
   "id": "49c8d7a2",
   "metadata": {},
   "outputs": [],
   "source": [
    "train.info()"
   ]
  },
  {
   "cell_type": "code",
   "execution_count": null,
   "id": "ad8bab63",
   "metadata": {},
   "outputs": [],
   "source": [
    "Score_cols = [col for col in train.columns if '_Score' in col]\n",
    "Score_cols"
   ]
  },
  {
   "cell_type": "code",
   "execution_count": null,
   "id": "8ca4a830",
   "metadata": {},
   "outputs": [],
   "source": [
    "train[Score_cols]=train[Score_cols].astype('object')\n",
    "train['result']=train['result'].astype('float')\n",
    "train.info()"
   ]
  },
  {
   "cell_type": "code",
   "execution_count": null,
   "id": "63f23f63",
   "metadata": {},
   "outputs": [],
   "source": [
    "test[Score_cols]=test[Score_cols].astype('object')\n",
    "test['result']=test['result'].astype('float')\n",
    "test.info()"
   ]
  },
  {
   "cell_type": "code",
   "execution_count": null,
   "id": "c9c23235",
   "metadata": {},
   "outputs": [],
   "source": [
    "test_fake=train.sample(frac=0.2) #workaround to make sure we train 100% of the train.csv than training 1% to 99% data\n",
    "test_fake.reset_index(drop=True, inplace=True)\n",
    "test_fake.head()"
   ]
  },
  {
   "cell_type": "code",
   "execution_count": null,
   "id": "96c53095",
   "metadata": {},
   "outputs": [],
   "source": [
    "!pip install pycaret[full]"
   ]
  },
  {
   "cell_type": "code",
   "execution_count": null,
   "id": "89b8ceb9",
   "metadata": {},
   "outputs": [],
   "source": [
    "from pycaret.classification import *"
   ]
  },
  {
   "cell_type": "code",
   "execution_count": null,
   "id": "6f7a2ed4",
   "metadata": {},
   "outputs": [],
   "source": [
    "autism= setup(data=train,\n",
    "          target = \"Class/ASD\",  session_id=42,\n",
    "           remove_multicollinearity = True, \n",
    "          test_data = test_fake,\n",
    "           silent=True,\n",
    "           data_split_stratify=True,data_split_shuffle=True,\n",
    "           fix_imbalance=True\n",
    "         )"
   ]
  },
  {
   "cell_type": "code",
   "execution_count": null,
   "id": "5ea0284b",
   "metadata": {},
   "outputs": [],
   "source": [
    "et=create_model('et')\n",
    "et"
   ]
  },
  {
   "cell_type": "code",
   "execution_count": null,
   "id": "8e79c5f9",
   "metadata": {},
   "outputs": [],
   "source": [
    "plot_model(et, plot = 'confusion_matrix', use_train_data = True)"
   ]
  },
  {
   "cell_type": "code",
   "execution_count": null,
   "id": "fcac9ab3",
   "metadata": {},
   "outputs": [],
   "source": [
    "plot_model(et, plot = 'auc', use_train_data = True)"
   ]
  },
  {
   "cell_type": "code",
   "execution_count": null,
   "id": "091c088d",
   "metadata": {},
   "outputs": [],
   "source": [
    "predictions=predict_model(et,data =test,raw_score=True)\n",
    "predictions.head()"
   ]
  },
  {
   "cell_type": "code",
   "execution_count": null,
   "id": "d8cc607c",
   "metadata": {},
   "outputs": [],
   "source": [
    "sol=pd.read_csv('../input/autism-prediction/Autism-prediction/sample_submission.csv')\n",
    "sol.head()"
   ]
  },
  {
   "cell_type": "code",
   "execution_count": null,
   "id": "0dd7a72b",
   "metadata": {},
   "outputs": [],
   "source": [
    "sol['Class/ASD']=predictions['Score_1']\n",
    "sol.head()"
   ]
  },
  {
   "cell_type": "code",
   "execution_count": null,
   "id": "6a0f52ea",
   "metadata": {},
   "outputs": [],
   "source": [
    "sol.to_csv('./submission.csv',index=False)"
   ]
  }
 ],
 "metadata": {},
 "nbformat": 4,
 "nbformat_minor": 5
}
