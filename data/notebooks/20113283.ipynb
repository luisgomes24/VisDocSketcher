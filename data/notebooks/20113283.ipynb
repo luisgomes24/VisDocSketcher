{
 "cells": [
  {
   "cell_type": "code",
   "execution_count": null,
   "id": "39d2fbb7",
   "metadata": {},
   "outputs": [],
   "source": [
    "!git clone https://github.com/ultralytics/yolov5.git"
   ]
  },
  {
   "cell_type": "code",
   "execution_count": null,
   "id": "e16532cc",
   "metadata": {},
   "outputs": [],
   "source": [
    "import matplotlib.pyplot as plt\n",
    "from mpl_toolkits.axes_grid1 import ImageGrid\n",
    "import numpy as np\n",
    "import random\n",
    "import cv2\n",
    "import pandas as pd\n",
    "import os\n",
    "from skimage.measure import label, regionprops\n",
    "import shutil\n",
    "from tqdm import tqdm\n",
    "import glob"
   ]
  },
  {
   "cell_type": "code",
   "execution_count": null,
   "id": "113ddf84",
   "metadata": {},
   "outputs": [],
   "source": [
    "import pandas as pd \n",
    "class CFG:\n",
    "    path_xlsx = \"../input/miniddsm2/MINI-DDSM-Complete-JPEG-8/DataWMask.xlsx\"\n",
    "    path_img =\"../input/miniddsm2/MINI-DDSM-Complete-JPEG-8/\"\n",
    "    path_more_two_mask = \"../input/miniddsm2/Data-MoreThanTwoMasks/\"\n",
    "    ratio_train=0.7\n",
    "    ratio_valid=0.2\n",
    "    ratio_test =0.1\n",
    "    IMG_SIZE = 1280"
   ]
  },
  {
   "cell_type": "code",
   "execution_count": null,
   "id": "cd9505a7",
   "metadata": {},
   "outputs": [],
   "source": [
    "!pip install openpyxl"
   ]
  },
  {
   "cell_type": "code",
   "execution_count": null,
   "id": "632e287d",
   "metadata": {},
   "outputs": [],
   "source": [
    "data = pd.read_excel(CFG.path_xlsx,engine='openpyxl')"
   ]
  },
  {
   "cell_type": "code",
   "execution_count": null,
   "id": "53fbf8aa",
   "metadata": {},
   "outputs": [],
   "source": [
    "%pylab inline\n",
    "def show_img(img):\n",
    "    figure(figsize=(30, 15), dpi=50)\n",
    "    imgplot = plt.imshow(img)\n",
    "    plt.show()"
   ]
  },
  {
   "cell_type": "code",
   "execution_count": null,
   "id": "f556e1a6",
   "metadata": {},
   "outputs": [],
   "source": [
    "data.head(5)"
   ]
  },
  {
   "cell_type": "code",
   "execution_count": null,
   "id": "384ab397",
   "metadata": {},
   "outputs": [],
   "source": [
    "import random"
   ]
  },
  {
   "cell_type": "code",
   "execution_count": null,
   "id": "5c9f472d",
   "metadata": {},
   "outputs": [],
   "source": [
    "visualize = False\n",
    "count_non = 0\n",
    "path_result = \"./data\"\n",
    "path_result_img  = path_result +\"/\" +\"images\"\n",
    "path_result_label = path_result + \"/\"+\"labels\"\n",
    "os.makedirs(path_result, exist_ok=True)\n",
    "os.makedirs(path_result_img, exist_ok=True)\n",
    "os.makedirs(path_result_label, exist_ok=True)\n",
    "mapping = {\n",
    "    'Benign':'0','Cancer':'1','Normal':'2'\n",
    "}\n",
    "for status in data['Status'].unique():\n",
    "    sub_data = data[data['Status']==status]\n",
    "    for index in tqdm(range(data.shape[0]),total=data.shape[0]):\n",
    "        point = data.iloc[index]\n",
    "        path_img = CFG.path_img + point['fullPath'].replace('\\\\','/')\n",
    "        status = point['Status']\n",
    "        mask1 = CFG.path_img + point['Tumour_Contour'].replace('\\\\','/')\n",
    "        mask2 = CFG.path_img + point['Tumour_Contour2'].replace('\\\\','/')\n",
    "        patient_id = point['fullPath'].split(\"\\\\\")[1]\n",
    "        mask_path = []\n",
    "        if mask1.split('/')[-1]!='-':\n",
    "            mask_path = [mask1]\n",
    "        if mask2.split('/')[-1]!='-':\n",
    "            mask_path.append(mask2)\n",
    "            path_more_two_mask = CFG.path_more_two_mask+status+\"/\"+patient_id+\"/\"\n",
    "            specific_type = point['fullPath'].split(\"\\\\\")[2].replace('.jpg','')\n",
    "            for mask_id in range(3,10):\n",
    "                path_extend_mask = path_more_two_mask + specific_type + '_Mask'+str(mask_id) + \".png\"\n",
    "                if not os.path.exists(path_extend_mask):\n",
    "                    pass\n",
    "                else:\n",
    "                    mask_path.append(path_extend_mask)\n",
    "        #### make dirs ####\n",
    "        path_image_status = [path_result_img + \"/\" + status + \"/\" +patient_id,path_result_label + \"/\" + status+\"/\"+patient_id]\n",
    "        os.makedirs(path_image_status[0], exist_ok=True)\n",
    "        os.makedirs(path_image_status[1], exist_ok=True)\n",
    "        ### make folder result ###\n",
    "        path_image_new = path_result_img+\"/\"+point['fullPath'].replace('\\\\','/')\n",
    "        path_txt_new =  path_result_label+\"/\"+point['fullPath'].replace('\\\\','/').replace('.jpg','.txt')\n",
    "        img_main = cv2.imread(path_img)\n",
    "        scale_x = CFG.IMG_SIZE/img_main.shape[1]\n",
    "        scale_y = CFG.IMG_SIZE/img_main.shape[0]\n",
    "        img_main_rs = cv2.resize(img_main, dsize=(CFG.IMG_SIZE,CFG.IMG_SIZE), interpolation = cv2.INTER_AREA)\n",
    "        img_main_rs = img_main_rs.astype(np.uint16)\n",
    "        cv2.imwrite(path_image_new, img_main_rs)\n",
    "\n",
    "        file_txt = open(path_txt_new, 'w')\n",
    "        yolo_txt = []\n",
    "        for path_mask_image in mask_path:\n",
    "    #         print(\"path_mask_image\", path_mask_image)\n",
    "            if not os.path.exists(path_mask_image):\n",
    "                continue\n",
    "            mask = cv2.imread(path_mask_image)\n",
    "            mask[(mask>0)&(mask<255)]=255\n",
    "\n",
    "            cancer_one_channel = mask[:,:,0]\n",
    "            bboxs = regionprops(cancer_one_channel)\n",
    "\n",
    "            for prop in bboxs:\n",
    "                bb = list(prop.bbox)\n",
    "                bb[0], bb[2] = bb[0]*scale_y, bb[2]*scale_y \n",
    "                bb[1], bb[3] = bb[1]*scale_x, bb[3]*scale_x  \n",
    "                w = mask.shape[1] * scale_x\n",
    "                h = mask.shape[0] * scale_y\n",
    "                if visualize:\n",
    "                    mask_rs = cv2.resize(mask, dsize=(CFG.IMG_SIZE,CFG.IMG_SIZE), interpolation = cv2.INTER_AREA)\n",
    "                    complete_rec = cv2.rectangle(img_main_rs, (int(bb[1]), int(bb[0])), (int(bb[3]), int(bb[2])), (255, 0, 0), 2)\n",
    "                    mask_rec = cv2.rectangle(mask_rs, (int(bb[1]), int(bb[0])), (int(bb[3]), int(bb[2])), (255, 0, 0), 2)\n",
    "\n",
    "                    show_img(img=complete_rec)\n",
    "                    show_img(img=mask_rec)\n",
    "\n",
    "                center_x = (bb[1] + bb[3])/(2*w)\n",
    "                center_y = (bb[0] + bb[2])/(2*h)\n",
    "                height_norm = (bb[2] - bb[0])/h\n",
    "                width_norm = (bb[3] - bb[1])/w\n",
    "                if center_x>1 or center_y>1 or width_norm>1 or height_norm>1:\n",
    "                    continue\n",
    "                yolo_txt.append(\"{} {} {} {} {}\".format(mapping[status],\\\n",
    "                                                        str(np.round(center_x,4)),\\\n",
    "                                                        str(np.round(center_y,4)),\\\n",
    "                                                        str(np.round(width_norm,4)),\\\n",
    "                                                        str(np.round(height_norm,4))))\n",
    "        yolo_txt = \"\\n\".join(yolo_txt)\n",
    "        yolo_txt = yolo_txt[:-1]\n",
    "        file_txt.write(yolo_txt)\n",
    "        file_txt.close()"
   ]
  },
  {
   "cell_type": "code",
   "execution_count": null,
   "id": "dc431692",
   "metadata": {},
   "outputs": [],
   "source": [
    "for col in ['Status']:\n",
    "    for breast_type in data[col].unique():\n",
    "        print(breast_type,' ',data[data['Status']==breast_type].shape[0]/data.shape[0])"
   ]
  },
  {
   "cell_type": "code",
   "execution_count": null,
   "id": "acf96bab",
   "metadata": {},
   "outputs": [],
   "source": [
    "data[data['Tumour_Contour']!='-'].shape[0]/data.shape[0]"
   ]
  },
  {
   "cell_type": "code",
   "execution_count": null,
   "id": "bc8ee6f6",
   "metadata": {},
   "outputs": [],
   "source": [
    "original = \"./data/\"\n",
    "path_yolo = \"./yolo_data/\"\n",
    "os.makedirs(path_yolo,exist_ok=True)\n",
    "for phase in ['images','labels']:\n",
    "    os.makedirs(path_yolo+phase, exist_ok=True)\n",
    "\n",
    "for type_data in ['Benign','Cancer','Normal']:\n",
    "    path_image_folder = original + 'images/'+type_data + \"/\"\n",
    "#     path_label_folder = original + 'images/'+type_data + \"/\"\n",
    "    data_set = glob.glob(path_image_folder+'*/*.jpg')\n",
    "    len_train = int(CFG.ratio*len(data_set))\n",
    "    random.shuffle(data_set)\n",
    "    train = data_set[:len_train]\n",
    "    valid = data_set[len_train:]\n",
    "    \n",
    "    for phase in ['train','valid']:\n",
    "        path_txt_new = path_yolo + \"labels\" + \"/\"+phase+\"/\"\n",
    "        path_img_new = path_yolo + \"images\" + \"/\" +phase+\"/\"\n",
    "        os.makedirs(path_txt_new,exist_ok=True)\n",
    "        os.makedirs(path_img_new,exist_ok=True)\n",
    "        for path_image in tqdm(eval(phase),total=len(phase)):\n",
    "#             print(path_image)\n",
    "            name = path_image.split('/')[-1]\n",
    "            txt = name.replace('.jpg','.txt')\n",
    "            path_new_image = path_img_new + name\n",
    "            path_old_txt = path_image.replace('.jpg','.txt').replace('images','labels')\n",
    "            path_new_txt = path_txt_new +txt\n",
    "            shutil.move(path_image, path_new_image)\n",
    "            shutil.move(path_old_txt, path_new_txt)"
   ]
  },
  {
   "cell_type": "code",
   "execution_count": null,
   "id": "f593a3e3",
   "metadata": {},
   "outputs": [],
   "source": [
    "!tar -czvf yolo_data.tar.gz ./yolo_data"
   ]
  },
  {
   "cell_type": "code",
   "execution_count": null,
   "id": "7ad5ef69",
   "metadata": {},
   "outputs": [],
   "source": [
    "from IPython.display import FileLink\n",
    "FileLink('yolo_data.tar.gz')"
   ]
  },
  {
   "cell_type": "code",
   "execution_count": null,
   "id": "845cf462",
   "metadata": {},
   "outputs": [],
   "source": [
    "!mv -v ./yolo_data ./yolov5/"
   ]
  },
  {
   "cell_type": "code",
   "execution_count": null,
   "id": "c781be15",
   "metadata": {},
   "outputs": [],
   "source": [
    "cd yolov5"
   ]
  },
  {
   "cell_type": "code",
   "execution_count": null,
   "id": "9c489e7e",
   "metadata": {},
   "outputs": [],
   "source": [
    "# Create .yaml file \n",
    "import yaml\n",
    "data_yaml = dict(\n",
    "    train = './yolo_data/images/train',\n",
    "    val = './yolo_data/images/valid',\n",
    "    nc = 3,\n",
    "    names = [ 'Benign','Cancer','Normal']\n",
    ")\n",
    "# Note that I am creating the file in the yolov5/data/ directory.\n",
    "with open('./data/breast_cancer.yaml', 'w') as outfile:\n",
    "    yaml.dump(data_yaml, outfile, default_flow_style=True)\n",
    "%cat ./data/breast_cancer.yaml"
   ]
  },
  {
   "cell_type": "code",
   "execution_count": null,
   "id": "109c3b11",
   "metadata": {},
   "outputs": [],
   "source": [
    "!pip install -r requirements.txt"
   ]
  },
  {
   "cell_type": "code",
   "execution_count": null,
   "id": "cb4e3aca",
   "metadata": {},
   "outputs": [],
   "source": [
    "from kaggle_secrets import UserSecretsClient\n",
    "import wandb\n",
    "user_secrets = UserSecretsClient()\n",
    "wandb_api = user_secrets.get_secret(\"wandb_api\")\n",
    "wandb.login(key=wandb_api)"
   ]
  },
  {
   "cell_type": "code",
   "execution_count": null,
   "id": "3588db24",
   "metadata": {},
   "outputs": [],
   "source": [
    "import torch\n",
    "torch.cuda.empty_cache()"
   ]
  },
  {
   "cell_type": "code",
   "execution_count": null,
   "id": "d6ba3017",
   "metadata": {},
   "outputs": [],
   "source": [
    "!python train.py --img $CFG.IMG_SIZE \\\n",
    "                 --batch 8 \\\n",
    "                 --epochs 1000 \\\n",
    "                 --data ./data/breast_cancer.yaml \\\n",
    "                 --weights yolov5m.pt \\\n",
    "                 --save_period 1\\\n",
    "                 --project breast_cancer\\\n",
    "                 --name runrun\\\n",
    "                 --workers  8"
   ]
  },
  {
   "cell_type": "code",
   "execution_count": null,
   "id": "253fddaa",
   "metadata": {},
   "outputs": [],
   "source": [
    "nan"
   ]
  }
 ],
 "metadata": {},
 "nbformat": 4,
 "nbformat_minor": 5
}
