{
 "cells": [
  {
   "cell_type": "code",
   "execution_count": null,
   "id": "1ad32f12",
   "metadata": {},
   "outputs": [],
   "source": [
    "# This Python 3 environment comes with many helpful analytics libraries installed\n",
    "# It is defined by the kaggle/python Docker image: https://github.com/kaggle/docker-python\n",
    "# For example, here's several helpful packages to load\n",
    "\n",
    "import numpy as np # linear algebra\n",
    "import pandas as pd # data processing, CSV file I/O (e.g. pd.read_csv)\n",
    "\n",
    "# Input data files are available in the read-only \"../input/\" directory\n",
    "# For example, running this (by clicking run or pressing Shift+Enter) will list all files under the input directory\n",
    "\n",
    "import os\n",
    "for dirname, _, filenames in os.walk('/kaggle/input'):\n",
    "    for filename in filenames:\n",
    "        print(os.path.join(dirname, filename))\n",
    "\n",
    "# You can write up to 20GB to the current directory (/kaggle/working/) that gets preserved as output when you create a version using \"Save & Run All\" \n",
    "# You can also write temporary files to /kaggle/temp/, but they won't be saved outside of the current session"
   ]
  },
  {
   "cell_type": "code",
   "execution_count": null,
   "id": "3a83f8fa",
   "metadata": {},
   "outputs": [],
   "source": [
    "cd36_importances = pd.read_csv('/kaggle/input/research-project-01-around-multimodal-singlecell/CD36importances.csv')"
   ]
  },
  {
   "cell_type": "code",
   "execution_count": null,
   "id": "a4a8dc03",
   "metadata": {},
   "outputs": [],
   "source": [
    "cd36_importances.head()"
   ]
  },
  {
   "cell_type": "code",
   "execution_count": null,
   "id": "84153a21",
   "metadata": {},
   "outputs": [],
   "source": [
    "cd36_importances_new = cd36_importances.loc[1:, :]\n",
    "cd36_importances_new.columns = cd36_importances.loc[0, :]"
   ]
  },
  {
   "cell_type": "code",
   "execution_count": null,
   "id": "ec2bc216",
   "metadata": {},
   "outputs": [],
   "source": [
    "cd36_importances_new.head()"
   ]
  },
  {
   "cell_type": "code",
   "execution_count": null,
   "id": "096270b7",
   "metadata": {},
   "outputs": [],
   "source": [
    "train_cite_input_df = pd.read_hdf(\"/kaggle/input/open-problems-multimodal/train_cite_inputs.h5\")\n",
    "train_cite_target_df = pd.read_hdf(\"/kaggle/input/open-problems-multimodal/train_cite_targets.h5\")"
   ]
  },
  {
   "cell_type": "code",
   "execution_count": null,
   "id": "8b9b7c81",
   "metadata": {},
   "outputs": [],
   "source": [
    "train_cite_input_df.head()"
   ]
  },
  {
   "cell_type": "code",
   "execution_count": null,
   "id": "5eb0a2af",
   "metadata": {},
   "outputs": [],
   "source": [
    "train_cite_target_df.head()"
   ]
  },
  {
   "cell_type": "code",
   "execution_count": null,
   "id": "9354e979",
   "metadata": {},
   "outputs": [],
   "source": [
    "dfc = train_cite_input_df.rename(columns=lambda x: x.split('_')[0])"
   ]
  },
  {
   "cell_type": "code",
   "execution_count": null,
   "id": "5faa0183",
   "metadata": {},
   "outputs": [],
   "source": [
    "dfc.head()"
   ]
  },
  {
   "cell_type": "code",
   "execution_count": null,
   "id": "3e62c0c4",
   "metadata": {},
   "outputs": [],
   "source": [
    "cd36_importances_new.head()"
   ]
  },
  {
   "cell_type": "markdown",
   "id": "7a875c29",
   "metadata": {},
   "source": [
    "### SIM CD36 Correlation"
   ]
  },
  {
   "cell_type": "code",
   "execution_count": null,
   "id": "47455fcc",
   "metadata": {},
   "outputs": [],
   "source": [
    "sim_cd_list = cd36_importances_new['SEMANTIC'].tolist()"
   ]
  },
  {
   "cell_type": "code",
   "execution_count": null,
   "id": "1eaf9c79",
   "metadata": {},
   "outputs": [],
   "source": [
    "%%capture\n",
    "!pip install mygene"
   ]
  },
  {
   "cell_type": "code",
   "execution_count": null,
   "id": "6dcc0afd",
   "metadata": {},
   "outputs": [],
   "source": [
    "import mygene\n",
    "mg = mygene.MyGeneInfo()"
   ]
  },
  {
   "cell_type": "code",
   "execution_count": null,
   "id": "12c26b9c",
   "metadata": {},
   "outputs": [],
   "source": [
    "sim_cd_list_out = mg.querymany(sim_cd_list, scopes='symbol', fields='ensembl.gene', species='human')"
   ]
  },
  {
   "cell_type": "code",
   "execution_count": null,
   "id": "2bac1832",
   "metadata": {},
   "outputs": [],
   "source": [
    "df_sim_cd_list_out = pd.DataFrame(sim_cd_list_out, columns=['query', '_id', '_score', 'ensembl'])"
   ]
  },
  {
   "cell_type": "code",
   "execution_count": null,
   "id": "27fbc4f7",
   "metadata": {},
   "outputs": [],
   "source": [
    "df_sim_cd_list_out['sym_ensembl'] = df_sim_cd_list_out.ensembl.astype(str).str.extract(r\"{'gene': '(.*?)'}\")"
   ]
  },
  {
   "cell_type": "code",
   "execution_count": null,
   "id": "189b9f27",
   "metadata": {},
   "outputs": [],
   "source": [
    "df_sim_cd_list_out.head()"
   ]
  },
  {
   "cell_type": "code",
   "execution_count": null,
   "id": "d873d5f8",
   "metadata": {},
   "outputs": [],
   "source": [
    "sim_cd_ens_list = list(df_sim_cd_list_out['sym_ensembl'])"
   ]
  },
  {
   "cell_type": "code",
   "execution_count": null,
   "id": "7a7e1fc4",
   "metadata": {},
   "outputs": [],
   "source": [
    "dfc_sim = dfc[dfc.columns.intersection(sim_cd_ens_list)]"
   ]
  },
  {
   "cell_type": "code",
   "execution_count": null,
   "id": "f9c98369",
   "metadata": {},
   "outputs": [],
   "source": [
    "dfc_sim.head()"
   ]
  },
  {
   "cell_type": "code",
   "execution_count": null,
   "id": "b47eab8c",
   "metadata": {},
   "outputs": [],
   "source": [
    "df_cd36 = train_cite_target_df[['CD36']]"
   ]
  },
  {
   "cell_type": "code",
   "execution_count": null,
   "id": "8901136f",
   "metadata": {},
   "outputs": [],
   "source": [
    "df_sim_corr = df_cd36.apply(dfc_sim.corrwith)"
   ]
  },
  {
   "cell_type": "code",
   "execution_count": null,
   "id": "9a62141f",
   "metadata": {},
   "outputs": [],
   "source": [
    "df_sim_corr = df_sim_corr.reset_index()"
   ]
  },
  {
   "cell_type": "code",
   "execution_count": null,
   "id": "9554dab0",
   "metadata": {},
   "outputs": [],
   "source": [
    "sim_cd_list = df_sim_corr['gene_id'].tolist()"
   ]
  },
  {
   "cell_type": "code",
   "execution_count": null,
   "id": "f31cc071",
   "metadata": {},
   "outputs": [],
   "source": [
    "sim_cd_list_out = mg.querymany(sim_cd_list, scopes='ensembl.gene', fields='symbol', species='human')"
   ]
  },
  {
   "cell_type": "code",
   "execution_count": null,
   "id": "53a7f115",
   "metadata": {},
   "outputs": [],
   "source": [
    "df_sim_cd_list_out = pd.DataFrame(sim_cd_list_out, columns=['query', '_id', '_score', 'symbol'])"
   ]
  },
  {
   "cell_type": "code",
   "execution_count": null,
   "id": "77751339",
   "metadata": {},
   "outputs": [],
   "source": [
    "df_sim_cd_list_out.head()"
   ]
  },
  {
   "cell_type": "code",
   "execution_count": null,
   "id": "951b3413",
   "metadata": {},
   "outputs": [],
   "source": [
    "sim_df_merge = pd.merge(df_sim_corr, df_sim_cd_list_out, left_on='gene_id', right_on='query')"
   ]
  },
  {
   "cell_type": "code",
   "execution_count": null,
   "id": "95b7f986",
   "metadata": {},
   "outputs": [],
   "source": [
    "sim_df_merge.head()"
   ]
  },
  {
   "cell_type": "code",
   "execution_count": null,
   "id": "49473b0a",
   "metadata": {},
   "outputs": [],
   "source": [
    "import matplotlib.pyplot as plt\n",
    "from matplotlib.pyplot import figure\n",
    "import seaborn as sns"
   ]
  },
  {
   "cell_type": "code",
   "execution_count": null,
   "id": "a535aa7c",
   "metadata": {},
   "outputs": [],
   "source": [
    "sim_df_merge_filter = sim_df_merge[sim_df_merge['symbol'] != 'CD36']"
   ]
  },
  {
   "cell_type": "code",
   "execution_count": null,
   "id": "642e3ec6",
   "metadata": {},
   "outputs": [],
   "source": [
    "sim_df_merge_filter.to_csv('./sim_df_merge_filter.csv')"
   ]
  },
  {
   "cell_type": "code",
   "execution_count": null,
   "id": "d4379f57",
   "metadata": {},
   "outputs": [],
   "source": [
    "figure(num=None, figsize=(10,20), dpi=80, facecolor='w', edgecolor='r')\n",
    "sns.barplot(x=\"CD36\", y = \"symbol\" , data = sim_df_merge_filter)\n",
    "plt.xticks(rotation=90)\n",
    "plt.title(\"Similarity 100 neighbors CD36 correlation\")\n",
    "plt.show()"
   ]
  },
  {
   "cell_type": "markdown",
   "id": "3a8662d0",
   "metadata": {},
   "source": [
    "### PPI CD36 Correlation"
   ]
  },
  {
   "cell_type": "code",
   "execution_count": null,
   "id": "8b653538",
   "metadata": {},
   "outputs": [],
   "source": [
    "ppi_cd_list = cd36_importances_new['PPI'].tolist()"
   ]
  },
  {
   "cell_type": "code",
   "execution_count": null,
   "id": "f8af203f",
   "metadata": {},
   "outputs": [],
   "source": [
    "ppi_cd_list_out = mg.querymany(ppi_cd_list, scopes='symbol', fields='ensembl.gene', species='human')"
   ]
  },
  {
   "cell_type": "code",
   "execution_count": null,
   "id": "fde1ab00",
   "metadata": {},
   "outputs": [],
   "source": [
    "df_ppi_cd_list_out = pd.DataFrame(ppi_cd_list_out, columns=['query', '_id', '_score', 'ensembl'])"
   ]
  },
  {
   "cell_type": "code",
   "execution_count": null,
   "id": "4fbcb383",
   "metadata": {},
   "outputs": [],
   "source": [
    "df_ppi_cd_list_out['ppi_ensembl'] = df_ppi_cd_list_out.ensembl.astype(str).str.extract(r\"{'gene': '(.*?)'}\")"
   ]
  },
  {
   "cell_type": "code",
   "execution_count": null,
   "id": "b7c269f6",
   "metadata": {},
   "outputs": [],
   "source": [
    "ppi_cd_ens_list = list(df_ppi_cd_list_out['ppi_ensembl'])"
   ]
  },
  {
   "cell_type": "code",
   "execution_count": null,
   "id": "09482e3f",
   "metadata": {},
   "outputs": [],
   "source": [
    "dfc_ppi = dfc[dfc.columns.intersection(ppi_cd_ens_list)]"
   ]
  },
  {
   "cell_type": "code",
   "execution_count": null,
   "id": "938f8e14",
   "metadata": {},
   "outputs": [],
   "source": [
    "df_ppi_corr = df_cd36.apply(dfc_ppi.corrwith)"
   ]
  },
  {
   "cell_type": "code",
   "execution_count": null,
   "id": "84bf15c4",
   "metadata": {},
   "outputs": [],
   "source": [
    "df_ppi_corr = df_ppi_corr.reset_index()"
   ]
  },
  {
   "cell_type": "code",
   "execution_count": null,
   "id": "2290497a",
   "metadata": {},
   "outputs": [],
   "source": [
    "ppi_cd_list = df_ppi_corr['gene_id'].tolist()"
   ]
  },
  {
   "cell_type": "code",
   "execution_count": null,
   "id": "3121e0f4",
   "metadata": {},
   "outputs": [],
   "source": [
    "ppi_cd_list_out = mg.querymany(ppi_cd_list, scopes='ensembl.gene', fields='symbol', species='human')"
   ]
  },
  {
   "cell_type": "code",
   "execution_count": null,
   "id": "d0dfb166",
   "metadata": {},
   "outputs": [],
   "source": [
    "df_ppi_cd_list_out = pd.DataFrame(ppi_cd_list_out, columns=['query', '_id', '_score', 'symbol'])"
   ]
  },
  {
   "cell_type": "code",
   "execution_count": null,
   "id": "e69ec799",
   "metadata": {},
   "outputs": [],
   "source": [
    "ppi_df_merge = pd.merge(df_ppi_corr, df_ppi_cd_list_out, left_on='gene_id', right_on='query')"
   ]
  },
  {
   "cell_type": "code",
   "execution_count": null,
   "id": "cc5915b4",
   "metadata": {},
   "outputs": [],
   "source": [
    "ppi_df_merge_filter = ppi_df_merge[ppi_df_merge['symbol'] != 'CD36']"
   ]
  },
  {
   "cell_type": "code",
   "execution_count": null,
   "id": "08f6f05a",
   "metadata": {},
   "outputs": [],
   "source": [
    "figure(num=None, figsize=(10,20), dpi=80, facecolor='w', edgecolor='r')\n",
    "sns.barplot(x=\"CD36\", y = \"symbol\" , data = ppi_df_merge_filter)\n",
    "plt.xticks(rotation=90)\n",
    "plt.title(\"PPI 100 neighbors CD36 correlation\")\n",
    "plt.show()"
   ]
  },
  {
   "cell_type": "code",
   "execution_count": null,
   "id": "8938cc4f",
   "metadata": {},
   "outputs": [],
   "source": [
    "ppi_df_merge_filter.to_csv('./ppi_df_merge_filter.csv')"
   ]
  },
  {
   "cell_type": "markdown",
   "id": "91a98edf",
   "metadata": {},
   "source": [
    "### Сorrelation coefficients mean values"
   ]
  },
  {
   "cell_type": "code",
   "execution_count": null,
   "id": "684f13db",
   "metadata": {},
   "outputs": [],
   "source": [
    "abs(sim_df_merge_filter.CD36).mean()"
   ]
  },
  {
   "cell_type": "code",
   "execution_count": null,
   "id": "3c613a76",
   "metadata": {},
   "outputs": [],
   "source": [
    "abs(ppi_df_merge_filter.CD36).mean()"
   ]
  },
  {
   "cell_type": "markdown",
   "id": "b6fc25b3",
   "metadata": {},
   "source": [
    "### Сorrelation coefficients distribution"
   ]
  },
  {
   "cell_type": "code",
   "execution_count": null,
   "id": "1ea853a3",
   "metadata": {},
   "outputs": [],
   "source": [
    "import time"
   ]
  },
  {
   "cell_type": "code",
   "execution_count": null,
   "id": "2317f852",
   "metadata": {},
   "outputs": [],
   "source": [
    "plt.figure(figsize=(14,8))\n",
    "plt.hist(sim_df_merge_filter.CD36, bins = 50)\n",
    "plt.title('Sim correlation coefficients distribution')\n",
    "plt.show()"
   ]
  },
  {
   "cell_type": "code",
   "execution_count": null,
   "id": "28f4258f",
   "metadata": {},
   "outputs": [],
   "source": [
    "plt.figure(figsize=(14,8))\n",
    "plt.hist(ppi_df_merge_filter.CD36, bins = 50)\n",
    "plt.title('PPI correlation coefficients distribution')\n",
    "plt.show()"
   ]
  }
 ],
 "metadata": {},
 "nbformat": 4,
 "nbformat_minor": 5
}
