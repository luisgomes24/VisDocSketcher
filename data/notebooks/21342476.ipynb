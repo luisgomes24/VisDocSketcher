{
 "cells": [
  {
   "cell_type": "code",
   "execution_count": null,
   "id": "d8d75f1c",
   "metadata": {},
   "outputs": [],
   "source": [
    "\n",
    "\n",
    "import numpy as np # linear algebra\n",
    "import pandas as pd # data processing, CSV file I/O (e.g. pd.read_csv)\n",
    "\n",
    "csv=pd.read_csv(\"../input/kaggle-survey-2021/kaggle_survey_2021_responses.csv\")\n"
   ]
  },
  {
   "cell_type": "code",
   "execution_count": null,
   "id": "44faf136",
   "metadata": {},
   "outputs": [],
   "source": [
    "csv=csv.drop(csv.index[0])"
   ]
  },
  {
   "cell_type": "code",
   "execution_count": null,
   "id": "80ac4eec",
   "metadata": {},
   "outputs": [],
   "source": [
    "import seaborn as sns\n",
    "\n",
    "eg={}\n",
    "for i in range (1,15):\n",
    "    eg.update(csv[f'Q34_A_Part_{i}'].value_counts().to_dict())\n",
    "    \n",
    "eg = dict(sorted(eg.items(), key=lambda x:x[1]))\n",
    "eg=pd.DataFrame(eg.items(),columns=['BITOOL','counts'])\n",
    "c=csv['Q35'].value_counts()\n"
   ]
  },
  {
   "cell_type": "code",
   "execution_count": null,
   "id": "4c73ccde",
   "metadata": {},
   "outputs": [],
   "source": [
    "pip install circlify"
   ]
  },
  {
   "cell_type": "markdown",
   "id": "62de29db",
   "metadata": {},
   "source": [
    "* **Popular Bussiness Intelligence Tools**\n",
    "\n",
    "* **clearly tableau and Power BI are dominating players**\n",
    "\n",
    "* **Emerging BI tools Alteryx and Qlik they will catch up, Alteryx is one of hottest tool in terms of demand**\n"
   ]
  },
  {
   "cell_type": "code",
   "execution_count": null,
   "id": "9440a9f9",
   "metadata": {},
   "outputs": [],
   "source": [
    "import circlify\n",
    "\n",
    "\n",
    "\n",
    "# compute circle positions:\n",
    "circles = circlify.circlify(\n",
    "    eg['counts'].tolist(), \n",
    "    show_enclosure=False, \n",
    "    target_enclosure=circlify.Circle(x=0, y=0, r=1)\n",
    ")\n",
    "\n",
    "\n",
    "import circlify\n",
    "import matplotlib.pyplot as plt\n",
    "\n",
    "# Create just a figure and only one subplot\n",
    "# Create just a figure and only one subplot\n",
    "fig, ax = plt.subplots(figsize=(10,10))\n",
    "\n",
    "# Title\n",
    "ax.set_title('Basic circular packing')\n",
    "\n",
    "# Remove axes\n",
    "ax.axis('off')\n",
    "\n",
    "# Find axis boundaries\n",
    "lim = max(\n",
    "    max(\n",
    "        abs(circle.x) + circle.r,\n",
    "        abs(circle.y) + circle.r,\n",
    "    )\n",
    "    for circle in circles\n",
    ")\n",
    "plt.xlim(-lim, lim)\n",
    "plt.ylim(-lim, lim)\n",
    "\n",
    "# list of labels\n",
    "labels = eg['BITOOL']\n",
    "\n",
    "# print circles\n",
    "for circle, label in zip(circles, labels):\n",
    "    x, y, r = circle\n",
    "    ax.add_patch(plt.Circle((x, y), r*0.7, alpha=0.9, linewidth=2, facecolor='lightpink', edgecolor=\"black\"))\n",
    "    plt.annotate(label, (x,y ) ,va='center', ha='center', bbox=dict(facecolor='white', edgecolor='black', boxstyle='round', pad=.5))\n"
   ]
  },
  {
   "cell_type": "markdown",
   "id": "7090195a",
   "metadata": {},
   "source": [
    "* **This intersetion plot tells the story of competation Google ventilator pressure prediction**\n",
    "\n",
    "* **Actually what happened everyone was using GPU/CPU for their model but someone published a kernal with much higher speed using TPU**\n",
    "\n",
    "* **then their is sudden surge in demand for TPU's people needs to wait for a day just to run their code for single time. i eventually  gave up!**\n",
    "\n",
    "* **But here comes colab for rescue google colab also have TPU options to run your code**\n",
    "\n",
    "* **interesting to see nearly everyone uses Kaggle notebook as well colab notebook**\n",
    "\n",
    "* **but offcourse colab is good choice to start your personal project very handy to use. can multiple person code simultaneously.**"
   ]
  },
  {
   "cell_type": "code",
   "execution_count": null,
   "id": "aba1754c",
   "metadata": {},
   "outputs": [],
   "source": [
    "from matplotlib_venn import venn3, venn3_circles\n",
    "import matplotlib.pyplot as plt\n",
    "\n",
    "d1 = csv[~csv['Q10_Part_1'].isnull()].index.tolist()\n",
    "d2 = csv[~csv['Q10_Part_2'].isnull()].index.tolist()\n",
    "d3 = csv[~csv['Q10_Part_3'].isnull()].index.tolist()\n",
    "\n",
    "\n",
    "fig, ax = plt.subplots(figsize=(10, 10))\n",
    "\n",
    "venn3([set(d1), set(d2), set(d3)],\n",
    "      set_colors=('#3E64AF', '#3EAF5D', '#D74E3B'), \n",
    "      set_labels = ('Kaggle Notebook','Colab notebooks', \n",
    "                    'Azure Notebooks'),\n",
    "      alpha=0.75)\n",
    "venn3_circles([set(d1), set(d2), set(d3)], lw=0.7)\n",
    " \n",
    "plt.show()"
   ]
  },
  {
   "cell_type": "markdown",
   "id": "d1a29625",
   "metadata": {},
   "source": [
    "* **there is a trend here as the age increse the number of users goes down**\n",
    "\n",
    "* **Dominated by age group 18-24, eventually kaggle is not able to retain these users in there later part of career to continue use the platform**\n",
    "\n",
    "1) these may be because loss of interest.\n",
    "\n",
    "2) lack of time due to job responsibility.\n",
    "\n",
    "3) nothing to achieve after grandmasters.\n"
   ]
  },
  {
   "cell_type": "code",
   "execution_count": null,
   "id": "800d702d",
   "metadata": {},
   "outputs": [],
   "source": [
    "import seaborn as sns\n",
    "import matplotlib.pyplot as plt\n",
    "\n",
    "fig, ax = plt.subplots(figsize=(10, 10))\n",
    "\n",
    "\n",
    "sns.countplot(data=csv, x=\"Q1\", order = csv['Q1'].value_counts().index,ax=ax)\n",
    "\n",
    "plt.show()"
   ]
  },
  {
   "cell_type": "markdown",
   "id": "2f1f744d",
   "metadata": {},
   "source": [
    "* **Kaggle is popular among bachelor's it can be justified. you need hands on experiance with data in engineering days**\n",
    "\n",
    "* **These days it quite common to submit final year project directly copied and pasted from kaggle**\n",
    "\n",
    "* **it's interesting to see some have done their Master's degree in teenage years ;))**\n",
    "\n",
    "* **The age group 24-29 in my personal openion are content producers**\n",
    "\n",
    "\n",
    "\n"
   ]
  },
  {
   "cell_type": "code",
   "execution_count": null,
   "id": "6a95b158",
   "metadata": {},
   "outputs": [],
   "source": [
    "agg_tips = csv.groupby(['Q1', 'Q4'])['Q1'].count().unstack().fillna(0)\n",
    "\n",
    "fig, ax = plt.subplots(figsize=(12, 10))\n",
    "\n",
    "agg_tips.plot(kind='bar', stacked=True,ax=ax)\n",
    "\n",
    "plt.show()"
   ]
  },
  {
   "cell_type": "markdown",
   "id": "feabe5e3",
   "metadata": {},
   "source": [
    "* **coding experiance vs highest level of education**\n",
    "\n"
   ]
  },
  {
   "cell_type": "code",
   "execution_count": null,
   "id": "b2021f98",
   "metadata": {},
   "outputs": [],
   "source": [
    "outer =csv.groupby('Q4')['Q4'].count()\n",
    "\n",
    "inner =csv.groupby(['Q4', 'Q6'])['Q4'].count()\n",
    "\n",
    "inner_labels = inner.index.get_level_values(1)\n",
    "\n",
    "inner_labels\n",
    "\n",
    "import matplotlib.pyplot as plt\n",
    "import numpy as np\n",
    "\n",
    "fig, ax = plt.subplots(figsize=(28,13))\n",
    "size = 0.3\n",
    "\n",
    "ax.pie(outer.values.flatten(), radius=1,\n",
    "       labels=outer.index,\n",
    "       autopct='%1.1f%%',\n",
    "       wedgeprops=dict(width=size, edgecolor='w'))\n",
    "\n",
    "ax.pie(inner.values.flatten(), radius=1-size, \n",
    "       labels = inner_labels,\n",
    "       wedgeprops=dict(width=size, edgecolor='w'))\n",
    "\n",
    "ax.set(aspect=\"equal\", title='Pie plot with `ax.pie`')\n",
    "plt.show()"
   ]
  },
  {
   "cell_type": "markdown",
   "id": "08df96c4",
   "metadata": {},
   "source": [
    "* **coding experiance vs recommended language for beginers**\n",
    "\n",
    "* **elephant in the room evergreen python**\n",
    "\n",
    "* **most recommended python irrelevent of their coding experiance **"
   ]
  },
  {
   "cell_type": "code",
   "execution_count": null,
   "id": "56b9a426",
   "metadata": {},
   "outputs": [],
   "source": [
    "outer =csv.groupby('Q8')['Q8'].count()\n",
    "\n",
    "inner =csv.groupby(['Q8', 'Q6'])['Q8'].count()\n",
    "\n",
    "inner_labels = inner.index.get_level_values(1)\n",
    "\n",
    "\n",
    "fig, ax = plt.subplots(figsize=(28,13))\n",
    "size = 0.3\n",
    "\n",
    "ax.pie(outer.values.flatten(), radius=1,\n",
    "       labels=outer.index,\n",
    "       autopct='%1.1f%%',\n",
    "       wedgeprops=dict(width=size, edgecolor='w'))\n",
    "\n",
    "ax.pie(inner.values.flatten(), radius=1-size, \n",
    "       labels = inner_labels,\n",
    "       wedgeprops=dict(width=size, edgecolor='w'))\n",
    "\n",
    "ax.set(aspect=\"equal\", title='Pie plot with `ax.pie`')\n",
    "plt.show()"
   ]
  },
  {
   "cell_type": "code",
   "execution_count": null,
   "id": "461361e9",
   "metadata": {},
   "outputs": [],
   "source": [
    "\n",
    "\n",
    "\n",
    "\n"
   ]
  },
  {
   "cell_type": "code",
   "execution_count": null,
   "id": "f7f4ba64",
   "metadata": {},
   "outputs": [],
   "source": [
    "nan"
   ]
  },
  {
   "cell_type": "code",
   "execution_count": null,
   "id": "b94dcb8c",
   "metadata": {},
   "outputs": [],
   "source": [
    "nan"
   ]
  }
 ],
 "metadata": {},
 "nbformat": 4,
 "nbformat_minor": 5
}
