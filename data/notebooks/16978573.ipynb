{
 "cells": [
  {
   "cell_type": "markdown",
   "id": "c20c40d2",
   "metadata": {},
   "source": [
    "<h1 style=\"background-color:yellow;font-family:newtimeroman;font-size:550%;text-align:center;border-radius: 15px 50px;padding: 5px\">Vehicle Identification</h1>\n"
   ]
  },
  {
   "cell_type": "markdown",
   "id": "c51310a4",
   "metadata": {},
   "source": [
    "<center><img src=\"https://i.ytimg.com/vi/uD8kWFaL9_g/maxresdefault.jpg\",height='500',width='600'></center>\n"
   ]
  },
  {
   "cell_type": "markdown",
   "id": "740cb6fe",
   "metadata": {},
   "source": [
    "<h1 style=\"background-color:green;font-family:newtimeroman;font-size:400%;text-align:center;border-radius: 15px 50px;padding: 3px\">OverView </h1>\n",
    "<a id=0></a>"
   ]
  },
  {
   "cell_type": "markdown",
   "id": "fd1eec3d",
   "metadata": {},
   "source": [
    "In this dataset our main objective is to predict if there is a vehicle in the image or not. There are about 17k images of dimension (64x64x3).\n",
    "\n",
    "Two labels:\n",
    "\n",
    "Non-Vehicles\n",
    "Vehicles"
   ]
  },
  {
   "cell_type": "markdown",
   "id": "fd6adf06",
   "metadata": {},
   "source": [
    "<h1 style=\"background-color:green;font-family:newtimeroman;font-size:400%;text-align:center;border-radius: 15px 50px;padding: 3px\">Importing modules and Loading datasets</h1>\n",
    "<a id=1></a>"
   ]
  },
  {
   "cell_type": "code",
   "execution_count": null,
   "id": "e375d9cf",
   "metadata": {},
   "outputs": [],
   "source": [
    "import  pandas as pd\n",
    "import matplotlib.pyplot as plt\n",
    "import numpy as np\n",
    "import seaborn as sns\n",
    "from sklearn.model_selection import train_test_split\n",
    "import keras \n",
    "from glob import glob\n",
    "from keras.models import Sequential\n",
    "from keras.layers import BatchNormalization,MaxPool2D,Dense,Conv2D,Flatten\n",
    "from keras.callbacks import EarlyStopping,LearningRateScheduler\n",
    "import warnings\n",
    "from tqdm import tqdm\n",
    "from PIL import Image\n",
    "warnings.filterwarnings('ignore')"
   ]
  },
  {
   "cell_type": "code",
   "execution_count": null,
   "id": "66d40397",
   "metadata": {},
   "outputs": [],
   "source": [
    "df=pd.DataFrame(columns=['image','label'])\n"
   ]
  },
  {
   "cell_type": "code",
   "execution_count": null,
   "id": "33ef686c",
   "metadata": {},
   "outputs": [],
   "source": [
    "\n",
    "# for a picture containing image of vehicle label is 1.\n",
    "\n",
    "idx=0\n",
    "for name in tqdm(glob('../input/vehicle-detection-image-set/data/vehicles/*')):\n",
    "    image=Image.open(name)\n",
    "    img_seq=image.getdata()\n",
    "    img=np.array(img_seq)\n",
    "    img=np.reshape(img,(64,64,3))\n",
    "    data=pd.DataFrame({'image':[img],'label':[1]},index=[idx])\n",
    "    df=df.append(data)    \n",
    "    idx+=1"
   ]
  },
  {
   "cell_type": "code",
   "execution_count": null,
   "id": "dd8b5b43",
   "metadata": {},
   "outputs": [],
   "source": [
    "# for a picture doesn't contain image of vehicle label is 0.\n",
    "\n",
    "for name in tqdm(glob('../input/vehicle-detection-image-set/data/non-vehicles/*')):\n",
    "    image=Image.open(name)\n",
    "    img_seq=image.getdata()\n",
    "    img=np.array(img_seq)\n",
    "    img=np.reshape(img,(64,64,3))\n",
    "    data=pd.DataFrame({'image':[img],'label':[0]},index=[idx]) \n",
    "    df=df.append(data)\n",
    "    idx+=1"
   ]
  },
  {
   "cell_type": "markdown",
   "id": "823c2cee",
   "metadata": {},
   "source": [
    "<h1 style=\"background-color:green;font-family:newtimeroman;font-size:400%;text-align:center;border-radius: 15px 50px;padding: 3px\">Train test spliting of data</h1>\n",
    "<a id=2></a>"
   ]
  },
  {
   "cell_type": "code",
   "execution_count": null,
   "id": "584c02d5",
   "metadata": {},
   "outputs": [],
   "source": [
    "from sklearn.model_selection import StratifiedShuffleSplit,train_test_split\n",
    "split=StratifiedShuffleSplit(n_splits=1,test_size=0.15,random_state=42)\n",
    "for train_index,test_index in split.split(df,df['label']):\n",
    "    train_data=df.iloc[train_index]\n",
    "    test_data=df.iloc[test_index]\n",
    "# train_x,test_x,train_y,test_y=train_test_split(df['image'],df['label'],random_state=42,test_size=0.15)"
   ]
  },
  {
   "cell_type": "code",
   "execution_count": null,
   "id": "3a8bcff0",
   "metadata": {},
   "outputs": [],
   "source": [
    "train_img,train_label=train_data['image'],train_data['label']\n",
    "test_img,test_label=test_data['image'],test_data['label']"
   ]
  },
  {
   "cell_type": "markdown",
   "id": "4a3ffd04",
   "metadata": {},
   "source": [
    "<h1 style=\"background-color:green;font-family:newtimeroman;font-size:400%;text-align:center;border-radius: 15px 50px;padding: 3px\">Data Visualization</h1>\n",
    "<a id=3></a>"
   ]
  },
  {
   "cell_type": "code",
   "execution_count": null,
   "id": "8ae47504",
   "metadata": {},
   "outputs": [],
   "source": [
    "plt.figure(figsize=(15,15))\n",
    "for i in range(9):\n",
    "    plt.subplot(3,3,(i%9)+1)\n",
    "    ix=np.random.randint(3000)\n",
    "    if(train_label.iloc[ix]==1):\n",
    "        plt.title('Image no.{0} has vehicle'.format(i+1))\n",
    "    elif(train_label.iloc[ix]==0):\n",
    "        plt.title('Image no.{0} doesnot have vehicle'.format(i))\n",
    "    plt.axis('off')\n",
    "    plt.imshow(train_img.iloc[ix])\n",
    "plt.show()"
   ]
  },
  {
   "cell_type": "markdown",
   "id": "83e40808",
   "metadata": {},
   "source": [
    "<h1 style=\"background-color:green;font-family:newtimeroman;font-size:400%;text-align:center;border-radius: 15px 50px;padding: 3px\">Changing Dimension Of Data</h1>\n",
    "<a id=4></a>"
   ]
  },
  {
   "cell_type": "code",
   "execution_count": null,
   "id": "9ad3f6dc",
   "metadata": {},
   "outputs": [],
   "source": [
    "def change_image_dimension(data):\n",
    "    data=np.reshape(data.to_list(),(len(data),64,64,3))\n",
    "    return data"
   ]
  },
  {
   "cell_type": "code",
   "execution_count": null,
   "id": "5951bd57",
   "metadata": {},
   "outputs": [],
   "source": [
    "train_img=change_image_dimension(train_img)\n",
    "test_img=change_image_dimension(test_img)\n",
    "# train_img\n",
    "train_img=train_img/255.0\n",
    "test_img=test_img/255.0"
   ]
  },
  {
   "cell_type": "code",
   "execution_count": null,
   "id": "a5b8a93e",
   "metadata": {},
   "outputs": [],
   "source": [
    "train_label=np.array(train_label,dtype=int)\n",
    "test_label=np.array(test_label,dtype=int)"
   ]
  },
  {
   "cell_type": "markdown",
   "id": "c06d4274",
   "metadata": {},
   "source": [
    "<h1 style=\"background-color:green;font-family:newtimeroman;font-size:400%;text-align:center;border-radius: 15px 50px;padding: 3px\">Callback Functions</h1>\n",
    "<a id=5></a>"
   ]
  },
  {
   "cell_type": "code",
   "execution_count": null,
   "id": "0d9b5a8f",
   "metadata": {},
   "outputs": [],
   "source": [
    "def schedule(epoch,lr):\n",
    "    if epoch>=5:\n",
    "        return 0.0001\n",
    "    return 0.001\n",
    "early_stop=EarlyStopping(monitor='val_accuracy',patience=3)\n",
    "learning_rate_scheduler=LearningRateScheduler(schedule)"
   ]
  },
  {
   "cell_type": "markdown",
   "id": "a55cafa2",
   "metadata": {},
   "source": [
    "<h1 style=\"background-color:green;font-family:newtimeroman;font-size:400%;text-align:center;border-radius: 15px 50px;padding: 3px\">Convolutional Neural Network</h1>\n",
    "<a id=5></a>"
   ]
  },
  {
   "cell_type": "code",
   "execution_count": null,
   "id": "90147544",
   "metadata": {},
   "outputs": [],
   "source": [
    "model=Sequential()\n",
    "model.add(Conv2D(128,(3,3),activation='relu',input_shape=(64,64,3)))\n",
    "model.add(MaxPool2D((2,2)))\n",
    "model.add(BatchNormalization())\n",
    "model.add(Conv2D(64,(3,3),activation='relu'))\n",
    "model.add(MaxPool2D((2,2)))\n",
    "model.add(BatchNormalization())\n",
    "model.add(Conv2D(32,(3,3),activation='relu'))\n",
    "model.add(MaxPool2D((2,2)))\n",
    "model.add(BatchNormalization())\n",
    "model.add(Flatten())\n",
    "model.add(Dense(128,activation='relu'))\n",
    "model.add(Dense(64,activation='relu'))\n",
    "model.add(Dense(1,activation='sigmoid'))"
   ]
  },
  {
   "cell_type": "code",
   "execution_count": null,
   "id": "5bc22cfd",
   "metadata": {},
   "outputs": [],
   "source": [
    "model.compile(optimizer='adam',loss='binary_crossentropy',metrics=['accuracy'])"
   ]
  },
  {
   "cell_type": "code",
   "execution_count": null,
   "id": "357cf63d",
   "metadata": {},
   "outputs": [],
   "source": [
    "r=model.fit(train_img,train_label,validation_data=(test_img,test_label),epochs=10,batch_size=100,callbacks=[early_stop,learning_rate_scheduler])"
   ]
  },
  {
   "cell_type": "code",
   "execution_count": null,
   "id": "338b88df",
   "metadata": {},
   "outputs": [],
   "source": [
    "plt.plot(r.history['loss'])\n",
    "plt.plot(r.history['val_loss'])"
   ]
  },
  {
   "cell_type": "code",
   "execution_count": null,
   "id": "040523e6",
   "metadata": {},
   "outputs": [],
   "source": [
    "plt.plot(r.history['accuracy'])\n",
    "plt.plot(r.history['val_accuracy'])"
   ]
  },
  {
   "cell_type": "markdown",
   "id": "db0b4754",
   "metadata": {},
   "source": [
    "<h1 style=\"background-color:green;font-family:newtimeroman;font-size:400%;text-align:center;border-radius: 15px 50px;padding: 3px\">Visualization of Predicted Data</h1>\n",
    "<a id=3></a>"
   ]
  },
  {
   "cell_type": "code",
   "execution_count": null,
   "id": "78b4790d",
   "metadata": {},
   "outputs": [],
   "source": [
    "plt.figure(figsize=(20,15))\n",
    "for i in range(9):\n",
    "    plt.subplot(3,3,(i%9)+1)\n",
    "    rd_idx=np.random.randint(700)\n",
    "    pred_test=model.predict_classes(np.reshape(test_img[rd_idx],(-1,64,64,3)))\n",
    "    if pred_test==1:\n",
    "        plt.title('Predicted that there is vehicle in Image')\n",
    "    else:\n",
    "        plt.title('Predicted thet there is no vehicle in Image')\n",
    "    plt.axis('off')\n",
    "    plt.imshow(test_img[rd_idx])\n",
    "plt.show()\n"
   ]
  },
  {
   "cell_type": "markdown",
   "id": "ed56aca1",
   "metadata": {},
   "source": [
    "<h1 style=\"background-color:green;font-family:newtimeroman;font-size:400%;text-align:center;border-radius: 15px 50px;padding: 3px\">Conclusion</h1>\n",
    "<a id=3></a>"
   ]
  },
  {
   "cell_type": "markdown",
   "id": "2a1b2189",
   "metadata": {},
   "source": [
    "### Here we find that the model works quite well with accuracy of 99.99% on training dataset and 99.62% on test dataset.Thus this model is apt to identify the vehicles."
   ]
  },
  {
   "cell_type": "markdown",
   "id": "67a1330d",
   "metadata": {},
   "source": [
    "<h1 style=\"color:red;font-family:algerian;font-size:200%;text-align:center;border-radius: 15px 15px;padding: 3px\">If You like the notebook, don't forget to upvote it. And if you have any doubt feel free to Ask in comment section.</h1>\n",
    "<a id=3></a>"
   ]
  },
  {
   "cell_type": "code",
   "execution_count": null,
   "id": "fe179fb5",
   "metadata": {},
   "outputs": [],
   "source": [
    "nan"
   ]
  }
 ],
 "metadata": {},
 "nbformat": 4,
 "nbformat_minor": 5
}
