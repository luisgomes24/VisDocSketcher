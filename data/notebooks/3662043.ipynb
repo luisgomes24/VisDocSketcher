{
 "cells": [
  {
   "cell_type": "markdown",
   "id": "4ef6625e",
   "metadata": {},
   "source": [
    "# General analysis of Mall Customer Segmentation\n",
    "\n",
    "Our aim is to exercise the fresh acquired knowledge regarding the usage of the Seaborn, Pandas, Numpy and Matplotlib libraries, aswell as the Jupyter Notebook tools, while explaining the analysis step by step.\n",
    "\n",
    "The dataset comprises of the following information:\n",
    "\n",
    "1. Customer ID \n",
    "2. Gender \n",
    "3. Age \n",
    "4. Annual Income (k$)\n",
    "5. Spending Score - Assigned by the mall, based on behavior and spending nature\n",
    "\n",
    "Some of the questions we might answer:\n",
    "\n",
    "1. What age is higher in density when it comes to customers?\n",
    "2. What sex is higher in density to the customer population?\n",
    "3. What relation does the spending score has to the customer's age?\n",
    "4. Is there a relation between the Spending Score and the Annual Income?\n",
    "\n",
    "Let us start by importing the packages needed for the analysis:"
   ]
  },
  {
   "cell_type": "code",
   "execution_count": null,
   "id": "614791d7",
   "metadata": {},
   "outputs": [],
   "source": [
    "import pandas as pd\n",
    "import numpy as np\n",
    "import matplotlib.pyplot as plt\n",
    "plt.rcParams['figure.figsize'] = [15, 15] # Defining the standard figure size\n",
    "import seaborn as sns\n",
    "import os"
   ]
  },
  {
   "cell_type": "markdown",
   "id": "098d9b31",
   "metadata": {},
   "source": [
    "Now, importing the CSV document:"
   ]
  },
  {
   "cell_type": "code",
   "execution_count": null,
   "id": "e002a333",
   "metadata": {},
   "outputs": [],
   "source": [
    "file = pd.read_csv('../input/Mall_Customers.csv')"
   ]
  },
  {
   "cell_type": "markdown",
   "id": "fa19fed3",
   "metadata": {},
   "source": [
    "Checking if the document was uploaded correctly and taking a look at how it is shown:"
   ]
  },
  {
   "cell_type": "code",
   "execution_count": null,
   "id": "666b48bb",
   "metadata": {},
   "outputs": [],
   "source": [
    "file.head()"
   ]
  },
  {
   "cell_type": "markdown",
   "id": "d32f873b",
   "metadata": {},
   "source": [
    "## Raw data analysis\n",
    "\n",
    "Now, as the data was uploaded correctly, let us first take a look at the type of data this dataframe has:"
   ]
  },
  {
   "cell_type": "code",
   "execution_count": null,
   "id": "8f0fbd14",
   "metadata": {},
   "outputs": [],
   "source": [
    "file.info()"
   ]
  },
  {
   "cell_type": "markdown",
   "id": "955c57ac",
   "metadata": {},
   "source": [
    "We can see that the numbers are all integers, and that only the column 'Gender' uses an object. \n",
    "\n",
    "Now, checking if there are null spaces in the dataframe:"
   ]
  },
  {
   "cell_type": "code",
   "execution_count": null,
   "id": "ccc52b87",
   "metadata": {},
   "outputs": [],
   "source": [
    "file.isnull().any()"
   ]
  },
  {
   "cell_type": "markdown",
   "id": "c5da9036",
   "metadata": {},
   "source": [
    "There are no null data, thus there is no need to drop any of the columns as all of them comprises of information that we are going to use.\n",
    "\n",
    "Now, let us check the min and max values for the column Age:"
   ]
  },
  {
   "cell_type": "code",
   "execution_count": null,
   "id": "7a4db7de",
   "metadata": {},
   "outputs": [],
   "source": [
    "file['Age'].min()"
   ]
  },
  {
   "cell_type": "code",
   "execution_count": null,
   "id": "4501d9f4",
   "metadata": {},
   "outputs": [],
   "source": [
    "file['Age'].max()"
   ]
  },
  {
   "cell_type": "markdown",
   "id": "5177aff7",
   "metadata": {},
   "source": [
    "We can see that the data is related to legal aged customers, up to people at the age of 70.\n",
    "\n",
    "Let us take a look at how the header is shown:"
   ]
  },
  {
   "cell_type": "code",
   "execution_count": null,
   "id": "0cef5050",
   "metadata": {},
   "outputs": [],
   "source": [
    "file.columns"
   ]
  },
  {
   "cell_type": "markdown",
   "id": "e8dbdb60",
   "metadata": {},
   "source": [
    "Renaming the columns CustomerID and Annual Income for easier navigation:"
   ]
  },
  {
   "cell_type": "code",
   "execution_count": null,
   "id": "543328a7",
   "metadata": {},
   "outputs": [],
   "source": [
    "file.rename(columns={'CustomerID':'ID','Annual Income (k$)':'Annual Income','Genre':'Gender'}, inplace=True)"
   ]
  },
  {
   "cell_type": "code",
   "execution_count": null,
   "id": "1b2f1f52",
   "metadata": {},
   "outputs": [],
   "source": [
    "file.describe()"
   ]
  },
  {
   "cell_type": "markdown",
   "id": "76f1cee3",
   "metadata": {},
   "source": [
    "## Answering the questions\n",
    "\n",
    "### 1. What age is higher in density when it comes to customers?\n",
    "\n",
    "First, we can create a plot based on the Age column, separated by the number of times an Age occurs:"
   ]
  },
  {
   "cell_type": "code",
   "execution_count": null,
   "id": "15955fcf",
   "metadata": {},
   "outputs": [],
   "source": [
    "sns.countplot(y='Age', data=file)\n",
    "plt.figure(figsize=(20,20))\n",
    "plt.show()"
   ]
  },
  {
   "cell_type": "markdown",
   "id": "4b5138fc",
   "metadata": {},
   "source": [
    "This doesn't seem objective: the list is not in a crescent order and there is too much information in the y axis, showing a polluted plot. The data must be easy to read and interpret, and for such, we must work on another way to answer this question.\n",
    "\n",
    "We will now isolate both columns Age and ID and group the number of occurrences by Age, while making a calculation to show them each 10 years:"
   ]
  },
  {
   "cell_type": "code",
   "execution_count": null,
   "id": "ff17b751",
   "metadata": {},
   "outputs": [],
   "source": [
    "file_ages = file[['ID','Age']]\n",
    "file_ages.head()"
   ]
  },
  {
   "cell_type": "code",
   "execution_count": null,
   "id": "67df519e",
   "metadata": {},
   "outputs": [],
   "source": [
    "age = file_ages.groupby((file_ages.Age//10*10))['ID'].count()\n",
    "plt.title('Customer density per age')\n",
    "age.plot()\n",
    "plt.show()\n",
    "print(age)"
   ]
  },
  {
   "cell_type": "markdown",
   "id": "2652ab9e",
   "metadata": {},
   "source": [
    "Now the plot shows the data in a better fashion. We can clearly see that the ages between 20 and 40 have a higher density when it comes to customers, and that the higher the age, the lower the density of people in the mall.\n",
    "\n",
    "Now, into the second question:\n",
    "\n",
    "### 2. What sex is higher in density to the customer population?\n",
    "\n",
    "This question is easily answered by showing a simple plot, which counts the unique number of entries for each Gender within the dataframe:"
   ]
  },
  {
   "cell_type": "code",
   "execution_count": null,
   "id": "e58027a8",
   "metadata": {},
   "outputs": [],
   "source": [
    "sns.countplot(x='Gender', data=file)\n",
    "plt.title('Customer gender density')\n",
    "plt.show()\n",
    "print(file.groupby(['Gender'])['ID'].count())"
   ]
  },
  {
   "cell_type": "markdown",
   "id": "5336725f",
   "metadata": {},
   "source": [
    "We can see that the plot shows the density correctly.\n",
    "\n",
    "### 3. What relation does the spending score has to the customer's age?\n",
    "\n",
    "To answer this question, we will create a plot showing the distribution of Spending Score by Age, colored by Gender."
   ]
  },
  {
   "cell_type": "code",
   "execution_count": null,
   "id": "8ad6f8fd",
   "metadata": {},
   "outputs": [],
   "source": [
    "sns.lmplot(x='Spending Score (1-100)', \n",
    "           y='Age', data=file, \n",
    "           fit_reg=False, \n",
    "           hue='Gender')"
   ]
  },
  {
   "cell_type": "markdown",
   "id": "90191c50",
   "metadata": {},
   "source": [
    "The plot shows that young and middle aged customers tend to have a higher Spending Score, while older customers tend to have a mid to lower Spending Score.\n",
    "\n",
    "It is possible to show the plot with more details, separating them by Gender in two plots:"
   ]
  },
  {
   "cell_type": "code",
   "execution_count": null,
   "id": "4e455cbc",
   "metadata": {},
   "outputs": [],
   "source": [
    "sns.catplot(x='Spending Score (1-100)', \n",
    "            y='Age', \n",
    "            data=file, \n",
    "            col='Gender', \n",
    "            kind='swarm',\n",
    "            hue='Gender')\n",
    "x_axis = [0,50,100]\n",
    "x_lab = ['0','50','100']\n",
    "plt.xticks(x_axis,x_lab)\n",
    "plt.xlim(-1, 100)"
   ]
  },
  {
   "cell_type": "markdown",
   "id": "f1846eb2",
   "metadata": {},
   "source": [
    "### 4. Is there a relation between the Spending Score and the Annual Income?\n",
    "\n",
    "We can create two plots, separated by gender, to better view the distribution of this correlation:"
   ]
  },
  {
   "cell_type": "code",
   "execution_count": null,
   "id": "1869fb66",
   "metadata": {},
   "outputs": [],
   "source": [
    "s = sns.FacetGrid(file, col='Gender', hue='Age')\n",
    "s.map(plt.scatter, 'Spending Score (1-100)','Annual Income')\n",
    "plt.xlim(0, 100)\n",
    "plt.figure(figsize=(15, 15))"
   ]
  },
  {
   "cell_type": "markdown",
   "id": "b32d7c26",
   "metadata": {},
   "source": [
    "Although these plots are showing the information requested, we can try to plot these in a better fashion, organizing the colors per decade and granting more insight:"
   ]
  },
  {
   "cell_type": "code",
   "execution_count": null,
   "id": "0cbadb6f",
   "metadata": {},
   "outputs": [],
   "source": [
    "# Setting up colors to represent the decades in the plot\n",
    "conditions = [\n",
    "    (file['Age'] > 0) & (file['Age'] <= 20),\n",
    "    (file['Age'] > 20) & (file['Age'] <= 30),\n",
    "    (file['Age'] > 30) & (file['Age'] <= 40),\n",
    "    (file['Age'] > 40) & (file['Age'] <= 50),\n",
    "    (file['Age'] > 50) & (file['Age'] <= 60),\n",
    "    (file['Age'] > 60)]\n",
    "choices = ['20s', '30s', '40s', '50s', '60s', '70s']\n",
    "file['Colors'] = np.select(conditions, choices, default='black')\n",
    "\n",
    "sns.catplot(x='Spending Score (1-100)', \n",
    "            y='Annual Income', \n",
    "            data=file, \n",
    "            col='Gender', \n",
    "            kind='swarm',\n",
    "            hue='Colors')\n",
    "x_axis = [0,50,100]\n",
    "x_lab = ['0','50','100']\n",
    "plt.xticks(x_axis,x_lab)\n",
    "plt.xlim(-1, 100)"
   ]
  },
  {
   "cell_type": "markdown",
   "id": "c780b8b4",
   "metadata": {},
   "source": [
    "### Conclusion\n",
    "\n",
    "From this analysis, we can conclude that:\n",
    "\n",
    "1. Most of the customer population is comprised by middle aged people, and the older the population gets, the less they tend to go to the mall.\n",
    "2. There is a considerable difference to the men/women rate. Women comprises the largest part of the population of customers.\n",
    "3. By considering the Spending Score set by the mall, we can see that younger and middle aged people tend to buy more, while older people does so less frequently. \n",
    "4. It is possible to note that there is a cluter of occurrences, in both genders, when it comes to Annual Income and Spending Score, which means that the average Spending Score is related to the income of 40k to 70k. \n",
    "\n",
    "\n",
    "\n",
    "This was my first Kernel ever. The objective here was to exercise the content learned recently regarding data science and the libraries within Python. Although the plots were simple, they took me a long time to make, and I learned a lot from the mistakes and insights.\n",
    "\n",
    "Any feedback is welcome, always!\n",
    "\n"
   ]
  },
  {
   "cell_type": "code",
   "execution_count": null,
   "id": "1d704cb8",
   "metadata": {},
   "outputs": [],
   "source": [
    "nan"
   ]
  }
 ],
 "metadata": {},
 "nbformat": 4,
 "nbformat_minor": 5
}
