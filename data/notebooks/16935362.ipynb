{
 "cells": [
  {
   "cell_type": "markdown",
   "id": "3dedb28b",
   "metadata": {},
   "source": [
    "# CommonLit - Simple SE and Excerpt Length EDA\n",
    "\n",
    "In this notebook, we explore the distributions of the target (*Reading Ease*), *Standard Error*, *Excerpt Length* and *Word Count*. We also explore the relationship of the latter variables with the target."
   ]
  },
  {
   "cell_type": "markdown",
   "id": "1e3efb47",
   "metadata": {},
   "source": [
    "# Load Libraries"
   ]
  },
  {
   "cell_type": "code",
   "execution_count": null,
   "id": "11d747c2",
   "metadata": {},
   "outputs": [],
   "source": [
    "import os\n",
    "\n",
    "import numpy as np\n",
    "import pandas as pd\n",
    "import matplotlib.pyplot as plt\n",
    "import seaborn as sns\n",
    "\n",
    "sns.set()"
   ]
  },
  {
   "cell_type": "markdown",
   "id": "98458a47",
   "metadata": {},
   "source": [
    "# Load Data"
   ]
  },
  {
   "cell_type": "code",
   "execution_count": null,
   "id": "62d0b868",
   "metadata": {},
   "outputs": [],
   "source": [
    "data_dir = '../input/commonlitreadabilityprize/'\n",
    "train = pd.read_csv(data_dir + 'train.csv')\n",
    "print(train.shape)\n",
    "train.head()"
   ]
  },
  {
   "cell_type": "markdown",
   "id": "4c6a05e9",
   "metadata": {},
   "source": [
    "# Explore Data"
   ]
  },
  {
   "cell_type": "code",
   "execution_count": null,
   "id": "dc4d5e0d",
   "metadata": {},
   "outputs": [],
   "source": [
    "print('% populated:')\n",
    "train.notnull().sum() / len(train)"
   ]
  },
  {
   "cell_type": "markdown",
   "id": "42ff9859",
   "metadata": {},
   "source": [
    "# Target (Reading Ease)"
   ]
  },
  {
   "cell_type": "code",
   "execution_count": null,
   "id": "0f9e4106",
   "metadata": {},
   "outputs": [],
   "source": [
    "col = 'target'\n",
    "display(pd.DataFrame(train[col].describe()))\n",
    "sns.histplot(train[col])\n",
    "plt.show()"
   ]
  },
  {
   "cell_type": "markdown",
   "id": "ca964730",
   "metadata": {},
   "source": [
    "*Reading Ease* average is around -1 and ranges from around -3.7 to 1.7."
   ]
  },
  {
   "cell_type": "markdown",
   "id": "135106aa",
   "metadata": {},
   "source": [
    "# Standard Error"
   ]
  },
  {
   "cell_type": "code",
   "execution_count": null,
   "id": "19f678c9",
   "metadata": {},
   "outputs": [],
   "source": [
    "col = 'standard_error'\n",
    "display(pd.DataFrame(train[col].describe()))\n",
    "sns.histplot(train[col], bins=30)\n",
    "plt.show()"
   ]
  },
  {
   "cell_type": "code",
   "execution_count": null,
   "id": "2e2ce142",
   "metadata": {},
   "outputs": [],
   "source": [
    "print('correlation:')\n",
    "display(train[['target', 'standard_error']].corr())\n",
    "\n",
    "plt.figure(figsize=(8, 6))\n",
    "sns.scatterplot(x=train['standard_error'], y=train['target'])\n",
    "plt.axhline(train['target'].mean(), color='tab:red')\n",
    "plt.text(0.03, \n",
    "         train['target'].mean() + 0.1, \n",
    "         'reading ease mean = {}'.format(round(train['target'].mean(), 2)),\n",
    "         weight='bold')\n",
    "plt.ylabel('reading ease')\n",
    "plt.show()"
   ]
  },
  {
   "cell_type": "markdown",
   "id": "fcfc5aeb",
   "metadata": {},
   "source": [
    "Seems like the *Standard Error* generally increases as *Reading Ease* goes farther from its mean value.\n",
    "\n",
    "According to the Data tab, *Standard Error* is a \"measure of spread of scores among multiple raters for each excerpt.\" Looking at the above plot, we can say that the __scores from multiple raters are more consistent for excerpts with average *Reading Ease*__."
   ]
  },
  {
   "cell_type": "markdown",
   "id": "ee3f2214",
   "metadata": {},
   "source": [
    "# Excerpt Length"
   ]
  },
  {
   "cell_type": "code",
   "execution_count": null,
   "id": "6a7d36f6",
   "metadata": {},
   "outputs": [],
   "source": [
    "train['excerpt_length'] = train['excerpt'].apply(lambda x: len(x))\n",
    "col = 'excerpt_length'\n",
    "display(pd.DataFrame(train[col].describe()))\n",
    "sns.histplot(train[col])\n",
    "plt.show()"
   ]
  },
  {
   "cell_type": "markdown",
   "id": "ba234194",
   "metadata": {},
   "source": [
    "Excerpts may have ~670 to ~1340 characters (including spaces) and average at ~970 characters."
   ]
  },
  {
   "cell_type": "code",
   "execution_count": null,
   "id": "f60cbfa6",
   "metadata": {},
   "outputs": [],
   "source": [
    "print('correlation:')\n",
    "display(train[['target', 'excerpt_length']].corr())\n",
    "\n",
    "plt.figure(figsize=(8, 6))\n",
    "sns.scatterplot(x=train['excerpt_length'], y=train['target'])\n",
    "sns.regplot(x=train['excerpt_length'], y=train['target'], scatter=False, ci=None, color='tab:blue')\n",
    "plt.ylabel('reading ease')\n",
    "plt.show()"
   ]
  },
  {
   "cell_type": "markdown",
   "id": "6c2ef1d1",
   "metadata": {},
   "source": [
    "- __There is some negative correlation between *Reading Ease* and *Excerpt Length*__. Correlation Coefficient = -0.36. This makes sense as longer excerpts may be harder to read."
   ]
  },
  {
   "cell_type": "markdown",
   "id": "a1246665",
   "metadata": {},
   "source": [
    "# Word Count"
   ]
  },
  {
   "cell_type": "code",
   "execution_count": null,
   "id": "c6cf4f42",
   "metadata": {},
   "outputs": [],
   "source": [
    "train['word_count'] = train['excerpt'].apply(lambda x: len(x.split()))\n",
    "col = 'word_count'\n",
    "display(pd.DataFrame(train[col].describe()))\n",
    "sns.histplot(train[col])\n",
    "plt.show()"
   ]
  },
  {
   "cell_type": "markdown",
   "id": "f71acf26",
   "metadata": {},
   "source": [
    "Excerpts may have ~130 to ~200 characters (separated by spaces) and average at ~170 characters."
   ]
  },
  {
   "cell_type": "code",
   "execution_count": null,
   "id": "fd46021a",
   "metadata": {},
   "outputs": [],
   "source": [
    "print('correlation:')\n",
    "display(train[['target', 'word_count']].corr())\n",
    "\n",
    "plt.figure(figsize=(8, 6))\n",
    "sns.scatterplot(x=train['word_count'], y=train['target'])\n",
    "plt.ylabel('reading ease')\n",
    "plt.show()"
   ]
  },
  {
   "cell_type": "markdown",
   "id": "8d90c234",
   "metadata": {},
   "source": [
    "The negative correlation of *Reading Ease* with *Word Count* is quite small. I expected this to be higher than Excerpt Length but looks like this is not the case."
   ]
  }
 ],
 "metadata": {},
 "nbformat": 4,
 "nbformat_minor": 5
}
