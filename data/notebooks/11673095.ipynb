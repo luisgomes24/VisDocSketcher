{
 "cells": [
  {
   "cell_type": "markdown",
   "id": "4b3f7a38",
   "metadata": {},
   "source": [
    "## Update\n",
    "\n",
    "Now `bpps` is explained by the host here:\n",
    "\n",
    "https://www.kaggle.com/c/stanford-covid-vaccine/discussion/182021#1006800"
   ]
  },
  {
   "cell_type": "markdown",
   "id": "9a32182e",
   "metadata": {},
   "source": [
    "## About\n",
    "\n",
    "In the provided dataset, there's a folder named `bpps`. There aren't enough explanation about this folder and the contents inside. I conducted [a simple search](https://bmcbioinformatics.biomedcentral.com/articles/10.1186/s12859-018-2018-4) and found that `bpps` stands for `Base Pairing Probabilities`. \n",
    "The matrix inside `bpps` folder is Base Pairing Probability Matrix (`BPPM`) and it's basically treated as adjascency matrix of the RNA sequence. I'm not 100% sure, but it's basically describing the structure of the RNA (in my understanding).\n",
    "On the other hand, we have `structure` column in the `train.json` and `test.json`. The structure in json file and `BPPM` has strong connection. Let's have a look at it.\n",
    "\n",
    "If you'd like to know more about BPPs, check out [this](https://onlinelibrary.wiley.com/doi/pdf/10.1002/bip.360290621?casa_token=5__Sglto484AAAAA%3AXSJ0MfHd0atxB5PYqMyDsJvqIE79vTeneakVoku__oJZFP-wTki5QvoRWp1tjOpYgtkccjtfE1MKzQ)."
   ]
  },
  {
   "cell_type": "markdown",
   "id": "1b557b67",
   "metadata": {},
   "source": [
    "## Libraries"
   ]
  },
  {
   "cell_type": "code",
   "execution_count": null,
   "id": "bd32e254",
   "metadata": {},
   "outputs": [],
   "source": [
    "import graphviz\n",
    "import matplotlib.pyplot as plt\n",
    "import numpy as np\n",
    "import pandas as pd\n",
    "\n",
    "from pathlib import Path"
   ]
  },
  {
   "cell_type": "markdown",
   "id": "c61d9ea4",
   "metadata": {},
   "source": [
    "## Data Loading"
   ]
  },
  {
   "cell_type": "code",
   "execution_count": null,
   "id": "678d4c00",
   "metadata": {},
   "outputs": [],
   "source": [
    "DATA_DIR = Path(\"../input/stanford-covid-vaccine/\")\n",
    "BPPS_DIR = DATA_DIR / \"bpps\"\n",
    "\n",
    "train = pd.read_json(DATA_DIR / \"train.json\", lines=True)\n",
    "test = pd.read_json(DATA_DIR / \"test.json\", lines=True)\n",
    "\n",
    "bppm_paths = list(BPPS_DIR.glob(\"*.npy\"))"
   ]
  },
  {
   "cell_type": "code",
   "execution_count": null,
   "id": "16f94af9",
   "metadata": {},
   "outputs": [],
   "source": [
    "len(train) + len(test) == len(bppm_paths)"
   ]
  },
  {
   "cell_type": "markdown",
   "id": "66fe3aa1",
   "metadata": {},
   "source": [
    "Each `id` corresponds to the `.npy` file in `bpps` folder."
   ]
  },
  {
   "cell_type": "markdown",
   "id": "cae90900",
   "metadata": {},
   "source": [
    "## Compare BPPM and structure"
   ]
  },
  {
   "cell_type": "code",
   "execution_count": null,
   "id": "a58da42b",
   "metadata": {},
   "outputs": [],
   "source": [
    "def get_bppm(id_):\n",
    "    return np.load(BPPS_DIR / f\"{id_}.npy\")\n",
    "\n",
    "\n",
    "def draw_structure(structure: str):\n",
    "    pm = np.zeros((len(structure), len(structure)))\n",
    "    start_token_indices = []\n",
    "    for i, token in enumerate(structure):\n",
    "        if token == \"(\":\n",
    "            start_token_indices.append(i)\n",
    "        elif token == \")\":\n",
    "            j = start_token_indices.pop()\n",
    "            pm[i, j] = 1.0\n",
    "            pm[j, i] = 1.0\n",
    "    return pm\n",
    "\n",
    "\n",
    "def plot_structures(bppm: np.ndarray, pm: np.ndarray):\n",
    "    fig, axes = plt.subplots(1, 2, figsize=(10, 10))\n",
    "    axes[0].imshow(bppm)\n",
    "    axes[0].set_title(\"BPPM\")\n",
    "    axes[1].imshow(pm)\n",
    "    axes[1].set_title(\"structure\")\n",
    "    plt.show()"
   ]
  },
  {
   "cell_type": "code",
   "execution_count": null,
   "id": "d4f839e3",
   "metadata": {},
   "outputs": [],
   "source": [
    "idx = 0\n",
    "sample = train.loc[idx]\n",
    "\n",
    "bppm = get_bppm(sample.id)\n",
    "pm = draw_structure(sample.structure)\n",
    "plot_structures(bppm, pm)"
   ]
  },
  {
   "cell_type": "code",
   "execution_count": null,
   "id": "53285b0e",
   "metadata": {},
   "outputs": [],
   "source": [
    "idx = 1\n",
    "sample = train.loc[idx]\n",
    "\n",
    "bppm = get_bppm(sample.id)\n",
    "pm = draw_structure(sample.structure)\n",
    "plot_structures(bppm, pm)"
   ]
  },
  {
   "cell_type": "code",
   "execution_count": null,
   "id": "b4be65c4",
   "metadata": {},
   "outputs": [],
   "source": [
    "idx = 2\n",
    "sample = train.loc[idx]\n",
    "\n",
    "bppm = get_bppm(sample.id)\n",
    "pm = draw_structure(sample.structure)\n",
    "plot_structures(bppm, pm)"
   ]
  },
  {
   "cell_type": "code",
   "execution_count": null,
   "id": "2d3d7b3a",
   "metadata": {},
   "outputs": [],
   "source": [
    "idx = 3\n",
    "sample = train.loc[idx]\n",
    "\n",
    "bppm = get_bppm(sample.id)\n",
    "pm = draw_structure(sample.structure)\n",
    "plot_structures(bppm, pm)"
   ]
  },
  {
   "cell_type": "code",
   "execution_count": null,
   "id": "aefaac50",
   "metadata": {},
   "outputs": [],
   "source": [
    "idx = 4\n",
    "sample = train.loc[idx]\n",
    "\n",
    "bppm = get_bppm(sample.id)\n",
    "pm = draw_structure(sample.structure)\n",
    "plot_structures(bppm, pm)"
   ]
  },
  {
   "cell_type": "code",
   "execution_count": null,
   "id": "72bd3abd",
   "metadata": {},
   "outputs": [],
   "source": [
    "idx = 5\n",
    "sample = train.loc[idx]\n",
    "\n",
    "bppm = get_bppm(sample.id)\n",
    "pm = draw_structure(sample.structure)\n",
    "plot_structures(bppm, pm)"
   ]
  },
  {
   "cell_type": "markdown",
   "id": "8e4fc129",
   "metadata": {},
   "source": [
    "It's similar, and some are almost the same. However, in some case, BPPM is a bit blurred - maybe related to `signal_to_noise` or `SN_filter` values."
   ]
  },
  {
   "cell_type": "markdown",
   "id": "8530d9f8",
   "metadata": {},
   "source": [
    "## Visualize graph structure\n",
    "\n",
    "As I note above, this matrix can be treated as graph structure. Let's visualize it as a graph."
   ]
  },
  {
   "cell_type": "code",
   "execution_count": null,
   "id": "b01174a4",
   "metadata": {},
   "outputs": [],
   "source": [
    "def visualize_graph(bppm: np.ndarray, sequence: str, threshold=0.1):\n",
    "    indices = np.where(bppm > threshold)\n",
    "    edges = list(zip(indices[0], indices[1], bppm[indices]))\n",
    "    \n",
    "    g = graphviz.Graph(format=\"png\")\n",
    "    for from_, to, coef in edges:\n",
    "        if from_ > to:\n",
    "            g.edge(sequence[from_] + f\"({from_})\",\n",
    "                   sequence[to] + f\"({to})\",\n",
    "                   label=f\"{coef:.2f}\",\n",
    "                   penwidth=f\"{int(max(1, abs(coef * 20)))}\")\n",
    "    g.render(\"./graph\")\n",
    "    return g"
   ]
  },
  {
   "cell_type": "code",
   "execution_count": null,
   "id": "5ea65793",
   "metadata": {},
   "outputs": [],
   "source": [
    "idx = 0\n",
    "sample = train.loc[idx]\n",
    "\n",
    "bppm = get_bppm(sample.id)\n",
    "visualize_graph(bppm, sample.sequence, threshold=0.05)"
   ]
  },
  {
   "cell_type": "code",
   "execution_count": null,
   "id": "e6a3bb2a",
   "metadata": {},
   "outputs": [],
   "source": [
    "idx = 1\n",
    "sample = train.loc[idx]\n",
    "\n",
    "bppm = get_bppm(sample.id)\n",
    "visualize_graph(bppm, sample.sequence)"
   ]
  },
  {
   "cell_type": "code",
   "execution_count": null,
   "id": "0b4e1421",
   "metadata": {},
   "outputs": [],
   "source": [
    "idx = 2\n",
    "sample = train.loc[idx]\n",
    "\n",
    "bppm = get_bppm(sample.id)\n",
    "visualize_graph(bppm, sample.sequence)"
   ]
  },
  {
   "cell_type": "code",
   "execution_count": null,
   "id": "22e4ef57",
   "metadata": {},
   "outputs": [],
   "source": [
    "idx = 3\n",
    "sample = train.loc[idx]\n",
    "\n",
    "bppm = get_bppm(sample.id)\n",
    "visualize_graph(bppm, sample.sequence)"
   ]
  },
  {
   "cell_type": "code",
   "execution_count": null,
   "id": "eb2674b1",
   "metadata": {},
   "outputs": [],
   "source": [
    "idx = 4\n",
    "sample = train.loc[idx]\n",
    "\n",
    "bppm = get_bppm(sample.id)\n",
    "visualize_graph(bppm, sample.sequence)"
   ]
  },
  {
   "cell_type": "code",
   "execution_count": null,
   "id": "a8ef3ab1",
   "metadata": {},
   "outputs": [],
   "source": [
    "idx = 5\n",
    "sample = train.loc[idx]\n",
    "\n",
    "bppm = get_bppm(sample.id)\n",
    "visualize_graph(bppm, sample.sequence)"
   ]
  },
  {
   "cell_type": "markdown",
   "id": "c4f23c65",
   "metadata": {},
   "source": [
    "## EOF"
   ]
  },
  {
   "cell_type": "code",
   "execution_count": null,
   "id": "6a5c3173",
   "metadata": {},
   "outputs": [],
   "source": [
    "nan"
   ]
  }
 ],
 "metadata": {},
 "nbformat": 4,
 "nbformat_minor": 5
}
