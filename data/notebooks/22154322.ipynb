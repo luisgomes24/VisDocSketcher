{
 "cells": [
  {
   "cell_type": "code",
   "execution_count": null,
   "id": "1cab62f1",
   "metadata": {},
   "outputs": [],
   "source": [
    "import numpy as np\n",
    "import pandas as pd\n",
    "from sklearn.model_selection import train_test_split\n",
    "import lightgbm as lgb"
   ]
  },
  {
   "cell_type": "code",
   "execution_count": null,
   "id": "9d9617de",
   "metadata": {},
   "outputs": [],
   "source": [
    "train_df = pd.read_csv(\"../input/uec2021-exercise-3/train_sales.csv\")\n",
    "test_df = pd.read_csv(\"../input/uec2021-exercise-3/test_sales.csv\")\n",
    "stores_df = pd.read_csv(\"../input/uec2021-exercise-3/stores.csv\")\n",
    "features_df = pd.read_csv(\"../input/uec2021-exercise-3/features.csv\")"
   ]
  },
  {
   "cell_type": "code",
   "execution_count": null,
   "id": "616a69e3",
   "metadata": {},
   "outputs": [],
   "source": [
    "train_df.head()"
   ]
  },
  {
   "cell_type": "code",
   "execution_count": null,
   "id": "a65ff886",
   "metadata": {},
   "outputs": [],
   "source": [
    "test_df.head()"
   ]
  },
  {
   "cell_type": "code",
   "execution_count": null,
   "id": "bbc3a74b",
   "metadata": {},
   "outputs": [],
   "source": [
    "stores_df.head()"
   ]
  },
  {
   "cell_type": "code",
   "execution_count": null,
   "id": "82e6183d",
   "metadata": {},
   "outputs": [],
   "source": [
    "features_df.head()"
   ]
  },
  {
   "cell_type": "markdown",
   "id": "0b144d84",
   "metadata": {},
   "source": [
    "深く考えずにマージする"
   ]
  },
  {
   "cell_type": "code",
   "execution_count": null,
   "id": "10071cfb",
   "metadata": {},
   "outputs": [],
   "source": [
    "train_large_df = pd.merge(pd.merge(train_df, stores_df), features_df)"
   ]
  },
  {
   "cell_type": "code",
   "execution_count": null,
   "id": "a57bb647",
   "metadata": {},
   "outputs": [],
   "source": [
    "train_large_df.shape, train_df.shape"
   ]
  },
  {
   "cell_type": "code",
   "execution_count": null,
   "id": "5ea62e40",
   "metadata": {},
   "outputs": [],
   "source": [
    "test_large_df = pd.merge(pd.merge(test_df, stores_df), features_df)"
   ]
  },
  {
   "cell_type": "code",
   "execution_count": null,
   "id": "b63b4295",
   "metadata": {},
   "outputs": [],
   "source": [
    "test_large_df.shape, test_df.shape"
   ]
  },
  {
   "cell_type": "markdown",
   "id": "25c54c99",
   "metadata": {},
   "source": [
    "レコード数変わってないし大丈夫そう"
   ]
  },
  {
   "cell_type": "code",
   "execution_count": null,
   "id": "92d6d225",
   "metadata": {},
   "outputs": [],
   "source": [
    "train_large_df.head()"
   ]
  },
  {
   "cell_type": "code",
   "execution_count": null,
   "id": "b9b44d28",
   "metadata": {},
   "outputs": [],
   "source": [
    "test_large_df.head()"
   ]
  },
  {
   "cell_type": "code",
   "execution_count": null,
   "id": "a6d04aff",
   "metadata": {},
   "outputs": [],
   "source": [
    " train_test_large_df = pd.concat([train_large_df.drop([\"Weekly_Sales\"], axis=1), test_large_df], axis=0).reset_index(drop=True)"
   ]
  },
  {
   "cell_type": "code",
   "execution_count": null,
   "id": "0caf4f3f",
   "metadata": {},
   "outputs": [],
   "source": [
    "categorical_columns = [\n",
    "    'Store', 'Type', 'IsHoliday'\n",
    "]\n",
    "\n",
    "train_test_large_df[categorical_columns] = train_test_large_df[categorical_columns].astype('category')\n",
    "train_test_large_df.head()"
   ]
  },
  {
   "cell_type": "markdown",
   "id": "176ea4e6",
   "metadata": {},
   "source": [
    "- idとDateは除外する（本当はここで頑張って特徴作るべき）  \n",
    "- ランダムに分割（とてもよくない）\n",
    "- Storeはカテゴリ変数として扱う（あまり良くはない）"
   ]
  },
  {
   "cell_type": "code",
   "execution_count": null,
   "id": "78988c8e",
   "metadata": {},
   "outputs": [],
   "source": [
    "train_x_df, valid_x_df, train_y, valid_y = train_test_split(train_test_large_df.iloc[:train_df.shape[0], :].drop([\"id\", \"Date\"], axis=1), train_df[\"Weekly_Sales\"].values, test_size=0.2, random_state=42)"
   ]
  },
  {
   "cell_type": "code",
   "execution_count": null,
   "id": "77cb4a48",
   "metadata": {},
   "outputs": [],
   "source": [
    "dtrain = lgb.Dataset(train_x_df, train_y)\n",
    "dvalid = lgb.Dataset(valid_x_df, valid_y)"
   ]
  },
  {
   "cell_type": "code",
   "execution_count": null,
   "id": "6d5ddd5e",
   "metadata": {},
   "outputs": [],
   "source": [
    "best_params = {\n",
    "    'objective': 'regression', \n",
    "    'metric': 'rmse',\n",
    "    'seed': 71, \n",
    "    'num_leaves': 31\n",
    "}\n",
    "num_boost_round = 1000\n",
    "early_stopping_rounds = 100"
   ]
  },
  {
   "cell_type": "code",
   "execution_count": null,
   "id": "c0ed8e07",
   "metadata": {},
   "outputs": [],
   "source": [
    "model = lgb.train(\n",
    "    best_params, dtrain,\n",
    "    valid_sets=[dtrain, dvalid],\n",
    "    valid_names=['train', 'valid'],\n",
    "    num_boost_round=num_boost_round,\n",
    "    early_stopping_rounds=early_stopping_rounds, \n",
    "    verbose_eval=100\n",
    ")"
   ]
  },
  {
   "cell_type": "code",
   "execution_count": null,
   "id": "46108524",
   "metadata": {},
   "outputs": [],
   "source": [
    "test_pred = model.predict(train_test_large_df.iloc[train_df.shape[0]:, :].drop([\"id\", \"Date\"], axis=1))"
   ]
  },
  {
   "cell_type": "code",
   "execution_count": null,
   "id": "c4582372",
   "metadata": {},
   "outputs": [],
   "source": [
    "sub_df = pd.DataFrame({\n",
    "    \"id\": test_df[\"id\"], \n",
    "    \"pred\": test_pred\n",
    "})\n",
    "sub_df.head()"
   ]
  },
  {
   "cell_type": "code",
   "execution_count": null,
   "id": "2be84302",
   "metadata": {},
   "outputs": [],
   "source": [
    "sub_df.to_csv(\"submission.csv\", index=False)"
   ]
  },
  {
   "cell_type": "code",
   "execution_count": null,
   "id": "6df3848f",
   "metadata": {},
   "outputs": [],
   "source": [
    "nan"
   ]
  }
 ],
 "metadata": {},
 "nbformat": 4,
 "nbformat_minor": 5
}
