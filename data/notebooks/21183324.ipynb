{
 "cells": [
  {
   "cell_type": "markdown",
   "id": "00269b7c",
   "metadata": {},
   "source": [
    "# Does 1st batting or fielding affest CSK's win rate?\n",
    "\n",
    "In 2021 IPL, CSK (Chennai Super Kings) have been performing consistently well. Many people would say that \n",
    "csk have a higher success rate while they field first and they are They have never lost a match chasing in this season. I would like to know if there is a dependence between batting 1st or fielding 1st and their wins or losses.\n",
    "\n",
    "Chi-square test is a type of hypothesis testing done to identify the association between two categorical or nominal variables.\n",
    "\n",
    "Here I chose to perform the Chi-square test of independence between two categorical variable to see if there is any association between CSK's 1st batting or fielding and their wins."
   ]
  },
  {
   "cell_type": "code",
   "execution_count": null,
   "id": "b7a1e472",
   "metadata": {},
   "outputs": [],
   "source": [
    "#importing the necessary packages\n",
    "import numpy as np\n",
    "import pandas as pd\n",
    "import scipy"
   ]
  },
  {
   "cell_type": "code",
   "execution_count": null,
   "id": "6ca103bf",
   "metadata": {},
   "outputs": [],
   "source": [
    "#importing IPL matches dataset from Kaggle\n",
    "df = pd.read_csv('../input/ipl-complete-dataset-20082020/IPL Matches 2008-2020.csv')\n",
    "df.head()"
   ]
  },
  {
   "cell_type": "code",
   "execution_count": null,
   "id": "7d377d49",
   "metadata": {},
   "outputs": [],
   "source": [
    "#converting datatype of date from object to date\n",
    "df['date'] = pd.to_datetime(df['date'])\n",
    "df.dtypes"
   ]
  },
  {
   "cell_type": "code",
   "execution_count": null,
   "id": "65bef4dc",
   "metadata": {},
   "outputs": [],
   "source": [
    "#since this is a very large dataset consisting of data from 2008, im going to choose only data from past 3 years 2018-2020\n",
    "df = df[(df['date'].dt.year > 2017)]\n",
    "df.describe()"
   ]
  },
  {
   "cell_type": "code",
   "execution_count": null,
   "id": "8099916c",
   "metadata": {},
   "outputs": [],
   "source": [
    "#create a dataframe consisting of matches played by CSK\n",
    "d1 = df[df.team2 == 'Chennai Super Kings']\n",
    "d2 = df[df.team1 == 'Chennai Super Kings']\n",
    "dx = pd.concat([d1, d2])\n",
    "dx.describe()"
   ]
  },
  {
   "cell_type": "code",
   "execution_count": null,
   "id": "caa6ba06",
   "metadata": {},
   "outputs": [],
   "source": [
    "#create a new column which shows the result of the match\n",
    "dx.loc[dx['winner'] == 'Chennai Super Kings', 'MatchResult'] = \"Won\"\n",
    "dx.loc[dx['winner'] != 'Chennai Super Kings', 'MatchResult'] = \"Lost\"\n",
    "dx.head()"
   ]
  },
  {
   "cell_type": "code",
   "execution_count": null,
   "id": "78190f1e",
   "metadata": {},
   "outputs": [],
   "source": [
    "#create a new column which shows what CSK did first i.e., batting or fielding\n",
    "dx.loc[(dx['toss_winner'] == 'Chennai Super Kings') & (dx[\"toss_decision\"] == 'field'), '1st'] = \"fielding\"\n",
    "dx.loc[(dx['toss_winner'] == 'Chennai Super Kings') & (dx[\"toss_decision\"] == 'bat'), '1st'] = \"batting\"\n",
    "dx.loc[(dx['toss_winner'] != 'Chennai Super Kings') & (dx[\"toss_decision\"] == 'field'), '1st'] = \"batting\"\n",
    "dx.loc[(dx['toss_winner'] != 'Chennai Super Kings') & (dx[\"toss_decision\"] == 'bat'), '1st'] = \"fielding\"\n",
    "dx.head()"
   ]
  },
  {
   "cell_type": "code",
   "execution_count": null,
   "id": "731d3912",
   "metadata": {},
   "outputs": [],
   "source": [
    "#create a dataframe consisting of the 2 categorical variables that are to be tested\n",
    "dy = dx.pivot_table(index='1st', columns='MatchResult', aggfunc='size', fill_value=0)\n",
    "dy"
   ]
  },
  {
   "cell_type": "markdown",
   "id": "5b4bfcc5",
   "metadata": {},
   "source": [
    "We formulate the null and alternate hypotheses as below,\n",
    "\n",
    "\n",
    "H0: The result of the match is independent on 1st batting or fielding\n",
    "\n",
    "Ha: The result of the match is dependent on 1st batting or fielding\n",
    "\n",
    "We chose the 5% significance level for our analysis i.e., α = 0.05. Each non-parametric test has its own specific assumptions. The assumptions of the Chi-square are as below\n",
    "\n",
    "* The data in the cells should be frequencies, or counts of cases rather than percentages or some other transformation of the data.\n",
    "* The categorical variables that are being tested are mutually exclusive.\n",
    "* There are 2 variables, and both are measured as categories, usually at the nominal level.\n",
    "* The value of the cell expecteds should be 5 or more in at least 80% of the cells, and no cell should have an expected of less than one.\n",
    "\n",
    "Our data is in accordance with this assumptions."
   ]
  },
  {
   "cell_type": "code",
   "execution_count": null,
   "id": "e28a340f",
   "metadata": {},
   "outputs": [],
   "source": [
    "from scipy.stats import chi2_contingency\n",
    "stat, p, dof, expected = chi2_contingency(dy)\n",
    "print(stat, p)"
   ]
  },
  {
   "cell_type": "markdown",
   "id": "abe099ba",
   "metadata": {},
   "source": [
    "The p-value we get from the chi square test is 0.29228546548845175, which is greater than our significance level of 0.05. Therefore, we do not reject the null hypothesis. We conclude that there is not enough evidence to suggest an association between 1st batting or fielding and the result of the match.\n",
    "\n",
    "Based on the results, we can state the following:\n",
    "\n",
    "There is no association between 1st batting or fielding and the result of the match. Thus CSK's win does not depend on whether they bat first or field first."
   ]
  }
 ],
 "metadata": {},
 "nbformat": 4,
 "nbformat_minor": 5
}
