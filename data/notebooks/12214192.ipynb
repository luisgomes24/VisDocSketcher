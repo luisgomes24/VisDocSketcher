{
 "cells": [
  {
   "cell_type": "code",
   "execution_count": null,
   "id": "ea61c8c2",
   "metadata": {},
   "outputs": [],
   "source": [
    "a=5\n",
    "b=6\n",
    "add=a+b\n",
    "sub=a-b\n",
    "multi=a*b\n",
    "div=a/b\n",
    "print(add)\n",
    "print(sub)\n",
    "print(multi)\n",
    "print(div)"
   ]
  },
  {
   "cell_type": "code",
   "execution_count": null,
   "id": "13f6f60d",
   "metadata": {},
   "outputs": [],
   "source": [
    "a=5\n",
    "b=6\n",
    "add=a+b\n",
    "sub=a-b\n",
    "multi=a*b\n",
    "div=a/b\n",
    "print(add)\n",
    "print(sub)\n",
    "print(multi)\n",
    "print(div)"
   ]
  },
  {
   "cell_type": "markdown",
   "id": "1118f728",
   "metadata": {},
   "source": [
    "parenthesis"
   ]
  },
  {
   "cell_type": "markdown",
   "id": "29becb98",
   "metadata": {},
   "source": [
    "parenthesis"
   ]
  },
  {
   "cell_type": "markdown",
   "id": "c4829df3",
   "metadata": {},
   "source": [
    "****"
   ]
  },
  {
   "cell_type": "markdown",
   "id": "b94f5372",
   "metadata": {},
   "source": [
    "****"
   ]
  }
 ],
 "metadata": {},
 "nbformat": 4,
 "nbformat_minor": 5
}
