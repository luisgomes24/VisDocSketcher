{
 "cells": [
  {
   "cell_type": "markdown",
   "id": "674e1829",
   "metadata": {},
   "source": [
    "# Heart Failure Prediction with CatBoost"
   ]
  },
  {
   "cell_type": "markdown",
   "id": "27d76e72",
   "metadata": {},
   "source": [
    "# Introduction"
   ]
  },
  {
   "cell_type": "markdown",
   "id": "80d1409c",
   "metadata": {},
   "source": [
    "CatBoost is a very powerfull algorithm for gradient boosting on decision trees. Compared to other similar popular algorithms like XGBoost, Random Forest, LightGBM etc. it can handle categorical features directly without encoding and it has simpler hyperparameter tuning process. In this kernel we will test Catboost and optimize it with Optuna. \n",
    "\n",
    "Catboost model gave us very good accuracy results compared to the other models. It made modeling much faster since it does not require converting categotical features, scaling or nomalization.\n",
    "\n",
    "In this kernel we focused only on modeling. To improve accuracy score we would need to remove outliers and do more data analysis. This will be done in another kernel."
   ]
  },
  {
   "cell_type": "markdown",
   "id": "8ed5e894",
   "metadata": {},
   "source": [
    "# Exploratory Data Analysis"
   ]
  },
  {
   "cell_type": "code",
   "execution_count": null,
   "id": "2082cef0",
   "metadata": {},
   "outputs": [],
   "source": [
    "#importing libraries\n",
    "import numpy as np\n",
    "import pandas as pd\n",
    "import matplotlib.pyplot as plt\n",
    "import seaborn as sns\n",
    "\n",
    "import os\n",
    "for dirname, _, filenames in os.walk('/kaggle/input'):\n",
    "    for filename in filenames:\n",
    "        print(os.path.join(dirname, filename))"
   ]
  },
  {
   "cell_type": "code",
   "execution_count": null,
   "id": "c47f067d",
   "metadata": {},
   "outputs": [],
   "source": [
    "data = pd.read_csv(\"../input/heart-failure-prediction/heart.csv\")\n",
    "data.head()"
   ]
  },
  {
   "cell_type": "markdown",
   "id": "466e09af",
   "metadata": {},
   "source": [
    "#### Features description\n",
    "- Age: Age of the patient [years]\n",
    "- Sex: Sex of the patient [M: Male, F: Female]\n",
    "- ChestPainType: [TA: Typical Angina, ATA: Atypical Angina, NAP: Non-Anginal Pain, ASY: Asymptomatic]\n",
    "- RestingBP: Resting blood pressure [mm Hg]\n",
    "- Cholesterol: Serum cholesterol [mm/dl]\n",
    "- FastingBS: Fasting blood sugar [1: if FastingBS > 120 mg/dl, 0: otherwise]\n",
    "- RestingECG: Resting electrocardiogram results [Normal: Normal, ST: having ST-T wave abnormality (T wave inversions and/or ST elevation or depression of > 0.05 mV), LVH: showing probable or definite left ventricular hypertrophy by Estes' criteria]\n",
    "- MaxHR: Maximum heart rate achieved [Numeric value between 60 and 202]\n",
    "- ExerciseAngina: Exercise-induced angina [Y: Yes, N: No]\n",
    "- Oldpeak: ST [Numeric value measured in depression] \n",
    "- ST_Slope: The slope of the peak exercise ST segment [Up: upsloping, Flat: flat, Down: downsloping]\n",
    "- HeartDisease: Output class [1: heart disease, 0: Normal]"
   ]
  },
  {
   "cell_type": "code",
   "execution_count": null,
   "id": "a52ee4a6",
   "metadata": {},
   "outputs": [],
   "source": [
    "data.info()"
   ]
  },
  {
   "cell_type": "markdown",
   "id": "435d1113",
   "metadata": {},
   "source": [
    "We have no null values. There are 5 categorical and 6 numerical features excluding the target"
   ]
  },
  {
   "cell_type": "code",
   "execution_count": null,
   "id": "06665a1d",
   "metadata": {},
   "outputs": [],
   "source": [
    "categorical = data.select_dtypes('object').columns\n",
    "numerical = data.drop(['HeartDisease'], axis=1).select_dtypes('number').columns"
   ]
  },
  {
   "cell_type": "markdown",
   "id": "32c86d8f",
   "metadata": {},
   "source": [
    "## Target Feature"
   ]
  },
  {
   "cell_type": "code",
   "execution_count": null,
   "id": "0b7ff7a6",
   "metadata": {},
   "outputs": [],
   "source": [
    "sns.countplot(x='HeartDisease', data = data)"
   ]
  },
  {
   "cell_type": "markdown",
   "id": "12f9812f",
   "metadata": {},
   "source": [
    "## Numerical Features"
   ]
  },
  {
   "cell_type": "code",
   "execution_count": null,
   "id": "d8aa5066",
   "metadata": {},
   "outputs": [],
   "source": [
    "data[numerical].describe()"
   ]
  },
  {
   "cell_type": "code",
   "execution_count": null,
   "id": "99bf4936",
   "metadata": {},
   "outputs": [],
   "source": [
    "fig = plt.figure(figsize=(25,30)) #figure size\n",
    "a = 4  # number of rows\n",
    "b = 2  # number of columns\n",
    "c = 1  # initialize plot counter\n",
    "\n",
    "\n",
    "for column in numerical:\n",
    "    plt.subplot(a, b, c)\n",
    "    sns.histplot(x=column, data=data, color='darkred')\n",
    "    c+=1\n",
    "    \n",
    "plt.tight_layout()\n",
    "plt.show()"
   ]
  },
  {
   "cell_type": "code",
   "execution_count": null,
   "id": "72a88011",
   "metadata": {},
   "outputs": [],
   "source": [
    "skews = data[numerical].skew()\n",
    "skews"
   ]
  },
  {
   "cell_type": "markdown",
   "id": "341879a8",
   "metadata": {},
   "source": [
    "Small skew values meaning normal like distribution. Normalization is not needed. Anyway, CatBoost does not require data normalization."
   ]
  },
  {
   "cell_type": "code",
   "execution_count": null,
   "id": "9f4f0f62",
   "metadata": {},
   "outputs": [],
   "source": [
    "data.corr()['HeartDisease'].sort_values(ascending=False)[1:]"
   ]
  },
  {
   "cell_type": "markdown",
   "id": "5cdb2219",
   "metadata": {},
   "source": [
    "## Categorical Features"
   ]
  },
  {
   "cell_type": "code",
   "execution_count": null,
   "id": "2295f1ad",
   "metadata": {},
   "outputs": [],
   "source": [
    "data[categorical].nunique()"
   ]
  },
  {
   "cell_type": "code",
   "execution_count": null,
   "id": "c2ff1935",
   "metadata": {},
   "outputs": [],
   "source": [
    "fig = plt.figure(figsize=(15,10)) #figure size\n",
    "a = 2  # number of rows\n",
    "b = 3  # number of columns\n",
    "c = 1  # initialize plot counter\n",
    "\n",
    "#ploting categorical features\n",
    "for column in categorical:\n",
    "    plt.subplot(a, b, c)\n",
    "    sns.barplot(x=column, y=data['HeartDisease'], data=data, palette='rocket')\n",
    "    c+=1\n",
    "    \n",
    "plt.tight_layout()\n",
    "plt.show()"
   ]
  },
  {
   "cell_type": "markdown",
   "id": "0468bab5",
   "metadata": {},
   "source": [
    "# CatBoost"
   ]
  },
  {
   "cell_type": "code",
   "execution_count": null,
   "id": "80150c3b",
   "metadata": {},
   "outputs": [],
   "source": [
    "#catboost\n",
    "from catboost import CatBoostClassifier\n",
    "\n",
    "#hyperparameter tuning\n",
    "import optuna\n",
    "#optuna.logging.set_verbosity(0)\n",
    "\n",
    "#scoring tools\n",
    "from sklearn.model_selection import KFold, cross_val_score, train_test_split\n",
    "from sklearn.metrics import accuracy_score, classification_report"
   ]
  },
  {
   "cell_type": "code",
   "execution_count": null,
   "id": "22391d6d",
   "metadata": {},
   "outputs": [],
   "source": [
    "#spliting data_train \n",
    "X = data.drop(['HeartDisease'], axis=1)\n",
    "y = data['HeartDisease']\n",
    "\n",
    "#spliting data into 5 fold \n",
    "cv = KFold(n_splits=5, random_state=22, shuffle=True)"
   ]
  },
  {
   "cell_type": "code",
   "execution_count": null,
   "id": "e0937b52",
   "metadata": {},
   "outputs": [],
   "source": [
    "#catboost with default parameters\n",
    "cat = CatBoostClassifier(cat_features=['FastingBS', 'Sex', 'ChestPainType', 'RestingECG', 'ExerciseAngina','ST_Slope'], verbose=0)  \n",
    "scores = cross_val_score(cat, X, y, cv=cv, scoring=\"accuracy\")\n",
    "print(f'Accuracy with default parameters: {round(scores.mean(), 4)}')"
   ]
  },
  {
   "cell_type": "code",
   "execution_count": null,
   "id": "d536042e",
   "metadata": {},
   "outputs": [],
   "source": [
    "#optuna optimization\n",
    "def objective(trial):\n",
    "\n",
    "    #parameter range\n",
    "    param = {\n",
    "        \"objective\": trial.suggest_categorical(\"objective\", [\"Logloss\", \"CrossEntropy\"]),\n",
    "        \"colsample_bylevel\": trial.suggest_float(\"colsample_bylevel\", 0.01, 0.1),\n",
    "        \"depth\": trial.suggest_int(\"depth\", 1, 12),\n",
    "        \"boosting_type\": trial.suggest_categorical(\"boosting_type\", [\"Ordered\", \"Plain\"]),\n",
    "        \"bootstrap_type\": trial.suggest_categorical(\"bootstrap_type\", [\"Bayesian\", \"Bernoulli\", \"MVS\"])\n",
    "    }\n",
    "    \n",
    "    if param[\"bootstrap_type\"] == \"Bayesian\":\n",
    "        param[\"bagging_temperature\"] = trial.suggest_float(\"bagging_temperature\", 0, 10)\n",
    "    elif param[\"bootstrap_type\"] == \"Bernoulli\":\n",
    "        param[\"subsample\"] = trial.suggest_float(\"subsample\", 0.1, 1)\n",
    "        \n",
    "    model = CatBoostClassifier(**param, cat_features=['FastingBS', 'Sex', 'ChestPainType', 'RestingECG', 'ExerciseAngina','ST_Slope'], verbose=0)  \n",
    "    \n",
    "    scores = cross_val_score(\n",
    "        model, X, y, cv=cv,\n",
    "        scoring=\"accuracy\"\n",
    "    )\n",
    "    \n",
    "    return scores.mean()\n",
    "\n",
    "#optimazing to maximize accuracy in 100 trials\n",
    "study = optuna.create_study(direction='maximize')\n",
    "study.optimize(objective, n_trials=100)"
   ]
  },
  {
   "cell_type": "code",
   "execution_count": null,
   "id": "cf06c77d",
   "metadata": {},
   "outputs": [],
   "source": [
    "print('Number of finished trials:', len(study.trials))\n",
    "print('Best trial:', study.best_trial.params)\n",
    "\n",
    "#redefining Catboost with the best trial parameters\n",
    "cat = CatBoostClassifier(**study.best_trial.params, cat_features=['FastingBS', 'Sex', 'ChestPainType', 'RestingECG', 'ExerciseAngina','ST_Slope'], verbose=0)"
   ]
  },
  {
   "cell_type": "code",
   "execution_count": null,
   "id": "58602d72",
   "metadata": {},
   "outputs": [],
   "source": [
    "optuna.visualization.plot_optimization_history(study)"
   ]
  },
  {
   "cell_type": "code",
   "execution_count": null,
   "id": "7da79dc0",
   "metadata": {},
   "outputs": [],
   "source": [
    "print(f'Accuracy after optimization: {round(study.best_value, 4)}')"
   ]
  },
  {
   "cell_type": "code",
   "execution_count": null,
   "id": "987f6fea",
   "metadata": {},
   "outputs": [],
   "source": [
    "X_train, X_test, y_train, y_test = train_test_split(X, y, test_size=0.3, random_state=42)\n",
    "\n",
    "cat.fit(X_train, y_train)"
   ]
  },
  {
   "cell_type": "code",
   "execution_count": null,
   "id": "1b74bf82",
   "metadata": {},
   "outputs": [],
   "source": [
    "pred = cat.predict(X_test)\n",
    "print(f'Accuracy: {round(accuracy_score(y_test, pred),4)}\\n')\n",
    "print(classification_report(y_test, pred))"
   ]
  },
  {
   "cell_type": "code",
   "execution_count": null,
   "id": "c81e3523",
   "metadata": {},
   "outputs": [],
   "source": [
    "#creating a feature importances data frame\n",
    "feature_importance = np.array(cat.get_feature_importance())\n",
    "features = np.array(X_train.columns)\n",
    "df_importances = pd.DataFrame({'Features':features,'Feature importance':feature_importance})\n",
    "\n",
    "#sorting values\n",
    "df_importances.sort_values(by=['Feature importance'], ascending=False, inplace=True)\n",
    "\n",
    "#barplot\n",
    "fig = sns.barplot(x='Feature importance', y='Features', data = df_importances, palette='rocket')\n",
    "plt.show()"
   ]
  },
  {
   "cell_type": "code",
   "execution_count": null,
   "id": "f58de844",
   "metadata": {},
   "outputs": [],
   "source": [
    "df_importances.set_index('Features', drop=True)"
   ]
  }
 ],
 "metadata": {},
 "nbformat": 4,
 "nbformat_minor": 5
}
