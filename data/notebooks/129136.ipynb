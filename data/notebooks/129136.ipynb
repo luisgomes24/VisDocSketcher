{
 "cells": [
  {
   "cell_type": "markdown",
   "id": "7e6a7ce2",
   "metadata": {},
   "source": [
    "# Linear Regression\n",
    "\n",
    "Over 370,000 used cars were scraped from Ebay-Kleinanzeigen. The content of the data is in German. The data is available [here](https://www.kaggle.com/orgesleka/used-cars-database) The fields included in the file data/autos.csv are:\n",
    "\n",
    "- seller : private or dealer\n",
    "- offerType\n",
    "- vehicleType\n",
    "- yearOfRegistration : at which year the car was first registered\n",
    "- gearbox\n",
    "- powerPS : power of the car in PS\n",
    "- model\n",
    "- kilometer : how many kilometers the car has driven\n",
    "- monthOfRegistration : at which month the car was first registered\n",
    "- fuelType\n",
    "- brand\n",
    "- notRepairedDamage : if the car has a damage which is not repaired yet\n",
    "- price : the price on the ad to sell the car. \n",
    "\n",
    "**Goal**  \n",
    "Given the characteristics/features of the car, the sale price of the car is to be predicted. "
   ]
  },
  {
   "cell_type": "code",
   "execution_count": null,
   "id": "dbb8bbb0",
   "metadata": {},
   "outputs": [],
   "source": [
    "#import the required libraries\n",
    "import pandas as pd\n",
    "import numpy as np"
   ]
  },
  {
   "cell_type": "code",
   "execution_count": null,
   "id": "1a052321",
   "metadata": {},
   "outputs": [],
   "source": [
    "#Read the dataset\n",
    "cars = pd.read_csv(\"../input/autos.csv\", encoding='latin1')"
   ]
  },
  {
   "cell_type": "code",
   "execution_count": null,
   "id": "d907519b",
   "metadata": {},
   "outputs": [],
   "source": [
    "#Display the first few rows\n",
    "cars.head()"
   ]
  },
  {
   "cell_type": "code",
   "execution_count": null,
   "id": "b3453729",
   "metadata": {},
   "outputs": [],
   "source": [
    "#Display the columns in the dataset\n",
    "cars.columns"
   ]
  },
  {
   "cell_type": "code",
   "execution_count": null,
   "id": "472de473",
   "metadata": {},
   "outputs": [],
   "source": [
    "#what are the types of the columns?\n",
    "cars.dtypes"
   ]
  },
  {
   "cell_type": "code",
   "execution_count": null,
   "id": "261b73a4",
   "metadata": {},
   "outputs": [],
   "source": [
    "#Find if data has missing values?\n",
    "#Find missing values by each column\n",
    "cars.isnull().sum()"
   ]
  },
  {
   "cell_type": "code",
   "execution_count": null,
   "id": "3f6a3b79",
   "metadata": {},
   "outputs": [],
   "source": [
    "#Find proportion of data that is missing for each of the columns\n",
    "cars.isnull().sum()/cars.shape[0] * 100"
   ]
  },
  {
   "cell_type": "code",
   "execution_count": null,
   "id": "3dfdf713",
   "metadata": {},
   "outputs": [],
   "source": [
    "#For this exercise, let's drop the rows that have null values\n",
    "\n",
    "cars_updated = cars.dropna()"
   ]
  },
  {
   "cell_type": "code",
   "execution_count": null,
   "id": "67893eb0",
   "metadata": {},
   "outputs": [],
   "source": [
    "cars.shape, cars_updated.shape"
   ]
  },
  {
   "cell_type": "code",
   "execution_count": null,
   "id": "4b152b63",
   "metadata": {},
   "outputs": [],
   "source": [
    "#check if there are any missing values\n",
    "cars_updated.isnull().sum()"
   ]
  },
  {
   "cell_type": "code",
   "execution_count": null,
   "id": "b9511b3a",
   "metadata": {},
   "outputs": [],
   "source": [
    "#Display first few records of cars_updated\n",
    "cars_updated.head()"
   ]
  },
  {
   "cell_type": "code",
   "execution_count": null,
   "id": "1109301e",
   "metadata": {},
   "outputs": [],
   "source": [
    "cars_updated.columns"
   ]
  },
  {
   "cell_type": "code",
   "execution_count": null,
   "id": "2a6207d5",
   "metadata": {},
   "outputs": [],
   "source": [
    "#Let's use only the following columns for our modeling now\n",
    "cars_updated = cars_updated.iloc[:, [2,3,6,7,8,9,10,11,12,13,14,15,4]]"
   ]
  },
  {
   "cell_type": "code",
   "execution_count": null,
   "id": "ac7e5b80",
   "metadata": {},
   "outputs": [],
   "source": [
    "#Convert text to numeric using Label Encoding\n",
    "from sklearn import preprocessing"
   ]
  },
  {
   "cell_type": "code",
   "execution_count": null,
   "id": "bdbdef47",
   "metadata": {},
   "outputs": [],
   "source": [
    "#encode the data\n",
    "cars_encoded = cars_updated.apply(preprocessing.LabelEncoder().fit_transform)"
   ]
  },
  {
   "cell_type": "code",
   "execution_count": null,
   "id": "db6ee5fd",
   "metadata": {},
   "outputs": [],
   "source": [
    "#Display the first few records\n",
    "cars_encoded.head()"
   ]
  },
  {
   "cell_type": "code",
   "execution_count": null,
   "id": "bb3a331f",
   "metadata": {},
   "outputs": [],
   "source": [
    "cars_encoded.columns"
   ]
  },
  {
   "cell_type": "code",
   "execution_count": null,
   "id": "a9c0598d",
   "metadata": {},
   "outputs": [],
   "source": [
    "#Exploratory data analysis\n",
    "import matplotlib.pyplot as plt\n",
    "%matplotlib inline\n",
    "plt.style.use('fivethirtyeight')\n",
    "# plt.rcParams['figure.figsize'] = (10, 6)"
   ]
  },
  {
   "cell_type": "code",
   "execution_count": null,
   "id": "e2160ded",
   "metadata": {},
   "outputs": [],
   "source": [
    "#Plot year vs price\n",
    "plt.scatter(cars_encoded.yearOfRegistration, \n",
    "           cars_encoded.price,\n",
    "           s=150, alpha = 0.1)\n",
    "plt.xlabel('year')\n",
    "plt.ylabel('price')"
   ]
  },
  {
   "cell_type": "markdown",
   "id": "290fbb8e",
   "metadata": {},
   "source": [
    "### Linear Regression Model"
   ]
  },
  {
   "cell_type": "code",
   "execution_count": null,
   "id": "d50fbaa5",
   "metadata": {},
   "outputs": [],
   "source": [
    "from sklearn import linear_model"
   ]
  },
  {
   "cell_type": "code",
   "execution_count": null,
   "id": "4d9a9849",
   "metadata": {},
   "outputs": [],
   "source": [
    "#Instantiate the model\n",
    "model_sklearn = linear_model.LinearRegression()"
   ]
  },
  {
   "cell_type": "code",
   "execution_count": null,
   "id": "eed245b6",
   "metadata": {},
   "outputs": [],
   "source": [
    "#fit the model\n",
    "model_sklearn.fit(cars_encoded.iloc[:,:12], cars_encoded.iloc[:,12])"
   ]
  },
  {
   "cell_type": "code",
   "execution_count": null,
   "id": "8a2b94a2",
   "metadata": {},
   "outputs": [],
   "source": [
    "#Regression coefficients\n",
    "model_sklearn.coef_"
   ]
  },
  {
   "cell_type": "code",
   "execution_count": null,
   "id": "f0ffbd3c",
   "metadata": {},
   "outputs": [],
   "source": [
    "#Model intercept\n",
    "model_sklearn.intercept_"
   ]
  },
  {
   "cell_type": "markdown",
   "id": "8a5c7afe",
   "metadata": {},
   "source": [
    "### Validation"
   ]
  },
  {
   "cell_type": "code",
   "execution_count": null,
   "id": "e227df90",
   "metadata": {},
   "outputs": [],
   "source": [
    "from sklearn.model_selection import train_test_split"
   ]
  },
  {
   "cell_type": "code",
   "execution_count": null,
   "id": "c515fe3b",
   "metadata": {},
   "outputs": [],
   "source": [
    "#Split into train and validation\n",
    "x_train, x_test, y_train, y_test = train_test_split(cars_encoded.iloc[:,:12], \n",
    "                                                    cars_encoded.iloc[:,12],\n",
    "                                                    test_size=0.2)"
   ]
  },
  {
   "cell_type": "code",
   "execution_count": null,
   "id": "5aa8112c",
   "metadata": {},
   "outputs": [],
   "source": [
    "#Display data shape\n",
    "cars_encoded.shape, x_train.shape, y_train.shape, x_test.shape, y_test.shape"
   ]
  },
  {
   "cell_type": "code",
   "execution_count": null,
   "id": "dbc97e0b",
   "metadata": {},
   "outputs": [],
   "source": [
    "#Instantiate the model\n",
    "model_sklearn_tv = linear_model.LinearRegression()"
   ]
  },
  {
   "cell_type": "code",
   "execution_count": null,
   "id": "5a4c2903",
   "metadata": {},
   "outputs": [],
   "source": [
    "#fit the model\n",
    "model_sklearn_tv.fit(x_train, y_train)"
   ]
  },
  {
   "cell_type": "code",
   "execution_count": null,
   "id": "2ef98e38",
   "metadata": {},
   "outputs": [],
   "source": [
    "y_pred = model_sklearn_tv.predict(x_test)"
   ]
  },
  {
   "cell_type": "code",
   "execution_count": null,
   "id": "e9519a36",
   "metadata": {},
   "outputs": [],
   "source": [
    "#Find error : RMSE\n",
    "np.sqrt(np.mean((y_test - y_pred)**2))"
   ]
  },
  {
   "cell_type": "code",
   "execution_count": null,
   "id": "ce4abce9",
   "metadata": {},
   "outputs": [],
   "source": [
    "nan"
   ]
  }
 ],
 "metadata": {},
 "nbformat": 4,
 "nbformat_minor": 5
}
