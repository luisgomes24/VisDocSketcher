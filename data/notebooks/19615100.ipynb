{
 "cells": [
  {
   "cell_type": "markdown",
   "id": "ca92c00b",
   "metadata": {},
   "source": [
    "# Fast Style Transfer"
   ]
  },
  {
   "cell_type": "markdown",
   "id": "81a26628",
   "metadata": {},
   "source": [
    "## Summary\n",
    "In this notebook, I am going to use Fast Style Transfer from TFHub to generate monet-styled images. It can generate 7000 images in about 350 seconds, which takes 0.05 second per image."
   ]
  },
  {
   "cell_type": "markdown",
   "id": "fe41e528",
   "metadata": {},
   "source": [
    "## Import Packages"
   ]
  },
  {
   "cell_type": "code",
   "execution_count": null,
   "id": "5ebd63d0",
   "metadata": {},
   "outputs": [],
   "source": [
    "import numpy as np\n",
    "import pandas as pd\n",
    "import tensorflow as tf\n",
    "import matplotlib.pyplot as plt\n",
    "import tensorflow_hub as hub\n",
    "import time\n",
    "import os\n",
    "from PIL import Image\n",
    "import shutil"
   ]
  },
  {
   "cell_type": "markdown",
   "id": "f18ccb83",
   "metadata": {},
   "source": [
    "## Common Parameters"
   ]
  },
  {
   "cell_type": "code",
   "execution_count": null,
   "id": "6748443e",
   "metadata": {},
   "outputs": [],
   "source": [
    "base_path = \"/kaggle/input/gan-getting-started\"\n",
    "content_path = os.path.join(base_path, \"photo_jpg\")\n",
    "style_path = os.path.join(base_path, \"monet_jpg\")\n",
    "output_path = \"/kaggle/working/images\"\n",
    "image_size = 256\n",
    "num_outputs = 7000"
   ]
  },
  {
   "cell_type": "markdown",
   "id": "4d5e9eae",
   "metadata": {},
   "source": [
    "## Common Functions"
   ]
  },
  {
   "cell_type": "code",
   "execution_count": null,
   "id": "2b2725f9",
   "metadata": {},
   "outputs": [],
   "source": [
    "def sample(photos, count):\n",
    "    photos = photos[np.random.choice(len(photos), count)]\n",
    "    for photo in photos:\n",
    "        img = tf.keras.preprocessing.image.load_img(photo)\n",
    "        plt.imshow(img)\n",
    "        plt.show()"
   ]
  },
  {
   "cell_type": "markdown",
   "id": "dec4594b",
   "metadata": {},
   "source": [
    "## Import Datasets"
   ]
  },
  {
   "cell_type": "code",
   "execution_count": null,
   "id": "2241cfb1",
   "metadata": {},
   "outputs": [],
   "source": [
    "style_images = np.array([os.path.join(style_path, path) for path in os.listdir(style_path)])\n",
    "np.random.shuffle(style_images)\n",
    "print(style_images[:10])"
   ]
  },
  {
   "cell_type": "code",
   "execution_count": null,
   "id": "34455e9d",
   "metadata": {},
   "outputs": [],
   "source": [
    "content_images = np.array([os.path.join(content_path, path) for path in os.listdir(content_path)])\n",
    "np.random.shuffle(content_images)\n",
    "print(content_images[:10])"
   ]
  },
  {
   "cell_type": "markdown",
   "id": "25cfb67e",
   "metadata": {},
   "source": [
    "## Exploratory Data Analysis"
   ]
  },
  {
   "cell_type": "markdown",
   "id": "1c9eadf4",
   "metadata": {},
   "source": [
    "**Number of style images**"
   ]
  },
  {
   "cell_type": "code",
   "execution_count": null,
   "id": "68d262fc",
   "metadata": {},
   "outputs": [],
   "source": [
    "len(style_images)"
   ]
  },
  {
   "cell_type": "markdown",
   "id": "80484322",
   "metadata": {},
   "source": [
    "**Number of content images**"
   ]
  },
  {
   "cell_type": "code",
   "execution_count": null,
   "id": "11c39eaa",
   "metadata": {},
   "outputs": [],
   "source": [
    "len(content_images)"
   ]
  },
  {
   "cell_type": "markdown",
   "id": "7be5b65c",
   "metadata": {},
   "source": [
    "**Style Images**"
   ]
  },
  {
   "cell_type": "code",
   "execution_count": null,
   "id": "b855584a",
   "metadata": {},
   "outputs": [],
   "source": [
    "sample(style_images, 5)"
   ]
  },
  {
   "cell_type": "markdown",
   "id": "50d339b6",
   "metadata": {},
   "source": [
    "**Content Images**"
   ]
  },
  {
   "cell_type": "code",
   "execution_count": null,
   "id": "349b90a1",
   "metadata": {},
   "outputs": [],
   "source": [
    "sample(content_images, 5)"
   ]
  },
  {
   "cell_type": "markdown",
   "id": "f4250234",
   "metadata": {},
   "source": [
    "## Load Pretrained Model"
   ]
  },
  {
   "cell_type": "code",
   "execution_count": null,
   "id": "c1ec138c",
   "metadata": {},
   "outputs": [],
   "source": [
    "hub_module = hub.load('https://tfhub.dev/google/magenta/arbitrary-image-stylization-v1-256/2')"
   ]
  },
  {
   "cell_type": "markdown",
   "id": "41b15ea0",
   "metadata": {},
   "source": [
    "## Generating outputs"
   ]
  },
  {
   "cell_type": "code",
   "execution_count": null,
   "id": "fdd22761",
   "metadata": {},
   "outputs": [],
   "source": [
    "%rm -r -f /kaggle/working/images"
   ]
  },
  {
   "cell_type": "code",
   "execution_count": null,
   "id": "84ed5d17",
   "metadata": {},
   "outputs": [],
   "source": [
    "%mkdir /kaggle/working/images"
   ]
  },
  {
   "cell_type": "code",
   "execution_count": null,
   "id": "2bd73225",
   "metadata": {},
   "outputs": [],
   "source": [
    "from tqdm import tqdm\n",
    "for i in tqdm(range(num_outputs)):\n",
    "    content_image_path = content_images[np.random.randint(len(content_images))]\n",
    "    style_image_path = style_images[np.random.randint(len(style_images))]\n",
    "    content_image = plt.imread(content_image_path)\n",
    "    style_image = plt.imread(style_image_path)\n",
    "    content_image = content_image.astype(np.float32)[np.newaxis, ...] / 255.\n",
    "    style_image = style_image.astype(np.float32)[np.newaxis, ...] / 255.\n",
    "    style_image = tf.image.resize(style_image, (image_size, image_size))\n",
    "    outputs = hub_module(tf.constant(content_image), tf.constant(style_image))\n",
    "    stylized_image = tf.reshape(outputs[0], (image_size, image_size, 3))\n",
    "    file_path = os.path.join(output_path, str(i + 1) + \".jpg\")\n",
    "    img = Image.fromarray(np.uint8(stylized_image * 255.0))\n",
    "    img.save(file_path)"
   ]
  },
  {
   "cell_type": "code",
   "execution_count": null,
   "id": "d8e53b88",
   "metadata": {},
   "outputs": [],
   "source": [
    "shutil.make_archive(output_path, 'zip', output_path)"
   ]
  },
  {
   "cell_type": "markdown",
   "id": "22e32fbc",
   "metadata": {},
   "source": [
    "## Visualize outputs"
   ]
  },
  {
   "cell_type": "code",
   "execution_count": null,
   "id": "984b3ef6",
   "metadata": {},
   "outputs": [],
   "source": [
    "output_images = np.array([os.path.join(output_path, path) for path in os.listdir(output_path)])"
   ]
  },
  {
   "cell_type": "code",
   "execution_count": null,
   "id": "0179050b",
   "metadata": {},
   "outputs": [],
   "source": [
    "sample(output_images, 5)"
   ]
  },
  {
   "cell_type": "markdown",
   "id": "b3e4f5f1",
   "metadata": {},
   "source": [
    "## If this notebook is helpful, please give me an upvote, thank you."
   ]
  }
 ],
 "metadata": {},
 "nbformat": 4,
 "nbformat_minor": 5
}
