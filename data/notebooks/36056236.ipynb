{
 "cells": [
  {
   "cell_type": "code",
   "execution_count": null,
   "id": "798760a0",
   "metadata": {},
   "outputs": [],
   "source": [
    "# This Python 3 environment comes with many helpful analytics libraries installed\n",
    "# It is defined by the kaggle/python Docker image: https://github.com/kaggle/docker-python\n",
    "# For example, here's several helpful packages to load\n",
    "\n",
    "import numpy as np # linear algebra\n",
    "import pandas as pd # data processing, CSV file I/O (e.g. pd.read_csv)\n",
    "import matplotlib.pyplot as plt\n",
    "import seaborn as sns\n",
    "# Input data files are available in the read-only \"../input/\" directory\n",
    "# For example, running this (by clicking run or pressing Shift+Enter) will list all files under the input directory\n",
    "\n",
    "import os\n",
    "for dirname, _, filenames in os.walk('/kaggle/input'):\n",
    "    for filename in filenames:\n",
    "        print(os.path.join(dirname, filename))\n",
    "\n",
    "# You can write up to 20GB to the current directory (/kaggle/working/) that gets preserved as output when you create a version using \"Save & Run All\" \n",
    "# You can also write temporary files to /kaggle/temp/, but they won't be saved outside of the current session"
   ]
  },
  {
   "cell_type": "code",
   "execution_count": null,
   "id": "970bcb79",
   "metadata": {},
   "outputs": [],
   "source": [
    "df = pd.read_csv(\"/kaggle/input/mobile-vendor-market-share-india4-2010-to-2-2023/Mobile Vendor Market Share India.csv\")"
   ]
  },
  {
   "cell_type": "code",
   "execution_count": null,
   "id": "04782488",
   "metadata": {},
   "outputs": [],
   "source": [
    "df.head()"
   ]
  },
  {
   "cell_type": "code",
   "execution_count": null,
   "id": "72c4acdc",
   "metadata": {},
   "outputs": [],
   "source": [
    "df.tail()"
   ]
  },
  {
   "cell_type": "code",
   "execution_count": null,
   "id": "ca8ea2cd",
   "metadata": {},
   "outputs": [],
   "source": [
    "df.info()"
   ]
  },
  {
   "cell_type": "code",
   "execution_count": null,
   "id": "52816226",
   "metadata": {},
   "outputs": [],
   "source": [
    "df['Date'] = pd.to_datetime(df['Date'])\n",
    "\n",
    "# Group the data by year and sum the sales for each brand\n",
    "df_yearly = df.groupby(df['Date'].dt.year).sum()\n",
    "\n",
    "# Reset the index to make the \"year\" column a regular column\n",
    "df_yearly = df_yearly.reset_index()\n",
    "\n",
    "# Rename the \"Date\" column to \"year\"\n",
    "df_yearly = df_yearly.rename(columns={'Date': 'year'})"
   ]
  },
  {
   "cell_type": "code",
   "execution_count": null,
   "id": "7d0d3b40",
   "metadata": {},
   "outputs": [],
   "source": [
    "df_yearly.head()"
   ]
  },
  {
   "cell_type": "code",
   "execution_count": null,
   "id": "30205697",
   "metadata": {},
   "outputs": [],
   "source": [
    "#check how the market share changed over years for big 4\n",
    "\n",
    "plt.plot(df_yearly['year'], df_yearly['Samsung'], label='Samsung')\n",
    "plt.plot(df_yearly['year'], df_yearly['Google'], label='Google')\n",
    "plt.plot(df_yearly['year'], df_yearly['Apple'], label='Apple')\n",
    "plt.plot(df_yearly['year'], df_yearly['OnePlus'], label='OnePlus')\n",
    "\n",
    "plt.xlabel('Year')\n",
    "plt.ylabel('Market Share')\n",
    "plt.title('Market Share by Brand over Years')\n",
    "plt.legend()\n",
    "plt.show()"
   ]
  },
  {
   "cell_type": "code",
   "execution_count": null,
   "id": "cf102809",
   "metadata": {},
   "outputs": [],
   "source": [
    "#check how the market share changed over years for budget phone makers\n",
    "\n",
    "plt.plot(df_yearly['year'], df_yearly['Oppo'], label='Oppo')\n",
    "plt.plot(df_yearly['year'], df_yearly['Xiaomi'], label='Xiaomi')\n",
    "plt.plot(df_yearly['year'], df_yearly['Realme'], label='Realme')\n",
    "plt.plot(df_yearly['year'], df_yearly['Vivo'], label='Vivo')\n",
    "\n",
    "plt.xlabel('Year')\n",
    "plt.ylabel('Market Share')\n",
    "plt.title('Market Share by Budget Brands over Years')\n",
    "plt.legend()\n",
    "plt.show()"
   ]
  },
  {
   "cell_type": "code",
   "execution_count": null,
   "id": "08d66ed5",
   "metadata": {},
   "outputs": [],
   "source": [
    "#check how the market share changed over years for home grown brands\n",
    "\n",
    "plt.plot(df_yearly['year'], df_yearly['Micromax'], label='Micromax')\n",
    "plt.plot(df_yearly['year'], df_yearly['Lava'], label='Lava')\n",
    "plt.plot(df_yearly['year'], df_yearly['Karbonn'], label='Karbonn')\n",
    "\n",
    "plt.xlabel('Year')\n",
    "plt.ylabel('Market Share')\n",
    "plt.title('Market Share by Budget Brands over Years')\n",
    "plt.legend()\n",
    "plt.show()"
   ]
  },
  {
   "cell_type": "code",
   "execution_count": null,
   "id": "f4dd8518",
   "metadata": {},
   "outputs": [],
   "source": [
    "nan"
   ]
  }
 ],
 "metadata": {},
 "nbformat": 4,
 "nbformat_minor": 5
}
