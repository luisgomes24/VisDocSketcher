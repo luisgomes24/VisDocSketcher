{
 "cells": [
  {
   "cell_type": "markdown",
   "id": "065b8f14",
   "metadata": {},
   "source": [
    "# Don't free the murderbots (id: murderbots) -- 300 Points\n",
    "\n",
    "### Scenario\n",
    "\n",
    "Someone has put you in a very large facility with a very large number of cells. All these cells open from the outside. You are on the inside. This state of affairs is arguably suboptimal.\n",
    "\n",
    "Good news: You've gained access to the control panel for the cells on the other side of your hallway. At least some of them have other fleshy meatbags like yourself that might be willing to help you in your escape, or at least serve as distractions.  You can't open your own cell, but you can open theirs.\n",
    "\n",
    "Bad news:  You can't see inside the cells.  Any cells that don't have squishy lumps of talking protein have murderbots. Murderbots that enter fits of insane violent rage when provoked (provocations include: seeing the murderbot, being seen by the murderbot, thinking too hard about not being seen by a murderbot, producing heat in excess of ambient room temperature, or consuming more oxygen than the facility average for inanimate objects).\n",
    "\n",
    "More good news: You *can* see the occupants of some cells on a few other hallways, and you can see environmental information for all of the cells everywhere.\n",
    "\n",
    "More bad news: If you open the wrong cell doors you and all of the other lumps of inexplicably thinking meat are *definitely* going to get murderbotted. Hard. All over the walls and doors and ceiling and the floor. In an exciting number of very small pieces.\n",
    "\n",
    "\n",
    "### Objective\n",
    "\n",
    "Use the provided environmental information to decide which occupants of the corresponding cells to release.  The flag will be a string of 1 and 0 values, where a '1' means 'open this door' and a 0 means 'please do not release the murderbot'.  If, for instance, there were 20 cells and you wanted to releast the first three, the sixth, and seventh cell, your flag would look like this: `11100110000000000000`\n",
    "\n",
    "Release at least 10 humans and exactly 0 murderbots to collect the flag.  You do *not* have to release all the humans: 10 is sufficient.\n",
    "\n",
    "The file `murderbots/train_data.json` has environmental information for cells not on your floor and `murderbots/train_labels.json` contains the information about their occupants -- `1` is a disgusting primate, `0` is a pure and perfect killing machine of chrome and steel.  The file `murderbots/test_data.json` has the environmental information about cells on your block."
   ]
  },
  {
   "cell_type": "code",
   "execution_count": null,
   "id": "8cedfd44",
   "metadata": {},
   "outputs": [],
   "source": [
    "# imports\n",
    "\n",
    "import pandas as pd\n",
    "import numpy as np\n",
    "import os\n",
    "import requests\n",
    "from IPython.display import Image as Ima\n",
    "from IPython.display import clear_output, display\n",
    "from PIL import Image as Im\n",
    "from torch.utils.data import Dataset, DataLoader\n",
    "import torch\n",
    "import joblib\n",
    "import matplotlib.pyplot as plt\n",
    "import json\n",
    "import base64\n",
    "import shutil\n",
    "import warnings\n",
    "warnings.filterwarnings(\"ignore\")\n",
    "\n",
    "\n",
    "dir_name = \"/kaggle/input/ai-village-ctf\"\n"
   ]
  },
  {
   "cell_type": "code",
   "execution_count": null,
   "id": "96a78c38",
   "metadata": {},
   "outputs": [],
   "source": [
    "# A helper function for tracking flags. You could do it yourself, but why?\n",
    "\n",
    "def add_flag(challenge_id: str, flag: str) -> str:\n",
    "    try:\n",
    "        submission_path = \"/kaggle/working/submission.csv\"\n",
    "        template_path = f\"{dir_name}/submission.csv\"\n",
    "        if not os.path.isfile(submission_path) :\n",
    "            shutil.copyfile(template_path, submission_path)\n",
    "        flags = pd.read_csv(submission_path, index_col=\"challenge_id\")\n",
    "        valid = flags.index.to_list()\n",
    "        if challenge_id in valid:\n",
    "            flags.at[challenge_id] = flag\n",
    "            flags.to_csv(submission_path)\n",
    "            print(\"Flag saved. If you want to update the scoreboard, click 'submit' on the right. Remember that you can only update your score on the scoreboard 50 times per day\")\n",
    "        else:\n",
    "            print(\"Invalid challenge_id\")\n",
    "    except:\n",
    "        print(\"We had trouble saving that flag. Keep a copy of it and contact the CTF organizers.\")"
   ]
  },
  {
   "cell_type": "markdown",
   "id": "c269e2df",
   "metadata": {},
   "source": [
    "# We need to release atleast 10 cells that have high probability of containing humans. So, we just train a simple classification model to predict which cells contain humans and pick the top 10"
   ]
  },
  {
   "cell_type": "code",
   "execution_count": null,
   "id": "f1e6c65b",
   "metadata": {},
   "outputs": [],
   "source": [
    "# load the data\n",
    "import json\n",
    "\n",
    "train_file = \"../input/ai-village-ctf/murderbots/train_data.json\"\n",
    "labels_file = \"../input/ai-village-ctf/murderbots/train_labels.json\"\n",
    "test_file = \"../input/ai-village-ctf/murderbots/test_data.json\"\n",
    "\n",
    "X = pd.read_json(train_file)\n",
    "y = pd.read_json(labels_file)\n",
    "# sort by index value as we are loading the data from a json object, indices in X, y may not be in the same order when loaded into pandas dataframe\n",
    "X.sort_index(inplace=True) \n",
    "y.sort_index(inplace=True)\n",
    "X_test = pd.read_json(test_file)"
   ]
  },
  {
   "cell_type": "code",
   "execution_count": null,
   "id": "e2e4c777",
   "metadata": {},
   "outputs": [],
   "source": [
    "from sklearn.model_selection import train_test_split\n",
    "from sklearn.linear_model import LogisticRegression\n",
    "X_train, X_val, y_train, y_val = train_test_split(X, y, train_size=.8)"
   ]
  },
  {
   "cell_type": "code",
   "execution_count": null,
   "id": "4456be21",
   "metadata": {},
   "outputs": [],
   "source": [
    "# simple classification using logistic regression\n",
    "model = LogisticRegression(max_iter=100).fit(X_train, y_train)\n",
    "print(f\"Accuracy on validation set: {model.score(X_val, y_val)}\")"
   ]
  },
  {
   "cell_type": "code",
   "execution_count": null,
   "id": "d09a905c",
   "metadata": {},
   "outputs": [],
   "source": [
    "# Check labels to see in which order they are.\n",
    "# we need to identify the 10 bots with highest probability of being humans (not murderbots). label 1 is human and label 0 is murderbot\n",
    "model.classes_"
   ]
  },
  {
   "cell_type": "code",
   "execution_count": null,
   "id": "2d48b6bb",
   "metadata": {},
   "outputs": [],
   "source": [
    "# select top 10 indices\n",
    "test_preds = model.predict_proba(X_test)\n",
    "label_1_idx_desc = np.flip(test_preds[:,1].argsort())\n",
    "top_10_idx =  label_1_idx_desc[:10]"
   ]
  },
  {
   "cell_type": "code",
   "execution_count": null,
   "id": "b3a30bb4",
   "metadata": {},
   "outputs": [],
   "source": [
    "# generate flag string with 1 based on the top 10 indices. Release only 10 cells.\n",
    "flag = np.zeros((50,))\n",
    "flag[top_10_idx] = 1\n",
    "flag = list(map(lambda x: str(int(x)), flag))\n",
    "flag_string = \"\".join(flag)\n",
    "print(f\"FLAG: {flag_string}\")"
   ]
  },
  {
   "cell_type": "code",
   "execution_count": null,
   "id": "2fcfd0e9",
   "metadata": {},
   "outputs": [],
   "source": [
    "# Submission Helper\n",
    "\n",
    "f = flag_string # length == 50\n",
    "try:\n",
    "    r = requests.post(\"http://murderbot.fly.dev:5000/score\", json=json.dumps({\"submission\": f, 'challenge_id':'murderbots'}))\n",
    "    print(r.text)\n",
    "except requests.exceptions.ConnectionError:\n",
    "    print(\"Connection problems. Contact the CTF organizers.\")"
   ]
  }
 ],
 "metadata": {},
 "nbformat": 4,
 "nbformat_minor": 5
}
