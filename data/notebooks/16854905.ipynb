{
 "cells": [
  {
   "cell_type": "code",
   "execution_count": null,
   "id": "9eb6377e",
   "metadata": {},
   "outputs": [],
   "source": [
    "!pip install pycaret"
   ]
  },
  {
   "cell_type": "code",
   "execution_count": null,
   "id": "ad6257ab",
   "metadata": {},
   "outputs": [],
   "source": [
    "import pandas as pd\n",
    "import numpy as np\n",
    "import category_encoders as ce\n",
    "from pycaret.classification import *\n",
    "from imblearn.over_sampling import SMOTE\n",
    "from sklearn.preprocessing import normalize\n",
    "from sklearn.ensemble import RandomForestClassifier"
   ]
  },
  {
   "cell_type": "code",
   "execution_count": null,
   "id": "6dbef0f0",
   "metadata": {},
   "outputs": [],
   "source": [
    "df_train = pd.read_csv(\"../input/hranalysis/train.csv\")\n",
    "df_test = pd.read_csv(\"../input/hranalysis/test.csv\")"
   ]
  },
  {
   "cell_type": "code",
   "execution_count": null,
   "id": "4c890432",
   "metadata": {},
   "outputs": [],
   "source": [
    "df_train"
   ]
  },
  {
   "cell_type": "code",
   "execution_count": null,
   "id": "c79290d4",
   "metadata": {},
   "outputs": [],
   "source": [
    "df_train.isnull().sum()"
   ]
  },
  {
   "cell_type": "code",
   "execution_count": null,
   "id": "2db50668",
   "metadata": {},
   "outputs": [],
   "source": [
    "def fillna(df,column,value):\n",
    "    df[column].fillna(value,inplace=True)\n",
    "    return df\n"
   ]
  },
  {
   "cell_type": "code",
   "execution_count": null,
   "id": "3163ec79",
   "metadata": {},
   "outputs": [],
   "source": [
    "df_train = fillna(df_train,\"education\",\"unknown\")\n",
    "df_train = fillna(df_train,\"previous_year_rating\",0.0)\n",
    "df_train.drop(\"employee_id\",axis=1,inplace=True)\n"
   ]
  },
  {
   "cell_type": "code",
   "execution_count": null,
   "id": "5c1a4338",
   "metadata": {},
   "outputs": [],
   "source": [
    "df_train.isnull().sum()"
   ]
  },
  {
   "cell_type": "code",
   "execution_count": null,
   "id": "3f93ba86",
   "metadata": {},
   "outputs": [],
   "source": [
    "def one_hot_encoding(df,col):\n",
    "    one_hot_encoder=ce.OneHotEncoder(cols=col,return_df=True,use_cat_names=True)\n",
    "    df_final = one_hot_encoder.fit_transform(df)\n",
    "    return df_final"
   ]
  },
  {
   "cell_type": "code",
   "execution_count": null,
   "id": "86ef4c66",
   "metadata": {},
   "outputs": [],
   "source": [
    "for column in df_train.columns:\n",
    "    if df_train[column].dtypes==\"object\" and column!=\"gender\":\n",
    "        df_train=one_hot_encoding(df_train,column)"
   ]
  },
  {
   "cell_type": "code",
   "execution_count": null,
   "id": "9dc2282b",
   "metadata": {},
   "outputs": [],
   "source": [
    "def ordinal_encoding(df,col,mapping):\n",
    "    ordinal_encoder = ce.OrdinalEncoder(cols = [col],return_df = True,mapping = [{'col':col,'mapping':mapping}])\n",
    "    df_final = ordinal_encoder.fit_transform(df)\n",
    "    return df_final"
   ]
  },
  {
   "cell_type": "code",
   "execution_count": null,
   "id": "9091c6be",
   "metadata": {},
   "outputs": [],
   "source": [
    "df_train = ordinal_encoding(df_train,\"gender\",{\"m\":1,\"f\":0})"
   ]
  },
  {
   "cell_type": "code",
   "execution_count": null,
   "id": "2159005d",
   "metadata": {},
   "outputs": [],
   "source": [
    "df_train.dtypes"
   ]
  },
  {
   "cell_type": "code",
   "execution_count": null,
   "id": "90252712",
   "metadata": {},
   "outputs": [],
   "source": [
    "X = df_train.drop(\"is_promoted\",axis=1)\n",
    "Y = pd.DataFrame(df_train[\"is_promoted\"])"
   ]
  },
  {
   "cell_type": "code",
   "execution_count": null,
   "id": "ec930a4a",
   "metadata": {},
   "outputs": [],
   "source": [
    "smote = SMOTE()\n",
    "X, Y = smote.fit_resample(X, Y)"
   ]
  },
  {
   "cell_type": "code",
   "execution_count": null,
   "id": "460d0b39",
   "metadata": {},
   "outputs": [],
   "source": [
    "df_train = pd.concat([X,Y],axis = 1)"
   ]
  },
  {
   "cell_type": "code",
   "execution_count": null,
   "id": "e6f36d87",
   "metadata": {},
   "outputs": [],
   "source": [
    "df_train"
   ]
  },
  {
   "cell_type": "code",
   "execution_count": null,
   "id": "b7bf53cf",
   "metadata": {},
   "outputs": [],
   "source": [
    "# experiment = setup(df_train, target=\"is_promoted\")"
   ]
  },
  {
   "cell_type": "code",
   "execution_count": null,
   "id": "0b50b597",
   "metadata": {},
   "outputs": [],
   "source": [
    "# compare_models()"
   ]
  },
  {
   "cell_type": "code",
   "execution_count": null,
   "id": "76425d7c",
   "metadata": {},
   "outputs": [],
   "source": [
    "df_test = fillna(df_test,\"education\",\"unknown\")\n",
    "df_test = fillna(df_test,\"previous_year_rating\",0.0)\n",
    "df_test_copy = df_test.copy()\n",
    "df_test.drop(\"employee_id\",axis=1,inplace=True)\n",
    "for column in df_test.columns:\n",
    "    if df_test[column].dtypes==\"object\" and column!=\"gender\":\n",
    "        df_test=one_hot_encoding(df_test,column)\n",
    "df_test = ordinal_encoding(df_test,\"gender\",{\"m\":1,\"f\":0})"
   ]
  },
  {
   "cell_type": "code",
   "execution_count": null,
   "id": "b5f98728",
   "metadata": {},
   "outputs": [],
   "source": [
    "X_train = normalize(df_train.drop(\"is_promoted\",axis = 1))\n",
    "X_test = normalize(df_test)\n",
    "Y_train = df_train[\"is_promoted\"]"
   ]
  },
  {
   "cell_type": "code",
   "execution_count": null,
   "id": "e7221be7",
   "metadata": {},
   "outputs": [],
   "source": [
    "rfc = RandomForestClassifier()\n",
    "rfc.fit(X_train,Y_train)"
   ]
  },
  {
   "cell_type": "code",
   "execution_count": null,
   "id": "9cea8b22",
   "metadata": {},
   "outputs": [],
   "source": [
    "Y_pred = rfc.predict(X_test)"
   ]
  },
  {
   "cell_type": "code",
   "execution_count": null,
   "id": "f05d4a1d",
   "metadata": {},
   "outputs": [],
   "source": [
    "submission = pd.DataFrame({\"employee_id\":df_test_copy[\"employee_id\"],\"is_promoted\":[0 for i in Y_pred]})"
   ]
  },
  {
   "cell_type": "code",
   "execution_count": null,
   "id": "20524f54",
   "metadata": {},
   "outputs": [],
   "source": [
    "submission.to_csv(\"submission.csv\",index= False)"
   ]
  },
  {
   "cell_type": "code",
   "execution_count": null,
   "id": "ff979dc1",
   "metadata": {},
   "outputs": [],
   "source": [
    "nan"
   ]
  }
 ],
 "metadata": {},
 "nbformat": 4,
 "nbformat_minor": 5
}
