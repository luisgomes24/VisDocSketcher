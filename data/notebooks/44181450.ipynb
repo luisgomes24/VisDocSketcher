{
 "cells": [
  {
   "cell_type": "markdown",
   "id": "48efef1b",
   "metadata": {},
   "source": [
    "# North-Westeren Pacific Cyclone"
   ]
  },
  {
   "cell_type": "code",
   "execution_count": null,
   "id": "1227b9d9",
   "metadata": {},
   "outputs": [],
   "source": [
    "import os\n",
    "import numpy as np\n",
    "import pandas as pd\n",
    "import matplotlib.pyplot as plt\n",
    "import geopandas as gpd\n",
    "from geopandas import GeoDataFrame\n",
    "from shapely.geometry import Point\n",
    "import seaborn as sns"
   ]
  },
  {
   "cell_type": "code",
   "execution_count": null,
   "id": "99182bfc",
   "metadata": {},
   "outputs": [],
   "source": [
    "df0=pd.read_csv('/kaggle/input/tropical-cyclone-size-in-the-northwestern-pacific/tropical_cyclone_size.csv')\n",
    "df0['year']=df0['Time'].apply(lambda x:int(x[0:4]))\n",
    "display(df0)"
   ]
  },
  {
   "cell_type": "code",
   "execution_count": null,
   "id": "9587a6d8",
   "metadata": {},
   "outputs": [],
   "source": [
    "for y in range(2015,2017):\n",
    "    df=df0[df0['year']==y].copy()\n",
    "    geometry = [Point(xy) for xy in zip(df['Longititude'], df['Latitude'])]\n",
    "    gdf = GeoDataFrame(df, geometry = geometry)\n",
    "    world = gpd.read_file(gpd.datasets.get_path('naturalearth_lowres'))\n",
    "    gdf.plot(ax=world.plot(figsize=(12,12)), color='orange', markersize=10)\n",
    "    plt.title(str(y))\n",
    "    plt.show()"
   ]
  },
  {
   "cell_type": "code",
   "execution_count": null,
   "id": "d709f1c5",
   "metadata": {},
   "outputs": [],
   "source": [
    "dfi=df0[df0['Cyclone Number']==1631].reset_index(drop=True)\n",
    "display(dfi)\n",
    "loci=dfi[['Latitude','Longititude']]"
   ]
  },
  {
   "cell_type": "code",
   "execution_count": null,
   "id": "2fd3214d",
   "metadata": {},
   "outputs": [],
   "source": [
    "dfi.iloc[0,2:4].tolist()"
   ]
  },
  {
   "cell_type": "code",
   "execution_count": null,
   "id": "f9cdb881",
   "metadata": {},
   "outputs": [],
   "source": [
    "import folium\n",
    "from folium import plugins\n",
    "eq_map = folium.Map(location=[14,122],tiles='Stamen Terrain',zoom_start=6.0,min_zoom=2.0)\n",
    "eq_map.add_child(plugins.HeatMap(loci))\n",
    "title = ' Cyclone 1631 : Trace and Wind Speed '\n",
    "eq_map.get_root().html.add_child(folium.Element(title))\n",
    "for i in range(len(loci)):\n",
    "    wind_speed=dfi.iloc[i,5]\n",
    "    radius = wind_speed * 2\n",
    "    folium.CircleMarker(\n",
    "        location=dfi.iloc[i,2:4],\n",
    "        radius=radius,\n",
    "        color='red',\n",
    "        fill=True,\n",
    "        fill_color='red',\n",
    "        fill_opacity=0.1,\n",
    "    ).add_to(eq_map)\n",
    "eq_map"
   ]
  },
  {
   "cell_type": "code",
   "execution_count": null,
   "id": "58075807",
   "metadata": {},
   "outputs": [],
   "source": [
    "plt.figure(figsize=(12,6))\n",
    "plt.plot(dfi['Time'], dfi['Pressure'], marker='o', linestyle='-', color='b')\n",
    "plt.xlabel('Time')\n",
    "plt.ylabel('Pressure')\n",
    "plt.title('Pressure Change of 1631')\n",
    "plt.grid(True)\n",
    "plt.xticks(rotation=45)\n",
    "plt.tight_layout()\n",
    "plt.show()"
   ]
  },
  {
   "cell_type": "code",
   "execution_count": null,
   "id": "d8f43fa3",
   "metadata": {},
   "outputs": [],
   "source": [
    "plt.figure(figsize=(12,6))\n",
    "plt.plot(dfi['Time'], dfi['Wind Speed'], marker='o', linestyle='-', color='b')\n",
    "plt.xlabel('Time')\n",
    "plt.ylabel('Wind Speed')\n",
    "plt.title('Wind Speed Change of 1631')\n",
    "plt.grid(True)\n",
    "plt.xticks(rotation=45)\n",
    "plt.tight_layout()\n",
    "plt.show()"
   ]
  },
  {
   "cell_type": "code",
   "execution_count": null,
   "id": "be063006",
   "metadata": {},
   "outputs": [],
   "source": [
    "nan"
   ]
  }
 ],
 "metadata": {},
 "nbformat": 4,
 "nbformat_minor": 5
}
