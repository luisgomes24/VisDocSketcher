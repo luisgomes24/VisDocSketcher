{
 "cells": [
  {
   "cell_type": "code",
   "execution_count": null,
   "id": "cd5454c2",
   "metadata": {},
   "outputs": [],
   "source": [
    "# This Python 3 environment comes with many helpful analytics libraries installed\n",
    "# It is defined by the kaggle/python docker image: https://github.com/kaggle/docker-python\n",
    "# For example, here's several helpful packages to load in \n",
    "\n",
    "import numpy as np # linear algebra\n",
    "import pandas as pd # data processing, CSV file I/O (e.g. pd.read_csv)\n",
    "\n",
    "# Input data files are available in the \"../input/\" directory.\n",
    "# For example, running this (by clicking run or pressing Shift+Enter) will list all files under the input directory\n",
    "\n",
    "import os\n",
    "for dirname, _, filenames in os.walk('/kaggle/input'):\n",
    "    for filename in filenames:\n",
    "        print(os.path.join(dirname, filename))\n",
    "\n",
    "# Any results you write to the current directory are saved as output."
   ]
  },
  {
   "cell_type": "code",
   "execution_count": null,
   "id": "dc2c46be",
   "metadata": {},
   "outputs": [],
   "source": [
    "dados = pd.read_csv(\"../input/carsdata/cars.csv\" ,na_values=' ')"
   ]
  },
  {
   "cell_type": "code",
   "execution_count": null,
   "id": "8878f1b3",
   "metadata": {},
   "outputs": [],
   "source": [
    "import matplotlib.pyplot as plt"
   ]
  },
  {
   "cell_type": "code",
   "execution_count": null,
   "id": "f7600ce2",
   "metadata": {},
   "outputs": [],
   "source": [
    "dados.head()"
   ]
  },
  {
   "cell_type": "code",
   "execution_count": null,
   "id": "8a0b26e0",
   "metadata": {},
   "outputs": [],
   "source": [
    "dados = dados.dropna()\n",
    "dados['cubicinches'] = dados['cubicinches'].astype(int)\n",
    "dados['weightlbs'] = dados['weightlbs'].astype(int)"
   ]
  },
  {
   "cell_type": "code",
   "execution_count": null,
   "id": "44250b58",
   "metadata": {},
   "outputs": [],
   "source": [
    "x=dados.iloc[:,:7]\n",
    "x.head()"
   ]
  },
  {
   "cell_type": "code",
   "execution_count": null,
   "id": "d6be7ff7",
   "metadata": {},
   "outputs": [],
   "source": [
    "x.columns"
   ]
  },
  {
   "cell_type": "code",
   "execution_count": null,
   "id": "4355f153",
   "metadata": {},
   "outputs": [],
   "source": [
    "dados.columns=['mpg','cylinders','cubicinches','hp','weightlbs','time-to-60',\n",
    "       'year', 'brand']"
   ]
  },
  {
   "cell_type": "code",
   "execution_count": null,
   "id": "a8ba856f",
   "metadata": {},
   "outputs": [],
   "source": [
    "x = dados.iloc[:,:7]"
   ]
  },
  {
   "cell_type": "code",
   "execution_count": null,
   "id": "2fc4a4d5",
   "metadata": {},
   "outputs": [],
   "source": [
    "x.describe()"
   ]
  },
  {
   "cell_type": "code",
   "execution_count": null,
   "id": "0566fe78",
   "metadata": {},
   "outputs": [],
   "source": [
    "x_array =x.values\n",
    "x_array"
   ]
  },
  {
   "cell_type": "code",
   "execution_count": null,
   "id": "7141a363",
   "metadata": {},
   "outputs": [],
   "source": [
    "\n"
   ]
  },
  {
   "cell_type": "code",
   "execution_count": null,
   "id": "6636aae7",
   "metadata": {},
   "outputs": [],
   "source": [
    "from sklearn.cluster import KMeans\n",
    "wcss = []\n",
    "for i in range(1,11):\n",
    "    kmeans = KMeans(n_clusters = i,init='k-means++',max_iter=300,n_init=10,random_state=0)\n",
    "    kmeans.fit(x_array)\n",
    "    wcss.append(kmeans.inertia_)\n",
    "    \n",
    "plt.plot(range(1,11),wcss)\n",
    "plt.title('metodo Cotuvelo - Elbow Method')\n",
    "plt.xlabel('numero de Cluters')\n",
    "plt.ylabel('WCSS')\n",
    "plt.show()"
   ]
  },
  {
   "cell_type": "code",
   "execution_count": null,
   "id": "792b9065",
   "metadata": {},
   "outputs": [],
   "source": [
    "kmeans = KMeans(n_clusters = 3,init='k-means++',max_iter=300,n_init=10,random_state=0)\n",
    "dados['clusters'] =  kmeans.fit_predict(x_array)\n",
    "dados.head()\n",
    "dados.groupby(\"clusters\").agg('mean').plot.bar(figsize=(10,7.5))\n",
    "plt.title(\"gastos por cluster\")"
   ]
  }
 ],
 "metadata": {},
 "nbformat": 4,
 "nbformat_minor": 5
}
