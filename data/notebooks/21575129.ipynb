{
 "cells": [
  {
   "cell_type": "markdown",
   "id": "46191dd5",
   "metadata": {},
   "source": [
    "# Homework: Intro to Pandas"
   ]
  },
  {
   "cell_type": "markdown",
   "id": "ef7001a6",
   "metadata": {},
   "source": [
    "### 1. Import Pandas with an alias of `pd`"
   ]
  },
  {
   "cell_type": "code",
   "execution_count": null,
   "id": "5f011c7d",
   "metadata": {},
   "outputs": [],
   "source": [
    "import pandas as pd"
   ]
  },
  {
   "cell_type": "markdown",
   "id": "eb9e782f",
   "metadata": {},
   "source": [
    "### 2. Read in the NBA players `csv` into a variable called `nba`"
   ]
  },
  {
   "cell_type": "markdown",
   "id": "7089cd5d",
   "metadata": {},
   "source": [
    "This is a data set of NBA players from 2015.\n",
    "\n",
    "It is located here:\n",
    "\n",
    "```\n",
    "../input/pythr-2021-08-nba-players-2015/nba_players_2015.csv\n",
    "```"
   ]
  },
  {
   "cell_type": "code",
   "execution_count": null,
   "id": "b7a8a3fc",
   "metadata": {},
   "outputs": [],
   "source": [
    "filepath = '../input/pythr-2021-08-nba-players-2015/nba_players_2015.csv'\n",
    "players = pd.read_csv(filepath)"
   ]
  },
  {
   "cell_type": "markdown",
   "id": "65c5b0e1",
   "metadata": {},
   "source": [
    "### 3. Look at the first five rows of the data set"
   ]
  },
  {
   "cell_type": "code",
   "execution_count": null,
   "id": "96146da7",
   "metadata": {},
   "outputs": [],
   "source": [
    "players.head(5)"
   ]
  },
  {
   "cell_type": "markdown",
   "id": "89bea2a5",
   "metadata": {},
   "source": [
    "### 4. Check out the shape of the data set"
   ]
  },
  {
   "cell_type": "code",
   "execution_count": null,
   "id": "3de77fe7",
   "metadata": {},
   "outputs": [],
   "source": [
    "players.shape"
   ]
  },
  {
   "cell_type": "markdown",
   "id": "d80941f4",
   "metadata": {},
   "source": [
    "### #5 Run some summary stats on the data set with the `describe()` function"
   ]
  },
  {
   "cell_type": "code",
   "execution_count": null,
   "id": "1e69f308",
   "metadata": {},
   "outputs": [],
   "source": [
    "players.describe()"
   ]
  },
  {
   "cell_type": "markdown",
   "id": "d3b7d3f1",
   "metadata": {},
   "source": [
    "### #6 Sort the data set in on the `players` column in alphabetical order"
   ]
  },
  {
   "cell_type": "code",
   "execution_count": null,
   "id": "17f396da",
   "metadata": {},
   "outputs": [],
   "source": [
    "players.sort_values('player')"
   ]
  },
  {
   "cell_type": "markdown",
   "id": "90550e52",
   "metadata": {},
   "source": [
    "### 7. Filter the data set\n",
    "\n",
    "* Create three sub DataFrames from the `position` column for `G`, `F`, and `C`\n",
    "   * G, F, C stands for Guards, Forwards, and Centers, the various basketball positions\n",
    "   * If you're curious: Wikipedia article on [basketball positions](https://en.wikipedia.org/wiki/Basketball_positions)\n",
    "* Use the `.copy()` method ([documentation](https://pandas.pydata.org/pandas-docs/stable/reference/api/pandas.DataFrame.copy.html?highlight=copy#pandas.DataFrame.copy)) to make them independent copies"
   ]
  },
  {
   "cell_type": "code",
   "execution_count": null,
   "id": "c0fc3a66",
   "metadata": {},
   "outputs": [],
   "source": [
    "guards = players[players.pos == 'G'].copy()\n",
    "forwards = players[players.pos == 'F'].copy()\n",
    "centers = players[players.pos == 'C'].copy()"
   ]
  },
  {
   "cell_type": "markdown",
   "id": "d9bb2d9e",
   "metadata": {},
   "source": [
    "### 8.a.  Run `describe()` on these new DataFrames. Compare the mean field goals (the `fg` column) between positions"
   ]
  },
  {
   "cell_type": "code",
   "execution_count": null,
   "id": "5ced3cea",
   "metadata": {},
   "outputs": [],
   "source": [
    "guards.describe()"
   ]
  },
  {
   "cell_type": "code",
   "execution_count": null,
   "id": "36bdcb11",
   "metadata": {},
   "outputs": [],
   "source": [
    "forwards.describe()"
   ]
  },
  {
   "cell_type": "code",
   "execution_count": null,
   "id": "b9268c3d",
   "metadata": {},
   "outputs": [],
   "source": [
    "centers.describe()"
   ]
  },
  {
   "cell_type": "markdown",
   "id": "0583659a",
   "metadata": {},
   "source": [
    "### 8.b. Enter your observations in the following Markdown cell"
   ]
  },
  {
   "cell_type": "markdown",
   "id": "f5972549",
   "metadata": {},
   "source": [
    "* Guards, forwards, and centers attempt field goals at a varying rate. \n",
    "\n",
    "* Guards have the highest FG attempts \"and\" FG made at 7.7 \"and\" 3.2 since they are the ones usually facilitating the offense \"and\" taking the most shots.\n",
    "\n",
    "* Forwards attempt lesser FGs \"and\" make lesser FGs than Guards.\n",
    "\n",
    "* Centers have the lowest FG attempts \"and\" attempts made. They also have a higher FG% compared to guards \"and\" forwards.\n",
    "\n",
    "* Guards and forwards take a lot of contested and mid-range jumpers due to which they typically have lower FG% \"and\" opposed to Centers who usually just stand below \"and\" dunk the ball."
   ]
  },
  {
   "cell_type": "markdown",
   "id": "bc170de2",
   "metadata": {},
   "source": [
    "### The end! Great job!!!"
   ]
  }
 ],
 "metadata": {},
 "nbformat": 4,
 "nbformat_minor": 5
}
