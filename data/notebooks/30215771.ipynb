{
 "cells": [
  {
   "cell_type": "markdown",
   "id": "1dfd05cf",
   "metadata": {},
   "source": [
    "<div style=\"padding:20px;color:white;margin:0;font-size:300%;text-align:center;display:fill;border-radius:5px;background-color:#282c5c;overflow:hidden;font-weight:500\"><b>Coursera </b><br>EDA, Insights, Sentiment Analysis</div>"
   ]
  },
  {
   "cell_type": "markdown",
   "id": "e0418bc3",
   "metadata": {},
   "source": [
    "<div style=\"padding:20px;color:white;margin:0;font-size:220%;text-align:center;display:fill;border-radius:5px;background-color:#282f85;overflow:hidden;font-weight:500\">Introduction</div>"
   ]
  },
  {
   "cell_type": "markdown",
   "id": "3ec7938e",
   "metadata": {},
   "source": [
    "# ⌛️ 1. Introduction\n",
    "\n",
    "## 1.1. About Coursera\n",
    "Coursera Inc. is a U.S.-based massive open online course provider founded in 2012 by Stanford University computer science professors Andrew Ng and Daphne Koller. Coursera works with universities and other organizations to offer online courses, certifications, and degrees in a variety of subjects.\n",
    "\n",
    "- Stock price: COUR (NYSE) $15.51 +0.02 (+0.13%) - May 20, 10:12 AM EDT\n",
    "- Founded: 2012\n",
    "- Headquarters: California, United States\n",
    "- Users: 92 million (2021)\n",
    "- Employees: 1,138 (December 2021)\n",
    "- Available in: Multilingual (40)\n",
    "- Founders: Andrew Ng, Daphne Koller\n"
   ]
  },
  {
   "cell_type": "markdown",
   "id": "0fd6ade5",
   "metadata": {},
   "source": [
    "## 1.2. EDA\n",
    "Exploratory Data Analysis refers to the critical process of performing initial investigations on data so as to discover patterns,to spot anomalies,to test hypothesis and to check assumptions with the help of summary statistics and graphical representations."
   ]
  },
  {
   "cell_type": "markdown",
   "id": "0df0ca6c",
   "metadata": {},
   "source": [
    "<div style=\"padding:20px;color:white;margin:0;font-size:220%;text-align:center;display:fill;border-radius:5px;background-color:#282f85;overflow:hidden;font-weight:500\">Dataset Exploration</div>"
   ]
  },
  {
   "cell_type": "markdown",
   "id": "b3683f91",
   "metadata": {},
   "source": [
    "# 🧾 2. Dataset Exploration"
   ]
  },
  {
   "cell_type": "markdown",
   "id": "049f84b1",
   "metadata": {},
   "source": [
    "## Data Brief\n",
    "Course dataset scrapped from Coursera website. This dataset contains mainly 6 columns and 890 course data. The detailed description:\n",
    "\n",
    "1. course_title : Contains the course title.\n",
    "2. course_organization : It tells which organization is conducting the courses.\n",
    "3. courseCertificatetype : It has details about what are the different certifications available in courses.\n",
    "4. course_rating : It has the ratings associated with each course.\n",
    "5. course_difficulty : It tells about how difficult or what is the level of the course.\n",
    "6. coursestudentsenrolled : It has the number of students that are enrolled in the course."
   ]
  },
  {
   "cell_type": "markdown",
   "id": "f7ff6605",
   "metadata": {},
   "source": [
    "<div style=\"padding:20px;color:white;margin:0;font-size:220%;text-align:center;display:fill;border-radius:5px;background-color:#282f85;overflow:hidden;font-weight:500\">Data Loading and Basic Review</div>"
   ]
  },
  {
   "cell_type": "markdown",
   "id": "59c37e4e",
   "metadata": {},
   "source": [
    "# 📚 3. Data Loading and Basic Review"
   ]
  },
  {
   "cell_type": "markdown",
   "id": "f4445257",
   "metadata": {},
   "source": [
    "## 3.1. Required Modules"
   ]
  },
  {
   "cell_type": "code",
   "execution_count": null,
   "id": "8443eef1",
   "metadata": {},
   "outputs": [],
   "source": [
    "import pandas as pd\n",
    "import numpy as np\n",
    "import matplotlib.pyplot as plt\n",
    "import scipy.stats as sps\n",
    "import os\n",
    "import seaborn as sns\n",
    "from scipy import stats\n",
    "import warnings"
   ]
  },
  {
   "cell_type": "markdown",
   "id": "d79e0681",
   "metadata": {},
   "source": [
    "## 3.2. Configuration"
   ]
  },
  {
   "cell_type": "code",
   "execution_count": null,
   "id": "e18d70fb",
   "metadata": {},
   "outputs": [],
   "source": [
    "import os\n",
    "warnings.filterwarnings('ignore')"
   ]
  },
  {
   "cell_type": "markdown",
   "id": "366120ee",
   "metadata": {},
   "source": [
    "<div style=\"padding:20px;color:white;margin:0;font-size:220%;text-align:center;display:fill;border-radius:5px;background-color:#282f85;overflow:hidden;font-weight:500\"> Basic Exploration</div>"
   ]
  },
  {
   "cell_type": "markdown",
   "id": "45b40960",
   "metadata": {},
   "source": [
    "# 🧮 4.  Basic Exploration"
   ]
  },
  {
   "cell_type": "code",
   "execution_count": null,
   "id": "7d4e03ec",
   "metadata": {},
   "outputs": [],
   "source": [
    "df=pd.read_csv(\"/kaggle/input/coursera-course-dataset/coursea_data.csv\")"
   ]
  },
  {
   "cell_type": "code",
   "execution_count": null,
   "id": "23bc7d55",
   "metadata": {},
   "outputs": [],
   "source": [
    "df=df.drop(\"Unnamed: 0\",axis=1)"
   ]
  },
  {
   "cell_type": "markdown",
   "id": "10367abf",
   "metadata": {},
   "source": [
    "So, 1 numarical object only. But, we can turn some others to numarical too."
   ]
  },
  {
   "cell_type": "code",
   "execution_count": null,
   "id": "5134c545",
   "metadata": {},
   "outputs": [],
   "source": [
    "df.describe(include=['object']).T"
   ]
  },
  {
   "cell_type": "markdown",
   "id": "ed560b87",
   "metadata": {},
   "source": [
    "Mean course rating is 4.677329. Quite high, as the rating can be given from 0-5. Minimum is 3.3, highest is 5 - proves so."
   ]
  },
  {
   "cell_type": "markdown",
   "id": "d750c028",
   "metadata": {},
   "source": [
    "## 4.2 Initial plan for data exploration\n",
    "\n",
    "Data Exploration\n",
    "1. Ploting course_rating to get a overview of the distribution.\n",
    "2. analyzing course Certificate types values.\n",
    "\n",
    "Data Cleaning\n",
    "1. Deleting first Unnamed column\n",
    "2. Deleting course name - not necessary now; as all the values are unique"
   ]
  },
  {
   "cell_type": "markdown",
   "id": "85e1bcb2",
   "metadata": {},
   "source": [
    "<div style=\"padding:20px;color:white;margin:0;font-size:220%;text-align:center;display:fill;border-radius:5px;background-color:#282f85;overflow:hidden;font-weight:500\">Data Exploration</div>"
   ]
  },
  {
   "cell_type": "markdown",
   "id": "ac6182d9",
   "metadata": {},
   "source": [
    "# 📉 5. Data Exploration\n",
    " "
   ]
  },
  {
   "cell_type": "markdown",
   "id": "42fb9623",
   "metadata": {},
   "source": [
    "## 5.1. Basic Rating distribution :"
   ]
  },
  {
   "cell_type": "code",
   "execution_count": null,
   "id": "7e7603a5",
   "metadata": {},
   "outputs": [],
   "source": [
    "sns.set(rc={'figure.figsize':(10,10)})\n",
    "ax = sns.boxenplot( y=\"course_rating\", data=df,\n",
    "                   showfliers=False,color='orange')\n",
    "ax = sns.stripplot( y=\"course_rating\", data=df,\n",
    "                   size=4, color=\"maroon\",alpha=0.2)\n",
    "ax.axes.set_title(\"\\ncourse Rating Distribution\\n\",fontsize=30)"
   ]
  },
  {
   "cell_type": "markdown",
   "id": "3b102d21",
   "metadata": {},
   "source": [
    "### Ploting course_rating to get a overview of the distribution."
   ]
  },
  {
   "cell_type": "code",
   "execution_count": null,
   "id": "ddfb6418",
   "metadata": {},
   "outputs": [],
   "source": [
    "sns.set(rc={'figure.figsize':(10,5)})\n",
    "p=sns.distplot(df['course_rating'],color='darkcyan',fit_kws={\"color\":\"red\"},fit=stats.gamma, label=\"label 1\")\n",
    "p.axes.set_title(\"\\ncourse Rating Distribution\\n\",fontsize=30)"
   ]
  },
  {
   "cell_type": "markdown",
   "id": "d40f1237",
   "metadata": {},
   "source": [
    "#### Findings:\n",
    "Average course rating is quite higher, compared to lowest and maximum value."
   ]
  },
  {
   "cell_type": "markdown",
   "id": "df657d08",
   "metadata": {},
   "source": [
    "Rating distribution per course difficulty :"
   ]
  },
  {
   "cell_type": "markdown",
   "id": "5a570740",
   "metadata": {},
   "source": [
    "## 5.2. Frequency based on difficulty."
   ]
  },
  {
   "cell_type": "code",
   "execution_count": null,
   "id": "50a6bee3",
   "metadata": {},
   "outputs": [],
   "source": [
    "sns.set(rc={'figure.figsize':(20,10)})\n",
    "ax = sns.countplot(hue=\"course_rating\", x=\"course_difficulty\", data=df,palette=\"mako\")\n",
    "ax.axes.set_title(\"\\nFrequency Distribution based on difficulty\\n\",fontsize=20)"
   ]
  },
  {
   "cell_type": "markdown",
   "id": "09fe56de",
   "metadata": {},
   "source": [
    "#### Insight: \n",
    "Advanced courses' rating has some ups-and downs; maybe due to low frequency.<br>\n",
    "Beginner course has distribution quite similiar to total rating chart.<br>\n",
    "Intermidiate course's rating top is not as sharp of others, that may say - as the participants has some knowledge on the topic, they can judge better and being critical.\n"
   ]
  },
  {
   "cell_type": "markdown",
   "id": "9bc8c9c8",
   "metadata": {},
   "source": [
    "## 5.3. Rating distribution per course type :"
   ]
  },
  {
   "cell_type": "code",
   "execution_count": null,
   "id": "331fa194",
   "metadata": {},
   "outputs": [],
   "source": [
    "sns.set(rc={'figure.figsize':(20,10)})\n",
    "ax = sns.countplot(hue=\"course_rating\", x=\"course_Certificate_type\", data=df,palette=\"ch:s=-.2,r=.6\")\n",
    "ax.axes.set_title(\"\\nRating distribution per course type\\n\",fontsize=20)"
   ]
  },
  {
   "cell_type": "markdown",
   "id": "91e51f9b",
   "metadata": {},
   "source": [
    "#### Findings and Insight:\n",
    "1. Specializations has lower mean value than courses, but the distribution is interesting. specialization has good distribution values on right, but normal courses are on left."
   ]
  },
  {
   "cell_type": "markdown",
   "id": "4c0d2fe6",
   "metadata": {},
   "source": [
    "## 5.4. Rating distribution per course type : Combined"
   ]
  },
  {
   "cell_type": "code",
   "execution_count": null,
   "id": "0a01eb4a",
   "metadata": {},
   "outputs": [],
   "source": [
    "sns.set(rc={'figure.figsize':(10,5)})\n",
    "ax = sns.countplot(hue=\"course_difficulty\", x=\"course_Certificate_type\", data=df,palette=\"rocket_r\")\n",
    "ax.axes.set_title(\"\\nRating distribution per course type : Combined\\n\",fontsize=20)"
   ]
  },
  {
   "cell_type": "markdown",
   "id": "f3c9f00a",
   "metadata": {},
   "source": [
    "#### Findings:\n",
    "Mixed - Course has a unstable distribution, othes have normal distribution."
   ]
  },
  {
   "cell_type": "markdown",
   "id": "f869acef",
   "metadata": {},
   "source": [
    "## 5.5. Analyzing course Certificate types values."
   ]
  },
  {
   "cell_type": "code",
   "execution_count": null,
   "id": "0eecaa9e",
   "metadata": {},
   "outputs": [],
   "source": [
    "sns.set(rc={'figure.figsize':(10,5)})\n",
    "ax = sns.countplot( x=\"course_difficulty\", data=df,palette=\"crest\")\n",
    "ax.axes.set_title(\"\\nDistribution per course type \\n\",fontsize=20)"
   ]
  },
  {
   "cell_type": "code",
   "execution_count": null,
   "id": "a7004b46",
   "metadata": {},
   "outputs": [],
   "source": [
    "sns.set(rc={'figure.figsize':(10,5)})\n",
    "ax = sns.countplot( x=\"course_Certificate_type\", data=df,palette=\"ch:s=.8,r=.1\")\n",
    "ax.axes.set_title(\"\\nRating distribution per course certification type : Combined\\n\",fontsize=20)"
   ]
  },
  {
   "cell_type": "markdown",
   "id": "569bc57f",
   "metadata": {},
   "source": [
    "#### Findings:\n",
    "Course Counts:\n",
    "- *Beginner > Intermidiate > Advanced*. Not enough data for advanced courses.\n",
    "- *Courses > Specialization > Professional certificate.* Not enough data for Professional certificates."
   ]
  },
  {
   "cell_type": "markdown",
   "id": "1693e299",
   "metadata": {},
   "source": [
    "<div style=\"padding:20px;color:white;margin:0;font-size:220%;text-align:center;display:fill;border-radius:5px;background-color:#282f85;overflow:hidden;font-weight:500\">Data Wrangling</div>"
   ]
  },
  {
   "cell_type": "markdown",
   "id": "a8c6937a",
   "metadata": {},
   "source": [
    "# 📄 6. Data Wrangling"
   ]
  },
  {
   "cell_type": "markdown",
   "id": "22abf8d5",
   "metadata": {},
   "source": [
    "## Data Cleaning\n",
    "1. Deleting first Unnamed column\n",
    "2. Deleting course name - not necessary now; as all the values are unique\n",
    "3. Others will be done as necessary."
   ]
  },
  {
   "cell_type": "markdown",
   "id": "47fec473",
   "metadata": {},
   "source": [
    "<div style=\"padding:20px;color:white;margin:0;font-size:220%;text-align:center;display:fill;border-radius:5px;background-color:#282f85;overflow:hidden;font-weight:500\">Feature Engineering</div>"
   ]
  },
  {
   "cell_type": "markdown",
   "id": "a97089c8",
   "metadata": {},
   "source": [
    "# ⌛️ 7. Feature Engineering\n",
    "\n",
    "## 7.1. Modifying course_students_enrolled column"
   ]
  },
  {
   "cell_type": "code",
   "execution_count": null,
   "id": "1ce29a29",
   "metadata": {},
   "outputs": [],
   "source": [
    "df_fe1=df.copy()"
   ]
  },
  {
   "cell_type": "code",
   "execution_count": null,
   "id": "77b32e66",
   "metadata": {},
   "outputs": [],
   "source": [
    "def course_students_enrolled_modifier(x):\n",
    "    return x[:-2]"
   ]
  },
  {
   "cell_type": "code",
   "execution_count": null,
   "id": "6f906406",
   "metadata": {},
   "outputs": [],
   "source": [
    "df_fe1['course_students_enrolled_modified']=df_fe1['course_students_enrolled'].apply(course_students_enrolled_modifier)\n",
    "df_fe1['course_students_enrolled_modified']=df_fe1['course_students_enrolled_modified'].apply(pd.to_numeric)\n",
    "df_fe1 =df_fe1.drop(['course_students_enrolled'],axis=1)\n",
    "df_fe1"
   ]
  },
  {
   "cell_type": "markdown",
   "id": "2b98e5a3",
   "metadata": {},
   "source": [
    "## 7.2. Modifying course_difficulty column to numarical"
   ]
  },
  {
   "cell_type": "code",
   "execution_count": null,
   "id": "9f4a0d6b",
   "metadata": {},
   "outputs": [],
   "source": [
    "def course_difficulty_modifier(x):\n",
    "    if x==\"Beginner\":\n",
    "        return \"0\"\n",
    "    elif x==\"Intermediate\":\n",
    "        return \"1\"\n",
    "    elif x==\"Mixed\":\n",
    "        return \"0.5\"\n",
    "    elif x==\"Advanced\":\n",
    "        return \"2\"\n",
    "    else:\n",
    "        return \"0\" \n",
    "\"\"\"as most courses are beginner level, we are assuming undefined will be beginner too.\"\"\""
   ]
  },
  {
   "cell_type": "code",
   "execution_count": null,
   "id": "67ece877",
   "metadata": {},
   "outputs": [],
   "source": [
    "df_fe1['course_difficulty_modified']=df_fe1['course_difficulty'].apply(course_difficulty_modifier)\n",
    "df_fe1['course_difficulty_modified']=df_fe1['course_difficulty_modified'].apply(pd.to_numeric)\n",
    "df_fe1 =df_fe1.drop(['course_difficulty'],axis=1)\n",
    "df_fe1"
   ]
  },
  {
   "cell_type": "markdown",
   "id": "7fc775f7",
   "metadata": {},
   "source": [
    "<div style=\"padding:20px;color:white;margin:0;font-size:220%;text-align:center;display:fill;border-radius:5px;background-color:#282f85;overflow:hidden;font-weight:500\">More EDA</div>"
   ]
  },
  {
   "cell_type": "markdown",
   "id": "585ecf8f",
   "metadata": {},
   "source": [
    "# 🔍 8. More EDA"
   ]
  },
  {
   "cell_type": "markdown",
   "id": "58485cf2",
   "metadata": {},
   "source": [
    "## 8.1. Data Exploration of newly engineered columns"
   ]
  },
  {
   "cell_type": "code",
   "execution_count": null,
   "id": "9ee6fbfe",
   "metadata": {},
   "outputs": [],
   "source": [
    "df_fe1[['course_difficulty_modified','course_students_enrolled_modified']].describe()"
   ]
  },
  {
   "cell_type": "markdown",
   "id": "490f90f5",
   "metadata": {},
   "source": [
    "course_students_enrolled_modified has some empty columns, so we have to fill them. "
   ]
  },
  {
   "cell_type": "code",
   "execution_count": null,
   "id": "ba322e30",
   "metadata": {},
   "outputs": [],
   "source": [
    "sns.set(rc={'figure.figsize':(10,5)})\n",
    "p=sns.distplot(df_fe1['course_students_enrolled_modified'],color='indigo')\n",
    "p.axes.set_title(\"\\n Course_students_enrolled Distribution\\n\",fontsize=20)"
   ]
  },
  {
   "cell_type": "markdown",
   "id": "8cee76ef",
   "metadata": {},
   "source": [
    "so , most of the frequencies are in between 0-10, so, using average-1; so avoid the effect of outliers."
   ]
  },
  {
   "cell_type": "code",
   "execution_count": null,
   "id": "ccc079e0",
   "metadata": {},
   "outputs": [],
   "source": [
    "df_fe1['course_students_enrolled_modified'].fillna((df_fe1['course_students_enrolled_modified'].mean()-1), inplace=True)\n",
    "df_fe1[['course_difficulty_modified','course_students_enrolled_modified']].describe()"
   ]
  },
  {
   "cell_type": "code",
   "execution_count": null,
   "id": "d6a168fa",
   "metadata": {},
   "outputs": [],
   "source": [
    "df_numaric=df_fe1.select_dtypes(include=np.number)"
   ]
  },
  {
   "cell_type": "markdown",
   "id": "7f3110a8",
   "metadata": {},
   "source": [
    "<div style=\"padding:20px;color:white;margin:0;font-size:220%;text-align:center;display:fill;border-radius:5px;background-color:#282f85;overflow:hidden;font-weight:500\">Corelation Analysis</div>"
   ]
  },
  {
   "cell_type": "markdown",
   "id": "2d92cc1d",
   "metadata": {},
   "source": [
    "# 🛠 9. Corelation Analysis\n",
    "## 9.1. Finding relation between columns"
   ]
  },
  {
   "cell_type": "code",
   "execution_count": null,
   "id": "137273cf",
   "metadata": {},
   "outputs": [],
   "source": [
    "corrM = df_numaric.corr()\n",
    "corrM"
   ]
  },
  {
   "cell_type": "code",
   "execution_count": null,
   "id": "d45d1ebc",
   "metadata": {},
   "outputs": [],
   "source": [
    "sns.set(rc={'figure.figsize':(10,5)})\n",
    "ax = sns.scatterplot( x='course_rating', y='course_difficulty_modified', data=df_numaric,palette=\"crest\")"
   ]
  },
  {
   "cell_type": "markdown",
   "id": "1df5550b",
   "metadata": {},
   "source": [
    "#### Findings : \n",
    "No effective coorelation."
   ]
  },
  {
   "cell_type": "markdown",
   "id": "fa272aab",
   "metadata": {},
   "source": [
    "## 9.2. University wise analysis"
   ]
  },
  {
   "cell_type": "markdown",
   "id": "2757b0e0",
   "metadata": {},
   "source": [
    "course_organization with more than 10 courses - students enrolled (k)"
   ]
  },
  {
   "cell_type": "code",
   "execution_count": null,
   "id": "3cda24c9",
   "metadata": {},
   "outputs": [],
   "source": [
    "g_uni=df_fe1.groupby(\"course_organization\")[\"course_students_enrolled_modified\",'course_rating'].agg({\"course_students_enrolled_modified\":'size',\"course_students_enrolled_modified\":'mean','course_rating':'mean'}).reset_index()"
   ]
  },
  {
   "cell_type": "code",
   "execution_count": null,
   "id": "8d669ca3",
   "metadata": {},
   "outputs": [],
   "source": [
    "g_uni_2=df_fe1.groupby(\"course_organization\")[\"course_students_enrolled_modified\"].agg({'size'}).reset_index()\n",
    "g_uni['size']=g_uni_2['size']\n",
    "g_uni_final=g_uni[g_uni_2['size']> 10]\n",
    "g_uni_final.sort_values(by=[\"course_students_enrolled_modified\",\"course_rating\"],ascending=False);"
   ]
  },
  {
   "cell_type": "code",
   "execution_count": null,
   "id": "958fbf6d",
   "metadata": {},
   "outputs": [],
   "source": [
    "sns.set(rc={'figure.figsize':(20,10)})\n",
    "ax = sns.barplot(x=\"size\", y=\"course_students_enrolled_modified\", data=g_uni_final,palette=\"ch:s=.4,r=.1\")\n",
    "ax.axes.set_title(\"\\nFrequency Distribution of Students\\n\",fontsize=20);"
   ]
  },
  {
   "cell_type": "code",
   "execution_count": null,
   "id": "f659595e",
   "metadata": {},
   "outputs": [],
   "source": [
    "fig, axes = plt.subplots(nrows=1, ncols=3, figsize=(9, 3))\n",
    "axes[0].scatter(g_uni_final[\"course_rating\"], g_uni_final['size'])\n",
    "axes[1].scatter(g_uni_final[\"course_students_enrolled_modified\"], g_uni_final['size'])\n",
    "axes[2].scatter(g_uni_final[\"course_rating\"], g_uni_final[\"course_students_enrolled_modified\"])\n",
    "fig.tight_layout()\n",
    "plt.show()"
   ]
  },
  {
   "cell_type": "code",
   "execution_count": null,
   "id": "1d6f83cf",
   "metadata": {},
   "outputs": [],
   "source": [
    "corrM = g_uni_final.corr()\n",
    "sns.set(rc={'figure.figsize':(5,4)})\n",
    "p=sns.heatmap(corrM, \n",
    "        xticklabels=corrM.columns,\n",
    "        yticklabels=corrM.columns,\n",
    "        cmap=\"Wistia\")\n",
    "p=p.axes.set_title(\"\\nCorelation of Count Of Enterprize, \\n Total Investment, Export Earned\\n\",fontsize=15)"
   ]
  },
  {
   "cell_type": "markdown",
   "id": "5b56bcfa",
   "metadata": {},
   "source": [
    "#### Findings\n",
    "1. Mean number of students enrolled per university has some positive corelation to number of courses offered by the university. The more courses are offered, the more students are enroled in average."
   ]
  },
  {
   "cell_type": "markdown",
   "id": "1a38e7bb",
   "metadata": {},
   "source": [
    "<div style=\"padding:20px;color:white;margin:0;font-size:220%;text-align:center;display:fill;border-radius:5px;background-color:#282f85;overflow:hidden;font-weight:500\">Top Rated Course Provider</div>"
   ]
  },
  {
   "cell_type": "markdown",
   "id": "ce25ef3c",
   "metadata": {},
   "source": [
    "# 📕 10. Top Rated Course Provider"
   ]
  },
  {
   "cell_type": "code",
   "execution_count": null,
   "id": "a929a08e",
   "metadata": {},
   "outputs": [],
   "source": [
    "df['course_title']=df['course_title']"
   ]
  },
  {
   "cell_type": "code",
   "execution_count": null,
   "id": "6edac282",
   "metadata": {},
   "outputs": [],
   "source": [
    "g_uni['overall_rating']=(g_uni['course_students_enrolled_modified']/g_uni['course_students_enrolled_modified'].max())*3+(g_uni['course_rating']/g_uni['course_rating'].max())*7\n",
    "g_uni=g_uni.sort_values(by='overall_rating',ascending=False)"
   ]
  },
  {
   "cell_type": "code",
   "execution_count": null,
   "id": "aa45e764",
   "metadata": {},
   "outputs": [],
   "source": [
    "g_uni.overall_rating.describe().T"
   ]
  },
  {
   "cell_type": "code",
   "execution_count": null,
   "id": "e1529d90",
   "metadata": {},
   "outputs": [],
   "source": [
    "g_unix=g_uni[g_uni['overall_rating']>=8.5]\n",
    "g_unix"
   ]
  },
  {
   "cell_type": "code",
   "execution_count": null,
   "id": "eac8a20b",
   "metadata": {},
   "outputs": [],
   "source": [
    "sns.set(rc={'figure.figsize':(25,5)})\n",
    "plt.xticks(fontsize=20,rotation='vertical')\n",
    "p=sns.barplot(x='course_organization',y=\"course_rating\",data=g_unix,hue_order=g_uni['overall_rating'])\n",
    "p.axes.set_title(\"\\nBest course providers\\n\\n\",fontsize=30)"
   ]
  },
  {
   "cell_type": "markdown",
   "id": "96e2e3eb",
   "metadata": {},
   "source": [
    "<div style=\"padding:20px;color:white;margin:0;font-size:220%;text-align:center;display:fill;border-radius:5px;background-color:#282f85;overflow:hidden;font-weight:500\">Reviews Sentiment Analysis</div>"
   ]
  },
  {
   "cell_type": "markdown",
   "id": "c51786b2",
   "metadata": {},
   "source": [
    "# 📑 11. Reviews Sentiment Analysis"
   ]
  },
  {
   "cell_type": "markdown",
   "id": "dfac7f02",
   "metadata": {},
   "source": [
    "## 11.1. Importing reviews"
   ]
  },
  {
   "cell_type": "code",
   "execution_count": null,
   "id": "599a4874",
   "metadata": {},
   "outputs": [],
   "source": [
    "r=pd.read_csv('/kaggle/input/course-reviews-on-coursera/Coursera_reviews.csv')\n",
    "r.head()"
   ]
  },
  {
   "cell_type": "markdown",
   "id": "0392473c",
   "metadata": {},
   "source": [
    "## 11.2. Importing Necessary Modules"
   ]
  },
  {
   "cell_type": "code",
   "execution_count": null,
   "id": "dc37d29b",
   "metadata": {},
   "outputs": [],
   "source": [
    "!pip install vaderSentiment"
   ]
  },
  {
   "cell_type": "code",
   "execution_count": null,
   "id": "eecac483",
   "metadata": {},
   "outputs": [],
   "source": [
    "from wordcloud import WordCloud, STOPWORDS, ImageColorGenerator\n",
    "from PIL import Image\n",
    "import nltk  \n",
    "nltk.download('stopwords') \n",
    "from nltk.corpus import stopwords \n",
    "from nltk.stem.porter import PorterStemmer \n",
    "from collections import Counter\n",
    "import cufflinks as cf\n",
    "from vaderSentiment.vaderSentiment import SentimentIntensityAnalyzer\n",
    "analyser = SentimentIntensityAnalyzer()"
   ]
  },
  {
   "cell_type": "markdown",
   "id": "6325847d",
   "metadata": {},
   "source": [
    "## 11.3. Generating Wordcloud"
   ]
  },
  {
   "cell_type": "code",
   "execution_count": null,
   "id": "f53b1942",
   "metadata": {},
   "outputs": [],
   "source": [
    "wordcloud = WordCloud(max_font_size=50, max_words=100, background_color=\"white\").generate(r.reviews[10])\n",
    "plt.imshow(wordcloud, interpolation='bilinear')\n",
    "plt.axis(\"off\")\n",
    "plt.show()"
   ]
  },
  {
   "cell_type": "code",
   "execution_count": null,
   "id": "4a89aff8",
   "metadata": {},
   "outputs": [],
   "source": [
    "wordcloud = WordCloud(max_font_size=50, max_words=100, background_color=\"white\").generate(' '.join(r.sample(10).reviews))\n",
    "plt.imshow(wordcloud, interpolation='bilinear')\n",
    "plt.axis(\"off\")\n",
    "plt.show()"
   ]
  },
  {
   "cell_type": "code",
   "execution_count": null,
   "id": "8fb903e4",
   "metadata": {},
   "outputs": [],
   "source": [
    "wordcloud = WordCloud(max_font_size=50, max_words=100, background_color=\"white\").generate(' '.join(r.sample(100).reviews))\n",
    "plt.imshow(wordcloud, interpolation='bilinear')\n",
    "plt.axis(\"off\")\n",
    "plt.show()"
   ]
  },
  {
   "cell_type": "markdown",
   "id": "9d1766de",
   "metadata": {},
   "source": [
    "## 11.4. Generating Review Sentiments using Vader Sentiment"
   ]
  },
  {
   "cell_type": "code",
   "execution_count": null,
   "id": "efe51dfb",
   "metadata": {},
   "outputs": [],
   "source": [
    "def sentiment_analyzer_scores(sentence):\n",
    "    score = analyser.polarity_scores(sentence)\n",
    "    return score"
   ]
  },
  {
   "cell_type": "code",
   "execution_count": null,
   "id": "ddc2fcf8",
   "metadata": {},
   "outputs": [],
   "source": [
    "neg=[]\n",
    "neu=[]\n",
    "pos=[]\n",
    "comp=[]\n",
    "for review in r.reviews:\n",
    "    scores=sentiment_analyzer_scores(str(review))\n",
    "    neg.append(scores['neg'])\n",
    "    pos.append(scores['pos'])\n",
    "    neu.append(scores['neu'])\n",
    "    comp.append(scores['compound'])"
   ]
  },
  {
   "cell_type": "markdown",
   "id": "22850c07",
   "metadata": {},
   "source": [
    "<div style=\"padding:20px;color:white;margin:0;font-size:220%;text-align:center;display:fill;border-radius:5px;background-color:#282f85;overflow:hidden;font-weight:500\">Reviews Analysis</div>"
   ]
  },
  {
   "cell_type": "markdown",
   "id": "26e87f4d",
   "metadata": {},
   "source": [
    "# 📒 12. Reviews Analysis"
   ]
  },
  {
   "cell_type": "code",
   "execution_count": null,
   "id": "f3c31986",
   "metadata": {},
   "outputs": [],
   "source": [
    "r['s_pos']=pos\n",
    "r['s_neu']=neu\n",
    "r['s_neg']=neg\n",
    "r['s_comp']=comp"
   ]
  },
  {
   "cell_type": "code",
   "execution_count": null,
   "id": "15d21f08",
   "metadata": {},
   "outputs": [],
   "source": [
    "r.head()"
   ]
  },
  {
   "cell_type": "code",
   "execution_count": null,
   "id": "6ab876fc",
   "metadata": {},
   "outputs": [],
   "source": [
    "for i in range(6,11):\n",
    "    print (\"----------------------------------------\")\n",
    "    print(\"Review : \",r['reviews'][i])\n",
    "    print(\"Positivity:\",r['s_pos'][i])\n",
    "    print(\"Negativity:\",r['s_neg'][i])\n",
    "    print (\"----------------------------------------\")"
   ]
  },
  {
   "cell_type": "markdown",
   "id": "b8716123",
   "metadata": {},
   "source": [
    "## 12.1. Sentiment Distribution"
   ]
  },
  {
   "cell_type": "code",
   "execution_count": null,
   "id": "62b555e5",
   "metadata": {},
   "outputs": [],
   "source": [
    "sns.set(rc={'figure.figsize':(20,5)})\n",
    "plt.xticks(fontsize=12)\n",
    "p=sns.distplot(r['s_pos'],color='green')\n",
    "p.axes.set_title(\"Positive Reviews\",fontsize=20)"
   ]
  },
  {
   "cell_type": "code",
   "execution_count": null,
   "id": "f0e24516",
   "metadata": {},
   "outputs": [],
   "source": [
    "sns.set(rc={'figure.figsize':(20,5)})\n",
    "plt.xticks(fontsize=12)\n",
    "p=sns.distplot(r['s_neg'],color='red')\n",
    "p.axes.set_title(\"Negative Reviews\",fontsize=20)"
   ]
  },
  {
   "cell_type": "code",
   "execution_count": null,
   "id": "71ac4c28",
   "metadata": {},
   "outputs": [],
   "source": [
    "sns.set(rc={'figure.figsize':(20,5)})\n",
    "plt.xticks(fontsize=12)\n",
    "p=sns.distplot(r['s_neu'],color='blue')\n",
    "p.axes.set_title(\"Neutral Reviews\",fontsize=20)"
   ]
  },
  {
   "cell_type": "code",
   "execution_count": null,
   "id": "e0aa98af",
   "metadata": {},
   "outputs": [],
   "source": [
    "sns.set(rc={'figure.figsize':(20,5)})\n",
    "plt.xticks(fontsize=12)\n",
    "p=sns.distplot(r['s_comp'],color='orange')\n",
    "p.axes.set_title(\"Neutral Reviews\",fontsize=20)"
   ]
  },
  {
   "cell_type": "markdown",
   "id": "ff70e623",
   "metadata": {},
   "source": [
    "## 12.2 Course wise analysis (Giv3en Rating and Sentiment)"
   ]
  },
  {
   "cell_type": "code",
   "execution_count": null,
   "id": "3a441f4c",
   "metadata": {},
   "outputs": [],
   "source": [
    "course_wise = r.groupby('course_id')['s_comp','rating'].mean()"
   ]
  },
  {
   "cell_type": "code",
   "execution_count": null,
   "id": "c78c3b5b",
   "metadata": {},
   "outputs": [],
   "source": [
    "course_wise['s_comp']=((course_wise['s_comp']*10)+10)/4\n",
    "course_wise"
   ]
  },
  {
   "cell_type": "code",
   "execution_count": null,
   "id": "f7bc57f9",
   "metadata": {},
   "outputs": [],
   "source": [
    "sns.set(rc={'figure.figsize':(20,5)})\n",
    "plt.xticks(fontsize=12)\n",
    "p=sns.distplot(course_wise['s_comp'],color='orange')\n",
    "p=sns.distplot(course_wise['rating'],color='red')\n",
    "p.axes.set_title(\"Course wise Actual and Sentiment Scores\",fontsize=20)"
   ]
  },
  {
   "cell_type": "markdown",
   "id": "e516893f",
   "metadata": {},
   "source": [
    "### Observations\n",
    "- Overall given rating is higher than sentiment scores."
   ]
  },
  {
   "cell_type": "markdown",
   "id": "c859a072",
   "metadata": {},
   "source": [
    "## 12.3. Co-relation"
   ]
  },
  {
   "cell_type": "code",
   "execution_count": null,
   "id": "70781e28",
   "metadata": {},
   "outputs": [],
   "source": [
    "sns.set(rc={'figure.figsize':(15,8)})\n",
    "plt.xticks(fontsize=12)\n",
    "p=sns.scatterplot(data=course_wise,x='s_comp',y='rating',palette='copper',hue='s_comp',alpha=0.6)\n",
    "p.axes.set_title(\"Given rating and sentiment rating co-relation\",fontsize=20)"
   ]
  },
  {
   "cell_type": "markdown",
   "id": "dab3c01c",
   "metadata": {},
   "source": [
    "### Observations\n",
    "- No visible c-relation; but 3 clusters!!! Interesting.\n",
    "- The dark cluster contaiins tthe difference between gven rating and review sentiment rating."
   ]
  },
  {
   "cell_type": "markdown",
   "id": "924b6c2b",
   "metadata": {},
   "source": [
    "<div style=\"padding:20px;color:white;margin:0;font-size:220%;text-align:center;display:fill;border-radius:5px;background-color:#282f85;overflow:hidden;font-weight:500\">Key Findings and Insights</div>"
   ]
  },
  {
   "cell_type": "markdown",
   "id": "44e18b63",
   "metadata": {},
   "source": [
    "# 📒 13. Key Findings and Insights\n",
    "\n",
    "1. Average course rating is quite higher, compared to lowest and maximum value. So, the cours quality is being maintained.\n",
    "2. Advanced courses' rating has some ups-and downs; maybe due to low frequency.\n",
    "3. Beginner course has distribution quite similiar to total rating chart, as big portion of the data is from them, and he number of beginner level courses are high.\n",
    "4. Intermidiate course's rating top is not as sharp of others, that may say - as the participants has some knowledge on the topic, they can judge better and being critical.\n",
    "5. Specializations has lower mean value than courses, but the distribution is interesting. specialization has good distribution values on right, but normal courses are on left.\n",
    "6. No effective coorelation between course_difficulty,course_students_enrolled, course rating.\n",
    "7. No effective coorelation between course_students_enrolled, course rating per university.\n",
    "8. Mean number of students enrolled per university has some positive corelation to number of courses offered by the university. The more courses are offered, the more students are enroled in average."
   ]
  },
  {
   "cell_type": "markdown",
   "id": "8908ab06",
   "metadata": {},
   "source": [
    "<div style=\"padding:150px;color:white;margin:150;font-size:400%;text-align:center;display:fill;border-radius:5px;background-color:#282c5c;overflow:hidden;font-weight:800\">Upvote, Comment, Share</div>"
   ]
  }
 ],
 "metadata": {},
 "nbformat": 4,
 "nbformat_minor": 5
}
