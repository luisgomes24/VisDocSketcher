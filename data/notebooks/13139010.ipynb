{
 "cells": [
  {
   "cell_type": "markdown",
   "id": "b5759bd4",
   "metadata": {},
   "source": [
    "This tutorial refers to using the `fmi` library which can be found [here](https://github.com/asvcode/fmi) and the [fastai](https://github.com/fastai) medical imaging module"
   ]
  },
  {
   "cell_type": "markdown",
   "id": "714c4c8a",
   "metadata": {},
   "source": [
    "## Goal"
   ]
  },
  {
   "cell_type": "markdown",
   "id": "4a6f6927",
   "metadata": {},
   "source": [
    "This dataset contains over 33000 images. The goal of this tutorial is to use both the `fastai` medical imaging library and the `fmi` library in order to create a quick baseline\n",
    "\n",
    "- Create a dicom metadata dataframe from the images (using `from_dicoms2`)\n",
    "\n",
    "- Within each folder(which represents each patient) we will choose 5 images that represent the best representation of the patient based on what window level and width\n",
    "\n",
    "- Transfer the choosen images per patient into a seperate folder (using `move_files`)\n",
    "\n",
    "- Create masks that reduce the overall size of the images to areas that are important (based on the window level and width) and save them in `.png` format"
   ]
  },
  {
   "cell_type": "markdown",
   "id": "3d63fb36",
   "metadata": {},
   "source": [
    "From this\n",
    "\n",
    "![org.PNG](attachment:org.PNG)"
   ]
  },
  {
   "cell_type": "markdown",
   "id": "f14ffbc0",
   "metadata": {},
   "source": [
    "to this\n",
    "\n",
    "![saved.PNG](attachment:saved.PNG)[](http://)"
   ]
  },
  {
   "cell_type": "markdown",
   "id": "649eecc4",
   "metadata": {},
   "source": [
    "## Dependancies"
   ]
  },
  {
   "cell_type": "markdown",
   "id": "2c228c54",
   "metadata": {},
   "source": [
    "Install the `gdcm` library - use the `pe-models database` to access gdcm.tar file"
   ]
  },
  {
   "cell_type": "code",
   "execution_count": null,
   "id": "951af013",
   "metadata": {},
   "outputs": [],
   "source": [
    "!cp ../input/pe-models/gdcm.tar .\n",
    "!tar -xvzf gdcm.tar\n",
    "!conda install --offline ./gdcm/gdcm-2.8.9-py37h71b2a6d_0.tar.bz2\n",
    "print(\"done\")"
   ]
  },
  {
   "cell_type": "markdown",
   "id": "cd75bb76",
   "metadata": {},
   "source": [
    "import libraries"
   ]
  },
  {
   "cell_type": "code",
   "execution_count": null,
   "id": "c5866e3c",
   "metadata": {},
   "outputs": [],
   "source": [
    "from fastai.torch_core import set_seed\n",
    "from fastai.vision.all import *\n",
    "from fastai.medical.imaging import *\n",
    "from torchvision.utils import save_image\n",
    "\n",
    "import gdcm\n",
    "matplotlib.rcParams['image.cmap'] = 'bone'\n",
    "\n",
    "import matplotlib as plt\n",
    "plt.rcParams.update({'figure.max_open_warning': 0})"
   ]
  },
  {
   "cell_type": "markdown",
   "id": "dfa08302",
   "metadata": {},
   "source": [
    "Currently the `fmi` package is still under construction and not pip installable. Instead install via the `fmipackage` dataset"
   ]
  },
  {
   "cell_type": "code",
   "execution_count": null,
   "id": "5e3ec950",
   "metadata": {},
   "outputs": [],
   "source": [
    "!cp -r ../input/fmipackage/fmi-master/* ./"
   ]
  },
  {
   "cell_type": "code",
   "execution_count": null,
   "id": "c046641c",
   "metadata": {},
   "outputs": [],
   "source": [
    "from fmi.explore import *\n",
    "from fmi.preprocessing import *\n",
    "from fmi.pipeline import *"
   ]
  },
  {
   "cell_type": "code",
   "execution_count": null,
   "id": "c77919c0",
   "metadata": {},
   "outputs": [],
   "source": [
    "source = '../input/osic-pulmonary-fibrosis-progression'\n",
    "os_items = get_dicom_files(source, folders='train')\n",
    "os.listdir(source)"
   ]
  },
  {
   "cell_type": "markdown",
   "id": "32d5a5b0",
   "metadata": {},
   "source": [
    "## Create the dicom dataframe"
   ]
  },
  {
   "cell_type": "markdown",
   "id": "5cb80c71",
   "metadata": {},
   "source": [
    "Uncomment the lines below to create the `dicom_database` using the updated `from_dicom2` function.  The updated function allows you to specify the window width and centre."
   ]
  },
  {
   "cell_type": "markdown",
   "id": "7f16ba5a",
   "metadata": {},
   "source": [
    "> Note: The next couple of cells produce the .csv file and the updated images but for convenince this can be accessed via the `pct_5` dataset"
   ]
  },
  {
   "cell_type": "code",
   "execution_count": null,
   "id": "69165453",
   "metadata": {},
   "outputs": [],
   "source": [
    "#Uncomment to get the dicom metadata as a dataframe\n",
    "#dicom_dataframe = pd.DataFrame.from_dicoms2(os_items, windows=dicom_windows.lungs)"
   ]
  },
  {
   "cell_type": "code",
   "execution_count": null,
   "id": "329a911a",
   "metadata": {},
   "outputs": [],
   "source": [
    "#Uncomment to save the generated dataframe as a .csv file\n",
    "#dicom_dataframe.to_csv('dicom_dataframe.csv', index=False)"
   ]
  },
  {
   "cell_type": "markdown",
   "id": "f6fdb2bd",
   "metadata": {},
   "source": [
    "Load the `.csv` file"
   ]
  },
  {
   "cell_type": "code",
   "execution_count": null,
   "id": "aadc7c7f",
   "metadata": {},
   "outputs": [],
   "source": [
    "dicom_dataframe = pd.read_csv('../input/pct-5/dicom_dataframe.csv', low_memory=False)"
   ]
  },
  {
   "cell_type": "markdown",
   "id": "2cc2b427",
   "metadata": {},
   "source": [
    "Sort the dataframe by `img_pct_window` and group by `PatientID`"
   ]
  },
  {
   "cell_type": "code",
   "execution_count": null,
   "id": "1913c86e",
   "metadata": {},
   "outputs": [],
   "source": [
    "sort_w5 = dicom_dataframe.sort_values(['img_pct_window'],ascending=False).groupby('PatientID').head(5)\n",
    "sort_w5"
   ]
  },
  {
   "cell_type": "markdown",
   "id": "acd2e111",
   "metadata": {},
   "source": [
    "In this dataset each patient is distinguised by a unique `PatientID`.  Lets check to see how many unique patients there are in this dataset"
   ]
  },
  {
   "cell_type": "code",
   "execution_count": null,
   "id": "a79ea237",
   "metadata": {},
   "outputs": [],
   "source": [
    "unique_pats = sort_w5['PatientID'].unique().tolist()\n",
    "len(unique_pats)"
   ]
  },
  {
   "cell_type": "markdown",
   "id": "32f932a2",
   "metadata": {},
   "source": [
    "## Move Files"
   ]
  },
  {
   "cell_type": "markdown",
   "id": "78e0139b",
   "metadata": {},
   "source": [
    "This dataset contains over 33000 images so in order to create a quick smaller dataset for testing we will use `move_files`.  For each unique patient we sort the best values based no `img_pct_window` and move the 5 best images to another folder"
   ]
  },
  {
   "cell_type": "code",
   "execution_count": null,
   "id": "b26a43c1",
   "metadata": {},
   "outputs": [],
   "source": [
    "for i in unique_pats:\n",
    "    k = sort_w5[sort_w5['PatientID']==i].sort_values(by=['img_pct_window'], ascending=False)\n",
    "    #k_one = k[:5\n",
    "    move_files(k, source=source, save_path='./test_5/')"
   ]
  },
  {
   "cell_type": "markdown",
   "id": "3a3e4963",
   "metadata": {},
   "source": [
    "Grab the saved files - we now only have 880 (5 for each patient)"
   ]
  },
  {
   "cell_type": "code",
   "execution_count": null,
   "id": "dba2187b",
   "metadata": {},
   "outputs": [],
   "source": [
    "test_source = Path('./test_5/')\n",
    "test_5 = get_dicom_files(test_source)\n",
    "test_5"
   ]
  },
  {
   "cell_type": "markdown",
   "id": "9baf2a50",
   "metadata": {},
   "source": [
    "`mask_and_save_path` works out of the box but we just have to make a slight adjustment to how the file_name is generated whilst saving"
   ]
  },
  {
   "cell_type": "code",
   "execution_count": null,
   "id": "677f0de7",
   "metadata": {},
   "outputs": [],
   "source": [
    "def mask_and_save_path(file: (L), source=None, show=False, window=dicom_windows.lungs, sigma:float=0.1,\\\n",
    "                  thresh:float=0.9, save=False, save_path=None):\n",
    "    \"Helper to create masks based on dicom window with the option to save the updated image from path\"\n",
    "    image_list = []\n",
    "    for i in file:\n",
    "        ##This line will have to be changed depending on what platform is being used\n",
    "        #str_file = str(i); file_name = str_file.split('.')[0].split('\\\\')[-1] #windows\n",
    "        str_file = str(i); file_name = str_file.split('/')[-1].split('.')[0] #kaggle\n",
    "        dcm = dcmread(i)\n",
    "        wind = dcm.windowed(*window)\n",
    "        mask = dcm.mask_from_blur(window, sigma=sigma, thresh=thresh, remove_max=False)\n",
    "        bbs = mask2bbox(mask)\n",
    "        lo,hi = bbs\n",
    "        imh = wind[lo[0]:hi[0],lo[1]:hi[1]]\n",
    "        if save is not False:\n",
    "            if not os.path.exists(save_path):\n",
    "                os.makedirs(save_path)   \n",
    "            save_image(imh, f'{save_path}/{file_name}.png')\n",
    "        else:\n",
    "            pass\n",
    "        image_list.append(imh)\n",
    "    if show is not False:\n",
    "        show_images(image_list[:10], nrows=1)\n",
    "    else:\n",
    "        pass"
   ]
  },
  {
   "cell_type": "markdown",
   "id": "6fff26de",
   "metadata": {},
   "source": [
    "Specify a save path for the saved files and use `mask_and_save_path` to save the images"
   ]
  },
  {
   "cell_type": "code",
   "execution_count": null,
   "id": "38a78cb4",
   "metadata": {},
   "outputs": [],
   "source": [
    "save_path = './mask'"
   ]
  },
  {
   "cell_type": "code",
   "execution_count": null,
   "id": "174a6400",
   "metadata": {},
   "outputs": [],
   "source": [
    "for folder in os.listdir('./test_5'):\n",
    "    files = get_dicom_files(f'./test_5/{folder}')\n",
    "    mask_and_save_path(files, window=dicom_windows.lungs, sigma=0.1, show=True, save=True, save_path=f'{save_path}/{folder}/')\n",
    "    "
   ]
  },
  {
   "cell_type": "markdown",
   "id": "1223a693",
   "metadata": {},
   "source": [
    "Load the saved images"
   ]
  },
  {
   "cell_type": "code",
   "execution_count": null,
   "id": "ee221807",
   "metadata": {},
   "outputs": [],
   "source": [
    "mask_files = './mask'\n",
    "mask_items = get_image_files(mask_files)\n",
    "mask_items"
   ]
  },
  {
   "cell_type": "markdown",
   "id": "bbda2df5",
   "metadata": {},
   "source": [
    "and check to see what one looks like"
   ]
  },
  {
   "cell_type": "code",
   "execution_count": null,
   "id": "794e1be1",
   "metadata": {},
   "outputs": [],
   "source": [
    "PILImage.create(mask_items[0])"
   ]
  },
  {
   "cell_type": "markdown",
   "id": "4a683c74",
   "metadata": {},
   "source": [
    "## See the difference"
   ]
  },
  {
   "cell_type": "markdown",
   "id": "0322c512",
   "metadata": {},
   "source": [
    "Lets check out the difference between the original image and the saved images"
   ]
  },
  {
   "cell_type": "markdown",
   "id": "938c17b9",
   "metadata": {},
   "source": [
    "### Original Images"
   ]
  },
  {
   "cell_type": "code",
   "execution_count": null,
   "id": "16d3f0d6",
   "metadata": {},
   "outputs": [],
   "source": [
    "original_id = get_dicom_files('./test_5/ID00285637202278913507108')\n",
    "original_id"
   ]
  },
  {
   "cell_type": "code",
   "execution_count": null,
   "id": "eb0ade53",
   "metadata": {},
   "outputs": [],
   "source": [
    "img_list=[]\n",
    "for image in original_id:\n",
    "    im = PILDicom.create(image); img_list.append(im)\n",
    "show_images(img_list)"
   ]
  },
  {
   "cell_type": "markdown",
   "id": "73b089f8",
   "metadata": {},
   "source": [
    "### Saved Images"
   ]
  },
  {
   "cell_type": "code",
   "execution_count": null,
   "id": "c8727109",
   "metadata": {},
   "outputs": [],
   "source": [
    "saved_id = get_image_files('./mask/ID00285637202278913507108')\n",
    "saved_id"
   ]
  },
  {
   "cell_type": "code",
   "execution_count": null,
   "id": "1dbf7305",
   "metadata": {},
   "outputs": [],
   "source": [
    "img_list=[]\n",
    "for image in saved_id:\n",
    "    im = PILImage.create(image); img_list.append(im)\n",
    "show_images(img_list)"
   ]
  },
  {
   "cell_type": "markdown",
   "id": "d9c17824",
   "metadata": {},
   "source": [
    "You can see that the mask function is efficient in getting rid of areas of the image that are not important for the training process"
   ]
  },
  {
   "cell_type": "markdown",
   "id": "7c1298e9",
   "metadata": {},
   "source": [
    "For more about the `fmi` library: [view on Github](https://github.com/asvcode/fmi)"
   ]
  }
 ],
 "metadata": {},
 "nbformat": 4,
 "nbformat_minor": 5
}
