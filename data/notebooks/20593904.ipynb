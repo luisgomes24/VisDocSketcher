{
 "cells": [
  {
   "cell_type": "code",
   "execution_count": null,
   "id": "abb56500",
   "metadata": {},
   "outputs": [],
   "source": [
    "import pandas as pd\n",
    "import numpy as np\n",
    "import random\n",
    "import time\n",
    "import os\n",
    "\n",
    "import matplotlib.pyplot as plt\n",
    "import matplotlib.cm as cm\n",
    "import seaborn as sns\n",
    "\n",
    "import gc\n",
    "\n",
    "from tqdm import tqdm\n",
    "\n",
    "from catboost import CatBoostRegressor, CatBoostClassifier\n",
    "from xgboost import XGBRegressor, XGBClassifier\n",
    "from lightgbm import LGBMClassifier, LGBMRegressor\n",
    "\n",
    "from sklearn.pipeline import Pipeline\n",
    "from sklearn.preprocessing import RobustScaler, StandardScaler, MinMaxScaler, QuantileTransformer\n",
    "from sklearn.metrics import mean_squared_error, roc_auc_score\n",
    "from sklearn.model_selection import StratifiedKFold, KFold\n",
    "from sklearn.ensemble import StackingRegressor, StackingClassifier\n",
    "\n",
    "import optuna\n",
    "from optuna.samplers import TPESampler"
   ]
  },
  {
   "cell_type": "code",
   "execution_count": null,
   "id": "4931d593",
   "metadata": {},
   "outputs": [],
   "source": [
    "SEED = 2021\n",
    "TARGET = \"claim\"\n",
    "N_SPLITS = 4\n",
    "N_ESTIMATORS=10000\n",
    "LOSS = 'CrossEntropy'\n",
    "EVAL_METRIC = \"AUC\"\n",
    "\n",
    "def seed_everything(seed=2021):\n",
    "    random.seed(seed)\n",
    "    os.environ['PYTHONHASHSEED'] = str(seed)\n",
    "    np.random.seed(seed)\n",
    "\n",
    "seed_everything(SEED)"
   ]
  },
  {
   "cell_type": "code",
   "execution_count": null,
   "id": "129d9d7e",
   "metadata": {},
   "outputs": [],
   "source": [
    "df_train = pd.read_csv(r\"../input/tabular-playground-series-sep-2021/train.csv\", index_col=0)\n",
    "df_test = pd.read_csv(r\"../input/tabular-playground-series-sep-2021/test.csv\", index_col=0)\n",
    "\n",
    "features= df_train.columns[:-1]"
   ]
  },
  {
   "cell_type": "code",
   "execution_count": null,
   "id": "6391ee31",
   "metadata": {},
   "outputs": [],
   "source": [
    "X = df_train.iloc[:, :-1]\n",
    "y = df_train.iloc[:, -1]\n",
    "X_test = df_test"
   ]
  },
  {
   "cell_type": "code",
   "execution_count": null,
   "id": "e85120c6",
   "metadata": {},
   "outputs": [],
   "source": [
    "# Basic preprocessing\n",
    "X[\"mean\"] =  X.mean(axis=1)\n",
    "X[\"std\"] =  X.std(axis=1)\n",
    "X[\"min\"] =  X.min(axis=1)\n",
    "X[\"max\"] =  X.max(axis=1)\n",
    "X[\"n_na\"] = X.isna().sum(axis=1)\n",
    "\n",
    "X_test[\"mean\"] =  X_test.mean(axis=1)\n",
    "X_test[\"std\"] =  X_test.std(axis=1)\n",
    "X_test[\"min\"] =  X_test.min(axis=1)\n",
    "X_test[\"max\"] =  X_test.max(axis=1)\n",
    "X_test[\"n_na\"] = X_test.isna().sum(axis=1)"
   ]
  },
  {
   "cell_type": "code",
   "execution_count": null,
   "id": "5a603f3e",
   "metadata": {},
   "outputs": [],
   "source": [
    "categorical_features = ['f40', 'f47', 'f65', 'f70']\n",
    "for cf in categorical_features:\n",
    "    X[cf+'_cat'] = (X[cf]>X[cf].median()).astype(\"int\")\n",
    "    X_test[cf+'_cat'] = (X_test[cf]>X[cf].median()).astype(\"int\")"
   ]
  },
  {
   "cell_type": "code",
   "execution_count": null,
   "id": "3377b8e1",
   "metadata": {},
   "outputs": [],
   "source": [
    "name = 'f40'\n",
    "cat_name = \"f40_cat\"\n",
    "X.loc[X[cat_name]==0,name]"
   ]
  },
  {
   "cell_type": "code",
   "execution_count": null,
   "id": "2ac75842",
   "metadata": {},
   "outputs": [],
   "source": [
    "%%time\n",
    "for cf in categorical_features:\n",
    "    cat_name = cf+'_cat' \n",
    "    gb_mean = X.groupby(cat_name).mean()\n",
    "    \n",
    "    temp = np.zeros((len(X), len(features)))\n",
    "    \n",
    "    for i, f in enumerate(tqdm(features)):\n",
    "        name = f+'_' + cf + 'mean'\n",
    "        temp[X[cat_name]==0,i] = gb_mean.loc[0, f]\n",
    "        temp[X[cat_name]==1,i] = gb_mean.loc[1, f]\n",
    "        \n",
    "    \n",
    "    df_temp = pd.DataFrame(temp, index=X.index, columns  = [f+'_f40mean' for f in features])\n",
    "    break\n",
    "\n",
    "X = pd.concat([X,df_temp], axis=1)"
   ]
  },
  {
   "cell_type": "code",
   "execution_count": null,
   "id": "816db9c3",
   "metadata": {},
   "outputs": [],
   "source": [
    "def run_kfold(model, test_data=None):\n",
    "    kf = KFold(n_splits=N_SPLITS, random_state=SEED, shuffle=True)\n",
    "    \n",
    "    scores = []\n",
    "    y_pred = dict()\n",
    "    n_trees = []\n",
    "    \n",
    "    for i_fold,(train_idx, test_idx) in enumerate(kf.split(X)):\n",
    "        print(25*\"=\" + f\" Fold {i_fold} \" + 25*\"=\")\n",
    "        X_train = X.iloc[train_idx,:]\n",
    "        y_train = y[train_idx]\n",
    "        \n",
    "        X_val = X.iloc[test_idx,:]\n",
    "        y_val = y[test_idx]\n",
    "        model.fit(X_train, y_train, eval_set=[(X_val, y_val)], verbose=1000, early_stopping_rounds = int(30/model.get_param(\"learning_rate\")))\n",
    "\n",
    "        y_oof = model.predict_proba(X_val)\n",
    "        \n",
    "        fold_score = roc_auc_score(y_val, y_oof[:,1])\n",
    "        scores.append(fold_score)\n",
    "        n_trees.append(model.get_best_iteration())\n",
    "        print(f\"*** Fold {i_fold} score :\", fold_score, \" ***\")\n",
    "        \n",
    "        if test_data is not None :\n",
    "            y_pred[i_fold] = model.predict_proba(test_data)[:,1]\n",
    "        \n",
    "    scores = np.array(scores)\n",
    "    n_trees = int(np.median(n_trees))\n",
    "    \n",
    "    print('N trees : ', n_trees)\n",
    "    print('CV auc scores: ',scores.mean(), \" +/- \",  scores.std())\n",
    "    return scores, y_pred"
   ]
  },
  {
   "cell_type": "code",
   "execution_count": null,
   "id": "1af300ea",
   "metadata": {},
   "outputs": [],
   "source": [
    "cat_param = {'learning_rate': 0.06,\n",
    " 'iterations': 10000,\n",
    " 'depth': 3,\n",
    " 'l2_leaf_reg': 12.09463399692516,\n",
    " 'random_strength': 3.5400249636744014}\n",
    "\n",
    "model = CatBoostClassifier(\n",
    "    grow_policy='Depthwise',\n",
    "    leaf_estimation_method='Newton', \n",
    "    bootstrap_type='Bernoulli',\n",
    "    loss_function= LOSS,\n",
    "    eval_metric= EVAL_METRIC,\n",
    "    task_type='GPU',\n",
    "    silent=True,\n",
    "    random_seed = SEED,\n",
    "    **cat_param\n",
    ")\n",
    "\n",
    "scores, y_pred = run_kfold(model, X_test)\n",
    "## save submission\n",
    "pd.DataFrame(np.vstack(list(y_pred.values())).mean(axis=0), index=X_test.index, columns= [TARGET]).to_csv(\"cat_submission.csv\")"
   ]
  },
  {
   "cell_type": "code",
   "execution_count": null,
   "id": "deab637e",
   "metadata": {},
   "outputs": [],
   "source": [
    "feature_split = 50\n",
    "n_f=0\n",
    "while (n_f*feature_split) < len(X.columns):\n",
    "    plt.figure(figsize=(20,5))\n",
    "    \n",
    "    plt.bar(range(len(X.columns[n_f*feature_split:(n_f+1)*feature_split])), \n",
    "            model.feature_importances_[n_f*feature_split:(n_f+1)*feature_split], \n",
    "            tick_label= X.columns[n_f*feature_split:(n_f+1)*feature_split])\n",
    "    plt.ylim([0,1])\n",
    "    n_f+=1"
   ]
  },
  {
   "cell_type": "code",
   "execution_count": null,
   "id": "08fcd507",
   "metadata": {},
   "outputs": [],
   "source": [
    "pd.DataFrame(model.feature_importances_, index= X.columns, columns=[\"features_importance\"]).sort_values(by=\"features_importance\", ascending=False).head(20)"
   ]
  },
  {
   "cell_type": "code",
   "execution_count": null,
   "id": "0081ca44",
   "metadata": {},
   "outputs": [],
   "source": [
    "X.columns"
   ]
  },
  {
   "cell_type": "code",
   "execution_count": null,
   "id": "92784390",
   "metadata": {},
   "outputs": [],
   "source": [
    "X[\"f47\"].plot.hist(bins=50)"
   ]
  },
  {
   "cell_type": "code",
   "execution_count": null,
   "id": "9a5b78dc",
   "metadata": {},
   "outputs": [],
   "source": [
    "nan"
   ]
  }
 ],
 "metadata": {},
 "nbformat": 4,
 "nbformat_minor": 5
}
