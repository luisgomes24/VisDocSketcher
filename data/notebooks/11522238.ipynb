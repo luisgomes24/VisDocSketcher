{
 "cells": [
  {
   "cell_type": "markdown",
   "id": "5f67d206",
   "metadata": {},
   "source": [
    "# Let's have a look at the correlation of the numerous targets"
   ]
  },
  {
   "cell_type": "code",
   "execution_count": null,
   "id": "e91553bd",
   "metadata": {},
   "outputs": [],
   "source": [
    "import numpy as np # linear algebra\n",
    "import pandas as pd # data processing, CSV file I/O (e.g. pd.read_csv)\n",
    "\n",
    "import matplotlib.pyplot as plt\n",
    "import seaborn as sns\n",
    "\n",
    "import os\n",
    "for dirname, _, filenames in os.walk('/kaggle/input'):\n",
    "    for filename in filenames:\n",
    "        print(os.path.join(dirname, filename))"
   ]
  },
  {
   "cell_type": "code",
   "execution_count": null,
   "id": "9cb80ffb",
   "metadata": {},
   "outputs": [],
   "source": [
    "# read targets file for training data\n",
    "df_train_scored = pd.read_csv('../input/lish-moa/train_targets_scored.csv')"
   ]
  },
  {
   "cell_type": "code",
   "execution_count": null,
   "id": "9a7f0a8c",
   "metadata": {},
   "outputs": [],
   "source": [
    "df_train_scored.shape"
   ]
  },
  {
   "cell_type": "code",
   "execution_count": null,
   "id": "beef85a6",
   "metadata": {},
   "outputs": [],
   "source": [
    "df_train_scored.head()"
   ]
  },
  {
   "cell_type": "code",
   "execution_count": null,
   "id": "aa2e8831",
   "metadata": {},
   "outputs": [],
   "source": [
    "targets = df_train_scored.columns[1:207] # skip id\n",
    "n_targets = len(targets)"
   ]
  },
  {
   "cell_type": "code",
   "execution_count": null,
   "id": "d719dc2b",
   "metadata": {},
   "outputs": [],
   "source": [
    "print('Number of targets:', n_targets)"
   ]
  },
  {
   "cell_type": "code",
   "execution_count": null,
   "id": "81830947",
   "metadata": {},
   "outputs": [],
   "source": [
    "# calc correlation matrix for all (numeric) columns\n",
    "cor_targets = df_train_scored.corr(method='pearson')\n",
    "cor_targets"
   ]
  },
  {
   "cell_type": "code",
   "execution_count": null,
   "id": "f2739142",
   "metadata": {},
   "outputs": [],
   "source": [
    "# plot correlations (due to symmetry all pairs except the diagonal appear twice!)\n",
    "plt.rcParams[\"figure.figsize\"]=(12,12)\n",
    "plt.matshow(cor_targets)\n",
    "plt.colorbar()\n",
    "plt.show()"
   ]
  },
  {
   "cell_type": "markdown",
   "id": "8b50666f",
   "metadata": {},
   "source": [
    "### Ok, only a few target pairs show mentionable correlation. Let's check those pairs."
   ]
  },
  {
   "cell_type": "code",
   "execution_count": null,
   "id": "48f13c45",
   "metadata": {},
   "outputs": [],
   "source": [
    "# extract highest absolute correlations\n",
    "\n",
    "my_threshold = 0.25\n",
    "\n",
    "count = 1\n",
    "for i in range(n_targets):\n",
    "    var_i = targets[i]\n",
    "    for j in range(n_targets):\n",
    "        if (i>j):\n",
    "            var_j = targets[j]            \n",
    "            cor_x = df_train_scored[var_i].corr(df_train_scored[var_j])\n",
    "            if (abs(cor_x) > my_threshold):\n",
    "                print(count, ': corr(',var_i,',',var_j,') = ', np.round(cor_x,4))\n",
    "                count = count + 1\n",
    "        "
   ]
  },
  {
   "cell_type": "markdown",
   "id": "d72cefbd",
   "metadata": {},
   "source": [
    "### Check a few examples using cross tables"
   ]
  },
  {
   "cell_type": "code",
   "execution_count": null,
   "id": "bed5e564",
   "metadata": {},
   "outputs": [],
   "source": [
    "# 14 : corr( proteasome_inhibitor , nfkb_inhibitor ) =  0.9213\n",
    "pd.crosstab(df_train_scored.proteasome_inhibitor, df_train_scored.nfkb_inhibitor)"
   ]
  },
  {
   "cell_type": "code",
   "execution_count": null,
   "id": "261f61e4",
   "metadata": {},
   "outputs": [],
   "source": [
    "# 11 : corr( pdgfr_inhibitor , kit_inhibitor ) =  0.9156\n",
    "pd.crosstab(df_train_scored.pdgfr_inhibitor, df_train_scored.kit_inhibitor)"
   ]
  },
  {
   "cell_type": "code",
   "execution_count": null,
   "id": "6f5d9c05",
   "metadata": {},
   "outputs": [],
   "source": [
    "# 4 : corr( kit_inhibitor , flt3_inhibitor ) =  0.7581\n",
    "pd.crosstab(df_train_scored.kit_inhibitor, df_train_scored.flt3_inhibitor)"
   ]
  },
  {
   "cell_type": "code",
   "execution_count": null,
   "id": "0ac3dcb8",
   "metadata": {},
   "outputs": [],
   "source": [
    "# 10 : corr( pdgfr_inhibitor , flt3_inhibitor ) =  0.7051\n",
    "pd.crosstab(df_train_scored.pdgfr_inhibitor, df_train_scored.flt3_inhibitor)"
   ]
  },
  {
   "cell_type": "code",
   "execution_count": null,
   "id": "e07f291a",
   "metadata": {},
   "outputs": [],
   "source": [
    "# and another one with a relatively low correlation\n",
    "# 7 : corr( nrf2_activator , bcl_inhibitor ) =  0.2533\n",
    "pd.crosstab(df_train_scored.nrf2_activator, df_train_scored.bcl_inhibitor)"
   ]
  },
  {
   "cell_type": "code",
   "execution_count": null,
   "id": "17f8d7da",
   "metadata": {},
   "outputs": [],
   "source": [
    "# and finally an example with correlation close zo zero\n",
    "print('corr = ', df_train_scored.acat_inhibitor.corr(df_train_scored.acetylcholine_receptor_agonist))\n",
    "pd.crosstab(df_train_scored.acat_inhibitor, df_train_scored.acetylcholine_receptor_agonist)"
   ]
  },
  {
   "cell_type": "markdown",
   "id": "799e92df",
   "metadata": {},
   "source": [
    "# Occurrence of multiple positive targets"
   ]
  },
  {
   "cell_type": "code",
   "execution_count": null,
   "id": "d6e733d3",
   "metadata": {},
   "outputs": [],
   "source": [
    "df_train_scored['multiplicity'] = df_train_scored.iloc[:,1:207].sum(axis=1)\n",
    "df_train_scored.multiplicity.value_counts()"
   ]
  },
  {
   "cell_type": "code",
   "execution_count": null,
   "id": "7fdf4251",
   "metadata": {},
   "outputs": [],
   "source": [
    "plt.rcParams[\"figure.figsize\"]=(7,4)\n",
    "df_train_scored.multiplicity.value_counts().plot(kind='bar')\n",
    "plt.grid()\n",
    "plt.show()"
   ]
  },
  {
   "cell_type": "code",
   "execution_count": null,
   "id": "6c053bc0",
   "metadata": {},
   "outputs": [],
   "source": [
    "# look e. g. at the 6 rows having 7 synchronous 1's\n",
    "demo = df_train_scored[df_train_scored.multiplicity==7]\n",
    "demo"
   ]
  },
  {
   "cell_type": "markdown",
   "id": "02c23a25",
   "metadata": {},
   "source": [
    "#### All 6 rows show a positive effect on\n",
    "* apoptosis_stimulant\n",
    "* bcl_inhibitor\n",
    "* ikk_inhibitor\n",
    "* nfkb_inhibitor\n",
    "* nitric_oxide_production_inhibitor\n",
    "* nrf2_activator\n",
    "* ppar_receptor_agonist\n"
   ]
  },
  {
   "cell_type": "markdown",
   "id": "4399d52a",
   "metadata": {},
   "source": [
    "# Finally, let's quickly have a look on the target means as well"
   ]
  },
  {
   "cell_type": "code",
   "execution_count": null,
   "id": "4fad42ef",
   "metadata": {},
   "outputs": [],
   "source": [
    "# remove multiplicity column first\n",
    "df_train_scored = df_train_scored.drop(columns=['multiplicity'])\n"
   ]
  },
  {
   "cell_type": "code",
   "execution_count": null,
   "id": "0f16fad9",
   "metadata": {},
   "outputs": [],
   "source": [
    "# calc means\n",
    "target_means = df_train_scored.mean()"
   ]
  },
  {
   "cell_type": "code",
   "execution_count": null,
   "id": "b8aa455d",
   "metadata": {},
   "outputs": [],
   "source": [
    "# and plot\n",
    "plt.rcParams[\"figure.figsize\"]=(8,36)\n",
    "sns.barplot(y=target_means.index, x=target_means.values)\n",
    "plt.grid()\n",
    "plt.show()"
   ]
  }
 ],
 "metadata": {},
 "nbformat": 4,
 "nbformat_minor": 5
}
