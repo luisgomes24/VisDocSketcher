{
 "cells": [
  {
   "cell_type": "code",
   "execution_count": null,
   "id": "435ac1d6",
   "metadata": {},
   "outputs": [],
   "source": [
    "# This Python 3 environment comes with many helpful analytics libraries installed\n",
    "# It is defined by the kaggle/python Docker image: https://github.com/kaggle/docker-python\n",
    "# For example, here's several helpful packages to load\n",
    "\n",
    "import numpy as np # linear algebra\n",
    "import pandas as pd # data processing, CSV file I/O (e.g. pd.read_csv)\n",
    "\n",
    "# Input data files are available in the read-only \"../input/\" directory\n",
    "# For example, running this (by clicking run or pressing Shift+Enter) will list all files under the input directory\n",
    "\n",
    "import os\n",
    "for dirname, _, filenames in os.walk('/kaggle/input'):\n",
    "    for filename in filenames:\n",
    "        print(os.path.join(dirname, filename))\n",
    "\n",
    "# You can write up to 5GB to the current directory (/kaggle/working/) that gets preserved as output when you create a version using \"Save & Run All\" \n",
    "# You can also write temporary files to /kaggle/temp/, but they won't be saved outside of the current session"
   ]
  },
  {
   "cell_type": "code",
   "execution_count": null,
   "id": "8a16c85d",
   "metadata": {},
   "outputs": [],
   "source": [
    "df = pd.concat(map(pd.read_csv, ['/kaggle/input/world-happiness/2017.csv']))"
   ]
  },
  {
   "cell_type": "code",
   "execution_count": null,
   "id": "b074627f",
   "metadata": {},
   "outputs": [],
   "source": [
    "df"
   ]
  },
  {
   "cell_type": "code",
   "execution_count": null,
   "id": "9b27ec11",
   "metadata": {},
   "outputs": [],
   "source": [
    "df.isnull().any()"
   ]
  },
  {
   "cell_type": "code",
   "execution_count": null,
   "id": "c6ac4b0c",
   "metadata": {},
   "outputs": [],
   "source": [
    "import seaborn as sns\n",
    "sns.heatmap(df.isnull())"
   ]
  },
  {
   "cell_type": "markdown",
   "id": "137eebeb",
   "metadata": {},
   "source": [
    "We don't have any empty field"
   ]
  },
  {
   "cell_type": "code",
   "execution_count": null,
   "id": "bdad2b7e",
   "metadata": {},
   "outputs": [],
   "source": [
    "df.shape"
   ]
  },
  {
   "cell_type": "code",
   "execution_count": null,
   "id": "7649fc9e",
   "metadata": {},
   "outputs": [],
   "source": [
    "df.info()"
   ]
  },
  {
   "cell_type": "code",
   "execution_count": null,
   "id": "81f3089a",
   "metadata": {},
   "outputs": [],
   "source": [
    "df.head(10)"
   ]
  },
  {
   "cell_type": "code",
   "execution_count": null,
   "id": "0e958cb4",
   "metadata": {},
   "outputs": [],
   "source": [
    "df['Dystopia.Residual'].min()"
   ]
  },
  {
   "cell_type": "code",
   "execution_count": null,
   "id": "e39c5534",
   "metadata": {},
   "outputs": [],
   "source": [
    "df.loc[df['Dystopia.Residual']==0.37791371345520003]"
   ]
  },
  {
   "cell_type": "code",
   "execution_count": null,
   "id": "583fb377",
   "metadata": {},
   "outputs": [],
   "source": [
    "sns.heatmap(df.corr(),)"
   ]
  },
  {
   "cell_type": "markdown",
   "id": "19e6165b",
   "metadata": {},
   "source": [
    "we will give more emphasise on happiness score rather than rank and would evaluate how factors are influecing it"
   ]
  },
  {
   "cell_type": "markdown",
   "id": "dcfa150f",
   "metadata": {},
   "source": [
    "TOP  things that heavily contribute to HAPPINESS SCORE are :\n",
    "     GDP per captia , Life expectancy , Family\n",
    "Least 5 things affecting HAPPINESS SCORE are :\n",
    "    Generosity ,Govt Corruption , Dystopia Residual , Freedom"
   ]
  },
  {
   "cell_type": "markdown",
   "id": "e21c354e",
   "metadata": {},
   "source": [
    "Whisker High and Whisker Low are just upper and lower bound of same datbase so they are not required"
   ]
  },
  {
   "cell_type": "code",
   "execution_count": null,
   "id": "bc490954",
   "metadata": {},
   "outputs": [],
   "source": [
    "df = df.drop(['Whisker.high','Whisker.low'],axis=1)"
   ]
  },
  {
   "cell_type": "code",
   "execution_count": null,
   "id": "cd3926ad",
   "metadata": {},
   "outputs": [],
   "source": [
    "df.head(2)"
   ]
  },
  {
   "cell_type": "markdown",
   "id": "52a39602",
   "metadata": {},
   "source": [
    "we will look at each column to see how things are affected"
   ]
  },
  {
   "cell_type": "markdown",
   "id": "060a5aa9",
   "metadata": {},
   "source": [
    "# GDP"
   ]
  },
  {
   "cell_type": "code",
   "execution_count": null,
   "id": "66c92eee",
   "metadata": {},
   "outputs": [],
   "source": [
    "import matplotlib.pyplot as plt\n",
    "plt.scatter(df['Happiness.Score'],df['Economy..GDP.per.Capita.'])\n",
    "plt.xlabel('Happiness Score')\n",
    "plt.ylabel('GDP per capita')\n",
    "plt.title('GDP AND HAPPINESS')"
   ]
  },
  {
   "cell_type": "markdown",
   "id": "f3bbd634",
   "metadata": {},
   "source": [
    "well this is clear relationship that more the money people have more happy they are"
   ]
  },
  {
   "cell_type": "code",
   "execution_count": null,
   "id": "8065fd16",
   "metadata": {},
   "outputs": [],
   "source": [
    "sns.kdeplot(df['Economy..GDP.per.Capita.'])"
   ]
  },
  {
   "cell_type": "markdown",
   "id": "36b152f0",
   "metadata": {},
   "source": [
    "most of the countries have per capita GDP around 1.3"
   ]
  },
  {
   "cell_type": "code",
   "execution_count": null,
   "id": "846bb1e6",
   "metadata": {},
   "outputs": [],
   "source": [
    "plt.plot(df['Happiness.Score'],df['Economy..GDP.per.Capita.'])\n",
    "plt.xlabel('Happiness Score')\n",
    "plt.ylabel('GDP per capita')\n",
    "plt.title('GDP AND HAPPINESS')"
   ]
  },
  {
   "cell_type": "markdown",
   "id": "e4c37c54",
   "metadata": {},
   "source": [
    "even though GDP and happiness are directly related but Highest Scores don't correspond to highest GDP"
   ]
  },
  {
   "cell_type": "code",
   "execution_count": null,
   "id": "1cee9348",
   "metadata": {},
   "outputs": [],
   "source": [
    "plt.boxplot(df['Economy..GDP.per.Capita.'])"
   ]
  },
  {
   "cell_type": "code",
   "execution_count": null,
   "id": "b46dca7e",
   "metadata": {},
   "outputs": [],
   "source": [
    "plt.bar(df['Happiness.Score'],df['Economy..GDP.per.Capita.'])\n",
    "plt.xlabel('Happiness Score')\n",
    "plt.ylabel('GDP per capita')\n",
    "plt.title('GDP AND HAPPINESS')"
   ]
  },
  {
   "cell_type": "markdown",
   "id": "1049744e",
   "metadata": {},
   "source": [
    "highest happiness score does not have highest GDP so other factors are also important to have a happy life not just money"
   ]
  },
  {
   "cell_type": "code",
   "execution_count": null,
   "id": "e60ef496",
   "metadata": {},
   "outputs": [],
   "source": [
    "plt.hist2d(df['Happiness.Score'],df['Economy..GDP.per.Capita.'])\n",
    "plt.xlabel('Happiness Score')\n",
    "plt.ylabel('GDP per capita')\n",
    "plt.title('GDP AND HAPPINESS')\n",
    "cbar = plt.colorbar()\n",
    "cbar.ax.set_ylabel('Counts')"
   ]
  },
  {
   "cell_type": "markdown",
   "id": "27821b2b",
   "metadata": {},
   "source": [
    "# LIFE EXPECTANCY"
   ]
  },
  {
   "cell_type": "code",
   "execution_count": null,
   "id": "ab1fb5fa",
   "metadata": {},
   "outputs": [],
   "source": [
    "import matplotlib.pyplot as plt\n",
    "plt.scatter(df['Health..Life.Expectancy.'],df['Happiness.Score'])\n",
    "plt.xlabel('Life Expectency')\n",
    "plt.ylabel('Happiness Score')\n",
    "plt.title('AGE AND HAPPINESS')"
   ]
  },
  {
   "cell_type": "markdown",
   "id": "63e90b7e",
   "metadata": {},
   "source": [
    "well the more the people live , more happy they are"
   ]
  },
  {
   "cell_type": "code",
   "execution_count": null,
   "id": "002c109b",
   "metadata": {},
   "outputs": [],
   "source": [
    "plt.bar(df['Health..Life.Expectancy.'],df['Happiness.Score'])\n",
    "plt.xlabel('Life Expectency')\n",
    "plt.ylabel('Happiness Score')\n",
    "plt.title('AGE AND HAPPINESS')"
   ]
  },
  {
   "cell_type": "markdown",
   "id": "bcaf58bf",
   "metadata": {},
   "source": [
    "well , life expectancy above ).5 and till 1.10 have same affect on Happiness , but again too less and too more life expectancy lowers the happiness"
   ]
  },
  {
   "cell_type": "code",
   "execution_count": null,
   "id": "dc502fe0",
   "metadata": {},
   "outputs": [],
   "source": [
    "plt.plot(df['Health..Life.Expectancy.'],df['Happiness.Score'])\n",
    "plt.xlabel('Life Expectency')\n",
    "plt.ylabel('Happiness Score')\n",
    "plt.title('AGE AND HAPPINESS')"
   ]
  },
  {
   "cell_type": "markdown",
   "id": "1e571132",
   "metadata": {},
   "source": [
    "well that's wavy , so basically happiness wiggles a lot around 0.4 and 0.6 so this is a factor but not a major factor "
   ]
  },
  {
   "cell_type": "code",
   "execution_count": null,
   "id": "02667cce",
   "metadata": {},
   "outputs": [],
   "source": [
    "sns.kdeplot(df['Health..Life.Expectancy.'])"
   ]
  },
  {
   "cell_type": "markdown",
   "id": "6b5c8004",
   "metadata": {},
   "source": [
    "well , majority of life expectancies are between 0.6 and 0.8"
   ]
  },
  {
   "cell_type": "code",
   "execution_count": null,
   "id": "6fb9df34",
   "metadata": {},
   "outputs": [],
   "source": [
    "plt.boxplot(df['Health..Life.Expectancy.'])"
   ]
  },
  {
   "cell_type": "markdown",
   "id": "033491d7",
   "metadata": {},
   "source": [
    "# FAMILY"
   ]
  },
  {
   "cell_type": "markdown",
   "id": "958e34d7",
   "metadata": {},
   "source": [
    "The Family column quantifies how happy people are when they are with Family , or when they are away from work place , let's explore this"
   ]
  },
  {
   "cell_type": "code",
   "execution_count": null,
   "id": "dd9b882a",
   "metadata": {},
   "outputs": [],
   "source": [
    "sns.kdeplot(df['Family'])"
   ]
  },
  {
   "cell_type": "markdown",
   "id": "d5bd9fc8",
   "metadata": {},
   "source": [
    "the quantifiable value is mostly around 1.3-1.4 of happiness when they are with their family , this is a thing that also depends in country to country"
   ]
  },
  {
   "cell_type": "code",
   "execution_count": null,
   "id": "64b282ce",
   "metadata": {},
   "outputs": [],
   "source": [
    "plt.figure(figsize = (40,12))\n",
    "sns.barplot(x = 'Country',y='Family',data = df)\n",
    "plt.xticks(rotation = 90)\n",
    "plt.show()"
   ]
  },
  {
   "cell_type": "markdown",
   "id": "5847769d",
   "metadata": {},
   "source": [
    "Usually mostly happiness is directly proportional to  quality time people spend with their families but there are some exceptions\n",
    "Netherlands have a top happiness score but it's family time is quite low , so in Netherlands people are happy but their interaction with family is not a important factor there "
   ]
  },
  {
   "cell_type": "code",
   "execution_count": null,
   "id": "1c594c1a",
   "metadata": {},
   "outputs": [],
   "source": [
    "df[(df['Happiness.Score'] > 6.5) & (df['Family']<1.3)]"
   ]
  },
  {
   "cell_type": "markdown",
   "id": "bb2632c3",
   "metadata": {},
   "source": [
    "so only three countries have relatively lower Family value but quite good happiness score and two of them are in Southern America while one is in middile east"
   ]
  },
  {
   "cell_type": "code",
   "execution_count": null,
   "id": "30321d99",
   "metadata": {},
   "outputs": [],
   "source": [
    "plt.bar(df['Family'],df[\"Happiness.Score\"])\n",
    "plt.xlabel('Family Score')\n",
    "plt.ylabel('Happiness Score')"
   ]
  },
  {
   "cell_type": "markdown",
   "id": "a55876ba",
   "metadata": {},
   "source": [
    "well after 1.3 Family Score , most of the countries have kinda same Happiness Score , people are happy after spending more quality time with their family members"
   ]
  },
  {
   "cell_type": "code",
   "execution_count": null,
   "id": "b020038a",
   "metadata": {},
   "outputs": [],
   "source": [
    "plt.plot(df['Family'],df[\"Happiness.Score\"])\n",
    "plt.xlabel('Family Score')\n",
    "plt.ylabel('Happiness Score')"
   ]
  },
  {
   "cell_type": "markdown",
   "id": "497505b6",
   "metadata": {},
   "source": [
    "well , this clearly suggest time with family does not clearly mean happiness , especially between 0.8 and 1.4 , things are a lot changing"
   ]
  },
  {
   "cell_type": "code",
   "execution_count": null,
   "id": "9f313f3e",
   "metadata": {},
   "outputs": [],
   "source": [
    "plt.scatter(df['Family'],df[\"Happiness.Score\"])\n",
    "plt.xlabel('Family Score')\n",
    "plt.ylabel('Happiness Score')"
   ]
  },
  {
   "cell_type": "markdown",
   "id": "aac2e8d0",
   "metadata": {},
   "source": [
    "This relationship is linear for sure "
   ]
  },
  {
   "cell_type": "code",
   "execution_count": null,
   "id": "2aa7afb3",
   "metadata": {},
   "outputs": [],
   "source": [
    "plt.boxplot(df['Family'])\n"
   ]
  },
  {
   "cell_type": "markdown",
   "id": "45bd75ce",
   "metadata": {},
   "source": [
    "# FREEDOM"
   ]
  },
  {
   "cell_type": "markdown",
   "id": "84cf2e7c",
   "metadata": {},
   "source": [
    "SO Freedom here means that how much freedom people have in that country , that might depend on which type of government system is there"
   ]
  },
  {
   "cell_type": "code",
   "execution_count": null,
   "id": "659fdd48",
   "metadata": {},
   "outputs": [],
   "source": [
    "plt.figure(figsize = (40,12))\n",
    "sns.barplot(x = 'Country',y='Freedom',data = df)\n",
    "plt.xticks(rotation = 90)\n",
    "plt.show()"
   ]
  },
  {
   "cell_type": "markdown",
   "id": "1bf127ed",
   "metadata": {},
   "source": [
    "well again it is a positive linear relationship of happiness and Freedom with sure some exceptions , CHILE and ISRAEL have low freedom but people are happy , while TOGO and CAMBODIA have good freedom still very low happiness"
   ]
  },
  {
   "cell_type": "code",
   "execution_count": null,
   "id": "93bd31c8",
   "metadata": {},
   "outputs": [],
   "source": [
    "sns.kdeplot(df['Freedom'])"
   ]
  },
  {
   "cell_type": "markdown",
   "id": "2fe4811b",
   "metadata": {},
   "source": [
    "Well mostly Freedom is 0.5 (number that is to quantify freedom)"
   ]
  },
  {
   "cell_type": "code",
   "execution_count": null,
   "id": "94336b94",
   "metadata": {},
   "outputs": [],
   "source": [
    "plt.boxplot(df['Freedom'])"
   ]
  },
  {
   "cell_type": "code",
   "execution_count": null,
   "id": "879826d3",
   "metadata": {},
   "outputs": [],
   "source": [
    "plt.scatter(df['Freedom'],df[\"Happiness.Score\"])\n",
    "plt.xlabel('Freedom Score')\n",
    "plt.ylabel('Happiness Score')"
   ]
  },
  {
   "cell_type": "markdown",
   "id": "149b0f46",
   "metadata": {},
   "source": [
    "once again this is a linear relationship , more the Freedom , more the exceptions but intersting point is there are cases of high FREEDOM but low HAPPINESS but it is never evident that low FREEDOM but high HAPPINESS"
   ]
  },
  {
   "cell_type": "code",
   "execution_count": null,
   "id": "0be5b92d",
   "metadata": {},
   "outputs": [],
   "source": [
    "plt.plot(df['Freedom'],df[\"Happiness.Score\"])\n",
    "plt.xlabel('Freedom Score')\n",
    "plt.ylabel('Happiness Score')"
   ]
  },
  {
   "cell_type": "code",
   "execution_count": null,
   "id": "68e2f93b",
   "metadata": {},
   "outputs": [],
   "source": [
    "plt.bar(df['Freedom'],df[\"Happiness.Score\"])\n",
    "plt.xlabel('Freedom Score')\n",
    "plt.ylabel('Happiness Score')"
   ]
  },
  {
   "cell_type": "markdown",
   "id": "40740e42",
   "metadata": {},
   "source": [
    "CORRUPTION"
   ]
  },
  {
   "cell_type": "code",
   "execution_count": null,
   "id": "ab9d3630",
   "metadata": {},
   "outputs": [],
   "source": [
    "plt.figure(figsize = (40,12))\n",
    "sns.barplot(x = 'Country',y='Trust..Government.Corruption.',data = df)\n",
    "plt.xticks(rotation = 90)\n",
    "plt.show()"
   ]
  },
  {
   "cell_type": "markdown",
   "id": "ad4c711a",
   "metadata": {},
   "source": [
    "Well Corruption matters but not that much in happiness of people "
   ]
  },
  {
   "cell_type": "code",
   "execution_count": null,
   "id": "9de42d42",
   "metadata": {},
   "outputs": [],
   "source": [
    "plt.bar(df['Trust..Government.Corruption.'],df[\"Happiness.Score\"])\n",
    "plt.xlabel('Corruption Score')\n",
    "plt.ylabel('Happiness Score')\n",
    "plt.title('Happines and Corruption')"
   ]
  },
  {
   "cell_type": "markdown",
   "id": "329be7ae",
   "metadata": {},
   "source": [
    "As i mentioned , Corruption  is not such an important factor but when it is very high there is a Decline in happiness of people "
   ]
  },
  {
   "cell_type": "code",
   "execution_count": null,
   "id": "e968dc8c",
   "metadata": {},
   "outputs": [],
   "source": [
    "plt.scatter(df['Trust..Government.Corruption.'],df[\"Happiness.Score\"])\n",
    "plt.xlabel('Corruption Score')\n",
    "plt.ylabel('Happiness Score')\n",
    "plt.title('Happines and Corruption')"
   ]
  },
  {
   "cell_type": "code",
   "execution_count": null,
   "id": "fc40e6e9",
   "metadata": {},
   "outputs": [],
   "source": [
    "plt.plot(df['Trust..Government.Corruption.'],df[\"Happiness.Score\"])\n",
    "plt.xlabel('Corruption Score')\n",
    "plt.ylabel('Happiness Score')\n",
    "plt.title('Happines and Corruption')"
   ]
  },
  {
   "cell_type": "markdown",
   "id": "5e7c0e0f",
   "metadata": {},
   "source": [
    "It is not such a important feature that directly bothers the happiness"
   ]
  },
  {
   "cell_type": "code",
   "execution_count": null,
   "id": "44c04ac2",
   "metadata": {},
   "outputs": [],
   "source": [
    "sns.kdeplot(df['Trust..Government.Corruption.'])"
   ]
  },
  {
   "cell_type": "markdown",
   "id": "c0cacd26",
   "metadata": {},
   "source": [
    "Corruption rate is about 0.1 in most countries"
   ]
  },
  {
   "cell_type": "markdown",
   "id": "e64507c6",
   "metadata": {},
   "source": [
    "# MODELS"
   ]
  },
  {
   "cell_type": "code",
   "execution_count": null,
   "id": "fb80b1bb",
   "metadata": {},
   "outputs": [],
   "source": [
    "df.columns"
   ]
  },
  {
   "cell_type": "code",
   "execution_count": null,
   "id": "d29fd6c7",
   "metadata": {},
   "outputs": [],
   "source": [
    "x = df[['Economy..GDP.per.Capita.', 'Family', 'Health..Life.Expectancy.',\n",
    "       'Freedom', 'Generosity', 'Trust..Government.Corruption.',\n",
    "       'Dystopia.Residual']] #dependent Variables\n",
    "y = df['Happiness.Score']"
   ]
  },
  {
   "cell_type": "code",
   "execution_count": null,
   "id": "b1688645",
   "metadata": {},
   "outputs": [],
   "source": [
    "x.info()"
   ]
  },
  {
   "cell_type": "markdown",
   "id": "402d49d2",
   "metadata": {},
   "source": [
    "All Numerical Values "
   ]
  },
  {
   "cell_type": "code",
   "execution_count": null,
   "id": "b9dbe2cc",
   "metadata": {},
   "outputs": [],
   "source": [
    "from sklearn.model_selection import train_test_split\n",
    "x_train,x_test,y_train,y_test = train_test_split(x,y,test_size=0.3,random_state=38)"
   ]
  },
  {
   "cell_type": "markdown",
   "id": "f4b08075",
   "metadata": {},
   "source": [
    "Linear Regression"
   ]
  },
  {
   "cell_type": "code",
   "execution_count": null,
   "id": "05bcde12",
   "metadata": {},
   "outputs": [],
   "source": [
    "from sklearn.linear_model import LinearRegression\n",
    "linear = LinearRegression()\n",
    "linear.fit(x_train,y_train)\n",
    "linear.score(x_test,y_test)"
   ]
  },
  {
   "cell_type": "markdown",
   "id": "e47eb6f0",
   "metadata": {},
   "source": [
    "We got an excellent model"
   ]
  },
  {
   "cell_type": "code",
   "execution_count": null,
   "id": "644e2cd3",
   "metadata": {},
   "outputs": [],
   "source": [
    "y_pred = linear.predict(x_test)\n"
   ]
  },
  {
   "cell_type": "code",
   "execution_count": null,
   "id": "deeb44f1",
   "metadata": {},
   "outputs": [],
   "source": [
    "plt.plot(y_pred,y_test)\n",
    "plt.xlabel('Actual Value')\n",
    "plt.ylabel('Predicted Value')"
   ]
  },
  {
   "cell_type": "code",
   "execution_count": null,
   "id": "06151f1e",
   "metadata": {},
   "outputs": [],
   "source": [
    "df_test = pd.read_csv('/kaggle/input/world-happiness/2019.csv')\n",
    "df_test.head(3)\n",
    "#2019 data"
   ]
  },
  {
   "cell_type": "code",
   "execution_count": null,
   "id": "3d5e92bd",
   "metadata": {},
   "outputs": [],
   "source": [
    "#this dataset is of 2019 with some additional features but we would check how relevant our model based on 2017 data is"
   ]
  },
  {
   "cell_type": "code",
   "execution_count": null,
   "id": "628143e5",
   "metadata": {},
   "outputs": [],
   "source": [
    "test = np.array([1.340,1.587,0.986,0.596,0.153,0.393,2.430]).reshape(1,-1)\n",
    "linear.predict(test)"
   ]
  },
  {
   "cell_type": "markdown",
   "id": "b2a4438b",
   "metadata": {},
   "source": [
    "Family of 2017 is replaced by Social Support in 2019 and Dystopia residual i assumed is same as 2017 and we got 7.484(acc to 2017 model) score while it was 7.769 in 2019,not that bad i guess !"
   ]
  },
  {
   "cell_type": "code",
   "execution_count": null,
   "id": "9fbb8eec",
   "metadata": {},
   "outputs": [],
   "source": [
    "nan"
   ]
  }
 ],
 "metadata": {},
 "nbformat": 4,
 "nbformat_minor": 5
}
