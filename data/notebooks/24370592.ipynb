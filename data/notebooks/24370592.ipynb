{
 "cells": [
  {
   "cell_type": "code",
   "execution_count": null,
   "id": "eec2e691",
   "metadata": {},
   "outputs": [],
   "source": [
    "import pandas as pd"
   ]
  },
  {
   "cell_type": "code",
   "execution_count": null,
   "id": "611cd76a",
   "metadata": {},
   "outputs": [],
   "source": [
    "features = [f'f_{i}' for i in range(300)]\n",
    "data_types_dict = {\n",
    "    'time_id': 'int32',\n",
    "    'investment_id': 'int16',\n",
    "    \"target\": 'float16',\n",
    "}\n",
    "\n",
    "for f in features:\n",
    "    data_types_dict[f] = 'float16'"
   ]
  },
  {
   "cell_type": "code",
   "execution_count": null,
   "id": "f82a7832",
   "metadata": {},
   "outputs": [],
   "source": [
    "features += ['investment_id','time_id']"
   ]
  },
  {
   "cell_type": "code",
   "execution_count": null,
   "id": "f4d31134",
   "metadata": {},
   "outputs": [],
   "source": [
    "# data_types_dict"
   ]
  },
  {
   "cell_type": "code",
   "execution_count": null,
   "id": "fc7617b5",
   "metadata": {},
   "outputs": [],
   "source": [
    "%%time\n",
    "train = pd.read_csv('/kaggle/input/ubiquant-market-prediction/train.csv', \n",
    "                       usecols = data_types_dict.keys(),\n",
    "                       dtype=data_types_dict, \n",
    "                    index_col = 0\n",
    "                       )"
   ]
  },
  {
   "cell_type": "code",
   "execution_count": null,
   "id": "96c8c491",
   "metadata": {},
   "outputs": [],
   "source": [
    "train.tail()"
   ]
  },
  {
   "cell_type": "code",
   "execution_count": null,
   "id": "72a78438",
   "metadata": {},
   "outputs": [],
   "source": [
    "# train = train.sample(1000000)"
   ]
  },
  {
   "cell_type": "code",
   "execution_count": null,
   "id": "8755ce8e",
   "metadata": {},
   "outputs": [],
   "source": [
    "example_test = pd.read_csv('/kaggle/input/ubiquant-market-prediction/example_test.csv')"
   ]
  },
  {
   "cell_type": "code",
   "execution_count": null,
   "id": "c2c9aff1",
   "metadata": {},
   "outputs": [],
   "source": [
    "example_test.tail()"
   ]
  },
  {
   "cell_type": "code",
   "execution_count": null,
   "id": "ed889a28",
   "metadata": {},
   "outputs": [],
   "source": [
    "train.tail()"
   ]
  },
  {
   "cell_type": "code",
   "execution_count": null,
   "id": "c2e1214c",
   "metadata": {},
   "outputs": [],
   "source": [
    "train.columns"
   ]
  },
  {
   "cell_type": "code",
   "execution_count": null,
   "id": "d55764d9",
   "metadata": {},
   "outputs": [],
   "source": [
    "# train = train.sample(1000000, random_state=0)"
   ]
  },
  {
   "cell_type": "code",
   "execution_count": null,
   "id": "59139d78",
   "metadata": {},
   "outputs": [],
   "source": [
    "train.info()"
   ]
  },
  {
   "cell_type": "code",
   "execution_count": null,
   "id": "f2ab0e23",
   "metadata": {},
   "outputs": [],
   "source": [
    "train.dtypes"
   ]
  },
  {
   "cell_type": "code",
   "execution_count": null,
   "id": "4a770abd",
   "metadata": {},
   "outputs": [],
   "source": [
    "import lightgbm as lgb\n",
    "from sklearn.model_selection import train_test_split"
   ]
  },
  {
   "cell_type": "code",
   "execution_count": null,
   "id": "6d253e86",
   "metadata": {},
   "outputs": [],
   "source": [
    "X = train.drop([\"target\"], axis=1)\n",
    "y = train[\"target\"]"
   ]
  },
  {
   "cell_type": "code",
   "execution_count": null,
   "id": "7f0c1c1d",
   "metadata": {},
   "outputs": [],
   "source": [
    "del train"
   ]
  },
  {
   "cell_type": "code",
   "execution_count": null,
   "id": "e986e5a1",
   "metadata": {},
   "outputs": [],
   "source": [
    "random_state = 13"
   ]
  },
  {
   "cell_type": "code",
   "execution_count": null,
   "id": "d959c00d",
   "metadata": {},
   "outputs": [],
   "source": [
    "X_train, X_test, y_train, y_test = train_test_split(X, y, test_size=0.01, random_state=random_state,\n",
    "                                                    shuffle=False)\n",
    "del X\n",
    "del y"
   ]
  },
  {
   "cell_type": "code",
   "execution_count": null,
   "id": "db5c5d09",
   "metadata": {},
   "outputs": [],
   "source": [
    "example_test[features]"
   ]
  },
  {
   "cell_type": "code",
   "execution_count": null,
   "id": "f9a644a1",
   "metadata": {},
   "outputs": [],
   "source": [
    "lgb_train = lgb.Dataset(X_train, y_train)\n",
    "lgb_eval = lgb.Dataset(X_test, y_test, reference=lgb_train)\n",
    "params = {'boosting_type': 'gbdt',\n",
    "              'objective': 'regression',\n",
    "              'num_leaves': 40,\n",
    "              'learning_rate': 0.1,\n",
    "              'feature_fraction': 0.9\n",
    "              }\n",
    "gbm = lgb.train(params,\n",
    "    lgb_train,\n",
    "    num_boost_round=200,\n",
    "    valid_sets=[lgb_train, lgb_eval],\n",
    "    valid_names=['train','valid'],\n",
    "    callbacks= [lgb.early_stopping(10)]\n",
    "   )"
   ]
  },
  {
   "cell_type": "code",
   "execution_count": null,
   "id": "218e9b71",
   "metadata": {},
   "outputs": [],
   "source": [
    "import ubiquant\n",
    "env = ubiquant.make_env()   \n",
    "iter_test = env.iter_test()  "
   ]
  },
  {
   "cell_type": "code",
   "execution_count": null,
   "id": "52bd4281",
   "metadata": {},
   "outputs": [],
   "source": [
    "for (test_df, sample_prediction_df) in iter_test:\n",
    "    test_df.drop(['row_id'], axis=1, inplace=True)\n",
    "    pred = gbm.predict(test_df)\n",
    "    sample_prediction_df['target'] = pred\n",
    "    env.predict(sample_prediction_df) "
   ]
  },
  {
   "cell_type": "code",
   "execution_count": null,
   "id": "b77257b5",
   "metadata": {},
   "outputs": [],
   "source": [
    "nan"
   ]
  }
 ],
 "metadata": {},
 "nbformat": 4,
 "nbformat_minor": 5
}
