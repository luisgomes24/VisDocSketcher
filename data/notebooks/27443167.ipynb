{
 "cells": [
  {
   "cell_type": "code",
   "execution_count": null,
   "id": "fb299baf",
   "metadata": {},
   "outputs": [],
   "source": [
    "!pip install nb_black"
   ]
  },
  {
   "cell_type": "code",
   "execution_count": null,
   "id": "0aa66840",
   "metadata": {},
   "outputs": [],
   "source": [
    "import numpy as np\n",
    "import matplotlib.pyplot as plt\n",
    "\n",
    "plt.style.use(\"ggplot\")\n",
    "\n",
    "%load_ext lab_black"
   ]
  },
  {
   "cell_type": "code",
   "execution_count": null,
   "id": "96e1bbb4",
   "metadata": {},
   "outputs": [],
   "source": [
    "def gen_func(m, N=1000):\n",
    "    x = np.linspace(np.pi - 2 * m, np.pi, N)\n",
    "    f = np.cos(x + m)\n",
    "    g = np.cos(x) - m * np.sin(np.pi - m)\n",
    "    h = np.heaviside(x - (np.pi - m), 0)\n",
    "    phi = h * g + (1 - h) * f\n",
    "    return x, f, g, phi\n",
    "\n",
    "\n",
    "def plot_func(m):\n",
    "    x, f, g, phi = gen_func(m)\n",
    "    fig, ax = plt.subplots()\n",
    "    ax.plot(x, f, label=\"cos(x + m)\", ls=\"--\", c=\"gray\")\n",
    "    ax.plot(x, g, label=\"cos(x) - m * sin(pi - m)\", ls=\":\", c=\"gray\")\n",
    "    ax.plot(x, phi, label=\"phi\", c=\"red\")\n",
    "    ax.legend()\n",
    "    ax.set(xlim=(np.pi - m * 2, np.pi), ylim=(-1 - m**2, -1 + m**2), title=f\"m={m}\")\n",
    "\n",
    "    xposition = [np.pi - m, -1, 1]\n",
    "    for xc in xposition:\n",
    "        ax.axvline(x=xc, color=\"k\", linestyle=\"--\")"
   ]
  },
  {
   "cell_type": "code",
   "execution_count": null,
   "id": "7feeed80",
   "metadata": {},
   "outputs": [],
   "source": [
    "plot_func(0.01)"
   ]
  },
  {
   "cell_type": "code",
   "execution_count": null,
   "id": "0865443a",
   "metadata": {},
   "outputs": [],
   "source": [
    "plot_func(0.1)"
   ]
  },
  {
   "cell_type": "code",
   "execution_count": null,
   "id": "3437fe0d",
   "metadata": {},
   "outputs": [],
   "source": [
    "plot_func(0.001)"
   ]
  },
  {
   "cell_type": "code",
   "execution_count": null,
   "id": "fc3b0f15",
   "metadata": {},
   "outputs": [],
   "source": [
    "def gen_func2(m, N=1000):\n",
    "    x = np.linspace(np.pi - 2 * m, np.pi, N)\n",
    "    f = np.cos(x + m)\n",
    "    g = np.cos(x) - (1 + np.cos(np.pi - m))\n",
    "    h = np.heaviside(x - (np.pi - m), 0)\n",
    "    phi = h * g + (1 - h) * f\n",
    "    return x, f, g, phi\n",
    "\n",
    "\n",
    "def plot_func2(m):\n",
    "    x, f, g, phi = gen_func2(m)\n",
    "    fig, ax = plt.subplots()\n",
    "    ax.plot(x, f, label=\"cos(x + m)\", ls=\"--\", c=\"gray\")\n",
    "    ax.plot(x, g, label=\"cos(x) - (1 + cos(pi - m))\", ls=\":\", c=\"gray\")\n",
    "    ax.plot(x, phi, label=\"phi\", c=\"red\")\n",
    "    ax.legend()\n",
    "    ax.set(xlim=(np.pi - m * 2, np.pi), ylim=(-1 - m**2, -1 + m**2), title=f\"m={m}\")\n",
    "\n",
    "    xposition = [np.pi - m, -1, 1]\n",
    "    for xc in xposition:\n",
    "        ax.axvline(x=xc, color=\"k\", linestyle=\"--\")"
   ]
  },
  {
   "cell_type": "code",
   "execution_count": null,
   "id": "cebe6447",
   "metadata": {},
   "outputs": [],
   "source": [
    "plot_func2(0.1)"
   ]
  },
  {
   "cell_type": "code",
   "execution_count": null,
   "id": "2c952d70",
   "metadata": {},
   "outputs": [],
   "source": [
    "plot_func2(0.01)"
   ]
  },
  {
   "cell_type": "code",
   "execution_count": null,
   "id": "69191ac8",
   "metadata": {},
   "outputs": [],
   "source": [
    "plot_func2(0.001)"
   ]
  }
 ],
 "metadata": {},
 "nbformat": 4,
 "nbformat_minor": 5
}
