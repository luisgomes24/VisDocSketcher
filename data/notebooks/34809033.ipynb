{
 "cells": [
  {
   "cell_type": "markdown",
   "id": "96e1e194",
   "metadata": {},
   "source": [
    "Published on february 06, 2023 by Marília Prata, mpwolke"
   ]
  },
  {
   "cell_type": "code",
   "execution_count": null,
   "id": "f41fa4ca",
   "metadata": {},
   "outputs": [],
   "source": [
    "# This Python 3 environment comes with many helpful analytics libraries installed\n",
    "# It is defined by the kaggle/python Docker image: https://github.com/kaggle/docker-python\n",
    "# For example, here's several helpful packages to load\n",
    "\n",
    "import numpy as np # linear algebra\n",
    "import pandas as pd # data processing, CSV file I/O (e.g. pd.read_csv)\n",
    "import matplotlib.pyplot as plt\n",
    "import seaborn as sns\n",
    "\n",
    "# Input data files are available in the read-only \"../input/\" directory\n",
    "# For example, running this (by clicking run or pressing Shift+Enter) will list all files under the input directory\n",
    "\n",
    "import os\n",
    "for dirname, _, filenames in os.walk('/kaggle/input'):\n",
    "    for filename in filenames:\n",
    "        print(os.path.join(dirname, filename))\n",
    "\n",
    "# You can write up to 20GB to the current directory (/kaggle/working/) that gets preserved as output when you create a version using \"Save & Run All\" \n",
    "# You can also write temporary files to /kaggle/temp/, but they won't be saved outside of the current session"
   ]
  },
  {
   "cell_type": "markdown",
   "id": "7d8dcbc7",
   "metadata": {},
   "source": [
    "\"Family Guy is an American animated sitcom originally conceived and created by Seth MacFarlane for the Fox Broadcasting Company. The show centers around the Griffins, a dysfunctional family consisting of parents Peter and Lois; their children, Meg, Chris, and Stewie; and their anthropomorphic pet dog, Brian. Set in the fictional city of Quahog, Rhode Island, the show exhibits much of its humor in the form of metafictional cutaway gags that often lampoon American culture.\"\n",
    "\n",
    "https://www.kaggle.com/datasets/iamsouravbanerjee/family-guy-dataset"
   ]
  },
  {
   "cell_type": "markdown",
   "id": "1c995b34",
   "metadata": {},
   "source": [
    "![](https://guiadanetflix.com.br/wp-content/uploads/2016/08/family-guy.jpg)"
   ]
  },
  {
   "cell_type": "code",
   "execution_count": null,
   "id": "0e6874a0",
   "metadata": {},
   "outputs": [],
   "source": [
    "episodes_df = pd.read_csv('../input/family-guy-dataset/Family Guy Dataset.csv', parse_dates=['Original Air Date'])\n",
    "#imdb_df = pd.read_csv('../input/true-detective-episodes/true_detective_imdb.csv', parse_dates=['original_air_date'])\n",
    "episodes_df.head()"
   ]
  },
  {
   "cell_type": "markdown",
   "id": "27fe5eef",
   "metadata": {},
   "source": [
    "#Since we have only one csv file, we won't merge anything. Save the snippet below for the next time."
   ]
  },
  {
   "cell_type": "code",
   "execution_count": null,
   "id": "4b09767f",
   "metadata": {},
   "outputs": [],
   "source": [
    "#Keep same columns to copy Bill Cruise code\n",
    "episodes_df = episodes_df[['Title of the Episode', 'Original Air Date', 'IMDb Rating', 'total_votes', 'Synopsys']]\n",
    "true_detective_df = episodes_df.merge(imdb_df, how='left', on=['Title of the Episode', 'Original Air Date''])\n",
    "true_detective_df.shape"
   ]
  },
  {
   "cell_type": "markdown",
   "id": "2b0dbaaa",
   "metadata": {},
   "source": [
    "#Seasons that have the highest IMDb ratings."
   ]
  },
  {
   "cell_type": "code",
   "execution_count": null,
   "id": "34729049",
   "metadata": {},
   "outputs": [],
   "source": [
    "#By Bill Cruise  https://www.kaggle.com/code/bcruise/true-detective-episodes-data-analysis/notebook\n",
    "\n",
    "sns.lmplot(x=\"No. of Episode (Overall)\", y=\"IMDb Rating\", hue=\"Season\", data=episodes_df, height=6, aspect=2, ci=None)\n",
    "plt.xlabel(\"Episode\")\n",
    "plt.ylabel(\"IMDb Rating\")\n",
    "plt.title(\"IMDb Ratings for Family Guy Episodes\");"
   ]
  },
  {
   "cell_type": "markdown",
   "id": "75eb19c0",
   "metadata": {},
   "source": [
    "#It was supposed to be Seasons have the most US viewers\n",
    "\n",
    "Since I got \"Can't replace string to float : 'None' error I changed the feature instead of fixing the code."
   ]
  },
  {
   "cell_type": "code",
   "execution_count": null,
   "id": "98722c24",
   "metadata": {},
   "outputs": [],
   "source": [
    "sns.lmplot(x=\"No. of Episode (Overall)\", y=\"Running Time (Minutes)\", hue=\"Season\", data=episodes_df, height=6, aspect=2, ci=None)\n",
    "plt.xlabel(\"Episode\")\n",
    "plt.ylabel(\"Running time in Minutes\")\n",
    "plt.title(\"Running Time for Family Guy episodes\")\n",
    "plt.ticklabel_format(style='plain', axis='y');"
   ]
  },
  {
   "cell_type": "code",
   "execution_count": null,
   "id": "ef55a481",
   "metadata": {},
   "outputs": [],
   "source": [
    "episodes_df.dtypes"
   ]
  },
  {
   "cell_type": "markdown",
   "id": "9b7eefdc",
   "metadata": {},
   "source": [
    "#IMDb Ratings"
   ]
  },
  {
   "cell_type": "code",
   "execution_count": null,
   "id": "edb3a8ae",
   "metadata": {},
   "outputs": [],
   "source": [
    "episodes_df['IMDb Rating'].plot.hist()\n",
    "plt.title(\"Family Guy IMDb Rating\")#Today is 05/12/2022 December!\n",
    "plt.xlabel(\"IMDb Rating\");"
   ]
  },
  {
   "cell_type": "code",
   "execution_count": null,
   "id": "066098a0",
   "metadata": {},
   "outputs": [],
   "source": [
    "episodes_df.groupby('IMDb Rating').count()['U.S. Viewers (Millions)'].plot()\n",
    "plt.title('Family Guy Rating/Number of US Viewers', fontsize=20);\n",
    "plt.tight_layout()"
   ]
  },
  {
   "cell_type": "markdown",
   "id": "1c4b3c7c",
   "metadata": {},
   "source": [
    "#Who wrote the most episodes of Family Guy\n",
    "\n",
    "Seth MacFarlane isn't on top?"
   ]
  },
  {
   "cell_type": "code",
   "execution_count": null,
   "id": "ba71285e",
   "metadata": {},
   "outputs": [],
   "source": [
    "episodes_df['Written by'].value_counts()"
   ]
  },
  {
   "cell_type": "markdown",
   "id": "5cba3204",
   "metadata": {},
   "source": [
    "#Who directed the most episodes of Family Guy"
   ]
  },
  {
   "cell_type": "code",
   "execution_count": null,
   "id": "d446626d",
   "metadata": {},
   "outputs": [],
   "source": [
    "episodes_df['Director'].value_counts()"
   ]
  },
  {
   "cell_type": "markdown",
   "id": "178870e8",
   "metadata": {},
   "source": [
    "#Acknowledgements:\n",
    "\n",
    "Bill Cruise https://www.kaggle.com/code/bcruise/true-detective-episodes-data-analysis/notebook\n",
    "\n",
    "Sourav Banerjee Dataset https://www.kaggle.com/datasets/iamsouravbanerjee/family-guy-dataset"
   ]
  }
 ],
 "metadata": {},
 "nbformat": 4,
 "nbformat_minor": 5
}
