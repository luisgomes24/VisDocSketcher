{
 "cells": [
  {
   "cell_type": "markdown",
   "id": "888a104f",
   "metadata": {},
   "source": [
    "**[Voltar para a Página Inicial do Curso](https://www.kaggle.com/c/ml-python-me)**\n",
    "\n",
    "# **Análise Exploratória e Visualização de Dados**\n",
    "Nesta aula vamos aprender a realizar a análise exploratória dos dados e a visualizar os dados para conhecer melhor sua estrutura e distribuição.\n",
    "\n",
    "#### Conteúdo:\n",
    "1. Como visualizar a estrutura dos dados\n",
    "2. Como explorar e visualizar o sumário dos dados\n",
    "3. Principais Bibliotecas Python\n",
    "4. Como gerar gráficos \n",
    "5. Exercícios Complementares (Opcional)\n",
    "\n",
    "#### Materiais adicionais de Python\n",
    "* https://www.datascienceacademy.com.br/course?courseid=python-fundamentos\n",
    "* https://developers.google.com/edu/python/\n",
    "* https://panda.ime.usp.br/aulasPython/static/aulasPython/index.html"
   ]
  },
  {
   "cell_type": "code",
   "execution_count": null,
   "id": "190bea64",
   "metadata": {},
   "outputs": [],
   "source": [
    "# Importar os dados novamente...\n",
    "import pandas as pd\n",
    "item = pd.read_csv('../input/itemLicitacao.csv')\n",
    "item.head()"
   ]
  },
  {
   "cell_type": "markdown",
   "id": "05c86e16",
   "metadata": {},
   "source": [
    "# 1. Como visualizar a estrutura dos dados\n",
    "* df.shape: (quantidade de linhas, quantidade de colunas)\n",
    "* df.index: descreve os indices\n",
    "* df.columns: descreve as colunas\n",
    "* df.info(): descreve o dataframe\n",
    "* df.count(): conta o número de linhas que não tem valores NA"
   ]
  },
  {
   "cell_type": "code",
   "execution_count": null,
   "id": "f41c203d",
   "metadata": {},
   "outputs": [],
   "source": [
    "# Mostra (quantidade de linhas, quantidade de colunas)\n",
    "item.shape"
   ]
  },
  {
   "cell_type": "code",
   "execution_count": null,
   "id": "4b81d107",
   "metadata": {},
   "outputs": [],
   "source": [
    "# Descreve os indices\n",
    "item.index"
   ]
  },
  {
   "cell_type": "code",
   "execution_count": null,
   "id": "f7bc357c",
   "metadata": {},
   "outputs": [],
   "source": [
    "# Descreve as colunas\n",
    "item.columns"
   ]
  },
  {
   "cell_type": "code",
   "execution_count": null,
   "id": "f751f7c2",
   "metadata": {},
   "outputs": [],
   "source": [
    "# Descreve o DataFrame\n",
    "item.info()"
   ]
  },
  {
   "cell_type": "code",
   "execution_count": null,
   "id": "5d367287",
   "metadata": {},
   "outputs": [],
   "source": [
    "# Mostra a qtd de linhas\n",
    "item.count()"
   ]
  },
  {
   "cell_type": "markdown",
   "id": "1da99b70",
   "metadata": {},
   "source": [
    "### 1. Exercício\n",
    "Visualize a estrutura dos dados de licitacoes. Para isso, importe o dataset de licitacao e mostre a estrutura de dados do dataset de licitacoes. Ou seja, mostre sua quantidade de linhas e colunas, seus índices, descreva suas colunas, descreva o dataframe e mostre a quantidade de linhas."
   ]
  },
  {
   "cell_type": "code",
   "execution_count": null,
   "id": "d8643a5d",
   "metadata": {},
   "outputs": [],
   "source": [
    "# 1. importe o dataset de licitacao\n",
    "\n",
    "# mostre a quantidade de linhas e colunas, índices, descreva suas colunas, descreva o dataframe\n"
   ]
  },
  {
   "cell_type": "markdown",
   "id": "73b5a21d",
   "metadata": {},
   "source": [
    "# 2. Como Explorar e Visualizar o Sumário dos dados\n",
    "* df.sum(): mostra a soma de valores\n",
    "* df.cumsum(): mostra a soma acumulada dos valores\n",
    "* df.min(): mostra o mínimo valor\n",
    "* df.max(): mostra o valor máximo\n",
    "* df.mean(): mostra a média\n",
    "* df.median(): mostra a mediana\n",
    "* df.describe(): mostra um sumário estatístico com a quantidade, média, desvio padrão (std), mínimo, primeiro quartil (25%), segundo quartil (50%), terceiro quartil (75%), valor máximo.\n",
    "\n",
    "### 2. Exercício\n",
    "Para o dataset de itens de licitacoes, gere seus sumários e responda às seguintes perguntas:\n",
    "1. Qual a soma de valores de quantidade de itens? \n",
    "2. Qual a diferença entre o resultado de sum() e cumsum() ?\n",
    "3. Qual o valor mínimo de quantidade de itens?\n",
    "4. Qual a maior quantidade de itens?\n",
    "5. Qual a média da quantidade de itens?\n",
    "6. Qual a mediana da quantidade de itens?\n",
    "7. Qual o desvio padrão da quantidade de itens?\n",
    "\n",
    "**Dica:** para gerar o sumário de uma coluna, utilize `dataframe.coluna.funcao()`. Exemplo: `licit.ano.min()`"
   ]
  },
  {
   "cell_type": "code",
   "execution_count": null,
   "id": "f18cf5c4",
   "metadata": {},
   "outputs": [],
   "source": [
    "# 1. Qual a soma de valores de quantidade de itens? \n",
    "# 2. Qual a diferença entre o resultado de sum() e cumsum() ?\n",
    "# 3. Qual o valor mínimo de quantidade de itens?\n",
    "# 4. Qual a maior quantidade de itens?\n",
    "# 5. Qual a média da quantidade de itens?\n",
    "# 6. Qual a mediana da quantidade de itens?\n",
    "# 7. Qual o desvio padrão da quantidade de itens?"
   ]
  },
  {
   "cell_type": "code",
   "execution_count": null,
   "id": "36b06544",
   "metadata": {},
   "outputs": [],
   "source": [
    "# Extra: Como desabilitar Notacao Científica\n",
    "pd.set_option('display.float_format', '{:.2f}'.format)\n",
    "\n",
    "# Descreve os Dados\n",
    "item.describe()"
   ]
  },
  {
   "cell_type": "markdown",
   "id": "e765de6d",
   "metadata": {},
   "source": [
    "## Material Complementar\n",
    "Para quem não se lembra de média, mediana, variancia, e desvio padrão..."
   ]
  },
  {
   "cell_type": "code",
   "execution_count": null,
   "id": "dd4cf407",
   "metadata": {},
   "outputs": [],
   "source": [
    "# Exemplo Simplificado: Vamos calcular o sumário deste dataset com 5 valores.\n",
    "a = pd.DataFrame({'a':[10,15,20,30,60]})\n",
    "a.head()"
   ]
  },
  {
   "cell_type": "code",
   "execution_count": null,
   "id": "2cf99226",
   "metadata": {},
   "outputs": [],
   "source": [
    "# Diferença entre mediana e média\n",
    "a.median() # mediana (o valor central) = 20\n",
    "a.sum() # 135\n",
    "a.mean() # media = soma dos valores / quantidade = 135 / 5 = 27\n",
    "\n",
    "# Variancia \n",
    "# (mede o quanto cada valor está distante da média) = abs(x1 - media)**2 + abs(x2 - media)**2 .. / n - 1\n",
    "# (abs(10-27)**2 + abs(15 - 27)**2 + abs(20 - 27)**2 + abs(30 - 27)**2 + abs(60 - 27)**2) / (5 - 1) = 395\n",
    "a.var() \n",
    "\n",
    "# STD - Standard Deviation ou Desvio Padrão\n",
    "# Mede o grau de dispersão dos dados. Indica o quanto um conjunto de dados é uniforme.\n",
    "# Qto mais proximo de 0, mais homogeneo. Por exemplo, o desvio padrão de [1,1,1] = 0\n",
    "import math\n",
    "math.sqrt(395)\n",
    "\n",
    "# Sumário\n",
    "a.describe()"
   ]
  },
  {
   "cell_type": "code",
   "execution_count": null,
   "id": "ac8c0547",
   "metadata": {},
   "outputs": [],
   "source": [
    "# Boxplot: Para visualizar os quartis, a mediana e os extremos (outliers)\n",
    "a.boxplot()"
   ]
  },
  {
   "cell_type": "markdown",
   "id": "608ce1e1",
   "metadata": {},
   "source": [
    "# 3. Principais Bibliotecas Python\n",
    "Bibliotecas python possuem uma série de funções já criadas. As principais bibliotecas Python usadas em ciência de dados e machine learning são:\n",
    "1. Numpy: manipulação de Dados\n",
    "2. Scipy: manipulação de Dados e estatística\n",
    "3. Pandas: manipulação de Dados\n",
    "4. Matplotlib: para Visualização de Dados\n",
    "5. Seaborn: para Visualização de Dados\n",
    "6. Scikit-learn: para Machine Learning\n",
    "7. TensorFlow: para Deep Learning\n",
    "8. NLTK: para Linguagem Natural\n",
    "9. StatsModel: estatística\n",
    "10. Scrapy: webscraping, raspagem de sites\n",
    "\n",
    "Não se preocupe em entender todas agora. Neste primeiro momento, você precisa aprender apenas como importar uma biblioteca, através do `import`. As bibliotecas são do tipo `module` ou módulos que apenas representam uma coleção de variáveis já definidas."
   ]
  },
  {
   "cell_type": "code",
   "execution_count": null,
   "id": "bdfe24cc",
   "metadata": {},
   "outputs": [],
   "source": [
    "# Importar uma biblioteca\n",
    "import pandas as pd\n",
    "print(\"Pandas tem o tipo {}\".format(type(pd)))"
   ]
  },
  {
   "cell_type": "markdown",
   "id": "1641d986",
   "metadata": {},
   "source": [
    "### Sobreposição de Bibliotecas\n",
    "Outra forma de importar bibliotecas é chamando apenas funções específicas. Esta é uma prática que evita a sobreposição de funções de bibliotecas. Por exemplo, tanto a `math` quanto a `numpy` possuem módulos chamados `log`, porém cada um com semântica diferente. Se importarmos `numpy` por último, ele irá sobrescrever a `math`. Nestes casos, é recomendável importar os módulos específicos de cada biblioteca, o que pode ser feito utilizando `from`, da seguinte forma:"
   ]
  },
  {
   "cell_type": "code",
   "execution_count": null,
   "id": "6cd33280",
   "metadata": {},
   "outputs": [],
   "source": [
    "# Importando módulos específicos das bibliotecas\n",
    "from math import log, pi\n",
    "from numpy import asarray"
   ]
  },
  {
   "cell_type": "code",
   "execution_count": null,
   "id": "a12b1a0e",
   "metadata": {},
   "outputs": [],
   "source": [
    "# Lembre que você pode sempre chamar um help() para ver a documentação, inclusive de bibliotecas\n",
    "help(pd)"
   ]
  },
  {
   "cell_type": "code",
   "execution_count": null,
   "id": "b98f506e",
   "metadata": {},
   "outputs": [],
   "source": [
    "# E pode querer relembrar qual o tipo \n",
    "type(pd)"
   ]
  },
  {
   "cell_type": "markdown",
   "id": "2b970481",
   "metadata": {},
   "source": [
    "### 3. Exercício\n",
    "Importe a biblioteca matplotlib e veja sua documentação."
   ]
  },
  {
   "cell_type": "code",
   "execution_count": null,
   "id": "f64da575",
   "metadata": {},
   "outputs": [],
   "source": [
    "# Importe a biblioteca matplotlib e veja sua documentação.\n"
   ]
  },
  {
   "cell_type": "markdown",
   "id": "7ddd8b18",
   "metadata": {},
   "source": [
    "# 4. Como gerar Gráficos\n",
    "Antes de começarmos a fazer os gráficos, vamos entender os principais tipos de gráficos, que são:\n",
    "\n",
    "![](https://previews.123rf.com/images/microone/microone1711/microone171100097/89138295-color-finance-data-chart-vector-icons-statistics-colorful-presentation-graphics-and-diagrams-chart-a.jpg)\n",
    "\n",
    "\n",
    "### Como escolher o melhor gráfico?\n",
    "![](https://associationanalytics.com/wp-content/uploads/2017/06/2017-06-24-09_26_24-visuals-reference-may2017-A3.pdf-Adobe-Acrobat-Reader-DC.png)\n",
    "\n",
    "### A quantidade de variáveis e categorias pode influenciar...\n",
    "![](https://oss.adm.ntu.edu.sg/bkuah001/wp-content/uploads/sites/985/2018/03/what-to-show-chart1.jpg)"
   ]
  },
  {
   "cell_type": "code",
   "execution_count": null,
   "id": "1fbf2dd6",
   "metadata": {},
   "outputs": [],
   "source": [
    "# Importa dados de licitacoes\n",
    "import pandas as pd\n",
    "licit = pd.read_csv('../input/licitacao.csv')"
   ]
  },
  {
   "cell_type": "code",
   "execution_count": null,
   "id": "44fcd0a6",
   "metadata": {},
   "outputs": [],
   "source": [
    "# Licitacoes por Modalidade\n",
    "licit.modalidade.value_counts()"
   ]
  },
  {
   "cell_type": "code",
   "execution_count": null,
   "id": "9c28fee3",
   "metadata": {},
   "outputs": [],
   "source": [
    "# Gráfico de Licitações por Modalidade\n",
    "import seaborn as sns\n",
    "sns.countplot(y='modalidade', data=licit)"
   ]
  },
  {
   "cell_type": "markdown",
   "id": "1bc2ff65",
   "metadata": {},
   "source": [
    "### 4. Exercícios\n",
    "\n",
    "1. Crie um gráfico de barras para mostrar a quantidade de licitacoes por situacao"
   ]
  },
  {
   "cell_type": "markdown",
   "id": "35a0bc87",
   "metadata": {},
   "source": [
    "2. Quais tipos de Gráficos podem ser gerados com as informações do dataset de licitacoes (licit)? Liste pelo menos 3 numa célula de markdown, explicando quais variáveis você usaria, qual seria o tipo do gráfico e o qual tipo de pergunta este gráfico responderia?"
   ]
  },
  {
   "cell_type": "markdown",
   "id": "4bb5b667",
   "metadata": {},
   "source": [
    "***\n",
    "# Respostas dos Exercícios"
   ]
  },
  {
   "cell_type": "code",
   "execution_count": null,
   "id": "fa016702",
   "metadata": {},
   "outputs": [],
   "source": [
    "# 1. RESPOSTA  Mostre a estrutura de dados do dataset de licitacoes\n",
    "import pandas as pd\n",
    "licit = pd.read_csv('../input/licitacao.csv')\n",
    "licit.shape\n",
    "licit.index\n",
    "licit.columns\n",
    "licit.info()\n",
    "licit.count()"
   ]
  },
  {
   "cell_type": "code",
   "execution_count": null,
   "id": "b4b925f1",
   "metadata": {},
   "outputs": [],
   "source": [
    "# 2. Para o dataset de item, gere os sumários da quantidade de itens\n",
    "item.qtdItem.sum()\n",
    "item.qtdItem.cumsum()\n",
    "item.qtdItem.min()\n",
    "item.qtdItem.min()\n",
    "item.qtdItem.max()\n",
    "item.qtdItem.describe()"
   ]
  },
  {
   "cell_type": "code",
   "execution_count": null,
   "id": "ec94d5eb",
   "metadata": {},
   "outputs": [],
   "source": [
    "# 3. RESPOSTA\n",
    "# Importe a biblioteca matplotlib e veja sua documentação.\n",
    "import matplotlib\n",
    "help(matplotlib)"
   ]
  },
  {
   "cell_type": "code",
   "execution_count": null,
   "id": "f39afe31",
   "metadata": {},
   "outputs": [],
   "source": [
    "# 4. Crie um gráfico para mostrar a quantidade de licitacoes por situacao\n",
    "sns.countplot(y='situacao', data=licit)"
   ]
  },
  {
   "cell_type": "markdown",
   "id": "7effc460",
   "metadata": {},
   "source": [
    "***\n",
    "# 5. Exercícios Complementares (opcional)\n",
    "1. [Exercícios Complementares de Seleção de Dados](https://www.kaggle.com/kernels/fork/587910)\n",
    "2. [Exercícios Complementares de Sumarização de Dados](https://www.kaggle.com/kernels/fork/595524)\n",
    "3. [Exercícios sobre Bibliotecas](https://www.kaggle.com/kernels/fork/1275190)\n",
    "4. [Exercícios sobre Criação de Gráficos](https://www.kaggle.com/kernels/fork/3303713)\n",
    "\n",
    "***\n",
    "\n",
    "### Próxima Aula\n",
    "[4. Raspagem de Sites](https://www.kaggle.com/deborareis/4-raspagem-de-sites/)"
   ]
  }
 ],
 "metadata": {},
 "nbformat": 4,
 "nbformat_minor": 5
}
