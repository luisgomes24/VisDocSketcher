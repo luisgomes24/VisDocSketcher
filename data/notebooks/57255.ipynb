{
 "cells": [
  {
   "cell_type": "code",
   "execution_count": null,
   "id": "9a3857ca",
   "metadata": {},
   "outputs": [],
   "source": [
    "1+1"
   ]
  },
  {
   "cell_type": "code",
   "execution_count": null,
   "id": "3a51c442",
   "metadata": {},
   "outputs": [],
   "source": [
    "import os"
   ]
  },
  {
   "cell_type": "code",
   "execution_count": null,
   "id": "ff91c2f3",
   "metadata": {},
   "outputs": [],
   "source": [
    "os.listdir(\".\")"
   ]
  },
  {
   "cell_type": "code",
   "execution_count": null,
   "id": "f17253ad",
   "metadata": {},
   "outputs": [],
   "source": [
    "with open(\"config.json\") as c:"
   ]
  },
  {
   "cell_type": "code",
   "execution_count": null,
   "id": "07e55430",
   "metadata": {},
   "outputs": [],
   "source": [
    "with open(\"config.json\") as c:\n",
    "    data = c.read()\n",
    "data"
   ]
  },
  {
   "cell_type": "code",
   "execution_count": null,
   "id": "3ebe987c",
   "metadata": {},
   "outputs": [],
   "source": [
    "nan"
   ]
  }
 ],
 "metadata": {},
 "nbformat": 4,
 "nbformat_minor": 5
}
