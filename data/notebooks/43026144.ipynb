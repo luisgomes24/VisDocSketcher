{
 "cells": [
  {
   "cell_type": "markdown",
   "id": "980f08a7",
   "metadata": {},
   "source": [
    "# Importing Necessary Libraries\n"
   ]
  },
  {
   "cell_type": "code",
   "execution_count": null,
   "id": "efa58cd2",
   "metadata": {},
   "outputs": [],
   "source": [
    "import pandas as pd\n",
    "from sklearn.model_selection import train_test_split\n",
    "from sklearn.ensemble import RandomForestClassifier"
   ]
  },
  {
   "cell_type": "markdown",
   "id": "e22794e9",
   "metadata": {},
   "source": [
    "# Loading Dataset\n",
    "Loading the dataset to pandas dataframe"
   ]
  },
  {
   "cell_type": "code",
   "execution_count": null,
   "id": "552ba7a2",
   "metadata": {},
   "outputs": [],
   "source": [
    "df = pd.read_csv('/kaggle/input/world-university-rankings-2023-clean-dataset/Preprocessed World University Rankings 2023 Dataset.csv')\n",
    "df.head()"
   ]
  },
  {
   "cell_type": "markdown",
   "id": "227b75e9",
   "metadata": {},
   "source": [
    "# Extracting Target Variable\n",
    "Since we will be predicting on 'University Rank' we will seperate it"
   ]
  },
  {
   "cell_type": "code",
   "execution_count": null,
   "id": "c5449054",
   "metadata": {},
   "outputs": [],
   "source": [
    "y = df['University Rank']\n",
    "x = df.drop(['University Rank'], axis = 'columns')\n",
    "print(x.head())\n",
    "print(y.head())"
   ]
  },
  {
   "cell_type": "markdown",
   "id": "c1f05397",
   "metadata": {},
   "source": [
    "# Splitting Dataset\n",
    "We have our dataset preprocessed for splitting it. We will train on 70% of the dataset and test on 30% of it."
   ]
  },
  {
   "cell_type": "code",
   "execution_count": null,
   "id": "215c2095",
   "metadata": {},
   "outputs": [],
   "source": [
    "x_train, x_test, y_train, y_test = train_test_split(x, y, test_size=0.3)"
   ]
  },
  {
   "cell_type": "markdown",
   "id": "d52b979f",
   "metadata": {},
   "source": [
    "# Model Training\n",
    "We will train the random forest model"
   ]
  },
  {
   "cell_type": "code",
   "execution_count": null,
   "id": "9ea36e8c",
   "metadata": {},
   "outputs": [],
   "source": [
    "model = RandomForestClassifier(criterion=\"entropy\", n_estimators=200)\n",
    "model.fit(x_train, y_train)"
   ]
  },
  {
   "cell_type": "markdown",
   "id": "e448ebdc",
   "metadata": {},
   "source": [
    "# Score of Model Predicting on Rank\n",
    "We will see the score of this model on predicting"
   ]
  },
  {
   "cell_type": "code",
   "execution_count": null,
   "id": "fe283c8f",
   "metadata": {},
   "outputs": [],
   "source": [
    "model.score(x_test, y_test)"
   ]
  }
 ],
 "metadata": {},
 "nbformat": 4,
 "nbformat_minor": 5
}
