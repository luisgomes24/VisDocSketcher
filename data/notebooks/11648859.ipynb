{
 "cells": [
  {
   "cell_type": "code",
   "execution_count": null,
   "id": "8051449a",
   "metadata": {},
   "outputs": [],
   "source": [
    "# This Python 3 environment comes with many helpful analytics libraries installed\n",
    "# It is defined by the kaggle/python Docker image: https://github.com/kaggle/docker-python\n",
    "# For example, here's several helpful packages to load\n",
    "\n",
    "import numpy as np # linear algebra\n",
    "import pandas as pd # data processing, CSV file I/O (e.g. pd.read_csv)\n",
    "from matplotlib import pyplot as plt\n",
    "import seaborn as sns\n",
    "# Input data files are available in the read-only \"../input/\" directory\n",
    "# For example, running this (by clicking run or pressing Shift+Enter) will list all files under the input directory\n",
    "\n",
    "import os\n",
    "for dirname, _, filenames in os.walk('/kaggle/input'):\n",
    "    for filename in filenames:\n",
    "        print(os.path.join(dirname, filename))\n",
    "\n",
    "# You can write up to 5GB to the current directory (/kaggle/working/) that gets preserved as output when you create a version using \"Save & Run All\" \n",
    "# You can also write temporary files to /kaggle/temp/, but they won't be saved outside of the current session"
   ]
  },
  {
   "cell_type": "code",
   "execution_count": null,
   "id": "a0df6191",
   "metadata": {},
   "outputs": [],
   "source": [
    "users=pd.read_csv('/kaggle/input/bookcrossing-dataset/Book reviews/BX-Users.csv',sep=';',encoding='latin')\n",
    "users.head()"
   ]
  },
  {
   "cell_type": "code",
   "execution_count": null,
   "id": "bf59fce8",
   "metadata": {},
   "outputs": [],
   "source": [
    "i_cols = ['isbn', 'book_title' ,'book_author','year_of_publication', 'publisher', 'img_s', 'img_m', 'img_l']\n",
    "books = pd.read_csv('../input/bookcrossing-dataset/Book reviews/BX-Books.csv', sep=';', names=i_cols, encoding='latin-1',low_memory=False)\n",
    "books.head()"
   ]
  },
  {
   "cell_type": "code",
   "execution_count": null,
   "id": "10da17e0",
   "metadata": {},
   "outputs": [],
   "source": [
    "ratings=pd.read_csv('/kaggle/input/bookcrossing-dataset/Book reviews/BX-Book-Ratings.csv',sep=';',encoding='latin')\n",
    "ratings=ratings.rename(columns={'ISBN':'isbn'})\n",
    "ratings.head()"
   ]
  },
  {
   "cell_type": "markdown",
   "id": "767859ac",
   "metadata": {},
   "source": [
    "Merging of Datasets"
   ]
  },
  {
   "cell_type": "code",
   "execution_count": null,
   "id": "32baf3a0",
   "metadata": {},
   "outputs": [],
   "source": [
    "user=pd.merge(users,ratings,on='User-ID')\n",
    "dataset=pd.merge(user,books,on='isbn')\n",
    "dataset.head()"
   ]
  },
  {
   "cell_type": "code",
   "execution_count": null,
   "id": "4cc801c1",
   "metadata": {},
   "outputs": [],
   "source": [
    "location=dataset.Location.str.split(', ',n=2,expand=True)\n",
    "location.columns=['City','State','Country']\n",
    "dataset['City']=location['City']\n",
    "dataset['State']=location['State']\n",
    "dataset['Country']=location['Country']\n",
    "dataset.head()"
   ]
  },
  {
   "cell_type": "code",
   "execution_count": null,
   "id": "8e83ce1c",
   "metadata": {},
   "outputs": [],
   "source": [
    "data=dataset.drop(columns=['Age','Location','img_s','img_m','img_l'],axis=1)\n",
    "data.head()"
   ]
  },
  {
   "cell_type": "code",
   "execution_count": null,
   "id": "c78f2ba9",
   "metadata": {},
   "outputs": [],
   "source": [
    "data['Reviews']=np.where(data['Book-Rating']>4,1,0)\n",
    "data.head()"
   ]
  },
  {
   "cell_type": "code",
   "execution_count": null,
   "id": "85e2aee3",
   "metadata": {},
   "outputs": [],
   "source": [
    "data['Book_title_City_Reviewed']=data[['book_title','City','State']].apply(lambda x:','.join(x),axis=1)\n",
    "data.head()"
   ]
  },
  {
   "cell_type": "markdown",
   "id": "72733b37",
   "metadata": {},
   "source": [
    "Removing Rows with Country as (n/a)"
   ]
  },
  {
   "cell_type": "code",
   "execution_count": null,
   "id": "9df24b99",
   "metadata": {},
   "outputs": [],
   "source": [
    "new_data=data[data['Country']!='n/a']\n",
    "new_data.head()"
   ]
  },
  {
   "cell_type": "code",
   "execution_count": null,
   "id": "94541b45",
   "metadata": {},
   "outputs": [],
   "source": [
    "sns.pairplot(data)\n",
    "plt.show()"
   ]
  },
  {
   "cell_type": "code",
   "execution_count": null,
   "id": "2ae6dd22",
   "metadata": {},
   "outputs": [],
   "source": [
    "print('Average Of Reviews with not good Remarks', len(data.loc[data['Reviews']==0])/len(data.loc[data['Reviews']]))\n",
    "print('Average Of Reviews with  good Remarks', len(data.loc[data['Reviews']==1])/len(data.loc[data['Reviews']]))     "
   ]
  },
  {
   "cell_type": "code",
   "execution_count": null,
   "id": "8ea65dcc",
   "metadata": {},
   "outputs": [],
   "source": [
    "good_remarks=[len(x) for x in data.loc[data['Reviews']==1,'book_title']]              \n",
    "notgood_remarks=[len(x) for x in data.loc[data['Reviews']==0,'book_title']] \n",
    "print('Average length of Book Title for good remarks',np.mean(good_remarks))\n",
    "print('Average length of Book Title for not good remarks',np.mean(notgood_remarks))"
   ]
  },
  {
   "cell_type": "markdown",
   "id": "bc0a0385",
   "metadata": {},
   "source": [
    "Training of Model"
   ]
  },
  {
   "cell_type": "code",
   "execution_count": null,
   "id": "133865b8",
   "metadata": {},
   "outputs": [],
   "source": [
    "from sklearn.feature_extraction.text import CountVectorizer\n",
    "from sklearn.model_selection import train_test_split\n",
    "from sklearn import metrics\n",
    "from sklearn.naive_bayes import MultinomialNB\n",
    "X=new_data['Book_title_City_Reviewed']\n",
    "y=new_data['Reviews']\n",
    "X_train,X_test,y_train,y_test=train_test_split(X,y,random_state=0)\n",
    "vect=CountVectorizer(min_df=5,ngram_range=(1,2)).fit(X_train)"
   ]
  },
  {
   "cell_type": "code",
   "execution_count": null,
   "id": "276c4a80",
   "metadata": {},
   "outputs": [],
   "source": [
    "X_train_trans=vect.transform(X_train)\n",
    "lr=MultinomialNB(alpha=0.1).fit(X_train_trans,y_train)\n",
    "predict=lr.predict(vect.transform(X_test))\n",
    "names=np.array(vect.get_feature_names())\n",
    "coeff=lr.coef_[0].argsort()"
   ]
  },
  {
   "cell_type": "code",
   "execution_count": null,
   "id": "71dd9e89",
   "metadata": {},
   "outputs": [],
   "source": [
    "print('roc_auc_score {:.2%}'.format(metrics.roc_auc_score(y_test,predict)))\n"
   ]
  },
  {
   "cell_type": "code",
   "execution_count": null,
   "id": "24c40dd5",
   "metadata": {},
   "outputs": [],
   "source": [
    "largest=names[coeff[:-11:-1]]\n",
    "smallest=names[coeff[:10]]\n",
    "not_good_remarks=pd.DataFrame(coeff[:10],index=smallest,columns=['Count'])\n",
    "good_remarks=pd.DataFrame(coeff[:-11:-1],index=largest,columns=['Count'])\n"
   ]
  },
  {
   "cell_type": "markdown",
   "id": "d67d0a01",
   "metadata": {},
   "source": [
    "Creating Dataframes of book title frequency for respective reviews"
   ]
  },
  {
   "cell_type": "code",
   "execution_count": null,
   "id": "b9883752",
   "metadata": {},
   "outputs": [],
   "source": [
    "not_good_remarks.head()"
   ]
  },
  {
   "cell_type": "code",
   "execution_count": null,
   "id": "96d086c3",
   "metadata": {},
   "outputs": [],
   "source": [
    "print('Average Frequency titles' ,np.mean(not_good_remarks['Count']))"
   ]
  },
  {
   "cell_type": "code",
   "execution_count": null,
   "id": "0dea8413",
   "metadata": {},
   "outputs": [],
   "source": [
    "good_remarks.head()"
   ]
  },
  {
   "cell_type": "code",
   "execution_count": null,
   "id": "b949f19c",
   "metadata": {},
   "outputs": [],
   "source": [
    "print('Average Frequency of titles',np.mean(good_remarks['Count']))"
   ]
  },
  {
   "cell_type": "code",
   "execution_count": null,
   "id": "cbc6e502",
   "metadata": {},
   "outputs": [],
   "source": [
    "plt.plot(not_good_remarks['Count'])\n",
    "plt.xticks(rotation=45)\n",
    "plt.xlabel('Titles')\n",
    "plt.ylabel('Frequency')\n",
    "plt.title('NotGood_Remarks Title with its Frequency')\n",
    "plt.show()"
   ]
  },
  {
   "cell_type": "code",
   "execution_count": null,
   "id": "cb8b8e0c",
   "metadata": {},
   "outputs": [],
   "source": [
    "plt.plot(good_remarks['Count'])\n",
    "plt.xticks(rotation=45)\n",
    "plt.xlabel('Titles')\n",
    "plt.ylabel('Frequency')\n",
    "plt.title('Good_Remarks Title with its Frequency')\n",
    "plt.show()"
   ]
  },
  {
   "cell_type": "code",
   "execution_count": null,
   "id": "e1744ef3",
   "metadata": {},
   "outputs": [],
   "source": [
    "nan"
   ]
  }
 ],
 "metadata": {},
 "nbformat": 4,
 "nbformat_minor": 5
}
