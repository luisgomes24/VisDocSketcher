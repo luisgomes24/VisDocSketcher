{
 "cells": [
  {
   "cell_type": "code",
   "execution_count": null,
   "id": "f65f4e2f",
   "metadata": {},
   "outputs": [],
   "source": [
    "import matplotlib.pyplot as plt # For plot configuration\n",
    "import numpy as np              # For numerical operations\n",
    "import pandas as pd             # For database management\n",
    "import seaborn as sns           # For plotting data easily\n",
    "\n",
    "import warnings\n",
    "warnings.filterwarnings(\"ignore\")\n",
    "\n",
    "sns.set()"
   ]
  },
  {
   "cell_type": "code",
   "execution_count": null,
   "id": "aa658787",
   "metadata": {},
   "outputs": [],
   "source": [
    "dat = pd.read_csv('../input/lemonadesales/lemonade_clean.csv')\n",
    "n_rows, n_cols = dat.shape\n",
    "print('The dataset has {} rows and {} columns.'.format(n_rows, n_cols))\n",
    "dat.head()"
   ]
  },
  {
   "cell_type": "code",
   "execution_count": null,
   "id": "219fbab2",
   "metadata": {},
   "outputs": [],
   "source": [
    "columns = dat.columns\n",
    "print('Columns names: {}.'.format(columns.tolist()))"
   ]
  },
  {
   "cell_type": "code",
   "execution_count": null,
   "id": "e77a2350",
   "metadata": {},
   "outputs": [],
   "source": [
    "sns.pairplot(data=dat, \n",
    "             kind='reg')"
   ]
  },
  {
   "cell_type": "code",
   "execution_count": null,
   "id": "bd27637a",
   "metadata": {},
   "outputs": [],
   "source": [
    "corr = dat.corr()\n",
    "corr.style.background_gradient()\n",
    "corr.style.background_gradient().set_precision(2)"
   ]
  },
  {
   "cell_type": "code",
   "execution_count": null,
   "id": "7014fbe3",
   "metadata": {},
   "outputs": [],
   "source": [
    "import matplotlib.pyplot as plt\n",
    "%matplotlib inline\n",
    "import seaborn as sb\n",
    "sb.set(style=\"darkgrid\")\n",
    "\n",
    "cols = ['flyers','price','sales']\n",
    "sb.pairplot(dat[cols])"
   ]
  },
  {
   "cell_type": "code",
   "execution_count": null,
   "id": "43d61518",
   "metadata": {},
   "outputs": [],
   "source": [
    "set1 = ['flyers']\n",
    "sb.lineplot(data=dat[set1], linewidth=2.5)"
   ]
  },
  {
   "cell_type": "code",
   "execution_count": null,
   "id": "072539e5",
   "metadata": {},
   "outputs": [],
   "source": [
    "set2 = ['sales']\n",
    "sb.lineplot(data=dat[set2], linewidth=2.5)"
   ]
  },
  {
   "cell_type": "code",
   "execution_count": null,
   "id": "bd6c6b2f",
   "metadata": {},
   "outputs": [],
   "source": [
    "set3 = ['price']\n",
    "sb.lineplot(data=dat[set3], linewidth=2.5)"
   ]
  }
 ],
 "metadata": {},
 "nbformat": 4,
 "nbformat_minor": 5
}
