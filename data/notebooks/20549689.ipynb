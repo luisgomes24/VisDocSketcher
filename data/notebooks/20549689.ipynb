{
 "cells": [
  {
   "cell_type": "markdown",
   "id": "390deeb1",
   "metadata": {},
   "source": [
    "# Import libraries"
   ]
  },
  {
   "cell_type": "code",
   "execution_count": null,
   "id": "87d0c84c",
   "metadata": {},
   "outputs": [],
   "source": [
    "import warnings\n",
    "warnings.filterwarnings('ignore')\n",
    "import pandas as pd\n",
    "import matplotlib.pyplot as plt\n",
    "import seaborn as sns"
   ]
  },
  {
   "cell_type": "markdown",
   "id": "0c776055",
   "metadata": {},
   "source": [
    "# Get the data"
   ]
  },
  {
   "cell_type": "code",
   "execution_count": null,
   "id": "fe4162bd",
   "metadata": {},
   "outputs": [],
   "source": [
    "df=df=pd.read_csv(\"../input/persona-data/persona.csv\")"
   ]
  },
  {
   "cell_type": "code",
   "execution_count": null,
   "id": "7c1ea8b7",
   "metadata": {},
   "outputs": [],
   "source": [
    "data=df.copy()"
   ]
  },
  {
   "cell_type": "code",
   "execution_count": null,
   "id": "efbd2682",
   "metadata": {},
   "outputs": [],
   "source": [
    "df.head()"
   ]
  },
  {
   "cell_type": "code",
   "execution_count": null,
   "id": "fdb44f95",
   "metadata": {},
   "outputs": [],
   "source": [
    "df.info()"
   ]
  },
  {
   "cell_type": "code",
   "execution_count": null,
   "id": "7b52e36f",
   "metadata": {},
   "outputs": [],
   "source": [
    "df.columns"
   ]
  },
  {
   "cell_type": "code",
   "execution_count": null,
   "id": "0a56682d",
   "metadata": {},
   "outputs": [],
   "source": [
    "df.shape"
   ]
  },
  {
   "cell_type": "code",
   "execution_count": null,
   "id": "1f55c817",
   "metadata": {},
   "outputs": [],
   "source": [
    "df.dtypes"
   ]
  },
  {
   "cell_type": "code",
   "execution_count": null,
   "id": "b63a4e1a",
   "metadata": {},
   "outputs": [],
   "source": [
    "df.isnull().sum().sum()"
   ]
  },
  {
   "cell_type": "code",
   "execution_count": null,
   "id": "dc7f6361",
   "metadata": {},
   "outputs": [],
   "source": [
    "df.describe().T"
   ]
  },
  {
   "cell_type": "markdown",
   "id": "4a8d504e",
   "metadata": {},
   "source": [
    "# EDA"
   ]
  },
  {
   "cell_type": "code",
   "execution_count": null,
   "id": "69a0e754",
   "metadata": {},
   "outputs": [],
   "source": [
    "numeric_cols=list(df._get_numeric_data().columns)\n",
    "print(numeric_cols)"
   ]
  },
  {
   "cell_type": "code",
   "execution_count": null,
   "id": "52473317",
   "metadata": {},
   "outputs": [],
   "source": [
    "categoric_cols=list(set(df.columns)-set(numeric_cols))\n",
    "print(categoric_cols)"
   ]
  },
  {
   "cell_type": "code",
   "execution_count": null,
   "id": "cbf420f2",
   "metadata": {},
   "outputs": [],
   "source": [
    "f, ax = plt.subplots(figsize= [20,15])\n",
    "sns.heatmap(df.corr(), annot=True, fmt=\".2f\", ax=ax, cmap = \"magma\" )\n",
    "ax.set_title(\"Correlation Matrix\", fontsize=20)\n",
    "plt.show()"
   ]
  },
  {
   "cell_type": "code",
   "execution_count": null,
   "id": "5dd75e9b",
   "metadata": {},
   "outputs": [],
   "source": [
    "for col in categoric_cols:\n",
    "    print(f'###############{col}###############')\n",
    "    print(df[col].value_counts())"
   ]
  },
  {
   "cell_type": "code",
   "execution_count": null,
   "id": "58fbfd7a",
   "metadata": {},
   "outputs": [],
   "source": [
    "for col in categoric_cols:\n",
    "    \n",
    "    sns.countplot(x=df[col])\n",
    "    plt.show()"
   ]
  },
  {
   "cell_type": "code",
   "execution_count": null,
   "id": "99ddb755",
   "metadata": {},
   "outputs": [],
   "source": [
    "plt.figure(figsize=[16, 8])\n",
    "plt.pie(x=df['COUNTRY'].value_counts(), autopct=\"%.2f\", labels=df['COUNTRY'].value_counts().index)\n",
    "plt.title(\"Country distribution\", fontsize=14)"
   ]
  },
  {
   "cell_type": "code",
   "execution_count": null,
   "id": "a133be86",
   "metadata": {},
   "outputs": [],
   "source": [
    "for i in df._get_numeric_data().columns:\n",
    "    fig, axes = plt.subplots(nrows=1, ncols=3, figsize=(20, 4))\n",
    "    sns.histplot(df[i], bins=10, ax=axes[0])\n",
    "    axes[0].set_title(i)\n",
    "    \n",
    "    sns.boxplot(df[i], ax=axes[1])\n",
    "    axes[1].set_title(i)\n",
    "   \n",
    "    sns.kdeplot(df[i], ax=axes[2])\n",
    "    axes[2].set_title(i)\n",
    "    plt.show()"
   ]
  },
  {
   "cell_type": "code",
   "execution_count": null,
   "id": "e822f794",
   "metadata": {},
   "outputs": [],
   "source": [
    "#How much was earned in total from sales by country?\n",
    "print(df.groupby('COUNTRY').agg({'PRICE':'sum'}))"
   ]
  },
  {
   "cell_type": "code",
   "execution_count": null,
   "id": "0cdd76bf",
   "metadata": {},
   "outputs": [],
   "source": [
    "#What are the PRICE averages by country?\n",
    "print(df.groupby('COUNTRY').agg({'PRICE':'mean'}))"
   ]
  },
  {
   "cell_type": "code",
   "execution_count": null,
   "id": "d1aed38d",
   "metadata": {},
   "outputs": [],
   "source": [
    "#What are the PRICE averages by SOURCEs?\n",
    "print(df.groupby('SOURCE').agg({'PRICE':'mean'}))"
   ]
  },
  {
   "cell_type": "code",
   "execution_count": null,
   "id": "17281a69",
   "metadata": {},
   "outputs": [],
   "source": [
    "#What are the PRICE averages in the COUNTRY-SOURCE breakdown?\n",
    "df.groupby([\"COUNTRY\",\"SOURCE\"]).agg({\"PRICE\":\"mean\"})"
   ]
  },
  {
   "cell_type": "code",
   "execution_count": null,
   "id": "de1505a5",
   "metadata": {},
   "outputs": [],
   "source": [
    "#What are the total gains broken down by COUNTRY, SOURCE, SEX, AGE?\n",
    "df.groupby([\"COUNTRY\",\"SOURCE\",\"SEX\",\"AGE\"]).agg({\"PRICE\": \"mean\"})"
   ]
  },
  {
   "cell_type": "code",
   "execution_count": null,
   "id": "c407a05a",
   "metadata": {},
   "outputs": [],
   "source": [
    "#Sort the output by PRICE\n",
    "agg_df = df.groupby([\"COUNTRY\",\"SOURCE\",\"SEX\",\"AGE\"]).agg({\"PRICE\":\"mean\"}).sort_values(\"PRICE\", ascending=False)"
   ]
  },
  {
   "cell_type": "code",
   "execution_count": null,
   "id": "dfc097b4",
   "metadata": {},
   "outputs": [],
   "source": [
    "agg_df.head()"
   ]
  },
  {
   "cell_type": "code",
   "execution_count": null,
   "id": "46787fc3",
   "metadata": {},
   "outputs": [],
   "source": [
    "agg_df.index"
   ]
  },
  {
   "cell_type": "code",
   "execution_count": null,
   "id": "0507c025",
   "metadata": {},
   "outputs": [],
   "source": [
    "agg_df.reset_index(inplace=True)"
   ]
  },
  {
   "cell_type": "code",
   "execution_count": null,
   "id": "c77e60d3",
   "metadata": {},
   "outputs": [],
   "source": [
    "agg_df.head()"
   ]
  },
  {
   "cell_type": "code",
   "execution_count": null,
   "id": "14fd8c7e",
   "metadata": {},
   "outputs": [],
   "source": [
    "#Convert age variable to categorical variable and add it to agg_df\n",
    "agg_df[\"AGE_CAT\"] = pd.cut(agg_df[\"AGE\"], bins=[0, 18, 24, 30, 40, 70], labels=[\"0_18\", \"19_23\", \"24_30\", \"31_40\", \"41_70\"])"
   ]
  },
  {
   "cell_type": "code",
   "execution_count": null,
   "id": "b6c482ab",
   "metadata": {},
   "outputs": [],
   "source": [
    "agg_df.head()"
   ]
  },
  {
   "cell_type": "code",
   "execution_count": null,
   "id": "0f7201f7",
   "metadata": {},
   "outputs": [],
   "source": [
    "#Identify new level-based customers\n",
    "agg_df[\"customers_level_based\"]=[ \n",
    "    agg_df['COUNTRY'][i]+'_'+agg_df['SOURCE'][i]+'_'+agg_df['SEX'][i]+'_'+str(agg_df['AGE_CAT'][i])\n",
    " for i in agg_df.index]"
   ]
  },
  {
   "cell_type": "code",
   "execution_count": null,
   "id": "d99f2589",
   "metadata": {},
   "outputs": [],
   "source": [
    "agg_df.head()"
   ]
  },
  {
   "cell_type": "code",
   "execution_count": null,
   "id": "cf32a87d",
   "metadata": {},
   "outputs": [],
   "source": [
    "agg_df[\"customers_level_based\"].value_counts()"
   ]
  },
  {
   "cell_type": "code",
   "execution_count": null,
   "id": "92cb77bb",
   "metadata": {},
   "outputs": [],
   "source": [
    "agg_df.groupby([\"customers_level_based\"]).agg({'PRICE':'mean'})"
   ]
  },
  {
   "cell_type": "code",
   "execution_count": null,
   "id": "ee19e70a",
   "metadata": {},
   "outputs": [],
   "source": [
    "agg_df=agg_df.groupby([\"customers_level_based\"]).agg({'PRICE':'mean'}).reset_index()"
   ]
  },
  {
   "cell_type": "code",
   "execution_count": null,
   "id": "db7dfb40",
   "metadata": {},
   "outputs": [],
   "source": [
    "agg_df.head()"
   ]
  },
  {
   "cell_type": "code",
   "execution_count": null,
   "id": "6560f1d2",
   "metadata": {},
   "outputs": [],
   "source": [
    "agg_df[\"SEGMENT\"] = pd.qcut(agg_df[\"PRICE\"], 4, labels=[\"D\",\"C\",\"B\",\"A\"])"
   ]
  },
  {
   "cell_type": "code",
   "execution_count": null,
   "id": "ff2d3095",
   "metadata": {},
   "outputs": [],
   "source": [
    "agg_df.head()"
   ]
  },
  {
   "cell_type": "code",
   "execution_count": null,
   "id": "ffcd6ca4",
   "metadata": {},
   "outputs": [],
   "source": [
    "agg_df.groupby(\"SEGMENT\").agg({\"PRICE\" : [\"mean\", \"max\", \"sum\"]})"
   ]
  },
  {
   "cell_type": "markdown",
   "id": "c0274cc0",
   "metadata": {},
   "source": [
    "# Prediction"
   ]
  },
  {
   "cell_type": "markdown",
   "id": "3bf4ce8e",
   "metadata": {},
   "source": [
    "###### Classify new customers according to their segments and estimate how much income it can generate."
   ]
  },
  {
   "cell_type": "code",
   "execution_count": null,
   "id": "fed84cb0",
   "metadata": {},
   "outputs": [],
   "source": [
    "#For example, which segment does a 35 year old French woman using ios belong to?\n",
    "new_user1 = \"FRA_IOS_FEMALE_31_40\"\n",
    "agg_df[agg_df[\"customers_level_based\"] == new_user1.lower()] #C segmenti"
   ]
  },
  {
   "cell_type": "code",
   "execution_count": null,
   "id": "2575a1ad",
   "metadata": {},
   "outputs": [],
   "source": [
    "#Which segment does a 26 year old American man using IOS belong to?\n",
    "new_user2 = \"USA_IOS_MALE_24_30\"\n",
    "agg_df[agg_df[\"customers_level_based\"] == new_user2.lower()]"
   ]
  },
  {
   "cell_type": "code",
   "execution_count": null,
   "id": "b436a5cb",
   "metadata": {},
   "outputs": [],
   "source": [
    "new_user3 = \"TUR_ANDROID_FEMALE_31_40\"\n",
    "agg_df[agg_df[\"customers_level_based\"] == new_user3.lower()]"
   ]
  }
 ],
 "metadata": {},
 "nbformat": 4,
 "nbformat_minor": 5
}
