{
 "cells": [
  {
   "cell_type": "code",
   "execution_count": null,
   "id": "4fd71af3",
   "metadata": {},
   "outputs": [],
   "source": [
    "import numpy as np\n",
    "import pandas as pd\n",
    "import zipfile\n",
    "from zipfile import ZipFile\n",
    "from sklearn.feature_extraction.text import TfidfVectorizer\n",
    "from sklearn.model_selection import train_test_split, cross_val_score\n",
    "from sklearn.metrics import accuracy_score, classification_report, confusion_matrix\n",
    "from sklearn.linear_model import LogisticRegression\n",
    "from sklearn.metrics import confusion_matrix\n",
    "from sklearn.metrics import classification_report\n",
    "import os\n",
    "import pickle\n",
    "import numpy\n",
    "from keras.datasets import imdb\n",
    "from keras.models import Sequential\n",
    "from keras.layers import Dense\n",
    "from keras.layers import LSTM,Dropout\n",
    "from keras.layers.embeddings import Embedding\n",
    "from keras.preprocessing import sequence\n",
    "from keras.preprocessing.text import Tokenizer\n",
    "from keras.preprocessing.sequence import pad_sequences\n",
    "from keras.callbacks import EarlyStopping\n",
    "import os\n",
    "print(os.listdir(\"../input\"))"
   ]
  },
  {
   "cell_type": "code",
   "execution_count": null,
   "id": "3ae0e2a5",
   "metadata": {},
   "outputs": [],
   "source": [
    "train = pd.read_csv('../input/train.csv')\n",
    "test = pd.read_csv('../input/test.csv')\n",
    "sub = pd.read_csv('../input/sample_submission.csv')"
   ]
  },
  {
   "cell_type": "code",
   "execution_count": null,
   "id": "bb5abaa7",
   "metadata": {},
   "outputs": [],
   "source": [
    "train.shape,test.shape"
   ]
  },
  {
   "cell_type": "code",
   "execution_count": null,
   "id": "1ef794b1",
   "metadata": {},
   "outputs": [],
   "source": [
    "num_words = 20000\n",
    "max_len = 220\n",
    "emb_size = 256\n",
    "num_model = 1"
   ]
  },
  {
   "cell_type": "code",
   "execution_count": null,
   "id": "490feebe",
   "metadata": {},
   "outputs": [],
   "source": [
    "tokenizer=Tokenizer(num_words=num_words)\n",
    "tokenizer.fit_on_texts(list(train['comment_text']) + list(test['comment_text']))\n",
    "\n",
    "with open('tokenizer.pickle', 'wb') as handle:\n",
    "    pickle.dump(tokenizer, handle, protocol=pickle.HIGHEST_PROTOCOL)\n",
    "\n",
    "Y=np.where(train['target']>=0.5,1,0)"
   ]
  },
  {
   "cell_type": "code",
   "execution_count": null,
   "id": "8b698656",
   "metadata": {},
   "outputs": [],
   "source": [
    "print(tokenizer.document_count)"
   ]
  },
  {
   "cell_type": "code",
   "execution_count": null,
   "id": "08b40ece",
   "metadata": {},
   "outputs": [],
   "source": [
    "# X = tokenizer.texts_to_sequences(list(train['comment_text']))\n",
    "# test_X = tokenizer.texts_to_sequences(list(test['comment_text']))"
   ]
  },
  {
   "cell_type": "code",
   "execution_count": null,
   "id": "1cd4493a",
   "metadata": {},
   "outputs": [],
   "source": [
    "# X = sequence.pad_sequences(X, maxlen = max_len)\n",
    "# test_X = sequence.pad_sequences(test_X, maxlen = max_len)"
   ]
  },
  {
   "cell_type": "code",
   "execution_count": null,
   "id": "0b67de1d",
   "metadata": {},
   "outputs": [],
   "source": [
    "# create the model\n",
    "# embedding_vecor_length = emb_size\n",
    "# model = Sequential()\n",
    "# model.add(Embedding(num_words, embedding_vecor_length, input_length=X.shape[1]))\n",
    "# model.add(Dropout(0.25))\n",
    "# model.add(LSTM(128))\n",
    "# model.add(Dropout(0.2))\n",
    "# model.add(Dense(1, activation='sigmoid'))\n",
    "# model.compile(loss='binary_crossentropy', optimizer='adam', metrics=['accuracy'])\n",
    "# print(model.summary())"
   ]
  },
  {
   "cell_type": "code",
   "execution_count": null,
   "id": "0dcb66e7",
   "metadata": {},
   "outputs": [],
   "source": [
    "# score=[]\n",
    "# predictions=[]\n",
    "# for i in range(num_model):\n",
    "#     X_train,X_test,Y_train,Y_test=train_test_split(X,Y,test_size=0.20)\n",
    "#     es = EarlyStopping(monitor='val_loss', patience=100)\n",
    "#     model.fit(X_train,Y_train, validation_data=(X_test, Y_test), epochs=3, batch_size=1024,callbacks=[es])\n",
    "#     pred = model.predict(test_X)\n",
    "#     scores = model.evaluate(test_X, pred, verbose=0)\n",
    "#     score.append(scores)\n",
    "#     predictions.append(pred)\n",
    "#     print(i)\n",
    "# model.save('my_model_new.h5')"
   ]
  },
  {
   "cell_type": "code",
   "execution_count": null,
   "id": "6d02a2b4",
   "metadata": {},
   "outputs": [],
   "source": [
    "# score=pd.DataFrame(score)\n",
    "# score[0].mean()"
   ]
  },
  {
   "cell_type": "code",
   "execution_count": null,
   "id": "0ce1bff9",
   "metadata": {},
   "outputs": [],
   "source": [
    "# fina_pred=np.average(predictions,axis=0)\n",
    "# fina_pred=pd.DataFrame(fina_pred)"
   ]
  },
  {
   "cell_type": "code",
   "execution_count": null,
   "id": "0974ec8e",
   "metadata": {},
   "outputs": [],
   "source": [
    "# ids=test['id']\n",
    "# ids=pd.DataFrame(ids)"
   ]
  },
  {
   "cell_type": "code",
   "execution_count": null,
   "id": "d319c67e",
   "metadata": {},
   "outputs": [],
   "source": [
    "# submission=pd.concat([ids,fina_pred],axis=1)\n",
    "# submission['prediction']=submission.iloc[:,1:]\n",
    "# submission=submission.drop([0],axis=1)\n",
    "# submission.to_csv(\"submission.csv\",index=False)"
   ]
  }
 ],
 "metadata": {},
 "nbformat": 4,
 "nbformat_minor": 5
}
