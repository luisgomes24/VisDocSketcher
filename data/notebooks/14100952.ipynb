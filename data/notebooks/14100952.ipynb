{
 "cells": [
  {
   "cell_type": "markdown",
   "id": "d222145c",
   "metadata": {},
   "source": [
    "# Calculating Number of Pixels in Change\n",
    "In our previous notebooks we augmented our dataset by obtaining the difference of 2 satellite images capturing the same location but different times.\n",
    "In order to further our understanding of the our dataset we will calculate the number of pixels that actaully have change in them for all of our images, and we will store them in our annotations csv.\n",
    "\n",
    "This can help us determine the conditions for our models performance in the evaluation phase."
   ]
  },
  {
   "cell_type": "markdown",
   "id": "613be58e",
   "metadata": {},
   "source": [
    "## Import Dependencies"
   ]
  },
  {
   "cell_type": "code",
   "execution_count": null,
   "id": "64c413bf",
   "metadata": {},
   "outputs": [],
   "source": [
    "from pathlib import Path\n",
    "import numpy as np\n",
    "import pandas as pd\n",
    "from tqdm.notebook import tqdm\n",
    "from skimage import io\n",
    "from multiprocessing import  Pool\n",
    "from functools import partial\n",
    "from timeit import default_timer as timer\n",
    "tqdm.pandas()"
   ]
  },
  {
   "cell_type": "markdown",
   "id": "3e0c8675",
   "metadata": {},
   "source": [
    "## Set Paths"
   ]
  },
  {
   "cell_type": "code",
   "execution_count": null,
   "id": "cab18cc7",
   "metadata": {},
   "outputs": [],
   "source": [
    "annotations_path = Path('../input/spacenet-7-change-detection-chips-and-masks/annotations.csv')\n",
    "root_dir = Path('../input/spacenet-7-change-detection-chips-and-masks/chip_dataset/chip_dataset/change_detection')"
   ]
  },
  {
   "cell_type": "markdown",
   "id": "a49fb8a1",
   "metadata": {},
   "source": [
    "## Read CSV into Pandas Dataframe"
   ]
  },
  {
   "cell_type": "code",
   "execution_count": null,
   "id": "149309ca",
   "metadata": {},
   "outputs": [],
   "source": [
    "df = pd.read_csv(annotations_path)"
   ]
  },
  {
   "cell_type": "code",
   "execution_count": null,
   "id": "3c6344d6",
   "metadata": {},
   "outputs": [],
   "source": [
    "df.head()"
   ]
  },
  {
   "cell_type": "markdown",
   "id": "3efbe4c6",
   "metadata": {},
   "source": [
    "### Obtain Number of Activated Pixels\n",
    "The helper function below accepts the path to the mask that we want to extract the number of pixels from. Since the mask if either positive or blank, we can simply calculate the number of pixels by summing the values that return true when they are greater than 0."
   ]
  },
  {
   "cell_type": "code",
   "execution_count": null,
   "id": "b4f47b74",
   "metadata": {},
   "outputs": [],
   "source": [
    "def get_number_of_activated_pixels(mask_path,root_dir=root_dir):\n",
    "    # for optimization purposes,\n",
    "    # if path has 'blank' in it then number of activated pixels = 0\n",
    "    if 'blank' in mask_path:\n",
    "        return 0\n",
    "    \n",
    "    path = Path(root_dir/mask_path)\n",
    "    im = io.imread(path)\n",
    "    n_activated = (im > 0).sum()\n",
    "    return n_activated"
   ]
  },
  {
   "cell_type": "markdown",
   "id": "88bdd1bb",
   "metadata": {},
   "source": [
    "#### Example Path for Blank Mask"
   ]
  },
  {
   "cell_type": "code",
   "execution_count": null,
   "id": "3bb0c234",
   "metadata": {},
   "outputs": [],
   "source": [
    "blank_mask_path = df[(df['is_blank'] == 'blank')]['mask_path'].iloc[0]\n",
    "blank_mask_path"
   ]
  },
  {
   "cell_type": "markdown",
   "id": "749c9246",
   "metadata": {},
   "source": [
    "#### Example Path for Non-Blank Mask"
   ]
  },
  {
   "cell_type": "code",
   "execution_count": null,
   "id": "ed9642d6",
   "metadata": {},
   "outputs": [],
   "source": [
    "non_blank_mask_path = df[(df['is_blank'] != 'blank')]['mask_path'].iloc[0]\n",
    "non_blank_mask_path"
   ]
  },
  {
   "cell_type": "markdown",
   "id": "ad5bb2b0",
   "metadata": {},
   "source": [
    "Below we check that the masks obtained are indeed correct."
   ]
  },
  {
   "cell_type": "code",
   "execution_count": null,
   "id": "205de87f",
   "metadata": {},
   "outputs": [],
   "source": [
    "get_number_of_activated_pixels(blank_mask_path)"
   ]
  },
  {
   "cell_type": "code",
   "execution_count": null,
   "id": "4d18d2df",
   "metadata": {},
   "outputs": [],
   "source": [
    "get_number_of_activated_pixels(non_blank_mask_path)"
   ]
  },
  {
   "cell_type": "markdown",
   "id": "c9b319a7",
   "metadata": {},
   "source": [
    "Let's check how long it takes to process 10000 images by using the python timeit module imported earlier. We wil time how long it takes to read the non-blank images as they are more cpu intensive."
   ]
  },
  {
   "cell_type": "code",
   "execution_count": null,
   "id": "b8f21f31",
   "metadata": {},
   "outputs": [],
   "source": [
    "test_df = df[df['is_blank'] != 'blank']['mask_path'][0:10000]"
   ]
  },
  {
   "cell_type": "code",
   "execution_count": null,
   "id": "ced4e61e",
   "metadata": {},
   "outputs": [],
   "source": [
    "start = timer()\n",
    "test = test_df.map(get_number_of_activated_pixels)\n",
    "end = timer()\n",
    "print(end - start) # Time in seconds"
   ]
  },
  {
   "cell_type": "code",
   "execution_count": null,
   "id": "dd74506a",
   "metadata": {},
   "outputs": [],
   "source": [
    "len(df)"
   ]
  },
  {
   "cell_type": "markdown",
   "id": "e87c8405",
   "metadata": {},
   "source": [
    "Our time is not too great. It took us more than 100 seconds to process 10000 images, we have a total of more than 3 million images.\n",
    "Let's make our programme faster by parellelizing our programe with the helper functions below."
   ]
  },
  {
   "cell_type": "code",
   "execution_count": null,
   "id": "7c74b462",
   "metadata": {},
   "outputs": [],
   "source": [
    "def parallelize(data, func, num_of_processes=8):\n",
    "    data_split = np.array_split(data, num_of_processes)\n",
    "    pool = Pool(num_of_processes)\n",
    "    data = pd.concat(pool.map(func, data_split))\n",
    "    pool.close()\n",
    "    pool.join()\n",
    "    return data\n",
    "\n",
    "def run_on_subset(func, data_subset):\n",
    "    return data_subset.map(func)\n",
    "\n",
    "def parallelize_on_rows(data, func, num_of_processes=8):\n",
    "    return parallelize(data, partial(run_on_subset, func), num_of_processes)"
   ]
  },
  {
   "cell_type": "markdown",
   "id": "5548d67f",
   "metadata": {},
   "source": [
    "Let's compare the time taken to process the same 10000 images."
   ]
  },
  {
   "cell_type": "code",
   "execution_count": null,
   "id": "d16f486e",
   "metadata": {},
   "outputs": [],
   "source": [
    "start = timer()\n",
    "test = parallelize_on_rows(test_df, get_number_of_activated_pixels);\n",
    "end = timer()\n",
    "print(end - start)"
   ]
  },
  {
   "cell_type": "markdown",
   "id": "ba1bcd96",
   "metadata": {},
   "source": [
    "Great!!\n",
    "\n",
    "That's over a 20 times increase in performance, and the gap in performance will only widen as we increase the number of images we are processing."
   ]
  },
  {
   "cell_type": "markdown",
   "id": "2ccccc92",
   "metadata": {},
   "source": [
    "## Obtaining the number of pixels for all the rows\n",
    "Below we use the function we created earlier to extract the number of pixels containing change from each image in the dataset."
   ]
  },
  {
   "cell_type": "code",
   "execution_count": null,
   "id": "22300dc6",
   "metadata": {},
   "outputs": [],
   "source": [
    "df['n_change_pix'] = parallelize_on_rows(df['mask_path'], get_number_of_activated_pixels);"
   ]
  },
  {
   "cell_type": "markdown",
   "id": "744920e7",
   "metadata": {},
   "source": [
    "## Creating Time Periods\n",
    "Below we will create columns for the time periods that each image was caputered in. This will be helpful later on in case we need to calculate time based statistics. \n",
    "`period_1` and `period_2` are the dates in which the first image and second image were captured respectively."
   ]
  },
  {
   "cell_type": "code",
   "execution_count": null,
   "id": "1ef1daf9",
   "metadata": {},
   "outputs": [],
   "source": [
    "df['period_1'] = df.progress_apply(lambda x: pd.Period(year=x['year1'],month=x['month1'],freq='M'),axis=1)"
   ]
  },
  {
   "cell_type": "code",
   "execution_count": null,
   "id": "2f52a2bb",
   "metadata": {},
   "outputs": [],
   "source": [
    "df['period_2'] = df.progress_apply(lambda x: pd.Period(year=x['year2'],month=x['month2'],freq='M'),axis=1)"
   ]
  },
  {
   "cell_type": "code",
   "execution_count": null,
   "id": "255c39c2",
   "metadata": {},
   "outputs": [],
   "source": [
    "df.head()"
   ]
  },
  {
   "cell_type": "markdown",
   "id": "caf69332",
   "metadata": {},
   "source": [
    "## Calculating the Number of Months Apart for Each Image Couple\n",
    "Below we will loop over the entire dataframe and use the time periods that we created earlier in order to calculate the number of months that the images are apart."
   ]
  },
  {
   "cell_type": "code",
   "execution_count": null,
   "id": "d898fcc2",
   "metadata": {},
   "outputs": [],
   "source": [
    "df['month_diff'] = df.progress_apply(lambda x: abs((x['period_1']-x['period_2']).n), axis=1)"
   ]
  },
  {
   "cell_type": "markdown",
   "id": "331ec700",
   "metadata": {},
   "source": [
    "## Saving the Output Dataframe as a CSV"
   ]
  },
  {
   "cell_type": "code",
   "execution_count": null,
   "id": "e2914ae3",
   "metadata": {},
   "outputs": [],
   "source": [
    "df.to_csv('annotations.csv',index=False)"
   ]
  }
 ],
 "metadata": {},
 "nbformat": 4,
 "nbformat_minor": 5
}
