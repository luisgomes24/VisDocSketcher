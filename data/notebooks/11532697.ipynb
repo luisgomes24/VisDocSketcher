{
 "cells": [
  {
   "cell_type": "markdown",
   "id": "ac051a94",
   "metadata": {},
   "source": [
    "# Mechanisms of Action (MoA) Prediction"
   ]
  },
  {
   "cell_type": "markdown",
   "id": "cc2e4822",
   "metadata": {},
   "source": [
    "The Connectivity Map, a project within the Broad Institute of MIT and Harvard, together with the Laboratory for Innovation Science at Harvard (LISH), presents this challenge with the goal of advancing drug development through improvements to MoA prediction algorithms.\n",
    "\n",
    "What is the Mechanism of Action (MoA) of a drug? And why is it important?\n",
    "\n",
    "In the past, scientists derived drugs from natural products or were inspired by traditional remedies. Very common drugs, such as paracetamol, known in the US as acetaminophen, were put into clinical use decades before the biological mechanisms driving their pharmacological activities were understood. Today, with the advent of more powerful technologies, drug discovery has changed from the serendipitous approaches of the past to a more targeted model based on an understanding of the underlying biological mechanism of a disease. In this new framework, scientists seek to identify a protein target associated with a disease and develop a molecule that can modulate that protein target. As a shorthand to describe the biological activity of a given molecule, scientists assign a label referred to as mechanism-of-action or MoA for short.\n",
    "\n",
    "How do we determine the MoAs of a new drug?\n",
    "\n",
    "One approach is to treat a sample of human cells with the drug and then analyze the cellular responses with algorithms that search for similarity to known patterns in large genomic databases, such as libraries of gene expression or cell viability patterns of drugs with known MoAs.\n",
    "\n",
    "In this competition, you will have access to a unique dataset that combines gene expression and cell viability data. The data is based on a new technology that measures simultaneously (within the same samples) human cells’ responses to drugs in a pool of 100 different cell types (thus solving the problem of identifying ex-ante, which cell types are better suited for a given drug). In addition, you will have access to MoA annotations for more than 5,000 drugs in this dataset.\n",
    "\n",
    "As is customary, the dataset has been split into testing and training subsets. Hence, your task is to use the training dataset to develop an algorithm that automatically labels each case in the test set as one or more MoA classes. Note that since drugs can have multiple MoA annotations, the task is formally a multi-label classification problem.\n",
    "\n",
    "How to evaluate the accuracy of a solution?\n",
    "\n",
    "Based on the MoA annotations, the accuracy of solutions will be evaluated on the average value of the logarithmic loss function applied to each drug-MoA annotation pair.\n",
    "\n",
    "If successful, you’ll help to develop an algorithm to predict a compound’s MoA given its cellular signature, thus helping scientists advance the drug discovery process."
   ]
  },
  {
   "cell_type": "markdown",
   "id": "d47db5d3",
   "metadata": {},
   "source": [
    "![](https://images.financialexpress.com/2020/01/drugs-1.jpg?w=1200&h=800&imflag=true)"
   ]
  },
  {
   "cell_type": "markdown",
   "id": "dd0bddd7",
   "metadata": {},
   "source": [
    "**Data Description**\n",
    "\n",
    "In this competition, you will be predicting multiple targets of the Mechanism of Action (MoA) response(s) of different samples (sig_id), given various inputs such as gene expression data and cell viability data.\n",
    "\n",
    "***Two notes:***\n",
    "\n",
    "* the training data has an additional (optional) set of MoA labels that are not included in the test data and not used for scoring.\n",
    "* the re-run dataset has approximately 4x the number of examples seen in the Public test.\n",
    "\n",
    "**Files**\n",
    "* **train_features.csv** - Features for the training set. Features g- signify gene expression data, and c- signify cell viability data. cp_type indicates samples treated with a compound (cp_vehicle) or with a control perturbation (ctrl_vehicle); control perturbations have no MoAs; cp_time and cp_dose indicate treatment duration (24, 48, 72 hours) and dose (high or low).\n",
    "* **train_targets_scored.csv** - The binary MoA targets that are scored.\n",
    "* **train_targets_nonscored.csv** - Additional (optional) binary MoA responses for the training data. These are not predicted nor scored.\n",
    "* **test_features.csv** - Features for the test data. You must predict the probability of each scored MoA for each row in the test data.\n",
    "* **sample_submission.csv** - A submission file in the correct format."
   ]
  },
  {
   "cell_type": "markdown",
   "id": "6a05aaa2",
   "metadata": {},
   "source": [
    "# Load the Packages"
   ]
  },
  {
   "cell_type": "code",
   "execution_count": null,
   "id": "bc842e19",
   "metadata": {},
   "outputs": [],
   "source": [
    "# This Python 3 environment comes with many helpful analytics libraries installed\n",
    "# It is defined by the kaggle/python Docker image: https://github.com/kaggle/docker-python\n",
    "# For example, here's several helpful packages to load\n",
    "\n",
    "import numpy as np # linear algebra\n",
    "import pandas as pd # data processing, CSV file I/O (e.g. pd.read_csv)\n",
    "import seaborn as sns\n",
    "import matplotlib.pyplot as plt\n",
    "\n",
    "# Input data files are available in the read-only \"../input/\" directory\n",
    "# For example, running this (by clicking run or pressing Shift+Enter) will list all files under the input directory\n",
    "\n",
    "import os\n",
    "for dirname, _, filenames in os.walk('/kaggle/input'):\n",
    "    for filename in filenames:\n",
    "        print(os.path.join(dirname, filename))\n",
    "\n",
    "# You can write up to 5GB to the current directory (/kaggle/working/) that gets preserved as output when you create a version using \"Save & Run All\" \n",
    "# You can also write temporary files to /kaggle/temp/, but they won't be saved outside of the current session"
   ]
  },
  {
   "cell_type": "markdown",
   "id": "c90745dc",
   "metadata": {},
   "source": [
    "# Load the Data"
   ]
  },
  {
   "cell_type": "code",
   "execution_count": null,
   "id": "cae9ff5e",
   "metadata": {},
   "outputs": [],
   "source": [
    "df_Train = pd.read_csv('../input/lish-moa/train_features.csv')\n",
    "df_Test = pd.read_csv('../input/lish-moa/test_features.csv')\n",
    "df_Train_scored = pd.read_csv('../input/lish-moa/train_targets_scored.csv')\n",
    "df_Train_unscored = pd.read_csv('../input/lish-moa/train_targets_nonscored.csv')"
   ]
  },
  {
   "cell_type": "markdown",
   "id": "84eea686",
   "metadata": {},
   "source": [
    "# Exploratory Data Analysis"
   ]
  },
  {
   "cell_type": "code",
   "execution_count": null,
   "id": "b3a0f701",
   "metadata": {},
   "outputs": [],
   "source": [
    "#To find the head of the Data\n",
    "df_Train.head()"
   ]
  },
  {
   "cell_type": "code",
   "execution_count": null,
   "id": "4af22087",
   "metadata": {},
   "outputs": [],
   "source": [
    "df_Train_scored.head()"
   ]
  },
  {
   "cell_type": "code",
   "execution_count": null,
   "id": "07e7e8f1",
   "metadata": {},
   "outputs": [],
   "source": [
    "#Columns List\n",
    "df_Train.columns"
   ]
  },
  {
   "cell_type": "code",
   "execution_count": null,
   "id": "d694b526",
   "metadata": {},
   "outputs": [],
   "source": [
    "#Columns List\n",
    "df_Train_scored.columns"
   ]
  },
  {
   "cell_type": "code",
   "execution_count": null,
   "id": "8a301e45",
   "metadata": {},
   "outputs": [],
   "source": [
    "#Information of the Dataset Continuous Values\n",
    "df_Train.describe()"
   ]
  },
  {
   "cell_type": "code",
   "execution_count": null,
   "id": "d16127a2",
   "metadata": {},
   "outputs": [],
   "source": [
    "#Information of the Dataset Values\n",
    "df_Train.info()"
   ]
  },
  {
   "cell_type": "code",
   "execution_count": null,
   "id": "1f26fd4e",
   "metadata": {},
   "outputs": [],
   "source": [
    "#Information of the Dataset Values\n",
    "df_Train_scored.info()"
   ]
  },
  {
   "cell_type": "code",
   "execution_count": null,
   "id": "da713e60",
   "metadata": {},
   "outputs": [],
   "source": [
    "#Shape of the Train and Test Data\n",
    "print('Shape of Train Data: ', df_Train.shape)\n",
    "print('Shape of Train Scored Data: ', df_Train_scored.shape)\n",
    "print('Shape of Train Unscored Data: ', df_Train_unscored.shape)\n",
    "print('Shape of Test Data: ', df_Test.shape)"
   ]
  },
  {
   "cell_type": "markdown",
   "id": "d09d2a2b",
   "metadata": {},
   "source": [
    "### Missing Values"
   ]
  },
  {
   "cell_type": "code",
   "execution_count": null,
   "id": "791dd0be",
   "metadata": {},
   "outputs": [],
   "source": [
    "#Null values in the Train Dataset\n",
    "print('Null values in Train Data: \\n', df_Train.isnull().sum())"
   ]
  },
  {
   "cell_type": "code",
   "execution_count": null,
   "id": "2e0f66bf",
   "metadata": {},
   "outputs": [],
   "source": [
    "#Null Values in the Test Dataset\n",
    "print('Null Values in Test Data: \\n', df_Test.isnull().sum())"
   ]
  },
  {
   "cell_type": "markdown",
   "id": "1452fe85",
   "metadata": {},
   "source": [
    "# Data Insight and Visualization"
   ]
  },
  {
   "cell_type": "markdown",
   "id": "8e885285",
   "metadata": {},
   "source": [
    "## Correlation\n",
    "\n",
    "Finding the Correlation of the Target Column with the other Columns"
   ]
  },
  {
   "cell_type": "markdown",
   "id": "299991ba",
   "metadata": {},
   "source": [
    "**Correlation**\n",
    "\n",
    "To check for the correlation of the variable and the graph dependence or association is any statistical relationship, whether causal or not, between two random variables or bivariate data. Correlation is any of a broad class of statistical relationships involving dependence, though in common usage it most often refers to how close two variables are to having a linear relationship with each other"
   ]
  },
  {
   "cell_type": "code",
   "execution_count": null,
   "id": "421a0e1f",
   "metadata": {},
   "outputs": [],
   "source": [
    "corrmat = df_Train.corr()\n",
    "f, ax = plt.subplots(figsize=(14,14))\n",
    "sns.heatmap(corrmat, square=True, vmax=.8)"
   ]
  },
  {
   "cell_type": "code",
   "execution_count": null,
   "id": "b04225b8",
   "metadata": {},
   "outputs": [],
   "source": [
    "corrmat = df_Train_scored.corr()\n",
    "f, ax = plt.subplots(figsize=(14,14))\n",
    "sns.heatmap(corrmat, square=True, vmax=.8)"
   ]
  },
  {
   "cell_type": "code",
   "execution_count": null,
   "id": "80832afb",
   "metadata": {},
   "outputs": [],
   "source": [
    "corrmat = df_Train_unscored.corr()\n",
    "f, ax = plt.subplots(figsize=(14,14))\n",
    "sns.heatmap(corrmat, square=True, vmax=.8)"
   ]
  },
  {
   "cell_type": "code",
   "execution_count": null,
   "id": "46d8dd88",
   "metadata": {},
   "outputs": [],
   "source": [
    "nan"
   ]
  }
 ],
 "metadata": {},
 "nbformat": 4,
 "nbformat_minor": 5
}
