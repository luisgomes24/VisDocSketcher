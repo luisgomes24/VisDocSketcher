{
 "cells": [
  {
   "cell_type": "markdown",
   "id": "07b12cc8",
   "metadata": {},
   "source": [
    "# Preparação dos dados\n",
    "Instalação do Fastai e ferramentas necessárias"
   ]
  },
  {
   "cell_type": "code",
   "execution_count": null,
   "id": "f9df8c22",
   "metadata": {},
   "outputs": [],
   "source": [
    "import pandas as pd\n",
    "\n",
    "from fastai.vision.all import *\n",
    "\n",
    "import os\n",
    "\n",
    "#definição da pasta de caminho padrão\n",
    "path = Path('../input/cassava-leaf-disease-classification')"
   ]
  },
  {
   "cell_type": "markdown",
   "id": "f549092e",
   "metadata": {},
   "source": [
    "Obtenção do dataset, neste momento também são excluidas imagens repetidas. As mesmas foram obtidas de notebooks estudados, como [nesse](https://www.kaggle.com/benjibb/resnet50-pretrained-fastai)."
   ]
  },
  {
   "cell_type": "code",
   "execution_count": null,
   "id": "5b62e7eb",
   "metadata": {},
   "outputs": [],
   "source": [
    "train_df = pd.read_csv(path/'train.csv')\n",
    "#exclusão de imagens repetidas\n",
    "train_df = train_df[~train_df['image_id'].isin(['1562043567.jpg', '3551135685.jpg', '2252529694.jpg'])]\n",
    "train_df.head()"
   ]
  },
  {
   "cell_type": "markdown",
   "id": "a9d87da5",
   "metadata": {},
   "source": [
    "Abaixo são definidos os parâmetros para serem utilizados no datablock para data augmentation, onde o item_tfms ocorre primeiro, e define os parâmetros de transformação para cada uma das imagens em separado, em que foi selecionado um recorte randômico mantendo a proporção e mantendo o mínimo de 75% da imagem. Já o batch_tfms realiza a mesma operação em todas as imagens, defimindo um tamanho de 384px para todas e realizando a normalização."
   ]
  },
  {
   "cell_type": "code",
   "execution_count": null,
   "id": "03dd8fad",
   "metadata": {},
   "outputs": [],
   "source": [
    "item_tfms = RandomResizedCrop(460, min_scale=0.75, ratio=(1.,1.))\n",
    "batch_tfms = [*aug_transforms(size=384, max_warp=0), Normalize.from_stats(*imagenet_stats)]\n",
    "bs=16"
   ]
  },
  {
   "cell_type": "markdown",
   "id": "b6f98b58",
   "metadata": {},
   "source": [
    "São definidos os getters dos eixos do datablock, onde em x está a pasta onde estão as imagens para treino, e em y estão os labels das categorias."
   ]
  },
  {
   "cell_type": "code",
   "execution_count": null,
   "id": "b868822f",
   "metadata": {},
   "outputs": [],
   "source": [
    "def get_x(r):\n",
    "    return path/'train_images'/r['image_id']\n",
    "\n",
    "def get_y(r):\n",
    "    return r['label']"
   ]
  },
  {
   "cell_type": "markdown",
   "id": "33a8b0c6",
   "metadata": {},
   "source": [
    "Por fim, é criado o datablock, separando o bloco de imagens e o de categoria, onde é passada a classificação das imagens, sendo de 0 a 4 referidas a plantas doentes, com diferentes categorias, e a 5 referente a planta saudavel. O splitter separa os dados em validação e teste, deixando como 0.2 para validação, e com uma semente randômica definida como 42."
   ]
  },
  {
   "cell_type": "code",
   "execution_count": null,
   "id": "722efd4f",
   "metadata": {},
   "outputs": [],
   "source": [
    "pets = DataBlock(blocks=(ImageBlock, CategoryBlock),\n",
    "                 get_x=get_x,\n",
    "                 get_y=get_y,\n",
    "                 splitter=RandomSplitter(0.2, seed=42),\n",
    "                 item_tfms=item_tfms,\n",
    "                 batch_tfms=batch_tfms)\n",
    "dataloader = pets.dataloaders(train_df, bs=bs)"
   ]
  },
  {
   "cell_type": "code",
   "execution_count": null,
   "id": "03858901",
   "metadata": {},
   "outputs": [],
   "source": [
    "dataloader.show_batch()"
   ]
  },
  {
   "cell_type": "markdown",
   "id": "a5cbba54",
   "metadata": {},
   "source": [
    "# Treinamento do modelo"
   ]
  },
  {
   "cell_type": "code",
   "execution_count": null,
   "id": "ea77bca9",
   "metadata": {},
   "outputs": [],
   "source": [
    "#este bloco importa o modelo resnet50 para o local correto, já que não é possível enviar sem a internet ativada\n",
    "if not os.path.exists('/root/.cache/torch/hub/checkpoints/'):\n",
    "        os.makedirs('/root/.cache/torch/hub/checkpoints/')\n",
    "!cp '../input/resnet50/resnet50.pth' '/root/.cache/torch/hub/checkpoints/resnet50-19c8e357.pth'"
   ]
  },
  {
   "cell_type": "markdown",
   "id": "cda0d354",
   "metadata": {},
   "source": [
    "O modelo escolhido foi o resnet50, devido a testes anteriores utilizando o colab. Foram definidos como métricas de avaliação a acurácia e o error rate.\n",
    "\n",
    "A forma de treinamento utilizada é o fine_tune, que faz a combinação do fot_one_cycle com o unfreeze, onde primeiramente são geradas epocas com os pesos congelados, e após esse treinamento, os pesos são descongelados para seguir o treinamento. Esse era a sequência padrão utilizada pelo fastai na v1, na v2 foi adicionado o fine_tune para facilitar.\n",
    "\n",
    "O base_lr é o learning rate base que o modelo vai utilizar. Esse valor foi obtido baseado no resultado de curva descendente de loss antes de ocorrer uma subida brusca, visualizada pelo learn.lr_find() pelo valor 1e-2****"
   ]
  },
  {
   "cell_type": "code",
   "execution_count": null,
   "id": "65cac164",
   "metadata": {},
   "outputs": [],
   "source": [
    "learn = cnn_learner(dataloader, resnet50,\n",
    "                    loss_func = LabelSmoothingCrossEntropy(),\n",
    "                    cbs=[MixUp()],\n",
    "                    metrics=[error_rate,accuracy])\n",
    "learn.fine_tune(8,freeze_epochs = 2,base_lr=1e-2)"
   ]
  },
  {
   "cell_type": "markdown",
   "id": "579c5314",
   "metadata": {},
   "source": [
    "Abaixo estou salvando o modelo com os pesos treinados em um arquivo, para realizar o download para minha máquina"
   ]
  },
  {
   "cell_type": "code",
   "execution_count": null,
   "id": "90afa056",
   "metadata": {},
   "outputs": [],
   "source": [
    "#learn.model_dir = '/kaggle/working'\n",
    "#learn.save('kaggle_resnet50')\n",
    "#learn.load('../input/kaggleresnet50/kaggle_resnet50.pth')"
   ]
  },
  {
   "cell_type": "code",
   "execution_count": null,
   "id": "d632ab42",
   "metadata": {},
   "outputs": [],
   "source": [
    "learn = learn.to_native_fp32()"
   ]
  },
  {
   "cell_type": "markdown",
   "id": "3b7e8c5e",
   "metadata": {},
   "source": [
    "# Inferência e submissão\n",
    "Nessa parte é preparada a submissão, abaixo é lido o csv de submissão preparado "
   ]
  },
  {
   "cell_type": "code",
   "execution_count": null,
   "id": "76a15c4b",
   "metadata": {},
   "outputs": [],
   "source": [
    "sample_df = pd.read_csv(path/'sample_submission.csv')\n",
    "sample_df.head()"
   ]
  },
  {
   "cell_type": "markdown",
   "id": "6cd4398a",
   "metadata": {},
   "source": [
    "As imagens disponíveis para teste são preditas utilizando como base o modelo treinado"
   ]
  },
  {
   "cell_type": "code",
   "execution_count": null,
   "id": "fbcea42b",
   "metadata": {},
   "outputs": [],
   "source": [
    "test_data_path = sample_df['image_id'].apply(lambda x: path/'test_images'/x)\n",
    "tst_dl = learn.dls.test_dl(test_data_path)\n",
    "predictions = learn.tta(dl = tst_dl, n=10)\n",
    "\n"
   ]
  },
  {
   "cell_type": "code",
   "execution_count": null,
   "id": "00b022c4",
   "metadata": {},
   "outputs": [],
   "source": [
    "sample_df['label'] = np.argmax(predictions[0],axis=1)\n",
    "sample_df"
   ]
  },
  {
   "cell_type": "markdown",
   "id": "7f4010c7",
   "metadata": {},
   "source": [
    "Por fim, é criado o submission.csv com as predições geradas anteriormente"
   ]
  },
  {
   "cell_type": "code",
   "execution_count": null,
   "id": "a39a887d",
   "metadata": {},
   "outputs": [],
   "source": [
    "sample_df.to_csv('submission.csv',index=False)"
   ]
  }
 ],
 "metadata": {},
 "nbformat": 4,
 "nbformat_minor": 5
}
