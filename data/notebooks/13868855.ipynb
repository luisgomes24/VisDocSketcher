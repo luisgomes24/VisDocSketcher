{
 "cells": [
  {
   "cell_type": "markdown",
   "id": "c7657cb6",
   "metadata": {},
   "source": [
    "<div class=\"alert alert-success\">  \n",
    "</div>"
   ]
  },
  {
   "cell_type": "markdown",
   "id": "bae46f45",
   "metadata": {},
   "source": [
    "<div>\n",
    "    <h1 align=\"center\">\"AutoML in Kaggle Kernels\"</h1></h1>\n",
    "    <h1 align=\"center\">Rainforest Connection Species Audio Detection</h1>\n",
    "    <h4 align=\"center\">By: Somayyeh Gholami & Mehran Kazeminia</h4>\n",
    "</div>"
   ]
  },
  {
   "cell_type": "markdown",
   "id": "751b289d",
   "metadata": {},
   "source": [
    "<div class=\"alert alert-success\">  \n",
    "</div>"
   ]
  },
  {
   "cell_type": "markdown",
   "id": "f8df1304",
   "metadata": {},
   "source": [
    "### Description:\n",
    "- This type of method only works for some challenges and is not a general method.\n",
    "\n",
    "- If we could test our answers unlimitedly (it means that there were no five tries limit per day or we could create a Kaggle simulator), we would complete our notebook to automatically optimize the results of all kernels. In this case, even non-experts could optimize the results of the experts' work, and our notebook could approach the concept of \"AutoML\". But our method currently works only empirically as well as \"trial and error\"."
   ]
  },
  {
   "cell_type": "markdown",
   "id": "9fc15072",
   "metadata": {},
   "source": [
    "<div class=\"alert alert-success\">  \n",
    "</div>"
   ]
  },
  {
   "cell_type": "markdown",
   "id": "ce1e69fd",
   "metadata": {},
   "source": [
    "### Import & Data Set"
   ]
  },
  {
   "cell_type": "code",
   "execution_count": null,
   "id": "fce90f34",
   "metadata": {},
   "outputs": [],
   "source": [
    "import numpy as np\n",
    "import pandas as pd \n",
    "import matplotlib.pyplot as plt\n",
    "\n",
    "%matplotlib inline\n",
    "\n",
    "# _______________________________________\n",
    "\n",
    "# Kernels Data (Public Score & File Path)\n",
    "\n",
    "ked = pd.DataFrame({      \n",
    "    'Kernel ID': ['A', 'B', 'C', 'D', 'E', 'F', 'G', 'H', 'I'],\n",
    "    'Symbol':    ['SoliSet', '[Inference] ResNest RFCX Audio Detection',  'notebookba481ef16a', 'All-in-one RFCX baseline for beginners', 'RFCX: train resnet50 with TPU',  'RFCX Resnet50 TPU', 'ResNet34 More Augmentations+Mixup+TTA (Inference)', '[Inference][TPU] RFCX Audio Detection Fast++', 'RFCX Bagging'],\n",
    "    'Score':     [ 0.589 , 0.594 , 0.613 , 0.748 , 0.793 , 0.824 , 0.845 , 0.861 , 0.871 ],\n",
    "    'File Path': ['../input/audio-detection-soliset-201/submission.csv', '../input/inference-resnest-rfcx-audio-detection/submission.csv', '../input/minimal-fastai-solution-score-0-61/submission.csv', '../input/all-in-one-rfcx-baseline-for-beginners/submission.csv', '../input/rfcx-train-resnet50-with-tpu/submission.csv', '../input/rfcx-resnet50-tpu/submission.csv', '../input/resnet34-more-augmentations-mixup-tta-inference/submission.csv', '../input/inference-tpu-rfcx-audio-detection-fast/submission.csv', '../input/rfcx-bagging-with-different-weights-0871-score/submission.csv'],        \n",
    "    'Note'     : ['xgboost & cuml(https://rapids.ai)', 'torch & resnest50', 'fastai.vision & torchaudio', 'torch & resnest50', 'tensorflow & tf.keras.Sequential', 'tensorflow & tf.keras.Sequential', 'tensorflow & classification_models.keras', 'torch & resnest50', 'To sort the scores and use their ranks.']                                                  \n",
    "})    \n",
    "    \n",
    "ked    "
   ]
  },
  {
   "cell_type": "markdown",
   "id": "358693b8",
   "metadata": {},
   "source": [
    "<div class=\"alert alert-success\">  \n",
    "</div>"
   ]
  },
  {
   "cell_type": "markdown",
   "id": "3758dbd4",
   "metadata": {},
   "source": [
    "### Kernel Class & Instances"
   ]
  },
  {
   "cell_type": "code",
   "execution_count": null,
   "id": "16fb5271",
   "metadata": {},
   "outputs": [],
   "source": [
    "class Kernel():    \n",
    "    '''\n",
    "       Class Kernel V 1.0\n",
    "       Input Argument:       \n",
    "       - symbol      (kernel name OR author)       \n",
    "       - score       (Score for the kernel)\n",
    "       - file_path   (CSV file address)\n",
    "    ''' \n",
    "      \n",
    "    def __init__(self, symbol, score, file_path):  \n",
    "        \n",
    "        self.symbol = symbol\n",
    "        self.score = score\n",
    "        \n",
    "        self.file_path = file_path\n",
    "        self.sub = pd.read_csv(self.file_path)\n",
    "        \n",
    "            \n",
    "    def __str__(self):\n",
    "        return f'Kernel: {self.symbol}\\t| Score: {self.score}'\n",
    "\n",
    "    \n",
    "    def __repr__(self):\n",
    "        return f'Class: {self.__class__.__name__}\\nName: {repr(self.symbol)}\\t| Score: {self.score}'   \n",
    "\n",
    "        \n",
    "    def print_head(self):\n",
    "        print(self)\n",
    "        print(f'\\nHead:\\n')\n",
    "        print(self.sub.head())        \n",
    "    \n",
    "    \n",
    "    def print_description(self):\n",
    "        print(self)      \n",
    "        print(f'\\nDescription:\\n')\n",
    "        print(self.sub.describe())\n",
    "        \n",
    "        \n",
    "    def generation(self, other, coeff):\n",
    "        g1 = self.sub.copy()\n",
    "        g2 = self.sub.copy()\n",
    "        g3 = self.sub.copy()\n",
    "        g4 = self.sub.copy() \n",
    "        \n",
    "        if isinstance(other, Kernel):             \n",
    "            for i in self.sub.columns[1:]: \n",
    "                \n",
    "                lm, Is = [], []                \n",
    "                lm = self.sub[i].tolist()\n",
    "                ls = other.sub[i].tolist()        \n",
    "                res1, res2, res3, res4 = [], [], [], []  \n",
    "                \n",
    "                for j in range(len(self.sub)): \n",
    "                    \n",
    "                    res1.append(max(lm[j] , ls[j]))\n",
    "                    res2.append(min(lm[j] , ls[j]))\n",
    "                    res3.append((lm[j] + ls[j]) / 2)\n",
    "                    res4.append((lm[j] * coeff) + (ls[j] * (1.- coeff)))        \n",
    "        \n",
    "                g1[i] = res1\n",
    "                g2[i] = res2\n",
    "                g3[i] = res3\n",
    "                g4[i] = res4\n",
    "                \n",
    "        return g1,g2,g3,g4   \n",
    "    \n",
    "# ____________________________________________\n",
    "    \n",
    "# Seven instance of \"Kernel\" class is defined.\n",
    "\n",
    "for i in range(9):   \n",
    "    ked.iloc[i, 0] = Kernel(ked.iloc[i, 1], ked.iloc[i, 2], ked.iloc[i, 3])     \n",
    "#    ked.iloc[i, 0].print_head() \n",
    "#    ked.iloc[i, 0].print_description() \n"
   ]
  },
  {
   "cell_type": "code",
   "execution_count": null,
   "id": "38245c97",
   "metadata": {},
   "outputs": [],
   "source": [
    "# print(ked.iloc[0, 0])\n",
    "# ked.iloc[0, 0].sub.describe()"
   ]
  },
  {
   "cell_type": "code",
   "execution_count": null,
   "id": "e348f179",
   "metadata": {},
   "outputs": [],
   "source": [
    "# print(ked.iloc[1, 0])\n",
    "# ked.iloc[1, 0].sub.describe()"
   ]
  },
  {
   "cell_type": "code",
   "execution_count": null,
   "id": "80b30f42",
   "metadata": {},
   "outputs": [],
   "source": [
    "# print(ked.iloc[2, 0])\n",
    "# ked.iloc[2, 0].sub.describe()"
   ]
  },
  {
   "cell_type": "code",
   "execution_count": null,
   "id": "53ae945a",
   "metadata": {},
   "outputs": [],
   "source": [
    "# print(ked.iloc[3, 0])\n",
    "# ked.iloc[3, 0].sub.describe()"
   ]
  },
  {
   "cell_type": "code",
   "execution_count": null,
   "id": "9d7d3804",
   "metadata": {},
   "outputs": [],
   "source": [
    "# print(ked.iloc[4, 0])\n",
    "# ked.iloc[4, 0].sub.describe()"
   ]
  },
  {
   "cell_type": "code",
   "execution_count": null,
   "id": "c12c5e3d",
   "metadata": {},
   "outputs": [],
   "source": [
    "print(ked.iloc[5, 0])\n",
    "ked.iloc[5, 0].sub.describe()"
   ]
  },
  {
   "cell_type": "code",
   "execution_count": null,
   "id": "87cd0165",
   "metadata": {},
   "outputs": [],
   "source": [
    "print(ked.iloc[6, 0])\n",
    "ked.iloc[6, 0].sub.describe()"
   ]
  },
  {
   "cell_type": "code",
   "execution_count": null,
   "id": "07896d8a",
   "metadata": {},
   "outputs": [],
   "source": [
    "print(ked.iloc[7, 0])\n",
    "ked.iloc[7, 0].sub.describe()"
   ]
  },
  {
   "cell_type": "code",
   "execution_count": null,
   "id": "fb511ce6",
   "metadata": {},
   "outputs": [],
   "source": [
    "print(ked.iloc[8, 0])\n",
    "ked.iloc[8, 0].sub.describe()"
   ]
  },
  {
   "cell_type": "markdown",
   "id": "2cc7cc8d",
   "metadata": {},
   "source": [
    "<div class=\"alert alert-success\">  \n",
    "</div>"
   ]
  },
  {
   "cell_type": "markdown",
   "id": "c013e37a",
   "metadata": {},
   "source": [
    "### Increase the best score.\n",
    "Can the results of the better kernels support each other? YES:)"
   ]
  },
  {
   "cell_type": "code",
   "execution_count": null,
   "id": "877fb032",
   "metadata": {},
   "outputs": [],
   "source": [
    "# Auxiliary function\n",
    "def generate(main, support, coeff):\n",
    "    g1 = main.copy()\n",
    "    g2 = main.copy()\n",
    "    g3 = main.copy()\n",
    "    g4 = main.copy()\n",
    "    \n",
    "    for i in main.columns[1:]:\n",
    "        lm, Is = [], []                \n",
    "        lm = main[i].tolist()\n",
    "        ls = support[i].tolist() \n",
    "        \n",
    "        res1, res2, res3, res4 = [], [], [], []          \n",
    "        for j in range(len(main)):\n",
    "            res1.append(max(lm[j] , ls[j]))\n",
    "            res2.append(min(lm[j] , ls[j]))\n",
    "            res3.append((lm[j] + ls[j]) / 2)\n",
    "            res4.append((lm[j] * coeff) + (ls[j] * (1.- coeff)))\n",
    "            \n",
    "        g1[i] = res1\n",
    "        g2[i] = res2\n",
    "        g3[i] = res3\n",
    "        g4[i] = res4\n",
    "        \n",
    "    return g1,g2,g3,g4\n"
   ]
  },
  {
   "cell_type": "markdown",
   "id": "1524f88e",
   "metadata": {},
   "source": [
    "<div class=\"alert alert-success\">  \n",
    "</div>"
   ]
  },
  {
   "cell_type": "markdown",
   "id": "f5d62693",
   "metadata": {},
   "source": [
    "## Example:1\n",
    "To increase the score of the best kernel (Score: 0.845), we get help from the kernel with a score of 0.824."
   ]
  },
  {
   "cell_type": "code",
   "execution_count": null,
   "id": "2eafdb4e",
   "metadata": {},
   "outputs": [],
   "source": [
    "g1,g2,g3,g4 = generate(ked.iloc[6, 0].sub, ked.iloc[5, 0].sub, 0.8)\n",
    "\n",
    "# g1,g2,g3,g4 = ked.iloc[6, 0].generation(ked.iloc[5, 0], 0.8)"
   ]
  },
  {
   "cell_type": "code",
   "execution_count": null,
   "id": "5436bd86",
   "metadata": {},
   "outputs": [],
   "source": [
    "# print('Maximum function    | Score: 0.828')\n",
    "# g1.describe()"
   ]
  },
  {
   "cell_type": "code",
   "execution_count": null,
   "id": "28fd32ae",
   "metadata": {},
   "outputs": [],
   "source": [
    "print('Minimum function    | Score: 0.848')\n",
    "g2.describe()"
   ]
  },
  {
   "cell_type": "code",
   "execution_count": null,
   "id": "fd464d2c",
   "metadata": {},
   "outputs": [],
   "source": [
    "# print('Mean function    | Score: 0.845')\n",
    "# g3.describe()"
   ]
  },
  {
   "cell_type": "code",
   "execution_count": null,
   "id": "21aa1ea8",
   "metadata": {},
   "outputs": [],
   "source": [
    "# print('Coefficient function (Coeff: 0.8, 0.2)    | Score: 0.847')\n",
    "# g4.describe()"
   ]
  },
  {
   "cell_type": "code",
   "execution_count": null,
   "id": "8a95b023",
   "metadata": {},
   "outputs": [],
   "source": [
    "# Version 1\n",
    "# We have now selected the minimum function.\n",
    "\n",
    "# sub = g2"
   ]
  },
  {
   "cell_type": "markdown",
   "id": "ee2d4633",
   "metadata": {},
   "source": [
    "## Version-1 results\n",
    "### We have now selected the minimum function (g2).\n",
    "### [G: (Score: 0.845), F: (Score: 0.824)] >>> g2: (Score: 0.848)"
   ]
  },
  {
   "cell_type": "markdown",
   "id": "0e8eff98",
   "metadata": {},
   "source": [
    "## visualization\n",
    "### We draw the values of a column (for example, column 17).\n",
    "### For better visualization, you can draw the remaining 23 columns in the same way."
   ]
  },
  {
   "cell_type": "code",
   "execution_count": null,
   "id": "0856425c",
   "metadata": {},
   "outputs": [],
   "source": [
    "main = ked.iloc[6, 0].sub\n",
    "X  = main.iloc[:, 17]\n",
    "\n",
    "support = ked.iloc[5, 0].sub\n",
    "Y1 = support.iloc[:, 17]\n",
    "\n",
    "Y2 = g2.iloc[:, 17]\n",
    "\n",
    "plt.style.use('seaborn-whitegrid')    \n",
    "plt.figure(figsize=(8, 8), facecolor='lightgray')\n",
    "plt.title(f'<<< S17 >>>\\n\\nOn the X axis >>> G: (Score: 0.845)\\nOn the Y axis >>> F: (Score: 0.824)')\n",
    "for k in range(1992):            \n",
    "    plt.scatter(X[k], Y1[k], s=20, alpha=0.8)\n",
    "plt.show() \n",
    "\n",
    "plt.style.use('seaborn-whitegrid')    \n",
    "plt.figure(figsize=(8, 8), facecolor='lightgray')\n",
    "plt.title(f'<<< S17 >>>\\n\\nOn the X axis >>> G: (Score: 0.845)\\nOn the Y axis >>> g2: (Score: 0.848)')          \n",
    "for k in range(1992):            \n",
    "    plt.scatter(X[k], Y2[k], s=20, alpha=0.8)\n",
    "plt.show() \n"
   ]
  },
  {
   "cell_type": "markdown",
   "id": "0c5e0754",
   "metadata": {},
   "source": [
    "<div class=\"alert alert-success\">  \n",
    "</div>"
   ]
  },
  {
   "cell_type": "markdown",
   "id": "20135b8b",
   "metadata": {},
   "source": [
    "## Example: 2\n",
    "To increase the score of the best kernel (Score: 0.861), we get help from the g2 kernel with a score of 0.848."
   ]
  },
  {
   "cell_type": "code",
   "execution_count": null,
   "id": "293c50d8",
   "metadata": {},
   "outputs": [],
   "source": [
    "f1,f2,f3,f4 = generate(ked.iloc[7, 0].sub, g2, 0.8)\n"
   ]
  },
  {
   "cell_type": "code",
   "execution_count": null,
   "id": "46545001",
   "metadata": {},
   "outputs": [],
   "source": [
    "# print('Maximum function    | Score: ----')\n",
    "# f1.describe()"
   ]
  },
  {
   "cell_type": "code",
   "execution_count": null,
   "id": "592ba018",
   "metadata": {},
   "outputs": [],
   "source": [
    "print('Minimum function    | Score: 0.866')\n",
    "f2.describe()"
   ]
  },
  {
   "cell_type": "code",
   "execution_count": null,
   "id": "b681a6ec",
   "metadata": {},
   "outputs": [],
   "source": [
    "# print('Mean function    | Score: ----')\n",
    "# f3.describe()"
   ]
  },
  {
   "cell_type": "code",
   "execution_count": null,
   "id": "c47b8ed1",
   "metadata": {},
   "outputs": [],
   "source": [
    "# print('Coefficient function (Coeff: 0.8, 0.2)    | Score: ----')\n",
    "# f4.describe()"
   ]
  },
  {
   "cell_type": "code",
   "execution_count": null,
   "id": "f522bae2",
   "metadata": {},
   "outputs": [],
   "source": [
    "# Version 2\n",
    "# We have now selected the minimum function.\n",
    "\n",
    "# sub = f2"
   ]
  },
  {
   "cell_type": "markdown",
   "id": "ce3f9848",
   "metadata": {},
   "source": [
    "## Version-2 results\n",
    "### We have now selected the minimum function (f2).\n",
    "### [H: (Score: 0.861), g2: (Score: 0.848)] >>> f2: (Score: 0.866)"
   ]
  },
  {
   "cell_type": "markdown",
   "id": "1118168f",
   "metadata": {},
   "source": [
    "## visualization\n",
    "### We draw the values of a column (for example, column 11).\n",
    "### For better visualization, you can draw the remaining 23 columns in the same way."
   ]
  },
  {
   "cell_type": "code",
   "execution_count": null,
   "id": "0c919c7b",
   "metadata": {},
   "outputs": [],
   "source": [
    "main = ked.iloc[7, 0].sub\n",
    "X  = main.iloc[:, 11]\n",
    "\n",
    "support = g2\n",
    "Y1 = support.iloc[:, 11]\n",
    "\n",
    "Y2 = f2.iloc[:, 11]\n",
    "\n",
    "plt.style.use('seaborn-whitegrid')    \n",
    "plt.figure(figsize=(8, 8), facecolor='lightgray')\n",
    "plt.title(f'<<< S11 >>>\\n\\nOn the X axis >>> H: (Score: 0.861)\\nOn the Y axis >>> g2: (Score: 0.848)')\n",
    "for k in range(1992):            \n",
    "    plt.scatter(X[k], Y1[k], s=20, alpha=0.8)\n",
    "plt.show() \n",
    "\n",
    "plt.style.use('seaborn-whitegrid')    \n",
    "plt.figure(figsize=(8, 8), facecolor='lightgray')\n",
    "plt.title(f'<<< S11 >>>\\n\\nOn the X axis >>> H: (Score: 0.861)\\nOn the Y axis >>> f2: (Score: 0.866)')          \n",
    "for k in range(1992):            \n",
    "    plt.scatter(X[k], Y2[k], s=20, alpha=0.8)\n",
    "plt.show() \n"
   ]
  },
  {
   "cell_type": "markdown",
   "id": "fd1930f2",
   "metadata": {},
   "source": [
    "<div class=\"alert alert-success\">  \n",
    "</div>"
   ]
  },
  {
   "cell_type": "markdown",
   "id": "f6fa76e3",
   "metadata": {},
   "source": [
    "## Example: 3\n",
    "To increase the score of the best kernel (Score: 0.871), we get help from the f2 kernel with a score of 0.866."
   ]
  },
  {
   "cell_type": "code",
   "execution_count": null,
   "id": "90489647",
   "metadata": {},
   "outputs": [],
   "source": [
    "e1,e2,e3,e4 = generate(ked.iloc[8, 0].sub, f2, 0.7)\n"
   ]
  },
  {
   "cell_type": "code",
   "execution_count": null,
   "id": "c40701c1",
   "metadata": {},
   "outputs": [],
   "source": [
    "# print('Maximum function    | Score: ----')\n",
    "# e1.describe()"
   ]
  },
  {
   "cell_type": "code",
   "execution_count": null,
   "id": "d915b781",
   "metadata": {},
   "outputs": [],
   "source": [
    "# print('Minimum function    | Score: ----')\n",
    "# e2.describe()"
   ]
  },
  {
   "cell_type": "code",
   "execution_count": null,
   "id": "d3d1c902",
   "metadata": {},
   "outputs": [],
   "source": [
    "print('Mean function    | Score: 0.874')\n",
    "e3.describe()"
   ]
  },
  {
   "cell_type": "code",
   "execution_count": null,
   "id": "253e0cbb",
   "metadata": {},
   "outputs": [],
   "source": [
    "# print('Coefficient function (Coeff: 0.7, 0.3)    | Score: ----')\n",
    "# e4.describe()"
   ]
  },
  {
   "cell_type": "code",
   "execution_count": null,
   "id": "ed0a90d1",
   "metadata": {},
   "outputs": [],
   "source": [
    "# Version 3\n",
    "# We have selected the mean function.\n",
    "\n",
    "# sub = e3"
   ]
  },
  {
   "cell_type": "markdown",
   "id": "75297b15",
   "metadata": {},
   "source": [
    "## Version-3 results\n",
    "### We have now selected the mean function (e3).\n",
    "### [I: (Score: 0.871), f2: (Score: 0.866)] >>> e3: (Score: 0.874)"
   ]
  },
  {
   "cell_type": "markdown",
   "id": "dfb66e7c",
   "metadata": {},
   "source": [
    "## visualization\n",
    "### We draw the values of a column (for example, column 21).\n",
    "### For better visualization, you can draw the remaining 23 columns in the same way."
   ]
  },
  {
   "cell_type": "code",
   "execution_count": null,
   "id": "11ede0c2",
   "metadata": {},
   "outputs": [],
   "source": [
    "main = ked.iloc[8, 0].sub\n",
    "X  = main.iloc[:, 21]\n",
    "\n",
    "support = f2\n",
    "Y1 = support.iloc[:, 21]\n",
    "\n",
    "Y2 = e3.iloc[:, 21]\n",
    "\n",
    "plt.style.use('seaborn-whitegrid')    \n",
    "plt.figure(figsize=(8, 8), facecolor='lightgray')\n",
    "plt.title(f'<<< S21 >>>\\n\\nOn the X axis >>> I: (Score: 0.871)\\nOn the Y axis >>> f2: (Score: 0.866)')\n",
    "for k in range(1992):            \n",
    "    plt.scatter(X[k], Y1[k], s=20, alpha=0.8)\n",
    "plt.show() \n",
    "\n",
    "plt.style.use('seaborn-whitegrid')    \n",
    "plt.figure(figsize=(8, 8), facecolor='lightgray')\n",
    "plt.title(f'<<< S21 >>>\\n\\nOn the X axis >>> I: (Score: 0.871)\\nOn the Y axis >>> e3: (Score: 0.874)')          \n",
    "for k in range(1992):            \n",
    "    plt.scatter(X[k], Y2[k], s=20, alpha=0.8)\n",
    "plt.show() \n"
   ]
  },
  {
   "cell_type": "markdown",
   "id": "3f54962a",
   "metadata": {},
   "source": [
    "<div class=\"alert alert-success\">  \n",
    "</div>"
   ]
  },
  {
   "cell_type": "markdown",
   "id": "fdaa875c",
   "metadata": {},
   "source": [
    "## Example: 4\n",
    "We want to optimize the previous example (Example # 3), because a notebook with a higher score has not been released yet. that's mean:\n",
    "\n",
    "To increase the score of the best kernel (Score: 0.871), we get help from the f2 kernel with a score of 0.866."
   ]
  },
  {
   "cell_type": "code",
   "execution_count": null,
   "id": "4f853e9a",
   "metadata": {},
   "outputs": [],
   "source": [
    "d1,d2,d3,d4 = generate(ked.iloc[8, 0].sub, f2, 0.45)\n"
   ]
  },
  {
   "cell_type": "code",
   "execution_count": null,
   "id": "270a18dc",
   "metadata": {},
   "outputs": [],
   "source": [
    "# print('Maximum function    | Score: ----')\n",
    "# d1.describe()"
   ]
  },
  {
   "cell_type": "code",
   "execution_count": null,
   "id": "115897a3",
   "metadata": {},
   "outputs": [],
   "source": [
    "# print('Minimum function    | Score: ----')\n",
    "# d2.describe()"
   ]
  },
  {
   "cell_type": "code",
   "execution_count": null,
   "id": "cff3b218",
   "metadata": {},
   "outputs": [],
   "source": [
    "# print('Mean function    | Score: 0.874')\n",
    "# d3.describe()"
   ]
  },
  {
   "cell_type": "code",
   "execution_count": null,
   "id": "89cecc9b",
   "metadata": {},
   "outputs": [],
   "source": [
    "print('Coefficient function (Coeff: 0.45, 0.55)    | Score: 0.876')\n",
    "d4.describe()"
   ]
  },
  {
   "cell_type": "code",
   "execution_count": null,
   "id": "875e32ad",
   "metadata": {},
   "outputs": [],
   "source": [
    "# Version 4\n",
    "# We have selected the Coefficient function.\n",
    "\n",
    "# sub = d4"
   ]
  },
  {
   "cell_type": "markdown",
   "id": "9b6d5c6f",
   "metadata": {},
   "source": [
    "## Version-4 results\n",
    "### We have now selected the Coefficient function (d4).\n",
    "### [I: (Score: 0.871), f2: (Score: 0.866)] >>> d4: (Score: 0.876)"
   ]
  },
  {
   "cell_type": "markdown",
   "id": "74a5a4db",
   "metadata": {},
   "source": [
    "## visualization\n",
    "### We draw the values of a column (for example, column 21).\n",
    "### For better visualization, you can draw the remaining 23 columns in the same way."
   ]
  },
  {
   "cell_type": "code",
   "execution_count": null,
   "id": "7153417e",
   "metadata": {},
   "outputs": [],
   "source": [
    "main = ked.iloc[8, 0].sub\n",
    "X  = main.iloc[:, 21]\n",
    "\n",
    "support = f2\n",
    "Y1 = support.iloc[:, 21]\n",
    "\n",
    "Y2 = d4.iloc[:, 21]\n",
    "\n",
    "plt.style.use('seaborn-whitegrid')    \n",
    "plt.figure(figsize=(8, 8), facecolor='lightgray')\n",
    "plt.title(f'<<< S21 >>>\\n\\nOn the X axis >>> I: (Score: 0.871)\\nOn the Y axis >>> f2: (Score: 0.866)')\n",
    "for k in range(1992):            \n",
    "    plt.scatter(X[k], Y1[k], s=20, alpha=0.8)\n",
    "plt.show() \n",
    "\n",
    "plt.style.use('seaborn-whitegrid')    \n",
    "plt.figure(figsize=(8, 8), facecolor='lightgray')\n",
    "plt.title(f'<<< S21 >>>\\n\\nOn the X axis >>> I: (Score: 0.871)\\nOn the Y axis >>> d4: (Score: 0.876)')          \n",
    "for k in range(1992):            \n",
    "    plt.scatter(X[k], Y2[k], s=20, alpha=0.8)\n",
    "plt.show() \n"
   ]
  },
  {
   "cell_type": "markdown",
   "id": "cd9a8287",
   "metadata": {},
   "source": [
    "<div class=\"alert alert-success\">  \n",
    "</div>"
   ]
  },
  {
   "cell_type": "markdown",
   "id": "2a55f06f",
   "metadata": {},
   "source": [
    "## Example: 5\n",
    "Again, we want to optimize Example 3, because a notebook with a higher score has not been published yet. It means:\n",
    "\n",
    "To increase the score of the best kernel (Score: 0.871), we get help from the f2 kernel with a score of 0.866."
   ]
  },
  {
   "cell_type": "code",
   "execution_count": null,
   "id": "9c64fab6",
   "metadata": {},
   "outputs": [],
   "source": [
    "c1,c2,c3,c4 = generate(ked.iloc[8, 0].sub, f2, 0.475)"
   ]
  },
  {
   "cell_type": "code",
   "execution_count": null,
   "id": "71c5d145",
   "metadata": {},
   "outputs": [],
   "source": [
    "# print('Maximum function    | Score: ----')\n",
    "# c1.describe()"
   ]
  },
  {
   "cell_type": "code",
   "execution_count": null,
   "id": "8da34172",
   "metadata": {},
   "outputs": [],
   "source": [
    "# print('Minimum function    | Score: ----')\n",
    "# c2.describe()"
   ]
  },
  {
   "cell_type": "code",
   "execution_count": null,
   "id": "217fa00d",
   "metadata": {},
   "outputs": [],
   "source": [
    "# print('Mean function    | Score: 0.874')\n",
    "# c3.describe()"
   ]
  },
  {
   "cell_type": "code",
   "execution_count": null,
   "id": "d6faffde",
   "metadata": {},
   "outputs": [],
   "source": [
    "print('Coefficient function (Coeff: 0.475, 0.525)    | Score: 0.876')\n",
    "c4.describe()"
   ]
  },
  {
   "cell_type": "code",
   "execution_count": null,
   "id": "d283ccff",
   "metadata": {},
   "outputs": [],
   "source": [
    "# Version 5\n",
    "# We have selected the coefficient function.\n",
    "\n",
    "sub = c4"
   ]
  },
  {
   "cell_type": "code",
   "execution_count": null,
   "id": "4c791936",
   "metadata": {},
   "outputs": [],
   "source": [
    "sub.to_csv(\"submission.csv\", index=False)\n",
    "\n",
    "c1.to_csv(\"submission1.csv\", index=False)\n",
    "c2.to_csv(\"submission2.csv\", index=False)\n",
    "c3.to_csv(\"submission3.csv\", index=False)\n",
    "c4.to_csv(\"submission4.csv\", index=False)\n",
    "\n",
    "!ls"
   ]
  },
  {
   "cell_type": "markdown",
   "id": "21b04921",
   "metadata": {},
   "source": [
    "<div class=\"alert alert-success\">  \n",
    "</div>"
   ]
  }
 ],
 "metadata": {},
 "nbformat": 4,
 "nbformat_minor": 5
}
