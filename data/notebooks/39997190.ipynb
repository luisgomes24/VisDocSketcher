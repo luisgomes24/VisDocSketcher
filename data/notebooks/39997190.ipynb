{
 "cells": [
  {
   "cell_type": "code",
   "execution_count": null,
   "id": "63a502e6",
   "metadata": {},
   "outputs": [],
   "source": [
    "import pandas as pd\n",
    "sol0=pd.read_csv('/kaggle/input/usa-yield-prediction-flaml-rmse/rmse.csv')\n",
    "sol0.head()"
   ]
  },
  {
   "cell_type": "code",
   "execution_count": null,
   "id": "2e0f1681",
   "metadata": {},
   "outputs": [],
   "source": [
    "sol0.shape"
   ]
  },
  {
   "cell_type": "code",
   "execution_count": null,
   "id": "234bfe4b",
   "metadata": {},
   "outputs": [],
   "source": [
    "sol1=pd.read_csv('/kaggle/input/cotton-yield-prediction-flaml-rmse/rmse.csv')\n",
    "sol1.head()"
   ]
  },
  {
   "cell_type": "code",
   "execution_count": null,
   "id": "8f89a523",
   "metadata": {},
   "outputs": [],
   "source": [
    "sol1.shape"
   ]
  },
  {
   "cell_type": "code",
   "execution_count": null,
   "id": "348caf2d",
   "metadata": {},
   "outputs": [],
   "source": [
    "sol2=pd.read_csv('/kaggle/input/cotton-price-dollar-ton-prediction-prophet/fbprophet.csv')\n",
    "sol2.head()"
   ]
  },
  {
   "cell_type": "code",
   "execution_count": null,
   "id": "b9e93967",
   "metadata": {},
   "outputs": [],
   "source": [
    "sol2.shape"
   ]
  },
  {
   "cell_type": "code",
   "execution_count": null,
   "id": "e76950f9",
   "metadata": {},
   "outputs": [],
   "source": [
    "sol=pd.read_csv('/kaggle/input/google-for-developers-sustainability-hackathon/submission.csv')\n",
    "sol.head()"
   ]
  },
  {
   "cell_type": "code",
   "execution_count": null,
   "id": "e2f89f0a",
   "metadata": {},
   "outputs": [],
   "source": [
    "sol.shape"
   ]
  },
  {
   "cell_type": "code",
   "execution_count": null,
   "id": "6a937815",
   "metadata": {},
   "outputs": [],
   "source": [
    "sol['Yield (Pounds/ Harvested Area)']=sol0['Yield (Pounds/ Harvested Area)']\n",
    "sol['COTTON YIELD (Kg per ha)']=sol1['COTTON YIELD (Kg per ha)']\n",
    "sol['Cotton_Price[Dollar/ton]']=sol2['Cotton_Price[Dollar/ton]']\n",
    "sol.head()"
   ]
  },
  {
   "cell_type": "code",
   "execution_count": null,
   "id": "2ab09f67",
   "metadata": {},
   "outputs": [],
   "source": [
    "sol.info()"
   ]
  },
  {
   "cell_type": "code",
   "execution_count": null,
   "id": "2d639f8b",
   "metadata": {},
   "outputs": [],
   "source": [
    "sol = sol.fillna(0)\n",
    "sol.info()"
   ]
  },
  {
   "cell_type": "code",
   "execution_count": null,
   "id": "eeb48224",
   "metadata": {},
   "outputs": [],
   "source": [
    "sol.to_csv(\"rmse.csv\",index=False)"
   ]
  }
 ],
 "metadata": {},
 "nbformat": 4,
 "nbformat_minor": 5
}
