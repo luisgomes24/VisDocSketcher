{
 "cells": [
  {
   "cell_type": "code",
   "execution_count": null,
   "id": "1369ea99",
   "metadata": {},
   "outputs": [],
   "source": [
    "import pandas as pd\n",
    "import matplotlib.pyplot as plt\n",
    "import seaborn as sns\n",
    "sns.set(style=\"darkgrid\")"
   ]
  },
  {
   "cell_type": "code",
   "execution_count": null,
   "id": "d1fc1a50",
   "metadata": {},
   "outputs": [],
   "source": [
    "vic_df = pd.read_csv(\"../input/20_Victims_of_rape.csv\")"
   ]
  },
  {
   "cell_type": "markdown",
   "id": "1cd2c5e2",
   "metadata": {},
   "source": [
    "# Total number of rapes in All States:"
   ]
  },
  {
   "cell_type": "code",
   "execution_count": null,
   "id": "f31c1286",
   "metadata": {},
   "outputs": [],
   "source": [
    "state_df =  vic_df[['Area_Name','Victims_of_Rape_Total','Subgroup']]\n",
    "state_sort = state_df.groupby(['Area_Name','Subgroup'],as_index=False).sum().sort_values('Victims_of_Rape_Total', ascending=False)\n",
    "state_sort\n",
    "plt.figure(figsize=(12,8))\n",
    "sns.barplot(x=\"Area_Name\", y=\"Victims_of_Rape_Total\", hue=\"Subgroup\" ,data=state_sort,palette='viridis')\n",
    "plt.xticks(rotation=45,ha='right')\n",
    "plt.title('Total Rape Cases in overall states', fontsize=15)\n",
    "plt.tight_layout()\n",
    "plt.show()"
   ]
  },
  {
   "cell_type": "code",
   "execution_count": null,
   "id": "f25b4cb8",
   "metadata": {},
   "outputs": [],
   "source": [
    "state_df =  vic_df[['Year','Area_Name','Victims_of_Rape_Total','Subgroup']]\n",
    "state_sort = state_df.groupby(['Year','Area_Name'],as_index=False).sum().sort_values('Victims_of_Rape_Total', ascending=False)\n",
    "plt.figure(figsize=(12,8))\n",
    "sns.catplot(x=\"Year\", y=\"Victims_of_Rape_Total\", kind=\"bar\", data=state_sort, col=\"Area_Name\", height=5)\n",
    "plt.xticks(rotation=45,ha='right')\n",
    "plt.title('Total Rape Cases in overall states', fontsize=15)\n",
    "plt.tight_layout()\n",
    "plt.show()"
   ]
  },
  {
   "cell_type": "markdown",
   "id": "d93af073",
   "metadata": {},
   "source": [
    "# Total number of rapes b/w 2001-2010 in overall states"
   ]
  },
  {
   "cell_type": "code",
   "execution_count": null,
   "id": "1f0b93e2",
   "metadata": {},
   "outputs": [],
   "source": [
    "state_df =  vic_df[['Area_Name','Victims_of_Rape_Total']]\n",
    "state_sort = state_df.groupby(['Area_Name'],as_index=False).sum().sort_values('Victims_of_Rape_Total', ascending=False)\n",
    "state_sort\n",
    "plt.figure(figsize=(12,8))\n",
    "sns.barplot(x=\"Area_Name\", y=\"Victims_of_Rape_Total\", data=state_sort,palette='deep')\n",
    "plt.xticks(rotation=45,ha='right')\n",
    "plt.title('Total Rape Cases in overall states', fontsize=15)\n",
    "plt.tight_layout()\n",
    "plt.show()"
   ]
  },
  {
   "cell_type": "markdown",
   "id": "a482b666",
   "metadata": {},
   "source": [
    "## Rape cases in Delhi:"
   ]
  },
  {
   "cell_type": "code",
   "execution_count": null,
   "id": "4ce26b47",
   "metadata": {},
   "outputs": [],
   "source": [
    "Delhi_df = vic_df[vic_df['Area_Name']=='Delhi']\n",
    "Delhi_df =  Delhi_df[['Year','Victims_of_Rape_Total']]\n",
    "Delhi_sort = Delhi_df.groupby(['Year'],as_index=False).sum().sort_values('Victims_of_Rape_Total', ascending=False)\n",
    "plt.figure(figsize=(12,6))\n",
    "sns.barplot(x=\"Year\", y=\"Victims_of_Rape_Total\", data=Delhi_sort,palette='viridis')\n",
    "plt.xticks(rotation=45,ha='right')\n",
    "plt.title('Total Rape Cases in Delhi(2001-2010)', fontsize=15)\n",
    "plt.tight_layout()\n",
    "plt.show()\n"
   ]
  },
  {
   "cell_type": "code",
   "execution_count": null,
   "id": "1c0058fd",
   "metadata": {},
   "outputs": [],
   "source": [
    "Delhi_df = vic_df[vic_df['Area_Name']=='Delhi']\n",
    "Delhi_df =  Delhi_df[['Year','Victims_of_Rape_Total','Subgroup']]\n",
    "Delhi_df\n",
    "Delhi_sort = Delhi_df.groupby(['Year','Subgroup'],as_index=False).sum().sort_values('Victims_of_Rape_Total', ascending=False)\n",
    "plt.figure(figsize=(12,6))\n",
    "sns.barplot(x=\"Year\", y=\"Victims_of_Rape_Total\", data=Delhi_sort, hue=\"Subgroup\", palette='viridis')\n",
    "plt.xticks(rotation=45,ha='right')\n",
    "plt.title('Total Rape Cases in Delhi(2001-2010)', fontsize=15)\n",
    "plt.tight_layout()\n",
    "plt.show()\n"
   ]
  },
  {
   "cell_type": "code",
   "execution_count": null,
   "id": "31b6cab9",
   "metadata": {},
   "outputs": [],
   "source": [
    "nan"
   ]
  }
 ],
 "metadata": {},
 "nbformat": 4,
 "nbformat_minor": 5
}
