{
 "cells": [
  {
   "cell_type": "code",
   "execution_count": null,
   "id": "4d2d9256",
   "metadata": {},
   "outputs": [],
   "source": [
    "import numpy as np\n",
    "import pandas as pd\n",
    "import matplotlib.pyplot as plt\n",
    "import seaborn as sns"
   ]
  },
  {
   "cell_type": "code",
   "execution_count": null,
   "id": "96e08495",
   "metadata": {},
   "outputs": [],
   "source": [
    "df_meta = pd.read_csv('/kaggle/input/asl-fingerspelling/supplemental_metadata.csv')"
   ]
  },
  {
   "cell_type": "code",
   "execution_count": null,
   "id": "dd343008",
   "metadata": {},
   "outputs": [],
   "source": [
    "df_meta.head()"
   ]
  },
  {
   "cell_type": "code",
   "execution_count": null,
   "id": "7ad99a32",
   "metadata": {},
   "outputs": [],
   "source": [
    "df_train = pd.read_csv('/kaggle/input/asl-fingerspelling/train.csv')"
   ]
  },
  {
   "cell_type": "code",
   "execution_count": null,
   "id": "d3c88b1d",
   "metadata": {},
   "outputs": [],
   "source": [
    "df_train.head()"
   ]
  },
  {
   "cell_type": "code",
   "execution_count": null,
   "id": "305e07eb",
   "metadata": {},
   "outputs": [],
   "source": [
    "\n",
    "# Specify the path to the Parquet file\n",
    "parquet_file_path = '/kaggle/input/asl-fingerspelling/supplemental_landmarks/369584223.parquet'\n",
    "\n",
    "# Read the Parquet file into a DataFrame\n",
    "df = pd.read_parquet(parquet_file_path)\n",
    "\n",
    "df = df[:1000]\n",
    "df.shape"
   ]
  },
  {
   "cell_type": "code",
   "execution_count": null,
   "id": "ded9877c",
   "metadata": {},
   "outputs": [],
   "source": [
    "df.isnull().sum()"
   ]
  },
  {
   "cell_type": "code",
   "execution_count": null,
   "id": "12386a43",
   "metadata": {},
   "outputs": [],
   "source": [
    "df.info()"
   ]
  },
  {
   "cell_type": "code",
   "execution_count": null,
   "id": "e464a68a",
   "metadata": {},
   "outputs": [],
   "source": [
    "# Choose the x and y columns\n",
    "x_column = 'x_face_2'  # Replace 'x' with the actual column name for x-coordinate\n",
    "y_column = 'y_face_2'  # Replace 'y' with the actual column name for y-coordinate\n",
    "\n",
    "# Plot the x and y coordinates\n",
    "plt.scatter(df[x_column][:30], df[y_column][:30])\n",
    "plt.xlabel('X Coordinate')\n",
    "plt.ylabel('Y Coordinate')\n",
    "plt.title('Scatter Plot of X and Y Coordinates')\n",
    "plt.show()"
   ]
  },
  {
   "cell_type": "code",
   "execution_count": null,
   "id": "8b68097b",
   "metadata": {},
   "outputs": [],
   "source": [
    "\n",
    "# Specify the path to the Parquet file\n",
    "parquet_file_path = '/kaggle/input/asl-fingerspelling/train_landmarks/5414471.parquet'\n",
    "\n",
    "# Read the Parquet file into a DataFrame\n",
    "df_train = pd.read_parquet(parquet_file_path)\n",
    "\n",
    "\n",
    "df_train.shape"
   ]
  },
  {
   "cell_type": "code",
   "execution_count": null,
   "id": "914c01f5",
   "metadata": {},
   "outputs": [],
   "source": [
    "# Choose the x and y columns\n",
    "x_column = 'x_face_2'  # Replace 'x' with the actual column name for x-coordinate\n",
    "y_column = 'y_face_2'  # Replace 'y' with the actual column name for y-coordinate\n",
    "\n",
    "# Plot the x and y coordinates\n",
    "plt.scatter(df_train[x_column][:50], df_train[y_column][:50])\n",
    "plt.xlabel('X Coordinate')\n",
    "plt.ylabel('Y Coordinate')\n",
    "plt.title('Scatter Plot of X and Y Coordinates')\n",
    "plt.show()"
   ]
  },
  {
   "cell_type": "code",
   "execution_count": null,
   "id": "8a3d62d4",
   "metadata": {},
   "outputs": [],
   "source": [
    "import pyarrow.parquet as pq\n",
    "\n",
    "# Specify the path to the Parquet file\n",
    "parquet_file_path = '/kaggle/input/asl-fingerspelling/supplemental_landmarks/369584223.parquet'\n",
    "\n",
    "# Load the Parquet file into a Pandas DataFrame\n",
    "df = pq.read_table(parquet_file_path).to_pandas()\n",
    "\n",
    "# Set the random seed for reproducibility\n",
    "np.random.seed(42)\n",
    "\n",
    "# Sample a subset of the data for EDA (adjust the sample size as needed)\n",
    "sample_size = 1000\n",
    "df_sample = df.sample(n=sample_size)"
   ]
  },
  {
   "cell_type": "code",
   "execution_count": null,
   "id": "472ca5b6",
   "metadata": {},
   "outputs": [],
   "source": [
    "df_sample.describe()"
   ]
  },
  {
   "cell_type": "code",
   "execution_count": null,
   "id": "077aec52",
   "metadata": {},
   "outputs": [],
   "source": [
    "# Read the Parquet file schema\n",
    "parquet_file = pq.ParquetFile(parquet_file_path)\n",
    "column_names = parquet_file.schema.names\n",
    "\n",
    "# Print the column names\n",
    "print(column_names)"
   ]
  },
  {
   "cell_type": "code",
   "execution_count": null,
   "id": "f7379612",
   "metadata": {},
   "outputs": [],
   "source": [
    "# Specify the columns you want to load\n",
    "selected_columns = ['x_face_0', 'x_face_1', 'x_face_2', 'x_face_3', 'x_face_4', 'x_face_5','y_face_1','y_face_2', 'y_face_3', 'y_face_4', 'y_face_5']"
   ]
  },
  {
   "cell_type": "code",
   "execution_count": null,
   "id": "c74da546",
   "metadata": {},
   "outputs": [],
   "source": [
    "# Load the selected columns from the Parquet file into a Pandas DataFrame\n",
    "df = pq.read_table(parquet_file_path, columns=selected_columns).to_pandas()\n"
   ]
  },
  {
   "cell_type": "code",
   "execution_count": null,
   "id": "64b74fa6",
   "metadata": {},
   "outputs": [],
   "source": [
    "df[:100]"
   ]
  },
  {
   "cell_type": "code",
   "execution_count": null,
   "id": "83a01a70",
   "metadata": {},
   "outputs": [],
   "source": [
    "correlation_matrix = df.corr()\n",
    "print(correlation_matrix)"
   ]
  },
  {
   "cell_type": "code",
   "execution_count": null,
   "id": "f903642e",
   "metadata": {},
   "outputs": [],
   "source": [
    "sns.boxplot(data=df[selected_columns])\n",
    "plt.show()"
   ]
  },
  {
   "cell_type": "code",
   "execution_count": null,
   "id": "7629a93c",
   "metadata": {},
   "outputs": [],
   "source": [
    "sns.pairplot(data=df[selected_columns])\n",
    "plt.show()"
   ]
  },
  {
   "cell_type": "code",
   "execution_count": null,
   "id": "a887fad1",
   "metadata": {},
   "outputs": [],
   "source": [
    "correlation_matrix = df[selected_columns].corr()\n",
    "sns.heatmap(correlation_matrix, annot=True, cmap='coolwarm')\n",
    "plt.show()"
   ]
  },
  {
   "cell_type": "code",
   "execution_count": null,
   "id": "85bdd15f",
   "metadata": {},
   "outputs": [],
   "source": [
    "for column in selected_columns:\n",
    "    sns.histplot(df[column], kde=True)\n",
    "    plt.xlabel(column)\n",
    "    plt.show()"
   ]
  },
  {
   "cell_type": "code",
   "execution_count": null,
   "id": "23db990c",
   "metadata": {},
   "outputs": [],
   "source": [
    "nan"
   ]
  }
 ],
 "metadata": {},
 "nbformat": 4,
 "nbformat_minor": 5
}
