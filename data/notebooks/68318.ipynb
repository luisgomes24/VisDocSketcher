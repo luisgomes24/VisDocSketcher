{
 "cells": [
  {
   "cell_type": "code",
   "execution_count": null,
   "id": "3921b106",
   "metadata": {},
   "outputs": [],
   "source": [
    "# This Python 3 environment comes with many helpful analytics libraries installed\n",
    "# It is defined by the kaggle/python docker image: https://github.com/kaggle/docker-python\n",
    "# For example, here's several helpful packages to load in \n",
    "\n",
    "import numpy as np # linear algebra\n",
    "import pandas as pd # data processing, CSV file I/O (e.g. pd.read_csv)\n",
    "import matplotlib.pyplot as plt\n",
    "import matplotlib\n",
    "matplotlib.style.use('ggplot')\n",
    "\n",
    "\n",
    "# Input data files are available in the \"../input/\" directory.\n",
    "# For example, running this (by clicking run or pressing Shift+Enter) will list the files in the input directory\n",
    "\n",
    "from subprocess import check_output\n",
    "print(check_output([\"ls\", \"../input\"]).decode(\"utf8\"))\n",
    "\n",
    "# Any results you write to the current directory are saved as output.\n",
    "\n",
    "new_c = pd.read_csv(\"../input/2016-FCC-New-Coders-Survey-Data.csv\")\n",
    "\n",
    "\n",
    "\n"
   ]
  },
  {
   "cell_type": "code",
   "execution_count": null,
   "id": "8c24b39a",
   "metadata": {},
   "outputs": [],
   "source": [
    "pd.set_option('display.max_columns', 1000)\n",
    "new_c.describe()"
   ]
  },
  {
   "cell_type": "code",
   "execution_count": null,
   "id": "67f803b3",
   "metadata": {},
   "outputs": [],
   "source": [
    "new_c"
   ]
  },
  {
   "cell_type": "code",
   "execution_count": null,
   "id": "6adde8bc",
   "metadata": {},
   "outputs": [],
   "source": [
    "SchoolMajor_counts = new_c['SchoolMajor'].value_counts()\n",
    "SchoolMajorPlot = SchoolMajor_counts[:16].plot(kind='bar')\n",
    "SchoolMajorPlot.set_title('School Major distribution')\n",
    "SchoolMajorPlot.set_xlabel('Name of school major')"
   ]
  },
  {
   "cell_type": "code",
   "execution_count": null,
   "id": "545e8166",
   "metadata": {},
   "outputs": [],
   "source": [
    "SchoolDegree_count = new_c['SchoolDegree'].value_counts()\n",
    "SchoolDegreePlot = SchoolDegree_count.plot(kind='bar')\n",
    "SchoolDegreePlot.set_xlabel('Shool Degree')\n",
    "SchoolDegreePlot.set_title('Shool Degree dsitribution')"
   ]
  },
  {
   "cell_type": "code",
   "execution_count": null,
   "id": "490d763e",
   "metadata": {},
   "outputs": [],
   "source": [
    "BootcampPostSalary_count = new_c['BootcampPostSalary'].value_counts()\n",
    "SalaryPlot = new_c['BootcampPostSalary'].plot.hist( )\n",
    "SalaryPlot.set_xlabel('Anual Salary in USD after bootcamp')\n",
    "SalaryPlot.set_title('Anual salary after bootcamp distribution')"
   ]
  },
  {
   "cell_type": "code",
   "execution_count": null,
   "id": "30e1f0a2",
   "metadata": {},
   "outputs": [],
   "source": [
    "aplot = new_c['Age'].plot.hist()\n",
    "aplot.set_xlabel('Age')\n",
    "aplot.set_title('Age distribution')"
   ]
  },
  {
   "cell_type": "code",
   "execution_count": null,
   "id": "eb7716f9",
   "metadata": {},
   "outputs": [],
   "source": [
    "new_c.pivot_table(values= 'BootcampPostSalary', columns = 'SchoolDegree', aggfunc=np.max)\n"
   ]
  },
  {
   "cell_type": "code",
   "execution_count": null,
   "id": "57efc650",
   "metadata": {},
   "outputs": [],
   "source": [
    "nan"
   ]
  },
  {
   "cell_type": "code",
   "execution_count": null,
   "id": "25052d8f",
   "metadata": {},
   "outputs": [],
   "source": [
    "degree = np.array(new_c['SchoolDegree'])    \n",
    "new_c.plot(kind = 'scatter', x='Age' , y= 'BootcampPostSalary').set_title('Age vs Salary after bootcamp')"
   ]
  },
  {
   "cell_type": "code",
   "execution_count": null,
   "id": "dc5d3da6",
   "metadata": {},
   "outputs": [],
   "source": [
    "plt.scatter(new_c['Age'],new_c['HoursLearning'], s= new_c['BootcampPostSalary']/1000)"
   ]
  },
  {
   "cell_type": "code",
   "execution_count": null,
   "id": "d1157b00",
   "metadata": {},
   "outputs": [],
   "source": [
    "np_sd = np.array(new_c['SchoolDegree']\n",
    "col = {\n",
    "        'Ph.D.':\"Red\",                                       \n",
    "        \"associate's degree\":\"Green,                        \n",
    "        \"bachelor's degree\":\"Blue\",                           \n",
    "        \"high school diploma or equivalent (GED)\":\"Purple\"    \n",
    "        \"master's degree (non-professional)\":\"Black\",          \n",
    "        \"no high school (secondary school)\":\"Yellow\",               \n",
    "        \"professional degree (MBA, MD, JD, etc.)\":\"Purple\",     \n",
    "        \"some college credit, no degree\":\"Purple\",             \n",
    "        \"some high school\":\"Purple\",                            \n",
    "        \"trade, technical, or vocational training\":\"Purple\",\n",
    "        }\n",
    " new_c.scatter(x = age , y = BootcampPostSalary, c = col, alpha =0.8)\n",
    "       "
   ]
  }
 ],
 "metadata": {},
 "nbformat": 4,
 "nbformat_minor": 5
}
