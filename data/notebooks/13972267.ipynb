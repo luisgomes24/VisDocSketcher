{
 "cells": [
  {
   "cell_type": "markdown",
   "id": "03afbb0a",
   "metadata": {},
   "source": [
    "# User based - Item based Recommendation System"
   ]
  },
  {
   "cell_type": "code",
   "execution_count": null,
   "id": "22c410ce",
   "metadata": {},
   "outputs": [],
   "source": [
    "import pandas as pd\n",
    "import numpy as np\n",
    "import seaborn as sns\n",
    "import surprise\n",
    "from surprise import KNNBasic,accuracy\n",
    "from surprise.model_selection import train_test_split"
   ]
  },
  {
   "cell_type": "code",
   "execution_count": null,
   "id": "ebf139e7",
   "metadata": {},
   "outputs": [],
   "source": [
    "ratings=pd.read_csv('../input/goodbooks-10k/ratings.csv')"
   ]
  },
  {
   "cell_type": "code",
   "execution_count": null,
   "id": "48351247",
   "metadata": {},
   "outputs": [],
   "source": [
    "ratings.shape"
   ]
  },
  {
   "cell_type": "code",
   "execution_count": null,
   "id": "fbf02716",
   "metadata": {},
   "outputs": [],
   "source": [
    "ratings.head()"
   ]
  },
  {
   "cell_type": "code",
   "execution_count": null,
   "id": "b8d32137",
   "metadata": {},
   "outputs": [],
   "source": [
    "books=pd.read_csv('../input/goodbooks-10k/books.csv')"
   ]
  },
  {
   "cell_type": "code",
   "execution_count": null,
   "id": "32fcd513",
   "metadata": {},
   "outputs": [],
   "source": [
    "books.shape"
   ]
  },
  {
   "cell_type": "code",
   "execution_count": null,
   "id": "7c990735",
   "metadata": {},
   "outputs": [],
   "source": [
    "books.head(20)"
   ]
  },
  {
   "cell_type": "code",
   "execution_count": null,
   "id": "fe910f13",
   "metadata": {},
   "outputs": [],
   "source": [
    "train=pd.merge(books,ratings)\n",
    "train.head()"
   ]
  },
  {
   "cell_type": "code",
   "execution_count": null,
   "id": "c3c914f3",
   "metadata": {},
   "outputs": [],
   "source": [
    "sns.heatmap(train.isnull(),yticklabels=False,cbar=False)"
   ]
  },
  {
   "cell_type": "code",
   "execution_count": null,
   "id": "658e819b",
   "metadata": {},
   "outputs": [],
   "source": [
    "userRatings = train.pivot_table(index=['user_id'],columns=['title'],values='rating')\n",
    "userRatings.head()"
   ]
  },
  {
   "cell_type": "code",
   "execution_count": null,
   "id": "aed14b70",
   "metadata": {},
   "outputs": [],
   "source": [
    "userRatings=userRatings.dropna(thresh=10,axis=1).fillna(0)\n",
    "#Here we are removing the movies having less than 10 user ratings and replacing NaN values with 0.\n",
    "userRatings.head()"
   ]
  },
  {
   "cell_type": "code",
   "execution_count": null,
   "id": "3200e3c7",
   "metadata": {},
   "outputs": [],
   "source": [
    "books=userRatings.columns"
   ]
  },
  {
   "cell_type": "code",
   "execution_count": null,
   "id": "7a9ae36c",
   "metadata": {},
   "outputs": [],
   "source": [
    "i=0\n",
    "for book in books:\n",
    "    print(i,book)\n",
    "    i=i+1"
   ]
  },
  {
   "cell_type": "code",
   "execution_count": null,
   "id": "7e6978de",
   "metadata": {},
   "outputs": [],
   "source": [
    "item_similarity_pearson=userRatings.corr(method='pearson')\n",
    "item_similarity_pearson.head()"
   ]
  },
  {
   "cell_type": "code",
   "execution_count": null,
   "id": "204307e7",
   "metadata": {},
   "outputs": [],
   "source": [
    "ratings=ratings[['user_id','book_id','rating']] \n",
    "ratings = ratings.iloc[:20000,:]\n",
    "reader = surprise.Reader(rating_scale=(1,5)) \n",
    "dataset1 = surprise.Dataset.load_from_df(ratings, reader)"
   ]
  },
  {
   "cell_type": "code",
   "execution_count": null,
   "id": "c54fd0c2",
   "metadata": {},
   "outputs": [],
   "source": [
    "train1,test1 = train_test_split(dataset1,test_size=0.2)"
   ]
  },
  {
   "cell_type": "markdown",
   "id": "4f4b1a8b",
   "metadata": {},
   "source": [
    "## User Based"
   ]
  },
  {
   "cell_type": "code",
   "execution_count": null,
   "id": "73d4f1ba",
   "metadata": {},
   "outputs": [],
   "source": [
    "user_model = surprise.KNNBasic(k=40,sim_options={'name': 'pearson','user_based': True})\n",
    "user_model.fit(train1)\n",
    "preds = user_model.test(test1)\n",
    "accuracy.rmse(preds,verbose=True)"
   ]
  },
  {
   "cell_type": "code",
   "execution_count": null,
   "id": "f70619c6",
   "metadata": {},
   "outputs": [],
   "source": [
    "user1=[(\"1421: The Year China Discovered America\",4.0),\n",
    "       (\"A House for Mr Biswas\",5.0),\n",
    "       (\"A History of God: The 4,000-Year Quest of Judaism, Christianity, and Islam\",1.0)\n",
    "      ]\n",
    "user1=zip(books,userRatings.iloc[0,:])"
   ]
  },
  {
   "cell_type": "code",
   "execution_count": null,
   "id": "72458895",
   "metadata": {},
   "outputs": [],
   "source": [
    "def get_similar_movies_pearson_user(movie_name,user_rating):\n",
    "    similar_score=item_similarity_pearson[movie_name]*(user_rating-2.5)\n",
    "    similar_score=similar_score.sort_values(ascending=False)\n",
    "    return similar_score"
   ]
  },
  {
   "cell_type": "code",
   "execution_count": null,
   "id": "bfc9ef47",
   "metadata": {},
   "outputs": [],
   "source": [
    "print(\"Using Pearson\")\n",
    "similar_movies=pd.DataFrame()\n",
    "for movie,rating in user1:\n",
    "    similar_movies=similar_movies.append(get_similar_movies_pearson_user(movie,rating),ignore_index=True)\n",
    "recommended_pearson=similar_movies.sum().sort_values(ascending=False).index"
   ]
  },
  {
   "cell_type": "code",
   "execution_count": null,
   "id": "d9b126e0",
   "metadata": {},
   "outputs": [],
   "source": [
    "print(\"User-based Collabrative Filtering (Pearson)\\n Recommendations for user_id 2\")\n",
    "print(\"\\n\\n\")\n",
    "for ind in recommended_pearson[:10]:\n",
    "    print(ind)"
   ]
  },
  {
   "cell_type": "markdown",
   "id": "bc01c927",
   "metadata": {},
   "source": [
    "## Item based"
   ]
  },
  {
   "cell_type": "code",
   "execution_count": null,
   "id": "4144c577",
   "metadata": {},
   "outputs": [],
   "source": [
    "item_model = surprise.KNNBasic(k=40,sim_options={'name': 'pearson','user_based': False})"
   ]
  },
  {
   "cell_type": "code",
   "execution_count": null,
   "id": "1be6e8cd",
   "metadata": {},
   "outputs": [],
   "source": [
    "item_model.fit(train1)\n",
    "preds = item_model.test(test1)\n",
    "accuracy.rmse(preds,verbose=True)\n"
   ]
  },
  {
   "cell_type": "code",
   "execution_count": null,
   "id": "c812d8f3",
   "metadata": {},
   "outputs": [],
   "source": [
    "def get_similar_movies_pearson_itemtoitem(bookname):\n",
    "    similar_score=item_similarity_pearson[bookname]*(2.5)\n",
    "    similar_score=similar_score.sort_values(ascending=False)\n",
    "    return similar_score"
   ]
  },
  {
   "cell_type": "code",
   "execution_count": null,
   "id": "b02b1104",
   "metadata": {},
   "outputs": [],
   "source": [
    "book_name=books[0]"
   ]
  },
  {
   "cell_type": "code",
   "execution_count": null,
   "id": "a8a0d754",
   "metadata": {},
   "outputs": [],
   "source": [
    "recommended_pearson_item=get_similar_movies_pearson_itemtoitem(book_name).index"
   ]
  },
  {
   "cell_type": "code",
   "execution_count": null,
   "id": "32139510",
   "metadata": {},
   "outputs": [],
   "source": [
    "print(\"Item based Collabrative Filtering for book\",book_name,\"\\n\\n\")\n",
    "for ind in recommended_pearson_item[1:11]:\n",
    "    print(ind)"
   ]
  },
  {
   "cell_type": "code",
   "execution_count": null,
   "id": "b95cd249",
   "metadata": {},
   "outputs": [],
   "source": [
    "nan"
   ]
  }
 ],
 "metadata": {},
 "nbformat": 4,
 "nbformat_minor": 5
}
