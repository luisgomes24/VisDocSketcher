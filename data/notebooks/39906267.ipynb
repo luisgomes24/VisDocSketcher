{
 "cells": [
  {
   "cell_type": "markdown",
   "id": "25cd93bd",
   "metadata": {},
   "source": [
    "## Basic Libraries"
   ]
  },
  {
   "cell_type": "code",
   "execution_count": null,
   "id": "586b3d66",
   "metadata": {},
   "outputs": [],
   "source": [
    "import numpy as np\n",
    "import pandas as pd "
   ]
  },
  {
   "cell_type": "markdown",
   "id": "0b343199",
   "metadata": {},
   "source": [
    "## Reading **train_csv**"
   ]
  },
  {
   "cell_type": "code",
   "execution_count": null,
   "id": "cff32e80",
   "metadata": {},
   "outputs": [],
   "source": [
    "df_train = pd.read_csv(\"/kaggle/input/human-genetic-data/genetic_data_train.csv\")\n",
    "df_train.head()"
   ]
  },
  {
   "cell_type": "markdown",
   "id": "56c3adb3",
   "metadata": {},
   "source": [
    "## **Exploratory Data Analysis**"
   ]
  },
  {
   "cell_type": "markdown",
   "id": "10cfdc10",
   "metadata": {},
   "source": [
    "### **nunique()**"
   ]
  },
  {
   "cell_type": "code",
   "execution_count": null,
   "id": "0d990587",
   "metadata": {},
   "outputs": [],
   "source": [
    "df_train.nunique()"
   ]
  },
  {
   "cell_type": "markdown",
   "id": "310a0781",
   "metadata": {},
   "source": [
    "### **isna()**"
   ]
  },
  {
   "cell_type": "code",
   "execution_count": null,
   "id": "f294d1f3",
   "metadata": {},
   "outputs": [],
   "source": [
    "df_train.isna().sum()"
   ]
  },
  {
   "cell_type": "markdown",
   "id": "177dbd67",
   "metadata": {},
   "source": [
    "### **columns**"
   ]
  },
  {
   "cell_type": "code",
   "execution_count": null,
   "id": "66a1f5f3",
   "metadata": {},
   "outputs": [],
   "source": [
    "df_train.columns"
   ]
  },
  {
   "cell_type": "markdown",
   "id": "1d2d8cb5",
   "metadata": {},
   "source": [
    "## Mapping **\"Numeric\"** values to **\"Ancestry\"** column"
   ]
  },
  {
   "cell_type": "markdown",
   "id": "24ed900d",
   "metadata": {},
   "source": [
    "### Creating **\"map_dict\"**"
   ]
  },
  {
   "cell_type": "code",
   "execution_count": null,
   "id": "70cb5fc2",
   "metadata": {},
   "outputs": [],
   "source": [
    "map_dict = dict(zip(pd.Series(df_train['Ancestry'].unique()), pd.Series([i for i in range(df_train['Ancestry'].nunique())])   ))\n",
    "map_dict"
   ]
  },
  {
   "cell_type": "markdown",
   "id": "fabeead7",
   "metadata": {},
   "source": [
    "### Mapping **\"map_dict\"** to **\"Ancestry\"** column"
   ]
  },
  {
   "cell_type": "code",
   "execution_count": null,
   "id": "1c9b8cf3",
   "metadata": {},
   "outputs": [],
   "source": [
    "df_train['Ancestry Label'] = df_train['Ancestry'].map(map_dict)\n",
    "df_train.head()"
   ]
  },
  {
   "cell_type": "markdown",
   "id": "efe4e9c2",
   "metadata": {},
   "source": [
    "## Creating **X** & **y**"
   ]
  },
  {
   "cell_type": "code",
   "execution_count": null,
   "id": "1c579c4e",
   "metadata": {},
   "outputs": [],
   "source": [
    "X = df_train.drop(['Ancestry', 'Ancestry Label'], axis =1)\n",
    "y = df_train['Ancestry Label']"
   ]
  },
  {
   "cell_type": "markdown",
   "id": "fd9af8a9",
   "metadata": {},
   "source": [
    "## **train_test_split**"
   ]
  },
  {
   "cell_type": "code",
   "execution_count": null,
   "id": "ba6e4a24",
   "metadata": {},
   "outputs": [],
   "source": [
    "from sklearn.model_selection import train_test_split\n",
    "\n",
    "X_train , X_test , y_train ,y_test = train_test_split(X,y,test_size=0.22, stratify = y)"
   ]
  },
  {
   "cell_type": "markdown",
   "id": "b761b323",
   "metadata": {},
   "source": [
    "## Model: **Logistic Regression** (100% score)"
   ]
  },
  {
   "cell_type": "code",
   "execution_count": null,
   "id": "0ac5eb99",
   "metadata": {},
   "outputs": [],
   "source": [
    "from sklearn.linear_model import LogisticRegression\n",
    "\n",
    "model = LogisticRegression()\n",
    "\n",
    "model.fit(X_train , y_train)\n",
    "\n",
    "model.score(X_test, y_test)"
   ]
  },
  {
   "cell_type": "markdown",
   "id": "42b5e6cc",
   "metadata": {},
   "source": [
    "## Visualisation using **\"classification_report\"** & **\"confusion_matrix\"**"
   ]
  },
  {
   "cell_type": "code",
   "execution_count": null,
   "id": "b0866c5e",
   "metadata": {},
   "outputs": [],
   "source": [
    "y_pred = model.predict(X_test)\n",
    "\n",
    "from sklearn.metrics import classification_report, confusion_matrix\n",
    "\n",
    "print(\" Classification Report    :\\n\\n\\n\" , classification_report(y_test , y_pred), \"\\n\\n\\n\")\n",
    "\n",
    "cm = confusion_matrix(y_test, y_pred)\n",
    "\n",
    "import seaborn as sn\n",
    "\n",
    "import matplotlib.pyplot as plt\n",
    "\n",
    "plt.figure(figsize = (4,4))\n",
    "sn.heatmap(cm ,annot=True, fmt=\"d\" )\n",
    "plt.xlabel(\"Prediction\")\n",
    "plt.ylabel(\"Truth\")\n",
    "plt.title(\" Confusion Matrix\")\n",
    "plt.show()\n"
   ]
  },
  {
   "cell_type": "markdown",
   "id": "68c71778",
   "metadata": {},
   "source": [
    "## Reading **test_csv**"
   ]
  },
  {
   "cell_type": "code",
   "execution_count": null,
   "id": "ba622d21",
   "metadata": {},
   "outputs": [],
   "source": [
    "df_test = pd.read_csv(\"/kaggle/input/human-genetic-data/genetic_data_test.csv\")\n",
    "df_test.head()"
   ]
  },
  {
   "cell_type": "markdown",
   "id": "471eca3f",
   "metadata": {},
   "source": [
    "## Creating **X_Test**"
   ]
  },
  {
   "cell_type": "code",
   "execution_count": null,
   "id": "7eb98527",
   "metadata": {},
   "outputs": [],
   "source": [
    "X_Test = df_test.drop(['Ancestry'], axis  =1)"
   ]
  },
  {
   "cell_type": "markdown",
   "id": "9e7bda16",
   "metadata": {},
   "source": [
    "## **Prediction Time**"
   ]
  },
  {
   "cell_type": "code",
   "execution_count": null,
   "id": "960da462",
   "metadata": {},
   "outputs": [],
   "source": [
    "y_predi = model.predict(X_Test)\n",
    "y_predi = pd.Series(y_predi)\n",
    "y_predi"
   ]
  },
  {
   "cell_type": "markdown",
   "id": "c9dfee05",
   "metadata": {},
   "source": [
    "## Concating **X_Test** & **y_predi**"
   ]
  },
  {
   "cell_type": "code",
   "execution_count": null,
   "id": "218f276f",
   "metadata": {},
   "outputs": [],
   "source": [
    "Output = pd.concat((X_Test, y_predi), axis =1)\n",
    "Output.columns.values[10] = 'Ancestry Label'\n",
    "Output.head()"
   ]
  },
  {
   "cell_type": "markdown",
   "id": "940512c9",
   "metadata": {},
   "source": [
    "## Mapping **Real** Data To **Numeric** Prediction"
   ]
  },
  {
   "cell_type": "markdown",
   "id": "c9b65680",
   "metadata": {},
   "source": [
    "### Creating **\"inv_map_dict\"**"
   ]
  },
  {
   "cell_type": "code",
   "execution_count": null,
   "id": "78a7f41c",
   "metadata": {},
   "outputs": [],
   "source": [
    "inv_map_dict = {k:v for v,k in map_dict.items()}\n",
    "inv_map_dict"
   ]
  },
  {
   "cell_type": "markdown",
   "id": "b6b0e59d",
   "metadata": {},
   "source": [
    "### Mapping **\"inv_map_dict\"** to **\"Ancestry Label\"** column"
   ]
  },
  {
   "cell_type": "code",
   "execution_count": null,
   "id": "9e0a5518",
   "metadata": {},
   "outputs": [],
   "source": [
    "Output['Ancestry'] = Output['Ancestry Label'].map(inv_map_dict)\n",
    "Output.head()                                              "
   ]
  },
  {
   "cell_type": "markdown",
   "id": "1c6ff543",
   "metadata": {},
   "source": [
    "## ***THANK YOU !***\n",
    "\n",
    "### IF YOU LIKED THE NOTEBOOK , KINDLY COMMENT & LIKE !"
   ]
  }
 ],
 "metadata": {},
 "nbformat": 4,
 "nbformat_minor": 5
}
