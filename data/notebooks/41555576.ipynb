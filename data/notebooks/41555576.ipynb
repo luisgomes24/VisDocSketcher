{
 "cells": [
  {
   "cell_type": "code",
   "execution_count": null,
   "id": "cf20d52d",
   "metadata": {},
   "outputs": [],
   "source": [
    "# This Python 3 environment comes with many helpful analytics libraries installed\n",
    "# It is defined by the kaggle/python Docker image: https://github.com/kaggle/docker-python\n",
    "# For example, here's several helpful packages to load\n",
    "\n",
    "import numpy as np # linear algebra\n",
    "import pandas as pd # data processing, CSV file I/O (e.g. pd.read_csv)\n",
    "\n",
    "# Input data files are available in the read-only \"../input/\" directory\n",
    "# For example, running this (by clicking run or pressing Shift+Enter) will list all files under the input directory\n",
    "\n",
    "import os\n",
    "for dirname, _, filenames in os.walk('/kaggle/input'):\n",
    "    for filename in filenames:\n",
    "        print(os.path.join(dirname, filename))\n",
    "\n",
    "# You can write up to 20GB to the current directory (/kaggle/working/) that gets preserved as output when you create a version using \"Save & Run All\" \n",
    "# You can also write temporary files to /kaggle/temp/, but they won't be saved outside of the current session"
   ]
  },
  {
   "cell_type": "code",
   "execution_count": null,
   "id": "ddd84bb5",
   "metadata": {},
   "outputs": [],
   "source": [
    "df = pd.read_csv('/kaggle/input/heart-disease-classification-dataset/Heart Attack.csv')"
   ]
  },
  {
   "cell_type": "markdown",
   "id": "f58e04a2",
   "metadata": {},
   "source": [
    "# Data Preprocessing"
   ]
  },
  {
   "cell_type": "code",
   "execution_count": null,
   "id": "815be5cf",
   "metadata": {},
   "outputs": [],
   "source": [
    "df.head(2)"
   ]
  },
  {
   "cell_type": "code",
   "execution_count": null,
   "id": "26f9b0ea",
   "metadata": {},
   "outputs": [],
   "source": [
    "df['class'].value_counts()"
   ]
  },
  {
   "cell_type": "code",
   "execution_count": null,
   "id": "f7579085",
   "metadata": {},
   "outputs": [],
   "source": [
    "df.isna().sum()"
   ]
  },
  {
   "cell_type": "code",
   "execution_count": null,
   "id": "d77abda2",
   "metadata": {},
   "outputs": [],
   "source": [
    "df.duplicated().sum()"
   ]
  },
  {
   "cell_type": "markdown",
   "id": "c786ed1b",
   "metadata": {},
   "source": [
    "# Label Encoding"
   ]
  },
  {
   "cell_type": "code",
   "execution_count": null,
   "id": "f962dd18",
   "metadata": {},
   "outputs": [],
   "source": [
    "df['class'] = df['class'].replace(['positive', 'negative'], [1, 0])"
   ]
  },
  {
   "cell_type": "markdown",
   "id": "5765ae0f",
   "metadata": {},
   "source": [
    "# Visualization"
   ]
  },
  {
   "cell_type": "code",
   "execution_count": null,
   "id": "dfc9e6aa",
   "metadata": {},
   "outputs": [],
   "source": [
    "import matplotlib.pyplot as plt\n",
    "import seaborn as sns\n",
    "%matplotlib inline"
   ]
  },
  {
   "cell_type": "code",
   "execution_count": null,
   "id": "4b438c76",
   "metadata": {},
   "outputs": [],
   "source": [
    "sns.histplot(y=df['class'], hue=df['gender'])"
   ]
  },
  {
   "cell_type": "code",
   "execution_count": null,
   "id": "aa615a8a",
   "metadata": {},
   "outputs": [],
   "source": [
    "sns.heatmap(df.corr(), annot=True)"
   ]
  },
  {
   "cell_type": "code",
   "execution_count": null,
   "id": "448d0a5a",
   "metadata": {},
   "outputs": [],
   "source": [
    "sns.scatterplot(x=df['age'], y=df['pressurelow'], hue=df['class'])"
   ]
  },
  {
   "cell_type": "code",
   "execution_count": null,
   "id": "9f0b57b6",
   "metadata": {},
   "outputs": [],
   "source": [
    "sns.scatterplot(x=df['age'], y=df['pressurehight'], hue=df['class'])"
   ]
  },
  {
   "cell_type": "code",
   "execution_count": null,
   "id": "24588973",
   "metadata": {},
   "outputs": [],
   "source": [
    "nan"
   ]
  },
  {
   "cell_type": "code",
   "execution_count": null,
   "id": "0386c97c",
   "metadata": {},
   "outputs": [],
   "source": [
    "df.head(2)"
   ]
  },
  {
   "cell_type": "markdown",
   "id": "cad21994",
   "metadata": {},
   "source": [
    "# Libraries"
   ]
  },
  {
   "cell_type": "code",
   "execution_count": null,
   "id": "f16dde6b",
   "metadata": {},
   "outputs": [],
   "source": [
    "from sklearn.preprocessing import StandardScaler\n",
    "from sklearn.model_selection import train_test_split\n",
    "from sklearn.metrics import confusion_matrix, accuracy_score\n",
    "from xgboost import XGBClassifier"
   ]
  },
  {
   "cell_type": "code",
   "execution_count": null,
   "id": "eb13769a",
   "metadata": {},
   "outputs": [],
   "source": [
    "x=df.drop('class', axis=1)\n",
    "y = df['class']"
   ]
  },
  {
   "cell_type": "markdown",
   "id": "4ed6a1c9",
   "metadata": {},
   "source": [
    "# Scaling"
   ]
  },
  {
   "cell_type": "code",
   "execution_count": null,
   "id": "41d71b6e",
   "metadata": {},
   "outputs": [],
   "source": [
    "sc = StandardScaler()\n",
    "x = sc.fit_transform(x)"
   ]
  },
  {
   "cell_type": "code",
   "execution_count": null,
   "id": "5703f911",
   "metadata": {},
   "outputs": [],
   "source": [
    "x_train, x_test, y_train, y_test = train_test_split(x, y)"
   ]
  },
  {
   "cell_type": "markdown",
   "id": "ea637e61",
   "metadata": {},
   "source": [
    "# Model"
   ]
  },
  {
   "cell_type": "code",
   "execution_count": null,
   "id": "e2f19694",
   "metadata": {},
   "outputs": [],
   "source": [
    "model = XGBClassifier()\n",
    "model.fit(x_train, y_train)\n",
    "test_pred = model.predict(x_test)\n",
    "train_pred = model.predict(x_train)\n",
    "\n"
   ]
  },
  {
   "cell_type": "markdown",
   "id": "5d4fe874",
   "metadata": {},
   "source": [
    "# Evaluation"
   ]
  },
  {
   "cell_type": "markdown",
   "id": "ec661d83",
   "metadata": {},
   "source": [
    "## Accuaracy"
   ]
  },
  {
   "cell_type": "code",
   "execution_count": null,
   "id": "952108fe",
   "metadata": {},
   "outputs": [],
   "source": [
    "# testing model on train dataset\n",
    "print('Accuracy on train data')\n",
    "print(accuracy_score(y_train, train_pred))\n",
    "\n",
    "# testing model on test dataset \n",
    "print('Accuracy on test data')\n",
    "print(accuracy_score(y_test, test_pred))"
   ]
  },
  {
   "cell_type": "markdown",
   "id": "c617b4e4",
   "metadata": {},
   "source": [
    "## Confusion Matrix"
   ]
  },
  {
   "cell_type": "code",
   "execution_count": null,
   "id": "75fd3198",
   "metadata": {},
   "outputs": [],
   "source": [
    "# testing model on train dataset\n",
    "print('confusion matrix on train data')\n",
    "print(confusion_matrix(y_train, train_pred), end='\\n\\n')\n",
    "\n",
    "# testing model on test dataset \n",
    "print('confusion matrix on test data')\n",
    "print(confusion_matrix(y_test, test_pred))"
   ]
  },
  {
   "cell_type": "markdown",
   "id": "9946b342",
   "metadata": {},
   "source": [
    "# Conclusion\n",
    "Lookining above model predictions , Its look like overfitting but still we can say it good model because the difference between train predictions and test prediction is 2% "
   ]
  }
 ],
 "metadata": {},
 "nbformat": 4,
 "nbformat_minor": 5
}
