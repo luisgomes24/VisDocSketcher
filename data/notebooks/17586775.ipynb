{
 "cells": [
  {
   "cell_type": "code",
   "execution_count": null,
   "id": "e4508cbc",
   "metadata": {},
   "outputs": [],
   "source": [
    "# This Python 3 environment comes with many helpful analytics libraries installed\n",
    "# It is defined by the kaggle/python Docker image: https://github.com/kaggle/docker-python\n",
    "# For example, here's several helpful packages to load\n",
    "\n",
    "import numpy as np # linear algebra\n",
    "import pandas as pd # data processing, CSV file I/O (e.g. pd.read_csv)\n",
    "\n",
    "# Input data files are available in the read-only \"../input/\" directory\n",
    "# For example, running this (by clicking run or pressing Shift+Enter) will list all files under the input directory\n",
    "\n",
    "import os\n",
    "for dirname, _, filenames in os.walk('/kaggle/input'):\n",
    "    for filename in filenames:\n",
    "        print(os.path.join(dirname, filename))\n",
    "\n",
    "# You can write up to 20GB to the current directory (/kaggle/working/) that gets preserved as output when you create a version using \"Save & Run All\" \n",
    "# You can also write temporary files to /kaggle/temp/, but they won't be saved outside of the current session"
   ]
  },
  {
   "cell_type": "code",
   "execution_count": null,
   "id": "6bd0d45b",
   "metadata": {},
   "outputs": [],
   "source": [
    "from keras.preprocessing.image import ImageDataGenerator, array_to_img, img_to_array, load_img\n",
    "import numpy as np\n",
    "from PIL import Image\n",
    "import matplotlib.pyplot as plt"
   ]
  },
  {
   "cell_type": "code",
   "execution_count": null,
   "id": "b5e2326d",
   "metadata": {},
   "outputs": [],
   "source": [
    "from PIL import Image\n",
    "Image.open('../input/hot-dog-not-hot-dog/test/hot_dog/133012.jpg').size"
   ]
  },
  {
   "cell_type": "code",
   "execution_count": null,
   "id": "40d16137",
   "metadata": {},
   "outputs": [],
   "source": [
    "Image.open('../input/hot-dog-not-hot-dog/test/hot_dog/133015.jpg').size"
   ]
  },
  {
   "cell_type": "code",
   "execution_count": null,
   "id": "aacdc16e",
   "metadata": {},
   "outputs": [],
   "source": [
    "load_img('../input/hot-dog-not-hot-dog/test/hot_dog/133012.jpg')"
   ]
  },
  {
   "cell_type": "code",
   "execution_count": null,
   "id": "9ffa2c9c",
   "metadata": {},
   "outputs": [],
   "source": [
    "from keras.preprocessing.image import ImageDataGenerator"
   ]
  },
  {
   "cell_type": "code",
   "execution_count": null,
   "id": "c9865c4d",
   "metadata": {},
   "outputs": [],
   "source": [
    "data_tr = ImageDataGenerator(rescale = 1.0/255).flow_from_directory(\n",
    "            '../input/hot-dog-not-hot-dog/train',\n",
    "            target_size = (224, 224), seed = 123)\n",
    "\n",
    "data_te = ImageDataGenerator(rescale = 1.0/255).flow_from_directory(\n",
    "            '../input/hot-dog-not-hot-dog/test',\n",
    "            target_size = (224, 224), seed = 123)"
   ]
  },
  {
   "cell_type": "code",
   "execution_count": null,
   "id": "1595e4cf",
   "metadata": {},
   "outputs": [],
   "source": [
    "# combine both datasets \n",
    "data_tr.class_indices"
   ]
  },
  {
   "cell_type": "code",
   "execution_count": null,
   "id": "7ee83c43",
   "metadata": {},
   "outputs": [],
   "source": [
    "# split images and labels \n",
    "images_tr, labels_tr = next(data_tr)\n",
    "images_te, labels_te = next(data_te)"
   ]
  },
  {
   "cell_type": "code",
   "execution_count": null,
   "id": "bfd116e5",
   "metadata": {},
   "outputs": [],
   "source": [
    "images = np.concatenate((images_tr, images_te))\n",
    "labels = np.concatenate((labels_tr[:,0], labels_te[:,0]))"
   ]
  },
  {
   "cell_type": "code",
   "execution_count": null,
   "id": "b39a9466",
   "metadata": {},
   "outputs": [],
   "source": [
    "for i in range(5):\n",
    "    plt.imshow(images[i])\n",
    "    plt.title(labels[i])\n",
    "    plt.show()"
   ]
  },
  {
   "cell_type": "code",
   "execution_count": null,
   "id": "4bb647b2",
   "metadata": {},
   "outputs": [],
   "source": [
    "from sklearn.model_selection import train_test_split\n",
    "X_model, X_test, y_model, y_test = train_test_split(images, labels, test_size=0.20, random_state=123)"
   ]
  },
  {
   "cell_type": "code",
   "execution_count": null,
   "id": "b3d90e58",
   "metadata": {},
   "outputs": [],
   "source": [
    "from keras.models import Sequential\n",
    "from keras.layers import Conv2D, MaxPooling2D, Flatten, Dense"
   ]
  },
  {
   "cell_type": "code",
   "execution_count": null,
   "id": "e5fcdab5",
   "metadata": {},
   "outputs": [],
   "source": [
    "cnn = Sequential()\n",
    "cnn.add(Conv2D(64, (3, 3),\n",
    "                      activation='relu',\n",
    "                      input_shape=(224, 224,  3),\n",
    "                      padding='SAME'))\n",
    "cnn.add(MaxPooling2D((2, 2)))\n",
    "cnn.add(Conv2D(32, (3, 3), activation='relu', padding='SAME'))\n",
    "cnn.add(MaxPooling2D((2, 2)))\n",
    "cnn.add(Flatten())\n",
    "cnn.add(Dense(32, activation='relu'))\n",
    "cnn.add(Dense(1, activation='sigmoid'))\n",
    "\n",
    "cnn.compile(loss='binary_crossentropy',\n",
    "            optimizer=\"adam\",\n",
    "            metrics=['accuracy'])\n",
    "cnn.summary()"
   ]
  },
  {
   "cell_type": "markdown",
   "id": "42daaf18",
   "metadata": {},
   "source": [
    "China just released a model with 1.75 trillion trainable parameters "
   ]
  },
  {
   "cell_type": "code",
   "execution_count": null,
   "id": "782e51e2",
   "metadata": {},
   "outputs": [],
   "source": [
    "cnn1 = cnn.fit(X_model,\n",
    "               y_model,\n",
    "               epochs=100,\n",
    "               batch_size=50,\n",
    "               validation_data=(X_test, y_test))"
   ]
  },
  {
   "cell_type": "code",
   "execution_count": null,
   "id": "4eb4fccc",
   "metadata": {},
   "outputs": [],
   "source": [
    "from keras.callbacks import ModelCheckpoint, EarlyStopping"
   ]
  },
  {
   "cell_type": "code",
   "execution_count": null,
   "id": "f93ad3d8",
   "metadata": {},
   "outputs": [],
   "source": [
    "callbacks = [EarlyStopping(monitor='val_loss', patience=15, min_delta=0.001, verbose=3),\n",
    "             ModelCheckpoint(filepath='best_model.h5', monitor='val_loss', save_best_only=True)]"
   ]
  },
  {
   "cell_type": "code",
   "execution_count": null,
   "id": "b133d498",
   "metadata": {},
   "outputs": [],
   "source": [
    "cnn1 = cnn.fit(X_model,\n",
    "               y_model,\n",
    "               epochs=100,\n",
    "               batch_size=50,\n",
    "               validation_data=(X_test, y_test), \n",
    "               callbacks = callbacks)"
   ]
  },
  {
   "cell_type": "code",
   "execution_count": null,
   "id": "9c8f87df",
   "metadata": {},
   "outputs": [],
   "source": [
    "from keras.applications import InceptionV3\n",
    "from keras.layers import GlobalAveragePooling2D"
   ]
  },
  {
   "cell_type": "code",
   "execution_count": null,
   "id": "f851ea02",
   "metadata": {},
   "outputs": [],
   "source": [
    "imagenet = InceptionV3(weights='imagenet', include_top=False)\n",
    "imagenet_new = imagenet.output\n",
    "new_model = Sequential()\n",
    "new_model.add(imagenet)\n",
    "new_model.add(GlobalAveragePooling2D())\n",
    "new_model.add(Dense(2048, activation='relu'))\n",
    "new_model.add(Dense(1024, activation='relu'))  # dense layer 2\n",
    "new_model.add(Dense(512, activation='relu'))  # dense layer 3\n",
    "# final layer with softmax activation\n",
    "new_model.add(Dense(1, activation='sigmoid'))"
   ]
  },
  {
   "cell_type": "code",
   "execution_count": null,
   "id": "db4e59c0",
   "metadata": {},
   "outputs": [],
   "source": [
    "for i, layer in enumerate(imagenet.layers):\n",
    "    print(i, layer.name, layer.trainable)"
   ]
  },
  {
   "cell_type": "code",
   "execution_count": null,
   "id": "0a649069",
   "metadata": {},
   "outputs": [],
   "source": [
    "for i,layer in enumerate(new_model.layers):\n",
    "    print(i,layer.name, layer.trainable)"
   ]
  },
  {
   "cell_type": "code",
   "execution_count": null,
   "id": "04ed26aa",
   "metadata": {},
   "outputs": [],
   "source": [
    "for layer in new_model.layers[:1]:\n",
    "    layer.trainable=False"
   ]
  },
  {
   "cell_type": "code",
   "execution_count": null,
   "id": "25678f90",
   "metadata": {},
   "outputs": [],
   "source": [
    "for i,layer in enumerate(new_model.layers):\n",
    "    print(i,layer.name, layer.trainable)"
   ]
  },
  {
   "cell_type": "code",
   "execution_count": null,
   "id": "1eb3dad4",
   "metadata": {},
   "outputs": [],
   "source": [
    "new_model.summary()"
   ]
  },
  {
   "cell_type": "code",
   "execution_count": null,
   "id": "8e01bbea",
   "metadata": {},
   "outputs": [],
   "source": [
    "new_model.compile(optimizer='Adam',\n",
    "                  loss='binary_crossentropy', metrics=['accuracy'])\n",
    "\n",
    "# step_size_train=train_generator.n//train_generator.batch_size\n",
    "transfer = new_model.fit(X_model,\n",
    "              y_model,\n",
    "              epochs=50,\n",
    "              batch_size=128,\n",
    "              validation_data=(X_test, y_test),\n",
    "              callbacks = callbacks)"
   ]
  },
  {
   "cell_type": "code",
   "execution_count": null,
   "id": "454df2b4",
   "metadata": {},
   "outputs": [],
   "source": [
    "# looks like we are overfitting \n",
    "imagenet = InceptionV3(weights='imagenet', include_top=False)\n",
    "imagenet_new = imagenet.output\n",
    "new_model = Sequential()\n",
    "new_model.add(imagenet)\n",
    "new_model.add(GlobalAveragePooling2D())\n",
    "new_model.add(Dense(1024, activation='relu'))  # dense layer 2\n",
    "new_model.add(Dense(512, activation='relu'))  # dense layer 3\n",
    "# final layer with softmax activation\n",
    "new_model.add(Dense(1, activation='sigmoid'))"
   ]
  },
  {
   "cell_type": "code",
   "execution_count": null,
   "id": "353437a3",
   "metadata": {},
   "outputs": [],
   "source": [
    "new_model.summary()"
   ]
  },
  {
   "cell_type": "code",
   "execution_count": null,
   "id": "b9be8097",
   "metadata": {},
   "outputs": [],
   "source": [
    "for layer in new_model.layers[:1]:\n",
    "    layer.trainable=False\n",
    "new_model.summary()"
   ]
  },
  {
   "cell_type": "code",
   "execution_count": null,
   "id": "fed57d38",
   "metadata": {},
   "outputs": [],
   "source": [
    "callbacks = [EarlyStopping(monitor='val_loss', patience=3, min_delta=0.001, verbose=3),\n",
    "             ModelCheckpoint(filepath='best_model.h5', monitor='val_loss', save_best_only=True)]"
   ]
  },
  {
   "cell_type": "code",
   "execution_count": null,
   "id": "7908d227",
   "metadata": {},
   "outputs": [],
   "source": [
    "new_model.compile(optimizer='Adam',\n",
    "                  loss='binary_crossentropy', metrics=['accuracy'])\n",
    "\n",
    "# step_size_train=train_generator.n//train_generator.batch_size\n",
    "transfer = new_model.fit(X_model,\n",
    "              y_model,\n",
    "              epochs=50,\n",
    "              batch_size=128,\n",
    "              validation_data=(X_test, y_test),\n",
    "              callbacks = callbacks)"
   ]
  },
  {
   "cell_type": "code",
   "execution_count": null,
   "id": "c1f4b619",
   "metadata": {},
   "outputs": [],
   "source": [
    "# Gradcam "
   ]
  }
 ],
 "metadata": {},
 "nbformat": 4,
 "nbformat_minor": 5
}
