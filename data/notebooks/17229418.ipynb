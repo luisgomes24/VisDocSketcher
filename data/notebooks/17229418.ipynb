{
 "cells": [
  {
   "cell_type": "markdown",
   "id": "5fde8ec8",
   "metadata": {},
   "source": [
    "# Heart Disease Prediction"
   ]
  },
  {
   "cell_type": "markdown",
   "id": "1f2be3d6",
   "metadata": {},
   "source": [
    "![485800-Heart-Disease-Facts-Statistics-and-You-1200x628-Facebook.png](attachment:b81f6e13-1eea-4b53-84c3-aaa08a3cfbd2.png)"
   ]
  },
  {
   "cell_type": "markdown",
   "id": "00b4614d",
   "metadata": {},
   "source": [
    "This dataset contains 14 columns and uses absence and presence of disease as the target column. These columns contain data that plays an important role in heart disease, such as age, gender, cholesterol, type of chest pain. So I created a model in this notebook that predicts whether a person has a heart disease or not."
   ]
  },
  {
   "cell_type": "markdown",
   "id": "974c7b75",
   "metadata": {},
   "source": [
    "# Importing Libraries"
   ]
  },
  {
   "cell_type": "code",
   "execution_count": null,
   "id": "ef4d321b",
   "metadata": {},
   "outputs": [],
   "source": [
    "import os\n",
    "for dirname, _, filenames in os.walk('/kaggle/input'):\n",
    "    for filename in filenames:\n",
    "        print(os.path.join(dirname, filename))"
   ]
  },
  {
   "cell_type": "code",
   "execution_count": null,
   "id": "e450e6be",
   "metadata": {},
   "outputs": [],
   "source": [
    "import numpy as np \n",
    "import pandas as pd \n",
    "import matplotlib.pyplot as plt\n",
    "import seaborn as sns\n",
    "from sklearn.model_selection import train_test_split\n",
    "from sklearn.neighbors import KNeighborsClassifier\n",
    "from sklearn.model_selection import GridSearchCV\n",
    "from sklearn.metrics import classification_report\n",
    "import xgboost as xg\n",
    "from xgboost import XGBClassifier\n",
    "from sklearn.ensemble import RandomForestClassifier\n",
    "import warnings\n",
    "warnings.filterwarnings(\"ignore\")"
   ]
  },
  {
   "cell_type": "code",
   "execution_count": null,
   "id": "047e6d86",
   "metadata": {},
   "outputs": [],
   "source": [
    "data = pd.read_csv(\"/kaggle/input/heart-disease-uci/heart.csv\")"
   ]
  },
  {
   "cell_type": "markdown",
   "id": "3f8e1f16",
   "metadata": {},
   "source": [
    "# Information About Data"
   ]
  },
  {
   "cell_type": "code",
   "execution_count": null,
   "id": "16bdff5d",
   "metadata": {},
   "outputs": [],
   "source": [
    "data.head()"
   ]
  },
  {
   "cell_type": "code",
   "execution_count": null,
   "id": "4ec5a9e4",
   "metadata": {},
   "outputs": [],
   "source": [
    "data.info()"
   ]
  },
  {
   "cell_type": "code",
   "execution_count": null,
   "id": "b5e40117",
   "metadata": {},
   "outputs": [],
   "source": [
    "data.shape"
   ]
  },
  {
   "cell_type": "code",
   "execution_count": null,
   "id": "2989e135",
   "metadata": {},
   "outputs": [],
   "source": [
    "data.columns"
   ]
  },
  {
   "cell_type": "code",
   "execution_count": null,
   "id": "9d62ef7d",
   "metadata": {},
   "outputs": [],
   "source": [
    "data.dtypes"
   ]
  },
  {
   "cell_type": "code",
   "execution_count": null,
   "id": "0cef4318",
   "metadata": {},
   "outputs": [],
   "source": [
    "data.describe()"
   ]
  },
  {
   "cell_type": "markdown",
   "id": "6fab1fc1",
   "metadata": {},
   "source": [
    "# Visualization "
   ]
  },
  {
   "cell_type": "code",
   "execution_count": null,
   "id": "1eae067c",
   "metadata": {},
   "outputs": [],
   "source": [
    "labels = data['target'].value_counts()\n",
    "plt.pie(labels, labels = ['Presence','Absence'], explode = [0.1,0])\n",
    "plt.show() "
   ]
  },
  {
   "cell_type": "code",
   "execution_count": null,
   "id": "98884547",
   "metadata": {},
   "outputs": [],
   "source": [
    "data_cp=data['cp'].map({0:'Typical Angina',1:'Atypical Angina', 2:'Non-Anginal Pain',3:'Asymptomatic'})\n",
    "plt.figure(figsize = (10,10))\n",
    "plt.title(\"Chest Pain Types Counts\")\n",
    "    \n",
    "sns.countplot(data_cp)\n",
    "plt.show()\n",
    "\n"
   ]
  },
  {
   "cell_type": "code",
   "execution_count": null,
   "id": "a764ab59",
   "metadata": {},
   "outputs": [],
   "source": [
    "sns.catplot(x =\"target\",hue=\"sex\", col=\"target\",\n",
    "                data= data , kind=\"count\")\n",
    "plt.title(\"Precence Of Heart Disease By Gender\")\n",
    "plt.show()"
   ]
  },
  {
   "cell_type": "markdown",
   "id": "80dfa9a9",
   "metadata": {},
   "source": [
    "# Train-Test Split"
   ]
  },
  {
   "cell_type": "code",
   "execution_count": null,
   "id": "aaa726c5",
   "metadata": {},
   "outputs": [],
   "source": [
    "x = data.drop(['target'], axis = 1)\n",
    "y = data['target']"
   ]
  },
  {
   "cell_type": "code",
   "execution_count": null,
   "id": "53279c62",
   "metadata": {},
   "outputs": [],
   "source": [
    "x_train, x_test, y_train, y_test = train_test_split(x,y, test_size = 0.3)\n",
    "\n",
    "x_train, x_val, y_train, y_val = train_test_split(x,y, test_size = 0.3)"
   ]
  },
  {
   "cell_type": "markdown",
   "id": "d7b1fd0c",
   "metadata": {},
   "source": [
    "# Grid Search"
   ]
  },
  {
   "cell_type": "markdown",
   "id": "45e2df1a",
   "metadata": {},
   "source": [
    "In the function below, there are 3 machine learning algorithms. These are K-Neighbors Classifier, Random Forest Classifier and XGBoost Classifier. When I run this function, we can see the scores we will get when we apply these algorithms to the data and we can choose an algorithm accordingly."
   ]
  },
  {
   "cell_type": "code",
   "execution_count": null,
   "id": "cb72b986",
   "metadata": {},
   "outputs": [],
   "source": [
    "def gridSearchCrossValidation(tunedParams,\n",
    "                              scores,\n",
    "                              x_train,\n",
    "                              x_val,\n",
    "                              y_train,\n",
    "                              y_val,\n",
    "                              modelType = \"KNN\"\n",
    "                              ):\n",
    "  ###\n",
    "  ### Cross Validation for test model metric and hyper-parameter tuning\n",
    "  ### @params = {tunedParams: hyper-parameters for dataset, scores: accuracy metrics, x_train/y_train/x_val/y_val: datasets, modelType: algorithm type (KNN, RF, XGB)}\n",
    "  ###\n",
    "  for score in scores:\n",
    "    print(f\"Hyper-Parameter Tuning for {score}\")\n",
    "    if modelType == \"KNN\":\n",
    "      model = GridSearchCV(KNeighborsClassifier(),\n",
    "                           tunedParams,\n",
    "                           scoring = f\"{score}\")\n",
    "    elif modelType == \"RF\":\n",
    "      model = GridSearchCV((RandomForestClassifier()),\n",
    "                           tunedParams,\n",
    "                           scoring = f\"{score}\")\n",
    "    elif modelType == \"XGB\":\n",
    "      model = GridSearchCV(xg.XGBClassifier(),\n",
    "                           tunedParams,\n",
    "                           scoring = f\"{score}\")\n",
    "    \n",
    "    model.fit(x_train, y_train)\n",
    "    print(\"Best parameters set found on development set:\")\n",
    "    print(model.best_params_)\n",
    "    print(\"Grid scores on development set:\")\n",
    "    means = model.cv_results_['mean_test_score']\n",
    "    stds = model.cv_results_['std_test_score']\n",
    "    for mean, std, params in zip(means, stds, model.cv_results_['params']):\n",
    "        print(\"%0.3f (+/-%0.03f) for %r\"\n",
    "              % (mean, std * 2, params))\n",
    "    print(\"Detailed classification report:\")\n",
    "    y_true, y_pred = y_val, model.predict(x_val)\n",
    "    print(classification_report(y_true, y_pred))"
   ]
  },
  {
   "cell_type": "markdown",
   "id": "77773829",
   "metadata": {},
   "source": [
    "# For KNN"
   ]
  },
  {
   "cell_type": "code",
   "execution_count": null,
   "id": "20e2f228",
   "metadata": {},
   "outputs": [],
   "source": [
    "tunedParams = [{\"n_neighbors\": [3,5,7],\n",
    "                \"weights\": [\"uniform\", \"distance\"],\n",
    "                \"p\": [1,2]}]"
   ]
  },
  {
   "cell_type": "code",
   "execution_count": null,
   "id": "49d27371",
   "metadata": {},
   "outputs": [],
   "source": [
    "scores = [\"accuracy\",\"precision_macro\",\"recall_macro\"]\n",
    "\n",
    "gridSearchCrossValidation(tunedParams, scores, x_train , x_val, y_train, y_val)"
   ]
  },
  {
   "cell_type": "markdown",
   "id": "ce3911f0",
   "metadata": {},
   "source": [
    "# For XGBoost "
   ]
  },
  {
   "cell_type": "code",
   "execution_count": null,
   "id": "abab08ce",
   "metadata": {},
   "outputs": [],
   "source": [
    "tunedParams = [{\"min_child_weight\": [5, 10],\n",
    "                \"colsample_bytree\": [0.6, 0.8]}]\n",
    "scores = [\"accuracy\",\"precision_macro\",\"recall_macro\"]\n",
    "gridSearchCrossValidation(tunedParams,\n",
    "                          scores,\n",
    "                          x_train,\n",
    "                          x_val,\n",
    "                          y_train,\n",
    "                          y_val,\n",
    "                          modelType = \"XGB\")"
   ]
  },
  {
   "cell_type": "markdown",
   "id": "c7dc13ce",
   "metadata": {},
   "source": [
    "# For Random Forest"
   ]
  },
  {
   "cell_type": "code",
   "execution_count": null,
   "id": "4744e24f",
   "metadata": {},
   "outputs": [],
   "source": [
    "tunedParams = [{\"n_estimators\": [10, 50, 100],\n",
    "                \"criterion\": [\"gini\", \"entropy\"],\n",
    "                \"max_features\": [\"auto\", \"sqrt\", \"log2\"]}]\n",
    "scores = [\"accuracy\"]"
   ]
  },
  {
   "cell_type": "code",
   "execution_count": null,
   "id": "2dc47f0b",
   "metadata": {},
   "outputs": [],
   "source": [
    "gridSearchCrossValidation(tunedParams,\n",
    "                          scores,\n",
    "                          x_train,\n",
    "                          x_val,\n",
    "                          y_train,\n",
    "                          y_val,\n",
    "                          modelType = \"RF\")"
   ]
  },
  {
   "cell_type": "markdown",
   "id": "32f20b39",
   "metadata": {},
   "source": [
    "# Model"
   ]
  },
  {
   "cell_type": "code",
   "execution_count": null,
   "id": "3fca96bb",
   "metadata": {},
   "outputs": [],
   "source": [
    "model = XGBClassifier(colsample_bytree = 0.8, min_child_weight = 5)\n",
    "model.fit(x_train,y_train)\n",
    "model.score(x_test,y_test)"
   ]
  }
 ],
 "metadata": {},
 "nbformat": 4,
 "nbformat_minor": 5
}
