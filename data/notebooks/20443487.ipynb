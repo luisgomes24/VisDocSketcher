{
 "cells": [
  {
   "cell_type": "code",
   "execution_count": null,
   "id": "ffdc83b1",
   "metadata": {},
   "outputs": [],
   "source": [
    "import numpy as np\n",
    "import pandas as pd\n",
    "import os\n",
    "import matplotlib.pyplot as plt\n",
    "import seaborn as sns"
   ]
  },
  {
   "cell_type": "markdown",
   "id": "68f680dc",
   "metadata": {},
   "source": [
    "for dirname, _, filenames in os.walk('/kaggle/input'):\n",
    "    for filename in filenames:\n",
    "        print(os.path.join(dirname, filename))"
   ]
  },
  {
   "cell_type": "code",
   "execution_count": null,
   "id": "12bf1fef",
   "metadata": {},
   "outputs": [],
   "source": [
    "data0=pd.read_csv('../input/kaggle-notebook-user-rankings/NotebookRankings.csv')\n",
    "data0"
   ]
  },
  {
   "cell_type": "code",
   "execution_count": null,
   "id": "27be70e6",
   "metadata": {},
   "outputs": [],
   "source": [
    "data0['TotalMedals']=data0['TotalGold']+data0['TotalSilver']+data0['TotalBronze']"
   ]
  },
  {
   "cell_type": "code",
   "execution_count": null,
   "id": "74aec1ba",
   "metadata": {},
   "outputs": [],
   "source": [
    "for i in range(1):\n",
    "    fig,ax = plt.subplots(figsize=(10,6))\n",
    "    ax.set_title('Current Ranking vs Points',fontsize=20)\n",
    "    ax.set_ylabel('Points',fontsize=12)\n",
    "    ax.set_xlabel('CurrentRanking',fontsize=12)\n",
    "    ax.scatter(data0['CurrentRanking'],data0['Points'])"
   ]
  },
  {
   "cell_type": "code",
   "execution_count": null,
   "id": "9d797c44",
   "metadata": {},
   "outputs": [],
   "source": [
    "for i in range(1):\n",
    "    fig,ax = plt.subplots(figsize=(10,6))\n",
    "    ax.set_title('Current Ranking vs Total Medals',fontsize=20)\n",
    "    ax.set_ylabel('TotalMedals',fontsize=12)\n",
    "    ax.set_xlabel('CurrentRanking',fontsize=12)\n",
    "    ax.scatter(data0['CurrentRanking'],data0['TotalMedals'])"
   ]
  },
  {
   "cell_type": "code",
   "execution_count": null,
   "id": "b4a76202",
   "metadata": {},
   "outputs": [],
   "source": [
    "for i in range(1):\n",
    "    fig,ax = plt.subplots(figsize=(10,6))\n",
    "    ax.set_title('Points vs Total Medals',fontsize=20)\n",
    "    ax.set_ylabel('TotalMedals',fontsize=12)\n",
    "    ax.set_xlabel('Points',fontsize=12)\n",
    "    ax.scatter(data0['Points'],data0['TotalMedals'])"
   ]
  }
 ],
 "metadata": {},
 "nbformat": 4,
 "nbformat_minor": 5
}
