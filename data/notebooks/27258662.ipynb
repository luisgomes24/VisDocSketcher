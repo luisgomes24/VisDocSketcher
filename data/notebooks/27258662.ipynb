{
 "cells": [
  {
   "cell_type": "code",
   "execution_count": null,
   "id": "2a883f79",
   "metadata": {},
   "outputs": [],
   "source": [
    "import pandas as pd\n",
    "train=pd.read_csv('../input/rte-forecast-energy-consumption-in-french-areas/train.csv')\n",
    "train.head()"
   ]
  },
  {
   "cell_type": "code",
   "execution_count": null,
   "id": "68d44854",
   "metadata": {},
   "outputs": [],
   "source": [
    "train.info()"
   ]
  },
  {
   "cell_type": "code",
   "execution_count": null,
   "id": "9e58274a",
   "metadata": {},
   "outputs": [],
   "source": [
    "weather=pd.read_csv('../input/rte-forecast-energy-consumption-in-french-areas/weather_power_nasa.csv')\n",
    "weather.head()"
   ]
  },
  {
   "cell_type": "code",
   "execution_count": null,
   "id": "b9a76c64",
   "metadata": {},
   "outputs": [],
   "source": [
    "weather.info()"
   ]
  },
  {
   "cell_type": "code",
   "execution_count": null,
   "id": "57da7bc5",
   "metadata": {},
   "outputs": [],
   "source": [
    "train=pd.merge(train, weather, on=['metropolitan_area_code','date'], how='left')\n",
    "train['metropolitan_area_code']=train['metropolitan_area_code'].replace({0:'[48.856614, 2.3522219]',\n",
    " 1:'[45.764043, 4.835659]',\n",
    " 2:'[43.296482, 5.36978]',\n",
    " 3:'[44.8378, -0.57918]',\n",
    " 4:'[50.62925, 3.057256]',\n",
    " 5:'[43.7101728, 7.2619532]',\n",
    " 6:'[47.218371, -1.553621]',\n",
    " 7:'[48.5734053, 7.7521113]',\n",
    " 8:'[48.117266, -1.6777926]',\n",
    " 9:'[45.188529, 5.724524]',\n",
    " 10:'[49.443232, 1.099971]',\n",
    " 11:'[43.610769, 3.876716]',\n",
    " 12:'[45.439695, 4.3871779]',\n",
    " 13:'[45.777222, 3.087025]',\n",
    " 14:'[48.692054, 6.184417]',\n",
    " 15:'[47.322047, 5.04148]',\n",
    " 16:'[48.390394, -4.486076]'})\n",
    "train['metropolitan_area_code']=train['metropolitan_area_code'].str.replace('[','')\n",
    "train['metropolitan_area_code']=train['metropolitan_area_code'].str.replace(']','')\n",
    "train[['latitude','longitude']] = train['metropolitan_area_code'].str.split(',',expand=True)\n",
    "train=train.drop(['metropolitan_area_code'],axis=1)\n",
    "train.head()"
   ]
  },
  {
   "cell_type": "code",
   "execution_count": null,
   "id": "ba5d0422",
   "metadata": {},
   "outputs": [],
   "source": [
    "train.info()"
   ]
  },
  {
   "cell_type": "code",
   "execution_count": null,
   "id": "d1e66355",
   "metadata": {},
   "outputs": [],
   "source": [
    "train.isnull().sum()*100/len(train)"
   ]
  },
  {
   "cell_type": "code",
   "execution_count": null,
   "id": "3fb5998e",
   "metadata": {},
   "outputs": [],
   "source": [
    "train.columns"
   ]
  },
  {
   "cell_type": "code",
   "execution_count": null,
   "id": "6e51c0ba",
   "metadata": {},
   "outputs": [],
   "source": [
    "train[['T2M', 'T2MDEW',\n",
    "       'T2MWET', 'QV2M', 'RH2M', 'PRECTOTCORR']] = train[['T2M', 'T2MDEW',\n",
    "       'T2MWET', 'QV2M', 'RH2M', 'PRECTOTCORR']].ffill()\n",
    "train.info()"
   ]
  },
  {
   "cell_type": "code",
   "execution_count": null,
   "id": "16eb2250",
   "metadata": {},
   "outputs": [],
   "source": [
    "train.head(25)"
   ]
  },
  {
   "cell_type": "code",
   "execution_count": null,
   "id": "ccbca459",
   "metadata": {},
   "outputs": [],
   "source": [
    "train[['T2M', 'T2MDEW',\n",
    "       'T2MWET', 'QV2M', 'RH2M', 'PRECTOTCORR']] = train[['T2M', 'T2MDEW',\n",
    "       'T2MWET', 'QV2M', 'RH2M', 'PRECTOTCORR']].bfill()\n",
    "train.info()"
   ]
  },
  {
   "cell_type": "code",
   "execution_count": null,
   "id": "fe2b626c",
   "metadata": {},
   "outputs": [],
   "source": [
    "train.head()"
   ]
  },
  {
   "cell_type": "code",
   "execution_count": null,
   "id": "8751d30c",
   "metadata": {},
   "outputs": [],
   "source": [
    "train.date=pd.to_datetime(train.date, infer_datetime_format=True)\n",
    "train.info()"
   ]
  },
  {
   "cell_type": "code",
   "execution_count": null,
   "id": "73026ba6",
   "metadata": {},
   "outputs": [],
   "source": [
    "!pip install fast_ml\n",
    "!pip install lazypredict"
   ]
  },
  {
   "cell_type": "code",
   "execution_count": null,
   "id": "3aafcb2e",
   "metadata": {},
   "outputs": [],
   "source": [
    "from fast_ml.feature_engineering import FeatureEngineering_DateTime\n",
    "dt_fe = FeatureEngineering_DateTime()\n",
    "dt_fe.fit(train, datetime_variables=['date'])\n",
    "train = dt_fe.transform(train)\n",
    "train.head()"
   ]
  },
  {
   "cell_type": "code",
   "execution_count": null,
   "id": "a4fbb5b3",
   "metadata": {},
   "outputs": [],
   "source": [
    "nunique_train=train.nunique().reset_index()\n",
    "remove_col=nunique_train[(nunique_train[0]==len(train)) | (nunique_train[0]==0) | (nunique_train[0]==1) ]['index'].tolist()\n",
    "remove_col"
   ]
  },
  {
   "cell_type": "code",
   "execution_count": null,
   "id": "c4cb57f8",
   "metadata": {},
   "outputs": [],
   "source": [
    "pd.set_option('display.max_columns', None)\n",
    "train=train.drop(remove_col,axis=1)\n",
    "train.head()"
   ]
  },
  {
   "cell_type": "code",
   "execution_count": null,
   "id": "1b36abc8",
   "metadata": {},
   "outputs": [],
   "source": [
    "train=train.drop(['date','date:time'],axis=1)\n",
    "train.head()"
   ]
  },
  {
   "cell_type": "code",
   "execution_count": null,
   "id": "627e222b",
   "metadata": {},
   "outputs": [],
   "source": [
    "train['date:is_weekend']=train['date:is_weekend'].replace({0:False,1:True})\n",
    "train.head()"
   ]
  },
  {
   "cell_type": "code",
   "execution_count": null,
   "id": "7588b527",
   "metadata": {},
   "outputs": [],
   "source": [
    "train.info()"
   ]
  },
  {
   "cell_type": "code",
   "execution_count": null,
   "id": "4b02b893",
   "metadata": {},
   "outputs": [],
   "source": [
    "train['date:day_part'].unique()"
   ]
  },
  {
   "cell_type": "code",
   "execution_count": null,
   "id": "98f3cecb",
   "metadata": {},
   "outputs": [],
   "source": [
    "train['date:day_part'].value_counts()"
   ]
  },
  {
   "cell_type": "code",
   "execution_count": null,
   "id": "6dabd1ef",
   "metadata": {},
   "outputs": [],
   "source": [
    "import numpy as np\n",
    "train['date:day_part'] = train['date:day_part'].fillna(value=np.nan)\n",
    "train['date:day_part'].unique()"
   ]
  },
  {
   "cell_type": "code",
   "execution_count": null,
   "id": "e39a798d",
   "metadata": {},
   "outputs": [],
   "source": [
    "round(train.isnull().sum()*100/len(train),2).sort_values(ascending=False)"
   ]
  },
  {
   "cell_type": "code",
   "execution_count": null,
   "id": "6b3eb423",
   "metadata": {},
   "outputs": [],
   "source": [
    "train[train.isnull().any(axis=1)]"
   ]
  },
  {
   "cell_type": "code",
   "execution_count": null,
   "id": "46405781",
   "metadata": {},
   "outputs": [],
   "source": [
    "train['date:day_part'] = train['date:day_part'].fillna(value='midnight')\n",
    "round(train.isnull().sum()*100/len(train),2).sort_values(ascending=False)[:5]"
   ]
  },
  {
   "cell_type": "code",
   "execution_count": null,
   "id": "9d0b6110",
   "metadata": {},
   "outputs": [],
   "source": [
    "train['date:day_part']=train['date:day_part'].replace({'midnight':0,'dawn':1, 'early morning':2, 'late morning':3, 'noon':4,\n",
    "                                                       'afternoon':5,'evening':6, 'night':7 })\n",
    "      \n",
    "train['date:day_part'].value_counts()"
   ]
  },
  {
   "cell_type": "code",
   "execution_count": null,
   "id": "9a7232e4",
   "metadata": {},
   "outputs": [],
   "source": [
    "import re\n",
    "train = train.rename(columns = lambda x:re.sub('[^A-Za-z0-9_]+', '', x))\n",
    "train.head()"
   ]
  },
  {
   "cell_type": "code",
   "execution_count": null,
   "id": "45c91b46",
   "metadata": {},
   "outputs": [],
   "source": [
    "train=train.sample(n=30000)\n",
    "train.shape"
   ]
  },
  {
   "cell_type": "code",
   "execution_count": null,
   "id": "a348b986",
   "metadata": {},
   "outputs": [],
   "source": [
    "y = train.pop('energy_consumption')\n",
    "X = train"
   ]
  },
  {
   "cell_type": "code",
   "execution_count": null,
   "id": "53e2ff45",
   "metadata": {},
   "outputs": [],
   "source": [
    "from sklearn.model_selection import train_test_split\n",
    "X_train, X_test, y_train, y_test = train_test_split( X, y, test_size=0.2, random_state=42)"
   ]
  },
  {
   "cell_type": "code",
   "execution_count": null,
   "id": "8683a01b",
   "metadata": {},
   "outputs": [],
   "source": [
    "from lazypredict.Supervised import LazyRegressor"
   ]
  },
  {
   "cell_type": "code",
   "execution_count": null,
   "id": "5a293204",
   "metadata": {},
   "outputs": [],
   "source": [
    "clf = LazyRegressor(verbose=0)\n",
    "models,predictions = clf.fit(X_train, X_test, y_train, y_test)\n",
    "models"
   ]
  }
 ],
 "metadata": {},
 "nbformat": 4,
 "nbformat_minor": 5
}
