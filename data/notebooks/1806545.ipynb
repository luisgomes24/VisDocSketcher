{
 "cells": [
  {
   "cell_type": "markdown",
   "id": "2c968119",
   "metadata": {},
   "source": [
    "# 参考カーネル\n",
    "- https://www.kaggle.com/vjgupta/reach-top-10-with-simple-model-on-housing-prices\n",
    "- https://www.kaggle.com/serigne/stacked-regressions-top-4-on-leaderboard\n",
    "\n",
    "# Stacking Modelとは？\n",
    "- stacking modelはkaggleで回帰の精度を上げるために作られた手法のよう。\n",
    "- https://burakhimmetoglu.com/2016/12/01/stacking-models-for-improved-predictions/"
   ]
  },
  {
   "cell_type": "code",
   "execution_count": null,
   "id": "438da7ab",
   "metadata": {},
   "outputs": [],
   "source": [
    "#import some necessary librairies\n",
    "\n",
    "import numpy as np # linear algebra\n",
    "import pandas as pd # data processing, CSV file I/O (e.g. pd.read_csv)\n",
    "%matplotlib inline\n",
    "import matplotlib.pyplot as plt  # Matlab-style plotting\n",
    "import seaborn as sns\n",
    "color = sns.color_palette()\n",
    "sns.set_style('darkgrid')\n",
    "import warnings\n",
    "def ignore_warn(*args, **kwargs):\n",
    "    pass\n",
    "warnings.warn = ignore_warn #ignore annoying warning (from sklearn and seaborn)\n",
    "\n",
    "from scipy import stats\n",
    "from scipy.stats import norm, skew #for some statistics"
   ]
  },
  {
   "cell_type": "markdown",
   "id": "6640419e",
   "metadata": {},
   "source": [
    "# データのロード"
   ]
  },
  {
   "cell_type": "code",
   "execution_count": null,
   "id": "f37b386d",
   "metadata": {},
   "outputs": [],
   "source": [
    "train = pd.read_csv('../input/train.csv')\n",
    "test = pd.read_csv('../input/test.csv')\n",
    "\n",
    "train.describe()"
   ]
  },
  {
   "cell_type": "code",
   "execution_count": null,
   "id": "5ae23817",
   "metadata": {},
   "outputs": [],
   "source": [
    "# IDはモデルの予測に不要のため、一旦落とす\n",
    "#Save the 'Id' column\n",
    "train_ID = train['Id']\n",
    "test_ID = test['Id']\n",
    "\n",
    "#Now drop the  'Id' colum since it's unnecessary for  the prediction process.\n",
    "train.drop(\"Id\", axis = 1, inplace = True)\n",
    "test.drop(\"Id\", axis = 1, inplace = True)"
   ]
  },
  {
   "cell_type": "code",
   "execution_count": null,
   "id": "b8677948",
   "metadata": {},
   "outputs": [],
   "source": [
    "print (\"Size of train data after dropping Id: {}\" .format(train.shape))\n",
    "print (\"Size of test data after dropping Id: {}\" .format(test.shape))"
   ]
  },
  {
   "cell_type": "markdown",
   "id": "da18787c",
   "metadata": {},
   "source": [
    "# 外れ値の対応\n",
    "- GrLivAreanの外れ値を取ることを、データ作成者が推薦しているため4000以上のものを除外する。\n",
    "- データ作成者は以下のように言及している。\n",
    "- I would recommend removing any houses with more than 4000 square feet from the data set (which eliminates these five unusual observations) before assigning it to students."
   ]
  },
  {
   "cell_type": "code",
   "execution_count": null,
   "id": "33ae315e",
   "metadata": {},
   "outputs": [],
   "source": [
    "fig, ax = plt.subplots()\n",
    "ax.scatter(x = train['GrLivArea'], y = train['SalePrice'])\n",
    "plt.ylabel('SalePrice', fontsize=13)\n",
    "plt.xlabel('GrLivArea', fontsize=13)\n",
    "plt.show()"
   ]
  },
  {
   "cell_type": "code",
   "execution_count": null,
   "id": "ab653abd",
   "metadata": {},
   "outputs": [],
   "source": [
    "train = train.drop(train[(train['GrLivArea']>4000) & (train['SalePrice']<300000)].index)"
   ]
  },
  {
   "cell_type": "markdown",
   "id": "45130a6a",
   "metadata": {},
   "source": [
    "# 相関関係の確認\n",
    "- 相関関係が0.5以上のものを確認する"
   ]
  },
  {
   "cell_type": "code",
   "execution_count": null,
   "id": "fe59d5fe",
   "metadata": {},
   "outputs": [],
   "source": [
    "# Find correlations with the target and sort\n",
    "correlations = train.corr()['SalePrice'].sort_values()\n",
    "\n",
    "# Display correlations\n",
    "print('Most Positive Correlations:\\n', correlations.tail(30))\n",
    "print('\\nMost Negative Correlations:\\n', correlations.head(30))"
   ]
  },
  {
   "cell_type": "code",
   "execution_count": null,
   "id": "d0b1f08e",
   "metadata": {},
   "outputs": [],
   "source": [
    "corrmat = train.corr()\n",
    "top_corr_features = corrmat.index[abs(corrmat[\"SalePrice\"])>0.5]\n",
    "plt.figure(figsize=(10,10))\n",
    "g = sns.heatmap(train[top_corr_features].corr(),annot=True,cmap=\"RdYlGn\")"
   ]
  },
  {
   "cell_type": "markdown",
   "id": "cc42b1cf",
   "metadata": {},
   "source": [
    "- 以下の項目とSalePriceの相関関係が強いことが分かる\n",
    "- OverallQual, GrLivArea, TotalBsmtSF, GarageCars, GarageArea, 1stFlrSF\n",
    "- 上記の内GarageCarsとGarageAreaの相関が強い（まあ止められる車の数と車庫の大きさが大きいのは当たり前かな・・・・）\n",
    "- TotalBSMTSF（地下室の面積）と1stFlrSF（1階の面積）の相関も高い"
   ]
  },
  {
   "cell_type": "code",
   "execution_count": null,
   "id": "1c724f40",
   "metadata": {},
   "outputs": [],
   "source": [
    "sns.barplot(train.OverallQual,train.SalePrice)"
   ]
  },
  {
   "cell_type": "markdown",
   "id": "69857ff7",
   "metadata": {},
   "source": [
    "- OverallQual（家の状態）によって価格が明らかに上昇しているのが分かる"
   ]
  },
  {
   "cell_type": "code",
   "execution_count": null,
   "id": "30ea62ff",
   "metadata": {},
   "outputs": [],
   "source": [
    "sns.set()\n",
    "cols = ['SalePrice', 'OverallQual', 'GrLivArea', 'GarageCars', 'TotalBsmtSF', 'FullBath', 'YearBuilt']\n",
    "sns.pairplot(train[cols], size = 2.5)\n",
    "plt.show();"
   ]
  },
  {
   "cell_type": "markdown",
   "id": "c3927978",
   "metadata": {},
   "source": [
    "- 散布図を見るとTotalBsmtSF（地下面積）とGrLivArea（Above ground living area square feet）の形がちょっと変なことが分かる"
   ]
  },
  {
   "cell_type": "code",
   "execution_count": null,
   "id": "0eb9059c",
   "metadata": {},
   "outputs": [],
   "source": [
    "sns.scatterplot(train.GrLivArea,train.TotalBsmtSF)"
   ]
  },
  {
   "cell_type": "markdown",
   "id": "4a594239",
   "metadata": {},
   "source": [
    "- TotalBsmtSFとGrLivAreaは同じになるケースが多く、TotalBsmtSFの値がGrLivAreaの値を来れることがまれである"
   ]
  },
  {
   "cell_type": "markdown",
   "id": "4ab335e1",
   "metadata": {},
   "source": [
    "## もう少し詳細にSalePriceとFeatureの関係を調べる"
   ]
  },
  {
   "cell_type": "markdown",
   "id": "99c10cb1",
   "metadata": {},
   "source": [
    "# 目的変数の変形"
   ]
  },
  {
   "cell_type": "code",
   "execution_count": null,
   "id": "82005087",
   "metadata": {},
   "outputs": [],
   "source": [
    "sns.distplot(train['SalePrice'])\n",
    "plt.show()"
   ]
  },
  {
   "cell_type": "markdown",
   "id": "a279ae90",
   "metadata": {},
   "source": [
    "目的変数（SalePrice）をヒストグラムに起こすと、正規分布になっていないことが分かる。そのため対数化する（値の振れ幅を小さくすることでばらつきを小さくする）"
   ]
  },
  {
   "cell_type": "code",
   "execution_count": null,
   "id": "0bcdb116",
   "metadata": {},
   "outputs": [],
   "source": [
    "# 対数計算を実施\n",
    "# 数字のばらつき、偏りを小さくする\n",
    "train['SalePrice'] = np.log1p(train['SalePrice'])\n",
    "\n",
    "sns.distplot(train['SalePrice'])\n",
    "plt.show()"
   ]
  },
  {
   "cell_type": "markdown",
   "id": "b5430eb6",
   "metadata": {},
   "source": [
    "# 特徴量エンジニアリング"
   ]
  },
  {
   "cell_type": "code",
   "execution_count": null,
   "id": "68e4a074",
   "metadata": {},
   "outputs": [],
   "source": [
    "# 全データを一旦結合\n",
    "# テストも含めた全データで特徴量を見ていく（例：欠損値を補完する際のmedian値など）\n",
    "ntrain = train.shape[0]\n",
    "ntest = test.shape[0]\n",
    "y_train = train.SalePrice.values\n",
    "all_data = pd.concat((train, test)).reset_index(drop=True)\n",
    "all_data.drop(['SalePrice'], axis=1, inplace=True)\n",
    "print(\"all_data size is : {}\".format(all_data.shape))"
   ]
  },
  {
   "cell_type": "markdown",
   "id": "caa7ec1a",
   "metadata": {},
   "source": [
    "## 欠損値"
   ]
  },
  {
   "cell_type": "markdown",
   "id": "0a176b88",
   "metadata": {},
   "source": [
    "### 欠損値の確認"
   ]
  },
  {
   "cell_type": "code",
   "execution_count": null,
   "id": "fcfe0b8d",
   "metadata": {},
   "outputs": [],
   "source": [
    "all_data_na = (all_data.isnull().sum() / len(all_data)) * 100\n",
    "# TOP30だけを一旦見る\n",
    "all_data_na = all_data_na.drop(all_data_na[all_data_na == 0].index).sort_values(ascending=False)[:30]\n",
    "missing_data = pd.DataFrame({'Missing Ratio' :all_data_na})"
   ]
  },
  {
   "cell_type": "code",
   "execution_count": null,
   "id": "87b8bea1",
   "metadata": {},
   "outputs": [],
   "source": [
    "f, ax = plt.subplots(figsize=(15, 12))\n",
    "plt.xticks(rotation='90')\n",
    "sns.barplot(x=all_data_na.index, y=all_data_na)\n",
    "plt.xlabel('Features', fontsize=15)\n",
    "plt.ylabel('Percent of missing values', fontsize=15)\n",
    "plt.title('Percent missing data by feature', fontsize=15)"
   ]
  },
  {
   "cell_type": "code",
   "execution_count": null,
   "id": "efa7d43b",
   "metadata": {},
   "outputs": [],
   "source": [
    "# 最も欠損値の多いPoolQC（プールの品質）を見る\n",
    "all_data.PoolQC.loc[all_data.PoolQC.notnull()]"
   ]
  },
  {
   "cell_type": "markdown",
   "id": "b402197c",
   "metadata": {},
   "source": [
    "### 欠損値の補完"
   ]
  },
  {
   "cell_type": "code",
   "execution_count": null,
   "id": "0221e431",
   "metadata": {},
   "outputs": [],
   "source": [
    "# PoolQCにおいてNullの部分はNo Pool（プールがない）という場合。今回はNullの部分をNoneという文字列で埋める\n",
    "all_data[\"PoolQC\"] = all_data[\"PoolQC\"].fillna(\"None\")"
   ]
  },
  {
   "cell_type": "code",
   "execution_count": null,
   "id": "0d805623",
   "metadata": {},
   "outputs": [],
   "source": [
    "# MiscFeature(その他の特徴)でのNullはno misc feature\n",
    "# Alley、Fence、FireplaceQuも同様\n",
    "all_data[\"MiscFeature\"] = all_data[\"MiscFeature\"].fillna(\"None\")\n",
    "all_data[\"Alley\"] = all_data[\"Alley\"].fillna(\"None\")\n",
    "all_data[\"Fence\"] = all_data[\"Fence\"].fillna(\"None\")\n",
    "all_data[\"FireplaceQu\"] = all_data[\"FireplaceQu\"].fillna(\"None\")"
   ]
  },
  {
   "cell_type": "markdown",
   "id": "778d49a2",
   "metadata": {},
   "source": [
    "LotFrontage（間口の広さ）はNeighborhoodに関係ありそうだから、Neighborhoodごとの中間値を欠損値に格納するようにする"
   ]
  },
  {
   "cell_type": "code",
   "execution_count": null,
   "id": "122de5fd",
   "metadata": {},
   "outputs": [],
   "source": [
    "# LotFrontage(間口の広さ)\n",
    "# Grouping by Neighborhood and Check the LotFrontage. Most of the grouping has similar areas\n",
    "grouped_df = all_data.groupby('Neighborhood')['LotFrontage']\n",
    "\n",
    "for key, item in grouped_df:\n",
    "    print(key,\"\\n\")\n",
    "    print(grouped_df.get_group(key))\n",
    "    break\n"
   ]
  },
  {
   "cell_type": "code",
   "execution_count": null,
   "id": "25c9c0b5",
   "metadata": {},
   "outputs": [],
   "source": [
    "sns.stripplot(x = train.Neighborhood.values, y = train.LotFrontage.values, jitter=0.1, alpha=0.5)"
   ]
  },
  {
   "cell_type": "code",
   "execution_count": null,
   "id": "e417edb6",
   "metadata": {},
   "outputs": [],
   "source": [
    "#Group by neighborhood and fill in missing value by the median LotFrontage of all the neighborhood\n",
    "all_data[\"LotFrontage\"] = all_data.groupby(\"Neighborhood\")[\"LotFrontage\"].transform(\n",
    "    lambda x: x.fillna(x.median()))"
   ]
  },
  {
   "cell_type": "code",
   "execution_count": null,
   "id": "c8c2d438",
   "metadata": {},
   "outputs": [],
   "source": [
    "# GarageType、GarageFinish、GarageQual、GarageCondはNoneで埋める\n",
    "for col in ['GarageType', 'GarageFinish', 'GarageQual', 'GarageCond']:\n",
    "    all_data[col] = all_data[col].fillna('None')"
   ]
  },
  {
   "cell_type": "code",
   "execution_count": null,
   "id": "b16d7304",
   "metadata": {},
   "outputs": [],
   "source": [
    "abc = ['GarageType', 'GarageFinish', 'GarageQual', 'GarageCond','GarageYrBlt', 'GarageArea', 'GarageCars']\n",
    "all_data.groupby('GarageType')[abc].count()"
   ]
  },
  {
   "cell_type": "code",
   "execution_count": null,
   "id": "063f6795",
   "metadata": {},
   "outputs": [],
   "source": [
    "#GarageYrBlt, GarageArea and GarageCarsは0で埋める\n",
    "for col in ('GarageYrBlt', 'GarageArea', 'GarageCars'):\n",
    "    all_data[col] = all_data[col].fillna(0)"
   ]
  },
  {
   "cell_type": "code",
   "execution_count": null,
   "id": "4b7b007d",
   "metadata": {},
   "outputs": [],
   "source": [
    "#BsmtFinSF1, BsmtFinSF2, BsmtUnfSF, TotalBsmtSF, BsmtFullBath and BsmtHalfBathも0で埋める\n",
    "for col in ('BsmtFinSF1', 'BsmtFinSF2', 'BsmtUnfSF','TotalBsmtSF', 'BsmtFullBath', 'BsmtHalfBath'):\n",
    "    all_data[col] = all_data[col].fillna(0)"
   ]
  },
  {
   "cell_type": "code",
   "execution_count": null,
   "id": "27172aa9",
   "metadata": {},
   "outputs": [],
   "source": [
    "#BsmtQual, BsmtCond, BsmtExposure, BsmtFinType1, BsmtFinType2 がnullということは地下室に関係する特徴がないということなので、Noneで埋める\n",
    "for col in ('BsmtQual', 'BsmtCond', 'BsmtExposure', 'BsmtFinType1', 'BsmtFinType2'):\n",
    "    all_data[col] = all_data[col].fillna('None')"
   ]
  },
  {
   "cell_type": "code",
   "execution_count": null,
   "id": "117fea34",
   "metadata": {},
   "outputs": [],
   "source": [
    "#MasVnrArea、MasVnrTypeは石造りのエリアのサイズなので、NAの場合ないということで、0を埋める\n",
    "all_data[\"MasVnrType\"] = all_data[\"MasVnrType\"].fillna(\"None\")\n",
    "all_data[\"MasVnrArea\"] = all_data[\"MasVnrArea\"].fillna(0)"
   ]
  },
  {
   "cell_type": "code",
   "execution_count": null,
   "id": "8b42c6ff",
   "metadata": {},
   "outputs": [],
   "source": [
    "#MSZoningはRLが最も多い値なのでRLで埋める\n",
    "all_data['MSZoning'].value_counts()"
   ]
  },
  {
   "cell_type": "code",
   "execution_count": null,
   "id": "e0b379d2",
   "metadata": {},
   "outputs": [],
   "source": [
    "all_data['MSZoning'] = all_data['MSZoning'].fillna(all_data['MSZoning'].mode()[0])"
   ]
  },
  {
   "cell_type": "code",
   "execution_count": null,
   "id": "90613ca1",
   "metadata": {},
   "outputs": [],
   "source": [
    "#Utilitiesはほどんどの値で同じAllPubであり、あまり意味がないので列ごと削除する\n",
    "all_data['Utilities'].value_counts()"
   ]
  },
  {
   "cell_type": "code",
   "execution_count": null,
   "id": "4b9def42",
   "metadata": {},
   "outputs": [],
   "source": [
    "all_data = all_data.drop(['Utilities'], axis=1)"
   ]
  },
  {
   "cell_type": "code",
   "execution_count": null,
   "id": "efdb58f3",
   "metadata": {},
   "outputs": [],
   "source": [
    "# Functionalについてドキュメントで、どうやらNAの場合はtypicalと書いてあるらしい\n",
    "all_data[\"Functional\"] = all_data[\"Functional\"].fillna(\"Typ\")"
   ]
  },
  {
   "cell_type": "code",
   "execution_count": null,
   "id": "a87ffc0a",
   "metadata": {},
   "outputs": [],
   "source": [
    "#Electrical,KitchenQual, Exterior1st, Exterior2nd, SaleTypeもカテゴリー型のため、最頻値で埋めるようにする\n",
    "mode_col = ['Electrical','KitchenQual', 'Exterior1st', 'Exterior2nd', 'SaleType']\n",
    "for col in mode_col:\n",
    "    all_data[col] = all_data[col].fillna(all_data[col].mode()[0])"
   ]
  },
  {
   "cell_type": "code",
   "execution_count": null,
   "id": "30930ca7",
   "metadata": {},
   "outputs": [],
   "source": [
    "# MSSubClassはNAは建物のクラスがないということなので、Noneで穴埋め\n",
    "all_data['MSSubClass'] = all_data['MSSubClass'].fillna(\"None\")"
   ]
  },
  {
   "cell_type": "markdown",
   "id": "9e02b1fe",
   "metadata": {},
   "source": [
    "### 欠損値がもうないか確認する"
   ]
  },
  {
   "cell_type": "code",
   "execution_count": null,
   "id": "77872708",
   "metadata": {},
   "outputs": [],
   "source": [
    "#Check remaining missing values if any \n",
    "all_data_na = (all_data.isnull().sum() / len(all_data)) * 100\n",
    "all_data_na = all_data_na.drop(all_data_na[all_data_na == 0].index).sort_values(ascending=False)\n",
    "missing_data = pd.DataFrame({'Missing Ratio' :all_data_na})\n",
    "missing_data.head()"
   ]
  },
  {
   "cell_type": "markdown",
   "id": "9dae70b8",
   "metadata": {},
   "source": [
    "### 数値型のカテゴリー値の対応\n",
    "数値型のカテゴリーをきちんとカテゴリー型に変換しない場合、モデルによっては数値の大小関係を判断してしまう。\n",
    "そのためちゃんと変換が必要"
   ]
  },
  {
   "cell_type": "code",
   "execution_count": null,
   "id": "b908e8fb",
   "metadata": {},
   "outputs": [],
   "source": [
    "all_data['OverallCond'].value_counts()"
   ]
  },
  {
   "cell_type": "code",
   "execution_count": null,
   "id": "09b7f2ab",
   "metadata": {},
   "outputs": [],
   "source": [
    "#MSSubClass=The building class\n",
    "all_data['MSSubClass'] = all_data['MSSubClass'].apply(str)\n",
    "\n",
    "\n",
    "#Changing OverallCond into a categorical variable\n",
    "all_data['OverallCond'] = all_data['OverallCond'].astype(str)\n",
    "\n",
    "\n",
    "#Year and month sold are transformed into categorical features.\n",
    "all_data['YrSold'] = all_data['YrSold'].astype(str)\n",
    "all_data['MoSold'] = all_data['MoSold'].astype(str)"
   ]
  },
  {
   "cell_type": "markdown",
   "id": "e47e34a4",
   "metadata": {},
   "source": [
    "# Label Encoding"
   ]
  },
  {
   "cell_type": "code",
   "execution_count": null,
   "id": "f9793001",
   "metadata": {},
   "outputs": [],
   "source": [
    "from sklearn.preprocessing import LabelEncoder\n",
    "cols = ('FireplaceQu', 'BsmtQual', 'BsmtCond', 'GarageQual', 'GarageCond', \n",
    "        'ExterQual', 'ExterCond','HeatingQC', 'PoolQC', 'KitchenQual', 'BsmtFinType1', \n",
    "        'BsmtFinType2', 'Functional', 'Fence', 'BsmtExposure', 'GarageFinish', 'LandSlope',\n",
    "        'LotShape', 'PavedDrive', 'Street', 'Alley', 'CentralAir', 'MSSubClass', 'OverallCond', \n",
    "        'YrSold', 'MoSold')\n",
    "# process columns, apply LabelEncoder to categorical features\n",
    "for c in cols:\n",
    "    lbl = LabelEncoder() \n",
    "    lbl.fit(list(all_data[c].values)) \n",
    "    all_data[c] = lbl.transform(list(all_data[c].values))\n",
    "\n",
    "# shape        \n",
    "print('Shape all_data: {}'.format(all_data.shape))"
   ]
  },
  {
   "cell_type": "markdown",
   "id": "8b039d30",
   "metadata": {},
   "source": [
    "面積関係の値は不動産価格に大きく影響するため、全面積の合計の特徴量を新しく作成する"
   ]
  },
  {
   "cell_type": "code",
   "execution_count": null,
   "id": "c246c949",
   "metadata": {},
   "outputs": [],
   "source": [
    "# Adding total sqfootage feature \n",
    "all_data['TotalSF'] = all_data['TotalBsmtSF'] + all_data['1stFlrSF'] + all_data['2ndFlrSF']\n",
    "# 相関の強い2つを掛け合わせる\n",
    "# https://www.kaggle.com/katotaka/prediction-house-prices-eda\n",
    "all_data[\"Interaction\"] = all_data[\"TotalSF\"] * all_data[\"OverallQual\"]"
   ]
  },
  {
   "cell_type": "markdown",
   "id": "a55418e1",
   "metadata": {},
   "source": [
    "# object型以外の特徴量の偏りを見る"
   ]
  },
  {
   "cell_type": "code",
   "execution_count": null,
   "id": "fd9f8c2a",
   "metadata": {},
   "outputs": [],
   "source": [
    "numeric_feats = all_data.dtypes[all_data.dtypes != \"object\"].index\n",
    "\n",
    "# Check the skew of all numerical features\n",
    "skewed_feats = all_data[numeric_feats].apply(lambda x: skew(x.dropna())).sort_values(ascending=False)\n",
    "print(\"\\nSkew in numerical features: \\n\")\n",
    "skewness = pd.DataFrame({'Skew' :skewed_feats})\n",
    "skewness.head(15)"
   ]
  },
  {
   "cell_type": "markdown",
   "id": "ad55be51",
   "metadata": {},
   "source": [
    "実データを扱う際、正規分布になっておらず、ゆがんだデータも多く存在する。そのため正規分布に近づけるためBox-Cox変換を利用する"
   ]
  },
  {
   "cell_type": "code",
   "execution_count": null,
   "id": "1594bbe4",
   "metadata": {},
   "outputs": [],
   "source": [
    "skewness = skewness[abs(skewness) > 0.75]\n",
    "print(\"There are {} skewed numerical features to Box Cox transform\".format(skewness.shape[0]))\n",
    "\n",
    "from scipy.special import boxcox1p\n",
    "skewed_features = skewness.index\n",
    "lam = 0.15\n",
    "for feat in skewed_features:\n",
    "    #all_data[feat] += 1\n",
    "    all_data[feat] = boxcox1p(all_data[feat], lam)"
   ]
  },
  {
   "cell_type": "markdown",
   "id": "80ee1500",
   "metadata": {},
   "source": [
    "# Dummy-Encoding\n",
    "カテゴリー型の値をone-hotencodingで変換する"
   ]
  },
  {
   "cell_type": "code",
   "execution_count": null,
   "id": "b7057f6d",
   "metadata": {},
   "outputs": [],
   "source": [
    "all_data = pd.get_dummies(all_data)\n",
    "all_data.shape"
   ]
  },
  {
   "cell_type": "markdown",
   "id": "621cca85",
   "metadata": {},
   "source": [
    "# モデルの作成"
   ]
  },
  {
   "cell_type": "code",
   "execution_count": null,
   "id": "5217309d",
   "metadata": {},
   "outputs": [],
   "source": [
    "train = all_data[:ntrain]\n",
    "test = all_data[ntrain:]\n",
    "train.shape"
   ]
  },
  {
   "cell_type": "code",
   "execution_count": null,
   "id": "ed1f3d0c",
   "metadata": {},
   "outputs": [],
   "source": [
    "from sklearn.linear_model import ElasticNet, Lasso,  BayesianRidge, LassoLarsIC\n",
    "from sklearn.ensemble import RandomForestRegressor,  GradientBoostingRegressor\n",
    "from sklearn.kernel_ridge import KernelRidge\n",
    "from sklearn.pipeline import make_pipeline\n",
    "from sklearn.preprocessing import RobustScaler\n",
    "from sklearn.base import BaseEstimator, TransformerMixin, RegressorMixin, clone\n",
    "from sklearn.model_selection import KFold, cross_val_score, train_test_split\n",
    "from sklearn.metrics import mean_squared_error\n",
    "import xgboost as xgb\n",
    "import lightgbm as lgb"
   ]
  },
  {
   "cell_type": "markdown",
   "id": "3636f90f",
   "metadata": {},
   "source": [
    "## クロスバリデーション用の関数"
   ]
  },
  {
   "cell_type": "code",
   "execution_count": null,
   "id": "6873f46e",
   "metadata": {},
   "outputs": [],
   "source": [
    "#Validation function\n",
    "n_folds = 5\n",
    "\n",
    "def rmsle_cv(model):\n",
    "    kf = KFold(n_folds, shuffle=True, random_state=42).get_n_splits(train.values)\n",
    "    rmse= np.sqrt(-cross_val_score(model, train.values, y_train, scoring=\"neg_mean_squared_error\", cv = kf))\n",
    "    return(rmse)"
   ]
  },
  {
   "cell_type": "markdown",
   "id": "c59011d5",
   "metadata": {},
   "source": [
    "### Ridge Regression"
   ]
  },
  {
   "cell_type": "code",
   "execution_count": null,
   "id": "5ca4d355",
   "metadata": {},
   "outputs": [],
   "source": [
    "KRR = KernelRidge(alpha=0.6, kernel='polynomial', degree=2, coef0=2.5)\n",
    "score = rmsle_cv(KRR)\n",
    "print(\"Kernel Ridge score: {:.4f} ({:.4f})\\n\".format(score.mean(), score.std()))"
   ]
  },
  {
   "cell_type": "markdown",
   "id": "63553480",
   "metadata": {},
   "source": [
    "### Lasso Regression"
   ]
  },
  {
   "cell_type": "code",
   "execution_count": null,
   "id": "aece1f34",
   "metadata": {},
   "outputs": [],
   "source": [
    "lasso = make_pipeline(RobustScaler(), Lasso(alpha =0.0005, random_state=1))\n",
    "score = rmsle_cv(lasso)\n",
    "print(\"Lasso score: {:.4f} ({:.4f})\\n\".format(score.mean(), score.std()))"
   ]
  },
  {
   "cell_type": "markdown",
   "id": "d3211c60",
   "metadata": {},
   "source": [
    "### Elastic Net Regression"
   ]
  },
  {
   "cell_type": "code",
   "execution_count": null,
   "id": "9da6fa24",
   "metadata": {},
   "outputs": [],
   "source": [
    "ENet = make_pipeline(RobustScaler(), ElasticNet(alpha=0.0005, l1_ratio=.9, random_state=3))\n",
    "score = rmsle_cv(ENet)\n",
    "print(\"ElasticNet score: {:.4f} ({:.4f})\\n\".format(score.mean(), score.std()))\n"
   ]
  },
  {
   "cell_type": "markdown",
   "id": "b746c901",
   "metadata": {},
   "source": [
    "### Gradient Boosting Regression"
   ]
  },
  {
   "cell_type": "code",
   "execution_count": null,
   "id": "5430cba0",
   "metadata": {},
   "outputs": [],
   "source": [
    "GBoost = GradientBoostingRegressor(n_estimators=3000, learning_rate=0.05,\n",
    "                                   max_depth=4, max_features='sqrt',\n",
    "                                   min_samples_leaf=15, min_samples_split=10, \n",
    "                                   loss='huber', random_state =5)\n",
    "score = rmsle_cv(GBoost)\n",
    "print(\"Gradient Boosting score: {:.4f} ({:.4f})\\n\".format(score.mean(), score.std()))"
   ]
  },
  {
   "cell_type": "markdown",
   "id": "31bf0af8",
   "metadata": {},
   "source": [
    "### XGBoost"
   ]
  },
  {
   "cell_type": "code",
   "execution_count": null,
   "id": "a1ddb096",
   "metadata": {},
   "outputs": [],
   "source": [
    "model_xgb = xgb.XGBRegressor(colsample_bytree=0.4603, gamma=0.0468, \n",
    "                             learning_rate=0.05, max_depth=3, \n",
    "                             min_child_weight=1.7817, n_estimators=2200,\n",
    "                             reg_alpha=0.4640, reg_lambda=0.8571,\n",
    "                             subsample=0.5213, silent=1,\n",
    "                             random_state =7, nthread = -1)\n",
    "score = rmsle_cv(model_xgb)\n",
    "print(\"Xgboost score: {:.4f} ({:.4f})\\n\".format(score.mean(), score.std()))"
   ]
  },
  {
   "cell_type": "markdown",
   "id": "a09f5c9a",
   "metadata": {},
   "source": [
    "### LightGBM"
   ]
  },
  {
   "cell_type": "code",
   "execution_count": null,
   "id": "ab399651",
   "metadata": {},
   "outputs": [],
   "source": [
    "model_lgb = lgb.LGBMRegressor(objective='regression',num_leaves=5,\n",
    "                              learning_rate=0.05, n_estimators=720,\n",
    "                              max_bin = 55, bagging_fraction = 0.8,\n",
    "                              bagging_freq = 5, feature_fraction = 0.2319,\n",
    "                              feature_fraction_seed=9, bagging_seed=9,\n",
    "                              min_data_in_leaf =6, min_sum_hessian_in_leaf = 11)\n",
    "score = rmsle_cv(model_lgb)\n",
    "print(\"LGBM score: {:.4f} ({:.4f})\\n\" .format(score.mean(), score.std()))"
   ]
  },
  {
   "cell_type": "markdown",
   "id": "319afc3c",
   "metadata": {},
   "source": [
    "# Stacking Model"
   ]
  },
  {
   "cell_type": "code",
   "execution_count": null,
   "id": "ae2349e1",
   "metadata": {},
   "outputs": [],
   "source": [
    "class StackingAveragedModels(BaseEstimator, RegressorMixin, TransformerMixin):\n",
    "    def __init__(self, base_models, meta_model, n_folds=5):\n",
    "        self.base_models = base_models\n",
    "        self.meta_model = meta_model\n",
    "        self.n_folds = n_folds\n",
    "   \n",
    "    # We again fit the data on clones of the original models\n",
    "    def fit(self, X, y):\n",
    "        self.base_models_ = [list() for x in self.base_models]\n",
    "        self.meta_model_ = clone(self.meta_model)\n",
    "        kfold = KFold(n_splits=self.n_folds, shuffle=True, random_state=156)\n",
    "        \n",
    "        # Train cloned base models then create out-of-fold predictions\n",
    "        # that are needed to train the cloned meta-model\n",
    "        out_of_fold_predictions = np.zeros((X.shape[0], len(self.base_models)))\n",
    "        for i, model in enumerate(self.base_models):\n",
    "            for train_index, holdout_index in kfold.split(X, y):\n",
    "                instance = clone(model)\n",
    "                self.base_models_[i].append(instance)\n",
    "                instance.fit(X[train_index], y[train_index])\n",
    "                y_pred = instance.predict(X[holdout_index])\n",
    "                out_of_fold_predictions[holdout_index, i] = y_pred\n",
    "                \n",
    "        # Now train the cloned  meta-model using the out-of-fold predictions as new feature\n",
    "        self.meta_model_.fit(out_of_fold_predictions, y)\n",
    "        return self\n",
    "   \n",
    "    #Do the predictions of all base models on the test data and use the averaged predictions as \n",
    "    #meta-features for the final prediction which is done by the meta-model\n",
    "    def predict(self, X):\n",
    "        meta_features = np.column_stack([\n",
    "            np.column_stack([model.predict(X) for model in base_models]).mean(axis=1)\n",
    "            for base_models in self.base_models_ ])\n",
    "        return self.meta_model_.predict(meta_features)"
   ]
  },
  {
   "cell_type": "markdown",
   "id": "19ef66d4",
   "metadata": {},
   "source": [
    "## Enet,KRR,Gboost,XGB,LightGBMを平均化し、メタモデルとしてlassoを利用"
   ]
  },
  {
   "cell_type": "code",
   "execution_count": null,
   "id": "e7c23674",
   "metadata": {},
   "outputs": [],
   "source": [
    "stacked_averaged_models = StackingAveragedModels(base_models = (ENet, GBoost, KRR, model_xgb, model_lgb),\n",
    "                                                 meta_model = lasso)\n",
    "\n",
    "score = rmsle_cv(stacked_averaged_models)\n",
    "print(\"Stacking Averaged models score: {:.4f} ({:.4f})\".format(score.mean(), score.std()))\n"
   ]
  },
  {
   "cell_type": "markdown",
   "id": "0cb092b9",
   "metadata": {},
   "source": [
    "## StackedRegressor, XGBoost,LightGBMのアセンブル"
   ]
  },
  {
   "cell_type": "code",
   "execution_count": null,
   "id": "2d98a84d",
   "metadata": {},
   "outputs": [],
   "source": [
    "def rmsle(y, y_pred):\n",
    "    return np.sqrt(mean_squared_error(y, y_pred))"
   ]
  },
  {
   "cell_type": "markdown",
   "id": "48fa3fda",
   "metadata": {},
   "source": [
    "## 最終トレーニングと予測"
   ]
  },
  {
   "cell_type": "markdown",
   "id": "84dddcbd",
   "metadata": {},
   "source": [
    "### StackedRegressor"
   ]
  },
  {
   "cell_type": "code",
   "execution_count": null,
   "id": "eec3f82b",
   "metadata": {},
   "outputs": [],
   "source": [
    "stacked_averaged_models.fit(train.values, y_train)\n",
    "stacked_train_pred = stacked_averaged_models.predict(train.values)\n",
    "stacked_pred = np.expm1(stacked_averaged_models.predict(test.values))\n",
    "print(rmsle(y_train, stacked_train_pred))"
   ]
  },
  {
   "cell_type": "code",
   "execution_count": null,
   "id": "c2e16e39",
   "metadata": {},
   "outputs": [],
   "source": [
    "sub = pd.DataFrame()\n",
    "sub['Id'] = test_ID\n",
    "sub['SalePrice'] = stacked_pred\n",
    "sub.to_csv('submission.csv',index=False)"
   ]
  }
 ],
 "metadata": {},
 "nbformat": 4,
 "nbformat_minor": 5
}
