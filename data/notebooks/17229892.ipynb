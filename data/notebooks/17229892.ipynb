{
 "cells": [
  {
   "cell_type": "code",
   "execution_count": null,
   "id": "e6f86998",
   "metadata": {},
   "outputs": [],
   "source": [
    "# This Python 3 environment comes with many helpful analytics libraries installed\n",
    "# It is defined by the kaggle/python Docker image: https://github.com/kaggle/docker-python\n",
    "# For example, here's several helpful packages to load\n",
    "\n",
    "import numpy as np # linear algebra\n",
    "import pandas as pd # data processing, CSV file I/O (e.g. pd.read_csv)\n",
    "\n",
    "# Input data files are available in the read-only \"../input/\" directory\n",
    "# For example, running this (by clicking run or pressing Shift+Enter) will list all files under the input directory\n",
    "\n",
    "import os\n",
    "for dirname, _, filenames in os.walk('/kaggle/input'):\n",
    "    for filename in filenames:\n",
    "        print(os.path.join(dirname, filename))\n",
    "\n",
    "# You can write up to 20GB to the current directory (/kaggle/working/) that gets preserved as output when you create a version using \"Save & Run All\" \n",
    "# You can also write temporary files to /kaggle/temp/, but they won't be saved outside of the current session"
   ]
  },
  {
   "cell_type": "markdown",
   "id": "9e69b377",
   "metadata": {},
   "source": [
    "<h1 style=\"background-color:#DC143C; font-family:'Brush Script MT',cursive;color:white;font-size:200%; text-align:center;border-radius: 50% 20% / 10% 40%\">International Reports Highlight Scale Of Problems In Belarus</h1>\n",
    "\n",
    "BELARUS CRISIS - Author: Niall McCarthy (Data Journalist)\n",
    "\n",
    "\"The European Union has imposed new economic sanctions on Belarus after a Ryanair flight from Athens to Vilnius was forced to land in Minsk, resulting in the detention of opposition blogger Roman Protasevich. Joe Biden condemned the incident \"in the strongest possible terms\" while President of the EU Commission Ursula von der Leyen descibed \"the hijacking of the Ryanair plane by the Belarus regime is an attack on democracy\". Ryanair boss Michael O'Leary labelled it \"state-sponsored hijacking\" and \"state-sponsored piracy.\"\n",
    "\n",
    "https://www.statista.com/chart/22612/where-belarus-ranks-globally-in-major-international-reports/?utm_source=Statista+Newsletters&utm_campaign=a3c8d4bc6b-All_InfographTicker_daily_COM_AM_KW20_2021_Fr_COPY&utm_medium=email&utm_term=0_662f7ed75e-a3c8d4bc6b-315801217"
   ]
  },
  {
   "cell_type": "markdown",
   "id": "1a1c66fa",
   "metadata": {},
   "source": [
    "![](https://amp.thenationalnews.com/image/policy:1.1228884:1621858825/RYANAIR-FLIGHT-PATH-png.png?f=default&q=0.7&w=940&$p$f$q$w=da210ea)thenationalnews.com"
   ]
  },
  {
   "cell_type": "markdown",
   "id": "8fa491fc",
   "metadata": {},
   "source": [
    "![](https://walker-col.imgix.net/wac_15178.tif?fm=jpg&w=1440&h=1050&fit=max&dpr=1.5)walkerart.org"
   ]
  },
  {
   "cell_type": "markdown",
   "id": "fa8b745f",
   "metadata": {},
   "source": [
    "\"The incident sets a new and grim precedent in Belarus, a country that was at the center of a disputed election last year. It saw Alexander Lukashenko win yet another term in office and that resulted in Belarus being rocked by the biggest protests in its history. In response, the government clamped down on demonstrations through violence and arrests, with some protestors claiming the authorities used torture.\"\n",
    "\n",
    "\"Over the years, a plethora of international reports have shown just how much freedom is really curtailed in Belarus. This infographic pulls some of the most recent results together, highlighting the country's ranking in major reports we have frequently covered at Statista. For example, it only manages 148th out of 167 nations in the 2020 Democracy Index from the Economist Intelligence Unit. It also scores poorly in the 2020 World Press Freedom Index by Reporters Without Borders, coming in 158th out of 180 countries and territories.\"\n",
    "\n",
    "https://www.statista.com/chart/22612/where-belarus-ranks-globally-in-major-international-reports/?utm_source=Statista+Newsletters&utm_campaign=a3c8d4bc6b-All_InfographTicker_daily_COM_AM_KW20_2021_Fr_COPY&utm_medium=email&utm_term=0_662f7ed75e-a3c8d4bc6b-315801217"
   ]
  },
  {
   "cell_type": "markdown",
   "id": "1462ddb6",
   "metadata": {},
   "source": [
    "![](https://i2.wp.com/www.gannett-cdn.com/presto/2021/05/24/USAT/a843e0c8-8623-46b4-860b-ed38f83771fa-ProtasevichV2.jpg?w=708&ssl=1)aw-journal.com"
   ]
  },
  {
   "cell_type": "code",
   "execution_count": null,
   "id": "22ae7ffb",
   "metadata": {},
   "outputs": [],
   "source": [
    "# Importing essential libraries\n",
    "import cv2, glob, os\n",
    "from matplotlib import pyplot as plt\n",
    "from PIL import Image"
   ]
  },
  {
   "cell_type": "markdown",
   "id": "90264bca",
   "metadata": {},
   "source": [
    "<font color=\"#EC7063\">Abuse of Power Comes as No Surprise</font>\n",
    "\n",
    "\"We are Scientists, administrators, assistants, directors, editors, educators, interns, scholars, students, writers, and more—workers of the world. We have been groped, undermined, harassed, infantilized, scorned, threatened, and intimidated by those in positions of power who control access to resources and opportunities. We have held our tongues, threatened by power wielded over us and promises of institutional access and career advancement.\"\n",
    "\n",
    "\"We are not surprised when editors offer support in exchange for sexual favors. We are not surprised when people romanticize, minimize, and hide sexually abusive behavior by workers they represent. We are not surprised when a meeting with a potential patron becomes a sexual proposition. We are not surprised when we are retaliated against for not complying. We are not surprised when someone gropes us in the science fair booth while promising he’ll help us with our career. Abuse of power comes as no surprise\"\n",
    "\n",
    "Adapted from:\n",
    "\n",
    "https://www.e-flux.com/announcements/162059/we-are-not-surprised/"
   ]
  },
  {
   "cell_type": "code",
   "execution_count": null,
   "id": "3fd9bc4f",
   "metadata": {},
   "outputs": [],
   "source": [
    "# Importing essential datasets\n",
    "BASE = '../input/cusersmarildownloads22612jpeg/22612.jpeg'"
   ]
  },
  {
   "cell_type": "code",
   "execution_count": null,
   "id": "0d7ad5b8",
   "metadata": {},
   "outputs": [],
   "source": [
    "# Reading and understanding a single image\n",
    "img = cv2.imread(\"../input/cusersmarildownloads22612jpeg/22612.jpeg\")\n",
    "plt.figure(figsize=(10,10))\n",
    "plt.imshow(img, cmap = 'twilight'), plt.axis('off'), plt.title('Belarus Crisis',fontsize=20),plt.show();"
   ]
  },
  {
   "cell_type": "code",
   "execution_count": null,
   "id": "38f51ae5",
   "metadata": {},
   "outputs": [],
   "source": [
    "# Visualizing the image histogram for first image\n",
    "counts,bins,_ = plt.hist(img.ravel(),density = False, alpha = 0.8, histtype = 'stepfilled', color = '#0303FF', edgecolor = '#44FF80')"
   ]
  },
  {
   "cell_type": "code",
   "execution_count": null,
   "id": "4bb67104",
   "metadata": {},
   "outputs": [],
   "source": [
    "# Understanding multivariate normal for the first image\n",
    "x, y = np.random.multivariate_normal([0,200],[[1, 0], [0, 200]],10000).T\n",
    "plt.hist2d(x,y,bins=30,cmap=\"Reds\")\n",
    "cb = plt.colorbar()\n",
    "cb.set_label('Counts in Bin')\n",
    "plt.show()"
   ]
  },
  {
   "cell_type": "code",
   "execution_count": null,
   "id": "0dad85b1",
   "metadata": {},
   "outputs": [],
   "source": [
    "# Grayscale histogram\n",
    "plt.figure(figsize=(15,8))\n",
    "plt.subplot(241), plt.plot(cv2.calcHist([cv2.cvtColor(img, cv2.COLOR_BGR2GRAY)],[0],None,[256], [0,256]), color = 'k'), plt.title('Belarus Crisis',fontsize=15)\n",
    "plt.subplot(242), plt.plot(cv2.calcHist([img],[0],None,[256],[0,256]),color = 'b'), plt.xlim([0,256])\n",
    "plt.subplot(243), plt.plot(cv2.calcHist([img],[0],None,[256],[0,256]),color = 'g'), plt.xlim([0,256])\n",
    "plt.subplot(244), plt.plot(cv2.calcHist([img],[0],None,[256],[0,256]),color = 'r'), plt.xlim([0,256])\n",
    "plt.show()"
   ]
  },
  {
   "cell_type": "markdown",
   "id": "2b42f117",
   "metadata": {},
   "source": [
    "![](https://encrypted-tbn0.gstatic.com/images?q=tbn:ANd9GcRY_K1BQn61fADyTHTFGW2BMTYT4g2EqK6l-Q&usqp=CAU)quotefancy.com"
   ]
  }
 ],
 "metadata": {},
 "nbformat": 4,
 "nbformat_minor": 5
}
