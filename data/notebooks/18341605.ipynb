{
 "cells": [
  {
   "cell_type": "code",
   "execution_count": null,
   "id": "240604e2",
   "metadata": {},
   "outputs": [],
   "source": [
    "# This Python 3 environment comes with many helpful analytics libraries installed\n",
    "# It is defined by the kaggle/python Docker image: https://github.com/kaggle/docker-python\n",
    "# For example, here's several helpful packages to load\n",
    "\n",
    "import numpy as np # linear algebra\n",
    "import pandas as pd # data processing, CSV file I/O (e.g. pd.read_csv)\n",
    "\n",
    "# Input data files are available in the read-only \"../input/\" directory\n",
    "# For example, running this (by clicking run or pressing Shift+Enter) will list all files under the input directory\n",
    "\n",
    "import os\n",
    "for dirname, _, filenames in os.walk('/kaggle/input'):\n",
    "    for filename in filenames:\n",
    "        print(os.path.join(dirname, filename))\n",
    "\n",
    "# You can write up to 20GB to the current directory (/kaggle/working/) that gets preserved as output when you create a version using \"Save & Run All\" \n",
    "# You can also write temporary files to /kaggle/temp/, but they won't be saved outside of the current session"
   ]
  },
  {
   "cell_type": "code",
   "execution_count": null,
   "id": "cde30862",
   "metadata": {},
   "outputs": [],
   "source": [
    "from matplotlib import pyplot as plt\n",
    "import seaborn as sns\n",
    "import tqdm\n",
    "\n",
    "train_df=pd.read_csv(\"../input/tabular-playground-series-jul-2021/train.csv\")\n",
    "test_df=pd.read_csv(\"../input/tabular-playground-series-jul-2021/test.csv\")"
   ]
  },
  {
   "cell_type": "code",
   "execution_count": null,
   "id": "d966227c",
   "metadata": {},
   "outputs": [],
   "source": [
    "#import pandas_profiling as pdp #This pandas_profiling library can build Report on a given dataframe\n",
    "#pdp.ProfileReport(train_df)\n"
   ]
  },
  {
   "cell_type": "code",
   "execution_count": null,
   "id": "abb3c403",
   "metadata": {},
   "outputs": [],
   "source": [
    "#plt.figu\n",
    "y=train_df.iloc[1:,1]\n",
    "x=range(0,np.size(y))\n",
    "plt.figure(figsize=(16,2),tight_layout=True)\n",
    "plt.plot(x,y)\n",
    "set1={'family':'bold','color':'blue','size':20}\n",
    "plt.title(\"Degree In Celcius\",fontdict=set1)\n",
    "plt.grid()\n",
    "plt.show()"
   ]
  },
  {
   "cell_type": "code",
   "execution_count": null,
   "id": "6805ef10",
   "metadata": {},
   "outputs": [],
   "source": [
    "plt.figure(figsize=(16,40),tight_layout=True)\n",
    "for i in range(1,len(train_df.columns)):\n",
    "    plt.subplot(11,1,i)#subplot(total subplots,rrow_no,col_no)\n",
    "    plt.title(train_df.columns[i],fontdict=set1)\n",
    "    plt.plot(train_df.iloc[1:,i])\n",
    "    plt.grid()\n",
    "plt.show()\n"
   ]
  },
  {
   "cell_type": "code",
   "execution_count": null,
   "id": "b3e0076c",
   "metadata": {},
   "outputs": [],
   "source": [
    "all_df=pd.concat([train_df,test_df]).reset_index(drop=True)\n",
    "plt.figure(figsize=(16,40),tight_layout=True)\n",
    "for i in range(1,9):\n",
    "    plt.subplot(11,1,i)\n",
    "    plt.title(all_df.columns[i],fontdict=set1)\n",
    "    plt.plot(all_df.iloc[1:train_df.shape[0],i])\n",
    "    plt.plot(all_df.iloc[train_df.shape[0]:,i])\n",
    "    \n",
    "    #plt.plot(all_df[i][1:train_df.shape[0]])\n",
    "    #plt.plot(all_df[i][train_df.shape[0]:])\n",
    "    plt.grid()\n",
    "plt.show()\n"
   ]
  },
  {
   "cell_type": "code",
   "execution_count": null,
   "id": "638faf47",
   "metadata": {},
   "outputs": [],
   "source": [
    "features=[feature for feature in train_df.columns if feature not in [\"date_time\",\"target_carbon_monoxide\", \n",
    "                                                                       \"target_benzene\", \"target_nitrogen_oxides\"]]\n",
    "\n",
    "\n",
    "\n"
   ]
  },
  {
   "cell_type": "code",
   "execution_count": null,
   "id": "229dc56d",
   "metadata": {},
   "outputs": [],
   "source": [
    "fig=plt.figure(figsize=(16,10))\n",
    "upd_fig=fig.add_gridspec(3,3)\n",
    "upd_fig.update(wspace=-.2,hspace=0.25)\n"
   ]
  },
  {
   "cell_type": "code",
   "execution_count": null,
   "id": "d2aefbf2",
   "metadata": {},
   "outputs": [],
   "source": [
    "i=1\n",
    "set1={'family':'bold','color':'blue','size':20}\n",
    "fig=plt.figure(figsize=(16,20),tight_layout=True)\n",
    "for col in features:\n",
    "    plt.subplot(8,1,i)\n",
    "    sns.kdeplot(train_df[col],shade=True, color='#fcd12a', alpha=0.85)#Here alpha is actually opacity of graph\n",
    "    sns.kdeplot(test_df[col],shade=True, color='#287094', alpha=0.85)#if we keep writing this\n",
    "    plt.title(col,fontdict=set1)\n",
    "    plt.grid()\n",
    "    i=i+1                                                           #we can draw multiple plot in single graph\n",
    "\n",
    "\n",
    "plt.show()\n",
    "\n",
    "\n",
    "\n",
    "   "
   ]
  },
  {
   "cell_type": "code",
   "execution_count": null,
   "id": "2c749198",
   "metadata": {},
   "outputs": [],
   "source": [
    "features"
   ]
  },
  {
   "cell_type": "code",
   "execution_count": null,
   "id": "d1e7ea30",
   "metadata": {},
   "outputs": [],
   "source": [
    "X=train_df[features]"
   ]
  },
  {
   "cell_type": "code",
   "execution_count": null,
   "id": "747fba33",
   "metadata": {},
   "outputs": [],
   "source": [
    "Y=train_df[['target_carbon_monoxide', 'target_benzene', 'target_nitrogen_oxides']]"
   ]
  },
  {
   "cell_type": "code",
   "execution_count": null,
   "id": "324deca6",
   "metadata": {},
   "outputs": [],
   "source": [
    "from sklearn.model_selection import train_test_split"
   ]
  },
  {
   "cell_type": "code",
   "execution_count": null,
   "id": "883e7d1b",
   "metadata": {},
   "outputs": [],
   "source": [
    "x_train,x_test,y_train,y_test=train_test_split(X,Y,test_size=0.3)"
   ]
  },
  {
   "cell_type": "code",
   "execution_count": null,
   "id": "52120304",
   "metadata": {},
   "outputs": [],
   "source": [
    "import tensorflow as tf\n",
    "import keras"
   ]
  },
  {
   "cell_type": "code",
   "execution_count": null,
   "id": "a32f4e63",
   "metadata": {},
   "outputs": [],
   "source": [
    "model=tf.keras.Sequential([tf.keras.layers.Dense(units=8,input_dim=8,activation='relu'),\n",
    "                           tf.keras.layers.Dense(units=10,activation='relu'),\n",
    "                           tf.keras.layers.Dense(units=16,activation='relu'),\n",
    "                           tf.keras.layers.Dense(units=5,activation='relu'),\n",
    "                           tf.keras.layers.Dense(3,activation='relu')])\n",
    "model.compile(optimizer ='adam',loss  =tf.keras.losses.MeanSquaredLogarithmicError(),metrics=['mse'])\n",
    "model.summary()#try to use AdaDelta optimizer in the next run"
   ]
  },
  {
   "cell_type": "code",
   "execution_count": null,
   "id": "9d6a3fc6",
   "metadata": {},
   "outputs": [],
   "source": [
    "history=model.fit(x_train,y_train,epochs=1000,validation_data=(x_test,y_test))"
   ]
  },
  {
   "cell_type": "code",
   "execution_count": null,
   "id": "0a87f572",
   "metadata": {},
   "outputs": [],
   "source": [
    "epochs=1001\n",
    "plt.figure(figsize = (12,10))\n",
    "plt.subplot(2,1,1)\n",
    "plt.plot(range(1,epochs),history.history['loss'])\n",
    "plt.plot(range(1,epochs),history.history['val_loss'])\n",
    "plt.title('Validation and Train loss')\n",
    "plt.xlabel('epochs')\n",
    "plt.ylabel('loss')\n",
    "plt.grid()\n",
    "plt.subplot(2,1,2)\n",
    "plt.plot(range(1,epochs),history.history['mse'])\n",
    "plt.plot(range(1,epochs),history.history['val_mse'])\n",
    "plt.title('Validation and Train mse')\n",
    "plt.xlabel('epochs')\n",
    "plt.ylabel('mse')\n",
    "plt.grid()"
   ]
  },
  {
   "cell_type": "code",
   "execution_count": null,
   "id": "718b8b03",
   "metadata": {},
   "outputs": [],
   "source": [
    "sub=pd.read_csv(\"../input/tabular-playground-series-jul-2021/sample_submission.csv\")\n",
    "sub.columns"
   ]
  },
  {
   "cell_type": "code",
   "execution_count": null,
   "id": "e25786e6",
   "metadata": {},
   "outputs": [],
   "source": [
    "test = test_df.drop(columns = ['date_time'])"
   ]
  },
  {
   "cell_type": "code",
   "execution_count": null,
   "id": "7ec8f4b1",
   "metadata": {},
   "outputs": [],
   "source": [
    "prediction=model.predict(test)"
   ]
  },
  {
   "cell_type": "code",
   "execution_count": null,
   "id": "8f152c32",
   "metadata": {},
   "outputs": [],
   "source": [
    "predictions=pd.DataFrame(prediction)"
   ]
  },
  {
   "cell_type": "code",
   "execution_count": null,
   "id": "72d406a8",
   "metadata": {},
   "outputs": [],
   "source": [
    "sub['target_carbon_monoxide']=predictions[0]\n",
    "sub['target_benzene']=predictions[1]\n",
    "sub['target_nitrogen_oxides']=predictions[2]\n"
   ]
  },
  {
   "cell_type": "code",
   "execution_count": null,
   "id": "63034b40",
   "metadata": {},
   "outputs": [],
   "source": [
    "sub.to_csv('submission.csv',index=False)"
   ]
  },
  {
   "cell_type": "code",
   "execution_count": null,
   "id": "7297a89d",
   "metadata": {},
   "outputs": [],
   "source": [
    "nan"
   ]
  }
 ],
 "metadata": {},
 "nbformat": 4,
 "nbformat_minor": 5
}
