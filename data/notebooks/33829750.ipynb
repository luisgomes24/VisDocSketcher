{
 "cells": [
  {
   "cell_type": "markdown",
   "id": "b7e23630",
   "metadata": {},
   "source": [
    "# Load Libraries"
   ]
  },
  {
   "cell_type": "code",
   "execution_count": null,
   "id": "56934ae7",
   "metadata": {},
   "outputs": [],
   "source": [
    "import numpy as np, pandas as pd\n",
    "import matplotlib.pyplot as plt\n",
    "from sklearn.linear_model import LinearRegression"
   ]
  },
  {
   "cell_type": "code",
   "execution_count": null,
   "id": "9c929e09",
   "metadata": {},
   "outputs": [],
   "source": [
    "# SET VALIDATE = TRUE TO COMPUTE VALIDATION. \n",
    "# AND SET VALIDATE = FALSE TO MAKE AN SUBMISSION TO LB\n",
    "VALIDATE = False\n",
    "\n",
    "# USE 1 TO VALIDATE WITH LAST MONTH OF TRAIN, 2 FOR SECOND TO LAST ETC ETC\n",
    "# NEW TRAIN DATA IS EVERYTHING BEFORE THIS\n",
    "VAL_MONTH = 1"
   ]
  },
  {
   "cell_type": "code",
   "execution_count": null,
   "id": "ff8c41a5",
   "metadata": {},
   "outputs": [],
   "source": [
    "train = pd.read_csv('/kaggle/input/godaddy-microbusiness-density-forecasting/train.csv')\n",
    "train[\"first_day_of_month\"] = pd.to_datetime(train[\"first_day_of_month\"])\n",
    "train = train.sort_values(['cfips','first_day_of_month']).reset_index(drop=True)\n",
    "print(train.shape)\n",
    "train.head()"
   ]
  },
  {
   "cell_type": "code",
   "execution_count": null,
   "id": "654fd2b6",
   "metadata": {},
   "outputs": [],
   "source": [
    "trn_months = train.first_day_of_month.values[-39:-1*VAL_MONTH]\n",
    "val_months = train.first_day_of_month.values[-1*VAL_MONTH:]\n",
    "if VAL_MONTH != 1: \n",
    "    val_months = train.first_day_of_month.values[-1*VAL_MONTH:-1*VAL_MONTH+1]\n",
    "\n",
    "if VALIDATE:\n",
    "    test = train.loc[train.first_day_of_month.isin(val_months)]\n",
    "    train = train.loc[train.first_day_of_month.isin(trn_months)]\n",
    "print( train.shape )\n",
    "train.head()"
   ]
  },
  {
   "cell_type": "code",
   "execution_count": null,
   "id": "676be294",
   "metadata": {},
   "outputs": [],
   "source": [
    "if not VALIDATE:\n",
    "    test = pd.read_csv('/kaggle/input/godaddy-microbusiness-density-forecasting/test.csv')\n",
    "    test[\"first_day_of_month\"] = pd.to_datetime(test[\"first_day_of_month\"])\n",
    "    \n",
    "test = test.sort_values(['cfips','first_day_of_month']).reset_index(drop=True)\n",
    "print(test.shape)\n",
    "test.head()"
   ]
  },
  {
   "cell_type": "code",
   "execution_count": null,
   "id": "2a38d069",
   "metadata": {},
   "outputs": [],
   "source": [
    "train.cfips.value_counts()"
   ]
  },
  {
   "cell_type": "code",
   "execution_count": null,
   "id": "9f2d2392",
   "metadata": {},
   "outputs": [],
   "source": [
    "test.cfips.value_counts()"
   ]
  },
  {
   "cell_type": "code",
   "execution_count": null,
   "id": "a9a374b0",
   "metadata": {},
   "outputs": [],
   "source": [
    "TRAIN_SZ = len(train)//3135\n",
    "TEST_SZ = len(test)//3135\n",
    "\n",
    "print(TRAIN_SZ)\n",
    "print(TEST_SZ)"
   ]
  },
  {
   "cell_type": "code",
   "execution_count": null,
   "id": "4dd05790",
   "metadata": {},
   "outputs": [],
   "source": [
    "train.columns"
   ]
  },
  {
   "cell_type": "code",
   "execution_count": null,
   "id": "e6a774a3",
   "metadata": {},
   "outputs": [],
   "source": [
    "test.isnull().sum()"
   ]
  },
  {
   "cell_type": "code",
   "execution_count": null,
   "id": "91a283c3",
   "metadata": {},
   "outputs": [],
   "source": [
    "DISPLAY = 8\n",
    "THRESHOLD = 8\n",
    "\n",
    "IDS = train.cfips.unique()\n",
    "x_train = np.arange(39).reshape((-1,1))\n",
    "x_test = np.arange(38,47).reshape((-1,1))\n",
    "for i in range(DISPLAY):\n",
    "    c = np.random.choice(IDS)\n",
    "    df = train.loc[train.cfips==c]\n",
    "    last = df.microbusiness_density.values[-1]\n",
    "    \n",
    "    model = LinearRegression()\n",
    "    model.fit(x_train,df.microbusiness_density)\n",
    "    p = model.predict(x_train)\n",
    "    \n",
    "    # COMPUTE TRAIN ERROR\n",
    "    err = p - df.microbusiness_density.values\n",
    "    rng = df.microbusiness_density.max() - df.microbusiness_density.min()\n",
    "    \n",
    "    # DETERMIN IF TIME SERIES IS LINEAR OR NOT\n",
    "    s = 0\n",
    "    for k in range(39):\n",
    "        e = np.abs( err[k] )\n",
    "        r = e/(rng/2)\n",
    "        s += r\n",
    "        \n",
    "    # INFER TEST DATA WITH LINEAR REGRESSION\n",
    "    p2 = model.predict(x_test)\n",
    "    shift =  last - p2[0]\n",
    "    if s<THRESHOLD: preds = p2[1:]+shift\n",
    "    else: preds = [last]*8\n",
    "        \n",
    "    # PLOT \n",
    "    plt.figure(figsize=(20,5))\n",
    "    plt.plot(df.first_day_of_month,df.microbusiness_density,'-o',label='train data')\n",
    "    plt.plot(df.first_day_of_month,p,'--',label='linear regression')\n",
    "    plt.plot(test.first_day_of_month.values[:8],preds,'-o',label='test pred')\n",
    "    pre = ''; post=''\n",
    "    if s>THRESHOLD: \n",
    "        pre='NO, we WILL NOT USE linear regression for\\n'\n",
    "        post=' (We will predict last train value)'\n",
    "    else: \n",
    "        pre='YES, we WILL USE linear regression for\\n'\n",
    "    plt.title(f'{pre}CFIPS {c}{post}',size=18)\n",
    "    plt.xlabel('Date',size=16)\n",
    "    plt.ylabel('Microbusiness Density',size=16)\n",
    "    plt.legend()\n",
    "    \n",
    "    plt.hist(err,bins=20,label='error')\n",
    "    plt.plot([-rng/2,-rng/2],[0,10],'--',color='black',label='range')\n",
    "    plt.plot([rng/2,rng/2],[0,10],'--',color='black')\n",
    "    plt.xlim((-rng * 0.75,rng * 0.75))\n",
    "    plt.legend()\n",
    "    plt.title(f'Linear Regression\\nTrain Error vs. Train Range. (avg={100*s/78:2.1f}%)',size=18)\n",
    "    plt.show()\n",
    "    print('\\n\\n\\n\\n\\n\\n')"
   ]
  },
  {
   "cell_type": "code",
   "execution_count": null,
   "id": "2fcc484d",
   "metadata": {},
   "outputs": [],
   "source": [
    "DISPLAY = 8\n",
    "\n",
    "# ERROR THRESHOLD AS PERCENTAGE = THRESHOLD / 78\n",
    "THRESHOLD = 8\n",
    "ACTIVE_THRESHOLD = 2000\n",
    "\n",
    "ids = train.cfips.unique()\n",
    "\n",
    "x_train = np.arange(TRAIN_SZ).reshape((-1,1))\n",
    "x_test = np.arange(TRAIN_SZ-1,TRAIN_SZ+TEST_SZ).reshape((-1,1))\n",
    "\n",
    "linear_preds = np.zeros((len(ids), TEST_SZ))\n",
    "last_preds = np.zeros((len(ids), TEST_SZ))\n",
    "seasonal_preds = np.zeros((len(ids), TEST_SZ))\n",
    "\n",
    "sn_trend = 0\n",
    "lin_trend = 0\n",
    "ct=0\n",
    "for i, c in enumerate(ids):\n",
    "    df = train.loc[train.cfips == c]\n",
    "    \n",
    "    last = df.microbusiness_density.values[-1]\n",
    "    active = df.active.values[-1]\n",
    "    \n",
    "    last_preds[i,] = [last]*TEST_SZ\n",
    "    WIDTH1 = 5; WIDTH2 = 7; WIDTH3 = 7\n",
    "    \n",
    "    x0a = df.microbusiness_density.values[-1-WIDTH1:-1]\n",
    "    x0 = np.median(x0a)\n",
    "\n",
    "    x1 = df.microbusiness_density.values[-12-1+1]\n",
    "    x2a = df.microbusiness_density.values[-12-1-WIDTH2+1:-12-1+1]\n",
    "    x2 = np.median(x2a)\n",
    "\n",
    "    x3 = df.microbusiness_density.values[-24-1+1]\n",
    "    x4a = df.microbusiness_density.values[-24-1-WIDTH3+1:-24-1+1]\n",
    "    x4 = np.median(x4a)\n",
    "\n",
    "    p = last\n",
    "    if active >= ACTIVE_THRESHOLD:\n",
    "        if (x1 > x2) and (x3 > x4) and (last > x0):\n",
    "            p *= 1.005\n",
    "        elif (x1 < x2) and (x3 < x4) and (last < x0):\n",
    "            p *= 0.995\n",
    "    seasonal_preds[i,] = [p]*TEST_SZ\n",
    "    \n",
    "    model = LinearRegression()\n",
    "    model.fit(x_train, df.microbusiness_density)\n",
    "    p = model.predict(x_train)\n",
    "    err = p - df.microbusiness_density.values\n",
    "    rng = df.microbusiness_density.max() - df.microbusiness_density.min()\n",
    "\n",
    "    s = 0\n",
    "    for k in range(TRAIN_SZ):\n",
    "        e = np.abs(err[k])\n",
    "        r = e / (rng/2)\n",
    "        s += r\n",
    "    if (s > THRESHOLD) or (active < ACTIVE_THRESHOLD):\n",
    "\n",
    "        linear_preds[i,] = [last]*TEST_SZ\n",
    "    else:\n",
    "        p2 = model.predict(x_test)\n",
    "        shift = last - p2[0]\n",
    "        linear_preds[i,] = p2[1:] + shift\n",
    "        lin_trend += 1\n",
    "    if seasonal_preds[i,][0] == last:\n",
    "        continue\n",
    "    sn_trend += 1\n",
    "    sn_trend += 1\n",
    "    if ct>=DISPLAY+1: continue\n",
    "\n",
    "final_preds = (linear_preds + last_preds + seasonal_preds) / 3"
   ]
  },
  {
   "cell_type": "code",
   "execution_count": null,
   "id": "08309a9f",
   "metadata": {},
   "outputs": [],
   "source": [
    "nan"
   ]
  },
  {
   "cell_type": "code",
   "execution_count": null,
   "id": "69964dfe",
   "metadata": {},
   "outputs": [],
   "source": [
    "submission = pd.read_csv('/kaggle/input/godaddy-microbusiness-density-forecasting/sample_submission.csv')\n",
    "submission.head()"
   ]
  },
  {
   "cell_type": "code",
   "execution_count": null,
   "id": "ebf87166",
   "metadata": {},
   "outputs": [],
   "source": [
    "for i, c in enumerate(ids):\n",
    "    df = test.loc[test.cfips == c]\n",
    "    if df.shape[0] == 0:\n",
    "        continue\n",
    "    submission.microbusiness_density[submission['row_id'].isin(df['row_id'])] = final_preds[i,]\n"
   ]
  },
  {
   "cell_type": "code",
   "execution_count": null,
   "id": "3fe3e048",
   "metadata": {},
   "outputs": [],
   "source": [
    "submission.to_csv('submission.csv', index=False)"
   ]
  },
  {
   "cell_type": "code",
   "execution_count": null,
   "id": "ac5cb9b5",
   "metadata": {},
   "outputs": [],
   "source": [
    "nan"
   ]
  }
 ],
 "metadata": {},
 "nbformat": 4,
 "nbformat_minor": 5
}
