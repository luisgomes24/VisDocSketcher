{
 "cells": [
  {
   "cell_type": "markdown",
   "id": "639aeb4b",
   "metadata": {},
   "source": [
    "### All days of the challange:\n",
    "\n",
    "* [Day 1: Handling missing values](https://www.kaggle.com/rtatman/data-cleaning-challenge-handling-missing-values)\n",
    "* [Day 2: Scaling and normalization](https://www.kaggle.com/rtatman/data-cleaning-challenge-scale-and-normalize-data)\n",
    "* [Day 3: Parsing dates](https://www.kaggle.com/rtatman/data-cleaning-challenge-parsing-dates/)\n",
    "* [Day 4: Character encodings](https://www.kaggle.com/rtatman/data-cleaning-challenge-character-encodings/)\n",
    "* [Day 5: Inconsistent Data Entry](https://www.kaggle.com/rtatman/data-cleaning-challenge-inconsistent-data-entry/)\n",
    "___\n",
    "Welcome to day 2 of the 5-Day Data Challenge! Today, we're going to be looking at how to scale and normalize data (and what the difference is between the two!). To get started, click the blue \"Fork Notebook\" button in the upper, right hand corner. This will create a private copy of this notebook that you can edit and play with. Once you're finished with the exercises, you can choose to make your notebook public to share with others. :)\n",
    "\n",
    "> **Your turn!** As we work through this notebook, you'll see some notebook cells (a block of either code or text) that has \"Your Turn!\" written in it. These are exercises for you to do to help cement your understanding of the concepts we're talking about. Once you've written the code to answer a specific question, you can run the code by clicking inside the cell (box with code in it) with the code you want to run and then hit CTRL + ENTER (CMD + ENTER on a Mac). You can also click in a cell and then click on the right \"play\" arrow to the left of the code. If you want to run all the code in your notebook, you can use the double, \"fast forward\" arrows at the bottom of the notebook editor.\n",
    "\n",
    "Here's what we're going to do today:\n",
    "\n",
    "* [Get our environment set up](#Get-our-environment-set-up)\n",
    "* [Scaling vs. Normalization: What's the difference?](#Scaling-vs.-Normalization:-What's-the-difference?)\n",
    "* [Practice scaling](#Practice-scaling)\n",
    "* [Practice normalization](#Practice-normalization)\n",
    "\n",
    "Let's get started!"
   ]
  },
  {
   "cell_type": "markdown",
   "id": "8edd74c9",
   "metadata": {},
   "source": [
    "# Get our environment set up\n",
    "________\n",
    "\n",
    "The first thing we'll need to do is load in the libraries and datasets we'll be using. \n",
    "\n",
    "> **Important!** Make sure you run this cell yourself or the rest of your code won't work!"
   ]
  },
  {
   "cell_type": "code",
   "execution_count": null,
   "id": "5e359947",
   "metadata": {},
   "outputs": [],
   "source": [
    "# modules we'll use\n",
    "import pandas as pd\n",
    "import numpy as np\n",
    "\n",
    "# for Box-Cox Transformation\n",
    "from scipy import stats\n",
    "\n",
    "# for min_max scaling\n",
    "from mlxtend.preprocessing import minmax_scaling\n",
    "\n",
    "# plotting modules\n",
    "import seaborn as sns\n",
    "import matplotlib.pyplot as plt\n",
    "\n",
    "# read in all our data\n",
    "kickstarters_2017 = pd.read_csv(\"../input/kickstarter-projects/ks-projects-201801.csv\")\n",
    "\n",
    "# set seed for reproducibility\n",
    "np.random.seed(0)"
   ]
  },
  {
   "cell_type": "markdown",
   "id": "6ca29c95",
   "metadata": {},
   "source": [
    "Now that we're set up, let's learn about scaling & normalization. (If you like, you can take this opportunity to take a look at some of the data.)"
   ]
  },
  {
   "cell_type": "markdown",
   "id": "c0cbef19",
   "metadata": {},
   "source": [
    "# Scaling vs. Normalization: What's the difference?\n",
    "____\n",
    "\n",
    "One of the reasons that it's easy to get confused between scaling and normalization is because the terms are sometimes used interchangeably and, to make it even more confusing, they are very similar! In both cases, you're transforming the values of numeric variables so that the transformed data points have specific helpful properties. The difference is that, in scaling, you're changing the *range* of your data while in normalization you're changing the *shape of the distribution* of your data. Let's talk a little more in-depth about each of these options. \n",
    "\n",
    "___\n",
    "\n",
    "## **Scaling**\n",
    "\n",
    "This means that you're transforming your data so that it fits within a specific scale, like 0-100 or 0-1.  You want to scale data when you're using methods based on measures of how far apart data points, like [support vector machines, or SVM](https://en.wikipedia.org/wiki/Support_vector_machine) or [k-nearest neighbors, or KNN](https://en.wikipedia.org/wiki/K-nearest_neighbors_algorithm). With these algorithms, a change of \"1\" in any numeric feature is given the same importance. \n",
    "\n",
    "For example, you might be looking at the prices of some products in both Yen and US Dollars. One US Dollar is worth about 100 Yen, but if you don't scale your prices methods like SVM or KNN will consider a difference in price of 1 Yen as important as a difference of 1 US Dollar! This clearly doesn't fit with our intuitions of the world. With currency, you can convert between currencies. But what about if you're looking at something like height and weight? It's not entirely clear how many pounds should equal one inch (or how many kilograms should equal one meter).\n",
    "\n",
    "By scaling your variables, you can help compare different variables on equal footing. To help solidify what scaling looks like, let's look at a made-up example. (Don't worry, we'll work with real data in just a second, this is just to help illustrate my point.)\n"
   ]
  },
  {
   "cell_type": "code",
   "execution_count": null,
   "id": "e417941d",
   "metadata": {},
   "outputs": [],
   "source": [
    "# generate 1000 data points randomly drawn from an exponential distribution\n",
    "original_data = np.random.exponential(size = 1000)\n",
    "\n",
    "# mix-max scale the data between 0 and 1\n",
    "scaled_data = minmax_scaling(original_data, columns = [0])\n",
    "\n",
    "# plot both together to compare\n",
    "fig, ax=plt.subplots(1,2)\n",
    "sns.distplot(original_data, ax=ax[0])\n",
    "ax[0].set_title(\"Original Data\")\n",
    "sns.distplot(scaled_data, ax=ax[1])\n",
    "ax[1].set_title(\"Scaled data\")"
   ]
  },
  {
   "cell_type": "markdown",
   "id": "e04ece34",
   "metadata": {},
   "source": [
    "Notice that the *shape* of the data doesn't change, but that instead of ranging from 0 to 8ish, it now ranges from 0 to 1.\n",
    "\n",
    "___\n",
    "## Normalization\n",
    "\n",
    "Scaling just changes the range of your data. Normalization is a more radical transformation. The point of normalization is to change your observations so that they can be described as a normal distribution.\n",
    "\n",
    "> **[Normal distribution:](https://en.wikipedia.org/wiki/Normal_distribution)** Also known as the \"bell curve\", this is a specific statistical distribution where a roughly equal observations fall above and below the mean, the mean and the median are the same, and there are more observations closer to the mean. The normal distribution is also known as the Gaussian distribution.\n",
    "\n",
    "In general, you'll only want to normalize your data if you're going to be using a machine learning or statistics technique that assumes your data is normally distributed. Some examples of these include t-tests, ANOVAs, linear regression, linear discriminant analysis (LDA) and Gaussian naive Bayes. (Pro tip: any method with \"Gaussian\" in the name probably assumes normality.)\n",
    "\n",
    "The method were  using to normalize here is called the [Box-Cox Transformation](https://en.wikipedia.org/wiki/Power_transform#Box%E2%80%93Cox_transformation). Let's take a quick peek at what normalizing some data looks like:"
   ]
  },
  {
   "cell_type": "code",
   "execution_count": null,
   "id": "a68d9330",
   "metadata": {},
   "outputs": [],
   "source": [
    "# normalize the exponential data with boxcox\n",
    "normalized_data = stats.boxcox(original_data)\n",
    "\n",
    "# plot both together to compare\n",
    "fig, ax=plt.subplots(1,2)\n",
    "sns.distplot(original_data, ax=ax[0])\n",
    "ax[0].set_title(\"Original Data\")\n",
    "sns.distplot(normalized_data[0], ax=ax[1])\n",
    "ax[1].set_title(\"Normalized data\")"
   ]
  },
  {
   "cell_type": "markdown",
   "id": "9725096a",
   "metadata": {},
   "source": [
    "Notice that the *shape* of our data has changed. Before normalizing it was almost L-shaped. But after normalizing it looks more like the outline of a bell (hence \"bell curve\"). \n",
    "\n",
    "___\n",
    "## Your turn!\n",
    "\n",
    "For the following example, decide whether scaling or normalization makes more sense. \n",
    "\n",
    "* You want to build a linear regression model to predict someone's grades given how much time they spend on various activities during a normal school week.  You notice that your measurements for how much time students spend studying aren't normally distributed: some students spend almost no time studying and others study for four or more hours every day. Should you scale or normalize this variable?\n",
    "* You're still working on your grades study, but you want to include information on how students perform on several fitness tests as well. You have information on how many jumping jacks and push-ups each student can complete in a minute. However, you notice that students perform far more jumping jacks than push-ups: the average for the former is 40, and for the latter only 10. Should you scale or normalize these variables?"
   ]
  },
  {
   "cell_type": "markdown",
   "id": "88c90d4c",
   "metadata": {},
   "source": [
    "# Practice scaling\n",
    "___\n",
    "\n",
    "To practice scaling and normalization, we're going to be using a dataset of Kickstarter campaigns. (Kickstarter is a website where people can ask people to invest in various projects and concept products.)\n",
    "\n",
    "Let's start by scaling the goals of each campaign, which is how much money they were asking for."
   ]
  },
  {
   "cell_type": "code",
   "execution_count": null,
   "id": "e605d332",
   "metadata": {},
   "outputs": [],
   "source": [
    "# select the usd_goal_real column\n",
    "usd_goal = kickstarters_2017.usd_goal_real\n",
    "\n",
    "# scale the goals from 0 to 1\n",
    "scaled_data = minmax_scaling(usd_goal, columns = [0])\n",
    "\n",
    "# plot the original & scaled data together to compare\n",
    "fig, ax=plt.subplots(1,2)\n",
    "sns.distplot(kickstarters_2017.usd_goal_real, ax=ax[0])\n",
    "ax[0].set_title(\"Original Data\")\n",
    "sns.distplot(scaled_data, ax=ax[1])\n",
    "ax[1].set_title(\"Scaled data\")"
   ]
  },
  {
   "cell_type": "markdown",
   "id": "b54334ad",
   "metadata": {},
   "source": [
    "You can see that scaling changed the scales of the plots dramatically (but not the shape of the data: it looks like most campaigns have small goals but a few have very large ones)"
   ]
  },
  {
   "cell_type": "code",
   "execution_count": null,
   "id": "8baadcbb",
   "metadata": {},
   "outputs": [],
   "source": [
    "# Your turn! \n",
    "# Select the goal column\n",
    "goals = kickstarters_2017.goal\n",
    "\n",
    "# scale the goals column.\\\n",
    "scaled_goals = minmax_scaling(goals,columns = [0])\n",
    "\n",
    "# plot original and scaled data\n",
    "fig, ax = plt.subplots(1,2)\n",
    "sns.distplot(kickstarters_2017.goal, ax = ax[0])\n",
    "ax[0].set_title(\"Original Data\")\n",
    "\n",
    "sns.distplot(scaled_goals, ax = ax[1] )\n",
    "ax[1].set_title(\"Scaled Data\")\n",
    "\n"
   ]
  },
  {
   "cell_type": "markdown",
   "id": "3d769379",
   "metadata": {},
   "source": [
    "# Practice normalization\n",
    "___\n",
    "\n",
    "Ok, now let's try practicing normalization. We're going to normalize the amount of money pledged to each campaign."
   ]
  },
  {
   "cell_type": "code",
   "execution_count": null,
   "id": "25e29cce",
   "metadata": {},
   "outputs": [],
   "source": [
    "# get the index of all positive pledges (Box-Cox only takes postive values)\n",
    "index_of_positive_pledges = kickstarters_2017.usd_pledged_real > 0\n",
    "\n",
    "# get only positive pledges (using their indexes)\n",
    "positive_pledges = kickstarters_2017.usd_pledged_real.loc[index_of_positive_pledges]\n",
    "\n",
    "# normalize the pledges (w/ Box-Cox)\n",
    "normalized_pledges = stats.boxcox(positive_pledges)[0]\n",
    "\n",
    "# plot both together to compare\n",
    "fig, ax=plt.subplots(1,2)\n",
    "sns.distplot(positive_pledges, ax=ax[0])\n",
    "ax[0].set_title(\"Original Data\")\n",
    "sns.distplot(normalized_pledges, ax=ax[1])\n",
    "ax[1].set_title(\"Normalized data\")"
   ]
  },
  {
   "cell_type": "markdown",
   "id": "5590388f",
   "metadata": {},
   "source": [
    "It's not perfect (it looks like a lot pledges got very few pledges) but it is much closer to normal!"
   ]
  },
  {
   "cell_type": "code",
   "execution_count": null,
   "id": "7cf9d220",
   "metadata": {},
   "outputs": [],
   "source": [
    "# Your turn! \n",
    "# We looked as the usd_pledged_real column. What about the \"pledged\" column? Does it have the same info?\n",
    "# get the index of all positive pledges (Box-Cox only takes positive values)\n",
    "index_of_pledges = kickstarters_2017.pledged > 0\n",
    "\n",
    "# get only pledges (using their indexes)\n",
    "pledges = kickstarters_2017.pledged.loc[index_of_pledges]\n",
    "\n",
    "# Normalize the pledges (w/ Box-Cox)\n",
    "normalized_pledge = stats.boxcox(pledges)[0]\n",
    "\n",
    "# plot both together to compare\n",
    "fig, ax = plt.subplots(1,2)\n",
    "sns.distplot(pledges, ax=ax[0])\n",
    "ax[0].set_title(\"Original Data\")\n",
    "sns.distplot(normalized_pledge, ax=ax[1])\n",
    "ax[1].set_title(\"Normalized Data\")"
   ]
  },
  {
   "cell_type": "markdown",
   "id": "d29d925f",
   "metadata": {},
   "source": [
    "And that's it for today! If you have any questions, be sure to post them in the comments below or [on the forums](https://www.kaggle.com/questions-and-answers). \n",
    "\n",
    "Remember that your notebook is private by default, and in order to share it with other people or ask for help with it, you'll need to make it public. First, you'll need to save a version of your notebook that shows your current work by hitting the \"Commit & Run\" button. (Your work is saved automatically, but versioning your work lets you go back and look at what it was like at the point you saved it. It also lets you share a nice compiled notebook instead of just the raw code.) Then, once your notebook is finished running, you can go to the Settings tab in the panel to the left (you may have to expand it by hitting the [<] button next to the \"Commit & Run\" button) and setting the \"Visibility\" dropdown to \"Public\".\n",
    "\n",
    "# More practice!\n",
    "___\n",
    "\n",
    "Try finding a new dataset and pretend you're preparing to preform a [regression analysis](https://www.kaggle.com/rtatman/the-5-day-regression-challenge). ([These datasets are a good start!](https://www.kaggle.com/rtatman/datasets-for-regression-analysis)) Pick three or four variables and decide if you need to normalize or scale any of them and, if you think you should, practice applying the correct technique."
   ]
  }
 ],
 "metadata": {},
 "nbformat": 4,
 "nbformat_minor": 5
}
