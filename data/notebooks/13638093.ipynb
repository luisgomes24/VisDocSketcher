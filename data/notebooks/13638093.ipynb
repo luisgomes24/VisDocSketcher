{
 "cells": [
  {
   "cell_type": "markdown",
   "id": "ac2c87aa",
   "metadata": {},
   "source": [
    "![scott-graham-OQMZwNd3ThU-unsplash_3.jpg](attachment:scott-graham-OQMZwNd3ThU-unsplash_3.jpg)\n",
    "\n",
    "<span>Photo by <a href=\"https://unsplash.com/@sctgrhm?utm_source=unsplash&amp;utm_medium=referral&amp;utm_content=creditCopyText\">Scott Graham</a> on <a href=\"https://unsplash.com/s/photos/insurance?utm_source=unsplash&amp;utm_medium=referral&amp;utm_content=creditCopyText\">Unsplash</a></span>"
   ]
  },
  {
   "cell_type": "markdown",
   "id": "e6b2f12b",
   "metadata": {},
   "source": [
    "# Introduction\n",
    "\n",
    "This dataset includes 90,000 realistic, synthetically generated worker compensation insurance policies, all of which have had an accident. For each record there is demographic and worker related information, as well as a text description of the accident."
   ]
  },
  {
   "cell_type": "code",
   "execution_count": null,
   "id": "1781a9be",
   "metadata": {},
   "outputs": [],
   "source": [
    "# This Python 3 environment comes with many helpful analytics libraries installed\n",
    "# It is defined by the kaggle/python Docker image: https://github.com/kaggle/docker-python\n",
    "# For example, here's several helpful packages to load\n",
    "\n",
    "import numpy as np # linear algebra\n",
    "import pandas as pd # data processing, CSV file I/O (e.g. pd.read_csv)\n",
    "\n",
    "# Input data files are available in the read-only \"../input/\" directory\n",
    "# For example, running this (by clicking run or pressing Shift+Enter) will list all files under the input directory\n",
    "\n",
    "import os\n",
    "for dirname, _, filenames in os.walk('/kaggle/input'):\n",
    "    for filename in filenames:\n",
    "        print(os.path.join(dirname, filename))\n",
    "\n",
    "# You can write up to 20GB to the current directory (/kaggle/working/) that gets preserved as output when you create a version using \"Save & Run All\" \n",
    "# You can also write temporary files to /kaggle/temp/, but they won't be saved outside of the current session"
   ]
  },
  {
   "cell_type": "code",
   "execution_count": null,
   "id": "875b734d",
   "metadata": {},
   "outputs": [],
   "source": [
    "import seaborn as sns\n",
    "import matplotlib.pyplot as plt\n",
    "alp_test  = pd.read_csv('../input/actuarial-loss-estimation/test.csv')\n",
    "alp_train  = pd.read_csv('../input/actuarial-loss-estimation/train.csv')"
   ]
  },
  {
   "cell_type": "code",
   "execution_count": null,
   "id": "e626eb3f",
   "metadata": {},
   "outputs": [],
   "source": [
    "alp_test.info()"
   ]
  },
  {
   "cell_type": "code",
   "execution_count": null,
   "id": "5e0a090b",
   "metadata": {},
   "outputs": [],
   "source": [
    "print(\"It seems, that for test set, marital status has\", 36000-35982, \"missing values\")"
   ]
  },
  {
   "cell_type": "code",
   "execution_count": null,
   "id": "7b315fed",
   "metadata": {},
   "outputs": [],
   "source": [
    "alp_train.info()"
   ]
  },
  {
   "cell_type": "code",
   "execution_count": null,
   "id": "5cb02df7",
   "metadata": {},
   "outputs": [],
   "source": [
    "print(\"It seems, that for train set, marital status has\", 54000-53971, \"missing values\")"
   ]
  },
  {
   "cell_type": "markdown",
   "id": "96d6cd2d",
   "metadata": {},
   "source": [
    "The 90000 dataset is split into 36000 test and 54000 train. Let's see what wee see from a brief analysis"
   ]
  },
  {
   "cell_type": "code",
   "execution_count": null,
   "id": "16995514",
   "metadata": {},
   "outputs": [],
   "source": [
    "alp_palette = ['#edf8fb',\"#b3cde3\",'#8c96c6','#810f7c','#8856a7','#810f7c','#e0ecf4']"
   ]
  },
  {
   "cell_type": "markdown",
   "id": "d87256cb",
   "metadata": {},
   "source": [
    "# Define Functions"
   ]
  },
  {
   "cell_type": "code",
   "execution_count": null,
   "id": "84d03245",
   "metadata": {},
   "outputs": [],
   "source": [
    "def data_prep_bar_plots(alp_train, alp_test, column):\n",
    "    train = alp_train[column].value_counts()\n",
    "    train_percentage = alp_train[column].value_counts(normalize=True) * 100\n",
    "    test = alp_test[column].value_counts()\n",
    "    test_percentage = alp_test[column].value_counts(normalize=True) * 100\n",
    "    return train, train_percentage, test, test_percentage\n",
    "\n",
    "\n",
    "def bar_plot(train, test, column):\n",
    "\n",
    "    fig1 = plt.figure(1)\n",
    "    ax1 = train.plot(kind = 'bar', \n",
    "                                         stacked = True,\n",
    "                           figsize=(7, 7),\n",
    "                                         color = alp_palette, \n",
    "                                         edgecolor = \"grey\", \n",
    "                                         linewidth = 0.5)\n",
    "\n",
    "    x_offset = -0.03\n",
    "    y_offset = 1.5\n",
    "\n",
    "    for p in ax1.patches:\n",
    "        b = p.get_bbox()\n",
    "        if b.y1 > 0:\n",
    "            val = \"{:.3f}\".format(b.y1 + b.y0)\n",
    "            ax1.annotate(val, \n",
    "                    ((b.x0 + b.x1)/2 + x_offset, \n",
    "                     b.y1 + y_offset),               \n",
    "                    va = 'center', \n",
    "                    ha='center',\n",
    "                    fontweight='light', \n",
    "                    fontfamily='serif')\n",
    "        \n",
    "    ax1.set(xlabel=' ', ylabel='Percentage (%)')\n",
    "    ax1.legend()\n",
    "    ax1.set_title('{} distribution in test set'.format(column))\n",
    "    plt.xticks(rotation=0)\n",
    "\n",
    "    fig2 = plt.figure(2)\n",
    "    ax2 = test.plot(kind = 'bar',                                         \n",
    "                                         stacked = True,\n",
    "                            figsize=(7, 7),\n",
    "                                         color = alp_palette,  \n",
    "                                         edgecolor = \"grey\", \n",
    "                                         linewidth = 0.5)\n",
    "\n",
    "    x_offset = -0.03\n",
    "    y_offset = 1.5\n",
    "\n",
    "    for p in ax2.patches:\n",
    "        b = p.get_bbox()\n",
    "        if b.y1 > 0:\n",
    "            val = \"{:.3f}\".format(b.y1 + b.y0)\n",
    "            ax2.annotate(val, \n",
    "                    ((b.x0 + b.x1)/2 + x_offset, \n",
    "                     b.y1 + y_offset),               \n",
    "                    va = 'center', \n",
    "                    ha='center',\n",
    "                    fontweight='light', \n",
    "                    fontfamily='serif')\n",
    "        \n",
    "    ax2.set(xlabel=' ', ylabel='Percentage (%)')\n",
    "    ax2.legend()\n",
    "    ax2.set_title('{} distribution in test set'.format(column))\n",
    "\n",
    "    plt.xticks(rotation=0)\n",
    "    return plt.show()"
   ]
  },
  {
   "cell_type": "code",
   "execution_count": null,
   "id": "a2ec1286",
   "metadata": {},
   "outputs": [],
   "source": [
    "train, train_percentage, test, test_percentage = data_prep_bar_plots(alp_train, alp_test, 'Gender')"
   ]
  },
  {
   "cell_type": "code",
   "execution_count": null,
   "id": "815e15f0",
   "metadata": {},
   "outputs": [],
   "source": [
    "test"
   ]
  },
  {
   "cell_type": "code",
   "execution_count": null,
   "id": "25de5e03",
   "metadata": {},
   "outputs": [],
   "source": [
    "train"
   ]
  },
  {
   "cell_type": "markdown",
   "id": "7c411ba3",
   "metadata": {},
   "source": [
    "**Gender of worker**"
   ]
  },
  {
   "cell_type": "code",
   "execution_count": null,
   "id": "fb353860",
   "metadata": {},
   "outputs": [],
   "source": [
    "bar_plot(train_percentage, test_percentage, 'Gender')"
   ]
  },
  {
   "cell_type": "markdown",
   "id": "4da50e09",
   "metadata": {},
   "source": [
    "Gender distribution seems to be consistent between the train an test datadet. Only 2 Undeclared gender is in the train set.**"
   ]
  },
  {
   "cell_type": "markdown",
   "id": "6f746593",
   "metadata": {},
   "source": [
    "** Martial status of worker. (M)arried, (S)ingle, (U)nknown.**"
   ]
  },
  {
   "cell_type": "code",
   "execution_count": null,
   "id": "de5261a6",
   "metadata": {},
   "outputs": [],
   "source": [
    "train, train_percentage, test, test_percentage = data_prep_bar_plots(alp_train, alp_test, 'MaritalStatus')\n",
    "bar_plot(train_percentage, test_percentage, 'MaritalStatus')"
   ]
  },
  {
   "cell_type": "markdown",
   "id": "fa005c1d",
   "metadata": {},
   "source": [
    "**The number of dependent children**"
   ]
  },
  {
   "cell_type": "code",
   "execution_count": null,
   "id": "5a5bb7b2",
   "metadata": {},
   "outputs": [],
   "source": [
    "train, train_percentage, test, test_percentage = data_prep_bar_plots(alp_train, alp_test, 'DependentChildren')\n",
    "bar_plot(train_percentage, test_percentage, 'DependentChildren')"
   ]
  },
  {
   "cell_type": "markdown",
   "id": "d3e83db7",
   "metadata": {},
   "source": [
    "**The number of dependants excluding children**"
   ]
  },
  {
   "cell_type": "code",
   "execution_count": null,
   "id": "f48b55b7",
   "metadata": {},
   "outputs": [],
   "source": [
    "train, train_percentage, test, test_percentage = data_prep_bar_plots(alp_train, alp_test, 'DependentsOther')\n",
    "bar_plot(train_percentage, test_percentage, 'DependentsOther')"
   ]
  },
  {
   "cell_type": "markdown",
   "id": "26adf134",
   "metadata": {},
   "source": [
    "**Binary (P) or (F)**"
   ]
  },
  {
   "cell_type": "code",
   "execution_count": null,
   "id": "633a5f6d",
   "metadata": {},
   "outputs": [],
   "source": [
    "train, train_percentage, test, test_percentage = data_prep_bar_plots(alp_train, alp_test, 'PartTimeFullTime')\n",
    "bar_plot(train_percentage, test_percentage, 'PartTimeFullTime')"
   ]
  },
  {
   "cell_type": "markdown",
   "id": "1d4a555b",
   "metadata": {},
   "source": [
    "**Number of days worked per week**"
   ]
  },
  {
   "cell_type": "code",
   "execution_count": null,
   "id": "78711293",
   "metadata": {},
   "outputs": [],
   "source": [
    "train, train_percentage, test, test_percentage = data_prep_bar_plots(alp_train, alp_test, 'DaysWorkedPerWeek')\n",
    "bar_plot(train_percentage, test_percentage, 'DaysWorkedPerWeek')"
   ]
  },
  {
   "cell_type": "markdown",
   "id": "2c558b4d",
   "metadata": {},
   "source": [
    "So far, the dataset, split between train and test seems uniform, but then again it's pretty late o'clock here :D, maybe I just can't see clearly"
   ]
  },
  {
   "cell_type": "markdown",
   "id": "0638f664",
   "metadata": {},
   "source": [
    "**TO BE CONTINUED**"
   ]
  },
  {
   "cell_type": "markdown",
   "id": "87aca83b",
   "metadata": {},
   "source": [
    "ClaimNumber: Unique policy identifier\n",
    "\n",
    "DateTimeOfAccident: Date and time of accident\n",
    "\n",
    "DateReported: Date that accident was reported\n",
    "\n",
    "WeeklyWages: Total weekly wage\n",
    "\n",
    "ClaimDescription: Free text description of the claim\n",
    "\n",
    "InitialIncurredClaimCost: Initial estimate by the insurer of the claim cost\n",
    "\n",
    "UltimateIncurredClaimCost: Total claims payments by the insurance company. This is the field you are asked to predict in the test set. "
   ]
  }
 ],
 "metadata": {},
 "nbformat": 4,
 "nbformat_minor": 5
}
