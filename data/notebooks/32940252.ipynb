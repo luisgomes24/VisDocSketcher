{
 "cells": [
  {
   "cell_type": "code",
   "execution_count": null,
   "id": "54c874c2",
   "metadata": {},
   "outputs": [],
   "source": [
    "!cp ../input/gdcm-conda-install/gdcm.tar .\n",
    "!tar -xvzf gdcm.tar\n",
    "!conda install --offline ./gdcm/gdcm-2.8.9-py37h71b2a6d_0.tar.bz2\n",
    "import gdcm\n",
    "import numpy as np\n",
    "import pandas as pd\n",
    "import matplotlib.pyplot as plt\n",
    "import seaborn as sns\n",
    "import os\n",
    "from pathlib import Path\n",
    "import glob\n",
    "from PIL import Image\n",
    "from joblib import Parallel, delayed\n",
    "from tqdm import tqdm\n",
    "import pydicom\n",
    "from pydicom.pixel_data_handlers.util import apply_voi_lut\n",
    "import tensorflow as tf\n",
    "import tensorflow_io as tfio"
   ]
  },
  {
   "cell_type": "code",
   "execution_count": null,
   "id": "f71c42ef",
   "metadata": {},
   "outputs": [],
   "source": [
    "fp = '../input/rsna-breast-cancer-detection/train_images/10006/462822612.dcm'"
   ]
  },
  {
   "cell_type": "markdown",
   "id": "22b157b4",
   "metadata": {},
   "source": [
    "# pydicom read pixel array"
   ]
  },
  {
   "cell_type": "code",
   "execution_count": null,
   "id": "2b42e7de",
   "metadata": {},
   "outputs": [],
   "source": [
    "%%time\n",
    "pydicom_img = pydicom.dcmread(fp).pixel_array\n",
    "pydicom_img.shape"
   ]
  },
  {
   "cell_type": "markdown",
   "id": "9c1d871d",
   "metadata": {},
   "source": [
    "# tfio read dicom"
   ]
  },
  {
   "cell_type": "code",
   "execution_count": null,
   "id": "62ae401b",
   "metadata": {},
   "outputs": [],
   "source": [
    "%%time\n",
    "image_bytes = tf.io.read_file(fp)\n",
    "tfio_image = 65535 - tfio.image.decode_dicom_image(image_bytes, scale='auto', dtype=tf.uint16).numpy().squeeze()\n",
    "tfio_image.shape"
   ]
  },
  {
   "cell_type": "markdown",
   "id": "1a90d6d0",
   "metadata": {},
   "source": [
    "# tfio read scaled to 255 (lossy on error) dicom"
   ]
  },
  {
   "cell_type": "code",
   "execution_count": null,
   "id": "284c10f7",
   "metadata": {},
   "outputs": [],
   "source": [
    "%%time\n",
    "image_bytes = tf.io.read_file(fp)\n",
    "tfio_lossy_image = 255 - tfio.image.decode_dicom_image(image_bytes, scale='auto', on_error='lossy', dtype=tf.uint8).numpy().squeeze()\n",
    "tfio_lossy_image.shape"
   ]
  },
  {
   "cell_type": "markdown",
   "id": "a2ee2354",
   "metadata": {},
   "source": [
    "# maximum values"
   ]
  },
  {
   "cell_type": "code",
   "execution_count": null,
   "id": "0d6a7676",
   "metadata": {},
   "outputs": [],
   "source": [
    "print (pydicom_img.max())\n",
    "print (tfio_image.max())\n",
    "print (tfio_lossy_image.max())"
   ]
  },
  {
   "cell_type": "code",
   "execution_count": null,
   "id": "2a6327ff",
   "metadata": {},
   "outputs": [],
   "source": [
    "%%time\n",
    "fig, axes = plt.subplots(1,3, figsize=(10,10))\n",
    "axes[0].imshow(pydicom_img, cmap='gray')\n",
    "axes[0].set_title('image')\n",
    "axes[1].imshow(tfio_image, cmap='gray')\n",
    "axes[1].set_title('tfio image');\n",
    "axes[2].imshow(tfio_lossy_image, cmap='gray')\n",
    "axes[2].set_title('tfio image scaled');"
   ]
  },
  {
   "cell_type": "markdown",
   "id": "efd7bb82",
   "metadata": {},
   "source": [
    "# Pydicom Read and Crop"
   ]
  },
  {
   "cell_type": "code",
   "execution_count": null,
   "id": "1096d19a",
   "metadata": {},
   "outputs": [],
   "source": [
    "%%time\n",
    "pydicom_img = pydicom.dcmread(fp).pixel_array\n",
    "pydicom_img = pydicom_img[:,pydicom_img.std(axis=0) > 60]\n",
    "pydicom_img = pydicom_img[pydicom_img.std(axis=1) > 60, :]\n",
    "pydicom_img.shape"
   ]
  },
  {
   "cell_type": "markdown",
   "id": "3ee4739c",
   "metadata": {},
   "source": [
    "# TFIO Read and Crop"
   ]
  },
  {
   "cell_type": "code",
   "execution_count": null,
   "id": "eb2f2295",
   "metadata": {},
   "outputs": [],
   "source": [
    "%%time\n",
    "image_bytes = tf.io.read_file(fp)\n",
    "tfio_image = 65535 - tfio.image.decode_dicom_image(image_bytes, scale='auto', dtype=tf.uint16).numpy().squeeze()\n",
    "tfio_image = tfio_image[:,tfio_image.std(axis=0) > 60]\n",
    "tfio_image = tfio_image[tfio_image.std(axis=1) > 60, :]\n",
    "tfio_image.shape"
   ]
  },
  {
   "cell_type": "markdown",
   "id": "9bf6cd73",
   "metadata": {},
   "source": [
    "# TFIO Scaled Read and Crop"
   ]
  },
  {
   "cell_type": "code",
   "execution_count": null,
   "id": "2017c8d3",
   "metadata": {},
   "outputs": [],
   "source": [
    "%%time\n",
    "image_bytes = tf.io.read_file(fp)\n",
    "tfio_lossy_image = 255 - tfio.image.decode_dicom_image(image_bytes, scale='auto', on_error='lossy', dtype=tf.uint8).numpy().squeeze()\n",
    "tfio_lossy_image = tfio_lossy_image[:,tfio_lossy_image.std(axis=0) > 0.5]\n",
    "tfio_lossy_image = tfio_lossy_image[tfio_lossy_image.std(axis=1) > 0.5, :]\n",
    "tfio_lossy_image.shape"
   ]
  },
  {
   "cell_type": "code",
   "execution_count": null,
   "id": "5547ce21",
   "metadata": {},
   "outputs": [],
   "source": [
    "%%time\n",
    "fig, axes = plt.subplots(1,3, figsize=(10,10))\n",
    "axes[0].imshow(pydicom_img, cmap='gray')\n",
    "axes[0].set_title('image')\n",
    "axes[1].imshow(tfio_image, cmap='gray')\n",
    "axes[1].set_title('tfio image');\n",
    "axes[2].imshow(tfio_lossy_image, cmap='gray')\n",
    "axes[2].set_title('tfio lossy image');"
   ]
  },
  {
   "cell_type": "code",
   "execution_count": null,
   "id": "c1b494ad",
   "metadata": {},
   "outputs": [],
   "source": [
    "nan"
   ]
  }
 ],
 "metadata": {},
 "nbformat": 4,
 "nbformat_minor": 5
}
