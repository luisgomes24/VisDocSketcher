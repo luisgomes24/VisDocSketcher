{
 "cells": [
  {
   "cell_type": "code",
   "execution_count": null,
   "id": "d4c1fa84",
   "metadata": {},
   "outputs": [],
   "source": [
    "import pandas as pd\n",
    "train=pd.read_csv('../input/smart-homes-temperature-time-series-forecasting/train.csv')\n",
    "train.head()"
   ]
  },
  {
   "cell_type": "code",
   "execution_count": null,
   "id": "70b1d9ab",
   "metadata": {},
   "outputs": [],
   "source": [
    "test=pd.read_csv('../input/smart-homes-temperature-time-series-forecasting/test.csv')\n",
    "test.head()"
   ]
  },
  {
   "cell_type": "code",
   "execution_count": null,
   "id": "3975d118",
   "metadata": {},
   "outputs": [],
   "source": [
    "!pip install flaml\n",
    "from sklearn.metrics import mean_absolute_percentage_error"
   ]
  },
  {
   "cell_type": "code",
   "execution_count": null,
   "id": "48be6aad",
   "metadata": {},
   "outputs": [],
   "source": [
    "train.nunique()"
   ]
  },
  {
   "cell_type": "code",
   "execution_count": null,
   "id": "b2f01030",
   "metadata": {},
   "outputs": [],
   "source": [
    "train.info()"
   ]
  },
  {
   "cell_type": "code",
   "execution_count": null,
   "id": "e646e8ea",
   "metadata": {},
   "outputs": [],
   "source": [
    "train=train.drop(['Id'],axis=1)\n",
    "train.head()"
   ]
  },
  {
   "cell_type": "code",
   "execution_count": null,
   "id": "31f364d7",
   "metadata": {},
   "outputs": [],
   "source": [
    "test=test.drop(['Id'],axis=1)\n",
    "test.head()"
   ]
  },
  {
   "cell_type": "code",
   "execution_count": null,
   "id": "8693975d",
   "metadata": {},
   "outputs": [],
   "source": [
    "train['Date']=train['Date'] + ' ' + train['Time']\n",
    "train['Date']=pd.to_datetime(train['Date'])\n",
    "train=train.drop(['Time'],axis=1)\n",
    "train.head()"
   ]
  },
  {
   "cell_type": "code",
   "execution_count": null,
   "id": "f0d52334",
   "metadata": {},
   "outputs": [],
   "source": [
    "test['Date']=test['Date'] + ' ' + test['Time']\n",
    "test['Date']=pd.to_datetime(test['Date'])\n",
    "test=test.drop(['Time'],axis=1)\n",
    "test.head()"
   ]
  },
  {
   "cell_type": "code",
   "execution_count": null,
   "id": "5fba8fd5",
   "metadata": {},
   "outputs": [],
   "source": [
    "!pip install fast_ml"
   ]
  },
  {
   "cell_type": "code",
   "execution_count": null,
   "id": "7bf3f9fc",
   "metadata": {},
   "outputs": [],
   "source": [
    "from fast_ml.feature_engineering import FeatureEngineering_DateTime\n",
    "dt_fe = FeatureEngineering_DateTime()\n",
    "dt_fe.fit(train, datetime_variables=['Date'])\n",
    "train = dt_fe.transform(train)\n",
    "train.head()"
   ]
  },
  {
   "cell_type": "code",
   "execution_count": null,
   "id": "c153ff80",
   "metadata": {},
   "outputs": [],
   "source": [
    "dt_fe.fit(test, datetime_variables=['Date'])\n",
    "test = dt_fe.transform(test)\n",
    "test.head()"
   ]
  },
  {
   "cell_type": "code",
   "execution_count": null,
   "id": "118c79ba",
   "metadata": {},
   "outputs": [],
   "source": [
    "nunique_train=train.nunique().reset_index()\n",
    "remove_col=nunique_train[(nunique_train[0]==len(train)) | (nunique_train[0]==0) | (nunique_train[0]==1) ]['index'].tolist()\n",
    "remove_col"
   ]
  },
  {
   "cell_type": "code",
   "execution_count": null,
   "id": "c6e7cf25",
   "metadata": {},
   "outputs": [],
   "source": [
    "train=train.drop(remove_col,axis=1)\n",
    "train.head()"
   ]
  },
  {
   "cell_type": "code",
   "execution_count": null,
   "id": "3a09af0f",
   "metadata": {},
   "outputs": [],
   "source": [
    "test=test.drop(remove_col,axis=1)\n",
    "test.head()"
   ]
  },
  {
   "cell_type": "code",
   "execution_count": null,
   "id": "128eeb07",
   "metadata": {},
   "outputs": [],
   "source": [
    "train['Date:is_weekend']=train['Date:is_weekend'].replace({0:False,1:True})\n",
    "pd.set_option('display.max_columns', None)\n",
    "train.head()"
   ]
  },
  {
   "cell_type": "code",
   "execution_count": null,
   "id": "9a7584eb",
   "metadata": {},
   "outputs": [],
   "source": [
    "test['Date:is_weekend']=test['Date:is_weekend'].replace({0:False,1:True})\n",
    "test.head()"
   ]
  },
  {
   "cell_type": "code",
   "execution_count": null,
   "id": "3d89302d",
   "metadata": {},
   "outputs": [],
   "source": [
    "train=train.drop(['Date:time'],axis=1)\n",
    "train.info()"
   ]
  },
  {
   "cell_type": "code",
   "execution_count": null,
   "id": "2ed5d220",
   "metadata": {},
   "outputs": [],
   "source": [
    "test=test.drop(['Date:time'],axis=1)\n",
    "test.info()"
   ]
  },
  {
   "cell_type": "code",
   "execution_count": null,
   "id": "f7356657",
   "metadata": {},
   "outputs": [],
   "source": [
    "import numpy as np\n",
    "train['Date:day_part'] = train['Date:day_part'].fillna(value=np.nan)\n",
    "train['Date:day_part'].unique()"
   ]
  },
  {
   "cell_type": "code",
   "execution_count": null,
   "id": "bad8a408",
   "metadata": {},
   "outputs": [],
   "source": [
    "test['Date:day_part'] = test['Date:day_part'].fillna(value=np.nan)\n",
    "test['Date:day_part'].unique()"
   ]
  },
  {
   "cell_type": "code",
   "execution_count": null,
   "id": "1a16c72b",
   "metadata": {},
   "outputs": [],
   "source": [
    "round(train.isnull().sum()*100/len(train),2).sort_values(ascending=False)[:5]"
   ]
  },
  {
   "cell_type": "code",
   "execution_count": null,
   "id": "11f8ff8b",
   "metadata": {},
   "outputs": [],
   "source": [
    "round(test.isnull().sum()*100/len(test),2).sort_values(ascending=False)[:5]"
   ]
  },
  {
   "cell_type": "code",
   "execution_count": null,
   "id": "1eec3346",
   "metadata": {},
   "outputs": [],
   "source": [
    "train[train.isna().any(axis=1)].head()"
   ]
  },
  {
   "cell_type": "code",
   "execution_count": null,
   "id": "77b2d67e",
   "metadata": {},
   "outputs": [],
   "source": [
    "test[test.isna().any(axis=1)].head()"
   ]
  },
  {
   "cell_type": "code",
   "execution_count": null,
   "id": "7e5c28d3",
   "metadata": {},
   "outputs": [],
   "source": [
    "train['Date:day_part'] = train['Date:day_part'].fillna(value='midnight')\n",
    "round(train.isnull().sum()*100/len(train),2).sort_values(ascending=False)[:5]"
   ]
  },
  {
   "cell_type": "code",
   "execution_count": null,
   "id": "950f26c2",
   "metadata": {},
   "outputs": [],
   "source": [
    "test['Date:day_part'] = test['Date:day_part'].fillna(value='midnight')\n",
    "round(test.isnull().sum()*100/len(test),2).sort_values(ascending=False)[:5]"
   ]
  },
  {
   "cell_type": "code",
   "execution_count": null,
   "id": "fa097f02",
   "metadata": {},
   "outputs": [],
   "source": [
    "train['Date:day_part']=train['Date:day_part'].replace({'midnight':0, 'dawn':1, 'early morning':2, \n",
    "                                                               'late morning':3, 'noon':4, 'afternoon':5,\n",
    "                                                               'evening':6, 'night':7})\n",
    "      \n",
    "train['Date:day_part'].value_counts()"
   ]
  },
  {
   "cell_type": "code",
   "execution_count": null,
   "id": "9f1d7ba8",
   "metadata": {},
   "outputs": [],
   "source": [
    "test['Date:day_part']=test['Date:day_part'].replace({'midnight':0, 'dawn':1, 'early morning':2, \n",
    "                                                               'late morning':3, 'noon':4, 'afternoon':5,\n",
    "                                                               'evening':6, 'night':7})\n",
    "      \n",
    "test['Date:day_part'].value_counts()"
   ]
  },
  {
   "cell_type": "code",
   "execution_count": null,
   "id": "82586910",
   "metadata": {},
   "outputs": [],
   "source": [
    "def reduce_mem_usage(props):\n",
    "    start_mem_usg = props.memory_usage().sum() / 1024**2 \n",
    "    print(\"Memory usage of properties dataframe is :\",start_mem_usg,\" MB\")\n",
    "    NAlist = [] # Keeps track of columns that have missing values filled in. \n",
    "    for col in props.columns:\n",
    "        if props[col].dtype != object:  # Exclude strings\n",
    "            \n",
    "            # Print current column type\n",
    "            print(\"******************************\")\n",
    "            print(\"Column: \",col)\n",
    "            print(\"dtype before: \",props[col].dtype)\n",
    "            \n",
    "            # make variables for Int, max and min\n",
    "            IsInt = False\n",
    "            mx = props[col].max()\n",
    "            mn = props[col].min()\n",
    "            \n",
    "            # Integer does not support NA, therefore, NA needs to be filled\n",
    "            if not np.isfinite(props[col]).all(): \n",
    "                NAlist.append(col)\n",
    "                props[col].fillna(mn-1,inplace=True)  \n",
    "                   \n",
    "            # test if column can be converted to an integer\n",
    "            asint = props[col].fillna(0).astype(np.int64)\n",
    "            result = (props[col] - asint)\n",
    "            result = result.sum()\n",
    "            if result > -0.01 and result < 0.01:\n",
    "                IsInt = True\n",
    "\n",
    "            \n",
    "            # Make Integer/unsigned Integer datatypes\n",
    "            if IsInt:\n",
    "                if mn >= 0:\n",
    "                    if mx < 255:\n",
    "                        props[col] = props[col].astype(np.uint8)\n",
    "                    elif mx < 65535:\n",
    "                        props[col] = props[col].astype(np.uint16)\n",
    "                    elif mx < 4294967295:\n",
    "                        props[col] = props[col].astype(np.uint32)\n",
    "                    else:\n",
    "                        props[col] = props[col].astype(np.uint64)\n",
    "                else:\n",
    "                    if mn > np.iinfo(np.int8).min and mx < np.iinfo(np.int8).max:\n",
    "                        props[col] = props[col].astype(np.int8)\n",
    "                    elif mn > np.iinfo(np.int16).min and mx < np.iinfo(np.int16).max:\n",
    "                        props[col] = props[col].astype(np.int16)\n",
    "                    elif mn > np.iinfo(np.int32).min and mx < np.iinfo(np.int32).max:\n",
    "                        props[col] = props[col].astype(np.int32)\n",
    "                    elif mn > np.iinfo(np.int64).min and mx < np.iinfo(np.int64).max:\n",
    "                        props[col] = props[col].astype(np.int64)    \n",
    "            \n",
    "            # Make float datatypes 32 bit\n",
    "            else:\n",
    "                props[col] = props[col].astype(np.float32)\n",
    "            \n",
    "            # Print new column type\n",
    "            print(\"dtype after: \",props[col].dtype)\n",
    "            print(\"******************************\")\n",
    "    \n",
    "    # Print final result\n",
    "    print(\"___MEMORY USAGE AFTER COMPLETION:___\")\n",
    "    mem_usg = props.memory_usage().sum() / 1024**2 \n",
    "    print(\"Memory usage is: \",mem_usg,\" MB\")\n",
    "    print(\"This is \",100*mem_usg/start_mem_usg,\"% of the initial size\")\n",
    "    return props, NAlist\n"
   ]
  },
  {
   "cell_type": "code",
   "execution_count": null,
   "id": "a2111981",
   "metadata": {},
   "outputs": [],
   "source": [
    "train, NAlist = reduce_mem_usage(train)\n",
    "print(\"_________________\")\n",
    "print(\"\")\n",
    "print(\"Warning: the following columns have missing values filled with 'df['column_name'].min() -1': \")\n",
    "print(\"_________________\")\n",
    "print(\"\")\n",
    "print(NAlist)"
   ]
  },
  {
   "cell_type": "code",
   "execution_count": null,
   "id": "be231803",
   "metadata": {},
   "outputs": [],
   "source": [
    "test, NAlist = reduce_mem_usage(test)\n",
    "print(\"_________________\")\n",
    "print(\"\")\n",
    "print(\"Warning: the following columns have missing values filled with 'df['column_name'].min() -1': \")\n",
    "print(\"_________________\")\n",
    "print(\"\")\n",
    "print(NAlist)"
   ]
  },
  {
   "cell_type": "code",
   "execution_count": null,
   "id": "3176ea4c",
   "metadata": {},
   "outputs": [],
   "source": [
    "import re\n",
    "train = train.rename(columns = lambda x:re.sub('[^A-Za-z0-9_]+', '', x))\n",
    "train.head()"
   ]
  },
  {
   "cell_type": "code",
   "execution_count": null,
   "id": "1402fa82",
   "metadata": {},
   "outputs": [],
   "source": [
    "test = test.rename(columns = lambda x:re.sub('[^A-Za-z0-9_]+', '', x))\n",
    "test.head()"
   ]
  },
  {
   "cell_type": "code",
   "execution_count": null,
   "id": "86e1cea4",
   "metadata": {},
   "outputs": [],
   "source": [
    "y = train.pop('Indoor_temperature_room')\n",
    "X = train"
   ]
  },
  {
   "cell_type": "code",
   "execution_count": null,
   "id": "e8af24fd",
   "metadata": {},
   "outputs": [],
   "source": [
    "from sklearn.model_selection import train_test_split\n",
    "X_train, X_test, y_train, y_test = train_test_split( X, y, test_size=0.2, random_state=42)"
   ]
  },
  {
   "cell_type": "code",
   "execution_count": null,
   "id": "043ae0fe",
   "metadata": {},
   "outputs": [],
   "source": [
    "from flaml import AutoML\n",
    "automl = AutoML()"
   ]
  },
  {
   "cell_type": "code",
   "execution_count": null,
   "id": "2b49bc0e",
   "metadata": {},
   "outputs": [],
   "source": [
    "automl.fit(X_train, y_train, task=\"regression\",metric='mae',time_budget=600)"
   ]
  },
  {
   "cell_type": "code",
   "execution_count": null,
   "id": "33cea028",
   "metadata": {},
   "outputs": [],
   "source": [
    "from flaml.ml import sklearn_metric_loss_score\n",
    "print('train mae', '=', sklearn_metric_loss_score('mae', automl.predict(X_train), y_train))\n",
    "print(' test mae', '=', sklearn_metric_loss_score('mae', automl.predict(X_test), y_test))"
   ]
  },
  {
   "cell_type": "code",
   "execution_count": null,
   "id": "4ade56ea",
   "metadata": {},
   "outputs": [],
   "source": [
    "y_pred = automl.predict(test)\n",
    "y_pred[:5]"
   ]
  },
  {
   "cell_type": "code",
   "execution_count": null,
   "id": "72455764",
   "metadata": {},
   "outputs": [],
   "source": [
    "df = pd.DataFrame(y_pred,columns=['Indoor_temperature_room'])\n",
    "df.head()"
   ]
  },
  {
   "cell_type": "code",
   "execution_count": null,
   "id": "f3a27c30",
   "metadata": {},
   "outputs": [],
   "source": [
    "sol=pd.read_csv('../input/smart-homes-temperature-time-series-forecasting/sample_submission.csv')\n",
    "sol.head()"
   ]
  },
  {
   "cell_type": "code",
   "execution_count": null,
   "id": "4afa0d9e",
   "metadata": {},
   "outputs": [],
   "source": [
    "sol['Indoor_temperature_room']=df['Indoor_temperature_room']\n",
    "sol.head()"
   ]
  },
  {
   "cell_type": "code",
   "execution_count": null,
   "id": "9b4cebe7",
   "metadata": {},
   "outputs": [],
   "source": [
    "sol.to_csv('./mae.csv',index=False)"
   ]
  }
 ],
 "metadata": {},
 "nbformat": 4,
 "nbformat_minor": 5
}
