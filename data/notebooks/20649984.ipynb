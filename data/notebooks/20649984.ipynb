{
 "cells": [
  {
   "cell_type": "code",
   "execution_count": null,
   "id": "99876a03",
   "metadata": {},
   "outputs": [],
   "source": [
    "import torch\n",
    "\n",
    "import torchvision\n",
    "\n",
    "import pickle"
   ]
  },
  {
   "cell_type": "code",
   "execution_count": null,
   "id": "fa4ef0cf",
   "metadata": {},
   "outputs": [],
   "source": [
    "PATH = \"../input/pytorch-model-cpu/model_pytorch_cpu.pth\""
   ]
  },
  {
   "cell_type": "code",
   "execution_count": null,
   "id": "02d3b5e0",
   "metadata": {},
   "outputs": [],
   "source": [
    "pytorch_model = torch.load(PATH)"
   ]
  },
  {
   "cell_type": "code",
   "execution_count": null,
   "id": "99c24a2c",
   "metadata": {},
   "outputs": [],
   "source": [
    "path_to_image = \"../input/dataset/data/test/1355932/054fcbe075ba5934004e3d0e25d8fd54cbae76f5.jpg\""
   ]
  },
  {
   "cell_type": "code",
   "execution_count": null,
   "id": "026f0cc7",
   "metadata": {},
   "outputs": [],
   "source": [
    "image = torchvision.io.read_image(path_to_image) \n",
    "image = torchvision.transforms.functional.resize(image, size = (300,300)) "
   ]
  },
  {
   "cell_type": "code",
   "execution_count": null,
   "id": "a1a7ddd0",
   "metadata": {},
   "outputs": [],
   "source": [
    "image = image.type(torch.float)"
   ]
  },
  {
   "cell_type": "code",
   "execution_count": null,
   "id": "3ae636ae",
   "metadata": {},
   "outputs": [],
   "source": [
    "pytorch_model.eval()\n",
    "\n",
    "prediction = pytorch_model.forward(image.unsqueeze(1).permute(1,0,2,3))"
   ]
  },
  {
   "cell_type": "code",
   "execution_count": null,
   "id": "3664b0bc",
   "metadata": {},
   "outputs": [],
   "source": [
    "prediction"
   ]
  },
  {
   "cell_type": "code",
   "execution_count": null,
   "id": "1a55c650",
   "metadata": {},
   "outputs": [],
   "source": [
    "prediction.argmax()"
   ]
  },
  {
   "cell_type": "code",
   "execution_count": null,
   "id": "0b7732ae",
   "metadata": {},
   "outputs": [],
   "source": [
    "outfile = \"export.pkl\"\n",
    "\n",
    "with open(outfile, 'wb') as pickle_file:\n",
    "    pickle.dump(pytorch_model, pickle_file)\n"
   ]
  }
 ],
 "metadata": {},
 "nbformat": 4,
 "nbformat_minor": 5
}
