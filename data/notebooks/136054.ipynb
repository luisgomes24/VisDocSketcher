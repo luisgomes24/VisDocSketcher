{
 "cells": [
  {
   "cell_type": "code",
   "execution_count": null,
   "id": "76d707e4",
   "metadata": {},
   "outputs": [],
   "source": [
    "# This Python 3 environment comes with many helpful analytics libraries installed\n",
    "# It is defined by the kaggle/python docker image: https://github.com/kaggle/docker-python\n",
    "# For example, here's several helpful packages to load in \n",
    "\n",
    "import numpy as np # linear algebra\n",
    "import pandas as pd # data processing, CSV file I/O (e.g. pd.read_csv)\n",
    "\n",
    "# Input data files are available in the \"../input/\" directory.\n",
    "# For example, running this (by clicking run or pressing Shift+Enter) will list the files in the input directory\n",
    "\n",
    "from subprocess import check_output\n",
    "print(check_output([\"ls\", \"../input\"]).decode(\"utf8\"))\n",
    "\n",
    "# Any results you write to the current directory are saved as output."
   ]
  },
  {
   "cell_type": "code",
   "execution_count": null,
   "id": "16527c26",
   "metadata": {},
   "outputs": [],
   "source": [
    "import pandas as pd\n",
    "import seaborn as sns\n",
    "import numpy as np\n",
    "import matplotlib.pyplot as plt\n",
    "\n",
    "train = pd.read_csv(\"../input/train.csv\")\n",
    "test = pd.read_csv(\"../input/test.csv\")\n",
    "\n",
    "\n",
    "train.head()"
   ]
  },
  {
   "cell_type": "code",
   "execution_count": null,
   "id": "6aae38d0",
   "metadata": {},
   "outputs": [],
   "source": [
    "sns.heatmap(train.isnull(), )"
   ]
  },
  {
   "cell_type": "code",
   "execution_count": null,
   "id": "888317b1",
   "metadata": {},
   "outputs": [],
   "source": [
    "sns.countplot(x = \"Survived\", data= train) "
   ]
  },
  {
   "cell_type": "code",
   "execution_count": null,
   "id": "15aaa9eb",
   "metadata": {},
   "outputs": [],
   "source": [
    "sns.countplot(x = \"Survived\", hue=\"Sex\", data= train)"
   ]
  },
  {
   "cell_type": "code",
   "execution_count": null,
   "id": "16bc8481",
   "metadata": {},
   "outputs": [],
   "source": [
    "sns.countplot(x= \"Survived\", hue=\"Sex\", data=train[train[\"Age\"] < 16])"
   ]
  },
  {
   "cell_type": "code",
   "execution_count": null,
   "id": "d947d2be",
   "metadata": {},
   "outputs": [],
   "source": [
    "sns.distplot(train[\"Fare\"])"
   ]
  },
  {
   "cell_type": "code",
   "execution_count": null,
   "id": "4ab748d8",
   "metadata": {},
   "outputs": [],
   "source": [
    "sns.countplot(x=\"Survived\", hue=\"Pclass\", data=train)"
   ]
  },
  {
   "cell_type": "code",
   "execution_count": null,
   "id": "0454a008",
   "metadata": {},
   "outputs": [],
   "source": [
    "sns.distplot(train[\"Age\"].dropna(), bins = 50)"
   ]
  },
  {
   "cell_type": "code",
   "execution_count": null,
   "id": "f1892ec0",
   "metadata": {},
   "outputs": [],
   "source": [
    "sns.boxplot(x=\"Pclass\", y=\"Age\", data=train)"
   ]
  },
  {
   "cell_type": "code",
   "execution_count": null,
   "id": "e0261f88",
   "metadata": {},
   "outputs": [],
   "source": [
    "train[train[\"Pclass\"] == 1][\"Age\"].median()"
   ]
  },
  {
   "cell_type": "code",
   "execution_count": null,
   "id": "ffb0d187",
   "metadata": {},
   "outputs": [],
   "source": [
    "train[train[\"Pclass\"] == 2][\"Age\"].median()"
   ]
  },
  {
   "cell_type": "code",
   "execution_count": null,
   "id": "6e7329a9",
   "metadata": {},
   "outputs": [],
   "source": [
    "train[train[\"Pclass\"] == 3][\"Age\"].median()"
   ]
  },
  {
   "cell_type": "code",
   "execution_count": null,
   "id": "614ff9dc",
   "metadata": {},
   "outputs": [],
   "source": [
    "def replace_age(row):\n",
    "    Age = row[0]\n",
    "    Pclass = row[1]\n",
    "    \n",
    "    if pd.isnull(Age):\n",
    "        if Pclass == 1:\n",
    "            return 37\n",
    "        if Pclass == 2:\n",
    "            return 29\n",
    "        if Pclass == 3:\n",
    "            return 24\n",
    "    else:\n",
    "        return Age\n",
    "        "
   ]
  },
  {
   "cell_type": "code",
   "execution_count": null,
   "id": "cc820bf6",
   "metadata": {},
   "outputs": [],
   "source": [
    "train[\"Age\"] = train[[\"Age\", \"Pclass\"]].apply(replace_age, axis = 1)"
   ]
  },
  {
   "cell_type": "code",
   "execution_count": null,
   "id": "7a9f9fa6",
   "metadata": {},
   "outputs": [],
   "source": [
    "train = train.drop(\"Cabin\", axis=1)"
   ]
  },
  {
   "cell_type": "code",
   "execution_count": null,
   "id": "475eda40",
   "metadata": {},
   "outputs": [],
   "source": [
    "train.drop([\"Name\", \"Ticket\"], axis=1, inplace=True)"
   ]
  },
  {
   "cell_type": "code",
   "execution_count": null,
   "id": "54b43231",
   "metadata": {},
   "outputs": [],
   "source": [
    "from sklearn.ensemble import RandomForestClassifier"
   ]
  },
  {
   "cell_type": "code",
   "execution_count": null,
   "id": "545c1a5f",
   "metadata": {},
   "outputs": [],
   "source": [
    "train[\"Embarked\"] = train[\"Embarked\"].dropna()"
   ]
  },
  {
   "cell_type": "code",
   "execution_count": null,
   "id": "fd67b11a",
   "metadata": {},
   "outputs": [],
   "source": [
    "test[\"Age\"] = test[[\"Age\", \"Pclass\"]].apply(replace_age, axis = 1)"
   ]
  },
  {
   "cell_type": "code",
   "execution_count": null,
   "id": "ef375a04",
   "metadata": {},
   "outputs": [],
   "source": [
    "test[\"Fare\"] = test[\"Fare\"].fillna(test[\"Fare\"].median())\n",
    "test = test.drop(\"Cabin\", axis=1)\n",
    "test.drop([\"Name\", \"Ticket\"], axis=1, inplace=True)"
   ]
  },
  {
   "cell_type": "code",
   "execution_count": null,
   "id": "27b30722",
   "metadata": {},
   "outputs": [],
   "source": [
    "test.head()"
   ]
  },
  {
   "cell_type": "code",
   "execution_count": null,
   "id": "9a1f01ca",
   "metadata": {},
   "outputs": [],
   "source": [
    "train.head()"
   ]
  },
  {
   "cell_type": "code",
   "execution_count": null,
   "id": "4504d86e",
   "metadata": {},
   "outputs": [],
   "source": [
    "train.head(2)"
   ]
  },
  {
   "cell_type": "code",
   "execution_count": null,
   "id": "3e96c32e",
   "metadata": {},
   "outputs": [],
   "source": [
    "emark = pd.get_dummies(train[\"Embarked\"], drop_first=True)\n",
    "sex = pd.get_dummies(train[\"Sex\"], drop_first=True)\n",
    "train = pd.concat([train, emark, sex], axis = 1)\n",
    "train.drop([\"Sex\", \"Embarked\"], axis = 1, inplace=True)\n",
    "\n",
    "emark = pd.get_dummies(test[\"Embarked\"], drop_first=True)\n",
    "sex = pd.get_dummies(test[\"Sex\"], drop_first=True)\n",
    "test = pd.concat([test, emark, sex], axis = 1)\n",
    "test.drop([\"Sex\", \"Embarked\"], axis = 1, inplace=True)\n"
   ]
  },
  {
   "cell_type": "code",
   "execution_count": null,
   "id": "a567dfb2",
   "metadata": {},
   "outputs": [],
   "source": [
    "x_train = train.drop(\"Survived\", axis=1)"
   ]
  },
  {
   "cell_type": "code",
   "execution_count": null,
   "id": "f9e5170f",
   "metadata": {},
   "outputs": [],
   "source": [
    "y_train = train[\"Survived\"]"
   ]
  },
  {
   "cell_type": "code",
   "execution_count": null,
   "id": "25783870",
   "metadata": {},
   "outputs": [],
   "source": [
    "rf = RandomForestClassifier()\n",
    "rf.fit(x_train, y_train)"
   ]
  },
  {
   "cell_type": "code",
   "execution_count": null,
   "id": "3eac320c",
   "metadata": {},
   "outputs": [],
   "source": [
    "prediction = rf.predict(test)"
   ]
  },
  {
   "cell_type": "code",
   "execution_count": null,
   "id": "7f75827d",
   "metadata": {},
   "outputs": [],
   "source": [
    "output = pd.DataFrame({\"PassengerId\": test[\"PassengerId\"], \"Survived\": prediction})"
   ]
  },
  {
   "cell_type": "code",
   "execution_count": null,
   "id": "e7d9c66b",
   "metadata": {},
   "outputs": [],
   "source": [
    "output.to_csv(\"titanic.csv\", index=False)"
   ]
  }
 ],
 "metadata": {},
 "nbformat": 4,
 "nbformat_minor": 5
}
