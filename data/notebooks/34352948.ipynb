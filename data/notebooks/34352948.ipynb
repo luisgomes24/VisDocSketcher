{
 "cells": [
  {
   "cell_type": "code",
   "execution_count": null,
   "id": "ea3b05c6",
   "metadata": {},
   "outputs": [],
   "source": [
    "# This Python 3 environment comes with many helpful analytics libraries installed\n",
    "# It is defined by the kaggle/python Docker image: https://github.com/kaggle/docker-python\n",
    "# For example, here's several helpful packages to load\n",
    "import os\n",
    "import numpy as np # linear algebra\n",
    "import pandas as pd # data processing, CSV file I/O (e.g. pd.read_csv)\n",
    "import tensorflow as tf\n",
    "import cv2\n",
    "from PIL import Image\n",
    "import matplotlib.pyplot as plt\n",
    "import matplotlib.image as mpimg\n",
    "import tensorflow.keras.layers as tfl\n",
    "from tensorflow.keras.layers.experimental.preprocessing import RandomFlip, RandomRotation\n",
    "# Input data files are available in the read-only \"../input/\" directory\n",
    "# For example, running this (by clicking run or pressing Shift+Enter) will list all files under the input directory\n",
    "\n",
    "# for dirname, _, filenames in os.walk('/kaggle/input'):\n",
    "#     for filename in filenames:\n",
    "#         print(os.path.join(dirname, filename))\n",
    "\n",
    "# You can write up to 20GB to the current directory (/kaggle/working/) that gets preserved as output when you create a version using \"Save & Run All\" \n",
    "# You can also write temporary files to /kaggle/temp/, but they won't be saved outside of the current session"
   ]
  },
  {
   "cell_type": "code",
   "execution_count": null,
   "id": "09ca39c4",
   "metadata": {},
   "outputs": [],
   "source": [
    "base_dir = '/kaggle/input/brain-mri-images-for-brain-tumor-detection/brain_tumor_dataset'\n",
    "yes_dir = os.path.join(base_dir, 'yes')\n",
    "no_dir = os.path.join(base_dir, 'no')\n",
    "\n",
    "print('total have tumor images:', len(os.listdir(yes_dir)))\n",
    "print('total no tumor images:', len(os.listdir(no_dir)))"
   ]
  },
  {
   "cell_type": "code",
   "execution_count": null,
   "id": "a49551de",
   "metadata": {},
   "outputs": [],
   "source": [
    "yes_files = os.listdir(yes_dir)\n",
    "print(yes_files[:10])\n",
    "\n",
    "no_files = os.listdir(no_dir)\n",
    "print(no_files[:10])"
   ]
  },
  {
   "cell_type": "code",
   "execution_count": null,
   "id": "ebce706e",
   "metadata": {},
   "outputs": [],
   "source": [
    "%matplotlib inline\n",
    "\n",
    "pic_index = 2\n",
    "\n",
    "next_yes = [os.path.join(yes_dir, fname) \n",
    "                for fname in yes_files[pic_index-2:pic_index]]\n",
    "next_no = [os.path.join(no_dir, fname) \n",
    "                for fname in no_files[pic_index-2:pic_index]]\n",
    "\n",
    "\n",
    "for i, img_path in enumerate(next_yes+next_no):\n",
    "  img = mpimg.imread(img_path)\n",
    "  plt.imshow(img)\n",
    "  plt.axis('Off')\n",
    "  plt.show()"
   ]
  },
  {
   "cell_type": "code",
   "execution_count": null,
   "id": "99092e02",
   "metadata": {},
   "outputs": [],
   "source": [
    "dataset=[]\n",
    "target=[]\n",
    "for image_name in yes_files:\n",
    "    image=cv2.imread(yes_dir + '/' +image_name)\n",
    "    image=Image.fromarray(image)\n",
    "    image=image.resize((64,64))\n",
    "    dataset.append(np.array(image))\n",
    "    target.append(1)\n",
    "    \n",
    "for image_name in no_files:\n",
    "    image=cv2.imread(no_dir + '/' + image_name)\n",
    "    image=Image.fromarray(image)\n",
    "    image=image.resize((64,64))\n",
    "    dataset.append(np.array(image))\n",
    "    target.append(0)"
   ]
  },
  {
   "cell_type": "code",
   "execution_count": null,
   "id": "d8b19a63",
   "metadata": {},
   "outputs": [],
   "source": [
    "data = np.array(dataset)\n",
    "target = np.array(target)"
   ]
  },
  {
   "cell_type": "code",
   "execution_count": null,
   "id": "b6ac1b08",
   "metadata": {},
   "outputs": [],
   "source": [
    "from sklearn.model_selection import train_test_split\n",
    "X_train,X_test,Y_train,Y_test=train_test_split(data,target,test_size=0.05,random_state=True) "
   ]
  },
  {
   "cell_type": "code",
   "execution_count": null,
   "id": "4ed1da3e",
   "metadata": {},
   "outputs": [],
   "source": [
    "def data_augmenter():\n",
    "    '''\n",
    "    Create a Sequential model composed of 2 layers\n",
    "    Returns:\n",
    "        tf.keras.Sequential\n",
    "    '''\n",
    "    ### START CODE HERE\n",
    "    data_augmentation = tf.keras.Sequential()\n",
    "    data_augmentation.add(RandomFlip(\"horizontal\"))\n",
    "    data_augmentation.add(RandomRotation(0.2))\n",
    "    ### END CODE HERE\n",
    "    \n",
    "    return data_augmentation\n",
    "\n",
    "def preprocess_data(X):\n",
    "    X_p = tf.keras.applications.resnet50.preprocess_input(X)\n",
    "    return X_p"
   ]
  },
  {
   "cell_type": "code",
   "execution_count": null,
   "id": "db9c1701",
   "metadata": {},
   "outputs": [],
   "source": [
    "\n",
    "def resnet_model(X, augmentation=data_augmenter()):\n",
    "    '''\n",
    "    classification model\n",
    "    '''\n",
    "    \n",
    "#     input_shape = X[0].shape\n",
    "    \n",
    "    model = tf.keras.applications.ResNet50(include_top=False, weights='imagenet', input_shape=X[0].shape)\n",
    "    \n",
    "    model.trainable = False\n",
    "    \n",
    "    inputs = tf.keras.Input(shape=X[0].shape)\n",
    "    \n",
    "    x = augmentation(inputs)\n",
    "    \n",
    "    x = preprocess_data(x)\n",
    "    \n",
    "    x = model(x, training= False)\n",
    "    \n",
    "    x = tfl.GlobalAveragePooling2D()(x) \n",
    "    #include dropout with probability of 0.2 to avoid overfitting\n",
    "    x = tfl.Dropout(0.4)(x)\n",
    "        \n",
    "    # create a prediction layer with one neuron (as a classifier only needs one)\n",
    "    prediction_layer = tfl.Dense(1)\n",
    "    \n",
    "    outputs = prediction_layer(x) \n",
    "    mod = tf.keras.Model(inputs, outputs)\n",
    "    \n",
    "    return mod\n",
    "    \n",
    "    \n",
    "    "
   ]
  },
  {
   "cell_type": "code",
   "execution_count": null,
   "id": "b8c37b36",
   "metadata": {},
   "outputs": [],
   "source": [
    "resNet = resnet_model(X_train, augmentation=data_augmenter())"
   ]
  },
  {
   "cell_type": "code",
   "execution_count": null,
   "id": "ccd4a53c",
   "metadata": {},
   "outputs": [],
   "source": [
    "resNet.summary()"
   ]
  },
  {
   "cell_type": "code",
   "execution_count": null,
   "id": "7cf10dbb",
   "metadata": {},
   "outputs": [],
   "source": [
    "base_learning_rate = 0.0001\n",
    "resNet.compile(optimizer=tf.keras.optimizers.Adam(learning_rate=base_learning_rate),\n",
    "              loss=tf.keras.losses.BinaryCrossentropy(from_logits=True),\n",
    "              metrics=['accuracy'])"
   ]
  },
  {
   "cell_type": "code",
   "execution_count": null,
   "id": "08da0ffd",
   "metadata": {},
   "outputs": [],
   "source": [
    "initial_epochs = 50\n",
    "history = resNet.fit(X_train,Y_train, validation_data=(X_test,Y_test), epochs=initial_epochs)"
   ]
  },
  {
   "cell_type": "code",
   "execution_count": null,
   "id": "5896322f",
   "metadata": {},
   "outputs": [],
   "source": [
    "acc = [0.] + history.history['accuracy']\n",
    "val_acc = [0.] + history.history['val_accuracy']\n",
    "\n",
    "loss = history.history['loss']\n",
    "val_loss = history.history['val_loss']\n",
    "\n",
    "plt.figure(figsize=(8, 8))\n",
    "plt.subplot(2, 1, 1)\n",
    "plt.plot(acc, label='Training Accuracy')\n",
    "plt.plot(val_acc, label='Validation Accuracy')\n",
    "plt.legend(loc='lower right')\n",
    "plt.ylabel('Accuracy')\n",
    "plt.ylim([min(plt.ylim()),1])\n",
    "plt.title('Training and Validation Accuracy')\n",
    "\n",
    "plt.subplot(2, 1, 2)\n",
    "plt.plot(loss, label='Training Loss')\n",
    "plt.plot(val_loss, label='Validation Loss')\n",
    "plt.legend(loc='upper right')\n",
    "plt.ylabel('Cross Entropy')\n",
    "plt.ylim([0,1.0])\n",
    "plt.title('Training and Validation Loss')\n",
    "plt.xlabel('epoch')\n",
    "plt.show()"
   ]
  },
  {
   "cell_type": "code",
   "execution_count": null,
   "id": "a9093481",
   "metadata": {},
   "outputs": [],
   "source": [
    "\n",
    "def resnet_model_2(X, augmentation=data_augmenter()):\n",
    "    '''\n",
    "    classification model\n",
    "    '''\n",
    "    \n",
    "#     input_shape = X[0].shape\n",
    "    \n",
    "    model_2 = tf.keras.applications.ResNet50(include_top=False, weights='imagenet', input_shape=X[0].shape)\n",
    "    \n",
    "    # Fine-tune from this layer onwards\n",
    "    fine_tune_at = 165\n",
    "\n",
    "\n",
    "    # Freeze all the layers before the `fine_tune_at` layer\n",
    "    for layer in model_2.layers[:fine_tune_at]:\n",
    "        #print('Layer ' + layer.name + ' frozen.')\n",
    "        layer.trainable = False\n",
    "    \n",
    "    inputs = tf.keras.Input(shape=X[0].shape)\n",
    "    \n",
    "    x = augmentation(inputs)\n",
    "    \n",
    "    x = preprocess_data(x)\n",
    "    \n",
    "    x = model_2(x)\n",
    "    \n",
    "    x = tfl.GlobalAveragePooling2D()(x) \n",
    "    #include dropout with probability of 0.2 to avoid overfitting\n",
    "    x = tfl.Dropout(0.6)(x)\n",
    "        \n",
    "    # create a prediction layer with one neuron (as a classifier only needs one)\n",
    "    prediction_layer = tfl.Dense(1,activation=\"sigmoid\")\n",
    "    \n",
    "    outputs = prediction_layer(x) \n",
    "    mod_2 = tf.keras.Model(inputs, outputs)\n",
    "    \n",
    "    return mod_2"
   ]
  },
  {
   "cell_type": "code",
   "execution_count": null,
   "id": "96ef3728",
   "metadata": {},
   "outputs": [],
   "source": [
    "resNet_2 = resnet_model_2(X_train, augmentation=data_augmenter())"
   ]
  },
  {
   "cell_type": "code",
   "execution_count": null,
   "id": "7b90bedf",
   "metadata": {},
   "outputs": [],
   "source": [
    "resNet_2.summary()"
   ]
  },
  {
   "cell_type": "code",
   "execution_count": null,
   "id": "35534da1",
   "metadata": {},
   "outputs": [],
   "source": [
    "resNet_2.compile(optimizer=tf.keras.optimizers.Adam(learning_rate=0.0001),\n",
    "              loss=tf.keras.losses.BinaryCrossentropy(from_logits=True),\n",
    "              metrics=['accuracy'])"
   ]
  },
  {
   "cell_type": "code",
   "execution_count": null,
   "id": "a220e1ef",
   "metadata": {},
   "outputs": [],
   "source": [
    "initial_epochs = 50\n",
    "history_2 = resNet_2.fit(X_train,Y_train, validation_data=(X_test,Y_test), epochs=initial_epochs)"
   ]
  },
  {
   "cell_type": "code",
   "execution_count": null,
   "id": "48260ea0",
   "metadata": {},
   "outputs": [],
   "source": [
    "acc = [0.] + history_2.history['accuracy']\n",
    "val_acc = [0.] + history_2.history['val_accuracy']\n",
    "\n",
    "loss = history_2.history['loss']\n",
    "val_loss = history_2.history['val_loss']\n",
    "\n",
    "plt.figure(figsize=(8, 8))\n",
    "plt.subplot(2, 1, 1)\n",
    "plt.plot(acc, label='Training Accuracy')\n",
    "plt.plot(val_acc, label='Validation Accuracy')\n",
    "plt.legend(loc='lower right')\n",
    "plt.ylabel('Accuracy')\n",
    "plt.ylim([min(plt.ylim()),1])\n",
    "plt.title('Training and Validation Accuracy')\n",
    "\n",
    "plt.subplot(2, 1, 2)\n",
    "plt.plot(loss, label='Training Loss')\n",
    "plt.plot(val_loss, label='Validation Loss')\n",
    "plt.legend(loc='upper right')\n",
    "plt.ylabel('Cross Entropy')\n",
    "plt.ylim([0,1.0])\n",
    "plt.title('Training and Validation Loss')\n",
    "plt.xlabel('epoch')\n",
    "plt.show()"
   ]
  },
  {
   "cell_type": "code",
   "execution_count": null,
   "id": "7cd8c681",
   "metadata": {},
   "outputs": [],
   "source": [
    "nan"
   ]
  }
 ],
 "metadata": {},
 "nbformat": 4,
 "nbformat_minor": 5
}
