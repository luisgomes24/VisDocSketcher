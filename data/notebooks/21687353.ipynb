{
 "cells": [
  {
   "cell_type": "code",
   "execution_count": null,
   "id": "9cb4a7d8",
   "metadata": {},
   "outputs": [],
   "source": [
    "# This Python 3 environment comes with many helpful analytics libraries installed\n",
    "# It is defined by the kaggle/python Docker image: https://github.com/kaggle/docker-python\n",
    "# For example, here's several helpful packages to load\n",
    "\n",
    "import numpy as np # linear algebra\n",
    "import pandas as pd # data processing, CSV file I/O (e.g. pd.read_csv)\n",
    "\n",
    "# Input data files are available in the read-only \"../input/\" directory\n",
    "# For example, running this (by clicking run or pressing Shift+Enter) will list all files under the input directory\n",
    "\n",
    "import os\n",
    "for dirname, _, filenames in os.walk('/kaggle/input'):\n",
    "    for filename in filenames:\n",
    "        print(os.path.join(dirname, filename))\n",
    "\n",
    "# You can write up to 20GB to the current directory (/kaggle/working/) that gets preserved as output when you create a version using \"Save & Run All\" \n",
    "# You can also write temporary files to /kaggle/temp/, but they won't be saved outside of the current session"
   ]
  },
  {
   "cell_type": "code",
   "execution_count": null,
   "id": "f2fb07dc",
   "metadata": {},
   "outputs": [],
   "source": [
    "train_data=pd.read_csv('/kaggle/input/tabular-playground-series-nov-2021/train.csv')\n",
    "test_data=pd.read_csv('/kaggle/input/tabular-playground-series-nov-2021/test.csv')\n",
    "sub=pd.read_csv('/kaggle/input/tabular-playground-series-nov-2021/sample_submission.csv')"
   ]
  },
  {
   "cell_type": "code",
   "execution_count": null,
   "id": "023a902c",
   "metadata": {},
   "outputs": [],
   "source": [
    "train_data.head()"
   ]
  },
  {
   "cell_type": "code",
   "execution_count": null,
   "id": "569cdd12",
   "metadata": {},
   "outputs": [],
   "source": [
    "train_data.shape"
   ]
  },
  {
   "cell_type": "code",
   "execution_count": null,
   "id": "d52021e9",
   "metadata": {},
   "outputs": [],
   "source": [
    "import plotly.express as px\n",
    "fig = px.pie(train_data, names='target')\n",
    "fig.show()"
   ]
  },
  {
   "cell_type": "code",
   "execution_count": null,
   "id": "227c9032",
   "metadata": {},
   "outputs": [],
   "source": [
    "# from sklearn.model_selection import train_test_split\n",
    "# from sklearn.metrics import classification_report,accuracy_score\n",
    "\n",
    "# Y = train_data['target']\n",
    "# X = train_data.drop(columns=['target','id'])\n",
    "# # x, x_test, y, y_test = train_test_split(X,Y,test_size=0.2,train_size=0.8)\n",
    "# x_train, x_validation, y_train, y_validation = train_test_split(X,Y,test_size=0.1,random_state=254)"
   ]
  },
  {
   "cell_type": "code",
   "execution_count": null,
   "id": "7bb2a7f4",
   "metadata": {},
   "outputs": [],
   "source": [
    "# from sklearn.neural_network import MLPClassifier\n",
    "# clf = MLPClassifier(solver='adam', alpha=1e-08,hidden_layer_sizes=(32,),activation='logistic', random_state=2,batch_size='auto',shuffle=True)\n",
    "# clf = clf.fit(x_train, y_train)\n",
    "# predictCLF = clf.predict(x_validation)"
   ]
  },
  {
   "cell_type": "code",
   "execution_count": null,
   "id": "0ca00be6",
   "metadata": {},
   "outputs": [],
   "source": [
    "# print(classification_report(predictCLF,y_validation))"
   ]
  },
  {
   "cell_type": "code",
   "execution_count": null,
   "id": "768562f2",
   "metadata": {},
   "outputs": [],
   "source": [
    "# acc_CLF=accuracy_score(predictCLF,y_validation)\n",
    "# print(acc_CLF)"
   ]
  },
  {
   "cell_type": "code",
   "execution_count": null,
   "id": "0ee34a53",
   "metadata": {},
   "outputs": [],
   "source": [
    "!pip install -U lightautoml"
   ]
  },
  {
   "cell_type": "code",
   "execution_count": null,
   "id": "23770d50",
   "metadata": {},
   "outputs": [],
   "source": [
    "from lightautoml.automl.presets.tabular_presets import TabularAutoML\n",
    "from lightautoml.tasks import Task\n",
    "\n",
    "task = Task('binary')\n",
    "automl = TabularAutoML(task = task, timeout = 8 * 3600, cpu_limit = 8, \n",
    "                       general_params = {'use_algos': [['cb']]}, \n",
    "                       selection_params = {'mode': 0})\n",
    "oof_pred = automl.fit_predict(train_data, roles = {'target': 'target', 'drop': ['id']}, verbose = 2)\n",
    "sub['target'] = automl.predict(test_data).data[:, 0]"
   ]
  },
  {
   "cell_type": "code",
   "execution_count": null,
   "id": "022a1008",
   "metadata": {},
   "outputs": [],
   "source": [
    "sub['target'] = automl.predict(test_data).data[:, 0]"
   ]
  },
  {
   "cell_type": "code",
   "execution_count": null,
   "id": "146f6721",
   "metadata": {},
   "outputs": [],
   "source": [
    "sub.head()"
   ]
  },
  {
   "cell_type": "code",
   "execution_count": null,
   "id": "c5ce3647",
   "metadata": {},
   "outputs": [],
   "source": [
    "sub.to_csv('submission.csv', index = False)"
   ]
  },
  {
   "cell_type": "code",
   "execution_count": null,
   "id": "38fac686",
   "metadata": {},
   "outputs": [],
   "source": [
    "nan"
   ]
  }
 ],
 "metadata": {},
 "nbformat": 4,
 "nbformat_minor": 5
}
