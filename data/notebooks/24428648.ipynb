{
 "cells": [
  {
   "cell_type": "code",
   "execution_count": null,
   "id": "6cd6e377",
   "metadata": {},
   "outputs": [],
   "source": [
    "import os\n",
    "for dirname, _, filenames in os.walk('/kaggle/input'):\n",
    "    for filename in filenames:\n",
    "        print(os.path.join(dirname, filename))"
   ]
  },
  {
   "cell_type": "code",
   "execution_count": null,
   "id": "97368317",
   "metadata": {},
   "outputs": [],
   "source": [
    "import pandas as pd\n",
    "import numpy as np\n",
    "import matplotlib.pyplot as plt\n",
    "import plotly.express as px\n",
    "import plotly.graph_objects as go"
   ]
  },
  {
   "cell_type": "code",
   "execution_count": null,
   "id": "afefb95c",
   "metadata": {},
   "outputs": [],
   "source": [
    "train_df = pd.read_csv(\"../input/g-research-crypto-forecasting/train.csv\")\n",
    "asset_details = pd.read_csv(\"../input/g-research-crypto-forecasting/asset_details.csv\")"
   ]
  },
  {
   "cell_type": "code",
   "execution_count": null,
   "id": "0da25f44",
   "metadata": {},
   "outputs": [],
   "source": [
    "train_df.info()"
   ]
  },
  {
   "cell_type": "code",
   "execution_count": null,
   "id": "0a5b4a24",
   "metadata": {},
   "outputs": [],
   "source": [
    "train_df.describe()"
   ]
  },
  {
   "cell_type": "code",
   "execution_count": null,
   "id": "d445452d",
   "metadata": {},
   "outputs": [],
   "source": [
    "train_df.head()"
   ]
  },
  {
   "cell_type": "code",
   "execution_count": null,
   "id": "8e5d7476",
   "metadata": {},
   "outputs": [],
   "source": [
    "train_df.isnull().sum()"
   ]
  },
  {
   "cell_type": "code",
   "execution_count": null,
   "id": "067a7b57",
   "metadata": {},
   "outputs": [],
   "source": [
    "#Null Target Rows\n",
    "print(train_df['Target'].isnull().sum())\n",
    "#percentage of Null in train_df\n",
    "train_df[\"Target\"].isnull().sum()*100 / train_df.shape[0]"
   ]
  },
  {
   "cell_type": "code",
   "execution_count": null,
   "id": "11da08fb",
   "metadata": {},
   "outputs": [],
   "source": [
    "asset_count = []\n",
    "for i in range(14):\n",
    "    count = (train_df[\"Asset_ID\"]==i).sum()\n",
    "    asset_count.append(count)\n",
    "fig = px.bar(x = asset_details.sort_values(\"Asset_ID\")[\"Asset_Name\"],\n",
    "            y = asset_count,\n",
    "            color = asset_count,\n",
    "            color_continuous_scale =\"Emrld\")\n",
    "\n",
    "fig.update_xaxes(title=\"Assets\")\n",
    "fig.update_yaxes(title = \"Number of Rows\")\n",
    "fig.show()\n",
    "    "
   ]
  },
  {
   "cell_type": "code",
   "execution_count": null,
   "id": "694115e7",
   "metadata": {},
   "outputs": [],
   "source": [
    "def Crypto_df(asset_id, train_df=train_df):\n",
    "    df= train_df[train_df[\"Asset_ID\"] == asset_id].reset_index(drop=True)\n",
    "    df[\"timestamp\"] = pd.to_datetime(df['timestamp'], unit='s')\n",
    "    df = df.set_index(\"timestamp\")\n",
    "    return df\n",
    "btc = Crypto_df(asset_id=1)\n",
    "eth = Crypto_df(asset_id = 6)\n",
    "lth = Crypto_df(asset_id =9)\n"
   ]
  },
  {
   "cell_type": "code",
   "execution_count": null,
   "id": "bff248b9",
   "metadata": {},
   "outputs": [],
   "source": [
    "def candle_plot(train_df, title):\n",
    "    candle = go.Figure(data = [go.Candlestick(x =train_df.index, \n",
    "                                               open = train_df[('Open')], \n",
    "                                               high = train_df[('High')], \n",
    "                                               low = train_df[('Low')], \n",
    "                                               close = train_df[('Close')])])\n",
    "    candle.update_xaxes(title_text = 'Time',\n",
    "                        rangeslider_visible = True)\n",
    "    candle.update_yaxes(title_text = 'Price in USD',\n",
    "                        ticksuffix = '$')\n",
    "    return candle\n",
    "    "
   ]
  },
  {
   "cell_type": "code",
   "execution_count": null,
   "id": "4a7f3c69",
   "metadata": {},
   "outputs": [],
   "source": [
    "btc_plot = candle_plot(btc[-100:], title=\"Bitcoin(BTC)\")\n",
    "btc_plot.show()"
   ]
  },
  {
   "cell_type": "code",
   "execution_count": null,
   "id": "224813f7",
   "metadata": {},
   "outputs": [],
   "source": [
    "ltc_plot = candle_plot(lth[-250:],title = \"Litecoin(LTC)\")\n",
    "ltc_plot.show()"
   ]
  },
  {
   "cell_type": "code",
   "execution_count": null,
   "id": "aed1ba93",
   "metadata": {},
   "outputs": [],
   "source": [
    "eth_plot = candle_plot(eth[-250:],title = \"Etherium(ETH)\")\n",
    "eth_plot.show()"
   ]
  },
  {
   "cell_type": "code",
   "execution_count": null,
   "id": "52a967c3",
   "metadata": {},
   "outputs": [],
   "source": [
    "nan"
   ]
  }
 ],
 "metadata": {},
 "nbformat": 4,
 "nbformat_minor": 5
}
