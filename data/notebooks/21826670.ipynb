{
 "cells": [
  {
   "cell_type": "markdown",
   "id": "ddd61cfb",
   "metadata": {},
   "source": [
    "# Pawpularity Model with DNN on Meta Data\n",
    "\n",
    "## Table of Contents\n",
    "- Summary\n",
    "- Set up\n",
    "- Import datasets\n",
    "- Data Preprocessing\n",
    "- Model Development\n",
    "- Model Evaluation\n",
    "- Submission\n",
    "\n",
    "\n",
    "## Summary\n",
    "In this notebook, I am going use KeraTuner to find the best Model that fits only on Meta Data. So that I can improve total Performance of Model that use both Image Data and Meta Data. Some of my notebooks that use result can be found in:\n",
    "* [Pawpularity with EfficientNet: [Training]](https://www.kaggle.com/lonnieqin/pawpularity-with-efficientnet-training)\n",
    "* [Pawpularity with EfficientNet: [Inference]](https://www.kaggle.com/lonnieqin/pawpularity-with-efficientnet-inference)\n",
    "* [TensorFlow multi-input Pet Pawpularity Model](https://www.kaggle.com/lonnieqin/tensorflow-multi-input-pet-pawpularity-model)\n",
    "\n",
    "## Set up"
   ]
  },
  {
   "cell_type": "code",
   "execution_count": null,
   "id": "fbb6b9a6",
   "metadata": {},
   "outputs": [],
   "source": [
    "import numpy as np\n",
    "import pandas as pd\n",
    "import tensorflow as tf\n",
    "from tensorflow import keras\n",
    "import sklearn\n",
    "import matplotlib.pyplot as plt\n",
    "from sklearn.model_selection import KFold\n",
    "import keras_tuner as kt"
   ]
  },
  {
   "cell_type": "markdown",
   "id": "eaede1aa",
   "metadata": {},
   "source": [
    "## Import datasets"
   ]
  },
  {
   "cell_type": "code",
   "execution_count": null,
   "id": "bd1e363b",
   "metadata": {},
   "outputs": [],
   "source": [
    "train = pd.read_csv(\"../input/petfinder-pawpularity-score/train.csv\")\n",
    "test = pd.read_csv(\"../input/petfinder-pawpularity-score/test.csv\")\n",
    "sample_submission = pd.read_csv(\"../input/petfinder-pawpularity-score/sample_submission.csv\")"
   ]
  },
  {
   "cell_type": "markdown",
   "id": "22789844",
   "metadata": {},
   "source": [
    "## Data Preprocessing"
   ]
  },
  {
   "cell_type": "code",
   "execution_count": null,
   "id": "3e614239",
   "metadata": {},
   "outputs": [],
   "source": [
    "train.head()"
   ]
  },
  {
   "cell_type": "code",
   "execution_count": null,
   "id": "f4ddf410",
   "metadata": {},
   "outputs": [],
   "source": [
    "train[\"Pawpularity\"].hist()"
   ]
  },
  {
   "cell_type": "markdown",
   "id": "f91750f9",
   "metadata": {},
   "source": [
    "## Model Development"
   ]
  },
  {
   "cell_type": "code",
   "execution_count": null,
   "id": "7318bcea",
   "metadata": {},
   "outputs": [],
   "source": [
    "batch_size = 128 # Batch Size\n",
    "train_on_fold = None # Which fold to train, None to train on all folds.\n",
    "tabular_columns = ['Subject Focus', 'Eyes', 'Face', 'Near', 'Action', 'Accessory', 'Group', 'Collage', 'Human', 'Occlusion', 'Info', 'Blur']"
   ]
  },
  {
   "cell_type": "markdown",
   "id": "37cc39ca",
   "metadata": {},
   "source": [
    "### RMSE loss function"
   ]
  },
  {
   "cell_type": "code",
   "execution_count": null,
   "id": "331ab72a",
   "metadata": {},
   "outputs": [],
   "source": [
    "def rmse(y_true, y_pred):\n",
    "    return tf.sqrt(tf.reduce_mean((y_true -  y_pred) ** 2))"
   ]
  },
  {
   "cell_type": "markdown",
   "id": "a6371755",
   "metadata": {},
   "source": [
    "### The Model"
   ]
  },
  {
   "cell_type": "code",
   "execution_count": null,
   "id": "69d737c5",
   "metadata": {},
   "outputs": [],
   "source": [
    "def build_model(hp):\n",
    "    inputs = tf.keras.layers.Input((len(tabular_columns)))\n",
    "    width = hp.Choice('width', [8, 16, 32, 64])\n",
    "    depth = hp.Choice('depth', [3, 6, 9, 12])\n",
    "    activation = \"relu\"\n",
    "    dropout = hp.Choice('dropout', [0.0, 0.1, 0.2])\n",
    "    use_batch_norm = hp.Choice('use_batch_norm', [True, False])\n",
    "    # Whether to use MSE or RMSE is worth to have a try\n",
    "    loss_function = hp.Choice(\"loss_function\", [\"mse\", \"rmse\"])\n",
    "    kernel_regularizer = hp.Choice(\"kernel_regularizer\", [\"none\", \"l1\", \"l2\", \"l1_l2\"])\n",
    "    acutal_kernel_regularizer = None\n",
    "    if kernel_regularizer == \"l1\":\n",
    "        acutal_kernel_regularizer = keras.regularizers.l1()\n",
    "    if kernel_regularizer == \"l2\":\n",
    "        acutal_kernel_regularizer = keras.regularizers.l2()\n",
    "    if kernel_regularizer == \"l1_l2\":\n",
    "        acutal_kernel_regularizer = keras.regularizers.l1_l2()\n",
    "    for i in range(depth):\n",
    "        if i == 0:\n",
    "            x = inputs\n",
    "           \n",
    "        x = keras.layers.Dense(\n",
    "            width, \n",
    "            activation=activation,\n",
    "            kernel_regularizer=acutal_kernel_regularizer\n",
    "        )(x)\n",
    "        if (i + 1) % 3 == 0:\n",
    "            if dropout > 0:\n",
    "                x = keras.layers.Dropout(dropout)(x)\n",
    "            if use_batch_norm:\n",
    "                x = keras.layers.BatchNormalization()(x)\n",
    "            x = keras.layers.Concatenate()([x, inputs])\n",
    "    output = keras.layers.Dense(1, activation=\"relu\")(x)\n",
    "    model = keras.Model(inputs=inputs, outputs=output)\n",
    "    adam = keras.optimizers.Adam(learning_rate=hp.Float(\"learing_rate\", 1e-5, 5e-3))\n",
    "    loss = \"mse\" if loss_function == \"mse\" else rmse\n",
    "    model.compile(loss=loss, optimizer=adam, metrics=[\"mae\", rmse])\n",
    "    return model"
   ]
  },
  {
   "cell_type": "markdown",
   "id": "927309c0",
   "metadata": {},
   "source": [
    "### Preprocess function"
   ]
  },
  {
   "cell_type": "code",
   "execution_count": null,
   "id": "e5f3da30",
   "metadata": {},
   "outputs": [],
   "source": [
    "def preprocess(x, y):\n",
    "    x = tf.cast(x, tf.float32)\n",
    "    y = tf.cast(y, tf.float32)\n",
    "    print(x, y)\n",
    "    return x, y"
   ]
  },
  {
   "cell_type": "markdown",
   "id": "0978e8c9",
   "metadata": {},
   "source": [
    "### HyperParmeter Tuning"
   ]
  },
  {
   "cell_type": "code",
   "execution_count": null,
   "id": "d8bbe971",
   "metadata": {},
   "outputs": [],
   "source": [
    "tf.keras.backend.clear_session()\n",
    "kfold = KFold(n_splits=5, shuffle=True, random_state=42)\n",
    "for index, (train_indices, val_indices) in enumerate(kfold.split(train)):\n",
    "    if train_on_fold is not None and train_on_fold != index:\n",
    "        continue\n",
    "    train_features = train.loc[train_indices, tabular_columns]\n",
    "    train_targets = train.loc[train_indices, [\"Pawpularity\"]]\n",
    "    val_features = train.loc[val_indices, tabular_columns]\n",
    "    val_targets = train.loc[val_indices, [\"Pawpularity\"]]\n",
    "    checkpoint_path = \"model_%d.h5\"%(index)\n",
    "    checkpoint = tf.keras.callbacks.ModelCheckpoint(\n",
    "        checkpoint_path, \n",
    "        save_best_only=True\n",
    "    )\n",
    "    early_stop = tf.keras.callbacks.EarlyStopping(\n",
    "        min_delta=1e-4, \n",
    "        patience=10\n",
    "    )\n",
    "    reduce_lr = tf.keras.callbacks.ReduceLROnPlateau(\n",
    "        factor=0.3,\n",
    "        patience=2, \n",
    "        min_lr=1e-7\n",
    "    )\n",
    "    callbacks = [early_stop, checkpoint, reduce_lr]\n",
    "    print(train_features.shape, train_targets.shape)\n",
    "    print(val_features.shape, val_targets.shape)\n",
    "    train_ds = tf.data.Dataset.from_tensor_slices((train_features, train_targets)).map(preprocess).shuffle(512).batch(batch_size).cache().prefetch(2)\n",
    "    val_ds = tf.data.Dataset.from_tensor_slices((val_features, val_targets)).map(preprocess).batch(batch_size).cache().prefetch(2)\n",
    "    tuner = kt.RandomSearch(\n",
    "        build_model,\n",
    "        objective=kt.Objective(\"val_rmse\", direction=\"min\"),\n",
    "        max_trials=100,\n",
    "        directory=\"directory\"\n",
    "    )\n",
    "    tuner.search(train_ds, validation_data=val_ds, epochs=10, callbacks=callbacks)\n",
    "    break"
   ]
  },
  {
   "cell_type": "markdown",
   "id": "fe747735",
   "metadata": {},
   "source": [
    "### Best Architecture"
   ]
  },
  {
   "cell_type": "code",
   "execution_count": null,
   "id": "1b8b6a34",
   "metadata": {},
   "outputs": [],
   "source": [
    "best_model = tuner.get_best_models()[0]\n",
    "keras.utils.plot_model(best_model, show_shapes=True)"
   ]
  },
  {
   "cell_type": "markdown",
   "id": "b8445643",
   "metadata": {},
   "source": [
    "### Best parameters"
   ]
  },
  {
   "cell_type": "code",
   "execution_count": null,
   "id": "f6804299",
   "metadata": {},
   "outputs": [],
   "source": [
    "\"\"\"\n",
    " {'width': 64,\n",
    " 'depth': 6,\n",
    " 'dropout': 0.1,\n",
    " 'use_batch_norm': 0,\n",
    " 'loss_function': 'mse',\n",
    " 'kernel_regularizer': 'none',\n",
    " 'learing_rate': 0.0038644865099609653}\n",
    "\"\"\"\n",
    "best_hp = tuner.get_best_hyperparameters()[0]\n",
    "best_hp.get_config()[\"values\"]"
   ]
  },
  {
   "cell_type": "markdown",
   "id": "7591b09a",
   "metadata": {},
   "source": [
    "### Keep Trainnig with best Parameters"
   ]
  },
  {
   "cell_type": "code",
   "execution_count": null,
   "id": "706993f2",
   "metadata": {},
   "outputs": [],
   "source": [
    "models = []\n",
    "for index, (train_indices, val_indices) in enumerate(kfold.split(train)):\n",
    "    if train_on_fold is not None and train_on_fold != index:\n",
    "        continue\n",
    "    train_features = train.loc[train_indices, tabular_columns]\n",
    "    train_targets = train.loc[train_indices, [\"Pawpularity\"]]\n",
    "    val_features = train.loc[val_indices, tabular_columns]\n",
    "    val_targets = train.loc[val_indices, [\"Pawpularity\"]]\n",
    "    checkpoint_path = \"model_%d.h5\"%(index)\n",
    "    checkpoint = tf.keras.callbacks.ModelCheckpoint(\n",
    "        checkpoint_path, \n",
    "        save_best_only=True\n",
    "    )\n",
    "    early_stop = tf.keras.callbacks.EarlyStopping(\n",
    "        min_delta=1e-4, \n",
    "        patience=10\n",
    "    )\n",
    "    reduce_lr = tf.keras.callbacks.ReduceLROnPlateau(\n",
    "        factor=0.3,\n",
    "        patience=2, \n",
    "        min_lr=1e-7\n",
    "    )\n",
    "    callbacks = [early_stop, checkpoint, reduce_lr]\n",
    "    print(train_features.shape, train_targets.shape)\n",
    "    print(val_features.shape, val_targets.shape)\n",
    "    train_ds = tf.data.Dataset.from_tensor_slices((train_features, train_targets)).map(preprocess).shuffle(512).batch(batch_size).cache().prefetch(2)\n",
    "    val_ds = tf.data.Dataset.from_tensor_slices((val_features, val_targets)).map(preprocess).batch(batch_size).cache().prefetch(2)\n",
    "    model = tuner.hypermodel.build(best_hp)\n",
    "    history = model.fit(train_ds, epochs=50, validation_data=val_ds, callbacks=callbacks)\n",
    "    model.load_weights(checkpoint_path)\n",
    "    models.append(model)"
   ]
  },
  {
   "cell_type": "markdown",
   "id": "2981822c",
   "metadata": {},
   "source": [
    "## Submission"
   ]
  },
  {
   "cell_type": "code",
   "execution_count": null,
   "id": "18e99490",
   "metadata": {},
   "outputs": [],
   "source": [
    "def preprocess_test_data(x):\n",
    "    x = tf.cast(x, tf.float32)\n",
    "    print(x)\n",
    "    return x"
   ]
  },
  {
   "cell_type": "code",
   "execution_count": null,
   "id": "b5c72b63",
   "metadata": {},
   "outputs": [],
   "source": [
    "test_ds = tf.data.Dataset.from_tensor_slices((test[tabular_columns])).map(preprocess_test_data).batch(batch_size).prefetch(2)"
   ]
  },
  {
   "cell_type": "code",
   "execution_count": null,
   "id": "840761ea",
   "metadata": {},
   "outputs": [],
   "source": [
    "total_results = []\n",
    "for model in models:\n",
    "    total_results.append(model.predict(test_ds).reshape(-1))\n",
    "results = np.mean(total_results, axis=0).reshape(-1)\n",
    "sample_submission[\"Pawpularity\"] = results\n",
    "sample_submission.to_csv(\"submission.csv\", index=False)"
   ]
  }
 ],
 "metadata": {},
 "nbformat": 4,
 "nbformat_minor": 5
}
