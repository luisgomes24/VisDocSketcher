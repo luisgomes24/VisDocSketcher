{
 "cells": [
  {
   "cell_type": "markdown",
   "id": "a54be104",
   "metadata": {},
   "source": [
    "**This notebook is an exercise in the [Introduction to Machine Learning](https://www.kaggle.com/learn/intro-to-machine-learning) course.  You can reference the tutorial at [this link](https://www.kaggle.com/dansbecker/your-first-machine-learning-model).**\n",
    "\n",
    "---\n"
   ]
  },
  {
   "cell_type": "markdown",
   "id": "4e43b3eb",
   "metadata": {},
   "source": [
    "## 재점검\n",
    "지금까지 데이터를 로드하고 다음 코드로 검토했습니다. 이 셀을 실행하여 이전 단계가 완료된 코딩 환경을 설정합니다."
   ]
  },
  {
   "cell_type": "code",
   "execution_count": null,
   "id": "3d2107e8",
   "metadata": {},
   "outputs": [],
   "source": [
    "# Code you have previously used to load data\n",
    "# 여러분이 이전에 데이터를 로드하기위해 사용했던 코드입니다.\n",
    "import pandas as pd\n",
    "\n",
    "# Path of the file to read\n",
    "# 읽어오는 파일의 경로\n",
    "iowa_file_path = '../input/home-data-for-ml-course/train.csv'\n",
    "\n",
    "home_data = pd.read_csv(iowa_file_path)\n",
    "\n",
    "# Set up code checking\n",
    "# 코드 체크 설정\n",
    "from learntools.core import binder\n",
    "binder.bind(globals())\n",
    "from learntools.machine_learning.ex3 import *\n",
    "\n",
    "print(\"Setup Complete\")"
   ]
  },
  {
   "cell_type": "markdown",
   "id": "3c9ba7e0",
   "metadata": {},
   "source": [
    "# 연습\n",
    "\n",
    "## 1단계: 예측 대상 지정\n",
    "판매 가격(sales price)에 해당하는 목표 변수를 선택합니다. 이 값을 'y'라는 새 변수에 저장합니다. 필요한 열의 이름을 찾으려면 열 목록을 출력해봐야 할 것입니다.\n"
   ]
  },
  {
   "cell_type": "code",
   "execution_count": null,
   "id": "b955ef10",
   "metadata": {},
   "outputs": [],
   "source": [
    "# print the list of columns in the dataset to find the name of the prediction target\n",
    "# 예측 대상의 이름을 찾기위해 데이터셋의 열 목록을 출력해보세요\n",
    "\n"
   ]
  },
  {
   "cell_type": "code",
   "execution_count": null,
   "id": "97a972bf",
   "metadata": {},
   "outputs": [],
   "source": [
    "\n",
    "\n",
    "# Check your answer\n",
    "# 답을 확인해보세요\n",
    "step_1.check()"
   ]
  },
  {
   "cell_type": "code",
   "execution_count": null,
   "id": "a527c975",
   "metadata": {},
   "outputs": [],
   "source": [
    "# The lines below will show you a hint or the solution.\n",
    "# 이 코드들은 당신에게 힌트나 답을 알려줄 것입니다. 너무 어렵다면 주석을 해제하고 힌트나 답을 알아보세요.\n",
    "# step_1.hint() \n",
    "# step_1.solution()"
   ]
  },
  {
   "cell_type": "markdown",
   "id": "44650b88",
   "metadata": {},
   "source": [
    "## 2단계: X 만들기\n",
    "이제 예측을 위해 필요한 특성(Feature)들을 포함하는 'X'라는 데이터 프레임을 생성합니다.\n",
    "\n",
    "원본 데이터에서 일부 열만 원하는 경우 먼저 'X'에 원하는 열 이름을 사용하여 목록을 만듭니다.\n",
    "\n",
    "목록에서 다음 열만 사용합니다(따옴표를 추가해야 하는 경우에도 전체 목록을 복사하여 붙여넣어 입력을 저장할 수 있습니다):\n",
    "   * LotArea\n",
    "   * YearBuilt\n",
    "   * 1stFlrSF\n",
    "   * 2ndFlrSF\n",
    "   * FullBath\n",
    "   * BedroomAbvGr\n",
    "   * TotRmsAbvGrd\n",
    "\n",
    "특성 목록을 작성한 후에는 이를 사용하여 모델을 학습시키는 데 사용할 데이터 프레임을 작성합니다."
   ]
  },
  {
   "cell_type": "code",
   "execution_count": null,
   "id": "5ddd5dcd",
   "metadata": {},
   "outputs": [],
   "source": [
    "# Create the list of features below\n",
    "# 아래 특성들의 리스트를 생성합니다.\n",
    "\n",
    "\n",
    "# Select data corresponding to features in feature_names\n",
    "# feature_names 변수에 담긴 특성들에 해당하는 데이터를 가져옵니다.\n",
    "\n",
    "\n",
    "# Check your answer\n",
    "# 답을 확인해보세요\n",
    "step_2.check()"
   ]
  },
  {
   "cell_type": "code",
   "execution_count": null,
   "id": "0cf75b4f",
   "metadata": {},
   "outputs": [],
   "source": [
    "# step_2.hint()\n",
    "# step_2.solution()"
   ]
  },
  {
   "cell_type": "markdown",
   "id": "6206467f",
   "metadata": {},
   "source": [
    "## 데이터 검토\n",
    "모델을 구축하기 전에, **X**를 간단히 살펴보고 모델이 그럴싸한지 확인해보세요"
   ]
  },
  {
   "cell_type": "code",
   "execution_count": null,
   "id": "97843fa3",
   "metadata": {},
   "outputs": [],
   "source": [
    "# Review data\n",
    "# 데이터 검토\n",
    "# print description or statistics from X\n",
    "# X에서 통계치나 요약을 출력해보세요\n",
    "\n",
    "\n",
    "# print the top few lines\n",
    "# 위 몇가지 코드를 출력해보세요\n",
    "X.describe()\n",
    "X.head()"
   ]
  },
  {
   "cell_type": "markdown",
   "id": "a787de08",
   "metadata": {},
   "source": [
    "## 3단계: 모델 정의하고 학습시키기\n",
    "`DecisionTreeRegressor`(회귀 의사결정나무)를 만들고 iowa_model에 저장하세요. 이 작업을 위해 sklearn에서 관련된 것을 import 했는지 확인하세요.(from sklearn import ??)\n",
    "\n",
    "그런 다음 위에 저장한 'X'와 'y'의 데이터를 사용하여 방금 생성한 모델을 학습시키세요."
   ]
  },
  {
   "cell_type": "code",
   "execution_count": null,
   "id": "7151e857",
   "metadata": {},
   "outputs": [],
   "source": [
    "# 필요한 DecisionTreeRegressor를 sklearn 에서 import하세요!\n",
    "\n",
    "# specify the model. \n",
    "# 모델을 정의하세요\n",
    "# For model reproducibility, set a numeric value for random_state when specifying the model\n",
    "# 모델 재현성을 위해 모델을 지정할 때 random_state에 대한 숫자 값 설정하세요\n",
    "\n",
    "# Fit the model\n",
    "# 모델을 학습시키세요\n",
    "\n",
    "# Check your answer\n",
    "step_3.check()"
   ]
  },
  {
   "cell_type": "code",
   "execution_count": null,
   "id": "e8394a5c",
   "metadata": {},
   "outputs": [],
   "source": [
    "# step_3.hint()\n",
    "step_3.solution()"
   ]
  },
  {
   "cell_type": "markdown",
   "id": "179dd611",
   "metadata": {},
   "source": [
    "## 4단계: 예측하기\n",
    "'X'에 해당하는 데이터를 사용하는 모델의 'predict' 명령을 통해 예측합니다. 결과를 'predictions'라는 변수에 저장합니다."
   ]
  },
  {
   "cell_type": "code",
   "execution_count": null,
   "id": "e1d8437e",
   "metadata": {},
   "outputs": [],
   "source": [
    "\n",
    "\n",
    "# Check your answer\n",
    "step_4.check()"
   ]
  },
  {
   "cell_type": "code",
   "execution_count": null,
   "id": "a2cc6c55",
   "metadata": {},
   "outputs": [],
   "source": [
    "# step_4.hint()\n",
    "# step_4.solution()"
   ]
  },
  {
   "cell_type": "markdown",
   "id": "ffe6594d",
   "metadata": {},
   "source": [
    "## 결과에 대해 생각해 보세요\n",
    "\n",
    "'head' 방법을 사용하여 동일한 주택에 대한 실제 주택 값('y')과 상위 몇 개의 예측(predictions)을 비교합니다. 놀라운 일이 일어나나요?\n"
   ]
  },
  {
   "cell_type": "code",
   "execution_count": null,
   "id": "03c06c3e",
   "metadata": {},
   "outputs": [],
   "source": [
    "# You can write code in this cell\n",
    "\n"
   ]
  },
  {
   "cell_type": "markdown",
   "id": "d1f460d2",
   "metadata": {},
   "source": [
    "모형의 예측이 얼마나 정확한지, 어떻게 개선할 수 있는지 궁금해하는 것은 당연합니다. 그게 당신의 다음 단계가 될 거예요.\n",
    "\n",
    "# 계속 가봅시다!\n",
    "\n",
    "**[모델 검증 Model Validation](https://www.kaggle.com/dansbecker/model-validation)을 공부할 때가 되었습니다.**\n"
   ]
  },
  {
   "cell_type": "markdown",
   "id": "c0107e99",
   "metadata": {},
   "source": [
    "---\n",
    "\n",
    "\n",
    "\n",
    "\n",
    "*Have questions or comments? Visit the [Learn Discussion forum](https://www.kaggle.com/learn-forum/161285) to chat with other Learners.*"
   ]
  }
 ],
 "metadata": {},
 "nbformat": 4,
 "nbformat_minor": 5
}
