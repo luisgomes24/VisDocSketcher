{
 "cells": [
  {
   "cell_type": "markdown",
   "id": "9bf06047",
   "metadata": {},
   "source": [
    "<div style=\"background-color:rgba(0, 167, 255, 0.6);border-radius:5px;display:fill\">\n",
    "    <h1><center>Tabular Playground Series - Feb 2022\n",
    "</div>"
   ]
  },
  {
   "cell_type": "markdown",
   "id": "4d89ddd2",
   "metadata": {},
   "source": [
    "<center><a><img src=\"https://i.ibb.co/PWvpT9F/header.png\" alt=\"header\" border=\"0\" width=800 height=400 class=\"center\"></a>"
   ]
  },
  {
   "cell_type": "markdown",
   "id": "1a689384",
   "metadata": {},
   "source": [
    "<h1> Fast Random Forest and Intel® Extension for Scikit-learn* - Kaggle Tabular Playground Series - February 2022 </h1>"
   ]
  },
  {
   "cell_type": "markdown",
   "id": "ee183c2c",
   "metadata": {},
   "source": [
    "For classical machine learning algorithms, we often use the most popular Python library, Scikit-learn. With Scikit-learn you can fit models and search for optimal parameters, but it sometimes works for hours. Speeding up this process is something anyone who uses Scikit-learn would be interested in.\n",
    "\n",
    "I want to show you how to use Scikit-learn library and get the results faster without changing the code. To do this, we will make use of another Python library, [**Intel® Extension for Scikit-learn***](https://github.com/intel/scikit-learn-intelex). It accelerates Scikit-learn and does not require you to change the code written for Scikit-learn.\n",
    "\n",
    "I will show you how to **speed up** your kernel without changing your code!"
   ]
  },
  {
   "cell_type": "markdown",
   "id": "496d6737",
   "metadata": {},
   "source": [
    "### Intel® Extension for Scikit-learn installation:"
   ]
  },
  {
   "cell_type": "code",
   "execution_count": null,
   "id": "4e6300a0",
   "metadata": {},
   "outputs": [],
   "source": [
    "!pip install scikit-learn-intelex -q --progress-bar off"
   ]
  },
  {
   "cell_type": "markdown",
   "id": "2c0c2bb2",
   "metadata": {},
   "source": [
    "### Import Libraries"
   ]
  },
  {
   "cell_type": "code",
   "execution_count": null,
   "id": "e69df887",
   "metadata": {},
   "outputs": [],
   "source": [
    "import pandas as pd\n",
    "import numpy as np\n",
    "import warnings\n",
    "import gc\n",
    "from IPython.display import HTML\n",
    "warnings.filterwarnings(\"ignore\")\n",
    "\n",
    "from timeit import default_timer as timer\n",
    "import matplotlib.pyplot as plt\n",
    "\n",
    "random_state = 42"
   ]
  },
  {
   "cell_type": "markdown",
   "id": "bf9e8655",
   "metadata": {},
   "source": [
    "### Reading Data"
   ]
  },
  {
   "cell_type": "code",
   "execution_count": null,
   "id": "953a6aed",
   "metadata": {},
   "outputs": [],
   "source": [
    "PATH_TRAIN      = '../input/tabular-playground-series-feb-2022/train.csv'\n",
    "PATH_TEST       = '../input/tabular-playground-series-feb-2022/test.csv'\n",
    "PATH_SUBMISSION = '../input/tabular-playground-series-feb-2022/sample_submission.csv'"
   ]
  },
  {
   "cell_type": "code",
   "execution_count": null,
   "id": "d5bc1795",
   "metadata": {},
   "outputs": [],
   "source": [
    "tPF = timer()\n",
    "train_data = pd.read_csv(PATH_TRAIN)\n",
    "test_data  = pd.read_csv(PATH_TEST)\n",
    "submission = pd.read_csv(PATH_SUBMISSION)\n",
    "tPS = timer()"
   ]
  },
  {
   "cell_type": "code",
   "execution_count": null,
   "id": "79549470",
   "metadata": {},
   "outputs": [],
   "source": [
    "print(\"Data reading with default pandas time: {}\".format(tPS - tPF))"
   ]
  },
  {
   "cell_type": "markdown",
   "id": "249fa2a2",
   "metadata": {},
   "source": [
    "### Fast Reading Data"
   ]
  },
  {
   "cell_type": "markdown",
   "id": "ed2d790e",
   "metadata": {},
   "source": [
    "<center><a><img src=\"https://modin.readthedocs.io/en/stable/_static/MODIN_ver2.png\" alt=\"header\" border=\"0\" width=300 height=200 class=\"center\"></a>"
   ]
  },
  {
   "cell_type": "markdown",
   "id": "c0f28cfd",
   "metadata": {},
   "source": [
    "Modin is a drop-in replacement for pandas. While pandas is single-threaded, Modin lets you instantly speed up your workflows by scaling pandas so it uses all of your cores. Modin works especially well on larger datasets, where pandas becomes painfully slow or runs out of memory."
   ]
  },
  {
   "cell_type": "markdown",
   "id": "51777cf7",
   "metadata": {},
   "source": [
    "### Modin installation:"
   ]
  },
  {
   "cell_type": "code",
   "execution_count": null,
   "id": "f994bd7f",
   "metadata": {},
   "outputs": [],
   "source": [
    "!pip install modin"
   ]
  },
  {
   "cell_type": "code",
   "execution_count": null,
   "id": "69959cc3",
   "metadata": {},
   "outputs": [],
   "source": [
    "import modin.pandas as pd"
   ]
  },
  {
   "cell_type": "code",
   "execution_count": null,
   "id": "daeee639",
   "metadata": {},
   "outputs": [],
   "source": [
    "tMF = timer()\n",
    "train_data = pd.read_csv(PATH_TRAIN)\n",
    "test_data  = pd.read_csv(PATH_TEST)\n",
    "submission = pd.read_csv(PATH_SUBMISSION)\n",
    "tMS = timer()"
   ]
  },
  {
   "cell_type": "code",
   "execution_count": null,
   "id": "bf03477a",
   "metadata": {},
   "outputs": [],
   "source": [
    "print(\"Data reading with Modin time: {}\".format(tMS - tMF))"
   ]
  },
  {
   "cell_type": "code",
   "execution_count": null,
   "id": "f7954cbe",
   "metadata": {},
   "outputs": [],
   "source": [
    "modin_speedup = round((tPS - tPF) / (tMS - tMF), 2)\n",
    "HTML(f'<h2>Reading data speedup: {modin_speedup}x</h2>'\n",
    "     f'(from {round((tPS - tPF), 2)} to {round((tMS - tMF), 2)} seconds)')"
   ]
  },
  {
   "cell_type": "code",
   "execution_count": null,
   "id": "f23ece12",
   "metadata": {},
   "outputs": [],
   "source": [
    "X, y = train_data.drop(['target'], axis = 1), train_data['target']"
   ]
  },
  {
   "cell_type": "markdown",
   "id": "d15ae4ef",
   "metadata": {},
   "source": [
    "## Scikit-learn-intelex"
   ]
  },
  {
   "cell_type": "markdown",
   "id": "3a1afb11",
   "metadata": {},
   "source": [
    "With Intel® Extension for Scikit-learn you can accelerate your Scikit-learn applications and still have full conformance with all Scikit-Learn APIs and algorithms. Intel® Extension for Scikit-learn* is a free software AI accelerator that brings over **10-100X acceleration** across a variety of applications.\n",
    "\n",
    "More information you can find in [Introduction to scikit-learn-intelex](https://www.kaggle.com/lordozvlad/introduction-to-scikit-learn-intelex/notebook)"
   ]
  },
  {
   "cell_type": "markdown",
   "id": "bcd4a00b",
   "metadata": {},
   "source": [
    "### Accelerate Scikit-learn with two lines of code:"
   ]
  },
  {
   "cell_type": "code",
   "execution_count": null,
   "id": "7d85587c",
   "metadata": {},
   "outputs": [],
   "source": [
    "from sklearnex import patch_sklearn\n",
    "patch_sklearn()"
   ]
  },
  {
   "cell_type": "markdown",
   "id": "ab01417e",
   "metadata": {},
   "source": [
    "Setup logging to track accelerated cases:"
   ]
  },
  {
   "cell_type": "code",
   "execution_count": null,
   "id": "2ef94aec",
   "metadata": {},
   "outputs": [],
   "source": [
    "import logging\n",
    "\n",
    "logger = logging.getLogger()\n",
    "fh = logging.FileHandler('log.txt')\n",
    "fh.setLevel(10)\n",
    "logger.addHandler(fh)"
   ]
  },
  {
   "cell_type": "markdown",
   "id": "d28f029b",
   "metadata": {},
   "source": [
    "## Bayesian methods of hyperparameter optimization"
   ]
  },
  {
   "cell_type": "markdown",
   "id": "876c64ab",
   "metadata": {},
   "source": [
    "Bayesian optimization works by constructing a posterior distribution of functions (gaussian process) that best describes the function you want to optimize. As the number of observations grows, the posterior distribution improves, and the algorithm becomes more certain of which regions in parameter space are worth exploring and which are not, as seen in the picture below."
   ]
  },
  {
   "cell_type": "markdown",
   "id": "60e59939",
   "metadata": {},
   "source": [
    "<img src=\"https://github.com/fmfn/BayesianOptimization/blob/master/examples/bo_example.png?raw=true\" />\n",
    "As you iterate over and over, the algorithm balances its needs of exploration and exploitation taking into account what it knows about the target function. At each step a Gaussian Process is fitted to the known samples (points previously explored), and the posterior distribution, combined with a exploration strategy (such as UCB (Upper Confidence Bound), or EI (Expected Improvement)), are used to determine the next point that should be explored (see the gif below).\n",
    "<img src=\"https://github.com/fmfn/BayesianOptimization/raw/master/examples/bayesian_optimization.gif\" />"
   ]
  },
  {
   "cell_type": "code",
   "execution_count": null,
   "id": "31430609",
   "metadata": {},
   "outputs": [],
   "source": [
    "from sklearn.model_selection import train_test_split\n",
    "\n",
    "X_train, X_test, y_train, y_test = train_test_split(X, y, test_size = 0.25)"
   ]
  },
  {
   "cell_type": "code",
   "execution_count": null,
   "id": "c2869925",
   "metadata": {},
   "outputs": [],
   "source": [
    "from sklearn.ensemble import RandomForestClassifier\n",
    "from sklearn.metrics import accuracy_score\n",
    "\n",
    "def bo_params_rf(max_samples, max_features):  \n",
    "    params = {\n",
    "        'max_samples' : max_samples,\n",
    "        'max_features' : max_features,\n",
    "    }\n",
    "    \n",
    "    clf = RandomForestClassifier(**params)\n",
    "    clf.fit(X_train, y_train)\n",
    "    \n",
    "    score = accuracy_score(y_test, clf.predict(X_test))\n",
    "    \n",
    "    return score"
   ]
  },
  {
   "cell_type": "code",
   "execution_count": null,
   "id": "b441d03e",
   "metadata": {},
   "outputs": [],
   "source": [
    "from bayes_opt import BayesianOptimization\n",
    "rf_bo = BayesianOptimization(bo_params_rf, {\n",
    "                                             'max_samples': (0.5, 0.9),\n",
    "                                             'max_features':(0.5, 0.9)\n",
    "                                            })"
   ]
  },
  {
   "cell_type": "code",
   "execution_count": null,
   "id": "0a1bca34",
   "metadata": {},
   "outputs": [],
   "source": [
    "results = rf_bo.maximize(n_iter = 2, init_points = 2, acq = 'ei')"
   ]
  },
  {
   "cell_type": "markdown",
   "id": "05088dd3",
   "metadata": {},
   "source": [
    "## RandomForest with optimized Scikit-learn"
   ]
  },
  {
   "cell_type": "code",
   "execution_count": null,
   "id": "00b4fb92",
   "metadata": {},
   "outputs": [],
   "source": [
    "params = rf_bo.max['params']\n",
    "\n",
    "slfOpt = RandomForestClassifier(**params, n_estimators = 300, random_state = 42)\n",
    "\n",
    "tFO = timer()\n",
    "slfOpt.fit(X, y)\n",
    "tSO = timer()"
   ]
  },
  {
   "cell_type": "code",
   "execution_count": null,
   "id": "1cee6974",
   "metadata": {},
   "outputs": [],
   "source": [
    "print(\"Total fitting Random Forest time with optimized Scikit-learn: {} seconds\".format(tSO - tFO))"
   ]
  },
  {
   "cell_type": "markdown",
   "id": "73093907",
   "metadata": {},
   "source": [
    "### List of algorithms which are accelerated by sklearnex"
   ]
  },
  {
   "cell_type": "code",
   "execution_count": null,
   "id": "e237ffbf",
   "metadata": {},
   "outputs": [],
   "source": [
    "!cat log.txt | grep 'running accelerated version' | sort | uniq"
   ]
  },
  {
   "cell_type": "markdown",
   "id": "738a98f5",
   "metadata": {},
   "source": [
    "## RandomForest with default Scikit-learn"
   ]
  },
  {
   "cell_type": "code",
   "execution_count": null,
   "id": "022823a1",
   "metadata": {},
   "outputs": [],
   "source": [
    "from sklearnex import unpatch_sklearn\n",
    "unpatch_sklearn()"
   ]
  },
  {
   "cell_type": "code",
   "execution_count": null,
   "id": "45c17230",
   "metadata": {},
   "outputs": [],
   "source": [
    "from sklearn.ensemble import RandomForestClassifier\n",
    "\n",
    "params = rf_bo.max['params']\n",
    "\n",
    "slf = RandomForestClassifier(**params, n_estimators = 300, random_state = 42)\n",
    "\n",
    "tFD = timer()\n",
    "slf.fit(X, y)\n",
    "tSD = timer()"
   ]
  },
  {
   "cell_type": "code",
   "execution_count": null,
   "id": "b213e551",
   "metadata": {},
   "outputs": [],
   "source": [
    "print(\"Total fitting Random Forest time with default Scikit-learn: {} seconds\".format(tSD - tFD))"
   ]
  },
  {
   "cell_type": "code",
   "execution_count": null,
   "id": "a05b329a",
   "metadata": {},
   "outputs": [],
   "source": [
    "rf_speedup = round((tSD - tFD) / (tSO - tFO), 2)\n",
    "HTML(f'<h2>RandomForest speedup: {rf_speedup}x</h2>'\n",
    "     f'(from {round((tSD - tFD), 2)} to {round((tSO - tFO), 2)} seconds)')"
   ]
  },
  {
   "cell_type": "markdown",
   "id": "319b0515",
   "metadata": {},
   "source": [
    "# Prediction"
   ]
  },
  {
   "cell_type": "code",
   "execution_count": null,
   "id": "b8eb3b12",
   "metadata": {},
   "outputs": [],
   "source": [
    "predictions = slfOpt.predict(test_data)\n",
    "submission['target'] = predictions\n",
    "submission[:5]"
   ]
  },
  {
   "cell_type": "code",
   "execution_count": null,
   "id": "cc474552",
   "metadata": {},
   "outputs": [],
   "source": [
    "submission.to_csv(\"submission.csv\", index = False)"
   ]
  },
  {
   "cell_type": "markdown",
   "id": "e4dc5d59",
   "metadata": {},
   "source": [
    "# Conclusion"
   ]
  },
  {
   "cell_type": "markdown",
   "id": "595c53b6",
   "metadata": {},
   "source": [
    "**Intel® Extension for Scikit-learn** gives you opportunities to:\n",
    "* Use your Scikit-learn code for training and inference without modification.\n",
    "* Get speed up your kernel"
   ]
  },
  {
   "cell_type": "markdown",
   "id": "c404a45a",
   "metadata": {},
   "source": [
    "*Please upvote if you liked it.*"
   ]
  },
  {
   "cell_type": "markdown",
   "id": "36fbcae3",
   "metadata": {},
   "source": [
    "# Other notebooks with scikit-learn-intelex usage"
   ]
  },
  {
   "cell_type": "markdown",
   "id": "18177fa0",
   "metadata": {},
   "source": [
    "### [[predict sales] Stacking with scikit-learn-intelex](https://www.kaggle.com/alexeykolobyanin/predict-sales-stacking-with-scikit-learn-intelex)\n",
    "\n",
    "### [[TPS-Aug] NuSVR with Intel Extension for Sklearn](https://www.kaggle.com/alexeykolobyanin/tps-aug-nusvr-with-intel-extension-for-sklearn)\n",
    "\n",
    "### [Using scikit-learn-intelex for What's Cooking](https://www.kaggle.com/kppetrov/using-scikit-learn-intelex-for-what-s-cooking?scriptVersionId=58739642)\n",
    "\n",
    "### [Fast KNN using  scikit-learn-intelex for MNIST](https://www.kaggle.com/kppetrov/fast-knn-using-scikit-learn-intelex-for-mnist?scriptVersionId=58738635)\n",
    "\n",
    "### [Fast SVC using scikit-learn-intelex for MNIST](https://www.kaggle.com/kppetrov/fast-svc-using-scikit-learn-intelex-for-mnist?scriptVersionId=58739300)\n",
    "\n",
    "### [Fast SVC using scikit-learn-intelex for NLP](https://www.kaggle.com/kppetrov/fast-svc-using-scikit-learn-intelex-for-nlp?scriptVersionId=58739339)\n",
    "\n",
    "### [Fast AutoML with Intel Extension for Scikit-learn](https://www.kaggle.com/lordozvlad/fast-automl-with-intel-extension-for-scikit-learn)\n",
    "\n",
    "### [[Titanic] AutoML with Intel Extension for Sklearn](https://www.kaggle.com/lordozvlad/titanic-automl-with-intel-extension-for-sklearn)"
   ]
  }
 ],
 "metadata": {},
 "nbformat": 4,
 "nbformat_minor": 5
}
