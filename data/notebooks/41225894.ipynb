{
 "cells": [
  {
   "cell_type": "code",
   "execution_count": null,
   "id": "edf8cd99",
   "metadata": {},
   "outputs": [],
   "source": [
    "import pandas as pd\n",
    "import numpy as np\n",
    "import seaborn as sns \n",
    "import matplotlib.pyplot as plt\n",
    "\n",
    "data = pd.read_csv(\"/kaggle/input/titanic/train.csv\")\n",
    "\n",
    "data.columns"
   ]
  },
  {
   "cell_type": "code",
   "execution_count": null,
   "id": "668ec743",
   "metadata": {},
   "outputs": [],
   "source": [
    "data.info()"
   ]
  },
  {
   "cell_type": "code",
   "execution_count": null,
   "id": "62cb0408",
   "metadata": {},
   "outputs": [],
   "source": [
    "data.dtypes"
   ]
  },
  {
   "cell_type": "code",
   "execution_count": null,
   "id": "217e48f1",
   "metadata": {},
   "outputs": [],
   "source": [
    "data.describe()"
   ]
  },
  {
   "cell_type": "markdown",
   "id": "bce52247",
   "metadata": {},
   "source": [
    "# Percentage of missing values"
   ]
  },
  {
   "cell_type": "code",
   "execution_count": null,
   "id": "7bf3f6bc",
   "metadata": {},
   "outputs": [],
   "source": [
    "data.isnull().sum()"
   ]
  },
  {
   "cell_type": "code",
   "execution_count": null,
   "id": "16f81b1a",
   "metadata": {},
   "outputs": [],
   "source": [
    "get = data.isnull().sum()\n",
    "\n",
    "get[get>0]/len(data)*100"
   ]
  },
  {
   "cell_type": "markdown",
   "id": "5bcdd7ed",
   "metadata": {},
   "source": [
    "### by using plotly"
   ]
  },
  {
   "cell_type": "code",
   "execution_count": null,
   "id": "adaf5ba9",
   "metadata": {},
   "outputs": [],
   "source": [
    "import plotly.express as px\n",
    "name = [\"Age\",\"Cabin\",\"Embarked\"]\n",
    "value = [19.865320,77.104377,0.224467]\n",
    "# This dataframe has 244 lines, but 4 distinct values for `day`\n",
    "fig = px.pie(values=value, names=name,title='Percentage of missing values')\n",
    "fig.show()"
   ]
  },
  {
   "cell_type": "markdown",
   "id": "1a9d1725",
   "metadata": {},
   "source": [
    "# Dropping the irrelevant columns"
   ]
  },
  {
   "cell_type": "code",
   "execution_count": null,
   "id": "48856351",
   "metadata": {},
   "outputs": [],
   "source": [
    "data.drop(['PassengerId','Name','Ticket','Cabin'],axis=1,inplace=True)\n",
    "data.head(1)"
   ]
  },
  {
   "cell_type": "markdown",
   "id": "24b2f0bb",
   "metadata": {},
   "source": [
    "# Filling of Missing values"
   ]
  },
  {
   "cell_type": "code",
   "execution_count": null,
   "id": "fe30d083",
   "metadata": {},
   "outputs": [],
   "source": [
    "#Visualizing the missing values\n",
    "sns.heatmap(data.isnull())"
   ]
  },
  {
   "cell_type": "code",
   "execution_count": null,
   "id": "bfa08317",
   "metadata": {},
   "outputs": [],
   "source": [
    "import plotly.express as px\n",
    "\n",
    "fig = px.imshow(data.isnull())\n",
    "fig.show()"
   ]
  },
  {
   "cell_type": "code",
   "execution_count": null,
   "id": "8d89a6ab",
   "metadata": {},
   "outputs": [],
   "source": [
    "# Filling Missing values to \"Age\" Feature by using mode\n",
    "data[\"Age\"] = data[\"Age\"].fillna(data[\"Age\"].mode()[0])"
   ]
  },
  {
   "cell_type": "code",
   "execution_count": null,
   "id": "8c5f10b2",
   "metadata": {},
   "outputs": [],
   "source": [
    "# Filling Missing values to \"Embarked\" Feature by using mode\n",
    "data[\"Embarked\"] = data[\"Embarked\"].fillna(data[\"Embarked\"].mode()[0])"
   ]
  },
  {
   "cell_type": "code",
   "execution_count": null,
   "id": "a6eda4eb",
   "metadata": {},
   "outputs": [],
   "source": [
    "# print missing value of \"Age\" & \"Embarked\" Feature\n",
    "print(data[\"Age\"].isnull().sum(),data[\"Embarked\"].isnull().sum())"
   ]
  },
  {
   "cell_type": "code",
   "execution_count": null,
   "id": "ce474fea",
   "metadata": {},
   "outputs": [],
   "source": [
    "# visualize \"Age\" and \"Embarked\" feature by using Heatmap to see missing values\n",
    "lets_see = data[[\"Age\",\"Embarked\"]]\n",
    "sns.heatmap(lets_see.isnull())"
   ]
  },
  {
   "cell_type": "markdown",
   "id": "41493eb7",
   "metadata": {},
   "source": [
    "In the lines of code above, we checked the **data type, missing values, and drop some irrelevant columns, and filled missing values with the most frequent(mode) values of the columns(Age, Embarked).**"
   ]
  },
  {
   "cell_type": "markdown",
   "id": "08f9bde8",
   "metadata": {},
   "source": [
    "# Outliers Identification"
   ]
  },
  {
   "cell_type": "markdown",
   "id": "8d81c7bc",
   "metadata": {},
   "source": [
    "There are different ways and methods of identifying outliers, but we are only going to use some of the most popular techniques:\n",
    "\n",
    "- Visualization\n",
    "- Skewness\n",
    "- Interquartile Range\n",
    "- Standard Deviation"
   ]
  },
  {
   "cell_type": "markdown",
   "id": "8554fafe",
   "metadata": {},
   "source": [
    "# 1. Visualization\n",
    "Outliers can be detected using different visualization methods, we are going to use :\n",
    "\n",
    "- Boxplot\n",
    "- Histogram"
   ]
  },
  {
   "cell_type": "markdown",
   "id": "ebc2da78",
   "metadata": {},
   "source": [
    "# Boxplot\n",
    "boxplot is a visualization tool for identifying outliers, it displays the distribution of statistical observations, its body is classified into four parts; the lowest and the highest(minimum and maximum), the 25 percentile(first quartile(Q1)), the median(50th percentile), the 75th percentile(third quartile(Q3)).m"
   ]
  },
  {
   "cell_type": "markdown",
   "id": "11295f68",
   "metadata": {},
   "source": [
    "outliers appears above or below the minimum and maximum of the boxplot."
   ]
  },
  {
   "cell_type": "markdown",
   "id": "4c9ecd8a",
   "metadata": {},
   "source": [
    "![BoxPlotPreview](https://miro.medium.com/v2/resize:fit:636/format:webp/1*n_2_Icep644OkokWg0UIxQ.png)"
   ]
  },
  {
   "cell_type": "markdown",
   "id": "60a277c0",
   "metadata": {},
   "source": [
    "the line of code below plots the boxplot of the ‘Fare’ variable."
   ]
  },
  {
   "cell_type": "code",
   "execution_count": null,
   "id": "c1f54162",
   "metadata": {},
   "outputs": [],
   "source": [
    "sns.boxplot(data[\"Fare\"])"
   ]
  },
  {
   "cell_type": "code",
   "execution_count": null,
   "id": "083489a3",
   "metadata": {},
   "outputs": [],
   "source": [
    "import plotly.express as px\n",
    "df = px.data.tips()\n",
    "fig = px.box(data, y=\"Fare\")\n",
    "fig.show()"
   ]
  },
  {
   "cell_type": "markdown",
   "id": "4fcb661d",
   "metadata": {},
   "source": [
    "from the boxplot above, the black circular points which are indicated by an arrow show the presence of extreme values in the variable."
   ]
  },
  {
   "cell_type": "markdown",
   "id": "e70a90b9",
   "metadata": {},
   "source": [
    "# Histogram\n",
    "To visualize the distribution of a numerical variable, a histogram shows the direction in which these variables are distributed, outliers will appear outside the overall distribution of the data. if the histogram is right-skewed or left-skewed, it indicates the presence of extreme values or outliers."
   ]
  },
  {
   "cell_type": "markdown",
   "id": "ceec0054",
   "metadata": {},
   "source": [
    "![histo](https://miro.medium.com/v2/resize:fit:518/format:webp/1*F3Nb8vhhxP2VdUy8ehDWaw.png)"
   ]
  },
  {
   "cell_type": "markdown",
   "id": "8effb1d7",
   "metadata": {},
   "source": [
    "the code below plots the histogram of the ‘Fare’ variable."
   ]
  },
  {
   "cell_type": "code",
   "execution_count": null,
   "id": "41040ca1",
   "metadata": {},
   "outputs": [],
   "source": [
    "data['Fare'].hist()"
   ]
  },
  {
   "cell_type": "code",
   "execution_count": null,
   "id": "7e5f1bb5",
   "metadata": {},
   "outputs": [],
   "source": [
    "import plotly.express as px\n",
    "fig = px.histogram(data, x=\"Fare\")\n",
    "fig.show()"
   ]
  },
  {
   "cell_type": "markdown",
   "id": "8145f27d",
   "metadata": {},
   "source": [
    "from the histogram above, the histogram appears to be distributed to the left, this also indicates the presence of outliers."
   ]
  },
  {
   "cell_type": "markdown",
   "id": "8941d756",
   "metadata": {},
   "source": [
    "# 2. Skewness\n",
    "\n",
    "the skewness value should be within the range of -1 to 1 for a normal distribution, any major changes from this value may indicate the presence of outliers."
   ]
  },
  {
   "cell_type": "markdown",
   "id": "535e67f6",
   "metadata": {},
   "source": [
    "the code below prints the skewness value of the ‘Fare’ variable."
   ]
  },
  {
   "cell_type": "code",
   "execution_count": null,
   "id": "d7c3c5bd",
   "metadata": {},
   "outputs": [],
   "source": [
    "print('skewness value of Age: ',data['Age'].skew())\n",
    "print('skewness value of Fare: ',data['Fare'].skew())"
   ]
  },
  {
   "cell_type": "code",
   "execution_count": null,
   "id": "0b156b2d",
   "metadata": {},
   "outputs": [],
   "source": [
    "positive  = pd.Series([1.0,2.0,3.0,4.0,100.0])\n",
    "print('skewness positive: ',positive.skew())\n",
    "\n",
    "negative  = pd.Series([-10.0,-9.0,-8.0,-7.0,-1.0])\n",
    "print('skewness Negative : ',negative.skew())"
   ]
  },
  {
   "cell_type": "code",
   "execution_count": null,
   "id": "249d77a0",
   "metadata": {},
   "outputs": [],
   "source": [
    "plt.hist([1.0,2.0,3.0,4.0,100.0])\n",
    "# Add a title\n",
    "plt.title(\"Positive Sewness\")"
   ]
  },
  {
   "cell_type": "code",
   "execution_count": null,
   "id": "67ee593d",
   "metadata": {},
   "outputs": [],
   "source": [
    "plt.hist([-10.0,-9.0,-8.0,-7.0,-1.0])\n",
    "# Add a title\n",
    "plt.title(\"Negative Sewness\")"
   ]
  },
  {
   "cell_type": "code",
   "execution_count": null,
   "id": "5af00b4f",
   "metadata": {},
   "outputs": [],
   "source": [
    "plt.hist(data[\"Age\"])\n",
    "# Add a title\n",
    "plt.title(\"symetric Sewness\")"
   ]
  },
  {
   "cell_type": "markdown",
   "id": "f41499c1",
   "metadata": {},
   "source": [
    "![ok](data:image/jpeg;base64,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)"
   ]
  },
  {
   "cell_type": "markdown",
   "id": "430cd37b",
   "metadata": {},
   "source": [
    "the skewness value should be within the range of -1 to 1 for a normal distribution, any major changes from this value indicates the presence of extreme value or outlier.\n",
    "\n",
    "from the code above, the ‘Fare’ skewness value of 4.78 shows the variable has been rightly skewed, indicating the presence of outliers."
   ]
  },
  {
   "cell_type": "markdown",
   "id": "22d63c32",
   "metadata": {},
   "source": [
    "# 3. Interquartile Range(IQR)\n",
    "\n",
    "The interquartile range is a measure of statistical dispersion and is calculated as the difference between 75th and 25th percentiles. the Quartiles divide the data set into four equal parts. The values that separate parts are called the first, second, and third quartiles."
   ]
  },
  {
   "cell_type": "markdown",
   "id": "418302db",
   "metadata": {},
   "source": [
    "![IQR](https://miro.medium.com/v2/resize:fit:640/format:webp/0*VwJg7xtr-H2Iox5r.jpg)"
   ]
  },
  {
   "cell_type": "markdown",
   "id": "cfef4526",
   "metadata": {},
   "source": [
    "this code shows the interquartile range value of the ‘Fare’ variable."
   ]
  },
  {
   "cell_type": "code",
   "execution_count": null,
   "id": "09b21e7e",
   "metadata": {},
   "outputs": [],
   "source": [
    "Q1=data['Fare'].quantile(0.25)\n",
    "Q3=data['Fare'].quantile(0.75)\n",
    "IQR=Q3-Q1\n",
    "IQR"
   ]
  },
  {
   "cell_type": "markdown",
   "id": "0c8f674a",
   "metadata": {},
   "source": [
    "the code below prints the outliers and sets the 25th and 75th percentile of the ‘Fare’ variable respectively which will also be used in flooring and capping in the outliers treatment process."
   ]
  },
  {
   "cell_type": "code",
   "execution_count": null,
   "id": "9012114d",
   "metadata": {},
   "outputs": [],
   "source": [
    "Q1 = data['Fare'].quantile(0.25)\n",
    "Q3 = data['Fare'].quantile(0.75)\n",
    "IQR = Q3 - Q1\n",
    "whisker_width = 1.5\n",
    "Fare_outliers = data[(data['Fare'] < Q1 - whisker_width*IQR) | (data['Fare'] > Q3 + whisker_width*IQR)]\n",
    "Fare_outliers.head()"
   ]
  },
  {
   "cell_type": "markdown",
   "id": "6b67b5d2",
   "metadata": {},
   "source": [
    "# 4. Standard Deviation\n",
    "Standard deviation measures the amount of variation and dispersion of a set of values relative to the average value of the data, it shows the variability distribution of the data.\n",
    "\n",
    "A high standard deviation indicates that the values are highly dispersed while a low standard deviation indicates that the variation or dispersion of the values is low."
   ]
  },
  {
   "cell_type": "markdown",
   "id": "7732bfef",
   "metadata": {},
   "source": [
    "![std](https://miro.medium.com/v2/resize:fit:636/format:webp/1*V7QMkcunIei1vODXRDCr1A.png)"
   ]
  },
  {
   "cell_type": "markdown",
   "id": "47f662a6",
   "metadata": {},
   "source": [
    "the code below prints the outliers"
   ]
  },
  {
   "cell_type": "code",
   "execution_count": null,
   "id": "2e067780",
   "metadata": {},
   "outputs": [],
   "source": [
    "fare_mean = data['Fare'].mean()\n",
    "fare_std = data['Fare'].std()\n",
    "low= fare_mean -(3 * fare_std)\n",
    "high= fare_mean + (3 * fare_std)\n",
    "fare_outliers = data[(data['Fare'] < low) | (data['Fare'] > high)]\n",
    "fare_outliers.head()"
   ]
  },
  {
   "cell_type": "markdown",
   "id": "deb1f8d2",
   "metadata": {},
   "source": [
    "# Outliers Treatment\n",
    "\n",
    "- Flooring and Capping.\n",
    "- Trimming.\n",
    "- Replacing outliers with the mean, median, mode, or other values."
   ]
  },
  {
   "cell_type": "markdown",
   "id": "98581355",
   "metadata": {},
   "source": [
    "# Flooring And Capping\n",
    "in this quantile-based technique, we will do the flooring(e.g 25th percentile) for the lower values and capping(e.g for the 75th percentile) for the higher values. These percentile values will be used for the quantile-based flooring and capping.\n",
    "\n",
    "the code below drops the outliers by removing all the values that are below the 25th percentile and above the 75th percentile of the ‘Fare’ variable."
   ]
  },
  {
   "cell_type": "code",
   "execution_count": null,
   "id": "672f75dc",
   "metadata": {},
   "outputs": [],
   "source": [
    "Q1 = data['Fare'].quantile(0.25)\n",
    "Q3 = data['Fare'].quantile(0.75)\n",
    "IQR = Q3 - Q1\n",
    "whisker_width = 1.5\n",
    "lower_whisker = Q1 -(whisker_width*IQR)\n",
    "upper_whisker = Q3 + (whisker_width*IQR)\n",
    "data['Fare']=np.where(data['Fare']>upper_whisker,upper_whisker,np.where(data['Fare']<lower_whisker,lower_whisker,data['Fare']))"
   ]
  },
  {
   "cell_type": "markdown",
   "id": "1ebedf30",
   "metadata": {},
   "source": [
    "# Replace outliers by mode"
   ]
  },
  {
   "cell_type": "code",
   "execution_count": null,
   "id": "19dd97c4",
   "metadata": {},
   "outputs": [],
   "source": [
    "# mode = df['Fare'].mode()\n",
    "\n",
    "# Replace any values in the Fare column that are greater than the upper whisker with the mode\n",
    "# df['Fare'] = np.where(df['Fare'] > upper_whisker, mode, df['Fare'])\n",
    "\n",
    "# Replace any values in the Fare column that are less than the lower whisker with the mode\n",
    "# df['Fare'] = np.where(df['Fare'] < lower_whisker, mode, df['Fare'])"
   ]
  },
  {
   "cell_type": "markdown",
   "id": "8b173e1b",
   "metadata": {},
   "source": [
    "we can now use the boxplot or other outliers identification method to check if there is still the presence of outliers.\n",
    "\n",
    "the boxplot below shows no presence of outliers."
   ]
  },
  {
   "cell_type": "code",
   "execution_count": null,
   "id": "5d95df3c",
   "metadata": {},
   "outputs": [],
   "source": [
    "sns.boxplot(data['Fare'])"
   ]
  },
  {
   "cell_type": "markdown",
   "id": "e5f0e291",
   "metadata": {},
   "source": [
    "we now compare the two boxplots with the one before and after the treatment of the outliers."
   ]
  },
  {
   "cell_type": "markdown",
   "id": "34b1900d",
   "metadata": {},
   "source": [
    "# Trimming\n",
    "\n",
    "in this method, we removed and completely drop all the outliers, the line of code below creates an index for all data points and drop the index values."
   ]
  },
  {
   "cell_type": "code",
   "execution_count": null,
   "id": "ed353937",
   "metadata": {},
   "outputs": [],
   "source": [
    "Q1 = data['Fare'].quantile(0.10)\n",
    "Q3 = data['Fare'].quantile(0.90)\n",
    "IQR = Q3 - Q1\n",
    "whisker_width = 1.5\n",
    "lower_whisker = Q1 - (whisker_width*IQR)\n",
    "upper_whisker = Q3 + (whisker_width*IQR)\n",
    "index=data['Fare'][(data['Fare']>upper_whisker)|(data['Fare']<lower_whisker)].index\n",
    "data.drop(index,inplace=True)"
   ]
  },
  {
   "cell_type": "code",
   "execution_count": null,
   "id": "37ccf763",
   "metadata": {},
   "outputs": [],
   "source": [
    "sns.boxplot(data['Fare'])"
   ]
  },
  {
   "cell_type": "code",
   "execution_count": null,
   "id": "fe4dcf16",
   "metadata": {},
   "outputs": [],
   "source": [
    "# Create a box plot of the Age column\n",
    "sns.boxplot(data[\"Age\"], color=\"orange\")\n",
    "\n",
    "# Add a title\n",
    "plt.title(\"Age Distribution\")"
   ]
  },
  {
   "cell_type": "markdown",
   "id": "30a9b92e",
   "metadata": {},
   "source": [
    "#Replacing Outliers With The Mean, Median, Mode, or other Values\n",
    "\n",
    "in this technique, we replace the extreme values with the mode value, you can use median or mean value but it is advised not to use the mean values because it is highly susceptible to outliers."
   ]
  },
  {
   "cell_type": "markdown",
   "id": "c091af56",
   "metadata": {},
   "source": [
    "# More About Skewed Distributions"
   ]
  },
  {
   "cell_type": "markdown",
   "id": "ab994dfc",
   "metadata": {},
   "source": [
    "Here are the differences between mean, median, and mode for right, left, and symmetric skew distributions in simple text form:\n",
    "\n",
    "# Mean\n",
    "The mean is the average of all the data points in a distribution.\n",
    "\n",
    "In a **right-skewed distribution**, the mean is greater than the median and the mode. This is because there are a few data points that are much larger than the rest of the data. These few data points pull the mean towards the right side of the distribution.\n",
    "\n",
    "In a **left-skewed distribution**, the mean is less than the median and the mode. This is because there are a few data points that are much smaller than the rest of the data. These few data points pull the mean towards the left side of the distribution.\n",
    "\n",
    "In a **symmetric distribution**, the mean is equal to the median and the mode. This is because the data points are evenly distributed on either side of the middle value.\n",
    "\n",
    "# Median\n",
    "The median is the middle value of a distribution when the data points are arranged in increasing order.\n",
    "\n",
    "In a **right-skewed distribution**, the median is equal to the mean. This is because the mean is pulled towards the right side of the distribution by the few large data points. So, the median is also pulled towards the right side of the distribution.\n",
    "\n",
    "In a **left-skewed distribution**, the median is also equal to the mean. This is because the mean is pulled towards the left side of the distribution by the few small data points. So, the median is also pulled towards the left side of the distribution.\n",
    "\n",
    "In a **symmetric distribution**, the median is equal to the mean and the mode because the data points are evenly distributed on either side of the middle value. So, the median is also equal to the middle value.\n",
    "\n",
    "# Mode\n",
    "The mode is the most frequent data point in a distribution.\n",
    "\n",
    "In a **right-skewed distribution***, the mode is less than the median. This is because the few large data points pull the distribution towards the right. So, the most frequent data point is also pulled towards the right.\n",
    "\n",
    "In a **left-skewed distribution**, the mode is greater than the median. This is because the few small data points pull the distribution towards the left. So, the most frequent data point is also pulled towards the left.\n",
    "\n",
    "In a **symmetric distribution**, the mode is equal to the median and the mean because the data points are evenly distributed on either side of the middle value. So, the most frequent data point is also equal to the middle value."
   ]
  },
  {
   "cell_type": "code",
   "execution_count": null,
   "id": "23adcd87",
   "metadata": {},
   "outputs": [],
   "source": [
    "nan"
   ]
  }
 ],
 "metadata": {},
 "nbformat": 4,
 "nbformat_minor": 5
}
