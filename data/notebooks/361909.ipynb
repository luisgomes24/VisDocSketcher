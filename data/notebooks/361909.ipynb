{
 "cells": [
  {
   "cell_type": "markdown",
   "id": "9ce0daf4",
   "metadata": {},
   "source": [
    "# PSG - Qatar Version\n",
    "* **1 Load and check data**\n",
    "* **2 Bet status**\n",
    "* **3 PSG Qatar version**  "
   ]
  },
  {
   "cell_type": "markdown",
   "id": "b5c6d472",
   "metadata": {},
   "source": [
    "## 2. Load and check data"
   ]
  },
  {
   "cell_type": "code",
   "execution_count": null,
   "id": "4587995b",
   "metadata": {},
   "outputs": [],
   "source": [
    "import pandas as pd\n",
    "import numpy as np\n",
    "import matplotlib.pyplot as plt\n",
    "import seaborn as sns\n",
    "import sqlite3\n",
    "from sklearn.metrics import accuracy_score\n",
    "import warnings\n",
    "\n",
    "%matplotlib inline\n",
    "warnings.filterwarnings('ignore')\n",
    "sns.set(style='whitegrid', context='notebook', palette='deep')\n",
    "np.random.seed(2)\n",
    "\n",
    "con = sqlite3.connect(\"../input/database.sqlite\")\n",
    "matches = pd.read_sql_query(\"SELECT * FROM Match;\",con)\n",
    "teams = pd.read_sql_query(\"SELECT * FROM Team;\",con)\n",
    "#leagues = pd.read_sql_query(\"SELECT * FROM League;\",con)\n",
    "countries = pd.read_sql_query(\"SELECT * FROM Country;\",con)\n",
    "\n",
    "matches.head()"
   ]
  },
  {
   "cell_type": "code",
   "execution_count": null,
   "id": "53e55c16",
   "metadata": {},
   "outputs": [],
   "source": [
    "matches = matches.drop(labels = ['home_player_X1','home_player_X2','home_player_X3',\n",
    "                       'home_player_X4','home_player_X5','home_player_X6',\n",
    "                       'home_player_X7','home_player_X8','home_player_X9',\n",
    "                       'home_player_X10','home_player_X11',\n",
    "                       'home_player_Y1','home_player_Y2','home_player_Y3',\n",
    "                       'home_player_Y4','home_player_Y5','home_player_Y6',\n",
    "                       'home_player_Y7','home_player_Y8','home_player_Y9',\n",
    "                       'home_player_Y10','home_player_Y11','home_player_1',\n",
    "                       'home_player_2','home_player_3','home_player_4',\n",
    "                       'home_player_5','home_player_6','home_player_7',\n",
    "                       'home_player_8','home_player_9','home_player_10',\n",
    "                       'home_player_11','away_player_X1','away_player_X2',\n",
    "                       'away_player_X3','away_player_X4',\n",
    "                       'away_player_X5','away_player_X6','away_player_X7',\n",
    "                       'away_player_X8','away_player_X9','away_player_X10',\n",
    "                       'away_player_X11','away_player_Y2','away_player_Y3',\n",
    "                       'away_player_Y4','away_player_Y5','away_player_Y6',\n",
    "                       'away_player_Y7','away_player_Y1',\n",
    "                       'away_player_Y8','away_player_Y9','away_player_Y10',\n",
    "                       'away_player_Y11','away_player_1',\n",
    "                       'away_player_2','away_player_3','away_player_4',\n",
    "                       'away_player_5','away_player_6','away_player_7',\n",
    "                       'away_player_8','away_player_9','away_player_10',\n",
    "                       'away_player_11'],axis = 1)\n",
    "matches = matches.drop(labels = ['goal','shoton','shotoff','foulcommit','card','cross','corner','possession'],axis = 1)\n",
    "matches = matches.drop(labels = ['GBH','GBD','GBA','BSH','BSD','BSA','SJH','SJD','SJA','PSH','PSD','PSA'],axis = 1)\n",
    "matches = matches.dropna(axis = 0).reset_index(drop=True)\n",
    "\n",
    "matches.isnull().sum()"
   ]
  },
  {
   "cell_type": "code",
   "execution_count": null,
   "id": "d01c5e0b",
   "metadata": {},
   "outputs": [],
   "source": [
    "matches.shape"
   ]
  },
  {
   "cell_type": "markdown",
   "id": "130897bc",
   "metadata": {},
   "source": [
    "## 3. Bet status"
   ]
  },
  {
   "cell_type": "code",
   "execution_count": null,
   "id": "a74df3a5",
   "metadata": {},
   "outputs": [],
   "source": [
    "matches = matches.merge(countries,left_on=\"league_id\",right_on=\"id\")\n",
    "matches = matches.drop(labels = [\"id_y\",\"league_id\",\"country_id\"],axis=1)\n",
    "matches = matches.rename(columns={'name':'league_country'})\n",
    "matches[\"result\"] = (matches[\"home_team_goal\"] - matches[\"away_team_goal\"]).map(\n",
    "         lambda s : 0 if s > 0 else 1 if s == 0 else 2 )\n",
    "\n",
    "matches[\"B365\"] = np.argmin(matches[[\"B365H\",\"B365D\",\"B365A\"]].values,axis = 1)\n",
    "matches[\"BW\"] = np.argmin(matches[[\"BWH\",\"BWD\",\"BWA\"]].values,axis = 1)\n",
    "matches[\"IW\"] = np.argmin(matches[[\"IWH\",\"IWD\",\"IWA\"]].values,axis = 1)\n",
    "matches[\"LB\"] = np.argmin(matches[[\"LBH\",\"LBD\",\"LBA\"]].values,axis = 1)\n",
    "matches[\"WH\"] = np.argmin(matches[[\"WHH\",\"WHD\",\"WHA\"]].values,axis = 1)\n",
    "matches[\"VC\"] = np.argmin(matches[[\"VCH\",\"VCD\",\"VCA\"]].values,axis = 1)"
   ]
  },
  {
   "cell_type": "code",
   "execution_count": null,
   "id": "2f611457",
   "metadata": {},
   "outputs": [],
   "source": [
    "accuracy_score(matches[\"result\"],matches[\"B365\"])"
   ]
  },
  {
   "cell_type": "code",
   "execution_count": null,
   "id": "96d22774",
   "metadata": {},
   "outputs": [],
   "source": [
    "accuracy_score(matches[\"result\"],matches[\"BW\"])"
   ]
  },
  {
   "cell_type": "code",
   "execution_count": null,
   "id": "68b3fcc2",
   "metadata": {},
   "outputs": [],
   "source": [
    "accuracy_score(matches[\"result\"],matches[\"IW\"])"
   ]
  },
  {
   "cell_type": "code",
   "execution_count": null,
   "id": "f313ca49",
   "metadata": {},
   "outputs": [],
   "source": [
    "accuracy_score(matches[\"result\"],matches[\"LB\"])"
   ]
  },
  {
   "cell_type": "code",
   "execution_count": null,
   "id": "46a5ef2b",
   "metadata": {},
   "outputs": [],
   "source": [
    "accuracy_score(matches[\"result\"],matches[\"WH\"])"
   ]
  },
  {
   "cell_type": "code",
   "execution_count": null,
   "id": "406b9bf4",
   "metadata": {},
   "outputs": [],
   "source": [
    "accuracy_score(matches[\"result\"],matches[\"VC\"])"
   ]
  },
  {
   "cell_type": "code",
   "execution_count": null,
   "id": "e5f4f34d",
   "metadata": {},
   "outputs": [],
   "source": [
    "# Compute accuracy in each group in the groupby pandas objects\n",
    "def acc_group(y_true_desc,y_pred_desc):\n",
    "    def inner(group):\n",
    "        return accuracy_score(group[y_true_desc],group[y_pred_desc])\n",
    "    inner.__name__ = 'acc_group'\n",
    "    return inner\n",
    "\n",
    "matches.groupby(\"league_country\").apply(acc_group(\"result\",\"B365\"))\n",
    "league_seasons_accuracies = matches.groupby((\"league_country\",\"season\")).apply(acc_group(\"result\",\"B365\"))\n",
    "league_seasons_accuracies = league_seasons_accuracies.reset_index()\n",
    "league_seasons_accuracies = league_seasons_accuracies.rename(columns={0:'accuracy'})\n",
    "\n",
    "selected_countries = [\"France\",\"Spain\",\"England\",\"Germany\",\"Italy\"]\n",
    "\n",
    "Five_leagues = league_seasons_accuracies[league_seasons_accuracies['league_country'].isin(selected_countries)]\n",
    "\n",
    "g = sns.factorplot(x=\"season\",y=\"accuracy\",hue=\"league_country\",data=Five_leagues,size=6,aspect=1.5)\n",
    "g.set_xticklabels(rotation=45)\n",
    "sns.plt.suptitle('Bet 365 accuracy for the 5 biggest soccer leagues')"
   ]
  },
  {
   "cell_type": "markdown",
   "id": "8e841887",
   "metadata": {},
   "source": [
    "So, the french league (Ligue 1) seems to be the less predictable, followed by the German league (Bundesliga).\n",
    "The Spanish league (La Liga) is the most predictable. "
   ]
  },
  {
   "cell_type": "markdown",
   "id": "8effcad7",
   "metadata": {},
   "source": [
    "## 4. PSG Qatar version"
   ]
  },
  {
   "cell_type": "code",
   "execution_count": null,
   "id": "c51aa2e3",
   "metadata": {},
   "outputs": [],
   "source": [
    "PSG_id = teams.loc[teams[\"team_short_name\"] == 'PSG','team_api_id'].ravel()[0]\n",
    "PSG_games = matches.loc[((matches[\"home_team_api_id\"] == PSG_id) | (matches[\"away_team_api_id\"] == PSG_id))]\n",
    "PSG_games[\"date\"] = pd.to_datetime(PSG_games[\"date\"])\n",
    "seasons = list(PSG_games[\"season\"].unique())\n",
    "PSG_games[\"season\"] = pd.to_numeric(PSG_games[\"season\"].map(lambda s: s.split(\"/\")[0]))\n",
    "\n",
    "PSG_goals = []\n",
    "Opp_goals = []\n",
    "for team_home, hg, ag in PSG_games[[\"home_team_api_id\",\"home_team_goal\",\"away_team_goal\"]].values:\n",
    "    if team_home == PSG_id:\n",
    "        PSG_goals.append(hg)\n",
    "        Opp_goals.append(ag)\n",
    "    else :\n",
    "        PSG_goals.append(ag)\n",
    "        Opp_goals.append(hg)\n",
    "\n",
    "PSG_games[\"PSG_goals\"] = PSG_goals\n",
    "PSG_games[\"Opp_goals\"] = Opp_goals\n",
    "\n",
    "# 0 for win , 1 Draw and 2 for loss\n",
    "PSG_games[\"PSG_result\"] = (PSG_games[\"PSG_goals\"] - PSG_games[\"Opp_goals\"]).map(\n",
    "         lambda s : 0 if s > 0 else 1 if s == 0 else 2)\n",
    "\n",
    "PSG_games['Investor'] = PSG_games[\"season\"].map(lambda s: 'Qatar' if s>=2011 else 'Other')\n",
    "results_counts = (PSG_games.groupby(['Investor'])['PSG_result']\n",
    "                     .value_counts(normalize=True)\n",
    "                     .rename('percentage')\n",
    "                     .mul(100)\n",
    "                     .reset_index())\n",
    "\n",
    "sns.set_style(\"darkgrid\")\n",
    "p = sns.barplot(x=\"PSG_result\", y=\"percentage\", hue=\"Investor\", data=results_counts,alpha=0.7)\n",
    "p.set_ylabel(\"Percentage\")\n",
    "p = p.set_xticklabels([\"Win\",\"Draw\",\"Loss\"])"
   ]
  },
  {
   "cell_type": "markdown",
   "id": "a9662121",
   "metadata": {},
   "source": [
    "The Qatari investments make an important difference. PSG won almost 70% of their games since 2011 !!"
   ]
  },
  {
   "cell_type": "code",
   "execution_count": null,
   "id": "0c4fc304",
   "metadata": {},
   "outputs": [],
   "source": [
    "fig,axs = plt.subplots(1,2,figsize=(8,5))\n",
    "g = sns.barplot(y=\"PSG_goals\",x=\"Investor\", data=PSG_games,ax=axs[0],alpha=0.7)\n",
    "g.set_ylabel(\"Goals/game\")\n",
    "g = sns.barplot(y=\"Opp_goals\",x=\"Investor\", data=PSG_games,ax=axs[1],alpha=0.7)\n",
    "g.set_ylabel(\"Goals conceded /game\")\n",
    "plt.tight_layout()\n",
    "plt.show()\n",
    "plt.gcf().clear()"
   ]
  },
  {
   "cell_type": "markdown",
   "id": "5deee948",
   "metadata": {},
   "source": [
    "Since Qatari investments , PSG scores more than 2 goals / games and concedes less than 1 goal/games ! "
   ]
  },
  {
   "cell_type": "code",
   "execution_count": null,
   "id": "082d5cc6",
   "metadata": {},
   "outputs": [],
   "source": [
    "#Victory_series :\n",
    "def get_best_streak(PSG_results,result_match):\n",
    "    best_streak = 0\n",
    "    max_streak = 0\n",
    "    for i in PSG_results:\n",
    "        if best_streak > max_streak:\n",
    "            max_streak = best_streak\n",
    "        \n",
    "        if i in result_match:\n",
    "            best_streak += 1\n",
    "        else :\n",
    "            best_streak = 0\n",
    "    return max_streak\n",
    "# 0 == Win , 1 == Draw, 2 == Loss\n",
    "PSG_streaks = []\n",
    "PSG_streaks.append(get_best_streak(PSG_games[\"PSG_result\"],result_match=[0,1]))\n",
    "PSG_streaks.append(get_best_streak(PSG_games[\"PSG_result\"],result_match=[0]))\n",
    "PSG_streaks.append(get_best_streak(PSG_games[\"PSG_result\"],result_match=[2,1]))\n",
    "PSG_streaks.append(get_best_streak(PSG_games[\"PSG_result\"],result_match=[2]))\n",
    "\n",
    "PSG_streaks.append(get_best_streak(PSG_games.loc[PSG_games[\"Investor\"] == \"Qatar\",\"PSG_result\"],result_match=[0,1]))\n",
    "PSG_streaks.append(get_best_streak(PSG_games.loc[PSG_games[\"Investor\"] == \"Qatar\",\"PSG_result\"],result_match=[0]))\n",
    "PSG_streaks.append(get_best_streak(PSG_games.loc[PSG_games[\"Investor\"] == \"Qatar\",\"PSG_result\"],result_match=[2,1]))\n",
    "PSG_streaks.append(get_best_streak(PSG_games.loc[PSG_games[\"Investor\"] == \"Qatar\",\"PSG_result\"],result_match=[2]))\n",
    "\n",
    "PSG_streaks.append(get_best_streak(PSG_games.loc[PSG_games[\"Investor\"] != \"Qatar\",\"PSG_result\"],result_match=[0,1]))\n",
    "PSG_streaks.append(get_best_streak(PSG_games.loc[PSG_games[\"Investor\"] != \"Qatar\",\"PSG_result\"],result_match=[0]))\n",
    "PSG_streaks.append(get_best_streak(PSG_games.loc[PSG_games[\"Investor\"] != \"Qatar\",\"PSG_result\"],result_match=[2,1]))\n",
    "PSG_streaks.append(get_best_streak(PSG_games.loc[PSG_games[\"Investor\"] != \"Qatar\",\"PSG_result\"],result_match=[2]))\n",
    "\n",
    "Investors = [\"All\"]*4\n",
    "Investors.extend([\"Qatar\"]*4)\n",
    "Investors.extend([\"Other\"]*4)\n",
    "Streak_type = [\"Undefeat_streak\",\"Winning_streak\",\"Nowin_streak\",\"Loss_streak\"]*3\n",
    "\n",
    "PSG_streaks = pd.DataFrame({'Investor':Investors,'PSG_streak':PSG_streaks,'Streak_type':Streak_type})\n",
    "\n",
    "g = sns.barplot(x=\"Streak_type\",hue=\"Investor\",y=\"PSG_streak\",data=PSG_streaks,alpha=0.8,saturation=1)\n",
    "g.set_ylabel(\"Games\")\n",
    "g = g.set_xticklabels([\"Undefeat streak\",\"Winning streak\",\"No winning streak\",\"Losing streak\"])"
   ]
  },
  {
   "cell_type": "markdown",
   "id": "6ac80cae",
   "metadata": {},
   "source": [
    "- Longest winning run in Ligue 1: 10 matches . During the Qatari period.\n",
    "- Longest unbeaten run in Ligue 1: 36 matches. During the Qatari period.\n",
    "- Longest no winning run in Ligue 1: 6 matches. Outside the Qatari period.\n",
    "- Longest losing run in Ligue 1: 4 matches. Outside the Qatari period."
   ]
  },
  {
   "cell_type": "code",
   "execution_count": null,
   "id": "f9bd384e",
   "metadata": {},
   "outputs": [],
   "source": [
    "colors = ['r','r','r','g','g','g','g','g']\n",
    "g = sns.barplot(y=\"PSG_goals\",x=\"season\", data=PSG_games,estimator=sum,palette=sns.color_palette(colors),\n",
    "                label='Before Quatar',saturation=1,alpha=0.7,ci=0)\n",
    "g.set_ylabel(\"Goals / season\")\n",
    "g.set_xticklabels(seasons,rotation = 45)\n",
    "g.legend()"
   ]
  },
  {
   "cell_type": "markdown",
   "id": "54d63f3a",
   "metadata": {},
   "source": [
    "PSG scores a lot more goals per seasons since the Qatar investments.\n",
    "The PSG 2015/2016 season is the french record of scored goals (102 goals scored)."
   ]
  },
  {
   "cell_type": "code",
   "execution_count": null,
   "id": "19992df2",
   "metadata": {},
   "outputs": [],
   "source": [
    "g = sns.barplot(y=\"Opp_goals\",x=\"season\", data=PSG_games,estimator=sum,palette=sns.color_palette(colors),\n",
    "                label='Before Quatar',saturation=1,alpha=0.7,ci=0)\n",
    "g.set_ylabel(\"Goals conceded / season\")\n",
    "g.set_xticklabels(seasons,rotation = 45)\n",
    "g.legend()"
   ]
  },
  {
   "cell_type": "markdown",
   "id": "379dcadc",
   "metadata": {},
   "source": [
    "PSG concedes much less goals per seasons since the Qatar investments.\n",
    "The PSG 2015/2016 season is the french record (19 goals conceded)."
   ]
  },
  {
   "cell_type": "code",
   "execution_count": null,
   "id": "699d6987",
   "metadata": {},
   "outputs": [],
   "source": [
    "PSG_bets = PSG_games.groupby((\"season\",\"Investor\")).apply(acc_group(\"result\",\"B365\"))\n",
    "\n",
    "PSG_bets = PSG_bets.reset_index()\n",
    "PSG_bets = PSG_bets.rename(columns={0:'accuracy'})\n",
    "\n",
    "g = sns.factorplot(x='season',y=\"accuracy\",hue=\"Investor\",data=PSG_bets,size=5,aspect=1.5)\n",
    "g.set_xticklabels(seasons,rotation = 45)\n",
    "g = sns.plt.suptitle('Bet 365 accuracy of PSG games')"
   ]
  },
  {
   "cell_type": "markdown",
   "id": "3605d1b3",
   "metadata": {},
   "source": [
    "Since the qatari investments, it is better for you to bet on PSG. The team results are much more reliable. Bet365 had 80% of accuracy during the season 2015/2016 !!"
   ]
  }
 ],
 "metadata": {},
 "nbformat": 4,
 "nbformat_minor": 5
}
