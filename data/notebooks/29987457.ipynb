{
 "cells": [
  {
   "cell_type": "markdown",
   "id": "fc87edbc",
   "metadata": {},
   "source": [
    "# Bundesliga YOLOv5 specialized for ball detection\n"
   ]
  },
  {
   "cell_type": "markdown",
   "id": "8e5ed5e0",
   "metadata": {},
   "source": [
    "This notebook referred to the following Mr.Shinmura's notebook and dataset.\n",
    "* https://www.kaggle.com/code/shinmurashinmura/dfl-yolov5-ball-detection#YOLOv5-ball-detection\n",
    "* https://www.kaggle.com/datasets/shinmurashinmura/dfl-yolov5l6-ball-detection\n"
   ]
  },
  {
   "cell_type": "markdown",
   "id": "824faf19",
   "metadata": {},
   "source": [
    "#### YOLOv5\n",
    "* https://github.com/ultralytics/yolov5"
   ]
  },
  {
   "cell_type": "markdown",
   "id": "518b0e26",
   "metadata": {},
   "source": [
    "### Specially trained weight optimized for the balls seen in game movies\n",
    "The generally provided weight of YOLOv5 includes a ball (sports ball) in its class, but it is difficult to detect the balls in the game movies. In order to detect it, \"specially trained weight optimized for the game movies\" is required. Thankfully Mr.Shinmura created it and provided in a public dataset. "
   ]
  },
  {
   "cell_type": "code",
   "execution_count": null,
   "id": "1c4419b5",
   "metadata": {},
   "outputs": [],
   "source": [
    "#!rm -rf"
   ]
  },
  {
   "cell_type": "code",
   "execution_count": null,
   "id": "28c497d8",
   "metadata": {},
   "outputs": [],
   "source": [
    "#!pip install moviepy -q"
   ]
  },
  {
   "cell_type": "code",
   "execution_count": null,
   "id": "b6199aa5",
   "metadata": {},
   "outputs": [],
   "source": [
    "# Download YOLOv5\n",
    "!git clone https://github.com/ultralytics/yolov5  # clone repo\n",
    "%cd yolov5\n",
    "# Install dependencies\n",
    "%pip install -qr requirements.txt  # install dependencies\n",
    "\n",
    "import torch\n",
    "print(f\"Setup complete. Using torch {torch.__version__} ({torch.cuda.get_device_properties(0).name if torch.cuda.is_available() else 'CPU'})\")"
   ]
  },
  {
   "cell_type": "code",
   "execution_count": null,
   "id": "965e23c0",
   "metadata": {},
   "outputs": [],
   "source": [
    "import os\n",
    "import gc\n",
    "import cv2\n",
    "import numpy as np\n",
    "import pandas as pd\n",
    "from tqdm import tqdm\n",
    "import shutil\n",
    "from shutil import copyfile\n",
    "import matplotlib.pyplot as plt\n",
    "from sklearn.model_selection import train_test_split\n",
    "import subprocess"
   ]
  },
  {
   "cell_type": "markdown",
   "id": "5bc1f997",
   "metadata": {},
   "source": [
    "# Set weight(pt file) and mp4 file"
   ]
  },
  {
   "cell_type": "code",
   "execution_count": null,
   "id": "27102f76",
   "metadata": {},
   "outputs": [],
   "source": [
    "shutil.copy('/kaggle/input/dfl-yolov5l6-ball-detection/yolov5l6_trained_600images.pt','/kaggle/working/yolov5')\n",
    "shutil.copy('/kaggle/input/dfl-bundesliga-data-shootout/test/019d5b34_1.mp4','/kaggle/working/yolov5')"
   ]
  },
  {
   "cell_type": "code",
   "execution_count": null,
   "id": "cb6d07ed",
   "metadata": {},
   "outputs": [],
   "source": [
    "os.chdir('/kaggle/working/yolov5')"
   ]
  },
  {
   "cell_type": "markdown",
   "id": "062407af",
   "metadata": {},
   "source": [
    "# YOLOv5 Inference"
   ]
  },
  {
   "cell_type": "code",
   "execution_count": null,
   "id": "fdcfdc02",
   "metadata": {},
   "outputs": [],
   "source": [
    "!python detect.py --img 1280 \\\n",
    "                  --weights yolov5l6_trained_600images.pt \\\n",
    "                  --source 019d5b34_1.mp4 \\\n",
    "                  --project DFL \\\n",
    "                  --save-txt \\\n",
    "                  --save-conf "
   ]
  },
  {
   "cell_type": "code",
   "execution_count": null,
   "id": "69725f38",
   "metadata": {},
   "outputs": [],
   "source": [
    "!cp -r ./DFL/exp/ /kaggle/working/"
   ]
  },
  {
   "cell_type": "code",
   "execution_count": null,
   "id": "9d85edc2",
   "metadata": {},
   "outputs": [],
   "source": [
    "!mkdir /kaggle/working/exp/frame"
   ]
  },
  {
   "cell_type": "code",
   "execution_count": null,
   "id": "edad0044",
   "metadata": {},
   "outputs": [],
   "source": [
    "def video_2_frames(video_file='/kaggle/working/exp/019d5b34_1.mp4', image_dir='/kaggle/working/exp/frame/', image_file='img_%s.png'):\n",
    "    i = 0\n",
    "    cap = cv2.VideoCapture(video_file)\n",
    "    while(cap.isOpened()):\n",
    "        flag, frame = cap.read()\n",
    "        if flag == False:\n",
    "            break\n",
    "        cv2.imwrite(image_dir+image_file % str(i).zfill(6), frame) \n",
    "        i += 1\n",
    "    cap.release()"
   ]
  },
  {
   "cell_type": "code",
   "execution_count": null,
   "id": "3f3ce1c6",
   "metadata": {},
   "outputs": [],
   "source": [
    "video_2_frames()"
   ]
  },
  {
   "cell_type": "code",
   "execution_count": null,
   "id": "4ab7bfca",
   "metadata": {},
   "outputs": [],
   "source": [
    "!ls /kaggle/working/exp/frame"
   ]
  },
  {
   "cell_type": "code",
   "execution_count": null,
   "id": "4e15089e",
   "metadata": {},
   "outputs": [],
   "source": [
    "os.chdir('/kaggle/working/')\n",
    "#!rm -rf yolov5"
   ]
  },
  {
   "cell_type": "markdown",
   "id": "0e29f92a",
   "metadata": {},
   "source": [
    "# Collect label information"
   ]
  },
  {
   "cell_type": "code",
   "execution_count": null,
   "id": "a440a4c3",
   "metadata": {},
   "outputs": [],
   "source": [
    "txt_dir='/kaggle/working/exp/labels'\n",
    "txtpaths=[]\n",
    "texts=os.listdir(txt_dir)\n",
    "for item in texts:\n",
    "    txtpaths+=[os.path.join(txt_dir,item)]"
   ]
  },
  {
   "cell_type": "code",
   "execution_count": null,
   "id": "114fd28f",
   "metadata": {},
   "outputs": [],
   "source": [
    "boxdata=[]\n",
    "boxfile=[]\n",
    "for i in range(len(txtpaths)):\n",
    "    file=txtpaths[i]\n",
    "    boxdata+=[np.loadtxt(file)]     \n",
    "    boxfile+=[file[0:-4].split('/')[-1]]\n",
    "print(boxdata[0:6])\n",
    "print(boxfile[0:6])\n",
    "\n",
    "BOX=pd.DataFrame()\n",
    "\n",
    "for i in range(len(boxdata)):\n",
    "    if type(boxdata[i][0])==np.float64:\n",
    "        add=pd.DataFrame([boxdata[i]])\n",
    "        add[6]=boxfile[i]\n",
    "        BOX=pd.concat([BOX,add])\n",
    "    else:\n",
    "        add=pd.DataFrame(boxdata[i])\n",
    "        add[6]=boxfile[i]\n",
    "        #display(add)\n",
    "        BOX=pd.concat([BOX,add])       \n",
    "\n",
    "BOX2=BOX.reset_index(drop=True)\n",
    "BOX2[0:10]"
   ]
  },
  {
   "cell_type": "code",
   "execution_count": null,
   "id": "a768974c",
   "metadata": {},
   "outputs": [],
   "source": [
    "BOX2.columns=['label','x','y','w','h','confidence','file']\n",
    "BOX2['order']=BOX2['file'].apply(lambda x:('0000'+x.split('_')[-1])[-4:])\n",
    "BOX2['time']=BOX2['order'].apply(lambda x:int(x)*30/750)\n",
    "data0=BOX2.sort_values('order',ascending=True)\n",
    "display(data0)"
   ]
  },
  {
   "cell_type": "code",
   "execution_count": null,
   "id": "6d57f908",
   "metadata": {},
   "outputs": [],
   "source": [
    "#remove noise(detection errors)\n",
    "data0=data0[data0['confidence']>0.65]\n",
    "data0=data0.reset_index(drop=True)\n",
    "display(data0)"
   ]
  },
  {
   "cell_type": "code",
   "execution_count": null,
   "id": "954d4f0b",
   "metadata": {},
   "outputs": [],
   "source": [
    "import matplotlib.pyplot as plt\n",
    "import plotly.express as px\n",
    "import plotly.graph_objects as go\n",
    "from plotly.subplots import make_subplots"
   ]
  },
  {
   "cell_type": "code",
   "execution_count": null,
   "id": "663f536f",
   "metadata": {},
   "outputs": [],
   "source": [
    "fig=make_subplots(specs=[[{\"secondary_y\":False}]])\n",
    "fig.add_trace(go.Scatter(x=data0['order'],y=data0['x'],name='x(LR)'),secondary_y=False,)\n",
    "fig.add_trace(go.Scatter(x=data0['order'],y=data0['y'],name='y(UD)'),secondary_y=False,)\n",
    "fig.update_layout(autosize=False,width=700,height=500,title_text=\"x(LR),y(UD)\")\n",
    "fig.update_xaxes(title_text=\"order\")\n",
    "fig.update_yaxes(title_text=\"x(LR),y(UD)\",secondary_y=False)\n",
    "fig.show()"
   ]
  },
  {
   "cell_type": "code",
   "execution_count": null,
   "id": "f3a76d78",
   "metadata": {},
   "outputs": [],
   "source": [
    "# trace the ball, watch the movie along with this figure\n",
    "fig=make_subplots(specs=[[{\"secondary_y\":False}]])\n",
    "fig.add_trace(go.Scatter(x=data0.loc[:100,'x'],y=-data0.loc[:100,'y'],name='#1,x(LR),-y(UD)'),secondary_y=False,)\n",
    "fig.add_trace(go.Scatter(x=data0.loc[100:200,'x'],y=-data0.loc[100:200,'y'],name='#2,x(LR),-y(UD)'),secondary_y=False,)\n",
    "fig.add_trace(go.Scatter(x=data0.loc[200:300,'x'],y=-data0.loc[200:300,'y'],name='#3,x(LR),-y(UD)'),secondary_y=False,)\n",
    "fig.add_trace(go.Scatter(x=data0.loc[300:,'x'],y=-data0.loc[300:,'y'],name='#4,x(LR),-y(UD)'),secondary_y=False,)\n",
    "fig.update_layout(autosize=False,width=700,height=500,title_text=\"x(LR),-y(UD)\")\n",
    "fig.update_xaxes(title_text=\"x(LR)\")\n",
    "fig.update_yaxes(title_text=\"-y(UD)\",secondary_y=False)\n",
    "fig.show()"
   ]
  },
  {
   "cell_type": "code",
   "execution_count": null,
   "id": "703739f2",
   "metadata": {},
   "outputs": [],
   "source": [
    "image_dir='/kaggle/working/exp/frame/'\n",
    "def view(order):\n",
    "    file='img_00'+order+'.png'\n",
    "    path=os.path.join(image_dir,file)\n",
    "    img=cv2.imread(path)\n",
    "    plt.figure(figsize=(12,18))\n",
    "    plt.imshow(cv2.cvtColor(img,cv2.COLOR_BGR2RGB))\n",
    "    plt.show()"
   ]
  },
  {
   "cell_type": "code",
   "execution_count": null,
   "id": "a03b38cc",
   "metadata": {},
   "outputs": [],
   "source": [
    "view('0111')# x:Rmax\n",
    "view('0193')# x:Lmax\n",
    "view('0257')# y:Dmax\n",
    "view('0298')# x:Rmax\n",
    "view('0346')# y:Umax"
   ]
  },
  {
   "cell_type": "markdown",
   "id": "0f86198b",
   "metadata": {},
   "source": [
    "As compared to pre-trained YOLO weight, weight specialized for ball detection \n",
    "was so sensitive that data of confidence level >0.65 are many. And it is possible to trace the ball.\n",
    "* https://www.kaggle.com/code/stpeteishii/bundesliga-pretrained-yolov5-ball-detection \n",
    "* https://www.kaggle.com/code/stpeteishii/bundesliga-pretrained-yolov7-ball-detection \n",
    "* https://www.kaggle.com/stpeteishii/bundesliga-yolov5-specialized-for-ball-detection (this notebook)"
   ]
  },
  {
   "cell_type": "code",
   "execution_count": null,
   "id": "c73804f0",
   "metadata": {},
   "outputs": [],
   "source": [
    "nan"
   ]
  },
  {
   "cell_type": "code",
   "execution_count": null,
   "id": "47ac8d8b",
   "metadata": {},
   "outputs": [],
   "source": [
    "nan"
   ]
  }
 ],
 "metadata": {},
 "nbformat": 4,
 "nbformat_minor": 5
}
