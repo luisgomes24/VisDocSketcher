{
 "cells": [
  {
   "cell_type": "markdown",
   "id": "a0738d23",
   "metadata": {},
   "source": [
    "# Import Basic"
   ]
  },
  {
   "cell_type": "code",
   "execution_count": null,
   "id": "2b6d2a96",
   "metadata": {},
   "outputs": [],
   "source": [
    "import numpy as np\n",
    "import pandas as pd\n",
    "from sklearn.metrics import accuracy_score"
   ]
  },
  {
   "cell_type": "markdown",
   "id": "78a59f31",
   "metadata": {},
   "source": [
    "# Install LightAutoML"
   ]
  },
  {
   "cell_type": "code",
   "execution_count": null,
   "id": "e8e53f85",
   "metadata": {},
   "outputs": [],
   "source": [
    "!pip install -U lightautoml"
   ]
  },
  {
   "cell_type": "markdown",
   "id": "17c6138d",
   "metadata": {},
   "source": [
    "# Import LightAutoML"
   ]
  },
  {
   "cell_type": "code",
   "execution_count": null,
   "id": "da317d25",
   "metadata": {},
   "outputs": [],
   "source": [
    "from lightautoml.automl.presets.tabular_presets import TabularAutoML\n",
    "from lightautoml.tasks import Task"
   ]
  },
  {
   "cell_type": "markdown",
   "id": "217604b5",
   "metadata": {},
   "source": [
    "# Load Data"
   ]
  },
  {
   "cell_type": "code",
   "execution_count": null,
   "id": "c70db4b5",
   "metadata": {},
   "outputs": [],
   "source": [
    "train= pd.read_csv('../input/titanic/train.csv')\n",
    "test = pd.read_csv('../input/titanic/test.csv')"
   ]
  },
  {
   "cell_type": "markdown",
   "id": "f2c44c17",
   "metadata": {},
   "source": [
    "# Make LightAutoML Model (TabularAutoML)"
   ]
  },
  {
   "cell_type": "code",
   "execution_count": null,
   "id": "15471d66",
   "metadata": {},
   "outputs": [],
   "source": [
    "target = 'Survived'\n",
    "def acc_score(y_true, y_pred, **kwargs):\n",
    "    return accuracy_score(y_true, (y_pred > 0.5).astype(int), **kwargs)\n",
    "\n",
    "automl = TabularAutoML(task = Task('binary', metric = acc_score))\n",
    "oof_pred = automl.fit_predict(train, roles = {'target': target})"
   ]
  },
  {
   "cell_type": "markdown",
   "id": "9c601741",
   "metadata": {},
   "source": [
    "# Predict and Submit"
   ]
  },
  {
   "cell_type": "code",
   "execution_count": null,
   "id": "a2955159",
   "metadata": {},
   "outputs": [],
   "source": [
    "test_pred = automl.predict(test)\n",
    "\n",
    "result = pd.read_csv(\"../input/titanic/gender_submission.csv\")\n",
    "result['Survived'] = (test_pred.data[:, 0] > 0.5).astype(int)\n",
    "result.to_csv('lightautoml_titanic.csv', index = False)\n",
    "result.head()"
   ]
  }
 ],
 "metadata": {},
 "nbformat": 4,
 "nbformat_minor": 5
}
