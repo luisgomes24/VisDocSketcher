{
 "cells": [
  {
   "cell_type": "markdown",
   "id": "2fcb04a0",
   "metadata": {},
   "source": [
    "# Probability Density Estimation:"
   ]
  },
  {
   "cell_type": "markdown",
   "id": "54922572",
   "metadata": {},
   "source": [
    "- Probability density is the relationship between observations and their probability.\n",
    "\n",
    "- Some outcomes of a random variable will have low probability density and other outcomes will have a high probability density.\n",
    "\n",
    "- The overall shape of the probability density is referred to as a probability distribution.\n",
    "\n",
    "- The calculation of probabilities for specific outcomes of a random variable is performed by a probability density function(PDF)."
   ]
  },
  {
   "cell_type": "markdown",
   "id": "b44ddc09",
   "metadata": {},
   "source": [
    "# 1. Need\n",
    "\n",
    "- It is useful to know the probability density function for a sample of data in order to know whether a given observation is unlikely, or so unlikely as to be considered an outlier or anomaly and whether it should be removed. It is also helpful in order to choose appropriate learning methods that require input data to have a specific probability distribution."
   ]
  },
  {
   "cell_type": "markdown",
   "id": "6f7086dd",
   "metadata": {},
   "source": [
    "# 2. Probability Density:\n",
    "- A rdom variable x has a probability distribution p(x).\n",
    "\n",
    "- The relationship between the outcomes of a random variable and its probability is referred to as the probability density, or simply the density.\n",
    "\n",
    "- If a random variable is continuous, then the probability can be calculated via probability density function(PDF).\n",
    "\n",
    "- If a random variable is discrete, then the probability can be calculated via probability mass function(PMF).\n",
    "\n",
    "- The shape of the probability density function across the domain for a random variable is referred to as the probability distribution and common probability distributions have names, such as uniform, normal, exponential, etc.\n",
    "\n",
    "- Given a random variable, we are interested in the density of its probabilities."
   ]
  },
  {
   "cell_type": "markdown",
   "id": "15f3504b",
   "metadata": {},
   "source": [
    "For example, given a random sample of a variable, we might want to know things like the shape of the probability distribution, the most likely value, the spread of values, and other properties.\n",
    "\n",
    "Knowing the probability distribution for a random variable can help to calculate moments of the distribution, like the mean and variance, but can also be useful for other more general considerations, like determining whether an observation is unlikely or very unlikely and might be an outlier or anomaly."
   ]
  },
  {
   "cell_type": "markdown",
   "id": "adb8b263",
   "metadata": {},
   "source": [
    "**The problem is, we may not know the probability distribution for a random variable. We rarely do know the distribution because we don’t have access to all possible outcomes for a random variable. In fact, all we have access to is a sample of observations. As such, we must select a probability distribution.\n",
    "This problem is referred to as probability density estimation.**"
   ]
  },
  {
   "cell_type": "markdown",
   "id": "616b3b2d",
   "metadata": {},
   "source": [
    "- There are a few steps in the process of density estimation for a random variable."
   ]
  },
  {
   "cell_type": "markdown",
   "id": "9d35868a",
   "metadata": {},
   "source": [
    "# 1. Histogram\n",
    "- The first step is to review the density of observations in the random sample with a simple histogram. From the histogram, we might be able to identify a common and well-understood probability distribution that can be used, such as a normal distribution. If not, we may have to fit a model to estimate the distribution.\n",
    "\n",
    "- A histogram is a plot that involves first grouping the observations into bins and counting the number of events that fall into each bin. The counts, or frequencies of observations, in each bin are then plotted as a bar graph with the bins on the x-axis and the frequency on the y-axis."
   ]
  },
  {
   "cell_type": "code",
   "execution_count": null,
   "id": "9bbb03d6",
   "metadata": {},
   "outputs": [],
   "source": [
    "import matplotlib.pyplot as plt\n",
    "import numpy as np\n",
    "from numpy.random import normal\n",
    "# generate a sample\n",
    "sample= normal(size= 1000)\n",
    "#plot a histogram\n",
    "plt.hist(sample, bins= 10)\n",
    "plt.show()"
   ]
  },
  {
   "cell_type": "markdown",
   "id": "164a7613",
   "metadata": {},
   "source": [
    "We can clearly see the shape of the normal distribution. Note that our results will differ given the random nature of the data sample. Try running this a few times."
   ]
  },
  {
   "cell_type": "code",
   "execution_count": null,
   "id": "bab30ddb",
   "metadata": {},
   "outputs": [],
   "source": [
    "plt.hist(sample, bins= 5)\n",
    "plt.show()"
   ]
  },
  {
   "cell_type": "code",
   "execution_count": null,
   "id": "5411f743",
   "metadata": {},
   "outputs": [],
   "source": [
    "plt.hist(sample, bins= 3)\n",
    "plt.show()"
   ]
  },
  {
   "cell_type": "markdown",
   "id": "2b1b0c48",
   "metadata": {},
   "source": [
    "Reviewing a histogram of a data sample with a range of different numbers of bins will help to identify whether the density looks like a common probability distribution or not."
   ]
  },
  {
   "cell_type": "markdown",
   "id": "7a6021ac",
   "metadata": {},
   "source": [
    "--> In most cases, you will see a unimodal distribution, such as the familiar bell shape of the normal, the flat shape of the uniform, or the descending or ascending shape of an exponential or Pareto distribution."
   ]
  },
  {
   "cell_type": "markdown",
   "id": "039c1721",
   "metadata": {},
   "source": [
    "--> You might also see complex distributions, such as multiple peaks that don’t disappear with different numbers of bins, referred to as a bimodal distribution, or multiple peaks, referred to as a multimodal distribution. You might also see a large spike in density for a given value or small range of values indicating outliers, often occurring on the tail of a distribution far away from the rest of the density."
   ]
  },
  {
   "cell_type": "markdown",
   "id": "324e8f7a",
   "metadata": {},
   "source": [
    "# 2. Parametric Density Estimation"
   ]
  },
  {
   "cell_type": "markdown",
   "id": "12c31c4d",
   "metadata": {},
   "source": [
    "- The common distributions are common because they occur again and again in different and sometimes unexpected domains.\n",
    "\n",
    "- Get familiar with the common probability distributions as it will help you to identify a given distribution from a histogram.\n",
    "\n",
    "- Once identified, you can attempt to estimate the density of the random variable with a chosen probability distribution. This can be achieved by estimating the parameters of the distribution from a random sample of data.\n",
    "\n",
    "- We refer to this process as parametric density estimation.\n",
    "\n",
    "For example, the normal distribution has two parameters: the mean and the standard deviation. Given these two parameters, we now know the probability distribution function. These parameters can be estimated from data by calculating the sample mean and sample standard deviation."
   ]
  },
  {
   "cell_type": "markdown",
   "id": "f1681b64",
   "metadata": {},
   "source": [
    "**Once we have estimated the density, we can check if it is a good fit. This can be done in many ways, such as:**"
   ]
  },
  {
   "cell_type": "markdown",
   "id": "11e9d78f",
   "metadata": {},
   "source": [
    "1. Plotting the density function and comparing the shape to the histogram.\n",
    "2. Sampling the density function and comparing the generated sample to the real sample.\n",
    "3. Using a statistical test to confirm the data fits the distribution."
   ]
  },
  {
   "cell_type": "markdown",
   "id": "7ef6fdaf",
   "metadata": {},
   "source": [
    "We will generate a random sample of 1,000 observations from a normal distribution with a mean of 50 and a standard deviation of 5."
   ]
  },
  {
   "cell_type": "code",
   "execution_count": null,
   "id": "721d8fc5",
   "metadata": {},
   "outputs": [],
   "source": [
    "sample= normal(loc= 50, scale= 5, size= 1000)"
   ]
  },
  {
   "cell_type": "markdown",
   "id": "ee13daf7",
   "metadata": {},
   "source": [
    "We can then pretend that we don’t know the probability distribution and maybe look at a histogram and guess that it is normal. Assuming that it is normal, we can then calculate the parameters of the distribution, specifically the mean and standard deviation."
   ]
  },
  {
   "cell_type": "code",
   "execution_count": null,
   "id": "e62a1ce3",
   "metadata": {},
   "outputs": [],
   "source": [
    "sample_mean= np.mean(sample)\n",
    "sample_std= np.std(sample)"
   ]
  },
  {
   "cell_type": "markdown",
   "id": "9236818a",
   "metadata": {},
   "source": [
    "We would not expect the mean and standard deviation to be 50 and 5 exactly given the small sample size and noise in the sampling process."
   ]
  },
  {
   "cell_type": "code",
   "execution_count": null,
   "id": "fc3d6804",
   "metadata": {},
   "outputs": [],
   "source": [
    "print('Mean=%.3f, Standard Deviation=%.3f' % (sample_mean, sample_std))"
   ]
  },
  {
   "cell_type": "markdown",
   "id": "a0c84707",
   "metadata": {},
   "source": [
    "- Then fit the distribution with these parameters, so-called parametric density estimation of our data sample."
   ]
  },
  {
   "cell_type": "markdown",
   "id": "fb8e9243",
   "metadata": {},
   "source": [
    "In this case, we can use the norm() SciPy function."
   ]
  },
  {
   "cell_type": "code",
   "execution_count": null,
   "id": "4185e882",
   "metadata": {},
   "outputs": [],
   "source": [
    "from scipy.stats import norm\n",
    "dist = norm(sample_mean, sample_std)"
   ]
  },
  {
   "cell_type": "markdown",
   "id": "e0b08e2f",
   "metadata": {},
   "source": [
    "We can then sample the probabilities from this distribution for a range of values in our domain, in this case between 30 and 70."
   ]
  },
  {
   "cell_type": "code",
   "execution_count": null,
   "id": "b8232855",
   "metadata": {},
   "outputs": [],
   "source": [
    "values = [value for value in range(30, 70)]\n",
    "probabilities = [dist.pdf(value) for value in values]"
   ]
  },
  {
   "cell_type": "markdown",
   "id": "851173e9",
   "metadata": {},
   "source": [
    "Finally, we can plot a histogram of the data sample and overlay a line plot of the probabilities calculated for the range of values from the PDF."
   ]
  },
  {
   "cell_type": "code",
   "execution_count": null,
   "id": "fa2aebf8",
   "metadata": {},
   "outputs": [],
   "source": [
    "# plot the histogram and pdf\n",
    "plt.hist(sample, bins=10, density=True)\n",
    "plt.plot(values, probabilities)"
   ]
  },
  {
   "cell_type": "markdown",
   "id": "3291b0c1",
   "metadata": {},
   "source": [
    "The PDF is fit using the estimated parameters and the histogram of the data with 10 bins is compared to probabilities for a range of values sampled from the PDF.We can see that the PDF is a good match for our data."
   ]
  },
  {
   "cell_type": "markdown",
   "id": "0ba28222",
   "metadata": {},
   "source": [
    "**Note:**\n",
    "    It is possible that the data does match a common probability distribution, but requires a transformation before parametric density estimation.\n",
    "\n",
    "For example, you may have outlier values that are far from the mean or center of mass of the distribution. This may have the effect of giving incorrect estimates of the distribution parameters and, in turn, causing a poor fit to the data. These outliers should be removed prior to estimating the distribution parameters.\n",
    "\n",
    "Another example is the data may have a skew or be shifted left or right. In this case, you might need to transform the data prior to estimating the parameters, such as taking the log or square root, or more generally, using a power transform like the Box-Cox transform.\n",
    "\n",
    "These types of modifications to the data may not be obvious and effective parametric density estimation may require an iterative process of:\n",
    "\n",
    "Loop Until Fit of Distribution to Data is Good Enough:\n",
    "1. Estimating distribution parameters\n",
    "2. Reviewing the resulting PDF against the data\n",
    "3. Transforming the data to better fit the distribution"
   ]
  },
  {
   "cell_type": "markdown",
   "id": "6b73ca53",
   "metadata": {},
   "source": [
    "For Power transformation you can refer my notebook: <link>https://www.kaggle.com/mukeshchoudhary/power-transformation</link>"
   ]
  },
  {
   "cell_type": "markdown",
   "id": "568bb64d",
   "metadata": {},
   "source": [
    "For Statistical tests you can refer my notebook: <link>https://www.kaggle.com/mukeshchoudhary/statistical-tests</link>"
   ]
  },
  {
   "cell_type": "markdown",
   "id": "89f172b8",
   "metadata": {},
   "source": [
    "# 3. Non-Parametric Density Estimation"
   ]
  },
  {
   "cell_type": "markdown",
   "id": "df2ac051",
   "metadata": {},
   "source": [
    "- In some cases, a data sample may not resemble a common probability distribution or cannot be easily made to fit the distribution.\n",
    "\n",
    "- This is often the case when the data has two peaks (bimodal distribution) or many peaks (multimodal distribution).\n",
    "\n",
    "- In this case, parametric density estimation is not feasible and alternative methods can be used that do not use a common distribution. Instead, an algorithm is used to approximate the probability distribution of the data without a pre-defined distribution, referred to as a nonparametric method.\n",
    "\n",
    "- The distributions will still have parameters but are not directly controllable in the same way as simple probability distributions.\n",
    "\n",
    "- The most common nonparametric approach for estimating the probability density function of a continuous random variable is called kernel smoothing, or kernel density estimation, KDE"
   ]
  },
  {
   "cell_type": "markdown",
   "id": "cf4305fd",
   "metadata": {},
   "source": [
    "**Kernel Density Estimation: Nonparametric method for using a dataset to estimating probabilities for new points.**"
   ]
  },
  {
   "cell_type": "markdown",
   "id": "6a9b5b8b",
   "metadata": {},
   "source": [
    "In this case, a kernel is a mathematical function that returns a probability for a given value of a random variable. The kernel effectively smooths or interpolates the probabilities across the range of outcomes for a random variable such that the sum of probabilities equals one, a requirement of well-behaved probabilities."
   ]
  },
  {
   "cell_type": "markdown",
   "id": "33c4065b",
   "metadata": {},
   "source": [
    "A parameter, called the smoothing parameter or the bandwidth, controls the scope, or window of observations, from the data sample that contributes to estimating the probability for a given sample"
   ]
  },
  {
   "cell_type": "code",
   "execution_count": null,
   "id": "1bfd3e36",
   "metadata": {},
   "outputs": [],
   "source": [
    "from numpy import hstack\n",
    "# generate a sample\n",
    "sample1 = normal(loc=20, scale=5, size=300)\n",
    "sample2 = normal(loc=40, scale=5, size=700)\n",
    "sample = hstack((sample1, sample2))\n",
    "# plot the histogram\n",
    "plt.hist(sample, bins=50)\n",
    "plt.show()"
   ]
  },
  {
   "cell_type": "markdown",
   "id": "50625880",
   "metadata": {},
   "source": [
    "We have fewer samples with a mean of 20 than samples with a mean of 40, which we can see reflected in the histogram with a larger density of samples around 40 than around 20."
   ]
  },
  {
   "cell_type": "markdown",
   "id": "5dde9d70",
   "metadata": {},
   "source": [
    "- Data with this distribution does not nicely fit into a common probability distribution, by design. It is a good case for using a nonparametric kernel density estimation method.\n",
    "\n"
   ]
  },
  {
   "cell_type": "markdown",
   "id": "3d32aebc",
   "metadata": {},
   "source": [
    "The scikit-learn machine learning library provides the KernelDensity class that implements kernel density estimation."
   ]
  },
  {
   "cell_type": "markdown",
   "id": "bec5966d",
   "metadata": {},
   "source": [
    "First, the class is constructed with the desired bandwidth (window size) and kernel (basis function) arguments. It is a good idea to test different configurations on your data. In this case, we will try a bandwidth of 3 and a Gaussian kernel."
   ]
  },
  {
   "cell_type": "markdown",
   "id": "3aa2b401",
   "metadata": {},
   "source": [
    "The class is then fit on a data sample via the fit() function. The function expects the data to have a 2D shape with the form [rows, columns], therefore we can reshape our data sample to have 1,000 rows and 1 column."
   ]
  },
  {
   "cell_type": "code",
   "execution_count": null,
   "id": "dc52b635",
   "metadata": {},
   "outputs": [],
   "source": [
    "from sklearn.neighbors import KernelDensity\n",
    "# fit density\n",
    "model = KernelDensity(bandwidth=3, kernel='gaussian')\n",
    "sample = sample.reshape((len(sample), 1))\n",
    "model.fit(sample)"
   ]
  },
  {
   "cell_type": "markdown",
   "id": "a7fd880d",
   "metadata": {},
   "source": [
    "We can then evaluate how well the density estimate matches our data by calculating the probabilities for a range of observations and comparing the shape to the histogram, just like we did for the parametric case in the prior section."
   ]
  },
  {
   "cell_type": "code",
   "execution_count": null,
   "id": "192fc89d",
   "metadata": {},
   "outputs": [],
   "source": [
    "# sample probabilities for a range of outcomes\n",
    "values = np.asarray([value for value in range(1, 60)])\n",
    "values = values.reshape((len(values), 1))\n",
    "probabilities = model.score_samples(values)\n",
    "probabilities = np.exp(probabilities)"
   ]
  },
  {
   "cell_type": "markdown",
   "id": "f046cf27",
   "metadata": {},
   "source": [
    "Finally, we can create a histogram with normalized frequencies and an overlay line plot of values to estimated probabilities."
   ]
  },
  {
   "cell_type": "code",
   "execution_count": null,
   "id": "ef8f91ef",
   "metadata": {},
   "outputs": [],
   "source": [
    "plt.hist(sample, bins=50, density=True)\n",
    "plt.plot(values[:], probabilities)\n",
    "plt.show()"
   ]
  },
  {
   "cell_type": "markdown",
   "id": "8e9aecba",
   "metadata": {},
   "source": [
    "In this case, we can see that the PDF is a good fit for the histogram. It is not very smooth and could be made more so by setting the “bandwidth” argument to 4 samples or higher. Experiment with different values of the bandwidth and the kernel function."
   ]
  },
  {
   "cell_type": "markdown",
   "id": "922cd31d",
   "metadata": {},
   "source": [
    "# Thanks...."
   ]
  }
 ],
 "metadata": {},
 "nbformat": 4,
 "nbformat_minor": 5
}
