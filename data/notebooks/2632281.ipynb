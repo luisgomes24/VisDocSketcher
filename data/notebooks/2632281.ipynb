{
 "cells": [
  {
   "cell_type": "markdown",
   "id": "b3c3482b",
   "metadata": {},
   "source": [
    "> Sorry about my English. \n",
    "\n",
    "> This is my first public competition."
   ]
  },
  {
   "cell_type": "markdown",
   "id": "c16bb2a7",
   "metadata": {},
   "source": [
    "#### let's start analyzing the solution. \n",
    "I took as a basis [LightGBM Baseline](https://www.kaggle.com/chocozzz/lightgbm-baseline)\n",
    "When adding new features, I faced the problem of **kernel memory and time limit**. Upload the output data of other kernals into the kernal helped me to bypass this limitation. \n",
    "<img src=\"https://i.ibb.co/xhmgQ9q/2019-02-15-20-43-05.png\" border=\"0\" width=\"300px\">\n",
    "<br />\n",
    "<img src=\"https://i.ibb.co/XF3Wz0c/2019-02-15-21-09-52.png\" border=\"0\"  width=\"500px\">"
   ]
  },
  {
   "cell_type": "markdown",
   "id": "db9555dd",
   "metadata": {},
   "source": [
    "I know that the game modes *solo, quad or duo* are very different in dynamics and tactics of the game."
   ]
  },
  {
   "cell_type": "code",
   "execution_count": null,
   "id": "010111f0",
   "metadata": {},
   "outputs": [],
   "source": [
    "import pandas as pd\n",
    "import numpy as np\n",
    "import matplotlib.pyplot as plt\n",
    "import seaborn as sns\n",
    "\n",
    "sns.set_style('darkgrid')\n",
    "sns.set_palette('bone')\n",
    "\n",
    "train = pd.read_csv('../input/pubg-finish-placement-prediction/train_V2.csv')\n",
    "\n",
    "fig, ax = plt.subplots(1, 2, figsize=(12, 4))\n",
    "\n",
    "train.groupby('matchId')['matchType'].first().value_counts().plot.bar(ax=ax[0])\n",
    "\n",
    "'''\n",
    "solo  <-- solo,solo-fpp,normal-solo,normal-solo-fpp\n",
    "duo   <-- duo,duo-fpp,normal-duo,normal-duo-fpp,crashfpp,crashtpp\n",
    "squad <-- squad,squad-fpp,normal-squad,normal-squad-fpp,flarefpp,flaretpp\n",
    "'''\n",
    "mapper = lambda x: 'solo' if ('solo' in x) else 'duo' if ('duo' in x) or ('crash' in x) else 'squad'\n",
    "train['matchType'] = train['matchType'].apply(mapper)\n",
    "train.groupby('matchId')['matchType'].first().value_counts().plot.bar(ax=ax[1])"
   ]
  },
  {
   "cell_type": "markdown",
   "id": "d2bd777d",
   "metadata": {},
   "source": [
    "So I just cut the data by game type (squad, duo, other) and **trained individual models/kernels for each mode** (kernel example [*pubg-lgb-part-squad*](https://www.kaggle.com/itslek/pubg-lgb-part-squad). ) Then simply \"connected\" results in other kernel - [*pubg-lgb-ensamble-lvl-1*](https://www.kaggle.com/itslek/pubg-lgb-ensamble-lvl-1).  \n",
    "Thus, I was able to expand the number of features to 303 and achieve better convergence in a limited time. \n",
    "\n",
    "Only this decision has already given me **0.01974** [*pubg-lgb-ensamble-lvl-1*](https://www.kaggle.com/itslek/pubg-lgb-ensamble-lvl-1)"
   ]
  },
  {
   "cell_type": "markdown",
   "id": "19e396d3",
   "metadata": {},
   "source": [
    "<img src=\"https://habrastorage.org/files/040/6ca/59e/0406ca59e7c243e1bffae413d1d40947.png\" border=\"0\" width=\"500px\">\n",
    "\n",
    "Next I used [Simple NN Baseline 4](https://www.kaggle.com/anycode/simple-nn-baseline-4)  and likewise **made a decision based NN** - [*pubg-nn-ensamble-lvl-1*](https://www.kaggle.com/itslek/pubg-nn-ensamble-lvl-1) \n",
    "\n",
    "its result was lower than the solution on  [*LightGBM*](https://www.kaggle.com/itslek/pubg-lgb-ensamble-lvl-1). (0.02052 vs 0.01974) but ** when combining solutions I got the total score increase to 0.01946.**\n",
    "\n",
    "*Thanks to the organizers for the competition, it was interesting to practice with kernels*"
   ]
  },
  {
   "cell_type": "markdown",
   "id": "d0954b27",
   "metadata": {},
   "source": [
    "### in Russian language\n",
    "\n",
    "За основу я взял [LightGBM Baseline](https://www.kaggle.com/chocozzz/lightgbm-baseline)\n",
    "\n",
    "Но При добавлении новых фитчей я столкнулся с проблемой ограничения кернелов по памяти и по времени. Обойти это ограничение мне помогла возможность подгружать в кернел результат работы других кернелов. \n",
    "Я знаю что игры в режимах solo, squad или duo сильно отличаються по динамике и по тактике игры. По этому я просто разбил данные по типу игры (squad, duo, other) и **обучал отдельные модели под каждый режи**м (пример кернала - [pubg-lgb-part-squad](https://www.kaggle.com/itslek/pubg-lgb-part-squad). ) Потом просто \"склеивал\" результаты в другом кернале - [pubg-lgb-ensamble-lvl-1](https://www.kaggle.com/itslek/pubg-lgb-ensamble-lvl-1).  \n",
    "Тем самым я смог расширить количество фитчей до 303 и добиться лучшей сходимости в ограниченое время. Только это решение уже позволяло добиться **0.0197.**\n",
    "\n",
    "Далее я звзял [Simple NN Baseline 4](https://www.kaggle.com/anycode/simple-nn-baseline-4) и аналогичным образом ** подготовил решение на основе NN ** [pubg-nn-ensamble-lvl-1](https://www.kaggle.com/itslek/pubg-nn-ensamble-lvl-1) его скор был ниже чем у решения на lgbm (0.02052 vs 0.0197) но **при объединении решений я получил общий прирост score до 0.01946.**\n",
    "\n",
    "Вот и все)"
   ]
  },
  {
   "cell_type": "code",
   "execution_count": null,
   "id": "965314fd",
   "metadata": {},
   "outputs": [],
   "source": [
    "import os\n",
    "import numpy as np\n",
    "import pandas as pd\n",
    "\n",
    "print(os.listdir(\"../input/\"))\n",
    "\n",
    "# Any results you write to the current directory are saved as output.\n",
    "df_sub = pd.read_csv(\"../input/lightgbm-baseline/submission_adjusted.csv\")\n",
    "df_sub2 = pd.read_csv(\"../input/pubg-lgb-ensamble-lvl-1/submission_v8.csv\")\n",
    "df_sub3 = pd.read_csv(\"../input/pubg-nn-ensamble-lvl-1/submission_nn_ensamble_v5.csv\")\n",
    "df_test = pd.read_csv(\"../input/pubg-finish-placement-prediction/test_V2.csv\")\n",
    "\n",
    "# STACK\n",
    "df_sub[\"winPlacePerc\"] = (df_sub2[\"winPlacePerc\"] + df_sub3[\"winPlacePerc\"]) / 2\n",
    "\n",
    "df_sub = df_sub[[\"Id\", \"winPlacePerc\"]]\n",
    "df_test = pd.read_csv(\"../input/pubg-finish-placement-prediction/test_V2.csv\")\n",
    "\n",
    "\n",
    "# Restore some columns\n",
    "df_sub = df_sub.merge(df_test[[\"Id\", \"matchId\", \"groupId\", \"maxPlace\", \"numGroups\"]], on=\"Id\", how=\"left\")\n",
    "\n",
    "# Sort, rank, and assign adjusted ratio\n",
    "df_sub_group = df_sub.groupby([\"matchId\", \"groupId\"]).first().reset_index()\n",
    "df_sub_group[\"rank\"] = df_sub_group.groupby([\"matchId\"])[\"winPlacePerc\"].rank()\n",
    "df_sub_group = df_sub_group.merge(\n",
    "    df_sub_group.groupby(\"matchId\")[\"rank\"].max().to_frame(\"max_rank\").reset_index(), \n",
    "    on=\"matchId\", how=\"left\")\n",
    "df_sub_group[\"adjusted_perc\"] = (df_sub_group[\"rank\"] - 1) / (df_sub_group[\"numGroups\"] - 1)\n",
    "\n",
    "df_sub = df_sub.merge(df_sub_group[[\"adjusted_perc\", \"matchId\", \"groupId\"]], on=[\"matchId\", \"groupId\"], how=\"left\")\n",
    "df_sub[\"winPlacePerc\"] = df_sub[\"adjusted_perc\"]\n",
    "\n",
    "# Deal with edge cases\n",
    "df_sub.loc[df_sub.maxPlace == 0, \"winPlacePerc\"] = 0\n",
    "df_sub.loc[df_sub.maxPlace == 1, \"winPlacePerc\"] = 1\n",
    "\n",
    "# Align with maxPlace\n",
    "# Credit: https://www.kaggle.com/anycode/simple-nn-baseline-4\n",
    "subset = df_sub.loc[df_sub.maxPlace > 1]\n",
    "gap = 1.0 / (subset.maxPlace.values - 1)\n",
    "new_perc = np.around(subset.winPlacePerc.values / gap) * gap\n",
    "df_sub.loc[df_sub.maxPlace > 1, \"winPlacePerc\"] = new_perc\n",
    "\n",
    "# Edge case\n",
    "df_sub.loc[(df_sub.maxPlace > 1) & (df_sub.numGroups == 1), \"winPlacePerc\"] = 0\n",
    "assert df_sub[\"winPlacePerc\"].isnull().sum() == 0\n",
    "\n",
    "df_sub[\"winPlacePerc\"] = df_sub[\"winPlacePerc\"]\n",
    "\n",
    "\n",
    "df_sub[[\"Id\", \"winPlacePerc\"]].to_csv(\"submission_ensemble_lvl2_v4.csv\", index=False)"
   ]
  },
  {
   "cell_type": "code",
   "execution_count": null,
   "id": "8db5a5bf",
   "metadata": {},
   "outputs": [],
   "source": [
    "nan"
   ]
  }
 ],
 "metadata": {},
 "nbformat": 4,
 "nbformat_minor": 5
}
