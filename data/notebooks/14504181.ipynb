{
 "cells": [
  {
   "cell_type": "code",
   "execution_count": null,
   "id": "040d4c98",
   "metadata": {},
   "outputs": [],
   "source": [
    "# This Python 3 environment comes with many helpful analytics libraries installed\n",
    "# It is defined by the kaggle/python Docker image: https://github.com/kaggle/docker-python\n",
    "# For example, here's several helpful packages to load\n",
    "\n",
    "import numpy as np # linear algebra\n",
    "import pandas as pd # data processing, CSV file I/O (e.g. pd.read_csv)\n",
    "import seaborn as sns\n",
    "import matplotlib.pyplot as plt\n",
    "import plotly.graph_objects as go\n",
    "from plotly.offline import init_notebook_mode,iplot\n",
    "init_notebook_mode(connected=True)\n",
    "import cufflinks as cf\n",
    "cf.go_offline(True)\n",
    "import plotly.express as px\n",
    "\n",
    "# Input data files are available in the read-only \"../input/\" directory\n",
    "# For example, running this (by clicking run or pressing Shift+Enter) will list all files under the input directory\n",
    "\n",
    "import os\n",
    "for dirname, _, filenames in os.walk('/kaggle/input'):\n",
    "    for filename in filenames:\n",
    "        print(os.path.join(dirname, filename))\n",
    "\n",
    "# You can write up to 20GB to the current directory (/kaggle/working/) that gets preserved as output when you create a version using \"Save & Run All\" \n",
    "# You can also write temporary files to /kaggle/temp/, but they won't be saved outside of the current session"
   ]
  },
  {
   "cell_type": "code",
   "execution_count": null,
   "id": "5ec6b23b",
   "metadata": {},
   "outputs": [],
   "source": [
    "df=pd.read_csv(\"../input/covid-world-vaccination-progress/country_vaccinations.csv\")\n",
    "df['date'] = pd.to_datetime(df[\"date\"])"
   ]
  },
  {
   "cell_type": "code",
   "execution_count": null,
   "id": "ede6ef95",
   "metadata": {},
   "outputs": [],
   "source": [
    "df.head()\n"
   ]
  },
  {
   "cell_type": "code",
   "execution_count": null,
   "id": "256eb9b1",
   "metadata": {},
   "outputs": [],
   "source": [
    "df.columns"
   ]
  },
  {
   "cell_type": "code",
   "execution_count": null,
   "id": "c8ce1311",
   "metadata": {},
   "outputs": [],
   "source": [
    "df.drop([\"source_name\",\"source_website\",\"total_vaccinations\",\"people_fully_vaccinated\",\n",
    "         \"daily_vaccinations_raw\",\"total_vaccinations_per_hundred\",\"people_fully_vaccinated_per_hundred\"]\n",
    "        ,axis=1, inplace=True)\n"
   ]
  },
  {
   "cell_type": "code",
   "execution_count": null,
   "id": "94c1be53",
   "metadata": {},
   "outputs": [],
   "source": [
    "df.iso_code.unique()\n"
   ]
  },
  {
   "cell_type": "code",
   "execution_count": null,
   "id": "520f2445",
   "metadata": {},
   "outputs": [],
   "source": [
    "India=df[df['iso_code']=='IND']\n",
    "Canada = df[df['iso_code']=='CAN']\n"
   ]
  },
  {
   "cell_type": "code",
   "execution_count": null,
   "id": "cae0915a",
   "metadata": {},
   "outputs": [],
   "source": [
    "df.info()"
   ]
  },
  {
   "cell_type": "code",
   "execution_count": null,
   "id": "93831663",
   "metadata": {},
   "outputs": [],
   "source": [
    "my_coun = ['Canada','India','China','England','United States']"
   ]
  },
  {
   "cell_type": "markdown",
   "id": "258dc1b4",
   "metadata": {},
   "source": [
    "**Data Cleaning and Filtering**"
   ]
  },
  {
   "cell_type": "code",
   "execution_count": null,
   "id": "a1a382f5",
   "metadata": {},
   "outputs": [],
   "source": [
    "(India.isnull().sum()/len(India))*100"
   ]
  },
  {
   "cell_type": "code",
   "execution_count": null,
   "id": "8bbe33d2",
   "metadata": {},
   "outputs": [],
   "source": [
    "India.head()"
   ]
  },
  {
   "cell_type": "code",
   "execution_count": null,
   "id": "e64115e0",
   "metadata": {},
   "outputs": [],
   "source": [
    "my_df = df[df.country.isin(my_coun)]"
   ]
  },
  {
   "cell_type": "markdown",
   "id": "730c0d15",
   "metadata": {},
   "source": [
    "**Map Analysis**"
   ]
  },
  {
   "cell_type": "code",
   "execution_count": null,
   "id": "6de23102",
   "metadata": {},
   "outputs": [],
   "source": [
    "fig=px.choropleth(data_frame=df,\n",
    "                          locations=df['country'],\n",
    "                          locationmode='country names',\n",
    "                          color=df['vaccines'],\n",
    "                          animation_group=df['vaccines'])\n",
    "fig.update_layout(dict1={'title':'Covid-Vaccines'})\n",
    "\n",
    "fig.show() "
   ]
  },
  {
   "cell_type": "markdown",
   "id": "0895678b",
   "metadata": {},
   "source": [
    "**India's Analysis**"
   ]
  },
  {
   "cell_type": "code",
   "execution_count": null,
   "id": "6dbad2ec",
   "metadata": {},
   "outputs": [],
   "source": [
    "ind = df[df['iso_code'] == 'IND'].copy()\n",
    "plt.figure(figsize=(20,7))\n",
    "sns.set(style='darkgrid',)\n",
    "sns.lineplot(data=India,x=\"date\",y=\"daily_vaccinations_per_million\",marker='o')\n",
    "plt.title(\"India's vaccinated per million\")\n",
    "plt.show()"
   ]
  },
  {
   "cell_type": "code",
   "execution_count": null,
   "id": "e416901f",
   "metadata": {},
   "outputs": [],
   "source": [
    "a = df['iso_code'].unique().tolist()"
   ]
  },
  {
   "cell_type": "markdown",
   "id": "11d886f4",
   "metadata": {},
   "source": [
    "**Analysis on selected countries**"
   ]
  },
  {
   "cell_type": "code",
   "execution_count": null,
   "id": "ab49994c",
   "metadata": {},
   "outputs": [],
   "source": [
    "my_df = df[df.country.isin(my_coun)]"
   ]
  },
  {
   "cell_type": "code",
   "execution_count": null,
   "id": "b11aeb8a",
   "metadata": {},
   "outputs": [],
   "source": [
    "my_df.head()"
   ]
  },
  {
   "cell_type": "code",
   "execution_count": null,
   "id": "c1152e7f",
   "metadata": {},
   "outputs": [],
   "source": [
    "plt.figure(figsize=(16,9))\n",
    "plt.title('Daily Vaccinations within different countries')\n",
    "sns.lineplot(data=my_df,x='date',y='daily_vaccinations',hue='country',marker='o')\n",
    "plt.show()"
   ]
  }
 ],
 "metadata": {},
 "nbformat": 4,
 "nbformat_minor": 5
}
