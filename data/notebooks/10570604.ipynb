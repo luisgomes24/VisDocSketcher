{
 "cells": [
  {
   "cell_type": "markdown",
   "id": "2c4a0d4b",
   "metadata": {},
   "source": [
    "# COVID-19 pandemic in India\n",
    "\n",
    "The COVID-19 pandemic in India is part of the worldwide pandemic of coronavirus disease 2019 (COVID-19) caused by severe acute respiratory syndrome coronavirus 2 (SARS-CoV-2). The first case of COVID-19 in India, which originated from China, was reported on 30 January 2020. As of 2 July 2020, the Ministry of Health and Family Welfare (MoHFW) has confirmed a total of 604,641 cases, 359,859 recoveries (including 1 migration) and 17,834 deaths in the country. India currently has the largest number of confirmed cases in Asia, and has the fourth highest number of confirmed cases in the world with the number of total confirmed cases breaching the 100,000 mark on 19 May and 200,000 on 3 June. India's case fatality rate is relatively lower at 2.80%, against the global 6.13%, as of 3 June. Six cities account for around half of all reported cases in the country – Mumbai, Delhi, Ahmedabad, Chennai, Pune and Kolkata. As of 24 May 2020, Lakshadweep is the only region which has not reported a case. On 10 June, India's recoveries exceeded active cases for the first time reducing 49% of total infections.\n",
    "\n",
    "On 22 March, India observed a 14-hour voluntary public curfew at the instance of the prime minister Narendra Modi. It was followed by mandatory lockdowns in COVID-19 hotspots and all major cities. Further, on 24 March, the Prime Minister ordered a nationwide lockdown for 21 days, affecting the entire 1.3 billion population of India. On 14 April, the PM extended the nationwide lockdown till 3 May which was followed by two-week extensions starting 3 and 17 May with substantial relaxations. Beginning 1 June the Government has started unlocking the country (barring containment zones) in three unlock phases.\n",
    "\n",
    "The United Nations (UN) and the World Health Organization (WHO) have praised India's response to the pandemic as 'Comprehensive and robust,' terming the Lockdown restrictions as aggressive but vital for containing the spread and building necessary healthcare infrastructure. The Oxford COVID-19 Government Response Tracker (OxCGRT) noted the government's swift and stringent actions, emergency policy making, emergency investment in healthcare, fiscal stimulus, investment in vaccine and drug R&D. It gave India a score of 100 for its strict response. Michael Ryan, chief executive director of the WHO's health emergencies programme noted that India had tremendous capacity to deal with the outbreak owing to its vast experience in eradicating smallpox and polio. In June, India was ranked 56th of 200 countries in COVID 19 safety assessment report by Deep Knowledge Group. Though, other commentators have also raised concerns about the economic fallout arising as a result of the pandemic and preventive restrictions. The lockdown was justified by the government and other agencies for being preemptive to prevent India from entering a higher stage which could make handling very difficult and cause even more losses thereafter."
   ]
  },
  {
   "cell_type": "markdown",
   "id": "69d8f20c",
   "metadata": {},
   "source": [
    "<h1>Timeline</h1>\n",
    "On 30 January, India reported its first case of COVID-19 in Kerala, which rose to three cases by 3 February; all were students returning from Wuhan. Apart from these, no significant rise in transmissions was observed in February. On 4 March 22 new cases were reported, including 14 infected members of an Italian tourist group.\n",
    "\n",
    "<h2>Major events of the COVID-19 pandemic in India until April:-</h2>\n",
    "<div><ul>\n",
    "30 January\tFirst confirmed case\n",
    "4 March\tMandatory International passenger screenings at all airports\"Mandatory screenings\".\n",
    "12 March\tFirst confirmed death\n",
    "13 March\tSuspension of non-essential traveller visas\n",
    "15 March\t100 confirmed cases\n",
    "16 March\tPassenger land border crossing suspended\n",
    "22 March\tOne day Janata Curfew\n",
    "Passenger air travel suspended till further notice\n",
    "25 March\tNationwide lock-down imposed till 14 April\n",
    "28 March\t1,000 confirmed cases\n",
    "30 March\t100 confirmed recoveries\n",
    "5 April\t100 confirmed deaths\n",
    "14 April\t10,000 confirmed cases\n",
    "Nationwide lock-down extended till 3 May\n",
    "13 April\t1,000 confirmed recoveries\n",
    "19 April\t500 confirmed deaths\n",
    "25 April\t5,000 confirmed recoveries\n",
    "    </ul>   </div>\n",
    "In March, the transmissions grew after several people with travel history to affected countries, and their contacts, tested positive. On 12 March, a 76-year-old man, with a travel history to Saudi Arabia, became the first COVID-19 fatality of India.[39]\n",
    "\n",
    "\n",
    "Timeline of the pandemic spread across India (since 30 January 2020 and till 3 April 2020)\n",
    "A Sikh preacher, who had a travel history to Italy and Germany, turned into a \"super spreader\" by attending a Sikh festival in Anandpur Sahib during 10–12 March. Twenty-seven COVID-19 cases were traced back to him. Over 40,000 people in 20 villages in Punjab were quarantined on 27 March to contain the spread.\n",
    "\n",
    "On 31 March, a Tablighi Jamaat religious congregation event in Delhi, which had taken place earlier in March, emerged as a new virus super spreader event, after numerous cases across the country were traced back to it. On 18 April, the Health ministry announced that 4,291 cases were directly linked to the event.\n",
    "\n",
    "Major events of COVID-19 pandemic in India since 30 April:-\n",
    "1 May\tNationwide lock-down further extended till 17 May\n",
    "2 May\t10,000 confirmed recoveries\n",
    "7 May\t50,000 confirmed cases\n",
    "10 May\t2,000 confirmed deaths\n",
    "11 May\t20,000 confirmed recoveries\n",
    "17 May\tNationwide lockdown further extended till 31 May\n",
    "19 May\t100,000 confirmed cases\n",
    "23 May\t50,000 confirmed recoveries\n",
    "27 May\t150,000 confirmed cases\n",
    "30 May\tLockdown extended in containment zones till 30 June\n",
    "31 May\t5,000 confirmed deaths\n",
    "3 June\t100,000 confirmed recoveries\n",
    "10 June\tReported recoveries surpassed active cases\n",
    "13 June\t300,000 confirmed cases\n",
    "17 June\t10,000 confirmed deaths\n",
    "On 2 May, in Punjab, around 4,000 stranded pilgrims returned from Hazur Sahib in Nanded, Maharashtra. Many of them tested positive, including 27 bus drivers and conductors who had been part of the transport arrangement. Till 13 May, 1,225 pilgrims had been tested positive.\n",
    "<a href = \"https://en.wikipedia.org/wiki/COVID-19_pandemic_in_India\">source</a>"
   ]
  },
  {
   "cell_type": "code",
   "execution_count": null,
   "id": "27155c65",
   "metadata": {},
   "outputs": [],
   "source": [
    "# This Python 3 environment comes with many helpful analytics libraries installed\n",
    "# It is defined by the kaggle/python Docker image: https://github.com/kaggle/docker-python\n",
    "# For example, here's several helpful packages to load\n",
    "\n",
    "import numpy as np # linear algebra\n",
    "import pandas as pd # data processing, CSV file I/O (e.g. pd.read_csv)\n",
    "import matplotlib.pyplot as plt\n",
    "import seaborn as sns\n",
    "\n",
    "# Input data files are available in the read-only \"../input/\" directory\n",
    "# For example, running this (by clicking run or pressing Shift+Enter) will list all files under the input directory\n",
    "\n",
    "import os\n",
    "for dirname, _, filenames in os.walk('/kaggle/input'):\n",
    "    for filename in filenames:\n",
    "        print(os.path.join(dirname, filename))\n",
    "\n",
    "# You can write up to 5GB to the current directory (/kaggle/working/) that gets preserved as output when you create a version using \"Save & Run All\" \n",
    "# You can also write temporary files to /kaggle/temp/, but they won't be saved outside of the current session"
   ]
  },
  {
   "cell_type": "code",
   "execution_count": null,
   "id": "c0ef57b8",
   "metadata": {},
   "outputs": [],
   "source": [
    "#Importing Dataset\n",
    "data = pd.read_csv('/kaggle/input/covid19-corona-virus-india-dataset/tests_state_wise.csv')\n",
    "data"
   ]
  },
  {
   "cell_type": "code",
   "execution_count": null,
   "id": "c472392e",
   "metadata": {},
   "outputs": [],
   "source": [
    "data = data.fillna(0)"
   ]
  },
  {
   "cell_type": "code",
   "execution_count": null,
   "id": "057a885d",
   "metadata": {},
   "outputs": [],
   "source": [
    "data.isna().any()"
   ]
  },
  {
   "cell_type": "code",
   "execution_count": null,
   "id": "b59116b3",
   "metadata": {},
   "outputs": [],
   "source": [
    "\n",
    "data.drop(['Updated On','Source1', 'Source2', 'Unnamed: 22','Tag (People in Quarantine)'\n",
    "                       ,'Tag (Total Tested)', ], axis = 1, inplace = True)"
   ]
  },
  {
   "cell_type": "code",
   "execution_count": null,
   "id": "8e188b16",
   "metadata": {},
   "outputs": [],
   "source": [
    "data.columns"
   ]
  },
  {
   "cell_type": "code",
   "execution_count": null,
   "id": "58c3b15e",
   "metadata": {},
   "outputs": [],
   "source": [
    "data['Negative'] = data['Negative'].replace(' ', 0)"
   ]
  },
  {
   "cell_type": "code",
   "execution_count": null,
   "id": "0e0e3e37",
   "metadata": {},
   "outputs": [],
   "source": [
    "type(data['Negative'][0])"
   ]
  },
  {
   "cell_type": "code",
   "execution_count": null,
   "id": "9251c87a",
   "metadata": {},
   "outputs": [],
   "source": [
    "for i in range(0, len(data['Negative'])):\n",
    "    data['Negative'][i] = int(data['Negative'][i])"
   ]
  },
  {
   "cell_type": "code",
   "execution_count": null,
   "id": "4b357bb6",
   "metadata": {},
   "outputs": [],
   "source": [
    "type(data['Negative'][0])"
   ]
  },
  {
   "cell_type": "code",
   "execution_count": null,
   "id": "895c6adb",
   "metadata": {},
   "outputs": [],
   "source": [
    "#Checking \n",
    "for i in range(0, len(data['Negative'])):\n",
    "    if type(data['Negative'][i]) != int:\n",
    "        print(data['Negative'][i])"
   ]
  },
  {
   "cell_type": "code",
   "execution_count": null,
   "id": "7c208d51",
   "metadata": {},
   "outputs": [],
   "source": [
    "df = data.groupby('State').sum()\n",
    "df.reset_index(inplace=True)\n",
    "df.sort_values('Total Tested',inplace=True,ascending=False)\n",
    "df.head()"
   ]
  },
  {
   "cell_type": "code",
   "execution_count": null,
   "id": "23254f86",
   "metadata": {},
   "outputs": [],
   "source": [
    "df['Negative'] = df['Total Tested'] - (data['Positive']+ data['Unconfirmed'])"
   ]
  },
  {
   "cell_type": "code",
   "execution_count": null,
   "id": "d9ea1f3c",
   "metadata": {},
   "outputs": [],
   "source": [
    "df.columns"
   ]
  },
  {
   "cell_type": "code",
   "execution_count": null,
   "id": "c5de9652",
   "metadata": {},
   "outputs": [],
   "source": [
    "type(df['Population NCP 2019 Projection'][0])"
   ]
  },
  {
   "cell_type": "code",
   "execution_count": null,
   "id": "a010506b",
   "metadata": {},
   "outputs": [],
   "source": [
    "plt.figure(figsize = (10,10))\n",
    "plt.bar(df['State'], df['Total Tested'])\n",
    "plt.xticks(rotation = 90)\n",
    "plt.xlabel('States', fontsize = 20)\n",
    "plt.ylabel('Total Tested (Scale: 1:10^7)', fontsize = 20)\n",
    "plt.show()"
   ]
  },
  {
   "cell_type": "code",
   "execution_count": null,
   "id": "8ae04340",
   "metadata": {},
   "outputs": [],
   "source": [
    "df['positive_per_thousand_tested'] = (df['Positive']/df['Total Tested'])*1000"
   ]
  },
  {
   "cell_type": "code",
   "execution_count": null,
   "id": "bc3a9c02",
   "metadata": {},
   "outputs": [],
   "source": [
    "plt.figure(figsize = (10,10))\n",
    "plt.bar(df['State'], df['positive_per_thousand_tested'])\n",
    "plt.xticks(rotation = 90)\n",
    "plt.xlabel('States', fontsize = 20)\n",
    "plt.ylabel('Positive per thousand tested', fontsize = 20)\n",
    "plt.show()"
   ]
  },
  {
   "cell_type": "code",
   "execution_count": null,
   "id": "31a2c06c",
   "metadata": {},
   "outputs": [],
   "source": [
    "plt.figure(figsize = (10,10))\n",
    "plt.bar(df['State'], df['Negative'])\n",
    "plt.xticks(rotation = 90)\n",
    "plt.xlabel('States', fontsize = 20)\n",
    "plt.ylabel('Negative', fontsize = 20)\n",
    "plt.show()"
   ]
  },
  {
   "cell_type": "code",
   "execution_count": null,
   "id": "8bcae611",
   "metadata": {},
   "outputs": [],
   "source": [
    "plt.figure(figsize = (10,10))\n",
    "plt.bar(df['State'], df['Cumulative People In Quarantine'])\n",
    "plt.xticks(rotation = 90)\n",
    "plt.xlabel('States', fontsize = 20)\n",
    "plt.ylabel('Cumulative People In Quarantine', fontsize = 20)\n",
    "plt.show()"
   ]
  },
  {
   "cell_type": "code",
   "execution_count": null,
   "id": "d240fde9",
   "metadata": {},
   "outputs": [],
   "source": [
    "df.columns"
   ]
  },
  {
   "cell_type": "code",
   "execution_count": null,
   "id": "b2b695c9",
   "metadata": {},
   "outputs": [],
   "source": [
    "plt.figure(figsize=(16,9))\n",
    "#set bar height\n",
    "bar_width=.40\n",
    "#set postion on x axis\n",
    "r1=np.arange(len(df['Total Tested']))\n",
    "r2=[x +bar_width for x in r1]\n",
    "\n",
    "#ploting the bar graph\n",
    "plt.bar(r1,df['Total Tested'],color='#7f6d5f',width=bar_width,edgecolor='white',label='Total tested')\n",
    "plt.bar(r2,df['Positive'],color='#557f2d',width=bar_width,edgecolor='white',label='Total positive')\n",
    "\n",
    "# adding the xticks\n",
    "plt.xlabel('States',fontweight='bold')\n",
    "plt.xticks([r+bar_width for r in range(len(df['Total Tested']))],df['State'],rotation='vertical')\n",
    "plt.ylabel('Scale Log')\n",
    "plt.yscale('log')\n",
    "plt.legend()\n",
    "plt.title('Total Positive and Total Tested',)\n",
    "plt.show()"
   ]
  },
  {
   "cell_type": "code",
   "execution_count": null,
   "id": "abdb2cfe",
   "metadata": {},
   "outputs": [],
   "source": [
    "plt.figure(figsize=(16,9))\n",
    "#set bar height\n",
    "bar_width=.40\n",
    "#set postion on x axis\n",
    "r1=np.arange(len(df['Total Tested']))\n",
    "r2=[x +bar_width for x in r1]\n",
    "\n",
    "#ploting the bar graph\n",
    "plt.bar(r1,((df['Total Tested']/df['Population NCP 2019 Projection'])*1000),color='#7f6d5f',width=bar_width,edgecolor='white',label='Total tested per thousand')\n",
    "plt.bar(r2,(df['Positive']/df['Population NCP 2019 Projection']*1000),color='#557f2d',width=bar_width,edgecolor='white',label='Total positive per thousand')\n",
    "\n",
    "# adding the xticks\n",
    "plt.xlabel('States',fontweight='bold', fontsize = 20)\n",
    "plt.xticks([r+bar_width for r in range(len(df['Total Tested']))],df['State'],rotation='vertical')\n",
    "plt.ylabel('Scale Log', fontsize = 20)\n",
    "plt.yscale('log')\n",
    "plt.legend()\n",
    "plt.title('Total Positive and Total Tested',)\n",
    "plt.show()"
   ]
  }
 ],
 "metadata": {},
 "nbformat": 4,
 "nbformat_minor": 5
}
