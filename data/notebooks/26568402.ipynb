{
 "cells": [
  {
   "cell_type": "code",
   "execution_count": null,
   "id": "1fca21c3",
   "metadata": {},
   "outputs": [],
   "source": [
    "import numpy as np \n",
    "import pandas as pd \n",
    "import matplotlib.pyplot as plt\n",
    "import cv2\n",
    "import tensorflow as tf\n",
    "from tensorflow import keras\n",
    "from PIL import Image\n",
    "import os\n",
    "import pathlib\n",
    "import random as rn\n",
    "from sklearn.model_selection import train_test_split\n",
    "import tensorflow_hub as hub\n",
    "from tensorflow.keras.preprocessing.image import ImageDataGenerator, img_to_array, array_to_img, load_img\n",
    "from tensorflow.keras.utils import to_categorical\n",
    "from tensorflow.keras.models import Sequential, load_model\n",
    "from tensorflow.keras.applications import VGG19\n",
    "from tensorflow.keras.layers import Conv2D, MaxPool2D, Dense, Flatten, Dropout\n",
    "from keras.models import load_model\n",
    "from sklearn.metrics import accuracy_score\n",
    "print(\"Num GPUs Available: \", len(tf.config.list_physical_devices('GPU')))"
   ]
  },
  {
   "cell_type": "code",
   "execution_count": null,
   "id": "bbeeaf0c",
   "metadata": {},
   "outputs": [],
   "source": [
    "data_dir = '../input/gtsrb-german-traffic-sign/'\n",
    "train_path = '../input/gtsrb-german-traffic-sign/Train/'\n",
    "test_path = '../input/gtsrb-german-traffic-sign/Test/'\n",
    "height = 50\n",
    "width = 50"
   ]
  },
  {
   "cell_type": "code",
   "execution_count": null,
   "id": "f752cf28",
   "metadata": {},
   "outputs": [],
   "source": [
    "classes = { 0:'Speed limit (20km/h)',\n",
    "            1:'Speed limit (30km/h)', \n",
    "            2:'Speed limit (50km/h)', \n",
    "            3:'Speed limit (60km/h)', \n",
    "            4:'Speed limit (70km/h)', \n",
    "            5:'Speed limit (80km/h)', \n",
    "            6:'End of speed limit (80km/h)', \n",
    "            7:'Speed limit (100km/h)', \n",
    "            8:'Speed limit (120km/h)', \n",
    "            9:'No passing', \n",
    "            10:'No passing veh over 3.5 tons', \n",
    "            11:'Right-of-way at intersection', \n",
    "            12:'Priority road', \n",
    "            13:'Yield', \n",
    "            14:'Stop', \n",
    "            15:'No vehicles', \n",
    "            16:'Veh > 3.5 tons prohibited', \n",
    "            17:'No entry', \n",
    "            18:'General caution', \n",
    "            19:'Dangerous curve left', \n",
    "            20:'Dangerous curve right', \n",
    "            21:'Double curve', \n",
    "            22:'Bumpy road', \n",
    "            23:'Slippery road', \n",
    "            24:'Road narrows on the right', \n",
    "            25:'Road work', \n",
    "            26:'Traffic signals', \n",
    "            27:'Pedestrians', \n",
    "            28:'Children crossing', \n",
    "            29:'Bicycles crossing', \n",
    "            30:'Beware of ice/snow',\n",
    "            31:'Wild animals crossing', \n",
    "            32:'End speed + passing limits', \n",
    "            33:'Turn right ahead', \n",
    "            34:'Turn left ahead', \n",
    "            35:'Ahead only', \n",
    "            36:'Go straight or right', \n",
    "            37:'Go straight or left', \n",
    "            38:'Keep right', \n",
    "            39:'Keep left', \n",
    "            40:'Roundabout mandatory', \n",
    "            41:'End of no passing', \n",
    "            42:'End no passing veh > 3.5 tons' }\n"
   ]
  },
  {
   "cell_type": "code",
   "execution_count": null,
   "id": "40adb0b0",
   "metadata": {},
   "outputs": [],
   "source": [
    "batch_size = 150\n",
    "seed = 42"
   ]
  },
  {
   "cell_type": "code",
   "execution_count": null,
   "id": "5019b57d",
   "metadata": {},
   "outputs": [],
   "source": [
    "train_datagen = ImageDataGenerator(rescale=1./255,\n",
    "                                   validation_split=0.2)\n",
    "train_dataset = train_datagen.flow_from_directory(train_path,\n",
    "                                                  target_size=(height, width),\n",
    "                                                  batch_size=batch_size,\n",
    "                                                  class_mode='categorical',\n",
    "                                                  shuffle=True,\n",
    "                                                  seed=seed,\n",
    "                                                  color_mode='rgb',\n",
    "                                                  interpolation='hamming',\n",
    "                                                  subset='training')\n",
    "\n",
    "test_datagen = ImageDataGenerator(rescale=1./255,\n",
    "                                  validation_split=0.2)\n",
    "test_dataset = test_datagen.flow_from_directory(train_path,\n",
    "                                                target_size=(height, width),\n",
    "                                                batch_size=batch_size,\n",
    "                                                class_mode='categorical',\n",
    "                                                shuffle=True,\n",
    "                                                seed=seed,\n",
    "                                                color_mode='rgb',\n",
    "                                                interpolation='hamming',\n",
    "                                                subset='validation')"
   ]
  },
  {
   "cell_type": "code",
   "execution_count": null,
   "id": "7a5f337e",
   "metadata": {},
   "outputs": [],
   "source": [
    "fig,ax=plt.subplots(3,4)\n",
    "fig.set_size_inches(16,12)\n",
    "img,y = train_dataset.next()\n",
    "for i in range(3):\n",
    "    for j in range (4):\n",
    "        l=rn.randint(0,batch_size-1)\n",
    "        label = classes[int(list(train_dataset.class_indices.keys())[np.argmax(y[l])])]\n",
    "        ax[i,j].imshow(img[l])\n",
    "        ax[i,j].set_title(label)\n",
    "\n",
    "plt.tight_layout()"
   ]
  },
  {
   "cell_type": "code",
   "execution_count": null,
   "id": "ba7ae78d",
   "metadata": {},
   "outputs": [],
   "source": [
    "model = keras.models.Sequential([    \n",
    "    keras.layers.Conv2D(filters=16, kernel_size=(5,5), activation='relu', input_shape=(height,width,3)),\n",
    "    keras.layers.Conv2D(filters=32, kernel_size=(5,5), activation='relu'),\n",
    "    keras.layers.MaxPool2D(pool_size=(2, 2)),\n",
    "    keras.layers.BatchNormalization(axis=-1),\n",
    "    \n",
    "    keras.layers.Conv2D(filters=64, kernel_size=(3,3), activation='relu'),\n",
    "    keras.layers.Conv2D(filters=64, kernel_size=(3,3), activation='relu'),\n",
    "    keras.layers.MaxPool2D(pool_size=(2, 2)),\n",
    "    keras.layers.BatchNormalization(axis=-1),\n",
    "    keras.layers.Dropout(rate=0.25),\n",
    "    keras.layers.Flatten(),\n",
    "    keras.layers.Dense(512, activation='relu'),\n",
    "    keras.layers.BatchNormalization(),\n",
    "    keras.layers.Dropout(rate=0.25),\n",
    "    \n",
    "    keras.layers.Dense(43, activation='softmax')\n",
    "])"
   ]
  },
  {
   "cell_type": "code",
   "execution_count": null,
   "id": "e0315f30",
   "metadata": {},
   "outputs": [],
   "source": [
    "model.summary()"
   ]
  },
  {
   "cell_type": "code",
   "execution_count": null,
   "id": "81058b8e",
   "metadata": {},
   "outputs": [],
   "source": [
    "alpha=0.01\n",
    "epochs=15\n",
    "optim = keras.optimizers.Adam(learning_rate=0.01)\n",
    "model.compile(optimizer = optim, loss = 'categorical_crossentropy', metrics = ['accuracy'])"
   ]
  },
  {
   "cell_type": "code",
   "execution_count": null,
   "id": "36065595",
   "metadata": {},
   "outputs": [],
   "source": [
    "history = model.fit(train_dataset,\n",
    "                    steps_per_epoch=len(train_dataset),\n",
    "                    epochs=epochs,\n",
    "                    validation_data=test_dataset,\n",
    "                    validation_steps=len(test_dataset))"
   ]
  },
  {
   "cell_type": "code",
   "execution_count": null,
   "id": "02f5f5cd",
   "metadata": {},
   "outputs": [],
   "source": [
    "fig,ax=plt.subplots(1,2)\n",
    "fig.set_size_inches(16,12)\n",
    "performance = pd.DataFrame(history.history)\n",
    "plt.figure(figsize=(10,7))\n",
    "ax[1].plot(performance[['loss','val_loss']])\n",
    "ax[1].legend(['Training Loss', 'Validation Loss'])\n",
    "ax[1].set_title('Model Loss')\n",
    "ax[1].set_xlabel('Epochs')\n",
    "ax[1].set_ylabel('Loss')\n",
    "ax[1].set_ylim(0,1)\n",
    "ax[0].plot(performance[['accuracy','val_accuracy']])\n",
    "ax[0].legend(['Training Accuracy', 'Validation Accuracy'])\n",
    "ax[0].set_title('Model Accuracy')\n",
    "ax[0].set_xlabel('Epochs')\n",
    "ax[0].set_ylabel('Accuracy')\n",
    "ax[0].set_ylim(0.5,1)\n",
    "fig.suptitle('Custom CNN Performance')\n",
    "plt.show()"
   ]
  },
  {
   "cell_type": "code",
   "execution_count": null,
   "id": "ba97955a",
   "metadata": {},
   "outputs": [],
   "source": [
    "model.save(\"CNN.h5\")"
   ]
  },
  {
   "cell_type": "code",
   "execution_count": null,
   "id": "9c54fce4",
   "metadata": {},
   "outputs": [],
   "source": [
    "def map_pred(pred):\n",
    "    return [int(list(train_dataset.class_indices.keys())[i]) for i in pred]\n",
    "test_df = pd.read_csv(data_dir + 'Test.csv')\n",
    "\n",
    "test_labels = test_df[\"ClassId\"].values\n",
    "imgs = test_df[\"Path\"].values\n",
    "\n",
    "data =[]\n",
    "\n",
    "for img in imgs:\n",
    "    try:\n",
    "        image = cv2.imread(data_dir +img)\n",
    "        image_fromarray = Image.fromarray(image, 'RGB')\n",
    "        resize_image = image_fromarray.resize((height, width))\n",
    "        data.append(np.array(resize_image))\n",
    "    except:\n",
    "        print(\"Error in \" + img)\n",
    "X_test = np.array(data)\n",
    "X_test = X_test/255"
   ]
  },
  {
   "cell_type": "code",
   "execution_count": null,
   "id": "6190d592",
   "metadata": {},
   "outputs": [],
   "source": [
    "from sklearn.metrics import accuracy_score\n",
    "pred = model.predict(X_test)\n",
    "pred = map_pred(pred.argmax(axis=-1))\n",
    "print('Test Data accuracy: ',accuracy_score(test_labels, pred)*100)"
   ]
  },
  {
   "cell_type": "code",
   "execution_count": null,
   "id": "505766ba",
   "metadata": {},
   "outputs": [],
   "source": [
    "fig,ax=plt.subplots(3,4)\n",
    "fig.set_size_inches(16,12)\n",
    "val_images, val_labels = test_dataset.next()\n",
    "predicted = model.predict(val_images)\n",
    "predicts = map_pred(np.argmax(predicted, axis=-1))\n",
    "labels = map_pred(np.argmax(val_labels, axis=-1))\n",
    "\n",
    "for i in range(3):\n",
    "    for j in range (4):\n",
    "        idx=rn.randint(0,batch_size-1)\n",
    "        ax[i,j].imshow(val_images[idx])\n",
    "        if labels[idx] == predicts[idx]:\n",
    "            ax[i,j].set_title('Actual: '+classes[labels[idx]]+'  \\nPredicted: '+classes[predicts[idx]], color = 'green')\n",
    "        else: \n",
    "            ax[i,j].set_title('Actual: '+classes[labels[idx]]+'  \\nPredicted: '+classes[predicts[idx]], color = 'red')\n",
    "\n",
    "plt.tight_layout()"
   ]
  },
  {
   "cell_type": "code",
   "execution_count": null,
   "id": "31c3c6d3",
   "metadata": {},
   "outputs": [],
   "source": [
    "base_model = tf.keras.applications.MobileNetV2(input_shape = (height, width, 3), include_top = False, weights = \"imagenet\")\n",
    "base_model.trainable = False"
   ]
  },
  {
   "cell_type": "code",
   "execution_count": null,
   "id": "c1f6b0d1",
   "metadata": {},
   "outputs": [],
   "source": [
    "mob_model = tf.keras.Sequential([base_model,\n",
    "                                   keras.layers.GlobalAveragePooling2D(),\n",
    "                                   keras.layers.Dropout(0.2),\n",
    "                                   keras.layers.Dense(512, activation='relu'),\n",
    "                                   keras.layers.BatchNormalization(),\n",
    "                                   keras.layers.Dropout(rate=0.2),\n",
    "                                   keras.layers.Dense(43, activation='softmax')                                    \n",
    "                                ])\n",
    "mob_model.summary()"
   ]
  },
  {
   "cell_type": "code",
   "execution_count": null,
   "id": "2e328b08",
   "metadata": {},
   "outputs": [],
   "source": [
    "alpha=0.01\n",
    "epochs=8\n",
    "optim = keras.optimizers.Adam(learning_rate=alpha)\n",
    "mob_model.compile(optimizer = optim, loss = 'categorical_crossentropy', metrics = ['accuracy'])"
   ]
  },
  {
   "cell_type": "code",
   "execution_count": null,
   "id": "3dc6b8ca",
   "metadata": {},
   "outputs": [],
   "source": [
    "mob_history = mob_model.fit(train_dataset,\n",
    "                          steps_per_epoch=len(train_dataset),\n",
    "                          epochs=epochs,\n",
    "                          validation_data=test_dataset,\n",
    "                          validation_steps=len(test_dataset))"
   ]
  },
  {
   "cell_type": "code",
   "execution_count": null,
   "id": "2181b4c8",
   "metadata": {},
   "outputs": [],
   "source": [
    "fig,ax=plt.subplots(1,2)\n",
    "fig.set_size_inches(16,12)\n",
    "performance = pd.DataFrame(mob_history.history)\n",
    "plt.figure(figsize=(10,7))\n",
    "ax[1].plot(performance[['loss','val_loss']])\n",
    "ax[1].legend(['Training Loss', 'Validation Loss'])\n",
    "ax[1].set_title('Model Loss')\n",
    "ax[1].set_xlabel('Epochs')\n",
    "ax[1].set_ylabel('Loss')\n",
    "# ax[1].set_ylim(0,1)\n",
    "ax[0].plot(performance[['accuracy','val_accuracy']])\n",
    "ax[0].legend(['Training Accuracy', 'Validation Accuracy'])\n",
    "ax[0].set_title('Model Accuracy')\n",
    "ax[0].set_xlabel('Epochs')\n",
    "ax[0].set_ylabel('Accuracy')\n",
    "# ax[0].set_ylim(0.5,1)\n",
    "fig.suptitle('MobileNetV2 Performance')\n",
    "plt.show()"
   ]
  },
  {
   "cell_type": "code",
   "execution_count": null,
   "id": "f4e26581",
   "metadata": {},
   "outputs": [],
   "source": [
    "from sklearn.metrics import accuracy_score\n",
    "pred = mob_model.predict(X_test)\n",
    "pred = map_pred(pred.argmax(axis=-1))\n",
    "print('Test Data accuracy: ',accuracy_score(test_labels, pred)*100)"
   ]
  },
  {
   "cell_type": "code",
   "execution_count": null,
   "id": "14688ed1",
   "metadata": {},
   "outputs": [],
   "source": [
    "vgg_model = tf.keras.Sequential([VGG19(weights='imagenet', include_top=False, input_shape=(height,width,3)),\n",
    "                                 keras.layers.BatchNormalization(),\n",
    "                                 keras.layers.Flatten(),\n",
    "                                 keras.layers.Dense(512, activation='sigmoid'),\n",
    "                                 keras.layers.Dense(43, activation='softmax')\n",
    "                                ])\n",
    "\n",
    "vgg_model.summary()"
   ]
  },
  {
   "cell_type": "code",
   "execution_count": null,
   "id": "8c7802d1",
   "metadata": {},
   "outputs": [],
   "source": [
    "alpha=0.0001\n",
    "epochs=8\n",
    "optim = keras.optimizers.Adam(learning_rate=alpha)\n",
    "vgg_model.compile(optimizer = optim, loss = 'categorical_crossentropy', metrics = ['accuracy'])"
   ]
  },
  {
   "cell_type": "code",
   "execution_count": null,
   "id": "c21efa96",
   "metadata": {},
   "outputs": [],
   "source": [
    "vgg_history = vgg_model.fit(train_dataset,\n",
    "                        steps_per_epoch=len(train_dataset),\n",
    "                        epochs=epochs,\n",
    "                        validation_data=test_dataset,\n",
    "                        validation_steps=len(test_dataset))"
   ]
  },
  {
   "cell_type": "code",
   "execution_count": null,
   "id": "13d1002e",
   "metadata": {},
   "outputs": [],
   "source": [
    "fig,ax=plt.subplots(1,2)\n",
    "fig.set_size_inches(16,12)\n",
    "performance = pd.DataFrame(vgg_history.history)\n",
    "plt.figure(figsize=(10,7))\n",
    "ax[1].plot(performance[['loss','val_loss']])\n",
    "ax[1].legend(['Training Loss', 'Validation Loss'])\n",
    "ax[1].set_title('Model Loss')\n",
    "ax[1].set_xlabel('Epochs')\n",
    "ax[1].set_ylabel('Loss')\n",
    "ax[1].set_ylim(0,1)\n",
    "ax[0].plot(performance[['accuracy','val_accuracy']])\n",
    "ax[0].legend(['Training Accuracy', 'Validation Accuracy'])\n",
    "ax[0].set_title('Model Accuracy')\n",
    "ax[0].set_xlabel('Epochs')\n",
    "ax[0].set_ylabel('Accuracy')\n",
    "ax[0].set_ylim(0.5,1)\n",
    "fig.suptitle('VGG19 Performance')\n",
    "plt.show()"
   ]
  },
  {
   "cell_type": "code",
   "execution_count": null,
   "id": "188ae0db",
   "metadata": {},
   "outputs": [],
   "source": [
    "from sklearn.metrics import accuracy_score\n",
    "pred = vgg_model.predict(X_test)\n",
    "pred = map_pred(pred.argmax(axis=-1))\n",
    "print('Test Data accuracy: ',accuracy_score(test_labels, pred)*100)"
   ]
  },
  {
   "cell_type": "code",
   "execution_count": null,
   "id": "98d433b0",
   "metadata": {},
   "outputs": [],
   "source": [
    "vgg_model.save(\"VGG.h5\")"
   ]
  },
  {
   "cell_type": "code",
   "execution_count": null,
   "id": "2622863a",
   "metadata": {},
   "outputs": [],
   "source": [
    "fig,ax=plt.subplots(3,4)\n",
    "fig.set_size_inches(16,12)\n",
    "val_images, val_labels = test_dataset.next()\n",
    "predicted = vgg_model.predict(val_images)\n",
    "predicts = map_pred(np.argmax(predicted, axis=-1))\n",
    "labels = map_pred(np.argmax(val_labels, axis=-1))\n",
    "for i in range(3):\n",
    "    for j in range (4):\n",
    "        idx=rn.randint(0,batch_size-1)\n",
    "        ax[i,j].imshow(val_images[idx])\n",
    "        if labels[idx] == predicts[idx]:\n",
    "            ax[i,j].set_title('Actual: '+classes[labels[idx]]+'  \\nPredicted: '+classes[predicts[idx]], color = 'green')\n",
    "        else: \n",
    "            ax[i,j].set_title('Actual: '+classes[labels[idx]]+'  \\nPredicted: '+classes[predicts[idx]], color = 'red')\n",
    "\n",
    "plt.tight_layout()"
   ]
  }
 ],
 "metadata": {},
 "nbformat": 4,
 "nbformat_minor": 5
}
