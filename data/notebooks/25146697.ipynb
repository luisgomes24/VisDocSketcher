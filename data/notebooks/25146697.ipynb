{
 "cells": [
  {
   "cell_type": "code",
   "execution_count": null,
   "id": "a113b8c5",
   "metadata": {},
   "outputs": [],
   "source": [
    "DATASET = 'lfwcrop'\n",
    "COMPONENTS = 25\n",
    "PLOT_N_ROWS, PLOT_N_COLS = 5, 5"
   ]
  },
  {
   "cell_type": "code",
   "execution_count": null,
   "id": "e28f08f5",
   "metadata": {},
   "outputs": [],
   "source": [
    "dataset_config = {\n",
    "    'celeba': (\"../input/celeba-dataset/img_align_celeba/img_align_celeba/*.jpg\", 218, 178),\n",
    "    'lfwcrop': (\"../input/lfwcrop/lfwcrop_color/lfwcrop_color/faces/*.ppm\", 64, 64)\n",
    "}\n",
    "\n",
    "IMG_PATHS, IMG_WIDTH, IMG_HEIGHT = dataset_config[DATASET]"
   ]
  },
  {
   "cell_type": "code",
   "execution_count": null,
   "id": "e4240722",
   "metadata": {},
   "outputs": [],
   "source": [
    "import glob\n",
    "\n",
    "images_paths = glob.glob(IMG_PATHS)"
   ]
  },
  {
   "cell_type": "code",
   "execution_count": null,
   "id": "b254e82f",
   "metadata": {},
   "outputs": [],
   "source": [
    "import cv2\n",
    "\n",
    "def process_img(img_path):\n",
    "    img = cv2.imread(img_path).astype(np.float32)\n",
    "    img /= 255.  # Normalize imgage\n",
    "    img = cv2.cvtColor(img, cv2.COLOR_BGR2RGB)\n",
    "    return img.flatten()\n",
    "\n",
    "def reconstruct_img(img_array):\n",
    "    return img_array.reshape((IMG_WIDTH, IMG_HEIGHT,3))\n",
    "\n",
    "def map_to_01(img_array, a, b):\n",
    "    return (img_array-a) / (b-a)"
   ]
  },
  {
   "cell_type": "code",
   "execution_count": null,
   "id": "e59322a2",
   "metadata": {},
   "outputs": [],
   "source": [
    "import numpy as np\n",
    "import tqdm\n",
    "\n",
    "data = np.empty((len(images_paths), IMG_WIDTH*IMG_HEIGHT*3))\n",
    "\n",
    "for i, path in enumerate(tqdm.tqdm(images_paths)):\n",
    "    data[i:,] = process_img(path)"
   ]
  },
  {
   "cell_type": "markdown",
   "id": "fd15331f",
   "metadata": {},
   "source": [
    "# Archetypes code"
   ]
  },
  {
   "cell_type": "code",
   "execution_count": null,
   "id": "8f37f151",
   "metadata": {},
   "outputs": [],
   "source": [
    "import numpy as np\n",
    "from abc import ABC, abstractmethod\n",
    "\n",
    "\n",
    "class AA_Abstract(ABC):\n",
    "\n",
    "    def __init__(self, n_archetypes, max_iter=100, tol=1e-6, verbose=False):\n",
    "        self.n_archetypes = n_archetypes\n",
    "        self.max_iter = max_iter\n",
    "        self.tol = tol\n",
    "        self.verbose = verbose\n",
    "        self.Z = None\n",
    "        self.n_samples, self.n_features = None, None\n",
    "        self.RSS = None\n",
    "\n",
    "    def fit(self, X):\n",
    "        \"\"\"\n",
    "\n",
    "        :param X:\n",
    "        :return:\n",
    "        \"\"\"\n",
    "        self.n_samples, self.n_features = X.shape\n",
    "        self._fit(X)\n",
    "        return self\n",
    "\n",
    "    def _fit(self, X):\n",
    "        \"\"\"\n",
    "\n",
    "        :param X:\n",
    "        :return:\n",
    "        \"\"\"\n",
    "        # Initialize the archetypes\n",
    "        B = np.eye(self.n_archetypes, self.n_samples)\n",
    "        Z = B @ X\n",
    "\n",
    "        A = np.eye(self.n_samples, self.n_archetypes)\n",
    "        prev_RSS = None\n",
    "\n",
    "        for _ in range(self.max_iter):\n",
    "            A = self._computeA(X, Z, A)\n",
    "            B = self._computeB(X, A, B)\n",
    "            Z = B @ X\n",
    "            RSS = self._rss(X, A, Z)\n",
    "            if prev_RSS is not None and abs(prev_RSS - RSS) / prev_RSS < self.tol:\n",
    "                break\n",
    "            prev_RSS = RSS\n",
    "\n",
    "        self.Z = Z\n",
    "        self.RSS = RSS\n",
    "\n",
    "    @staticmethod\n",
    "    @abstractmethod\n",
    "    def _computeA(X, Z, A=None):\n",
    "        \"\"\"\n",
    "\n",
    "        :param X:\n",
    "        :param Z:\n",
    "        :param A:\n",
    "        :return:\n",
    "        \"\"\"\n",
    "        pass\n",
    "\n",
    "    @staticmethod\n",
    "    @abstractmethod\n",
    "    def _computeB(X, A, B=None):\n",
    "        \"\"\"\n",
    "\n",
    "        :param X:\n",
    "        :param A:\n",
    "        :param B:\n",
    "        :return:\n",
    "        \"\"\"\n",
    "        pass\n",
    "\n",
    "    def archetypes(self):\n",
    "        return self.Z\n",
    "\n",
    "    def transform(self, X):\n",
    "        return self._computeA(X, self.Z)\n",
    "\n",
    "    @staticmethod\n",
    "    def _rss(X, A, Z):\n",
    "        return np.linalg.norm(X - A @ Z)**2\n",
    "\n",
    "    \n",
    "# Code adapted from https://github.com/nichohelmut/football_results/blob/master/clustering/clustering.py\n",
    "\n",
    "import numpy as np\n",
    "\n",
    "class AA_Fast(AA_Abstract):\n",
    "\n",
    "    def __init__(self, n_archetypes, max_iter=100, tol=1e-6, verbose=False, derivative_max_iter=10):\n",
    "        super().__init__(n_archetypes, max_iter, tol, verbose)\n",
    "        self.derivative_max_iter = derivative_max_iter\n",
    "\n",
    "    def _computeA(self, X, Z, A=None):\n",
    "        X = X.T\n",
    "        Z = Z.T\n",
    "\n",
    "        A = np.zeros((self.n_archetypes, self.n_samples))\n",
    "        A[0, :] = 1.0\n",
    "        e = np.zeros(A.shape)\n",
    "        for t in range(self.derivative_max_iter):\n",
    "            # brackets are VERY important to save time\n",
    "            # [G] ~  k x n\n",
    "            G = 2.0 * ((Z.T @ Z) @ A - Z.T @ X)\n",
    "            # Get the argument mins along each column\n",
    "            argmins = np.argmin(G, axis=0)\n",
    "            e[argmins, range(self.n_samples)] = 1.0\n",
    "            A += 2.0 / (t + 2.0) * (e - A)\n",
    "            e[argmins, range(self.n_samples)] = 0.0\n",
    "        return A.T\n",
    "\n",
    "    def _computeB(self, X, A, B=None):\n",
    "        X = X.T\n",
    "        A = A.T\n",
    "\n",
    "        B = np.zeros((self.n_samples, self.n_archetypes))\n",
    "        B[0, :] = 1.0\n",
    "        e = np.zeros(B.shape)\n",
    "        for t in range(self.derivative_max_iter):\n",
    "            # brackets are VERY important to save time\n",
    "            t1 = X.T @ (X @ B) @ (A @ A.T)\n",
    "            t2 = X.T @ (X @ A.T)\n",
    "            G = 2.0 * (t1 - t2)\n",
    "            argmins = np.argmin(G, axis=0)\n",
    "            e[argmins, range(self.n_archetypes)] = 1.0\n",
    "            B += 2.0 / (t + 2.0) * (e - B)\n",
    "            e[argmins, range(self.n_archetypes)] = 0.0\n",
    "        return B.T\n",
    "\n",
    "\n",
    "\n",
    "def archetypal_plot(ax, data, dp, epsilon=0.2):\n",
    "    '''\n",
    "    Source: Dr. Luke Bovard\n",
    "    '''\n",
    "    ax.scatter(data[0, :], data[1, :], alpha=0.6, linewidths=10)\n",
    "    ax.scatter(dp[0, :], dp[1, :], c='orange')\n",
    "\n",
    "    for i in range(dp.shape[1]):\n",
    "        if dp[0, i] < 0.5:\n",
    "            eps_x = -epsilon\n",
    "        else:\n",
    "            eps_x = epsilon\n",
    "        if dp[1, i] < np.max(dp[1, :]) / 2.0:\n",
    "            eps_y = -epsilon\n",
    "        else:\n",
    "            eps_y = epsilon\n",
    "        ax.text(dp[0, i] + eps_x, dp[1, i] + eps_y, \"{}\".format(i + 1))\n",
    "    return ax"
   ]
  },
  {
   "cell_type": "code",
   "execution_count": null,
   "id": "946917b3",
   "metadata": {},
   "outputs": [],
   "source": [
    "archetypes = AA_Fast(COMPONENTS).fit(data)"
   ]
  },
  {
   "cell_type": "code",
   "execution_count": null,
   "id": "dbc79105",
   "metadata": {},
   "outputs": [],
   "source": [
    "# Save archetypes\n",
    "np.save('archetypes.npy', archetypes.Z)"
   ]
  },
  {
   "cell_type": "markdown",
   "id": "6b840f5c",
   "metadata": {},
   "source": [
    "# PCA"
   ]
  },
  {
   "cell_type": "code",
   "execution_count": null,
   "id": "6d89bfa4",
   "metadata": {},
   "outputs": [],
   "source": [
    "from sklearn.decomposition import PCA\n",
    "\n",
    "pca = PCA(COMPONENTS).fit(data)"
   ]
  },
  {
   "cell_type": "code",
   "execution_count": null,
   "id": "b9c398a7",
   "metadata": {},
   "outputs": [],
   "source": [
    "# Save PCA components\n",
    "np.save('PCA.npy', pca.components_)"
   ]
  },
  {
   "cell_type": "markdown",
   "id": "5bee52c7",
   "metadata": {},
   "source": [
    "# K-Means"
   ]
  },
  {
   "cell_type": "code",
   "execution_count": null,
   "id": "0456cd5b",
   "metadata": {},
   "outputs": [],
   "source": [
    "from sklearn.cluster import KMeans\n",
    "\n",
    "kmeans = KMeans(n_clusters=COMPONENTS, random_state=0).fit(data)"
   ]
  },
  {
   "cell_type": "code",
   "execution_count": null,
   "id": "1099391e",
   "metadata": {},
   "outputs": [],
   "source": [
    "# Save KMeans\n",
    "np.save('KMeans.npy', kmeans.cluster_centers_)"
   ]
  },
  {
   "cell_type": "markdown",
   "id": "bcc5162a",
   "metadata": {},
   "source": [
    "# Reconstruct"
   ]
  },
  {
   "cell_type": "code",
   "execution_count": null,
   "id": "0dda317f",
   "metadata": {},
   "outputs": [],
   "source": [
    "reconstructed_archetypes, reconstructed_pca, reconstructed_kmeans = [], [], []\n",
    "\n",
    "for i in range(COMPONENTS):\n",
    "    reconstructed_archetypes.append(reconstruct_img(archetypes.Z[i]))\n",
    "    reconstructed_pca.append(reconstruct_img(pca.components_[i]))\n",
    "    reconstructed_kmeans.append(reconstruct_img(kmeans.cluster_centers_[i]))"
   ]
  },
  {
   "cell_type": "code",
   "execution_count": null,
   "id": "fcf05ed2",
   "metadata": {},
   "outputs": [],
   "source": [
    "import matplotlib.pyplot as plt\n",
    "\n",
    "def plot_portraits(images, title, n_row, n_col):\n",
    "    plt.figure(figsize=(2.2 * n_col, 2.2 * n_row))\n",
    "    plt.subplots_adjust(bottom=0, left=.01, right=.99, top=.90, hspace=.20)\n",
    "    for i in range(n_row * n_col):\n",
    "        plt.subplot(n_row, n_col, i + 1)\n",
    "        plt.imshow(images[i])\n",
    "        plt.title(f\"{title} {i+1}\")\n",
    "        plt.xticks(())\n",
    "        plt.yticks(())\n",
    "    plt.savefig(f\"{title}.png\")"
   ]
  },
  {
   "cell_type": "code",
   "execution_count": null,
   "id": "44196536",
   "metadata": {},
   "outputs": [],
   "source": [
    "plot_portraits(reconstructed_archetypes, 'Archetype', PLOT_N_ROWS, PLOT_N_COLS)"
   ]
  },
  {
   "cell_type": "code",
   "execution_count": null,
   "id": "05dee5e5",
   "metadata": {},
   "outputs": [],
   "source": [
    "min_value = pca.components_.min()\n",
    "max_value = pca.components_.max()\n",
    "plot_portraits([map_to_01(img_array, min_value, max_value) for img_array in reconstructed_pca], 'PCA', PLOT_N_ROWS, PLOT_N_COLS)"
   ]
  },
  {
   "cell_type": "code",
   "execution_count": null,
   "id": "4fc811b6",
   "metadata": {},
   "outputs": [],
   "source": [
    "plot_portraits(reconstructed_kmeans, 'KMeans', PLOT_N_ROWS, PLOT_N_COLS)"
   ]
  },
  {
   "cell_type": "code",
   "execution_count": null,
   "id": "ded432c6",
   "metadata": {},
   "outputs": [],
   "source": [
    "nan"
   ]
  }
 ],
 "metadata": {},
 "nbformat": 4,
 "nbformat_minor": 5
}
