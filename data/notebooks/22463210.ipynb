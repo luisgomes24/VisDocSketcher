{
 "cells": [
  {
   "cell_type": "markdown",
   "id": "ed90e7c4",
   "metadata": {},
   "source": [
    "## Playstation 4 Games: Starter Notebook\n",
    "\n",
    "The PlayStation 4 (PS4) is a home video game console developed by Sony Computer Entertainment. Announced as the successor to the PlayStation 3 in February 2013, it was launched on November 15, 2013, in North America, November 29, 2013, in Europe, South America a and Australia, and on February 22, 2014, in Japan. The dataset is scraped from TrueTrophies.com which is a website that maintains players' winnings and achievements of PlayStation games. Let's take a look at the dataset\n",
    "\n",
    "<img src=\"https://cdn.mos.cms.futurecdn.net/2tkx5PMFyVvve5ryJMH6wX.jpg\" width=550>\n",
    "<br>\n",
    "Dataset: https://www.kaggle.com/shivamb/all-playstation-4-games\n",
    "\n"
   ]
  },
  {
   "cell_type": "code",
   "execution_count": null,
   "id": "419c3a5b",
   "metadata": {},
   "outputs": [],
   "source": [
    "import pandas as pd \n",
    "import plotly.express as px\n",
    "\n",
    "df = pd.read_csv(\"../input/all-playstation-4-games/playstation_4_games.csv\")\n",
    "print (\"Dataset Shape:\", df.shape)\n",
    "df.head()"
   ]
  },
  {
   "cell_type": "code",
   "execution_count": null,
   "id": "9fe33d18",
   "metadata": {},
   "outputs": [],
   "source": [
    "df.info()"
   ]
  },
  {
   "cell_type": "markdown",
   "id": "371a1cec",
   "metadata": {},
   "source": [
    "Let's take a look at some of the most popular publishers, developers and release years. "
   ]
  },
  {
   "cell_type": "code",
   "execution_count": null,
   "id": "c4b2ecbb",
   "metadata": {},
   "outputs": [],
   "source": [
    "vc = df['Publisher'].value_counts().to_frame().reset_index().head(15)\n",
    "fig = px.bar(x=vc[\"Publisher\"][::-1], y=vc[\"index\"][::-1], orientation='h', color=vc['index'])\n",
    "fig.update_layout(title = \"Most Popular Playstation 4 Games Publishers\", xaxis_title=\"Number of Games\", yaxis_title = \"\", plot_bgcolor=\"#fff\", showlegend = False)\n",
    "fig.show()"
   ]
  },
  {
   "cell_type": "code",
   "execution_count": null,
   "id": "c256a2a6",
   "metadata": {},
   "outputs": [],
   "source": [
    "vc = df['Developer'].value_counts().to_frame().reset_index().head(15)\n",
    "fig = px.bar(x=vc[\"Developer\"][::-1], y=vc[\"index\"][::-1], orientation='h', color=vc['index'])\n",
    "fig.update_layout(title = \"Most Popular Playstation 4 Games Developers\", xaxis_title=\"Number of Games\", yaxis_title = \"\", plot_bgcolor=\"#fff\", showlegend = False)\n",
    "fig.show()"
   ]
  },
  {
   "cell_type": "code",
   "execution_count": null,
   "id": "2ec33e26",
   "metadata": {},
   "outputs": [],
   "source": [
    "vc = df['ReleaseYear'].value_counts().to_frame().reset_index()\n",
    "\n",
    "fig = px.bar(x=vc[\"index\"], y=vc[\"ReleaseYear\"], orientation='v', color=vc['ReleaseYear'])\n",
    "fig.update_layout(title = \"Release Year of Playstation 4 Games by Years\", yaxis_title=\"Number of Games\", xaxis_title = \"\", plot_bgcolor=\"#fff\", showlegend = False)\n",
    "fig.update_traces(marker_coloraxis=None)\n",
    "fig.show()"
   ]
  },
  {
   "cell_type": "code",
   "execution_count": null,
   "id": "ca53abb9",
   "metadata": {},
   "outputs": [],
   "source": [
    "vc = df['ReleaseDate'].value_counts().to_frame().reset_index()\n",
    "\n",
    "fig = px.scatter(x=vc[\"index\"], y=vc[\"ReleaseDate\"], orientation='v', color=vc['ReleaseDate'])\n",
    "fig.update_layout(title = \"Release Date of Playstation 4 Games by Years\", yaxis_title=\"Number of Games\", xaxis_title = \"\", plot_bgcolor=\"#fff\", showlegend = False)\n",
    "fig.update_traces(marker_coloraxis=None)\n",
    "fig.show()"
   ]
  },
  {
   "cell_type": "code",
   "execution_count": null,
   "id": "d90fd198",
   "metadata": {},
   "outputs": [],
   "source": [
    "from collections import Counter \n",
    "Genres = \", \".join([str(_) for _ in list(df['Genre'])]).split(\", \")\n",
    "top = Counter(Genres).most_common(20)\n",
    "top = [_ for _ in top if _[0] != 'nan']\n",
    "\n",
    "fig = px.bar(y=[_[0] for _ in top][::-1], x=[_[1] for _ in top][::-1], orientation='h', color=[_[1] for _ in top][::-1])\n",
    "fig.update_layout(title = \"Genre: Most Popular Genres of Playstation Games\", xaxis_title=\"Number of Games\", yaxis_title = \"\", plot_bgcolor=\"#fff\", showlegend = False)\n",
    "fig.update_traces(marker_coloraxis=None)\n",
    "fig.show()"
   ]
  },
  {
   "cell_type": "code",
   "execution_count": null,
   "id": "7a920b2e",
   "metadata": {},
   "outputs": [],
   "source": [
    "vc = df.sort_values(\"Size\", ascending = False )[['GameName', 'Size']].head(10)\n",
    "\n",
    "fig = px.bar(x=vc[\"Size\"][::-1], y=vc[\"GameName\"][::-1], orientation='h', color=vc['Size'])\n",
    "fig.update_layout(title = \"Games with highest size\", xaxis_title=\"Size (MB)\", yaxis_title = \"\", plot_bgcolor=\"#fff\", showlegend = False)\n",
    "fig.update_traces(marker_coloraxis=None)\n",
    "fig.show()"
   ]
  },
  {
   "cell_type": "code",
   "execution_count": null,
   "id": "2f52f802",
   "metadata": {},
   "outputs": [],
   "source": [
    "import numpy as np\n",
    "\n",
    "vc = df[['CompletionTime(Hours)']].dropna().value_counts().reset_index()\n",
    "vc[\"CompletionTime(Hours)\"] = vc[\"CompletionTime(Hours)\"].apply(lambda x : x + \" Hours\")\n",
    "vc['percent'] = vc[0].apply(lambda x : 100*x / sum(vc[0]))\n",
    "\n",
    "fig = px.treemap(vc, path=['CompletionTime(Hours)'], values='percent',\n",
    "                  color='percent', hover_data=['CompletionTime(Hours)'],\n",
    "                  color_continuous_scale='RdBu',\n",
    "                  color_continuous_midpoint=np.average(vc['percent'], weights=vc['percent']))\n",
    "fig.update_layout(margin = dict(t=50, l=25, r=25, b=25), title=\"Game Completion Times\")\n",
    "fig.show()"
   ]
  },
  {
   "cell_type": "markdown",
   "id": "cc655228",
   "metadata": {},
   "source": [
    "- This is just a starter EDA, more insights can be added. \n",
    "- Will look forward for more detailed EDAs"
   ]
  }
 ],
 "metadata": {},
 "nbformat": 4,
 "nbformat_minor": 5
}
