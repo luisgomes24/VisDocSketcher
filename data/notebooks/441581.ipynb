{
 "cells": [
  {
   "cell_type": "markdown",
   "id": "ee807d3d",
   "metadata": {},
   "source": [
    "# Shake-up or Shake-down?\n",
    "\n",
    "Everybody is talking about shake-up at this competition ([here](https://www.kaggle.com/c/porto-seguro-safe-driver-prediction/discussion/43144), [here](https://www.kaggle.com/c/porto-seguro-safe-driver-prediction/discussion/43315) ,[here](https://www.kaggle.com/c/porto-seguro-safe-driver-prediction/discussion/43547), [here](https://www.kaggle.com/c/porto-seguro-safe-driver-prediction/discussion/43336)). Here is my 2 cents. Let's try to estimate shake-up numericaly somehow. This notebook based on [nice exploration](https://www.kaggle.com/vpaslay/is-your-small-gini-significant) of how many samples should be guessed additionally to get an improvement of 0.001 of gini score and a [discussion](https://www.kaggle.com/vpaslay/is-your-small-gini-significant#244525) below it. Another [interesting kernel](https://www.kaggle.com/alexfir/expected-gini-standard-error) on this topic estimated the standard error of simple model depending on test size.\n",
    "\n",
    "The main question I want to explore here is:\n",
    "- How much can be the **difference between public and private test score**?\n",
    "\n",
    "We will use simple and naive method to estimate aforementioned difference depending on the public score. We do not have labels for test dataset, but we have train labels, so let's assume that our train set can represent test set. We will use OOF predictions of train set, split them randomly with a same proportion as public and private leaderboard split (private is **70%** of all test). (OOF predictions were taken from [notebook v 38](https://www.kaggle.com/aharless/xgboost-cv-lb-284), feature \"New kernel with this data\" didn't work as I expected and I couldn't read the data =( so downloaded and uploaded the validation predictions).\n",
    "\n",
    "## Assumptions\n",
    "It should be noticed that here we assume several things:\n",
    "- Train and test datasets have similar class balances;\n",
    "- Difference of sample sizes of train and test can be ignored;\n",
    "- Generaly: OOF predictions of train set can represent test set."
   ]
  },
  {
   "cell_type": "markdown",
   "id": "28c5a39c",
   "metadata": {},
   "source": [
    "## Load data\n",
    "\n",
    "Let's load OOF predictions and train target (with ID field) and define gini calculating function."
   ]
  },
  {
   "cell_type": "code",
   "execution_count": null,
   "id": "44da60e6",
   "metadata": {},
   "outputs": [],
   "source": [
    "import numpy as np \n",
    "import pandas as pd \n",
    "from sklearn.model_selection import train_test_split\n",
    "import matplotlib.pyplot as plt\n",
    "plt.style.use('seaborn-poster')\n",
    "\n",
    "# load the data\n",
    "oof_preds = pd.read_csv('../input/xgb-valid-preds-public/xgb_valid.csv')\n",
    "y = pd.read_csv('../input/porto-seguro-safe-driver-prediction/train.csv', \n",
    "                usecols = ['id', 'target'])\n",
    "\n",
    "print('Shape of OOF preds: \\t', oof_preds.shape)\n",
    "print('Shape of train target:\\t', y.shape)"
   ]
  },
  {
   "cell_type": "code",
   "execution_count": null,
   "id": "6e34106b",
   "metadata": {},
   "outputs": [],
   "source": [
    "# gini calculation from https://www.kaggle.com/tezdhar/faster-gini-calculation\n",
    "def ginic(actual, pred):\n",
    "    actual = np.asarray(actual) #In case, someone passes Series or list\n",
    "    n = len(actual)\n",
    "    a_s = actual[np.argsort(pred)]\n",
    "    a_c = a_s.cumsum()\n",
    "    giniSum = a_c.sum() / a_s.sum() - (n + 1) / 2.0\n",
    "    return giniSum / n\n",
    " \n",
    "def gini_normalizedc(a, p):\n",
    "    if p.ndim == 2:#Required for sklearn wrapper\n",
    "        p = p[:,1] #If proba array contains proba for both 0 and 1 classes, just pick class 1\n",
    "    return ginic(a, p) / ginic(a, a)"
   ]
  },
  {
   "cell_type": "markdown",
   "id": "825c3843",
   "metadata": {},
   "source": [
    "## Single split\n",
    "\n",
    "Here we make one split of OOF predictions using *train_test_split* from *sklearn* (with fixed seed). As mentioned above proportion of test size is 70% from all test - so we will use he same share. "
   ]
  },
  {
   "cell_type": "code",
   "execution_count": null,
   "id": "5948adf0",
   "metadata": {},
   "outputs": [],
   "source": [
    "PROPORTION_PRIVATE = 0.70\n",
    "y_preds_public, y_preds_private, y_public, y_private = train_test_split(oof_preds.target.values, \n",
    "                                                                        y.target.values, \n",
    "                                                                        test_size=PROPORTION_PRIVATE, \n",
    "                                                                        random_state=42)\n",
    "\n",
    "print('Proportion of private:\\t',PROPORTION_PRIVATE)\n",
    "print('Public score:\\t', round(gini_normalizedc(y_public, y_preds_public), 6))\n",
    "print('Private score:\\t', round(gini_normalizedc(y_private, y_preds_private), 6))"
   ]
  },
  {
   "cell_type": "markdown",
   "id": "7fb9c39b",
   "metadata": {},
   "source": [
    "So, we splited OOF predictions somehow and got 0.275 gini score on small part (public) and 0.290 on big part (private). That was a lucky split=) Let's do it many times to collect statistics over scores."
   ]
  },
  {
   "cell_type": "markdown",
   "id": "eed8d730",
   "metadata": {},
   "source": [
    "## 10k splits\n",
    "\n",
    "Here we will do the public-private split 10 000 times with different random seeds and collect gini scores from every split. (take some time - about 20 min)"
   ]
  },
  {
   "cell_type": "code",
   "execution_count": null,
   "id": "7f59e27f",
   "metadata": {},
   "outputs": [],
   "source": [
    "%%time\n",
    "gini_public = []\n",
    "gini_private = []\n",
    "# do the split 10k times\n",
    "for rs in range(10000):\n",
    "    y_preds_public, y_preds_private, y_public, y_private = train_test_split(oof_preds.target.values, \n",
    "                                                                            y.target.values, \n",
    "                                                                            test_size=PROPORTION_PRIVATE, \n",
    "                                                                            random_state=rs)\n",
    "    gini_public.append(gini_normalizedc(y_public, y_preds_public))\n",
    "    gini_private.append(gini_normalizedc(y_private, y_preds_private))\n",
    "\n",
    "# save results to numpy arrays\n",
    "gini_public_arr = np.array(gini_public)\n",
    "gini_private_arr = np.array(gini_private)"
   ]
  },
  {
   "cell_type": "markdown",
   "id": "32f2fb8a",
   "metadata": {},
   "source": [
    "Let's plot a histogram of public-private difference of scores:"
   ]
  },
  {
   "cell_type": "code",
   "execution_count": null,
   "id": "52bb0d5f",
   "metadata": {},
   "outputs": [],
   "source": [
    "# 10000 random_states\n",
    "plt.figure(figsize=(10,6))\n",
    "plt.hist(gini_public_arr - gini_private_arr, bins=50)\n",
    "plt.title('(Public - Private) scores')\n",
    "plt.xlabel('Gini score difference')\n",
    "plt.show()"
   ]
  },
  {
   "cell_type": "markdown",
   "id": "f95dd452",
   "metadata": {},
   "source": [
    "Looks much the same as in [aforementioned kernel](https://www.kaggle.com/vpaslay/is-your-small-gini-significant): we have deviation mostly between -0.02 and 0.02, it's realy huge range that leads to depression=(.\n",
    "\n",
    "But wait! Here we use the OOF predictions of model which score on leaderboard **we know** (it's 0.284). So let's naively assume that this score represent our public-private split score on train and find in our array of public ginis (computed above) those splits, which score 0.284. Let's plot the public-private difference only for them:"
   ]
  },
  {
   "cell_type": "code",
   "execution_count": null,
   "id": "ca146afb",
   "metadata": {},
   "outputs": [],
   "source": [
    "#find indexies where public score was .284\n",
    "my_indexies = np.where((gini_public_arr >= 0.284) &(gini_public_arr < 0.285))[0]\n",
    "\n",
    "plt.figure(figsize=(10,6))\n",
    "plt.hist(gini_public_arr[my_indexies] - gini_private_arr[my_indexies], bins=50)\n",
    "plt.title('(Public - Private) scores, where public = .284')\n",
    "plt.xlabel('Gini score difference')\n",
    "plt.show()"
   ]
  },
  {
   "cell_type": "markdown",
   "id": "e50dfe41",
   "metadata": {},
   "source": [
    "Hm... absolutely different picture: we have not so wide, uniform range between -0.003 and -0.0016, and most importantly that private score is a higher than public (all differences < 0).\n",
    "\n",
    "For comparison let's look at differences in splits, which scores 0.286 on public part:"
   ]
  },
  {
   "cell_type": "code",
   "execution_count": null,
   "id": "c22c4c2e",
   "metadata": {},
   "outputs": [],
   "source": [
    "#find indexies where public score was .286\n",
    "my_indexies = np.where((gini_public_arr >= 0.286) &(gini_public_arr < 0.287))[0]\n",
    "\n",
    "plt.figure(figsize=(10,6))\n",
    "plt.hist(gini_public_arr[my_indexies] - gini_private_arr[my_indexies], bins=50)\n",
    "plt.title('(Public - Private) scores, where public = .286')\n",
    "plt.xlabel('Gini score difference')\n",
    "plt.show()"
   ]
  },
  {
   "cell_type": "markdown",
   "id": "b1a09b33",
   "metadata": {},
   "source": [
    "On the plot above again we have uniform distribution in range between -0.0020 and 0.0012. Lets compare it with range of public between 0.284 and 0.287 (not including 0.287)"
   ]
  },
  {
   "cell_type": "code",
   "execution_count": null,
   "id": "ff6704a7",
   "metadata": {},
   "outputs": [],
   "source": [
    "#find indexies where public score was .284-.287\n",
    "my_indexies = np.where((gini_public_arr >= 0.284) &(gini_public_arr < 0.287))[0]\n",
    "\n",
    "plt.figure(figsize=(10,6))\n",
    "plt.hist(gini_public_arr[my_indexies] - gini_private_arr[my_indexies], bins=50)\n",
    "plt.title('(Public - Private) scores, where public between .284 and .287')\n",
    "plt.xlabel('Gini score difference')\n",
    "plt.show()"
   ]
  },
  {
   "cell_type": "markdown",
   "id": "e2c7fab3",
   "metadata": {},
   "source": [
    "## Summary\n",
    "\n",
    "So if we take into consideration **all assumptions mentioned above** and assume that our model (which OOF we used here) quiet stable and scores 0.284 on public we can expect private score between 0.285 and 0.287 (from -0.001 to -0.003), which is literally speaking \"shake UP\", not \"shake DOWN\" of scores. \n",
    "\n",
    "So that is quite interesting conclusion and what needed to be mentioned that this method is truely naive (and maybe, misleading) and used several assumptions, which can be violated in real train-test setting.\n",
    "\n",
    "Hope this notebook will help you guys. If you have any comments or remarks feel free to write them below."
   ]
  }
 ],
 "metadata": {},
 "nbformat": 4,
 "nbformat_minor": 5
}
