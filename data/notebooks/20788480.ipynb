{
 "cells": [
  {
   "cell_type": "code",
   "execution_count": null,
   "id": "eac9b3f6",
   "metadata": {},
   "outputs": [],
   "source": [
    "import os\n",
    "os.environ['TF_CPP_MIN_LOG_LEVEL'] = '3'\n",
    "\n",
    "import seaborn as sns\n",
    "import matplotlib.pyplot as plt\n",
    "%matplotlib inline\n",
    "sns.set_style(\"darkgrid\")\n",
    "\n",
    "import numpy as np\n",
    "import pandas as pd \n",
    "import tensorflow as tf\n",
    "from tensorflow.keras import layers\n",
    "from sklearn.preprocessing import RobustScaler"
   ]
  },
  {
   "cell_type": "code",
   "execution_count": null,
   "id": "fa792973",
   "metadata": {},
   "outputs": [],
   "source": [
    "try:\n",
    "    tpu = tf.distribute.cluster_resolver.TPUClusterResolver()\n",
    "    print('Device:', tpu.master())\n",
    "    tf.config.experimental_connect_to_cluster(tpu)\n",
    "    tf.tpu.experimental.initialize_tpu_system(tpu)\n",
    "    strategy = tf.distribute.experimental.TPUStrategy(tpu)\n",
    "except:\n",
    "    strategy = tf.distribute.get_strategy()\n",
    "print('Number of replicas:', strategy.num_replicas_in_sync)"
   ]
  },
  {
   "cell_type": "markdown",
   "id": "209894d3",
   "metadata": {},
   "source": [
    "# Prepare Data"
   ]
  },
  {
   "cell_type": "code",
   "execution_count": null,
   "id": "30748534",
   "metadata": {},
   "outputs": [],
   "source": [
    "train = pd.read_csv(\"../input/ventilator-pressure-prediction/train.csv\", index_col=[0])\n",
    "test = pd.read_csv(\"../input/ventilator-pressure-prediction/test.csv\", index_col=[0])\n",
    "sample_submission = pd.read_csv(\"../input/ventilator-pressure-prediction/sample_submission.csv\")"
   ]
  },
  {
   "cell_type": "code",
   "execution_count": null,
   "id": "2c8c4748",
   "metadata": {},
   "outputs": [],
   "source": [
    "feature_cols = [\"R\",\"C\", \"u_in\", \"u_out\"]"
   ]
  },
  {
   "cell_type": "markdown",
   "id": "dea6d409",
   "metadata": {},
   "source": [
    "### Plot "
   ]
  },
  {
   "cell_type": "code",
   "execution_count": null,
   "id": "50ff08a9",
   "metadata": {},
   "outputs": [],
   "source": [
    "train[feature_cols+[\"pressure\"]].hist(bins=10, figsize=(20,3), layout=(1,5))\n",
    "plt.show()"
   ]
  },
  {
   "cell_type": "code",
   "execution_count": null,
   "id": "7973993c",
   "metadata": {},
   "outputs": [],
   "source": [
    "idx = 1\n",
    "df_plot = train[train.breath_id==idx]\n",
    "\n",
    "plt.figure(figsize=(10,5))\n",
    "sns.lineplot(y=df_plot[\"u_in\"], x=df_plot[\"time_step\"])\n",
    "sns.lineplot(y=df_plot[\"u_out\"], x=df_plot[\"time_step\"])\n",
    "sns.lineplot(y=df_plot[\"pressure\"], x=df_plot[\"time_step\"])\n",
    "plt.legend([\"u_in\",\"u_out\", \"pressure\"])\n",
    "plt.ylabel(\"\")\n",
    "plt.xlabel(\"Time Steps\")\n",
    "plt.show()"
   ]
  },
  {
   "cell_type": "markdown",
   "id": "c3752cb1",
   "metadata": {},
   "source": [
    "# Reshape to prepare them as Time Series"
   ]
  },
  {
   "cell_type": "code",
   "execution_count": null,
   "id": "968f9210",
   "metadata": {},
   "outputs": [],
   "source": [
    "RS = RobustScaler()\n",
    "train[feature_cols] = RS.fit_transform(train[feature_cols])\n",
    "test[feature_cols] = RS.transform(test[feature_cols])"
   ]
  },
  {
   "cell_type": "code",
   "execution_count": null,
   "id": "d5219bdc",
   "metadata": {},
   "outputs": [],
   "source": [
    "n_steps = 80\n",
    "n_features = len(feature_cols)\n",
    "\n",
    "y = train.pop(\"pressure\").values.reshape(-1,n_steps)\n",
    "X = train[feature_cols].values.reshape(-1,n_steps,n_features)\n",
    "print(X.shape, y.shape)"
   ]
  },
  {
   "cell_type": "markdown",
   "id": "c09e6099",
   "metadata": {},
   "source": [
    "# Define Model"
   ]
  },
  {
   "cell_type": "code",
   "execution_count": null,
   "id": "c6b3057a",
   "metadata": {},
   "outputs": [],
   "source": [
    "def get_model():\n",
    "    act = \"swish\"\n",
    "    model = tf.keras.Sequential([\n",
    "        layers.InputLayer(input_shape=(n_steps,n_features)),\n",
    "        layers.Bidirectional(layers.LSTM(150, return_sequences=True)),\n",
    "        layers.Bidirectional(layers.LSTM(150, return_sequences=True)),\n",
    "        layers.Bidirectional(layers.LSTM(150, return_sequences=True)),\n",
    "        layers.Bidirectional(layers.LSTM(150, return_sequences=True)),\n",
    "        layers.Dropout(0.2),\n",
    "        layers.Flatten(),\n",
    "        layers.Dense(128, activation=act),\n",
    "        layers.Dense(256, activation=act),\n",
    "        layers.Dense(512, activation=act),\n",
    "        layers.Dense(80)\n",
    "    ])\n",
    "    return model\n",
    "\n",
    "with strategy.scope():\n",
    "    model = get_model()\n",
    "    model.compile(optimizer=\"adam\", loss=\"mae\")\n",
    "\n",
    "model.summary()"
   ]
  },
  {
   "cell_type": "markdown",
   "id": "f793d004",
   "metadata": {},
   "source": [
    "# Train Model"
   ]
  },
  {
   "cell_type": "code",
   "execution_count": null,
   "id": "482e3200",
   "metadata": {},
   "outputs": [],
   "source": [
    "scheduler = tf.keras.optimizers.schedules.ExponentialDecay(initial_learning_rate=1e-3, decay_steps=1e4, decay_rate=1e-5)\n",
    "cb_lr = tf.keras.callbacks.LearningRateScheduler(scheduler)\n",
    "cb_es = tf.keras.callbacks.EarlyStopping(monitor=\"val_loss\", patience=10, restore_best_weights=True)\n",
    "\n",
    "history = model.fit(X, y, validation_split=0.2, epochs=200, batch_size=512, callbacks=[cb_es, cb_lr])"
   ]
  },
  {
   "cell_type": "markdown",
   "id": "04752f10",
   "metadata": {},
   "source": [
    "# Plot Metrics"
   ]
  },
  {
   "cell_type": "code",
   "execution_count": null,
   "id": "3da5dcd2",
   "metadata": {},
   "outputs": [],
   "source": [
    "plt.figure(figsize=(16,7))\n",
    "loss=history.history['loss']\n",
    "val_loss=history.history['val_loss']\n",
    "\n",
    "epochs=range(1,len(loss)+1)\n",
    "\n",
    "plt.plot(epochs, loss, 'r')\n",
    "plt.plot(epochs, val_loss, 'b')\n",
    "plt.legend([\"Training\", \"Validation\" ])\n",
    "plt.xlabel(\"Epochs\")\n",
    "plt.ylabel(\"Loss\")\n",
    "plt.title('Training and validation loss')\n",
    "\n",
    "plt.show()"
   ]
  },
  {
   "cell_type": "markdown",
   "id": "544e22ea",
   "metadata": {},
   "source": [
    "# Submission"
   ]
  },
  {
   "cell_type": "code",
   "execution_count": null,
   "id": "b31c1a5d",
   "metadata": {},
   "outputs": [],
   "source": [
    "preds = model.predict(test[feature_cols].values.reshape(-1,n_steps,n_features))\n",
    "sample_submission[\"pressure\"] = preds.reshape(-1)\n",
    "sample_submission.to_csv(\"submission.csv\", index=False)"
   ]
  },
  {
   "cell_type": "code",
   "execution_count": null,
   "id": "eb3f32de",
   "metadata": {},
   "outputs": [],
   "source": [
    "idx = 1\n",
    "df_plot = train[train.breath_id==idx]\n",
    "p = model.predict(df_plot[feature_cols].values.reshape(-1,n_steps,n_features))\n",
    "x = range(80)\n",
    "plt.figure(figsize=(10,5))\n",
    "sns.lineplot(y=y[idx-1],x=x)\n",
    "sns.lineplot(y=p.reshape(-1),x=x)\n",
    "plt.legend([\"Ground Truth\",\"Predicted\"])\n",
    "plt.ylabel(\"Pressure\")\n",
    "plt.xlabel(\"Time Steps\")\n",
    "plt.show()"
   ]
  }
 ],
 "metadata": {},
 "nbformat": 4,
 "nbformat_minor": 5
}
