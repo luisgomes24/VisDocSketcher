{
 "cells": [
  {
   "cell_type": "markdown",
   "id": "cc4e5703",
   "metadata": {},
   "source": [
    "# Premier League Score Difference Prediction LGBM"
   ]
  },
  {
   "cell_type": "code",
   "execution_count": null,
   "id": "0d91cedc",
   "metadata": {},
   "outputs": [],
   "source": [
    "import lightgbm as lgb\n",
    "import numpy as np\n",
    "import pandas as pd\n",
    "import seaborn as sns\n",
    "import random\n",
    "import optuna\n",
    "from sklearn.model_selection import KFold, train_test_split\n",
    "from sklearn.metrics import accuracy_score\n",
    "from sklearn.metrics import mean_squared_error"
   ]
  },
  {
   "cell_type": "code",
   "execution_count": null,
   "id": "356bf4b6",
   "metadata": {},
   "outputs": [],
   "source": [
    "data0 = pd.read_csv(\"../input/premier-league-matches-20142020/matchesall2014-2020.csv\")\n",
    "print(data0.columns.tolist())\n",
    "data0"
   ]
  },
  {
   "cell_type": "code",
   "execution_count": null,
   "id": "fa15d253",
   "metadata": {},
   "outputs": [],
   "source": [
    "data0.info()"
   ]
  },
  {
   "cell_type": "code",
   "execution_count": null,
   "id": "62b9e58d",
   "metadata": {},
   "outputs": [],
   "source": [
    "data0['HOME-AWAY']=data0[['Home Team','Away Team']].apply(lambda x: x['Home Team']+'-'+x['Away Team'], axis=1)\n",
    "data0['SCORE-DIFF']=data0['Home Team Goals Scored']-data0['Away Team Goals Scored']\n",
    "data0"
   ]
  },
  {
   "cell_type": "code",
   "execution_count": null,
   "id": "ff8d98e7",
   "metadata": {},
   "outputs": [],
   "source": [
    "print(data0['SCORE-DIFF'].value_counts())"
   ]
  },
  {
   "cell_type": "code",
   "execution_count": null,
   "id": "454adf28",
   "metadata": {},
   "outputs": [],
   "source": [
    "data0['SCORE-DIFF']=data0['SCORE-DIFF'].apply(lambda x: np.where(x>3,4,x)).apply(lambda x: np.where(x<-3,-4,x))\n",
    "print(data0['SCORE-DIFF'].value_counts())"
   ]
  },
  {
   "cell_type": "code",
   "execution_count": null,
   "id": "5d9b8008",
   "metadata": {},
   "outputs": [],
   "source": [
    "data1=data0"
   ]
  },
  {
   "cell_type": "code",
   "execution_count": null,
   "id": "f00088a2",
   "metadata": {},
   "outputs": [],
   "source": [
    "df=data0\n",
    "from sklearn.preprocessing import LabelEncoder\n",
    "for c in df.columns:\n",
    "    if df[c].dtype=='object': \n",
    "        lbl = LabelEncoder()\n",
    "        lbl.fit(list(df[c].values))\n",
    "        df[c] = lbl.transform(df[c].values)\n",
    "data1=df"
   ]
  },
  {
   "cell_type": "code",
   "execution_count": null,
   "id": "d6684cfd",
   "metadata": {},
   "outputs": [],
   "source": [
    "m=len(data1)\n",
    "M=list(range(m))\n",
    "random.seed(2021)\n",
    "random.shuffle(M)\n",
    "drop0=['Unnamed: 0','Score','Half Time Score','Home Team Goals Scored','Away Team Goals Scored','Home Team Goals Conceeded','Away Team Goals Conceeded','SCORE-DIFF']\n",
    "dataX=data1.drop(drop0,axis=1)\n",
    "dataY0=data1['SCORE-DIFF']"
   ]
  },
  {
   "cell_type": "code",
   "execution_count": null,
   "id": "af8967d6",
   "metadata": {},
   "outputs": [],
   "source": [
    "columns=dataX.columns.to_list()\n",
    "print(columns)"
   ]
  },
  {
   "cell_type": "code",
   "execution_count": null,
   "id": "c8222002",
   "metadata": {},
   "outputs": [],
   "source": [
    "trainX=dataX.iloc[M[0:(m//4)*3]]\n",
    "trainY0=dataY0[M[0:(m//4)*3]]\n",
    "\n",
    "testX=dataX.iloc[M[(m//4)*3:]]\n",
    "testY0=dataY0[M[(m//4)*3:]]"
   ]
  },
  {
   "cell_type": "code",
   "execution_count": null,
   "id": "f702e4ea",
   "metadata": {},
   "outputs": [],
   "source": [
    "def objective(trial,data=trainX,target=trainY0):\n",
    "    \n",
    "    train_x, test_x, train_y, test_y = train_test_split(data, target, test_size=0.2,random_state=42)\n",
    "    param =   {\n",
    "        'num_leaves': trial.suggest_int('num_leaves', 2, 200),\n",
    "        'objective': trial.suggest_categorical('objective',['regression','rmse']),  \n",
    "        'max_depth': trial.suggest_int('max_depth', 3, 10),\n",
    "        'learning_rate': trial.suggest_loguniform('learning_rate', 1e-3, 0.1),\n",
    "        \"boosting\": \"gbdt\",\n",
    "        'lambda_l1': trial.suggest_loguniform('lambda_l1', 1e-8, 1e-3),\n",
    "        'lambda_l2': trial.suggest_loguniform('lambda_l2', 1e-3, 10.0),\n",
    "        \"bagging_freq\": trial.suggest_int(\"bagging_freq\", 3, 10),\n",
    "        \"bagging_fraction\": trial.suggest_uniform('bagging_fraction', 0.1, 1.0),\n",
    "        \"feature_fraction\": trial.suggest_uniform('feature_fraction', 0.4, 1.0),\n",
    "        \"verbosity\": trial.suggest_int(\"verbosity\", 1, 10),\n",
    "    }\n",
    "    model = lgb.LGBMClassifier(**param)      \n",
    "    model.fit(train_x,train_y,eval_set=[(test_x,test_y)],early_stopping_rounds=100,verbose=False)\n",
    "    preds = model.predict(test_x)\n",
    "    rmse = mean_squared_error(test_y, preds,squared=False)\n",
    "    \n",
    "    return rmse"
   ]
  },
  {
   "cell_type": "code",
   "execution_count": null,
   "id": "ad363295",
   "metadata": {},
   "outputs": [],
   "source": [
    "study = optuna.create_study(direction='minimize')\n",
    "study.optimize(objective, n_trials=64)\n",
    "print('Number of finished trials:', len(study.trials))\n",
    "print('Best trial:', study.best_trial.params)"
   ]
  },
  {
   "cell_type": "code",
   "execution_count": null,
   "id": "c9368678",
   "metadata": {},
   "outputs": [],
   "source": [
    "study.trials_dataframe()"
   ]
  },
  {
   "cell_type": "code",
   "execution_count": null,
   "id": "e6169d62",
   "metadata": {},
   "outputs": [],
   "source": [
    "# shows the scores from all trials\n",
    "optuna.visualization.plot_optimization_history(study)"
   ]
  },
  {
   "cell_type": "code",
   "execution_count": null,
   "id": "e78a921e",
   "metadata": {},
   "outputs": [],
   "source": [
    "# interactively visualizes the hyperparameters and scores\n",
    "optuna.visualization.plot_parallel_coordinate(study)"
   ]
  },
  {
   "cell_type": "code",
   "execution_count": null,
   "id": "ef88d6b3",
   "metadata": {},
   "outputs": [],
   "source": [
    "# shows the evolution of the search\n",
    "optuna.visualization.plot_slice(study)"
   ]
  },
  {
   "cell_type": "code",
   "execution_count": null,
   "id": "a585b9c3",
   "metadata": {},
   "outputs": [],
   "source": [
    "# parameter interactions on an interactive chart.\n",
    "optuna.visualization.plot_contour(study, params=['num_leaves','objective'])"
   ]
  },
  {
   "cell_type": "code",
   "execution_count": null,
   "id": "02da020a",
   "metadata": {},
   "outputs": [],
   "source": [
    "# Visualize parameter importances.\n",
    "optuna.visualization.plot_param_importances(study)"
   ]
  },
  {
   "cell_type": "code",
   "execution_count": null,
   "id": "8b6f15b0",
   "metadata": {},
   "outputs": [],
   "source": [
    "# Visualize empirical distribution function\n",
    "optuna.visualization.plot_edf(study)"
   ]
  },
  {
   "cell_type": "code",
   "execution_count": null,
   "id": "e442cedd",
   "metadata": {},
   "outputs": [],
   "source": [
    "Best_trial=study.best_trial.params\n",
    "print(Best_trial)"
   ]
  },
  {
   "cell_type": "code",
   "execution_count": null,
   "id": "96f15003",
   "metadata": {},
   "outputs": [],
   "source": [
    "preds = np.zeros((len(testX)))\n",
    "kf = KFold(n_splits=5,random_state=48,shuffle=True)\n",
    "for trn_idx, test_idx in kf.split(trainX[columns],trainY0):\n",
    "    X_tr,X_val=trainX[columns].iloc[trn_idx],trainX[columns].iloc[test_idx]\n",
    "    y_tr,y_val=trainY0.iloc[trn_idx],trainY0.iloc[test_idx]\n",
    "    model = lgb.LGBMClassifier(**Best_trial)\n",
    "    model.fit(X_tr,y_tr,eval_set=[(X_val,y_val)],early_stopping_rounds=100,verbose=False)\n",
    "    preds+=model.predict(testX[columns])/kf.n_splits   ###### predict_proba\n",
    "    rmse=mean_squared_error(y_val, model.predict(X_val),squared=False)\n",
    "    print(rmse)"
   ]
  },
  {
   "cell_type": "code",
   "execution_count": null,
   "id": "6361dbdc",
   "metadata": {},
   "outputs": [],
   "source": [
    "model"
   ]
  },
  {
   "cell_type": "code",
   "execution_count": null,
   "id": "e06da04a",
   "metadata": {},
   "outputs": [],
   "source": [
    "from sklearn.metrics import classification_report\n",
    "y_pred=model.predict(testX)\n",
    "ground = np.array(testY0)"
   ]
  },
  {
   "cell_type": "code",
   "execution_count": null,
   "id": "a6106a45",
   "metadata": {},
   "outputs": [],
   "source": [
    "print(classification_report(ground,y_pred))"
   ]
  },
  {
   "cell_type": "code",
   "execution_count": null,
   "id": "05a5f070",
   "metadata": {},
   "outputs": [],
   "source": [
    "nan"
   ]
  },
  {
   "cell_type": "code",
   "execution_count": null,
   "id": "0f4d9e42",
   "metadata": {},
   "outputs": [],
   "source": [
    "nan"
   ]
  }
 ],
 "metadata": {},
 "nbformat": 4,
 "nbformat_minor": 5
}
