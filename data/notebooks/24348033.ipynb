{
 "cells": [
  {
   "cell_type": "code",
   "execution_count": null,
   "id": "307ae628",
   "metadata": {},
   "outputs": [],
   "source": [
    "from IPython.display import clear_output\n",
    "!pip3 install rx\n",
    "clear_output()"
   ]
  },
  {
   "cell_type": "code",
   "execution_count": null,
   "id": "72a5bab4",
   "metadata": {},
   "outputs": [],
   "source": [
    "import rx \n",
    "from rx import of,timer,operators as op"
   ]
  },
  {
   "cell_type": "code",
   "execution_count": null,
   "id": "16f29f28",
   "metadata": {},
   "outputs": [],
   "source": [
    "DATA = rx.range(1000)\n",
    "SKIP_CONDITION = lambda x : x < 990\n",
    "SKIP_SECOND = 0.015"
   ]
  },
  {
   "cell_type": "markdown",
   "id": "9311ac72",
   "metadata": {},
   "source": [
    "# skip_while"
   ]
  },
  {
   "cell_type": "markdown",
   "id": "d0ceaba6",
   "metadata": {},
   "source": [
    "return an observable with values from the source observable \n",
    "\n",
    "that satisfies the condition passed."
   ]
  },
  {
   "cell_type": "code",
   "execution_count": null,
   "id": "6efcb4d0",
   "metadata": {},
   "outputs": [],
   "source": [
    "DATA.pipe(\n",
    "    op.skip_while(SKIP_CONDITION)\n",
    ").subscribe(\n",
    "    on_next = lambda x : print(\"result = {0}\".format(x)),\n",
    "    on_error = lambda e : print(\"error = {0}\".format(e)),\n",
    "    on_completed = lambda : print(\"completed\")\n",
    ")"
   ]
  },
  {
   "cell_type": "markdown",
   "id": "a2c89354",
   "metadata": {},
   "source": [
    "# skip_until"
   ]
  },
  {
   "cell_type": "markdown",
   "id": "e4a25597",
   "metadata": {},
   "source": [
    "discard values from the source observable \n",
    "\n",
    "after the second observable emits a value or is terminated."
   ]
  },
  {
   "cell_type": "code",
   "execution_count": null,
   "id": "d66f997c",
   "metadata": {},
   "outputs": [],
   "source": [
    "DATA.pipe(\n",
    "    op.skip_until(timer(SKIP_SECOND)) # skip time \n",
    ").subscribe(\n",
    "    on_next = lambda x : print(\"result = {0}\".format(x)),\n",
    "    on_error = lambda e : print(\"error = {0}\".format(e)),\n",
    "    on_completed = lambda : print(\"completed\")\n",
    ")"
   ]
  }
 ],
 "metadata": {},
 "nbformat": 4,
 "nbformat_minor": 5
}
