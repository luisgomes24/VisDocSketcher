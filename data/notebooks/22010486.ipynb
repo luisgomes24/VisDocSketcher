{
 "cells": [
  {
   "cell_type": "code",
   "execution_count": null,
   "id": "a55bd51a",
   "metadata": {},
   "outputs": [],
   "source": [
    "import pandas as pd\n",
    "import numpy as np\n",
    "import seaborn as sns\n",
    "import sklearn.utils\n",
    "import sklearn\n",
    "import matplotlib.pyplot as plt\n",
    "import warnings\n",
    "\n",
    "from sklearn.ensemble import GradientBoostingRegressor\n",
    "from catboost import CatBoostRegressor\n",
    "from sklearn.linear_model import LogisticRegression\n",
    "from sklearn.preprocessing import *\n",
    "from sklearn.model_selection import *\n",
    "from sklearn.metrics import *\n",
    "\n",
    "warnings.filterwarnings('ignore')"
   ]
  },
  {
   "cell_type": "markdown",
   "id": "6621aa4d",
   "metadata": {},
   "source": [
    "# EDA"
   ]
  },
  {
   "cell_type": "code",
   "execution_count": null,
   "id": "183515e6",
   "metadata": {},
   "outputs": [],
   "source": [
    "train_data = pd.read_csv(\"../input/tabular-playground-series-nov-2021/train.csv\")\n",
    "train_data.head()"
   ]
  },
  {
   "cell_type": "code",
   "execution_count": null,
   "id": "b84b93b2",
   "metadata": {},
   "outputs": [],
   "source": [
    "test_data = pd.read_csv(\"../input/tabular-playground-series-nov-2021/test.csv\") "
   ]
  },
  {
   "cell_type": "code",
   "execution_count": null,
   "id": "bcbfb252",
   "metadata": {},
   "outputs": [],
   "source": [
    "train_data.describe()"
   ]
  },
  {
   "cell_type": "code",
   "execution_count": null,
   "id": "ad1af2a9",
   "metadata": {},
   "outputs": [],
   "source": [
    "train_data.info()"
   ]
  },
  {
   "cell_type": "code",
   "execution_count": null,
   "id": "4f3f24b3",
   "metadata": {},
   "outputs": [],
   "source": [
    "train_data.isnull().sum().sort_values(ascending = False)"
   ]
  },
  {
   "cell_type": "code",
   "execution_count": null,
   "id": "7e0209c5",
   "metadata": {},
   "outputs": [],
   "source": [
    "test_data.isnull().sum().sort_values(ascending = False)"
   ]
  },
  {
   "cell_type": "code",
   "execution_count": null,
   "id": "8fce91a0",
   "metadata": {},
   "outputs": [],
   "source": [
    "train_data[\"target\"].value_counts(normalize = True)*100"
   ]
  },
  {
   "cell_type": "code",
   "execution_count": null,
   "id": "e1fcfebd",
   "metadata": {},
   "outputs": [],
   "source": [
    "test_correlation = train_data[0:200000].corr()\n",
    "plt.figure(figsize=(24,24))\n",
    "sns.heatmap(test_correlation, cmap='Reds')"
   ]
  },
  {
   "cell_type": "code",
   "execution_count": null,
   "id": "4c0f05bc",
   "metadata": {},
   "outputs": [],
   "source": [
    "# cols = ['f'+str(i) for i in range(100)]\n",
    "\n",
    "i = 1\n",
    "plt.figure()\n",
    "fig, ax = plt.subplots(10, 5,figsize=(24, 28))\n",
    "for feature in cols[:50]:\n",
    "    plt.subplot(10, 5,i)\n",
    "    sns.histplot(train_data[feature],color=\"red\", kde=True,bins=100, label=feature)\n",
    "    plt.xlabel(feature, fontsize=9); plt.legend()\n",
    "    i += 1\n",
    "plt.show()"
   ]
  },
  {
   "cell_type": "code",
   "execution_count": null,
   "id": "c391ad8b",
   "metadata": {},
   "outputs": [],
   "source": [
    "i = 1\n",
    "plt.figure()\n",
    "fig, ax = plt.subplots(10, 5,figsize=(24, 28))\n",
    "for feature in cols[50:100]:\n",
    "    plt.subplot(10, 5,i)\n",
    "    sns.histplot(train_data[feature],color=\"blue\", kde=True,bins=100, label=feature)\n",
    "    plt.xlabel(feature, fontsize=9); plt.legend()\n",
    "    i += 1\n",
    "plt.show()"
   ]
  },
  {
   "cell_type": "markdown",
   "id": "6132c9cc",
   "metadata": {},
   "source": [
    "# Data Prep"
   ]
  },
  {
   "cell_type": "code",
   "execution_count": null,
   "id": "3fddae17",
   "metadata": {},
   "outputs": [],
   "source": [
    "train_target = pd.DataFrame(train_data[\"target\"], columns = ['target'])\n",
    "train_target.head()"
   ]
  },
  {
   "cell_type": "code",
   "execution_count": null,
   "id": "712e17a3",
   "metadata": {},
   "outputs": [],
   "source": [
    "train_data = train_data.drop(['target'],axis=1)"
   ]
  },
  {
   "cell_type": "code",
   "execution_count": null,
   "id": "e30941ca",
   "metadata": {},
   "outputs": [],
   "source": [
    "cols = ['f'+str(i) for i in range(100)]"
   ]
  },
  {
   "cell_type": "code",
   "execution_count": null,
   "id": "0eb77742",
   "metadata": {},
   "outputs": [],
   "source": [
    "SC = StandardScaler()\n",
    "train_data[cols] = SC.fit_transform(train_data[cols])\n",
    "test_data[cols] = SC.fit_transform(test_data[cols])"
   ]
  },
  {
   "cell_type": "code",
   "execution_count": null,
   "id": "8468156f",
   "metadata": {},
   "outputs": [],
   "source": [
    "X_train , X_test , y_train , y_test = train_test_split(train_data[cols],train_target, test_size = 0.25, random_state = 0,shuffle=True)"
   ]
  },
  {
   "cell_type": "code",
   "execution_count": null,
   "id": "5cb11a6e",
   "metadata": {},
   "outputs": [],
   "source": [
    "# parameters = [{'penalty': ['l2'],\n",
    "#                'solver': ['liblinear'],\n",
    "#                'max_iter': [100,200,300,500,600,800,900],\n",
    "#                'multi_class': ['auto', 'ovr']},\n",
    "              \n",
    "#               {'penalty': ['elasticnet'],\n",
    "#                'solver': ['saga'],\n",
    "#                'l1_ratio':[1.0,0.0,0.25,0.50],\n",
    "#                'max_iter': [100,200,300,500,600,800,900],\n",
    "#                'multi_class': ['auto', 'ovr', 'multinomial']},\n",
    "              \n",
    "#              {'penalty': ['l2', 'none'],\n",
    "#                'solver': ['newton-cg',],\n",
    "#                'max_iter': [100,200,300,500,600,800,900],\n",
    "#                'multi_class': ['auto', 'ovr', 'multinomial']},\n",
    "              \n",
    "#              {'penalty': ['l2','none'],\n",
    "#                'solver': ['lbfgs'],\n",
    "#                'max_iter': [100,200,300,500,600,800,900],\n",
    "#                'multi_class': ['auto', 'ovr', 'multinomial']},\n",
    "             \n",
    "#              {'penalty': ['l2','none'],\n",
    "#                'solver': ['sag'],\n",
    "#                'max_iter': [100,200,300,500,600,800,900],\n",
    "#                'multi_class': ['auto', 'ovr', 'multinomial']}\n",
    "#              ]"
   ]
  },
  {
   "cell_type": "code",
   "execution_count": null,
   "id": "c05ff22f",
   "metadata": {},
   "outputs": [],
   "source": [
    "log_reg = LogisticRegression(random_state=0)"
   ]
  },
  {
   "cell_type": "code",
   "execution_count": null,
   "id": "3764898f",
   "metadata": {},
   "outputs": [],
   "source": [
    "# grid_search_model = GridSearchCV(estimator = log_reg,\n",
    "#                            param_grid = parameters,\n",
    "#                            scoring = 'accuracy',\n",
    "#                            cv = 5,\n",
    "#                            n_jobs = -1)"
   ]
  },
  {
   "cell_type": "code",
   "execution_count": null,
   "id": "1dd76879",
   "metadata": {},
   "outputs": [],
   "source": [
    "# grid_search_model.fit(X_train, y_train.values.ravel())"
   ]
  },
  {
   "cell_type": "code",
   "execution_count": null,
   "id": "db735f4f",
   "metadata": {},
   "outputs": [],
   "source": [
    "# best_accuracy = grid_search_model.best_score_\n",
    "# print(\"Best Accuracy: {:.2f} %\".format(best_accuracy*100))"
   ]
  },
  {
   "cell_type": "code",
   "execution_count": null,
   "id": "9f15093e",
   "metadata": {},
   "outputs": [],
   "source": [
    "print(grid_search_model.best_params_)"
   ]
  },
  {
   "cell_type": "code",
   "execution_count": null,
   "id": "f9c3aa59",
   "metadata": {},
   "outputs": [],
   "source": [
    "test_data[cols]"
   ]
  },
  {
   "cell_type": "code",
   "execution_count": null,
   "id": "31cc8731",
   "metadata": {},
   "outputs": [],
   "source": [
    "ids = test_data['id']"
   ]
  },
  {
   "cell_type": "code",
   "execution_count": null,
   "id": "69aa2634",
   "metadata": {},
   "outputs": [],
   "source": [
    "Result = grid_search_model.predict_proba(test_data[cols])[:,1]"
   ]
  },
  {
   "cell_type": "code",
   "execution_count": null,
   "id": "16c2e4ac",
   "metadata": {},
   "outputs": [],
   "source": [
    "Result = pd.DataFrame(Result, columns=['target'])"
   ]
  },
  {
   "cell_type": "code",
   "execution_count": null,
   "id": "9d9106bd",
   "metadata": {},
   "outputs": [],
   "source": [
    "Result = pd.concat([ids,Result],axis=1)"
   ]
  },
  {
   "cell_type": "code",
   "execution_count": null,
   "id": "d6d16f6e",
   "metadata": {},
   "outputs": [],
   "source": [
    "Result.to_csv(\"Result_4.csv\",index=False)"
   ]
  },
  {
   "cell_type": "markdown",
   "id": "c9f5e661",
   "metadata": {},
   "source": [
    " Coming Back Soon with better results :)\n",
    " if you find this notebook usefull dont forget to upvote it \n",
    " Good Luck "
   ]
  }
 ],
 "metadata": {},
 "nbformat": 4,
 "nbformat_minor": 5
}
