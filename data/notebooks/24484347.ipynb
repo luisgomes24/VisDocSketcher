{
 "cells": [
  {
   "cell_type": "markdown",
   "id": "c3538b92",
   "metadata": {},
   "source": [
    "In this notebook I will present the simplest approach to time series: reducing the problem to curve fitting. The content was presented live on Abhishek Thakur's youtube channel - it's probably best to watch in parallel with following the notebook: https://www.youtube.com/watch?v=kAI67Sz92-s\n"
   ]
  },
  {
   "cell_type": "code",
   "execution_count": null,
   "id": "2a037c48",
   "metadata": {},
   "outputs": [],
   "source": [
    "import numpy as np \n",
    "import pandas as pd\n",
    "import os\n",
    "\n",
    "import matplotlib.pyplot as plt\n",
    "import seaborn as sns\n",
    "\n",
    "\n",
    "import statsmodels.api as sm\n",
    "\n",
    "plt.style.use('fivethirtyeight')"
   ]
  },
  {
   "cell_type": "code",
   "execution_count": null,
   "id": "48b066e9",
   "metadata": {},
   "outputs": [],
   "source": [
    "class CFG:\n",
    "    img_dim1 = 20\n",
    "    img_dim2 = 10\n",
    "    \n",
    "# plt.rcParams.update({'figure.figsize': (CFG.img_dim1,CFG.img_dim2)})    "
   ]
  },
  {
   "cell_type": "markdown",
   "id": "786f1d4f",
   "metadata": {},
   "source": [
    "# Data and EDA"
   ]
  },
  {
   "cell_type": "markdown",
   "id": "56033492",
   "metadata": {},
   "source": [
    "\\begin{equation}\n",
    "X_t = T_t + S_t + C_t + \\epsilon_t\n",
    "\\end{equation}\n",
    "\n",
    "Dedicated notebook: https://www.kaggle.com/konradb/practical-time-series-pt-1-the-basics\n"
   ]
  },
  {
   "cell_type": "code",
   "execution_count": null,
   "id": "55675611",
   "metadata": {},
   "outputs": [],
   "source": [
    "df = pd.read_csv('../input/tsdata-1/us_energy.csv')\n",
    "df.head(3)"
   ]
  },
  {
   "cell_type": "code",
   "execution_count": null,
   "id": "9b92605b",
   "metadata": {},
   "outputs": [],
   "source": [
    "df['date'] = pd.to_datetime(df['date'])\n",
    "df.set_index('date', inplace = True)\n",
    "df.plot()"
   ]
  },
  {
   "cell_type": "code",
   "execution_count": null,
   "id": "7c3964d6",
   "metadata": {},
   "outputs": [],
   "source": [
    "from statsmodels.tsa.seasonal import seasonal_decompose\n",
    "\n",
    "plt.rcParams.update({'figure.figsize': (CFG.img_dim1,CFG.img_dim2)})\n",
    "\n",
    "decomposition = seasonal_decompose(df, period = 12)\n",
    "figure = decomposition.plot()\n",
    "plt.show()"
   ]
  },
  {
   "cell_type": "code",
   "execution_count": null,
   "id": "58462005",
   "metadata": {},
   "outputs": [],
   "source": [
    "decomposition = seasonal_decompose(df['value'], period = 11, model = 'multiplicative')\n",
    "figure = decomposition.plot()\n",
    "plt.show()"
   ]
  },
  {
   "cell_type": "code",
   "execution_count": null,
   "id": "8a8dad52",
   "metadata": {},
   "outputs": [],
   "source": [
    "decomposition = seasonal_decompose(df['value'], period = 12, model = 'multiplicative')\n",
    "figure = decomposition.plot()\n",
    "plt.show()"
   ]
  },
  {
   "cell_type": "code",
   "execution_count": null,
   "id": "ab46d02a",
   "metadata": {},
   "outputs": [],
   "source": [
    "from statsmodels.graphics.tsaplots import plot_acf, plot_pacf\n",
    "\n",
    "plot_acf(df['value'])\n",
    "print()"
   ]
  },
  {
   "cell_type": "code",
   "execution_count": null,
   "id": "0cf3b258",
   "metadata": {},
   "outputs": [],
   "source": [
    "plot_pacf(df['value'])\n",
    "print()"
   ]
  },
  {
   "cell_type": "markdown",
   "id": "74f4a984",
   "metadata": {},
   "source": [
    "# Smoothing methods"
   ]
  },
  {
   "cell_type": "markdown",
   "id": "582bb765",
   "metadata": {},
   "source": [
    "Dedicated notebook: https://www.kaggle.com/konradb/practical-time-series-pt-2-smoothing-methods"
   ]
  },
  {
   "cell_type": "code",
   "execution_count": null,
   "id": "b014f68b",
   "metadata": {},
   "outputs": [],
   "source": [
    "# training / validation split\n",
    "cutoff_date = '2005-12-31'\n",
    "df['value'] /= 100\n",
    "xtrain, xvalid  = df.loc[df.index <= cutoff_date], df.loc[df.index > cutoff_date]\n",
    "print(xtrain.shape, xvalid.shape)"
   ]
  },
  {
   "cell_type": "code",
   "execution_count": null,
   "id": "085cebc0",
   "metadata": {},
   "outputs": [],
   "source": [
    "from statsmodels.tsa.holtwinters import ExponentialSmoothing\n",
    "\n",
    "\n",
    "fit1 = ExponentialSmoothing(xtrain['value'].values, seasonal_periods = 12,\n",
    "                           trend = 'mul', seasonal = 'mul')"
   ]
  },
  {
   "cell_type": "code",
   "execution_count": null,
   "id": "8dcc12a1",
   "metadata": {},
   "outputs": [],
   "source": [
    "fit1 = fit1.fit()"
   ]
  },
  {
   "cell_type": "code",
   "execution_count": null,
   "id": "96cfe66b",
   "metadata": {},
   "outputs": [],
   "source": [
    "prediction = fit1.forecast(len(xvalid)).copy()\n",
    "\n",
    "xresiduals = xvalid['value'] - prediction"
   ]
  },
  {
   "cell_type": "code",
   "execution_count": null,
   "id": "09645cbb",
   "metadata": {},
   "outputs": [],
   "source": [
    "fit1.params_formatted"
   ]
  },
  {
   "cell_type": "code",
   "execution_count": null,
   "id": "6e9d4ba8",
   "metadata": {},
   "outputs": [],
   "source": [
    "plot_acf(xresiduals, lags = 25)\n",
    "print()"
   ]
  },
  {
   "cell_type": "code",
   "execution_count": null,
   "id": "497ff7e1",
   "metadata": {},
   "outputs": [],
   "source": [
    "plot_pacf(xresiduals, lags = 25)\n",
    "print()"
   ]
  },
  {
   "cell_type": "markdown",
   "id": "38102f4b",
   "metadata": {},
   "source": [
    "# Prophet"
   ]
  },
  {
   "cell_type": "markdown",
   "id": "9fc63899",
   "metadata": {},
   "source": [
    "Dedicated notebook:  https://www.kaggle.com/konradb/practical-time-series-pt-4-prophet\n",
    "\n",
    "Dataset: https://www.kaggle.com/piantic/autonomous-greenhouse-challengeagc-2nd-2019"
   ]
  },
  {
   "cell_type": "code",
   "execution_count": null,
   "id": "c1feeb08",
   "metadata": {},
   "outputs": [],
   "source": [
    "from fbprophet import Prophet"
   ]
  },
  {
   "cell_type": "code",
   "execution_count": null,
   "id": "b1974ce9",
   "metadata": {},
   "outputs": [],
   "source": [
    "xdat = pd.read_csv('../input/greenhouse-dataset/GreenhouseClimate1.csv')\n",
    "xdat.head(3)"
   ]
  },
  {
   "cell_type": "code",
   "execution_count": null,
   "id": "936e1810",
   "metadata": {},
   "outputs": [],
   "source": [
    "xdat['time'] = pd.to_datetime(xdat['time'], unit = 'D', origin = \"1899-12-30\")\n",
    "xdat.head(3)"
   ]
  },
  {
   "cell_type": "code",
   "execution_count": null,
   "id": "eecb8d8c",
   "metadata": {},
   "outputs": [],
   "source": [
    "list1 = ['time', 'Tair']\n",
    "\n",
    "list2 = ['co2_sp', 'dx_sp', 't_rail_min_sp', 't_grow_min_sp',\n",
    "        'assim_sp', 'scr_enrg_sp', 'scr_blck_sp', 't_heat_sp',\n",
    "        't_vent_sp', 'window_pos_lee_sp', 'water_sup_intervals_sp_min',\n",
    "        'int_blue_sp', 'int_red_sp', 'int_farred_sp',\n",
    "        'int_white_sp']\n",
    "\n",
    "xdat = xdat[list1 + list2]"
   ]
  },
  {
   "cell_type": "code",
   "execution_count": null,
   "id": "520c13ad",
   "metadata": {},
   "outputs": [],
   "source": [
    "xdat2 = xdat.resample('H', on = 'time').mean().reset_index()[list1 + list2]"
   ]
  },
  {
   "cell_type": "code",
   "execution_count": null,
   "id": "da818398",
   "metadata": {},
   "outputs": [],
   "source": [
    "np.isnan(xdat2[['Tair'] + list2]).describe()\n"
   ]
  },
  {
   "cell_type": "code",
   "execution_count": null,
   "id": "cf01cf9e",
   "metadata": {},
   "outputs": [],
   "source": [
    "np.isnan(xdat2[['Tair'] + list2]).describe()\n",
    "\n",
    "xdat2.dropna(subset = ['Tair'], inplace = True)"
   ]
  },
  {
   "cell_type": "code",
   "execution_count": null,
   "id": "40b1afbc",
   "metadata": {},
   "outputs": [],
   "source": [
    "xdat2['Tair'][0:1000].plot()"
   ]
  },
  {
   "cell_type": "code",
   "execution_count": null,
   "id": "465fa5f5",
   "metadata": {},
   "outputs": [],
   "source": [
    "df = xdat2[['time', 'Tair']].rename(columns={\"time\": \"ds\", \"Tair\": \"y\"})"
   ]
  },
  {
   "cell_type": "code",
   "execution_count": null,
   "id": "b860485a",
   "metadata": {},
   "outputs": [],
   "source": [
    "m = Prophet(weekly_seasonality=False, \n",
    "            interval_width = 0.95,\n",
    "            mcmc_samples = 10)"
   ]
  },
  {
   "cell_type": "code",
   "execution_count": null,
   "id": "b8bc874b",
   "metadata": {},
   "outputs": [],
   "source": [
    "m.fit(df)"
   ]
  },
  {
   "cell_type": "code",
   "execution_count": null,
   "id": "e9be97ea",
   "metadata": {},
   "outputs": [],
   "source": [
    "future = m.make_future_dataframe(periods = 24, freq = 'H')\n",
    "forecast = m.predict(future)\n",
    "m.plot_components(forecast)\n",
    "print()"
   ]
  },
  {
   "cell_type": "code",
   "execution_count": null,
   "id": "f26e38d7",
   "metadata": {},
   "outputs": [],
   "source": [
    "m = Prophet(weekly_seasonality=False, interval_width = 0.95)\n",
    "\n",
    "m.fit(df)\n",
    "future = m.make_future_dataframe(periods= 24, freq = 'H')\n",
    "forecast = m.predict(future)\n",
    "m.plot_components(forecast, figsize=(CFG.img_dim1, CFG.img_dim2))\n",
    "print()"
   ]
  },
  {
   "cell_type": "code",
   "execution_count": null,
   "id": "ca9e9a6a",
   "metadata": {},
   "outputs": [],
   "source": [
    "from fbprophet.diagnostics import cross_validation, performance_metrics"
   ]
  },
  {
   "cell_type": "code",
   "execution_count": null,
   "id": "d45b85a8",
   "metadata": {},
   "outputs": [],
   "source": [
    "df_cv = cross_validation(m,initial = '3700 hours', period = '24 hours', horizon = '24 hours')\n",
    "df_cv.head(10)"
   ]
  },
  {
   "cell_type": "code",
   "execution_count": null,
   "id": "c049e26d",
   "metadata": {},
   "outputs": [],
   "source": [
    "df_p1 = performance_metrics(df_cv)\n",
    "df_p1.head(10)"
   ]
  },
  {
   "cell_type": "code",
   "execution_count": null,
   "id": "e1e99f41",
   "metadata": {},
   "outputs": [],
   "source": [
    "from sklearn.linear_model import Ridge\n",
    "from sklearn.feature_selection import RFE\n",
    "# incorporate the climate and irrigation setpoints\n",
    "\n",
    "xdat2 = xdat2.dropna()\n",
    "\n",
    "estimator = Ridge()\n",
    "selector = RFE(estimator, n_features_to_select=3, step=1)\n",
    "selector = selector.fit(xdat2[list2], xdat2['Tair'])\n",
    "# \n",
    "to_keep = xdat2[list2].columns[selector.support_]\n",
    "\n",
    "\n",
    "print(to_keep)"
   ]
  },
  {
   "cell_type": "code",
   "execution_count": null,
   "id": "f9afde84",
   "metadata": {},
   "outputs": [],
   "source": [
    "df = xdat2[['time', 'Tair']].rename(columns={\"time\": \"ds\", \"Tair\": \"y\"})\n",
    "\n",
    "m = Prophet(weekly_seasonality=False, interval_width = 0.95)\n",
    "\n",
    "# add the regressors to the dataframe holding the data\n",
    "for f in to_keep:    \n",
    "    df[f] = xdat2[f]\n",
    "    m.add_regressor(f)\n",
    "\n",
    "# the rest proceeds as before. \n",
    "m.fit(df)"
   ]
  },
  {
   "cell_type": "code",
   "execution_count": null,
   "id": "c9ed50e1",
   "metadata": {},
   "outputs": [],
   "source": [
    "# we repeat the same evaluation tactic as before\n",
    "df_cv = cross_validation(m, initial = '3700 hours', period = '24 hours', horizon='24 hours')\n",
    "df_p2 = performance_metrics(df_cv)"
   ]
  },
  {
   "cell_type": "code",
   "execution_count": null,
   "id": "2596f4c2",
   "metadata": {},
   "outputs": [],
   "source": [
    "comparison = pd.DataFrame()\n",
    "comparison['raw'] = df_p1.mean(axis = 0)[1:]\n",
    "comparison['covariates'] = df_p2.mean(axis = 0)[1:]\n",
    "\n",
    "print(comparison)"
   ]
  },
  {
   "cell_type": "markdown",
   "id": "6c3b5258",
   "metadata": {},
   "source": [
    "Neural Prophet NN component: https://www.arxiv-vanity.com/papers/1911.12436/\n"
   ]
  },
  {
   "cell_type": "code",
   "execution_count": null,
   "id": "f48bb3ea",
   "metadata": {},
   "outputs": [],
   "source": [
    "!pip install neuralprophet"
   ]
  },
  {
   "cell_type": "code",
   "execution_count": null,
   "id": "4b52752f",
   "metadata": {},
   "outputs": [],
   "source": [
    "from neuralprophet import NeuralProphet"
   ]
  },
  {
   "cell_type": "code",
   "execution_count": null,
   "id": "e03f665b",
   "metadata": {},
   "outputs": [],
   "source": [
    "df = xdat2[['time', 'Tair']].rename(columns={\"time\": \"ds\", \"Tair\": \"y\"})\n",
    "\n",
    "model = NeuralProphet(weekly_seasonality = False)\n",
    "\n",
    "model.fit(df, freq=\"H\")\n",
    "# forecast\n",
    "df_predict = model.make_future_dataframe(df, periods= 24)\n",
    "df_predict = model.predict(df_predict)\n",
    "fig = model.plot(df_predict)"
   ]
  }
 ],
 "metadata": {},
 "nbformat": 4,
 "nbformat_minor": 5
}
