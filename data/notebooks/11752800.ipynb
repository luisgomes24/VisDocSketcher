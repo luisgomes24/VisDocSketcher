{
 "cells": [
  {
   "cell_type": "markdown",
   "id": "12fb0b09",
   "metadata": {},
   "source": [
    "# Exploring ship images\n",
    "\n",
    "In this exercise, we're going to explore a dataset of images of ships and manipulate some of the data."
   ]
  },
  {
   "cell_type": "code",
   "execution_count": null,
   "id": "36c50c33",
   "metadata": {},
   "outputs": [],
   "source": [
    "# This Python 3 environment comes with many helpful analytics libraries installed\n",
    "# It is defined by the kaggle/python Docker image: https://github.com/kaggle/docker-python\n",
    "# For example, here's several helpful packages to load\n",
    "\n",
    "import numpy as np # linear algebra\n",
    "import pandas as pd # data processing, CSV file I/O (e.g. pd.read_csv)\n",
    "\n",
    "# Input data files are available in the read-only \"../input/\" directory\n",
    "# For example, running this (by clicking run or pressing Shift+Enter) will list all files under the input directory\n",
    "\n",
    "import os\n",
    "for dirname, _, filenames in os.walk('/kaggle/input'):\n",
    "    for filename in filenames:\n",
    "        print(os.path.join(dirname, filename))\n",
    "\n",
    "# You can write up to 5GB to the current directory (/kaggle/working/) that gets preserved as output when you create a version using \"Save & Run All\" \n",
    "# You can also write temporary files to /kaggle/temp/, but they won't be saved outside of the current session"
   ]
  },
  {
   "cell_type": "code",
   "execution_count": null,
   "id": "7e17e5f2",
   "metadata": {},
   "outputs": [],
   "source": [
    "import json, sys, random\n",
    "import numpy as np"
   ]
  },
  {
   "cell_type": "markdown",
   "id": "38c85ff2",
   "metadata": {},
   "source": [
    "The entire dataset is available as a JSON file."
   ]
  },
  {
   "cell_type": "code",
   "execution_count": null,
   "id": "7c16f3db",
   "metadata": {},
   "outputs": [],
   "source": [
    "# download dataset from json object\n",
    "f = open(r'../input/ships-in-satellite-imagery/shipsnet.json')\n",
    "dataset = json.load(f)\n",
    "f.close()"
   ]
  },
  {
   "cell_type": "markdown",
   "id": "a40a760d",
   "metadata": {},
   "source": [
    "The images are stored as the `data` key, and the labels are stored as the `label` key (1 = \"ship\", 0 = \"no ship\")."
   ]
  },
  {
   "cell_type": "code",
   "execution_count": null,
   "id": "9a02a758",
   "metadata": {},
   "outputs": [],
   "source": [
    "data = np.array(dataset['data']).astype('uint8')\n",
    "labels = np.array(dataset['labels']).astype('uint8')"
   ]
  },
  {
   "cell_type": "markdown",
   "id": "c7e91743",
   "metadata": {},
   "source": [
    "The dataset contains 4000 images. One image is represented as a vector of length 19200 elements."
   ]
  },
  {
   "cell_type": "code",
   "execution_count": null,
   "id": "6fb27d48",
   "metadata": {},
   "outputs": [],
   "source": [
    "data.shape"
   ]
  },
  {
   "cell_type": "markdown",
   "id": "9ecf1d6f",
   "metadata": {},
   "source": [
    "The dataset includes 4000 labels, corresponding to each image."
   ]
  },
  {
   "cell_type": "code",
   "execution_count": null,
   "id": "1b4bc608",
   "metadata": {},
   "outputs": [],
   "source": [
    "print(labels.shape)\n",
    "print(labels[0:10])"
   ]
  },
  {
   "cell_type": "markdown",
   "id": "1230b910",
   "metadata": {},
   "source": [
    "From the dataset description, we know that each image has 3 color channels (RGB), and is 80x80 pixels."
   ]
  },
  {
   "cell_type": "code",
   "execution_count": null,
   "id": "252693d3",
   "metadata": {},
   "outputs": [],
   "source": [
    "n_spectrum = 3 # color chanel (RGB)\n",
    "width = 80\n",
    "height = 80\n",
    "X = data.reshape([-1, n_spectrum, width, height])\n",
    "\n",
    "X.shape"
   ]
  },
  {
   "cell_type": "markdown",
   "id": "1be0e9e6",
   "metadata": {},
   "source": [
    "So now we have 4000 images, each with 3 channels and 80x80 pixels."
   ]
  },
  {
   "cell_type": "markdown",
   "id": "087066a2",
   "metadata": {},
   "source": [
    "## Task 1 \n",
    "\n",
    "Display 20 images with ships in them, and 20 images with no ships."
   ]
  },
  {
   "cell_type": "code",
   "execution_count": null,
   "id": "b41755d7",
   "metadata": {},
   "outputs": [],
   "source": [
    "# Your code here...\n",
    "import matplotlib.pyplot as plt\n",
    "for i in range(20):\n",
    "    plt.imshow(np.moveaxis(X[i], 0, -1)) # reshape won't work\n",
    "    plt.show()"
   ]
  },
  {
   "cell_type": "code",
   "execution_count": null,
   "id": "57625c44",
   "metadata": {},
   "outputs": [],
   "source": [
    "noships = np.argwhere(labels==0)[:20].flatten()\n",
    "for i in noships:\n",
    "    plt.imshow(np.moveaxis(X[i], 0, -1))\n",
    "    plt.show()"
   ]
  },
  {
   "cell_type": "markdown",
   "id": "996b828f",
   "metadata": {},
   "source": [
    "## Task 2\n",
    "\n",
    "create histogram of R, B, G channel means and standard deviations"
   ]
  },
  {
   "cell_type": "code",
   "execution_count": null,
   "id": "9414b11a",
   "metadata": {},
   "outputs": [],
   "source": [
    "# Your code here...\n",
    "\n",
    "Xmeans = X.mean(axis=0) # returns array of shape (n_spectrum, width(?), height(?))\n",
    "Xstds = X.std(axis=0)\n",
    "\n",
    "# Means for the three channels\n",
    "fig, axs = plt.subplots(1, 3, constrained_layout=True)\n",
    "titles = list('RGB')\n",
    "for i, ax in enumerate(axs):\n",
    "    ax.hist(Xmeans[i, :, :].flatten())\n",
    "    ax.set_title(titles[i])\n",
    "fig.suptitle('means')\n",
    "fig.show()\n",
    "\n",
    "# Std for the three channels\n",
    "fig, axs = plt.subplots(1, 3, constrained_layout=True)\n",
    "for i, ax in enumerate(axs):\n",
    "    ax.hist(Xstds[i, :, :].flatten())\n",
    "    ax.set_title(titles[i])\n",
    "fig.suptitle('stds')\n",
    "fig.show()"
   ]
  },
  {
   "cell_type": "markdown",
   "id": "10f03a7d",
   "metadata": {},
   "source": [
    "## Task 3\n",
    "\n",
    "Normalize each image so that R, B, and G channels have mean = 0 and standard deviation = 1, create histograms again."
   ]
  },
  {
   "cell_type": "code",
   "execution_count": null,
   "id": "7dc98996",
   "metadata": {},
   "outputs": [],
   "source": [
    "# Your code here..."
   ]
  },
  {
   "cell_type": "code",
   "execution_count": null,
   "id": "118c4ccc",
   "metadata": {},
   "outputs": [],
   "source": [
    "nan"
   ]
  }
 ],
 "metadata": {},
 "nbformat": 4,
 "nbformat_minor": 5
}
