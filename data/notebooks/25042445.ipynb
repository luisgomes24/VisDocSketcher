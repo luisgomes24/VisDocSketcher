{
 "cells": [
  {
   "cell_type": "code",
   "execution_count": null,
   "id": "9e464b38",
   "metadata": {},
   "outputs": [],
   "source": [
    "import numpy as np\n",
    "import pandas as pd \n",
    "\n",
    "\n",
    "TRAIN_PATH = \"../input/spaceship-titanic/train.csv\""
   ]
  },
  {
   "cell_type": "code",
   "execution_count": null,
   "id": "44ba92d2",
   "metadata": {},
   "outputs": [],
   "source": [
    "train = pd.read_csv(TRAIN_PATH)\n",
    "train.columns"
   ]
  },
  {
   "cell_type": "code",
   "execution_count": null,
   "id": "0fbae604",
   "metadata": {},
   "outputs": [],
   "source": [
    "def checkNull_fillData(df):\n",
    "    for col in df.columns:\n",
    "        if len(df.loc[df[col].isnull() == True]) != 0:\n",
    "            if df[col].dtype == \"float64\" or df[col].dtype == \"int64\":\n",
    "                df.loc[df[col].isnull() == True,col] = df[col].mean()\n",
    "            else:\n",
    "                df.loc[df[col].isnull() == True,col] = df[col].mode()[0]\n",
    "                \n",
    "checkNull_fillData(train)"
   ]
  },
  {
   "cell_type": "code",
   "execution_count": null,
   "id": "24622c66",
   "metadata": {},
   "outputs": [],
   "source": [
    "train[\"Age\"]"
   ]
  },
  {
   "cell_type": "markdown",
   "id": "d03f37e1",
   "metadata": {},
   "source": [
    "# 1.pandas cut"
   ]
  },
  {
   "cell_type": "code",
   "execution_count": null,
   "id": "bc69c487",
   "metadata": {},
   "outputs": [],
   "source": [
    "DEVIDE_NUM = 10\n",
    "train[\"Age_Cut\"] = pd.cut(train[\"Age\"].values,DEVIDE_NUM)\n",
    "train[\"Age_Cut\"]"
   ]
  },
  {
   "cell_type": "code",
   "execution_count": null,
   "id": "dfbf07d0",
   "metadata": {},
   "outputs": [],
   "source": [
    "train[\"Age_Cut\"].value_counts()"
   ]
  },
  {
   "cell_type": "code",
   "execution_count": null,
   "id": "2f2db4c0",
   "metadata": {},
   "outputs": [],
   "source": [
    "DEVIDE_NUM = 10\n",
    "train[\"Age_Cut\"] = pd.cut(train[\"Age\"].values,DEVIDE_NUM,labels=np.arange(0,DEVIDE_NUM))\n",
    "train[\"Age_Cut\"] = train[\"Age_Cut\"].astype(int) \n",
    "train[\"Age_Cut\"]"
   ]
  },
  {
   "cell_type": "code",
   "execution_count": null,
   "id": "076ea77b",
   "metadata": {},
   "outputs": [],
   "source": [
    "train[\"Age_Cut\"].value_counts()"
   ]
  },
  {
   "cell_type": "code",
   "execution_count": null,
   "id": "7db11e54",
   "metadata": {},
   "outputs": [],
   "source": [
    "DEVIDE_NUM = 10\n",
    "train[\"Age_Cut\"] = pd.cut(train[\"Age\"].values,DEVIDE_NUM,labels=[0,10,20,30,40,50,60,70,80,90])\n",
    "train[\"Age_Cut\"] = train[\"Age_Cut\"].astype(int) \n",
    "train[\"Age_Cut\"]"
   ]
  },
  {
   "cell_type": "code",
   "execution_count": null,
   "id": "57d35f25",
   "metadata": {},
   "outputs": [],
   "source": [
    "train[\"Age_Cut\"].value_counts()"
   ]
  },
  {
   "cell_type": "markdown",
   "id": "02a9830f",
   "metadata": {},
   "source": [
    "# 2.pandas qcut"
   ]
  },
  {
   "cell_type": "code",
   "execution_count": null,
   "id": "9fd8c58c",
   "metadata": {},
   "outputs": [],
   "source": [
    "DEVIDE_NUM = 10\n",
    "train[\"Age_QCut\"] = pd.qcut(train[\"Age\"].values,DEVIDE_NUM)\n",
    "train[\"Age_QCut\"]"
   ]
  },
  {
   "cell_type": "code",
   "execution_count": null,
   "id": "5cd3e3fc",
   "metadata": {},
   "outputs": [],
   "source": [
    "train[\"Age_QCut\"].value_counts()"
   ]
  },
  {
   "cell_type": "code",
   "execution_count": null,
   "id": "2f416618",
   "metadata": {},
   "outputs": [],
   "source": [
    "DEVIDE_NUM = 10\n",
    "train[\"Age_QCut\"] = pd.qcut(train[\"Age\"].values,DEVIDE_NUM,labels=np.arange(0,DEVIDE_NUM))\n",
    "train[\"Age_QCut\"] = train[\"Age_QCut\"].astype(int) \n",
    "train[\"Age_QCut\"]"
   ]
  },
  {
   "cell_type": "code",
   "execution_count": null,
   "id": "782dc9e1",
   "metadata": {},
   "outputs": [],
   "source": [
    "train[\"Age_QCut\"].value_counts()"
   ]
  },
  {
   "cell_type": "code",
   "execution_count": null,
   "id": "a687b28e",
   "metadata": {},
   "outputs": [],
   "source": [
    "DEVIDE_NUM = 10\n",
    "train[\"Age_QCut\"] = pd.qcut(train[\"Age\"].values,DEVIDE_NUM,labels=[0,10,20,30,40,50,60,70,80,90])\n",
    "train[\"Age_QCut\"] = train[\"Age_QCut\"].astype(int) \n",
    "train[\"Age_QCut\"] "
   ]
  },
  {
   "cell_type": "code",
   "execution_count": null,
   "id": "79d56066",
   "metadata": {},
   "outputs": [],
   "source": [
    "train[\"Age_QCut\"].value_counts()"
   ]
  },
  {
   "cell_type": "markdown",
   "id": "45885897",
   "metadata": {},
   "source": [
    "# 3.apply function "
   ]
  },
  {
   "cell_type": "code",
   "execution_count": null,
   "id": "99f7f4d1",
   "metadata": {},
   "outputs": [],
   "source": [
    "def age_group_function(age):\n",
    "    if age <= 0:return 0\n",
    "    elif (age > 0) & (age <= 10):return 1\n",
    "    elif (age > 10) & (age <= 20):return 2\n",
    "    elif (age > 20) & (age <= 30):return 3\n",
    "    elif (age > 30) & (age <= 40):return 4\n",
    "    elif (age > 40) & (age <= 50):return 5\n",
    "    elif (age > 50) & (age <= 60):return 6\n",
    "    elif (age > 60) & (age <= 70):return 7\n",
    "    elif (age > 70) & (age <= 80):return 8\n",
    "    elif (age > 80) & (age <= 90):return 9\n",
    "    else:return 10\n",
    "    \n",
    "train[\"Age_Generation\"] = train[\"Age\"].apply(age_group_function)\n",
    "train[\"Age_Generation\"]"
   ]
  },
  {
   "cell_type": "code",
   "execution_count": null,
   "id": "977dc70b",
   "metadata": {},
   "outputs": [],
   "source": [
    "train[\"Age_Generation\"].value_counts()"
   ]
  }
 ],
 "metadata": {},
 "nbformat": 4,
 "nbformat_minor": 5
}
