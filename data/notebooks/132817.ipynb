{
 "cells": [
  {
   "cell_type": "markdown",
   "id": "cb1be27b",
   "metadata": {},
   "source": [
    "Just a simple script to show the raw CT data for each patient as well as a few relevant clinical notes"
   ]
  },
  {
   "cell_type": "code",
   "execution_count": null,
   "id": "53cbc0e3",
   "metadata": {},
   "outputs": [],
   "source": [
    "import numpy as np # linear algebra\n",
    "import pandas as pd # data processing, CSV file I/O (e.g. pd.read_csv)\n",
    "import matplotlib.pyplot as plt\n",
    "from skimage.util.montage import montage2d\n",
    "import os\n",
    "import h5py"
   ]
  },
  {
   "cell_type": "code",
   "execution_count": null,
   "id": "5f569d4b",
   "metadata": {},
   "outputs": [],
   "source": [
    "study_df = pd.read_csv(os.path.join('..', 'input', 'study_list.csv'))\n",
    "study_df.sample(3) # show 3 random patients"
   ]
  },
  {
   "cell_type": "markdown",
   "id": "e0820d20",
   "metadata": {},
   "source": [
    "# MIP View\n",
    "Show the maximum intensity projection to highlight bones and other strongly absorbing features"
   ]
  },
  {
   "cell_type": "code",
   "execution_count": null,
   "id": "cd60dba2",
   "metadata": {},
   "outputs": [],
   "source": [
    "%matplotlib inline\n",
    "with h5py.File(os.path.join('..', 'input', 'patient_images_lowres.h5'), 'r') as p_data:\n",
    "    fig, m_axs = plt.subplots(2, 2, figsize=(12, 8), dpi = 250)\n",
    "    for c_ax, (p_id, p_img) in zip(m_axs.flatten(), p_data['ct_data'].items()):\n",
    "        c_df = study_df[study_df['Patient ID']==p_id].head(1)\n",
    "        c_dict = list(c_df.head(1).T.to_dict().values())[0]\n",
    "        c_ax.imshow(np.max(p_img,1).squeeze()[::-1,:], cmap = 'bone')\n",
    "        c_ax.set_title('{Patient ID}\\n{Site of primary STS} - {Grade}'.format(**c_dict))\n",
    "        c_ax.set_aspect(2.5)\n",
    "        c_ax.axis('off')"
   ]
  },
  {
   "cell_type": "markdown",
   "id": "a0c9c014",
   "metadata": {},
   "source": [
    "# Radiography View \n",
    "Project all of the slices together to show the total absorption at a given point"
   ]
  },
  {
   "cell_type": "code",
   "execution_count": null,
   "id": "621050b4",
   "metadata": {},
   "outputs": [],
   "source": [
    "%matplotlib inline\n",
    "with h5py.File(os.path.join('..', 'input', 'patient_images_lowres.h5'), 'r') as p_data:\n",
    "    fig, m_axs = plt.subplots(2, 2, figsize=(12, 8), dpi = 250)\n",
    "    for c_ax, (p_id, p_img) in zip(m_axs.flatten(), p_data['ct_data'].items()):\n",
    "        c_df = study_df[study_df['Patient ID']==p_id].head(1)\n",
    "        c_dict = list(c_df.head(1).T.to_dict().values())[0]\n",
    "        c_ax.imshow(np.sum(p_img,1).squeeze()[::-1,:], cmap = 'bone')\n",
    "        c_ax.set_title('{Patient ID}\\n{Site of primary STS} - {Grade}'.format(**c_dict))\n",
    "        c_ax.set_aspect(2.5)\n",
    "        c_ax.axis('off')"
   ]
  },
  {
   "cell_type": "markdown",
   "id": "ca7d3d22",
   "metadata": {},
   "source": [
    "# All Slices as Montage\n",
    "Here all the slices of a single patient are shown as a montage"
   ]
  },
  {
   "cell_type": "code",
   "execution_count": null,
   "id": "d28c943a",
   "metadata": {},
   "outputs": [],
   "source": [
    "%matplotlib inline\n",
    "with h5py.File(os.path.join('..', 'input', 'patient_images_lowres.h5'), 'r') as p_data:\n",
    "    fig, m_axs = plt.subplots(1, 1, figsize=(6, 6), dpi = 250)\n",
    "    for c_ax, (p_id, p_img) in zip([m_axs], p_data['ct_data'].items()):\n",
    "        c_df = study_df[study_df['Patient ID']==p_id].head(1)\n",
    "        c_dict = list(c_df.head(1).T.to_dict().values())[0]\n",
    "        c_ax.imshow(montage2d(np.array(p_img)), cmap = 'bone', vmin = -1024, vmax = 1024)\n",
    "        c_ax.set_title('{Patient ID}\\n{Site of primary STS} - {Grade}'.format(**c_dict))\n",
    "        c_ax.axis('off')"
   ]
  },
  {
   "cell_type": "code",
   "execution_count": null,
   "id": "80ba8962",
   "metadata": {},
   "outputs": [],
   "source": [
    "nan"
   ]
  }
 ],
 "metadata": {},
 "nbformat": 4,
 "nbformat_minor": 5
}
