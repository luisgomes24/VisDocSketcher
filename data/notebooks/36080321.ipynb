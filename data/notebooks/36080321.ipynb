{
 "cells": [
  {
   "cell_type": "markdown",
   "id": "5c828aa9",
   "metadata": {},
   "source": [
    "<div style=\"color:#3F497F;font-size:70px;font-family:Georgia;text-align:center;\">A/B Testing</div>\n",
    "\n",
    "<div style=\"float:center;margin-left:210px;max-width:60%;\">\n",
    "<img src=\"https://cdn.dribbble.com/users/299116/screenshots/16642724/media/2df13bcb6b66092dc502b92cd441deba.jpg\"></div>\n",
    "\n",
    "\n",
    "\n",
    "<strong style=\"color:#443C68;font-size:20px;font-family:Georgia;text-align:center;\">“A/B testing can provide value, but it shouldn’t come at the expense of other areas of design.”\n",
    " </strong>\n",
    " \n",
    " The process of decision making in design has always been a popular area of discussion. Why do some designers make choices that others don’t, and why do some designs seemingly work better than others?\n",
    "\n",
    "From academic study to sketches and anecdotes, the design world is fascinated with process. But for all of the legendary stories of lore, few anecdotes in recent times have had the staying power of Google and its 41 shades of blue.\n",
    "\n",
    "In trying to determine which out of 2 shades of blue to use for link text, Google tested not only the 2, but also the 39 shades of blue in between. The story outlines a relatively minute decision but highlights a rapidly growing approach to making decisions. One based in experimentation, alternatives, and, most importantly, data.\n",
    "\n",
    "\n",
    "\n",
    "1. Define your conversion goal. In this example, you want to measure click-through rate. \n",
    "\n",
    "2. Design the A/B test. How big of a sample size do you want? Who will participate, new customers or existing customers? \n",
    "\n",
    "3. Gather data. Will you run your own test or use A/B testing software? For how long will the test run?\n",
    "\n",
    "4. Analyze the results. Which variation had the biggest positive impact on the conversion metric that matters most? \n",
    "\n",
    "\n",
    "\n",
    "<strong style=\"color:#443C68;font-size:20px;font-family:Georgia;\"> AB Testing Process </strong>\n",
    "\n",
    "* Understanding business problem & data\n",
    "* Detect and resolve problems in the data (Missing Value, Outliers, Unexpected Value)\n",
    "* Look summary stats and plots\n",
    "* Apply hypothesis testing and check assumptions\n",
    "* Check Normality & Homogeneity\n",
    "* Apply tests (Shapiro, Levene Test, T-Test, Welch Test, Mann Whitney U Test)\n",
    "* Evaluate the results\n",
    "* Make inferences\n",
    "* Recommend business decision to your customer/director/ceo etc.\n",
    "\n",
    "<div class=\"inner_cell\">\n",
    "<div class=\"text_cell_render border-box-sizing rendered_html\">\n",
    "<p></p><div class=\"list-group\" id=\"list-tab\" role=\"tablist\">\n",
    "  <h3 class=\"list-group-item list-group-item-action active\" data-toggle=\"list\" role=\"tab\" aria-controls=\"home\" style = \"background-color:#443C68;font-family:Georgia;color:#F0FF42;font-size:200%;text-align:LEFT;border-radius:20px 40px;overflow:hidden;border-style:dotted;border-width:1.8px;border-color:#FFEA20;\">...Table of Contents...</h3>\n",
    "  <a class=\"list-group-item list-group-item-action\" data-toggle=\"list\" href=\"#1\" role=\"tab\" aria-controls=\"home\" target=\"_self\" style = \"color:#000000; font-family:Charter;font-size:120%;\">Packages-Libraries-Settings <span class=\"badge badge-primary badge-pill\">1</span></a>\n",
    "  <a class=\"list-group-item list-group-item-action\" data-toggle=\"list\" href=\"#2\" role=\"tab\" aria-controls=\"messages\" target=\"_self\" style = \"color:#000000; font-family:Charter;font-size:120%;\">Data Understandıng<span class=\"badge badge-primary badge-pill\">2</span></a>\n",
    "  <a class=\"list-group-item list-group-item-action\" data-toggle=\"list\" href=\"#3\" role=\"tab\" aria-controls=\"settings\" target=\"_self\" style = \"color:#000000; font-family:Charter;font-size:120%;\">A/B Testing BEFORE Removing The Extreme Values<span class=\"badge badge-primary badge-pill\">3</span></a>\n",
    "  <a class=\"list-group-item list-group-item-action\" data-toggle=\"list\" href=\"#4\" role=\"tab\" aria-controls=\"settings\" target=\"_self\" style = \"color:#000000; font-family:Charter;font-size:120%;\">A/B Testing AFTER Removing The Extreme Values<span class=\"badge badge-primary badge-pill\">4</span></a> \n",
    "</div>\n",
    "</div>\n",
    "</div>"
   ]
  },
  {
   "cell_type": "markdown",
   "id": "49dea94b",
   "metadata": {},
   "source": [
    "\n",
    "\n",
    "<strong style=\"color:#443C68;font-size:20px;font-family:Georgia;text-align:center;\">  Descriptions: The data is about an A/B test with a mobile game called \"Cookie Cats\".\n",
    " </strong>\n",
    "\n",
    "Cookie Cats is a hugely popular mobile puzzle game developed by Tactile Entertainment. It's a classic \"connect three\" style puzzle game where the player must connect tiles of the same color in order to clear the board and win the level. It also features singing cats. We're not kidding!\n",
    "\n",
    "As players progress through the game they will encounter gates that force them to wait some time before they can progress or make an in-app purchase. In this project, we will analyze the result of an A/B test where the first gate in Cookie Cats was moved from level 30 to level 40. In particular, we will analyze the impact on player retention and game rounds.\n",
    "\n",
    "To complete this project, you should be comfortable working with pandas DataFrames and with using the pandas plot method. You should also have some understanding of hypothesis testing and bootstrap analysis.\n",
    "\n",
    "\n",
    "<strong style=\"color:#443C68;font-size:20px;font-family:Georgia;text-align:center;\">  Dataset columns descriptions:\n",
    " </strong>\n",
    "\n",
    "\n",
    "* userid: A unique number that identifies each player.\n",
    "* version: Whether the player was put in the control group (gate_30 - a gate at level 30) or the group with the moved gate (gate_40 - a gate at level 40).\n",
    "* sum_gamerounds: The number of game rounds played by the player during the first 14 days after install.\n",
    "* retention_1: Did the player come back and play 1 day after installing?\n",
    "* retention_7: Did the player come back and play 7 days after installing?"
   ]
  },
  {
   "cell_type": "markdown",
   "id": "dcfe8e10",
   "metadata": {},
   "source": [
    "<a id = \"1\"></a>\n",
    "<strong style=\"color:#443C68;font-size:20px;font-family:Georgia;text-align:center;\">  Packages-Libraries-Settings 📜 ⚙️ </strong>"
   ]
  },
  {
   "cell_type": "code",
   "execution_count": null,
   "id": "80036add",
   "metadata": {},
   "outputs": [],
   "source": [
    "#!pip install statsmodels\n",
    "import itertools\n",
    "import numpy as np\n",
    "import pandas as pd\n",
    "import matplotlib.pyplot as plt\n",
    "import seaborn as sns\n",
    "sns.set_style('whitegrid')\n",
    "palette = 'Set2'\n",
    "import warnings\n",
    "warnings.filterwarnings(\"ignore\")\n",
    "warnings.simplefilter(action='ignore', category=FutureWarning)\n",
    "import statsmodels.stats.api as sms\n",
    "from scipy.stats import ttest_1samp, shapiro, levene, ttest_ind, mannwhitneyu, \\\n",
    "    pearsonr, spearmanr, kendalltau, f_oneway, kruskal, normaltest\n",
    "from statsmodels.stats.proportion import proportions_ztest\n",
    "\n",
    "pd.set_option('display.max_columns', None)\n",
    "pd.set_option('display.max_rows', 20)\n",
    "pd.set_option('display.width', 180)\n",
    "pd.set_option('display.float_format', lambda x: '%.5f' % x)"
   ]
  },
  {
   "cell_type": "markdown",
   "id": "6575f6d9",
   "metadata": {},
   "source": [
    "\n",
    "<strong style=\"color:#443C68;font-size:20px;font-family:Georgia;text-align:center;\">  Load Data </strong>"
   ]
  },
  {
   "cell_type": "code",
   "execution_count": null,
   "id": "0f5c0327",
   "metadata": {},
   "outputs": [],
   "source": [
    "df = pd.read_csv('/kaggle/input/mobile-games-ab-testing/cookie_cats.csv')\n",
    "df.head()"
   ]
  },
  {
   "cell_type": "markdown",
   "id": "da5f459a",
   "metadata": {},
   "source": [
    "<a id = \"2\"></a>\n",
    "<strong style=\"color:#443C68;font-size:20px;font-family:Georgia;text-align:center;\"> Data Understandıng </strong>"
   ]
  },
  {
   "cell_type": "code",
   "execution_count": null,
   "id": "51f3aafc",
   "metadata": {},
   "outputs": [],
   "source": [
    "def check_df(dataframe, head=5):\n",
    "    print(\" SHAPE \".center(90,'~'))\n",
    "    print('Rows: {}'.format(dataframe.shape[0]))\n",
    "    print('Columns: {}'.format(dataframe.shape[1]))\n",
    "    print(\" TYPES \".center(90,'~'))\n",
    "    print(dataframe.dtypes)\n",
    "    print(\" HEAD \".center(90,'~'))\n",
    "    print(dataframe.head(head))\n",
    "    print(\" TAIL \".center(90,'~'))\n",
    "    print(dataframe.tail(head))\n",
    "    print(\" MISSING VALUES \".center(90,'~'))\n",
    "    print(dataframe.isnull().sum())\n",
    "    print(\" DUPLICATED VALUES \".center(90,'~'))\n",
    "    print(dataframe.duplicated().sum())\n",
    "    print(\" DESCRIBE \".center(90,'~'))\n",
    "    print(dataframe.describe().T)\n",
    "    \n",
    "check_df(df)"
   ]
  },
  {
   "cell_type": "code",
   "execution_count": null,
   "id": "f996bc13",
   "metadata": {},
   "outputs": [],
   "source": [
    "fig, axes = plt.subplots(1, 3, figsize = (16, 6), facecolor = \"#FFFFFF\", sharey = True)\n",
    "\n",
    "sns.countplot(x = \"retention_1\", data = df, hue = \"version\",\n",
    "              ax = axes[0], palette = [\"#2B3467\", \"#FFA3FD\"]).set_title(\"Gate 30\")\n",
    "\n",
    "sns.countplot(x = \"retention_7\", data = df, hue = \"version\",\n",
    "              ax = axes[1], palette = [\"#2B3467\", \"#FFA3FD\"]).set_title(\"Gate 40\")\n",
    "\n",
    "sns.countplot(x = \"version\", data = df, hue = \"version\",\n",
    "              ax = axes[2], palette = [\"#2B3467\", \"#FFA3FD\"]).set_title(\"Version\")\n",
    "\n",
    "for ax in axes:\n",
    "    \n",
    "    ax.set_facecolor(\"#e5e5e5\")\n",
    "    ax.get_legend().remove()\n",
    "    ax.set_yticks([])\n",
    "    \n",
    "    for p in ax.patches:\n",
    "        \n",
    "        txt = p.get_height()\n",
    "        ax.text(p.get_x() + 0.125, p.get_height()*1.01, txt, fontsize = 10)\n",
    "        \n",
    "axes[1].set_ylabel(\"\")\n",
    "        \n",
    "handles, labels = axes[0].get_legend_handles_labels()\n",
    "fig.legend(handles, labels, loc = \"upper center\")\n",
    "\n",
    "sns.despine(left = True, bottom = True)\n",
    "plt.show()\n",
    "\n",
    "print(\"\\033[1m####**RETENTION_1**#####\\n\\033[0m\")\n",
    "print(pd.DataFrame({\"retention_1\": df['retention_1'].value_counts(),\n",
    "                        \"Ratio\": 100 * df['retention_1'].value_counts() / len(df)}))\n",
    "\n",
    "\n",
    "print(\"\\033[1m####**RETENTION_7**#####\\n\\033[0m\")\n",
    "print(pd.DataFrame({'retention_7': df['retention_7'].value_counts(),\n",
    "                        \"Ratio\": 100 * df['retention_7'].value_counts() / len(df)}))\n",
    "\n",
    "\n",
    "print(\"\\033[1m####**VERSION**#####\\n\\033[0m\")\n",
    "print(pd.DataFrame({'version': df['version'].value_counts(),\n",
    "                        \"Ratio\": 100 * df['version'].value_counts() / len(df)}))"
   ]
  },
  {
   "cell_type": "markdown",
   "id": "e31b274c",
   "metadata": {},
   "source": [
    "<strong style=\"color:#443C68;font-size:20px;font-family:Georgia;text-align:center;\"> Retention variables gives us player retention details. </strong>\n",
    "\n",
    "* retention_1 - did the player come back and play 1 day after installing?\n",
    "* retention_7 - did the player come back and play 7 days after installing?\n",
    "Also players tend not to play the game! There are many players who quit the game.\n",
    "\n",
    "* 55 percent of the players didn't play the game 1 day after insalling\n",
    "* 81 percent of the players didn't play the game 7 day after insalling"
   ]
  },
  {
   "cell_type": "code",
   "execution_count": null,
   "id": "d6e1a090",
   "metadata": {},
   "outputs": [],
   "source": [
    "df['sum_gamerounds'].sort_values()"
   ]
  },
  {
   "cell_type": "code",
   "execution_count": null,
   "id": "f345f705",
   "metadata": {},
   "outputs": [],
   "source": [
    "fig, ax = plt.subplots(figsize = (12, 8), facecolor = \"#FFFFFF\")\n",
    "ax.set_facecolor(\"#FFFFFF\")\n",
    "\n",
    "sns.boxplot(data=df, x=\"sum_gamerounds\", y=\"version\", hue=\"version\", dodge=False,\n",
    "            flierprops={\"marker\": \"x\"}, width=.8, fliersize=10)\n",
    "plt.title('Before Removing The Extreme Values', size = 10, color='#443C68')\n",
    "plt.ylabel('.', size = 10,color=\"#443C68\" )\n",
    "plt.xlabel('sum_gamerounds Density', fontsize = 10,color=\"#443C68\" )\n",
    "plt.xticks(size = 10)\n",
    "plt.yticks(size = 10)\n",
    "plt.show()\n"
   ]
  },
  {
   "cell_type": "markdown",
   "id": "1380a88a",
   "metadata": {},
   "source": [
    "<strong style=\"color:#443C68;font-size:20px;font-family:Georgia;text-align:center;\"> As can be seen from the data, there are outliers in the sum_gamerounds column. What if we set up our hypotheses without clearing out the outliers? Let's see... </strong>\n",
    "\n",
    "\n",
    "<a id = \"3\"></a>\n",
    "<strong style=\"color:#443C68;font-size:40px;font-family:Georgia;text-align:center;\"> A/B Testing Before Removing The Extreme Values </strong>\n",
    "\n",
    "<strong style=\"color:#443C68;font-size:20px;font-family:Georgia;text-align:center;\"> H0: Distribution is Normal! </strong>\n",
    "\n",
    "<strong style=\"color:#443C68;font-size:20px;font-family:Georgia;text-align:center;\"> H1: Distribution is not Normal! </strong>\n",
    "\n",
    "<strong style=\"color:#443C68;font-size:20px;font-family:Georgia;text-align:center;\"> H0: M1 = M2</strong>\n",
    "\n",
    "<strong style=\"color:#443C68;font-size:20px;font-family:Georgia;text-align:center;\"> H1: M1 != M2</strong>\n"
   ]
  },
  {
   "cell_type": "code",
   "execution_count": null,
   "id": "eb21a936",
   "metadata": {},
   "outputs": [],
   "source": [
    "df['userid'].nunique()"
   ]
  },
  {
   "cell_type": "code",
   "execution_count": null,
   "id": "57b207a2",
   "metadata": {},
   "outputs": [],
   "source": [
    "# A/B Groups & Target Summary Stats\n",
    "df.groupby(\"version\").agg({'sum_gamerounds': [\"count\", \"median\", \"mean\", \"std\", \"max\"]})"
   ]
  },
  {
   "cell_type": "markdown",
   "id": "8bca9d16",
   "metadata": {},
   "source": [
    "<strong style=\"color:#443C68;font-size:30px;font-family:Georgia;text-align:center;\">  Normality</strong>\n",
    "\n",
    "\n"
   ]
  },
  {
   "cell_type": "code",
   "execution_count": null,
   "id": "dbe72c5d",
   "metadata": {},
   "outputs": [],
   "source": [
    "print(\"\\033[1msum_gamerounds normality for gate 40: \\n\\033[0m\")\n",
    "test_stat, pvalue = shapiro(df.loc[df[\"version\"] == \"gate_30\", \"sum_gamerounds\"])\n",
    "print('Test Stat = %.4f, p-value = %.4f' % (test_stat, pvalue))\n",
    "\n",
    "print(\"\\033[1mOur series is not normally distributed. \\n\\033[0m\")\n"
   ]
  },
  {
   "cell_type": "code",
   "execution_count": null,
   "id": "6e6bf91c",
   "metadata": {},
   "outputs": [],
   "source": [
    "\n",
    "print(\"\\033[1msum_gamerounds normality for gate 40: \\n\\033[0m\")\n",
    "test_stat, pvalue = shapiro(df.loc[df[\"version\"] == \"gate_40\", \"sum_gamerounds\"])\n",
    "print('Test Stat = %.4f, p-value = %.4f' % (test_stat, pvalue))\n",
    "\n",
    "print(\"\\033[1mOur series is not normally distributed. \\n\\033[0m\")\n",
    "    "
   ]
  },
  {
   "cell_type": "markdown",
   "id": "ff9e0faf",
   "metadata": {},
   "source": [
    "<strong style=\"color:#443C68;font-size:30px;font-family:Georgia;text-align:center;\">  Homogeneity of variances </strong>\n",
    "\n",
    "\n"
   ]
  },
  {
   "cell_type": "code",
   "execution_count": null,
   "id": "69fc964d",
   "metadata": {},
   "outputs": [],
   "source": [
    "print(\"\\033[1msum_gamerounds normality for gate 30 and gate 40: \\n\\033[0m\")\n",
    "\n",
    "\n",
    "test_stat, pvalue = levene(df.loc[df[\"version\"] == \"gate_30\", \"sum_gamerounds\"],\n",
    "                           df.loc[df[\"version\"] == \"gate_40\", \"sum_gamerounds\"])\n",
    "print('Test Stat = %.4f, p-value = %.4f' % (test_stat, pvalue))\n",
    "\n",
    "\n",
    "print(\"\\033[1mOur series is not homogen. \\n\\033[0m\")\n"
   ]
  },
  {
   "cell_type": "code",
   "execution_count": null,
   "id": "f372e75c",
   "metadata": {},
   "outputs": [],
   "source": [
    "#non-parametrik test\n",
    "test_stat, pvalue = mannwhitneyu(df.loc[df[\"version\"] == \"gate_30\", \"sum_gamerounds\"],\n",
    "                                 df.loc[df[\"version\"] == \"gate_40\", \"sum_gamerounds\"])\n",
    "\n",
    "print('Test Stat = %.4f, p-value = %.4f' % (test_stat, pvalue))\n",
    "\n",
    "print(\"\\033[1mWe can not reject H0 hypothesis, \"\n",
    "              \"so that A/B groups are similar!.\\n\\033[0m\")\n"
   ]
  },
  {
   "cell_type": "markdown",
   "id": "f126802e",
   "metadata": {},
   "source": [
    "<a id = \"4\"></a>\n",
    "<strong style=\"color:#443C68;font-size:40px;font-family:Georgia;text-align:center;\"> A/B Testing After Removing The Extreme Values </strong>\n",
    "\n",
    "<strong style=\"color:#443C68;font-size:20px;font-family:Georgia;text-align:center;\"> H0: Distribution is Normal! </strong>\n",
    "\n",
    "<strong style=\"color:#443C68;font-size:20px;font-family:Georgia;text-align:center;\"> H1: Distribution is not Normal! </strong>\n",
    "\n",
    "<strong style=\"color:#443C68;font-size:20px;font-family:Georgia;text-align:center;\"> H0: M1 = M2</strong>\n",
    "\n",
    "<strong style=\"color:#443C68;font-size:20px;font-family:Georgia;text-align:center;\"> H1: M1 != M2</strong>\n"
   ]
  },
  {
   "cell_type": "code",
   "execution_count": null,
   "id": "28ad95d7",
   "metadata": {},
   "outputs": [],
   "source": [
    "\n",
    "df = df[df.sum_gamerounds < df.sum_gamerounds.max()]\n",
    "df['sum_gamerounds'].describe()"
   ]
  },
  {
   "cell_type": "code",
   "execution_count": null,
   "id": "5cd0bd5e",
   "metadata": {},
   "outputs": [],
   "source": [
    "fig, ax = plt.subplots(figsize = (12, 8), facecolor = \"#FFFFFF\")\n",
    "ax.set_facecolor(\"#FFFFFF\")\n",
    "\n",
    "sns.boxplot(data=df, x=\"sum_gamerounds\", y=\"version\", hue=\"version\", dodge=False,\n",
    "            flierprops={\"marker\": \"x\"}, width=.8, fliersize=10)\n",
    "plt.title('After Removing The Extreme Values', size = 10, color='#443C68')\n",
    "plt.ylabel('.', size = 10,color=\"#443C68\" )\n",
    "plt.xlabel('sum_gamerounds Density', fontsize = 10,color=\"#443C68\" )\n",
    "plt.xticks(size = 10)\n",
    "plt.yticks(size = 10)\n",
    "plt.show()\n"
   ]
  },
  {
   "cell_type": "code",
   "execution_count": null,
   "id": "e990a2d9",
   "metadata": {},
   "outputs": [],
   "source": [
    "# What is the confidence interval for the 'REVENUE' value?\n",
    "\n",
    "sms.DescrStatsW(df[\"sum_gamerounds\"]).tconfint_mean()"
   ]
  },
  {
   "cell_type": "code",
   "execution_count": null,
   "id": "11cf01ea",
   "metadata": {},
   "outputs": [],
   "source": [
    "df.groupby('version').agg({'sum_gamerounds': ['sum', 'count']}).reset_index()\n"
   ]
  },
  {
   "cell_type": "markdown",
   "id": "da91f168",
   "metadata": {},
   "source": [
    "<strong style=\"color:#443C68;font-size:30px;font-family:Georgia;text-align:center;\"> Normality</strong>\n",
    "\n",
    "\n"
   ]
  },
  {
   "cell_type": "code",
   "execution_count": null,
   "id": "7bfcaf57",
   "metadata": {},
   "outputs": [],
   "source": [
    "print(\"\\033[1msum_gamerounds normality for gate 40: \\n\\033[0m\")\n",
    "test_stat, pvalue = shapiro(df.loc[df[\"version\"] == \"gate_30\", \"sum_gamerounds\"])\n",
    "print('Test Stat = %.4f, p-value = %.4f' % (test_stat, pvalue))\n",
    "\n",
    "print(\"\\033[1mOur series is not normally distributed. \\n\\033[0m\")\n"
   ]
  },
  {
   "cell_type": "code",
   "execution_count": null,
   "id": "8d7b251c",
   "metadata": {},
   "outputs": [],
   "source": [
    "print(\"\\033[1msum_gamerounds normality for gate 40: \\n\\033[0m\")\n",
    "test_stat, pvalue = shapiro(df.loc[df[\"version\"] == \"gate_40\", \"sum_gamerounds\"])\n",
    "print('Test Stat = %.4f, p-value = %.4f' % (test_stat, pvalue))\n",
    "\n",
    "\n",
    "print(\"\\033[1mOur series is not normally distributed. \\n\\033[0m\")\n"
   ]
  },
  {
   "cell_type": "markdown",
   "id": "369448f8",
   "metadata": {},
   "source": [
    "<strong style=\"color:#443C68;font-size:30px;font-family:Georgia;text-align:center;\"> Homogeneity of variances </strong>\n",
    "\n"
   ]
  },
  {
   "cell_type": "code",
   "execution_count": null,
   "id": "dce893ac",
   "metadata": {},
   "outputs": [],
   "source": [
    "print(\"\\033[1msum_gamerounds normality for gate 30 and gate 40: \\n\\033[0m\")\n",
    "\n",
    "\n",
    "test_stat, pvalue = levene(df.loc[df[\"version\"] == \"gate_30\", \"sum_gamerounds\"],\n",
    "                           df.loc[df[\"version\"] == \"gate_40\", \"sum_gamerounds\"])\n",
    "print('Test Stat = %.4f, p-value = %.4f' % (test_stat, pvalue))\n",
    "\n",
    "print(\"\\033[1mOur variance of series is homogen. \\n\\033[0m\")\n"
   ]
  },
  {
   "cell_type": "code",
   "execution_count": null,
   "id": "bc90b8bb",
   "metadata": {},
   "outputs": [],
   "source": [
    "#non-parametrik test\n",
    "test_stat, pvalue = mannwhitneyu(df.loc[df[\"version\"] == \"gate_30\", \"sum_gamerounds\"],\n",
    "                                 df.loc[df[\"version\"] == \"gate_40\", \"sum_gamerounds\"])\n",
    "\n",
    "print('Test Stat = %.4f, p-value = %.4f' % (test_stat, pvalue))\n",
    "\n",
    "print(\"\\033[1mWe can not reject H0 hypothesis, \"\n",
    "              \"so that A/B groups are similar!.\\n\\033[0m\")"
   ]
  },
  {
   "cell_type": "markdown",
   "id": "c20bc5ba",
   "metadata": {},
   "source": [
    "\n",
    "<strong style=\"color:#443C68;font-size:40px;font-family:Georgia;text-align:center;\"> Conclusion: </strong>\n",
    "\n",
    "<strong style=\"color:#443C68;font-size:30px;font-family:Arial;text-align:center;\"> If we need to summarise briefly;</strong>\n",
    "\n",
    "<strong style=\"color:#443C68;font-size:20px;font-family:Arial;text-align:center;\"> We apply Mann Whitney U test for comparing sum_gamerounds for both version.</strong>\n",
    " \n",
    " <strong style=\"color:#443C68;font-size:20px;font-family:Arial;text-align:center;\"> For Mann Whitney U test, we don't have statistically significant difference between groups. They have similar sum_gamerounds.</strong>\n",
    "      \n",
    " <strong style=\"color:#443C68;font-size:20px;font-family:Arial;text-align:center;\">The Mann Whitney U test I ran before cleaning out the outliers yielded p_value=0.0502. </strong>\n",
    "          \n",
    " <strong style=\"color:#443C68;font-size:20px;font-family:Arial;text-align:center;\">When I cleared the maximum value, p_value=0.0509 appeared. In this case, we can say that the H0 hypothesis cannot be rejected. </strong>\n",
    "               \n",
    "<strong style=\"color:#443C68;font-size:20px;font-family:Arial;text-align:center;\">However, in order to reach a clearer conclusion, it is necessary to perform A/B test on a larger data set. In addition, a larger change to the outliers may reduce the yyy value to less than 0.05.</strong>\n",
    "\n"
   ]
  },
  {
   "cell_type": "markdown",
   "id": "57eddf1d",
   "metadata": {},
   "source": [
    "<p style=\"padding:15px;\n",
    "background-color:#f4ebdc;\n",
    "margin:0; color:#B3005E; border:2px dotted #C689C6; font-family:Charter; font-weight: bold; font-size:250%; text-align:center; overflow:hidden; font-weight:500\">If you like this then please UPVOTE this. Your opinions and suggestions are very important to me...Thanks <img src=\"https://media.giphy.com/media/WUlplcMpOCEmTGBtBW/giphy.gif\" width=\"100\"> <div style=\"float:center;margin-left:270px;max-width:50%;\">"
   ]
  },
  {
   "cell_type": "markdown",
   "id": "cf5a5413",
   "metadata": {},
   "source": [
    "\n"
   ]
  },
  {
   "cell_type": "markdown",
   "id": "f12916db",
   "metadata": {},
   "source": [
    "<p style=\"padding:15px;\n",
    "background-color:#f4ebdc;\n",
    "margin:0; color:#B3005E; border:2px dotted #C689C6; font-family:Charter; font-weight: bold; font-size:250%; text-align:center; overflow:hidden; font-weight:500\">\n",
    "FOR MORE:</p> \n",
    "\n",
    "https://www.linkedin.com/in/serdar-ozturk/\n",
    "\n",
    "https://github.com/Serdar-Trk\n",
    "\n",
    "https://medium.com/@serdar.f95\n",
    "\n",
    "<p style=\"padding:15px;\n",
    "background-color:#f4ebdc;\n",
    "margin:0; color:#B3005E; border:2px dotted #C689C6; font-family:Charter; font-weight: bold; font-size:250%; text-align:center; overflow:hidden; font-weight:500\">CREDITS:</p> \n",
    "\n",
    "[https://numpy.org/](http://)\n",
    "\n",
    "[https://seaborn.pydata.org/](http://)\n",
    "\n",
    "[https://pandas.pydata.org](http://)\n",
    "\n",
    "[https://pandas.pydata.org/](http://)\n",
    "\n",
    "[https://learning.miuul.com](http://)"
   ]
  }
 ],
 "metadata": {},
 "nbformat": 4,
 "nbformat_minor": 5
}
