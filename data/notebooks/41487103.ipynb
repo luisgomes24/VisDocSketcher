{
 "cells": [
  {
   "cell_type": "markdown",
   "id": "7ff32ac7",
   "metadata": {},
   "source": [
    "# <p style=\"font-family:JetBrains Mono; font-weight:bold; letter-spacing: 2px; color:#BC13FE; font-size:140%; text-align:left;padding: 0px; border-bottom: 3px solid #BC13FE\">RSNA : RadioLogical Society of North America </p>"
   ]
  },
  {
   "cell_type": "code",
   "execution_count": null,
   "id": "473d9534",
   "metadata": {},
   "outputs": [],
   "source": [
    "import warnings\n",
    "warnings.filterwarnings(\"ignore\")"
   ]
  },
  {
   "cell_type": "markdown",
   "id": "41951a37",
   "metadata": {},
   "source": [
    "<div style=\"border-radius:10px; border:#BC13FE solid; padding: 15px; background-color: #F3f9ed; font-size:100%; text-align:left\">\n",
    "\n",
    "The $RSNA$ $2023$ $Abdominal$ $Trauma$ $Detection$ competition is a `machine learning challenge` that aims to `develop algorithms` to `detect abdominal trauma` in $Computed$ $Tomography$ $(CT)$ images. The competition is hosted by the $Radiological$ $Society$ of $North$ $America$ $(RSNA)$ \n",
    "    \n",
    "I couldnt find a good meme related to $RSNA$, so here is $Lightning$ $McQueen$ to cheer $($ $Ka$ $Choww$ $)$\n",
    "    \n",
    "<img src = \"https://media2.giphy.com/media/v1.Y2lkPTc5MGI3NjExdHUxOHhmNm9zY25jejFzYnBjNHZpdjY1eG10NWRnZXZtcmF1Znk1MSZlcD12MV9naWZzX3NlYXJjaCZjdD1n/B1CrvUCoMxhy8/giphy.gif\" width = 300>\n",
    "\n",
    "Thanks to **[Theo Viel](https://www.kaggle.com/theoviel)** for providing small chunks of data to experiment \n",
    "    \n",
    "$KUDOS$ $!!!$"
   ]
  },
  {
   "cell_type": "markdown",
   "id": "06030252",
   "metadata": {},
   "source": [
    "# <p style=\"font-family:JetBrains Mono; font-weight:bold; letter-spacing: 2px; color:#21FC0D; font-size:140%; text-align:left;padding: 0px; border-bottom: 3px solid #21FC0D\">1 | Data 📊</p>"
   ]
  },
  {
   "cell_type": "code",
   "execution_count": null,
   "id": "61d375c4",
   "metadata": {},
   "outputs": [],
   "source": [
    "import pandas as pd \n",
    "import pydicom"
   ]
  },
  {
   "cell_type": "markdown",
   "id": "db2e052f",
   "metadata": {},
   "source": [
    "<div style=\"border-radius:10px; border:#21FC0D solid; padding: 15px; background-color: #F3f9ed; font-size:100%; text-align:left\">\n",
    "    \n",
    "Our main data is situated in a `CSV` file $--->$ `train.csv` "
   ]
  },
  {
   "cell_type": "code",
   "execution_count": null,
   "id": "84f47600",
   "metadata": {},
   "outputs": [],
   "source": [
    "train_csv = pd.read_csv(\"/kaggle/input/rsna-2023-abdominal-trauma-detection/train.csv\")\n",
    "print(train_csv.shape)\n",
    "train_csv.head()"
   ]
  },
  {
   "cell_type": "markdown",
   "id": "51432f86",
   "metadata": {},
   "source": [
    "<div style=\"border-radius:10px; border:#21FC0D solid; padding: 15px; background-color: #F3f9ed; font-size:100%; text-align:left\">\n",
    "\n",
    "This csv file contains the `patient_id` and further explanatory columns \n",
    "\n",
    "* $Patient$ $ID$ `patient_id` - THis column contains the ids of $3,147$ patients.\n",
    "\n",
    "Further columns denote what symptons were shown by the specific patient. We can use the `patient_id` to get information from `train_images` Folder.\n",
    "\n",
    "$Train$ $Images$ is a big $3$ $level$ nested - directory, contianing images for the specific patient . There are different folders in the Direcotry that denote the `patient_id`\n",
    "\n",
    "The `images` are `labeled` with the `presence` or `absence of abdominal trauma`, as well as the `location of any injuries`. The data is provided in `DICOM` format, which is a standard format for medical images.\n",
    "    \n",
    "The type of data in the competition dataset is $CT$ images of `patients with abdominal trauma`. The images are labeled with the `presence`/`absence` of `abdominal trauma`, as well as the `location of any injuries`. The data is provided in `DICOM` `format`, which is a standard format for medical images.\n",
    "\n",
    "We can read the `DCIM` file through `pydicom`"
   ]
  },
  {
   "cell_type": "code",
   "execution_count": null,
   "id": "c231511c",
   "metadata": {},
   "outputs": [],
   "source": [
    "image_file = \"/kaggle/input/rsna-2023-abdominal-trauma-detection/train_images/10004/21057/1001.dcm\"\n",
    "ds = pydicom.read_file(image_file)\n",
    "\n",
    "ds"
   ]
  },
  {
   "cell_type": "markdown",
   "id": "794c5ef7",
   "metadata": {},
   "source": [
    "# <p style=\"font-family:JetBrains Mono; font-weight:bold; letter-spacing: 2px; color:#FFF700; font-size:140%; text-align:left;padding: 0px; border-bottom: 3px solid #FFF700\">2 | Visualization 🔬</p>"
   ]
  },
  {
   "cell_type": "code",
   "execution_count": null,
   "id": "2559dc8b",
   "metadata": {},
   "outputs": [],
   "source": [
    "import numpy as np\n",
    "import tqdm\n",
    "import os \n",
    "\n",
    "import matplotlib.pyplot as plt\n",
    "import matplotlib.animation as animation\n",
    "import seaborn as sns\n",
    "\n",
    "from IPython.display import HTML"
   ]
  },
  {
   "cell_type": "markdown",
   "id": "9a69c144",
   "metadata": {},
   "source": [
    "<div style=\"border-radius:10px; border:#FFF700 solid; padding: 15px; background-color: #F3f9ed; font-size:100%; text-align:left\">\n",
    "\n",
    "Thanks to **[Yuanjian Li](https://www.kaggle.com/yuanjianli)=>[EDA with Animation BeginnerFriendly](https://www.kaggle.com/code/yuanjianli/eda-with-animation-beginnerfriendly/comments)/[Jocelyn Dumlao\n",
    "](https://www.kaggle.com/jocelyndumlao)=>[Unleashing the Healing Potential: Abdominal Trauma](https://www.kaggle.com/code/jocelyndumlao/unleashing-the-healing-potential-abdominal-trauma)** for providing great $CSV-EDA$ Do checkout"
   ]
  },
  {
   "cell_type": "code",
   "execution_count": null,
   "id": "97c41480",
   "metadata": {},
   "outputs": [],
   "source": [
    "organ_columns = ['bowel', 'extravasation', 'kidney', 'liver', 'spleen']\n",
    "\n",
    "organ_counts = pd.DataFrame()\n",
    "organ_counts['Organ'] = train_csv.columns[1:]\n",
    "organ_counts[\"count\"] = [0 for _ in range(organ_counts.shape[0])]\n",
    "for index , column in enumerate(train_csv.columns[1:]):\n",
    "    organ_counts['count'][index] = train_csv[column].sum()\n",
    "    \n",
    "plt.figure(figsize=(10, 3))\n",
    "sns.barplot(data=organ_counts.sort_values(by=['count']), x='Organ', y='count')\n",
    "plt.xticks(rotation=90)\n",
    "plt.title(\"Distribution of Injury\")\n",
    "plt.xlabel(\"Injury --->\")\n",
    "plt.ylabel(\"Count --->\")\n",
    "plt.show()"
   ]
  },
  {
   "cell_type": "markdown",
   "id": "d19357e9",
   "metadata": {},
   "source": [
    "<div style=\"border-radius:10px; border:#FFF700 solid; padding: 15px; background-color: #F3f9ed; font-size:100%; text-align:left\">\n",
    "\n",
    "Thanks to **[Franklin Shih0617](https://www.kaggle.com/franklinshih0617)=>[RSNA Abdominal Trauma Detect EDA animation](https://www.kaggle.com/code/franklinshih0617/rsna-abdominal-trauma-detect-eda-animation)** for providing great $Animations$. Do checkout"
   ]
  },
  {
   "cell_type": "code",
   "execution_count": null,
   "id": "57f61e98",
   "metadata": {},
   "outputs": [],
   "source": [
    "file_1 = ['/kaggle/input/rsna-2023-abdominal-trauma-detection/train_images/10004/21057/' + file\n",
    "         for file in os.listdir('/kaggle/input/rsna-2023-abdominal-trauma-detection/train_images/10004/21057')]\n",
    "file_2 = ['/kaggle/input/rsna-2023-abdominal-trauma-detection/train_images/10004/51033/' + file\n",
    "         for file in os.listdir('/kaggle/input/rsna-2023-abdominal-trauma-detection/train_images/10004/51033')]\n",
    "sample_files = file_1 + file_2\n",
    "\n",
    "sample_vid = [pydicom.dcmread(file).pixel_array for file in tqdm.tqdm(sample_files , total = len(sample_files))]\n",
    "\n",
    "fig, ax = plt.subplots()\n",
    "im = ax.imshow(sample_vid[0], cmap=plt.cm.bone)\n",
    "\n",
    "update = lambda i : im.set_array(sample_vid[i])\n",
    "\n",
    "ani = animation.FuncAnimation(fig, update, frames=range(len(sample_vid)), repeat=True)\n",
    "\n",
    "HTML(ani.to_jshtml())"
   ]
  },
  {
   "cell_type": "markdown",
   "id": "a8d20e53",
   "metadata": {},
   "source": [
    "# <p style=\"font-family:JetBrains Mono; font-weight:bold; letter-spacing: 2px; color:#FFC0CB; font-size:140%; text-align:left;padding: 0px; border-bottom: 3px solid #FFC0CB\">3 | Preprocessing 🔨</p>\n",
    "\n",
    "Our data is in Dicom File, but we want them in `NPY` format, which can take a lot of time, but lets try for the first $80$ inputs"
   ]
  },
  {
   "cell_type": "code",
   "execution_count": null,
   "id": "dfa4a185",
   "metadata": {},
   "outputs": [],
   "source": [
    "train_list = sorted(os.listdir('/kaggle/input/rsna-2023-abdominal-trauma-detection/train_images'))[:79]\n",
    "\n",
    "for folder_1 in tqdm.tqdm(train_list , total = len(train_list)):\n",
    "    \n",
    "    folder_1_list = sorted(os.listdir('/kaggle/input/rsna-2023-abdominal-trauma-detection/train_images/' + folder_1))\n",
    "    \n",
    "    os.makedirs('/kaggle/working/Inputs/' + folder_1 + '/')\n",
    "    lis = list()\n",
    "    \n",
    "    for folder_2 in folder_1_list:\n",
    "        \n",
    "        folder_2_list = sorted(os.listdir('/kaggle/input/rsna-2023-abdominal-trauma-detection/train_images/' + folder_1 + '/' + folder_2))\n",
    "        \n",
    "        for files in folder_2_list:\n",
    "            \n",
    "            file = pydicom.read_file('/kaggle/input/rsna-2023-abdominal-trauma-detection/train_images/' + folder_1 + '/' + folder_2 + '/' + files)\n",
    "            \n",
    "            arr = file.pixel_array\n",
    "            arr = np.resize(arr , new_shape = (512 , 512))\n",
    "            lis.append(arr)\n",
    "            \n",
    "        np.save('/kaggle/working/Inputs/' + folder_1 + '/' + 'file', np.stack(lis , -1))"
   ]
  },
  {
   "cell_type": "markdown",
   "id": "8879bd88",
   "metadata": {},
   "source": [
    "# <p style=\"font-family:JetBrains Mono; font-weight:bold; letter-spacing: 2px; color:#87CEEB; font-size:140%; text-align:left;padding: 0px; border-bottom: 3px solid #87CEEB\">4 | Ending ☑️</p>\n",
    "\n",
    "<div style=\"border-radius:10px; border:#87CEEB solid; padding: 15px; background-color: #F3f9ed; font-size:100%; text-align:left\">\n",
    "\n",
    "**THAT IT FOR TODAY GUYS**\n",
    "\n",
    "**WE WILL GO DEEPER INTO THE DATA IN THE UPCOMING VERSIONS**\n",
    "\n",
    "**PLEASE COMMENT YOUR THOUGHTS, HIHGLY APPRICIATED**\n",
    "\n",
    "**DONT FORGET TO MAKE AN UPVOTE, IF YOU LIKED MY WORK :)**\n",
    "    \n",
    "<IMG SRC = \"https://i.imgflip.com/19aadg.jpg\">\n",
    "\n",
    "**PEACE OUT !!!! :)**"
   ]
  }
 ],
 "metadata": {},
 "nbformat": 4,
 "nbformat_minor": 5
}
