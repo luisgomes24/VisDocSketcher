{
 "cells": [
  {
   "cell_type": "markdown",
   "id": "964fed6a",
   "metadata": {},
   "source": [
    "# How much does a Taxi ride cost in NYC?"
   ]
  },
  {
   "cell_type": "markdown",
   "id": "9707b9b9",
   "metadata": {},
   "source": [
    "I'm from Nepal and the fare rates are pretty much high in respect to the taxi fare/avg. person income ratio inside the country. I had a curosity of knowing how much do New Yorkers pay and will be paying (buhahaha) for their taxi fares."
   ]
  },
  {
   "cell_type": "markdown",
   "id": "1c15ac2c",
   "metadata": {},
   "source": [
    "## Importing the libraries as well as the data"
   ]
  },
  {
   "cell_type": "markdown",
   "id": "ba5fa049",
   "metadata": {},
   "source": [
    "You can do some fancy stuffs to import the whole massive amount of data more systematically."
   ]
  },
  {
   "cell_type": "code",
   "execution_count": null,
   "id": "52e55728",
   "metadata": {},
   "outputs": [],
   "source": [
    "import numpy as np \n",
    "import pandas as pd \n",
    "import matplotlib.pyplot as plt\n",
    "import seaborn as sns\n",
    "sns.set_style('whitegrid')\n",
    "%matplotlib inline"
   ]
  },
  {
   "cell_type": "markdown",
   "id": "b4e2a29c",
   "metadata": {},
   "source": [
    "Importing the training set,"
   ]
  },
  {
   "cell_type": "code",
   "execution_count": null,
   "id": "442402c2",
   "metadata": {},
   "outputs": [],
   "source": [
    "train_df = pd.read_csv('../input/train.csv', nrows = 100000)"
   ]
  },
  {
   "cell_type": "code",
   "execution_count": null,
   "id": "e17514db",
   "metadata": {},
   "outputs": [],
   "source": [
    "train_df.shape"
   ]
  },
  {
   "cell_type": "markdown",
   "id": "5c1b8568",
   "metadata": {},
   "source": [
    "The test data only has 9914 rows so it won't be taking much memory space."
   ]
  },
  {
   "cell_type": "code",
   "execution_count": null,
   "id": "77a351b8",
   "metadata": {},
   "outputs": [],
   "source": [
    "test_df = pd.read_csv('../input/test.csv')"
   ]
  },
  {
   "cell_type": "code",
   "execution_count": null,
   "id": "60ad0301",
   "metadata": {},
   "outputs": [],
   "source": [
    "test_df.shape"
   ]
  },
  {
   "cell_type": "markdown",
   "id": "33f3f354",
   "metadata": {},
   "source": [
    "# Understanding the data"
   ]
  },
  {
   "cell_type": "markdown",
   "id": "07913ced",
   "metadata": {},
   "source": [
    "Let me take a look at the head of the dataframe."
   ]
  },
  {
   "cell_type": "code",
   "execution_count": null,
   "id": "958522c8",
   "metadata": {},
   "outputs": [],
   "source": [
    "train_df.head(5)"
   ]
  },
  {
   "cell_type": "markdown",
   "id": "ba4e7fe9",
   "metadata": {},
   "source": [
    "Checking for null values,"
   ]
  },
  {
   "cell_type": "code",
   "execution_count": null,
   "id": "8fa4cda5",
   "metadata": {},
   "outputs": [],
   "source": [
    "train_df.isnull().sum()"
   ]
  },
  {
   "cell_type": "markdown",
   "id": "63a546f9",
   "metadata": {},
   "source": [
    "Removing the null values as the numbers are too less to spend time trying to handle the missing values of data."
   ]
  },
  {
   "cell_type": "code",
   "execution_count": null,
   "id": "7aa1c878",
   "metadata": {},
   "outputs": [],
   "source": [
    "train_df.dropna(inplace=True)"
   ]
  },
  {
   "cell_type": "markdown",
   "id": "26b26fa0",
   "metadata": {},
   "source": [
    "## Anamoly detection"
   ]
  },
  {
   "cell_type": "markdown",
   "id": "8a021bd8",
   "metadata": {},
   "source": [
    "Data this big certainly has to have some anomalies in it."
   ]
  },
  {
   "cell_type": "code",
   "execution_count": null,
   "id": "cdc652fe",
   "metadata": {},
   "outputs": [],
   "source": [
    "train_df.describe()"
   ]
  },
  {
   "cell_type": "markdown",
   "id": "c95ffcbd",
   "metadata": {},
   "source": [
    "The fare amount seems to be negative as well as the latitude and longitude are way too off. Let's quickly take care of it."
   ]
  },
  {
   "cell_type": "code",
   "execution_count": null,
   "id": "6afd6341",
   "metadata": {},
   "outputs": [],
   "source": [
    "train_df = train_df[train_df['fare_amount']>0]"
   ]
  },
  {
   "cell_type": "markdown",
   "id": "9cd6ad25",
   "metadata": {},
   "source": [
    "Checking the shape again,"
   ]
  },
  {
   "cell_type": "code",
   "execution_count": null,
   "id": "b1f3bbb2",
   "metadata": {},
   "outputs": [],
   "source": [
    "train_df.shape"
   ]
  },
  {
   "cell_type": "markdown",
   "id": "da538bd2",
   "metadata": {},
   "source": [
    "Let's get every data row with distance less than 15 miles out of the picture."
   ]
  },
  {
   "cell_type": "code",
   "execution_count": null,
   "id": "ed5b316b",
   "metadata": {},
   "outputs": [],
   "source": [
    "def distance(lat1, lon1, lat2, lon2):\n",
    "    a = 0.5 - np.cos((lat2 - lat1) *  0.017453292519943295)/2 + np.cos(lat1 * 0.017453292519943295) * np.cos(lat2 * 0.017453292519943295) * (1 - np.cos((lon2 - lon1) *  0.017453292519943295)) / 2\n",
    "    res = 0.6213712 * 12742 * np.arcsin(np.sqrt(a))\n",
    "    return res"
   ]
  },
  {
   "cell_type": "code",
   "execution_count": null,
   "id": "6bc36f20",
   "metadata": {},
   "outputs": [],
   "source": [
    "train_df['distance'] = distance(train_df.pickup_latitude, train_df.pickup_longitude, \\\n",
    "                                      train_df.dropoff_latitude,train_df.dropoff_longitude)"
   ]
  },
  {
   "cell_type": "markdown",
   "id": "e559a97b",
   "metadata": {},
   "source": [
    "Same for test set,"
   ]
  },
  {
   "cell_type": "code",
   "execution_count": null,
   "id": "4ae649bc",
   "metadata": {},
   "outputs": [],
   "source": [
    "test_df['distance'] = distance(test_df.pickup_latitude, test_df.pickup_longitude, \\\n",
    "                                      test_df.dropoff_latitude,test_df.dropoff_longitude)"
   ]
  },
  {
   "cell_type": "code",
   "execution_count": null,
   "id": "350a6bf7",
   "metadata": {},
   "outputs": [],
   "source": [
    "train_df = train_df[train_df['distance']<15]"
   ]
  },
  {
   "cell_type": "code",
   "execution_count": null,
   "id": "833194af",
   "metadata": {},
   "outputs": [],
   "source": [
    "train_df.describe()"
   ]
  },
  {
   "cell_type": "markdown",
   "id": "d4acf425",
   "metadata": {},
   "source": [
    "Remove data where there are no passengers or there are more than 10 passengers."
   ]
  },
  {
   "cell_type": "code",
   "execution_count": null,
   "id": "191a4f85",
   "metadata": {},
   "outputs": [],
   "source": [
    "train_df = train_df[(train_df['passenger_count']!=0) & (train_df['passenger_count']<10)]"
   ]
  },
  {
   "cell_type": "markdown",
   "id": "60a75615",
   "metadata": {},
   "source": [
    "Looks like we pretty much cleaned our training data! Time for some feature engineering."
   ]
  },
  {
   "cell_type": "code",
   "execution_count": null,
   "id": "72a38e0a",
   "metadata": {},
   "outputs": [],
   "source": [
    "# train_df['hour'] = train_df.pickup_datetime.apply(lambda x: pd.to_datetime(x).hour)\n",
    "# train_df['year'] = train_df.pickup_datetime.apply(lambda x: pd.to_datetime(x).year)\n",
    "\n",
    "# test_df['hour'] = test_df.pickup_datetime.apply(lambda x: pd.to_datetime(x).hour)\n",
    "# test_df['year'] = test_df.pickup_datetime.apply(lambda x: pd.to_datetime(x).year)"
   ]
  },
  {
   "cell_type": "markdown",
   "id": "66aafb72",
   "metadata": {},
   "source": [
    "Train test split,"
   ]
  },
  {
   "cell_type": "code",
   "execution_count": null,
   "id": "23392331",
   "metadata": {},
   "outputs": [],
   "source": [
    "feat_cols_s = ['distance','passenger_count']\n",
    "\n",
    "X = train_df[feat_cols_s]\n",
    "y = train_df['fare_amount']"
   ]
  },
  {
   "cell_type": "code",
   "execution_count": null,
   "id": "192633f2",
   "metadata": {},
   "outputs": [],
   "source": [
    "from sklearn.model_selection import train_test_split\n",
    "\n",
    "X_train, X_test, y_train, y_test = train_test_split(X, y, test_size=0.1)"
   ]
  },
  {
   "cell_type": "markdown",
   "id": "73a3a217",
   "metadata": {},
   "source": [
    "## Modeling using Random Forest Regressor"
   ]
  },
  {
   "cell_type": "code",
   "execution_count": null,
   "id": "11e3170a",
   "metadata": {},
   "outputs": [],
   "source": [
    "# from sklearn.ensemble import RandomForestRegressor"
   ]
  },
  {
   "cell_type": "code",
   "execution_count": null,
   "id": "8abaddb8",
   "metadata": {},
   "outputs": [],
   "source": [
    "# r_reg= RandomForestRegressor(n_estimators=500)"
   ]
  },
  {
   "cell_type": "code",
   "execution_count": null,
   "id": "20a78797",
   "metadata": {},
   "outputs": [],
   "source": [
    "# r_reg.fit(X_train,y_train)"
   ]
  },
  {
   "cell_type": "code",
   "execution_count": null,
   "id": "5afb61d3",
   "metadata": {},
   "outputs": [],
   "source": [
    "# y_pred_final = r_reg.predict(test_df[feat_cols_s])\n",
    "\n",
    "# submission = pd.DataFrame(\n",
    "#     {'key': test_df.key, 'fare_amount': y_pred_final},\n",
    "#     columns = ['key', 'fare_amount'])\n",
    "# submission.to_csv('Random Forest regression.csv', index = False)"
   ]
  },
  {
   "cell_type": "markdown",
   "id": "6b915e3d",
   "metadata": {},
   "source": [
    "# Modeling using XGBoost"
   ]
  },
  {
   "cell_type": "code",
   "execution_count": null,
   "id": "2cf7c57a",
   "metadata": {},
   "outputs": [],
   "source": [
    "import xgboost as xgb"
   ]
  },
  {
   "cell_type": "code",
   "execution_count": null,
   "id": "1f3bd81f",
   "metadata": {},
   "outputs": [],
   "source": [
    "def XGBoost(X_train,X_test,y_train,y_test,num_rounds=500):\n",
    "    dtrain = xgb.DMatrix(X_train,label=y_train)\n",
    "    dtest = xgb.DMatrix(X_test,label=y_test)\n",
    "\n",
    "    return xgb.train(params={'objective':'reg:linear','eval_metric':'rmse'}\n",
    "                    ,dtrain=dtrain,num_boost_round=num_rounds, \n",
    "                    early_stopping_rounds=20,evals=[(dtest,'test')],)"
   ]
  },
  {
   "cell_type": "code",
   "execution_count": null,
   "id": "ad4f4265",
   "metadata": {},
   "outputs": [],
   "source": [
    "xgbm = XGBoost(X_train,X_test,y_train,y_test)\n",
    "xgbm_pred = xgbm.predict(xgb.DMatrix(test_df[feat_cols_s]), ntree_limit = xgbm.best_ntree_limit)"
   ]
  },
  {
   "cell_type": "code",
   "execution_count": null,
   "id": "2a1c96e1",
   "metadata": {},
   "outputs": [],
   "source": [
    "submission = pd.DataFrame(\n",
    "    {'key': test_df.key, 'fare_amount':xgbm_pred},\n",
    "    columns = ['key', 'fare_amount'])\n",
    "submission.to_csv('XGboost regression.csv', index = False)"
   ]
  }
 ],
 "metadata": {},
 "nbformat": 4,
 "nbformat_minor": 5
}
