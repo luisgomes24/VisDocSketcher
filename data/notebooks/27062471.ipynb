{
 "cells": [
  {
   "cell_type": "code",
   "execution_count": null,
   "id": "874c84ff",
   "metadata": {},
   "outputs": [],
   "source": [
    "# This Python 3 environment comes with many helpful analytics libraries installed\n",
    "# It is defined by the kaggle/python Docker image: https://github.com/kaggle/docker-python\n",
    "# For example, here's several helpful packages to load\n",
    "\n",
    "import numpy as np # linear algebra\n",
    "import pandas as pd # data processing, CSV file I/O (e.g. pd.read_csv)\n",
    "\n",
    "# Input data files are available in the read-only \"../input/\" directory\n",
    "# For example, running this (by clicking run or pressing Shift+Enter) will list all files under the input directory\n",
    "\n",
    "import os\n",
    "for dirname, _, filenames in os.walk('/kaggle/input'):\n",
    "    for filename in filenames:\n",
    "        print(os.path.join(dirname, filename))\n",
    "\n",
    "# You can write up to 20GB to the current directory (/kaggle/working/) that gets preserved as output when you create a version using \"Save & Run All\" \n",
    "# You can also write temporary files to /kaggle/temp/, but they won't be saved outside of the current session"
   ]
  },
  {
   "cell_type": "markdown",
   "id": "b74c1743",
   "metadata": {},
   "source": [
    "<div style=\"color:white;\n",
    "           display:fill;\n",
    "           border-radius:5px;\n",
    "           background-color:black;\n",
    "           font-size:120%;\n",
    "           font-family:Verdana;\n",
    "           letter-spacing:0.5px\">\n",
    "\n",
    "<p style=\"padding: 10px;\n",
    "              color:white;\n",
    "              text-align:center;\">\n",
    "                            Data Info\n",
    "              \n",
    "</p>\n",
    "</div>"
   ]
  },
  {
   "cell_type": "markdown",
   "id": "c4acddaf",
   "metadata": {},
   "source": [
    "\n",
    "<table>\n",
    "  <tr>\n",
    "    <th>Features</th>\n",
    "    <th>MIN MAX Value</th>\n",
    "    <th>Description</th>\n",
    "  </tr>\n",
    "  <tr>\n",
    "    <td>Size </td>\n",
    "    <td>7,12,14,16,20</td>\n",
    "    <td>In order to adjust the flame size, 5 different sizes of fuel containers were used. \n",
    "        It was recorded for ease of procedure in classification problems as follows.\n",
    "        7 cm=1, 12 cm=2, 14 cm=3, 16 cm=4, 20 cm=5</td>\n",
    "  </tr>\n",
    "  <tr>\n",
    "    <td>Fuel</td>\n",
    "    <td>Gasoline, Kerosene, Thinner, LPG</td>\n",
    "    <td>Fuel type</td>\n",
    "  </tr>\n",
    "  <tr>\n",
    "    <td>Distance</td>\n",
    "    <td>10-190</td>\n",
    "    <td>Indicates the distance of the fuel container to the collimator.</td>\n",
    "  </tr>\n",
    "  <tr>\n",
    "    <td>Desibel</td>\n",
    "    <td>72-113</td>\n",
    "    <td>Indicates the decibel value in the area where the flame exist.</td>\n",
    "  </tr>\n",
    "  <tr>\n",
    "    <td>Airflow</td>\n",
    "    <td>0-17</td>\n",
    "    <td>Indicates the airflow created by sound waves.</td>\n",
    "  </tr>\n",
    "  <tr>\n",
    "    <td>Frequency</td>\n",
    "    <td>1-75</td>\n",
    "    <td>Indicates the frequency of the sound wave.</td>\n",
    "  </tr>\n",
    "  <tr>\n",
    "    <td>Status</td>\n",
    "    <td>0-1</td>\n",
    "    <td>0 indicates the non-extinction state, 1 indicates the extinction state.</td>\n",
    "  </tr>\n",
    "</table>"
   ]
  },
  {
   "cell_type": "code",
   "execution_count": null,
   "id": "7675f264",
   "metadata": {},
   "outputs": [],
   "source": [
    "!python3 -m pip install -q evalml==0.28.0"
   ]
  },
  {
   "cell_type": "code",
   "execution_count": null,
   "id": "2ae129ff",
   "metadata": {},
   "outputs": [],
   "source": [
    "!pip install evalml"
   ]
  },
  {
   "cell_type": "code",
   "execution_count": null,
   "id": "ba4ac4a6",
   "metadata": {},
   "outputs": [],
   "source": [
    "!pip install openpyxl"
   ]
  },
  {
   "cell_type": "code",
   "execution_count": null,
   "id": "a4c76c4a",
   "metadata": {},
   "outputs": [],
   "source": [
    "import matplotlib.pyplot as plt\n",
    "import seaborn as sns\n",
    "import plotly.express as px\n",
    "import plotly.graph_objects as go\n",
    "from plotly.subplots import make_subplots\n",
    "import warnings\n",
    "warnings.filterwarnings('ignore')\n",
    "import missingno as msno\n",
    "\n"
   ]
  },
  {
   "cell_type": "code",
   "execution_count": null,
   "id": "34ef809d",
   "metadata": {},
   "outputs": [],
   "source": [
    "df = pd.read_excel('/kaggle/input/acoustic-extinguisher-fire-dataset/Acoustic_Extinguisher_Fire_Dataset/Acoustic_Extinguisher_Fire_Dataset.xlsx')\n",
    "df.head()"
   ]
  },
  {
   "cell_type": "code",
   "execution_count": null,
   "id": "84fd25e4",
   "metadata": {},
   "outputs": [],
   "source": [
    "df.shape"
   ]
  },
  {
   "cell_type": "code",
   "execution_count": null,
   "id": "810a2642",
   "metadata": {},
   "outputs": [],
   "source": [
    "df.info()"
   ]
  },
  {
   "cell_type": "code",
   "execution_count": null,
   "id": "a0afff8e",
   "metadata": {},
   "outputs": [],
   "source": [
    "df.isna().sum()"
   ]
  },
  {
   "cell_type": "code",
   "execution_count": null,
   "id": "12579b01",
   "metadata": {},
   "outputs": [],
   "source": [
    "df.describe()"
   ]
  },
  {
   "cell_type": "markdown",
   "id": "08143524",
   "metadata": {},
   "source": [
    "<div style=\"color:white;\n",
    "           display:fill;\n",
    "           border-radius:5px;\n",
    "           background-color:black;\n",
    "           font-size:120%;\n",
    "           font-family:Verdana;\n",
    "           letter-spacing:0.5px\">\n",
    "\n",
    "<p style=\"padding: 10px;\n",
    "              color:white;\n",
    "              text-align:center;\">\n",
    "                            EDA\n",
    "              \n",
    "</p>\n",
    "</div>"
   ]
  },
  {
   "cell_type": "code",
   "execution_count": null,
   "id": "df690c0f",
   "metadata": {},
   "outputs": [],
   "source": [
    "df_corr = df.corr()\n",
    "df_corr"
   ]
  },
  {
   "cell_type": "code",
   "execution_count": null,
   "id": "377a6551",
   "metadata": {},
   "outputs": [],
   "source": [
    "fig = go.Figure()\n",
    "fig.add_trace(\n",
    "    go.Heatmap(\n",
    "        x = df_corr.columns,\n",
    "        y = df_corr.index,\n",
    "        z = np.array(df_corr),\n",
    "        text=df_corr.values,\n",
    "        texttemplate='%{text:.2f}',\n",
    "        colorscale='blugrn'\n",
    "        \n",
    "    )\n",
    ")\n",
    "\n",
    "\n",
    "fig.update_layout(margin={'b':0,'l':0,'r':0,},\n",
    "                 paper_bgcolor='rgb(248, 248, 255)',\n",
    "                 plot_bgcolor='rgb(248, 248, 255)',\n",
    "                 title_text='Correlation Matrix',\n",
    "                 title={'font':{\n",
    "                             'family':'monospace',\n",
    "                             'size':22,\n",
    "                             'color': 'grey',\n",
    "                         },\n",
    "                        'x':0.45,'y':0.9},\n",
    "                 width=800)\n",
    "fig.show()"
   ]
  },
  {
   "cell_type": "markdown",
   "id": "00360460",
   "metadata": {},
   "source": [
    "<div style=background-color:lightblue;>\n",
    "<p style=\"font-family: Arials, sans-serif; font-size: 16px; color: #000000\"><strong>INSIGHT:</strong></p>\n",
    "<ol style=\"font-family: Arials, sans-serif; font-size: 14px; line-height:1.5; color: rgba(0,0,0,.7)\">\n",
    "<li>There is a moderate positive relationship between frequency and decibel. There is a strong negative relationship between the airflow created by distance and sound pressure. Accordingly, it can be estimated that the airflow decreases as the distance increases. </li>\n",
    "    <p></p>"
   ]
  },
  {
   "cell_type": "code",
   "execution_count": null,
   "id": "c0dc47fc",
   "metadata": {},
   "outputs": [],
   "source": [
    "size = df['SIZE'].value_counts()\n",
    "\n",
    "fig = px.pie(names = size.index,\n",
    "             values = size,\n",
    "             hole = .5)\n",
    "\n",
    "fig.add_annotation(showarrow=False,x=0.50,y=0.5,text='Size Distriution',font=dict(size=15,color='grey'))\n",
    "\n",
    "fig.update_traces(marker = dict(colors=['lightblue','lightpink','lightyellow','lightgreen','plum','papayawhip','burlywood']),\n",
    "                 textinfo='label+percent')\n",
    "\n",
    "fig.update_layout(margin={'b':0,'l':0,'r':0,'t':100},\n",
    "                 paper_bgcolor='rgb(248, 248, 255)',\n",
    "                 plot_bgcolor='rgb(248, 248, 255)',\n",
    "                 title={'font':{\n",
    "                             'family':'monospace',\n",
    "                             'size':22,\n",
    "                             'color': 'grey'\n",
    "                         },\n",
    "                        'x':0.45,'y':0.9},)\n",
    "fig.show()"
   ]
  },
  {
   "cell_type": "code",
   "execution_count": null,
   "id": "f9512d17",
   "metadata": {},
   "outputs": [],
   "source": [
    "fuel = df['FUEL'].value_counts()\n",
    "\n",
    "fig = px.bar(x=fuel.index,\n",
    "             y = fuel,\n",
    "             text = fuel)\n",
    "fig.update_traces(textposition='outside', marker = dict(color=['gainsboro','silver','grey']))\n",
    "\n",
    "fig.update_layout(margin={'b':0,'l':0,'r':0,'t':100},\n",
    "                 paper_bgcolor='rgb(248, 248, 255)',\n",
    "                 plot_bgcolor='rgb(248, 248, 255)',\n",
    "                 title_text='Fuel',\n",
    "                 title={'font':{\n",
    "                             'family':'monospace',\n",
    "                             'size':22,\n",
    "                             'color': 'grey'\n",
    "                         },\n",
    "                        'x':0.45,'y':0.9},\n",
    "                 width=900)\n",
    "fig.show()"
   ]
  },
  {
   "cell_type": "code",
   "execution_count": null,
   "id": "dbb85d7e",
   "metadata": {},
   "outputs": [],
   "source": [
    "status = df.groupby('STATUS')['FUEL'].value_counts().reset_index(name='count')\n",
    "\n",
    "fig = px.bar(x = status['FUEL'],\n",
    "             y = status['count'],\n",
    "             color=status['STATUS'].astype('object'),\n",
    "             text = status['STATUS'],\n",
    "             barmode='group')\n",
    "\n",
    "fig.update_layout(margin={'b':0,'l':0,'r':0,},\n",
    "                 paper_bgcolor='rgb(248, 248, 255)',\n",
    "                 plot_bgcolor='rgb(248, 248, 255)',\n",
    "                 title_text='Gender & Fracture Counts',\n",
    "                 title={'font':{\n",
    "                             'family':'monospace',\n",
    "                             'size':22,\n",
    "                             'color': 'grey'\n",
    "                         },\n",
    "                        'x':0.48,'y':0.9},\n",
    "                 width=800)\n",
    "\n",
    "fig.show()"
   ]
  },
  {
   "cell_type": "code",
   "execution_count": null,
   "id": "f9b29aec",
   "metadata": {},
   "outputs": [],
   "source": [
    "fire = ['SIZE','DISTANCE','DESIBEL','AIRFLOW','FREQUENCY']\n",
    "a = 3\n",
    "b = 2\n",
    "c = 1\n",
    "\n",
    "fig = plt.figure(figsize=(10,10))\n",
    "\n",
    "for i in fire:\n",
    "    plt.subplot(a,b,c)\n",
    "    plt.title('{}, subplot: {} {} {}'. format(i,a,b,c))\n",
    "    sns.boxplot(data=df, x = df[i], hue=df['STATUS'])\n",
    "    c = c + 1\n",
    "    \n",
    "plt.tight_layout()\n",
    "plt.show()"
   ]
  },
  {
   "cell_type": "code",
   "execution_count": null,
   "id": "fadda083",
   "metadata": {},
   "outputs": [],
   "source": [
    "df1 = df.select_dtypes(exclude=['object'])\n",
    "\n",
    "for col in df1.iloc[:,:-1]:\n",
    "    fig = px.box(df1, x=col, color='STATUS',height=500,width=800,title=col+' VS Status')\n",
    "    \n",
    "    fig.update_traces()\n",
    "    fig.show()"
   ]
  },
  {
   "cell_type": "code",
   "execution_count": null,
   "id": "d5d9181d",
   "metadata": {},
   "outputs": [],
   "source": [
    "fig, axes = plt.subplots(\n",
    "                     ncols=2,\n",
    "                     nrows=3,\n",
    "                     figsize=(15, 15))\n",
    "\n",
    "ax1, ax2, ax3, ax4,ax5,ax6 = axes.flatten()\n",
    "\n",
    "sns.scatterplot(x='DISTANCE', y='DESIBEL', hue='STATUS',data=df, ax = ax1)\n",
    "\n",
    "sns.scatterplot(x='DESIBEL', y='AIRFLOW', hue='STATUS',data=df, ax = ax2)\n",
    "\n",
    "sns.scatterplot(x='DISTANCE', y='AIRFLOW', hue='STATUS',data=df, ax = ax3)\n",
    "\n",
    "sns.scatterplot(x='FREQUENCY', y='DESIBEL', hue='STATUS',data=df, ax = ax4)\n",
    "\n",
    "sns.scatterplot(x='FREQUENCY', y='AIRFLOW', hue='STATUS',data=df, ax = ax5)\n",
    "\n",
    "sns.scatterplot(x='DISTANCE', y='FREQUENCY', hue='STATUS',data=df, ax = ax6)\n",
    "\n",
    "plt.show()"
   ]
  },
  {
   "cell_type": "markdown",
   "id": "bd259b82",
   "metadata": {},
   "source": [
    "<div style=background-color:lightblue;>\n",
    "<p style=\"font-family: Arials, sans-serif; font-size: 16px; color: #000000\"><strong>Findings:</strong> By analyzing the categorical data, it is established:</p>\n",
    "\n",
    "<ol style=\"font-family: Arials, sans-serif; font-size: 14px; line-height:1.5; color: rgba(0,0,0,.7)\">\n",
    "\n",
    "<li>The decibel value decreases as the distance to the sound wave flame extinguishing system increases. We can observe that the flame can be extinguished in the value ranges of 85–98 dB and 100–110 dB.</li>\n",
    "<p></p>\n",
    "\n",
    "<li>Seond graph demonstrates that the flame can be extinguished within the decibel ranges of 85–98 dB and 100–110 dB, within the 2.5–17 m/s airflow range.</li>\n",
    "<p></p>\n",
    "\n",
    "<li>Third graph shows that the airflow value decreases as the distance increases. It can be stated that the flame can be extinguished with high airflow at close distances and low airflow at long distances. It was observed that flames can be extinguished within the range of 2.5–17 m/s airflow value.</li>\n",
    "<p></p>\n",
    "\n",
    "<li>From forth graph we can observe that the range of values required to extinguish the flame at frequencies between 10 and 50 Hz is 85–113 dB.</li>\n",
    "<p></p>\n",
    "\n",
    "<li>Fifth graph shows that the flame could be extinguished in the 2–70 Hz frequency range. </li>\n",
    "<p></p>\n",
    "\n",
    "<li>In last graph we can examone that flames with 10–55 Hz frequency ranges can be effectively extinguished at distances of 10–100 cm and flames with 12–30 Hz frequency ranges at distances between 100 and 170 cm for all fuel types.</li>\n",
    "<p></p>"
   ]
  },
  {
   "cell_type": "markdown",
   "id": "1cda0c84",
   "metadata": {},
   "source": [
    "<div style=\"color:white;\n",
    "           display:fill;\n",
    "           border-radius:5px;\n",
    "           background-color:black;\n",
    "           font-size:130%;\n",
    "           font-family:Verdana;\n",
    "           letter-spacing:0.5px\">\n",
    "\n",
    "<p style=\"padding: 10px;\n",
    "              color:white;\n",
    "              text-align:center;\">\n",
    "                            EvalML AutoML\n",
    "              \n",
    "</p>\n",
    "</div>"
   ]
  },
  {
   "cell_type": "code",
   "execution_count": null,
   "id": "6622b72e",
   "metadata": {},
   "outputs": [],
   "source": [
    "import evalml\n",
    "\n",
    "from evalml.automl import AutoMLSearch\n",
    "\n",
    "X = df.drop('STATUS',1)\n",
    "y = df['STATUS']\n",
    "\n",
    "X_train, X_test, y_train, y_test = evalml.preprocessing.split_data(X, y, problem_type='binary', test_size=.2)"
   ]
  },
  {
   "cell_type": "code",
   "execution_count": null,
   "id": "6b9f966d",
   "metadata": {},
   "outputs": [],
   "source": [
    "from evalml import AutoMLSearch\n",
    "\n",
    "automl = AutoMLSearch(X_train=X_train, y_train=y_train, problem_type=\"binary\", objective=\"F1\", \n",
    "                      additional_objectives=None, max_batches=5)\n",
    "automl.search()"
   ]
  },
  {
   "cell_type": "code",
   "execution_count": null,
   "id": "37ccc32e",
   "metadata": {},
   "outputs": [],
   "source": [
    "automl.rankings"
   ]
  },
  {
   "cell_type": "code",
   "execution_count": null,
   "id": "ac1fab9a",
   "metadata": {},
   "outputs": [],
   "source": [
    "automl.best_pipeline"
   ]
  },
  {
   "cell_type": "code",
   "execution_count": null,
   "id": "bf3dd252",
   "metadata": {},
   "outputs": [],
   "source": [
    "automl.describe_pipeline(automl.rankings.iloc[0]['id'])"
   ]
  },
  {
   "cell_type": "code",
   "execution_count": null,
   "id": "2053b73f",
   "metadata": {},
   "outputs": [],
   "source": [
    "automl.best_pipeline.score(X_test,y_test,objectives=['auc','f1','Precision','Recall'])"
   ]
  },
  {
   "cell_type": "code",
   "execution_count": null,
   "id": "a872c47b",
   "metadata": {},
   "outputs": [],
   "source": [
    "pred = automl.best_pipeline.predict(X_test)\n",
    "pred"
   ]
  },
  {
   "cell_type": "markdown",
   "id": "503505e1",
   "metadata": {},
   "source": [
    "<div style=background-color:lightblue;>\n",
    "<p style=\"font-family: Arials, sans-serif; padding:10px; font-size: 17px; color: #000000\">Thank you for reading this work! Any feedback on this work would be very grateful.</p>\n"
   ]
  },
  {
   "cell_type": "code",
   "execution_count": null,
   "id": "233e8a41",
   "metadata": {},
   "outputs": [],
   "source": [
    "nan"
   ]
  }
 ],
 "metadata": {},
 "nbformat": 4,
 "nbformat_minor": 5
}
