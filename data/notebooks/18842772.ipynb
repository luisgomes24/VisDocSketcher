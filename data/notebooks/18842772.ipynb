{
 "cells": [
  {
   "cell_type": "code",
   "execution_count": null,
   "id": "4e09e280",
   "metadata": {},
   "outputs": [],
   "source": [
    "# This Python 3 environment comes with many helpful analytics libraries installed\n",
    "# It is defined by the kaggle/python Docker image: https://github.com/kaggle/docker-python\n",
    "# For example, here's several helpful packages to load\n",
    "\n",
    "import numpy as np # linear algebra\n",
    "import pandas as pd # data processing, CSV file I/O (e.g. pd.read_csv)\n",
    "\n",
    "# Input data files are available in the read-only \"../input/\" directory\n",
    "# For example, running this (by clicking run or pressing Shift+Enter) will list all files under the input directory\n",
    "\n",
    "import os\n",
    "for dirname, _, filenames in os.walk('/kaggle/input'):\n",
    "    for filename in filenames:\n",
    "        print(os.path.join(dirname, filename))\n",
    "\n",
    "# You can write up to 20GB to the current directory (/kaggle/working/) that gets preserved as output when you create a version using \"Save & Run All\" \n",
    "# You can also write temporary files to /kaggle/temp/, but they won't be saved outside of the current session"
   ]
  },
  {
   "cell_type": "code",
   "execution_count": null,
   "id": "424294af",
   "metadata": {},
   "outputs": [],
   "source": [
    "shark = pd.read_csv('../input/shark-attack-dataset/attacks.csv')"
   ]
  },
  {
   "cell_type": "code",
   "execution_count": null,
   "id": "44b5ff48",
   "metadata": {},
   "outputs": [],
   "source": [
    "shark.head()"
   ]
  },
  {
   "cell_type": "code",
   "execution_count": null,
   "id": "3fc657be",
   "metadata": {},
   "outputs": [],
   "source": [
    "shark.columns"
   ]
  },
  {
   "cell_type": "code",
   "execution_count": null,
   "id": "182f9f5d",
   "metadata": {},
   "outputs": [],
   "source": [
    "shark = pd.DataFrame(shark)\n",
    "shark['Sex '].value_counts()"
   ]
  },
  {
   "cell_type": "code",
   "execution_count": null,
   "id": "315ccdbd",
   "metadata": {},
   "outputs": [],
   "source": [
    "sharka = shark.groupby(['Sex ', 'Fatal (Y/N)'],as_index=False).size()\n",
    "sharka = sharka.sort_values(by=['size'], ascending=False)\n",
    "sharka = sharka[0:7]\n",
    "sharka.drop([5],inplace=True)"
   ]
  },
  {
   "cell_type": "code",
   "execution_count": null,
   "id": "cc53220f",
   "metadata": {},
   "outputs": [],
   "source": [
    "sharka.drop([3],inplace=True)\n",
    "sharka.drop([9],inplace=True)\n",
    "sharka.head()"
   ]
  },
  {
   "cell_type": "code",
   "execution_count": null,
   "id": "d114c63e",
   "metadata": {},
   "outputs": [],
   "source": [
    "import matplotlib.pyplot as plt\n",
    "mlabels=['Male Fatal','Male Non Fatal','Female Non Fatal','Female Fatal']\n",
    "plt.pie(sharka['size'],labels=mlabels,autopct='%1.1f%%')\n",
    "plt.title('comparison of fatal/non fatal accidents among women and men')\n",
    "fig = plt.gcf()\n",
    "fig.set_size_inches(12,12)\n",
    "plt.show()"
   ]
  },
  {
   "cell_type": "code",
   "execution_count": null,
   "id": "5eef6ae9",
   "metadata": {},
   "outputs": [],
   "source": [
    "import plotly.express as px\n",
    "fig = px.pie(sharka, names=mlabels,values='size',hole = 0.8)\n",
    "fig.update_traces(textposition='outside', textinfo='percent+label')\n",
    "fig.update_layout(\n",
    "    annotations=[dict(text=\"comparison of accidents\", x=0.5, y=0.5, font_size=20, showarrow=False)])\n",
    "fig.update_layout(showlegend=False)"
   ]
  },
  {
   "cell_type": "code",
   "execution_count": null,
   "id": "e4281e05",
   "metadata": {},
   "outputs": [],
   "source": [
    "shark.dropna(subset = [\"Activity\"], inplace=True)"
   ]
  },
  {
   "cell_type": "markdown",
   "id": "76d2b401",
   "metadata": {},
   "source": [
    "# **The image is based on the most common words, but the most common activities that are accompanied by shark attacks can be seen here**"
   ]
  },
  {
   "cell_type": "code",
   "execution_count": null,
   "id": "7c7d6993",
   "metadata": {},
   "outputs": [],
   "source": [
    "from wordcloud import WordCloud\n",
    "words=shark['Activity'].tolist()\n",
    "words=''.join(str(words))\n",
    "plt.figure(figsize=(12,12))\n",
    "plt.imshow(WordCloud().generate(words))"
   ]
  },
  {
   "cell_type": "code",
   "execution_count": null,
   "id": "9bedeae4",
   "metadata": {},
   "outputs": [],
   "source": [
    "sharkb = shark.groupby(['Country'],as_index=False).size()\n",
    "sharkb = sharkb.sort_values(by=['size'], ascending=False)\n"
   ]
  },
  {
   "cell_type": "code",
   "execution_count": null,
   "id": "e8a1c832",
   "metadata": {},
   "outputs": [],
   "source": [
    "import plotly.express as px\n",
    "\n",
    "px.choropleth(sharkb, \n",
    "              locations = 'Country',\n",
    "              color=\"size\", \n",
    "              color_continuous_scale=\"Turbo\",\n",
    "              locationmode='country names',\n",
    "              scope=\"world\",\n",
    "              range_color=(0, 2000),\n",
    "              title='',\n",
    "              height=600\n",
    "             )"
   ]
  },
  {
   "cell_type": "code",
   "execution_count": null,
   "id": "b2f2b03b",
   "metadata": {},
   "outputs": [],
   "source": [
    "import seaborn as sns\n",
    "sharkb = sharkb[0:5]\n",
    "plt.figure(figsize=(18,10))\n",
    "plt.title('top 5 countries with the most shark attacks')\n",
    "sns.barplot(x='Country',y='size',data=sharkb)\n"
   ]
  },
  {
   "cell_type": "code",
   "execution_count": null,
   "id": "4a26040f",
   "metadata": {},
   "outputs": [],
   "source": [
    "import matplotlib.image as mpimg\n",
    "from matplotlib.offsetbox import TextArea, DrawingArea, OffsetImage, AnnotationBbox\n",
    "fig, ax = plt.subplots(figsize=(21,13), facecolor=\"w\")\n",
    "def make_img(img,zoom, x, y):\n",
    "    img = mpimg.imread(img)\n",
    "    imagebox = OffsetImage(img, zoom=zoom)\n",
    "    ab = AnnotationBbox(imagebox, (x,y),frameon=False)\n",
    "    ax.add_artist(ab)\n",
    "img_path =os.listdir('../input/flagsy')\n",
    "img_file = [img_path[0],img_path[1],img_path[2],img_path[3],img_path[4]]\n",
    "zoom = [0.3,0.2,0.2,0.15,0.12]\n",
    "img_y= [3.0,2.5,2.4,1.4,1.4]\n",
    "name = ['USA','AUSTRALIA','SOUTH \\n AFRICA','NEW \\n ZEALAND','PAPUA \\n NEW \\n GUINEA']\n",
    "name_pos = [4.45,3.3,3.3,2.3,2.2]\n",
    "char = ['1th','2nd','3rd','4th','5th']\n",
    "y_char = [4.95,4.2,4.2,3.4,3.4]\n",
    "x_char = [1.03,1.8,2.5,3.2,3.9]\n",
    "fontsize = [60,50,50,50,50]\n",
    "width = [0.75,0.6,0.5,0.4,0.4]\n",
    "alpha = [1, 0.9, 0.8, 0.7, 0.6]\n",
    "x = [1.0,1.85,2.5,3.2,3.90]\n",
    "y = [4.4,3.2,3.1,2.0,1.8]\n",
    "color = ['#0059b3','#33cc00','#00b36b','#e60000','#e60000']\n",
    "for i in range(5):\n",
    "    make_img(f'../input/flagsy/{img_file[i]}',zoom[i], x[i], img_y[i])\n",
    "    plt.bar(x=x[i],height=y[i],width=width[i],color=color[i],alpha=alpha[i])\n",
    "    plt.text(s=char[i],x=x_char[i],y = y_char[i],va='bottom',ha='center',font='Comic Sans MS',fontsize = fontsize[i]-30,alpha=alpha[i])\n",
    "    plt.text(s=name[i],x=x[i],y=name_pos[i],va='bottom',ha='center',font='Comic Sans MS',fontsize = fontsize[i]-30,alpha=alpha[i])\n",
    "\n",
    "    \n",
    "ax.axvspan(xmin = 2.95,xmax= 5.35, fc='#F4F4D6', alpha=0.5)\n",
    "\n",
    "plt.ylim(0, 7)\n",
    "plt.axis('off')\n",
    "plt.show()"
   ]
  },
  {
   "cell_type": "code",
   "execution_count": null,
   "id": "8a1e265a",
   "metadata": {},
   "outputs": [],
   "source": [
    "sharkc = shark.groupby(['Species '],as_index=False).size()\n",
    "sharkc = sharkc.sort_values(by=['size'], ascending=False)\n",
    "sharkc.drop([783,1033,1045,1044,409,480,152,109,941,943,87,350,454,411,231,324],inplace=True)\n",
    "sharkc = sharkc[0:4]"
   ]
  },
  {
   "cell_type": "code",
   "execution_count": null,
   "id": "65692605",
   "metadata": {},
   "outputs": [],
   "source": [
    "mlabels2=['White shark','Tiger shark','Bull shark','Wobbegong shark']\n",
    "plt.pie(sharkc['size'],labels=mlabels,autopct='%1.1f%%')\n",
    "plt.title('percentage share between the 4 most dangerous sharks')\n",
    "fig = plt.gcf()\n",
    "fig.set_size_inches(12,12)\n",
    "plt.show()"
   ]
  },
  {
   "cell_type": "code",
   "execution_count": null,
   "id": "34be4d64",
   "metadata": {},
   "outputs": [],
   "source": [
    "import plotly.express as px\n",
    "fig = px.pie(sharkc, names=mlabels2,values='size',hole = 0.8)\n",
    "fig.update_traces(textposition='outside', textinfo='percent+label')\n",
    "fig.update_layout(\n",
    "    annotations=[dict(text=\"comparison of sharks\", x=0.5, y=0.5, font_size=20, showarrow=False)])\n",
    "fig.update_layout(showlegend=False)"
   ]
  },
  {
   "cell_type": "markdown",
   "id": "1780654b",
   "metadata": {},
   "source": [
    "# White Shark\n",
    "![](https://upload.wikimedia.org/wikipedia/commons/thumb/8/82/Great_White_Shark_%2814730723649%29.jpg/800px-Great_White_Shark_%2814730723649%29.jpg)\n",
    "# Tiger Shark\n",
    "![](https://upload.wikimedia.org/wikipedia/commons/thumb/3/39/Tiger_shark.jpg/240px-Tiger_shark.jpg)\n",
    "# Bull Shark\n",
    "![](https://healthyorganic.co.za/wp-content/uploads/2021/05/gargantuan-bull-shark-bares-its-rows-of-teeth-in-terrifying-close-encounter-with-free-diver-off-florida.jpg)\n",
    "# Wobbegong shark\n",
    "![](https://www.naturepl.com/cache/pcache2/01520117.jpg)\n",
    "\n",
    "**Informations about sharks:**\n",
    "* https://en.wikipedia.org/wiki/Great_white_shark\n",
    "* https://en.wikipedia.org/wiki/Tiger_shark\n",
    "* https://en.wikipedia.org/wiki/Bull_shark\n",
    "* https://en.wikipedia.org/wiki/Wobbegong"
   ]
  }
 ],
 "metadata": {},
 "nbformat": 4,
 "nbformat_minor": 5
}
