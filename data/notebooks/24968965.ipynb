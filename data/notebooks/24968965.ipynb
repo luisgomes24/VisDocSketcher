{
 "cells": [
  {
   "cell_type": "markdown",
   "id": "6e8d9c22",
   "metadata": {},
   "source": [
    "# OH MY WORDLE!!\n",
    "## *..an exploration of wordle tweets*\n",
    "![img](https://akm-img-a-in.tosshub.com/businesstoday/images/story/202201/wordle_og_1200x630-sixteen_nine.png)\n"
   ]
  },
  {
   "cell_type": "code",
   "execution_count": null,
   "id": "cafeea6f",
   "metadata": {},
   "outputs": [],
   "source": [
    "import pandas as pd\n",
    "import numpy as np\n",
    "import matplotlib.pylab as plt\n",
    "import seaborn as sns\n",
    "import re\n",
    "\n",
    "pd.set_option('max_columns', 500)\n",
    "\n",
    "# For plotting\n",
    "from itertools import cycle\n",
    "\n",
    "plt.style.use(\"ggplot\")\n",
    "color_pal = plt.rcParams[\"axes.prop_cycle\"].by_key()[\"color\"]\n",
    "color_cycle = cycle(plt.rcParams[\"axes.prop_cycle\"].by_key()[\"color\"])"
   ]
  },
  {
   "cell_type": "markdown",
   "id": "81232ce2",
   "metadata": {},
   "source": [
    "# Load in the Dataset and Parse Tweet Text"
   ]
  },
  {
   "cell_type": "code",
   "execution_count": null,
   "id": "ef8b5015",
   "metadata": {},
   "outputs": [],
   "source": [
    "tweets = pd.read_csv('../input/wordle-tweets/tweets.csv')"
   ]
  },
  {
   "cell_type": "code",
   "execution_count": null,
   "id": "bb1401c0",
   "metadata": {},
   "outputs": [],
   "source": [
    "def process_tweets(tweets):\n",
    "    tweets['tweet_datetime'] = pd.to_datetime(tweets['tweet_date'])\n",
    "    tweets['tweet_date'] = tweets['tweet_datetime'].dt.date\n",
    "    tweets['wordle_id'] = tweets['tweet_text'].str[:10]\n",
    "    tweets['n_attempts'] = tweets['tweet_text'].str[11].astype('int')\n",
    "    tweets['id'] = tweets['tweet_text'].str[7:10].astype('int')\n",
    "    return tweets\n",
    "\n",
    "tweets = process_tweets(tweets)"
   ]
  },
  {
   "cell_type": "markdown",
   "id": "6f826356",
   "metadata": {},
   "source": [
    "## How many tweets do we have for each date"
   ]
  },
  {
   "cell_type": "code",
   "execution_count": null,
   "id": "09ac8bd4",
   "metadata": {},
   "outputs": [],
   "source": [
    "tweets['tweet_date'].value_counts() \\\n",
    "    .plot(figsize=(10, 5), title='Wordle Tweets by Day',\n",
    "          color=color_pal[2], lw=5)\n",
    "plt.show()"
   ]
  },
  {
   "cell_type": "markdown",
   "id": "fe5c707d",
   "metadata": {},
   "source": [
    "# Number of Attempts analysis by Wordle ID"
   ]
  },
  {
   "cell_type": "code",
   "execution_count": null,
   "id": "dc74d785",
   "metadata": {},
   "outputs": [],
   "source": [
    "tweets.groupby('wordle_id')['n_attempts'].value_counts() \\\n",
    "    .unstack() \\\n",
    "    .style.background_gradient(axis=1)"
   ]
  },
  {
   "cell_type": "markdown",
   "id": "c0df92f5",
   "metadata": {},
   "source": [
    "# How many attempts does it ususally take to solve?"
   ]
  },
  {
   "cell_type": "code",
   "execution_count": null,
   "id": "3fe02a37",
   "metadata": {},
   "outputs": [],
   "source": [
    "ax = tweets['n_attempts'].value_counts() \\\n",
    "    .sort_index() \\\n",
    "    .plot(figsize=(10, 5),\n",
    "          kind='barh',\n",
    "          title='Number of Wordle Attempts',\n",
    "          edgecolor='black')\n",
    "ax.set_xlabel('Number of Tweets')\n",
    "ax.set_ylabel('Number of Attempts Solved in')\n",
    "plt.show()"
   ]
  },
  {
   "cell_type": "markdown",
   "id": "2ffd2841",
   "metadata": {},
   "source": [
    "# Parse Tweet Text"
   ]
  },
  {
   "cell_type": "code",
   "execution_count": null,
   "id": "13599a6d",
   "metadata": {},
   "outputs": [],
   "source": [
    "# Make dark squares consistent\n",
    "tweets['tweet_text'] = tweets['tweet_text'].str.replace('⬜','⬛')"
   ]
  },
  {
   "cell_type": "code",
   "execution_count": null,
   "id": "826667d8",
   "metadata": {},
   "outputs": [],
   "source": [
    "def parse_tweet_text(tweets):\n",
    "    for n in range(6):\n",
    "        n += 1\n",
    "        tweets[f'has_guess{n}'] = tweets['tweet_text'].str.split('\\n').str[n+1] \\\n",
    "            .str.contains('|'.join(['🟨','⬛','🟩'])) \\\n",
    "            .fillna(False)\n",
    "\n",
    "        # Parse out the tweet text\n",
    "        tweets.loc[tweets[f'has_guess{n}'], f'guess{n}'] = \\\n",
    "                tweets['tweet_text'].str.split('\\n').str[n + 1].str[:5]\n",
    "        # Count number correct, misplaced, and incorrect\n",
    "        tweets.loc[tweets[f'has_guess{n}'],\n",
    "                       f'guess{n}_incorrect'] = tweets[f'guess{n}'].str.count('⬛')\n",
    "        tweets.loc[tweets[f'has_guess{n}'],\n",
    "                   f'guess{n}_wrong_spot'] = tweets[f'guess{n}'].str.count('🟨')\n",
    "        tweets.loc[tweets[f'has_guess{n}'],\n",
    "                   f'guess{n}_correct'] = tweets[f'guess{n}'].str.count('🟩')\n",
    "\n",
    "        tweets.loc[tweets[f'guess{n}_correct'] == 6, 'final_guess'] = n\n",
    "    return tweets\n",
    "\n",
    "tweets = parse_tweet_text(tweets)"
   ]
  },
  {
   "cell_type": "code",
   "execution_count": null,
   "id": "ec1c421a",
   "metadata": {},
   "outputs": [],
   "source": [
    "# Keep additional tweet text\n",
    "tweets['additional_text'] = \\\n",
    "    tweets.loc[~tweets['tweet_text'] \\\n",
    "    .str.split('\\n').str[-1].str.contains('🟩')] \\\n",
    "    ['tweet_text'].str.split('\\n').str[-1]"
   ]
  },
  {
   "cell_type": "markdown",
   "id": "9a5c8a71",
   "metadata": {},
   "source": [
    "# Plot Results by Attempt"
   ]
  },
  {
   "cell_type": "code",
   "execution_count": null,
   "id": "91ab3c18",
   "metadata": {},
   "outputs": [],
   "source": [
    "fig, axs = plt.subplots(1, 3, figsize=(12, 5), sharex=True)\n",
    "\n",
    "for i, x in enumerate(['_correct','_wrong_spot','_incorrect']):\n",
    "    col_subset = [c for c in tweets.columns if x in c]\n",
    "    guess_avg = tweets[col_subset].mean()\n",
    "    guess_avg.index = [f'Guess {i+1}' for i in range(6)]\n",
    "    guess_avg.sort_index(ascending=False) \\\n",
    "        .plot(kind='barh',\n",
    "              title=f'{x.strip(\"_\").replace(\"_\",\" \").title()}',\n",
    "              ax=axs[i],\n",
    "              color=color_pal[i+1])\n",
    "    axs[i].set_xlabel('Average Letters')\n",
    "fig.suptitle('Wordle Average Results by Guess Number', fontsize=18)\n",
    "plt.tight_layout()\n",
    "plt.show()"
   ]
  },
  {
   "cell_type": "markdown",
   "id": "122e19ff",
   "metadata": {},
   "source": [
    "# Letter Analysis"
   ]
  },
  {
   "cell_type": "code",
   "execution_count": null,
   "id": "de4c9ff1",
   "metadata": {},
   "outputs": [],
   "source": [
    "answer_dict = {252 : 'SPILL',\n",
    "     251 : 'VIVID',\n",
    "     250 : 'BLOKE',\n",
    "     249 : 'TROVE',\n",
    "     248 : 'THORN',\n",
    "     247 : 'OTHER',\n",
    "     246 : 'TACIT',\n",
    "     245 : 'SWILL',\n",
    "     244 : 'DODGE',\n",
    "     243 : 'SHAKE',\n",
    "     242 : 'CAULK',\n",
    "     241 : 'AROMA',\n",
    "     240 : 'CYNIC',\n",
    "     239 : 'ROBIN',\n",
    "     238 : 'ULTRA',\n",
    "     237 : 'ULCER',\n",
    "     236 : 'PAUSE',\n",
    "     235 : 'HUMOR',\n",
    "     234 : 'FRAME',\n",
    "     233 : 'ELDER',\n",
    "     232 : 'SKILL',\n",
    "     231 : 'ALOFT',\n",
    "     230 : 'PLEAT',\n",
    "     229 : 'SHARD',\n",
    "     228 : 'MOIST',\n",
    "     227 : 'THOSE',\n",
    "     204 : 'GORGE',\n",
    "     205 : 'QUERY',\n",
    "     206 : 'DRINK',\n",
    "     207 : 'FAVOR',\n",
    "     208 : 'ABBEY',\n",
    "     209 : 'TANGY',\n",
    "     210 : 'PANIC',\n",
    "     211 : 'SOLAR',\n",
    "     212 : 'SHIRE',\n",
    "     213 : 'PROXY',\n",
    "     214 : 'POINT',\n",
    "     215 : 'ROBOT',\n",
    "     216 : 'PRICK',\n",
    "     217 : 'WINCE',\n",
    "     218 : 'CRIMP',\n",
    "     219 : 'KNOLL',\n",
    "     220 : 'SUGAR',\n",
    "     221 : 'WHACK',\n",
    "     222 : 'MOUNT',\n",
    "     223 : 'PERKY',\n",
    "     224 : 'COULD',\n",
    "     225 : 'WRUNG',\n",
    "     226 : 'LIGHT',\n",
    "}\n",
    "\n",
    "tweets['answer'] = tweets['id'].map(answer_dict)"
   ]
  },
  {
   "cell_type": "code",
   "execution_count": null,
   "id": "24576571",
   "metadata": {},
   "outputs": [],
   "source": [
    "first_guess_correct = []\n",
    "for i, d in tweets.dropna(subset=['answer']).iterrows():\n",
    "    example_text = d['guess1']\n",
    "    example_solution = d['answer']\n",
    "    results =[x.span()[0] for x in re.finditer('🟩', example_text)]\n",
    "    first_guess_letters = [example_solution[i] for i in results]\n",
    "    first_guess_correct += first_guess_letters"
   ]
  },
  {
   "cell_type": "code",
   "execution_count": null,
   "id": "14ae5760",
   "metadata": {},
   "outputs": [],
   "source": [
    "pd.Series(first_guess_correct).value_counts(ascending=True) \\\n",
    "    .plot(kind='barh', figsize=(10, 5),\n",
    "         title='Most Common Correct First Guess Letters',\n",
    "         edgecolor='black', color=color_pal[5])\n",
    "plt.show()"
   ]
  }
 ],
 "metadata": {},
 "nbformat": 4,
 "nbformat_minor": 5
}
