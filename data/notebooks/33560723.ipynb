{
 "cells": [
  {
   "cell_type": "markdown",
   "id": "b342c88e",
   "metadata": {},
   "source": [
    "## Correlation analysis among Numerai targets\n",
    "\n",
    "I tried to calculate Spearman's correlations of some targets.\n",
    "\n",
    "Numerai CEO saied \"jerome_60 is a good target for blending\"\n",
    "\n",
    "https://zenn.dev/katsu1110/articles/60c777d15e01d5 (Japanese Page)"
   ]
  },
  {
   "cell_type": "code",
   "execution_count": null,
   "id": "b2b996dc",
   "metadata": {},
   "outputs": [],
   "source": [
    "!pip install -Uqq numerapi"
   ]
  },
  {
   "cell_type": "code",
   "execution_count": null,
   "id": "e9e98185",
   "metadata": {},
   "outputs": [],
   "source": [
    "%matplotlib inline\n",
    "import os\n",
    "import pandas as pd\n",
    "import scipy.stats as st\n",
    "import matplotlib.pylab as plt\n",
    "\n",
    "from numerapi import NumerAPI\n",
    "from collections import defaultdict\n",
    "from contextlib import redirect_stderr\n",
    "from tqdm import tqdm_notebook as tqdm"
   ]
  },
  {
   "cell_type": "code",
   "execution_count": null,
   "id": "b38762cb",
   "metadata": {},
   "outputs": [],
   "source": [
    "napi = NumerAPI()\n",
    "with redirect_stderr(open(os.devnull, 'w')):\n",
    "    napi.download_dataset(\"v3/numerai_training_data_int8.parquet\", \"numerai_training_data.parquet\")\n",
    "    napi.download_dataset(\"v3/numerai_validation_data_int8.parquet\", \"numerai_validation_data.parquet\")\n",
    "    napi.download_dataset(\"v3/numerai_live_data_int8.parquet\", \"numerai_live_data.parquet\")\n",
    "    napi.download_dataset(\"v3/numerai_datasets.zip\", \"numerai_datasets.zip\")"
   ]
  },
  {
   "cell_type": "code",
   "execution_count": null,
   "id": "e52d21b6",
   "metadata": {},
   "outputs": [],
   "source": [
    "df_train = pd.read_parquet(\"numerai_training_data.parquet\")\n",
    "df_valid = pd.read_parquet(\"numerai_validation_data.parquet\")"
   ]
  },
  {
   "cell_type": "code",
   "execution_count": null,
   "id": "e0654d04",
   "metadata": {},
   "outputs": [],
   "source": [
    "df_train_targets = df_train.loc[:, df_train.columns.str.startswith('target')]\n",
    "df_valid_targets = df_valid.loc[:, df_valid.columns.str.startswith('target')]"
   ]
  },
  {
   "cell_type": "code",
   "execution_count": null,
   "id": "8a366166",
   "metadata": {},
   "outputs": [],
   "source": [
    "df_train_targets[\"era\"] = df_train[\"era\"]\n",
    "df_valid_targets[\"era\"] = df_valid[\"era\"]"
   ]
  },
  {
   "cell_type": "code",
   "execution_count": null,
   "id": "68c98d60",
   "metadata": {},
   "outputs": [],
   "source": [
    "era_set_train = sorted(set(df_train[\"era\"]))\n",
    "era_set_valid = sorted(set(df_valid[\"era\"]))"
   ]
  },
  {
   "cell_type": "code",
   "execution_count": null,
   "id": "5407cf00",
   "metadata": {},
   "outputs": [],
   "source": [
    "dd_train = defaultdict(lambda: defaultdict(int))\n",
    "for era in tqdm(era_set_train):\n",
    "    df_train_targets_era = df_train_targets.query(\"era == @era\").drop(\"era\", axis=1)\n",
    "    for col in df_train_targets_era.columns:\n",
    "        if col == \"target\":\n",
    "            continue\n",
    "        \n",
    "        # 60 days はNaNの値があるため、ignore（omit）しています。\n",
    "        dd_train[era][col] = st.spearmanr(df_train_targets_era[\"target\"], df_train_targets_era[col], nan_policy=\"omit\")[0]\n",
    "\n",
    "dd_valid = defaultdict(lambda: defaultdict(int))\n",
    "for era in tqdm(era_set_valid):\n",
    "    df_valid_targets_era = df_valid_targets.query(\"era == @era\").drop(\"era\", axis=1)\n",
    "    for col in df_valid_targets_era.columns:\n",
    "        if col == \"target\":\n",
    "            continue\n",
    "        \n",
    "        # 60 days はNaNの値があるため、ignore（omit）しています。\n",
    "        dd_valid[era][col] = st.spearmanr(df_valid_targets_era[\"target\"], df_valid_targets_era[col], nan_policy=\"omit\")[0]"
   ]
  },
  {
   "cell_type": "code",
   "execution_count": null,
   "id": "d79f2289",
   "metadata": {},
   "outputs": [],
   "source": [
    "df_spearmanr_train = pd.DataFrame(dd_train)\n",
    "df_spearmanr_valid = pd.DataFrame(dd_valid)"
   ]
  },
  {
   "cell_type": "code",
   "execution_count": null,
   "id": "2917824a",
   "metadata": {},
   "outputs": [],
   "source": [
    "df_spearmanr_train_mean_std = df_spearmanr_train.drop(\"target_nomi_20\").T.agg([\"mean\", \"std\"]).T\n",
    "df_spearmanr_valid_mean_std = df_spearmanr_valid.drop(\"target_nomi_20\").T.agg([\"mean\", \"std\"]).T"
   ]
  },
  {
   "cell_type": "code",
   "execution_count": null,
   "id": "32d7bbd7",
   "metadata": {},
   "outputs": [],
   "source": [
    "df_spearmanr_train_mean_std[\"sharpe_ratio\"] = df_spearmanr_train_mean_std[\"mean\"] / df_spearmanr_train_mean_std[\"std\"]\n",
    "df_spearmanr_valid_mean_std[\"sharpe_ratio\"] = df_spearmanr_valid_mean_std[\"mean\"] / df_spearmanr_valid_mean_std[\"std\"]"
   ]
  },
  {
   "cell_type": "code",
   "execution_count": null,
   "id": "12d618a3",
   "metadata": {},
   "outputs": [],
   "source": [
    "display(df_spearmanr_train_mean_std.sort_values(\"sharpe_ratio\", ascending=False))"
   ]
  },
  {
   "cell_type": "code",
   "execution_count": null,
   "id": "7ab39f9a",
   "metadata": {},
   "outputs": [],
   "source": [
    "display(df_spearmanr_valid_mean_std.sort_values(\"sharpe_ratio\", ascending=False))"
   ]
  },
  {
   "cell_type": "code",
   "execution_count": null,
   "id": "8640d04a",
   "metadata": {},
   "outputs": [],
   "source": [
    "df_spearmanr_train.loc[df_spearmanr_train.index.str.endswith(\"_20\"), :].T.drop(\"target_nomi_20\", axis=1).plot()\n",
    "plt.legend(bbox_to_anchor=(1.05, 1), loc='upper left', borderaxespad=0, fontsize=12)\n",
    "plt.title(\"data: train, target: 20 days\")\n",
    "plt.xlabel(\"Era\")\n",
    "plt.ylabel(\"Spearman's Rho\")\n",
    "plt.show()\n",
    "\n",
    "df_spearmanr_train.loc[df_spearmanr_train.index.str.endswith(\"_60\"), :].T.plot()\n",
    "plt.legend(bbox_to_anchor=(1.05, 1), loc='upper left', borderaxespad=0, fontsize=12)\n",
    "plt.title(\"data: train, target: 60 days\")\n",
    "plt.xlabel(\"Era\")\n",
    "plt.ylabel(\"Spearman's Rho\")\n",
    "plt.show()\n",
    "\n",
    "df_spearmanr_valid.loc[df_spearmanr_valid.index.str.endswith(\"_20\"), :].T.drop(\"target_nomi_20\", axis=1).plot()\n",
    "plt.legend(bbox_to_anchor=(1.05, 1), loc='upper left', borderaxespad=0, fontsize=12)\n",
    "plt.title(\"data: valid, target: 20 days\")\n",
    "plt.xlabel(\"Era\")\n",
    "plt.ylabel(\"Spearman's Rho\")\n",
    "plt.show()\n",
    "\n",
    "df_spearmanr_valid.loc[df_spearmanr_valid.index.str.endswith(\"_60\"), :].T.plot()\n",
    "plt.legend(bbox_to_anchor=(1.05, 1), loc='upper left', borderaxespad=0, fontsize=12)\n",
    "plt.title(\"data: valid, target: 60 days\")\n",
    "plt.xlabel(\"Era\")\n",
    "plt.ylabel(\"Spearman's Rho\")\n",
    "plt.show()"
   ]
  },
  {
   "cell_type": "markdown",
   "id": "98943384",
   "metadata": {},
   "source": [
    "## Next Todo...\n",
    "\n",
    "As next action, we may should use high sharpe ratio target such as \"target_arthur_20\", \"target_william_20\", and \"target_jerome_20\".\n"
   ]
  },
  {
   "cell_type": "code",
   "execution_count": null,
   "id": "917ad191",
   "metadata": {},
   "outputs": [],
   "source": [
    "nan"
   ]
  }
 ],
 "metadata": {},
 "nbformat": 4,
 "nbformat_minor": 5
}
