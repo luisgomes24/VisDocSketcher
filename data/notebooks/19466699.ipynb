{
 "cells": [
  {
   "cell_type": "markdown",
   "id": "ef501636",
   "metadata": {},
   "source": [
    "Inspired by: https://www.kaggle.com/thebrownviking20/intermediate-visualization-tutorial-using-plotly"
   ]
  },
  {
   "cell_type": "code",
   "execution_count": null,
   "id": "ee796fa7",
   "metadata": {},
   "outputs": [],
   "source": [
    "import numpy as np\n",
    "import pandas as pd\n",
    "import plotly.graph_objs as go\n",
    "import plotly.express as px\n",
    "from plotly.offline import init_notebook_mode, iplot\n",
    "import plotly.figure_factory as ff\n",
    "from plotly.subplots import make_subplots\n",
    "\n",
    "df = pd.read_csv(\"/kaggle/input/jojos-bizarre-adventure-stand-stats/jojostandstatsv2.csv\")\n",
    "\n",
    "dictionary = {'A':5, 'B':4, 'C':3, 'D': 2, 'E': 1}\n",
    "\n",
    "for i in df.iloc[:, 1:].columns:\n",
    "    df[\"number_{}\".format(i)] = df[\"{}\".format(i)].map(dictionary)"
   ]
  },
  {
   "cell_type": "code",
   "execution_count": null,
   "id": "737811ad",
   "metadata": {},
   "outputs": [],
   "source": [
    "hist_data = list()\n",
    "\n",
    "hist_df = df.dropna()\n",
    "    \n",
    "for column in list(hist_df.iloc[:, 7:13].columns):\n",
    "    hist_data.append(hist_df[column].values)\n",
    "    \n",
    "group_labels = list(hist_df.iloc[:, 1:7].columns)\n",
    "\n",
    "fig = ff.create_distplot(hist_data, group_labels, show_hist=False, show_rug=False)\n",
    "fig.update_layout(title = \"Curve Plot of Stand stats\", title_x=0.5, font=dict(family=\"Times New Roman\", size=18), font_color=\"#000000\")\n",
    "fig.show()"
   ]
  },
  {
   "cell_type": "code",
   "execution_count": null,
   "id": "4136659e",
   "metadata": {},
   "outputs": [],
   "source": [
    "x = df[df[\"Stand\"] == \"Stone Free\"]\n",
    "data = [go.Scatterpolar(\n",
    "  r = [x['number_PWR'].values[0],x['number_SPD'].values[0],x['number_RNG'].values[0],x['number_PER'].values[0],x['number_PRC'].values[0],x['number_DEV'].values[0]],\n",
    "  theta = ['DESTRUCTIVE POWER <b>{}<b>'.format(x['PWR'].values[0]),'SPEED <b>{}<b>'.format(x['SPD'].values[0]),'RANGE <b>{}<b>'.format(x['RNG'].values[0]),'DURABILITY <b>{}<b>'.format(x['PER'].values[0]),'PRECISION <b>{}<b>'.format(x['PRC'].values[0]),'DEVELOPMENT POTENTIAL <b>{}<b>'.format(x['DEV'].values[0])],\n",
    "  fill = 'toself',\n",
    "  #fillcolor=\"lightblue\",\n",
    "  marker= dict(symbol = 'star',\n",
    "               size=20,\n",
    "               color='mediumpurple',\n",
    "               line=dict(\n",
    "               color='royalblue',\n",
    "               width=3\n",
    "            ))\n",
    ")]\n",
    "\n",
    "layout = go.Layout(\n",
    "  polar = dict(radialaxis= dict(gridcolor = \"white\",\n",
    "                                tickmode='array',\n",
    "                                tickvals=['0', '1', '2', '3', '4', '5'],\n",
    "                                ticktext=['E', 'F', 'D', 'C', 'D', 'A']),\n",
    "                                \n",
    "  angularaxis_linecolor='black',\n",
    "  bgcolor = 'lightgreen'),\n",
    "  title = \"Stats of <b>{}<b>\".format(x.Stand.values[0])\n",
    ")\n",
    "fig = go.Figure(data=data, layout=layout)\n",
    "fig.update_layout(title_x=0.5, font=dict(family=\"Times New Roman\", size=18), font_color=\"#000000\")\n",
    "iplot(fig)"
   ]
  },
  {
   "cell_type": "code",
   "execution_count": null,
   "id": "bd4dfee2",
   "metadata": {},
   "outputs": [],
   "source": [
    "x = df[df[\"Stand\"] == \"Gold Experience\"]\n",
    "data = [go.Scatterpolar(\n",
    "  r = [x['number_PWR'].values[0],x['number_SPD'].values[0],x['number_RNG'].values[0],x['number_PER'].values[0],x['number_PRC'].values[0],x['number_DEV'].values[0]],\n",
    "  theta = ['DESTRUCTIVE POWER <b>{}<b>'.format(x['PWR'].values[0]),'SPEED <b>{}<b>'.format(x['SPD'].values[0]),'RANGE <b>{}<b>'.format(x['RNG'].values[0]),'DURABILITY <b>{}<b>'.format(x['PER'].values[0]),'PRECISION <b>{}<b>'.format(x['PRC'].values[0]),'DEVELOPMENT POTENTIAL <b>{}<b>'.format(x['DEV'].values[0])],\n",
    "  fill = 'toself',\n",
    "  #fillcolor=\"lightblue\",\n",
    "  marker= dict(symbol = 'star-diamond',\n",
    "               size=20,\n",
    "               color='gold',\n",
    "               line=dict(\n",
    "               color='gold',\n",
    "               width=3\n",
    "            ))\n",
    ")]\n",
    "\n",
    "layout = go.Layout(\n",
    "  polar = dict(radialaxis= dict(gridcolor = \"white\",\n",
    "                                tickmode='array',\n",
    "                                tickvals=['0', '1', '2', '3', '4', '5'],\n",
    "                                ticktext=['E', 'F', 'D', 'C', 'D', 'A']),\n",
    "                                \n",
    "  angularaxis_linecolor='black',\n",
    "  bgcolor = 'rebeccapurple'),\n",
    "  title = \"Stats of <b>{}<b>\".format(x.Stand.values[0])\n",
    ")\n",
    "fig = go.Figure(data=data, layout=layout)\n",
    "fig.update_layout(title_x=0.5, font=dict(family=\"Times New Roman\", size=18), font_color=\"#000000\")\n",
    "iplot(fig)"
   ]
  },
  {
   "cell_type": "code",
   "execution_count": null,
   "id": "e836b5a5",
   "metadata": {},
   "outputs": [],
   "source": [
    "fig = px.sunburst(df, path=['PWR', \"Stand\"], color='PWR', title=\"Stands by Destructive Power\", color_discrete_sequence= px.colors.sequential.thermal)\n",
    "fig.update_layout(title_x=0.5, font=dict(family=\"Times New Roman\", size=18), font_color=\"#000000\")\n",
    "fig.show()"
   ]
  },
  {
   "cell_type": "code",
   "execution_count": null,
   "id": "930e5c44",
   "metadata": {},
   "outputs": [],
   "source": [
    "fig = px.sunburst(df, path=['SPD', \"Stand\"], color='SPD', title=\"Stands by Speed\", color_discrete_sequence= px.colors.sequential.Plasma_r)\n",
    "fig.update_layout(title_x=0.5, font=dict(family=\"Times New Roman\", size=18), font_color=\"#000000\")\n",
    "fig.show()"
   ]
  },
  {
   "cell_type": "code",
   "execution_count": null,
   "id": "2861e2ba",
   "metadata": {},
   "outputs": [],
   "source": [
    "fig = make_subplots(rows=1, cols=2, specs=[[{'type':'domain'}, {'type':'domain'}]])\n",
    "\n",
    "fig.add_trace(go.Pie(labels=list(df.DEV.unique()),\n",
    "                             values=list(df.DEV.value_counts()), hole=.2, name=\"DEV\",\n",
    "                             ), 1, 1)\n",
    "\n",
    "fig.add_trace(go.Pie(labels=list(df.PWR.unique()),\n",
    "                             values=list(df.PWR.value_counts()), hole=.2, name=\"PWR\",\n",
    "                             ), 1, 2)\n",
    "\n",
    "fig.update_traces(textinfo='label+percent', textfont_size=16, insidetextorientation='radial',\n",
    "                  marker=dict(colors=px.colors.diverging.Portland, line=dict(color='#000000', width=2)))\n",
    "\n",
    "fig.update_layout(\n",
    "    title_text=\"Stat values\", title_x=0.5, font=dict(family=\"Times New Roman\", size=18), font_color=\"#000000\",\n",
    "    annotations=[dict(text='DEV', x=0.19, y=0.5, font_size=20, showarrow=False),\n",
    "                 dict(text='PWR', x=0.82, y=0.5, font_size=20, showarrow=False)])\n",
    "\n",
    "fig.show()"
   ]
  }
 ],
 "metadata": {},
 "nbformat": 4,
 "nbformat_minor": 5
}
