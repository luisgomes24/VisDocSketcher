{
 "cells": [
  {
   "cell_type": "markdown",
   "id": "5b24b593",
   "metadata": {},
   "source": [
    "# Outline\n",
    "1. There're lots of features for analysis, therefore preprocessing is necessary and important.  \n",
    "2. This notebook contains Heatmaps and Barplots for EDA.  \n",
    "3. Also, there're classic regression models for predicting Crime Codes ('Crm Cd' in DataFrame.)"
   ]
  },
  {
   "cell_type": "markdown",
   "id": "47d1e134",
   "metadata": {},
   "source": [
    "# Import libraries and data"
   ]
  },
  {
   "cell_type": "code",
   "execution_count": null,
   "id": "03c273ad",
   "metadata": {},
   "outputs": [],
   "source": [
    "import numpy as np\n",
    "import pandas as pd\n",
    "import matplotlib.pyplot as plt\n",
    "import seaborn as sns\n",
    "import warnings\n",
    "warnings.filterwarnings('ignore')\n",
    "\n",
    "from sklearn.model_selection import train_test_split, cross_val_score, GridSearchCV\n",
    "from sklearn.metrics import mean_squared_error, r2_score, accuracy_score, roc_auc_score\n",
    "from sklearn.preprocessing import StandardScaler, MinMaxScaler, LabelEncoder, OneHotEncoder\n",
    "from sklearn.linear_model import LinearRegression, LogisticRegression, Ridge, Lasso, ElasticNet\n",
    "from sklearn.tree import DecisionTreeRegressor\n",
    "from sklearn.tree import export_graphviz\n",
    "from sklearn.ensemble import RandomForestRegressor, GradientBoostingRegressor\n",
    "from sklearn.neighbors import KNeighborsClassifier\n",
    "\n",
    "from lightgbm import LGBMRegressor"
   ]
  },
  {
   "cell_type": "code",
   "execution_count": null,
   "id": "6d3beac9",
   "metadata": {},
   "outputs": [],
   "source": [
    "# Load data\n",
    "crimes = pd.read_csv('../input/crime-in-los-angeles-data-from-2020-to-present/Crime_Data_from_2020_to_Present.csv')\n",
    "crimes"
   ]
  },
  {
   "cell_type": "markdown",
   "id": "5ebd4f93",
   "metadata": {},
   "source": [
    "## Dataset Overview\n",
    "|     Columns    |                                                                                                                                                    Description                                                                                                                                                   |\n",
    "|:--------------:|:----------------------------------------------------------------------------------------------------------------------------------------------------------------------------------------------------------------------------------------------------------------------------------------------------------------:|\n",
    "|      DR_NO     | Division of Records Number: Official file number made up of a 2 digit year, area ID, and 5 digits                                                                                                                                                                                                                |\n",
    "|    Date Rptd   | MM/DD/YYYY                                                                                                                                                                                                                                                                                                       |\n",
    "|    DATE OCC    | MM/DD/YYYY                                                                                                                                                                                                                                                                                                       |\n",
    "|    TIME OCC    | In 24 hour military time.                                                                                                                                                                                                                                                                                        |\n",
    "|      AREA      | The LAPD has 21 Community Police Stations referred to as Geographic Areas within the department. These Geographic Areas are sequentially numbered from 1-21.                                                                                                                                                     |\n",
    "|    AREA NAME   | The 21 Geographic Areas or Patrol Divisions are also given a name designation that references a landmark or the surrounding community that it is responsible for. For example 77th Street Division is located at the intersection of South Broadway and 77th Street, serving neighborhoods in South Los Angeles. |\n",
    "|   Rpt Dist No  | A four-digit code that represents a sub-area within a Geographic Area. All crime records reference the \"RD\" that it occurred in for statistical comparisons. Find LAPD Reporting Districts on the LA City GeoHub at http://geohub.lacity.org/datasets/c4f83909b81d4786aa8ba8a7                                   |\n",
    "|    Part 1-2    | Number                                                                                                                                                                                                                                                                                                           |\n",
    "|     Crm Cd     | Indicates the crime committed. (Same as Crime Code 1)                                                                                                                                                                                                                                                            |\n",
    "|   Crm Cd Desc  | Defines the Crime Code provided.                                                                                                                                                                                                                                                                                 |\n",
    "|     Mocodes    | Modus Operandi: Activities associated with the suspect in commission of the crime.See attached PDF for list of MO Codes in numerical order. https://data.lacity.org/api/views/y8tr-7khq/files/3a967fbd-f210-4857-bc52-60230efe256c?download=true&filename=MO%20CODES%20(numerical%20or                           |\n",
    "| Vict Age       | Two character numeric                                                                                                                                                                                                                                                                                            |\n",
    "| Vict Sex       | F - Female M - Male X - Unknown                                                                                                                                                                                                                                                                                  |\n",
    "| Vict Descent   | Descent Code: A - Other Asian B - Black C - Chinese D - Cambodian F - Filipino G - Guamanian H - Hispanic/Latin/Mexican I - American Indian/Alaskan Native J - Japanese K - Korean L - Laotian O - Other P - Pacific Islander S - Samoan U - Hawaiian V - Vietnamese W - White X - Unknown Z - Asian Indian      |\n",
    "| Premis Cd      | The type of structure, vehicle, or location where the crime took place.                                                                                                                                                                                                                                          |\n",
    "| Premis Desc    | Defines the Premise Code provided.                                                                                                                                                                                                                                                                               |\n",
    "| Weapon Used Cd | The type of weapon used in the crime.                                                                                                                                                                                                                                                                            |\n",
    "| Weapon Desc    | Defines the Weapon Used Code provided.                                                                                                                                                                                                                                                                           |\n",
    "| Status         | Status of the case. (IC is the default)                                                                                                                                                                                                                                                                          |\n",
    "| Status Desc    | Defines the Status Code provided.                                                                                                                                                                                                                                                                                |\n",
    "| Crm Cd 1       | Indicates the crime committed. Crime Code 1 is the primary and most serious one. Crime Code 2, 3, and 4 are respectively less serious offenses. Lower crime class numbers are more serious.                                                                                                                      |\n",
    "| Crm Cd 2       | May contain a code for an additional crime, less serious than Crime Code 1.                                                                                                                                                                                                                                      |\n",
    "| Crm Cd 3       | May contain a code for an additional crime, less serious than Crime Code 1.                                                                                                                                                                                                                                      |\n",
    "| Crm Cd 4       | May contain a code for an additional crime, less serious than Crime Code 1.                                                                                                                                                                                                                                      |\n",
    "| LOCATION       | Street address of crime incident rounded to the nearest hundred block to maintain anonymity.                                                                                                                                                                                                                     |\n",
    "| Cross Street   | Cross Street of rounded Address                                                                                                                                                                                                                                                                                  |\n",
    "| LAT            | Latitude                                                                                                                                                                                                                                                                                                         |\n",
    "| LON            | Longtitude                                                                                                                                                                                                                                                                                                       |"
   ]
  },
  {
   "cell_type": "markdown",
   "id": "3abc08e5",
   "metadata": {},
   "source": [
    "# Data Preprocessing"
   ]
  },
  {
   "cell_type": "code",
   "execution_count": null,
   "id": "06c4e708",
   "metadata": {},
   "outputs": [],
   "source": [
    "# Drop unnecessary columns\n",
    "crimes.drop(['DR_NO', 'Date Rptd', 'Rpt Dist No' , 'Part 1-2', 'Mocodes', 'Crm Cd 1', 'Crm Cd 2', 'Crm Cd 3', 'Crm Cd 4', 'Cross Street', 'LOCATION'], axis=1, inplace=True)\n",
    "crimes"
   ]
  },
  {
   "cell_type": "code",
   "execution_count": null,
   "id": "1de6a2bd",
   "metadata": {},
   "outputs": [],
   "source": [
    "# Check whether 'crimes' contains any Null or NaN values\n",
    "crimes.isnull().sum()"
   ]
  },
  {
   "cell_type": "code",
   "execution_count": null,
   "id": "c385d1b5",
   "metadata": {},
   "outputs": [],
   "source": [
    "# Drop rows contains missing values\n",
    "crimes.dropna(axis=0, inplace=True)\n",
    "crimes.reset_index(drop=True, inplace=True)\n",
    "crimes"
   ]
  },
  {
   "cell_type": "code",
   "execution_count": null,
   "id": "bfc52b07",
   "metadata": {},
   "outputs": [],
   "source": [
    "# Split 'DATE OCC' into year, month and day.\n",
    "crimes['DATE OCC'] = pd.to_datetime(crimes['DATE OCC'])\n",
    "crimes['YEAR OCC'] = crimes['DATE OCC'].dt.year\n",
    "crimes['MONTH OCC'] = crimes['DATE OCC'].dt.month\n",
    "crimes['DAY OCC'] = crimes['DATE OCC'].dt.day\n",
    "crimes"
   ]
  },
  {
   "cell_type": "code",
   "execution_count": null,
   "id": "f7587e1f",
   "metadata": {},
   "outputs": [],
   "source": [
    "# Relocate columns\n",
    "crimes_desc = crimes[['Crm Cd Desc', 'Premis Desc', 'Weapon Desc', 'Status Desc']]\n",
    "crimes = crimes[['YEAR OCC', 'MONTH OCC', 'DAY OCC', 'TIME OCC', 'AREA', 'AREA NAME', 'Crm Cd', 'Vict Age', 'Vict Sex', 'Vict Descent', 'Premis Cd', 'Weapon Used Cd', 'Status']]\n",
    "crimes"
   ]
  },
  {
   "cell_type": "code",
   "execution_count": null,
   "id": "0837f8ca",
   "metadata": {},
   "outputs": [],
   "source": [
    "# Extract data for plotting distribution\n",
    "crimes_distribution = crimes.iloc[:, [1, 2, 3, 4, 6, 7, 10, 11]]\n",
    "crimes_distribution"
   ]
  },
  {
   "cell_type": "code",
   "execution_count": null,
   "id": "e749c77c",
   "metadata": {},
   "outputs": [],
   "source": [
    "# Check distribution of each features\n",
    "fig, axs = plt.subplots(nrows=2, ncols=4, figsize=(20, 10))\n",
    "\n",
    "for i, feature in enumerate(crimes_distribution.columns):\n",
    "    row = int(i/4)\n",
    "    col = i%4\n",
    "    sns.distplot(crimes_distribution.iloc[:, i], ax=axs[row][col])\n",
    "\n",
    "plt.suptitle('Distirbution of features')\n",
    "plt.tight_layout"
   ]
  },
  {
   "cell_type": "markdown",
   "id": "15667fcd",
   "metadata": {},
   "source": [
    "## Description\n",
    "As you can see those plots, features in 'crimes' are much less biased, considering non-preprocessed  \n",
    "But, 'Crm Cd', 'Premis Cd' and 'Weapon Used Cd' seem to be needed for log transformation  \n",
    "Additionally, 'Vict Age' which contains value of '0' are meaningless, so dropping those could be a good idea"
   ]
  },
  {
   "cell_type": "code",
   "execution_count": null,
   "id": "a0c63d81",
   "metadata": {},
   "outputs": [],
   "source": [
    "# Drop 'Vict Age' which value is '0'\n",
    "Vict_Age_0 = crimes[crimes['Vict Age'] == 0].index\n",
    "crimes.drop(Vict_Age_0, inplace=True)\n",
    "crimes.reset_index(drop=True, inplace=True)\n",
    "crimes"
   ]
  },
  {
   "cell_type": "code",
   "execution_count": null,
   "id": "a7549dfb",
   "metadata": {},
   "outputs": [],
   "source": [
    "# Log Transformation\n",
    "Crm_Cd_Log = np.log1p(crimes['Crm Cd'])\n",
    "Premis_Cd_Log = np.log1p(crimes['Premis Cd'])\n",
    "Weapon_Used_Cd_Log = np.log1p(crimes['Weapon Used Cd'])\n",
    "\n",
    "crimes.insert(7, 'Crm Cd Log', Crm_Cd_Log)\n",
    "crimes.insert(12, 'Premis Cd Log', Premis_Cd_Log)\n",
    "crimes.insert(14, 'Weapon Used Cd Log', Weapon_Used_Cd_Log)\n",
    "\n",
    "crimes"
   ]
  },
  {
   "cell_type": "code",
   "execution_count": null,
   "id": "64ba5ac7",
   "metadata": {},
   "outputs": [],
   "source": [
    "# Check distribution of columns log transformation processed\n",
    "crimes_distribution_log = crimes[['Crm Cd Log', 'Premis Cd Log', 'Weapon Used Cd Log']]\n",
    "crimes_distribution_log"
   ]
  },
  {
   "cell_type": "code",
   "execution_count": null,
   "id": "94027728",
   "metadata": {},
   "outputs": [],
   "source": [
    "# Check distribution of each features\n",
    "fig, axs = plt.subplots(ncols=3, figsize=(15, 5))\n",
    "\n",
    "for i, feature in enumerate(crimes_distribution_log.columns):\n",
    "    col = i%3\n",
    "    sns.distplot(crimes_distribution_log.iloc[:, i], ax=axs[col])\n",
    "\n",
    "plt.suptitle('Distirbution of features log converted')\n",
    "plt.tight_layout"
   ]
  },
  {
   "cell_type": "markdown",
   "id": "1c0590f6",
   "metadata": {},
   "source": [
    "# Visualization"
   ]
  },
  {
   "cell_type": "code",
   "execution_count": null,
   "id": "f80530ba",
   "metadata": {},
   "outputs": [],
   "source": [
    "# Correlation Heatmap\n",
    "plt.figure(figsize=(10, 8))\n",
    "plt.title('Correlation of features')\n",
    "sns.heatmap(crimes.corr(), annot=True, linewidths=.5, cmap=\"YlGnBu\")"
   ]
  },
  {
   "cell_type": "markdown",
   "id": "c6c8eb2c",
   "metadata": {},
   "source": [
    "**Description**\n",
    "\n",
    "1. We could find relatively big correlation among Crimes, Premis and Weapon Used\n",
    "2. Therefore, we can those feature as main for training"
   ]
  },
  {
   "cell_type": "code",
   "execution_count": null,
   "id": "097cd805",
   "metadata": {},
   "outputs": [],
   "source": [
    "# Process MinMaxScaling in order to make heatmap\n",
    "crimes_scaled = crimes.copy()\n",
    "except_features = ['MONTH OCC', 'AREA NAME', 'Vict Sex', 'Vict Descent', 'Status'] # features on this list will not be scaled\n",
    "features = np.array(crimes.drop(except_features, axis=1, inplace=False).columns).reshape(-1, 1)\n",
    "\n",
    "for feature in features:\n",
    "    scaler = MinMaxScaler()\n",
    "    scaler.fit(crimes_scaled[feature])\n",
    "    crimes_scaled[feature] = scaler.transform(crimes_scaled[feature])\n",
    "\n",
    "crimes_scaled"
   ]
  },
  {
   "cell_type": "code",
   "execution_count": null,
   "id": "977beab0",
   "metadata": {},
   "outputs": [],
   "source": [
    "# Create DataFrame processed groupby on 'Month'\n",
    "crimes_month = crimes_scaled.groupby(by='MONTH OCC').mean()\n",
    "crimes_month.drop(['YEAR OCC'], axis=1, inplace=True)\n",
    "crimes_month"
   ]
  },
  {
   "cell_type": "code",
   "execution_count": null,
   "id": "989932bc",
   "metadata": {},
   "outputs": [],
   "source": [
    "# Plot heatmap\n",
    "plt.figure(figsize=(10, 8))\n",
    "plt.title('Correlation of Crimes by Month')\n",
    "sns.heatmap(crimes_month, annot=True, linewidths=.5, cmap=\"YlGnBu\")"
   ]
  },
  {
   "cell_type": "code",
   "execution_count": null,
   "id": "dac9e403",
   "metadata": {},
   "outputs": [],
   "source": [
    "# Plot barplot\n",
    "crimes_month = crimes_scaled.groupby(by='MONTH OCC', as_index=False).mean()\n",
    "crimes_month.drop(['YEAR OCC'], axis=1, inplace=True)\n",
    "\n",
    "sns.set_theme=\"whitegrid\"\n",
    "f, ax = plt.subplots(figsize=(10, 6))\n",
    "\n",
    "## Plot 'Crm Cd Log'\n",
    "sns.set_color_codes(\"pastel\")\n",
    "sns.barplot(x=\"MONTH OCC\", y=\"Crm Cd Log\", data=crimes_month, label=\"Crm Cd Log\", color=\"b\")\n",
    "\n",
    "## Plot 'Premis Cd Log'\n",
    "sns.set_color_codes(\"muted\")\n",
    "sns.barplot(x=\"MONTH OCC\", y=\"Premis Cd Log\", data=crimes_month, label=\"Premis Cd Log\", color=\"b\")\n",
    "\n",
    "## Plot 'Weapon Used Cd Log'\n",
    "sns.set_color_codes(\"muted\")\n",
    "sns.barplot(x=\"MONTH OCC\", y=\"Weapon Used Cd Log\", data=crimes_month, label=\"Weapon Used Cd Log\", color=\"g\", alpha=0.3)\n",
    "\n",
    "ax.legend(ncol=3, loc=\"lower right\", frameon=True)\n",
    "ax.set(ylabel=\"\", xlabel=\"Month\")\n",
    "plt.title(\"Total Comparison of Main Features by Month\")\n",
    "\n",
    "plt.show()"
   ]
  },
  {
   "cell_type": "markdown",
   "id": "25d05eb2",
   "metadata": {},
   "source": [
    "**Description**\n",
    "1. Grouping by month, we could compare features.\n",
    "2. Especially, on August, crime rates was little bit smaller than any other months."
   ]
  },
  {
   "cell_type": "code",
   "execution_count": null,
   "id": "c93dff26",
   "metadata": {},
   "outputs": [],
   "source": [
    "# Process MinMaxScaling in order to make heatmap\n",
    "crimes_scaled = crimes.copy()\n",
    "except_features = ['DAY OCC', 'AREA NAME', 'Vict Sex', 'Vict Descent', 'Status'] # features on this list will not be scaled\n",
    "features = np.array(crimes.drop(except_features, axis=1, inplace=False).columns).reshape(-1, 1)\n",
    "\n",
    "for feature in features:\n",
    "    scaler = MinMaxScaler()\n",
    "    scaler.fit(crimes_scaled[feature])\n",
    "    crimes_scaled[feature] = scaler.transform(crimes_scaled[feature])"
   ]
  },
  {
   "cell_type": "code",
   "execution_count": null,
   "id": "3a75317b",
   "metadata": {},
   "outputs": [],
   "source": [
    "# Create DataFrame processed groupby on 'Day'\n",
    "crimes_day = crimes_scaled.groupby(by='DAY OCC').mean()\n",
    "crimes_day.drop(['YEAR OCC'], axis=1, inplace=True)\n",
    "crimes_day"
   ]
  },
  {
   "cell_type": "code",
   "execution_count": null,
   "id": "ac64188b",
   "metadata": {},
   "outputs": [],
   "source": [
    "# Plot heatmap\n",
    "plt.figure(figsize=(10, 20))\n",
    "plt.title('Correlation of Crimes by Day')\n",
    "sns.heatmap(crimes_day, annot=True, linewidths=.5, cmap=\"YlGnBu\")"
   ]
  },
  {
   "cell_type": "code",
   "execution_count": null,
   "id": "ee6addda",
   "metadata": {},
   "outputs": [],
   "source": [
    "# Plot barplot\n",
    "crimes_day = crimes_scaled.groupby(by='DAY OCC', as_index=False).mean()\n",
    "crimes_day.drop(['YEAR OCC'], axis=1, inplace=True)\n",
    "\n",
    "sns.set_theme=\"whitegrid\"\n",
    "f, ax = plt.subplots(figsize=(20, 10))\n",
    "\n",
    "## Plot 'Crm Cd Log'\n",
    "sns.set_color_codes(\"pastel\")\n",
    "sns.barplot(x=\"DAY OCC\", y=\"Crm Cd Log\", data=crimes_day, label=\"Crm Cd Log\", color=\"b\")\n",
    "\n",
    "## Plot 'Premis Cd Log'\n",
    "sns.set_color_codes(\"muted\")\n",
    "sns.barplot(x=\"DAY OCC\", y=\"Premis Cd Log\", data=crimes_day, label=\"Premis Cd Log\", color=\"b\")\n",
    "\n",
    "## Plot 'Weapon Used Cd Log'\n",
    "sns.set_color_codes(\"muted\")\n",
    "sns.barplot(x=\"DAY OCC\", y=\"Weapon Used Cd Log\", data=crimes_day, label=\"Weapon Used Cd Log\", color=\"g\", alpha=0.3)\n",
    "\n",
    "ax.legend(ncol=3, loc=\"lower right\", frameon=True)\n",
    "ax.set(ylabel=\"\", xlabel=\"DAY\")\n",
    "plt.title(\"Total Comparison of Main Features by Day\")\n",
    "\n",
    "plt.show()"
   ]
  },
  {
   "cell_type": "markdown",
   "id": "d3ac5bfb",
   "metadata": {},
   "source": [
    "**Description**\n",
    "\n",
    "1. As you saw on distribution of 'DAY OCC', the distribution of it was homogeneous.\n",
    "2. Crime Codes and Weapon Used Codes was also high like previous one."
   ]
  },
  {
   "cell_type": "markdown",
   "id": "5d4ff832",
   "metadata": {},
   "source": [
    "# Split Datasets"
   ]
  },
  {
   "cell_type": "code",
   "execution_count": null,
   "id": "892eb646",
   "metadata": {},
   "outputs": [],
   "source": [
    "crimes_train = crimes.drop(['AREA NAME', 'Vict Descent', 'Status'] ,axis=1, inplace=False)\n",
    "crimes_train = pd.get_dummies(crimes_train)\n",
    "crimes_train"
   ]
  },
  {
   "cell_type": "code",
   "execution_count": null,
   "id": "5731be45",
   "metadata": {},
   "outputs": [],
   "source": [
    "# MinMax Scaling of DataFrame\n",
    "features = np.array(crimes_train.columns).reshape(-1, 1)\n",
    "\n",
    "for feature in features:\n",
    "    scaler = MinMaxScaler()\n",
    "    scaler.fit(crimes_train[feature])\n",
    "    crimes_train[feature] = scaler.transform(crimes_train[feature])\n",
    "\n",
    "crimes_train"
   ]
  },
  {
   "cell_type": "code",
   "execution_count": null,
   "id": "e3d7e596",
   "metadata": {},
   "outputs": [],
   "source": [
    "# Define features and label for training\n",
    "train_features = crimes[['YEAR OCC', 'MONTH OCC', 'DAY OCC', 'TIME OCC', 'AREA', 'Vict Age', 'Premis Cd Log', 'Weapon Used Cd Log']]\n",
    "train_label = crimes['Crm Cd Log'].astype(int)"
   ]
  },
  {
   "cell_type": "code",
   "execution_count": null,
   "id": "2cbb5905",
   "metadata": {},
   "outputs": [],
   "source": [
    "# Split datasets\n",
    "X_train, X_test, y_train, y_test = train_test_split(train_features, train_label, test_size=0.2, random_state=11)\n",
    "\n",
    "print('Shape of X_train: ', X_train.shape)\n",
    "print('Shape of X_test: ', X_test.shape)\n",
    "print('Shape of y_train: ', y_train.shape)\n",
    "print('Shape of y_test: ', y_test.shape)"
   ]
  },
  {
   "cell_type": "markdown",
   "id": "0ac14d79",
   "metadata": {},
   "source": [
    "# Regression"
   ]
  },
  {
   "cell_type": "markdown",
   "id": "941a9125",
   "metadata": {},
   "source": [
    "## Logistic Regression"
   ]
  },
  {
   "cell_type": "code",
   "execution_count": null,
   "id": "d0f010f7",
   "metadata": {},
   "outputs": [],
   "source": [
    "# Logistic Regression is one of the most fundamental estimator.\n",
    "# So, let's try with Logistic Regression, first.\n",
    "\n",
    "lr_reg = LogisticRegression(solver='liblinear')\n",
    "lr_reg.fit(X_train, y_train)\n",
    "lr_preds = lr_reg.predict(X_test)\n",
    "lr_preds_proba = lr_reg.predict_proba(X_test)\n",
    "lr_mse = mean_squared_error(y_test, lr_preds)\n",
    "lr_rmse = np.sqrt(lr_mse)\n",
    "\n",
    "print('MSE : {0:.3f}, RMSE : {1:.3f}'.format(lr_mse, lr_mse))\n",
    "print('Variance Score : {0:.3f}'.format(r2_score(y_test, lr_preds)))\n",
    "print('Accuracy Score : {0:.3f}'.format(accuracy_score(y_test, lr_preds)))\n",
    "print('ROC_AUC Score : {0:.3f}'.format(roc_auc_score(y_test, lr_preds_proba, multi_class='ovr')))"
   ]
  },
  {
   "cell_type": "code",
   "execution_count": null,
   "id": "d5aa15f5",
   "metadata": {},
   "outputs": [],
   "source": [
    "# Optimize for Logistic Regression Model\n",
    "params = {'penalty' : ['l2', 'l1'], 'C' : [0.01, 0.1, 1, 1, 5, 10]}\n",
    "\n",
    "grid_lr = GridSearchCV(lr_reg, param_grid=params, scoring='accuracy', cv=3)\n",
    "grid_lr.fit(train_features, train_label)\n",
    "print('The Best Hyperparameter for Optimization : {}'.format(grid_lr.best_params_))\n",
    "print('The Accuracy Score of Averages for Optimization : {0:.3f}'.format(grid_lr.best_score_))"
   ]
  },
  {
   "cell_type": "markdown",
   "id": "1ac84528",
   "metadata": {},
   "source": [
    "## Various Estimators"
   ]
  },
  {
   "cell_type": "code",
   "execution_count": null,
   "id": "b17ac213",
   "metadata": {},
   "outputs": [],
   "source": [
    "# Utility Function\n",
    "def get_model_cv_prediction(model, X_data, y_target, cv):\n",
    "    neg_mse_scores = cross_val_score(model, X_data, y_target, scoring=\"neg_mean_squared_error\", cv=cv)\n",
    "    rmse_scores  = np.sqrt(-1 * neg_mse_scores)\n",
    "    avg_rmse = np.mean(rmse_scores)\n",
    "    print('##### ',model.__class__.__name__ , ' #####')\n",
    "    print('Average RMSE scores of Cross Validation {0} times : {1:.3f} '.format(cv, avg_rmse))"
   ]
  },
  {
   "cell_type": "code",
   "execution_count": null,
   "id": "d0382711",
   "metadata": {},
   "outputs": [],
   "source": [
    "# Create Regresion estimators\n",
    "dt_reg = DecisionTreeRegressor(random_state=11, max_depth=4)\n",
    "rf_reg = RandomForestRegressor(random_state=11, n_estimators=1000)\n",
    "gb_reg = GradientBoostingRegressor(random_state=11, n_estimators=1000)\n",
    "lgb_reg = LGBMRegressor(n_estimators=1000)"
   ]
  },
  {
   "cell_type": "code",
   "execution_count": null,
   "id": "8e2707ce",
   "metadata": {},
   "outputs": [],
   "source": [
    "# Repeat prediction and evaluation\n",
    "models = [dt_reg, rf_reg, gb_reg, lgb_reg]\n",
    "\n",
    "for model in models:\n",
    "    get_model_cv_prediction(model, X_data=train_features, y_target=train_label, cv=5)"
   ]
  },
  {
   "cell_type": "code",
   "execution_count": null,
   "id": "aac118d1",
   "metadata": {},
   "outputs": [],
   "source": [
    "# Plot 'feature importances'\n",
    "rf_reg.fit(train_features, train_label)\n",
    "\n",
    "feature_series = pd.Series(data=rf_reg.feature_importances_, index=train_features.columns)\n",
    "feature_series = feature_series.sort_values(ascending=False)\n",
    "sns.barplot(x= feature_series, y=feature_series.index)\n",
    "plt.title('Feature Importances by RandomForestRegressor')"
   ]
  },
  {
   "cell_type": "markdown",
   "id": "b181f74f",
   "metadata": {},
   "source": [
    "# Inspiration"
   ]
  },
  {
   "cell_type": "code",
   "execution_count": null,
   "id": "2f539381",
   "metadata": {},
   "outputs": [],
   "source": [
    "# Which community mostly get effected my crime?\n",
    "sns.distplot(crimes['AREA'])\n",
    "print(\"List of AREA unique values : \\n\", crimes['AREA'].unique())\n",
    "print(\"List of AREA NAME unique values : \\n\", crimes['AREA NAME'].unique())\n",
    "print(\"\\n\")\n",
    "print(\"[ANSWER]\")\n",
    "print(\"The mostly affected community : 77th Street\")"
   ]
  },
  {
   "cell_type": "code",
   "execution_count": null,
   "id": "1595dbde",
   "metadata": {},
   "outputs": [],
   "source": [
    "# Which Age of people are most and least affected?\n",
    "sns.distplot(crimes['Vict Age'])\n",
    "plt.title('Distribution of Vict Age')\n",
    "print(\"[Answer]\")\n",
    "print(\"People of 30s were most affected to crimes\")\n",
    "print(\"People of about 70s were less affted to crimes\")"
   ]
  }
 ],
 "metadata": {},
 "nbformat": 4,
 "nbformat_minor": 5
}
