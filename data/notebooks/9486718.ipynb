{
 "cells": [
  {
   "cell_type": "code",
   "execution_count": null,
   "id": "389d3263",
   "metadata": {},
   "outputs": [],
   "source": [
    "# This Python 3 environment comes with many helpful analytics libraries installed\n",
    "# It is defined by the kaggle/python Docker image: https://github.com/kaggle/docker-python\n",
    "# For example, here's several helpful packages to load\n",
    "\n",
    "import numpy as np # linear algebra\n",
    "import pandas as pd # data processing, CSV file I/O (e.g. pd.read_csv)\n",
    "\n",
    "# Input data files are available in the read-only \"../input/\" directory\n",
    "# For example, running this (by clicking run or pressing Shift+Enter) will list all files under the input directory\n",
    "\n",
    "import os\n",
    "for dirname, _, filenames in os.walk('/kaggle/input'):\n",
    "    for filename in filenames:\n",
    "        print(os.path.join(dirname, filename))\n",
    "\n",
    "# You can write up to 5GB to the current directory (/kaggle/working/) that gets preserved as output when you create a version using \"Save & Run All\" \n",
    "# You can also write temporary files to /kaggle/temp/, but they won't be saved outside of the current session"
   ]
  },
  {
   "cell_type": "code",
   "execution_count": null,
   "id": "2a09adb0",
   "metadata": {},
   "outputs": [],
   "source": [
    "import pandas as pd"
   ]
  },
  {
   "cell_type": "code",
   "execution_count": null,
   "id": "d09c1360",
   "metadata": {},
   "outputs": [],
   "source": [
    "pwd"
   ]
  },
  {
   "cell_type": "code",
   "execution_count": null,
   "id": "a0475f50",
   "metadata": {},
   "outputs": [],
   "source": [
    "import os\n",
    "os.chdir('/kaggle/input/montcoalert')"
   ]
  },
  {
   "cell_type": "code",
   "execution_count": null,
   "id": "a56d81d3",
   "metadata": {},
   "outputs": [],
   "source": [
    "pwd"
   ]
  },
  {
   "cell_type": "code",
   "execution_count": null,
   "id": "172154da",
   "metadata": {},
   "outputs": [],
   "source": [
    "df = pd.read_csv('911.csv')"
   ]
  },
  {
   "cell_type": "code",
   "execution_count": null,
   "id": "8e4b3d57",
   "metadata": {},
   "outputs": [],
   "source": [
    "df.info()"
   ]
  },
  {
   "cell_type": "code",
   "execution_count": null,
   "id": "18b24569",
   "metadata": {},
   "outputs": [],
   "source": [
    "df.head()"
   ]
  },
  {
   "cell_type": "code",
   "execution_count": null,
   "id": "19688195",
   "metadata": {},
   "outputs": [],
   "source": [
    "df['zip'].value_counts().head(5) #top 5 zip codes on 911 calls"
   ]
  },
  {
   "cell_type": "code",
   "execution_count": null,
   "id": "9b7d56a5",
   "metadata": {},
   "outputs": [],
   "source": [
    "df['twp'].value_counts().head(5) #top 5 townships of 911 calls"
   ]
  },
  {
   "cell_type": "code",
   "execution_count": null,
   "id": "4592cb77",
   "metadata": {},
   "outputs": [],
   "source": [
    "df['title'].nunique() #how many unique title codes are there\n",
    "len(df['title'].unique()) #other way of calculating the same thing"
   ]
  },
  {
   "cell_type": "code",
   "execution_count": null,
   "id": "7eab032a",
   "metadata": {},
   "outputs": [],
   "source": [
    "df['reason'] = df['title'].apply(lambda title: title.split(':')[0])  #creating a new column that includes the reason/department of the 911 call"
   ]
  },
  {
   "cell_type": "code",
   "execution_count": null,
   "id": "5aba49b6",
   "metadata": {},
   "outputs": [],
   "source": [
    "df['reason'].value_counts()  #the most common reasons for 911 calls"
   ]
  },
  {
   "cell_type": "code",
   "execution_count": null,
   "id": "b22f7225",
   "metadata": {},
   "outputs": [],
   "source": [
    "import seaborn as sns\n",
    "import matplotlib.pyplot as plt"
   ]
  },
  {
   "cell_type": "code",
   "execution_count": null,
   "id": "11292203",
   "metadata": {},
   "outputs": [],
   "source": [
    "%matplotlib inline"
   ]
  },
  {
   "cell_type": "code",
   "execution_count": null,
   "id": "6aaf8006",
   "metadata": {},
   "outputs": [],
   "source": [
    "sns.countplot(x='reason',data=df)\n",
    "plt.title('count of calls by reason')"
   ]
  },
  {
   "cell_type": "code",
   "execution_count": null,
   "id": "219dec4c",
   "metadata": {},
   "outputs": [],
   "source": [
    "type(df['timeStamp'].iloc[0])"
   ]
  },
  {
   "cell_type": "code",
   "execution_count": null,
   "id": "31906ec9",
   "metadata": {},
   "outputs": [],
   "source": [
    "df['timeStamp'] = pd.to_datetime(df['timeStamp'])"
   ]
  },
  {
   "cell_type": "code",
   "execution_count": null,
   "id": "b0cde0c9",
   "metadata": {},
   "outputs": [],
   "source": [
    "type(df['timeStamp'].iloc[0])"
   ]
  },
  {
   "cell_type": "code",
   "execution_count": null,
   "id": "a1bb90aa",
   "metadata": {},
   "outputs": [],
   "source": [
    "df['hour'] = df['timeStamp'].apply(lambda x: x.hour)\n",
    "df['month'] = df['timeStamp'].apply(lambda x: x.month)\n",
    "df['day of week'] = df['timeStamp'].apply(lambda x: x.dayofweek)"
   ]
  },
  {
   "cell_type": "code",
   "execution_count": null,
   "id": "b37eda02",
   "metadata": {},
   "outputs": [],
   "source": [
    "df.info()"
   ]
  },
  {
   "cell_type": "code",
   "execution_count": null,
   "id": "6fc85b2d",
   "metadata": {},
   "outputs": [],
   "source": [
    "dmap = {0:'Mon',1:'Tue',2:'Wed',3:'Thurs',4:'Fri',5:'Sat',6:'Sun'}"
   ]
  },
  {
   "cell_type": "code",
   "execution_count": null,
   "id": "799f9c16",
   "metadata": {},
   "outputs": [],
   "source": [
    "df['day of week'] = df['day of week'].map(dmap)"
   ]
  },
  {
   "cell_type": "code",
   "execution_count": null,
   "id": "a434fffe",
   "metadata": {},
   "outputs": [],
   "source": [
    "type(df['day of week'].iloc[0])"
   ]
  },
  {
   "cell_type": "code",
   "execution_count": null,
   "id": "75a4070a",
   "metadata": {},
   "outputs": [],
   "source": [
    "sns.countplot(x='day of week',data=df,hue='reason')\n",
    "plt.title('count of calls by day of week with hue based off reason')"
   ]
  },
  {
   "cell_type": "code",
   "execution_count": null,
   "id": "6b0238a4",
   "metadata": {},
   "outputs": [],
   "source": [
    "sns.countplot(x='month',data=df,hue='reason')\n",
    "plt.title('count of calls by month with hue based off reason')"
   ]
  },
  {
   "cell_type": "code",
   "execution_count": null,
   "id": "5e8d9201",
   "metadata": {},
   "outputs": [],
   "source": [
    "bymonth = df.groupby('month').count()"
   ]
  },
  {
   "cell_type": "code",
   "execution_count": null,
   "id": "a8850ed5",
   "metadata": {},
   "outputs": [],
   "source": [
    "bymonth"
   ]
  },
  {
   "cell_type": "code",
   "execution_count": null,
   "id": "07b6227f",
   "metadata": {},
   "outputs": [],
   "source": [
    "sns.lmplot(x='month',y='twp',data=bymonth.reset_index())\n",
    "plt.title('regression line of number of calls per month')"
   ]
  },
  {
   "cell_type": "code",
   "execution_count": null,
   "id": "facc1520",
   "metadata": {},
   "outputs": [],
   "source": [
    "sns.countplot(x='month',data=df)\n",
    "plt.title('count of calls per month')"
   ]
  },
  {
   "cell_type": "code",
   "execution_count": null,
   "id": "4d1ab912",
   "metadata": {},
   "outputs": [],
   "source": [
    "df['date'] = df['timeStamp'].apply(lambda x: x.date())"
   ]
  },
  {
   "cell_type": "code",
   "execution_count": null,
   "id": "029d7430",
   "metadata": {},
   "outputs": [],
   "source": [
    "df['date'].head()"
   ]
  },
  {
   "cell_type": "code",
   "execution_count": null,
   "id": "58f1c854",
   "metadata": {},
   "outputs": [],
   "source": [
    "bydate = df.groupby('date').count()"
   ]
  },
  {
   "cell_type": "code",
   "execution_count": null,
   "id": "49587b60",
   "metadata": {},
   "outputs": [],
   "source": [
    "bydate['twp'].plot()\n",
    "plt.tight_layout()"
   ]
  },
  {
   "cell_type": "code",
   "execution_count": null,
   "id": "c7cf85dc",
   "metadata": {},
   "outputs": [],
   "source": [
    "df[df['reason']=='EMS'].groupby('month').count().plot()\n",
    "plt.title('EMS calls group by month')\n",
    "plt.tight_layout()"
   ]
  },
  {
   "cell_type": "code",
   "execution_count": null,
   "id": "83fa45da",
   "metadata": {},
   "outputs": [],
   "source": [
    "df[df['reason']=='Fire'].groupby('month').count().plot()\n",
    "plt.title('Fire calls group by month')\n",
    "plt.tight_layout()"
   ]
  },
  {
   "cell_type": "code",
   "execution_count": null,
   "id": "c53c7e78",
   "metadata": {},
   "outputs": [],
   "source": [
    "df[df['reason']=='Traffic'].groupby('month').count().plot()\n",
    "plt.title('Traffic calls group by month')\n",
    "plt.tight_layout()"
   ]
  },
  {
   "cell_type": "code",
   "execution_count": null,
   "id": "ae8683c9",
   "metadata": {},
   "outputs": [],
   "source": [
    "nan"
   ]
  }
 ],
 "metadata": {},
 "nbformat": 4,
 "nbformat_minor": 5
}
