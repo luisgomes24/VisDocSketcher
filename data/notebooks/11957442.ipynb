{
 "cells": [
  {
   "cell_type": "code",
   "execution_count": null,
   "id": "88cc42f1",
   "metadata": {},
   "outputs": [],
   "source": [
    "# This Python 3 environment comes with many helpful analytics libraries installed\n",
    "# It is defined by the kaggle/python Docker image: https://github.com/kaggle/docker-python\n",
    "# For example, here's several helpful packages to load\n",
    "\n",
    "import numpy as np # linear algebra\n",
    "import pandas as pd # data processing, CSV file I/O (e.g. pd.read_csv)\n",
    "\n",
    "# Input data files are available in the read-only \"../input/\" directory\n",
    "# For example, running this (by clicking run or pressing Shift+Enter) will list all files under the input directory\n",
    "\n",
    "import os\n",
    "for dirname, _, filenames in os.walk('/kaggle/input'):\n",
    "    for filename in filenames:\n",
    "        print(os.path.join(dirname, filename))\n",
    "\n",
    "# You can write up to 5GB to the current directory (/kaggle/working/) that gets preserved as output when you create a version using \"Save & Run All\" \n",
    "# You can also write temporary files to /kaggle/temp/, but they won't be saved outside of the current session"
   ]
  },
  {
   "cell_type": "code",
   "execution_count": null,
   "id": "db012c45",
   "metadata": {},
   "outputs": [],
   "source": [
    "#read matches file\n",
    "df = pd.read_csv('/kaggle/input/ipl/matches.csv')\n",
    "\n"
   ]
  },
  {
   "cell_type": "code",
   "execution_count": null,
   "id": "1192f2e4",
   "metadata": {},
   "outputs": [],
   "source": [
    "#view info head ,tail, describe\n",
    "df.head(2)\n",
    "\n"
   ]
  },
  {
   "cell_type": "code",
   "execution_count": null,
   "id": "638c737d",
   "metadata": {},
   "outputs": [],
   "source": [
    "df.tail(2)"
   ]
  },
  {
   "cell_type": "code",
   "execution_count": null,
   "id": "1abf15b5",
   "metadata": {},
   "outputs": [],
   "source": [
    "df.describe()"
   ]
  },
  {
   "cell_type": "code",
   "execution_count": null,
   "id": "bd66bb2f",
   "metadata": {},
   "outputs": [],
   "source": [
    "df.info()"
   ]
  },
  {
   "cell_type": "code",
   "execution_count": null,
   "id": "6028aec7",
   "metadata": {},
   "outputs": [],
   "source": [
    "#check for thumb rull no 1 - Nulls\n",
    "df.isnull().sum().sort_values(ascending =False)\n"
   ]
  },
  {
   "cell_type": "code",
   "execution_count": null,
   "id": "37d41eff",
   "metadata": {},
   "outputs": [],
   "source": [
    "#fix null for col - umpire3\n",
    "df.drop(['umpire3'], inplace = True, axis=1)\n",
    "\n"
   ]
  },
  {
   "cell_type": "code",
   "execution_count": null,
   "id": "f5d6f10e",
   "metadata": {},
   "outputs": [],
   "source": [
    "#fix null for col - city\n",
    "df[pd.isnull(df[\"city\"])]"
   ]
  },
  {
   "cell_type": "code",
   "execution_count": null,
   "id": "045b67db",
   "metadata": {},
   "outputs": [],
   "source": [
    "df['city'] = df['city'].fillna('Dubai')\n"
   ]
  },
  {
   "cell_type": "code",
   "execution_count": null,
   "id": "a50fdf8f",
   "metadata": {},
   "outputs": [],
   "source": [
    "#fix null for col - player_of_match\n",
    "df[pd.isnull(df[\"player_of_match\"])]"
   ]
  },
  {
   "cell_type": "code",
   "execution_count": null,
   "id": "613ca187",
   "metadata": {},
   "outputs": [],
   "source": [
    "df['player_of_match'] = df['player_of_match'].fillna('Tej')"
   ]
  },
  {
   "cell_type": "code",
   "execution_count": null,
   "id": "31e13a97",
   "metadata": {},
   "outputs": [],
   "source": [
    "#fix null for col - winner               \n",
    "df[pd.isnull(df[\"winner\"])]"
   ]
  },
  {
   "cell_type": "code",
   "execution_count": null,
   "id": "8245bf9e",
   "metadata": {},
   "outputs": [],
   "source": [
    "df['winner'] = df['winner'].fillna('Draw')\n"
   ]
  },
  {
   "cell_type": "code",
   "execution_count": null,
   "id": "423b8d49",
   "metadata": {},
   "outputs": [],
   "source": [
    "#fix null for col - umpire1,umpire2\n",
    "df['umpire1'].value_counts() #636 #mean , median ,mode\n",
    "#mean = sales/ age\n",
    "#median = Monday to friday ,sat, sun ,mon 7 days"
   ]
  },
  {
   "cell_type": "code",
   "execution_count": null,
   "id": "587f6e32",
   "metadata": {},
   "outputs": [],
   "source": [
    "df['umpire1'] = df['umpire1'].fillna('HDPK Dharmasena')"
   ]
  },
  {
   "cell_type": "code",
   "execution_count": null,
   "id": "f508886f",
   "metadata": {},
   "outputs": [],
   "source": [
    "df['umpire2'].value_counts()\n",
    "df['umpire2'] = df['umpire2'].fillna('SJA Taufel')"
   ]
  },
  {
   "cell_type": "code",
   "execution_count": null,
   "id": "1d37e3de",
   "metadata": {},
   "outputs": [],
   "source": [
    "df.info()"
   ]
  },
  {
   "cell_type": "code",
   "execution_count": null,
   "id": "e23a80a2",
   "metadata": {},
   "outputs": [],
   "source": [
    "#season ,city,team1, team2, toss_winner , toss decision, winner\n",
    "matches = df.drop(['id','date','result','dl_applied','player_of_match','venue','umpire1','umpire2'], axis= 1)\n",
    "\n"
   ]
  },
  {
   "cell_type": "code",
   "execution_count": null,
   "id": "f404d50d",
   "metadata": {},
   "outputs": [],
   "source": [
    "matches.info()\n"
   ]
  },
  {
   "cell_type": "code",
   "execution_count": null,
   "id": "5b2788b2",
   "metadata": {},
   "outputs": [],
   "source": [
    "#label encode city,toss_decision using label encoder class\n",
    "from sklearn import preprocessing\n",
    "le = preprocessing.LabelEncoder()\n",
    "\n",
    "\n",
    "matches['city'] = le.fit_transform(matches['city'])\n",
    "matches['toss_decision'] = le.fit_transform(matches['toss_decision'])\n"
   ]
  },
  {
   "cell_type": "code",
   "execution_count": null,
   "id": "40f4ed2d",
   "metadata": {},
   "outputs": [],
   "source": [
    "matches.head()"
   ]
  },
  {
   "cell_type": "code",
   "execution_count": null,
   "id": "f89268b3",
   "metadata": {},
   "outputs": [],
   "source": [
    "matches.team2.value_counts()"
   ]
  },
  {
   "cell_type": "code",
   "execution_count": null,
   "id": "5b6821c3",
   "metadata": {},
   "outputs": [],
   "source": [
    "#label encoding team2,team2, winner, toss_winner using mapper\n",
    "teamMapper = {\"Mumbai Indians\":0,\"Chennai Super Kings\":1,\"Kings XI Punjab\":2,\"Royal Challengers Bangalore\":3\n",
    "              ,\"Kolkata Knight Riders\":4,\n",
    "              \"Delhi Daredevils\":5,\"Rajasthan Royals\":6,\"Sunrisers Hyderabad\":7,\"Deccan Chargers\":8\n",
    "              ,\"Pune Warriors\":9,\"Gujarat Lions\":10,\"Rising Pune Supergiant\":11,\"Kochi Tuskers Kerala\":12\n",
    "              ,\"Rising Pune Supergiants\":13,\"Draw\":14}\n",
    "\n",
    "for dataset in [matches]:\n",
    "    dataset['team1']=dataset['team1'].map(teamMapper)\n",
    "    \n",
    "        \n",
    "        "
   ]
  },
  {
   "cell_type": "code",
   "execution_count": null,
   "id": "95b55c77",
   "metadata": {},
   "outputs": [],
   "source": [
    "for dataset in [matches]:\n",
    "    dataset['team2']=dataset['team2'].map(teamMapper)"
   ]
  },
  {
   "cell_type": "code",
   "execution_count": null,
   "id": "0e4abdd3",
   "metadata": {},
   "outputs": [],
   "source": [
    "for dataset in [matches]:\n",
    "    dataset['winner']=dataset['winner'].map(teamMapper)\n",
    "    dataset['toss_winner']=dataset['toss_winner'].map(teamMapper)\n",
    "    "
   ]
  },
  {
   "cell_type": "code",
   "execution_count": null,
   "id": "66714638",
   "metadata": {},
   "outputs": [],
   "source": [
    "matches.head()"
   ]
  },
  {
   "cell_type": "code",
   "execution_count": null,
   "id": "4f178ac1",
   "metadata": {},
   "outputs": [],
   "source": [
    "#check info\n",
    "matches.info()"
   ]
  },
  {
   "cell_type": "code",
   "execution_count": null,
   "id": "cbbd543c",
   "metadata": {},
   "outputs": [],
   "source": [
    "#x & y\n",
    "X = matches.drop([\"winner\"],axis=1)\n",
    "y = df['winner']\n"
   ]
  },
  {
   "cell_type": "code",
   "execution_count": null,
   "id": "4aeff52a",
   "metadata": {},
   "outputs": [],
   "source": [
    "from sklearn.model_selection import train_test_split\n",
    "X_train, X_test, y_train, y_test = train_test_split(X, y, test_size=0.30, random_state=42)\n",
    "\n"
   ]
  },
  {
   "cell_type": "code",
   "execution_count": null,
   "id": "55bfbd74",
   "metadata": {},
   "outputs": [],
   "source": [
    "# goal 1- predict win base on team 1, team2, city ,season, y=winner\n",
    "\n",
    "from sklearn.naive_bayes import GaussianNB \n",
    "\n",
    "\n",
    "gnb = GaussianNB()\n",
    "\n",
    "gnb.fit(X_train, y_train) \n",
    "y_prediction = gnb.predict(X_test)\n",
    "\n",
    "acc_gnb= gnb.score(X_test, y_test)*100\n",
    "print(acc_gnb)"
   ]
  },
  {
   "cell_type": "code",
   "execution_count": null,
   "id": "16cfc755",
   "metadata": {},
   "outputs": [],
   "source": [
    "from sklearn.neighbors import KNeighborsClassifier\n",
    "clf_knn =  KNeighborsClassifier(n_neighbors=3)\n",
    "clf_knn.fit(X_train, y_train)\n",
    "\n",
    "y_pred_knn = clf_knn.predict(X_test)\n",
    "print(\"Train score\",clf_knn.score(X_train, y_train)*100)\n"
   ]
  }
 ],
 "metadata": {},
 "nbformat": 4,
 "nbformat_minor": 5
}
