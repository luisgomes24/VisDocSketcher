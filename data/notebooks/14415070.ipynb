{
 "cells": [
  {
   "cell_type": "markdown",
   "id": "a84a7d82",
   "metadata": {},
   "source": [
    "## Importing Libraries"
   ]
  },
  {
   "cell_type": "code",
   "execution_count": null,
   "id": "3b592289",
   "metadata": {},
   "outputs": [],
   "source": [
    "import pandas as pd\n",
    "import itertools\n",
    "import seaborn as sns\n",
    "import matplotlib.pyplot as plt"
   ]
  },
  {
   "cell_type": "markdown",
   "id": "22251f9c",
   "metadata": {},
   "source": [
    "## Set Parameters"
   ]
  },
  {
   "cell_type": "code",
   "execution_count": null,
   "id": "13daad8b",
   "metadata": {},
   "outputs": [],
   "source": [
    "plt.rcParams['figure.figsize']=(12,5)\n",
    "\n",
    "font = {'family': 'serif',\n",
    "        'color':  'darkred',\n",
    "        'weight': 'normal',\n",
    "        'size': 16,\n",
    "        }"
   ]
  },
  {
   "cell_type": "markdown",
   "id": "b6438172",
   "metadata": {},
   "source": [
    "## Load Data"
   ]
  },
  {
   "cell_type": "code",
   "execution_count": null,
   "id": "cd139ebc",
   "metadata": {},
   "outputs": [],
   "source": [
    "df = pd.read_csv(\"../input/gufhtugu-publications-dataset-challenge/GP Orders - 4.csv\")\n",
    "df.dropna(inplace=True)\n",
    "df.head()"
   ]
  },
  {
   "cell_type": "markdown",
   "id": "e6231d35",
   "metadata": {},
   "source": [
    "## Preprocessing Book Names"
   ]
  },
  {
   "cell_type": "code",
   "execution_count": null,
   "id": "9617aeb0",
   "metadata": {},
   "outputs": [],
   "source": [
    "book_counts = {}\n",
    "for book in df['Book Name']:\n",
    "    if '/' in book:\n",
    "        m_bks = book.split('/')\n",
    "        for bk in m_bks:\n",
    "            if bk in book_counts:\n",
    "                book_counts[bk] += 1\n",
    "            else:\n",
    "                book_counts[bk] = 1\n",
    "    else:\n",
    "        if book in book_counts:\n",
    "            book_counts[book] += 1\n",
    "        else:\n",
    "            book_counts[book] = 1"
   ]
  },
  {
   "cell_type": "markdown",
   "id": "91a71332",
   "metadata": {},
   "source": [
    "## Top Selling Books"
   ]
  },
  {
   "cell_type": "code",
   "execution_count": null,
   "id": "ec062624",
   "metadata": {},
   "outputs": [],
   "source": [
    "top = dict(sorted(book_counts.items(), key=lambda x: x[1], reverse=True))\n",
    "top = dict(itertools.islice(top.items(), 5))\n",
    "plt.barh(list(top.keys())[::-1], list(top.values())[::-1])\n",
    "plt.title('Top 5 Selling Books', fontdict=font)\n",
    "plt.margins(0.01)\n",
    "plt.show()"
   ]
  },
  {
   "cell_type": "markdown",
   "id": "5cb13738",
   "metadata": {},
   "source": [
    "## Least Selling Books"
   ]
  },
  {
   "cell_type": "code",
   "execution_count": null,
   "id": "e9029281",
   "metadata": {},
   "outputs": [],
   "source": [
    "least = dict(sorted(book_counts.items(), key=lambda x: x[1]))\n",
    "least = dict(itertools.islice(least.items(), 5))\n",
    "plt.barh(list(least.keys())[::-1], list(least.values())[::-1])\n",
    "plt.title('Least 5 Selling Books', fontdict=font)\n",
    "plt.margins(0.01)\n",
    "plt.show()"
   ]
  },
  {
   "cell_type": "markdown",
   "id": "3b0acba4",
   "metadata": {},
   "source": [
    "## Visualizing Order Status"
   ]
  },
  {
   "cell_type": "code",
   "execution_count": null,
   "id": "863b6d49",
   "metadata": {},
   "outputs": [],
   "source": [
    "os = dict(df['Order Status'].value_counts())\n",
    "plt.barh(list(os.keys())[::-1], list(os.values())[::-1])\n",
    "plt.title('Books Order Status', fontdict=font)\n",
    "plt.margins(0.01)\n",
    "plt.show()"
   ]
  },
  {
   "cell_type": "markdown",
   "id": "f48d6aa9",
   "metadata": {},
   "source": [
    "## Exploring Returned Orders"
   ]
  },
  {
   "cell_type": "code",
   "execution_count": null,
   "id": "889fec6e",
   "metadata": {},
   "outputs": [],
   "source": [
    "df_new = df[df['Order Status']=='Returned']\n",
    "df_new.head()"
   ]
  },
  {
   "cell_type": "code",
   "execution_count": null,
   "id": "da347e05",
   "metadata": {},
   "outputs": [],
   "source": [
    "returned_counts = {}\n",
    "c = 0\n",
    "for book in df_new['Book Name']:\n",
    "    if '/' in book:\n",
    "        c += 1\n",
    "        m_bks = book.split('/')\n",
    "        for bk in m_bks:\n",
    "            if bk in returned_counts:\n",
    "                returned_counts[bk] += 1\n",
    "            else:\n",
    "                returned_counts[bk] = 1\n",
    "    else:\n",
    "        if book in returned_counts:\n",
    "            returned_counts[book] += 1\n",
    "        else:\n",
    "            returned_counts[book] = 1\n",
    "print(c/len(df_new))"
   ]
  },
  {
   "cell_type": "code",
   "execution_count": null,
   "id": "c0bd41e3",
   "metadata": {},
   "outputs": [],
   "source": [
    "top = sorted(returned_counts.items(), key=lambda x: x[1], reverse=True)\n",
    "top[0]"
   ]
  },
  {
   "cell_type": "code",
   "execution_count": null,
   "id": "61b4e727",
   "metadata": {},
   "outputs": [],
   "source": [
    "df_new['City (Billing)'].value_counts()"
   ]
  },
  {
   "cell_type": "markdown",
   "id": "f857d3ef",
   "metadata": {},
   "source": [
    "### Findings:\n",
    "<b>*</b> <b><i>21%</i></b> returned orders contained more than 1 book.<br>\n",
    "<b>*</b> Most returning book is <b><i>Internet Se Paise Kamayen</i></b>. Exactly <b><i>481</i></b> times.<br>\n",
    "<b>*</b> Most returned orders are from <b><i>Karachi</i></b>.<br>"
   ]
  },
  {
   "cell_type": "markdown",
   "id": "3078b52e",
   "metadata": {},
   "source": [
    "## Order Frequency by Day"
   ]
  },
  {
   "cell_type": "code",
   "execution_count": null,
   "id": "38961809",
   "metadata": {},
   "outputs": [],
   "source": [
    "df['Order Date']= pd.to_datetime(df['Order Date'])\n",
    "df['Day'] = df['Order Date'].apply(lambda x : x.day_name())\n",
    "df['Day'].value_counts()[::-1].plot(kind='barh')\n",
    "plt.title('Order Frequency by Day', fontdict=font)\n",
    "plt.margins(0.01)\n",
    "plt.show()"
   ]
  },
  {
   "cell_type": "code",
   "execution_count": null,
   "id": "ab543efb",
   "metadata": {},
   "outputs": [],
   "source": [
    "nan"
   ]
  }
 ],
 "metadata": {},
 "nbformat": 4,
 "nbformat_minor": 5
}
