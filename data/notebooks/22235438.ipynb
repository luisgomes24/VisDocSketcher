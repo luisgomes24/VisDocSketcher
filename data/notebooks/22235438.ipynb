{
 "cells": [
  {
   "cell_type": "markdown",
   "id": "7febfd6f",
   "metadata": {},
   "source": [
    "# Great Barrier Reef Animation\n",
    "https://www.kaggle.com/stpeteishii/wind-turbines-yolo-annotation-view"
   ]
  },
  {
   "cell_type": "code",
   "execution_count": null,
   "id": "862aaf99",
   "metadata": {},
   "outputs": [],
   "source": [
    "import numpy as np\n",
    "import pandas as pd\n",
    "import os\n",
    "import cv2\n",
    "from matplotlib import pyplot as plt\n",
    "\n",
    "from tqdm import tqdm\n",
    "import seaborn as sns\n",
    "import warnings\n",
    "warnings.filterwarnings(\"ignore\")"
   ]
  },
  {
   "cell_type": "code",
   "execution_count": null,
   "id": "b1733cc5",
   "metadata": {},
   "outputs": [],
   "source": [
    "img_dir='../input/tensorflow-great-barrier-reef/train_images/video_0'"
   ]
  },
  {
   "cell_type": "code",
   "execution_count": null,
   "id": "dbdf1550",
   "metadata": {},
   "outputs": [],
   "source": [
    "train=pd.read_csv('../input/tensorflow-great-barrier-reef/train.csv')\n",
    "train"
   ]
  },
  {
   "cell_type": "code",
   "execution_count": null,
   "id": "5ae37c7e",
   "metadata": {},
   "outputs": [],
   "source": [
    "train0=train[train['video_id']==0]\n",
    "print(train0['annotations'].unique().tolist()[3])\n",
    "print(len(train0))"
   ]
  },
  {
   "cell_type": "code",
   "execution_count": null,
   "id": "4ae190be",
   "metadata": {},
   "outputs": [],
   "source": [
    "import ast\n",
    "stri=train0.loc[100,'annotations'][1:-1]\n",
    "dicti = ast.literal_eval(stri)\n",
    "print(dicti)\n",
    "print(dicti['width'])"
   ]
  },
  {
   "cell_type": "code",
   "execution_count": null,
   "id": "b2e9690a",
   "metadata": {},
   "outputs": [],
   "source": [
    "DICT0=[]\n",
    "for i in range(len(train0)):\n",
    "    if train0.loc[i,'annotations']!='[]':\n",
    "        stri=train0.loc[i,'annotations'][1:-1]\n",
    "        DICT0+= [ast.literal_eval(stri)]\n",
    "    else:\n",
    "        DICT0+=[{}]\n",
    "print(DICT0[50:55])"
   ]
  },
  {
   "cell_type": "code",
   "execution_count": null,
   "id": "3c2aa7e4",
   "metadata": {},
   "outputs": [],
   "source": [
    "impaths=[]\n",
    "for i in range(len(train0)):\n",
    "    impaths+=[os.path.join(img_dir,str(i)+'.jpg')]"
   ]
  },
  {
   "cell_type": "code",
   "execution_count": null,
   "id": "871988ce",
   "metadata": {},
   "outputs": [],
   "source": [
    "images0=[]\n",
    "#for i in tqdm(range(len(impaths))):\n",
    "for i in tqdm(range(200)):\n",
    "    images0+=[cv2.imread(impaths[i])]"
   ]
  },
  {
   "cell_type": "code",
   "execution_count": null,
   "id": "1f69759c",
   "metadata": {},
   "outputs": [],
   "source": [
    "#!mkdir source0"
   ]
  },
  {
   "cell_type": "code",
   "execution_count": null,
   "id": "eb13ea38",
   "metadata": {},
   "outputs": [],
   "source": [
    "print(type(DICT0[16]))\n",
    "DICT0[16]"
   ]
  },
  {
   "cell_type": "code",
   "execution_count": null,
   "id": "6b9c1fb0",
   "metadata": {},
   "outputs": [],
   "source": [
    "print(type(DICT0[50]))\n",
    "DICT0[50]"
   ]
  },
  {
   "cell_type": "code",
   "execution_count": null,
   "id": "586f7a5e",
   "metadata": {},
   "outputs": [],
   "source": [
    "def draw_box(num0):\n",
    "    \n",
    "    impath=impaths[num0]\n",
    "    image=cv2.imread(impath)\n",
    "    #H,W=image.shape[0],image.shape[1]\n",
    "    #file=impath[0:-4].split('/')[-1]\n",
    "    #print(file, DICT0[num0])\n",
    "\n",
    "    item = DICT0[num0]       \n",
    "    if item!={} and type(item)==dict:\n",
    "        x=item['x']\n",
    "        y=item['y']\n",
    "        w=item['width'] \n",
    "        h=item['height']\n",
    "        x0=int(x-w/2)\n",
    "        y0=int(y-h/2)\n",
    "        x1=int(x+w/2)\n",
    "        y1=int(y+h/2)\n",
    "\n",
    "        cv2.rectangle(image,(x0,y0),(x1,y1),(0,0,255),4) \n",
    "        #print('dict')\n",
    "\n",
    "    elif item!={} and type(item)==tuple:\n",
    "        for item2 in item:\n",
    "            x=item2['x']\n",
    "            y=item2['y']\n",
    "            w=item2['width'] \n",
    "            h=item2['height']\n",
    "            x0=int(x-w/2)\n",
    "            y0=int(y-h/2)\n",
    "            x1=int(x+w/2)\n",
    "            y1=int(y+h/2)\n",
    "\n",
    "            cv2.rectangle(image,(x0,y0),(x1,y1),(0,0,255),4)\n",
    "            #print('tuple')\n",
    "\n",
    "        #cv2.imwrite('/kaggle/working/source0/'+file+'.png',image)        \n",
    "        #plt.imshow(cv2.cvtColor(image, cv2.COLOR_BGR2RGB))\n",
    "        #plt.show() \n",
    "        \n",
    "    return image"
   ]
  },
  {
   "cell_type": "code",
   "execution_count": null,
   "id": "33c02121",
   "metadata": {},
   "outputs": [],
   "source": [
    "images1=[]\n",
    "#for i in tqdm(range(len(impaths))):\n",
    "for i in tqdm(range(200)):\n",
    "    images1+=[draw_box(i)]"
   ]
  },
  {
   "cell_type": "code",
   "execution_count": null,
   "id": "3b94838d",
   "metadata": {},
   "outputs": [],
   "source": [
    "fig=plt.figure(figsize=(10,10))\n",
    "#plt.axis('off')\n",
    "plt.imshow(cv2.cvtColor(images0[16],cv2.COLOR_BGR2RGB))"
   ]
  },
  {
   "cell_type": "code",
   "execution_count": null,
   "id": "3bd1c910",
   "metadata": {},
   "outputs": [],
   "source": [
    "fig=plt.figure(figsize=(10,10))\n",
    "#plt.axis('off')\n",
    "plt.imshow(cv2.cvtColor(images1[16],cv2.COLOR_BGR2RGB))"
   ]
  },
  {
   "cell_type": "code",
   "execution_count": null,
   "id": "440cb658",
   "metadata": {},
   "outputs": [],
   "source": [
    "len(images1)"
   ]
  },
  {
   "cell_type": "markdown",
   "id": "2c8a2a99",
   "metadata": {},
   "source": [
    "# Animation\n",
    "https://matplotlib.org/stable/api/animation_api.html"
   ]
  },
  {
   "cell_type": "code",
   "execution_count": null,
   "id": "c747b098",
   "metadata": {},
   "outputs": [],
   "source": [
    "from matplotlib import animation, rc\n",
    "rc('animation', html='jshtml')"
   ]
  },
  {
   "cell_type": "code",
   "execution_count": null,
   "id": "0bf23865",
   "metadata": {},
   "outputs": [],
   "source": [
    "def create_animation(ims):\n",
    "    \n",
    "    fig=plt.figure(figsize=(12,6))\n",
    "    plt.axis('off')\n",
    "    im=plt.imshow(cv2.cvtColor(ims[0],cv2.COLOR_BGR2RGB))\n",
    "    \n",
    "    def animate_func(i):\n",
    "        im.set_array(cv2.cvtColor(ims[i],cv2.COLOR_BGR2RGB))\n",
    "        return [im]\n",
    "\n",
    "    return animation.FuncAnimation(fig, animate_func, frames=len(ims), \n",
    "                                   interval=1000//8)"
   ]
  },
  {
   "cell_type": "code",
   "execution_count": null,
   "id": "bf042872",
   "metadata": {},
   "outputs": [],
   "source": [
    "create_animation(images1[10:70])"
   ]
  },
  {
   "cell_type": "code",
   "execution_count": null,
   "id": "e57271bf",
   "metadata": {},
   "outputs": [],
   "source": [
    "nan"
   ]
  },
  {
   "cell_type": "code",
   "execution_count": null,
   "id": "07fa3e89",
   "metadata": {},
   "outputs": [],
   "source": [
    "nan"
   ]
  },
  {
   "cell_type": "code",
   "execution_count": null,
   "id": "9ace5445",
   "metadata": {},
   "outputs": [],
   "source": [
    "nan"
   ]
  }
 ],
 "metadata": {},
 "nbformat": 4,
 "nbformat_minor": 5
}
