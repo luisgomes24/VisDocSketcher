{
 "cells": [
  {
   "cell_type": "code",
   "execution_count": null,
   "id": "962fdc2c",
   "metadata": {},
   "outputs": [],
   "source": [
    "# This Python 3 environment comes with many helpful analytics libraries installed\n",
    "# It is defined by the kaggle/python Docker image: https://github.com/kaggle/docker-python\n",
    "# For example, here's several helpful packages to load\n",
    "\n",
    "import numpy as np # linear algebra\n",
    "import pandas as pd # data processing, CSV file I/O (e.g. pd.read_csv)\n",
    "import matplotlib.pyplot as plt\n",
    "import seaborn as sns\n",
    "import plotly.graph_objects as go\n",
    "import plotly.offline as py\n",
    "import plotly.express as px\n",
    "from plotly.offline import iplot\n",
    "\n",
    "import warnings\n",
    "warnings.simplefilter(action='ignore', category=Warning)\n",
    "\n",
    "# Input data files are available in the read-only \"../input/\" directory\n",
    "# For example, running this (by clicking run or pressing Shift+Enter) will list all files under the input directory\n",
    "\n",
    "import os\n",
    "for dirname, _, filenames in os.walk('/kaggle/input'):\n",
    "    for filename in filenames:\n",
    "        print(os.path.join(dirname, filename))\n",
    "\n",
    "# You can write up to 20GB to the current directory (/kaggle/working/) that gets preserved as output when you create a version using \"Save & Run All\" \n",
    "# You can also write temporary files to /kaggle/temp/, but they won't be saved outside of the current session"
   ]
  },
  {
   "cell_type": "markdown",
   "id": "d590bbcd",
   "metadata": {},
   "source": [
    "<center style=\"font-family:verdana;\"><h1 style=\"font-size:200%; padding: 10px; background: #001f3f;\"><b style=\"color:orange;\">KLib</b></h1></center>\n",
    "\n",
    "klib is a Python library for importing, cleaning, analyzing and preprocessing data. Explanations on key functionalities can be found on Medium / TowardsDataScience in the examples section or on YouTube (Data Professor).\n",
    "\n",
    "The K in KLib stands for kernel because these functions might have been provided and consumed at that level. In any case, the furnished functionality has no obligation to library concepts of thread binding, context, and ownership. KLib interfaces act only upon input parameters and, when making use of global or other data not passed in through the interface, treat such data as read-only. Consequently, KLib interfaces are completely reentrant and thread-safe. They are well-suited to drivers, stacks, libraries, and other low-level code. KLib provides them at this lower level for consumption by low-level code as well as applications.\n",
    "\n",
    "https://support.novell.com/techcenter/articles/ana20000812.html\n",
    "\n",
    "https://pypi.org/project/klib/"
   ]
  },
  {
   "cell_type": "markdown",
   "id": "282ba4b9",
   "metadata": {},
   "source": [
    "![](https://encrypted-tbn0.gstatic.com/images?q=tbn:ANd9GcSpOmeiC-mCPAqS1yfK_8OXTAXOyg5Z3sB0feGnKbvKnV2MDHxNLFAXgn5eMK_fvN9e3i8&usqp=CAU)youtube.com"
   ]
  },
  {
   "cell_type": "code",
   "execution_count": null,
   "id": "a84bf06f",
   "metadata": {},
   "outputs": [],
   "source": [
    "df = pd.read_csv('../input/learnplatform-covid19-impact-on-digital-learning/products_info.csv', encoding='utf8')\n",
    "df.head()"
   ]
  },
  {
   "cell_type": "code",
   "execution_count": null,
   "id": "10c5bde4",
   "metadata": {},
   "outputs": [],
   "source": [
    "!pip install klib"
   ]
  },
  {
   "cell_type": "code",
   "execution_count": null,
   "id": "453b7d30",
   "metadata": {},
   "outputs": [],
   "source": [
    "import sys\n",
    "\n",
    "sys.path.append('../input/klib-library-python')"
   ]
  },
  {
   "cell_type": "code",
   "execution_count": null,
   "id": "1aa6d65a",
   "metadata": {},
   "outputs": [],
   "source": [
    "import klib"
   ]
  },
  {
   "cell_type": "markdown",
   "id": "9aae5fcf",
   "metadata": {},
   "source": [
    "#Checking for missing values"
   ]
  },
  {
   "cell_type": "code",
   "execution_count": null,
   "id": "0f68e4de",
   "metadata": {},
   "outputs": [],
   "source": [
    "klib.missingval_plot(df)"
   ]
  },
  {
   "cell_type": "code",
   "execution_count": null,
   "id": "44ed07f4",
   "metadata": {},
   "outputs": [],
   "source": [
    "klib.cat_plot(df, figsize=(50,15));"
   ]
  },
  {
   "cell_type": "code",
   "execution_count": null,
   "id": "c9143fb6",
   "metadata": {},
   "outputs": [],
   "source": [
    "#Code by https://reposhub.com/python/science-and-data-analysis/akanz1-klib.html\n",
    "\n",
    "klib.cat_plot(df, top=4, bottom=4)"
   ]
  },
  {
   "cell_type": "code",
   "execution_count": null,
   "id": "306c7557",
   "metadata": {},
   "outputs": [],
   "source": [
    "df_cleaned = klib.data_cleaning(df)"
   ]
  },
  {
   "cell_type": "markdown",
   "id": "554c49e6",
   "metadata": {},
   "source": [
    "#Attention, Klib clean the column headers in a pythonic way e.g lower case and underscores."
   ]
  },
  {
   "cell_type": "code",
   "execution_count": null,
   "id": "f7596b9a",
   "metadata": {},
   "outputs": [],
   "source": [
    "df_cleaned.head()"
   ]
  },
  {
   "cell_type": "code",
   "execution_count": null,
   "id": "820233e4",
   "metadata": {},
   "outputs": [],
   "source": [
    "klib.dist_plot(df_cleaned['lp_id']);"
   ]
  },
  {
   "cell_type": "markdown",
   "id": "6760d82c",
   "metadata": {},
   "source": [
    "#Open engagement again, since with products we are not able to plot correlations."
   ]
  },
  {
   "cell_type": "code",
   "execution_count": null,
   "id": "1160ca16",
   "metadata": {},
   "outputs": [],
   "source": [
    "df1 = pd.read_csv('../input/learnplatform-covid19-impact-on-digital-learning/engagement_data/5404.csv', encoding='utf8')\n",
    "df1.head()"
   ]
  },
  {
   "cell_type": "code",
   "execution_count": null,
   "id": "129bb1cf",
   "metadata": {},
   "outputs": [],
   "source": [
    "df1_cleaned = klib.data_cleaning(df1)"
   ]
  },
  {
   "cell_type": "code",
   "execution_count": null,
   "id": "4f1d35ce",
   "metadata": {},
   "outputs": [],
   "source": [
    "#Correlation data matrix\n",
    "\n",
    "klib.corr_mat(df1_cleaned)"
   ]
  },
  {
   "cell_type": "code",
   "execution_count": null,
   "id": "859dfae6",
   "metadata": {},
   "outputs": [],
   "source": [
    "klib.corr_plot(df1,annot=False);"
   ]
  },
  {
   "cell_type": "code",
   "execution_count": null,
   "id": "f604c511",
   "metadata": {},
   "outputs": [],
   "source": [
    "klib.corr_plot(df1, target='engagement_index');"
   ]
  },
  {
   "cell_type": "markdown",
   "id": "d4a6fe8f",
   "metadata": {},
   "source": [
    "#With more variables (in other Dataset/work) the correlation above will look better."
   ]
  },
  {
   "cell_type": "code",
   "execution_count": null,
   "id": "e7f40b7d",
   "metadata": {},
   "outputs": [],
   "source": [
    "klib.dist_plot(df1_cleaned['lp_id']);"
   ]
  },
  {
   "cell_type": "code",
   "execution_count": null,
   "id": "f0b44811",
   "metadata": {},
   "outputs": [],
   "source": [
    "klib.dist_plot(df1_cleaned['engagement_index']);"
   ]
  },
  {
   "cell_type": "code",
   "execution_count": null,
   "id": "eaae0351",
   "metadata": {},
   "outputs": [],
   "source": [
    "klib.dist_plot(df1_cleaned['pct_access']);"
   ]
  },
  {
   "cell_type": "markdown",
   "id": "1d843fbc",
   "metadata": {},
   "source": [
    "<h1><span class=\"label label-default\" style=\"background-color:#001f3f;border-radius:100px 100px; font-weight: bold; font-family:Garamond; font-size:20px; color:orange; padding:10px\">References</span></h1><br>\n",
    "\n",
    "https://www.kaggle.com/sripaadsrinivasan/speed-up-your-data-science-projects-using-klib/comments\n",
    "\n",
    "https://klib.readthedocs.io/en/latest/\n",
    "\n",
    "https://reposhub.com/python/science-and-data-analysis/akanz1-klib.html\n",
    "\n",
    "https://towardsdatascience.com/speed-up-your-data-cleaning-and-preprocessing-with-klib-97191d320f80\n",
    "\n",
    "https://deepnote.com/@jose-luis-marrugo-madrid/Exploratory-Data-Analysis-with-Klib-rgxeSZ0SQAKi03W6s9awew"
   ]
  }
 ],
 "metadata": {},
 "nbformat": 4,
 "nbformat_minor": 5
}
