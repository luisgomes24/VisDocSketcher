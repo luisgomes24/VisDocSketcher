{
 "cells": [
  {
   "cell_type": "code",
   "execution_count": null,
   "id": "a3fb110c",
   "metadata": {},
   "outputs": [],
   "source": [
    "# This Python 3 environment comes with many helpful analytics libraries installed\n",
    "# It is defined by the kaggle/python docker image: https://github.com/kaggle/docker-python\n",
    "# For example, here's several helpful packages to load in \n",
    "\n",
    "import numpy as np # linear algebra\n",
    "import pandas as pd # data processing, CSV file I/O (e.g. pd.read_csv)\n",
    "import matplotlib.pyplot as plt\n",
    "import seaborn as sns\n",
    "import statsmodels.api as sm\n",
    "import pandas_profiling\n"
   ]
  },
  {
   "cell_type": "markdown",
   "id": "16cfaf84",
   "metadata": {},
   "source": [
    "# Data Preparation"
   ]
  },
  {
   "cell_type": "code",
   "execution_count": null,
   "id": "0932c2a5",
   "metadata": {},
   "outputs": [],
   "source": [
    "pd.reset_option('max_rows')"
   ]
  },
  {
   "cell_type": "code",
   "execution_count": null,
   "id": "639715b1",
   "metadata": {},
   "outputs": [],
   "source": [
    "# to reset rc parameters to default value\n",
    "plt.rcdefaults() "
   ]
  },
  {
   "cell_type": "code",
   "execution_count": null,
   "id": "55a76eae",
   "metadata": {},
   "outputs": [],
   "source": [
    "df=pd.read_csv('../input/hotel-booking-demand/hotel_bookings.csv')\n",
    "df.head()"
   ]
  },
  {
   "cell_type": "code",
   "execution_count": null,
   "id": "f6c06735",
   "metadata": {},
   "outputs": [],
   "source": [
    "df.isnull().sum().plot(kind='bar')\n",
    "plt.yticks(np.arange(min(df.isnull().sum()),max(df.isnull().sum()),step=5000))\n",
    "plt.show()"
   ]
  },
  {
   "cell_type": "code",
   "execution_count": null,
   "id": "2cc1bbab",
   "metadata": {},
   "outputs": [],
   "source": [
    "df=df.dropna(subset=['country','agent'])"
   ]
  },
  {
   "cell_type": "code",
   "execution_count": null,
   "id": "a58f4827",
   "metadata": {},
   "outputs": [],
   "source": [
    "df=df.drop(columns=['company'])"
   ]
  },
  {
   "cell_type": "code",
   "execution_count": null,
   "id": "30d85e52",
   "metadata": {},
   "outputs": [],
   "source": [
    "df['children']=df['children'].replace(np.nan,0)\n",
    "df['children'].isna().sum()"
   ]
  },
  {
   "cell_type": "code",
   "execution_count": null,
   "id": "1c4bab47",
   "metadata": {},
   "outputs": [],
   "source": [
    "#extract importants variable\n",
    "df=df[['hotel','is_canceled','arrival_date_year','arrival_date_month', 'arrival_date_week_number',\n",
    "       'arrival_date_day_of_month', 'adults', 'children', 'babies','is_repeated_guest', \n",
    "       'reserved_room_type','days_in_waiting_list','required_car_parking_spaces','reservation_status']]\n",
    "df.head()"
   ]
  },
  {
   "cell_type": "markdown",
   "id": "d34c85f7",
   "metadata": {},
   "source": [
    "# Assessing Data"
   ]
  },
  {
   "cell_type": "code",
   "execution_count": null,
   "id": "89504bdc",
   "metadata": {},
   "outputs": [],
   "source": [
    "df.shape"
   ]
  },
  {
   "cell_type": "code",
   "execution_count": null,
   "id": "f16489fe",
   "metadata": {},
   "outputs": [],
   "source": [
    "df.info()"
   ]
  },
  {
   "cell_type": "code",
   "execution_count": null,
   "id": "13cf3acb",
   "metadata": {},
   "outputs": [],
   "source": [
    "#create html report of your dataset\n",
    "#df.profile_report()"
   ]
  },
  {
   "cell_type": "code",
   "execution_count": null,
   "id": "7cef9cfe",
   "metadata": {},
   "outputs": [],
   "source": [
    "df.describe()"
   ]
  },
  {
   "cell_type": "code",
   "execution_count": null,
   "id": "2f69c8a0",
   "metadata": {},
   "outputs": [],
   "source": [
    "df.columns.values"
   ]
  },
  {
   "cell_type": "markdown",
   "id": "3e435830",
   "metadata": {},
   "source": [
    "# Analyse Data"
   ]
  },
  {
   "cell_type": "markdown",
   "id": "44b6d437",
   "metadata": {},
   "source": [
    "### what is the best month in booking?"
   ]
  },
  {
   "cell_type": "code",
   "execution_count": null,
   "id": "ef249b0f",
   "metadata": {},
   "outputs": [],
   "source": [
    "months = [\"January\", \"February\", \"March\", \"April\", \"May\", \"June\", \n",
    "          \"July\", \"August\", \"September\", \"October\", \"November\", \"December\"]\n",
    "month_count_df=pd.DataFrame()\n",
    "month_count=df['arrival_date_month'].value_counts()\n",
    "month_count_df['month']=month_count.index\n",
    "month_count_df['count']=month_count.values\n",
    "month_count_df['month']=pd.Categorical(month_count_df['month'], categories=months, ordered=True)#to map the order so when call the order they know\n",
    "month_count_df.sort_values(by=['month'],ascending=True)"
   ]
  },
  {
   "cell_type": "code",
   "execution_count": null,
   "id": "fa0bdecf",
   "metadata": {},
   "outputs": [],
   "source": [
    "\n",
    "for i, row in month_count_df.sort_values(by=['month'],ascending=True).iterrows():\n",
    "   print( row['count'])"
   ]
  },
  {
   "cell_type": "code",
   "execution_count": null,
   "id": "0e16be8a",
   "metadata": {},
   "outputs": [],
   "source": [
    "#plt months \n",
    "month_count_df=month_count_df.sort_values(by=['month'],ascending=True)\n",
    "plt.figure(figsize=(10,5))\n",
    "base_color=sns.color_palette()[0] # to set the color of the bars with the base color of pallete colors (10 colors from 0 to 9)\n",
    "sns.barplot(month_count_df['month'], month_count_df['count'], alpha=0.8,color=base_color)\n",
    "plt.title('plot month counts')\n",
    "plt.xlabel('months', fontsize=14)\n",
    "plt.ylabel('counts', fontsize=12)\n",
    "plt.xticks(rotation='vertical')\n",
    "plt.yticks(np.arange(0,15000,step=1000))#determine the steps(count by) \n",
    "#plt.ylim(0,13000,1000)\n",
    "locs, labels = plt.xticks()\n",
    "#draw text(count percent) on each bar\n",
    "counter=0;\n",
    "for i, row in month_count_df.iterrows():\n",
    "    # get the text property for the label to get the correct count\n",
    "    count = row['count']\n",
    "    month = row['month']\n",
    "    #print(\"loc {}, month {} count {}\".format(row.iloc,month,count))\n",
    "    pct_string = '{:0.1f}%'.format(100*count/len(df))\n",
    "    # print the annotation just below the top of the bar\n",
    "    plt.text(locs[counter], count - 1000, pct_string, ha = 'center', color = 'w',fontsize=12)\n",
    "    counter=counter+1;\n",
    "plt.show();"
   ]
  },
  {
   "cell_type": "markdown",
   "id": "d17902b0",
   "metadata": {},
   "source": [
    "**the best month is August**"
   ]
  },
  {
   "cell_type": "code",
   "execution_count": null,
   "id": "c6853792",
   "metadata": {},
   "outputs": [],
   "source": [
    "df.arrival_date_year.unique()"
   ]
  },
  {
   "cell_type": "markdown",
   "id": "3d59f707",
   "metadata": {},
   "source": [
    "### what is the best year in booking?"
   ]
  },
  {
   "cell_type": "code",
   "execution_count": null,
   "id": "f6e5bcd8",
   "metadata": {},
   "outputs": [],
   "source": [
    "year_counts=df.arrival_date_year.value_counts()\n",
    "year_counts"
   ]
  },
  {
   "cell_type": "code",
   "execution_count": null,
   "id": "9d70d6f3",
   "metadata": {},
   "outputs": [],
   "source": [
    "#another solution by using matplotlib\n",
    "fig, ax = plt.subplots(figsize=(10,5), subplot_kw=dict(aspect=\"equal\"))\n",
    "wedges, texts,autotexts = ax.pie(year_counts.values, labels=year_counts.index,autopct='%1.1f%%',textprops=dict(color=\"w\"),wedgeprops = {'width' : 0.5})\n",
    "ax.legend(wedges, year_counts.index,\n",
    "          title=\"years\",\n",
    "          loc=\"center left\",\n",
    "          bbox_to_anchor=(1, 0, 0.5, 1))# anchor of legend(position)\n",
    "plt.setp(autotexts, size=7,weight=\"bold\")#data inside the circle\n",
    "ax.set_title(\"The best year in bookings\",size=13,color='b')\n",
    "\n",
    "plt.show()"
   ]
  },
  {
   "cell_type": "markdown",
   "id": "22f39ce2",
   "metadata": {},
   "source": [
    "1. **The best year in booking is 2016 with about 47.7% of all bookings **"
   ]
  },
  {
   "cell_type": "markdown",
   "id": "1afbd72a",
   "metadata": {},
   "source": [
    "## what is the best hotel in all years?"
   ]
  },
  {
   "cell_type": "code",
   "execution_count": null,
   "id": "e532bfd8",
   "metadata": {},
   "outputs": [],
   "source": [
    "def count_rows(rows):\n",
    "    return len(rows)"
   ]
  },
  {
   "cell_type": "code",
   "execution_count": null,
   "id": "7f66a68f",
   "metadata": {},
   "outputs": [],
   "source": [
    "#df.query('arrival_date_year==\"2016\"')['hotel'].value_counts()\n",
    "by_hotel_year=df.groupby(\"hotel arrival_date_year\".split()).apply(count_rows).unstack()\n",
    "by_hotel_year"
   ]
  },
  {
   "cell_type": "code",
   "execution_count": null,
   "id": "889d8a0b",
   "metadata": {},
   "outputs": [],
   "source": [
    "sns.heatmap(by_hotel_year)\n",
    "plt.xlabel(\"year\",fontsize=14)\n",
    "plt.title(\"year vs hotel\")"
   ]
  },
  {
   "cell_type": "markdown",
   "id": "a4ec6f89",
   "metadata": {},
   "source": [
    "**as we see in the heat map **<br>\n",
    "**1. the best hotel   hotel is the city hotel in 2016**<br>\n",
    "**2. the worst hotel in booking is the resort hotel in 2015**<br>"
   ]
  },
  {
   "cell_type": "markdown",
   "id": "aa1f5c95",
   "metadata": {},
   "source": [
    "## what is the best hotel in each year?"
   ]
  },
  {
   "cell_type": "code",
   "execution_count": null,
   "id": "6f9679ec",
   "metadata": {},
   "outputs": [],
   "source": [
    "df.groupby('arrival_date_year')['hotel'].value_counts().plot(kind='bar')"
   ]
  },
  {
   "cell_type": "markdown",
   "id": "67b4eaee",
   "metadata": {},
   "source": [
    " **as the above chart the best hotel in each year in booking is city hotel, but the best year for city hotel was 2016.**"
   ]
  },
  {
   "cell_type": "markdown",
   "id": "48e31570",
   "metadata": {},
   "source": [
    "## What is the maximum hotel cancelation?"
   ]
  },
  {
   "cell_type": "code",
   "execution_count": null,
   "id": "209eea81",
   "metadata": {},
   "outputs": [],
   "source": [
    "hotel_cancelation_count=df.query('is_canceled==1').groupby('hotel')['is_canceled'].value_counts().unstack()\n",
    "sns.heatmap(hotel_cancelation_count)"
   ]
  },
  {
   "cell_type": "code",
   "execution_count": null,
   "id": "23202973",
   "metadata": {},
   "outputs": [],
   "source": [
    "hist(df.hotel)\n"
   ]
  },
  {
   "cell_type": "markdown",
   "id": "dde6bde8",
   "metadata": {},
   "source": [
    "**the max hotel in cancelation is City hotel**"
   ]
  },
  {
   "cell_type": "code",
   "execution_count": null,
   "id": "7d463e82",
   "metadata": {},
   "outputs": [],
   "source": [
    "def func(tpl):\n",
    "    if (tpl[1]==1):#cancelation\n",
    "        label=\"Canceled {}\".format(tpl[0])\n",
    "        print(label)\n",
    "    return label"
   ]
  },
  {
   "cell_type": "code",
   "execution_count": null,
   "id": "c34fc10d",
   "metadata": {},
   "outputs": [],
   "source": [
    "labels = hotel_cancelation_count.index\n",
    "print(labels)\n",
    "sizes = hotel_cancelation_count.values\n",
    "explode = (0, 0.1)  # only \"explode\" the 2nd slice (i.e. 'Hogs')\n",
    "fig1, ax1 = plt.subplots()\n",
    "ax1.pie(sizes, explode=explode, labels=labels.map(lambda x:func(x)), autopct='%1.1f%%',\n",
    "        shadow=True, startangle=90,textprops=dict(color=\"w\"))\n",
    "ax1.axis('equal')  # Equal aspect ratio ensures that pie is drawn as a circle.\n"
   ]
  },
  {
   "cell_type": "markdown",
   "id": "9bf5b49d",
   "metadata": {},
   "source": [
    "## what is the relation between adults and childrens? or predict # of childrens according to adults."
   ]
  },
  {
   "cell_type": "code",
   "execution_count": null,
   "id": "832fad7d",
   "metadata": {},
   "outputs": [],
   "source": [
    "df['intercept']=1"
   ]
  },
  {
   "cell_type": "markdown",
   "id": "bbfd9834",
   "metadata": {},
   "source": [
    "## what is the best adults number?"
   ]
  },
  {
   "cell_type": "code",
   "execution_count": null,
   "id": "c9a8e690",
   "metadata": {},
   "outputs": [],
   "source": [
    "plt.figure(figsize = [10, 5])\n",
    "\n",
    "# histogram on left: full data\n",
    "plt.subplot(1, 2, 1)# 1 row , 2 columns , and first plot\n",
    "bin_edges = np.arange(0, df['adults'].max()+2.5, 2.5)# x axis start with zero until df['skew_var'].max()+2.5 with 2.5 bin width\n",
    "plt.hist(data = df, x = 'adults', bins = bin_edges)\n",
    "\n",
    "# histogram on right: focus in on bulk of data < 5\n",
    "plt.subplot(1, 2, 2)\n",
    "bin_edges = np.arange(0, 5+1, 1)\n",
    "plt.hist(data = df, x = 'adults', bins = bin_edges)\n",
    "plt.xlim(0, 5) # could also be called as plt.xlim((0, 35))"
   ]
  },
  {
   "cell_type": "markdown",
   "id": "38af9bc4",
   "metadata": {},
   "source": [
    "## What is the best arrival week?\n"
   ]
  },
  {
   "cell_type": "code",
   "execution_count": null,
   "id": "fa1ab340",
   "metadata": {},
   "outputs": [],
   "source": [
    "df['arrival_date_week_number'].describe()"
   ]
  },
  {
   "cell_type": "code",
   "execution_count": null,
   "id": "0b7afd15",
   "metadata": {},
   "outputs": [],
   "source": [
    "np.log10(df['arrival_date_week_number']).describe()"
   ]
  },
  {
   "cell_type": "code",
   "execution_count": null,
   "id": "f6bd18fe",
   "metadata": {},
   "outputs": [],
   "source": [
    "plt.figure(figsize = [10, 5])\n",
    "\n",
    "# left histogram: data plotted in natural units\n",
    "plt.subplot(1, 2, 1)\n",
    "bin_edges = np.arange(1, df['arrival_date_week_number'].max()+1, 1)\n",
    "plt.hist(data=df,x='arrival_date_week_number', bins = bin_edges)\n",
    "plt.xlabel('arrival_date_week_number')\n",
    "\n",
    "# right histogram: data plotted after direct log transformation\n",
    "plt.subplot(1, 2, 2)\n",
    "log_data = np.log10(df['arrival_date_week_number']) # direct data transform\n",
    "log_bin_edges = np.arange(0, log_data.max()+0.07, 0.07)\n",
    "plt.hist(log_data, bins = log_bin_edges)\n",
    "plt.xlabel('log(arrival_date_week_number)')"
   ]
  },
  {
   "cell_type": "code",
   "execution_count": null,
   "id": "f5614e0e",
   "metadata": {},
   "outputs": [],
   "source": [
    "#sns.scatterplot(df['adults'],df['babies'])\n",
    "df.corr()"
   ]
  },
  {
   "cell_type": "code",
   "execution_count": null,
   "id": "7c85e108",
   "metadata": {},
   "outputs": [],
   "source": [
    "\n",
    "rm=sm.OLS(df['required_car_parking_spaces'],df[['intercept','adults','children']])\n",
    "result=rm.fit()\n",
    "result.summary()"
   ]
  },
  {
   "cell_type": "markdown",
   "id": "686cd367",
   "metadata": {},
   "source": [
    "1. for each one addtion adult we predict .02 car parking space\n",
    "2. for each one addtion adult we predict .04 car parking space\n",
    "3. it seems that adult and children variables are statistically significant for the [required car parking spaces] variable because the p value is 0 (less than .05)"
   ]
  }
 ],
 "metadata": {},
 "nbformat": 4,
 "nbformat_minor": 5
}
