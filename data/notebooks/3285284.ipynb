{
 "cells": [
  {
   "cell_type": "code",
   "execution_count": null,
   "id": "b5b82da5",
   "metadata": {},
   "outputs": [],
   "source": [
    "import pandas as pd\n",
    "import numpy as np\n",
    "import matplotlib.pyplot as plt\n",
    "import seaborn as sns\n",
    "sns.set(color_codes=True)\n",
    "%matplotlib inline\n",
    "%config InlineBackend.figure_format = 'retina'"
   ]
  },
  {
   "cell_type": "code",
   "execution_count": null,
   "id": "6c772edc",
   "metadata": {},
   "outputs": [],
   "source": [
    "import os\n",
    "destdir = '../input/'\n",
    "files = [ f for f in os.listdir(destdir) if os.path.isfile(os.path.join(destdir,f)) ]"
   ]
  },
  {
   "cell_type": "code",
   "execution_count": null,
   "id": "59ee405d",
   "metadata": {},
   "outputs": [],
   "source": [
    "files"
   ]
  },
  {
   "cell_type": "code",
   "execution_count": null,
   "id": "e4e5cb7b",
   "metadata": {},
   "outputs": [],
   "source": [
    "#df2014 = pd.read_csv('../input/Parking_Violations_Issued_-_Fiscal_Year_2014.csv', nrows = 100000)\n",
    "#df2015 = pd.read_csv('../input/Parking_Violations_Issued_-_Fiscal_Year_2015.csv', nrows = 100000)\n",
    "#df2016 = pd.read_csv('../input/Parking_Violations_Issued_-_Fiscal_Year_2016.csv', nrows = 100000)\n",
    "df2017 = pd.read_csv('../input/Parking_Violations_Issued_-_Fiscal_Year_2017.csv', nrows = 100000)\n",
    "#df2018 = pd.read_csv('../input/Parking_Violations_Issued_-_Fiscal_Year_2018.csv', nrows = 100000)"
   ]
  },
  {
   "cell_type": "code",
   "execution_count": null,
   "id": "42d0202a",
   "metadata": {},
   "outputs": [],
   "source": [
    "df2017.head(n=5)"
   ]
  },
  {
   "cell_type": "code",
   "execution_count": null,
   "id": "21b7feb4",
   "metadata": {},
   "outputs": [],
   "source": [
    "df2017.shape"
   ]
  },
  {
   "cell_type": "code",
   "execution_count": null,
   "id": "7de0954f",
   "metadata": {},
   "outputs": [],
   "source": [
    "d = {'Nan Entry': df2017.isnull().any(),\n",
    "    'Unique Entry': df2017.nunique(axis = 0)}\n",
    "pd.DataFrame(data = d, index = df2017.columns.values)"
   ]
  },
  {
   "cell_type": "code",
   "execution_count": null,
   "id": "4149b6e2",
   "metadata": {},
   "outputs": [],
   "source": [
    "drop_column = ['Vehicle Color','Plate ID','Issuing Agency','Street Code1','Street Code2','Street Code3','Vehicle Expiration Date',\n",
    "               'Violation Location','Violation Precinct','Issuer Precinct','Issuer Code','Issuer Command','Issuer Squad','Time First Observed',\n",
    "              'Violation In Front Of Or Opposite','House Number','Street Name','Intersecting Street','Date First Observed','Law Section',\n",
    "              'Sub Division','Violation Legal Code','From Hours In Effect','To Hours In Effect','Meter Number','Unregistered Vehicle?','Feet From Curb',\n",
    "              'Hydrant Violation','Double Parking Violation','Violation Post Code','No Standing or Stopping Violation','Summons Number']\n",
    "df2017.drop(drop_column, axis = 1, inplace = True)"
   ]
  },
  {
   "cell_type": "code",
   "execution_count": null,
   "id": "b0806fb4",
   "metadata": {},
   "outputs": [],
   "source": [
    "df2017.shape"
   ]
  },
  {
   "cell_type": "code",
   "execution_count": null,
   "id": "0115c11a",
   "metadata": {},
   "outputs": [],
   "source": [
    "mini2017 = df2017.sample(frac = 0.1, replace = False)"
   ]
  },
  {
   "cell_type": "code",
   "execution_count": null,
   "id": "0907c53a",
   "metadata": {},
   "outputs": [],
   "source": [
    "mini2017.shape"
   ]
  },
  {
   "cell_type": "markdown",
   "id": "ead0d519",
   "metadata": {},
   "source": [
    "## Barplot of 'Registration State'"
   ]
  },
  {
   "cell_type": "code",
   "execution_count": null,
   "id": "526efa76",
   "metadata": {},
   "outputs": [],
   "source": [
    "x_ticks = mini2017['Registration State'].value_counts().index\n",
    "heights = mini2017['Registration State'].value_counts()\n",
    "y_pos = np.arange(len(x_ticks))\n",
    "fig = plt.figure(figsize=(10,20)) \n",
    "# Create horizontal bars\n",
    "plt.barh(y_pos, heights)\n",
    " \n",
    "# Create names on the y-axis\n",
    "plt.yticks(y_pos, x_ticks)\n",
    " \n",
    "# Show graphic\n",
    "plt.show()\n"
   ]
  },
  {
   "cell_type": "markdown",
   "id": "5f1d5ff8",
   "metadata": {},
   "source": [
    "## How the number of tickets given changes with each month?\n",
    "* ## Which months have most of the parking tickets been given?"
   ]
  },
  {
   "cell_type": "code",
   "execution_count": null,
   "id": "3ac233a6",
   "metadata": {},
   "outputs": [],
   "source": [
    "month = []\n",
    "for time_stamp in pd.to_datetime(mini2017['Issue Date']):\n",
    "    month.append(time_stamp.month)\n",
    "m_count = pd.Series(month).value_counts()\n",
    "\n",
    "plt.figure(figsize=(12,8))\n",
    "sns.barplot(y=m_count.values, x=m_count.index, alpha=0.6)\n",
    "plt.title(\"Number of Parking Ticket Given Each Month\", fontsize=16)\n",
    "plt.xlabel(\"Month\", fontsize=16)\n",
    "plt.ylabel(\"No. of cars\", fontsize=16)\n",
    "plt.show();"
   ]
  },
  {
   "cell_type": "markdown",
   "id": "efc5264f",
   "metadata": {},
   "source": [
    "From the barplot above **May** and **October** have the highest number of tickets, and **July** and **December** have the lowest number of tickets given."
   ]
  },
  {
   "cell_type": "markdown",
   "id": "c96d4853",
   "metadata": {},
   "source": [
    "## How many parking tickets are given for each violation code?"
   ]
  },
  {
   "cell_type": "code",
   "execution_count": null,
   "id": "577e6e7d",
   "metadata": {},
   "outputs": [],
   "source": [
    "violation_code = mini2017['Violation Code'].value_counts()\n",
    "\n",
    "plt.figure(figsize=(16,8))\n",
    "f = sns.barplot(y=violation_code.values, x=violation_code.index, alpha=0.6)\n",
    "#plt.xticks(np.arange(0,101, 10.0))\n",
    "f.set(xticks=np.arange(0,100, 5.0))\n",
    "plt.title(\"Number of Parking Tickets Given for Each Violation Code\", fontsize=16)\n",
    "plt.xlabel(\"Violation Code [ X5 ]\", fontsize=16)\n",
    "plt.ylabel(\"No. of cars\", fontsize=16)\n",
    "plt.show();"
   ]
  },
  {
   "cell_type": "markdown",
   "id": "23f2a09b",
   "metadata": {},
   "source": [
    "Most of the parking tickets are given for violation code 7,9,5. Violation code 7 stands for **failure to stop at red light**. Violation code 9 stands for **obstructing traffic/intersect**. Violation Code 5 stands for **bus lane violation**. "
   ]
  },
  {
   "cell_type": "markdown",
   "id": "9375e263",
   "metadata": {},
   "source": [
    "## How many parking tickets are given for each body type?"
   ]
  },
  {
   "cell_type": "code",
   "execution_count": null,
   "id": "9d1abcd9",
   "metadata": {},
   "outputs": [],
   "source": [
    "x_ticks = mini2017['Vehicle Body Type'].value_counts().index\n",
    "heights = mini2017['Vehicle Body Type'].value_counts().values\n",
    "y_pos = np.arange(len(x_ticks))\n",
    "fig = plt.figure(figsize=(20,4))\n",
    "f = sns.barplot(y=heights, x=y_pos, orient = 'v', alpha=0.6);\n",
    "# remove labels\n",
    "plt.tick_params(labelbottom='off')\n",
    "plt.ylabel('No. of cars', fontsize=16);\n",
    "plt.xlabel('Car models [Label turned off due to crowding. Too many types.]', fontsize=16);\n",
    "plt.title('Parking ticket given for different type of car body', fontsize=16);\n"
   ]
  },
  {
   "cell_type": "code",
   "execution_count": null,
   "id": "8ff85283",
   "metadata": {},
   "outputs": [],
   "source": [
    "df_bodytype = pd.DataFrame(mini2017['Vehicle Body Type'].value_counts() / len(mini2017)).nlargest(10, columns = ['Vehicle Body Type'])"
   ]
  },
  {
   "cell_type": "markdown",
   "id": "1b31787f",
   "metadata": {},
   "source": [
    "Top 10 car body types that get the most parking tickets are listed below : "
   ]
  },
  {
   "cell_type": "code",
   "execution_count": null,
   "id": "c1d91513",
   "metadata": {},
   "outputs": [],
   "source": [
    "df_bodytype"
   ]
  },
  {
   "cell_type": "code",
   "execution_count": null,
   "id": "8150e3ca",
   "metadata": {},
   "outputs": [],
   "source": [
    "From the chart above, the top 3 vihicle body types that have been given the most tickets are Suburban, Four-door sedan, and Van."
   ]
  },
  {
   "cell_type": "markdown",
   "id": "6e1de4c2",
   "metadata": {},
   "source": [
    "## How many parking tickets are given for each vehicle make?"
   ]
  },
  {
   "cell_type": "markdown",
   "id": "af270042",
   "metadata": {},
   "source": [
    "Just for the sake of changing the flavor of visualization this time I will make a logplot of car no. vs make. In that case we will be able to see much smaller values in the same graph with larger values."
   ]
  },
  {
   "cell_type": "code",
   "execution_count": null,
   "id": "2418a0c1",
   "metadata": {},
   "outputs": [],
   "source": [
    "vehicle_make = mini2017['Vehicle Make'].value_counts()\n",
    "\n",
    "plt.figure(figsize=(16,8))\n",
    "f = sns.barplot(y=np.log(vehicle_make.values), x=vehicle_make.index, alpha=0.6)\n",
    "# remove labels\n",
    "plt.tick_params(labelbottom='off')\n",
    "plt.ylabel('log(No. of cars)', fontsize=16);\n",
    "plt.xlabel('Car make [Label turned off due to crowding. Too many companies!]', fontsize=16);\n",
    "plt.title('Parking ticket given for different type of car make', fontsize=16);\n",
    "\n",
    "plt.show();"
   ]
  },
  {
   "cell_type": "code",
   "execution_count": null,
   "id": "016a9ea6",
   "metadata": {},
   "outputs": [],
   "source": [
    "pd.DataFrame(mini2017['Vehicle Make'].value_counts() / len(mini2017)).nlargest(10, columns = ['Vehicle Make'])"
   ]
  },
  {
   "cell_type": "markdown",
   "id": "aa70be74",
   "metadata": {},
   "source": [
    "## How the number of tickets given throughout the day?"
   ]
  },
  {
   "cell_type": "code",
   "execution_count": null,
   "id": "c838cf6b",
   "metadata": {},
   "outputs": [],
   "source": [
    "timestamp = []\n",
    "for time in mini2017['Violation Time']:\n",
    "    if len(str(time)) == 5:\n",
    "        time = time[:2] + ':' + time[2:]\n",
    "        timestamp.append(pd.to_datetime(time, errors='coerce'))\n",
    "    else:\n",
    "        timestamp.append(pd.NaT)\n",
    "    \n",
    "\n",
    "mini2017 = mini2017.assign(Violation_Time2 = timestamp)\n",
    "mini2017.drop(['Violation Time'], axis = 1, inplace = True)\n",
    "mini2017.rename(index=str, columns={\"Violation_Time2\": \"Violation Time\"}, inplace = True)"
   ]
  },
  {
   "cell_type": "code",
   "execution_count": null,
   "id": "4373a7e2",
   "metadata": {},
   "outputs": [],
   "source": [
    "hours = [lambda x: x.hour, mini2017['Violation Time']]"
   ]
  },
  {
   "cell_type": "code",
   "execution_count": null,
   "id": "e5285f61",
   "metadata": {},
   "outputs": [],
   "source": [
    "# Getting the histogram\n",
    "mini2017.set_index('Violation Time', drop=False, inplace=True)\n",
    "plt.figure(figsize=(16,8))\n",
    "mini2017['Violation Time'].groupby(pd.TimeGrouper(freq='60Min')).count().plot(kind='bar');\n",
    "plt.tick_params(labelbottom='on')\n",
    "plt.ylabel('No. of cars', fontsize=16);\n",
    "plt.xlabel('Day Time', fontsize=16);\n",
    "plt.title('Parking ticket given at different time of the day', fontsize=16);\n"
   ]
  },
  {
   "cell_type": "markdown",
   "id": "c9b6012f",
   "metadata": {},
   "source": [
    "Seems like most parking tickets are given between **8:00am** to **2:00**pm."
   ]
  },
  {
   "cell_type": "markdown",
   "id": "0ef1db40",
   "metadata": {},
   "source": [
    "## Parking ticket vs county"
   ]
  },
  {
   "cell_type": "code",
   "execution_count": null,
   "id": "56a72cce",
   "metadata": {},
   "outputs": [],
   "source": [
    "violation_county = mini2017['Violation County'].value_counts()\n",
    "\n",
    "plt.figure(figsize=(12,8))\n",
    "f = sns.barplot(y=violation_county.values, x=violation_county.index, alpha=0.6)\n",
    "# remove labels\n",
    "plt.tick_params(labelbottom='on')\n",
    "plt.ylabel('No. of cars', fontsize=16);\n",
    "plt.xlabel('County', fontsize=16);\n",
    "plt.title('Parking ticket given in different counties', fontsize=16);"
   ]
  },
  {
   "cell_type": "code",
   "execution_count": null,
   "id": "0224842e",
   "metadata": {},
   "outputs": [],
   "source": [
    "nan"
   ]
  }
 ],
 "metadata": {},
 "nbformat": 4,
 "nbformat_minor": 5
}
