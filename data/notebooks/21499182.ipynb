{
 "cells": [
  {
   "cell_type": "code",
   "execution_count": null,
   "id": "e4f2d02b",
   "metadata": {},
   "outputs": [],
   "source": [
    "# This Python 3 environment comes with many helpful analytics libraries installed\n",
    "# It is defined by the kaggle/python Docker image: https://github.com/kaggle/docker-python\n",
    "# For example, here's several helpful packages to load\n",
    "\n",
    "import numpy as np # linear algebra\n",
    "import pandas as pd # data processing, CSV file I/O (e.g. pd.read_csv)\n",
    "\n",
    "# Input data files are available in the read-only \"../input/\" directory\n",
    "# For example, running this (by clicking run or pressing Shift+Enter) will list all files under the input directory\n",
    "\n",
    "import os\n",
    "for dirname, _, filenames in os.walk('/kaggle/input'):\n",
    "    for filename in filenames:\n",
    "        print(os.path.join(dirname, filename))\n",
    "\n",
    "# You can write up to 20GB to the current directory (/kaggle/working/) that gets preserved as output when you create a version using \"Save & Run All\" \n",
    "# You can also write temporary files to /kaggle/temp/, but they won't be saved outside of the current session"
   ]
  },
  {
   "cell_type": "code",
   "execution_count": null,
   "id": "b1222092",
   "metadata": {},
   "outputs": [],
   "source": [
    "import matplotlib.pyplot as plt, seaborn as sns\n",
    "from kmodes.kprototypes import KPrototypes"
   ]
  },
  {
   "cell_type": "code",
   "execution_count": null,
   "id": "c06f21e8",
   "metadata": {},
   "outputs": [],
   "source": [
    "acc = pd.read_csv(os.path.join(dirname, filename))\n",
    "acc.head()"
   ]
  },
  {
   "cell_type": "code",
   "execution_count": null,
   "id": "4270ffc0",
   "metadata": {},
   "outputs": [],
   "source": [
    "acc.info()"
   ]
  },
  {
   "cell_type": "code",
   "execution_count": null,
   "id": "08edc7bb",
   "metadata": {},
   "outputs": [],
   "source": [
    "null_cols = pd.DataFrame(100*acc.isnull().sum()/len(acc), columns=['nullPercent'])\n",
    "null_cols"
   ]
  },
  {
   "cell_type": "code",
   "execution_count": null,
   "id": "3c1d6314",
   "metadata": {},
   "outputs": [],
   "source": [
    "df = acc.drop(list(null_cols[null_cols.nullPercent>50].index)+['Crash ID'], axis=1)\n",
    "df.info()"
   ]
  },
  {
   "cell_type": "code",
   "execution_count": null,
   "id": "0cd430f7",
   "metadata": {},
   "outputs": [],
   "source": [
    "df.head()"
   ]
  },
  {
   "cell_type": "code",
   "execution_count": null,
   "id": "a2e70b4c",
   "metadata": {},
   "outputs": [],
   "source": [
    "MonthDict={ 1 : \"January\",\n",
    "       2 : \"February\",\n",
    "       3 : \"March\",\n",
    "       4 : \"April\",\n",
    "       5 : \"May\",\n",
    "       6 : \"June\",\n",
    "       7 : \"July\",\n",
    "       8 : \"August\",\n",
    "       9 : \"September\",\n",
    "       10 : \"October\",\n",
    "       11 : \"November\",\n",
    "       12 : \"December\"\n",
    "}\n",
    "\n",
    "df.Month = df.Month.map(MonthDict)\n",
    "df.Year = df.Year.astype('str')\n",
    "df['Speed Limit'] = pd.to_numeric(df['Speed Limit'], errors='coerce')\n",
    "df = df.dropna()\n",
    "df.info()"
   ]
  },
  {
   "cell_type": "code",
   "execution_count": null,
   "id": "ad0d7347",
   "metadata": {},
   "outputs": [],
   "source": [
    "obj_cols_index_no = [i for i,j in enumerate(df.columns) if j in df.select_dtypes(include='object').columns]\n",
    "obj_cols_index_no"
   ]
  },
  {
   "cell_type": "code",
   "execution_count": null,
   "id": "300423ca",
   "metadata": {},
   "outputs": [],
   "source": [
    "no_of_clusters = np.arange(2,9)\n",
    "costs = []\n",
    "for i in no_of_clusters:\n",
    "    model = KPrototypes(n_clusters=i, n_init=5, random_state=50, n_jobs=-1, verbose=1)\n",
    "    model.fit_predict(np.array(df), categorical=obj_cols_index_no)\n",
    "    costs.append(model.cost_)"
   ]
  },
  {
   "cell_type": "code",
   "execution_count": null,
   "id": "71cd9eac",
   "metadata": {},
   "outputs": [],
   "source": [
    "plt.plot(no_of_clusters, costs)\n",
    "plt.show()"
   ]
  },
  {
   "cell_type": "code",
   "execution_count": null,
   "id": "e776415e",
   "metadata": {},
   "outputs": [],
   "source": [
    "model = KPrototypes(n_clusters=4, n_init=5, random_state=50, n_jobs=-1, verbose=1)\n",
    "clusters = model.fit_predict(np.array(df), categorical=obj_cols_index_no)"
   ]
  },
  {
   "cell_type": "code",
   "execution_count": null,
   "id": "dc151004",
   "metadata": {},
   "outputs": [],
   "source": [
    "df['cluster_id'] = clusters\n",
    "df.head()"
   ]
  },
  {
   "cell_type": "code",
   "execution_count": null,
   "id": "c00073ee",
   "metadata": {},
   "outputs": [],
   "source": [
    "acc = acc.join(df.cluster_id)\n",
    "acc = acc.iloc[acc.cluster_id.dropna().index]\n",
    "acc.head()"
   ]
  },
  {
   "cell_type": "code",
   "execution_count": null,
   "id": "7fe41693",
   "metadata": {},
   "outputs": [],
   "source": [
    "sns.boxplot(x=acc.cluster_id,y=acc['Age'])"
   ]
  },
  {
   "cell_type": "code",
   "execution_count": null,
   "id": "455c2195",
   "metadata": {},
   "outputs": [],
   "source": [
    "acc.groupby('cluster_id')['Crash Type'].value_counts().plot.bar()"
   ]
  },
  {
   "cell_type": "code",
   "execution_count": null,
   "id": "9602cf44",
   "metadata": {},
   "outputs": [],
   "source": [
    "nan"
   ]
  }
 ],
 "metadata": {},
 "nbformat": 4,
 "nbformat_minor": 5
}
