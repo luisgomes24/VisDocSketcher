{
 "cells": [
  {
   "cell_type": "code",
   "execution_count": null,
   "id": "81e5779d",
   "metadata": {},
   "outputs": [],
   "source": [
    "# This Python 3 environment comes with many helpful analytics libraries installed\n",
    "# It is defined by the kaggle/python Docker image: https://github.com/kaggle/docker-python\n",
    "# For example, here's several helpful packages to load\n",
    "\n",
    "import numpy as np # linear algebra\n",
    "import pandas as pd # data processing, CSV file I/O (e.g. pd.read_csv)\n",
    "import warnings\n",
    "warnings.filterwarnings(\"ignore\")\n",
    "\n",
    "# Input data files are available in the read-only \"../input/\" directory\n",
    "# For example, running this (by clicking run or pressing Shift+Enter) will list all files under the input directory\n",
    "\n",
    "import os\n",
    "for dirname, _, filenames in os.walk('/kaggle/input'):\n",
    "    for filename in filenames:\n",
    "        print(os.path.join(dirname, filename))\n",
    "\n",
    "# You can write up to 5GB to the current directory (/kaggle/working/) that gets preserved as output when you create a version using \"Save & Run All\" \n",
    "# You can also write temporary files to /kaggle/temp/, but they won't be saved outside of the current session"
   ]
  },
  {
   "cell_type": "code",
   "execution_count": null,
   "id": "c71a19c2",
   "metadata": {},
   "outputs": [],
   "source": [
    "import plotly.express as px\n",
    "import matplotlib.pyplot as plt\n",
    "import seaborn as sns\n",
    "from sklearn.ensemble import RandomForestClassifier\n",
    "from sklearn.preprocessing import LabelEncoder\n",
    "\n",
    "from sklearn.preprocessing import Normalizer\n",
    "from sklearn.model_selection import train_test_split\n",
    "from pylab import plot, show, subplot, specgram, imshow, savefig\n",
    "from sklearn import preprocessing\n",
    "from sklearn import metrics\n",
    "from sklearn.preprocessing import LabelEncoder\n",
    "from sklearn.model_selection import cross_val_score\n",
    "from sklearn.preprocessing import Normalizer\n",
    "from sklearn.feature_extraction.text import TfidfVectorizer\n",
    "from sklearn.model_selection import train_test_split\n",
    "from sklearn.naive_bayes import MultinomialNB\n",
    "from sklearn.naive_bayes import GaussianNB\n",
    "from sklearn.naive_bayes import BernoulliNB\n",
    "from sklearn.svm import SVC\n",
    "from sklearn.neural_network import MLPClassifier\n",
    "from sklearn.ensemble import AdaBoostClassifier\n",
    "from sklearn.tree import DecisionTreeClassifier\n",
    "from sklearn.ensemble import RandomForestClassifier\n",
    "from sklearn.ensemble import GradientBoostingClassifier\n",
    "from sklearn.linear_model import LogisticRegression\n",
    "from sklearn.model_selection import GridSearchCV\n",
    "from sklearn.metrics import accuracy_score,f1_score, confusion_matrix\n",
    "%matplotlib inline"
   ]
  },
  {
   "cell_type": "code",
   "execution_count": null,
   "id": "b74d29a2",
   "metadata": {},
   "outputs": [],
   "source": [
    "train = pd.read_csv(\"/kaggle/input/janatahack-crosssell-prediction/train.csv\")\n",
    "train.head()"
   ]
  },
  {
   "cell_type": "code",
   "execution_count": null,
   "id": "b7ea9da6",
   "metadata": {},
   "outputs": [],
   "source": [
    "test = pd.read_csv(\"/kaggle/input/janatahack-crosssell-prediction/test.csv\")\n",
    "test.head()"
   ]
  },
  {
   "cell_type": "code",
   "execution_count": null,
   "id": "611c6570",
   "metadata": {},
   "outputs": [],
   "source": [
    "train.info()"
   ]
  },
  {
   "cell_type": "code",
   "execution_count": null,
   "id": "c9d67097",
   "metadata": {},
   "outputs": [],
   "source": [
    "train.isna().sum()"
   ]
  },
  {
   "cell_type": "code",
   "execution_count": null,
   "id": "8b44f64f",
   "metadata": {},
   "outputs": [],
   "source": [
    "train.dtypes"
   ]
  },
  {
   "cell_type": "code",
   "execution_count": null,
   "id": "05e86c31",
   "metadata": {},
   "outputs": [],
   "source": [
    "train.shape"
   ]
  },
  {
   "cell_type": "code",
   "execution_count": null,
   "id": "fcb52876",
   "metadata": {},
   "outputs": [],
   "source": [
    "def plot_feature_importance(importance,names,model_type):\n",
    "\n",
    "    #Create arrays from feature importance and feature names\n",
    "    feature_importance = np.array(importance)\n",
    "    feature_names = np.array(names)\n",
    "\n",
    "    #Create a DataFrame using a Dictionary\n",
    "    data={'feature_names':feature_names,'feature_importance':feature_importance}\n",
    "    fi_df = pd.DataFrame(data)\n",
    "\n",
    "    #Sort the DataFrame in order decreasing feature importance\n",
    "    fi_df.sort_values(by=['feature_importance'], ascending=False,inplace=True)\n",
    "\n",
    "    #Define size of bar plot\n",
    "    plt.figure(figsize=(10,8))\n",
    "    #Plot Searborn bar chart\n",
    "    sns.barplot(x=fi_df['feature_importance'], y=fi_df['feature_names'])\n",
    "    #Add chart labels\n",
    "    plt.title(model_type + ' FEATURE IMPORTANCE')\n",
    "    plt.xlabel('FEATURE IMPORTANCE')\n",
    "    plt.ylabel('FEATURE NAMES')"
   ]
  },
  {
   "cell_type": "code",
   "execution_count": null,
   "id": "a0b6016d",
   "metadata": {},
   "outputs": [],
   "source": [
    "le = LabelEncoder()\n",
    "train[\"Gender\"] = le.fit_transform(train[\"Gender\"])\n",
    "train[\"Vehicle_Age\"] = le.fit_transform(train[\"Vehicle_Age\"])\n",
    "train[\"Vehicle_Damage\"] = le.fit_transform(train[\"Vehicle_Damage\"])\n",
    "\n",
    "test[\"Gender\"] = le.fit_transform(test[\"Gender\"])\n",
    "test[\"Vehicle_Age\"] = le.fit_transform(test[\"Vehicle_Age\"])\n",
    "test[\"Vehicle_Damage\"] = le.fit_transform(test[\"Vehicle_Damage\"])"
   ]
  },
  {
   "cell_type": "code",
   "execution_count": null,
   "id": "5c47256e",
   "metadata": {},
   "outputs": [],
   "source": [
    "rf_model = RandomForestClassifier().fit(train.drop([\"id\", \"Response\"],axis=1),train[\"Response\"])\n",
    "plot_feature_importance(rf_model.feature_importances_,train.drop([\"id\", \"Response\"],axis=1).columns,'RANDOM FOREST')"
   ]
  },
  {
   "cell_type": "markdown",
   "id": "9d7ff6a0",
   "metadata": {},
   "source": [
    "***Top 5 features are,***\n",
    "* Vintage\n",
    "* Annual_Premium\n",
    "* Age\n",
    "* Region_Code\n",
    "* Vehicle_Damage"
   ]
  },
  {
   "cell_type": "code",
   "execution_count": null,
   "id": "8f0f1582",
   "metadata": {},
   "outputs": [],
   "source": [
    "train.dtypes"
   ]
  },
  {
   "cell_type": "code",
   "execution_count": null,
   "id": "4b0e81a2",
   "metadata": {},
   "outputs": [],
   "source": [
    "train.head()"
   ]
  },
  {
   "cell_type": "code",
   "execution_count": null,
   "id": "57b8443a",
   "metadata": {},
   "outputs": [],
   "source": [
    "sns.set(rc={'figure.figsize':(11.7,8.27)})\n",
    "sns.heatmap(data=train.drop(\"id\", axis=1).corr().round(2), annot = True)\n",
    "plt.show()"
   ]
  },
  {
   "cell_type": "code",
   "execution_count": null,
   "id": "7df6b2f3",
   "metadata": {},
   "outputs": [],
   "source": [
    "sns.set(rc={'figure.figsize':(15,8)})\n",
    "sns.lineplot(x='Age', y='Vintage', data=train)\n",
    "plt.show()"
   ]
  },
  {
   "cell_type": "code",
   "execution_count": null,
   "id": "ece51cb7",
   "metadata": {},
   "outputs": [],
   "source": [
    "sns.set(rc={'figure.figsize':(19,8)})\n",
    "sns.distplot(train['Age'], kde=True)\n",
    "plt.show()"
   ]
  },
  {
   "cell_type": "code",
   "execution_count": null,
   "id": "1a2deace",
   "metadata": {},
   "outputs": [],
   "source": [
    "def show_donut_plot(col): #donut plot function\n",
    "    \n",
    "    rating_data =train.groupby(col)[['id']].count().head(10)\n",
    "    plt.figure(figsize = (12, 8))\n",
    "    plt.pie(rating_data[['id']], autopct = '%1.0f%%', startangle = 140, pctdistance = 1.1, shadow = True)\n",
    "\n",
    "    # create a center circle for more aesthetics to make it better\n",
    "    gap = plt.Circle((0, 0), 0.5, fc = 'white')\n",
    "    fig = plt.gcf()\n",
    "    fig.gca().add_artist(gap)\n",
    "    \n",
    "    plt.axis('equal')\n",
    "    \n",
    "    cols = []\n",
    "    for index, row in rating_data.iterrows():\n",
    "        cols.append(index)\n",
    "    plt.legend(cols)\n",
    "    \n",
    "    plt.title('Donut Plot: Response Proportion for Cross-Sale ', loc='center')\n",
    "    plt.show()"
   ]
  },
  {
   "cell_type": "code",
   "execution_count": null,
   "id": "f92844d4",
   "metadata": {},
   "outputs": [],
   "source": [
    "show_donut_plot('Response')"
   ]
  },
  {
   "cell_type": "markdown",
   "id": "40085e0e",
   "metadata": {},
   "source": [
    "We can infer from the dataset that nearly 85% of the customers are interested in Vehicle insurance."
   ]
  },
  {
   "cell_type": "code",
   "execution_count": null,
   "id": "4a7f6b7c",
   "metadata": {},
   "outputs": [],
   "source": [
    "print(train[train.Response == 1].shape)\n",
    "print(train[train.Response == 0].shape)"
   ]
  },
  {
   "cell_type": "code",
   "execution_count": null,
   "id": "8902ef3d",
   "metadata": {},
   "outputs": [],
   "source": [
    "shuffled_train = train.sample(frac=1,random_state=4)\n",
    "\n",
    "train_1 = shuffled_train.loc[shuffled_train['Response'] == 1]\n",
    "\n",
    "train_0 = shuffled_train.loc[shuffled_train['Response'] == 0].sample(n = 46710,random_state=42)\n",
    "\n",
    "new_train = pd.concat([train_1, train_0])\n",
    "\n",
    "new_train = new_train.sample(frac=1,random_state=4)\n",
    "\n",
    "plt.figure(figsize=(8, 8))\n",
    "sns.countplot('Response', data=new_train)\n",
    "plt.title('Balanced Data')\n",
    "plt.show()\n"
   ]
  },
  {
   "cell_type": "code",
   "execution_count": null,
   "id": "93004009",
   "metadata": {},
   "outputs": [],
   "source": [
    "new_train.drop('id', axis=1, inplace=True)\n",
    "Id = test['id'].tolist()\n",
    "test.drop('id', axis=1, inplace=True)"
   ]
  },
  {
   "cell_type": "code",
   "execution_count": null,
   "id": "985a9cba",
   "metadata": {},
   "outputs": [],
   "source": [
    "print(new_train.columns)\n",
    "print(test.columns)"
   ]
  },
  {
   "cell_type": "code",
   "execution_count": null,
   "id": "98f3a63f",
   "metadata": {},
   "outputs": [],
   "source": [
    "train_ = new_train.drop(['Gender', 'Driving_License'], axis=1)\n",
    "test_ = test.drop(['Gender', 'Driving_License'], axis=1)"
   ]
  },
  {
   "cell_type": "code",
   "execution_count": null,
   "id": "c88cddcc",
   "metadata": {},
   "outputs": [],
   "source": [
    "#List of classifiers\n",
    "\n",
    "clfs = {\n",
    "    'mnb': MultinomialNB(),\n",
    "    'gnb': GaussianNB(),\n",
    "    'dtc': DecisionTreeClassifier(),\n",
    "    'rfc': RandomForestClassifier(),\n",
    "    'lr': LogisticRegression(),\n",
    "    'gbc': GradientBoostingClassifier()\n",
    "}"
   ]
  },
  {
   "cell_type": "code",
   "execution_count": null,
   "id": "817bdfb6",
   "metadata": {},
   "outputs": [],
   "source": [
    "#accuracy for the list of classifiers\n",
    "\n",
    "accuracy_scores = dict()\n",
    "train_x, test_x, train_y, test_y = train_test_split(train_.drop(\"Response\", axis=1), train_[\"Response\"], test_size= 0.3)\n",
    "for clf_name in clfs:\n",
    "    \n",
    "    clf = clfs[clf_name]\n",
    "    clf.fit(train_x, train_y)\n",
    "    y_pred = clf.predict(test_x)\n",
    "    accuracy_scores[clf_name] = accuracy_score(y_pred, test_y)\n",
    "    print(clf, '-' , accuracy_scores[clf_name])"
   ]
  },
  {
   "cell_type": "code",
   "execution_count": null,
   "id": "7399c38e",
   "metadata": {},
   "outputs": [],
   "source": [
    "accuracy_scores = dict(sorted(accuracy_scores.items(), key = lambda kv:(kv[1], kv[0]), reverse= True))\n",
    "villi = list(accuracy_scores.keys())[0]\n",
    "print(\"Classifier with high accuracy --> \",clfs[villi])\n",
    "print(\"With the accuracy of\",accuracy_scores[villi])"
   ]
  },
  {
   "cell_type": "code",
   "execution_count": null,
   "id": "6c34af53",
   "metadata": {},
   "outputs": [],
   "source": [
    "clfs[villi].fit(train_.drop(\"Response\", axis=1), train_[\"Response\"])"
   ]
  },
  {
   "cell_type": "code",
   "execution_count": null,
   "id": "a579ceb8",
   "metadata": {},
   "outputs": [],
   "source": [
    "print(train_.columns)\n",
    "print(test_.columns)"
   ]
  },
  {
   "cell_type": "code",
   "execution_count": null,
   "id": "e93115d9",
   "metadata": {},
   "outputs": [],
   "source": [
    "pred = clfs[villi].predict(test_)\n",
    "pred = pred.tolist()"
   ]
  },
  {
   "cell_type": "code",
   "execution_count": null,
   "id": "28efe6fc",
   "metadata": {},
   "outputs": [],
   "source": [
    "sub = pd.DataFrame({\"id\" : Id, \"Response\" : pred})"
   ]
  },
  {
   "cell_type": "code",
   "execution_count": null,
   "id": "975147e2",
   "metadata": {},
   "outputs": [],
   "source": [
    "s = pd.read_csv(\"/kaggle/input/janatahack-crosssell-prediction/sample_submission.csv\")\n",
    "s.head()"
   ]
  },
  {
   "cell_type": "code",
   "execution_count": null,
   "id": "60720565",
   "metadata": {},
   "outputs": [],
   "source": [
    "s.shape"
   ]
  },
  {
   "cell_type": "code",
   "execution_count": null,
   "id": "a8917da4",
   "metadata": {},
   "outputs": [],
   "source": [
    "test.shape"
   ]
  },
  {
   "cell_type": "code",
   "execution_count": null,
   "id": "5192fcb6",
   "metadata": {},
   "outputs": [],
   "source": [
    "s.to_csv(\"Submission_CSP.csv\", index=False)"
   ]
  },
  {
   "cell_type": "code",
   "execution_count": null,
   "id": "b9153fb5",
   "metadata": {},
   "outputs": [],
   "source": [
    "s.Response.value_counts()"
   ]
  },
  {
   "cell_type": "code",
   "execution_count": null,
   "id": "545a0fb1",
   "metadata": {},
   "outputs": [],
   "source": [
    "nan"
   ]
  }
 ],
 "metadata": {},
 "nbformat": 4,
 "nbformat_minor": 5
}
