{
 "cells": [
  {
   "cell_type": "markdown",
   "id": "3e602655",
   "metadata": {},
   "source": [
    "# Import Libraries"
   ]
  },
  {
   "cell_type": "code",
   "execution_count": null,
   "id": "6d2f3b84",
   "metadata": {},
   "outputs": [],
   "source": [
    "import pandas as pd\n",
    "import numpy as np\n",
    "import matplotlib.pyplot as plt\n",
    "import seaborn as sns\n",
    "from sklearn.preprocessing import LabelEncoder\n",
    "from sklearn.model_selection import train_test_split\n",
    "from xgboost import XGBClassifier\n",
    "from sklearn.metrics import roc_auc_score, precision_score, recall_score, f1_score"
   ]
  },
  {
   "cell_type": "markdown",
   "id": "19667ea5",
   "metadata": {},
   "source": [
    "# Data Analysis"
   ]
  },
  {
   "cell_type": "code",
   "execution_count": null,
   "id": "a1981599",
   "metadata": {},
   "outputs": [],
   "source": [
    "# Load the train data\n",
    "train_transaction = pd.read_csv(\"../input/ieee-fraud-detection/train_transaction.csv\")\n",
    "train_id = pd.read_csv(\"../input/ieee-fraud-detection/train_identity.csv\")\n"
   ]
  },
  {
   "cell_type": "code",
   "execution_count": null,
   "id": "741e8d09",
   "metadata": {},
   "outputs": [],
   "source": [
    "# Print the shape and sizee of data\n",
    "print(\"Number of rows in train_transaction data {:,} and number of columns in train_transaction data {:,} \".format(train_transaction.shape[0], train_transaction.shape[1]))\n",
    "print(\"Number of rows in train_id data {:,} and number of columns in train_id data {:,} \".format(train_id.shape[0], train_id.shape[1]))\n"
   ]
  },
  {
   "cell_type": "code",
   "execution_count": null,
   "id": "9c1c4474",
   "metadata": {},
   "outputs": [],
   "source": [
    "train_id.head()"
   ]
  },
  {
   "cell_type": "code",
   "execution_count": null,
   "id": "f2f89b04",
   "metadata": {},
   "outputs": [],
   "source": [
    "# Check for NaN values\n",
    "train_id.isnull().sum()"
   ]
  },
  {
   "cell_type": "code",
   "execution_count": null,
   "id": "d2484cb5",
   "metadata": {},
   "outputs": [],
   "source": [
    "# Print %age of null values\n",
    "total_rows = train_id.shape[0]\n",
    "columns_to_drop = []\n",
    "for cols in train_id.columns:\n",
    "  # check null values\n",
    "  null_count = train_id[cols].isnull().sum()\n",
    "  if null_count > 0:\n",
    "    perc_null_values = float(null_count)*100/total_rows\n",
    "    print(\"{} column has {:.3f}% null values\".format(cols, perc_null_values))\n",
    "\n",
    "    if perc_null_values > 50:\n",
    "      columns_to_drop.append(cols)"
   ]
  },
  {
   "cell_type": "code",
   "execution_count": null,
   "id": "f2a59b6d",
   "metadata": {},
   "outputs": [],
   "source": [
    "columns_to_drop"
   ]
  },
  {
   "cell_type": "code",
   "execution_count": null,
   "id": "5dfa5181",
   "metadata": {},
   "outputs": [],
   "source": [
    "# drop the columns to drop\n",
    "train_id.drop(columns_to_drop, axis=1, inplace=True)"
   ]
  },
  {
   "cell_type": "markdown",
   "id": "066e9835",
   "metadata": {},
   "source": [
    "**Almost every column has NaN values.**"
   ]
  },
  {
   "cell_type": "code",
   "execution_count": null,
   "id": "6f93ac8f",
   "metadata": {},
   "outputs": [],
   "source": [
    "# fill  the rest of nan with default values\n",
    "train_id.fillna(-999, inplace=True)"
   ]
  },
  {
   "cell_type": "code",
   "execution_count": null,
   "id": "59fed6fe",
   "metadata": {},
   "outputs": [],
   "source": [
    "train_id.info()"
   ]
  },
  {
   "cell_type": "code",
   "execution_count": null,
   "id": "b2b9ddec",
   "metadata": {},
   "outputs": [],
   "source": [
    "# label encode the categorical columns\n",
    "cat_cols = [cols for cols in train_id.columns if train_id[cols].dtype == 'object']\n",
    "\n",
    "# Label Encoder object\n",
    "le = LabelEncoder()\n",
    "for col in cat_cols:\n",
    "  train_id[col] = train_id[col].astype('str')\n",
    "  train_id[col] = le.fit_transform(train_id[col])"
   ]
  },
  {
   "cell_type": "code",
   "execution_count": null,
   "id": "9e811c16",
   "metadata": {},
   "outputs": [],
   "source": [
    "train_id.shape"
   ]
  },
  {
   "cell_type": "code",
   "execution_count": null,
   "id": "74570915",
   "metadata": {},
   "outputs": [],
   "source": [
    "# print percentage of null values in the transaction data\n",
    "# Print %age of null values\n",
    "total_rows = train_transaction.shape[0]\n",
    "columns_to_drop = []\n",
    "for cols in train_transaction.columns:\n",
    "  # check null values\n",
    "  null_count = train_transaction[cols].isnull().sum()\n",
    "  if null_count > 0:\n",
    "    perc_null_values = float(null_count)*100/total_rows\n",
    "    print(\"{} column has {:.3f}% null values\".format(cols, perc_null_values))\n",
    "\n",
    "    if perc_null_values > 50:\n",
    "      columns_to_drop.append(cols)"
   ]
  },
  {
   "cell_type": "code",
   "execution_count": null,
   "id": "a6857e80",
   "metadata": {},
   "outputs": [],
   "source": [
    "len(columns_to_drop)"
   ]
  },
  {
   "cell_type": "code",
   "execution_count": null,
   "id": "991c021d",
   "metadata": {},
   "outputs": [],
   "source": [
    "# drop the columns to drop\n",
    "train_transaction.drop(columns_to_drop, axis=1, inplace=True)"
   ]
  },
  {
   "cell_type": "code",
   "execution_count": null,
   "id": "64715bc6",
   "metadata": {},
   "outputs": [],
   "source": [
    "# Substitute default values in the rest of the null values\n",
    "train_transaction.fillna(-999, inplace=True)"
   ]
  },
  {
   "cell_type": "code",
   "execution_count": null,
   "id": "1fc78105",
   "metadata": {},
   "outputs": [],
   "source": [
    "# Encode the categorical cols\n",
    "cat_cols2 = [cols for cols in train_transaction.columns if train_transaction[cols].dtype == 'object']\n",
    "for cols in cat_cols2:\n",
    "  le = LabelEncoder()\n",
    "  train_transaction[cols] = train_transaction[cols].astype('str')\n",
    "  train_transaction[cols] = le.fit_transform(train_transaction[cols])"
   ]
  },
  {
   "cell_type": "code",
   "execution_count": null,
   "id": "e6d0988b",
   "metadata": {},
   "outputs": [],
   "source": [
    "train_transaction.isnull().sum()"
   ]
  },
  {
   "cell_type": "code",
   "execution_count": null,
   "id": "518f374d",
   "metadata": {},
   "outputs": [],
   "source": [
    "train_transaction.head()"
   ]
  },
  {
   "cell_type": "code",
   "execution_count": null,
   "id": "deef969b",
   "metadata": {},
   "outputs": [],
   "source": [
    "train_id.head()"
   ]
  },
  {
   "cell_type": "code",
   "execution_count": null,
   "id": "8decf427",
   "metadata": {},
   "outputs": [],
   "source": [
    "# merge both the dataset\n",
    "final_data = pd.merge(left = train_id, right = train_transaction, on='TransactionID', how='inner')"
   ]
  },
  {
   "cell_type": "code",
   "execution_count": null,
   "id": "dbc5d9f9",
   "metadata": {},
   "outputs": [],
   "source": [
    "final_data.head()"
   ]
  },
  {
   "cell_type": "code",
   "execution_count": null,
   "id": "2024a890",
   "metadata": {},
   "outputs": [],
   "source": [
    "# split the dataset into train features and target varaible\n",
    "X = final_data.drop('isFraud', axis=1)\n",
    "y = final_data['isFraud']"
   ]
  },
  {
   "cell_type": "code",
   "execution_count": null,
   "id": "8aeec4b8",
   "metadata": {},
   "outputs": [],
   "source": [
    "X.head()"
   ]
  },
  {
   "cell_type": "code",
   "execution_count": null,
   "id": "6c13dc8f",
   "metadata": {},
   "outputs": [],
   "source": [
    "# split the tdata\n",
    "X_train, X_test, y_train, y_test = train_test_split(X, y, test_size=0.2, random_state=42)"
   ]
  },
  {
   "cell_type": "code",
   "execution_count": null,
   "id": "c8a6c74e",
   "metadata": {},
   "outputs": [],
   "source": [
    "xgb_clf = XGBClassifier()\n",
    "xgb_clf.fit(X_train, y_train)"
   ]
  },
  {
   "cell_type": "code",
   "execution_count": null,
   "id": "839e7ad9",
   "metadata": {},
   "outputs": [],
   "source": [
    "# Print the accuracy score\n",
    "print(xgb_clf.score(X_test, y_test))"
   ]
  },
  {
   "cell_type": "code",
   "execution_count": null,
   "id": "f42f9572",
   "metadata": {},
   "outputs": [],
   "source": [
    "# Compute ROC AUC Score\n",
    "prediction_probability = xgb_clf.predict_proba(X_test)\n",
    "print(roc_auc_score(y_test, prediction_probability[ : , 1]))"
   ]
  },
  {
   "cell_type": "code",
   "execution_count": null,
   "id": "5a1353db",
   "metadata": {},
   "outputs": [],
   "source": [
    "# Compute ROC AUC Score\n",
    "prediction = xgb_clf.predict(X_test)\n",
    "print(f1_score(y_test, prediction))"
   ]
  },
  {
   "cell_type": "code",
   "execution_count": null,
   "id": "fe242b55",
   "metadata": {},
   "outputs": [],
   "source": [
    "# print the feature importance\n",
    "features = X.columns\n",
    "feature_imp = xgb_clf.feature_importances_\n",
    "\n",
    "feat_imp_df = pd.DataFrame({'Features' : features, 'Feature_Importance' : feature_imp}).sort_values(by='Feature_Importance', ascending=False)\n",
    "\n",
    "# Plot the feature_importance : only top 10\n",
    "plt.figure(figsize=(12,10))\n",
    "plt.barh(y=feat_imp_df['Features'].iloc[ : 10], width=feat_imp_df['Feature_Importance'].iloc[ : 10])\n",
    "plt.xlabel(\"Feature Importance\")\n",
    "plt.ylabel(\"Features\")\n",
    "plt.show()"
   ]
  }
 ],
 "metadata": {},
 "nbformat": 4,
 "nbformat_minor": 5
}
