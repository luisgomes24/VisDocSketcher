{
 "cells": [
  {
   "cell_type": "markdown",
   "id": "402ecb6a",
   "metadata": {},
   "source": [
    "# Customer Segmentation - Pycaret\n",
    "This notebook briefly explains how you can explore the dataset to apply data science techniques for customer segmentation.\n",
    "It has been providing 3 main features that can be the input of your strategy: recency, frequency and monetary.\n",
    "\n",
    "Some references link:\n",
    "\n",
    "- [Wikipedia](https://en.wikipedia.org/wiki/RFM_(market_research))\n",
    "- [RFM Segmentation](https://www.optimove.com/resources/learning-center/rfm-segmentation)\n",
    "- [Recency, Frequency, Monetary Value (RFM) Definition](https://www.investopedia.com/terms/r/rfm-recency-frequency-monetary-value.asp)\n",
    "- [What is RFM (recency, frequency, monetary) analysis?](https://www.techtarget.com/searchdatamanagement/definition/RFM-analysis)"
   ]
  },
  {
   "cell_type": "code",
   "execution_count": null,
   "id": "e34c9c3d",
   "metadata": {},
   "outputs": [],
   "source": [
    "import numpy as np  # linear algebra\n",
    "import pandas as pd  # data processing, CSV file I/O (e.g. pd.read_csv)\n",
    "import datetime\n",
    "import itertools\n",
    "import plotly.express as px\n",
    "import os\n",
    "\n",
    "# Dataset initial steps...\n",
    "dataset_10k = pd.read_csv(\n",
    "    \"/kaggle/input/customer-segmentation-rfm/customer_segmentation_10k.csv\"\n",
    ")\n",
    "dataset_10k.last_order = pd.to_datetime(dataset_10k.last_order)\n",
    "min_date = dataset_10k.last_order.min()\n",
    "dataset_10k.last_order = dataset_10k.last_order.apply(lambda x: (x - min_date).days)\n",
    "dataset_10k"
   ]
  },
  {
   "cell_type": "markdown",
   "id": "deba9d0a",
   "metadata": {},
   "source": [
    "For these experiments I gonna use [pycaret clustering](https://pycaret.gitbook.io/docs/)."
   ]
  },
  {
   "cell_type": "code",
   "execution_count": null,
   "id": "a71e2626",
   "metadata": {},
   "outputs": [],
   "source": [
    "pip install --pre pycaret==2.3.6"
   ]
  },
  {
   "cell_type": "markdown",
   "id": "6e272911",
   "metadata": {},
   "source": [
    "# Frequency\n",
    "Creating the pycaret setup for frequency field, training and labelling the data."
   ]
  },
  {
   "cell_type": "code",
   "execution_count": null,
   "id": "951dcfbc",
   "metadata": {},
   "outputs": [],
   "source": [
    "from pycaret.clustering import *\n",
    "\n",
    "exp_fre = setup(\n",
    "    dataset_10k[[\"customer_id\", \"qtt_order\"]].sort_values('qtt_order'),\n",
    "    normalize=True,\n",
    "    ignore_features=[\"customer_id\"],\n",
    "    session_id=123,\n",
    "    silent=True,\n",
    "    verbose=0\n",
    ")\n",
    "\n",
    "kmeans_frequency = create_model(\"kmeans\")\n",
    "result_frequency = assign_model(kmeans_frequency)\n",
    "aux={}\n",
    "for i, cluster in enumerate(result_frequency.groupby('Cluster').qtt_order.describe().sort_values('min').index):\n",
    "    aux[cluster] =i+1\n",
    "result_frequency['score']  = result_frequency.Cluster.map(aux)\n",
    "result_frequency.groupby('score').qtt_order.describe().sort_values('min')"
   ]
  },
  {
   "cell_type": "code",
   "execution_count": null,
   "id": "0138716b",
   "metadata": {},
   "outputs": [],
   "source": [
    "plot_model(kmeans_frequency, plot=\"elbow\");"
   ]
  },
  {
   "cell_type": "markdown",
   "id": "c928c8e9",
   "metadata": {},
   "source": [
    "# Recency\n",
    "Creating the pycaret setup for recency field, training and labelling the data."
   ]
  },
  {
   "cell_type": "code",
   "execution_count": null,
   "id": "13aa7c68",
   "metadata": {},
   "outputs": [],
   "source": [
    "\n",
    "\n",
    "exp_rec = setup(\n",
    "    dataset_10k[[\"customer_id\", \"last_order\"]].sort_values('last_order'),\n",
    "    normalize=True,\n",
    "    ignore_features=[\"customer_id\"],\n",
    "    session_id=123,\n",
    "    silent=True,\n",
    "    verbose=0\n",
    ")\n",
    "\n",
    "kmeans_recency = create_model(\"kmeans\")\n",
    "result_recency = assign_model(kmeans_recency)\n",
    "aux={}\n",
    "for i, cluster in enumerate(result_recency.groupby('Cluster').last_order.describe().sort_values('min').index):\n",
    "    aux[cluster] =i+1\n",
    "result_recency['score']  = result_recency.Cluster.map(aux)\n",
    "result_recency.groupby('score').last_order.describe().sort_values('min')"
   ]
  },
  {
   "cell_type": "code",
   "execution_count": null,
   "id": "fd60d57b",
   "metadata": {},
   "outputs": [],
   "source": [
    "plot_model(kmeans_recency, plot=\"elbow\");"
   ]
  },
  {
   "cell_type": "markdown",
   "id": "e3634578",
   "metadata": {},
   "source": [
    "#  Monetary\n",
    "Creating the pycaret setup for monetary field, training and labelling the data."
   ]
  },
  {
   "cell_type": "code",
   "execution_count": null,
   "id": "0992343d",
   "metadata": {},
   "outputs": [],
   "source": [
    "exp_mon = setup(\n",
    "    dataset_10k[[\"customer_id\", \"total_spent\"]].sort_values('total_spent'),\n",
    "    normalize=True,\n",
    "    ignore_features=[\"customer_id\"],\n",
    "    session_id=123,\n",
    "    silent=True,\n",
    "    verbose=0\n",
    ")\n",
    "\n",
    "kmeans_monetary = create_model(\"kmeans\")\n",
    "result_monetary = assign_model(kmeans_monetary)\n",
    "aux={}\n",
    "for i, cluster in enumerate(result_monetary.groupby('Cluster').total_spent.describe().sort_values('min').index):\n",
    "    aux[cluster] =i+1\n",
    "result_monetary['score']  = result_monetary.Cluster.map(aux)\n",
    "result_monetary.groupby('score').total_spent.describe().sort_values('min')"
   ]
  },
  {
   "cell_type": "code",
   "execution_count": null,
   "id": "8ec50dc6",
   "metadata": {},
   "outputs": [],
   "source": [
    "plot_model(kmeans_recency, plot=\"elbow\");"
   ]
  },
  {
   "cell_type": "markdown",
   "id": "25d931bb",
   "metadata": {},
   "source": [
    "# RFM Table"
   ]
  },
  {
   "cell_type": "code",
   "execution_count": null,
   "id": "26b0e23a",
   "metadata": {},
   "outputs": [],
   "source": [
    "dataset_10k['score_monetary']  = result_monetary.score\n",
    "dataset_10k['score_frequency']  = result_frequency.score\n",
    "dataset_10k['score_recency']  = result_recency.score\n",
    "dataset_10k['score_total'] =  result_monetary.score  + result_frequency.score +result_recency.score  \n",
    "dataset_10k"
   ]
  },
  {
   "cell_type": "code",
   "execution_count": null,
   "id": "0c3a89b0",
   "metadata": {},
   "outputs": [],
   "source": [
    "vc_df = dataset_10k[['score_total','score_monetary','score_frequency','score_recency']].value_counts().reset_index()\n",
    "vc_df.rename(columns={0:'Counts'},inplace=True)\n",
    "vc_df[:10]"
   ]
  },
  {
   "cell_type": "markdown",
   "id": "ff238ab0",
   "metadata": {},
   "source": [
    "\n",
    "#### Understanding the scores or clusters..\n",
    "The score is settled between 1 and 4, where 1 means a small numeric (min) and 4 means a big numeric value (max).\n",
    "\n",
    "| Score     \t| 1         |           2~3          \t| 4                               \t|\n",
    "|-----------\t|----------------------|-------------\t|-----------------------------------\t|\n",
    "| Monetary  \t| Spent less money on total orders. |~\t| Spent more money on total orders. \t|\n",
    "| Recency   \t| Ordered recently.            | ~    \t| Ordered a long time ago.          \t|\n",
    "| Frequency \t| Ordered a few times.          |~    \t| Ordered many times.               \t|\n",
    "\n",
    "\n",
    "\n",
    "<br/><br/><br/>\n",
    "\n",
    "\n",
    "\n",
    "\n",
    "\n",
    "#### Apply the logic over a few examples on the table?\n",
    "\n",
    "\n",
    "Here are just a few profiles that we can determine/find in the RFM models, of course, the entire categorization depends on the market strategy that you will use.\n",
    "\n",
    "\n",
    "\n",
    "| Monetary \t| Recency \t| Frequency \t| Score \t| Customer Profile                                                                  \t|\n",
    "|----------\t|---------\t|-----------\t|-------\t|-----------------------------------------------------------------------------------\t|\n",
    "| 4        \t| 2       \t| 2~4       \t| 8~12  \t| A customer who ordered many times in the past and didn't order anything recently. \t|\n",
    "| 1        \t| 1       \t| 1         \t| 3     \t| A new customer that ordered a few products recently.                              \t|\n",
    "| 4        \t| 1       \t| 4         \t| 9     \t| A customer that spend much...                                                     \t|\n",
    "| 3        \t| 2       \t| 2         \t| 7     \t| Customer that...                                                                  \t|"
   ]
  }
 ],
 "metadata": {},
 "nbformat": 4,
 "nbformat_minor": 5
}
