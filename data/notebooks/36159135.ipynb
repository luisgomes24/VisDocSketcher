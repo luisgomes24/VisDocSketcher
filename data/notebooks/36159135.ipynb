{
 "cells": [
  {
   "cell_type": "markdown",
   "id": "b40723c0",
   "metadata": {},
   "source": [
    "Published on March 17, 2023. By Marília Prata, mpwolke"
   ]
  },
  {
   "cell_type": "code",
   "execution_count": null,
   "id": "e51f7c6d",
   "metadata": {},
   "outputs": [],
   "source": [
    "# This Python 3 environment comes with many helpful analytics libraries installed\n",
    "# It is defined by the kaggle/python Docker image: https://github.com/kaggle/docker-python\n",
    "# For example, here's several helpful packages to load\n",
    "\n",
    "import numpy as np # linear algebra\n",
    "import pandas as pd # data processing, CSV file I/O (e.g. pd.read_csv)\n",
    "import matplotlib.pyplot as plt\n",
    "import seaborn as sns\n",
    "import plotly.graph_objects as go\n",
    "\n",
    "import plotly.offline as py\n",
    "import plotly.express as px\n",
    "import plotly.offline as pyo\n",
    "pyo.init_notebook_mode()\n",
    "\n",
    "import gc\n",
    "\n",
    "import warnings\n",
    "warnings.simplefilter(action='ignore', category=Warning)\n",
    "\n",
    "# Input data files are available in the read-only \"../input/\" directory\n",
    "# For example, running this (by clicking run or pressing Shift+Enter) will list all files under the input directory\n",
    "\n",
    "import os\n",
    "for dirname, _, filenames in os.walk('/kaggle/input'):\n",
    "    for filename in filenames:\n",
    "        print(os.path.join(dirname, filename))\n",
    "\n",
    "# You can write up to 20GB to the current directory (/kaggle/working/) that gets preserved as output when you create a version using \"Save & Run All\" \n",
    "# You can also write temporary files to /kaggle/temp/, but they won't be saved outside of the current session"
   ]
  },
  {
   "cell_type": "markdown",
   "id": "612091ea",
   "metadata": {},
   "source": [
    "![](https://img.republicworld.com/republic-prod/stories/images/16159667816051b23df22db.jpeg)https://www.republicworld.com/lifestyle/festivals/saint-patricks-day-images-memes-and-wishes-to-share-with-your-loved-ones.html"
   ]
  },
  {
   "cell_type": "code",
   "execution_count": null,
   "id": "17a24875",
   "metadata": {},
   "outputs": [],
   "source": [
    "df = pd.read_csv(\"/kaggle/input/cusersmarildownloadsirishcsv/irish.csv\", delimiter=';', encoding='ISO-8859-2')\n",
    "pd.set_option('display.max_columns', None)\n",
    "df.head()"
   ]
  },
  {
   "cell_type": "code",
   "execution_count": null,
   "id": "8582f57b",
   "metadata": {},
   "outputs": [],
   "source": [
    "df.isnull().sum()"
   ]
  },
  {
   "cell_type": "code",
   "execution_count": null,
   "id": "acbcc03a",
   "metadata": {},
   "outputs": [],
   "source": [
    "df.groupby('year').count()['cases'].plot(color='green')\n",
    "plt.title('Irish Whiskey Sales Yearly', fontsize=20, color='green');\n",
    "plt.tight_layout()"
   ]
  },
  {
   "cell_type": "code",
   "execution_count": null,
   "id": "c6aff876",
   "metadata": {},
   "outputs": [],
   "source": [
    "#Some Visualization\n",
    "df[['country', 'year']].value_counts().head().plot(kind='barh', color='green')\n",
    "\n",
    "plt.title('Irish Whiskey Sales by Country Yearly');"
   ]
  },
  {
   "cell_type": "code",
   "execution_count": null,
   "id": "5291aa75",
   "metadata": {},
   "outputs": [],
   "source": [
    "#Code by Lucas Abrahão https://www.kaggle.com/lucasabrahao/trabalho-manufatura-an-lise-de-dados-no-brasil\n",
    "\n",
    "df[\"quality\"].value_counts().plot.barh(color='green', title='Irish Whiskey Quality')\n",
    "\n",
    "plt.text(3,0.65,'©by Marília Prata',{'font':'serif', 'size':20,  'color':'black'},alpha = 1)\n",
    "plt.show();"
   ]
  },
  {
   "cell_type": "code",
   "execution_count": null,
   "id": "7d8a613a",
   "metadata": {},
   "outputs": [],
   "source": [
    "#Code by Lucas Abrahão https://www.kaggle.com/lucasabrahao/trabalho-manufatura-an-lise-de-dados-no-brasil\n",
    "\n",
    "df[\"country\"].value_counts()[:10].plot.barh(color='green', title='Irish Whiskey Sales by top 10 Countries')\n",
    "plt.text(3,0.65,'©by Marília Prata',{'font':'serif', 'size':20,  'color':'black'},alpha = 1)\n",
    "plt.show();"
   ]
  },
  {
   "cell_type": "code",
   "execution_count": null,
   "id": "57dc829d",
   "metadata": {},
   "outputs": [],
   "source": [
    "import plotly.offline as py\n",
    "import plotly.express as px"
   ]
  },
  {
   "cell_type": "code",
   "execution_count": null,
   "id": "374efc0a",
   "metadata": {},
   "outputs": [],
   "source": [
    "fig = px.line(df, x=\"year\", y=\"cases\", color_discrete_sequence=['green'], \n",
    "              title=\"Irish Whiskey Sales Yearly\", markers=True)\n",
    "fig.show()"
   ]
  },
  {
   "cell_type": "markdown",
   "id": "320e06ae",
   "metadata": {},
   "source": [
    "#Try to dance like that after all that Irish Whiskey!\n",
    "\n",
    "![](https://media.tenor.com/WQOwq4f8CMMAAAAd/irish-st-patricks-day.gif)https://tenor.com/pt-BR/view/irish-st-patricks-day-happy-st-patricks-day-greeting-james-voller-gif-16585841"
   ]
  }
 ],
 "metadata": {},
 "nbformat": 4,
 "nbformat_minor": 5
}
