{
 "cells": [
  {
   "cell_type": "markdown",
   "id": "84f25878",
   "metadata": {},
   "source": [
    "# Installation"
   ]
  },
  {
   "cell_type": "code",
   "execution_count": null,
   "id": "bee70367",
   "metadata": {},
   "outputs": [],
   "source": [
    "!pip install pycaret\n",
    "!pip install pandas_profiling"
   ]
  },
  {
   "cell_type": "code",
   "execution_count": null,
   "id": "ee688b0b",
   "metadata": {},
   "outputs": [],
   "source": [
    "import pandas as pd \n",
    "import pandas_profiling as pp"
   ]
  },
  {
   "cell_type": "code",
   "execution_count": null,
   "id": "5bd5c020",
   "metadata": {},
   "outputs": [],
   "source": [
    "train_house=pd.read_csv('../input/house-prices-advanced-regression-techniques/train.csv')\n",
    "test_house=pd.read_csv('../input/house-prices-advanced-regression-techniques/test.csv')"
   ]
  },
  {
   "cell_type": "markdown",
   "id": "f19fc673",
   "metadata": {},
   "source": [
    "# **Pandas profiling report for House price train data**"
   ]
  },
  {
   "cell_type": "code",
   "execution_count": null,
   "id": "491e8d58",
   "metadata": {},
   "outputs": [],
   "source": [
    "pp.ProfileReport(train_house)"
   ]
  },
  {
   "cell_type": "markdown",
   "id": "c0f97c4f",
   "metadata": {},
   "source": [
    "Regression"
   ]
  },
  {
   "cell_type": "code",
   "execution_count": null,
   "id": "1c8d5857",
   "metadata": {},
   "outputs": [],
   "source": [
    "from pycaret.regression import *"
   ]
  },
  {
   "cell_type": "code",
   "execution_count": null,
   "id": "c3e4e929",
   "metadata": {},
   "outputs": [],
   "source": [
    "regression_setup =setup(data = train_house, \n",
    "             target = 'SalePrice',\n",
    "             numeric_imputation = 'mean', #fill missing value with mean for numeric features\n",
    "             categorical_features = ['MSZoning','Exterior1st','Exterior2nd','KitchenQual','Functional','SaleType',\n",
    "                                     'Street','LotShape','LandContour','LotConfig','LandSlope','Neighborhood',   \n",
    "                                     'Condition1','Condition2','BldgType','HouseStyle','RoofStyle','RoofMatl',    \n",
    "                                     'MasVnrType','ExterQual','ExterCond','Foundation','BsmtQual','BsmtCond',   \n",
    "                                     'BsmtExposure','BsmtFinType1','BsmtFinType2','Heating','HeatingQC','CentralAir',   \n",
    "                                     'Electrical','GarageType','GarageFinish','GarageQual','GarageCond','PavedDrive',\n",
    "                                     'SaleCondition'], #categorical features from pandas profiling report\n",
    "             ignore_features = ['Id'],\n",
    "             train_size=0.8,\n",
    "             normalize=True,\n",
    "             normalize_method='minmax',\n",
    "             handle_unknown_categorical=True,\n",
    "             unknown_categorical_method='most_frequent',  #fill missing value with most frequent value for categorical features\n",
    "             remove_outliers=True, #it automatically applies PCA for removing outliers,\n",
    "             outliers_threshold=0.05, \n",
    "             silent=True,\n",
    "             profile=True #a data profile for Exploratory Data Analysis will be displayed in an interactive HTML report. It also generates pandas profiling report\n",
    "     )"
   ]
  },
  {
   "cell_type": "code",
   "execution_count": null,
   "id": "0c31af20",
   "metadata": {},
   "outputs": [],
   "source": [
    "compare_models(blacklist = ['ransac', 'tr', 'rf', 'et', 'ada', 'gbr'])"
   ]
  },
  {
   "cell_type": "code",
   "execution_count": null,
   "id": "605f1dc6",
   "metadata": {},
   "outputs": [],
   "source": [
    "lgbm = create_model(\n",
    "    estimator='lightgbm',\n",
    "    fold=5\n",
    ")"
   ]
  },
  {
   "cell_type": "code",
   "execution_count": null,
   "id": "6f93e245",
   "metadata": {},
   "outputs": [],
   "source": [
    "evaluate_model(lgbm)"
   ]
  },
  {
   "cell_type": "code",
   "execution_count": null,
   "id": "2ce795b2",
   "metadata": {},
   "outputs": [],
   "source": [
    "lgbm_holdout_pred = predict_model(lgbm)"
   ]
  },
  {
   "cell_type": "code",
   "execution_count": null,
   "id": "1db17635",
   "metadata": {},
   "outputs": [],
   "source": [
    "house_prediction =  predict_model(lgbm, data=test_house)\n",
    "house_prediction.head()"
   ]
  },
  {
   "cell_type": "code",
   "execution_count": null,
   "id": "623b48c4",
   "metadata": {},
   "outputs": [],
   "source": [
    "house_prediction.rename(columns={'Label':'SalePrice'}, inplace=True)\n",
    "house_prediction[['Id','SalePrice']].to_csv('submission_house.csv', index=False)"
   ]
  },
  {
   "cell_type": "code",
   "execution_count": null,
   "id": "a4e8a536",
   "metadata": {},
   "outputs": [],
   "source": [
    "nan"
   ]
  }
 ],
 "metadata": {},
 "nbformat": 4,
 "nbformat_minor": 5
}
