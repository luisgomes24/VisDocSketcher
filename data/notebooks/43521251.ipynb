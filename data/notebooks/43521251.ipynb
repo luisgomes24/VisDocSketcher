{
 "cells": [
  {
   "cell_type": "code",
   "execution_count": null,
   "id": "0249e655",
   "metadata": {},
   "outputs": [],
   "source": [
    "import tensorflow as tf\n",
    "from tensorflow.keras.applications import ResNet50\n",
    "from tensorflow.keras.applications.resnet50 import preprocess_input, decode_predictions\n",
    "from tensorflow.keras.preprocessing import image\n",
    "import numpy as np"
   ]
  },
  {
   "cell_type": "code",
   "execution_count": null,
   "id": "fe44d4b4",
   "metadata": {},
   "outputs": [],
   "source": [
    "model = ResNet50(weights='imagenet')"
   ]
  },
  {
   "cell_type": "code",
   "execution_count": null,
   "id": "6eda4731",
   "metadata": {},
   "outputs": [],
   "source": [
    "\n",
    "# Load and preprocess the image you want to classify\n",
    "img_path = '/kaggle/input/falcon-1/peregrine falcon.jpeg'  # Replace with the path to your image\n"
   ]
  },
  {
   "cell_type": "code",
   "execution_count": null,
   "id": "eabc487b",
   "metadata": {},
   "outputs": [],
   "source": [
    "img = image.load_img(img_path, target_size=(224, 224))  # ResNet50 expects 224x224 images"
   ]
  },
  {
   "cell_type": "code",
   "execution_count": null,
   "id": "41ed0d6f",
   "metadata": {},
   "outputs": [],
   "source": [
    "img"
   ]
  },
  {
   "cell_type": "code",
   "execution_count": null,
   "id": "98f5f005",
   "metadata": {},
   "outputs": [],
   "source": [
    "x = image.img_to_array(img)\n",
    "x"
   ]
  },
  {
   "cell_type": "code",
   "execution_count": null,
   "id": "b856ac11",
   "metadata": {},
   "outputs": [],
   "source": [
    "x = np.expand_dims(x, axis=0)\n",
    "x"
   ]
  },
  {
   "cell_type": "code",
   "execution_count": null,
   "id": "aec107a2",
   "metadata": {},
   "outputs": [],
   "source": [
    "x = preprocess_input(x)\n",
    "x"
   ]
  },
  {
   "cell_type": "code",
   "execution_count": null,
   "id": "e2e0ff44",
   "metadata": {},
   "outputs": [],
   "source": [
    "\n",
    "# Make predictions using the pre-trained model\n",
    "predictions = model.predict(x)\n"
   ]
  },
  {
   "cell_type": "code",
   "execution_count": null,
   "id": "55753574",
   "metadata": {},
   "outputs": [],
   "source": [
    "decoded_predictions = decode_predictions(predictions, top=5)[0]"
   ]
  },
  {
   "cell_type": "code",
   "execution_count": null,
   "id": "267a95c1",
   "metadata": {},
   "outputs": [],
   "source": [
    "decoded_predictions"
   ]
  },
  {
   "cell_type": "code",
   "execution_count": null,
   "id": "53797f2a",
   "metadata": {},
   "outputs": [],
   "source": [
    "for i, (imagenet_id, label, score) in enumerate(decoded_predictions):\n",
    "    print(f\"{i + 1}: {label} ({score:.2f})\")"
   ]
  },
  {
   "cell_type": "code",
   "execution_count": null,
   "id": "e3d03acf",
   "metadata": {},
   "outputs": [],
   "source": [
    "nan"
   ]
  }
 ],
 "metadata": {},
 "nbformat": 4,
 "nbformat_minor": 5
}
