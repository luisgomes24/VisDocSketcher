{
 "cells": [
  {
   "cell_type": "code",
   "execution_count": null,
   "id": "e37a6237",
   "metadata": {},
   "outputs": [],
   "source": [
    "import numpy as np\n",
    "import pandas as pd\n",
    "\n",
    "import plotly.express as px\n",
    "from plotly.subplots import make_subplots\n",
    "import plotly.graph_objs as go\n",
    "\n",
    "pd.set_option('display.max_columns', None)"
   ]
  },
  {
   "cell_type": "code",
   "execution_count": null,
   "id": "79ca9b8c",
   "metadata": {},
   "outputs": [],
   "source": [
    "features = pd.read_csv('../input/jane-street-market-prediction/features.csv')"
   ]
  },
  {
   "cell_type": "code",
   "execution_count": null,
   "id": "5707034b",
   "metadata": {},
   "outputs": [],
   "source": [
    "features.shape"
   ]
  },
  {
   "cell_type": "code",
   "execution_count": null,
   "id": "07e0151e",
   "metadata": {},
   "outputs": [],
   "source": [
    "features.head()"
   ]
  },
  {
   "cell_type": "markdown",
   "id": "ad1cf1eb",
   "metadata": {},
   "source": [
    "## Features and tags\n",
    "\n",
    "As [mentioned here](https://www.kaggle.com/c/jane-street-market-prediction/discussion/198965#1088878), tags shows the realtionship between anonymized features. For example, for feature_1, tag_6 and tag_7 are true which means these two tags were used to generate feature_1. "
   ]
  },
  {
   "cell_type": "code",
   "execution_count": null,
   "id": "6374ae5e",
   "metadata": {},
   "outputs": [],
   "source": [
    "px.imshow(features.iloc[:,1:], zmin=0, zmax=1, y=features.feature, aspect='auto')"
   ]
  },
  {
   "cell_type": "code",
   "execution_count": null,
   "id": "400fed09",
   "metadata": {},
   "outputs": [],
   "source": [
    "px.bar(x=features.feature, y=features.iloc[:,1:].sum(axis=1).values)"
   ]
  },
  {
   "cell_type": "markdown",
   "id": "c1779f74",
   "metadata": {},
   "source": [
    "Looking at how many tags are used to derive different features, it is difficult to interpret anything useful. \n",
    "- Between feature_72 and feature_119, there are a total of 48 features which uses 4 tags to derive the respective features.\n",
    "- Since these 48 features are dervied exactly using 4 tags, my assumption is that it can be time based features. Probably generated every half an hour for 24 hours (Jane Street operates around the clock with trading offices at different locations around the globe)\n",
    "\n",
    "Let us look at the features between 72 and 119. "
   ]
  },
  {
   "cell_type": "code",
   "execution_count": null,
   "id": "ac63dc2e",
   "metadata": {},
   "outputs": [],
   "source": [
    "px.imshow(features.iloc[72:120,1:], zmin=0, zmax=1, y=features.feature[72:120], aspect='auto')"
   ]
  },
  {
   "cell_type": "markdown",
   "id": "409f07a8",
   "metadata": {},
   "source": [
    "Looking at the heatmap for features between feature_72 to feature_119, we see some interesting observations\n",
    "- tag_0 to tag_5 can either be day of week Monday-Friday and a weekend or it can be 6 days because trading is done 24 hours around the globe.\n",
    "- tag_23 is common in all these features and not used in generating any other features. So, it can be a tag saying it is a time based feature\n",
    "- tag_15 and tag_17 are complementary to each other, i.e., if one of these tags is used to generate a feature, then the other one is not used. It probably can be market opening and closing indicators across different time zones.\n",
    "- tag_24, tag_25, tag_26, tag_27 can be market data across their different locations (New York, London, Hong Kong, and Amsterdam)"
   ]
  },
  {
   "cell_type": "code",
   "execution_count": null,
   "id": "f9ee0acf",
   "metadata": {},
   "outputs": [],
   "source": [
    "px.bar(x=features.columns[1:], y=features.iloc[:,1:].sum(axis=0).values)"
   ]
  },
  {
   "cell_type": "code",
   "execution_count": null,
   "id": "d527a7b0",
   "metadata": {},
   "outputs": [],
   "source": [
    "nan"
   ]
  }
 ],
 "metadata": {},
 "nbformat": 4,
 "nbformat_minor": 5
}
