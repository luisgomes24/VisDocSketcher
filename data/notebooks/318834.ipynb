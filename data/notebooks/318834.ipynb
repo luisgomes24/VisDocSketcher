{
 "cells": [
  {
   "cell_type": "markdown",
   "id": "96fe5c4d",
   "metadata": {},
   "source": [
    "# Introduction\n",
    "\n",
    "The Paradis corpus (Paradis, 2005) consists of naturalistic language samples from 25 children learning English as a second language (English language learners or learners of English as an additional language). The corpus is longitudinal, with five rounds of data collection spanning a two‐year period.\n",
    "\n",
    "Transcription is in English orthography only; phonetic transcription was not included in this research. The design of the study was longitudinal, but only 19 of the 25 participants have data for all five rounds. Any real names of people or places in the transcripts have been replaced with pseudonyms. The participants are identified with four letter codes. \n",
    "\n",
    "In this notebook, we'll be conducting an initial Exploratory Data Analysis (EDA) on the dataset."
   ]
  },
  {
   "cell_type": "markdown",
   "id": "5efb78df",
   "metadata": {},
   "source": [
    "## The EDA\n",
    "\n",
    "First, we'll load the dataset using pandas.  If we look at guide_to_files.csv, we'll want to expand out the gender type."
   ]
  },
  {
   "cell_type": "code",
   "execution_count": null,
   "id": "384209ad",
   "metadata": {},
   "outputs": [],
   "source": [
    "import pandas as pd\n",
    "import matplotlib as mpl\n",
    "import matplotlib.pyplot as plt\n",
    "%matplotlib inline\n",
    "\n",
    "list_children = pd.read_csv('../input/guide_to_files.csv')\n",
    "\n",
    "list_children.loc[list_children['gender'] == 'M', 'gender'] = 'Male'\n",
    "list_children.loc[list_children['gender'] == 'F', 'gender'] = 'Female'\n",
    "\n",
    "list_children.head()"
   ]
  },
  {
   "cell_type": "markdown",
   "id": "aeb31126",
   "metadata": {},
   "source": [
    "Next, let's determine how many people with first languages are being interviewed."
   ]
  },
  {
   "cell_type": "code",
   "execution_count": null,
   "id": "69c3b114",
   "metadata": {},
   "outputs": [],
   "source": [
    "list_children['first_language'].value_counts().plot(kind='bar',figsize=(8,8), fontsize=15)"
   ]
  },
  {
   "cell_type": "markdown",
   "id": "85590d07",
   "metadata": {},
   "source": [
    "We noticed that most of the children either have Spanish or Mandarin as their first language.\n",
    "\n",
    "Now, let's determine whether there is a male or female majority."
   ]
  },
  {
   "cell_type": "code",
   "execution_count": null,
   "id": "9de2dfda",
   "metadata": {},
   "outputs": [],
   "source": [
    "list_children['gender'].value_counts().plot(kind='pie',figsize=(8,8), fontsize=15)"
   ]
  },
  {
   "cell_type": "markdown",
   "id": "165e5743",
   "metadata": {},
   "source": [
    "It looks like about 2/3 of the participants are male.\n",
    "\n",
    "I would like to see how long it takes for the children to be exposed to English after arriving to Canada.  This can have an effect on whether they would have more speech imperfections for English."
   ]
  },
  {
   "cell_type": "code",
   "execution_count": null,
   "id": "010fdba0",
   "metadata": {},
   "outputs": [],
   "source": [
    "dif_time = list_children['age_of_English_exposure_months'] - list_children['age_of_arrival_to_Canada_months']\n",
    "print(\"Minimum: {}\".format(dif_time.min()))\n",
    "print(\"Maximum: {}\".format(dif_time.max()))\n",
    "print(\"Mean: {}\".format(dif_time.mean()))\n",
    "\n",
    "plt.title('Difference between arrival and exposure', fontsize=15)\n",
    "plt.xlabel('# of Months', fontsize=15)\n",
    "plt.ylabel('# of Children', fontsize=15)\n",
    "dif_time.plot(kind = 'hist', figsize=(7,7), fontsize=15)"
   ]
  },
  {
   "cell_type": "markdown",
   "id": "99260b6b",
   "metadata": {},
   "source": [
    "At best, they'll be exposed to English around the same time they arrived to Canada.  The longest time to be exposed to English was almost 5 years!\n",
    "\n",
    "Despite this extreme, it's common for children to be exposed about a year after they came to the country.\n",
    "\n",
    "An interesting question would be whether the difference of the age of exposure and the age of recording are the same as the number of months that the person was learning English."
   ]
  },
  {
   "cell_type": "code",
   "execution_count": null,
   "id": "cbc2fc21",
   "metadata": {},
   "outputs": [],
   "source": [
    "(list_children['age_at_recording_months'] - list_children['age_of_English_exposure_months']) == list_children['months_of_english']"
   ]
  },
  {
   "cell_type": "markdown",
   "id": "d9dc1593",
   "metadata": {},
   "source": [
    "With the exception of the last dataset, this is the case.  Upon listing the last entry, we notice that the child was learning English well before he was exposed to the language.  How is this possible?\n",
    "\n",
    "According to the description, all language learning takes place after the first language is established.  However, it's never defined how a person is exposed to English (oral, reading, writing)."
   ]
  },
  {
   "cell_type": "code",
   "execution_count": null,
   "id": "bc4c2b39",
   "metadata": {},
   "outputs": [],
   "source": [
    "list_children.tail(1)"
   ]
  },
  {
   "cell_type": "markdown",
   "id": "fb882806",
   "metadata": {},
   "source": [
    "## Recording number of imperfections\n",
    "\n",
    "Now that we took a look at the dataset, let's discover the following\n",
    "\n",
    "* How many silences\n",
    "* How many interruptions\n",
    "* How many \"um's\", \"uh's\", and \"mm's\"\n",
    "\n",
    "Any listed item will be defined as an imperfection."
   ]
  },
  {
   "cell_type": "code",
   "execution_count": null,
   "id": "3ed4fea1",
   "metadata": {},
   "outputs": [],
   "source": [
    "import re\n",
    "\n",
    "def getDialog(filename):\n",
    "    dialog = []\n",
    "    file = open(filename.strip(),'r')\n",
    "    for line in file:\n",
    "        if line[0] == '*':\n",
    "            new_line = line[1:].strip()\n",
    "            new_line = new_line[:4] + new_line[5:]\n",
    "            dialog.append(new_line)\n",
    "    file.close()\n",
    "    return dialog\n",
    "\n",
    "def analyzeDialog(dialog):\n",
    "    pauses = 0\n",
    "    ums = 0\n",
    "    interrupts = 0\n",
    "    for index, line in enumerate(dialog):\n",
    "        if line[:3] == 'CHI':\n",
    "            tmpline = line[4:]\n",
    "            ums += len(re.findall(r\"&-[^\\s]*\",tmpline)) \n",
    "            pauses += len(re.findall(r\"\\(\\.\\.?\\)\",tmpline))\n",
    "            interrupts += len(re.findall(r\"<[^>]*>\",tmpline))\n",
    "            # Commented code removes some imperfections in the speech.\n",
    "            #while len(re.findall(r\"&-[^\\s]*\",tmpline)) != 0:\n",
    "            #    match = re.search(r\"&-[^\\s]*\",tmpline)\n",
    "            #    tmpline = tmpline[:match.start()] + tmpline[match.end():]\n",
    "            #    ums += 1\n",
    "            #while len(re.findall(r\"\\(\\.\\.?\\)\",tmpline)) != 0:\n",
    "            #    match = re.search(r\"\\(\\.\\.?\\)\",tmpline)\n",
    "            #    tmpline = tmpline[:match.start()] + tmpline[match.end():]\n",
    "            #    pauses += 1\n",
    "            #while len(re.findall(r\"<[^>]*>\",tmpline)) != 0:\n",
    "            #    match = re.search(r\"<[^>]*>\",tmpline)\n",
    "            #    tmpline = tmpline[:match.start()] + tmpline[match.end():]\n",
    "            #    interrupts += 1\n",
    "            #while len(re.findall(r\"\\[[^\\]]*\\]\",tmpline)) != 0:\n",
    "            #    match = re.search(r\"\\[[^\\]]*\\]\",tmpline)\n",
    "            #    tmpline = tmpline[:match.start()] + tmpline[match.end():]\n",
    "            #print(tmpline)\n",
    "            #dialog[index] = dialog[index][:4] + tmpline                 \n",
    "    return (pauses, ums, interrupts)"
   ]
  },
  {
   "cell_type": "code",
   "execution_count": null,
   "id": "cf8855e7",
   "metadata": {},
   "outputs": [],
   "source": [
    "list_children['pauses'] = 0\n",
    "list_children['ums'] = 0\n",
    "list_children['interrupts'] = 0\n",
    "list_children['imperfections'] = 0\n",
    "for index, row in list_children.iterrows():\n",
    "    #print(row)\n",
    "\n",
    "    dialog = getDialog('../input/{}'.format(row['file_name']))\n",
    "    res = analyzeDialog(dialog)\n",
    "    list_children.loc[index, 'pauses'] = res[0]\n",
    "    list_children.loc[index, 'ums'] = res[1]\n",
    "    list_children.loc[index, 'interrupts'] = res[2]\n",
    "    list_children.loc[index, 'imperfections'] = sum(res)\n",
    "list_children[['first_language', 'months_of_english', 'pauses', 'ums','interrupts', 'imperfections']].head(23)"
   ]
  },
  {
   "cell_type": "markdown",
   "id": "b290b44c",
   "metadata": {},
   "source": [
    "Now the question is whether we can make any meaningful between the amount of months learning English and any imperfections."
   ]
  },
  {
   "cell_type": "code",
   "execution_count": null,
   "id": "318242a7",
   "metadata": {},
   "outputs": [],
   "source": [
    "print(\"Correlation between imperfections and months of English: {}\".format(\n",
    "    list_children[['imperfections','months_of_english']].corr())\n",
    ")"
   ]
  },
  {
   "cell_type": "markdown",
   "id": "815f95dd",
   "metadata": {},
   "source": [
    "From just calculating the correlation, there isn't a strong connection between the two.  Let's see if there's any correlation between the age of the child and the amount of imperfections."
   ]
  },
  {
   "cell_type": "code",
   "execution_count": null,
   "id": "614ca2fd",
   "metadata": {},
   "outputs": [],
   "source": [
    "print(\"Correlation between imperfections and age of child: {}\".format(\n",
    "    list_children[['imperfections','age_at_recording_months']].corr())\n",
    ")"
   ]
  },
  {
   "cell_type": "markdown",
   "id": "c96c4197",
   "metadata": {},
   "source": [
    "There doesn't appear to be any correlation between age and general imperfections as well.\n",
    "\n",
    "Does age matter when saying ums?"
   ]
  },
  {
   "cell_type": "code",
   "execution_count": null,
   "id": "679e1e5c",
   "metadata": {},
   "outputs": [],
   "source": [
    "print(\"Correlation between ums and age of child: {}\".format(\n",
    "    list_children[['ums','age_at_recording_months']].corr())\n",
    ")\n",
    "list_children.plot(x='age_at_recording_months',y='ums', kind='scatter',figsize=(7,7),fontsize=15)\n",
    "plt.title(\"Age and Ums\", fontsize=15)\n",
    "plt.xlabel(\"Age\", fontsize=15)\n",
    "plt.ylabel(\"Number of Ums\", fontsize=15)\n",
    "plt.show()"
   ]
  },
  {
   "cell_type": "markdown",
   "id": "a5a3160b",
   "metadata": {},
   "source": [
    "There is no correlation between age and the number of ums made.  This isn't suprising since many adults say \"um\" as well.\n",
    "\n",
    "How about age and pauses?"
   ]
  },
  {
   "cell_type": "code",
   "execution_count": null,
   "id": "7ae7e8da",
   "metadata": {},
   "outputs": [],
   "source": [
    "print(\"Correlation between pauses and age of child: {}\".format(\n",
    "    list_children[['pauses','age_at_recording_months']].corr())\n",
    ")\n",
    "list_children.plot(x='age_at_recording_months',y='pauses', kind='scatter',figsize=(7,7),fontsize=15)\n",
    "plt.title(\"Age and Pauses\", fontsize=15)\n",
    "plt.xlabel(\"Age\", fontsize=15)\n",
    "plt.ylabel(\"Number of pauses\", fontsize=15)\n",
    "plt.show()"
   ]
  },
  {
   "cell_type": "markdown",
   "id": "589c8697",
   "metadata": {},
   "source": [
    "There is no correlation between age and the number of pauses made.  However, let's try how strongly correlated the amount of time a child knows English will pause."
   ]
  },
  {
   "cell_type": "code",
   "execution_count": null,
   "id": "d85d0e77",
   "metadata": {},
   "outputs": [],
   "source": [
    "print(\"Correlation between pauses and age of child: {}\".format(\n",
    "    list_children[['pauses','months_of_english']].corr())\n",
    ")\n",
    "list_children.plot(x='months_of_english',y='pauses', kind='scatter',figsize=(7,7),fontsize=15)\n",
    "plt.title(\"Months learning and pauses\", fontsize=15)\n",
    "plt.xlabel(\"Months learning Enlgish\", fontsize=15)\n",
    "plt.ylabel(\"Number of Pauses\", fontsize=15)\n",
    "plt.show()"
   ]
  },
  {
   "cell_type": "markdown",
   "id": "5e38acc4",
   "metadata": {},
   "source": [
    "There isn't much correlation.\n",
    "\n",
    "How about age of the child and interruptions?"
   ]
  },
  {
   "cell_type": "code",
   "execution_count": null,
   "id": "4bc8e5cb",
   "metadata": {},
   "outputs": [],
   "source": [
    "print(\"Correlation between interruptions and age of child: {}\".format(\n",
    "    list_children[['interrupts','age_at_recording_months']].corr())\n",
    ")\n",
    "list_children.plot(x='age_at_recording_months',y='interrupts', kind='scatter',figsize=(7,7),fontsize=15)\n",
    "plt.title(\"Age and interruptions\", fontsize=15)\n",
    "plt.xlabel(\"Age\", fontsize=15)\n",
    "plt.ylabel(\"Number of interruptions\", fontsize=15)\n",
    "plt.show()"
   ]
  },
  {
   "cell_type": "markdown",
   "id": "babf835e",
   "metadata": {},
   "source": [
    "There is still no correlation between age and the number of interruptions made.  However, this can be due to\n",
    "\n",
    "1. The age of the child.  The younger the child, the more likely he'll interrupt.\n",
    "2. The personality of the child.  Some people are more outspoken than others.\n",
    "\n",
    "Despite not getting strong correlations, the data can describe the personality of a child.  For example, a child that made fewer interruptions might be either shy or obedient."
   ]
  },
  {
   "cell_type": "markdown",
   "id": "a3ed3900",
   "metadata": {},
   "source": [
    "## Analyze by language\n",
    "\n",
    "Since there wasn't much correlation between the imperfections and the age of the child, let's analyze between the imperfections and the children belonging to each language."
   ]
  },
  {
   "cell_type": "code",
   "execution_count": null,
   "id": "3280984a",
   "metadata": {},
   "outputs": [],
   "source": [
    "plt.title(\"Language and ums\", fontsize=15)\n",
    "list_children.groupby(['first_language'])['ums'].sum().plot(kind = 'bar', figsize= (7,7), fontsize=15)\n",
    "plt.xlabel(\"First Language\", fontsize=15)\n",
    "plt.ylabel(\"Number of ums\", fontsize=15)\n",
    "plt.show()\n",
    "\n",
    "plt.title(\"Language and average number of ums\", fontsize=15)\n",
    "list_children.groupby(['first_language'])['ums'].mean().plot(kind = 'bar', figsize= (7,7), fontsize=15)\n",
    "plt.xlabel(\"First Language\", fontsize=15)\n",
    "plt.ylabel(\"Average number of ums\", fontsize=15)\n",
    "plt.show()"
   ]
  },
  {
   "cell_type": "markdown",
   "id": "6d8cb807",
   "metadata": {},
   "source": [
    "In total, children with Mandarin as their primary made the most ums.  On average, the children with Ukrainian as their primary made the most ums."
   ]
  },
  {
   "cell_type": "code",
   "execution_count": null,
   "id": "5275147b",
   "metadata": {},
   "outputs": [],
   "source": [
    "plt.title(\"Language and pauses\", fontsize=15)\n",
    "list_children.groupby(['first_language'])['pauses'].sum().plot(kind = 'bar', figsize= (7,7), fontsize=15)\n",
    "plt.xlabel(\"First Language\", fontsize=15)\n",
    "plt.ylabel(\"Number of pauses\", fontsize=15)\n",
    "plt.show()\n",
    "\n",
    "plt.title(\"Language and average pauses\", fontsize=15)\n",
    "list_children.groupby(['first_language'])['pauses'].mean().plot(kind = 'bar', figsize= (7,7), fontsize=15)\n",
    "plt.xlabel(\"First Language\", fontsize=15)\n",
    "plt.ylabel(\"Average number of pauses\", fontsize=15)\n",
    "plt.show()"
   ]
  },
  {
   "cell_type": "markdown",
   "id": "7315f824",
   "metadata": {},
   "source": [
    "In total, children with Spanish as their primary made the most pauses.  On average, the children with Ukrainian as their primary made the most pauses."
   ]
  },
  {
   "cell_type": "code",
   "execution_count": null,
   "id": "16f6fa34",
   "metadata": {},
   "outputs": [],
   "source": [
    "plt.title(\"Language and total interruptions\", fontsize=15)\n",
    "list_children.groupby(['first_language'])['interrupts'].sum().plot(kind = 'bar', figsize= (7,7), fontsize=15)\n",
    "plt.xlabel(\"First Language\", fontsize=15)\n",
    "plt.ylabel(\"Number of interrupts\", fontsize=15)\n",
    "plt.show()\n",
    "\n",
    "plt.title(\"Language and average interruptions\", fontsize=15)\n",
    "list_children.groupby(['first_language'])['interrupts'].mean().plot(kind = 'bar', figsize= (7,7), fontsize=15)\n",
    "plt.xlabel(\"First Language\", fontsize=15)\n",
    "plt.ylabel(\"Average number of interrupts\", fontsize=15)\n",
    "plt.show()"
   ]
  },
  {
   "cell_type": "markdown",
   "id": "59965fb3",
   "metadata": {},
   "source": [
    "In total, children with Mandarin as their primary made the most interruptions.  On average, the children with Japanese as their primary made the most interruptions.\n",
    "\n",
    "Now, let's see the total amount of these three imperfections."
   ]
  },
  {
   "cell_type": "code",
   "execution_count": null,
   "id": "607586bd",
   "metadata": {},
   "outputs": [],
   "source": [
    "plt.title(\"Language and number of imperfections\", fontsize=15)\n",
    "list_children.groupby(['first_language'])['imperfections'].sum().plot(kind = 'bar', figsize= (7,7), fontsize=15)\n",
    "plt.xlabel(\"First Language\", fontsize=15)\n",
    "plt.ylabel(\"Total number of imperfections\", fontsize=15)\n",
    "plt.show()\n",
    "\n",
    "plt.title(\"Language and average amount of imperfections\", fontsize=15)\n",
    "list_children.groupby(['first_language'])['imperfections'].mean().plot(kind = 'bar', figsize= (7,7), fontsize=15)\n",
    "plt.xlabel(\"First Language\", fontsize=15)\n",
    "plt.ylabel(\"Average number of imperfections\", fontsize=15)\n",
    "plt.show()"
   ]
  },
  {
   "cell_type": "markdown",
   "id": "5443d31d",
   "metadata": {},
   "source": [
    "It appears that children with Mandarin made the most imperfections, followed by Spanish.  On average, however, children with Ukrainian made the most imperfections."
   ]
  },
  {
   "cell_type": "markdown",
   "id": "50eea25a",
   "metadata": {},
   "source": [
    "## Limitations\n",
    "\n",
    "One thing to be aware is that there is an uneven amount of representation for each language.  Mandarin and Spanish contains the most amount of children while Japanese, Ukrainian, Romanian and Korea only contains one child."
   ]
  }
 ],
 "metadata": {},
 "nbformat": 4,
 "nbformat_minor": 5
}
