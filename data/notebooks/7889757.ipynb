{
 "cells": [
  {
   "cell_type": "code",
   "execution_count": null,
   "id": "159c74f9",
   "metadata": {},
   "outputs": [],
   "source": [
    "import pandas as pd\n",
    "import numpy as np\n",
    "%matplotlib inline\n",
    "import seaborn as sns\n",
    "import matplotlib.pyplot as plt"
   ]
  },
  {
   "cell_type": "code",
   "execution_count": null,
   "id": "bbcaf66b",
   "metadata": {},
   "outputs": [],
   "source": [
    "!ls ../input/melbourne-housing/Melbourne_housing_extra_data.csv"
   ]
  },
  {
   "cell_type": "code",
   "execution_count": null,
   "id": "c4dfa8a6",
   "metadata": {},
   "outputs": [],
   "source": [
    "dataframe =  pd.read_csv(\"../input/melbourne-housing/Melbourne_housing_extra_data.csv\")\n"
   ]
  },
  {
   "cell_type": "code",
   "execution_count": null,
   "id": "157d1958",
   "metadata": {},
   "outputs": [],
   "source": [
    "dataframe.dtypes"
   ]
  },
  {
   "cell_type": "code",
   "execution_count": null,
   "id": "999666bf",
   "metadata": {},
   "outputs": [],
   "source": [
    "dataframe.head()"
   ]
  },
  {
   "cell_type": "code",
   "execution_count": null,
   "id": "70f5b226",
   "metadata": {},
   "outputs": [],
   "source": [
    "dataframe[\"Date\"] = pd.to_datetime(dataframe[\"Date\"],dayfirst=True)"
   ]
  },
  {
   "cell_type": "code",
   "execution_count": null,
   "id": "5cc8a319",
   "metadata": {},
   "outputs": [],
   "source": [
    "len(dataframe[\"Date\"].unique())/4"
   ]
  },
  {
   "cell_type": "code",
   "execution_count": null,
   "id": "ff0019cf",
   "metadata": {},
   "outputs": [],
   "source": [
    "var = dataframe[dataframe[\"Type\"]==\"h\"].sort_values(\"Date\", ascending=False).groupby(\"Date\").std()\n",
    "count = dataframe[dataframe[\"Type\"]==\"h\"].sort_values(\"Date\", ascending=False).groupby(\"Date\").count()\n",
    "mean = dataframe[dataframe[\"Type\"]==\"h\"].sort_values(\"Date\", ascending=False).groupby(\"Date\").mean()"
   ]
  },
  {
   "cell_type": "code",
   "execution_count": null,
   "id": "2e648f72",
   "metadata": {},
   "outputs": [],
   "source": [
    "mean[\"Price\"].plot(yerr=var[\"Price\"],ylim=(400000,1500000))"
   ]
  },
  {
   "cell_type": "code",
   "execution_count": null,
   "id": "e8210ee8",
   "metadata": {},
   "outputs": [],
   "source": [
    "means = dataframe[(dataframe[\"Type\"]==\"h\") & (dataframe[\"Distance\"]<13)].sort_values(\"Date\", ascending=False).groupby(\"Date\").mean()\n",
    "errors = dataframe[(dataframe[\"Type\"]==\"h\") & (dataframe[\"Distance\"]<13)].sort_values(\"Date\", ascending=False).groupby(\"Date\").std()"
   ]
  },
  {
   "cell_type": "code",
   "execution_count": null,
   "id": "fb26c13f",
   "metadata": {},
   "outputs": [],
   "source": [
    "means.drop([\"Price\",\n",
    "            \"Postcode\",\n",
    "            \n",
    "           \"Longtitude\",\"Lattitude\",\n",
    "           \"Distance\",\"BuildingArea\", \"Propertycount\",\"Landsize\",\"YearBuilt\"],axis=1).plot(yerr=errors)"
   ]
  },
  {
   "cell_type": "code",
   "execution_count": null,
   "id": "49ec4a13",
   "metadata": {},
   "outputs": [],
   "source": [
    "dataframe[dataframe[\"Type\"]==\"h\"].sort_values(\"Date\", ascending=False).groupby(\"Date\").mean()"
   ]
  },
  {
   "cell_type": "code",
   "execution_count": null,
   "id": "1e54f4f6",
   "metadata": {},
   "outputs": [],
   "source": [
    "pd.set_eng_float_format(accuracy=1, use_eng_prefix=True)\n",
    "dataframe[(dataframe[\"Type\"]==\"h\") & \n",
    "          (dataframe[\"Distance\"]<14) &\n",
    "          (dataframe[\"Distance\"]>13.7) \n",
    "          #&(dataframe[\"Suburb\"] ==\"Northcote\")\n",
    "         ].sort_values(\"Date\", ascending=False).dropna().groupby([\"Suburb\",\"SellerG\"]).mean()"
   ]
  },
  {
   "cell_type": "code",
   "execution_count": null,
   "id": "d65b35f6",
   "metadata": {},
   "outputs": [],
   "source": [
    "sns.kdeplot(dataframe[(dataframe[\"Suburb\"]==\"Northcote\")\n",
    "         & (dataframe[\"Type\"]==\"u\")\n",
    "         & (dataframe[\"Rooms\"] == 2)][\"Price\"])"
   ]
  },
  {
   "cell_type": "code",
   "execution_count": null,
   "id": "94f4fb1a",
   "metadata": {},
   "outputs": [],
   "source": [
    "plt.figure(figsize=(20,15))\n",
    "my_axis = sns.kdeplot(dataframe[\"Price\"][((dataframe[\"Type\"]==\"u\") &\n",
    "                                (dataframe[\"Distance\"]>8) &\n",
    "                                (dataframe[\"Distance\"]<10) &\n",
    "                                (dataframe[\"Rooms\"] > 2)#&\n",
    "                                #(dataframe[\"Price\"] < 1000000)\n",
    "                               )])\n",
    "my_axis.axis(xmin=0, xmax=2000000)"
   ]
  },
  {
   "cell_type": "code",
   "execution_count": null,
   "id": "b028869f",
   "metadata": {},
   "outputs": [],
   "source": [
    "sns.lmplot(\"Distance\",\"Price\",dataframe[(dataframe[\"Rooms\"]<=4) & \n",
    "                                         (dataframe[\"Rooms\"]> 2) & \n",
    "                                        (dataframe[\"Type\"]==\"h\") &\n",
    "                                        (dataframe[\"Price\"]< 1000000)\n",
    "                                       ].dropna(),hue=\"Rooms\", size=10)"
   ]
  },
  {
   "cell_type": "code",
   "execution_count": null,
   "id": "a5360439",
   "metadata": {},
   "outputs": [],
   "source": [
    "dataframe[(dataframe[\"Rooms\"]>2) & (dataframe[\"Type\"] == \"h\")& (dataframe[\"Landsize\"] <5000)][[\"Landsize\",\"Distance\"]].dropna().groupby(\"Distance\").mean().plot()"
   ]
  },
  {
   "cell_type": "code",
   "execution_count": null,
   "id": "5b893f81",
   "metadata": {},
   "outputs": [],
   "source": [
    "dataframe.columns"
   ]
  },
  {
   "cell_type": "code",
   "execution_count": null,
   "id": "7cb968b2",
   "metadata": {},
   "outputs": [],
   "source": [
    "sns.pairplot(dataframe.dropna())"
   ]
  },
  {
   "cell_type": "code",
   "execution_count": null,
   "id": "2f39fadb",
   "metadata": {},
   "outputs": [],
   "source": [
    "fig, ax = plt.subplots(figsize=(15,15)) \n",
    "sns.heatmap(dataframe[dataframe[\"Type\"] == \"h\"].corr(), annot=True)"
   ]
  },
  {
   "cell_type": "code",
   "execution_count": null,
   "id": "7617ab40",
   "metadata": {},
   "outputs": [],
   "source": [
    "from sklearn.cross_validation import train_test_split\n",
    "dataframe_dr = dataframe.dropna().sort_values(\"Date\")\n",
    "dataframe_dr = dataframe_dr\n",
    "\n"
   ]
  },
  {
   "cell_type": "code",
   "execution_count": null,
   "id": "9df0aa6c",
   "metadata": {},
   "outputs": [],
   "source": [
    "from datetime import date\n",
    "all_Data = []\n",
    "days_since_start = [(x - dataframe_dr[\"Date\"].min()).days for x in dataframe_dr[\"Date\"]]\n",
    "dataframe_dr[\"Days\"] = days_since_start\n",
    "suburb_dummies = pd.get_dummies(dataframe_dr[[\"Type\", \"Method\"]])\n",
    "all_Data = dataframe_dr.drop([\"Address\",\"Price\",\"Date\", \"SellerG\",\"Suburb\",\"Type\",\"Method\",\"CouncilArea\",\"Regionname\"],axis=1).join(suburb_dummies)\n"
   ]
  },
  {
   "cell_type": "code",
   "execution_count": null,
   "id": "1432a909",
   "metadata": {},
   "outputs": [],
   "source": [
    "X = all_Data\n",
    "y = dataframe_dr[\"Price\"]\n",
    "X_train, X_test, y_train, y_test = train_test_split(X, y, test_size=0.4)\n"
   ]
  },
  {
   "cell_type": "code",
   "execution_count": null,
   "id": "82cde142",
   "metadata": {},
   "outputs": [],
   "source": [
    "from sklearn.linear_model import LinearRegression\n",
    "lm = LinearRegression()\n",
    "lm.fit(X_train,y_train)\n",
    "print(lm.intercept_)"
   ]
  },
  {
   "cell_type": "code",
   "execution_count": null,
   "id": "3589c972",
   "metadata": {},
   "outputs": [],
   "source": [
    "X.columns\n",
    "coeff_df = pd.DataFrame(lm.coef_,X.columns,columns=['Coefficient'])\n",
    "ranked_suburbs = coeff_df.sort_values(\"Coefficient\", ascending = False)\n",
    "ranked_suburbs"
   ]
  },
  {
   "cell_type": "code",
   "execution_count": null,
   "id": "6737d417",
   "metadata": {},
   "outputs": [],
   "source": [
    "predictions = lm.predict(X_test)\n",
    "plt.scatter(y_test, predictions)\n",
    "plt.ylim([200000,1000000])\n",
    "plt.xlim([200000,1000000])"
   ]
  },
  {
   "cell_type": "code",
   "execution_count": null,
   "id": "469c4860",
   "metadata": {},
   "outputs": [],
   "source": [
    "sns.distplot((y_test-predictions),bins=50)"
   ]
  },
  {
   "cell_type": "code",
   "execution_count": null,
   "id": "1883240e",
   "metadata": {},
   "outputs": [],
   "source": [
    "from sklearn import metrics\n",
    "print(\"MAE:\", metrics.mean_absolute_error(y_test, predictions))\n",
    "print('MSE:', metrics.mean_squared_error(y_test, predictions))\n",
    "print('RMSE:', np.sqrt(metrics.mean_squared_error(y_test, predictions)))"
   ]
  }
 ],
 "metadata": {},
 "nbformat": 4,
 "nbformat_minor": 5
}
