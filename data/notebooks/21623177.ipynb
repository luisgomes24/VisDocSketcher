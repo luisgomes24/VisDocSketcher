{
 "cells": [
  {
   "cell_type": "markdown",
   "id": "b72580b2",
   "metadata": {},
   "source": [
    "## need time to load be patient "
   ]
  },
  {
   "cell_type": "code",
   "execution_count": null,
   "id": "bfec2622",
   "metadata": {},
   "outputs": [],
   "source": [
    "import pandas as pd\n",
    "import numpy as np"
   ]
  },
  {
   "cell_type": "code",
   "execution_count": null,
   "id": "bfa9b538",
   "metadata": {},
   "outputs": [],
   "source": [
    "data =pd.read_csv('/kaggle/input/SolarEnergy/SolarPrediction.csv')"
   ]
  },
  {
   "cell_type": "code",
   "execution_count": null,
   "id": "03210501",
   "metadata": {},
   "outputs": [],
   "source": [
    "data.head()"
   ]
  },
  {
   "cell_type": "code",
   "execution_count": null,
   "id": "b9046f22",
   "metadata": {},
   "outputs": [],
   "source": [
    "!pip install https://github.com/pandas-profiling/pandas-profiling/archive/master.zip"
   ]
  },
  {
   "cell_type": "code",
   "execution_count": null,
   "id": "f8deaccb",
   "metadata": {},
   "outputs": [],
   "source": [
    "from pandas_profiling import ProfileReport\n",
    "profile = ProfileReport(data, title=\"Pandas Profiling Report\",explorative=True)"
   ]
  },
  {
   "cell_type": "code",
   "execution_count": null,
   "id": "4c4b3fb0",
   "metadata": {},
   "outputs": [],
   "source": [
    "profile"
   ]
  },
  {
   "cell_type": "code",
   "execution_count": null,
   "id": "aaabd3e6",
   "metadata": {},
   "outputs": [],
   "source": [
    "data.isnull().sum()==0"
   ]
  },
  {
   "cell_type": "code",
   "execution_count": null,
   "id": "3b3ca393",
   "metadata": {},
   "outputs": [],
   "source": [
    "#Datetime Feature Engineering\n",
    "data.dtypes"
   ]
  },
  {
   "cell_type": "code",
   "execution_count": null,
   "id": "ac2c13ce",
   "metadata": {},
   "outputs": [],
   "source": [
    "data.head()"
   ]
  },
  {
   "cell_type": "code",
   "execution_count": null,
   "id": "aa554a48",
   "metadata": {},
   "outputs": [],
   "source": [
    "# data['Time'] = pd.to_datetime(data['Time'])"
   ]
  },
  {
   "cell_type": "code",
   "execution_count": null,
   "id": "0b050a1a",
   "metadata": {},
   "outputs": [],
   "source": [
    "data.head()"
   ]
  },
  {
   "cell_type": "markdown",
   "id": "ab9dfcf3",
   "metadata": {},
   "source": [
    "## Feature Engineering"
   ]
  },
  {
   "cell_type": "code",
   "execution_count": null,
   "id": "1cee6215",
   "metadata": {},
   "outputs": [],
   "source": [
    "data.drop(columns=['Data'],inplace=True)"
   ]
  },
  {
   "cell_type": "code",
   "execution_count": null,
   "id": "3d107aa5",
   "metadata": {},
   "outputs": [],
   "source": [
    "import re\n",
    "\n",
    "data['Time_Hour'] = data['Time'].apply(lambda x: re.search(r'^\\d+', x).group(0)).astype(np.int)\n",
    "data['Time_Minute'] = data['Time'].apply(lambda x: re.search(r'(?<=:)\\d+(?=:)', x).group(0)).astype(np.int)\n",
    "data['Time_Second'] = data['Time'].apply(lambda x: re.search(r'\\d+$', x).group(0)).astype(np.int)\n",
    "\n",
    "data = data.drop('Time', axis=1)"
   ]
  },
  {
   "cell_type": "code",
   "execution_count": null,
   "id": "20297db3",
   "metadata": {},
   "outputs": [],
   "source": [
    "data.head()"
   ]
  },
  {
   "cell_type": "code",
   "execution_count": null,
   "id": "db0fc57d",
   "metadata": {},
   "outputs": [],
   "source": [
    "data['SunriseHour'] = data['TimeSunRise'].apply(lambda x: re.search(r'^\\d+', x).group(0)).astype(np.int)\n",
    "data['SunriseMinute'] = data['TimeSunRise'].apply(lambda x: re.search(r'(?<=:)\\d+(?=:)', x).group(0)).astype(np.int)\n",
    "\n",
    "data['SunsetHour'] = data['TimeSunSet'].apply(lambda x: re.search(r'^\\d+', x).group(0)).astype(np.int)\n",
    "data['SunsetMinute'] = data['TimeSunSet'].apply(lambda x: re.search(r'(?<=:)\\d+(?=:)', x).group(0)).astype(np.int)\n",
    "\n",
    "data = data.drop(['TimeSunRise', 'TimeSunSet'], axis=1)"
   ]
  },
  {
   "cell_type": "code",
   "execution_count": null,
   "id": "e25898c9",
   "metadata": {},
   "outputs": [],
   "source": [
    "data.head()"
   ]
  },
  {
   "cell_type": "code",
   "execution_count": null,
   "id": "d1bdf068",
   "metadata": {},
   "outputs": [],
   "source": [
    "profile1 = ProfileReport(data, title=\"Pandas Profiling Report\",explorative=True)\n",
    "profile1"
   ]
  },
  {
   "cell_type": "code",
   "execution_count": null,
   "id": "036d7f1c",
   "metadata": {},
   "outputs": [],
   "source": [
    "data.drop(columns=['SunriseHour'],inplace=True)"
   ]
  },
  {
   "cell_type": "code",
   "execution_count": null,
   "id": "c79e57bd",
   "metadata": {},
   "outputs": [],
   "source": [
    "profile2 = ProfileReport(data, title=\"Pandas Profiling Report\",explorative=True)\n",
    "profile2"
   ]
  },
  {
   "cell_type": "code",
   "execution_count": null,
   "id": "b9010324",
   "metadata": {},
   "outputs": [],
   "source": [
    "y = data['Radiation']\n",
    "X = data.drop('Radiation', axis=1)"
   ]
  },
  {
   "cell_type": "code",
   "execution_count": null,
   "id": "79071c42",
   "metadata": {},
   "outputs": [],
   "source": [
    "from sklearn.model_selection import train_test_split\n",
    "X_train, X_test, y_train, y_test = train_test_split(X,y,test_size=.2, random_state=300,shuffle=True)"
   ]
  },
  {
   "cell_type": "code",
   "execution_count": null,
   "id": "9467000c",
   "metadata": {},
   "outputs": [],
   "source": [
    "from sklearn.ensemble import RandomForestRegressor\n",
    "regr = RandomForestRegressor(max_depth=25, random_state=3)\n",
    "regr.fit(X_train, y_train)\n"
   ]
  },
  {
   "cell_type": "code",
   "execution_count": null,
   "id": "f2dcb735",
   "metadata": {},
   "outputs": [],
   "source": [
    "regr.score(X_train, y_train)"
   ]
  },
  {
   "cell_type": "code",
   "execution_count": null,
   "id": "f4d455d7",
   "metadata": {},
   "outputs": [],
   "source": [
    "regr.score(X_test,y_test)"
   ]
  },
  {
   "cell_type": "code",
   "execution_count": null,
   "id": "4998f3ce",
   "metadata": {},
   "outputs": [],
   "source": [
    "nan"
   ]
  }
 ],
 "metadata": {},
 "nbformat": 4,
 "nbformat_minor": 5
}
