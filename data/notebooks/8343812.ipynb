{
 "cells": [
  {
   "cell_type": "markdown",
   "id": "7f4e5212",
   "metadata": {},
   "source": [
    "# PENGENALAN AWAL TENTANG DATA SCIENTIST\n",
    "\n",
    "Pengenalan ini akan dimulai dari pembentukan Series dan dilanjutkan pada Data Frame\n"
   ]
  },
  {
   "cell_type": "markdown",
   "id": "ddf5168f",
   "metadata": {},
   "source": [
    "# Import library pandas dan numpy"
   ]
  },
  {
   "cell_type": "code",
   "execution_count": null,
   "id": "f7576c04",
   "metadata": {},
   "outputs": [],
   "source": [
    "import pandas as pd\n",
    "import numpy as np\n",
    "from pandas import DataFrame"
   ]
  },
  {
   "cell_type": "markdown",
   "id": "49f5b803",
   "metadata": {},
   "source": [
    "# Series\n",
    "\n",
    "Series digunakan untuk membuat sebuah tabel yang hanya memiliki satu buah kolom"
   ]
  },
  {
   "cell_type": "code",
   "execution_count": null,
   "id": "c7d046b0",
   "metadata": {},
   "outputs": [],
   "source": [
    "pd.Series(np.random.rand(5), index=['Rista','Fajar','Dika','Edka','Faris'])"
   ]
  },
  {
   "cell_type": "markdown",
   "id": "90d5db9b",
   "metadata": {},
   "source": [
    "# Bedah Code\n",
    "\n",
    "1. code dibawah ini digunakan untuk memanggil pandas dan mendeklarasikan Series \n",
    "> pd.Series()\n",
    "\n",
    "2. memanggil angka secara acak(random) menggunakan numpy, gunakan code berikut :\n",
    "> pd.Series(np.random.rand(5))\n",
    "\n",
    "    mengindikasikan index data\n",
    "3. penggunaan index disini akan merubah index yang semulanya adalah angka menjadi index kustom, yaitu ['Rista', 'Fajar', 'Dika', 'Edka', 'Faris'], gunakan code berikut :\n",
    "> pd.Series(np.random.rand(5), index=['Rista', 'Fajar', 'Dika', 'Edka', 'Faris'])"
   ]
  },
  {
   "cell_type": "code",
   "execution_count": null,
   "id": "05ac5ce9",
   "metadata": {},
   "outputs": [],
   "source": [
    "a = pd.Series([1, 2, 3]).array\n",
    "b = pd.Series([2, 3, 4]).array\n",
    "print (a,b)"
   ]
  },
  {
   "cell_type": "markdown",
   "id": "b3ac1306",
   "metadata": {},
   "source": [
    "**BEDAH CODE**\n",
    "1. a dan b adalah parameter yang akan diisi dengan data yang akan dibuat series\n",
    "> a = ....\n",
    "> b = ....\n",
    "2. "
   ]
  },
  {
   "cell_type": "markdown",
   "id": "cf782458",
   "metadata": {},
   "source": [
    "# DATA FRAME\n",
    "DataFrame digunakan untuk mempermudahkan dalam membaca sebuah file dan menjadikannya table, kita juga dapat mengolah suatu data dengan menggunakan operasi seperti join, distinct, group by, agregasi, dan teknik lainnya yang terdapat pada SQL."
   ]
  },
  {
   "cell_type": "code",
   "execution_count": null,
   "id": "06c93d39",
   "metadata": {},
   "outputs": [],
   "source": [
    "cars = {'Brand': ['Honda Civic','Toyota Corolla','Ford Focus','Audi A4'],\n",
    "        'Price': [22000,25000,27000,35000]\n",
    "        }\n",
    "\n",
    "df = pd.DataFrame(cars, columns = ['Brand', 'Price'])\n",
    "\n",
    "max1 = df['Price'].max()\n",
    "print (max1,df)"
   ]
  },
  {
   "cell_type": "markdown",
   "id": "bb54fa97",
   "metadata": {},
   "source": [
    "cars = pd.read_excel(r'C:\\Users\\Ron\\Desktop\\Cars.xlsx')\n",
    "df = pd.DataFrame(cars, columns = ['Brand', 'Price'])\n",
    "\n",
    "ini digunakan untuk mengambil data dari excel, data frame digunakan untuk membuat sebuah tabel gitu deh.\n",
    "\n",
    "pip install xlrd\n",
    "ini digunakan untuk membuat dataframe dengan csv\n",
    "\n",
    "df = pd.read_csv (r'Path where the CSV file is stored\\File name.csv')\n",
    "untuk melihat isi dari csv\n",
    "\n",
    "\n",
    "--------------------------------------------\n",
    "import tkinter as tk\n",
    "from tkinter import filedialog\n",
    "import pandas as pd\n",
    "\n",
    "root= tk.Tk()\n",
    "\n",
    "canvas1 = tk.Canvas(root, width = 300, height = 300, bg = 'lightsteelblue2', relief = 'raised')\n",
    "canvas1.pack()\n",
    "\n",
    "def getCSV ():\n",
    "    global df\n",
    "    \n",
    "    import_file_path = filedialog.askopenfilename()\n",
    "    df = pd.read_csv (import_file_path)\n",
    "    print (df)\n",
    "    \n",
    "browseButton_CSV = tk.Button(text=\"      Import CSV File     \", command=getCSV, bg='green', fg='white', font=('helvetica', 12, 'bold'))\n",
    "canvas1.create_window(150, 150, window=browseButton_CSV)\n",
    "\n",
    "root.mainloop()\n",
    "\n",
    "ini digunakan untuk GUI nya"
   ]
  },
  {
   "cell_type": "code",
   "execution_count": null,
   "id": "52f4e2e8",
   "metadata": {},
   "outputs": [],
   "source": [
    "numbers = {'set_of_numbers': [1,2,3,4,5,6,7,8,9,10,np.nan,np.nan]}\n",
    "df = DataFrame(numbers,columns=['set_of_numbers'])\n",
    "print (df)"
   ]
  },
  {
   "cell_type": "markdown",
   "id": "5e8b2610",
   "metadata": {},
   "source": [
    "karena 0 atau tidak ada nilainua akan di tulis NaN makanya hasilnya seperti itu"
   ]
  },
  {
   "cell_type": "code",
   "execution_count": null,
   "id": "5204a7e0",
   "metadata": {},
   "outputs": [],
   "source": [
    "df.loc[df['set_of_numbers'].isnull(), 'set_of_numbers'] = 0\n",
    "print (df)"
   ]
  },
  {
   "cell_type": "markdown",
   "id": "5235c41c",
   "metadata": {},
   "source": [
    "ini digunakan untuk menghilangkan NaN atau menjadi 0 atau bisa dikatakan diganti"
   ]
  },
  {
   "cell_type": "markdown",
   "id": "ff6ef8be",
   "metadata": {},
   "source": [
    "Cara menghitung biseksi atau Metode Bagi Dua\n",
    "contoh soal adalahf (x) = 16x^3 − 22x + 9 dengan selang tebakan awal [-2,-1] atau a = -2 dan b = -1 hingga galatnya lebih kecil dari 10^−4 (0,001) atau maksimal 8 iterasi"
   ]
  },
  {
   "cell_type": "markdown",
   "id": "6877e59d",
   "metadata": {},
   "source": [
    "# Akar Persamaan Non Linear"
   ]
  },
  {
   "cell_type": "code",
   "execution_count": null,
   "id": "2dfbd1a9",
   "metadata": {},
   "outputs": [],
   "source": [
    "def f(x):\n",
    "    return (16*(x**3))-(22*x)+9\n",
    "a = np.zeros(40)\n",
    "b = np.zeros(40)\n",
    "c = np.zeros(40)\n",
    "\n",
    "a[0] = 0.7\n",
    "b[0] = 1\n",
    "\n",
    "c[0] = (a[0]+b[0])/2"
   ]
  },
  {
   "cell_type": "markdown",
   "id": "0933a4d9",
   "metadata": {},
   "source": [
    "# Bedah Code\n",
    "1. \n",
    "2. zero dan once digunakan ketika ingin menginisialisasi bobot selama iterasi yang pertama di TensorFlow dan tugas statistik lainnya.\n",
    "> a = np.zeros(40)\n",
    "Rumus\n",
    "> numpy.zeros(shape, dtype=float, order='C')\n",
    " * Shape adalah bentuk array yang digunakan\n",
    " * dtype adalah data type isinya opsional dan value defaultnya adalah float64\n",
    " * "
   ]
  },
  {
   "cell_type": "markdown",
   "id": "c026efc3",
   "metadata": {},
   "source": [
    "mendefinisikan a,b,c sebagai array kosong dengan menulis np.zeros dengan ukuran yang saya pakai adalah 40\n",
    "lalu a[0] dan b[0] ini adalah nilai awal, lalu rumusnya c atau m yaitu a+b/2 . "
   ]
  },
  {
   "cell_type": "code",
   "execution_count": null,
   "id": "85c9711b",
   "metadata": {},
   "outputs": [],
   "source": [
    "for n in range(39):\n",
    "    if f(a[n])*f(c[n])<0:\n",
    "        a[n+1]=a[n]\n",
    "        b[n+1]=c[n]\n",
    "    else:\n",
    "        a[n+1]=c[n]\n",
    "        b[n+1]=b[n]\n",
    "    c[n+1]=(a[n+1]+b[n+1])/2\n",
    "    print(c[n+1],f(c[n+1]))\n",
    "        "
   ]
  },
  {
   "cell_type": "markdown",
   "id": "7a9af256",
   "metadata": {},
   "source": [
    "di for ini saya membuat 40 anggota lalu jika fa x fc = - maka fa = c yang dimana kalau + maka fb = c. hasilnya kita dapat yang mendekati 0 adalah -0.00029338744355555946 atau line 16 errornya, ini adalah nilai yang kita bisa ketahui awal error "
   ]
  },
  {
   "cell_type": "code",
   "execution_count": null,
   "id": "c8c65c43",
   "metadata": {},
   "outputs": [],
   "source": [
    "c[-1]"
   ]
  },
  {
   "cell_type": "markdown",
   "id": "ed5d43d4",
   "metadata": {},
   "source": [
    "Untuk mengecek nilai akhir"
   ]
  },
  {
   "cell_type": "code",
   "execution_count": null,
   "id": "a3fb0a88",
   "metadata": {},
   "outputs": [],
   "source": [
    "f(c[-1])"
   ]
  },
  {
   "cell_type": "markdown",
   "id": "4872d3b8",
   "metadata": {},
   "source": [
    "karena dilihat adalah -12 atau 10^-12 atau ada sebanyak 12 nolnya didepan."
   ]
  },
  {
   "cell_type": "code",
   "execution_count": null,
   "id": "ede244a7",
   "metadata": {},
   "outputs": [],
   "source": [
    "nan"
   ]
  }
 ],
 "metadata": {},
 "nbformat": 4,
 "nbformat_minor": 5
}
