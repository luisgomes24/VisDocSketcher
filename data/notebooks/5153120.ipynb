{
 "cells": [
  {
   "cell_type": "markdown",
   "id": "db3f6ae3",
   "metadata": {},
   "source": [
    "## Walkthrough 5-1: Aggregating Data"
   ]
  },
  {
   "cell_type": "code",
   "execution_count": null,
   "id": "1d40834a",
   "metadata": {},
   "outputs": [],
   "source": [
    "import pandas as pd\n",
    "\n",
    "pd.options.display.max_rows = 15"
   ]
  },
  {
   "cell_type": "code",
   "execution_count": null,
   "id": "bf768631",
   "metadata": {},
   "outputs": [],
   "source": [
    "# Import clean transaction data\n",
    "df = pd.read_excel('../input/transactions_clean.xlsx')"
   ]
  },
  {
   "cell_type": "code",
   "execution_count": null,
   "id": "2fc6e61f",
   "metadata": {},
   "outputs": [],
   "source": [
    "## Calculate the mean, and median of the quantity_sold and mean of the total_net_amount by date and item_name\n",
    "g = df.groupby(['date','item_name'])\n",
    "g.agg({'quantity_sold':['mean','median'],\n",
    "       'total_net_amount':'mean'})"
   ]
  },
  {
   "cell_type": "code",
   "execution_count": null,
   "id": "b835079c",
   "metadata": {},
   "outputs": [],
   "source": [
    "## Calculate total dollars sold for each day\n",
    "totals_df = df.groupby('date').agg({'total_amount':'sum'})\n",
    "display(totals_df.head())\n",
    "\n",
    "## Calculate total dollars sold for each day by product\n",
    "sums_df = df.groupby(['date','item_name']).agg({'total_amount':'sum'})\n",
    "display(sums_df.head())\n",
    "\n",
    "## Calculate sales mix for each product\n",
    "(sums_df/totals_df).head()"
   ]
  },
  {
   "cell_type": "code",
   "execution_count": null,
   "id": "e3ccf04d",
   "metadata": {},
   "outputs": [],
   "source": [
    "df.pivot_table(values=['quantity_sold','total_amount'],\n",
    "               index=['date'],\n",
    "               columns=['item_name'],\n",
    "               aggfunc=['sum'],\n",
    "               fill_value='-')"
   ]
  }
 ],
 "metadata": {},
 "nbformat": 4,
 "nbformat_minor": 5
}
