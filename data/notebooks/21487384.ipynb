{
 "cells": [
  {
   "cell_type": "code",
   "execution_count": null,
   "id": "3b55eab6",
   "metadata": {},
   "outputs": [],
   "source": [
    "# This Python 3 environment comes with many helpful analytics libraries installed\n",
    "# It is defined by the kaggle/python Docker image: https://github.com/kaggle/docker-python\n",
    "# For example, here's several helpful packages to load\n",
    "\n",
    "import numpy as np # linear algebra\n",
    "import pandas as pd # data processing, CSV file I/O (e.g. pd.read_csv)\n",
    "\n",
    "# Input data files are available in the read-only \"../input/\" directory\n",
    "# For example, running this (by clicking run or pressing Shift+Enter) will list all files under the input directory\n",
    "\n",
    "import os\n",
    "for dirname, _, filenames in os.walk('/kaggle/input'):\n",
    "    for filename in filenames:\n",
    "        print(os.path.join(dirname, filename))\n",
    "\n",
    "# You can write up to 20GB to the current directory (/kaggle/working/) that gets preserved as output when you create a version using \"Save & Run All\" \n",
    "# You can also write temporary files to /kaggle/temp/, but they won't be saved outside of the current session"
   ]
  },
  {
   "cell_type": "code",
   "execution_count": null,
   "id": "ae798aad",
   "metadata": {},
   "outputs": [],
   "source": [
    "import pandas as pd\n",
    "import seaborn as sns\n",
    "import numpy as np\n",
    "import matplotlib.pyplot as pplt\n"
   ]
  },
  {
   "cell_type": "code",
   "execution_count": null,
   "id": "1b96470b",
   "metadata": {},
   "outputs": [],
   "source": [
    "#load the csv file\n",
    "pokeman=pd.read_csv('../input/pokeman/pokemon.csv')"
   ]
  },
  {
   "cell_type": "code",
   "execution_count": null,
   "id": "2c41ec10",
   "metadata": {},
   "outputs": [],
   "source": [
    "#let look at the first 10 rows with pandas head function\n",
    "\n",
    "pokeman.head(10)"
   ]
  },
  {
   "cell_type": "code",
   "execution_count": null,
   "id": "240f997d",
   "metadata": {},
   "outputs": [],
   "source": [
    "#let look at the number of rows and columns using pandas shape attribute\n",
    "pokeman.shape"
   ]
  },
  {
   "cell_type": "code",
   "execution_count": null,
   "id": "2e150097",
   "metadata": {},
   "outputs": [],
   "source": [
    "# 800 rows\n",
    "# 13 columns\n",
    "pokeman.columns"
   ]
  },
  {
   "cell_type": "code",
   "execution_count": null,
   "id": "14a8dc49",
   "metadata": {},
   "outputs": [],
   "source": [
    "# Let create a bar chart for generation by using seaborn countplot function\n",
    "sns.countplot(data=pokeman, x='Generation');"
   ]
  },
  {
   "cell_type": "code",
   "execution_count": null,
   "id": "8ee07842",
   "metadata": {},
   "outputs": [],
   "source": [
    "#let fixed the color as it makes viewing of the plot a little had to read\n",
    "bar_color=sns.color_palette()[0]"
   ]
  },
  {
   "cell_type": "code",
   "execution_count": null,
   "id": "360e5069",
   "metadata": {},
   "outputs": [],
   "source": [
    "sns.countplot(data=pokeman, x='Generation', color=bar_color);"
   ]
  },
  {
   "cell_type": "code",
   "execution_count": null,
   "id": "4ba19341",
   "metadata": {},
   "outputs": [],
   "source": [
    "# Now let sort the generation\n",
    "pokemon_sort=pokeman['Generation'].value_counts().index"
   ]
  },
  {
   "cell_type": "code",
   "execution_count": null,
   "id": "4d1c2f4b",
   "metadata": {},
   "outputs": [],
   "source": [
    "sns.countplot(data=pokeman, x='Generation', order=pokemon_sort, color=bar_color);"
   ]
  },
  {
   "cell_type": "markdown",
   "id": "abbd842e",
   "metadata": {},
   "source": [
    "- it turns out the pokemon with the most generation was in 1, 5 and 3\n",
    "-  while 6 has the least"
   ]
  },
  {
   "cell_type": "markdown",
   "id": "c679f840",
   "metadata": {},
   "source": [
    "# now let take a look at pokemon type"
   ]
  },
  {
   "cell_type": "code",
   "execution_count": null,
   "id": "3ec0c0e4",
   "metadata": {},
   "outputs": [],
   "source": [
    "# we can either rotate the the bar plot 90 with matplotlib xticks function or\n",
    "# change the x value to y in the countplot function\n",
    "sns.countplot(data=pokeman, y='Type 1', color=bar_color, order=pokeman['Type 1'].value_counts().index);"
   ]
  },
  {
   "cell_type": "code",
   "execution_count": null,
   "id": "446c6179",
   "metadata": {},
   "outputs": [],
   "source": [
    "# we can see water has the most in type and flying the least"
   ]
  },
  {
   "cell_type": "markdown",
   "id": "1fea4f4b",
   "metadata": {},
   "source": [
    "# few points\n",
    "- Start the plot from zero\n",
    "- with ordered categorical sorting must not be done base on frequency"
   ]
  },
  {
   "cell_type": "code",
   "execution_count": null,
   "id": "fe0f4f37",
   "metadata": {},
   "outputs": [],
   "source": [
    "nan"
   ]
  }
 ],
 "metadata": {},
 "nbformat": 4,
 "nbformat_minor": 5
}
