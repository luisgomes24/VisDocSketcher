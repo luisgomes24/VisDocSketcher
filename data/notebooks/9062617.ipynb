{
 "cells": [
  {
   "cell_type": "code",
   "execution_count": null,
   "id": "d4035cc5",
   "metadata": {},
   "outputs": [],
   "source": [
    "import pandas as pd\n",
    "from pandas_profiling import ProfileReport"
   ]
  },
  {
   "cell_type": "code",
   "execution_count": null,
   "id": "25ec6ff1",
   "metadata": {},
   "outputs": [],
   "source": [
    "train = pd.read_csv('../input/prostate-cancer-grade-assessment/train.csv')"
   ]
  },
  {
   "cell_type": "code",
   "execution_count": null,
   "id": "e7e17ef8",
   "metadata": {},
   "outputs": [],
   "source": [
    "profile = ProfileReport(train, title='Train Profiling Report')\n",
    "# profile = ProfileReport(train, title='Titanic Train Minimal Profiling Report', minimal=True)"
   ]
  },
  {
   "cell_type": "code",
   "execution_count": null,
   "id": "5204233a",
   "metadata": {},
   "outputs": [],
   "source": [
    "profile.to_file(output_file=\"ProfileReport_train.html\")"
   ]
  },
  {
   "cell_type": "code",
   "execution_count": null,
   "id": "286f58c6",
   "metadata": {},
   "outputs": [],
   "source": [
    "profile.to_widgets()"
   ]
  },
  {
   "cell_type": "code",
   "execution_count": null,
   "id": "c25a336b",
   "metadata": {},
   "outputs": [],
   "source": [
    "profile.to_notebook_iframe()"
   ]
  },
  {
   "cell_type": "code",
   "execution_count": null,
   "id": "dd94fed2",
   "metadata": {},
   "outputs": [],
   "source": [
    "test = pd.read_csv('../input/prostate-cancer-grade-assessment/test.csv')"
   ]
  },
  {
   "cell_type": "code",
   "execution_count": null,
   "id": "aece06cf",
   "metadata": {},
   "outputs": [],
   "source": [
    "profile_test = ProfileReport(test, title='Test Profiling Report')\n",
    "# profile_test = ProfileReport(train, title='Titanic Test Minimal Profiling Report', minimal=True)"
   ]
  },
  {
   "cell_type": "code",
   "execution_count": null,
   "id": "d7e85938",
   "metadata": {},
   "outputs": [],
   "source": [
    "profile_test.to_file(output_file=\"ProfileReport_test.html\")"
   ]
  },
  {
   "cell_type": "code",
   "execution_count": null,
   "id": "98bb2439",
   "metadata": {},
   "outputs": [],
   "source": [
    "profile_test.to_widgets()"
   ]
  },
  {
   "cell_type": "code",
   "execution_count": null,
   "id": "dbb3b42e",
   "metadata": {},
   "outputs": [],
   "source": [
    "profile_test.to_notebook_iframe()"
   ]
  },
  {
   "cell_type": "code",
   "execution_count": null,
   "id": "eee8f9ae",
   "metadata": {},
   "outputs": [],
   "source": [
    "nan"
   ]
  }
 ],
 "metadata": {},
 "nbformat": 4,
 "nbformat_minor": 5
}
