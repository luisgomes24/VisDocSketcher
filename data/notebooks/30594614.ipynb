{
 "cells": [
  {
   "cell_type": "code",
   "execution_count": null,
   "id": "cc57d9df",
   "metadata": {},
   "outputs": [],
   "source": [
    "import numpy as np # linear algebra\n",
    "import pandas as pd # data processing, CSV file I/O (e.g. pd.read_csv)\n",
    "import os\n",
    "\n",
    "for dirname, _, filenames in os.walk('/kaggle/input'):\n",
    "    for filename in filenames:\n",
    "        print(os.path.join(dirname, filename))\n",
    "file_path = '/kaggle/input/currency-exchange-rates/exchange_rates.csv'"
   ]
  },
  {
   "cell_type": "markdown",
   "id": "8c4c2911",
   "metadata": {},
   "source": [
    "# 📙 1. Load data"
   ]
  },
  {
   "cell_type": "code",
   "execution_count": null,
   "id": "ca7e3f5a",
   "metadata": {},
   "outputs": [],
   "source": [
    "dataset = pd.read_csv(file_path, parse_dates=['date'], index_col = 0)\n",
    "dataset.head()"
   ]
  },
  {
   "cell_type": "code",
   "execution_count": null,
   "id": "8b04ee99",
   "metadata": {},
   "outputs": [],
   "source": [
    "# some insight about whole dataset\n",
    "dataset.describe()"
   ]
  },
  {
   "cell_type": "markdown",
   "id": "98461504",
   "metadata": {},
   "source": [
    "# 📙 2. EDA on Currency data"
   ]
  },
  {
   "cell_type": "markdown",
   "id": "7fc136f9",
   "metadata": {},
   "source": [
    "## 2.1 First check if any null values present"
   ]
  },
  {
   "cell_type": "code",
   "execution_count": null,
   "id": "8aeac2db",
   "metadata": {},
   "outputs": [],
   "source": [
    "dataset.isnull().sum()"
   ]
  },
  {
   "cell_type": "markdown",
   "id": "e1e86cfe",
   "metadata": {},
   "source": [
    "## 2.2 Types of Currency data present"
   ]
  },
  {
   "cell_type": "code",
   "execution_count": null,
   "id": "aa69f380",
   "metadata": {},
   "outputs": [],
   "source": [
    "dataset['currency'].unique()"
   ]
  },
  {
   "cell_type": "code",
   "execution_count": null,
   "id": "18759364",
   "metadata": {},
   "outputs": [],
   "source": [
    "# Print currency names\n",
    "dataset['Country/Currency'].unique()"
   ]
  },
  {
   "cell_type": "code",
   "execution_count": null,
   "id": "c8b64ae2",
   "metadata": {},
   "outputs": [],
   "source": [
    "unique_country = list(dataset['Country/Currency'].unique())\n",
    "unique_currency = list(dataset['currency'].unique())\n",
    "for x in range(len(unique_country)):\n",
    "    print('Country name: {0} -> Currency: {1}'.format(unique_country[x], unique_currency[x]))"
   ]
  },
  {
   "cell_type": "markdown",
   "id": "8621aa83",
   "metadata": {},
   "source": [
    "## 2.3 Pickup some country code for time series analysis\n",
    "\n",
    "    1. USA Dollar -> USD\n",
    "    2. India Rupee -> INR"
   ]
  },
  {
   "cell_type": "code",
   "execution_count": null,
   "id": "36e8a5f5",
   "metadata": {},
   "outputs": [],
   "source": [
    "data_usd = dataset.loc[dataset.currency == 'USD']\n",
    "data_usd.head()"
   ]
  },
  {
   "cell_type": "markdown",
   "id": "45473a43",
   "metadata": {},
   "source": [
    "## 2.4 Let's Visualize"
   ]
  },
  {
   "cell_type": "code",
   "execution_count": null,
   "id": "a7b7b1de",
   "metadata": {},
   "outputs": [],
   "source": [
    "from IPython.display import HTML, display"
   ]
  },
  {
   "cell_type": "code",
   "execution_count": null,
   "id": "34f6b008",
   "metadata": {},
   "outputs": [],
   "source": [
    "display_usd = HTML(\n",
    "'''\n",
    "<iframe src='https://flo.uri.sh/visualisation/11270785/embed' title='Interactive or visual content'\n",
    "class='flourish-embed-iframe' frameborder='0' scrolling='no' style='width:100%;height:600px;' \n",
    "    sandbox='allow-same-origin allow-forms allow-scripts allow-downloads allow-popups allow-popups-to-escape-sandbox allow-top-navigation-by-user-activation'></iframe>\n",
    "    <div style='width:100%!;margin-top:4px!important;text-align:right!important;'>\n",
    "    <a class='flourish-credit' href='https://public.flourish.studio/visualisation/11270785/?utm_source=embed&utm_campaign=visualisation/11270785' target='_top' style='text-decoration:none!important'>\n",
    "    <img alt='Made with Flourish' src='https://public.flourish.studio/resources/made_with_flourish.svg' style='width:105px!important;height:16px!important;border:none!important;margin:0!important;'> \n",
    "    </a></div>\n",
    "'''\n",
    ")\n",
    "\n",
    "display_inr = HTML(\n",
    "'''\n",
    "<iframe src='https://flo.uri.sh/visualisation/11270830/embed' title='Interactive or visual content'\n",
    "class='flourish-embed-iframe' frameborder='0' scrolling='no' style='width:100%;height:600px;' \n",
    "    sandbox='allow-same-origin allow-forms allow-scripts allow-downloads allow-popups allow-popups-to-escape-sandbox allow-top-navigation-by-user-activation'></iframe>\n",
    "    <div style='width:100%!;margin-top:4px!important;text-align:right!important;'>\n",
    "    <a class='flourish-credit' href='https://public.flourish.studio/visualisation/11270830/?utm_source=embed&utm_campaign=visualisation/11270830' target='_top' style='text-decoration:none!important'>\n",
    "    <img alt='Made with Flourish' src='https://public.flourish.studio/resources/made_with_flourish.svg' style='width:105px!important;height:16px!important;border:none!important;margin:0!important;'> \n",
    "    </a></div>\n",
    "'''\n",
    ")"
   ]
  },
  {
   "cell_type": "markdown",
   "id": "6ae54eaa",
   "metadata": {},
   "source": [
    "## 2.5 Visualize USD Value"
   ]
  },
  {
   "cell_type": "code",
   "execution_count": null,
   "id": "20391773",
   "metadata": {},
   "outputs": [],
   "source": [
    "display(display_usd)"
   ]
  },
  {
   "cell_type": "code",
   "execution_count": null,
   "id": "5e7b3750",
   "metadata": {},
   "outputs": [],
   "source": [
    "data_inr = dataset.loc[dataset.currency == 'INR']\n",
    "data_inr.head()"
   ]
  },
  {
   "cell_type": "markdown",
   "id": "1d6e4e89",
   "metadata": {},
   "source": [
    "## 2.6 Visualize INR Value"
   ]
  },
  {
   "cell_type": "code",
   "execution_count": null,
   "id": "8fbe5617",
   "metadata": {},
   "outputs": [],
   "source": [
    "display(display_inr)"
   ]
  },
  {
   "cell_type": "markdown",
   "id": "e7245c32",
   "metadata": {},
   "source": [
    "# 📙 3. Time series Analysis - INR value"
   ]
  },
  {
   "cell_type": "code",
   "execution_count": null,
   "id": "8035243a",
   "metadata": {},
   "outputs": [],
   "source": [
    "data_inr.index = data_inr['date']\n",
    "data_inr.drop(['date', 'Country/Currency', 'currency'], axis = 1, inplace = True)\n",
    "data_inr.head()\n"
   ]
  },
  {
   "cell_type": "markdown",
   "id": "c3d8fe73",
   "metadata": {},
   "source": [
    "## 3.1 Check for Stationarity - ADF Test"
   ]
  },
  {
   "cell_type": "code",
   "execution_count": null,
   "id": "cafc2632",
   "metadata": {},
   "outputs": [],
   "source": [
    "from statsmodels.tsa.stattools import adfuller\n",
    "\n",
    "result = adfuller(data_inr['value'].values, autolag='AIC')\n",
    "print(f'ADF Statistic: {result[0]}')\n",
    "print(f'p-value: {result[1]}')\n",
    "for key, value in result[4].items():\n",
    "    print('Critial Values:')\n",
    "    print(f'   {key}, {value}')"
   ]
  },
  {
   "cell_type": "markdown",
   "id": "4a284a74",
   "metadata": {},
   "source": [
    "## Obs - \n",
    "\n",
    "    From ADF test, it's observed that, data is not stationary. \n",
    "    We can see p-value is 30% (usually it must be less than 0.05 or 5%), \n",
    "    and ADF-stat value is greater than all the critical values. \n",
    "    \n",
    "    Both these values confirms the data to be Non-Stationary"
   ]
  },
  {
   "cell_type": "markdown",
   "id": "f6cc337d",
   "metadata": {},
   "source": [
    "## 3.2 ACF and PACF Plot"
   ]
  },
  {
   "cell_type": "code",
   "execution_count": null,
   "id": "c4c5f6b3",
   "metadata": {},
   "outputs": [],
   "source": [
    "from statsmodels.graphics.tsaplots import plot_acf\n",
    "from statsmodels.graphics.tsaplots import plot_pacf\n",
    "import matplotlib.pyplot as plt\n",
    "\n",
    "plt.rc(\"figure\", figsize=(10,5))\n",
    "plot_acf(data_inr['value'])\n",
    "print()"
   ]
  },
  {
   "cell_type": "markdown",
   "id": "8684bb27",
   "metadata": {},
   "source": [
    "## Obs - \n",
    "\n",
    "    From ACF, we can observe a auto-correlation upto 25 lag values"
   ]
  },
  {
   "cell_type": "code",
   "execution_count": null,
   "id": "956a89f9",
   "metadata": {},
   "outputs": [],
   "source": [
    "plt.rc(\"figure\", figsize=(10,5))\n",
    "plot_pacf(data_inr['value'])\n",
    "print()"
   ]
  },
  {
   "cell_type": "markdown",
   "id": "a64e8ee4",
   "metadata": {},
   "source": [
    "## Obs - \n",
    "\n",
    "    Partial auto-correlation shows only few lag values are actually correlated. "
   ]
  },
  {
   "cell_type": "markdown",
   "id": "81343dec",
   "metadata": {},
   "source": [
    "# 📙 4. Price forecasting"
   ]
  },
  {
   "cell_type": "markdown",
   "id": "5fdb1f86",
   "metadata": {},
   "source": [
    "## 4.1 Train - Test Split"
   ]
  },
  {
   "cell_type": "code",
   "execution_count": null,
   "id": "89b6f632",
   "metadata": {},
   "outputs": [],
   "source": [
    "data = data_inr['value'].values\n",
    "print('Shape of data: ', data.shape)"
   ]
  },
  {
   "cell_type": "markdown",
   "id": "53b1ab7c",
   "metadata": {},
   "source": [
    "## Obs - \n",
    "\n",
    "    Very few data points are available, so we will go for either ARIMA or LSTM with fewer nodes. "
   ]
  },
  {
   "cell_type": "code",
   "execution_count": null,
   "id": "81878eb0",
   "metadata": {},
   "outputs": [],
   "source": [
    "# Separate train and test data\n",
    "train_length = int(len(data) * 0.8)\n",
    "print('Train length: ', train_length)\n",
    "\n",
    "train_data, test_data = data[:train_length], data[train_length:]\n",
    "print('Shape of Train and Test data: ', len(train_data), len(test_data))"
   ]
  },
  {
   "cell_type": "markdown",
   "id": "3abf79bf",
   "metadata": {},
   "source": [
    "## 4.2 Make time-series data supervised"
   ]
  },
  {
   "cell_type": "code",
   "execution_count": null,
   "id": "408ca746",
   "metadata": {},
   "outputs": [],
   "source": [
    "# split a univariate sequence into supervised learning [Input and Output]\n",
    "from numpy import array\n",
    "def split_sequence(sequence, n_steps):\n",
    "    X, y = list(), list()\n",
    "    for i in range(len(sequence)):\n",
    "        end_ix = i + n_steps\n",
    "        if end_ix > len(sequence)-1:\n",
    "            break\n",
    "        seq_x, seq_y = sequence[i:end_ix], sequence[end_ix]\n",
    "        X.append(seq_x)\n",
    "        y.append(seq_y)\n",
    "    return array(X), array(y)"
   ]
  },
  {
   "cell_type": "markdown",
   "id": "f3958671",
   "metadata": {},
   "source": [
    "## 4.3 Choose Lag value"
   ]
  },
  {
   "cell_type": "code",
   "execution_count": null,
   "id": "8061cde5",
   "metadata": {},
   "outputs": [],
   "source": [
    "lag = 3  # Empirically we have choosen\n",
    "n_features = 1"
   ]
  },
  {
   "cell_type": "code",
   "execution_count": null,
   "id": "2ffe940c",
   "metadata": {},
   "outputs": [],
   "source": [
    "train_X, train_y = split_sequence(train_data, lag)\n",
    "test_X, test_y = split_sequence(test_data, lag)"
   ]
  },
  {
   "cell_type": "code",
   "execution_count": null,
   "id": "5b8855f8",
   "metadata": {},
   "outputs": [],
   "source": [
    "print('Shape of train_X and train_y: ', train_X.shape, train_y.shape)\n",
    "print('Shape of test_X and test_y: ', test_X.shape, test_y.shape)"
   ]
  },
  {
   "cell_type": "code",
   "execution_count": null,
   "id": "0f17697d",
   "metadata": {},
   "outputs": [],
   "source": [
    "train_X = train_X.reshape((train_X.shape[0], train_X.shape[1], n_features))\n",
    "test_X = test_X.reshape((test_X.shape[0], test_X.shape[1], n_features))"
   ]
  },
  {
   "cell_type": "code",
   "execution_count": null,
   "id": "542e2299",
   "metadata": {},
   "outputs": [],
   "source": [
    "# New shape of train_X and test_X are :-\n",
    "print('Shape of train_X and train_y: ', train_X.shape, train_y.shape)\n",
    "print('Shape of test_X and test_y: ', test_X.shape, test_y.shape)\n"
   ]
  },
  {
   "cell_type": "markdown",
   "id": "7b83f904",
   "metadata": {},
   "source": [
    "## 4.4 Define Model"
   ]
  },
  {
   "cell_type": "code",
   "execution_count": null,
   "id": "b0e8a71a",
   "metadata": {},
   "outputs": [],
   "source": [
    "from keras.models import Sequential\n",
    "from keras.layers import LSTM\n",
    "from keras.layers import Dense"
   ]
  },
  {
   "cell_type": "code",
   "execution_count": null,
   "id": "bbcf0b1a",
   "metadata": {},
   "outputs": [],
   "source": [
    "# define model\n",
    "model = Sequential()\n",
    "model.add(LSTM(16, activation='relu', return_sequences=False, input_shape=(lag, n_features)))\n",
    "model.add(Dense(1))\n",
    "model.compile(optimizer='adam', loss='mse')\n",
    "model.summary()"
   ]
  },
  {
   "cell_type": "markdown",
   "id": "d3f36bc0",
   "metadata": {},
   "source": [
    "## 4.5 Fit the model - with training data"
   ]
  },
  {
   "cell_type": "code",
   "execution_count": null,
   "id": "e81166dd",
   "metadata": {},
   "outputs": [],
   "source": [
    "# As you are trying to use function decorator in TF 2.0, \n",
    "# please enable run function eagerly by using below line after importing TensorFlow:\n",
    "import tensorflow as tf\n",
    "tf.config.run_functions_eagerly(True)"
   ]
  },
  {
   "cell_type": "code",
   "execution_count": null,
   "id": "9933fb62",
   "metadata": {},
   "outputs": [],
   "source": [
    "# fit model\n",
    "history = model.fit(train_X, train_y, epochs = 25, batch_size=8, verbose=1, validation_split= 0.1)"
   ]
  },
  {
   "cell_type": "markdown",
   "id": "1091e052",
   "metadata": {},
   "source": [
    "## 4.6 Summarize model Loss"
   ]
  },
  {
   "cell_type": "code",
   "execution_count": null,
   "id": "bb9067ae",
   "metadata": {},
   "outputs": [],
   "source": [
    "# summarize history for loss\n",
    "plt.plot(history.history['loss'])\n",
    "plt.plot(history.history['val_loss'])\n",
    "plt.title('model loss')\n",
    "plt.ylabel('loss')\n",
    "plt.xlabel('epoch')\n",
    "plt.legend(['train', 'test'], loc='upper left')\n",
    "plt.show()"
   ]
  },
  {
   "cell_type": "markdown",
   "id": "adc52b16",
   "metadata": {},
   "source": [
    "## Obs - \n",
    "\n",
    "    We could have stopped in 10th epoch"
   ]
  },
  {
   "cell_type": "markdown",
   "id": "29ea68bc",
   "metadata": {},
   "source": [
    "## 4.7 Make prediction - with Test data"
   ]
  },
  {
   "cell_type": "code",
   "execution_count": null,
   "id": "bb05d574",
   "metadata": {},
   "outputs": [],
   "source": [
    "train_predict = model.predict(train_X)\n",
    "test_predict = model.predict(test_X)\n",
    "\n",
    "print('Shape of train and test predict: ', train_predict.shape, test_predict.shape)"
   ]
  },
  {
   "cell_type": "markdown",
   "id": "5d4589a1",
   "metadata": {},
   "source": [
    "## 4.8 Model evaluation"
   ]
  },
  {
   "cell_type": "code",
   "execution_count": null,
   "id": "f66f4caa",
   "metadata": {},
   "outputs": [],
   "source": [
    "# root mean squared error or rmse\n",
    "import math\n",
    "from sklearn.metrics import mean_squared_error\n",
    "\n",
    "def measure_rmse(actual, predicted):\n",
    "    return math.sqrt(mean_squared_error(actual, predicted))\n",
    "\n",
    "train_score = measure_rmse(train_y, train_predict)\n",
    "test_score = measure_rmse(test_y, test_predict)\n",
    "\n",
    "print('Train and Test RMSE: ', train_score, test_score)"
   ]
  },
  {
   "cell_type": "markdown",
   "id": "f8728fa7",
   "metadata": {},
   "source": [
    "## 4.9 Plot test data and Predicted data"
   ]
  },
  {
   "cell_type": "code",
   "execution_count": null,
   "id": "2060a493",
   "metadata": {},
   "outputs": [],
   "source": [
    "plt.rc(\"figure\", figsize=(14,8))\n",
    "plt.rcParams.update({'font.size': 16})\n",
    "plt.plot(test_y, label = 'Actual')\n",
    "plt.plot(test_predict, label = 'Predicted')\n",
    "plt.xlabel('Time [in days]')\n",
    "plt.ylabel('INR price')\n",
    "plt.title('Currency price (INR) prediction using LSTM - Test data')\n",
    "plt.legend()\n",
    "plt.show()"
   ]
  },
  {
   "cell_type": "markdown",
   "id": "f43b754a",
   "metadata": {},
   "source": [
    "## To be Continued ...\n",
    "\n",
    "    "
   ]
  },
  {
   "cell_type": "code",
   "execution_count": null,
   "id": "93fded81",
   "metadata": {},
   "outputs": [],
   "source": [
    "nan"
   ]
  },
  {
   "cell_type": "code",
   "execution_count": null,
   "id": "cab4ee80",
   "metadata": {},
   "outputs": [],
   "source": [
    "nan"
   ]
  },
  {
   "cell_type": "code",
   "execution_count": null,
   "id": "8be435e7",
   "metadata": {},
   "outputs": [],
   "source": [
    "nan"
   ]
  }
 ],
 "metadata": {},
 "nbformat": 4,
 "nbformat_minor": 5
}
