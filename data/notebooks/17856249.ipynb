{
 "cells": [
  {
   "cell_type": "code",
   "execution_count": null,
   "id": "451963c0",
   "metadata": {},
   "outputs": [],
   "source": [
    "import pandas as pd \n",
    "import re \n",
    "import warnings \n",
    "warnings.filterwarnings(\"ignore\")\n",
    "from transformers import AutoModelForMaskedLM,AutoTokenizer,TrainingArguments,\\\n",
    "LineByLineTextDataset , DataCollatorForLanguageModeling,Trainer"
   ]
  },
  {
   "cell_type": "code",
   "execution_count": null,
   "id": "cd9d0898",
   "metadata": {},
   "outputs": [],
   "source": [
    "tr_data = pd.read_csv(\"../input/commonlitreadabilityprize/train.csv\")\n",
    "ts_data = pd.read_csv(\"../input/commonlitreadabilityprize/test.csv\")"
   ]
  },
  {
   "cell_type": "code",
   "execution_count": null,
   "id": "3a8f75d2",
   "metadata": {},
   "outputs": [],
   "source": [
    "data = pd.concat([tr_data,ts_data])"
   ]
  },
  {
   "cell_type": "code",
   "execution_count": null,
   "id": "548b1a96",
   "metadata": {},
   "outputs": [],
   "source": [
    "def clean_text(excerpt):\n",
    "    punctuations = \".,?!;\\(\\\":-)‘\"\n",
    "    extrait = excerpt\n",
    "    for p in punctuations : \n",
    "      extrait = extrait.replace(p,f\" {p} \")\n",
    "    extrait = re.sub(r\"'s\",\" is \",extrait)\n",
    "    extrait = extrait.replace(\"i'm\",\"I'm\")\n",
    "    extrait = extrait.replace(\"don't\",\"do not\")\n",
    "    extrait = extrait.replace(\"didn't\",\"did not\")\n",
    "    extrait = extrait.replace(\"can't\",\"cannot\")\n",
    "    extrait = extrait.replace(\"i'll\",\"I will\")\n",
    "    extrait = extrait.replace(\"wouldn't\",\"would not\")\n",
    "    extrait = extrait.replace(\"i've\",\"I have\")\n",
    "    extrait = re.sub(r\"i've\",\"I have\",extrait)\n",
    "    extrait = extrait.replace(\"won't\",\"will not\")\n",
    "    extrait = extrait.replace(\"couldn't\",\"could not\")\n",
    "    extrait = extrait.replace(\"wasn't\",\"was not\")\n",
    "    extrait = extrait.replace(\"you'll\",\"you will\")\n",
    "    extrait = extrait.replace(\"isn't\",\"is not\")\n",
    "    extrait = extrait.replace(\"you're\",\"you are\")\n",
    "    extrait = extrait.replace(\"hadn't\",\"had not\")\n",
    "    extrait = extrait.replace(\"you've\",\"you have\")\n",
    "    extrait = extrait.replace(\"doesn't\",\"does not\")\n",
    "    extrait = extrait.replace(\"haven't\",\"have not\")\n",
    "    extrait = extrait.replace(\"they're\",\"they are\")\n",
    "    extrait = extrait.replace(\"we're\",\"we are\")\n",
    "    #extrait = re.sub(r\"(/s+)i(/s+)\",\"I\",excerpt)\n",
    "    #extrait = re.sub(r\"don't\",\"do not\",extrait)\n",
    "    #extrait = re.sub(r\"i'm\",\"I'm\",extrait)\n",
    "    #extrait = re.sub(r\"man's\",\"man is\",extrait)\n",
    "    #extrait = re.sub(r\"it's\",\"it is\",extrait)\n",
    "    #extrait = re.sub(r\"didn't\",\"did not\",extrait)\n",
    "    #extrait = re.sub(r\"can't\",\"cannot\",extrait)\n",
    "    #extrait = re.sub(r\"earth's\",\"earth is\",extrait)\n",
    "    #extrait = re.sub(r\"father's\",\"father is\",extrait)\n",
    "    #extrait = re.sub(r\"i'll\",\"I will\",extrait)\n",
    "    #extrait = re.sub(r\"i've\",\"I have\",extrait)\n",
    "    #extrait = re.sub(r\"i\\'\",r\"I'\",extrait)\n",
    "    #extrait = re.sub(r\"children\\'s\",\"children is\",extrait)\n",
    "    \n",
    "    return extrait "
   ]
  },
  {
   "cell_type": "code",
   "execution_count": null,
   "id": "6e0bb6bc",
   "metadata": {},
   "outputs": [],
   "source": [
    "data[\"cleaned_excerpt\"] = data[\"excerpt\"].map(clean_text)"
   ]
  },
  {
   "cell_type": "code",
   "execution_count": null,
   "id": "9300bf5d",
   "metadata": {},
   "outputs": [],
   "source": [
    "model_name = \"roberta-base\"\n",
    "model = AutoModelForMaskedLM.from_pretrained(model_name)"
   ]
  },
  {
   "cell_type": "code",
   "execution_count": null,
   "id": "2c6823a3",
   "metadata": {},
   "outputs": [],
   "source": [
    "tokenizer = AutoTokenizer.from_pretrained(model_name)"
   ]
  },
  {
   "cell_type": "code",
   "execution_count": null,
   "id": "89a5e26f",
   "metadata": {},
   "outputs": [],
   "source": [
    "texts = \"\\n\".join(data[\"cleaned_excerpt\"].values.tolist())"
   ]
  },
  {
   "cell_type": "code",
   "execution_count": null,
   "id": "0da05d95",
   "metadata": {},
   "outputs": [],
   "source": [
    "with open(\"texts.txt\",\"w\") as f :\n",
    "    f.write(texts)"
   ]
  },
  {
   "cell_type": "code",
   "execution_count": null,
   "id": "0891c3b4",
   "metadata": {},
   "outputs": [],
   "source": [
    "dataset = LineByLineTextDataset(tokenizer=tokenizer,file_path=\"./texts.txt\",block_size=256)\n",
    "val_dataset = LineByLineTextDataset(tokenizer=tokenizer,file_path=\"./texts.txt\",\\\n",
    "                                   block_size = 256)"
   ]
  },
  {
   "cell_type": "code",
   "execution_count": null,
   "id": "44d9858e",
   "metadata": {},
   "outputs": [],
   "source": [
    "data_collator = DataCollatorForLanguageModeling(tokenizer=tokenizer,mlm=True,mlm_probability=\\\n",
    "                                               0.15)"
   ]
  },
  {
   "cell_type": "code",
   "execution_count": null,
   "id": "27e856a4",
   "metadata": {},
   "outputs": [],
   "source": [
    "training_args= TrainingArguments(output_dir=\"./clrp_roberta_base_chk\", #select model path for checkpoint\n",
    "    overwrite_output_dir=True,\n",
    "    num_train_epochs=3,\n",
    "    per_device_train_batch_size=16,\n",
    "    evaluation_strategy= 'steps',\n",
    "    save_total_limit=0, \n",
    "    eval_steps=150,\n",
    "    metric_for_best_model = 'eval_loss',\n",
    "    greater_is_better=False,\n",
    "    load_best_model_at_end =True,\n",
    "    prediction_loss_only=True,\n",
    "    report_to = \"none\")\n",
    "\n",
    "trainer = Trainer(model = model,\n",
    "                  args = training_args,\n",
    "                  data_collator = data_collator,\n",
    "                  train_dataset = dataset,\n",
    "                  eval_dataset= val_dataset)"
   ]
  },
  {
   "cell_type": "code",
   "execution_count": null,
   "id": "9286053b",
   "metadata": {},
   "outputs": [],
   "source": [
    "trainer.train()\n",
    "trainer.save_model(\"./clrp_roberta_base_chk\")"
   ]
  }
 ],
 "metadata": {},
 "nbformat": 4,
 "nbformat_minor": 5
}
