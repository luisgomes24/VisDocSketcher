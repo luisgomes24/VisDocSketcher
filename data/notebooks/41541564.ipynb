{
 "cells": [
  {
   "cell_type": "code",
   "execution_count": null,
   "id": "58ad23fc",
   "metadata": {},
   "outputs": [],
   "source": [
    "# This Python 3 environment comes with many helpful analytics libraries installed\n",
    "# It is defined by the kaggle/python Docker image: https://github.com/kaggle/docker-python\n",
    "# For example, here's several helpful packages to load\n",
    "\n",
    "import numpy as np # linear algebra\n",
    "import pandas as pd # data processing, CSV file I/O (e.g. pd.read_csv)\n",
    "\n",
    "# Input data files are available in the read-only \"../input/\" directory\n",
    "# For example, running this (by clicking run or pressing Shift+Enter) will list all files under the input directory\n",
    "\n",
    "import os\n",
    "for dirname, _, filenames in os.walk('/kaggle/input'):\n",
    "    for filename in filenames:\n",
    "        print(os.path.join(dirname, filename))\n",
    "\n",
    "# You can write up to 20GB to the current directory (/kaggle/working/) that gets preserved as output when you create a version using \"Save & Run All\" \n",
    "# You can also write temporary files to /kaggle/temp/, but they won't be saved outside of the current session"
   ]
  },
  {
   "cell_type": "code",
   "execution_count": null,
   "id": "b9da6bfe",
   "metadata": {},
   "outputs": [],
   "source": [
    "# import needed libraries\n",
    "\n",
    "import pandas as pd\n",
    "from statistics import mean\n",
    "from sklearn.preprocessing import LabelEncoder\n",
    "from sklearn.linear_model import LogisticRegression     \n",
    "from sklearn.preprocessing import MinMaxScaler    \n",
    "from sklearn.model_selection import KFold\n",
    "from sklearn.metrics import accuracy_score\n",
    "from sklearn.model_selection import train_test_split"
   ]
  },
  {
   "cell_type": "code",
   "execution_count": null,
   "id": "8830c1c8",
   "metadata": {},
   "outputs": [],
   "source": [
    "# reading the files\n",
    "train_df = pd.read_csv(\"/kaggle/input/titanic/train.csv\")\n",
    "test_df = pd.read_csv(\"/kaggle/input/titanic/test.csv\")"
   ]
  },
  {
   "cell_type": "code",
   "execution_count": null,
   "id": "8b63cd2b",
   "metadata": {},
   "outputs": [],
   "source": [
    "# data preprocessing\n",
    "\n",
    "# step1 : getting info\n",
    "train_df.info()"
   ]
  },
  {
   "cell_type": "code",
   "execution_count": null,
   "id": "4543c870",
   "metadata": {},
   "outputs": [],
   "source": [
    "test_df.info()"
   ]
  },
  {
   "cell_type": "code",
   "execution_count": null,
   "id": "bcfc74a2",
   "metadata": {},
   "outputs": [],
   "source": [
    "# columns with null points : Age, Cabin, Embarked, Fare\n",
    "# columns that need encoding : Name, Sex, Ticket, Cabin, Embarked    "
   ]
  },
  {
   "cell_type": "code",
   "execution_count": null,
   "id": "c21223ae",
   "metadata": {},
   "outputs": [],
   "source": [
    "# a func that does the rest of preprocessing\n",
    "\n",
    "def preprocessing(data):\n",
    "\n",
    "    # step2 : filling null points\n",
    "\n",
    "    data['Age'].fillna(data['Age'].mean(), inplace=True)\n",
    "    data['Fare'].fillna(data['Fare'].mean(), inplace=True)\n",
    "    data['Embarked'].fillna('unknown', inplace=True)\n",
    "\n",
    "    # step3 : dropping useless columns\n",
    "\n",
    "    data.drop(['Cabin', 'Name', 'Ticket'], axis=1, inplace=True)\n",
    "\n",
    "    # step4 : merging columns\n",
    "\n",
    "    data['Companion'] = data['SibSp'] + data['Parch']\n",
    "    data.drop(['SibSp', 'Parch'], axis=1, inplace=True)\n",
    "\n",
    "    return data\n",
    "    \n",
    "\n",
    "\n",
    "            \n",
    "train_df = preprocessing(train_df)\n",
    "test_df = preprocessing(test_df)"
   ]
  },
  {
   "cell_type": "code",
   "execution_count": null,
   "id": "58485cbe",
   "metadata": {},
   "outputs": [],
   "source": [
    "# step5 : label encoding\n",
    "encoder = LabelEncoder()\n",
    "\n",
    "for column in ['Sex', 'Embarked']:\n",
    "    train_df[column] = encoder.fit_transform(train_df[column])\n",
    "    test_df[column] = encoder.transform(test_df[column])"
   ]
  },
  {
   "cell_type": "code",
   "execution_count": null,
   "id": "c3dbd2bb",
   "metadata": {},
   "outputs": [],
   "source": [
    "train_df.head()"
   ]
  },
  {
   "cell_type": "code",
   "execution_count": null,
   "id": "f13f6185",
   "metadata": {},
   "outputs": [],
   "source": [
    "test_df.head()"
   ]
  },
  {
   "cell_type": "code",
   "execution_count": null,
   "id": "3b927cdc",
   "metadata": {},
   "outputs": [],
   "source": [
    "# extracting labels\n",
    "\n",
    "y = train_df['Survived']\n",
    "\n",
    "X = train_df    \n",
    "X.drop(['Survived'], axis=1, inplace=True)\n",
    "X.head()"
   ]
  },
  {
   "cell_type": "code",
   "execution_count": null,
   "id": "52f2a9c3",
   "metadata": {},
   "outputs": [],
   "source": [
    "# building the model & predicting\n",
    "\n",
    "# scaling \n",
    "scaler = MinMaxScaler()\n",
    "X = scaler.fit_transform(X)\n",
    "test_df = scaler.transform(test_df)\n",
    "    \n",
    "# building model\n",
    "model = LogisticRegression()\n",
    "model.fit(X, y)\n",
    "\n",
    "# predicting with model\n",
    "y_pred = model.predict(test_df)\n",
    "#print(y_pred)"
   ]
  },
  {
   "cell_type": "code",
   "execution_count": null,
   "id": "9b586628",
   "metadata": {},
   "outputs": [],
   "source": [
    "# creating answer data frame(the form the answer should be uploaded)\n",
    "answer_df = pd.DataFrame({\n",
    "    'PassengerId' : range(892, 892+len(y_pred)),\n",
    "    'Survived' : y_pred\n",
    "})\n",
    "\n",
    "# changing answer data frame to a csv file\n",
    "answer_df.to_csv('submission.csv', index=False)\n",
    "print(\"Your submission was successfully saved!\")"
   ]
  }
 ],
 "metadata": {},
 "nbformat": 4,
 "nbformat_minor": 5
}
