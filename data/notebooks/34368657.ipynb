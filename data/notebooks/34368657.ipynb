{
 "cells": [
  {
   "cell_type": "markdown",
   "id": "096e491d",
   "metadata": {},
   "source": [
    "# IceCube❄️: Fitting line to 3D point cloud\n",
    "\n",
    "The goal of this competition is to predict a neutrino particle’s direction. You will develop a model based on data from the \"IceCube\" detector, which observes the cosmos from deep within the South Pole ice.\n",
    "\n",
    "The IceCube Neutrino Observatory is the first detector of its kind, encompassing a cubic kilometer of ice and designed to search for the nearly massless neutrinos. An international group of scientists is responsible for the scientific research that makes up the IceCube Collaboration.\n",
    "\n",
    "By making the process faster and more precise, you'll help improve the reconstruction of neutrinos. As a result, we could gain a clearer image of our universe.\n",
    "\n",
    "### See related notebooks:\n",
    "\n",
    "- [IceCube🧊: Neutrino🎆EDA & 3D🔭interactive viewer](https://www.kaggle.com/code/jirkaborovec/icecube-neutrino-eda-3d-interactive-viewer)\n",
    "- [IceCube❄️: baseline with XGBoost regression](https://www.kaggle.com/code/jirkaborovec/icecube-neutrino-baseline-xgboost-regression)\n",
    "\n",
    "### Point-cloud 3D fitting\n",
    "\n",
    "- https://scikit-spatial.readthedocs.io/en/stable/gallery/fitting/plot_line_3d.html"
   ]
  },
  {
   "cell_type": "code",
   "execution_count": null,
   "id": "f7983a53",
   "metadata": {},
   "outputs": [],
   "source": [
    "%matplotlib inline\n",
    "\n",
    "import os\n",
    "import glob\n",
    "import numpy as np\n",
    "import pandas as pd\n",
    "import matplotlib.pyplot as plt\n",
    "\n",
    "PATH_DATASET = \"/kaggle/input/icecube-neutrinos-in-deep-ice\""
   ]
  },
  {
   "cell_type": "markdown",
   "id": "985bc2f7",
   "metadata": {},
   "source": [
    "## Browse meta data\n",
    "\n",
    "**[train/test]_meta.parquet**\n",
    "\n",
    "- **batch_id** (int): the ID of the batch the event was placed into.\n",
    "- **event_id** (int): the event ID.\n",
    "- **[first/last]_pulse_index** (int): index of the first/last row in the features dataframe belonging to this event.\n",
    "- **[azimuth/zenith]** (float32): the [azimuth/zenith] angle in radians of the neutrino. A value between 0 and 2*pi for the azimuth and 0 and pi for zenith. The target columns. Not provided for the test set. The direction vector represented by zenith and azimuth points to where the neutrino came from."
   ]
  },
  {
   "cell_type": "code",
   "execution_count": null,
   "id": "2598de0c",
   "metadata": {},
   "outputs": [],
   "source": [
    "meta_train = pd.read_parquet(os.path.join(PATH_DATASET, \"train_meta.parquet\"))\n",
    "display(meta_train.head())"
   ]
  },
  {
   "cell_type": "code",
   "execution_count": null,
   "id": "258f86c5",
   "metadata": {},
   "outputs": [],
   "source": [
    "display(meta_train.info())"
   ]
  },
  {
   "cell_type": "markdown",
   "id": "760f2f1f",
   "metadata": {},
   "source": [
    "### azimuth and zenith"
   ]
  },
  {
   "cell_type": "code",
   "execution_count": null,
   "id": "cf2e593c",
   "metadata": {},
   "outputs": [],
   "source": [
    "plt.hist2d(meta_train[\"azimuth\"], meta_train[\"zenith\"], bins=(50, 50), cmap=plt.cm.jet)\n",
    "plt.xlabel('azimuth'), plt.ylabel('zenith')\n",
    "plt.colorbar()"
   ]
  },
  {
   "cell_type": "markdown",
   "id": "44e61972",
   "metadata": {},
   "source": [
    "## Browse geometry\n",
    "\n",
    "The x, y, and z positions for each of the 5160 IceCube sensors. The row index corresponds to the sensor_idx feature of pulses. The x, y, and z coordinates are in units of meters, with the origin at the center of the IceCube detector. The coordinate system is right-handed, and the z-axis points upwards when standing at the South Pole."
   ]
  },
  {
   "cell_type": "code",
   "execution_count": null,
   "id": "23d0c631",
   "metadata": {},
   "outputs": [],
   "source": [
    "geometry = pd.read_csv(os.path.join(PATH_DATASET, \"sensor_geometry.csv\"))\n",
    "print(f\"length: {len(geometry)}\")\n",
    "geometry.head()"
   ]
  },
  {
   "cell_type": "code",
   "execution_count": null,
   "id": "603a09d0",
   "metadata": {},
   "outputs": [],
   "source": [
    "import plotly.express as px\n",
    "\n",
    "fig = px.scatter_3d(geometry, x='x', y='y', z='z', opacity=0.6, color=\"sensor_id\")\n",
    "fig.update_traces(marker_size=2)\n",
    "fig.update_layout(height=600, width=600)\n",
    "fig.show()"
   ]
  },
  {
   "cell_type": "code",
   "execution_count": null,
   "id": "ddda96e5",
   "metadata": {},
   "outputs": [],
   "source": [
    "geometry.set_index(\"sensor_id\", inplace=True)\n",
    "geometry = geometry.apply(np.float32)\n",
    "geometry.info()"
   ]
  },
  {
   "cell_type": "markdown",
   "id": "755a4901",
   "metadata": {},
   "source": [
    "## Browse training/test data\n",
    "\n",
    "**[train/test]/batch_[n].parquet** Each batch contains tens of thousands of events. Each event may contain thousands of pulses, each of which is the digitized output from a photomultiplier tube and occupies one row.\n",
    "\n",
    "- **event_id** (int): the event ID. Saved as the index column in parquet.\n",
    "- **sensor_id** (int): the ID of which of the 5160 IceCube photomultiplier sensors recorded this pulse.\n",
    "- **auxiliary** (bool): If True, the pulse was not fully digitized, is of lower quality, and was more likely to originate from noise. If False, then this pulse was contributed to the trigger decision and the pulse was fully digitized."
   ]
  },
  {
   "cell_type": "code",
   "execution_count": null,
   "id": "dfaf3678",
   "metadata": {},
   "outputs": [],
   "source": [
    "train = pd.read_parquet(os.path.join(PATH_DATASET, \"train/batch_15.parquet\"))\n",
    "print(f\"length: {len(train)}\")\n",
    "print(f\"events: {len(train.index.unique())}\")\n",
    "train.head()"
   ]
  },
  {
   "cell_type": "markdown",
   "id": "0b514ab1",
   "metadata": {},
   "source": [
    "## Fitting line to points"
   ]
  },
  {
   "cell_type": "code",
   "execution_count": null,
   "id": "74feaaf5",
   "metadata": {},
   "outputs": [],
   "source": [
    "! pip install -q scikit-spatial --no-index -f /kaggle/input/icecube-neutrino-eda-3d-interactive-viewer/frozen-packages/"
   ]
  },
  {
   "cell_type": "markdown",
   "id": "4dd76841",
   "metadata": {},
   "source": [
    "see the angle visualisation in https://www.kaggle.com/code/jirkaborovec/icecube-visualize-azimuth-zenith\n",
    "\n",
    "<img src=\"https://upload.wikimedia.org/wikipedia/commons/thumb/a/a2/Kugelkoord-lokale-Basis-s.svg/1024px-Kugelkoord-lokale-Basis-s.svg.png\" width=\"400\" height=\"400\"/>"
   ]
  },
  {
   "cell_type": "code",
   "execution_count": null,
   "id": "ce2e1ce5",
   "metadata": {},
   "outputs": [],
   "source": [
    "import math\n",
    "import warnings\n",
    "warnings.filterwarnings('ignore')\n",
    "\n",
    "def cartesian_to_sphere(x, y, z):\n",
    "    # https://en.wikipedia.org/wiki/Spherical_coordinate_system\n",
    "    x2y2 = x**2 + y**2\n",
    "    r = math.sqrt(x2y2 + z**2)\n",
    "    azimuth = math.acos(x / math.sqrt(x2y2)) * np.sign(y)\n",
    "    zenith = math.acos(z / r)\n",
    "    return azimuth, zenith\n",
    "\n",
    "def adjust_sphere(azimuth, zenith):\n",
    "    if zenith < 0:\n",
    "        zenith += math.pi\n",
    "        azimuth += math.pi\n",
    "    if azimuth < 0:\n",
    "        azimuth += math.pi * 2\n",
    "    azimuth = azimuth % (2 * math.pi)\n",
    "    return azimuth, zenith\n",
    "\n",
    "def sphere_to_cartesian(azimuth, zenith):\n",
    "    # see: https://stackoverflow.com/a/10868220/4521646\n",
    "    x = math.sin(zenith) * math.cos(azimuth)\n",
    "    y = math.sin(zenith) * math.sin(azimuth)\n",
    "    z = math.cos(zenith)\n",
    "    return x, y, z"
   ]
  },
  {
   "cell_type": "code",
   "execution_count": null,
   "id": "7f95b536",
   "metadata": {},
   "outputs": [],
   "source": [
    "import plotly.graph_objects as go\n",
    "\n",
    "def draw_subplot(\n",
    "    fig, i, evt, sensors, meta, pos_offset, pos_direction, gt_direction, line_len=250\n",
    "):\n",
    "    # sensors as background\n",
    "    fig.add_trace(go.Scatter3d(\n",
    "        x=sensors['x'], y=sensors['y'], z=sensors['z'], \n",
    "        mode='markers', marker=dict(size=1, color=\"black\"), opacity=0.2\n",
    "    ), row=(i+1), col=1)\n",
    "    # sensors reading\n",
    "    evt_time_min, evt_time_max = min(evt['time']), max(evt['time'])\n",
    "    evt.loc[:, 'time'] = (evt['time'] - evt_time_min) / (evt_time_max - evt_time_min)\n",
    "    fig.add_trace(go.Scatter3d(\n",
    "        x=evt['x'], y=evt['y'], z=evt['z'], opacity=0.95,\n",
    "        mode='markers', marker=dict(\n",
    "            size=evt['charge'] * 15, color=evt['time'], colorscale='sunsetdark'\n",
    "        )\n",
    "    ), row=(i+1), col=1)\n",
    "    # direction from metad data\n",
    "    ox, oy, oz = pos_offset\n",
    "    \n",
    "    for c, (x, y, z) in [('red', pos_direction), ('green', gt_direction)]:\n",
    "        fig.add_trace(go.Scatter3d(\n",
    "            x=[ox - x * line_len, ox + x * line_len],\n",
    "            y=[oy - y * line_len, oy + y * line_len],\n",
    "            z=[oz - z * line_len, oz + z * line_len],\n",
    "            opacity=0.8, mode='lines', line=dict(color=c, width=3)\n",
    "        ), row=(i+1), col=1)\n",
    "        fig.add_trace(go.Scatter3d(\n",
    "            x=[ox - x * line_len],\n",
    "            y=[oy - y * line_len],\n",
    "            z=[oz - z * line_len],\n",
    "            opacity=0.8, mode='markers', marker=dict(size=5, color=c)\n",
    "        ), row=(i+1), col=1)"
   ]
  },
  {
   "cell_type": "markdown",
   "id": "f34ec78c",
   "metadata": {},
   "source": [
    "### Sample event"
   ]
  },
  {
   "cell_type": "code",
   "execution_count": null,
   "id": "17938a9c",
   "metadata": {},
   "outputs": [],
   "source": [
    "from copy import copy\n",
    "from plotly.subplots import make_subplots\n",
    "from skspatial.objects import Line, Point, Points\n",
    "\n",
    "\n",
    "# def sample_directions(evt, line):\n",
    "#     line_ = copy(line)\n",
    "#     evt_charge = evt[evt['charge'] >= evt['charge'].mean()]\n",
    "#     points = evt_charge.sort_values('time')[['x', 'y', 'z']]\n",
    "#     projs = []\n",
    "#     for i, (_, point) in enumerate(points[:len(points) // 2].iterrows()):\n",
    "#         line_.point = Point(point.values)\n",
    "#         points_ = Points(points[i:].sample(2).values)\n",
    "#         projs += np.sign(line_.transform_points(points_)).tolist()\n",
    "\n",
    "\n",
    "def show_event(event_id=46528394, data=train, sensors=geometry, metadata=meta_train):\n",
    "    event = data[data.index == event_id]\n",
    "    event = event.merge(sensors, left_on=\"sensor_id\", right_index=True)\n",
    "    meta = dict(metadata[metadata[\"event_id\"]==event_id].iloc[0])\n",
    "    print(meta)\n",
    "    \n",
    "    evt_ = event[~event['auxiliary']]\n",
    "    points = Points(evt_[[\"x\", \"y\", \"z\"]].values)\n",
    "    line = Line.best_fit(points, full_matrices=False)\n",
    "    print(f\"Estimate: {line}\")\n",
    "    # sample_directions(evt_, line)\n",
    "    \n",
    "    print(f\"provided/GT of azimuth={meta['azimuth']:0.5}; zenith={meta['zenith']:0.5}\")\n",
    "    azimuth_, zenith_ = cartesian_to_sphere(*line.direction)\n",
    "    print(f\"predictions of azimuth={azimuth_:0.5} & zenith={zenith_:0.5}\")\n",
    "    azimuth_, zenith_ = adjust_sphere(azimuth_, zenith_)\n",
    "    print(f\"correction of azimuth={azimuth_:0.5} & zenith={zenith_:0.5}\")\n",
    "    \n",
    "    auxiliaries = [False, True]\n",
    "    fig = make_subplots(\n",
    "        rows=2, specs=[[{'type': 'scene'}], [{'type': 'scene'}]],\n",
    "        subplot_titles=[f\"auxiliary={aux}\" for aux in auxiliaries],\n",
    "        vertical_spacing=0.05,\n",
    "    )\n",
    "    event.loc[:, 'charge'] = event['charge'] / max(event['charge'])\n",
    "    x_, y_, z_ = sphere_to_cartesian(meta['azimuth'], meta['zenith'])\n",
    "    for i, aux in enumerate(auxiliaries):\n",
    "        draw_subplot(\n",
    "            fig, i, event[event['auxiliary'] == aux], sensors, meta,\n",
    "            line.point, line.direction, gt_direction=(x_, y_, z_),\n",
    "        )\n",
    "    desc_gt = f\"azimuth={meta['azimuth']:0.3}; zenith={meta['zenith']:0.3}\"\n",
    "    desc_gt += f\"\\n -> x={x_:0.2}; y={y_:0.2}; z={z_:0.2}\"\n",
    "    fig.update_layout(\n",
    "        height=800, width=600, showlegend=False,\n",
    "        title_text=f\"Event #{event_id} / {desc_gt}\",\n",
    "    )\n",
    "    return fig\n",
    "\n",
    "show_event().show()"
   ]
  },
  {
   "cell_type": "markdown",
   "id": "ddec8c15",
   "metadata": {},
   "source": [
    "### Interactive - browse events\n",
    "\n",
    "**This one is an interactive chart when you can slide over all event in the training batch**\n",
    "\n",
    "but to get in you need to ioen the notebook in edior mode (so to copy as your own)"
   ]
  },
  {
   "cell_type": "code",
   "execution_count": null,
   "id": "f1e4ec46",
   "metadata": {},
   "outputs": [],
   "source": [
    "from ipywidgets import interact, IntSlider\n",
    "\n",
    "def interactive_show(events):\n",
    "    interact(\n",
    "        lambda i: show_event(events[i]).show(),\n",
    "        i=IntSlider(min=0, max=len(events), step=1, value=len(events) // 2),\n",
    "    )\n",
    "\n",
    "events = train.index.unique().tolist()\n",
    "interactive_show(events)"
   ]
  },
  {
   "cell_type": "code",
   "execution_count": null,
   "id": "21d3e379",
   "metadata": {},
   "outputs": [],
   "source": [
    "import gc, time\n",
    "\n",
    "del train, meta_train, events\n",
    "gc.collect(), time.sleep(9)"
   ]
  },
  {
   "cell_type": "markdown",
   "id": "fa35e86d",
   "metadata": {},
   "source": [
    "## Prepare submission¶\n",
    "\n",
    "An example submission with the correct columns and properly ordered event IDs. The sample submission is provided in the parquet format so it can be read quickly but your final submission must be a csv."
   ]
  },
  {
   "cell_type": "code",
   "execution_count": null,
   "id": "f01f1952",
   "metadata": {},
   "outputs": [],
   "source": [
    "ssub = pd.read_parquet(os.path.join(PATH_DATASET, \"sample_submission.parquet\"))\n",
    "ssub.set_index(\"event_id\", inplace=True)\n",
    "display(ssub.head())"
   ]
  },
  {
   "cell_type": "code",
   "execution_count": null,
   "id": "55dc2f32",
   "metadata": {},
   "outputs": [],
   "source": [
    "ssub = ssub.apply(np.float32)\n",
    "display(ssub.info())"
   ]
  },
  {
   "cell_type": "markdown",
   "id": "76759f5e",
   "metadata": {},
   "source": [
    "### Fitting to all data"
   ]
  },
  {
   "cell_type": "code",
   "execution_count": null,
   "id": "6935f800",
   "metadata": {},
   "outputs": [],
   "source": [
    "ls = glob.glob(os.path.join(PATH_DATASET, \"test\", \"*.parquet\"))\n",
    "\n",
    "for batch_file in ls:\n",
    "    print(f\"processing: {batch_file}\")\n",
    "    df = pd.read_parquet(batch_file)\n",
    "    # del df['time'], df['charge']\n",
    "    # display(df.head())\n",
    "    gc.collect()\n",
    "    \n",
    "    for eid, dfg in df.groupby(\"event_id\"):\n",
    "        dfg = dfg[~dfg['auxiliary']]\n",
    "        dfg = dfg.merge(geometry, left_on=\"sensor_id\", right_index=True)\n",
    "        # TODO: for memory reason subsample point cloud\n",
    "        if len(dfg) > 800:\n",
    "            dfg = dfg.sort_values('charge', ascending=False)[:800]\n",
    "        # display(dfg)\n",
    "\n",
    "        try:\n",
    "            points = Points(dfg[[\"x\", \"y\", \"z\"]].values)\n",
    "            line = Line.best_fit(points, full_matrices=False)\n",
    "            # TOOD: adjust by timeseriers\n",
    "            direction_ = -1 * line.direction\n",
    "            azimuth_, zenith_ = adjust_sphere(*cartesian_to_sphere(*direction_))\n",
    "        except Exception as ex:\n",
    "            azimuth_, zenith_ = 0., 0.\n",
    "            print(ex)\n",
    "        else:\n",
    "            ssub.at[eid, \"azimuth\"] = azimuth_\n",
    "            ssub.at[eid, \"zenith\"] = zenith_\n",
    "        if len(df) < 1e5:\n",
    "            print(f\"Estimation {line} with azimuth={azimuth_} & zenith={zenith_}\")\n",
    "\n",
    "    del df, dfg\n",
    "    gc.collect(), time.sleep(9)"
   ]
  },
  {
   "cell_type": "markdown",
   "id": "152a241e",
   "metadata": {},
   "source": [
    "### Finalize submission"
   ]
  },
  {
   "cell_type": "code",
   "execution_count": null,
   "id": "ca185230",
   "metadata": {},
   "outputs": [],
   "source": [
    "ssub.fillna(0).to_csv('submission.csv', index=True)\n",
    "\n",
    "!head submission.csv"
   ]
  }
 ],
 "metadata": {},
 "nbformat": 4,
 "nbformat_minor": 5
}
