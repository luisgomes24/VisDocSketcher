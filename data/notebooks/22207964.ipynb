{
 "cells": [
  {
   "cell_type": "code",
   "execution_count": null,
   "id": "583fdbb1",
   "metadata": {},
   "outputs": [],
   "source": [
    "# This Python 3 environment comes with many helpful analytics libraries installed\n",
    "# It is defined by the kaggle/python Docker image: https://github.com/kaggle/docker-python\n",
    "# For example, here's several helpful packages to load\n",
    "\n",
    "import numpy as np # linear algebra\n",
    "import pandas as pd # data processing, CSV file I/O (e.g. pd.read_csv)\n",
    "\n",
    "# Input data files are available in the read-only \"../input/\" directory\n",
    "# For example, running this (by clicking run or pressing Shift+Enter) will list all files under the input directory\n",
    "\n",
    "import os\n",
    "for dirname, _, filenames in os.walk('/kaggle/input'):\n",
    "    for filename in filenames:\n",
    "        print(os.path.join(dirname, filename))\n",
    "\n",
    "# You can write up to 20GB to the current directory (/kaggle/working/) that gets preserved as output when you create a version using \"Save & Run All\" \n",
    "# You can also write temporary files to /kaggle/temp/, but they won't be saved outside of the current session"
   ]
  },
  {
   "cell_type": "code",
   "execution_count": null,
   "id": "7bfdb799",
   "metadata": {},
   "outputs": [],
   "source": [
    "import numpy as np\n",
    "import pandas as pd\n",
    "from sklearn.ensemble import RandomForestRegressor\n",
    "from sklearn.metrics import roc_auc_score"
   ]
  },
  {
   "cell_type": "code",
   "execution_count": null,
   "id": "10e04cea",
   "metadata": {},
   "outputs": [],
   "source": [
    "import os\n",
    "print((os.listdir('../input/')))"
   ]
  },
  {
   "cell_type": "code",
   "execution_count": null,
   "id": "79f088f4",
   "metadata": {},
   "outputs": [],
   "source": [
    "df_train = pd.read_csv('../input/wecrec2021/train.csv')\n",
    "df_test = pd.read_csv('../input/wecrec2021/test.csv')"
   ]
  },
  {
   "cell_type": "markdown",
   "id": "92170099",
   "metadata": {},
   "source": [
    "## Visualizing input data"
   ]
  },
  {
   "cell_type": "code",
   "execution_count": null,
   "id": "e88a7f87",
   "metadata": {},
   "outputs": [],
   "source": [
    "df_test.head()"
   ]
  },
  {
   "cell_type": "code",
   "execution_count": null,
   "id": "79c08c32",
   "metadata": {},
   "outputs": [],
   "source": [
    "df_train.head()"
   ]
  },
  {
   "cell_type": "code",
   "execution_count": null,
   "id": "1b50ffb3",
   "metadata": {},
   "outputs": [],
   "source": [
    "test_index=df_test['Id']"
   ]
  },
  {
   "cell_type": "code",
   "execution_count": null,
   "id": "1d03737c",
   "metadata": {},
   "outputs": [],
   "source": [
    "df_test"
   ]
  },
  {
   "cell_type": "markdown",
   "id": "c1559d15",
   "metadata": {},
   "source": [
    "**Dropping Id as it is just index, and F3 as it is timestamp**"
   ]
  },
  {
   "cell_type": "code",
   "execution_count": null,
   "id": "7eccca78",
   "metadata": {},
   "outputs": [],
   "source": [
    "df_train.info\n"
   ]
  },
  {
   "cell_type": "code",
   "execution_count": null,
   "id": "217f6167",
   "metadata": {},
   "outputs": [],
   "source": [
    "df_train.drop(['Id', 'F3', 'F9'], axis = 1, inplace = True)\n",
    "df_test.drop(['Id', 'F3', 'F9'], axis = 1, inplace = True)\n"
   ]
  },
  {
   "cell_type": "markdown",
   "id": "e042eeb9",
   "metadata": {},
   "source": [
    "**Separating the input and output fields**"
   ]
  },
  {
   "cell_type": "code",
   "execution_count": null,
   "id": "820bf42a",
   "metadata": {},
   "outputs": [],
   "source": [
    "train_X = df_train.loc[:, 'F1':'F11']\n",
    "train_y = df_train.loc[:, 'Expected']\n",
    "test_X = df_test.loc[:, 'F1':'F11']\n",
    "train_y.head()"
   ]
  },
  {
   "cell_type": "markdown",
   "id": "f12702aa",
   "metadata": {},
   "source": [
    "**Initializing a regression model**"
   ]
  },
  {
   "cell_type": "code",
   "execution_count": null,
   "id": "19a5bdfa",
   "metadata": {},
   "outputs": [],
   "source": [
    "# rf = RandomForestRegressor(n_estimators= 868,\n",
    "#  min_samples_split= 2,  max_features= 'auto',\n",
    "#  max_depth= 80, random_state=43)"
   ]
  },
  {
   "cell_type": "markdown",
   "id": "9410d2e0",
   "metadata": {},
   "source": [
    "**Fitting the classifier**"
   ]
  },
  {
   "cell_type": "code",
   "execution_count": null,
   "id": "05faa2a0",
   "metadata": {},
   "outputs": [],
   "source": [
    "# rf.fit(train_X, train_y)"
   ]
  },
  {
   "cell_type": "markdown",
   "id": "b0439490",
   "metadata": {},
   "source": [
    "**Predicting output for test set**"
   ]
  },
  {
   "cell_type": "code",
   "execution_count": null,
   "id": "24b5c44e",
   "metadata": {},
   "outputs": [],
   "source": [
    "train_X['F6'] = np.power(train_X['F6'],-0.5)\n",
    "train_X['F11'] = np.power(train_X['F11'],-1)\n",
    "test_X['F6'] = np.power(test_X['F6'],-0.5)\n",
    "test_X['F11'] = np.power(test_X['F11'],-1)"
   ]
  },
  {
   "cell_type": "markdown",
   "id": "bdc4b258",
   "metadata": {},
   "source": [
    "Since the graph of F6 VS OUTPUT looks like a 1/X^2 graph. we put F6 = F6^(-1/2) so that F6 becomes linearly related to Output(y).\n",
    "Similarly with F11"
   ]
  },
  {
   "cell_type": "markdown",
   "id": "5f859d61",
   "metadata": {},
   "source": [
    "nan"
   ]
  },
  {
   "cell_type": "code",
   "execution_count": null,
   "id": "a2bc628c",
   "metadata": {},
   "outputs": [],
   "source": [
    "import matplotlib.pyplot as plt\n",
    "for i in train_X.columns:\n",
    "    plt.scatter(train_X['F1'],train_y,s=1)\n",
    "    plt.show\n",
    "    plt.scatter(train_X['F2'],train_y,s=1)\n",
    "    plt.show\n",
    "    plt.scatter(train_X['F4'],train_y,s=1)\n",
    "    plt.show\n",
    "    plt.scatter(train_X['F5'],train_y,s=1)\n",
    "    plt.show\n",
    "    plt.scatter(train_X['F6'],train_y,s=1)\n",
    "    plt.show\n",
    "    plt.scatter(train_X['F7'],train_y,s=1)\n",
    "    plt.show\n",
    "    plt.scatter(train_X['F8'],train_y,s=1)\n",
    "    plt.show\n",
    "    plt.scatter(train_X['F10'],train_y,s=1)\n",
    "    plt.show\n",
    "    plt.scatter(train_X['F11'],train_y,s=1)\n",
    "    plt.show\n"
   ]
  },
  {
   "cell_type": "markdown",
   "id": "9d2507bb",
   "metadata": {},
   "source": [
    "plotting F1 to F11 Vs output(y)"
   ]
  },
  {
   "cell_type": "code",
   "execution_count": null,
   "id": "be3f0215",
   "metadata": {},
   "outputs": [],
   "source": [
    "keys = train_X.keys()\n",
    "for column1 in keys:\n",
    "    for column2 in keys:\n",
    "        train_X[str(column1)+str(column2)] = train_X[column1]*train_X[column2]\n",
    "        test_X[str(column1)+str(column2)] = test_X[column1]*test_X[column2]"
   ]
  },
  {
   "cell_type": "markdown",
   "id": "33f23696",
   "metadata": {},
   "source": [
    "Data augmentation"
   ]
  },
  {
   "cell_type": "code",
   "execution_count": null,
   "id": "27419e4c",
   "metadata": {},
   "outputs": [],
   "source": [
    "from sklearn import linear_model\n",
    "from sklearn.linear_model import LinearRegression\n",
    "rf = LinearRegression().fit(train_X, train_y)"
   ]
  },
  {
   "cell_type": "markdown",
   "id": "47df371b",
   "metadata": {},
   "source": [
    "Using linear regression "
   ]
  },
  {
   "cell_type": "markdown",
   "id": "fcb7cc5d",
   "metadata": {},
   "source": [
    "nan"
   ]
  },
  {
   "cell_type": "code",
   "execution_count": null,
   "id": "24fe8e84",
   "metadata": {},
   "outputs": [],
   "source": [
    "df_test = df_test.loc[:, 'F1':'F11']\n",
    "pred = rf.predict(test_X)"
   ]
  },
  {
   "cell_type": "code",
   "execution_count": null,
   "id": "6ff5496c",
   "metadata": {},
   "outputs": [],
   "source": [
    "pred"
   ]
  },
  {
   "cell_type": "code",
   "execution_count": null,
   "id": "8d93e044",
   "metadata": {},
   "outputs": [],
   "source": [
    "nan"
   ]
  },
  {
   "cell_type": "markdown",
   "id": "81c8c9e9",
   "metadata": {},
   "source": [
    "**Packing into output file**"
   ]
  },
  {
   "cell_type": "code",
   "execution_count": null,
   "id": "5e762368",
   "metadata": {},
   "outputs": [],
   "source": [
    "result=pd.DataFrame()\n",
    "result['Id'] = test_index\n",
    "result['Expected'] = pd.DataFrame(pred)\n",
    "result.head()"
   ]
  },
  {
   "cell_type": "code",
   "execution_count": null,
   "id": "95ae3bab",
   "metadata": {},
   "outputs": [],
   "source": [
    "result.to_csv('output.csv', index=False)"
   ]
  },
  {
   "cell_type": "code",
   "execution_count": null,
   "id": "e1f3e60c",
   "metadata": {},
   "outputs": [],
   "source": [
    "nan"
   ]
  }
 ],
 "metadata": {},
 "nbformat": 4,
 "nbformat_minor": 5
}
