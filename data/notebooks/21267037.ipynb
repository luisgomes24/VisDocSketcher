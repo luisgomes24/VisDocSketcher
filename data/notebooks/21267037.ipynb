{
 "cells": [
  {
   "cell_type": "code",
   "execution_count": null,
   "id": "0b9d4e88",
   "metadata": {},
   "outputs": [],
   "source": [
    "import pandas as pd\n",
    "petrol=pd.read_csv(\"../input/petrol-price-data-by-district/petrol_data.csv\")\n",
    "petrol.head()"
   ]
  },
  {
   "cell_type": "code",
   "execution_count": null,
   "id": "a8a8cb17",
   "metadata": {},
   "outputs": [],
   "source": [
    "petrol.nunique()"
   ]
  },
  {
   "cell_type": "code",
   "execution_count": null,
   "id": "e2aa04a4",
   "metadata": {},
   "outputs": [],
   "source": [
    "petrol.info()"
   ]
  },
  {
   "cell_type": "code",
   "execution_count": null,
   "id": "d7d5d0d0",
   "metadata": {},
   "outputs": [],
   "source": [
    "petrol.describe()"
   ]
  },
  {
   "cell_type": "code",
   "execution_count": null,
   "id": "f2291ce5",
   "metadata": {},
   "outputs": [],
   "source": [
    "city=petrol[petrol['city']==petrol['city'].unique().tolist()[17]]\n",
    "city.head()"
   ]
  },
  {
   "cell_type": "code",
   "execution_count": null,
   "id": "6973de8b",
   "metadata": {},
   "outputs": [],
   "source": [
    "city=city[['date','rate']]\n",
    "city=city.reset_index(drop=True)\n",
    "city.head()"
   ]
  },
  {
   "cell_type": "code",
   "execution_count": null,
   "id": "4599af63",
   "metadata": {},
   "outputs": [],
   "source": [
    "city.info()"
   ]
  },
  {
   "cell_type": "code",
   "execution_count": null,
   "id": "4449c4cc",
   "metadata": {},
   "outputs": [],
   "source": [
    "!pip install pycaret-ts-alpha"
   ]
  },
  {
   "cell_type": "code",
   "execution_count": null,
   "id": "c08bbd38",
   "metadata": {},
   "outputs": [],
   "source": [
    "from pycaret.internal.pycaret_experiment import TimeSeriesExperiment\n",
    "from sktime.utils.plotting import plot_series"
   ]
  },
  {
   "cell_type": "code",
   "execution_count": null,
   "id": "854ef02f",
   "metadata": {},
   "outputs": [],
   "source": [
    "city.index = pd.DatetimeIndex(city[\"date\"])\n",
    "city.drop([\"date\"],axis=1,inplace=True)\n",
    "city.head()"
   ]
  },
  {
   "cell_type": "code",
   "execution_count": null,
   "id": "ed62c214",
   "metadata": {},
   "outputs": [],
   "source": [
    "city = city.asfreq('D')\n",
    "city.index"
   ]
  },
  {
   "cell_type": "code",
   "execution_count": null,
   "id": "8ac9b3c0",
   "metadata": {},
   "outputs": [],
   "source": [
    "city=city.fillna(method='ffill')\n",
    "city.head()"
   ]
  },
  {
   "cell_type": "code",
   "execution_count": null,
   "id": "07c3728f",
   "metadata": {},
   "outputs": [],
   "source": [
    "data=city.rate\n",
    "data[:5]"
   ]
  },
  {
   "cell_type": "code",
   "execution_count": null,
   "id": "96043c06",
   "metadata": {},
   "outputs": [],
   "source": [
    "import matplotlib.pyplot as plt\n",
    "_ =plot_series(data)\n",
    "plt.xticks(rotation=90)\n",
    "plt.grid()"
   ]
  },
  {
   "cell_type": "code",
   "execution_count": null,
   "id": "42d4edad",
   "metadata": {},
   "outputs": [],
   "source": [
    "exp = TimeSeriesExperiment()\n",
    "exp.setup(data=data,session_id=42,fh=30)"
   ]
  },
  {
   "cell_type": "code",
   "execution_count": null,
   "id": "aff4b984",
   "metadata": {},
   "outputs": [],
   "source": [
    "exp.compare_models()"
   ]
  }
 ],
 "metadata": {},
 "nbformat": 4,
 "nbformat_minor": 5
}
