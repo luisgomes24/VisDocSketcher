{
 "cells": [
  {
   "cell_type": "code",
   "execution_count": null,
   "id": "56d95a92",
   "metadata": {},
   "outputs": [],
   "source": [
    "# install pycaret\n",
    "!pip install pycaret"
   ]
  },
  {
   "cell_type": "code",
   "execution_count": null,
   "id": "31ff9243",
   "metadata": {},
   "outputs": [],
   "source": [
    "# import libraries\n",
    "import pandas as pd\n",
    "import numpy as np"
   ]
  },
  {
   "cell_type": "code",
   "execution_count": null,
   "id": "9681c819",
   "metadata": {},
   "outputs": [],
   "source": [
    "# read csv data\n",
    "data = pd.read_csv('../input/telco-customer-churn/WA_Fn-UseC_-Telco-Customer-Churn.csv')\n",
    "data.head()"
   ]
  },
  {
   "cell_type": "markdown",
   "id": "bc0c634b",
   "metadata": {},
   "source": [
    "# Exploratory Data Analysis"
   ]
  },
  {
   "cell_type": "code",
   "execution_count": null,
   "id": "4000d7db",
   "metadata": {},
   "outputs": [],
   "source": [
    "# check data types\n",
    "data.dtypes"
   ]
  },
  {
   "cell_type": "code",
   "execution_count": null,
   "id": "7430dc34",
   "metadata": {},
   "outputs": [],
   "source": [
    "# replace blanks with np.nan\n",
    "data['TotalCharges'] = data['TotalCharges'].replace(' ', np.nan)\n",
    "data.isnull().sum()"
   ]
  },
  {
   "cell_type": "code",
   "execution_count": null,
   "id": "24cb52f3",
   "metadata": {},
   "outputs": [],
   "source": [
    "# convert to float64\n",
    "data['TotalCharges'] = data['TotalCharges'].astype('float64')\n",
    "data.info()"
   ]
  },
  {
   "cell_type": "code",
   "execution_count": null,
   "id": "b3823147",
   "metadata": {},
   "outputs": [],
   "source": [
    "!pip install pandas-profiling"
   ]
  },
  {
   "cell_type": "code",
   "execution_count": null,
   "id": "d76d0367",
   "metadata": {},
   "outputs": [],
   "source": [
    "from pandas_profiling import ProfileReport\n",
    "profile = ProfileReport(data, title=\"EDA Report\")\n",
    "profile"
   ]
  },
  {
   "cell_type": "markdown",
   "id": "db3383cc",
   "metadata": {},
   "source": [
    "# Missing Values"
   ]
  },
  {
   "cell_type": "code",
   "execution_count": null,
   "id": "ac8eda9d",
   "metadata": {},
   "outputs": [],
   "source": [
    "# check missing values\n",
    "data.isnull().sum()"
   ]
  },
  {
   "cell_type": "code",
   "execution_count": null,
   "id": "629aebb4",
   "metadata": {},
   "outputs": [],
   "source": [
    "round(data.Churn.value_counts()*100 / len(data),2)"
   ]
  },
  {
   "cell_type": "code",
   "execution_count": null,
   "id": "950217b3",
   "metadata": {},
   "outputs": [],
   "source": [
    "categorical = []\n",
    "for i in data.columns:\n",
    "    if (data[i].dtype=='object'):\n",
    "        categorical.append(i)\n",
    "print(\"Categorical Attribute : {}\\n \".format(len(categorical)))\n",
    "for x in range(len(categorical)): \n",
    "    print(categorical[x])"
   ]
  },
  {
   "cell_type": "code",
   "execution_count": null,
   "id": "d81a96db",
   "metadata": {},
   "outputs": [],
   "source": [
    "data[categorical].nunique()"
   ]
  },
  {
   "cell_type": "code",
   "execution_count": null,
   "id": "c4ec079f",
   "metadata": {},
   "outputs": [],
   "source": [
    "for i in categorical[1:]:\n",
    "    print(i)\n",
    "    print(data[i].unique())\n",
    "    print(\"\\n\")"
   ]
  },
  {
   "cell_type": "markdown",
   "id": "faa53280",
   "metadata": {},
   "source": [
    "# Data Preparation"
   ]
  },
  {
   "cell_type": "code",
   "execution_count": null,
   "id": "4a4db4a6",
   "metadata": {},
   "outputs": [],
   "source": [
    "# init setup\n",
    "from pycaret.classification import *\n",
    "telecom = setup(data, target = 'Churn', ignore_features = ['customerID'],\n",
    "                ordinal_features = {'Contract' : ['Month-to-month' ,'One year', 'Two year']},\n",
    "                fix_imbalance = True,\n",
    "               transformation = True,#Transformation changes the shape of the distribution such that the transformed data can be represented by normal distribution\n",
    "                  normalize = True, #rescale the values of numeric columns\n",
    "                  handle_unknown_categorical = True, \n",
    "                  unknown_categorical_method = 'most_frequent',\n",
    "                  remove_multicollinearity = True, #rop one of the two features that are highly correlated with each other\n",
    "                  ignore_low_variance = True,#all categorical features with statistically insignificant variances are removed from the dataset.\n",
    "                  combine_rare_levels = True,# all levels in categorical features below the threshold defined in rare_level_threshold param are combined together as a single level\n",
    "                numeric_imputation='median',\n",
    "                categorical_imputation='mode',)"
   ]
  },
  {
   "cell_type": "code",
   "execution_count": null,
   "id": "1ab5023f",
   "metadata": {},
   "outputs": [],
   "source": [
    "ada= create_model('ada')"
   ]
  },
  {
   "cell_type": "code",
   "execution_count": null,
   "id": "9a75a6c5",
   "metadata": {},
   "outputs": [],
   "source": [
    "print(ada)"
   ]
  },
  {
   "cell_type": "code",
   "execution_count": null,
   "id": "19d592be",
   "metadata": {},
   "outputs": [],
   "source": [
    "tuned_ada = tune_model(ada,optimize = 'MCC') #tuned on MCC"
   ]
  },
  {
   "cell_type": "code",
   "execution_count": null,
   "id": "d6fabdf5",
   "metadata": {},
   "outputs": [],
   "source": [
    "evaluate_model(tuned_ada) #Graphical plot "
   ]
  },
  {
   "cell_type": "code",
   "execution_count": null,
   "id": "99648e93",
   "metadata": {},
   "outputs": [],
   "source": [
    "predict_model(tuned_ada)# Test data evaluation "
   ]
  },
  {
   "cell_type": "code",
   "execution_count": null,
   "id": "30b6a1a5",
   "metadata": {},
   "outputs": [],
   "source": [
    "final_ada = finalize_model(tuned_ada) # Final model \n",
    "final_ada"
   ]
  },
  {
   "cell_type": "code",
   "execution_count": null,
   "id": "b356dda5",
   "metadata": {},
   "outputs": [],
   "source": [
    "predict_model(final_ada)#final test model evaluation "
   ]
  }
 ],
 "metadata": {},
 "nbformat": 4,
 "nbformat_minor": 5
}
