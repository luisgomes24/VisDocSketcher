{
 "cells": [
  {
   "cell_type": "markdown",
   "id": "ce117ee6",
   "metadata": {},
   "source": [
    "# Libraries"
   ]
  },
  {
   "cell_type": "code",
   "execution_count": null,
   "id": "b273eb6e",
   "metadata": {},
   "outputs": [],
   "source": [
    "import numpy as np \n",
    "import pandas as pd \n",
    "import seaborn as sns\n",
    "import pylab as plt\n",
    "import scipy.stats\n",
    "\n",
    "from IPython.display import display\n",
    "\n",
    "from subprocess import check_output\n",
    "print(check_output([\"ls\", \"../input\"]).decode(\"utf8\"))"
   ]
  },
  {
   "cell_type": "markdown",
   "id": "afe2a43a",
   "metadata": {},
   "source": [
    "# Explore the Data"
   ]
  },
  {
   "cell_type": "code",
   "execution_count": null,
   "id": "a1994efe",
   "metadata": {},
   "outputs": [],
   "source": [
    "# Read the .csv file\n",
    "house_train = pd.read_csv(\"../input/train.csv\")\n",
    "house_train.head().T[:30]"
   ]
  },
  {
   "cell_type": "code",
   "execution_count": null,
   "id": "f7f603bc",
   "metadata": {},
   "outputs": [],
   "source": [
    "house_train['HeatingQC'].dtype"
   ]
  },
  {
   "cell_type": "code",
   "execution_count": null,
   "id": "306f4b9d",
   "metadata": {},
   "outputs": [],
   "source": [
    "set(house_train['HeatingQC'].values)"
   ]
  },
  {
   "cell_type": "code",
   "execution_count": null,
   "id": "7fff0a10",
   "metadata": {},
   "outputs": [],
   "source": [
    "house_train['HeatingQC'].isnull().sum()"
   ]
  },
  {
   "cell_type": "code",
   "execution_count": null,
   "id": "ba7af4af",
   "metadata": {},
   "outputs": [],
   "source": [
    "house_train['BldgType'].dtype"
   ]
  },
  {
   "cell_type": "code",
   "execution_count": null,
   "id": "a88a9b40",
   "metadata": {},
   "outputs": [],
   "source": [
    "set(house_train['BldgType'].values)"
   ]
  },
  {
   "cell_type": "code",
   "execution_count": null,
   "id": "15351419",
   "metadata": {},
   "outputs": [],
   "source": [
    "house_train['BldgType'].isnull().sum()"
   ]
  },
  {
   "cell_type": "markdown",
   "id": "aa8ca594",
   "metadata": {},
   "source": [
    "# Chi-Square Tests"
   ]
  },
  {
   "cell_type": "code",
   "execution_count": null,
   "id": "764300fd",
   "metadata": {},
   "outputs": [],
   "source": [
    "# Create a random sample\n",
    "sample = house_train.sample(300)"
   ]
  },
  {
   "cell_type": "code",
   "execution_count": null,
   "id": "5634043c",
   "metadata": {},
   "outputs": [],
   "source": [
    "# By default the null hypothesis for one variable is \n",
    "# \"the categories are assumed to be equally likely\"."
   ]
  },
  {
   "cell_type": "code",
   "execution_count": null,
   "id": "a202f669",
   "metadata": {},
   "outputs": [],
   "source": [
    "# A chi-square test for BldgType\n",
    "scipy.stats.chisquare(pd.factorize(sample['BldgType'])[0])"
   ]
  },
  {
   "cell_type": "code",
   "execution_count": null,
   "id": "0c3c11a4",
   "metadata": {},
   "outputs": [],
   "source": [
    "# pvalue < 0.05, reject the null hypothesis"
   ]
  },
  {
   "cell_type": "code",
   "execution_count": null,
   "id": "c7a4447d",
   "metadata": {},
   "outputs": [],
   "source": [
    "# A chi-square test for RoofStyle\n",
    "scipy.stats. chisquare(pd.factorize(sample['HeatingQC'])[0])"
   ]
  },
  {
   "cell_type": "code",
   "execution_count": null,
   "id": "77de1d80",
   "metadata": {},
   "outputs": [],
   "source": [
    "# pvalue > 0.05, accept the null hypothesis"
   ]
  },
  {
   "cell_type": "code",
   "execution_count": null,
   "id": "21115a3e",
   "metadata": {},
   "outputs": [],
   "source": [
    "# The null hypothesis for two variables is \n",
    "# \"the variable HeatingQC and the variable BldgType are independent\"."
   ]
  },
  {
   "cell_type": "code",
   "execution_count": null,
   "id": "f6ab2e00",
   "metadata": {},
   "outputs": [],
   "source": [
    "# Build the crosstable sums (contingency table) of each category-relationship\n",
    "cross_table = pd.crosstab(sample['HeatingQC'], sample['BldgType'])\n",
    "cross_table"
   ]
  },
  {
   "cell_type": "code",
   "execution_count": null,
   "id": "31de43c2",
   "metadata": {},
   "outputs": [],
   "source": [
    "# A chi-square test for independence of variables in a contingency table\n",
    "chi2, p, dof, ex = scipy.stats.chi2_contingency(cross_table)\n",
    "chi2, p, dof"
   ]
  },
  {
   "cell_type": "code",
   "execution_count": null,
   "id": "bb7be0ba",
   "metadata": {},
   "outputs": [],
   "source": [
    "# We can't belive in the test results, because there are lots of small values (<5)\n",
    "# in the contingency table"
   ]
  },
  {
   "cell_type": "markdown",
   "id": "0f6b8a72",
   "metadata": {},
   "source": [
    "# PLots"
   ]
  },
  {
   "cell_type": "code",
   "execution_count": null,
   "id": "f9af25dd",
   "metadata": {},
   "outputs": [],
   "source": [
    "plt.figure(figsize=(15,10))\n",
    "sns.countplot(x=\"BldgType\", data=sample,\n",
    "              facecolor=(0, 0, 0, 0), linewidth=7,\n",
    "              edgecolor=sns.color_palette(\"Set1\", 7))\n",
    "plt.title('Sample Distribution of \"BldgType\" Categories', fontsize=20);"
   ]
  },
  {
   "cell_type": "code",
   "execution_count": null,
   "id": "1365deb6",
   "metadata": {},
   "outputs": [],
   "source": [
    "plt.figure(figsize=(15,10))\n",
    "sns.countplot(x=\"HeatingQC\", data=sample,\n",
    "              facecolor=(0, 0, 0, 0), linewidth=7,\n",
    "              edgecolor=sns.color_palette(\"Set1\", 7))\n",
    "plt.title('Sample Distribution of \"HeatingQC\" Categories', fontsize=20);"
   ]
  },
  {
   "cell_type": "code",
   "execution_count": null,
   "id": "5cb6b079",
   "metadata": {},
   "outputs": [],
   "source": [
    "plt.figure(figsize=(15,10))\n",
    "sns.countplot(y=\"BldgType\", hue=\"HeatingQC\", data=sample, palette='Set1')\n",
    "plt.legend(loc=4)\n",
    "plt.title('Sample Distribution of \"BldgType\" Categories Grouped by \"HeatingQC\"', \n",
    "          fontsize=20);"
   ]
  }
 ],
 "metadata": {},
 "nbformat": 4,
 "nbformat_minor": 5
}
