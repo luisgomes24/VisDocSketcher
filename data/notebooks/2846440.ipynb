{
 "cells": [
  {
   "cell_type": "code",
   "execution_count": null,
   "id": "faae1af6",
   "metadata": {},
   "outputs": [],
   "source": [
    "import numpy as np\n",
    "import pandas as pd\n",
    "from fastai import *\n",
    "from fastai.vision import *\n",
    "from torchvision.models import *\n",
    "import os"
   ]
  },
  {
   "cell_type": "code",
   "execution_count": null,
   "id": "8472406a",
   "metadata": {},
   "outputs": [],
   "source": [
    "df = pd.read_csv('../input/train_labels.csv')\n",
    "df.head()"
   ]
  },
  {
   "cell_type": "code",
   "execution_count": null,
   "id": "71db84f6",
   "metadata": {},
   "outputs": [],
   "source": [
    "df_unique = pd.unique(df['label'])\n",
    "df_unique"
   ]
  },
  {
   "cell_type": "code",
   "execution_count": null,
   "id": "7c1e878c",
   "metadata": {},
   "outputs": [],
   "source": [
    "path = Path('../input')\n",
    "path.ls()"
   ]
  },
  {
   "cell_type": "code",
   "execution_count": null,
   "id": "f08084f5",
   "metadata": {},
   "outputs": [],
   "source": [
    "SZ = 96\n",
    "BS = 64\n",
    "NUM_WORKERS = 4"
   ]
  },
  {
   "cell_type": "code",
   "execution_count": null,
   "id": "65fe2ff9",
   "metadata": {},
   "outputs": [],
   "source": [
    "data = (\n",
    "    ImageItemList\n",
    "        .from_csv(path, 'train_labels.csv', folder='train', suffix='.tif')\n",
    "        .random_split_by_pct()\n",
    "        .label_from_df()\n",
    "        .add_test(ImageItemList.from_folder('../input/test'))\n",
    "        .transform(get_transforms(do_flip=True, flip_vert=True, max_rotate=.0, max_zoom=.1,max_lighting=0.05, max_warp=0.), size=SZ, resize_method=ResizeMethod.SQUISH)\n",
    "        .databunch(bs=BS, num_workers=NUM_WORKERS, path = '.')\n",
    "        .normalize(imagenet_stats)\n",
    ")"
   ]
  },
  {
   "cell_type": "code",
   "execution_count": null,
   "id": "bf4ebb06",
   "metadata": {},
   "outputs": [],
   "source": [
    "data.show_batch(3)"
   ]
  },
  {
   "cell_type": "code",
   "execution_count": null,
   "id": "79fb1741",
   "metadata": {},
   "outputs": [],
   "source": [
    "from sklearn.metrics import roc_auc_score\n",
    "def auc_score(y_pred,y_true,tens=True):\n",
    "    score=roc_auc_score(y_true,torch.sigmoid(y_pred)[:,1])\n",
    "    if tens:\n",
    "        score=tensor(score)\n",
    "    else:\n",
    "        score=score\n",
    "    return score"
   ]
  },
  {
   "cell_type": "code",
   "execution_count": null,
   "id": "8da5e7de",
   "metadata": {},
   "outputs": [],
   "source": [
    "learn = create_cnn(data, densenet161, metrics=[auc_score], ps=0.5)"
   ]
  },
  {
   "cell_type": "code",
   "execution_count": null,
   "id": "c645ecb6",
   "metadata": {},
   "outputs": [],
   "source": [
    "# learn.lr_find()\n",
    "# learn.recorder.plot()"
   ]
  },
  {
   "cell_type": "code",
   "execution_count": null,
   "id": "d9ae7819",
   "metadata": {},
   "outputs": [],
   "source": [
    "learn.fit_one_cycle(1, 1e-3)"
   ]
  },
  {
   "cell_type": "code",
   "execution_count": null,
   "id": "0448c5ed",
   "metadata": {},
   "outputs": [],
   "source": [
    "learn.unfreeze()\n",
    "# learn.lr_find()\n",
    "# learn.recorder.plot()"
   ]
  },
  {
   "cell_type": "code",
   "execution_count": null,
   "id": "e9b0de96",
   "metadata": {},
   "outputs": [],
   "source": [
    "learn.fit_one_cycle(4, slice(1e-6, 1e-4))"
   ]
  },
  {
   "cell_type": "code",
   "execution_count": null,
   "id": "584aea5d",
   "metadata": {},
   "outputs": [],
   "source": [
    "SZ = 96*2\n",
    "BS = 64//2\n",
    "NUM_WORKERS = 0"
   ]
  },
  {
   "cell_type": "code",
   "execution_count": null,
   "id": "06a7bd41",
   "metadata": {},
   "outputs": [],
   "source": [
    "data = (\n",
    "    ImageItemList\n",
    "        .from_csv(path, 'train_labels.csv', folder='train', suffix='.tif')\n",
    "        .random_split_by_pct()\n",
    "        .label_from_df()\n",
    "        .add_test(ImageItemList.from_folder('../input/test'))\n",
    "        .transform(get_transforms(do_flip=True, flip_vert=True, max_rotate=.0, max_zoom=.1,max_lighting=0.05, max_warp=0.), size=SZ, resize_method=ResizeMethod.SQUISH)\n",
    "        .databunch(bs=BS, num_workers=NUM_WORKERS, path = '.')\n",
    "        .normalize(imagenet_stats)\n",
    ")"
   ]
  },
  {
   "cell_type": "code",
   "execution_count": null,
   "id": "10a8f6be",
   "metadata": {},
   "outputs": [],
   "source": [
    "learn.data = data"
   ]
  },
  {
   "cell_type": "code",
   "execution_count": null,
   "id": "ab669131",
   "metadata": {},
   "outputs": [],
   "source": [
    "# learn.lr_find()\n",
    "# learn.recorder.plot()"
   ]
  },
  {
   "cell_type": "code",
   "execution_count": null,
   "id": "7cd90b1c",
   "metadata": {},
   "outputs": [],
   "source": [
    "learn.freeze()"
   ]
  },
  {
   "cell_type": "code",
   "execution_count": null,
   "id": "c1d3f4e1",
   "metadata": {},
   "outputs": [],
   "source": [
    "learn.fit_one_cycle(1, 1e-3/2)"
   ]
  },
  {
   "cell_type": "code",
   "execution_count": null,
   "id": "2c382e18",
   "metadata": {},
   "outputs": [],
   "source": [
    "learn.unfreeze()"
   ]
  },
  {
   "cell_type": "code",
   "execution_count": null,
   "id": "ab50d929",
   "metadata": {},
   "outputs": [],
   "source": [
    "learn.fit_one_cycle(1, slice(1e-6/2, 1e-4/2))"
   ]
  },
  {
   "cell_type": "markdown",
   "id": "19104e61",
   "metadata": {},
   "source": [
    "**Pred**"
   ]
  },
  {
   "cell_type": "code",
   "execution_count": null,
   "id": "2cd0247e",
   "metadata": {},
   "outputs": [],
   "source": [
    "preds = learn.get_preds(ds_type=DatasetType.Test)"
   ]
  },
  {
   "cell_type": "code",
   "execution_count": null,
   "id": "7aa70896",
   "metadata": {},
   "outputs": [],
   "source": [
    "df_sub = pd.read_csv('../input/sample_submission.csv').set_index('id')\n",
    "df_sub.head()"
   ]
  },
  {
   "cell_type": "code",
   "execution_count": null,
   "id": "d59d6e3a",
   "metadata": {},
   "outputs": [],
   "source": [
    "clean_fname = np.vectorize(lambda fname: str(fname).split('/')[-1].split('.')[0])\n",
    "fname_cleaned = clean_fname(data.test_ds.items)\n",
    "fname_cleaned = fname_cleaned.astype(str)"
   ]
  },
  {
   "cell_type": "code",
   "execution_count": null,
   "id": "7ba989ba",
   "metadata": {},
   "outputs": [],
   "source": [
    "df_sub.loc[fname_cleaned,'label'] = preds[0][:,1].tolist()"
   ]
  },
  {
   "cell_type": "code",
   "execution_count": null,
   "id": "85a6fedd",
   "metadata": {},
   "outputs": [],
   "source": [
    "df_sub.head()"
   ]
  },
  {
   "cell_type": "code",
   "execution_count": null,
   "id": "ecd92e08",
   "metadata": {},
   "outputs": [],
   "source": [
    "df_sub.to_csv('sub.csv')"
   ]
  }
 ],
 "metadata": {},
 "nbformat": 4,
 "nbformat_minor": 5
}
