{
 "cells": [
  {
   "cell_type": "code",
   "execution_count": null,
   "id": "61e9f078",
   "metadata": {},
   "outputs": [],
   "source": [
    "import numpy as np # linear algebra\n",
    "import pandas as pd # data processing, CSV file I/O (e.g. pd.read_csv)\n",
    "from sklearn import preprocessing, model_selection, neighbors\n",
    "from sklearn.preprocessing import MinMaxScaler, StandardScaler\n",
    "from sklearn.ensemble import RandomForestClassifier\n",
    "from sklearn.tree import DecisionTreeClassifier\n",
    "from sklearn.metrics import classification_report, accuracy_score, confusion_matrix, precision_score\n",
    "import matplotlib.pyplot as plt\n",
    "import seaborn as sns\n",
    "import os\n",
    "\n",
    "sns.set(rc = {\"figure.figsize\":(10, 6)}) #graph size\n",
    "\n",
    "for dirname, _, filenames in os.walk('/kaggle/input'):\n",
    "    for filename in filenames:\n",
    "        print(os.path.join(dirname, filename))"
   ]
  },
  {
   "cell_type": "code",
   "execution_count": null,
   "id": "0ad241e1",
   "metadata": {},
   "outputs": [],
   "source": [
    "df = pd.read_csv(\"/kaggle/input/credit-card-fraud/card_transdata.csv\")"
   ]
  },
  {
   "cell_type": "code",
   "execution_count": null,
   "id": "8bde123c",
   "metadata": {},
   "outputs": [],
   "source": [
    "df.head()"
   ]
  },
  {
   "cell_type": "code",
   "execution_count": null,
   "id": "4ddaab3c",
   "metadata": {},
   "outputs": [],
   "source": [
    "df.shape"
   ]
  },
  {
   "cell_type": "code",
   "execution_count": null,
   "id": "e07cda86",
   "metadata": {},
   "outputs": [],
   "source": [
    "df.describe().style.background_gradient(cmap = \"plasma\")"
   ]
  },
  {
   "cell_type": "code",
   "execution_count": null,
   "id": "09850a7b",
   "metadata": {},
   "outputs": [],
   "source": [
    "df.info()"
   ]
  },
  {
   "cell_type": "markdown",
   "id": "107992e8",
   "metadata": {},
   "source": [
    "**Correlation Heatmap**"
   ]
  },
  {
   "cell_type": "code",
   "execution_count": null,
   "id": "eed95b35",
   "metadata": {},
   "outputs": [],
   "source": [
    "corr = df.corr()\n",
    "\n",
    "sns.heatmap(corr, xticklabels = corr.columns, yticklabels = corr.columns, annot = True, cmap = \"hot\")"
   ]
  },
  {
   "cell_type": "code",
   "execution_count": null,
   "id": "a129b0e1",
   "metadata": {},
   "outputs": [],
   "source": [
    "# Class distribution\n",
    "# Real (class 0.0) meaning non-fraudulent transactions\n",
    "# Fraud (class 1.0) meaning fraudulent transactions\n",
    "df.value_counts(\"fraud\").plot.pie(autopct = \"%.1f\")\n",
    "df.value_counts(\"fraud\")"
   ]
  },
  {
   "cell_type": "markdown",
   "id": "bd93651c",
   "metadata": {},
   "source": [
    "**Under-sampling (Down Sampling)**"
   ]
  },
  {
   "cell_type": "code",
   "execution_count": null,
   "id": "bb79cc6e",
   "metadata": {},
   "outputs": [],
   "source": [
    "real = df[df[\"fraud\"] == 0]\n",
    "fraud = df[df[\"fraud\"] == 1]\n",
    "\n",
    "# Resampling the original dataset with 87,403 datapoints for both classes\n",
    "real_resample = real.sample(n = 87403, random_state = 123)\n",
    "fraud_resample = fraud.sample(n = 87403, random_state = 123)\n",
    "\n",
    "# Creating new dataset consisting of equal class occurence \n",
    "df0 = pd.concat([real_resample, fraud_resample], axis = 0)"
   ]
  },
  {
   "cell_type": "code",
   "execution_count": null,
   "id": "6a0ccb81",
   "metadata": {},
   "outputs": [],
   "source": [
    "df0.value_counts(\"fraud\").plot.pie(autopct = \"%.1f\")\n",
    "df0.value_counts(\"fraud\")"
   ]
  },
  {
   "cell_type": "code",
   "execution_count": null,
   "id": "b8d77133",
   "metadata": {},
   "outputs": [],
   "source": [
    "X = np.array(df0.drop(columns = \"fraud\"))\n",
    "y = np.array(df0[\"fraud\"])"
   ]
  },
  {
   "cell_type": "code",
   "execution_count": null,
   "id": "e98ab1ae",
   "metadata": {},
   "outputs": [],
   "source": [
    "# Creating Train Test Split\n",
    "X_train, X_test, y_train, y_test = model_selection.train_test_split(X, y, test_size = 0.2, random_state = 123, shuffle = True)"
   ]
  },
  {
   "cell_type": "code",
   "execution_count": null,
   "id": "df2bcbb6",
   "metadata": {},
   "outputs": [],
   "source": [
    "# Data scaling to produce good results\n",
    "scale = MinMaxScaler()\n",
    "X_train = scale.fit_transform(X_train)\n",
    "X_test = scale.transform(X_test)"
   ]
  },
  {
   "cell_type": "markdown",
   "id": "89d73d81",
   "metadata": {},
   "source": [
    "**K Nearest Neighbors Classifier**"
   ]
  },
  {
   "cell_type": "code",
   "execution_count": null,
   "id": "fd90d5f5",
   "metadata": {},
   "outputs": [],
   "source": [
    "# Empty lists for appending each value of k\n",
    "train_accuracy = []\n",
    "test_accuracy = []"
   ]
  },
  {
   "cell_type": "code",
   "execution_count": null,
   "id": "00643ded",
   "metadata": {},
   "outputs": [],
   "source": [
    "# Iterate through values of k and store results\n",
    "for k in range(3, 16):\n",
    "    knn = neighbors.KNeighborsClassifier(n_neighbors = k)\n",
    "    knn.fit(X_train, y_train)\n",
    "    y_pred = knn.predict(X_test)\n",
    "    train_accuracy.append(knn.score(X_train, y_train))\n",
    "    test_accuracy.append(knn.score(X_test, y_test))"
   ]
  },
  {
   "cell_type": "code",
   "execution_count": null,
   "id": "aa8f30e5",
   "metadata": {},
   "outputs": [],
   "source": [
    "# Displaying model accuracy for different values of k\n",
    "plt.figure(figsize = (12, 6))\n",
    "\n",
    "plt.plot(range(3, 16), train_accuracy, label = \"Train Score\",\n",
    "         marker = \"o\", markerfacecolor = \"#00FF00\", color = \"#000000\")\n",
    "\n",
    "plt.plot(range(3, 16), test_accuracy, label = \"Test Score\", \n",
    "         marker = \"o\", markerfacecolor = \"#FF0000\", color = \"#000000\")\n",
    "\n",
    "plt.xlabel(\"Number of Neighbors\")\n",
    "plt.ylabel(\"Score\")\n",
    "plt.title(\"Train vs Test Score by Number of Neighbors\")\n",
    "plt.legend()\n",
    "plt.show()"
   ]
  },
  {
   "cell_type": "markdown",
   "id": "f6880839",
   "metadata": {},
   "source": [
    "**The accuracy of our KNN model decreases as the value of k increases. Let's use k = 3 for best performance.**"
   ]
  },
  {
   "cell_type": "code",
   "execution_count": null,
   "id": "6c9e6e25",
   "metadata": {},
   "outputs": [],
   "source": [
    "knn = neighbors.KNeighborsClassifier(n_neighbors = 3)\n",
    "knn.fit(X_train, y_train)\n",
    "y_pred = knn.predict(X_test)"
   ]
  },
  {
   "cell_type": "code",
   "execution_count": null,
   "id": "8c52a14c",
   "metadata": {},
   "outputs": [],
   "source": [
    "cm = confusion_matrix(y_test, y_pred)\n",
    "cm"
   ]
  },
  {
   "cell_type": "code",
   "execution_count": null,
   "id": "35226a75",
   "metadata": {},
   "outputs": [],
   "source": [
    "precision_score(y_test, y_pred)"
   ]
  },
  {
   "cell_type": "code",
   "execution_count": null,
   "id": "f160040c",
   "metadata": {},
   "outputs": [],
   "source": [
    "plt.figure(figsize = (12, 6))\n",
    "\n",
    "sns.heatmap(cm, annot = True, cmap = \"hot\")\n",
    "plt.xlabel(\"Predicted\")\n",
    "plt.ylabel(\"Truth\")"
   ]
  },
  {
   "cell_type": "code",
   "execution_count": null,
   "id": "68a4866f",
   "metadata": {},
   "outputs": [],
   "source": [
    "accuracy = knn.score(X_test, y_test)\n",
    "print(\"KNN Accuracy:\",accuracy)\n",
    "print(classification_report(y_test, y_pred))"
   ]
  },
  {
   "cell_type": "markdown",
   "id": "fd712220",
   "metadata": {},
   "source": [
    "**Decision Tree Classifier**"
   ]
  },
  {
   "cell_type": "code",
   "execution_count": null,
   "id": "24a2293f",
   "metadata": {},
   "outputs": [],
   "source": [
    "dt = DecisionTreeClassifier(random_state = 5)  \n",
    "dt.fit(X_train, y_train) \n",
    "y_pred = dt.predict(X_test)"
   ]
  },
  {
   "cell_type": "code",
   "execution_count": null,
   "id": "a66e621e",
   "metadata": {},
   "outputs": [],
   "source": [
    "cm = confusion_matrix(y_test, y_pred)\n",
    "cm"
   ]
  },
  {
   "cell_type": "code",
   "execution_count": null,
   "id": "746ed75c",
   "metadata": {},
   "outputs": [],
   "source": [
    "precision_score(y_test, y_pred)"
   ]
  },
  {
   "cell_type": "code",
   "execution_count": null,
   "id": "8ff93975",
   "metadata": {},
   "outputs": [],
   "source": [
    "plt.figure(figsize = (12, 6))\n",
    "\n",
    "sns.heatmap(cm, annot = True, cmap = \"hot\")\n",
    "plt.xlabel(\"Predicted\")\n",
    "plt.ylabel(\"Truth\")"
   ]
  },
  {
   "cell_type": "code",
   "execution_count": null,
   "id": "fd42d07f",
   "metadata": {},
   "outputs": [],
   "source": [
    "accuracy = dt.score(X_test, y_test)\n",
    "print(\"DT Accuracy:\",accuracy)\n",
    "print(classification_report(y_test, y_pred))"
   ]
  },
  {
   "cell_type": "markdown",
   "id": "83c5f1e7",
   "metadata": {},
   "source": [
    "**Random Forest Classifier**"
   ]
  },
  {
   "cell_type": "code",
   "execution_count": null,
   "id": "46362931",
   "metadata": {},
   "outputs": [],
   "source": [
    "rf = RandomForestClassifier(random_state = 5)\n",
    "rf.fit(X_train, y_train)\n",
    "y_pred = rf.predict(X_test)"
   ]
  },
  {
   "cell_type": "code",
   "execution_count": null,
   "id": "68c26776",
   "metadata": {},
   "outputs": [],
   "source": [
    "cm = confusion_matrix(y_test, y_pred)\n",
    "cm"
   ]
  },
  {
   "cell_type": "code",
   "execution_count": null,
   "id": "0ae9575c",
   "metadata": {},
   "outputs": [],
   "source": [
    "precision_score(y_test, y_pred)"
   ]
  },
  {
   "cell_type": "code",
   "execution_count": null,
   "id": "990bb8db",
   "metadata": {},
   "outputs": [],
   "source": [
    "plt.figure(figsize = (12, 6))\n",
    "\n",
    "sns.heatmap(cm, annot = True, cmap = \"hot\")\n",
    "plt.xlabel(\"Predicted\")\n",
    "plt.ylabel(\"Truth\")"
   ]
  },
  {
   "cell_type": "code",
   "execution_count": null,
   "id": "77a2c005",
   "metadata": {},
   "outputs": [],
   "source": [
    "accuracy = rf.score(X_test, y_test)\n",
    "print(\"RF Accuracy:\",accuracy)\n",
    "print(classification_report(y_test, y_pred))"
   ]
  },
  {
   "cell_type": "markdown",
   "id": "ed4f9448",
   "metadata": {},
   "source": [
    "**Thank you for viewing this notebook. Please feel free to provide any feedback on this notebook! I am always looking to improve.**"
   ]
  }
 ],
 "metadata": {},
 "nbformat": 4,
 "nbformat_minor": 5
}
