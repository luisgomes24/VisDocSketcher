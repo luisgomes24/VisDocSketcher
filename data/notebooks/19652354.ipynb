{
 "cells": [
  {
   "cell_type": "code",
   "execution_count": null,
   "id": "b8ff3378",
   "metadata": {},
   "outputs": [],
   "source": [
    "# This Python 3 environment comes with many helpful analytics libraries installed\n",
    "# It is defined by the kaggle/python Docker image: https://github.com/kaggle/docker-python\n",
    "# For example, here's several helpful packages to load\n",
    "\n",
    "import numpy as np # linear algebra\n",
    "import pandas as pd # data processing, CSV file I/O (e.g. pd.read_csv)\n",
    "\n",
    "# Input data files are available in the read-only \"../input/\" directory\n",
    "# For example, running this (by clicking run or pressing Shift+Enter) will list all files under the input directory\n",
    "\n",
    "import os\n",
    "for dirname, _, filenames in os.walk('/kaggle/input'):\n",
    "    for filename in filenames:\n",
    "        print(os.path.join(dirname, filename))\n",
    "\n",
    "# You can write up to 20GB to the current directory (/kaggle/working/) that gets preserved as output when you create a version using \"Save & Run All\" \n",
    "# You can also write temporary files to /kaggle/temp/, but they won't be saved outside of the current session"
   ]
  },
  {
   "cell_type": "markdown",
   "id": "a7bc1bce",
   "metadata": {},
   "source": [
    "***Dataset Story***\n",
    "\n",
    "* The data set named Online Retail - II includes the sales of an online store between 01/12/2009 - 09/12/2011.\n",
    "\n",
    "* The product catalog of this company includes souvenirs.\n",
    "\n",
    "* The majority of the company's customers are corporate customers.\n",
    "\n",
    "Building of CRM strategies that overlap with customers’ expectations and needs and also adopt the insight of right customer, right product, right time, right offer is one of the most important approach to deepen customer relationships.\n",
    "\n",
    "For this purpose, you want to build customer-oriented strategies. You aim to contact your customers with different campaigns, fictions and attractive messages. So which customer will you contact with which strategy? In summary, do you know the answers to the following questions?\n",
    "\n",
    "* How recent was a customer's latest purchase? (Recency)\n",
    "\n",
    "* How often a customer makes a purchase? (Frequency)\n",
    "\n",
    "* How much money a customer spends on? (Monetary)\n",
    "\n",
    "At this point, the most effective way of identifying your customers is to combine CRM with Analytics. ​“RFM Analysis” is an indispensable application of CRM Analytics which answers these questions and ensure to get deeply insights about customer habits.\n",
    "\n",
    "In this study, below topics have been handled:\n",
    "\n",
    "Calculating R, F, M values ,\n",
    "Divide into groups according to RFM Scores\n",
    "Personalize of marketing strategies for relevant segments."
   ]
  },
  {
   "cell_type": "markdown",
   "id": "6553a761",
   "metadata": {},
   "source": [
    "****Business Problem & Goal:****\n",
    " \n",
    "An e-commerce company thinks that doing marketing activities based on customer segments with common behaviors will increase income. For this reason, it is aimed to divide customers into segments and determine marketing strategies according to these segments."
   ]
  },
  {
   "cell_type": "markdown",
   "id": "7d4509fc",
   "metadata": {},
   "source": [
    "***Variables Description:***\n",
    "\n",
    "* InvoiceNo : The number of the invoice, unique per each purchase. Refund invoice numbers contain \"C\"\n",
    "\n",
    "* StockCode : Unique code per each item\n",
    "\n",
    "* Description : Name of the item\n",
    "\n",
    "* Quantity : The number of items within the invoice\n",
    "\n",
    "* InvoiceDate : Date and time of the purchase\n",
    "\n",
    "* UnitPrice : Price of a single item, as of Sterlin\n",
    "\n",
    "* CustomerID : Unique id number per each customer\n",
    "\n",
    "* Country : The country where the customer is living\n"
   ]
  },
  {
   "cell_type": "code",
   "execution_count": null,
   "id": "d36fef90",
   "metadata": {},
   "outputs": [],
   "source": [
    "# Import Libraries:\n",
    "\n",
    "\n",
    "import pandas as pd\n",
    "import seaborn as sns\n",
    "import matplotlib.pyplot as plt\n",
    "import datetime as dt\n",
    "from datetime import timedelta\n",
    "\n",
    "# Setting Configurations:\n",
    "\n",
    "pd.set_option('display.max_columns', None)\n",
    "pd.set_option('display.float_format', lambda x: '%.3f' % x)\n",
    "\n",
    "# Import Warnings:\n",
    "\n",
    "import warnings\n",
    "warnings.filterwarnings(\"ignore\")\n",
    "warnings.simplefilter(action='ignore', category=FutureWarning)\n",
    "warnings.simplefilter(action='ignore', category=DeprecationWarning)\n",
    "\n",
    "\n",
    "# Import helpers Module\n",
    "\n",
    "from shutil import copyfile\n",
    "copyfile(src = \"../input/helpers/eda.py\", dst = \"../working/eda.py\")\n",
    "copyfile(src = \"../input/helpers/data_prep.py\", dst = \"../working/data_prep.py\")\n",
    "\n",
    "from data_prep import *\n",
    "from eda import *\n"
   ]
  },
  {
   "cell_type": "code",
   "execution_count": null,
   "id": "c2493ea8",
   "metadata": {},
   "outputs": [],
   "source": [
    "# Import Data:\n",
    "\n",
    "df = pd.read_csv(\"../input/online-retail-ii-data-set-from-ml-repository/Year 2010-2011.csv\")\n",
    "\n",
    "df.head()"
   ]
  },
  {
   "cell_type": "markdown",
   "id": "2ac897d3",
   "metadata": {},
   "source": [
    "***Exploratory Data Analysis***"
   ]
  },
  {
   "cell_type": "code",
   "execution_count": null,
   "id": "93c7d61d",
   "metadata": {},
   "outputs": [],
   "source": [
    "check_df(df)"
   ]
  },
  {
   "cell_type": "code",
   "execution_count": null,
   "id": "ec471f94",
   "metadata": {},
   "outputs": [],
   "source": [
    "# Categorical / Numerical / Cardinal Features: \n",
    "\n",
    "cat_cols, num_cols, cat_but_car = grab_col_names(df)\n",
    "num_cols = [col for col in num_cols if (\"ID\" not in col) and (\"Date\" not in col) ]"
   ]
  },
  {
   "cell_type": "markdown",
   "id": "7263f654",
   "metadata": {},
   "source": [
    "The dataset includes 8 features in which there're 3 numerical columns and 5 categorical columns. But there is no column which has high cardinality"
   ]
  },
  {
   "cell_type": "code",
   "execution_count": null,
   "id": "6352124c",
   "metadata": {},
   "outputs": [],
   "source": [
    "# Let's observe  numerical columns: \n",
    "\n",
    "for col in num_cols:\n",
    "    num_summary(df,col)"
   ]
  },
  {
   "cell_type": "code",
   "execution_count": null,
   "id": "54e2e181",
   "metadata": {},
   "outputs": [],
   "source": [
    "# Missing Values:\n",
    "\n",
    "missing_values_table(df)"
   ]
  },
  {
   "cell_type": "code",
   "execution_count": null,
   "id": "5b9e4e58",
   "metadata": {},
   "outputs": [],
   "source": [
    "# Drop NA values:\n",
    "\n",
    "df.dropna(inplace=True)\n",
    "missing_values_table(df)"
   ]
  },
  {
   "cell_type": "code",
   "execution_count": null,
   "id": "6cc2780f",
   "metadata": {},
   "outputs": [],
   "source": [
    "# Let's remove the returned product transactions (negative values -> Invoice Id contains value \"C\")\n",
    "\n",
    "df_Invoice = pd.DataFrame({\"Invoice\":[row for row in df[\"Invoice\"].values if \"C\"  not in str(row)]})\n",
    "df_Invoice.head()\n",
    "df_Invoice = df_Invoice.drop_duplicates(\"Invoice\")\n",
    "\n",
    "# The transactions except returned product transactions\n",
    "df = df.merge(df_Invoice, on = \"Invoice\")\n"
   ]
  },
  {
   "cell_type": "code",
   "execution_count": null,
   "id": "4d26a719",
   "metadata": {},
   "outputs": [],
   "source": [
    "# Delete values less than or equal to 0 in the variables Quantity and Price\n",
    "\n",
    "df = df[df[\"Quantity\"] > 0]\n",
    "df = df[df[\"Price\"] > 0]"
   ]
  },
  {
   "cell_type": "code",
   "execution_count": null,
   "id": "061f1cf8",
   "metadata": {},
   "outputs": [],
   "source": [
    "# Let's only observe outlier values but we don't need to handle outliers as a problem, because we'll be scoring the dataset.\n",
    "\n",
    "for col in num_cols:\n",
    "    grab_outliers(df,col)\n",
    " "
   ]
  },
  {
   "cell_type": "code",
   "execution_count": null,
   "id": "504acffe",
   "metadata": {},
   "outputs": [],
   "source": [
    "# Unique Number of Products (with Description)\n",
    "\n",
    "df.Description.nunique()"
   ]
  },
  {
   "cell_type": "code",
   "execution_count": null,
   "id": "94b62f19",
   "metadata": {},
   "outputs": [],
   "source": [
    "# Unique Number of Products (with StockCode)\n",
    "\n",
    "df.StockCode.nunique()"
   ]
  },
  {
   "cell_type": "code",
   "execution_count": null,
   "id": "7f22c103",
   "metadata": {},
   "outputs": [],
   "source": [
    "# The unique values of these 2 variables (Description & StockCode) should be equal, because each stock code represents a product.\n",
    "\n",
    "# 1st Step\n",
    "df_product = df[[\"Description\",\"StockCode\"]].drop_duplicates()\n",
    "df_product = df_product.groupby([\"Description\"]).agg({\"StockCode\":\"count\"}).reset_index()\n",
    "\n",
    "\n",
    "df_product.rename(columns={'StockCode':'StockCode_Count'},inplace=True)\n",
    "df_product.head()"
   ]
  },
  {
   "cell_type": "code",
   "execution_count": null,
   "id": "217df9f0",
   "metadata": {},
   "outputs": [],
   "source": [
    "df_product = df_product.sort_values(\"StockCode_Count\", ascending=False)\n",
    "df_product = df_product[df_product[\"StockCode_Count\"]>1]\n",
    "\n",
    "df_product.head()"
   ]
  },
  {
   "cell_type": "code",
   "execution_count": null,
   "id": "424b2625",
   "metadata": {},
   "outputs": [],
   "source": [
    "# Let's delete products with more than one stock code \n",
    "\n",
    "df = df[~df[\"Description\"].isin(df_product[\"Description\"])]\n",
    "\n",
    "print(df.StockCode.nunique())\n",
    "print(df.Description.nunique())"
   ]
  },
  {
   "cell_type": "code",
   "execution_count": null,
   "id": "faaebd90",
   "metadata": {},
   "outputs": [],
   "source": [
    "# 2nd Step\n",
    "\n",
    "df_product = df[[\"Description\",\"StockCode\"]].drop_duplicates()\n",
    "df_product = df_product.groupby([\"StockCode\"]).agg({\"Description\":\"count\"}).reset_index()\n",
    "df_product.rename(columns={'Description':'Description_Count'},inplace=True)\n",
    "df_product = df_product.sort_values(\"Description_Count\", ascending=False)\n",
    "df_product = df_product[df_product[\"Description_Count\"] > 1] \n",
    "\n",
    "\n",
    "df_product.head()\n"
   ]
  },
  {
   "cell_type": "code",
   "execution_count": null,
   "id": "e8079a6c",
   "metadata": {},
   "outputs": [],
   "source": [
    "# Let's delete stock codes that represent multiple products\n",
    "\n",
    "df = df[~df[\"StockCode\"].isin(df_product[\"StockCode\"])]"
   ]
  },
  {
   "cell_type": "code",
   "execution_count": null,
   "id": "c18f739e",
   "metadata": {},
   "outputs": [],
   "source": [
    "# Now each stock code represents a single product\n",
    "\n",
    "print(df.StockCode.nunique())\n",
    "print(df.Description.nunique())"
   ]
  },
  {
   "cell_type": "code",
   "execution_count": null,
   "id": "835526a2",
   "metadata": {},
   "outputs": [],
   "source": [
    "# The post statement in the stock code shows the postage cost, let's delete it as it is not a product\n",
    "\n",
    "df = df[~df[\"StockCode\"].str.contains(\"POST\", na=False)]"
   ]
  },
  {
   "cell_type": "code",
   "execution_count": null,
   "id": "2affd5bf",
   "metadata": {},
   "outputs": [],
   "source": [
    "# Calculating Total Price:\n",
    "\n",
    "df['TotalPrice'] = df['Quantity'] * df['Price']"
   ]
  },
  {
   "cell_type": "code",
   "execution_count": null,
   "id": "3fecd576",
   "metadata": {},
   "outputs": [],
   "source": [
    "df.head()"
   ]
  },
  {
   "cell_type": "markdown",
   "id": "e7b6d7d9",
   "metadata": {},
   "source": [
    "***Calculating RFM Metrics***"
   ]
  },
  {
   "cell_type": "code",
   "execution_count": null,
   "id": "3fb80a11",
   "metadata": {},
   "outputs": [],
   "source": [
    "df.info()"
   ]
  },
  {
   "cell_type": "code",
   "execution_count": null,
   "id": "a8943d5c",
   "metadata": {},
   "outputs": [],
   "source": [
    "# Let's observe the last transaction date.\n",
    "# So we can determine the performans/measurement date for calculating how recent a customer's latest purchase was.\n",
    "\n",
    "df['InvoiceDate'] = pd.to_datetime(df['InvoiceDate'])\n",
    "df['InvoiceDate'].max()"
   ]
  },
  {
   "cell_type": "code",
   "execution_count": null,
   "id": "c06415e3",
   "metadata": {},
   "outputs": [],
   "source": [
    "# Assign \"performans_date\" as 2 days after the last transaction date of purchase:\n",
    "\n",
    "performans_date = df[\"InvoiceDate\"].max() + timedelta(days=2)\n",
    "performans_date"
   ]
  },
  {
   "cell_type": "markdown",
   "id": "0ce0ab6d",
   "metadata": {},
   "source": [
    "Let's create a new df called as rfm_df by calculating the Recency, Frequency and Monetary values.\n",
    "\n",
    "* Recency : the number of days between performans_date and the last purchase date of  each customers\n",
    "* Frequency: the number of transactions (unique invoices) of each customers\n",
    "* Monetary : the sum of TotalPrice of each customers."
   ]
  },
  {
   "cell_type": "code",
   "execution_count": null,
   "id": "778de563",
   "metadata": {},
   "outputs": [],
   "source": [
    "rfm_df = df.groupby(\"Customer ID\").agg \\\n",
    "                                    ({\"InvoiceDate\" : lambda InvoiceDate :(performans_date - InvoiceDate.max()).days,  # Recency\n",
    "                                     \"Invoice\" : lambda Invoice: Invoice.nunique(),  # Frequency\n",
    "                                     \"TotalPrice\":  lambda Total_Price: Total_Price.sum()})    # Monetary\n"
   ]
  },
  {
   "cell_type": "code",
   "execution_count": null,
   "id": "0c291474",
   "metadata": {},
   "outputs": [],
   "source": [
    "rfm_df.head()"
   ]
  },
  {
   "cell_type": "code",
   "execution_count": null,
   "id": "029de833",
   "metadata": {},
   "outputs": [],
   "source": [
    "# Replace column names with Recency, Frequency and Monetary:\n",
    "\n",
    "rfm_df.columns = ['recency', 'frequency', 'monetary']\n",
    "\n",
    "rfm_df.head()"
   ]
  },
  {
   "cell_type": "code",
   "execution_count": null,
   "id": "a1e3966e",
   "metadata": {},
   "outputs": [],
   "source": [
    "# Let's check if the values inclued any NaN values:\n",
    "\n",
    "check_df(rfm_df)"
   ]
  },
  {
   "cell_type": "markdown",
   "id": "71aad96d",
   "metadata": {},
   "source": [
    "***Assigning RFM Scores***\n",
    "\n",
    "*  RFM analysis numerically scale each of these three categories for each customer 1 to 5. This is the higher the number, the better the result. The \"Best\" customer would receive a top score in every category whereas for Receny score, this is the opposite, because the most valueable customer is that has recently made purchasing so Recency score is labeled as 1.\n",
    "\n",
    "* The max number of Frequency and Monetary metrics mean that the customer is purchasing frequently and spending more money, so the highest score should be given as 5 to represent best customers.\n"
   ]
  },
  {
   "cell_type": "code",
   "execution_count": null,
   "id": "807c4b47",
   "metadata": {},
   "outputs": [],
   "source": [
    "rfm_df[\"Recency_Score\"]  = pd.qcut(rfm_df['recency'], 5, [5, 4, 3, 2, 1])\n",
    "rfm_df[\"Frequency_Score\"]  = pd.qcut(rfm_df['frequency'].rank(method=\"first\"), 5, [1, 2, 3, 4, 5])\n",
    "rfm_df[\"Monetary_Score\"]  = pd.qcut(rfm_df['monetary'], 5, [1, 2, 3, 4, 5])"
   ]
  },
  {
   "cell_type": "code",
   "execution_count": null,
   "id": "05cf6933",
   "metadata": {},
   "outputs": [],
   "source": [
    "\n",
    "rfm_df[\"RFM_SCORE\"] = (rfm_df['Recency_Score'].astype(str) +\n",
    "                    rfm_df['Frequency_Score'].astype(str))\n",
    "\n",
    "rfm_df.head() "
   ]
  },
  {
   "cell_type": "markdown",
   "id": "734a7632",
   "metadata": {},
   "source": [
    "***Generating Segments Based on RFM Scores***\n",
    "\n",
    "We can assign the segments by using  Receny & Frequency Grid frequently seen in the literature."
   ]
  },
  {
   "cell_type": "code",
   "execution_count": null,
   "id": "e3208350",
   "metadata": {},
   "outputs": [],
   "source": [
    "rfm_df['Segment'] = rfm_df['RFM_SCORE']\n",
    "rfm_df.head()"
   ]
  },
  {
   "cell_type": "code",
   "execution_count": null,
   "id": "a6ab9a3a",
   "metadata": {},
   "outputs": [],
   "source": [
    "seg_map = {\n",
    "    r'[1-2][1-2]': 'hibernating',\n",
    "    r'[1-2][3-4]': 'at_Risk',\n",
    "    r'[1-2]5': 'cant_loose',\n",
    "    r'3[1-2]': 'about_to_sleep',\n",
    "    r'33': 'need_attention',\n",
    "    r'[3-4][4-5]': 'loyal_customers',\n",
    "    r'41': 'promising',\n",
    "    r'51': 'new_customers',\n",
    "    r'[4-5][2-3]': 'potential_loyalists',\n",
    "    r'5[4-5]': 'champions'\n",
    "}"
   ]
  },
  {
   "cell_type": "code",
   "execution_count": null,
   "id": "2608d95e",
   "metadata": {},
   "outputs": [],
   "source": [
    "rfm_df['Segment'] = rfm_df['Segment'].replace(seg_map, regex=True)\n",
    "rfm_df.reset_index(inplace=True)\n",
    "rfm_df.head()"
   ]
  },
  {
   "cell_type": "code",
   "execution_count": null,
   "id": "10cd90fc",
   "metadata": {},
   "outputs": [],
   "source": [
    "rfm_df.groupby('Segment').agg({\"Customer ID\":\"count\"}).sort_values(\"Customer ID\",ascending=False)"
   ]
  },
  {
   "cell_type": "code",
   "execution_count": null,
   "id": "3c493e5d",
   "metadata": {},
   "outputs": [],
   "source": [
    "colors  = (\"darkorange\", \"darkseagreen\", \"orange\", \"cyan\", \"cadetblue\", \"hotpink\", \"lightsteelblue\", \"coral\",  \"mediumaquamarine\",\"palegoldenrod\")\n",
    "explodes = [0.25, 0.25, 0.25, 0.25, 0.25, 0.25, 0.25, 0.25, 0.25, 0.25]\n",
    "\n",
    "rfm_df[\"Segment\"].value_counts(sort=False).plot.pie(colors=colors,\n",
    "                                                 textprops={'fontsize': 12}, \n",
    "                                                 autopct = '%4.1f',\n",
    "                                                 startangle= 90, \n",
    "                                                 radius =2, \n",
    "                                                 rotatelabels=True,\n",
    "                                                 shadow = True, \n",
    "                                                 explode = explodes)\n",
    "plt.ylabel(\"\");\n"
   ]
  },
  {
   "cell_type": "markdown",
   "id": "f3ac9246",
   "metadata": {},
   "source": [
    "***Build Marketing Strategies***"
   ]
  },
  {
   "cell_type": "code",
   "execution_count": null,
   "id": "2f2de1e6",
   "metadata": {},
   "outputs": [],
   "source": [
    "rfm_df[[\"recency\", \"frequency\", \"monetary\"]].agg([\"mean\"])"
   ]
  },
  {
   "cell_type": "code",
   "execution_count": null,
   "id": "ae53f7a8",
   "metadata": {},
   "outputs": [],
   "source": [
    "rfm_df[[\"Segment\",\"recency\", \"frequency\", \"monetary\"]].groupby(\"Segment\").agg([\"mean\", \"count\",\"sum\"])"
   ]
  },
  {
   "cell_type": "markdown",
   "id": "c9ff2a0f",
   "metadata": {},
   "source": [
    "Now, let's focus on some segments which can be critically important for marketing strategies\n",
    "\n",
    "* champions\n",
    "* loyal_customers\n",
    "* cant_loose\n",
    "* need_attention \n",
    "\n"
   ]
  },
  {
   "cell_type": "markdown",
   "id": "8e12b871",
   "metadata": {},
   "source": [
    "* **Champions:**\n",
    "\n",
    "This segment constitutes 15% of the customer portfolio and also it includes 641 customers who have made their last purchases within the last week and generate an average turnover of 6000 TL. Because of this segment consists of customers  most frequently spends and can easily  adopt to new products and services, cross-sales strategies can be taken for this segment.\n",
    "\n"
   ]
  },
  {
   "cell_type": "markdown",
   "id": "bef966a6",
   "metadata": {},
   "source": [
    "* **Loyal Customers:**\n",
    "\n",
    "There are 818 customers in this segment, and while the purchasing frequency is 4 on average in all customer segments, it has been seen that average purchases are 2 times higher in this segment (average of frequency is 8). The average monetary value of this segment is 50% above the general average. \n",
    "\n",
    "As a conclusion,  in order to ensure customer loyalty sustainable, cross-sell communications in line with customer expectations and needs can be organized for this segment.\n",
    "\n",
    "\n",
    "\n",
    "\n"
   ]
  },
  {
   "cell_type": "markdown",
   "id": "1423880d",
   "metadata": {},
   "source": [
    "* **Need_Attention:**\n",
    "\n",
    "\n",
    "There are 184 customers that last purchased nearly 2 months ago in this segment. Although they dont make purchase frequently,  total transaction amounts of these customers contribute to profitability. \n",
    "\n",
    "As a result, Cashback and bonus campaigns can be organized for this segment to retain customers and even move them to a segment that makes more purchases. In fact, discounted product offers and campaigns based on gift coupons can be planned  by observing  habits of other customers with similar behaviors, and analyzing according product association rules."
   ]
  },
  {
   "cell_type": "markdown",
   "id": "d4045231",
   "metadata": {},
   "source": [
    "* **Can't_loose:** \n",
    "\n",
    "Customers of Can't_Loose segment have a higher transaction frequency, even though their spending amounts are close to the loyal customer segment. However, since these customers are nearly lost customers that made last purchases nearly 4 months ago.\n",
    "\n",
    "So, new campaign strategies based on rewards, discounts, and other special incentives as a way to attract and retain customers can be planned in order to make them feel special and loyal again. "
   ]
  }
 ],
 "metadata": {},
 "nbformat": 4,
 "nbformat_minor": 5
}
