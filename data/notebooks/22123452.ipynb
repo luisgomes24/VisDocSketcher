{
 "cells": [
  {
   "cell_type": "code",
   "execution_count": null,
   "id": "1d6bea38",
   "metadata": {},
   "outputs": [],
   "source": [
    "import pandas as pd\n",
    "import numpy as np\n",
    "df = pd.read_csv(\"../input/india-census-dataset/India Census 2011 Data.csv\")\n",
    "df.head()"
   ]
  },
  {
   "cell_type": "markdown",
   "id": "3ba31aa7",
   "metadata": {},
   "source": [
    "#### How will you hide the indexes of the dataframe?"
   ]
  },
  {
   "cell_type": "code",
   "execution_count": null,
   "id": "7616b33b",
   "metadata": {},
   "outputs": [],
   "source": [
    "df.style.hide_index()"
   ]
  },
  {
   "cell_type": "markdown",
   "id": "d9a5af91",
   "metadata": {},
   "source": [
    "####  How can we set the caption / heading on the dataframe?"
   ]
  },
  {
   "cell_type": "code",
   "execution_count": null,
   "id": "00a23506",
   "metadata": {},
   "outputs": [],
   "source": [
    "df.style.set_caption(\"India Census 2011\")"
   ]
  },
  {
   "cell_type": "markdown",
   "id": "254bf30c",
   "metadata": {},
   "source": [
    "#### Show the records related with the districts - New Delhi , Lucknow , Jaipur."
   ]
  },
  {
   "cell_type": "code",
   "execution_count": null,
   "id": "2b57d0d3",
   "metadata": {},
   "outputs": [],
   "source": [
    "df.District_name.unique()"
   ]
  },
  {
   "cell_type": "code",
   "execution_count": null,
   "id": "455be071",
   "metadata": {},
   "outputs": [],
   "source": [
    "df[df[\"District_name\"].isin([\"New Delhi\",\"Lucknow\",\"Jaipur\"])]"
   ]
  },
  {
   "cell_type": "markdown",
   "id": "b2402af6",
   "metadata": {},
   "source": [
    "###                                                                  Or"
   ]
  },
  {
   "cell_type": "code",
   "execution_count": null,
   "id": "698223a6",
   "metadata": {},
   "outputs": [],
   "source": [
    "df[(df[\"District_name\"]==\"New Delhi\") | (df[\"District_name\"]==\"Lucknow\") |(df[\"District_name\"]==\"Jaipur\")]"
   ]
  },
  {
   "cell_type": "markdown",
   "id": "1045d753",
   "metadata": {},
   "source": [
    "#### Calculate state-wise :\n",
    "A. Total number of population.\n",
    "B. Total no. of the population with different religions."
   ]
  },
  {
   "cell_type": "code",
   "execution_count": null,
   "id": "39ea372c",
   "metadata": {},
   "outputs": [],
   "source": [
    "df.groupby(\"State_name\")[\"Population\"].sum().sort_values(ascending=False)"
   ]
  },
  {
   "cell_type": "code",
   "execution_count": null,
   "id": "a34de038",
   "metadata": {},
   "outputs": [],
   "source": [
    "df.groupby(\"State_name\")[\"Hindus\",\"Sikhs\",\"Jains\",\"Buddhists\",\"Christians\",\"Muslims\"].sum().sort_values(by=\"Hindus\")"
   ]
  },
  {
   "cell_type": "markdown",
   "id": "8ba3f7dd",
   "metadata": {},
   "source": [
    "#### How many Male Workers were there in Maharashtra state ?"
   ]
  },
  {
   "cell_type": "code",
   "execution_count": null,
   "id": "e1e57e9f",
   "metadata": {},
   "outputs": [],
   "source": [
    "df[df[\"State_name\"]==\"MAHARASHTRA\"][\"Male_Workers\"].sum()"
   ]
  },
  {
   "cell_type": "markdown",
   "id": "6baf5415",
   "metadata": {},
   "source": [
    "#### How to set a column as index of the dataframe ?"
   ]
  },
  {
   "cell_type": "code",
   "execution_count": null,
   "id": "4c86aa17",
   "metadata": {},
   "outputs": [],
   "source": [
    "#Lets set State_name as index\n",
    "df.set_index(\"State_name\",inplace=True)\n",
    "df.head()"
   ]
  },
  {
   "cell_type": "markdown",
   "id": "7c2bb6eb",
   "metadata": {},
   "source": [
    "#### Add a Suffix and Prefix to the column names."
   ]
  },
  {
   "cell_type": "code",
   "execution_count": null,
   "id": "ca4c64ac",
   "metadata": {},
   "outputs": [],
   "source": [
    "df = df.add_suffix(\"_\") # This will add suffix to each column\n",
    "df = df.add_prefix(\"_\") # This will add prefix to each column\n",
    "df"
   ]
  },
  {
   "cell_type": "markdown",
   "id": "b38d739e",
   "metadata": {},
   "source": [
    "# End"
   ]
  },
  {
   "cell_type": "code",
   "execution_count": null,
   "id": "4e07dfd1",
   "metadata": {},
   "outputs": [],
   "source": [
    "nan"
   ]
  }
 ],
 "metadata": {},
 "nbformat": 4,
 "nbformat_minor": 5
}
