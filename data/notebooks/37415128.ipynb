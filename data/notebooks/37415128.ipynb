{
 "cells": [
  {
   "cell_type": "code",
   "execution_count": null,
   "id": "e071289e",
   "metadata": {},
   "outputs": [],
   "source": [
    "# This Python 3 environment comes with many helpful analytics libraries installed\n",
    "# It is defined by the kaggle/python Docker image: https://github.com/kaggle/docker-python\n",
    "# For example, here's several helpful packages to load\n",
    "\n",
    "import numpy as np # linear algebra\n",
    "import pandas as pd # data processing, CSV file I/O (e.g. pd.read_csv)\n",
    "\n",
    "# Input data files are available in the read-only \"../input/\" directory\n",
    "# For example, running this (by clicking run or pressing Shift+Enter) will list all files under the input directory\n",
    "\n",
    "import os\n",
    "for dirname, _, filenames in os.walk('/kaggle/input'):\n",
    "    for filename in filenames:\n",
    "        print(os.path.join(dirname, filename))\n",
    "\n",
    "# You can write up to 20GB to the current directory (/kaggle/working/) that gets preserved as output when you create a version using \"Save & Run All\" \n",
    "# You can also write temporary files to /kaggle/temp/, but they won't be saved outside of the current session"
   ]
  },
  {
   "cell_type": "code",
   "execution_count": null,
   "id": "47d95906",
   "metadata": {},
   "outputs": [],
   "source": [
    "import pandas as pd\n",
    "import numpy as np\n",
    "import seaborn as sns\n",
    "import matplotlib.pyplot as plt"
   ]
  },
  {
   "cell_type": "code",
   "execution_count": null,
   "id": "f6073703",
   "metadata": {},
   "outputs": [],
   "source": [
    "df = pd.read_csv('/kaggle/input/drug-performance-evaluation/Drug.csv')"
   ]
  },
  {
   "cell_type": "code",
   "execution_count": null,
   "id": "d31237f2",
   "metadata": {},
   "outputs": [],
   "source": [
    "df.head()"
   ]
  },
  {
   "cell_type": "code",
   "execution_count": null,
   "id": "4160c6be",
   "metadata": {},
   "outputs": [],
   "source": [
    "df.isna().sum()"
   ]
  },
  {
   "cell_type": "code",
   "execution_count": null,
   "id": "74455471",
   "metadata": {},
   "outputs": [],
   "source": [
    "df.describe()"
   ]
  },
  {
   "cell_type": "code",
   "execution_count": null,
   "id": "01a75da8",
   "metadata": {},
   "outputs": [],
   "source": [
    "df['Drug'].value_counts()"
   ]
  },
  {
   "cell_type": "code",
   "execution_count": null,
   "id": "a7a2e045",
   "metadata": {},
   "outputs": [],
   "source": [
    "df['Condition'].value_counts()"
   ]
  },
  {
   "cell_type": "code",
   "execution_count": null,
   "id": "bfb7892d",
   "metadata": {},
   "outputs": [],
   "source": [
    "df['Indication'].value_counts()\n",
    "# On Label: prescribed exactly as approved by FDA\n",
    "# Off Label: not prescribed exactly as approved by FDA"
   ]
  },
  {
   "cell_type": "code",
   "execution_count": null,
   "id": "bb905c51",
   "metadata": {},
   "outputs": [],
   "source": [
    "df['Indication'] = df['Indication'].str.replace('\\r\\n', 'Unknown')\n",
    "\n",
    "df['Indication'].value_counts()"
   ]
  },
  {
   "cell_type": "code",
   "execution_count": null,
   "id": "e20107bc",
   "metadata": {},
   "outputs": [],
   "source": [
    "df['Type'].value_counts()\n",
    "# RX: need prescription\n",
    "# OTC: prescription not required"
   ]
  },
  {
   "cell_type": "code",
   "execution_count": null,
   "id": "73604bd6",
   "metadata": {},
   "outputs": [],
   "source": [
    "df['Type'] = df['Type'].str.replace('\\r\\n', 'Unknown')\n",
    "\n",
    "df['Type'].value_counts()"
   ]
  },
  {
   "cell_type": "code",
   "execution_count": null,
   "id": "20c34c3c",
   "metadata": {},
   "outputs": [],
   "source": [
    "df['Reviews'] = df['Reviews'].str.replace('Reviews', '')\n",
    "df['Reviews'] = df['Reviews'].astype('float64')"
   ]
  },
  {
   "cell_type": "code",
   "execution_count": null,
   "id": "23eb4063",
   "metadata": {},
   "outputs": [],
   "source": [
    "df.dtypes"
   ]
  },
  {
   "cell_type": "code",
   "execution_count": null,
   "id": "35d0729a",
   "metadata": {},
   "outputs": [],
   "source": [
    "def categorize_effectiveness(effective):\n",
    "    if effective < 1.0 : return 'Very Uneffective'\n",
    "    elif effective < 2.0 : return 'Uneffective'\n",
    "    elif effective < 3.0 : return 'Partly Effective'\n",
    "    elif effective < 4.0 : return 'More Than Effective'\n",
    "    elif effective <= 5.0 : return 'Very Effective'"
   ]
  },
  {
   "cell_type": "code",
   "execution_count": null,
   "id": "a73f3017",
   "metadata": {},
   "outputs": [],
   "source": [
    "df['Effective_Cat'] = df['Effective'].apply(categorize_effectiveness)"
   ]
  },
  {
   "cell_type": "code",
   "execution_count": null,
   "id": "9c1039a9",
   "metadata": {},
   "outputs": [],
   "source": [
    "df['Effective_Cat'].value_counts()"
   ]
  },
  {
   "cell_type": "code",
   "execution_count": null,
   "id": "ad3002da",
   "metadata": {},
   "outputs": [],
   "source": [
    "df[['Effective_Cat', 'Type']].groupby(['Effective_Cat','Type'])['Type'].count()"
   ]
  },
  {
   "cell_type": "code",
   "execution_count": null,
   "id": "91ceb4f9",
   "metadata": {},
   "outputs": [],
   "source": [
    "df[['Effective_Cat', 'Indication']].groupby(['Effective_Cat','Indication'])['Effective_Cat'].count()"
   ]
  },
  {
   "cell_type": "code",
   "execution_count": null,
   "id": "d975d990",
   "metadata": {},
   "outputs": [],
   "source": [
    "def categorize_ease_of_use(easeOfUse):\n",
    "    if easeOfUse < 1.0 : return 'Very Difficult'\n",
    "    elif easeOfUse < 2.0 : return 'Difficult'\n",
    "    elif easeOfUse < 3.0 : return 'Normal'\n",
    "    elif easeOfUse < 4.0 : return 'Easy'\n",
    "    elif easeOfUse <= 5.0 : return 'Very Easy'"
   ]
  },
  {
   "cell_type": "code",
   "execution_count": null,
   "id": "d2bf5d0b",
   "metadata": {},
   "outputs": [],
   "source": [
    "df['EaseOfUse_Cat'] = df['EaseOfUse'].apply(categorize_ease_of_use)"
   ]
  },
  {
   "cell_type": "code",
   "execution_count": null,
   "id": "3abab7d9",
   "metadata": {},
   "outputs": [],
   "source": [
    "df['EaseOfUse_Cat'].value_counts()"
   ]
  },
  {
   "cell_type": "code",
   "execution_count": null,
   "id": "53322a0d",
   "metadata": {},
   "outputs": [],
   "source": [
    "df[['EaseOfUse_Cat', 'Type']].groupby(['EaseOfUse_Cat','Type'])['Type'].count()"
   ]
  },
  {
   "cell_type": "code",
   "execution_count": null,
   "id": "bcc0e3b4",
   "metadata": {},
   "outputs": [],
   "source": [
    "def categorize_satisfaction(satisfaction):\n",
    "    if satisfaction < 1.0 : return 'Very Unsatisfied'\n",
    "    elif satisfaction < 2.0 : return 'Unsatisfied'\n",
    "    elif satisfaction < 3.0 : return 'Partly Satisfied'\n",
    "    elif satisfaction < 4.0 : return 'More Than Satisfied'\n",
    "    elif satisfaction <= 5.0 : return 'Very Satisfied'"
   ]
  },
  {
   "cell_type": "code",
   "execution_count": null,
   "id": "9b0d234c",
   "metadata": {},
   "outputs": [],
   "source": [
    "df['Satisfaction_Cat'] = df['Satisfaction'].apply(categorize_satisfaction)"
   ]
  },
  {
   "cell_type": "code",
   "execution_count": null,
   "id": "2ca8e486",
   "metadata": {},
   "outputs": [],
   "source": [
    "df['Satisfaction_Cat'].value_counts()"
   ]
  },
  {
   "cell_type": "code",
   "execution_count": null,
   "id": "f1647a0e",
   "metadata": {},
   "outputs": [],
   "source": [
    "df[['Satisfaction_Cat', 'Type']].groupby(['Satisfaction_Cat','Type'])['Type'].count()"
   ]
  },
  {
   "cell_type": "code",
   "execution_count": null,
   "id": "5d4a473f",
   "metadata": {},
   "outputs": [],
   "source": [
    "sns.heatmap(df.corr(), annot=True)"
   ]
  },
  {
   "cell_type": "code",
   "execution_count": null,
   "id": "9e2a8e8b",
   "metadata": {},
   "outputs": [],
   "source": [
    "df.drop_duplicates(keep='first', inplace=True)\n",
    "df.reset_index(drop=True)"
   ]
  },
  {
   "cell_type": "code",
   "execution_count": null,
   "id": "d27be44c",
   "metadata": {},
   "outputs": [],
   "source": [
    "popular_drugs = df.sort_values(by='Reviews', ascending=False).head(10)"
   ]
  },
  {
   "cell_type": "code",
   "execution_count": null,
   "id": "7b7ad840",
   "metadata": {},
   "outputs": [],
   "source": [
    "sns.barplot(data=popular_drugs, y='Drug', x='Effective')"
   ]
  },
  {
   "cell_type": "code",
   "execution_count": null,
   "id": "983657de",
   "metadata": {},
   "outputs": [],
   "source": [
    "sns.barplot(data=popular_drugs, y='Drug', x='EaseOfUse', hue='Type')"
   ]
  },
  {
   "cell_type": "code",
   "execution_count": null,
   "id": "38abe0d9",
   "metadata": {},
   "outputs": [],
   "source": [
    "sns.barplot(data=popular_drugs, y='Drug', x='EaseOfUse', hue='Indication')"
   ]
  }
 ],
 "metadata": {},
 "nbformat": 4,
 "nbformat_minor": 5
}
