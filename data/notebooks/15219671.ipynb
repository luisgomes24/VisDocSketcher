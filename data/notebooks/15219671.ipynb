{
 "cells": [
  {
   "cell_type": "code",
   "execution_count": null,
   "id": "87e780bb",
   "metadata": {},
   "outputs": [],
   "source": [
    "import warnings\n",
    "warnings.filterwarnings(\"ignore\")"
   ]
  },
  {
   "cell_type": "code",
   "execution_count": null,
   "id": "252f1847",
   "metadata": {},
   "outputs": [],
   "source": [
    "import pandas as pd\n",
    "import numpy as np\n",
    "import fbprophet\n",
    "from fbprophet.plot import add_changepoints_to_plot\n",
    "import warnings\n",
    "import matplotlib.pyplot as plt"
   ]
  },
  {
   "cell_type": "code",
   "execution_count": null,
   "id": "ec83b8a7",
   "metadata": {},
   "outputs": [],
   "source": [
    "df = pd.read_csv(\"../input/daily-total-female-births-in-california-1959/daily-total-female-births-CA.csv\", \n",
    "                 parse_dates=['date'], date_parser=pd.to_datetime)\n",
    "df.columns = ['ds', 'y']\n",
    "df.head()"
   ]
  },
  {
   "cell_type": "code",
   "execution_count": null,
   "id": "e691531c",
   "metadata": {},
   "outputs": [],
   "source": [
    "plt.figure(figsize=(20,10))\n",
    "plt.plot(df['ds'], df['y']);\n",
    "plt.grid()\n",
    "plt.title('Daily Female Births in 1959')\n",
    "plt.show()"
   ]
  },
  {
   "cell_type": "code",
   "execution_count": null,
   "id": "816920e2",
   "metadata": {},
   "outputs": [],
   "source": [
    "with warnings.catch_warnings():\n",
    "    warnings.simplefilter(\"ignore\")\n",
    "    m = fbprophet.Prophet(yearly_seasonality=True, daily_seasonality=False, \n",
    "                          changepoint_range=0.9, \n",
    "                          changepoint_prior_scale=0.5,\n",
    "                          seasonality_mode='multiplicative')\n",
    "    m.fit(df)"
   ]
  },
  {
   "cell_type": "code",
   "execution_count": null,
   "id": "61f04468",
   "metadata": {},
   "outputs": [],
   "source": [
    "future = m.make_future_dataframe(periods=90, freq='d')\n",
    "future.tail()"
   ]
  },
  {
   "cell_type": "code",
   "execution_count": null,
   "id": "a39ebb34",
   "metadata": {},
   "outputs": [],
   "source": [
    "forecast = m.predict(future)\n",
    "forecast.tail()"
   ]
  },
  {
   "cell_type": "code",
   "execution_count": null,
   "id": "0bb4eacd",
   "metadata": {},
   "outputs": [],
   "source": [
    "fig2=m.plot_components(forecast)\n",
    "fig2.show()"
   ]
  },
  {
   "cell_type": "code",
   "execution_count": null,
   "id": "6763fe53",
   "metadata": {},
   "outputs": [],
   "source": [
    "fig3=m.plot(forecast)\n",
    "fig3.show()"
   ]
  },
  {
   "cell_type": "code",
   "execution_count": null,
   "id": "e2f61a5d",
   "metadata": {},
   "outputs": [],
   "source": [
    "from fbprophet.plot import plot_plotly\n",
    "#let's plot the forecast\n",
    "plot_plotly(m, forecast)"
   ]
  }
 ],
 "metadata": {},
 "nbformat": 4,
 "nbformat_minor": 5
}
