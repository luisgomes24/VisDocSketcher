{
 "cells": [
  {
   "cell_type": "code",
   "execution_count": null,
   "id": "b004f522",
   "metadata": {},
   "outputs": [],
   "source": [
    "## RESEARCH METHODS UNIVARIATE AND BIVARIATE ASSIGNMENTS KERNEL\n",
    "\n",
    "# This Python 3 environment comes with many helpful analytics libraries installed\n",
    "# It is defined by the kaggle/python docker image: https://github.com/kaggle/docker-python\n",
    "# For example, here's several helpful packages to load in \n",
    "\n",
    "import numpy as np # linear algebra\n",
    "import pandas as pd # data processing, CSV file I/O (e.g. pd.read_csv)\n",
    "import matplotlib.pyplot as plt # plots and graphs\n",
    "import seaborn as sns # plots and graphs\n",
    "import scipy\n",
    "from scipy import stats # statistical analyses\n",
    "\n",
    "# Input data files are available in the \"../input/\" directory.\n",
    "# For example, running this (by clicking run or pressing Shift+Enter) will list all files under the input directory\n",
    "\n",
    "import os\n",
    "for dirname, _, filenames in os.walk('/kaggle/input'):\n",
    "    for filename in filenames:\n",
    "        print(os.path.join(dirname, filename))\n",
    "\n",
    "# Any results you write to the current directory are saved as output."
   ]
  },
  {
   "cell_type": "code",
   "execution_count": null,
   "id": "68353693",
   "metadata": {},
   "outputs": [],
   "source": [
    "# Step 1: Define the dataset as 'dfGSS'\n",
    "dfGSS=pd.read_csv('/kaggle/input/2020sp-gss-data/2020SP_GSS_data.csv', na_values=['.', '96', '97', '98', '99'], dtype='float64')"
   ]
  },
  {
   "cell_type": "code",
   "execution_count": null,
   "id": "78d955a6",
   "metadata": {},
   "outputs": [],
   "source": [
    "# Let's take a look at what the data in our dataset looks like\n",
    "print(dfGSS.head(10))"
   ]
  },
  {
   "cell_type": "code",
   "execution_count": null,
   "id": "f89f0f77",
   "metadata": {},
   "outputs": [],
   "source": [
    "# Step 1: List column names\n",
    "dfGSS.columns.values"
   ]
  },
  {
   "cell_type": "code",
   "execution_count": null,
   "id": "e5959588",
   "metadata": {},
   "outputs": [],
   "source": [
    "# Step 2: Create a list with the names of the variables we are interested in getting descriptive statistics for. \n",
    "# Fill in VAR1, VAR2, VAR3, VAR4, & VAR5 with the variables you are interested in exploring for the worksheet. \n",
    "# Make sure the names you type below exactly match how the name is written in step 1's output.\n",
    "lVar=['race', 'age', 'income', 'fear', 'grass', 'news', 'evidu']"
   ]
  },
  {
   "cell_type": "code",
   "execution_count": null,
   "id": "ddb489af",
   "metadata": {},
   "outputs": [],
   "source": [
    "# Step 3: Print frequency distribution. \n",
    "# Replace the label VARIABLE_LIST with the name of the list from step 2. \n",
    "for var in lVar:\n",
    "    lFreq = dfGSS.loc[:,var].value_counts()\n",
    "    lLen = dfGSS.loc[:,var].value_counts(normalize=True) * 100\n",
    "    dfFreq = pd.concat([lFreq, lLen], axis=1)\\\n",
    "        .set_axis(['frequency', 'percent'], axis=1, inplace=False).sort_index()\n",
    "    print(var, '\\n', dfFreq, '\\n')"
   ]
  },
  {
   "cell_type": "code",
   "execution_count": null,
   "id": "ccddd549",
   "metadata": {},
   "outputs": [],
   "source": [
    "# Step 4: Plot a histogram for numeric (interval and ratio level) variables.\n",
    "# You do not need to run this line of code if none of your variables are interval or ratio level variables.\n",
    "my_variable = 'age' # Replace VAR with the name of a categorical variable.\n",
    "plt.hist(dfGSS[my_variable])\n",
    "plt.xlabel(my_variable)\n",
    "plt.ylabel('Frequency')\n",
    "plt.title('Histogram of '+my_variable)"
   ]
  },
  {
   "cell_type": "code",
   "execution_count": null,
   "id": "53ae18d4",
   "metadata": {},
   "outputs": [],
   "source": [
    "# Print a histogram for each of the numeric variables from the list lVar in step 2.\n",
    "# Hint: \n",
    "# 1) Hover your cursor over this cell.\n",
    "# 2) Click the \"+ Code\" button below the cell.\n",
    "# 3) Copy and paste this code into the new cell:\n",
    "\n",
    "my_variable = 'VAR' # Replace VAR with the name of a categorical variable.\n",
    "plt.hist(dfGSS[my_variable])\n",
    "plt.xlabel(my_variable)\n",
    "plt.ylabel('Frequency')\n",
    "plt.title('Histogram of '+my_variable)\n",
    "\n",
    "# 4) Follow the directions to replace the necessary information.\n",
    "# 5) Repeat until you have a cell and histogram output for each numeric variable in lVar."
   ]
  },
  {
   "cell_type": "code",
   "execution_count": null,
   "id": "f0bdc84f",
   "metadata": {},
   "outputs": [],
   "source": [
    "my_variable = 'income' # Replace VAR with the name of a categorical variable.\n",
    "plt.hist(dfGSS[my_variable])\n",
    "plt.xlabel(my_variable)\n",
    "plt.ylabel('Frequency')\n",
    "plt.title('Histogram of '+my_variable)\n"
   ]
  },
  {
   "cell_type": "code",
   "execution_count": null,
   "id": "27228a68",
   "metadata": {},
   "outputs": [],
   "source": [
    "# Code for bar chart labels\n",
    "test={}\n",
    "test['rank']={1:'Top',10:'Bottom'}\n",
    "test['letdie1']={0:'No',1:'Yes'}\n",
    "test['polhitok']={0:'No',1:'Yes'}\n",
    "test['fear']={0:'No',1:'Yes'}\n",
    "test['owngun']={0:'No', 1:'Yes'}\n",
    "test['news']={1:'Everyday',2:'Few times a week',3:'Once a week',4:'Less than once wk',5:'Never'}\n",
    "test['helpsick']={1:'Govt should help', 2:2, 3:'Agree with both', 4:4, 5:'People help selves'}\n",
    "test['health1']={1:'Excellent',2:'Very good',3:'Good',4:'Fair',5:'Poor'}\n",
    "test['concourt']={1:'Complete confidence',2:'A great deal of confidence',3:'Some confidence',4:'Very little confidence',5:'No confidence at all'}\n",
    "test['evidu']={0:'No',1:'Yes'}\n",
    "test['class_']={1:'Lower class',2:'Working class',3:'Middle class',4:'Upper class',5:'No class'}\n",
    "test['socbar']={1:'Almost daily',2:'Sev times a week',3:'Sev times a mnth',4:'Once a month',5:'Sev times a year',6:'Once a year',7:'Never'}\n",
    "test['conjudge']={1:'A great deal',2:'Only some',3:'Hardly any'}\n",
    "test['age']={89:'89 or older'}\n",
    "test['sex']={0:'Male',1:'Female'}\n",
    "test['race']={1:'Black',2:'White',3:'Other'}\n",
    "test['income']={1:'Lt $1000',2:'$1000 to 2999',3:'$3000 to 3999',4:'$4000 to 4999',5:'$5000 to 5999',6:'$6000 to 6999',7:'$7000 to 7999',8:'$8000 to 9999',9:'$10000 - 14999',10:'$15000 - 19999',11:'$20000 - 24999',12:'$25000 or more'}\n",
    "test['region']={1:'New England',2:'Middle atlantic',3:'E. nor. central',4:'W. nor. central',5:'South atlantic',6:'E. sou. central',7:'W. sou. central',8:'Mountain',9:'Pacific'}\n",
    "test['polviews']={1:'Extremely liberal',2:'Liberal',3:'Slightly liberal',4:'Moderate',5:'Slightly conservative',6:'Conservative',7:'Extremely conservative'}\n",
    "test['natcrime']={1:'Too little',2:'About right',3:'Too much'}\n",
    "test['natdrug']={1:'Too little',2:'About right',3:'Too much'}\n",
    "test['natcrimy']={1:'Too little',2:'About right',3:'Too much'}\n",
    "test['natdrugy']={1:'Too little',2:'About right',3:'Too much'}\n",
    "test['cappun']={0:'Oppose',1:'Favor'}\n",
    "test['gunlaw']={0:'Oppose',1:'Favor'}\n",
    "test['courts']={1:'Too harsh',2:'About right',3:'Not harsh enough'}\n",
    "test['grass']={0:'Not legal',1:'Legal'}"
   ]
  },
  {
   "cell_type": "code",
   "execution_count": null,
   "id": "e73e30bc",
   "metadata": {},
   "outputs": [],
   "source": [
    "# Step 5: Plot bar charts for categorical (nominal, binary, ordinal) variables.\n",
    "my_variable = 'fear' # Replace VAR with the name of a categorical variable.\n",
    "count=dfGSS[my_variable].value_counts()\n",
    "sns.barplot(count.index, count.values, alpha=0.9, color='steelblue')\n",
    "plt.title('Bar chart of '+my_variable)\n",
    "plt.xlabel(my_variable)\n",
    "plt.ylabel('Frequency')\n",
    "locs, labels = plt.xticks()\n",
    "my_xticks = [test[my_variable][i] for i in [float(x.get_text()) for x in (labels)]]\n",
    "plt.xticks(locs, my_xticks, rotation=90)\n",
    "plt.show()"
   ]
  },
  {
   "cell_type": "code",
   "execution_count": null,
   "id": "1be13d2a",
   "metadata": {},
   "outputs": [],
   "source": [
    "# Print a bar chart for each of the categorical variables (nominal, ordinal, or interval) from the list lVar in step 2.\n",
    "# Hint: \n",
    "# 1) Hover your cursor over this cell.\n",
    "# 2) Click the \"+ Code\" button below the cell.\n",
    "# 3) Copy and paste this code into the new cell:\n",
    "\n",
    "my_variable = 'VAR' # Replace VAR with the name of a categorical variable.\n",
    "count=dfGSS[my_variable].value_counts()\n",
    "sns.barplot(count.index, count.values, alpha=0.9, color='steelblue')\n",
    "plt.title('Bar chart of '+my_variable)\n",
    "plt.xlabel(my_variable)\n",
    "plt.ylabel('Frequency')\n",
    "locs, labels = plt.xticks()\n",
    "my_xticks = [test[my_variable][i] for i in [float(x.get_text()) for x in (labels)]]\n",
    "plt.xticks(locs, my_xticks, rotation=90)\n",
    "plt.show()\n",
    "\n",
    "# 4) Follow the directions to replace the necessary information.\n",
    "# 5) Repeat until you have a cell and bar chart output for each categorical variable in lVar."
   ]
  },
  {
   "cell_type": "code",
   "execution_count": null,
   "id": "f5740585",
   "metadata": {},
   "outputs": [],
   "source": [
    "my_variable = 'grass' # Replace VAR with the name of a categorical variable.\n",
    "count=dfGSS[my_variable].value_counts()\n",
    "sns.barplot(count.index, count.values, alpha=0.9, color='steelblue')\n",
    "plt.title('Bar chart of '+my_variable)\n",
    "plt.xlabel(my_variable)\n",
    "plt.ylabel('Frequency')\n",
    "locs, labels = plt.xticks()\n",
    "my_xticks = [test[my_variable][i] for i in [float(x.get_text()) for x in (labels)]]\n",
    "plt.xticks(locs, my_xticks, rotation=90)\n",
    "plt.show()"
   ]
  },
  {
   "cell_type": "code",
   "execution_count": null,
   "id": "ea2c4499",
   "metadata": {},
   "outputs": [],
   "source": [
    "my_variable = 'news' # Replace VAR with the name of a categorical variable.\n",
    "count=dfGSS[my_variable].value_counts()\n",
    "sns.barplot(count.index, count.values, alpha=0.9, color='steelblue')\n",
    "plt.title('Bar chart of '+my_variable)\n",
    "plt.xlabel(my_variable)\n",
    "plt.ylabel('Frequency')\n",
    "locs, labels = plt.xticks()\n",
    "my_xticks = [test[my_variable][i] for i in [float(x.get_text()) for x in (labels)]]\n",
    "plt.xticks(locs, my_xticks, rotation=90)\n",
    "plt.show()"
   ]
  },
  {
   "cell_type": "code",
   "execution_count": null,
   "id": "a132faed",
   "metadata": {},
   "outputs": [],
   "source": [
    "my_variable = 'evidu' # Replace VAR with the name of a categorical variable.\n",
    "count=dfGSS[my_variable].value_counts()\n",
    "sns.barplot(count.index, count.values, alpha=0.9, color='steelblue')\n",
    "plt.title('Bar chart of '+my_variable)\n",
    "plt.xlabel(my_variable)\n",
    "plt.ylabel('Frequency')\n",
    "locs, labels = plt.xticks()\n",
    "my_xticks = [test[my_variable][i] for i in [float(x.get_text()) for x in (labels)]]\n",
    "plt.xticks(locs, my_xticks, rotation=90)\n",
    "plt.show()"
   ]
  },
  {
   "cell_type": "code",
   "execution_count": null,
   "id": "a70f46bb",
   "metadata": {},
   "outputs": [],
   "source": [
    "# Step 6: Print descriptive statistics\n",
    "# Replace the label VARIABLE_LIST with the name of the list from step 2.\n",
    "dfUni= pd.DataFrame(index=('count', 'mean', 'median', 'mode', 'stdev', 'min', '25%', '50%', '75%', 'max'))\n",
    "place=0\n",
    "\n",
    "for var in lVar:\n",
    "    lCount = dfGSS.loc[:,var].count()\n",
    "    lMean = dfGSS.loc[:,var].mean()\n",
    "    lMedian = dfGSS.loc[:,var].median()\n",
    "    lMode = dfGSS.loc[:,var].mode().values[0]\n",
    "    lStd = dfGSS.loc[:,var].std()\n",
    "    lMin = dfGSS.loc[:,var].min()\n",
    "    a, b, c = dfGSS.loc[:,var].quantile([.25, .5, .75])\n",
    "    lMax = dfGSS.loc[:,var].max()\n",
    "    s = (lCount, lMean, lMedian, lMode, lStd, lMin, a, b, c, lMax)\n",
    "    dfUni.insert(place, var, s)\n",
    "    place+1\n",
    "\n",
    "print(dfUni)"
   ]
  },
  {
   "cell_type": "code",
   "execution_count": null,
   "id": "45358c6b",
   "metadata": {},
   "outputs": [],
   "source": [
    "# Step 7: Run a crosstab\n",
    "# Replace INDEPENDENT_VARIABLE and DEPENDENT_VARIABLE with the names of \n",
    "# your independent and dependent variables from the worksheet.\n",
    "contingency_table = pd.crosstab(\n",
    "    dfGSS.loc[:,'INDEPENDENT_VARIABLE'],\n",
    "    dfGSS.loc[:,'DEPENDENT_VARIABLE'],\n",
    "    margins = True\n",
    ")\n",
    "contingency_table"
   ]
  },
  {
   "cell_type": "code",
   "execution_count": null,
   "id": "8caf36c8",
   "metadata": {},
   "outputs": [],
   "source": [
    "# Step 8: Calculate chi-square. \n",
    "# You do not have to change anything in this code.\n",
    "chi2, p, dof, ex = stats.chi2_contingency(contingency_table, correction=False)\n",
    "stats.chi2_contingency(contingency_table)\n",
    "\n",
    "# Converting the p-value from scientific format to a decimal\n",
    "def ConvertToFloat(inputNumber):\n",
    "    return \"{0:.4f}\".format(inputNumber)\n",
    "\n",
    "# Print the chi-square and p-value\n",
    "print(\"Chi-squared:\", chi2, \"p-value:\", ConvertToFloat(p))"
   ]
  },
  {
   "cell_type": "code",
   "execution_count": null,
   "id": "ceaac182",
   "metadata": {},
   "outputs": [],
   "source": [
    "# Step 9: Run a correlation with p-value between two variables \n",
    "# Replace INDEPENDENT_VARIABLE and DEPENDENT_VARIABLE with the names of \n",
    "# your independent and dependent variables from the worksheet.\n",
    "varA=dfGSS.loc[:,'INDEPENDENT_VARIABLE']\n",
    "varB=dfGSS.loc[:,'DEPENDENT_VARIABLE']\n",
    "\n",
    "# Hiding NaN values from arrays\n",
    "bad = ~np.logical_or(np.isnan(varA), np.isnan(varB))\n",
    "x=np.asarray(varA).compress(bad)\n",
    "y=np.asarray(varB).compress(bad)\n",
    "\n",
    "# Correlation statistics\n",
    "r,p =stats.pearsonr(x,y)\n",
    "\n",
    "# Print Pearson's r and p-value\n",
    "print(\"r:\", r, \"p-value:\", ConvertToFloat(p))"
   ]
  }
 ],
 "metadata": {},
 "nbformat": 4,
 "nbformat_minor": 5
}
