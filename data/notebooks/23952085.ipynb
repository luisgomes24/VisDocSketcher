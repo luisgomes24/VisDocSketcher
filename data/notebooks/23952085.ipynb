{
 "cells": [
  {
   "cell_type": "markdown",
   "id": "2236b594",
   "metadata": {},
   "source": [
    "# TPS Jan 2022 with Light Gradient Boosting Method"
   ]
  },
  {
   "cell_type": "code",
   "execution_count": null,
   "id": "7513e8af",
   "metadata": {},
   "outputs": [],
   "source": [
    "import sys\n",
    "sys.path.append('../input/pycaret/pyod')\n",
    "sys.path.append('../input/pycaret/pycaret')\n",
    "from pycaret.regression import *\n",
    "\n",
    "import pandas as pd\n",
    "import numpy as np\n",
    "\n",
    "import warnings\n",
    "warnings.filterwarnings('ignore')"
   ]
  },
  {
   "cell_type": "code",
   "execution_count": null,
   "id": "70f62424",
   "metadata": {},
   "outputs": [],
   "source": [
    "train = pd.read_csv('../input/tabular-playground-series-jan-2022/train.csv')\n",
    "test = pd.read_csv('../input/tabular-playground-series-jan-2022/test.csv')"
   ]
  },
  {
   "cell_type": "code",
   "execution_count": null,
   "id": "3439703c",
   "metadata": {},
   "outputs": [],
   "source": [
    "def feature_eng(df):\n",
    "    df['date'] = pd.to_datetime(df['date'])\n",
    "    df['year'] = df.date.dt.year\n",
    "    df['month'] = df.date.dt.month\n",
    "    df['week']= df['date'].dt.week\n",
    "    df['day'] = df.date.dt.day\n",
    "    df['dayofweek'] = df.date.dt.dayofweek\n",
    "    df['dayofyear'] = df['date'].dt.dayofyear\n",
    "    df.drop(columns=['date'],inplace=True)  \n",
    "\n",
    "feature_eng(train)\n",
    "feature_eng(test)"
   ]
  },
  {
   "cell_type": "code",
   "execution_count": null,
   "id": "82ae9025",
   "metadata": {},
   "outputs": [],
   "source": [
    "train = pd.get_dummies(train)\n",
    "test = pd.get_dummies(test)"
   ]
  },
  {
   "cell_type": "code",
   "execution_count": null,
   "id": "53f54658",
   "metadata": {},
   "outputs": [],
   "source": [
    "reg = setup(data = train,\n",
    "            target = 'num_sold',\n",
    "            train_size = 0.75, \n",
    "            normalize = True, \n",
    "            normalize_method = 'robust', \n",
    "            transform_target = True, \n",
    "            data_split_shuffle = False, \n",
    "            feature_interaction = True, \n",
    "            silent = True, \n",
    "            fold = 5, \n",
    "            n_jobs = -1) "
   ]
  },
  {
   "cell_type": "code",
   "execution_count": null,
   "id": "98c7cf15",
   "metadata": {},
   "outputs": [],
   "source": [
    "def smape(y_true, y_pred):\n",
    "    return np.mean( np.abs(y_true - y_pred) / (y_true + np.abs(y_pred)) * 200 )\n",
    "\n",
    "add_metric('SMAPE', 'SMAPE', smape, greater_is_better = False)"
   ]
  },
  {
   "cell_type": "code",
   "execution_count": null,
   "id": "711e4672",
   "metadata": {},
   "outputs": [],
   "source": [
    "lightgbm = create_model('lightgbm')"
   ]
  },
  {
   "cell_type": "code",
   "execution_count": null,
   "id": "1d7820fb",
   "metadata": {},
   "outputs": [],
   "source": [
    "pred = predict_model(lightgbm, data=test)\n",
    "pred.head()"
   ]
  },
  {
   "cell_type": "code",
   "execution_count": null,
   "id": "d4a89060",
   "metadata": {},
   "outputs": [],
   "source": [
    "submission = pd.read_csv('../input/tabular-playground-series-jan-2022/sample_submission.csv')\n",
    "submission.num_sold = pred.Label\n",
    "submission.to_csv('submission.csv', index = False)"
   ]
  },
  {
   "cell_type": "code",
   "execution_count": null,
   "id": "ac810a8b",
   "metadata": {},
   "outputs": [],
   "source": [
    "submission.head()"
   ]
  }
 ],
 "metadata": {},
 "nbformat": 4,
 "nbformat_minor": 5
}
