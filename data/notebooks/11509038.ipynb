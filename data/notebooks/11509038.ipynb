{
 "cells": [
  {
   "cell_type": "markdown",
   "id": "bbc5da08",
   "metadata": {},
   "source": [
    "![](https://www1.nyc.gov/assets/sbs/images/content/businesses/reopening-guidelines.jpg)https://www1.nyc.gov/site/sbs/businesses/covid19-business-outreach.page"
   ]
  },
  {
   "cell_type": "code",
   "execution_count": null,
   "id": "9435f52f",
   "metadata": {},
   "outputs": [],
   "source": [
    "# This Python 3 environment comes with many helpful analytics libraries installed\n",
    "# It is defined by the kaggle/python Docker image: https://github.com/kaggle/docker-python\n",
    "# For example, here's several helpful packages to load\n",
    "\n",
    "import numpy as np # linear algebra\n",
    "import pandas as pd # data processing, CSV file I/O (e.g. pd.read_csv)\n",
    "import unicodedata\n",
    "import matplotlib.pyplot as plt\n",
    "import plotly.express as px\n",
    "import seaborn as sns\n",
    "plt.style.use('fivethirtyeight')\n",
    "\n",
    "# Input data files are available in the read-only \"../input/\" directory\n",
    "# For example, running this (by clicking run or pressing Shift+Enter) will list all files under the input directory\n",
    "\n",
    "import os\n",
    "for dirname, _, filenames in os.walk('/kaggle/input'):\n",
    "    for filename in filenames:\n",
    "        print(os.path.join(dirname, filename))\n",
    "\n",
    "# You can write up to 5GB to the current directory (/kaggle/working/) that gets preserved as output when you create a version using \"Save & Run All\" \n",
    "# You can also write temporary files to /kaggle/temp/, but they won't be saved outside of the current session"
   ]
  },
  {
   "cell_type": "code",
   "execution_count": null,
   "id": "89b70b92",
   "metadata": {},
   "outputs": [],
   "source": [
    "df=pd.read_csv(\"../input/nyc-precovid-restaurant-data/Pre_restaurants.csv\")\n",
    "df.head()"
   ]
  },
  {
   "cell_type": "markdown",
   "id": "137c0108",
   "metadata": {},
   "source": [
    "#Codes by Taikutsu https://www.kaggle.com/ravels1991/simple-eda/comments"
   ]
  },
  {
   "cell_type": "code",
   "execution_count": null,
   "id": "2dbafe8a",
   "metadata": {},
   "outputs": [],
   "source": [
    "g = sns.lmplot(x=\"LONGITUDE\", y=\"LATITUDE\", data=df,\n",
    "           fit_reg=False, scatter_kws={\"s\": 30}, hue='Borough', height=10)\n",
    "plt.title('Pre-Covid Restaurants NY')\n",
    "plt.show()"
   ]
  },
  {
   "cell_type": "code",
   "execution_count": null,
   "id": "11de6329",
   "metadata": {},
   "outputs": [],
   "source": [
    "plt.figure(figsize=(20,12))\n",
    "g = sns.scatterplot(x='LONGITUDE', y='LATITUDE', data=df, hue='income level')\n",
    "g.legend(loc='center left', bbox_to_anchor=(1.25, 0.5), ncol=1);"
   ]
  },
  {
   "cell_type": "markdown",
   "id": "e80cc729",
   "metadata": {},
   "source": [
    "#Codes from Iván Hernández Cazorla https://www.kaggle.com/ivanhercaz/museums-in-tenerife-location-map"
   ]
  },
  {
   "cell_type": "code",
   "execution_count": null,
   "id": "0e663688",
   "metadata": {},
   "outputs": [],
   "source": [
    "fig_px = px.scatter_mapbox(df, lat=\"LATITUDE\", lon=\"LONGITUDE\",\n",
    "                           hover_name=\"Borough\",\n",
    "                           zoom=11, height=300)\n",
    "fig_px.update_layout(mapbox_style=\"open-street-map\",\n",
    "                     margin={\"r\":0,\"t\":0,\"l\":0,\"b\":0})\n",
    "\n",
    "fig_px.show()"
   ]
  },
  {
   "cell_type": "code",
   "execution_count": null,
   "id": "741dc591",
   "metadata": {},
   "outputs": [],
   "source": [
    "fig_px.update_traces(marker={\"size\": [10 for x in df]})"
   ]
  },
  {
   "cell_type": "code",
   "execution_count": null,
   "id": "7849b2a5",
   "metadata": {},
   "outputs": [],
   "source": [
    "fig = px.bar(df, x= \"GRADE DATE\", y= \"New York\", title= \"Pre-Covid Restaurants NY\", color_discrete_sequence=['crimson'],)\n",
    "fig.show()"
   ]
  },
  {
   "cell_type": "markdown",
   "id": "13114373",
   "metadata": {},
   "source": [
    "Das War's, Kaggle Notebook Runner: Marília Prata   @mpwolke"
   ]
  }
 ],
 "metadata": {},
 "nbformat": 4,
 "nbformat_minor": 5
}
