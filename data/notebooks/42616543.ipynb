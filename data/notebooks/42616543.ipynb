{
 "cells": [
  {
   "cell_type": "markdown",
   "id": "d9f39b51",
   "metadata": {},
   "source": [
    "<div id=\"top\" style=\"background-color: lightblue; padding: 5px; border-radius: 10px; text-align: center;\">\n",
    "    <h1>⏰ Kaggle Requests | How Slow is Kaggle?</h1>\n",
    "</div>\n",
    "<p></p>\n",
    "<p>Hey and welcome to my notebook. Not trivial for me and I hope not trivial for the community. I want to introduce you my todays code dedicated to <mark>response time of Kaggle</mark>, the place we love so much. I made <mark>100 requests for the main Kaggle pages and write down all the response times into dataset</mark>. At the very end you will see these datasset, which you can use as you wish. Also, I added <mark>3 seconds time sleep</mark> in order to be ignored by servers. So, have a nice reading and exploration. Hope it will be at leat curious for you!</p>"
   ]
  },
  {
   "cell_type": "code",
   "execution_count": null,
   "id": "4c7f6873",
   "metadata": {},
   "outputs": [],
   "source": [
    "import numpy as np\n",
    "import pandas as pd\n",
    "\n",
    "import os\n",
    "for dirname, _, filenames in os.walk('/kaggle/input'):\n",
    "    for filename in filenames:\n",
    "        print(os.path.join(dirname, filename))"
   ]
  },
  {
   "cell_type": "code",
   "execution_count": null,
   "id": "7292b624",
   "metadata": {},
   "outputs": [],
   "source": [
    "import requests\n",
    "import time\n",
    "import pandas as pd\n",
    "import warnings\n",
    "\n",
    "warnings.filterwarnings(\"ignore\")\n",
    "\n",
    "kaggle_urls = [\n",
    "    \"https://www.kaggle.com\",\n",
    "    \"https://www.kaggle.com/competitions\",\n",
    "    \"https://www.kaggle.com/datasets\",\n",
    "    \"https://www.kaggle.com/models\",\n",
    "    \"https://www.kaggle.com/code\",\n",
    "    \"https://www.kaggle.com/discussions\",\n",
    "    \"https://www.kaggle.com/learn\",\n",
    "    \"https://www.kaggle.com/rankings\"\n",
    "]\n",
    "\n",
    "num_requests = 100\n",
    "response_times = {}\n",
    "\n",
    "for url in kaggle_urls:\n",
    "    url_response_times = []\n",
    "    for _ in range(num_requests):\n",
    "        time.sleep(3)\n",
    "        start_time = time.time()\n",
    "        response = requests.get(url)\n",
    "        end_time = time.time()\n",
    "\n",
    "        if response.status_code == 200:\n",
    "            response_time = end_time - start_time\n",
    "            url_response_times.append(response_time)\n",
    "            #print(f\"URL: {url}, Response time: {response_time:.4f} seconds\")\n",
    "    \n",
    "    response_times[url] = url_response_times\n",
    "print(\"\")\n",
    "print(\"\")\n",
    "df = pd.DataFrame(response_times)\n",
    "df.index.name = \"Request\"\n",
    "df.columns = df.columns.str.replace(\"https://www.\", \"\")\n",
    "df.head()"
   ]
  },
  {
   "cell_type": "markdown",
   "id": "f1c7b37c",
   "metadata": {},
   "source": [
    "<div style=\"background-color: lightblue; padding: 5px; border-radius: 10px; text-align: center;\">\n",
    "    <h1 id='end'>🧠 Conclusions</h1>\n",
    "</div>\n",
    "<p></p>\n",
    "<p>Thank you very much for reading my notebook up to the end, I really appreciate it. I hope you find my notebook interesting and, which is more crucial, useful. <mark>Feel free to write me comments</mark> - I am reading all of them and give you feedback as well. Good luck</p>\n",
    "<p style='text-align:center'><a href=\"#top\">Back to Table of Contents</a></p>"
   ]
  }
 ],
 "metadata": {},
 "nbformat": 4,
 "nbformat_minor": 5
}
