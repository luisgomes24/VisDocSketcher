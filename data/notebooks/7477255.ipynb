{
 "cells": [
  {
   "cell_type": "markdown",
   "id": "69c9821c",
   "metadata": {},
   "source": [
    "# Win Prediction Using Four-Factors\n",
    "## Introduction\n",
    "In this notebook, I will try to predict the number of wins for each basketball team from college basketball dataset using Dean Oliver's \"Four Factors of Basketball Success\". What is four factors? In simple words, for factors are four most important strategies to win a basketball game, as analyzed by Dean Oliver. The strategies are:\n",
    "1. Score Every Possession\n",
    "2. Pick Up All Rebounds\n",
    "3. Get to the Foul Line\n",
    "4. Protect the Basketball\n",
    "\n",
    "For the explanation of each strategies, I recommend you to read from various sports blog (such as this [blog](https://squared2020.com/2017/09/05/introduction-to-olivers-four-factors/) where I got those four strategies). In other words, those strategies can be represented in four stats: \n",
    "1. Effective field goals \n",
    "2. Turnovers percentage \n",
    "3. Rebounding percentage \n",
    "4. Free Throws rate \n",
    "\n",
    "It should be noticed that, we must consider both offense and defense, as for example scoring many points does not enough to win the game, as we need to minimize the opponent scoring as well. Thus, we must consider 8 factors in total for both offense and defense:\n",
    "* Offensive Factors\n",
    "    * Effective Field Goal Percentage\n",
    "    * Percentage\n",
    "    * Offensive Rebound Percentage\n",
    "    * Free Throw Rate\n",
    "\n",
    "* Defensive Factors\n",
    "    * Opponent’s Effective Field Goal Percentage\n",
    "    * Opponent’s Turnover Percentage\n",
    "    * Defensive Rebound Percentage\n",
    "    * Opponent’s Free Throw Rate\n",
    "\n",
    "(again thanks to the author of this [blog](https://squared2020.com/2017/09/05/introduction-to-olivers-four-factors/) for providing clear explanation)\n",
    "Luckily for us, the college basketball dataset has provided us all of the stats above to be played with. "
   ]
  },
  {
   "cell_type": "markdown",
   "id": "85489da7",
   "metadata": {},
   "source": [
    "## Brief Exploratory Data Analysis\n",
    "First we import some libraries that will be useful for EDA"
   ]
  },
  {
   "cell_type": "code",
   "execution_count": null,
   "id": "d513a544",
   "metadata": {},
   "outputs": [],
   "source": [
    "import pandas as pd\n",
    "import numpy as np\n",
    "import matplotlib.pyplot as plt\n",
    "import seaborn as sns\n",
    "\n",
    "import os\n",
    "for dirname, _, filenames in os.walk('/kaggle/input'):\n",
    "    for filename in filenames:\n",
    "        print(os.path.join(dirname, filename))"
   ]
  },
  {
   "cell_type": "markdown",
   "id": "5cb423d1",
   "metadata": {},
   "source": [
    "Then we import the dataset into our dataframe. We only use the combined dataset (cbb.csv) that contain all data from 2015-2019"
   ]
  },
  {
   "cell_type": "code",
   "execution_count": null,
   "id": "3aee1679",
   "metadata": {},
   "outputs": [],
   "source": [
    "df = pd.read_csv(\"../input/college-basketball-dataset/cbb.csv\")"
   ]
  },
  {
   "cell_type": "markdown",
   "id": "5c301e94",
   "metadata": {},
   "source": [
    "Let's see the info of this dataset"
   ]
  },
  {
   "cell_type": "code",
   "execution_count": null,
   "id": "58ff686d",
   "metadata": {},
   "outputs": [],
   "source": [
    "df.info()"
   ]
  },
  {
   "cell_type": "markdown",
   "id": "a0ce49ca",
   "metadata": {},
   "source": [
    "It can be said that the four (eight) factors that analyzed by Oliver are the most correlated features to the target, which is the number of wins ('W' in our dataset). We want to see whether this hypothesis is true by see the correlation of each feature to the number of win."
   ]
  },
  {
   "cell_type": "code",
   "execution_count": null,
   "id": "fe29e2d0",
   "metadata": {},
   "outputs": [],
   "source": [
    "df.corr()['W'].sort_values()[:-1]"
   ]
  },
  {
   "cell_type": "markdown",
   "id": "5e8ca7d1",
   "metadata": {},
   "source": [
    "Our 8 factors are 'EFG_O','EFG_D','TOR','TORD','ORB','DRB','FTR', and 'FTRD'. We can see that the top 3 correlated features actually are 'WAB' which is the predicted number of win against average NCAA team, 'BARTHAG' which is the power ranking, and 'ADJOE' which is the adjusted offensive efficiency. From the 8 factors, 'EFG_O' has the highest correlation with the number of wins, as well as 'EFG_D' which has the lowest negative correlation. \n",
    "By the way, Oliver also identified the approximate weight for each factor:\n",
    "* Shooting (40%)\n",
    "* Turnovers (25%)\n",
    "* Rebounding (20%)\n",
    "* Free Throws (15%)\n",
    "\n",
    "which means that shooting is the most important factor, followed by turnovers, rebounding, and free throws. From the correlation value we can see that this order somewhat true, but probably the weight will be different in our model."
   ]
  },
  {
   "cell_type": "markdown",
   "id": "6ca47e19",
   "metadata": {},
   "source": [
    "Next let's make a subdataframe that will contain the four factors and the target"
   ]
  },
  {
   "cell_type": "code",
   "execution_count": null,
   "id": "2e821a05",
   "metadata": {},
   "outputs": [],
   "source": [
    "df_ff = df[['EFG_O','EFG_D','TOR','TORD','ORB','DRB','FTR','FTRD','W']]"
   ]
  },
  {
   "cell_type": "markdown",
   "id": "601f6493",
   "metadata": {},
   "source": [
    "Then let's see the distribution of each features"
   ]
  },
  {
   "cell_type": "code",
   "execution_count": null,
   "id": "fdba46ed",
   "metadata": {},
   "outputs": [],
   "source": [
    "fig, axes = plt.subplots(ncols=4, nrows=3)\n",
    "for col, ax in zip(df_ff.columns, axes.flat):\n",
    "    sns.distplot(df_ff[col], hist=False, ax=ax)\n",
    "plt.tight_layout()\n",
    "plt.show()"
   ]
  },
  {
   "cell_type": "markdown",
   "id": "c1d1a47d",
   "metadata": {},
   "source": [
    "It seems that all of the features have normal distribution, but I suspect that 'FTRD' feature has somewhat skewed tendency, but let it be for now. "
   ]
  },
  {
   "cell_type": "markdown",
   "id": "6e844df9",
   "metadata": {},
   "source": [
    "Let's see the descriptive stats for all of those features"
   ]
  },
  {
   "cell_type": "code",
   "execution_count": null,
   "id": "cf6d3391",
   "metadata": {},
   "outputs": [],
   "source": [
    "df_ff.describe()"
   ]
  },
  {
   "cell_type": "markdown",
   "id": "8f28df22",
   "metadata": {},
   "source": [
    "Before we train the model, we also want to see the relationship between the factors and the number of wins. Actually we have see it from the correlation value, but I will visualize some of the factors to see the relationship in easier way."
   ]
  },
  {
   "cell_type": "markdown",
   "id": "fd2fde8f",
   "metadata": {},
   "source": [
    "First, we know that EFG_O gives the highest correlation. Thus let's see the scatterplot with the number of wins"
   ]
  },
  {
   "cell_type": "code",
   "execution_count": null,
   "id": "5883d1f0",
   "metadata": {},
   "outputs": [],
   "source": [
    "sns.regplot(x='W',y = 'EFG_O',data = df_ff,scatter= True, fit_reg=True)"
   ]
  },
  {
   "cell_type": "markdown",
   "id": "f31e78eb",
   "metadata": {},
   "source": [
    "We'll see a linear relationship here, that make the use of good ol' linear regression is a moderate choice. Let's see the next factor, which is the turnover percentage"
   ]
  },
  {
   "cell_type": "code",
   "execution_count": null,
   "id": "87581818",
   "metadata": {},
   "outputs": [],
   "source": [
    "sns.regplot(x='W',y = 'TOR',data = df_ff,scatter= True, fit_reg=True)"
   ]
  },
  {
   "cell_type": "markdown",
   "id": "32a64944",
   "metadata": {},
   "source": [
    "A somewhat linear relationship with negative correlation, which is true, as if we minimize the turnover, we'll have the ball more often, which resulted in more wins. Then let's see for offensive rebound percentage "
   ]
  },
  {
   "cell_type": "code",
   "execution_count": null,
   "id": "808cc014",
   "metadata": {},
   "outputs": [],
   "source": [
    "sns.regplot(x='W',y = 'ORB',data = df_ff,scatter= True, fit_reg=True)"
   ]
  },
  {
   "cell_type": "markdown",
   "id": "cd267009",
   "metadata": {},
   "source": [
    "Now we can see that the linearity is somewhat questionable in offensive rebound. What about the free throw rate?"
   ]
  },
  {
   "cell_type": "code",
   "execution_count": null,
   "id": "e2dbcd74",
   "metadata": {},
   "outputs": [],
   "source": [
    "sns.regplot(x='W',y = 'FTR',data = df_ff,scatter= True, fit_reg=True)"
   ]
  },
  {
   "cell_type": "markdown",
   "id": "efa42638",
   "metadata": {},
   "source": [
    "We can see that same with the offensive rebound, the linearity is almost missing. That correspond to low correlation on both features to the number of wins. Lastly, let see the plot for the defensive factors"
   ]
  },
  {
   "cell_type": "code",
   "execution_count": null,
   "id": "f7b4b42a",
   "metadata": {},
   "outputs": [],
   "source": [
    "fig, ((ax1, ax2), (ax3, ax4)) = plt.subplots(nrows=2, ncols=2, figsize=(14,10))\n",
    "sns.regplot(x='W',y = 'EFG_D',data = df_ff,scatter= True, fit_reg=True,ax=ax1)\n",
    "sns.regplot(x='W',y = 'TORD',data = df_ff,scatter= True, fit_reg=True,ax=ax2)\n",
    "sns.regplot(x='W',y = 'DRB',data = df_ff,scatter= True, fit_reg=True,ax=ax3)\n",
    "sns.regplot(x='W',y = 'FTRD',data = df_ff,scatter= True, fit_reg=True,ax=ax4)"
   ]
  },
  {
   "cell_type": "markdown",
   "id": "6349f52a",
   "metadata": {},
   "source": [
    "## Train the model\n",
    "\n",
    "I will use linear regression for our learning model. This is somewhat questionable choice because as we see, there are some factors that not linearly related to the number of wins. But as this is my first Kaggle notebook, I say why not :) maybe in the future as my knowledge about statistics and machine learning grows (I study statistics and programming by myself) I will provide more accurate model to predict win using this four-factors. Without a further ado, let's make our training model!"
   ]
  },
  {
   "cell_type": "code",
   "execution_count": null,
   "id": "fd22e9bb",
   "metadata": {},
   "outputs": [],
   "source": [
    "# prepare the dataset\n",
    "df_ff = df[['EFG_O','EFG_D','TOR','TORD','ORB','DRB','FTR','FTRD']]\n",
    "df_ff_y = df['W']"
   ]
  },
  {
   "cell_type": "markdown",
   "id": "a6462c9c",
   "metadata": {},
   "source": [
    "We'll import some libraries for training and measure our prediction"
   ]
  },
  {
   "cell_type": "code",
   "execution_count": null,
   "id": "e1163452",
   "metadata": {},
   "outputs": [],
   "source": [
    "from sklearn.linear_model import LinearRegression\n",
    "from sklearn.model_selection import train_test_split\n",
    "from sklearn import metrics"
   ]
  },
  {
   "cell_type": "markdown",
   "id": "22badf2b",
   "metadata": {},
   "source": [
    "We'll split the train and test data and create the model"
   ]
  },
  {
   "cell_type": "code",
   "execution_count": null,
   "id": "aa699635",
   "metadata": {},
   "outputs": [],
   "source": [
    "X_train, X_test, y_train, y_test = train_test_split(df_ff, df_ff_y, test_size=0.25, random_state=21)\n",
    "reg = LinearRegression()\n",
    "reg = reg.fit(X_train,y_train)"
   ]
  },
  {
   "cell_type": "markdown",
   "id": "0f321aea",
   "metadata": {},
   "source": [
    "Let's analyze the model first by evaluating the parameters"
   ]
  },
  {
   "cell_type": "code",
   "execution_count": null,
   "id": "18e42c28",
   "metadata": {},
   "outputs": [],
   "source": [
    "print('Intercept: ', reg.intercept_)\n",
    "print('R^2 score: ',reg.score(X_train,y_train))"
   ]
  },
  {
   "cell_type": "code",
   "execution_count": null,
   "id": "be9e3e61",
   "metadata": {},
   "outputs": [],
   "source": [
    "coeff_df = pd.DataFrame(reg.coef_, df_ff.columns, columns=['Coefficient'])\n",
    "coeff_df"
   ]
  },
  {
   "cell_type": "markdown",
   "id": "3760c93a",
   "metadata": {},
   "source": [
    "All right, so our R^2 score is around 86%, which is pretty good, but not** that** good. From the coefficient, we'll see that the order of \"most important\" factor is true, but what about the weight? Does it obey the 40/25/20/15 rule? We can find it by first find the average of absolute coefficient value of both offensive and defensive counterparts (for example average of absolute coefficient of EFG_O and EFG_D is (0.951573+0.890253)/2=0.92091), then divide it by the total number of average absolute coefficient."
   ]
  },
  {
   "cell_type": "code",
   "execution_count": null,
   "id": "ae868d05",
   "metadata": {},
   "outputs": [],
   "source": [
    "cof = []\n",
    "tcof = 0\n",
    "for i in range(0,8,2):\n",
    "    avgcof = (abs(coeff_df['Coefficient'][i])+abs(coeff_df['Coefficient'][i+1]))/2\n",
    "    cof.append(avgcof)\n",
    "    tcof += avgcof\n",
    "print(cof/tcof)"
   ]
  },
  {
   "cell_type": "markdown",
   "id": "2258f8ea",
   "metadata": {},
   "source": [
    "We found out that shooting gives around 40.2%, turnover 38.3%, rebound 15.7%, and free throw 5.7%. It means that shooting still gives same amount of weight as analyzed by Oliver, but turnover give more weight while decrease both value of rebound and free throw. I expect the weight will be increase due to recent trend in three-pointers, but perhaps it is not the case in college basketball. Perhaps also the difference of playstyle in college basketball affect this different in weight. Now, let's make some prediction with our model"
   ]
  },
  {
   "cell_type": "markdown",
   "id": "5e271657",
   "metadata": {},
   "source": [
    "## The Prediction"
   ]
  },
  {
   "cell_type": "code",
   "execution_count": null,
   "id": "f3c8f379",
   "metadata": {},
   "outputs": [],
   "source": [
    "# predict from the test set\n",
    "y_pred = reg.predict(X_test)"
   ]
  },
  {
   "cell_type": "code",
   "execution_count": null,
   "id": "54f68815",
   "metadata": {},
   "outputs": [],
   "source": [
    "# analyze the prediction\n",
    "print('Mean Absolute Error:', metrics.mean_absolute_error(y_test, y_pred))\n",
    "print('Mean Squared Error:', metrics.mean_squared_error(y_test, y_pred))\n",
    "print('Root Mean Squared Error:', np.sqrt(metrics.mean_squared_error(y_test, y_pred)))"
   ]
  },
  {
   "cell_type": "markdown",
   "id": "942d9582",
   "metadata": {},
   "source": [
    "Our MAE scores 1.94, which means that our model made errors around 2 win/lose (for example actual win 18, we predict 20). From the RMSE, we got 2.41 which also states that our model misses around 2.4 win due to some outliers (that we neglect along this notebook). Is this model good? it depends, but I'll say it is not pretty good as we neglect some linear regression assumptions. Now, let's see some good and bad prediction made by this model"
   ]
  },
  {
   "cell_type": "code",
   "execution_count": null,
   "id": "4a3cf1d3",
   "metadata": {},
   "outputs": [],
   "source": [
    "dfd = pd.DataFrame({'Actual': y_test, 'Predicted': y_pred, 'AbsDiff': abs(y_test-y_pred)})\n",
    "dfd.sort_values(by=['AbsDiff'], inplace=True, ascending=True)\n",
    "dfd[:10]"
   ]
  },
  {
   "cell_type": "markdown",
   "id": "321236fc",
   "metadata": {},
   "source": [
    "This is top 10 most accurate result from our model. Let's see some team that we predict correctly"
   ]
  },
  {
   "cell_type": "code",
   "execution_count": null,
   "id": "51b8af31",
   "metadata": {},
   "outputs": [],
   "source": [
    "df[df.index == 21]"
   ]
  },
  {
   "cell_type": "code",
   "execution_count": null,
   "id": "8ee90746",
   "metadata": {},
   "outputs": [],
   "source": [
    "df[df.index == 937]"
   ]
  },
  {
   "cell_type": "markdown",
   "id": "5967592f",
   "metadata": {},
   "source": [
    "So here we correctly predict the fate of 2018 Texas Tech who get 27 wins and St. Francis who only get 4 wins. Let's see some bad predictions we made"
   ]
  },
  {
   "cell_type": "code",
   "execution_count": null,
   "id": "425b5c58",
   "metadata": {},
   "outputs": [],
   "source": [
    "dfd.sort_values(by=['AbsDiff'], inplace=True, ascending=False)\n",
    "dfd[:10]"
   ]
  },
  {
   "cell_type": "code",
   "execution_count": null,
   "id": "d8d8d2ba",
   "metadata": {},
   "outputs": [],
   "source": [
    "df[df.index == 1174]"
   ]
  },
  {
   "cell_type": "code",
   "execution_count": null,
   "id": "39c6d0b0",
   "metadata": {},
   "outputs": [],
   "source": [
    "df[df.index == 1338]"
   ]
  },
  {
   "cell_type": "markdown",
   "id": "555a742b",
   "metadata": {},
   "source": [
    "We predict that 2017 Western Carolina will get around 3 wins, but in reality they got 9 wins (huraay?) I can't say that they somewhat overachieve, or due to our bad model. The hilarious one is 2015 Grambling St., who failed to win any games and we predict them to win...**-6 games** I even can't imagine what -6 win is, but safe to say, that their four factors are **really** bad to make our model thinks that they can't win positive games."
   ]
  },
  {
   "cell_type": "markdown",
   "id": "5687645a",
   "metadata": {},
   "source": [
    "## Conclusion\n",
    "We have made some predictions using linear regression, which in my opinion gives fairly accurate-but not great-model due to some neglection on linear regression assumptions. In the future, maybe I can improve my model by pre-processing the data to meet the linear regression assumption, and also using PCA to solve some dimensionality problem, or even using better machine learning method. All of the code minus some visualization can be found in my github: https://github.com/thomasoca. I still learn how to become a good data scientist, and I hope my first notebook does not dissapoint you all. Comments, advices, or anything else is acceptable."
   ]
  },
  {
   "cell_type": "code",
   "execution_count": null,
   "id": "0ca2c334",
   "metadata": {},
   "outputs": [],
   "source": [
    "nan"
   ]
  }
 ],
 "metadata": {},
 "nbformat": 4,
 "nbformat_minor": 5
}
