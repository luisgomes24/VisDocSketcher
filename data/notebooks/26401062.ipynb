{
 "cells": [
  {
   "cell_type": "code",
   "execution_count": null,
   "id": "8026b05b",
   "metadata": {},
   "outputs": [],
   "source": [
    "# This Python 3 environment comes with many helpful analytics libraries installed\n",
    "# It is defined by the kaggle/python Docker image: https://github.com/kaggle/docker-python\n",
    "# For example, here's several helpful packages to load\n",
    "\n",
    "import numpy as np # linear algebra\n",
    "import pandas as pd # data processing, CSV file I/O (e.g. pd.read_csv)\n",
    "\n",
    "# Input data files are available in the read-only \"../input/\" directory\n",
    "# For example, running this (by clicking run or pressing Shift+Enter) will list all files under the input directory\n",
    "\n",
    "import os\n",
    "for dirname, _, filenames in os.walk('/kaggle/input'):\n",
    "    for filename in filenames:\n",
    "        print(os.path.join(dirname, filename))\n",
    "\n",
    "# You can write up to 20GB to the current directory (/kaggle/working/) that gets preserved as output when you create a version using \"Save & Run All\" \n",
    "# You can also write temporary files to /kaggle/temp/, but they won't be saved outside of the current session"
   ]
  },
  {
   "cell_type": "code",
   "execution_count": null,
   "id": "0f0fb739",
   "metadata": {},
   "outputs": [],
   "source": [
    "data_equipment_path ='/kaggle/input/2022-ukraine-russian-war/russia_losses_equipment.csv'\n",
    "data_personnel_path ='/kaggle/input/2022-ukraine-russian-war/russia_losses_personnel.csv'"
   ]
  },
  {
   "cell_type": "markdown",
   "id": "df38df1c",
   "metadata": {},
   "source": [
    "## Goal\n",
    "This is the dataset that describes Equipment Losses & Death Toll & Military Wounded & Prisoner of War of russians in 2022 Ukraine russia War.\n",
    "\n",
    "The data is commutative. It means each new record is accumulated data from previous days. \n",
    "\n",
    "The goal of the notebook is to represent data on a daily based. It is very simple but could be very useful for analysis. Please, use the code snipet to convert data."
   ]
  },
  {
   "cell_type": "markdown",
   "id": "a39adee4",
   "metadata": {},
   "source": [
    "## Data, Last 20 days"
   ]
  },
  {
   "cell_type": "code",
   "execution_count": null,
   "id": "ae6817b7",
   "metadata": {},
   "outputs": [],
   "source": [
    "df_equipment = pd.read_csv(data_equipment_path)\n",
    "df_equipment['date'] = pd.to_datetime(df_equipment['date'])\n",
    "df_equipment = df_equipment.set_index(['date', 'day', 'greatest losses direction'])\n",
    "# df_equipment = df_equipment.drop('greatest losses direction', axis=1)\n",
    "df_equipment = df_equipment.diff().fillna(df_equipment).fillna(0).astype(int).reset_index()\n",
    "df_equipment.tail(20)"
   ]
  },
  {
   "cell_type": "code",
   "execution_count": null,
   "id": "824141ac",
   "metadata": {},
   "outputs": [],
   "source": [
    "df_personnel = pd.read_csv(data_personnel_path)\n",
    "df_personnel['date'] = pd.to_datetime(df_personnel['date'])\n",
    "df_personnel = df_personnel.set_index(['date', 'day', 'personnel*'])\n",
    "df_personnel = df_personnel.diff().fillna(df_personnel).fillna(0).astype(int).reset_index()\n",
    "df_personnel.tail(20)"
   ]
  },
  {
   "cell_type": "markdown",
   "id": "962dea7a",
   "metadata": {},
   "source": [
    "## Plot, example"
   ]
  },
  {
   "cell_type": "code",
   "execution_count": null,
   "id": "c6105201",
   "metadata": {},
   "outputs": [],
   "source": [
    "import matplotlib.pyplot as plt\n",
    "from matplotlib import dates\n",
    "from dateutil.relativedelta import relativedelta\n",
    "\n",
    "fig_author = 'Petro Ivaniuk'\n",
    "fig_date = pd.Timestamp('today').date()\n",
    "period_months = 2\n",
    "column_equipment = 'drone'\n",
    "column_date = 'date'\n",
    "\n",
    "df_ = df_equipment[[column_date, column_equipment]]\n",
    "date_last = df_.iloc[-1][column_date]\n",
    "date_first = date_last - relativedelta(months=+period_months)\n",
    "df_ = df_[df_[column_date]>date_first].copy()\n",
    "\n",
    "label_list = df_[column_date]\n",
    "number_list = df_[column_equipment]\n",
    "\n",
    "fig = plt.figure(figsize=(21, 7), dpi=300)\n",
    "ax = fig.add_subplot()\n",
    "ax.bar(label_list, number_list)\n",
    "\n",
    "for patch in ax.patches:\n",
    "    ax.text(\n",
    "        patch.get_x()+patch.get_width()/2, \n",
    "        patch.get_height()+0.1,\n",
    "        patch.get_height() if patch.get_height()!=0 else '', \n",
    "        ha=\"center\", \n",
    "        fontsize=12\n",
    "    )\n",
    "    \n",
    "ax.tick_params(axis='x', labelrotation=90)\n",
    "ax.xaxis.set_major_locator(dates.DayLocator(interval=2))\n",
    "\n",
    "ax.tick_params(labelleft=False)   \n",
    "ax.yaxis.set_ticks_position('none')\n",
    "ax.spines['top'].set_visible(False)\n",
    "ax.spines['left'].set_visible(False)\n",
    "ax.spines['right'].set_visible(False)\n",
    "\n",
    "ax.annotate('Created by {}, {}.'.format(fig_author, fig_date), xy=(0.8, 0.85), xycoords='figure fraction',)\n",
    "\n",
    "plt.title('Armed Forces of Ukraine in action, russian {} losses'.format(column_equipment), fontsize=20)\n",
    "plt.tight_layout()\n",
    "plt.savefig('{}.png'.format(column_equipment))\n",
    "plt.show()"
   ]
  }
 ],
 "metadata": {},
 "nbformat": 4,
 "nbformat_minor": 5
}
