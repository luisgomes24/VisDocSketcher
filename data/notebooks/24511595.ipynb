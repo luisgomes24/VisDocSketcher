{
 "cells": [
  {
   "cell_type": "markdown",
   "id": "95a0fbe5",
   "metadata": {},
   "source": [
    "# Using FBProphet to forecast the total price \n",
    "Based on [Sales Forecasting Using Facebook’s Prophet\n",
    "](https://medium.com/fritzheartbeat/sales-forecasting-using-facebooks-prophet-f9ae0214f196)"
   ]
  },
  {
   "cell_type": "markdown",
   "id": "85142f6a",
   "metadata": {},
   "source": [
    "Sales forecasting is one the most common tasks in many sales-driven organizations. When done well, it enables organizations to adequately plan for the future with a degree of confidence. In this tutorial, we’ll use Prophet, a package developed by Facebook to show how one can achieve this. This package is available in both Python and R. We assume that the reader has a basic understanding of handling time series data in Python."
   ]
  },
  {
   "cell_type": "code",
   "execution_count": null,
   "id": "a66363b2",
   "metadata": {},
   "outputs": [],
   "source": [
    "# This Python 3 environment comes with many helpful analytics libraries installed\n",
    "# It is defined by the kaggle/python Docker image: https://github.com/kaggle/docker-python\n",
    "# For example, here's several helpful packages to load\n",
    "\n",
    "import numpy as np # linear algebra\n",
    "import pandas as pd # data processing, CSV file I/O (e.g. pd.read_csv)\n"
   ]
  },
  {
   "cell_type": "code",
   "execution_count": null,
   "id": "06281681",
   "metadata": {},
   "outputs": [],
   "source": [
    "transactions_train = pd.read_csv(\"/kaggle/input/h-and-m-personalized-fashion-recommendations/transactions_train.csv\")"
   ]
  },
  {
   "cell_type": "code",
   "execution_count": null,
   "id": "2ec09a80",
   "metadata": {},
   "outputs": [],
   "source": [
    "transactions_train.tail()"
   ]
  },
  {
   "cell_type": "code",
   "execution_count": null,
   "id": "c9c0265b",
   "metadata": {},
   "outputs": [],
   "source": [
    "transactions = transactions_train.groupby('t_dat')['price'].sum().reset_index()"
   ]
  },
  {
   "cell_type": "code",
   "execution_count": null,
   "id": "cced7ad3",
   "metadata": {},
   "outputs": [],
   "source": [
    "transactions['ds'] = transactions['t_dat']\n",
    "transactions['y'] = transactions['price']\n",
    "transactions = transactions[['ds','y']]"
   ]
  },
  {
   "cell_type": "code",
   "execution_count": null,
   "id": "d11ecd1a",
   "metadata": {},
   "outputs": [],
   "source": [
    "transactions.tail()"
   ]
  },
  {
   "cell_type": "markdown",
   "id": "a6173a6e",
   "metadata": {},
   "source": [
    "Prophet works best with hourly and weekly data over several months. When working with Prophet, yearly data is most preferred"
   ]
  },
  {
   "cell_type": "code",
   "execution_count": null,
   "id": "9a90853e",
   "metadata": {},
   "outputs": [],
   "source": [
    "from fbprophet import Prophet"
   ]
  },
  {
   "cell_type": "markdown",
   "id": "afd903da",
   "metadata": {},
   "source": [
    "Start by creating an instance of the Prophet class and then fit it to our dataset."
   ]
  },
  {
   "cell_type": "code",
   "execution_count": null,
   "id": "2faee2ac",
   "metadata": {},
   "outputs": [],
   "source": [
    "model = Prophet()\n",
    "model.add_country_holidays(country_name='US')\n",
    "model.fit(transactions)"
   ]
  },
  {
   "cell_type": "markdown",
   "id": "238ba9fa",
   "metadata": {},
   "source": [
    "### Making Future Predictions\n"
   ]
  },
  {
   "cell_type": "markdown",
   "id": "8d902c44",
   "metadata": {},
   "source": [
    "The next step is to prepare our model to make future predictions. This is achieved using the `Prophet.make_future_dataframe` method and passing the number of days we’d like to predict in the future. We use the periods attribute to specify this. This also include the historical dates. We’ll use these historical dates to compare the predictions with the actual values in the `ds` column."
   ]
  },
  {
   "cell_type": "code",
   "execution_count": null,
   "id": "8843f874",
   "metadata": {},
   "outputs": [],
   "source": [
    "future = model.make_future_dataframe(periods=7)\n",
    "future.tail()"
   ]
  },
  {
   "cell_type": "markdown",
   "id": "e882656e",
   "metadata": {},
   "source": [
    "### Obtaining the Forecasts"
   ]
  },
  {
   "cell_type": "markdown",
   "id": "c4115286",
   "metadata": {},
   "source": [
    "We use the `predict` method to make future predictions. This will generate a dataframe with a `yhat` column that will contain the predictions."
   ]
  },
  {
   "cell_type": "code",
   "execution_count": null,
   "id": "ffbfbe21",
   "metadata": {},
   "outputs": [],
   "source": [
    "forecast = model.predict(future)"
   ]
  },
  {
   "cell_type": "markdown",
   "id": "e9d6210a",
   "metadata": {},
   "source": [
    "If we check the head for our forecast dataframe, we’ll notice that it has a lot of columns. However, we are mainly interested in `ds`, `yhat`, `yhat_lower`, and `yhat_upper`. `yhat` is our predicted forecast, `yhat_lower` is the lower bound for our predictions, and `yhat_upper` is the upper bound."
   ]
  },
  {
   "cell_type": "code",
   "execution_count": null,
   "id": "5dc61d65",
   "metadata": {},
   "outputs": [],
   "source": [
    "forecast.sample()"
   ]
  },
  {
   "cell_type": "code",
   "execution_count": null,
   "id": "49c65ef7",
   "metadata": {},
   "outputs": [],
   "source": [
    "forecast[['ds', 'yhat', 'yhat_lower', 'yhat_upper']].tail()\n"
   ]
  },
  {
   "cell_type": "markdown",
   "id": "16066a69",
   "metadata": {},
   "source": [
    "### Plotting the Forecasts\n"
   ]
  },
  {
   "cell_type": "markdown",
   "id": "4aff9d3f",
   "metadata": {},
   "source": [
    "Prophet has an inbuilt feature that enables us to plot the forecasts we just generated. This is achieved using `model.plot()` and passing in our forecasts as the argument. The blue line in the graph represents the predicted values while the black dots represents the data in our dataset."
   ]
  },
  {
   "cell_type": "code",
   "execution_count": null,
   "id": "7a39d3ce",
   "metadata": {},
   "outputs": [],
   "source": [
    "plot = model.plot(forecast)\n",
    "# The blue line in the graph represents the predicted values while the black dots \n",
    "# represents the data in our dataset."
   ]
  },
  {
   "cell_type": "markdown",
   "id": "6b5e685a",
   "metadata": {},
   "source": [
    "#### Plotting the Forecast Components"
   ]
  },
  {
   "cell_type": "markdown",
   "id": "53636566",
   "metadata": {},
   "source": [
    "The `plot_components` method plots the trend, yearly, and weekly seasonality of the time series data."
   ]
  },
  {
   "cell_type": "code",
   "execution_count": null,
   "id": "7868b532",
   "metadata": {},
   "outputs": [],
   "source": [
    "plot2 = model.plot_components(forecast)"
   ]
  },
  {
   "cell_type": "code",
   "execution_count": null,
   "id": "892a90f4",
   "metadata": {},
   "outputs": [],
   "source": [
    "customers = pd.read_csv(\"/kaggle/input/h-and-m-personalized-fashion-recommendations/customers.csv\")"
   ]
  },
  {
   "cell_type": "markdown",
   "id": "32d741f3",
   "metadata": {},
   "source": [
    "### Cross Validation\n"
   ]
  },
  {
   "cell_type": "markdown",
   "id": "2a623aeb",
   "metadata": {},
   "source": [
    "Next let’s measure the forecast error using the historical data. We’ll do this by comparing the predicted values with the actual values. In order to perform this operation, we select cut off points in the data history and fit the model with data up to that cut off point.\n",
    "Afterwards, we compare the actual values to the predicted values. The `cross_validation` method allows us to do this in Prophet. This method takes the following parameters, as explained below:\n",
    "\n",
    "- horizon the forecast horizon\n",
    "\n",
    "- initial the size of the initial training period\n",
    "\n",
    "- period the spacing between cutoff dates\n",
    "\n",
    "The output of the cross_validation method is a dataframe containing `y` (the true values) and `yhat` (the predicted values). We’ll use this dataframe to compute the prediction errors."
   ]
  },
  {
   "cell_type": "markdown",
   "id": "6cc190b0",
   "metadata": {},
   "source": [
    "### Time series cross validation to measure forecast error using historical data.\n",
    "Select a cut off points in the past\n",
    "Fit the model to the data up to that cut off point\n",
    "Compare the forecasted values to the actual values."
   ]
  },
  {
   "cell_type": "code",
   "execution_count": null,
   "id": "79423082",
   "metadata": {},
   "outputs": [],
   "source": [
    "from fbprophet.diagnostics import cross_validation #measure forecast error using historical data\n",
    "# This is done by selecting cutoff points in the history, and for each of them fitting the model using \n",
    "# data only up to that cutoff point. We can then compare the forecasted values to the actual values\n",
    "df_cv = cross_validation(model,horizon = '50 days') #  forecast horizon\n",
    "# By default, the initial training period is set to three times the horizon\n",
    "# cutoffs are made every half a horizon\n",
    "df_cv.head()"
   ]
  },
  {
   "cell_type": "code",
   "execution_count": null,
   "id": "b6fcb949",
   "metadata": {},
   "outputs": [],
   "source": [
    "from fbprophet.diagnostics import performance_metrics\n",
    "df_p = performance_metrics(df_cv)\n",
    "df_p.tail()"
   ]
  },
  {
   "cell_type": "code",
   "execution_count": null,
   "id": "fa5d5d0e",
   "metadata": {},
   "outputs": [],
   "source": [
    "from fbprophet.plot import plot_cross_validation_metric\n",
    "fig = plot_cross_validation_metric(df_cv, metric='rmse')"
   ]
  },
  {
   "cell_type": "markdown",
   "id": "620d040e",
   "metadata": {},
   "source": [
    "### Obtaining the Performance Metrics\n",
    "We use the `performance_metrics` utility to compute the Mean Squared Error(MSE), Root Mean Squared Error(RMSE), Mean Absolute Error(MAE), Mean Absolute Percentage Error(MAPE) and the coverage of the `yhat_lower` and `yhat_upper` estimates."
   ]
  },
  {
   "cell_type": "code",
   "execution_count": null,
   "id": "92933bb5",
   "metadata": {},
   "outputs": [],
   "source": [
    "from fbprophet.diagnostics import performance_metrics\n",
    "df_p = performance_metrics(df_cv)\n",
    "df_p.head()"
   ]
  }
 ],
 "metadata": {},
 "nbformat": 4,
 "nbformat_minor": 5
}
