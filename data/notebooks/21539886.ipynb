{
 "cells": [
  {
   "cell_type": "markdown",
   "id": "a60f31bc",
   "metadata": {},
   "source": [
    "# LOOCV (LEAVE ONE OUT CROSS VALIDATION)"
   ]
  },
  {
   "cell_type": "markdown",
   "id": "d02a7cd2",
   "metadata": {},
   "source": [
    "Leave-One-Out cross-validator\n",
    "\n",
    "Provides train/test indices to split data in train/test sets. \n",
    "\n",
    "Each sample is used once as a test set (singleton) while the remaining samples form the training set.\n",
    "\n",
    "Note: **LeaveOneOut() is equivalent to KFold(n_splits=n) and LeavePOut(p=1)** \n",
    "where n is the number of samples.\n",
    "\n",
    "Due to the high number of test sets (which is the same as the number of samples) this cross-validation method can be very costly. \n",
    "\n",
    "For large datasets one should favor KFold, ShuffleSplit or StratifiedKFold."
   ]
  },
  {
   "cell_type": "code",
   "execution_count": null,
   "id": "b678a6e2",
   "metadata": {},
   "outputs": [],
   "source": [
    "from sklearn.datasets import load_iris\n",
    "from sklearn.model_selection import cross_val_score,LeaveOneOut\n",
    "from sklearn.linear_model import LogisticRegression\n",
    "import numpy as np"
   ]
  },
  {
   "cell_type": "code",
   "execution_count": null,
   "id": "3667fda4",
   "metadata": {},
   "outputs": [],
   "source": [
    "iris = load_iris()"
   ]
  },
  {
   "cell_type": "code",
   "execution_count": null,
   "id": "9889cf0a",
   "metadata": {},
   "outputs": [],
   "source": [
    "iris.data[:3]"
   ]
  },
  {
   "cell_type": "code",
   "execution_count": null,
   "id": "089b777d",
   "metadata": {},
   "outputs": [],
   "source": [
    "iris.target"
   ]
  },
  {
   "cell_type": "markdown",
   "id": "df43c2e7",
   "metadata": {},
   "source": [
    "\n",
    "\n"
   ]
  },
  {
   "cell_type": "code",
   "execution_count": null,
   "id": "aa1499ab",
   "metadata": {},
   "outputs": [],
   "source": [
    "model = LogisticRegression(max_iter=1000)"
   ]
  },
  {
   "cell_type": "code",
   "execution_count": null,
   "id": "ea4a6692",
   "metadata": {},
   "outputs": [],
   "source": [
    "loo = LeaveOneOut()\n",
    "scores = cross_val_score(model,iris.data,iris.target,cv=loo)"
   ]
  },
  {
   "cell_type": "code",
   "execution_count": null,
   "id": "0b5bb105",
   "metadata": {},
   "outputs": [],
   "source": [
    "print(\"cross valation count=\",len(scores))"
   ]
  },
  {
   "cell_type": "code",
   "execution_count": null,
   "id": "590c34c4",
   "metadata": {},
   "outputs": [],
   "source": [
    "print(\"scroes mean=\",np.round(scores.mean(),2))"
   ]
  }
 ],
 "metadata": {},
 "nbformat": 4,
 "nbformat_minor": 5
}
