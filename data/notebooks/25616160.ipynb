{
 "cells": [
  {
   "cell_type": "code",
   "execution_count": null,
   "id": "7bfa5b57",
   "metadata": {},
   "outputs": [],
   "source": [
    "# Imports\n",
    "import numpy as np # linear algebra\n",
    "import pandas as pd # data processing, CSV file I/O (e.g. pd.read_csv)\n",
    "import matplotlib.pyplot as plt\n",
    "import matplotlib.animation\n",
    "import time\n",
    "import pylab as pl\n",
    "from IPython import display\n",
    "# Input data files are available in the read-only \"../input/\" directory\n",
    "# For example, running this (by clicking run or pressing Shift+Enter) will list all files under the input directory\n",
    "import time as t\n",
    "import datetime\n",
    "import dask.dataframe as dd\n",
    "import os\n",
    "for dirname, _, filenames in os.walk('/kaggle/input'):\n",
    "    for filename in filenames:\n",
    "        print(os.path.join(dirname, filename))\n",
    "%matplotlib inline \n"
   ]
  },
  {
   "cell_type": "markdown",
   "id": "fcd9bc57",
   "metadata": {},
   "source": [
    "# Visualizing the Training Data\n",
    "In the following notebook, I try to create a vizualization resembling something like a very simplified version of real roadway from the training data. I'm not sure how useful this is going to be with respect to the modelling but maybe we could draw some inference from it. In any case, I though it was a cool way to look at the training data(shown below)."
   ]
  },
  {
   "cell_type": "markdown",
   "id": "53e4002e",
   "metadata": {},
   "source": [
    "<img src=\"https://drive.google.com/uc?export=view&id=1Qi_HEod-gRDvRDBY920ZE4ti49dfyywH\">"
   ]
  },
  {
   "cell_type": "markdown",
   "id": "2c65a5ee",
   "metadata": {},
   "source": [
    "# Data\n",
    "The training data conists of x and y coordindates of a roadway and the traffic direction. We are supplied with a level of congestion in form of a time series for each of the roadway."
   ]
  },
  {
   "cell_type": "code",
   "execution_count": null,
   "id": "ddd5292e",
   "metadata": {},
   "outputs": [],
   "source": [
    "# Reading the data\n",
    "data = pd.read_csv('../input/tabular-playground-series-mar-2022/train.csv')\n",
    "print(data.head())\n",
    "print(data.x.unique())\n",
    "print(data.y.unique())\n",
    "print(data.direction.unique())"
   ]
  },
  {
   "cell_type": "markdown",
   "id": "ca48141a",
   "metadata": {},
   "source": [
    "From the data, we have quite less number of unique x,y coordinates and directions. So we could try to visualize the data through something resembling the actual road network."
   ]
  },
  {
   "cell_type": "code",
   "execution_count": null,
   "id": "ab45dbf9",
   "metadata": {},
   "outputs": [],
   "source": [
    "# Grouping by coordinates and direction\n",
    "data_dir = data.groupby(['x','y','direction'])['congestion'].count().reset_index()\n",
    "data_dir = data_dir.drop(columns = ['congestion'])\n",
    "data_dir\n"
   ]
  },
  {
   "cell_type": "markdown",
   "id": "b998e216",
   "metadata": {},
   "source": [
    "# Defining offset coordintes and colors\n",
    "Here we define an xy plane offset that we are going to be using to plot the road network. The road network are to made using a number of line segments and the tuple defined for every direction below provide the offset of the x-y coordinate from the mid point of the road. For example the tuple defined for the direct 'EB' is (-0.5,0.5,0,0). So suppose we have a East Bound(EB) road with its midpoint at (0,0), then that road is going to be represented by a line seqment which goes from point (0-0.5,0+0) to (0+0.5,0+0), i.e (-0.5,0) to (0.5,0). Similiary others are defined as well.\n",
    "\n",
    "Since here we have roads going in the opposite directions as well, for ex - 'NB' and 'SB', so those are represented by parallel lines offset from the midpoint as given in the training data for better visualization.\n",
    "If the explaination above isn't totally clear then the plot below probably will be."
   ]
  },
  {
   "cell_type": "code",
   "execution_count": null,
   "id": "1b704307",
   "metadata": {},
   "outputs": [],
   "source": [
    "xy_offset = {'EB' : (-0.5,0.5,0,0),'NB' : (0,0,0.5,-0.5), \n",
    "             'SB' : (0.2,0.2,0.5,-0.5), 'WB' : (0.5,-0.5,0.2,0.2),\n",
    "            'NE' : (-0.5,0.5,0.5,-0.5), 'NW' : (0.5,-0.5,0.5,-0.5), \n",
    "             'SW' : (-0.3,0.7,0.5,-0.5), 'SE' : (-0.3,0.7,-0.5,0.5)}\n",
    "\n",
    "colors = {'EB' : \"#89b0ae\",'NB' : \"#89b0ae\", \n",
    "             'SB' : \"#2d4051\", 'WB' :\"#2d4051\",\n",
    "            'NE' : \"#89b0ae\", 'NW' : \"#89b0ae\", \n",
    "             'SW' : \"#2d4051\", 'SE' : \"#2d4051\"}"
   ]
  },
  {
   "cell_type": "markdown",
   "id": "2da077c0",
   "metadata": {},
   "source": [
    "# Plotting the Road Network\n",
    "The plot below looks like an idealized version of a city block. The network is pretty simplified with the obvious assumption that the coordinates are equidistant, but still it could be a helpful way to vizualize the data.\n",
    "The light colored roads represent roads going in NB, EB, NE and NW directions. Rest directions are represented by the dark color. And as stated earlier the opposite roadways are made by offseting it parallel to it center. For example, NB roads pass through the mid point x,y as given in the data but the south roads have been charted by just offseting it parallely for better visualization."
   ]
  },
  {
   "cell_type": "code",
   "execution_count": null,
   "id": "dee262de",
   "metadata": {},
   "outputs": [],
   "source": [
    "fig = plt.figure(figsize = (10,13))\n",
    "gs = fig.add_gridspec(nrows=1, ncols=1)\n",
    "ax = fig.add_subplot(gs[0:, 0:])\n",
    "ax.set_title(\"Road Network\",fontsize = 20, fontweight = \"bold\", fontfamily = 'serif')\n",
    "ax.set_xlabel(\"<- East   (Coordinates)     West ->\", fontsize = 16, fontfamily = 'serif')\n",
    "ax.set_ylabel(\"<-South    (Coordinates)   North->\",fontsize = 16, fontfamily = 'serif')\n",
    "ax.spines['top'].set_visible(False)\n",
    "ax.spines['right'].set_visible(False)\n",
    "ax.spines['left'].set_visible(False)\n",
    "ax.spines['bottom'].set_visible(False)\n",
    "\n",
    "def show_congestion(data_dir):\n",
    "    for index, row in data_dir.iterrows():\n",
    "        x_values = [row['x'] + xy_offset[row['direction']][0],\n",
    "                    row['x']+xy_offset[row['direction']][1]]\n",
    "        y_values = [row['y']+xy_offset[row['direction']][2],\n",
    "                    row['y']+xy_offset[row['direction']][3]]\n",
    "\n",
    "        ax.plot(x_values,y_values, linewidth=10, color = colors[row['direction']], \n",
    "                alpha = 1)\n",
    "#         line1.set_xdata(x_values)\n",
    "#         line1.set_ydata(y_values)\n",
    "#         line1.set_alpha(row['congestion']/100\n",
    "show_congestion(data_dir)\n",
    "        "
   ]
  },
  {
   "cell_type": "markdown",
   "id": "3b8382d8",
   "metadata": {},
   "source": [
    "# Animating the Network\n",
    "Using matplotlib we could spin up a very rudimentery animation showing how congestion varies over time for each of the roads given in the training data."
   ]
  },
  {
   "cell_type": "code",
   "execution_count": null,
   "id": "787f4533",
   "metadata": {},
   "outputs": [],
   "source": [
    "# First we extract the unique times and sort it\n",
    "unique_times = data['time'].unique()\n",
    "unique_times = np.sort(unique_times)\n",
    "\n",
    "min_time = unique_times[0]\n",
    "max_time = unique_times[-1]\n",
    "\n",
    "print(unique_times[0],unique_times[-1])"
   ]
  },
  {
   "cell_type": "markdown",
   "id": "322e1ece",
   "metadata": {},
   "source": [
    "It is very computationaly expensive and not very reasonable to animate the network for whole of the training data since it covers a whole year in 20 min intervals. So we define a time interval below for which we would like to visualize the data."
   ]
  },
  {
   "cell_type": "code",
   "execution_count": null,
   "id": "640f9e88",
   "metadata": {},
   "outputs": [],
   "source": [
    "# Set the start and end time for the visualization\n",
    "start_time = '1991-04-01 00:00:00'\n",
    "end_time = '1991-04-02 19:00:00'\n",
    "\n",
    "def get_selected_time(start_time,end_time,unique_times):\n",
    "    start = datetime.datetime.strptime(start_time, \"%Y-%m-%d %H:%M:%S\")\n",
    "    end = datetime.datetime.strptime(end_time, \"%Y-%m-%d %H:%M:%S\")\n",
    "    max_t = datetime.datetime.strptime(max_time, \"%Y-%m-%d %H:%M:%S\")\n",
    "    min_t = datetime.datetime.strptime(min_time, \"%Y-%m-%d %H:%M:%S\")\n",
    "    print(start,end,max_t,min_t)\n",
    "    # Validating if time entered falles within range\n",
    "    if(start < min_t or end > max_t):\n",
    "        \n",
    "        print(\"Invalid time interval!!\")\n",
    "        return\n",
    "   \n",
    "    # Rounding the datetime to nearest 20 min mark if the entered times aren't compatible\n",
    "\n",
    "    start = start + datetime.timedelta(minutes = 20 - start.minute%20, seconds = 0 - start.second)\n",
    "    end = end - datetime.timedelta(minutes = end.minute%20,seconds = 0 + end.second)\n",
    "    print(start,end)\n",
    "    start_time = start.strftime(\"%Y-%m-%d %H:%M:%S\")\n",
    "    end_time = end.strftime(\"%Y-%m-%d %H:%M:%S\")\n",
    "    \n",
    "    unique_times = unique_times.tolist()\n",
    "\n",
    "    times_filtered = unique_times[unique_times.index(start_time):\n",
    "                                  unique_times.index(end_time)+1]\n",
    "    \n",
    "    return times_filtered\n",
    "\n",
    "times_filtered = get_selected_time(start_time,end_time,unique_times)\n",
    "print(len(times_filtered))\n",
    "\n",
    "data_filtered = data[data['time'].isin(times_filtered)]\n",
    "data_filtered.shape"
   ]
  },
  {
   "cell_type": "code",
   "execution_count": null,
   "id": "572fb594",
   "metadata": {},
   "outputs": [],
   "source": [
    "# We create an array beforehand of dataframe filtered by the time since filitering the large dataframe in the loop before plotting would make the animation slow.\n",
    "d_a = []\n",
    "for time in times_filtered:\n",
    "    d_a.append(data_filtered[data_filtered['time'] == time])"
   ]
  },
  {
   "cell_type": "markdown",
   "id": "db4a6b82",
   "metadata": {},
   "source": [
    "# Animation\n",
    "The animation is simple. For each of the roads in the network we just vary its linewidth according to the congestion level. At lower congestion level the lines would be leaner and thick when the congestion is high.\n"
   ]
  },
  {
   "cell_type": "code",
   "execution_count": null,
   "id": "17688ae9",
   "metadata": {},
   "outputs": [],
   "source": [
    "fig = plt.figure(figsize = (14,10))\n",
    "gs = fig.add_gridspec(nrows=1, ncols=1)\n",
    "ax1 = fig.add_subplot(gs[0:, 0:])\n",
    "\n",
    "def animation(fig,ax1,d_a,u_f):\n",
    "#     ax1.set_xlim(-0.5,2.5)\n",
    "#     ax1.set_ylim(-0.5,4)\n",
    "\n",
    "    ax1.spines['top'].set_visible(False)\n",
    "    ax1.spines['right'].set_visible(False)\n",
    "    ax1.spines['left'].set_visible(False)\n",
    "    ax1.spines['bottom'].set_visible(False)\n",
    "    # d_a is a list of dataframes created using different filters\n",
    "    for data_filtered, tm in zip(d_a,u_f):        \n",
    "\n",
    "    #     show_congestion(data_filtered)\n",
    "        ax1.clear()\n",
    "        for index,row in data_filtered.iterrows():\n",
    "\n",
    "            x_values = [row['x'] + xy_offset[row['direction']][0],\n",
    "                        row['x']+xy_offset[row['direction']][1]]\n",
    "            y_values = [row['y']+xy_offset[row['direction']][2],\n",
    "                        row['y']+xy_offset[row['direction']][3]]\n",
    "\n",
    "            ax1.plot(x_values,y_values, linewidth=row['congestion']/5,\n",
    "                     color = colors[row['direction']],\n",
    "#                         alpha = row['congestion']/100\n",
    "\n",
    "                            )\n",
    "        ax1.set_xlim(-1,3)\n",
    "        ax1.set_ylim(-1,4)\n",
    "        \n",
    "        ax1.text(1.6,3.8,tm, fontsize = 16, fontweight = 'bold', color = 'grey')\n",
    "\n",
    "        ax1.set_title(\"Road Network\",fontsize = 20, fontweight = \"bold\", fontfamily = 'serif', color =\"grey\")\n",
    "        ax1.set_xlabel(\"<- East   (Coordinates)     West ->\", fontsize = 16, fontfamily = 'serif', color =\"grey\")\n",
    "        ax1.set_ylabel(\"<-South    (Coordinates)   North->\",fontsize = 16, fontfamily = 'serif', color =\"grey\")\n",
    "        display.display(fig)\n",
    "        display.clear_output(wait =True)\n",
    "    \n",
    "        plt.pause(0.1)\n",
    "\n",
    "        \n",
    "animation(fig,ax1,d_a,times_filtered)\n"
   ]
  },
  {
   "cell_type": "markdown",
   "id": "1efbaf9e",
   "metadata": {},
   "source": [
    "# Isolating roads and directions\n",
    "It can be difficult to infer anything viewing the whole network at a time. So it would probably be more useful if we isolated some roads and just looked at them, which should be simple to do."
   ]
  },
  {
   "cell_type": "code",
   "execution_count": null,
   "id": "554e9280",
   "metadata": {},
   "outputs": [],
   "source": [
    "fig = plt.figure(figsize = (14,10))\n",
    "gs = fig.add_gridspec(nrows=1, ncols=1)\n",
    "ax1 = fig.add_subplot(gs[0:, 0:])\n",
    "\n",
    "filter_coordinates_x = [0]\n",
    "filter_coordinates_y = [0,1,2,3]\n",
    "\n",
    "filter_direction = [\"NE\",\"NB\",\"SB\"]\n",
    "\n",
    "da_f = data_filtered = data[(data['direction'].isin(filter_direction)) & \n",
    "                           (data['x'].isin(filter_coordinates_x)) &\n",
    "                           (data['y'].isin(filter_coordinates_y))]\n",
    "df_array = []\n",
    "\n",
    "start_time = '1991-04-01 00:00:00'\n",
    "end_time = '1991-04-02 19:00:00'\n",
    "\n",
    "filter_t =  get_selected_time(start_time,end_time,unique_times)\n",
    "    \n",
    "for time in filter_t:\n",
    "    df_array.append(da_f[da_f['time'] == time])\n",
    "    \n",
    "animation(fig,ax1,df_array,filter_t)"
   ]
  },
  {
   "cell_type": "markdown",
   "id": "f6c9e545",
   "metadata": {},
   "source": [
    "So, we could probably get a correlation between congestion in the same pathways, which from the limited animation we could already see. But, I'm not sure how useful it would be in informing modelling choice. So, let me know if anything is wrong here or it could be made better(I'm sure) in some way."
   ]
  }
 ],
 "metadata": {},
 "nbformat": 4,
 "nbformat_minor": 5
}
