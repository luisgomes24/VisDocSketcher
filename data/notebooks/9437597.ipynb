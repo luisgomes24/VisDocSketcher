{
 "cells": [
  {
   "cell_type": "markdown",
   "id": "675143fc",
   "metadata": {},
   "source": [
    "# Exercise Introduction\n",
    "\n",
    "The cameraman who shot our deep learning videos mentioned a problem that we can solve with deep learning.  \n",
    "\n",
    "He offers a service that scans photographs to store them digitally.  He uses a machine that quickly scans many photos. But depending on the orientation of the original photo, many images are digitized sideways.  He fixes these manually, looking at each photo to determine which ones to rotate.\n",
    "\n",
    "In this exercise, you will build a model that distinguishes which photos are sideways and which are upright, so an app could automatically rotate each image if necessary.\n",
    "\n",
    "If you were going to sell this service commercially, you might use a large dataset to train the model. But you'll have great success with even a small dataset.  You'll work with a small dataset of dog pictures, half of which are rotated sideways.\n",
    "\n",
    "Specifying and compiling the model look the same as in the example you've seen. But you'll need to make some changes to fit the model.\n",
    "\n",
    "**Run the following cell to set up automatic feedback.**"
   ]
  },
  {
   "cell_type": "code",
   "execution_count": null,
   "id": "e15e8a62",
   "metadata": {},
   "outputs": [],
   "source": [
    "# Set up code checking\n",
    "from learntools.core import binder\n",
    "binder.bind(globals())\n",
    "from learntools.deep_learning.exercise_4 import *\n",
    "import tensorflow as tf\n",
    "print(\"Setup Complete\")"
   ]
  },
  {
   "cell_type": "markdown",
   "id": "8dfbe617",
   "metadata": {},
   "source": [
    "# 1) Specify the Model\n",
    "\n",
    "Since this is your first time, we'll provide some starter code for you to modify. You will probably copy and modify code the first few times you work on your own projects.\n",
    "\n",
    "There are some important parts left blank in the following code."
   ]
  },
  {
   "cell_type": "code",
   "execution_count": null,
   "id": "f5031214",
   "metadata": {},
   "outputs": [],
   "source": [
    "from tensorflow.keras.applications import ResNet50\n",
    "from tensorflow.keras.models import Sequential\n",
    "from tensorflow.keras.layers import Dense, Flatten, GlobalAveragePooling2D\n",
    "\n",
    "num_classes = 2 #number of output layers\n",
    "resnet_weights_path = '../input/resnet50/resnet50_weights_tf_dim_ordering_tf_kernels_notop.h5'\n",
    "\n",
    "my_new_model = Sequential()\n",
    "my_new_model.add(ResNet50(include_top=False, pooling='avg', weights=resnet_weights_path))\n",
    "my_new_model.add(Dense(num_classes, activation='softmax'))\n",
    "\n",
    "# Indicate whether the first layer should be trained/changed or not.\n",
    "my_new_model.layers[0].trainable = False\n",
    "\n",
    "# Check your answer\n",
    "step_1.check()"
   ]
  },
  {
   "cell_type": "markdown",
   "id": "6aa2e6eb",
   "metadata": {},
   "source": [
    "# 2) Compile the Model\n",
    "\n",
    "You now compile the model with the following line.  Run this cell."
   ]
  },
  {
   "cell_type": "code",
   "execution_count": null,
   "id": "d0da1c64",
   "metadata": {},
   "outputs": [],
   "source": [
    "my_new_model.compile(optimizer='adam', \n",
    "                     loss='categorical_crossentropy', \n",
    "                     metrics=['accuracy'])"
   ]
  },
  {
   "cell_type": "markdown",
   "id": "d1a23405",
   "metadata": {},
   "source": [
    "That ran nearly instantaneously.  Deep learning models have a reputation for being computationally demanding.  Why did that run so quickly?\n",
    "\n",
    "After thinking about this, check your answer by uncommenting the cell below."
   ]
  },
  {
   "cell_type": "markdown",
   "id": "2a3c526b",
   "metadata": {},
   "source": [
    "# 3) Review the Compile Step\n",
    "You provided three arguments in the compile step.  \n",
    "- optimizer\n",
    "- loss\n",
    "- metrics\n",
    "\n",
    "Which arguments could affect the accuracy of the predictions that come out of the model?  After you have your answer, run the cell below to see the solution."
   ]
  },
  {
   "cell_type": "markdown",
   "id": "1230872f",
   "metadata": {},
   "source": [
    "# 4) Fit Model\n",
    "\n",
    "**Your training data is in the directory `../input/dogs-gone-sideways/images/train`. The validation data is in `../input/dogs-gone-sideways/images/val`**. Use that information when setting up `train_generator` and `validation_generator`.\n",
    "\n",
    "You have 220 images of training data and 217 of validation data.  For the training generator, we set a batch size of 10. Figure out the appropriate value of `steps_per_epoch` in your `fit_generator` call."
   ]
  },
  {
   "cell_type": "code",
   "execution_count": null,
   "id": "71f2ecf9",
   "metadata": {},
   "outputs": [],
   "source": [
    "from tensorflow.keras.applications.resnet50 import preprocess_input\n",
    "from tensorflow.keras.preprocessing.image import ImageDataGenerator\n",
    "\n",
    "image_size = 224\n",
    "data_generator = ImageDataGenerator(preprocess_input)\n",
    "\n",
    "train_generator = data_generator.flow_from_directory(\n",
    "                                        directory=\"../input/dogs-gone-sideways/images/train\",\n",
    "                                        target_size=(image_size, image_size),\n",
    "                                        batch_size=10,\n",
    "                                        class_mode='categorical')\n",
    "\n",
    "validation_generator = data_generator.flow_from_directory(\n",
    "                                        directory=\"../input/dogs-gone-sideways/images/val\",\n",
    "                                        target_size=(image_size, image_size),\n",
    "                                        class_mode='categorical')\n",
    "\n",
    "# fit_stats below saves some statistics describing how model fitting went\n",
    "# the key role of the following line is how it changes my_new_model by fitting to data\n",
    "fit_stats = my_new_model.fit_generator(train_generator,\n",
    "                                       steps_per_epoch=22,\n",
    "                                       validation_data=validation_generator,\n",
    "                                       validation_steps=1)\n",
    "\n"
   ]
  },
  {
   "cell_type": "markdown",
   "id": "912197e6",
   "metadata": {},
   "source": [
    "Any suggestions are most welcome!!"
   ]
  },
  {
   "cell_type": "code",
   "execution_count": null,
   "id": "e6397be3",
   "metadata": {},
   "outputs": [],
   "source": [
    "nan"
   ]
  }
 ],
 "metadata": {},
 "nbformat": 4,
 "nbformat_minor": 5
}
