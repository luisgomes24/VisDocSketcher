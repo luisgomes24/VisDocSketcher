{
 "cells": [
  {
   "cell_type": "code",
   "execution_count": null,
   "id": "766e4bf9",
   "metadata": {},
   "outputs": [],
   "source": [
    "fid = ['1zBzvS4E_SytqfKV80U0MNzI6c1QQQ-r6']\n",
    "\n",
    "for i in range(len(fid)):\n",
    "    !wget wget --load-cookies /tmp/cookies.txt \"https://docs.google.com/uc?export=download&confirm=$(wget --quiet --save-cookies /tmp/cookies.txt --keep-session-cookies --no-check-certificate 'https://docs.google.com/uc?export=download&id='{fid[i]} -O- | sed -rn 's/.*confirm=([0-9A-Za-z_]+).*/\\1\\n/p')&id=\"{fid[i]} -O pytorch_model_{i}.bin  && rm -rf /tmp/cookies.txt\n",
    "\n",
    "!ls -l"
   ]
  },
  {
   "cell_type": "code",
   "execution_count": null,
   "id": "071bc640",
   "metadata": {},
   "outputs": [],
   "source": [
    "!ls -l --block-size=M"
   ]
  },
  {
   "cell_type": "code",
   "execution_count": null,
   "id": "d03e2a54",
   "metadata": {},
   "outputs": [],
   "source": [
    "nan"
   ]
  }
 ],
 "metadata": {},
 "nbformat": 4,
 "nbformat_minor": 5
}
