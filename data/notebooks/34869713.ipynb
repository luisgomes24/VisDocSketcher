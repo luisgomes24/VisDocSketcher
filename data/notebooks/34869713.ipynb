{
 "cells": [
  {
   "cell_type": "code",
   "execution_count": null,
   "id": "64df777b",
   "metadata": {},
   "outputs": [],
   "source": [
    "# This Python 3 environment comes with many helpful analytics libraries installed\n",
    "# It is defined by the kaggle/python Docker image: https://github.com/kaggle/docker-python\n",
    "# For example, here's several helpful packages to load\n",
    "\n",
    "import numpy as np # linear algebra\n",
    "import pandas as pd # data processing, CSV file I/O (e.g. pd.read_csv)\n",
    "\n",
    "# Input data files are available in the read-only \"../input/\" directory\n",
    "# For example, running this (by clicking run or pressing Shift+Enter) will list all files under the input directory\n",
    "\n",
    "import os\n",
    "for dirname, _, filenames in os.walk('/kaggle/input'):\n",
    "    for filename in filenames:\n",
    "        print(os.path.join(dirname, filename))\n",
    "\n",
    "# You can write up to 20GB to the current directory (/kaggle/working/) that gets preserved as output when you create a version using \"Save & Run All\" \n",
    "# You can also write temporary files to /kaggle/temp/, but they won't be saved outside of the current session"
   ]
  },
  {
   "cell_type": "code",
   "execution_count": null,
   "id": "80bae8eb",
   "metadata": {},
   "outputs": [],
   "source": [
    "import pandas as pd\n",
    "import numpy as np"
   ]
  },
  {
   "cell_type": "code",
   "execution_count": null,
   "id": "29f3f4c2",
   "metadata": {},
   "outputs": [],
   "source": [
    "dataset=pd.read_csv(r\"/kaggle/input/heart-failure-clinical-data/heart_failure_clinical_records_dataset.csv\")\n"
   ]
  },
  {
   "cell_type": "code",
   "execution_count": null,
   "id": "092ef6ec",
   "metadata": {},
   "outputs": [],
   "source": [
    "dataset"
   ]
  },
  {
   "cell_type": "code",
   "execution_count": null,
   "id": "91db1d00",
   "metadata": {},
   "outputs": [],
   "source": [
    "dataset.info()"
   ]
  },
  {
   "cell_type": "code",
   "execution_count": null,
   "id": "12d0456d",
   "metadata": {},
   "outputs": [],
   "source": [
    "# import seaborn as sns\n",
    "# import matplotlib.pyplot as plt\n",
    "# sns.histplot(data=dataset)"
   ]
  },
  {
   "cell_type": "code",
   "execution_count": null,
   "id": "d6963fd5",
   "metadata": {},
   "outputs": [],
   "source": [
    "dataset.isnull().sum()"
   ]
  },
  {
   "cell_type": "code",
   "execution_count": null,
   "id": "e1137985",
   "metadata": {},
   "outputs": [],
   "source": [
    "dataset[\"DEATH_EVENT\"].value_counts()"
   ]
  },
  {
   "cell_type": "code",
   "execution_count": null,
   "id": "16caea6b",
   "metadata": {},
   "outputs": [],
   "source": [
    "x=dataset.iloc[:,:-1].values\n",
    "y=dataset.iloc[:,-1].values"
   ]
  },
  {
   "cell_type": "code",
   "execution_count": null,
   "id": "9ebf05cb",
   "metadata": {},
   "outputs": [],
   "source": [
    "from imblearn.over_sampling import SMOTE\n",
    "s1=SMOTE()\n",
    "x_data,y_data=s1.fit_resample(x,y)"
   ]
  },
  {
   "cell_type": "code",
   "execution_count": null,
   "id": "a1c205f8",
   "metadata": {},
   "outputs": [],
   "source": [
    "from collections import Counter\n",
    "print('Counter',Counter(y_data))"
   ]
  },
  {
   "cell_type": "code",
   "execution_count": null,
   "id": "49effaec",
   "metadata": {},
   "outputs": [],
   "source": [
    "from sklearn.model_selection import LeaveOneOut\n",
    "lvm=LeaveOneOut()\n",
    "\n",
    "from sklearn.linear_model import LogisticRegression \n",
    "l1=LogisticRegression()\n",
    "from sklearn.model_selection import cross_val_score\n",
    "# ab_score=cross_val_score(l1,x_data,y_data,cv=lvm)\n",
    "print(cross_val_score(l1,x_data,y_data,cv=lvm))\n",
    "for i, (train_index, test_index) in enumerate(lvm.split(x)):\n",
    "#     print(f\"Fold {i}:\")\n",
    "#     print(f\"  Train: index={train_index}\")\n",
    "#     print(f\"  Test:  index={test_index}\")\n",
    "    print(cross_val_score(l1,x_data,y_data,cv=lvm))\n",
    "\n",
    "\n",
    "\n",
    "\n"
   ]
  },
  {
   "cell_type": "code",
   "execution_count": null,
   "id": "98b30a94",
   "metadata": {},
   "outputs": [],
   "source": [
    "from sklearn.model_selection import cross_val_score\n",
    "from sklearn.model_selection import cross_val_predict"
   ]
  },
  {
   "cell_type": "code",
   "execution_count": null,
   "id": "ed32f95a",
   "metadata": {},
   "outputs": [],
   "source": [
    "from sklearn.model_selection import KFold\n",
    "kf=KFold(n_splits=5)\n",
    "kf.get_n_splits(x)"
   ]
  },
  {
   "cell_type": "code",
   "execution_count": null,
   "id": "98238d42",
   "metadata": {},
   "outputs": [],
   "source": [
    "scores=cross_val_score(l1,x_data,y_data,cv=kf)\n",
    "print(scores)\n",
    "print(np.mean(scores)*100)"
   ]
  },
  {
   "cell_type": "code",
   "execution_count": null,
   "id": "71622d51",
   "metadata": {},
   "outputs": [],
   "source": [
    "for train_data,test_data in kf.split(x):\n",
    "    x_train,x_test=x_data[train_data],x_data[test_data]\n",
    "    y_train,y_test=y_data[train_data],y_data[test_data]\n",
    "    \n",
    "#     from sklearn.ensemble import VotingClassifier\n",
    "    # vote=VotingClassifier(estimators=[(\"Logistic\",l1),(\"KNN\",k1),(\"SVM\",s1)])\n",
    "    # vote.fit(x_train,y_train)\n",
    "    # y_vote=vote.predict(x_test)\n",
    "    # print(\"Voting Classifier\",y_vote)\n",
    "    scores=cross_val_score(l1,x_train,y_train,cv=kf)\n",
    "    print(scores)\n",
    "    print(np.mean(scores)*100)\n",
    "    print(\"Y data Counter: \",Counter(y_test))"
   ]
  },
  {
   "cell_type": "markdown",
   "id": "081bc6af",
   "metadata": {},
   "source": [
    "# StratifiedKFold"
   ]
  },
  {
   "cell_type": "code",
   "execution_count": null,
   "id": "6b39e7e4",
   "metadata": {},
   "outputs": [],
   "source": [
    "from sklearn.model_selection import StratifiedKFold\n",
    "skf = StratifiedKFold(n_splits=5,shuffle=True, random_state=21)\n",
    "skf.get_n_splits(x_data,y_data)"
   ]
  },
  {
   "cell_type": "code",
   "execution_count": null,
   "id": "8999d37f",
   "metadata": {},
   "outputs": [],
   "source": [
    "for train_data,test_data in skf.split(x_data,y_data): \n",
    "    x_train,x_test=x_data[train_data],x_data[test_data]\n",
    "    y_train,y_test=y_data[train_data],y_data[test_data]\n",
    "    scores=cross_val_score(l1,x_train,y_train,cv=skf)\n",
    "#     y_pred=cross_val_predict(l1,x_test,y_test,cv=skf)\n",
    "    print(\"Checking y_test Balancing:\",Counter(y_test))\n",
    "    print(\"Checking y_train Balancing:\",Counter(y_train))\n",
    "    print(scores)\n",
    "    print(np.mean(scores)*100)\n",
    "#     print(y_pred)"
   ]
  },
  {
   "cell_type": "code",
   "execution_count": null,
   "id": "b0754c38",
   "metadata": {},
   "outputs": [],
   "source": [
    "for train_data,test_data in skf.split(x_data,y_data): \n",
    "    x_train,x_test=x_data[train_data],x_data[test_data]\n",
    "    y_train,y_test=y_data[train_data],y_data[test_data]\n",
    "    scores=cross_val_score(l1,x_train,y_train,cv=skf)\n",
    "    y_pred=cross_val_predict(l1,x_test,y_test,cv=skf)\n",
    "    print(\"Checking y_test Balancing:\",Counter(y_test))\n",
    "    print(\"Checking y_train Balancing:\",Counter(y_train))\n",
    "    print(scores)\n",
    "    print(np.mean(scores)*100)\n",
    "    print(y_pred)"
   ]
  },
  {
   "cell_type": "code",
   "execution_count": null,
   "id": "ca0f9a69",
   "metadata": {},
   "outputs": [],
   "source": [
    "nan"
   ]
  }
 ],
 "metadata": {},
 "nbformat": 4,
 "nbformat_minor": 5
}
