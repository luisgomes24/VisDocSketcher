{
 "cells": [
  {
   "cell_type": "code",
   "execution_count": null,
   "id": "b2b886ef",
   "metadata": {},
   "outputs": [],
   "source": [
    "# This Python 3 environment comes with many helpful analytics libraries installed\n",
    "# It is defined by the kaggle/python docker image: https://github.com/kaggle/docker-python\n",
    "# For example, here's several helpful packages to load in \n",
    "\n",
    "import numpy as np # linear algebra\n",
    "import pandas as pd # data processing, CSV file I/O (e.g. pd.read_csv)\n",
    "\n",
    "# Input data files are available in the \"../input/\" directory.\n",
    "# For example, running this (by clicking run or pressing Shift+Enter) will list all files under the input directory\n",
    "\n",
    "import os\n",
    "for dirname, _, filenames in os.walk('/kaggle/input'):\n",
    "    for filename in filenames:\n",
    "        print(os.path.join(dirname, filename))\n",
    "\n",
    "# Any results you write to the current directory are saved as output."
   ]
  },
  {
   "cell_type": "code",
   "execution_count": null,
   "id": "c97acae8",
   "metadata": {},
   "outputs": [],
   "source": [
    "df = pd.read_excel(\"/kaggle/input/exl-task/train_data_modified21_02.xlsx\")\n",
    "df.head()"
   ]
  },
  {
   "cell_type": "code",
   "execution_count": null,
   "id": "41c56e8a",
   "metadata": {},
   "outputs": [],
   "source": [
    "labels = df.self_service_platform\n",
    "labels.head()"
   ]
  },
  {
   "cell_type": "code",
   "execution_count": null,
   "id": "bd72622e",
   "metadata": {},
   "outputs": [],
   "source": [
    "df_null = df.isnull()"
   ]
  },
  {
   "cell_type": "code",
   "execution_count": null,
   "id": "561b8a5b",
   "metadata": {},
   "outputs": [],
   "source": [
    "df_null.sum()"
   ]
  },
  {
   "cell_type": "code",
   "execution_count": null,
   "id": "44c2bacc",
   "metadata": {},
   "outputs": [],
   "source": [
    "df_var24 = df.var24.copy()"
   ]
  },
  {
   "cell_type": "code",
   "execution_count": null,
   "id": "051f6aa6",
   "metadata": {},
   "outputs": [],
   "source": [
    "df.var24 = df.var24.fillna(value = df.var24.mean())"
   ]
  },
  {
   "cell_type": "code",
   "execution_count": null,
   "id": "accc597d",
   "metadata": {},
   "outputs": [],
   "source": [
    "df.self_service_platform.value_counts()"
   ]
  },
  {
   "cell_type": "code",
   "execution_count": null,
   "id": "57f9a537",
   "metadata": {},
   "outputs": [],
   "source": [
    "df.var37 = df.var37.fillna(value = 0)"
   ]
  },
  {
   "cell_type": "markdown",
   "id": "a87ab54d",
   "metadata": {},
   "source": [
    "nan"
   ]
  },
  {
   "cell_type": "code",
   "execution_count": null,
   "id": "9a610c05",
   "metadata": {},
   "outputs": [],
   "source": [
    "df_var38 = df.var38\n",
    "df = df.drop(\"var38\", axis=1)"
   ]
  },
  {
   "cell_type": "code",
   "execution_count": null,
   "id": "10e2206b",
   "metadata": {},
   "outputs": [],
   "source": [
    "dfl = df.self_service_platform\n",
    "dfl.head()\n",
    "dfc = df.iloc[[1, 2]].values\n",
    "dfc[0]\n",
    "t = torch.ones([200, 2])\n",
    "t[[1, 2]]"
   ]
  },
  {
   "cell_type": "code",
   "execution_count": null,
   "id": "18163258",
   "metadata": {},
   "outputs": [],
   "source": [
    "df.var39 = df.var39.fillna(value = 100)"
   ]
  },
  {
   "cell_type": "code",
   "execution_count": null,
   "id": "400a2e52",
   "metadata": {},
   "outputs": [],
   "source": [
    "df.columns.shape\n",
    "# df = df.drop(['Unnamed: 0', 'cust_id'], axis=1)\n"
   ]
  },
  {
   "cell_type": "code",
   "execution_count": null,
   "id": "057890c5",
   "metadata": {},
   "outputs": [],
   "source": [
    "df.to_excel(\"final_train_data.xlsx\")"
   ]
  },
  {
   "cell_type": "code",
   "execution_count": null,
   "id": "96ab17eb",
   "metadata": {},
   "outputs": [],
   "source": [
    "print(df.iloc[0, 35])\n",
    "# print(df.loc[0])"
   ]
  },
  {
   "cell_type": "code",
   "execution_count": null,
   "id": "bdf7785f",
   "metadata": {},
   "outputs": [],
   "source": [
    "import torch\n",
    "from torch.utils.data import Dataset, DataLoader\n",
    "from torchvision import transforms, utils"
   ]
  },
  {
   "cell_type": "code",
   "execution_count": null,
   "id": "ccd35534",
   "metadata": {},
   "outputs": [],
   "source": [
    "class EXLdataset(Dataset):\n",
    "    \n",
    "    def __init__(self, dataframe = None, train = True):\n",
    "        self.df = dataframe\n",
    "        self.train = train\n",
    "        df_labels = self.df.self_service_platform\n",
    "        self.df = self.df.drop(\"self_service_platform\", axis=1)\n",
    "        self.df = self.df.apply(lambda x: (x-x.mean())/(x.max()+0.001), axis=0)\n",
    "        label_tensor = torch.zeros([len(df_labels), 4], dtype=torch.int32)\n",
    "        for i, a in enumerate(df_labels):\n",
    "            if a == \"Desktop\":\n",
    "                label_tensor[i][0] = 1\n",
    "            elif a == \"Mobile App\":\n",
    "                label_tensor[i][1] = 1\n",
    "            elif a == \"Mobile Web\":\n",
    "                label_tensor[i][2] = 1\n",
    "            else:\n",
    "                label_tensor[i][3] = 1\n",
    "                \n",
    "        self.labels = label_tensor\n",
    "        self.df_labels = df_labels\n",
    "        \n",
    "    def __len__(self):\n",
    "        return len(self.df)\n",
    "    \n",
    "    def __getitem__(self, idx):\n",
    "        if torch.is_tensor(idx):\n",
    "            idx = idx.tolist()\n",
    "            \n",
    "        data = torch.tensor(self.df.iloc[idx].values)\n",
    "        label = self.labels[idx]\n",
    "        \n",
    "        return {\"data\":data, \"label\":label, \"actual\": self.df_labels.iloc[idx]}    \n",
    "        \n",
    "        \n",
    "        "
   ]
  },
  {
   "cell_type": "code",
   "execution_count": null,
   "id": "7d6456fe",
   "metadata": {},
   "outputs": [],
   "source": [
    "print(df.columns)\n",
    "# dfn = df.drop(\"self_service_platform\", axis=1)\n",
    "print(dfn.columns)\n",
    "\n",
    "dfn = df.sample(frac=1)\n",
    "df_train = dfn.iloc[[a for a in range(250000)]]\n",
    "df_val = dfn.iloc[[a for a in range(250000, 300000)]]\n",
    "my_data_train = EXLdataset(dataframe = df_train, train = True)\n",
    "my_data_val = EXLdataset(dataframe = df_val, train = True)\n",
    "\n",
    "# for i in range(len(my_data)):\n",
    "#     sample = my_data[i]\n",
    "#     print(sample[\"data\"].shape, sample[\"label\"].shape)\n",
    "#     print(sample[\"data\"])\n",
    "#     if i>1:\n",
    "#         break"
   ]
  },
  {
   "cell_type": "code",
   "execution_count": null,
   "id": "beaeb420",
   "metadata": {},
   "outputs": [],
   "source": [
    "import torch.nn as nn\n",
    "import torch.nn.functional as F\n",
    "\n",
    "\n",
    "class Net(nn.Module):\n",
    "\n",
    "    def __init__(self):\n",
    "        super(Net, self).__init__()\n",
    "        self.fc1 = nn.Linear(37, 2048) \n",
    "        self.fc2 = nn.Linear(2048, 512)\n",
    "        self.fc3 = nn.Linear(512, 128)\n",
    "        self.fc4 = nn.Linear(128, 64)\n",
    "        self.fc5 = nn.Linear(64, 32)\n",
    "        self.fc6 = nn.Linear(32, 16)\n",
    "        self.fc7 = nn.Linear(16, 8)\n",
    "        self.fc8 = nn.Linear(8, 4)\n",
    "\n",
    "    def forward(self, x):\n",
    "        x = F.leaky_relu(self.fc1(x))\n",
    "        x = F.leaky_relu(self.fc2(x))\n",
    "        x = F.leaky_relu(self.fc3(x))\n",
    "        x = F.leaky_relu(self.fc4(x))\n",
    "        x = F.leaky_relu(self.fc5(x))\n",
    "        x = F.leaky_relu(self.fc6(x))\n",
    "        x = F.leaky_relu(self.fc7(x))\n",
    "        x = self.fc8(x)\n",
    "        return x\n",
    "\n",
    "    def num_flat_features(self, x):\n",
    "        size = x.size()[1:]  # all dimensions except the batch dimension\n",
    "        num_features = 1\n",
    "        for s in size:\n",
    "            num_features *= s\n",
    "        return num_features\n",
    "\n",
    "\n",
    "net = Net()\n",
    "print(net)"
   ]
  },
  {
   "cell_type": "code",
   "execution_count": null,
   "id": "68b531de",
   "metadata": {},
   "outputs": [],
   "source": [
    "dataloader_train = DataLoader(my_data_train, batch_size = 256, shuffle = True, num_workers = 4)\n",
    "dataloader_val = DataLoader(my_data_val, batch_size = 256, shuffle = False, num_workers = 4)"
   ]
  },
  {
   "cell_type": "code",
   "execution_count": null,
   "id": "afe4ca64",
   "metadata": {},
   "outputs": [],
   "source": [
    "import torch.optim as optim\n",
    "criterion = nn.BCEWithLogitsLoss()\n",
    "optimizer = optim.SGD(net.parameters(), lr = 0.001, weight_decay = 0.001, momentum=0.9)"
   ]
  },
  {
   "cell_type": "code",
   "execution_count": null,
   "id": "7c521a71",
   "metadata": {},
   "outputs": [],
   "source": [
    "running_loss = 0.0\n",
    "train_loss = []\n",
    "val_loss = []\n",
    "for epoch in range(200):\n",
    "    running_loss = 0.0\n",
    "    for i, sample in enumerate(dataloader_train, 0):\n",
    "        inputs = sample[\"data\"]\n",
    "        labels = sample[\"label\"]\n",
    "        df_labels = sample[\"actual\"]\n",
    "        optimizer.zero_grad()\n",
    "        outputs = net(inputs.float())\n",
    "        labels = labels.type_as(outputs)\n",
    "        loss = criterion(outputs, labels)\n",
    "        loss.backward()\n",
    "        optimizer.step()\n",
    "#         print(outputs.shape)\n",
    "        new = torch.zeros(outputs.shape)\n",
    "        for a in range(outputs.shape[0]):\n",
    "            new[a][outputs[a]==outputs[a].max()] =1\n",
    "            \n",
    "        acc=0.0\n",
    "        for a in range(outputs.shape[0]):\n",
    "            if torch.equal(new[a], labels[a]):\n",
    "                acc = acc+1\n",
    "            \n",
    "        acc = acc/256\n",
    "        \n",
    "#         if i<3:\n",
    "#             print(labels, df_labels)\n",
    "        \n",
    "        running_loss += loss.item()\n",
    "        \n",
    "        if i%100 == 0:\n",
    "            print(\"epoch \", epoch, \" i \" , i, \" loss \", loss.item(), \" Accuracy \", acc)\n",
    "        if i%10==1:\n",
    "            train_loss.append(loss.item())\n",
    "            \n",
    "    running_loss = 0.0    \n",
    "    for i, sample in enumerate(dataloader_val, 0):\n",
    "        inputs = sample[\"data\"]\n",
    "        labels = sample[\"label\"]\n",
    "#         optimizer.zero_grad()\n",
    "        outputs = net(inputs.float())\n",
    "        labels = labels.type_as(outputs)\n",
    "        loss = criterion(outputs, labels)\n",
    "        \n",
    "        running_loss += loss.item()\n",
    "        \n",
    "        new = torch.zeros(outputs.shape)\n",
    "        for a in range(outputs.shape[0]):\n",
    "            new[a][outputs[a]==outputs[a].max()] =1\n",
    "            \n",
    "        acc=0.0\n",
    "        for a in range(outputs.shape[0]):\n",
    "            if torch.equal(new[a], labels[a]):\n",
    "                acc = acc+1\n",
    "            \n",
    "        acc = acc/256\n",
    "        \n",
    "#         if i%100 == 0:\n",
    "#             print(\"epoch \", epoch, \" i \" , i, \" loss \", loss.item())\n",
    "        if i%5==1:\n",
    "            print(\"val_loss \", loss.item(), \" Accuracy \", acc)\n",
    "            val_loss.append(loss.item())\n",
    "#             val_loss.append(running_loss/i)\n",
    "        "
   ]
  },
  {
   "cell_type": "code",
   "execution_count": null,
   "id": "cbb48899",
   "metadata": {},
   "outputs": [],
   "source": [
    "import matplotlib.pyplot as plt\n",
    "plt.plot(train_loss)\n",
    "plt.plot(val_loss)"
   ]
  },
  {
   "cell_type": "code",
   "execution_count": null,
   "id": "c20148e1",
   "metadata": {},
   "outputs": [],
   "source": [
    "plt.plot(val_loss)"
   ]
  },
  {
   "cell_type": "code",
   "execution_count": null,
   "id": "7b64bef0",
   "metadata": {},
   "outputs": [],
   "source": [
    "t = torch.randn([32, 4], dtype = torch.float64)"
   ]
  },
  {
   "cell_type": "code",
   "execution_count": null,
   "id": "99f22f41",
   "metadata": {},
   "outputs": [],
   "source": [
    "new = torch.zeros(t.shape)"
   ]
  },
  {
   "cell_type": "code",
   "execution_count": null,
   "id": "557bd1d6",
   "metadata": {},
   "outputs": [],
   "source": [
    "for i in range(32):\n",
    "    new[i][t[i]==t[i].max()] =1"
   ]
  },
  {
   "cell_type": "code",
   "execution_count": null,
   "id": "82332241",
   "metadata": {},
   "outputs": [],
   "source": [
    "new.shape[0]"
   ]
  },
  {
   "cell_type": "code",
   "execution_count": null,
   "id": "a518bb41",
   "metadata": {},
   "outputs": [],
   "source": [
    "t = new"
   ]
  },
  {
   "cell_type": "code",
   "execution_count": null,
   "id": "886c3cef",
   "metadata": {},
   "outputs": [],
   "source": [
    "new[0][3]=1"
   ]
  },
  {
   "cell_type": "code",
   "execution_count": null,
   "id": "61a0e355",
   "metadata": {},
   "outputs": [],
   "source": [
    "t[0]\n"
   ]
  },
  {
   "cell_type": "code",
   "execution_count": null,
   "id": "172e49a4",
   "metadata": {},
   "outputs": [],
   "source": [
    "for a in range(32):\n",
    "    print(torch.equal(t[a], torch.tensor([1, 0, 0, 0]).float()))"
   ]
  },
  {
   "cell_type": "code",
   "execution_count": null,
   "id": "34a02c47",
   "metadata": {},
   "outputs": [],
   "source": [
    "torch.save(net.state_dict(), \"/kaggle/working/weights2\")"
   ]
  },
  {
   "cell_type": "code",
   "execution_count": null,
   "id": "94cb81a1",
   "metadata": {},
   "outputs": [],
   "source": [
    "nan"
   ]
  }
 ],
 "metadata": {},
 "nbformat": 4,
 "nbformat_minor": 5
}
