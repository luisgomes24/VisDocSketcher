{
 "cells": [
  {
   "cell_type": "code",
   "execution_count": null,
   "id": "c185b68c",
   "metadata": {},
   "outputs": [],
   "source": [
    "# This Python 3 environment comes with many helpful analytics libraries installed\n",
    "# It is defined by the kaggle/python Docker image: https://github.com/kaggle/docker-python\n",
    "# For example, here's several helpful packages to load\n",
    "\n",
    "import numpy as np # linear algebra\n",
    "import pandas as pd # data processing, CSV file I/O (e.g. pd.read_csv)\n",
    "\n",
    "# Input data files are available in the read-only \"../input/\" directory\n",
    "# For example, running this (by clicking run or pressing Shift+Enter) will list all files under the input directory\n",
    "\n",
    "import os\n",
    "for dirname, _, filenames in os.walk('/kaggle/input'):\n",
    "    for filename in filenames:\n",
    "        print(os.path.join(dirname, filename))\n",
    "\n",
    "# You can write up to 20GB to the current directory (/kaggle/working/) that gets preserved as output when you create a version using \"Save & Run All\" \n",
    "# You can also write temporary files to /kaggle/temp/, but they won't be saved outside of the current session"
   ]
  },
  {
   "cell_type": "code",
   "execution_count": null,
   "id": "e009d8cb",
   "metadata": {},
   "outputs": [],
   "source": [
    "df = pd.read_csv('../input/alertnewplacement18/eegout777.csv')"
   ]
  },
  {
   "cell_type": "code",
   "execution_count": null,
   "id": "e4f254f2",
   "metadata": {},
   "outputs": [],
   "source": [
    "df.head()"
   ]
  },
  {
   "cell_type": "markdown",
   "id": "079d0f4a",
   "metadata": {},
   "source": [
    "The recording lasts about 1:40 minutes. The data is being recording at 100 hz (one observation every 10 miliseconds)"
   ]
  },
  {
   "cell_type": "code",
   "execution_count": null,
   "id": "04a4bed2",
   "metadata": {},
   "outputs": [],
   "source": [
    "df = df.drop('Unnamed: 2', axis=1)"
   ]
  },
  {
   "cell_type": "code",
   "execution_count": null,
   "id": "e9acfb31",
   "metadata": {},
   "outputs": [],
   "source": [
    "df.head()"
   ]
  },
  {
   "cell_type": "code",
   "execution_count": null,
   "id": "0bcc2352",
   "metadata": {},
   "outputs": [],
   "source": [
    "list(df.columns)"
   ]
  },
  {
   "cell_type": "code",
   "execution_count": null,
   "id": "1e949a65",
   "metadata": {},
   "outputs": [],
   "source": [
    "df.columns = ['volts', 'timestamp']\n",
    "df.head()"
   ]
  },
  {
   "cell_type": "code",
   "execution_count": null,
   "id": "24cb78c5",
   "metadata": {},
   "outputs": [],
   "source": [
    "print(df.iloc[1000])"
   ]
  },
  {
   "cell_type": "markdown",
   "id": "c7c01c07",
   "metadata": {},
   "source": [
    "This dataset uses different recording methods. At first, there are no probes attached, so any variation is random environmental changes. Then, one probe is attached. Later, two probes are attached. This is the part of the dataset I'm interested, though afterwards, there are still potentially points of interest.\n",
    "\n",
    "I'm using this notebook to determine whether one probe or two probes is better. I'll have to separate the data visually, because there are large voltage spikes when a probe is added. "
   ]
  },
  {
   "cell_type": "code",
   "execution_count": null,
   "id": "9380111d",
   "metadata": {},
   "outputs": [],
   "source": [
    "x = df.isnull().sum\n",
    "print(x)"
   ]
  },
  {
   "cell_type": "code",
   "execution_count": null,
   "id": "fe7f4b64",
   "metadata": {},
   "outputs": [],
   "source": [
    "df['time'] = df.reset_index().index "
   ]
  },
  {
   "cell_type": "code",
   "execution_count": null,
   "id": "4d70aa41",
   "metadata": {},
   "outputs": [],
   "source": [
    "df"
   ]
  },
  {
   "cell_type": "code",
   "execution_count": null,
   "id": "7c8801bc",
   "metadata": {},
   "outputs": [],
   "source": [
    "gp = df.plot(x='time', y='volts', figsize=(100, 4), style='-')"
   ]
  },
  {
   "cell_type": "markdown",
   "id": "15d8b84a",
   "metadata": {},
   "source": [
    "This data looks much, much better than any previous recording. Again, the first portion is with no probes attached, the second is with one probe attached, the third is with two probes attached, the fourth is one probe attached, and the fifth portion is with two probes attached again. \n",
    "\n",
    "You can separate the sections by the spikes. \n",
    "\n",
    "I saved this image and was able to carefully scroll over it. With one probe attached is the best data. This is what we should plan to use from now on for recordings. That was all I wanted to do in this notebook, but I'll look at some more specific portions of the one probe recordings to see how clear background rhythms are."
   ]
  },
  {
   "cell_type": "code",
   "execution_count": null,
   "id": "169ffebc",
   "metadata": {},
   "outputs": [],
   "source": [
    "import matplotlib.pyplot as plt"
   ]
  },
  {
   "cell_type": "code",
   "execution_count": null,
   "id": "6678b4e3",
   "metadata": {},
   "outputs": [],
   "source": [
    "x = df.time[1000:1100]\n",
    "y = df.volts[1000:1100]\n",
    "\n",
    "plt.figure(figsize=(25, 4))\n",
    "\n",
    "print(plt.plot(x, y))"
   ]
  },
  {
   "cell_type": "markdown",
   "id": "db5789c8",
   "metadata": {},
   "source": [
    "The only noticeable thing is that there's not enough granularity to see proper fluctuations in shorter intervals. I think we would need to double the sample rate. "
   ]
  }
 ],
 "metadata": {},
 "nbformat": 4,
 "nbformat_minor": 5
}
