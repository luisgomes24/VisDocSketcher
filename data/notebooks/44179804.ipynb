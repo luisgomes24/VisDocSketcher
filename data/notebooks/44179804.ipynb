{
 "cells": [
  {
   "cell_type": "markdown",
   "id": "7c7c5aae",
   "metadata": {},
   "source": [
    "Hi, I'm Marco, a university student who would like to try to improve his knowledge in the world of Machine Learning. I will try to use these notebooks to explain the concepts I am studying so that I can pass them on to others who may find them useful. This is the turn of the **Exploratory Data Analysis**."
   ]
  },
  {
   "cell_type": "markdown",
   "id": "7c3f9a28",
   "metadata": {},
   "source": [
    "![](https://www.allbusiness.com/media-library/business-analytics.jpg?id=32092749)"
   ]
  },
  {
   "cell_type": "markdown",
   "id": "fd789f29",
   "metadata": {},
   "source": [
    "# What's Exploratory Data Analysis?"
   ]
  },
  {
   "cell_type": "markdown",
   "id": "b5b9f086",
   "metadata": {},
   "source": [
    "Exploratory Data Analysis (EDA) **is an approach of analyzing data sets to summarize their main characteristics**, often **using statistical graphics** and other data visualization methods. A statistical model can be used or not, but primarily EDA is for seeing what the data can tell us beyond the formal modeling and thereby contrasts traditional hypothesis testing. Exploratory data analysis **has been promoted by John Tukey since 1970 to encourage statisticians to explore the data, and possibly formulate hypotheses that could lead to new data collection and experiments**."
   ]
  },
  {
   "cell_type": "markdown",
   "id": "38cbd893",
   "metadata": {},
   "source": [
    "![](https://www.amphilsoc.org/sites/default/files/2019-07/03.04.98.00.Photograph%20of%20John%20Tukey%2C%20Elizabeth%20Menzies%2C%20c.%201960_0.jpg)"
   ]
  },
  {
   "cell_type": "markdown",
   "id": "64deb6b6",
   "metadata": {},
   "source": [
    "# 1) Import Libraries"
   ]
  },
  {
   "cell_type": "markdown",
   "id": "8e16ba90",
   "metadata": {},
   "source": [
    "Let's go! Since we are carrying out the analysis on code, in this case Python, **the first step to do is import the libraries we need**."
   ]
  },
  {
   "cell_type": "markdown",
   "id": "94b75ba0",
   "metadata": {},
   "source": [
    "> * **Pandas** provides high-performance, easy-to-use data structures and data analysis tools for the Python programming language.\n",
    "> * **Numpy** provides a high-performance for multidimensional arrays and matrices.\n",
    "> * **Matplotlib** is a library for data visualization. \n",
    "> * **Seaborn** is a Python library for making statistical graphics. It builds on top of matplotlib and provides a high-level interface for drawing attractive and informative statistical graphics.\n"
   ]
  },
  {
   "cell_type": "code",
   "execution_count": null,
   "id": "44404acc",
   "metadata": {},
   "outputs": [],
   "source": [
    "import pandas as pd \n",
    "import numpy as np \n",
    "import matplotlib.pyplot as plt\n",
    "import seaborn as sns\n",
    "import plotly.express as px"
   ]
  },
  {
   "cell_type": "markdown",
   "id": "d56cee11",
   "metadata": {},
   "source": [
    "# 2) Import data and have a first look"
   ]
  },
  {
   "cell_type": "markdown",
   "id": "eea37e5c",
   "metadata": {},
   "source": [
    "Obviously, if you want to work on the data, **the second thing to do is to import the dataset and take a first look at the data**."
   ]
  },
  {
   "cell_type": "code",
   "execution_count": null,
   "id": "3f3f9741",
   "metadata": {},
   "outputs": [],
   "source": [
    "df = pd.read_csv(\"/kaggle/input/housesalesprediction/kc_house_data.csv\")\n",
    "df.head()"
   ]
  },
  {
   "cell_type": "markdown",
   "id": "4e185ae6",
   "metadata": {},
   "source": [
    "Now that we have imported our data, **let's try to understand which features (columns) the dataset is made up of, what their meaning is and what types of data they are.** To get the feature names of a pandas dataframe, you can use the `columns` attribute of the dataframe. The `dtypes` attribute of a DataFrame object returns the data type of each column in the DataFrame. "
   ]
  },
  {
   "cell_type": "markdown",
   "id": "ac124bce",
   "metadata": {},
   "source": [
    "* **'id'**: Dataframe index [int64]\n",
    "* **'date'**: Date of the home sale [object]\n",
    "* **'price'**: Price of the house [float64]\n",
    "* **'bedrooms'**: Number of bedrooms [int64]\n",
    "* **'bathrooms'**: Number of bathrooms [float64]\n",
    "* **'sqft_living'**: Square feet of the structure [int64]\n",
    "* **'sqft_lot'**: Square feet of the house [int64]\n",
    "* **'floors'**: Number of floors [float64]\n",
    "* **'waterfront'**: binary variable indicating whether house is sited by the waterfront [int64]\n",
    "* **'view'**: Number of views of the house [int64]\n",
    "* **'condition'**: Number of condition of the house [int64]\n",
    "* **'grade'**: Number of grade of the house [int64]\n",
    "* **'sqft_above'** [int64]\n",
    "* **'sqft_basement'**: Square feet of the basement [int64]\n",
    "* **'yr_built'**: Year of construction [int64]\n",
    "* **'yr_renovated'**: Year of renovation [int64]\n",
    "* **'zipcode'**: Zipcode [int64]\n",
    "* **'lat'**: Latitude coordinates [float64]\n",
    "* **'long'**: Longitude coordinates [float64]\n",
    "* **'sqft_living15'**: average living space of 15 neighbours[int64]\n",
    "* **'sqft_lot15'**: average lot space of 15 neighbours[int64]"
   ]
  },
  {
   "cell_type": "markdown",
   "id": "59a997e0",
   "metadata": {},
   "source": [
    "Now that we have had a first look at the data and know what it represents let's start working on the data to clean it before extracting the information."
   ]
  },
  {
   "cell_type": "markdown",
   "id": "4a9cffea",
   "metadata": {},
   "source": [
    "# 3) Cleaning and visualizing data"
   ]
  },
  {
   "cell_type": "markdown",
   "id": "049a4b78",
   "metadata": {},
   "source": [
    "First, let's start by **checking** if our table is complete or if there is **missing data**. To calculate the sum of missing values in a pandas DataFrame, you can use the `isna()` method to check for missing values in the DataFrame, and then use the `sum()` method to count the number of missing values. "
   ]
  },
  {
   "cell_type": "code",
   "execution_count": null,
   "id": "6686c9c3",
   "metadata": {},
   "outputs": [],
   "source": [
    "df.isna().sum()"
   ]
  },
  {
   "cell_type": "markdown",
   "id": "b13fde61",
   "metadata": {},
   "source": [
    "As you can see, the dataframe contains all the data that we can work with directly. In the event that there were missing data we would have had to use some technique to fill those \"holes\" with significant values based on the other data available or we could have eliminated the rows or columns containing the missing data even if in this case we would have lost other data that could have been useful to us."
   ]
  },
  {
   "cell_type": "markdown",
   "id": "83e5913c",
   "metadata": {},
   "source": [
    "Now that we are sure that all the data is there, let's try to understand if we need to change some type of data that does not have much meaning into a more significant type, such as, for example, it may be strange to see that the number of bathrooms is in decimal. How can the bathroom number be not an integer? Well, going to read the discussions regarding the dataset I found this excellent answer by [@harlfoxem](https://www.kaggle.com/datasets/harlfoxem/housesalesprediction/discussion/24804), so I would say that we can leave the number of bathrooms like this even if it is not very common"
   ]
  },
  {
   "cell_type": "markdown",
   "id": "43e37cbe",
   "metadata": {},
   "source": [
    "Finally, the last feature we need to fix is the date which appears out of order and ends with \"T000000\" which we don't need. So, using the `slice()` function that allows you to obtain substrings, I create the year, month and day columns so I can analyze them later."
   ]
  },
  {
   "cell_type": "code",
   "execution_count": null,
   "id": "f332d602",
   "metadata": {},
   "outputs": [],
   "source": [
    "df['year'] = df['date'].str.slice(0, 4) \n",
    "df['month'] = df['date'].str.slice(4, 6) \n",
    "df['day'] = df['date'].str.slice(6, 8) \n",
    "df = df.drop('date', axis=1)\n",
    "df = df.drop('id', axis=1)\n",
    "df.head(3)"
   ]
  },
  {
   "cell_type": "markdown",
   "id": "203b5779",
   "metadata": {},
   "source": [
    "**Let's look at the features of the dataframe individually**"
   ]
  },
  {
   "cell_type": "markdown",
   "id": "68619d1f",
   "metadata": {},
   "source": [
    "> Number of bedrooms"
   ]
  },
  {
   "cell_type": "code",
   "execution_count": null,
   "id": "71085dce",
   "metadata": {},
   "outputs": [],
   "source": [
    "fig1 = px.histogram(df, x=\"bedrooms\",\n",
    "                   title='Number of bedrooms',\n",
    "                   labels={'bedrooms':'N° of bedrooms'})\n",
    "fig1.show()\n",
    "df[\"bedrooms\"].describe()"
   ]
  },
  {
   "cell_type": "markdown",
   "id": "772b0a20",
   "metadata": {},
   "source": [
    "As we can observe from the statistics, the fact that the data is mainly arranged on the left side but the graph also continues on the right where there seems to be no data is given by the fact that **there is a house that has a record of 33 bedrooms**, truly incredible!!!"
   ]
  },
  {
   "cell_type": "code",
   "execution_count": null,
   "id": "28ae8d37",
   "metadata": {},
   "outputs": [],
   "source": [
    "df.loc[df['bedrooms'] == 33]"
   ]
  },
  {
   "cell_type": "markdown",
   "id": "30d2fdab",
   "metadata": {},
   "source": [
    "> Number of bathrooms"
   ]
  },
  {
   "cell_type": "code",
   "execution_count": null,
   "id": "e652cdf6",
   "metadata": {},
   "outputs": [],
   "source": [
    "fig2 = px.histogram(df, x=\"bathrooms\",\n",
    "                   title='Number of bathrooms',\n",
    "                   labels={'bathrooms':'N° of bathrooms'})\n",
    "fig2.show()\n",
    "df[\"bathrooms\"].describe()"
   ]
  },
  {
   "cell_type": "markdown",
   "id": "8b5a6571",
   "metadata": {},
   "source": [
    "> Number of squared feet of living"
   ]
  },
  {
   "cell_type": "code",
   "execution_count": null,
   "id": "5ade4adc",
   "metadata": {},
   "outputs": [],
   "source": [
    "fig3 = px.histogram(df, x=\"sqft_living\",\n",
    "                   title='Number of squared feet of living',\n",
    "                   labels={'sqft_living':'N° of squared feet of living'})\n",
    "fig3.show()\n",
    "df[\"sqft_living\"].describe()"
   ]
  }
 ],
 "metadata": {},
 "nbformat": 4,
 "nbformat_minor": 5
}
