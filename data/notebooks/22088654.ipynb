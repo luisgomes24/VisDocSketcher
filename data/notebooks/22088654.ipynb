{
 "cells": [
  {
   "cell_type": "markdown",
   "id": "fbb86379",
   "metadata": {},
   "source": [
    "### The Santa 2021 competition is here!\n",
    "\n",
    "This year in the Santa competition, we are dealing with some form of a modified Superpermutation problem.\n",
    "In the original minimal superpermutations problem, the goal is to find the shortest string containing all possible permutations of n symbols (n = 7 in this case). This competition introduces some changes:\n",
    "1. We need to generate 3 strings that cover all permutations together (instead of 1)\n",
    "2. Some subset of permutations (starting from 🎅🤶) should be covered by each of these 3 strings\n",
    "3. There is a special wildcard that can replace any symbol (🌟) and allows to optimize the solution further"
   ]
  },
  {
   "cell_type": "markdown",
   "id": "57e39bc0",
   "metadata": {},
   "source": [
    "In this notebook, I will share my initial thoughts about a possible approach. It will cover the following steps:\n",
    "1. Take some good solutions for the original minimal superpermutation problem for n = 7.\n",
    "2. Split it into 3 ~equal parts\n",
    "3. Concatenate additional permutations (starting from 🎅🤶) to each string\n",
    "4. Add (🌟) to further optimize the length of strings\n",
    "5. Apply random search (repeating steps 1-4) to find more optimal splits\n",
    "+ some tricks for better optimization\n",
    "\n",
    "None of these steps are optimal. I am pretty sure that it can be optimized further, and this is only the basic baseline solution."
   ]
  },
  {
   "cell_type": "markdown",
   "id": "713c27b2",
   "metadata": {},
   "source": [
    "# Basic straightforward solution"
   ]
  },
  {
   "cell_type": "markdown",
   "id": "0ad0a821",
   "metadata": {},
   "source": [
    "[Wikipedia](https://en.wikipedia.org/wiki/Superpermutation) says that the optimal solution for n = 7 is not known for sure, but the shortest found so far has a length of 5906.\n",
    "\n",
    "You can find this solution at https://www.gregegan.net/ [here](https://www.gregegan.net/SCIENCE/Superpermutations/7_5906_nsk666646664466646666_2SYMM_FS.txt)\n",
    "\n",
    "Let's use it and split it into 3 approximately equal strings."
   ]
  },
  {
   "cell_type": "code",
   "execution_count": null,
   "id": "71c06b92",
   "metadata": {},
   "outputs": [],
   "source": [
    "solution = \"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\"\n",
    "len(solution)"
   ]
  },
  {
   "cell_type": "code",
   "execution_count": null,
   "id": "7796a9a9",
   "metadata": {},
   "outputs": [],
   "source": [
    "split_id = [len(solution) // 3, len(solution)*2//3]"
   ]
  },
  {
   "cell_type": "code",
   "execution_count": null,
   "id": "5fe7090a",
   "metadata": {},
   "outputs": [],
   "source": [
    "t1, t2 = split_id\n",
    "\n",
    "strings = [solution[:t1+3], solution[t1-3:t2+3], solution[t2-3:]]\n",
    "for s in strings:\n",
    "    print(len(s))"
   ]
  },
  {
   "cell_type": "markdown",
   "id": "8e920d05",
   "metadata": {},
   "source": [
    "We split the string with 3 symbols overlapping because we don't want to lose any permutation.\n",
    "Now the combination of these 3 strings covers all possible permutations. Let's check it."
   ]
  },
  {
   "cell_type": "code",
   "execution_count": null,
   "id": "605d2455",
   "metadata": {},
   "outputs": [],
   "source": [
    "import itertools\n",
    "permutations = [''.join(x) for x in itertools.permutations(['1','2','3','4','5','6','7'], 7)]\n",
    "\n",
    "for p in permutations:\n",
    "    if p not in strings[0] and p not in strings[1] and p not in strings[2]:\n",
    "        print(p)"
   ]
  },
  {
   "cell_type": "markdown",
   "id": "4b827904",
   "metadata": {},
   "source": [
    "Now we need to add permutations starting from '12' to all strings. The easiest way to do it is just to concatenate the missing permutations to the end of each string."
   ]
  },
  {
   "cell_type": "code",
   "execution_count": null,
   "id": "57d3eb59",
   "metadata": {},
   "outputs": [],
   "source": [
    "required_permutaions = ['12' + ''.join(x) for x in itertools.permutations(['3','4','5','6','7'], 5)]\n",
    "print(len(required_permutaions))"
   ]
  },
  {
   "cell_type": "code",
   "execution_count": null,
   "id": "97133a00",
   "metadata": {},
   "outputs": [],
   "source": [
    "for p in required_permutaions:\n",
    "    for i in range(3):\n",
    "        if p not in strings[i]:\n",
    "            strings[i] += p"
   ]
  },
  {
   "cell_type": "code",
   "execution_count": null,
   "id": "840825e7",
   "metadata": {},
   "outputs": [],
   "source": [
    "for s in strings:\n",
    "    print(len(s))"
   ]
  },
  {
   "cell_type": "markdown",
   "id": "6f04abab",
   "metadata": {},
   "source": [
    "So now we have a valid solution: if we replace numbers with emojis, we can submit with a score of 2637."
   ]
  },
  {
   "cell_type": "code",
   "execution_count": null,
   "id": "c6512b4c",
   "metadata": {},
   "outputs": [],
   "source": [
    "replace_dict = {\n",
    "    \"1\": '🎅', \n",
    "    \"2\": '🤶', \n",
    "    \"3\": '🦌', \n",
    "    \"4\": '🧝', \n",
    "    \"5\": '🎄', \n",
    "    \"6\": '🎁', \n",
    "    \"7\": '🎀', \n",
    "}\n",
    "\n",
    "ans = strings.copy()\n",
    "for i in range(3):\n",
    "    for k,v in replace_dict.items():\n",
    "        ans[i] = ans[i].replace(k, v)"
   ]
  },
  {
   "cell_type": "code",
   "execution_count": null,
   "id": "073a4406",
   "metadata": {},
   "outputs": [],
   "source": [
    "for s in ans:\n",
    "    print(s[:30], '...')"
   ]
  },
  {
   "cell_type": "markdown",
   "id": "b1010810",
   "metadata": {},
   "source": [
    "# Renaming characters"
   ]
  },
  {
   "cell_type": "markdown",
   "id": "0e008527",
   "metadata": {},
   "source": [
    "We can see that in our previous solution, the length of the first string is much smaller than the two others. Because of the logic of the generation of the initial solution - many 🎅🤶 pairs are concentrated in the first third of the string.\n",
    "But all characters in the initial string are equal. We can swap any of them, and it will still be a valid solution. So we can improve our approach by using, for example '4' and '2' to denote 🎅 and 🤶 (instead of '1' and '2')"
   ]
  },
  {
   "cell_type": "code",
   "execution_count": null,
   "id": "d3ee0485",
   "metadata": {},
   "outputs": [],
   "source": [
    "strings = [solution[:t1+3], solution[t1-3:t2+3], solution[t2-3:]]\n",
    "required_permutaions = ['42' + ''.join(x) for x in itertools.permutations(['6','7','1','5','3'], 5)]\n",
    "\n",
    "for p in required_permutaions:\n",
    "    for i in range(3):\n",
    "        if p not in strings[i]:\n",
    "            strings[i] += p\n",
    "            \n",
    "for s in strings:\n",
    "    print(len(s))"
   ]
  },
  {
   "cell_type": "markdown",
   "id": "ba1a3548",
   "metadata": {},
   "source": [
    "Now string sizes are closer to each other, and we improved our score from 2640 to 2566."
   ]
  },
  {
   "cell_type": "markdown",
   "id": "ea30e73d",
   "metadata": {},
   "source": [
    "# Suffix and prefix optimization"
   ]
  },
  {
   "cell_type": "markdown",
   "id": "c15f386f",
   "metadata": {},
   "source": [
    "Let's look at the beginning and the end of the first string (before we added permutations)"
   ]
  },
  {
   "cell_type": "code",
   "execution_count": null,
   "id": "cc799e2e",
   "metadata": {},
   "outputs": [],
   "source": [
    "strings = [solution[:t1+3], solution[t1-3:t2+3], solution[t2-3:]]\n",
    "print(strings[0][:7])\n",
    "print(strings[0][-7:])"
   ]
  },
  {
   "cell_type": "markdown",
   "id": "a6b7e7c7",
   "metadata": {},
   "source": [
    "It starts with '123', but all our obligatory permutations start from '42' it means that if the first string doesn't contain some string that looks like: \"42\\*\\*\\*\\*1\" we can concatenate \"42\\*\\*\\*\\*\" at the beginning instead of concatenating the whole additional string to the end and save 1 symbol.\n",
    "\n",
    "We can do a similar trick with the end by concatenating only part of '427\\*\\*\\*\\*' and saving three symbols. Sometimes optimization can be even more significant."
   ]
  },
  {
   "cell_type": "code",
   "execution_count": null,
   "id": "578f2f5a",
   "metadata": {},
   "outputs": [],
   "source": [
    "# generate a permutation we want to add to each string\n",
    "def get_perm(strings, required_permutaions):\n",
    "    ans = [[],[],[]]\n",
    "    for i in range(3):\n",
    "        for p in required_permutaions:\n",
    "            if p not in strings[i]:\n",
    "                ans[i].append(p)\n",
    "    return ans\n",
    "\n",
    "to_add = get_perm(strings, required_permutaions)\n",
    "\n",
    "def add_suffix(strings, to_add):\n",
    "    for i, (s, permutations) in enumerate(zip(strings,to_add)):\n",
    "        for l in range(5,0,-1):\n",
    "            added = False\n",
    "            for p in permutations:\n",
    "                if p[-l:] == s[:l]:\n",
    "                    strings[i] = p[:-l] + strings[i]\n",
    "                    to_add[i].remove(p)\n",
    "                    added = True\n",
    "                    break\n",
    "            if added:\n",
    "                break\n",
    "\n",
    "add_suffix(strings, to_add)\n",
    "\n",
    "\n",
    "def add_prefix(strings, to_add):\n",
    "    if len(to_add) == 0 or len(to_add[0]) == 0:\n",
    "        return\n",
    "    start = to_add[0][0][:2]\n",
    "    for i,s in enumerate(strings):\n",
    "        if s[-1] == start[0]:\n",
    "            r = to_add[i].pop(0)\n",
    "            strings[i] += r[1:]\n",
    "            continue\n",
    "        if s[-2:] == start:\n",
    "            r = to_add[i].pop(0)\n",
    "            strings[i] += r[2:]\n",
    "            continue\n",
    "        \n",
    "        l = s.rfind(start)\n",
    "        if len(s) - l > 7 or start[0] in s[l+2:] or start[1] in s[l+2:]:\n",
    "            continue\n",
    "        overlap = s[l:]\n",
    "        for p in to_add[i]:\n",
    "            if p[:len(overlap)] == overlap:\n",
    "                strings[i] += p[len(overlap):]\n",
    "                to_add[i].remove(p)\n",
    "                break\n",
    "        \n",
    "add_prefix(strings, to_add)\n",
    "        \n",
    "for i in range(3):\n",
    "    for p in to_add[i]:\n",
    "        if p not in strings[i]:\n",
    "            strings[i] += p\n",
    "\n",
    "for s in strings:\n",
    "    print(len(s))"
   ]
  },
  {
   "cell_type": "code",
   "execution_count": null,
   "id": "4f00c077",
   "metadata": {},
   "outputs": [],
   "source": [
    "for s in strings:\n",
    "    print(s[:30], '...')"
   ]
  },
  {
   "cell_type": "markdown",
   "id": "d431c722",
   "metadata": {},
   "source": [
    "We improved our score from 2566 to 2562 as expected."
   ]
  },
  {
   "cell_type": "markdown",
   "id": "d6e2b0f1",
   "metadata": {},
   "source": [
    "# Using a wild card"
   ]
  },
  {
   "cell_type": "markdown",
   "id": "763fb2fc",
   "metadata": {},
   "source": [
    "We can use a wild card to replace any other symbol. Let's use it in the process of adding obligatory permutations. We will try to use wildcard injection instead of adding some new permutations to the string."
   ]
  },
  {
   "cell_type": "code",
   "execution_count": null,
   "id": "09fc9b4f",
   "metadata": {},
   "outputs": [],
   "source": [
    "strings = [solution[:t1+3], solution[t1-3:t2+3], solution[t2-3:]]\n",
    "to_add = get_perm(strings, required_permutaions)\n",
    "add_suffix(strings, to_add)\n",
    "add_prefix(strings, to_add)"
   ]
  },
  {
   "cell_type": "code",
   "execution_count": null,
   "id": "e81001d2",
   "metadata": {},
   "outputs": [],
   "source": [
    "def use_wildcard(strings, to_add):\n",
    "    for i in range(3):\n",
    "        perm_dict = {}\n",
    "        for p in to_add[i]:\n",
    "            found = False\n",
    "            for j in range(7):\n",
    "                for c in ['1','2','3','4','5','6','7']:\n",
    "                    string = p[:j] + c + p[j+1:]\n",
    "                    pos = strings[i].find(string)\n",
    "                    if pos > 0:\n",
    "                        strings[i] = strings[i][:pos + j] + '8' + strings[i][pos + j + 1:]\n",
    "                        found = True\n",
    "                        break\n",
    "                if found:\n",
    "                    break\n",
    "            if found:\n",
    "                break\n",
    "        if found:\n",
    "            to_add[i].remove(p)\n",
    "        \n",
    "            \n",
    "use_wildcard(strings, to_add)\n",
    "\n",
    "for i in range(3):\n",
    "    for p in to_add[i]:\n",
    "        if p not in strings[i]:\n",
    "            strings[i] += p\n",
    "\n",
    "for s in strings:\n",
    "    print(len(s))"
   ]
  },
  {
   "cell_type": "code",
   "execution_count": null,
   "id": "0d3c2508",
   "metadata": {},
   "outputs": [],
   "source": [
    "for s in strings:\n",
    "    print(s[:30], '...')"
   ]
  },
  {
   "cell_type": "markdown",
   "id": "0cdbb363",
   "metadata": {},
   "source": [
    "Our best score has improved from 2562 to 2555."
   ]
  },
  {
   "cell_type": "markdown",
   "id": "f5a86b55",
   "metadata": {},
   "source": [
    "# Random search"
   ]
  },
  {
   "cell_type": "code",
   "execution_count": null,
   "id": "f37d5835",
   "metadata": {},
   "outputs": [],
   "source": [
    "import numpy as np"
   ]
  },
  {
   "cell_type": "markdown",
   "id": "a826ce29",
   "metadata": {},
   "source": [
    "So far, I have covered some optimization ideas, but they are very sensitive to assumptions. For example, what will happen if we move the split points for the initial strings a bit? What will happen if we will use other symbols to denote 🎅🤶? How will these changes influence other optimization steps?"
   ]
  },
  {
   "cell_type": "markdown",
   "id": "9c8a673e",
   "metadata": {},
   "source": [
    "To answer these questions, let's just do some random search."
   ]
  },
  {
   "cell_type": "code",
   "execution_count": null,
   "id": "cdbbac5d",
   "metadata": {},
   "outputs": [],
   "source": [
    "best_ans = None\n",
    "best_len = 10000\n",
    "best_split = None\n",
    "best_ij = None\n",
    "\n",
    "t1, t2 = split_id\n",
    "for _ in range(10000):\n",
    "    for i in range(1,8):\n",
    "        for j in range(1,8):\n",
    "            if i == j:\n",
    "                continue\n",
    "            required_permutaions = [str(i)+str(j) + ''.join(x) for x in itertools.permutations([x for x in ['1','2','3','4','5','6','7'] if x != str(i) and x!=str(j)], 5)]\n",
    "\n",
    "\n",
    "            strings = [solution[:t1+3], solution[t1-3:t2+3], solution[t2-3:]]\n",
    "            to_add = get_perm(strings, required_permutaions)\n",
    "            add_suffix(strings, to_add)\n",
    "            add_prefix(strings, to_add)\n",
    "\n",
    "            use_wildcard(strings, to_add)\n",
    "            use_wildcard(strings, to_add)\n",
    "\n",
    "            for k in range(3):\n",
    "                for p in to_add[k]:\n",
    "                    if p not in strings[k]:\n",
    "                        strings[k] += p\n",
    "\n",
    "            l = max([len(s) for s in strings])\n",
    "            if l < best_len:\n",
    "                best_len = l\n",
    "                best_ans = strings.copy()\n",
    "                best_split = [t1,t2]\n",
    "                best_ij = [str(i),str(j)]\n",
    "                print(best_len,best_split,best_ij)\n",
    "                    \n",
    "    # random step from current optimal split\n",
    "    t2 = best_split[1] + np.random.randint(-1,2, 100).sum()\n",
    "    t1 = best_split[0] + np.random.randint(-1,2, 100).sum()"
   ]
  },
  {
   "cell_type": "markdown",
   "id": "1798421e",
   "metadata": {},
   "source": [
    "Let's convert it to the final submission:"
   ]
  },
  {
   "cell_type": "code",
   "execution_count": null,
   "id": "32cd7f88",
   "metadata": {},
   "outputs": [],
   "source": [
    "replace_dict = {\n",
    "    best_ij[0]: '🎅', \n",
    "    best_ij[1]: '🤶', \n",
    "    '8': '🌟'\n",
    "}\n",
    "\n",
    "other = ['🦌','🧝','🎄','🎁','🎀']\n",
    "\n",
    "for x in ['1','2','3','4','5','6','7']:\n",
    "    if x not in best_ij:\n",
    "        replace_dict[x] = other.pop(0)\n",
    "replace_dict"
   ]
  },
  {
   "cell_type": "code",
   "execution_count": null,
   "id": "173b160e",
   "metadata": {},
   "outputs": [],
   "source": [
    "ans = best_ans.copy()\n",
    "for i in range(3):\n",
    "    for k,v in replace_dict.items():\n",
    "        ans[i] = ans[i].replace(k, v)"
   ]
  },
  {
   "cell_type": "code",
   "execution_count": null,
   "id": "53149c55",
   "metadata": {},
   "outputs": [],
   "source": [
    "for s in ans:\n",
    "    print(s[:30], '...')"
   ]
  },
  {
   "cell_type": "code",
   "execution_count": null,
   "id": "17ad0e5f",
   "metadata": {},
   "outputs": [],
   "source": [
    "nan"
   ]
  },
  {
   "cell_type": "code",
   "execution_count": null,
   "id": "87e2ea54",
   "metadata": {},
   "outputs": [],
   "source": [
    "import pandas as pd\n",
    "sub = pd.DataFrame()\n",
    "sub['schedule'] = ans\n",
    "sub"
   ]
  },
  {
   "cell_type": "code",
   "execution_count": null,
   "id": "17011b4d",
   "metadata": {},
   "outputs": [],
   "source": [
    "sub.to_csv('submission.csv', index = False)"
   ]
  },
  {
   "cell_type": "markdown",
   "id": "2b59e70b",
   "metadata": {},
   "source": [
    "Let's double check validity"
   ]
  },
  {
   "cell_type": "code",
   "execution_count": null,
   "id": "e40940cc",
   "metadata": {},
   "outputs": [],
   "source": [
    "lost_total = []\n",
    "for p in permutations:\n",
    "    if p not in best_ans[0] and p not in best_ans[1] and p not in best_ans[2]:\n",
    "        print(p)\n",
    "        lost_total.append(p)"
   ]
  },
  {
   "cell_type": "code",
   "execution_count": null,
   "id": "14019e9b",
   "metadata": {},
   "outputs": [],
   "source": [
    "i, j = best_ij\n",
    "required_permutaions = [str(i)+str(j) + ''.join(x) for x in itertools.permutations([x for x in ['1','2','3','4','5','6','7'] if x != str(i) and x!=str(j)], 5)]"
   ]
  },
  {
   "cell_type": "code",
   "execution_count": null,
   "id": "637cef7b",
   "metadata": {},
   "outputs": [],
   "source": [
    "lost = [[],[],[]]\n",
    "for p in required_permutaions:\n",
    "    for i in range(3):\n",
    "        if p not in best_ans[i]:\n",
    "            lost[i].append(p)\n",
    "print(lost)"
   ]
  },
  {
   "cell_type": "markdown",
   "id": "cff5c470",
   "metadata": {},
   "source": [
    "Probably these permutations are covered by wildcards:"
   ]
  },
  {
   "cell_type": "code",
   "execution_count": null,
   "id": "97204be1",
   "metadata": {},
   "outputs": [],
   "source": [
    "for i in range(3):\n",
    "    for c in ['1','2','3','4','5','6','7']:\n",
    "        s = best_ans[i].replace('8', c)\n",
    "        for p in lost[i]:\n",
    "            if p in s:\n",
    "                print(f\"{p} found in {i} with wildcard {c}\")"
   ]
  },
  {
   "cell_type": "code",
   "execution_count": null,
   "id": "55c660de",
   "metadata": {},
   "outputs": [],
   "source": [
    "for i in range(3):\n",
    "    for c in ['1','2','3','4','5','6','7']:\n",
    "        s = best_ans[i].replace('8', c)\n",
    "        for p in lost_total:\n",
    "            if p in s:\n",
    "                print(f\"{p} found in {i} with wildcard {c}\")"
   ]
  },
  {
   "cell_type": "code",
   "execution_count": null,
   "id": "f83ede03",
   "metadata": {},
   "outputs": [],
   "source": [
    "nan"
   ]
  },
  {
   "cell_type": "markdown",
   "id": "8a6a0b72",
   "metadata": {},
   "source": [
    "Most of the functions I have used here are extremely slow. I didn't even try to optimize them and wrote everything as straightforward as possible. There is massive room for optimization. The approach can be orders of magnitude faster."
   ]
  },
  {
   "cell_type": "code",
   "execution_count": null,
   "id": "d56b8711",
   "metadata": {},
   "outputs": [],
   "source": [
    "nan"
   ]
  },
  {
   "cell_type": "code",
   "execution_count": null,
   "id": "7a7e1ced",
   "metadata": {},
   "outputs": [],
   "source": [
    "nan"
   ]
  }
 ],
 "metadata": {},
 "nbformat": 4,
 "nbformat_minor": 5
}
