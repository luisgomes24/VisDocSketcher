{
 "cells": [
  {
   "cell_type": "code",
   "execution_count": null,
   "id": "afd3e668",
   "metadata": {},
   "outputs": [],
   "source": [
    "# This Python 3 environment comes with many helpful analytics libraries installed\n",
    "# It is defined by the kaggle/python docker image: https://github.com/kaggle/docker-python\n",
    "# For example, here's several helpful packages to load in \n",
    "\n",
    "import numpy as np # linear algebra\n",
    "import pandas as pd # data processing, CSV file I/O (e.g. pd.read_csv)\n",
    "\n",
    "# Input data files are available in the \"../input/\" directory.\n",
    "# For example, running this (by clicking run or pressing Shift+Enter) will list all files under the input directory\n",
    "\n",
    "import os\n",
    "for dirname, _, filenames in os.walk('/kaggle/input'):\n",
    "    for filename in filenames:\n",
    "        print(os.path.join(dirname, filename))\n",
    "\n",
    "        \n",
    "# Any results you write to the current directory are saved as output."
   ]
  },
  {
   "cell_type": "code",
   "execution_count": null,
   "id": "b055ea7a",
   "metadata": {},
   "outputs": [],
   "source": [
    "df0 = pd.read_csv(\"/kaggle/input/emg-4/0.csv\", header=None )\n",
    "df1 = pd.read_csv(\"/kaggle/input/emg-4/1.csv\", header=None )\n",
    "df2 = pd.read_csv(\"/kaggle/input/emg-4/2.csv\", header=None )\n",
    "df3 = pd.read_csv(\"/kaggle/input/emg-4/3.csv\", header=None )\n",
    "df = pd.concat([df0,df1,df2,df3], axis = 0)\n",
    "dfx = df.drop(64, axis = 1)\n",
    "y = df[64]"
   ]
  },
  {
   "cell_type": "code",
   "execution_count": null,
   "id": "a4d5eb2b",
   "metadata": {},
   "outputs": [],
   "source": [
    "from sklearn.model_selection import train_test_split\n",
    "x_train, x_test, y_train, y_test = train_test_split(dfx,\n",
    "                                                   y,\n",
    "                                                   test_size=0.25,\n",
    "                                                   random_state=1)"
   ]
  },
  {
   "cell_type": "code",
   "execution_count": null,
   "id": "dee67a23",
   "metadata": {},
   "outputs": [],
   "source": [
    "from sklearn.metrics import classification_report\n",
    "from sklearn.metrics import confusion_matrix\n",
    "\n",
    "#evaluation function\n",
    "def evaluate(y_pred,y_test):\n",
    "    print(classification_report(y_test,y_pred))\n",
    "    print(confusion_matrix(y_test,y_pred))\n",
    "    return list(zip(y_pred,y_test))"
   ]
  },
  {
   "cell_type": "code",
   "execution_count": null,
   "id": "99d9b34d",
   "metadata": {},
   "outputs": [],
   "source": [
    "# normalizando os dados\n",
    "from sklearn.preprocessing import StandardScaler\n",
    "sc = StandardScaler()\n",
    "x_train = pd.DataFrame(sc.fit_transform(x_train))\n",
    "x_test = pd.DataFrame(sc.transform(x_test))"
   ]
  },
  {
   "cell_type": "markdown",
   "id": "9ab54058",
   "metadata": {},
   "source": [
    " <h1>**Keras start\n",
    "**</h1>"
   ]
  },
  {
   "cell_type": "code",
   "execution_count": null,
   "id": "82de14c2",
   "metadata": {},
   "outputs": [],
   "source": [
    "import keras\n",
    "from keras.models import Sequential\n",
    "from keras.layers import Dense\n",
    "from keras import metrics"
   ]
  },
  {
   "cell_type": "code",
   "execution_count": null,
   "id": "35770ce4",
   "metadata": {},
   "outputs": [],
   "source": [
    "classificator = Sequential()\n",
    "classificator.add(Dense(units = 34, activation = 'softmax', input_dim = 64))\n",
    "classificator.add(Dense(units = 34, activation = 'softmax'))\n",
    "classificator.add(Dense(units = 4, activation = 'sigmoid'))\n",
    "classificator.compile(optimizer = 'adam', loss = 'sparse_categorical_crossentropy', metrics =['accuracy',metrics.categorical_accuracy])\n",
    "\n",
    "\n"
   ]
  },
  {
   "cell_type": "code",
   "execution_count": null,
   "id": "bcbdfbfd",
   "metadata": {},
   "outputs": [],
   "source": [
    "classificator.fit(x_train,y_train , batch_size = 10, nb_epoch = 150)\n"
   ]
  },
  {
   "cell_type": "code",
   "execution_count": null,
   "id": "b8c80e2a",
   "metadata": {},
   "outputs": [],
   "source": [
    "y_pred = classificator.predict(x_test)"
   ]
  },
  {
   "cell_type": "code",
   "execution_count": null,
   "id": "3bf1b4a3",
   "metadata": {},
   "outputs": [],
   "source": [
    "keras.metrics.accuracy(y_test, y_pred)"
   ]
  }
 ],
 "metadata": {},
 "nbformat": 4,
 "nbformat_minor": 5
}
