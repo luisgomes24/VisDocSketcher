{
 "cells": [
  {
   "cell_type": "markdown",
   "id": "22506523",
   "metadata": {},
   "source": [
    "**A mini project examining the stock prices of Japanese manufacturers over the past 20 years.**\n",
    "\n",
    "# Introduction\n",
    "\n",
    "Working for a Japanese trading company in the aviation sector, leading Japanese manufactures such as KHI, IHI and MHI are frequently mentioned. In a global supply chain, wellbeing of these companies can be play a significant role for a plethora of companies who operate within the said supply chain.\n",
    "\n",
    "As such, in this short project, the performance of their share price will be evaluated. \n",
    "\n",
    "# Overview \n",
    "\n",
    "The share price of the three companies can be secured from Yahoo Finance and this the maximum possible range of data as of 14th June 2022. \n",
    "\n",
    "* KHI's historical stock price data - https://uk.finance.yahoo.com/quote/7012.T/history?p=7012.T&.tsrc=fin-srch\n",
    "* IHI's historical stock price data - https://uk.finance.yahoo.com/quote/7013.T/history?p=7013.T&.tsrc=fin-srch\n",
    "* MHI's historical stock price data - https://uk.finance.yahoo.com/quote/7011.T/history?p=7011.T\n",
    "\n",
    "The dataset includes the following variables (all prices in Japanese Yen): \n",
    "* Date (index)\n",
    "* Opening price\n",
    "* High price recorded for the day\n",
    "* Lowest price recorded for the day\n",
    "* Closing price\n",
    "* Adjusted Closing price \n",
    "* Volume of trading"
   ]
  },
  {
   "cell_type": "code",
   "execution_count": null,
   "id": "30ad5b8c",
   "metadata": {},
   "outputs": [],
   "source": [
    "# Libraries for data handing\n",
    "import numpy as np # linear algebra\n",
    "import pandas as pd # data processing, CSV file I/O (e.g. pd.read_csv)\n",
    "\n",
    "# library spercific to kaggle \n",
    "import os\n",
    "for dirname, _, filenames in os.walk('/kaggle/input'):\n",
    "    for filename in filenames:\n",
    "        print(os.path.join(dirname, filename))\n"
   ]
  },
  {
   "cell_type": "code",
   "execution_count": null,
   "id": "defc5f0b",
   "metadata": {},
   "outputs": [],
   "source": [
    "KHI = pd.read_csv(\"/kaggle/input/share-price-data-for-japanese-manufacturers/KHI.csv\", index_col = \"Date\", parse_dates = True)\n",
    "IHI = pd.read_csv(\"/kaggle/input/share-price-data-for-japanese-manufacturers/IHI.csv\", index_col = \"Date\", parse_dates = True)\n",
    "MHI = pd.read_csv(\"/kaggle/input/share-price-data-for-japanese-manufacturers/MHI.csv\", index_col = \"Date\", parse_dates = True)\n",
    "\n",
    "KHI.info()"
   ]
  },
  {
   "cell_type": "code",
   "execution_count": null,
   "id": "ee617a5b",
   "metadata": {},
   "outputs": [],
   "source": [
    "IHI.info()"
   ]
  },
  {
   "cell_type": "code",
   "execution_count": null,
   "id": "cfc9b6dd",
   "metadata": {},
   "outputs": [],
   "source": [
    "MHI.info()"
   ]
  },
  {
   "cell_type": "markdown",
   "id": "a162cbbf",
   "metadata": {},
   "source": [
    "Whilst the dataset is relatively large, it should be noted that the KHI's dataset is smaller than that for IHI and MHI. Examining the earliest recorded date releases that the oldest data for KHI is from 5th Nov 2004 whilst for the other two suppliers it is 4th Jan 2000."
   ]
  },
  {
   "cell_type": "code",
   "execution_count": null,
   "id": "a5632436",
   "metadata": {},
   "outputs": [],
   "source": [
    "print(\"KHI's data cover the priod between\", KHI.index.min().date(),\"and\",KHI.index.max().date(),)\n",
    "print(\"IHI's data cover the priod between\", IHI.index.min().date(),\"and\",IHI.index.max().date(),)\n",
    "print(\"MHI's data cover the priod between\", MHI.index.min().date(),\"and\",MHI.index.max().date(),)"
   ]
  },
  {
   "cell_type": "markdown",
   "id": "72d5e503",
   "metadata": {},
   "source": [
    "# Closing price fluctuations \n",
    "Using the graph functions in pandas, the yearly average closing prices can be plotted. It reveals that until the recession of in 2008, the prices for all three manufactures were rising. However, following the crash, for approx. 4 years the stock prices remained low. \n",
    "\n",
    "From 2012, the prices recorded a steady increase. For 2 manufactures, KHI and IHI, this lead to their stocks recording a higher price in 2015 out performing the highs before the financial crash. Based solely on this data, a definite conclusion on the cause of the increased stock price cannot be reached. It may be the global economic recovery but Abenomics lead by the prime minister of Japan was also introduced in 2012([Kenton, 2021](https://www.investopedia.com/terms/a/abenomics.asp#:~:text=Abenomics%20is%20the%20nickname%20for,the%20Japanese%20economy%20more%20competitive.)). \n",
    "\n",
    "There is also a decline in the prices in 2015. Whilst it was not significant as the 2008 recession, reports indicate that there was a mini recession from 2015 to 2016 ([New York Times, 2018](https://www.nytimes.com/2018/09/29/upshot/mini-recession-2016-little-known-big-impact.html)) ([Forbes, 2020](https://www.forbes.com/sites/bobcarlson/2020/02/24/are-we-repeating-2015-2016-in-the-economy-and-investment-markets/)). The impact of COVID can also be observed in the closing price fluctuations for 2020 with prices falling to levels similar to 2008 but slowly recovering in 2021. \n",
    "\n",
    "Interestingly, the most recent records for KHI appears to show a dip in the stock prices. Once again, based on solely this dataset, it is difficult to understand the possible causes. However, one possibility may be their portfolio and the ongoing economic uncertainty. For instance, KHI are involved in the production of TRENT XWB engines used in the Airbus A350 ([KHI, 2011](https://global.kawasaki.com/en/corp/newsroom/news/detail/20110323_1.html)). Such planes are designed for long haul flights ([Airbus,2022](https://www.airbus.com/en/products-services/commercial-aircraft/passenger-aircraft/a350-family)), which have struggled to recover since COVID due to a myriad of factors. \n",
    "\n",
    "An updated version of the graph with monthly averages rather than yearly average that there is significant fluctuations. Additionally, whilst this was not clear in the yearly version, in 2018, stock prices of  particularly IHI temporarily outperformed that of MHI which had consistently outperformed the two other manufactures. In fact, since 2015, MHI stocks appear to have been suffering. One factor for this may be issues with some of the some of their projects including the AIDAprima which was delayed ([Seatrade Cruise News, 2016](https://www.seatrade-cruise.com/news-headlines/mitsubishi-heavy-industries-breaks-silence-problems-its-cruise-newbuild-contracts)). "
   ]
  },
  {
   "cell_type": "code",
   "execution_count": null,
   "id": "b249fabb",
   "metadata": {},
   "outputs": [],
   "source": [
    "title = \"Yearly average closing prices\"\n",
    "\n",
    "ax = KHI[\"Close\"].resample(rule = \"A\").mean().plot.line(label = \"KHI\").legend(), \n",
    "IHI[\"Close\"].resample(rule = \"A\").mean().plot.line(label = \"IHI\").legend(), \n",
    "MHI[\"Close\"].resample(rule = \"A\").mean().plot.line(figsize = (20,8), title = title, xlim =[\"2004-11-5\", \"2022-12-31\"],label = \"MHI\").legend();\n",
    "\n"
   ]
  },
  {
   "cell_type": "code",
   "execution_count": null,
   "id": "4e89af6e",
   "metadata": {},
   "outputs": [],
   "source": [
    "title = \"Monthly average closing prices\"\n",
    "\n",
    "ax = KHI[\"Close\"].resample(rule = \"M\").mean().plot.line(label = \"KHI\").legend(), \n",
    "IHI[\"Close\"].resample(rule = \"M\").mean().plot.line(label = \"IHI\").legend(), \n",
    "MHI[\"Close\"].resample(rule = \"M\").mean().plot.line(figsize = (20,8), title = title, xlim =[\"2004-11-5\", \"2022-12-31\"], label = \"MHI\").legend();\n",
    "\n"
   ]
  },
  {
   "cell_type": "markdown",
   "id": "dbc572f2",
   "metadata": {},
   "source": [
    "In fact, looking at the peaks pre-2008 in the stock prices, MHI is the only manufacture that has failed to yet capture the prosperity of the era. For IHI and KHI, they were able to recover in approx. 4.5-5 years. Also, for these companies at the very least, their stock prices had begun to decrease in 2007, a year or so before the collapse of Lemon Brothers ([Lioudis, 2021](https://www.investopedia.com/articles/economics/09/lehman-brothers-collapse.asp)). Therefore, these companies began experiencing the economic downturn by the time Bear Stearns were experiencing financial difficulty ([Chen, 2021](https://www.investopedia.com/terms/b/bear-stearns.asp)). "
   ]
  },
  {
   "cell_type": "markdown",
   "id": "eab90a37",
   "metadata": {},
   "source": [
    "## KHI Recovery"
   ]
  },
  {
   "cell_type": "code",
   "execution_count": null,
   "id": "d2d98bf1",
   "metadata": {},
   "outputs": [],
   "source": [
    "KHI_M = KHI.drop(['Open', 'High', 'Low', 'Adj Close', 'Volume'], axis = 1)\n",
    "\n",
    "KHI_2008_peak = KHI_M.loc[\"2007-01-01\": \"2007-12-01\"]\n",
    "\n",
    "KHI_max = KHI_2008_peak[\"Close\"].max()\n",
    "KHI_2008_peak.idxmax()"
   ]
  },
  {
   "cell_type": "code",
   "execution_count": null,
   "id": "6a151f20",
   "metadata": {},
   "outputs": [],
   "source": [
    "KHI_peak_close = KHI_M.loc[\"2007-07-23\":]"
   ]
  },
  {
   "cell_type": "code",
   "execution_count": null,
   "id": "b02583f1",
   "metadata": {},
   "outputs": [],
   "source": [
    "KHI_peak_close[KHI_peak_close>= KHI_max].dropna().head()"
   ]
  },
  {
   "cell_type": "code",
   "execution_count": null,
   "id": "aa967b21",
   "metadata": {},
   "outputs": [],
   "source": [
    "print(\"KHI's Recovery in number of years = \", round((len(KHI_M.loc[\"2007-07-23\":\"2014-12-08\"])/365),2)) "
   ]
  },
  {
   "cell_type": "markdown",
   "id": "4219939c",
   "metadata": {},
   "source": [
    "## IHI Recovery"
   ]
  },
  {
   "cell_type": "code",
   "execution_count": null,
   "id": "6064af18",
   "metadata": {},
   "outputs": [],
   "source": [
    "IHI_M = IHI.drop(['Open', 'High', 'Low', 'Adj Close', 'Volume'], axis = 1)\n",
    "\n",
    "IHI_2008_peak = IHI_M.loc[\"2007-01-01\": \"2007-12-01\"]\n",
    "\n",
    "IHI_max = IHI_2008_peak[\"Close\"].max()\n",
    "IHI_2008_peak.idxmax()"
   ]
  },
  {
   "cell_type": "code",
   "execution_count": null,
   "id": "db90a699",
   "metadata": {},
   "outputs": [],
   "source": [
    "IHI_peak_close = IHI_M.loc[\"2007-02-26\":]"
   ]
  },
  {
   "cell_type": "code",
   "execution_count": null,
   "id": "9e711bd6",
   "metadata": {},
   "outputs": [],
   "source": [
    "IHI_peak_close[IHI_peak_close>= IHI_max].dropna().head()"
   ]
  },
  {
   "cell_type": "code",
   "execution_count": null,
   "id": "841ccd5b",
   "metadata": {},
   "outputs": [],
   "source": [
    "print(\"IHI's Recovery in number of years = \", round((len(IHI_M.loc[\"2007-02-26\":\"2014-01-20\"])/365),2)) "
   ]
  },
  {
   "cell_type": "markdown",
   "id": "b5cdae0a",
   "metadata": {},
   "source": [
    "## MHI Recovery"
   ]
  },
  {
   "cell_type": "code",
   "execution_count": null,
   "id": "ec9b613e",
   "metadata": {},
   "outputs": [],
   "source": [
    "MHI_M = MHI.drop(['Open', 'High', 'Low', 'Adj Close', 'Volume'], axis = 1)\n",
    "\n",
    "MHI_2008_peak = MHI_M.loc[\"2007-01-01\": \"2007-12-01\"]\n",
    "\n",
    "MHI_max = MHI_2008_peak[\"Close\"].max()\n",
    "MHI_2008_peak.idxmax()"
   ]
  },
  {
   "cell_type": "code",
   "execution_count": null,
   "id": "47574bf3",
   "metadata": {},
   "outputs": [],
   "source": [
    "MHI_peak_close = MHI_M.loc[\"2007-02-26\":]"
   ]
  },
  {
   "cell_type": "code",
   "execution_count": null,
   "id": "e1bacd02",
   "metadata": {},
   "outputs": [],
   "source": [
    "MHI_peak_close[MHI_peak_close>= MHI_max].dropna().head()"
   ]
  },
  {
   "cell_type": "markdown",
   "id": "d77225cb",
   "metadata": {},
   "source": [
    "# Trading Volume \n",
    "Examining the volume of trading, the shock of the 2008 recession can be clearly identified. It appears that stocks for IHI were specifically in large volumes followed by MHI. However even in 2022, MHI's trading volume remained relatively stable compared to IHI and KHI. IHI's trading volume also peaked in advance of KHI  "
   ]
  },
  {
   "cell_type": "code",
   "execution_count": null,
   "id": "db8e972b",
   "metadata": {},
   "outputs": [],
   "source": [
    "KHI[\"Volume\"].resample(rule = \"M\").max().plot.line(figsize = (20,8), label = \"KHI\").legend();\n",
    "MHI[\"Volume\"].resample(rule = \"M\").max().plot.line(figsize = (20,8), label = \"MHI\").legend();\n",
    "IHI[\"Volume\"].resample(rule = \"M\").max().plot.line(figsize = (20,8), label = \"IHI\", title = \"Maximum monthly trading volumes\").legend();"
   ]
  },
  {
   "cell_type": "markdown",
   "id": "884dd8ad",
   "metadata": {},
   "source": [
    "# Moving Averages \n",
    "Below are 30 day moving averages for the respective manufacture. For all three manufactures, there are days where the stock prices performed significantly differently than the 30day moving average. One such instance was MHI's peak prior to the financial crash. This may be one reason why MHI was not able to recover their stock prices form that era. Their stocks before the recession may have been overvalued. "
   ]
  },
  {
   "cell_type": "code",
   "execution_count": null,
   "id": "65673c77",
   "metadata": {},
   "outputs": [],
   "source": [
    "KHI[\"Close: 30 day mean\"] = KHI[\"Close\"].rolling(window = 30).mean()\n",
    "\n",
    "ax = KHI[[\"Close\", \"Close: 30 day mean\"]].plot(figsize = (20,8),title = \"KHI Close: 30 day moving average\")\n",
    "ax.set_ylabel(\"Japanese Yen\");"
   ]
  },
  {
   "cell_type": "code",
   "execution_count": null,
   "id": "27273c0a",
   "metadata": {},
   "outputs": [],
   "source": [
    "IHI[\"Close: 30 day mean\"] = IHI[\"Close\"].rolling(window = 30).mean()\n",
    "\n",
    "ax = IHI[[\"Close\", \"Close: 30 day mean\"]].plot(figsize = (20,8),title = \"IHI Close: 30 day moving average\")\n",
    "ax.set_ylabel(\"Japanese Yen\");"
   ]
  },
  {
   "cell_type": "code",
   "execution_count": null,
   "id": "15a37f0e",
   "metadata": {},
   "outputs": [],
   "source": [
    "MHI[\"Close: 30 day mean\"] = MHI[\"Close\"].rolling(window = 30).mean()\n",
    "\n",
    "ax = MHI[[\"Close\", \"Close: 30 day mean\"]].plot(figsize = (20,8), title = \"MHI Close: 30 day moving average\")\n",
    "ax.set_ylabel(\"Japanese Yen\");"
   ]
  },
  {
   "cell_type": "markdown",
   "id": "ba0104ed",
   "metadata": {},
   "source": [
    "# Conclusion\n",
    "This was a relatively short project comparing the stock prices of Japanese leading manufactures, IHI, KHI and MHI.\n",
    "\n",
    "Whilst there are further research required to draw conclusions regarding the pattern, the fluctuations noted in the three manufacturers tend to mirror the global and domestic trends. This could be inferred as a reflection of the global nature of their operations and their reliance on factors beyond their immediate boarders.  "
   ]
  }
 ],
 "metadata": {},
 "nbformat": 4,
 "nbformat_minor": 5
}
