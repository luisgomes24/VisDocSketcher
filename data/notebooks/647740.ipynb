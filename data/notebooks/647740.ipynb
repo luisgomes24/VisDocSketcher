{
 "cells": [
  {
   "cell_type": "markdown",
   "id": "bcb7bc76",
   "metadata": {},
   "source": [
    "# Global Air Popullation using BigQuery"
   ]
  },
  {
   "cell_type": "code",
   "execution_count": null,
   "id": "af445412",
   "metadata": {},
   "outputs": [],
   "source": [
    "# This Python 3 environment comes with many helpful analytics libraries installed\n",
    "# It is defined by the kaggle/python docker image: https://github.com/kaggle/docker-python\n",
    "# For exam#\n",
    "import bq_helper\n"
   ]
  },
  {
   "cell_type": "code",
   "execution_count": null,
   "id": "8ebd14d2",
   "metadata": {},
   "outputs": [],
   "source": [
    "# BigQuery Table bigquery-public-data.openaq.global_air_quality\n",
    "global_air = bq_helper.BigQueryHelper(active_project =\"bigquery-public-data\",\n",
    "                                     dataset_name =\"openaq\" )"
   ]
  },
  {
   "cell_type": "code",
   "execution_count": null,
   "id": "6f051d5a",
   "metadata": {},
   "outputs": [],
   "source": [
    "# print a list of all the tables in the dataset i.e. openaq\n",
    "global_air.list_tables()"
   ]
  },
  {
   "cell_type": "code",
   "execution_count": null,
   "id": "b8e8da72",
   "metadata": {},
   "outputs": [],
   "source": [
    "# Only one table found in the dataset \"openaq\". \n",
    "# Let us print the schema of this table\n",
    "global_air.table_schema(\"global_air_quality\")"
   ]
  },
  {
   "cell_type": "code",
   "execution_count": null,
   "id": "a20f9c4e",
   "metadata": {},
   "outputs": [],
   "source": [
    "global_air.head(\"global_air_quality\")"
   ]
  },
  {
   "cell_type": "code",
   "execution_count": null,
   "id": "7011e448",
   "metadata": {},
   "outputs": [],
   "source": [
    "global_air.head(\"global_air_quality\", selected_columns = \"location\", num_rows = 8)"
   ]
  },
  {
   "cell_type": "code",
   "execution_count": null,
   "id": "4b117c8f",
   "metadata": {},
   "outputs": [],
   "source": [
    "#Check query size\n",
    "query = \"\"\" SELECT country\n",
    "            FROM `bigquery-public-data.openaq.global_air_quality`\n",
    "            \"\"\"\n",
    "\n"
   ]
  },
  {
   "cell_type": "code",
   "execution_count": null,
   "id": "027f4dcb",
   "metadata": {},
   "outputs": [],
   "source": [
    "global_air.estimate_query_size(query)"
   ]
  },
  {
   "cell_type": "code",
   "execution_count": null,
   "id": "68d0b839",
   "metadata": {},
   "outputs": [],
   "source": [
    "# Actual running a query - query size upper cap 0.1 Gb\n",
    "global_air.query_to_pandas_safe(query, max_gb_scanned = 0.1)"
   ]
  },
  {
   "cell_type": "code",
   "execution_count": null,
   "id": "37fa531d",
   "metadata": {},
   "outputs": [],
   "source": [
    "# Storing the dataframe returned from the query\n",
    "country = global_air.query_to_pandas(query)"
   ]
  },
  {
   "cell_type": "code",
   "execution_count": null,
   "id": "ae0fa268",
   "metadata": {},
   "outputs": [],
   "source": [
    "country"
   ]
  },
  {
   "cell_type": "code",
   "execution_count": null,
   "id": "d67bcd3c",
   "metadata": {},
   "outputs": [],
   "source": [
    "country.country.value_counts()"
   ]
  },
  {
   "cell_type": "code",
   "execution_count": null,
   "id": "6a24fab3",
   "metadata": {},
   "outputs": [],
   "source": [
    "# Writing the output to a CSV file\n",
    "country.to_csv(\"First_BigQuery.csv\")"
   ]
  }
 ],
 "metadata": {},
 "nbformat": 4,
 "nbformat_minor": 5
}
