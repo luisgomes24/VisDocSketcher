{
 "cells": [
  {
   "cell_type": "markdown",
   "id": "fed8a7c3",
   "metadata": {},
   "source": [
    "In this notebook we try to predict the house value based on other features given in the data set"
   ]
  },
  {
   "cell_type": "markdown",
   "id": "096ee8b7",
   "metadata": {},
   "source": [
    "### Imports"
   ]
  },
  {
   "cell_type": "code",
   "execution_count": null,
   "id": "74a402ad",
   "metadata": {},
   "outputs": [],
   "source": [
    "import numpy as np  \n",
    "import pandas as pd \n",
    "from pandas.plotting import scatter_matrix\n",
    "from sklearn.model_selection import train_test_split, StratifiedShuffleSplit\n",
    "from sklearn.linear_model import LinearRegression\n",
    "from sklearn.preprocessing import  MinMaxScaler\n",
    "from sklearn.impute import SimpleImputer\n",
    "from sklearn.model_selection import cross_validate\n",
    "from sklearn.metrics import mean_absolute_error, mean_squared_error, r2_score\n",
    "from sklearn.neural_network import MLPRegressor\n",
    "from sklearn.tree import DecisionTreeRegressor\n",
    "import matplotlib.pyplot as plt\n",
    "%matplotlib inline"
   ]
  },
  {
   "cell_type": "markdown",
   "id": "2a474bea",
   "metadata": {},
   "source": [
    "### Load Data"
   ]
  },
  {
   "cell_type": "code",
   "execution_count": null,
   "id": "8ceaa1dd",
   "metadata": {},
   "outputs": [],
   "source": [
    "housing_data = pd.read_csv(\"../input/hands-on-machine-learning-housing-dataset/housing.csv\")\n"
   ]
  },
  {
   "cell_type": "markdown",
   "id": "4e0228cf",
   "metadata": {},
   "source": [
    "### Data overview"
   ]
  },
  {
   "cell_type": "code",
   "execution_count": null,
   "id": "831dd0c1",
   "metadata": {},
   "outputs": [],
   "source": [
    "housing_data.head()"
   ]
  },
  {
   "cell_type": "code",
   "execution_count": null,
   "id": "1250da31",
   "metadata": {},
   "outputs": [],
   "source": [
    "housing_data.describe()"
   ]
  },
  {
   "cell_type": "code",
   "execution_count": null,
   "id": "6e371e0b",
   "metadata": {},
   "outputs": [],
   "source": [
    "housing_data.info()"
   ]
  },
  {
   "cell_type": "code",
   "execution_count": null,
   "id": "fbeac464",
   "metadata": {},
   "outputs": [],
   "source": [
    "housing_data['ocean_proximity'].value_counts()"
   ]
  },
  {
   "cell_type": "code",
   "execution_count": null,
   "id": "18ec20fd",
   "metadata": {},
   "outputs": [],
   "source": [
    "housing_data.hist(bins=50, figsize=(20,15))"
   ]
  },
  {
   "cell_type": "markdown",
   "id": "5f285932",
   "metadata": {},
   "source": [
    "### Data  Visualization"
   ]
  },
  {
   "cell_type": "code",
   "execution_count": null,
   "id": "4cab7b2d",
   "metadata": {},
   "outputs": [],
   "source": [
    "housing_data.plot(kind='scatter', x='longitude', y='latitude', alpha=0.4, s=housing_data['population']/100, \n",
    "                  label='population', figsize=(10,7), c='median_house_value', cmap=plt.get_cmap('jet'), colorbar=True       \n",
    "                 )"
   ]
  },
  {
   "cell_type": "markdown",
   "id": "89cc4c4c",
   "metadata": {},
   "source": [
    "The radius of each circle represents the popultion"
   ]
  },
  {
   "cell_type": "markdown",
   "id": "f394bca3",
   "metadata": {},
   "source": [
    "### Correlations"
   ]
  },
  {
   "cell_type": "code",
   "execution_count": null,
   "id": "63ef46a9",
   "metadata": {},
   "outputs": [],
   "source": [
    "cor_mat = housing_data.corr()\n",
    "cor_mat"
   ]
  },
  {
   "cell_type": "code",
   "execution_count": null,
   "id": "d1628c7d",
   "metadata": {},
   "outputs": [],
   "source": [
    "scatter_matrix(housing_data[['median_income','housing_median_age', 'total_rooms']], figsize=(12,8))"
   ]
  },
  {
   "cell_type": "markdown",
   "id": "3d9f1caf",
   "metadata": {},
   "source": [
    "## Data Preprocessing"
   ]
  },
  {
   "cell_type": "markdown",
   "id": "f7b101ce",
   "metadata": {},
   "source": [
    "## using one hot encoding to convert catagorical value to numeric"
   ]
  },
  {
   "cell_type": "code",
   "execution_count": null,
   "id": "3c54735d",
   "metadata": {},
   "outputs": [],
   "source": [
    "data = pd.get_dummies(housing_data)\n",
    "data.head(5)"
   ]
  },
  {
   "cell_type": "markdown",
   "id": "e616211d",
   "metadata": {},
   "source": [
    "## Handling missing data using imputation"
   ]
  },
  {
   "cell_type": "code",
   "execution_count": null,
   "id": "231396fc",
   "metadata": {},
   "outputs": [],
   "source": [
    "print(data.isnull().sum())"
   ]
  },
  {
   "cell_type": "code",
   "execution_count": null,
   "id": "bdb125d8",
   "metadata": {},
   "outputs": [],
   "source": [
    "imputer = SimpleImputer()\n",
    "imputed_data = imputer.fit_transform(data)\n",
    "imputed_data = pd.DataFrame(imputed_data, columns = data.columns)\n",
    "\n",
    "print(imputed_data.isnull().sum())"
   ]
  },
  {
   "cell_type": "markdown",
   "id": "9e72763e",
   "metadata": {},
   "source": [
    "### Scaling the data"
   ]
  },
  {
   "cell_type": "code",
   "execution_count": null,
   "id": "ff967b39",
   "metadata": {},
   "outputs": [],
   "source": [
    "min_max_scaler = MinMaxScaler()\n",
    "scaled_data =  min_max_scaler.fit_transform(imputed_data) \n",
    "scaled_data = pd.DataFrame(scaled_data, columns = imputed_data.columns)"
   ]
  },
  {
   "cell_type": "markdown",
   "id": "d3195383",
   "metadata": {},
   "source": [
    "### Splitting data"
   ]
  },
  {
   "cell_type": "code",
   "execution_count": null,
   "id": "3d69fd16",
   "metadata": {},
   "outputs": [],
   "source": [
    "X = scaled_data.drop('median_house_value', axis=1)\n",
    "y = scaled_data['median_house_value']  \n",
    "X_train, X_test, y_train, y_test = train_test_split(X, y, random_state=0, test_size=0.2)\n"
   ]
  },
  {
   "cell_type": "markdown",
   "id": "5f01583c",
   "metadata": {},
   "source": [
    "## Using Linear Regression"
   ]
  },
  {
   "cell_type": "code",
   "execution_count": null,
   "id": "29dc2338",
   "metadata": {},
   "outputs": [],
   "source": [
    "linear_reg = LinearRegression()\n",
    "linear_model = linear_reg.fit(X_train, y_train)\n",
    "predictions = linear_model.predict(X_test)\n",
    "predictions"
   ]
  },
  {
   "cell_type": "markdown",
   "id": "b383bbee",
   "metadata": {},
   "source": [
    "## Model Evaluation"
   ]
  },
  {
   "cell_type": "code",
   "execution_count": null,
   "id": "12395b31",
   "metadata": {},
   "outputs": [],
   "source": [
    "print('MAE',mean_absolute_error(y_test, predictions))\n",
    "print('MSE', mean_squared_error(y_test, predictions))\n",
    "print('R2 score', r2_score(y_test, predictions))"
   ]
  },
  {
   "cell_type": "markdown",
   "id": "f76a1d10",
   "metadata": {},
   "source": [
    "## Using Neural Network"
   ]
  },
  {
   "cell_type": "code",
   "execution_count": null,
   "id": "8c93cde9",
   "metadata": {},
   "outputs": [],
   "source": [
    "nn = MLPRegressor(random_state=1, max_iter=300,  n_iter_no_change=10)\n",
    "nn_model = nn.fit(X_train, y_train)"
   ]
  },
  {
   "cell_type": "code",
   "execution_count": null,
   "id": "72ab8d56",
   "metadata": {},
   "outputs": [],
   "source": [
    "nn_predictions = nn_model.predict(X_test) "
   ]
  },
  {
   "cell_type": "code",
   "execution_count": null,
   "id": "d8ce84b2",
   "metadata": {},
   "outputs": [],
   "source": [
    "print('mean accuracy on the given test data and labels.', nn_model.score(X_test, y_test))"
   ]
  },
  {
   "cell_type": "markdown",
   "id": "ec6cdf3a",
   "metadata": {},
   "source": [
    "## Using Decision Tree Regressor"
   ]
  },
  {
   "cell_type": "code",
   "execution_count": null,
   "id": "07a93114",
   "metadata": {},
   "outputs": [],
   "source": [
    "dec_tree_reg = DecisionTreeRegressor()\n",
    "dec_tree_model = dec_tree_reg.fit(X_train, y_train)"
   ]
  },
  {
   "cell_type": "code",
   "execution_count": null,
   "id": "26230989",
   "metadata": {},
   "outputs": [],
   "source": [
    "dec_predict = dec_tree_model.predict(X_test)"
   ]
  },
  {
   "cell_type": "code",
   "execution_count": null,
   "id": "41b8639f",
   "metadata": {},
   "outputs": [],
   "source": [
    "print('MAE',mean_absolute_error(y_test, dec_predict))\n",
    "print('MSE', mean_squared_error(y_test, dec_predict))\n",
    "print('R2 score', r2_score(y_test, dec_predict))"
   ]
  },
  {
   "cell_type": "code",
   "execution_count": null,
   "id": "d7349cb5",
   "metadata": {},
   "outputs": [],
   "source": [
    "nan"
   ]
  }
 ],
 "metadata": {},
 "nbformat": 4,
 "nbformat_minor": 5
}
