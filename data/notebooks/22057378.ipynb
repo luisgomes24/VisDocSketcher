{
 "cells": [
  {
   "cell_type": "code",
   "execution_count": null,
   "id": "b4bb726a",
   "metadata": {},
   "outputs": [],
   "source": [
    "import os\n",
    "import albumentations as A\n",
    "import cv2\n",
    "import matplotlib.pyplot as plt\n",
    "import numpy as np\n",
    "import pandas as pd\n",
    "from PIL import Image\n",
    "\n",
    "from albumentations import (\n",
    "    HorizontalFlip, VerticalFlip, Rotate, CenterCrop, Resize\n",
    ")"
   ]
  },
  {
   "cell_type": "code",
   "execution_count": null,
   "id": "241737ea",
   "metadata": {},
   "outputs": [],
   "source": [
    "filepath = \"../input/animal-imbalance-classification/train_images/image_0.png\""
   ]
  },
  {
   "cell_type": "code",
   "execution_count": null,
   "id": "db1b6044",
   "metadata": {},
   "outputs": [],
   "source": [
    "image_before = np.array(Image.open(filepath))\n",
    "image = Image.open(filepath)"
   ]
  },
  {
   "cell_type": "code",
   "execution_count": null,
   "id": "97830ded",
   "metadata": {},
   "outputs": [],
   "source": [
    "Horiz_aug = HorizontalFlip(p=0.75)\n",
    "\n",
    "image_after1 = Horiz_aug(image=image_before)['image']\n",
    "image_after2 = Horiz_aug(image=image_before)['image']\n",
    "image_after3 = Horiz_aug(image=image_before)['image']\n",
    "image_after4 = Horiz_aug(image=image_before)['image']\n",
    "image_after5 = Horiz_aug(image=image_before)['image']\n",
    "image_after6 = Horiz_aug(image=image_before)['image']\n",
    "image_after7 = Horiz_aug(image=image_before)['image']\n",
    "image_after8 = Horiz_aug(image=image_before)['image']\n",
    "image_after9 = Horiz_aug(image=image_before)['image']"
   ]
  },
  {
   "cell_type": "code",
   "execution_count": null,
   "id": "ee38cb32",
   "metadata": {},
   "outputs": [],
   "source": [
    "# 画像の数例を表示\n",
    "fig, axes = plt.subplots(1, 10, figsize=(20, 30))\n",
    "axes[0].imshow(image)\n",
    "axes[1].imshow(image_after1)\n",
    "axes[2].imshow(image_after2)\n",
    "axes[3].imshow(image_after3)\n",
    "axes[4].imshow(image_after4)\n",
    "axes[5].imshow(image_after5)\n",
    "axes[6].imshow(image_after6)\n",
    "axes[7].imshow(image_after7)\n",
    "axes[8].imshow(image_after8)\n",
    "axes[9].imshow(image_after9)\n",
    "\n",
    "plt.show()"
   ]
  },
  {
   "cell_type": "code",
   "execution_count": null,
   "id": "6b6dfa37",
   "metadata": {},
   "outputs": [],
   "source": [
    "Horiz_aug = HorizontalFlip(p=1.00)\n",
    "\n",
    "image_after1 = Horiz_aug(image=image_before)['image']\n",
    "image_after2 = Horiz_aug(image=image_before)['image']\n",
    "image_after3 = Horiz_aug(image=image_before)['image']\n",
    "image_after4 = Horiz_aug(image=image_before)['image']\n",
    "image_after5 = Horiz_aug(image=image_before)['image']\n",
    "image_after6 = Horiz_aug(image=image_before)['image']\n",
    "image_after7 = Horiz_aug(image=image_before)['image']\n",
    "image_after8 = Horiz_aug(image=image_before)['image']\n",
    "image_after9 = Horiz_aug(image=image_before)['image']"
   ]
  },
  {
   "cell_type": "code",
   "execution_count": null,
   "id": "e3198e33",
   "metadata": {},
   "outputs": [],
   "source": [
    "# 画像の数例を表示\n",
    "fig, axes = plt.subplots(1, 10, figsize=(20, 30))\n",
    "axes[0].imshow(image)\n",
    "axes[1].imshow(image_after1)\n",
    "axes[2].imshow(image_after2)\n",
    "axes[3].imshow(image_after3)\n",
    "axes[4].imshow(image_after4)\n",
    "axes[5].imshow(image_after5)\n",
    "axes[6].imshow(image_after6)\n",
    "axes[7].imshow(image_after7)\n",
    "axes[8].imshow(image_after8)\n",
    "axes[9].imshow(image_after9)\n",
    "\n",
    "plt.show()"
   ]
  },
  {
   "cell_type": "code",
   "execution_count": null,
   "id": "26359aae",
   "metadata": {},
   "outputs": [],
   "source": [
    "Horiz_aug = HorizontalFlip(p=0.25)\n",
    "\n",
    "image_after1 = Horiz_aug(image=image_before)['image']\n",
    "image_after2 = Horiz_aug(image=image_before)['image']\n",
    "image_after3 = Horiz_aug(image=image_before)['image']\n",
    "image_after4 = Horiz_aug(image=image_before)['image']\n",
    "image_after5 = Horiz_aug(image=image_before)['image']\n",
    "image_after6 = Horiz_aug(image=image_before)['image']\n",
    "image_after7 = Horiz_aug(image=image_before)['image']\n",
    "image_after8 = Horiz_aug(image=image_before)['image']\n",
    "image_after9 = Horiz_aug(image=image_before)['image']"
   ]
  },
  {
   "cell_type": "code",
   "execution_count": null,
   "id": "b55a6369",
   "metadata": {},
   "outputs": [],
   "source": [
    "# 画像の数例を表示\n",
    "fig, axes = plt.subplots(1, 10, figsize=(20, 30))\n",
    "axes[0].imshow(image)\n",
    "axes[1].imshow(image_after1)\n",
    "axes[2].imshow(image_after2)\n",
    "axes[3].imshow(image_after3)\n",
    "axes[4].imshow(image_after4)\n",
    "axes[5].imshow(image_after5)\n",
    "axes[6].imshow(image_after6)\n",
    "axes[7].imshow(image_after7)\n",
    "axes[8].imshow(image_after8)\n",
    "axes[9].imshow(image_after9)\n",
    "\n",
    "plt.show()"
   ]
  },
  {
   "cell_type": "code",
   "execution_count": null,
   "id": "1c5065a5",
   "metadata": {},
   "outputs": [],
   "source": [
    "nan"
   ]
  }
 ],
 "metadata": {},
 "nbformat": 4,
 "nbformat_minor": 5
}
