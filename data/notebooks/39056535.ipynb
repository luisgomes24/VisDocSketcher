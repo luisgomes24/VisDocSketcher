{
 "cells": [
  {
   "cell_type": "markdown",
   "id": "c096aa7d",
   "metadata": {},
   "source": [
    "<h1 style=\"color:#159364; font-family:verdana;\"> <center>🫀Heart Disease Diagnosis</center> </h1>"
   ]
  },
  {
   "cell_type": "markdown",
   "id": "aeb443fd",
   "metadata": {},
   "source": [
    "# DataSet Information:\n",
    "The dataset you provided contains information on various attributes related to heart disease. Here is a description of each attribute:\n",
    "\n",
    "| Attribute                          | Attribute Type | Attribute Values                       |\n",
    "|------------------------------------|----------------|----------------------------------------|\n",
    "| age                                | Real           |                                        |\n",
    "| sex                                | Binary         | 0 = Female, 1 = Male                   |\n",
    "| chest pain type                    | Nominal        | 1 = Typical angina,                    |\n",
    "|                                    |                | 2 = Atypical angina,                   |\n",
    "|                                    |                | 3 = Non-anginal pain,                  |\n",
    "|                                    |                | 4 = Asymptomatic                       |\n",
    "| resting blood pressure             | Real           |                                        |\n",
    "| serum cholestoral                  | Real           |                                        |\n",
    "| fasting blood sugar                | Binary         | 0 = No, 1 = Yes                        |\n",
    "| resting electrocardiographic       | Nominal        | 0 = Normal,                            |\n",
    "| results                            |                | 1 = Abnormality related to ST-T wave,  |\n",
    "|                                    |                | 2 = Left ventricular hypertrophy       |\n",
    "| max heart rate                     | Real           |                                        |\n",
    "| exercise induced angina            | Binary         | 0 = No, 1 = Yes                        |\n",
    "| oldpeak                            | Real           |                                        |\n",
    "| ST segment                         | Ordered        | 1 = Upsloping,                         |\n",
    "|                                    |                | 2 = Flat,                              |\n",
    "|                                    |                | 3 = Downsloping                        |\n",
    "| major vessels                      | Real           |                                        |\n",
    "| thal                               | Nominal        | 3 = Normal,                            |\n",
    "|                                    |                | 6 = Fixed defect,                      |\n",
    "|                                    |                | 7 = Reversible defect                  |\n",
    "| heart disease                      | Binary         | 1 = Absence,                           |\n",
    "|                                    |                | 2 = Presence                           |\n",
    "\n",
    "The dataset consists of a total of 270 observations, with no missing values. The goal is to predict whether a patient has heart disease based on the given attribute information. The cost matrix indicates the cost associated with misclassifying the true and predicted values, where the cost of predicting absence when the true value is absence is 0, the cost of predicting presence when the true value is presence is 0, and the cost of predicting absence when the true value is presence, or predicting presence when the true value is absence, is 5."
   ]
  },
  {
   "cell_type": "markdown",
   "id": "b5c55a31",
   "metadata": {},
   "source": [
    "# 📚Importing Libraries"
   ]
  },
  {
   "cell_type": "code",
   "execution_count": null,
   "id": "a9586697",
   "metadata": {},
   "outputs": [],
   "source": [
    "import numpy as np\n",
    "import pandas as pd\n",
    "\n",
    "from matplotlib import pyplot as plt\n",
    "import seaborn as sns\n",
    "\n",
    "from sklearn.model_selection import train_test_split, cross_val_score\n",
    "from sklearn.ensemble import RandomForestClassifier\n",
    "from sklearn.metrics import accuracy_score, confusion_matrix, classification_report, roc_curve, auc, precision_recall_curve"
   ]
  },
  {
   "cell_type": "code",
   "execution_count": null,
   "id": "9def1599",
   "metadata": {},
   "outputs": [],
   "source": [
    "import os\n",
    "for dirname, _, filenames in os.walk('/kaggle/input'):\n",
    "    for filename in filenames:\n",
    "        print(os.path.join(dirname, filename))"
   ]
  },
  {
   "cell_type": "markdown",
   "id": "63e7551c",
   "metadata": {},
   "source": [
    "# Data Overview"
   ]
  },
  {
   "cell_type": "code",
   "execution_count": null,
   "id": "97c33bb3",
   "metadata": {},
   "outputs": [],
   "source": [
    "df= pd.read_csv('/kaggle/input/heart-disease-diagnosis-dataset/dataset_heart.csv')\n",
    "df.head()"
   ]
  },
  {
   "cell_type": "markdown",
   "id": "4dfd7cc2",
   "metadata": {},
   "source": [
    "# 🧮Summary statistics"
   ]
  },
  {
   "cell_type": "code",
   "execution_count": null,
   "id": "13a891d5",
   "metadata": {},
   "outputs": [],
   "source": [
    "df.describe().T"
   ]
  },
  {
   "cell_type": "markdown",
   "id": "18a0aab4",
   "metadata": {},
   "source": [
    "# Detecting outliers"
   ]
  },
  {
   "cell_type": "code",
   "execution_count": null,
   "id": "c9ca5f38",
   "metadata": {},
   "outputs": [],
   "source": [
    "def boxplots(df):\n",
    "    cols = df.columns[:-1]\n",
    "    n = (len(cols) - 1) // 6 + 1\n",
    "    m = min(len(cols), 6)\n",
    "    fig, axes = plt.subplots(nrows=n, ncols=m, figsize=(15, 10))\n",
    "    for idx, col in enumerate(cols):\n",
    "        i = idx // m\n",
    "        j = idx % m\n",
    "        sns.boxplot(data=df, x=col, ax=axes[i][j])\n",
    "\n",
    "    plt.tight_layout()\n",
    "    plt.show()\n",
    "\n",
    "boxplots(df)"
   ]
  },
  {
   "cell_type": "markdown",
   "id": "023e0506",
   "metadata": {},
   "source": [
    "# Fixing outliers"
   ]
  },
  {
   "cell_type": "code",
   "execution_count": null,
   "id": "844fb031",
   "metadata": {},
   "outputs": [],
   "source": [
    "def outliers_removal(df, i):\n",
    "    perc = np.percentile(df[i], [0, 25, 50, 75, 100])\n",
    "    iqr = perc[3] - perc[1]\n",
    "    _min = perc[1] - 1.5*iqr\n",
    "    _max = perc[3] + 1.5*iqr\n",
    "    df.loc[df[i] > _max, i] = _max\n",
    "    df.loc[df[i] < _min, i] = _min\n",
    "    return df"
   ]
  },
  {
   "cell_type": "code",
   "execution_count": null,
   "id": "83001cba",
   "metadata": {},
   "outputs": [],
   "source": [
    "for i in df.columns[:-1]:\n",
    "    df = outliers_removal(df, i)"
   ]
  },
  {
   "cell_type": "code",
   "execution_count": null,
   "id": "bd57fc47",
   "metadata": {},
   "outputs": [],
   "source": [
    "boxplots(df)"
   ]
  },
  {
   "cell_type": "markdown",
   "id": "10e7054f",
   "metadata": {},
   "source": [
    "# 🌲Random Forest Model"
   ]
  },
  {
   "cell_type": "code",
   "execution_count": null,
   "id": "1abcbb79",
   "metadata": {},
   "outputs": [],
   "source": [
    "X = df.drop('heart disease', axis=1)\n",
    "y = df['heart disease']\n",
    "y = y.map({1: 0, 2: 1})\n",
    "X_train, X_test, y_train, y_test = train_test_split(X, y, test_size=0.2, random_state=42)\n",
    "\n",
    "model = RandomForestClassifier(n_estimators=100, random_state=42)\n",
    "model.fit(X_train, y_train)\n",
    "\n",
    "y_pred = model.predict(X_test)"
   ]
  },
  {
   "cell_type": "markdown",
   "id": "ce3cd439",
   "metadata": {},
   "source": [
    "# Evaluating model(Accuracy, CM, ROC Curve, Precision-Recall curve, Cross-Validation Scores)"
   ]
  },
  {
   "cell_type": "code",
   "execution_count": null,
   "id": "617feed1",
   "metadata": {},
   "outputs": [],
   "source": [
    "accuracy = accuracy_score(y_test, y_pred)\n",
    "print('Accuracy:', accuracy)\n",
    "\n",
    "cm = confusion_matrix(y_test, y_pred)\n",
    "print('Confusion Matrix:')\n",
    "print(cm)\n",
    "\n",
    "report = classification_report(y_test, y_pred)\n",
    "print('Classification Report:')\n",
    "print(report)\n",
    "\n",
    "probas = model.predict_proba(X_test)\n",
    "fpr, tpr, thresholds = roc_curve(y_test, probas[:, 1])\n",
    "roc_auc = auc(fpr, tpr)\n",
    "\n",
    "plt.figure()\n",
    "plt.plot(fpr, tpr, label='ROC curve (area = %0.2f)' % roc_auc)\n",
    "plt.plot([0, 1], [0, 1], 'k--')\n",
    "plt.xlim([0.0, 1.0])\n",
    "plt.ylim([0.0, 1.05])\n",
    "plt.xlabel('False Positive Rate')\n",
    "plt.ylabel('True Positive Rate')\n",
    "plt.title('Receiver Operating Characteristic')\n",
    "plt.legend(loc=\"lower right\")\n",
    "plt.show()\n",
    "\n",
    "precision, recall, thresholds = precision_recall_curve(y_test, probas[:, 1])\n",
    "\n",
    "plt.figure()\n",
    "plt.plot(recall, precision, label='Precision-Recall curve')\n",
    "plt.xlabel('Recall')\n",
    "plt.ylabel('Precision')\n",
    "plt.title('Precision-Recall Curve')\n",
    "plt.legend(loc=\"lower left\")\n",
    "plt.show()\n",
    "\n",
    "cv_scores = cross_val_score(model, X, y, cv=5)\n",
    "print('Cross-Validation Scores:', cv_scores)\n",
    "print('Average Cross-Validation Score:', np.mean(cv_scores))"
   ]
  },
  {
   "cell_type": "markdown",
   "id": "6ade2baf",
   "metadata": {},
   "source": [
    "The results obtained from the evaluation metrics provide information about the performance of the classification model.\n",
    "\n",
    "- Accuracy: The accuracy of the model is 0.8518, which means it correctly predicts the presence or absence of heart disease in approximately 85.18% of the cases.\n",
    "\n",
    "- Confusion Matrix: The confusion matrix shows the number of true positive (31), true negative (15), false positive (2), and false negative (6) predictions. In this case, the model correctly predicted 31 instances of absence of heart disease and 15 instances of presence of heart disease. However, it misclassified 2 instances of absence as presence and 6 instances of presence as absence.\n",
    "\n",
    "- Classification Report: The classification report provides metrics such as precision, recall, and F1-score for each class (1 and 2) in the dataset. Precision measures the proportion of true positive predictions out of all positive predictions, recall measures the proportion of true positive predictions out of all actual positives, and F1-score is the harmonic mean of precision and recall. The weighted average F1-score is 0.85, indicating a reasonable balance between precision and recall for both classes."
   ]
  }
 ],
 "metadata": {},
 "nbformat": 4,
 "nbformat_minor": 5
}
