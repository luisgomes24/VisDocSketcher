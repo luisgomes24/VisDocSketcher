{
 "cells": [
  {
   "cell_type": "markdown",
   "id": "eddfa653",
   "metadata": {},
   "source": [
    "**[SQL Home Page](https://www.kaggle.com/learn/intro-to-sql)**\n",
    "\n",
    "---\n"
   ]
  },
  {
   "cell_type": "markdown",
   "id": "e99f6cf1",
   "metadata": {},
   "source": [
    "# Introduction\n",
    "\n",
    "The first test of your new data exploration skills uses data describing crime in the city of Chicago.\n",
    "\n",
    "Before you get started, run the following cell. It sets up the automated feedback system to review your answers."
   ]
  },
  {
   "cell_type": "code",
   "execution_count": null,
   "id": "726f9456",
   "metadata": {},
   "outputs": [],
   "source": [
    "# Set up feedack system\n",
    "from learntools.core import binder\n",
    "binder.bind(globals())\n",
    "from learntools.sql.ex1 import *\n",
    "print(\"Setup Complete\")"
   ]
  },
  {
   "cell_type": "markdown",
   "id": "dae0e303",
   "metadata": {},
   "source": [
    "Use the next code cell to fetch the dataset."
   ]
  },
  {
   "cell_type": "code",
   "execution_count": null,
   "id": "ca81ceb6",
   "metadata": {},
   "outputs": [],
   "source": [
    "from google.cloud import bigquery\n",
    "\n",
    "# Create a \"Client\" object\n",
    "client = bigquery.Client()\n",
    "\n",
    "# Construct a reference to the \"chicago_crime\" dataset\n",
    "dataset_ref = client.dataset(\"chicago_crime\", project=\"bigquery-public-data\")\n",
    "\n",
    "# API request - fetch the dataset\n",
    "dataset = client.get_dataset(dataset_ref)"
   ]
  },
  {
   "cell_type": "markdown",
   "id": "65f9782b",
   "metadata": {},
   "source": [
    "# Exercises\n",
    "\n",
    "### 1) Count tables in the dataset\n",
    "\n",
    "How many tables are in the Chicago Crime dataset?"
   ]
  },
  {
   "cell_type": "code",
   "execution_count": null,
   "id": "7e41e0ff",
   "metadata": {},
   "outputs": [],
   "source": [
    "# Write the code you need here to figure out the answer\n",
    "tables = list(client.list_tables(dataset))\n",
    "for table in tables:\n",
    "    print(table.table_id)"
   ]
  },
  {
   "cell_type": "code",
   "execution_count": null,
   "id": "ba424cf0",
   "metadata": {},
   "outputs": [],
   "source": [
    "num_tables = 1  # Store the answer as num_tables and then run this cell\n",
    "\n",
    "q_1.check()"
   ]
  },
  {
   "cell_type": "markdown",
   "id": "2d9d4131",
   "metadata": {},
   "source": [
    "For a hint or the solution, uncomment the appropriate line below."
   ]
  },
  {
   "cell_type": "code",
   "execution_count": null,
   "id": "7899588c",
   "metadata": {},
   "outputs": [],
   "source": [
    "#q_1.hint()\n",
    "#q_1.solution()"
   ]
  },
  {
   "cell_type": "markdown",
   "id": "5582d54c",
   "metadata": {},
   "source": [
    "### 2) Explore the table schema\n",
    "\n",
    "How many columns in the `crime` table have `TIMESTAMP` data?"
   ]
  },
  {
   "cell_type": "code",
   "execution_count": null,
   "id": "21197585",
   "metadata": {},
   "outputs": [],
   "source": [
    "# Write the code to figure out the answer\n",
    "table_ref = dataset_ref.table('crime')\n",
    "table = client.get_table(table_ref)\n",
    "table.schema"
   ]
  },
  {
   "cell_type": "code",
   "execution_count": null,
   "id": "46c543b8",
   "metadata": {},
   "outputs": [],
   "source": [
    "num_timestamp_fields = 2 # Put your answer here\n",
    "\n",
    "q_2.check()"
   ]
  },
  {
   "cell_type": "markdown",
   "id": "8326bac8",
   "metadata": {},
   "source": [
    "For a hint or the solution, uncomment the appropriate line below."
   ]
  },
  {
   "cell_type": "code",
   "execution_count": null,
   "id": "dded6e4e",
   "metadata": {},
   "outputs": [],
   "source": [
    "q_2.hint()\n",
    "#q_2.solution()"
   ]
  },
  {
   "cell_type": "markdown",
   "id": "d0e40db3",
   "metadata": {},
   "source": [
    "### 3) Create a crime map\n",
    "\n",
    "If you wanted to create a map with a dot at the location of each crime, what are the names of the two fields you likely need to pull out of the `crime` table to plot the crimes on a map?"
   ]
  },
  {
   "cell_type": "code",
   "execution_count": null,
   "id": "da2cfc68",
   "metadata": {},
   "outputs": [],
   "source": [
    "# Write the code here to explore the data so you can find the answer\n",
    "client.list_rows(table, max_results=5).to_dataframe()"
   ]
  },
  {
   "cell_type": "code",
   "execution_count": null,
   "id": "d7cb8fa2",
   "metadata": {},
   "outputs": [],
   "source": [
    "'latitude', 'longitude'\n",
    "\n",
    "q_3.check()"
   ]
  },
  {
   "cell_type": "markdown",
   "id": "e58e7308",
   "metadata": {},
   "source": [
    "For a hint or the solution, uncomment the appropriate line below."
   ]
  },
  {
   "cell_type": "code",
   "execution_count": null,
   "id": "7f2b8b21",
   "metadata": {},
   "outputs": [],
   "source": [
    "#q_3.hint()\n",
    "#q_3.solution()"
   ]
  },
  {
   "cell_type": "markdown",
   "id": "177192d2",
   "metadata": {},
   "source": [
    "Thinking about the question above, there are a few columns that appear to have geographic data. Look at a few values (with the `list_rows()` command) to see if you can determine their relationship.  Two columns will still be hard to interpret. But it should be obvious how the `location` column relates to `latitude` and `longitude`."
   ]
  },
  {
   "cell_type": "code",
   "execution_count": null,
   "id": "0f887d08",
   "metadata": {},
   "outputs": [],
   "source": [
    "# Scratch space for your code"
   ]
  },
  {
   "cell_type": "markdown",
   "id": "ffa4ae1e",
   "metadata": {},
   "source": [
    "# Keep going\n",
    "\n",
    "You've looked at the schema, but you haven't yet done anything exciting with the data itself. Things get more interesting when you get to the data, so keep going to **[write your first SQL query](https://www.kaggle.com/dansbecker/select-from-where).**"
   ]
  },
  {
   "cell_type": "markdown",
   "id": "02ac049e",
   "metadata": {},
   "source": [
    "---\n",
    "**[SQL Home Page](https://www.kaggle.com/learn/intro-to-sql)**\n",
    "\n",
    "\n",
    "\n",
    "\n",
    "\n",
    "*Have questions or comments? Visit the [Learn Discussion forum](https://www.kaggle.com/learn-forum) to chat with other Learners.*"
   ]
  }
 ],
 "metadata": {},
 "nbformat": 4,
 "nbformat_minor": 5
}
