{
 "cells": [
  {
   "cell_type": "markdown",
   "id": "72ed744a",
   "metadata": {},
   "source": [
    "It is assumed that there are some latent features on our likes. For instance, for a movie case, the genre, the actors, the hue, even the hour watched may be the reason for one's like. Moreover, these features correspond with the movie as well. Both, the user features and the movie features have weights in different scalars. \n",
    "\n",
    "For the matrices composing of user features and movie features respectively, it is assumed that the dot products of the features form up the user rating matrice. \n",
    "\n",
    "![resim.png](attachment:98adcf50-dd35-40cb-bb65-d4b603d67f5f.png)\n",
    "\n",
    "This is the loss function. Let rui be the user rate, qi item and pu user feature weights. Since the dot product of qi and pu give the user rate, the difference between their product and the real rate value, i.e the error should be minimum. The aim is to find these p and q values that will give the minimum value of sum of squared errors. These values are calculated by Gradient Descent. \n",
    "\n",
    "After finding p and q, the missing rate values are calculated. \n",
    "\n",
    "In this project, it is aimed to find missing anime ratings of users by matrix factorization. The Anime Recommendations Database will be used.\n"
   ]
  },
  {
   "cell_type": "code",
   "execution_count": null,
   "id": "51ae3726",
   "metadata": {},
   "outputs": [],
   "source": [
    "import numpy as np \n",
    "import pandas as pd "
   ]
  },
  {
   "cell_type": "code",
   "execution_count": null,
   "id": "8f9f207c",
   "metadata": {},
   "outputs": [],
   "source": [
    "from surprise import Reader, SVD, Dataset, accuracy\n",
    "from surprise.model_selection import GridSearchCV, train_test_split, cross_validate\n",
    "pd.set_option('display.max_columns', None)"
   ]
  },
  {
   "cell_type": "code",
   "execution_count": null,
   "id": "75efd060",
   "metadata": {},
   "outputs": [],
   "source": [
    "df1 = pd.read_csv(\"/kaggle/input/anime-recommendations-database/anime.csv\")\n",
    "df2 = pd.read_csv(\"/kaggle/input/anime-recommendations-database/rating.csv\")"
   ]
  },
  {
   "cell_type": "code",
   "execution_count": null,
   "id": "286f64ff",
   "metadata": {},
   "outputs": [],
   "source": [
    "df1.head()"
   ]
  },
  {
   "cell_type": "code",
   "execution_count": null,
   "id": "36b8ca7a",
   "metadata": {},
   "outputs": [],
   "source": [
    "df2.head()"
   ]
  },
  {
   "cell_type": "code",
   "execution_count": null,
   "id": "6786b37c",
   "metadata": {},
   "outputs": [],
   "source": [
    "# Two datasets are merged, so the animes, the users and their ratings are gathered in one dataframe. Here rating_x is overall\n",
    "# rating whereas rating_y is the rating of the user. \n",
    "df = df1.merge(df2, how= \"left\", on=\"anime_id\")\n",
    "df.tail()\n",
    "#rating_x: overall rating, rating_y user's rating"
   ]
  },
  {
   "cell_type": "code",
   "execution_count": null,
   "id": "dfbf2228",
   "metadata": {},
   "outputs": [],
   "source": [
    "df.shape"
   ]
  },
  {
   "cell_type": "code",
   "execution_count": null,
   "id": "ebcdfe63",
   "metadata": {},
   "outputs": [],
   "source": [
    "# Only a few animes will be chosen, so the dataframe is ordered to get the most voted animes.\n",
    "df1.sort_values(\"members\",ascending=False).head()"
   ]
  },
  {
   "cell_type": "code",
   "execution_count": null,
   "id": "74c499b0",
   "metadata": {},
   "outputs": [],
   "source": [
    "#The animes with the most ratings are chosen.\n",
    "anime_ids = [1535,16498, 11757, 5114]"
   ]
  },
  {
   "cell_type": "code",
   "execution_count": null,
   "id": "3618b90b",
   "metadata": {},
   "outputs": [],
   "source": [
    "# A subset dataframe including only chosen anime ids.\n",
    "sample_df = df[df.anime_id.isin(anime_ids)]"
   ]
  },
  {
   "cell_type": "code",
   "execution_count": null,
   "id": "cddb9e32",
   "metadata": {},
   "outputs": [],
   "source": [
    "sample_df.head()"
   ]
  },
  {
   "cell_type": "code",
   "execution_count": null,
   "id": "2abdd16f",
   "metadata": {},
   "outputs": [],
   "source": [
    "# A user - anime pivot table is constructed to apply matrix factorization. \n",
    "user_anime_df = sample_df.pivot_table(index=[\"user_id\"], columns=[\"name\"], values=\"rating_y\")\n",
    "user_anime_df.head()"
   ]
  },
  {
   "cell_type": "code",
   "execution_count": null,
   "id": "538c7598",
   "metadata": {},
   "outputs": [],
   "source": [
    "sample_df[\"rating_y\"].describe()"
   ]
  },
  {
   "cell_type": "code",
   "execution_count": null,
   "id": "8dfd77e1",
   "metadata": {},
   "outputs": [],
   "source": [
    "reader = Reader(rating_scale=(-1, 10))"
   ]
  },
  {
   "cell_type": "code",
   "execution_count": null,
   "id": "4f340fcb",
   "metadata": {},
   "outputs": [],
   "source": [
    "data = Dataset.load_from_df(sample_df[['user_id', 'anime_id', 'rating_y']], reader)"
   ]
  },
  {
   "cell_type": "code",
   "execution_count": null,
   "id": "e8a4d6cf",
   "metadata": {},
   "outputs": [],
   "source": [
    "trainset, testset = train_test_split(data, test_size=.25)\n",
    "\n",
    "svd_model = SVD()\n",
    "svd_model.fit(trainset)\n",
    "\n",
    "predictions = svd_model.test(testset)"
   ]
  },
  {
   "cell_type": "code",
   "execution_count": null,
   "id": "d9ae5432",
   "metadata": {},
   "outputs": [],
   "source": [
    "len(predictions)"
   ]
  },
  {
   "cell_type": "code",
   "execution_count": null,
   "id": "5b7468dc",
   "metadata": {},
   "outputs": [],
   "source": [
    "predictions[0:10]"
   ]
  },
  {
   "cell_type": "code",
   "execution_count": null,
   "id": "cdf91047",
   "metadata": {},
   "outputs": [],
   "source": [
    "accuracy.rmse(predictions)"
   ]
  },
  {
   "cell_type": "code",
   "execution_count": null,
   "id": "6a2c367e",
   "metadata": {},
   "outputs": [],
   "source": [
    "cross_validate(svd_model, data, measures=['RMSE', 'MAE'], cv=5, verbose=False)"
   ]
  },
  {
   "cell_type": "code",
   "execution_count": null,
   "id": "49a4e8b3",
   "metadata": {},
   "outputs": [],
   "source": [
    "svd_model.predict(uid=1.0, iid=1535, verbose=True)"
   ]
  },
  {
   "cell_type": "code",
   "execution_count": null,
   "id": "75516387",
   "metadata": {},
   "outputs": [],
   "source": [
    "svd_model.predict(uid=1.0, iid=5114, verbose=True)"
   ]
  },
  {
   "cell_type": "code",
   "execution_count": null,
   "id": "5f1ef18d",
   "metadata": {},
   "outputs": [],
   "source": [
    "# Cross validation is applied to get lower error values. Then the parameters of this best result is used for fitting the model. \n",
    "\n",
    "param_grid = {'n_epochs': [50, 100], 'lr_all': [0.005, 0.009]}\n",
    "\n",
    "gs = GridSearchCV(SVD, param_grid, measures=['rmse', 'mae'], cv=10, n_jobs=-1, joblib_verbose=True)\n",
    "\n",
    "gs.fit(data)\n",
    "\n",
    "gs.best_score['rmse']\n",
    "\n",
    "\n"
   ]
  },
  {
   "cell_type": "code",
   "execution_count": null,
   "id": "3663228d",
   "metadata": {},
   "outputs": [],
   "source": [
    "gs.best_params['rmse']"
   ]
  },
  {
   "cell_type": "code",
   "execution_count": null,
   "id": "3f886838",
   "metadata": {},
   "outputs": [],
   "source": [
    "gs.best_estimator[\"rmse\"]"
   ]
  },
  {
   "cell_type": "code",
   "execution_count": null,
   "id": "53b985e4",
   "metadata": {},
   "outputs": [],
   "source": [
    "svd_model = gs.best_estimator[\"rmse\"]\n",
    "svd_model.fit(data.build_full_trainset())"
   ]
  },
  {
   "cell_type": "code",
   "execution_count": null,
   "id": "2ed46b48",
   "metadata": {},
   "outputs": [],
   "source": [
    "# The rates of the users with id 1 and 3 will be predicted. Their rates are as following.\n",
    "user_anime_df.head(2)"
   ]
  },
  {
   "cell_type": "code",
   "execution_count": null,
   "id": "5e28899a",
   "metadata": {},
   "outputs": [],
   "source": [
    "df1.loc[df1[\"anime_id\"] == 1535][\"name\"]"
   ]
  },
  {
   "cell_type": "code",
   "execution_count": null,
   "id": "6daeee86",
   "metadata": {},
   "outputs": [],
   "source": [
    "# The user 1.0 did not vote for Death Note, the rating is predicted.\n",
    "svd_model.predict(uid=1.0, iid=1535, verbose=True)"
   ]
  },
  {
   "cell_type": "code",
   "execution_count": null,
   "id": "cfda4a84",
   "metadata": {},
   "outputs": [],
   "source": [
    "df1.loc[df1[\"anime_id\"] == 5114][\"name\"]"
   ]
  },
  {
   "cell_type": "code",
   "execution_count": null,
   "id": "3f08270a",
   "metadata": {},
   "outputs": [],
   "source": [
    "# The user 1.0 did not vote for Fullmetal Alchemist either, the rating is predicted.\n",
    "svd_model.predict(uid=1.0, iid=5114, verbose=True)"
   ]
  },
  {
   "cell_type": "code",
   "execution_count": null,
   "id": "5df4255f",
   "metadata": {},
   "outputs": [],
   "source": [
    "df1.loc[df1[\"anime_id\"] == 16498][\"name\"]"
   ]
  },
  {
   "cell_type": "code",
   "execution_count": null,
   "id": "552991af",
   "metadata": {},
   "outputs": [],
   "source": [
    "# The actual rating of the user 1.0 for Shingeki no Kyojin is -1, so is the predicted rating.\n",
    "svd_model.predict(uid=1.0, iid=16498, verbose=True)"
   ]
  },
  {
   "cell_type": "code",
   "execution_count": null,
   "id": "4fb2c2d7",
   "metadata": {},
   "outputs": [],
   "source": [
    "df1.loc[df1[\"anime_id\"] == 11757][\"name\"]"
   ]
  },
  {
   "cell_type": "code",
   "execution_count": null,
   "id": "cd21ede5",
   "metadata": {},
   "outputs": [],
   "source": [
    "# The actual rating of the user 1.0 for Sword Art Online is 10.0, the predicted rating is 9.0.\n",
    "svd_model.predict(uid=1.0, iid= 11757, verbose=True)"
   ]
  },
  {
   "cell_type": "code",
   "execution_count": null,
   "id": "5b2a2ed7",
   "metadata": {},
   "outputs": [],
   "source": [
    "# The actual rating of the user 3.0 for Death Note is 10.0, the predicted rating is 9.97.\n",
    "svd_model.predict(uid=3.0, iid=1535, verbose=True)"
   ]
  },
  {
   "cell_type": "code",
   "execution_count": null,
   "id": "bee941f7",
   "metadata": {},
   "outputs": [],
   "source": [
    "# The actual rating of the user 3.0 for Fullmetal Alchemist is 10.0, the predicted rating is 9.97.\n",
    "svd_model.predict(uid=3.0, iid=5114, verbose=True)"
   ]
  },
  {
   "cell_type": "code",
   "execution_count": null,
   "id": "87db4954",
   "metadata": {},
   "outputs": [],
   "source": [
    "# The actual rating of the user 3.0 for Shingeki no Kyojin is 10.0, the predicted rating is 9.96.\n",
    "svd_model.predict(uid=3.0, iid=16498, verbose=True)"
   ]
  },
  {
   "cell_type": "code",
   "execution_count": null,
   "id": "a02e8d8f",
   "metadata": {},
   "outputs": [],
   "source": [
    "# The actual rating of the user 3.0 for Sword Art Online is 9.0, the predicted rating is 9.00 as well.\n",
    "svd_model.predict(uid=1.0, iid= 11757, verbose=True)"
   ]
  }
 ],
 "metadata": {},
 "nbformat": 4,
 "nbformat_minor": 5
}
