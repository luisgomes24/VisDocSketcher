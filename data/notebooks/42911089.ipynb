{
 "cells": [
  {
   "cell_type": "markdown",
   "id": "c3912177",
   "metadata": {},
   "source": [
    "# SALES PREDICTION USING PYTHON\n",
    "\n",
    "![](https://assets.website-files.com/60e7f71b22c6d0b9cf329ceb/621e1a2f28ded71ee95aeede_6ProvenSalesForecastingMethodstoDriveRevenue1_a117440b5ae227c3dba5264a6521da06_2000.png)"
   ]
  },
  {
   "cell_type": "markdown",
   "id": "a2c0a2e0",
   "metadata": {},
   "source": [
    "Sales prediction with Python is a powerful tool that businesses can use to forecast future sales based on a variety of factors. By leveraging machine learning techniques, companies can analyze historical data to build predictive models that can be used to make data-driven decisions about marketing strategies, resource allocation, and revenue optimization. By continuously updating the models with new data, businesses can adapt to market dynamics and stay ahead of the competition."
   ]
  },
  {
   "cell_type": "code",
   "execution_count": null,
   "id": "ef7ead8c",
   "metadata": {},
   "outputs": [],
   "source": [
    "# Import necessary libraries\n",
    "import numpy as np\n",
    "import pandas as pd\n",
    "import seaborn as sns\n",
    "import matplotlib.pyplot as plt\n",
    "plt.tight_layout()\n",
    "import os\n",
    "import statsmodels.formula.api as sm\n",
    "from sklearn.linear_model import LinearRegression\n",
    "from sklearn.metrics import mean_squared_error\n",
    "from sklearn.model_selection import train_test_split\n",
    "from sklearn.model_selection import cross_val_score\n",
    "from sklearn.model_selection import GridSearchCV\n",
    "import warnings"
   ]
  },
  {
   "cell_type": "code",
   "execution_count": null,
   "id": "bae8ab96",
   "metadata": {},
   "outputs": [],
   "source": [
    "#set the warning filter\n",
    "warnings.simplefilter(action='ignore', category=FutureWarning)"
   ]
  },
  {
   "cell_type": "code",
   "execution_count": null,
   "id": "3caf0e4a",
   "metadata": {},
   "outputs": [],
   "source": [
    "#Load dataset\n",
    "data_path = \"/kaggle/input/advertisingcsv/Advertising.csv\"\n",
    "df = pd.read_csv(data_path)"
   ]
  },
  {
   "cell_type": "markdown",
   "id": "71b1043b",
   "metadata": {},
   "source": [
    "### Exploratory Data Analysis"
   ]
  },
  {
   "cell_type": "code",
   "execution_count": null,
   "id": "84cf01cc",
   "metadata": {},
   "outputs": [],
   "source": [
    "# Display the first few rows of the dataset\n",
    "df.head()"
   ]
  },
  {
   "cell_type": "code",
   "execution_count": null,
   "id": "d90eae7f",
   "metadata": {},
   "outputs": [],
   "source": [
    "# Get the column names of the dataset\n",
    "df.columns"
   ]
  },
  {
   "cell_type": "code",
   "execution_count": null,
   "id": "d909c557",
   "metadata": {},
   "outputs": [],
   "source": [
    "# To rename the column 'Unnamed: 0' to 'Index'\n",
    "df.rename(columns={'Unnamed: 0': 'Index'}, inplace=True)"
   ]
  },
  {
   "cell_type": "code",
   "execution_count": null,
   "id": "f72581d9",
   "metadata": {},
   "outputs": [],
   "source": [
    "# Get the shape of the dataset (rows, columns)\n",
    "df.shape"
   ]
  },
  {
   "cell_type": "code",
   "execution_count": null,
   "id": "9238be3d",
   "metadata": {},
   "outputs": [],
   "source": [
    "# Check information about the dataset, data types, and missing values\n",
    "df.info()"
   ]
  },
  {
   "cell_type": "code",
   "execution_count": null,
   "id": "d7ce9307",
   "metadata": {},
   "outputs": [],
   "source": [
    "df"
   ]
  },
  {
   "cell_type": "code",
   "execution_count": null,
   "id": "f137528d",
   "metadata": {},
   "outputs": [],
   "source": [
    "# Get statistical summary of the numerical columns\n",
    "df.describe().T"
   ]
  },
  {
   "cell_type": "code",
   "execution_count": null,
   "id": "bb8987c3",
   "metadata": {},
   "outputs": [],
   "source": [
    "# Check for missing values in the dataset\n",
    "df.isnull().values.any()\n",
    "df.isnull().sum()"
   ]
  },
  {
   "cell_type": "markdown",
   "id": "b22a7ecb",
   "metadata": {},
   "source": [
    "### Data Visualization"
   ]
  },
  {
   "cell_type": "code",
   "execution_count": null,
   "id": "d649b9f8",
   "metadata": {},
   "outputs": [],
   "source": [
    "# Scatter plots to check the linearity assumption between each independent variable (TV, Radio, Newspaper) and the dependent variable (Sales)\n",
    "sns.pairplot(df, x_vars=[\"TV\", \"Radio\", \"Newspaper\"], y_vars=\"Sales\", kind=\"reg\")"
   ]
  },
  {
   "cell_type": "code",
   "execution_count": null,
   "id": "8379677b",
   "metadata": {},
   "outputs": [],
   "source": [
    "# Histograms to check the normality assumption of the dependent variable (Sales)\n",
    "df.hist(bins=20, figsize=(12, 9))"
   ]
  },
  {
   "cell_type": "code",
   "execution_count": null,
   "id": "5007c2d5",
   "metadata": {},
   "outputs": [],
   "source": [
    "# Linear regression plots to visualize the relationship between each independent variable and the dependent variable\n",
    "sns.lmplot(x='TV', y='Sales', data=df)\n",
    "sns.lmplot(x='Radio', y='Sales', data=df)\n",
    "sns.lmplot(x='Newspaper', y='Sales', data=df)"
   ]
  },
  {
   "cell_type": "code",
   "execution_count": null,
   "id": "a751e006",
   "metadata": {},
   "outputs": [],
   "source": [
    "# Correlation Heatmap to check for multicollinearity among independent/dependent variables\n",
    "corrmat = df.corr()\n",
    "f, ax = plt.subplots(figsize=(12, 9))\n",
    "sns.heatmap(corrmat, vmin=0, vmax=1, square=True, cmap=\"cividis\", ax=ax)\n",
    "plt.show()"
   ]
  },
  {
   "cell_type": "code",
   "execution_count": null,
   "id": "6d69e3ea",
   "metadata": {},
   "outputs": [],
   "source": [
    "# Model Preparation\n",
    "\n",
    "X = df.drop('Sales', axis=1)\n",
    "y = df[[\"Sales\"]]"
   ]
  },
  {
   "cell_type": "code",
   "execution_count": null,
   "id": "98e7c7d3",
   "metadata": {},
   "outputs": [],
   "source": [
    "X_train, X_test, y_train, y_test = train_test_split(X, y, test_size=0.20, random_state=46)"
   ]
  },
  {
   "cell_type": "code",
   "execution_count": null,
   "id": "4b99325e",
   "metadata": {},
   "outputs": [],
   "source": [
    "# Linear Regression Model\n",
    "\n",
    "lin_model = sm.ols(formula=\"Sales ~ TV + Radio + Newspaper\", data=df).fit()"
   ]
  },
  {
   "cell_type": "code",
   "execution_count": null,
   "id": "354e6a64",
   "metadata": {},
   "outputs": [],
   "source": [
    "# Print the coefficients of the linear model\n",
    "print(lin_model.params, \"\\n\")"
   ]
  },
  {
   "cell_type": "code",
   "execution_count": null,
   "id": "2f76442d",
   "metadata": {},
   "outputs": [],
   "source": [
    "# Print the summary of the linear regression model\n",
    "print(lin_model.summary())"
   ]
  },
  {
   "cell_type": "markdown",
   "id": "e22f6a28",
   "metadata": {},
   "source": [
    "### Evaluate the model"
   ]
  },
  {
   "cell_type": "code",
   "execution_count": null,
   "id": "75b8bbcb",
   "metadata": {},
   "outputs": [],
   "source": [
    "# Define a list of models to evaluate\n",
    "models = [('LinearRegression', LinearRegression())]"
   ]
  },
  {
   "cell_type": "code",
   "execution_count": null,
   "id": "758f88ce",
   "metadata": {},
   "outputs": [],
   "source": [
    "for name, model in models:\n",
    "    model.fit(X_train, y_train)\n",
    "    y_pred = model.predict(X_test)\n",
    "    rmse = np.sqrt(mean_squared_error(y_test, y_pred))\n",
    "    print(f\"{name}: RMSE = {rmse:.2f}\")"
   ]
  },
  {
   "cell_type": "code",
   "execution_count": null,
   "id": "afec97f6",
   "metadata": {},
   "outputs": [],
   "source": [
    "# Make predictions on new data\n",
    "new_data_1 = pd.DataFrame({'TV': [100], 'Radio': [50], 'Newspaper': [25]})\n",
    "predicted_sales_1 = lin_model.predict(new_data_1)\n",
    "print(\"Predicted Sales (Data 1):\", predicted_sales_1)"
   ]
  },
  {
   "cell_type": "code",
   "execution_count": null,
   "id": "d822b398",
   "metadata": {},
   "outputs": [],
   "source": [
    "new_data_2 = pd.DataFrame({'TV': [25], 'Radio': [63], 'Newspaper': [80]})\n",
    "predicted_sales_2 = lin_model.predict(new_data_2)\n",
    "print(\"Predicted Sales (Data 2):\", predicted_sales_2)"
   ]
  },
  {
   "cell_type": "code",
   "execution_count": null,
   "id": "b65999d2",
   "metadata": {},
   "outputs": [],
   "source": [
    "nan"
   ]
  }
 ],
 "metadata": {},
 "nbformat": 4,
 "nbformat_minor": 5
}
