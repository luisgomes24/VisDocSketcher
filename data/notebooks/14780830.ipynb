{
 "cells": [
  {
   "cell_type": "markdown",
   "id": "f14b5740",
   "metadata": {},
   "source": [
    "# **Step 1: Busines Understanding**"
   ]
  },
  {
   "cell_type": "markdown",
   "id": "96cf2365",
   "metadata": {},
   "source": [
    "# **Problem Statement: Prediction of Yahoo Stock Market**"
   ]
  },
  {
   "cell_type": "markdown",
   "id": "8720087c",
   "metadata": {},
   "source": [
    "# ****Data Set: Yahoo Stock Price*****"
   ]
  },
  {
   "cell_type": "markdown",
   "id": "a6d1a588",
   "metadata": {},
   "source": [
    "The problem we are facing is what will be the value of Yahoo's assets in the near future? At this stage some additional questions also need to be reviewed to get a better and more useful data set. For example, what are the factors that can be overlooked in asset prices? Isn't the price dependent on the depreciation of competing companies? Do foreign policies affect asset value? Is inflation not the reason for the rise in asset prices? Etc etc\n"
   ]
  },
  {
   "cell_type": "markdown",
   "id": "02230b51",
   "metadata": {},
   "source": [
    "# **Step 2: Data Exploration**"
   ]
  },
  {
   "cell_type": "markdown",
   "id": "b7219e65",
   "metadata": {},
   "source": [
    "**Import following Libraries**"
   ]
  },
  {
   "cell_type": "code",
   "execution_count": null,
   "id": "4d4f33ac",
   "metadata": {},
   "outputs": [],
   "source": [
    "import pandas as pd \n",
    "from datetime import datetime\n",
    "import numpy as np \n",
    "from sklearn.linear_model import LinearRegression\n",
    "import matplotlib.pyplot as plt"
   ]
  },
  {
   "cell_type": "markdown",
   "id": "eb3a55a9",
   "metadata": {},
   "source": [
    "**Read this Dataset**"
   ]
  },
  {
   "cell_type": "code",
   "execution_count": null,
   "id": "dd62fd23",
   "metadata": {},
   "outputs": [],
   "source": [
    "SPY_data = pd.read_csv(\"../input/data-science-project-lifecycle/SPY_2015.csv\")\n",
    " \n",
    "# Change the Date column from object to datetime object \n",
    "SPY_data[\"Date\"] = pd.to_datetime(SPY_data[\"Date\"])\n",
    " \n",
    "# Preview the data\n",
    "SPY_data.head(10)"
   ]
  },
  {
   "cell_type": "markdown",
   "id": "b9043bff",
   "metadata": {},
   "source": [
    "# **Step 3: Data Cleansing and Transformation**"
   ]
  },
  {
   "cell_type": "markdown",
   "id": "10d2a4eb",
   "metadata": {},
   "source": [
    "**Indexing and Sorting**"
   ]
  },
  {
   "cell_type": "code",
   "execution_count": null,
   "id": "ba7c4f0b",
   "metadata": {},
   "outputs": [],
   "source": [
    "# Set Date as index\n",
    "SPY_data.set_index('Date',inplace=True)\n",
    " \n",
    "# Reverse the order of the dataframe in order to have oldest values at top\n",
    "SPY_data.sort_values('Date',ascending=True)"
   ]
  },
  {
   "cell_type": "markdown",
   "id": "852a24ab",
   "metadata": {},
   "source": [
    "# Check Null Values"
   ]
  },
  {
   "cell_type": "code",
   "execution_count": null,
   "id": "b7d4ec80",
   "metadata": {},
   "outputs": [],
   "source": [
    "# Take the name of the columns of the SPY_data to see if null values exists\n",
    "variables = SPY_data.columns \n",
    "SPY_data.isnull().sum().loc[variables]"
   ]
  },
  {
   "cell_type": "markdown",
   "id": "b623a077",
   "metadata": {},
   "source": [
    "# **Step 4: Exploratory Data Analysis**"
   ]
  },
  {
   "cell_type": "code",
   "execution_count": null,
   "id": "36f77f4d",
   "metadata": {},
   "outputs": [],
   "source": [
    "jet= plt.get_cmap('jet')\n",
    "colors = iter(jet(np.linspace(0,1,10)))\n",
    " \n",
    "def correlation(df,variables, n_rows, n_cols):\n",
    "    fig = plt.figure(figsize=(8,6))\n",
    "    #fig = plt.figure(figsize=(14,9))\n",
    "    for i, var in enumerate(variables):\n",
    "        ax = fig.add_subplot(n_rows,n_cols,i+1)\n",
    "        asset = df.loc[:,var]\n",
    "        ax.scatter(df[\"Adj Close\"], asset, c = next(colors))\n",
    "        ax.set_xlabel(\"Adj Close\")\n",
    "        ax.set_ylabel(\"{}\".format(var))\n",
    "        ax.set_title(var +\" vs price\")\n",
    "    fig.tight_layout() \n",
    "    plt.show()"
   ]
  },
  {
   "cell_type": "markdown",
   "id": "64738c8d",
   "metadata": {},
   "source": [
    "# **Correlation**"
   ]
  },
  {
   "cell_type": "markdown",
   "id": "20b6e335",
   "metadata": {},
   "source": [
    "# Is there any correlation between Volume and Adj Close price?"
   ]
  },
  {
   "cell_type": "code",
   "execution_count": null,
   "id": "ac8b255c",
   "metadata": {},
   "outputs": [],
   "source": [
    "# Is there any correlation between Volume and Adj Close price?\n",
    "variables =SPY_data.columns[-1:] # read last column name\n",
    "correlation(SPY_data,variables,1,1)"
   ]
  },
  {
   "cell_type": "markdown",
   "id": "70c6dc62",
   "metadata": {},
   "source": [
    "# **Is there any correlation between Adj Close price vs. Open, High, Low, Close ?**"
   ]
  },
  {
   "cell_type": "code",
   "execution_count": null,
   "id": "400f41e8",
   "metadata": {},
   "outputs": [],
   "source": [
    "# Is there any correlation between Adj Close price vs. Open, High, Low, Close?\n",
    "variables =SPY_data.columns#[0:6]   \n",
    "correlation(SPY_data,variables,3,3)"
   ]
  },
  {
   "cell_type": "code",
   "execution_count": null,
   "id": "32b1f711",
   "metadata": {},
   "outputs": [],
   "source": [
    "SPY_data.corr()['Adj Close'].loc[variables]"
   ]
  },
  {
   "cell_type": "markdown",
   "id": "b1a90b97",
   "metadata": {},
   "source": [
    "# **Step 5: Featuer Engineering**"
   ]
  },
  {
   "cell_type": "code",
   "execution_count": null,
   "id": "236dcd61",
   "metadata": {},
   "outputs": [],
   "source": [
    "SPY_data['High-Low_pct'] = (SPY_data['High'] - SPY_data['Low']).pct_change()\n",
    "SPY_data['ewm_5'] = SPY_data[\"Close\"].ewm(span=5).mean().shift(periods=1)\n",
    "SPY_data['price_std_5'] = SPY_data[\"Close\"].rolling(center=False,window= 30).std().shift(periods=1)\n",
    " \n",
    "SPY_data['volume Change'] = SPY_data['Volume'].pct_change()\n",
    "SPY_data['volume_avg_5'] = SPY_data[\"Volume\"].rolling(center=False,window=5).mean().shift(periods=1)\n",
    "SPY_data['volume Close'] = SPY_data[\"Volume\"].rolling(center=False,window=5).std().shift(periods=1)"
   ]
  },
  {
   "cell_type": "markdown",
   "id": "d6f4707c",
   "metadata": {},
   "source": [
    "# Correlation with New features"
   ]
  },
  {
   "cell_type": "code",
   "execution_count": null,
   "id": "8f8d274e",
   "metadata": {},
   "outputs": [],
   "source": [
    "jet= plt.get_cmap('jet')\n",
    "colors = iter(jet(np.linspace(0,1,10)))\n",
    "\n",
    "# Take the name of the last 6 columns of the SPY_data which are the model features\n",
    "variables = SPY_data.columns[-6:]  \n",
    " \n",
    "correlation(SPY_data,variables,3,3)"
   ]
  },
  {
   "cell_type": "code",
   "execution_count": null,
   "id": "5e8e361e",
   "metadata": {},
   "outputs": [],
   "source": [
    "SPY_data.corr()['Adj Close'].loc[variables]"
   ]
  },
  {
   "cell_type": "markdown",
   "id": "5967db57",
   "metadata": {},
   "source": [
    "# **Step 6: Build Predictive Model**"
   ]
  },
  {
   "cell_type": "markdown",
   "id": "170d25a9",
   "metadata": {},
   "source": [
    "***Check Null values***"
   ]
  },
  {
   "cell_type": "code",
   "execution_count": null,
   "id": "e7f56596",
   "metadata": {},
   "outputs": [],
   "source": [
    "SPY_data.head(5)"
   ]
  },
  {
   "cell_type": "code",
   "execution_count": null,
   "id": "398a887a",
   "metadata": {},
   "outputs": [],
   "source": [
    "SPY_data.isnull().sum().loc[variables]"
   ]
  },
  {
   "cell_type": "markdown",
   "id": "f38609a4",
   "metadata": {},
   "source": [
    "# **Drop/Remove NA records**"
   ]
  },
  {
   "cell_type": "code",
   "execution_count": null,
   "id": "727aed90",
   "metadata": {},
   "outputs": [],
   "source": [
    "# To train a model, it is necessary to drop missing values.\n",
    "SPY_data = SPY_data.dropna(axis=0)"
   ]
  },
  {
   "cell_type": "markdown",
   "id": "ad5368d8",
   "metadata": {},
   "source": [
    "# **Train & Test Dataset Distribution**"
   ]
  },
  {
   "cell_type": "code",
   "execution_count": null,
   "id": "f84b4d09",
   "metadata": {},
   "outputs": [],
   "source": [
    "# Generate the train and test sets\n",
    "train = SPY_data[SPY_data.index < datetime(year=2015, month=1, day=1)]\n",
    "\n",
    "test = SPY_data[SPY_data.index >= datetime(year=2015, month=1, day=1)]\n",
    "dates = test.index"
   ]
  },
  {
   "cell_type": "markdown",
   "id": "62280f8b",
   "metadata": {},
   "source": [
    "# **Building Regression Model**"
   ]
  },
  {
   "cell_type": "code",
   "execution_count": null,
   "id": "603acf97",
   "metadata": {},
   "outputs": [],
   "source": [
    "lr = LinearRegression()\n",
    "X_train = train[[\"High-Low_pct\",\"ewm_5\",\"price_std_5\",\"volume_avg_5\",\"volume Change\",\"volume Close\"]]\n",
    " \n",
    "Y_train = train[\"Adj Close\"]\n",
    " \n",
    "lr.fit(X_train,Y_train) "
   ]
  },
  {
   "cell_type": "markdown",
   "id": "4504cbcc",
   "metadata": {},
   "source": [
    "# **Test Dataset**"
   ]
  },
  {
   "cell_type": "code",
   "execution_count": null,
   "id": "8fcfde10",
   "metadata": {},
   "outputs": [],
   "source": [
    "# Create the test features dataset (X_test) which will be used to make the predictions.\n",
    "X_test = test[[\"High-Low_pct\",\"ewm_5\",\"price_std_5\",\"volume_avg_5\",\"volume Change\",\"volume Close\"]].values \n",
    "\n",
    "# The labels of the model\n",
    "Y_test = test[\"Adj Close\"].values # will be used for comparison"
   ]
  },
  {
   "cell_type": "markdown",
   "id": "2a13e410",
   "metadata": {},
   "source": [
    "# **Prediction**"
   ]
  },
  {
   "cell_type": "code",
   "execution_count": null,
   "id": "d8823a34",
   "metadata": {},
   "outputs": [],
   "source": [
    "close_predictions = lr.predict(X_test) "
   ]
  },
  {
   "cell_type": "markdown",
   "id": "39c8de65",
   "metadata": {},
   "source": [
    "# **Model Evaluation**"
   ]
  },
  {
   "cell_type": "markdown",
   "id": "54d10f77",
   "metadata": {},
   "source": [
    "**Mean Absolute Error (MAE):**"
   ]
  },
  {
   "cell_type": "markdown",
   "id": "dc6cbd23",
   "metadata": {},
   "source": [
    "In statistics, mean absolute error (MAE) is a measure of errors between paired observations expressing the same phenomenon. Examples of Y versus X include comparisons of predicted versus observed, subsequent time versus initial time, and one technique of measurement versus an alternative technique of measurement. MAE is calculated as:\n",
    "![../input/data-science-project-lifecycle/mae_eq.PNG](http://)\n",
    "The mean absolute error is a common measure of forecast error in time series analysis."
   ]
  },
  {
   "cell_type": "code",
   "execution_count": null,
   "id": "1c6922a6",
   "metadata": {},
   "outputs": [],
   "source": [
    "mae = sum(abs(close_predictions - test[\"Adj Close\"].values)) / test.shape[0]\n",
    "print(mae)"
   ]
  },
  {
   "cell_type": "markdown",
   "id": "79c6b89b",
   "metadata": {},
   "source": [
    "The MAE value is approx. 18."
   ]
  },
  {
   "cell_type": "markdown",
   "id": "5d0c236a",
   "metadata": {},
   "source": [
    "# **Error Graph for last 25 days**"
   ]
  },
  {
   "cell_type": "markdown",
   "id": "0b196841",
   "metadata": {},
   "source": [
    "Simple error (Actual - Predicted) computered and ploted for last 25 days."
   ]
  },
  {
   "cell_type": "code",
   "execution_count": null,
   "id": "3659d6d6",
   "metadata": {},
   "outputs": [],
   "source": [
    "# Create a dataframe that output the Date, the Actual and the predicted values\n",
    "df = pd.DataFrame({'Date':dates,'Actual': Y_test, 'Predicted': close_predictions})\n",
    "df1 = df.tail(25)\n",
    " \n",
    "# set the date with string format for plotting\n",
    "df1['Date'] = df1['Date'].dt.strftime('%Y-%m-%d')\n",
    " \n",
    "df1.set_index('Date',inplace=True)\n",
    " \n",
    "error = df1['Actual'] - df1['Predicted']\n",
    " \n",
    "# Plot the error term between the actual and predicted values for the last 25 days\n",
    " \n",
    "error.plot(kind='bar',figsize=(8,6))\n",
    "plt.grid(which='major', linestyle='-', linewidth='0.5', color='green')\n",
    "plt.grid(which='minor', linestyle=':', linewidth='0.5', color='black')\n",
    "plt.xticks(rotation=45)\n",
    "plt.show()"
   ]
  }
 ],
 "metadata": {},
 "nbformat": 4,
 "nbformat_minor": 5
}
