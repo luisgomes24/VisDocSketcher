{
 "cells": [
  {
   "cell_type": "markdown",
   "id": "45a73868",
   "metadata": {},
   "source": [
    "## M5 Encoder Decoder model - Generating Date features\n",
    "This is with reference to the Notebook M5 Encoder Decoder model with attention.\n",
    "\n",
    "Link : https://www.kaggle.com/josephjosenumpeli/m5-forecasting-encoder-decoder-with-attention \n",
    "The features generated are fairly simple\n",
    "\n",
    "This Notebook contains the basic approach and is just the start"
   ]
  },
  {
   "cell_type": "code",
   "execution_count": null,
   "id": "a7f9e6e2",
   "metadata": {},
   "outputs": [],
   "source": [
    "import pandas as pd\n",
    "import os\n",
    "from sklearn.model_selection import train_test_split\n",
    "import random\n",
    "import matplotlib.pyplot as plt\n",
    "import datetime as dt\n",
    "calender = pd.read_csv('../input/m5-forecasting-accuracy/calendar.csv')"
   ]
  },
  {
   "cell_type": "code",
   "execution_count": null,
   "id": "7c4a6248",
   "metadata": {},
   "outputs": [],
   "source": [
    "calender.head()"
   ]
  },
  {
   "cell_type": "code",
   "execution_count": null,
   "id": "dbbc28a1",
   "metadata": {},
   "outputs": [],
   "source": [
    "# Removed event_name_1 and event_2 as they were to sparse\n",
    "date_features = calender.loc[:,['d','date','wm_yr_wk','wday','event_type_1', 'snap_CA', 'snap_TX', 'snap_WI']]"
   ]
  },
  {
   "cell_type": "code",
   "execution_count": null,
   "id": "3f70df70",
   "metadata": {},
   "outputs": [],
   "source": [
    "date_features"
   ]
  },
  {
   "cell_type": "code",
   "execution_count": null,
   "id": "4a706c97",
   "metadata": {},
   "outputs": [],
   "source": [
    "calender['date'] = pd.to_datetime(calender['date'])\n",
    "calender['month'] = calender['date'].dt.month\n",
    "calender['wk_year'] = calender['wm_yr_wk'].apply(str).str[-2:].apply(int)\n",
    "calender['yr-month'] = calender['date'].dt.to_period('M')\n",
    "calender['day_of_month']=calender['date'].dt.day"
   ]
  },
  {
   "cell_type": "code",
   "execution_count": null,
   "id": "1662e8f9",
   "metadata": {},
   "outputs": [],
   "source": [
    "calender.columns"
   ]
  },
  {
   "cell_type": "code",
   "execution_count": null,
   "id": "45c4b54b",
   "metadata": {},
   "outputs": [],
   "source": [
    "dates = pd.concat([calender.loc[:,['date','wm_yr_wk','d','snap_CA','snap_TX','snap_WI','day_of_month','wk_year']],\n",
    "           pd.get_dummies(calender['wday']),\n",
    "           pd.get_dummies(calender['month']),\n",
    "           pd.get_dummies(calender['event_type_1'])], axis =1)"
   ]
  },
  {
   "cell_type": "code",
   "execution_count": null,
   "id": "aab2037a",
   "metadata": {},
   "outputs": [],
   "source": [
    "from sklearn.preprocessing import MinMaxScaler\n",
    "dates['day_of_month'] = MinMaxScaler().fit_transform(dates['day_of_month'].to_numpy().reshape(-1,1))"
   ]
  },
  {
   "cell_type": "code",
   "execution_count": null,
   "id": "99c37dab",
   "metadata": {},
   "outputs": [],
   "source": [
    "dates['wk_year'] = MinMaxScaler().fit_transform(dates['wk_year'].to_numpy().reshape(-1,1))"
   ]
  },
  {
   "cell_type": "code",
   "execution_count": null,
   "id": "46a8b4c1",
   "metadata": {},
   "outputs": [],
   "source": [
    "dates.columns = [ 'date','wm_yr_wk','d','CA','TX','WI','day_of_month', 'wk_year', \n",
    "                 '1', '2', '3', '4','5','6','7',\n",
    "                 'Jan','Feb','Mar','Apr','May','Jun','Jul','Aug','Sep','Oct','Nov','Dec',\n",
    "                 'Cultural','National','Religious','Sporting']"
   ]
  },
  {
   "cell_type": "code",
   "execution_count": null,
   "id": "2605abc8",
   "metadata": {},
   "outputs": [],
   "source": [
    "column_names = [ 'date','wm_yr_wk','d','day_of_month', 'wk_year', \n",
    "                 '1', '2', '3', '4','5','6','7',\n",
    "                 'Jan','Feb','Mar','Apr','May','Jun','Jul','Aug','Sep','Oct','Nov','Dec',\n",
    "                 'Cultural','National','Religious','Sporting',\n",
    "                 'CA','TX','WI']"
   ]
  },
  {
   "cell_type": "code",
   "execution_count": null,
   "id": "efc127b5",
   "metadata": {},
   "outputs": [],
   "source": [
    "dates= dates.reindex(columns=column_names)"
   ]
  },
  {
   "cell_type": "code",
   "execution_count": null,
   "id": "c6692da0",
   "metadata": {},
   "outputs": [],
   "source": [
    "dates"
   ]
  },
  {
   "cell_type": "code",
   "execution_count": null,
   "id": "64aecd4f",
   "metadata": {},
   "outputs": [],
   "source": [
    "dates.to_csv('data/date_features.csv')"
   ]
  }
 ],
 "metadata": {},
 "nbformat": 4,
 "nbformat_minor": 5
}
