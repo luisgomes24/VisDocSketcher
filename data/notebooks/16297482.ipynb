{
 "cells": [
  {
   "cell_type": "code",
   "execution_count": null,
   "id": "8c1856db",
   "metadata": {},
   "outputs": [],
   "source": [
    "import numpy as np # linear algebra\n",
    "import pandas as pd # data processing, CSV file I/O (e.g. pd.read_csv)\n",
    "\n",
    "# Input data files are available in the read-only \"../input/\" directory\n",
    "# For example, running this (by clicking run or pressing Shift+Enter) will list all files under the input directory\n",
    "\n",
    "import os\n",
    "for dirname, _, filenames in os.walk('/kaggle/input'):\n",
    "    for filename in filenames:\n",
    "        print(os.path.join(dirname, filename))"
   ]
  },
  {
   "cell_type": "code",
   "execution_count": null,
   "id": "f3c7fb6a",
   "metadata": {},
   "outputs": [],
   "source": [
    "df=pd.read_csv(\"/kaggle/input/groceries-dataset/Groceries_dataset.csv\")"
   ]
  },
  {
   "cell_type": "code",
   "execution_count": null,
   "id": "548cb9ed",
   "metadata": {},
   "outputs": [],
   "source": [
    "df.head()"
   ]
  },
  {
   "cell_type": "code",
   "execution_count": null,
   "id": "e27aebce",
   "metadata": {},
   "outputs": [],
   "source": [
    "#types of items the data has\n",
    "\n",
    "items= df.itemDescription.unique()\n",
    "print(\"Total types of items=\")\n",
    "len(items)"
   ]
  },
  {
   "cell_type": "code",
   "execution_count": null,
   "id": "edd1bbbf",
   "metadata": {},
   "outputs": [],
   "source": [
    "print(\"Some item types are=\")\n",
    "items[0:10]"
   ]
  },
  {
   "cell_type": "code",
   "execution_count": null,
   "id": "16d6541f",
   "metadata": {},
   "outputs": [],
   "source": [
    "#converting into systematic data\n",
    "\n",
    "df_grouped=df.groupby(['Member_number','Date'])['itemDescription'].unique()"
   ]
  },
  {
   "cell_type": "code",
   "execution_count": null,
   "id": "b0733711",
   "metadata": {},
   "outputs": [],
   "source": [
    "df_grouped"
   ]
  },
  {
   "cell_type": "code",
   "execution_count": null,
   "id": "f518e33a",
   "metadata": {},
   "outputs": [],
   "source": [
    "df_grouped_df= pd.DataFrame(df_grouped)"
   ]
  },
  {
   "cell_type": "code",
   "execution_count": null,
   "id": "92951da4",
   "metadata": {},
   "outputs": [],
   "source": [
    "df_grouped_df.head(10)"
   ]
  },
  {
   "cell_type": "code",
   "execution_count": null,
   "id": "a44e2157",
   "metadata": {},
   "outputs": [],
   "source": [
    "nan"
   ]
  },
  {
   "cell_type": "code",
   "execution_count": null,
   "id": "b3fc1957",
   "metadata": {},
   "outputs": [],
   "source": [
    "print(\"Number of unique customers=\")\n",
    "len(df[\"Member_number\"].unique())"
   ]
  },
  {
   "cell_type": "code",
   "execution_count": null,
   "id": "e89e2b72",
   "metadata": {},
   "outputs": [],
   "source": [
    "nan"
   ]
  },
  {
   "cell_type": "code",
   "execution_count": null,
   "id": "bd83c2be",
   "metadata": {},
   "outputs": [],
   "source": [
    "nan"
   ]
  }
 ],
 "metadata": {},
 "nbformat": 4,
 "nbformat_minor": 5
}
