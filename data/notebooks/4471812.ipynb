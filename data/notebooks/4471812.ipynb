{
 "cells": [
  {
   "cell_type": "code",
   "execution_count": null,
   "id": "3a0237e1",
   "metadata": {},
   "outputs": [],
   "source": [
    "# This Python 3 environment comes with many helpful analytics libraries installed\n",
    "# It is defined by the kaggle/python docker image: https://github.com/kaggle/docker-python\n",
    "# For example, here's several helpful packages to load in \n",
    "\n",
    "import numpy as np # linear algebra\n",
    "import pandas as pd # data processing, CSV file I/O (e.g. pd.read_csv)\n",
    "\n",
    "# Input data files are available in the \"../input/\" directory.\n",
    "# For example, running this (by clicking run or pressing Shift+Enter) will list the files in the input directory\n",
    "\n",
    "import os\n",
    "print(os.listdir(\"../input\"))\n",
    "\n",
    "# Any results you write to the current directory are saved as output."
   ]
  },
  {
   "cell_type": "code",
   "execution_count": null,
   "id": "b10dedcc",
   "metadata": {},
   "outputs": [],
   "source": [
    "train=pd.read_csv('../input/train.csv')\n",
    "print(train.shape)\n",
    "print(train.head())"
   ]
  },
  {
   "cell_type": "code",
   "execution_count": null,
   "id": "0295c695",
   "metadata": {},
   "outputs": [],
   "source": [
    "from sklearn.decomposition import PCA\n",
    "from sklearn.neighbors import KNeighborsClassifier\n",
    "import csv"
   ]
  },
  {
   "cell_type": "code",
   "execution_count": null,
   "id": "2a3633e3",
   "metadata": {},
   "outputs": [],
   "source": [
    "train=pd.read_csv('../input/train.csv')\n",
    "test=pd.read_csv('../input/test.csv')\n",
    "train_data=train.values[:,1:]\n",
    "train_label=train.values[:,0]\n",
    "# PCA\n",
    "trainData = np.array(train_data)\n",
    "testData = np.array(test)\n",
    "'''\n",
    "n_components>=1\n",
    "  n_components=NUM  \b 设置\b占特征数量比\n",
    "0 < n_components < 1\n",
    "  n_components=0.99  \b设置阈值总方差占比\n",
    "2）whiten ：判断是否进行白化。所谓白化，就是对降维后的数据的每个特征进行归一化，让方差都为1.对于PCA降维本身来说，一般不需要白化。\n",
    "'''\n",
    "pca = PCA(n_components=0.7,whiten=False)\n",
    "pca.fit(trainData)\n",
    "pcaTrainData = pca.transform(trainData)\n",
    "pcaTestData = pca.transform(testData)\n",
    "print(pca.n_components_)"
   ]
  },
  {
   "cell_type": "code",
   "execution_count": null,
   "id": "ec2ceb14",
   "metadata": {},
   "outputs": [],
   "source": [
    "clf = KNeighborsClassifier(n_neighbors=15)\n",
    "clf.fit(pcaTrainData, np.ravel(train_label))\n",
    "testLabel = clf.predict(pcaTestData)\n",
    "with open('result.csv', 'w') as myFile:\n",
    "    myWriter = csv.writer(myFile)\n",
    "    myWriter.writerow([\"ImageId\", \"Label\"])\n",
    "    index = 0\n",
    "    for r in testLabel:\n",
    "        index += 1\n",
    "        myWriter.writerow([index, int(r)])"
   ]
  },
  {
   "cell_type": "code",
   "execution_count": null,
   "id": "7db42a39",
   "metadata": {},
   "outputs": [],
   "source": [
    "!pwd"
   ]
  },
  {
   "cell_type": "code",
   "execution_count": null,
   "id": "0bf512fb",
   "metadata": {},
   "outputs": [],
   "source": [
    "!ls -a"
   ]
  },
  {
   "cell_type": "code",
   "execution_count": null,
   "id": "f32f41e0",
   "metadata": {},
   "outputs": [],
   "source": [
    "nan"
   ]
  }
 ],
 "metadata": {},
 "nbformat": 4,
 "nbformat_minor": 5
}
