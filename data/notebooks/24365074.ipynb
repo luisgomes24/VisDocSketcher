{
 "cells": [
  {
   "cell_type": "code",
   "execution_count": null,
   "id": "3c6d788d",
   "metadata": {},
   "outputs": [],
   "source": [
    "# This Python 3 environment comes with many helpful analytics libraries installed\n",
    "# It is defined by the kaggle/python Docker image: https://github.com/kaggle/docker-python\n",
    "# For example, here's several helpful packages to load\n",
    "\n",
    "import numpy as np # linear algebra\n",
    "import pandas as pd # data processing, CSV file I/O (e.g. pd.read_csv)\n",
    "\n",
    "# Input data files are available in the read-only \"../input/\" directory\n",
    "# For example, running this (by clicking run or pressing Shift+Enter) will list all files under the input directory\n",
    "\n",
    "import os\n",
    "for dirname, _, filenames in os.walk('/kaggle/input'):\n",
    "    for filename in filenames:\n",
    "        print(os.path.join(dirname, filename))\n",
    "\n",
    "# You can write up to 20GB to the current directory (/kaggle/working/) that gets preserved as output when you create a version using \"Save & Run All\" \n",
    "# You can also write temporary files to /kaggle/temp/, but they won't be saved outside of the current session"
   ]
  },
  {
   "cell_type": "markdown",
   "id": "9dc69b02",
   "metadata": {},
   "source": [
    "Well, I don't know if this is a good thing or if I did it right, but it's a start.\n",
    "\n",
    "The technique is to add values to the test data in order to create a larger training dataset.\n",
    "\n",
    "For more information about the method, I recommend reading:\n",
    "[https://www.kaggle.com/cdeotte/pseudo-labeling-qda-0-969](http://)"
   ]
  },
  {
   "cell_type": "code",
   "execution_count": null,
   "id": "3cecc4f3",
   "metadata": {},
   "outputs": [],
   "source": [
    "from sklearn.ensemble import ExtraTreesClassifier\n",
    "from sklearn.model_selection import train_test_split\n",
    "from sklearn.metrics import accuracy_score"
   ]
  },
  {
   "cell_type": "markdown",
   "id": "de275ac6",
   "metadata": {},
   "source": [
    "## Train a model and generate labels from tests"
   ]
  },
  {
   "cell_type": "code",
   "execution_count": null,
   "id": "b9ca09b5",
   "metadata": {},
   "outputs": [],
   "source": [
    "train = pd.read_csv(\"../input/tabular-playground-series-feb-2022/train.csv\")\n",
    "test = pd.read_csv(\"../input/tabular-playground-series-feb-2022/test.csv\")"
   ]
  },
  {
   "cell_type": "code",
   "execution_count": null,
   "id": "89daa19f",
   "metadata": {},
   "outputs": [],
   "source": [
    "X = train.drop([\"row_id\",\"target\"], axis = 1)\n",
    "y = train['target']"
   ]
  },
  {
   "cell_type": "code",
   "execution_count": null,
   "id": "c4cf863f",
   "metadata": {},
   "outputs": [],
   "source": [
    "Xtr, Xval, ytr, yval = train_test_split(X, y, train_size = 0.8)\n",
    "\n",
    "model = ExtraTreesClassifier(n_estimators = 800, random_state = 0, n_jobs = -1)\n",
    "model.fit(Xtr, ytr)\n",
    "\n",
    "y_pred = model.predict(Xval) \n",
    "accuracy = accuracy_score(yval, y_pred) \n",
    "print(\"Accuracy: %.6f\" % (accuracy))"
   ]
  },
  {
   "cell_type": "code",
   "execution_count": null,
   "id": "f19156ab",
   "metadata": {},
   "outputs": [],
   "source": [
    "pred = model.predict(test.drop(\"row_id\", axis = 1))"
   ]
  },
  {
   "cell_type": "markdown",
   "id": "87bdc15c",
   "metadata": {},
   "source": [
    "## Add the generated labels on the test data, concat the train and test and repeat the training with the new dataset"
   ]
  },
  {
   "cell_type": "code",
   "execution_count": null,
   "id": "abfb0c55",
   "metadata": {},
   "outputs": [],
   "source": [
    "test['target'] = pred\n",
    "full_data = pd.concat([train, test])"
   ]
  },
  {
   "cell_type": "code",
   "execution_count": null,
   "id": "e0437fdf",
   "metadata": {},
   "outputs": [],
   "source": [
    "X = full_data.drop([\"row_id\",\"target\"], axis = 1)\n",
    "y = full_data['target']"
   ]
  },
  {
   "cell_type": "code",
   "execution_count": null,
   "id": "ee18d5a8",
   "metadata": {},
   "outputs": [],
   "source": [
    "Xtr, Xval, ytr, yval = train_test_split(X, y, train_size = 0.8)\n",
    "\n",
    "model = ExtraTreesClassifier(n_estimators = 800, random_state = 0, n_jobs = -1)\n",
    "model.fit(Xtr, ytr)\n",
    "\n",
    "y_pred = model.predict(Xval) \n",
    "accuracy = accuracy_score(yval, y_pred) \n",
    "print(\"Accuracy: %.6f%%\" % (accuracy))"
   ]
  },
  {
   "cell_type": "markdown",
   "id": "006dfce6",
   "metadata": {},
   "source": [
    "## Submission"
   ]
  },
  {
   "cell_type": "code",
   "execution_count": null,
   "id": "19584b6b",
   "metadata": {},
   "outputs": [],
   "source": [
    "submission = pd.read_csv(\"../input/tabular-playground-series-feb-2022/sample_submission.csv\")\n",
    "submission.head()"
   ]
  },
  {
   "cell_type": "code",
   "execution_count": null,
   "id": "4cd176de",
   "metadata": {},
   "outputs": [],
   "source": [
    "predicts = model.predict(test.drop([\"row_id\",\"target\"], axis = 1))\n",
    "\n",
    "submission['target'] = predicts\n",
    "submission.head()"
   ]
  },
  {
   "cell_type": "code",
   "execution_count": null,
   "id": "aedbbeea",
   "metadata": {},
   "outputs": [],
   "source": [
    "submission.to_csv(\"submission_labels.csv\", index = False)"
   ]
  },
  {
   "cell_type": "code",
   "execution_count": null,
   "id": "6ebebb56",
   "metadata": {},
   "outputs": [],
   "source": [
    "nan"
   ]
  }
 ],
 "metadata": {},
 "nbformat": 4,
 "nbformat_minor": 5
}
