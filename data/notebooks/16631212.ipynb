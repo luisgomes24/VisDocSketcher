{
 "cells": [
  {
   "cell_type": "code",
   "execution_count": null,
   "id": "ab0b8063",
   "metadata": {},
   "outputs": [],
   "source": [
    "!pip install numpy==1.20.0\n",
    "!pip install scipy==1.6.3\n",
    "!pip install researchpy"
   ]
  },
  {
   "cell_type": "code",
   "execution_count": null,
   "id": "9a171668",
   "metadata": {},
   "outputs": [],
   "source": [
    "import matplotlib.pyplot as plt\n",
    "import seaborn as sns\n",
    "import numpy as np \n",
    "import pandas as pd \n",
    "import os\n",
    "for dirname, _, filenames in os.walk('/kaggle/input'):\n",
    "    for filename in filenames:\n",
    "        print(os.path.join(dirname, filename))"
   ]
  },
  {
   "cell_type": "markdown",
   "id": "9b44aac6",
   "metadata": {},
   "source": [
    "___\n",
    "# Stats 1\n",
    "1. Introduction\n",
    "2. Descriptive statistics\n"
   ]
  },
  {
   "cell_type": "code",
   "execution_count": null,
   "id": "0bf1bcf2",
   "metadata": {},
   "outputs": [],
   "source": [
    "data = pd.read_csv(\"/kaggle/input/premier-league-player-statistics-updated-daily/dataset - 2020-09-24.csv\")\n",
    "data.replace('NaN',0, inplace=True)\n",
    "data.fillna(value=0.0, inplace=True)\n",
    "data.head()"
   ]
  },
  {
   "cell_type": "code",
   "execution_count": null,
   "id": "8058b549",
   "metadata": {},
   "outputs": [],
   "source": [
    "# Graph 1) HISTOGRAM\n",
    "plt.figure(figsize=(6,3))\n",
    "data['Age'].plot(kind='hist')\n",
    "plt.xlabel(\"Age\")\n",
    "plt.title(\"Age histogram\");"
   ]
  },
  {
   "cell_type": "code",
   "execution_count": null,
   "id": "d599075a",
   "metadata": {},
   "outputs": [],
   "source": [
    "# Graph 2) BOXPLOT\n",
    "data['Shooting accuracy %'] = data['Shooting accuracy %'].str[:-1].astype('float64')\n",
    "sns.boxplot(data=data, y='Shooting accuracy %');\n",
    "# data['Shooting accuracy %'].plot(kind='box') will do the same"
   ]
  },
  {
   "cell_type": "markdown",
   "id": "4ff2d9e1",
   "metadata": {},
   "source": [
    "3.  Interential statistic\n",
    "**Hypothesis testing**<br>\n",
    "- $H_0$ : no difference from before\n",
    "- $H_1$ : difference from before\n",
    "\n",
    "*p value* = probability that we will mistakenly reject the $H_0$. p value, aka. acceptable mistake rate, have to less than some threshold $\\alpha$ so that we can reject the $H_0$.\n",
    "\n",
    "- Test for **Mean**:\n",
    "    - Is $\\mu = \\mu_{0}$ given this data -> *one sample t-test* (`scipy.stats.ttest_1samp`)\n",
    "    - Is $\\mu_{a} = \\mu_{b}$ -> *two sample t-test* (`scipy.stats.ttest_ind`) \\**$a$ and $b$ are independent\n",
    "        - If a, b, c -> *ANOVA*\n",
    "    - Is $\\mu_{\\text{before}} = \\mu_{\\text{after}}$ -> *paired t-test* (`scipy.stats.ttest_rel`)"
   ]
  },
  {
   "cell_type": "code",
   "execution_count": null,
   "id": "77537efa",
   "metadata": {},
   "outputs": [],
   "source": [
    "sample = np.random.normal(size=(1000),loc=3.0, scale=1.0)\n",
    "\n",
    "# Null: pop mean equal to 0\n",
    "from scipy.stats import ttest_1samp\n",
    "\n",
    "t, p = ttest_1samp(sample, 0)\n",
    "print(f'p_val = {p}')   # Reject Null"
   ]
  },
  {
   "cell_type": "code",
   "execution_count": null,
   "id": "83129d88",
   "metadata": {},
   "outputs": [],
   "source": [
    "a = np.random.normal(size=(1000),loc=3.0, scale=1.0)\n",
    "b = np.random.normal(size=(900),loc=10.0, scale=1.0)\n",
    "\n",
    "# Null: a and b have the same pop mean\n",
    "from scipy.stats import ttest_ind\n",
    "t, p = ttest_ind(a, b, equal_var=True)\n",
    "print(f'p_val = {p}')   # Reject Null"
   ]
  },
  {
   "cell_type": "code",
   "execution_count": null,
   "id": "b77a8f25",
   "metadata": {},
   "outputs": [],
   "source": [
    "before = np.random.normal(size=(1000),loc=3.0, scale=1.0)\n",
    "after = np.random.normal(size=(1000),loc=10.0, scale=1.0)\n",
    "\n",
    "# Null: after has greater pop mean.\n",
    "from scipy.stats import ttest_rel\n",
    "t, p = ttest_rel(before, after, alternative='less')\n",
    "print(f'p_val = {p}')   # Reject Null"
   ]
  },
  {
   "cell_type": "markdown",
   "id": "ca551f6b",
   "metadata": {},
   "source": [
    "![](https://i.pinimg.com/originals/43/8e/75/438e752694f5738971efb00f595c344c.png)"
   ]
  },
  {
   "cell_type": "markdown",
   "id": "ce191b81",
   "metadata": {},
   "source": [
    "___\n",
    "# Stats2\n",
    "1. ANOVA : test if 3+ pop means are all equal. <br>\n",
    "\n",
    "If #indep. vars == 1 : *One-way ANOVA* (`scipy.stats.f_oneway` , `statsmodels.api.stats.anova_lm`)<br>\n",
    "else : *Two-way ANOVA* (`statsmodels.api.stats.anova_lm`)"
   ]
  },
  {
   "cell_type": "code",
   "execution_count": null,
   "id": "eafd78ce",
   "metadata": {},
   "outputs": [],
   "source": [
    "nat_appear = data[['Nationality','Appearances']]\n",
    "nat_appear.head()"
   ]
  },
  {
   "cell_type": "code",
   "execution_count": null,
   "id": "175b3296",
   "metadata": {},
   "outputs": [],
   "source": [
    "import statsmodels.api as sm\n",
    "from statsmodels.formula.api import ols\n",
    "\n",
    "# Null: All nationality have the same pop mean of appearences\n",
    "model = ols('Appearances ~ Nationality', data=nat_appear).fit()\n",
    "table = sm.stats.anova_lm(model)\n",
    "\n",
    "print(table)   # P_val = 0.99, we can't reject the Null"
   ]
  },
  {
   "cell_type": "code",
   "execution_count": null,
   "id": "7f319be6",
   "metadata": {},
   "outputs": [],
   "source": [
    "plt.figure(figsize=(12,5))\n",
    "sns.boxplot(data=nat_appear, y='Appearances', x='Nationality')\n",
    "plt.xticks(rotation=90);"
   ]
  },
  {
   "cell_type": "markdown",
   "id": "8824c67c",
   "metadata": {},
   "source": [
    "2. Correlation : continuous ~ continuous vars are related\n",
    "\n",
    "$H_0$ : `x` and `y` are not correlated (r=0)"
   ]
  },
  {
   "cell_type": "code",
   "execution_count": null,
   "id": "8177eab4",
   "metadata": {},
   "outputs": [],
   "source": [
    "data[['Age','Wins']].corr(method='pearson')"
   ]
  },
  {
   "cell_type": "code",
   "execution_count": null,
   "id": "23d7d1ac",
   "metadata": {},
   "outputs": [],
   "source": [
    "from scipy.stats import pearsonr\n",
    "\n",
    "# Null: Age and wins have no correlation to each other (r=0)\n",
    "r, p = pearsonr(data['Age'], data['Wins'])\n",
    "print(f'p_val = {p}\\ncorr = {r}')   # Reject null : We have a great confidence to say r is not 0"
   ]
  },
  {
   "cell_type": "markdown",
   "id": "4494f20b",
   "metadata": {},
   "source": [
    "3. Chi-Square : category ~ category vars are related\n",
    "\n",
    "$H_0$ : `x` and `y` are not associated (r=0)\n",
    "\n",
    "associate means if the distribution of one variable changes the value of the other changes. If there is no association, the distribution of first variable is still unchanged regardless of the change of the other."
   ]
  },
  {
   "cell_type": "code",
   "execution_count": null,
   "id": "c35874a4",
   "metadata": {},
   "outputs": [],
   "source": [
    "import researchpy as rp\n",
    "\n",
    "# Null: Nationality and Club are not related\n",
    "df = data[['Nationality','Club']]\n",
    "table, result = rp.crosstab(df['Nationality'], df['Club'], prop= 'col', test= 'chi-square')\n",
    "\n",
    "result"
   ]
  },
  {
   "cell_type": "markdown",
   "id": "866208d2",
   "metadata": {},
   "source": [
    "4. Regression tests : test cause-and-effect relationships\n",
    "\n",
    "Linear regression, Logistic regression"
   ]
  },
  {
   "cell_type": "code",
   "execution_count": null,
   "id": "3bd76160",
   "metadata": {},
   "outputs": [],
   "source": [
    "x, y = data[['Age', 'Goals', 'Offsides']], data[['Wins']]\n",
    "\n",
    "from sklearn.linear_model import LinearRegression\n",
    "\n",
    "lr = LinearRegression().fit(x,y)"
   ]
  },
  {
   "cell_type": "markdown",
   "id": "7ef51ec5",
   "metadata": {},
   "source": [
    "$R^{2} = 1 - \\frac{SSE}{SST} = 1 - \\frac{\\text{SS of predicted error}}{\\text{SS of baseline model error}}$\n",
    "\n",
    "If $SSE < SST$, our model is better than an avg model. Model with **higher** $R^2$ is a better model."
   ]
  },
  {
   "cell_type": "code",
   "execution_count": null,
   "id": "e1cbf6ba",
   "metadata": {},
   "outputs": [],
   "source": [
    "#score(X, y) : Return R2\n",
    "lr.score(x,y)"
   ]
  },
  {
   "cell_type": "markdown",
   "id": "8e91d3cc",
   "metadata": {},
   "source": [
    "Adjusted $R^2$ = $1 - \\frac{(N-1)(1-R^2)}{N-p-1}$\n",
    "\n",
    "Where `p` = number of predictors, `N` = sample size"
   ]
  },
  {
   "cell_type": "code",
   "execution_count": null,
   "id": "d113f78a",
   "metadata": {},
   "outputs": [],
   "source": [
    "nan"
   ]
  }
 ],
 "metadata": {},
 "nbformat": 4,
 "nbformat_minor": 5
}
