{
 "cells": [
  {
   "cell_type": "markdown",
   "id": "f4e0f903",
   "metadata": {},
   "source": [
    "This code perform the following steps:\n",
    "\n",
    "1. Downloads all pdf files from [google mobility site](https://www.google.com/covid19/mobility/)\n",
    "\n",
    "2. Extracts percents for each of the six location categories:\n",
    "    * Retail_Recreation\n",
    "    * Grocery_Pharmacy\n",
    "    * Parks\n",
    "    * Transit_Stations\n",
    "    * Workplaces\n",
    "    * Residential\n",
    "    \n",
    "3. Creates two dataframes (one by 131 countries and one by 50 US States)\n",
    "\n",
    "4. Export to .csv"
   ]
  },
  {
   "cell_type": "markdown",
   "id": "2d615aa1",
   "metadata": {},
   "source": [
    "# Install Missing Librabries"
   ]
  },
  {
   "cell_type": "code",
   "execution_count": null,
   "id": "16e7c720",
   "metadata": {},
   "outputs": [],
   "source": [
    "!pip install PyPDF2\n",
    "!pip install tabula-py"
   ]
  },
  {
   "cell_type": "markdown",
   "id": "91c7c7ac",
   "metadata": {},
   "source": [
    "# Define Libraries"
   ]
  },
  {
   "cell_type": "code",
   "execution_count": null,
   "id": "8518ba15",
   "metadata": {},
   "outputs": [],
   "source": [
    "import requests\n",
    "import urllib.request\n",
    "import tabula\n",
    "import PyPDF2\n",
    "import pandas as pd"
   ]
  },
  {
   "cell_type": "markdown",
   "id": "b75b7850",
   "metadata": {},
   "source": [
    "# Import Country and US State Abbreviations and Names"
   ]
  },
  {
   "cell_type": "code",
   "execution_count": null,
   "id": "824d5147",
   "metadata": {},
   "outputs": [],
   "source": [
    "df_countries = pd.read_csv('.../countries.csv') # Change path to Countries file here\n",
    "df_countries.at[150,'Abbrev'] = 'NA'\n",
    "df_countries.set_index('Abbrev',inplace=True)\n",
    "df_countries.Country = [word.title().replace(' ','_') for word in df_countries.Country]\n",
    "df_countries.drop_duplicates(inplace=True)"
   ]
  },
  {
   "cell_type": "code",
   "execution_count": null,
   "id": "69285884",
   "metadata": {},
   "outputs": [],
   "source": [
    "df_states = pd.read_csv('.../US_States.csv').set_index('State') # Change path to States file here\n",
    "df_states.index = [word.replace(' ','_') for word in df_states.index]\n",
    "df_states"
   ]
  },
  {
   "cell_type": "markdown",
   "id": "57b8081c",
   "metadata": {},
   "source": [
    "# Download Country Reports"
   ]
  },
  {
   "cell_type": "code",
   "execution_count": null,
   "id": "1e2f3fe0",
   "metadata": {},
   "outputs": [],
   "source": [
    "for country in df_countries.index:\n",
    "  download_url = 'https://www.gstatic.com/covid19/mobility/2020-03-29_'+country+'_Mobility_Report_en.pdf' # update this link to make sure data is availiable\n",
    "  path = '.../country/'+country+'.pdf' # Change path to save your file here\n",
    "  try:\n",
    "    urllib.request.urlretrieve(download_url,path)\n",
    "  except IOError:\n",
    "    pass  "
   ]
  },
  {
   "cell_type": "markdown",
   "id": "eeb7270b",
   "metadata": {},
   "source": [
    "# Download US State reports"
   ]
  },
  {
   "cell_type": "code",
   "execution_count": null,
   "id": "63f57b2f",
   "metadata": {},
   "outputs": [],
   "source": [
    "for state in df_states.index:\n",
    "  download_url = 'https://www.gstatic.com/covid19/mobility/2020-04-05_US_'+state+'_Mobility_Report_en.pdf' # update this link to make sure data is availiable\n",
    "  path = '.../state/'+state+'.pdf' # Change path to save your file here\n",
    "  try:\n",
    "    urllib.request.urlretrieve(download_url,path)\n",
    "  except IOError:\n",
    "    pass\n"
   ]
  },
  {
   "cell_type": "markdown",
   "id": "ffbbea10",
   "metadata": {},
   "source": [
    "# Extract percents from PDF reports for each country and category"
   ]
  },
  {
   "cell_type": "code",
   "execution_count": null,
   "id": "3665122a",
   "metadata": {},
   "outputs": [],
   "source": [
    "def extract_pdf_data(directory):\n",
    "  import os\n",
    "\n",
    "  # define empty lists that will hold the six sets of values\n",
    "  index=[]\n",
    "\n",
    "  rr_p = []\n",
    "  gp_p = []\n",
    "  pa_p = []\n",
    "  ts_p = []\n",
    "  wp_p = []\n",
    "  rs_p = []\n",
    "\n",
    "  for filename in os.listdir(directory):\n",
    "    path = directory+filename\n",
    "    pdfFileObj = open(path, 'rb')\n",
    "\n",
    "    pageObj = PyPDF2.PdfFileReader(pdfFileObj).getPage(0)\n",
    "\n",
    "    df = tabula.read_pdf(path, area = pageObj.mediaBox, pages=0)[0]\n",
    "    \n",
    "    index.append(filename.split('.')[0])\n",
    "\n",
    "    try:   \n",
    "      rr_p.append(int(df.iloc[15,0].split('%')[0])) # Retail & recreation percent\n",
    "    except:    \n",
    "      rr_p.append(0)\n",
    "      \n",
    "    try:\n",
    "      gp_p.append(int(df.iloc[23,0].split('%')[0])) # Grocery & pharmacy percent\n",
    "    except:\n",
    "      gp_p.append(0)\n",
    "\n",
    "    try:\n",
    "      pa_p.append(int(df.iloc[31,0].split('%')[0])) # Parks percent\n",
    "    except:\n",
    "      pa_p.append(0)\n",
    "\n",
    "    df = tabula.read_pdf(path, area = pageObj.mediaBox, pages = 2)[0]\n",
    "    \n",
    "    try:\n",
    "      ts_p.append(int(df.iloc[3,0].split('%')[0])) # Transit stations percent\n",
    "    except:\n",
    "      ts_p.append(0)\n",
    "\n",
    "    try:\n",
    "      wp_p.append(int(df.iloc[11,0].split('%')[0])) # Workplaces percent\n",
    "    except:\n",
    "      wp_p.append(0)\n",
    "\n",
    "    try:\n",
    "      rs_p.append(int(df.iloc[19,0].split('%')[0])) # Residential percent\n",
    "    except:\n",
    "      rs_p.append(0)\n",
    "\n",
    "  columns = ['Retail_Recreation','Grocery_Pharmacy','Parks','Transit_Stations','Workplaces','Residential']\n",
    "  df = pd.DataFrame(data = [rr_p,gp_p,pa_p,ts_p,wp_p,rs_p]).T\n",
    "  df.columns = columns\n",
    "  df.index = index\n",
    "  \n",
    "  return df"
   ]
  },
  {
   "cell_type": "code",
   "execution_count": null,
   "id": "2b60a6bb",
   "metadata": {},
   "outputs": [],
   "source": [
    "path ='...' # Change path to the saved pdf files\n",
    "\n",
    "df_us_state_percent = extract_pdf_data(path+'state/')\n",
    "df_us_country_percent = extract_pdf_data(path+'country/')"
   ]
  },
  {
   "cell_type": "markdown",
   "id": "81dd94de",
   "metadata": {},
   "source": [
    "# Add Names and set Abbreviations as indexes"
   ]
  },
  {
   "cell_type": "code",
   "execution_count": null,
   "id": "6ce8e73d",
   "metadata": {},
   "outputs": [],
   "source": [
    "df_us_state_percent['Abbrev'] = df_states.Abbrev\n",
    "df_us_state_percent['State_Name'] = df_us_state_percent.index\n",
    "df_us_state_percent.set_index('Abbrev',inplace=True)\n",
    "df_us_state_percent\n",
    "\n",
    "df_country_percent.index.name = 'Abbrev'\n",
    "df_country_percent['Country_Name'] = df_countries.Country\n",
    "df_country_percent"
   ]
  },
  {
   "cell_type": "markdown",
   "id": "ecbca641",
   "metadata": {},
   "source": [
    "# Export Data"
   ]
  },
  {
   "cell_type": "code",
   "execution_count": null,
   "id": "fff6f9fc",
   "metadata": {},
   "outputs": [],
   "source": [
    "df_country_percent.to_csv(path+'COVID19_Google_Mobility_Report_Country.csv')\n",
    "df_us_state_percent.to_csv(path+'COVID19_Google_Mobility_Report_US_State.csv')"
   ]
  }
 ],
 "metadata": {},
 "nbformat": 4,
 "nbformat_minor": 5
}
