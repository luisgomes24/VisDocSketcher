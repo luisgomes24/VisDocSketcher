{
 "cells": [
  {
   "cell_type": "markdown",
   "id": "42b33ae3",
   "metadata": {},
   "source": [
    "# Introduction"
   ]
  },
  {
   "cell_type": "markdown",
   "id": "5e4ada1b",
   "metadata": {},
   "source": [
    "We introduce how to load the Air Quality Data in India Dataset."
   ]
  },
  {
   "cell_type": "markdown",
   "id": "70904275",
   "metadata": {},
   "source": [
    "# Analysis preparation"
   ]
  },
  {
   "cell_type": "markdown",
   "id": "ea1f23bc",
   "metadata": {},
   "source": [
    "## Load packages"
   ]
  },
  {
   "cell_type": "code",
   "execution_count": null,
   "id": "60051d0a",
   "metadata": {},
   "outputs": [],
   "source": [
    "import os\n",
    "\n",
    "from matplotlib import pyplot as plt\n",
    "import pandas as pd\n",
    "import numpy as np"
   ]
  },
  {
   "cell_type": "markdown",
   "id": "d3d8f2e4",
   "metadata": {},
   "source": [
    "## Load data"
   ]
  },
  {
   "cell_type": "code",
   "execution_count": null,
   "id": "b13bbfb3",
   "metadata": {},
   "outputs": [],
   "source": [
    "import os\n",
    "for dirname, _, filenames in os.walk('/kaggle/input'):\n",
    "    for filename in filenames:\n",
    "        print(os.path.join(dirname, filename))"
   ]
  },
  {
   "cell_type": "code",
   "execution_count": null,
   "id": "f28c5c39",
   "metadata": {},
   "outputs": [],
   "source": [
    "aqi_data = pd.read_csv(\"/kaggle/input/air-quality-data-in-india/air-quality-india.csv\", sep=\",\")"
   ]
  },
  {
   "cell_type": "code",
   "execution_count": null,
   "id": "b0c07690",
   "metadata": {},
   "outputs": [],
   "source": [
    "aqi_data.head()"
   ]
  },
  {
   "cell_type": "code",
   "execution_count": null,
   "id": "dd216207",
   "metadata": {},
   "outputs": [],
   "source": [
    "plt.plot(aqi_data[\"PM2.5\"])\n",
    "\n",
    "# Labelling \n",
    "\n",
    "plt.xlabel(\"Timestamp\")\n",
    "plt.ylabel(\"PM2.5\")\n",
    "plt.title(\"PM2.5 Time series\")\n",
    "\n",
    "# Display\n",
    "\n",
    "plt.show()"
   ]
  }
 ],
 "metadata": {},
 "nbformat": 4,
 "nbformat_minor": 5
}
