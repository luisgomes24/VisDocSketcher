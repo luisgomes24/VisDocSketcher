{
 "cells": [
  {
   "cell_type": "markdown",
   "id": "d8b26383",
   "metadata": {},
   "source": [
    "# **Import needed modules**"
   ]
  },
  {
   "cell_type": "code",
   "execution_count": null,
   "id": "970afedf",
   "metadata": {},
   "outputs": [],
   "source": [
    "import os\n",
    "import pandas as pd\n",
    "from fastai.vision.all import *\n",
    "from fastai.vision import models \n",
    "from fastai.metrics import error_rate, accuracy\n",
    "from sklearn.model_selection import train_test_split\n",
    "\n",
    "import warnings\n",
    "warnings.filterwarnings(\"ignore\")\n",
    "set_seed(42)\n",
    "\n",
    "print ('modules loaded')"
   ]
  },
  {
   "cell_type": "markdown",
   "id": "f462aeed",
   "metadata": {},
   "source": [
    "# **Data Preprocessing**"
   ]
  },
  {
   "cell_type": "markdown",
   "id": "bfd84525",
   "metadata": {},
   "source": [
    "#### **Read data and store it in dataframe**"
   ]
  },
  {
   "cell_type": "code",
   "execution_count": null,
   "id": "b1f91569",
   "metadata": {},
   "outputs": [],
   "source": [
    "# Generate data paths with labels\n",
    "data_dir = '../input/russells-viper-and-indian-rock-python-dataset'\n",
    "filepaths = []\n",
    "labels = []\n",
    "\n",
    "folds = os.listdir(data_dir)\n",
    "for fold in folds:\n",
    "    foldpath = os.path.join(data_dir, fold)\n",
    "    filelist = os.listdir(foldpath)\n",
    "    for file in filelist:\n",
    "        fpath = os.path.join(foldpath, file)\n",
    "        filepaths.append(fpath)\n",
    "        labels.append(fold)\n",
    "\n",
    "# Concatenate data paths with labels into one dataframe\n",
    "Fseries = pd.Series(filepaths, name= 'filepaths')\n",
    "Lseries = pd.Series(labels, name='labels')\n",
    "df = pd.concat([Fseries, Lseries], axis= 1)"
   ]
  },
  {
   "cell_type": "markdown",
   "id": "d6415ea2",
   "metadata": {},
   "source": [
    "#### **Split data into train, valid, and test**"
   ]
  },
  {
   "cell_type": "code",
   "execution_count": null,
   "id": "74370b22",
   "metadata": {},
   "outputs": [],
   "source": [
    "# train dataframe\n",
    "train_df, dummy_df = train_test_split(df,  train_size= 0.8, shuffle= True, random_state= 123)\n",
    "\n",
    "# valid and test dataframe\n",
    "valid_df, test_df = train_test_split(dummy_df,  train_size= 0.6, shuffle= True, random_state= 123)"
   ]
  },
  {
   "cell_type": "code",
   "execution_count": null,
   "id": "b3b231ce",
   "metadata": {},
   "outputs": [],
   "source": [
    "# img = PILImage.create(train_df.iloc[0, 0])\n",
    "# print(img.size)\n",
    "# img.to_thumb(720)"
   ]
  },
  {
   "cell_type": "code",
   "execution_count": null,
   "id": "58f1d728",
   "metadata": {},
   "outputs": [],
   "source": [
    "dls = ImageDataLoaders.from_df(train_df, \n",
    "                               fn_col=0, # filepaths\n",
    "                               label_col=1, # labels\n",
    "                               valid_pct=0.2,\n",
    "                               folder='', \n",
    "                               item_tfms=Resize(224))"
   ]
  },
  {
   "cell_type": "code",
   "execution_count": null,
   "id": "afaac9df",
   "metadata": {},
   "outputs": [],
   "source": [
    "dls.show_batch(max_n=16)"
   ]
  },
  {
   "cell_type": "markdown",
   "id": "b4b153ce",
   "metadata": {},
   "source": [
    "# **Model Structure**"
   ]
  },
  {
   "cell_type": "code",
   "execution_count": null,
   "id": "cc6fc650",
   "metadata": {},
   "outputs": [],
   "source": [
    "learn = vision_learner(dls, 'efficientnet_b3', metrics=[accuracy, error_rate], path='.').to_fp16()\n",
    "learn.summary()"
   ]
  },
  {
   "cell_type": "code",
   "execution_count": null,
   "id": "5595e988",
   "metadata": {},
   "outputs": [],
   "source": [
    "learn.lr_find(suggest_funcs=(valley, slide))"
   ]
  },
  {
   "cell_type": "markdown",
   "id": "dfbe7120",
   "metadata": {},
   "source": [
    "## **Training**"
   ]
  },
  {
   "cell_type": "code",
   "execution_count": null,
   "id": "92bc3b1b",
   "metadata": {},
   "outputs": [],
   "source": [
    "learn.fit_one_cycle(30)"
   ]
  },
  {
   "cell_type": "markdown",
   "id": "5b928ed8",
   "metadata": {},
   "source": [
    "## **Evaluate Model**"
   ]
  },
  {
   "cell_type": "code",
   "execution_count": null,
   "id": "0017b8db",
   "metadata": {},
   "outputs": [],
   "source": [
    "preds,y, loss = learn.get_preds(with_loss=True)\n",
    "\n",
    "# get accuracy\n",
    "acc = accuracy(preds, y)\n",
    "print('The accuracy is {0} %.'.format(acc))"
   ]
  },
  {
   "cell_type": "markdown",
   "id": "330727b9",
   "metadata": {},
   "source": [
    "## **Save Model**"
   ]
  },
  {
   "cell_type": "code",
   "execution_count": null,
   "id": "cfeb0f9f",
   "metadata": {},
   "outputs": [],
   "source": [
    "# Save the model\n",
    "learn.save('/kaggle/working/Model')"
   ]
  },
  {
   "cell_type": "code",
   "execution_count": null,
   "id": "70dafbb7",
   "metadata": {},
   "outputs": [],
   "source": [
    "# Load the Model\n",
    "learn.load('/kaggle/working/Model')"
   ]
  },
  {
   "cell_type": "markdown",
   "id": "224798ed",
   "metadata": {},
   "source": [
    "## **Model Analysis**"
   ]
  },
  {
   "cell_type": "code",
   "execution_count": null,
   "id": "b0ce299f",
   "metadata": {},
   "outputs": [],
   "source": [
    "# Build a Classification Interpretation object from our learn model\n",
    "# it can show us where the model made the worse predictions:\n",
    "interp = ClassificationInterpretation.from_learner(learn)"
   ]
  },
  {
   "cell_type": "code",
   "execution_count": null,
   "id": "0def3b45",
   "metadata": {},
   "outputs": [],
   "source": [
    "# Plot the top ‘n’ classes where the classifier has least precision.\n",
    "interp.plot_top_losses(12, figsize=(15,15))"
   ]
  },
  {
   "cell_type": "code",
   "execution_count": null,
   "id": "42cb8e36",
   "metadata": {},
   "outputs": [],
   "source": [
    "interp.plot_confusion_matrix(figsize=(8, 8), dpi=60)"
   ]
  },
  {
   "cell_type": "code",
   "execution_count": null,
   "id": "ea6a70d1",
   "metadata": {},
   "outputs": [],
   "source": [
    "#To view the list of classes most misclassified as a list\n",
    "interp.most_confused(min_val=2) #We are ignoring single image misclassification\n",
    "\n",
    "#Sorted descending list of largest non-diagonal entries of confusion matrix, \n",
    "#presented as actual, predicted, number of occurrences."
   ]
  },
  {
   "cell_type": "markdown",
   "id": "c582cc52",
   "metadata": {},
   "source": [
    "## **Thank You..**"
   ]
  }
 ],
 "metadata": {},
 "nbformat": 4,
 "nbformat_minor": 5
}
