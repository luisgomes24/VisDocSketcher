{
 "cells": [
  {
   "cell_type": "code",
   "execution_count": null,
   "id": "6e204bbc",
   "metadata": {},
   "outputs": [],
   "source": [
    "#importing all the necessary packages\n",
    "import pandas as pd\n",
    "from dateutil import parser\n",
    "import matplotlib.pyplot as plt\n",
    "import numpy as np\n",
    "\n",
    "# import plotly\n",
    "import plotly.plotly as py\n",
    "import plotly.graph_objs as go\n",
    "\n",
    "# these two lines are what allow your code to show up in a notebook!\n",
    "from plotly.offline import init_notebook_mode, iplot\n",
    "init_notebook_mode()"
   ]
  },
  {
   "cell_type": "code",
   "execution_count": null,
   "id": "6071bb54",
   "metadata": {},
   "outputs": [],
   "source": [
    "#read the data\n",
    "data = pd.read_csv(\"../input/fire-department-calls-for-service.csv\")"
   ]
  },
  {
   "cell_type": "markdown",
   "id": "324c760e",
   "metadata": {},
   "source": [
    "Since the dataframe is huge, 10000 records are sampled from it. As the purpose is the visualization of important features, working with a smaller dataframe retains the meaningful characteristics present in the data and makes the job simpler. \n",
    "\n",
    "The dataframe now contains only 4 columns of relevant data."
   ]
  },
  {
   "cell_type": "code",
   "execution_count": null,
   "id": "85a36c77",
   "metadata": {},
   "outputs": [],
   "source": [
    "df = data.sample(10000)\n",
    "print(df.head())\n",
    "\n",
    "df = df[['Response DtTm', 'On Scene DtTm', 'Box', 'Number of Alarms']]"
   ]
  },
  {
   "cell_type": "markdown",
   "id": "c7b7c791",
   "metadata": {},
   "source": [
    "Since the dataframe is huge, 10000 records are sampled from it. As the purpose is the visualization of important features, working with a smaller dataframe retains the meaningful characteristics present in the data and makes the job simpler. \n",
    "\n",
    "The dataframe now contains only 4 columns of relevant data."
   ]
  },
  {
   "cell_type": "code",
   "execution_count": null,
   "id": "13e9c364",
   "metadata": {},
   "outputs": [],
   "source": [
    "print(df.count())\n",
    "\n",
    "df = df.dropna().reset_index()\n",
    "\n",
    "print(df.count())"
   ]
  },
  {
   "cell_type": "markdown",
   "id": "bd3d69e8",
   "metadata": {},
   "source": [
    "The data is cleaned. All the null values are dropped. This reduces the length of the dataframe to 7396."
   ]
  },
  {
   "cell_type": "code",
   "execution_count": null,
   "id": "a53a9c78",
   "metadata": {},
   "outputs": [],
   "source": [
    "box = df.groupby('Box').size()\n",
    "\n",
    "plt.scatter(box.index, box)\n",
    "plt.xlabel(\"Box No.\")\n",
    "plt.ylabel(\"Count of incidents\")\n",
    "plt.title(\"Scatterplot showing counts of incidents in each box\")\n",
    "plt.show()"
   ]
  },
  {
   "cell_type": "markdown",
   "id": "af5354d2",
   "metadata": {},
   "source": [
    "The total no. of incidents that occurred in each box is plotted.  "
   ]
  },
  {
   "cell_type": "code",
   "execution_count": null,
   "id": "6cf62952",
   "metadata": {},
   "outputs": [],
   "source": [
    "# sepcify that we want a scatter plot with, with date on the x axis and meet on the y axis\n",
    "data = [go.Scatter(x=box.index, y=box, mode='markers')]\n",
    "\n",
    "# specify the layout of our figure\n",
    "layout = dict(title = \"Scatterplot showing counts of incidents in each box\",\n",
    "              xaxis= dict(title= 'Box No.'), yaxis= dict(title= 'Count of incidents')  )\n",
    "\n",
    "# create and show our figure\n",
    "fig = dict(data = data, layout = layout)\n",
    "iplot(fig)"
   ]
  },
  {
   "cell_type": "code",
   "execution_count": null,
   "id": "0a8e7dbe",
   "metadata": {},
   "outputs": [],
   "source": [
    "print(np.mean(box))\n",
    "\n",
    "risk = box[box > 5]\n",
    "print(len(risk))"
   ]
  },
  {
   "cell_type": "markdown",
   "id": "26c06b2d",
   "metadata": {},
   "source": [
    "On an average, the no. of incidents  in each box stays below 5.\n",
    "\n",
    "The boxes where the no. of incidents that took place is more than 10 are marked as high risk."
   ]
  },
  {
   "cell_type": "markdown",
   "id": "3c501e26",
   "metadata": {},
   "source": [
    "One useful feature to note will be the time taken to reach on scene after getting the information.\n",
    "\n",
    "Reducing that time difference, specially in high risk areas will improve the safety. "
   ]
  },
  {
   "cell_type": "code",
   "execution_count": null,
   "id": "8fd8943d",
   "metadata": {},
   "outputs": [],
   "source": [
    "df['Time Diff'] = 0\n",
    "\n",
    "for i in range(len(df)):\n",
    "    dt1 = parser.parse(df['On Scene DtTm'][i])\n",
    "    dt2 = parser.parse(df['Response DtTm'][i])\n",
    "    td = (dt1 - dt2).total_seconds()\n",
    "    df['Time Diff'][i] = td/60\n",
    "    "
   ]
  },
  {
   "cell_type": "markdown",
   "id": "98113b7d",
   "metadata": {},
   "source": [
    "Those fire incidents where the no. of alarms is 1 are considered as they account for more than 90% of the data.\n",
    "\n"
   ]
  },
  {
   "cell_type": "code",
   "execution_count": null,
   "id": "082e5079",
   "metadata": {},
   "outputs": [],
   "source": [
    "d_ = df[df[\"Number of Alarms\"] == 1]\n",
    "\n",
    "plt.scatter(d_[\"Box\"],d_[\"Time Diff\"])\n",
    "plt.plot(risk, \"ro\")\n",
    "plt.xlabel(\"Box No.\")\n",
    "plt.ylabel(\"Time taken to respond(in mins.)\")\n",
    "plt.title(\"Scatterplot showing time taken to respond(in mins.) vs box no.\")\n",
    "plt.show()"
   ]
  },
  {
   "cell_type": "code",
   "execution_count": null,
   "id": "0674f3b3",
   "metadata": {},
   "outputs": [],
   "source": [
    "trace1 = go.Scatter(\n",
    "   x = d_[\"Box\"],\n",
    "   y = d_[\"Time Diff\"],\n",
    "   mode = 'markers', \n",
    "   name = 'low risk boxes' \n",
    "   )\n",
    "\n",
    "trace2 = go.Scatter(\n",
    "   x = risk.index,\n",
    "   y = risk,\n",
    "   mode = 'markers',\n",
    "   name = 'high risk boxes' \n",
    "   )\n",
    "\n",
    "layout = dict(title = \"Scatterplot showing time taken to respond(in mins.) vs box no.\",\n",
    "              xaxis= dict(title= 'Box No.'), yaxis= dict(title= 'Time taken to respond(in mins.)')  )\n",
    "\n",
    "data = [trace1, trace2]\n",
    "fig = dict(data = data, layout = layout)\n",
    "iplot(fig)"
   ]
  },
  {
   "cell_type": "code",
   "execution_count": null,
   "id": "4a0002a6",
   "metadata": {},
   "outputs": [],
   "source": [
    "nan"
   ]
  }
 ],
 "metadata": {},
 "nbformat": 4,
 "nbformat_minor": 5
}
