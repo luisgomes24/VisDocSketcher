{
 "cells": [
  {
   "cell_type": "markdown",
   "id": "1fb76120",
   "metadata": {},
   "source": [
    "These exercises accompany the tutorial on [functions and getting help](https://www.kaggle.com/colinmorris/functions-and-getting-help).\n",
    "\n",
    "As before, don't forget to run the setup code below before jumping into question 1."
   ]
  },
  {
   "cell_type": "code",
   "execution_count": null,
   "id": "e9e931a8",
   "metadata": {},
   "outputs": [],
   "source": [
    "# SETUP. You don't need to worry for now about what this code does or how it works. If you're ever curious about the \n",
    "# code behind these exercises, it's available under an open source license here: https://github.com/Kaggle/learntools/\n",
    "from learntools.core import binder; binder.bind(globals())\n",
    "from learntools.python.ex2 import *\n",
    "print('Setup complete.')"
   ]
  },
  {
   "cell_type": "markdown",
   "id": "4be9624d",
   "metadata": {},
   "source": [
    "# Exercises"
   ]
  },
  {
   "cell_type": "markdown",
   "id": "1f6467ab",
   "metadata": {},
   "source": [
    "## 1.\n",
    "\n",
    "Complete the body of the following function according to its docstring.\n",
    "\n",
    "HINT: Python has a builtin function `round`"
   ]
  },
  {
   "cell_type": "code",
   "execution_count": null,
   "id": "403ea454",
   "metadata": {},
   "outputs": [],
   "source": [
    "def round_to_two_places(num=3.1234):\n",
    "    \"\"\"Return the given number rounded to two decimal places. \n",
    "    \n",
    "    >>> round_to_two_places(3.14159)\n",
    "    3.14\n",
    "    \"\"\"\n",
    "    # Replace this body with your own code.\n",
    "    # (\"pass\" is a keyword that does literally nothing. We used it as a placeholder\n",
    "    # because after we begin a code block, Python requires at least one line of code)\n",
    "    pass\n",
    "    a= round(num,2)\n",
    "    return a\n",
    "q1.check()"
   ]
  },
  {
   "cell_type": "code",
   "execution_count": null,
   "id": "a393f225",
   "metadata": {},
   "outputs": [],
   "source": [
    "# Uncomment the following for a hint\n",
    "q1.hint()\n",
    "# Or uncomment the following to peek at the solution\n",
    "q1.solution()"
   ]
  },
  {
   "cell_type": "markdown",
   "id": "3e12e0e0",
   "metadata": {},
   "source": [
    "## 2.\n",
    "The help for `round` says that `ndigits` (the second argument) may be negative.\n",
    "What do you think will happen when it is? Try out some examples in the console (at the bottom of the editor) or in a new code cell.\n",
    "\n",
    "Can you think of a case where this would be useful?"
   ]
  },
  {
   "cell_type": "code",
   "execution_count": null,
   "id": "ca3c17e6",
   "metadata": {},
   "outputs": [],
   "source": [
    "q2.solution()"
   ]
  },
  {
   "cell_type": "markdown",
   "id": "e3a4f843",
   "metadata": {},
   "source": [
    "## 3.\n",
    "\n",
    "In the last exercise, I introduced candy-sharing friends Alice, Bob and Carol. As a reminder, they have some candies which they plan to split evenly among themselves. For the sake of their friendship, any candies left over would be smashed. For example, if they collectively bring home 91 candies, they'll take 30 each and smash 1.\n",
    "\n",
    "Earlier, you wrote some code to calculate how many candies they'd have to smash, assuming they collected a particular number.\n",
    "\n",
    "Below is a simple function that will calculate the number of candies to smash for *any* number of total candies.\n",
    "\n",
    "Modify it so that it optionally takes a second argument representing the number of friends the candies are being split between. If no second argument is provided, it should assume 3 friends, as before.\n",
    "\n",
    "If you're feeling extra fastidious, update the docstring to reflect this new behaviour (but we won't be checking for this)."
   ]
  },
  {
   "cell_type": "code",
   "execution_count": null,
   "id": "bae630e8",
   "metadata": {},
   "outputs": [],
   "source": [
    "def to_smash(total_candies=91, no_of_friends=3):\n",
    "    \"\"\"Return the number of leftover candies that must be smashed after distributing\n",
    "    the given number of candies evenly between 3 friends.\n",
    "    \n",
    "    >>> to_smash(91)\n",
    "    1\n",
    "    \"\"\"\n",
    "    return total_candies % no_of_friends\n",
    "\n",
    "q3.check()"
   ]
  },
  {
   "cell_type": "code",
   "execution_count": null,
   "id": "0fe7057b",
   "metadata": {},
   "outputs": [],
   "source": [
    "q3.hint()"
   ]
  },
  {
   "cell_type": "code",
   "execution_count": null,
   "id": "df93ffe8",
   "metadata": {},
   "outputs": [],
   "source": [
    "q3.solution()"
   ]
  },
  {
   "cell_type": "markdown",
   "id": "575fef3c",
   "metadata": {},
   "source": [
    "## 4.\n",
    "\n",
    "It may not be fun, but reading and understanding error messages will be an important part of your Python career.\n",
    "\n",
    "Each code cell below contains some commented-out buggy code. For each cell...\n",
    "\n",
    "1. Read the code and predict what you think will happen when it's run.\n",
    "2. Then uncomment the code and run it to see what happens. (**Tip**: In the kernel editor, you can highlight several lines and press `ctrl`+`/` to toggle commenting.)\n",
    "3. Fix the code (so that it accomplishes its intended purpose without throwing an exception)\n",
    "\n",
    "<!-- TODO: should this be autochecked? Delta is probably pretty small. -->"
   ]
  },
  {
   "cell_type": "code",
   "execution_count": null,
   "id": "65c9cbad",
   "metadata": {},
   "outputs": [],
   "source": [
    "round(9.123,2)"
   ]
  },
  {
   "cell_type": "code",
   "execution_count": null,
   "id": "5139c361",
   "metadata": {},
   "outputs": [],
   "source": [
    " x = -10\n",
    " y = 5\n",
    "##Which of the two variables above has the smallest absolute value?\n",
    "x1= abs(x)\n",
    "y1=abs(y)\n",
    "smallest_abs = min(x1,y1)"
   ]
  },
  {
   "cell_type": "code",
   "execution_count": null,
   "id": "376c3e2e",
   "metadata": {},
   "outputs": [],
   "source": [
    "def f(x):\n",
    "    y = abs(x)\n",
    "    return y\n",
    "\n",
    "print(f(5))"
   ]
  },
  {
   "cell_type": "markdown",
   "id": "b2f839a9",
   "metadata": {},
   "source": [
    "## 5. <span title=\"A bit spicy\" style=\"color: darkgreen \">🌶️</span>\n",
    "\n",
    "For this question, we'll be using two functions imported from Python's `time` module.\n",
    "\n",
    "The [time](https://docs.python.org/3/library/time.html#time.time) function returns the number of seconds that have passed since the Epoch (aka [Unix time](https://en.wikipedia.org/wiki/Unix_time)). \n",
    "\n",
    "<!-- We've provided a function called `seconds_since_epoch` which returns the number of seconds that have passed since the Epoch (aka [Unix time](https://en.wikipedia.org/wiki/Unix_time)). -->\n",
    "\n",
    "Try it out below. Each time you run it, you should get a slightly larger number."
   ]
  },
  {
   "cell_type": "code",
   "execution_count": null,
   "id": "24e49615",
   "metadata": {},
   "outputs": [],
   "source": [
    "# Importing the function 'time' from the module of the same name. \n",
    "# (We'll discuss imports in more depth later)\n",
    "from time import time\n",
    "t = time()\n",
    "print(t, \"seconds since the Epoch\")"
   ]
  },
  {
   "cell_type": "markdown",
   "id": "4117cf0b",
   "metadata": {},
   "source": [
    "We'll also be using a function called [sleep](https://docs.python.org/3/library/time.html#time.sleep), which makes us wait some number of seconds while it does nothing particular. (Sounds useful, right?)\n",
    "\n",
    "You can see it in action by running the cell below:"
   ]
  },
  {
   "cell_type": "code",
   "execution_count": null,
   "id": "7c044988",
   "metadata": {},
   "outputs": [],
   "source": [
    "from time import sleep\n",
    "duration = 5\n",
    "print(\"Getting sleepy. See you in\", duration, \"seconds\")\n",
    "sleep(duration)\n",
    "print(\"I'm back. What did I miss?\")"
   ]
  },
  {
   "cell_type": "markdown",
   "id": "9c8bc830",
   "metadata": {},
   "source": [
    "With the help of these functions, complete the function `time_call` below according to its docstring.\n",
    "\n",
    "<!-- (The sleep function will be useful for testing here since we have a pretty good idea of what something like `time_call(sleep, 1)` should return.) -->"
   ]
  },
  {
   "cell_type": "code",
   "execution_count": null,
   "id": "4f2f0922",
   "metadata": {},
   "outputs": [],
   "source": [
    "def time_call(time, duration):\n",
    "    \"\"\"Return the amount of time the given function takes (in seconds) when called with the given argument.\n",
    "    \"\"\"\n",
    "    sleep(2) \n",
    "    t0=time()   \n",
    "    fn(args)\n",
    "    t1=time()\n",
    "    sleep(2)      \n",
    "    elapsed = t1- t0\n",
    "    return elapsed\n",
    "\n"
   ]
  },
  {
   "cell_type": "markdown",
   "id": "90144fad",
   "metadata": {},
   "source": [
    "How can you verify that `time_call` is working correctly? (There's no `q5.check()` function for this question - testing your solution is part of your challenge.)"
   ]
  },
  {
   "cell_type": "code",
   "execution_count": null,
   "id": "2c79e5c1",
   "metadata": {},
   "outputs": [],
   "source": [
    "q5.hint()"
   ]
  },
  {
   "cell_type": "code",
   "execution_count": null,
   "id": "add348f3",
   "metadata": {},
   "outputs": [],
   "source": [
    "q5.solution()"
   ]
  },
  {
   "cell_type": "markdown",
   "id": "3cb32942",
   "metadata": {},
   "source": [
    "## 6. <span title=\"A bit spicy\" style=\"color: darkgreen \">🌶️</span>\n",
    "\n",
    "*Note: this question depends on a working solution to the previous question.*\n",
    "\n",
    "Complete the function below according to its docstring."
   ]
  },
  {
   "cell_type": "code",
   "execution_count": null,
   "id": "47ae6b26",
   "metadata": {},
   "outputs": [],
   "source": [
    "def slowest_call(fn, arg1, arg2, arg3):\n",
    "    \"\"\"Return the amount of time taken by the slowest of the following function\n",
    "    calls: fn(arg1), fn(arg2), fn(arg3)\n",
    "    \"\"\"\n",
    "    return max(time_call(fn, arg1), time_call(fn, arg2), time_call(fn, arg3))\n",
    "    pass"
   ]
  },
  {
   "cell_type": "code",
   "execution_count": null,
   "id": "1f998288",
   "metadata": {},
   "outputs": [],
   "source": [
    "q6.hint()"
   ]
  },
  {
   "cell_type": "code",
   "execution_count": null,
   "id": "7f7446f0",
   "metadata": {},
   "outputs": [],
   "source": [
    "q6.solution()"
   ]
  },
  {
   "cell_type": "markdown",
   "id": "bb2710fc",
   "metadata": {},
   "source": [
    "\n",
    "\n",
    "## 7. <span title=\"A bit spicy\" style=\"color: darkgreen \">🌶️</span>\n",
    "\n",
    "What will Python display after we run the following (weird) code? Think carefully about the order in which Python will evaluate each part. When you have a prediction, uncomment and run the code to check whether you were correct."
   ]
  },
  {
   "cell_type": "code",
   "execution_count": null,
   "id": "6c7d8f41",
   "metadata": {},
   "outputs": [],
   "source": [
    "print(print(\"Spam\"))"
   ]
  },
  {
   "cell_type": "code",
   "execution_count": null,
   "id": "f075d5be",
   "metadata": {},
   "outputs": [],
   "source": [
    "#q7.hint()"
   ]
  },
  {
   "cell_type": "code",
   "execution_count": null,
   "id": "810b3a06",
   "metadata": {},
   "outputs": [],
   "source": [
    "# Uncomment for an explanation.\n",
    "q7.solution()"
   ]
  },
  {
   "cell_type": "markdown",
   "id": "21e82c21",
   "metadata": {},
   "source": [
    "## 8. <span title=\"Spicy - this optional problem is intended to be extra difficult\" style=\"color: coral\">🌶️🌶️</span>\n",
    "\n",
    "Read the function definition below. What do you think will be returned by the function call at the bottom of the cell? Will it match the docstring example? Return something else? Or will Python raise an exception? When you're ready, run the code cell to find out."
   ]
  },
  {
   "cell_type": "code",
   "execution_count": null,
   "id": "9976aa04",
   "metadata": {},
   "outputs": [],
   "source": [
    "def smallest_stringy_number(s1, s2, s3):\n",
    "    \"\"\"Return whichever of the three string arguments represents the smallest number.\n",
    "    \n",
    "    >>> smallest_stringy_number('1', '2', '3')\n",
    "    '1'\n",
    "    \"\"\"\n",
    "    return min(s1, s2, s3)\n",
    "\n",
    "smallest_stringy_number('1', '2', '3')"
   ]
  },
  {
   "cell_type": "markdown",
   "id": "f2d17cd8",
   "metadata": {},
   "source": [
    "<br/><br/><br/><br/><br/><br/><br/><br/><br/>\n",
    "\n",
    "(If you thought it would raise an exception, that's a perfectly reasonable guess. A large portion of learning Python is just trying stuff out and seeing what happens! A lot of arbitrary or at least subjective decisions go into designing a programming language, and it's not always possible to deduce from first principles how Python will handle a particular situation.)\n",
    "\n",
    "But in this case, the `min` function gamely accepts our string inputs and seems to work as desired! Or, at least on the example in the docstring. However, there's a subtle problem afoot. Try experimenting with the function to see if you can find a set of inputs where it fails. Can you see where it's going wrong?"
   ]
  },
  {
   "cell_type": "code",
   "execution_count": null,
   "id": "ba0af79d",
   "metadata": {},
   "outputs": [],
   "source": [
    "#q8.a.solution()"
   ]
  },
  {
   "cell_type": "markdown",
   "id": "acaa6b3c",
   "metadata": {},
   "source": [
    "### b.\n",
    "\n",
    "In the cell below, modify `smallest_stringy_number` to fix the bug you identified in part a.\n",
    "\n",
    "Reminder: [In the first lesson](https://www.kaggle.com/colinmorris/hello-python), we briefly saw that `int` can be called on strings such as `'32'` to get the corresponding integer value.\n",
    "\n",
    "**Bonus**: Can you keep the function's body down to one line? (Try to only use tools we've seen so far - i.e. no loops, conditionals, etc.)"
   ]
  },
  {
   "cell_type": "code",
   "execution_count": null,
   "id": "328371c0",
   "metadata": {},
   "outputs": [],
   "source": [
    "def smallest_stringy_number(s1, s2, s3):\n",
    "    \"\"\"Return whichever of the three string arguments represents the smallest number.\n",
    "    \n",
    "    >>> smallest_stringy_number('1', '2', '3')\n",
    "    '1'\n",
    "    \"\"\"\n",
    "    return min(s1, s2, s3)\n",
    "\n",
    "q8.b.check()"
   ]
  },
  {
   "cell_type": "code",
   "execution_count": null,
   "id": "12a4c20e",
   "metadata": {},
   "outputs": [],
   "source": [
    "#q8.b.hint()"
   ]
  },
  {
   "cell_type": "code",
   "execution_count": null,
   "id": "97d66443",
   "metadata": {},
   "outputs": [],
   "source": [
    "#q8.b.solution()"
   ]
  },
  {
   "cell_type": "markdown",
   "id": "b7df3881",
   "metadata": {},
   "source": [
    "If you have any questions, be sure to post them on the [forums](https://www.kaggle.com/learn-forum).\n",
    "\n",
    "Remember that your notebook is private by default, and in order to share it with other people or ask for help with it, you'll need to make it public. First, you'll need to save a version of your notebook that shows your current work by hitting the \"Commit & Run\" button. (Your work is saved automatically, but versioning your work lets you go back and look at what it was like at the point you saved it. It also let's you share a nice compiled notebook instead of just the raw code.) Then, once your notebook is finished running, you can go to the Settings tab in the panel to the left (you may have to expand it by hitting the [<] button next to the \"Commit & Run\" button) and setting the \"Visibility\" dropdown to \"Public\".\n",
    "\n",
    "# Keep Going\n",
    "\n",
    "When you're ready to continue, [click here](https://www.kaggle.com/colinmorris/booleans-and-conditionals) to continue on to the next tutorial on booleans and conditionals."
   ]
  }
 ],
 "metadata": {},
 "nbformat": 4,
 "nbformat_minor": 5
}
