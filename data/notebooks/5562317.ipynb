{
 "cells": [
  {
   "cell_type": "markdown",
   "id": "dabe587f",
   "metadata": {},
   "source": [
    "### 1. IMPORT LIBRARY"
   ]
  },
  {
   "cell_type": "code",
   "execution_count": null,
   "id": "0ced9560",
   "metadata": {},
   "outputs": [],
   "source": [
    "# This Python 3 environment comes with many helpful analytics libraries installed\n",
    "# It is defined by the kaggle/python docker image: https://github.com/kaggle/docker-python\n",
    "# For example, here's several helpful packages to load in \n",
    "\n",
    "import pandas as pd\n",
    "import numpy as np\n",
    "import matplotlib.pyplot as plt\n",
    "import seaborn as sns\n",
    "\n",
    "# Input data files are available in the \"../input/\" directory.\n",
    "# For example, running this (by clicking run or pressing Shift+Enter) will list all files under the input directory\n",
    "\n",
    "import os\n",
    "for dirname, _, filenames in os.walk('/kaggle/input'):\n",
    "    for filename in filenames:\n",
    "        print(os.path.join(dirname, filename))\n",
    "\n",
    "# Any results you write to the current directory are saved as output."
   ]
  },
  {
   "cell_type": "markdown",
   "id": "74fe6818",
   "metadata": {},
   "source": [
    "## 2. LOAD DATA"
   ]
  },
  {
   "cell_type": "code",
   "execution_count": null,
   "id": "dad1a18e",
   "metadata": {},
   "outputs": [],
   "source": [
    "data = pd.read_csv('/kaggle/input/german-credit/german_credit_data.csv')\n",
    "data"
   ]
  },
  {
   "cell_type": "markdown",
   "id": "72b594ed",
   "metadata": {},
   "source": [
    "#### cek dimensi dan info tabel"
   ]
  },
  {
   "cell_type": "code",
   "execution_count": null,
   "id": "f5f830b0",
   "metadata": {},
   "outputs": [],
   "source": [
    "data.info()"
   ]
  },
  {
   "cell_type": "markdown",
   "id": "db7baf67",
   "metadata": {},
   "source": [
    "#### summary statistic"
   ]
  },
  {
   "cell_type": "code",
   "execution_count": null,
   "id": "f0a99e22",
   "metadata": {},
   "outputs": [],
   "source": [
    "# summary statistic\n",
    "data.describe()"
   ]
  },
  {
   "cell_type": "markdown",
   "id": "1504f973",
   "metadata": {},
   "source": [
    "### 3. DATA CLEANSING"
   ]
  },
  {
   "cell_type": "markdown",
   "id": "7ecb5639",
   "metadata": {},
   "source": [
    "##### 1. CEK MISSING VALUE"
   ]
  },
  {
   "cell_type": "code",
   "execution_count": null,
   "id": "b05c6fba",
   "metadata": {},
   "outputs": [],
   "source": [
    "# count_missing = data.isnull().sum().sort_values(ascending = False)\n",
    "percentage_missing=round(data.isnull().sum()/len(data)*100,2).sort_values(ascending = False)\n",
    "print(percentage_missing)"
   ]
  },
  {
   "cell_type": "markdown",
   "id": "c6154753",
   "metadata": {},
   "source": [
    "##### 2. DROP KOLOM YANG TIDAK DIGUNAKAN"
   ]
  },
  {
   "cell_type": "code",
   "execution_count": null,
   "id": "5cb684fb",
   "metadata": {},
   "outputs": [],
   "source": [
    "df=data.drop(columns=['Unnamed: 0'])\n",
    "df.head()"
   ]
  },
  {
   "cell_type": "markdown",
   "id": "82646212",
   "metadata": {},
   "source": [
    "##### 3. FILL MISSING VALUE"
   ]
  },
  {
   "cell_type": "code",
   "execution_count": null,
   "id": "c8a9fc69",
   "metadata": {},
   "outputs": [],
   "source": [
    "# fill the missing value\n",
    "categoricals = ['Checking account','Saving accounts']\n",
    "\n",
    "for num in categoricals :\n",
    "    modus=df[num].mode().values[0]\n",
    "    df[num] = df[num].fillna(modus)\n",
    "\n",
    "df.head()"
   ]
  },
  {
   "cell_type": "markdown",
   "id": "b25489e8",
   "metadata": {},
   "source": [
    "##### 4. CEK OUTLIER"
   ]
  },
  {
   "cell_type": "code",
   "execution_count": null,
   "id": "1ff5dfd8",
   "metadata": {},
   "outputs": [],
   "source": [
    "# boxplot weather\n",
    "\n",
    "f=plt.figure(figsize=(13,12))\n",
    "f.add_subplot(3,3,1)\n",
    "sns.boxplot(df['Credit amount'],orient = \"h\")\n",
    "f.add_subplot(3,3,2)\n",
    "sns.boxplot(df['Duration'],orient = \"h\")\n",
    "f.add_subplot(3,3,3)\n",
    "sns.boxplot(df['Age'],orient = \"h\")\n",
    "\n",
    "# ketiga variabel tidak dihapus, karena akan digunakan untuk analisis"
   ]
  },
  {
   "cell_type": "markdown",
   "id": "c18372e5",
   "metadata": {},
   "source": [
    "### 4. INSIGHT VISUALISASI"
   ]
  },
  {
   "cell_type": "code",
   "execution_count": null,
   "id": "198a4081",
   "metadata": {},
   "outputs": [],
   "source": [
    "df.head()"
   ]
  },
  {
   "cell_type": "markdown",
   "id": "eee1850e",
   "metadata": {},
   "source": [
    "##### COUNTPLOT SEMUA VARIABEL"
   ]
  },
  {
   "cell_type": "code",
   "execution_count": null,
   "id": "9dd106c8",
   "metadata": {},
   "outputs": [],
   "source": [
    "df['Purpose'].unique()"
   ]
  },
  {
   "cell_type": "code",
   "execution_count": null,
   "id": "958e53d9",
   "metadata": {},
   "outputs": [],
   "source": [
    "f=plt.figure(figsize=(30,30))\n",
    "f.add_subplot(3,3,1)\n",
    "sns.countplot(df['Sex'])\n",
    "f.add_subplot(3,3,2)\n",
    "sns.countplot(df['Housing'])\n",
    "f.add_subplot(3,3,3)\n",
    "sns.countplot(df['Saving accounts'])\n",
    "f.add_subplot(3,3,4)\n",
    "sns.countplot(df['Checking account'])\n",
    "f.add_subplot(3,3,5)\n",
    "sns.countplot(df['Purpose'])\n",
    "\n",
    "# terlihat bahwa kreditur didominasi oleh laki-laki,dengan kepemilikan rumah sendiri, dengan tujuan meminjam untuk kredit mobil.\n",
    "# selain itu, pada grafik dapat diketahui bahwa dominasi kepemilikan tabungan kreditur berada pada kategori little atau sedikit,\n",
    "# begitu pun dengan checking account atau pengeluaran sehari-hari dari akun bank, masuk dalam kategori little atau sedikit."
   ]
  },
  {
   "cell_type": "markdown",
   "id": "fbb15249",
   "metadata": {},
   "source": [
    "##### DEMOGRAFI"
   ]
  },
  {
   "cell_type": "code",
   "execution_count": null,
   "id": "2f20648f",
   "metadata": {},
   "outputs": [],
   "source": [
    "age=df['Age'].unique()\n",
    "age"
   ]
  },
  {
   "cell_type": "code",
   "execution_count": null,
   "id": "5d204f9e",
   "metadata": {},
   "outputs": [],
   "source": [
    "plt.figure(figsize=(15,5))\n",
    "ages=df[df['Age']>18]\n",
    "sns.countplot(ages['Age'], order = ages['Age'].value_counts(), hue=ages['Sex'])\n",
    "plt.title('Demografi Kreditur Berdasarkan Umur dan Gender')\n",
    "plt.show()\n",
    "\n",
    "# Terlihat bahwa kreditur didominasi oleh umur 21 - 35 tahun."
   ]
  },
  {
   "cell_type": "markdown",
   "id": "59105bc6",
   "metadata": {},
   "source": [
    "> ##### DURATION"
   ]
  },
  {
   "cell_type": "code",
   "execution_count": null,
   "id": "94ee1f5c",
   "metadata": {},
   "outputs": [],
   "source": [
    "df['Duration'].value_counts()"
   ]
  },
  {
   "cell_type": "code",
   "execution_count": null,
   "id": "bd23761b",
   "metadata": {},
   "outputs": [],
   "source": [
    "plt.figure(figsize=(24,10))\n",
    "ax3 = sns.distplot(df['Duration'])\n",
    "ax3.set(title=\"Durasi Peminjaman Kredit\")\n",
    "\n",
    "# Pada grafik terlihat bahwa durasi peminjaman kredit terbanyak berada pada rentang tidak lebih dari 24 bulan,\n",
    "# dimana setelah 24 bulan tren grafik menunjukkan penurunan, yang artinya tidak banyak kreditur yang meminjam\n",
    "# dengan durasi lebih dari 24 bulan."
   ]
  },
  {
   "cell_type": "markdown",
   "id": "50a1393d",
   "metadata": {},
   "source": [
    "##### CREDIT AMOUNT BERDASARKAN SAVING ACCOUNT"
   ]
  },
  {
   "cell_type": "code",
   "execution_count": null,
   "id": "65f5e5e9",
   "metadata": {},
   "outputs": [],
   "source": [
    "# mean CREDIT AMOUNT\n",
    "credit=df[['Saving accounts', 'Credit amount']]\n",
    "total=credit.groupby('Saving accounts').mean().sort_values('Credit amount',ascending=False).head()\n",
    "total"
   ]
  },
  {
   "cell_type": "code",
   "execution_count": null,
   "id": "a28d7df7",
   "metadata": {},
   "outputs": [],
   "source": [
    "plt.figure(figsize=(7,3))\n",
    "\n",
    "x=range(4)\n",
    "plt.bar(x,total['Credit amount'])\n",
    "plt.xticks(x,total.index)\n",
    "plt.xlabel('Saving account')\n",
    "plt.ylabel('Credit amount')\n",
    "plt.title('Credit amount of Saving account category')\n",
    "plt.show()\n",
    "\n",
    "# Terlihat bahwa jumlah kredit yang paling banyak didominasi oleh kreditur yang memiliki saving account kategori menengah ke bawah,\n",
    "# Hal ini dapat diambil insight untuk memberikan lebih banyak promosi kepada nasabah yang memiliki saving account dengan\n",
    "# kategori menengah ke atas, agar semakin banyak lagi yang melakukan kredit."
   ]
  },
  {
   "cell_type": "code",
   "execution_count": null,
   "id": "d81d7721",
   "metadata": {},
   "outputs": [],
   "source": [
    "plt.figure(figsize=(15,5))\n",
    "plt.title('Purpose Kredit Berdasarkan Saving Account Category')\n",
    "sns.countplot(x=\"Saving accounts\", hue='Purpose', data=df)\n",
    "\n",
    "# Terlihat bahwa mayoritas purpose kredit adalah car atau mobil untuk semua saving account kategori."
   ]
  },
  {
   "cell_type": "code",
   "execution_count": null,
   "id": "16189735",
   "metadata": {},
   "outputs": [],
   "source": [
    "# scatterplot Horse Power vs Price\n",
    "plt.scatter(df['Credit amount'],df['Duration'])\n",
    "plt.title('Credit amount vs Duration')\n",
    "plt.xlabel('Duration')\n",
    "plt.ylabel('Credit amount')\n",
    "plt.show()\n",
    "\n",
    "# terlihat bahwa, semakin pendek durasinya maka jumlah kredit semakin rendah."
   ]
  },
  {
   "cell_type": "markdown",
   "id": "c38f909d",
   "metadata": {},
   "source": [
    "##### HEATMAP"
   ]
  },
  {
   "cell_type": "code",
   "execution_count": null,
   "id": "d4c25ca0",
   "metadata": {},
   "outputs": [],
   "source": [
    "#create correlation with hitmap\n",
    "\n",
    "#create correlation\n",
    "corr = df.corr(method = 'spearman')\n",
    "\n",
    "#convert correlation to numpy array\n",
    "mask = np.array(corr)\n",
    "\n",
    "#to mask the repetitive value for each pair\n",
    "mask[np.tril_indices_from(mask)] = False\n",
    "fig, ax = plt.subplots(figsize = (15,12))\n",
    "fig.set_size_inches(20,10)\n",
    "cmap=sns.cm.rocket_r\n",
    "sns.heatmap(corr, mask = mask, vmax = 0.9, square = True, annot = True, cmap=cmap)\n",
    "\n",
    "# terlihat bahwa, besar credit ammount banyak dipengaruhi oleh durasi peminjaman dan pekerjaan."
   ]
  }
 ],
 "metadata": {},
 "nbformat": 4,
 "nbformat_minor": 5
}
