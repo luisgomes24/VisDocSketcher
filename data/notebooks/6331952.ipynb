{
 "cells": [
  {
   "cell_type": "markdown",
   "id": "26e60f05",
   "metadata": {},
   "source": [
    "<h1> Accelerated Data Analysis using Pandas-Profiling</h1>\n",
    "\n",
    "# Introduction\n",
    "\n",
    "We show here how we can accelerate data analysis using [Pandas-Profiling](https://pandas-profiling.github.io/pandas-profiling/docs/).\n",
    "\n",
    "## Dataset\n",
    "\n",
    "As an application, we are using House Sales in King Country, USA dataset. We will apply Pandas-Profiling to this dataset.\n",
    "\n",
    "## Method\n",
    "\n",
    "After loading the packages and the data, we just apply pandas_profiling.ProfileReport to the dataset. This will generate the profiling report (see below)."
   ]
  },
  {
   "cell_type": "markdown",
   "id": "580d7ea0",
   "metadata": {},
   "source": [
    "# Prepare for analysis\n",
    "\n",
    "## Load packages"
   ]
  },
  {
   "cell_type": "code",
   "execution_count": null,
   "id": "cfc503a9",
   "metadata": {},
   "outputs": [],
   "source": [
    "import numpy as np \n",
    "import pandas as pd \n",
    "import os\n",
    "import pandas_profiling"
   ]
  },
  {
   "cell_type": "markdown",
   "id": "95587667",
   "metadata": {},
   "source": [
    "## Load data"
   ]
  },
  {
   "cell_type": "code",
   "execution_count": null,
   "id": "d3c14d8b",
   "metadata": {},
   "outputs": [],
   "source": [
    "data_df = pd.read_csv(os.path.join('../input/housesalesprediction/','kc_house_data.csv'))"
   ]
  },
  {
   "cell_type": "markdown",
   "id": "f9530834",
   "metadata": {},
   "source": [
    "# Generate the profile report"
   ]
  },
  {
   "cell_type": "code",
   "execution_count": null,
   "id": "f771fddf",
   "metadata": {},
   "outputs": [],
   "source": [
    "pandas_profiling.ProfileReport(data_df)"
   ]
  },
  {
   "cell_type": "markdown",
   "id": "44179d2c",
   "metadata": {},
   "source": [
    "## References\n",
    "\n",
    "[1] Pandas-Profiling Documentation, https://pandas-profiling.github.io/pandas-profiling/docs/"
   ]
  }
 ],
 "metadata": {},
 "nbformat": 4,
 "nbformat_minor": 5
}
