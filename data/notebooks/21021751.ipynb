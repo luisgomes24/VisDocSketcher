{
 "cells": [
  {
   "cell_type": "code",
   "execution_count": null,
   "id": "400aa682",
   "metadata": {},
   "outputs": [],
   "source": [
    "import numpy as np\n",
    "import pandas as pd\n",
    "import matplotlib.pyplot as plt\n",
    "import seaborn as sns\n",
    "from sklearn.cluster import KMeans\n",
    "from scipy.stats import norm, boxcox\n",
    "from scipy import stats"
   ]
  },
  {
   "cell_type": "code",
   "execution_count": null,
   "id": "c7199e07",
   "metadata": {},
   "outputs": [],
   "source": [
    "df = pd.read_csv(\"/kaggle/input/customer-segmentation-tutorial-in-python/Mall_Customers.csv\")\n",
    "df.head()"
   ]
  },
  {
   "cell_type": "code",
   "execution_count": null,
   "id": "cee9256b",
   "metadata": {},
   "outputs": [],
   "source": [
    "# Cheking no. of rows and columns\n",
    "# name of columns.\n",
    "# type of each column\n",
    "df.info()\n"
   ]
  },
  {
   "cell_type": "code",
   "execution_count": null,
   "id": "b5b20a3a",
   "metadata": {},
   "outputs": [],
   "source": [
    "# checking 5 number summary.\n",
    "df.describe()"
   ]
  },
  {
   "cell_type": "code",
   "execution_count": null,
   "id": "ddcc8a0e",
   "metadata": {},
   "outputs": [],
   "source": [
    "# Checking null\n",
    "df.isnull().sum()"
   ]
  },
  {
   "cell_type": "markdown",
   "id": "c93660e3",
   "metadata": {},
   "source": [
    "# checking outliers"
   ]
  },
  {
   "cell_type": "code",
   "execution_count": null,
   "id": "78fee060",
   "metadata": {},
   "outputs": [],
   "source": [
    "# I am using blox plot to identify the outliers"
   ]
  },
  {
   "cell_type": "code",
   "execution_count": null,
   "id": "76d12f0e",
   "metadata": {},
   "outputs": [],
   "source": [
    "sns.boxplot(y=\"Annual Income (k$)\", data=df)"
   ]
  },
  {
   "cell_type": "markdown",
   "id": "662abbe4",
   "metadata": {},
   "source": [
    "**# treating the outliers.**"
   ]
  },
  {
   "cell_type": "code",
   "execution_count": null,
   "id": "f93873db",
   "metadata": {},
   "outputs": [],
   "source": [
    "Q1 = df['Annual Income (k$)'].quantile(0.25)\n",
    "Q3 = df['Annual Income (k$)'].quantile(0.75)\n",
    "IQR = Q3 - Q1"
   ]
  },
  {
   "cell_type": "code",
   "execution_count": null,
   "id": "8d384ba3",
   "metadata": {},
   "outputs": [],
   "source": [
    "low_lim = Q1 - 1.5 * IQR\n",
    "up_lim = Q3 + 1.5 * IQR\n",
    "print('low_limit is', low_lim)\n",
    "print('up_limit is', up_lim)"
   ]
  },
  {
   "cell_type": "code",
   "execution_count": null,
   "id": "66f22997",
   "metadata": {},
   "outputs": [],
   "source": [
    "outlier = []\n",
    "for x in df['Annual Income (k$)']:\n",
    "    if ((x> up_lim) or (x<low_lim)):\n",
    "         outlier.append(x)\n",
    "print(' outlier in the dataset is', outlier)"
   ]
  },
  {
   "cell_type": "code",
   "execution_count": null,
   "id": "e90c9406",
   "metadata": {},
   "outputs": [],
   "source": [
    "len(outlier)\n",
    "# there is only 2 outlier value"
   ]
  },
  {
   "cell_type": "code",
   "execution_count": null,
   "id": "5c3be8ed",
   "metadata": {},
   "outputs": [],
   "source": [
    "# We are replacing outlier with median.\n",
    "# beacuse the total no. of observation are low.\n",
    "# so we can not drop those outliers value.\n",
    "# median are not affected by outlier."
   ]
  },
  {
   "cell_type": "code",
   "execution_count": null,
   "id": "a8cfebc3",
   "metadata": {},
   "outputs": [],
   "source": [
    "#replacing outlier value which is 137 with median=61.5\n",
    "df.loc[df['Annual Income (k$)'] >= 137, 'Annual Income (k$)'] = 61.5"
   ]
  },
  {
   "cell_type": "code",
   "execution_count": null,
   "id": "d5d4094f",
   "metadata": {},
   "outputs": [],
   "source": [
    "#outlier is removed now\n",
    "sns.boxplot(y=\"Annual Income (k$)\", data=df)"
   ]
  },
  {
   "cell_type": "code",
   "execution_count": null,
   "id": "74c79712",
   "metadata": {},
   "outputs": [],
   "source": [
    "#checking outlier for Spending Score\n",
    "sns.boxplot(y=\"Spending Score (1-100)\", data=df)\n",
    "# no outlier"
   ]
  },
  {
   "cell_type": "code",
   "execution_count": null,
   "id": "bc87596a",
   "metadata": {},
   "outputs": [],
   "source": [
    "#checking outlier for Age\n",
    "sns.boxplot(y=\"Age\", data=df)\n",
    "# no outlier"
   ]
  },
  {
   "cell_type": "markdown",
   "id": "ac55f36f",
   "metadata": {},
   "source": [
    "# checking skewness for spending score"
   ]
  },
  {
   "cell_type": "code",
   "execution_count": null,
   "id": "f343750d",
   "metadata": {},
   "outputs": [],
   "source": [
    "plt.figure(figsize=(10,4))\n",
    "plt.subplot(1,2,1)\n",
    "sns.distplot(df[\"Spending Score (1-100)\"], fit=norm, color=\"orange\")\n",
    "plt.title(\"Spending Score Distplot\", color = \"darkred\")\n",
    "plt.subplot(1,2,2)\n",
    "stats.probplot(df[\"Spending Score (1-100)\"], plot = plt)\n",
    "plt.show()"
   ]
  },
  {
   "cell_type": "code",
   "execution_count": null,
   "id": "41a42756",
   "metadata": {},
   "outputs": [],
   "source": [
    "# no need for skewness correction"
   ]
  },
  {
   "cell_type": "markdown",
   "id": "9e7c18e7",
   "metadata": {},
   "source": [
    "**# checking skewness for Annual income**"
   ]
  },
  {
   "cell_type": "code",
   "execution_count": null,
   "id": "480c14c2",
   "metadata": {},
   "outputs": [],
   "source": [
    "plt.figure(figsize=(10,4))\n",
    "plt.subplot(1,2,1)\n",
    "sns.distplot(df[\"Annual Income (k$)\"], fit=norm, color=\"orange\")\n",
    "plt.title(\"Annual Income (k$) Distplot\", color = \"darkred\")\n",
    "plt.subplot(1,2,2)\n",
    "stats.probplot(df[\"Annual Income (k$)\"], plot = plt)\n",
    "plt.show()"
   ]
  },
  {
   "cell_type": "code",
   "execution_count": null,
   "id": "93e856ab",
   "metadata": {},
   "outputs": [],
   "source": [
    "# no need for skewness correction"
   ]
  },
  {
   "cell_type": "markdown",
   "id": "b8dff5cd",
   "metadata": {},
   "source": [
    "# Visualizing the annual income vs spending score.\n",
    "# This will help us in deciding how many cluster we need."
   ]
  },
  {
   "cell_type": "code",
   "execution_count": null,
   "id": "0f587834",
   "metadata": {},
   "outputs": [],
   "source": [
    "sns.scatterplot(x=\"Annual Income (k$)\",\n",
    "                    y=\"Spending Score (1-100)\",\n",
    "                    data=df)"
   ]
  },
  {
   "cell_type": "code",
   "execution_count": null,
   "id": "bcf66241",
   "metadata": {},
   "outputs": [],
   "source": [
    "# making cluster on these two features 1. annual income 2. spending score"
   ]
  },
  {
   "cell_type": "code",
   "execution_count": null,
   "id": "b53df3cc",
   "metadata": {},
   "outputs": [],
   "source": [
    "clus = df.iloc[:,[3,4]].values"
   ]
  },
  {
   "cell_type": "code",
   "execution_count": null,
   "id": "7dea79e8",
   "metadata": {},
   "outputs": [],
   "source": [
    "# first we need to decide the number of cluster\n",
    "# for this we use elbow curve.\n",
    "# by seeing the elbow curve and ealier scater plot we can easily decide\n",
    "#how many cluster we accuanly need."
   ]
  },
  {
   "cell_type": "code",
   "execution_count": null,
   "id": "4b9847c7",
   "metadata": {},
   "outputs": [],
   "source": [
    "# wcss= within cluster sum of sqaures\n",
    "# we need to calculate the wcss beucase we need the elbow curve\n",
    "# to identify the no. of cluster requirement.\n",
    "wcss = []\n",
    "\n",
    "for i in range(1,11):\n",
    "  kmeans = KMeans(n_clusters=i, init='k-means++', random_state=42)\n",
    "  kmeans.fit(clus)\n",
    "\n",
    "  wcss.append(kmeans.inertia_)"
   ]
  },
  {
   "cell_type": "code",
   "execution_count": null,
   "id": "e2cc819a",
   "metadata": {},
   "outputs": [],
   "source": [
    "# draw elbow graph\n",
    "\n",
    "fig = plt.figure()\n",
    "ax = fig.add_subplot(111, xlabel=\"Number of Clusters\", ylabel=\"WCSS\")\n",
    "plt.plot(range(1,11), wcss)\n",
    "plt.title('The Elbow Point Graph')\n",
    "\n",
    "plt.show()"
   ]
  },
  {
   "cell_type": "code",
   "execution_count": null,
   "id": "25b4fc4a",
   "metadata": {},
   "outputs": [],
   "source": [
    "# optimum value of cluster is 6\n",
    "# we choose the no. of cluster after which the decrease in wcss become low or almost constant."
   ]
  },
  {
   "cell_type": "code",
   "execution_count": null,
   "id": "972c95e6",
   "metadata": {},
   "outputs": [],
   "source": [
    "# training the k means algo\n",
    "kmeans = KMeans(n_clusters=6, init='k-means++', random_state=42)\n",
    "\n",
    "# return a label for each data point based on their cluster\n",
    "Y = kmeans.fit_predict(clus)\n",
    "\n",
    "print(Y)"
   ]
  },
  {
   "cell_type": "code",
   "execution_count": null,
   "id": "891186d4",
   "metadata": {},
   "outputs": [],
   "source": [
    "print(np.unique(Y))\n",
    "#no. of cluster"
   ]
  },
  {
   "cell_type": "code",
   "execution_count": null,
   "id": "bd37c70f",
   "metadata": {},
   "outputs": [],
   "source": [
    "\n",
    "plt.figure(figsize=(10,8))\n",
    "plt.scatter(clus[Y==0,0], clus[Y==0,1], s=60, c='orange', label='Cluster 1')\n",
    "plt.scatter(clus[Y==1,0], clus[Y==1,1], s=60, c='red', label='Cluster 2')\n",
    "plt.scatter(clus[Y==2,0], clus[Y==2,1], s=60, c='lime', label='Cluster 3')\n",
    "plt.scatter(clus[Y==3,0], clus[Y==3,1], s=60, c='coral', label='Cluster 4')\n",
    "plt.scatter(clus[Y==4,0], clus[Y==4,1], s=60, c='blue', label='Cluster 5')\n",
    "\n",
    "# plot the centroids\n",
    "plt.scatter(kmeans.cluster_centers_[:,0], kmeans.cluster_centers_[:,1], s=100, c='cyan', label='Centroids')\n",
    "\n",
    "plt.title('customer_segments')\n",
    "plt.xlabel('Annual_Income')\n",
    "plt.ylabel('Spending_Score')\n",
    "plt.show()"
   ]
  },
  {
   "cell_type": "code",
   "execution_count": null,
   "id": "1d8d6a4e",
   "metadata": {},
   "outputs": [],
   "source": [
    "# In the above graph we have only 5 cluster and we accutaly write the code for 6 cluster.\n",
    "# so we can say that we only need 5 cluster.\n",
    "# now we will optimize our code to get 5 cluster."
   ]
  },
  {
   "cell_type": "code",
   "execution_count": null,
   "id": "1241778a",
   "metadata": {},
   "outputs": [],
   "source": [
    "# training the k means algo\n",
    "kmeans = KMeans(n_clusters=5, init='k-means++', random_state=42)\n",
    "\n",
    "# return a label for each data point based on their cluster\n",
    "Y = kmeans.fit_predict(clus)\n",
    "\n",
    "print(Y)"
   ]
  },
  {
   "cell_type": "code",
   "execution_count": null,
   "id": "8232bd16",
   "metadata": {},
   "outputs": [],
   "source": [
    "print(np.unique(Y))\n",
    "#no. of cluster"
   ]
  },
  {
   "cell_type": "code",
   "execution_count": null,
   "id": "ab74695f",
   "metadata": {},
   "outputs": [],
   "source": [
    "\n",
    "plt.figure(figsize=(10,8))\n",
    "plt.scatter(clus[Y==0,0], clus[Y==0,1], s=60, c='orange', label='Cluster 1')\n",
    "plt.scatter(clus[Y==1,0], clus[Y==1,1], s=60, c='red', label='Cluster 2')\n",
    "plt.scatter(clus[Y==2,0], clus[Y==2,1], s=60, c='lime', label='Cluster 3')\n",
    "plt.scatter(clus[Y==3,0], clus[Y==3,1], s=60, c='coral', label='Cluster 4')\n",
    "plt.scatter(clus[Y==4,0], clus[Y==4,1], s=60, c='blue', label='Cluster 5')\n",
    "\n",
    "# plot the centroids\n",
    "plt.scatter(kmeans.cluster_centers_[:,0], kmeans.cluster_centers_[:,1], s=200, c='black')\n",
    "\n",
    "plt.title('customer_segments')\n",
    "plt.xlabel('Annual_Income')\n",
    "plt.ylabel('Spending_Score')\n",
    "plt.show()"
   ]
  },
  {
   "cell_type": "markdown",
   "id": "eca14c43",
   "metadata": {},
   "source": [
    "# Conclusion"
   ]
  },
  {
   "cell_type": "code",
   "execution_count": null,
   "id": "e49816be",
   "metadata": {},
   "outputs": [],
   "source": [
    "# we can clearly see the 5 cluster with distinct sepration between each datapoints.\n",
    "# using this info we can run target advertisment for diffrent group with diffrent need.\n",
    "# to increase our sales and profit.\n",
    "# we can also decide to provide coupon and we can messure the effect of coupon on sales in diffrent groups.\n",
    "\n",
    "#done"
   ]
  },
  {
   "cell_type": "code",
   "execution_count": null,
   "id": "286b44f3",
   "metadata": {},
   "outputs": [],
   "source": [
    "nan"
   ]
  }
 ],
 "metadata": {},
 "nbformat": 4,
 "nbformat_minor": 5
}
