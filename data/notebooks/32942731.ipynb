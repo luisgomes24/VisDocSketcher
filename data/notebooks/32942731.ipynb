{
 "cells": [
  {
   "cell_type": "markdown",
   "id": "853f187e",
   "metadata": {},
   "source": [
    "# Visualizing iris dataset \n",
    "###### by Aya Nabil"
   ]
  },
  {
   "cell_type": "code",
   "execution_count": null,
   "id": "7db58bf0",
   "metadata": {},
   "outputs": [],
   "source": [
    "import pandas as pd\n",
    "import numpy as np\n",
    "import matplotlib.pyplot as plt\n",
    "\n",
    "import seaborn as sns\n",
    "sns.set_theme()\n",
    "\n",
    "import plotly.express as px\n",
    "from sklearn.preprocessing import StandardScaler, RobustScaler, LabelEncoder\n",
    "from sklearn.cluster import KMeans, MiniBatchKMeans"
   ]
  },
  {
   "cell_type": "code",
   "execution_count": null,
   "id": "49fb37af",
   "metadata": {},
   "outputs": [],
   "source": [
    "df = pd.read_csv(\"/kaggle/input/iris/Iris.csv\")\n",
    "df.shape\n",
    "df.head()"
   ]
  },
  {
   "cell_type": "code",
   "execution_count": null,
   "id": "b634663a",
   "metadata": {},
   "outputs": [],
   "source": [
    "df.shape"
   ]
  },
  {
   "cell_type": "code",
   "execution_count": null,
   "id": "569b5bc3",
   "metadata": {},
   "outputs": [],
   "source": [
    "df[\"Species\"].value_counts()"
   ]
  },
  {
   "cell_type": "markdown",
   "id": "7105b56f",
   "metadata": {},
   "source": [
    "# Column Histogram "
   ]
  },
  {
   "cell_type": "code",
   "execution_count": null,
   "id": "f0f392a3",
   "metadata": {},
   "outputs": [],
   "source": [
    "fig, ax = plt.subplots(1, 4, figsize=(20,5))\n",
    "sns.histplot(df['SepalLengthCm'], ax=ax[0], bins=20, color='tomato')\n",
    "sns.histplot(df['SepalWidthCm'], ax=ax[1], bins=20, color='limegreen')\n",
    "sns.histplot(df['PetalLengthCm'], ax=ax[2], bins=20, color='deepskyblue')\n",
    "sns.histplot(df['PetalWidthCm'], ax=ax[3], bins=20, color='orange');"
   ]
  },
  {
   "cell_type": "markdown",
   "id": "a5dd3160",
   "metadata": {},
   "source": [
    "# Line Histogram"
   ]
  },
  {
   "cell_type": "code",
   "execution_count": null,
   "id": "c8c4c808",
   "metadata": {},
   "outputs": [],
   "source": [
    "from scipy.stats import norm\n",
    "sns.set()\n",
    "iris = sns.load_dataset('iris')\n",
    "\n",
    "# make the 'species' column categorical to fix the order\n",
    "\n",
    "iris['species'] = pd.Categorical(iris['species'])\n",
    "\n",
    "fig, axs = plt.subplots(2, 2, figsize = (12, 6))\n",
    "for col, ax in zip(iris.columns[:4], axs.flat):\n",
    "    sns.histplot(data = iris, x = col, kde = True, hue = 'species', common_norm = False, legend = ax == axs[0,0], ax = ax)\n",
    "plt.tight_layout()\n",
    "plt.show()"
   ]
  },
  {
   "cell_type": "markdown",
   "id": "0c24e3aa",
   "metadata": {},
   "source": [
    "# Scatter plot"
   ]
  },
  {
   "cell_type": "code",
   "execution_count": null,
   "id": "dacda456",
   "metadata": {},
   "outputs": [],
   "source": [
    "fig, ax = plt.subplots(1,2,figsize=(20,5))\n",
    "df.plot(kind =\"scatter\", x =\"SepalLengthCm\", y =\"SepalWidthCm\", ax =ax[0], color ='limegreen')\n",
    "df.plot(kind =\"scatter\", x =\"PetalLengthCm\", y =\"PetalWidthCm\", ax =ax[1], color ='skyblue')"
   ]
  },
  {
   "cell_type": "markdown",
   "id": "a49c3809",
   "metadata": {},
   "source": [
    "# Box plot"
   ]
  },
  {
   "cell_type": "code",
   "execution_count": null,
   "id": "601e08fc",
   "metadata": {},
   "outputs": [],
   "source": [
    "fig, ax = plt.subplots(1,4,figsize=(20,5))\n",
    "sns.boxplot(x=\"Species\", y =\"PetalWidthCm\", data=df, ax=ax[0], color='tomato') \n",
    "sns.boxplot(x=\"Species\", y ='PetalLengthCm', data=df, ax=ax[1], color='limegreen')\n",
    "sns.boxplot(x=\"Species\", y ='SepalWidthCm', data=df, ax=ax[2], color='deepskyblue')\n",
    "sns.boxplot(x=\"Species\", y ='SepalLengthCm', data=df, ax=ax[3], color='orange')"
   ]
  },
  {
   "cell_type": "markdown",
   "id": "a9a45a7a",
   "metadata": {},
   "source": [
    "# Pie Chart "
   ]
  },
  {
   "cell_type": "code",
   "execution_count": null,
   "id": "997565a5",
   "metadata": {},
   "outputs": [],
   "source": [
    "#pie chart on iris spechies\n",
    "ax = plt.subplots(1,1,figsize=(10,8))\n",
    "df['Species'].value_counts().plot.pie(explode=[0.1,0.1,0.1], autopct = '%1.1f%%', shadow=True, figsize=(10,8))\n",
    "plt.title(\"Iris Species %\")\n",
    "plt.show()"
   ]
  },
  {
   "cell_type": "markdown",
   "id": "b744f228",
   "metadata": {},
   "source": [
    "# Kdeplot"
   ]
  },
  {
   "cell_type": "code",
   "execution_count": null,
   "id": "4b127c24",
   "metadata": {},
   "outputs": [],
   "source": [
    "sns.FacetGrid(df, hue=\"Species\", size=5) \\\n",
    "   .map(sns.kdeplot, \"PetalLengthCm\") \\\n",
    "   .add_legend()\n",
    "plt.show()"
   ]
  },
  {
   "cell_type": "code",
   "execution_count": null,
   "id": "61516768",
   "metadata": {},
   "outputs": [],
   "source": [
    "sns.pairplot(df.drop(\"Id\", axis=1), hue=\"Species\", size=3, diag_kind=\"kde\")\n",
    "plt.show()"
   ]
  },
  {
   "cell_type": "markdown",
   "id": "04486bf9",
   "metadata": {},
   "source": [
    "# Bubble plot "
   ]
  },
  {
   "cell_type": "code",
   "execution_count": null,
   "id": "610ead7b",
   "metadata": {},
   "outputs": [],
   "source": [
    "import plotly.graph_objects as go\n",
    "\n",
    "fig = go.Figure(data=[go.Scatter(\n",
    "    x=[\"setosa\", \"virginica\", \"versicolor\"],\n",
    "    y=[\"PetalWidthCm\", \"PetalLengthCm\", \"SepalWidthCm\", \"SepalLengthCm\"],\n",
    "    mode='markers',\n",
    "    marker=dict(\n",
    "        color=[120, 125, 130, 135, 140, 145],\n",
    "        size=[15, 30, 55, 70, 90, 110],\n",
    "        showscale=True\n",
    "        )\n",
    ")])\n",
    "\n",
    "fig.show()"
   ]
  }
 ],
 "metadata": {},
 "nbformat": 4,
 "nbformat_minor": 5
}
