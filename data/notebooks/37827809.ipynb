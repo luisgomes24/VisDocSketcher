{
 "cells": [
  {
   "cell_type": "code",
   "execution_count": null,
   "id": "2685ff3f",
   "metadata": {},
   "outputs": [],
   "source": [
    "import tensorflow as tf\n",
    "import numpy as np \n",
    "from PIL import Image\n",
    "\n",
    "model = tf.saved_model.load('/kaggle/input/resnet50-retinal-disease-opacity-detection/ResNet50')\n",
    "classes = [ \"0\" ,  \"1\" , ]"
   ]
  },
  {
   "cell_type": "code",
   "execution_count": null,
   "id": "2fc27162",
   "metadata": {},
   "outputs": [],
   "source": [
    "import pandas as pd\n",
    "train=pd.read_csv('/kaggle/input/retinal-disease-opacity-detection/train.csv')\n",
    "train.head()"
   ]
  },
  {
   "cell_type": "code",
   "execution_count": null,
   "id": "a5a7cbb9",
   "metadata": {},
   "outputs": [],
   "source": [
    "train['filename']='/kaggle/input/retinal-disease-opacity-detection/train/'+train['opacity'].astype('str')+'/'+train['filename']\n",
    "train.head()"
   ]
  },
  {
   "cell_type": "code",
   "execution_count": null,
   "id": "2fff247e",
   "metadata": {},
   "outputs": [],
   "source": [
    "result=[]\n",
    "for i in train.filename:\n",
    "    img = Image.open(i).convert('RGB')\n",
    "    img = img.resize((300, 300 * img.size[1] // img.size[0]), Image.ANTIALIAS)\n",
    "    inp_numpy = np.array(img)[None]\n",
    "    inp = tf.constant(inp_numpy, dtype='float32')\n",
    "    class_scores = model(inp)[0].numpy()\n",
    "    result.append(classes[class_scores.argmax()])\n",
    "result[:5]"
   ]
  },
  {
   "cell_type": "code",
   "execution_count": null,
   "id": "aeabf32e",
   "metadata": {},
   "outputs": [],
   "source": [
    "train=train.assign(prediction=result)\n",
    "train['prediction']=train['prediction'].astype('int')\n",
    "train.head()"
   ]
  },
  {
   "cell_type": "code",
   "execution_count": null,
   "id": "abd7c3fe",
   "metadata": {},
   "outputs": [],
   "source": [
    "from sklearn.metrics import classification_report\n",
    "print(classification_report(train['opacity'],train['prediction']))"
   ]
  },
  {
   "cell_type": "code",
   "execution_count": null,
   "id": "9cdfc0a3",
   "metadata": {},
   "outputs": [],
   "source": [
    "test=pd.read_csv('/kaggle/input/retinal-disease-opacity-detection/test.csv')\n",
    "test.head()"
   ]
  },
  {
   "cell_type": "code",
   "execution_count": null,
   "id": "1bf48244",
   "metadata": {},
   "outputs": [],
   "source": [
    "test['filename']='/kaggle/input/retinal-disease-opacity-detection/test/'+test['filename']\n",
    "test.head()"
   ]
  },
  {
   "cell_type": "code",
   "execution_count": null,
   "id": "0cfeafe8",
   "metadata": {},
   "outputs": [],
   "source": [
    "result=[]\n",
    "for i in test.filename:\n",
    "    img = Image.open(i).convert('RGB')\n",
    "    img = img.resize((300, 300 * img.size[1] // img.size[0]), Image.ANTIALIAS)\n",
    "    inp_numpy = np.array(img)[None]\n",
    "    inp = tf.constant(inp_numpy, dtype='float32')\n",
    "    class_scores = model(inp)[0].numpy()\n",
    "    result.append(classes[class_scores.argmax()])\n",
    "result[:5]"
   ]
  },
  {
   "cell_type": "code",
   "execution_count": null,
   "id": "8894b60d",
   "metadata": {},
   "outputs": [],
   "source": [
    "test=test.assign(opacity=result)\n",
    "test['opacity']=test['opacity'].astype('int')\n",
    "test.head()"
   ]
  },
  {
   "cell_type": "code",
   "execution_count": null,
   "id": "19727749",
   "metadata": {},
   "outputs": [],
   "source": [
    "test.to_csv('./test.csv',index=False)"
   ]
  }
 ],
 "metadata": {},
 "nbformat": 4,
 "nbformat_minor": 5
}
