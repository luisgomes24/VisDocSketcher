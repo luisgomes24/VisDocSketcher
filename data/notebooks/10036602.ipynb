{
 "cells": [
  {
   "cell_type": "code",
   "execution_count": null,
   "id": "bb611538",
   "metadata": {},
   "outputs": [],
   "source": [
    "\n",
    "import numpy as np \n",
    "import pandas as pd \n",
    "\n",
    "\n",
    "import os\n"
   ]
  },
  {
   "cell_type": "code",
   "execution_count": null,
   "id": "026a4349",
   "metadata": {},
   "outputs": [],
   "source": [
    "import matplotlib.pyplot as plt\n",
    "import seaborn as sns\n",
    "%matplotlib inline"
   ]
  },
  {
   "cell_type": "code",
   "execution_count": null,
   "id": "a91c34e7",
   "metadata": {},
   "outputs": [],
   "source": [
    "df_train = pd.read_csv('../input/house-prices-advanced-regression-techniques/train.csv')\n",
    "df_test = pd.read_csv('../input/house-prices-advanced-regression-techniques/test.csv')"
   ]
  },
  {
   "cell_type": "code",
   "execution_count": null,
   "id": "a994ba67",
   "metadata": {},
   "outputs": [],
   "source": [
    "sns.distplot(df_train['SalePrice'])"
   ]
  },
  {
   "cell_type": "code",
   "execution_count": null,
   "id": "73750aed",
   "metadata": {},
   "outputs": [],
   "source": [
    "df_train['SalePrice_log'] = np.log(df_train['SalePrice'])\n",
    "df_train.drop('SalePrice', axis=1, inplace=True)"
   ]
  },
  {
   "cell_type": "code",
   "execution_count": null,
   "id": "a010ff34",
   "metadata": {},
   "outputs": [],
   "source": [
    "plt.figure(figsize=(15,9))\n",
    "sns.heatmap(df_train.isnull())"
   ]
  },
  {
   "cell_type": "code",
   "execution_count": null,
   "id": "b6217ec0",
   "metadata": {},
   "outputs": [],
   "source": [
    "total = df_train.isnull().sum().sort_values(ascending = False)\n",
    "percentage = (df_train.isnull().sum()/df_train.isnull().count()).sort_values(ascending=False)\n",
    "missing_data = pd.concat([total, percentage], axis=1, keys=['total', 'percent'])\n"
   ]
  },
  {
   "cell_type": "code",
   "execution_count": null,
   "id": "d46ec7b7",
   "metadata": {},
   "outputs": [],
   "source": [
    "df_train = df_train.drop((missing_data[missing_data['total']>81]).index,1)\n",
    "df_train.isnull().sum().sort_values(ascending=False)"
   ]
  },
  {
   "cell_type": "code",
   "execution_count": null,
   "id": "30d890c8",
   "metadata": {},
   "outputs": [],
   "source": [
    "total_test = df_test.isnull().sum().sort_values(ascending = False)\n",
    "percentage_test = (df_test.isnull().sum()/df_test.isnull().count()).sort_values(ascending=False)\n",
    "missing_data_test = pd.concat([total_test, percentage_test], axis=1, keys=['total', 'percent'])\n"
   ]
  },
  {
   "cell_type": "code",
   "execution_count": null,
   "id": "acd65c11",
   "metadata": {},
   "outputs": [],
   "source": [
    "df_test = df_test.drop((missing_data_test[missing_data_test['total']>78]).index,1)\n"
   ]
  },
  {
   "cell_type": "code",
   "execution_count": null,
   "id": "197f6ca0",
   "metadata": {},
   "outputs": [],
   "source": [
    "df_test.isnull().sum().sort_values(ascending = False)"
   ]
  },
  {
   "cell_type": "code",
   "execution_count": null,
   "id": "26ced273",
   "metadata": {},
   "outputs": [],
   "source": [
    "train_num_cols = df_train.select_dtypes(exclude='object').columns\n",
    "train_cat_cols = df_train.select_dtypes(include='object').columns"
   ]
  },
  {
   "cell_type": "code",
   "execution_count": null,
   "id": "72458afb",
   "metadata": {},
   "outputs": [],
   "source": [
    "test_num_cols = df_test.select_dtypes(exclude='object').columns\n",
    "test_cat_cols = df_test.select_dtypes(include='object').columns"
   ]
  },
  {
   "cell_type": "code",
   "execution_count": null,
   "id": "2e150f75",
   "metadata": {},
   "outputs": [],
   "source": [
    "for i in range(0, len(train_num_cols)):\n",
    "    df_train[train_num_cols[i]] = df_train[train_num_cols[i]].fillna(df_train[train_num_cols[i]].mean())\n",
    "\n",
    "for i in range(0, len(test_num_cols)):\n",
    "    df_test[test_num_cols[i]] = df_test[test_num_cols[i]].fillna(df_test[test_num_cols[i]].mean()) "
   ]
  },
  {
   "cell_type": "code",
   "execution_count": null,
   "id": "36fcf938",
   "metadata": {},
   "outputs": [],
   "source": [
    "for i in range(0, len(train_cat_cols)):\n",
    "    df_train[train_cat_cols[i]] = df_train[train_cat_cols[i]].fillna(df_train[train_cat_cols[i]].mode()[0])\n",
    "\n",
    "for i in range(0, len(test_cat_cols)):\n",
    "    df_test[test_cat_cols[i]] = df_test[test_cat_cols[i]].fillna(df_test[test_cat_cols[i]].mode()[0])"
   ]
  },
  {
   "cell_type": "code",
   "execution_count": null,
   "id": "46ee16b0",
   "metadata": {},
   "outputs": [],
   "source": [
    "plt.figure(figsize=(20,9))\n",
    "sns.heatmap(df_train.corr())"
   ]
  },
  {
   "cell_type": "code",
   "execution_count": null,
   "id": "943fc6c6",
   "metadata": {},
   "outputs": [],
   "source": [
    "df_train.drop(['MasVnrArea', 'GarageYrBlt','Fireplaces','BsmtFinSF1','WoodDeckSF','2ndFlrSF','OpenPorchSF','HalfBath','LotArea',\n",
    "         'BsmtFullBath','BsmtUnfSF','BedroomAbvGr','ScreenPorch','PoolArea','MoSold','3SsnPorch','BsmtFinSF2','BsmtHalfBath',\n",
    "         'MiscVal','Id','LowQualFinSF','YrSold','OverallCond','MSSubClass','EnclosedPorch','KitchenAbvGr'], axis=1, inplace=True)\n"
   ]
  },
  {
   "cell_type": "code",
   "execution_count": null,
   "id": "04f4834e",
   "metadata": {},
   "outputs": [],
   "source": [
    "df_train['GrLivArea_log'] = np.log(df_train['GrLivArea'])\n",
    "df_train.drop('GrLivArea', axis=1, inplace=True)"
   ]
  },
  {
   "cell_type": "code",
   "execution_count": null,
   "id": "806d345c",
   "metadata": {},
   "outputs": [],
   "source": [
    "df_test['GrLivArea_log'] = np.log(df_test['GrLivArea'])\n",
    "df_test.drop('GrLivArea', axis=1, inplace=True)"
   ]
  },
  {
   "cell_type": "code",
   "execution_count": null,
   "id": "a0c47d5d",
   "metadata": {},
   "outputs": [],
   "source": [
    "df_test.drop(['MasVnrArea', 'GarageYrBlt','Fireplaces','BsmtFinSF1','WoodDeckSF','2ndFlrSF','OpenPorchSF','HalfBath','LotArea',\n",
    "         'BsmtFullBath','BsmtUnfSF','BedroomAbvGr','ScreenPorch','PoolArea','MoSold','3SsnPorch','BsmtFinSF2','BsmtHalfBath',\n",
    "         'MiscVal','Id','LowQualFinSF','YrSold','OverallCond','MSSubClass','EnclosedPorch','KitchenAbvGr'], axis=1, inplace=True)"
   ]
  },
  {
   "cell_type": "code",
   "execution_count": null,
   "id": "2c16951a",
   "metadata": {},
   "outputs": [],
   "source": [
    "train_cat_cols1 = df_train.select_dtypes(include='object').columns\n"
   ]
  },
  {
   "cell_type": "code",
   "execution_count": null,
   "id": "c2d93046",
   "metadata": {},
   "outputs": [],
   "source": [
    "nrows = 13\n",
    "ncols = 3\n",
    "\n",
    "fig, ax = plt.subplots(nrows, ncols, figsize=(ncols*4,nrows*3))\n",
    "\n",
    "for r in range(0, nrows):\n",
    "    for c in range(0, ncols):\n",
    "        i = r*ncols + c\n",
    "        if i < len(train_cat_cols1):\n",
    "            sns.boxplot(x=train_cat_cols1[i], y= 'SalePrice_log', data= df_train, ax= ax[r][c])\n",
    "\n",
    "plt.tight_layout()\n",
    "plt.show()"
   ]
  },
  {
   "cell_type": "code",
   "execution_count": null,
   "id": "1dc2c680",
   "metadata": {},
   "outputs": [],
   "source": [
    "from sklearn.preprocessing import LabelEncoder\n",
    "le = LabelEncoder()"
   ]
  },
  {
   "cell_type": "code",
   "execution_count": null,
   "id": "5335a932",
   "metadata": {},
   "outputs": [],
   "source": [
    "df_train[train_cat_cols1] = df_train[train_cat_cols1].apply(lambda col:le.fit_transform(col.astype(str)))"
   ]
  },
  {
   "cell_type": "code",
   "execution_count": null,
   "id": "c95701b8",
   "metadata": {},
   "outputs": [],
   "source": [
    "test_cat_cols1 = df_test.select_dtypes(include='object').columns\n"
   ]
  },
  {
   "cell_type": "code",
   "execution_count": null,
   "id": "56c7bc9a",
   "metadata": {},
   "outputs": [],
   "source": [
    "df_test[test_cat_cols1] = df_test[test_cat_cols1].apply(lambda col:le.fit_transform(col.astype(str)))"
   ]
  },
  {
   "cell_type": "code",
   "execution_count": null,
   "id": "e1ffe0cf",
   "metadata": {},
   "outputs": [],
   "source": [
    "X_train = df_train.drop('SalePrice_log', axis=1)\n",
    "y_train = df_train['SalePrice_log']\n",
    "X_test = df_test"
   ]
  },
  {
   "cell_type": "code",
   "execution_count": null,
   "id": "4d902bbf",
   "metadata": {},
   "outputs": [],
   "source": [
    "from sklearn.linear_model import LinearRegression\n",
    "lm = LinearRegression()\n",
    "lm.fit(X_train, y_train)"
   ]
  },
  {
   "cell_type": "code",
   "execution_count": null,
   "id": "48cf6372",
   "metadata": {},
   "outputs": [],
   "source": [
    "lm.score(X_train, y_train)"
   ]
  },
  {
   "cell_type": "code",
   "execution_count": null,
   "id": "f4bd90ae",
   "metadata": {},
   "outputs": [],
   "source": [
    "predictions_lm = lm.predict(X_test)\n",
    "predictions_lm = np.exp(predictions_lm)\n"
   ]
  },
  {
   "cell_type": "code",
   "execution_count": null,
   "id": "7961ca9a",
   "metadata": {},
   "outputs": [],
   "source": [
    "final_predict = predictions_lm"
   ]
  },
  {
   "cell_type": "code",
   "execution_count": null,
   "id": "d7c43378",
   "metadata": {},
   "outputs": [],
   "source": [
    "sub_file = pd.read_csv('../input/house-prices-advanced-regression-techniques/sample_submission.csv')\n",
    "sub_file.head()"
   ]
  },
  {
   "cell_type": "code",
   "execution_count": null,
   "id": "2d2b234e",
   "metadata": {},
   "outputs": [],
   "source": [
    "sub_file['SalePrice'] = final_predict"
   ]
  },
  {
   "cell_type": "code",
   "execution_count": null,
   "id": "84acc8dd",
   "metadata": {},
   "outputs": [],
   "source": [
    "sub_file.head()"
   ]
  },
  {
   "cell_type": "code",
   "execution_count": null,
   "id": "a89dde61",
   "metadata": {},
   "outputs": [],
   "source": [
    "sub_file.to_csv('final_submission1.csv', index=False)"
   ]
  },
  {
   "cell_type": "code",
   "execution_count": null,
   "id": "d52d10d2",
   "metadata": {},
   "outputs": [],
   "source": [
    "nan"
   ]
  }
 ],
 "metadata": {},
 "nbformat": 4,
 "nbformat_minor": 5
}
