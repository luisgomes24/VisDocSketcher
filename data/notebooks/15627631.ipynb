{
 "cells": [
  {
   "cell_type": "markdown",
   "id": "a2bd5f20",
   "metadata": {},
   "source": [
    "# Kaggle House Price Prediction Dataset"
   ]
  },
  {
   "cell_type": "code",
   "execution_count": null,
   "id": "003f752c",
   "metadata": {},
   "outputs": [],
   "source": [
    "import numpy as np\n",
    "import pandas as pd\n",
    "import matplotlib.pyplot as plt\n",
    "\n",
    "import seaborn as sns"
   ]
  },
  {
   "cell_type": "code",
   "execution_count": null,
   "id": "72274512",
   "metadata": {},
   "outputs": [],
   "source": [
    "pd.options.display.max_rows = 100"
   ]
  },
  {
   "cell_type": "markdown",
   "id": "1f9abfa0",
   "metadata": {},
   "source": [
    "## Exploratory Data Analysis"
   ]
  },
  {
   "cell_type": "code",
   "execution_count": null,
   "id": "f7b23053",
   "metadata": {},
   "outputs": [],
   "source": [
    "df_orig = pd.read_csv('../input/house-prices-advanced-regression-techniques/train.csv', index_col='Id')\n",
    "df_orig.head()"
   ]
  },
  {
   "cell_type": "code",
   "execution_count": null,
   "id": "964b6b39",
   "metadata": {},
   "outputs": [],
   "source": [
    "numeric_columns = df_orig.select_dtypes(include=['number']).columns\n",
    "categorical_columns = df_orig.select_dtypes(include=['object']).columns"
   ]
  },
  {
   "cell_type": "code",
   "execution_count": null,
   "id": "3f53974f",
   "metadata": {},
   "outputs": [],
   "source": [
    "df_orig.shape"
   ]
  },
  {
   "cell_type": "code",
   "execution_count": null,
   "id": "31f82986",
   "metadata": {},
   "outputs": [],
   "source": [
    "df_orig.columns"
   ]
  },
  {
   "cell_type": "code",
   "execution_count": null,
   "id": "4f9b8312",
   "metadata": {},
   "outputs": [],
   "source": [
    "df_orig.info()"
   ]
  },
  {
   "cell_type": "markdown",
   "id": "a71cd3fc",
   "metadata": {},
   "source": [
    "### First focus : numerical features"
   ]
  },
  {
   "cell_type": "code",
   "execution_count": null,
   "id": "26d1a6ed",
   "metadata": {},
   "outputs": [],
   "source": [
    "df_orig.describe().transpose()"
   ]
  },
  {
   "cell_type": "code",
   "execution_count": null,
   "id": "c74369fb",
   "metadata": {},
   "outputs": [],
   "source": [
    "df_num = df_orig.select_dtypes(include = 'number')\n",
    "df_num.head()"
   ]
  },
  {
   "cell_type": "markdown",
   "id": "e95b93a5",
   "metadata": {},
   "source": [
    "These are the numerical columns:"
   ]
  },
  {
   "cell_type": "code",
   "execution_count": null,
   "id": "fee0bc15",
   "metadata": {},
   "outputs": [],
   "source": [
    "print(list(df_num.columns))\n",
    "\n",
    "len(df_num.columns)"
   ]
  },
  {
   "cell_type": "code",
   "execution_count": null,
   "id": "8e72ea11",
   "metadata": {},
   "outputs": [],
   "source": [
    "df_num.iloc[:,:-1].hist(figsize=(20, 20), bins=50, xlabelsize=8, ylabelsize=8);"
   ]
  },
  {
   "cell_type": "markdown",
   "id": "5ede017d",
   "metadata": {},
   "source": [
    "There are 36 numerical features other than `SalePrice`, let us look at their bivariate plots with `SalePrice`"
   ]
  },
  {
   "cell_type": "code",
   "execution_count": null,
   "id": "dfed94d7",
   "metadata": {},
   "outputs": [],
   "source": [
    "fig, axes = plt.subplots(6, 6, figsize=(20, 20), sharey=True)\n",
    "\n",
    "for i in range(len(df_num.columns) - 1):\n",
    "    sns.scatterplot(ax = axes.flat[i], data=df_num, x=df_num.columns[i], y='SalePrice')\n",
    "\n",
    "fig.subplots_adjust(hspace=0.4)\n",
    "plt.plot();"
   ]
  },
  {
   "cell_type": "markdown",
   "id": "9c061305",
   "metadata": {},
   "source": [
    "### Second focus : categorical features"
   ]
  },
  {
   "cell_type": "code",
   "execution_count": null,
   "id": "df13c590",
   "metadata": {},
   "outputs": [],
   "source": [
    "df_orig = df_orig.fillna(df_orig.median())\n",
    "df_orig = df_orig.fillna('Nope')"
   ]
  },
  {
   "cell_type": "code",
   "execution_count": null,
   "id": "c70b3f80",
   "metadata": {},
   "outputs": [],
   "source": [
    "df_cate = df_orig.select_dtypes(include = 'object')\n",
    "df_cate['SalePrice'] = df_orig['SalePrice']\n",
    "df_cate.head()"
   ]
  },
  {
   "cell_type": "markdown",
   "id": "4181fabc",
   "metadata": {},
   "source": [
    "These are the categorical columns:"
   ]
  },
  {
   "cell_type": "code",
   "execution_count": null,
   "id": "2313c60b",
   "metadata": {},
   "outputs": [],
   "source": [
    "print(list(df_cate.columns)[:-1])\n",
    "\n",
    "len(df_cate.columns[:-1])"
   ]
  },
  {
   "cell_type": "code",
   "execution_count": null,
   "id": "85c1306a",
   "metadata": {},
   "outputs": [],
   "source": [
    "df_cate.describe(include=['object']).transpose()"
   ]
  },
  {
   "cell_type": "markdown",
   "id": "6928c773",
   "metadata": {},
   "source": [
    "### Looking at the values for categorical features"
   ]
  },
  {
   "cell_type": "code",
   "execution_count": null,
   "id": "ebacb09f",
   "metadata": {},
   "outputs": [],
   "source": [
    "for x in df_cate.columns[:-1]:\n",
    "    print(x, '=>\\n', df_cate[x].value_counts(dropna=False))\n",
    "    print()"
   ]
  },
  {
   "cell_type": "markdown",
   "id": "e0511717",
   "metadata": {},
   "source": [
    "Boxplots for various categorical features with `SalePrice`"
   ]
  },
  {
   "cell_type": "code",
   "execution_count": null,
   "id": "429ae4be",
   "metadata": {},
   "outputs": [],
   "source": [
    "fig, axes = plt.subplots(6, 6, figsize=(20, 20), sharey=True)\n",
    "\n",
    "for i in range(len(df_num.columns) - 1):\n",
    "    sns.boxplot(ax = axes.flat[i], data=df_cate, x=df_cate.columns[i], y='SalePrice')\n",
    "\n",
    "fig.subplots_adjust(hspace=0.4)\n",
    "plt.plot();"
   ]
  }
 ],
 "metadata": {},
 "nbformat": 4,
 "nbformat_minor": 5
}
