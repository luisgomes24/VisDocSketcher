{
 "cells": [
  {
   "cell_type": "markdown",
   "id": "035ae290",
   "metadata": {},
   "source": [
    "### DataSet"
   ]
  },
  {
   "cell_type": "markdown",
   "id": "d01fa6c9",
   "metadata": {},
   "source": [
    "1. **work_year**: The year the salary was paid.\n",
    "2. **experience_level**: The experience level in the job during the year with the following possible values:\n",
    "\n",
    "* EN = Entry-level/Junior\n",
    "* MI = Mid-level/Intermediate\n",
    "* SE = Senior-level/Expert\n",
    "* EX = Executive-level/Director\n",
    "3. **employment_type**: The type of employement for the role:\n",
    "\n",
    "* PT = Part-time\n",
    "* FT = Full-time\n",
    "* CT = Contract\n",
    "* FL = Freelance\n",
    "4. **job_title**: The role worked in during the year.\n",
    "5. **salary**: The total gross salary amount paid.\n",
    "6. **salary_currency**: The currency of the salary paid as an ISO 4217 currency code.\n",
    "7. **salaryinusd**: The salary in USD\n",
    "8. **employee_residence**: Employee's primary country of residence in during the work year as an ISO 3166 country code.\n",
    "9. **remote_ratio**: The overall amount of work done remotely, possible values are as follows:\n",
    "\n",
    "* 0 = No remote work\n",
    "* 50 = Partially remote\n",
    "* 100 = Fully remote\n",
    "10. **company_location**: The country of the employer's main office or contracting branch as an ISO 3166 country code.\n",
    "\n",
    "11. **company_size**: The average number of people that worked for the company during the year:\n",
    "\n",
    "* S = less than 50 employees (small)\n",
    "* M = 50 to 250 employees (medium)\n",
    "* L = more than 250 employees (large)\n",
    "\n",
    "\n",
    "\n"
   ]
  },
  {
   "cell_type": "markdown",
   "id": "c64aa53c",
   "metadata": {},
   "source": [
    "### Objectives"
   ]
  },
  {
   "cell_type": "markdown",
   "id": "b9273c34",
   "metadata": {},
   "source": [
    "The purpose of this EDA is to analyze data scientist salaries in America by experience and employment type."
   ]
  },
  {
   "cell_type": "markdown",
   "id": "96e7f466",
   "metadata": {},
   "source": [
    "### Imports"
   ]
  },
  {
   "cell_type": "code",
   "execution_count": null,
   "id": "59d23d97",
   "metadata": {},
   "outputs": [],
   "source": [
    "import pandas as pd\n",
    "import numpy as np\n",
    "import matplotlib.pyplot as plt\n",
    "import plotly.express as px\n",
    "import seaborn as sns\n",
    "import datetime as dt\n",
    "import plotly.graph_objects as go\n"
   ]
  },
  {
   "cell_type": "markdown",
   "id": "eb210c4d",
   "metadata": {},
   "source": [
    "### Data Visualization"
   ]
  },
  {
   "cell_type": "code",
   "execution_count": null,
   "id": "76ac930f",
   "metadata": {},
   "outputs": [],
   "source": [
    "data = pd.read_csv('../input/data-science-job-salaries/ds_salaries.csv')"
   ]
  },
  {
   "cell_type": "code",
   "execution_count": null,
   "id": "8f321680",
   "metadata": {},
   "outputs": [],
   "source": [
    "data.info()"
   ]
  },
  {
   "cell_type": "markdown",
   "id": "f8bc8190",
   "metadata": {},
   "source": [
    "### Data Cleaning"
   ]
  },
  {
   "cell_type": "code",
   "execution_count": null,
   "id": "b20d6087",
   "metadata": {},
   "outputs": [],
   "source": [
    "# Droping the useless column 'Unnamed: 0'\n",
    "data = data.drop('Unnamed: 0',axis=1)"
   ]
  },
  {
   "cell_type": "code",
   "execution_count": null,
   "id": "13f2971a",
   "metadata": {},
   "outputs": [],
   "source": [
    "# Replacing column names\n",
    "data['experience_level'].replace({'EN':'Entry-Level','MI':'Mid-Level','EX':'Executive Level','SE':'Senior'},inplace=True)\n",
    "data['employment_type'].replace({'PT':'Part-Time','FT':'Full-Time','CT':'Contract','FL':'Freelance'},inplace=True)"
   ]
  },
  {
   "cell_type": "code",
   "execution_count": null,
   "id": "54c6f1d5",
   "metadata": {},
   "outputs": [],
   "source": [
    "#Checking for null values\n",
    "data.isnull().sum()"
   ]
  },
  {
   "cell_type": "markdown",
   "id": "3174a2af",
   "metadata": {},
   "source": [
    "### Exploratory Data Analysis"
   ]
  },
  {
   "cell_type": "code",
   "execution_count": null,
   "id": "870ffc12",
   "metadata": {},
   "outputs": [],
   "source": [
    "data.head()"
   ]
  },
  {
   "cell_type": "code",
   "execution_count": null,
   "id": "0d76d4d1",
   "metadata": {},
   "outputs": [],
   "source": [
    "data.describe()"
   ]
  },
  {
   "cell_type": "code",
   "execution_count": null,
   "id": "c5985dfb",
   "metadata": {},
   "outputs": [],
   "source": [
    "# Mean salary in USD grouped by job title\n",
    "z = data.groupby('job_title', as_index=False)[['salary_in_usd']].mean().rename({'salary_in_usd' : 'mean_salary_in_usd'}, axis=1).sort_values(by='mean_salary_in_usd',ascending=False)\n",
    "print(z)"
   ]
  },
  {
   "cell_type": "code",
   "execution_count": null,
   "id": "cfc8dbab",
   "metadata": {},
   "outputs": [],
   "source": [
    "z['mean_salary_in_usd']=round(z['mean_salary_in_usd'],2)\n",
    "fig=px.bar(z.head(10),x='job_title',y='mean_salary_in_usd',color='job_title',\n",
    "           labels={'job_title':'job title','mean_salary_in_usd':'mean salary in usd'},text='mean_salary_in_usd',template='seaborn',title='<b> Top 10 Roles in Data Science based on Average Pay')\n",
    "fig.show()"
   ]
  },
  {
   "cell_type": "code",
   "execution_count": null,
   "id": "7c6be60c",
   "metadata": {},
   "outputs": [],
   "source": [
    "# Mean salary in USD grouped by job title and experience level\n",
    "z = data.groupby(['job_title', 'experience_level'], as_index=False)[['salary_in_usd']].mean().rename({'salary_in_usd' : 'mean_salary_in_usd'}, axis=1).sort_values(by='mean_salary_in_usd',ascending=False)\n",
    "print(z)"
   ]
  },
  {
   "cell_type": "code",
   "execution_count": null,
   "id": "d1e9bedb",
   "metadata": {},
   "outputs": [],
   "source": [
    "z['mean_salary_in_usd']=round(z['mean_salary_in_usd'],2)\n",
    "z['job-experience'] = z['job_title'].map(str) + ' - ' + z['experience_level'].map(str)\n",
    "fig=px.bar(z.head(10),x='job-experience',y='mean_salary_in_usd',color='job_title',\n",
    "           labels={'job-experience':'job title - experience level','mean_salary_in_usd':'mean salary in usd'},text='mean_salary_in_usd',template='seaborn',title='<b> Top 10 average salary in USD grouped by job title and experience level')\n",
    "fig.show()"
   ]
  },
  {
   "cell_type": "code",
   "execution_count": null,
   "id": "9f1c765a",
   "metadata": {},
   "outputs": [],
   "source": [
    "# Max salary in USD grouped by job title, experience level and employment type\n",
    "z = data.groupby(['job_title', 'experience_level', 'employment_type'], as_index=False)[['salary_in_usd']].max().rename({'salary_in_usd' : 'max_salary_in_usd'}, axis=1).sort_values(by='max_salary_in_usd',ascending=False)\n",
    "print(z)"
   ]
  },
  {
   "cell_type": "code",
   "execution_count": null,
   "id": "52b9bc8c",
   "metadata": {},
   "outputs": [],
   "source": [
    "z['max_salary_in_usd']=round(z['max_salary_in_usd'],2)\n",
    "z['job-experience-employment'] = z['job_title'].map(str) + ' - ' + z['experience_level'].map(str) + ' - ' + z['employment_type'].map(str)\n",
    "fig=px.bar(z.head(10),x='job-experience-employment',y='max_salary_in_usd',color='job_title',\n",
    "           labels={'job-experience-employment':'job title - experience level - employment type','max_salary_in_usd':'max salary in usd'},text='max_salary_in_usd',template='seaborn',title='<b> Top 10 salarys in USD grouped by job title, experience level and employment type')\n",
    "fig.show()"
   ]
  },
  {
   "cell_type": "code",
   "execution_count": null,
   "id": "4616df4a",
   "metadata": {},
   "outputs": [],
   "source": [
    "# Count machine learning scientist jobs grouped by experience level and employment type\n",
    "z = data.groupby(['job_title', 'experience_level', 'employment_type'], as_index=False)[['salary']].count().rename({'salary' : 'count'}, axis=1).sort_values(by='count',ascending=False)\n",
    "z = z.loc[z['job_title'] == \"Machine Learning Scientist\"]\n",
    "z['experience-employment'] = z['experience_level'].map(str) + ': ' + z['employment_type'].map(str)\n",
    "print(z)"
   ]
  },
  {
   "cell_type": "code",
   "execution_count": null,
   "id": "815aa92f",
   "metadata": {},
   "outputs": [],
   "source": [
    "fig=px.pie(z ,names='experience-employment',values='count',color='experience-employment',hole=0.7,labels={'experience-employment':'Experience level','count':'count'}\n",
    ",template='seaborn',title='<b> Total Machine Learning Scientist Jobs Based on Experience Level and Employment Type')\n",
    "fig.update_layout(title_x=0.5)"
   ]
  },
  {
   "cell_type": "code",
   "execution_count": null,
   "id": "136ae1e1",
   "metadata": {},
   "outputs": [],
   "source": [
    "px.histogram(data,x='salary_in_usd',marginal='rug',template='seaborn',labels={'salary_in_usd':'Salary in USD'},title='<b> Salary Distribution')"
   ]
  },
  {
   "cell_type": "code",
   "execution_count": null,
   "id": "acfcc106",
   "metadata": {},
   "outputs": [],
   "source": [
    "px.box(data.loc[data['job_title'] == \"Machine Learning Scientist\"],x='experience_level',y='salary_in_usd',color='experience_level',template='ggplot2'\n",
    ",labels={'experience_level':'Experience Level','salary_in_usd':'salary in usd'},title='<b>Machine Learning Scientist Salaries by Experience')"
   ]
  }
 ],
 "metadata": {},
 "nbformat": 4,
 "nbformat_minor": 5
}
