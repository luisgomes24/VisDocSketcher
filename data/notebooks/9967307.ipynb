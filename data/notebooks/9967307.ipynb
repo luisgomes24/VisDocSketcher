{
 "cells": [
  {
   "cell_type": "markdown",
   "id": "b6ead64c",
   "metadata": {},
   "source": [
    "In this tutorial we will be doing customer segmentation using K means Algorithm.After that we will be using PCA to reduce the dimentionality of the problem.PAC + K Means will help us to improve the results.If you like the my work please do vote."
   ]
  },
  {
   "cell_type": "code",
   "execution_count": null,
   "id": "2fefdccd",
   "metadata": {},
   "outputs": [],
   "source": [
    "# This Python 3 environment comes with many helpful analytics libraries installed\n",
    "# It is defined by the kaggle/python Docker image: https://github.com/kaggle/docker-python\n",
    "# For example, here's several helpful packages to load\n",
    "\n",
    "import numpy as np # linear algebra\n",
    "import pandas as pd # data processing, CSV file I/O (e.g. pd.read_csv)\n",
    "\n",
    "# Input data files are available in the read-only \"../input/\" directory\n",
    "# For example, running this (by clicking run or pressing Shift+Enter) will list all files under the input directory\n",
    "\n",
    "import os\n",
    "for dirname, _, filenames in os.walk('/kaggle/input'):\n",
    "    for filename in filenames:\n",
    "        print(os.path.join(dirname, filename))\n",
    "\n",
    "# You can write up to 5GB to the current directory (/kaggle/working/) that gets preserved as output when you create a version using \"Save & Run All\" \n",
    "# You can also write temporary files to /kaggle/temp/, but they won't be saved outside of the current session"
   ]
  },
  {
   "cell_type": "markdown",
   "id": "130062f1",
   "metadata": {},
   "source": [
    "**Importing Python Module**"
   ]
  },
  {
   "cell_type": "code",
   "execution_count": null,
   "id": "b9e83220",
   "metadata": {},
   "outputs": [],
   "source": [
    "import numpy as np\n",
    "import pandas as pd\n",
    "import scipy \n",
    "import matplotlib.pyplot as plt\n",
    "import seaborn as sns\n",
    "sns.set()\n",
    "from sklearn.preprocessing import StandardScaler\n",
    "from sklearn.cluster import KMeans"
   ]
  },
  {
   "cell_type": "code",
   "execution_count": null,
   "id": "87bbd419",
   "metadata": {},
   "outputs": [],
   "source": [
    "df_segmentation = pd.read_csv('../input/retail-dataset-analysis/segmentation-data.csv',index_col =0)\n",
    "df_segmentation.head()"
   ]
  },
  {
   "cell_type": "markdown",
   "id": "559f881b",
   "metadata": {},
   "source": [
    "**Exploring data**"
   ]
  },
  {
   "cell_type": "code",
   "execution_count": null,
   "id": "417ac6df",
   "metadata": {},
   "outputs": [],
   "source": [
    "df_segmentation.describe()"
   ]
  },
  {
   "cell_type": "markdown",
   "id": "706a2a1b",
   "metadata": {},
   "source": [
    "So we can see that we have obeservation for 2000 customers.Mean age of the dataset is 35.9 years.With an average income of $ 120954."
   ]
  },
  {
   "cell_type": "markdown",
   "id": "2fb299de",
   "metadata": {},
   "source": [
    "**Correlation Estimate**"
   ]
  },
  {
   "cell_type": "code",
   "execution_count": null,
   "id": "8deda36b",
   "metadata": {},
   "outputs": [],
   "source": [
    "df_segmentation.corr()"
   ]
  },
  {
   "cell_type": "code",
   "execution_count": null,
   "id": "d533713f",
   "metadata": {},
   "outputs": [],
   "source": [
    "plt.figure(figsize = (12,9))\n",
    "s = sns.heatmap(df_segmentation.corr(),\n",
    "               annot = True,\n",
    "               cmap = 'RdBu',\n",
    "               vmin = -1,\n",
    "               vmax = 1)\n",
    "s.set_yticklabels(s.get_yticklabels(),rotation = 0,fontsize = 12)\n",
    "s.set_xticklabels(s.get_xticklabels(),rotation =90,fontsize =12)\n",
    "plt.title('Correlation Heatmap')\n",
    "plt.show()"
   ]
  },
  {
   "cell_type": "markdown",
   "id": "c4fa130e",
   "metadata": {},
   "source": [
    "We can see a correlation of 0.57 between occupation and settlement size.This shows that a good occupation also means the size of the house would be bigger.\n",
    "Income and occupation has a correlation of 0.68 which shows once income highly depends on the type of occupation."
   ]
  },
  {
   "cell_type": "markdown",
   "id": "f4a8f7e2",
   "metadata": {},
   "source": [
    "**Vizualise Raw Data**"
   ]
  },
  {
   "cell_type": "code",
   "execution_count": null,
   "id": "e42514be",
   "metadata": {},
   "outputs": [],
   "source": [
    "plt.figure(figsize = (12,9))\n",
    "plt.scatter(df_segmentation.iloc[:,2],df_segmentation.iloc[:,4])\n",
    "plt.xlabel('Age')\n",
    "plt.ylabel('Income')\n",
    "plt.title('Vizualization of raw data')\n"
   ]
  },
  {
   "cell_type": "markdown",
   "id": "65c615bb",
   "metadata": {},
   "source": [
    "There is no Linear Relation between the Age and Income."
   ]
  },
  {
   "cell_type": "markdown",
   "id": "f654b9ed",
   "metadata": {},
   "source": [
    "**Standardization**"
   ]
  },
  {
   "cell_type": "code",
   "execution_count": null,
   "id": "ee5f8694",
   "metadata": {},
   "outputs": [],
   "source": [
    "scaler = StandardScaler()\n",
    "segmentation_std = scaler.fit_transform(df_segmentation)"
   ]
  },
  {
   "cell_type": "markdown",
   "id": "abb0d933",
   "metadata": {},
   "source": [
    "Satndardization is done so that impact of all the parameters on the predicted value have same weightage."
   ]
  },
  {
   "cell_type": "markdown",
   "id": "85673de8",
   "metadata": {},
   "source": [
    "**K Means Clustering**"
   ]
  },
  {
   "cell_type": "code",
   "execution_count": null,
   "id": "ef22fd13",
   "metadata": {},
   "outputs": [],
   "source": [
    "wcss = []\n",
    "for i in range(1,11):\n",
    "    kmeans = KMeans(n_clusters =i,init ='k-means++',random_state=42)\n",
    "    kmeans.fit(segmentation_std)\n",
    "    wcss.append(kmeans.inertia_)"
   ]
  },
  {
   "cell_type": "code",
   "execution_count": null,
   "id": "01bba573",
   "metadata": {},
   "outputs": [],
   "source": [
    "plt.figure(figsize = (10,8))\n",
    "plt.plot(range(1,11),wcss,marker = 'o', linestyle = '--')\n",
    "plt.xlabel('Number of Clusters')\n",
    "plt.ylabel('WCSS')\n",
    "plt.title('K-means Clustering');"
   ]
  },
  {
   "cell_type": "markdown",
   "id": "ef68fb9d",
   "metadata": {},
   "source": [
    "From the Elbow Diagram we can see four would be the approprite number of clusters."
   ]
  },
  {
   "cell_type": "code",
   "execution_count": null,
   "id": "49139c48",
   "metadata": {},
   "outputs": [],
   "source": [
    "kmeans = KMeans(n_clusters = 4, init = 'k-means++',random_state = 42)\n",
    "kmeans.fit(segmentation_std)"
   ]
  },
  {
   "cell_type": "markdown",
   "id": "2ac1d6f9",
   "metadata": {},
   "source": [
    "**Results**"
   ]
  },
  {
   "cell_type": "code",
   "execution_count": null,
   "id": "9d1f514b",
   "metadata": {},
   "outputs": [],
   "source": [
    "df_segm_kmeans = df_segmentation.copy()\n",
    "df_segm_kmeans['Segment K-means'] = kmeans.labels_ "
   ]
  },
  {
   "cell_type": "code",
   "execution_count": null,
   "id": "9ffb47f5",
   "metadata": {},
   "outputs": [],
   "source": [
    "df_segm_analysis = df_segm_kmeans.groupby(['Segment K-means']).mean()\n",
    "df_segm_analysis "
   ]
  },
  {
   "cell_type": "markdown",
   "id": "7355b21d",
   "metadata": {},
   "source": [
    "0- has average age 56 income of $ 1.58 lac and 68 percent are married we call this call this class as well off.\n",
    "\n",
    "1-has average age 35 income of $ 0.97 lac and 4 percent are married we call this call this class as Fewer Opportunities\n",
    "\n",
    "2-has average age 36 income of $ 1.41 lac and 18 percent are married we call this call this class as Career Focused\n",
    "\n",
    "3-has average age 29 income of $ 1.05 lac and 88 percent are married we call this call this class as Standard\n",
    "\n",
    "\n",
    "\n"
   ]
  },
  {
   "cell_type": "code",
   "execution_count": null,
   "id": "86f086ba",
   "metadata": {},
   "outputs": [],
   "source": [
    "df_segm_analysis['N Obs'] = df_segm_kmeans[['Segment K-means','Sex']].groupby(['Segment K-means']).count()"
   ]
  },
  {
   "cell_type": "code",
   "execution_count": null,
   "id": "3b5584cd",
   "metadata": {},
   "outputs": [],
   "source": [
    "df_segm_analysis['Prop Obs'] =df_segm_analysis['N Obs']/ df_segm_analysis['N Obs'].sum()"
   ]
  },
  {
   "cell_type": "code",
   "execution_count": null,
   "id": "7e863dcf",
   "metadata": {},
   "outputs": [],
   "source": [
    "df_segm_analysis "
   ]
  },
  {
   "cell_type": "code",
   "execution_count": null,
   "id": "6f983e02",
   "metadata": {},
   "outputs": [],
   "source": [
    "df_segm_analysis.rename({0:'Well Off',\n",
    "                        1:'Fewer Opportunities',\n",
    "                        2:'Standard',\n",
    "                        3:'Career Focused'})"
   ]
  },
  {
   "cell_type": "markdown",
   "id": "1063ecd1",
   "metadata": {},
   "source": [
    "So we can see that 31 % Fall in the Career Focused category\n",
    "\n",
    "33 % in Standard \n",
    "\n",
    "21% in Fewer Opportunities \n",
    "\n",
    "13.5 % in Well Off"
   ]
  },
  {
   "cell_type": "code",
   "execution_count": null,
   "id": "e6bbef2a",
   "metadata": {},
   "outputs": [],
   "source": [
    "df_segm_kmeans['Labels'] = df_segm_kmeans['Segment K-means'].map({0:'Well Off',\n",
    "                        1:'Fewer Opportunities',\n",
    "                        2:'Standard',\n",
    "                        3:'Career Focused'}) \n",
    "#df_segm_kmeans"
   ]
  },
  {
   "cell_type": "code",
   "execution_count": null,
   "id": "4fc8696c",
   "metadata": {},
   "outputs": [],
   "source": [
    "x_axis = df_segm_kmeans['Age']\n",
    "y_axis = df_segm_kmeans['Income']\n",
    "plt.figure(figsize = (10,8))\n",
    "sns.scatterplot(x_axis,y_axis,hue = df_segm_kmeans['Labels'],palette =['g','r','c','m']);"
   ]
  },
  {
   "cell_type": "markdown",
   "id": "27a8646f",
   "metadata": {},
   "source": [
    "From the above graph we can clearly see that there is clear separation of only well off cluster.Other three cluster are not easily separable.Now we will try to use PCA to reduce the dimentionality of the model and therby improve the results and otain better segregation of clusters."
   ]
  },
  {
   "cell_type": "markdown",
   "id": "916da1b6",
   "metadata": {},
   "source": [
    "**PCA**"
   ]
  },
  {
   "cell_type": "code",
   "execution_count": null,
   "id": "369f12fa",
   "metadata": {},
   "outputs": [],
   "source": [
    "from sklearn.decomposition import PCA\n",
    "pca = PCA()"
   ]
  },
  {
   "cell_type": "code",
   "execution_count": null,
   "id": "69ea5501",
   "metadata": {},
   "outputs": [],
   "source": [
    "pca.fit(segmentation_std)"
   ]
  },
  {
   "cell_type": "code",
   "execution_count": null,
   "id": "35daa3ef",
   "metadata": {},
   "outputs": [],
   "source": [
    "pca.explained_variance_ratio_"
   ]
  },
  {
   "cell_type": "code",
   "execution_count": null,
   "id": "8c27c24a",
   "metadata": {},
   "outputs": [],
   "source": [
    "plt.figure(figsize = (12,9))\n",
    "plt.plot(range(1,8),pca.explained_variance_ratio_.cumsum(),marker = 'o',linestyle = '--')\n",
    "plt.title('Explained Variance by Components')\n",
    "plt.xlabel('Number of Components')\n",
    "plt.ylabel('Cumulative Explained Variance')"
   ]
  },
  {
   "cell_type": "markdown",
   "id": "cfb1a818",
   "metadata": {},
   "source": [
    "We can see that three principle componets together explain more than 80% of the data.Generally the thumb rule is we consider principle components which can explain more than 80% of our result."
   ]
  },
  {
   "cell_type": "markdown",
   "id": "0dc62f92",
   "metadata": {},
   "source": [
    "**Fitting PCA with Four Principle Components**"
   ]
  },
  {
   "cell_type": "code",
   "execution_count": null,
   "id": "c27c5ae6",
   "metadata": {},
   "outputs": [],
   "source": [
    "pca = PCA(n_components =3)"
   ]
  },
  {
   "cell_type": "code",
   "execution_count": null,
   "id": "c50cb72f",
   "metadata": {},
   "outputs": [],
   "source": [
    "pca.fit(segmentation_std)"
   ]
  },
  {
   "cell_type": "markdown",
   "id": "167250e6",
   "metadata": {},
   "source": [
    "**PCA Results**"
   ]
  },
  {
   "cell_type": "code",
   "execution_count": null,
   "id": "3b218afc",
   "metadata": {},
   "outputs": [],
   "source": [
    "pca.components_"
   ]
  },
  {
   "cell_type": "markdown",
   "id": "d8a56646",
   "metadata": {},
   "source": [
    "We can see that PCA is 3x7 Array "
   ]
  },
  {
   "cell_type": "code",
   "execution_count": null,
   "id": "01ce3e31",
   "metadata": {},
   "outputs": [],
   "source": [
    "df_pca_comp = pd.DataFrame(data = pca.components_,\n",
    "                          columns = df_segmentation.columns.values,\n",
    "                          index = ['Component 1','Component 2','Component 3'])\n",
    "df_pca_comp"
   ]
  },
  {
   "cell_type": "code",
   "execution_count": null,
   "id": "74fcffc6",
   "metadata": {},
   "outputs": [],
   "source": [
    "plt.figure(figsize = (12,9))\n",
    "sns.heatmap(df_pca_comp,\n",
    "           vmin=-1,\n",
    "           vmax=1,\n",
    "           cmap='RdBu',\n",
    "           annot=True)\n",
    "plt.yticks([0,1,2],\n",
    "          ['Component 1','Component 2','Component 3'],\n",
    "           rotation =45,\n",
    "          fontsize=9)"
   ]
  },
  {
   "cell_type": "code",
   "execution_count": null,
   "id": "f4548037",
   "metadata": {},
   "outputs": [],
   "source": [
    "pca.transform(segmentation_std)"
   ]
  },
  {
   "cell_type": "code",
   "execution_count": null,
   "id": "88522cb0",
   "metadata": {},
   "outputs": [],
   "source": [
    "scores_pca = pca.transform(segmentation_std)"
   ]
  },
  {
   "cell_type": "markdown",
   "id": "cb1f8e53",
   "metadata": {},
   "source": [
    "**K Means clustering with PCA**"
   ]
  },
  {
   "cell_type": "code",
   "execution_count": null,
   "id": "c9ab37f1",
   "metadata": {},
   "outputs": [],
   "source": [
    "wcss = []\n",
    "for i in range(1,11):\n",
    "    kmeans_pca = KMeans(n_clusters =i,init ='k-means++',random_state=42)\n",
    "    kmeans_pca.fit(scores_pca)\n",
    "    wcss.append(kmeans_pca.inertia_)"
   ]
  },
  {
   "cell_type": "code",
   "execution_count": null,
   "id": "b3937c92",
   "metadata": {},
   "outputs": [],
   "source": [
    "plt.figure(figsize = (10,8))\n",
    "plt.plot(range(1,11),wcss,marker = 'o', linestyle = '--')\n",
    "plt.xlabel('Number of Clusters')\n",
    "plt.ylabel('WCSS')\n",
    "plt.title('K-means Clustering with PCA')\n",
    "plt.show()"
   ]
  },
  {
   "cell_type": "markdown",
   "id": "08288138",
   "metadata": {},
   "source": [
    "Looking at the elbow curve we can see that 4 would be the optimum number of cluster"
   ]
  },
  {
   "cell_type": "code",
   "execution_count": null,
   "id": "ac08e23d",
   "metadata": {},
   "outputs": [],
   "source": [
    "kmeans_pca = KMeans(n_clusters = 4,init ='k-means++',random_state=42)"
   ]
  },
  {
   "cell_type": "code",
   "execution_count": null,
   "id": "311c71ce",
   "metadata": {},
   "outputs": [],
   "source": [
    "kmeans_pca.fit(scores_pca)"
   ]
  },
  {
   "cell_type": "markdown",
   "id": "e485a885",
   "metadata": {},
   "source": [
    "**K-means clustering with PCA**"
   ]
  },
  {
   "cell_type": "code",
   "execution_count": null,
   "id": "32f3a467",
   "metadata": {},
   "outputs": [],
   "source": [
    "df_segm_pca_kmeans = pd.concat([df_segmentation.reset_index(drop=True),pd.DataFrame(scores_pca)],axis = 1)\n",
    "df_segm_pca_kmeans.columns.values[-3:] = ['Component 1','Component 2','Component 3']\n",
    "df_segm_pca_kmeans['Segment K-means PCA'] = kmeans_pca.labels_"
   ]
  },
  {
   "cell_type": "code",
   "execution_count": null,
   "id": "8cfa956b",
   "metadata": {},
   "outputs": [],
   "source": [
    "#df_segm_pca_kmeans"
   ]
  },
  {
   "cell_type": "code",
   "execution_count": null,
   "id": "4a3d5f25",
   "metadata": {},
   "outputs": [],
   "source": [
    "df_segm_pca_kmeans_freq = df_segm_pca_kmeans.groupby(['Segment K-means PCA']).mean()\n",
    "df_segm_pca_kmeans_freq"
   ]
  },
  {
   "cell_type": "markdown",
   "id": "2e910972",
   "metadata": {},
   "source": [
    "0 - Well Off \n",
    "\n",
    "1 - Fewer Opportunities \n",
    "\n",
    "2 - Standard \n",
    "\n",
    "3 - Career Focused"
   ]
  },
  {
   "cell_type": "code",
   "execution_count": null,
   "id": "758c03b1",
   "metadata": {},
   "outputs": [],
   "source": [
    "df_segm_pca_kmeans_freq['N Obs'] = df_segm_pca_kmeans[['Segment K-means PCA','Sex']].groupby(['Segment K-means PCA']).count()\n",
    "df_segm_pca_kmeans_freq['Prop Obs'] =df_segm_pca_kmeans_freq['N Obs']/ df_segm_pca_kmeans_freq['N Obs'].sum()\n",
    "df_segm_pca_kmeans_freq = df_segm_pca_kmeans_freq.rename({0:'Well Off',\n",
    "                                                         1:'Fewer Opportunities',\n",
    "                                                         2:'Standard',\n",
    "                                                         3:'Career Focused'})\n",
    "df_segm_pca_kmeans_freq "
   ]
  },
  {
   "cell_type": "code",
   "execution_count": null,
   "id": "cbd9d61d",
   "metadata": {},
   "outputs": [],
   "source": [
    "df_segm_pca_kmeans['Legend'] = df_segm_pca_kmeans['Segment K-means PCA'].map({0:'Well Off',\n",
    "                                                         1:'Fewer Opportunities',\n",
    "                                                         2:'Standard',\n",
    "                                                         3:'Career Focused'})"
   ]
  },
  {
   "cell_type": "code",
   "execution_count": null,
   "id": "6947ab55",
   "metadata": {},
   "outputs": [],
   "source": [
    "x_axis = df_segm_pca_kmeans['Component 2']\n",
    "y_axis = df_segm_pca_kmeans['Component 1']\n",
    "plt.figure(figsize = (10,8))\n",
    "sns.scatterplot(x_axis,y_axis,hue = df_segm_pca_kmeans['Legend'],palette = ['g','r','c','m'])"
   ]
  },
  {
   "cell_type": "markdown",
   "id": "ff66a2f8",
   "metadata": {},
   "source": [
    "From the above plot we can see that the customers are well segmented.So using PCA helped us to improve our customer segmentation results."
   ]
  }
 ],
 "metadata": {},
 "nbformat": 4,
 "nbformat_minor": 5
}
