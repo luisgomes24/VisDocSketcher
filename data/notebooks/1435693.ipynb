{
 "cells": [
  {
   "cell_type": "markdown",
   "id": "19d1b74c",
   "metadata": {},
   "source": [
    "# Introduction\n",
    "Maps allow us to transform data in a `DataFrame` or `Series` one value at a time for an entire column. However, often we want to group our data, and then do something specific to the group the data is in. We do this with the `groupby` operation.\n",
    "\n",
    "In these exercises we'll apply groupwise analysis to our dataset.\n",
    "\n",
    "# Relevant Resources\n",
    "- [**Grouping Reference and Examples**](https://www.kaggle.com/residentmario/grouping-and-sorting-reference).  \n",
    "- [Pandas cheat sheet](https://github.com/pandas-dev/pandas/blob/master/doc/cheatsheet/Pandas_Cheat_Sheet.pdf)"
   ]
  },
  {
   "cell_type": "markdown",
   "id": "dd5c32ed",
   "metadata": {},
   "source": [
    "# Set Up\n",
    "Run the code cell below to load the data before running the exercises."
   ]
  },
  {
   "cell_type": "code",
   "execution_count": null,
   "id": "0039df91",
   "metadata": {},
   "outputs": [],
   "source": [
    "import pandas as pd\n",
    "from learntools.advanced_pandas.grouping_and_sorting import *\n",
    "\n",
    "reviews = pd.read_csv(\"../input/wine-reviews/winemag-data-130k-v2.csv\", index_col=0)\n",
    "pd.set_option(\"display.max_rows\", 5)"
   ]
  },
  {
   "cell_type": "markdown",
   "id": "fe4afe1c",
   "metadata": {},
   "source": [
    "# Checking Your Answers\n",
    "\n",
    "**Check your answers in each exercise using the  `check_qN` function** (replacing `N` with the number of the exercise). For example here's how you would check an incorrect answer to exercise 1:"
   ]
  },
  {
   "cell_type": "code",
   "execution_count": null,
   "id": "897c3060",
   "metadata": {},
   "outputs": [],
   "source": [
    "check_q1(pd.DataFrame())"
   ]
  },
  {
   "cell_type": "markdown",
   "id": "afd31266",
   "metadata": {},
   "source": [
    "If you get stuck, **use the `answer_qN` function to see the code with the correct answer.**\n",
    "\n",
    "For the first set of questions, running the `check_qN` on the correct answer returns `True`.\n",
    "For the second set of questions, using this function to check a correct answer will present an informative graph!"
   ]
  },
  {
   "cell_type": "markdown",
   "id": "92bbc3fc",
   "metadata": {},
   "source": [
    "# Exercises"
   ]
  },
  {
   "cell_type": "markdown",
   "id": "20398d9e",
   "metadata": {},
   "source": [
    "**Exercise 1**: Who are the most common wine reviewers in the dataset? Create a `Series` whose index is the `taster_twitter_handle` category from the dataset, and whose values count how many reviews each person wrote."
   ]
  },
  {
   "cell_type": "code",
   "execution_count": null,
   "id": "06cea786",
   "metadata": {},
   "outputs": [],
   "source": [
    "reviews.groupby('taster_twitter_handle').taster_twitter_handle.count()\n",
    "common_wine_reviewers = reviews.groupby('taster_twitter_handle').taster_twitter_handle.count()\n",
    "#check_q1(common_wine_reviewers)\n"
   ]
  },
  {
   "cell_type": "markdown",
   "id": "4284d281",
   "metadata": {},
   "source": [
    "**Exercise 2**: What is the best wine I can buy for a given amount of money? Create a `Series` whose index is wine prices and whose values is the maximum number of points a wine costing that much was given in a review. Sort the valeus by price, ascending (so that `4.0` dollars is at the top and `3300.0` dollars is at the bottom)."
   ]
  },
  {
   "cell_type": "code",
   "execution_count": null,
   "id": "5928b74f",
   "metadata": {},
   "outputs": [],
   "source": [
    "reviews.groupby('price').points.max().sort_index()\n",
    "best_wine = reviews.groupby('price').points.max().sort_index()\n"
   ]
  },
  {
   "cell_type": "markdown",
   "id": "6e334bfc",
   "metadata": {},
   "source": [
    "**Exercise 3**: What are the minimum and maximum prices for each `variety` of wine? Create a `DataFrame` whose index is the `variety` category from the dataset and whose values are the `min` and `max` values thereof."
   ]
  },
  {
   "cell_type": "code",
   "execution_count": null,
   "id": "6f1e8674",
   "metadata": {},
   "outputs": [],
   "source": [
    "reviews.groupby('variety').price.agg([min, max])\n",
    "wine_price_extremes = reviews.groupby('variety').price.agg([min, max])\n"
   ]
  },
  {
   "cell_type": "markdown",
   "id": "9bc57f17",
   "metadata": {},
   "source": [
    "The rest of the exercises are visual.\n",
    "\n",
    "**Exercise 4**: Are there significant differences in the average scores assigned by the various reviewers? Create a `Series` whose index is reviewers and whose values is the average review score given out by that reviewer. Hint: you will need the `taster_name` and `points` columns."
   ]
  },
  {
   "cell_type": "code",
   "execution_count": null,
   "id": "646214c9",
   "metadata": {},
   "outputs": [],
   "source": [
    "reviews.groupby('taster_name').points.mean()\n",
    "reviewer_mean_ratings = reviews.groupby('taster_name').points.mean()\n",
    "check_q4(reviewer_mean_ratings)"
   ]
  },
  {
   "cell_type": "markdown",
   "id": "766be782",
   "metadata": {},
   "source": [
    "**Exercise 5**: What are the most expensive wine varieties? Create a `DataFrame` whose index is wine varieties and whose values are columns with the `min` and the `max` price of wines of this variety. Sort in descending order based on `min` first, `max` second."
   ]
  },
  {
   "cell_type": "code",
   "execution_count": null,
   "id": "6a9d1f0b",
   "metadata": {},
   "outputs": [],
   "source": [
    "reviews.groupby('variety').price.agg([min, max]).sort_values(by=['min', 'max'], ascending=False)\n",
    "wine_price_range = reviews.groupby('variety').price.agg([min, max]).sort_values(by=['min', 'max'], ascending=False)\n",
    "check_q5(wine_price_range)\n"
   ]
  },
  {
   "cell_type": "markdown",
   "id": "0dfc050c",
   "metadata": {},
   "source": [
    "**Exercise 6**: What combination of countries and varieties are most common? Create a `Series` whose index is a `MultiIndex`of `{country, variety}` pairs. For example, a pinot noir produced in the US should map to `{\"US\", \"Pinot Noir\"}`. Sort the values in the `Series` in descending order based on wine count.\n",
    "\n",
    "Hint: first run `reviews['n'] = 0`. Then `groupby` the dataset and run something on the column `n`. You won't need `reset_index`."
   ]
  },
  {
   "cell_type": "code",
   "execution_count": null,
   "id": "7cf2df62",
   "metadata": {},
   "outputs": [],
   "source": [
    "reviews['n'] = 0\n",
    "reviews.groupby(['country', 'variety']).n.count().sort_values(ascending=False)\n",
    "country_variety_pairs = reviews.groupby(['country', 'variety']).n.count().sort_values(ascending=False)\n",
    "check_q6(country_variety_pairs)\n"
   ]
  },
  {
   "cell_type": "markdown",
   "id": "fac04ba6",
   "metadata": {},
   "source": [
    "# Keep Going\n",
    "\n",
    "Move on to [**Data types and missing data workbook**](https://www.kaggle.com/kernels/fork/598826).\n",
    "\n",
    "___\n",
    "This is part of the [*Learn Pandas*](https://www.kaggle.com/learn/pandas) series."
   ]
  }
 ],
 "metadata": {},
 "nbformat": 4,
 "nbformat_minor": 5
}
