{
 "cells": [
  {
   "cell_type": "markdown",
   "id": "5d33575c",
   "metadata": {},
   "source": [
    "# Generalizing the Special Values\n",
    "\n",
    "Most top solutions to the March TPS competition follow the same three-step pattern:\n",
    "1. Predict test congestions using an ensemble of gradient-boosted trees\n",
    "2. Replace some predictions by so-called \"special values\" ([EDA introducing the special values](https://www.kaggle.com/ambrosm/tpsmar22-eda-which-makes-sense#Congestion-and-its-special-values))\n",
    "3. Round the predictions to the nearest integer ([Why rounding improves the score](https://www.kaggle.com/c/tabular-playground-series-jan-2022/discussion/301249))\n",
    "\n",
    "In this notebook, we generalize step 2: Rather than replacing some predictions by special values (which are medians of the training data), we clip all predictions to some quantiles of the training data."
   ]
  },
  {
   "cell_type": "code",
   "execution_count": null,
   "id": "25a65300",
   "metadata": {},
   "outputs": [],
   "source": [
    "import numpy as np\n",
    "import pandas as pd\n",
    "import matplotlib.pyplot as plt\n",
    "from sklearn.metrics import mean_absolute_error\n"
   ]
  },
  {
   "cell_type": "code",
   "execution_count": null,
   "id": "e97ba34b",
   "metadata": {},
   "outputs": [],
   "source": [
    "# Read and prepare the training data\n",
    "train = pd.read_csv('../input/tabular-playground-series-mar-2022/train.csv', parse_dates=['time'])\n",
    "train['hour'] = train['time'].dt.hour\n",
    "train['minute'] = train['time'].dt.minute\n",
    "\n",
    "# Read the current top public submission of Mirena Borisova\n",
    "submission_in = pd.read_csv('../input/tabular-playground-march-2022-04/lightautoml_rounded_special_ve_37_v2.csv')\n",
    "\n",
    "# Compute the quantiles of workday afternoons in September except Labor Day\n",
    "sep = train[(train.time.dt.hour >= 12) & (train.time.dt.weekday < 5) &\n",
    "            (train.time.dt.dayofyear >= 246)]\n",
    "lower = sep.groupby(['hour', 'minute', 'x', 'y', 'direction']).congestion.quantile(0.15).values\n",
    "upper = sep.groupby(['hour', 'minute', 'x', 'y', 'direction']).congestion.quantile(0.7).values\n",
    "\n",
    "# Clip the submission data to the quantiles\n",
    "submission_out = submission_in.copy()\n",
    "submission_out['congestion'] = submission_in.congestion.clip(lower, upper)\n",
    "#submission_out.to_csv('submission.csv', index=False)\n",
    "\n",
    "# Display some statistics\n",
    "mae = mean_absolute_error(submission_in.congestion, submission_out.congestion)\n",
    "print(f'Mean absolute modification: {mae:.4f}')\n",
    "print(f\"Submission was below lower bound: {(submission_in.congestion <= lower - 0.5).sum()}\")\n",
    "print(f\"Submission was above upper bound: {(submission_in.congestion > upper + 0.5).sum()}\")\n",
    "\n",
    "#submission_out"
   ]
  },
  {
   "cell_type": "code",
   "execution_count": null,
   "id": "917ffcb8",
   "metadata": {},
   "outputs": [],
   "source": [
    "# Round the submission\n",
    "submission_out['congestion'] = submission_out.congestion.round().astype(int)\n",
    "submission_out.to_csv('submission_rounded.csv', index=False)\n",
    "submission_out"
   ]
  },
  {
   "cell_type": "code",
   "execution_count": null,
   "id": "d3b44aa3",
   "metadata": {},
   "outputs": [],
   "source": [
    "# How many predictions where changed by how much?\n",
    "difference = submission_out.congestion - submission_in.congestion\n",
    "histogram = difference[difference != 0].value_counts()\n",
    "plt.rcParams['axes.facecolor'] = '#0057b8' # blue\n",
    "plt.bar(histogram.index, histogram, color='#ffd700')\n",
    "plt.xlabel('difference before / after clipping')\n",
    "plt.ylabel('count')\n",
    "plt.show()"
   ]
  },
  {
   "cell_type": "code",
   "execution_count": null,
   "id": "ae128867",
   "metadata": {},
   "outputs": [],
   "source": [
    "nan"
   ]
  }
 ],
 "metadata": {},
 "nbformat": 4,
 "nbformat_minor": 5
}
