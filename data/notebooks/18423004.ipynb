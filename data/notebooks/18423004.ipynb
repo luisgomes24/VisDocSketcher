{
 "cells": [
  {
   "cell_type": "code",
   "execution_count": null,
   "id": "62badf9a",
   "metadata": {},
   "outputs": [],
   "source": [
    "import numpy as np\n",
    "import pandas as pd\n",
    "import matplotlib.pyplot as plt\n",
    "import seaborn as sns\n",
    "import plotly.express as px\n",
    "import plotly.graph_objects as go\n",
    "from plotly.subplots import make_subplots\n",
    "\n",
    "import os\n",
    "for dirname, _, filenames in os.walk('/kaggle/input'):\n",
    "    for filename in filenames:\n",
    "        print(os.path.join(dirname, filename))"
   ]
  },
  {
   "cell_type": "code",
   "execution_count": null,
   "id": "bd8fd190",
   "metadata": {},
   "outputs": [],
   "source": [
    "import folium\n",
    "def visualize_map(df,zoom):\n",
    "    lat_map = 42.7798\n",
    "    lon_map = 13.1575\n",
    "    f = folium.Figure(width=800,height=800)\n",
    "    m = folium.Map([lat_map,lon_map],zoom_start=zoom).add_to(f)\n",
    "    for i in range(0,len(df)):\n",
    "        folium.Marker(location=[df['Latitude'][i],df['Longitude'][i]],icon=folium.Icon(icon_color='Red',icon='',prefix='fa')).add_to(m)                                \n",
    "    return m"
   ]
  },
  {
   "cell_type": "code",
   "execution_count": null,
   "id": "ff722661",
   "metadata": {},
   "outputs": [],
   "source": [
    "data0=pd.read_csv('../input/italy-earthquakes/italy_earthquakes_from_2016-08-24_to_2016-11-30.csv')\n",
    "data0"
   ]
  },
  {
   "cell_type": "code",
   "execution_count": null,
   "id": "b2199054",
   "metadata": {},
   "outputs": [],
   "source": [
    "data0.iloc[:,:].hist(figsize=(10,10))\n",
    "plt.show()"
   ]
  },
  {
   "cell_type": "code",
   "execution_count": null,
   "id": "a8ca79db",
   "metadata": {},
   "outputs": [],
   "source": [
    "sns.jointplot(data=data0,x='Depth/Km',y='Magnitude',kind='hex')\n",
    "plt.show()"
   ]
  },
  {
   "cell_type": "code",
   "execution_count": null,
   "id": "74daa82f",
   "metadata": {},
   "outputs": [],
   "source": [
    "fig=make_subplots(specs=[[{\"secondary_y\":False}]])\n",
    "fig.add_trace(go.Scatter(x=data0['Time'],y=data0['Magnitude'],name='Magnitude'),secondary_y=False,)\n",
    "fig.update_layout(autosize=False,width=700,height=500,title_text=\"Magnitude of Earthquake in Italy\")\n",
    "fig.update_xaxes(title_text=\"Date\")\n",
    "fig.update_yaxes(title_text=\"Magnitude\",secondary_y=False)\n",
    "fig.show()"
   ]
  },
  {
   "cell_type": "code",
   "execution_count": null,
   "id": "37ea866d",
   "metadata": {},
   "outputs": [],
   "source": [
    "fig=make_subplots(specs=[[{\"secondary_y\":False}]])\n",
    "fig.add_trace(go.Scatter(x=data0['Time'],y=data0['Depth/Km'],name='Depth/Km'),secondary_y=False,)\n",
    "fig.update_layout(autosize=False,width=700,height=500,title_text=\"Depth/Km of Earthquake in Italy\")\n",
    "fig.update_xaxes(title_text=\"Date\")\n",
    "fig.update_yaxes(title_text=\"Depth/Km\",secondary_y=False)\n",
    "fig.show()"
   ]
  },
  {
   "cell_type": "code",
   "execution_count": null,
   "id": "9b9545d6",
   "metadata": {},
   "outputs": [],
   "source": [
    "year=[]\n",
    "month=[]\n",
    "for item in data0['Time']:\n",
    "    items=item.split('-')\n",
    "    year+=[int(items[0])]\n",
    "    month+=[int(items[1])]\n",
    "data0['year']=year\n",
    "data0['month']=month\n",
    "data0"
   ]
  },
  {
   "cell_type": "code",
   "execution_count": null,
   "id": "38d9933d",
   "metadata": {},
   "outputs": [],
   "source": [
    "data1=data0[data0['Magnitude']>4.4].reset_index()\n",
    "data1"
   ]
  },
  {
   "cell_type": "code",
   "execution_count": null,
   "id": "9550ba1b",
   "metadata": {},
   "outputs": [],
   "source": [
    "# earth quake of magnitude >4.4\n",
    "visualize_map(data1,9)"
   ]
  },
  {
   "cell_type": "code",
   "execution_count": null,
   "id": "33fef75c",
   "metadata": {},
   "outputs": [],
   "source": [
    "nan"
   ]
  },
  {
   "cell_type": "code",
   "execution_count": null,
   "id": "cfc092d9",
   "metadata": {},
   "outputs": [],
   "source": [
    "nan"
   ]
  },
  {
   "cell_type": "code",
   "execution_count": null,
   "id": "81a00322",
   "metadata": {},
   "outputs": [],
   "source": [
    "nan"
   ]
  },
  {
   "cell_type": "code",
   "execution_count": null,
   "id": "ce1d3cb4",
   "metadata": {},
   "outputs": [],
   "source": [
    "nan"
   ]
  }
 ],
 "metadata": {},
 "nbformat": 4,
 "nbformat_minor": 5
}
