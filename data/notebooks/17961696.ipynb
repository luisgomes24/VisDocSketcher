{
 "cells": [
  {
   "cell_type": "markdown",
   "id": "58abd8bf",
   "metadata": {},
   "source": [
    "<div style=\"color:white;\n",
    "           display:fill;\n",
    "           border-radius:30px;\n",
    "           font-size:200%;\n",
    "           font-family:cursive;\n",
    "           letter-spacing:2px;\n",
    "           background-color:orange;\n",
    "           color:Black;\n",
    "           font-family:cursive\n",
    "           \">\n",
    "<h1 style=\"text-align:center;\">Israel-Palestine Conflict ⚔️</h1>\n",
    "<center><img  src = \"https://imwpost.com/wp-content/uploads/2020/06/Israel.jpeg\"></center>\n",
    "    \n",
    "<b><h2>A 100-year-old issue</h2></b>\n",
    "<ul>\n",
    "<li>Britain took control of the area known as Palestine after the ruler of that part of the Middle East, the Ottoman Empire, was defeated in World War One.</li>\n",
    "\n",
    "<li>The land was inhabited by a Jewish minority and Arab majority.</li>\n",
    "\n",
    "<li>Tensions between the two peoples grew when the international community gave Britain the task of establishing a \"national home\" in Palestine for Jewish people.For Jews it was their ancestral home, but Palestinian Arabs also claimed the land and opposed the move.</li>\n",
    "  \n",
    "<li>Between the 1920s and 1940s, the number of Jews arriving there grew, with many fleeing from persecution in Europe and seeking a homeland after the Holocaust of World War Two.</li>\n",
    "\n",
    "<li>Violence between Jews and Arabs, and against British rule, also grew.</li>\n",
    "\n",
    "<li>In 1947, the UN voted for Palestine to be split into separate Jewish and Arab states, with Jerusalem becoming an international city.</li>\n",
    "\n",
    "<li>That plan was accepted by Jewish leaders but rejected by the Arab side and never implemented  </li>\n",
    "    \n",
    "</ul>\n",
    "<center><img src = \"https://ichef.bbci.co.uk/news/976/cpsprodpb/D08C/production/_106788335_gettyimages-171104766.jpg\">\n",
    "<img src = \"https://ichef.bbci.co.uk/news/976/cpsprodpb/1124/production/_106788340_gettyimages-51425451.jpg\"></center>\n",
    "    \n",
    "    \n",
    "    \n",
    "\n",
    "<b><h2>The creation of Israel and the 'Catastrophe'</h2></b>    \n",
    "<ul>\n",
    "<li>In 1948, unable to solve the problem, British rulers left and Jewish leaders declared the creation of the state of Israel.</li>\n",
    "\n",
    "<li>Many Palestinians objected and a war followed. Troops from neighbouring Arab countries invaded.</li>\n",
    "\n",
    "<li>Hundreds of thousands of Palestinians fled or were forced out of their homes in what they call Al Nakba, or the \"Catastrophe\".</li>\n",
    "\n",
    "<li>By the time the fighting ended in a ceasefire the following year, Israel controlled most of the territory.</li>\n",
    "\n",
    "<li>Jordan occupied land which became known as the West Bank, and Egypt occupied Gaza.</li>\n",
    "\n",
    "<li>Jerusalem was divided between Israeli forces in the West, and Jordanian forces in the East.Because there was never a peace agreement - with each side blaming the other - there were more wars and fighting  </li>  \n",
    "    \n",
    "    \n",
    "    \n",
    "<b><h2> The Map</h2></b>\n",
    "\n",
    "<li>In another war in 1967, Israel occupied East Jerusalem and the West Bank, as well as most of the Syrian Golan Heights, Gaza and the Egyptian Sinai peninsula.</li>\n",
    "\n",
    "<li>But Later in 1973 Egypt defeated Israel and returned to Sinai peninsula.</li>    \n",
    "    \n",
    "<li>Most Palestinian refugees and their descendants live in Gaza and the West Bank, as well as in neighbouring Jordan, Syria and Lebanon.</li>\n",
    "\n",
    "<li>Neither they nor their descendants have been allowed by Israel to return to their homes - Israel says this would overwhelm the country and threaten its existence as a Jewish state.</li>\n",
    "\n",
    "<li>Israel still occupies the West Bank, and although it pulled out of Gaza the UN still regards that piece of land as occupied territory.</li>\n",
    "\n",
    "<li>Israel claims the whole of Jerusalem as its capital, while the Palestinians claim East Jerusalem as the capital of a future Palestinian state. The US is one of only a handful of countries to recognise the city as Israel's capital.</li>\n",
    "\n",
    "<li>In the past 50 years Israel has built settlements in these areas, where more than 600,000 Jews now live.</li>\n",
    "\n",
    "<li>Palestinians say these are illegal under international law and are obstacles to peace, but Israel denies this.</li>    \n",
    "</ul>   \n",
    "<center><img src = \"https://ichef.bbci.co.uk/news/976/cpsprodpb/8D54/production/_118708163_06_2020_situation_640_2x-nc-002.png\">\n",
    "<img src = \"https://thevocalink.com/wp-content/uploads/2021/05/Mapping-Israeli-occupation-Gaza-News.png\">\n",
    "</center>\n",
    " \n",
    "<b><h2>Current Situations</h2></b>    \n",
    "<ul>    \n",
    "<li>Tensions are often high between Israel and Palestinians living in East Jerusalem, Gaza and the West Bank.</li>\n",
    "\n",
    "<li>Gaza is ruled by the Palestinian militant group Hamas, which has fought Israel many times. Israel and Egypt tightly control Gaza's borders to stop weapons getting to Hamas.</li>\n",
    "\n",
    "<li>Palestinians in Gaza and the West Bank say they are suffering because of Israeli actions and restrictions. Israel says it is only acting to protect itself from Palestinian violence.</li>\n",
    "\n",
    "<li>The threatened eviction of some Palestinian families in East Jerusalem has also caused rising anger. </li>   \n",
    "</ul>\n",
    "<center>\n",
    "<img src = \"https://ichef.bbci.co.uk/news/976/cpsprodpb/133BF/production/_106938787_getty_scarf.jpg\">\n",
    "<img src = \"https://ichef.bbci.co.uk/news/976/cpsprodpb/2827/production/_118597201_getty_shouting.jpg\">\n",
    "</center>\n",
    "</div>"
   ]
  },
  {
   "cell_type": "markdown",
   "id": "fefec0c5",
   "metadata": {},
   "source": [
    "<div style=\"color:white;\n",
    "           display:fill;\n",
    "           border-radius:30px;\n",
    "           font-size:120%;\n",
    "           font-family:cursive;\n",
    "           letter-spacing:2px;\n",
    "           background-color: orange;\n",
    "           color:Black;\n",
    "           font-family:cursive\n",
    "           \">\n",
    "<h1 style=\"text-align:center;\">Importing Liberaries</h1>"
   ]
  },
  {
   "cell_type": "code",
   "execution_count": null,
   "id": "c434e355",
   "metadata": {},
   "outputs": [],
   "source": [
    "import numpy as np\n",
    "import pandas as pd\n",
    "import pandas_profiling as pp\n",
    "from collections import Counter\n",
    "import matplotlib.pyplot as plt\n",
    "import seaborn as sns\n",
    "import plotly.express as px\n",
    "import plotly.graph_objs as go\n",
    "import plotly.figure_factory as ff"
   ]
  },
  {
   "cell_type": "markdown",
   "id": "cce44776",
   "metadata": {},
   "source": [
    "<div style=\"color:white;\n",
    "           display:fill;\n",
    "           border-radius:30px;\n",
    "           font-size:120%;\n",
    "           font-family:cursive;\n",
    "           letter-spacing:2px;\n",
    "           background-color: orange;\n",
    "           color:Black;\n",
    "           font-family:cursive\n",
    "           \">\n",
    "<h1 style=\"text-align:center;\">Loading the Data</h1>"
   ]
  },
  {
   "cell_type": "code",
   "execution_count": null,
   "id": "0e052c9a",
   "metadata": {},
   "outputs": [],
   "source": [
    "df = pd.read_csv(\"/kaggle/input/palestine-body-count/Palestine Body Count.csv\")\n",
    "df"
   ]
  },
  {
   "cell_type": "markdown",
   "id": "a75a07a9",
   "metadata": {},
   "source": [
    "<div style=\"color:white;\n",
    "           display:fill;\n",
    "           border-radius:30px;\n",
    "           font-size:120%;\n",
    "           font-family:cursive;\n",
    "           letter-spacing:2px;\n",
    "           background-color: orange;\n",
    "           color:Black;\n",
    "           font-family:cursive\n",
    "           \">\n",
    "<h1 style=\"text-align:center;\">Some Analysis</h1>"
   ]
  },
  {
   "cell_type": "code",
   "execution_count": null,
   "id": "0019f748",
   "metadata": {},
   "outputs": [],
   "source": [
    "# Getting First 5 values of the data\n",
    "df.head()"
   ]
  },
  {
   "cell_type": "code",
   "execution_count": null,
   "id": "3c4db613",
   "metadata": {},
   "outputs": [],
   "source": [
    "# getting shape of data\n",
    "df.shape"
   ]
  },
  {
   "cell_type": "code",
   "execution_count": null,
   "id": "a5fa2a11",
   "metadata": {},
   "outputs": [],
   "source": [
    "# Getting Data Types\n",
    "df.info()"
   ]
  },
  {
   "cell_type": "code",
   "execution_count": null,
   "id": "7b9134bd",
   "metadata": {},
   "outputs": [],
   "source": [
    "# Checking Null Values\n",
    "df.isnull().sum()"
   ]
  },
  {
   "cell_type": "code",
   "execution_count": null,
   "id": "43d219e7",
   "metadata": {},
   "outputs": [],
   "source": [
    "# Correcting the Data\n",
    "#===================================================\n",
    "df['Palestinians Injuries'].fillna(0,inplace = True)\n",
    "df['Israelis Injuries'].fillna(0,inplace = True)\n",
    "df['Palestinians Killed'].fillna(0,inplace = True)\n",
    "df['Israelis Killed'].fillna(0,inplace = True)\n",
    "df.dropna(inplace = True)\n",
    "#===================================================================\n",
    "df['Palestinians Injuries'].replace('(incl. Aug)',0 ,inplace = True)\n",
    "df['Palestinians Injuries'].replace('(incl. Jun)',0 ,inplace = True)\n",
    "df['Israelis Injuries'].replace('(incl. Aug)',0 ,inplace = True)\n",
    "df['Israelis Injuries'].replace('(incl. Jun)',0 ,inplace = True)\n",
    "#====================================================================\n",
    "df['Palestinians Killed'] = df['Palestinians Killed'].astype(int)\n",
    "df['Israelis Killed'] = df['Israelis Killed'].astype(int)\n",
    "df['Palestinians Injuries'] = df['Palestinians Injuries'].astype(int)\n",
    "df['Israelis Injuries'] = df['Israelis Injuries'].astype(int)\n",
    "#===========\n",
    "df.head()"
   ]
  },
  {
   "cell_type": "code",
   "execution_count": null,
   "id": "f3468054",
   "metadata": {},
   "outputs": [],
   "source": [
    "# Summarizing Data\n",
    "df.describe().T.style.bar(subset=['mean'],color='#606ff2').background_gradient(subset=['std'], cmap='turbo').background_gradient(subset=['50%'], cmap='Reds')"
   ]
  },
  {
   "cell_type": "markdown",
   "id": "f5325684",
   "metadata": {},
   "source": [
    "<div style=\"color:white;\n",
    "           display:fill;\n",
    "           border-radius:30px;\n",
    "           font-size:120%;\n",
    "           font-family:cursive;\n",
    "           letter-spacing:2px;\n",
    "           background-color: orange;\n",
    "           color:Black;\n",
    "           font-family:cursive\n",
    "           \">\n",
    "<h1 style=\"text-align:center;\">Data Visualization</h1>"
   ]
  },
  {
   "cell_type": "markdown",
   "id": "f629ccd1",
   "metadata": {},
   "source": [
    "**<h3>For Column:- Year</h3>**"
   ]
  },
  {
   "cell_type": "code",
   "execution_count": null,
   "id": "7e061099",
   "metadata": {},
   "outputs": [],
   "source": [
    "def amVdf(x):\n",
    "    \n",
    "    print(\"--------------------Pie Plot--------------------\")\n",
    "    fig = px.pie(df, names=x, title = \"Year Column\",hole=0.4,opacity=0.6)\n",
    "    fig.update_traces(textposition='outside', textinfo='percent+label')\n",
    "    fig.show()\n",
    "    \n",
    "    print(\"--------------------Box Plot--------------------\")\n",
    "    fig = px.box(df, x=x, y = 'Month', title = \"Year And Month\")\n",
    "    fig.show()\n",
    "    fig = px.box(df, x=x, y=\"Palestinians Injuries\", title='Year And Palestinians Injuries')\n",
    "    fig.show()\n",
    "    fig = px.box(df, x=x, y = 'Israelis Injuries', title = \"Year And Israelis Injuries\")\n",
    "    fig.show()\n",
    "    fig = px.box(df, x=x, y=\"Palestinians Killed\", title='Year And Palestinians Killed')\n",
    "    fig.show()\n",
    "    fig = px.box(df, x=x, y = 'Israelis Killed', title = \"Year And Israelis Killed\")\n",
    "    fig.show()\n",
    "    \n",
    "    \n",
    "    print(\"--------------------Histogram Plot--------------------\")\n",
    "    fig = px.histogram(df, x=x, y = 'Month', title = \"Year And Month\")\n",
    "    fig.show()\n",
    "    fig = px.histogram(df, x=x, y=\"Palestinians Injuries\", title='Year And Palestinians Injuries')\n",
    "    fig.show()\n",
    "    fig = px.histogram(df, x=x, y = 'Israelis Injuries', title = \"Year And Israelis Injuries\")\n",
    "    fig.show()\n",
    "    fig = px.histogram(df, x=x, y=\"Palestinians Killed\", title='Year And Palestinians Killed')\n",
    "    fig.show()\n",
    "    fig = px.histogram(df, x=x, y = 'Israelis Killed', title = \"Year And Israelis Killed\")\n",
    "    fig.show()\n",
    "    \n",
    "amVdf(\"Year\")"
   ]
  },
  {
   "cell_type": "markdown",
   "id": "c283023c",
   "metadata": {},
   "source": [
    "**<h3>For Column:- Month</h3>**"
   ]
  },
  {
   "cell_type": "code",
   "execution_count": null,
   "id": "4eb9a9c8",
   "metadata": {},
   "outputs": [],
   "source": [
    "def amVdf(x):\n",
    "    \n",
    "    print(\"--------------------Pie Plot--------------------\")\n",
    "    fig = px.pie(df, names=x, title = \"Year Column\",hole=0.4,opacity=0.6)\n",
    "    fig.update_traces(textposition='outside', textinfo='percent+label')\n",
    "    fig.show()\n",
    "    \n",
    "    print(\"--------------------Box Plot--------------------\")\n",
    "    fig = px.box(df, x=x, y = 'Year', title = \"Month And Year\")\n",
    "    fig.show()\n",
    "    fig = px.box(df, x=x, y=\"Palestinians Injuries\", title='Month And Palestinians Injuries')\n",
    "    fig.show()\n",
    "    fig = px.box(df, x=x, y = 'Israelis Injuries', title = \"Month And Israelis Injuries\")\n",
    "    fig.show()\n",
    "    fig = px.box(df, x=x, y=\"Palestinians Killed\", title='Month And Palestinians Killed')\n",
    "    fig.show()\n",
    "    fig = px.box(df, x=x, y = 'Israelis Killed', title = \"Month And Israelis Killed\")\n",
    "    fig.show()\n",
    "    \n",
    "    print(\"--------------------Histogram Plot--------------------\")\n",
    "    fig = px.histogram(df, x=x, y = 'Year', title = \"Month and Year\")\n",
    "    fig.show()\n",
    "    fig = px.histogram(df, x=x, y=\"Palestinians Injuries\", title='Month And Palestinians Injuries')\n",
    "    fig.show()\n",
    "    fig = px.histogram(df, x=x, y = 'Israelis Injuries', title = \"Month And Israelis Injuries\")\n",
    "    fig.show()\n",
    "    fig = px.histogram(df, x=x, y=\"Palestinians Killed\", title='Month And Palestinians Killed')\n",
    "    fig.show()\n",
    "    fig = px.histogram(df, x=x, y = 'Israelis Killed', title = \"Month And Israelis Killed\")\n",
    "    fig.show()\n",
    "    \n",
    "amVdf(\"Month\")"
   ]
  },
  {
   "cell_type": "markdown",
   "id": "820fe768",
   "metadata": {},
   "source": [
    "**<h3>For Column:- Palestinians Injuries</h3>**"
   ]
  },
  {
   "cell_type": "code",
   "execution_count": null,
   "id": "22001e60",
   "metadata": {},
   "outputs": [],
   "source": [
    "def amVdf(x):\n",
    "    \n",
    "    print(\"--------------------Pie Plot--------------------\")\n",
    "    fig = px.pie(df, names=\"Year\",values = x, title = \"Year And Palestinians Injuries\",hole=0.4,opacity=0.6)\n",
    "    fig.update_traces(textposition='outside', textinfo='percent+label')\n",
    "    fig.show()\n",
    "    \n",
    "    fig = px.pie(df, names=\"Month\",values = x, title = \"Month And Palestinians Injuries\",hole=0.4,opacity=0.6)\n",
    "    fig.update_traces(textposition='outside', textinfo='percent+label')\n",
    "    fig.show()\n",
    "    \n",
    "    \n",
    "amVdf(\"Palestinians Injuries\")"
   ]
  },
  {
   "cell_type": "markdown",
   "id": "71d85469",
   "metadata": {},
   "source": [
    "**<h3>For Column:- Palestinias Killed</h3>**"
   ]
  },
  {
   "cell_type": "code",
   "execution_count": null,
   "id": "36d73e7a",
   "metadata": {},
   "outputs": [],
   "source": [
    "def amVdf(x):\n",
    "    \n",
    "    print(\"--------------------Pie Plot--------------------\")\n",
    "    fig = px.pie(df, names=\"Year\",values = x, title = \"Year And Palestinians Kiled\",hole=0.4,opacity=0.6)\n",
    "    fig.update_traces(textposition='outside', textinfo='percent+label')\n",
    "    fig.show()\n",
    "    \n",
    "    fig = px.pie(df, names=\"Month\",values = x, title = \"Month And Palestinians Kiled\",hole=0.4,opacity=0.6)\n",
    "    fig.update_traces(textposition='outside', textinfo='percent+label')\n",
    "    fig.show()\n",
    "    \n",
    "amVdf(\"Palestinians Killed\")"
   ]
  },
  {
   "cell_type": "markdown",
   "id": "c9b83958",
   "metadata": {},
   "source": [
    "**<h3>For Column:- Israelis Injured</h3>**"
   ]
  },
  {
   "cell_type": "code",
   "execution_count": null,
   "id": "1110d47f",
   "metadata": {},
   "outputs": [],
   "source": [
    "def amVdf(x):\n",
    "    \n",
    "    print(\"--------------------Pie Plot--------------------\")\n",
    "    fig = px.pie(df, names=\"Year\",values = x, title = \"Year And Israelis Injuries\",hole=0.4,opacity=0.6)\n",
    "    fig.update_traces(textposition='outside', textinfo='percent+label')\n",
    "    fig.show()\n",
    "    \n",
    "    fig = px.pie(df, names=\"Month\",values = x, title = \"Month And Israelis Injuries\",hole=0.4,opacity=0.6)\n",
    "    fig.update_traces(textposition='outside', textinfo='percent+label')\n",
    "    fig.show()\n",
    "    \n",
    "\n",
    "amVdf(\"Israelis Injuries\")"
   ]
  },
  {
   "cell_type": "markdown",
   "id": "0cdf2627",
   "metadata": {},
   "source": [
    "**<h3>For Column:- Israelis Killed</h3>**"
   ]
  },
  {
   "cell_type": "code",
   "execution_count": null,
   "id": "555a3b4a",
   "metadata": {},
   "outputs": [],
   "source": [
    "def amVdf(x):\n",
    "    \n",
    "    print(\"--------------------Pie Plot--------------------\")\n",
    "    fig = px.pie(df, names=\"Year\",values = x, title = \"Year And Israelis Killed\",hole=0.4,opacity=0.6)\n",
    "    fig.update_traces(textposition='outside', textinfo='percent+label')\n",
    "    fig.show()\n",
    "    \n",
    "    fig = px.pie(df, names=\"Month\",values = x, title = \"Month And Israelis Killed\",hole=0.4,opacity=0.6)\n",
    "    fig.update_traces(textposition='outside', textinfo='percent+label')\n",
    "    fig.show()\n",
    "    \n",
    "\n",
    "    \n",
    "amVdf(\"Israelis Killed\")"
   ]
  },
  {
   "cell_type": "markdown",
   "id": "8d5a9d44",
   "metadata": {},
   "source": [
    "**<h4>Correlation Plot</h4>**"
   ]
  },
  {
   "cell_type": "code",
   "execution_count": null,
   "id": "a45fa55f",
   "metadata": {},
   "outputs": [],
   "source": [
    "plt.figure(figsize=(12,8))\n",
    "sns.heatmap(df.corr(),annot = True, cmap = 'ocean');"
   ]
  },
  {
   "cell_type": "markdown",
   "id": "b36e8c41",
   "metadata": {},
   "source": [
    "**<h4>PairPlot hue:- Month...</h4>**"
   ]
  },
  {
   "cell_type": "code",
   "execution_count": null,
   "id": "703aa382",
   "metadata": {},
   "outputs": [],
   "source": [
    "sns.pairplot(df, hue = 'Month', palette=\"magma\");"
   ]
  },
  {
   "cell_type": "markdown",
   "id": "1962e082",
   "metadata": {},
   "source": [
    "**<h4>PairPlot hue:- Year...</h4>**"
   ]
  },
  {
   "cell_type": "code",
   "execution_count": null,
   "id": "eb3820d1",
   "metadata": {},
   "outputs": [],
   "source": [
    "sns.pairplot(df, hue = 'Year', palette=\"magma\");"
   ]
  },
  {
   "cell_type": "markdown",
   "id": "d64e4f02",
   "metadata": {},
   "source": [
    "**<h3>Pandas Profiling Report</h3>**"
   ]
  },
  {
   "cell_type": "code",
   "execution_count": null,
   "id": "a80e1c99",
   "metadata": {},
   "outputs": [],
   "source": [
    "pp.ProfileReport(df, title = \"Israel-Palestine Body Count\")"
   ]
  },
  {
   "cell_type": "markdown",
   "id": "a3135834",
   "metadata": {},
   "source": [
    "**<h3>Total Palestinians Killed and Injured</h3>**"
   ]
  },
  {
   "cell_type": "code",
   "execution_count": null,
   "id": "008f4692",
   "metadata": {},
   "outputs": [],
   "source": [
    "p_injured = df['Palestinians Injuries'].sum()\n",
    "p_killed = df['Palestinians Killed'].sum()\n",
    "\n",
    "total_p = p_injured + p_killed\n",
    "\n",
    "print(\"Total Palestinians Injured = \",p_injured)\n",
    "print('Total Palestinians Killed = ', p_killed)\n",
    "print(\"Total Palestinians Body Count = \",total_p)\n",
    "\n",
    "labels = [\"Palestinians Injured\",\"Palestinians Killed\"]\n",
    "values = [p_injured,p_killed]\n",
    "fig = go.Figure(data=[go.Pie(labels=labels, values=values,title = \"Palestinians Body Count\",hole=0.4,opacity=0.8)])\n",
    "fig.update_traces(textposition='outside', textinfo='percent+label')\n",
    "fig.show()"
   ]
  },
  {
   "cell_type": "markdown",
   "id": "99fe3f2d",
   "metadata": {},
   "source": [
    "**<h3>Total Israelis Killed and Injured</h3>**"
   ]
  },
  {
   "cell_type": "code",
   "execution_count": null,
   "id": "73e26526",
   "metadata": {},
   "outputs": [],
   "source": [
    "i_injured = df['Israelis Injuries'].sum()\n",
    "i_killed = df['Israelis Killed'].sum()\n",
    "\n",
    "total_i = i_injured + i_killed\n",
    "\n",
    "print(\"Total Israelis Injured = \",i_injured)\n",
    "print('Total Israelis Killed = ', i_killed)\n",
    "print(\"Total Israelis Body Count = \",total_i)\n",
    "\n",
    "labels = [\"Israelis Injured\",\"Israelis Killed\"]\n",
    "values = [i_injured,i_killed]\n",
    "fig = go.Figure(data=[go.Pie(labels=labels, values=values,title = \"Israelis Body Count\",hole=0.4,opacity=0.8)])\n",
    "fig.update_traces(textposition='outside', textinfo='percent+label')\n",
    "fig.show()"
   ]
  },
  {
   "cell_type": "markdown",
   "id": "42387963",
   "metadata": {},
   "source": [
    "**Injured Count**"
   ]
  },
  {
   "cell_type": "code",
   "execution_count": null,
   "id": "9294cbee",
   "metadata": {},
   "outputs": [],
   "source": [
    "labels = [\"Palestinians Injured\",\"Israelis Injured\"]\n",
    "values = [p_injured,i_injured]\n",
    "fig = go.Figure(data=[go.Pie(labels=labels, values=values,title = \"Injured Peoples\",hole=0.4,opacity=0.8)])\n",
    "fig.update_traces(textposition='outside', textinfo='percent+label')\n",
    "fig.show()"
   ]
  },
  {
   "cell_type": "markdown",
   "id": "acda24ef",
   "metadata": {},
   "source": [
    "**Killed Count**"
   ]
  },
  {
   "cell_type": "code",
   "execution_count": null,
   "id": "d8b29c9b",
   "metadata": {},
   "outputs": [],
   "source": [
    "labels = [\"Palestinians Killed\",\"Israelis Killed\"]\n",
    "values = [p_killed,i_killed]\n",
    "fig = go.Figure(data=[go.Pie(labels=labels, values=values,title = \"Killed Peoples\",hole=0.4,opacity=0.8)])\n",
    "fig.update_traces(textposition='outside', textinfo='percent+label')\n",
    "fig.show()"
   ]
  },
  {
   "cell_type": "markdown",
   "id": "a80dbd08",
   "metadata": {},
   "source": [
    "**<h3>Total Israel-Palestine Body Count</h3>**"
   ]
  },
  {
   "cell_type": "code",
   "execution_count": null,
   "id": "52035931",
   "metadata": {},
   "outputs": [],
   "source": [
    "Total = total_p + total_i\n",
    "print(\"Total Israel-Palestine Body Count = \",Total)"
   ]
  },
  {
   "cell_type": "markdown",
   "id": "9bfc2553",
   "metadata": {},
   "source": [
    "<div style=\"color:white;\n",
    "           display:fill;\n",
    "           border-radius:30px;\n",
    "           font-size:120%;\n",
    "           font-family:cursive;\n",
    "           letter-spacing:2px;\n",
    "           background-color: orange;\n",
    "           color:Black;\n",
    "           font-family:cursive\n",
    "           \">\n",
    "<h1 style=\"text-align:center;\">Summary ⚔️ </h1>\n",
    "<h1 style=\"text-align:center;\">\"Total Israel-Palestine Body Count =  127910\"  </h1>\n",
    "</div>"
   ]
  },
  {
   "cell_type": "markdown",
   "id": "b4521db3",
   "metadata": {},
   "source": [
    "<center>\n",
    "<img src = \"https://media2.giphy.com/media/U5DJF2x2NoGcrrQcKJ/giphy.gif?cid=ecf05e47o43bqgyv1cxiwj8gp60pt6e7xmxurterhdi2tzkf&rid=giphy.gif&ct=g\">\n",
    "<img src = \"https://media4.giphy.com/media/cjiltKmkM3GKbPPlJa/giphy.gif?cid=790b76115d5db91f4138feb17f63b496decb3bb05de6144e&rid=giphy.gif&ct=g\">"
   ]
  }
 ],
 "metadata": {},
 "nbformat": 4,
 "nbformat_minor": 5
}
