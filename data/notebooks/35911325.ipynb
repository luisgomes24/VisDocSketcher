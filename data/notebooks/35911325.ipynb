{
 "cells": [
  {
   "cell_type": "markdown",
   "id": "8372a4e4",
   "metadata": {},
   "source": [
    "# BirdCLEF 2023 - Data Inspection\n",
    "\n",
    "Here we do a first inspection on the competition data.\n",
    "\n",
    "**All comments welcome!**\n",
    "\n",
    "## Table of Contents\n",
    "- [Config](#Config)\n",
    "- [Submission](#Submission)\n",
    "- [Training data](#Training-data)\n",
    "- [Taxonomy](#Taxonomy)"
   ]
  },
  {
   "cell_type": "code",
   "execution_count": null,
   "id": "7ebe82bf",
   "metadata": {},
   "outputs": [],
   "source": [
    "import os\n",
    "import collections\n",
    "import numpy as np\n",
    "import pandas as pd\n",
    "import matplotlib.pyplot as plt\n",
    "import librosa\n",
    "print(\"librosa:\", librosa.__version__)"
   ]
  },
  {
   "cell_type": "markdown",
   "id": "56a4f50e",
   "metadata": {},
   "source": [
    "# Config"
   ]
  },
  {
   "cell_type": "code",
   "execution_count": null,
   "id": "a3c58f40",
   "metadata": {},
   "outputs": [],
   "source": [
    "base_dir = \"/kaggle/input/birdclef-2023/\"\n",
    "train_sound_dir = \"/kaggle/input/birdclef-2023/train_audio/\"\n",
    "sample_rate = 32_000"
   ]
  },
  {
   "cell_type": "code",
   "execution_count": null,
   "id": "92d88a88",
   "metadata": {},
   "outputs": [],
   "source": [
    "os.listdir(base_dir)"
   ]
  },
  {
   "cell_type": "markdown",
   "id": "b6edb6ba",
   "metadata": {},
   "source": [
    "# Submission\n",
    "- Task: Predict probability of bird being present in 5 second time intervals (suffix is end time).\n",
    "- Multilabel task.\n",
    "- In total we have 264 birds.\n",
    "- Test soundscapes are 10 minutes long (only 3 submission rows provided here)."
   ]
  },
  {
   "cell_type": "code",
   "execution_count": null,
   "id": "0b2c30ee",
   "metadata": {},
   "outputs": [],
   "source": [
    "path_submission = base_dir + \"sample_submission.csv\"\n",
    "submission = pd.read_csv(path_submission)\n",
    "submission"
   ]
  },
  {
   "cell_type": "code",
   "execution_count": null,
   "id": "3a1b7d44",
   "metadata": {},
   "outputs": [],
   "source": [
    "test_sound_dir = base_dir + \"test_soundscapes/\"\n",
    "os.listdir(test_sound_dir)"
   ]
  },
  {
   "cell_type": "code",
   "execution_count": null,
   "id": "278fac69",
   "metadata": {},
   "outputs": [],
   "source": [
    "path_test_file = test_sound_dir + os.listdir(test_sound_dir)[0]\n",
    "print(path_test_file)\n",
    "sig, sr = librosa.load(path_test_file, sr=sample_rate)\n",
    "sig, sr"
   ]
  },
  {
   "cell_type": "code",
   "execution_count": null,
   "id": "14e1fe6b",
   "metadata": {},
   "outputs": [],
   "source": [
    "len(sig) / sample_rate / 60"
   ]
  },
  {
   "cell_type": "markdown",
   "id": "91003f59",
   "metadata": {},
   "source": [
    "# Training data\n",
    "- Total of 264 birds, same as in submission file.\n",
    "- Very unbalanced training set: 500 files max, but some birds are having only 1 file (might be very rare cases).\n",
    "- Training set does not contain any multilabel task; differecne to final prediction task.\n",
    "- Scientific name and common name are just 1-to-1 mapping of primary label.\n",
    "- Author, license, url, and filename is clear.\n",
    "- Latitude and longitude are clear, but some are missing.\n",
    "- Ratings are spread between 0.0 and 5.0; can this be used as a confidence measure?\n",
    "- 13% records have secondary labels; this might be another source of uncertainty to consider. \n",
    "    - Unclear about duplicates there.\n",
    "- Weird list columns can be casted directly using ``eval``.\n",
    "- Type give extra information (90%), but too many different labels 370 and clear how to utilize."
   ]
  },
  {
   "cell_type": "code",
   "execution_count": null,
   "id": "9a8188a8",
   "metadata": {},
   "outputs": [],
   "source": [
    "train = pd.read_csv(base_dir + \"train_metadata.csv\")\n",
    "for col in [\"type\", \"secondary_labels\"]:\n",
    "    train[col] = train[col].apply(eval)\n",
    "    # remove '' elements in list (for type)\n",
    "    train[col] = train[col].apply(lambda l: [x for x in l if x])\n",
    "#train[\"path_ogg\"] = train_sound_dir + train[\"filename\"]\n",
    "train"
   ]
  },
  {
   "cell_type": "code",
   "execution_count": null,
   "id": "a6f54abb",
   "metadata": {},
   "outputs": [],
   "source": [
    "labels = train[\"primary_label\"].unique()\n",
    "len(labels), labels[:10], set(submission.columns[1:]) == set(labels)"
   ]
  },
  {
   "cell_type": "code",
   "execution_count": null,
   "id": "c2d19d56",
   "metadata": {},
   "outputs": [],
   "source": [
    "counts_labels = train[\"primary_label\"].value_counts().to_frame(\"counts\")\n",
    "counts_labels.index.name = \"primary_label\"\n",
    "counts_labels"
   ]
  },
  {
   "cell_type": "code",
   "execution_count": null,
   "id": "7f09c703",
   "metadata": {},
   "outputs": [],
   "source": [
    "counts_labels.plot(kind=\"line\", marker=\"x\", figsize=(12, 4))\n",
    "plt.show()"
   ]
  },
  {
   "cell_type": "code",
   "execution_count": null,
   "id": "3166263d",
   "metadata": {},
   "outputs": [],
   "source": [
    "display(counts_labels.head(20).T.style.set_caption(\"Head\"))\n",
    "display(counts_labels.tail(20).T.style.set_caption(\"Tail\"))"
   ]
  },
  {
   "cell_type": "code",
   "execution_count": null,
   "id": "d3a6f334",
   "metadata": {},
   "outputs": [],
   "source": [
    "print(\"1-to-1 primary label vs scientific name:\", (train.groupby(\"primary_label\")[\"scientific_name\"].nunique() == 1).all())\n",
    "print(\"1-to-1 primary label vs common name:\", (train.groupby(\"primary_label\")[\"common_name\"].nunique() == 1).all())\n",
    "print(\"duplicated URL:\", train[\"url\"].duplicated().any())\n",
    "print(\"duplicated filename:\", train[\"filename\"].duplicated().any())"
   ]
  },
  {
   "cell_type": "code",
   "execution_count": null,
   "id": "33182724",
   "metadata": {},
   "outputs": [],
   "source": [
    "train.isna().sum()"
   ]
  },
  {
   "cell_type": "code",
   "execution_count": null,
   "id": "97823dd7",
   "metadata": {},
   "outputs": [],
   "source": [
    "sec_labels = train[\"secondary_labels\"]\n",
    "sum(sec_labels.str.len() > 0), sum(sec_labels.str.len() > 0) / len(sec_labels)"
   ]
  },
  {
   "cell_type": "code",
   "execution_count": null,
   "id": "10dd93fb",
   "metadata": {},
   "outputs": [],
   "source": [
    "# duplicates?\n",
    "sec_labels[sec_labels.apply(lambda x: len(set(x)) != len(x))]"
   ]
  },
  {
   "cell_type": "code",
   "execution_count": null,
   "id": "79b64520",
   "metadata": {},
   "outputs": [],
   "source": [
    "print(\"all known secondary labels:\", sec_labels.apply(lambda x: set(x).issubset(labels)).all())"
   ]
  },
  {
   "cell_type": "code",
   "execution_count": null,
   "id": "b4868df9",
   "metadata": {},
   "outputs": [],
   "source": [
    "sec_labels.apply(lambda x: set(x)).str.len().value_counts().sort_index()"
   ]
  },
  {
   "cell_type": "code",
   "execution_count": null,
   "id": "b603b761",
   "metadata": {},
   "outputs": [],
   "source": [
    "song_types = train[\"type\"]\n",
    "sum(song_types.str.len() > 0), sum(song_types.str.len() > 0) / len(sec_labels)"
   ]
  },
  {
   "cell_type": "code",
   "execution_count": null,
   "id": "453f9d4e",
   "metadata": {},
   "outputs": [],
   "source": [
    "# duplicates?\n",
    "song_types[song_types.apply(lambda x: len(set(x)) != len(x))]"
   ]
  },
  {
   "cell_type": "code",
   "execution_count": null,
   "id": "99060cf6",
   "metadata": {},
   "outputs": [],
   "source": [
    "c = collections.Counter()\n",
    "for v in song_types:\n",
    "    c.update([x.strip().lower() for x in v])\n",
    "len(c), c.most_common(20)"
   ]
  },
  {
   "cell_type": "markdown",
   "id": "71919c0b",
   "metadata": {},
   "source": [
    "# Taxonomy\n",
    "- Taxonomy includes many entries.\n",
    "- From 264 revelant birds only one is missing, ``gnbcam2`` (if lookup acts on scientifc name).\n",
    "- Still unclear about how to use in modelling; prediction on higher aggregation?"
   ]
  },
  {
   "cell_type": "code",
   "execution_count": null,
   "id": "2ad72433",
   "metadata": {},
   "outputs": [],
   "source": [
    "path_taxonomy = base_dir + \"eBird_Taxonomy_v2021.csv\"\n",
    "taxonomy = pd.read_csv(path_taxonomy)\n",
    "taxonomy"
   ]
  },
  {
   "cell_type": "code",
   "execution_count": null,
   "id": "0d262cd0",
   "metadata": {},
   "outputs": [],
   "source": [
    "taxonomy[\"label\"] = taxonomy[\"SCI_NAME\"].map(train.groupby(\"scientific_name\")[\"primary_label\"].first())\n",
    "taxonomy = taxonomy.dropna(subset=[\"label\"])\n",
    "taxonomy"
   ]
  },
  {
   "cell_type": "code",
   "execution_count": null,
   "id": "7d407b18",
   "metadata": {},
   "outputs": [],
   "source": [
    "print(\"missing:\", set(labels) - set(taxonomy[\"label\"]))"
   ]
  },
  {
   "cell_type": "code",
   "execution_count": null,
   "id": "262608a9",
   "metadata": {},
   "outputs": [],
   "source": [
    "counts_family = taxonomy[\"FAMILY\"].value_counts().to_frame(\"counts\")\n",
    "counts_family.index.name = \"family_short\"\n",
    "counts_family.index = counts_family.index.str.split(\"(\", n=0).str[0]\n",
    "assert ~counts_family.index.has_duplicates, \"duplicates in shortend index\"\n",
    "counts_family"
   ]
  },
  {
   "cell_type": "code",
   "execution_count": null,
   "id": "2f8c7d35",
   "metadata": {},
   "outputs": [],
   "source": [
    "counts_family.plot(kind='bar', rot=90, figsize=(14, 4))\n",
    "plt.show()"
   ]
  },
  {
   "cell_type": "code",
   "execution_count": null,
   "id": "f2174581",
   "metadata": {},
   "outputs": [],
   "source": [
    "nan"
   ]
  }
 ],
 "metadata": {},
 "nbformat": 4,
 "nbformat_minor": 5
}
