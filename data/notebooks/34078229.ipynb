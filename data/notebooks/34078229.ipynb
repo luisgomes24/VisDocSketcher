{
 "cells": [
  {
   "cell_type": "markdown",
   "id": "515d502d",
   "metadata": {},
   "source": [
    "# RANDOM LINEAR REGRESSION"
   ]
  },
  {
   "cell_type": "code",
   "execution_count": null,
   "id": "f63a7354",
   "metadata": {},
   "outputs": [],
   "source": [
    "# This Python 3 environment comes with many helpful analytics libraries installed\n",
    "# It is defined by the kaggle/python Docker image: https://github.com/kaggle/docker-python\n",
    "# For example, here's several helpful packages to load\n",
    "\n",
    "import numpy as np # linear algebra\n",
    "import pandas as pd # data processing, CSV file I/O (e.g. pd.read_csv)\n",
    "\n",
    "# Input data files are available in the read-only \"../input/\" directory\n",
    "# For example, running this (by clicking run or pressing Shift+Enter) will list all files under the input directory\n",
    "\n",
    "import os\n",
    "for dirname, _, filenames in os.walk('/kaggle/input'):\n",
    "    for filename in filenames:\n",
    "        print(os.path.join(dirname, filename))\n",
    "\n",
    "# You can write up to 20GB to the current directory (/kaggle/working/) that gets preserved as output when you create a version using \"Save & Run All\" \n",
    "# You can also write temporary files to /kaggle/temp/, but they won't be saved outside of the current session"
   ]
  },
  {
   "cell_type": "markdown",
   "id": "01505cef",
   "metadata": {},
   "source": [
    "# LIBRARY"
   ]
  },
  {
   "cell_type": "code",
   "execution_count": null,
   "id": "ddc52099",
   "metadata": {},
   "outputs": [],
   "source": [
    "import numpy as np\n",
    "import pandas as pd\n",
    "import seaborn as sns\n",
    "import matplotlib.pyplot as plt\n",
    "from sklearn.linear_model import LinearRegression\n",
    "from sklearn.impute import SimpleImputer"
   ]
  },
  {
   "cell_type": "markdown",
   "id": "54017813",
   "metadata": {},
   "source": [
    "# DATASET"
   ]
  },
  {
   "cell_type": "markdown",
   "id": "b9caf4c8",
   "metadata": {},
   "source": [
    "## Content\n",
    "\n",
    "**The training dataset is a CSV file with 700 data pairs (x,y). The x-values are numbers between 0 and 100. The corresponding y-values have been generated using the Excel function NORMINV(RAND(), x, 3). Consequently, the best estimate for y should be x.\n",
    "The test dataset is a CSV file with 300 data pairs.**"
   ]
  },
  {
   "cell_type": "code",
   "execution_count": null,
   "id": "1443aaa5",
   "metadata": {},
   "outputs": [],
   "source": [
    "train = pd.read_csv('/kaggle/input/random-linear-regression/train.csv')\n",
    "test = pd.read_csv('/kaggle/input/random-linear-regression/test.csv')"
   ]
  },
  {
   "cell_type": "code",
   "execution_count": null,
   "id": "571c8e11",
   "metadata": {},
   "outputs": [],
   "source": [
    "print(train.head())\n",
    "print ('_______________________\\n')\n",
    "print(test.head())"
   ]
  },
  {
   "cell_type": "markdown",
   "id": "84672938",
   "metadata": {},
   "source": [
    "# NAN"
   ]
  },
  {
   "cell_type": "code",
   "execution_count": null,
   "id": "e5bcb55c",
   "metadata": {},
   "outputs": [],
   "source": [
    "# Cheking NAN\n",
    "\n",
    "print(train.info())\n",
    "print ('_____________________________________\\n')\n",
    "test.info()"
   ]
  },
  {
   "cell_type": "markdown",
   "id": "77a2bf80",
   "metadata": {},
   "source": [
    "## Analysis:\n",
    "\n",
    "**We have NaN in the train dataset**"
   ]
  },
  {
   "cell_type": "code",
   "execution_count": null,
   "id": "0059f806",
   "metadata": {},
   "outputs": [],
   "source": [
    "# Excluding NAN\n",
    "\n",
    "train.bfill(axis ='rows', inplace = True)"
   ]
  },
  {
   "cell_type": "code",
   "execution_count": null,
   "id": "1ae814ac",
   "metadata": {},
   "outputs": [],
   "source": [
    "print(train.info())\n",
    "print ('_____________________________________\\n')\n",
    "test.info()"
   ]
  },
  {
   "cell_type": "markdown",
   "id": "7e995241",
   "metadata": {},
   "source": [
    "# Create regressor and fit the data\n"
   ]
  },
  {
   "cell_type": "code",
   "execution_count": null,
   "id": "ec2ad4b0",
   "metadata": {},
   "outputs": [],
   "source": [
    "X_train = train.iloc[:,0:1].values\n",
    "y_train = train.iloc[:,-1].values\n",
    "X_test = test.iloc[:,0:1].values\n",
    "y_test = test.iloc[:,-1].values"
   ]
  },
  {
   "cell_type": "code",
   "execution_count": null,
   "id": "ac9e423c",
   "metadata": {},
   "outputs": [],
   "source": [
    "regressor = LinearRegression()\n",
    "regressor.fit(X_train,y_train)"
   ]
  },
  {
   "cell_type": "markdown",
   "id": "f5e50290",
   "metadata": {},
   "source": [
    "# Plotting the train and test data¶\n"
   ]
  },
  {
   "cell_type": "code",
   "execution_count": null,
   "id": "a9fc47f9",
   "metadata": {},
   "outputs": [],
   "source": [
    "plt.figure() \n",
    "\n",
    "plt.subplot(111)\n",
    "plt.scatter(X_train,y_train,c='blue')\n",
    "plt.plot(X_train,regressor.predict(X_train),c='red')\n",
    "plt.xlim(min(X_train),max(X_train))\n",
    "plt.ylim(min(y_train),max(y_train))\n",
    "plt.xlabel('X')\n",
    "plt.ylabel('y')\n",
    "plt.title('Train')\n",
    "plt.show()\n",
    "\n",
    "plt.subplot(111)\n",
    "plt.scatter(X_test,y_test,c='blue')\n",
    "plt.plot(X_train,regressor.predict(X_train),c='red')\n",
    "plt.xlim(min(X_test),max(X_test))\n",
    "plt.ylim(min(y_test),max(y_test))\n",
    "plt.title('Test')\n",
    "plt.xlabel('X')\n",
    "plt.ylabel('y')\n",
    "plt.show()"
   ]
  },
  {
   "cell_type": "markdown",
   "id": "1079c67d",
   "metadata": {},
   "source": [
    "## Analysis:\n",
    "\n",
    "**We have outliers in train dataset**"
   ]
  },
  {
   "cell_type": "markdown",
   "id": "3875c98f",
   "metadata": {},
   "source": [
    "# Outliers"
   ]
  },
  {
   "cell_type": "code",
   "execution_count": null,
   "id": "23ece39f",
   "metadata": {},
   "outputs": [],
   "source": [
    "# Checking outliers\n",
    "\n",
    "plt.subplot(111)\n",
    "boxplot = train.boxplot(column=['x', 'y'], color = 'blue')\n",
    "plt.title('train')\n",
    "boxplot.plot()\n",
    "plt.show()\n",
    "\n",
    "plt.subplot(111)\n",
    "boxplot = test.boxplot(column=['x', 'y'], color = 'green')\n",
    "plt.title('test')\n",
    "boxplot.plot()\n",
    "plt.show()"
   ]
  },
  {
   "cell_type": "code",
   "execution_count": null,
   "id": "43380139",
   "metadata": {},
   "outputs": [],
   "source": [
    "# Excluding outliers\n",
    "\n",
    "# IQR\n",
    "Q1 = np.percentile(train['x'], 25,\n",
    "                   interpolation = 'midpoint')\n",
    " \n",
    "Q3 = np.percentile(train['x'], 75,\n",
    "                   interpolation = 'midpoint')\n",
    "IQR = Q3 - Q1\n",
    " \n",
    "# Upper bound\n",
    "upper = np.where(train['x'] >= (Q3+1.5*IQR))\n",
    "# Lower bound\n",
    "lower = np.where(train['x'] <= (Q1-1.5*IQR))\n",
    "\n",
    "# Removing the Outliers\n",
    "train.drop(upper[0], inplace = True)\n",
    "train.drop(lower[0], inplace = True)"
   ]
  },
  {
   "cell_type": "code",
   "execution_count": null,
   "id": "696a4879",
   "metadata": {},
   "outputs": [],
   "source": [
    "# Checking outliers\n",
    "\n",
    "plt.subplot(111)\n",
    "boxplot = train.boxplot(column=['x', 'y'], color = 'blue')\n",
    "plt.title('train')\n",
    "boxplot.plot()\n",
    "plt.show()\n",
    "\n",
    "plt.subplot(111)\n",
    "boxplot = test.boxplot(column=['x', 'y'], color = 'green')\n",
    "plt.title('test')\n",
    "boxplot.plot()\n",
    "plt.show()"
   ]
  },
  {
   "cell_type": "markdown",
   "id": "2cdcaf0b",
   "metadata": {},
   "source": [
    "# Create regressor and fit the data\n",
    "\n",
    "**After Excluding outliers**"
   ]
  },
  {
   "cell_type": "code",
   "execution_count": null,
   "id": "e75134cf",
   "metadata": {},
   "outputs": [],
   "source": [
    "X_train = train.iloc[:,0:1].values\n",
    "y_train = train.iloc[:,-1].values\n",
    "regressor = LinearRegression()\n",
    "regressor.fit(X_train,y_train)"
   ]
  },
  {
   "cell_type": "markdown",
   "id": "aec2c209",
   "metadata": {},
   "source": [
    "# Plot Linear Regression\n",
    "\n",
    "**After Excluding outliers** "
   ]
  },
  {
   "cell_type": "code",
   "execution_count": null,
   "id": "1d7fc4c5",
   "metadata": {},
   "outputs": [],
   "source": [
    "plt.figure() \n",
    "\n",
    "plt.subplot(111)\n",
    "plt.scatter(X_train,y_train,c='blue')\n",
    "plt.plot(X_train,regressor.predict(X_train),c='red')\n",
    "plt.xlim(min(X_train),max(X_train))\n",
    "plt.ylim(min(y_train),max(y_train))\n",
    "plt.xlabel('X')\n",
    "plt.ylabel('y')\n",
    "plt.title('Train')\n",
    "plt.show()\n",
    "\n",
    "plt.subplot(111)\n",
    "plt.scatter(X_test,y_test,c='blue')\n",
    "plt.plot(X_train,regressor.predict(X_train),c='red')\n",
    "plt.xlim(min(X_test),max(X_test))\n",
    "plt.ylim(min(y_test),max(y_test))\n",
    "plt.title('Test')\n",
    "plt.xlabel('X')\n",
    "plt.ylabel('y')\n",
    "plt.show()"
   ]
  },
  {
   "cell_type": "markdown",
   "id": "4972df19",
   "metadata": {},
   "source": [
    "## If you liked it, please upvote. Thank you."
   ]
  }
 ],
 "metadata": {},
 "nbformat": 4,
 "nbformat_minor": 5
}
