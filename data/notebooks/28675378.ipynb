{
 "cells": [
  {
   "cell_type": "code",
   "execution_count": null,
   "id": "eb67ac6f",
   "metadata": {},
   "outputs": [],
   "source": [
    "import pandas as pd\n",
    "train=pd.read_csv('../input/forecast-energy-consumption/training_data.csv')\n",
    "train.head()"
   ]
  },
  {
   "cell_type": "code",
   "execution_count": null,
   "id": "296bca01",
   "metadata": {},
   "outputs": [],
   "source": [
    "train.info()"
   ]
  },
  {
   "cell_type": "code",
   "execution_count": null,
   "id": "f4998267",
   "metadata": {},
   "outputs": [],
   "source": [
    "test=pd.read_csv('../input/forecast-energy-consumption/testing_data.csv')\n",
    "test.head()"
   ]
  },
  {
   "cell_type": "code",
   "execution_count": null,
   "id": "a12b5b23",
   "metadata": {},
   "outputs": [],
   "source": [
    "train.Date=pd.to_datetime(train.Date, infer_datetime_format=True)\n",
    "train.info()"
   ]
  },
  {
   "cell_type": "code",
   "execution_count": null,
   "id": "b527900e",
   "metadata": {},
   "outputs": [],
   "source": [
    "test.Date=pd.to_datetime(test.Date, infer_datetime_format=True)\n",
    "test.info()"
   ]
  },
  {
   "cell_type": "code",
   "execution_count": null,
   "id": "6146a2ae",
   "metadata": {},
   "outputs": [],
   "source": [
    "!pip install fast_ml\n",
    "!pip install flaml\n",
    "from sklearn.metrics import mean_absolute_percentage_error"
   ]
  },
  {
   "cell_type": "code",
   "execution_count": null,
   "id": "98898e70",
   "metadata": {},
   "outputs": [],
   "source": [
    "from fast_ml.feature_engineering import FeatureEngineering_DateTime\n",
    "dt_fe = FeatureEngineering_DateTime()\n",
    "dt_fe.fit(train, datetime_variables=['Date'])\n",
    "train = dt_fe.transform(train)\n",
    "train.head()"
   ]
  },
  {
   "cell_type": "code",
   "execution_count": null,
   "id": "00360703",
   "metadata": {},
   "outputs": [],
   "source": [
    "dt_fe.fit(test, datetime_variables=['Date'])\n",
    "test = dt_fe.transform(test)\n",
    "test.head()"
   ]
  },
  {
   "cell_type": "code",
   "execution_count": null,
   "id": "032ad593",
   "metadata": {},
   "outputs": [],
   "source": [
    "nunique_train=train.nunique().reset_index()\n",
    "remove_col=nunique_train[(nunique_train[0]==len(train)) | (nunique_train[0]==0) | (nunique_train[0]==1) ]['index'].tolist()\n",
    "remove_col[:5]"
   ]
  },
  {
   "cell_type": "code",
   "execution_count": null,
   "id": "ae3d5de1",
   "metadata": {},
   "outputs": [],
   "source": [
    "pd.set_option('display.max_columns', None)\n",
    "train=train.drop(remove_col,axis=1)\n",
    "train.head()"
   ]
  },
  {
   "cell_type": "code",
   "execution_count": null,
   "id": "85869e4e",
   "metadata": {},
   "outputs": [],
   "source": [
    "test=test.drop(remove_col,axis=1)\n",
    "test.head()"
   ]
  },
  {
   "cell_type": "code",
   "execution_count": null,
   "id": "819758c5",
   "metadata": {},
   "outputs": [],
   "source": [
    "train=train.drop(['Date:time'],axis=1)\n",
    "train.info()"
   ]
  },
  {
   "cell_type": "code",
   "execution_count": null,
   "id": "c9938aea",
   "metadata": {},
   "outputs": [],
   "source": [
    "test=test.drop(['Date:time'],axis=1)\n",
    "test.info()"
   ]
  },
  {
   "cell_type": "code",
   "execution_count": null,
   "id": "56960989",
   "metadata": {},
   "outputs": [],
   "source": [
    "train['Date:day_part'].unique()"
   ]
  },
  {
   "cell_type": "code",
   "execution_count": null,
   "id": "765cc637",
   "metadata": {},
   "outputs": [],
   "source": [
    "train['Date:day_part'].value_counts()"
   ]
  },
  {
   "cell_type": "code",
   "execution_count": null,
   "id": "0628eaf1",
   "metadata": {},
   "outputs": [],
   "source": [
    "import numpy as np\n",
    "train['Date:day_part'] = train['Date:day_part'].fillna(value=np.nan)\n",
    "train['Date:day_part'].unique()"
   ]
  },
  {
   "cell_type": "code",
   "execution_count": null,
   "id": "ec930427",
   "metadata": {},
   "outputs": [],
   "source": [
    "test['Date:day_part'] = test['Date:day_part'].fillna(value=np.nan)\n",
    "test['Date:day_part'].unique()"
   ]
  },
  {
   "cell_type": "code",
   "execution_count": null,
   "id": "743a3c30",
   "metadata": {},
   "outputs": [],
   "source": [
    "round(train.isnull().sum()*100/len(train),2).sort_values(ascending=False)"
   ]
  },
  {
   "cell_type": "code",
   "execution_count": null,
   "id": "f6773e73",
   "metadata": {},
   "outputs": [],
   "source": [
    "train[train.isnull().any(axis=1)]"
   ]
  },
  {
   "cell_type": "code",
   "execution_count": null,
   "id": "45cc95e7",
   "metadata": {},
   "outputs": [],
   "source": [
    "train['Date:day_part'] = train['Date:day_part'].fillna(value='midnight')\n",
    "round(train.isnull().sum()*100/len(train),2).sort_values(ascending=False)[:5]"
   ]
  },
  {
   "cell_type": "code",
   "execution_count": null,
   "id": "c5b6f101",
   "metadata": {},
   "outputs": [],
   "source": [
    "test['Date:day_part'] = test['Date:day_part'].fillna(value='midnight')\n",
    "round(test.isnull().sum()*100/len(test),2).sort_values(ascending=False)[:5]"
   ]
  },
  {
   "cell_type": "code",
   "execution_count": null,
   "id": "628f1d52",
   "metadata": {},
   "outputs": [],
   "source": [
    "train['Date:day_part']=train['Date:day_part'].replace({'midnight':0,'dawn':1, 'early morning':2, 'late morning':3, 'noon':4,\n",
    "                                                       'afternoon':5,'evening':6, 'night':7 })\n",
    "      \n",
    "train['Date:day_part'].value_counts()"
   ]
  },
  {
   "cell_type": "code",
   "execution_count": null,
   "id": "56faa8b2",
   "metadata": {},
   "outputs": [],
   "source": [
    "test['Date:day_part']=test['Date:day_part'].replace({'midnight':0,'dawn':1, 'early morning':2, 'late morning':3, 'noon':4,\n",
    "                                                       'afternoon':5,'evening':6, 'night':7 })\n",
    "      \n",
    "test['Date:day_part'].value_counts()"
   ]
  },
  {
   "cell_type": "code",
   "execution_count": null,
   "id": "ed40b5ef",
   "metadata": {},
   "outputs": [],
   "source": [
    "def reduce_mem_usage(props):\n",
    "    start_mem_usg = props.memory_usage().sum() / 1024**2 \n",
    "    print(\"Memory usage of properties dataframe is :\",start_mem_usg,\" MB\")\n",
    "    NAlist = [] # Keeps track of columns that have missing values filled in. \n",
    "    for col in props.columns:\n",
    "        if props[col].dtype != object:  # Exclude strings\n",
    "            \n",
    "            # Print current column type\n",
    "            print(\"******************************\")\n",
    "            print(\"Column: \",col)\n",
    "            print(\"dtype before: \",props[col].dtype)\n",
    "            \n",
    "            # make variables for Int, max and min\n",
    "            IsInt = False\n",
    "            mx = props[col].max()\n",
    "            mn = props[col].min()\n",
    "            \n",
    "            # Integer does not support NA, therefore, NA needs to be filled\n",
    "            if not np.isfinite(props[col]).all(): \n",
    "                NAlist.append(col)\n",
    "                props[col].fillna(mn-1,inplace=True)  \n",
    "                   \n",
    "            # test if column can be converted to an integer\n",
    "            asint = props[col].fillna(0).astype(np.int64)\n",
    "            result = (props[col] - asint)\n",
    "            result = result.sum()\n",
    "            if result > -0.01 and result < 0.01:\n",
    "                IsInt = True\n",
    "\n",
    "            \n",
    "            # Make Integer/unsigned Integer datatypes\n",
    "            if IsInt:\n",
    "                if mn >= 0:\n",
    "                    if mx < 255:\n",
    "                        props[col] = props[col].astype(np.uint8)\n",
    "                    elif mx < 65535:\n",
    "                        props[col] = props[col].astype(np.uint16)\n",
    "                    elif mx < 4294967295:\n",
    "                        props[col] = props[col].astype(np.uint32)\n",
    "                    else:\n",
    "                        props[col] = props[col].astype(np.uint64)\n",
    "                else:\n",
    "                    if mn > np.iinfo(np.int8).min and mx < np.iinfo(np.int8).max:\n",
    "                        props[col] = props[col].astype(np.int8)\n",
    "                    elif mn > np.iinfo(np.int16).min and mx < np.iinfo(np.int16).max:\n",
    "                        props[col] = props[col].astype(np.int16)\n",
    "                    elif mn > np.iinfo(np.int32).min and mx < np.iinfo(np.int32).max:\n",
    "                        props[col] = props[col].astype(np.int32)\n",
    "                    elif mn > np.iinfo(np.int64).min and mx < np.iinfo(np.int64).max:\n",
    "                        props[col] = props[col].astype(np.int64)    \n",
    "            \n",
    "            # Make float datatypes 32 bit\n",
    "            else:\n",
    "                props[col] = props[col].astype(np.float32)\n",
    "            \n",
    "            # Print new column type\n",
    "            print(\"dtype after: \",props[col].dtype)\n",
    "            print(\"******************************\")\n",
    "    \n",
    "    # Print final result\n",
    "    print(\"___MEMORY USAGE AFTER COMPLETION:___\")\n",
    "    mem_usg = props.memory_usage().sum() / 1024**2 \n",
    "    print(\"Memory usage is: \",mem_usg,\" MB\")\n",
    "    print(\"This is \",100*mem_usg/start_mem_usg,\"% of the initial size\")\n",
    "    return props, NAlist"
   ]
  },
  {
   "cell_type": "code",
   "execution_count": null,
   "id": "0e3bcade",
   "metadata": {},
   "outputs": [],
   "source": [
    "train, NAlist = reduce_mem_usage(train)\n",
    "print(\"_________________\")\n",
    "print(\"\")\n",
    "print(\"Warning: the following columns have missing values filled with 'df['column_name'].min() -1': \")\n",
    "print(\"_________________\")\n",
    "print(\"\")\n",
    "print(NAlist)"
   ]
  },
  {
   "cell_type": "code",
   "execution_count": null,
   "id": "d4fdab93",
   "metadata": {},
   "outputs": [],
   "source": [
    "test, NAlist = reduce_mem_usage(test)\n",
    "print(\"_________________\")\n",
    "print(\"\")\n",
    "print(\"Warning: the following columns have missing values filled with 'df['column_name'].min() -1': \")\n",
    "print(\"_________________\")\n",
    "print(\"\")\n",
    "print(NAlist)"
   ]
  },
  {
   "cell_type": "code",
   "execution_count": null,
   "id": "155daf44",
   "metadata": {},
   "outputs": [],
   "source": [
    "import re\n",
    "train = train.rename(columns = lambda x:re.sub('[^A-Za-z0-9_]+', '', x))\n",
    "train.head()"
   ]
  },
  {
   "cell_type": "code",
   "execution_count": null,
   "id": "56c9c46d",
   "metadata": {},
   "outputs": [],
   "source": [
    "test = test.rename(columns = lambda x:re.sub('[^A-Za-z0-9_]+', '', x))\n",
    "test.head()"
   ]
  },
  {
   "cell_type": "code",
   "execution_count": null,
   "id": "6687ae7f",
   "metadata": {},
   "outputs": [],
   "source": [
    "y = train.pop('Power')\n",
    "X = train"
   ]
  },
  {
   "cell_type": "code",
   "execution_count": null,
   "id": "93b83537",
   "metadata": {},
   "outputs": [],
   "source": [
    "from sklearn.model_selection import train_test_split\n",
    "X_train, X_test, y_train, y_test = train_test_split( X, y, test_size=0.2, random_state=42)"
   ]
  },
  {
   "cell_type": "code",
   "execution_count": null,
   "id": "7ed3816c",
   "metadata": {},
   "outputs": [],
   "source": [
    "from flaml import AutoML\n",
    "automl = AutoML()"
   ]
  },
  {
   "cell_type": "code",
   "execution_count": null,
   "id": "0e173a2d",
   "metadata": {},
   "outputs": [],
   "source": [
    "from flaml import AutoML\n",
    "automl = AutoML()\n",
    "automl.fit(X_train, y_train, task=\"regression\",metric='rmse',time_budget=900)"
   ]
  },
  {
   "cell_type": "code",
   "execution_count": null,
   "id": "42651b3c",
   "metadata": {},
   "outputs": [],
   "source": [
    "print('Best ML leaner:', automl.best_estimator)\n",
    "print('Best hyperparmeter config:', automl.best_config)\n",
    "print('Best rmse on validation data: {0:.4g}'.format(automl.best_loss))\n",
    "print('Training duration of best run: {0:.4g} s'.format(automl.best_config_train_time))"
   ]
  },
  {
   "cell_type": "code",
   "execution_count": null,
   "id": "c1cb78ae",
   "metadata": {},
   "outputs": [],
   "source": [
    "from flaml.ml import sklearn_metric_loss_score\n",
    "print('train rmse', '=', sklearn_metric_loss_score('rmse', automl.predict(X_train), y_train))\n",
    "print(' test rmse', '=', sklearn_metric_loss_score('rmse', automl.predict(X_test), y_test))"
   ]
  },
  {
   "cell_type": "code",
   "execution_count": null,
   "id": "c72292c7",
   "metadata": {},
   "outputs": [],
   "source": [
    "y_pred = automl.predict(test)\n",
    "y_pred[:5]"
   ]
  },
  {
   "cell_type": "code",
   "execution_count": null,
   "id": "55f51329",
   "metadata": {},
   "outputs": [],
   "source": [
    "sol = pd.DataFrame(y_pred,columns=['Power'])\n",
    "sol.head()"
   ]
  },
  {
   "cell_type": "code",
   "execution_count": null,
   "id": "37d7bcf9",
   "metadata": {},
   "outputs": [],
   "source": [
    "sol.to_csv('./rmse.csv',index=False)"
   ]
  }
 ],
 "metadata": {},
 "nbformat": 4,
 "nbformat_minor": 5
}
