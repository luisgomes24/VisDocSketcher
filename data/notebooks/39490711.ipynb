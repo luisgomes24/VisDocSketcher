{
 "cells": [
  {
   "cell_type": "code",
   "execution_count": null,
   "id": "0b1dda09",
   "metadata": {},
   "outputs": [],
   "source": [
    "# This Python 3 environment comes with many helpful analytics libraries installed\n",
    "# It is defined by the kaggle/python Docker image: https://github.com/kaggle/docker-python\n",
    "# For example, here's several helpful packages to load\n",
    "\n",
    "import numpy as np # linear algebra\n",
    "import pandas as pd # data processing, CSV file I/O (e.g. pd.read_csv)\n",
    "from pandas_profiling import ProfileReport\n",
    "from sklearn.model_selection import train_test_split\n",
    "from sklearn.feature_extraction import text\n",
    "import nltk\n",
    "from nltk.tokenize import word_tokenize\n",
    "from nltk.stem import PorterStemmer\n",
    "from nltk.corpus import stopwords\n",
    "import re\n",
    "from sklearn.cluster import KMeans\n",
    "from sklearn.naive_bayes import MultinomialNB\n",
    "# Input data files are available in the read-only \"../input/\" directory\n",
    "# For example, running this (by clicking run or pressing Shift+Enter) will list all files under the input directory\n",
    "\n",
    "import os\n",
    "for dirname, _, filenames in os.walk('/kaggle/input'):\n",
    "    for filename in filenames:\n",
    "        print(os.path.join(dirname, filename))\n",
    "\n",
    "# You can write up to 20GB to the current directory (/kaggle/working/) that gets preserved as output when you create a version using \"Save & Run All\" \n",
    "# You can also write temporary files to /kaggle/temp/, but they won't be saved outside of the current session"
   ]
  },
  {
   "cell_type": "code",
   "execution_count": null,
   "id": "ff5bb781",
   "metadata": {},
   "outputs": [],
   "source": [
    "train=pd.read_csv('/kaggle/input/ipba-14-nlp-with-disaster-tweets/train.csv')\n",
    "test=pd.read_csv('/kaggle/input/ipba-14-nlp-with-disaster-tweets/test.csv')\n",
    "train.head()"
   ]
  },
  {
   "cell_type": "code",
   "execution_count": null,
   "id": "eb7faa66",
   "metadata": {},
   "outputs": [],
   "source": [
    "train.describe()"
   ]
  },
  {
   "cell_type": "code",
   "execution_count": null,
   "id": "b6dd1a1b",
   "metadata": {},
   "outputs": [],
   "source": [
    "text_data=train['text'].astype('str')\n",
    "text_data= text_data.apply(lambda x: x.lower())\n",
    "text_data.head()"
   ]
  },
  {
   "cell_type": "code",
   "execution_count": null,
   "id": "9b63beca",
   "metadata": {},
   "outputs": [],
   "source": [
    "# function to remove special characters\n",
    "text_data= text_data.apply(lambda x: re.sub(\"[^0-9a-zA-Z]\",' ', x))\n",
    "text_data.head()"
   ]
  },
  {
   "cell_type": "code",
   "execution_count": null,
   "id": "d838fffe",
   "metadata": {},
   "outputs": [],
   "source": [
    "# removing stopwords\n",
    "nltk.download('stopwords')\n",
    "stop_words = set(stopwords.words(\"english\"))\n",
    "stop_words\n",
    "\n",
    "def remove_sw(review):\n",
    "    tokens = word_tokenize(review)\n",
    "    tokens = [w for w in tokens if not w in stop_words]\n",
    "    return \" \".join(tokens)\n",
    "text_data = text_data.apply(remove_sw)\n",
    "text_data.head()"
   ]
  },
  {
   "cell_type": "code",
   "execution_count": null,
   "id": "48d2b652",
   "metadata": {},
   "outputs": [],
   "source": [
    "# Stemming - Not required as text is for product description\n",
    "\n",
    "ps = PorterStemmer()\n",
    "\n",
    "def stem(text):\n",
    "    return ' '.join([ps.stem(word) for word in text.split()])\n",
    "\n",
    "text_data= text_data.apply(stem)\n",
    "text_data.head()\n"
   ]
  },
  {
   "cell_type": "code",
   "execution_count": null,
   "id": "7e1eaf32",
   "metadata": {},
   "outputs": [],
   "source": [
    "# initialise TF-IDF\n",
    "#text_data=text_data.tolist()\n",
    "#text_data.head()\n"
   ]
  },
  {
   "cell_type": "code",
   "execution_count": null,
   "id": "5aa4e5e0",
   "metadata": {},
   "outputs": [],
   "source": [
    "from sklearn.feature_extraction.text import TfidfVectorizer\n",
    "tf = TfidfVectorizer(ngram_range=(1, 2))\n",
    "matrix_tfidf = tf.fit_transform(text_data)"
   ]
  },
  {
   "cell_type": "code",
   "execution_count": null,
   "id": "7ad5f37a",
   "metadata": {},
   "outputs": [],
   "source": [
    "matrix_tfidf.shape"
   ]
  },
  {
   "cell_type": "code",
   "execution_count": null,
   "id": "b78ddc8c",
   "metadata": {},
   "outputs": [],
   "source": [
    "train['text_treated']=text_data\n",
    "train.head()"
   ]
  },
  {
   "cell_type": "code",
   "execution_count": null,
   "id": "cc4579f7",
   "metadata": {},
   "outputs": [],
   "source": [
    "X=train['text_treated']\n",
    "Y=train['target']"
   ]
  },
  {
   "cell_type": "code",
   "execution_count": null,
   "id": "fc7b5c79",
   "metadata": {},
   "outputs": [],
   "source": [
    "X_train, X_val, y_train, y_val = train_test_split(X, Y, test_size = 0.25)\n",
    "X_train.head()"
   ]
  },
  {
   "cell_type": "code",
   "execution_count": null,
   "id": "6b463679",
   "metadata": {},
   "outputs": [],
   "source": [
    "\n",
    "#X_train_tf=text.TfidfVectorizer(input=X_train.tolist(),ngram_range=(1,1))\n",
    "#X_train_tf= X_train_tf.fit_transform(X_train.tolist())\n",
    "\n",
    "#X_val_tf=text.TfidfVectorizer(input=X_val.tolist(),ngram_range=(1,1))\n",
    "#X_val_tf= X_val_tf.fit_transform(X_val.tolist())"
   ]
  },
  {
   "cell_type": "code",
   "execution_count": null,
   "id": "659f4cbf",
   "metadata": {},
   "outputs": [],
   "source": [
    "tf=text.TfidfVectorizer()\n",
    "X_train_tf=tf.fit_transform(X_train.tolist())\n",
    "\n",
    "#X_val_tf=text.TfidfVectorizer()\n",
    "X_val_tf= tf.transform(X_val.tolist())"
   ]
  },
  {
   "cell_type": "code",
   "execution_count": null,
   "id": "af10dbcb",
   "metadata": {},
   "outputs": [],
   "source": [
    "X_train_tf.shape"
   ]
  },
  {
   "cell_type": "code",
   "execution_count": null,
   "id": "1a6a8ed1",
   "metadata": {},
   "outputs": [],
   "source": [
    "X_val_tf.shape"
   ]
  },
  {
   "cell_type": "code",
   "execution_count": null,
   "id": "923ac194",
   "metadata": {},
   "outputs": [],
   "source": [
    "y_val.shape"
   ]
  },
  {
   "cell_type": "code",
   "execution_count": null,
   "id": "291b0427",
   "metadata": {},
   "outputs": [],
   "source": [
    "y_train.shape"
   ]
  },
  {
   "cell_type": "code",
   "execution_count": null,
   "id": "98a2452c",
   "metadata": {},
   "outputs": [],
   "source": [
    "mnb = MultinomialNB()\n",
    "mnb.fit(X_train_tf, y_train)"
   ]
  },
  {
   "cell_type": "code",
   "execution_count": null,
   "id": "c290233c",
   "metadata": {},
   "outputs": [],
   "source": [
    "mnb.score(X_val_tf, y_val)"
   ]
  },
  {
   "cell_type": "code",
   "execution_count": null,
   "id": "cc8edc1c",
   "metadata": {},
   "outputs": [],
   "source": [
    "# Prediction on test set\n",
    "\n",
    "test.head()"
   ]
  },
  {
   "cell_type": "code",
   "execution_count": null,
   "id": "15961374",
   "metadata": {},
   "outputs": [],
   "source": [
    "test_id=test['id']"
   ]
  },
  {
   "cell_type": "code",
   "execution_count": null,
   "id": "6011d5fa",
   "metadata": {},
   "outputs": [],
   "source": [
    "test_text=test['text'].astype('str')\n",
    "test_text= test_text.apply(lambda x: x.lower())\n",
    "test_text.head()"
   ]
  },
  {
   "cell_type": "code",
   "execution_count": null,
   "id": "5253432c",
   "metadata": {},
   "outputs": [],
   "source": [
    "# function to remove special characters\n",
    "test_text= test_text.apply(lambda x: re.sub(\"[^0-9a-zA-Z]\",' ', x))\n",
    "test_text.head()"
   ]
  },
  {
   "cell_type": "code",
   "execution_count": null,
   "id": "945663fa",
   "metadata": {},
   "outputs": [],
   "source": [
    "test_text = test_text.apply(remove_sw)\n",
    "test_text.head()"
   ]
  },
  {
   "cell_type": "code",
   "execution_count": null,
   "id": "aab4f973",
   "metadata": {},
   "outputs": [],
   "source": [
    "test_text= test_text.apply(stem)\n",
    "test_text.head()"
   ]
  },
  {
   "cell_type": "code",
   "execution_count": null,
   "id": "bd8a7426",
   "metadata": {},
   "outputs": [],
   "source": [
    "test_text=test_text.tolist()\n",
    "\n",
    "test_matrix_tfidf=tf.transform(test_text)"
   ]
  },
  {
   "cell_type": "code",
   "execution_count": null,
   "id": "070f8018",
   "metadata": {},
   "outputs": [],
   "source": [
    "predictions=mnb.predict(test_matrix_tfidf)"
   ]
  },
  {
   "cell_type": "code",
   "execution_count": null,
   "id": "40b44471",
   "metadata": {},
   "outputs": [],
   "source": [
    "predictions = pd.Series(predictions)\n",
    "ids = pd.Series(test_id)\n",
    "\n",
    "pred_df = pd.concat([ids, predictions], keys = ['id', 'target'], axis = 1)\n",
    "\n",
    "pred_df.to_csv('submission.csv',index = False)"
   ]
  }
 ],
 "metadata": {},
 "nbformat": 4,
 "nbformat_minor": 5
}
