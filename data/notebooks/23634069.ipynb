{
 "cells": [
  {
   "cell_type": "code",
   "execution_count": null,
   "id": "60702130",
   "metadata": {},
   "outputs": [],
   "source": [
    "import numpy as np \n",
    "import pandas as pd \n",
    "import matplotlib.pyplot as plt\n",
    "from statsmodels.tsa.deterministic import CalendarFourier, DeterministicProcess\n",
    "from sklearn.linear_model import LinearRegression\n",
    "from sklearn.model_selection import train_test_split\n",
    "from xgboost import XGBRegressor\n",
    "import seaborn as sns\n",
    "import os\n",
    "import warnings\n",
    "warnings.filterwarnings(\"ignore\")\n",
    "\n",
    "\n",
    "for dirname, _, filenames in os.walk('/kaggle/input'): # new way of reading comppetition input  \n",
    "    for filename in filenames:                         # csv files\n",
    "        file_name = os.path.join(dirname, filename)    # if you liked, then upvote\n",
    "        print(file_name)\n",
    "        if \"Finland\" in file_name:                   # to make notebook popular among Kagglers\n",
    "            fi_df = pd.read_csv(file_name)                # 'df' represents for train dataset\n",
    "        elif \"Norway\" in file_name:\n",
    "            no_df = pd.read_csv(file_name)              # 'test' represents for test dataset\n",
    "        elif \"Sweden\" in file_name:\n",
    "            se_df = pd.read_csv(file_name)            # 'sample' represents for sample submission dataset\n",
    "        elif \"train.csv\" in file_name:                   # to make notebook popular among Kagglers\n",
    "            df = pd.read_csv(file_name)                # 'df' represents for train dataset\n",
    "        elif \"test.csv\" in file_name:\n",
    "            test = pd.read_csv(file_name)              # 'test' represents for test dataset\n",
    "        elif \"submission.csv\" in file_name:\n",
    "            sample = pd.read_csv(file_name) "
   ]
  },
  {
   "cell_type": "code",
   "execution_count": null,
   "id": "b6ce7224",
   "metadata": {},
   "outputs": [],
   "source": [
    "fi_df.Date = pd.to_datetime(fi_df.Date)\n",
    "se_df.Date = pd.to_datetime(se_df.Date)\n",
    "no_df.Date = pd.to_datetime(no_df.Date)"
   ]
  },
  {
   "cell_type": "code",
   "execution_count": null,
   "id": "dd57031b",
   "metadata": {},
   "outputs": [],
   "source": [
    "fi_df.set_index(\"Date\", inplace=True)\n",
    "se_df.set_index(\"Date\", inplace=True)\n",
    "no_df.set_index(\"Date\", inplace=True)"
   ]
  },
  {
   "cell_type": "code",
   "execution_count": null,
   "id": "466b426a",
   "metadata": {},
   "outputs": [],
   "source": [
    "df['date'] = pd.to_datetime(df['date'])\n",
    "test['date'] = pd.to_datetime(test['date'])\n",
    "def clean_store(item):\n",
    "    return item[6:7] # 'KaggleMart' => 'M'\n",
    "def clean_product(product):\n",
    "    return product[7:8] # 'Kaggle Hat' => 'H'\n",
    "def clean_country(items):\n",
    "    return items[0] # 'Finland' => 'F'\n",
    "df.store = df.store.apply(clean_store)\n",
    "test.store = test.store.apply(clean_store)\n",
    "df['product'] = df['product'].apply(clean_product)\n",
    "test['product'] = test['product'].apply(clean_product)\n",
    "df['country'] = df['country'].apply(clean_country)\n",
    "test['country'] = test['country'].apply(clean_country)\n",
    "df['hybrid'] =  df['country'] + df['store'] +df['product']\n",
    "test['hybrid'] =  test['country'] + test['store'] + test['product']\n",
    "best = df.drop([\"country\", \"store\", \"product\", 'row_id'], axis=1)\n",
    "X_valid = test.drop([\"country\", \"store\", \"product\", 'row_id'], axis=1)\n",
    "best = df.set_index(['date', 'hybrid']).unstack()['num_sold']\n",
    "#X_test= X_test.set_index(['date', 'hybrid']).unstack()['hybrid']\n",
    "\n"
   ]
  },
  {
   "cell_type": "code",
   "execution_count": null,
   "id": "1a40349b",
   "metadata": {},
   "outputs": [],
   "source": [
    "best_df = best\n",
    "best_df['mymean'] = 0\n",
    "for i in best_df.columns:\n",
    "    best_df['mymean']+=best_df[i]\n",
    "best_df['mymean'] = best_df['mymean']/len(best_df.columns)"
   ]
  },
  {
   "cell_type": "code",
   "execution_count": null,
   "id": "a90262e4",
   "metadata": {},
   "outputs": [],
   "source": [
    "inter2 = fi_df.index.union( no_df.index)"
   ]
  },
  {
   "cell_type": "code",
   "execution_count": null,
   "id": "b722c340",
   "metadata": {},
   "outputs": [],
   "source": [
    "inter2 = inter2.union(no_df.index)"
   ]
  },
  {
   "cell_type": "code",
   "execution_count": null,
   "id": "ad6b63e6",
   "metadata": {},
   "outputs": [],
   "source": [
    "holidays = best_df.loc[best_df.index.intersection(inter2)]"
   ]
  },
  {
   "cell_type": "code",
   "execution_count": null,
   "id": "e46243fe",
   "metadata": {},
   "outputs": [],
   "source": [
    "holidays['mymean'] = 0\n",
    "for i in holidays.columns:\n",
    "    holidays['mymean']+=holidays[i]\n",
    "holidays['mymean'] = holidays['mymean']/len(holidays.columns)"
   ]
  },
  {
   "cell_type": "code",
   "execution_count": null,
   "id": "d92d2c0c",
   "metadata": {},
   "outputs": [],
   "source": [
    "best_df.mymean.index"
   ]
  },
  {
   "cell_type": "code",
   "execution_count": null,
   "id": "aff452ab",
   "metadata": {},
   "outputs": [],
   "source": [
    "\n",
    "plt.figure(figsize=(36,12))\n",
    "sns.lineplot(x=best_df.loc[best_df.index.year>2014].mymean.index, \n",
    "                           y=best_df.loc[best_df.index.year>2014].mymean, label=\"sales rate\")\n",
    "plt.scatter(x=best_df.loc[(best_df.index.year>2014) & (best_df.index.day_of_week == 5)].mymean.index, \n",
    "            y=best_df.loc[(best_df.index.year>2014) & (best_df.index.day_of_week == 5)].mymean, c=\"yellow\", label=\"Saturday\")\n",
    "plt.scatter(x=best_df.loc[(best_df.index.year>2014) & (best_df.index.day_of_week == 6)].mymean.index, \n",
    "            y=best_df.loc[(best_df.index.year>2014) & (best_df.index.day_of_week == 6)].mymean, c=\"pink\", label=\"Sunday\")\n",
    "plt.scatter(x=holidays.loc[(holidays.index.year>2014)].index, \n",
    "                            y=holidays.loc[(holidays.index.year>2014)].mymean, c=\"red\", label=\"Holiday\")\n",
    "\n",
    "plt.legend()"
   ]
  },
  {
   "cell_type": "code",
   "execution_count": null,
   "id": "f707940a",
   "metadata": {},
   "outputs": [],
   "source": [
    "nan"
   ]
  }
 ],
 "metadata": {},
 "nbformat": 4,
 "nbformat_minor": 5
}
