{
 "cells": [
  {
   "cell_type": "markdown",
   "id": "a97d861f",
   "metadata": {},
   "source": [
    "# Import Packages"
   ]
  },
  {
   "cell_type": "code",
   "execution_count": null,
   "id": "ef73d231",
   "metadata": {},
   "outputs": [],
   "source": [
    "import numpy as np \n",
    "import pandas as pd \n",
    "\n",
    "from sklearn.linear_model import LogisticRegression"
   ]
  },
  {
   "cell_type": "markdown",
   "id": "d36e2afb",
   "metadata": {},
   "source": [
    "# Import Data"
   ]
  },
  {
   "cell_type": "code",
   "execution_count": null,
   "id": "44576916",
   "metadata": {},
   "outputs": [],
   "source": [
    "train = pd.read_csv('/kaggle/input/ipba14-grade-ml-case-study-classification-17042023/train.csv')\n",
    "test = pd.read_csv('/kaggle/input/ipba14-grade-ml-case-study-classification-17042023/test.csv')\n",
    "submission = pd.read_csv('/kaggle/input/ipba14-grade-ml-case-study-classification-17042023/sample_submission.csv')"
   ]
  },
  {
   "cell_type": "markdown",
   "id": "d7d62848",
   "metadata": {},
   "source": [
    "# Check Data"
   ]
  },
  {
   "cell_type": "code",
   "execution_count": null,
   "id": "4cf08363",
   "metadata": {},
   "outputs": [],
   "source": [
    "train.head()"
   ]
  },
  {
   "cell_type": "code",
   "execution_count": null,
   "id": "9444d930",
   "metadata": {},
   "outputs": [],
   "source": [
    "train.info()"
   ]
  },
  {
   "cell_type": "markdown",
   "id": "6a6b3c30",
   "metadata": {},
   "source": [
    "# Check Target"
   ]
  },
  {
   "cell_type": "code",
   "execution_count": null,
   "id": "829cf409",
   "metadata": {},
   "outputs": [],
   "source": [
    "train['Attrition'].value_counts().plot.bar()"
   ]
  },
  {
   "cell_type": "markdown",
   "id": "ff740778",
   "metadata": {},
   "source": [
    "# Partition Data"
   ]
  },
  {
   "cell_type": "code",
   "execution_count": null,
   "id": "bdb972ba",
   "metadata": {},
   "outputs": [],
   "source": [
    "y = train['Attrition']\n",
    "X = train[['Age', 'DistanceFromHome', 'TotalWorkingYears']]"
   ]
  },
  {
   "cell_type": "markdown",
   "id": "4cd9de4d",
   "metadata": {},
   "source": [
    "# Build Model"
   ]
  },
  {
   "cell_type": "code",
   "execution_count": null,
   "id": "71ad23dc",
   "metadata": {},
   "outputs": [],
   "source": [
    "lr = LogisticRegression(class_weight = 'balanced')\n",
    "\n",
    "lr.fit(X,y)"
   ]
  },
  {
   "cell_type": "markdown",
   "id": "60913f60",
   "metadata": {},
   "source": [
    "# Predictions"
   ]
  },
  {
   "cell_type": "code",
   "execution_count": null,
   "id": "0cc8344c",
   "metadata": {},
   "outputs": [],
   "source": [
    "y_train_predictions = lr.predict(X)"
   ]
  },
  {
   "cell_type": "code",
   "execution_count": null,
   "id": "247f4562",
   "metadata": {},
   "outputs": [],
   "source": [
    "y_train_predictions.sum()"
   ]
  },
  {
   "cell_type": "markdown",
   "id": "5331b81b",
   "metadata": {},
   "source": [
    "# Export Data with Predictions"
   ]
  },
  {
   "cell_type": "code",
   "execution_count": null,
   "id": "d41c8504",
   "metadata": {},
   "outputs": [],
   "source": [
    "train['Attrition_Predictions'] = y_train_predictions"
   ]
  },
  {
   "cell_type": "code",
   "execution_count": null,
   "id": "8c4f1006",
   "metadata": {},
   "outputs": [],
   "source": [
    "train[['id', 'Age', 'DistanceFromHome', 'TotalWorkingYears', 'Attrition', 'Attrition_Predictions']]"
   ]
  },
  {
   "cell_type": "code",
   "execution_count": null,
   "id": "07ae577d",
   "metadata": {},
   "outputs": [],
   "source": [
    "train.to_csv('attrition_data_base_with_predictions.csv')"
   ]
  }
 ],
 "metadata": {},
 "nbformat": 4,
 "nbformat_minor": 5
}
