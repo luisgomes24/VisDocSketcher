{
 "cells": [
  {
   "cell_type": "code",
   "execution_count": null,
   "id": "b770ff81",
   "metadata": {},
   "outputs": [],
   "source": [
    "# Supress unnecessary warnings so that presentation looks clean\n",
    "import warnings\n",
    "warnings.filterwarnings('ignore')\n",
    "\n",
    "# Read raw data from the file\n",
    "\n",
    "import pandas\n",
    "import numpy as np\n",
    "import random\n",
    "import matplotlib.pylab as plt\n",
    "from matplotlib.ticker import MaxNLocator\n",
    "import pylab as p\n",
    "\n",
    "train = pandas.read_csv(\"../input/train.csv\")\n",
    "plt.rcParams['figure.figsize'] = 10, 6 #[6.0, 4.0]"
   ]
  },
  {
   "cell_type": "code",
   "execution_count": null,
   "id": "25e1d422",
   "metadata": {},
   "outputs": [],
   "source": [
    "def plot_feature_loss(input_df,feature_name = 'cont1',num_bins = 50):\n",
    "    train_temp = input_df.copy()\n",
    "    feature_name_binned = feature_name + '_binned'\n",
    "    bins = np.linspace(0,1.0,num_bins)\n",
    "    train_temp[feature_name_binned] = np.digitize(train_temp[feature_name],bins=bins,right=True)\n",
    "    train_temp[feature_name_binned] = train_temp[feature_name_binned] / num_bins\n",
    "    cont_14_dict = train_temp.groupby(feature_name_binned)['loss'].mean().to_dict()\n",
    "    cont_14_err_dict = train_temp.groupby(feature_name_binned)['loss'].sem().to_dict()\n",
    "    lists = sorted(cont_14_dict.items())\n",
    "    x, y = zip(*lists)\n",
    "    lists_err = sorted(cont_14_err_dict.items())\n",
    "    x_err, y_error = zip(*lists_err)\n",
    "\n",
    "    p.figure()\n",
    "    plt.errorbar(x,y,fmt = 'o',yerr = y_error,label = feature_name)\n",
    "    p.xlabel(feature_name,fontsize=20)\n",
    "    p.ylabel('loss (mean)',fontsize=20)\n",
    "    plt.tick_params(axis='both', which='major', labelsize=15)\n",
    "    p.legend(prop={'size':20},numpoints=1,loc=(0.05,0.8))\n",
    "    p.xlim([train_temp[feature_name].min() - 0.02, train_temp[feature_name].max() + 0.02 ])\n",
    "    plt.grid()\n",
    "    ax = plt.gca()\n",
    "\n",
    "    plt.tick_params(axis='both', which='major', labelsize=15)\n",
    "    ax.yaxis.set_major_locator(MaxNLocator(prune='lower'))\n",
    "    ax.xaxis.set_major_locator(MaxNLocator(prune='lower'))\n",
    "    ax.ticklabel_format(axis='y', style='sci', scilimits=(-2,2))\n",
    "    del train_temp\n",
    "\n",
    "for name in train.columns:\n",
    "    if name.startswith('cont'):\n",
    "        plot_feature_loss(train,feature_name = name)"
   ]
  },
  {
   "cell_type": "code",
   "execution_count": null,
   "id": "0f88a2f1",
   "metadata": {},
   "outputs": [],
   "source": [
    "nan"
   ]
  }
 ],
 "metadata": {},
 "nbformat": 4,
 "nbformat_minor": 5
}
