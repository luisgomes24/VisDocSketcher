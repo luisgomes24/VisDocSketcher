{
 "cells": [
  {
   "cell_type": "markdown",
   "id": "ffab479b",
   "metadata": {},
   "source": [
    "Sorry I can't speak and write well.\n",
    "\n",
    "First write in Japanese, then translate into English and append."
   ]
  },
  {
   "cell_type": "code",
   "execution_count": null,
   "id": "7a619d9d",
   "metadata": {},
   "outputs": [],
   "source": [
    "import re\n",
    "import pandas as pd\n",
    "import numpy as np\n",
    "import matplotlib.pyplot as plt\n",
    "import seaborn as sns\n",
    "from pathlib import Path\n",
    "input_path = Path(\"../input\")\n",
    "%matplotlib inline"
   ]
  },
  {
   "cell_type": "markdown",
   "id": "936eb0ca",
   "metadata": {},
   "source": [
    "# Load Data"
   ]
  },
  {
   "cell_type": "code",
   "execution_count": null,
   "id": "2f5f017e",
   "metadata": {},
   "outputs": [],
   "source": [
    "# reference\n",
    "# https://www.kaggle.com/anokas/kuzushiji-visualisation\n",
    "df_train = pd.read_csv( input_path / 'train.csv')\n",
    "unicode_trans = pd.read_csv( input_path / 'unicode_translation.csv')\n",
    "train_image_path = input_path / \"train_images\"\n",
    "test_image_path = input_path / \"test_images\"\n",
    "unicode_map = {codepoint: char for codepoint, char in unicode_trans.values}"
   ]
  },
  {
   "cell_type": "markdown",
   "id": "98dd29ba",
   "metadata": {},
   "source": [
    "# Train.csv include in Nan Labels\n",
    "\n",
    "こちらのdiscussionでも指摘されている通り、**train.csv**にnanデータが含まれている\n",
    "\n",
    "- https://www.kaggle.com/c/kuzushiji-recognition/discussion/100748#latest-580727"
   ]
  },
  {
   "cell_type": "code",
   "execution_count": null,
   "id": "a8757628",
   "metadata": {},
   "outputs": [],
   "source": [
    "# nan count per column\n",
    "df_train.isnull().sum()"
   ]
  },
  {
   "cell_type": "code",
   "execution_count": null,
   "id": "0bf599be",
   "metadata": {},
   "outputs": [],
   "source": [
    "# Show NaN column\n",
    "nan_df = df_train[df_train.isnull()[\"labels\"] == True]\n",
    "nan_df.head()"
   ]
  },
  {
   "cell_type": "markdown",
   "id": "45d7e1aa",
   "metadata": {},
   "source": [
    "# Check Unique Label\n",
    "**train.csv**内のユニークなラベルを取り出します。取り出す際の処理は以下のカーネルを参考にしています。\n",
    "\n",
    "- https://www.kaggle.com/wakamezake/kuzushiji-pytorch-data-preprocessing"
   ]
  },
  {
   "cell_type": "code",
   "execution_count": null,
   "id": "80297270",
   "metadata": {},
   "outputs": [],
   "source": [
    "# get unique labels\n",
    "length = 5\n",
    "labels = []\n",
    "for label in df_train[\"labels\"]:\n",
    "    # skip nan\n",
    "    if type(label) == str:\n",
    "        split_label = label.split()[::length]\n",
    "        labels += split_label"
   ]
  },
  {
   "cell_type": "markdown",
   "id": "5dba23d1",
   "metadata": {},
   "source": [
    "**unicode_translation.csv**には存在するが**train.csv**に存在しないラベルが**569**個ある"
   ]
  },
  {
   "cell_type": "code",
   "execution_count": null,
   "id": "2bac78ab",
   "metadata": {},
   "outputs": [],
   "source": [
    "print(\"Number of unique_label: {}\".format(len(set(labels))))\n",
    "print(\"Number of unique_label(unicode_translation.csv): {}\".format(unicode_trans.shape[0]))\n",
    "print(\"diff: {}\".format(abs(len(set(labels)) - unicode_trans.shape[0])))"
   ]
  },
  {
   "cell_type": "markdown",
   "id": "5c1e40ec",
   "metadata": {},
   "source": [
    "差集合を使って**unicode_translation.csv**にのみ存在するラベルを取り出したが569個と数が合わない？"
   ]
  },
  {
   "cell_type": "code",
   "execution_count": null,
   "id": "5058d3fd",
   "metadata": {},
   "outputs": [],
   "source": [
    "unicode_trans_only_labels = set(unicode_trans[\"Unicode\"]) - set(labels)\n",
    "print(\"Number of unicode_trans_only_label: {}\".format(len(unicode_trans_only_labels)))"
   ]
  },
  {
   "cell_type": "code",
   "execution_count": null,
   "id": "98c7341f",
   "metadata": {},
   "outputs": [],
   "source": [
    "unicode_trans_only_df = pd.DataFrame({\"Unicode\": list(unicode_trans_only_labels)})\n",
    "unicode_trans_only_df[\"string\"] = unicode_trans_only_df[\"Unicode\"].map(unicode_map)\n",
    "unicode_trans_only_df.head()"
   ]
  },
  {
   "cell_type": "markdown",
   "id": "defb3c4d",
   "metadata": {},
   "source": [
    "# Label Apperance Bar Plot\n",
    "ラベルの出現頻度を可視化しました。全てのラベルの出現頻度を描画するととても時間がかかるため、Top10とBottom10のみ表示しています。また図中の表示に日本語の文字表示をすることができなかったため、図の下にUnicodeと文字の対応を載せています。"
   ]
  },
  {
   "cell_type": "code",
   "execution_count": null,
   "id": "c76a5d71",
   "metadata": {},
   "outputs": [],
   "source": [
    "df_labels = pd.DataFrame({\"label\": labels})\n",
    "# df_labels[\"str\"] = df_labels[\"label\"].map(unicode_map)\n",
    "label_count  = df_labels[\"label\"].value_counts()"
   ]
  },
  {
   "cell_type": "code",
   "execution_count": null,
   "id": "ab0fc356",
   "metadata": {},
   "outputs": [],
   "source": [
    "# Reference\n",
    "# https://www.kaggle.com/tejainece/seaborn-barplot-and-pandas-value-counts\n",
    "# label_count  = df_labels[\"label\"].value_counts()\n",
    "# plt.figure(figsize=(16,10))\n",
    "# sns.barplot(label_count.index, label_count.values, alpha=0.8)\n",
    "# plt.title('all unicode counts')\n",
    "# plt.ylabel('Number of count', fontsize=12)\n",
    "# plt.xlabel('unicode', fontsize=12)\n",
    "# plt.show()"
   ]
  },
  {
   "cell_type": "code",
   "execution_count": null,
   "id": "c69773a1",
   "metadata": {},
   "outputs": [],
   "source": [
    "# Reference\n",
    "# https://www.kaggle.com/tejainece/seaborn-barplot-and-pandas-value-counts\n",
    "plt.figure(figsize=(10,5))\n",
    "sns.barplot(label_count[:10,].index, label_count[:10,].values, alpha=0.8)\n",
    "plt.title('top 10 unicode counts')\n",
    "plt.ylabel('Number of count', fontsize=12)\n",
    "plt.xlabel('unicode', fontsize=12)\n",
    "plt.show()"
   ]
  },
  {
   "cell_type": "code",
   "execution_count": null,
   "id": "1e1f2e27",
   "metadata": {},
   "outputs": [],
   "source": [
    "# convert unicode to str\n",
    "d = {\"unicode\": label_count[:10].index.values,\n",
    "     \"str\": [unicode_map[l] for l in label_count[:10].index.values]}\n",
    "pd.DataFrame(d)"
   ]
  },
  {
   "cell_type": "code",
   "execution_count": null,
   "id": "115366ec",
   "metadata": {},
   "outputs": [],
   "source": [
    "plt.figure(figsize=(10,5))\n",
    "sns.barplot(label_count[-11:-1,].index, label_count[-11:-1,].values, alpha=0.8)\n",
    "plt.title('bottom 10 unicode counts')\n",
    "plt.ylabel('Number of count', fontsize=12)\n",
    "plt.xlabel('unicode', fontsize=12)\n",
    "plt.show()"
   ]
  },
  {
   "cell_type": "code",
   "execution_count": null,
   "id": "dfd70e3b",
   "metadata": {},
   "outputs": [],
   "source": [
    "# convert unicode to str\n",
    "d = {\"unicode\": label_count[-11:-1,].index.values,\n",
    "     \"str\": [unicode_map[l] for l in label_count[-11:-1,].index.values]}\n",
    "pd.DataFrame(d)"
   ]
  },
  {
   "cell_type": "markdown",
   "id": "d61a53da",
   "metadata": {},
   "source": [
    "hirakanaの出現頻度が高いことがわかりました、では全体の何割程度がhirakanaなのか調べてみます。"
   ]
  },
  {
   "cell_type": "code",
   "execution_count": null,
   "id": "99fea877",
   "metadata": {},
   "outputs": [],
   "source": [
    "# Reference\n",
    "# https://ja.wikipedia.org/wiki/%E5%B9%B3%E4%BB%AE%E5%90%8D_(Unicode%E3%81%AE%E3%83%96%E3%83%AD%E3%83%83%E3%82%AF)\n",
    "# > U+3040..U+309F\n",
    "hirakana = re.compile(r\"U\\+30[4-9][0-9a-fA-F]\")"
   ]
  },
  {
   "cell_type": "code",
   "execution_count": null,
   "id": "4547ca19",
   "metadata": {},
   "outputs": [],
   "source": [
    "sum(label_count)"
   ]
  },
  {
   "cell_type": "code",
   "execution_count": null,
   "id": "c6739894",
   "metadata": {},
   "outputs": [],
   "source": [
    "# The appearance rate of Hirakana accounts for about 60% of the whole.\n",
    "hirakana_counts = df_labels[\"label\"].str.match(hirakana).value_counts()\n",
    "hirakana_counts / sum(hirakana_counts) * 100"
   ]
  },
  {
   "cell_type": "markdown",
   "id": "817ec209",
   "metadata": {},
   "source": [
    "hirakanaの中でもどのhirakanaの出現頻度が高いのか気になります、top10に関してはさきほどと同じ結果になりますので省略します。"
   ]
  },
  {
   "cell_type": "code",
   "execution_count": null,
   "id": "089ecc13",
   "metadata": {},
   "outputs": [],
   "source": [
    "df_labels[\"is_hirakana\"] = df_labels[\"label\"].str.match(hirakana)\n",
    "label_count = df_labels[df_labels[\"is_hirakana\"] == True][\"label\"].value_counts()\n",
    "plt.figure(figsize=(10,5))\n",
    "sns.barplot(label_count[-11:-1,].index, label_count[-11:-1,].values, alpha=0.8)\n",
    "plt.title('hirakana bottom 10 unicode counts')\n",
    "plt.ylabel('Number of count', fontsize=12)\n",
    "plt.xlabel('unicode', fontsize=12)\n",
    "plt.show()"
   ]
  },
  {
   "cell_type": "code",
   "execution_count": null,
   "id": "2a8efe0b",
   "metadata": {},
   "outputs": [],
   "source": [
    "# convert unicode to str\n",
    "d = {\"unicode\": label_count[-11:-1,].index.values,\n",
    "     \"str\": [unicode_map[l] for l in label_count[-11:-1,].index.values]}\n",
    "pd.DataFrame(d)"
   ]
  },
  {
   "cell_type": "markdown",
   "id": "1aeff778",
   "metadata": {},
   "source": [
    "逆にhirakana以外の出現頻度はどうなっているか気になります。"
   ]
  },
  {
   "cell_type": "code",
   "execution_count": null,
   "id": "1412ad22",
   "metadata": {},
   "outputs": [],
   "source": [
    "label_count = df_labels[df_labels[\"is_hirakana\"] == False][\"label\"].value_counts()"
   ]
  },
  {
   "cell_type": "code",
   "execution_count": null,
   "id": "61e9c38e",
   "metadata": {},
   "outputs": [],
   "source": [
    "plt.figure(figsize=(10,5))\n",
    "sns.barplot(label_count[:10,].index, label_count[:10,].values, alpha=0.8)\n",
    "plt.title('top 10 unicode counts')\n",
    "plt.ylabel('Number of count', fontsize=12)\n",
    "plt.xlabel('unicode', fontsize=12)\n",
    "plt.show()"
   ]
  },
  {
   "cell_type": "code",
   "execution_count": null,
   "id": "00ad4d6e",
   "metadata": {},
   "outputs": [],
   "source": [
    "# convert unicode to str\n",
    "d = {\"unicode\": label_count[:10,].index.values,\n",
    "     \"str\": [unicode_map[l] for l in label_count[:10,].index.values]}\n",
    "pd.DataFrame(d)"
   ]
  },
  {
   "cell_type": "code",
   "execution_count": null,
   "id": "2b2d701c",
   "metadata": {},
   "outputs": [],
   "source": [
    "plt.figure(figsize=(10,5))\n",
    "sns.barplot(label_count[-11:-1,].index, label_count[-11:-1,].values, alpha=0.8)\n",
    "plt.title('hirakana bottom 10 unicode counts')\n",
    "plt.ylabel('Number of count', fontsize=12)\n",
    "plt.xlabel('unicode', fontsize=12)\n",
    "plt.show()"
   ]
  },
  {
   "cell_type": "code",
   "execution_count": null,
   "id": "fbe39bd3",
   "metadata": {},
   "outputs": [],
   "source": [
    "# convert unicode to str\n",
    "d = {\"unicode\": label_count[-11:-1,].index.values,\n",
    "     \"str\": [unicode_map[l] for l in label_count[-11:-1,].index.values]}\n",
    "pd.DataFrame(d)"
   ]
  },
  {
   "cell_type": "code",
   "execution_count": null,
   "id": "2f4a6962",
   "metadata": {},
   "outputs": [],
   "source": [
    "nan"
   ]
  }
 ],
 "metadata": {},
 "nbformat": 4,
 "nbformat_minor": 5
}
