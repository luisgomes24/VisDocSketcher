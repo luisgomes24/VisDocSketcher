{
 "cells": [
  {
   "cell_type": "code",
   "execution_count": null,
   "id": "536e30eb",
   "metadata": {},
   "outputs": [],
   "source": [
    "nan"
   ]
  },
  {
   "cell_type": "code",
   "execution_count": null,
   "id": "76b6cd5c",
   "metadata": {},
   "outputs": [],
   "source": [
    "# This Python 3 environment comes with many helpful analytics libraries installed\n",
    "# It is defined by the kaggle/python Docker image: https://github.com/kaggle/docker-python\n",
    "# For example, here's several helpful packages to load\n",
    "\n",
    "import numpy as np # linear algebra\n",
    "import pandas as pd # data processing, CSV file I/O (e.g. pd.read_csv)\n",
    "\n",
    "# Input data files are available in the read-only \"../input/\" directory\n",
    "# For example, running this (by clicking run or pressing Shift+Enter) will list all files under the input directory\n",
    "\n",
    "import os\n",
    "for dirname, _, filenames in os.walk('/kaggle/input'):\n",
    "    for filename in filenames:\n",
    "        print(os.path.join(dirname, filename))\n",
    "\n",
    "# You can write up to 20GB to the current directory (/kaggle/working/) that gets preserved as output when you create a version using \"Save & Run All\" \n",
    "# You can also write temporary files to /kaggle/temp/, but they won't be saved outside of the current session"
   ]
  },
  {
   "cell_type": "code",
   "execution_count": null,
   "id": "456928aa",
   "metadata": {},
   "outputs": [],
   "source": [
    "import numpy as np\n",
    "import seaborn as sns\n",
    "import tensorflow as tf\n",
    "import matplotlib.pyplot as plt\n",
    "import warnings\n",
    "warnings.filterwarnings(\"ignore\")"
   ]
  },
  {
   "cell_type": "code",
   "execution_count": null,
   "id": "f3ae8b2c",
   "metadata": {},
   "outputs": [],
   "source": [
    "dataset = pd.read_csv('/kaggle/input/stroke-prediction-dataset/healthcare-dataset-stroke-data.csv')"
   ]
  },
  {
   "cell_type": "code",
   "execution_count": null,
   "id": "bc6bd77f",
   "metadata": {},
   "outputs": [],
   "source": [
    "dataset"
   ]
  },
  {
   "cell_type": "code",
   "execution_count": null,
   "id": "a55570f9",
   "metadata": {},
   "outputs": [],
   "source": [
    "dataset.info()"
   ]
  },
  {
   "cell_type": "code",
   "execution_count": null,
   "id": "a19aa343",
   "metadata": {},
   "outputs": [],
   "source": [
    "dataset.isnull().sum()"
   ]
  },
  {
   "cell_type": "code",
   "execution_count": null,
   "id": "ffc11826",
   "metadata": {},
   "outputs": [],
   "source": [
    "dataset.bmi.replace(to_replace=np.nan, value=dataset.bmi.mean(), inplace=True)"
   ]
  },
  {
   "cell_type": "code",
   "execution_count": null,
   "id": "0c8a117a",
   "metadata": {},
   "outputs": [],
   "source": [
    "dataset.isnull().sum()"
   ]
  },
  {
   "cell_type": "code",
   "execution_count": null,
   "id": "76e3978d",
   "metadata": {},
   "outputs": [],
   "source": [
    "dataset.describe()"
   ]
  },
  {
   "cell_type": "code",
   "execution_count": null,
   "id": "e0867b0b",
   "metadata": {},
   "outputs": [],
   "source": [
    "dataset.corr()"
   ]
  },
  {
   "cell_type": "code",
   "execution_count": null,
   "id": "9ef5cdcd",
   "metadata": {},
   "outputs": [],
   "source": [
    "# Compute the correlation matrix\n",
    "corr = dataset.corr()\n",
    "\n",
    "# Generate a mask for the upper triangle\n",
    "mask = np.triu(np.ones_like(corr, dtype=bool))\n",
    "\n",
    "# Set up the matplotlib figure\n",
    "f, ax = plt.subplots(figsize=(11, 9))\n",
    "\n",
    "# Generate a custom diverging colormap\n",
    "cmap = sns.diverging_palette(230, 20, as_cmap=True)\n",
    "\n",
    "# Draw the heatmap with the mask and correct aspect ratio\n",
    "sns.heatmap(corr, mask=mask, cmap=cmap, vmax=.3, center=0, square=True, linewidths=.5, cbar_kws={\"shrink\": .5})"
   ]
  },
  {
   "cell_type": "code",
   "execution_count": null,
   "id": "4e23055f",
   "metadata": {},
   "outputs": [],
   "source": [
    "print(dataset.gender.value_counts())\n",
    "sns.set_theme(style=\"darkgrid\")\n",
    "ax = sns.countplot(data=dataset, x=\"gender\")\n",
    "plt.show()"
   ]
  },
  {
   "cell_type": "code",
   "execution_count": null,
   "id": "eade2417",
   "metadata": {},
   "outputs": [],
   "source": [
    "print(dataset.hypertension.value_counts())\n",
    "sns.set_theme(style=\"darkgrid\")\n",
    "ax = sns.countplot(data=dataset, x=\"hypertension\")\n",
    "plt.show()"
   ]
  },
  {
   "cell_type": "code",
   "execution_count": null,
   "id": "040fb5b3",
   "metadata": {},
   "outputs": [],
   "source": [
    "print(dataset.ever_married.value_counts())\n",
    "sns.set_theme(style=\"darkgrid\")\n",
    "ax = sns.countplot(data=dataset, x=\"ever_married\")\n",
    "plt.show()"
   ]
  },
  {
   "cell_type": "code",
   "execution_count": null,
   "id": "7cb34137",
   "metadata": {},
   "outputs": [],
   "source": [
    "print(dataset.work_type.value_counts())\n",
    "sns.set_theme(style=\"darkgrid\")\n",
    "ax = sns.countplot(data=dataset, x=\"work_type\")\n",
    "plt.show()"
   ]
  },
  {
   "cell_type": "code",
   "execution_count": null,
   "id": "0b85c576",
   "metadata": {},
   "outputs": [],
   "source": [
    "print(dataset.Residence_type.value_counts())\n",
    "sns.set_theme(style=\"darkgrid\")\n",
    "ax = sns.countplot(data=dataset, x=\"Residence_type\")\n",
    "plt.show()"
   ]
  },
  {
   "cell_type": "code",
   "execution_count": null,
   "id": "b7e556c9",
   "metadata": {},
   "outputs": [],
   "source": [
    "print(dataset.smoking_status.value_counts())\n",
    "sns.set_theme(style=\"darkgrid\")\n",
    "ax = sns.countplot(data=dataset, x=\"smoking_status\")\n",
    "ax.set_xticklabels(ax.get_xticklabels(), fontsize=10)\n",
    "plt.tight_layout()\n",
    "plt.show()"
   ]
  },
  {
   "cell_type": "code",
   "execution_count": null,
   "id": "e0f6f005",
   "metadata": {},
   "outputs": [],
   "source": [
    "print(dataset.stroke.value_counts())\n",
    "sns.set_theme(style=\"darkgrid\")\n",
    "ax = sns.countplot(data=dataset, x=\"stroke\")\n",
    "plt.show()"
   ]
  },
  {
   "cell_type": "code",
   "execution_count": null,
   "id": "43037528",
   "metadata": {},
   "outputs": [],
   "source": [
    "fig = plt.figure(figsize=(7,7))\n",
    "sns.distplot(dataset.avg_glucose_level, color=\"green\", label=\"avg_glucose_level\", kde= True)\n",
    "plt.legend()"
   ]
  },
  {
   "cell_type": "code",
   "execution_count": null,
   "id": "3dd50b1d",
   "metadata": {},
   "outputs": [],
   "source": [
    "fig = plt.figure(figsize=(7,7))\n",
    "sns.distplot(dataset.bmi, color=\"orange\", label=\"bmi\", kde= True)\n",
    "plt.legend()"
   ]
  },
  {
   "cell_type": "code",
   "execution_count": null,
   "id": "cda88902",
   "metadata": {},
   "outputs": [],
   "source": [
    "plt.figure(figsize=(12,10))\n",
    "\n",
    "sns.distplot(dataset[dataset['stroke'] == 0][\"bmi\"], color='green') # No Stroke - green\n",
    "sns.distplot(dataset[dataset['stroke'] == 1][\"bmi\"], color='red') # Stroke - Red\n",
    "\n",
    "plt.title('No Stroke vs Stroke by BMI', fontsize=15)\n",
    "plt.xlim([10,100])\n",
    "plt.show()"
   ]
  },
  {
   "cell_type": "code",
   "execution_count": null,
   "id": "bf3b4beb",
   "metadata": {},
   "outputs": [],
   "source": [
    "\n",
    "sns.distplot(dataset[dataset['stroke'] == 0][\"avg_glucose_level\"], color='green') # No Stroke - green\n",
    "sns.distplot(dataset[dataset['stroke'] == 1][\"avg_glucose_level\"], color='red') # Stroke - Red\n",
    "\n",
    "plt.title('No Stroke vs Stroke by Avg. Glucose Level', fontsize=15)\n",
    "plt.xlim([30,330])\n",
    "plt.show()"
   ]
  },
  {
   "cell_type": "code",
   "execution_count": null,
   "id": "1ec7cbb7",
   "metadata": {},
   "outputs": [],
   "source": [
    "plt.figure(figsize=(12,10))\n",
    "\n",
    "sns.distplot(dataset[dataset['stroke'] == 0][\"age\"], color='green') # No Stroke - green\n",
    "sns.distplot(dataset[dataset['stroke'] == 1][\"age\"], color='red') # Stroke - Red\n",
    "\n",
    "plt.title('No Stroke vs Stroke by Age', fontsize=15)\n",
    "plt.xlim([18,100])\n",
    "plt.show()\n"
   ]
  },
  {
   "cell_type": "code",
   "execution_count": null,
   "id": "01e774d4",
   "metadata": {},
   "outputs": [],
   "source": [
    "fig = plt.figure(figsize=(7,7))\n",
    "graph = sns.scatterplot(data=dataset, x=\"age\", y=\"bmi\", hue='gender')\n",
    "graph.axhline(y= 25, linewidth=4, color='r', linestyle= '--')\n",
    "plt.show()"
   ]
  },
  {
   "cell_type": "code",
   "execution_count": null,
   "id": "74852723",
   "metadata": {},
   "outputs": [],
   "source": [
    "fig = plt.figure(figsize=(7,7))\n",
    "graph = sns.scatterplot(data=dataset, x=\"age\", y=\"avg_glucose_level\", hue='gender')\n",
    "graph.axhline(y= 150, linewidth=4, color='r', linestyle= '--')\n",
    "plt.show()"
   ]
  }
 ],
 "metadata": {},
 "nbformat": 4,
 "nbformat_minor": 5
}
