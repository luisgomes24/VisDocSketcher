{
 "cells": [
  {
   "cell_type": "code",
   "execution_count": null,
   "id": "a22b2c12",
   "metadata": {},
   "outputs": [],
   "source": [
    "import pandas as pd\n",
    "import numpy as np\n",
    "import matplotlib.pyplot as plt\n",
    "import seaborn as sns\n",
    "%matplotlib inline"
   ]
  },
  {
   "cell_type": "code",
   "execution_count": null,
   "id": "ebb138ae",
   "metadata": {},
   "outputs": [],
   "source": [
    "df = pd.read_csv('../input/cacaos/flavors_of_cacao.csv')\n",
    "df.head()"
   ]
  },
  {
   "cell_type": "code",
   "execution_count": null,
   "id": "fbc37c73",
   "metadata": {},
   "outputs": [],
   "source": [
    "df.info()"
   ]
  },
  {
   "cell_type": "code",
   "execution_count": null,
   "id": "2792ad79",
   "metadata": {},
   "outputs": [],
   "source": [
    "df.describe()"
   ]
  },
  {
   "cell_type": "code",
   "execution_count": null,
   "id": "f08b3d0d",
   "metadata": {},
   "outputs": [],
   "source": [
    "df.isnull().sum()"
   ]
  },
  {
   "cell_type": "code",
   "execution_count": null,
   "id": "dcd41500",
   "metadata": {},
   "outputs": [],
   "source": [
    "df.columns"
   ]
  },
  {
   "cell_type": "code",
   "execution_count": null,
   "id": "d4b84d37",
   "metadata": {},
   "outputs": [],
   "source": [
    "df['Bean\\nType'].value_counts()"
   ]
  },
  {
   "cell_type": "code",
   "execution_count": null,
   "id": "68e08c06",
   "metadata": {},
   "outputs": [],
   "source": [
    "df['Bean\\nType'].nunique()"
   ]
  },
  {
   "cell_type": "code",
   "execution_count": null,
   "id": "7b826bcc",
   "metadata": {},
   "outputs": [],
   "source": [
    "sns.heatmap(df.corr(),annot=True)"
   ]
  },
  {
   "cell_type": "code",
   "execution_count": null,
   "id": "696e3a1f",
   "metadata": {},
   "outputs": [],
   "source": [
    "print('Unique Values:')\n",
    "print('Company (Maker-if known): ',df['Company\\xa0\\n(Maker-if known)'].nunique())\n",
    "print('Specific Bean Origin or Bar Name: ', df['Specific Bean Origin\\nor Bar Name'].nunique())\n",
    "print('Company Location: ',df['Company\\nLocation'].nunique())\n",
    "print('Bean Type: ', df['Bean\\nType'].nunique())\n",
    "print('Broad Bean Origin', df['Broad Bean\\nOrigin'].nunique())\n",
    "print('Review Date: ', df['Review\\nDate'].nunique())\n",
    "print('Cocoa Percent: ', df['Cocoa\\nPercent'].nunique())"
   ]
  },
  {
   "cell_type": "code",
   "execution_count": null,
   "id": "8a8a4cb2",
   "metadata": {},
   "outputs": [],
   "source": [
    "sns.countplot(x = df['Rating'])"
   ]
  },
  {
   "cell_type": "code",
   "execution_count": null,
   "id": "11d9e35f",
   "metadata": {},
   "outputs": [],
   "source": [
    "sns.countplot(x = df['Review\\nDate'])"
   ]
  },
  {
   "cell_type": "code",
   "execution_count": null,
   "id": "5e895f1a",
   "metadata": {},
   "outputs": [],
   "source": [
    "df['Cocoa\\nPercent'] = df['Cocoa\\nPercent'].str.replace('%', '')\n",
    "df['Cocoa\\nPercent'] = df['Cocoa\\nPercent'].str.replace('.', '')\n",
    "df['Cocoa\\nPercent'] = df['Cocoa\\nPercent'].astype(int)"
   ]
  },
  {
   "cell_type": "code",
   "execution_count": null,
   "id": "23273120",
   "metadata": {},
   "outputs": [],
   "source": [
    "plt.figure(figsize=(15,7))\n",
    "sns.countplot(x= 'Cocoa\\nPercent', data = df, color = 'brown')"
   ]
  },
  {
   "cell_type": "code",
   "execution_count": null,
   "id": "3c73f5b2",
   "metadata": {},
   "outputs": [],
   "source": [
    "def normalizeIt(percent):\n",
    "    if percent > 100:\n",
    "        percent = int(str(percent)[:2])\n",
    "    return percent"
   ]
  },
  {
   "cell_type": "code",
   "execution_count": null,
   "id": "7e1c1b5f",
   "metadata": {},
   "outputs": [],
   "source": [
    "df['Cocoa\\nPercent'] = df['Cocoa\\nPercent'].apply(normalizeIt)"
   ]
  },
  {
   "cell_type": "code",
   "execution_count": null,
   "id": "1fcb2c25",
   "metadata": {},
   "outputs": [],
   "source": [
    "plt.figure(figsize=(15,7))\n",
    "sns.countplot(x= 'Cocoa\\nPercent', data = df, color = 'brown')"
   ]
  },
  {
   "cell_type": "code",
   "execution_count": null,
   "id": "e55c1487",
   "metadata": {},
   "outputs": [],
   "source": [
    "df['Rating'] = (df['Rating']* 100).astype(int)\n",
    "df['Rating'].head(5)"
   ]
  },
  {
   "cell_type": "code",
   "execution_count": null,
   "id": "35af6f7e",
   "metadata": {},
   "outputs": [],
   "source": [
    "company = pd.get_dummies(df['Company\\xa0\\n(Maker-if known)'],drop_first=True)\n",
    "sbOrigin = pd.get_dummies(df['Specific Bean Origin\\nor Bar Name'],drop_first=True)\n",
    "companyLocation = pd.get_dummies(df['Company\\nLocation'],drop_first=True)\n",
    "bType = pd.get_dummies(df['Bean\\nType'],drop_first=True)\n",
    "bbOrigin = pd.get_dummies(df['Broad Bean\\nOrigin'],drop_first=True)"
   ]
  },
  {
   "cell_type": "code",
   "execution_count": null,
   "id": "cd90ef11",
   "metadata": {},
   "outputs": [],
   "source": [
    "df = pd.concat([df, company, sbOrigin, companyLocation, bType, bbOrigin], axis = 1)"
   ]
  },
  {
   "cell_type": "code",
   "execution_count": null,
   "id": "1dadfc97",
   "metadata": {},
   "outputs": [],
   "source": [
    "df.drop(['Company\\xa0\\n(Maker-if known)', 'Specific Bean Origin\\nor Bar Name','Company\\nLocation', 'Bean\\nType', \n",
    "         'Broad Bean\\nOrigin'], axis = 1, inplace = True )"
   ]
  },
  {
   "cell_type": "code",
   "execution_count": null,
   "id": "749182f5",
   "metadata": {},
   "outputs": [],
   "source": [
    "#Removing Duplicate Column\n",
    "\n",
    "df = df.loc[:,~df.columns.duplicated()]\n"
   ]
  },
  {
   "cell_type": "code",
   "execution_count": null,
   "id": "d5b3eca1",
   "metadata": {},
   "outputs": [],
   "source": [
    "from sklearn.model_selection import train_test_split"
   ]
  },
  {
   "cell_type": "code",
   "execution_count": null,
   "id": "c74ca103",
   "metadata": {},
   "outputs": [],
   "source": [
    "X = df.drop('Rating', axis = 1) #Features\n",
    "y = df['Rating']   # Target Variables\n",
    "X_train, X_test, y_train, y_test = train_test_split(X, y, test_size=0.30, random_state=7)"
   ]
  },
  {
   "cell_type": "code",
   "execution_count": null,
   "id": "f0770042",
   "metadata": {},
   "outputs": [],
   "source": [
    "from sklearn.ensemble import RandomForestClassifier"
   ]
  },
  {
   "cell_type": "code",
   "execution_count": null,
   "id": "7853a3e6",
   "metadata": {},
   "outputs": [],
   "source": [
    "rfc = RandomForestClassifier(n_estimators=200)\n",
    "rfc.fit(X_train, y_train)"
   ]
  },
  {
   "cell_type": "code",
   "execution_count": null,
   "id": "b55b329a",
   "metadata": {},
   "outputs": [],
   "source": [
    "df['Venezuela'].head(5)"
   ]
  },
  {
   "cell_type": "code",
   "execution_count": null,
   "id": "6091748d",
   "metadata": {},
   "outputs": [],
   "source": [
    "rfc_pred = rfc.predict(X_test)"
   ]
  },
  {
   "cell_type": "code",
   "execution_count": null,
   "id": "8c587528",
   "metadata": {},
   "outputs": [],
   "source": [
    "from sklearn.metrics import classification_report, accuracy_score\n",
    "print(classification_report(y_test,rfc_pred))"
   ]
  },
  {
   "cell_type": "code",
   "execution_count": null,
   "id": "9d6becdf",
   "metadata": {},
   "outputs": [],
   "source": [
    "print(accuracy_score(y_test,rfc_pred)*100)"
   ]
  },
  {
   "cell_type": "code",
   "execution_count": null,
   "id": "38001565",
   "metadata": {},
   "outputs": [],
   "source": [
    "sns.countplot(x = 'Rating', data=df)"
   ]
  },
  {
   "cell_type": "code",
   "execution_count": null,
   "id": "f9b6354e",
   "metadata": {},
   "outputs": [],
   "source": [
    "def rating_to_stars(rating):\n",
    "    \n",
    "    rating = int(rating)\n",
    "    \n",
    "    if (rating == 0.0 ):\n",
    "        return 0.0\n",
    "    elif (rating > 0 ) and (rating <= 199 ):\n",
    "        return 1.0\n",
    "    elif (rating >= 200 ) and (rating <= 299 ):\n",
    "        return 2.0\n",
    "    elif (rating >= 300 ) and (rating <= 399 ):\n",
    "        return 3.0\n",
    "    else:\n",
    "        return 4.0"
   ]
  },
  {
   "cell_type": "code",
   "execution_count": null,
   "id": "e8b794b9",
   "metadata": {},
   "outputs": [],
   "source": [
    "df['Rating'] = df['Rating'].apply(rating_to_stars)"
   ]
  },
  {
   "cell_type": "code",
   "execution_count": null,
   "id": "2d2842c9",
   "metadata": {},
   "outputs": [],
   "source": [
    "sns.countplot(x = 'Rating', data=df)"
   ]
  },
  {
   "cell_type": "code",
   "execution_count": null,
   "id": "9bd4f988",
   "metadata": {},
   "outputs": [],
   "source": [
    "X = df.drop('Rating', axis = 1)\n",
    "y = df['Rating']"
   ]
  },
  {
   "cell_type": "code",
   "execution_count": null,
   "id": "9ea46a0d",
   "metadata": {},
   "outputs": [],
   "source": [
    "X_train, X_test, y_train, y_test = train_test_split(X, y, test_size=0.30, random_state=7)"
   ]
  },
  {
   "cell_type": "code",
   "execution_count": null,
   "id": "aac84441",
   "metadata": {},
   "outputs": [],
   "source": [
    "rfc = RandomForestClassifier(n_estimators=5000, min_weight_fraction_leaf= 0)\n",
    "rfc.fit(X_train, y_train)"
   ]
  },
  {
   "cell_type": "code",
   "execution_count": null,
   "id": "ef953675",
   "metadata": {},
   "outputs": [],
   "source": [
    "rfc_pred = rfc.predict(X_test)\n",
    "print(classification_report(y_test,rfc_pred))"
   ]
  },
  {
   "cell_type": "code",
   "execution_count": null,
   "id": "622a3c3e",
   "metadata": {},
   "outputs": [],
   "source": [
    "print(accuracy_score(y_test,rfc_pred)*100)"
   ]
  }
 ],
 "metadata": {},
 "nbformat": 4,
 "nbformat_minor": 5
}
