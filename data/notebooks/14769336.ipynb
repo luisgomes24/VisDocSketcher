{
 "cells": [
  {
   "cell_type": "markdown",
   "id": "f15c7157",
   "metadata": {},
   "source": [
    "# Introduction\n",
    "<img src = 'https://cdn-images-1.medium.com/max/900/1*TKr1dtcNgJCA8uYY1OhmSg.png'>"
   ]
  },
  {
   "cell_type": "markdown",
   "id": "1d0acf66",
   "metadata": {},
   "source": [
    "Generative Adversarial Networks (GANs) are generative models. They are uses unsupervised technique to generate new things. GAN models learns pattern in input data in such a way that they can generate new sample which resemble with the input data. The main aim of generative adversarial network is to match generated distribution with the original data distribution.\n",
    "\n",
    "GANs are an exciting and rapidly changing field, delivering generative models ability to generate realistic examples across a range of problem domains, most notably in image-to-image translation tasks such as translating photos of summer to winter or day to night,coloring images and in generating fake photos that even human cannot categorized as fake image.\n",
    "This <a href = 'https://thispersondoesnotexist.com/'> site </a> uses GAN to generate fake human faces which are similar to real human"
   ]
  },
  {
   "cell_type": "markdown",
   "id": "c67e17a5",
   "metadata": {},
   "source": [
    "### Components of GANs\n",
    "<b> Generator </b>: Generator are neural network that learns to generate data which resemble with the input distribution. The generator model take fixed dimension random vector from Gaussian distribution as input and generate the sample out of it which resemble with input.\n",
    "\n",
    "<b> Discriminator </b>: Discriminator are simple neural network that distinguish fake and real data.The discriminator model takes an example from the domain as input (real or generated) and predicts a binary class label of real or fake.\n",
    "\n",
    "Generative adversarial networks are based on a game theoretic scenario in which the generator network must compete against an adversary. The generator network directly produces samples. Its adversary, the discriminator network, attempts to distinguish between samples drawn from the training data and samples drawn from the generator."
   ]
  },
  {
   "cell_type": "markdown",
   "id": "8687deb2",
   "metadata": {},
   "source": [
    "# Working of GANs\n",
    "<img src = 'https://cdn.analyticsvidhya.com/wp-content/uploads/2017/06/11000153/g1.jpg'>\n",
    "\n",
    "First of all we take batch of random vector from the Gaussian distribution and generate fake image out of it using generator. Since generator isn't trained so generated image donot resemble with the real input distribution. We take batches of image from the input distribution along with generated fake images and fed it to discriminator so that it learns to distinguish between real and fake images.\n",
    "Now, after training discriminator, we take the batch of images that generator generated and fed them through discriminator again (here we donot fed real images), discriminator will provide an output probabilities, these values are then compared with the probability that the generator should generated (ie 1), error is calculated and backpropagated through the generator and the weight are updated.\n",
    "This above process is repeated until generated images resemble with the input distribution."
   ]
  },
  {
   "cell_type": "markdown",
   "id": "d031de33",
   "metadata": {},
   "source": [
    "## Application of GANs\n",
    "\n",
    "## 1. Generating fake faces\n",
    "<img src = \"https://3qeqpr26caki16dnhd19sv6by6v-wpengine.netdna-ssl.com/wp-content/uploads/2019/06/Examples-of-Photorealistic-GAN-Generated-Faces.png\">\n",
    "\n",
    "## 2. Generate Examples for Image Datasets\n",
    "\n",
    "## 3. Face Aging\n",
    "<img src = 'https://www.baycare.net/media/5076/botox-aging-face-plastic-surgery.jpg' height = '600px' width = '500px'>\n",
    "\n",
    "\n",
    "\n",
    "## 4. Super Resolution\n",
    "<img src = 'https://miro.medium.com/max/700/1*E-JmUwv7zbwjzFm1hJLxPA.png'>\n",
    "\n",
    "\n",
    "## 5. Image-to-Image Translation\n",
    "<img src = 'https://3qeqpr26caki16dnhd19sv6by6v-wpengine.netdna-ssl.com/wp-content/uploads/2019/06/Example-of-Photographs-of-Daytime-Cityscapes-to-Nighttime-with-pix2pix.png'>\n",
    "\n",
    "## 6.  Photos to Emojis\n",
    "<img src = 'https://3qeqpr26caki16dnhd19sv6by6v-wpengine.netdna-ssl.com/wp-content/uploads/2019/06/Example-of-Celebrity-Photographs-and-GAN-Generated-Emojis.png'>\n",
    "\n",
    "\n",
    "\n",
    "\n",
    "## 7.Text to image Translation\n",
    "\n",
    "<img src = 'https://3qeqpr26caki16dnhd19sv6by6v-wpengine.netdna-ssl.com/wp-content/uploads/2019/06/Example-of-Textual-Descriptions-and-GAN-Generated-Photographs-of-Birds.png'>\n",
    "\n",
    "\n",
    "## 8. Generate Cartoon characters\n",
    "<img src = 'https://3qeqpr26caki16dnhd19sv6by6v-wpengine.netdna-ssl.com/wp-content/uploads/2019/06/Example-of-GAN-Generated-Anime-Character-Faces.png'>\n",
    "   \n"
   ]
  },
  {
   "cell_type": "markdown",
   "id": "2b63927f",
   "metadata": {},
   "source": [
    "## Objective: To generate fake faces of human"
   ]
  },
  {
   "cell_type": "markdown",
   "id": "d37fca99",
   "metadata": {},
   "source": [
    "## Import necessary Libraries"
   ]
  },
  {
   "cell_type": "code",
   "execution_count": null,
   "id": "e931ce82",
   "metadata": {},
   "outputs": [],
   "source": [
    "import tensorflow as tf\n",
    "import keras \n",
    "from keras import layers\n",
    "import numpy as np\n",
    "import matplotlib.pyplot as plt\n",
    "import cv2\n",
    "import os\n",
    "from tqdm import tqdm\n",
    "import re\n",
    "from keras.preprocessing.image import img_to_array"
   ]
  },
  {
   "cell_type": "markdown",
   "id": "95612e70",
   "metadata": {},
   "source": [
    "## Load data\n",
    "Here I have used face-mask-lite-dataset, out of available 10000 images i have only use 9090 image. I have read image using opencv since opencv reads image in bgr format i have converted it back to rgb format using cvtColor function. These images are resize into 128 by 128 using resize function and are finally converted to array and are appended in empty array"
   ]
  },
  {
   "cell_type": "code",
   "execution_count": null,
   "id": "6dc1588b",
   "metadata": {},
   "outputs": [],
   "source": [
    "# to get the files in proper order\n",
    "def sorted_alphanumeric(data):  \n",
    "    convert = lambda text: int(text) if text.isdigit() else text.lower()\n",
    "    alphanum_key = lambda key: [convert(c) for c in re.split('([0-9]+)',key)]\n",
    "    return sorted(data,key = alphanum_key)\n",
    "# defining the size of the image\n",
    "SIZE = 128\n",
    "_img = []\n",
    "path = '../input/face-mask-lite-dataset/without_mask'\n",
    "files = os.listdir(path)\n",
    "files = sorted_alphanumeric(files)\n",
    "for i in tqdm(files):    \n",
    "        if i == 'seed9090.png':\n",
    "            break\n",
    "        else:    \n",
    "            img = cv2.imread(path + '/'+i,1)\n",
    "            # open cv reads images in BGR format so we have to convert it to RGB\n",
    "            img = cv2.cvtColor(img, cv2.COLOR_BGR2RGB)\n",
    "            #resizing image\n",
    "            img = cv2.resize(img, (SIZE, SIZE))\n",
    "            img = (img - 127.5) / 127.5\n",
    "            imh = img.astype(float)\n",
    "            _img.append(img_to_array(img))"
   ]
  },
  {
   "cell_type": "markdown",
   "id": "9382a361",
   "metadata": {},
   "source": [
    "## Visailze our images"
   ]
  },
  {
   "cell_type": "code",
   "execution_count": null,
   "id": "f975cda9",
   "metadata": {},
   "outputs": [],
   "source": [
    "def plot_images(sqr = 5):\n",
    "    plt.figure(figsize = (10,10))\n",
    "    plt.title(\"Real Images\",fontsize = 35)\n",
    "    for i in range(sqr * sqr):\n",
    "        plt.subplot(sqr,sqr,i+1)\n",
    "        plt.imshow(_img[i]*0.5 + 0.5 )\n",
    "        plt.xticks([])\n",
    "        plt.yticks([])\n",
    "\n",
    "# to plot images\n",
    "plot_images(6)\n",
    "    "
   ]
  },
  {
   "cell_type": "markdown",
   "id": "2a27983f",
   "metadata": {},
   "source": [
    "Here, i have defined batch size so that these batches of images can be fed directly to the discriminator network"
   ]
  },
  {
   "cell_type": "code",
   "execution_count": null,
   "id": "51b5029b",
   "metadata": {},
   "outputs": [],
   "source": [
    "batch_size = 32\n",
    "dataset=tf.data.Dataset.from_tensor_slices(np.array(_img)).batch(batch_size)"
   ]
  },
  {
   "cell_type": "markdown",
   "id": "138ae549",
   "metadata": {},
   "source": [
    "# Generator \n",
    "Here, I have defined generator network. It take random vector from normal distribution as input. This random vector is passed through dense layer and is reshaped and is finally fed through Convolution layers. Here, convolution layers does downsampling of our latent vector, after series of convolution batch normalization and leakyrelu layer our downsampled latent vector is upsampled using Conv2DTranspose.\n",
    "\n",
    "The final output layer of Generator generate 128 by 128 by 3 image. The final layer of generator uses hyperbolic tangent as activation to squash the value in between -1 and 1. Generator model looks like simple autoencoder model, where input data is downsampled first and is finally upsampled ."
   ]
  },
  {
   "cell_type": "code",
   "execution_count": null,
   "id": "64e8c37f",
   "metadata": {},
   "outputs": [],
   "source": [
    "latent_dim = 100\n",
    "def Generator():\n",
    "    model = tf.keras.Sequential()\n",
    "    model.add(layers.Dense(128*128*3, use_bias=False, input_shape=(latent_dim,)))\n",
    "    model.add(layers.Reshape((128,128,3)))\n",
    "    # downsampling\n",
    "    model.add(tf.keras.layers.Conv2D(128,4, strides=1, padding='same',kernel_initializer='he_normal', use_bias=False))\n",
    "    model.add(tf.keras.layers.Conv2D(128,4, strides=2, padding='same',kernel_initializer='he_normal', use_bias=False))\n",
    "    model.add(tf.keras.layers.BatchNormalization())\n",
    "    model.add(tf.keras.layers.LeakyReLU())\n",
    "    model.add(tf.keras.layers.Conv2D(256,4, strides=1, padding='same',kernel_initializer='he_normal', use_bias=False))\n",
    "    model.add(tf.keras.layers.Conv2D(256,4, strides=2, padding='same',kernel_initializer='he_normal', use_bias=False))\n",
    "    model.add(tf.keras.layers.BatchNormalization())\n",
    "    model.add(tf.keras.layers.LeakyReLU())\n",
    "    model.add(tf.keras.layers.Conv2DTranspose(512, 4, strides=1,padding='same',kernel_initializer='he_normal',use_bias=False))\n",
    "    model.add(tf.keras.layers.Conv2D(512,4, strides=2, padding='same',kernel_initializer='he_normal', use_bias=False))\n",
    "    \n",
    "    model.add(tf.keras.layers.LeakyReLU())\n",
    "    #upsampling\n",
    "    model.add(tf.keras.layers.Conv2DTranspose(512, 4, strides=1,padding='same',kernel_initializer='he_normal',use_bias=False))\n",
    "    model.add(tf.keras.layers.Conv2DTranspose(512, 4, strides=2,padding='same',kernel_initializer='he_normal',use_bias=False))\n",
    "    model.add(tf.keras.layers.BatchNormalization())\n",
    "    model.add(tf.keras.layers.LeakyReLU())\n",
    "    model.add(tf.keras.layers.Conv2DTranspose(256, 4, strides=1,padding='same',kernel_initializer='he_normal',use_bias=False))\n",
    "    model.add(tf.keras.layers.Conv2DTranspose(256, 4, strides=2,padding='same',kernel_initializer='he_normal',use_bias=False))\n",
    "    model.add(tf.keras.layers.BatchNormalization())\n",
    "    \n",
    "    model.add(tf.keras.layers.Conv2DTranspose(128, 4, strides=2,padding='same',kernel_initializer='he_normal',use_bias=False))\n",
    "    model.add(tf.keras.layers.Conv2DTranspose(128, 4, strides=1,padding='same',kernel_initializer='he_normal',use_bias=False))\n",
    "    model.add(tf.keras.layers.BatchNormalization())\n",
    "    model.add(tf.keras.layers.Conv2DTranspose(3,4,strides = 1, padding = 'same',activation = 'tanh'))\n",
    "    \n",
    "    \n",
    "\n",
    "    return model"
   ]
  },
  {
   "cell_type": "code",
   "execution_count": null,
   "id": "41f9ce8b",
   "metadata": {},
   "outputs": [],
   "source": [
    "generator = Generator()\n",
    "generator.summary()"
   ]
  },
  {
   "cell_type": "markdown",
   "id": "a4e6193d",
   "metadata": {},
   "source": [
    "# Discriminator\n",
    "Here, discriminator model take 128 by 128 by 3 image that can be real or generated. This input image is downsampled using Convolution layer and is finally flattened and is fed to single neuron so that it can distinguish real and fake image. Since, final layer uses sigmoid function as activation, it output value in between 0 and 1. Here value greater than 0.5 refers to real and less than 0.5 refers to fake image. The output of discriminator is used in training of generator."
   ]
  },
  {
   "cell_type": "code",
   "execution_count": null,
   "id": "3d22576c",
   "metadata": {},
   "outputs": [],
   "source": [
    "def Discriminator():\n",
    "    model = tf.keras.models.Sequential()\n",
    "    model.add(tf.keras.layers.Input((SIZE, SIZE, 3)))\n",
    "    model.add(tf.keras.layers.Conv2D(128,4, strides=2, padding='same',kernel_initializer='he_normal', use_bias=False))\n",
    "    model.add(tf.keras.layers.BatchNormalization())\n",
    "    model.add(tf.keras.layers.LeakyReLU())\n",
    "    model.add(tf.keras.layers.Conv2D(128,4, strides=2, padding='same',kernel_initializer='he_normal', use_bias=False))\n",
    "    model.add(tf.keras.layers.BatchNormalization())\n",
    "    model.add(tf.keras.layers.LeakyReLU())\n",
    "    model.add(tf.keras.layers.Conv2D(256,4, strides=2, padding='same',kernel_initializer='he_normal', use_bias=False))\n",
    "    model.add(tf.keras.layers.BatchNormalization())\n",
    "    model.add(tf.keras.layers.LeakyReLU())\n",
    "    model.add(tf.keras.layers.Conv2D(256,4, strides=2, padding='same',kernel_initializer='he_normal', use_bias=False))\n",
    "    model.add(tf.keras.layers.BatchNormalization())\n",
    "    model.add(tf.keras.layers.LeakyReLU())\n",
    "    model.add(tf.keras.layers.Conv2D(512,4, strides=2, padding='same',kernel_initializer='he_normal', use_bias=False))\n",
    "    model.add(tf.keras.layers.LeakyReLU())\n",
    "    model.add(tf.keras.layers.Flatten())\n",
    "    model.add(tf.keras.layers.Dense(1,activation = 'sigmoid'))\n",
    "    return model\n",
    "  \n"
   ]
  },
  {
   "cell_type": "code",
   "execution_count": null,
   "id": "a28583c0",
   "metadata": {},
   "outputs": [],
   "source": [
    "discriminator = Discriminator()\n",
    "discriminator.summary()"
   ]
  },
  {
   "cell_type": "markdown",
   "id": "810750b2",
   "metadata": {},
   "source": [
    "### Let's plot image generated by generator before training"
   ]
  },
  {
   "cell_type": "code",
   "execution_count": null,
   "id": "4361020d",
   "metadata": {},
   "outputs": [],
   "source": [
    "noise = np.random.normal(-1,1,(1,100))\n",
    "img = generator(noise)\n",
    "plt.imshow(img[0,:,:,0])\n",
    "plt.show()"
   ]
  },
  {
   "cell_type": "markdown",
   "id": "4a498f4c",
   "metadata": {},
   "source": [
    "### Defining loss function and optimizer "
   ]
  },
  {
   "cell_type": "code",
   "execution_count": null,
   "id": "d0fd2c8b",
   "metadata": {},
   "outputs": [],
   "source": [
    "optimizer = tf.keras.optimizers.RMSprop(\n",
    "        lr=.0001,\n",
    "        clipvalue=1.0,\n",
    "        decay=1e-8\n",
    "    )\n",
    "cross_entropy = tf.keras.losses.BinaryCrossentropy(from_logits = True)"
   ]
  },
  {
   "cell_type": "code",
   "execution_count": null,
   "id": "959205b5",
   "metadata": {},
   "outputs": [],
   "source": [
    "def generator_loss(fake_output):\n",
    "    return cross_entropy(tf.ones_like(fake_output),fake_output)\n",
    "def discriminator_loss(fake_output, real_output):\n",
    "    fake_loss = cross_entropy(tf.zeros_like(fake_output),fake_output)\n",
    "    real_loss = cross_entropy(tf.ones_like(real_output),real_output)\n",
    "    return fake_loss + real_loss"
   ]
  },
  {
   "cell_type": "markdown",
   "id": "280138e2",
   "metadata": {},
   "source": [
    "### Defining training steps"
   ]
  },
  {
   "cell_type": "code",
   "execution_count": null,
   "id": "eff83712",
   "metadata": {},
   "outputs": [],
   "source": [
    "def train_steps(images):\n",
    "    noise = np.random.normal(0,1,(batch_size,latent_dim))\n",
    "    with tf.GradientTape() as gen_tape , tf.GradientTape() as disc_tape:\n",
    "        generated_images = generator(noise)\n",
    "        fake_output = discriminator(generated_images)\n",
    "        real_output = discriminator(images)\n",
    "        \n",
    "        gen_loss = generator_loss(fake_output)\n",
    "        dis_loss = discriminator_loss(fake_output, real_output)\n",
    "        \n",
    "        \n",
    "    gradient_of_generator = gen_tape.gradient(gen_loss, generator.trainable_variables)    \n",
    "    gradient_of_discriminator = disc_tape.gradient(dis_loss, discriminator.trainable_variables)\n",
    "    \n",
    "    optimizer.apply_gradients(zip(gradient_of_generator,generator.trainable_variables))\n",
    "    optimizer.apply_gradients(zip(gradient_of_discriminator, discriminator.trainable_variables))\n",
    "    \n",
    "    loss = {'gen loss':gen_loss,\n",
    "           'disc loss': dis_loss}\n",
    "    return loss"
   ]
  },
  {
   "cell_type": "markdown",
   "id": "712331d8",
   "metadata": {},
   "source": [
    "## function to plot generated images\n"
   ]
  },
  {
   "cell_type": "code",
   "execution_count": null,
   "id": "04ae68c3",
   "metadata": {},
   "outputs": [],
   "source": [
    "def plot_generated_images(square = 5, epochs = 0):\n",
    "    \n",
    "    \n",
    "  plt.figure(figsize = (10,10))\n",
    "  for i in range(square * square):\n",
    "    if epochs != 0:    \n",
    "        if(i == square //2):\n",
    "            plt.title(\"Generated Image at Epoch:{}\\n\".format(epochs), fontsize = 32, color = 'black')\n",
    "    plt.subplot(square, square, i+1)\n",
    "    noise = np.random.normal(0,1,(1,latent_dim))\n",
    "    img = generator(noise)\n",
    "    plt.imshow(np.clip((img[0,...]+1)/2, 0, 1))\n",
    "    \n",
    "    plt.xticks([])\n",
    "    plt.yticks([])\n",
    "    plt.grid()"
   ]
  },
  {
   "cell_type": "code",
   "execution_count": null,
   "id": "9aa1e755",
   "metadata": {},
   "outputs": [],
   "source": [
    "import time\n",
    "def train(epochs,dataset):\n",
    "    \n",
    "    for epoch in range(epochs):\n",
    "        start = time.time()\n",
    "        print(\"\\nEpoch : {}\".format(epoch + 1))\n",
    "        for images in dataset:\n",
    "            loss = train_steps(images)\n",
    "        print(\" Time:{}\".format(np.round(time.time() - start),2)) \n",
    "        print(\"Generator Loss: {} Discriminator Loss: {}\".format(loss['gen loss'],loss['disc loss']))\n",
    "            \n",
    "        \n",
    "        \n",
    "    "
   ]
  },
  {
   "cell_type": "markdown",
   "id": "a8107ba5",
   "metadata": {},
   "source": [
    "## Training"
   ]
  },
  {
   "cell_type": "code",
   "execution_count": null,
   "id": "0fc26e92",
   "metadata": {},
   "outputs": [],
   "source": [
    "\n",
    "train(5,dataset)\n",
    "# i had train model previously for more than 10 epochs so generated images are quiet good"
   ]
  },
  {
   "cell_type": "markdown",
   "id": "0f8bbed8",
   "metadata": {},
   "source": [
    "# Some Generated Images\n"
   ]
  },
  {
   "cell_type": "code",
   "execution_count": null,
   "id": "d02931ff",
   "metadata": {},
   "outputs": [],
   "source": [
    "plot_generated_images(1)"
   ]
  },
  {
   "cell_type": "code",
   "execution_count": null,
   "id": "9df9264a",
   "metadata": {},
   "outputs": [],
   "source": [
    "plot_generated_images(2)"
   ]
  },
  {
   "cell_type": "code",
   "execution_count": null,
   "id": "732238dd",
   "metadata": {},
   "outputs": [],
   "source": [
    "plot_generated_images(5)"
   ]
  },
  {
   "cell_type": "code",
   "execution_count": null,
   "id": "a5e3ef40",
   "metadata": {},
   "outputs": [],
   "source": [
    "plot_generated_images(7)"
   ]
  },
  {
   "cell_type": "code",
   "execution_count": null,
   "id": "cc092c90",
   "metadata": {},
   "outputs": [],
   "source": [
    "generator.save('generator.h5')\n",
    "discriminator.save(\"discriminator.h5\")"
   ]
  },
  {
   "cell_type": "markdown",
   "id": "0b4b4481",
   "metadata": {},
   "source": [
    "#### ref: <a href = 'https://machinelearningmastery.com/what-are-generative-adversarial-networks-gans/'> machinelearningmastery </a>, <a href = 'https://towardsdatascience.com/generative-adversarial-network-gan-for-dummies-a-step-by-step-tutorial-fdefff170391'> towardsdatascience </a>"
   ]
  },
  {
   "cell_type": "markdown",
   "id": "236104d6",
   "metadata": {},
   "source": [
    "### Thanks for your visit\n",
    "## Any suggestion to improve generated images is really appreciated\n",
    "## Feel free to comment and upvote.....\n",
    "# Thank You"
   ]
  }
 ],
 "metadata": {},
 "nbformat": 4,
 "nbformat_minor": 5
}
