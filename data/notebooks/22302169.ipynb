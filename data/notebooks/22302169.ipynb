{
 "cells": [
  {
   "cell_type": "markdown",
   "id": "e8bc0047",
   "metadata": {},
   "source": [
    "# Estimate LB noise"
   ]
  },
  {
   "cell_type": "code",
   "execution_count": null,
   "id": "3378f774",
   "metadata": {},
   "outputs": [],
   "source": [
    "import numpy as np\n",
    "import pandas as pd\n",
    "import matplotlib.pyplot as plt\n",
    "from sklearn.metrics import mean_squared_error\n",
    "from tqdm.notebook import tqdm"
   ]
  },
  {
   "cell_type": "code",
   "execution_count": null,
   "id": "5f7bfba8",
   "metadata": {},
   "outputs": [],
   "source": [
    "train = pd.read_csv(\"/kaggle/input/petfinder-pawpularity-score/train.csv\")\n",
    "train.head()"
   ]
  },
  {
   "cell_type": "code",
   "execution_count": null,
   "id": "e9178bbe",
   "metadata": {},
   "outputs": [],
   "source": [
    "# All zero RMSE\n",
    "mean_squared_error(np.zeros(len(train)), train[\"Pawpularity\"], squared=False)"
   ]
  },
  {
   "cell_type": "code",
   "execution_count": null,
   "id": "430df8ae",
   "metadata": {},
   "outputs": [],
   "source": [
    "# All mean RMSE\n",
    "mean_target = np.mean(train[\"Pawpularity\"])\n",
    "print(\"Mean target\", mean_target)\n",
    "mean_squared_error([mean_target] * len(train), train[\"Pawpularity\"], squared=False)"
   ]
  },
  {
   "cell_type": "markdown",
   "id": "c44c5881",
   "metadata": {},
   "source": [
    "All zeros sub on public LB is 43.50174.\n",
    "\n",
    "Using only the train mean as a submission on public LB is 20.50574 [notebook](https://www.kaggle.com/kaushal2896/petfinder-my-initial-eda-mean-baseline)\n",
    "\n",
    "# Test dataset\n",
    "* 6800 photos\n",
    "* LB is 25% (1700 photos)\n",
    "\n",
    "Monte Carlo method:\n",
    "* Choose 1700 random photos from train\n",
    "* Calculate RMSE for an all zero/mean prediction\n",
    "* Repeat 10000 times\n",
    "\n",
    "## All zero"
   ]
  },
  {
   "cell_type": "code",
   "execution_count": null,
   "id": "294a515b",
   "metadata": {},
   "outputs": [],
   "source": [
    "N = 1700\n",
    "rmse_values = []\n",
    "\n",
    "for i in tqdm(range(10000)):\n",
    "    sample = train[\"Pawpularity\"].sample(n=N)\n",
    "    rmse_values.append(mean_squared_error(np.zeros(N), sample, squared=False))"
   ]
  },
  {
   "cell_type": "code",
   "execution_count": null,
   "id": "f35f6734",
   "metadata": {},
   "outputs": [],
   "source": [
    "mc_mean = np.mean(rmse_values)\n",
    "mc_std = np.std(rmse_values)\n",
    "mc_mean, mc_std"
   ]
  },
  {
   "cell_type": "code",
   "execution_count": null,
   "id": "e536f948",
   "metadata": {},
   "outputs": [],
   "source": [
    "plt.figure(figsize=(10, 6))\n",
    "plt.hist(rmse_values, bins=100);\n",
    "plt.title(\"RMSE calculated using all zeros\")\n",
    "plt.axvline(43.25455, c=\"k\", label=\"Full train RMSE (43.25455)\");\n",
    "plt.axvline(43.50174, c=\"r\", label=\"Public LB RMSE (43.50174)\");\n",
    "plt.axvline(mc_mean, c=\"g\", label=\"Mean of sampled train RMSE\");\n",
    "plt.axvline(mc_mean - mc_std, c=\"g\", linestyle=\"--\", label=\"-1 std dev\");\n",
    "plt.axvline(mc_mean + mc_std, c=\"g\", linestyle=\"--\", label=\"+1 std dev\");\n",
    "plt.legend(loc=\"upper right\");"
   ]
  },
  {
   "cell_type": "markdown",
   "id": "4263b975",
   "metadata": {},
   "source": [
    "## All mean"
   ]
  },
  {
   "cell_type": "code",
   "execution_count": null,
   "id": "4364baf7",
   "metadata": {},
   "outputs": [],
   "source": [
    "N = 1700\n",
    "rmse_values = []\n",
    "\n",
    "for i in tqdm(range(10000)):\n",
    "    sample = train[\"Pawpularity\"].sample(n=N)\n",
    "    rmse_values.append(mean_squared_error([mean_target] * N, sample, squared=False))"
   ]
  },
  {
   "cell_type": "code",
   "execution_count": null,
   "id": "311056b6",
   "metadata": {},
   "outputs": [],
   "source": [
    "mc_mean = np.mean(rmse_values)\n",
    "mc_std = np.std(rmse_values)\n",
    "mc_mean, mc_std"
   ]
  },
  {
   "cell_type": "code",
   "execution_count": null,
   "id": "0d206818",
   "metadata": {},
   "outputs": [],
   "source": [
    "plt.figure(figsize=(10, 6))\n",
    "plt.hist(rmse_values, bins=100);\n",
    "plt.title(\"RMSE calculated using train mean: 38.03904\")\n",
    "plt.axvline(20.59095, c=\"k\", label=\"Full train RMSE (20.59095)\");\n",
    "plt.axvline(20.50574, c=\"r\", label=\"Public LB RMSE (20.50574)\");\n",
    "plt.axvline(mc_mean, c=\"g\", label=\"Mean of sampled train RMSE\");\n",
    "plt.axvline(mc_mean - mc_std, c=\"g\", linestyle=\"--\", label=\"-1 std dev\");\n",
    "plt.axvline(mc_mean + mc_std, c=\"g\", linestyle=\"--\", label=\"+1 std dev\");\n",
    "plt.legend(loc=\"upper right\");"
   ]
  },
  {
   "cell_type": "code",
   "execution_count": null,
   "id": "c56bdad9",
   "metadata": {},
   "outputs": [],
   "source": [
    "nan"
   ]
  },
  {
   "cell_type": "code",
   "execution_count": null,
   "id": "1b31148a",
   "metadata": {},
   "outputs": [],
   "source": [
    "nan"
   ]
  }
 ],
 "metadata": {},
 "nbformat": 4,
 "nbformat_minor": 5
}
