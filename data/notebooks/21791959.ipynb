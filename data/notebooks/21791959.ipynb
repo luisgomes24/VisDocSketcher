{
 "cells": [
  {
   "cell_type": "code",
   "execution_count": null,
   "id": "4cffba06",
   "metadata": {},
   "outputs": [],
   "source": [
    "import numpy as np \n",
    "import pandas as pd \n",
    "import math as ma\n",
    "import matplotlib.pyplot as plt"
   ]
  },
  {
   "cell_type": "code",
   "execution_count": null,
   "id": "56baaf5e",
   "metadata": {},
   "outputs": [],
   "source": [
    "x = np.linspace(0,1,20)\n",
    "\n",
    "def g(x):\n",
    "    y = ma.sin(2*ma.pi*x) + 0.1*20\n",
    "    return y\n",
    "\n"
   ]
  },
  {
   "cell_type": "code",
   "execution_count": null,
   "id": "3ab5ed77",
   "metadata": {},
   "outputs": [],
   "source": [
    "y_values = []\n",
    "x_values = []\n",
    "\n",
    "for x in x:\n",
    "    y = g(x)\n",
    "    x_values.append(y)\n",
    "    y_values.append(x)"
   ]
  },
  {
   "cell_type": "code",
   "execution_count": null,
   "id": "ae3dc7ec",
   "metadata": {},
   "outputs": [],
   "source": [
    "y_values"
   ]
  },
  {
   "cell_type": "code",
   "execution_count": null,
   "id": "9acf32ab",
   "metadata": {},
   "outputs": [],
   "source": [
    "x_values"
   ]
  },
  {
   "cell_type": "code",
   "execution_count": null,
   "id": "1955b002",
   "metadata": {},
   "outputs": [],
   "source": [
    "data = list(zip(x_values,y_values))\n",
    "data"
   ]
  },
  {
   "cell_type": "code",
   "execution_count": null,
   "id": "57432271",
   "metadata": {},
   "outputs": [],
   "source": [
    "# Load data into pandas DataFrame       \n",
    "\n",
    "df = pd.DataFrame(data=data, columns=['x', 'y'])\n",
    "df"
   ]
  },
  {
   "cell_type": "code",
   "execution_count": null,
   "id": "b6f8c8d5",
   "metadata": {},
   "outputs": [],
   "source": [
    " #Set the figure size in inches\n",
    "plt.figure(figsize=(10,6))\n",
    "\n",
    "plt.scatter(y_values, x_values, label = \"y=sin(2*pi*x) + 0.1*20\" )    \n",
    "\n",
    "# Set x and y axes labels\n",
    "plt.xlabel('X Values')\n",
    "plt.ylabel('Y Values')\n",
    "\n",
    "plt.title('Scatter Title')\n",
    "plt.legend()\n",
    "plt.show()"
   ]
  },
  {
   "cell_type": "code",
   "execution_count": null,
   "id": "60ad68ba",
   "metadata": {},
   "outputs": [],
   "source": [
    "plt.figure(figsize=(10,6))\n",
    "plt.scatter(df.index, df.y, cmap='viridis')\n",
    "plt.show()"
   ]
  },
  {
   "cell_type": "code",
   "execution_count": null,
   "id": "0dcc1079",
   "metadata": {},
   "outputs": [],
   "source": [
    " #Set the figure size in inches\n",
    "plt.figure(figsize=(10,6))\n",
    "plt.plot(df.index, df['x'], marker=\"o\")\n",
    "plt.show()"
   ]
  },
  {
   "cell_type": "code",
   "execution_count": null,
   "id": "d3060c20",
   "metadata": {},
   "outputs": [],
   "source": [
    "nan"
   ]
  },
  {
   "cell_type": "code",
   "execution_count": null,
   "id": "bb054b77",
   "metadata": {},
   "outputs": [],
   "source": [
    "nan"
   ]
  }
 ],
 "metadata": {},
 "nbformat": 4,
 "nbformat_minor": 5
}
