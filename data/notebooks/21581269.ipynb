{
 "cells": [
  {
   "cell_type": "code",
   "execution_count": null,
   "id": "8c16a3b1",
   "metadata": {},
   "outputs": [],
   "source": [
    "!pip install mglearn"
   ]
  },
  {
   "cell_type": "code",
   "execution_count": null,
   "id": "547b16c4",
   "metadata": {},
   "outputs": [],
   "source": [
    "import mglearn\n",
    "import numpy as np\n",
    "import pandas as pd \n",
    "import matplotlib.pyplot as plt\n",
    "import matplotlib as mpl\n",
    "import warnings\n",
    "warnings.filterwarnings('ignore')"
   ]
  },
  {
   "cell_type": "markdown",
   "id": "4cd16ccb",
   "metadata": {},
   "source": [
    "# fetch data"
   ]
  },
  {
   "cell_type": "code",
   "execution_count": null,
   "id": "496c8264",
   "metadata": {},
   "outputs": [],
   "source": [
    "! wget -nc http://ai.stanford.edu/~amaas/data/sentiment/aclImdb_v1.tar.gz -P data\n",
    "! tar xzf data/aclImdb_v1.tar.gz --skip-old-files -C data"
   ]
  },
  {
   "cell_type": "code",
   "execution_count": null,
   "id": "02f92be2",
   "metadata": {},
   "outputs": [],
   "source": [
    "!tree -dL 2 data/aclImdb"
   ]
  },
  {
   "cell_type": "code",
   "execution_count": null,
   "id": "3af1c745",
   "metadata": {},
   "outputs": [],
   "source": [
    "!rm -r data/aclImdb/train/unsup"
   ]
  },
  {
   "cell_type": "markdown",
   "id": "8477f273",
   "metadata": {},
   "source": [
    "# load train data"
   ]
  },
  {
   "cell_type": "code",
   "execution_count": null,
   "id": "89aae472",
   "metadata": {},
   "outputs": [],
   "source": [
    "from sklearn.datasets import load_files\n",
    "\n",
    "reviews_train = load_files(\"data/aclImdb/train/\")\n",
    "# load_files returns a bunch, containing training texts and training labels\n",
    "text_train, y_train = reviews_train.data, reviews_train.target\n",
    "print(\"type of text_train: {}\".format(type(text_train)))\n",
    "print(\"length of text_train: {}\".format(len(text_train)))\n",
    "print(\"text_train[6]:\\n{}\".format(text_train[6]))"
   ]
  },
  {
   "cell_type": "markdown",
   "id": "85a58453",
   "metadata": {},
   "source": [
    "# clean  train data "
   ]
  },
  {
   "cell_type": "code",
   "execution_count": null,
   "id": "eec0123b",
   "metadata": {},
   "outputs": [],
   "source": [
    "text_train = [doc.replace(b\"<br />\", b\" \") for doc in text_train]"
   ]
  },
  {
   "cell_type": "markdown",
   "id": "51387ddd",
   "metadata": {},
   "source": [
    "# check train labels "
   ]
  },
  {
   "cell_type": "code",
   "execution_count": null,
   "id": "a5762730",
   "metadata": {},
   "outputs": [],
   "source": [
    "np.unique(y_train)"
   ]
  },
  {
   "cell_type": "markdown",
   "id": "462a2c9c",
   "metadata": {},
   "source": [
    "# check train label percent"
   ]
  },
  {
   "cell_type": "code",
   "execution_count": null,
   "id": "fb41facc",
   "metadata": {},
   "outputs": [],
   "source": [
    "print(\"Samples per class (training): {}\".format(np.bincount(y_train)))"
   ]
  },
  {
   "cell_type": "markdown",
   "id": "ce9a5b00",
   "metadata": {},
   "source": [
    "# load test data -> split data -> clean data"
   ]
  },
  {
   "cell_type": "code",
   "execution_count": null,
   "id": "624197ba",
   "metadata": {},
   "outputs": [],
   "source": [
    "reviews_test = load_files(\"data/aclImdb/test/\")\n",
    "text_test, y_test = reviews_test.data, reviews_test.target\n",
    "print(\"Number of documents in test data: {}\".format(len(text_test)))\n",
    "print(\"Samples per class (test): {}\".format(np.bincount(y_test)))\n",
    "text_test = [doc.replace(b\"<br />\", b\" \") for doc in text_test]"
   ]
  },
  {
   "cell_type": "markdown",
   "id": "e5e4d890",
   "metadata": {},
   "source": [
    "# Case 1 - if min_df  == no limit "
   ]
  },
  {
   "cell_type": "code",
   "execution_count": null,
   "id": "457d8030",
   "metadata": {},
   "outputs": [],
   "source": [
    "from sklearn.feature_extraction.text import CountVectorizer\n",
    "vect = CountVectorizer().fit(text_train)\n",
    "X_train = vect.transform(text_train)\n",
    "print(\"X_train:\\n{}\".format(repr(X_train)))"
   ]
  },
  {
   "cell_type": "markdown",
   "id": "9ba72883",
   "metadata": {},
   "source": [
    "### get features"
   ]
  },
  {
   "cell_type": "code",
   "execution_count": null,
   "id": "db8aad10",
   "metadata": {},
   "outputs": [],
   "source": [
    "feature_names = vect.get_feature_names()\n",
    "print(\"Number of features: {}\".format(len(feature_names)))\n",
    "print(\"First 20 features:\\n{}\".format(feature_names[:20]))\n",
    "print(\"Features 20010 to 20030:\\n{}\".format(feature_names[20010:20030]))\n",
    "print(\"Every 2000th feature:\\n{}\".format(feature_names[::2000]))"
   ]
  },
  {
   "cell_type": "markdown",
   "id": "11dab256",
   "metadata": {},
   "source": [
    "## cross validation "
   ]
  },
  {
   "cell_type": "markdown",
   "id": "7f839aed",
   "metadata": {},
   "source": [
    "###  accuracy -> nan \n",
    "### this case is bad "
   ]
  },
  {
   "cell_type": "code",
   "execution_count": null,
   "id": "8a5ac9ee",
   "metadata": {},
   "outputs": [],
   "source": [
    "from sklearn.model_selection import cross_val_score\n",
    "from sklearn.linear_model import LogisticRegression\n",
    "scores = cross_val_score(LogisticRegression(), X_train, y_train, cv=5)\n",
    "print(\"Mean cross-validation accuracy: {:.2f}\".format(np.mean(scores)))"
   ]
  },
  {
   "cell_type": "markdown",
   "id": "b25409b0",
   "metadata": {},
   "source": [
    "### get best param and predict train data "
   ]
  },
  {
   "cell_type": "code",
   "execution_count": null,
   "id": "9c39df6d",
   "metadata": {},
   "outputs": [],
   "source": [
    "# C - apply regulation"
   ]
  },
  {
   "cell_type": "code",
   "execution_count": null,
   "id": "09b6dd5a",
   "metadata": {},
   "outputs": [],
   "source": [
    "from sklearn.model_selection import GridSearchCV\n",
    "param_grid = {'C': [0.001, 0.01, 0.1, 1, 10]}\n",
    "grid = GridSearchCV(LogisticRegression(), param_grid, cv=5)\n",
    "grid.fit(X_train, y_train)\n",
    "print(\"Best cross-validation score: {:.2f}\".format(grid.best_score_))\n",
    "print(\"Best parameters: \", grid.best_params_)"
   ]
  },
  {
   "cell_type": "markdown",
   "id": "9b458941",
   "metadata": {},
   "source": [
    "### predict test data and get test score"
   ]
  },
  {
   "cell_type": "code",
   "execution_count": null,
   "id": "52c20b22",
   "metadata": {},
   "outputs": [],
   "source": [
    "X_test = vect.transform(text_test)\n",
    "print(\"Test score: {:.2f}\".format(grid.score(X_test, y_test)))"
   ]
  },
  {
   "cell_type": "markdown",
   "id": "f49fb831",
   "metadata": {},
   "source": [
    "max_dffloat in range [0.0, 1.0] or int, default=1.0\n",
    "When building the vocabulary ignore terms that have a document frequency strictly higher than the given threshold (corpus-specific stop words). If float, the parameter represents a proportion of documents, integer absolute counts. This parameter is ignored if vocabulary is not None.\n",
    "\n",
    "min_dffloat in range [0.0, 1.0] or int, default=1\n",
    "When building the vocabulary ignore terms that have a document frequency strictly lower than the given threshold. This value is also called cut-off in the literature. If float, the parameter represents a proportion of documents, integer absolute counts. This parameter is ignored if vocabulary is not None."
   ]
  },
  {
   "cell_type": "markdown",
   "id": "20845e23",
   "metadata": {},
   "source": [
    "# Case 2 - if min_df == 5 "
   ]
  },
  {
   "cell_type": "code",
   "execution_count": null,
   "id": "7c50e2bf",
   "metadata": {},
   "outputs": [],
   "source": [
    "vect = CountVectorizer(min_df=5).fit(text_train)\n",
    "X_train = vect.transform(text_train)\n",
    "print(\"X_train with min_df: {}\".format(repr(X_train)))"
   ]
  },
  {
   "cell_type": "markdown",
   "id": "cdd7d83d",
   "metadata": {},
   "source": [
    "### get features"
   ]
  },
  {
   "cell_type": "code",
   "execution_count": null,
   "id": "73a74e62",
   "metadata": {},
   "outputs": [],
   "source": [
    "feature_names = vect.get_feature_names()\n",
    "\n",
    "print(\"First 50 features:\\n{}\".format(feature_names[:50]))\n",
    "print(\"Features 20010 to 20030:\\n{}\".format(feature_names[20010:20030]))\n",
    "print(\"Every 700th feature:\\n{}\".format(feature_names[::700]))"
   ]
  },
  {
   "cell_type": "markdown",
   "id": "54ee36bb",
   "metadata": {},
   "source": [
    "### get best params and predict train data"
   ]
  },
  {
   "cell_type": "code",
   "execution_count": null,
   "id": "a95f07d6",
   "metadata": {},
   "outputs": [],
   "source": [
    "grid = GridSearchCV(LogisticRegression(), param_grid, cv=5)\n",
    "grid.fit(X_train, y_train)\n",
    "print(\"Best cross-validation score: {:.2f}\".format(grid.best_score_))"
   ]
  }
 ],
 "metadata": {},
 "nbformat": 4,
 "nbformat_minor": 5
}
