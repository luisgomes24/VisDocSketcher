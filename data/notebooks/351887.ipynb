{
 "cells": [
  {
   "cell_type": "markdown",
   "id": "42ef11ff",
   "metadata": {},
   "source": [
    "# Introduction\n",
    "\n",
    "Thanks to [Peter Giannakopoulos](https://www.kaggle.com/petrosgk) and [Heng CherKeng](https://www.kaggle.com/hengck23) for their starter kits. I collected their data augmentation methods and added a few based on the keras.preprocessing.image.\n",
    "\n",
    "Let me know if they help your learning process."
   ]
  },
  {
   "cell_type": "code",
   "execution_count": null,
   "id": "805aa942",
   "metadata": {},
   "outputs": [],
   "source": [
    "import numpy as np\n",
    "import pandas as pd\n",
    "# import tensorflow as tf\n",
    "from keras.preprocessing import image\n",
    "from os.path import join\n",
    "import matplotlib.pyplot as plt\n",
    "\n",
    "input_size = 512\n",
    "data_dir = '../input'\n",
    "np.random.seed(1987)"
   ]
  },
  {
   "cell_type": "code",
   "execution_count": null,
   "id": "72bf91ee",
   "metadata": {},
   "outputs": [],
   "source": [
    "df_train = pd.read_csv(join(data_dir, 'train_masks.csv'), usecols=['img'])\n",
    "df_train['img_id'] = df_train['img'].map(lambda s: s.split('.')[0])\n",
    "df_train.head(3)"
   ]
  },
  {
   "cell_type": "markdown",
   "id": "138b6f6a",
   "metadata": {},
   "source": [
    "## Read and show images and masks"
   ]
  },
  {
   "cell_type": "code",
   "execution_count": null,
   "id": "e1da6756",
   "metadata": {},
   "outputs": [],
   "source": [
    "def get_image_and_mask(img_id):\n",
    "    img = image.load_img(join(data_dir, 'train', '%s.jpg' % img_id),\n",
    "                         target_size=(input_size, input_size))\n",
    "    img = image.img_to_array(img)\n",
    "    mask = image.load_img(join(data_dir, 'train_masks', '%s_mask.gif' % img_id),\n",
    "                          grayscale=True, target_size=(input_size, input_size))\n",
    "    mask = image.img_to_array(mask)\n",
    "    img, mask = img / 255., mask / 255.\n",
    "    return img, mask\n",
    "\n",
    "def plot_img_and_mask(img, mask):\n",
    "    fig, axs = plt.subplots(ncols=2, figsize=(10, 5), sharex=True, sharey=True)\n",
    "    axs[0].imshow(img)\n",
    "    axs[1].imshow(mask[:, :, 0])\n",
    "    for ax in axs:\n",
    "        ax.set_xlim(0, input_size)\n",
    "        ax.axis('off')\n",
    "    fig.tight_layout()\n",
    "    plt.show()"
   ]
  },
  {
   "cell_type": "code",
   "execution_count": null,
   "id": "339bad93",
   "metadata": {},
   "outputs": [],
   "source": [
    "img_ids = df_train['img_id'].values\n",
    "np.random.shuffle(img_ids)\n",
    "img_id = img_ids[0]\n",
    "img, mask = get_image_and_mask(img_id)\n",
    "print((img.shape, mask.shape))\n",
    "plot_img_and_mask(img, mask)"
   ]
  },
  {
   "cell_type": "markdown",
   "id": "75fa80ab",
   "metadata": {},
   "source": [
    "# Pixel Transformations"
   ]
  },
  {
   "cell_type": "code",
   "execution_count": null,
   "id": "64120b2b",
   "metadata": {},
   "outputs": [],
   "source": [
    "def plot_img_and_mask_transformed(img, mask, img_tr, mask_tr):\n",
    "    fig, axs = plt.subplots(ncols=4, figsize=(16, 4), sharex=True, sharey=True)\n",
    "    axs[0].imshow(img)\n",
    "    axs[1].imshow(mask[:, :, 0])\n",
    "    axs[2].imshow(img_tr)\n",
    "    axs[3].imshow(mask_tr[:, :, 0])\n",
    "    for ax in axs:\n",
    "        ax.set_xlim(0, input_size)\n",
    "        ax.axis('off')\n",
    "    fig.tight_layout()\n",
    "    plt.show()"
   ]
  },
  {
   "cell_type": "markdown",
   "id": "c695ec87",
   "metadata": {},
   "source": [
    "## Flip"
   ]
  },
  {
   "cell_type": "code",
   "execution_count": null,
   "id": "9b9bce0d",
   "metadata": {},
   "outputs": [],
   "source": [
    "def random_flip(img, mask, u=0.5):\n",
    "    if np.random.random() < u:\n",
    "        img = image.flip_axis(img, 1)\n",
    "        mask = image.flip_axis(mask, 1)\n",
    "    return img, mask"
   ]
  },
  {
   "cell_type": "code",
   "execution_count": null,
   "id": "7f1e6e85",
   "metadata": {},
   "outputs": [],
   "source": [
    "img_flip, mask_flip = random_flip(img, mask, u=1)\n",
    "plot_img_and_mask_transformed(img, mask, img_flip, mask_flip)"
   ]
  },
  {
   "cell_type": "markdown",
   "id": "ee3cb56b",
   "metadata": {},
   "source": [
    "## Rotate"
   ]
  },
  {
   "cell_type": "code",
   "execution_count": null,
   "id": "efde4452",
   "metadata": {},
   "outputs": [],
   "source": [
    "def rotate(x, theta, row_axis=0, col_axis=1, channel_axis=2, fill_mode='nearest', cval=0.):\n",
    "    rotation_matrix = np.array([[np.cos(theta), -np.sin(theta), 0],\n",
    "                                [np.sin(theta), np.cos(theta), 0],\n",
    "                                [0, 0, 1]])\n",
    "    h, w = x.shape[row_axis], x.shape[col_axis]\n",
    "    transform_matrix = image.transform_matrix_offset_center(rotation_matrix, h, w)\n",
    "    x = image.apply_transform(x, transform_matrix, channel_axis, fill_mode, cval)\n",
    "    return x\n",
    "\n",
    "def random_rotate(img, mask, rotate_limit=(-20, 20), u=0.5):\n",
    "    if np.random.random() < u:\n",
    "        theta = np.pi / 180 * np.random.uniform(rotate_limit[0], rotate_limit[1])\n",
    "        img = rotate(img, theta)\n",
    "        mask = rotate(mask, theta)\n",
    "    return img, mask"
   ]
  },
  {
   "cell_type": "code",
   "execution_count": null,
   "id": "dbd5c0eb",
   "metadata": {},
   "outputs": [],
   "source": [
    "rotate_limit=(-30, 30)\n",
    "theta = np.pi / 180 * np.random.uniform(rotate_limit[0], rotate_limit[1])\n",
    "print('theta %.2f' % theta)\n",
    "img_rot = rotate(img, theta)\n",
    "mask_rot = rotate(mask, theta)\n",
    "plot_img_and_mask_transformed(img, mask, img_rot, mask_rot)"
   ]
  },
  {
   "cell_type": "markdown",
   "id": "107a7400",
   "metadata": {},
   "source": [
    "## Shift"
   ]
  },
  {
   "cell_type": "code",
   "execution_count": null,
   "id": "84bab896",
   "metadata": {},
   "outputs": [],
   "source": [
    "def shift(x, wshift, hshift, row_axis=0, col_axis=1, channel_axis=2, fill_mode='nearest', cval=0.):\n",
    "    h, w = x.shape[row_axis], x.shape[col_axis]\n",
    "    tx = hshift * h\n",
    "    ty = wshift * w\n",
    "    translation_matrix = np.array([[1, 0, tx],\n",
    "                                   [0, 1, ty],\n",
    "                                   [0, 0, 1]])\n",
    "    transform_matrix = translation_matrix  # no need to do offset\n",
    "    x = image.apply_transform(x, transform_matrix, channel_axis, fill_mode, cval)\n",
    "    return x\n",
    "\n",
    "def random_shift(img, mask, w_limit=(-0.1, 0.1), h_limit=(-0.1, 0.1), u=0.5):\n",
    "    if np.random.random() < u:\n",
    "        wshift = np.random.uniform(w_limit[0], w_limit[1])\n",
    "        hshift = np.random.uniform(h_limit[0], h_limit[1])\n",
    "        img = shift(img, wshift, hshift)\n",
    "        mask = shift(mask, wshift, hshift)\n",
    "    return img, mask"
   ]
  },
  {
   "cell_type": "code",
   "execution_count": null,
   "id": "fa16dc7e",
   "metadata": {},
   "outputs": [],
   "source": [
    "w_limit=(-0.2, 0.2)\n",
    "h_limit=(-0.2, 0.2)\n",
    "wshift = np.random.uniform(w_limit[0], w_limit[1])\n",
    "hshift = np.random.uniform(h_limit[0], h_limit[1])\n",
    "print('wshift: %.2f, hshift: %.2f' % (wshift, hshift))\n",
    "img_shift = shift(img, wshift, hshift)\n",
    "mask_shift = shift(mask, wshift, hshift)\n",
    "plot_img_and_mask_transformed(img, mask, img_shift, mask_shift)"
   ]
  },
  {
   "cell_type": "markdown",
   "id": "0a1d741e",
   "metadata": {},
   "source": [
    "## Zoom"
   ]
  },
  {
   "cell_type": "code",
   "execution_count": null,
   "id": "bccc661c",
   "metadata": {},
   "outputs": [],
   "source": [
    "def zoom(x, zx, zy, row_axis=0, col_axis=1, channel_axis=2, fill_mode='nearest', cval=0.):\n",
    "    zoom_matrix = np.array([[zx, 0, 0],\n",
    "                            [0, zy, 0],\n",
    "                            [0, 0, 1]])\n",
    "    h, w = x.shape[row_axis], x.shape[col_axis]\n",
    "    transform_matrix = image.transform_matrix_offset_center(zoom_matrix, h, w)\n",
    "    x = image.apply_transform(x, transform_matrix, channel_axis, fill_mode, cval)\n",
    "    return x\n",
    "\n",
    "def random_zoom(img, mask, zoom_range=(0.8, 1), u=0.5):\n",
    "    if np.random.random() < u:\n",
    "        zx, zy = np.random.uniform(zoom_range[0], zoom_range[1], 2)\n",
    "        img = zoom(img, zx, zy)\n",
    "        mask = zoom(mask, zx, zy)\n",
    "    return img, mask"
   ]
  },
  {
   "cell_type": "code",
   "execution_count": null,
   "id": "2b6fa5ae",
   "metadata": {},
   "outputs": [],
   "source": [
    "zoom_range=(0.7, 1)\n",
    "zx, zy = np.random.uniform(zoom_range[0], zoom_range[1], 2)\n",
    "print('zx: %.2f, zy: %.2f' % (zx, zy))\n",
    "img_zoom = zoom(img, zx, zy)\n",
    "mask_zoom = zoom(mask, zx, zy)\n",
    "plot_img_and_mask_transformed(img, mask, img_zoom, mask_zoom)"
   ]
  },
  {
   "cell_type": "markdown",
   "id": "d6022eff",
   "metadata": {},
   "source": [
    "## Shear"
   ]
  },
  {
   "cell_type": "code",
   "execution_count": null,
   "id": "4573c512",
   "metadata": {},
   "outputs": [],
   "source": [
    "def shear(x, shear, row_axis=0, col_axis=1, channel_axis=2, fill_mode='nearest', cval=0.):\n",
    "    shear_matrix = np.array([[1, -np.sin(shear), 0],\n",
    "                             [0, np.cos(shear), 0],\n",
    "                             [0, 0, 1]])\n",
    "    h, w = x.shape[row_axis], x.shape[col_axis]\n",
    "    transform_matrix = image.transform_matrix_offset_center(shear_matrix, h, w)\n",
    "    x = image.apply_transform(x, transform_matrix, channel_axis, fill_mode, cval)\n",
    "    return x\n",
    "\n",
    "def random_shear(img, mask, intensity_range=(-0.5, 0.5), u=0.5):\n",
    "    if np.random.random() < u:\n",
    "        sh = np.random.uniform(-intensity_range[0], intensity_range[1])\n",
    "        img = shear(img, sh)\n",
    "        mask = shear(mask, sh)\n",
    "    return img, mask"
   ]
  },
  {
   "cell_type": "code",
   "execution_count": null,
   "id": "c9b09d18",
   "metadata": {},
   "outputs": [],
   "source": [
    "intensity = 0.5\n",
    "sh = np.random.uniform(-intensity, intensity)\n",
    "print('sh: %.2f' % sh)\n",
    "img_shear = shear(img, sh)\n",
    "mask_shear = shear(mask, sh)\n",
    "plot_img_and_mask_transformed(img, mask, img_shear, mask_shear)"
   ]
  },
  {
   "cell_type": "markdown",
   "id": "399da30f",
   "metadata": {},
   "source": [
    "# Color transformations"
   ]
  },
  {
   "cell_type": "code",
   "execution_count": null,
   "id": "64db1c65",
   "metadata": {},
   "outputs": [],
   "source": [
    "def plot_img_transformed(img, img_tr):\n",
    "    fig, axs = plt.subplots(ncols=2, figsize=(10, 5), sharex=True, sharey=True)\n",
    "    axs[0].imshow(img)\n",
    "    axs[1].imshow(img_tr)\n",
    "    for ax in axs:\n",
    "        ax.set_xlim(0, input_size)\n",
    "        ax.axis('off')\n",
    "    fig.tight_layout()\n",
    "    plt.show()"
   ]
  },
  {
   "cell_type": "markdown",
   "id": "5f6ff724",
   "metadata": {},
   "source": [
    "## Random channel shift"
   ]
  },
  {
   "cell_type": "code",
   "execution_count": null,
   "id": "3155beaf",
   "metadata": {},
   "outputs": [],
   "source": [
    "def random_channel_shift(x, limit, channel_axis=2):\n",
    "    x = np.rollaxis(x, channel_axis, 0)\n",
    "    min_x, max_x = np.min(x), np.max(x)\n",
    "    channel_images = [np.clip(x_ch + np.random.uniform(-limit, limit), min_x, max_x) for x_ch in x]\n",
    "    x = np.stack(channel_images, axis=0)\n",
    "    x = np.rollaxis(x, 0, channel_axis + 1)\n",
    "    return x"
   ]
  },
  {
   "cell_type": "code",
   "execution_count": null,
   "id": "22990ea5",
   "metadata": {},
   "outputs": [],
   "source": [
    "img_chsh = random_channel_shift(img, limit=0.05)\n",
    "plot_img_transformed(img, img_chsh)"
   ]
  },
  {
   "cell_type": "markdown",
   "id": "95afe3a6",
   "metadata": {},
   "source": [
    "## Grayscale"
   ]
  },
  {
   "cell_type": "code",
   "execution_count": null,
   "id": "0772c08b",
   "metadata": {},
   "outputs": [],
   "source": [
    "def random_gray(img, u=0.5):\n",
    "    if np.random.random() < u:\n",
    "        coef = np.array([[[0.114, 0.587, 0.299]]])  # rgb to gray (YCbCr)\n",
    "        gray = np.sum(img * coef, axis=2)\n",
    "        img = np.dstack((gray, gray, gray))\n",
    "    return img"
   ]
  },
  {
   "cell_type": "code",
   "execution_count": null,
   "id": "22968b62",
   "metadata": {},
   "outputs": [],
   "source": [
    "img_gray = random_gray(img, u=1)\n",
    "plot_img_transformed(img, img_gray)"
   ]
  },
  {
   "cell_type": "markdown",
   "id": "d6ac7d00",
   "metadata": {},
   "source": [
    "## Contrast"
   ]
  },
  {
   "cell_type": "code",
   "execution_count": null,
   "id": "9a1cd0ed",
   "metadata": {},
   "outputs": [],
   "source": [
    "def random_contrast(img, limit=(-0.3, 0.3), u=0.5):\n",
    "    if np.random.random() < u:\n",
    "        alpha = 1.0 + np.random.uniform(limit[0], limit[1])\n",
    "        coef = np.array([[[0.114, 0.587, 0.299]]])  # rgb to gray (YCbCr)\n",
    "        gray = img * coef\n",
    "        gray = (3.0 * (1.0 - alpha) / gray.size) * np.sum(gray)\n",
    "        img = alpha * img + gray\n",
    "        img = np.clip(img, 0., 1.)\n",
    "    return img"
   ]
  },
  {
   "cell_type": "code",
   "execution_count": null,
   "id": "01f5d672",
   "metadata": {},
   "outputs": [],
   "source": [
    "img_contrast = random_contrast(img, u=1)\n",
    "plot_img_transformed(img, img_contrast)"
   ]
  },
  {
   "cell_type": "markdown",
   "id": "adb898e1",
   "metadata": {},
   "source": [
    "## Brightness"
   ]
  },
  {
   "cell_type": "code",
   "execution_count": null,
   "id": "b9737fb2",
   "metadata": {},
   "outputs": [],
   "source": [
    "def random_brightness(img, limit=(-0.3, 0.3), u=0.5):\n",
    "    if np.random.random() < u:\n",
    "        alpha = 1.0 + np.random.uniform(limit[0], limit[1])\n",
    "        img = alpha * img\n",
    "        img = np.clip(img, 0., 1.)\n",
    "    return img"
   ]
  },
  {
   "cell_type": "code",
   "execution_count": null,
   "id": "8c0dec83",
   "metadata": {},
   "outputs": [],
   "source": [
    "img_brightness = random_brightness(img, u=1)\n",
    "plot_img_transformed(img, img_brightness)"
   ]
  },
  {
   "cell_type": "markdown",
   "id": "255538b5",
   "metadata": {},
   "source": [
    "## Saturation"
   ]
  },
  {
   "cell_type": "code",
   "execution_count": null,
   "id": "5207569b",
   "metadata": {},
   "outputs": [],
   "source": [
    "def random_saturation(img, limit=(-0.3, 0.3), u=0.5):\n",
    "    if np.random.random() < u:\n",
    "        alpha = 1.0 + np.random.uniform(limit[0], limit[1])\n",
    "        coef = np.array([[[0.114, 0.587, 0.299]]])\n",
    "        gray = img * coef\n",
    "        gray = np.sum(gray, axis=2, keepdims=True)\n",
    "        img = alpha * img + (1. - alpha) * gray\n",
    "        img = np.clip(img, 0., 1.)\n",
    "    return img"
   ]
  },
  {
   "cell_type": "code",
   "execution_count": null,
   "id": "981f0b1d",
   "metadata": {},
   "outputs": [],
   "source": [
    "img_sat = random_saturation(img, u=1)\n",
    "plot_img_transformed(img, img_sat)"
   ]
  },
  {
   "cell_type": "markdown",
   "id": "a146ceb8",
   "metadata": {},
   "source": [
    "# All together\n",
    "Not all the transformations help the learning process. The limits here were chosen to have visible effects.\n",
    "\n",
    "I am using less transformations and lower limits in my pipeline."
   ]
  },
  {
   "cell_type": "code",
   "execution_count": null,
   "id": "7477d9ea",
   "metadata": {},
   "outputs": [],
   "source": [
    "def plot_img_and_mask_transformed3(img, mask, img_tr1, mask_tr1, img_tr2, mask_tr2):\n",
    "    fig, axs = plt.subplots(ncols=6, figsize=(30, 5), sharex=True, sharey=True)\n",
    "    axs[0].imshow(img)\n",
    "    axs[1].imshow(mask[:, :, 0])\n",
    "    axs[2].imshow(img_tr1)\n",
    "    axs[3].imshow(mask_tr1[:, :, 0])\n",
    "    axs[4].imshow(img_tr2)\n",
    "    axs[5].imshow(mask_tr2[:, :, 0])\n",
    "    for ax in axs:\n",
    "        ax.set_xlim(0, input_size)\n",
    "        ax.axis('off')\n",
    "    fig.tight_layout()\n",
    "    plt.show()"
   ]
  },
  {
   "cell_type": "code",
   "execution_count": null,
   "id": "e2e1eac0",
   "metadata": {},
   "outputs": [],
   "source": [
    "def random_augmentation(img, mask):\n",
    "    img = random_channel_shift(img, limit=0.05)\n",
    "    img = random_brightness(img, limit=(-0.5, 0.5), u=0.5)\n",
    "    img = random_contrast(img, limit=(-0.5, 0.5), u=0.5)\n",
    "    img = random_saturation(img, limit=(-0.5, 0.5), u=0.5)\n",
    "    img = random_gray(img, u=0.2)\n",
    "    img, mask = random_rotate(img, mask, rotate_limit=(-20, 20), u=0.5)\n",
    "    img, mask = random_shear(img, mask, intensity_range=(-0.3, 0.3), u=0.2)\n",
    "    img, mask = random_flip(img, mask, u=0.3)\n",
    "    img, mask = random_shift(img, mask, w_limit=(-0.1, 0.1), h_limit=(-0.1, 0.1), u=0.3)\n",
    "    img, mask = random_zoom(img, mask, zoom_range=(0.8, 1), u=0.3)\n",
    "    return img, mask"
   ]
  },
  {
   "cell_type": "code",
   "execution_count": null,
   "id": "bddc5dc9",
   "metadata": {},
   "outputs": [],
   "source": [
    "for img_id in img_ids[:16]:\n",
    "    img, mask = get_image_and_mask(img_id)\n",
    "    img_aug1, mask_aug1 = random_augmentation(img, mask)\n",
    "    img_aug2, mask_aug2 = random_augmentation(img, mask)\n",
    "    plot_img_and_mask_transformed3(img, mask, img_aug1, mask_aug1, img_aug2, mask_aug2)"
   ]
  }
 ],
 "metadata": {},
 "nbformat": 4,
 "nbformat_minor": 5
}
