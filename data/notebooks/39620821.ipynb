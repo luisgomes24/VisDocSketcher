{
 "cells": [
  {
   "cell_type": "markdown",
   "id": "9f71c4c0",
   "metadata": {},
   "source": [
    "# Review of the Notebook:\n",
    "\n",
    "Data scientists' pay scales can range substantially. Entry-level professionals with a few years of experience can earn between $60,000  and  $90,000 annually, while mid-level professionals can make between $90,000 and $130,000. Senior data scientists, or those with substantial knowledge and experience, can make between $130,000 and well over $200,000 annually.\n",
    "Location: The salary of data scientists is significantly influenced by the location. Due to the high cost of living and competitiveness, major tech hubs and places with a high need for data scientists, such as San Francisco, New York City, Seattle, and Boston, typically provide higher compensation. In smaller towns or locations where there is less need for data scientists, salaries could be lower. Industry Many different businesses, including technology, banking, healthcare, e-commerce, consulting, and more, employ data scientists. Salary levels might differ by industry. For instance, data scientists in the banking and IT industries frequently earn more money than their counterparts in governmental or non-profit institutions.\n",
    "Skills and Experience: Data scientists who possess specialized knowledge and high-level degrees, such as a Ph.D. in an associated discipline, typically earn greater compensation. Salary levels can also be impacted by expertise in statistical analysis, machine learning, and data visualization as well as programming languages like Python and R. Advantages and Perks Data scientists frequently earn extra compensation on top of their base income, such as health insurance, retirement plans, bonuses, stock options, flexible work schedules, and professional development opportunities. Larger organizations or IT behemoths might provide more comprehensive benefit packages. Supply and the Job Market Due to the growing reliance on data-driven decision-making across industries, data scientists are in great demand. Data scientists have a very competitive job market.\n",
    "\n",
    "It's crucial to remember that the information above is only a broad outline, and that actual pay may differ depending on a person's unique situation and the requirements of each work opportunity. In order to obtain a more precise grasp of data scientist compensation, it is always advisable to investigate the most recent income trends in your particular location and industry."
   ]
  },
  {
   "cell_type": "markdown",
   "id": "06147eff",
   "metadata": {},
   "source": [
    "# Data Dictionary\n",
    "\n",
    "<div style = \"color: Black; display: fill;\n",
    "              border-radius: 5px;\n",
    "              background-color: #F9D371;\n",
    "              font-size: 100%;\n",
    "              font-family: Verdana\">\n",
    "    \n",
    "<p style = \"padding: 7px; color: Black;\">\n",
    "    <ul> 📌 <b>Work_year</b> - The number of years of work experience in the field of data science<br>\n",
    "         📌 <b>Experience_level</b> - The level of experience, such as Junior, Senior, or Lead<br>\n",
    "         📌 <b>Employment_type</b> - The type of employment, such as Full-time or Contract<br>\n",
    "         📌 <b>Job_title</b> - The specific job title or role, such as Data Analyst or Data Scientist<br>\n",
    "         📌 <b>Salary</b> - The salary amount for the given job<br>\n",
    "         📌 <b>Salary_currency</b> - The currency in which the salary is denoted<br>\n",
    "        📌 <b>Salary_in_usd</b> - The equivalent salary amount converted to US dollars (USD) for comparison purposes<br><br>\n",
    "         📌 <b>Employee_residence</b> - The country or region where the employee  resides<br>\n",
    "        📌 <b>Remote_ratio</b> - The percentage of remote work offered in the job<br>\n",
    "        📌 <b>Company_location</b> - The location of the company or organization<br>\n",
    "        📌 <b>Company_location</b> - The location of the company or organization<br>\n",
    "    <p style = \"padding: 3px; color: Black;\">"
   ]
  },
  {
   "cell_type": "markdown",
   "id": "79a98869",
   "metadata": {},
   "source": [
    "# Importing Necessary Libraries"
   ]
  },
  {
   "cell_type": "code",
   "execution_count": null,
   "id": "8e58b4ea",
   "metadata": {},
   "outputs": [],
   "source": [
    "import pandas as pd\n",
    "import numpy as np\n",
    "import matplotlib.pyplot as plt\n",
    "import seaborn as sns\n",
    "from IPython.display import Image\n",
    "import plotly.express as px\n",
    "from IPython.display import Image"
   ]
  },
  {
   "cell_type": "markdown",
   "id": "10f12fb4",
   "metadata": {},
   "source": [
    "# Basic statistics and Data Reading"
   ]
  },
  {
   "cell_type": "code",
   "execution_count": null,
   "id": "0db9be53",
   "metadata": {},
   "outputs": [],
   "source": [
    "DS_file_path = (\"/kaggle/input/data-science-salaries-2023/ds_salaries.csv\")\n",
    "Data_science =  pd.read_csv(DS_file_path)"
   ]
  },
  {
   "cell_type": "code",
   "execution_count": null,
   "id": "205b9d6f",
   "metadata": {},
   "outputs": [],
   "source": [
    "Data_science"
   ]
  },
  {
   "cell_type": "markdown",
   "id": "b6612e8b",
   "metadata": {},
   "source": [
    "# Exploratory Data Analysis (EDA)"
   ]
  },
  {
   "cell_type": "code",
   "execution_count": null,
   "id": "9932b5c0",
   "metadata": {},
   "outputs": [],
   "source": [
    "Data_science.head()"
   ]
  },
  {
   "cell_type": "code",
   "execution_count": null,
   "id": "c5f3bcc4",
   "metadata": {},
   "outputs": [],
   "source": [
    "Data_science.describe()"
   ]
  },
  {
   "cell_type": "code",
   "execution_count": null,
   "id": "cff023f9",
   "metadata": {},
   "outputs": [],
   "source": [
    "Data_science.columns"
   ]
  },
  {
   "cell_type": "code",
   "execution_count": null,
   "id": "781d4420",
   "metadata": {},
   "outputs": [],
   "source": [
    "Data_science.info()"
   ]
  },
  {
   "cell_type": "code",
   "execution_count": null,
   "id": "03fca3db",
   "metadata": {},
   "outputs": [],
   "source": [
    "dtypes = pd.DataFrame(Data_science.dtypes, columns = [\"DataTypes\"])\n",
    "dtypes"
   ]
  },
  {
   "cell_type": "code",
   "execution_count": null,
   "id": "e65d4d40",
   "metadata": {},
   "outputs": [],
   "source": [
    "print(\"Shape of the Dataset is {} Rows and {} Columns.\" .format(len(Data_science), len(Data_science.columns)))\n"
   ]
  },
  {
   "cell_type": "markdown",
   "id": "3a2ac046",
   "metadata": {},
   "source": [
    "# Checking if there is any Duplicate values present in this Dataset"
   ]
  },
  {
   "cell_type": "code",
   "execution_count": null,
   "id": "09ea5360",
   "metadata": {},
   "outputs": [],
   "source": [
    "Data_science.duplicated().sum()"
   ]
  },
  {
   "cell_type": "markdown",
   "id": "ef8c6a66",
   "metadata": {},
   "source": [
    "# Checking the number of unique values of different features"
   ]
  },
  {
   "cell_type": "code",
   "execution_count": null,
   "id": "509b2c0e",
   "metadata": {},
   "outputs": [],
   "source": [
    "Data_science[\"salary\"]. nunique()"
   ]
  },
  {
   "cell_type": "code",
   "execution_count": null,
   "id": "f445e386",
   "metadata": {},
   "outputs": [],
   "source": [
    "Data_science[\"work_year\"]. nunique()"
   ]
  },
  {
   "cell_type": "code",
   "execution_count": null,
   "id": "a0ba7dd3",
   "metadata": {},
   "outputs": [],
   "source": [
    "Data_science[\"salary_in_usd\"]. nunique()"
   ]
  },
  {
   "cell_type": "code",
   "execution_count": null,
   "id": "2a49e9d1",
   "metadata": {},
   "outputs": [],
   "source": [
    "Data_science[\"remote_ratio\"]. nunique()"
   ]
  },
  {
   "cell_type": "markdown",
   "id": "04a63525",
   "metadata": {},
   "source": [
    "# Dataset Check Through Heatmap"
   ]
  },
  {
   "cell_type": "code",
   "execution_count": null,
   "id": "4369de94",
   "metadata": {},
   "outputs": [],
   "source": [
    "plt.figure(figsize = (20, 5))\n",
    "sns.heatmap(Data_science.isnull());"
   ]
  },
  {
   "cell_type": "markdown",
   "id": "f7fa8644",
   "metadata": {},
   "source": [
    "# Checking Mean, Median, Maximum and Minimum salary"
   ]
  },
  {
   "cell_type": "code",
   "execution_count": null,
   "id": "711e8ac6",
   "metadata": {},
   "outputs": [],
   "source": [
    "print(\"Mean salary:\", round(Data_science[\"salary\"].mean()))\n",
    "print(\"Median salary:\", round(Data_science[\"salary\"].median()))\n",
    "print(\"Highest salary:\", round(Data_science[\"salary\"].max()))\n",
    "print(\"Lowest salary:\", round(Data_science[\"salary\"].min()))"
   ]
  },
  {
   "cell_type": "markdown",
   "id": "3fbafbec",
   "metadata": {},
   "source": [
    "# Lowest 10 salaries present in the dataset"
   ]
  },
  {
   "cell_type": "code",
   "execution_count": null,
   "id": "e4b81d77",
   "metadata": {},
   "outputs": [],
   "source": [
    "Data_science[\"salary\"].sort_values()[:10]"
   ]
  },
  {
   "cell_type": "markdown",
   "id": "2b85c2ab",
   "metadata": {},
   "source": [
    "# Higest 10 salaries present in the dataset"
   ]
  },
  {
   "cell_type": "code",
   "execution_count": null,
   "id": "728b4159",
   "metadata": {},
   "outputs": [],
   "source": [
    "Data_science[\"salary\"].sort_values(ascending = False)[:10]"
   ]
  },
  {
   "cell_type": "markdown",
   "id": "1571ebd9",
   "metadata": {},
   "source": [
    "# BARPLOT FOR NUMBER OF DIFFERENT COMPANY salary:"
   ]
  },
  {
   "cell_type": "code",
   "execution_count": null,
   "id": "213b984f",
   "metadata": {},
   "outputs": [],
   "source": [
    "plt.figure(figsize = (20, 5))\n",
    "ax = Data_science[\"salary\"].value_counts()[:25].plot(kind = 'bar',\n",
    "                                              color = \"crimson\")\n",
    "\n",
    "for p in ax.patches:\n",
    "    ax.annotate(int(p.get_height()), (p.get_x() + 0.25, p.get_height() + 1), ha = 'center', va = 'bottom', color = 'black')"
   ]
  },
  {
   "cell_type": "markdown",
   "id": "8da5e4b2",
   "metadata": {},
   "source": [
    "# Show company_size in dataset through displot function (with Kde)"
   ]
  },
  {
   "cell_type": "code",
   "execution_count": null,
   "id": "e5345fe8",
   "metadata": {},
   "outputs": [],
   "source": [
    "sns.displot(Data_science['company_size'],kde=True)\n",
    "plt.show()"
   ]
  },
  {
   "cell_type": "markdown",
   "id": "b0fd0adf",
   "metadata": {},
   "source": [
    "# Show remote_ratio in dataset through displot function (without Kde)"
   ]
  },
  {
   "cell_type": "code",
   "execution_count": null,
   "id": "ed1016a7",
   "metadata": {},
   "outputs": [],
   "source": [
    "sns.displot(Data_science['remote_ratio'],color=\"r\")\n",
    "plt.show()"
   ]
  },
  {
   "cell_type": "markdown",
   "id": "def3908c",
   "metadata": {},
   "source": [
    "# Show remote_ratio in dataset through displot function (with Kde)"
   ]
  },
  {
   "cell_type": "code",
   "execution_count": null,
   "id": "26d7bf0a",
   "metadata": {},
   "outputs": [],
   "source": [
    "sns.displot(Data_science['remote_ratio'],kde=True)\n",
    "plt.show()"
   ]
  },
  {
   "cell_type": "markdown",
   "id": "37b241f7",
   "metadata": {},
   "source": [
    "# Show scatterplot company_experience and size wise"
   ]
  },
  {
   "cell_type": "code",
   "execution_count": null,
   "id": "bf5d2723",
   "metadata": {},
   "outputs": [],
   "source": [
    "sns.scatterplot(x=\"experience_level\",\n",
    "                y=\"remote_ratio\",data=Data_science,hue=\"company_size\",style=\"company_size\",size=\"company_size\",sizes=(60,40))\n",
    "plt.show()"
   ]
  },
  {
   "cell_type": "markdown",
   "id": "b17c2f78",
   "metadata": {},
   "source": [
    "# Show Multiplot (Company size and Experience) with FacetGrid Function"
   ]
  },
  {
   "cell_type": "code",
   "execution_count": null,
   "id": "91c06401",
   "metadata": {},
   "outputs": [],
   "source": [
    "fg = sns.FacetGrid(Data_science,col=\"company_size\")\n",
    "fg.map(plt.scatter,\"company_size\",\"experience_level\").add_legend()\n",
    "plt.show()"
   ]
  }
 ],
 "metadata": {},
 "nbformat": 4,
 "nbformat_minor": 5
}
