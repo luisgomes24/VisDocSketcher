{
 "cells": [
  {
   "cell_type": "markdown",
   "id": "318d94e1",
   "metadata": {},
   "source": [
    "# Before Building Model"
   ]
  },
  {
   "cell_type": "code",
   "execution_count": null,
   "id": "467cc9b5",
   "metadata": {},
   "outputs": [],
   "source": [
    "from IPython.display import clear_output\n",
    "!pip3 install flaml \n",
    "clear_output()\n",
    "\n",
    "import pandas as pd\n",
    "import numpy as np\n",
    "import os\n",
    "import random\n",
    "import warnings\n",
    "warnings.simplefilter('ignore')\n",
    "\n",
    "from flaml import AutoML\n",
    "\n",
    "TRAIN_PATH = \"../input/house-prices-advanced-regression-techniques/train.csv\"\n",
    "TEST_PATH = \"../input/house-prices-advanced-regression-techniques/test.csv\"\n",
    "SAMPLE_SUBMISSION_PATH = \"../input/house-prices-advanced-regression-techniques/sample_submission.csv\"\n",
    "SUBMISSION_PATH = \"submission.csv\"\n",
    "\n",
    "ID = \"Id\"\n",
    "TARGET = \"SalePrice\"\n",
    "\n",
    "SEED = 2022\n",
    "def seed_everything(seed=SEED):\n",
    "    random.seed(seed)\n",
    "    os.environ['PYTHONHASHSEED'] = str(seed)\n",
    "    np.random.seed(seed)\n",
    "\n",
    "seed_everything()\n",
    "\n",
    "MODEL_TIME_BUDGET = 60\n",
    "MODEL_METRIC = 'rmse'\n",
    "MODEL_TASK = \"regression\"\n",
    "MODEL_LIST = ['lgbm', 'catboost', 'xgboost']\n",
    "MODEL_LOG_FILE_PATH = \"flaml_log.log\"\n",
    "\n",
    "CROSS_VAL_CV = 3"
   ]
  },
  {
   "cell_type": "code",
   "execution_count": null,
   "id": "941041a3",
   "metadata": {},
   "outputs": [],
   "source": [
    "from shutil import copyfile\n",
    "copyfile(src = \"../input/auto-label-encoding-util/auto_label_encoding_process.py\", dst = \"../working/auto_label_encoding_process.py\")\n",
    "from auto_label_encoding_process import *\n",
    "\n",
    "train,test = autoLabelEncodingByPath(TRAIN_PATH,TEST_PATH,TARGET)"
   ]
  },
  {
   "cell_type": "markdown",
   "id": "c3fee561",
   "metadata": {},
   "source": [
    "# Build Model"
   ]
  },
  {
   "cell_type": "code",
   "execution_count": null,
   "id": "5c22820d",
   "metadata": {},
   "outputs": [],
   "source": [
    "X = train.drop([ID,TARGET],axis=1)\n",
    "y = train[TARGET]\n",
    "\n",
    "model = AutoML()\n",
    "params = {\n",
    "    \"time_budget\": MODEL_TIME_BUDGET,  \n",
    "    \"metric\": MODEL_METRIC,\n",
    "    \"estimator_list\": MODEL_LIST, \n",
    "    \"task\": MODEL_TASK,\n",
    "    \"seed\":SEED,\n",
    "    \"log_file_name\":MODEL_LOG_FILE_PATH,\n",
    "}\n",
    "model.fit(X, y, **params)"
   ]
  },
  {
   "cell_type": "code",
   "execution_count": null,
   "id": "c869e670",
   "metadata": {},
   "outputs": [],
   "source": [
    "model.model.model"
   ]
  },
  {
   "cell_type": "code",
   "execution_count": null,
   "id": "3d60de51",
   "metadata": {},
   "outputs": [],
   "source": [
    "from sklearn.model_selection import cross_val_score\n",
    "neg_score = cross_val_score(model.model.model, X, y, cv=CROSS_VAL_CV,scoring='neg_mean_squared_error')\n",
    "score = np.sqrt(-neg_score)\n",
    "score"
   ]
  },
  {
   "cell_type": "markdown",
   "id": "baaa413a",
   "metadata": {},
   "source": [
    "# After Building Model"
   ]
  },
  {
   "cell_type": "code",
   "execution_count": null,
   "id": "6b448967",
   "metadata": {},
   "outputs": [],
   "source": [
    "sub = pd.read_csv(SAMPLE_SUBMISSION_PATH)\n",
    "sub[TARGET] = model.predict(test)\n",
    "sub.to_csv(SUBMISSION_PATH,index=False)\n",
    "sub.head()"
   ]
  }
 ],
 "metadata": {},
 "nbformat": 4,
 "nbformat_minor": 5
}
