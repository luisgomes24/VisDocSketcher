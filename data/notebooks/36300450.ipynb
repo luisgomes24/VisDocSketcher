{
 "cells": [
  {
   "cell_type": "markdown",
   "id": "4d315eba",
   "metadata": {},
   "source": [
    "Published on March 21, 2023. By Marília Prata, mpwolke"
   ]
  },
  {
   "cell_type": "code",
   "execution_count": null,
   "id": "d43e753e",
   "metadata": {},
   "outputs": [],
   "source": [
    "# This Python 3 environment comes with many helpful analytics libraries installed\n",
    "# It is defined by the kaggle/python Docker image: https://github.com/kaggle/docker-python\n",
    "# For example, here's several helpful packages to load\n",
    "\n",
    "import numpy as np # linear algebra\n",
    "import pandas as pd # data processing, CSV file I/O (e.g. pd.read_csv)\n",
    "\n",
    "# Input data files are available in the read-only \"../input/\" directory\n",
    "# For example, running this (by clicking run or pressing Shift+Enter) will list all files under the input directory\n",
    "\n",
    "import os\n",
    "for dirname, _, filenames in os.walk('/kaggle/input'):\n",
    "    for filename in filenames:\n",
    "        print(os.path.join(dirname, filename))\n",
    "\n",
    "# You can write up to 20GB to the current directory (/kaggle/working/) that gets preserved as output when you create a version using \"Save & Run All\" \n",
    "# You can also write temporary files to /kaggle/temp/, but they won't be saved outside of the current session"
   ]
  },
  {
   "cell_type": "markdown",
   "id": "dbea60e0",
   "metadata": {},
   "source": [
    "![](https://deepchecks.com/wp-content/uploads/2022/11/deepchecks-social.png)deepchecks.com"
   ]
  },
  {
   "cell_type": "code",
   "execution_count": null,
   "id": "f140baa5",
   "metadata": {},
   "outputs": [],
   "source": [
    "! pip install deepchecks -U --user"
   ]
  },
  {
   "cell_type": "code",
   "execution_count": null,
   "id": "2316ab73",
   "metadata": {},
   "outputs": [],
   "source": [
    "#By Alessandro Togni  https://www.kaggle.com/code/atogni85/pgs03e11-eda-data-drift-discrete-structure/notebook#EDA-and-data-clean\n",
    "\n",
    "import umap\n",
    "\n",
    "# Import necessary libraries\n",
    "import numpy as np\n",
    "import pandas as pd\n",
    "import matplotlib.pyplot as plt\n",
    "import seaborn as sns\n",
    "import random\n",
    "import os\n",
    "import math\n",
    "from copy import deepcopy\n",
    "from functools import partial\n",
    "from itertools import combinations\n",
    "from collections import Counter\n",
    "from scipy.stats import chi2\n",
    "# Import sklearn classes for model selection, cross validation, and performance evaluation\n",
    "from sklearn.base import BaseEstimator, TransformerMixin\n",
    "from sklearn.model_selection import train_test_split\n",
    "from sklearn.model_selection import StratifiedKFold, KFold\n",
    "from sklearn.metrics import roc_auc_score, accuracy_score, mean_squared_error\n",
    "from sklearn.preprocessing import StandardScaler\n",
    "from sklearn import metrics\n",
    "import seaborn as sns\n",
    "from category_encoders import OneHotEncoder, OrdinalEncoder, CountEncoder\n",
    "\n",
    "# Import libraries for Hypertuning\n",
    "import optuna\n",
    "\n",
    "# Import libraries for gradient boosting\n",
    "import xgboost as xgb\n",
    "import lightgbm as lgb\n",
    "from sklearn.ensemble import RandomForestClassifier\n",
    "from catboost import CatBoost, CatBoostRegressor, CatBoostClassifier\n",
    "from catboost import Pool\n",
    "from catboost.utils import get_roc_curve\n",
    "\n",
    "# Suppress warnings\n",
    "import warnings\n",
    "warnings.filterwarnings(\"ignore\", category=UserWarning)"
   ]
  },
  {
   "cell_type": "code",
   "execution_count": null,
   "id": "3b1515e5",
   "metadata": {},
   "outputs": [],
   "source": [
    "#By Alessandro Togni  https://www.kaggle.com/code/atogni85/pgs03e11-eda-data-drift-discrete-structure/notebook#EDA-and-data-clean\n",
    "\n",
    "rc = {\n",
    "    \"axes.facecolor\": \"#FFFEF8\",\n",
    "    \"figure.facecolor\": \"#FFFEF8\",\n",
    "    \"axes.edgecolor\": \"#000000\",\n",
    "    \"grid.color\": \"#EBEBE7\" + \"30\",\n",
    "    \"font.family\": \"serif\",\n",
    "    \"axes.labelcolor\": \"#000000\",\n",
    "    \"xtick.color\": \"#000000\",\n",
    "    \"ytick.color\": \"#000000\",\n",
    "    \"grid.alpha\": 0.4\n",
    "}\n",
    "sns.set(rc=rc)\n",
    "palette = ['#302c36', '#037d97', '#E4591E', '#C09741',\n",
    "           '#EC5B6D', '#90A6B1', '#6ca957', '#D8E3E2']\n",
    "from deepchecks.tabular.checks import FeatureDrift"
   ]
  },
  {
   "cell_type": "code",
   "execution_count": null,
   "id": "7422e389",
   "metadata": {},
   "outputs": [],
   "source": [
    "#By Alessandro Togni  https://www.kaggle.com/code/atogni85/pgs03e11-eda-data-drift-discrete-structure/notebook#EDA-and-data-clean\n",
    "\n",
    "original_df = pd.read_csv('/kaggle/input/predict-concrete-strength/ConcreteStrengthData.csv')\n",
    "train_df = pd.read_csv('/kaggle/input/playground-series-s3e9/train.csv', index_col=[0])\n",
    "test_df = pd.read_csv('/kaggle/input/playground-series-s3e9/test.csv', index_col=[0])\n",
    "sample_sub = pd.read_csv('/kaggle/input/playground-series-s3e9/sample_submission.csv', index_col=[0])"
   ]
  },
  {
   "cell_type": "code",
   "execution_count": null,
   "id": "7650cedf",
   "metadata": {},
   "outputs": [],
   "source": [
    "#By Alessandro Togni  https://www.kaggle.com/code/atogni85/pgs03e11-eda-data-drift-discrete-structure/notebook#EDA-and-data-clean\n",
    "\n",
    "plt.figure(figsize=(12, 10), dpi=80)\n",
    "sns.heatmap(train_df.corr(), cmap=\"YlGnBu\", annot=True)\n",
    "plt.title('Correlation heatmap')\n",
    "plt.show()"
   ]
  },
  {
   "cell_type": "markdown",
   "id": "c1dd6982",
   "metadata": {},
   "source": [
    "#To work with Deepchecks we must have train/test"
   ]
  },
  {
   "cell_type": "code",
   "execution_count": null,
   "id": "7e67021d",
   "metadata": {},
   "outputs": [],
   "source": [
    "FeatureDrift().run(train_df.drop('Strength', axis=1), test_df)"
   ]
  },
  {
   "cell_type": "markdown",
   "id": "8da03d22",
   "metadata": {},
   "source": [
    "#Original Dataset has 9 columns and train_df has 10 columns\n",
    "\n",
    "Error:train and test requires to share the same features columns"
   ]
  },
  {
   "cell_type": "code",
   "execution_count": null,
   "id": "fa411373",
   "metadata": {},
   "outputs": [],
   "source": [
    "FeatureDrift().run(train_df.drop('Strength', axis=1), original_df.drop('Strength', axis=1))"
   ]
  },
  {
   "cell_type": "code",
   "execution_count": null,
   "id": "35710f06",
   "metadata": {},
   "outputs": [],
   "source": [
    "# kudos to @jcaliz for the visualization \n",
    "features = test_df.columns\n",
    "n_bins = 50\n",
    "histplot_hyperparams = {\n",
    "    'kde':True,\n",
    "    'alpha':0.4,\n",
    "    'stat':'percent',\n",
    "    'bins':n_bins\n",
    "}\n",
    "\n",
    "columns = features\n",
    "n_cols = 3\n",
    "n_rows = math.ceil(len(columns)/n_cols)\n",
    "fig, ax = plt.subplots(n_rows, n_cols, figsize=(20, n_rows*4))\n",
    "ax = ax.flatten()\n",
    "\n",
    "for i, column in enumerate(columns):\n",
    "    plot_axes = [ax[i]]\n",
    "    sns.kdeplot(\n",
    "        train_df[column], label='Train',\n",
    "        ax=ax[i], color=palette[0]\n",
    "    )\n",
    "    \n",
    "    sns.kdeplot(\n",
    "        test_df[column], label='Test',\n",
    "        ax=ax[i], color=palette[1]\n",
    "    )\n",
    "    \n",
    "    sns.kdeplot(\n",
    "        original_df[column], label='Original',\n",
    "        ax=ax[i], color=palette[-4]\n",
    "    )\n",
    "    # titles\n",
    "    ax[i].set_title(f'{column} Distribution');\n",
    "    ax[i].set_xlabel(None)\n",
    "    \n",
    "    # remove axes to show only one at the end\n",
    "    plot_axes = [ax[i]]\n",
    "    handles = []\n",
    "    labels = []\n",
    "    for plot_ax in plot_axes:\n",
    "        handles += plot_ax.get_legend_handles_labels()[0]\n",
    "        labels += plot_ax.get_legend_handles_labels()[1]\n",
    "        plot_ax.legend().remove()\n",
    "    \n",
    "for i in range(i+1, len(ax)):\n",
    "    ax[i].axis('off')\n",
    "    \n",
    "fig.suptitle(f'Dataset Feature Distributions\\n\\n\\n', ha='center',  fontweight='bold', fontsize=25)\n",
    "fig.legend(handles, labels, loc='upper center', bbox_to_anchor=(0.5, 0.95), fontsize=18, ncol=3)\n",
    "plt.tight_layout()"
   ]
  },
  {
   "cell_type": "markdown",
   "id": "4ec793c9",
   "metadata": {},
   "source": [
    "#No clue why CementComponent returned an error above."
   ]
  },
  {
   "cell_type": "markdown",
   "id": "86324f63",
   "metadata": {},
   "source": [
    "#Mahalanobis Distance to detect Outliers"
   ]
  },
  {
   "cell_type": "code",
   "execution_count": null,
   "id": "45f90233",
   "metadata": {},
   "outputs": [],
   "source": [
    "#By Alessandro Togni  https://www.kaggle.com/code/atogni85/pgs03e11-eda-data-drift-discrete-structure/notebook#EDA-and-data-clean\n",
    "\n",
    "def MahalanobisDist(data):\n",
    "    covariance_matrix = np.cov(data, rowvar=False)\n",
    "    if is_pos_def(covariance_matrix):\n",
    "        inv_covariance_matrix = np.linalg.inv(covariance_matrix)\n",
    "        if is_pos_def(inv_covariance_matrix):\n",
    "            vars_mean = []\n",
    "            for i in range(data.shape[0]):\n",
    "                vars_mean.append(list(data.mean(axis=0)))\n",
    "            diff = data - vars_mean\n",
    "            md = []\n",
    "            for i in range(len(diff)):\n",
    "                md.append(np.sqrt(diff[i].dot(inv_covariance_matrix).dot(diff[i])))\n",
    "\n",
    "            return md\n",
    "        else:\n",
    "            print(\"Error: Inverse of Covariance Matrix is not positive definite!\")\n",
    "    else:\n",
    "        print(\"Error: Covariance Matrix is not positive definite!\")\n",
    "\n",
    "def is_pos_def(A):\n",
    "    if np.allclose(A, A.T):\n",
    "        try:\n",
    "            np.linalg.cholesky(A)\n",
    "            return True\n",
    "        except np.linalg.LinAlgError:\n",
    "            return False\n",
    "    else:\n",
    "        return False"
   ]
  },
  {
   "cell_type": "markdown",
   "id": "7e5fe24c",
   "metadata": {},
   "source": [
    "#Data manifold representation\n",
    "\n",
    "Legend: -1 correspond to train dataset, 1 to original\n",
    "\n",
    "Since it requires the original dataset you must add concrete strength Prediction by Mayur"
   ]
  },
  {
   "cell_type": "code",
   "execution_count": null,
   "id": "e6315d2d",
   "metadata": {},
   "outputs": [],
   "source": [
    "original_df['dataset_label'] = 'original'\n",
    "train_df['dataset_label'] = 'train'\n",
    "aux_target = 'dataset_label'"
   ]
  },
  {
   "cell_type": "code",
   "execution_count": null,
   "id": "958472ab",
   "metadata": {},
   "outputs": [],
   "source": [
    "import umap.umap_ as umap\n",
    "import umap.plot"
   ]
  },
  {
   "cell_type": "code",
   "execution_count": null,
   "id": "18d3ef3f",
   "metadata": {},
   "outputs": [],
   "source": [
    "aux_cols=['CementComponent','BlastFurnaceSlag','FlyAshComponent', 'WaterComponent',\n",
    "'SuperplasticizerComponent', 'CoarseAggregateComponent', 'FineAggregateComponent', 'AgeInDays']"
   ]
  },
  {
   "cell_type": "markdown",
   "id": "cd0d82d7",
   "metadata": {},
   "source": [
    "#It was suppose to be dataset_label. Since I got an error I changed to CementComponent\n",
    "\n",
    "Just to make the UMAP below. And above I got so many times with CementComponent not in the index."
   ]
  },
  {
   "cell_type": "code",
   "execution_count": null,
   "id": "143a7bb6",
   "metadata": {},
   "outputs": [],
   "source": [
    "#By Alessandro Togni  https://www.kaggle.com/code/atogni85/pgs03e11-eda-data-drift-discrete-structure/notebook#EDA-and-data-clean\n",
    "\n",
    "aux_df=full_df[aux_cols].iloc[::10, :]\n",
    "mapper = umap.UMAP(n_neighbors=5, min_dist=0.3).fit(aux_df.drop('CementComponent', axis=1).values)\n",
    "codes = {'original':1, 'train':-1}"
   ]
  },
  {
   "cell_type": "markdown",
   "id": "7175c565",
   "metadata": {},
   "source": [
    "#UMAP"
   ]
  },
  {
   "cell_type": "code",
   "execution_count": null,
   "id": "0643ab7a",
   "metadata": {},
   "outputs": [],
   "source": [
    "#By Alessandro Togni  https://www.kaggle.com/code/atogni85/pgs03e11-eda-data-drift-discrete-structure/notebook#EDA-and-data-clean\n",
    "\n",
    "umap.plot.points(mapper, aux_df['CementComponent'].map(codes), background='black', theme='fire')\n",
    "plt.show()"
   ]
  },
  {
   "cell_type": "markdown",
   "id": "156a57bb",
   "metadata": {},
   "source": [
    "#Acknowledgements:\n",
    "\n",
    "Alessandro Togni  https://www.kaggle.com/code/atogni85/pgs03e11-eda-data-drift-discrete-structure/notebook#EDA-and-data-clean"
   ]
  }
 ],
 "metadata": {},
 "nbformat": 4,
 "nbformat_minor": 5
}
