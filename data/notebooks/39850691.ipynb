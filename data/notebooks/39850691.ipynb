{
 "cells": [
  {
   "cell_type": "code",
   "execution_count": null,
   "id": "adb5d141",
   "metadata": {},
   "outputs": [],
   "source": [
    "import pandas as pd\n",
    "import seaborn as sns\n",
    "import matplotlib.pyplot as plt"
   ]
  },
  {
   "cell_type": "code",
   "execution_count": null,
   "id": "cd7dc9f7",
   "metadata": {},
   "outputs": [],
   "source": [
    "dados = pd.read_csv('/kaggle/input/adcc-historical-dataset/adcc_historical_data.csv', sep=';')\n",
    "\n",
    "dados.head()"
   ]
  },
  {
   "cell_type": "code",
   "execution_count": null,
   "id": "9f154e6b",
   "metadata": {},
   "outputs": [],
   "source": [
    "counts = dados['submission'].value_counts()\n",
    "counts"
   ]
  },
  {
   "cell_type": "code",
   "execution_count": null,
   "id": "3f3c0a03",
   "metadata": {},
   "outputs": [],
   "source": [
    "counts = counts.reset_index()\n",
    "counts.columns = ['Submission', 'Count']"
   ]
  },
  {
   "cell_type": "code",
   "execution_count": null,
   "id": "368eaef8",
   "metadata": {},
   "outputs": [],
   "source": [
    "plt.figure(figsize=(14, 6))\n",
    "sns.barplot(x='Submission', y='Count', data=counts, palette='Spectral')\n",
    "plt.xticks(rotation=80)\n",
    "plt.xlabel(None)\n",
    "plt.ylabel('Count')\n",
    "plt.title('Submissions')\n",
    "plt.show()\n"
   ]
  },
  {
   "cell_type": "code",
   "execution_count": null,
   "id": "a62ac222",
   "metadata": {},
   "outputs": [],
   "source": [
    "dados.head()"
   ]
  },
  {
   "cell_type": "code",
   "execution_count": null,
   "id": "1d4fbc20",
   "metadata": {},
   "outputs": [],
   "source": [
    "counts = dados['weight_class'].value_counts()\n",
    "counts"
   ]
  },
  {
   "cell_type": "code",
   "execution_count": null,
   "id": "65e45e00",
   "metadata": {},
   "outputs": [],
   "source": [
    "counts = counts.reset_index()\n",
    "counts.columns = ['Weight Class', 'Count']"
   ]
  },
  {
   "cell_type": "code",
   "execution_count": null,
   "id": "f81dcbba",
   "metadata": {},
   "outputs": [],
   "source": [
    "plt.figure(figsize=(10, 6))\n",
    "sns.barplot(x = 'Weight Class', y = 'Count', data=counts, palette='viridis')\n",
    "plt.xticks(rotation=80)\n",
    "plt.xlabel(None)\n",
    "plt.ylabel('Count')\n",
    "plt.title('Matches per Weight Class')\n",
    "plt.show()\n"
   ]
  },
  {
   "cell_type": "code",
   "execution_count": null,
   "id": "ce31bf99",
   "metadata": {},
   "outputs": [],
   "source": [
    "dados['win_type'].value_counts()"
   ]
  },
  {
   "cell_type": "code",
   "execution_count": null,
   "id": "9ba1849e",
   "metadata": {},
   "outputs": [],
   "source": [
    "dados = pd.read_csv('/kaggle/input/adcc-historical-dataset/adcc_historical_data.csv', sep=';')\n",
    "\n",
    "dados.head()\n",
    "\n",
    "dados['year'] = pd.to_datetime(dados['year'], format='%Y')\n",
    "\n",
    "dados = dados[dados['win_type'] != 'DESQUALIFICATION']\n",
    "\n",
    "# Group the DataFrame and calculate the counts\n",
    "counts = dados.groupby(['win_type', dados['year'].dt.year]).size().reset_index(name='count')\n",
    "\n",
    "# Plot the counts using Seaborn's lineplot\n",
    "plt.figure(figsize=(10, 6))\n",
    "sns.lineplot(x='year', y='count', hue='win_type', data=counts, linewidth=2)\n",
    "plt.xlabel('Year')\n",
    "plt.ylabel('Count')\n",
    "plt.title('Wins over the years')\n",
    "# make a legend for both plots\n",
    "leg = plt.legend(loc='right',bbox_to_anchor=(1.2, 0.5))\n",
    "\n",
    "# set the linewidth of each legend object\n",
    "for line in leg.get_lines():\n",
    "    line.set_linewidth(2.0)\n",
    "\n",
    "plt.show()"
   ]
  }
 ],
 "metadata": {},
 "nbformat": 4,
 "nbformat_minor": 5
}
