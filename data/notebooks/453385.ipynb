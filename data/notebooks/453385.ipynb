{
 "cells": [
  {
   "cell_type": "code",
   "execution_count": null,
   "id": "da07661e",
   "metadata": {},
   "outputs": [],
   "source": [
    "# This Python 3 environment comes with many helpful analytics libraries installed\n",
    "# It is defined by the kaggle/python docker image: https://github.com/kaggle/docker-python\n",
    "# For example, here's several helpful packages to load in \n",
    "\n",
    "import numpy as np # linear algebra\n",
    "import pandas as pd # data processing, CSV file I/O (e.g. pd.read_csv)\n",
    "\n",
    "# visualization\n",
    "import seaborn as sns\n",
    "import matplotlib.pyplot as plt\n",
    "%matplotlib inline\n",
    "\n",
    "# machine learning\n",
    "from sklearn.linear_model import LogisticRegression\n",
    "from sklearn.svm import SVC, LinearSVC\n",
    "from sklearn.ensemble import RandomForestClassifier\n",
    "from sklearn.neighbors import KNeighborsClassifier\n",
    "from sklearn.naive_bayes import GaussianNB\n",
    "from sklearn.linear_model import Perceptron\n",
    "from sklearn.linear_model import SGDClassifier\n",
    "from sklearn.tree import DecisionTreeClassifier\n",
    "\n",
    "# Input data files are available in the \"../input/\" directory.\n",
    "# For example, running this (by clicking run or pressing Shift+Enter) will list the files in the input directory\n",
    "\n",
    "from subprocess import check_output\n",
    "print(check_output([\"ls\", \"../input\"]).decode(\"utf8\"))\n",
    "\n",
    "# Any results you write to the current directory are saved as output."
   ]
  },
  {
   "cell_type": "code",
   "execution_count": null,
   "id": "abda709e",
   "metadata": {},
   "outputs": [],
   "source": [
    "df_train = pd.read_csv('../input/train.csv')\n",
    "df_test = pd.read_csv('../input/test.csv')"
   ]
  },
  {
   "cell_type": "code",
   "execution_count": null,
   "id": "76bbe181",
   "metadata": {},
   "outputs": [],
   "source": [
    "df_train.sort_values(by=['Fare'], ascending=False)\n",
    "df_train['ticketcount'] = df_train.groupby(['Ticket'])['Name'].transform(len)\n",
    "df_train['ticketcount'] = df_train['ticketcount'].fillna(1)\n",
    "df_train['individualticket'] = df_train['Fare'] / df_train['ticketcount']\n",
    "\n",
    "df_test.loc[df_test.isnull().Fare, 'Fare'] = 0\n",
    "df_test['ticketcount'] = df_test.groupby(['Ticket'])['Name'].transform(len)\n",
    "df_test['ticketcount'] = df_test['ticketcount'].fillna(1)\n",
    "df_test['individualticket'] = df_test['Fare'] / df_test['ticketcount']"
   ]
  },
  {
   "cell_type": "code",
   "execution_count": null,
   "id": "f8ff6ed8",
   "metadata": {},
   "outputs": [],
   "source": [
    "df_train.sort_values(by=['Fare'], ascending=False)"
   ]
  },
  {
   "cell_type": "code",
   "execution_count": null,
   "id": "c1948385",
   "metadata": {},
   "outputs": [],
   "source": [
    "df_train.describe()"
   ]
  },
  {
   "cell_type": "code",
   "execution_count": null,
   "id": "5024c602",
   "metadata": {},
   "outputs": [],
   "source": [
    "df_train.describe(include=['O'])\n",
    "df_train.groupby(df_train.Ticket)\n",
    "\n",
    "sns.distplot(df_train['individualticket'])"
   ]
  },
  {
   "cell_type": "code",
   "execution_count": null,
   "id": "305b49eb",
   "metadata": {},
   "outputs": [],
   "source": [
    "df_test.describe()"
   ]
  },
  {
   "cell_type": "code",
   "execution_count": null,
   "id": "84051b8a",
   "metadata": {},
   "outputs": [],
   "source": [
    "df_train['Pclass'] = df_train['Pclass'].astype('category')\n",
    "df_test['Pclass'] = df_test['Pclass'].astype('category')"
   ]
  },
  {
   "cell_type": "code",
   "execution_count": null,
   "id": "11d2e315",
   "metadata": {},
   "outputs": [],
   "source": [
    "df_train = df_train.drop(['Ticket', 'Cabin', 'Fare', 'ticketcount'], axis=1)\n",
    "df_test = df_test.drop(['Ticket', 'Cabin', 'Fare', 'ticketcount'], axis=1)"
   ]
  },
  {
   "cell_type": "code",
   "execution_count": null,
   "id": "4f3f59f1",
   "metadata": {},
   "outputs": [],
   "source": [
    "def setisalone(row):\n",
    "    if row['SibSp'] == 0 and row['Parch'] == 0:\n",
    "        return 1\n",
    "    else:\n",
    "        return 0\n",
    "    \n",
    "df_train['isalone'] = df_train.apply(setisalone, axis=1)\n",
    "df_test['isalone'] = df_test.apply(setisalone, axis=1)\n",
    "df_train['isalone'] = df_train['isalone'].astype('category')\n",
    "df_test['isalone'] = df_test['isalone'].astype('category')"
   ]
  },
  {
   "cell_type": "code",
   "execution_count": null,
   "id": "440a10b7",
   "metadata": {},
   "outputs": [],
   "source": [
    "#df_train = pd.get_dummies(df_train, columns=['Sex'])\n",
    "#df_test = pd.get_dummies(df_test, columns=['Sex'])\n",
    "df_train['Sex'].replace(['male', 'female'], [1,0], inplace=True)\n",
    "df_test['Sex'].replace(['male', 'female'], [1,0], inplace=True)"
   ]
  },
  {
   "cell_type": "code",
   "execution_count": null,
   "id": "c7246339",
   "metadata": {},
   "outputs": [],
   "source": [
    "#df_train = pd.get_dummies(df_train, columns=['Embarked'], dummy_na=True)\n",
    "#df_test = pd.get_dummies(df_test, columns=['Embarked'], dummy_na=True)\n",
    "df_train['Embarked'] = df_train['Embarked'].fillna('S')\n",
    "df_test['Embarked'] = df_test['Embarked'].fillna('S')\n",
    "df_train['Embarked'].replace(['S', 'Q', 'C'], [0,1,2], inplace=True)\n",
    "# df_train.Embarked = df_train.Embarked.astype(int)\n",
    "df_test['Embarked'].replace(['S', 'Q', 'C'], [0,1,2], inplace=True)\n",
    "df_train.info()"
   ]
  },
  {
   "cell_type": "code",
   "execution_count": null,
   "id": "7e412eaa",
   "metadata": {},
   "outputs": [],
   "source": [
    "df_train.loc[df_train['Name'].str.contains(\"Master\") & df_train.isnull().Age, 'Age'] = 10.0\n",
    "df_train.loc[df_train['Name'].str.contains(\"Miss\") & df_train.isnull().Age, 'Age'] = 10.0\n",
    "df_train.loc[df_train.isnull().Age, 'Age'] = 35.0\n",
    "\n",
    "df_test.loc[df_test['Name'].str.contains(\"Master\") & df_test.isnull().Age, 'Age'] = 10.0\n",
    "df_test.loc[df_test['Name'].str.contains(\"Miss\") & df_test.isnull().Age, 'Age'] = 10.0\n",
    "df_test.loc[df_test.isnull().Age, 'Age'] = 35.0"
   ]
  },
  {
   "cell_type": "code",
   "execution_count": null,
   "id": "aab80fe4",
   "metadata": {},
   "outputs": [],
   "source": [
    "bins = [0, 16, 40, 60, 90]\n",
    "group_names = [1, 2, 3, 4]\n",
    "df_train['ageband'] = pd.cut(df_train['Age'], bins, labels=group_names)\n",
    "df_test['ageband'] = pd.cut(df_test['Age'], bins, labels=group_names)"
   ]
  },
  {
   "cell_type": "code",
   "execution_count": null,
   "id": "4d31a34d",
   "metadata": {},
   "outputs": [],
   "source": [
    "\n",
    "#bins = [-1, 50, 100, 150, 200, 250, 300, 350, 400, 450, 500, 550]\n",
    "bins = [-1, 50, 100, 250, 600]\n",
    "group_names = [1, 2, 3, 4]\n",
    "df_train['fareband'] = pd.cut(df_train['individualticket'], bins, labels=group_names)\n",
    "df_test['fareband'] = pd.cut(df_test['individualticket'], bins, labels=group_names)"
   ]
  },
  {
   "cell_type": "code",
   "execution_count": null,
   "id": "2be3948c",
   "metadata": {},
   "outputs": [],
   "source": [
    "df_train[df_train.isnull().fareband].head()\n",
    "df_test[df_test.isnull().fareband].head()"
   ]
  },
  {
   "cell_type": "code",
   "execution_count": null,
   "id": "003a7626",
   "metadata": {},
   "outputs": [],
   "source": [
    "df_train.info()\n",
    "df_test.info()"
   ]
  },
  {
   "cell_type": "code",
   "execution_count": null,
   "id": "d0715be0",
   "metadata": {},
   "outputs": [],
   "source": [
    "df_train = df_train.drop(['individualticket', 'Age', 'Name', 'PassengerId', 'SibSp', 'Parch'], axis=1)\n",
    "df_test = df_test.drop(['individualticket', 'Age', 'Name', 'SibSp', 'Parch'], axis=1)"
   ]
  },
  {
   "cell_type": "code",
   "execution_count": null,
   "id": "27406fc1",
   "metadata": {},
   "outputs": [],
   "source": [
    "df_train.head()\n",
    "df_test.head()"
   ]
  },
  {
   "cell_type": "code",
   "execution_count": null,
   "id": "f1ba38ae",
   "metadata": {},
   "outputs": [],
   "source": [
    "X_train = df_train.drop(\"Survived\", axis=1)\n",
    "Y_train = df_train[\"Survived\"]\n",
    "X_test  = df_test.drop(\"PassengerId\", axis=1).copy()\n",
    "X_train.shape, Y_train.shape, X_test.shape"
   ]
  },
  {
   "cell_type": "code",
   "execution_count": null,
   "id": "c51d8db9",
   "metadata": {},
   "outputs": [],
   "source": [
    "logreg = LogisticRegression()\n",
    "logreg.fit(X_train, Y_train)\n",
    "Y_pred = logreg.predict(X_test)\n",
    "acc_log = round(logreg.score(X_train, Y_train) * 100, 2)\n",
    "acc_log"
   ]
  },
  {
   "cell_type": "code",
   "execution_count": null,
   "id": "6201425c",
   "metadata": {},
   "outputs": [],
   "source": [
    "coeff_df = pd.DataFrame(df_train.columns.delete(0))\n",
    "coeff_df.columns = ['Feature']\n",
    "coeff_df[\"Correlation\"] = pd.Series(logreg.coef_[0])\n",
    "\n",
    "coeff_df.sort_values(by='Correlation', ascending=False)"
   ]
  },
  {
   "cell_type": "code",
   "execution_count": null,
   "id": "f05f2b11",
   "metadata": {},
   "outputs": [],
   "source": [
    "svc = SVC()\n",
    "svc.fit(X_train, Y_train)\n",
    "Y_pred = svc.predict(X_test)\n",
    "acc_svc = round(svc.score(X_train, Y_train) * 100, 2)\n",
    "acc_svc"
   ]
  },
  {
   "cell_type": "code",
   "execution_count": null,
   "id": "ff652bd8",
   "metadata": {},
   "outputs": [],
   "source": [
    "knn = KNeighborsClassifier(n_neighbors = 3)\n",
    "knn.fit(X_train, Y_train)\n",
    "Y_pred = knn.predict(X_test)\n",
    "acc_knn = round(knn.score(X_train, Y_train) * 100, 2)\n",
    "acc_knn"
   ]
  },
  {
   "cell_type": "code",
   "execution_count": null,
   "id": "c433e6bf",
   "metadata": {},
   "outputs": [],
   "source": [
    "gaussian = GaussianNB()\n",
    "gaussian.fit(X_train, Y_train)\n",
    "Y_pred = gaussian.predict(X_test)\n",
    "acc_gaussian = round(gaussian.score(X_train, Y_train) * 100, 2)\n",
    "acc_gaussian"
   ]
  },
  {
   "cell_type": "code",
   "execution_count": null,
   "id": "8f304285",
   "metadata": {},
   "outputs": [],
   "source": [
    "perceptron = Perceptron()\n",
    "perceptron.fit(X_train, Y_train)\n",
    "Y_pred = perceptron.predict(X_test)\n",
    "acc_perceptron = round(perceptron.score(X_train, Y_train) * 100, 2)\n",
    "acc_perceptron"
   ]
  },
  {
   "cell_type": "code",
   "execution_count": null,
   "id": "8054a822",
   "metadata": {},
   "outputs": [],
   "source": [
    "linear_svc = LinearSVC()\n",
    "linear_svc.fit(X_train, Y_train)\n",
    "Y_pred = linear_svc.predict(X_test)\n",
    "acc_linear_svc = round(linear_svc.score(X_train, Y_train) * 100, 2)\n",
    "acc_linear_svc"
   ]
  },
  {
   "cell_type": "code",
   "execution_count": null,
   "id": "e981bfd8",
   "metadata": {},
   "outputs": [],
   "source": [
    "\n",
    "sgd = SGDClassifier()\n",
    "sgd.fit(X_train, Y_train)\n",
    "Y_pred = sgd.predict(X_test)\n",
    "acc_sgd = round(sgd.score(X_train, Y_train) * 100, 2)\n",
    "acc_sgd"
   ]
  },
  {
   "cell_type": "code",
   "execution_count": null,
   "id": "64ebd51d",
   "metadata": {},
   "outputs": [],
   "source": [
    "decision_tree = DecisionTreeClassifier()\n",
    "decision_tree.fit(X_train, Y_train)\n",
    "Y_pred = decision_tree.predict(X_test)\n",
    "acc_decision_tree = round(decision_tree.score(X_train, Y_train) * 100, 2)\n",
    "acc_decision_tree"
   ]
  },
  {
   "cell_type": "code",
   "execution_count": null,
   "id": "f37acaf9",
   "metadata": {},
   "outputs": [],
   "source": [
    "random_forest = RandomForestClassifier(n_estimators=100)\n",
    "random_forest.fit(X_train, Y_train)\n",
    "Y_pred = random_forest.predict(X_test)\n",
    "random_forest.score(X_train, Y_train)\n",
    "acc_random_forest = round(random_forest.score(X_train, Y_train) * 100, 2)\n",
    "acc_random_forest"
   ]
  },
  {
   "cell_type": "code",
   "execution_count": null,
   "id": "3e3c1bb4",
   "metadata": {},
   "outputs": [],
   "source": [
    "models = pd.DataFrame({\n",
    "    'Model': ['Support Vector Machines', 'KNN', 'Logistic Regression', \n",
    "              'Random Forest', 'Naive Bayes', 'Perceptron', \n",
    "              'Stochastic Gradient Decent', 'Linear SVC', \n",
    "              'Decision Tree'],\n",
    "    'Score': [acc_svc, acc_knn, acc_log, \n",
    "              acc_random_forest, acc_gaussian, acc_perceptron, \n",
    "              acc_sgd, acc_linear_svc, acc_decision_tree]})\n",
    "models.sort_values(by='Score', ascending=False)"
   ]
  },
  {
   "cell_type": "code",
   "execution_count": null,
   "id": "3fcf7f08",
   "metadata": {},
   "outputs": [],
   "source": [
    "submission = pd.DataFrame({\n",
    "        \"PassengerId\": df_test[\"PassengerId\"],\n",
    "        \"Survived\": Y_pred\n",
    "    })\n",
    "submission.to_csv('submission.csv', index=False)"
   ]
  },
  {
   "cell_type": "code",
   "execution_count": null,
   "id": "f09b90a4",
   "metadata": {},
   "outputs": [],
   "source": [
    "nan"
   ]
  }
 ],
 "metadata": {},
 "nbformat": 4,
 "nbformat_minor": 5
}
