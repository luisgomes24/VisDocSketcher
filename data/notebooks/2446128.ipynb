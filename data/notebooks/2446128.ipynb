{
 "cells": [
  {
   "cell_type": "markdown",
   "id": "0a037882",
   "metadata": {},
   "source": [
    "# Malaria Detection\n",
    "\n",
    "Malaria is a life-threatening disease caused by parasites that are transmitted to people through the bites of infected female Anopheles mosquitoes. It is preventable and curable.\n",
    "* In 2017, there were an estimated 219 million cases of malaria in 90 countries.\n",
    "* Malaria deaths reached 435 000 in 2017.\n",
    "* The WHO African Region carries a disproportionately high share of the global malaria burden. In 2017, the region was home to 92% of malaria cases and 93% of malaria deaths.\n",
    "\n",
    "Malaria is caused by Plasmodium parasites. The parasites are spread to people through the bites of infected female Anopheles mosquitoes, called \"malaria vectors.\" There are 5 parasite species that cause malaria in humans, and 2 of these species – P. falciparum and P. vivax – pose the greatest threat.\n",
    "\n",
    "\n",
    "***Diagnosis of malaria can be difficult***:\n",
    "\n",
    "* Where malaria is not endemic any more (such as in the United States), health-care providers may not be familiar with the disease. Clinicians seeing a malaria patient may forget to consider malaria among the potential diagnoses and not order the needed diagnostic tests. Laboratorians may lack experience with malaria and fail to detect parasites when examining blood smears under the microscope.\n",
    "* Malaria is an acute febrile illness. In a non-immune individual, symptoms usually appear 10–15 days after the infective mosquito bite. The first symptoms – fever, headache, and chills – may be mild and difficult to recognize as malaria. If not treated within 24 hours, P. falciparum malaria can progress to severe illness, often leading to death.\n",
    "\n",
    "***Microscopic Diagnosis***\n",
    "\n",
    "Malaria parasites can be identified by examining under the microscope a drop of the patient’s blood, spread out as a “blood smear” on a microscope slide. Prior to examination, the specimen is stained  to give the parasites a distinctive appearance. This technique remains the gold standard for laboratory confirmation of malaria. However, it depends on the quality of the reagents, of the microscope, and on the experience of the laboratorian.\n",
    "\n",
    "![malaria](https://cdn1.sph.harvard.edu/wp-content/uploads/2015/03/Malaria-cells_CDC.jpg)\n",
    "\n",
    "references :\n",
    "* [1] https://www.who.int/news-room/fact-sheets/detail/malaria \n",
    "* [2] https://www.cdc.gov/malaria/diagnosis_treatment/diagnosis.html \n"
   ]
  },
  {
   "cell_type": "markdown",
   "id": "c481e222",
   "metadata": {},
   "source": [
    "### Install dependencies"
   ]
  },
  {
   "cell_type": "code",
   "execution_count": null,
   "id": "4b9db6cc",
   "metadata": {},
   "outputs": [],
   "source": [
    "%%bash\n",
    "pip install git+https://github.com/fastai/fastai2\n",
    "pip install torch torchvision feather-format pillow=='6.2.0' kornia pyarrow --upgrade   > /dev/null"
   ]
  },
  {
   "cell_type": "markdown",
   "id": "fa111b7d",
   "metadata": {},
   "source": [
    "## EDA"
   ]
  },
  {
   "cell_type": "code",
   "execution_count": null,
   "id": "ecd46218",
   "metadata": {},
   "outputs": [],
   "source": [
    "import numpy as np\n",
    "import pandas as pd\n",
    "import matplotlib.pyplot as plt\n",
    "\n",
    "from fastai2.data.all import *\n",
    "from fastai2.vision.data import *\n",
    "from fastai2.vision.all import *\n",
    "\n",
    "from sklearn.metrics import auc, roc_curve, precision_recall_curve, classification_report\n",
    "\n",
    "import os\n",
    "print(os.listdir(\"../input/cell_images/cell_images/\"))"
   ]
  },
  {
   "cell_type": "markdown",
   "id": "1771779a",
   "metadata": {},
   "source": [
    "## Dataset"
   ]
  },
  {
   "cell_type": "code",
   "execution_count": null,
   "id": "c6b9bfd7",
   "metadata": {},
   "outputs": [],
   "source": [
    "path=Path('../input/cell_images/cell_images/')\n",
    "path.ls()"
   ]
  },
  {
   "cell_type": "code",
   "execution_count": null,
   "id": "e1c83b26",
   "metadata": {},
   "outputs": [],
   "source": [
    "splitter = RandomSplitter()\n",
    "item_tfms = [Resize(224)]\n",
    "batch_tfms=[*aug_transforms(flip_vert=True,max_zoom=1.2, max_warp=0), Normalize.from_stats(*imagenet_stats)]"
   ]
  },
  {
   "cell_type": "code",
   "execution_count": null,
   "id": "6ca57180",
   "metadata": {},
   "outputs": [],
   "source": [
    "data_block = DataBlock(blocks=[ImageBlock, CategoryBlock],\n",
    "                  get_items=get_image_files,\n",
    "                  get_y=parent_label,\n",
    "                  splitter=splitter,\n",
    "                  item_tfms=item_tfms,\n",
    "                  batch_tfms=batch_tfms)"
   ]
  },
  {
   "cell_type": "code",
   "execution_count": null,
   "id": "dfe3f5f3",
   "metadata": {},
   "outputs": [],
   "source": [
    "data = data_block.dataloaders(path, bs=64)\n",
    "data.show_batch()"
   ]
  },
  {
   "cell_type": "markdown",
   "id": "09f7bd83",
   "metadata": {},
   "source": [
    "## Model XResNet34"
   ]
  },
  {
   "cell_type": "code",
   "execution_count": null,
   "id": "6d9048a7",
   "metadata": {},
   "outputs": [],
   "source": [
    "learn = cnn_learner(data, xresnet34, metrics=[accuracy]).to_fp16()\n"
   ]
  },
  {
   "cell_type": "code",
   "execution_count": null,
   "id": "ae3e070e",
   "metadata": {},
   "outputs": [],
   "source": [
    "learn.fine_tune(15)"
   ]
  },
  {
   "cell_type": "code",
   "execution_count": null,
   "id": "ddb6727a",
   "metadata": {},
   "outputs": [],
   "source": [
    "learn.save('stage-1')"
   ]
  },
  {
   "cell_type": "markdown",
   "id": "3859830c",
   "metadata": {},
   "source": [
    "## Confusion Matrix"
   ]
  },
  {
   "cell_type": "code",
   "execution_count": null,
   "id": "f37a28e0",
   "metadata": {},
   "outputs": [],
   "source": [
    "\n",
    "interp = ClassificationInterpretation.from_learner(learn)\n",
    "interp.plot_confusion_matrix(figsize=(10,8))"
   ]
  },
  {
   "cell_type": "code",
   "execution_count": null,
   "id": "15213192",
   "metadata": {},
   "outputs": [],
   "source": [
    "preds, y_true=learn.get_preds()\n",
    "y_true.shape, preds.shape"
   ]
  },
  {
   "cell_type": "code",
   "execution_count": null,
   "id": "54586f82",
   "metadata": {},
   "outputs": [],
   "source": [
    "y_true=y_true.numpy() \n",
    "preds=np.argmax(preds.numpy(), axis=-1)\n",
    "y_true.shape, preds.shape"
   ]
  },
  {
   "cell_type": "code",
   "execution_count": null,
   "id": "dd5f9b88",
   "metadata": {},
   "outputs": [],
   "source": [
    "classes = list(data.vocab)\n",
    "report = classification_report(y_true, preds, target_names=classes)\n",
    "print(report)"
   ]
  },
  {
   "cell_type": "code",
   "execution_count": null,
   "id": "2cea49c7",
   "metadata": {},
   "outputs": [],
   "source": [
    "learn.show_results()"
   ]
  },
  {
   "cell_type": "code",
   "execution_count": null,
   "id": "aefcc161",
   "metadata": {},
   "outputs": [],
   "source": [
    "nan"
   ]
  }
 ],
 "metadata": {},
 "nbformat": 4,
 "nbformat_minor": 5
}
