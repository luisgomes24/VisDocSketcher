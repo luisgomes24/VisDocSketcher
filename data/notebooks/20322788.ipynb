{
 "cells": [
  {
   "cell_type": "code",
   "execution_count": null,
   "id": "aecc6a75",
   "metadata": {},
   "outputs": [],
   "source": [
    "import numpy as np\n",
    "import pandas as pd\n",
    "import matplotlib.pyplot as plt\n",
    "import seaborn as sns\n",
    "from sklearn.model_selection import train_test_split\n",
    "from sklearn.metrics import mean_absolute_error\n",
    "from sklearn.ensemble import RandomForestClassifier\n",
    "from sklearn.svm import SVC\n",
    "from xgboost import XGBClassifier\n"
   ]
  },
  {
   "cell_type": "code",
   "execution_count": null,
   "id": "5f88d7a7",
   "metadata": {},
   "outputs": [],
   "source": [
    "#Reading the dataset\n",
    "data = pd.read_csv(\"../input/ckdisease/kidney_disease.csv\")\n",
    "data.head()"
   ]
  },
  {
   "cell_type": "code",
   "execution_count": null,
   "id": "14acc131",
   "metadata": {},
   "outputs": [],
   "source": [
    "#getting the shape of the dataset\n",
    "data.shape"
   ]
  },
  {
   "cell_type": "code",
   "execution_count": null,
   "id": "caee6b7d",
   "metadata": {},
   "outputs": [],
   "source": [
    "data.columns"
   ]
  },
  {
   "cell_type": "code",
   "execution_count": null,
   "id": "9f8fca79",
   "metadata": {},
   "outputs": [],
   "source": [
    "#getting the information about the dataset contents\n",
    "data.info()"
   ]
  },
  {
   "cell_type": "markdown",
   "id": "c4528062",
   "metadata": {},
   "source": [
    "# Data Preprocessing\n"
   ]
  },
  {
   "cell_type": "code",
   "execution_count": null,
   "id": "7c8e81ef",
   "metadata": {},
   "outputs": [],
   "source": [
    "categorial_cols = [col for col in data.columns if data[col].dtype==\"object\"]\n",
    "categorial_cols"
   ]
  },
  {
   "cell_type": "code",
   "execution_count": null,
   "id": "0e171113",
   "metadata": {},
   "outputs": [],
   "source": [
    "numerical_cols = [x for x in data.columns if not x in categorial_cols]\n",
    "numerical_cols"
   ]
  },
  {
   "cell_type": "code",
   "execution_count": null,
   "id": "08bcd1ca",
   "metadata": {},
   "outputs": [],
   "source": [
    "for i in ['rc','wc','pcv']:\n",
    "    data[i] = data[i].str.extract('(\\d+)').astype(float)"
   ]
  },
  {
   "cell_type": "markdown",
   "id": "a036e43d",
   "metadata": {},
   "source": [
    "## Simple Imputing"
   ]
  },
  {
   "cell_type": "code",
   "execution_count": null,
   "id": "1cba54bd",
   "metadata": {},
   "outputs": [],
   "source": [
    "#filling the null values with the mean values \n",
    "for i in ['age','bp','sg','al','su','bgr','bu','sc','sod','pot','hemo','rc','wc','pcv']:\n",
    "    data[i].fillna(data[i].mean(),inplace=True)"
   ]
  },
  {
   "cell_type": "markdown",
   "id": "ab167036",
   "metadata": {},
   "source": [
    "## OneHot Encoding"
   ]
  },
  {
   "cell_type": "code",
   "execution_count": null,
   "id": "c4e86814",
   "metadata": {},
   "outputs": [],
   "source": [
    "#converting the categorial data by using oneHot Encoding\n",
    "rbc = pd.get_dummies(data[[\"rbc\"]],drop_first=True)\n",
    "rbc.head()"
   ]
  },
  {
   "cell_type": "code",
   "execution_count": null,
   "id": "0b782c24",
   "metadata": {},
   "outputs": [],
   "source": [
    "pc = pd.get_dummies(data[[\"pc\"]],drop_first=True)\n",
    "pc.head()"
   ]
  },
  {
   "cell_type": "code",
   "execution_count": null,
   "id": "ff1e32a8",
   "metadata": {},
   "outputs": [],
   "source": [
    "pcc = pd.get_dummies(data[[\"pcc\"]],drop_first=True)\n",
    "pcc.head()"
   ]
  },
  {
   "cell_type": "code",
   "execution_count": null,
   "id": "9515d02b",
   "metadata": {},
   "outputs": [],
   "source": [
    "ba = pd.get_dummies(data[[\"ba\"]],drop_first=True)\n",
    "ba.head()"
   ]
  },
  {
   "cell_type": "code",
   "execution_count": null,
   "id": "38996056",
   "metadata": {},
   "outputs": [],
   "source": [
    "#dropping the categorial data columns\n",
    "data.drop([\"rbc\",\"pc\",\"pcc\",\"ba\"],axis=1,inplace=True)"
   ]
  },
  {
   "cell_type": "code",
   "execution_count": null,
   "id": "b9d6ff41",
   "metadata": {},
   "outputs": [],
   "source": [
    "data.head()"
   ]
  },
  {
   "cell_type": "code",
   "execution_count": null,
   "id": "66196b2e",
   "metadata": {},
   "outputs": [],
   "source": [
    "#concating the data columns\n",
    "data = pd.concat([data,rbc,pc,pcc,ba],axis=1)"
   ]
  },
  {
   "cell_type": "code",
   "execution_count": null,
   "id": "ad787317",
   "metadata": {},
   "outputs": [],
   "source": [
    "data.head()"
   ]
  },
  {
   "cell_type": "code",
   "execution_count": null,
   "id": "be8e1f83",
   "metadata": {},
   "outputs": [],
   "source": [
    "data.info()"
   ]
  },
  {
   "cell_type": "code",
   "execution_count": null,
   "id": "6c51ac34",
   "metadata": {},
   "outputs": [],
   "source": [
    "#converting the age Data column into list\n",
    "k=data[\"age\"].apply(lambda x : int(x)//10).to_list()"
   ]
  },
  {
   "cell_type": "code",
   "execution_count": null,
   "id": "14f2c505",
   "metadata": {},
   "outputs": [],
   "source": [
    "#batching the ages(0-9,10-19,20-29,......90-99)\n",
    "a=[0]*10\n",
    "for i in range(len(k)):\n",
    "    a[k[i]]+=1\n",
    "a"
   ]
  },
  {
   "cell_type": "code",
   "execution_count": null,
   "id": "5f97dde5",
   "metadata": {},
   "outputs": [],
   "source": [
    "plt.figure(figsize= (7,7))\n",
    "x_labels = ['0-9','10-19','20-29','30-39','40-49','50-59','60-69','70-79','80-89','90-99']\n",
    "y_labels = np.array(a)\n",
    "plt.pie(y_labels, labels = x_labels)\n",
    "plt.show() "
   ]
  },
  {
   "cell_type": "code",
   "execution_count": null,
   "id": "12b675ce",
   "metadata": {},
   "outputs": [],
   "source": [
    "data[\"classification\"].value_counts()"
   ]
  },
  {
   "cell_type": "code",
   "execution_count": null,
   "id": "86919b42",
   "metadata": {},
   "outputs": [],
   "source": [
    "#replacing the values of notckd, ckd and ckd/t in the dataset\n",
    "data.replace({\"notckd\":0,\"ckd\":1,\"ckd\\t\":1},inplace=True)"
   ]
  },
  {
   "cell_type": "code",
   "execution_count": null,
   "id": "11ea7a20",
   "metadata": {},
   "outputs": [],
   "source": [
    "plt.figure(figsize=(25,10))\n",
    "sns.barplot(x =data['bp'],y =data['classification'],data=data)\n",
    "plt.show()"
   ]
  },
  {
   "cell_type": "code",
   "execution_count": null,
   "id": "e0efa901",
   "metadata": {},
   "outputs": [],
   "source": [
    "plt.figure(figsize=(10,10))\n",
    "sns.swarmplot(y=data[\"age\"], x = data[\"classification\"])"
   ]
  },
  {
   "cell_type": "code",
   "execution_count": null,
   "id": "0f5386bc",
   "metadata": {},
   "outputs": [],
   "source": [
    "data[\"appet\"].value_counts()"
   ]
  },
  {
   "cell_type": "code",
   "execution_count": null,
   "id": "e8ed8ec6",
   "metadata": {},
   "outputs": [],
   "source": [
    "plt.figure(figsize=(7,7))\n",
    "sns.barplot(x =data['appet'],y =data['classification'],data=data)\n",
    "plt.show()"
   ]
  },
  {
   "cell_type": "code",
   "execution_count": null,
   "id": "3e4eb3c8",
   "metadata": {},
   "outputs": [],
   "source": [
    "data.replace({\"good\":1,\"poor\":0},inplace=True)"
   ]
  },
  {
   "cell_type": "code",
   "execution_count": null,
   "id": "d0363f41",
   "metadata": {},
   "outputs": [],
   "source": [
    "data[\"ane\"].value_counts()"
   ]
  },
  {
   "cell_type": "code",
   "execution_count": null,
   "id": "d1df143e",
   "metadata": {},
   "outputs": [],
   "source": [
    "#replacing the values of no, yes to 0,1 respectively\n",
    "data.replace({\"no\":0,\"yes\":1,\"\\tno\":0,\"\\tyes\":1,\" yes\":1},inplace=True)"
   ]
  },
  {
   "cell_type": "code",
   "execution_count": null,
   "id": "9c9b300b",
   "metadata": {},
   "outputs": [],
   "source": [
    "data.info()"
   ]
  },
  {
   "cell_type": "code",
   "execution_count": null,
   "id": "a58972d5",
   "metadata": {},
   "outputs": [],
   "source": [
    "#if still null values present then replacing the null value with the most frequent value in the column\n",
    "data=data.apply(lambda x:x.fillna(x.value_counts().index[0]))"
   ]
  },
  {
   "cell_type": "code",
   "execution_count": null,
   "id": "9fcfa532",
   "metadata": {},
   "outputs": [],
   "source": [
    "data.info()"
   ]
  },
  {
   "cell_type": "markdown",
   "id": "882878f0",
   "metadata": {},
   "source": [
    "# Splitting Train Data and Test Data"
   ]
  },
  {
   "cell_type": "code",
   "execution_count": null,
   "id": "01c5bbbf",
   "metadata": {},
   "outputs": [],
   "source": [
    "#getting the columns in the dataset\n",
    "data.columns"
   ]
  },
  {
   "cell_type": "code",
   "execution_count": null,
   "id": "2da1c043",
   "metadata": {},
   "outputs": [],
   "source": [
    "#seperating the data for the model as X contains the data which feed to the model and y contains the target column \n",
    "X = data.loc[:,['age', 'bp', 'rc','wc','appet','pc_normal','htn','hemo','bgr','dm','ane']]\n",
    "y = data[\"classification\"]"
   ]
  },
  {
   "cell_type": "code",
   "execution_count": null,
   "id": "b040a3ce",
   "metadata": {},
   "outputs": [],
   "source": [
    "#splitting the train data and test Data\n",
    "X_train,X_test,y_train,y_test = train_test_split(X,y,test_size=0.2,random_state = 0)\n",
    "X_train.head()"
   ]
  },
  {
   "cell_type": "markdown",
   "id": "937c99c3",
   "metadata": {},
   "source": [
    "# MODELS:"
   ]
  },
  {
   "cell_type": "markdown",
   "id": "87ede5d2",
   "metadata": {},
   "source": [
    "## Random Forest"
   ]
  },
  {
   "cell_type": "code",
   "execution_count": null,
   "id": "8a50289f",
   "metadata": {},
   "outputs": [],
   "source": [
    "#using the random forest classifier\n",
    "model = RandomForestClassifier()\n",
    "model.fit(X_train,y_train)"
   ]
  },
  {
   "cell_type": "code",
   "execution_count": null,
   "id": "d8bbe2ea",
   "metadata": {},
   "outputs": [],
   "source": [
    "#getting the predictions using the trained model\n",
    "predictions = model.predict(X_test)"
   ]
  },
  {
   "cell_type": "code",
   "execution_count": null,
   "id": "af7caeae",
   "metadata": {},
   "outputs": [],
   "source": [
    "#checking the mean absolute error between the predicted values and test data\n",
    "print(\"the mean absolute error by using the RandomForest is\",mean_absolute_error(y_test,predictions))"
   ]
  },
  {
   "cell_type": "code",
   "execution_count": null,
   "id": "e5c66cdb",
   "metadata": {},
   "outputs": [],
   "source": [
    "#printing the accuracy of the train data\n",
    "print(\"the accuracy of the train data is \",model.score(X_train,y_train)*100)"
   ]
  },
  {
   "cell_type": "code",
   "execution_count": null,
   "id": "efabb7f3",
   "metadata": {},
   "outputs": [],
   "source": [
    "#printing the accuracy of the test data\n",
    "print(\"the accuracy of the test data is\",model.score(X_test,y_test)*100)"
   ]
  },
  {
   "cell_type": "markdown",
   "id": "322b60c7",
   "metadata": {},
   "source": [
    "## XGradient Boost"
   ]
  },
  {
   "cell_type": "code",
   "execution_count": null,
   "id": "9a10c7f8",
   "metadata": {},
   "outputs": [],
   "source": [
    "#using the XGradient Boosting algorithm\n",
    "mod = XGBClassifier()\n",
    "mod.fit(X_train,y_train)"
   ]
  },
  {
   "cell_type": "code",
   "execution_count": null,
   "id": "ae62dfa5",
   "metadata": {},
   "outputs": [],
   "source": [
    "#checking the mean absolute error between the predicted values and test data\n",
    "print(mean_absolute_error(y_test,mod.predict(X_test)))"
   ]
  },
  {
   "cell_type": "code",
   "execution_count": null,
   "id": "a35f68a4",
   "metadata": {},
   "outputs": [],
   "source": [
    "#printing the accuracy of the train data\n",
    "print(\"the accuracy of the train data is \",mod.score(X_train,y_train)*100)"
   ]
  },
  {
   "cell_type": "code",
   "execution_count": null,
   "id": "94b68fc4",
   "metadata": {},
   "outputs": [],
   "source": [
    "#printing the accuracy of the test data\n",
    "print(\"the accuracy of the test data is\",mod.score(X_test,y_test)*100)"
   ]
  },
  {
   "cell_type": "markdown",
   "id": "7d66c937",
   "metadata": {},
   "source": [
    "## Support Vector Machine"
   ]
  },
  {
   "cell_type": "code",
   "execution_count": null,
   "id": "9faf2687",
   "metadata": {},
   "outputs": [],
   "source": [
    "model2 = SVC()\n",
    "model2.fit(X_train,y_train)"
   ]
  },
  {
   "cell_type": "code",
   "execution_count": null,
   "id": "cf463694",
   "metadata": {},
   "outputs": [],
   "source": [
    "print(\"the mean absolute error is\",mean_absolute_error(y_test,model2.predict(X_test)))"
   ]
  },
  {
   "cell_type": "code",
   "execution_count": null,
   "id": "28be8f83",
   "metadata": {},
   "outputs": [],
   "source": [
    "#printing the accuracy of the train data\n",
    "print(\"the accuracy of the train data is \",model2.score(X_train,y_train)*100)"
   ]
  },
  {
   "cell_type": "code",
   "execution_count": null,
   "id": "05e302c3",
   "metadata": {},
   "outputs": [],
   "source": [
    "#printing the accuracy of the test data\n",
    "print(\"the accuracy of the test data is\",model2.score(X_test,y_test)*100)"
   ]
  },
  {
   "cell_type": "markdown",
   "id": "d59b2b0d",
   "metadata": {},
   "source": [
    "# Dumping the best model into the pickle\n",
    "            from the above three models we get to know that Random Forest gives the best accuracy as compared with remaining two models. So, we use Random Forest for this project."
   ]
  },
  {
   "cell_type": "code",
   "execution_count": null,
   "id": "67d81e84",
   "metadata": {},
   "outputs": [],
   "source": [
    "#import pickle\n",
    "#file = open(\"mainBookpickle.pkl\",\"wb\")\n",
    "#pickle.dump(model,file)"
   ]
  },
  {
   "cell_type": "code",
   "execution_count": null,
   "id": "5b1478ae",
   "metadata": {},
   "outputs": [],
   "source": [
    "#checking the test accuracy with the model in the pickle file\n",
    "#mod1 = pickle.load(open(\"mainBookpickle.pkl\",\"rb\"))\n",
    "#print(mod1.score(X_test,y_test)*100)"
   ]
  },
  {
   "cell_type": "code",
   "execution_count": null,
   "id": "7ef46967",
   "metadata": {},
   "outputs": [],
   "source": [
    "nan"
   ]
  }
 ],
 "metadata": {},
 "nbformat": 4,
 "nbformat_minor": 5
}
