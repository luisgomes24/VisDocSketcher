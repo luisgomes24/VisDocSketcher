{
 "cells": [
  {
   "cell_type": "code",
   "execution_count": null,
   "id": "573cce0a",
   "metadata": {},
   "outputs": [],
   "source": [
    "# This Python 3 environment comes with many helpful analytics libraries installed\n",
    "# It is defined by the kaggle/python Docker image: https://github.com/kaggle/docker-python\n",
    "# For example, here's several helpful packages to load\n",
    "\n",
    "import numpy as np # linear algebra\n",
    "import pandas as pd # data processing, CSV file I/O (e.g. pd.read_csv)\n",
    "\n",
    "# Input data files are available in the read-only \"../input/\" directory\n",
    "# For example, running this (by clicking run or pressing Shift+Enter) will list all files under the input directory\n",
    "\n",
    "import os\n",
    "for dirname, _, filenames in os.walk('/kaggle/input'):\n",
    "    for filename in filenames:\n",
    "        print(os.path.join(dirname, filename))\n",
    "\n",
    "# You can write up to 20GB to the current directory (/kaggle/working/) that gets preserved as output when you create a version using \"Save & Run All\" \n",
    "# You can also write temporary files to /kaggle/temp/, but they won't be saved outside of the current session"
   ]
  },
  {
   "cell_type": "code",
   "execution_count": null,
   "id": "94bff87c",
   "metadata": {},
   "outputs": [],
   "source": [
    "import numpy as np\n",
    "import pandas as pd\n",
    "import seaborn as sns\n",
    "import matplotlib.pyplot as plt"
   ]
  },
  {
   "cell_type": "code",
   "execution_count": null,
   "id": "c2f909e1",
   "metadata": {},
   "outputs": [],
   "source": [
    "train = pd.read_csv(\"../input/tabular-playground-series-aug-2021/train.csv\")\n",
    "train.head()"
   ]
  },
  {
   "cell_type": "code",
   "execution_count": null,
   "id": "f39c18bd",
   "metadata": {},
   "outputs": [],
   "source": [
    "train.isnull().sum()"
   ]
  },
  {
   "cell_type": "code",
   "execution_count": null,
   "id": "634aca60",
   "metadata": {},
   "outputs": [],
   "source": [
    "total_len = len(train)\n",
    "average_values = train.mean(numeric_only=True)\n",
    "train = train.fillna(average_values)\n",
    "print(f'training exemples : {len(train)},  {(1-len(train)/total_len)*100:.1f} % data not NaN')\n",
    "train.head()"
   ]
  },
  {
   "cell_type": "code",
   "execution_count": null,
   "id": "446daeaf",
   "metadata": {},
   "outputs": [],
   "source": [
    "corr_mat = train.corr()\n",
    "plt.figure(figsize=(20,20), dpi=100)\n",
    "sns.heatmap(corr_mat,annot=False, fmt=\".2f\")\n",
    "plt.show()"
   ]
  },
  {
   "cell_type": "code",
   "execution_count": null,
   "id": "271caa7c",
   "metadata": {},
   "outputs": [],
   "source": [
    "sns.distplot(train[\"loss\"])"
   ]
  },
  {
   "cell_type": "code",
   "execution_count": null,
   "id": "e11620f1",
   "metadata": {},
   "outputs": [],
   "source": [
    "X = train.drop([\"id\",\"loss\"],axis=1)\n",
    "y = train[\"loss\"]"
   ]
  },
  {
   "cell_type": "code",
   "execution_count": null,
   "id": "94727c94",
   "metadata": {},
   "outputs": [],
   "source": [
    "!pip install flaml"
   ]
  },
  {
   "cell_type": "code",
   "execution_count": null,
   "id": "f2896884",
   "metadata": {},
   "outputs": [],
   "source": [
    "from flaml import AutoML\n",
    "automl = AutoML()"
   ]
  },
  {
   "cell_type": "code",
   "execution_count": null,
   "id": "c590f34a",
   "metadata": {},
   "outputs": [],
   "source": [
    "automl.fit(X, y,task=\"regression\",metric='rmse',time_budget=60*5*1)# 5mins"
   ]
  },
  {
   "cell_type": "markdown",
   "id": "17f4ace0",
   "metadata": {},
   "source": [
    "[](http://)"
   ]
  },
  {
   "cell_type": "code",
   "execution_count": null,
   "id": "59b5f85d",
   "metadata": {},
   "outputs": [],
   "source": [
    "print('Best ML leaner:', automl.best_estimator)\n",
    "print('Best hyperparmeter config:', automl.best_config)\n",
    "print('Best rmse on validation data: {0:.4g}'.format(automl.best_loss))\n",
    "print('Training duration of best run: {0:.4g} s'.format(automl.best_config_train_time))"
   ]
  },
  {
   "cell_type": "code",
   "execution_count": null,
   "id": "6c42995c",
   "metadata": {},
   "outputs": [],
   "source": [
    "test = pd.read_csv(\"../input/tabular-playground-series-aug-2021/test.csv\")\n",
    "print(f'len : {len(test)}')\n",
    "test.head()"
   ]
  },
  {
   "cell_type": "code",
   "execution_count": null,
   "id": "307077f3",
   "metadata": {},
   "outputs": [],
   "source": [
    "total_len = len(test)\n",
    "average_values = test.mean(numeric_only=True)\n",
    "test = test.fillna(average_values)\n",
    "print(f'training exemples : {len(test)},  {(1-len(test)/total_len)*100:.1f} % data not NaN')\n",
    "test.head()"
   ]
  },
  {
   "cell_type": "code",
   "execution_count": null,
   "id": "60833a03",
   "metadata": {},
   "outputs": [],
   "source": [
    "from sklearn.metrics import mean_absolute_error\n",
    "import pickle\n",
    "# 保存模型\n",
    "with open(\"./automl_v2.pkl\", \"wb\") as f:\n",
    "    pickle.dump(automl, f, pickle.HIGHEST_PROTOCOL)\n",
    " \n",
    "# 加载模型并预测\n",
    "with open(\"./automl_v2.pkl\", \"rb\") as f:\n",
    "    automl = pickle.load(f)\n",
    "    \n",
    "X_test = test.drop([\"id\"],axis=1)\n",
    "pred = automl.predict(X_test)\n",
    "\n",
    "test[\"loss\"] = pred\n",
    "test.head()"
   ]
  },
  {
   "cell_type": "code",
   "execution_count": null,
   "id": "08357ecb",
   "metadata": {},
   "outputs": [],
   "source": [
    "test.index.name = 'id'"
   ]
  },
  {
   "cell_type": "code",
   "execution_count": null,
   "id": "0d729690",
   "metadata": {},
   "outputs": [],
   "source": [
    "submission = pd.DataFrame(\n",
    "    {'id':test[\"id\"] ,\n",
    "     'loss': test[\"loss\"]},columns=['id', 'loss'])"
   ]
  },
  {
   "cell_type": "code",
   "execution_count": null,
   "id": "d11a8291",
   "metadata": {},
   "outputs": [],
   "source": [
    "submission.to_csv(\"submission.csv\", index=False)\n",
    "submission.head(10)"
   ]
  }
 ],
 "metadata": {},
 "nbformat": 4,
 "nbformat_minor": 5
}
