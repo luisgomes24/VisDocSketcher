{
 "cells": [
  {
   "cell_type": "markdown",
   "id": "82e0f740",
   "metadata": {},
   "source": [
    "## Introduction\r\n",
    "Greetings from the Kaggle bot! This is an automatically-generated kernel with starter code demonstrating how to read in the data and begin exploring. If you're inspired to dig deeper, click the blue \"Fork Notebook\" button at the top of this kernel to begin editing."
   ]
  },
  {
   "cell_type": "markdown",
   "id": "a6a7b787",
   "metadata": {},
   "source": [
    "## Exploratory Analysis\r\n",
    "To begin this exploratory analysis, first import libraries and define functions for plotting the data using `matplotlib`. Depending on the data, not all plots will be made. (Hey, I'm just a simple kerneling bot, not a Kaggle Competitions Grandmaster!)"
   ]
  },
  {
   "cell_type": "code",
   "execution_count": null,
   "id": "34cc017a",
   "metadata": {},
   "outputs": [],
   "source": [
    "from mpl_toolkits.mplot3d import Axes3D\r\n",
    "from sklearn.preprocessing import StandardScaler\r\n",
    "import matplotlib.pyplot as plt # plotting\r\n",
    "import numpy as np # linear algebra\r\n",
    "import os # accessing directory structure\r\n",
    "import pandas as pd # data processing, CSV file I/O (e.g. pd.read_csv)\r\n"
   ]
  },
  {
   "cell_type": "markdown",
   "id": "1aefc5c7",
   "metadata": {},
   "source": [
    "There is 0 csv file in the current version of the dataset:\n"
   ]
  },
  {
   "cell_type": "code",
   "execution_count": null,
   "id": "fd23c916",
   "metadata": {},
   "outputs": [],
   "source": [
    "print(os.listdir('../input'))"
   ]
  },
  {
   "cell_type": "markdown",
   "id": "fe8c515b",
   "metadata": {},
   "source": [
    "The next hidden code cells define functions for plotting data. Click on the \"Code\" button in the published kernel to reveal the hidden code."
   ]
  },
  {
   "cell_type": "code",
   "execution_count": null,
   "id": "02526037",
   "metadata": {},
   "outputs": [],
   "source": [
    "# Histogram of column data\r\n",
    "def plotHistogram(df, nHistogramShown, nHistogramPerRow):\n",
    "    nunique = df.nunique()\r\n",
    "    df = df[[col for col in df if nunique[col] > 1 and nunique[col] < 50]] # For displaying purposes, pick columns that have between 1 and 50 unique values\r\n",
    "    nRow, nCol = df.shape\r\n",
    "    columnNames = list(df)\r\n",
    "    nHistRow = (nCol + nHistogramPerRow - 1) / nHistogramPerRow\r\n",
    "    plt.figure(num=None, figsize=(6*nHistogramPerRow, 8*nHistRow), dpi=80, facecolor='w', edgecolor='k')\n",
    "    for i in range(min(nCol, nHistogramShown)):\r\n",
    "        plt.subplot(nHistRow, nHistogramPerRow, i+1)\r\n",
    "        df.iloc[:,i].hist()\r\n",
    "        plt.ylabel('counts')\r\n",
    "        plt.xticks(rotation=90)\r\n",
    "        plt.title(f'{columnNames[i]} (column {i})')\r\n",
    "    plt.tight_layout(pad=1.0, w_pad=1.0, h_pad=1.0)\r\n",
    "    plt.show()\r\n"
   ]
  },
  {
   "cell_type": "code",
   "execution_count": null,
   "id": "8717e2db",
   "metadata": {},
   "outputs": [],
   "source": [
    "# Correlation matrix\r\n",
    "def plotCorrelationMatrix(df, graphWidth):\n",
    "    filename = df.dataframeName\r\n",
    "    df = df.dropna('columns') # drop columns with NaN\r\n",
    "    df = df[[col for col in df if df[col].nunique() > 1]] # keep columns where there are more than 1 unique values\r\n",
    "    if df.shape[1] < 2:\r\n",
    "        print(f'No correlation plots shown: The number of non-NaN or constant columns ({df.shape[1]}) is less than 2')\r\n",
    "        return\r\n",
    "    corr = df.corr()\r\n",
    "    plt.figure(num=None, figsize=(graphWidth, graphWidth), dpi=80, facecolor='w', edgecolor='k')\r\n",
    "    corrMat = plt.matshow(corr, fignum = 1)\r\n",
    "    plt.xticks(range(len(corr.columns)), corr.columns, rotation=90)\r\n",
    "    plt.yticks(range(len(corr.columns)), corr.columns)\r\n",
    "    plt.gca().xaxis.tick_bottom()\r\n",
    "    plt.colorbar(corrMat)\r\n",
    "    plt.title(f'Correlation Matrix for {filename}', fontsize=15)\r\n",
    "    plt.show()\r\n"
   ]
  },
  {
   "cell_type": "code",
   "execution_count": null,
   "id": "b88b2dd8",
   "metadata": {},
   "outputs": [],
   "source": [
    "# Scatter and density plots\r\n",
    "def plotScatterMatrix(df, plotSize, textSize):\n",
    "    df = df.select_dtypes(include =[np.number]) # keep only numerical columns\r\n",
    "    # Remove rows and columns that would lead to df being singular\r\n",
    "    df = df.dropna('columns')\r\n",
    "    df = df[[col for col in df if df[col].nunique() > 1]] # keep columns where there are more than 1 unique values\r\n",
    "    columnNames = list(df)\r\n",
    "    if len(columnNames) > 10: # reduce the number of columns for matrix inversion of kernel density plots\n",
    "        columnNames = columnNames[:10]\n",
    "    df = df[columnNames]\r\n",
    "    ax = pd.plotting.scatter_matrix(df, alpha=0.75, figsize=[plotSize, plotSize], diagonal='kde')\r\n",
    "    corrs = df.corr().values\r\n",
    "    for i, j in zip(*plt.np.triu_indices_from(ax, k = 1)):\r\n",
    "        ax[i, j].annotate('Corr. coef = %.3f' % corrs[i, j], (0.8, 0.2), xycoords='axes fraction', ha='center', va='center', size=textSize)\r\n",
    "    plt.suptitle('Scatter and Density Plot')\r\n",
    "    plt.show()\r\n"
   ]
  },
  {
   "cell_type": "markdown",
   "id": "73521299",
   "metadata": {},
   "source": [
    "Oh, no! There are no automatic insights available for the file types used in this dataset. As your Kaggle kerneler bot, I'll keep working to fine-tune my hyper-parameters. In the meantime, please feel free to try a different dataset."
   ]
  },
  {
   "cell_type": "markdown",
   "id": "5b761e12",
   "metadata": {},
   "source": [
    "## Conclusion\r\n",
    "This concludes your starter analysis! To go forward from here, click the blue \"Fork Notebook\" button at the top of this kernel. This will create a copy of the code and environment for you to edit. Delete, modify, and add code as you please. Happy Kaggling!"
   ]
  }
 ],
 "metadata": {},
 "nbformat": 4,
 "nbformat_minor": 5
}
