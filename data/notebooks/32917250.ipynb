{
 "cells": [
  {
   "cell_type": "markdown",
   "id": "babf8eb8",
   "metadata": {},
   "source": [
    "# **Background**"
   ]
  },
  {
   "cell_type": "markdown",
   "id": "90e50835",
   "metadata": {},
   "source": [
    "According to the WHO, breast cancer is the most commonly occurring cancer worldwide. In 2020 alone, there were 2.3 million new breast cancer diagnoses and 685,000 deaths. Regular mammograms (mammogram is the low-dose x-rays of the breast) is the process which can helps to detect breast cancer at its early stage, followed by other methodologies like ultrasounds, other imaging tests and biopsies. \n",
    "Depending on the patient's condition, the mammography test price ranges from Rs. 800 and could go up to Rs. 3000 in India. Currently, screening mammography systems are expensive to operate since early diagnosis of breast cancer necessitates the expertise of highly trained human observers. This issue will probably get worse due to an impending scarcity of radiologists in various countries. A high prevalence of false positive results is another side effect of mammography screening. This may lead to unwarranted concern, difficult follow-up care, further imaging tests, and occasionally the requirement for tissue sampling (often a needle biopsy). "
   ]
  },
  {
   "cell_type": "markdown",
   "id": "e857f1d8",
   "metadata": {},
   "source": [
    "# Goal of the Competition"
   ]
  },
  {
   "cell_type": "markdown",
   "id": "2e8e8884",
   "metadata": {},
   "source": [
    "The objective of this challenge is to create a model to identify breast cancer from screening mammograms received from routine screening."
   ]
  },
  {
   "cell_type": "markdown",
   "id": "47efc329",
   "metadata": {},
   "source": [
    "## Required Libraries"
   ]
  },
  {
   "cell_type": "code",
   "execution_count": null,
   "id": "00fcd16c",
   "metadata": {},
   "outputs": [],
   "source": [
    "import numpy as np\n",
    "import pandas as pd\n",
    "import seaborn as sns\n",
    "import matplotlib.pyplot as plt\n",
    "%matplotlib inline\n",
    "import missingno as msno\n",
    "import plotly_express as px\n",
    "import pydicom as dicom\n",
    "from pydicom import dcmread\n"
   ]
  },
  {
   "cell_type": "markdown",
   "id": "3c28cbfa",
   "metadata": {},
   "source": [
    "## Loading the Dataset"
   ]
  },
  {
   "cell_type": "code",
   "execution_count": null,
   "id": "d258dc2a",
   "metadata": {},
   "outputs": [],
   "source": [
    "Train_data = pd.read_csv('/kaggle/input/rsna-breast-cancer-detection/train.csv')\n",
    "Test_data = pd.read_csv('/kaggle/input/rsna-breast-cancer-detection/test.csv')"
   ]
  },
  {
   "cell_type": "code",
   "execution_count": null,
   "id": "b1c3f336",
   "metadata": {},
   "outputs": [],
   "source": [
    "Train_data.head()"
   ]
  },
  {
   "cell_type": "markdown",
   "id": "a1b19c23",
   "metadata": {},
   "source": [
    "## Data Description"
   ]
  },
  {
   "cell_type": "markdown",
   "id": "cd468b62",
   "metadata": {},
   "source": [
    "| Attributes | Details | \n",
    "| --- | --- |\n",
    "| site_id | ID code for the source hospital. | \n",
    "| patient_id | ID code for the patient. | \n",
    "| image_id | ID code for the image. | \n",
    "| laterality | Whether the image is of the left or right breast. | \n",
    "| view | The orientation of the image. The default for a screening exam is to capture two views per breast. | \n",
    "| age | The patient's age in years. | \n",
    "| implant | Whether or not the patient had breast implants. Site 1 only provides breast implant information at the patient level, not at the breast level. | \n",
    "| density | A rating for how dense the breast tissue is, with A being the least dense and D being the most dense. Extremely dense tissue can make diagnosis more difficult. | \n",
    "| machine_id | An ID code for the imaging device. | \n",
    "| cancer | Whether or not the breast was positive for cancer. The target value. Only provided for train. |\n",
    "| biopsy | Whether or not a follow-up biopsy was performed on the breast. Only provided for train. |\n",
    "| invasive | If the breast is positive for cancer, whether or not the cancer proved to be invasive. Only provided for train. |\n",
    "| BIRADS | Breast Imaging Reporting & Data System output. 0 if the breast required follow-up, 1 if the breast was rated as negative for cancer, and 2 if the breast was rated as normal. Only provided for train. |\n",
    "| prediction_id | The ID for the matching submission row. Multiple images will share the same prediction ID. Test only. |\n",
    "| difficult_negative_case | True if the case was unusually difficult. Only provided for train. | "
   ]
  },
  {
   "cell_type": "markdown",
   "id": "56afeea1",
   "metadata": {},
   "source": [
    "## Data Inspection"
   ]
  },
  {
   "cell_type": "code",
   "execution_count": null,
   "id": "a55e51e8",
   "metadata": {},
   "outputs": [],
   "source": [
    "print('Train Dataset')\n",
    "print('Number of ROWs:', Train_data.shape[0], '\\nNumber of COLOUMNs:', Train_data.shape[1])\n",
    "print('---------------------------------------------------------------------------')\n",
    "print('Test Dataset')\n",
    "print('Number of ROWs:', Test_data.shape[0], '\\nNumber of COLOUMNs:', Test_data.shape[1])"
   ]
  },
  {
   "cell_type": "code",
   "execution_count": null,
   "id": "113bab34",
   "metadata": {},
   "outputs": [],
   "source": [
    "print('Number of unique patients:',Train_data.patient_id.nunique())\n",
    "print('Number of unique machine_id:',Train_data.machine_id.nunique())\n",
    "# print('Average mammogram for each patient:',Train_data.groupby(\"patient_id\")[\"image_id\"].agg(\"count\").reset_index()[\"image_id\"].mean())"
   ]
  },
  {
   "cell_type": "code",
   "execution_count": null,
   "id": "3c149a18",
   "metadata": {},
   "outputs": [],
   "source": [
    "Train_data.info()"
   ]
  },
  {
   "cell_type": "code",
   "execution_count": null,
   "id": "105b6a87",
   "metadata": {},
   "outputs": [],
   "source": [
    "Train_data.describe().T"
   ]
  },
  {
   "cell_type": "code",
   "execution_count": null,
   "id": "59435c25",
   "metadata": {},
   "outputs": [],
   "source": [
    "msno.bar(Train_data,figsize=(20, 5),fontsize=12)\n",
    "plt.grid()"
   ]
  },
  {
   "cell_type": "code",
   "execution_count": null,
   "id": "31354501",
   "metadata": {},
   "outputs": [],
   "source": [
    "dups = Train_data.duplicated()\n",
    "print('Total no of duplicate values in dataset = %d' % (dups.sum()))\n",
    "\n",
    "Train_data[dups]"
   ]
  },
  {
   "cell_type": "code",
   "execution_count": null,
   "id": "fed98caf",
   "metadata": {},
   "outputs": [],
   "source": [
    "plt.figure(figsize = (22,7))\n",
    "plt.subplot(1,2,1)\n",
    "sns.countplot(x = Train_data.BIRADS)\n",
    "plt.xticks(np.arange(3), ['Required follow-up', 'Negative for cancer','Rated as normal'], fontsize=12)\n",
    "plt.xlabel('Breast Imaging Reporting & Data System Output', fontsize=12)\n",
    "plt.ylabel('Count', fontsize=12)\n",
    "\n",
    "plt.subplot(1,2,2)\n",
    "sns.boxplot(x = Train_data.cancer, y = Train_data.age, data = Train_data) \n",
    "plt.xticks(np.arange(2), ['Negative', 'Positive'], fontsize=12)\n",
    "plt.xlabel('Breast Cancer', fontsize=12)\n",
    "plt.ylabel('Age', fontsize=12)\n",
    "plt.show()"
   ]
  },
  {
   "cell_type": "code",
   "execution_count": null,
   "id": "2cbf2329",
   "metadata": {},
   "outputs": [],
   "source": [
    "plt.figure(figsize = (24,5))\n",
    "plt.subplot(1,3,1)\n",
    "sns.countplot(x = Train_data.cancer)\n",
    "plt.xticks(np.arange(2), ['Negative', 'Positive'], fontsize=12)\n",
    "plt.xlabel('Breast Cancer', fontsize=12)\n",
    "plt.ylabel('Count', fontsize=12)\n",
    "plt.subplot(1,3,2)\n",
    "sns.countplot(x = Train_data.biopsy)\n",
    "plt.xticks(np.arange(2), ['Performed', 'Not Performed'], fontsize=12)\n",
    "plt.xlabel('Follow-up Biopsy', fontsize=12)\n",
    "plt.ylabel('Count', fontsize=12)\n",
    "plt.subplot(1,3,3)\n",
    "sns.countplot(x = Train_data.invasive)\n",
    "plt.xticks(np.arange(2), ['Yes', 'No'], fontsize=12)\n",
    "plt.xlabel('Invesive Breast Cancer', fontsize=12)\n",
    "plt.ylabel('Count', fontsize=12)\n",
    "plt.show()"
   ]
  },
  {
   "cell_type": "code",
   "execution_count": null,
   "id": "83b4bd64",
   "metadata": {},
   "outputs": [],
   "source": [
    "Train_data.groupby(['cancer','implant','invasive'])['cancer'].count()"
   ]
  },
  {
   "cell_type": "code",
   "execution_count": null,
   "id": "a64b91c8",
   "metadata": {},
   "outputs": [],
   "source": [
    "nan"
   ]
  },
  {
   "cell_type": "markdown",
   "id": "06ad0f09",
   "metadata": {},
   "source": [
    "Next will explore on image data"
   ]
  },
  {
   "cell_type": "code",
   "execution_count": null,
   "id": "d1413018",
   "metadata": {},
   "outputs": [],
   "source": [
    "nan"
   ]
  }
 ],
 "metadata": {},
 "nbformat": 4,
 "nbformat_minor": 5
}
