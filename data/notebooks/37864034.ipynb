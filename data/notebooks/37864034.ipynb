{
 "cells": [
  {
   "cell_type": "markdown",
   "id": "cb3ede21",
   "metadata": {},
   "source": [
    "# Import Libraries"
   ]
  },
  {
   "cell_type": "code",
   "execution_count": null,
   "id": "98ae59b9",
   "metadata": {},
   "outputs": [],
   "source": [
    "!pip install dtreeviz"
   ]
  },
  {
   "cell_type": "code",
   "execution_count": null,
   "id": "9f707f20",
   "metadata": {},
   "outputs": [],
   "source": [
    "import numpy as np \n",
    "import pandas as pd \n",
    "import seaborn as sns\n",
    "import dtreeviz\n",
    "import pickle\n",
    "import matplotlib.pyplot as plt\n",
    "from sklearn.model_selection import train_test_split\n",
    "from sklearn.tree import plot_tree\n",
    "from sklearn.linear_model import LogisticRegression\n",
    "from sklearn.tree import DecisionTreeClassifier\n",
    "from sklearn.ensemble import RandomForestClassifier\n",
    "from sklearn.metrics import precision_score, recall_score, accuracy_score, f1_score, confusion_matrix, ConfusionMatrixDisplay, classification_report\n",
    "\n",
    "import os\n",
    "for dirname, _, filenames in os.walk('/kaggle/input'):\n",
    "    for filename in filenames:\n",
    "        print(os.path.join(dirname, filename))\n",
    "import warnings\n",
    "warnings.filterwarnings(\"ignore\")"
   ]
  },
  {
   "cell_type": "markdown",
   "id": "b3a84fad",
   "metadata": {},
   "source": [
    "# Load Data"
   ]
  },
  {
   "cell_type": "code",
   "execution_count": null,
   "id": "6253c0a3",
   "metadata": {},
   "outputs": [],
   "source": [
    "df = pd.read_csv('/kaggle/input/heart-attack-analysis-prediction-dataset/heart.csv')"
   ]
  },
  {
   "cell_type": "code",
   "execution_count": null,
   "id": "dba082dc",
   "metadata": {},
   "outputs": [],
   "source": [
    "df.head(10)"
   ]
  },
  {
   "cell_type": "markdown",
   "id": "a8118722",
   "metadata": {},
   "source": [
    "# Data Visualization"
   ]
  },
  {
   "cell_type": "code",
   "execution_count": null,
   "id": "cd928eb6",
   "metadata": {},
   "outputs": [],
   "source": [
    "df.info()"
   ]
  },
  {
   "cell_type": "code",
   "execution_count": null,
   "id": "4ed3d4a3",
   "metadata": {},
   "outputs": [],
   "source": [
    "df.isnull().sum()"
   ]
  },
  {
   "cell_type": "code",
   "execution_count": null,
   "id": "ce9793a3",
   "metadata": {},
   "outputs": [],
   "source": [
    "df.describe().T"
   ]
  },
  {
   "cell_type": "code",
   "execution_count": null,
   "id": "51d2d966",
   "metadata": {},
   "outputs": [],
   "source": [
    "sns.heatmap(df.isnull())"
   ]
  },
  {
   "cell_type": "code",
   "execution_count": null,
   "id": "3abd947b",
   "metadata": {},
   "outputs": [],
   "source": [
    "df.plot()"
   ]
  },
  {
   "cell_type": "code",
   "execution_count": null,
   "id": "0c82532e",
   "metadata": {},
   "outputs": [],
   "source": [
    "sns.histplot(data=df, x='age', bins=40, color='blue')"
   ]
  },
  {
   "cell_type": "code",
   "execution_count": null,
   "id": "c4ec5482",
   "metadata": {},
   "outputs": [],
   "source": [
    "women=df.loc[df.sex==0]\n",
    "w=len(women)"
   ]
  },
  {
   "cell_type": "code",
   "execution_count": null,
   "id": "c946b0ec",
   "metadata": {},
   "outputs": [],
   "source": [
    "men=df.loc[df.sex==1]\n",
    "m=len(men)"
   ]
  },
  {
   "cell_type": "code",
   "execution_count": null,
   "id": "299e3676",
   "metadata": {},
   "outputs": [],
   "source": [
    "total=len(df['sex'])"
   ]
  },
  {
   "cell_type": "code",
   "execution_count": null,
   "id": "700c188e",
   "metadata": {},
   "outputs": [],
   "source": [
    "rate_women=(w/total)*100\n",
    "rate_men=(m/total)*100"
   ]
  },
  {
   "cell_type": "code",
   "execution_count": null,
   "id": "7bf095e0",
   "metadata": {},
   "outputs": [],
   "source": [
    "p=[rate_women, rate_men]\n",
    "labels=['Women Percentage', 'Men Percenatge']\n",
    "plt.pie(p, labels=labels, autopct='%3.f%%')"
   ]
  },
  {
   "cell_type": "code",
   "execution_count": null,
   "id": "80174bb6",
   "metadata": {},
   "outputs": [],
   "source": [
    "plt.figure(figsize=(25,10))\n",
    "sns.heatmap(df.corr(), annot=True)"
   ]
  },
  {
   "cell_type": "code",
   "execution_count": null,
   "id": "e58ca153",
   "metadata": {},
   "outputs": [],
   "source": [
    "sns.pairplot(df, hue='output')"
   ]
  },
  {
   "cell_type": "code",
   "execution_count": null,
   "id": "044b533d",
   "metadata": {},
   "outputs": [],
   "source": [
    "x = df.iloc[:, :13]\n",
    "x"
   ]
  },
  {
   "cell_type": "code",
   "execution_count": null,
   "id": "e872b971",
   "metadata": {},
   "outputs": [],
   "source": [
    "x = x.values\n",
    "x"
   ]
  },
  {
   "cell_type": "code",
   "execution_count": null,
   "id": "66f403b6",
   "metadata": {},
   "outputs": [],
   "source": [
    "y = df.iloc[:, -1]\n",
    "y"
   ]
  },
  {
   "cell_type": "code",
   "execution_count": null,
   "id": "1da3d161",
   "metadata": {},
   "outputs": [],
   "source": [
    "y = y.values\n",
    "y"
   ]
  },
  {
   "cell_type": "markdown",
   "id": "1919534f",
   "metadata": {},
   "source": [
    "# Train & Test Splitting the Data"
   ]
  },
  {
   "cell_type": "code",
   "execution_count": null,
   "id": "87e14694",
   "metadata": {},
   "outputs": [],
   "source": [
    "x_train, x_test, y_train, y_test = train_test_split(x, y, test_size=0.2, random_state=1)"
   ]
  },
  {
   "cell_type": "markdown",
   "id": "7f45e2f6",
   "metadata": {},
   "source": [
    "# Function to Measure Performance"
   ]
  },
  {
   "cell_type": "code",
   "execution_count": null,
   "id": "a2e3abb8",
   "metadata": {},
   "outputs": [],
   "source": [
    "def perform(y_pred):\n",
    "    print(\"Precision : \", precision_score(y_test, y_pred))\n",
    "    print(\"Recall : \", recall_score(y_test, y_pred))\n",
    "    print(\"Accuracy : \", accuracy_score(y_test, y_pred))\n",
    "    print(\"F1 Score : \", f1_score(y_test, y_pred))\n",
    "    print('')\n",
    "    print(confusion_matrix(y_test, y_pred), '\\n')\n",
    "    cm = ConfusionMatrixDisplay(confusion_matrix=confusion_matrix(y_test, y_pred))\n",
    "    cm.plot()"
   ]
  },
  {
   "cell_type": "markdown",
   "id": "19eb371e",
   "metadata": {},
   "source": [
    "# Logistic Regression"
   ]
  },
  {
   "cell_type": "code",
   "execution_count": null,
   "id": "87348071",
   "metadata": {},
   "outputs": [],
   "source": [
    "model_lr = LogisticRegression()\n",
    "model_lr.fit(x_train, y_train)"
   ]
  },
  {
   "cell_type": "code",
   "execution_count": null,
   "id": "c50202a8",
   "metadata": {},
   "outputs": [],
   "source": [
    "y_pred_lr = model_lr.predict(x_test)"
   ]
  },
  {
   "cell_type": "code",
   "execution_count": null,
   "id": "e72b4e0c",
   "metadata": {},
   "outputs": [],
   "source": [
    "perform(y_pred_lr)"
   ]
  },
  {
   "cell_type": "code",
   "execution_count": null,
   "id": "5af9dd34",
   "metadata": {},
   "outputs": [],
   "source": [
    "print(classification_report(y_test, y_pred_lr))"
   ]
  },
  {
   "cell_type": "markdown",
   "id": "ac9a3b97",
   "metadata": {},
   "source": [
    "# Decision Tree "
   ]
  },
  {
   "cell_type": "code",
   "execution_count": null,
   "id": "fa3cdd9b",
   "metadata": {},
   "outputs": [],
   "source": [
    "model_dt = DecisionTreeClassifier()\n",
    "model_dt.fit(x_train, y_train)"
   ]
  },
  {
   "cell_type": "code",
   "execution_count": null,
   "id": "e63b505e",
   "metadata": {},
   "outputs": [],
   "source": [
    "y_pred_dt = model_lr.predict(x_test)"
   ]
  },
  {
   "cell_type": "code",
   "execution_count": null,
   "id": "24687be5",
   "metadata": {},
   "outputs": [],
   "source": [
    "perform(y_pred_dt)"
   ]
  },
  {
   "cell_type": "code",
   "execution_count": null,
   "id": "b50db717",
   "metadata": {},
   "outputs": [],
   "source": [
    "print(classification_report(y_test, y_pred_dt))"
   ]
  },
  {
   "cell_type": "code",
   "execution_count": null,
   "id": "95210974",
   "metadata": {},
   "outputs": [],
   "source": [
    "filename = 'Heart_Attack_Prediction_DT.h5'\n",
    "pickle.dump(model_dt, open(filename, 'wb'))"
   ]
  },
  {
   "cell_type": "code",
   "execution_count": null,
   "id": "2fa7ec0d",
   "metadata": {},
   "outputs": [],
   "source": [
    "feature_names = df.columns[0:13]\n",
    "viz = df.copy()\n",
    "viz[\"output\"]=viz[\"output\"].values.astype(str)\n",
    "print(viz.dtypes)\n",
    "target_names = viz['output'].unique().tolist()"
   ]
  },
  {
   "cell_type": "code",
   "execution_count": null,
   "id": "ca235a51",
   "metadata": {},
   "outputs": [],
   "source": [
    "target_names"
   ]
  },
  {
   "cell_type": "code",
   "execution_count": null,
   "id": "fefd9074",
   "metadata": {},
   "outputs": [],
   "source": [
    "plt.figure(figsize=(25, 20))\n",
    "plot_tree(model_dt, feature_names = feature_names, class_names = target_names, filled = True, rounded = False)\n",
    "plt.savefig('tree_visualization.png')"
   ]
  },
  {
   "cell_type": "markdown",
   "id": "b5467869",
   "metadata": {},
   "source": [
    "# Random Forest "
   ]
  },
  {
   "cell_type": "code",
   "execution_count": null,
   "id": "9364d137",
   "metadata": {},
   "outputs": [],
   "source": [
    "model_rf = RandomForestClassifier(n_estimators = 10, criterion = 'entropy', random_state = 0)\n",
    "model_rf.fit(x_train, y_train)"
   ]
  },
  {
   "cell_type": "code",
   "execution_count": null,
   "id": "178d9a65",
   "metadata": {},
   "outputs": [],
   "source": [
    "y_pred_rf = model_rf.predict(x_test)"
   ]
  },
  {
   "cell_type": "code",
   "execution_count": null,
   "id": "9f9866eb",
   "metadata": {},
   "outputs": [],
   "source": [
    "perform(y_pred_rf)"
   ]
  },
  {
   "cell_type": "code",
   "execution_count": null,
   "id": "6a5f666e",
   "metadata": {},
   "outputs": [],
   "source": [
    "print(classification_report(y_test, y_pred_rf))"
   ]
  }
 ],
 "metadata": {},
 "nbformat": 4,
 "nbformat_minor": 5
}
