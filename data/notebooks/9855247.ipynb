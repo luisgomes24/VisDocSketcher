{
 "cells": [
  {
   "cell_type": "markdown",
   "id": "bf18f975",
   "metadata": {},
   "source": [
    "# COVID-19 - Pandemic in Morocco! \n",
    "   Coronavirus is a family of viruses that are named after their spiky crown. The novel coronavirus, also known as SARS-CoV-2, is a contagious respiratory virus that first reported in Wuhan, China. On 2/11/2020, the World Health Organization designated the name COVID-19 for the disease caused by the novel coronavirus. This notebook aims at exploring COVID-19 in Morocco through data analysis and projections.\n",
    "   Morocco reacted decisively to the threat of Covid-19 pandemic, declared a state of emergency, and imposed a strict one-month curfew on 20 March and extended it until 20 May 2020 and added 20 day until 10 Juin. The Moroccan authorities implemented several measures to control the spread of the virus.\n",
    "Here some important dates and news :\n",
    "\n",
    "* 02 March 2020 Health ministry confirms first COVID-19 case \n",
    "* 10 March 2020 Government suspends all travel to Italy \n",
    "* 10 March 2020 Government confirms first COVID-19 fatality\n",
    "* 15 March 2020 Government suspends all international travel \n",
    "* 15 March 2020 Morocco Suspends School Amid Coronavirus Fears\n",
    "* 19 March 2020 Government declares state of emergency \n",
    "* 21 March 2020 Intercity transport suspended \n",
    "* 07 April 2020 Face masks required in the public space \n",
    "* 27 April 2020 Government introduces Ramadan overnight curfew until May 20\n",
    "* 19 May 2020 Authorities extend state of emergency and nationwide lockdown to June 10\n",
    "* 10 Juin 2020 Authorities extend state of emergency to July 10\n",
    "* 10 Juin 2020 Restrictions to be eased in some provinces from June 11\n",
    "\n",
    "References :\n",
    "*  [GARDAWORLD](https://www.garda.com/crisis24/histoire-complete-alerte-de-securite/NctzfWdtzBiz43uLt/morocco-royal-air-maroc-suspends-flights-to-mainland-china-due-to-novel-coronavirus-as-of-january-31)\n",
    "* [Morocco World news](https://www.moroccoworldnews.com/2020/03/296119/morocco-suspends-school-amid-coronavirus-fears/)\n",
    "* [ALZAJEERA CENTER OF STUDIES](https://studies.aljazeera.net/en/reports/how-arab-states-take-coronavirus-morocco-case-study)\n",
    "\n",
    "\n",
    "![](https://i.ibb.co/6JHC2vc/c-OVID-TEMPLATE-EVOUTION2.png)\n",
    "\n",
    "\n",
    "\n",
    "> STAY HOME, STAY SAFE!\n",
    "\n",
    " Last update: 12/06/2020 4:24 PM "
   ]
  },
  {
   "cell_type": "markdown",
   "id": "e82990fd",
   "metadata": {},
   "source": [
    "# Part 1: Analysing the present condition in Morocco"
   ]
  },
  {
   "cell_type": "markdown",
   "id": "606a8d46",
   "metadata": {},
   "source": [
    "Importing libraries "
   ]
  },
  {
   "cell_type": "code",
   "execution_count": null,
   "id": "1b0bc4d1",
   "metadata": {},
   "outputs": [],
   "source": [
    "\n",
    "import numpy as np \n",
    "import pandas as pd \n",
    "pd.plotting.register_matplotlib_converters()\n",
    "import matplotlib.pyplot as plt\n",
    "#%matplotlib inline\n",
    "import seaborn as sns\n",
    "import datetime as dt\n",
    "\n",
    "import os\n",
    "for dirname, _, filenames in os.walk('/kaggle/input'):\n",
    "    for filename in filenames:\n",
    "        print(os.path.join(dirname, filename))\n",
    "\n",
    "print('Setup Complete')"
   ]
  },
  {
   "cell_type": "markdown",
   "id": "9b9be665",
   "metadata": {},
   "source": [
    "\n",
    "Import the data"
   ]
  },
  {
   "cell_type": "code",
   "execution_count": null,
   "id": "e7ca075e",
   "metadata": {},
   "outputs": [],
   "source": [
    "my_filepath = '../input/moroccocoronavirus/corona_morocco.csv'\n",
    "my_data = pd.read_csv(my_filepath)"
   ]
  },
  {
   "cell_type": "markdown",
   "id": "c24f380b",
   "metadata": {},
   "source": [
    "\n",
    "Convert Date collumn into datetime for better visualization"
   ]
  },
  {
   "cell_type": "code",
   "execution_count": null,
   "id": "41d6baab",
   "metadata": {},
   "outputs": [],
   "source": [
    "my_data['Date']=[dt.datetime.strptime(x,'%d/%m/%Y') for x in my_data['Date'] ]"
   ]
  },
  {
   "cell_type": "markdown",
   "id": "7e1f2941",
   "metadata": {},
   "source": [
    "A quick look to what we have "
   ]
  },
  {
   "cell_type": "code",
   "execution_count": null,
   "id": "791b6317",
   "metadata": {},
   "outputs": [],
   "source": [
    "# Print the first five rows of the data\n",
    "my_data.head()"
   ]
  },
  {
   "cell_type": "markdown",
   "id": "276cb289",
   "metadata": {},
   "source": [
    "Replacing missing Values with the value 0"
   ]
  },
  {
   "cell_type": "code",
   "execution_count": null,
   "id": "c4005339",
   "metadata": {},
   "outputs": [],
   "source": [
    "my_data = my_data.fillna(0) "
   ]
  },
  {
   "cell_type": "markdown",
   "id": "1e9e5db8",
   "metadata": {},
   "source": [
    "Setting Date column as index"
   ]
  },
  {
   "cell_type": "code",
   "execution_count": null,
   "id": "af1d2ec0",
   "metadata": {},
   "outputs": [],
   "source": [
    "my_data = my_data.set_index('Date')\n",
    "\n",
    "my_data.head()"
   ]
  },
  {
   "cell_type": "markdown",
   "id": "3afcfe97",
   "metadata": {},
   "source": [
    "Adding actif case and total tests per day to the dataset\n"
   ]
  },
  {
   "cell_type": "code",
   "execution_count": null,
   "id": "eecd00d5",
   "metadata": {},
   "outputs": [],
   "source": [
    "actif_column= my_data['Confirmed'] - my_data['Recovered'] - my_data['Deaths']\n",
    "total_test_perDay = my_data['Confirmed'] + my_data['Excluded']\n",
    "my_data['Actif'] = actif_column\n",
    "my_data['Total Test'] = total_test_perDay\n"
   ]
  },
  {
   "cell_type": "markdown",
   "id": "350c604b",
   "metadata": {},
   "source": [
    "Graphing the number of confirmed cases and recoveries."
   ]
  },
  {
   "cell_type": "code",
   "execution_count": null,
   "id": "ec15364a",
   "metadata": {},
   "outputs": [],
   "source": [
    "\n",
    "plt.figure(figsize=(10,5))\n",
    "sns.lineplot(data = my_data['Confirmed'],label='Confirmed')\n",
    "sns.lineplot(data = my_data['Recovered'],label='Recovered')\n",
    "plt.xlabel('Date')\n",
    "plt.ylabel('Total number')\n",
    "plt.title('Graph chart of confirmed and recovered cases in Morocco')\n",
    "\n",
    "plt.legend()"
   ]
  },
  {
   "cell_type": "markdown",
   "id": "cae43d15",
   "metadata": {},
   "source": [
    "Repartition of new cases for rows 14 and 15 Avril  on region are not available and that will affect our analysis \n"
   ]
  },
  {
   "cell_type": "code",
   "execution_count": null,
   "id": "65ec8b3a",
   "metadata": {},
   "outputs": [],
   "source": [
    "\n",
    "my_data['2020-04-13':'2020-04-16']"
   ]
  },
  {
   "cell_type": "markdown",
   "id": "20c81903",
   "metadata": {},
   "source": [
    "the optimal solution for the missing datas in this example is to **drop them out**.\n"
   ]
  },
  {
   "cell_type": "code",
   "execution_count": null,
   "id": "f4e6ee3c",
   "metadata": {},
   "outputs": [],
   "source": [
    "my_data_ori = my_data.copy() # later we will need all Confirmed,Death and Recovered collumns for all date uncluding 14,15 April\n",
    "\n",
    "my_data = my_data[my_data.index != '2020-04-14']\n",
    "my_data = my_data[my_data.index != '2020-04-15']"
   ]
  },
  {
   "cell_type": "markdown",
   "id": "0fbd34f6",
   "metadata": {},
   "source": [
    "Daily increases of total test "
   ]
  },
  {
   "cell_type": "code",
   "execution_count": null,
   "id": "cda02a5b",
   "metadata": {},
   "outputs": [],
   "source": [
    "plt.figure(figsize=(10,5))\n",
    "sns.lineplot(data = my_data['Total Test'],label='Total Test')\n",
    "plt.xlabel('Date')\n",
    "plt.ylabel('Number of tests')\n"
   ]
  },
  {
   "cell_type": "markdown",
   "id": "9c0b655a",
   "metadata": {},
   "source": [
    "Correlation between number of tests per day and the new confirmed cases\n"
   ]
  },
  {
   "cell_type": "code",
   "execution_count": null,
   "id": "19fccbd8",
   "metadata": {},
   "outputs": [],
   "source": [
    "plt.figure(figsize=(10,5))\n",
    "sns.regplot(x = my_data['Total Test'],y = my_data['Confirmed'])"
   ]
  },
  {
   "cell_type": "markdown",
   "id": "1413e19e",
   "metadata": {},
   "source": [
    "Graphing the evolution of total cases per regions"
   ]
  },
  {
   "cell_type": "code",
   "execution_count": null,
   "id": "95015708",
   "metadata": {},
   "outputs": [],
   "source": [
    "# Selecting regions\n",
    "Regions1 = ['Beni Mellal-Khenifra',\n",
    "       'Casablanca-Settat', 'Draa-Tafilalet', 'Dakhla-Oued Ed-Dahab',\n",
    "       'Fes-Meknes', 'Laayoune-Sakia El Hamra','Guelmim-Oued Noun', 'Laayoune-Sakia El Hamra',\n",
    "       'Marrakesh-Safi', 'Oriental', 'Rabat-Sale-Kenitra', 'Souss-Massa','Tanger-Tetouan-Al Hoceima']\n",
    "\n",
    "\n",
    "plt.figure(figsize=(14,8))\n",
    "sns.lineplot(data = my_data[Regions1],dashes=False)\n",
    "plt.text('2020-05-10', 2250, 'Casabalanca-Settat', fontsize=12,color='#ff4500')\n",
    "plt.text('2020-05-12', 1350, 'Marrakesh-Safi', fontsize=12,color='#4682B4')\n",
    "plt.text('2020-05-10', 1100, 'Tanger-Tetouan-Al Hoceima', fontsize=10,color='#FF69B4')\n",
    "plt.title('Total cases evolution per region',fontsize = 20)"
   ]
  },
  {
   "cell_type": "code",
   "execution_count": null,
   "id": "d3819f83",
   "metadata": {},
   "outputs": [],
   "source": [
    "region_bar = my_data.iloc[[-1]].transpose()\n",
    "region_bar = region_bar.drop(['Confirmed','Recovered','Deaths','Excluded','Actif','Total Test'])\n",
    "region_bar.columns=['Total cases']\n",
    "region_bar.index.name = 'Regions'\n",
    "plt.figure(figsize=(20,6))\n",
    "sns.barplot(x=region_bar.index,y='Total cases',data=region_bar)\n",
    "plt.title('Total case per region',fontsize=20)"
   ]
  },
  {
   "cell_type": "markdown",
   "id": "9dff0295",
   "metadata": {},
   "source": [
    "Graphing actif cases \n",
    "> > NB : the red vertical lines represents the lockdown periods"
   ]
  },
  {
   "cell_type": "code",
   "execution_count": null,
   "id": "8bc03f3e",
   "metadata": {},
   "outputs": [],
   "source": [
    "plt.figure(figsize=(14,8))\n",
    "sns.lineplot(data = my_data['Actif'],label='Acif')\n",
    "plt.axvline('2020-03-20',ls = '--',c = 'r')\n",
    "plt.axvline('2020-04-20',ls = '--',c = 'r')\n",
    "plt.axvline('2020-05-20',ls = '--',c = 'r')\n",
    "plt.axvline('2020-06-10',ls = '--',c = 'g')\n",
    "plt.text('2020-03-21', 1500, 'Lockdown', fontsize=12,color='#FF0000')\n",
    "plt.text('2020-04-21', 1500, 'Lockdown extended', fontsize=12,color='#FF0000')\n",
    "plt.text('2020-05-21', 1500, 'Lockdown extended', fontsize=12,color='#FF0000')\n",
    "plt.text('2020-06-11', 1500, 'Lockdown End', fontsize=12,color='#00FA00')\n",
    "plt.xlabel('Date')\n",
    "plt.ylabel('Total actif cases')\n",
    "plt.title('Actif cases ')\n",
    "plt.legend()"
   ]
  },
  {
   "cell_type": "markdown",
   "id": "100a5838",
   "metadata": {},
   "source": [
    "Pourcentage of Actif,death and recovered cases per day"
   ]
  },
  {
   "cell_type": "code",
   "execution_count": null,
   "id": "bca8c94b",
   "metadata": {},
   "outputs": [],
   "source": [
    "# getting the data that we want to plot\n",
    "plt.figure(figsize=(15,5))\n",
    "dataVar1 =(my_data_ori['Actif']*100/my_data_ori['Confirmed'])[15:]\n",
    "dataVar3 =(my_data_ori['Deaths']*100/my_data_ori['Confirmed'])[15:]\n",
    "dataVar2 =(my_data_ori['Recovered']*100/my_data_ori['Confirmed'])[15:]\n",
    "\n",
    "\n",
    "# plot each data\n",
    "p1 = plt.bar(dataVar1.index, \n",
    "             dataVar1,label='Actif')\n",
    "\n",
    "p2 = plt.bar(dataVar2.index, \n",
    "             dataVar2,\n",
    "             bottom=dataVar1,color='g',label='Recovered')\n",
    "\n",
    "p3 = plt.bar(dataVar3.index,\n",
    "             dataVar3,\n",
    "             bottom=dataVar1+dataVar2,color='r',label='Deaths')\n",
    "\n",
    "plt.xlabel('Date')\n",
    "plt.ylabel('Pourcentage %')\n",
    "plt.title('Pourcentage of distribution of cases')\n",
    "plt.legend()"
   ]
  },
  {
   "cell_type": "markdown",
   "id": "e4888903",
   "metadata": {},
   "source": [
    "Graphing total cases per regions"
   ]
  },
  {
   "cell_type": "code",
   "execution_count": null,
   "id": "84688a34",
   "metadata": {},
   "outputs": [],
   "source": [
    "\n",
    "plt.figure(figsize=(25,10))\n",
    "\n",
    "BM = my_data['Beni Mellal-Khenifra']\n",
    "CS = my_data['Casablanca-Settat']\n",
    "DT = my_data['Draa-Tafilalet']\n",
    "DO = my_data['Dakhla-Oued Ed-Dahab']\n",
    "FM = my_data['Fes-Meknes']\n",
    "GO = my_data['Guelmim-Oued Noun']\n",
    "LS = my_data['Laayoune-Sakia El Hamra']\n",
    "MS = my_data['Marrakesh-Safi']\n",
    "Or = my_data['Oriental']\n",
    "RS = my_data['Rabat-Sale-Kenitra']\n",
    "SM = my_data['Souss-Massa']\n",
    "TT = my_data['Tanger-Tetouan-Al Hoceima']\n",
    "\n",
    "ax1 = plt.subplot(4, 3, 1)\n",
    "sns.lineplot(data = BM,label='Beni Mellal-Khenifra')\n",
    "ax2 = plt.subplot(4, 3, 2)\n",
    "sns.lineplot(data = CS,label='Casablanca-settat')\n",
    "ax3 = plt.subplot(4, 3, 3)\n",
    "sns.lineplot(data = DT,label='Draa-Tafilalet')\n",
    "ax4 = plt.subplot(4, 3, 4)\n",
    "sns.lineplot(data = DO,label='Dakhla-Oued Ed Dahab')\n",
    "ax5 = plt.subplot(4, 3, 5)\n",
    "sns.lineplot(data = FM,label='Fes-Meknes')\n",
    "ax6 = plt.subplot(4, 3, 6)\n",
    "sns.lineplot(data = GO,label='Guelmim Oued Noun')\n",
    "ax7 = plt.subplot(4, 3, 7)\n",
    "sns.lineplot(data = LS,label='Laayoune Sakia El Hamra')\n",
    "ax8 = plt.subplot(4, 3, 8)\n",
    "sns.lineplot(data = MS,label='Marakesh Safi')\n",
    "ax9 = plt.subplot(4, 3, 9)\n",
    "sns.lineplot(data = Or,label='Rabat Sale Kenitra')\n",
    "ax10 = plt.subplot(4, 3, 10)\n",
    "sns.lineplot(data = RS,label='Souss Massa')\n",
    "ax11 = plt.subplot(4, 3, 11)\n",
    "sns.lineplot(data = SM,label='Acif')\n",
    "ax12 = plt.subplot(4, 3, 12)\n",
    "sns.lineplot(data = TT,label='Tanger Tetouane Al Hoceima')\n"
   ]
  },
  {
   "cell_type": "markdown",
   "id": "b0edbc43",
   "metadata": {},
   "source": [
    "Pie Chart of total cases per region"
   ]
  },
  {
   "cell_type": "code",
   "execution_count": null,
   "id": "a852f363",
   "metadata": {},
   "outputs": [],
   "source": [
    "plt.figure(figsize=(16,8))\n",
    "Slice = [my_data['Beni Mellal-Khenifra'][-1],my_data['Casablanca-Settat'][-1],my_data['Draa-Tafilalet'][-1],\n",
    "        my_data['Dakhla-Oued Ed-Dahab'][-1],my_data['Fes-Meknes'][-1],my_data['Guelmim-Oued Noun'][-1],\n",
    "        my_data['Rabat-Sale-Kenitra'][-1],my_data['Souss-Massa'][-1],my_data['Tanger-Tetouan-Al Hoceima'][-1],\n",
    "        my_data['Laayoune-Sakia El Hamra'][-1],my_data['Marrakesh-Safi'][-1],my_data['Oriental'][-1]]\n",
    "Labels = ['Beni Mellal-Khenifra','Casablanca-Settat','Draa-Tafilalet','Dakhla-Oued Ed-Dahab','Fes-Meknes',\n",
    "         'Guelmim-Oued Noun','Rabat-Sale-Kenitra','Souss-Massa','Tanger-Tetouan-Al Hoceima','Laayoune-Sakia El Hamra',\n",
    "         'Marrakesh-Safi','Oriental']\n",
    "Colors = ['#f78fA7','#EE204D','#FF7538','#1F75FE','#4CB7A5','#1CAC78','#FCE833', '#926EAE', '#828E84' ,\n",
    "          '#000000', '#008080','#808080']\n",
    "Explode = [0,0,0,0,0,0,0,0,0,0,0,0]\n",
    "plt.pie(Slice,colors = Colors,explode = Explode,shadow = True,autopct='%1.1f%%',\n",
    "        labels = Labels,wedgeprops = {'edgecolor':'white'})\n",
    "\n",
    "\n",
    "plt.title('Pie Chart of Total cases per region')\n"
   ]
  },
  {
   "cell_type": "code",
   "execution_count": null,
   "id": "47ab3d87",
   "metadata": {},
   "outputs": [],
   "source": [
    "my_data"
   ]
  },
  {
   "cell_type": "markdown",
   "id": "1f36ae3f",
   "metadata": {},
   "source": [
    "**Casablanca-Settat,Tanger-Tetouan Al Hoceima ,Marrakesh Safi have the greatest values of the total cases, because of the comercial,industrial and familial epicenter, especially for the cities of Casablanca and Tangier that represent the  largest industrial zones in Morocco.**"
   ]
  },
  {
   "cell_type": "markdown",
   "id": "f0f26a8a",
   "metadata": {},
   "source": [
    "# Part 2: Forecasting Total Number of Cases - Deaths and Confirmed Cases"
   ]
  },
  {
   "cell_type": "markdown",
   "id": "6f3300f5",
   "metadata": {},
   "source": [
    "Prophet is open source software released by Facebook’s Core Data Science team. It is available for download on CRAN and PyPI.\n",
    "\n",
    "We use Prophet, a procedure for forecasting time series data based on an additive model where non-linear trends are fit with yearly, weekly, and daily seasonality, plus holiday effects. It works best with time series that have strong seasonal effects and several seasons of historical data. Prophet is robust to missing data and shifts in the trend, and typically handles outliers well. "
   ]
  },
  {
   "cell_type": "markdown",
   "id": "522a3990",
   "metadata": {},
   "source": [
    "Importing prophet\n"
   ]
  },
  {
   "cell_type": "code",
   "execution_count": null,
   "id": "e8133951",
   "metadata": {},
   "outputs": [],
   "source": [
    "from fbprophet import Prophet"
   ]
  },
  {
   "cell_type": "code",
   "execution_count": null,
   "id": "a6214592",
   "metadata": {},
   "outputs": [],
   "source": [
    "total_Deaths = my_data['Deaths']\n",
    "total_Confirmed = my_data['Confirmed']\n",
    "total_Recovered = my_data['Recovered']\n",
    "mortaloty_rate = 100*total_Deaths/total_Confirmed"
   ]
  },
  {
   "cell_type": "code",
   "execution_count": null,
   "id": "50586527",
   "metadata": {},
   "outputs": [],
   "source": [
    "# Adding a new daily cases column to our data\n",
    "new_cases = []\n",
    "for i in range(len(total_Confirmed)):\n",
    "    if i == 0:\n",
    "        new_cases.append(0)\n",
    "    elif total_Confirmed[i] < total_Confirmed[i-1]:\n",
    "        new_cases.append(0)\n",
    "    else:\n",
    "        temp = int(total_Confirmed[i] - total_Confirmed[i-1])\n",
    "        new_cases.append(temp)\n",
    "    \n",
    "new_cases = np.array(new_cases)\n",
    "my_data['New cases'] = new_cases"
   ]
  },
  {
   "cell_type": "code",
   "execution_count": null,
   "id": "706699f3",
   "metadata": {},
   "outputs": [],
   "source": [
    "df = pd.DataFrame(my_data['New cases'])\n",
    "df.style.background_gradient(cmap='Reds')"
   ]
  },
  {
   "cell_type": "code",
   "execution_count": null,
   "id": "95badb8e",
   "metadata": {},
   "outputs": [],
   "source": [
    "# Hands of plotly to visualise the current situation\n",
    "\n",
    "import plotly.express as px\n",
    "import plotly.graph_objects as go\n",
    "\n",
    "\n",
    "fig = px.bar(my_data, x=my_data.index, y=\"New cases\", color='New cases', orientation='v', height=600,\n",
    "             title='Confirmed Cases in Morocco', color_discrete_sequence = px.colors.cyclical.IceFire)\n",
    "fig.show()\n",
    "\n",
    "fig = go.Figure()\n",
    "fig.add_trace(go.Scatter(x=my_data.index, y = my_data['Confirmed'], mode= 'lines+markers',name='Total Cases'))\n",
    "fig.add_trace(go.Scatter(x=my_data.index, y = my_data['Recovered'], mode='lines+markers',name='Recovered',line=dict(color='Green', width=2)))\n",
    "fig.add_trace(go.Scatter(x=my_data.index, y=my_data['Deaths'], mode='lines+markers', name='Deaths', line=dict(color='Red', width=2)))\n",
    "fig.update_layout(title_text='Trend of Coronavirus Cases in Morocco (Cumulative cases)',plot_bgcolor='rgb(230, 230, 230)')\n",
    "\n",
    "fig.show()\n",
    "\n",
    "fig = go.Figure()\n",
    "fig.add_trace(go.Scatter(x=my_data.index, y = my_data['Actif'], mode= 'lines+markers',name='Total Cases'))\n",
    "fig.update_layout(title_text='Trend of Actif Coronavirus Cases in Morocco ',plot_bgcolor='rgb(230, 230, 230)')\n",
    "fig.show()"
   ]
  },
  {
   "cell_type": "markdown",
   "id": "df0f950b",
   "metadata": {},
   "source": [
    "# 1. Predecting the trend of confirmed cases in the next 10 Days"
   ]
  },
  {
   "cell_type": "markdown",
   "id": "d5ef0cbd",
   "metadata": {},
   "source": [
    "The input to Prophet is always a dataframe with two columns: ds and y. The ds (datestamp) column should be of a format expected by Pandas, ideally YYYY-MM-DD for a date or YYYY-MM-DD HH:MM:SS for a timestamp. The y column must be numeric, and represents the measurement we wish to forecast"
   ]
  },
  {
   "cell_type": "code",
   "execution_count": null,
   "id": "527ec182",
   "metadata": {},
   "outputs": [],
   "source": [
    "confirmed = my_data.groupby('Date').sum()['Confirmed'].reset_index()\n",
    "\n",
    "confirmed.columns = ['ds','y']"
   ]
  },
  {
   "cell_type": "markdown",
   "id": "d07ce96a",
   "metadata": {},
   "source": [
    "Generating a 10 days ahead forecast of confirmed cases  using Prophet, with 95% prediction interval by creating a base model with no tweaking of seasonality-related parameters and additional regressors."
   ]
  },
  {
   "cell_type": "code",
   "execution_count": null,
   "id": "51badf79",
   "metadata": {},
   "outputs": [],
   "source": [
    "m = Prophet(interval_width=0.95)\n",
    "m.fit(confirmed)\n",
    "future = m.make_future_dataframe(periods=10)\n",
    "future.tail(10)"
   ]
  },
  {
   "cell_type": "code",
   "execution_count": null,
   "id": "c7027a0f",
   "metadata": {},
   "outputs": [],
   "source": [
    "#predicting the future with date, and upper and lower limit of y value\n",
    "forecast = m.predict(future)\n",
    "forecast[['ds', 'yhat', 'yhat_lower', 'yhat_upper']].tail()"
   ]
  },
  {
   "cell_type": "code",
   "execution_count": null,
   "id": "e86f9edc",
   "metadata": {},
   "outputs": [],
   "source": [
    "\n",
    "fig = go.Figure()\n",
    "fig.add_trace(go.Scatter(x=forecast.ds, y = abs(forecast['yhat'].round()), mode= 'lines+markers',name='Predicted daily cases'))\n",
    "fig.add_trace(go.Scatter(x=forecast.ds, y = abs(forecast['yhat_lower'].round()), mode= 'markers',name='Predicted daily cases yhat_lower'))\n",
    "fig.add_trace(go.Scatter(x=forecast.ds, y = abs(forecast['yhat_upper'].round()), mode= 'markers',name='Predicted daily cases yhat_upper'))\n",
    "\n",
    "fig.add_trace(go.Scatter(x=my_data.index, y = my_data['Confirmed'], mode= 'lines+markers',name='Daily cases'))"
   ]
  },
  {
   "cell_type": "markdown",
   "id": "4fc35934",
   "metadata": {},
   "source": [
    "The model predict more new cases in Morocco and it will get worse with the end of restrictions in some provinces"
   ]
  },
  {
   "cell_type": "markdown",
   "id": "275fdecc",
   "metadata": {},
   "source": [
    "# 2. Predicting the new daily cases"
   ]
  },
  {
   "cell_type": "code",
   "execution_count": null,
   "id": "67180fd8",
   "metadata": {},
   "outputs": [],
   "source": [
    "new_cases = my_data.groupby('Date').sum()['New cases'].reset_index()\n",
    "new_cases.columns = ['ds','y']"
   ]
  },
  {
   "cell_type": "code",
   "execution_count": null,
   "id": "0ee0ade8",
   "metadata": {},
   "outputs": [],
   "source": [
    "m_1 = Prophet(interval_width=0.95)\n",
    "m_1.fit(new_cases)\n",
    "future_1 = m_1.make_future_dataframe(periods=10)\n",
    "future_1.tail()"
   ]
  },
  {
   "cell_type": "code",
   "execution_count": null,
   "id": "b257d029",
   "metadata": {},
   "outputs": [],
   "source": [
    "forecast_1 = m_1.predict(future_1)\n",
    "forecast_1[['ds', 'yhat', 'yhat_lower', 'yhat_upper']].tail()"
   ]
  },
  {
   "cell_type": "code",
   "execution_count": null,
   "id": "957463bc",
   "metadata": {},
   "outputs": [],
   "source": [
    "\n",
    "fig = go.Figure()\n",
    "fig.add_trace(go.Scatter(x=forecast_1.ds, y = abs(forecast_1['yhat'].round()), mode= 'lines+markers',name='Predicted daily cases'))\n",
    "\n",
    "fig.add_trace(go.Scatter(x=my_data.index, y = my_data['New cases'], mode= 'lines+markers',name='Daily cases'))"
   ]
  },
  {
   "cell_type": "markdown",
   "id": "2fa9b13b",
   "metadata": {},
   "source": [
    "As shown the model predict a stable daily cases for the next 10 days.\n"
   ]
  },
  {
   "cell_type": "markdown",
   "id": "9a7f1730",
   "metadata": {},
   "source": [
    "# 3. Predicting the total deaths"
   ]
  },
  {
   "cell_type": "code",
   "execution_count": null,
   "id": "f30b3b57",
   "metadata": {},
   "outputs": [],
   "source": [
    "deaths = my_data.groupby('Date').sum()['Deaths'].reset_index()\n",
    "deaths.columns = ['ds','y']"
   ]
  },
  {
   "cell_type": "code",
   "execution_count": null,
   "id": "81922d5b",
   "metadata": {},
   "outputs": [],
   "source": [
    "m_2 = Prophet(interval_width=0.95)\n",
    "m_2.fit(deaths)\n",
    "future_2 = m_2.make_future_dataframe(periods=10)\n",
    "future_2.tail()"
   ]
  },
  {
   "cell_type": "code",
   "execution_count": null,
   "id": "0708ae70",
   "metadata": {},
   "outputs": [],
   "source": [
    "forecast_2 = m_2.predict(future_2)\n",
    "forecast_2[['ds', 'yhat', 'yhat_lower', 'yhat_upper']].tail()"
   ]
  },
  {
   "cell_type": "code",
   "execution_count": null,
   "id": "4909afe1",
   "metadata": {},
   "outputs": [],
   "source": [
    "\n",
    "fig = go.Figure()\n",
    "fig.add_trace(go.Scatter(x=forecast_2.ds, y = abs(forecast_2['yhat'].round()), mode= 'lines+markers',name='Predicted total deaths'))\n",
    "\n",
    "fig.add_trace(go.Scatter(x=my_data.index, y = my_data['Deaths'], mode= 'lines+markers',name='Daily cases'))"
   ]
  },
  {
   "cell_type": "markdown",
   "id": "9a36dd0c",
   "metadata": {},
   "source": [
    "![](https://i.pinimg.com/originals/0d/60/9f/0d609f75fa434c08ea210397644981fa.png)"
   ]
  }
 ],
 "metadata": {},
 "nbformat": 4,
 "nbformat_minor": 5
}
