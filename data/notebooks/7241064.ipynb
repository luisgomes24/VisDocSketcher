{
 "cells": [
  {
   "cell_type": "code",
   "execution_count": null,
   "id": "5c357b17",
   "metadata": {},
   "outputs": [],
   "source": [
    "%matplotlib inline\n",
    "!pip install yellowbrick"
   ]
  },
  {
   "cell_type": "markdown",
   "id": "8b9a0885",
   "metadata": {},
   "source": [
    "# Introduction\n",
    "This notebook explores using dummy classifiers from SK-learn in order to sanity check models.  The dummy classifiers use simple rules to make preditions which are expected to perform poorly.  The validation scores from these methods can be used as a baseline to determine if a model is actually performing well or if it is getting good results by luck and the underlying distribution of the data.  "
   ]
  },
  {
   "cell_type": "code",
   "execution_count": null,
   "id": "4f4bda12",
   "metadata": {},
   "outputs": [],
   "source": [
    "# This Python 3 environment comes with many helpful analytics libraries installed\n",
    "# It is defined by the kaggle/python docker image: https://github.com/kaggle/docker-python\n",
    "# For example, here's several helpful packages to load in \n",
    "import numpy as np # linear algebra\n",
    "import pandas as pd # data processing, CSV file I/O (e.g. pd.read_csv)\n",
    "import sklearn\n",
    "from sklearn.dummy import DummyClassifier\n",
    "import matplotlib.pyplot as plt\n",
    "from yellowbrick.target import class_balance\n",
    "from yellowbrick.classifier import ClassificationReport, class_prediction_error, roc_auc\n",
    "\n",
    "input_path = '/kaggle/input/iris-flower-dataset/IRIS.csv'\n",
    "iris_df = pd.read_csv(input_path, index_col=False)\n",
    "X = iris_df.drop('species', axis=1)\n",
    "y = iris_df['species']\n"
   ]
  },
  {
   "cell_type": "code",
   "execution_count": null,
   "id": "1bb70c20",
   "metadata": {},
   "outputs": [],
   "source": [
    "visualizer = class_balance(y)"
   ]
  },
  {
   "cell_type": "markdown",
   "id": "823042d3",
   "metadata": {},
   "source": [
    "# Establish baseline performance"
   ]
  },
  {
   "cell_type": "code",
   "execution_count": null,
   "id": "494d181d",
   "metadata": {},
   "outputs": [],
   "source": [
    "baseline_clf = DummyClassifier(strategy='stratified', random_state=42)\n",
    "clf_report = ClassificationReport(baseline_clf, support=\"count\")\n",
    "clf_report.fit(X, y)\n",
    "clf_report.score(X, y)\n",
    "clf_report.finalize()"
   ]
  },
  {
   "cell_type": "code",
   "execution_count": null,
   "id": "c175e167",
   "metadata": {},
   "outputs": [],
   "source": [
    "clf_error = class_prediction_error(baseline_clf, X, y)"
   ]
  },
  {
   "cell_type": "code",
   "execution_count": null,
   "id": "c2401c76",
   "metadata": {},
   "outputs": [],
   "source": [
    "auc = roc_auc(baseline_clf, X, y)"
   ]
  },
  {
   "cell_type": "code",
   "execution_count": null,
   "id": "e02bedc0",
   "metadata": {},
   "outputs": [],
   "source": [
    "baseline_clf.score(X, y)"
   ]
  },
  {
   "cell_type": "code",
   "execution_count": null,
   "id": "c94f5054",
   "metadata": {},
   "outputs": [],
   "source": [
    "nan"
   ]
  }
 ],
 "metadata": {},
 "nbformat": 4,
 "nbformat_minor": 5
}
