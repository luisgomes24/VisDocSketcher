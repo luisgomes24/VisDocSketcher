{
 "cells": [
  {
   "cell_type": "code",
   "execution_count": null,
   "id": "0b97661f",
   "metadata": {},
   "outputs": [],
   "source": [
    "import numpy as np # linear algebra\n",
    "import pandas as pd # data processing, CSV file I/O (e.g. pd.read_csv)\n",
    "\n",
    "\n",
    "import os\n",
    "print(os.listdir(\"../input\"))"
   ]
  },
  {
   "cell_type": "code",
   "execution_count": null,
   "id": "e73b90a7",
   "metadata": {},
   "outputs": [],
   "source": [
    "#Load data\n",
    "train_df = pd.read_csv('../input/train.csv')\n",
    "test_df = pd.read_csv('../input/test.csv')"
   ]
  },
  {
   "cell_type": "code",
   "execution_count": null,
   "id": "23129b8f",
   "metadata": {},
   "outputs": [],
   "source": [
    "train_features = train_df.drop(['target','ID_code'], axis = 1)\n",
    "test_features = test_df.drop(['ID_code'],axis = 1)\n",
    "train_target = train_df['target']"
   ]
  },
  {
   "cell_type": "code",
   "execution_count": null,
   "id": "8e02ef10",
   "metadata": {},
   "outputs": [],
   "source": [
    "train_all = pd.concat([train_features,test_features], axis = 0)"
   ]
  },
  {
   "cell_type": "code",
   "execution_count": null,
   "id": "b5eb9ecb",
   "metadata": {},
   "outputs": [],
   "source": [
    "for f in train_all.columns[0:200]:\n",
    "    train_all[f+'duplicate'] = train_all.duplicated(f,False).astype(int)"
   ]
  },
  {
   "cell_type": "code",
   "execution_count": null,
   "id": "2b232c01",
   "metadata": {},
   "outputs": [],
   "source": [
    "train_features = train_all.iloc[:len(train_target)]\n",
    "test_features = train_all.iloc[len(train_target):len(train_all)]"
   ]
  },
  {
   "cell_type": "code",
   "execution_count": null,
   "id": "a25e249a",
   "metadata": {},
   "outputs": [],
   "source": [
    "test_features['count_total_all']=test_features[test_features.columns[200:400]].sum(axis=1)\n",
    "fake_data = test_features[test_features['count_total_all']==200]\n",
    "real_data = test_features[test_features['count_total_all']!=200]"
   ]
  },
  {
   "cell_type": "code",
   "execution_count": null,
   "id": "bb97ef25",
   "metadata": {},
   "outputs": [],
   "source": [
    "np.save('index_of_fake_data.npy',np.array(fake_data.index))\n",
    "np.save('index_of_real_data.npy',np.array(real_data.index))"
   ]
  },
  {
   "cell_type": "code",
   "execution_count": null,
   "id": "d1e9435a",
   "metadata": {},
   "outputs": [],
   "source": [
    "nan"
   ]
  }
 ],
 "metadata": {},
 "nbformat": 4,
 "nbformat_minor": 5
}
