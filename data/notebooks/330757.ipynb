{
 "cells": [
  {
   "cell_type": "markdown",
   "id": "a3359694",
   "metadata": {},
   "source": [
    "In this Kernel I am going to provide you with a detailed analysys of the **Emergency (911) Calls: Fire, Traffic, EMS for Montgomery County,** PA  dataset\n"
   ]
  },
  {
   "cell_type": "code",
   "execution_count": null,
   "id": "61f2e1b2",
   "metadata": {},
   "outputs": [],
   "source": [
    "# This Python 3 environment comes with many helpful analytics libraries installed\n",
    "# It is defined by the kaggle/python docker image: htt in \n",
    "\n",
    "import numpy as np # linear algebra\n",
    "import pandas as pd # data processing, CSV file I/O (e.g. pd.read_csv)\n",
    "from subprocess import check_output\n",
    "print(check_output([\"ls\", \"../input\"]).decode(\"utf8\"))"
   ]
  },
  {
   "cell_type": "code",
   "execution_count": null,
   "id": "e5b14e08",
   "metadata": {},
   "outputs": [],
   "source": [
    "df = pd.read_csv('../input/911.csv')\n",
    "df.head()"
   ]
  },
  {
   "cell_type": "code",
   "execution_count": null,
   "id": "c6beee81",
   "metadata": {},
   "outputs": [],
   "source": [
    "cardiac_arrest=df[(df.title=='EMS: CARDIAC ARREST')| \n",
    "                  (df.title=='Fire: CARDIAC EMERGENCY')]\n",
    "cardiac_arrest.shape"
   ]
  },
  {
   "cell_type": "code",
   "execution_count": null,
   "id": "7055499e",
   "metadata": {},
   "outputs": [],
   "source": [
    "import matplotlib.pyplot as plt\n",
    "fig, ax = plt.subplots(ncols=1, nrows=1,figsize=(12,10))\n",
    "plt.ylim(39.8, 40.6)\n",
    "plt.xlim(-75.8,-74.9)\n",
    "ax.scatter(df['lng'],df['lat'], s=0.1, alpha=0.4)\n",
    "plt.show()"
   ]
  },
  {
   "cell_type": "markdown",
   "id": "208360ac",
   "metadata": {},
   "source": [
    "## Fire Calls"
   ]
  },
  {
   "cell_type": "code",
   "execution_count": null,
   "id": "fc515610",
   "metadata": {},
   "outputs": [],
   "source": [
    "fire=df[df.title.str.contains('Fire')]\n",
    "fig, ax = plt.subplots(ncols=1, nrows=1,figsize=(12,10))\n",
    "plt.ylim(39.8, 40.6)\n",
    "plt.xlim(-75.8,-74.9)\n",
    "ax.scatter(fire['lng'],fire['lat'], s=0.1, alpha=0.4,color='red')\n",
    "plt.show()"
   ]
  },
  {
   "cell_type": "code",
   "execution_count": null,
   "id": "4bf9611c",
   "metadata": {},
   "outputs": [],
   "source": [
    "import seaborn as sns\n",
    "fig, ax = plt.subplots(ncols=1, nrows=1,figsize=(12,10))\n",
    "fire_hist = fire.groupby('title')['e'].count().sort_values(ascending=False)\n",
    "bp = sns.barplot(x=fire_hist[0:20].index,y = fire_hist[0:20].values)\n",
    "plt.xticks(rotation=90)\n",
    "plt.show()"
   ]
  },
  {
   "cell_type": "markdown",
   "id": "1cd16c1e",
   "metadata": {},
   "source": [
    "## EMS Calls"
   ]
  },
  {
   "cell_type": "code",
   "execution_count": null,
   "id": "d13a9e2b",
   "metadata": {},
   "outputs": [],
   "source": [
    "ems=df[df.title.str.contains('EMS')]\n",
    "fig, ax = plt.subplots(ncols=1, nrows=1,figsize=(12,10))\n",
    "plt.ylim(39.8, 40.6)\n",
    "plt.xlim(-75.8,-74.9)\n",
    "ax.scatter(ems['lng'],ems['lat'], s=0.1, alpha=0.4,color='purple')\n",
    "plt.show()"
   ]
  },
  {
   "cell_type": "code",
   "execution_count": null,
   "id": "5aee86a3",
   "metadata": {},
   "outputs": [],
   "source": [
    "import seaborn as sns\n",
    "fig, ax = plt.subplots(ncols=1, nrows=1,figsize=(12,10))\n",
    "hist = ems.groupby('title')['e'].count().sort_values(ascending=False)\n",
    "bp = sns.barplot(x=hist[0:20].index,y = hist[0:20].values)\n",
    "plt.xticks(rotation=90)\n",
    "plt.show()"
   ]
  },
  {
   "cell_type": "markdown",
   "id": "88f50585",
   "metadata": {},
   "source": [
    "## Traffic Calls"
   ]
  },
  {
   "cell_type": "code",
   "execution_count": null,
   "id": "57f3a027",
   "metadata": {},
   "outputs": [],
   "source": [
    "traffic=df[df.title.str.contains('Traffic')]\n",
    "fig, ax = plt.subplots(ncols=1, nrows=1,figsize=(12,10))\n",
    "plt.ylim(39.8, 40.6)\n",
    "plt.xlim(-75.8,-74.9)\n",
    "ax.scatter(traffic['lng'],traffic['lat'], s=0.1, alpha=1,color='gray')\n",
    "plt.show()"
   ]
  },
  {
   "cell_type": "code",
   "execution_count": null,
   "id": "c5722eb7",
   "metadata": {},
   "outputs": [],
   "source": [
    "import seaborn as sns\n",
    "fig, ax = plt.subplots(ncols=1, nrows=1,figsize=(12,10))\n",
    "hist = traffic.groupby('title')['e'].count().sort_values(ascending=False)\n",
    "bp = sns.barplot(x=hist[0:20].index,y = hist[0:20].values)\n",
    "plt.xticks(rotation=90)\n",
    "plt.show()"
   ]
  },
  {
   "cell_type": "code",
   "execution_count": null,
   "id": "f77f14f6",
   "metadata": {},
   "outputs": [],
   "source": [
    "nan"
   ]
  }
 ],
 "metadata": {},
 "nbformat": 4,
 "nbformat_minor": 5
}
