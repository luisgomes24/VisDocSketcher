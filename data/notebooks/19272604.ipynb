{
 "cells": [
  {
   "cell_type": "markdown",
   "id": "49be3088",
   "metadata": {},
   "source": [
    "# Porto Seguro Data Challenge\n",
    "---\n",
    "\n",
    "## Definição do Problema\n",
    "\n",
    "**Objetivo**: \"Nessa competição você será desafiado a construir um modelo que prediz a probabilidade de aquisição de um produto.\"\n",
    "\n",
    "\n",
    "Obs.: Segundo a descrição, a medida utilizada como critério de avaliação será a F1 e a medida Sensibilidade como critério para desempate\n",
    "\n",
    "<p style=\"color:red\">Se gostou não esqueça do voto! 🤘</p>"
   ]
  },
  {
   "cell_type": "markdown",
   "id": "af82c460",
   "metadata": {},
   "source": [
    "<div class=\"alert alert-warning\"> \n",
    "<h3><strong>⚠️ Atenção! <br></strong> </h3>\n",
    "    \n",
    "<p style=\"color: rgb(0, 0, 0);\">No futuro este notebook pode ser alterado pois tanto as features <b>categóricas</b> quanto os valores <b>faltantes</b> não tiveram nenhum tratamento especial nessas análises!</p>\n",
    "</div>"
   ]
  },
  {
   "cell_type": "markdown",
   "id": "e0808512",
   "metadata": {},
   "source": [
    "# Carregar dependências\n",
    "---"
   ]
  },
  {
   "cell_type": "code",
   "execution_count": null,
   "id": "2f5c0fb0",
   "metadata": {},
   "outputs": [],
   "source": [
    "!pip install sweetviz"
   ]
  },
  {
   "cell_type": "code",
   "execution_count": null,
   "id": "94abc24e",
   "metadata": {},
   "outputs": [],
   "source": [
    "import sweetviz as sv\n",
    "\n",
    "import pandas as pd\n",
    "import numpy as np\n",
    "\n",
    "from random import uniform\n",
    "\n",
    "from sklearn.feature_selection import mutual_info_classif\n",
    "from sklearn.feature_selection import VarianceThreshold\n",
    "from mlxtend.feature_selection import ExhaustiveFeatureSelector\n",
    "from mlxtend.feature_selection import SequentialFeatureSelector\n",
    "from sklearn.feature_selection import SelectFromModel\n",
    "from sklearn.feature_selection import RFECV\n",
    "from boruta import BorutaPy\n",
    "\n",
    "from sklearn.ensemble import RandomForestClassifier\n",
    "from sklearn.linear_model import LogisticRegression\n",
    "from sklearn.tree import DecisionTreeClassifier"
   ]
  },
  {
   "cell_type": "code",
   "execution_count": null,
   "id": "fb5996fa",
   "metadata": {},
   "outputs": [],
   "source": [
    "train = pd.read_csv('../input/porto-seguro-data-challenge/train.csv').drop(['id'], axis=1)\n",
    "test = pd.read_csv('../input/porto-seguro-data-challenge/test.csv').drop(['id'], axis=1)\n",
    "sample_submission = pd.read_csv('../input/porto-seguro-data-challenge/submission_sample.csv')\n",
    "meta = pd.read_csv('../input/porto-seguro-data-challenge/metadata.csv')"
   ]
  },
  {
   "cell_type": "code",
   "execution_count": null,
   "id": "253b9ccf",
   "metadata": {},
   "outputs": [],
   "source": [
    "cat_nom = [x for x in meta.iloc[1:-1, :].loc[(meta.iloc[:,1]==\"Qualitativo nominal\")].iloc[:,0]] # 0.66 / 0.56\n",
    "cat_ord = [x for x in meta.iloc[1:-1, :].loc[(meta.iloc[:,1]==\"Qualitativo ordinal\")].iloc[:,0]] # 0.36 / 0.36\n",
    "num_dis = [x for x in meta.iloc[1:-1, :].loc[(meta.iloc[:,1]==\"Quantitativo discreto\")].iloc[:,0]] # 0.40\n",
    "num_con = [x for x in meta.iloc[1:-1, :].loc[(meta.iloc[:,1]==\"Quantitativo continua\")].iloc[:,0]] # 0.38"
   ]
  },
  {
   "cell_type": "markdown",
   "id": "52bcb2bf",
   "metadata": {},
   "source": [
    "# SweetViz Report\n",
    "---"
   ]
  },
  {
   "cell_type": "code",
   "execution_count": null,
   "id": "e5fd8d99",
   "metadata": {},
   "outputs": [],
   "source": [
    "my_report = sv.analyze(train, target_feat='y')"
   ]
  },
  {
   "cell_type": "code",
   "execution_count": null,
   "id": "c3197b6c",
   "metadata": {},
   "outputs": [],
   "source": [
    "my_report.show_notebook()"
   ]
  },
  {
   "cell_type": "markdown",
   "id": "907a3b6b",
   "metadata": {},
   "source": [
    "# Feature Selection\n",
    "---\n",
    "\n",
    "Métodos utilizados para seleção de features:\n",
    "    \n",
    "- Variable Importance\n",
    "- Information Gain\n",
    "- Zero Proportion\n",
    "- Null Proportion\n",
    "- Backward Feature Elimination\n",
    "- Exhaustive Feature Selection (off)\n",
    "- Lasso Regularization (L1)\n",
    "- Recursive Feature Elimination (RFE)\n",
    "- Boruta\n",
    "- Random Feature\n",
    "\n",
    "Preparar dados para análises:"
   ]
  },
  {
   "cell_type": "code",
   "execution_count": null,
   "id": "ad42c401",
   "metadata": {},
   "outputs": [],
   "source": [
    "X_test = test[cat_nom+cat_ord+num_dis+num_con]\n",
    "X = train[cat_nom+cat_ord+num_dis+num_con]\n",
    "y = train.y\n",
    "\n",
    "SEED=314"
   ]
  },
  {
   "cell_type": "markdown",
   "id": "07ebc700",
   "metadata": {},
   "source": [
    "# Variable Importance"
   ]
  },
  {
   "cell_type": "code",
   "execution_count": null,
   "id": "b9e4b37b",
   "metadata": {},
   "outputs": [],
   "source": [
    "clf = RandomForestClassifier(max_depth=2, random_state=SEED)\n",
    "\n",
    "clf.fit(X, y);\n",
    "\n",
    "res_var_imp = pd.DataFrame({\n",
    "    \"feature\": X.columns,\n",
    "    \"var_imp\": clf.feature_importances_\n",
    "})\n",
    "\n",
    "res_var_imp.sort_values('var_imp', ascending=False)"
   ]
  },
  {
   "cell_type": "markdown",
   "id": "b66ca033",
   "metadata": {},
   "source": [
    "# Information Gain"
   ]
  },
  {
   "cell_type": "code",
   "execution_count": null,
   "id": "e590ed1e",
   "metadata": {},
   "outputs": [],
   "source": [
    "%%time\n",
    "mutual_info = mutual_info_classif(X, y)"
   ]
  },
  {
   "cell_type": "code",
   "execution_count": null,
   "id": "150a58db",
   "metadata": {},
   "outputs": [],
   "source": [
    "res_mutual_info = pd.DataFrame({\n",
    "    \"feature\": X.columns,\n",
    "    \"mutual_info\": mutual_info\n",
    "})\n",
    "\n",
    "res_mutual_info.sort_values('mutual_info', ascending=False)"
   ]
  },
  {
   "cell_type": "markdown",
   "id": "e3f8e9c7",
   "metadata": {},
   "source": [
    "# Zero Proportion"
   ]
  },
  {
   "cell_type": "code",
   "execution_count": null,
   "id": "1a755a45",
   "metadata": {},
   "outputs": [],
   "source": [
    "res_pzeros = pd.DataFrame({\n",
    "    \"feature\": X.columns,\n",
    "    \"pzeros\": (X.shape[0] - X.astype(bool).sum(axis=0)) / X.shape[0] * 100\n",
    "})\n",
    "\n",
    "res_pzeros.sort_values('pzeros', ascending=False)"
   ]
  },
  {
   "cell_type": "markdown",
   "id": "5762b4a8",
   "metadata": {},
   "source": [
    "# Null Proportion"
   ]
  },
  {
   "cell_type": "code",
   "execution_count": null,
   "id": "a6ef90f9",
   "metadata": {},
   "outputs": [],
   "source": [
    "res_pnull = pd.DataFrame({\n",
    "    \"feature\": X.columns,\n",
    "    \"pnull\": 100 - (X.shape[0] - X.replace(-999, np.nan).isnull().sum()) / X.shape[0] * 100\n",
    "})\n",
    "\n",
    "res_pnull.sort_values('pnull', ascending=False)"
   ]
  },
  {
   "cell_type": "markdown",
   "id": "6fa1c02a",
   "metadata": {},
   "source": [
    "# Backward Feature Elimination"
   ]
  },
  {
   "cell_type": "code",
   "execution_count": null,
   "id": "331d59cc",
   "metadata": {},
   "outputs": [],
   "source": [
    "%%time\n",
    "lasso_newton = LogisticRegression(C=1, penalty=\"l2\", solver='sag', tol = 0.1, random_state=314)\n",
    "bfs=SequentialFeatureSelector(lasso_newton,\n",
    "                              k_features='best',\n",
    "                              forward=False,\n",
    "                              floating=False, \n",
    "                              scoring='neg_log_loss',\n",
    "                              cv=0,\n",
    "                              verbose=2,\n",
    "                              n_jobs=1)\n",
    "bfs.fit(X, y);"
   ]
  },
  {
   "cell_type": "code",
   "execution_count": null,
   "id": "bb6ed550",
   "metadata": {},
   "outputs": [],
   "source": [
    "res_bfs = pd.DataFrame({\n",
    "    \"feature\": X.columns,\n",
    "    \"bfs\": np.where(X.columns.isin(bfs.k_feature_names_), \"to_keep\", \"to_remove\")\n",
    "})\n",
    "res_bfs.sort_values('bfs', ascending=True)"
   ]
  },
  {
   "cell_type": "markdown",
   "id": "1200d358",
   "metadata": {},
   "source": [
    "# Exhaustive Feature Selection"
   ]
  },
  {
   "cell_type": "code",
   "execution_count": null,
   "id": "246e2ea5",
   "metadata": {},
   "outputs": [],
   "source": [
    "# %%time\n",
    "# \n",
    "# efs = ExhaustiveFeatureSelector(LGBMClassifier(),\n",
    "#                                 min_features=10,\n",
    "#                                 max_features=75,\n",
    "#                                 scoring='neg_log_loss',\n",
    "#                                 print_progress=True,\n",
    "#                                 cv=5)\n",
    "# \n",
    "# efs.fit(X, y);"
   ]
  },
  {
   "cell_type": "code",
   "execution_count": null,
   "id": "626d938c",
   "metadata": {},
   "outputs": [],
   "source": [
    "# res_efs = pd.DataFrame({\n",
    "#     \"feature\": X.columns,\n",
    "#     \"efs\": np.where(X.columns.isin(efs.k_feature_names_), \"to_keep\", \"to_remove\")\n",
    "# })\n",
    "# res_efs.sort_values('efs', ascending=True)"
   ]
  },
  {
   "cell_type": "markdown",
   "id": "d5465306",
   "metadata": {},
   "source": [
    "# Lasso Regularization (L1)"
   ]
  },
  {
   "cell_type": "code",
   "execution_count": null,
   "id": "8d22fb22",
   "metadata": {},
   "outputs": [],
   "source": [
    "%%time\n",
    "\n",
    "lasso = LogisticRegression(C=1, penalty=\"l1\", solver=\"liblinear\", random_state=314).fit(X, y)\n",
    "lasso_selector = SelectFromModel(lasso, prefit=True, threshold=\"median\")"
   ]
  },
  {
   "cell_type": "code",
   "execution_count": null,
   "id": "ccfe01cb",
   "metadata": {},
   "outputs": [],
   "source": [
    "res_lasso = pd.DataFrame({\n",
    "    \"feature\": X.columns,\n",
    "    \"lasso\": np.where(lasso_selector.get_support(), \"to_keep\", \"to_remove\")\n",
    "})\n",
    "res_lasso.sort_values('lasso', ascending=True)"
   ]
  },
  {
   "cell_type": "markdown",
   "id": "7a2b8bdb",
   "metadata": {},
   "source": [
    "# RFE"
   ]
  },
  {
   "cell_type": "code",
   "execution_count": null,
   "id": "f63ae104",
   "metadata": {},
   "outputs": [],
   "source": [
    "%%time\n",
    "\n",
    "rf = RandomForestClassifier(n_jobs=-1, max_depth=4)\n",
    "rfe_selector = RFECV(rf, min_features_to_select=20, step=1, n_jobs=1, verbose=1)\n",
    "#rfe_selector.fit(X_sample.values, y[X_sample.index]) #dev\n",
    "rfe_selector.fit(X.values, y)"
   ]
  },
  {
   "cell_type": "code",
   "execution_count": null,
   "id": "4d713c0b",
   "metadata": {},
   "outputs": [],
   "source": [
    "res_rfe = pd.DataFrame({\n",
    "    \"feature\": X.columns,\n",
    "    \"rfe\": np.where(rfe_selector.support_, \"to_keep\", \"to_remove\")\n",
    "})\n",
    "res_rfe.sort_values('rfe', ascending=True)"
   ]
  },
  {
   "cell_type": "markdown",
   "id": "6dc30c41",
   "metadata": {},
   "source": [
    "# Boruta"
   ]
  },
  {
   "cell_type": "code",
   "execution_count": null,
   "id": "0a10cae4",
   "metadata": {},
   "outputs": [],
   "source": [
    "%%time\n",
    "\n",
    "rf = RandomForestClassifier(n_jobs=-1, max_depth=4)\n",
    "boruta_selector = BorutaPy(rf, n_estimators='auto', verbose=2, random_state=314)\n",
    "boruta_selector.fit(X.values, y)\n",
    "#boruta_selector.fit(X_sample.values, y[X_sample.index]) #dev"
   ]
  },
  {
   "cell_type": "code",
   "execution_count": null,
   "id": "433e78b1",
   "metadata": {},
   "outputs": [],
   "source": [
    "res_boruta = pd.DataFrame({\n",
    "    \"feature\": X.columns,\n",
    "    \"boruta\": np.where(boruta_selector.support_, \"to_keep\", \"to_remove\")\n",
    "})\n",
    "res_boruta.sort_values('boruta', ascending=True)"
   ]
  },
  {
   "cell_type": "markdown",
   "id": "fcd23a3b",
   "metadata": {},
   "source": [
    "# Random Column"
   ]
  },
  {
   "cell_type": "code",
   "execution_count": null,
   "id": "6bc66b01",
   "metadata": {},
   "outputs": [],
   "source": [
    "X_random = pd.concat([X, pd.DataFrame({'random':[uniform(0.0, 100.0) for i in range(X.shape[0])]})], axis=1)"
   ]
  },
  {
   "cell_type": "code",
   "execution_count": null,
   "id": "1838c40b",
   "metadata": {},
   "outputs": [],
   "source": [
    "%%time\n",
    "rf = RandomForestClassifier(n_jobs=-1, max_depth=3)\n",
    "rf.fit(X_random, y);"
   ]
  },
  {
   "cell_type": "code",
   "execution_count": null,
   "id": "913e208e",
   "metadata": {},
   "outputs": [],
   "source": [
    "varip_random = np.float(rf.feature_importances_[X_random.columns==\"random\"])\n",
    "print(\"Random VarImp:\", varip_random)\n",
    "\n",
    "res_rand_var_imp = pd.DataFrame({\n",
    "    \"feature\": X_random.columns,\n",
    "    \"rand_var_imp\": rf.feature_importances_,\n",
    "    \"rand_var\": np.where(rf.feature_importances_ > varip_random, \"to_keep\", \"to_remove\")\n",
    "})\n",
    "res_rand_var_imp.sort_values('rand_var_imp', ascending=False)"
   ]
  },
  {
   "cell_type": "markdown",
   "id": "c715b831",
   "metadata": {},
   "source": [
    "# Combinar Resultados\n",
    "---"
   ]
  },
  {
   "cell_type": "code",
   "execution_count": null,
   "id": "f8053f60",
   "metadata": {},
   "outputs": [],
   "source": [
    "feature_selection = res_var_imp.\\\n",
    "                    merge(res_mutual_info).\\\n",
    "                    merge(res_pzeros).\\\n",
    "                    merge(res_pnull).\\\n",
    "                    merge(res_bfs).\\\n",
    "                    merge(res_lasso).\\\n",
    "                    merge(res_boruta).\\\n",
    "                    merge(res_rfe).\\\n",
    "                    merge(res_rand_var_imp.drop('rand_var_imp', axis=1))\n",
    "\n",
    "feature_selection.to_csv('feature_selection.csv', index=False)"
   ]
  },
  {
   "cell_type": "code",
   "execution_count": null,
   "id": "aa80734a",
   "metadata": {},
   "outputs": [],
   "source": [
    "feature_selection.style.\\\n",
    "    bar(subset=['var_imp'],color='#205ff2').\\\n",
    "    bar(subset=['mutual_info'],color='#205ff2').\\\n",
    "    background_gradient(subset=['pzeros'],cmap='coolwarm').\\\n",
    "    background_gradient(subset=['pnull'],cmap='coolwarm').\\\n",
    "    apply(lambda x: [\"background: red\" if v == \"to_remove\" else \"\" for v in x], axis = 1)"
   ]
  },
  {
   "cell_type": "markdown",
   "id": "7da9ef9c",
   "metadata": {},
   "source": [
    "# Conclusão\n",
    "\n",
    "O objetivo deste notebook foi apenas explorar mais os dados sob uma perspectiva da seleção automatizada de features. \n",
    "\n",
    "Note que nenhum tratamento foi feito sobre as features categóricas nem aos valores faltantes neste notebook (por enquanto), então use com sabedoria! "
   ]
  }
 ],
 "metadata": {},
 "nbformat": 4,
 "nbformat_minor": 5
}
