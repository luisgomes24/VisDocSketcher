{
 "cells": [
  {
   "cell_type": "code",
   "execution_count": null,
   "id": "ee81aecd",
   "metadata": {},
   "outputs": [],
   "source": [
    "# install pycaret\n",
    "!pip install pycaret"
   ]
  },
  {
   "cell_type": "code",
   "execution_count": null,
   "id": "360dab8c",
   "metadata": {},
   "outputs": [],
   "source": [
    "# import libraries\n",
    "import pandas as pd\n",
    "import numpy as np"
   ]
  },
  {
   "cell_type": "code",
   "execution_count": null,
   "id": "39c89eab",
   "metadata": {},
   "outputs": [],
   "source": [
    "# read csv data\n",
    "data = pd.read_csv('../input/telco-customer-churn/WA_Fn-UseC_-Telco-Customer-Churn.csv')\n",
    "data.head()"
   ]
  },
  {
   "cell_type": "markdown",
   "id": "fdc93d20",
   "metadata": {},
   "source": [
    "# Exploratory Data Analysis"
   ]
  },
  {
   "cell_type": "code",
   "execution_count": null,
   "id": "c2846520",
   "metadata": {},
   "outputs": [],
   "source": [
    "# check data types\n",
    "data.dtypes"
   ]
  },
  {
   "cell_type": "code",
   "execution_count": null,
   "id": "11646118",
   "metadata": {},
   "outputs": [],
   "source": [
    "# replace blanks with np.nan\n",
    "data['TotalCharges'] = data['TotalCharges'].replace(' ', np.nan)\n",
    "data.isnull().sum()"
   ]
  },
  {
   "cell_type": "code",
   "execution_count": null,
   "id": "225bf2da",
   "metadata": {},
   "outputs": [],
   "source": [
    "# convert to float64\n",
    "data['TotalCharges'] = data['TotalCharges'].astype('float64')\n",
    "data.info()"
   ]
  },
  {
   "cell_type": "code",
   "execution_count": null,
   "id": "cbd80c89",
   "metadata": {},
   "outputs": [],
   "source": [
    "!pip install pandas-profiling"
   ]
  },
  {
   "cell_type": "code",
   "execution_count": null,
   "id": "76c4adef",
   "metadata": {},
   "outputs": [],
   "source": [
    "from pandas_profiling import ProfileReport\n",
    "profile = ProfileReport(data, title=\"EDA Report\")\n",
    "profile"
   ]
  },
  {
   "cell_type": "markdown",
   "id": "fd2b646a",
   "metadata": {},
   "source": [
    "# Missing Values"
   ]
  },
  {
   "cell_type": "code",
   "execution_count": null,
   "id": "83ce913c",
   "metadata": {},
   "outputs": [],
   "source": [
    "# check missing values\n",
    "data.isnull().sum()"
   ]
  },
  {
   "cell_type": "code",
   "execution_count": null,
   "id": "402617e5",
   "metadata": {},
   "outputs": [],
   "source": [
    "round(data.Churn.value_counts()*100 / len(data),2)"
   ]
  },
  {
   "cell_type": "code",
   "execution_count": null,
   "id": "c3bd8f4f",
   "metadata": {},
   "outputs": [],
   "source": [
    "categorical = []\n",
    "for i in data.columns:\n",
    "    if (data[i].dtype=='object'):\n",
    "        categorical.append(i)\n",
    "print(\"Categorical Attribute : {}\\n \".format(len(categorical)))\n",
    "for x in range(len(categorical)): \n",
    "    print(categorical[x])"
   ]
  },
  {
   "cell_type": "code",
   "execution_count": null,
   "id": "23e2f87d",
   "metadata": {},
   "outputs": [],
   "source": [
    "data[categorical].nunique()"
   ]
  },
  {
   "cell_type": "code",
   "execution_count": null,
   "id": "66c739e2",
   "metadata": {},
   "outputs": [],
   "source": [
    "for i in categorical[1:]:\n",
    "    print(i)\n",
    "    print(data[i].unique())\n",
    "    print(\"\\n\")"
   ]
  },
  {
   "cell_type": "markdown",
   "id": "ca5d1455",
   "metadata": {},
   "source": [
    "# Data Preparation"
   ]
  },
  {
   "cell_type": "code",
   "execution_count": null,
   "id": "9529e3ca",
   "metadata": {},
   "outputs": [],
   "source": [
    "# init setup\n",
    "from pycaret.classification import *\n",
    "telecom = setup(data, target = 'Churn', ignore_features = ['customerID'],\n",
    "                ordinal_features = {'Contract' : ['Month-to-month' ,'One year', 'Two year']},\n",
    "                fix_imbalance = True,\n",
    "               transformation = True,#Transformation changes the shape of the distribution such that the transformed data can be represented by normal distribution\n",
    "                  normalize = True, #rescale the values of numeric columns\n",
    "                  handle_unknown_categorical = True, \n",
    "                  unknown_categorical_method = 'most_frequent',\n",
    "                  remove_multicollinearity = True, #rop one of the two features that are highly correlated with each other\n",
    "                  ignore_low_variance = True,#all categorical features with statistically insignificant variances are removed from the dataset.\n",
    "                  combine_rare_levels = True,# all levels in categorical features below the threshold defined in rare_level_threshold param are combined together as a single level\n",
    "                numeric_imputation='median',\n",
    "                categorical_imputation='mode',)"
   ]
  },
  {
   "cell_type": "code",
   "execution_count": null,
   "id": "b9ebdb45",
   "metadata": {},
   "outputs": [],
   "source": [
    "ada= create_model('ada')"
   ]
  },
  {
   "cell_type": "code",
   "execution_count": null,
   "id": "adf3400e",
   "metadata": {},
   "outputs": [],
   "source": [
    "print(ada)"
   ]
  },
  {
   "cell_type": "code",
   "execution_count": null,
   "id": "2642b083",
   "metadata": {},
   "outputs": [],
   "source": [
    "tuned_ada = tune_model(ada,optimize = 'Kappa') #tuned on Kappa"
   ]
  },
  {
   "cell_type": "code",
   "execution_count": null,
   "id": "def65aba",
   "metadata": {},
   "outputs": [],
   "source": [
    "evaluate_model(tuned_ada) #Graphical plot "
   ]
  },
  {
   "cell_type": "code",
   "execution_count": null,
   "id": "7631ab4e",
   "metadata": {},
   "outputs": [],
   "source": [
    "predict_model(tuned_ada)# Test data evaluation "
   ]
  },
  {
   "cell_type": "code",
   "execution_count": null,
   "id": "ac59a8be",
   "metadata": {},
   "outputs": [],
   "source": [
    "final_ada = finalize_model(tuned_ada) # Final model \n",
    "final_ada"
   ]
  },
  {
   "cell_type": "code",
   "execution_count": null,
   "id": "d4c0bdb5",
   "metadata": {},
   "outputs": [],
   "source": [
    "predict_model(final_ada)#final test model evaluation "
   ]
  }
 ],
 "metadata": {},
 "nbformat": 4,
 "nbformat_minor": 5
}
