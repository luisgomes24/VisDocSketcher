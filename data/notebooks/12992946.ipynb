{
 "cells": [
  {
   "cell_type": "code",
   "execution_count": null,
   "id": "41b8f404",
   "metadata": {},
   "outputs": [],
   "source": [
    "import pandas as pd\n",
    "import matplotlib.pyplot as plt\n",
    "import seaborn as sns\n",
    "sns.set_style(\"whitegrid\")\n",
    "%matplotlib inline"
   ]
  },
  {
   "cell_type": "markdown",
   "id": "a34acfc8",
   "metadata": {},
   "source": [
    "## Global beer consumption (1961-2016)\n",
    "\n",
    "1.Palyginti alaus suvartojima vienam asmeniui Baltijos salyse ir Skandinavijoje\n"
   ]
  },
  {
   "cell_type": "code",
   "execution_count": null,
   "id": "b5d2ef5d",
   "metadata": {},
   "outputs": [],
   "source": [
    "df = pd.read_csv('../input/failas/beer-consumption-per-person.csv')\n",
    "df.head()"
   ]
  },
  {
   "cell_type": "markdown",
   "id": "f0dcf4ce",
   "metadata": {},
   "source": [
    "*Cia pakeisiu stulpelio pavadinima, nes yra labai ilgas "
   ]
  },
  {
   "cell_type": "code",
   "execution_count": null,
   "id": "1b313647",
   "metadata": {},
   "outputs": [],
   "source": [
    "# df_r = df.rename(columns={'Indicator:Alcohol, recorded per capita (15+) consumption (in litres of pure alcohol) - Beverage Types:Beer': 'Consumption'})\n",
    "df = df.rename(columns={'Indicator:Alcohol, recorded per capita (15+) consumption (in litres of pure alcohol) - Beverage Types:Beer': 'Consumption'})\n",
    "df.head()"
   ]
  },
  {
   "cell_type": "markdown",
   "id": "4ee9cfca",
   "metadata": {},
   "source": [
    "*Padarau duomenu kopija ir paliksiu tik tris stulpelius"
   ]
  },
  {
   "cell_type": "code",
   "execution_count": null,
   "id": "3e4fea79",
   "metadata": {},
   "outputs": [],
   "source": [
    "df_r_copy=df_r.copy().loc[:, ['Entity','Year','Consumption']]"
   ]
  },
  {
   "cell_type": "markdown",
   "id": "87a96616",
   "metadata": {},
   "source": [
    "*Noriu isrinkti tik Lietuvos duomenis"
   ]
  },
  {
   "cell_type": "code",
   "execution_count": null,
   "id": "9e07ad93",
   "metadata": {},
   "outputs": [],
   "source": [
    "df_LT = df_r_copy.loc[df_r_copy.Entity.isin(['Lithuania'])]\n",
    "df_LT.head()"
   ]
  },
  {
   "cell_type": "code",
   "execution_count": null,
   "id": "cd12960d",
   "metadata": {},
   "outputs": [],
   "source": [
    "fig, ax = plt.subplots(1,1, figsize =(12, 6))\n",
    "x = df_LT.Year\n",
    "y = df_LT.Consumption\n",
    "ax.plot(x, y, color = 'r')\n",
    "\n"
   ]
  },
  {
   "cell_type": "markdown",
   "id": "a3ffd19e",
   "metadata": {},
   "source": [
    "*Sukuriau Baltijos saliu alaus vartojimo vidurkiu duomenis"
   ]
  },
  {
   "cell_type": "code",
   "execution_count": null,
   "id": "c5dbc28f",
   "metadata": {},
   "outputs": [],
   "source": [
    "df.head()"
   ]
  },
  {
   "cell_type": "code",
   "execution_count": null,
   "id": "670bfe72",
   "metadata": {},
   "outputs": [],
   "source": [
    "nan"
   ]
  },
  {
   "cell_type": "code",
   "execution_count": null,
   "id": "46e99e9c",
   "metadata": {},
   "outputs": [],
   "source": [
    "df_baltics = df[df.Entity.isin(['Lithuania', 'Latvia', 'Estonia'])].reset_index(drop=True)\n",
    "df_baltics.head()"
   ]
  },
  {
   "cell_type": "code",
   "execution_count": null,
   "id": "5d12b33a",
   "metadata": {},
   "outputs": [],
   "source": [
    "df_baltics_g = df_baltics.groupby(['Year'])['Consumption'].mean().reset_index()\n",
    "df_baltics_g['Region'] = 'baltics'\n",
    "df_baltics_g.head()"
   ]
  },
  {
   "cell_type": "code",
   "execution_count": null,
   "id": "7e4c39c8",
   "metadata": {},
   "outputs": [],
   "source": [
    "df_nordic= df[df.Entity.isin(['Norway', 'Denmark', 'Sweden'])].reset_index(drop=True)\n",
    "df_nordic.head()"
   ]
  },
  {
   "cell_type": "code",
   "execution_count": null,
   "id": "6906f80f",
   "metadata": {},
   "outputs": [],
   "source": [
    "df_baltics_g.tail()"
   ]
  },
  {
   "cell_type": "code",
   "execution_count": null,
   "id": "8e68721b",
   "metadata": {},
   "outputs": [],
   "source": [
    "df_nordic_g = df_nordic.groupby(['Year'])['Consumption'].mean().reset_index()\n",
    "df_nordic_g['Region'] = 'nordics'\n",
    "df_nordic_g.tail()"
   ]
  },
  {
   "cell_type": "code",
   "execution_count": null,
   "id": "0c44a156",
   "metadata": {},
   "outputs": [],
   "source": [
    "df_region = pd.concat([df_nordic_g, df_baltics_g]).reset_index(drop=True)\n",
    "df_region.head()"
   ]
  },
  {
   "cell_type": "code",
   "execution_count": null,
   "id": "93a3e88a",
   "metadata": {},
   "outputs": [],
   "source": [
    "fig, ax = plt.subplots(figsize=(10, 6))\n",
    "sns.lineplot(x='Year',y='Consumption',hue='Region',data=df_region, ax=ax)"
   ]
  },
  {
   "cell_type": "code",
   "execution_count": null,
   "id": "35d82295",
   "metadata": {},
   "outputs": [],
   "source": [
    "df.head()"
   ]
  },
  {
   "cell_type": "code",
   "execution_count": null,
   "id": "c01ddbac",
   "metadata": {},
   "outputs": [],
   "source": [
    "# 70-tie\n",
    "\n",
    "df_70 = df[(df.Year>=1970) & (df.Year<=1979)].copy()\n",
    "df_80 = df[(df.Year>=1980) & (df.Year<=1989)].copy()"
   ]
  },
  {
   "cell_type": "code",
   "execution_count": null,
   "id": "000c1975",
   "metadata": {},
   "outputs": [],
   "source": [
    "df_70.groupby('Entity')['Consumption'].mean().sort_values(ascending=False).head()"
   ]
  },
  {
   "cell_type": "code",
   "execution_count": null,
   "id": "911efa64",
   "metadata": {},
   "outputs": [],
   "source": [
    "df_80.groupby('Entity')['Consumption'].mean().sort_values(ascending=False).head()"
   ]
  },
  {
   "cell_type": "code",
   "execution_count": null,
   "id": "24e09747",
   "metadata": {},
   "outputs": [],
   "source": [
    "df_80"
   ]
  },
  {
   "cell_type": "code",
   "execution_count": null,
   "id": "e7a68482",
   "metadata": {},
   "outputs": [],
   "source": [
    "nan"
   ]
  },
  {
   "cell_type": "code",
   "execution_count": null,
   "id": "665a099b",
   "metadata": {},
   "outputs": [],
   "source": [
    "fig, ax = plt.subplots(figsize=(10, 6))\n",
    "sns.lineplot(x='Year',y='Consumption',hue='Entity',data=df_Baltics_2, ax=ax)"
   ]
  },
  {
   "cell_type": "code",
   "execution_count": null,
   "id": "86997d82",
   "metadata": {},
   "outputs": [],
   "source": [
    "df_nordic= df[df.Entity.isin(['Norway', 'Denmark', 'Sweden'])].reset_index(drop=True)\n",
    "df_nordic.head()"
   ]
  },
  {
   "cell_type": "code",
   "execution_count": null,
   "id": "f6675fe0",
   "metadata": {},
   "outputs": [],
   "source": [
    "fig, ax = plt.subplots(figsize=(10, 6))\n",
    "sns.lineplot(x='Year',y='Consumption',hue='Entity',data=df_nordic, ax=ax)"
   ]
  },
  {
   "cell_type": "code",
   "execution_count": null,
   "id": "863663f2",
   "metadata": {},
   "outputs": [],
   "source": [
    "df_Baltics_2"
   ]
  },
  {
   "cell_type": "code",
   "execution_count": null,
   "id": "586731e0",
   "metadata": {},
   "outputs": [],
   "source": [
    "fig, ax = plt.subplots(figsize=(10, 6))\n",
    "sns.lineplot(x='Year',y='Value',hue='Country',data=death_rate,ax=ax)\n",
    "plt.title(\"Death rate, crude (per 1,000 people)\")\n",
    "plt.ylabel('Death rate, crude (per 1,000 people)')\n",
    "plt.xticks(rotation=45)\n",
    "plt.ylim(bottom=0,top=40)\n",
    "plt.legend(loc=0,ncol=2,framealpha=0.5,borderpad=0.2)"
   ]
  },
  {
   "cell_type": "code",
   "execution_count": null,
   "id": "0091b4af",
   "metadata": {},
   "outputs": [],
   "source": [
    "df_Baltics = df_r_copy.loc[df_r_copy.Entity.isin(['Lithuania', 'Latvia', 'Estonia'])]\n",
    "Baltics_avg=df_Baltics.loc[:, ['Entity','Consumption']]\n",
    "\n",
    "Baltics_group = Baltics_avg.groupby('Entity').mean()\n",
    "Baltics_group.head()\n"
   ]
  },
  {
   "cell_type": "code",
   "execution_count": null,
   "id": "a40d3fc1",
   "metadata": {},
   "outputs": [],
   "source": [
    "nan"
   ]
  },
  {
   "cell_type": "markdown",
   "id": "05a20423",
   "metadata": {},
   "source": [
    "*Sukuriau Skandinavu valstiju alaus vartojimo vidurkiu duomenis"
   ]
  },
  {
   "cell_type": "code",
   "execution_count": null,
   "id": "44136aaf",
   "metadata": {},
   "outputs": [],
   "source": [
    "df_Nordics = df_r_copy.loc[df_r_copy.Entity.isin(['Norway', 'Denmark', 'Sweden'])]\n",
    "Nordics_avg=df_Nordics.loc[:, ['Entity','Consumption']]\n",
    "\n",
    "Nordics_group = Nordics_avg.groupby('Entity').mean()\n",
    "Nordics_group.head()"
   ]
  },
  {
   "cell_type": "code",
   "execution_count": null,
   "id": "dde13945",
   "metadata": {},
   "outputs": [],
   "source": [
    "nan"
   ]
  }
 ],
 "metadata": {},
 "nbformat": 4,
 "nbformat_minor": 5
}
