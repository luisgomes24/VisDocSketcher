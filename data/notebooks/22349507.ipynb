{
 "cells": [
  {
   "cell_type": "code",
   "execution_count": null,
   "id": "0b95252e",
   "metadata": {},
   "outputs": [],
   "source": [
    "!pip install StatsPyDistribution==0.0.4"
   ]
  },
  {
   "cell_type": "code",
   "execution_count": null,
   "id": "b6ca8faf",
   "metadata": {},
   "outputs": [],
   "source": [
    "from src.NormalDistribution import NormalDistribution as ND\n",
    "from src.RectangularDistribution import RectangularDistribution as RD\n",
    "from src.TriangularDistribution import TriangularDistribution as TD\n",
    "from src.SymmetricTriangularDistribution import SymmetricTriangularDistribution as STD\n",
    "from src.ExponentialDistribution import ExponentialDistribution as ED"
   ]
  },
  {
   "cell_type": "code",
   "execution_count": null,
   "id": "8723e9ce",
   "metadata": {},
   "outputs": [],
   "source": [
    "n = ND(1, 4)\n",
    "n.plot()\n",
    "ND(1, 2).plot()\n",
    "ND(1, 3,40).plot()\n",
    "ND(1, 4,40).plot()\n",
    "ND(1, 5,40).plot()\n",
    "ND(1, 6,40).plot()\n"
   ]
  },
  {
   "cell_type": "code",
   "execution_count": null,
   "id": "c8b02fdf",
   "metadata": {},
   "outputs": [],
   "source": [
    "r = RD(-1, 3)\n",
    "r.plot()"
   ]
  },
  {
   "cell_type": "code",
   "execution_count": null,
   "id": "514f78b7",
   "metadata": {},
   "outputs": [],
   "source": [
    "t = TD(-1, 3)\n",
    "t.plot()"
   ]
  },
  {
   "cell_type": "code",
   "execution_count": null,
   "id": "cf82cbc4",
   "metadata": {},
   "outputs": [],
   "source": [
    "st = STD(1, 2)\n",
    "st.plot()"
   ]
  },
  {
   "cell_type": "code",
   "execution_count": null,
   "id": "b6970293",
   "metadata": {},
   "outputs": [],
   "source": [
    "e = ED(0.6415005278451494)"
   ]
  },
  {
   "cell_type": "code",
   "execution_count": null,
   "id": "6b4ae423",
   "metadata": {},
   "outputs": [],
   "source": [
    "print({'name':e.name()})\n",
    "print({'notation':e.notation()})\n",
    "print({'parameters':e.parameters()})\n",
    "print({'frequency density formula':e.frequency_density_formula()})\n",
    "\n",
    "\n",
    "print({'mean':e.mean()})\n",
    "print({'mode':e.mode()})\n",
    "print({'median':e.median()})\n",
    "print({'variance':e.variance()})\n",
    "print({'skewness':e.skewness()})\n",
    "print({'kurtosis':e.kurtosis()})\n",
    "print({'distribution_family':e.distribution_family()})\n",
    "print({'probability of random number(5)':e.probability_random_number(5)})\n",
    "print({'probability of random number(6)':e.probability_random_number(6)})"
   ]
  },
  {
   "cell_type": "code",
   "execution_count": null,
   "id": "73fb2826",
   "metadata": {},
   "outputs": [],
   "source": [
    "e.plot()\n",
    "e.plot(e.cumulative_distribution_function_value())\n",
    "print(e.summary())\n"
   ]
  }
 ],
 "metadata": {},
 "nbformat": 4,
 "nbformat_minor": 5
}
