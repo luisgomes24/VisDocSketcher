{
 "cells": [
  {
   "cell_type": "markdown",
   "id": "dec53b3f",
   "metadata": {},
   "source": [
    "# Intro\n",
    "Welcome to the monthly Kaggle experiment in 2021. This is [february](https://www.kaggle.com/c/tabular-playground-series-feb-2021/overview). \n",
    "![](https://storage.googleapis.com/kaggle-competitions/kaggle/25225/logos/header.png)\n",
    "\n",
    "This notebook is a simple tutorial of the second experimental competition. For feature encoding techniques we recommend [this notebook](https://www.kaggle.com/drcapa/categorical-feature-engineering-2-xgb).\n",
    "\n",
    "<span style=\"color: royalblue;\">Please vote the notebook up if it helps you. Feel free to leave a comment above the notebook. Thank you. </span>"
   ]
  },
  {
   "cell_type": "markdown",
   "id": "4e589b48",
   "metadata": {},
   "source": [
    "# Libraries"
   ]
  },
  {
   "cell_type": "code",
   "execution_count": null,
   "id": "124ec5b4",
   "metadata": {},
   "outputs": [],
   "source": [
    "import pandas as pd\n",
    "import numpy as np\n",
    "import os\n",
    "import matplotlib.pyplot as plt\n",
    "\n",
    "from sklearn.model_selection import train_test_split\n",
    "from xgboost import XGBRegressor\n",
    "from sklearn.metrics import mean_squared_error\n",
    "from sklearn.ensemble import IsolationForest\n",
    "from sklearn.decomposition import PCA\n",
    "from sklearn.preprocessing import LabelEncoder\n",
    "\n",
    "import warnings\n",
    "warnings.filterwarnings(\"ignore\")"
   ]
  },
  {
   "cell_type": "markdown",
   "id": "9503230f",
   "metadata": {},
   "source": [
    "# Path"
   ]
  },
  {
   "cell_type": "code",
   "execution_count": null,
   "id": "027f3288",
   "metadata": {},
   "outputs": [],
   "source": [
    "path = '/kaggle/input/tabular-playground-series-feb-2021/'\n",
    "os.listdir(path)"
   ]
  },
  {
   "cell_type": "markdown",
   "id": "40638591",
   "metadata": {},
   "source": [
    "# Load Data"
   ]
  },
  {
   "cell_type": "code",
   "execution_count": null,
   "id": "b9ed929a",
   "metadata": {},
   "outputs": [],
   "source": [
    "train_data = pd.read_csv(path+'train.csv')\n",
    "test_data = pd.read_csv(path+'test.csv')\n",
    "samp_subm = pd.read_csv(path+'sample_submission.csv')"
   ]
  },
  {
   "cell_type": "markdown",
   "id": "7857210f",
   "metadata": {},
   "source": [
    "# Overview"
   ]
  },
  {
   "cell_type": "code",
   "execution_count": null,
   "id": "5904cc1d",
   "metadata": {},
   "outputs": [],
   "source": [
    "print('Number train samples:', len(train_data.index))\n",
    "print('Number test samples:', len(test_data.index))\n",
    "print('Number features:', len(train_data.columns))"
   ]
  },
  {
   "cell_type": "code",
   "execution_count": null,
   "id": "b13e270c",
   "metadata": {},
   "outputs": [],
   "source": [
    "print('Missing values on the train data:', train_data.isnull().sum().sum())\n",
    "print('Missing values on the test data:', test_data.isnull().sum().sum())"
   ]
  },
  {
   "cell_type": "markdown",
   "id": "94949bbf",
   "metadata": {},
   "source": [
    "# Feature Engineering"
   ]
  },
  {
   "cell_type": "code",
   "execution_count": null,
   "id": "0b809bec",
   "metadata": {},
   "outputs": [],
   "source": [
    "features_cat = ['cat'+str(i) for i in range(10)]\n",
    "features_num = ['cont'+str(i) for i in range(1, 14)]\n",
    "no_features = ['id', 'target']"
   ]
  },
  {
   "cell_type": "code",
   "execution_count": null,
   "id": "08f7048f",
   "metadata": {},
   "outputs": [],
   "source": [
    "print('number of categorical features:', len(features_cat))\n",
    "print('number of numerical features:', len(features_num))"
   ]
  },
  {
   "cell_type": "markdown",
   "id": "f914fcb8",
   "metadata": {},
   "source": [
    "Encoding of categorical features:"
   ]
  },
  {
   "cell_type": "code",
   "execution_count": null,
   "id": "5a400991",
   "metadata": {},
   "outputs": [],
   "source": [
    "features_cat = ['cat'+str(i) for i in range(10)]\n",
    "le = LabelEncoder()\n",
    "for col in features_cat:\n",
    "    le.fit(train_data[col])\n",
    "    train_data[col] = le.transform(train_data[col])\n",
    "    test_data[col] = le.transform(test_data[col])"
   ]
  },
  {
   "cell_type": "markdown",
   "id": "12c16e21",
   "metadata": {},
   "source": [
    "We create statistical features like mean, max and min for every sample on the train and test data."
   ]
  },
  {
   "cell_type": "code",
   "execution_count": null,
   "id": "0c108f79",
   "metadata": {},
   "outputs": [],
   "source": [
    "train_data['mean'] = train_data[features_num].mean(axis=1)\n",
    "train_data['std'] = train_data[features_num].std(axis=1)\n",
    "train_data['max'] = train_data[features_num].max(axis=1)\n",
    "train_data['min'] = train_data[features_num].min(axis=1)\n",
    "train_data['sum'] = train_data[features_num].sum(axis=1)\n",
    "\n",
    "test_data['mean'] = test_data[features_num].mean(axis=1)\n",
    "test_data['std'] = test_data[features_num].std(axis=1)\n",
    "test_data['max'] = test_data[features_num].max(axis=1)\n",
    "test_data['min'] = test_data[features_num].min(axis=1)\n",
    "test_data['sum'] = test_data[features_num].sum(axis=1)"
   ]
  },
  {
   "cell_type": "markdown",
   "id": "25738162",
   "metadata": {},
   "source": [
    "# EDA"
   ]
  },
  {
   "cell_type": "markdown",
   "id": "aaa67305",
   "metadata": {},
   "source": [
    "Distribution of the numerical values:"
   ]
  },
  {
   "cell_type": "code",
   "execution_count": null,
   "id": "d434bad5",
   "metadata": {},
   "outputs": [],
   "source": [
    "train_data.boxplot(column=features_num, figsize=(10,4))\n",
    "plt.show()"
   ]
  },
  {
   "cell_type": "markdown",
   "id": "c73c2f3d",
   "metadata": {},
   "source": [
    "Distribution of the categorcial data:"
   ]
  },
  {
   "cell_type": "code",
   "execution_count": null,
   "id": "98c540bf",
   "metadata": {},
   "outputs": [],
   "source": [
    "train_data.boxplot(column=features_cat, figsize=(10,4))\n",
    "plt.show()"
   ]
  },
  {
   "cell_type": "markdown",
   "id": "203b0cb3",
   "metadata": {},
   "source": [
    "Correlation matrix:"
   ]
  },
  {
   "cell_type": "code",
   "execution_count": null,
   "id": "78fae51c",
   "metadata": {},
   "outputs": [],
   "source": [
    "temp = train_data\n",
    "corr = temp.corr()\n",
    "corr.style.background_gradient(cmap='coolwarm', axis=None).set_precision(2)"
   ]
  },
  {
   "cell_type": "markdown",
   "id": "01eef935",
   "metadata": {},
   "source": [
    "# Train, Validation And Test Data"
   ]
  },
  {
   "cell_type": "code",
   "execution_count": null,
   "id": "feae3747",
   "metadata": {},
   "outputs": [],
   "source": [
    "X_train = train_data[train_data.columns.difference(no_features)]\n",
    "y_train = train_data['target']\n",
    "X_test = test_data[test_data.columns.difference(no_features)]"
   ]
  },
  {
   "cell_type": "markdown",
   "id": "7f104515",
   "metadata": {},
   "source": [
    "Scale Date:"
   ]
  },
  {
   "cell_type": "code",
   "execution_count": null,
   "id": "6568f666",
   "metadata": {},
   "outputs": [],
   "source": [
    "mean = X_train.mean()\n",
    "X_train = X_train-mean\n",
    "std = X_train.std()\n",
    "X_train = X_train/std\n",
    "X_test = (X_test-mean)/std"
   ]
  },
  {
   "cell_type": "code",
   "execution_count": null,
   "id": "fc06c091",
   "metadata": {},
   "outputs": [],
   "source": [
    "X_train, X_val, y_train, y_val = train_test_split(X_train, y_train, test_size = 0.1, random_state=2021)"
   ]
  },
  {
   "cell_type": "code",
   "execution_count": null,
   "id": "d1a24e61",
   "metadata": {},
   "outputs": [],
   "source": [
    "print('Train shape:', X_train.shape)\n",
    "print('Val shape:', X_val.shape)\n",
    "print('Test shape:', X_test.shape)"
   ]
  },
  {
   "cell_type": "markdown",
   "id": "e8de2d5a",
   "metadata": {},
   "source": [
    "# Model"
   ]
  },
  {
   "cell_type": "code",
   "execution_count": null,
   "id": "e78bf877",
   "metadata": {},
   "outputs": [],
   "source": [
    "model = XGBRegressor(objective='reg:squarederror',\n",
    "                     booster = \"gbtree\",\n",
    "                     eval_metric = \"rmse\",\n",
    "                     tree_method = \"gpu_hist\",\n",
    "                     n_estimators = 1000,\n",
    "                     learning_rate = 0.02,\n",
    "                     random_state = 2021)"
   ]
  },
  {
   "cell_type": "code",
   "execution_count": null,
   "id": "98beb6c7",
   "metadata": {},
   "outputs": [],
   "source": [
    "model.fit(X_train, y_train)\n",
    "y_val_pred = model.predict(X_val)\n",
    "print('Score validation data:', np.sqrt(mean_squared_error(y_val, y_val_pred)))"
   ]
  },
  {
   "cell_type": "markdown",
   "id": "82745075",
   "metadata": {},
   "source": [
    "# Analyse Training"
   ]
  },
  {
   "cell_type": "markdown",
   "id": "4a1924a8",
   "metadata": {},
   "source": [
    "Feature Importance:"
   ]
  },
  {
   "cell_type": "code",
   "execution_count": null,
   "id": "4fce1cbb",
   "metadata": {},
   "outputs": [],
   "source": [
    "importance = model.feature_importances_\n",
    "fig = plt.figure(figsize=(10, 6))\n",
    "x = list(train_data[train_data.columns.difference(no_features)])\n",
    "plt.barh(x, 100*importance, color='orange')\n",
    "plt.title('Feature Importance', loc='left')\n",
    "plt.xlabel('Percentage')\n",
    "plt.grid()\n",
    "plt.show()"
   ]
  },
  {
   "cell_type": "markdown",
   "id": "d2fd31bb",
   "metadata": {},
   "source": [
    "Visualization of the error:"
   ]
  },
  {
   "cell_type": "code",
   "execution_count": null,
   "id": "51271ab4",
   "metadata": {},
   "outputs": [],
   "source": [
    "y_train_pred = model.predict(X_train)\n",
    "y_val_pred = model.predict(X_val)\n",
    "\n",
    "fig, axs = plt.subplots(1, 2, figsize=(22, 6))\n",
    "fig.subplots_adjust(hspace = .5, wspace=.5)\n",
    "axs = axs.ravel()\n",
    "axs[0].plot(y_train, y_train_pred, 'ro')\n",
    "axs[0].plot(y_train, y_train, 'blue')\n",
    "axs[1].plot(y_val, y_val_pred, 'ro')\n",
    "axs[1].plot(y_val, y_val, 'blue')\n",
    "for i in range(2):\n",
    "    axs[i].grid()\n",
    "    axs[i].set_xlabel('true')\n",
    "    axs[i].set_ylabel('pred')\n",
    "axs[0].set_title('train')\n",
    "axs[1].set_title('val')\n",
    "plt.show()"
   ]
  },
  {
   "cell_type": "markdown",
   "id": "13c95add",
   "metadata": {},
   "source": [
    "# Predict Test Data"
   ]
  },
  {
   "cell_type": "code",
   "execution_count": null,
   "id": "61e55b6f",
   "metadata": {},
   "outputs": [],
   "source": [
    "y_test = model.predict(X_test)"
   ]
  },
  {
   "cell_type": "code",
   "execution_count": null,
   "id": "7544baeb",
   "metadata": {},
   "outputs": [],
   "source": [
    "output = samp_subm.copy()\n",
    "output['target'] = y_test"
   ]
  },
  {
   "cell_type": "markdown",
   "id": "cb4d2d15",
   "metadata": {},
   "source": [
    "# Write Output"
   ]
  },
  {
   "cell_type": "code",
   "execution_count": null,
   "id": "e414c396",
   "metadata": {},
   "outputs": [],
   "source": [
    "output.to_csv('submission.csv', index=False)"
   ]
  }
 ],
 "metadata": {},
 "nbformat": 4,
 "nbformat_minor": 5
}
