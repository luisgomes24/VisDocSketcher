{
 "cells": [
  {
   "cell_type": "markdown",
   "id": "670ac1f0",
   "metadata": {},
   "source": [
    "# Build an End2End baseline REAL FAST with fastai\n",
    "\n",
    "![summary.png](attachment:4320dcba-9eff-4091-9feb-7c05b9fd572b.png)\n",
    "\n",
    "In this competiton, we try to tackle the regression task which predicts the numeric values called `Pawpularity` from the images.\n",
    "\n",
    "In this notebook, we try to make baseline FAST with fastai module.  \n",
    "You don't need to define neither datasets nor dataloaders by yourself.  \n",
    "\n",
    "---\n",
    "## Preparation\n",
    "First of all, import EVERYTHING with ONE line.  \n",
    "It's ok to use `*` because fastai module automatically select what we need.  "
   ]
  },
  {
   "cell_type": "code",
   "execution_count": null,
   "id": "85808b7d",
   "metadata": {},
   "outputs": [],
   "source": [
    "from fastai.vision.all import *"
   ]
  },
  {
   "cell_type": "code",
   "execution_count": null,
   "id": "b99b4a16",
   "metadata": {},
   "outputs": [],
   "source": [
    "path = Path('/kaggle/input/petfinder-pawpularity-score/')\n",
    "path.ls()"
   ]
  },
  {
   "cell_type": "markdown",
   "id": "753c1452",
   "metadata": {},
   "source": [
    "### Loading metadata\n",
    "This is baseline so we only care about `Id` column which guild us to the filepath of the input images."
   ]
  },
  {
   "cell_type": "code",
   "execution_count": null,
   "id": "865a3541",
   "metadata": {},
   "outputs": [],
   "source": [
    "df = pd.read_csv(path/'train.csv')\n",
    "df.head(5)"
   ]
  },
  {
   "cell_type": "markdown",
   "id": "87884df8",
   "metadata": {},
   "source": [
    "### Defining `DataBlock`\n",
    "As mentioned before, we don't need to define neither datasets nor dataloaders.  \n",
    "All you need to do is just selecting class and function for DataBlock parameters from fastai reference.\n",
    "\n",
    "- **blocks**  \n",
    "At this competition, we predict numerical value called \"Pawpularity\" from image.  \n",
    "That means you should select `ImageBlock` and `RegressionBlock` for `blocks`  \n",
    "- **get_x**  \n",
    "Image path is provided in `Id` column of train.csv.  \n",
    "You can give image path to the `DataBlock` by defining function that takes a row from dataframe and returns filepath. \n",
    "- **get_y**  \n",
    "Label is provided in `Pawpularity` column of train.csv.  \n",
    "You can give label to the `DataBlock` by defining function like we did for `get_x` parameter.\n",
    "- **item_tfms**, **batch_tfms**  \n",
    "tfms means transform, you can specify some transform you want to apply.\n",
    "- **splitter**  \n",
    "Here you can specify how to split train data and valid data.  \n",
    "<!-- You can also specify it by giving each indices as tuple. -->"
   ]
  },
  {
   "cell_type": "code",
   "execution_count": null,
   "id": "1e7dd6d8",
   "metadata": {},
   "outputs": [],
   "source": [
    "def get_x(r): return path/'train'/(r['Id']+'.jpg')\n",
    "def get_y(r): return r['Pawpularity'] \n",
    "db = DataBlock(blocks=(ImageBlock, RegressionBlock), \n",
    "               item_tfms=RandomResizedCrop(128, min_scale=0.35), \n",
    "               batch_tfms=Normalize,\n",
    "               get_x=get_x, get_y=get_y,\n",
    "               splitter=TrainTestSplitter(test_size=0.2, random_state=42))"
   ]
  },
  {
   "cell_type": "markdown",
   "id": "5bf4304f",
   "metadata": {},
   "source": [
    "Now we have `DataBlock` that works.  \n",
    "Let's get dataloaders from `DataBlock`, then check what their batch have."
   ]
  },
  {
   "cell_type": "code",
   "execution_count": null,
   "id": "47f47b7c",
   "metadata": {},
   "outputs": [],
   "source": [
    "dls = db.dataloaders(df)\n",
    "dls.show_batch(nrows=2, ncols=3)"
   ]
  },
  {
   "cell_type": "markdown",
   "id": "bca1dd3b",
   "metadata": {},
   "source": [
    "Dataloaders are done!  \n",
    "\n",
    "---\n",
    "## Training\n",
    "Now let's define a model and check if the model can process data to the output.\n",
    "\n",
    "<!-- maybe setting y_range to -1 ~ +1 does work?? -->"
   ]
  },
  {
   "cell_type": "code",
   "execution_count": null,
   "id": "ee51f785",
   "metadata": {},
   "outputs": [],
   "source": [
    "learn = cnn_learner(dls, resnet18, y_range=(0, 100))\n",
    "learn.model.cuda()\n",
    "x, y = dls.train.one_batch()\n",
    "activs = learn.model(x)\n",
    "activs.shape"
   ]
  },
  {
   "cell_type": "markdown",
   "id": "f5da75a2",
   "metadata": {},
   "source": [
    "Defining model is done!  \n",
    "\n",
    "Before starting training, let's find better learning rate."
   ]
  },
  {
   "cell_type": "code",
   "execution_count": null,
   "id": "c8f0715d",
   "metadata": {},
   "outputs": [],
   "source": [
    "res = learn.lr_find(stop_div=False)\n",
    "min_grad_lr, steep_grad_lr = res.lr_min, res.lr_steep"
   ]
  },
  {
   "cell_type": "markdown",
   "id": "535a87af",
   "metadata": {},
   "source": [
    "Now we know good learning rate then let's train the model!  \n",
    "fastai's learner has function to execute fine tuning (pretrained with ImageNet).  \n",
    "You don't have to freeze the model's weights explicitly.  "
   ]
  },
  {
   "cell_type": "code",
   "execution_count": null,
   "id": "f229b99d",
   "metadata": {},
   "outputs": [],
   "source": [
    "learn.fine_tune(10, base_lr=min_grad_lr)\n",
    "learn.export('resnet18.pkl')"
   ]
  },
  {
   "cell_type": "markdown",
   "id": "e612d4e0",
   "metadata": {},
   "source": [
    "---\n",
    "## Inference\n",
    "Prediction looks not good for now, but we submit it anyway.  \n",
    "To do that, we give filepath to `learn.dls.test_dl` and let the learner predicts."
   ]
  },
  {
   "cell_type": "code",
   "execution_count": null,
   "id": "bcdf1bdc",
   "metadata": {},
   "outputs": [],
   "source": [
    "df_t = pd.read_csv(path/'test.csv')\n",
    "fnames = [path/'test'/(x+'.jpg') for x in df_t['Id']]\n",
    "pred, _ = learn.get_preds(dl=learn.dls.test_dl(fnames, bs=128))\n",
    "sub = pd.read_csv(path/'sample_submission.csv')\n",
    "sub['Pawpularity'] = pred.flatten().tolist()\n",
    "sub.to_csv('submission.csv', index=False)\n",
    "sub"
   ]
  }
 ],
 "metadata": {},
 "nbformat": 4,
 "nbformat_minor": 5
}
