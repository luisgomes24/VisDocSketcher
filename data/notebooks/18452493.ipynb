{
 "cells": [
  {
   "cell_type": "code",
   "execution_count": null,
   "id": "63466f81",
   "metadata": {},
   "outputs": [],
   "source": [
    "import pandas as pd\n",
    "dataset=pd.read_csv('../input/chinese-mnist-digit-recognizer/chineseMNIST.csv')\n",
    "dataset.head()"
   ]
  },
  {
   "cell_type": "code",
   "execution_count": null,
   "id": "300fe340",
   "metadata": {},
   "outputs": [],
   "source": [
    "dataset=dataset.loc[:,:'label']\n",
    "dataset.head()"
   ]
  },
  {
   "cell_type": "code",
   "execution_count": null,
   "id": "d187fdb0",
   "metadata": {},
   "outputs": [],
   "source": [
    "dataset=dataset.sample(len(dataset))\n",
    "dataset=dataset.reset_index(drop = True)\n",
    "dataset.head()"
   ]
  },
  {
   "cell_type": "code",
   "execution_count": null,
   "id": "23c091c7",
   "metadata": {},
   "outputs": [],
   "source": [
    "dataset.info()"
   ]
  },
  {
   "cell_type": "code",
   "execution_count": null,
   "id": "05b5314a",
   "metadata": {},
   "outputs": [],
   "source": [
    "dataset.nunique().sort_values(ascending=False)[:5]"
   ]
  },
  {
   "cell_type": "code",
   "execution_count": null,
   "id": "b94a64c7",
   "metadata": {},
   "outputs": [],
   "source": [
    "data = dataset.sample(frac=0.8, random_state=42)\n",
    "data_unseen = dataset.drop(data.index)\n",
    "data.reset_index(inplace=True, drop=True)\n",
    "data_unseen.reset_index(inplace=True, drop=True)\n",
    "print('Data for Modeling: ' + str(data.shape))"
   ]
  },
  {
   "cell_type": "code",
   "execution_count": null,
   "id": "a5474440",
   "metadata": {},
   "outputs": [],
   "source": [
    "print('Unseen Data For Predictions: ' + str(data_unseen.shape))"
   ]
  },
  {
   "cell_type": "code",
   "execution_count": null,
   "id": "0eeeb7de",
   "metadata": {},
   "outputs": [],
   "source": [
    "!pip install pycaret"
   ]
  },
  {
   "cell_type": "code",
   "execution_count": null,
   "id": "6ccb6dda",
   "metadata": {},
   "outputs": [],
   "source": [
    "from pycaret.classification import *"
   ]
  },
  {
   "cell_type": "code",
   "execution_count": null,
   "id": "b5ba5a78",
   "metadata": {},
   "outputs": [],
   "source": [
    "numeric_features=data.columns.tolist()\n",
    "numeric_features.remove('label')\n",
    "numeric_features[:5]"
   ]
  },
  {
   "cell_type": "code",
   "execution_count": null,
   "id": "5c8b2bfe",
   "metadata": {},
   "outputs": [],
   "source": [
    "exp_clf101 = setup(data = data, target = 'label', session_id=42,\n",
    "                  normalize = True, \n",
    "                  transformation = True, \n",
    "                  log_experiment = True,\n",
    "                  handle_unknown_categorical = True, \n",
    "                  unknown_categorical_method = 'most_frequent',\n",
    "                  remove_multicollinearity = True, #rop one of the two features that are highly correlated with each other\n",
    "                  ignore_low_variance = True,#all categorical features with statistically insignificant variances are removed from the dataset.\n",
    "                  combine_rare_levels = True,# all levels in categorical features below the threshold defined in rare_level_threshold param are combined together as a single level\n",
    "                  numeric_imputation='median',\n",
    "                  categorical_imputation='mode',\n",
    "                  numeric_features=numeric_features)"
   ]
  },
  {
   "cell_type": "code",
   "execution_count": null,
   "id": "68bd6002",
   "metadata": {},
   "outputs": [],
   "source": [
    "compare_models()"
   ]
  },
  {
   "cell_type": "markdown",
   "id": "e6c4a7fc",
   "metadata": {},
   "source": [
    "Since, It takes 5 hrs to train & compare the model. A session can be only 9hrs so, we will proceed with new notebook. "
   ]
  }
 ],
 "metadata": {},
 "nbformat": 4,
 "nbformat_minor": 5
}
