{
 "cells": [
  {
   "cell_type": "markdown",
   "id": "91d49428",
   "metadata": {},
   "source": [
    "# Tarea 1"
   ]
  },
  {
   "cell_type": "markdown",
   "id": "c9f1f86e",
   "metadata": {},
   "source": [
    "## Importing Libraries"
   ]
  },
  {
   "cell_type": "code",
   "execution_count": null,
   "id": "55372150",
   "metadata": {},
   "outputs": [],
   "source": [
    "\n",
    "\n",
    "import numpy as np\n",
    "import pandas as pd\n",
    "\n",
    "\n",
    "import seaborn as sns\n",
    "import matplotlib.pyplot as plt\n",
    "\n",
    "#To plot the graph embedded in the notebook\n",
    "%matplotlib inline\n",
    "\n",
    "#imports from sklearn library\n",
    "\n",
    "from sklearn import datasets\n",
    "from sklearn.linear_model import LinearRegression\n",
    "from sklearn import linear_model\n",
    "from sklearn.model_selection import train_test_split, cross_val_score\n",
    "from sklearn.metrics import mean_squared_error"
   ]
  },
  {
   "cell_type": "markdown",
   "id": "9b920923",
   "metadata": {},
   "source": [
    "## Data Explore"
   ]
  },
  {
   "cell_type": "code",
   "execution_count": null,
   "id": "d338e1de",
   "metadata": {},
   "outputs": [],
   "source": [
    "#import dataset\n",
    "ds_boston = datasets.load_boston()"
   ]
  },
  {
   "cell_type": "code",
   "execution_count": null,
   "id": "9b50b343",
   "metadata": {},
   "outputs": [],
   "source": [
    "print(type(ds_boston))\n",
    "print('\\n')\n",
    "print(ds_boston.keys())\n",
    "print('\\n')\n",
    "print(ds_boston.data.shape)\n",
    "print('\\n')\n",
    "print(ds_boston.feature_names)"
   ]
  },
  {
   "cell_type": "code",
   "execution_count": null,
   "id": "c2261ab0",
   "metadata": {},
   "outputs": [],
   "source": [
    "print(ds_boston.DESCR)"
   ]
  },
  {
   "cell_type": "code",
   "execution_count": null,
   "id": "6724461a",
   "metadata": {},
   "outputs": [],
   "source": [
    "#converting to pandas dataset\n",
    "df = pd.DataFrame(ds_boston.data, columns = ds_boston.feature_names)\n",
    "df['PRICE'] = ds_boston.target\n",
    "\n",
    "print(df.head())"
   ]
  },
  {
   "cell_type": "code",
   "execution_count": null,
   "id": "b6cbbc03",
   "metadata": {},
   "outputs": [],
   "source": [
    "#Data Cleansing\n",
    "df.isnull().sum()"
   ]
  },
  {
   "cell_type": "code",
   "execution_count": null,
   "id": "9c2e1b26",
   "metadata": {},
   "outputs": [],
   "source": [
    "print(df.describe())"
   ]
  },
  {
   "cell_type": "code",
   "execution_count": null,
   "id": "f1ab9382",
   "metadata": {},
   "outputs": [],
   "source": [
    "sns.set(rc={'figure.figsize':(11.7,8.27)})\n",
    "plt.hist(df['PRICE'], bins=30)\n",
    "plt.xlabel(\"Prices($1000)\")\n",
    "plt.show()"
   ]
  },
  {
   "cell_type": "code",
   "execution_count": null,
   "id": "328f5bc4",
   "metadata": {},
   "outputs": [],
   "source": [
    "x, y = ds_boston.data, ds_boston.target"
   ]
  },
  {
   "cell_type": "code",
   "execution_count": null,
   "id": "882e68ca",
   "metadata": {},
   "outputs": [],
   "source": [
    "rooms= x[:, np.newaxis, 5]\n",
    "price=y"
   ]
  },
  {
   "cell_type": "markdown",
   "id": "a1d867ca",
   "metadata": {},
   "source": [
    "## Dataset Split"
   ]
  },
  {
   "cell_type": "code",
   "execution_count": null,
   "id": "30d654d4",
   "metadata": {},
   "outputs": [],
   "source": [
    "X_train, X_test, y_train, y_test = train_test_split(rooms,price, test_size=0.30, random_state=50)"
   ]
  },
  {
   "cell_type": "code",
   "execution_count": null,
   "id": "22e260b3",
   "metadata": {},
   "outputs": [],
   "source": [
    "#Dibuje un grafico para cada dataset\n",
    "plt.scatter(rooms, price, marker = \".\", s = 60, c = \"green\")\n",
    "plt.xlabel(\"Rooms\")\n",
    "plt.ylabel(\"Price($1000s)\")\n",
    "plt.show()"
   ]
  },
  {
   "cell_type": "code",
   "execution_count": null,
   "id": "e0b76c4e",
   "metadata": {},
   "outputs": [],
   "source": [
    "#2.Dibuje un gráfico para cada dataset (4 pts)\n",
    "#X_train=np.arange(0,len(X_train),1)\n",
    "#X_test=np.arange(0,len(X_test),1)\n",
    "fig, (ax1, ax2) = plt.subplots(1, 2, figsize=(20, 8))\n",
    "ax1.scatter(X_train,y_train, marker = \".\", s = 60, c = \"blue\")\n",
    "ax2.scatter(X_test,y_test, marker = \".\", s = 60, c = \"red\")\n",
    "fig.text(0.5, 0.04, 'Amount of Rooms', ha='center')\n",
    "fig.text(0.09, 0.5, 'Prices', va='center', rotation='vertical')\n",
    "plt.show()"
   ]
  },
  {
   "cell_type": "markdown",
   "id": "2ce697a6",
   "metadata": {},
   "source": [
    "Model"
   ]
  },
  {
   "cell_type": "code",
   "execution_count": null,
   "id": "2a4e13f2",
   "metadata": {},
   "outputs": [],
   "source": [
    "model = linear_model.Lasso(alpha=0.3)\n",
    "model.fit(X_train, y_train)"
   ]
  },
  {
   "cell_type": "code",
   "execution_count": null,
   "id": "ff89f04f",
   "metadata": {},
   "outputs": [],
   "source": [
    "b_1 = model.coef_[0]\n",
    "b_0 = model.intercept_\n",
    "\n",
    "print(\"b0:\",b_0, \"b1:\", b_1)"
   ]
  },
  {
   "cell_type": "markdown",
   "id": "7ab93a85",
   "metadata": {},
   "source": [
    "Predictions"
   ]
  },
  {
   "cell_type": "code",
   "execution_count": null,
   "id": "5c97cd63",
   "metadata": {},
   "outputs": [],
   "source": [
    "fig, (ax1, ax2) = plt.subplots(1, 2, figsize=(20, 8))\n",
    "\n",
    "ax1.scatter(X_train,y_train, marker = \".\", s = 60, c = \"blue\")\n",
    "y_prima_train = model.predict(X_train)\n",
    "ax1.plot(X_train, y_prima_train, 'm-')\n",
    "\n",
    "ax2.scatter(X_test,y_test, marker = \".\", s = 60, c = \"red\")\n",
    "y_prima_test = model.predict(X_test)\n",
    "ax2.plot(X_test, y_prima_test, 'm-')\n",
    "\n",
    "fig.text(0.5, 0.04, 'Avg Rooms per house', ha='center')\n",
    "fig.text(0.09, 0.5, 'Price', va='center', rotation='vertical')\n",
    "plt.show()"
   ]
  },
  {
   "cell_type": "markdown",
   "id": "01a55b6e",
   "metadata": {},
   "source": [
    "Residual Sum of Squares"
   ]
  },
  {
   "cell_type": "code",
   "execution_count": null,
   "id": "f326adba",
   "metadata": {},
   "outputs": [],
   "source": [
    "rss_train = np.sum((y_train - model.predict(X_train))**2)\n",
    "rss_test = np.sum((y_test - model.predict(X_test))**2)\n",
    "\n",
    "print(f\"RSS (train): {rss_train}, RSS (test): {rss_test}\")"
   ]
  },
  {
   "cell_type": "markdown",
   "id": "bee894a0",
   "metadata": {},
   "source": [
    "Mean Squared Error"
   ]
  },
  {
   "cell_type": "code",
   "execution_count": null,
   "id": "508bc5c0",
   "metadata": {},
   "outputs": [],
   "source": [
    "mse_train = (1/len(X_train)) * rss_train\n",
    "mse_test = (1/len(X_test)) * rss_test\n",
    "\n",
    "print(f\"MSE (train): {mse_train}, MSE (test): {mse_test}\")"
   ]
  },
  {
   "cell_type": "markdown",
   "id": "7019bab4",
   "metadata": {},
   "source": [
    "Root Mean Squared Error"
   ]
  },
  {
   "cell_type": "code",
   "execution_count": null,
   "id": "9674fc08",
   "metadata": {},
   "outputs": [],
   "source": [
    "rmse_train = np.sqrt(rss_train)\n",
    "rmse_test = np.sqrt(rss_test)\n",
    "\n",
    "print(f\"RMSE (train): {rmse_train}, RMSE (test): {rmse_test}\")"
   ]
  },
  {
   "cell_type": "markdown",
   "id": "48539e4b",
   "metadata": {},
   "source": [
    "Mean Absolute Error"
   ]
  },
  {
   "cell_type": "code",
   "execution_count": null,
   "id": "7c1b5614",
   "metadata": {},
   "outputs": [],
   "source": [
    "mae_train = (1/len(X_train)) * np.sum(np.abs(y_train - model.predict(X_train)))\n",
    "mae_test = (1/len(X_test)) * np.sum(np.abs(y_test - model.predict(X_test)))\n",
    "\n",
    "print(f\"MAE (train): {mae_train}, MAE (test): {mae_test}\")"
   ]
  },
  {
   "cell_type": "markdown",
   "id": "6749a1c9",
   "metadata": {},
   "source": [
    "El Error absoluto medio es de $4k dolares en el modelo de entrenamiento y $5300 en training"
   ]
  }
 ],
 "metadata": {},
 "nbformat": 4,
 "nbformat_minor": 5
}
