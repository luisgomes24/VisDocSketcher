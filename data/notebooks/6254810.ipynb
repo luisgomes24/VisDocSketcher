{
 "cells": [
  {
   "cell_type": "markdown",
   "id": "82131aff",
   "metadata": {},
   "source": [
    "# أسرار الألماس! \n",
    "\n",
    "في هذا التحدي، سنقوم معًا بتجربة استكشاف بيانات ضخمة حول الألماس في العالم، مواصفات الألماس وألوانه والأهم أسعاره.\n",
    "\n",
    "هذا التحدي ماهو إلا مسابقة لتتعرفوا فيها على عالم كاقل، وتخوضوا تجربة المنافسة فيما بينكم بكل متعة.\n",
    "\n",
    "لديك في الأسفل ثمان مهمات، المهمة الأولى وحتى السابعة مهمات أساسية، والمهمة الثامنة هي مهمة اختيارية.\n",
    "عند الانتهاء من المهمات المطلوبة، قم بالضغط على زر كومت أو\n",
    "- commit\n",
    "\n",
    "ليتم رفع النوت بوك الخاص بك لقائمة التسليمات.\n",
    "ولا تنسى أن تقوم بتغيير إعدادات النوت بوك من القائمة يمينًا في الإعدادات اختر\n",
    "- sharing: public\n",
    "\n",
    "ثم انسخ الرابط للصفحة وشاركنا إياه.\n",
    "\n",
    "كل التوفيق!"
   ]
  },
  {
   "cell_type": "code",
   "execution_count": null,
   "id": "8c12f4eb",
   "metadata": {},
   "outputs": [],
   "source": [
    "import numpy as np \n",
    "import pandas as pd\n",
    "import seaborn as sns\n",
    "import matplotlib.pyplot as plt\n",
    "\n",
    "import os\n",
    "print(os.listdir(os.getcwd()))\n",
    "\n",
    "\n",
    "%matplotlib inline\n",
    "plt.style.use(\"seaborn\")"
   ]
  },
  {
   "cell_type": "markdown",
   "id": "67314602",
   "metadata": {},
   "source": [
    "# المهمة الأولى\n",
    "مطلوب منك إرفاق ملف البيانات للألماس\n",
    "\n",
    "قم بالضغط على زر إضافة بيانات أو\n",
    "- Add Data\n",
    "\n",
    "وفي النافذة في شريط البحث اكتب\n",
    "- diamonds\n",
    "\n",
    "واختر أول ملف بيانات سيظهر لك، ستتم إصافته لك في القائمة يمينًا،\n",
    "للتأكد من إضافة الملف بشكل صحيح ستجد مجلدًا على اليمين اسمه\n",
    "- Diamonds\n",
    "\n",
    "تحت عنوان \n",
    "- Data\n",
    "\n",
    "\n",
    "الآن وبعد إضافة ملف البيانات ستجد أننا جهزنا لك متغير اسمه\n",
    "- dpath\n",
    "\n",
    "قم فقط بإضافة المسار هذا في دالة القراءة وأضف عليها اسم ملف البيانات لتتم قراءته كما تعودنا."
   ]
  },
  {
   "cell_type": "code",
   "execution_count": null,
   "id": "45a54ac3",
   "metadata": {},
   "outputs": [],
   "source": [
    "# Import data #\n",
    "dpath = '../input/diamonds.csv'\n",
    "diamonddf = pd.read_csv(dpath)"
   ]
  },
  {
   "cell_type": "markdown",
   "id": "5f2413b8",
   "metadata": {},
   "source": [
    "# المهمة الثانية\n",
    "قم بطباعة جدول البيانات للتحقق من قراءته بشكل سليم ولمعرفة الأعمدة وأمثلة على البيانات"
   ]
  },
  {
   "cell_type": "code",
   "execution_count": null,
   "id": "d08968ef",
   "metadata": {},
   "outputs": [],
   "source": [
    "diamonddf.head()"
   ]
  },
  {
   "cell_type": "markdown",
   "id": "10c4b97b",
   "metadata": {},
   "source": [
    "# المهمة الثالثة\n",
    "قم بطباعة معلومات حول البيانات والتي تشمل نوع البيانات في كل عمود وعددها"
   ]
  },
  {
   "cell_type": "code",
   "execution_count": null,
   "id": "e732db77",
   "metadata": {},
   "outputs": [],
   "source": [
    "diamonddf.info()"
   ]
  },
  {
   "cell_type": "markdown",
   "id": "94ac4b8f",
   "metadata": {},
   "source": [
    "# المهمة الرابعة\n",
    "يوجد عمود في جدول البيانات لا يعبر عن معلومة مفيدة ويبدو زائدًا، بعد أن تتعرف على اسم العمود قم بحذفه من جدول البيانات ثم أعد طباعة الجدول"
   ]
  },
  {
   "cell_type": "code",
   "execution_count": null,
   "id": "82d8fdef",
   "metadata": {},
   "outputs": [],
   "source": [
    "diamonddf.drop('clarity', axis=1, inplace=True)"
   ]
  },
  {
   "cell_type": "code",
   "execution_count": null,
   "id": "c903c639",
   "metadata": {},
   "outputs": [],
   "source": [
    "diamonddf"
   ]
  },
  {
   "cell_type": "markdown",
   "id": "20309327",
   "metadata": {},
   "source": [
    "# المهمة الخامسة\n",
    "هل لدينا أي بيانات مفقودة داخل الجدول؟ تحقق من ذلك ثم أجب عن السؤال بشكل نصي"
   ]
  },
  {
   "cell_type": "code",
   "execution_count": null,
   "id": "a74c297b",
   "metadata": {},
   "outputs": [],
   "source": [
    "diamonddf.isna().sum()"
   ]
  },
  {
   "cell_type": "markdown",
   "id": "0ca1f226",
   "metadata": {},
   "source": [
    "بعد أن قمت بالتحقق، هل لدينا بيانات مفقودة أم لا؟\n",
    "وإن كان لدينا بيانات مفقودة قم باستبدالها بقيمة المتوسط الحسابي"
   ]
  },
  {
   "cell_type": "markdown",
   "id": "405854bb",
   "metadata": {},
   "source": [
    "لا توجد هناك اي بيانات مفقودة  "
   ]
  },
  {
   "cell_type": "markdown",
   "id": "2ae971f6",
   "metadata": {},
   "source": [
    "# المهمة السادسة\n",
    "بالاستعانة بالأوامر الموجودة في الأسفل، قم بتمثيل كلاً من الأعمدة الآتية في رسم بياني منفصل\n",
    "- depth\n",
    "- table\n",
    "- price"
   ]
  },
  {
   "cell_type": "code",
   "execution_count": null,
   "id": "1791c00d",
   "metadata": {},
   "outputs": [],
   "source": [
    "colors = sns.color_palette(\"deep\")\n",
    "sns.distplot(diamonddf[\"carat\"], color = colors[0])\n",
    "plt.show()\n",
    "# "
   ]
  },
  {
   "cell_type": "code",
   "execution_count": null,
   "id": "b93ff10f",
   "metadata": {},
   "outputs": [],
   "source": [
    "colors = sns.color_palette(\"deep\")\n",
    "sns.distplot(diamonddf[\"depth\"], color = colors[0])\n",
    "plt.show()"
   ]
  },
  {
   "cell_type": "code",
   "execution_count": null,
   "id": "c3df30e0",
   "metadata": {},
   "outputs": [],
   "source": [
    "colors = sns.color_palette(\"deep\")\n",
    "sns.distplot(diamonddf[\"table\"], color = colors[0])\n",
    "plt.show()"
   ]
  },
  {
   "cell_type": "code",
   "execution_count": null,
   "id": "d58087cc",
   "metadata": {},
   "outputs": [],
   "source": [
    "colors = sns.color_palette(\"deep\")\n",
    "sns.distplot(diamonddf[\"price\"], color = colors[0])\n",
    "plt.show()"
   ]
  },
  {
   "cell_type": "markdown",
   "id": "46f935bf",
   "metadata": {},
   "source": [
    "# المهمة السابعة\n",
    "أوجد متوسط أسعار الألماس بالنسبة للبيانات التي لدينا، ثم أوجد أكثر سعر تكرر وجوده في البيانات أيضًا"
   ]
  },
  {
   "cell_type": "code",
   "execution_count": null,
   "id": "6158be64",
   "metadata": {},
   "outputs": [],
   "source": [
    "diamonddf[\"price\"].mean()"
   ]
  },
  {
   "cell_type": "code",
   "execution_count": null,
   "id": "941b4eab",
   "metadata": {},
   "outputs": [],
   "source": [
    "diamonddf[\"price\"].mode()"
   ]
  },
  {
   "cell_type": "markdown",
   "id": "480bd031",
   "metadata": {},
   "source": [
    "# المهمة الثامنة\n",
    "للتحليل الاستكشافي، هل تتوقع أن هناك علاقة بين لون الألماس وبين سعره؟\n",
    "قم برسم مدرج بياني يوضح العلاقة بين هذين المتغيرين لتوقع وجود علاقة من عدمها، ثم أوصف العلاقة بشكل مختصر."
   ]
  },
  {
   "cell_type": "code",
   "execution_count": null,
   "id": "e0ab9dd7",
   "metadata": {},
   "outputs": [],
   "source": [
    " "
   ]
  },
  {
   "cell_type": "code",
   "execution_count": null,
   "id": "acbe779d",
   "metadata": {},
   "outputs": [],
   "source": [
    "nan"
   ]
  },
  {
   "cell_type": "markdown",
   "id": "a4d60e8e",
   "metadata": {},
   "source": [
    "# تهانينا! قم بتسليم الملف من خلال زر كومت في أعلى الصفحة يمينًا مع فتح إعدادات المشاركة أو تسليم الملف من خلاله تنزيل نسخة منه وإرسالها."
   ]
  }
 ],
 "metadata": {},
 "nbformat": 4,
 "nbformat_minor": 5
}
