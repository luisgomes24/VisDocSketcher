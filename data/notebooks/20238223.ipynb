{
 "cells": [
  {
   "cell_type": "code",
   "execution_count": null,
   "id": "32c0fd93",
   "metadata": {},
   "outputs": [],
   "source": [
    "import numpy as np # linear algebra\n",
    "import pandas as pd # data processing, CSV file I/O (e.g. pd.read_csv)\n",
    "import matplotlib.pyplot as plt\n",
    "import seaborn as sns\n",
    "from scipy import stats\n",
    "import warnings\n",
    "\n",
    "import lightgbm as lgb\n",
    "from sklearn.metrics import mean_squared_error\n",
    "\n",
    "# setting up options\n",
    "pd.set_option('display.max_rows', None)\n",
    "pd.set_option('display.max_columns', None)\n",
    "pd.set_option('float_format', '{:f}'.format)\n",
    "warnings.filterwarnings('ignore')"
   ]
  },
  {
   "cell_type": "markdown",
   "id": "076f9bd3",
   "metadata": {},
   "source": [
    "# Stratified KFold 5 Folds\n",
    "\n",
    "Most of this notebook is taken from [abhishek thakur's create-folds notebook](https://www.kaggle.com/abhishek/30-days-create-folds) but since its a binary classification problem we are using Stratified KFold instead of Simple Kfold"
   ]
  },
  {
   "cell_type": "code",
   "execution_count": null,
   "id": "9e54e742",
   "metadata": {},
   "outputs": [],
   "source": [
    "train = pd.read_csv(\"../input/tabular-playground-series-sep-2021/train.csv\")\n",
    "test = pd.read_csv(\"../input/tabular-playground-series-sep-2021/test.csv\")\n",
    "sample_submission = pd.read_csv(\"../input/tabular-playground-series-sep-2021/sample_solution.csv\")"
   ]
  },
  {
   "cell_type": "code",
   "execution_count": null,
   "id": "00e454c1",
   "metadata": {},
   "outputs": [],
   "source": [
    "train.head()"
   ]
  },
  {
   "cell_type": "code",
   "execution_count": null,
   "id": "d50a730f",
   "metadata": {},
   "outputs": [],
   "source": [
    "test.head()"
   ]
  },
  {
   "cell_type": "code",
   "execution_count": null,
   "id": "fe401af8",
   "metadata": {},
   "outputs": [],
   "source": [
    "train.describe()"
   ]
  },
  {
   "cell_type": "code",
   "execution_count": null,
   "id": "0d56818e",
   "metadata": {},
   "outputs": [],
   "source": [
    "test.describe()"
   ]
  },
  {
   "cell_type": "code",
   "execution_count": null,
   "id": "65d9520b",
   "metadata": {},
   "outputs": [],
   "source": [
    "train.shape , test.shape"
   ]
  },
  {
   "cell_type": "code",
   "execution_count": null,
   "id": "2e9ea0b5",
   "metadata": {},
   "outputs": [],
   "source": [
    "train.isnull().sum()[:10]"
   ]
  },
  {
   "cell_type": "code",
   "execution_count": null,
   "id": "67999f8a",
   "metadata": {},
   "outputs": [],
   "source": [
    "test.isnull().sum()[:10]"
   ]
  },
  {
   "cell_type": "code",
   "execution_count": null,
   "id": "3a2c4a02",
   "metadata": {},
   "outputs": [],
   "source": [
    "train.claim.hist()"
   ]
  },
  {
   "cell_type": "code",
   "execution_count": null,
   "id": "7949cdb0",
   "metadata": {},
   "outputs": [],
   "source": [
    "from sklearn import model_selection\n",
    "x = train\n",
    "y = train.claim.values"
   ]
  },
  {
   "cell_type": "code",
   "execution_count": null,
   "id": "9509eeff",
   "metadata": {},
   "outputs": [],
   "source": [
    "kf = model_selection.StratifiedKFold(n_splits=5, shuffle=True, random_state=42)\n",
    "for fold, (train_indicies, valid_indicies) in enumerate(kf.split(X=train,y = y)):\n",
    "    train.loc[valid_indicies, \"kfold\"] = int(fold)"
   ]
  },
  {
   "cell_type": "code",
   "execution_count": null,
   "id": "a5218610",
   "metadata": {},
   "outputs": [],
   "source": [
    "train.head()"
   ]
  },
  {
   "cell_type": "code",
   "execution_count": null,
   "id": "afd6ca13",
   "metadata": {},
   "outputs": [],
   "source": [
    "train.to_csv(\"septps_train_folds.csv\", index=False)"
   ]
  },
  {
   "cell_type": "code",
   "execution_count": null,
   "id": "659675fe",
   "metadata": {},
   "outputs": [],
   "source": [
    "test.to_csv(\"septps_test.csv\",index = False)"
   ]
  },
  {
   "cell_type": "markdown",
   "id": "9c610c56",
   "metadata": {},
   "source": [
    "# WIP\n",
    "\n",
    "### Next we are going to do some simple Feature Engineering"
   ]
  }
 ],
 "metadata": {},
 "nbformat": 4,
 "nbformat_minor": 5
}
