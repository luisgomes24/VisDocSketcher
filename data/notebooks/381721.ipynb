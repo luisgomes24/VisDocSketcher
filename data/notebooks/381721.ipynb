{
 "cells": [
  {
   "cell_type": "markdown",
   "id": "1b7a67a2",
   "metadata": {},
   "source": [
    "# Transfer learning with pretrained Keras models\n",
    "\n",
    "Although Kernel resources were increased recently we still can not train useful CNNs without GPU. The original ImageNet set has quite a few different dog classes so we can reuse CNNs with pretrained ImageNet weights. Fortunately prediction is much faster (<1s/image) making it possible to run meaningful experiments with Kaggle Kernels."
   ]
  },
  {
   "cell_type": "code",
   "execution_count": null,
   "id": "b0caa392",
   "metadata": {},
   "outputs": [],
   "source": [
    "%matplotlib inline\n",
    "import numpy as np\n",
    "import pandas as pd\n",
    "import datetime as dt\n",
    "import matplotlib.pyplot as plt\n",
    "from mpl_toolkits.axes_grid1 import ImageGrid\n",
    "from os import listdir, makedirs\n",
    "from os.path import join, exists, expanduser\n",
    "from tqdm import tqdm\n",
    "from sklearn.metrics import log_loss, accuracy_score\n",
    "from keras.preprocessing import image\n",
    "from keras.applications.vgg16 import VGG16\n",
    "from keras.applications.resnet50 import ResNet50\n",
    "from keras.applications import xception\n",
    "from keras.applications import inception_v3\n",
    "from keras.applications.vgg16 import preprocess_input, decode_predictions\n",
    "from sklearn.linear_model import LogisticRegression"
   ]
  },
  {
   "cell_type": "code",
   "execution_count": null,
   "id": "ad083aaa",
   "metadata": {},
   "outputs": [],
   "source": [
    "start = dt.datetime.now()"
   ]
  },
  {
   "cell_type": "markdown",
   "id": "2918a89d",
   "metadata": {},
   "source": [
    "# Use Keras Pretrained Models dataset\n",
    "\n",
    "Kernels can't use network connection to download pretrained keras model weights.\n",
    "This dataset helps you to apply your favorite pretrained model in the Kaggle Kernel environment. \n",
    "You can find more details [here](https://www.kaggle.com/gaborfodor/keras-pretrained-models).\n",
    "\n",
    "We have to copy the pretrained models to the cache directory (~/.keras/models) where keras is looking for them.\n"
   ]
  },
  {
   "cell_type": "code",
   "execution_count": null,
   "id": "e0198088",
   "metadata": {},
   "outputs": [],
   "source": [
    "!ls ../input/keras-pretrained-models/"
   ]
  },
  {
   "cell_type": "code",
   "execution_count": null,
   "id": "591db59e",
   "metadata": {},
   "outputs": [],
   "source": [
    "cache_dir = expanduser(join('~', '.keras'))\n",
    "if not exists(cache_dir):\n",
    "    makedirs(cache_dir)\n",
    "models_dir = join(cache_dir, 'models')\n",
    "if not exists(models_dir):\n",
    "    makedirs(models_dir)"
   ]
  },
  {
   "cell_type": "code",
   "execution_count": null,
   "id": "cf2d0d7d",
   "metadata": {},
   "outputs": [],
   "source": [
    "!cp ../input/keras-pretrained-models/*notop* ~/.keras/models/\n",
    "!cp ../input/keras-pretrained-models/imagenet_class_index.json ~/.keras/models/\n",
    "!cp ../input/keras-pretrained-models/resnet50* ~/.keras/models/"
   ]
  },
  {
   "cell_type": "code",
   "execution_count": null,
   "id": "3583f693",
   "metadata": {},
   "outputs": [],
   "source": [
    "!ls ~/.keras/models"
   ]
  },
  {
   "cell_type": "code",
   "execution_count": null,
   "id": "84aa9755",
   "metadata": {},
   "outputs": [],
   "source": [
    "!ls ../input/dog-breed-identification"
   ]
  },
  {
   "cell_type": "markdown",
   "id": "d4f9b13b",
   "metadata": {},
   "source": [
    "# Use top 16 classes\n",
    "Using all the images would take more than the 1 hour kernel limit. Let's focus on the most frequent 16 breeds."
   ]
  },
  {
   "cell_type": "code",
   "execution_count": null,
   "id": "7ba9d21d",
   "metadata": {},
   "outputs": [],
   "source": [
    "INPUT_SIZE = 224\n",
    "NUM_CLASSES = 16\n",
    "SEED = 1987\n",
    "data_dir = '../input/dog-breed-identification'\n",
    "labels = pd.read_csv(join(data_dir, 'labels.csv'))\n",
    "sample_submission = pd.read_csv(join(data_dir, 'sample_submission.csv'))\n",
    "print(len(listdir(join(data_dir, 'train'))), len(labels))\n",
    "print(len(listdir(join(data_dir, 'test'))), len(sample_submission))"
   ]
  },
  {
   "cell_type": "code",
   "execution_count": null,
   "id": "3111a757",
   "metadata": {},
   "outputs": [],
   "source": [
    "selected_breed_list = list(labels.groupby('breed').count().sort_values(by='id', ascending=False).head(NUM_CLASSES).index)\n",
    "labels = labels[labels['breed'].isin(selected_breed_list)]\n",
    "labels['target'] = 1\n",
    "labels['rank'] = labels.groupby('breed').rank()['id']\n",
    "labels_pivot = labels.pivot('id', 'breed', 'target').reset_index().fillna(0)\n",
    "np.random.seed(seed=SEED)\n",
    "rnd = np.random.random(len(labels))\n",
    "train_idx = rnd < 0.8\n",
    "valid_idx = rnd >= 0.8\n",
    "y_train = labels_pivot[selected_breed_list].values\n",
    "ytr = y_train[train_idx]\n",
    "yv = y_train[valid_idx]"
   ]
  },
  {
   "cell_type": "code",
   "execution_count": null,
   "id": "da9e2bb9",
   "metadata": {},
   "outputs": [],
   "source": [
    "def read_img(img_id, train_or_test, size):\n",
    "    \"\"\"Read and resize image.\n",
    "    # Arguments\n",
    "        img_id: string\n",
    "        train_or_test: string 'train' or 'test'.\n",
    "        size: resize the original image.\n",
    "    # Returns\n",
    "        Image as numpy array.\n",
    "    \"\"\"\n",
    "    img = image.load_img(join(data_dir, train_or_test, '%s.jpg' % img_id), target_size=size)\n",
    "    img = image.img_to_array(img)\n",
    "    return img"
   ]
  },
  {
   "cell_type": "markdown",
   "id": "51a00fef",
   "metadata": {},
   "source": [
    "# ResNet50 class predictions for example images"
   ]
  },
  {
   "cell_type": "code",
   "execution_count": null,
   "id": "7ccb9aaf",
   "metadata": {},
   "outputs": [],
   "source": [
    "model = ResNet50(weights='imagenet')\n",
    "j = int(np.sqrt(NUM_CLASSES))\n",
    "i = int(np.ceil(1. * NUM_CLASSES / j))\n",
    "fig = plt.figure(1, figsize=(16, 16))\n",
    "grid = ImageGrid(fig, 111, nrows_ncols=(i, j), axes_pad=0.05)\n",
    "for i, (img_id, breed) in enumerate(labels.loc[labels['rank'] == 1, ['id', 'breed']].values):\n",
    "    ax = grid[i]\n",
    "    img = read_img(img_id, 'train', (224, 224))\n",
    "    ax.imshow(img / 255.)\n",
    "    x = preprocess_input(np.expand_dims(img.copy(), axis=0))\n",
    "    preds = model.predict(x)\n",
    "    _, imagenet_class_name, prob = decode_predictions(preds, top=1)[0][0]\n",
    "    ax.text(10, 180, 'ResNet50: %s (%.2f)' % (imagenet_class_name , prob), color='w', backgroundcolor='k', alpha=0.8)\n",
    "    ax.text(10, 200, 'LABEL: %s' % breed, color='k', backgroundcolor='w', alpha=0.8)\n",
    "    ax.axis('off')\n",
    "plt.show()"
   ]
  },
  {
   "cell_type": "markdown",
   "id": "b7042f82",
   "metadata": {},
   "source": [
    "Preprocessing and prediction seems to be working. 75% accuracy on these 16 images."
   ]
  },
  {
   "cell_type": "markdown",
   "id": "16ce31e8",
   "metadata": {},
   "source": [
    "# Extract VGG16 bottleneck features"
   ]
  },
  {
   "cell_type": "code",
   "execution_count": null,
   "id": "70f56c39",
   "metadata": {},
   "outputs": [],
   "source": [
    "INPUT_SIZE = 224\n",
    "POOLING = 'avg'\n",
    "x_train = np.zeros((len(labels), INPUT_SIZE, INPUT_SIZE, 3), dtype='float32')\n",
    "for i, img_id in tqdm(enumerate(labels['id'])):\n",
    "    img = read_img(img_id, 'train', (INPUT_SIZE, INPUT_SIZE))\n",
    "    x = preprocess_input(np.expand_dims(img.copy(), axis=0))\n",
    "    x_train[i] = x\n",
    "print('Train Images shape: {} size: {:,}'.format(x_train.shape, x_train.size))"
   ]
  },
  {
   "cell_type": "code",
   "execution_count": null,
   "id": "242f57a4",
   "metadata": {},
   "outputs": [],
   "source": [
    "Xtr = x_train[train_idx]\n",
    "Xv = x_train[valid_idx]\n",
    "print((Xtr.shape, Xv.shape, ytr.shape, yv.shape))\n",
    "vgg_bottleneck = VGG16(weights='imagenet', include_top=False, pooling=POOLING)\n",
    "train_vgg_bf = vgg_bottleneck.predict(Xtr, batch_size=32, verbose=1)\n",
    "valid_vgg_bf = vgg_bottleneck.predict(Xv, batch_size=32, verbose=1)\n",
    "print('VGG train bottleneck features shape: {} size: {:,}'.format(train_vgg_bf.shape, train_vgg_bf.size))\n",
    "print('VGG valid bottleneck features shape: {} size: {:,}'.format(valid_vgg_bf.shape, valid_vgg_bf.size))"
   ]
  },
  {
   "cell_type": "markdown",
   "id": "ca486346",
   "metadata": {},
   "source": [
    "# LogReg on VGG bottleneck features"
   ]
  },
  {
   "cell_type": "code",
   "execution_count": null,
   "id": "bc622e96",
   "metadata": {},
   "outputs": [],
   "source": [
    "logreg = LogisticRegression(multi_class='multinomial', solver='lbfgs', random_state=SEED)\n",
    "logreg.fit(train_vgg_bf, (ytr * range(NUM_CLASSES)).sum(axis=1))\n",
    "valid_probs = logreg.predict_proba(valid_vgg_bf)\n",
    "valid_preds = logreg.predict(valid_vgg_bf)"
   ]
  },
  {
   "cell_type": "code",
   "execution_count": null,
   "id": "f41d68a6",
   "metadata": {},
   "outputs": [],
   "source": [
    "print('Validation VGG LogLoss {}'.format(log_loss(yv, valid_probs)))\n",
    "print('Validation VGG Accuracy {}'.format(accuracy_score((yv * range(NUM_CLASSES)).sum(axis=1), valid_preds)))"
   ]
  },
  {
   "cell_type": "markdown",
   "id": "8ee92f57",
   "metadata": {},
   "source": [
    "Not bad, 90% accuracy for the top 16 classes. The multiclass classification with 120 classes is more difficult so these LogLoss/Accuracy scores does not translate to LB."
   ]
  },
  {
   "cell_type": "markdown",
   "id": "72e7a0f4",
   "metadata": {},
   "source": [
    "# Extract Xception bottleneck features"
   ]
  },
  {
   "cell_type": "code",
   "execution_count": null,
   "id": "f59f1cf8",
   "metadata": {},
   "outputs": [],
   "source": [
    "INPUT_SIZE = 299\n",
    "POOLING = 'avg'\n",
    "x_train = np.zeros((len(labels), INPUT_SIZE, INPUT_SIZE, 3), dtype='float32')\n",
    "for i, img_id in tqdm(enumerate(labels['id'])):\n",
    "    img = read_img(img_id, 'train', (INPUT_SIZE, INPUT_SIZE))\n",
    "    x = xception.preprocess_input(np.expand_dims(img.copy(), axis=0))\n",
    "    x_train[i] = x\n",
    "print('Train Images shape: {} size: {:,}'.format(x_train.shape, x_train.size))"
   ]
  },
  {
   "cell_type": "code",
   "execution_count": null,
   "id": "2b127cd4",
   "metadata": {},
   "outputs": [],
   "source": [
    "Xtr = x_train[train_idx]\n",
    "Xv = x_train[valid_idx]\n",
    "print((Xtr.shape, Xv.shape, ytr.shape, yv.shape))\n",
    "xception_bottleneck = xception.Xception(weights='imagenet', include_top=False, pooling=POOLING)\n",
    "train_x_bf = xception_bottleneck.predict(Xtr, batch_size=32, verbose=1)\n",
    "valid_x_bf = xception_bottleneck.predict(Xv, batch_size=32, verbose=1)\n",
    "print('Xception train bottleneck features shape: {} size: {:,}'.format(train_x_bf.shape, train_x_bf.size))\n",
    "print('Xception valid bottleneck features shape: {} size: {:,}'.format(valid_x_bf.shape, valid_x_bf.size))"
   ]
  },
  {
   "cell_type": "markdown",
   "id": "405a5a92",
   "metadata": {},
   "source": [
    "# LogReg on Xception bottleneck features\n"
   ]
  },
  {
   "cell_type": "code",
   "execution_count": null,
   "id": "bfe22640",
   "metadata": {},
   "outputs": [],
   "source": [
    "logreg = LogisticRegression(multi_class='multinomial', solver='lbfgs', random_state=SEED)\n",
    "logreg.fit(train_x_bf, (ytr * range(NUM_CLASSES)).sum(axis=1))\n",
    "valid_probs = logreg.predict_proba(valid_x_bf)\n",
    "valid_preds = logreg.predict(valid_x_bf)\n",
    "print('Validation Xception LogLoss {}'.format(log_loss(yv, valid_probs)))\n",
    "print('Validation Xception Accuracy {}'.format(accuracy_score((yv * range(NUM_CLASSES)).sum(axis=1), valid_preds)))"
   ]
  },
  {
   "cell_type": "markdown",
   "id": "dbf9e568",
   "metadata": {},
   "source": [
    "![](https://pics.me.me/such-wow-much-awesome-many-cool-bestest-thug-life-19337110.png)\n",
    "\n",
    "Much better! 98% accuracy 0.07 LogLoss."
   ]
  },
  {
   "cell_type": "markdown",
   "id": "6207257a",
   "metadata": {},
   "source": [
    "# Extract Inception bottleneck features"
   ]
  },
  {
   "cell_type": "code",
   "execution_count": null,
   "id": "c8a4b29b",
   "metadata": {},
   "outputs": [],
   "source": [
    "Xtr = x_train[train_idx]\n",
    "Xv = x_train[valid_idx]\n",
    "print((Xtr.shape, Xv.shape, ytr.shape, yv.shape))\n",
    "inception_bottleneck = inception_v3.InceptionV3(weights='imagenet', include_top=False, pooling=POOLING)\n",
    "train_i_bf = inception_bottleneck.predict(Xtr, batch_size=32, verbose=1)\n",
    "valid_i_bf = inception_bottleneck.predict(Xv, batch_size=32, verbose=1)\n",
    "print('InceptionV3 train bottleneck features shape: {} size: {:,}'.format(train_i_bf.shape, train_i_bf.size))\n",
    "print('InceptionV3 valid bottleneck features shape: {} size: {:,}'.format(valid_i_bf.shape, valid_i_bf.size))"
   ]
  },
  {
   "cell_type": "markdown",
   "id": "e71871ec",
   "metadata": {},
   "source": [
    "# LogReg on Inception bottleneck features"
   ]
  },
  {
   "cell_type": "code",
   "execution_count": null,
   "id": "0711d023",
   "metadata": {},
   "outputs": [],
   "source": [
    "logreg = LogisticRegression(multi_class='multinomial', solver='lbfgs', random_state=SEED)\n",
    "logreg.fit(train_i_bf, (ytr * range(NUM_CLASSES)).sum(axis=1))\n",
    "valid_probs = logreg.predict_proba(valid_i_bf)\n",
    "valid_preds = logreg.predict(valid_i_bf)"
   ]
  },
  {
   "cell_type": "code",
   "execution_count": null,
   "id": "d0986228",
   "metadata": {},
   "outputs": [],
   "source": [
    "print('Validation Inception LogLoss {}'.format(log_loss(yv, valid_probs)))\n",
    "print('Validation Inception Accuracy {}'.format(accuracy_score((yv * range(NUM_CLASSES)).sum(axis=1), valid_preds)))"
   ]
  },
  {
   "cell_type": "markdown",
   "id": "33665a92",
   "metadata": {},
   "source": [
    "# LogReg on all bottleneck features"
   ]
  },
  {
   "cell_type": "code",
   "execution_count": null,
   "id": "728fbadd",
   "metadata": {},
   "outputs": [],
   "source": [
    "X = np.hstack([train_x_bf, train_i_bf])\n",
    "V = np.hstack([valid_x_bf, valid_i_bf])\n",
    "print('Full train bottleneck features shape: {} size: {:,}'.format(X.shape, X.size))\n",
    "print('Full valid bottleneck features shape: {} size: {:,}'.format(V.shape, V.size))\n",
    "logreg = LogisticRegression(multi_class='multinomial', solver='lbfgs', random_state=SEED)\n",
    "logreg.fit(X, (ytr * range(NUM_CLASSES)).sum(axis=1))\n",
    "valid_probs = logreg.predict_proba(V)\n",
    "valid_preds = logreg.predict(V)\n",
    "print('Validation Xception + Inception LogLoss {}'.format(log_loss(yv, valid_probs)))\n",
    "print('Validation Xception + Inception Accuracy {}'.format(accuracy_score((yv * range(NUM_CLASSES)).sum(axis=1), valid_preds)))"
   ]
  },
  {
   "cell_type": "markdown",
   "id": "dc009959",
   "metadata": {},
   "source": [
    "Training this model on the full dataset would give 0.3 LogLoss on LB."
   ]
  },
  {
   "cell_type": "markdown",
   "id": "0627a4e3",
   "metadata": {},
   "source": [
    "# Check errors\n",
    "We still have a few misclassification errors."
   ]
  },
  {
   "cell_type": "code",
   "execution_count": null,
   "id": "098f2bbe",
   "metadata": {},
   "outputs": [],
   "source": [
    "valid_breeds = (yv * range(NUM_CLASSES)).sum(axis=1)\n",
    "error_idx = (valid_breeds != valid_preds)\n",
    "for img_id, breed, pred in zip(labels.loc[valid_idx, 'id'].values[error_idx],\n",
    "                                [selected_breed_list[int(b)] for b in valid_preds[error_idx]],\n",
    "                                [selected_breed_list[int(b)] for b in valid_breeds[error_idx]]):\n",
    "    fig, ax = plt.subplots(figsize=(5,5))\n",
    "    img = read_img(img_id, 'train', (299, 299))\n",
    "    ax.imshow(img / 255.)\n",
    "    ax.text(10, 250, 'Prediction: %s' % pred, color='w', backgroundcolor='r', alpha=0.8)\n",
    "    ax.text(10, 270, 'LABEL: %s' % breed, color='k', backgroundcolor='g', alpha=0.8)\n",
    "    ax.axis('off')\n",
    "    plt.show()                                                    "
   ]
  },
  {
   "cell_type": "code",
   "execution_count": null,
   "id": "4f7c1f91",
   "metadata": {},
   "outputs": [],
   "source": [
    "end = dt.datetime.now()\n",
    "print('Total time {} s.'.format((end - start).seconds))\n",
    "print('We almost used the one hour time limit.')"
   ]
  }
 ],
 "metadata": {},
 "nbformat": 4,
 "nbformat_minor": 5
}
