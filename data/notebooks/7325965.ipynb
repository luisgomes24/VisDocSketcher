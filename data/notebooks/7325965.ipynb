{
 "cells": [
  {
   "cell_type": "code",
   "execution_count": null,
   "id": "e6bfa3ab",
   "metadata": {},
   "outputs": [],
   "source": [
    "import numpy as np\n",
    "import pandas as pd\n",
    "import os\n",
    "import matplotlib.pyplot as plt\n",
    "import seaborn as sns\n",
    "import altair as alt\n",
    "alt.renderers.enable('kaggle')\n",
    "alt.data_transformers.enable('default', max_rows=None)"
   ]
  },
  {
   "cell_type": "code",
   "execution_count": null,
   "id": "77e03041",
   "metadata": {},
   "outputs": [],
   "source": [
    "dat = pd.read_csv('../input/insurance/insurance.csv')\n",
    "dat.head()"
   ]
  },
  {
   "cell_type": "code",
   "execution_count": null,
   "id": "ffe5ad28",
   "metadata": {},
   "outputs": [],
   "source": [
    "line = alt.Chart(dat).mark_line().encode(\n",
    "    x='bmi',\n",
    "    y='charges'\n",
    ")\n",
    "line"
   ]
  },
  {
   "cell_type": "code",
   "execution_count": null,
   "id": "2b813d4c",
   "metadata": {},
   "outputs": [],
   "source": [
    "alt.Chart(dat).mark_point().encode(\n",
    "    x='bmi',\n",
    "    y='charges'\n",
    ")"
   ]
  },
  {
   "cell_type": "code",
   "execution_count": null,
   "id": "989bde31",
   "metadata": {},
   "outputs": [],
   "source": [
    "alt.Chart(dat).mark_circle().encode(\n",
    "    alt.X('bmi', scale=alt.Scale(zero=False)),\n",
    "    alt.Y('charges', scale=alt.Scale(zero=False, padding=1)),\n",
    "    color='sex'\n",
    ")"
   ]
  },
  {
   "cell_type": "code",
   "execution_count": null,
   "id": "de266d6f",
   "metadata": {},
   "outputs": [],
   "source": [
    "alt.Chart(dat).mark_circle().encode(\n",
    "    alt.X('bmi', scale=alt.Scale(zero=False)),\n",
    "    alt.Y('charges', scale=alt.Scale(zero=False, padding=1)),\n",
    "    color='smoker'\n",
    ")\n"
   ]
  },
  {
   "cell_type": "code",
   "execution_count": null,
   "id": "0fe6efc7",
   "metadata": {},
   "outputs": [],
   "source": [
    "alt.Chart(dat).mark_circle().encode(\n",
    "    alt.X('bmi', scale=alt.Scale(zero=False)),\n",
    "    alt.Y('charges', scale=alt.Scale(zero=False, padding=1)),\n",
    "    color='sex',\n",
    "    size='smoker'\n",
    ")"
   ]
  },
  {
   "cell_type": "code",
   "execution_count": null,
   "id": "2f738ab8",
   "metadata": {},
   "outputs": [],
   "source": [
    "alt.Chart(dat).mark_circle().encode(\n",
    "    alt.X('bmi', scale=alt.Scale(zero=False)),\n",
    "    alt.Y('charges', scale=alt.Scale(zero=False, padding=1)),\n",
    "    color='sex',\n",
    "    size='region'\n",
    ")"
   ]
  },
  {
   "cell_type": "code",
   "execution_count": null,
   "id": "a4252234",
   "metadata": {},
   "outputs": [],
   "source": [
    "alt.Chart(dat).mark_circle().encode(\n",
    "    alt.X('bmi', scale=alt.Scale(zero=False)),\n",
    "    alt.Y('charges', scale=alt.Scale(zero=False, padding=1)),\n",
    "    color='smoker',\n",
    "    size='region'\n",
    ")"
   ]
  }
 ],
 "metadata": {},
 "nbformat": 4,
 "nbformat_minor": 5
}
