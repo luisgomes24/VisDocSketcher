{
 "cells": [
  {
   "cell_type": "code",
   "execution_count": null,
   "id": "ba112495",
   "metadata": {},
   "outputs": [],
   "source": [
    "# This Python 3 environment comes with many helpful analytics libraries installed\n",
    "# It is defined by the kaggle/python Docker image: https://github.com/kaggle/docker-python\n",
    "# For example, here's several helpful packages to load\n",
    "\n",
    "import numpy as np # linear algebra\n",
    "import pandas as pd # data processing, CSV file I/O (e.g. pd.read_csv)\n",
    "\n",
    "# Input data files are available in the read-only \"../input/\" directory\n",
    "# For example, running this (by clicking run or pressing Shift+Enter) will list all files under the input directory\n",
    "\n",
    "import os\n",
    "for dirname, _, filenames in os.walk('/kaggle/input'):\n",
    "    for filename in filenames:\n",
    "        print(os.path.join(dirname, filename))\n",
    "\n",
    "# You can write up to 20GB to the current directory (/kaggle/working/) that gets preserved as output when you create a version using \"Save & Run All\" \n",
    "# You can also write temporary files to /kaggle/temp/, but they won't be saved outside of the current session"
   ]
  },
  {
   "cell_type": "code",
   "execution_count": null,
   "id": "ee7d97e8",
   "metadata": {},
   "outputs": [],
   "source": [
    "import numpy as np\n",
    "import pandas as pd\n",
    "import matplotlib.pyplot as plt\n",
    "import seaborn as sns\n",
    "import sklearn"
   ]
  },
  {
   "cell_type": "code",
   "execution_count": null,
   "id": "1ceb0771",
   "metadata": {},
   "outputs": [],
   "source": [
    "## Read the Data & get the first 5 sub-data\n",
    "\n",
    "df = pd.read_csv('/kaggle/input/ecommerce-customers/Ecommerce Customers.csv')\n",
    "df.head()"
   ]
  },
  {
   "cell_type": "code",
   "execution_count": null,
   "id": "cfe7b4ad",
   "metadata": {},
   "outputs": [],
   "source": [
    "# Use describe method to get initial statistical information about data\n",
    "df.describe()"
   ]
  },
  {
   "cell_type": "code",
   "execution_count": null,
   "id": "0cea3760",
   "metadata": {},
   "outputs": [],
   "source": [
    "df.info()"
   ]
  },
  {
   "cell_type": "markdown",
   "id": "0bf8dc50",
   "metadata": {},
   "source": [
    "## **EDA**"
   ]
  },
  {
   "cell_type": "code",
   "execution_count": null,
   "id": "0e054ae6",
   "metadata": {},
   "outputs": [],
   "source": [
    "_ = sns.jointplot(data=df, x='Time on Website', y='Yearly Amount Spent')"
   ]
  },
  {
   "cell_type": "code",
   "execution_count": null,
   "id": "7b1e2518",
   "metadata": {},
   "outputs": [],
   "source": [
    "_ = sns.jointplot(data=df, x='Time on App', y='Yearly Amount Spent')"
   ]
  },
  {
   "cell_type": "markdown",
   "id": "c95aa6b4",
   "metadata": {},
   "source": [
    "### *Use Jointplot* to create 2D hex bin plot comparing Time on App & Length of Membership"
   ]
  },
  {
   "cell_type": "code",
   "execution_count": null,
   "id": "0cc84ac0",
   "metadata": {},
   "outputs": [],
   "source": [
    "_ = sns.jointplot(data=df, x='Time on App', y='Length of Membership', kind='hex')"
   ]
  },
  {
   "cell_type": "code",
   "execution_count": null,
   "id": "4bf44b97",
   "metadata": {},
   "outputs": [],
   "source": [
    "_ = sns.pairplot(df)"
   ]
  },
  {
   "cell_type": "code",
   "execution_count": null,
   "id": "481b8957",
   "metadata": {},
   "outputs": [],
   "source": [
    "## As you see above Yearly amount Spent & Length of Membership cols are the most correlated ones\n",
    "_ = sns.lmplot(data = df, x = 'Length of Membership', y = 'Yearly Amount Spent', line_kws={'color': '#323ca8'})"
   ]
  },
  {
   "cell_type": "code",
   "execution_count": null,
   "id": "2657d60d",
   "metadata": {},
   "outputs": [],
   "source": [
    "df.columns"
   ]
  },
  {
   "cell_type": "code",
   "execution_count": null,
   "id": "fd685d17",
   "metadata": {},
   "outputs": [],
   "source": [
    "X, y = df[['Avg. Session Length', 'Time on App', 'Time on Website', 'Length of Membership']],\\\n",
    "                    df['Yearly Amount Spent']"
   ]
  },
  {
   "cell_type": "code",
   "execution_count": null,
   "id": "2735236e",
   "metadata": {},
   "outputs": [],
   "source": [
    "from sklearn.model_selection import train_test_split\n",
    "from sklearn.linear_model import LinearRegression"
   ]
  },
  {
   "cell_type": "code",
   "execution_count": null,
   "id": "d875f5f4",
   "metadata": {},
   "outputs": [],
   "source": [
    "model_lr = LinearRegression()"
   ]
  },
  {
   "cell_type": "code",
   "execution_count": null,
   "id": "7cef1951",
   "metadata": {},
   "outputs": [],
   "source": [
    "X_train, X_test, y_train, y_test = train_test_split(X, y, test_size=0.2, random_state=42)"
   ]
  },
  {
   "cell_type": "code",
   "execution_count": null,
   "id": "2ce19deb",
   "metadata": {},
   "outputs": [],
   "source": [
    "model_lr.fit(X_train, y_train)"
   ]
  },
  {
   "cell_type": "code",
   "execution_count": null,
   "id": "9ae1d7b4",
   "metadata": {},
   "outputs": [],
   "source": [
    "model_lr.coef_"
   ]
  },
  {
   "cell_type": "code",
   "execution_count": null,
   "id": "04613fe9",
   "metadata": {},
   "outputs": [],
   "source": [
    "## PREDICT TEST DATA\n",
    "predictions = model_lr.predict(X_test)"
   ]
  },
  {
   "cell_type": "code",
   "execution_count": null,
   "id": "2906772a",
   "metadata": {},
   "outputs": [],
   "source": [
    "_ = sns.scatterplot(x = y_test, y = predictions)\n",
    "plt.xlabel('Y Test(value)')\n",
    "plt.ylabel('Predicted Values')"
   ]
  },
  {
   "cell_type": "code",
   "execution_count": null,
   "id": "a87f4186",
   "metadata": {},
   "outputs": [],
   "source": [
    "from sklearn import metrics"
   ]
  },
  {
   "cell_type": "code",
   "execution_count": null,
   "id": "e500d5b2",
   "metadata": {},
   "outputs": [],
   "source": [
    "metrics.explained_variance_score(y_test, predictions)"
   ]
  },
  {
   "cell_type": "code",
   "execution_count": null,
   "id": "2da1e82d",
   "metadata": {},
   "outputs": [],
   "source": [
    "print('MAE', metrics.mean_absolute_error(y_test, predictions))\n",
    "print('MSE', metrics.mean_absolute_error(y_test, predictions))\n",
    "print('RMSE', np.sqrt(metrics.mean_absolute_error(y_test, predictions)))"
   ]
  },
  {
   "cell_type": "code",
   "execution_count": null,
   "id": "982b79d7",
   "metadata": {},
   "outputs": [],
   "source": [
    "_ = sns.displot((y_test - predictions), bins=50, kde = True)"
   ]
  },
  {
   "cell_type": "code",
   "execution_count": null,
   "id": "fd11c8de",
   "metadata": {},
   "outputs": [],
   "source": [
    "pd.DataFrame(model_lr.coef_, X.columns ,columns=['Coeff'])"
   ]
  },
  {
   "cell_type": "markdown",
   "id": "89de32fd",
   "metadata": {},
   "source": [
    "## Results\n",
    "**The company should focus on more on App, & Web site needs some improvements**"
   ]
  }
 ],
 "metadata": {},
 "nbformat": 4,
 "nbformat_minor": 5
}
