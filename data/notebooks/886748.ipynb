{
 "cells": [
  {
   "cell_type": "markdown",
   "id": "750384ee",
   "metadata": {},
   "source": [
    "# Introduction\n",
    "Welcome to the **[Learn Pandas](https://www.kaggle.com/learn/pandas)** track. These hands-on exercises are targeted for someone who has worked with Pandas a little before. \n",
    "Each page it's own list of `relevant resources` you can use if you get stumped. The top item in each list has been custom-made to help you with the exercises on that page.\n",
    "\n",
    "The first step in most data analytics projects is reading the data file. In this section, you'll create `Series` and `DataFrame` objects, both by hand and by reading data files.\n",
    "\n",
    "# Relevant Resources\n",
    "* ** [Creating, Reading and Writing Reference](https://www.kaggle.com/residentmario/creating-reading-and-writing-reference)**\n",
    "* [General Pandas Cheat Sheet](https://assets.datacamp.com/blog_assets/PandasPythonForDataScience.pdf)\n",
    "\n",
    "# Set Up\n",
    "**First, Fork this notebook using the button towards the top of the screen.  Then you can run and edit code in the cells below.**\n",
    "\n",
    "Run the code cell below to load libraries you will need (including coad to check your answers)."
   ]
  },
  {
   "cell_type": "code",
   "execution_count": null,
   "id": "ad3e182d",
   "metadata": {},
   "outputs": [],
   "source": [
    "import pandas as pd\n",
    "pd.set_option('max_rows', 5)\n",
    "\n",
    "import sys\n",
    "sys.path.append('../input/advanced-pandas-exercises/')\n",
    "from creating_reading_writing import *"
   ]
  },
  {
   "cell_type": "markdown",
   "id": "e3adb468",
   "metadata": {},
   "source": [
    "# Checking Answers\n",
    "\n",
    "You can check your answers in each of the exercises that follow using the  `check_qN` function provided in the code cell above (replacing `N` with the number of the exercise). For example here's how you would check an incorrect answer to exercise 1:"
   ]
  },
  {
   "cell_type": "code",
   "execution_count": null,
   "id": "e8ce418a",
   "metadata": {},
   "outputs": [],
   "source": [
    "check_q1(pd.DataFrame())"
   ]
  },
  {
   "cell_type": "markdown",
   "id": "261a514a",
   "metadata": {},
   "source": [
    "For the questions that follow, if you use `check_qN` on your answer, and your answer is right, a simple `True` value will be returned.\n",
    "\n",
    "If you get stuck, you may run the `print(answer_qN())` function to print the answer outright."
   ]
  },
  {
   "cell_type": "markdown",
   "id": "c5118d2a",
   "metadata": {},
   "source": [
    "# Exercises"
   ]
  },
  {
   "cell_type": "markdown",
   "id": "d2c619d6",
   "metadata": {},
   "source": [
    "**Exercise 1**: Create a `DataFrame` that looks like this:\n",
    "\n",
    "![](https://i.imgur.com/Ax3pp2A.png)"
   ]
  },
  {
   "cell_type": "code",
   "execution_count": null,
   "id": "1d12316d",
   "metadata": {},
   "outputs": [],
   "source": [
    "pd.DataFrame({'Apples': [30], 'Bananas': [21]})"
   ]
  },
  {
   "cell_type": "markdown",
   "id": "2d11345b",
   "metadata": {},
   "source": [
    "**Exercise 2**: Create the following `DataFrame`:\n",
    "\n",
    "![](https://i.imgur.com/CHPn7ZF.png)"
   ]
  },
  {
   "cell_type": "code",
   "execution_count": null,
   "id": "cf8c6be6",
   "metadata": {},
   "outputs": [],
   "source": [
    "pd.DataFrame({'Apples': [35, 41], 'Bananas': [21, 34]}, index = ['2017 Sales', '2018 Sales'])"
   ]
  },
  {
   "cell_type": "markdown",
   "id": "140c7509",
   "metadata": {},
   "source": [
    "**Exercise 3**: Create a `Series` that looks like this:\n",
    "\n",
    "```\n",
    "Flour     4 cups\n",
    "Milk       1 cup\n",
    "Eggs     2 large\n",
    "Spam       1 can\n",
    "Name: Dinner, dtype: object\n",
    "```"
   ]
  },
  {
   "cell_type": "code",
   "execution_count": null,
   "id": "0166c69a",
   "metadata": {},
   "outputs": [],
   "source": [
    "pd.Series(data = ['4 cups', '1 cup', '2 large', '1 can'], index = ['Flour', 'Milk', 'Eggs', 'Spam'], name = 'Dinner', dtype = 'object')"
   ]
  },
  {
   "cell_type": "markdown",
   "id": "d2f4b62e",
   "metadata": {},
   "source": [
    "**Exercise 4**: Read the following `csv` dataset on wine reviews into the a `DataFrame`:\n",
    "\n",
    "![](https://i.imgur.com/74RCZtU.png)\n",
    "\n",
    "The filepath to the CSV file is `../input/wine-reviews/winemag-data_first150k.csv`."
   ]
  },
  {
   "cell_type": "code",
   "execution_count": null,
   "id": "c1708319",
   "metadata": {},
   "outputs": [],
   "source": [
    "pd.read_csv('../input/wine-reviews/winemag-data_first150k.csv')"
   ]
  },
  {
   "cell_type": "markdown",
   "id": "782c4c21",
   "metadata": {},
   "source": [
    "**Exercise 5**: Read the following `xls` sheet into a `DataFrame`: \n",
    "\n",
    "![](https://i.imgur.com/QZJBIBF.png)\n",
    "\n",
    "The filepath to the XLS file is `../input/publicassistance/xls_files_all/WICAgencies2014ytd.xls`.\n",
    "\n",
    "Hint: the name of the method you need inclues the word `excel`. The name of the sheet is `Pregnant Women Participating`. Don't do any cleanup."
   ]
  },
  {
   "cell_type": "code",
   "execution_count": null,
   "id": "23a46c7a",
   "metadata": {},
   "outputs": [],
   "source": [
    "\n",
    "pd.read_excel('../input/publicassistance/xls_files_all/WICAgencies2014ytd.xls',sheet_name = 'Pregnant Women Participating')"
   ]
  },
  {
   "cell_type": "markdown",
   "id": "92fbc6db",
   "metadata": {},
   "source": [
    "**Exercise 6**: Suppose we have the following `DataFrame`:"
   ]
  },
  {
   "cell_type": "code",
   "execution_count": null,
   "id": "6a042bef",
   "metadata": {},
   "outputs": [],
   "source": [
    "q6_df = pd.DataFrame({'Cows': [12, 20], 'Goats': [22, 19]}, index=['Year 1', 'Year 2'])"
   ]
  },
  {
   "cell_type": "markdown",
   "id": "6cdd7008",
   "metadata": {},
   "source": [
    "Save this `DataFrame` to disc as a `csv` file with the name `cows_and_goats.csv`."
   ]
  },
  {
   "cell_type": "code",
   "execution_count": null,
   "id": "e8387d3c",
   "metadata": {},
   "outputs": [],
   "source": [
    "q6_df.to_csv('cows_and_goats.csv')"
   ]
  },
  {
   "cell_type": "markdown",
   "id": "79be3aea",
   "metadata": {},
   "source": [
    "**Exercise 7**: This exercise is optional. Read the following `SQL` data into a `DataFrame`:\n",
    "\n",
    "![](https://i.imgur.com/mmvbOT3.png)\n",
    "\n",
    "The filepath is `../input/pitchfork-data/database.sqlite`. Hint: use the `sqlite3` library. The name of the table is `artists`."
   ]
  },
  {
   "cell_type": "code",
   "execution_count": null,
   "id": "840e1ac2",
   "metadata": {},
   "outputs": [],
   "source": [
    "import sqlite3\n",
    "conn = sqlite3.connect(\"../input/pitchfork-data/database.sqlite\")\n",
    "pd.read_sql_query(\"SELECT * FROM artists\", conn)"
   ]
  },
  {
   "cell_type": "markdown",
   "id": "5125ee3d",
   "metadata": {},
   "source": [
    "## Keep going\n",
    "\n",
    "Move on to the **[indexing, selecting and assigning workbook](https://www.kaggle.com/residentmario/indexing-selecting-assigning-workbook)**\n",
    "\n",
    "___\n",
    "This is part of the [Learn Pandas](https://www.kaggle.com/learn/pandas) series."
   ]
  }
 ],
 "metadata": {},
 "nbformat": 4,
 "nbformat_minor": 5
}
