{
 "cells": [
  {
   "cell_type": "markdown",
   "id": "b553f3de",
   "metadata": {},
   "source": [
    "![](https://upload.wikimedia.org/wikipedia/commons/thumb/3/31/NumPy_logo_2020.svg/1280px-NumPy_logo_2020.svg.png)"
   ]
  },
  {
   "cell_type": "markdown",
   "id": "4006870a",
   "metadata": {},
   "source": [
    "<font color='cadetblue'>About:</font>\n",
    "---\n",
    "In this kernel you will get to know about all the stuffs about `NumPy`. This kernel covers basic to advanced aspects of `NumPy`.\n",
    "\n",
    "<font color='red'>Hoping that you will like it.</font>\n",
    "---"
   ]
  },
  {
   "cell_type": "markdown",
   "id": "e3129a0e",
   "metadata": {},
   "source": [
    "<font color='cadetblue'>What is numpy?</font>\n",
    "---\n",
    "\n",
    "NumPy is the fundamental package for scientific computing in Python. It is a Python library that provides a multidimensional array object, various derived objects (such as masked arrays and matrices), and an assortment of routines for fast operations on arrays, including mathematical, logical, shape manipulation, sorting, selecting, I/O, discrete Fourier transforms, basic linear algebra, basic statistical operations, random simulation and much more.\n",
    "\n",
    "---"
   ]
  },
  {
   "cell_type": "markdown",
   "id": "cdf3c270",
   "metadata": {},
   "source": [
    "<h1 align='center'> Basics</h1>\n",
    "\n",
    "*  NumPy’s array class is called `ndarray`. It is also known by the alias `array`. Note that `numpy.array` is not the same as the Standard Python Library class `array.array`, which only handles one-dimensional arrays and offers less functionality. The more important attributes of an `ndarray` object are:\n",
    "    - `ndarray.ndim:` The number of axes(dimensions) of the array.\n",
    "    - `ndarray.shape:` The dimension of array.For a matrix with x rows and y columns, shape will be (x,y).\n",
    "    - `ndarray.size:` The total number of elements of the array or It is equal to the product of the elements of the `shape`.\n",
    "    - `ndarray.dtype:` The type of the elements in the array. Additionally NumPy provides types of its own like- numpy.int32, numpy.int16, and numpy.float64.\n",
    "    - `ndarray.itemsize:` The size in bytes of each element of the array. \n",
    "    - `ndarray.data:` The buffer containing the actual elements of the array. "
   ]
  },
  {
   "cell_type": "markdown",
   "id": "99f3e015",
   "metadata": {},
   "source": [
    "## Creating a NumPy array"
   ]
  },
  {
   "cell_type": "code",
   "execution_count": null,
   "id": "7d331209",
   "metadata": {},
   "outputs": [],
   "source": [
    "import numpy as np"
   ]
  },
  {
   "cell_type": "markdown",
   "id": "603a8144",
   "metadata": {},
   "source": [
    "<font color='cadetblue' size='4'>Basic ndarray</font>\n"
   ]
  },
  {
   "cell_type": "code",
   "execution_count": null,
   "id": "9b57ea3f",
   "metadata": {},
   "outputs": [],
   "source": [
    "np.array([1,2,3,4])"
   ]
  },
  {
   "cell_type": "code",
   "execution_count": null,
   "id": "4051ec1e",
   "metadata": {},
   "outputs": [],
   "source": [
    "# We can specify the type of data inside the array:\n",
    "np.array([1,2,3,4],dtype=np.float32)"
   ]
  },
  {
   "cell_type": "markdown",
   "id": "045c70b7",
   "metadata": {},
   "source": [
    "<font size='4' font='italic'>Since NumPy arrays can contain only homogeneous datatypes, values will be upcast if the types do not match:</font>"
   ]
  },
  {
   "cell_type": "code",
   "execution_count": null,
   "id": "916b634d",
   "metadata": {},
   "outputs": [],
   "source": [
    "np.array([1,2,3.0,4])"
   ]
  },
  {
   "cell_type": "markdown",
   "id": "db78fc5e",
   "metadata": {},
   "source": [
    "**NumPy arrays can be multi-dimensional too.**"
   ]
  },
  {
   "cell_type": "code",
   "execution_count": null,
   "id": "8cb260e1",
   "metadata": {},
   "outputs": [],
   "source": [
    "a = np.array([[1,2,3,4],[5,6,7,8]])\n",
    "a"
   ]
  },
  {
   "cell_type": "markdown",
   "id": "b33499b0",
   "metadata": {},
   "source": [
    "<font color='cadetblue' size='4'>Array of zeros</font>\n"
   ]
  },
  {
   "cell_type": "code",
   "execution_count": null,
   "id": "a1f84cc3",
   "metadata": {},
   "outputs": [],
   "source": [
    "np.zeros(5)"
   ]
  },
  {
   "cell_type": "code",
   "execution_count": null,
   "id": "4477a6fd",
   "metadata": {},
   "outputs": [],
   "source": [
    "np.zeros((3,4))"
   ]
  },
  {
   "cell_type": "markdown",
   "id": "58ed3fcc",
   "metadata": {},
   "source": [
    "<font color='cadetblue' size='4'>Array of Ones</font>\n"
   ]
  },
  {
   "cell_type": "code",
   "execution_count": null,
   "id": "dbdccf0a",
   "metadata": {},
   "outputs": [],
   "source": [
    "np.ones(5,dtype=np.int32)"
   ]
  },
  {
   "cell_type": "markdown",
   "id": "9905c145",
   "metadata": {},
   "source": [
    "<font color='cadetblue' size='4'>Random number in array</font>"
   ]
  },
  {
   "cell_type": "code",
   "execution_count": null,
   "id": "47292752",
   "metadata": {},
   "outputs": [],
   "source": [
    "# random \n",
    "np.random.rand(2,3)"
   ]
  },
  {
   "cell_type": "code",
   "execution_count": null,
   "id": "5e913cdb",
   "metadata": {},
   "outputs": [],
   "source": [
    "# An array of the choice\n",
    "np.full((2,3),5)"
   ]
  },
  {
   "cell_type": "markdown",
   "id": "3286e904",
   "metadata": {},
   "source": [
    "<font color='cadetblue' size='4'>Evenly spaced ndarray</font>"
   ]
  },
  {
   "cell_type": "code",
   "execution_count": null,
   "id": "4596a70a",
   "metadata": {},
   "outputs": [],
   "source": [
    "np.arange(10).reshape(2,5)"
   ]
  },
  {
   "cell_type": "markdown",
   "id": "bf3ffe93",
   "metadata": {},
   "source": [
    "**Another similar function is `np.linspace()`, but instead of step size, it takes in the number of samples that need to be retrieved from the interval. A point to note here is that the last number is included in the values returned unlike in the case of `np.arange()`.**"
   ]
  },
  {
   "cell_type": "code",
   "execution_count": null,
   "id": "c41af110",
   "metadata": {},
   "outputs": [],
   "source": [
    "np.linspace(0,1,11)"
   ]
  },
  {
   "cell_type": "markdown",
   "id": "765e88b7",
   "metadata": {},
   "source": [
    "<font color='cadetblue' size='4'>Identity Matrix in NumPy</font>"
   ]
  },
  {
   "cell_type": "code",
   "execution_count": null,
   "id": "3df847c2",
   "metadata": {},
   "outputs": [],
   "source": [
    "np.eye(3)"
   ]
  },
  {
   "cell_type": "markdown",
   "id": "308bb2d2",
   "metadata": {},
   "source": [
    "**NumPy gives you the flexibility to change the diagonal along which the values have to be 1s. You can either move it above the main diagonal:**"
   ]
  },
  {
   "cell_type": "code",
   "execution_count": null,
   "id": "457609f7",
   "metadata": {},
   "outputs": [],
   "source": [
    "np.eye(3,k=1)"
   ]
  },
  {
   "cell_type": "markdown",
   "id": "c5305796",
   "metadata": {},
   "source": [
    "**Or move it below the main diagonal**"
   ]
  },
  {
   "cell_type": "code",
   "execution_count": null,
   "id": "77e13a8c",
   "metadata": {},
   "outputs": [],
   "source": [
    "np.eye(3,k=-1)"
   ]
  },
  {
   "cell_type": "markdown",
   "id": "fa5fcf13",
   "metadata": {},
   "source": [
    "<h1 align='center'>The Shape and Reshaping of NumPy Arrays</h1>"
   ]
  },
  {
   "cell_type": "code",
   "execution_count": null,
   "id": "4b604e52",
   "metadata": {},
   "outputs": [],
   "source": [
    "a = np.array([[5,10,15],[20,25,20]])\n",
    "print('Array:','\\n',a)\n",
    "print('Dimension of the array:','\\n',a.ndim)"
   ]
  },
  {
   "cell_type": "code",
   "execution_count": null,
   "id": "e249896b",
   "metadata": {},
   "outputs": [],
   "source": [
    "a = np.arange(6).reshape(2,3)\n",
    "print('Array:','\\n',a)\n",
    "print('Shape of the array:','\\n',a.shape)\n",
    "print('Number of rows = ',a.shape[0])\n",
    "print('Number of columns = ',a.shape[1])\n",
    "print('Size of array :',a.size)\n",
    "print('Manual determination of size of array :',a.shape[0]*a.shape[1])"
   ]
  },
  {
   "cell_type": "markdown",
   "id": "bbb4b59c",
   "metadata": {},
   "source": [
    "![](https://raw.githubusercontent.com/divyanshugit/Insights-of-Python-Libraries/master/src/img_3.png)"
   ]
  },
  {
   "cell_type": "markdown",
   "id": "1f732727",
   "metadata": {},
   "source": [
    "<font color='cadetblue' size='4'>Reshaping a NumPy array</font>"
   ]
  },
  {
   "cell_type": "code",
   "execution_count": null,
   "id": "c3dfcfba",
   "metadata": {},
   "outputs": [],
   "source": [
    "# reshape\n",
    "a = np.array([3,6,9,12])\n",
    "np.reshape(a,(2,2))"
   ]
  },
  {
   "cell_type": "code",
   "execution_count": null,
   "id": "1dd5c210",
   "metadata": {},
   "outputs": [],
   "source": [
    "a = np.array([3,6,9,12,18,24])\n",
    "print('Three rows :','\\n',np.reshape(a,(3,-1)))\n",
    "print('Three columns :','\\n',np.reshape(a,(-1,3)))"
   ]
  },
  {
   "cell_type": "markdown",
   "id": "a8174537",
   "metadata": {},
   "source": [
    "<font color='cadetblue' size='4'>Flattening a NumPy array</font>"
   ]
  },
  {
   "cell_type": "code",
   "execution_count": null,
   "id": "094ffd15",
   "metadata": {},
   "outputs": [],
   "source": [
    "a = np.ones((2,2))\n",
    "b = a.flatten()\n",
    "c = a.ravel()\n",
    "print('Original shape :', a.shape)\n",
    "print('Array :','\\n', a)\n",
    "print('Shape after flatten :',b.shape)\n",
    "print('Array :','\\n', b)\n",
    "print('Shape after ravel :',c.shape)\n",
    "print('Array :','\\n', c)"
   ]
  },
  {
   "cell_type": "markdown",
   "id": "20ce982b",
   "metadata": {},
   "source": [
    "![](https://raw.githubusercontent.com/divyanshugit/Insights-of-Python-Libraries/master/src/img_4.png)"
   ]
  },
  {
   "cell_type": "code",
   "execution_count": null,
   "id": "c2027237",
   "metadata": {},
   "outputs": [],
   "source": [
    "b[0] = 0\n",
    "print(a)"
   ]
  },
  {
   "cell_type": "markdown",
   "id": "d70e43f7",
   "metadata": {},
   "source": [
    "**In this case, the change made was not reflected in the original array.**"
   ]
  },
  {
   "cell_type": "code",
   "execution_count": null,
   "id": "ef885521",
   "metadata": {},
   "outputs": [],
   "source": [
    "c[0] = 0\n",
    "print(a)"
   ]
  },
  {
   "cell_type": "markdown",
   "id": "110d0339",
   "metadata": {},
   "source": [
    "**But here, the changed value is also reflected in the original ndarray.**"
   ]
  },
  {
   "cell_type": "markdown",
   "id": "59475e79",
   "metadata": {},
   "source": [
    "What is happening here is that `flatten()` creates a ***Deep copy*** of the ndarray while `ravel()` creates a ***Shallow copy*** of the ndarray.\n",
    "\n",
    "> Deep copy means that a completely new ndarray is created in memory and the ndarray object returned by flatten() is now pointing to this memory location. Therefore, any changes made here will not be reflected in the original ndarray.\n",
    "\n",
    "> A Shallow copy, on the other hand, returns a reference to the original memory location. Meaning the object returned by ravel() is pointing to the same memory location as the original ndarray object. So, definitely, any changes made to this ndarray will also be reflected in the original ndarray too."
   ]
  },
  {
   "cell_type": "markdown",
   "id": "03f02edc",
   "metadata": {},
   "source": [
    "![](https://raw.githubusercontent.com/divyanshugit/Insights-of-Python-Libraries/master/src/img_5.png)"
   ]
  },
  {
   "cell_type": "markdown",
   "id": "6c84e1d7",
   "metadata": {},
   "source": [
    "<h1 align='center'>Maths with NumPy arrays<h1>"
   ]
  },
  {
   "cell_type": "code",
   "execution_count": null,
   "id": "fb72353e",
   "metadata": {},
   "outputs": [],
   "source": [
    "data = np.array([1,2])\n",
    "ones = np.ones(2, dtype=int)"
   ]
  },
  {
   "cell_type": "code",
   "execution_count": null,
   "id": "2ec3fb65",
   "metadata": {},
   "outputs": [],
   "source": [
    "#Addition\n",
    "add = data+ones\n",
    "print('Addition of two array','\\n',add)"
   ]
  },
  {
   "cell_type": "markdown",
   "id": "cae4edc8",
   "metadata": {},
   "source": [
    "![](https://raw.githubusercontent.com/divyanshugit/Insights-of-Python-Libraries/master/src/img_8.png)"
   ]
  },
  {
   "cell_type": "code",
   "execution_count": null,
   "id": "6b63ec0c",
   "metadata": {},
   "outputs": [],
   "source": [
    "#Subtraction:\n",
    "sub = data - ones\n",
    "print('Subraction of two array:','\\n',sub)\n",
    "\n",
    "#Multiplication:\n",
    "multi = data*data\n",
    "print('Multiplication of two array','\\n',multi)\n",
    "\n",
    "#Division:\n",
    "div = data/data\n",
    "print('Division by a constant','\\n',div)"
   ]
  },
  {
   "cell_type": "markdown",
   "id": "c91576a8",
   "metadata": {},
   "source": [
    "![](https://raw.githubusercontent.com/divyanshugit/Insights-of-Python-Libraries/master/src/img_9.png)"
   ]
  },
  {
   "cell_type": "markdown",
   "id": "66f16366",
   "metadata": {},
   "source": [
    "<font color='cadetblue' size='4'>Mean, Median and Standard deviation</font>"
   ]
  },
  {
   "cell_type": "code",
   "execution_count": null,
   "id": "29a58625",
   "metadata": {},
   "outputs": [],
   "source": [
    "a = np.arange(5,15,2)\n",
    "print('Mean :',np.mean(a))\n",
    "print('Standard deviation :',np.std(a))\n",
    "print('Median :',np.median(a))"
   ]
  },
  {
   "cell_type": "markdown",
   "id": "15ed83e1",
   "metadata": {},
   "source": [
    "<font color='cadetblue' size='4'>Min-Max values and their indexes</font>"
   ]
  },
  {
   "cell_type": "code",
   "execution_count": null,
   "id": "86636b38",
   "metadata": {},
   "outputs": [],
   "source": [
    "a = np.array([[1,6], [4,3]])\n",
    "# minimum along a column\n",
    "print('Min :',np.min(a,axis=0))\n",
    "# maximum along a row\n",
    "print('Max :',np.max(a,axis=1))"
   ]
  },
  {
   "cell_type": "code",
   "execution_count": null,
   "id": "e4fe731a",
   "metadata": {},
   "outputs": [],
   "source": [
    "a = np.array([[1,6,5],\n",
    "[4,3,7]])\n",
    "# minimum along a column\n",
    "print('Min :',np.argmin(a,axis=0))\n",
    "# maximum along a row\n",
    "print('Max :',np.argmax(a,axis=1))"
   ]
  },
  {
   "cell_type": "markdown",
   "id": "211d7c2e",
   "metadata": {},
   "source": [
    "<h1 align='center'>Sorting in NumPy arrays</h1>"
   ]
  },
  {
   "cell_type": "code",
   "execution_count": null,
   "id": "d258da5e",
   "metadata": {},
   "outputs": [],
   "source": [
    "a = np.array([1,4,2,5,3,6,8,7,9])\n",
    "print('Sorted array:','\\n',np.sort(a, kind='quicksort'))\n",
    "\n",
    "b = np.array([[5,6,7,4],\n",
    "              [9,2,3,7]])# sort along the column\n",
    "print('Sort along column :','\\n',np.sort(b, kind='mergresort',axis=1))\n",
    "# sort along the row\n",
    "print('Sort along row :','\\n',np.sort(b, kind='mergresort',axis=0))"
   ]
  },
  {
   "cell_type": "markdown",
   "id": "7027f5ad",
   "metadata": {},
   "source": [
    "<h1 align='center'>Indexing and Slicing of NumPy array</h1>"
   ]
  },
  {
   "cell_type": "markdown",
   "id": "e127c47c",
   "metadata": {},
   "source": [
    "<font color='cadetblue' size='4'>Slicing 1-D NumPy arrays</font>"
   ]
  },
  {
   "cell_type": "code",
   "execution_count": null,
   "id": "2f53e1af",
   "metadata": {},
   "outputs": [],
   "source": [
    "a = np.array([1,2,3,4,5,6])\n",
    "print(a[1:5])"
   ]
  },
  {
   "cell_type": "markdown",
   "id": "53c8fc71",
   "metadata": {},
   "source": [
    "![](https://raw.githubusercontent.com/divyanshugit/Insights-of-Python-Libraries/master/src/img_1.png)"
   ]
  },
  {
   "cell_type": "code",
   "execution_count": null,
   "id": "daf979f9",
   "metadata": {},
   "outputs": [],
   "source": [
    "print(a[:6:2])\n",
    "print(a[1::2])\n",
    "print(a[1:6:])"
   ]
  },
  {
   "cell_type": "markdown",
   "id": "262b2b88",
   "metadata": {},
   "source": [
    "![](https://raw.githubusercontent.com/divyanshugit/Insights-of-Python-Libraries/master/src/img_2.png)"
   ]
  },
  {
   "cell_type": "markdown",
   "id": "03d05f59",
   "metadata": {},
   "source": [
    "<font color='cadetblue' size='4'>Slicing 2-D NumPy arrays</font>"
   ]
  },
  {
   "cell_type": "markdown",
   "id": "b6219ab3",
   "metadata": {},
   "source": [
    "![](https://raw.githubusercontent.com/divyanshugit/Insights-of-Python-Libraries/master/src/img_13.png)"
   ]
  },
  {
   "cell_type": "code",
   "execution_count": null,
   "id": "ff11f258",
   "metadata": {},
   "outputs": [],
   "source": [
    "a = np.array([[1,2,3],[4,5,6]])\n",
    "# print first row values\n",
    "print('First row values :','\\n',a[0:1,:])\n",
    "# with step-size for columns\n",
    "print('Alternate values from first row:','\\n',a[0:1,::2])\n",
    "# \n",
    "print('Second column values :','\\n',a[:,1::2])\n",
    "print('Arbitrary values :','\\n',a[0:1,1:3])"
   ]
  },
  {
   "cell_type": "markdown",
   "id": "dddb211a",
   "metadata": {},
   "source": [
    "<font color='cadetblue' size='4'>Slicing 3-D NumPy arrays</font>\n",
    "\n",
    "**So far we haven’t seen a 3-D array. Let’s first visualize how a 3-D array looks like:**"
   ]
  },
  {
   "cell_type": "markdown",
   "id": "0cb9da49",
   "metadata": {},
   "source": [
    "![](https://raw.githubusercontent.com/divyanshugit/Insights-of-Python-Libraries/master/src/img_6.png)"
   ]
  },
  {
   "cell_type": "code",
   "execution_count": null,
   "id": "a07be2a9",
   "metadata": {},
   "outputs": [],
   "source": [
    "a = np.array([[[1,2],[3,4],[5,6]],# first axis array\n",
    "    [[7,8],[9,10],[11,12]],# second axis array\n",
    "    [[13,14],[15,16],[17,18]]])# third axis array\n",
    "# 3-D array\n",
    "print(a)"
   ]
  },
  {
   "cell_type": "code",
   "execution_count": null,
   "id": "4272532b",
   "metadata": {},
   "outputs": [],
   "source": [
    "print('First array, first row, first column value :','\\n',a[0,0,0])\n",
    "print('First array last column :','\\n',a[0,:,1])\n",
    "print('First two rows for second and third arrays :','\\n',a[1:,0:2,0:2])"
   ]
  },
  {
   "cell_type": "markdown",
   "id": "d3fdcadc",
   "metadata": {},
   "source": [
    "**If in case you wanted the values as a single dimension array, you can always use the flatten() method to do the job!**"
   ]
  },
  {
   "cell_type": "code",
   "execution_count": null,
   "id": "0a32f467",
   "metadata": {},
   "outputs": [],
   "source": [
    "print('Printing as a single array :','\\n',a[1:,0:2,0:2].flatten())"
   ]
  },
  {
   "cell_type": "markdown",
   "id": "30988293",
   "metadata": {},
   "source": [
    "<h1 align='center'>NumPy arrays and Images</h1>"
   ]
  },
  {
   "cell_type": "code",
   "execution_count": null,
   "id": "d225f91b",
   "metadata": {},
   "outputs": [],
   "source": [
    "import numpy as np\n",
    "import matplotlib.pyplot as plt\n",
    "from scipy import misc\n",
    "import cv2\n",
    "\n",
    "# read image\n",
    "img = cv2.imread('../input/dog-images/dog.jpg')\n",
    "img"
   ]
  },
  {
   "cell_type": "code",
   "execution_count": null,
   "id": "4c3b3e8a",
   "metadata": {},
   "outputs": [],
   "source": [
    "plt.imshow(img)\n",
    "print(img.shape)"
   ]
  },
  {
   "cell_type": "code",
   "execution_count": null,
   "id": "391bf571",
   "metadata": {},
   "outputs": [],
   "source": [
    "# flip\n",
    "plt.imshow(np.flip(img, axis=1))"
   ]
  },
  {
   "cell_type": "code",
   "execution_count": null,
   "id": "ba7fd126",
   "metadata": {},
   "outputs": [],
   "source": [
    "img_array = img / 255\n",
    "img_array.max(), img_array.min()"
   ]
  },
  {
   "cell_type": "code",
   "execution_count": null,
   "id": "2cc21634",
   "metadata": {},
   "outputs": [],
   "source": [
    "img_array.dtype"
   ]
  },
  {
   "cell_type": "code",
   "execution_count": null,
   "id": "1468aa40",
   "metadata": {},
   "outputs": [],
   "source": [
    "img_gray = img_array @ [0.2126, 0.7152, 0.0722]"
   ]
  },
  {
   "cell_type": "code",
   "execution_count": null,
   "id": "b0aba9b9",
   "metadata": {},
   "outputs": [],
   "source": [
    "img_gray.shape"
   ]
  },
  {
   "cell_type": "code",
   "execution_count": null,
   "id": "460845fe",
   "metadata": {},
   "outputs": [],
   "source": [
    "plt.imshow(img_gray,  cmap=\"gray\")"
   ]
  },
  {
   "cell_type": "code",
   "execution_count": null,
   "id": "e1dddc18",
   "metadata": {},
   "outputs": [],
   "source": [
    "nan"
   ]
  },
  {
   "cell_type": "markdown",
   "id": "7284d332",
   "metadata": {},
   "source": [
    "## References:\n",
    "\n",
    "> https://numpy.org/doc/\n",
    "\n",
    "> https://www.kaggle.com/learn/python"
   ]
  },
  {
   "cell_type": "code",
   "execution_count": null,
   "id": "d33dbe7a",
   "metadata": {},
   "outputs": [],
   "source": [
    "nan"
   ]
  }
 ],
 "metadata": {},
 "nbformat": 4,
 "nbformat_minor": 5
}
