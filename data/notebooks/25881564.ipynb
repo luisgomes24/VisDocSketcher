{
 "cells": [
  {
   "cell_type": "code",
   "execution_count": null,
   "id": "e7060f29",
   "metadata": {},
   "outputs": [],
   "source": [
    "# Importing necessary libraries\n",
    "\n",
    "import numpy as np\n",
    "import pandas as pd\n",
    "import seaborn as sns\n",
    "import matplotlib.pyplot as plt\n",
    "%matplotlib inline "
   ]
  },
  {
   "cell_type": "code",
   "execution_count": null,
   "id": "826265dd",
   "metadata": {},
   "outputs": [],
   "source": [
    "apps = pd.read_csv(\"../input/google-playstore-data/googleplaystore.csv\")\n",
    "apps.head(5)"
   ]
  },
  {
   "cell_type": "code",
   "execution_count": null,
   "id": "e87a1e45",
   "metadata": {},
   "outputs": [],
   "source": [
    "apps.shape"
   ]
  },
  {
   "cell_type": "code",
   "execution_count": null,
   "id": "0dedb6d9",
   "metadata": {},
   "outputs": [],
   "source": [
    "apps.describe()"
   ]
  },
  {
   "cell_type": "code",
   "execution_count": null,
   "id": "4b81a084",
   "metadata": {},
   "outputs": [],
   "source": [
    "from dateutil import parser\n",
    "s= 'April 25, 2020'\n",
    "p = parser.parse(s)\n",
    "p = p.strftime(\"%d/%m/%Y\")\n",
    "print(p)\n",
    "print(type(p))"
   ]
  },
  {
   "cell_type": "code",
   "execution_count": null,
   "id": "02a9765c",
   "metadata": {},
   "outputs": [],
   "source": [
    "def Mapper(x):\n",
    "  try:\n",
    "    date = parser.parse(x) # datetime.datetime(2020, 4, 25, 0, 0)\n",
    "    date_string = date.strftime(\"%d/%m/%Y\")\n",
    "    return date_string\n",
    "  except:\n",
    "    return np.nan\n",
    "\n",
    "apps['Last Updated'] = apps['Last Updated'].map(Mapper)"
   ]
  },
  {
   "cell_type": "code",
   "execution_count": null,
   "id": "07e2fc40",
   "metadata": {},
   "outputs": [],
   "source": [
    "apps.isnull().sum()"
   ]
  },
  {
   "cell_type": "code",
   "execution_count": null,
   "id": "1e34aedc",
   "metadata": {},
   "outputs": [],
   "source": [
    "apps = apps.dropna(how = 'any')\n",
    "\n",
    "apps.shape"
   ]
  },
  {
   "cell_type": "code",
   "execution_count": null,
   "id": "6a378eb8",
   "metadata": {},
   "outputs": [],
   "source": [
    "apps['Last Updated'] = pd.to_datetime(apps['Last Updated']) # format='%m-%d-%Y')"
   ]
  },
  {
   "cell_type": "code",
   "execution_count": null,
   "id": "84df14ab",
   "metadata": {},
   "outputs": [],
   "source": [
    "apps.head(2)"
   ]
  },
  {
   "cell_type": "code",
   "execution_count": null,
   "id": "d583580d",
   "metadata": {},
   "outputs": [],
   "source": [
    "size_list = apps['Size'].to_list()\n",
    "sizes = []\n",
    "def extractingSize(item):\n",
    "  count = 0\n",
    "  try:\n",
    "    s = item[:len(item) - 1]\n",
    "    sizes.append(float(s))\n",
    "    return float(s)\n",
    "  except:\n",
    "    count = count + 1\n",
    "    pass\n",
    "\n",
    "print(size_list[:6])\n",
    "apps['Size'] = apps['Size'].map(extractingSize)"
   ]
  },
  {
   "cell_type": "code",
   "execution_count": null,
   "id": "6e9ba774",
   "metadata": {},
   "outputs": [],
   "source": [
    "9630 - len(sizes)"
   ]
  },
  {
   "cell_type": "code",
   "execution_count": null,
   "id": "51253376",
   "metadata": {},
   "outputs": [],
   "source": [
    "apps.head()"
   ]
  },
  {
   "cell_type": "code",
   "execution_count": null,
   "id": "4e02cb85",
   "metadata": {},
   "outputs": [],
   "source": [
    "apps[\"Size\"].astype('float64')\n",
    "\n",
    "apps['Size'].isnull().sum()"
   ]
  },
  {
   "cell_type": "code",
   "execution_count": null,
   "id": "d5e80ca6",
   "metadata": {},
   "outputs": [],
   "source": [
    "apps = apps.dropna(how = 'any')"
   ]
  },
  {
   "cell_type": "code",
   "execution_count": null,
   "id": "6e0c5f60",
   "metadata": {},
   "outputs": [],
   "source": [
    "s = '4.0.3'.split(\".\")\n",
    "print(s[0] + \".\" + s[1] + s[2])"
   ]
  },
  {
   "cell_type": "code",
   "execution_count": null,
   "id": "aa25f0da",
   "metadata": {},
   "outputs": [],
   "source": [
    "print(len(apps['Type'].value_counts()))\n",
    "apps['Type'].value_counts()"
   ]
  },
  {
   "cell_type": "code",
   "execution_count": null,
   "id": "4b120ace",
   "metadata": {},
   "outputs": [],
   "source": [
    "print(len(apps['Content Rating'].value_counts()))\n",
    "apps['Content Rating'].value_counts()"
   ]
  },
  {
   "cell_type": "code",
   "execution_count": null,
   "id": "34619cfa",
   "metadata": {},
   "outputs": [],
   "source": [
    "print(len(apps['Genres'].value_counts()))\n",
    "apps['Genres'].value_counts()"
   ]
  },
  {
   "cell_type": "code",
   "execution_count": null,
   "id": "78fce7ec",
   "metadata": {},
   "outputs": [],
   "source": [
    "print(len(apps['Category'].value_counts()))\n",
    "apps['Category'].value_counts()"
   ]
  },
  {
   "cell_type": "code",
   "execution_count": null,
   "id": "088ff8c1",
   "metadata": {},
   "outputs": [],
   "source": [
    "from sklearn.preprocessing import LabelEncoder\n",
    "\n",
    "le = LabelEncoder()\n",
    "le.fit(apps['Category'])\n",
    "apps['Category'] = le.transform(apps['Category'])"
   ]
  },
  {
   "cell_type": "code",
   "execution_count": null,
   "id": "b2f65589",
   "metadata": {},
   "outputs": [],
   "source": [
    "print(le.classes_) # ART_AND_DESIGN is given 1"
   ]
  },
  {
   "cell_type": "code",
   "execution_count": null,
   "id": "c2628aa4",
   "metadata": {},
   "outputs": [],
   "source": [
    "le.fit(apps['Content Rating'])\n",
    "apps['Content Rating'] = le.transform(apps['Content Rating'])\n",
    "\n",
    "print(le.classes_)"
   ]
  },
  {
   "cell_type": "code",
   "execution_count": null,
   "id": "7e588b7f",
   "metadata": {},
   "outputs": [],
   "source": [
    "# [0 , 1, 2, 3, 4, 5]"
   ]
  },
  {
   "cell_type": "code",
   "execution_count": null,
   "id": "c9cf381c",
   "metadata": {},
   "outputs": [],
   "source": [
    "def ref2(x):\n",
    "  if x == 'Paid':\n",
    "    return 1\n",
    "  else:\n",
    "    return 0\n",
    "\n",
    "apps['Type'] = apps['Type'].map(ref2)"
   ]
  },
  {
   "cell_type": "code",
   "execution_count": null,
   "id": "f862de03",
   "metadata": {},
   "outputs": [],
   "source": [
    "apps = apps.drop([ 'App','Genres', 'Current Ver'], axis = 1)\n",
    "\n",
    "apps.head()"
   ]
  },
  {
   "cell_type": "code",
   "execution_count": null,
   "id": "ae691951",
   "metadata": {},
   "outputs": [],
   "source": [
    "install_list = apps['Installs'].to_list()\n",
    "installs = []\n",
    "def extractingInstalls(x):\n",
    "  for item in x:\n",
    "    if not item.startswith(\"Varies\"):\n",
    "      s = str(item[:len(item) - 1])\n",
    "      s = s.replace(\",\", \"\")\n",
    "      installs.append(float(s))\n",
    "    else:\n",
    "      installs.append(1000.0)\n",
    "\n",
    "extractingInstalls(install_list)\n",
    "print(install_list[:6])\n",
    "apps['Installs'] = installs"
   ]
  },
  {
   "cell_type": "code",
   "execution_count": null,
   "id": "cf8cfda9",
   "metadata": {},
   "outputs": [],
   "source": [
    "def ref3(x):\n",
    "  return float(x)\n",
    "\n",
    "apps['Reviews'] = apps[\"Reviews\"].map(ref3)"
   ]
  },
  {
   "cell_type": "code",
   "execution_count": null,
   "id": "32dff78c",
   "metadata": {},
   "outputs": [],
   "source": [
    "import datetime as dt\n",
    "\n",
    "apps['year'] = apps['Last Updated'].dt.year\n",
    "apps['month'] = apps['Last Updated'].dt.month\n",
    "apps['day'] = apps['Last Updated'].dt.day"
   ]
  },
  {
   "cell_type": "code",
   "execution_count": null,
   "id": "3f94c595",
   "metadata": {},
   "outputs": [],
   "source": [
    "ver_list = apps['Android Ver'].to_list()\n",
    "ver = []\n",
    "def extractingAndroid(x):\n",
    "  for item in x:\n",
    "    if not item.startswith(\"Varies\"):\n",
    "      s = str(item[:3])\n",
    "      ver.append(float(s))\n",
    "    else:\n",
    "      ver.append(4.4)\n",
    "\n",
    "extractingAndroid(ver_list)\n",
    "print(ver_list[:6])\n",
    "apps['Android Ver'] = ver"
   ]
  },
  {
   "cell_type": "code",
   "execution_count": null,
   "id": "365d9cc8",
   "metadata": {},
   "outputs": [],
   "source": [
    "price_list = apps['Price'].to_list()\n",
    "prices = []\n",
    "def extractingPrice(x):\n",
    "  for item in x:\n",
    "    if item != 0:\n",
    "      s = item.replace(\"$\", \"\")\n",
    "      prices.append(float(s))\n",
    "    else:\n",
    "      prices.append(0.0)\n",
    "\n",
    "extractingPrice(price_list)\n",
    "print(price_list[:6])\n",
    "apps['Price'] = prices"
   ]
  },
  {
   "cell_type": "code",
   "execution_count": null,
   "id": "2b35dea7",
   "metadata": {},
   "outputs": [],
   "source": [
    "apps.isnull().sum()"
   ]
  },
  {
   "cell_type": "code",
   "execution_count": null,
   "id": "9ef10fd9",
   "metadata": {},
   "outputs": [],
   "source": [
    "apps.head(25)"
   ]
  },
  {
   "cell_type": "code",
   "execution_count": null,
   "id": "5fb35e6a",
   "metadata": {},
   "outputs": [],
   "source": [
    "apps.isnull().sum()"
   ]
  },
  {
   "cell_type": "code",
   "execution_count": null,
   "id": "eee963e9",
   "metadata": {},
   "outputs": [],
   "source": [
    "plt.figure(figsize=(10,10))\n",
    "sns.heatmap(apps.corr(),annot=True,cmap='viridis',linewidths=.5)"
   ]
  },
  {
   "cell_type": "code",
   "execution_count": null,
   "id": "0c3e56b7",
   "metadata": {},
   "outputs": [],
   "source": [
    "from sklearn.model_selection import train_test_split\n",
    "from sklearn.metrics import accuracy_score\n",
    "from sklearn.ensemble import RandomForestRegressor"
   ]
  },
  {
   "cell_type": "code",
   "execution_count": null,
   "id": "ba64fdf7",
   "metadata": {},
   "outputs": [],
   "source": [
    "y = apps['Rating']\n",
    "X = apps.drop([\"Rating\", \"Last Updated\", \"Reviews\", \"Android Ver\"], axis = 1)"
   ]
  },
  {
   "cell_type": "code",
   "execution_count": null,
   "id": "40847993",
   "metadata": {},
   "outputs": [],
   "source": [
    "from sklearn.decomposition import PCA\n",
    "\n",
    "pca = PCA(n_components = 5)\n",
    "pca_fit = pca.fit_transform(X[:1000])"
   ]
  },
  {
   "cell_type": "code",
   "execution_count": null,
   "id": "2fbef886",
   "metadata": {},
   "outputs": [],
   "source": [
    "Xtrain, Xtest, ytrain, ytest = train_test_split(pca_fit, y[:1000], test_size=0.2)"
   ]
  },
  {
   "cell_type": "code",
   "execution_count": null,
   "id": "9dc9b156",
   "metadata": {},
   "outputs": [],
   "source": [
    "random_model = RandomForestRegressor(n_estimators=200, n_jobs = -1, random_state = 42)"
   ]
  },
  {
   "cell_type": "code",
   "execution_count": null,
   "id": "ab2463e5",
   "metadata": {},
   "outputs": [],
   "source": [
    "#Fit\n",
    "random_model.fit(Xtrain, ytrain)\n",
    "\n",
    "y_pred = random_model.predict(Xtest)\n",
    "\n",
    "#Checking the accuracy\n",
    "random_model_accuracy = round(random_model.score(Xtrain, ytrain)*100,2)\n",
    "print(round(random_model_accuracy, 2), '%')"
   ]
  },
  {
   "cell_type": "code",
   "execution_count": null,
   "id": "b88b9362",
   "metadata": {},
   "outputs": [],
   "source": [
    "random_model_accuracy1 = round(random_model.score(Xtest, ytest)*100,2)\n",
    "print(round(random_model_accuracy1, 2), '%')"
   ]
  },
  {
   "cell_type": "code",
   "execution_count": null,
   "id": "99ece820",
   "metadata": {},
   "outputs": [],
   "source": [
    "# Save the trained model as a pickle string.\n",
    "import pickle \n",
    "\n",
    "saved_model = pickle.dump(random_model, open('Apps.pickle','wb'))\n",
    "\n",
    "saved_pca = pickle.dump(pca, open('AppsPCA.pickle','wb'))"
   ]
  }
 ],
 "metadata": {},
 "nbformat": 4,
 "nbformat_minor": 5
}
