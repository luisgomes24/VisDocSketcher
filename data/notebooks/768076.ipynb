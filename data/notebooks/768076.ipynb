{
 "cells": [
  {
   "cell_type": "markdown",
   "id": "813c4fdd",
   "metadata": {},
   "source": [
    "Welcome to day 1 of the 5-Day Data Challenge! Today, we're going to be looking at how to deal with missing values. To get started, click the blue \"Fork Notebook\" button in the upper, right hand corner. This will create a private copy of this notebook that you can edit and play with. Once you're finished with the exercises, you can choose to make your notebook public to share with others. :)\n",
    "\n",
    "> **Your turn!** As we work through this notebook, you'll see some notebook cells (a block of either code or text) that has \"Your Turn!\" written in it. These are exercises for you to do to help cement your understanding of the concepts we're talking about. Once you've written the code to answer a specific question, you can run the code by clicking inside the cell (box with code in it) with the code you want to run and then hit CTRL + ENTER (CMD + ENTER on a Mac). You can also click in a cell and then click on the right \"play\" arrow to the left of the code. If you want to run all the code in your notebook, you can use the double, \"fast forward\" arrows at the bottom of the notebook editor.\n",
    "\n",
    "Here's what we're going to do today:\n",
    "\n",
    "* [Take a first look at the data](#Take-a-first-look-at-the-data)\n",
    "* [See how many missing data points we have](#See-how-many-missing-data-points-we-have)\n",
    "* [Figure out why the data is missing](#Figure-out-why-the-data-is-missing)\n",
    "* [Drop missing values](#Drop-missing-values)\n",
    "* [Filling in missing values](#Filling-in-missing-values)\n",
    "\n",
    "Let's get started!"
   ]
  },
  {
   "cell_type": "markdown",
   "id": "17e0455c",
   "metadata": {},
   "source": [
    "# Take a first look at the data\n",
    "________\n",
    "\n",
    "The first thing we'll need to do is load in the libraries and datasets we'll be using. For today, I'll be using a dataset of events that occured in American Football games for demonstration, and you'll be using a dataset of building permits issued in San Francisco.\n",
    "\n",
    "> **Important!** Make sure you run this cell yourself or the rest of your code won't work!"
   ]
  },
  {
   "cell_type": "code",
   "execution_count": null,
   "id": "c5469a1e",
   "metadata": {},
   "outputs": [],
   "source": [
    "# modules we'll use\n",
    "import pandas as pd\n",
    "import numpy as np\n",
    "\n",
    "# read in all our data\n",
    "nfl_data = pd.read_csv(\"../input/nflplaybyplay2009to2016/NFL Play by Play 2009-2017 (v4).csv\")\n",
    "sf_permits = pd.read_csv(\"../input/building-permit-applications-data/Building_Permits.csv\")\n",
    "\n",
    "# set seed for reproducibility\n",
    "np.random.seed(0) "
   ]
  },
  {
   "cell_type": "markdown",
   "id": "1014b080",
   "metadata": {},
   "source": [
    "The first thing I do when I get a new dataset is take a look at some of it. This lets me see that it all read in correctly and get an idea of what's going on with the data. In this case, I'm looking to see if I see any missing values, which will be reprsented with `NaN` or `None`."
   ]
  },
  {
   "cell_type": "code",
   "execution_count": null,
   "id": "9b98f370",
   "metadata": {},
   "outputs": [],
   "source": [
    "# look at a few rows of the nfl_data file. I can see a handful of missing data already!\n",
    "nfl_data.sample(5)"
   ]
  },
  {
   "cell_type": "markdown",
   "id": "a5c36291",
   "metadata": {},
   "source": [
    "Yep, it looks like there's some missing values. What about in the sf_permits dataset?"
   ]
  },
  {
   "cell_type": "code",
   "execution_count": null,
   "id": "90afead4",
   "metadata": {},
   "outputs": [],
   "source": [
    "# your turn! Look at a couple of rows from the sf_permits dataset. Do you notice any missing data?\n",
    "\n",
    "# your code goes here :)\n",
    "# sf_permits.sample(5)\n",
    "sf_permits.head(10)"
   ]
  },
  {
   "cell_type": "markdown",
   "id": "1a1f54b8",
   "metadata": {},
   "source": [
    "# See how many missing data points we have\n",
    "___\n",
    "\n",
    "Ok, now we know that we do have some missing values. Let's see how many we have in each column. "
   ]
  },
  {
   "cell_type": "code",
   "execution_count": null,
   "id": "e022045b",
   "metadata": {},
   "outputs": [],
   "source": [
    "# get the number of missing data points per column\n",
    "missing_values_count = nfl_data.isnull().sum()\n",
    "\n",
    "# look at the # of missing points in the first ten columns\n",
    "missing_values_count[0:10]"
   ]
  },
  {
   "cell_type": "markdown",
   "id": "0d12b86a",
   "metadata": {},
   "source": [
    "That seems like a lot! It might be helpful to see what percentage of the values in our dataset were missing to give us a better sense of the scale of this problem:"
   ]
  },
  {
   "cell_type": "code",
   "execution_count": null,
   "id": "aba13de7",
   "metadata": {},
   "outputs": [],
   "source": [
    "# how many total missing values do we have?\n",
    "total_cells = np.product(nfl_data.shape)\n",
    "total_missing = missing_values_count.sum()\n",
    "\n",
    "# percent of data that is missing\n",
    "(total_missing/total_cells) * 100"
   ]
  },
  {
   "cell_type": "markdown",
   "id": "bc411a5b",
   "metadata": {},
   "source": [
    "Wow, almost a quarter of the cells in this dataset are empty! In the next step, we're going to take a closer look at some of the columns with missing values and try to figure out what might be going on with them."
   ]
  },
  {
   "cell_type": "code",
   "execution_count": null,
   "id": "4db6a398",
   "metadata": {},
   "outputs": [],
   "source": [
    "# your turn! Find out what percent of the sf_permit dataset is missing\n",
    "\n",
    "# get the number of missing data points per column\n",
    "missing_values_count = sf_permits.isnull().sum()\n",
    "# look at the # of missing points in the first ten columns\n",
    "# print(missing_values_count)\n",
    "print(missing_values_count[0:10])\n",
    "# how many total missing values do we have?\n",
    "total_cells = np.product(sf_permits.shape)\n",
    "total_missing = missing_values_count.sum()\n",
    "\n",
    "# percent of data that is missing\n",
    "print(\"Missing data elements (NaN) rate: %0.2f %% \" % ((total_missing/total_cells) * 100) )"
   ]
  },
  {
   "cell_type": "code",
   "execution_count": null,
   "id": "dc117335",
   "metadata": {},
   "outputs": [],
   "source": [
    "total_rows = sf_permits.shape[0]\n",
    "total_cols = sf_permits.shape[1]\n",
    "\n",
    "print(\"Total logged records: %d\" % total_rows)\n",
    "columns_eval = (missing_values_count/total_rows)\n",
    "# # ration of data missing in each column\n",
    "print(columns_eval) # I think it is better to drop the columns with large NaN elements\n",
    "\n",
    "print(sf_permits.shape) # Original size\n",
    "# delete the columns with more than 75% of NaN elements and with a deep copy to a new DataFrame\n",
    "sf_permits_temp = sf_permits.drop(sf_permits.columns[[i for i in range(0,total_cols) if columns_eval[i]>0.5]],axis=1).copy(deep=True)\n",
    "print(sf_permits_temp.shape) # size After CLEANING\n",
    "sf_permits_temp.head(10)"
   ]
  },
  {
   "cell_type": "markdown",
   "id": "65f14280",
   "metadata": {},
   "source": [
    "# Figure out why the data is missing\n",
    "____\n",
    " \n",
    "This is the point at which we get into the part of data science that I like to call \"data intution\", by which I mean \"really looking at your data and trying to figure out why it is the way it is and how that will affect your analysis\". It can be a frustrating part of data science, especially if you're newer to the field and don't have a lot of experience. For dealing with missing values, you'll need to use your intution to figure out why the value is missing. One of the most important question you can ask yourself to help figure this out is this:\n",
    "\n",
    "> **Is this value missing becuase it wasn't recorded or becuase it dosen't exist?**\n",
    "\n",
    "If a value is missing becuase it doens't exist (like the height of the oldest child of someone who doesn't have any children) then it doesn't make sense to try and guess what it might be. These values you probalby do want to keep as NaN. On the other hand, if a value is missing becuase it wasn't recorded, then you can try to guess what it might have been based on the other values in that column and row. (This is called \"imputation\" and we'll learn how to do it next! :)\n",
    "\n",
    "Let's work through an example. Looking at the number of missing values in the nfl_data dataframe, I notice that the column `TimesSec` has a lot of missing values in it: "
   ]
  },
  {
   "cell_type": "code",
   "execution_count": null,
   "id": "fb810feb",
   "metadata": {},
   "outputs": [],
   "source": [
    "# look at the # of missing points in the first ten columns\n",
    "missing_values_count[0:10]"
   ]
  },
  {
   "cell_type": "markdown",
   "id": "135b2353",
   "metadata": {},
   "source": [
    "By looking at [the documentation](https://www.kaggle.com/maxhorowitz/nflplaybyplay2009to2016), I can see that this column has information on the number of seconds left in the game when the play was made. This means that these values are probably missing because they were not recorded, rather than because they don't exist. So, it would make sense for us to try and guess what they should be rather than just leaving them as NA's.\n",
    "\n",
    "On the other hand, there are other fields, like `PenalizedTeam` that also have lot of missing fields. In this case, though, the field is missing because if there was no penalty then it doesn't make sense to say *which* team was penalized. For this column, it would make more sense to either leave it empty or to add a third value like \"neither\" and use that to replace the NA's.\n",
    "\n",
    "> **Tip:** This is a great place to read over the dataset documentation if you haven't already! If you're working with a dataset that you've gotten from another person, you can also try reaching out to them to get more information.\n",
    "\n",
    "If you're doing very careful data analysis, this is the point at which you'd look at each column individually to figure out the best strategy for filling those missing values. For the rest of this notebook, we'll cover some \"quick and dirty\" techniques that can help you with missing values but will probably also end up removing some useful information or adding some noise to your data.\n",
    "\n",
    "## Your turn!\n",
    "\n",
    "* Look at the columns `Street Number Suffix` and `Zipcode` from the `sf_permits` datasets. Both of these contain missing values. Which, if either, of these are missing because they don't exist? Which, if either, are missing because they weren't recorded?\n",
    "\n",
    ">*From my point of view*: `Street Number Suffix` does not exist because it is not a unique indentifier or attribute for data set, while `Zipcode` reflects the geolocation attribute of an item."
   ]
  },
  {
   "cell_type": "code",
   "execution_count": null,
   "id": "e97dbc4f",
   "metadata": {},
   "outputs": [],
   "source": [
    "sf_permits['Street Number Suffix'].isnull().sum()"
   ]
  },
  {
   "cell_type": "code",
   "execution_count": null,
   "id": "72c3edcc",
   "metadata": {},
   "outputs": [],
   "source": [
    "sf_permits['Zipcode'].isnull().sum()"
   ]
  },
  {
   "cell_type": "markdown",
   "id": "00a1851e",
   "metadata": {},
   "source": [
    "> [others:](https://www.kaggle.com/aeevrubin/data-cleaning-challenge-handling-missing-values)\n",
    "1. missing because doesn't exist: `Street Number Suffix` (by googling a couple of addresses?)\n",
    "2. missing because wasn't recorded: `Zipcode` (could be found with address?)"
   ]
  },
  {
   "cell_type": "code",
   "execution_count": null,
   "id": "6ee6a022",
   "metadata": {},
   "outputs": [],
   "source": [
    "sf_permits[sf_permits['Street Number Suffix'].isnull() == True].head(10)"
   ]
  },
  {
   "cell_type": "code",
   "execution_count": null,
   "id": "9f02ece0",
   "metadata": {},
   "outputs": [],
   "source": [
    "sf_permits[sf_permits['Street Number Suffix'].isnull() == False].head(10)"
   ]
  },
  {
   "cell_type": "code",
   "execution_count": null,
   "id": "d3e5d356",
   "metadata": {},
   "outputs": [],
   "source": [
    "sf_permits[sf_permits['Zipcode'].isnull() == True].head(10)"
   ]
  },
  {
   "cell_type": "code",
   "execution_count": null,
   "id": "64302f27",
   "metadata": {},
   "outputs": [],
   "source": [
    "sf_permits[sf_permits['Zipcode'].isnull() == False].head(1)"
   ]
  },
  {
   "cell_type": "markdown",
   "id": "24e615e4",
   "metadata": {},
   "source": [
    "# Drop missing values\n",
    "___\n",
    "\n",
    "If you're in a hurry or don't have a reason to figure out why your values are missing, one option you have is to just remove any rows or columns that contain missing values. (Note: I don't generally recommend this approch for important projects! It's usually worth it to take the time to go through your data and really look at all the columns with missing values one-by-one to really get to know your dataset.)  \n",
    "\n",
    "If you're sure you want to drop rows with missing values, pandas does have a handy function, `dropna()` to help you do this. Let's try it out on our NFL dataset!"
   ]
  },
  {
   "cell_type": "code",
   "execution_count": null,
   "id": "9a12a350",
   "metadata": {},
   "outputs": [],
   "source": [
    "# remove all the rows that contain a missing value\n",
    "nfl_data.dropna()"
   ]
  },
  {
   "cell_type": "markdown",
   "id": "59f3cd16",
   "metadata": {},
   "source": [
    "Oh dear, it looks like that's removed all our data! 😱 This is because every row in our dataset had at least one missing value. We might have better luck removing all the *columns* that have at least one missing value instead."
   ]
  },
  {
   "cell_type": "code",
   "execution_count": null,
   "id": "90f84c25",
   "metadata": {},
   "outputs": [],
   "source": [
    "# remove all columns with at least one missing value\n",
    "columns_with_na_dropped = nfl_data.dropna(axis=1)\n",
    "columns_with_na_dropped.head()"
   ]
  },
  {
   "cell_type": "code",
   "execution_count": null,
   "id": "0b36cea1",
   "metadata": {},
   "outputs": [],
   "source": [
    "# just how much data did we lose?\n",
    "print(\"Columns in original dataset: %d \\n\" % nfl_data.shape[1])\n",
    "print(\"Columns with na's dropped: %d\" % columns_with_na_dropped.shape[1])"
   ]
  },
  {
   "cell_type": "markdown",
   "id": "bf708abf",
   "metadata": {},
   "source": [
    "We've lost quite a bit of data, but at this point we have successfully removed all the `NaN`'s from our data. "
   ]
  },
  {
   "cell_type": "code",
   "execution_count": null,
   "id": "fd4e8a0b",
   "metadata": {},
   "outputs": [],
   "source": [
    "# Your turn! Try removing all the rows from the sf_permits dataset that contain missing values. How many are left?\n",
    "rows_with_na_dropped = sf_permits.dropna(axis=0)\n",
    "rows_with_na_dropped"
   ]
  },
  {
   "cell_type": "code",
   "execution_count": null,
   "id": "40e1ba1e",
   "metadata": {},
   "outputs": [],
   "source": [
    "# Now try removing all the columns with empty values. Now how much of your data is left?\n",
    "cols_with_na_dropped = sf_permits.dropna(axis=1)\n",
    "cols_with_na_dropped.head(5)"
   ]
  },
  {
   "cell_type": "code",
   "execution_count": null,
   "id": "351f17af",
   "metadata": {},
   "outputs": [],
   "source": [
    "print(\"Columns in original dataset: %d \\n\" % sf_permits.shape[1])\n",
    "print(\"Columns with na's dropped: %d\" % cols_with_na_dropped.shape[1])"
   ]
  },
  {
   "cell_type": "markdown",
   "id": "fab5025a",
   "metadata": {},
   "source": [
    "# Filling in missing values automatically\n",
    "_____\n",
    "\n",
    "Another option is to try and fill in the missing values. For this next bit, I'm getting a small sub-section of the NFL data so that it will print well."
   ]
  },
  {
   "cell_type": "code",
   "execution_count": null,
   "id": "f28286f7",
   "metadata": {},
   "outputs": [],
   "source": [
    "# get a small subset of the NFL dataset\n",
    "subset_nfl_data = nfl_data.loc[:, 'EPA':'Season'].head()\n",
    "subset_nfl_data"
   ]
  },
  {
   "cell_type": "markdown",
   "id": "b30cbcc1",
   "metadata": {},
   "source": [
    "We can use the Panda's fillna() function to fill in missing values in a dataframe for us. One option we have is to specify what we want the `NaN` values to be replaced with. Here, I'm saying that I would like to replace all the `NaN` values with 0."
   ]
  },
  {
   "cell_type": "code",
   "execution_count": null,
   "id": "0dca0997",
   "metadata": {},
   "outputs": [],
   "source": [
    "# replace all NA's with 0\n",
    "subset_nfl_data.fillna(0)"
   ]
  },
  {
   "cell_type": "markdown",
   "id": "cda11045",
   "metadata": {},
   "source": [
    "I could also be a bit more savvy and replace missing values with whatever value comes directly after it in the same column. (This makes a lot of sense for datasets where the observations have some sort of logical order to them.)"
   ]
  },
  {
   "cell_type": "code",
   "execution_count": null,
   "id": "14233233",
   "metadata": {},
   "outputs": [],
   "source": [
    "# replace all NA's the value that comes directly after it in the same column, \n",
    "# then replace all the reamining na's with 0\n",
    "subset_nfl_data.fillna(method = 'bfill', axis=0).fillna(\"0\")"
   ]
  },
  {
   "cell_type": "markdown",
   "id": "2bc0c033",
   "metadata": {},
   "source": [
    "Filling in missing values is also known as \"imputation\", and you can find more exercises on it [in this lesson, also linked under the \"More practice!\" section](https://www.kaggle.com/dansbecker/handling-missing-values). First, however, why don't you try replacing some of the missing values in the sf_permit dataset?"
   ]
  },
  {
   "cell_type": "code",
   "execution_count": null,
   "id": "d27b733c",
   "metadata": {},
   "outputs": [],
   "source": [
    "# Your turn! Try replacing all the NaN's in the sf_permit data with the one that\n",
    "# comes directly after it and then \n",
    "sf_permits_filled = sf_permits.fillna(method='ffill', axis=0).fillna(\"0\") # {'backfill', 'bfill', 'pad', 'ffill', None}\n",
    "sf_permits_filled.head(5)"
   ]
  },
  {
   "cell_type": "markdown",
   "id": "fcee80bf",
   "metadata": {},
   "source": [
    "And that's it for today! If you have any questions, be sure to post them in the comments below or [on the forums](https://www.kaggle.com/questions-and-answers). \n",
    "\n",
    "Remember that your notebook is private by default, and in order to share it with other people or ask for help with it, you'll need to make it public. First, you'll need to save a version of your notebook that shows your current work by hitting the \"Commit & Run\" button. (Your work is saved automatically, but versioning your work lets you go back and look at what it was like at the point you saved it. It also let's you share a nice compiled notebook instead of just the raw code.) Then, once your notebook is finished running, you can go to the Settings tab in the panel to the left (you may have to expand it by hitting the [<] button next to the \"Commit & Run\" button) and setting the \"Visibility\" dropdown to \"Public\".\n",
    "\n",
    "# More practice!\n",
    "___\n",
    "\n",
    "If you're looking for more practice handling missing values, check out these extra-credit\\* exercises:\n",
    "\n",
    "* [Handling Missing Values](https://www.kaggle.com/dansbecker/handling-missing-values): In this notebook Dan shows you several approaches to imputing missing data using scikit-learn's imputer. \n",
    "* Look back at the `Zipcode` column in the `sf_permits` dataset, which has some missing values. How would you go about figuring out what the actual zipcode of each address should be? (You might try using another dataset, like the [OpenAddresses dataset](https://www.kaggle.com/openaddresses/openaddresses-us-west).) \n",
    "\n",
    "\\* no actual credit is given for completing the challenge, you just learn how to clean data real good :P"
   ]
  },
  {
   "cell_type": "code",
   "execution_count": null,
   "id": "a4a05476",
   "metadata": {},
   "outputs": [],
   "source": [
    "OpenAdd_CA_data = pd.read_csv(\"../input/openaddresses-us-west/ca.csv\")\n",
    "OpenAdd_CA_data.head(10)\n",
    "# pd.set_option('display.max_rows', 1000)\n",
    "# print(OpenAdd_CA_data.CITY.value_counts())"
   ]
  }
 ],
 "metadata": {},
 "nbformat": 4,
 "nbformat_minor": 5
}
