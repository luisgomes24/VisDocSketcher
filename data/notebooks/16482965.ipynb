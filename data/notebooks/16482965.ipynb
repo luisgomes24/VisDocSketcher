{
 "cells": [
  {
   "cell_type": "code",
   "execution_count": null,
   "id": "4b3cd343",
   "metadata": {},
   "outputs": [],
   "source": [
    "# This Python 3 environment comes with many helpful analytics libraries installed\n",
    "# It is defined by the kaggle/python Docker image: https://github.com/kaggle/docker-python\n",
    "# For example, here's several helpful packages to load\n",
    "\n",
    "import numpy as np # linear algebra\n",
    "import pandas as pd # data processing, CSV file I/O (e.g. pd.read_csv)\n",
    "\n",
    "# Input data files are available in the read-only \"../input/\" directory\n",
    "# For example, running this (by clicking run or pressing Shift+Enter) will list all files under the input directory\n",
    "\n",
    "import os\n",
    "for dirname, _, filenames in os.walk('/kaggle/input'):\n",
    "    for filename in filenames:\n",
    "        print(os.path.join(dirname, filename))\n",
    "\n",
    "# You can write up to 20GB to the current directory (/kaggle/working/) that gets preserved as output when you create a version using \"Save & Run All\" \n",
    "# You can also write temporary files to /kaggle/temp/, but they won't be saved outside of the current session"
   ]
  },
  {
   "cell_type": "code",
   "execution_count": null,
   "id": "b95614e9",
   "metadata": {},
   "outputs": [],
   "source": [
    "import pandas as pd\n",
    "train = pd.read_csv(\"../input/2021-ml-midterm-p2/train.csv\")\n",
    "test = pd.read_csv(\"../input/2021-ml-midterm-p2/test.csv\")"
   ]
  },
  {
   "cell_type": "code",
   "execution_count": null,
   "id": "2208faad",
   "metadata": {},
   "outputs": [],
   "source": [
    "train.head(2)"
   ]
  },
  {
   "cell_type": "code",
   "execution_count": null,
   "id": "033eed12",
   "metadata": {},
   "outputs": [],
   "source": [
    "test.head(2)"
   ]
  },
  {
   "cell_type": "code",
   "execution_count": null,
   "id": "93d0669b",
   "metadata": {},
   "outputs": [],
   "source": [
    "test.head(2)"
   ]
  },
  {
   "cell_type": "code",
   "execution_count": null,
   "id": "feb75ed4",
   "metadata": {},
   "outputs": [],
   "source": [
    "# 일단 데이터를 출력해보고, 각각 컬럼마다 unique한 데이터의 개수를 파악\n",
    "\n",
    "for column in train.columns:\n",
    "  print(len(train[column].unique()))"
   ]
  },
  {
   "cell_type": "code",
   "execution_count": null,
   "id": "e7adea14",
   "metadata": {},
   "outputs": [],
   "source": [
    "for column in test.columns:\n",
    "  print(len(test[column].unique()))"
   ]
  },
  {
   "cell_type": "code",
   "execution_count": null,
   "id": "ccc55b1f",
   "metadata": {},
   "outputs": [],
   "source": [
    "# 유니크한 ID를 뜻하는 컬럼들은 결과와 관련없는 정보로 판단, drop시켜줌\n",
    "train = pd.read_csv(\"../input/2021-ml-midterm-p2/train.csv\").drop(['index', 'Unnamed: 0', 'customerID'], axis=1) # axis는 열을 의미\n",
    "test = pd.read_csv(\"../input/2021-ml-midterm-p2/test.csv\").drop(['index', 'Unnamed: 0', 'customerID'], axis=1) # del이용해서 드랍해도 무관함"
   ]
  },
  {
   "cell_type": "code",
   "execution_count": null,
   "id": "8ca933b7",
   "metadata": {},
   "outputs": [],
   "source": [
    "X_train = train.iloc[:,:-1]\n",
    "y_train = train.iloc[:,-1]\n",
    "X_test = test"
   ]
  },
  {
   "cell_type": "code",
   "execution_count": null,
   "id": "946836b1",
   "metadata": {},
   "outputs": [],
   "source": [
    "print(X_train.shape)\n",
    "print(y_train.shape)\n",
    "print(X_test.shape) # shape 확인"
   ]
  },
  {
   "cell_type": "code",
   "execution_count": null,
   "id": "b3aa11b3",
   "metadata": {},
   "outputs": [],
   "source": [
    "X_train.head(2) # 컬럼이 제대로 드랍되었나 확인해봄"
   ]
  },
  {
   "cell_type": "code",
   "execution_count": null,
   "id": "9ef14b31",
   "metadata": {},
   "outputs": [],
   "source": [
    "X_test.head(2)"
   ]
  },
  {
   "cell_type": "code",
   "execution_count": null,
   "id": "1bf6acca",
   "metadata": {},
   "outputs": [],
   "source": [
    "X_train.info() #데이터의 정보를 봄"
   ]
  },
  {
   "cell_type": "code",
   "execution_count": null,
   "id": "65a68215",
   "metadata": {},
   "outputs": [],
   "source": [
    "X_test.info()"
   ]
  },
  {
   "cell_type": "markdown",
   "id": "2cbea9a2",
   "metadata": {},
   "source": [
    "info를 본 결과 TotalCharges의 타입이 train에서는 object이지만, test에서는 float64인 것을 확인 이에 아래와 같은 과정으로 float타입으로 변경시켜줌"
   ]
  },
  {
   "cell_type": "code",
   "execution_count": null,
   "id": "ac69adaa",
   "metadata": {},
   "outputs": [],
   "source": [
    "# import numpy as np\n",
    "# X_train[\"TotalCharges\"] = pd.to_numeric(X_train[\"TotalCharges\"], downcast=\"float\")\n",
    "\n",
    "# 위의 주석처리된 명령어를 실행하여\n",
    "# float타입으로 변경하려 했으나 280번째에 \" \" 공백이 포함되어 변경이 안되는것을 확인"
   ]
  },
  {
   "cell_type": "code",
   "execution_count": null,
   "id": "3509b0e3",
   "metadata": {},
   "outputs": [],
   "source": [
    "(X_train['TotalCharges'] == ' ').sum() # 공백인 곳이 총 10군데 밖에 안되므로 해당 row를 drop하여 처리"
   ]
  },
  {
   "cell_type": "code",
   "execution_count": null,
   "id": "762f41db",
   "metadata": {},
   "outputs": [],
   "source": [
    "drop_idx = X_train[X_train['TotalCharges'] == ' '].index\n",
    "print(drop_idx)"
   ]
  },
  {
   "cell_type": "code",
   "execution_count": null,
   "id": "5977e36d",
   "metadata": {},
   "outputs": [],
   "source": [
    "X_train['TotalCharges'][280] # 위에서 구한 index넣어서 실제 값 확인"
   ]
  },
  {
   "cell_type": "code",
   "execution_count": null,
   "id": "c466d75f",
   "metadata": {},
   "outputs": [],
   "source": [
    "X_train = X_train.drop(drop_idx, axis=0) # row를 드랍할것 이므로 axis=0 (디폴트)\n",
    "y_train = y_train.drop(drop_idx, axis=0)"
   ]
  },
  {
   "cell_type": "code",
   "execution_count": null,
   "id": "ca1eab2b",
   "metadata": {},
   "outputs": [],
   "source": [
    "X_train[\"TotalCharges\"] = pd.to_numeric(X_train[\"TotalCharges\"], downcast=\"float\") # float타입으로 변경\n",
    "X_train.info() # 공백 드랍 후, float타입으로 변경이 제대로 되었나 확인"
   ]
  },
  {
   "cell_type": "code",
   "execution_count": null,
   "id": "0ed75969",
   "metadata": {},
   "outputs": [],
   "source": [
    "X_train.head(1) # 이제 라벨인코더 적용필요."
   ]
  },
  {
   "cell_type": "code",
   "execution_count": null,
   "id": "fc75de1b",
   "metadata": {},
   "outputs": [],
   "source": [
    "X_test.head(5)"
   ]
  },
  {
   "cell_type": "code",
   "execution_count": null,
   "id": "65dedcf1",
   "metadata": {},
   "outputs": [],
   "source": [
    "X_test.columns"
   ]
  },
  {
   "cell_type": "code",
   "execution_count": null,
   "id": "81075de5",
   "metadata": {},
   "outputs": [],
   "source": [
    "from sklearn.preprocessing import LabelEncoder\n",
    "columns = ['gender', 'Partner', 'Dependents', 'tenure',\n",
    "       'PhoneService', 'MultipleLines', 'InternetService', 'OnlineSecurity',\n",
    "       'OnlineBackup', 'DeviceProtection', 'TechSupport', 'StreamingTV',\n",
    "       'StreamingMovies', 'Contract', 'PaperlessBilling', 'PaymentMethod']\n",
    "for column in columns:\n",
    "  le = LabelEncoder()\n",
    "  X_train[column] = le.fit_transform(X_train[column].values)\n",
    "  X_test[column] = le.transform(X_test[column].values)"
   ]
  },
  {
   "cell_type": "code",
   "execution_count": null,
   "id": "6380a01b",
   "metadata": {},
   "outputs": [],
   "source": [
    "X_train.head() # 인코딩이 제대로 되었나 확인"
   ]
  },
  {
   "cell_type": "code",
   "execution_count": null,
   "id": "7e07f3b8",
   "metadata": {},
   "outputs": [],
   "source": [
    "X_test.head()"
   ]
  },
  {
   "cell_type": "code",
   "execution_count": null,
   "id": "5e0dd237",
   "metadata": {},
   "outputs": [],
   "source": [
    "for i in X_train.columns:\n",
    "  X_train.hist(i)\n",
    "  X_test.hist(i)"
   ]
  },
  {
   "cell_type": "code",
   "execution_count": null,
   "id": "a6209222",
   "metadata": {},
   "outputs": [],
   "source": [
    "# 스케일러 적용\n",
    "from sklearn.preprocessing import RobustScaler\n",
    "from sklearn.preprocessing import MinMaxScaler\n",
    "# 1. RobustScaler\n",
    "sc = RobustScaler()\n",
    "X_train_sc = sc.fit_transform(X_train)\n",
    "X_test_sc = sc.transform(X_test)\n",
    "\n",
    "# 2. scaler = MinMaxScaler()\n",
    "# sc = MinMaxScaler()\n",
    "# X_train_sc = sc.fit_transform(X_train)\n",
    "# X_test_sc = sc.transform(X_test)"
   ]
  },
  {
   "cell_type": "code",
   "execution_count": null,
   "id": "9c9c605e",
   "metadata": {},
   "outputs": [],
   "source": [
    "pd.DataFrame(X_train_sc)"
   ]
  },
  {
   "cell_type": "code",
   "execution_count": null,
   "id": "635de580",
   "metadata": {},
   "outputs": [],
   "source": [
    "pd.DataFrame(X_test_sc)"
   ]
  },
  {
   "cell_type": "code",
   "execution_count": null,
   "id": "97278144",
   "metadata": {},
   "outputs": [],
   "source": [
    "from sklearn.linear_model import LogisticRegression\n",
    "from sklearn.discriminant_analysis import LinearDiscriminantAnalysis\n",
    "from sklearn.discriminant_analysis import QuadraticDiscriminantAnalysis\n",
    "\n",
    "# 1. 로지스틱 회귀\n",
    "clf = LogisticRegression()\n",
    "clf.fit(X_train_sc, y_train) # 모델 학습\n",
    "predict = clf.predict(X_test_sc)\n",
    "\n",
    "# # 2. LDA\n",
    "# clf = LinearDiscriminantAnalysis()\n",
    "# clf.fit(X_train_sc, y_train) # 모델 학습\n",
    "# predict = clf.predict(X_test_sc)\n",
    "\n",
    "# 3. QDA \n",
    "# clf = QuadraticDiscriminantAnalysis()\n",
    "# clf.fit(X_train_sc, y_train) # 모델 학습\n",
    "# predict = clf.predict(X_test_sc)"
   ]
  },
  {
   "cell_type": "code",
   "execution_count": null,
   "id": "7d086b3a",
   "metadata": {},
   "outputs": [],
   "source": [
    "print(X_train.shape)\n",
    "print(X_test.shape)\n",
    "print(y_train.shape)"
   ]
  },
  {
   "cell_type": "code",
   "execution_count": null,
   "id": "a371c5f7",
   "metadata": {},
   "outputs": [],
   "source": [
    "predict"
   ]
  },
  {
   "cell_type": "code",
   "execution_count": null,
   "id": "2eedcce2",
   "metadata": {},
   "outputs": [],
   "source": [
    "submit = pd.read_csv(\"../input/2021-ml-midterm-p2/sample_submit.csv\")"
   ]
  },
  {
   "cell_type": "code",
   "execution_count": null,
   "id": "5445d0bd",
   "metadata": {},
   "outputs": [],
   "source": [
    "submit['Churn'] = predict"
   ]
  },
  {
   "cell_type": "code",
   "execution_count": null,
   "id": "3bdb5161",
   "metadata": {},
   "outputs": [],
   "source": [
    "submit.head(10)"
   ]
  },
  {
   "cell_type": "code",
   "execution_count": null,
   "id": "574cd3e5",
   "metadata": {},
   "outputs": [],
   "source": [
    "def cvt_string(data):\n",
    "  if data.lower()== 'yes' :\n",
    "    return 1\n",
    "  elif data.lower() == 'no':\n",
    "    return 0"
   ]
  },
  {
   "cell_type": "code",
   "execution_count": null,
   "id": "58febffe",
   "metadata": {},
   "outputs": [],
   "source": [
    "submit['Churn'] = submit['Churn'].apply(cvt_string)"
   ]
  },
  {
   "cell_type": "code",
   "execution_count": null,
   "id": "fa84859b",
   "metadata": {},
   "outputs": [],
   "source": [
    "submit"
   ]
  },
  {
   "cell_type": "code",
   "execution_count": null,
   "id": "45e4a0a5",
   "metadata": {},
   "outputs": [],
   "source": [
    "submit.to_csv(\"submit.csv\", mode='w', header=True, index= False)"
   ]
  },
  {
   "cell_type": "code",
   "execution_count": null,
   "id": "65feaed4",
   "metadata": {},
   "outputs": [],
   "source": [
    "nan"
   ]
  }
 ],
 "metadata": {},
 "nbformat": 4,
 "nbformat_minor": 5
}
