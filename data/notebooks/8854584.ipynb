{
 "cells": [
  {
   "cell_type": "markdown",
   "id": "944b6061",
   "metadata": {},
   "source": [
    "# MATPLOTLIB FUNDAMENTALS\n",
    "Hi, in this notebook we will talk about basic matplotlib visualizations: Line plots, Scatter plots and Bar plots\n",
    "\n",
    "About the dataset:\n",
    "\n",
    "For the purpose we will be using Scikit Learn’s wine recognition dataset, a collection of results of chemical analysis of wines grown in a specific Italian region by three different cultivators. There are thirteen different measurements taken for different constituents found in the three types of wine, these measurements correspond to the numeric features:\n",
    "Alcohol, Malic acid, Ash, Alcalinity of ash, Magnesium, Total phenols, Flavanoids, Nonflavanoid phenols, Proanthocyanins, Color intensity, Hue, OD280/OD315 of diluted wines, Proline.\n",
    "\n",
    "The dataset is made of 178 instances divided in three different classes (class_0 (59), class_1 (71), class_2 (48)). There are no missing values for features nor for labels.\n",
    "\n",
    "Loading the dataset with the command load_wine( ) the data is return in the form of a dictionary from which we will create a Pandas dataframe.\n"
   ]
  },
  {
   "cell_type": "markdown",
   "id": "318b0ab9",
   "metadata": {},
   "source": [
    "Let's first import the libraries we will use for this tutorial"
   ]
  },
  {
   "cell_type": "code",
   "execution_count": null,
   "id": "5312f68b",
   "metadata": {},
   "outputs": [],
   "source": [
    "import numpy as np\n",
    "import pandas as pd\n",
    "import matplotlib.pyplot as plt\n",
    "from sklearn.datasets import load_wine"
   ]
  },
  {
   "cell_type": "code",
   "execution_count": null,
   "id": "9d7e52f1",
   "metadata": {},
   "outputs": [],
   "source": [
    "wine_dataset = load_wine()\n",
    "\n",
    "X = pd.DataFrame(wine_dataset[\"data\"])\n",
    "X.columns = wine_dataset[\"feature_names\"]\n",
    "y = pd.DataFrame(wine_dataset[\"target\"])"
   ]
  },
  {
   "cell_type": "markdown",
   "id": "4aafc2be",
   "metadata": {},
   "source": [
    " SINGLE LINE PLOT\n",
    " \n",
    "- Subplots returns a new Figure and its Axes object\n",
    "- The figure is the container of the axes\n",
    "- The Axes are the graphs\n",
    "- figsize specifies the figure size (width, height) in inches\n",
    "- By default ax is a single Axes object (Figure with 1 single graph)\n",
    "- marker marks the point, linestyle is how to connect points"
   ]
  },
  {
   "cell_type": "code",
   "execution_count": null,
   "id": "4ffd9698",
   "metadata": {},
   "outputs": [],
   "source": [
    "\n",
    "fig_1, ax = plt.subplots(figsize=(7, 6))\n",
    "ax.plot([0, 1, 2], [2, 4, 6], c='blue', linestyle='', marker='*',  label='curve1')\n",
    "ax.plot([0, 1, 2], [3, 6, 9], c='green', linestyle='--', label='curve2')\n",
    "# position: 90% of the length, 50% of height\n",
    "ax.legend(loc=(0.9, 0.5))\n",
    "plt.show()"
   ]
  },
  {
   "cell_type": "markdown",
   "id": "a700315a",
   "metadata": {},
   "source": [
    "MULTIPLE LINE PLOT"
   ]
  },
  {
   "cell_type": "code",
   "execution_count": null,
   "id": "fe35e336",
   "metadata": {},
   "outputs": [],
   "source": [
    "fig_2, ax = plt.subplots(2, 3, figsize=(7, 6))\n",
    "fig_2.suptitle(\"Figure title\", fontsize=14, fontweight='bold')\n",
    "ax[0, 0].set_title(\"Red\")\n",
    "ax[0, 0].plot([0, 1, 2], [2, 4, 6], marker='o', linestyle='-', c='red')\n",
    "ax[0, 1].plot([0, 1, 2], [3, 6, 9], marker='*', linestyle='--', c='orange')\n",
    "ax[0, 2].set_title(\"grey\")\n",
    "ax[0, 2].plot([0, 1, 2], [3, 6, 9], marker='+', linestyle=':', c='grey')\n",
    "ax[1, 0].set_title(\"black\")\n",
    "ax[1, 0].plot([0, 1, 2], [3, 6, 9], marker='^', linestyle='-', c='black')\n",
    "ax[1, 1].set_title(\"violet\")\n",
    "ax[1, 1].plot([0, 1, 2], [3, 6, 9], marker='o', linestyle='--', c='violet')\n",
    "ax[1, 2].set_title(\"yellow\")\n",
    "ax[1, 2].plot([0, 1, 2], [3, 6, 9], marker='*', linestyle=':', c='yellow')\n",
    "plt.tight_layout()\n",
    "plt.show()"
   ]
  },
  {
   "cell_type": "markdown",
   "id": "0e06c9b3",
   "metadata": {},
   "source": [
    "SCATTER PLOT"
   ]
  },
  {
   "cell_type": "code",
   "execution_count": null,
   "id": "e78549fa",
   "metadata": {},
   "outputs": [],
   "source": [
    "fig_3, ax = plt.subplots(figsize=(7, 6))\n",
    "fig_3.suptitle(\"Figure title\", fontsize=14, fontweight='bold')\n",
    "ax.scatter(X.alcohol, X.malic_acid, c=wine_dataset[\"target\"], cmap='Set1')\n",
    "ax.set_xlabel('X name')\n",
    "ax.set_ylabel('Y name')\n",
    "ax.set_title(\"Single visualization title\")\n",
    "plt.show()"
   ]
  },
  {
   "cell_type": "markdown",
   "id": "7983ebde",
   "metadata": {},
   "source": [
    "A function can be passed as a parameter value for color and size"
   ]
  },
  {
   "cell_type": "code",
   "execution_count": null,
   "id": "ff503ef2",
   "metadata": {},
   "outputs": [],
   "source": [
    "colors = np.array(X.alcohol) + np.array(X.malic_acid)\n",
    "size = np.array(X.alcohol) * np.array(X.malic_acid)\n",
    "fig_4, ax = plt.subplots(figsize=(7, 6))\n",
    "ax.scatter(X.alcohol, X.malic_acid,  c=colors, cmap='hsv', s=size)\n",
    "ax.set_xlabel('Alcohol')\n",
    "ax.set_ylabel('Malic Acid')\n",
    "ax.set_title(\"Wine Dataset\")\n",
    "plt.show()"
   ]
  },
  {
   "cell_type": "markdown",
   "id": "63f3bcad",
   "metadata": {},
   "source": [
    "BAR PLOT\n",
    "\n",
    "Single columns"
   ]
  },
  {
   "cell_type": "code",
   "execution_count": null,
   "id": "8b3ed44b",
   "metadata": {},
   "outputs": [],
   "source": [
    "height = [10, 2, 8]\n",
    "# x is the position of the bars in x axis\n",
    "x = [1, 2, 3]\n",
    "labels = ['Sensor 1', 'Sensor 2', 'Sensor 3']\n",
    "\n",
    "fig_5, ax = plt.subplots(figsize=(7, 6))\n",
    "ax.bar(x, height, tick_label=labels)\n",
    "plt.show()"
   ]
  },
  {
   "cell_type": "markdown",
   "id": "46cec15c",
   "metadata": {},
   "source": [
    "Grouped columns"
   ]
  },
  {
   "cell_type": "code",
   "execution_count": null,
   "id": "c589dad1",
   "metadata": {},
   "outputs": [],
   "source": [
    "height_min = [10, 2, 8]\n",
    "height_max = [8, 6, 5]\n",
    "x = np.arange(3)\n",
    "width = 0.4\n",
    "labels = ['Sensor 1', 'Sensor 2', 'Sensor 3']\n",
    "fig, ax = plt.subplots(figsize=(7, 6))\n",
    "ax.bar(x+width/2, height_min, width=width, label='min')\n",
    "ax.bar(x-width/2, height_max, width=width, label='max')\n",
    "ax.set_xticks(x) # setup positions of x ticks\n",
    "ax.set_xticklabels(labels) # set up labels of x ticks\n",
    "ax.legend(loc=(1.1, 0.5)) # x, y position, in percentage\n",
    "plt.show()"
   ]
  }
 ],
 "metadata": {},
 "nbformat": 4,
 "nbformat_minor": 5
}
