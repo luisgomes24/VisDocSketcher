{
 "cells": [
  {
   "cell_type": "markdown",
   "id": "2dbc1c80",
   "metadata": {},
   "source": [
    "\n",
    "## Table of Contents\n",
    "<ul>\n",
    "<li><a href=\"#intro\">Introduction</a></li>\n",
    "<li><a href=\"#wrangling\">Data Wrangling</a></li>\n",
    "<li><a href=\"#eda\">Exploratory Data Analysis</a></li>\n",
    "<li><a href=\"#conclusions\">Conclusions</a></li>\n",
    "</ul>"
   ]
  },
  {
   "cell_type": "markdown",
   "id": "d11da458",
   "metadata": {},
   "source": [
    "<a id='intro'></a>\n",
    "## Introduction"
   ]
  },
  {
   "cell_type": "markdown",
   "id": "4759f861",
   "metadata": {},
   "source": [
    "We will start by importing the necessary packages for the analysis, after that we will explore the data to spot any problems. We will then dive into data cleaning and preparation for explanatory data analysis"
   ]
  },
  {
   "cell_type": "code",
   "execution_count": null,
   "id": "c851dbc1",
   "metadata": {},
   "outputs": [],
   "source": [
    "# import packages\n",
    "import numpy as np #For scientific computing\n",
    "import pandas as pd #For data manipulation \n",
    "import matplotlib.pyplot as plt #For data visualization \n",
    "import seaborn as sns #For more advamced data visualization "
   ]
  },
  {
   "cell_type": "markdown",
   "id": "29a32a96",
   "metadata": {},
   "source": [
    "Questions:\n",
    "1. Does Show rate differs by gender? males may have higher probability of show up due to social norms that constricts the movement of women.\n",
    "\n",
    "\n",
    "2. How the scholarship affects the probability of show up? those who were eligible for the scholarship may have shown up more often because the are able to afford the costs or because the fear of loosing the scholarship.\n",
    "\n",
    "\n",
    "\n",
    "3. AppointmentDay: How delay affects show up?"
   ]
  },
  {
   "cell_type": "markdown",
   "id": "926878bf",
   "metadata": {},
   "source": [
    "<a id='wrangling'></a>\n",
    "## Data Wrangling"
   ]
  },
  {
   "cell_type": "code",
   "execution_count": null,
   "id": "531153f7",
   "metadata": {},
   "outputs": [],
   "source": [
    "# import the data\n",
    "df = pd.read_csv(\"../input/noshowappointments/KaggleV2-May-2016.csv\")"
   ]
  },
  {
   "cell_type": "code",
   "execution_count": null,
   "id": "14bff4f3",
   "metadata": {},
   "outputs": [],
   "source": [
    "# display the top 5 rows\n",
    "df.head(10)"
   ]
  },
  {
   "cell_type": "code",
   "execution_count": null,
   "id": "07775d93",
   "metadata": {},
   "outputs": [],
   "source": [
    "# display the names of all the columns\n",
    "pd.DataFrame({\"column_name\": df.columns})"
   ]
  },
  {
   "cell_type": "code",
   "execution_count": null,
   "id": "8215ee8e",
   "metadata": {},
   "outputs": [],
   "source": [
    "#display number of rows and columns\n",
    "df.shape"
   ]
  },
  {
   "cell_type": "code",
   "execution_count": null,
   "id": "299f9ce7",
   "metadata": {},
   "outputs": [],
   "source": [
    "# basic info about the data: number of rows and columns, data types, missing values ..etc\n",
    "df.info()"
   ]
  },
  {
   "cell_type": "markdown",
   "id": "c6ba563e",
   "metadata": {},
   "source": [
    "#### There is no missing values\n",
    "#### As we can see the data types needs to be fixed for several columns: \n",
    "\n",
    "1. PatientId and AppointmentID are currently numeric where in fact they have should been string or object as they have no numeric meaning.\n",
    "2. ScheduledDay and AppointmentDay should be converted from object to date-time\n",
    "\n",
    "#### Other remarks:\n",
    "1. No-show should be recoded and converted into integer\n",
    "2. ScheduledDay and AppointmentDay: for more simplicity, we might keep only the date and delete the time.\n"
   ]
  },
  {
   "cell_type": "code",
   "execution_count": null,
   "id": "4b44c5b2",
   "metadata": {},
   "outputs": [],
   "source": [
    "# convert ID variables into objects\n",
    "df[[\"PatientId\", \"AppointmentID\"]] = df[[\"PatientId\", \"AppointmentID\"]].astype(str)\n",
    "\n",
    "# deleting the time and keeping the date only\n",
    "for col in [\"AppointmentDay\", \"ScheduledDay\"]:\n",
    "    df[col] = df[col].apply(lambda x: x.split(\"T\")[0])\n",
    "    \n",
    "# converting date varaibles from object to date\n",
    "for col in [\"ScheduledDay\", \"AppointmentDay\"]:\n",
    "    df[col] = pd.to_datetime(df[col])"
   ]
  },
  {
   "cell_type": "code",
   "execution_count": null,
   "id": "559f52f3",
   "metadata": {},
   "outputs": [],
   "source": [
    "#changing the name of No-Show and encoding it to prevent any misconciption\n",
    "\n",
    "#changing the name\n",
    "df.rename(columns = {\"No-show\": \"Show\"}, inplace = True)\n",
    "\n",
    "#encoding it\n",
    "labels = {\"No\": 1, \"Yes\":0}\n",
    "df[\"Show\"] = df[\"Show\"].map(labels)\n",
    "\n",
    "#converting it into integer\n",
    "df[\"Show\"] = df[\"Show\"].astype(int)"
   ]
  },
  {
   "cell_type": "code",
   "execution_count": null,
   "id": "e70cc027",
   "metadata": {},
   "outputs": [],
   "source": [
    "#changing the name of Gender and encoding it to prevent any misconciption\n",
    "\n",
    "#changing the name\n",
    "df.rename(columns = {\"Gender\": \"Male\"}, inplace = True)\n",
    "\n",
    "#encoding it\n",
    "labels = {\"M\": 1, \"F\":0}\n",
    "df[\"Male\"] = df[\"Male\"].map(labels)\n",
    "\n",
    "#converting it into integer\n",
    "df[\"Male\"] = df[\"Male\"].astype(int)"
   ]
  },
  {
   "cell_type": "code",
   "execution_count": null,
   "id": "30f6ed41",
   "metadata": {},
   "outputs": [],
   "source": [
    "#Lets have a look at data types again\n",
    "df.info()"
   ]
  },
  {
   "cell_type": "markdown",
   "id": "65bd9c07",
   "metadata": {},
   "source": [
    "**All data types have been corrected, lets now check for duplicates**"
   ]
  },
  {
   "cell_type": "code",
   "execution_count": null,
   "id": "f9755397",
   "metadata": {},
   "outputs": [],
   "source": [
    "df.duplicated().sum()\n",
    "\n",
    "# ther is no duplicates"
   ]
  },
  {
   "cell_type": "markdown",
   "id": "15d7ecf5",
   "metadata": {},
   "source": [
    "#### Checking for extreme values"
   ]
  },
  {
   "cell_type": "code",
   "execution_count": null,
   "id": "4b6fee69",
   "metadata": {},
   "outputs": [],
   "source": [
    "pd.DataFrame({\"min\":df.min(), \"max\":df.max()})"
   ]
  },
  {
   "cell_type": "markdown",
   "id": "e171ea33",
   "metadata": {},
   "source": [
    "1. The minimum age is -1! \n",
    "\n",
    "\n",
    "2. age can not be less than 0\n",
    "\n",
    "Lets explore it further and see that specific patient"
   ]
  },
  {
   "cell_type": "code",
   "execution_count": null,
   "id": "89f729b2",
   "metadata": {},
   "outputs": [],
   "source": [
    "df[df[\"Age\"] < 0]"
   ]
  },
  {
   "cell_type": "code",
   "execution_count": null,
   "id": "812614f3",
   "metadata": {},
   "outputs": [],
   "source": [
    "#drop this row\n",
    "df.drop(99832, inplace = True)\n",
    "\n",
    "# Make sure of dropping it\n",
    "df[df[\"Age\"] < 0]"
   ]
  },
  {
   "cell_type": "markdown",
   "id": "683c23d6",
   "metadata": {},
   "source": [
    "#### Change age to a categorical variable in order to clearly see the relationship between it and show"
   ]
  },
  {
   "cell_type": "code",
   "execution_count": null,
   "id": "b98d379f",
   "metadata": {},
   "outputs": [],
   "source": [
    "df[\"Age_bins\"] = pd.qcut(df.Age, 5, labels = [\"0 - 12\", \"13 - 29\", \"30 - 44\", \"45 - 58\", \"59 - 115\"])"
   ]
  },
  {
   "cell_type": "code",
   "execution_count": null,
   "id": "49c04e08",
   "metadata": {},
   "outputs": [],
   "source": [
    "df.Age_bins.unique()"
   ]
  },
  {
   "cell_type": "markdown",
   "id": "c4126e23",
   "metadata": {},
   "source": [
    "#### Create a new variable for those who are diabetic and also hipertension"
   ]
  },
  {
   "cell_type": "code",
   "execution_count": null,
   "id": "e2e43781",
   "metadata": {},
   "outputs": [],
   "source": [
    "df[\"diabetic_hiper\"] = df[\"Diabetes\"] * df[\"Hipertension\"]"
   ]
  },
  {
   "cell_type": "markdown",
   "id": "d748d80b",
   "metadata": {},
   "source": [
    "#### Create new variable for waiting days"
   ]
  },
  {
   "cell_type": "code",
   "execution_count": null,
   "id": "b0861d9c",
   "metadata": {},
   "outputs": [],
   "source": [
    "df[\"Wait_days\"] = df[\"AppointmentDay\"] - df[\"ScheduledDay\"]\n",
    "df[\"Wait_days\"] = df[\"Wait_days\"].astype(str)\n",
    "df[\"Wait_days\"] = df[\"Wait_days\"].apply(lambda x: x.split(\" \")[0])\n",
    "df[\"Wait_days\"] = df[\"Wait_days\"].astype(int)"
   ]
  },
  {
   "cell_type": "code",
   "execution_count": null,
   "id": "84da21a2",
   "metadata": {},
   "outputs": [],
   "source": [
    "# Exploring unreasonable wait days\n",
    "drop_index = df[df[\"Wait_days\"] < 0].index\n",
    "df.drop(drop_index, inplace = True)\n",
    "\n",
    "df[df[\"Wait_days\"] < 0]"
   ]
  },
  {
   "cell_type": "code",
   "execution_count": null,
   "id": "c99e7e61",
   "metadata": {},
   "outputs": [],
   "source": [
    "#Converting wait days into wait bins\n",
    "df[\"Wait_days\"] = pd.cut(df[\"Wait_days\"], 10, labels = [\"0-17\", \"18-34\", \"35-53\", \"54-71\", \"72-89\", \"90-106\", \"107-124\", \"125-142\", \"143-160\", \"161-179\"])"
   ]
  },
  {
   "cell_type": "code",
   "execution_count": null,
   "id": "7096b575",
   "metadata": {},
   "outputs": [],
   "source": [
    "df.head()"
   ]
  },
  {
   "cell_type": "markdown",
   "id": "c1a488cd",
   "metadata": {},
   "source": [
    "<a id='eda'></a>\n",
    "## Exploratory Data Analysis"
   ]
  },
  {
   "cell_type": "code",
   "execution_count": null,
   "id": "c1440f04",
   "metadata": {},
   "outputs": [],
   "source": [
    "# Summary Statistics\n",
    "df.describe()"
   ]
  },
  {
   "cell_type": "markdown",
   "id": "601ccae6",
   "metadata": {},
   "source": [
    "**Main Remarks:**\n",
    "\n",
    "The mean age of all patients is 37\n",
    "\n",
    "For all the patients:\n",
    "\n",
    "1. 9.8 percent have the scholarship\n",
    "\n",
    "\n",
    "2. 35 percent are males\n",
    "\n",
    "\n",
    "3. 19.7 percent have high blood pressure\n",
    "\n",
    "\n",
    "4. 7.2 percent are diabetic\n",
    "\n",
    "\n",
    "5. 3 percent drink alcohol\n",
    "\n",
    "\n",
    "6. 2.2 percent are handicapped\n",
    "\n",
    "\n",
    "7. 32.1 percent received a sms\n",
    "\n",
    "\n",
    "8. Show up rate is 79.8 percent\n",
    "\n",
    "\n",
    "9. 5.9 percent are diabetic and also hipertension "
   ]
  },
  {
   "cell_type": "code",
   "execution_count": null,
   "id": "e845698a",
   "metadata": {},
   "outputs": [],
   "source": [
    "# Correlation between Show and other variables\n",
    "df.corr()"
   ]
  },
  {
   "cell_type": "code",
   "execution_count": null,
   "id": "220fb30a",
   "metadata": {},
   "outputs": [],
   "source": [
    "# Visualize correlation matrix\n",
    "plt.figure(figsize = (8, 4), dpi = 100)\n",
    "sns.heatmap(df.corr(), vmin = -1, vmax = 1, cmap = \"viridis\", linewidths=0.01, annot=True)"
   ]
  },
  {
   "cell_type": "markdown",
   "id": "c5922597",
   "metadata": {},
   "source": [
    "There is no strong correlation between Show up and any other feature. However, there is a strong positive correlation between Hipertension on one hand and Age, and Diabetic on the other hand."
   ]
  },
  {
   "cell_type": "markdown",
   "id": "e8a77b07",
   "metadata": {},
   "source": [
    "### Answers to the questions"
   ]
  },
  {
   "cell_type": "markdown",
   "id": "f2aa70b2",
   "metadata": {},
   "source": [
    "#### Question 1: How gender affects show up?"
   ]
  },
  {
   "cell_type": "code",
   "execution_count": null,
   "id": "9e854554",
   "metadata": {},
   "outputs": [],
   "source": [
    "# The relation ship between Show and other features\n",
    "male_impact = pd.pivot_table(data = df, index = \"Male\", values = \"Show\")\n",
    "round(male_impact * 100, 2) "
   ]
  },
  {
   "cell_type": "code",
   "execution_count": null,
   "id": "4d6906c5",
   "metadata": {},
   "outputs": [],
   "source": [
    "plt.figure(figsize = (8,4), dpi = 100)\n",
    "sns.barplot(x=df.Male, y=df.Show)\n",
    "plt.show()"
   ]
  },
  {
   "cell_type": "code",
   "execution_count": null,
   "id": "ff75a04e",
   "metadata": {},
   "outputs": [],
   "source": [
    "df.columns "
   ]
  },
  {
   "cell_type": "code",
   "execution_count": null,
   "id": "7eb2182e",
   "metadata": {},
   "outputs": [],
   "source": [
    "# Does receiving SMS makes a gender difference?\n",
    "male_diab_impact = pd.pivot_table(data = df, index = [\"Male\", \"SMS_received\"], values = \"Show\")\n",
    "round(male_diab_impact * 100, 2) "
   ]
  },
  {
   "cell_type": "code",
   "execution_count": null,
   "id": "553bd854",
   "metadata": {},
   "outputs": [],
   "source": [
    "# Does being diabetic makes a gender difference?\n",
    "male_diab_impact = pd.pivot_table(data = df, index = [\"Male\", \"Diabetes\"], values = \"Show\")\n",
    "round(male_diab_impact * 100, 2) "
   ]
  },
  {
   "cell_type": "code",
   "execution_count": null,
   "id": "22cc6af8",
   "metadata": {},
   "outputs": [],
   "source": [
    "# Does age makes a gender difference?\n",
    "male_diab_impact = pd.pivot_table(data = df, index = [\"Male\", \"Age_bins\"], values = \"Show\")\n",
    "round(male_diab_impact * 100, 2) "
   ]
  },
  {
   "cell_type": "code",
   "execution_count": null,
   "id": "64822559",
   "metadata": {},
   "outputs": [],
   "source": [
    "male_diab_impact = pd.pivot_table(data = df, index = [\"Male\", \"Scholarship\"], values = \"Show\")\n",
    "round(male_diab_impact * 100, 2) "
   ]
  },
  {
   "cell_type": "markdown",
   "id": "abc50d12",
   "metadata": {},
   "source": [
    "#### Answer to Question 1:\n",
    "When it comes to show up, there is no Significant difference between males and females regardless of:\n",
    "1. Agg\n",
    "2. Being diabetic or not.\n",
    "3. Receiving SMS or not\n",
    "3. Receiving the scholarship or not\n",
    "\n",
    "Therefore, we can conclude that Gender has no significant impact on show up"
   ]
  },
  {
   "cell_type": "markdown",
   "id": "ff7a0b5e",
   "metadata": {},
   "source": [
    "#### Question 2: How the scholarship affects the probability of show up?"
   ]
  },
  {
   "cell_type": "code",
   "execution_count": null,
   "id": "e1944466",
   "metadata": {},
   "outputs": [],
   "source": [
    "# The relationship between Show and scholaship\n",
    "scholar_impact = pd.pivot_table(data = df, index = \"Scholarship\", values = \"Show\")\n",
    "round(scholar_impact * 100, 2) "
   ]
  },
  {
   "cell_type": "code",
   "execution_count": null,
   "id": "0654d26b",
   "metadata": {},
   "outputs": [],
   "source": [
    "#graph the result\n",
    "plt.figure(figsize = (8,4), dpi = 100)\n",
    "sns.barplot(x=df.Scholarship, y=df.Show)\n",
    "plt.show()"
   ]
  },
  {
   "cell_type": "code",
   "execution_count": null,
   "id": "2562f411",
   "metadata": {},
   "outputs": [],
   "source": [
    "#Scholar Age Impact\n",
    "scholar_age_impact = pd.pivot_table(data = df, index = [\"Scholarship\", \"Age_bins\"], values = \"Show\")\n",
    "round(scholar_age_impact * 100, 2)"
   ]
  },
  {
   "cell_type": "code",
   "execution_count": null,
   "id": "71ac62e5",
   "metadata": {},
   "outputs": [],
   "source": [
    "#Scholar Gender Impact\n",
    "scholar_gender_impact = pd.pivot_table(data = df, index = [\"Scholarship\", \"Male\"], values = \"Show\")\n",
    "round(scholar_gender_impact * 100, 2) "
   ]
  },
  {
   "cell_type": "code",
   "execution_count": null,
   "id": "86649ab9",
   "metadata": {},
   "outputs": [],
   "source": [
    "#Scholar Hipertension Impact\n",
    "scholar_hiper_impact = pd.pivot_table(data = df, index = [\"Scholarship\", \"Hipertension\"], values = \"Show\")\n",
    "round(scholar_hiper_impact * 100, 2) "
   ]
  },
  {
   "cell_type": "code",
   "execution_count": null,
   "id": "23bd4b89",
   "metadata": {},
   "outputs": [],
   "source": [
    "#Scholar Diabetes Impact\n",
    "scholar_diab_impact = pd.pivot_table(data = df, index = [\"Scholarship\", \"Diabetes\"], values = \"Show\")\n",
    "round(scholar_diab_impact * 100, 2) "
   ]
  },
  {
   "cell_type": "code",
   "execution_count": null,
   "id": "259f4cd9",
   "metadata": {},
   "outputs": [],
   "source": [
    "#Scholar Alcoholism Impact\n",
    "scholar_alco_impact = pd.pivot_table(data = df, index = [\"Scholarship\", \"Alcoholism\"], values = \"Show\")\n",
    "round(scholar_alco_impact * 100, 2)"
   ]
  },
  {
   "cell_type": "markdown",
   "id": "77fab580",
   "metadata": {},
   "source": [
    "#### Answer to question 2:\n",
    "At the first glance it seems that scholarship has negative impact on show up whic is counter intuitive. But when we investigated it further, we concluded that those who were diabetic or hipertension and received the scholaship had higher show up rates. At the contrary, the scholarship led to a negative impact if the beneficiary was alcoholic."
   ]
  },
  {
   "cell_type": "markdown",
   "id": "7beb5eb6",
   "metadata": {},
   "source": [
    "#### Question 3: How delay affects show up?"
   ]
  },
  {
   "cell_type": "code",
   "execution_count": null,
   "id": "ffe67d0e",
   "metadata": {},
   "outputs": [],
   "source": [
    "# The relationship between Show and scholaship\n",
    "wait_impact = pd.pivot_table(data = df, index = \"Wait_days\", values = \"Show\")\n",
    "round(wait_impact * 100, 2) "
   ]
  },
  {
   "cell_type": "code",
   "execution_count": null,
   "id": "029c0ed5",
   "metadata": {},
   "outputs": [],
   "source": [
    "wait_days = df.Wait_days.value_counts(normalize = True).sort_values(ascending = False)[:30]\n",
    "plt.figure(figsize = (8,4), dpi = 100)\n",
    "sns.barplot(x = wait_days.index, y = wait_days.values)\n",
    "plt.xticks(rotation = 90)\n",
    "plt.show()"
   ]
  },
  {
   "cell_type": "code",
   "execution_count": null,
   "id": "7e7618d9",
   "metadata": {},
   "outputs": [],
   "source": [
    "#graph the result\n",
    "plt.figure(figsize = (8,4), dpi = 100)\n",
    "sns.barplot(x=df.Wait_days, y=df.Show)\n",
    "plt.show()"
   ]
  },
  {
   "cell_type": "markdown",
   "id": "028d1567",
   "metadata": {},
   "source": [
    "#### Answer Question 3:\n",
    "Delay Have negative but inconsistent impact on show up"
   ]
  },
  {
   "cell_type": "markdown",
   "id": "4711a8ae",
   "metadata": {},
   "source": [
    "<a id='conclusions'></a>\n",
    "## Conclusions"
   ]
  },
  {
   "cell_type": "markdown",
   "id": "eb2bb1fa",
   "metadata": {},
   "source": [
    "**Impact of Gender**\n",
    "\n",
    "When it comes to show up, there is no Significant difference between males and females regardless of:\n",
    "1. Agg\n",
    "2. Being diabetic or not.\n",
    "3. Receiving SMS or not\n",
    "3. Receiving the scholarship or not\n",
    "\n",
    "Therefore, we can conclude that Gender has no significant impact on show up\n",
    "\n",
    "\n",
    "**Impact of scholarship**\n",
    "\n",
    "At the first glance it seems that scholarship has negative impact on show up whic is counter intuitive. But when we investigated it further, we concluded that those who were diabetic or hipertension and received the scholaship had higher show up rates. At the contrary, the scholarship led to a negative impact if the beneficiary was alcoholic.\n",
    "\n",
    "\n",
    "**Impact of delay days**\n",
    "\n",
    "Delay Have negative but inconsistent impact on show up"
   ]
  },
  {
   "cell_type": "code",
   "execution_count": null,
   "id": "85a50bbc",
   "metadata": {},
   "outputs": [],
   "source": [
    "nan"
   ]
  }
 ],
 "metadata": {},
 "nbformat": 4,
 "nbformat_minor": 5
}
