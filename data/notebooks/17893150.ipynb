{
 "cells": [
  {
   "cell_type": "markdown",
   "id": "29e967b2",
   "metadata": {},
   "source": [
    "# Data loading and Libraries"
   ]
  },
  {
   "cell_type": "code",
   "execution_count": null,
   "id": "997c2a19",
   "metadata": {},
   "outputs": [],
   "source": [
    "import pandas as pd\n",
    "import numpy as np\n",
    "import seaborn as sns\n",
    "import matplotlib.pyplot as plt\n",
    "%matplotlib inline"
   ]
  },
  {
   "cell_type": "code",
   "execution_count": null,
   "id": "607144b9",
   "metadata": {},
   "outputs": [],
   "source": [
    "locations=pd.read_csv('/kaggle/input/zomato-restaurant-info-bengaluru/zomato_locations.csv')\n",
    "locations.head()"
   ]
  },
  {
   "cell_type": "code",
   "execution_count": null,
   "id": "9b7e2ff5",
   "metadata": {},
   "outputs": [],
   "source": [
    "print(locations.info())\n",
    "print(locations.shape)"
   ]
  },
  {
   "cell_type": "markdown",
   "id": "8facf7db",
   "metadata": {},
   "source": [
    "# Checking Missing values"
   ]
  },
  {
   "cell_type": "code",
   "execution_count": null,
   "id": "9fddad87",
   "metadata": {},
   "outputs": [],
   "source": [
    "sns.set()\n",
    "sns.heatmap(locations.isnull(), cbar=False, yticklabels=False, cmap='viridis')"
   ]
  },
  {
   "cell_type": "markdown",
   "id": "d75df804",
   "metadata": {},
   "source": [
    "we see that there is no missing values in above sns plot."
   ]
  },
  {
   "cell_type": "code",
   "execution_count": null,
   "id": "c4b2e503",
   "metadata": {},
   "outputs": [],
   "source": [
    "locations.isnull().sum()"
   ]
  },
  {
   "cell_type": "markdown",
   "id": "b585fbc5",
   "metadata": {},
   "source": [
    "# Exploratory Analysis"
   ]
  },
  {
   "cell_type": "code",
   "execution_count": null,
   "id": "d9c7ebf5",
   "metadata": {},
   "outputs": [],
   "source": [
    "plt.figure(figsize=(8,4))\n",
    "sns.heatmap(locations.corr(),cmap='Greens',annot=True)"
   ]
  },
  {
   "cell_type": "markdown",
   "id": "1278eea4",
   "metadata": {},
   "source": [
    "we see that there is no correlations between given Features."
   ]
  },
  {
   "cell_type": "code",
   "execution_count": null,
   "id": "130dc6b7",
   "metadata": {},
   "outputs": [],
   "source": [
    "data_sort=locations.sort_values(by='avg_rating',ascending=False)\n",
    "data_sort.head()"
   ]
  },
  {
   "cell_type": "code",
   "execution_count": null,
   "id": "781a81fd",
   "metadata": {},
   "outputs": [],
   "source": [
    "#histogram of avg_rating\n",
    "plt.hist(data_sort['avg_rating'],10)"
   ]
  },
  {
   "cell_type": "markdown",
   "id": "2c4c07c0",
   "metadata": {},
   "source": [
    "i) we see that there are total 50 locations where highest rating is given for resturants.\n",
    "ii)There is only one resturants which got zero rating.\n",
    "ii)Most of resturants having rating is between 3 to 4.5"
   ]
  },
  {
   "cell_type": "code",
   "execution_count": null,
   "id": "561f9324",
   "metadata": {},
   "outputs": [],
   "source": [
    "#\n",
    "k=pd.pivot_table(data_sort,index='avg_rating',values='count',aggfunc='sum')\n",
    "k.plot(kind='bar')"
   ]
  },
  {
   "cell_type": "markdown",
   "id": "d2fee606",
   "metadata": {},
   "source": [
    "i)we see that there are total 12000 resturants having rating is 3.8 and approximately 9000 resturants having rating is 4.1."
   ]
  },
  {
   "cell_type": "code",
   "execution_count": null,
   "id": "4c545838",
   "metadata": {},
   "outputs": [],
   "source": [
    "sns.catplot(x='avg_rating',kind='box',data=locations)"
   ]
  },
  {
   "cell_type": "code",
   "execution_count": null,
   "id": "c9f8449b",
   "metadata": {},
   "outputs": [],
   "source": [
    "sns.relplot(x='lon',y='lat',hue='avg_rating',data=locations)"
   ]
  },
  {
   "cell_type": "markdown",
   "id": "139095db",
   "metadata": {},
   "source": [
    "# Linear Regression"
   ]
  },
  {
   "cell_type": "code",
   "execution_count": null,
   "id": "d5e5b5bc",
   "metadata": {},
   "outputs": [],
   "source": [
    "import statsmodels.api as sm"
   ]
  },
  {
   "cell_type": "code",
   "execution_count": null,
   "id": "d26e8ac7",
   "metadata": {},
   "outputs": [],
   "source": [
    "y=locations.iloc[:,4].values\n",
    "x=locations.iloc[:,1:4].values"
   ]
  },
  {
   "cell_type": "code",
   "execution_count": null,
   "id": "9fc154bf",
   "metadata": {},
   "outputs": [],
   "source": [
    "lin_model=sm.OLS(y,x).fit()\n",
    "lin_model.summary()"
   ]
  },
  {
   "cell_type": "markdown",
   "id": "92756c78",
   "metadata": {},
   "source": [
    "we see that all regressor x1,x2,x3 having p_value is less then 0.05.Hence all three variables are significant.\n",
    "Also R-squared and Adj.R-squared values are closer to 1. Here R-squared is 0.93 we say that 93% of data fit regression model."
   ]
  },
  {
   "cell_type": "markdown",
   "id": "145af91e",
   "metadata": {},
   "source": [
    "# Residual Analysis"
   ]
  },
  {
   "cell_type": "code",
   "execution_count": null,
   "id": "899013e8",
   "metadata": {},
   "outputs": [],
   "source": [
    "from scipy.stats import shapiro\n",
    "y_pred=lin_model.predict(x)\n",
    "residual=y-y_pred\n",
    "shapiro(residual)"
   ]
  },
  {
   "cell_type": "markdown",
   "id": "4b14e3af",
   "metadata": {},
   "source": [
    "We see that pvalue is less then 0.05,Hence we reject null hypothesis.Hence residuals are Not normally distributed."
   ]
  },
  {
   "cell_type": "code",
   "execution_count": null,
   "id": "c29ddd0a",
   "metadata": {},
   "outputs": [],
   "source": [
    "plt.hist(residual)"
   ]
  },
  {
   "cell_type": "code",
   "execution_count": null,
   "id": "7581cf57",
   "metadata": {},
   "outputs": [],
   "source": [
    "#Residual Analysis\n",
    "print(np.mean(residual))\n",
    "plt.plot(residual)"
   ]
  },
  {
   "cell_type": "markdown",
   "id": "c60e2265",
   "metadata": {},
   "source": [
    "From above analysis we say that model is not satisfying normality assumption. Hence model is not significant for prediction"
   ]
  },
  {
   "cell_type": "code",
   "execution_count": null,
   "id": "2fcfe2ba",
   "metadata": {},
   "outputs": [],
   "source": [
    "from sklearn.metrics import mean_squared_error\n",
    "MSE= mean_squared_error(y,y_pred)\n",
    "print(r'The MSE is:',MSE)"
   ]
  },
  {
   "cell_type": "markdown",
   "id": "2c93c10f",
   "metadata": {},
   "source": [
    "# K-Means Clustering"
   ]
  },
  {
   "cell_type": "code",
   "execution_count": null,
   "id": "52904965",
   "metadata": {},
   "outputs": [],
   "source": [
    "data_c=locations.drop(columns=['Name'])\n",
    "x=locations.iloc[:,1:].values"
   ]
  },
  {
   "cell_type": "code",
   "execution_count": null,
   "id": "99b426ef",
   "metadata": {},
   "outputs": [],
   "source": [
    "#feature scaling\n",
    "#from sklearn.preprocessing import StandardScaler\n",
    "#from sklearn.preprocessing import MinMaxScaler\n",
    "#sc=StandardScaler()\n",
    "#sc=MinMaxScaler()\n",
    "#x=sc.fit_transform(x)"
   ]
  },
  {
   "cell_type": "code",
   "execution_count": null,
   "id": "1a3ebd4a",
   "metadata": {},
   "outputs": [],
   "source": [
    "from sklearn.cluster import KMeans"
   ]
  },
  {
   "cell_type": "code",
   "execution_count": null,
   "id": "c36d9a64",
   "metadata": {},
   "outputs": [],
   "source": [
    "#Finding optimal number of cluster\n",
    "wcss=[]\n",
    "for i in range(1,15):\n",
    "    km=KMeans(n_clusters=i,init='k-means++',max_iter=300,n_init=10,random_state=0)\n",
    "    km.fit(x)\n",
    "    wcss.append(km.inertia_)\n",
    "plt.plot(range(1,15),wcss)\n",
    "plt.title('Elbow Method')\n",
    "plt.xlabel('Number of cluster')\n",
    "plt.ylabel('wcss')\n",
    "plt.show()"
   ]
  },
  {
   "cell_type": "markdown",
   "id": "f2e2cedc",
   "metadata": {},
   "source": [
    "We see that optimal number of cluster are 5."
   ]
  },
  {
   "cell_type": "code",
   "execution_count": null,
   "id": "a92bf90d",
   "metadata": {},
   "outputs": [],
   "source": [
    "kmeans=KMeans(n_clusters=4,init=\"k-means++\",n_init=10,max_iter=300,random_state=0)\n",
    "y_kmeans=kmeans.fit_predict(x)"
   ]
  },
  {
   "cell_type": "code",
   "execution_count": null,
   "id": "2bd3ade0",
   "metadata": {},
   "outputs": [],
   "source": [
    "dd=pd.DataFrame(x,columns=['count','lat','lon','avg_rating'])\n",
    "dd['cluster'] = y_kmeans\n",
    "pd.plotting.parallel_coordinates(dd, 'cluster')"
   ]
  },
  {
   "cell_type": "code",
   "execution_count": null,
   "id": "078a6f23",
   "metadata": {},
   "outputs": [],
   "source": [
    "#for visualization\n",
    "plt.scatter(x[y_kmeans==0,0],x[y_kmeans==0,1],s=100,c=\"red\",label=\"cluster-1\")\n",
    "plt.scatter(x[y_kmeans==1,0],x[y_kmeans==1,1],s=100,c=\"blue\",label=\"cluster-2\")\n",
    "plt.scatter(x[y_kmeans==2,0],x[y_kmeans==2,1],s=100,c=\"green\",label=\"cluster-3\")\n",
    "plt.scatter(x[y_kmeans==3,0],x[y_kmeans==3,1],s=100,c=\"cyan\",label=\"cluster-4\")\n",
    "plt.scatter(kmeans.cluster_centers_[:,0],kmeans.cluster_centers_[:,1],s=300,c=\"yellow\",label=\"Centroids\")\n",
    "plt.title(\"clusters of resturants\")\n",
    "plt.legend()\n",
    "plt.show()"
   ]
  },
  {
   "cell_type": "markdown",
   "id": "8aa708cd",
   "metadata": {},
   "source": [
    "we see that data is clustered into 4 groups"
   ]
  },
  {
   "cell_type": "markdown",
   "id": "5614821c",
   "metadata": {},
   "source": [
    "# AgglomerativeClustering"
   ]
  },
  {
   "cell_type": "code",
   "execution_count": null,
   "id": "3afd0566",
   "metadata": {},
   "outputs": [],
   "source": [
    "#for dendogram \n",
    "import scipy.cluster.hierarchy as sch\n",
    "dendogram=sch.dendrogram(sch.linkage(x,method=\"ward\"))\n",
    "plt.title(\"Dendrogram\")\n",
    "plt.xlabel(\"data\")\n",
    "plt.ylabel(\"Euclidean Distances\")\n",
    "plt.show()"
   ]
  },
  {
   "cell_type": "code",
   "execution_count": null,
   "id": "87948856",
   "metadata": {},
   "outputs": [],
   "source": [
    "#here we get 5 clusters\n",
    "#fitting HC_clustering to dataset\n",
    "from sklearn.cluster import AgglomerativeClustering\n",
    "hc=AgglomerativeClustering(n_clusters=4,affinity=\"euclidean\",linkage=\"ward\")\n",
    "y_hc=hc.fit_predict(x)"
   ]
  },
  {
   "cell_type": "code",
   "execution_count": null,
   "id": "d6e129f1",
   "metadata": {},
   "outputs": [],
   "source": [
    "#for Visualization\n",
    "plt.scatter(x[y_hc==0,0],x[y_hc==0,1],s=100,c=\"red\",label=\"cluster-1\")\n",
    "plt.scatter(x[y_hc==1,0],x[y_hc==1,1],s=100,c=\"blue\",label=\"cluster-2\")\n",
    "plt.scatter(x[y_hc==2,0],x[y_hc==2,1],s=100,c=\"green\",label=\"cluster-3\")\n",
    "plt.scatter(x[y_hc==3,0],x[y_hc==3,1],s=100,c=\"cyan\",label=\"cluster-4\")\n",
    "plt.title(\"clusters of Resturants\")\n",
    "plt.legend()\n",
    "plt.show()"
   ]
  },
  {
   "cell_type": "markdown",
   "id": "32cdf161",
   "metadata": {},
   "source": [
    "we see that data is cluster into 4 groups"
   ]
  }
 ],
 "metadata": {},
 "nbformat": 4,
 "nbformat_minor": 5
}
