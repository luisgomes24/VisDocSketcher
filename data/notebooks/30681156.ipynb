{
 "cells": [
  {
   "cell_type": "code",
   "execution_count": null,
   "id": "080b916f",
   "metadata": {},
   "outputs": [],
   "source": [
    "# This Python 3 environment comes with many helpful analytics libraries installed\n",
    "# It is defined by the kaggle/python Docker image: https://github.com/kaggle/docker-python\n",
    "# For example, here's several helpful packages to load\n",
    "\n",
    "import numpy as np # linear algebra\n",
    "import pandas as pd # data processing, CSV file I/O (e.g. pd.read_csv)\n",
    "import plotly.express as px\n",
    "\n",
    "# Input data files are available in the read-only \"../input/\" directory\n",
    "# For example, running this (by clicking run or pressing Shift+Enter) will list all files under the input directory\n",
    "\n",
    "import os\n",
    "for dirname, _, filenames in os.walk('/kaggle/input'):\n",
    "    for filename in filenames:\n",
    "        print(os.path.join(dirname, filename))\n",
    "\n",
    "# You can write up to 20GB to the current directory (/kaggle/working/) that gets preserved as output when you create a version using \"Save & Run All\" \n",
    "# You can also write temporary files to /kaggle/temp/, but they won't be saved outside of the current session"
   ]
  },
  {
   "cell_type": "code",
   "execution_count": null,
   "id": "97a06c6b",
   "metadata": {},
   "outputs": [],
   "source": [
    "#Import the dataset\n",
    "dataset_track = pd.read_csv('/kaggle/input/top-10-annual-best-selling-albums-by-length/Top 10 Albums By Year Tracks - Album Length.csv')\n",
    "dataset_length = pd.read_csv('/kaggle/input/top-10-annual-best-selling-albums-by-length/Top 10 Albums By Year Album Length - Sheet1.csv')\n",
    "dataset_length[['Year']] = dataset_length[['Year']].sort_index(axis = 1, ascending = True)\n",
    "dataset_length['Worldwide Sales (Est.)'] = dataset_length['Worldwide Sales (Est.)'].str.replace(',', '').astype(int)\n",
    "dataset_length.info()"
   ]
  },
  {
   "cell_type": "code",
   "execution_count": null,
   "id": "75153bdc",
   "metadata": {},
   "outputs": [],
   "source": [
    "dataset_track.info()"
   ]
  },
  {
   "cell_type": "code",
   "execution_count": null,
   "id": "4f0cbde3",
   "metadata": {},
   "outputs": [],
   "source": [
    "dataset_length.info()"
   ]
  },
  {
   "cell_type": "code",
   "execution_count": null,
   "id": "2a79c45e",
   "metadata": {},
   "outputs": [],
   "source": [
    "dataset_track.head(10)"
   ]
  },
  {
   "cell_type": "code",
   "execution_count": null,
   "id": "7ec2d2c7",
   "metadata": {},
   "outputs": [],
   "source": [
    "dataset_length.head(10)"
   ]
  },
  {
   "cell_type": "code",
   "execution_count": null,
   "id": "e32fbabf",
   "metadata": {},
   "outputs": [],
   "source": [
    "dataset_length['Year'].unique()"
   ]
  },
  {
   "cell_type": "code",
   "execution_count": null,
   "id": "7d998dad",
   "metadata": {},
   "outputs": [],
   "source": [
    "fig = px.bar(dataset_length, x=\"Year\", y=\"Ranking\", color=\"Genre\", title=\"Ranking vs Years based on Genres\")\n",
    "fig.show()"
   ]
  },
  {
   "cell_type": "markdown",
   "id": "3e1fd124",
   "metadata": {},
   "source": [
    "___\n",
    "**The Graph can be sorted by clicking legends**\n",
    "___"
   ]
  },
  {
   "cell_type": "code",
   "execution_count": null,
   "id": "befe3163",
   "metadata": {},
   "outputs": [],
   "source": [
    "dataset_length[['Year']] = dataset_length[['Year']].astype('str')\n",
    "fig = px.bar(dataset_length, x=\"Artist\", y=\"Minutes\", color=\"Year\", title=\"Based on Year-Time longest song by an artist\")\n",
    "fig.show()"
   ]
  },
  {
   "cell_type": "markdown",
   "id": "d0999d74",
   "metadata": {},
   "source": [
    "___\n",
    "**The Graph can be sorted by clicking legends**\n",
    "___"
   ]
  },
  {
   "cell_type": "code",
   "execution_count": null,
   "id": "91bf134e",
   "metadata": {},
   "outputs": [],
   "source": [
    "fig = px.line(dataset_length, x=\"Tracks\", y=\"Minutes\", title='Trend between Tracks and Minutes')\n",
    "fig.show()"
   ]
  },
  {
   "cell_type": "code",
   "execution_count": null,
   "id": "9575b3ec",
   "metadata": {},
   "outputs": [],
   "source": [
    "dataset_length.drop(['Hours', 'Seconds'], axis=1).corr()"
   ]
  },
  {
   "cell_type": "code",
   "execution_count": null,
   "id": "69507ec1",
   "metadata": {},
   "outputs": [],
   "source": [
    "fig = px.bar(dataset_length.sort_values(by='Worldwide Sales (Est.)', ascending=False).nlargest(20,'Worldwide Sales (Est.)').reset_index(), x=\"Album\", y = \"Worldwide Sales (Est.)\", color=\"Artist\", title=\"Most Album sales for top 20 People\",animation_frame=\"Artist\")\n",
    "fig.show()"
   ]
  },
  {
   "cell_type": "markdown",
   "id": "beaa0889",
   "metadata": {},
   "source": [
    "___\n",
    "**Clicking the Play button showcasing Whitney Houston : The Bodyguard Soundtrack with maximum global sales of 45 Million**\n",
    "___"
   ]
  },
  {
   "cell_type": "code",
   "execution_count": null,
   "id": "4af6bdde",
   "metadata": {},
   "outputs": [],
   "source": [
    "fig = px.bar(dataset_length[['Worldwide Sales (Est.)','Genre']].groupby('Genre').sum().sort_values(by='Worldwide Sales (Est.)', ascending=False).reset_index(), x=\"Genre\", y = \"Worldwide Sales (Est.)\", color=\"Genre\", title=\"Most Genre Total Sales\")\n",
    "fig.show()"
   ]
  },
  {
   "cell_type": "markdown",
   "id": "62c99a9f",
   "metadata": {},
   "source": [
    "___\n",
    "**Pop is the most revenued genre**\n",
    "___"
   ]
  },
  {
   "cell_type": "code",
   "execution_count": null,
   "id": "6d5765f9",
   "metadata": {},
   "outputs": [],
   "source": [
    "df1 = dataset_length.groupby('Year').sum().reset_index()[['Year','Worldwide Sales (Est.)']]\n",
    "fig = px.line(df1, x=\"Year\", y=\"Worldwide Sales (Est.)\", title='Trend between Year and Minutes',range_y=[30000000,220000000])\n",
    "fig.show()"
   ]
  },
  {
   "cell_type": "markdown",
   "id": "0648ae4b",
   "metadata": {},
   "source": [
    "___\n",
    "**Total Sales shows an overall decreasing trend**\n",
    "___"
   ]
  },
  {
   "cell_type": "code",
   "execution_count": null,
   "id": "265759d7",
   "metadata": {},
   "outputs": [],
   "source": [
    "df = dataset_length.groupby('Artist').count().sort_values(by='Year', ascending=False).reset_index()[['Artist','Year']]\n",
    "df = df.rename(columns={'Year': 'Count'}).nlargest(30,'Count')\n",
    "fig = px.bar(df, x=\"Artist\", y = \"Count\", color=\"Artist\", title=\"Artist's album appears in top 30 rank\")\n",
    "fig.show()\n"
   ]
  },
  {
   "cell_type": "markdown",
   "id": "51ab70ee",
   "metadata": {},
   "source": [
    "___\n",
    "**Movie Soundtrack is the most popular with an appearance count of 14**\n",
    "___"
   ]
  },
  {
   "cell_type": "markdown",
   "id": "09e71394",
   "metadata": {},
   "source": [
    "___\n",
    "**Comments shall be appreciated for futher imporovement**\n",
    "___"
   ]
  }
 ],
 "metadata": {},
 "nbformat": 4,
 "nbformat_minor": 5
}
