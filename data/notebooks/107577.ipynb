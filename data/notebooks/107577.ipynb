{
 "cells": [
  {
   "cell_type": "markdown",
   "id": "8c44b3e0",
   "metadata": {},
   "source": [
    "# A simple personalized recommending script"
   ]
  },
  {
   "cell_type": "markdown",
   "id": "293fd4ff",
   "metadata": {},
   "source": [
    "## Fire up packages"
   ]
  },
  {
   "cell_type": "code",
   "execution_count": null,
   "id": "d13c2e31",
   "metadata": {},
   "outputs": [],
   "source": [
    "import sklearn\n",
    "import matplotlib.pyplot as plt\n",
    "%matplotlib inline\n",
    "import pandas\n",
    "from sklearn.cross_validation import train_test_split\n",
    "import numpy\n",
    "from wordcloud import WordCloud,STOPWORDS"
   ]
  },
  {
   "cell_type": "markdown",
   "id": "9cd55ef7",
   "metadata": {},
   "source": [
    "## Load data"
   ]
  },
  {
   "cell_type": "code",
   "execution_count": null,
   "id": "a1e1516a",
   "metadata": {},
   "outputs": [],
   "source": [
    "df = pandas.read_csv('../input/techcrunch_posts.csv')\n",
    "print(df.shape)"
   ]
  },
  {
   "cell_type": "code",
   "execution_count": null,
   "id": "7fbb40dc",
   "metadata": {},
   "outputs": [],
   "source": [
    "df.head()"
   ]
  },
  {
   "cell_type": "markdown",
   "id": "f8c2bd59",
   "metadata": {},
   "source": [
    "## Pre-process data"
   ]
  },
  {
   "cell_type": "code",
   "execution_count": null,
   "id": "08eca286",
   "metadata": {},
   "outputs": [],
   "source": [
    "df['authors']=df['authors'].apply(lambda x: str(x).split(','))\n",
    "df['tags']=df['tags'].apply(lambda x:['No tag'] if str(x)=='NaN' else str(x).split(','))\n",
    "df['topics']=df['topics'].apply(lambda x: str(x).split(','))"
   ]
  },
  {
   "cell_type": "code",
   "execution_count": null,
   "id": "9ae45c3c",
   "metadata": {},
   "outputs": [],
   "source": [
    "df['content']=df['content'].fillna(0)\n",
    "df=df[df['content']!=0]\n",
    "df=df.reset_index(drop=True)"
   ]
  },
  {
   "cell_type": "markdown",
   "id": "e11f51d7",
   "metadata": {},
   "source": [
    "## Build KNN model based on the content of articles"
   ]
  },
  {
   "cell_type": "code",
   "execution_count": null,
   "id": "352c75a0",
   "metadata": {},
   "outputs": [],
   "source": [
    "import re\n",
    "import nltk\n",
    "from nltk.corpus import stopwords"
   ]
  },
  {
   "cell_type": "code",
   "execution_count": null,
   "id": "ae9cac28",
   "metadata": {},
   "outputs": [],
   "source": [
    "def to_words(content):\n",
    "    letters_only = re.sub(\"[^a-zA-Z]\", \" \", content) \n",
    "    words = letters_only.lower().split()                             \n",
    "    stops = set(stopwords.words(\"english\"))                  \n",
    "    meaningful_words = [w for w in words if not w in stops] \n",
    "    return( \" \".join( meaningful_words )) "
   ]
  },
  {
   "cell_type": "markdown",
   "id": "e72e7d91",
   "metadata": {},
   "source": [
    "**Convert the words to tfidf matrices.**"
   ]
  },
  {
   "cell_type": "code",
   "execution_count": null,
   "id": "284395a7",
   "metadata": {},
   "outputs": [],
   "source": [
    "clean_content=[]\n",
    "for each in df['content']:\n",
    "    clean_content.append(to_words(each))"
   ]
  },
  {
   "cell_type": "code",
   "execution_count": null,
   "id": "87302b83",
   "metadata": {},
   "outputs": [],
   "source": [
    "from sklearn.feature_extraction.text import TfidfVectorizer\n",
    "tfidf=TfidfVectorizer()\n",
    "features=tfidf.fit_transform(clean_content)"
   ]
  },
  {
   "cell_type": "markdown",
   "id": "baf9dd7b",
   "metadata": {},
   "source": [
    "**Implement K-Nearest-Neighbors model**"
   ]
  },
  {
   "cell_type": "code",
   "execution_count": null,
   "id": "04309f21",
   "metadata": {},
   "outputs": [],
   "source": [
    "from sklearn.neighbors import NearestNeighbors\n",
    "knn=NearestNeighbors(n_neighbors=30,algorithm='brute',metric='cosine')\n",
    "knn_fit=knn.fit(features)"
   ]
  },
  {
   "cell_type": "markdown",
   "id": "f1429cda",
   "metadata": {},
   "source": [
    "## Wrap everything up to a small, personalized recommending system"
   ]
  },
  {
   "cell_type": "code",
   "execution_count": null,
   "id": "984c3b80",
   "metadata": {},
   "outputs": [],
   "source": [
    "def recommend_to_user(author):\n",
    "    ## Find All Authors##\n",
    "    indexes=[]\n",
    "    for i in range(len(df)):\n",
    "        if author in df['authors'][i]:\n",
    "            indexes.append(i)\n",
    "    tmp_df=df.iloc[indexes,:]\n",
    "    author_content=[]\n",
    "    for each in tmp_df['content']:\n",
    "        author_content.append(to_words(each))\n",
    "    wordcloud = WordCloud(background_color='black',\n",
    "                      width=3000,\n",
    "                      height=2500\n",
    "                     ).generate(author_content[0])\n",
    "    ## Find Nearest Neighbors based on the latest aritcles the author published on the website\n",
    "    Neighbors = knn_fit.kneighbors(features[indexes[0]])[1].tolist()[0][2:]\n",
    "    ## Get rid of all articles that is authored/co-authored by the author and find the articles\n",
    "    All_article = df.iloc[Neighbors,:]\n",
    "    All_article = All_article.reset_index(drop=True)\n",
    "    kept_index = []\n",
    "    for j in range(len(All_article)):\n",
    "        if author in All_article['authors'][j]:\n",
    "            pass\n",
    "        else:\n",
    "            kept_index.append(j)\n",
    "    Final_frame = All_article.iloc[kept_index,:]\n",
    "    Final_frame=Final_frame.reset_index(drop=True)\n",
    "    Selected_articles = Final_frame.iloc[0:5,:]\n",
    "    \n",
    "    ## Print out result directly ##\n",
    "    print('==='*30)\n",
    "    print('The article(s) of '+author+' is always featured by the following words')\n",
    "    plt.figure(1,figsize=(8,8))\n",
    "    plt.imshow(wordcloud)\n",
    "    plt.axis('off')\n",
    "    plt.show()\n",
    "    print(\"===\"*30)\n",
    "    print('The top five articles recommended to '+author+' are:')\n",
    "    for k in range(len(Selected_articles)):\n",
    "        print(Selected_articles['title'][k]+', authored by '+Selected_articles['authors'][k][0]+' ,article can be visted at \\n '+Selected_articles['url'][k])"
   ]
  },
  {
   "cell_type": "markdown",
   "id": "57d219e7",
   "metadata": {},
   "source": [
    "## Run a test for the recommender"
   ]
  },
  {
   "cell_type": "code",
   "execution_count": null,
   "id": "09b4029d",
   "metadata": {},
   "outputs": [],
   "source": [
    "recommend_to_user('Bastiaan Janmaat')"
   ]
  },
  {
   "cell_type": "code",
   "execution_count": null,
   "id": "367e15a1",
   "metadata": {},
   "outputs": [],
   "source": [
    "recommend_to_user('Matthew Lynley')"
   ]
  },
  {
   "cell_type": "markdown",
   "id": "402a0c0f",
   "metadata": {},
   "source": [
    "## Conclusion"
   ]
  },
  {
   "cell_type": "markdown",
   "id": "b03416e2",
   "metadata": {},
   "source": [
    "**We can find that the recommendation system is somehow making sense, if you just quickly compare the word cloud and the titles of article recommended by KNN algorithm. However, the recommender is still restricted, in terms of the following aspects:**\n",
    "\n",
    "**1. For the user who has not published many articles on the website, the recommendation system may result in a disappointing outcome.**\n",
    "\n",
    "**2. For the cases of cold-start (new users), it is more wise to use classification technique to make recommendation. Considering we do not have many user-wide data, we have to skip that.**"
   ]
  }
 ],
 "metadata": {},
 "nbformat": 4,
 "nbformat_minor": 5
}
