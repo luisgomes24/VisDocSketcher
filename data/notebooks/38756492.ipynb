{
 "cells": [
  {
   "cell_type": "markdown",
   "id": "ab73fe3f",
   "metadata": {},
   "source": [
    "# CACHED: Context-Aware Chart Element Detection\n",
    "\n",
    "\n",
    "- Authors: Pengyu Yan, Saleem Ahmed, David Doermann\n",
    "- Paper: https://arxiv.org/abs/2305.04151\n",
    "- GitHub: https://github.com/pengyu965/ChartDete\n",
    "\n",
    "CACHED is an object detection model for charts. It gives bounding boxes for chat elements, title, tick labels, etc. Since I had hard times running this model, I share the compiled packages. This notebook is just about the systems (compile, install and run), and not about machine learning. I didn't train for this competition and all the data are unchanged from authors model."
   ]
  },
  {
   "cell_type": "markdown",
   "id": "9c6f202e",
   "metadata": {},
   "source": [
    "\n",
    "\n",
    "## LICENSE\n",
    "\n",
    "- CACHED, addict, terminaltables: MIT\n",
    "- MMDetection, mmcv: Apache 2.0\n",
    "- pycocotools: FreeBSD\n",
    "\n",
    "\n",
    "### NON-COMMERCIAL codes removed from mmcv (Version 4)\n",
    "\n",
    "Although most of the codes are MIT or Apache, `mvcc` in the dependence contains a little code from NVIDIA StyleGAN. I have removed these NIVIDIA non-commercial codes. Check src/mmcv with `git status` and `git diff`.\n",
    "\n",
    "https://github.com/open-mmlab/mmcv/blob/main/LICENSES.md\n",
    "\n",
    "-> https://github.com/open-mmlab/mmcv/blob/2.x/mmcv/ops/csrc/pytorch/cuda/fused_bias_leakyrelu_cuda.cu\n",
    "\n",
    "-> https://nvlabs.github.io/stylegan2/license.html\n",
    "\n",
    "```\n",
    "3.3 Use Limitation. The Work and any derivative works thereof only may be used or intended for use non-commercially. \n",
    "```\n",
    "\n",
    "Unless these codes are removed or replaced, all object detection models in MM detection including CACHED, which depends on mmcv, cannot be used commercially."
   ]
  },
  {
   "cell_type": "markdown",
   "id": "c9730c41",
   "metadata": {},
   "source": [
    "## Use compiled packages"
   ]
  },
  {
   "cell_type": "code",
   "execution_count": null,
   "id": "4a6eb585",
   "metadata": {},
   "outputs": [],
   "source": [
    "! pip install --no-index --find-links=file:///kaggle/input/cached \\\n",
    "  addict terminaltables pycocotools mmcv_full mmdet"
   ]
  },
  {
   "cell_type": "code",
   "execution_count": null,
   "id": "3ac26cb5",
   "metadata": {},
   "outputs": [],
   "source": [
    "import glob\n",
    "from mmdet.apis import init_detector, inference_detector  # depend heavily on mmcv\n",
    "from IPython.display import Image"
   ]
  },
  {
   "cell_type": "code",
   "execution_count": null,
   "id": "8cb6a720",
   "metadata": {},
   "outputs": [],
   "source": [
    "wdir = '/kaggle/input/cached/work_dirs'\n",
    "config_file = wdir + '/cascade_rcnn_swin-t_fpn_LGF_VCE_PCE_coco_focalsmoothloss/cascade_rcnn_swin-t_fpn_LGF_VCE_PCE_coco_focalsmoothloss.py'\n",
    "checkpoint_file = wdir + '/cascade_rcnn_swin-t_fpn_LGF_VCE_PCE_coco_focalsmoothloss/checkpoint.pth'\n",
    "\n",
    "model = init_detector(config_file, checkpoint_file, device='cuda')\n",
    "\n",
    "\n",
    "di = '/kaggle/input/benetech-making-graphs-accessible'\n",
    "filenames = glob.glob(di + '/train/images/*.jpg')\n",
    "filenames.sort()\n",
    "\n",
    "for filename in filenames:\n",
    "    result = inference_detector(model, filename)  # list[array]\n",
    "    break"
   ]
  },
  {
   "cell_type": "markdown",
   "id": "9224f877",
   "metadata": {},
   "source": [
    "`result` is a list of arrays for various classes (title, axis labels, ticke labels, ...), and the array has 5 elements for the bounding box coordinates and the confidence in [0, 1]."
   ]
  },
  {
   "cell_type": "code",
   "execution_count": null,
   "id": "fce053d1",
   "metadata": {},
   "outputs": [],
   "source": [
    "model.show_result(filename, result, out_file='./sample_result.jpg')\n",
    "\n",
    "Image('sample_result.jpg')"
   ]
  },
  {
   "cell_type": "markdown",
   "id": "93b29d17",
   "metadata": {},
   "source": [
    "##  Create wheel packages\n",
    "\n",
    "The model is build upon mmcv (https://github.com/open-mmlab/mmcv), and it takes very long time to compile from source. I created the wheel packages and put them in kaggle datasets.\n",
    "\n",
    "The following steps are not necessary once the wheel packages are created, but useful for different environment or CUDA versions.\n",
    "\n",
    "\n",
    "### mmcv\n",
    "\n",
    "https://github.com/open-mmlab/mmcv.git\n",
    "\n",
    "```\n",
    "! cp -r /kaggle/input/cached/src .\n",
    "%cd /kaggle/working/src/mmcv\n",
    "! CUDA_HOME=/usr/local/cuda-11.3 MMCV_WITH_OPS=1 pip wheel -w /kaggle/working .\n",
    "```\n",
    "\n",
    "Be patient and wait for 40 minutes with kaggle notebook. Important to specify the CUDA version same as PyTorch.\n",
    "\n",
    "### pycocotools\n",
    "\n",
    "Similarly, download pycocotools and run `pip wheel`.\n",
    "\n",
    "```\n",
    "! pip donwload pycocotools  # => tar.gz source code\n",
    "````\n",
    "\n",
    "This also contains CUDA codes and convinient to compile to whl file.\n",
    "\n",
    "### CACHED as mmdet\n",
    "\n",
    "```\n",
    "git clone https://github.com/pengyu965/ChartDete\n",
    "```\n",
    "\n",
    "This become the mmdet wheel package.\n"
   ]
  },
  {
   "cell_type": "code",
   "execution_count": null,
   "id": "280d293b",
   "metadata": {},
   "outputs": [],
   "source": [
    "import torch\n",
    "torch.version.cuda"
   ]
  }
 ],
 "metadata": {},
 "nbformat": 4,
 "nbformat_minor": 5
}
