{
 "cells": [
  {
   "cell_type": "code",
   "execution_count": null,
   "id": "a5973006",
   "metadata": {},
   "outputs": [],
   "source": [
    "import os\n",
    "from os import listdir\n",
    "import pandas as pd\n",
    "import numpy as np\n",
    "import glob\n",
    "import tqdm\n",
    "from typing import Dict\n",
    "import matplotlib.pyplot as plt\n",
    "%matplotlib inline\n",
    "\n",
    "import seaborn as sns\n",
    "sns.set(style=\"whitegrid\")\n",
    "import cv2\n",
    "from colorama import Fore, Back, Style\n",
    "!pip install chart_studio\n",
    "import plotly.express as px\n",
    "import chart_studio.plotly as py\n",
    "import plotly.graph_objs as go\n",
    "from plotly.offline import iplot\n",
    "import cufflinks\n",
    "cufflinks.go_offline()\n",
    "cufflinks.set_config_file(world_readable=True, theme='pearl')\n",
    "import warnings\n",
    "warnings.filterwarnings('ignore')\n",
    "plt.style.use('fivethirtyeight')\n",
    "plt.show()"
   ]
  },
  {
   "cell_type": "code",
   "execution_count": null,
   "id": "a3b77710",
   "metadata": {},
   "outputs": [],
   "source": [
    "list(os.listdir(\"../input/handwriting-recognition\"))"
   ]
  },
  {
   "cell_type": "code",
   "execution_count": null,
   "id": "063e6d74",
   "metadata": {},
   "outputs": [],
   "source": [
    "IMAGE_PATH = \"../input/handwriting-recognition\"\n",
    "\n",
    "train_df = pd.read_csv('../input/handwriting-recognition/written_name_train_v2.csv')\n",
    "val_df = pd.read_csv('../input/handwriting-recognition/written_name_validation_v2.csv')\n",
    "test_df = pd.read_csv('../input/handwriting-recognition/written_name_test_v2.csv')\n",
    "\n",
    "print(Fore.YELLOW + 'Training data shape: ',Style.RESET_ALL,train_df.shape)\n",
    "print(Fore.YELLOW + 'Validation data shape: ',Style.RESET_ALL,val_df.shape)\n",
    "train_df.head(5)"
   ]
  },
  {
   "cell_type": "code",
   "execution_count": null,
   "id": "6dbaaaf4",
   "metadata": {},
   "outputs": [],
   "source": [
    "train_df.groupby(['IDENTITY']).count()['FILENAME'].to_frame()"
   ]
  },
  {
   "cell_type": "code",
   "execution_count": null,
   "id": "76ea5170",
   "metadata": {},
   "outputs": [],
   "source": [
    "print(Fore.YELLOW + 'Train Set !!',Style.RESET_ALL)\n",
    "print(train_df.info())\n",
    "print('-------------')\n",
    "print(Fore.YELLOW + 'Validation Set !!',Style.RESET_ALL)\n",
    "print(val_df.info())\n",
    "print('-------------')\n",
    "print(Fore.BLUE + 'Test Set !!',Style.RESET_ALL)\n",
    "print(test_df.info())"
   ]
  },
  {
   "cell_type": "code",
   "execution_count": null,
   "id": "9c892b81",
   "metadata": {},
   "outputs": [],
   "source": [
    "train_df.isna().sum()"
   ]
  },
  {
   "cell_type": "code",
   "execution_count": null,
   "id": "3c9e793a",
   "metadata": {},
   "outputs": [],
   "source": [
    "val_df.isna().sum()"
   ]
  },
  {
   "cell_type": "code",
   "execution_count": null,
   "id": "1b2bff9b",
   "metadata": {},
   "outputs": [],
   "source": [
    "test_df.isna().sum()"
   ]
  },
  {
   "cell_type": "code",
   "execution_count": null,
   "id": "eb496d24",
   "metadata": {},
   "outputs": [],
   "source": [
    "columns = train_df.keys()\n",
    "columns = list(columns)\n",
    "print(columns)"
   ]
  },
  {
   "cell_type": "code",
   "execution_count": null,
   "id": "13005f2c",
   "metadata": {},
   "outputs": [],
   "source": [
    "train_df['IDENTITY'].value_counts()"
   ]
  },
  {
   "cell_type": "code",
   "execution_count": null,
   "id": "05fed754",
   "metadata": {},
   "outputs": [],
   "source": [
    "train_df['IDENTITY'].iplot(kind='hist',xTitle='NAME',linecolor='black',opacity=0.8,color='#FB8072',bargap=0.5,gridcolor='white',title='Distibution of names in training set')"
   ]
  },
  {
   "cell_type": "code",
   "execution_count": null,
   "id": "ed848fca",
   "metadata": {},
   "outputs": [],
   "source": [
    "def show_image(image,file):\n",
    "    file_size = os.path.getsize(file)\n",
    "    print(Fore.BLUE + \"Image size.......:\",Style.RESET_ALL,\" {rows:d} x {cols:d}, {size:d} bytes\".format(\n",
    "            rows=image.shape[0], cols=image.shape[1], size=file_size))\n",
    "    plt.figure(figsize=(20, 40))\n",
    "    plt.imshow(image, cmap='gray')\n",
    "    plt.show()\n",
    "for file_path in glob.glob('../input/handwriting-recognition/train_v2/train/*.jpg'):\n",
    "    image = cv2.imread(file_path)\n",
    "    image = cv2.cvtColor(image, cv2.COLOR_BGR2RGB)\n",
    "    show_image(image,file_path)\n",
    "    break "
   ]
  },
  {
   "cell_type": "code",
   "execution_count": null,
   "id": "77a48acd",
   "metadata": {},
   "outputs": [],
   "source": [
    "image = cv2.imread('../input/handwriting-recognition/train_v2/train/TRAIN_00001.jpg')\n",
    "image = cv2.cvtColor(image,cv2.COLOR_BGR2RGB)\n",
    "plt.figure(figsize=(20, 40))\n",
    "plt.imshow(image, cmap='jet')"
   ]
  },
  {
   "cell_type": "code",
   "execution_count": null,
   "id": "9dbc65b5",
   "metadata": {},
   "outputs": [],
   "source": [
    "import pandas_profiling as pdp"
   ]
  },
  {
   "cell_type": "code",
   "execution_count": null,
   "id": "fdb3e064",
   "metadata": {},
   "outputs": [],
   "source": [
    "profile_train_df = pdp.ProfileReport(train_df)"
   ]
  },
  {
   "cell_type": "code",
   "execution_count": null,
   "id": "3725788f",
   "metadata": {},
   "outputs": [],
   "source": [
    "profile_train_df"
   ]
  },
  {
   "cell_type": "code",
   "execution_count": null,
   "id": "930fa9ae",
   "metadata": {},
   "outputs": [],
   "source": [
    "profile_test_df = pdp.ProfileReport(test_df)\n",
    "profile_val_df = pdp.ProfileReport(val_df)"
   ]
  },
  {
   "cell_type": "code",
   "execution_count": null,
   "id": "02028adb",
   "metadata": {},
   "outputs": [],
   "source": [
    "profile_test_df"
   ]
  },
  {
   "cell_type": "code",
   "execution_count": null,
   "id": "d75be1f9",
   "metadata": {},
   "outputs": [],
   "source": [
    "profile_val_df"
   ]
  }
 ],
 "metadata": {},
 "nbformat": 4,
 "nbformat_minor": 5
}
