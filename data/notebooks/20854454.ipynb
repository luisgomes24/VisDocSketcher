{
 "cells": [
  {
   "cell_type": "markdown",
   "id": "f84ede61",
   "metadata": {},
   "source": [
    "![image](http://www.motortrainingschool.co.in/images/course-09.jpg)"
   ]
  },
  {
   "cell_type": "markdown",
   "id": "2d40c4a4",
   "metadata": {},
   "source": [
    "<font size=\"+3\" color='#0000FF'><b> Problem Statement</b></font>"
   ]
  },
  {
   "cell_type": "markdown",
   "id": "e8eef97a",
   "metadata": {},
   "source": [
    "Our client is an Insurance company that has provided Health Insurance to its customers now they need your help in building a model to predict whether the policyholders (customers) from past year will also be interested in Vehicle Insurance provided by the company.\n",
    "\n",
    "An insurance policy is an arrangement by which a company undertakes to provide a guarantee of compensation for specified loss, damage, illness, or death in return for the payment of a specified premium. A premium is a sum of money that the customer needs to pay regularly to an insurance company for this guarantee.\n",
    "\n",
    "For example, you may pay a premium of Rs. 5000 each year for a health insurance cover of Rs. 200,000/- so that if, God forbid, you fall ill and need to be hospitalised in that year, the insurance provider company will bear the cost of hospitalisation etc. for upto Rs. 200,000. Now if you are wondering how can company bear such high hospitalisation cost when it charges a premium of only Rs. 5000/-, that is where the concept of probabilities comes in picture. For example, like you, there may be 100 customers who would be paying a premium of Rs. 5000 every year, but only a few of them (say 2-3) would get hospitalised that year and not everyone. This way everyone shares the risk of everyone else.\n",
    "\n",
    "Just like medical insurance, there is vehicle insurance where every year customer needs to pay a premium of certain amount to insurance provider company so that in case of unfortunate accident by the vehicle, the insurance provider company will provide a compensation (called ‘sum assured’) to the customer."
   ]
  },
  {
   "cell_type": "markdown",
   "id": "a13e2fc6",
   "metadata": {},
   "source": [
    "<font size=\"+3\" color=\"#513B1C\"><b>Bussiness Goal</b></font>"
   ]
  },
  {
   "cell_type": "markdown",
   "id": "205854f6",
   "metadata": {},
   "source": [
    "Building a model to predict whether a customer would be interested in Vehicle Insurance is extremely helpful for the company because it can then accordingly plan its communication strategy to reach out to those customers and optimise its business model and revenue.\n",
    "\n",
    "Now, in order to predict, whether the customer would be interested in Vehicle insurance, you have information about demographics (gender, age, region code type), Vehicles (Vehicle Age, Damage), Policy (Premium, sourcing channel) etc."
   ]
  },
  {
   "cell_type": "markdown",
   "id": "5968b019",
   "metadata": {},
   "source": [
    "<font size=\"+3\" color=\"513B1C\"><b>What this Notebook Will Cover??</b></font>"
   ]
  },
  {
   "cell_type": "markdown",
   "id": "b1502dbc",
   "metadata": {},
   "source": [
    "> <font size=\"+1\" color=\"brown\"><b>Exploratory data analysis</b></font>\n",
    "\n",
    "> <font size=\"+1\" color=\"brown\"><b>Modeling and evaluation</b></font>"
   ]
  },
  {
   "cell_type": "markdown",
   "id": "c533923b",
   "metadata": {},
   "source": [
    "<font size=\"+2\" color=chocolate ><b>Please Upvote my kernel if you like my work.</b></font>"
   ]
  },
  {
   "cell_type": "markdown",
   "id": "60013398",
   "metadata": {},
   "source": [
    "**Importing Libraries**"
   ]
  },
  {
   "cell_type": "code",
   "execution_count": null,
   "id": "a31237f3",
   "metadata": {},
   "outputs": [],
   "source": [
    "import pandas as pd\n",
    "import numpy as np\n",
    "import seaborn as sns\n",
    "import matplotlib.pyplot as plt\n",
    "\n",
    "from sklearn.ensemble import RandomForestClassifier\n",
    "from sklearn.model_selection import RandomizedSearchCV\n",
    "import xgboost as xgb\n",
    "from sklearn.model_selection import train_test_split, RandomizedSearchCV, StratifiedKFold, KFold, GridSearchCV\n",
    "from sklearn.metrics import f1_score, roc_auc_score,accuracy_score,confusion_matrix, precision_recall_curve, auc, roc_curve, recall_score, classification_report "
   ]
  },
  {
   "cell_type": "markdown",
   "id": "88d9336c",
   "metadata": {},
   "source": [
    "> **Reading dataset**"
   ]
  },
  {
   "cell_type": "code",
   "execution_count": null,
   "id": "c66f65b5",
   "metadata": {},
   "outputs": [],
   "source": [
    "train=pd.read_csv('../input/health-insurance-cross-sell-prediction/train.csv')\n",
    "train.head()"
   ]
  },
  {
   "cell_type": "markdown",
   "id": "b67dae6c",
   "metadata": {},
   "source": [
    "> **Copying train data into variable through which we can perform operations**"
   ]
  },
  {
   "cell_type": "code",
   "execution_count": null,
   "id": "7439a10d",
   "metadata": {},
   "outputs": [],
   "source": [
    "df=train.copy()"
   ]
  },
  {
   "cell_type": "code",
   "execution_count": null,
   "id": "c1049ceb",
   "metadata": {},
   "outputs": [],
   "source": [
    "df.shape"
   ]
  },
  {
   "cell_type": "markdown",
   "id": "8f3ec2f7",
   "metadata": {},
   "source": [
    "> **Checking NULL values**"
   ]
  },
  {
   "cell_type": "code",
   "execution_count": null,
   "id": "fc6b55ac",
   "metadata": {},
   "outputs": [],
   "source": [
    "df.isnull().sum()"
   ]
  },
  {
   "cell_type": "code",
   "execution_count": null,
   "id": "cf2e803c",
   "metadata": {},
   "outputs": [],
   "source": [
    "df.describe()"
   ]
  },
  {
   "cell_type": "code",
   "execution_count": null,
   "id": "610d2753",
   "metadata": {},
   "outputs": [],
   "source": [
    "df.info()"
   ]
  },
  {
   "cell_type": "markdown",
   "id": "860dce17",
   "metadata": {},
   "source": [
    "> **Number of columns and number of unique values present in it**"
   ]
  },
  {
   "cell_type": "code",
   "execution_count": null,
   "id": "c2a4d79a",
   "metadata": {},
   "outputs": [],
   "source": [
    "print('columns and number of unique values')\n",
    "dict=[]\n",
    "for i in df.columns:\n",
    "    print(f'{i} --> {df[i].nunique()}')"
   ]
  },
  {
   "cell_type": "markdown",
   "id": "3c41b82d",
   "metadata": {},
   "source": [
    "> **Separating the Categorical data**"
   ]
  },
  {
   "cell_type": "code",
   "execution_count": null,
   "id": "39585592",
   "metadata": {},
   "outputs": [],
   "source": [
    "categorical_columns = df.select_dtypes(include=['object']).columns\n",
    "categorical_columns"
   ]
  },
  {
   "cell_type": "markdown",
   "id": "d428a971",
   "metadata": {},
   "source": [
    "<font size=\"+2\" color=\"blue\"><b>Exploratory Data Analysis</b></font>"
   ]
  },
  {
   "cell_type": "markdown",
   "id": "5a19160f",
   "metadata": {},
   "source": [
    "> **Count of Gender with respect to the target variable**\n",
    "\n",
    "> **Response for MALE is slightly greater than of female**"
   ]
  },
  {
   "cell_type": "code",
   "execution_count": null,
   "id": "daf91851",
   "metadata": {},
   "outputs": [],
   "source": [
    "sns.countplot(data=df,x='Gender',hue='Response')"
   ]
  },
  {
   "cell_type": "markdown",
   "id": "fcea79ca",
   "metadata": {},
   "source": [
    "> **Count of Gender with respect to the Previously injured**\n",
    "\n",
    "> **Response for MALE and Female are same**"
   ]
  },
  {
   "cell_type": "code",
   "execution_count": null,
   "id": "4c7acc17",
   "metadata": {},
   "outputs": [],
   "source": [
    "sns.countplot(data=df,x='Gender',hue='Previously_Insured')"
   ]
  },
  {
   "cell_type": "markdown",
   "id": "8db1ce8f",
   "metadata": {},
   "source": [
    "> **AGE vs PREVIOUSLY INJURED**"
   ]
  },
  {
   "cell_type": "code",
   "execution_count": null,
   "id": "3b38ccf9",
   "metadata": {},
   "outputs": [],
   "source": [
    "sns.relplot(data=df,x='Age',y='Previously_Insured',kind='line')"
   ]
  },
  {
   "cell_type": "markdown",
   "id": "876a5537",
   "metadata": {},
   "source": [
    "> **VEHICLE AGE vs VEHICLE DAMAGE**"
   ]
  },
  {
   "cell_type": "code",
   "execution_count": null,
   "id": "b8598016",
   "metadata": {},
   "outputs": [],
   "source": [
    "sns.countplot(data=df,x='Vehicle_Age',hue='Vehicle_Damage')"
   ]
  },
  {
   "cell_type": "markdown",
   "id": "cff5f7bd",
   "metadata": {},
   "source": [
    "> **AGE DISTRIBUTION**"
   ]
  },
  {
   "cell_type": "code",
   "execution_count": null,
   "id": "67cd58e9",
   "metadata": {},
   "outputs": [],
   "source": [
    "sns.distplot(df['Age'])"
   ]
  },
  {
   "cell_type": "markdown",
   "id": "7cc73427",
   "metadata": {},
   "source": [
    "> **GENDER vs DRIVING LICENSE**"
   ]
  },
  {
   "cell_type": "code",
   "execution_count": null,
   "id": "640676b3",
   "metadata": {},
   "outputs": [],
   "source": [
    "df=train.groupby(['Gender'])['Driving_License'].count().to_frame().reset_index()\n",
    "df"
   ]
  },
  {
   "cell_type": "code",
   "execution_count": null,
   "id": "0e7d3cc1",
   "metadata": {},
   "outputs": [],
   "source": [
    "df=df.groupby(['Gender'])['Driving_License'].count().to_frame().reset_index()\n",
    "sns.catplot(x=\"Gender\", y=\"Driving_License\",\n",
    "                data=df, kind=\"bar\");"
   ]
  },
  {
   "cell_type": "markdown",
   "id": "cf001247",
   "metadata": {},
   "source": [
    "> **COUNT FOR VEHICLE AGE vs RESPONSE**"
   ]
  },
  {
   "cell_type": "code",
   "execution_count": null,
   "id": "727cc68d",
   "metadata": {},
   "outputs": [],
   "source": [
    "df=train.groupby(['Vehicle_Age','Response'])['id'].count().to_frame().rename(columns={'id':'count'}).reset_index()\n",
    "df"
   ]
  },
  {
   "cell_type": "code",
   "execution_count": null,
   "id": "5539a703",
   "metadata": {},
   "outputs": [],
   "source": [
    "g = sns.catplot(x=\"Vehicle_Age\", y=\"count\",col=\"Response\",\n",
    "                data=df, kind=\"bar\",\n",
    "                height=4, aspect=.7);"
   ]
  },
  {
   "cell_type": "markdown",
   "id": "d683cfc9",
   "metadata": {},
   "source": [
    "> **COUNT FOR VEHICLE DAMAGE vs RESPONSE**"
   ]
  },
  {
   "cell_type": "code",
   "execution_count": null,
   "id": "fb35af0f",
   "metadata": {},
   "outputs": [],
   "source": [
    "df=train.groupby(['Vehicle_Damage','Response'])['id'].count().to_frame().rename(columns={'id':'count'}).reset_index()\n",
    "df"
   ]
  },
  {
   "cell_type": "code",
   "execution_count": null,
   "id": "c4ac8b19",
   "metadata": {},
   "outputs": [],
   "source": [
    "g = sns.catplot(x=\"Vehicle_Damage\", y=\"count\",col=\"Response\",\n",
    "                data=df, kind=\"bar\",aspect=0.7)"
   ]
  },
  {
   "cell_type": "markdown",
   "id": "2b5eb60e",
   "metadata": {},
   "source": [
    "> **ANNUAL PREMIUM DISTRIBUTION**"
   ]
  },
  {
   "cell_type": "code",
   "execution_count": null,
   "id": "9c248df8",
   "metadata": {},
   "outputs": [],
   "source": [
    "sns.distplot(train['Annual_Premium'])"
   ]
  },
  {
   "cell_type": "markdown",
   "id": "6ac5aadd",
   "metadata": {},
   "source": [
    "> **VINTAGE**"
   ]
  },
  {
   "cell_type": "code",
   "execution_count": null,
   "id": "362e68e0",
   "metadata": {},
   "outputs": [],
   "source": [
    "sns.distplot(train['Vintage'])"
   ]
  },
  {
   "cell_type": "markdown",
   "id": "067fd37f",
   "metadata": {},
   "source": [
    "<font size=\"+2\" color=\"blue\"><b>Data Preprocessing</b></font>"
   ]
  },
  {
   "cell_type": "markdown",
   "id": "d2ae20d5",
   "metadata": {},
   "source": [
    ">**Categorical data into numeric data** "
   ]
  },
  {
   "cell_type": "code",
   "execution_count": null,
   "id": "51d7521b",
   "metadata": {},
   "outputs": [],
   "source": [
    "train['Gender']=train['Gender'].replace({'Male':1,'Female':0})\n",
    "train.head()"
   ]
  },
  {
   "cell_type": "code",
   "execution_count": null,
   "id": "49a7bc60",
   "metadata": {},
   "outputs": [],
   "source": [
    "train['Vehicle_Age'].unique()"
   ]
  },
  {
   "cell_type": "code",
   "execution_count": null,
   "id": "2dd7459c",
   "metadata": {},
   "outputs": [],
   "source": [
    "train['Vehicle_Damage'].replace({'Yes':1,'No':0},inplace=True)\n",
    "train['Vehicle_Age']=train['Vehicle_Age'].replace({'< 1 Year':1,'1-2 Year':2, '> 2 Years':3})\n",
    "train.head()"
   ]
  },
  {
   "cell_type": "markdown",
   "id": "66560e28",
   "metadata": {},
   "source": [
    "**Hence data has been preprocessed we can perform some operations**"
   ]
  },
  {
   "cell_type": "code",
   "execution_count": null,
   "id": "af09c60b",
   "metadata": {},
   "outputs": [],
   "source": [
    "plt.figure(figsize=(15,10))\n",
    "sns.heatmap(train.corr(),annot=True)"
   ]
  },
  {
   "cell_type": "markdown",
   "id": "b5b66262",
   "metadata": {},
   "source": [
    "> **Highly correlated columns wrt to target columns which can give us better accuracy**"
   ]
  },
  {
   "cell_type": "code",
   "execution_count": null,
   "id": "5b8b8a2d",
   "metadata": {},
   "outputs": [],
   "source": [
    "hig_corr = train.corr()\n",
    "hig_corr_features = hig_corr.index[abs(hig_corr[\"Response\"]) >= 0.2]\n",
    "hig_corr_features"
   ]
  },
  {
   "cell_type": "markdown",
   "id": "dfbac33e",
   "metadata": {},
   "source": [
    "> **Separating dependent data and independent data**"
   ]
  },
  {
   "cell_type": "code",
   "execution_count": null,
   "id": "3e7346af",
   "metadata": {},
   "outputs": [],
   "source": [
    "X=train.drop(['Response'],axis=1)\n",
    "print(X.shape)\n",
    "y=train['Response']\n",
    "print(y.shape)"
   ]
  },
  {
   "cell_type": "markdown",
   "id": "eb63ec58",
   "metadata": {},
   "source": [
    "**Separating train data into train and test(on 20% of the training dataset)**"
   ]
  },
  {
   "cell_type": "code",
   "execution_count": null,
   "id": "56e12787",
   "metadata": {},
   "outputs": [],
   "source": [
    "X_train,X_test,y_train,y_test = train_test_split(X,y,test_size=0.2,random_state=0)\n",
    "print(X_train.shape)\n",
    "print(X_test.shape)"
   ]
  },
  {
   "cell_type": "markdown",
   "id": "fd626dd6",
   "metadata": {},
   "source": [
    "<font size=\"+3\" color=\"blue\"><b>Modeling</b></font>"
   ]
  },
  {
   "cell_type": "markdown",
   "id": "fb7741d9",
   "metadata": {},
   "source": [
    "**We gonna use RandomForestclassifier and XGBoost**"
   ]
  },
  {
   "cell_type": "code",
   "execution_count": null,
   "id": "70696273",
   "metadata": {},
   "outputs": [],
   "source": [
    "model=RandomForestClassifier()\n",
    "model.fit(X_train,y_train)\n",
    "from sklearn.metrics import mean_absolute_error,mean_squared_error,confusion_matrix,r2_score,accuracy_score\n",
    "y_pred=model.predict(X_test)\n",
    "print(\"Classification Report is:\\n\",classification_report(y_test,y_pred))\n",
    "print(\"Confusion Matrix:\\n\",confusion_matrix(y_test,y_pred))\n",
    "print(\"Training Score:\\n\",model.score(X_test,y_test)*100)\n",
    "print(\"Mean Squared Error:\\n\",mean_squared_error(y_test,y_pred))\n",
    "print(\"R2 score is:\\n\",r2_score(y_test,y_pred))\n",
    "print(model.get_params())\n",
    "print(accuracy_score(y_test,y_pred)*100)"
   ]
  },
  {
   "cell_type": "markdown",
   "id": "8d68896b",
   "metadata": {},
   "source": [
    "<font color=\"green\"><b>Random Forest Classifier score is : 87.30</b></font>"
   ]
  },
  {
   "cell_type": "code",
   "execution_count": null,
   "id": "5f083f68",
   "metadata": {},
   "outputs": [],
   "source": [
    "y_score = model.predict_proba(X_test)[:,1]\n",
    "fpr, tpr, _ = roc_curve(y_test, y_score)\n",
    "\n",
    "plt.title('Random Forest ROC curve: CC Fraud')\n",
    "plt.xlabel('FPR (Precision)')\n",
    "plt.ylabel('TPR (Recall)')\n",
    "\n",
    "plt.plot(fpr,tpr)\n",
    "plt.plot((0,1), ls='dashed',color='black')\n",
    "plt.show()\n",
    "print ('Area under curve (AUC): ', auc(fpr,tpr))"
   ]
  },
  {
   "cell_type": "markdown",
   "id": "05b1ad84",
   "metadata": {},
   "source": [
    "<font color=\"green\"><b>Random Forest Classifier AUC is : 84.20</b></font>"
   ]
  },
  {
   "cell_type": "markdown",
   "id": "c3d1b8cc",
   "metadata": {},
   "source": [
    "**XGBOOST**"
   ]
  },
  {
   "cell_type": "code",
   "execution_count": null,
   "id": "3e1d6f09",
   "metadata": {},
   "outputs": [],
   "source": [
    "from xgboost import XGBClassifier\n",
    "model1=XGBClassifier()\n",
    "model1.fit(X_train,y_train)\n",
    "y_pred=model1.predict(X_test)\n",
    "print(\"Classification Report is:\\n\",classification_report(y_test,y_pred))\n",
    "print(\"Confusion Matrix:\\n\",confusion_matrix(y_test,y_pred))\n",
    "print(\"Training Score:\\n\",model1.score(X_test,y_test)*100)\n",
    "print(\"Mean Squared Error:\\n\",mean_squared_error(y_test,y_pred))\n",
    "print(\"R2 score is:\\n\",r2_score(y_test,y_pred))\n",
    "print(model1.get_params())\n",
    "print('accuracy score',accuracy_score(y_test,y_pred)*100)"
   ]
  },
  {
   "cell_type": "markdown",
   "id": "16e47f55",
   "metadata": {},
   "source": [
    "<font color=\"green\"><b>XGboost classifier accuracy score is : 88 </b></font>"
   ]
  },
  {
   "cell_type": "code",
   "execution_count": null,
   "id": "9b851542",
   "metadata": {},
   "outputs": [],
   "source": [
    "y_score = model1.predict_proba(X_test)[:,1]\n",
    "fpr, tpr, _ = roc_curve(y_test, y_score)\n",
    "\n",
    "plt.title('Random Forest ROC curve: CC Fraud')\n",
    "plt.xlabel('FPR (Precision)')\n",
    "plt.ylabel('TPR (Recall)')\n",
    "\n",
    "plt.plot(fpr,tpr)\n",
    "plt.plot((0,1), ls='dashed',color='black')\n",
    "plt.show()\n",
    "print ('Area under curve (AUC): ', auc(fpr,tpr))"
   ]
  },
  {
   "cell_type": "markdown",
   "id": "40e7c72b",
   "metadata": {},
   "source": [
    "<font color=\"green\"><b>XGboost classifier AUC is : 85.63 </b></font>"
   ]
  },
  {
   "cell_type": "markdown",
   "id": "f714e2b6",
   "metadata": {},
   "source": [
    "**Hense doing the same processing on test data will give us the same accuracy**"
   ]
  },
  {
   "cell_type": "markdown",
   "id": "864cdb80",
   "metadata": {},
   "source": [
    "<font size=\"+1\" color='blue'><b> I hope you enjoyed this kernel , Please don't forget to appreciate me with an Upvote.</b></font>"
   ]
  },
  {
   "cell_type": "code",
   "execution_count": null,
   "id": "c2bb7cf5",
   "metadata": {},
   "outputs": [],
   "source": [
    "nan"
   ]
  }
 ],
 "metadata": {},
 "nbformat": 4,
 "nbformat_minor": 5
}
