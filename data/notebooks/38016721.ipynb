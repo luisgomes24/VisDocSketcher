{
 "cells": [
  {
   "cell_type": "code",
   "execution_count": null,
   "id": "3a1acda2",
   "metadata": {},
   "outputs": [],
   "source": [
    "import numpy as np\n",
    "import pandas as pd\n",
    "import random as rnd\n",
    "import seaborn as sns\n",
    "import matplotlib.pyplot as plt\n",
    "%matplotlib inline\n",
    "# models of machine learing\n",
    "from sklearn.model_selection import train_test_split\n",
    "from sklearn.linear_model import LogisticRegression \n",
    "from sklearn.metrics import classification_report"
   ]
  },
  {
   "cell_type": "code",
   "execution_count": null,
   "id": "d1f2a28d",
   "metadata": {},
   "outputs": [],
   "source": [
    "data_train = pd.read_csv('D:\\\\projects ML\\\\titanic\\\\train.csv')"
   ]
  },
  {
   "cell_type": "code",
   "execution_count": null,
   "id": "4da5e31a",
   "metadata": {},
   "outputs": [],
   "source": [
    "data_train.head()"
   ]
  },
  {
   "cell_type": "code",
   "execution_count": null,
   "id": "398014de",
   "metadata": {},
   "outputs": [],
   "source": [
    "data_train.tail()"
   ]
  },
  {
   "cell_type": "code",
   "execution_count": null,
   "id": "6fa95e68",
   "metadata": {},
   "outputs": [],
   "source": [
    "data_train.shape"
   ]
  },
  {
   "cell_type": "code",
   "execution_count": null,
   "id": "546ea16e",
   "metadata": {},
   "outputs": [],
   "source": [
    "data_train.info()\n",
    "data_test.info()"
   ]
  },
  {
   "cell_type": "code",
   "execution_count": null,
   "id": "84580547",
   "metadata": {},
   "outputs": [],
   "source": [
    "data_train.isnull().sum()"
   ]
  },
  {
   "cell_type": "code",
   "execution_count": null,
   "id": "07857b0d",
   "metadata": {},
   "outputs": [],
   "source": [
    "sns.heatmap(data_train.isnull())"
   ]
  },
  {
   "cell_type": "code",
   "execution_count": null,
   "id": "b5cc6b03",
   "metadata": {},
   "outputs": [],
   "source": [
    "data_train = data_train.drop(columns='Cabin', axis=1)"
   ]
  },
  {
   "cell_type": "code",
   "execution_count": null,
   "id": "36ffb1d4",
   "metadata": {},
   "outputs": [],
   "source": [
    "data_train.head()"
   ]
  },
  {
   "cell_type": "code",
   "execution_count": null,
   "id": "59de52aa",
   "metadata": {},
   "outputs": [],
   "source": [
    "data_train['Age'].fillna(data_train['Age'].mean(), inplace=True)"
   ]
  },
  {
   "cell_type": "code",
   "execution_count": null,
   "id": "cf149793",
   "metadata": {},
   "outputs": [],
   "source": [
    "print(data_train['Embarked'].mode())"
   ]
  },
  {
   "cell_type": "code",
   "execution_count": null,
   "id": "8e669f17",
   "metadata": {},
   "outputs": [],
   "source": [
    "emb = pd.get_dummies(data_train[\"Embarked\"],drop_first=True)\n",
    "emb"
   ]
  },
  {
   "cell_type": "code",
   "execution_count": null,
   "id": "008ff867",
   "metadata": {},
   "outputs": [],
   "source": [
    "print(data_train['Embarked'].mode()[0])"
   ]
  },
  {
   "cell_type": "code",
   "execution_count": null,
   "id": "fc73ee9f",
   "metadata": {},
   "outputs": [],
   "source": [
    "data_train['Embarked'].fillna(data_train['Embarked'].mode()[0], inplace=True)"
   ]
  },
  {
   "cell_type": "code",
   "execution_count": null,
   "id": "5762463a",
   "metadata": {},
   "outputs": [],
   "source": [
    "data_train.isnull().sum()"
   ]
  },
  {
   "cell_type": "code",
   "execution_count": null,
   "id": "5705579d",
   "metadata": {},
   "outputs": [],
   "source": [
    "data_train.describe()"
   ]
  },
  {
   "cell_type": "code",
   "execution_count": null,
   "id": "f65ae47f",
   "metadata": {},
   "outputs": [],
   "source": [
    "data_train[['Sex','Survived']].groupby(['Sex'], as_index=False).mean().sort_values(by='Survived', ascending=False)"
   ]
  },
  {
   "cell_type": "code",
   "execution_count": null,
   "id": "d5f8bb3c",
   "metadata": {},
   "outputs": [],
   "source": [
    "data_train['Survived'].value_counts()"
   ]
  },
  {
   "cell_type": "code",
   "execution_count": null,
   "id": "600127d9",
   "metadata": {},
   "outputs": [],
   "source": [
    "sns.set()"
   ]
  },
  {
   "cell_type": "code",
   "execution_count": null,
   "id": "9cb7ac44",
   "metadata": {},
   "outputs": [],
   "source": [
    "sns.countplot('Survived', data=data_train)"
   ]
  },
  {
   "cell_type": "code",
   "execution_count": null,
   "id": "dac056d8",
   "metadata": {},
   "outputs": [],
   "source": [
    "data_train['Sex'].value_counts()"
   ]
  },
  {
   "cell_type": "code",
   "execution_count": null,
   "id": "b3943967",
   "metadata": {},
   "outputs": [],
   "source": [
    "sns.countplot('Sex', data=data_train)"
   ]
  },
  {
   "cell_type": "code",
   "execution_count": null,
   "id": "5c7a6fca",
   "metadata": {},
   "outputs": [],
   "source": [
    "sns.countplot('Sex',hue='Survived', data=data_train)"
   ]
  },
  {
   "cell_type": "code",
   "execution_count": null,
   "id": "e55d99c2",
   "metadata": {},
   "outputs": [],
   "source": [
    "data_train[['Pclass','Survived']].groupby(['Pclass'], as_index=False).mean().sort_values(by='Survived', ascending=False)"
   ]
  },
  {
   "cell_type": "code",
   "execution_count": null,
   "id": "34989f79",
   "metadata": {},
   "outputs": [],
   "source": [
    "data_train['Pclass'].value_counts()"
   ]
  },
  {
   "cell_type": "code",
   "execution_count": null,
   "id": "04df9793",
   "metadata": {},
   "outputs": [],
   "source": [
    "sns.countplot('Pclass', data=data_train)"
   ]
  },
  {
   "cell_type": "code",
   "execution_count": null,
   "id": "13678eff",
   "metadata": {},
   "outputs": [],
   "source": [
    "sns.countplot('Pclass',hue='Survived', data=data_train)"
   ]
  },
  {
   "cell_type": "code",
   "execution_count": null,
   "id": "f97b0947",
   "metadata": {},
   "outputs": [],
   "source": [
    "data_train[['Age','Survived']].groupby(['Age'], as_index=False).mean().sort_values(by='Survived', ascending=False)"
   ]
  },
  {
   "cell_type": "code",
   "execution_count": null,
   "id": "282a1742",
   "metadata": {},
   "outputs": [],
   "source": [
    "data_train['Age'].value_counts()"
   ]
  },
  {
   "cell_type": "code",
   "execution_count": null,
   "id": "85204521",
   "metadata": {},
   "outputs": [],
   "source": [
    "sns.countplot('Age', data=data_train)"
   ]
  },
  {
   "cell_type": "code",
   "execution_count": null,
   "id": "0305ee3b",
   "metadata": {},
   "outputs": [],
   "source": [
    "sns.countplot('Age',hue='Survived', data=data_train)"
   ]
  },
  {
   "cell_type": "code",
   "execution_count": null,
   "id": "6d636afe",
   "metadata": {},
   "outputs": [],
   "source": [
    "data_train[['Embarked','Survived']].groupby(['Embarked'], as_index=False).mean().sort_values(by='Survived', ascending=False)"
   ]
  },
  {
   "cell_type": "code",
   "execution_count": null,
   "id": "cde0115c",
   "metadata": {},
   "outputs": [],
   "source": [
    "data_train['Embarked'].value_counts()"
   ]
  },
  {
   "cell_type": "code",
   "execution_count": null,
   "id": "ff6b526e",
   "metadata": {},
   "outputs": [],
   "source": [
    "sns.countplot('Embarked', data=data_train)"
   ]
  },
  {
   "cell_type": "code",
   "execution_count": null,
   "id": "caa06fd6",
   "metadata": {},
   "outputs": [],
   "source": [
    "sns.countplot('Embarked',hue='Survived', data=data_train)"
   ]
  },
  {
   "cell_type": "code",
   "execution_count": null,
   "id": "6bb7ff3f",
   "metadata": {},
   "outputs": [],
   "source": [
    "data_train.replace({'Sex':{'male':0,'female':1}, 'Embarked':{'S':0,'C':1,'Q':2}}, inplace=True)"
   ]
  },
  {
   "cell_type": "code",
   "execution_count": null,
   "id": "46953906",
   "metadata": {},
   "outputs": [],
   "source": [
    "data_train.head()"
   ]
  },
  {
   "cell_type": "code",
   "execution_count": null,
   "id": "a8c9fb12",
   "metadata": {},
   "outputs": [],
   "source": [
    "emb = pd.get_dummies(data_train[\"Embarked\"],drop_first=True)\n",
    "emb"
   ]
  },
  {
   "cell_type": "code",
   "execution_count": null,
   "id": "85628563",
   "metadata": {},
   "outputs": [],
   "source": [
    "data_train.head()"
   ]
  },
  {
   "cell_type": "code",
   "execution_count": null,
   "id": "7256cb6c",
   "metadata": {},
   "outputs": [],
   "source": [
    "df=pd.concat([data_train,emb], axis=1)"
   ]
  },
  {
   "cell_type": "code",
   "execution_count": null,
   "id": "83278818",
   "metadata": {},
   "outputs": [],
   "source": [
    "data_train.head()"
   ]
  },
  {
   "cell_type": "code",
   "execution_count": null,
   "id": "5d461126",
   "metadata": {},
   "outputs": [],
   "source": [
    "data_train.drop(\"Embarked\",axis=1 , inplace=True)\n",
    "data_train"
   ]
  },
  {
   "cell_type": "code",
   "execution_count": null,
   "id": "d509e20b",
   "metadata": {},
   "outputs": [],
   "source": [
    "X = data_train.drop(columns=['PassengerId','Name','Ticket','Survived','Fare'], axis=1)\n",
    "# X = data_train['Pclass' , 'SibSp' , 'Parch',  'Gender','Q','S']\n",
    "X.head()"
   ]
  },
  {
   "cell_type": "code",
   "execution_count": null,
   "id": "4789f3f9",
   "metadata": {},
   "outputs": [],
   "source": [
    "y = data_train['Survived']\n",
    "y.head()"
   ]
  },
  {
   "cell_type": "code",
   "execution_count": null,
   "id": "eff53c53",
   "metadata": {},
   "outputs": [],
   "source": [
    "X_train, X_test, y_train, y_test = train_test_split(X,y, test_size=0.2, random_state=2)"
   ]
  },
  {
   "cell_type": "code",
   "execution_count": null,
   "id": "6848b611",
   "metadata": {},
   "outputs": [],
   "source": [
    "print(X.shape, X_train.shape, X_test.shape)"
   ]
  },
  {
   "cell_type": "code",
   "execution_count": null,
   "id": "b7fdc660",
   "metadata": {},
   "outputs": [],
   "source": [
    "#  model LogisticRegression\n",
    "LRmodel = LogisticRegression(max_iter=5000)\n",
    "LRmodel.fit(X_train,y_train)\n",
    "print(LRmodel.score(X_train,y_train)*100)\n",
    "print(LRmodel.score(X_test,y_test)*100)\n",
    "# print(LRmodel.max_iter)"
   ]
  },
  {
   "cell_type": "code",
   "execution_count": null,
   "id": "579444e2",
   "metadata": {},
   "outputs": [],
   "source": [
    "X_train_predict = LRmodel.predict(X_train)\n",
    "X_train_predict"
   ]
  },
  {
   "cell_type": "code",
   "execution_count": null,
   "id": "c90d8ef9",
   "metadata": {},
   "outputs": [],
   "source": [
    "from sklearn.ensemble import RandomForestClassifier"
   ]
  },
  {
   "cell_type": "code",
   "execution_count": null,
   "id": "875b36d5",
   "metadata": {},
   "outputs": [],
   "source": [
    "#  model RandomForestClassifier\n",
    "randommodel =RandomForestClassifier(n_estimators=1000)\n",
    "randommodel.fit(X_train,y_train)\n",
    "print(randommodel.score(X_train,y_train)*100)\n",
    "print(randommodel.score(X_test,y_test)*100)"
   ]
  },
  {
   "cell_type": "code",
   "execution_count": null,
   "id": "59b0298f",
   "metadata": {},
   "outputs": [],
   "source": [
    "X_train_predict = LRmodel.predict(X_train)\n",
    "X_train_predict"
   ]
  },
  {
   "cell_type": "code",
   "execution_count": null,
   "id": "f5b446fa",
   "metadata": {},
   "outputs": [],
   "source": [
    "nan"
   ]
  }
 ],
 "metadata": {},
 "nbformat": 4,
 "nbformat_minor": 5
}
