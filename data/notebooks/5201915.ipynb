{
 "cells": [
  {
   "cell_type": "code",
   "execution_count": null,
   "id": "af168954",
   "metadata": {},
   "outputs": [],
   "source": [
    "###\n",
    "# This Python 3 environment comes with many helpful analytics libraries installed\n",
    "# It is defined by the kaggle/python docker image: https://github.com/kaggle/docker-python\n",
    "# For example, here's several helpful packages to load in \n",
    "\n",
    "import numpy as np # linear algebra\n",
    "import pandas as pd # data processing, CSV file I/O (e.g. pd.read_csv)\n",
    "\n",
    "# Input data files are available in the \"../input/\" directory.\n",
    "# For example, running this (by clicking run or pressing Shift+Enter) will list the files in the input directory\n",
    "\n",
    "import os\n",
    "print(os.listdir(\"../input\"))\n",
    "# Any results you write to the current directory are saved as output.\n",
    "\n",
    "from sklearn.model_selection import train_test_split\n",
    "from sklearn.preprocessing import StandardScaler\n",
    "import category_encoders as ce\n",
    "from sklearn.ensemble import GradientBoostingClassifier\n",
    "from sklearn.metrics import roc_auc_score\n",
    "from sklearn.model_selection import StratifiedKFold\n",
    "from tqdm import tqdm_notebook as tqdm"
   ]
  },
  {
   "cell_type": "code",
   "execution_count": null,
   "id": "5fd7a0ca",
   "metadata": {},
   "outputs": [],
   "source": [
    "df_train = pd.read_csv('../input/train.csv',index_col = 0)\n",
    "df_test = pd.read_csv('../input/test.csv',index_col = 0)\n",
    "df_country_info = pd.read_csv('../input/country_info.csv',index_col = 0)"
   ]
  },
  {
   "cell_type": "code",
   "execution_count": null,
   "id": "53b430a9",
   "metadata": {},
   "outputs": [],
   "source": [
    "df_country_info.dtypes"
   ]
  },
  {
   "cell_type": "code",
   "execution_count": null,
   "id": "e77adb79",
   "metadata": {},
   "outputs": [],
   "source": [
    "df_country_info.replace(',', '')"
   ]
  },
  {
   "cell_type": "code",
   "execution_count": null,
   "id": "b6a069fd",
   "metadata": {},
   "outputs": [],
   "source": [
    "df_country_info.head()"
   ]
  },
  {
   "cell_type": "code",
   "execution_count": null,
   "id": "0d39f112",
   "metadata": {},
   "outputs": [],
   "source": [
    "df_train = pd.merge(df_train, df_country_info, on='Country')\n",
    "df_test = pd.merge(df_test, df_country_info, on='Country')"
   ]
  },
  {
   "cell_type": "code",
   "execution_count": null,
   "id": "51ee861b",
   "metadata": {},
   "outputs": [],
   "source": [
    "df_train.head()"
   ]
  },
  {
   "cell_type": "code",
   "execution_count": null,
   "id": "083c24f2",
   "metadata": {},
   "outputs": [],
   "source": [
    "#col = ['AssessJob1','AssessJob2','AssessJob3','AssessJob4','AssessJob5','AssessJob6','AssessJob7','AssessJob8','AssessJob9','AssessJob10','AssessBenefits1','AssessBenefits2','AssessBenefits3','AssessBenefits4','AssessBenefits5','AssessBenefits6','AssessBenefits7','AssessBenefits8','AssessBenefits9','AssessBenefits10','AssessBenefits11','JobContactPriorities1','JobContactPriorities2','JobContactPriorities3','JobContactPriorities4','JobContactPriorities5','JobEmailPriorities1','JobEmailPriorities2','JobEmailPriorities3','JobEmailPriorities4','JobEmailPriorities5','JobEmailPriorities6','JobEmailPriorities7','AdsPriorities1','AdsPriorities2','AdsPriorities3','AdsPriorities4','AdsPriorities5','AdsPriorities6','AdsPriorities7','Hobby','OpenSource','Country','Student','Employment','FormalEducation','UndergradMajor','CompanySize','DevType','YearsCoding','YearsCodingProf','JobSatisfaction','CareerSatisfaction','HopeFiveYears','JobSearchStatus','LastNewJob','UpdateCV','Currency','SalaryType','CurrencySymbol','CommunicationTools','TimeFullyProductive','TimeAfterBootcamp','AgreeDisagree1','AgreeDisagree2','AgreeDisagree3','FrameworkWorkedWith','OperatingSystem','NumberMonitors','CheckInCode','AdBlocker','AdBlockerDisable','AdsAgreeDisagree1','AdsAgreeDisagree2','AdsAgreeDisagree3','AdsActions','AIDangerous','AIInteresting','AIResponsible','AIFuture','EthicsChoice','EthicsReport','EthicsResponsible','EthicalImplications','StackOverflowRecommend','StackOverflowVisit','StackOverflowHasAccount','StackOverflowParticipate','StackOverflowJobs','StackOverflowDevStory','StackOverflowJobsRecommend','StackOverflowConsiderMember','HypotheticalTools1','HypotheticalTools2','HypotheticalTools3','HypotheticalTools4','HypotheticalTools5','WakeTime','HoursComputer','HoursOutside','SkipMeals','ErgonomicDevices','Exercise','Gender','SexualOrientation','EducationParents','RaceEthnicity','Age','Dependents','MilitaryUS','SurveyTooLong','SurveyEasy']\n",
    "nums = ['Population','Area (sq. mi.)','GDP ($ per capita)']\n",
    "cats  = ['Hobby','OpenSource','Country','Student','Employment','FormalEducation','UndergradMajor','CompanySize','DevType','NumberMonitors','YearsCoding','YearsCodingProf','JobSatisfaction','CareerSatisfaction','HopeFiveYears','JobSearchStatus','LastNewJob','AssessJob1','AssessJob2','AssessJob3','AssessJob4','AssessJob5','AssessJob6','AssessJob7','AssessJob8','AssessJob9','AssessJob10','AssessBenefits1','AssessBenefits2','AssessBenefits3','AssessBenefits4','AssessBenefits5','AssessBenefits6','AssessBenefits7','AssessBenefits8','AssessBenefits9','AssessBenefits10','AssessBenefits11','JobContactPriorities1','JobContactPriorities2','JobContactPriorities3','JobContactPriorities4','JobContactPriorities5','JobEmailPriorities1','JobEmailPriorities2','JobEmailPriorities3','JobEmailPriorities4','JobEmailPriorities5','JobEmailPriorities6','JobEmailPriorities7','UpdateCV','Currency','SalaryType','CurrencySymbol','CommunicationTools','TimeFullyProductive','TimeAfterBootcamp','AgreeDisagree1','AgreeDisagree2','AgreeDisagree3','FrameworkWorkedWith','OperatingSystem','CheckInCode','AdBlocker','AdBlockerDisable','AdsAgreeDisagree1','AdsAgreeDisagree2','AdsAgreeDisagree3','AdsActions','AdsPriorities1','AdsPriorities2','AdsPriorities3','AdsPriorities4','AdsPriorities5','AdsPriorities6','AdsPriorities7','AIDangerous','AIInteresting','AIResponsible','AIFuture','EthicsChoice','EthicsReport','EthicsResponsible','EthicalImplications','StackOverflowRecommend','StackOverflowVisit','StackOverflowHasAccount','StackOverflowParticipate','StackOverflowJobs','StackOverflowDevStory','StackOverflowJobsRecommend','StackOverflowConsiderMember','HypotheticalTools1','HypotheticalTools2','HypotheticalTools3','HypotheticalTools4','HypotheticalTools5','WakeTime','HoursComputer','HoursOutside','SkipMeals','ErgonomicDevices','Exercise','Gender','SexualOrientation','EducationParents','RaceEthnicity','Age','Dependents','MilitaryUS','SurveyTooLong','SurveyEasy']\n",
    "\n",
    "df_train=df_train.drop(['Region','Pop. Density (per sq. mi.)','Coastline (coast/area ratio)','Net migration','Infant mortality (per 1000 births)','Literacy (%)','Phones (per 1000)','Arable (%)','Crops (%)','Other (%)','Climate','Birthrate','Deathrate','Agriculture','Industry','Service'],axis=1)\n",
    "df_test=df_test.drop(['Region','Pop. Density (per sq. mi.)','Coastline (coast/area ratio)','Net migration','Infant mortality (per 1000 births)','Literacy (%)','Phones (per 1000)','Arable (%)','Crops (%)','Other (%)','Climate','Birthrate','Deathrate','Agriculture','Industry','Service'],axis=1)\n",
    "\n",
    "#drop_col = ['Hobby','OpenSource','Country','Student','Employment','FormalEducation','UndergradMajor','CompanySize','DevType','YearsCoding','YearsCodingProf','JobSatisfaction','CareerSatisfaction','HopeFiveYears','JobSearchStatus','LastNewJob','UpdateCV','Currency','SalaryType','CurrencySymbol','CommunicationTools','TimeFullyProductive','TimeAfterBootcamp','AgreeDisagree1','AgreeDisagree2','AgreeDisagree3','FrameworkWorkedWith','OperatingSystem','NumberMonitors','CheckInCode','AdBlocker','AdBlockerDisable','AdsAgreeDisagree1','AdsAgreeDisagree2','AdsAgreeDisagree3','AdsActions','AIDangerous','AIInteresting','AIResponsible','AIFuture','EthicsChoice','EthicsReport','EthicsResponsible','EthicalImplications','StackOverflowRecommend','StackOverflowVisit','StackOverflowHasAccount','StackOverflowParticipate','StackOverflowJobs','StackOverflowDevStory','StackOverflowJobsRecommend','StackOverflowConsiderMember','HypotheticalTools1','HypotheticalTools2','HypotheticalTools3','HypotheticalTools4','HypotheticalTools5','WakeTime','HoursComputer','HoursOutside','SkipMeals','ErgonomicDevices','Exercise','Gender','SexualOrientation','EducationParents','RaceEthnicity','Age','Dependents','MilitaryUS','SurveyTooLong','SurveyEasy']\n",
    "#df_train = df_train.drop(['Hobby','OpenSource','Country','Student','Employment','FormalEducation','UndergradMajor','CompanySize','DevType','YearsCoding','YearsCodingProf','JobSatisfaction','CareerSatisfaction','HopeFiveYears','JobSearchStatus','LastNewJob','UpdateCV','Currency','SalaryType','CurrencySymbol','CommunicationTools','TimeFullyProductive','TimeAfterBootcamp','AgreeDisagree1','AgreeDisagree2','AgreeDisagree3','FrameworkWorkedWith','OperatingSystem','NumberMonitors','CheckInCode','AdBlocker','AdBlockerDisable','AdsAgreeDisagree1','AdsAgreeDisagree2','AdsAgreeDisagree3','AdsActions','AIDangerous','AIInteresting','AIResponsible','AIFuture','EthicsChoice','EthicsReport','EthicsResponsible','EthicalImplications','StackOverflowRecommend','StackOverflowVisit','StackOverflowHasAccount','StackOverflowParticipate','StackOverflowJobs','StackOverflowDevStory','StackOverflowJobsRecommend','StackOverflowConsiderMember','HypotheticalTools1','HypotheticalTools2','HypotheticalTools3','HypotheticalTools4','HypotheticalTools5','WakeTime','HoursComputer','HoursOutside','SkipMeals','ErgonomicDevices','Exercise','Gender','SexualOrientation','EducationParents','RaceEthnicity','Age','Dependents','MilitaryUS','SurveyTooLong','SurveyEasy'],axis = 1)\n",
    "#df_test = df_test.drop(['Hobby','OpenSource','Country','Student','Employment','FormalEducation','UndergradMajor','CompanySize','DevType','YearsCoding','YearsCodingProf','JobSatisfaction','CareerSatisfaction','HopeFiveYears','JobSearchStatus','LastNewJob','UpdateCV','Currency','SalaryType','CurrencySymbol','CommunicationTools','TimeFullyProductive','TimeAfterBootcamp','AgreeDisagree1','AgreeDisagree2','AgreeDisagree3','FrameworkWorkedWith','OperatingSystem','NumberMonitors','CheckInCode','AdBlocker','AdBlockerDisable','AdsAgreeDisagree1','AdsAgreeDisagree2','AdsAgreeDisagree3','AdsActions','AIDangerous','AIInteresting','AIResponsible','AIFuture','EthicsChoice','EthicsReport','EthicsResponsible','EthicalImplications','StackOverflowRecommend','StackOverflowVisit','StackOverflowHasAccount','StackOverflowParticipate','StackOverflowJobs','StackOverflowDevStory','StackOverflowJobsRecommend','StackOverflowConsiderMember','HypotheticalTools1','HypotheticalTools2','HypotheticalTools3','HypotheticalTools4','HypotheticalTools5','WakeTime','HoursComputer','HoursOutside','SkipMeals','ErgonomicDevices','Exercise','Gender','SexualOrientation','EducationParents','RaceEthnicity','Age','Dependents','MilitaryUS','SurveyTooLong','SurveyEasy'],axis = 1)"
   ]
  },
  {
   "cell_type": "code",
   "execution_count": null,
   "id": "23aa0c0d",
   "metadata": {},
   "outputs": [],
   "source": [
    "df_train.dtypes"
   ]
  },
  {
   "cell_type": "code",
   "execution_count": null,
   "id": "ccb0d8c1",
   "metadata": {},
   "outputs": [],
   "source": [
    "df_train[nums] = df_train[nums].fillna(df_train[nums].mean())\n",
    "df_test[nums] = df_test[nums].fillna(df_test[nums].mean())\n",
    "\n",
    "df_train[cats] = df_train[cats].fillna(\"NaN\")\n",
    "df_test[cats] = df_test[cats].fillna(\"NaN\")"
   ]
  },
  {
   "cell_type": "code",
   "execution_count": null,
   "id": "c77a3a6e",
   "metadata": {},
   "outputs": [],
   "source": [
    "df_train['ConvertedSalary'] = df_train['ConvertedSalary'].astype(np.int64)\n",
    "y_train = df_train['ConvertedSalary']\n",
    "#x_train = df_train.drop(['loan_condition','issue_d','emp_title','emp_length','mths_since_last_delinq','mths_since_last_record','mths_since_last_major_derog','tot_coll_amt','tot_cur_bal','Latitude','Longitude','addr_state'],axis=1)\n",
    "x_train = df_train.drop(['ConvertedSalary'],axis = 1)\n",
    "x_test = df_test\n",
    "#x_test = df_test.drop(['issue_d','emp_title','emp_length','mths_since_last_delinq','mths_since_last_record','mths_since_last_major_derog','tot_coll_amt','tot_cur_bal','Latitude','Longitude','addr_state'],axis=1)"
   ]
  },
  {
   "cell_type": "code",
   "execution_count": null,
   "id": "6ec1f668",
   "metadata": {},
   "outputs": [],
   "source": [
    "x_train[nums].head()"
   ]
  },
  {
   "cell_type": "code",
   "execution_count": null,
   "id": "189de5c4",
   "metadata": {},
   "outputs": [],
   "source": [
    "scaler = StandardScaler()\n",
    "scaler.fit(x_train[nums])\n",
    "x_train[nums] = scaler.transform(x_train[nums])\n",
    "x_test[nums] = scaler.transform(x_test[nums])"
   ]
  },
  {
   "cell_type": "code",
   "execution_count": null,
   "id": "ed657713",
   "metadata": {},
   "outputs": [],
   "source": [
    "oe = ce.OrdinalEncoder(cols = cats,return_df=False)\n",
    "\n",
    "x_train[cats] = oe.fit_transform(x_train[cats])\n",
    "x_test[cats] = oe.transform(x_test[cats])"
   ]
  },
  {
   "cell_type": "code",
   "execution_count": null,
   "id": "b9888bd1",
   "metadata": {},
   "outputs": [],
   "source": [
    "#トレーニングデータとバリデーションデータに分割\n",
    "x_train, x_val, y_train, y_val = train_test_split(x_train, y_train, test_size=0.33, random_state=71)"
   ]
  },
  {
   "cell_type": "code",
   "execution_count": null,
   "id": "b8fcf75e",
   "metadata": {},
   "outputs": [],
   "source": [
    "import numpy as np\n",
    "import lightgbm as lgb\n",
    "from sklearn.datasets import load_boston\n",
    "from sklearn.metrics import mean_squared_error\n",
    "from sklearn.model_selection import KFold, train_test_split\n",
    "\n",
    "# create dataset for lightgbm\n",
    "lgb_train = lgb.Dataset(x_train, y_train)\n",
    "lgb_eval = lgb.Dataset(x_val, y_val, reference=lgb_train)\n",
    "# LightGBM parameters\n",
    "params = {\n",
    "        'task' : 'train',\n",
    "        'boosting_type' : 'gbdt',\n",
    "        'objective' : 'regression',\n",
    "        'metric' : {'l2'},\n",
    "        'num_leaves' : 31,\n",
    "        'learning_rate' : 0.1,\n",
    "        'feature_fraction' : 0.9,\n",
    "        'bagging_fraction' : 0.8,\n",
    "        'bagging_freq': 5,\n",
    "        'verbose' : 0\n",
    "}\n",
    "\n",
    "# train\n",
    "gbm = lgb.train(params,\n",
    "            lgb_train,\n",
    "            num_boost_round=200,\n",
    "            valid_sets=lgb_eval,\n",
    "            early_stopping_rounds=500)\n",
    "y_pred = gbm.predict(x_val, num_iteration=gbm.best_iteration)"
   ]
  },
  {
   "cell_type": "code",
   "execution_count": null,
   "id": "8a693f8d",
   "metadata": {},
   "outputs": [],
   "source": [
    " # テストデータを予測する\n",
    "    y_pred = gbm.predict(x_test, num_iteration=gbm.best_iteration)"
   ]
  },
  {
   "cell_type": "code",
   "execution_count": null,
   "id": "e2a11b8e",
   "metadata": {},
   "outputs": [],
   "source": [
    "submission = pd.read_csv('../input/sample_submission.csv', index_col=0)\n",
    "submission.ConvertedSalary = y_pred\n",
    "submission.to_csv('submission.csv')"
   ]
  },
  {
   "cell_type": "code",
   "execution_count": null,
   "id": "6d00f519",
   "metadata": {},
   "outputs": [],
   "source": [
    "\n",
    "\n"
   ]
  },
  {
   "cell_type": "code",
   "execution_count": null,
   "id": "eebee0da",
   "metadata": {},
   "outputs": [],
   "source": [
    "nan"
   ]
  }
 ],
 "metadata": {},
 "nbformat": 4,
 "nbformat_minor": 5
}
