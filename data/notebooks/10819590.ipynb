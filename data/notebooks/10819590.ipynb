{
 "cells": [
  {
   "cell_type": "code",
   "execution_count": null,
   "id": "48f95983",
   "metadata": {},
   "outputs": [],
   "source": [
    "# This Python 3 environment comes with many helpful analytics libraries installed\n",
    "# It is defined by the kaggle/python Docker image: https://github.com/kaggle/docker-python\n",
    "# For example, here's several helpful packages to load\n",
    "\n",
    "import numpy as np # linear algebra\n",
    "import pandas as pd # data processing, CSV file I/O (e.g. pd.read_csv)\n",
    "\n",
    "# Input data files are available in the read-only \"../input/\" directory\n",
    "# For example, running this (by clicking run or pressing Shift+Enter) will list all files under the input directory\n",
    "\n",
    "import os\n",
    "for dirname, _, filenames in os.walk('/kaggle/input'):\n",
    "    for filename in filenames:\n",
    "        print(os.path.join(dirname, filename))\n",
    "\n",
    "# You can write up to 5GB to the current directory (/kaggle/working/) that gets preserved as output when you create a version using \"Save & Run All\" \n",
    "# You can also write temporary files to /kaggle/temp/, but they won't be saved outside of the current session"
   ]
  },
  {
   "cell_type": "code",
   "execution_count": null,
   "id": "a31cb140",
   "metadata": {},
   "outputs": [],
   "source": [
    "from pandas.plotting import register_matplotlib_converters\n",
    "register_matplotlib_converters()\n",
    "import matplotlib.pyplot as plt\n",
    "import seaborn as sns\n",
    "sns.set_style('white')\n",
    "import time\n",
    "import itertools\n",
    "import warnings\n",
    "import statsmodels.api as sm\n",
    "from statsmodels.tsa.stattools import adfuller\n",
    "from statsmodels.graphics.tsaplots import plot_acf, plot_pacf\n",
    "from statsmodels.tsa.seasonal import seasonal_decompose\n",
    "from statsmodels.tsa.arima_model import ARIMA"
   ]
  },
  {
   "cell_type": "markdown",
   "id": "1a3bdde2",
   "metadata": {},
   "source": [
    "Cargamos el Dataset con los datos del Ibex de este año"
   ]
  },
  {
   "cell_type": "code",
   "execution_count": null,
   "id": "b16d312c",
   "metadata": {},
   "outputs": [],
   "source": [
    "df = pd.read_csv('/kaggle/input/datos-ibex35-a-072020/DatosIbex2020.csv', encoding='utf-8')"
   ]
  },
  {
   "cell_type": "code",
   "execution_count": null,
   "id": "b67bfd6c",
   "metadata": {},
   "outputs": [],
   "source": [
    "df.head()"
   ]
  },
  {
   "cell_type": "markdown",
   "id": "27a10064",
   "metadata": {},
   "source": [
    "ÑPonemos la fecha como fecha"
   ]
  },
  {
   "cell_type": "code",
   "execution_count": null,
   "id": "3e0f7040",
   "metadata": {},
   "outputs": [],
   "source": [
    "df['Fecha']=pd.to_datetime(df['Fecha'],format='%d.%m.%Y')"
   ]
  },
  {
   "cell_type": "code",
   "execution_count": null,
   "id": "cd910791",
   "metadata": {},
   "outputs": [],
   "source": [
    "df.head()"
   ]
  },
  {
   "cell_type": "code",
   "execution_count": null,
   "id": "02b359d2",
   "metadata": {},
   "outputs": [],
   "source": [
    "df.tail()"
   ]
  },
  {
   "cell_type": "markdown",
   "id": "bada7fc9",
   "metadata": {},
   "source": [
    "Nos quedamos solo con la Fecha y el valor del ibex"
   ]
  },
  {
   "cell_type": "code",
   "execution_count": null,
   "id": "420f142a",
   "metadata": {},
   "outputs": [],
   "source": [
    "ibex=df[['Fecha','Último']]\n",
    "ibex.columns=['Fecha','Ibex']"
   ]
  },
  {
   "cell_type": "code",
   "execution_count": null,
   "id": "e7516e10",
   "metadata": {},
   "outputs": [],
   "source": [
    "ibex.info()"
   ]
  },
  {
   "cell_type": "markdown",
   "id": "8e3c2316",
   "metadata": {},
   "source": [
    "Cuando trato de covertir el valor del índice Ibex a número, me da un error, seguramemte porque viene con formato español '.,' y no el americano ',.', asi que manipulo los avlores para dejar solo el ' como separador decimal."
   ]
  },
  {
   "cell_type": "code",
   "execution_count": null,
   "id": "e2b7a366",
   "metadata": {},
   "outputs": [],
   "source": [
    "ibex['Ibex']=ibex['Ibex'].str.replace('.','')\n",
    "ibex['Ibex']=ibex['Ibex'].str.replace(',','.')\n",
    "ibex['Ibex']=ibex['Ibex'].astype('float')"
   ]
  },
  {
   "cell_type": "code",
   "execution_count": null,
   "id": "f547dcf4",
   "metadata": {},
   "outputs": [],
   "source": [
    "ibex.head()"
   ]
  },
  {
   "cell_type": "markdown",
   "id": "9d75d4ad",
   "metadata": {},
   "source": [
    "Nos quedamos solo , desde el uno de Abril"
   ]
  },
  {
   "cell_type": "code",
   "execution_count": null,
   "id": "ba7507b1",
   "metadata": {},
   "outputs": [],
   "source": [
    "ibex=ibex[ibex['Fecha'] > '2020-04-01']"
   ]
  },
  {
   "cell_type": "markdown",
   "id": "d76ff792",
   "metadata": {},
   "source": [
    "Ordenamos bien las fechas, de menor a mayor"
   ]
  },
  {
   "cell_type": "code",
   "execution_count": null,
   "id": "4e5faed1",
   "metadata": {},
   "outputs": [],
   "source": [
    "ibex.sort_values(by='Fecha',ascending=True,inplace=True)"
   ]
  },
  {
   "cell_type": "code",
   "execution_count": null,
   "id": "f58fa356",
   "metadata": {},
   "outputs": [],
   "source": [
    "ibex.head()"
   ]
  },
  {
   "cell_type": "code",
   "execution_count": null,
   "id": "6645ae20",
   "metadata": {},
   "outputs": [],
   "source": [
    "ibex.set_index('Fecha',inplace=True)"
   ]
  },
  {
   "cell_type": "markdown",
   "id": "9379ca91",
   "metadata": {},
   "source": [
    "Pintamos nuestra Serie"
   ]
  },
  {
   "cell_type": "code",
   "execution_count": null,
   "id": "5a3befc5",
   "metadata": {},
   "outputs": [],
   "source": [
    "ibex['Ibex'].plot()"
   ]
  },
  {
   "cell_type": "markdown",
   "id": "f28e81e1",
   "metadata": {},
   "source": [
    "Pintamos la transformacion logaritmica"
   ]
  },
  {
   "cell_type": "code",
   "execution_count": null,
   "id": "f26dd6f6",
   "metadata": {},
   "outputs": [],
   "source": [
    "ibex['Ibex_log']=np.log(ibex['Ibex'])"
   ]
  },
  {
   "cell_type": "code",
   "execution_count": null,
   "id": "62862a0a",
   "metadata": {},
   "outputs": [],
   "source": [
    "ibex['Ibex_log'].plot()"
   ]
  },
  {
   "cell_type": "markdown",
   "id": "46733d7a",
   "metadata": {},
   "source": [
    "Hacemos la transformacion por diferencias"
   ]
  },
  {
   "cell_type": "code",
   "execution_count": null,
   "id": "7733582c",
   "metadata": {},
   "outputs": [],
   "source": [
    "ibex['Ibex_log_diff']=ibex['Ibex_log'].diff()"
   ]
  },
  {
   "cell_type": "code",
   "execution_count": null,
   "id": "1d0ad810",
   "metadata": {},
   "outputs": [],
   "source": [
    "ibex['Ibex_log_diff'].plot()"
   ]
  },
  {
   "cell_type": "markdown",
   "id": "dba786e9",
   "metadata": {},
   "source": [
    "Vamos a pintgra las series y ver si son estacionarias:"
   ]
  },
  {
   "cell_type": "code",
   "execution_count": null,
   "id": "33d63869",
   "metadata": {},
   "outputs": [],
   "source": [
    "y = ibex[\"Ibex\"]\n",
    "ibex['Ibex_mean']=ibex['Ibex'].mean()\n",
    "y_media=ibex['Ibex_mean']\n",
    "\n",
    "y_log=ibex[\"Ibex_log\"]\n",
    "ibex['Ibex_log_mean']=ibex['Ibex_log'].mean()\n",
    "y_log_media=ibex['Ibex_log_mean']\n",
    "\n",
    "y_log_diff=ibex[\"Ibex_log_diff\"]\n",
    "ibex['Ibex_log_diff_mean']=ibex['Ibex_log_diff'].mean()\n",
    "y_log_diff_media=ibex['Ibex_log_diff_mean']\n"
   ]
  },
  {
   "cell_type": "code",
   "execution_count": null,
   "id": "77ccbc1a",
   "metadata": {},
   "outputs": [],
   "source": [
    "x=ibex.index"
   ]
  },
  {
   "cell_type": "code",
   "execution_count": null,
   "id": "b3f5c297",
   "metadata": {},
   "outputs": [],
   "source": [
    "# visualización de los datos anteriores a los largo de los años\n",
    "fig = plt.figure(figsize = (10, 10))\n",
    "ax1, ax2, ax3 = fig.subplots(3, 1)\n",
    "\n",
    "ax1.plot(x, y, label = \"Serie Original\")\n",
    "ax1.plot(x, y_media, label = \"Media de la Serie Original\")\n",
    "ax1.set_ylim(0, np.max(y)*1.3)\n",
    "ax1.legend(loc = \"upper left\")\n",
    "\n",
    "ax2.plot(x, y_log, label = \"Serie Log.\")\n",
    "ax2.plot(x, y_log_media, label = \"Media de la Serie Log.\")\n",
    "ax2.set_ylim(0, np.max(y_log)*1.3)\n",
    "ax2.legend(loc = \"lower left\")\n",
    "\n",
    "ax3.plot(x, y_log_diff, label = \"Serie Logarítmica diferenciada\")\n",
    "ax3.plot(x, y_log_diff_media, label = \"Media de la Serie. Log. Diff\")\n",
    "ax3.set_ylim(np.min(y_log_diff)*1.5, np.max(y_log_diff)*1.3)\n",
    "ax3.legend(loc = \"lower left\")\n",
    "\n",
    "fig.suptitle(\"Capturación de Pieles de Lince y sus transformaciones a lo largo de los años a lo largo de los años\");"
   ]
  },
  {
   "cell_type": "markdown",
   "id": "8ad209ca",
   "metadata": {},
   "source": [
    "La serie de diferencias tiene nulos"
   ]
  },
  {
   "cell_type": "code",
   "execution_count": null,
   "id": "f11f540e",
   "metadata": {},
   "outputs": [],
   "source": [
    "ibex['Ibex_log_diff'].isnull().sum()"
   ]
  },
  {
   "cell_type": "code",
   "execution_count": null,
   "id": "90636d8c",
   "metadata": {},
   "outputs": [],
   "source": [
    "ibex.dropna(axis=0, inplace=True)"
   ]
  },
  {
   "cell_type": "markdown",
   "id": "a22a96f7",
   "metadata": {},
   "source": [
    "Vamos a pintar las autocorrelaciones, totales y parciales de estas series para ver si son estacionarias o no"
   ]
  },
  {
   "cell_type": "code",
   "execution_count": null,
   "id": "c79e9434",
   "metadata": {},
   "outputs": [],
   "source": [
    "LAGS = 24\n",
    "\n",
    "fig = plt.figure(figsize = (10, 10))\n",
    "\n",
    "((ax1, ax2), (ax3, ax4), (ax5, ax6)) = fig.subplots(3, 2)\n",
    "\n",
    "# ----------------------------------------------------------------------------------------------------\n",
    "# plot the data using the built in plots from the stats module\n",
    "plot_acf(y, ax = ax1, lags = LAGS, title = \"Autocorrelación\")\n",
    "plot_pacf(y, ax = ax2, lags = LAGS, title = \"Autocorrelación Parcial\")\n",
    "\n",
    "plot_acf(y_log, ax = ax3, lags = LAGS, title = \"Autocorrelación\")\n",
    "plot_pacf(y_log, ax = ax4, lags = LAGS, title = \"Autocorrelación Parcial\")\n",
    "\n",
    "plot_acf(y_log_diff, ax = ax5, lags = LAGS, title = \"Autocorrelación\")\n",
    "plot_pacf(y_log_diff, ax = ax6, lags = LAGS, title = \"Autocorrelación Parcial\")\n",
    "\n",
    "fig.tight_layout()"
   ]
  },
  {
   "cell_type": "markdown",
   "id": "beb17e2b",
   "metadata": {},
   "source": [
    "Vemos que la serie directa puede ser tratada como estacionaria con unos valores de P=5 y Q=5"
   ]
  },
  {
   "cell_type": "code",
   "execution_count": null,
   "id": "bc33f33f",
   "metadata": {},
   "outputs": [],
   "source": [
    "serie_a_predecir = y"
   ]
  },
  {
   "cell_type": "markdown",
   "id": "af95a588",
   "metadata": {},
   "source": [
    "Preparamos los dataset de train y test"
   ]
  },
  {
   "cell_type": "code",
   "execution_count": null,
   "id": "24cc2b68",
   "metadata": {},
   "outputs": [],
   "source": [
    "y_index = serie_a_predecir.index\n",
    "\n",
    "date_train = int(len(y_index)*0.9)\n",
    "\n",
    "y_train = serie_a_predecir[y_index[:date_train]]\n",
    "y_test = serie_a_predecir[y_index[date_train:len(y_index)]]"
   ]
  },
  {
   "cell_type": "code",
   "execution_count": null,
   "id": "8f758079",
   "metadata": {},
   "outputs": [],
   "source": [
    "y_train.tail()"
   ]
  },
  {
   "cell_type": "code",
   "execution_count": null,
   "id": "34387abd",
   "metadata": {},
   "outputs": [],
   "source": [
    "y_test.head()"
   ]
  },
  {
   "cell_type": "markdown",
   "id": "c26fee81",
   "metadata": {},
   "source": [
    "Calculamos el valor de los parametros:"
   ]
  },
  {
   "cell_type": "code",
   "execution_count": null,
   "id": "ba14a4b3",
   "metadata": {},
   "outputs": [],
   "source": [
    "p = d = q = range(0, 6)\n",
    "pdq = list(itertools.product(p, d, q))\n",
    "seasonal_pdq = [(0, 0, 0, 0)]\n",
    "st = time.time()\n",
    "\n",
    "best_score = 0\n",
    "best_params = None\n",
    "best_seasonal_params = None\n",
    "\n",
    "for param in pdq:\n",
    "    for param_seasonal in seasonal_pdq:\n",
    "        try:\n",
    "            \n",
    "            mod = sm.tsa.statespace.SARIMAX(y_train,\n",
    "                                            order=param,\n",
    "                                            seasonal_order=param_seasonal,\n",
    "                                            enforce_stationarity = False,\n",
    "                                            enforce_invertibility = False)\n",
    "\n",
    "            results = mod.fit()\n",
    "\n",
    "            print('ARIMA{}x{}12 - AIC:{}'.format(param, param_seasonal, results.aic))\n",
    "            \n",
    "            # guardamos el mejor resultado\n",
    "            if best_score == 0:\n",
    "                best_score = results.aic\n",
    "                best_params = param\n",
    "                best_seasonal_params = param_seasonal\n",
    "                \n",
    "            elif abs(results.aic) < abs(best_score):\n",
    "                best_score = results.aic\n",
    "                best_params = param\n",
    "                best_seasonal_params = param_seasonal\n",
    "            \n",
    "        # alguna combinación de parámetros en SARIMAX, no son válidos\n",
    "        # y los vamos a cazar con un except\n",
    "        except:\n",
    "            continue\n",
    "\n",
    "et = time.time()\n",
    "print(\"La búsqueda de parámetros no ha llevado {} minutos!\".format((et - st)/60))\n"
   ]
  },
  {
   "cell_type": "code",
   "execution_count": null,
   "id": "4a19c1a2",
   "metadata": {},
   "outputs": [],
   "source": [
    "print(\"El mejor modelo es {}, \\nCon un AIC de {}\".format(best_params, best_score))"
   ]
  },
  {
   "cell_type": "code",
   "execution_count": null,
   "id": "59f5362c",
   "metadata": {},
   "outputs": [],
   "source": [
    "mod = sm.tsa.statespace.SARIMAX(y_train,\n",
    "                                order = best_params,\n",
    "                                seasonal_order = param_seasonal,\n",
    "                                enforce_stationarity = False,\n",
    "                                enforce_invertibility = False)\n",
    "\n",
    "results = mod.fit()"
   ]
  },
  {
   "cell_type": "code",
   "execution_count": null,
   "id": "6fe0fa71",
   "metadata": {},
   "outputs": [],
   "source": [
    "results = mod.fit()\n",
    "\n",
    "print(results.summary().tables[1])"
   ]
  },
  {
   "cell_type": "code",
   "execution_count": null,
   "id": "0b09826f",
   "metadata": {},
   "outputs": [],
   "source": [
    "# Para hacer una predicción es suficiente con especificar el número de steps/pasos futuros a estimar.\n",
    "pred_uc = results.get_forecast(steps = len(y_test))\n",
    "\n",
    "# Calcula el intervalo de confianza de la predicción.\n",
    "pred_ci = pred_uc.conf_int()"
   ]
  },
  {
   "cell_type": "markdown",
   "id": "be50f3d5",
   "metadata": {},
   "source": [
    "Da un error con los tipo date que le hemos dado y no logra devolvernos las predicciones indexadas con una fecha"
   ]
  },
  {
   "cell_type": "code",
   "execution_count": null,
   "id": "2b36b2cc",
   "metadata": {},
   "outputs": [],
   "source": [
    "pred_ci"
   ]
  },
  {
   "cell_type": "markdown",
   "id": "4cc5a36e",
   "metadata": {},
   "source": [
    "Pero como tenemos el index de test , vamos a usarlo como el indice de las predicciones"
   ]
  },
  {
   "cell_type": "code",
   "execution_count": null,
   "id": "0ed7f3db",
   "metadata": {},
   "outputs": [],
   "source": [
    "predicted_values = pred_uc.predicted_mean.values"
   ]
  },
  {
   "cell_type": "code",
   "execution_count": null,
   "id": "17386240",
   "metadata": {},
   "outputs": [],
   "source": [
    "predicted_values"
   ]
  },
  {
   "cell_type": "code",
   "execution_count": null,
   "id": "59bfbc58",
   "metadata": {},
   "outputs": [],
   "source": [
    "ax = serie_a_predecir.plot(label = 'Valores reales', figsize = (10, 10))\n",
    "ax.plot(y_test.index, predicted_values, label = \"Predicción\")\n",
    "\n",
    "ax.fill_between(y_test.index,\n",
    "                pred_ci.iloc[:, 0],\n",
    "                pred_ci.iloc[:, 1], color = 'k', alpha = .25)\n",
    "\n",
    "ax.set_xlabel('Dia')\n",
    "ax.set_ylabel('Ibex 35')\n",
    "\n",
    "plt.legend()\n",
    "plt.show()"
   ]
  },
  {
   "cell_type": "code",
   "execution_count": null,
   "id": "956c35e6",
   "metadata": {},
   "outputs": [],
   "source": [
    "nan"
   ]
  }
 ],
 "metadata": {},
 "nbformat": 4,
 "nbformat_minor": 5
}
