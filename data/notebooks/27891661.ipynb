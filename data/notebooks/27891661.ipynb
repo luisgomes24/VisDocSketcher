{
 "cells": [
  {
   "cell_type": "markdown",
   "id": "32c0fae3",
   "metadata": {},
   "source": [
    "# **Setting Up the Environment**"
   ]
  },
  {
   "cell_type": "code",
   "execution_count": null,
   "id": "ead7622a",
   "metadata": {},
   "outputs": [],
   "source": [
    "import numpy as np # linear algebra\n",
    "import pandas as pd # data processing, CSV file I/O (e.g. pd.read_csv)\n",
    "\n",
    "#For Data Visualization\n",
    "import matplotlib as mpl\n",
    "import matplotlib.pyplot as plt\n",
    "%matplotlib inline\n",
    "import seaborn as sns\n",
    "\n",
    "from sklearn.model_selection import train_test_split #Splits the data into training and testing sets\n",
    "from sklearn.pipeline import Pipeline\n",
    "from sklearn.preprocessing import StandardScaler,PolynomialFeatures\n",
    "\n",
    "#Libraires for Classification Models\n",
    "from sklearn.linear_model import LogisticRegression #Logistic Regression\n",
    "from sklearn.metrics import classification_report,plot_confusion_matrix #Metrics for analyzing the model performance\n",
    "\n",
    "import os\n",
    "for dirname, _, filenames in os.walk('/kaggle/input'):\n",
    "    for filename in filenames:\n",
    "        print(os.path.join(dirname, filename))"
   ]
  },
  {
   "cell_type": "markdown",
   "id": "aed725d3",
   "metadata": {},
   "source": [
    "# **Importing Training Data**"
   ]
  },
  {
   "cell_type": "code",
   "execution_count": null,
   "id": "756bde02",
   "metadata": {},
   "outputs": [],
   "source": [
    "train_data=pd.read_csv(\"../input/spaceship-titanic/train.csv\")\n",
    "train_data.head()"
   ]
  },
  {
   "cell_type": "code",
   "execution_count": null,
   "id": "781382fe",
   "metadata": {},
   "outputs": [],
   "source": [
    "#Displaying Metadata/Information about Training Data\n",
    "train_data.info()"
   ]
  },
  {
   "cell_type": "code",
   "execution_count": null,
   "id": "91358749",
   "metadata": {},
   "outputs": [],
   "source": [
    "#Dropping ID and Name because ID and Name will not have bigger impact on the prediction\n",
    "train_data=train_data.drop(['PassengerId','Name'],axis=1)"
   ]
  },
  {
   "cell_type": "code",
   "execution_count": null,
   "id": "1b8e0620",
   "metadata": {},
   "outputs": [],
   "source": [
    "#checking for Null Values\n",
    "#Checking columns with missing data\n",
    "Miss_Percent=100*(train_data.isnull().sum()/len(train_data))\n",
    "Miss_Percent"
   ]
  },
  {
   "cell_type": "code",
   "execution_count": null,
   "id": "963881e6",
   "metadata": {},
   "outputs": [],
   "source": [
    "#Filling Null values with most occurring class\n",
    "train_data=train_data.apply(lambda x: x.fillna(x.value_counts().index[0]))"
   ]
  },
  {
   "cell_type": "markdown",
   "id": "2e9ea07b",
   "metadata": {},
   "source": [
    "# **Explainatory Data Analysis**"
   ]
  },
  {
   "cell_type": "code",
   "execution_count": null,
   "id": "b616527a",
   "metadata": {},
   "outputs": [],
   "source": [
    "train_data.describe().T"
   ]
  },
  {
   "cell_type": "markdown",
   "id": "395105e2",
   "metadata": {},
   "source": [
    "**Age Distribution of Each Planet that were Transported or Not**"
   ]
  },
  {
   "cell_type": "code",
   "execution_count": null,
   "id": "6ed768ac",
   "metadata": {},
   "outputs": [],
   "source": [
    "sns.displot(\n",
    "    train_data, x=\"Age\", col=\"HomePlanet\", row=\"Transported\",\n",
    "    binwidth=3, height=3, facet_kws=dict(margin_titles=True),\n",
    ")"
   ]
  },
  {
   "cell_type": "markdown",
   "id": "05f22d32",
   "metadata": {},
   "source": [
    "**Overall Distribution of Features in the Training data**"
   ]
  },
  {
   "cell_type": "code",
   "execution_count": null,
   "id": "e3d1a5fd",
   "metadata": {},
   "outputs": [],
   "source": [
    "i = 1\n",
    "plt.figure(figsize = (15,25))\n",
    "feature=['HomePlanet','CryoSleep','Destination','VIP','Transported']\n",
    "for feature in feature:\n",
    "    plt.subplot(6,3,i)\n",
    "    sns.countplot(x = feature , hue='Transported', data =train_data)\n",
    "    i +=1"
   ]
  },
  {
   "cell_type": "code",
   "execution_count": null,
   "id": "de5053a4",
   "metadata": {},
   "outputs": [],
   "source": [
    "objList = train_data.select_dtypes(include = \"object\").columns\n",
    "print (objList)\n",
    "\n",
    "#Label Encoding for object to numeric conversion\n",
    "from sklearn.preprocessing import LabelEncoder\n",
    "le = LabelEncoder()\n",
    "\n",
    "for feat in objList:\n",
    "    train_data[feat] = le.fit_transform(train_data[feat].astype(str))\n",
    "\n",
    "train_data.head()"
   ]
  },
  {
   "cell_type": "code",
   "execution_count": null,
   "id": "92b64a8b",
   "metadata": {},
   "outputs": [],
   "source": [
    "X=train_data.drop('Transported',axis=1)\n",
    "y=train_data['Transported']\n",
    "\n",
    "X_train, X_val, y_train, y_val = train_test_split(X,y,test_size=0.2)\n",
    "\n",
    "print(\"X_train shape: \",X_train.shape)\n",
    "print(\"X_val shape: \",X_val.shape)\n",
    "print(\"y_train shape: \",y_train.shape)\n",
    "print(\"y_val shape: \",y_val.shape)"
   ]
  },
  {
   "cell_type": "markdown",
   "id": "3b8cbbc5",
   "metadata": {},
   "source": [
    "**Logistic Regression**"
   ]
  },
  {
   "cell_type": "code",
   "execution_count": null,
   "id": "d9d053ea",
   "metadata": {},
   "outputs": [],
   "source": [
    "Input=[('scale',StandardScaler()),('polynomial', PolynomialFeatures(include_bias=False)),('model',LogisticRegression(solver='liblinear'))]\n",
    "\n",
    "pipe=Pipeline(Input)\n",
    "pipe\n",
    "pipe.fit(X_train,y_train)\n",
    "pipe_pred_LR = pipe.predict(X_val)\n",
    "pipe_rep_LR = classification_report(y_val, pipe_pred_LR)\n",
    "print('\\t\\t\\tClassification report:\\n\\n', pipe_rep_LR, '\\n')\n",
    "plot_confusion_matrix(pipe, X_val, y_val) "
   ]
  },
  {
   "cell_type": "markdown",
   "id": "1e8abc37",
   "metadata": {},
   "source": [
    "# **Test Data**"
   ]
  },
  {
   "cell_type": "code",
   "execution_count": null,
   "id": "3be80b27",
   "metadata": {},
   "outputs": [],
   "source": [
    "test_data=pd.read_csv(\"../input/spaceship-titanic/test.csv\")\n",
    "test_data.head()"
   ]
  },
  {
   "cell_type": "markdown",
   "id": "5f54d587",
   "metadata": {},
   "source": [
    "Dropping columns like passengerid and names because they are irrelevant "
   ]
  },
  {
   "cell_type": "code",
   "execution_count": null,
   "id": "90788557",
   "metadata": {},
   "outputs": [],
   "source": [
    "#Dropping ID and Name because ID and Name will not have bigger impact on the prediction\n",
    "test_data=test_data.drop(['PassengerId','Name'],axis=1)\n",
    "test_data.info()"
   ]
  },
  {
   "cell_type": "markdown",
   "id": "ea466086",
   "metadata": {},
   "source": [
    "**Encoding the Categorical Features of the data**"
   ]
  },
  {
   "cell_type": "code",
   "execution_count": null,
   "id": "ad133609",
   "metadata": {},
   "outputs": [],
   "source": [
    "objList = test_data.select_dtypes(include = \"object\").columns\n",
    "print (objList)\n",
    "\n",
    "for feat in objList:\n",
    "    test_data[feat] = le.fit_transform(test_data[feat].astype(str))\n",
    "\n",
    "test_data.head()"
   ]
  },
  {
   "cell_type": "code",
   "execution_count": null,
   "id": "55f42e88",
   "metadata": {},
   "outputs": [],
   "source": [
    "#Filling Null values with most occurring class\n",
    "test_data=test_data.apply(lambda x: x.fillna(x.value_counts().index[0]))"
   ]
  },
  {
   "cell_type": "markdown",
   "id": "29bb6417",
   "metadata": {},
   "source": [
    "**Using the Model on Test Data**"
   ]
  },
  {
   "cell_type": "code",
   "execution_count": null,
   "id": "177a472e",
   "metadata": {},
   "outputs": [],
   "source": [
    "test_pred_LR = pipe.predict(test_data)"
   ]
  },
  {
   "cell_type": "markdown",
   "id": "9de2960e",
   "metadata": {},
   "source": [
    "**Storing the Output on Sample Submission**"
   ]
  },
  {
   "cell_type": "code",
   "execution_count": null,
   "id": "8a70cb16",
   "metadata": {},
   "outputs": [],
   "source": [
    "#Creating Dataframe to Display the output, The Id is the item id from the test data and output is the predicted cnt_per_month\n",
    "sample_submission= pd.read_csv(\"../input/spaceship-titanic/sample_submission.csv\")\n",
    "sample_submission.Transported=test_pred_LR\n",
    "LR_results=sample_submission\n",
    "print(LR_results)"
   ]
  },
  {
   "cell_type": "code",
   "execution_count": null,
   "id": "0c3c335e",
   "metadata": {},
   "outputs": [],
   "source": [
    "LR_results.to_csv(\"submission.csv\",index=False)\n",
    "print(\"Completed\")"
   ]
  },
  {
   "cell_type": "markdown",
   "id": "dcba0d12",
   "metadata": {},
   "source": [
    "**Completed**\n",
    "\n",
    "**Thank you for your feedbacks and Please upvote it if this notebook helped to learn something new**"
   ]
  }
 ],
 "metadata": {},
 "nbformat": 4,
 "nbformat_minor": 5
}
