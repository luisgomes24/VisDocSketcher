{
 "cells": [
  {
   "cell_type": "code",
   "execution_count": null,
   "id": "efce9518",
   "metadata": {},
   "outputs": [],
   "source": [
    "import pandas as pd\n",
    "train=pd.read_csv('/kaggle/input/playground-series-s3e17/train.csv')\n",
    "train.head()"
   ]
  },
  {
   "cell_type": "code",
   "execution_count": null,
   "id": "8edf1e98",
   "metadata": {},
   "outputs": [],
   "source": [
    "test=pd.read_csv('/kaggle/input/playground-series-s3e17/test.csv')\n",
    "test.head()"
   ]
  },
  {
   "cell_type": "code",
   "execution_count": null,
   "id": "b3ff2998",
   "metadata": {},
   "outputs": [],
   "source": [
    "train.nunique()"
   ]
  },
  {
   "cell_type": "code",
   "execution_count": null,
   "id": "4568dac4",
   "metadata": {},
   "outputs": [],
   "source": [
    "train.info()"
   ]
  },
  {
   "cell_type": "code",
   "execution_count": null,
   "id": "97200ecd",
   "metadata": {},
   "outputs": [],
   "source": [
    "train=train.drop(['id'],axis=1)\n",
    "train.head()"
   ]
  },
  {
   "cell_type": "code",
   "execution_count": null,
   "id": "9308003f",
   "metadata": {},
   "outputs": [],
   "source": [
    "test=test.drop(['id'],axis=1)\n",
    "test.head()"
   ]
  },
  {
   "cell_type": "code",
   "execution_count": null,
   "id": "b362c63b",
   "metadata": {},
   "outputs": [],
   "source": [
    "list(set(train['Product ID'].unique().tolist())^set(test['Product ID'].unique().tolist()))[:5]"
   ]
  },
  {
   "cell_type": "code",
   "execution_count": null,
   "id": "3d572cac",
   "metadata": {},
   "outputs": [],
   "source": [
    "train['Product ID'].value_counts()"
   ]
  },
  {
   "cell_type": "code",
   "execution_count": null,
   "id": "3b64be19",
   "metadata": {},
   "outputs": [],
   "source": [
    "train=train.drop(['Product ID'],axis=1)\n",
    "train.head()"
   ]
  },
  {
   "cell_type": "code",
   "execution_count": null,
   "id": "6aec7fdd",
   "metadata": {},
   "outputs": [],
   "source": [
    "test=test.drop(['Product ID'],axis=1)\n",
    "test.head()"
   ]
  },
  {
   "cell_type": "code",
   "execution_count": null,
   "id": "3f1a7c29",
   "metadata": {},
   "outputs": [],
   "source": [
    "round(train['Machine failure'].value_counts()*100/len(train),2)"
   ]
  },
  {
   "cell_type": "code",
   "execution_count": null,
   "id": "5a7482bb",
   "metadata": {},
   "outputs": [],
   "source": [
    "def reduce_mem_usage(df):\n",
    "    \"\"\" iterate through all the columns of a dataframe and modify the data type\n",
    "        to reduce memory usage.        \n",
    "    \"\"\"\n",
    "    start_mem = df.memory_usage().sum() / 1024**2\n",
    "    print('Memory usage of dataframe is {:.2f} MB'.format(start_mem))\n",
    "    \n",
    "    for col in df.columns:\n",
    "        col_type = df[col].dtype\n",
    "        \n",
    "        if col_type != object:\n",
    "            c_min = df[col].min()\n",
    "            c_max = df[col].max()\n",
    "            if str(col_type)[:3] == 'int':\n",
    "                if c_min > np.iinfo(np.int8).min and c_max < np.iinfo(np.int8).max:\n",
    "                    df[col] = df[col].astype(np.int8)\n",
    "                elif c_min > np.iinfo(np.int16).min and c_max < np.iinfo(np.int16).max:\n",
    "                    df[col] = df[col].astype(np.int16)\n",
    "                elif c_min > np.iinfo(np.int32).min and c_max < np.iinfo(np.int32).max:\n",
    "                    df[col] = df[col].astype(np.int32)\n",
    "                elif c_min > np.iinfo(np.int64).min and c_max < np.iinfo(np.int64).max:\n",
    "                    df[col] = df[col].astype(np.int64)  \n",
    "            else:\n",
    "                if c_min > np.finfo(np.float16).min and c_max < np.finfo(np.float16).max:\n",
    "                    df[col] = df[col].astype(np.float16)\n",
    "                elif c_min > np.finfo(np.float32).min and c_max < np.finfo(np.float32).max:\n",
    "                    df[col] = df[col].astype(np.float32)\n",
    "                else:\n",
    "                    df[col] = df[col].astype(np.float64)\n",
    "        else:\n",
    "            df[col] = df[col].astype('object')\n",
    "\n",
    "    end_mem = df.memory_usage().sum() / 1024**2\n",
    "    print('Memory usage after optimization is: {:.2f} MB'.format(end_mem))\n",
    "    print('Decreased by {:.1f}%'.format(100 * (start_mem - end_mem) / start_mem))\n",
    "    \n",
    "    return df"
   ]
  },
  {
   "cell_type": "code",
   "execution_count": null,
   "id": "735ed463",
   "metadata": {},
   "outputs": [],
   "source": [
    "import numpy as np\n",
    "train = reduce_mem_usage(train)\n",
    "train.info()"
   ]
  },
  {
   "cell_type": "code",
   "execution_count": null,
   "id": "2bc279e6",
   "metadata": {},
   "outputs": [],
   "source": [
    "test = reduce_mem_usage(test)\n",
    "test.info()"
   ]
  },
  {
   "cell_type": "code",
   "execution_count": null,
   "id": "d2fce2a8",
   "metadata": {},
   "outputs": [],
   "source": [
    "train.duplicated().value_counts()"
   ]
  },
  {
   "cell_type": "code",
   "execution_count": null,
   "id": "b2aa6e44",
   "metadata": {},
   "outputs": [],
   "source": [
    "test.duplicated().value_counts()"
   ]
  },
  {
   "cell_type": "code",
   "execution_count": null,
   "id": "1b631966",
   "metadata": {},
   "outputs": [],
   "source": [
    "train[train.duplicated()].head()"
   ]
  },
  {
   "cell_type": "code",
   "execution_count": null,
   "id": "d36e8b71",
   "metadata": {},
   "outputs": [],
   "source": [
    "test[test.duplicated()].head()"
   ]
  },
  {
   "cell_type": "code",
   "execution_count": null,
   "id": "85628174",
   "metadata": {},
   "outputs": [],
   "source": [
    "print(train.shape)\n",
    "train.drop_duplicates(inplace=True,keep='last')\n",
    "train.shape"
   ]
  },
  {
   "cell_type": "code",
   "execution_count": null,
   "id": "86378b37",
   "metadata": {},
   "outputs": [],
   "source": [
    "import re\n",
    "train = train.rename(columns = lambda x:re.sub('[^A-Za-z0-9_]+', '', x))\n",
    "train.head()"
   ]
  },
  {
   "cell_type": "code",
   "execution_count": null,
   "id": "5742d989",
   "metadata": {},
   "outputs": [],
   "source": [
    "test = test.rename(columns = lambda x:re.sub('[^A-Za-z0-9_]+', '', x))\n",
    "test.head()"
   ]
  },
  {
   "cell_type": "code",
   "execution_count": null,
   "id": "f0a0d746",
   "metadata": {},
   "outputs": [],
   "source": [
    "!pip install flaml\n",
    "from sklearn.metrics import mean_absolute_percentage_error"
   ]
  },
  {
   "cell_type": "code",
   "execution_count": null,
   "id": "bc4b4c3f",
   "metadata": {},
   "outputs": [],
   "source": [
    "from flaml import AutoML\n",
    "automl = AutoML()"
   ]
  },
  {
   "cell_type": "code",
   "execution_count": null,
   "id": "38ff4742",
   "metadata": {},
   "outputs": [],
   "source": [
    "y = train.pop('Machinefailure')\n",
    "X = train"
   ]
  },
  {
   "cell_type": "code",
   "execution_count": null,
   "id": "55e35924",
   "metadata": {},
   "outputs": [],
   "source": [
    "from sklearn.model_selection import train_test_split\n",
    "X_train, X_test, y_train, y_test = train_test_split( X, y, test_size=0.2, random_state=42,shuffle=True, stratify=y)"
   ]
  },
  {
   "cell_type": "code",
   "execution_count": null,
   "id": "728521a6",
   "metadata": {},
   "outputs": [],
   "source": [
    "automl.fit(X_train, y_train, task=\"classification\",metric='accuracy',time_budget=3600*4)"
   ]
  },
  {
   "cell_type": "code",
   "execution_count": null,
   "id": "0fb35a5f",
   "metadata": {},
   "outputs": [],
   "source": [
    "print('Best ML leaner:', automl.best_estimator)\n",
    "print('Best hyperparmeter config:', automl.best_config)\n",
    "print('Best accuracy on validation data: {0:.4g}'.format(1-automl.best_loss))\n",
    "print('Training duration of best run: {0:.4g} s'.format(automl.best_config_train_time))"
   ]
  },
  {
   "cell_type": "code",
   "execution_count": null,
   "id": "0049a953",
   "metadata": {},
   "outputs": [],
   "source": [
    "from sklearn.metrics import classification_report\n",
    "print(classification_report(y_train, automl.predict(X_train)))"
   ]
  },
  {
   "cell_type": "code",
   "execution_count": null,
   "id": "34fd3289",
   "metadata": {},
   "outputs": [],
   "source": [
    "print(classification_report(y_test, automl.predict(X_test)))"
   ]
  },
  {
   "cell_type": "code",
   "execution_count": null,
   "id": "563f71ae",
   "metadata": {},
   "outputs": [],
   "source": [
    "y_pred = automl.predict_proba(test)[:,1]\n",
    "y_pred[:5]"
   ]
  },
  {
   "cell_type": "code",
   "execution_count": null,
   "id": "5761db96",
   "metadata": {},
   "outputs": [],
   "source": [
    "df = pd.DataFrame(y_pred,columns=['Machine failure'])\n",
    "df.head()"
   ]
  },
  {
   "cell_type": "code",
   "execution_count": null,
   "id": "f00978a5",
   "metadata": {},
   "outputs": [],
   "source": [
    "sol=pd.read_csv('/kaggle/input/playground-series-s3e17/sample_submission.csv')\n",
    "sol.head()"
   ]
  },
  {
   "cell_type": "code",
   "execution_count": null,
   "id": "53856f2b",
   "metadata": {},
   "outputs": [],
   "source": [
    "sol['Machine failure']=df['Machine failure']\n",
    "sol.head()"
   ]
  },
  {
   "cell_type": "code",
   "execution_count": null,
   "id": "1d518ef9",
   "metadata": {},
   "outputs": [],
   "source": [
    "sol.to_csv('./accuracy.csv',index=False)"
   ]
  }
 ],
 "metadata": {},
 "nbformat": 4,
 "nbformat_minor": 5
}
