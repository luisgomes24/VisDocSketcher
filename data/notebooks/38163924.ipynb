{
 "cells": [
  {
   "cell_type": "code",
   "execution_count": null,
   "id": "2121f881",
   "metadata": {},
   "outputs": [],
   "source": [
    "import numpy as np\n",
    "import pandas as pd \n",
    "\n",
    "import matplotlib.pyplot as plt\n",
    "import seaborn as sns"
   ]
  },
  {
   "cell_type": "code",
   "execution_count": null,
   "id": "60702179",
   "metadata": {},
   "outputs": [],
   "source": [
    "df = pd.read_csv('/kaggle/input/advertising-dataset/Advertising.csv')\n",
    "df.head(5)"
   ]
  },
  {
   "cell_type": "markdown",
   "id": "e10d2081",
   "metadata": {},
   "source": [
    "This data expresses sales according to the type of advertisement and the size of the cost .\n",
    "The dataset contains 200 rows of 3 features [ TV , Radio , Newspaper] and target variable [Sales]."
   ]
  },
  {
   "cell_type": "markdown",
   "id": "61600a18",
   "metadata": {},
   "source": [
    "### EDA"
   ]
  },
  {
   "cell_type": "code",
   "execution_count": null,
   "id": "095014ce",
   "metadata": {},
   "outputs": [],
   "source": [
    "df.shape"
   ]
  },
  {
   "cell_type": "code",
   "execution_count": null,
   "id": "a13fbd86",
   "metadata": {},
   "outputs": [],
   "source": [
    "df.isna().sum().sum()"
   ]
  },
  {
   "cell_type": "code",
   "execution_count": null,
   "id": "551f0967",
   "metadata": {},
   "outputs": [],
   "source": [
    "df.describe()"
   ]
  },
  {
   "cell_type": "code",
   "execution_count": null,
   "id": "a091f7dd",
   "metadata": {},
   "outputs": [],
   "source": [
    "types = ['TV', 'Newspaper', 'Radio']"
   ]
  },
  {
   "cell_type": "code",
   "execution_count": null,
   "id": "659ecd09",
   "metadata": {},
   "outputs": [],
   "source": [
    "for count, t in enumerate(types):\n",
    "    plt.subplot(3, 1, count+ 1)\n",
    "    sns.boxplot(data=df, x=t)\n",
    "    plt.title(f'Distrubtion of {t} spending')\n",
    "plt.tight_layout()\n",
    "plt.show()"
   ]
  },
  {
   "cell_type": "code",
   "execution_count": null,
   "id": "4937b178",
   "metadata": {},
   "outputs": [],
   "source": [
    "df['total_cost'] = df['TV'] + df['Radio'] + df['Newspaper']"
   ]
  },
  {
   "cell_type": "markdown",
   "id": "3cce270a",
   "metadata": {},
   "source": [
    "Best fitting line"
   ]
  },
  {
   "cell_type": "code",
   "execution_count": null,
   "id": "5170d2b0",
   "metadata": {},
   "outputs": [],
   "source": [
    "X = np.array(df['total_cost'])\n",
    "y = np.array(df['Sales'])\n",
    "a, b = np.polyfit(X, y, 1)"
   ]
  },
  {
   "cell_type": "code",
   "execution_count": null,
   "id": "aee766f5",
   "metadata": {},
   "outputs": [],
   "source": [
    "sns.scatterplot(data=df, x='total_cost', y='Sales')\n",
    "plt.plot(X, a*X+b, color='green', label='best fit')\n",
    "plt.title('total_cost of advertisement with respect to Sales')\n",
    "plt.legend()\n",
    "plt.show()"
   ]
  },
  {
   "cell_type": "markdown",
   "id": "d9c7954f",
   "metadata": {},
   "source": [
    "It look like there is a strong linear relationship between total_sales and Sales. Let's see if one type of advertisement gives better results that other!"
   ]
  },
  {
   "cell_type": "code",
   "execution_count": null,
   "id": "b881f293",
   "metadata": {},
   "outputs": [],
   "source": [
    "sns.heatmap(df.drop(columns=['total_cost', 'Unnamed: 0']).corr(), annot=True)\n",
    "plt.title('Correlation matrix')"
   ]
  },
  {
   "cell_type": "code",
   "execution_count": null,
   "id": "a688f1bb",
   "metadata": {},
   "outputs": [],
   "source": [
    "df.loc[(df['Sales'] < df['Sales'].quantile(0.25)) & (df['Sales'] > df['Sales'].quantile(0.2))]"
   ]
  },
  {
   "cell_type": "code",
   "execution_count": null,
   "id": "228d799b",
   "metadata": {},
   "outputs": [],
   "source": [
    "plt.figure(figsize=(16,10))\n",
    "for count, split in enumerate([0.25, 0.50, 0.75, 1]):\n",
    "    if count != 0:\n",
    "\n",
    "        tmp_df = df.loc[(df['Sales'] < df['Sales'].quantile(split)) & (df['Sales'] > df['Sales'].quantile(split - 0.25))]\n",
    "    else:\n",
    "         tmp_df = df.loc[(df['Sales'] < df['Sales'].quantile(split))]\n",
    "    plt.subplot(4,1,count + 1)\n",
    "    for t in types:\n",
    "        sns.scatterplot(data=tmp_df, x=t,y='Sales', label=t)\n",
    "        plt.legend()\n",
    "    plt.title(f'Sales with respect to types of advertisement, plotting sales between {int(((split - 0.25) * 100))} and {int((split * 100))} percentile')\n",
    "plt.tight_layout()\n",
    "plt.show()"
   ]
  },
  {
   "cell_type": "markdown",
   "id": "179690f1",
   "metadata": {},
   "source": [
    "When TV cost definitely moves with Sales value, its harder to tell for the rest."
   ]
  },
  {
   "cell_type": "code",
   "execution_count": null,
   "id": "c1ed0438",
   "metadata": {},
   "outputs": [],
   "source": [
    "nan"
   ]
  },
  {
   "cell_type": "code",
   "execution_count": null,
   "id": "72ea8a5c",
   "metadata": {},
   "outputs": [],
   "source": [
    "nan"
   ]
  }
 ],
 "metadata": {},
 "nbformat": 4,
 "nbformat_minor": 5
}
