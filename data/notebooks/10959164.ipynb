{
 "cells": [
  {
   "cell_type": "markdown",
   "id": "95093ae6",
   "metadata": {},
   "source": [
    "#The pandemic advance \n",
    "\n",
    "Peru has to deal with an exponential increase in the number of dead and infected, after the end of a mandatory national quarantine. Today, the country is the second in the region with the most cases (395 thousand) and deaths (18,612), behind only Brazil.\n",
    "\n",
    "The prolonged confinement,  which started in mid-March, after the first reported case - was a blow to the economy of a country that, before the pandemic, had been growing above the Latin American average. GDP fell 17 per cent in the first five months of the year and more than 2.6 million jobs were lost, according to official data. Among the factors that explain the sharp drop is the high rate of informality, which reaches 70 per cent - and led to strong pressure to end the quarantine.\n",
    "\n",
    "The high level of informality, which led many young people to work on the streets despite the confinement, a number of other factors, such as the precarious health system and disinformation, contributed to the worsening of the health crisis in the country.\n",
    "\n",
    "The pandemic has reinforced structural health problems. There is a historic gap in the primary care system that cannot be resolved in four months. In addition, one in five households in the countryside lack basic services, such as water. In addition to the high level of informal work, especially among young people, the high displacement of workers helped to spread the pandemic, with the creation of so-called risk corridors. https://translate.google.com.br/translate?hl=en&sl=pt&u=https://oglobo.globo.com/mundo/suplica-de-mulher-presidente-peruano-vira-simbolo-do-avanco-da-pandemia-no-pais-24556588&prev=search&pto=aue"
   ]
  },
  {
   "cell_type": "code",
   "execution_count": null,
   "id": "0f7136e9",
   "metadata": {},
   "outputs": [],
   "source": [
    "# This Python 3 environment comes with many helpful analytics libraries installed\n",
    "# It is defined by the kaggle/python Docker image: https://github.com/kaggle/docker-python\n",
    "# For example, here's several helpful packages to load\n",
    "\n",
    "import numpy as np # linear algebra\n",
    "import pandas as pd # data processing, CSV file I/O (e.g. pd.read_csv)\n",
    "import matplotlib.pyplot as plt\n",
    "%matplotlib inline\n",
    "import seaborn as sns\n",
    "import plotly.express as px\n",
    "import plotly.graph_objects as go\n",
    "import plotly.offline as py\n",
    "import plotly.express as px\n",
    "\n",
    "# Input data files are available in the read-only \"../input/\" directory\n",
    "# For example, running this (by clicking run or pressing Shift+Enter) will list all files under the input directory\n",
    "\n",
    "import os\n",
    "for dirname, _, filenames in os.walk('/kaggle/input'):\n",
    "    for filename in filenames:\n",
    "        print(os.path.join(dirname, filename))\n",
    "\n",
    "# You can write up to 5GB to the current directory (/kaggle/working/) that gets preserved as output when you create a version using \"Save & Run All\" \n",
    "# You can also write temporary files to /kaggle/temp/, but they won't be saved outside of the current session"
   ]
  },
  {
   "cell_type": "markdown",
   "id": "9bb9a01d",
   "metadata": {},
   "source": [
    "In addition, the adoption of experimental measures to deal with the disease, such as the contested restriction of movement of people by gender on alternate days, which caused more crowds - historically it is women who shop - and lasted less than 15 days. Since March, when the pandemic began, the country has had three health ministers.\n",
    "\n",
    "Whenever a minister causes some noise in the government, he is replaced.\n",
    "\n",
    "The new program, \"Acelera Peru\" , will generate one million jobs and will start in August. And yet the President promised, perhaps  the creation of an \"orphan's pension\" of about R $ 300 per month for children up to the age of majority whose parents died from Covid-19.\n",
    "\n",
    "Reactivation is a national objective, there is no health without an economy - said the president, in an almost empty Congress, in a speech broadcast on television. - The quarantine saved many lives. \n",
    "\n",
    "https://translate.google.com.br/translate?hl=en&sl=pt&u=https://oglobo.globo.com/mundo/suplica-de-mulher-presidente-peruano-vira-simbolo-do-avanco-da-pandemia-no-pais-24556588&prev=search&pto=aue"
   ]
  },
  {
   "cell_type": "code",
   "execution_count": null,
   "id": "a9d2a184",
   "metadata": {},
   "outputs": [],
   "source": [
    "ls ../input/hackathon/task_1-google_search_txt_files_v2/PE/"
   ]
  },
  {
   "cell_type": "code",
   "execution_count": null,
   "id": "d873426f",
   "metadata": {},
   "outputs": [],
   "source": [
    "Peru = '../input/hackathon/task_1-google_search_txt_files_v2/PE/Peru-es-result-18.txt'"
   ]
  },
  {
   "cell_type": "markdown",
   "id": "db50f921",
   "metadata": {},
   "source": [
    "![](https://static.soundsandcolours.com/2020/05/cancion-al-covid19-768x432.jpg)\n",
    "In a continent world-renowned for its music, it’s no surprise that musicians across Latin American countries are using it as a weapon to fight the pandemic in the form of humour, escapism, entertainment and encouraging their fans to stay put during this time of great uncertainty. From “Corona” viral hits to romantic melodies about quarantine, Latino musicians are adapting their music to this new world, creating in their homes and on their mobile phones to make their message loud and clear.  https://soundsandcolours.com/articles/brazil/latin-american-coronavirus-songs-are-hitting-the-charts-51688/"
   ]
  },
  {
   "cell_type": "code",
   "execution_count": null,
   "id": "4a388b40",
   "metadata": {},
   "outputs": [],
   "source": [
    "text = open(Peru, 'r',encoding='utf-8',\n",
    "                 errors='ignore').read()"
   ]
  },
  {
   "cell_type": "code",
   "execution_count": null,
   "id": "20e286ab",
   "metadata": {},
   "outputs": [],
   "source": [
    "print(text[:2000])"
   ]
  },
  {
   "cell_type": "code",
   "execution_count": null,
   "id": "8c93958a",
   "metadata": {},
   "outputs": [],
   "source": [
    "df1 = pd.read_csv('../input/hackathon/task_2-Tuberculosis_infection_estimates_for_2018.csv', encoding='utf8')\n",
    "df1.head()"
   ]
  },
  {
   "cell_type": "code",
   "execution_count": null,
   "id": "4fad1f04",
   "metadata": {},
   "outputs": [],
   "source": [
    "from pandas_profiling import ProfileReport\n",
    "tuberculosis = ProfileReport(df1, title=\"Tuberculosis Infection Estimates\")"
   ]
  },
  {
   "cell_type": "code",
   "execution_count": null,
   "id": "8ccea187",
   "metadata": {},
   "outputs": [],
   "source": [
    "df = pd.read_csv('../input/hackathon/task_2-owid_covid_data-21_June_2020.csv')\n",
    "df.head()"
   ]
  },
  {
   "cell_type": "code",
   "execution_count": null,
   "id": "51f257f4",
   "metadata": {},
   "outputs": [],
   "source": [
    "peru = df[(df['location']=='Peru')].reset_index(drop=True)\n",
    "peru.head()"
   ]
  },
  {
   "cell_type": "code",
   "execution_count": null,
   "id": "bc5722c0",
   "metadata": {},
   "outputs": [],
   "source": [
    "fig = px.bar(peru, \n",
    "             x='gdp_per_capita', y='life_expectancy',color_discrete_sequence=['blue'],\n",
    "             title='Peru GDP per capita vs. Life expectancy', text='total_cases')\n",
    "fig.show()"
   ]
  },
  {
   "cell_type": "markdown",
   "id": "c8e114a4",
   "metadata": {},
   "source": [
    "#Codes from Niwanshu Maheshwari https://www.kaggle.com/niwanshu29/lending-club"
   ]
  },
  {
   "cell_type": "code",
   "execution_count": null,
   "id": "6e36163a",
   "metadata": {},
   "outputs": [],
   "source": [
    "# Distribution of different type of amount\n",
    "fig , ax = plt.subplots(1,3,figsize = (12,5))\n",
    "\n",
    "total_cases = peru.total_cases.values\n",
    "total_deaths = peru.total_deaths.values\n",
    "total_cases_per_million = peru.total_cases_per_million.values\n",
    "\n",
    "sns.distplot(total_cases , ax = ax[0] , color = 'blue').set_title('Covid-19 Total Cases' , fontsize = 14)\n",
    "sns.distplot(total_deaths , ax = ax[1] , color = 'cyan').set_title('Covid-19 Total Deaths' , fontsize = 14)\n",
    "sns.distplot(total_cases_per_million , ax = ax[2] , color = 'purple').set_title('Covid_19 Total Cases per Milion' , fontsize = 14)\n",
    "\n",
    "plt.show()"
   ]
  },
  {
   "cell_type": "code",
   "execution_count": null,
   "id": "d2fc7fd8",
   "metadata": {},
   "outputs": [],
   "source": [
    "fig , ((ax1,ax2),(ax3,ax4)) = plt.subplots(nrows = 2, ncols = 2, figsize = (14,6))\n",
    "\n",
    "sns.violinplot(x = 'total_cases' , y = 'new_cases' , data = peru , ax = ax1 , palette = 'Set2')\n",
    "sns.violinplot(x = 'total_cases' , y = 'total_deaths' , data = peru , ax = ax2 , palette = 'Set2')\n",
    "sns.boxplot(x = 'total_cases' , y = 'total_cases_per_million', data = peru, ax = ax3 , palette = 'Set2')\n",
    "sns.boxplot(x = 'total_cases',y = 'new_cases_per_million', data = peru, ax = ax4, palette = 'Set2')"
   ]
  },
  {
   "cell_type": "code",
   "execution_count": null,
   "id": "0e96956e",
   "metadata": {},
   "outputs": [],
   "source": [
    "f , (ax1,ax2) = plt.subplots(1,2,figsize = (15,6))\n",
    "cmap = plt.cm.coolwarm\n",
    "\n",
    "by_credit_score = peru.groupby(['date','total_deaths']).total_cases_per_million.mean()\n",
    "by_credit_score.unstack().plot(ax = ax1 , colormap = cmap)\n",
    "ax1.set_title('Covid19 Total Cases per Million Mean')\n",
    "\n",
    "by_inc = peru.groupby(['date','total_cases_per_million']).new_cases_per_million.mean()\n",
    "by_inc.unstack().plot( ax = ax2 , colormap = cmap)\n",
    "ax2.set_title('Covid19 New Cases per Million Mean')\n",
    "\n",
    "#ax2.legend(bbox_to_anchor=(-1.0, -0.3, 1.7, 0.1), loc=5, prop={'size':12},\n",
    " #          ncol=7, mode=\"expand\", borderaxespad=0.)"
   ]
  },
  {
   "cell_type": "code",
   "execution_count": null,
   "id": "1a4a1436",
   "metadata": {},
   "outputs": [],
   "source": [
    "fig = plt.figure(figsize = (20,10))\n",
    "ax1 = fig.add_subplot(221)\n",
    "ax2 = fig.add_subplot(222)\n",
    "ax3 = fig.add_subplot(212)\n",
    "sns.countplot(x = 'total_cases', hue = 'total_deaths',data = peru , ax = ax1 )\n",
    "ax1.set_title('Covid19 Total Cases')\n",
    "\n",
    "sns.countplot(x = 'new_cases', hue = 'new_cases_per_million',data = peru , ax = ax2 )\n",
    "ax2.set_title('Covid19 New Cases')\n",
    "\n",
    "sns.distplot(peru[peru.total_cases_per_million == 'Low']['total_cases'] , ax = ax3 , label = 'Covid19 Low rate',color = 'blue')\n",
    "sns.distplot(peru[peru.total_cases_per_million == 'High']['total_cases'] , ax = ax3 , label = 'Covid19 High Rate' , color = 'red')\n",
    "\n",
    "plt.legend()\n",
    "plt.show()"
   ]
  },
  {
   "cell_type": "code",
   "execution_count": null,
   "id": "69ac7d58",
   "metadata": {},
   "outputs": [],
   "source": [
    "plt.figure(figsize = (20,10))\n",
    "sns.countplot(x = 'total_cases' , hue = 'total_deaths' , data = peru)"
   ]
  },
  {
   "cell_type": "code",
   "execution_count": null,
   "id": "0a268701",
   "metadata": {},
   "outputs": [],
   "source": [
    "fig = px.bar(peru, \n",
    "             x='date', y='total_cases', color_discrete_sequence=['#4263f5'],\n",
    "             title='Peru Covid-19 Total Cases', text='total_cases_per_million')\n",
    "fig.show()"
   ]
  },
  {
   "cell_type": "code",
   "execution_count": null,
   "id": "b7dabcef",
   "metadata": {},
   "outputs": [],
   "source": [
    "fig = px.line(peru, x=\"date\", y=\"total_cases\", color_discrete_sequence=['darksalmon'], \n",
    "              title=\"Peru Covid-19 Total Cases\")\n",
    "fig.show()"
   ]
  },
  {
   "cell_type": "markdown",
   "id": "2ceba6b4",
   "metadata": {},
   "source": [
    "Das War's Kaggle Notebook Runner: marília Prata  @mpwolke"
   ]
  }
 ],
 "metadata": {},
 "nbformat": 4,
 "nbformat_minor": 5
}
