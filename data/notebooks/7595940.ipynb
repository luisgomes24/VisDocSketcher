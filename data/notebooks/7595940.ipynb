{
 "cells": [
  {
   "cell_type": "markdown",
   "id": "97773d00",
   "metadata": {},
   "source": [
    "* This kernel show the principal features that do anime get success\n"
   ]
  },
  {
   "cell_type": "code",
   "execution_count": null,
   "id": "31c180ca",
   "metadata": {},
   "outputs": [],
   "source": [
    "# This Python 3 environment comes with many helpful analytics libraries installed\n",
    "# It is defined by the kaggle/python docker image: https://github.com/kaggle/docker-python\n",
    "# For example, here's several helpful packages to load in \n",
    "\n",
    "import numpy as np # linear algebra\n",
    "import pandas as pd # data processing, CSV file I/O (e.g. pd.read_csv)\n",
    "\n",
    "# Input data files are available in the \"../input/\" directory.\n",
    "# For example, running this (by clicking run or pressing Shift+Enter) will list all files under the input directory\n",
    "\n",
    "import os\n",
    "for dirname, _, filenames in os.walk('/kaggle/input'):\n",
    "    for filename in filenames:\n",
    "        print(os.path.join(dirname, filename))\n",
    "\n",
    "# Any results you write to the current directory are saved as output."
   ]
  },
  {
   "cell_type": "code",
   "execution_count": null,
   "id": "90127d78",
   "metadata": {},
   "outputs": [],
   "source": [
    "animes = pd.read_csv('/kaggle/input/anime-recommendations-database/anime.csv')\n",
    "ratings = pd.read_csv('/kaggle/input/anime-recommendations-database/rating.csv')"
   ]
  },
  {
   "cell_type": "code",
   "execution_count": null,
   "id": "13f37802",
   "metadata": {},
   "outputs": [],
   "source": [
    "animes.head()"
   ]
  },
  {
   "cell_type": "code",
   "execution_count": null,
   "id": "55285f00",
   "metadata": {},
   "outputs": [],
   "source": [
    "dummies = pd.get_dummies(animes['genre'].str.get_dummies(sep=','))"
   ]
  },
  {
   "cell_type": "code",
   "execution_count": null,
   "id": "be5495f8",
   "metadata": {},
   "outputs": [],
   "source": [
    "import networkx as nx\n",
    "matrix = np.asmatrix(dummies.corr())\n",
    "G = nx.from_numpy_matrix(matrix)"
   ]
  },
  {
   "cell_type": "code",
   "execution_count": null,
   "id": "f1a23ef3",
   "metadata": {},
   "outputs": [],
   "source": [
    "\n",
    "def create_corr_network(G, corr_direction, min_correlation):\n",
    "    H = G.copy()\n",
    "    for stock1, stock2, weight in G.edges(data=True):\n",
    "        if corr_direction == \"positive\":\n",
    "            if weight[\"weight\"] <0 or weight[\"weight\"] < min_correlation:\n",
    "                H.remove_edge(stock1, stock2)\n",
    "        else:\n",
    "            if weight[\"weight\"] >=0 or weight[\"weight\"] > min_correlation:\n",
    "                H.remove_edge(stock1, stock2)\n",
    "                \n",
    "    edges,weights = zip(*nx.get_edge_attributes(H,'weight').items())\n",
    "    weights = tuple([(1+abs(x))**2 for x in weights])\n",
    "    d = nx.degree(H)\n",
    "    nodelist, node_sizes = zip(*d)\n",
    "    positions=nx.circular_layout(H)\n",
    "    \n",
    "    plt.figure(figsize=(10,10), dpi=72)\n",
    "\n",
    "    nx.draw_networkx_nodes(H,positions,node_color='#DA70D6',nodelist=nodelist,\n",
    "                           node_size=tuple([x**2 for x in node_sizes]),alpha=0.8)\n",
    "    \n",
    "    nx.draw_networkx_labels(H, positions, font_size=8, \n",
    "                            font_family='sans-serif')\n",
    "    \n",
    "    if corr_direction == \"positive\": edge_colour = plt.cm.GnBu \n",
    "    else: edge_colour = plt.cm.PuRd\n",
    "        \n",
    "    nx.draw_networkx_edges(H, positions, edge_list=edges,style='solid',\n",
    "                          width=weights, edge_color = weights, edge_cmap = edge_colour,\n",
    "                          edge_vmin = min(weights), edge_vmax=max(weights))\n",
    "    plt.axis('off')\n",
    "    plt.show()"
   ]
  },
  {
   "cell_type": "markdown",
   "id": "499f36ce",
   "metadata": {},
   "source": [
    "**Show Correlation of Genres**"
   ]
  },
  {
   "cell_type": "code",
   "execution_count": null,
   "id": "d8ff5c3b",
   "metadata": {},
   "outputs": [],
   "source": [
    "import seaborn as sns\n",
    "import matplotlib.pyplot as plt\n",
    "fig, ax = plt.subplots(figsize=(80,80)) \n",
    "\n",
    "sns.set(font_scale=5)\n",
    "\n",
    "sns.heatmap(dummies.corr(), annot_kws={\"size\": 16}, annot=True, fmt='.1f')\n"
   ]
  },
  {
   "cell_type": "markdown",
   "id": "5b40cfe6",
   "metadata": {},
   "source": [
    "* It's to hard understand this correlation matrix"
   ]
  },
  {
   "cell_type": "code",
   "execution_count": null,
   "id": "1ac539ac",
   "metadata": {},
   "outputs": [],
   "source": [
    "import matplotlib.pyplot as plt\n",
    "\n",
    "corr = dummies.corr()\n",
    "stocks = corr.index.values\n",
    "cor_matrix = np.asmatrix(corr)\n",
    "G = nx.from_numpy_matrix(cor_matrix)\n",
    "G = nx.relabel_nodes(G,lambda x: stocks[x])\n",
    "G.edges(data=True)\n",
    "\n",
    "create_corr_network(G, 'positive', 0.1)"
   ]
  },
  {
   "cell_type": "markdown",
   "id": "de6d4bb1",
   "metadata": {},
   "source": [
    "* So now we can see better the correlation about genres, the most strong correlation is Adventure and Action"
   ]
  },
  {
   "cell_type": "markdown",
   "id": "73743d67",
   "metadata": {},
   "source": [
    "***Distribution Of Rating***"
   ]
  },
  {
   "cell_type": "code",
   "execution_count": null,
   "id": "dc8a46db",
   "metadata": {},
   "outputs": [],
   "source": [
    "import seaborn as sns\n",
    "sns.set(font_scale=1)\n",
    "sns.kdeplot(animes['rating'], shade=True, color=\"r\")"
   ]
  },
  {
   "cell_type": "markdown",
   "id": "9b665359",
   "metadata": {},
   "source": [
    "* The rating distribuition over dataset is looklike normal distribuition, the most common rating is between 6 and 8"
   ]
  },
  {
   "cell_type": "code",
   "execution_count": null,
   "id": "8e748157",
   "metadata": {},
   "outputs": [],
   "source": [
    "a = animes[animes['episodes']!=\"Unknown\"]\n",
    "sns.kdeplot(a['episodes'], shade=True, color=\"r\")"
   ]
  },
  {
   "cell_type": "markdown",
   "id": "247dfe90",
   "metadata": {},
   "source": [
    "* Animes there are among 0 and 250 episodes, and exist a gap until 1500 and 1750 episodes"
   ]
  },
  {
   "cell_type": "code",
   "execution_count": null,
   "id": "1fd4b849",
   "metadata": {},
   "outputs": [],
   "source": [
    "sns.boxplot(animes['rating'])"
   ]
  },
  {
   "cell_type": "markdown",
   "id": "ec4a5617",
   "metadata": {},
   "source": [
    "* So box plot show us that not common the animes receive rating below 4 and above 8.7, this ratings can be interpreted as an anime the not very watched"
   ]
  },
  {
   "cell_type": "code",
   "execution_count": null,
   "id": "1638771d",
   "metadata": {},
   "outputs": [],
   "source": [
    "import matplotlib.pyplot as plt\n",
    "from matplotlib import rcParams\n",
    "import seaborn as sns\n",
    "sns.set(font_scale=5)\n",
    "\n",
    "rcParams['figure.figsize'] = 50, 20\n",
    "know_episodes = animes[animes['episodes']!='Unknown']\n",
    "know_episodes['episodes'] = know_episodes['episodes'].astype(int)\n",
    "\n",
    "sns.scatterplot(x=\"episodes\", y=\"rating\",palette=\"Set2\",data=know_episodes.sort_values('episodes'), s=100)\n",
    "ax.set_xticklabels(ax.get_xticklabels(), rotation=90)\n",
    "plt.show()"
   ]
  },
  {
   "cell_type": "markdown",
   "id": "8cfd3c11",
   "metadata": {},
   "source": [
    "* How that are so much animes with low number and a great variation of rationg"
   ]
  },
  {
   "cell_type": "code",
   "execution_count": null,
   "id": "269e1bba",
   "metadata": {},
   "outputs": [],
   "source": [
    "a.head()"
   ]
  },
  {
   "cell_type": "code",
   "execution_count": null,
   "id": "56bc15e3",
   "metadata": {},
   "outputs": [],
   "source": [
    "animes[animes['episodes']=='Unknown']"
   ]
  },
  {
   "cell_type": "code",
   "execution_count": null,
   "id": "6d87b8b0",
   "metadata": {},
   "outputs": [],
   "source": [
    "animes.isna().sum()"
   ]
  },
  {
   "cell_type": "code",
   "execution_count": null,
   "id": "96c41db1",
   "metadata": {},
   "outputs": [],
   "source": [
    "animes.head()"
   ]
  },
  {
   "cell_type": "code",
   "execution_count": null,
   "id": "7258d43a",
   "metadata": {},
   "outputs": [],
   "source": [
    "def count_genres(df):\n",
    "    amount_of_genres = []\n",
    "    df['genre'] = df['genre'].astype(str)\n",
    "    for genre in df['genre']:\n",
    "        if genre != 'NaN':\n",
    "            count = len(genre.split(','))\n",
    "            amount_of_genres.append(count)\n",
    "        else:\n",
    "            amount_of_genres.append(-1)\n",
    "    return amount_of_genres\n",
    "\n",
    "animes['Amount Genres'] = count_genres(animes)"
   ]
  },
  {
   "cell_type": "code",
   "execution_count": null,
   "id": "868e0caf",
   "metadata": {},
   "outputs": [],
   "source": [
    "sns.kdeplot(animes['Amount Genres']  ,shade=True, color=\"g\")"
   ]
  },
  {
   "cell_type": "code",
   "execution_count": null,
   "id": "3c005b8e",
   "metadata": {},
   "outputs": [],
   "source": [
    "nan"
   ]
  },
  {
   "cell_type": "code",
   "execution_count": null,
   "id": "f5410391",
   "metadata": {},
   "outputs": [],
   "source": [
    "cmap = sns.cubehelix_palette(dark=.3, light=.8, as_cmap=True)\n",
    "ax = sns.countplot(x=\"Amount Genres\", data=animes)"
   ]
  },
  {
   "cell_type": "markdown",
   "id": "0c06cf59",
   "metadata": {},
   "source": [
    "* When look for genre that are great density of 1 until 7, after that the number of genre deacrese drastically"
   ]
  },
  {
   "cell_type": "code",
   "execution_count": null,
   "id": "c04ceb37",
   "metadata": {},
   "outputs": [],
   "source": [
    "animes.head()"
   ]
  },
  {
   "cell_type": "code",
   "execution_count": null,
   "id": "0ce95072",
   "metadata": {},
   "outputs": [],
   "source": [
    "ax = sns.boxplot(x=\"Amount Genres\", y=\"rating\", data=animes)"
   ]
  },
  {
   "cell_type": "markdown",
   "id": "a2852d30",
   "metadata": {},
   "source": [
    "* Based on genre while the number of genres of the anime grows better it is classified"
   ]
  },
  {
   "cell_type": "code",
   "execution_count": null,
   "id": "81bd436b",
   "metadata": {},
   "outputs": [],
   "source": [
    "ax = sns.scatterplot(x=\"members\", y=\"rating\", data=animes)"
   ]
  },
  {
   "cell_type": "markdown",
   "id": "1875403d",
   "metadata": {},
   "source": [
    "* Members show how much peoples keep the anime in list, so how much people watch anime it tends to be more rated, animes with low number of members has in general low rated\n"
   ]
  },
  {
   "cell_type": "code",
   "execution_count": null,
   "id": "597c8e72",
   "metadata": {},
   "outputs": [],
   "source": [
    "ax = sns.countplot(x=\"type\",data=animes)"
   ]
  },
  {
   "cell_type": "code",
   "execution_count": null,
   "id": "29b7bed0",
   "metadata": {},
   "outputs": [],
   "source": [
    "ax = sns.boxplot(x=\"type\", y=\"rating\", data=animes)"
   ]
  },
  {
   "cell_type": "markdown",
   "id": "46a926d3",
   "metadata": {},
   "source": [
    "* Ona and Movie has the most regular behavior"
   ]
  },
  {
   "cell_type": "code",
   "execution_count": null,
   "id": "413c1d1e",
   "metadata": {},
   "outputs": [],
   "source": [
    "merged = pd.concat([animes, dummies], axis=1)\n",
    "merged.head()"
   ]
  },
  {
   "cell_type": "code",
   "execution_count": null,
   "id": "eaccd269",
   "metadata": {},
   "outputs": [],
   "source": [
    "from tqdm import tqdm\n",
    "fig, ax = plt.subplots(9, 10, figsize=(130,150))\n",
    "i = 0\n",
    "j=0\n",
    "for genre in tqdm(dummies.columns):\n",
    "    genre_ = merged[merged[genre]==1]\n",
    "    sns.kdeplot(list(genre_[\"rating\"]), shade=True, color=\"r\", ax=ax[i][j]).set_title('Genre rating ' +genre)\n",
    "    if (j % 9 ==0) and (j!=0):\n",
    "        i +=1 \n",
    "        j =0\n",
    "    j+=1\n",
    "fig.tight_layout()\n",
    "fig.show()"
   ]
  },
  {
   "cell_type": "markdown",
   "id": "cc7276ca",
   "metadata": {},
   "source": [
    "* Shounen, Sports, shoujos, school, Game are the genres with best ratings"
   ]
  },
  {
   "cell_type": "markdown",
   "id": "cdca9508",
   "metadata": {},
   "source": [
    "# Conclusion\n",
    "\n",
    "* Based only in metadata to for an anime to succeed need be until 250 episodes\n",
    "* need to have up to 7 genres\n",
    "* neeb be TV or movie type\n",
    "* and need have Shounen, Sports, shoujos, school or Game genre to reach a larger audience\n"
   ]
  }
 ],
 "metadata": {},
 "nbformat": 4,
 "nbformat_minor": 5
}
