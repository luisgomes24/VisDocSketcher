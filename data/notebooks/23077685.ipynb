{
 "cells": [
  {
   "cell_type": "markdown",
   "id": "866666e9",
   "metadata": {},
   "source": [
    "# BMI Prediction"
   ]
  },
  {
   "cell_type": "code",
   "execution_count": null,
   "id": "68bef97a",
   "metadata": {},
   "outputs": [],
   "source": [
    "#import library\n",
    "import pickle\n",
    "import pandas_profiling\n",
    "import numpy as np\n",
    "import pandas as pd\n",
    "import seaborn as sns\n",
    "import matplotlib.pyplot as plt\n",
    "from sklearn.model_selection import train_test_split\n",
    "from sklearn.preprocessing import LabelEncoder\n",
    "from sklearn.metrics import accuracy_score, log_loss\n",
    "from sklearn.linear_model import LogisticRegression\n",
    "from sklearn.neighbors import KNeighborsClassifier\n",
    "from sklearn.svm import LinearSVC\n",
    "from sklearn.tree import DecisionTreeClassifier\n",
    "from sklearn.ensemble import RandomForestClassifier, AdaBoostClassifier\n",
    "from sklearn.naive_bayes import GaussianNB\n",
    "from sklearn.discriminant_analysis import QuadraticDiscriminantAnalysis\n",
    "from xgboost import XGBClassifier\n",
    "import xgboost\n",
    "import math\n",
    "from sklearn import metrics"
   ]
  },
  {
   "cell_type": "markdown",
   "id": "31a52576",
   "metadata": {},
   "source": [
    "# Data Extraction"
   ]
  },
  {
   "cell_type": "code",
   "execution_count": null,
   "id": "2482cb24",
   "metadata": {},
   "outputs": [],
   "source": [
    "df = pd.read_csv('../input/bmidataset/bmi.csv')"
   ]
  },
  {
   "cell_type": "code",
   "execution_count": null,
   "id": "68c81741",
   "metadata": {},
   "outputs": [],
   "source": [
    "df.shape"
   ]
  },
  {
   "cell_type": "code",
   "execution_count": null,
   "id": "8673fea4",
   "metadata": {},
   "outputs": [],
   "source": [
    "df.head()"
   ]
  },
  {
   "cell_type": "code",
   "execution_count": null,
   "id": "f3550487",
   "metadata": {},
   "outputs": [],
   "source": [
    "df.describe()"
   ]
  },
  {
   "cell_type": "code",
   "execution_count": null,
   "id": "f4691d2d",
   "metadata": {},
   "outputs": [],
   "source": [
    "df.info()"
   ]
  },
  {
   "cell_type": "code",
   "execution_count": null,
   "id": "c65b27b4",
   "metadata": {},
   "outputs": [],
   "source": [
    "#correlation of each variable\n",
    "df.corr()"
   ]
  },
  {
   "cell_type": "markdown",
   "id": "d19f467e",
   "metadata": {},
   "source": [
    "# Exploratory Data Analysis (EDA)"
   ]
  },
  {
   "cell_type": "code",
   "execution_count": null,
   "id": "74f7081a",
   "metadata": {},
   "outputs": [],
   "source": [
    "df['Index'].value_counts()"
   ]
  },
  {
   "cell_type": "code",
   "execution_count": null,
   "id": "bdd7ef35",
   "metadata": {},
   "outputs": [],
   "source": [
    "df['Gender'].value_counts()"
   ]
  },
  {
   "cell_type": "code",
   "execution_count": null,
   "id": "99805dad",
   "metadata": {},
   "outputs": [],
   "source": [
    "#transform index column\n",
    "df.Index[df['Index'] == 0] = 'Extremely Weak'\n",
    "df.Index[df['Index'] == 1] = 'Weak'\n",
    "df.Index[df['Index'] == 2] = 'Normal'\n",
    "df.Index[df['Index'] == 3] = 'Overweight'\n",
    "df.Index[df['Index'] == 4] = 'Obesity'\n",
    "df.Index[df['Index'] == 5] = 'Extremely Obesity'\n",
    "df.head()"
   ]
  },
  {
   "cell_type": "markdown",
   "id": "6b58c69b",
   "metadata": {},
   "source": [
    "Variable of index :\n",
    "- 0 -> Extremely Week\n",
    "- 1 -> Weak\n",
    "- 2 -> Normal\n",
    "- 3 -> Overweight\n",
    "- 4 -> Obesity\n",
    "- 5 -> Extremely Obesity"
   ]
  },
  {
   "cell_type": "code",
   "execution_count": null,
   "id": "6086c2fe",
   "metadata": {},
   "outputs": [],
   "source": [
    "#analyze of index based on gender, height and weight\n",
    "pd.pivot_table(df, index = ['Index', 'Gender'], values = ['Height', 'Weight'], \n",
    "               aggfunc = {'Height' : np.mean, 'Weight' : np.mean}).sort_values(['Height', 'Weight'], ascending = False)"
   ]
  },
  {
   "cell_type": "code",
   "execution_count": null,
   "id": "0a482059",
   "metadata": {},
   "outputs": [],
   "source": [
    "#analyze the factor of BMI\n",
    "chart = df.boxplot(column = ['Height', 'Weight'])\n",
    "chart.set_xticklabels(chart.get_xticklabels(), rotation = 0)\n",
    "plt.title('The Factor of Body Mass Index', fontsize = 15, color = 'maroon', pad = 12)\n",
    "plt.xlabel('Factors')\n",
    "plt.ylabel('Count')\n",
    "plt.show()"
   ]
  },
  {
   "cell_type": "code",
   "execution_count": null,
   "id": "63ad2258",
   "metadata": {},
   "outputs": [],
   "source": [
    "#visualize average of height based on index and gender\n",
    "chart = df.groupby(['Index', 'Gender'])['Height'].mean().unstack().plot(kind = 'bar')\n",
    "chart.set_xticklabels(chart.get_xticklabels(), rotation = 45)\n",
    "plt.title('Average of Height based on Index and Gender', fontsize = 15, pad = 12, color = 'maroon')\n",
    "plt.xlabel('Index')\n",
    "plt.ylabel('Average of Height')\n",
    "plt.legend(bbox_to_anchor = (1.02, 1), loc = 2, borderaxespad = 0.)\n",
    "plt.show()"
   ]
  },
  {
   "cell_type": "code",
   "execution_count": null,
   "id": "217881b1",
   "metadata": {},
   "outputs": [],
   "source": [
    "#visualize average of weight based on index and gender\n",
    "chart = df.groupby(['Index', 'Gender'])['Weight'].mean().unstack().plot(kind = 'bar')\n",
    "chart.set_xticklabels(chart.get_xticklabels(), rotation = 45)\n",
    "plt.title('Average of Weight based on Index and Gender', fontsize = 15, pad = 12, color = 'maroon')\n",
    "plt.xlabel('Index')\n",
    "plt.ylabel('Average of Weight')\n",
    "plt.legend(bbox_to_anchor = (1.02, 1), loc = 2, borderaxespad = 0.)\n",
    "plt.show()"
   ]
  },
  {
   "cell_type": "code",
   "execution_count": null,
   "id": "b7bd234d",
   "metadata": {},
   "outputs": [],
   "source": [
    "#distribution of each variable\n",
    "df.hist()\n",
    "plt.show()"
   ]
  },
  {
   "cell_type": "code",
   "execution_count": null,
   "id": "71b5bdc4",
   "metadata": {},
   "outputs": [],
   "source": [
    "#profile report of each variable\n",
    "pandas_profiling.ProfileReport(df)"
   ]
  },
  {
   "cell_type": "markdown",
   "id": "d9f33f1b",
   "metadata": {},
   "source": [
    "# Classification Model"
   ]
  },
  {
   "cell_type": "code",
   "execution_count": null,
   "id": "3fceffe4",
   "metadata": {},
   "outputs": [],
   "source": [
    "#handling categorical data\n",
    "le = LabelEncoder()\n",
    "df['Gender'] = le.fit_transform(df['Gender'])\n",
    "df['Index'] = le.fit_transform(df['Index'])"
   ]
  },
  {
   "cell_type": "code",
   "execution_count": null,
   "id": "925c43de",
   "metadata": {},
   "outputs": [],
   "source": [
    "#split data\n",
    "X = df.drop('Index', axis = 1)\n",
    "y = df['Index']\n",
    "X_train, X_test, y_train, y_test = train_test_split(X, y, test_size = 0.3, random_state = 42)\n",
    "print(X_train.shape)\n",
    "print(y_train.shape)\n",
    "print(X_test.shape)\n",
    "print(y_test.shape)"
   ]
  },
  {
   "cell_type": "code",
   "execution_count": null,
   "id": "7cdea143",
   "metadata": {},
   "outputs": [],
   "source": [
    "#prepare models\n",
    "classifiers = [\n",
    "    KNeighborsClassifier(n_neighbors = 5),\n",
    "    LinearSVC(),\n",
    "    DecisionTreeClassifier(criterion = 'gini', max_depth = 3),\n",
    "    RandomForestClassifier(random_state = 1, max_features = 'sqrt', n_jobs = 1, verbose = 1),\n",
    "    XGBClassifier(),\n",
    "    AdaBoostClassifier(),\n",
    "    GaussianNB(),\n",
    "    QuadraticDiscriminantAnalysis()]"
   ]
  },
  {
   "cell_type": "code",
   "execution_count": null,
   "id": "0008de29",
   "metadata": {},
   "outputs": [],
   "source": [
    "#report models\n",
    "log_cols = [\"Classifier\", \"Accuracy\"]\n",
    "log = pd.DataFrame(columns = log_cols)\n",
    "\n",
    "for clf in classifiers:\n",
    "    clf.fit(X_train, y_train)\n",
    "    name = clf.__class__.__name__\n",
    "    print(\"=\" * 30)\n",
    "    print(name)\n",
    "    print('****Results****')\n",
    "    \n",
    "    train_predictions = clf.predict(X_test)\n",
    "    acc = accuracy_score(y_test, train_predictions)\n",
    "    print(\"Accuracy: {:.4%}\".format(acc))\n",
    "    print(\"\\n\")\n",
    "    \n",
    "    log_entry = pd.DataFrame([[name, acc * 100]], columns = log_cols)\n",
    "    log = log.append(log_entry)\n",
    "    \n",
    "print(\"=\" * 30)"
   ]
  },
  {
   "cell_type": "code",
   "execution_count": null,
   "id": "46af4d01",
   "metadata": {},
   "outputs": [],
   "source": [
    "#visualize accuracy models\n",
    "plt.figure(figsize = (10,6))\n",
    "sns.set_color_codes(\"muted\")\n",
    "sns.barplot(x = 'Accuracy', y = 'Classifier', data = log, color = \"lime\")\n",
    "plt.xlabel('Accuracy %')\n",
    "plt.title('Accuracy Score of Classification Model')\n",
    "plt.show()"
   ]
  },
  {
   "cell_type": "markdown",
   "id": "5a787954",
   "metadata": {},
   "source": [
    "Quadratic Discriminant Analysis is very suitable model to predict index from BMI (Body Mass Index) because has good accuracy score on 89%"
   ]
  },
  {
   "cell_type": "code",
   "execution_count": null,
   "id": "575e989a",
   "metadata": {},
   "outputs": [],
   "source": [
    "#fitting model\n",
    "qda = QuadraticDiscriminantAnalysis()\n",
    "%time qda.fit(X_train, y_train)"
   ]
  },
  {
   "cell_type": "code",
   "execution_count": null,
   "id": "2aca8823",
   "metadata": {},
   "outputs": [],
   "source": [
    "#prediction\n",
    "y_pred = qda.predict(X_test)\n",
    "print(y_pred)"
   ]
  },
  {
   "cell_type": "code",
   "execution_count": null,
   "id": "815de4c7",
   "metadata": {},
   "outputs": [],
   "source": [
    "#check of MSE & RMSE \n",
    "mse = metrics.mean_squared_error(y_test, y_pred)\n",
    "print('Mean Squared Error : '+ str(mse))\n",
    "rmse = math.sqrt(metrics.mean_squared_error(y_test, y_pred))\n",
    "print('Root Mean Squared Error : '+ str(rmse))"
   ]
  },
  {
   "cell_type": "code",
   "execution_count": null,
   "id": "11b7a2a9",
   "metadata": {},
   "outputs": [],
   "source": [
    "#confusion matrix\n",
    "matrix = pd.DataFrame((metrics.confusion_matrix(y_test, y_pred)), \n",
    "                      ('Extremely Weak', 'Weak', 'Normal', 'Overweight', 'Obesity', 'Extremely Obesity'), \n",
    "                      ('Extremely Weak', 'Weak', 'Normal', 'Overweight', 'Obesity', 'Extremely Obesity'))\n",
    "print(matrix)\n",
    "\n",
    "#visualize confusion matrix\n",
    "plt.figure(figsize = (8,6))\n",
    "heatmap = sns.heatmap(matrix, annot = True, annot_kws = {'size': 14}, fmt = 'd', cmap = 'YlGnBu')\n",
    "heatmap.yaxis.set_ticklabels(heatmap.yaxis.get_ticklabels(), rotation = 0, ha = 'right', fontsize = 14)\n",
    "heatmap.xaxis.set_ticklabels(heatmap.xaxis.get_ticklabels(), rotation = 45, ha = 'right', fontsize = 14)\n",
    "\n",
    "plt.title('Confusion Matrix\\n(Quadratic Discriminant Analysis)', fontsize = 18, color = 'darkblue')\n",
    "plt.ylabel('True label', fontsize = 14)\n",
    "plt.xlabel('Predicted label', fontsize = 14)\n",
    "plt.show()"
   ]
  },
  {
   "cell_type": "code",
   "execution_count": null,
   "id": "01b2b507",
   "metadata": {},
   "outputs": [],
   "source": [
    "#classification report\n",
    "report = metrics.classification_report(y_test, y_pred)\n",
    "print('Classification Report of Quadratic Discriminant Analysis : \\n')\n",
    "print(report)"
   ]
  },
  {
   "cell_type": "markdown",
   "id": "3a4300ca",
   "metadata": {},
   "source": [
    "# Deployment"
   ]
  },
  {
   "cell_type": "code",
   "execution_count": null,
   "id": "b4a0d10d",
   "metadata": {},
   "outputs": [],
   "source": [
    "#deploy the model\n",
    "qda.fit(X, y)\n",
    "pickle.dump(qda, open('quadratic_discriminant_analysis.pkl', 'wb'))"
   ]
  }
 ],
 "metadata": {},
 "nbformat": 4,
 "nbformat_minor": 5
}
