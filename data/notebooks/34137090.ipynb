{
 "cells": [
  {
   "cell_type": "code",
   "execution_count": null,
   "id": "0968c1b1",
   "metadata": {},
   "outputs": [],
   "source": [
    "# This Python 3 environment comes with many helpful analytics libraries installed\n",
    "# It is defined by the kaggle/python Docker image: https://github.com/kaggle/docker-python\n",
    "# For example, here's several helpful packages to load\n",
    "\n",
    "import numpy as np # linear algebra\n",
    "import pandas as pd # data processing, CSV file I/O (e.g. pd.read_csv)\n",
    "\n",
    "# Input data files are available in the read-only \"../input/\" directory\n",
    "# For example, running this (by clicking run or pressing Shift+Enter) will list all files under the input directory\n",
    "\n",
    "import os\n",
    "for dirname, _, filenames in os.walk('/kaggle/input'):\n",
    "    for filename in filenames:\n",
    "        print(os.path.join(dirname, filename))\n",
    "\n",
    "# You can write up to 20GB to the current directory (/kaggle/working/) that gets preserved as output when you create a version using \"Save & Run All\" \n",
    "# You can also write temporary files to /kaggle/temp/, but they won't be saved outside of the current session"
   ]
  },
  {
   "cell_type": "markdown",
   "id": "db5c88ed",
   "metadata": {},
   "source": [
    "# Pacakge Import"
   ]
  },
  {
   "cell_type": "code",
   "execution_count": null,
   "id": "95fb9e86",
   "metadata": {},
   "outputs": [],
   "source": [
    "import matplotlib.pyplot as plt\n",
    "import seaborn as sns\n",
    "\n",
    "from sklearn.model_selection import train_test_split,GridSearchCV\n",
    "from sklearn.preprocessing import OneHotEncoder,MinMaxScaler,StandardScaler,LabelEncoder\n",
    "from sklearn.compose import ColumnTransformer,make_column_selector\n",
    "\n",
    "from sklearn.metrics import classification_report,roc_auc_score,ConfusionMatrixDisplay,f1_score,accuracy_score\n",
    "from sklearn.exceptions import NotFittedError\n",
    "\n",
    "import tensorflow as tf\n",
    "\n",
    "sns.set_style('darkgrid')\n",
    "\n",
    "%matplotlib inline"
   ]
  },
  {
   "cell_type": "markdown",
   "id": "406014bf",
   "metadata": {},
   "source": [
    "# Data Import"
   ]
  },
  {
   "cell_type": "code",
   "execution_count": null,
   "id": "ffc6b425",
   "metadata": {},
   "outputs": [],
   "source": [
    "input_file='/kaggle/input/heart-attack-analysis-prediction-dataset/heart.csv'\n",
    "df=pd.read_csv(input_file)\n",
    "df.head()"
   ]
  },
  {
   "cell_type": "markdown",
   "id": "be9c4e13",
   "metadata": {},
   "source": [
    "# Null Heatmap"
   ]
  },
  {
   "cell_type": "code",
   "execution_count": null,
   "id": "0c17fc02",
   "metadata": {},
   "outputs": [],
   "source": [
    "plt.figure(figsize=(15,6))\n",
    "sns.heatmap(df.isna(),yticklabels=False)"
   ]
  },
  {
   "cell_type": "markdown",
   "id": "2997a5e0",
   "metadata": {},
   "source": [
    "# EDA (Describe, Info)"
   ]
  },
  {
   "cell_type": "code",
   "execution_count": null,
   "id": "2cdd1606",
   "metadata": {},
   "outputs": [],
   "source": [
    "df.describe()"
   ]
  },
  {
   "cell_type": "code",
   "execution_count": null,
   "id": "ab495da1",
   "metadata": {},
   "outputs": [],
   "source": [
    "df.info()"
   ]
  },
  {
   "cell_type": "markdown",
   "id": "4a59005d",
   "metadata": {},
   "source": [
    "# EDA"
   ]
  },
  {
   "cell_type": "code",
   "execution_count": null,
   "id": "c0f7a525",
   "metadata": {},
   "outputs": [],
   "source": [
    "category_column=['sex', 'cp', 'fbs', 'restecg', 'exng', 'slp', 'caa', 'thall']"
   ]
  },
  {
   "cell_type": "code",
   "execution_count": null,
   "id": "45d07f77",
   "metadata": {},
   "outputs": [],
   "source": [
    "for col in df.columns:\n",
    "    print(f\"{col:20} ----> {df[col].nunique():10} unique values\")"
   ]
  },
  {
   "cell_type": "code",
   "execution_count": null,
   "id": "f697117f",
   "metadata": {},
   "outputs": [],
   "source": [
    "plt.figure(figsize=(6,4))\n",
    "sns.countplot(data=df,x='output')\n",
    "plt.tight_layout()"
   ]
  },
  {
   "cell_type": "code",
   "execution_count": null,
   "id": "b1ce7817",
   "metadata": {},
   "outputs": [],
   "source": [
    "fig_1,ax_1=plt.subplots(1,3,figsize=(18,4))\n",
    "for i,col in enumerate(['sex','cp','fbs']):\n",
    "    sns.countplot(data=df,x=col,ax=ax_1[i])\n",
    "plt.tight_layout()"
   ]
  },
  {
   "cell_type": "code",
   "execution_count": null,
   "id": "f10cb314",
   "metadata": {},
   "outputs": [],
   "source": [
    "fig_1,ax_1=plt.subplots(1,3,figsize=(18,4))\n",
    "for i,col in enumerate(['restecg','exng','slp']):\n",
    "    sns.countplot(data=df,x=col,ax=ax_1[i])\n",
    "plt.tight_layout()"
   ]
  },
  {
   "cell_type": "code",
   "execution_count": null,
   "id": "9c519243",
   "metadata": {},
   "outputs": [],
   "source": [
    "fig_1,ax_1=plt.subplots(1,2,figsize=(12,4))\n",
    "for i,col in enumerate(['caa','thall']):\n",
    "    sns.countplot(data=df,x=col,ax=ax_1[i])\n",
    "plt.tight_layout()"
   ]
  },
  {
   "cell_type": "code",
   "execution_count": null,
   "id": "71553497",
   "metadata": {},
   "outputs": [],
   "source": [
    "plt.figure(figsize=(15,6))\n",
    "sns.heatmap(data=df.corr(),cmap='cividis',annot=True)\n",
    "plt.tight_layout()"
   ]
  },
  {
   "cell_type": "markdown",
   "id": "6783f634",
   "metadata": {},
   "source": [
    "# Data Preprocess Pipeline"
   ]
  },
  {
   "cell_type": "code",
   "execution_count": null,
   "id": "15f1f295",
   "metadata": {},
   "outputs": [],
   "source": [
    "df.info()"
   ]
  },
  {
   "cell_type": "code",
   "execution_count": null,
   "id": "707f4ef9",
   "metadata": {},
   "outputs": [],
   "source": [
    "# for col in category_column:\n",
    "#     df[col]=df[col].astype('object')"
   ]
  },
  {
   "cell_type": "code",
   "execution_count": null,
   "id": "0f321708",
   "metadata": {},
   "outputs": [],
   "source": [
    "# df.info()"
   ]
  },
  {
   "cell_type": "code",
   "execution_count": null,
   "id": "38836a0f",
   "metadata": {},
   "outputs": [],
   "source": [
    "# plt.figure(figsize=(15,6))\n",
    "# sns.heatmap(data=df.corr(),cmap='cividis',annot=True)\n",
    "# plt.tight_layout()"
   ]
  },
  {
   "cell_type": "code",
   "execution_count": null,
   "id": "460bcf76",
   "metadata": {},
   "outputs": [],
   "source": [
    "# cat_col_index=[1,2,5,6,8,10,11,12]\n",
    "# num_col_index=[0,3,4,7,9]"
   ]
  },
  {
   "cell_type": "code",
   "execution_count": null,
   "id": "ee5c9cb3",
   "metadata": {},
   "outputs": [],
   "source": [
    "oh=OneHotEncoder(drop='first',handle_unknown='ignore')\n",
    "\n",
    "ms,ss=MinMaxScaler(),StandardScaler()\n",
    "\n",
    "\n",
    "ct=ColumnTransformer([\n",
    "#     ('cat_encoder',oh,make_column_selector(dtype_include='object')),\n",
    "    ('num_encoder',ss,[0,3,4,7,9])\n",
    "],remainder='passthrough',verbose=True,n_jobs=-1)"
   ]
  },
  {
   "cell_type": "markdown",
   "id": "8d6dbbe3",
   "metadata": {},
   "source": [
    "# Separate X an y"
   ]
  },
  {
   "cell_type": "code",
   "execution_count": null,
   "id": "e9f98adb",
   "metadata": {},
   "outputs": [],
   "source": [
    "target='output'"
   ]
  },
  {
   "cell_type": "code",
   "execution_count": null,
   "id": "a59bba90",
   "metadata": {},
   "outputs": [],
   "source": [
    "X=df.drop([target],axis=1)\n",
    "y=df[[target]]\n",
    "X.head(1)"
   ]
  },
  {
   "cell_type": "code",
   "execution_count": null,
   "id": "f1f08180",
   "metadata": {},
   "outputs": [],
   "source": [
    "y.head(1)"
   ]
  },
  {
   "cell_type": "markdown",
   "id": "d2b9f740",
   "metadata": {},
   "source": [
    "# Train Test Split"
   ]
  },
  {
   "cell_type": "code",
   "execution_count": null,
   "id": "483192ce",
   "metadata": {},
   "outputs": [],
   "source": [
    "X_train,X_test,y_train,y_test=train_test_split(X,y,test_size=0.20,stratify=y,random_state=0)"
   ]
  },
  {
   "cell_type": "code",
   "execution_count": null,
   "id": "d1e554eb",
   "metadata": {},
   "outputs": [],
   "source": [
    "X_train.shape,y_train.shape"
   ]
  },
  {
   "cell_type": "code",
   "execution_count": null,
   "id": "81b4d6df",
   "metadata": {},
   "outputs": [],
   "source": [
    "X_test.shape,y_test.shape"
   ]
  },
  {
   "cell_type": "code",
   "execution_count": null,
   "id": "fc5a67b1",
   "metadata": {},
   "outputs": [],
   "source": [
    "X_test.head(2)"
   ]
  },
  {
   "cell_type": "code",
   "execution_count": null,
   "id": "9649fbc1",
   "metadata": {},
   "outputs": [],
   "source": [
    "y_test.head(2)"
   ]
  },
  {
   "cell_type": "markdown",
   "id": "d5121ea8",
   "metadata": {},
   "source": [
    "# Data Preprocess"
   ]
  },
  {
   "cell_type": "code",
   "execution_count": null,
   "id": "7917e74b",
   "metadata": {},
   "outputs": [],
   "source": [
    "X_train=ct.fit_transform(X_train)\n",
    "X_test=ct.transform(X_test)"
   ]
  },
  {
   "cell_type": "code",
   "execution_count": null,
   "id": "b5fbe784",
   "metadata": {},
   "outputs": [],
   "source": [
    "print(\"-\"*50)\n",
    "for i in ct.transformers_:\n",
    "    print(i)\n",
    "    if(i[0]!='remainder'):\n",
    "        print(i[1].get_feature_names_out())   \n",
    "    print(\"-\"*50)"
   ]
  },
  {
   "cell_type": "code",
   "execution_count": null,
   "id": "fac96de4",
   "metadata": {},
   "outputs": [],
   "source": [
    "X_train.shape,y_train.shape"
   ]
  },
  {
   "cell_type": "code",
   "execution_count": null,
   "id": "cab3cf92",
   "metadata": {},
   "outputs": [],
   "source": [
    "tup1=None;tup2=None\n",
    "try:\n",
    "    tup1=(X_test[0].toarray(),y_test.head(1).values)  # scientific notation\n",
    "    print(\"Sparse Matrix to Dense Array\")\n",
    "except:\n",
    "    tup2=(X_test[0],y_test.head(1).values) \n",
    "    print(\"Normal Matrix to Dense Array\")\n",
    "\n",
    "tup1 if(tup1) else tup2"
   ]
  },
  {
   "cell_type": "code",
   "execution_count": null,
   "id": "f4c4d2e6",
   "metadata": {},
   "outputs": [],
   "source": [
    "X_test.shape,y_test.shape"
   ]
  },
  {
   "cell_type": "markdown",
   "id": "7bbe6342",
   "metadata": {},
   "source": [
    "# Model fitting"
   ]
  },
  {
   "cell_type": "code",
   "execution_count": null,
   "id": "efd614f2",
   "metadata": {},
   "outputs": [],
   "source": [
    "def print_model_locations(model_list):\n",
    "    print(\"-\"*80)\n",
    "    i=0\n",
    "    for model in model_list:\n",
    "        print(model)\n",
    "        print(f\"{model.__class__.__name__:30} at index {i} and suffix {i+1}\")\n",
    "        print(\"-\"*80)\n",
    "        i+=1"
   ]
  },
  {
   "cell_type": "code",
   "execution_count": null,
   "id": "6a825e29",
   "metadata": {},
   "outputs": [],
   "source": [
    "def model_fitter(model_list):\n",
    "    print(\"-\"*50)\n",
    "    for reg in model_list:\n",
    "        reg_name=reg.__class__.__name__\n",
    "        reg.fit(X_train,y_train.values.ravel())\n",
    "        print(f\"Fitting {reg_name} done\")\n",
    "        print(\"-\"*50)"
   ]
  },
  {
   "cell_type": "code",
   "execution_count": null,
   "id": "7b36b740",
   "metadata": {},
   "outputs": [],
   "source": [
    "from sklearn.linear_model import SGDClassifier,LogisticRegressionCV\n",
    "\n",
    "from sklearn.svm import SVC\n",
    "\n",
    "from sklearn.tree import DecisionTreeClassifier,ExtraTreeClassifier\n",
    "\n",
    "from sklearn.ensemble import RandomForestClassifier,GradientBoostingClassifier,AdaBoostClassifier\n",
    "\n",
    "from xgboost import XGBClassifier\n",
    "\n",
    "from lightgbm import LGBMClassifier"
   ]
  },
  {
   "cell_type": "code",
   "execution_count": null,
   "id": "4d1655af",
   "metadata": {},
   "outputs": [],
   "source": [
    "clf_1 = LogisticRegressionCV(n_jobs=-1,cv=5,max_iter=3000)\n",
    "clf_8 =SGDClassifier(max_iter=3000)\n",
    "\n",
    "clf_2 = SVC()\n",
    "\n",
    "clf_3 = DecisionTreeClassifier()\n",
    "clf_4 = ExtraTreeClassifier()\n",
    "\n",
    "clf_5 = RandomForestClassifier(n_estimators=1000,n_jobs=-1)\n",
    "clf_6 = GradientBoostingClassifier(n_estimators=1000,learning_rate=0.01) \n",
    "clf_7 = AdaBoostClassifier(base_estimator=RandomForestClassifier(n_jobs=-1),n_estimators=1000,learning_rate=0.01)\n",
    "\n",
    "\n",
    "clf_9= XGBClassifier(n_estimators=1000,n_jobs=-1,learning_rate=0.01)\n",
    "clf_10 = LGBMClassifier(n_estimators=1000,n_jobs=-1,learning_rate=0.01)\n",
    "\n",
    "clf_list=[clf_3,clf_4,clf_5,clf_6,clf_7,clf_9,clf_10,clf_1,clf_2,clf_8]"
   ]
  },
  {
   "cell_type": "code",
   "execution_count": null,
   "id": "4f279c6d",
   "metadata": {},
   "outputs": [],
   "source": [
    "print_model_locations(clf_list)"
   ]
  },
  {
   "cell_type": "code",
   "execution_count": null,
   "id": "de19fafc",
   "metadata": {},
   "outputs": [],
   "source": [
    "%%time\n",
    "model_fitter(clf_list)"
   ]
  },
  {
   "cell_type": "markdown",
   "id": "7744ccae",
   "metadata": {},
   "source": [
    "# Testing"
   ]
  },
  {
   "cell_type": "code",
   "execution_count": null,
   "id": "7f3b8079",
   "metadata": {},
   "outputs": [],
   "source": [
    "score_dict={}"
   ]
  },
  {
   "cell_type": "code",
   "execution_count": null,
   "id": "0ff52f76",
   "metadata": {},
   "outputs": [],
   "source": [
    "def tester_func(model_list):\n",
    "    for i,clf in enumerate(model_list):\n",
    "        \n",
    "        clf_name = clf.__class__.__name__\n",
    "\n",
    "        try:\n",
    "            pred=clf.predict(X_test)\n",
    "        except NotFittedError as e:\n",
    "            print(repr(e))\n",
    "\n",
    "        print(\"-\"*80)\n",
    "        print(f\"Predicting {clf_name} done\")\n",
    "\n",
    "        score_dict[clf_name]={\n",
    "            'roc_auc_score':roc_auc_score(y_test.values,pred),\n",
    "            'f1_score':f1_score(y_test.values,pred),\n",
    "            'accuracy_score':accuracy_score(y_test.values,pred),\n",
    "            'model_index':int(i)\n",
    "        }\n",
    "    \n",
    "    print(\"-\"*80)"
   ]
  },
  {
   "cell_type": "code",
   "execution_count": null,
   "id": "67dc5291",
   "metadata": {},
   "outputs": [],
   "source": [
    "tester_func(clf_list)"
   ]
  },
  {
   "cell_type": "code",
   "execution_count": null,
   "id": "a33bc624",
   "metadata": {},
   "outputs": [],
   "source": [
    "score_pd=pd.DataFrame(score_dict).transpose().sort_values('roc_auc_score',ascending=False)\n",
    "score_pd"
   ]
  },
  {
   "cell_type": "code",
   "execution_count": null,
   "id": "20752c8f",
   "metadata": {},
   "outputs": [],
   "source": [
    "fig,ax=plt.subplots(1,3,figsize=(30,8))\n",
    "for axi,col in enumerate(score_pd.columns[:-1]):\n",
    "    sns.barplot(x=score_pd[col],y=score_pd.index,ax=ax[axi])\n",
    "plt.tight_layout()"
   ]
  },
  {
   "cell_type": "markdown",
   "id": "1976b175",
   "metadata": {},
   "source": [
    "# Confusion Matrix for the top model"
   ]
  },
  {
   "cell_type": "code",
   "execution_count": null,
   "id": "dedf5cf7",
   "metadata": {},
   "outputs": [],
   "source": [
    "score_pd.iloc[[0],:]"
   ]
  },
  {
   "cell_type": "code",
   "execution_count": null,
   "id": "197b81ae",
   "metadata": {},
   "outputs": [],
   "source": [
    "win_index=int(score_pd.iloc[0,-1])\n",
    "win_index"
   ]
  },
  {
   "cell_type": "code",
   "execution_count": null,
   "id": "75ac0875",
   "metadata": {},
   "outputs": [],
   "source": [
    "sns.set_style('white')\n",
    "ConfusionMatrixDisplay.from_predictions(y_test.values,clf_list[win_index].predict(X_test))"
   ]
  }
 ],
 "metadata": {},
 "nbformat": 4,
 "nbformat_minor": 5
}
