{
 "cells": [
  {
   "cell_type": "code",
   "execution_count": null,
   "id": "f4519066",
   "metadata": {},
   "outputs": [],
   "source": [
    "# This Python 3 environment comes with many helpful analytics libraries installed\n",
    "# It is defined by the kaggle/python docker image: https://github.com/kaggle/docker-python\n",
    "# For example, here's several helpful packages to load in \n",
    "import warnings; warnings.simplefilter('ignore')\n",
    "from sklearn.preprocessing import StandardScaler\n",
    "import numpy as np # linear algebra\n",
    "import pandas as pd # data processing, CSV file I/O (e.g. pd.read_csv)\n",
    "\n",
    "# Input data files are available in the \"../input/\" directory.\n",
    "# For example, running this (by clicking run or pressing Shift+Enter) will list all files under the input directory\n",
    "\n",
    "import os\n",
    "for dirname, _, filenames in os.walk('/kaggle/input'):\n",
    "    for filename in filenames:\n",
    "        print(os.path.join(dirname, filename))\n",
    "\n",
    "# Any results you write to the current directory are saved as output."
   ]
  },
  {
   "cell_type": "code",
   "execution_count": null,
   "id": "1f78a7f1",
   "metadata": {},
   "outputs": [],
   "source": [
    "train = pd.read_csv('/kaggle/input/unsw-nb15/UNSW_NB15_training-set.csv')\n",
    "test = pd.read_csv('/kaggle/input/unsw-nb15/UNSW_NB15_testing-set.csv')\n",
    "if train.shape[0]<100000:\n",
    "    print(\"Train test sets are reversed. Fixing. \")\n",
    "    train, test = test, train\n",
    "\n",
    "# https://www.kaggle.com/khairulislam/unsw-nb15-feature-importance\n",
    "drop_columns = ['attack_cat', 'id'] + ['response_body_len', 'spkts', 'ct_flw_http_mthd', 'trans_depth', 'dwin', 'ct_ftp_cmd', 'is_ftp_login']\n",
    "for df in [train, test]:\n",
    "    for col in drop_columns:\n",
    "        if col in df.columns:\n",
    "            print('Dropping '+col)\n",
    "            df.drop([col], axis=1, inplace=True)"
   ]
  },
  {
   "cell_type": "code",
   "execution_count": null,
   "id": "315ad458",
   "metadata": {},
   "outputs": [],
   "source": [
    "def feature_engineer(df):\n",
    "    df.loc[~df['state'].isin(['FIN', 'INT', 'CON', 'REQ', 'RST']), 'state'] = 'others'\n",
    "    df.loc[~df['service'].isin(['-', 'dns', 'http', 'smtp', 'ftp-data', 'ftp', 'ssh', 'pop3']), 'service'] = 'others'\n",
    "    df.loc[df['proto'].isin(['igmp', 'icmp', 'rtp']), 'proto'] = 'igmp_icmp_rtp'\n",
    "    df.loc[~df['proto'].isin(['tcp', 'udp', 'arp', 'ospf', 'igmp_icmp_rtp']), 'proto'] = 'others'\n",
    "    return df\n",
    "\n",
    "def get_cat_columns(train):\n",
    "    categorical = []\n",
    "    for col in train.columns:\n",
    "        if train[col].dtype == 'object':\n",
    "            categorical.append(col)\n",
    "    return categorical"
   ]
  },
  {
   "cell_type": "code",
   "execution_count": null,
   "id": "400fa41d",
   "metadata": {},
   "outputs": [],
   "source": [
    "x_train, y_train = train.drop(['label'], axis=1), train['label']\n",
    "x_test, y_test = test.drop(['label'], axis=1), test['label']\n",
    "\n",
    "x_train, x_test = feature_engineer(x_train), feature_engineer(x_test)\n",
    "\n",
    "categorical_columns = get_cat_columns(x_train)\n",
    "non_categorical_columns = [x for x in x_train.columns if x not in categorical_columns]\n",
    "\n",
    "scaler = StandardScaler()\n",
    "x_train[non_categorical_columns] = scaler.fit_transform(x_train[non_categorical_columns])\n",
    "x_test[non_categorical_columns] = scaler.transform(x_test[non_categorical_columns])\n",
    "\n",
    "\n",
    "x_train = pd.get_dummies(x_train)\n",
    "x_test = pd.get_dummies(x_test)\n",
    "print(\"Column mismatch {0}, {1}\".format(set(x_train.columns)- set(x_test.columns),  set(x_test.columns)- set(x_train.columns)))\n",
    "features = list(set(x_train.columns) & set(x_test.columns))\n",
    "\n",
    "print(f\"Number of features {len(features)}\")\n",
    "x_train = x_train[features]\n",
    "x_test = x_test[features]"
   ]
  },
  {
   "cell_type": "code",
   "execution_count": null,
   "id": "e8e2999b",
   "metadata": {},
   "outputs": [],
   "source": [
    "x_train['label'] = y_train\n",
    "x_test['label'] = y_test\n",
    "x_train.to_csv('train.csv', index=False)\n",
    "x_test.to_csv('test.csv', index=False)"
   ]
  }
 ],
 "metadata": {},
 "nbformat": 4,
 "nbformat_minor": 5
}
