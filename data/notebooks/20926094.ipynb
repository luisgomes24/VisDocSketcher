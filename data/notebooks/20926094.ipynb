{
 "cells": [
  {
   "cell_type": "markdown",
   "id": "2ba9519f",
   "metadata": {},
   "source": [
    "## Pima Indian Diabetes - Basic Exploratory Data Analysis"
   ]
  },
  {
   "cell_type": "markdown",
   "id": "4b889d3c",
   "metadata": {},
   "source": [
    "**Hello everyone!**\n",
    "\n",
    "*In this notebook I will be performing a basic, beginner-friendly, Exploratory Data Analysis (EDA) on the PIMA INDIAN DIABETES Dataset.*"
   ]
  },
  {
   "cell_type": "markdown",
   "id": "2f712aca",
   "metadata": {},
   "source": [
    "## Importing the liabraries\n",
    "NumPy is used for handling Numbers and performing numerical analysis. It is the fundamental package for array computing with Python.\n",
    "\n",
    "Pandas library should be imported.\n",
    "Pandas are used to process the data. Pandas contains data structures and data manipulation tools designed for data cleaning and analysis."
   ]
  },
  {
   "cell_type": "code",
   "execution_count": null,
   "id": "22c4bed2",
   "metadata": {},
   "outputs": [],
   "source": [
    "import numpy as np\n",
    "import pandas as pd"
   ]
  },
  {
   "cell_type": "code",
   "execution_count": null,
   "id": "c03a94a9",
   "metadata": {},
   "outputs": [],
   "source": [
    "import seaborn as sns\n",
    "import matplotlib.pyplot as plt\n",
    "%matplotlib inline "
   ]
  },
  {
   "cell_type": "code",
   "execution_count": null,
   "id": "e10f28cb",
   "metadata": {},
   "outputs": [],
   "source": [
    "pima=pd.read_csv(\"../input/docspot/datasets_228_482_diabetes.csv\")"
   ]
  },
  {
   "cell_type": "code",
   "execution_count": null,
   "id": "5649440a",
   "metadata": {},
   "outputs": [],
   "source": [
    "pima.tail(10) #last 10 records of dataset"
   ]
  },
  {
   "cell_type": "code",
   "execution_count": null,
   "id": "40bf4097",
   "metadata": {},
   "outputs": [],
   "source": [
    "pima.head(10) #first 10 records of dataset"
   ]
  },
  {
   "cell_type": "code",
   "execution_count": null,
   "id": "56a1e6fc",
   "metadata": {},
   "outputs": [],
   "source": [
    "pima.shape #dimensions of the dataset"
   ]
  },
  {
   "cell_type": "code",
   "execution_count": null,
   "id": "89c93bac",
   "metadata": {},
   "outputs": [],
   "source": [
    "pima.size #total number of observations"
   ]
  },
  {
   "cell_type": "code",
   "execution_count": null,
   "id": "3a20c978",
   "metadata": {},
   "outputs": [],
   "source": [
    "pima.info() #different data types of all variables"
   ]
  },
  {
   "cell_type": "code",
   "execution_count": null,
   "id": "1731bb26",
   "metadata": {},
   "outputs": [],
   "source": [
    "pima.isnull().values.any() #checking for missing values"
   ]
  },
  {
   "cell_type": "code",
   "execution_count": null,
   "id": "b0154181",
   "metadata": {},
   "outputs": [],
   "source": [
    "pima.iloc[:,0:8].describe() #summary of data present"
   ]
  },
  {
   "cell_type": "code",
   "execution_count": null,
   "id": "6991b241",
   "metadata": {},
   "outputs": [],
   "source": [
    "#histogram plot for blood pressure\n",
    "sns.displot(pima['BloodPressure'],kde=False,bins=6)\n",
    "plt.show()"
   ]
  },
  {
   "cell_type": "code",
   "execution_count": null,
   "id": "38946cea",
   "metadata": {},
   "outputs": [],
   "source": [
    "pima[pima['Glucose']==pima['Glucose'].max()]['BMI'] #BMI for person having highest glucose"
   ]
  },
  {
   "cell_type": "code",
   "execution_count": null,
   "id": "7b1e35c2",
   "metadata": {},
   "outputs": [],
   "source": [
    "m1 = pima['BMI'].mean()\n",
    "print(m1)\n",
    "m2 = pima['BMI'].median()\n",
    "print(m2)\n",
    "m3= pima['BMI'].mode()\n",
    "print(m3)"
   ]
  },
  {
   "cell_type": "code",
   "execution_count": null,
   "id": "282bf068",
   "metadata": {},
   "outputs": [],
   "source": [
    "#number of people above the mean level of 'Glucose'\n",
    "pima[pima['Glucose']>pima['Glucose'].mean()].shape[0] "
   ]
  },
  {
   "cell_type": "code",
   "execution_count": null,
   "id": "38f9a6c0",
   "metadata": {},
   "outputs": [],
   "source": [
    "#How many entries (people) have their 'BloodPressure' equal to the median of 'BloodPressure' and their 'BMI' less than the median of 'BMI'?\n",
    "pima[(pima['BloodPressure']==pima['BloodPressure'].median()) & (pima['BMI']<pima['BMI'].median())].shape[0]"
   ]
  },
  {
   "cell_type": "code",
   "execution_count": null,
   "id": "3d023745",
   "metadata": {},
   "outputs": [],
   "source": [
    "sns.pairplot(data=pima,vars=['Glucose', 'SkinThickness', 'DiabetesPedigreeFunction'],hue='Outcome')\n",
    "plt.show()"
   ]
  },
  {
   "cell_type": "code",
   "execution_count": null,
   "id": "a225b208",
   "metadata": {},
   "outputs": [],
   "source": [
    "plt.scatter(x='Glucose',y='Insulin',data=pima)\n",
    "plt.show()"
   ]
  },
  {
   "cell_type": "markdown",
   "id": "0537f10a",
   "metadata": {},
   "source": [
    "## Plot a histogram for variable Age to understand the number of women in different Age groups given that they have and do not have diabetes. "
   ]
  },
  {
   "cell_type": "code",
   "execution_count": null,
   "id": "dbc6a332",
   "metadata": {},
   "outputs": [],
   "source": [
    "plt.hist(pima[pima['Outcome']==1]['Age'], bins =5)\n",
    "plt.title('Distribution of Pregnancies for Women who has Diabetes')\n",
    "plt.xlabel('Age')\n",
    "plt.ylabel('Frequency')\n",
    "plt.show()"
   ]
  },
  {
   "cell_type": "code",
   "execution_count": null,
   "id": "a0b13750",
   "metadata": {},
   "outputs": [],
   "source": [
    "plt.hist(pima[pima['Outcome']==0]['Age'], bins =5)\n",
    "plt.title('Distribution of Pregnancies for Women who dont have Diabetes')\n",
    "plt.xlabel('Age')\n",
    "plt.ylabel('Frequency')\n",
    "plt.show()"
   ]
  },
  {
   "cell_type": "markdown",
   "id": "e25cebcb",
   "metadata": {},
   "source": [
    "## Plotting a boxplot for the age variable"
   ]
  },
  {
   "cell_type": "code",
   "execution_count": null,
   "id": "69a9563a",
   "metadata": {},
   "outputs": [],
   "source": [
    "plt.boxplot(pima['Age'])\n",
    "\n",
    "plt.title('Boxplot of Age')\n",
    "plt.ylabel('Age')\n",
    "plt.show()"
   ]
  },
  {
   "cell_type": "code",
   "execution_count": null,
   "id": "479aaa72",
   "metadata": {},
   "outputs": [],
   "source": [
    "corr_matrix = pima.iloc[:,0:8].corr()\n",
    "\n",
    "corr_matrix"
   ]
  },
  {
   "cell_type": "code",
   "execution_count": null,
   "id": "0056d010",
   "metadata": {},
   "outputs": [],
   "source": [
    "sns.heatmap(corr_matrix, annot = True)\n",
    "\n",
    "# display the plot\n",
    "plt.show()"
   ]
  },
  {
   "cell_type": "markdown",
   "id": "e292c9de",
   "metadata": {},
   "source": [
    "## END OF THE EDA"
   ]
  },
  {
   "cell_type": "markdown",
   "id": "8bd9483c",
   "metadata": {},
   "source": [
    "**Hope you liked the Exploratory Data Analysis!**"
   ]
  }
 ],
 "metadata": {},
 "nbformat": 4,
 "nbformat_minor": 5
}
