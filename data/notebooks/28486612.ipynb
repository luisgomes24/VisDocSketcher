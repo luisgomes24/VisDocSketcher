{
 "cells": [
  {
   "cell_type": "markdown",
   "id": "3b5c64ca",
   "metadata": {},
   "source": [
    "# <p style=\"padding:10px;background-color:#0f4c5c;margin:0;color:white;font-family:newtimeroman;font-size:150%;text-align:center;border-radius: 15px 50px;overflow:hidden;font-weight:500\">Ramen Ratings Analysis</p>\n",
    "\n",
    "<p style=\"text-align:center; \">\n",
    "<img src=\"https://imgix.theurbanlist.com/content/article/ParcoRamen_MooneePonds_2021_LobsterTail.png\" style='width: 600px; height: 300px;'>\n",
    "</p>\n",
    "\n",
    "\n",
    "<p style=\"text-align:justify; \">\n",
    "    \n",
    "<B>Ramen</B> is a Japanese noodle dish. It consists of Chinese-style wheat noodles (chūkamen) served in a meat-based broth, often flavored with soy sauce or miso and uses toppings such as sliced pork, nori (dried seaweed), menma and scallions. Ramen has its roots in Chinese noodle dishes: nearly every region in Japan has its own variation of ramen, such as the tonkotsu (pork bone broth) ramen of Kyushu and the miso ramen of Hokkaido. Mazemen is a ramen dish that is not served in a soup but rather with a sauce (such as tare).\n",
    "\n",
    "We're going to read in, clean up and visualize the <B>Top Ramen Ratings</B> Dataset.\n",
    "</p> \n",
    "\n",
    "\n",
    "<a id='top'></a>\n",
    "<div class=\"list-group\" id=\"list-tab\" role=\"tablist\">\n",
    "<p style=\"padding:10px;background-color:orange;margin:0;color:black;font-family:newtimeroman;font-size:130%;text-align:center;border-radius: 15px 50px;overflow:hidden;font-weight:500\">Table Of Contents</p>   \n",
    "    \n",
    "\n",
    "    \n",
    "|No  | Contents |No  | Contents  |\n",
    "|:---| :---     |:---| :----     |\n",
    "|1   | [<font color=\"#0f4c5c\"> Importing Libraries</font>](#1)                   |8   | [<font color=\"#0f4c5c\"> Unique Ramen Ratings</font>](#8)   |     \n",
    "|2   | [<font color=\"#0f4c5c\"> About Dataset</font>](#2)                         |9  | [<font color=\"#0f4c5c\"> Origin Based Ramen Ratings</font>](#9)|      \n",
    "|3   | [<font color=\"#0f4c5c\"> Basic Exploration</font>](#3)                     |10  | [<font color=\"#0f4c5c\"> Ramen Categories</font>](#10)   |    \n",
    "|4   | [<font color=\"#0f4c5c\"> Dataset Summary</font>](#4)                       |11  | [<font color=\"#0f4c5c\"> Ramen Brand's Rating Density</font>](#11)    |       \n",
    "|5   | [<font color=\"#0f4c5c\"> Digging Deeper</font>](#5)      |12  | [<font color=\"#0f4c5c\"> Correlation Heatmap</font>](#12)  |     \n",
    "|6   | [<font color=\"#0f4c5c\"> Custom Palette For Visualization</font>](#6)              |13  | [<font color=\"#0f4c5c\"> Thank You</font>](#13)     |     \n",
    "|7   | [<font color=\"#0f4c5c\"> Ramen Origins</font>](#7)                 |   \n",
    "\n",
    "   "
   ]
  },
  {
   "cell_type": "markdown",
   "id": "336be115",
   "metadata": {},
   "source": [
    "<a id=\"1\"></a>\n",
    "# <p style=\"padding:10px;background-color:orange;margin:0;color:black;font-family:newtimeroman;font-size:100%;text-align:center;border-radius: 15px 50px;overflow:hidden;font-weight:500\">Importing Libraries</p>"
   ]
  },
  {
   "cell_type": "code",
   "execution_count": null,
   "id": "dd152887",
   "metadata": {},
   "outputs": [],
   "source": [
    "import numpy as np\n",
    "import pandas as pd\n",
    "import matplotlib.pyplot as plt\n",
    "import seaborn as sns\n",
    "\n",
    "import warnings\n",
    "warnings.filterwarnings('ignore')"
   ]
  },
  {
   "cell_type": "markdown",
   "id": "8c618782",
   "metadata": {},
   "source": [
    "<a id=\"2\"></a>\n",
    "# <p style=\"padding:10px;background-color:orange;margin:0;color:black;font-family:newtimeroman;font-size:100%;text-align:center;border-radius: 15px 50px;overflow:hidden;font-weight:500\">About Dataset</p>"
   ]
  },
  {
   "cell_type": "markdown",
   "id": "d8c1a5d8",
   "metadata": {},
   "source": [
    "The list helps to analyse and check the ramen ratings from the best places in the world.\n",
    "The dataset has been extracted from this [site](https://www.theramenrater.com/)\n",
    "\n",
    "**Inspiration :** \n",
    "\n",
    "The food reviews and ranks would definitely help to understand the food joints, locations, the quality and how popular those ramen places are. This would also affect the small and medium outlets, thereby effecting the economy who are working in these chains to earn their incomes."
   ]
  },
  {
   "cell_type": "code",
   "execution_count": null,
   "id": "dbd153ca",
   "metadata": {},
   "outputs": [],
   "source": [
    "ramen_df = pd.read_csv(\"../input/top-ramen-ratings-2022/Top Ramen Ratings .csv\")"
   ]
  },
  {
   "cell_type": "markdown",
   "id": "63e15c58",
   "metadata": {},
   "source": [
    "<a id=\"3\"></a>\n",
    "# <p style=\"padding:10px;background-color:orange;margin:0;color:black;font-family:newtimeroman;font-size:100%;text-align:center;border-radius: 15px 50px;overflow:hidden;font-weight:500\">Basic Exploration</p>\n"
   ]
  },
  {
   "cell_type": "markdown",
   "id": "9cf9b833",
   "metadata": {},
   "source": [
    "**Let's have a glimpse of the dataset.**"
   ]
  },
  {
   "cell_type": "code",
   "execution_count": null,
   "id": "37b5bb2b",
   "metadata": {},
   "outputs": [],
   "source": [
    "ramen_df.head().style.set_properties(**{\"background-color\": \"#2a9d8f\",\"color\":\"white\",\"border\": \"1.5px  solid black\"})"
   ]
  },
  {
   "cell_type": "code",
   "execution_count": null,
   "id": "b6eba01a",
   "metadata": {},
   "outputs": [],
   "source": [
    "ramen_df.info()"
   ]
  },
  {
   "cell_type": "markdown",
   "id": "411da5b7",
   "metadata": {},
   "source": [
    "We can see **T** column does not have any single value stored in it. Let's drop the unnecessary column and rename the **Review #** column to **Review**."
   ]
  },
  {
   "cell_type": "code",
   "execution_count": null,
   "id": "f48be60e",
   "metadata": {},
   "outputs": [],
   "source": [
    "ramen_df.rename(columns={\"Review #\" : \"Review\"},inplace=True)\n",
    "ramen_df.drop(columns=\"T\",inplace=True)\n",
    "print(\"After dropping and renaming, let's have a glimpse of the dataset :\")\n",
    "ramen_df.head().style.set_properties(**{\"background-color\": \"#2a9d8f\",\"color\":\"white\",\"border\": \"1.5px  solid black\"})"
   ]
  },
  {
   "cell_type": "code",
   "execution_count": null,
   "id": "4ed9e23b",
   "metadata": {},
   "outputs": [],
   "source": [
    "print(\"Null values of the dataset :\")\n",
    "ramen_df.isnull().sum().to_frame().T.style.set_properties(**{\"background-color\": \"#2a9d8f\",\"color\":\"white\",\"border\": \"1.5px  solid black\"})"
   ]
  },
  {
   "cell_type": "markdown",
   "id": "f010fc78",
   "metadata": {},
   "source": [
    "**Insights :**\n",
    "* There is no null value right now in the dataset. Let's have look about the data types of the features."
   ]
  },
  {
   "cell_type": "code",
   "execution_count": null,
   "id": "027a3e36",
   "metadata": {},
   "outputs": [],
   "source": [
    "print(\"Data types of the features :\")\n",
    "ramen_df.dtypes.to_frame().T.style.set_properties(**{\"background-color\": \"#2a9d8f\",\"color\":\"white\",\"border\": \"1.5px  solid black\"})"
   ]
  },
  {
   "cell_type": "markdown",
   "id": "e91f218d",
   "metadata": {},
   "source": [
    "**Insights :**\n",
    "* We can see **Stars** is in **object** data type. We will convert this to **float**. For this let's check if there is any irrelevant values or entries that are wrongly recorded which can be avoided."
   ]
  },
  {
   "cell_type": "code",
   "execution_count": null,
   "id": "fd22ff2f",
   "metadata": {},
   "outputs": [],
   "source": [
    "print(\"Checking for irrelevant entries :\\n\")\n",
    "print(ramen_df[\"Stars\"].unique())"
   ]
  },
  {
   "cell_type": "code",
   "execution_count": null,
   "id": "d12f8bc1",
   "metadata": {},
   "outputs": [],
   "source": [
    "# ramen_df=ramen_df[~ramen_df[\"Stars\"].isin([\"Unrated\",\"NS\",\"NR\"])]\n",
    "ramen_df=ramen_df[ramen_df[\"Stars\"].isin([\"Unrated\",\"NS\",\"NR\",\"3.5/2.5\",\"4/4\",\"5/5\",\"4.5/5\",\"5/2.5\",\"5/4\",\"4.25/5\",\"\"])==False]\n",
    "print(\"After dropping the irrelevant entries, the ratings are :\\n\")\n",
    "print(ramen_df[\"Stars\"].unique())\n",
    "print(f\"\\nAfter dropping the irrelevant entries, the shape of the dataset is : {ramen_df.shape}\")"
   ]
  },
  {
   "cell_type": "code",
   "execution_count": null,
   "id": "62d8568a",
   "metadata": {},
   "outputs": [],
   "source": [
    "ramen_df[\"Stars\"] = ramen_df[\"Stars\"].astype(float)\n",
    "print(\"After converting the data types :\")\n",
    "ramen_df.dtypes.to_frame().T.style.set_properties(**{\"background-color\": \"#2a9d8f\",\"color\":\"white\",\"border\": \"1.5px  solid black\"})"
   ]
  },
  {
   "cell_type": "markdown",
   "id": "d88617f3",
   "metadata": {},
   "source": [
    "<a id=\"4\"></a>\n",
    "# <p style=\"padding:10px;background-color:orange;margin:0;color:black;font-family:newtimeroman;font-size:100%;text-align:center;border-radius: 15px 50px;overflow:hidden;font-weight:500\">Dataset Summary</p>\n"
   ]
  },
  {
   "cell_type": "code",
   "execution_count": null,
   "id": "9523ecf4",
   "metadata": {},
   "outputs": [],
   "source": [
    "print(\"Let's have a glimpse of the summary of the dataset :\")\n",
    "ramen_df.describe().T.style.set_properties(**{\"background-color\": \"#2a9d8f\",\"color\":\"white\",\"border\": \"1.5px  solid black\"})"
   ]
  },
  {
   "cell_type": "code",
   "execution_count": null,
   "id": "f0344fff",
   "metadata": {},
   "outputs": [],
   "source": [
    "ramen_df.describe(include=\"object\").T.style.set_properties(**{\"background-color\": \"#2a9d8f\",\"color\":\"white\",\"border\": \"1.5px  solid black\"})"
   ]
  },
  {
   "cell_type": "markdown",
   "id": "0f604a36",
   "metadata": {},
   "source": [
    "<a id=\"5\"></a>\n",
    "# <p style=\"padding:10px;background-color:orange;margin:0;color:black;font-family:newtimeroman;font-size:100%;text-align:center;border-radius: 15px 50px;overflow:hidden;font-weight:500\">Digging Deeper</p>\n"
   ]
  },
  {
   "cell_type": "code",
   "execution_count": null,
   "id": "03e83af1",
   "metadata": {},
   "outputs": [],
   "source": [
    "print(f'Total entries for brands is {ramen_df[\"Brand\"].shape[0]}\\n')\n",
    "print(f'Total number of unique brands is {len(ramen_df[\"Brand\"].unique())}. They are :')\n",
    "ramen_df[\"Brand\"].unique()"
   ]
  },
  {
   "cell_type": "code",
   "execution_count": null,
   "id": "603d5cf9",
   "metadata": {},
   "outputs": [],
   "source": [
    "print(\"Entries for each brand :\")\n",
    "ramen_df[\"Brand\"].value_counts().to_frame().T.style.set_properties(**{\"background-color\": \"#2a9d8f\",\"color\":\"white\",\"border\": \"1.5px  solid black\"})"
   ]
  },
  {
   "cell_type": "markdown",
   "id": "a18e302c",
   "metadata": {},
   "source": [
    "**Insights :**\n",
    "* There are **614 brands** who produce Ramen enlishted in this dataset. \n",
    "* **Nissin** is the popular brand followed by **Maruchan**,**Myojo**, **NongShim**, **Samyang Foods** and others"
   ]
  },
  {
   "cell_type": "code",
   "execution_count": null,
   "id": "af8546fb",
   "metadata": {},
   "outputs": [],
   "source": [
    "# print(ramen_df[\"Variety\"].shape)\n",
    "print(f'There are {len(ramen_df[\"Variety\"].unique())} unique variations. They are :\\n')\n",
    "print(ramen_df[\"Variety\"].unique())"
   ]
  },
  {
   "cell_type": "code",
   "execution_count": null,
   "id": "90a01e16",
   "metadata": {},
   "outputs": [],
   "source": [
    "print(\"Let's have a glimpse of the popular variations :\")\n",
    "ramen_df[\"Variety\"].value_counts().to_frame().T.style.set_properties(**{\"background-color\": \"#2a9d8f\",\"color\":\"white\",\"border\": \"1.5px  solid black\"})"
   ]
  },
  {
   "cell_type": "markdown",
   "id": "bac4e480",
   "metadata": {},
   "source": [
    "**Insights :**\n",
    "* There are **3814 unique varients** of Ramen that are rated by people and enlishted in this dataset. \n",
    "* People rated **Miso Ramen** most followed by **Beef**, **Yakisoba**, **Chicken** and others."
   ]
  },
  {
   "cell_type": "code",
   "execution_count": null,
   "id": "7e9af218",
   "metadata": {},
   "outputs": [],
   "source": [
    "print(\"Let's have a glimpse of the categories :\")\n",
    "ramen_df[\"Style\"].value_counts().to_frame().T.style.set_properties(**{\"background-color\": \"#2a9d8f\",\"color\":\"white\",\"border\": \"1.5px  solid black\"})"
   ]
  },
  {
   "cell_type": "markdown",
   "id": "2adc0d0f",
   "metadata": {},
   "source": [
    "**Insights :**\n",
    "* There are **9 different style or categories** of Ramen are rated in this dataset. \n",
    "* **Pack** is the highest rated and **Bar**, **Bottle**, **Can** categories got the least amount of people's ratings which is only one rating for each of them."
   ]
  },
  {
   "cell_type": "code",
   "execution_count": null,
   "id": "8f055fa7",
   "metadata": {},
   "outputs": [],
   "source": [
    "print(f'There are {len(ramen_df[\"Country\"].value_counts())} origins enlisted here. They are :')\n",
    "ramen_df[\"Country\"].value_counts().to_frame().T.style.set_properties(**{\"background-color\": \"#2a9d8f\",\"color\":\"white\",\"border\": \"1.5px  solid black\"})"
   ]
  },
  {
   "cell_type": "markdown",
   "id": "7d7dab0e",
   "metadata": {},
   "source": [
    "<a id=\"6\"></a>\n",
    "# <p style=\"padding:10px;background-color:orange;margin:0;color:black;font-family:newtimeroman;font-size:100%;text-align:center;border-radius: 15px 50px;overflow:hidden;font-weight:500\">Custom Palette For Visualization</p>\n"
   ]
  },
  {
   "cell_type": "code",
   "execution_count": null,
   "id": "f7120cd4",
   "metadata": {},
   "outputs": [],
   "source": [
    "sns.set_style(\"whitegrid\")\n",
    "sns.set_context(\"poster\",font_scale = .7)\n",
    "pal = [\"#5f0f40\",\"#9a031e\",\"#fb8b24\",\"#e36414\",\"#0f4c5c\",\"#FFC300\"]\n",
    "palette = [\"#1d7874\",\"#679289\",\"#f4c095\",\"#ee2e31\",\"#ffb563\",\"#918450\",\"#f85e00\",\"#a41623\",\"#9a031e\",\"#d6d6d6\",\"#ffee32\",\"#ffd100\",\"#333533\",\"#202020\"]\n",
    "palette_cmap = [\"#679289\",\"#ffd100\",\"#1d7874\",\"#f4c095\",\"#ee2e31\"]\n",
    "# sns.palplot(sns.color_palette(palette))\n",
    "# plt.show()"
   ]
  },
  {
   "cell_type": "markdown",
   "id": "e494410d",
   "metadata": {},
   "source": [
    "<a id=\"7\"></a>\n",
    "# <p style=\"padding:10px;background-color:orange;margin:0;color:black;font-family:newtimeroman;font-size:100%;text-align:center;border-radius: 15px 50px;overflow:hidden;font-weight:500\">Ramen Origins</p>\n"
   ]
  },
  {
   "cell_type": "code",
   "execution_count": null,
   "id": "c89ba443",
   "metadata": {},
   "outputs": [],
   "source": [
    "print(\"Let's have a glimpse of the origins :\")\n",
    "\n",
    "plt.subplots(figsize=(20, 10))\n",
    "p=sns.countplot(ramen_df[\"Country\"],order=ramen_df[\"Country\"].value_counts().index[:14],palette=palette, saturation=1, edgecolor = \"#1c1c1c\", linewidth = 3)\n",
    "p.axes.set_title(\"\\nOrigin Based Popularity\\n\",fontsize=25)\n",
    "p.axes.set_xlabel(\"Country\",fontsize=20)\n",
    "p.axes.set_ylabel(\"Total Ratings\",fontsize=20)\n",
    "p.axes.set_xticklabels(p.get_xticklabels(),rotation = 90)\n",
    "for container in p.containers:\n",
    "    p.bar_label(container,label_type=\"center\",padding=6,size=15,color=\"black\",rotation=0,\n",
    "    bbox={\"boxstyle\": \"round\", \"pad\": 0.4, \"facecolor\": \"orange\", \"edgecolor\": \"#1c1c1c\", \"linewidth\" : 2, \"alpha\": 1})\n",
    "\n",
    "\n",
    "sns.despine(left=True, bottom=True)\n",
    "plt.show()"
   ]
  },
  {
   "cell_type": "markdown",
   "id": "5d529c2c",
   "metadata": {},
   "source": [
    "**Insights :**\n",
    "* **Japan** is the most popular origin with 797 entries.\n",
    "* **United States** with 561 entries followed by **South Korea**, **Taiwan**, **China** and others."
   ]
  },
  {
   "cell_type": "markdown",
   "id": "132cc4e3",
   "metadata": {},
   "source": [
    "<a id=\"8\"></a>\n",
    "# <p style=\"padding:10px;background-color:orange;margin:0;color:black;font-family:newtimeroman;font-size:100%;text-align:center;border-radius: 15px 50px;overflow:hidden;font-weight:500\">Unique Ramen Ratings</p>\n"
   ]
  },
  {
   "cell_type": "code",
   "execution_count": null,
   "id": "46d1c2a7",
   "metadata": {},
   "outputs": [],
   "source": [
    "print(\"Let's explore the popular unique ratings :\")\n",
    "plt.subplots(figsize=(20, 10))\n",
    "p = sns.countplot(y=ramen_df[\"Stars\"],palette=palette, saturation=1,order=ramen_df[\"Stars\"].value_counts(ascending=False).index[:14], edgecolor = \"#1c1c1c\", linewidth = 3)\n",
    "p.axes.set_title(\"\\nPopular Unique Ratings Given [0.0 - 5.0]\\n\",fontsize=25)\n",
    "p.axes.set_xlabel(\"\\nTotal\",fontsize=20)\n",
    "p.axes.set_ylabel(\"Unique Ratings\",fontsize=20)\n",
    "# p.axes.set_xticklabels(p.get_xticklabels(),rotation = 0)\n",
    "for container in p.containers:\n",
    "    p.bar_label(container,label_type=\"edge\",padding=6,size=17,color=\"black\",rotation=0,\n",
    "    bbox={\"boxstyle\": \"round\", \"pad\": 0.4, \"facecolor\": \"orange\", \"edgecolor\": \"#1c1c1c\", \"linewidth\" : 3, \"alpha\": 1})\n",
    "\n",
    "\n",
    "sns.despine(left=True, bottom=True)\n",
    "plt.show()"
   ]
  },
  {
   "cell_type": "markdown",
   "id": "b1935771",
   "metadata": {},
   "source": [
    "**Insights :**\n",
    "* **5.0** is the highest enlisted rating followed by **3.5**, **3.75** and others."
   ]
  },
  {
   "cell_type": "code",
   "execution_count": null,
   "id": "d651ccca",
   "metadata": {},
   "outputs": [],
   "source": [
    "print(\"Let's explore the distribution of the ratings :\")\n",
    "plt.subplots(figsize=(20, 8))\n",
    "p = sns.histplot(ramen_df[\"Stars\"],color=palette[8],kde=True,bins=20,alpha=1,fill=True,edgecolor = \"#1c1c1c\", linewidth = 3)\n",
    "p.axes.lines[0].set_color(\"#FFC300\")\n",
    "p.axes.set_title(\"\\nRamen Ratings Distribution\\n\",fontsize=25)\n",
    "p.axes.set_xlabel(\"Ratings\",fontsize=20)\n",
    "p.axes.set_ylabel(\"Count\",fontsize=20)\n",
    "\n",
    "sns.despine(left=True, bottom=True)\n",
    "plt.show()"
   ]
  },
  {
   "cell_type": "markdown",
   "id": "47aa0025",
   "metadata": {},
   "source": [
    "**Insights :**\n",
    "* Most ratings are from **3.5** to **5.0**"
   ]
  },
  {
   "cell_type": "markdown",
   "id": "f369b286",
   "metadata": {},
   "source": [
    "<a id=\"9\"></a>\n",
    "# <p style=\"padding:10px;background-color:orange;margin:0;color:black;font-family:newtimeroman;font-size:100%;text-align:center;border-radius: 15px 50px;overflow:hidden;font-weight:500\">Origin Based Ramen Ratings</p>\n"
   ]
  },
  {
   "cell_type": "code",
   "execution_count": null,
   "id": "c30ec864",
   "metadata": {},
   "outputs": [],
   "source": [
    "average_star_country_temp = ramen_df.groupby([\"Country\"]).mean().round(1).reset_index()\n",
    "average_star_country = average_star_country_temp[[\"Country\",\"Stars\"]]\n",
    "# print(average_star_country.sort_values(\"Stars\",ascending=False))\n",
    "\n",
    "print(\"Let's explore orgin-wise average ratings :\")\n",
    "_, axes = plt.subplots(2,1,figsize=(20, 15))\n",
    "plt.tight_layout(pad=10.0)\n",
    "\n",
    "sns.barplot(x=average_star_country[\"Country\"],y=average_star_country[\"Stars\"],order=average_star_country.sort_values(\"Stars\",ascending=False)[\"Country\"][:14],ax=axes[0],palette=palette, saturation=1, edgecolor = \"#1c1c1c\", linewidth = 3)\n",
    "axes[0].set_yscale(\"log\")\n",
    "axes[0].set_title(\"Origin-wise Top Average Ratings\\n\",fontsize=25)\n",
    "# axes[0].set_xlabel(\"Country\",fontsize=20)\n",
    "axes[0].set_ylabel(\"Average Rating\",fontsize=20)\n",
    "axes[0].set_xticklabels(axes[0].get_xticklabels(),rotation = 40)\n",
    "for container in axes[0].containers:\n",
    "    axes[0].bar_label(container,label_type=\"edge\",padding=6,size=17,color=\"black\",rotation=0,\n",
    "    bbox={\"boxstyle\": \"round\", \"pad\": 0.4, \"facecolor\": \"orange\", \"edgecolor\": \"#1c1c1c\", \"linewidth\" : 2, \"alpha\": 1})\n",
    "\n",
    "sns.barplot(x=average_star_country[\"Country\"],y=average_star_country[\"Stars\"],order=average_star_country.sort_values(\"Stars\",ascending=True)[\"Country\"][:14],ax=axes[1],palette=palette, saturation=1, edgecolor = \"#1c1c1c\", linewidth = 3)\n",
    "axes[1].set_yscale(\"log\")\n",
    "axes[1].set_title(\"Origin-wise Low Average Ratings\\n\",fontsize=25)\n",
    "axes[1].set_xlabel(\"\\nCountry\",fontsize=20)\n",
    "axes[1].set_ylabel(\"Average Rating\",fontsize=20)\n",
    "axes[1].set_xticklabels(axes[1].get_xticklabels(),rotation = 30)\n",
    "for container in axes[1].containers:\n",
    "    axes[1].bar_label(container,label_type=\"edge\",padding=6,size=17,color=\"black\",rotation=0,\n",
    "    bbox={\"boxstyle\": \"round\", \"pad\": 0.4, \"facecolor\": \"orange\", \"edgecolor\": \"#1c1c1c\", \"linewidth\" : 2, \"alpha\": 1})\n",
    "\n",
    "    \n",
    "sns.despine(left=True, bottom=True)\n",
    "plt.show()"
   ]
  },
  {
   "cell_type": "markdown",
   "id": "fb549d0a",
   "metadata": {},
   "source": [
    "**Insights :**\n",
    "* **France** is leading in average rating with **4.3** followed by **Cambodia** and others.\n",
    "* **Ireland** has the lowest average rating **1.5** followed by **Portugal** with **2.0** and others."
   ]
  },
  {
   "cell_type": "markdown",
   "id": "73fc99ab",
   "metadata": {},
   "source": [
    "<a id=\"10\"></a>\n",
    "# <p style=\"padding:10px;background-color:orange;margin:0;color:black;font-family:newtimeroman;font-size:100%;text-align:center;border-radius: 15px 50px;overflow:hidden;font-weight:500\">Ramen Categories</p>\n",
    "\n"
   ]
  },
  {
   "cell_type": "code",
   "execution_count": null,
   "id": "6a3f8f5f",
   "metadata": {},
   "outputs": [],
   "source": [
    "print(\"Let's explore the categories :\")\n",
    "plt.subplots(figsize=(12, 12))\n",
    "\n",
    "labels = \"Box\",\"Tray\",\"Cup\",\"Bowl\",\"Pack\"\n",
    "size = 0.6\n",
    "\n",
    "wedges, texts, autotexts = plt.pie([len(ramen_df[ramen_df[\"Style\"] == \"Pack\"][\"Style\"]), \n",
    "                                    len(ramen_df[ramen_df[\"Style\"] == \"Box\"][\"Style\"]),\n",
    "                                    len(ramen_df[ramen_df[\"Style\"] == \"Tray\"][\"Style\"]),\n",
    "                                    len(ramen_df[ramen_df[\"Style\"] == \"Cup\"][\"Style\"]),\n",
    "                                    len(ramen_df[ramen_df[\"Style\"] == \"Bowl\"][\"Style\"])],\n",
    "                                    explode = (0,0,0,0,0),\n",
    "                                    textprops=dict(size= 20, color= \"white\"),\n",
    "                                    autopct=\"%.2f%%\", \n",
    "                                    pctdistance = 0.65,\n",
    "                                    radius=1,\n",
    "                                    colors = [\"#a41623\",\"#ffb563\",\"#918450\",\"#3B3F46\",\"#ffd100\"], \n",
    "                                    # labels = labels, # labeldistance = 1.05,\n",
    "                                    shadow = True,\n",
    "                                    wedgeprops=dict(width = size, edgecolor = \"#1c1c1c\", linewidth = 5),\n",
    "                                    startangle = 35)\n",
    "\n",
    "plt.legend(wedges, labels, title=\"Category\",loc=\"center left\",bbox_to_anchor=(1, 0, 0.5, 1))\n",
    "plt.title(\"\\nFamiliar Categories Of Ramen\",fontsize=25)\n",
    "plt.show()\n"
   ]
  },
  {
   "cell_type": "markdown",
   "id": "7bed5d83",
   "metadata": {},
   "source": [
    "**Insights :**\n",
    "* We have previously seen **Restaurant**, **Bottle**, **Can**, **Bar** categories got least amount of ratings which is **3** for **Restaurant** and **1** for each of **Bottle**, **Can** and **Bar**. As they all occupy less than 0% of a wedge in pie chart, so they're excluded for this exploration.\n",
    "* **Box** is the top popular category followed by **Pack** and **Bowl**."
   ]
  },
  {
   "cell_type": "code",
   "execution_count": null,
   "id": "9b772462",
   "metadata": {},
   "outputs": [],
   "source": [
    "average_star_style_temp = ramen_df.groupby([\"Style\"]).mean().round(1).reset_index()\n",
    "average_star_style = average_star_style_temp[[\"Style\",\"Stars\"]]\n",
    "# print(average_star_style.sort_values(\"Stars\",ascending=False))\n",
    "\n",
    "print(\"Let's explore category-wise average ratings :\")\n",
    "plt.subplots(figsize=(20, 8))\n",
    "p = sns.barplot(x=average_star_style[\"Style\"],y=average_star_style[\"Stars\"],order=average_star_style.sort_values(\"Stars\")[\"Style\"],palette=palette, saturation=1,edgecolor = \"#1c1c1c\", linewidth = 4)\n",
    "p.axes.set_title(\"\\nCategory-wise Average Ramen Rating\\n\",fontsize=25)\n",
    "p.axes.set_xlabel(\"\\nCategory\",fontsize=20)\n",
    "p.axes.set_ylabel(\"Average Rating\",fontsize=20)\n",
    "p.axes.set_xticklabels(p.get_xticklabels(),rotation = 0)\n",
    "for container in p.containers:\n",
    "    p.bar_label(container,label_type=\"center\",padding=6,size=20,color=\"black\",rotation=0,\n",
    "    bbox={\"boxstyle\": \"round\", \"pad\": 0.4, \"facecolor\": \"orange\", \"edgecolor\": \"#1c1c1c\", \"linewidth\" : 3, \"alpha\": 1})\n",
    "    \n",
    "sns.despine(left=True, bottom=True)\n",
    "plt.show()"
   ]
  },
  {
   "cell_type": "markdown",
   "id": "41a65e2c",
   "metadata": {},
   "source": [
    "**Insights :**\n",
    "* Category **Bar** ie leading with the highest rating of **5.0**\n",
    "* Category **Can** and **Cup** have the lowest average rating of **3.5**"
   ]
  },
  {
   "cell_type": "code",
   "execution_count": null,
   "id": "850be397",
   "metadata": {},
   "outputs": [],
   "source": [
    "print(\"Let's explore category-wise ratings distribution :\")\n",
    "_, axs = plt.subplots(3,3,figsize=(20, 16),sharex=True)\n",
    "plt.tight_layout(pad=4.0)\n",
    "\n",
    "sns.histplot(ramen_df[ramen_df[\"Style\"]==\"Pack\"][\"Stars\"],ax=axs[0,0],color=palette[0],kde=True,bins=20,alpha=1,edgecolor=\"#1c1c1c\",linewidth=2)\n",
    "axs[0,0].set_title(\"\\nRamen Category : Pack\\n\",fontsize=25)\n",
    "axs[0,0].set_xlabel(\"Ratings [0 - 5]\")\n",
    "axs[0,0].set_ylabel(\"Count\")\n",
    "\n",
    "sns.histplot(ramen_df[ramen_df[\"Style\"]==\"Box\"][\"Stars\"],ax=axs[0,1],color=palette[11],kde=True,bins=20,alpha=1,edgecolor=\"#1c1c1c\",linewidth=2)\n",
    "axs[0,1].set_title(\"\\nRamen Category : Box\\n\",fontsize=25)\n",
    "axs[0,1].set_xlabel(\"Ratings [0 - 5]\")\n",
    "axs[0,1].set_ylabel(\"Count\")\n",
    "\n",
    "sns.histplot(ramen_df[ramen_df[\"Style\"]==\"Tray\"][\"Stars\"],ax=axs[0,2],color=palette[5],kde=True,bins=20,alpha=1,edgecolor=\"#1c1c1c\",linewidth=2)\n",
    "axs[0,2].set_title(\"\\nRamen Category : Tray\\n\",fontsize=25)\n",
    "axs[0,2].set_xlabel(\"Ratings [0 - 5]\")\n",
    "axs[0,2].set_ylabel(\"Count\")\n",
    "\n",
    "sns.histplot(ramen_df[ramen_df[\"Style\"]==\"Cup\"][\"Stars\"],ax=axs[1,0],color=palette[7],kde=True,bins=20,alpha=1,edgecolor=\"#1c1c1c\",linewidth=2)\n",
    "axs[1,0].set_title(\"\\nRamen Category : Cup\\n\",fontsize=25)\n",
    "axs[1,0].set_xlabel(\"Ratings [0 - 5]\")\n",
    "axs[1,0].set_ylabel(\"Count\")\n",
    "\n",
    "sns.histplot(ramen_df[ramen_df[\"Style\"]==\"Bowl\"][\"Stars\"],ax=axs[1,1],color=palette[4],kde=True,bins=20,alpha=1,edgecolor=\"#1c1c1c\",linewidth=2)\n",
    "axs[1,1].set_title(\"\\nRamen Category : Bowl\\n\",fontsize=25)\n",
    "axs[1,1].set_xlabel(\"Ratings [0 - 5]\")\n",
    "axs[1,1].set_ylabel(\"Count\")\n",
    "\n",
    "sns.histplot(ramen_df[ramen_df[\"Style\"]==\"Restaurant\"][\"Stars\"],ax=axs[1,2],color=palette[1],kde=True,bins=20,alpha=1,edgecolor=\"#1c1c1c\",linewidth=2)\n",
    "axs[1,2].set_title(\"\\nRamen Category : Restaurant\\n\",fontsize=25)\n",
    "axs[1,2].set_xlabel(\"Ratings [0 - 5]\")\n",
    "axs[1,2].set_ylabel(\"Count\")\n",
    "\n",
    "sns.histplot(ramen_df[ramen_df[\"Style\"]==\"Can\"][\"Stars\"],ax=axs[2,0],color=palette[11],kde=True,bins=20,alpha=1,edgecolor=\"#1c1c1c\",linewidth=2)\n",
    "axs[2,0].set_title(\"\\n\\nRamen Category : Can\\n\",fontsize=25)\n",
    "axs[2,0].set_xlabel(\"Ratings [0 - 5]\")\n",
    "axs[2,0].set_ylabel(\"Count\")\n",
    "\n",
    "sns.histplot(ramen_df[ramen_df[\"Style\"]==\"Bottle\"][\"Stars\"],ax=axs[2,1],color=palette[11],kde=True,bins=20,alpha=1,edgecolor=\"#1c1c1c\",linewidth=2)\n",
    "axs[2,1].set_title(\"\\n\\nRamen Category : Bottle\\n\",fontsize=25)\n",
    "axs[2,1].set_xlabel(\"Ratings [0 - 5]\")\n",
    "axs[2,1].set_ylabel(\"Count\")\n",
    "\n",
    "sns.histplot(ramen_df[ramen_df[\"Style\"]==\"Bar\"][\"Stars\"],ax=axs[2,2],color=palette[11],kde=True,bins=20,alpha=1,edgecolor=\"#1c1c1c\",linewidth=2)\n",
    "axs[2,2].set_title(\"\\n\\nRamen Category : Bar\\n\",fontsize=25)\n",
    "axs[2,2].set_xlabel(\"Ratings [0 - 5]\")\n",
    "axs[2,2].set_ylabel(\"Count\")\n",
    "\n",
    "sns.despine(left=True, bottom=True)\n",
    "plt.show()"
   ]
  },
  {
   "cell_type": "markdown",
   "id": "8c00c63a",
   "metadata": {},
   "source": [
    "**Insights :**\n",
    "* All categories have most ratings between **3.0** to **5.0**\n",
    "* Category **Restaurant**, **Can**, **Bottle** and **Bar** have low amount of ranting entries. "
   ]
  },
  {
   "cell_type": "markdown",
   "id": "353113a5",
   "metadata": {},
   "source": [
    "<a id=\"11\"></a>\n",
    "# <p style=\"padding:10px;background-color:orange;margin:0;color:black;font-family:newtimeroman;font-size:100%;text-align:center;border-radius: 15px 50px;overflow:hidden;font-weight:500\">Ramen Brand's Rating Density</p>\n",
    "\n"
   ]
  },
  {
   "cell_type": "code",
   "execution_count": null,
   "id": "eb3bff55",
   "metadata": {},
   "outputs": [],
   "source": [
    "ramen_df_brand_temp = ramen_df.groupby([\"Brand\"]).mean().round(1).reset_index()\n",
    "ramen_df_brand = ramen_df_brand_temp[[\"Brand\",\"Stars\"]]\n",
    "# print(ramen_df_brand.sort_values(\"Stars\",ascending=False))\n",
    "\n",
    "plt.subplots(figsize=(20, 8))\n",
    "p = sns.histplot(x=ramen_df_brand[\"Stars\"],hue=ramen_df_brand[\"Brand\"],multiple=\"dodge\",legend=False,kde=True,bins=20,alpha=1)\n",
    "p.axes.set_title(\"\\nRamen Brand's Ratings Density\\n\",fontsize=25)\n",
    "p.axes.set_xlabel(\"Rating [0 - 5]\",fontsize=20)\n",
    "p.axes.set_ylabel(\"Count\",fontsize=20)\n",
    "\n",
    "sns.despine(left=True, bottom=True)\n",
    "plt.show()"
   ]
  },
  {
   "cell_type": "code",
   "execution_count": null,
   "id": "316ba40d",
   "metadata": {},
   "outputs": [],
   "source": [
    "print(f'In This Dataset, There Are {len(ramen_df_brand[\"Brand\"])} Different Brands.')\n",
    "# how many brands have higher average ratings\n",
    "print(f'Among Them {len(ramen_df_brand[ramen_df_brand[\"Stars\"] >= 4.0][\"Brand\"])} Have Higher Average Rating.')\n",
    "\n",
    "# how many brands have average ratings\n",
    "print(f'{len(ramen_df_brand[(ramen_df_brand[\"Stars\"] >= 2.5)&(ramen_df_brand[\"Stars\"] < 4.0)][\"Brand\"])} Brands Have Average Rating.')\n",
    "\n",
    "# how many brands have lower average ratings\n",
    "print(f'And {len(ramen_df_brand[ramen_df_brand[\"Stars\"] <2.5][\"Brand\"])} Brands Have Lower Average Rating!!!')"
   ]
  },
  {
   "cell_type": "markdown",
   "id": "6bc91a69",
   "metadata": {},
   "source": [
    "<a id=\"12\"></a>\n",
    "# <p style=\"padding:10px;background-color:orange;margin:0;color:black;font-family:newtimeroman;font-size:100%;text-align:center;border-radius: 15px 50px;overflow:hidden;font-weight:500\">Correlation Heatmap</p>\n",
    "\n"
   ]
  },
  {
   "cell_type": "markdown",
   "id": "1c6f80b9",
   "metadata": {},
   "source": [
    "So, we have already seen that this dataset consists of a large amount of categorical features. So we will extract **Style/Categories** this time only as it has least amount of categories than other categorical features. Lastly let's visualize the pearson correlation among them."
   ]
  },
  {
   "cell_type": "code",
   "execution_count": null,
   "id": "a1fb71eb",
   "metadata": {},
   "outputs": [],
   "source": [
    "Columns = [\"Style\"]\n",
    "dataset = pd.get_dummies(ramen_df, columns = Columns, drop_first=True)\n",
    "dataset.drop(columns=[\"Brand\",\"Variety\",\"Review\",\"Country\"],inplace=True)\n",
    "dataset.rename(columns={\"Style_Bottle\": \"Bottle\", \"Style_Bowl\": \"Bowl\",\"Style_Box\": \"Box\", \"Style_Can\": \"Can\",\"Style_Cup\": \"Cup\", \"Style_Pack\": \"Pack\",\"Style_Restaurant\": \"Restaurant\", \"Style_Tray\": \"Tray\"},inplace = True)\n",
    "dataset.head().style.set_properties(**{\"background-color\": \"#2a9d8f\",\"color\":\"white\",\"border\": \"1.5px  solid black\"})"
   ]
  },
  {
   "cell_type": "code",
   "execution_count": null,
   "id": "a27ef66a",
   "metadata": {},
   "outputs": [],
   "source": [
    "plt.subplots(figsize =(14, 12))\n",
    "\n",
    "p=sns.heatmap(dataset.corr(), cmap = palette_cmap, square=True, cbar_kws=dict(shrink =.95), \n",
    "            annot=True, vmin=-1, vmax=1, linewidths=2,linecolor='#1c1c1c',annot_kws=dict(fontsize =12))\n",
    "p.axes.set_title(\"Pearson Correlation Of Features\\n\", fontsize=25)\n",
    "plt.xticks(rotation=0)\n",
    "plt.show()"
   ]
  },
  {
   "cell_type": "markdown",
   "id": "43ad0451",
   "metadata": {},
   "source": [
    "**Insights :**\n",
    "* Category **Pack** and **Cup** are negatively correlated with **Bowl** category.\n",
    "* Category **Pack** is negatively correlated with category **Tray** and **Cup**."
   ]
  },
  {
   "cell_type": "markdown",
   "id": "216a6fb9",
   "metadata": {},
   "source": [
    "<a id=\"13\"></a>\n",
    "# <p style=\"padding:10px;background-color:#0f4c5c;margin:0;color:white;font-family:newtimeroman;font-size:100%;text-align:center;border-radius: 15px 50px;overflow:hidden;font-weight:500\">Thank You</p>\n",
    "\n",
    "\n",
    "<p>\n",
    "<h3><font color=\"#0f4c5c\">If you liked this notebook please upvote. Your feedback will be highly appreciated.</font></h3>\n",
    "\n",
    "<br>\n",
    "\n",
    "<h4><b>Author :</b></h4>\n",
    "\n",
    "<h3>Hasib Al Muzdadid</h3>\n",
    "\n",
    "<b>👉Shoot me mails :</b> muzdadid@gmail.com<br>\n",
    "<b>👉Connect on LinkedIn :</b> https://www.linkedin.com/in/hasibalmuzdadid <br>\n",
    "<b>👉Explore Github :</b> https://github.com/HasibAlMuzdadid    \n",
    "    \n",
    "</p> \n"
   ]
  }
 ],
 "metadata": {},
 "nbformat": 4,
 "nbformat_minor": 5
}
