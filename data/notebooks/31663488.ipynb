{
 "cells": [
  {
   "cell_type": "code",
   "execution_count": null,
   "id": "f51c1a62",
   "metadata": {},
   "outputs": [],
   "source": [
    "# This Python 3 environment comes with many helpful analytics libraries installed\n",
    "# It is defined by the kaggle/python Docker image: https://github.com/kaggle/docker-python\n",
    "# For example, here's several helpful packages to load\n",
    "\n",
    "import numpy as np # linear algebra\n",
    "import pandas as pd # data processing, CSV file I/O (e.g. pd.read_csv)\n",
    "\n",
    "# Input data files are available in the read-only \"../input/\" directory\n",
    "# For example, running this (by clicking run or pressing Shift+Enter) will list all files under the input directory\n",
    "\n",
    "import os\n",
    "for dirname, _, filenames in os.walk('/kaggle/input'):\n",
    "    for filename in filenames:\n",
    "        print(os.path.join(dirname, filename))\n",
    "\n",
    "# You can write up to 20GB to the current directory (/kaggle/working/) that gets preserved as output when you create a version using \"Save & Run All\" \n",
    "# You can also write temporary files to /kaggle/temp/, but they won't be saved outside of the current session"
   ]
  },
  {
   "cell_type": "code",
   "execution_count": null,
   "id": "1496de62",
   "metadata": {},
   "outputs": [],
   "source": [
    "import pandas as pd\n",
    "import numpy as np\n",
    "from sklearn.neighbors import KNeighborsClassifier\n",
    "from sklearn.ensemble import RandomForestClassifier\n",
    "from sklearn.model_selection import GridSearchCV\n",
    "from xgboost import XGBClassifier\n",
    "from sklearn.model_selection import train_test_split\n",
    "from sklearn.preprocessing import OneHotEncoder\n",
    "import matplotlib.pyplot as plt\n",
    "%matplotlib inline"
   ]
  },
  {
   "cell_type": "code",
   "execution_count": null,
   "id": "cb6d0394",
   "metadata": {},
   "outputs": [],
   "source": [
    "data = pd.read_csv(\"../input/social-network-ads/Social_Network_Ads.csv\")\n",
    "data.info()"
   ]
  },
  {
   "cell_type": "code",
   "execution_count": null,
   "id": "3e7579de",
   "metadata": {},
   "outputs": [],
   "source": [
    "data.isna().sum()"
   ]
  },
  {
   "cell_type": "code",
   "execution_count": null,
   "id": "4c02c78e",
   "metadata": {},
   "outputs": [],
   "source": [
    "data.describe()"
   ]
  },
  {
   "cell_type": "code",
   "execution_count": null,
   "id": "dd52372c",
   "metadata": {},
   "outputs": [],
   "source": [
    "data.head()"
   ]
  },
  {
   "cell_type": "code",
   "execution_count": null,
   "id": "dfccead6",
   "metadata": {},
   "outputs": [],
   "source": [
    "for col in data:\n",
    "    print(data[col].unique())"
   ]
  },
  {
   "cell_type": "code",
   "execution_count": null,
   "id": "ef8799f4",
   "metadata": {},
   "outputs": [],
   "source": [
    "import pandas_profiling\n",
    "profile = pandas_profiling.ProfileReport(data, title=\"Pandas Profiling Report\")\n",
    "profile.to_notebook_iframe()"
   ]
  },
  {
   "cell_type": "code",
   "execution_count": null,
   "id": "5110d627",
   "metadata": {},
   "outputs": [],
   "source": [
    "nan"
   ]
  },
  {
   "cell_type": "code",
   "execution_count": null,
   "id": "bcae0d07",
   "metadata": {},
   "outputs": [],
   "source": [
    "data = pd.get_dummies(data, columns = ['Gender'])\n"
   ]
  },
  {
   "cell_type": "code",
   "execution_count": null,
   "id": "85d05691",
   "metadata": {},
   "outputs": [],
   "source": [
    "data = data[['User ID', 'Age', 'EstimatedSalary', 'Gender_Female', 'Gender_Male', 'Purchased']]\n",
    "data.head()"
   ]
  },
  {
   "cell_type": "code",
   "execution_count": null,
   "id": "c554327e",
   "metadata": {},
   "outputs": [],
   "source": [
    "X = data.iloc[:,:5]\n",
    "y = data.Purchased\n",
    "\n",
    "X_train, X_test, y_train, y_test = train_test_split(X, y, test_size=0.2, random_state=42)"
   ]
  },
  {
   "cell_type": "code",
   "execution_count": null,
   "id": "1bb711b4",
   "metadata": {},
   "outputs": [],
   "source": [
    "y_train"
   ]
  },
  {
   "cell_type": "code",
   "execution_count": null,
   "id": "5cb651cc",
   "metadata": {},
   "outputs": [],
   "source": [
    "rnd = RandomForestClassifier(random_state=42)\n",
    "params = {'n_estimators': range(100, 500, 100),\n",
    "         'max_depth': range(1, 20),\n",
    "         \"min_samples_split\": range(1, 20)}\n",
    "grid = GridSearchCV(rnd, params, cv=3, verbose=1)\n",
    "\n",
    "grid.fit(X_train, y_train)\n",
    "\n",
    "print(\"The best parameters are:\", grid.best_params_)"
   ]
  },
  {
   "cell_type": "code",
   "execution_count": null,
   "id": "47a8889c",
   "metadata": {},
   "outputs": [],
   "source": [
    "params = {'n_estimators': range(100, 300, 50),\n",
    "         'max_depth': range(1,4),\n",
    "         \"min_samples_split\": range(1, 4)}\n",
    "grid = GridSearchCV(rnd, params, cv=3, verbose=1)\n",
    "\n",
    "grid.fit(X_train, y_train)\n",
    "\n",
    "print(\"The best parameters are:\", grid.best_params_)"
   ]
  },
  {
   "cell_type": "code",
   "execution_count": null,
   "id": "760a7e1f",
   "metadata": {},
   "outputs": [],
   "source": [
    "params = {'n_estimators': range(175, 225, 25),\n",
    "         'max_depth': range(1, 4),\n",
    "         \"min_samples_split\": range(1, 4)}\n",
    "grid = GridSearchCV(rnd, params, cv=3, verbose=1)\n",
    "\n",
    "grid.fit(X_train, y_train)\n",
    "\n",
    "print(\"The best parameters are:\", grid.best_params_)"
   ]
  },
  {
   "cell_type": "code",
   "execution_count": null,
   "id": "c394676d",
   "metadata": {},
   "outputs": [],
   "source": [
    "opt_rnd = RandomForestClassifier(**grid.best_params_, random_state=42)\n",
    "opt_rnd.fit(X_train, y_train)"
   ]
  },
  {
   "cell_type": "code",
   "execution_count": null,
   "id": "595b55b3",
   "metadata": {},
   "outputs": [],
   "source": [
    "y_pred = opt_rnd.predict(X_test)"
   ]
  },
  {
   "cell_type": "code",
   "execution_count": null,
   "id": "e0cd87cb",
   "metadata": {},
   "outputs": [],
   "source": [
    "from sklearn.metrics import confusion_matrix,ConfusionMatrixDisplay, accuracy_score, recall_score, precision_score, classification_report\n",
    "con_mat = confusion_matrix(y_test, y_pred)\n",
    "ConfusionMatrixDisplay(con_mat).plot()\n",
    "plt.show()"
   ]
  },
  {
   "cell_type": "code",
   "execution_count": null,
   "id": "b93945bf",
   "metadata": {},
   "outputs": [],
   "source": [
    "rnd_report = pd.DataFrame(classification_report(y_test, y_pred, output_dict=True)).T\n",
    "rnd_report"
   ]
  },
  {
   "cell_type": "code",
   "execution_count": null,
   "id": "f4a0c5e6",
   "metadata": {},
   "outputs": [],
   "source": [
    "xgb_clf = XGBClassifier(random_state=42)\n",
    "params = {'max_depth': range(1, 10),\n",
    "         'eta': np.arange(0, 1, 0.10),\n",
    "         'min_child_weight': range(1, 10)}\n",
    "grid_xgb = GridSearchCV(xgb_clf, params, cv=3)\n",
    "grid_xgb.fit(X_train, y_train)\n",
    "print('The best parameters are:', grid_xgb.best_params_)"
   ]
  },
  {
   "cell_type": "code",
   "execution_count": null,
   "id": "9d499320",
   "metadata": {},
   "outputs": [],
   "source": [
    "xgb_clf = XGBClassifier(random_state=42)\n",
    "params = {'max_depth': range(3, 7),\n",
    "         'eta': np.arange(0, 0.5, 0.10),\n",
    "         'min_child_weight': range(1, 5)}\n",
    "grid_xgb = GridSearchCV(xgb_clf, params, cv=3)\n",
    "grid_xgb.fit(X_train, y_train)\n",
    "print('The best parameters are:', grid_xgb.best_params_)"
   ]
  },
  {
   "cell_type": "code",
   "execution_count": null,
   "id": "bc3a26fb",
   "metadata": {},
   "outputs": [],
   "source": [
    "xgb_clf = XGBClassifier(random_state=42)\n",
    "params = {'max_depth': range(3,5),\n",
    "         'eta': np.arange(0, 0.3, 0.05),\n",
    "         'min_child_weight': range(2, 4)}\n",
    "grid_xgb = GridSearchCV(xgb_clf, params, cv=3, verbose=1)\n",
    "grid_xgb.fit(X_train, y_train)\n",
    "print('The best parameters are:', grid_xgb.best_params_)"
   ]
  },
  {
   "cell_type": "code",
   "execution_count": null,
   "id": "b7d94d05",
   "metadata": {},
   "outputs": [],
   "source": [
    "opt_xgb_clf = XGBClassifier(**grid_xgb.best_params_, random_state=42)\n",
    "opt_xgb_clf.fit(X_train, y_train)\n",
    "y_pred_xgb = opt_xgb_clf.predict(X_test)"
   ]
  },
  {
   "cell_type": "code",
   "execution_count": null,
   "id": "d7a634c8",
   "metadata": {},
   "outputs": [],
   "source": [
    "cm_xgb = confusion_matrix(y_test, y_pred_xgb)\n",
    "ConfusionMatrixDisplay(cm_xgb).plot()\n",
    "plt.show()"
   ]
  },
  {
   "cell_type": "code",
   "execution_count": null,
   "id": "8cb3e386",
   "metadata": {},
   "outputs": [],
   "source": [
    "xgb_report = pd.DataFrame(classification_report(y_test, y_pred_xgb, output_dict=True)).T\n",
    "xgb_report"
   ]
  },
  {
   "cell_type": "code",
   "execution_count": null,
   "id": "1c34a0b8",
   "metadata": {},
   "outputs": [],
   "source": [
    "rnd_report"
   ]
  },
  {
   "cell_type": "code",
   "execution_count": null,
   "id": "4e7af8d1",
   "metadata": {},
   "outputs": [],
   "source": [
    "nan"
   ]
  }
 ],
 "metadata": {},
 "nbformat": 4,
 "nbformat_minor": 5
}
