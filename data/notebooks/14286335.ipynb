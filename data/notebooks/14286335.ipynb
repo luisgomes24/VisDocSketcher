{
 "cells": [
  {
   "cell_type": "code",
   "execution_count": null,
   "id": "6a54a8b7",
   "metadata": {},
   "outputs": [],
   "source": [
    "# This Python 3 environment comes with many helpful analytics libraries installed\n",
    "# It is defined by the kaggle/python Docker image: https://github.com/kaggle/docker-python\n",
    "# For example, here's several helpful packages to load\n",
    "\n",
    "import numpy as np # linear algebra\n",
    "import pandas as pd # data processing, CSV file I/O (e.g. pd.read_csv)\n",
    "\n",
    "# Input data files are available in the read-only \"../input/\" directory\n",
    "# For example, running this (by clicking run or pressing Shift+Enter) will list all files under the input directory\n",
    "\n",
    "import os\n",
    "for dirname, _, filenames in os.walk('/kaggle/input'):\n",
    "    for filename in filenames:\n",
    "        print(os.path.join(dirname, filename))\n",
    "\n",
    "# You can write up to 20GB to the current directory (/kaggle/working/) that gets preserved as output when you create a version using \"Save & Run All\" \n",
    "# You can also write temporary files to /kaggle/temp/, but they won't be saved outside of the current session"
   ]
  },
  {
   "cell_type": "markdown",
   "id": "37c5ffcf",
   "metadata": {},
   "source": [
    "There is a single dataset available in the file"
   ]
  },
  {
   "cell_type": "code",
   "execution_count": null,
   "id": "3b972acd",
   "metadata": {},
   "outputs": [],
   "source": [
    "import matplotlib.pyplot as plt\n",
    "import seaborn as sns"
   ]
  },
  {
   "cell_type": "code",
   "execution_count": null,
   "id": "3ce2330c",
   "metadata": {},
   "outputs": [],
   "source": [
    "df=pd.read_csv('../input/women-representation-in-city-property-sanfrancisco/WomenRepresentaionInCityProperty-SanFrancisco.csv')\n",
    "#importing the dataset as a csv file into Dataframe"
   ]
  },
  {
   "cell_type": "code",
   "execution_count": null,
   "id": "5d63961b",
   "metadata": {},
   "outputs": [],
   "source": [
    "df.head()#displaying the top 5 records of the dataframe"
   ]
  },
  {
   "cell_type": "markdown",
   "id": "afafff3c",
   "metadata": {},
   "source": [
    "### Information about the dataset"
   ]
  },
  {
   "cell_type": "code",
   "execution_count": null,
   "id": "e964ce15",
   "metadata": {},
   "outputs": [],
   "source": [
    "df.info()"
   ]
  },
  {
   "cell_type": "markdown",
   "id": "4dd94e04",
   "metadata": {},
   "source": [
    "### Checking For missing values"
   ]
  },
  {
   "cell_type": "code",
   "execution_count": null,
   "id": "7a2fec9f",
   "metadata": {},
   "outputs": [],
   "source": [
    "df.isnull().sum()"
   ]
  },
  {
   "cell_type": "markdown",
   "id": "75a8c18e",
   "metadata": {},
   "source": [
    "The columns Reference and Comments have 28 and 50 missing values respectively, while the column Person has only 1 missing value"
   ]
  },
  {
   "cell_type": "code",
   "execution_count": null,
   "id": "1457c469",
   "metadata": {},
   "outputs": [],
   "source": [
    "df['Gender'].unique()"
   ]
  },
  {
   "cell_type": "markdown",
   "id": "d0af5413",
   "metadata": {},
   "source": [
    "The columns have either a single gender for a single entry in the dataset or there are two genders for a single entry of the dataset."
   ]
  },
  {
   "cell_type": "code",
   "execution_count": null,
   "id": "ee914b5d",
   "metadata": {},
   "outputs": [],
   "source": [
    "df_FM = df[df['Gender']=='F & M']\n",
    "df_MF = df[df['Gender']=='M & F']\n",
    "df_MM = df[df['Gender']=='M & M']"
   ]
  },
  {
   "cell_type": "markdown",
   "id": "455ea6d0",
   "metadata": {},
   "source": [
    "Creating three dataframe for entries consisting of male and female names and male and male names."
   ]
  },
  {
   "cell_type": "markdown",
   "id": "296e93e3",
   "metadata": {},
   "source": [
    "[](http://)The F & M, M & F category denotes the entry consisting of male and female names, while the M & M category denotes the entry consisting of only male names."
   ]
  },
  {
   "cell_type": "markdown",
   "id": "3d68cab0",
   "metadata": {},
   "source": [
    "### Visualisation of distribution of gender column"
   ]
  },
  {
   "cell_type": "code",
   "execution_count": null,
   "id": "e36f0608",
   "metadata": {},
   "outputs": [],
   "source": [
    "df.groupby('Gender')['Gender'].agg('count').plot.pie(figsize=(8,8),autopct='%1.1f')"
   ]
  },
  {
   "cell_type": "markdown",
   "id": "3c463cc6",
   "metadata": {},
   "source": [
    "Finding the number of individual males and females in the dataset"
   ]
  },
  {
   "cell_type": "code",
   "execution_count": null,
   "id": "67801a25",
   "metadata": {},
   "outputs": [],
   "source": [
    "male=[]\n",
    "for i in range(len(df)):\n",
    "    if df['Gender'][i] in ['M','M & F','F & M','M & M']:\n",
    "        male.append(1)\n",
    "    else:\n",
    "        male.append(0)"
   ]
  },
  {
   "cell_type": "code",
   "execution_count": null,
   "id": "e63b5410",
   "metadata": {},
   "outputs": [],
   "source": [
    "female=[]\n",
    "for i in range(len(df)):\n",
    "    if df['Gender'][i] in ['F','M & F','F & M']:\n",
    "        female.append(1)\n",
    "    else:\n",
    "        female.append(0)"
   ]
  },
  {
   "cell_type": "code",
   "execution_count": null,
   "id": "0b203770",
   "metadata": {},
   "outputs": [],
   "source": [
    "df['Male'] = male\n",
    "df['Female'] = female"
   ]
  },
  {
   "cell_type": "code",
   "execution_count": null,
   "id": "05a0e9a8",
   "metadata": {},
   "outputs": [],
   "source": [
    "print(df['Male'].sum())\n",
    "print(df['Female'].sum())"
   ]
  },
  {
   "cell_type": "markdown",
   "id": "b770f4e4",
   "metadata": {},
   "source": [
    "### Visualisation of Count of Male and Female"
   ]
  },
  {
   "cell_type": "code",
   "execution_count": null,
   "id": "635f7d84",
   "metadata": {},
   "outputs": [],
   "source": [
    "msum = df['Male'].sum()\n",
    "fsum = df['Female'].sum()\n",
    "plt.title('Count of Male and Females')\n",
    "plt.bar(['Male','Female'],[msum,fsum])"
   ]
  },
  {
   "cell_type": "markdown",
   "id": "daa5e9bc",
   "metadata": {},
   "source": [
    "### Count of Male and Female in each Department"
   ]
  },
  {
   "cell_type": "code",
   "execution_count": null,
   "id": "bed1acb4",
   "metadata": {},
   "outputs": [],
   "source": [
    "df_department = df.groupby('Department/Source').agg({'Male': 'sum', 'Female': 'sum'})\n",
    "df_department['Total'] = df_department['Male']+df_department['Female']\n",
    "df_department"
   ]
  },
  {
   "cell_type": "code",
   "execution_count": null,
   "id": "1b019cb2",
   "metadata": {},
   "outputs": [],
   "source": [
    "nan"
   ]
  }
 ],
 "metadata": {},
 "nbformat": 4,
 "nbformat_minor": 5
}
