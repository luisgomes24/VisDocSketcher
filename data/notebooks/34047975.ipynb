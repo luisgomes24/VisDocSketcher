{
 "cells": [
  {
   "cell_type": "markdown",
   "id": "fad809f9",
   "metadata": {},
   "source": [
    "![Gold_Price_Prediction_Slide.jpg](attachment:Gold_Price_Prediction_Slide.jpg)"
   ]
  },
  {
   "cell_type": "markdown",
   "id": "b505782c",
   "metadata": {},
   "source": [
    "__In this notebook, we are going to build a time series model to predict the future price of gold, which can be very useful for traders. For this purpose, we use the historical gold price data for 10 years (from 2013 to 2023).__"
   ]
  },
  {
   "cell_type": "markdown",
   "id": "bbbe111c",
   "metadata": {},
   "source": [
    "### Let's get started:"
   ]
  },
  {
   "cell_type": "markdown",
   "id": "214bc70f",
   "metadata": {},
   "source": [
    "# Step 1: Importing Libraries"
   ]
  },
  {
   "cell_type": "code",
   "execution_count": null,
   "id": "a51054a9",
   "metadata": {},
   "outputs": [],
   "source": [
    "import numpy as np\n",
    "import pandas as pd\n",
    "import matplotlib.pyplot as plt\n",
    "import plotly.express as px\n",
    "from sklearn.preprocessing import MinMaxScaler\n",
    "from sklearn.model_selection import train_test_split\n",
    "from sklearn.metrics import mean_absolute_percentage_error\n",
    "import tensorflow as tf\n",
    "from keras import Model\n",
    "from keras.layers import Input, Dense, Dropout\n",
    "from keras.layers import LSTM"
   ]
  },
  {
   "cell_type": "markdown",
   "id": "a8a813eb",
   "metadata": {},
   "source": [
    "# Step 2: Reading Dataset"
   ]
  },
  {
   "cell_type": "code",
   "execution_count": null,
   "id": "5d4437eb",
   "metadata": {},
   "outputs": [],
   "source": [
    "df = pd.read_csv('/kaggle/input/gold-price-10-years-20132023/Gold Price (2013-2023).csv')"
   ]
  },
  {
   "cell_type": "markdown",
   "id": "4be4acf0",
   "metadata": {},
   "source": [
    "# Step 3: Dataset Overview"
   ]
  },
  {
   "cell_type": "code",
   "execution_count": null,
   "id": "2a609bbd",
   "metadata": {},
   "outputs": [],
   "source": [
    "df"
   ]
  },
  {
   "cell_type": "markdown",
   "id": "90dc0922",
   "metadata": {},
   "source": [
    "__As you can see, the data set includes daily gold price information including daily Open, High and Low prices and the final price of each day (Price) along with the volume of transactions and price changes in each day.__"
   ]
  },
  {
   "cell_type": "markdown",
   "id": "9199abbf",
   "metadata": {},
   "source": [
    "__Dataset Basic Information:__"
   ]
  },
  {
   "cell_type": "code",
   "execution_count": null,
   "id": "8147a092",
   "metadata": {},
   "outputs": [],
   "source": [
    "df.info()"
   ]
  },
  {
   "cell_type": "markdown",
   "id": "292e9593",
   "metadata": {},
   "source": [
    "__All variables are stored as object.__"
   ]
  },
  {
   "cell_type": "markdown",
   "id": "bfe3e83c",
   "metadata": {},
   "source": [
    "# Step 4: Data Preparation"
   ]
  },
  {
   "cell_type": "markdown",
   "id": "36905278",
   "metadata": {},
   "source": [
    "## Step 4.1: Feature Subset Selection\n",
    "__Since we will not use Vol. and Change % features to predict Price, we will drop these two features:__"
   ]
  },
  {
   "cell_type": "code",
   "execution_count": null,
   "id": "ebdb1e21",
   "metadata": {},
   "outputs": [],
   "source": [
    "df.drop(['Vol.', 'Change %'], axis=1, inplace=True)"
   ]
  },
  {
   "cell_type": "markdown",
   "id": "e5b5c4e4",
   "metadata": {},
   "source": [
    "## Step 4.2: Transforming Data"
   ]
  },
  {
   "cell_type": "markdown",
   "id": "52113ede",
   "metadata": {},
   "source": [
    "__Date feature is stored as object in the data frame. To increase the speed of calculations, we convert it's data type to datetime and then sort this feature in ascending order:__"
   ]
  },
  {
   "cell_type": "code",
   "execution_count": null,
   "id": "409c4c05",
   "metadata": {},
   "outputs": [],
   "source": [
    "df['Date'] = pd.to_datetime(df['Date'])\n",
    "df.sort_values(by='Date', ascending=True, inplace=True)\n",
    "df.reset_index(drop=True, inplace=True)"
   ]
  },
  {
   "cell_type": "markdown",
   "id": "a095115b",
   "metadata": {},
   "source": [
    "__The \" , \" sign is redundant in the dataset. First, we remove it from the entire dataset and then change the data type of the numerical variables to float:__"
   ]
  },
  {
   "cell_type": "code",
   "execution_count": null,
   "id": "70c57ba3",
   "metadata": {},
   "outputs": [],
   "source": [
    "NumCols = df.columns.drop(['Date'])\n",
    "df[NumCols] = df[NumCols].replace({',': ''}, regex=True)\n",
    "df[NumCols] = df[NumCols].astype('float64')"
   ]
  },
  {
   "cell_type": "markdown",
   "id": "5cf196c7",
   "metadata": {},
   "source": [
    "__Result:__"
   ]
  },
  {
   "cell_type": "code",
   "execution_count": null,
   "id": "7025f9fe",
   "metadata": {},
   "outputs": [],
   "source": [
    "df.head()"
   ]
  },
  {
   "cell_type": "markdown",
   "id": "eabbe0d8",
   "metadata": {},
   "source": [
    "## Step 4.3: Checking Duplicates\n",
    "__There are no duplicate samples in Date feature:__"
   ]
  },
  {
   "cell_type": "code",
   "execution_count": null,
   "id": "085e5823",
   "metadata": {},
   "outputs": [],
   "source": [
    "df.duplicated().sum()"
   ]
  },
  {
   "cell_type": "markdown",
   "id": "98c87add",
   "metadata": {},
   "source": [
    "## Step 4.4: Checking Missing Values\n",
    "__There are no missing values in the dataset:__"
   ]
  },
  {
   "cell_type": "code",
   "execution_count": null,
   "id": "89db82b0",
   "metadata": {},
   "outputs": [],
   "source": [
    "df.isnull().sum().sum()"
   ]
  },
  {
   "cell_type": "markdown",
   "id": "20a2e275",
   "metadata": {},
   "source": [
    "# Step 5: Visualizing Gold Price History Data\n",
    "\n",
    "__Interactive Gold Price Chart:__"
   ]
  },
  {
   "cell_type": "code",
   "execution_count": null,
   "id": "47504684",
   "metadata": {},
   "outputs": [],
   "source": [
    "fig = px.line(y=df.Price, x=df.Date)\n",
    "fig.update_traces(line_color='black') \n",
    "fig.update_layout(xaxis_title=\"Date\", \n",
    "                  yaxis_title=\"Scaled Price\",\n",
    "                  title={'text': \"Gold Price History Data\", 'y':0.95, 'x':0.5, 'xanchor':'center', 'yanchor':'top'},\n",
    "                  plot_bgcolor='rgba(255,223,0,0.8)')"
   ]
  },
  {
   "cell_type": "markdown",
   "id": "535bc18d",
   "metadata": {},
   "source": [
    "# Step 6: Splitting Data to Training & Test Sets\n",
    "__Since we cannot train on future data in time series data, we should not divide the time series data randomly. In time series splitting, testing set is always later than training set. We consider the last year for testing and everything else for training:__"
   ]
  },
  {
   "cell_type": "code",
   "execution_count": null,
   "id": "e820565a",
   "metadata": {},
   "outputs": [],
   "source": [
    "test_size = df[df.Date.dt.year==2022].shape[0]\n",
    "test_size"
   ]
  },
  {
   "cell_type": "markdown",
   "id": "5859fa34",
   "metadata": {},
   "source": [
    "__Gold Price Training and Test Sets Plot:__"
   ]
  },
  {
   "cell_type": "code",
   "execution_count": null,
   "id": "23854c43",
   "metadata": {},
   "outputs": [],
   "source": [
    "plt.figure(figsize=(15, 6), dpi=150)\n",
    "plt.rcParams['axes.facecolor'] = 'yellow'\n",
    "plt.rc('axes',edgecolor='white')\n",
    "plt.plot(df.Date[:-test_size], df.Price[:-test_size], color='black', lw=2)\n",
    "plt.plot(df.Date[-test_size:], df.Price[-test_size:], color='blue', lw=2)\n",
    "plt.title('Gold Price Training and Test Sets', fontsize=15)\n",
    "plt.xlabel('Date', fontsize=12)\n",
    "plt.ylabel('Price', fontsize=12)\n",
    "plt.legend(['Training set', 'Test set'], loc='upper left', prop={'size': 15})\n",
    "plt.grid(color='white')\n",
    "plt.show()"
   ]
  },
  {
   "cell_type": "markdown",
   "id": "d8cd534a",
   "metadata": {},
   "source": [
    "# Step 7: Data Scaling\n",
    "__Since we aim to predict Price only based on its historical data, we scale Price using MinMaxScaler to avoid intensive computations:__"
   ]
  },
  {
   "cell_type": "code",
   "execution_count": null,
   "id": "ba9b97fd",
   "metadata": {},
   "outputs": [],
   "source": [
    "scaler = MinMaxScaler()\n",
    "scaler.fit(df.Price.values.reshape(-1,1))"
   ]
  },
  {
   "cell_type": "markdown",
   "id": "76b806d9",
   "metadata": {},
   "source": [
    "# Step 8: Restructure Data & Create Sliding Window\n",
    "__The use of prior time steps to predict the next time step is called sliding window. In this way, time series data can be expressed as supervised learning. We can do this by using previous time steps as input variables and use the next time step as the output variable. The number of previous time steps is called the window width. Here we set window width to 60. Therefore, X_train and X_test will be nested lists containing lists of 60 time-stamp prices. y_train and y_test are also lists of gold prices containing the next day's gold price corresponds to each list in X_train and X_test respectively:__"
   ]
  },
  {
   "cell_type": "code",
   "execution_count": null,
   "id": "361b267c",
   "metadata": {},
   "outputs": [],
   "source": [
    "window_size = 60"
   ]
  },
  {
   "cell_type": "markdown",
   "id": "60f2d7ca",
   "metadata": {},
   "source": [
    "__Training Set:__"
   ]
  },
  {
   "cell_type": "code",
   "execution_count": null,
   "id": "d4db98c8",
   "metadata": {},
   "outputs": [],
   "source": [
    "train_data = df.Price[:-test_size]\n",
    "train_data = scaler.transform(train_data.values.reshape(-1,1))"
   ]
  },
  {
   "cell_type": "code",
   "execution_count": null,
   "id": "a9a221fa",
   "metadata": {},
   "outputs": [],
   "source": [
    "X_train = []\n",
    "y_train = []\n",
    "\n",
    "for i in range(window_size, len(train_data)):\n",
    "    X_train.append(train_data[i-60:i, 0])\n",
    "    y_train.append(train_data[i, 0])"
   ]
  },
  {
   "cell_type": "markdown",
   "id": "93d87ada",
   "metadata": {},
   "source": [
    "__Test Set:__"
   ]
  },
  {
   "cell_type": "code",
   "execution_count": null,
   "id": "d7529c2b",
   "metadata": {},
   "outputs": [],
   "source": [
    "test_data = df.Price[-test_size-60:]\n",
    "test_data = scaler.transform(test_data.values.reshape(-1,1))"
   ]
  },
  {
   "cell_type": "code",
   "execution_count": null,
   "id": "d902f63f",
   "metadata": {},
   "outputs": [],
   "source": [
    "X_test = []\n",
    "y_test = []\n",
    "\n",
    "for i in range(window_size, len(test_data)):\n",
    "    X_test.append(test_data[i-60:i, 0])\n",
    "    y_test.append(test_data[i, 0])"
   ]
  },
  {
   "cell_type": "markdown",
   "id": "a52d6eaf",
   "metadata": {},
   "source": [
    "# Step 9: Converting Data to Numpy Arrays\n",
    "\n",
    "__Now X_train and X_test are nested lists (two-dimensional lists) and y_train is a one-dimensional list. We need to convert them to numpy arrays with a higher dimension, which is the data format accepted by TensorFlow when training the neural network:__"
   ]
  },
  {
   "cell_type": "code",
   "execution_count": null,
   "id": "8f904855",
   "metadata": {},
   "outputs": [],
   "source": [
    "X_train = np.array(X_train)\n",
    "X_test  = np.array(X_test)\n",
    "y_train = np.array(y_train)\n",
    "y_test  = np.array(y_test)"
   ]
  },
  {
   "cell_type": "code",
   "execution_count": null,
   "id": "65760975",
   "metadata": {},
   "outputs": [],
   "source": [
    "X_train = np.reshape(X_train, (X_train.shape[0], X_train.shape[1], 1))\n",
    "X_test  = np.reshape(X_test, (X_test.shape[0], X_test.shape[1], 1))\n",
    "y_train = np.reshape(y_train, (-1,1))\n",
    "y_test  = np.reshape(y_test, (-1,1))"
   ]
  },
  {
   "cell_type": "code",
   "execution_count": null,
   "id": "b7ef57f3",
   "metadata": {},
   "outputs": [],
   "source": [
    "print('X_train Shape: ', X_train.shape)\n",
    "print('y_train Shape: ', y_train.shape)\n",
    "print('X_test Shape:  ', X_test.shape)\n",
    "print('y_test Shape:  ', y_test.shape)"
   ]
  },
  {
   "cell_type": "markdown",
   "id": "ac1fd189",
   "metadata": {},
   "source": [
    "# Step 10: Creating an LSTM Network \n",
    "__We build an LSTM network, which is a type of Recurrent Neural Networks designed to solve vanishing gradient problem:__"
   ]
  },
  {
   "cell_type": "markdown",
   "id": "d9cac884",
   "metadata": {},
   "source": [
    "__Model Definition:__"
   ]
  },
  {
   "cell_type": "code",
   "execution_count": null,
   "id": "e392f2db",
   "metadata": {},
   "outputs": [],
   "source": [
    "def define_model():\n",
    "    input1 = Input(shape=(window_size,1))\n",
    "    x = LSTM(units = 64, return_sequences=True)(input1)  \n",
    "    x = Dropout(0.2)(x)\n",
    "    x = LSTM(units = 64, return_sequences=True)(x)\n",
    "    x = Dropout(0.2)(x)\n",
    "    x = LSTM(units = 64)(x)\n",
    "    x = Dropout(0.2)(x)\n",
    "    x = Dense(32, activation='softmax')(x)\n",
    "    dnn_output = Dense(1)(x)\n",
    "\n",
    "    model = Model(inputs=input1, outputs=[dnn_output])\n",
    "    model.compile(loss='mean_squared_error', optimizer='Nadam')\n",
    "    model.summary()\n",
    "    \n",
    "    return model"
   ]
  },
  {
   "cell_type": "markdown",
   "id": "7ca59449",
   "metadata": {},
   "source": [
    "__Model Training:__"
   ]
  },
  {
   "cell_type": "code",
   "execution_count": null,
   "id": "1208d7a9",
   "metadata": {},
   "outputs": [],
   "source": [
    "model = define_model()\n",
    "history = model.fit(X_train, y_train, epochs=150, batch_size=32, validation_split=0.1, verbose=1)"
   ]
  },
  {
   "cell_type": "markdown",
   "id": "63c90855",
   "metadata": {},
   "source": [
    "# Step 11: Model Evaluation\n",
    "__Next, we evaluate our time series forecast using MAPE (Mean Absolute Percentage Error) metric:__"
   ]
  },
  {
   "cell_type": "code",
   "execution_count": null,
   "id": "cb416a81",
   "metadata": {},
   "outputs": [],
   "source": [
    "result = model.evaluate(X_test, y_test)\n",
    "y_pred = model.predict(X_test) "
   ]
  },
  {
   "cell_type": "code",
   "execution_count": null,
   "id": "5a5f8ac0",
   "metadata": {},
   "outputs": [],
   "source": [
    "MAPE = mean_absolute_percentage_error(y_test, y_pred)\n",
    "Accuracy = 1 - MAPE"
   ]
  },
  {
   "cell_type": "code",
   "execution_count": null,
   "id": "5e000191",
   "metadata": {},
   "outputs": [],
   "source": [
    "print(\"Test Loss:\", result)\n",
    "print(\"Test MAPE:\", MAPE)\n",
    "print(\"Test Accuracy:\", Accuracy)"
   ]
  },
  {
   "cell_type": "markdown",
   "id": "7b288e15",
   "metadata": {},
   "source": [
    "# Step 12: Visualizing Results"
   ]
  },
  {
   "cell_type": "markdown",
   "id": "5ed965ce",
   "metadata": {},
   "source": [
    "__Returning the actual and predicted Price values to their primary scale:__"
   ]
  },
  {
   "cell_type": "code",
   "execution_count": null,
   "id": "146d7f1b",
   "metadata": {},
   "outputs": [],
   "source": [
    "y_test_true = scaler.inverse_transform(y_test)\n",
    "y_test_pred = scaler.inverse_transform(y_pred)"
   ]
  },
  {
   "cell_type": "markdown",
   "id": "d97103e4",
   "metadata": {},
   "source": [
    "__Investigating the closeness of the prices predicted by the model to the actual prices:__"
   ]
  },
  {
   "cell_type": "code",
   "execution_count": null,
   "id": "a4c73edf",
   "metadata": {},
   "outputs": [],
   "source": [
    "plt.figure(figsize=(15, 6), dpi=150)\n",
    "plt.rcParams['axes.facecolor'] = 'yellow'\n",
    "plt.rc('axes',edgecolor='white')\n",
    "plt.plot(df['Date'].iloc[:-test_size], scaler.inverse_transform(train_data), color='black', lw=2)\n",
    "plt.plot(df['Date'].iloc[-test_size:], y_test_true, color='blue', lw=2)\n",
    "plt.plot(df['Date'].iloc[-test_size:], y_test_pred, color='red', lw=2)\n",
    "plt.title('Model Performance on Gold Price Prediction', fontsize=15)\n",
    "plt.xlabel('Date', fontsize=12)\n",
    "plt.ylabel('Price', fontsize=12)\n",
    "plt.legend(['Training Data', 'Actual Test Data', 'Predicted Test Data'], loc='upper left', prop={'size': 15})\n",
    "plt.grid(color='white')\n",
    "plt.show()"
   ]
  },
  {
   "cell_type": "markdown",
   "id": "f25051b7",
   "metadata": {},
   "source": [
    "____\n",
    "# Conclusion:\n",
    "### As can be seen, the price predicted by the LSTM model follows the actual prices greatly! The value of Loss and Accuracy (1-MAPE) obtained on the test data also confirm the great performance of the model:\n",
    "\n",
    "## 🏆 Loss: 0.001\n",
    "## 🏆 Accuracy: 96%"
   ]
  },
  {
   "cell_type": "markdown",
   "id": "5b89039b",
   "metadata": {},
   "source": [
    "## Best Regards!"
   ]
  }
 ],
 "metadata": {},
 "nbformat": 4,
 "nbformat_minor": 5
}
