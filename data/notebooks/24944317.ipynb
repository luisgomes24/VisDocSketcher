{
 "cells": [
  {
   "cell_type": "code",
   "execution_count": null,
   "id": "d2915908",
   "metadata": {},
   "outputs": [],
   "source": [
    "import pandas as pd\n",
    "train=pd.read_csv('../input/spaceship-titanic/train.csv')\n",
    "train.head()"
   ]
  },
  {
   "cell_type": "code",
   "execution_count": null,
   "id": "b81ba9b2",
   "metadata": {},
   "outputs": [],
   "source": [
    "!pip install flaml\n",
    "from sklearn.metrics import mean_absolute_percentage_error"
   ]
  },
  {
   "cell_type": "code",
   "execution_count": null,
   "id": "95816371",
   "metadata": {},
   "outputs": [],
   "source": [
    "test=pd.read_csv('../input/spaceship-titanic/test.csv')\n",
    "test.head()"
   ]
  },
  {
   "cell_type": "code",
   "execution_count": null,
   "id": "58cde1dd",
   "metadata": {},
   "outputs": [],
   "source": [
    "train.nunique().sort_values(ascending=False)"
   ]
  },
  {
   "cell_type": "code",
   "execution_count": null,
   "id": "a08da43f",
   "metadata": {},
   "outputs": [],
   "source": [
    "round(train.isnull().sum()*100/len(train),2).sort_values(ascending=False)"
   ]
  },
  {
   "cell_type": "code",
   "execution_count": null,
   "id": "073adb6d",
   "metadata": {},
   "outputs": [],
   "source": [
    "train=train.drop(['PassengerId'],axis=1)\n",
    "train.head()"
   ]
  },
  {
   "cell_type": "code",
   "execution_count": null,
   "id": "4066e3b1",
   "metadata": {},
   "outputs": [],
   "source": [
    "test=test.drop(['PassengerId'],axis=1)\n",
    "test.head()"
   ]
  },
  {
   "cell_type": "code",
   "execution_count": null,
   "id": "a5b7c117",
   "metadata": {},
   "outputs": [],
   "source": [
    "train['Destination'].value_counts()"
   ]
  },
  {
   "cell_type": "code",
   "execution_count": null,
   "id": "6d82c941",
   "metadata": {},
   "outputs": [],
   "source": [
    "train['Name'].value_counts()"
   ]
  },
  {
   "cell_type": "code",
   "execution_count": null,
   "id": "f1fd01ff",
   "metadata": {},
   "outputs": [],
   "source": [
    "train=train.drop(['Name'],axis=1)\n",
    "train.head()"
   ]
  },
  {
   "cell_type": "code",
   "execution_count": null,
   "id": "0d6c9eca",
   "metadata": {},
   "outputs": [],
   "source": [
    "test=test.drop(['Name'],axis=1)\n",
    "test.head()"
   ]
  },
  {
   "cell_type": "code",
   "execution_count": null,
   "id": "a63545a7",
   "metadata": {},
   "outputs": [],
   "source": [
    "train.info()"
   ]
  },
  {
   "cell_type": "code",
   "execution_count": null,
   "id": "3a0435cb",
   "metadata": {},
   "outputs": [],
   "source": [
    "train[['deck', 'num','side']] = train['Cabin'].str.split('/', expand=True)\n",
    "train=train.drop(['Cabin'],axis=1)\n",
    "train.head()"
   ]
  },
  {
   "cell_type": "code",
   "execution_count": null,
   "id": "28369f78",
   "metadata": {},
   "outputs": [],
   "source": [
    "test[['deck', 'num','side']] = test['Cabin'].str.split('/', expand=True)\n",
    "test=test.drop(['Cabin'],axis=1)\n",
    "test.head()"
   ]
  },
  {
   "cell_type": "code",
   "execution_count": null,
   "id": "346eea33",
   "metadata": {},
   "outputs": [],
   "source": [
    "train.nunique().sort_values(ascending=False)"
   ]
  },
  {
   "cell_type": "code",
   "execution_count": null,
   "id": "4668481f",
   "metadata": {},
   "outputs": [],
   "source": [
    "train['deck'].value_counts()"
   ]
  },
  {
   "cell_type": "code",
   "execution_count": null,
   "id": "236594f8",
   "metadata": {},
   "outputs": [],
   "source": [
    "train['deck'].unique().tolist()"
   ]
  },
  {
   "cell_type": "code",
   "execution_count": null,
   "id": "1b17c41b",
   "metadata": {},
   "outputs": [],
   "source": [
    "test['deck'].unique().tolist()"
   ]
  },
  {
   "cell_type": "code",
   "execution_count": null,
   "id": "0792e4cc",
   "metadata": {},
   "outputs": [],
   "source": [
    "train['deck']=train['deck'].replace({'A':0, 'B':1, 'C':2, 'D':3, 'E':4, 'F':5, 'G':6, 'T':7})\n",
    "train['deck'].value_counts()"
   ]
  },
  {
   "cell_type": "code",
   "execution_count": null,
   "id": "254c0b30",
   "metadata": {},
   "outputs": [],
   "source": [
    "test['deck']=test['deck'].replace({'A':0, 'B':1, 'C':2, 'D':3, 'E':4, 'F':5, 'G':6, 'T':7})\n",
    "test['deck'].value_counts()"
   ]
  },
  {
   "cell_type": "code",
   "execution_count": null,
   "id": "c754415e",
   "metadata": {},
   "outputs": [],
   "source": [
    "train.head()"
   ]
  },
  {
   "cell_type": "code",
   "execution_count": null,
   "id": "e85efb22",
   "metadata": {},
   "outputs": [],
   "source": [
    "train[['Age','RoomService','FoodCourt',\n",
    "       'ShoppingMall','Spa','VRDeck','deck','num']]=train[['Age','RoomService','FoodCourt',\n",
    "       'ShoppingMall','Spa','VRDeck','deck','num']].astype('float')\n",
    "train.info()"
   ]
  },
  {
   "cell_type": "code",
   "execution_count": null,
   "id": "27441016",
   "metadata": {},
   "outputs": [],
   "source": [
    "test[['Age','RoomService','FoodCourt',\n",
    "       'ShoppingMall','Spa','VRDeck','deck','num']]=test[['Age','RoomService','FoodCourt',\n",
    "       'ShoppingMall','Spa','VRDeck','deck','num']].astype('float')\n",
    "test.info()"
   ]
  },
  {
   "cell_type": "code",
   "execution_count": null,
   "id": "636c5d41",
   "metadata": {},
   "outputs": [],
   "source": [
    "train[['HomePlanet','CryoSleep','Destination','VIP','side']].nunique().sort_values(ascending=False)"
   ]
  },
  {
   "cell_type": "code",
   "execution_count": null,
   "id": "10084aff",
   "metadata": {},
   "outputs": [],
   "source": [
    "train=pd.get_dummies(train,prefix_sep='__')\n",
    "train.head()"
   ]
  },
  {
   "cell_type": "code",
   "execution_count": null,
   "id": "40a79be0",
   "metadata": {},
   "outputs": [],
   "source": [
    "test=pd.get_dummies(test,prefix_sep='__')\n",
    "test.head()"
   ]
  },
  {
   "cell_type": "code",
   "execution_count": null,
   "id": "2bcb57ab",
   "metadata": {},
   "outputs": [],
   "source": [
    "# !rm -r kuma_utils\n",
    "!git clone https://github.com/analokmaus/kuma_utils.git"
   ]
  },
  {
   "cell_type": "code",
   "execution_count": null,
   "id": "3d34e78c",
   "metadata": {},
   "outputs": [],
   "source": [
    "import sys\n",
    "sys.path.append(\"kuma_utils/\")\n",
    "from kuma_utils.preprocessing.imputer import LGBMImputer"
   ]
  },
  {
   "cell_type": "code",
   "execution_count": null,
   "id": "8b8d4808",
   "metadata": {},
   "outputs": [],
   "source": [
    "col=train.columns.tolist()\n",
    "col.remove('Transported')\n",
    "col"
   ]
  },
  {
   "cell_type": "code",
   "execution_count": null,
   "id": "85aa3a3a",
   "metadata": {},
   "outputs": [],
   "source": [
    "%%time\n",
    "lgbm_imtr = LGBMImputer(n_iter=500)\n",
    "\n",
    "train_iterimp = lgbm_imtr.fit_transform(train[col])\n",
    "test_iterimp = lgbm_imtr.transform(test[col])\n",
    "\n",
    "# Create train test imputed dataframe\n",
    "train_ = pd.DataFrame(train_iterimp, columns=col)\n",
    "test = pd.DataFrame(test_iterimp, columns=col)"
   ]
  },
  {
   "cell_type": "code",
   "execution_count": null,
   "id": "1750e2c6",
   "metadata": {},
   "outputs": [],
   "source": [
    "train_['Transported'] = train['Transported']\n",
    "train_.head()"
   ]
  },
  {
   "cell_type": "code",
   "execution_count": null,
   "id": "b87fedf2",
   "metadata": {},
   "outputs": [],
   "source": [
    "def undummify(df, prefix_sep=\"__\"):\n",
    "    cols2collapse = {\n",
    "        item.split(prefix_sep)[0]: (prefix_sep in item) for item in df.columns\n",
    "    }\n",
    "    series_list = []\n",
    "    for col, needs_to_collapse in cols2collapse.items():\n",
    "        if needs_to_collapse:\n",
    "            undummified = (\n",
    "                df.filter(like=col)\n",
    "                .idxmax(axis=1)\n",
    "                .apply(lambda x: x.split(prefix_sep, maxsplit=1)[1])\n",
    "                .rename(col)\n",
    "            )\n",
    "            series_list.append(undummified)\n",
    "        else:\n",
    "            series_list.append(df[col])\n",
    "    undummified_df = pd.concat(series_list, axis=1)\n",
    "    return undummified_df"
   ]
  },
  {
   "cell_type": "code",
   "execution_count": null,
   "id": "46e6fcbc",
   "metadata": {},
   "outputs": [],
   "source": [
    "train=undummify(train_)\n",
    "train.head()"
   ]
  },
  {
   "cell_type": "code",
   "execution_count": null,
   "id": "441417d0",
   "metadata": {},
   "outputs": [],
   "source": [
    "test=undummify(test)\n",
    "test.head()"
   ]
  },
  {
   "cell_type": "code",
   "execution_count": null,
   "id": "f1bf1402",
   "metadata": {},
   "outputs": [],
   "source": [
    "from flaml import AutoML\n",
    "automl = AutoML()"
   ]
  },
  {
   "cell_type": "code",
   "execution_count": null,
   "id": "28ac66fe",
   "metadata": {},
   "outputs": [],
   "source": [
    "y = train.pop('Transported')\n",
    "X = train"
   ]
  },
  {
   "cell_type": "code",
   "execution_count": null,
   "id": "4bd17ecd",
   "metadata": {},
   "outputs": [],
   "source": [
    "from sklearn.model_selection import train_test_split\n",
    "X_train, X_test, y_train, y_test = train_test_split( X, y, test_size=0.2, random_state=42,shuffle=True, stratify=y)"
   ]
  },
  {
   "cell_type": "code",
   "execution_count": null,
   "id": "54a4d0d8",
   "metadata": {},
   "outputs": [],
   "source": [
    "automl.fit(X_train, y_train, task=\"classification\",metric='micro_f1',time_budget=300)"
   ]
  },
  {
   "cell_type": "code",
   "execution_count": null,
   "id": "848e63df",
   "metadata": {},
   "outputs": [],
   "source": [
    "print('Best ML leaner:', automl.best_estimator)\n",
    "print('Best hyperparmeter config:', automl.best_config)\n",
    "print('Best micro_f1 on validation data: {0:.4g}'.format(1-automl.best_loss))\n",
    "print('Training duration of best run: {0:.4g} s'.format(automl.best_config_train_time))"
   ]
  },
  {
   "cell_type": "code",
   "execution_count": null,
   "id": "6eed1a0c",
   "metadata": {},
   "outputs": [],
   "source": [
    "from sklearn.metrics import classification_report\n",
    "print(classification_report(y_train, automl.predict(X_train)))"
   ]
  },
  {
   "cell_type": "code",
   "execution_count": null,
   "id": "41a123e5",
   "metadata": {},
   "outputs": [],
   "source": [
    "print(classification_report(y_test, automl.predict(X_test)))"
   ]
  },
  {
   "cell_type": "code",
   "execution_count": null,
   "id": "1840bb4e",
   "metadata": {},
   "outputs": [],
   "source": [
    "y_pred = automl.predict(test)\n",
    "y_pred[:5]"
   ]
  },
  {
   "cell_type": "code",
   "execution_count": null,
   "id": "fd0e0a6d",
   "metadata": {},
   "outputs": [],
   "source": [
    "df = pd.DataFrame(y_pred,columns=['Transported'])\n",
    "df.head()"
   ]
  },
  {
   "cell_type": "code",
   "execution_count": null,
   "id": "a4b4caf4",
   "metadata": {},
   "outputs": [],
   "source": [
    "sol=pd.read_csv('../input/spaceship-titanic/sample_submission.csv')\n",
    "sol.head()"
   ]
  },
  {
   "cell_type": "code",
   "execution_count": null,
   "id": "48958dba",
   "metadata": {},
   "outputs": [],
   "source": [
    "sol['Transported']=df['Transported']\n",
    "sol.head()"
   ]
  },
  {
   "cell_type": "code",
   "execution_count": null,
   "id": "81b775af",
   "metadata": {},
   "outputs": [],
   "source": [
    "sol.to_csv('./submission.csv',index=False)"
   ]
  }
 ],
 "metadata": {},
 "nbformat": 4,
 "nbformat_minor": 5
}
