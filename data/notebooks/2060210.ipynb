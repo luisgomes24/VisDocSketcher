{
 "cells": [
  {
   "cell_type": "code",
   "execution_count": null,
   "id": "650add50",
   "metadata": {},
   "outputs": [],
   "source": [
    "# This Python 3 environment comes with many helpful analytics libraries installed\n",
    "# It is defined by the kaggle/python docker image: https://github.com/kaggle/docker-python\n",
    "# For example, here's several helpful packages to load in \n",
    "\n",
    "import numpy as np # linear algebra\n",
    "import pandas as pd # data processing, CSV file I/O (e.g. pd.read_csv)\n",
    "\n",
    "# Input data files are available in the \"../input/\" directory.\n",
    "# For example, running this (by clicking run or pressing Shift+Enter) will list the files in the input directory\n",
    "\n",
    "import os\n",
    "print(os.listdir(\"../input\"))\n",
    "\n",
    "# Any results you write to the current directory are saved as output."
   ]
  },
  {
   "cell_type": "code",
   "execution_count": null,
   "id": "875124af",
   "metadata": {},
   "outputs": [],
   "source": [
    "train_df = pd.read_csv('../input/train.csv')\n",
    "X_train = train_df[\"question_text\"].fillna(\"dieter\").values\n",
    "test_df = pd.read_csv('../input/test.csv')\n",
    "X_test = test_df[\"question_text\"].fillna(\"dieter\").values\n",
    "y = train_df[\"target\"]"
   ]
  },
  {
   "cell_type": "code",
   "execution_count": null,
   "id": "18495ced",
   "metadata": {},
   "outputs": [],
   "source": [
    "from keras.models import Model\n",
    "from keras.layers import Input, Dense, Embedding, concatenate\n",
    "from keras.layers import CuDNNGRU, Bidirectional, GlobalAveragePooling1D, GlobalMaxPooling1D, Conv1D\n",
    "from keras.layers import Add, BatchNormalization, Activation, CuDNNLSTM, Dropout\n",
    "from keras.layers import *\n",
    "from keras.models import *\n",
    "from keras.preprocessing import text, sequence\n",
    "from keras.callbacks import EarlyStopping, ModelCheckpoint, ReduceLROnPlateau"
   ]
  },
  {
   "cell_type": "code",
   "execution_count": null,
   "id": "7a5c91c5",
   "metadata": {},
   "outputs": [],
   "source": [
    "maxlen = 60\n",
    "max_features = 30000\n",
    "embed_size = 300\n",
    "\n",
    "tokenizer = text.Tokenizer(num_words=max_features)\n",
    "tokenizer.fit_on_texts(list(X_train) + list(X_test))\n",
    "\n",
    "X_train = tokenizer.texts_to_sequences(X_train)\n",
    "X_test = tokenizer.texts_to_sequences(X_test)\n",
    "\n",
    "x_train = sequence.pad_sequences(X_train, maxlen=maxlen)\n",
    "x_test = sequence.pad_sequences(X_test, maxlen=maxlen)"
   ]
  },
  {
   "cell_type": "code",
   "execution_count": null,
   "id": "fd22e173",
   "metadata": {},
   "outputs": [],
   "source": [
    "def attention_3d_block(inputs, name):\n",
    "    # inputs.shape = (batch_size, time_steps, input_dim)\n",
    "    TIME_STEPS = inputs.shape[1].value\n",
    "    SINGLE_ATTENTION_VECTOR = False\n",
    "    \n",
    "    input_dim = int(inputs.shape[2])\n",
    "    a = Permute((2, 1))(inputs)\n",
    "    a = Reshape((input_dim, TIME_STEPS))(a) # this line is not useful. It's just to know which dimension is what.\n",
    "    a = Dense(TIME_STEPS, activation='softmax')(a)\n",
    "    if SINGLE_ATTENTION_VECTOR:\n",
    "        a = Lambda(lambda x: K.mean(x, axis=1))(a)\n",
    "        a = RepeatVector(input_dim)(a)\n",
    "    a_probs = Permute((2, 1), name=name)(a)\n",
    "    output_attention_mul = Multiply()([inputs, a_probs])\n",
    "    return output_attention_mul"
   ]
  },
  {
   "cell_type": "code",
   "execution_count": null,
   "id": "e678c1d8",
   "metadata": {},
   "outputs": [],
   "source": [
    "embedding_index = dict()\n",
    "f = open('../input/embeddings/glove.840B.300d/glove.840B.300d.txt',encoding='utf8')\n",
    "\n",
    "for line in f:\n",
    "    \n",
    "    values = line.split(\" \")\n",
    "    words = values[0]\n",
    "   \n",
    "    coefs = np.asarray(values[1:], dtype='float32')\n",
    "    embedding_index[words]= coefs\n",
    "    \n",
    "f.close()\n",
    "print('Loaded %s word vectors.' % len(embedding_index))\n",
    "\n",
    "embedding_matrix = np.zeros((max_features, embed_size))\n",
    "for word, index in tokenizer.word_index.items():\n",
    "    if index > max_features - 1:\n",
    "        break\n",
    "    else:\n",
    "        embedding_vector = embedding_index.get(word)\n",
    "        if embedding_vector is not None:\n",
    "            embedding_matrix[index] = embedding_vector"
   ]
  },
  {
   "cell_type": "code",
   "execution_count": null,
   "id": "9501f860",
   "metadata": {},
   "outputs": [],
   "source": [
    "def model1(init):\n",
    "    x = init\n",
    "    x = Conv1D(64, 3,strides=2,padding='same',activation='relu')(x)\n",
    "    x = Bidirectional(CuDNNLSTM(128, return_sequences=True))(x)\n",
    "    x = attention_3d_block(x, 'attention_vec_1')\n",
    "    x = Bidirectional(CuDNNLSTM(64, return_sequences=True))(x)\n",
    "    x = attention_3d_block(x, 'attention_vec_2')\n",
    "    x = GlobalMaxPool1D()(x)\n",
    "    out = Dense(64, activation=\"relu\")(x)\n",
    "    return out\n",
    "\n",
    "def m2_block(init, filter, kernel, pool):\n",
    "    x = init\n",
    "    \n",
    "    x = Conv1D(filter, kernel, padding='same', kernel_initializer='he_normal', activation='elu')(x)\n",
    "    skip = x\n",
    "    x = Conv1D(filter, kernel, padding='same', kernel_initializer='he_normal', activation='elu')(x)\n",
    "    x = Conv1D(filter, kernel, padding='same')(x)\n",
    "    x = BatchNormalization()(x)\n",
    "    x = Add()([x, skip])\n",
    "    x = Activation('relu')(x)\n",
    "    x = MaxPooling1D(pool)(x)\n",
    "    \n",
    "    x = Flatten()(x)\n",
    "    x = BatchNormalization()(x)\n",
    "    \n",
    "    return x\n",
    "\n",
    "def model2(init):\n",
    "    #init = Reshape((maxlen, embed_size, 1))(init)\n",
    "    \n",
    "    # pool = maxlen - filter + 1\n",
    "    x0 = m2_block(init, 32, 1, maxlen - 1 + 1)\n",
    "    x1 = m2_block(init, 32, 2, maxlen - 2 + 1)\n",
    "    x2 = m2_block(init, 32, 3, maxlen - 3 + 1)\n",
    "    x3 = m2_block(init, 32, 5, maxlen - 5 + 1)\n",
    "    \n",
    "    x = concatenate([x0, x1, x2, x3])\n",
    "    x = Dropout(0.5)(x)\n",
    "    out = Dense(64, activation=\"relu\")(x)\n",
    "    return out\n",
    "\n",
    "\n",
    "def get_model():\n",
    "    inp = Input(shape=(maxlen, ))\n",
    "    #x = Embedding(max_features, embed_size)(inp)\n",
    "    x = Embedding(input_dim=max_features, output_dim= embed_size , input_length=maxlen,weights=[embedding_matrix], trainable=False)(inp)\n",
    "    \n",
    "    out1 = model1(x)\n",
    "    out2 = model2(x)\n",
    "    \n",
    "    conc = concatenate([out1, out2])\n",
    "    \n",
    "    #conc = out1\n",
    "    x = Dropout(0.4)(conc)\n",
    "    x = Dense(64, activation='relu')(x)\n",
    "    x = Reshape((x.shape[1].value, 1))(x)\n",
    "    x = CuDNNLSTM(32)(x)\n",
    "    outp = Dense(1, activation=\"sigmoid\")(x)\n",
    "    \n",
    "    model = Model(inputs=inp, outputs=outp)\n",
    "    model.compile(loss='binary_crossentropy',\n",
    "                  optimizer='adam',\n",
    "                  metrics=['accuracy'])    \n",
    "\n",
    "    return model"
   ]
  },
  {
   "cell_type": "code",
   "execution_count": null,
   "id": "17efeaea",
   "metadata": {},
   "outputs": [],
   "source": [
    "model = get_model()\n",
    "model.summary()"
   ]
  },
  {
   "cell_type": "code",
   "execution_count": null,
   "id": "93b346c7",
   "metadata": {},
   "outputs": [],
   "source": [
    "batch_size = 256\n",
    "epochs = 5"
   ]
  },
  {
   "cell_type": "code",
   "execution_count": null,
   "id": "3317a3c4",
   "metadata": {},
   "outputs": [],
   "source": [
    "from sklearn.model_selection import train_test_split\n",
    "X_tra, X_val, y_tra, y_val = train_test_split(x_train, y, test_size = 0.07, random_state=42)"
   ]
  },
  {
   "cell_type": "code",
   "execution_count": null,
   "id": "2702340d",
   "metadata": {},
   "outputs": [],
   "source": [
    "early_stopping = EarlyStopping(patience=3, verbose=1)\n",
    "model_checkpoint = ModelCheckpoint('./quora.model', save_best_only=True, verbose=1)\n",
    "reduce_lr = ReduceLROnPlateau(factor=0.5, patience=3, min_lr=0.0001, verbose=1)\n",
    "\n",
    "#model = load_model('./quora.model')\n",
    "\n",
    "hist = model.fit(X_tra, y_tra, batch_size=batch_size, epochs=epochs, validation_data=(X_val, y_val),\n",
    "                 verbose=True, callbacks = [early_stopping, model_checkpoint, reduce_lr])"
   ]
  },
  {
   "cell_type": "code",
   "execution_count": null,
   "id": "eb804625",
   "metadata": {},
   "outputs": [],
   "source": [
    "y_pred = model.predict(x_test, batch_size=1024, verbose=True)\n",
    "y_te = (y_pred[:,0] > 0.5).astype(np.int)\n",
    "\n",
    "submit_df = pd.DataFrame({\"qid\": test_df[\"qid\"], \"prediction\": y_te})\n",
    "submit_df.to_csv(\"submission.csv\", index=False)"
   ]
  },
  {
   "cell_type": "code",
   "execution_count": null,
   "id": "24e8b3fa",
   "metadata": {},
   "outputs": [],
   "source": [
    "from IPython.display import HTML\n",
    "import base64  \n",
    "import pandas as pd  \n",
    "\n",
    "def create_download_link( df, title = \"Download CSV file\", filename = \"data.csv\"):  \n",
    "    csv = df.to_csv(index =False)\n",
    "    b64 = base64.b64encode(csv.encode())\n",
    "    payload = b64.decode()\n",
    "    html = '<a download=\"{filename}\" href=\"data:text/csv;base64,{payload}\" target=\"_blank\">{title}</a>'\n",
    "    html = html.format(payload=payload,title=title,filename=filename)\n",
    "    return HTML(html)\n",
    "\n",
    "create_download_link(submit_df)"
   ]
  },
  {
   "cell_type": "code",
   "execution_count": null,
   "id": "bb57514d",
   "metadata": {},
   "outputs": [],
   "source": [
    "nan"
   ]
  }
 ],
 "metadata": {},
 "nbformat": 4,
 "nbformat_minor": 5
}
