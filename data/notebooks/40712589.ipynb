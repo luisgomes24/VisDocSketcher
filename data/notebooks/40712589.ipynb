{
 "cells": [
  {
   "cell_type": "markdown",
   "id": "08c0887a",
   "metadata": {},
   "source": [
    "# Uber Drives Data Analysis With Python\n",
    "## Created And Done By \"Anubhav Kumar Gupta\""
   ]
  },
  {
   "cell_type": "code",
   "execution_count": null,
   "id": "a8709591",
   "metadata": {},
   "outputs": [],
   "source": [
    "import IPython.display as dsp\n",
    "dsp.Image(url='https://www.careeraddict.com/uploads/article/61365/how-to-become-an-uber-driver.png',height=800,width=500)"
   ]
  },
  {
   "cell_type": "code",
   "execution_count": null,
   "id": "3f0e7b3f",
   "metadata": {},
   "outputs": [],
   "source": [
    "import numpy as np\n",
    "import pandas as pd\n",
    "import matplotlib.pyplot as plt\n",
    "import seaborn as sns\n",
    "import plotly.express as px\n",
    "import datetime as dt"
   ]
  },
  {
   "cell_type": "code",
   "execution_count": null,
   "id": "68599bee",
   "metadata": {},
   "outputs": [],
   "source": [
    "df=pd.read_csv('/kaggle/input/uberdrives/My Uber Drives - 2016.csv')"
   ]
  },
  {
   "cell_type": "code",
   "execution_count": null,
   "id": "72f783b9",
   "metadata": {},
   "outputs": [],
   "source": [
    "df.head()"
   ]
  },
  {
   "cell_type": "code",
   "execution_count": null,
   "id": "3d997e80",
   "metadata": {},
   "outputs": [],
   "source": [
    "df.size"
   ]
  },
  {
   "cell_type": "code",
   "execution_count": null,
   "id": "bcd17a9f",
   "metadata": {},
   "outputs": [],
   "source": [
    "df.shape"
   ]
  },
  {
   "cell_type": "code",
   "execution_count": null,
   "id": "795dcb3d",
   "metadata": {},
   "outputs": [],
   "source": [
    "df.info()"
   ]
  },
  {
   "cell_type": "code",
   "execution_count": null,
   "id": "a6062393",
   "metadata": {},
   "outputs": [],
   "source": [
    "df.describe()"
   ]
  },
  {
   "cell_type": "code",
   "execution_count": null,
   "id": "dfb538b8",
   "metadata": {},
   "outputs": [],
   "source": [
    "df.columns"
   ]
  },
  {
   "cell_type": "code",
   "execution_count": null,
   "id": "73b3178c",
   "metadata": {},
   "outputs": [],
   "source": [
    "df.rename(columns={'START_DATE*':'start_date','END_DATE*':'end_date','CATEGORY*':'category','START*':'start','STOP*':'stop','MILES*':'miles','PURPOSE*':'purpose'},inplace=True)"
   ]
  },
  {
   "cell_type": "code",
   "execution_count": null,
   "id": "e550d615",
   "metadata": {},
   "outputs": [],
   "source": [
    "df.columns"
   ]
  },
  {
   "cell_type": "markdown",
   "id": "71a8c8a3",
   "metadata": {},
   "source": [
    "####  Solving The Error:-\"Unknown string format: Totals present at position 1155\" To Convert Column 'start_date' To DateTime"
   ]
  },
  {
   "cell_type": "code",
   "execution_count": null,
   "id": "7de6af94",
   "metadata": {},
   "outputs": [],
   "source": [
    "df.iloc[[1155]]"
   ]
  },
  {
   "cell_type": "code",
   "execution_count": null,
   "id": "3c6995b7",
   "metadata": {},
   "outputs": [],
   "source": [
    "df.drop([1155],axis=0,inplace=True)"
   ]
  },
  {
   "cell_type": "code",
   "execution_count": null,
   "id": "c2b15a72",
   "metadata": {},
   "outputs": [],
   "source": [
    "df['start_date']=pd.to_datetime(df['start_date'])"
   ]
  },
  {
   "cell_type": "markdown",
   "id": "5c1847c8",
   "metadata": {},
   "source": [
    "#### Error Solved In The Previous 3 Steps:-Successfully Converted Column 'start_date' To DateTime"
   ]
  },
  {
   "cell_type": "code",
   "execution_count": null,
   "id": "0fd10659",
   "metadata": {},
   "outputs": [],
   "source": [
    "df['end_date']=pd.to_datetime(df['end_date'])"
   ]
  },
  {
   "cell_type": "code",
   "execution_count": null,
   "id": "725758a7",
   "metadata": {},
   "outputs": [],
   "source": [
    "df[df.duplicated()]"
   ]
  },
  {
   "cell_type": "code",
   "execution_count": null,
   "id": "59aea9f3",
   "metadata": {},
   "outputs": [],
   "source": [
    "df.drop([492],axis=0,inplace=True)"
   ]
  },
  {
   "cell_type": "code",
   "execution_count": null,
   "id": "28967dc8",
   "metadata": {},
   "outputs": [],
   "source": [
    "df[df.duplicated()]"
   ]
  },
  {
   "cell_type": "code",
   "execution_count": null,
   "id": "0f2ce599",
   "metadata": {},
   "outputs": [],
   "source": [
    "df.isna().sum()"
   ]
  },
  {
   "cell_type": "code",
   "execution_count": null,
   "id": "f58dad24",
   "metadata": {},
   "outputs": [],
   "source": [
    "df['purpose'].value_counts()"
   ]
  },
  {
   "cell_type": "code",
   "execution_count": null,
   "id": "15c83f98",
   "metadata": {},
   "outputs": [],
   "source": [
    "df['purpose']=df['purpose'].replace(np.nan,'Purpose Not Defined')"
   ]
  },
  {
   "cell_type": "code",
   "execution_count": null,
   "id": "3b899cd8",
   "metadata": {},
   "outputs": [],
   "source": [
    "df.isna().sum()"
   ]
  },
  {
   "cell_type": "code",
   "execution_count": null,
   "id": "5637bdaf",
   "metadata": {},
   "outputs": [],
   "source": [
    "df['purpose'].value_counts()"
   ]
  },
  {
   "cell_type": "code",
   "execution_count": null,
   "id": "ddf3963a",
   "metadata": {},
   "outputs": [],
   "source": [
    "px.bar(df,x=df['purpose'].value_counts().keys(),y=df['purpose'].value_counts(),color=df['purpose'].value_counts().keys(),title='Purpose To Travel')"
   ]
  },
  {
   "cell_type": "code",
   "execution_count": null,
   "id": "c47750b1",
   "metadata": {},
   "outputs": [],
   "source": [
    "df['category'].value_counts()"
   ]
  },
  {
   "cell_type": "code",
   "execution_count": null,
   "id": "4e4995dd",
   "metadata": {},
   "outputs": [],
   "source": [
    "px.bar(df,x=df['category'].value_counts().keys(),y=df['category'].value_counts(),color=df['category'].value_counts().keys(),title='Category To Travel')"
   ]
  },
  {
   "cell_type": "code",
   "execution_count": null,
   "id": "11241b1e",
   "metadata": {},
   "outputs": [],
   "source": [
    "df['month_name']=df['start_date'].dt.month_name()"
   ]
  },
  {
   "cell_type": "code",
   "execution_count": null,
   "id": "e886625a",
   "metadata": {},
   "outputs": [],
   "source": [
    "df['day_name']=df['start_date'].dt.day_name()"
   ]
  },
  {
   "cell_type": "code",
   "execution_count": null,
   "id": "513ddb45",
   "metadata": {},
   "outputs": [],
   "source": [
    "df.head()"
   ]
  },
  {
   "cell_type": "code",
   "execution_count": null,
   "id": "cb9bf9cb",
   "metadata": {},
   "outputs": [],
   "source": [
    "df['month_name'].value_counts()"
   ]
  },
  {
   "cell_type": "code",
   "execution_count": null,
   "id": "138c7b78",
   "metadata": {},
   "outputs": [],
   "source": [
    "px.bar(df,x=df['month_name'].value_counts().keys(),y=df['month_name'].value_counts(),color=df['month_name'].value_counts().keys(),title='Months To Travel')"
   ]
  },
  {
   "cell_type": "code",
   "execution_count": null,
   "id": "7f45cfaf",
   "metadata": {},
   "outputs": [],
   "source": [
    "df['day_name'].value_counts()"
   ]
  },
  {
   "cell_type": "code",
   "execution_count": null,
   "id": "ed0bdde2",
   "metadata": {},
   "outputs": [],
   "source": [
    "px.bar(df,x=df['day_name'].value_counts().keys(),y=df['day_name'].value_counts(),color=df['day_name'].value_counts().keys(),title='Days To Travel')"
   ]
  },
  {
   "cell_type": "code",
   "execution_count": null,
   "id": "620aaaef",
   "metadata": {},
   "outputs": [],
   "source": [
    "df['start'].value_counts()"
   ]
  },
  {
   "cell_type": "code",
   "execution_count": null,
   "id": "d0aff669",
   "metadata": {},
   "outputs": [],
   "source": [
    "px.bar(df,x=df['start'].value_counts().keys(),y=df['start'].value_counts(),color=df['start'].value_counts().keys(),title='Start Location To Travel')"
   ]
  },
  {
   "cell_type": "code",
   "execution_count": null,
   "id": "27d28088",
   "metadata": {},
   "outputs": [],
   "source": [
    "df['stop'].value_counts()"
   ]
  },
  {
   "cell_type": "code",
   "execution_count": null,
   "id": "b33401ad",
   "metadata": {},
   "outputs": [],
   "source": [
    "px.bar(df,x=df['stop'].value_counts().keys(),y=df['stop'].value_counts(),color=df['stop'].value_counts().keys(),title='Stop Location To Travel')"
   ]
  },
  {
   "cell_type": "code",
   "execution_count": null,
   "id": "d39b3e64",
   "metadata": {},
   "outputs": [],
   "source": [
    "df_mon_day=df.groupby(['month_name','day_name']).agg({'day_name':'count'}).rename(columns={'day_name':'day_name_count'}).reset_index()\n",
    "df_mon_day.head()"
   ]
  },
  {
   "cell_type": "code",
   "execution_count": null,
   "id": "e476a89b",
   "metadata": {},
   "outputs": [],
   "source": [
    "df_mon_day.sort_values(by='day_name_count',ascending=False).head()"
   ]
  },
  {
   "cell_type": "code",
   "execution_count": null,
   "id": "924ba74c",
   "metadata": {},
   "outputs": [],
   "source": [
    "px.bar(df_mon_day,x='month_name',y='day_name_count',color='day_name',title='Month Day To Travel')"
   ]
  },
  {
   "cell_type": "markdown",
   "id": "00b54645",
   "metadata": {},
   "source": [
    "## Thanks And Regards\n",
    "### Anubhav Kumar Gupta"
   ]
  }
 ],
 "metadata": {},
 "nbformat": 4,
 "nbformat_minor": 5
}
