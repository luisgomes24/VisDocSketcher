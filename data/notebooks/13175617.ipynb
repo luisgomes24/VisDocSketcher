{
 "cells": [
  {
   "cell_type": "code",
   "execution_count": null,
   "id": "4870ea86",
   "metadata": {},
   "outputs": [],
   "source": [
    "# This Python 3 environment comes with many helpful analytics libraries installed\n",
    "# It is defined by the kaggle/python Docker image: https://github.com/kaggle/docker-python\n",
    "# For example, here's several helpful packages to load\n",
    "\n",
    "import numpy as np # linear algebra\n",
    "import pandas as pd # data processing, CSV file I/O (e.g. pd.read_csv)\n",
    "\n",
    "# Input data files are available in the read-only \"../input/\" directory\n",
    "# For example, running this (by clicking run or pressing Shift+Enter) will list all files under the input directory\n",
    "\n",
    "import os\n",
    "for dirname, _, filenames in os.walk('/kaggle/input'):\n",
    "    for filename in filenames:\n",
    "        print(os.path.join(dirname, filename))\n",
    "\n",
    "# You can write up to 20GB to the current directory (/kaggle/working/) that gets preserved as output when you create a version using \"Save & Run All\" \n",
    "# You can also write temporary files to /kaggle/temp/, but they won't be saved outside of the current session"
   ]
  },
  {
   "cell_type": "code",
   "execution_count": null,
   "id": "63518ae4",
   "metadata": {},
   "outputs": [],
   "source": [
    "import random\n",
    "import pandas as pd\n",
    "import numpy as np\n",
    "import dill\n",
    "import tensorflow as tf\n",
    "from tensorflow import keras"
   ]
  },
  {
   "cell_type": "markdown",
   "id": "3e1a976c",
   "metadata": {},
   "source": [
    "### This notebook is only dedicated to submitting. The model training is made in : [JMarket-Keras Starter](https://www.kaggle.com/tchaye59/jmarket-keras-starter)"
   ]
  },
  {
   "cell_type": "markdown",
   "id": "5bfc4d8d",
   "metadata": {},
   "source": [
    "# Load model and other files"
   ]
  },
  {
   "cell_type": "code",
   "execution_count": null,
   "id": "3b4283b0",
   "metadata": {},
   "outputs": [],
   "source": [
    "feature_cols = dill.load(open('/kaggle/input/kmarket-mlp/feature_cols.dill','rb'))\n",
    "model = tf.keras.models.load_model('/kaggle/input/kmarket-mlp/val_model.hdf5')"
   ]
  },
  {
   "cell_type": "markdown",
   "id": "4ec877db",
   "metadata": {},
   "source": [
    "# Generate submission"
   ]
  },
  {
   "cell_type": "code",
   "execution_count": null,
   "id": "47797c06",
   "metadata": {},
   "outputs": [],
   "source": [
    "import janestreet\n",
    "env = janestreet.make_env() # initialize the environment\n",
    "iter_test = env.iter_test() # an iterator which loops over the test set\n",
    "\n",
    "for (test_df, sample_prediction_df) in iter_test:\n",
    "    test_df.fillna(0,inplace=True)\n",
    "    X = test_df[feature_cols].values\n",
    "    action = model(X,training=False).numpy()[0,0] > 0.5\n",
    "    sample_prediction_df.action = int(action)\n",
    "    env.predict(sample_prediction_df)"
   ]
  },
  {
   "cell_type": "code",
   "execution_count": null,
   "id": "5c2558bf",
   "metadata": {},
   "outputs": [],
   "source": [
    "#pd.read_csv('./submission.csv')"
   ]
  },
  {
   "cell_type": "code",
   "execution_count": null,
   "id": "170c0959",
   "metadata": {},
   "outputs": [],
   "source": [
    "nan"
   ]
  }
 ],
 "metadata": {},
 "nbformat": 4,
 "nbformat_minor": 5
}
