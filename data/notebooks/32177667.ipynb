{
 "cells": [
  {
   "cell_type": "code",
   "execution_count": null,
   "id": "32f75374",
   "metadata": {},
   "outputs": [],
   "source": [
    "import warnings\n",
    "warnings.filterwarnings(\"ignore\")\n",
    "\n",
    "import pandas as pd\n",
    "import numpy as np\n",
    "import matplotlib.pyplot as plt\n",
    "import networkx as nx\n",
    "from networkx.algorithms.traversal.depth_first_search import dfs_tree"
   ]
  },
  {
   "cell_type": "code",
   "execution_count": null,
   "id": "4c6c70d1",
   "metadata": {},
   "outputs": [],
   "source": [
    "!sudo apt-get install -y graphviz graphviz-dev\n",
    "!pip install pygraphviz"
   ]
  },
  {
   "cell_type": "code",
   "execution_count": null,
   "id": "cdd8e713",
   "metadata": {},
   "outputs": [],
   "source": [
    "df = pd.read_csv('../input/otto-recommender-kernel-statistics/otto-recommender-system_kernels.csv')\n",
    "df.head()"
   ]
  },
  {
   "cell_type": "markdown",
   "id": "7a7b35a0",
   "metadata": {},
   "source": [
    "# Top-20 kernel creators "
   ]
  },
  {
   "cell_type": "code",
   "execution_count": null,
   "id": "c1a9af88",
   "metadata": {},
   "outputs": [],
   "source": [
    "df['KernelAuthor'].value_counts().head(20)"
   ]
  },
  {
   "cell_type": "markdown",
   "id": "5e91a2d9",
   "metadata": {},
   "source": [
    "# Perfomance Tiers vs kernel creators "
   ]
  },
  {
   "cell_type": "code",
   "execution_count": null,
   "id": "3255c5c8",
   "metadata": {},
   "outputs": [],
   "source": [
    "df['KernelAuthorPerformanceTier'].value_counts()"
   ]
  },
  {
   "cell_type": "markdown",
   "id": "03407fcb",
   "metadata": {},
   "source": [
    "# Kernels medals "
   ]
  },
  {
   "cell_type": "code",
   "execution_count": null,
   "id": "17543674",
   "metadata": {},
   "outputs": [],
   "source": [
    "df['medal'].value_counts()"
   ]
  },
  {
   "cell_type": "markdown",
   "id": "2f3ff64c",
   "metadata": {},
   "source": [
    "# Medals for kernels creators (top-20)"
   ]
  },
  {
   "cell_type": "code",
   "execution_count": null,
   "id": "1fb20d23",
   "metadata": {},
   "outputs": [],
   "source": [
    "df.groupby('KernelAuthor')['medal'].value_counts()\\\n",
    "                .unstack()[['GOLD', 'SILVER', 'BRONZE']]\\\n",
    "                .fillna(0).sort_values(['GOLD', 'SILVER', 'BRONZE'], ascending = False).head(20)"
   ]
  },
  {
   "cell_type": "markdown",
   "id": "ea6ce869",
   "metadata": {},
   "source": [
    "# Kernels vs Language "
   ]
  },
  {
   "cell_type": "code",
   "execution_count": null,
   "id": "271b1ea4",
   "metadata": {},
   "outputs": [],
   "source": [
    "df['languageName'].value_counts()"
   ]
  },
  {
   "cell_type": "markdown",
   "id": "09dd0686",
   "metadata": {},
   "source": [
    "# How many kernels are the forks? "
   ]
  },
  {
   "cell_type": "code",
   "execution_count": null,
   "id": "2529c972",
   "metadata": {},
   "outputs": [],
   "source": [
    "df['isFork'].fillna(0).mean()"
   ]
  },
  {
   "cell_type": "markdown",
   "id": "c2d4a7f3",
   "metadata": {},
   "source": [
    "# How many lines are changed in forks?"
   ]
  },
  {
   "cell_type": "code",
   "execution_count": null,
   "id": "dbbc072d",
   "metadata": {},
   "outputs": [],
   "source": [
    "df['ForkLinesChanged'].describe()"
   ]
  },
  {
   "cell_type": "markdown",
   "id": "8e68a257",
   "metadata": {},
   "source": [
    "# Use GPU or not? "
   ]
  },
  {
   "cell_type": "code",
   "execution_count": null,
   "id": "56b7e1ab",
   "metadata": {},
   "outputs": [],
   "source": [
    "df['isGpuEnabled'].fillna(0).mean()"
   ]
  },
  {
   "cell_type": "markdown",
   "id": "7b6ac921",
   "metadata": {},
   "source": [
    "# Upvotes vs views "
   ]
  },
  {
   "cell_type": "code",
   "execution_count": null,
   "id": "6cdbe811",
   "metadata": {},
   "outputs": [],
   "source": [
    "plt.figure(figsize = (10, 10))\n",
    "plt.scatter(df['totalVotes'].values, df['totalViews'].values)\n",
    "plt.xlabel('totalVotes')\n",
    "plt.ylabel('totalViews')\n",
    "plt.grid(True)\n",
    "plt.show();"
   ]
  },
  {
   "cell_type": "code",
   "execution_count": null,
   "id": "d708da6b",
   "metadata": {},
   "outputs": [],
   "source": [
    "plt.figure(figsize = (10, 10))\n",
    "plt.scatter(df['totalVotes'].values, df['bestPublicScore'].values)\n",
    "plt.xlabel('totalVotes')\n",
    "plt.ylabel('bestPublicScore')\n",
    "plt.ylim([0.45, 0.6])\n",
    "plt.grid(True)\n",
    "plt.show();"
   ]
  },
  {
   "cell_type": "markdown",
   "id": "f7270d86",
   "metadata": {},
   "source": [
    "# Most commented kernels "
   ]
  },
  {
   "cell_type": "code",
   "execution_count": null,
   "id": "de7d0341",
   "metadata": {},
   "outputs": [],
   "source": [
    "df[['title', 'totalComments']].sort_values('totalComments', ascending = False).head(20).reset_index(drop = True)"
   ]
  },
  {
   "cell_type": "markdown",
   "id": "3604c067",
   "metadata": {},
   "source": [
    "# Fork graph"
   ]
  },
  {
   "cell_type": "code",
   "execution_count": null,
   "id": "3c5a4515",
   "metadata": {},
   "outputs": [],
   "source": [
    "forks = df[['title', 'totalVotes', 'id', 'forkParent']].values\n",
    "votes_dict = {i:v for i,v in zip(forks[:, 2], forks[:, 1])}"
   ]
  },
  {
   "cell_type": "code",
   "execution_count": null,
   "id": "560a36b3",
   "metadata": {},
   "outputs": [],
   "source": [
    "G = nx.DiGraph()\n",
    "for title, votes, k_id, parent_id in forks:\n",
    "    G.add_node(k_id, title = title, votes = votes)\n",
    "    \n",
    "for title, votes, k_id, parent_id in forks:\n",
    "    if parent_id != -1:\n",
    "        G.add_edge(parent_id, k_id)"
   ]
  },
  {
   "cell_type": "code",
   "execution_count": null,
   "id": "1d860d83",
   "metadata": {},
   "outputs": [],
   "source": [
    "connected_components = []\n",
    "for cc in nx.connected_components(G.to_undirected()):\n",
    "    if len(cc) == 1:\n",
    "        G.remove_node(list(cc)[0])\n",
    "    else:\n",
    "        connected_components.append(cc)"
   ]
  },
  {
   "cell_type": "code",
   "execution_count": null,
   "id": "d137b50b",
   "metadata": {},
   "outputs": [],
   "source": [
    "plt.figure(figsize = (30, 8))\n",
    "pos = nx.nx_agraph.graphviz_layout(G, prog=\"dot\")\n",
    "nx.draw(G, pos = pos, node_size=10000)\n",
    "text = nx.draw_networkx_labels(G, pos)\n",
    "for _, t in text.items():\n",
    "    t.set_rotation('vertical')\n",
    "    t.set_color('white')\n",
    "plt.show()"
   ]
  },
  {
   "cell_type": "code",
   "execution_count": null,
   "id": "96bd76b1",
   "metadata": {},
   "outputs": [],
   "source": [
    "nodes_subtree_size = {}\n",
    "nodes_cum_votes = {}\n",
    "for node in G.nodes():\n",
    "    subtree = dfs_tree(G, node)\n",
    "    nodes_subtree_size[node] = len(subtree.nodes()) - 1\n",
    "    nodes_cum_votes[node] = sum([votes_dict[n] if n in votes_dict else 0 for n in subtree.nodes()])\n",
    "        "
   ]
  },
  {
   "cell_type": "code",
   "execution_count": null,
   "id": "dd5f1824",
   "metadata": {},
   "outputs": [],
   "source": [
    "forks = df[['title', 'KernelAuthor', 'id', 'forkParent']]\n",
    "forks['TotalForkedKernels'] = forks['id'].map(nodes_subtree_size).fillna(0)\n",
    "forks['CumulatedVotes'] = forks['id'].map(nodes_cum_votes).fillna(0)"
   ]
  },
  {
   "cell_type": "markdown",
   "id": "dc96d4fd",
   "metadata": {},
   "source": [
    "# Most forks kernels (top-20)"
   ]
  },
  {
   "cell_type": "code",
   "execution_count": null,
   "id": "015c637b",
   "metadata": {},
   "outputs": [],
   "source": [
    "forks.sort_values('TotalForkedKernels', ascending = False).reset_index(drop = True).head(20)"
   ]
  },
  {
   "cell_type": "markdown",
   "id": "a9df522f",
   "metadata": {},
   "source": [
    "# Most cumulative votes kernels (top-20) "
   ]
  },
  {
   "cell_type": "code",
   "execution_count": null,
   "id": "0f2ccb0f",
   "metadata": {},
   "outputs": [],
   "source": [
    "forks.sort_values('CumulatedVotes', ascending = False).reset_index(drop = True).head(20)"
   ]
  }
 ],
 "metadata": {},
 "nbformat": 4,
 "nbformat_minor": 5
}
