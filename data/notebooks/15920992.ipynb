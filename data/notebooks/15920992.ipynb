{
 "cells": [
  {
   "cell_type": "markdown",
   "id": "11cf1dc7",
   "metadata": {},
   "source": [
    "## MNIST Competition"
   ]
  },
  {
   "cell_type": "markdown",
   "id": "12a61088",
   "metadata": {},
   "source": [
    "<img src=\"https://miro.medium.com/max/1168/1*2lSjt9YKJn9sxK7DSeGDyw.jpeg\">"
   ]
  },
  {
   "cell_type": "markdown",
   "id": "e3750318",
   "metadata": {},
   "source": [
    "## Import necessary libraries"
   ]
  },
  {
   "cell_type": "code",
   "execution_count": null,
   "id": "c3919462",
   "metadata": {},
   "outputs": [],
   "source": [
    "import pandas as pd\n",
    "import numpy as np\n",
    "import matplotlib.pyplot as plt\n",
    "import warnings\n",
    "from sklearn.model_selection import train_test_split \n",
    "import tensorflow as tf\n",
    "from tensorflow import keras\n",
    "import seaborn as sns\n",
    "from sklearn.metrics import confusion_matrix"
   ]
  },
  {
   "cell_type": "code",
   "execution_count": null,
   "id": "dbb1826b",
   "metadata": {},
   "outputs": [],
   "source": [
    "warnings.simplefilter(action='ignore', category=FutureWarning)\n",
    "pd.set_option('display.float_format', lambda x: '%.3f' % x)"
   ]
  },
  {
   "cell_type": "markdown",
   "id": "a911de8a",
   "metadata": {},
   "source": [
    "## Load data"
   ]
  },
  {
   "cell_type": "code",
   "execution_count": null,
   "id": "20752c1a",
   "metadata": {},
   "outputs": [],
   "source": [
    "train = pd.read_csv('../input/digit-recognizer/train.csv')\n",
    "test = pd.read_csv('../input/digit-recognizer/test.csv')"
   ]
  },
  {
   "cell_type": "code",
   "execution_count": null,
   "id": "0d99d018",
   "metadata": {},
   "outputs": [],
   "source": [
    "X = train.drop('label',axis = 1)\n",
    "y = train['label']"
   ]
  },
  {
   "cell_type": "code",
   "execution_count": null,
   "id": "6e5ff517",
   "metadata": {},
   "outputs": [],
   "source": [
    "X_train, X_val, y_train, y_val = train_test_split(X, y, test_size=0.8, random_state=42)"
   ]
  },
  {
   "cell_type": "markdown",
   "id": "c2854e6d",
   "metadata": {},
   "source": [
    "## Data normalization"
   ]
  },
  {
   "cell_type": "code",
   "execution_count": null,
   "id": "01330582",
   "metadata": {},
   "outputs": [],
   "source": [
    "X_train = X_train.values / 255.0\n",
    "X_val = X_val.values / 255.0\n",
    "X_test = test.values / 255.0"
   ]
  },
  {
   "cell_type": "markdown",
   "id": "dc15b4fd",
   "metadata": {},
   "source": [
    "## Data visualization "
   ]
  },
  {
   "cell_type": "code",
   "execution_count": null,
   "id": "3c578ee8",
   "metadata": {},
   "outputs": [],
   "source": [
    "small_data = X_train[:50]"
   ]
  },
  {
   "cell_type": "code",
   "execution_count": null,
   "id": "479920da",
   "metadata": {},
   "outputs": [],
   "source": [
    "def plots(m,n):\n",
    "    ### Function for plots\n",
    "    plt.figure(figsize=(10,6))\n",
    "    for plot_index in range(len(small_data)):\n",
    "        plt.subplot(m,n,plot_index+1)\n",
    "        plt.imshow(small_data[plot_index].reshape(28,28),cmap = 'binary')\n",
    "        plt.axis('off')\n",
    "    plt.show()"
   ]
  },
  {
   "cell_type": "code",
   "execution_count": null,
   "id": "568f9f42",
   "metadata": {},
   "outputs": [],
   "source": [
    "plots(10,5)"
   ]
  },
  {
   "cell_type": "code",
   "execution_count": null,
   "id": "610fd3d8",
   "metadata": {},
   "outputs": [],
   "source": [
    "print(np.array(y_train[:50]).reshape(10,5))"
   ]
  },
  {
   "cell_type": "code",
   "execution_count": null,
   "id": "25119116",
   "metadata": {},
   "outputs": [],
   "source": [
    "plt.figure(figsize=(12,6))\n",
    "sns.countplot(train['label'])\n",
    "plt.title('Histogram of numbers 0-9')\n",
    "plt.xlabel('Label',fontsize = 12)\n",
    "plt.xlabel('Count',fontsize = 12)\n",
    "plt.show()"
   ]
  },
  {
   "cell_type": "markdown",
   "id": "bcd45dec",
   "metadata": {},
   "source": [
    "## CNN"
   ]
  },
  {
   "cell_type": "code",
   "execution_count": null,
   "id": "0fce9ee2",
   "metadata": {},
   "outputs": [],
   "source": [
    "X_train = X_train.reshape(-1,28, 28, 1)"
   ]
  },
  {
   "cell_type": "code",
   "execution_count": null,
   "id": "7af519ab",
   "metadata": {},
   "outputs": [],
   "source": [
    "X_val = X_val.reshape(-1,28, 28, 1)"
   ]
  },
  {
   "cell_type": "code",
   "execution_count": null,
   "id": "2a3f2e8c",
   "metadata": {},
   "outputs": [],
   "source": [
    "X_test = X_test.reshape(-1,28, 28, 1)"
   ]
  },
  {
   "cell_type": "code",
   "execution_count": null,
   "id": "42de439d",
   "metadata": {},
   "outputs": [],
   "source": [
    "callback = keras.callbacks.EarlyStopping(monitor='loss', patience=3)"
   ]
  },
  {
   "cell_type": "code",
   "execution_count": null,
   "id": "d0905064",
   "metadata": {},
   "outputs": [],
   "source": [
    "cnn_model = keras.models.Sequential([\n",
    "                keras.layers.Conv2D(64, 5, activation = 'relu', padding = 'same', input_shape = (28,28,1)),\n",
    "                keras.layers.MaxPooling2D(2),\n",
    "                keras.layers.Conv2D(128, 3, activation = 'relu', padding = 'same'),\n",
    "                keras.layers.Conv2D(128, 3, activation = 'relu', padding = 'same'),\n",
    "                keras.layers.MaxPooling2D(2),\n",
    "                keras.layers.Conv2D(256, 3, activation = 'relu', padding = 'same'),\n",
    "                keras.layers.Flatten(),\n",
    "                keras.layers.Dense(128, activation = 'relu'),\n",
    "                keras.layers.Dropout(0.25),\n",
    "                keras.layers.Dense(64, activation = 'relu'),\n",
    "                keras.layers.Dropout(0.25),\n",
    "                keras.layers.Dense(32, activation = 'relu'),\n",
    "                keras.layers.Dense(32, activation = 'relu'),\n",
    "                keras.layers.Dropout(0.25),\n",
    "                keras.layers.Dense(10, activation = 'softmax')\n",
    "])"
   ]
  },
  {
   "cell_type": "code",
   "execution_count": null,
   "id": "4cbeeb09",
   "metadata": {},
   "outputs": [],
   "source": [
    "cnn_model.summary()"
   ]
  },
  {
   "cell_type": "markdown",
   "id": "ff55572d",
   "metadata": {},
   "source": [
    "- Network start with the first layer which is a Conv2D filters (5,5) being applied to the input image. Zero padding is used in first layer (and in every layer) creating 64 convoluted images. \n",
    "- After that, the 64 outputs are reduced in size using a MaxPooling2D (2,2) with a stride of 2.\n",
    "- The next two layers have filters (3,3) and takes the 64 images as input and creates 128 outputs which are again reduced in size by a MaxPooling2D layer.\n",
    "- Next, the last convoluted layer is applied with filter (3,3) which creates 256 outputs.\n",
    "- Finally there are a few pairs of neuron layers and Dropout (to avoid overlearing) with last layer with softmax function representing the probability that the image belongs to that class. "
   ]
  },
  {
   "cell_type": "code",
   "execution_count": null,
   "id": "6a93c2fe",
   "metadata": {},
   "outputs": [],
   "source": [
    "cnn_model.compile(optimizer='nadam',\n",
    "              loss='sparse_categorical_crossentropy',\n",
    "              metrics=['accuracy'])"
   ]
  },
  {
   "cell_type": "code",
   "execution_count": null,
   "id": "a03d94d4",
   "metadata": {},
   "outputs": [],
   "source": [
    "cnn_history = cnn_model.fit(X_train,y_train,epochs=50,batch_size = 64,validation_data = (X_val,y_val),callbacks = [callback])"
   ]
  },
  {
   "cell_type": "markdown",
   "id": "07f9b58a",
   "metadata": {},
   "source": [
    "## Loss and accuracy plots"
   ]
  },
  {
   "cell_type": "code",
   "execution_count": null,
   "id": "6e931359",
   "metadata": {},
   "outputs": [],
   "source": [
    "pd.DataFrame(cnn_history.history)[['val_accuracy','accuracy']].plot(figsize=(12,6))\n",
    "plt.title('Learning history')\n",
    "plt.xticks(range(1,max(cnn_history.epoch)+1))\n",
    "plt.xlabel('Epochs')\n",
    "plt.ylabel('Accuracy')\n",
    "plt.show()"
   ]
  },
  {
   "cell_type": "code",
   "execution_count": null,
   "id": "130f8dc6",
   "metadata": {},
   "outputs": [],
   "source": [
    "pd.DataFrame(cnn_history.history)[['val_loss','loss']].plot(figsize=(12,6))\n",
    "plt.title('Learning history')\n",
    "plt.xticks(range(1,max(cnn_history.epoch)+1))\n",
    "plt.xlabel('Epochs')\n",
    "plt.ylabel('Loss')\n",
    "plt.show()"
   ]
  },
  {
   "cell_type": "code",
   "execution_count": null,
   "id": "42222e56",
   "metadata": {},
   "outputs": [],
   "source": [
    "val_pred = cnn_model.predict_classes(X_val)"
   ]
  },
  {
   "cell_type": "markdown",
   "id": "7b879889",
   "metadata": {},
   "source": [
    "### Confustion matrix"
   ]
  },
  {
   "cell_type": "code",
   "execution_count": null,
   "id": "b4201751",
   "metadata": {},
   "outputs": [],
   "source": [
    "conf_mat = confusion_matrix(y_val, val_pred)\n",
    "plt.figure(figsize = (12,6))\n",
    "sns.heatmap(conf_mat,annot = True,  fmt='g', cmap='viridis')\n",
    "plt.title('Confusion matrix on validation data', fontsize = 12)\n",
    "plt.ylabel('Predicted', fontsize = 12)\n",
    "plt.xlabel('Actual', fontsize = 12)\n",
    "plt.show()"
   ]
  },
  {
   "cell_type": "markdown",
   "id": "48f366e9",
   "metadata": {},
   "source": [
    "## Error plots"
   ]
  },
  {
   "cell_type": "code",
   "execution_count": null,
   "id": "d05cf389",
   "metadata": {},
   "outputs": [],
   "source": [
    "errors = (val_pred != y_val)"
   ]
  },
  {
   "cell_type": "code",
   "execution_count": null,
   "id": "931a0b05",
   "metadata": {},
   "outputs": [],
   "source": [
    "def plot_errors(n,m):\n",
    "    plt.figure(figsize=(15,10))\n",
    "    for i in range(15):\n",
    "        plt.subplot(n,m,i+1)\n",
    "        plt.imshow(X_val[errors][i].reshape(28,28), cmap = 'binary')\n",
    "        plt.title('Predicted value: {}, True value: {}'.format(val_pred[errors][i],y_val.values[errors][i]))\n",
    "        plt.axis('off')\n",
    "    plt.show()"
   ]
  },
  {
   "cell_type": "code",
   "execution_count": null,
   "id": "4a477a19",
   "metadata": {},
   "outputs": [],
   "source": [
    "plot_errors(5,3)"
   ]
  },
  {
   "cell_type": "code",
   "execution_count": null,
   "id": "d320d208",
   "metadata": {},
   "outputs": [],
   "source": [
    "test_pred = cnn_model.predict_classes(X_test)"
   ]
  },
  {
   "cell_type": "code",
   "execution_count": null,
   "id": "229870b6",
   "metadata": {},
   "outputs": [],
   "source": [
    "results = pd.DataFrame({'ImageId':range(1,28001),'Label':test_pred})"
   ]
  },
  {
   "cell_type": "code",
   "execution_count": null,
   "id": "575d8c1a",
   "metadata": {},
   "outputs": [],
   "source": [
    "results.to_csv('Submission.csv',index = False)"
   ]
  }
 ],
 "metadata": {},
 "nbformat": 4,
 "nbformat_minor": 5
}
