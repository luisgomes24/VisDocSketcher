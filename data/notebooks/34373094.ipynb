{
 "cells": [
  {
   "cell_type": "code",
   "execution_count": null,
   "id": "7c7e4019",
   "metadata": {},
   "outputs": [],
   "source": [
    "%%capture\n",
    "\n",
    "!pip install advertools adviz"
   ]
  },
  {
   "cell_type": "code",
   "execution_count": null,
   "id": "8962c6eb",
   "metadata": {},
   "outputs": [],
   "source": [
    "import advertools as adv\n",
    "import adviz\n",
    "import pandas as pd\n",
    "pd.options.display.max_columns = None\n",
    "import plotly\n",
    "import plotly.express as px\n",
    "from IPython.display import display_html, display_markdown\n",
    "\n",
    "for pkg in [adv, adviz, pd, plotly]:\n",
    "    print(f'{pkg.__name__:-<30}v{pkg.__version__}')\n",
    "\n",
    "def md(text):\n",
    "    return display_markdown(text, raw=True)"
   ]
  },
  {
   "cell_type": "code",
   "execution_count": null,
   "id": "2990534e",
   "metadata": {},
   "outputs": [],
   "source": [
    "rm_words = ['and', 'la', 'de', 'der', 'et', 'die', 'des', 'les', 'le', \n",
    "            'its', 'or', 'le', 'du', 'can', 'ii', 'und', 'the', 'to', 'in',\n",
    "            'of', 'a', 'for', 'on', 'is', 'with', 'at']"
   ]
  },
  {
   "cell_type": "code",
   "execution_count": null,
   "id": "37024f3d",
   "metadata": {},
   "outputs": [],
   "source": [
    "# sitemap = adv.sitemap_to_df('https://www.apple.com/robots.txt')\n",
    "\n",
    "website = 'apple.com'\n",
    "\n",
    "sitemap_raw = pd.read_csv(\n",
    "    '/kaggle/input/xml-sitemaps/sitemap_2023_01_11_apple_com.csv',\n",
    "    parse_dates=['download_date'], low_memory=False)\n",
    "print(f'Original: {sitemap_raw.shape}')\n",
    "sitemap = sitemap_raw.drop_duplicates(subset=['loc'])\n",
    "print(f'After de-duplication: {sitemap.shape}')\n",
    "sitemap.head()"
   ]
  },
  {
   "cell_type": "code",
   "execution_count": null,
   "id": "0aa2a013",
   "metadata": {},
   "outputs": [],
   "source": [
    "duplicated_urls = sitemap_raw['loc'].duplicated()\n",
    "md(f'## Duplicated URLs: {duplicated_urls.sum():,} ({duplicated_urls.mean():.1%})')"
   ]
  },
  {
   "cell_type": "code",
   "execution_count": null,
   "id": "3f9d1051",
   "metadata": {},
   "outputs": [],
   "source": [
    "# are there any\n",
    "'errors' in sitemap # ? "
   ]
  },
  {
   "cell_type": "code",
   "execution_count": null,
   "id": "f88c76a5",
   "metadata": {},
   "outputs": [],
   "source": [
    "sitemap[['sitemap', 'errors']].dropna()"
   ]
  },
  {
   "cell_type": "markdown",
   "id": "a77ed810",
   "metadata": {},
   "source": [
    "### URLs per sitemap (make sure none exceeds 50k URLs)"
   ]
  },
  {
   "cell_type": "code",
   "execution_count": null,
   "id": "cf1591c4",
   "metadata": {},
   "outputs": [],
   "source": [
    "adviz.value_counts_plus(sitemap_raw['sitemap'], show_top=20, name='URLs per sitemap')"
   ]
  },
  {
   "cell_type": "markdown",
   "id": "49ac2a11",
   "metadata": {},
   "source": [
    "### Sitemap size (make sure none exceeds 50MB)"
   ]
  },
  {
   "cell_type": "code",
   "execution_count": null,
   "id": "5659e4fb",
   "metadata": {},
   "outputs": [],
   "source": [
    "(sitemap_raw\n",
    " ['sitemap_size_mb']\n",
    " .drop_duplicates()\n",
    " .describe()\n",
    " .to_frame()\n",
    " .style\n",
    " .format('{:.2f}'))"
   ]
  },
  {
   "cell_type": "markdown",
   "id": "b1bb844a",
   "metadata": {},
   "source": [
    "# Split URLs into their components\n",
    "\n",
    "Many URLs contain a country code  and optionally a language code where applicable, in them `/ca/`, `/de/`, or `hk-zh` for example. A special regex can be used to extract those patterns and create a `country` column so we can more easily categorize and anlyze those pages.\n",
    "\n",
    "We also remove duplicated URLs."
   ]
  },
  {
   "cell_type": "code",
   "execution_count": null,
   "id": "33713068",
   "metadata": {},
   "outputs": [],
   "source": [
    "urldf = adv.url_to_df(sitemap['loc'].dropna().str.strip())\n",
    "urldf['country'] = urldf['dir_1'].str.extract('(^[a-z]{2}$|^[a-z]{2}-[a-z]{2,}$)')[0]\n",
    "\n",
    "print(urldf.shape)\n",
    "urldf.head()"
   ]
  },
  {
   "cell_type": "markdown",
   "id": "7b777c4c",
   "metadata": {},
   "source": [
    "# Check schemes and domains used in the URL list"
   ]
  },
  {
   "cell_type": "code",
   "execution_count": null,
   "id": "6c6b0ebf",
   "metadata": {},
   "outputs": [],
   "source": [
    "adviz.value_counts_plus(urldf['scheme'], size=15)"
   ]
  },
  {
   "cell_type": "code",
   "execution_count": null,
   "id": "4e468675",
   "metadata": {},
   "outputs": [],
   "source": [
    "adviz.value_counts_plus(urldf['netloc'], size=15, name='Domains')"
   ]
  },
  {
   "cell_type": "markdown",
   "id": "cc461656",
   "metadata": {},
   "source": [
    "The exception seems to be China, which has its own domain. In this case, we can take the index of the URLs where the domain is `www.apple.com.cn` and assign the value `cn` to the country column."
   ]
  },
  {
   "cell_type": "code",
   "execution_count": null,
   "id": "0bdddce6",
   "metadata": {},
   "outputs": [],
   "source": [
    "china_index = urldf[urldf['netloc'].eq('www.apple.com.cn')].index\n",
    "urldf.loc[china_index, 'country'] = 'cn'"
   ]
  },
  {
   "cell_type": "markdown",
   "id": "c1c41380",
   "metadata": {},
   "source": [
    "quick check to make sure we have 6,917 `cn` URLs:"
   ]
  },
  {
   "cell_type": "code",
   "execution_count": null,
   "id": "8855f510",
   "metadata": {},
   "outputs": [],
   "source": [
    "adviz.value_counts_plus(urldf['country'], name='Country URLs', show_top=15)"
   ]
  },
  {
   "cell_type": "markdown",
   "id": "635d6dbd",
   "metadata": {},
   "source": [
    "# Check the percentage of utilization of URL components"
   ]
  },
  {
   "cell_type": "code",
   "execution_count": null,
   "id": "f4540090",
   "metadata": {},
   "outputs": [],
   "source": [
    "(urldf\n",
    " .notna()\n",
    " .mean()\n",
    " .to_frame()\n",
    " .rename(columns={0: 'URL element used %'})\n",
    " .style\n",
    " .format('{:.2%}')\n",
    " .background_gradient(cmap='cividis'))"
   ]
  },
  {
   "cell_type": "markdown",
   "id": "fb7670aa",
   "metadata": {},
   "source": [
    "## Explore the query parameter `fh`, which is present in 45% of the URLs"
   ]
  },
  {
   "cell_type": "code",
   "execution_count": null,
   "id": "bc1cb804",
   "metadata": {},
   "outputs": [],
   "source": [
    "urldf[urldf['query_fh'].notna()]['query_fh'].value_counts()"
   ]
  },
  {
   "cell_type": "code",
   "execution_count": null,
   "id": "78922891",
   "metadata": {},
   "outputs": [],
   "source": [
    "urldf[urldf['query_fh'].notna()]['url'].sample(10).tolist()"
   ]
  },
  {
   "cell_type": "code",
   "execution_count": null,
   "id": "35c56ac7",
   "metadata": {},
   "outputs": [],
   "source": [
    "adviz.value_counts_plus(urldf[urldf['query_fh'].notna()]['path'], name='URLs with query_fh')"
   ]
  },
  {
   "cell_type": "code",
   "execution_count": null,
   "id": "bd4d6d27",
   "metadata": {},
   "outputs": [],
   "source": [
    "urldf[urldf['query_fh'].notna()]['path'].duplicated().sum()"
   ]
  },
  {
   "cell_type": "code",
   "execution_count": null,
   "id": "3937ba19",
   "metadata": {},
   "outputs": [],
   "source": [
    "urldf[urldf['query_fh'].notna()]['path'].duplicated().mean()"
   ]
  },
  {
   "cell_type": "markdown",
   "id": "106382c2",
   "metadata": {},
   "source": [
    "It's not clear what this parameter provides, other than causing their pages to be empty.\n",
    "\n"
   ]
  },
  {
   "cell_type": "markdown",
   "id": "ef3c7e88",
   "metadata": {},
   "source": [
    "# Visualize the structure of the site with a treemap `adviz.url_structure`"
   ]
  },
  {
   "cell_type": "code",
   "execution_count": null,
   "id": "6ce9b1fb",
   "metadata": {},
   "outputs": [],
   "source": [
    "adviz.url_structure(\n",
    "    urldf['url'],\n",
    "    domain='apple.com',\n",
    "    items_per_level=20,\n",
    "    height=700,\n",
    "    title='URL structure: <b>apple.com<b>')"
   ]
  },
  {
   "cell_type": "markdown",
   "id": "ba3ffcc5",
   "metadata": {},
   "source": [
    "# Explore the structure of the site, by counting values in various directories"
   ]
  },
  {
   "cell_type": "code",
   "execution_count": null,
   "id": "b81fd02f",
   "metadata": {},
   "outputs": [],
   "source": [
    "adviz.value_counts_plus(urldf['dir_1'], name='/dir_1/')"
   ]
  },
  {
   "cell_type": "code",
   "execution_count": null,
   "id": "cb8adfb6",
   "metadata": {},
   "outputs": [],
   "source": [
    "adviz.value_counts_plus(urldf[urldf['country'].isna()]['dir_1']).set_caption('<h3>Counts of dir_1 for pages without a country code')"
   ]
  },
  {
   "cell_type": "markdown",
   "id": "138c4bb7",
   "metadata": {},
   "source": [
    "What kind of products do they have under `/shop/` (you can test with other filters, for a specific country for example)"
   ]
  },
  {
   "cell_type": "code",
   "execution_count": null,
   "id": "a2fa262a",
   "metadata": {},
   "outputs": [],
   "source": [
    "adviz.value_counts_plus(urldf[urldf['dir_1'].eq('shop')]['dir_2']).set_caption('<h3>Counts of /dir_2/ under /shop/</h3>')\n"
   ]
  },
  {
   "cell_type": "code",
   "execution_count": null,
   "id": "e6c1657e",
   "metadata": {},
   "outputs": [],
   "source": [
    "urldf[urldf['dir_1'].eq('shop') & urldf['dir_2'].eq('accessories')]['dir_3'].value_counts()"
   ]
  },
  {
   "cell_type": "code",
   "execution_count": null,
   "id": "7f408009",
   "metadata": {},
   "outputs": [],
   "source": [
    "(adviz.value_counts_plus(\n",
    "    urldf[urldf['dir_1'].eq('shop') &\n",
    "          urldf['dir_2'].eq('accessories')]\n",
    "    ['dir_4'], show_top=15, name='Accessories products')\n",
    "#  .set_caption('<h5>Counts of accessories products')\n",
    ")"
   ]
  },
  {
   "cell_type": "markdown",
   "id": "05d71dc2",
   "metadata": {},
   "source": [
    "What does the `/today/` directory contain?"
   ]
  },
  {
   "cell_type": "code",
   "execution_count": null,
   "id": "83446b94",
   "metadata": {},
   "outputs": [],
   "source": [
    "adviz.value_counts_plus(\n",
    "    urldf[urldf['dir_1'].eq('today') & urldf['dir_2'].eq('event')]['dir_3'],\n",
    "    name='/today/dir_2/')\n",
    "# .set_caption('<h3>Counts of /today/dir_2/</h3>')\n"
   ]
  },
  {
   "cell_type": "markdown",
   "id": "bdfdf92e",
   "metadata": {},
   "source": [
    "It seems these are live event pages where they demonstrate certain products/skills to users. The same event is duplicated hundreds/thousands of times, and almost all those events have expired (empty URLs)\n",
    "\n",
    "Although this is a bad practice, it can help us understand the frequency of topics that they talk about in these events. We can simply count the words in the event pages to see what they focu on:"
   ]
  },
  {
   "cell_type": "code",
   "execution_count": null,
   "id": "43492177",
   "metadata": {},
   "outputs": [],
   "source": [
    "(adviz.value_counts_plus(\n",
    "    urldf[urldf['dir_1'].eq('today') &\n",
    "          urldf['dir_2'].eq('event')]\n",
    "    ['dir_3'].str.split('-').explode(),\n",
    "    show_top=20, name='word')\n",
    " .set_caption('<h4>Word counts of event names (counting duplicates)'))"
   ]
  },
  {
   "cell_type": "markdown",
   "id": "96536ff3",
   "metadata": {},
   "source": [
    "## Number of URLs per country page"
   ]
  },
  {
   "cell_type": "code",
   "execution_count": null,
   "id": "3f9b27c1",
   "metadata": {},
   "outputs": [],
   "source": [
    "country_counts = urldf['country'].value_counts()\n",
    "px.histogram(\n",
    "    country_counts,\n",
    "    labels={'value': 'URLs per country page'},\n",
    "    title='Number of pages per country – apple.com sitemap')\n"
   ]
  },
  {
   "cell_type": "code",
   "execution_count": null,
   "id": "005972a2",
   "metadata": {},
   "outputs": [],
   "source": [
    "px.histogram(\n",
    "    country_counts[country_counts.lt(1000)],\n",
    "    labels={'value': 'URLs per country page'},\n",
    "    title='Number of pages per country (countries with less than 1,000 pages) – apple.com sitemap')\n"
   ]
  },
  {
   "cell_type": "code",
   "execution_count": null,
   "id": "5f0b98ba",
   "metadata": {},
   "outputs": [],
   "source": [
    "px.histogram(\n",
    "    country_counts[country_counts.gt(1000)],\n",
    "    labels={'value': 'URLs per country page'},\n",
    "    title='Number of pages per country (countries with more than 1,000 pages) – apple.com sitemap')"
   ]
  },
  {
   "cell_type": "markdown",
   "id": "96241946",
   "metadata": {},
   "source": [
    "# Most used words (uni-grams, bigrams, etc.) in `last_dir`\n",
    "\n",
    "This is done by removing the `/today/` URL, and deduplicating the URLs. You can run the same using other filters as you see fit."
   ]
  },
  {
   "cell_type": "code",
   "execution_count": null,
   "id": "a6ee2a3e",
   "metadata": {},
   "outputs": [],
   "source": [
    "(adv.word_frequency(\n",
    "    urldf[urldf['dir_1'].ne('today')]['last_dir']\n",
    "    .dropna()\n",
    "    .str.replace('-', ' '),\n",
    "    rm_words=rm_words\n",
    ")\n",
    " .head(15)\n",
    " .style.format({'abs_freq': '{:,}'}))"
   ]
  },
  {
   "cell_type": "code",
   "execution_count": null,
   "id": "d5d86604",
   "metadata": {},
   "outputs": [],
   "source": [
    "(adv.word_frequency(\n",
    "    urldf[urldf['dir_1'].ne('today')]['last_dir']\n",
    "    .dropna()\n",
    "    .str.replace('-', ' '),\n",
    "    phrase_len=2)\n",
    " .head(20)\n",
    " .style.format({'abs_freq': '{:,}'}))"
   ]
  }
 ],
 "metadata": {},
 "nbformat": 4,
 "nbformat_minor": 5
}
