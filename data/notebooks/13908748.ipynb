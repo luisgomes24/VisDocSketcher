{
 "cells": [
  {
   "cell_type": "markdown",
   "id": "5bdfa700",
   "metadata": {},
   "source": [
    "Converting dicom data to png/jpg may look straightforward and there is going to be many notebooks doing it simple way - just rescaling it.\n",
    "\n",
    "However, you must consider, that raw dicom data is not actually linearly convertable to \"human-friendly\" png/jpg. \n",
    "In fact, most of DICOM's store pixel values in exponential scale, which is resolved by standard standard DICOM viewers.\n",
    "\n",
    "So in order to get jpg/png as radiologists would initially see in their workspace, you need to apply some transformations. \n",
    "DICOM metadata stores information how to make such \"human-friendly\" transformations.\n",
    "\n",
    "An example code I use daily can be found below:"
   ]
  },
  {
   "cell_type": "code",
   "execution_count": null,
   "id": "b5b5bbcf",
   "metadata": {},
   "outputs": [],
   "source": [
    "import numpy as np\n",
    "import pydicom\n",
    "from pydicom.pixel_data_handlers.util import apply_voi_lut\n",
    "\n",
    "import matplotlib.pyplot as plt\n",
    "%matplotlib inline\n",
    "\n",
    "\n",
    "def read_xray(path, voi_lut = True, fix_monochrome = True):\n",
    "    dicom = pydicom.read_file(path)\n",
    "    \n",
    "    # VOI LUT (if available by DICOM device) is used to transform raw DICOM data to \"human-friendly\" view\n",
    "    if voi_lut:\n",
    "        data = apply_voi_lut(dicom.pixel_array, dicom)\n",
    "    else:\n",
    "        data = dicom.pixel_array\n",
    "               \n",
    "    # depending on this value, X-ray may look inverted - fix that:\n",
    "    if fix_monochrome and dicom.PhotometricInterpretation == \"MONOCHROME1\":\n",
    "        data = np.amax(data) - data\n",
    "        \n",
    "    data = data - np.min(data)\n",
    "    data = data / np.max(data)\n",
    "    data = (data * 255).astype(np.uint8)\n",
    "        \n",
    "    return data"
   ]
  },
  {
   "cell_type": "code",
   "execution_count": null,
   "id": "865b74f9",
   "metadata": {},
   "outputs": [],
   "source": [
    "img = read_xray('../input/vinbigdata-chest-xray-abnormalities-detection/train/0108949daa13dc94634a7d650a05c0bb.dicom')\n",
    "plt.figure(figsize = (12,12))\n",
    "plt.imshow(img, 'gray')"
   ]
  },
  {
   "cell_type": "markdown",
   "id": "61fad3dd",
   "metadata": {},
   "source": [
    "What if hadn't fixed MONOCHROME issue:"
   ]
  },
  {
   "cell_type": "code",
   "execution_count": null,
   "id": "41332a96",
   "metadata": {},
   "outputs": [],
   "source": [
    "img = read_xray('../input/vinbigdata-chest-xray-abnormalities-detection/train/0108949daa13dc94634a7d650a05c0bb.dicom', fix_monochrome = False)\n",
    "plt.figure(figsize = (12,12))\n",
    "plt.imshow(img, 'gray')"
   ]
  }
 ],
 "metadata": {},
 "nbformat": 4,
 "nbformat_minor": 5
}
