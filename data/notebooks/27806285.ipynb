{
 "cells": [
  {
   "cell_type": "markdown",
   "id": "b75fcdd5",
   "metadata": {},
   "source": [
    "# DATA DESCRIPTION\n",
    "\n",
    "## Here's a brief version of what you'll find in the data description file.\n",
    "\n",
    "* SalePrice - the property's sale price in dollars. This is the target variable that you're trying to predict.\n",
    "* MSSubClass: The building class\n",
    "* MSZoning: The general zoning classification\n",
    "* LotFrontage: Linear feet of street connected to property\n",
    "* LotArea: Lot size in square feet\n",
    "* Street: Type of road access\n",
    "* Alley: Type of alley access\n",
    "* LotShape: General shape of property\n",
    "* LandContour: Flatness of the property\n",
    "* Utilities: Type of utilities available\n",
    "* LotConfig: Lot configuration\n",
    "* LandSlope: Slope of property\n",
    "* Neighborhood: Physical locations within Ames city limits\n",
    "* Condition1: Proximity to main road or railroad\n",
    "* Condition2: Proximity to main road or railroad (if a second is present)\n",
    "* BldgType: Type of dwelling\n",
    "* HouseStyle: Style of dwelling\n",
    "* OverallQual: Overall material and finish quality\n",
    "* OverallCond: Overall condition rating\n",
    "* YearBuilt: Original construction date\n",
    "* YearRemodAdd: Remodel date\n",
    "* RoofStyle: Type of roof\n",
    "* RoofMatl: Roof material\n",
    "* Exterior1st: Exterior covering on house\n",
    "* Exterior2nd: Exterior covering on house (if more than one material)\n",
    "* MasVnrType: Masonry veneer type\n",
    "* MasVnrArea: Masonry veneer area in square feet\n",
    "* ExterQual: Exterior material quality\n",
    "* ExterCond: Present condition of the material on the exterior\n",
    "* Foundation: Type of foundation\n",
    "* BsmtQual: Height of the basement\n",
    "* BsmtCond: General condition of the basement\n",
    "* BsmtExposure: Walkout or garden level basement walls\n",
    "* BsmtFinType1: Quality of basement finished area\n",
    "* BsmtFinSF1: Type 1 finished square feet\n",
    "* BsmtFinType2: Quality of second finished area (if present)\n",
    "* BsmtFinSF2: Type 2 finished square feet\n",
    "* BsmtUnfSF: Unfinished square feet of basement area\n",
    "* TotalBsmtSF: Total square feet of basement area\n",
    "* Heating: Type of heating\n",
    "* HeatingQC: Heating quality and condition\n",
    "* CentralAir: Central air conditioning\n",
    "* Electrical: Electrical system\n",
    "* 1stFlrSF: First Floor square feet\n",
    "* 2ndFlrSF: Second floor square feet\n",
    "* LowQualFinSF: Low quality finished square feet (all floors)\n",
    "* GrLivArea: Above grade (ground) living area square feet\n",
    "* BsmtFullBath: Basement full bathrooms\n",
    "* BsmtHalfBath: Basement half bathrooms\n",
    "* FullBath: Full bathrooms above grade\n",
    "* HalfBath: Half baths above grade\n",
    "* Bedroom: Number of bedrooms above basement level\n",
    "* Kitchen: Number of kitchens\n",
    "* KitchenQual: Kitchen quality\n",
    "* TotRmsAbvGrd: Total rooms above grade (does not include bathrooms)\n",
    "* Functional: Home functionality rating\n",
    "* Fireplaces: Number of fireplaces\n",
    "* FireplaceQu: Fireplace quality\n",
    "* GarageType: Garage location\n",
    "* GarageYrBlt: Year garage was built\n",
    "* GarageFinish: Interior finish of the garage\n",
    "* GarageCars: Size of garage in car capacity\n",
    "* GarageArea: Size of garage in square feet\n",
    "* GarageQual: Garage quality\n",
    "* GarageCond: Garage condition\n",
    "* PavedDrive: Paved driveway\n",
    "* WoodDeckSF: Wood deck area in square feet\n",
    "* OpenPorchSF: Open porch area in square feet\n",
    "* EnclosedPorch: Enclosed porch area in square feet\n",
    "* 3SsnPorch: Three season porch area in square feet\n",
    "* ScreenPorch: Screen porch area in square feet\n",
    "* PoolArea: Pool area in square feet\n",
    "* PoolQC: Pool quality\n",
    "* Fence: Fence quality\n",
    "* MiscFeature: Miscellaneous feature not covered in other categories\n",
    "* MiscVal: $Value of miscellaneous feature\n",
    "* MoSold: Month Sold\n",
    "* YrSold: Year Sold\n",
    "* SaleType: Type of sale\n",
    "* SaleCondition: Condition of sale"
   ]
  },
  {
   "cell_type": "markdown",
   "id": "24f84071",
   "metadata": {},
   "source": [
    "# Importing libraries"
   ]
  },
  {
   "cell_type": "code",
   "execution_count": null,
   "id": "3057e478",
   "metadata": {},
   "outputs": [],
   "source": [
    "import pandas as pd\n",
    "import numpy as np\n",
    "import seaborn as sns\n",
    "import matplotlib.pyplot as plt\n",
    "import warnings\n",
    "warnings.filterwarnings('ignore')\n",
    "from sklearn.model_selection import train_test_split\n",
    "from sklearn.preprocessing import LabelEncoder\n",
    "from sklearn import metrics\n",
    "from sklearn.metrics import mean_absolute_error, mean_squared_error, r2_score\n",
    "from sklearn.svm import SVR\n",
    "from sklearn.tree import DecisionTreeRegressor\n",
    "from sklearn.ensemble import RandomForestRegressor\n",
    "from sklearn import neighbors\n",
    "from math import sqrt\n",
    "%matplotlib inline"
   ]
  },
  {
   "cell_type": "markdown",
   "id": "968b7211",
   "metadata": {},
   "source": [
    "# Loading Train and Test datasets"
   ]
  },
  {
   "cell_type": "code",
   "execution_count": null,
   "id": "ddb3e8f2",
   "metadata": {},
   "outputs": [],
   "source": [
    "df1= pd.read_csv('../input/house-prices-advanced-regression-techniques/train.csv')\n",
    "df1"
   ]
  },
  {
   "cell_type": "code",
   "execution_count": null,
   "id": "678f20ff",
   "metadata": {},
   "outputs": [],
   "source": [
    "valid = pd.read_csv('../input/house-prices-advanced-regression-techniques/test.csv')\n",
    "valid"
   ]
  },
  {
   "cell_type": "markdown",
   "id": "5595a4a1",
   "metadata": {},
   "source": [
    "# Exploratory Data Analysis(EDA)"
   ]
  },
  {
   "cell_type": "code",
   "execution_count": null,
   "id": "77952b74",
   "metadata": {},
   "outputs": [],
   "source": [
    "df1.head()"
   ]
  },
  {
   "cell_type": "code",
   "execution_count": null,
   "id": "d7340070",
   "metadata": {},
   "outputs": [],
   "source": [
    "df1.describe()"
   ]
  },
  {
   "cell_type": "code",
   "execution_count": null,
   "id": "fd01fe68",
   "metadata": {},
   "outputs": [],
   "source": [
    "df1.info()"
   ]
  },
  {
   "cell_type": "code",
   "execution_count": null,
   "id": "470bde85",
   "metadata": {},
   "outputs": [],
   "source": [
    "df1.isnull().sum()"
   ]
  },
  {
   "cell_type": "code",
   "execution_count": null,
   "id": "1c08a962",
   "metadata": {},
   "outputs": [],
   "source": [
    "df1.isnull().mean()"
   ]
  },
  {
   "cell_type": "markdown",
   "id": "86152a82",
   "metadata": {},
   "source": [
    "### Missing values percentage"
   ]
  },
  {
   "cell_type": "code",
   "execution_count": null,
   "id": "0d4d70d3",
   "metadata": {},
   "outputs": [],
   "source": [
    "def missing (df1):\n",
    "    missing_number = df1.isnull().sum().sort_values(ascending=False)\n",
    "    missing_percent = ((df1.isnull().sum()/df1.isnull().count())*100).sort_values(ascending=False)\n",
    "    missing_values = pd.concat([missing_number, missing_percent], axis=1, keys=['Missing_Number', 'Missing_Percent'])\n",
    "    return missing_values"
   ]
  },
  {
   "cell_type": "code",
   "execution_count": null,
   "id": "4d0e4b53",
   "metadata": {},
   "outputs": [],
   "source": [
    "missing(df1)"
   ]
  },
  {
   "cell_type": "markdown",
   "id": "66dc3fa9",
   "metadata": {},
   "source": [
    "### Dropping the columns which have more than or equal to 40% of values as null "
   ]
  },
  {
   "cell_type": "code",
   "execution_count": null,
   "id": "4cf82699",
   "metadata": {},
   "outputs": [],
   "source": [
    "for col in df1.columns:\n",
    "    if df1[col].isnull().mean()*100>40:\n",
    "        df1.drop(col,axis=1,inplace=True)"
   ]
  },
  {
   "cell_type": "code",
   "execution_count": null,
   "id": "c2f73f6e",
   "metadata": {},
   "outputs": [],
   "source": [
    "df1"
   ]
  },
  {
   "cell_type": "code",
   "execution_count": null,
   "id": "8a0b00f0",
   "metadata": {},
   "outputs": [],
   "source": [
    "df1.columns"
   ]
  },
  {
   "cell_type": "code",
   "execution_count": null,
   "id": "d9dfe722",
   "metadata": {},
   "outputs": [],
   "source": [
    "sns.countplot(df1.dtypes.map(str))\n",
    "plt.show()"
   ]
  },
  {
   "cell_type": "code",
   "execution_count": null,
   "id": "49d58f02",
   "metadata": {},
   "outputs": [],
   "source": [
    "df1.dtypes.value_counts()"
   ]
  },
  {
   "cell_type": "markdown",
   "id": "816701af",
   "metadata": {},
   "source": [
    "## year based filling of nullvalues in train dataset"
   ]
  },
  {
   "cell_type": "code",
   "execution_count": null,
   "id": "97d81863",
   "metadata": {},
   "outputs": [],
   "source": [
    "f = lambda x: x.median() if np.issubdtype(x.dtype, np.number) else x.mode().iloc[0]\n",
    "df1 = df1.fillna(df1.groupby('YrSold').transform(f))\n",
    "df1"
   ]
  },
  {
   "cell_type": "markdown",
   "id": "d6e74014",
   "metadata": {},
   "source": [
    "### finding q1,q2,q3,mean,median,mode,skewness,kurtosis"
   ]
  },
  {
   "cell_type": "code",
   "execution_count": null,
   "id": "240396dc",
   "metadata": {},
   "outputs": [],
   "source": [
    "for col in df1.columns:\n",
    "    if df1[col].dtypes != object:\n",
    "        q1 = df1[col].quantile(0.25)\n",
    "        q2 = df1[col].quantile(0.50)\n",
    "        q3 = df1[col].quantile(0.75)\n",
    "        IQR = q3 - q1\n",
    "        llp = q1-1.5*IQR\n",
    "        ulp = q3+1.5*IQR\n",
    "        print('column name',col)\n",
    "        print('q1',q1)\n",
    "        print('q2',q2)\n",
    "        print('q3',q3)\n",
    "        print('IQR',IQR)\n",
    "        print('llp',llp)\n",
    "        print('ulp',ulp)\n",
    "        print('mean:',df1[col].mean())\n",
    "        print('median:',df1[col].median())\n",
    "        print('mode',df1[col].mode()[0])\n",
    "        print('skewness:',df1[col].skew())\n",
    "        print('kurtosis:',df1[col].kurtosis())\n",
    "        print('std',df1[col].std())\n",
    "        print('max',df1[col].max())\n",
    "        print('min',df1[col].min())\n",
    "        print('null_value count:',df1[col].isnull().sum())\n",
    "        print('\\n')"
   ]
  },
  {
   "cell_type": "code",
   "execution_count": null,
   "id": "12039368",
   "metadata": {},
   "outputs": [],
   "source": [
    "df1.dtypes"
   ]
  },
  {
   "cell_type": "code",
   "execution_count": null,
   "id": "abe13d6e",
   "metadata": {},
   "outputs": [],
   "source": [
    "df1['MSZoning'].unique()"
   ]
  },
  {
   "cell_type": "code",
   "execution_count": null,
   "id": "aea61248",
   "metadata": {},
   "outputs": [],
   "source": [
    "df1['RoofMatl'].unique()"
   ]
  },
  {
   "cell_type": "code",
   "execution_count": null,
   "id": "365e7cbf",
   "metadata": {},
   "outputs": [],
   "source": [
    "Q1 = df1.quantile(0.25)\n",
    "Q3 = df1.quantile(0.75)\n",
    "IQR = Q3 - Q1\n",
    "print('outliers count of each columns')\n",
    "((df1 < (Q1 - 1.5 * IQR)) | (df1 > (Q3 + 1.5 * IQR))).sum()"
   ]
  },
  {
   "cell_type": "markdown",
   "id": "ce332a4e",
   "metadata": {},
   "source": [
    "# Data visualizations\n",
    "\n",
    "### Data visualisations using distplot,boxplot(because distplot and boxplot shows how data is distributed and if there are any outliers"
   ]
  },
  {
   "cell_type": "code",
   "execution_count": null,
   "id": "0a90e958",
   "metadata": {},
   "outputs": [],
   "source": [
    "count=1\n",
    "plt.subplots(figsize=(30,25))\n",
    "for i in df1.columns:\n",
    "    if df1[i].dtypes!='object':\n",
    "        plt.subplot(6,7,count)\n",
    "        sns.distplot(df1[i])\n",
    "        count+=1\n",
    "\n",
    "plt.show()"
   ]
  },
  {
   "cell_type": "code",
   "execution_count": null,
   "id": "514f3d13",
   "metadata": {},
   "outputs": [],
   "source": [
    "count=1\n",
    "plt.subplots(figsize=(30,25))\n",
    "for i in df1.columns:\n",
    "    if df1[i].dtypes!='object':\n",
    "        plt.subplot(6,7,count)\n",
    "        sns.boxplot(df1[i])\n",
    "        count+=1\n",
    "\n",
    "plt.show()"
   ]
  },
  {
   "cell_type": "code",
   "execution_count": null,
   "id": "16d4553e",
   "metadata": {},
   "outputs": [],
   "source": [
    "df1.dtypes"
   ]
  },
  {
   "cell_type": "code",
   "execution_count": null,
   "id": "fe12b5af",
   "metadata": {},
   "outputs": [],
   "source": [
    "pip install autoviz"
   ]
  },
  {
   "cell_type": "code",
   "execution_count": null,
   "id": "aca55363",
   "metadata": {},
   "outputs": [],
   "source": [
    "from autoviz.AutoViz_Class import AutoViz_Class\n",
    "AV = AutoViz_Class()\n",
    "df_av = AV.AutoViz('../input/house-prices-advanced-regression-techniques/train.csv')"
   ]
  },
  {
   "cell_type": "markdown",
   "id": "6d64d539",
   "metadata": {},
   "source": [
    "# Label encoding the train dataset"
   ]
  },
  {
   "cell_type": "code",
   "execution_count": null,
   "id": "3a31de1c",
   "metadata": {},
   "outputs": [],
   "source": [
    "le=LabelEncoder()\n",
    "for col in df1.columns:\n",
    "    if df1[col].dtypes == object:\n",
    "        df1[col]= le.fit_transform(df1[col])"
   ]
  },
  {
   "cell_type": "markdown",
   "id": "f975d952",
   "metadata": {},
   "source": [
    "# Feature Selection"
   ]
  },
  {
   "cell_type": "code",
   "execution_count": null,
   "id": "5596cead",
   "metadata": {},
   "outputs": [],
   "source": [
    "X=df1.drop('SalePrice',axis=1)\n",
    "y=df1['SalePrice']"
   ]
  },
  {
   "cell_type": "markdown",
   "id": "5c8aabf7",
   "metadata": {},
   "source": [
    "# Train test and split "
   ]
  },
  {
   "cell_type": "code",
   "execution_count": null,
   "id": "4693a423",
   "metadata": {},
   "outputs": [],
   "source": [
    "X_train,X_test,y_train,y_test = train_test_split(X,y,test_size=0.25,random_state=42)"
   ]
  },
  {
   "cell_type": "markdown",
   "id": "13fac0f6",
   "metadata": {},
   "source": [
    "# Accuracies of different algorithms applied"
   ]
  },
  {
   "cell_type": "code",
   "execution_count": null,
   "id": "9a5e933c",
   "metadata": {},
   "outputs": [],
   "source": [
    "def train_models(X_train, y_train):\n",
    "    \n",
    " #use Decision Tree\n",
    "   \n",
    "    tree = DecisionTreeRegressor(max_features=75,max_depth=4, random_state = 0)\n",
    "    tree.fit(X_train, y_train)\n",
    "    y_pred_tree = tree.predict(X_test)\n",
    "\n",
    "  #use the RandomForestRegressor\n",
    "    \n",
    "    rf = RandomForestRegressor(n_estimators = 100,max_features =75, random_state = 0)\n",
    "    rf.fit(X_train, y_train)\n",
    "    y_pred_rf= rf.predict(X_test)\n",
    "    \n",
    "  # use the support vector regressor\n",
    "    #from sklearn.svm import SVR\n",
    "    svr= SVR(kernel = 'rbf')\n",
    "    svr.fit(X_train, y_train)\n",
    "    y_pred_svr = svr.predict(X_test)\n",
    "    \n",
    "    #from sklearn.svm import SVR\n",
    "    svr_l= SVR(kernel = 'linear')\n",
    "    svr_l.fit(X_train, y_train)\n",
    "    y_pred_svr_linear = svr_l.predict(X_test)\n",
    "\n",
    "  # use the knn regressor\n",
    "    knn = neighbors.KNeighborsRegressor()\n",
    "    knn.fit(X_train, y_train)\n",
    "    y_pred_knn = knn.predict(X_test)\n",
    "    \n",
    "  # metrics of decision tree regressor\n",
    "    meanAbErr_tree= metrics.mean_absolute_error(y_test, y_pred_tree)\n",
    "    meanSqErr_tree= metrics.mean_squared_error(y_test, y_pred_tree)\n",
    "    rootMeanSqErr_tree= np.sqrt(metrics.mean_squared_error(y_test, y_pred_tree))\n",
    "\n",
    "  # metrics of random forest regressor\n",
    "    meanAbErr_rf= metrics.mean_absolute_error(y_test, y_pred_rf)\n",
    "    meanSqErr_rf= metrics.mean_squared_error(y_test, y_pred_rf)\n",
    "    rootMeanSqErr_rf= np.sqrt(metrics.mean_squared_error(y_test, y_pred_rf))\n",
    "  \n",
    "  # metrics of knn regressor\n",
    "    meanAbErr_knn = metrics.mean_absolute_error(y_test, y_pred_knn)\n",
    "    meanSqErr_knn = metrics.mean_squared_error(y_test, y_pred_knn)\n",
    "    rootMeanSqErr_knn= np.sqrt(metrics.mean_squared_error(y_test, y_pred_knn)) \n",
    "\n",
    "  # metrics of svr regressor\n",
    "    meanAbErr_svr = metrics.mean_absolute_error(y_test, y_pred_svr_linear)\n",
    "    meanSqErr_svr = metrics.mean_squared_error(y_test, y_pred_svr_linear)\n",
    "    rootMeanSqErr_svr= np.sqrt(metrics.mean_squared_error(y_test, y_pred_svr_linear)) \n",
    "\n",
    "  #print the tranning accurancy of each model\n",
    "\n",
    "    print('[1]Decision Tree Training Accurancy: ', r2_score(y_test,y_pred_tree))\n",
    "    print('Mean Absolute Error:', meanAbErr_tree)\n",
    "    print('Mean Square Error:', meanSqErr_tree)\n",
    "    print('Root Mean Square Error:', rootMeanSqErr_tree)\n",
    "    print('\\t')\n",
    "    print('[2]RandomForestRegressor Training Accurancy: ',r2_score(y_test,y_pred_rf))\n",
    "    print('Mean Absolute Error:', meanAbErr_rf)\n",
    "    print('Mean Square Error:', meanSqErr_rf)\n",
    "    print('Root Mean Square Error:', rootMeanSqErr_rf)\n",
    "    print('\\t')    \n",
    "    print('[3]SupportvectorRegression Accuracy(rbf): ', r2_score(y_test,y_pred_svr))\n",
    "    print('\\t')\n",
    "    print('[4]SupportvectorRegression Accuracy(linear): ', r2_score(y_test,y_pred_svr_linear))\n",
    "    print('Mean Absolute Error:', meanAbErr_svr)\n",
    "    print('Mean Square Error:', meanSqErr_svr)\n",
    "    print('Root Mean Square Error:', rootMeanSqErr_svr)\n",
    "    print('\\t')\n",
    "    print('[5]knn Training Accurancy: ', r2_score(y_test,y_pred_knn))\n",
    "    print('Mean Absolute Error:', meanAbErr_knn)\n",
    "    print('Mean Square Error:', meanSqErr_knn)\n",
    "    print('Root Mean Square Error:', rootMeanSqErr_knn)\n",
    "    print('\\t')\n",
    "    \n"
   ]
  },
  {
   "cell_type": "code",
   "execution_count": null,
   "id": "b8a28122",
   "metadata": {},
   "outputs": [],
   "source": [
    "train_models(X_train, y_train)"
   ]
  },
  {
   "cell_type": "markdown",
   "id": "c97f3c9b",
   "metadata": {},
   "source": [
    "### User defined function is for showing purpose only that's why\n",
    "### We can't use user defined function for model prediction for validation\n",
    "### so that why we have to apply algorithms seperately, iam using random forest because it gets good accuracy"
   ]
  },
  {
   "cell_type": "markdown",
   "id": "bb3162af",
   "metadata": {},
   "source": [
    "# Multiple Linear Regression"
   ]
  },
  {
   "cell_type": "code",
   "execution_count": null,
   "id": "eda7079a",
   "metadata": {},
   "outputs": [],
   "source": [
    "from sklearn.linear_model import LinearRegression\n",
    "mlr = LinearRegression()  \n",
    "mlr.fit(X_train, y_train)"
   ]
  },
  {
   "cell_type": "code",
   "execution_count": null,
   "id": "9ab8f51c",
   "metadata": {},
   "outputs": [],
   "source": [
    "y_pred_mlr= mlr.predict(X_test)\n",
    "y_pred_mlr"
   ]
  },
  {
   "cell_type": "code",
   "execution_count": null,
   "id": "ad74a6a8",
   "metadata": {},
   "outputs": [],
   "source": [
    "r2_mlr =r2_score(y_test,y_pred_mlr)\n",
    "print('r2_score:',r2_mlr*100)"
   ]
  },
  {
   "cell_type": "markdown",
   "id": "39aa98a4",
   "metadata": {},
   "source": [
    "# validation dataset\n",
    "\n",
    "### Same EDA and preprocessing steps have to be followed for validation dataset same as for train dataset"
   ]
  },
  {
   "cell_type": "code",
   "execution_count": null,
   "id": "c94d6b89",
   "metadata": {},
   "outputs": [],
   "source": [
    "valid"
   ]
  },
  {
   "cell_type": "code",
   "execution_count": null,
   "id": "e3b4e04e",
   "metadata": {},
   "outputs": [],
   "source": [
    "missing(valid)"
   ]
  },
  {
   "cell_type": "markdown",
   "id": "43158131",
   "metadata": {},
   "source": [
    "## Dropping nullvalues of more than 40% for validation dataset"
   ]
  },
  {
   "cell_type": "code",
   "execution_count": null,
   "id": "67aa5c16",
   "metadata": {},
   "outputs": [],
   "source": [
    "for col in valid.columns:\n",
    "    if valid[col].isnull().mean()*100>40:\n",
    "        valid.drop(col,axis=1,inplace=True)"
   ]
  },
  {
   "cell_type": "code",
   "execution_count": null,
   "id": "f9d949e7",
   "metadata": {},
   "outputs": [],
   "source": [
    "valid"
   ]
  },
  {
   "cell_type": "code",
   "execution_count": null,
   "id": "f3e096e9",
   "metadata": {},
   "outputs": [],
   "source": [
    "f = lambda x: x.median() if np.issubdtype(x.dtype, np.number) else x.mode().iloc[0]\n",
    "valid = valid.fillna(valid.groupby('YrSold').transform(f))\n",
    "valid"
   ]
  },
  {
   "cell_type": "code",
   "execution_count": null,
   "id": "9ddfce69",
   "metadata": {},
   "outputs": [],
   "source": [
    "valid.columns"
   ]
  },
  {
   "cell_type": "code",
   "execution_count": null,
   "id": "ca5bca32",
   "metadata": {},
   "outputs": [],
   "source": [
    "le=LabelEncoder()\n",
    "for col in valid.columns:\n",
    "    if valid[col].dtypes == 'object':\n",
    "        valid[col]= le.fit_transform(valid[col])"
   ]
  },
  {
   "cell_type": "code",
   "execution_count": null,
   "id": "1291f63f",
   "metadata": {},
   "outputs": [],
   "source": [
    "valid['MSZoning'].value_counts()"
   ]
  },
  {
   "cell_type": "code",
   "execution_count": null,
   "id": "abf9a73c",
   "metadata": {},
   "outputs": [],
   "source": [
    "valid"
   ]
  },
  {
   "cell_type": "code",
   "execution_count": null,
   "id": "fb57f75a",
   "metadata": {},
   "outputs": [],
   "source": [
    "y_valid = mlr.predict(valid)"
   ]
  },
  {
   "cell_type": "markdown",
   "id": "8ec25c4e",
   "metadata": {},
   "source": [
    "## Validation data prediction"
   ]
  },
  {
   "cell_type": "code",
   "execution_count": null,
   "id": "bd8207b3",
   "metadata": {},
   "outputs": [],
   "source": [
    "y_valid"
   ]
  },
  {
   "cell_type": "code",
   "execution_count": null,
   "id": "207a7dce",
   "metadata": {},
   "outputs": [],
   "source": [
    "output = pd.DataFrame({\"Id\": valid['Id'],\"SalePrice\": y_valid})\n",
    "output"
   ]
  },
  {
   "cell_type": "code",
   "execution_count": null,
   "id": "2e4d3986",
   "metadata": {},
   "outputs": [],
   "source": [
    "# Save the output\n",
    "output.to_csv(\"submission5.csv\", index=False)\n",
    "output.head(10)"
   ]
  },
  {
   "cell_type": "code",
   "execution_count": null,
   "id": "b818e98e",
   "metadata": {},
   "outputs": [],
   "source": [
    "nan"
   ]
  },
  {
   "cell_type": "code",
   "execution_count": null,
   "id": "a870461f",
   "metadata": {},
   "outputs": [],
   "source": [
    "nan"
   ]
  }
 ],
 "metadata": {},
 "nbformat": 4,
 "nbformat_minor": 5
}
