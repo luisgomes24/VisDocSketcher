{
 "cells": [
  {
   "cell_type": "markdown",
   "id": "60b7272d",
   "metadata": {},
   "source": [
    "## Introduction\n",
    "\n",
    "We explore the forest surfaces evolution in Romania between 1990 and 2019. The data is from official sources, from the Romanian National Institute for Statistics. They published data for the total forestry surface, as well as separatelly on Hardwood, Softwood and Other areas of forest. The data is aggregated at County level (in Romania, `Judet` is an administrative unit larger than comune or city, with the size of a county in US or borough in UK, and smaller than a region) as well as on various territorial regions (more or less superposed on historical divisions of Romania.\n",
    "\n",
    "The data we show here is a bit counter-intuitive, with respect of the public perception of the forest area in Romania. Traditionaly, the mainstream media is showing and the public is viewing that, from Communist fall, the overall forest area in Romania is in decline.\n",
    "\n",
    "The public perception might be biased or not. In the same time, we need to clearly specify the difference between area officialy considered as forest and the actual destination or status of a certain area. Some of these areas might be now completely cut off or percentage of tree coverage decreased. Independent analyses as well as aerial data shows quite large number of areas with increasing tree coverage in parallel with similar number of areas (and comparable as surface) with tree coverage decreasing, at least looking to the aerial data in last decade.\n",
    "\n",
    "Comparing the official data, based on reports from local authorities, with aerial data, would help to have a better overal image of the reality in the field."
   ]
  },
  {
   "cell_type": "markdown",
   "id": "94a5a124",
   "metadata": {},
   "source": [
    "## Introduction\n",
    "\n",
    "We explore the forest surfaces evolution in Romania between 1990 and 2019. The data is from official sources, from the Romanian National Institute for Statistics. They published data for the total forestry surface, as well as separatelly on Hardwood, Softwood and Other areas of forest. The data is aggregated at County level (in Romania, `Judet` is an administrative unit larger than comune or city, with the size of a county in US or borough in UK, and smaller than a region) as well as on various territorial regions (more or less superposed on historical divisions of Romania.\n",
    "\n",
    "The data we show here is a bit counter-intuitive, with respect of the public perception of the forest area in Romania. Traditionaly, the mainstream media is showing and the public is viewing that, from Communist fall, the overall forest area in Romania is in decline.\n",
    "\n",
    "The public perception might be biased or not. In the same time, we need to clearly specify the difference between area officialy considered as forest and the actual destination or status of a certain area. Some of these areas might be now completely cut off or percentage of tree coverage decreased. Independent analyses as well as aerial data shows quite large number of areas with increasing tree coverage in parallel with similar number of areas (and comparable as surface) with tree coverage decreasing, at least looking to the aerial data in last decade.\n",
    "\n",
    "Comparing the official data, based on reports from local authorities, with aerial data, would help to have a better overal image of the reality in the field."
   ]
  },
  {
   "cell_type": "markdown",
   "id": "d1c7bf1e",
   "metadata": {},
   "source": [
    "## Data preparation\n",
    "\n",
    "### Load packages"
   ]
  },
  {
   "cell_type": "markdown",
   "id": "c714d544",
   "metadata": {},
   "source": [
    "## Data preparation\n",
    "\n",
    "### Load packages"
   ]
  },
  {
   "cell_type": "code",
   "execution_count": null,
   "id": "eb7bb31f",
   "metadata": {},
   "outputs": [],
   "source": [
    "import numpy as np \n",
    "import pandas as pd\n",
    "import os\n",
    "import matplotlib.pyplot as plt\n",
    "import seaborn as sns \n",
    "import datetime as dt\n",
    "%matplotlib inline\n",
    "import datetime as dt\n",
    "import plotly.graph_objs as go\n",
    "import plotly.figure_factory as ff\n",
    "from plotly import tools\n",
    "from plotly.offline import download_plotlyjs, init_notebook_mode, plot, iplot\n",
    "from shapely.geometry import shape, Point, Polygon\n",
    "import folium\n",
    "from folium.plugins import HeatMap, HeatMapWithTime\n",
    "init_notebook_mode(connected=True)"
   ]
  },
  {
   "cell_type": "code",
   "execution_count": null,
   "id": "572879ad",
   "metadata": {},
   "outputs": [],
   "source": [
    "import numpy as np \n",
    "import pandas as pd\n",
    "import os\n",
    "import matplotlib.pyplot as plt\n",
    "import seaborn as sns \n",
    "import datetime as dt\n",
    "%matplotlib inline\n",
    "import datetime as dt\n",
    "import plotly.graph_objs as go\n",
    "import plotly.figure_factory as ff\n",
    "from plotly import tools\n",
    "from plotly.offline import download_plotlyjs, init_notebook_mode, plot, iplot\n",
    "from shapely.geometry import shape, Point, Polygon\n",
    "import folium\n",
    "from folium.plugins import HeatMap, HeatMapWithTime\n",
    "init_notebook_mode(connected=True)"
   ]
  },
  {
   "cell_type": "markdown",
   "id": "01306381",
   "metadata": {},
   "source": [
    "### Load the data"
   ]
  },
  {
   "cell_type": "markdown",
   "id": "8549af62",
   "metadata": {},
   "source": [
    "### Load the data"
   ]
  },
  {
   "cell_type": "code",
   "execution_count": null,
   "id": "aafb8e03",
   "metadata": {},
   "outputs": [],
   "source": [
    "data_df = pd.read_csv(\"/kaggle/input/forest-surfaces-evolution-in-romania-19902019/forest_surfaces_romania_en_1990_2019.csv\")"
   ]
  },
  {
   "cell_type": "code",
   "execution_count": null,
   "id": "d947fb37",
   "metadata": {},
   "outputs": [],
   "source": [
    "data_df = pd.read_csv(\"/kaggle/input/forest-surfaces-evolution-in-romania-19902019/forest_surfaces_romania_en_1990_2019.csv\")"
   ]
  },
  {
   "cell_type": "markdown",
   "id": "513599eb",
   "metadata": {},
   "source": [
    "We check the data shape, and we glimpse the data."
   ]
  },
  {
   "cell_type": "markdown",
   "id": "020885cd",
   "metadata": {},
   "source": [
    "We check the data shape, and we glimpse the data."
   ]
  },
  {
   "cell_type": "code",
   "execution_count": null,
   "id": "e843206d",
   "metadata": {},
   "outputs": [],
   "source": [
    "data_df.shape"
   ]
  },
  {
   "cell_type": "code",
   "execution_count": null,
   "id": "d2d1bec4",
   "metadata": {},
   "outputs": [],
   "source": [
    "data_df.shape"
   ]
  },
  {
   "cell_type": "code",
   "execution_count": null,
   "id": "6ab5c796",
   "metadata": {},
   "outputs": [],
   "source": [
    "data_df.head()"
   ]
  },
  {
   "cell_type": "code",
   "execution_count": null,
   "id": "8a1a25c6",
   "metadata": {},
   "outputs": [],
   "source": [
    "data_df.head()"
   ]
  },
  {
   "cell_type": "code",
   "execution_count": null,
   "id": "5c0f78c0",
   "metadata": {},
   "outputs": [],
   "source": [
    "data_df.info()"
   ]
  },
  {
   "cell_type": "code",
   "execution_count": null,
   "id": "36aaa043",
   "metadata": {},
   "outputs": [],
   "source": [
    "data_df.info()"
   ]
  },
  {
   "cell_type": "markdown",
   "id": "a43ba720",
   "metadata": {},
   "source": [
    "We look to the values of `Category` and of `Region`."
   ]
  },
  {
   "cell_type": "markdown",
   "id": "bcdc3a7a",
   "metadata": {},
   "source": [
    "We look to the values of `Category` and of `Region`."
   ]
  },
  {
   "cell_type": "code",
   "execution_count": null,
   "id": "b809becd",
   "metadata": {},
   "outputs": [],
   "source": [
    "data_df.Category.unique()"
   ]
  },
  {
   "cell_type": "code",
   "execution_count": null,
   "id": "70e1331d",
   "metadata": {},
   "outputs": [],
   "source": [
    "data_df.Category.unique()"
   ]
  },
  {
   "cell_type": "code",
   "execution_count": null,
   "id": "21a640a5",
   "metadata": {},
   "outputs": [],
   "source": [
    "print(list(data_df.Region.unique()))"
   ]
  },
  {
   "cell_type": "code",
   "execution_count": null,
   "id": "080fd728",
   "metadata": {},
   "outputs": [],
   "source": [
    "print(list(data_df.Region.unique()))"
   ]
  },
  {
   "cell_type": "markdown",
   "id": "d8db314b",
   "metadata": {},
   "source": [
    "## Data exploration\n",
    "\n",
    "\n",
    "### Total surfaces\n",
    "\n",
    "Let's plot the total (i.e for all Romania) forest surface evolution from 1990 to 2019 (as total surface, surface with Hardwood, surface with Softwood and Other forest surfaces)."
   ]
  },
  {
   "cell_type": "markdown",
   "id": "9ead817f",
   "metadata": {},
   "source": [
    "## Data exploration\n",
    "\n",
    "\n",
    "### Total surfaces\n",
    "\n",
    "Let's plot the total (i.e for all Romania) forest surface evolution from 1990 to 2019 (as total surface, surface with Hardwood, surface with Softwood and Other forest surfaces)."
   ]
  },
  {
   "cell_type": "code",
   "execution_count": null,
   "id": "932c870a",
   "metadata": {},
   "outputs": [],
   "source": [
    "total = data_df.loc[data_df.Region=='TOTAL']\n",
    "totalT = total.loc[total.Category=='Total']\n",
    "totalH = total.loc[total.Category=='Hardwood']\n",
    "totalS = total.loc[total.Category=='Softwood']\n",
    "totalO = total.loc[total.Category=='Others']\n",
    "\n",
    "traceT = go.Scatter(\n",
    "    x = totalT['Year'],y = totalT['Value'],\n",
    "    name=\"Total surface\",\n",
    "    marker=dict(color=\"Green\"),\n",
    "    mode = \"markers+lines\",\n",
    "    text=totalT['Value']\n",
    ")\n",
    "\n",
    "traceH = go.Scatter(\n",
    "    x = totalH['Year'],y = totalH['Value'],\n",
    "    name=\"Hardwood\",\n",
    "    marker=dict(color=\"Lightgreen\"),\n",
    "    mode = \"markers+lines\",\n",
    "    text=totalH['Value']\n",
    ")\n",
    "\n",
    "traceS = go.Scatter(\n",
    "    x = totalS['Year'],y = totalS['Value'],\n",
    "    name=\"Softwood\",\n",
    "    marker=dict(color=\"Darkgreen\"),\n",
    "    mode = \"markers+lines\",\n",
    "    text=totalS['Value']\n",
    ")\n",
    "\n",
    "traceO = go.Scatter(\n",
    "    x = totalO['Year'],y = totalO['Value'],\n",
    "    name=\"Other surfaces\",\n",
    "    marker=dict(color=\"Brown\"),\n",
    "    mode = \"markers+lines\",\n",
    "    text=totalO['Value']\n",
    ")\n",
    "\n",
    "data = [traceT, traceH, traceS, traceO]\n",
    "\n",
    "layout = dict(title = 'Total surfaces, Hardwood, Softwood and other surfaces - forest Romania 1990-2019',\n",
    "          xaxis = dict(title = 'Year', showticklabels=True), \n",
    "          yaxis = dict(title = 'Surface [Thousands hectares]'),\n",
    "          hovermode = 'closest'\n",
    "         )\n",
    "fig = dict(data=data, layout=layout)\n",
    "iplot(fig, filename='forest-surface')"
   ]
  },
  {
   "cell_type": "code",
   "execution_count": null,
   "id": "54e9d1b6",
   "metadata": {},
   "outputs": [],
   "source": [
    "total = data_df.loc[data_df.Region=='TOTAL']\n",
    "totalT = total.loc[total.Category=='Total']\n",
    "totalH = total.loc[total.Category=='Hardwood']\n",
    "totalS = total.loc[total.Category=='Softwood']\n",
    "totalO = total.loc[total.Category=='Others']\n",
    "\n",
    "traceT = go.Scatter(\n",
    "    x = totalT['Year'],y = totalT['Value'],\n",
    "    name=\"Total surface\",\n",
    "    marker=dict(color=\"Green\"),\n",
    "    mode = \"markers+lines\",\n",
    "    text=totalT['Value']\n",
    ")\n",
    "\n",
    "traceH = go.Scatter(\n",
    "    x = totalH['Year'],y = totalH['Value'],\n",
    "    name=\"Hardwood\",\n",
    "    marker=dict(color=\"Lightgreen\"),\n",
    "    mode = \"markers+lines\",\n",
    "    text=totalH['Value']\n",
    ")\n",
    "\n",
    "traceS = go.Scatter(\n",
    "    x = totalS['Year'],y = totalS['Value'],\n",
    "    name=\"Softwood\",\n",
    "    marker=dict(color=\"Darkgreen\"),\n",
    "    mode = \"markers+lines\",\n",
    "    text=totalS['Value']\n",
    ")\n",
    "\n",
    "traceO = go.Scatter(\n",
    "    x = totalO['Year'],y = totalO['Value'],\n",
    "    name=\"Other surfaces\",\n",
    "    marker=dict(color=\"Brown\"),\n",
    "    mode = \"markers+lines\",\n",
    "    text=totalO['Value']\n",
    ")\n",
    "\n",
    "data = [traceT, traceH, traceS, traceO]\n",
    "\n",
    "layout = dict(title = 'Total surfaces, Hardwood, Softwood and other surfaces - forest Romania 1990-2019',\n",
    "          xaxis = dict(title = 'Year', showticklabels=True), \n",
    "          yaxis = dict(title = 'Surface [Thousands hectares]'),\n",
    "          hovermode = 'closest'\n",
    "         )\n",
    "fig = dict(data=data, layout=layout)\n",
    "iplot(fig, filename='forest-surface')"
   ]
  },
  {
   "cell_type": "markdown",
   "id": "bf2c7ddf",
   "metadata": {},
   "source": [
    "We can observe that overall, the forest surface increased in Romania from 1990 to 2019. Mostly the Hardwood surface increased, from 4.32 Million hectares to 4.51 Million hectares. The total surface increased from 6.37 Million hectares to 6.59 Million hectares. The Softwood surface decreased from 1.92 Million hectares to 1.91 Million hectares.\n",
    "\n",
    "\n",
    "Let's explore now the same values split per regions and per county."
   ]
  },
  {
   "cell_type": "markdown",
   "id": "3b8b624a",
   "metadata": {},
   "source": [
    "We can observe that overall, the forest surface increased in Romania from 1990 to 2019. Mostly the Hardwood surface increased, from 4.32 Million hectares to 4.51 Million hectares. The total surface increased from 6.37 Million hectares to 6.59 Million hectares. The Softwood surface decreased from 1.92 Million hectares to 1.91 Million hectares.\n",
    "\n",
    "\n",
    "Let's explore now the same values split per regions and per county."
   ]
  },
  {
   "cell_type": "markdown",
   "id": "c6a499f1",
   "metadata": {},
   "source": [
    "### Surfaces per counties"
   ]
  },
  {
   "cell_type": "markdown",
   "id": "36303365",
   "metadata": {},
   "source": [
    "### Surfaces per counties"
   ]
  },
  {
   "cell_type": "code",
   "execution_count": null,
   "id": "52fa9f22",
   "metadata": {},
   "outputs": [],
   "source": [
    "county_list = ['Bihor', 'Bistrita-Nasaud', 'Cluj', 'Maramures', 'Satu Mare', 'Salaj', 'Alba', 'Brasov', 'Covasna', 'Harghita', 'Mures', 'Sibiu', \n",
    "               'Bacau', 'Botosani', 'Iasi', 'Neamt', 'Suceava', 'Vaslui', 'Braila', 'Buzau', 'Constanta', 'Galati', 'Tulcea', 'Vrancea', \n",
    "               'Arges', 'Calarasi', 'Dambovita', 'Giurgiu', 'Ialomita', 'Prahova', 'Teleorman', 'Ilfov', 'Bucuresti', \n",
    "               'Dolj', 'Gorj', 'Mehedinti', 'Olt', 'Valcea', 'Arad', 'Caras-Severin', 'Hunedoara', 'Timis']\n",
    "data_county_df = data_df.loc[data_df.Region.isin(county_list)]"
   ]
  },
  {
   "cell_type": "code",
   "execution_count": null,
   "id": "f2be4ec3",
   "metadata": {},
   "outputs": [],
   "source": [
    "county_list = ['Bihor', 'Bistrita-Nasaud', 'Cluj', 'Maramures', 'Satu Mare', 'Salaj', 'Alba', 'Brasov', 'Covasna', 'Harghita', 'Mures', 'Sibiu', \n",
    "               'Bacau', 'Botosani', 'Iasi', 'Neamt', 'Suceava', 'Vaslui', 'Braila', 'Buzau', 'Constanta', 'Galati', 'Tulcea', 'Vrancea', \n",
    "               'Arges', 'Calarasi', 'Dambovita', 'Giurgiu', 'Ialomita', 'Prahova', 'Teleorman', 'Ilfov', 'Bucuresti', \n",
    "               'Dolj', 'Gorj', 'Mehedinti', 'Olt', 'Valcea', 'Arad', 'Caras-Severin', 'Hunedoara', 'Timis']\n",
    "data_county_df = data_df.loc[data_df.Region.isin(county_list)]"
   ]
  },
  {
   "cell_type": "code",
   "execution_count": null,
   "id": "8bc83345",
   "metadata": {},
   "outputs": [],
   "source": [
    "selection_df = data_county_df.loc[data_county_df.Category==\"Total\"]\n",
    "min_value = selection_df.Value.min()\n",
    "max_value = selection_df.Value.max()\n",
    "import plotly.express as px\n",
    "fig = px.bar(selection_df, x=\"Value\", y=\"Region\", animation_frame='Year', orientation='h',\n",
    "             range_color =[min_value,max_value], \n",
    "             width=600, height=800, range_x = [min_value,max_value],\n",
    "            title='Surface evolution/county 1990-2019 - Total')\n",
    "fig.update_layout(font=dict(family=\"Courier New, monospace\",size=10,color=\"Black\"))\n",
    "fig.show()"
   ]
  },
  {
   "cell_type": "code",
   "execution_count": null,
   "id": "7b68a8c5",
   "metadata": {},
   "outputs": [],
   "source": [
    "selection_df = data_county_df.loc[data_county_df.Category==\"Total\"]\n",
    "min_value = selection_df.Value.min()\n",
    "max_value = selection_df.Value.max()\n",
    "import plotly.express as px\n",
    "fig = px.bar(selection_df, x=\"Value\", y=\"Region\", animation_frame='Year', orientation='h',\n",
    "             range_color =[min_value,max_value],\n",
    "             width=600, height=800, range_x = [min_value,max_value],\n",
    "            title='Surface evolution/county 1990-2019 - Total')\n",
    "fig.update_layout(font=dict(family=\"Courier New, monospace\",size=10,color=\"#7f7f7f\"))\n",
    "fig.show()"
   ]
  },
  {
   "cell_type": "code",
   "execution_count": null,
   "id": "3395c89d",
   "metadata": {},
   "outputs": [],
   "source": [
    "selection_df = data_county_df.loc[data_county_df.Category==\"Hardwood\"]\n",
    "min_value = selection_df.Value.min()\n",
    "max_value = selection_df.Value.max()\n",
    "import plotly.express as px\n",
    "fig = px.bar(selection_df, x=\"Value\", y=\"Region\", animation_frame='Year', orientation='h',\n",
    "             range_color =[min_value,max_value],\n",
    "             width=600, height=800, range_x = [min_value,max_value],\n",
    "            title='Surface evolution/county 1990-2019 - Hardwood')\n",
    "fig.update_layout(font=dict(family=\"Courier New, monospace\",size=10,color=\"Black\"))\n",
    "fig.show()"
   ]
  },
  {
   "cell_type": "code",
   "execution_count": null,
   "id": "719cfb27",
   "metadata": {},
   "outputs": [],
   "source": [
    "selection_df = data_county_df.loc[data_county_df.Category==\"Hardwood\"]\n",
    "min_value = selection_df.Value.min()\n",
    "max_value = selection_df.Value.max()\n",
    "import plotly.express as px\n",
    "fig = px.bar(selection_df, x=\"Value\", y=\"Region\", animation_frame='Year', orientation='h',\n",
    "             range_color =[min_value,max_value],\n",
    "             width=600, height=800, range_x = [min_value,max_value],\n",
    "            title='Surface evolution/county 1990-2019 - Hardwood')\n",
    "fig.update_layout(font=dict(family=\"Courier New, monospace\",size=10,color=\"#7f7f7f\"))\n",
    "fig.show()"
   ]
  },
  {
   "cell_type": "code",
   "execution_count": null,
   "id": "c2ffb452",
   "metadata": {},
   "outputs": [],
   "source": [
    "selection_df = data_county_df.loc[data_county_df.Category==\"Softwood\"]\n",
    "min_value = selection_df.Value.min()\n",
    "max_value = selection_df.Value.max()\n",
    "import plotly.express as px\n",
    "fig = px.bar(selection_df, x=\"Value\", y=\"Region\", animation_frame='Year', orientation='h',\n",
    "             range_color =[min_value,max_value],\n",
    "             width=600, height=800, range_x = [min_value,max_value],\n",
    "            title='Surface evolution/county 1990-2019 - Softwood')\n",
    "fig.update_layout(font=dict(family=\"Courier New, monospace\",size=10,color=\"#7f7f7f\"))\n",
    "fig.show()"
   ]
  },
  {
   "cell_type": "code",
   "execution_count": null,
   "id": "e54ad1db",
   "metadata": {},
   "outputs": [],
   "source": [
    "selection_df = data_county_df.loc[data_county_df.Category==\"Softwood\"]\n",
    "min_value = selection_df.Value.min()\n",
    "max_value = selection_df.Value.max()\n",
    "import plotly.express as px\n",
    "fig = px.bar(selection_df, x=\"Value\", y=\"Region\", animation_frame='Year', orientation='h',\n",
    "             range_color =[min_value,max_value],\n",
    "             width=600, height=800, range_x = [min_value,max_value],\n",
    "            title='Surface evolution/county 1990-2019 - Softwood')\n",
    "fig.update_layout(font=dict(family=\"Courier New, monospace\",size=10,color=\"Black\"))\n",
    "fig.show()"
   ]
  },
  {
   "cell_type": "code",
   "execution_count": null,
   "id": "860ede06",
   "metadata": {},
   "outputs": [],
   "source": [
    "selection_df = data_county_df.loc[data_county_df.Category==\"Others\"]\n",
    "min_value = selection_df.Value.min()\n",
    "max_value = selection_df.Value.max()\n",
    "import plotly.express as px\n",
    "fig = px.bar(selection_df, x=\"Value\", y=\"Region\", animation_frame='Year', orientation='h',\n",
    "             range_color =[min_value,max_value],\n",
    "             width=600, height=800, range_x = [min_value,max_value],\n",
    "            title='Surface evolution/county 1990-2019 - Other surfaces')\n",
    "fig.update_layout(font=dict(family=\"Courier New, monospace\",size=10,color=\"#7f7f7f\"))\n",
    "fig.show()"
   ]
  },
  {
   "cell_type": "code",
   "execution_count": null,
   "id": "13544939",
   "metadata": {},
   "outputs": [],
   "source": [
    "selection_df = data_county_df.loc[data_county_df.Category==\"Others\"]\n",
    "min_value = selection_df.Value.min()\n",
    "max_value = selection_df.Value.max()\n",
    "import plotly.express as px\n",
    "fig = px.bar(selection_df, x=\"Value\", y=\"Region\", animation_frame='Year', orientation='h',\n",
    "             range_color =[min_value,max_value],\n",
    "             width=600, height=800, range_x = [min_value,max_value],\n",
    "            title='Surface evolution/county 1990-2019 - Other surfaces')\n",
    "fig.update_layout(font=dict(family=\"Courier New, monospace\",size=10,color=\"Black\"))\n",
    "fig.show()"
   ]
  },
  {
   "cell_type": "code",
   "execution_count": null,
   "id": "d529628d",
   "metadata": {},
   "outputs": [],
   "source": [
    "ro_geo_data = \"/kaggle/input/elementary-school-admission-romania-2014/romania.geojson\"\n",
    "ro_large_geo_data = \"/kaggle/input/elementary-school-admission-romania-2014/ro_judete_poligon.geojson\""
   ]
  },
  {
   "cell_type": "code",
   "execution_count": null,
   "id": "7ba4d4fe",
   "metadata": {},
   "outputs": [],
   "source": [
    "ro_geo_data = \"/kaggle/input/elementary-school-admission-romania-2014/romania.geojson\"\n",
    "ro_large_geo_data = \"/kaggle/input/elementary-school-admission-romania-2014/ro_judete_poligon.geojson\""
   ]
  },
  {
   "cell_type": "code",
   "execution_count": null,
   "id": "71962cbc",
   "metadata": {},
   "outputs": [],
   "source": [
    "import difflib \n",
    "import json\n",
    "\n",
    "# retrieve the county names from geoJson\n",
    "with open(ro_geo_data) as json_file:\n",
    "    json_data = json.load(json_file)\n",
    "county_lat_long_df = pd.DataFrame()\n",
    "for item in json_data['features']:\n",
    "    polygons = list(shape(item['geometry']))\n",
    "    county = item['properties']['name']\n",
    "    county_lat_long_df = county_lat_long_df.append(pd.DataFrame({'Region': county, 'Lat':polygons[0].centroid.y, 'Long': polygons[0].centroid.x}, index=[0]))\n",
    "\n",
    "# merge county data    \n",
    "county_join = pd.DataFrame(data_county_df.Region.unique())\n",
    "county_join.columns = ['Region']\n",
    "# match the county names\n",
    "difflib.get_close_matches\n",
    "county_lat_long_df['Region'] = county_lat_long_df.Region.map(lambda x: difflib.get_close_matches(x, county_join.Region)[0])\n",
    "print(f\"Validation [polygons]: {county_lat_long_df.Region.nunique()},{county_lat_long_df.Region.nunique()}\")\n",
    "\n",
    "with open(ro_large_geo_data) as json_file:\n",
    "    json_data = json.load(json_file)\n",
    "county_population_df = pd.DataFrame()\n",
    "for item in json_data['features']:\n",
    "    county = item['properties']['name']\n",
    "    population = item['properties']['pop2011']\n",
    "    county_population_df = county_population_df.append(pd.DataFrame({'Region': county, 'population': population}, index=[0]))\n",
    "difflib.get_close_matches\n",
    "county_population_df['Region'] = county_population_df.Region.map(lambda x: difflib.get_close_matches(x, county_join.Region)[0])\n",
    "print(f\"Validation [population]: {county_population_df.Region.nunique()},{county_population_df.Region.nunique()}\")"
   ]
  },
  {
   "cell_type": "code",
   "execution_count": null,
   "id": "061a80a0",
   "metadata": {},
   "outputs": [],
   "source": [
    "import difflib \n",
    "import json\n",
    "\n",
    "# retrieve the county names from geoJson\n",
    "with open(ro_geo_data) as json_file:\n",
    "    json_data = json.load(json_file)\n",
    "county_lat_long_df = pd.DataFrame()\n",
    "for item in json_data['features']:\n",
    "    polygons = list(shape(item['geometry']))\n",
    "    county = item['properties']['name']\n",
    "    county_lat_long_df = county_lat_long_df.append(pd.DataFrame({'Region': county, 'Lat':polygons[0].centroid.y, 'Long': polygons[0].centroid.x}, index=[0]))\n",
    "\n",
    "# merge county data    \n",
    "county_join = pd.DataFrame(data_county_df.Region.unique())\n",
    "county_join.columns = ['Region']\n",
    "# match the county names\n",
    "difflib.get_close_matches\n",
    "county_lat_long_df['Region'] = county_lat_long_df.Region.map(lambda x: difflib.get_close_matches(x, county_join.Region)[0])\n",
    "print(f\"Validation [polygons]: {county_lat_long_df.Region.nunique()},{county_lat_long_df.Region.nunique()}\")\n",
    "\n",
    "with open(ro_large_geo_data) as json_file:\n",
    "    json_data = json.load(json_file)\n",
    "county_population_df = pd.DataFrame()\n",
    "for item in json_data['features']:\n",
    "    county = item['properties']['name']\n",
    "    population = item['properties']['pop2011']\n",
    "    county_population_df = county_population_df.append(pd.DataFrame({'Region': county, 'population': population}, index=[0]))\n",
    "difflib.get_close_matches\n",
    "county_population_df['Region'] = county_population_df.Region.map(lambda x: difflib.get_close_matches(x, county_join.Region)[0])\n",
    "print(f\"Validation [population]: {county_population_df.Region.nunique()},{county_population_df.Region.nunique()}\")"
   ]
  },
  {
   "cell_type": "code",
   "execution_count": null,
   "id": "c3d69fa0",
   "metadata": {},
   "outputs": [],
   "source": [
    "data_county_df = data_county_df.merge(county_lat_long_df, on=\"Region\")"
   ]
  },
  {
   "cell_type": "code",
   "execution_count": null,
   "id": "95ffb4ab",
   "metadata": {},
   "outputs": [],
   "source": [
    "data_county_df = data_county_df.merge(county_lat_long_df, on=\"Region\")"
   ]
  },
  {
   "cell_type": "code",
   "execution_count": null,
   "id": "a493d78e",
   "metadata": {},
   "outputs": [],
   "source": [
    "def plot_map(data_county_df, year='1990', category='Total', bins_max=500):\n",
    "    \n",
    "    last_data_df = data_county_df.loc[(data_county_df.Year == year) & (data_county_df.Category==category)].reset_index()\n",
    "    \n",
    "    ro_map = folium.Map(location=[45.9, 24.9], zoom_start=6)\n",
    "\n",
    "    bins_list = []\n",
    "    for i in range(0,9):\n",
    "        bins_list.append(int(i * bins_max / 8))\n",
    "   \n",
    "    folium.Choropleth(\n",
    "        geo_data=ro_geo_data,\n",
    "        name='Counties countour plots',\n",
    "        data=last_data_df,\n",
    "        columns=['Region', 'Value'],\n",
    "        key_on='feature.properties.name',\n",
    "        fill_color='Greens',\n",
    "        bins=bins_list,\n",
    "        fill_opacity=0.6,\n",
    "        line_opacity=0.5,\n",
    "        legend_name=f'{category} forest surface [10^3 ha] / county ({year})'\n",
    "    ).add_to(ro_map)\n",
    "\n",
    "\n",
    "\n",
    "    radius_min = 3\n",
    "    radius_max = 20\n",
    "    weight = 1\n",
    "    fill_opacity = 0.5\n",
    "\n",
    "    _color_conf = 'Darkgreen'\n",
    "    group0 = folium.FeatureGroup(name='<span style=\\\\\"color: #20FF50;\\\\\">Popups</span>')\n",
    "    for i in range(len(last_data_df)):\n",
    "        lat = last_data_df.loc[i, 'Lat']\n",
    "        lon = last_data_df.loc[i, 'Long']\n",
    "        _county = last_data_df.loc[i, 'Region']\n",
    "\n",
    "        _radius_conf = np.sqrt(last_data_df.loc[i, 'Value'])\n",
    "        if _radius_conf < radius_min:\n",
    "            _radius_conf = radius_min\n",
    "\n",
    "        if _radius_conf > radius_max:\n",
    "            _radius_conf = radius_max\n",
    "\n",
    "        _popup_conf = str(_county) + '\\nSurface: '+str(last_data_df.loc[i, 'Value']) + ' [10^3 ha]'\n",
    "\n",
    "        folium.CircleMarker(location = [lat,lon], \n",
    "                            radius = _radius_conf, \n",
    "                            popup = _popup_conf, \n",
    "                            tooltip = _popup_conf,\n",
    "                            color = _color_conf, \n",
    "                            fill_opacity = fill_opacity,\n",
    "                            weight = weight, \n",
    "                            fill = True, \n",
    "                            fillColor = _color_conf).add_to(group0)\n",
    "\n",
    "    group0.add_to(ro_map)\n",
    "    folium.LayerControl().add_to(ro_map)\n",
    "\n",
    "    return ro_map"
   ]
  },
  {
   "cell_type": "code",
   "execution_count": null,
   "id": "41d6b071",
   "metadata": {},
   "outputs": [],
   "source": [
    "def plot_map(data_county_df, year='1990', category='Total', bins_max=500):\n",
    "    \n",
    "    last_data_df = data_county_df.loc[(data_county_df.Year == year) & (data_county_df.Category==category)].reset_index()\n",
    "    \n",
    "    ro_map = folium.Map(location=[45.9, 24.9], zoom_start=6)\n",
    "\n",
    "    bins_list = []\n",
    "    for i in range(0,9):\n",
    "        bins_list.append(int(i * bins_max / 8))\n",
    "   \n",
    "    folium.Choropleth(\n",
    "        geo_data=ro_geo_data,\n",
    "        name='Counties countour plots',\n",
    "        data=last_data_df,\n",
    "        columns=['Region', 'Value'],\n",
    "        key_on='feature.properties.name',\n",
    "        fill_color='Greens',\n",
    "        bins=bins_list,\n",
    "        fill_opacity=0.6,\n",
    "        line_opacity=0.5,\n",
    "        legend_name=f'{category} forest surface [10^3 ha] / county ({year})'\n",
    "    ).add_to(ro_map)\n",
    "\n",
    "\n",
    "\n",
    "    radius_min = 3\n",
    "    radius_max = 20\n",
    "    weight = 1\n",
    "    fill_opacity = 0.5\n",
    "\n",
    "    _color_conf = 'Darkgreen'\n",
    "    group0 = folium.FeatureGroup(name='<span style=\\\\\"color: #20FF50;\\\\\">Popups</span>')\n",
    "    for i in range(len(last_data_df)):\n",
    "        lat = last_data_df.loc[i, 'Lat']\n",
    "        lon = last_data_df.loc[i, 'Long']\n",
    "        _county = last_data_df.loc[i, 'Region']\n",
    "\n",
    "        _radius_conf = np.sqrt(last_data_df.loc[i, 'Value'])\n",
    "        if _radius_conf < radius_min:\n",
    "            _radius_conf = radius_min\n",
    "\n",
    "        if _radius_conf > radius_max:\n",
    "            _radius_conf = radius_max\n",
    "\n",
    "        _popup_conf = str(_county) + '\\nSurface: '+str(last_data_df.loc[i, 'Value']) + ' [10^3 ha]'\n",
    "\n",
    "        folium.CircleMarker(location = [lat,lon], \n",
    "                            radius = _radius_conf, \n",
    "                            popup = _popup_conf, \n",
    "                            tooltip = _popup_conf,\n",
    "                            color = _color_conf, \n",
    "                            fill_opacity = fill_opacity,\n",
    "                            weight = weight, \n",
    "                            fill = True, \n",
    "                            fillColor = _color_conf).add_to(group0)\n",
    "\n",
    "    group0.add_to(ro_map)\n",
    "    folium.LayerControl().add_to(ro_map)\n",
    "\n",
    "    return ro_map"
   ]
  },
  {
   "cell_type": "markdown",
   "id": "c6c42d0b",
   "metadata": {},
   "source": [
    "### Total forest surface in 1990"
   ]
  },
  {
   "cell_type": "markdown",
   "id": "95b90bee",
   "metadata": {},
   "source": [
    "### Total forest surface in 1990"
   ]
  },
  {
   "cell_type": "code",
   "execution_count": null,
   "id": "b107d8f4",
   "metadata": {},
   "outputs": [],
   "source": [
    "ro_map = plot_map(data_county_df, 1990, 'Total')\n",
    "ro_map"
   ]
  },
  {
   "cell_type": "code",
   "execution_count": null,
   "id": "031e5c7d",
   "metadata": {},
   "outputs": [],
   "source": [
    "ro_map = plot_map(data_county_df, 1990, 'Total')\n",
    "ro_map"
   ]
  },
  {
   "cell_type": "markdown",
   "id": "ff3c3e64",
   "metadata": {},
   "source": [
    "### Total forest surface in 2019"
   ]
  },
  {
   "cell_type": "markdown",
   "id": "249e175f",
   "metadata": {},
   "source": [
    "### Total forest surface in 2019"
   ]
  },
  {
   "cell_type": "code",
   "execution_count": null,
   "id": "552edb2f",
   "metadata": {},
   "outputs": [],
   "source": [
    "ro_map = plot_map(data_county_df, 2019, 'Total')\n",
    "ro_map"
   ]
  },
  {
   "cell_type": "code",
   "execution_count": null,
   "id": "cefb03bd",
   "metadata": {},
   "outputs": [],
   "source": [
    "ro_map = plot_map(data_county_df, 2019, 'Total')\n",
    "ro_map"
   ]
  },
  {
   "cell_type": "markdown",
   "id": "0b2917a4",
   "metadata": {},
   "source": [
    "### Total Hardwood forest surface in 1990"
   ]
  },
  {
   "cell_type": "markdown",
   "id": "4298303d",
   "metadata": {},
   "source": [
    "### Total Hardwood forest surface in 1990"
   ]
  },
  {
   "cell_type": "code",
   "execution_count": null,
   "id": "22c0d0fa",
   "metadata": {},
   "outputs": [],
   "source": [
    "ro_map = plot_map(data_county_df, 1990, 'Hardwood',bins_max=400)\n",
    "ro_map"
   ]
  },
  {
   "cell_type": "code",
   "execution_count": null,
   "id": "301df994",
   "metadata": {},
   "outputs": [],
   "source": [
    "ro_map = plot_map(data_county_df, 1990, 'Hardwood',bins_max=400)\n",
    "ro_map"
   ]
  },
  {
   "cell_type": "markdown",
   "id": "3fe1770d",
   "metadata": {},
   "source": [
    "### Total Hardwood forest surface in 2019"
   ]
  },
  {
   "cell_type": "markdown",
   "id": "6be6dcc3",
   "metadata": {},
   "source": [
    "### Total Hardwood forest surface in 2019"
   ]
  },
  {
   "cell_type": "code",
   "execution_count": null,
   "id": "672d6771",
   "metadata": {},
   "outputs": [],
   "source": [
    "ro_map = plot_map(data_county_df, 2019, 'Hardwood', bins_max=400)\n",
    "ro_map"
   ]
  },
  {
   "cell_type": "code",
   "execution_count": null,
   "id": "9b137c1f",
   "metadata": {},
   "outputs": [],
   "source": [
    "ro_map = plot_map(data_county_df, 2019, 'Hardwood', bins_max=400)\n",
    "ro_map"
   ]
  },
  {
   "cell_type": "markdown",
   "id": "2d1899c1",
   "metadata": {},
   "source": [
    "### Total Softwood forest surface in 1990"
   ]
  },
  {
   "cell_type": "markdown",
   "id": "67e47b99",
   "metadata": {},
   "source": [
    "### Total Softwood forest surface in 1990"
   ]
  },
  {
   "cell_type": "code",
   "execution_count": null,
   "id": "621cb4df",
   "metadata": {},
   "outputs": [],
   "source": [
    "ro_map = plot_map(data_county_df, 1990, 'Softwood', bins_max=350)\n",
    "ro_map"
   ]
  },
  {
   "cell_type": "code",
   "execution_count": null,
   "id": "b10608e7",
   "metadata": {},
   "outputs": [],
   "source": [
    "ro_map = plot_map(data_county_df, 1990, 'Softwood', bins_max=350)\n",
    "ro_map"
   ]
  },
  {
   "cell_type": "markdown",
   "id": "ed0f67f4",
   "metadata": {},
   "source": [
    "### Total Softwood forest surface in 2019"
   ]
  },
  {
   "cell_type": "markdown",
   "id": "43a14bb0",
   "metadata": {},
   "source": [
    "### Total Softwood forest surface in 2019"
   ]
  },
  {
   "cell_type": "code",
   "execution_count": null,
   "id": "6139eda4",
   "metadata": {},
   "outputs": [],
   "source": [
    "ro_map = plot_map(data_county_df, 2019, 'Softwood',bins_max=350)\n",
    "ro_map"
   ]
  },
  {
   "cell_type": "code",
   "execution_count": null,
   "id": "60841324",
   "metadata": {},
   "outputs": [],
   "source": [
    "ro_map = plot_map(data_county_df, 2019, 'Softwood',bins_max=350)\n",
    "ro_map"
   ]
  },
  {
   "cell_type": "markdown",
   "id": "2cb5a0d4",
   "metadata": {},
   "source": [
    "### Total Other forest surface in 1990"
   ]
  },
  {
   "cell_type": "markdown",
   "id": "8afe2c0b",
   "metadata": {},
   "source": [
    "### Total Other forest surface in 1990"
   ]
  },
  {
   "cell_type": "code",
   "execution_count": null,
   "id": "0d27f53f",
   "metadata": {},
   "outputs": [],
   "source": [
    "ro_map = plot_map(data_county_df, 1990, 'Others',bins_max=15)\n",
    "ro_map"
   ]
  },
  {
   "cell_type": "code",
   "execution_count": null,
   "id": "6591a82c",
   "metadata": {},
   "outputs": [],
   "source": [
    "ro_map = plot_map(data_county_df, 1990, 'Others',bins_max=15)\n",
    "ro_map"
   ]
  },
  {
   "cell_type": "markdown",
   "id": "27915ca6",
   "metadata": {},
   "source": [
    "### Total Other forest surface in 2019"
   ]
  },
  {
   "cell_type": "markdown",
   "id": "c699e52b",
   "metadata": {},
   "source": [
    "### Total Other forest surface in 2019"
   ]
  },
  {
   "cell_type": "code",
   "execution_count": null,
   "id": "464e9c31",
   "metadata": {},
   "outputs": [],
   "source": [
    "ro_map = plot_map(data_county_df, 2019, 'Others',bins_max=15)\n",
    "ro_map"
   ]
  },
  {
   "cell_type": "code",
   "execution_count": null,
   "id": "4550ac3e",
   "metadata": {},
   "outputs": [],
   "source": [
    "ro_map = plot_map(data_county_df, 2019, 'Others',bins_max=15)\n",
    "ro_map"
   ]
  }
 ],
 "metadata": {},
 "nbformat": 4,
 "nbformat_minor": 5
}
