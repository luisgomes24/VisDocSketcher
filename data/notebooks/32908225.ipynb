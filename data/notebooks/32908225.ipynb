{
 "cells": [
  {
   "cell_type": "markdown",
   "id": "a3966047",
   "metadata": {},
   "source": [
    "# India GDP Rate 1960-2022"
   ]
  },
  {
   "cell_type": "markdown",
   "id": "984fc413",
   "metadata": {},
   "source": [
    "# About Dataset\n",
    "\n",
    "# Context:\n",
    "GDP at purchaser's prices is the sum of gross value added by all resident producers in the economy plus any product taxes and minus any subsidies not included in the value of the products. It is calculated without making deductions for depreciation of fabricated assets or for depletion and degradation of natural resources.\n",
    "Determining gross domestic product (GDP)\n",
    "\n",
    "GDP can be determined in three ways, all of which should, theoretically, give the same result.\n",
    "They are the production (or output or value added) approach, the income approach, and the\n",
    "speculated expenditure approach. It is representative of the total output and income\n",
    "within an economy.\n",
    "\n",
    "# Columns In The Dataset\n",
    "- YEAR\n",
    "- GDP\n",
    "- Per Capita Income\n",
    "- Growth Rate\n",
    "\n",
    "# Acknowledgements (From The Author Of The Data)\n",
    "The Method for collecting the Data is Web Scraping\n",
    "\n",
    "# Link\n",
    "https://www.kaggle.com/datasets/rajkumarpandey02/india-gdp-rate-19602022"
   ]
  },
  {
   "cell_type": "markdown",
   "id": "88ee87b6",
   "metadata": {},
   "source": [
    "# 1. Importing The Relevant Libraries"
   ]
  },
  {
   "cell_type": "code",
   "execution_count": null,
   "id": "d94da6f8",
   "metadata": {},
   "outputs": [],
   "source": [
    "import numpy as np \n",
    "import pandas as pd\n",
    "import matplotlib.pyplot as plt\n",
    "import matplotlib.ticker as mticker\n",
    "\n",
    "import seaborn as sns\n",
    "sns.set()\n",
    "\n",
    "import warnings\n",
    "warnings.filterwarnings(\"ignore\")"
   ]
  },
  {
   "cell_type": "markdown",
   "id": "e6e4e49e",
   "metadata": {},
   "source": [
    "# 2. Importing The Data"
   ]
  },
  {
   "cell_type": "code",
   "execution_count": null,
   "id": "d4406c54",
   "metadata": {},
   "outputs": [],
   "source": [
    "df = pd.read_csv(\"/kaggle/input/india-gdp-rate-19602022/India GDP 1960-2022.csv\")\n",
    "df.head()"
   ]
  },
  {
   "cell_type": "markdown",
   "id": "128779eb",
   "metadata": {},
   "source": [
    "# 3. Structuring & Cleaning The Data "
   ]
  },
  {
   "cell_type": "code",
   "execution_count": null,
   "id": "9f9a57e8",
   "metadata": {},
   "outputs": [],
   "source": [
    "# Checking For Null Values \n",
    "df.isnull().sum()"
   ]
  },
  {
   "cell_type": "code",
   "execution_count": null,
   "id": "2a0a3c43",
   "metadata": {},
   "outputs": [],
   "source": [
    "# Droping the first column - The values are similar to the index values (But in Float)\n",
    "df.drop(columns = \"Unnamed: 0\", axis = 1, inplace = True)\n",
    "df"
   ]
  },
  {
   "cell_type": "code",
   "execution_count": null,
   "id": "f450c256",
   "metadata": {},
   "outputs": [],
   "source": [
    "# Renaming The Columns\n",
    "df.rename(columns={\n",
    "        'India GDP - Historical Data' : 'Year', \n",
    "        'India GDP - Historical Data.1' : 'GDP ($,B)', \n",
    "        'India GDP - Historical Data.2' : 'Per Capita ($)', \n",
    "        'India GDP - Historical Data.3': 'Growth (%)'   \n",
    "                  }, inplace=True)\n",
    "df"
   ]
  },
  {
   "cell_type": "code",
   "execution_count": null,
   "id": "6408aa86",
   "metadata": {},
   "outputs": [],
   "source": [
    "# Removing the first row \n",
    "df = df[1:] \n",
    "df"
   ]
  },
  {
   "cell_type": "code",
   "execution_count": null,
   "id": "8fb466ea",
   "metadata": {},
   "outputs": [],
   "source": [
    "# GDP ($,B)\n",
    "# Aim: Convert $37.03B -> 3703 -> 37.03\n",
    "# String -> Integer -> Float \n",
    "df['GDP ($,B)'] = df['GDP ($,B)'].replace('[\\$\\,\\.\\\"B\"]', '', regex=True).astype(int)\n",
    "df['GDP ($,B)'] = df['GDP ($,B)']/100\n",
    "df\n",
    "\n",
    "# Per Capita ($)\n",
    "# Aim: Convert $82 -> 82\n",
    "# String -> Float \n",
    "df['Per Capita ($)'] = df['Per Capita ($)'].replace('[\\$\\,\\.]', '', regex=True).astype(float)"
   ]
  },
  {
   "cell_type": "code",
   "execution_count": null,
   "id": "9b623190",
   "metadata": {},
   "outputs": [],
   "source": [
    "# There is one value that is fully string i.e) \"%\"\n",
    "# Conversion to \"0%\" is needed for further processsing \n",
    "df['Growth (%)'] = df['Growth (%)'].replace([\"%\"], [\"0%\"])\n",
    "\n",
    "# Growth (%)\n",
    "# Aim:Convert 3.72% -> 372 -> 3.72\n",
    "# String -> int -> float \n",
    "df['Growth (%)'] = df['Growth (%)'].replace('[\\\"%\"\\.\\\"\"]', '', regex=True).astype(int)\n",
    "df['Growth (%)'] = df['Growth (%)']/100"
   ]
  },
  {
   "cell_type": "code",
   "execution_count": null,
   "id": "ff5493b6",
   "metadata": {},
   "outputs": [],
   "source": [
    "# I am reversing the datafram so that things are easier during visualization\n",
    "df = df.reindex(index=df.index[::-1])\n",
    "df"
   ]
  },
  {
   "cell_type": "code",
   "execution_count": null,
   "id": "e772cf00",
   "metadata": {},
   "outputs": [],
   "source": [
    "# Final checking of all the types \n",
    "df.dtypes"
   ]
  },
  {
   "cell_type": "markdown",
   "id": "e433c196",
   "metadata": {},
   "source": [
    "# 4. Visualize The Data"
   ]
  },
  {
   "cell_type": "markdown",
   "id": "669d0873",
   "metadata": {},
   "source": [
    "# (i) Year vs Growth"
   ]
  },
  {
   "cell_type": "code",
   "execution_count": null,
   "id": "51541c0f",
   "metadata": {},
   "outputs": [],
   "source": [
    "fig, (ax) = plt.subplots(figsize=(10,5))\n",
    "\n",
    "# Year vs Growth\n",
    "ax.plot(df['Year'], df['Growth (%)'], 'tab:green')\n",
    "ax.set( title = \"Year vs Growth \", \n",
    "        xlabel = \"Year\", \n",
    "        ylabel = \"Growth In %\", \n",
    "      )\n",
    "myLocator1 = mticker.MultipleLocator(5)\n",
    "ax.xaxis.set_major_locator(myLocator1)\n",
    "\n",
    "plt.show()"
   ]
  },
  {
   "cell_type": "markdown",
   "id": "a9dbc054",
   "metadata": {},
   "source": [
    "# Inference (Year vs Growth)\n",
    "The graph has a lot of ups and downs. Possible reasons for significant recessions are \n",
    "- 1965: Indo Pakistan War\n",
    "- 1979: The Emergency\n",
    "- 2020: The Pandemic\n",
    "\n",
    "But even after such -ve growth percentage, the country has seeming pulled itself up within few short years. "
   ]
  },
  {
   "cell_type": "markdown",
   "id": "89fffc26",
   "metadata": {},
   "source": [
    "# (ii) GDP vs Per Capita Income "
   ]
  },
  {
   "cell_type": "code",
   "execution_count": null,
   "id": "adad8f9c",
   "metadata": {},
   "outputs": [],
   "source": [
    "fig, (ax0) = plt.subplots(figsize=(10,5))\n",
    "\n",
    "# GDP vs Per Capita\n",
    "ax0.plot(df['GDP ($,B)'], df['Per Capita ($)'], 'tab:blue')\n",
    "ax0.set( title = \"GDP vs Per Capita\", \n",
    "        xlabel = \"GDP In Billion($)\", \n",
    "        ylabel = \"Per Capita In Dollars $\", \n",
    "       )\n",
    "\n",
    "plt.show()"
   ]
  },
  {
   "cell_type": "markdown",
   "id": "c75cb907",
   "metadata": {},
   "source": [
    "# Inference (GDP vs Per Capita Income)\n",
    "Investopedia states that the ```Per Capita Income``` is a measure of the amount of money earned per person in a nation or geographic region. \n",
    "\n",
    "Wikepedia tell that the ```Gross domestic product (GDP)``` is a monetary measure of the market value of all the final goods and services produced and sold (not resold) in a specific time period by countries.\n",
    "\n",
    "Thus the ```Per Capita Income``` vs ```GDP``` has a linear trend. \n",
    "\n",
    "The linear trend can be explained by the concept found in Pediaa which states that GDP is calculated by dividing the GDP of a country by its population."
   ]
  },
  {
   "cell_type": "markdown",
   "id": "a0a84e7f",
   "metadata": {},
   "source": [
    "# (iii) Year vs GDP & Year vs Per Capita Income "
   ]
  },
  {
   "cell_type": "code",
   "execution_count": null,
   "id": "6da4481d",
   "metadata": {},
   "outputs": [],
   "source": [
    "fig, (ax1, ax2) = plt.subplots(nrows=2, ncols=1, figsize=(10, 10), sharex=False)\n",
    "fig.tight_layout(pad=4.0) # Padding \n",
    "\n",
    "# Year vs GDP\n",
    "ax1.plot(df['Year'], df['GDP ($,B)'], 'tab:orange')\n",
    "ax1.set( title = \"Year vs GDP\", \n",
    "        xlabel = \"Year\", \n",
    "        ylabel = \"GDP In Billion($)\", \n",
    "      )\n",
    "myLocator = mticker.MultipleLocator(5)\n",
    "ax1.xaxis.set_major_locator(myLocator)\n",
    "\n",
    "# Year vs Per Capita\n",
    "ax2.plot(df['Year'], df['Per Capita ($)'], 'tab:red')\n",
    "ax2.set( title = \"Year vs Per Capita \", \n",
    "        xlabel = \"Year\", \n",
    "        ylabel = \"Per Capita In Dollars $\", \n",
    "      )\n",
    "myLocator0 = mticker.MultipleLocator(5)\n",
    "ax2.xaxis.set_major_locator(myLocator0)\n",
    "\n",
    "plt.show()"
   ]
  },
  {
   "cell_type": "markdown",
   "id": "2476bbe4",
   "metadata": {},
   "source": [
    "\n",
    "# Inference (Year vs GDP)\n",
    "The Year vs GDP and the Year vs Per Capita Income show the same trend. This is explainable by the earlier inference. \n",
    "\n",
    "Although the country had -ve growth percentage in ```1965```, ```1979``` and ```2020``` years, the GDP has constantly risen with no massive dips except the year ```2020```. Nevertheless, the rising momentum is regained in 2021. "
   ]
  },
  {
   "cell_type": "markdown",
   "id": "70651a31",
   "metadata": {},
   "source": [
    "# (iv) GDP vs Growth & Per Capita Income vs Growth"
   ]
  },
  {
   "cell_type": "code",
   "execution_count": null,
   "id": "1accb3f3",
   "metadata": {},
   "outputs": [],
   "source": [
    "fig, (ax3, ax4) = plt.subplots(nrows=2, ncols=1, figsize=(10, 10), sharex=False)\n",
    "fig.tight_layout(pad=4.0) # Padding \n",
    "\n",
    "# GDP vs Growth \n",
    "ax3.plot(df['GDP ($,B)'], df['Growth (%)'], 'tab:pink')\n",
    "ax3.set( title = \"GDP vs Growth\", \n",
    "        xlabel = \"GDP In Billion($)\", \n",
    "        ylabel = \"Growth in %\", \n",
    "      )\n",
    "\n",
    "# Per Capita vs Growth\n",
    "ax4.plot(df['Per Capita ($)'], df['Growth (%)'],'tab:purple' )\n",
    "ax4.set( title = \"Per Capita vs Growth\", \n",
    "        xlabel = \"Per Capita In Dollars $\",\n",
    "        ylabel = \"Growth in %\", \n",
    "      )\n",
    "\n",
    "plt.show()"
   ]
  },
  {
   "cell_type": "markdown",
   "id": "194eef67",
   "metadata": {},
   "source": [
    "# Inference (GDP vs Growth)\n",
    "Again the GDP vs Growth and the Per Capita Income vs Growth show the same trend. This is explainable by the earlier inference. \n",
    "\n",
    "First look at the graph tells that there is no linear or defined trend to this. Though the deepest spike around the ```2000``` in the ```Per Capita Income``` could be explained by the Pandemic. \n",
    "\n",
    "According to Marketcalls, the GDP growth rate increases if retail expenditures, government spending, and exports increase. The growth rate will decline with increases in exports, inventory, and declines in consumer, business or government spending. \n",
    "\n",
    "These are the same factors influences the ups and downs of the GDP.\n",
    "\n",
    "Despite of the ups and downs in the +ve half of the ```Growth in %```, the ```Per Capita Income``` seemes to be increasing constantly. (The values are arranged by the years in the dataframe). \n",
    "\n",
    "So, I think that there might be other factors that cause the ```Per Capita Income``` to move forward depsite changes in the ```Growth in %```."
   ]
  },
  {
   "cell_type": "code",
   "execution_count": null,
   "id": "57d1f835",
   "metadata": {},
   "outputs": [],
   "source": [
    "#I had to locally save the new dataframe with changes\n",
    "#df.to_csv(\"data-new.csv\", index = False)"
   ]
  },
  {
   "cell_type": "markdown",
   "id": "a683cb71",
   "metadata": {},
   "source": [
    "# Upvote This Notebook ✨"
   ]
  }
 ],
 "metadata": {},
 "nbformat": 4,
 "nbformat_minor": 5
}
