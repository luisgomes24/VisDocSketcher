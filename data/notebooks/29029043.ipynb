{
 "cells": [
  {
   "cell_type": "code",
   "execution_count": null,
   "id": "ec6f13fe",
   "metadata": {},
   "outputs": [],
   "source": [
    "import numpy as np # linear algebra\n",
    "import pandas as pd # data processing, CSV file I/O (e.g. pd.read_csv)\n",
    "import plotly.express as px #graphing\n",
    "import plotly.graph_objects as go #graphing\n",
    "from plotly.subplots import make_subplots #graphing\n",
    "import matplotlib.pyplot as plt #graphing\n",
    "import seaborn as sns #graphing\n",
    "import missingno as msno #describe data\n",
    "import os\n",
    "\n",
    "#from plotly.offline import plot, iplot, init_notebook_mode\n",
    "#import plotly.graph_objs as go\n",
    "#init_notebook_mode(connected=True)\n",
    "\n",
    "sns.set(rc = {\"figure.figsize\":(10, 6)}) #graph size\n",
    "\n",
    "for dirname, _, filenames in os.walk('/kaggle/input'):\n",
    "    for filename in filenames:\n",
    "        print(os.path.join(dirname, filename))"
   ]
  },
  {
   "cell_type": "code",
   "execution_count": null,
   "id": "9cf319f4",
   "metadata": {},
   "outputs": [],
   "source": [
    "df = pd.read_csv('/kaggle/input/population-of-india-19502022/indian population new.csv')"
   ]
  },
  {
   "cell_type": "markdown",
   "id": "9ff7dba8",
   "metadata": {},
   "source": [
    "# Columns in dataset 🇮🇳\n",
    "\n",
    "- `Year`\n",
    "- `Population`\n",
    "- `% Increase in Population`\n",
    "- `Population Density`\n",
    "- `% Increase in Population Density`\n",
    "- `Urban Population`\n",
    "- `Urban Population % of Total Population`\n",
    "- `% Increase in Urban Population`\n",
    "- `Rural Population`\n",
    "- `Rural Population % of Total Population`\n",
    "- `% Increase in Rural Population`\n",
    "- `Life Expectancy`\n",
    "- `% Increase in Life Expectancy`\n",
    "- `Birth Rate`\n",
    "- `% Change in Birth Rate`\n",
    "- `Death Rate`\n",
    "- `% Change in Death Rate`\n",
    "- `Infant Mortality Rate`\n",
    "- `% Change in Infant Mortality Rate`\n",
    "- `Fertility Rate`\n",
    "- `% Change in Fertility Rate`\n",
    "- `Net Migration Rate`\n",
    "- `% Change in Net Migration Rate`"
   ]
  },
  {
   "cell_type": "code",
   "execution_count": null,
   "id": "6c0b82a2",
   "metadata": {},
   "outputs": [],
   "source": [
    "df.head()"
   ]
  },
  {
   "cell_type": "code",
   "execution_count": null,
   "id": "7a49c69e",
   "metadata": {},
   "outputs": [],
   "source": [
    "df.shape"
   ]
  },
  {
   "cell_type": "code",
   "execution_count": null,
   "id": "e632ead9",
   "metadata": {},
   "outputs": [],
   "source": [
    "df.describe().style.background_gradient(cmap = \"viridis\")"
   ]
  },
  {
   "cell_type": "code",
   "execution_count": null,
   "id": "796524bd",
   "metadata": {},
   "outputs": [],
   "source": [
    "df.info()"
   ]
  },
  {
   "cell_type": "markdown",
   "id": "c683ab5c",
   "metadata": {},
   "source": [
    "# Life Expectancy & Death Rate 🇮🇳"
   ]
  },
  {
   "cell_type": "code",
   "execution_count": null,
   "id": "8e300da1",
   "metadata": {},
   "outputs": [],
   "source": [
    "fig = px.line(df, x = \"Year\",  y = [\"Life Expectancy\", \"Death Rate\"], color = \"variable\",\n",
    "              color_discrete_sequence = [\"#00FFFF\", \"#FF0000\"],\n",
    "             title = \"Life Expectancy & Death Rate of India (1950 - 2022) 🇮🇳\")\n",
    "\n",
    "fig.update_layout(template = \"plotly_dark\", font = dict(family = \"PT Sans\", size = 20, color = \"#00C700\"))\n",
    "\n",
    "fig.show()"
   ]
  },
  {
   "cell_type": "markdown",
   "id": "7375e2bb",
   "metadata": {},
   "source": [
    "# Fertility Rate 🇮🇳"
   ]
  },
  {
   "cell_type": "code",
   "execution_count": null,
   "id": "e5d88a6e",
   "metadata": {},
   "outputs": [],
   "source": [
    "fig = px.line(df, x = \"Year\",  y = \"Fertility Rate\",\n",
    "             title = \"Fertility Rate of India (1950 - 2022) 🇮🇳\")\n",
    "\n",
    "fig.update_traces(line_color = \"#F700FF\")\n",
    "fig.update_layout(template = \"plotly_dark\", font = dict(family = \"PT Sans\", size = 20, color = \"#00C700\"))\n",
    "\n",
    "fig.show()"
   ]
  },
  {
   "cell_type": "markdown",
   "id": "eb775dcf",
   "metadata": {},
   "source": [
    "# Birth Rate & Infant Mortality Rate 🇮🇳"
   ]
  },
  {
   "cell_type": "code",
   "execution_count": null,
   "id": "25d7c3bb",
   "metadata": {},
   "outputs": [],
   "source": [
    "fig = px.line(df, x = \"Year\",  y = [\"Birth Rate\", \"Infant Mortality Rate\"], color = \"variable\",\n",
    "              color_discrete_sequence = [\"#00FFFF\", \"#FF0000\"],\n",
    "              title = \"Birth Rate & Infant Mortality Rate of India (1950 - 2022) 🇮🇳\")\n",
    "\n",
    "fig.update_layout(template = \"plotly_dark\", font = dict(family = \"PT Sans\", size = 20, color = \"#00C700\"))\n",
    "\n",
    "fig.show()"
   ]
  },
  {
   "cell_type": "markdown",
   "id": "f93e4765",
   "metadata": {},
   "source": [
    "# Net Migration Rate 🇮🇳"
   ]
  },
  {
   "cell_type": "code",
   "execution_count": null,
   "id": "06291b14",
   "metadata": {},
   "outputs": [],
   "source": [
    "fig = px.line(df, x = \"Year\",  y = \"Net Migration Rate\",\n",
    "             title = \"Net Migration Rate of India (1950 - 2022) 🇮🇳\")\n",
    "\n",
    "fig.update_traces(line_color = \"#FFE600\")\n",
    "fig.update_layout(template = \"plotly_dark\", font = dict(family = \"PT Sans\", size = 20, color = \"#00C700\"))\n",
    "\n",
    "fig.show()"
   ]
  },
  {
   "cell_type": "markdown",
   "id": "9b4ae4af",
   "metadata": {},
   "source": [
    "**Thank you for viewing this notebook. Please feel free to provide any feedback!**"
   ]
  }
 ],
 "metadata": {},
 "nbformat": 4,
 "nbformat_minor": 5
}
