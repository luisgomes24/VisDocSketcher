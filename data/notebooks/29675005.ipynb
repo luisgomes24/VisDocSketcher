{
 "cells": [
  {
   "cell_type": "markdown",
   "id": "87c639b0",
   "metadata": {},
   "source": [
    "# Beauty Detection Fasiai\n",
    "<br/>\n",
    "This noteboook refered to the following notebook.<br/>\n",
    "\n",
    "'First Steps: Road to the Top, Part 1' by JEREMY HOWARD<br/>\n",
    "\n",
    "https://www.kaggle.com/code/jhoward/first-steps-road-to-the-top-part-1"
   ]
  },
  {
   "cell_type": "code",
   "execution_count": null,
   "id": "a0f44e50",
   "metadata": {},
   "outputs": [],
   "source": [
    "# install fastkaggle if not available\n",
    "try: import fastkaggle\n",
    "except ModuleNotFoundError:\n",
    "    !pip install -Uq fastkaggle\n",
    "from fastkaggle import *"
   ]
  },
  {
   "cell_type": "markdown",
   "id": "cebcfe2a",
   "metadata": {},
   "source": [
    "## Set up"
   ]
  },
  {
   "cell_type": "code",
   "execution_count": null,
   "id": "4d8c679c",
   "metadata": {},
   "outputs": [],
   "source": [
    "comp = 'beauty-detection-data-set'\n",
    "path = setup_comp(comp, install='fastai \"timm>=0.6.2.dev0\"')\n",
    "display(path)"
   ]
  },
  {
   "cell_type": "code",
   "execution_count": null,
   "id": "a31f3cda",
   "metadata": {},
   "outputs": [],
   "source": [
    "from fastai.vision.all import *\n",
    "set_seed(42)\n",
    "path.ls()"
   ]
  },
  {
   "cell_type": "markdown",
   "id": "512701ea",
   "metadata": {},
   "source": [
    "# Show the data"
   ]
  },
  {
   "cell_type": "code",
   "execution_count": null,
   "id": "aa8519b4",
   "metadata": {},
   "outputs": [],
   "source": [
    "trn_path = path/'train'\n",
    "files = get_image_files(trn_path)"
   ]
  },
  {
   "cell_type": "code",
   "execution_count": null,
   "id": "6a1a0bcd",
   "metadata": {},
   "outputs": [],
   "source": [
    "img = PILImage.create(files[0])\n",
    "print(img.size)\n",
    "img.to_thumb(128)"
   ]
  },
  {
   "cell_type": "code",
   "execution_count": null,
   "id": "c67e1534",
   "metadata": {},
   "outputs": [],
   "source": [
    "from fastcore.parallel import *\n",
    "def f(o): return PILImage.create(o).size\n",
    "sizes = parallel(f, files, n_workers=8)\n",
    "pd.Series(sizes).value_counts()"
   ]
  },
  {
   "cell_type": "markdown",
   "id": "4813d71d",
   "metadata": {},
   "source": [
    "# Train Data - ImageDataLoaders.from_folder"
   ]
  },
  {
   "cell_type": "code",
   "execution_count": null,
   "id": "ea0cf45d",
   "metadata": {},
   "outputs": [],
   "source": [
    "#### train and valid folders separated\n",
    "dls = ImageDataLoaders.from_folder(path, train='train', valid='valid', seed=42,\n",
    "    item_tfms=Resize(480, method='squish'),\n",
    "    batch_tfms=aug_transforms(size=128, min_scale=0.75))\n",
    "dls.show_batch(max_n=6)"
   ]
  },
  {
   "cell_type": "markdown",
   "id": "145d4904",
   "metadata": {},
   "source": [
    "#### train and valid data in train folder\n",
    "dls = ImageDataLoaders.from_folder(trn_path, valid_pct=0.2, seed=42,\n",
    "    item_tfms=Resize(480, method='squish'),\n",
    "    batch_tfms=aug_transforms(size=128, min_scale=0.75))\n",
    "dls.show_batch(max_n=6)"
   ]
  },
  {
   "cell_type": "markdown",
   "id": "193a748b",
   "metadata": {},
   "source": [
    "# Model - resnet26d"
   ]
  },
  {
   "cell_type": "code",
   "execution_count": null,
   "id": "371c5238",
   "metadata": {},
   "outputs": [],
   "source": [
    "learn = vision_learner(dls, 'resnet26d', metrics=error_rate, path='.').to_fp16()"
   ]
  },
  {
   "cell_type": "code",
   "execution_count": null,
   "id": "4c4eaa2a",
   "metadata": {},
   "outputs": [],
   "source": [
    "learn.lr_find(suggest_funcs=(valley, slide))"
   ]
  },
  {
   "cell_type": "code",
   "execution_count": null,
   "id": "b0d1fa50",
   "metadata": {},
   "outputs": [],
   "source": [
    "learn.fine_tune(3,0.01)"
   ]
  },
  {
   "cell_type": "markdown",
   "id": "9f08ba7e",
   "metadata": {},
   "source": [
    "# Predict using Test Data"
   ]
  },
  {
   "cell_type": "code",
   "execution_count": null,
   "id": "80b2401f",
   "metadata": {},
   "outputs": [],
   "source": [
    "tst_files = get_image_files(path/'test').sorted()\n",
    "tst_dl = dls.test_dl(tst_files)\n",
    "print(tst_files[0:3])"
   ]
  },
  {
   "cell_type": "code",
   "execution_count": null,
   "id": "c2e4f9f3",
   "metadata": {},
   "outputs": [],
   "source": [
    "probs,_,idxs = learn.get_preds(dl=tst_dl, with_decoded=True)"
   ]
  },
  {
   "cell_type": "code",
   "execution_count": null,
   "id": "c970a695",
   "metadata": {},
   "outputs": [],
   "source": [
    "print(idxs)\n",
    "print(dls.vocab)"
   ]
  },
  {
   "cell_type": "code",
   "execution_count": null,
   "id": "56c93c41",
   "metadata": {},
   "outputs": [],
   "source": [
    "mapping = dict(enumerate(dls.vocab))\n",
    "print(mapping)\n",
    "reverse_mapping=dict(zip(dls.vocab,list(range(len(dls.vocab)))))\n",
    "print(reverse_mapping)"
   ]
  },
  {
   "cell_type": "code",
   "execution_count": null,
   "id": "f1cd9ddb",
   "metadata": {},
   "outputs": [],
   "source": [
    "results = pd.Series(idxs.numpy(),name=\"idxs\").map(mapping)\n",
    "display(results)"
   ]
  },
  {
   "cell_type": "code",
   "execution_count": null,
   "id": "51e4afae",
   "metadata": {},
   "outputs": [],
   "source": [
    "testY=[]\n",
    "for item in tst_files:\n",
    "    testY+=[reverse_mapping[item.parent.name]]"
   ]
  },
  {
   "cell_type": "code",
   "execution_count": null,
   "id": "2bac9416",
   "metadata": {},
   "outputs": [],
   "source": [
    "from sklearn.metrics import classification_report\n",
    "print(classification_report(testY,idxs,target_names=dls.vocab,digits=4))"
   ]
  },
  {
   "cell_type": "code",
   "execution_count": null,
   "id": "df4e6c28",
   "metadata": {},
   "outputs": [],
   "source": [
    "nan"
   ]
  },
  {
   "cell_type": "code",
   "execution_count": null,
   "id": "8fc8242b",
   "metadata": {},
   "outputs": [],
   "source": [
    "nan"
   ]
  }
 ],
 "metadata": {},
 "nbformat": 4,
 "nbformat_minor": 5
}
