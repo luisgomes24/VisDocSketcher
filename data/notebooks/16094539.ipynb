{
 "cells": [
  {
   "cell_type": "code",
   "execution_count": null,
   "id": "d0b03bd1",
   "metadata": {},
   "outputs": [],
   "source": [
    "import numpy as np\n",
    "import pandas as pd\n",
    "import matplotlib.pyplot as plt\n",
    "from sklearn.model_selection import train_test_split\n",
    "from sklearn.linear_model import LogisticRegression\n",
    "from sklearn.ensemble import *\n",
    "from lightgbm import LGBMClassifier\n",
    "from xgboost import XGBClassifier\n",
    "from catboost import CatBoostClassifier\n",
    "from sklearn.metrics import *\n",
    "from imblearn.over_sampling import SMOTE,SMOTENC\n",
    "from imblearn.pipeline import Pipeline\n",
    "from imblearn.over_sampling import SMOTE,RandomOverSampler\n",
    "from imblearn.under_sampling import RandomUnderSampler\n",
    "from sklearn.model_selection import cross_val_score\n",
    "from sklearn.model_selection import RepeatedStratifiedKFold\n",
    "from imblearn.combine import SMOTEENN,SMOTETomek\n",
    "from sklearn.decomposition import *\n",
    "import mlxtend\n",
    "from mlxtend.feature_selection import SequentialFeatureSelector as SFS\n",
    "train=pd.read_csv(r'../input/c1-data/Training Data.csv')\n",
    "test=pd.read_csv(r'../input/c1-data/Test Data.csv')\n",
    "test['risk_flag']=-99\n",
    "test.shape\n",
    "id_col=test.id\n",
    "train=train.drop('Id',axis=1)\n",
    "test=test.rename(columns = {'id': 'Id'}, inplace = False)\n",
    "test=test.drop('Id',axis=1)\n",
    "# oversample = RandomOverSampler(sampling_strategy='minority',random_state=2021)\n",
    "oversample = RandomUnderSampler(sampling_strategy='majority',random_state=2021)\n",
    "# train_df=train.drop_duplicates()\n",
    "# train_df=train_df.reset_index()"
   ]
  },
  {
   "cell_type": "code",
   "execution_count": null,
   "id": "59f58aae",
   "metadata": {},
   "outputs": [],
   "source": [
    "# train_df=train[train.duplicated(['income', 'age', 'experience', 'married', 'house_ownership',\n",
    "#        'car_ownership', 'profession', 'city', 'state', 'current_job_years',\n",
    "#        'current_house_years'],keep='first')]\n",
    "#train_df=train.drop('Id',axis=1)\n",
    "data=pd.concat([train,test])\n",
    "data.shape"
   ]
  },
  {
   "cell_type": "code",
   "execution_count": null,
   "id": "04728ce3",
   "metadata": {},
   "outputs": [],
   "source": [
    "data.head()"
   ]
  },
  {
   "cell_type": "code",
   "execution_count": null,
   "id": "6a5d478e",
   "metadata": {},
   "outputs": [],
   "source": [
    "data.shape"
   ]
  },
  {
   "cell_type": "code",
   "execution_count": null,
   "id": "59aed9d5",
   "metadata": {},
   "outputs": [],
   "source": [
    "# a=data.drop_duplicates()\n",
    "# a[a['income']==9250350]"
   ]
  },
  {
   "cell_type": "code",
   "execution_count": null,
   "id": "c37eeba3",
   "metadata": {},
   "outputs": [],
   "source": [
    "# b=data[data.duplicated()]\n",
    "# b"
   ]
  },
  {
   "cell_type": "code",
   "execution_count": null,
   "id": "f494c2fd",
   "metadata": {},
   "outputs": [],
   "source": [
    "# c=data[data['income']==9250350]\n",
    "# c"
   ]
  },
  {
   "cell_type": "code",
   "execution_count": null,
   "id": "17678937",
   "metadata": {},
   "outputs": [],
   "source": [
    "from sklearn.preprocessing import LabelEncoder\n",
    "le=LabelEncoder()\n",
    "data_y=data['risk_flag']\n",
    "data=data.drop('risk_flag',axis=1)\n",
    "data['married']=le.fit_transform(data['married'])\n",
    "data['house_ownership']=le.fit_transform(data['house_ownership'])\n",
    "data['car_ownership']=le.fit_transform(data['car_ownership'])\n",
    "data['profession']=le.fit_transform(data['profession'])\n",
    "data['city']=le.fit_transform(data['city'])\n",
    "data['state']=le.fit_transform(data['state'])"
   ]
  },
  {
   "cell_type": "code",
   "execution_count": null,
   "id": "b3c8259f",
   "metadata": {},
   "outputs": [],
   "source": [
    "# col=['income', 'age', 'experience', 'married', 'house_ownership',\n",
    "#        'car_ownership', 'profession', 'city', 'state', 'current_job_years',\n",
    "#        'current_house_years',]\n",
    "data['new_id'] = data.groupby(data.columns.tolist(), sort=False).ngroup() + 1\n",
    "data['new_id1'] = data.groupby([ 'age', 'experience','profession', 'city', 'state','current_job_years'], sort=False).ngroup() + 1\n",
    "data['new_id2'] = data.groupby([ 'experience','profession', 'city', 'state','current_job_years'], sort=False).ngroup() + 1\n",
    "data['new_id3'] = data.groupby([ 'profession', 'city', 'state','current_job_years'], sort=False).ngroup() + 1\n",
    "data['new_id4'] = data.groupby([ 'city', 'state','current_job_years','current_house_years'], sort=False).ngroup() + 1\n",
    "data['new_id5'] = data.groupby([ 'city', 'state','current_job_years','income'], sort=False).ngroup() + 1\n",
    "data['new_id6'] = data.groupby([ 'city', 'state','current_job_years','age'], sort=False).ngroup() + 1\n",
    "data['new_id1'] = data.groupby([ 'income','age', 'experience','profession', 'city', 'state','current_job_years'], sort=False).ngroup() + 1\n",
    "\n",
    "\n",
    "data=pd.concat([data,data_y],axis=1)\n",
    "data.shape"
   ]
  },
  {
   "cell_type": "code",
   "execution_count": null,
   "id": "dfbc77f2",
   "metadata": {},
   "outputs": [],
   "source": [
    "data.nunique()"
   ]
  },
  {
   "cell_type": "code",
   "execution_count": null,
   "id": "65a7b72a",
   "metadata": {},
   "outputs": [],
   "source": [
    "train=data[data['risk_flag']!=-99]\n",
    "test=data[data['risk_flag']==-99]"
   ]
  },
  {
   "cell_type": "code",
   "execution_count": null,
   "id": "10ddaf3f",
   "metadata": {},
   "outputs": [],
   "source": [
    "X=train.drop('risk_flag',axis=1)\n",
    "Y=train['risk_flag']\n",
    "X1,X2,Y1,Y2=train_test_split(X,Y,random_state=0,stratify=Y,shuffle=True,test_size=0.2)\n",
    "X1.shape,X2.shape"
   ]
  },
  {
   "cell_type": "code",
   "execution_count": null,
   "id": "53c42ab3",
   "metadata": {},
   "outputs": [],
   "source": [
    "X1,Y1=oversample.fit_resample(X1,Y1)\n",
    "Y1.value_counts()\n"
   ]
  },
  {
   "cell_type": "code",
   "execution_count": null,
   "id": "5159ed87",
   "metadata": {},
   "outputs": [],
   "source": [
    "# from sklearn.model_selection import RepeatedStratifiedKFold,StratifiedKFold\n",
    "# skf=StratifiedKFold(random_state=0,n_splits=6,shuffle=True)\n",
    "# score1=[]\n",
    "# score2=[]\n",
    "# for train_index,test_index in skf.split(X1,Y1):\n",
    "#      print(\"TRAIN:\", train_index, \"TEST:\", test_index)\n",
    "#      x_train, x_test = X1.iloc[train_index], X1.iloc[test_index]\n",
    "#      y_train, y_test = Y1.iloc[train_index], Y1.iloc[test_index]\n",
    "#      model=RandomForestClassifier(random_state=0,oob_score=True)\n",
    "#      model.fit(x_train,y_train)\n",
    "#      pred=model.predict(x_test)\n",
    "#      #print(f\"OOB score on seen data is = {model.oob_score_}\")\n",
    "#      print(f\"ROC_AUC_Score on seen data = {roc_auc_score(y_test,pred)}\")\n",
    "#      model.fit(X1,Y1)   \n",
    "#      p=model.predict(X2)\n",
    "#      #print(f\"OOB score on unseen data is = {model.oob_score_}\")\n",
    "#      print(f\"ROC_AUC_Score on unseen data = {roc_auc_score(Y2,p)}\")\n",
    "#      print(\"===============================================================\")"
   ]
  },
  {
   "cell_type": "code",
   "execution_count": null,
   "id": "7bc258b4",
   "metadata": {},
   "outputs": [],
   "source": [
    "X,Y=oversample.fit_resample(X,Y)\n",
    "Y.value_counts()\n"
   ]
  },
  {
   "cell_type": "code",
   "execution_count": null,
   "id": "aaf873f4",
   "metadata": {},
   "outputs": [],
   "source": [
    "from sklearn.model_selection import RepeatedStratifiedKFold,StratifiedKFold\n",
    "skf=StratifiedKFold(random_state=2021,n_splits=10,shuffle=True)\n",
    "for train_index,test_index in skf.split(X,Y):\n",
    "     print(\"TRAIN:\", train_index, \"TEST:\", test_index)\n",
    "     x_train, x_test = X.iloc[train_index], X.iloc[test_index]\n",
    "     y_train, y_test = Y.iloc[train_index], Y.iloc[test_index]\n",
    "     model=RandomForestClassifier(random_state=0,oob_score=True)\n",
    "     model.fit(x_train,y_train)\n",
    "     pred=model.predict(x_test)\n",
    "     #print(f\"OOB score on seen data is = {model.oob_score_}\")\n",
    "     print(f\"ROC_AUC_Score = {roc_auc_score(y_test,pred)}\")\n",
    "     print(\"===============================================================\")"
   ]
  },
  {
   "cell_type": "code",
   "execution_count": null,
   "id": "893d6819",
   "metadata": {},
   "outputs": [],
   "source": [
    "# test1=test.drop('risk_flag',axis=1)\n",
    "pred=model.predict(test)\n",
    "p=pd.DataFrame(pred)\n",
    "p.value_counts()"
   ]
  },
  {
   "cell_type": "code",
   "execution_count": null,
   "id": "77be5639",
   "metadata": {},
   "outputs": [],
   "source": [
    "sub1=pd.DataFrame({'id':id_col,'risk_flag':pred})\n",
    "sub1.to_csv('under_Sampled_RandomForest_1_Tree.csv',index=False)"
   ]
  },
  {
   "cell_type": "code",
   "execution_count": null,
   "id": "568760f9",
   "metadata": {},
   "outputs": [],
   "source": [
    "nan"
   ]
  }
 ],
 "metadata": {},
 "nbformat": 4,
 "nbformat_minor": 5
}
