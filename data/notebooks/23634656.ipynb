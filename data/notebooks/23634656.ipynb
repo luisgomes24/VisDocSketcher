{
 "cells": [
  {
   "cell_type": "markdown",
   "id": "1702ef2b",
   "metadata": {},
   "source": [
    "This notebook is to calculate the Gregorian Easter date."
   ]
  },
  {
   "cell_type": "markdown",
   "id": "a02e13af",
   "metadata": {},
   "source": [
    "# **Equinoxes & Solstices**"
   ]
  },
  {
   "cell_type": "markdown",
   "id": "b45a505b",
   "metadata": {},
   "source": [
    "\"The date of Easter is determined as the first Sunday after the Paschal full moon falling on or next after the spring equinox (March 21 — a fixed date not the real, astronomical equinox).\" (Ref: https://www.calendar-12.com/holidays/easter/2019)"
   ]
  },
  {
   "cell_type": "markdown",
   "id": "5d8d4b61",
   "metadata": {},
   "source": [
    "Therefore, unlike the astronomical Easter, the vernal equinox is considered to be on March 21."
   ]
  },
  {
   "cell_type": "code",
   "execution_count": null,
   "id": "a5126b18",
   "metadata": {},
   "outputs": [],
   "source": [
    "# ref: https://rhodesmill.org/pyephem/quick.html#equinoxes-solstices\n",
    "# Available functions:\n",
    "# previous_solstice()\n",
    "# next_solstice()\n",
    "# previous_equinox()\n",
    "# next_equinox()\n",
    "# previous_vernal_equinox()\n",
    "# next_vernal_equinox()\n",
    "\n",
    "import ephem\n",
    "\n",
    "year = '2022' # <===== input year\n",
    "\n",
    "d1 = (year + '/3/21')\n",
    "print(d1)"
   ]
  },
  {
   "cell_type": "markdown",
   "id": "8f910bb6",
   "metadata": {},
   "source": [
    "# **Phases of the Moon**"
   ]
  },
  {
   "cell_type": "markdown",
   "id": "77e15b11",
   "metadata": {},
   "source": [
    "Next, let's find the date of the first full moon after the vernal equinox."
   ]
  },
  {
   "cell_type": "code",
   "execution_count": null,
   "id": "99290645",
   "metadata": {},
   "outputs": [],
   "source": [
    "# Available functions:\n",
    "# previous_new_moon()\n",
    "# next_new_moon()\n",
    "# previous_first_quarter_moon()\n",
    "# next_first_quarter_moon()\n",
    "# previous_full_moon()\n",
    "# next_full_moon()\n",
    "# previous_last_quarter_moon()\n",
    "# next_last_quarter_moon()\n",
    "\n",
    "d2 = ephem.next_full_moon(d1 + ' 24:00:00') # to find the first full moon date AFTER March 21\n",
    "print(d2)"
   ]
  },
  {
   "cell_type": "code",
   "execution_count": null,
   "id": "3037881a",
   "metadata": {},
   "outputs": [],
   "source": [
    "(d2.tuple()[0], d2.tuple()[1], d2.tuple()[2])"
   ]
  },
  {
   "cell_type": "markdown",
   "id": "064e5b21",
   "metadata": {},
   "source": [
    "# **Gregorian Easter**"
   ]
  },
  {
   "cell_type": "markdown",
   "id": "dfbb0da8",
   "metadata": {},
   "source": [
    "Finally, let's find the first Sunday after the full moon day. This is the Gregorian Easter day."
   ]
  },
  {
   "cell_type": "code",
   "execution_count": null,
   "id": "c609d67a",
   "metadata": {},
   "outputs": [],
   "source": [
    "import pandas as pd\n",
    "from datetime import datetime, date, time\n",
    "\n",
    "d3 = date(d2.tuple()[0], d2.tuple()[1], d2.tuple()[2])\n",
    "d4 = pd.to_datetime(d3) + pd.offsets.Week(weekday=6)\n",
    "d4.date().isoformat()"
   ]
  },
  {
   "cell_type": "code",
   "execution_count": null,
   "id": "3ba875f4",
   "metadata": {},
   "outputs": [],
   "source": [
    "(d4.year, d4.month, d4.day)"
   ]
  },
  {
   "cell_type": "code",
   "execution_count": null,
   "id": "ddc35ce9",
   "metadata": {},
   "outputs": [],
   "source": [
    "nan"
   ]
  }
 ],
 "metadata": {},
 "nbformat": 4,
 "nbformat_minor": 5
}
