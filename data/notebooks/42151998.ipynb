{
 "cells": [
  {
   "cell_type": "markdown",
   "id": "d5ed1364",
   "metadata": {},
   "source": [
    "## install extra libs"
   ]
  },
  {
   "cell_type": "code",
   "execution_count": null,
   "id": "6fd719b5",
   "metadata": {},
   "outputs": [],
   "source": [
    "!pip install diffusers"
   ]
  },
  {
   "cell_type": "markdown",
   "id": "e0a17a10",
   "metadata": {},
   "source": [
    "## Import libs"
   ]
  },
  {
   "cell_type": "code",
   "execution_count": null,
   "id": "d672d2e6",
   "metadata": {},
   "outputs": [],
   "source": [
    "# Use a pipeline as a high-level helper\n",
    "from transformers import pipeline\n",
    "\n",
    "# Load model directly\n",
    "from transformers import AutoTokenizer, AutoModelForCausalLM, AutoModel, Conversation, AutoModelForSequenceClassification\n",
    "\n",
    "# Image Generation\n",
    "from diffusers import DiffusionPipeline\n",
    "import matplotlib as plt\n",
    "import IPython.display as display\n",
    "\n",
    "import torch\n",
    "import torch\n",
    "import torch.nn.functional as F\n",
    "\n",
    "# Clear CUDA\n",
    "import gc "
   ]
  },
  {
   "cell_type": "markdown",
   "id": "24eb9808",
   "metadata": {},
   "source": [
    "## Example | sentiment-analysis"
   ]
  },
  {
   "cell_type": "code",
   "execution_count": null,
   "id": "fa868ef0",
   "metadata": {},
   "outputs": [],
   "source": [
    "classifier = pipeline(\"sentiment-analysis\")\n",
    "\n"
   ]
  },
  {
   "cell_type": "code",
   "execution_count": null,
   "id": "3e953ffa",
   "metadata": {},
   "outputs": [],
   "source": [
    "res = classifier(\"Hi, nice to meet you!\")\n",
    "print(res)"
   ]
  },
  {
   "cell_type": "markdown",
   "id": "7e69c4c6",
   "metadata": {},
   "source": [
    "## Example | text-generation"
   ]
  },
  {
   "cell_type": "code",
   "execution_count": null,
   "id": "c0ccf8d4",
   "metadata": {},
   "outputs": [],
   "source": [
    "generator = pipeline(\"text-generation\")"
   ]
  },
  {
   "cell_type": "code",
   "execution_count": null,
   "id": "b49e7cd5",
   "metadata": {},
   "outputs": [],
   "source": [
    "res = generator(\n",
    "    \"Have the machines imagination?\",\n",
    "    max_length=128,\n",
    "    num_return_sequences=1,\n",
    ")\n",
    "\n",
    "print(res[0][\"generated_text\"])"
   ]
  },
  {
   "cell_type": "markdown",
   "id": "cc74c1b9",
   "metadata": {},
   "source": [
    "## Example | zero-shot-classification"
   ]
  },
  {
   "cell_type": "code",
   "execution_count": null,
   "id": "0b85c844",
   "metadata": {},
   "outputs": [],
   "source": [
    "classifier = pipeline(\"zero-shot-classification\")"
   ]
  },
  {
   "cell_type": "code",
   "execution_count": null,
   "id": "3d5989b6",
   "metadata": {},
   "outputs": [],
   "source": [
    "res = classifier(\n",
    "    \"I'm going to see some local sightseeing\",\n",
    "    candidate_labels = [\"education\", \"travel\", \"buisness\"],\n",
    ")\n",
    "\n",
    "print(res)"
   ]
  },
  {
   "cell_type": "markdown",
   "id": "ed65c124",
   "metadata": {},
   "source": [
    "## Example | conversational"
   ]
  },
  {
   "cell_type": "code",
   "execution_count": null,
   "id": "c3f6e5ce",
   "metadata": {},
   "outputs": [],
   "source": [
    "chatbot = pipeline(\"conversational\", model=\"microsoft/DialoGPT-medium\")"
   ]
  },
  {
   "cell_type": "code",
   "execution_count": null,
   "id": "3907f9db",
   "metadata": {},
   "outputs": [],
   "source": [
    "is_working = False\n",
    "conversation = Conversation()\n",
    "\n",
    "while is_working:\n",
    "    inputs = input(\"You: \")\n",
    "    \n",
    "    if inputs == \"stop\":\n",
    "        break\n",
    "    \n",
    "    conversation.add_user_input(inputs)\n",
    "    conversation = chatbot(conversation)\n",
    "    \n",
    "    print(\"Bot: \", conversation.generated_responses[-1])"
   ]
  },
  {
   "cell_type": "code",
   "execution_count": null,
   "id": "e0617bbc",
   "metadata": {},
   "outputs": [],
   "source": [
    "conversation"
   ]
  },
  {
   "cell_type": "markdown",
   "id": "b6bd34ec",
   "metadata": {},
   "source": [
    "```\n",
    "user >> Going to the movies tonight - any suggestions? \n",
    "bot >> The Big Lebowski \n",
    "user >> Is it an action movie? \n",
    "bot >> It's a comedy. \n",
    "user >> I do not like comedy \n",
    "bot >> I do not like you \n",
    "user >> but why? \n",
    "bot >> I don't like you \n",
    "user >> how is it going \n",
    "bot >> It's going well. ```"
   ]
  },
  {
   "cell_type": "markdown",
   "id": "719bb514",
   "metadata": {},
   "source": [
    "## Example | Image generation"
   ]
  },
  {
   "cell_type": "code",
   "execution_count": null,
   "id": "8bb6108a",
   "metadata": {},
   "outputs": [],
   "source": [
    "pipe = DiffusionPipeline.from_pretrained(\"google/ddpm-cifar10-32\")"
   ]
  },
  {
   "cell_type": "code",
   "execution_count": null,
   "id": "934afddf",
   "metadata": {},
   "outputs": [],
   "source": [
    "res = pipe()"
   ]
  },
  {
   "cell_type": "code",
   "execution_count": null,
   "id": "3c7ff950",
   "metadata": {},
   "outputs": [],
   "source": [
    "# Display the image in the notebook\n",
    "display.display(res[0][0].resize((256, 256)))"
   ]
  },
  {
   "cell_type": "markdown",
   "id": "9c6ba987",
   "metadata": {},
   "source": [
    "## Example | Image generation with prompt"
   ]
  },
  {
   "cell_type": "code",
   "execution_count": null,
   "id": "31f38962",
   "metadata": {},
   "outputs": [],
   "source": [
    "torch.cuda.empty_cache()\n",
    "gc.collect()"
   ]
  },
  {
   "cell_type": "code",
   "execution_count": null,
   "id": "412308ab",
   "metadata": {},
   "outputs": [],
   "source": [
    "pipe = DiffusionPipeline.from_pretrained(\"dreamlike-art/dreamlike-photoreal-2.0\", torch_dtype=torch.float16, use_safetensors=True, variant=\"fp16\")"
   ]
  },
  {
   "cell_type": "code",
   "execution_count": null,
   "id": "7198568a",
   "metadata": {},
   "outputs": [],
   "source": [
    "#pipe.unet = torch.compile(pipe.unet, mode=\"reduce-overhead\", fullgraph=True)\n",
    "# pipe.to(\"cuda\")\n",
    "\n",
    "pipe.enable_model_cpu_offload()"
   ]
  },
  {
   "cell_type": "code",
   "execution_count": null,
   "id": "f07b346d",
   "metadata": {},
   "outputs": [],
   "source": [
    "prompt = \"A cute black kitty with blue eyes\" \n",
    "images = pipe(prompt=prompt).images[0]"
   ]
  },
  {
   "cell_type": "code",
   "execution_count": null,
   "id": "543bc642",
   "metadata": {},
   "outputs": [],
   "source": [
    "images"
   ]
  },
  {
   "cell_type": "code",
   "execution_count": null,
   "id": "b29c9b08",
   "metadata": {},
   "outputs": [],
   "source": [
    "images.save(\"_\".join(prompt.split(\" \")) + \".png\")"
   ]
  },
  {
   "cell_type": "code",
   "execution_count": null,
   "id": "e78542ff",
   "metadata": {},
   "outputs": [],
   "source": [
    "torch.cuda.empty_cache()\n",
    "gc.collect()"
   ]
  },
  {
   "cell_type": "markdown",
   "id": "744a0a6a",
   "metadata": {},
   "source": [
    "## Tokinazer & Model"
   ]
  },
  {
   "cell_type": "code",
   "execution_count": null,
   "id": "4bd3dadd",
   "metadata": {},
   "outputs": [],
   "source": [
    "model_name = \"distilbert-base-uncased-finetuned-sst-2-english\"\n",
    "\n",
    "model = AutoModelForSequenceClassification.from_pretrained(model_name)\n",
    "tokenizer = AutoTokenizer.from_pretrained(model_name)"
   ]
  },
  {
   "cell_type": "code",
   "execution_count": null,
   "id": "d5a1988f",
   "metadata": {},
   "outputs": [],
   "source": [
    "classifier = pipeline(\"sentiment-analysis\", model=model, tokenizer=tokenizer)"
   ]
  },
  {
   "cell_type": "code",
   "execution_count": null,
   "id": "1579a8f7",
   "metadata": {},
   "outputs": [],
   "source": [
    "inputs = [\n",
    "    \"This film is quite boring\",\n",
    "    \"Hi nice to meet you on this wonderful day!\"\n",
    "]\n",
    "\n",
    "res = classifier(inputs)\n",
    "print(res)"
   ]
  },
  {
   "cell_type": "code",
   "execution_count": null,
   "id": "e15522f3",
   "metadata": {},
   "outputs": [],
   "source": [
    "res = tokenizer(inputs)\n",
    "res"
   ]
  },
  {
   "cell_type": "code",
   "execution_count": null,
   "id": "24e2dccb",
   "metadata": {},
   "outputs": [],
   "source": [
    "tokens = tokenizer.tokenize(inputs)\n",
    "tokens"
   ]
  },
  {
   "cell_type": "code",
   "execution_count": null,
   "id": "dbb2217e",
   "metadata": {},
   "outputs": [],
   "source": [
    "ids = tokenizer.convert_tokens_to_ids(tokens)\n",
    "ids"
   ]
  },
  {
   "cell_type": "code",
   "execution_count": null,
   "id": "3573eacf",
   "metadata": {},
   "outputs": [],
   "source": [
    "decoded_res = tokenizer.decode(ids)\n",
    "decoded_res"
   ]
  },
  {
   "cell_type": "markdown",
   "id": "72b902f2",
   "metadata": {},
   "source": [
    "## PyTorch "
   ]
  },
  {
   "cell_type": "code",
   "execution_count": null,
   "id": "013fc796",
   "metadata": {},
   "outputs": [],
   "source": [
    "batch = tokenizer(inputs, padding=True, truncation=True, max_length=512, return_tensors=\"pt\")\n",
    "print(batch)"
   ]
  },
  {
   "cell_type": "code",
   "execution_count": null,
   "id": "f7026ed7",
   "metadata": {},
   "outputs": [],
   "source": [
    "with torch.no_grad():\n",
    "    outputs = model(**batch)\n",
    "    predictions = F.softmax(outputs.logits, dim=1)\n",
    "    labels = torch.argmax(predictions, dim=1)"
   ]
  },
  {
   "cell_type": "code",
   "execution_count": null,
   "id": "f2346dd5",
   "metadata": {},
   "outputs": [],
   "source": [
    "outputs"
   ]
  },
  {
   "cell_type": "code",
   "execution_count": null,
   "id": "cdbd7d9f",
   "metadata": {},
   "outputs": [],
   "source": [
    "predictions"
   ]
  },
  {
   "cell_type": "code",
   "execution_count": null,
   "id": "6ba1f15c",
   "metadata": {},
   "outputs": [],
   "source": [
    "labels"
   ]
  },
  {
   "cell_type": "markdown",
   "id": "4f1346dd",
   "metadata": {},
   "source": [
    "## Saving model & tokenizer"
   ]
  },
  {
   "cell_type": "code",
   "execution_count": null,
   "id": "7502f270",
   "metadata": {},
   "outputs": [],
   "source": [
    "!pwd"
   ]
  },
  {
   "cell_type": "code",
   "execution_count": null,
   "id": "ca90fe16",
   "metadata": {},
   "outputs": [],
   "source": [
    "save_dir = \"/kaggle/working\"\n",
    "\n",
    "tokenizer.save_pretrained(save_dir)\n",
    "model.save_pretrained(save_dir)"
   ]
  },
  {
   "cell_type": "code",
   "execution_count": null,
   "id": "f0d142e0",
   "metadata": {},
   "outputs": [],
   "source": [
    "tokenizer_saved = AutoTokenizer.from_pretrained(save_dir)\n",
    "model_saved = AutoModelForSequenceClassification.from_pretrained(save_dir) "
   ]
  },
  {
   "cell_type": "code",
   "execution_count": null,
   "id": "269dd2a4",
   "metadata": {},
   "outputs": [],
   "source": [
    "nan"
   ]
  }
 ],
 "metadata": {},
 "nbformat": 4,
 "nbformat_minor": 5
}
