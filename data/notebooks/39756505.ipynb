{
 "cells": [
  {
   "cell_type": "markdown",
   "id": "e05d37a7",
   "metadata": {},
   "source": [
    "# Introduction\n",
    "\n",
    "In the last tutorial, we learned how to select relevant data out of a DataFrame or Series. Plucking the right data out of our data representation is critical to getting work done, as we demonstrated in the exercises.\n",
    "\n",
    "However, the data does not always come out of memory in the format we want it in right out of the bat. Sometimes we have to do some more work ourselves to reformat it for the task at hand.  This tutorial will cover different operations we can apply to our data to get the input \"just right\". \n",
    "\n",
    "**To start the exercise for this topic, please click [here](https://www.kaggle.com/kernels/fork/595524).**\n",
    "\n",
    "We'll use the Wine Magazine data for demonstration."
   ]
  },
  {
   "cell_type": "code",
   "execution_count": null,
   "id": "273b4974",
   "metadata": {},
   "outputs": [],
   "source": [
    "\n",
    "import pandas as pd\n",
    "pd.set_option('display.max_rows', 5)\n",
    "import numpy as np\n",
    "reviews = pd.read_csv(\"../input/wine-reviews/winemag-data-130k-v2.csv\", index_col=0)"
   ]
  },
  {
   "cell_type": "code",
   "execution_count": null,
   "id": "5d0263d9",
   "metadata": {},
   "outputs": [],
   "source": [
    "reviews"
   ]
  },
  {
   "cell_type": "markdown",
   "id": "5a9940c2",
   "metadata": {},
   "source": [
    "# Summary functions\n",
    "\n",
    "Pandas provides many simple \"summary functions\" (not an official name) which restructure the data in some useful way. For example, consider the `describe()` method:"
   ]
  },
  {
   "cell_type": "code",
   "execution_count": null,
   "id": "73f58da3",
   "metadata": {},
   "outputs": [],
   "source": [
    "reviews.points.describe()"
   ]
  },
  {
   "cell_type": "markdown",
   "id": "6b4dbcc6",
   "metadata": {},
   "source": [
    "This method generates a high-level summary of the attributes of the given column. It is type-aware, meaning that its output changes based on the data type of the input. The output above only makes sense for numerical data; for string data here's what we get:"
   ]
  },
  {
   "cell_type": "code",
   "execution_count": null,
   "id": "9d3887a4",
   "metadata": {},
   "outputs": [],
   "source": [
    "reviews.taster_name.describe()"
   ]
  },
  {
   "cell_type": "code",
   "execution_count": null,
   "id": "83b67368",
   "metadata": {},
   "outputs": [],
   "source": [
    "reviews.loc[(reviews.taster_name == \"Roger Voss\") & (reviews.price >= 30)]\n"
   ]
  },
  {
   "cell_type": "code",
   "execution_count": null,
   "id": "276f1313",
   "metadata": {},
   "outputs": [],
   "source": [
    "reviews.taster_name.unique()"
   ]
  },
  {
   "cell_type": "code",
   "execution_count": null,
   "id": "192322ba",
   "metadata": {},
   "outputs": [],
   "source": [
    " reviews.loc[reviews.taster_name == \"Sean P. Sullivan\"]"
   ]
  },
  {
   "cell_type": "markdown",
   "id": "54a9fd48",
   "metadata": {},
   "source": [
    "If you want to get some particular simple summary statistic about a column in a DataFrame or a Series, there is usually a helpful pandas function that makes it happen. \n",
    "\n",
    "For example, to see the mean of the points allotted (e.g. how well an averagely rated wine does), we can use the `mean()` function:"
   ]
  },
  {
   "cell_type": "code",
   "execution_count": null,
   "id": "05cefae4",
   "metadata": {},
   "outputs": [],
   "source": [
    "reviews.points.unique()"
   ]
  },
  {
   "cell_type": "code",
   "execution_count": null,
   "id": "27eb763e",
   "metadata": {},
   "outputs": [],
   "source": [
    "reviews.points.mean()"
   ]
  },
  {
   "cell_type": "markdown",
   "id": "b5826973",
   "metadata": {},
   "source": [
    "To see a list of unique values we can use the `unique()` function:"
   ]
  },
  {
   "cell_type": "code",
   "execution_count": null,
   "id": "0acf00e7",
   "metadata": {},
   "outputs": [],
   "source": [
    "reviews.taster_name.unique()"
   ]
  },
  {
   "cell_type": "code",
   "execution_count": null,
   "id": "67334926",
   "metadata": {},
   "outputs": [],
   "source": [
    "reviews.taster_name.nunique()"
   ]
  },
  {
   "cell_type": "markdown",
   "id": "99640b63",
   "metadata": {},
   "source": [
    "To see a list of unique values _and_ how often they occur in the dataset, we can use the `value_counts()` method:"
   ]
  },
  {
   "cell_type": "code",
   "execution_count": null,
   "id": "81cda628",
   "metadata": {},
   "outputs": [],
   "source": [
    "reviews.taster_name.value_counts()"
   ]
  },
  {
   "cell_type": "code",
   "execution_count": null,
   "id": "a80c8438",
   "metadata": {},
   "outputs": [],
   "source": [
    "reviews.province.value_counts()"
   ]
  },
  {
   "cell_type": "markdown",
   "id": "3b49b600",
   "metadata": {},
   "source": [
    "# Maps\n",
    "\n",
    "A **map** is a term, borrowed from mathematics, for a function that takes one set of values and \"maps\" them to another set of values. In data science we often have a need for creating new representations from existing data, or for transforming data from the format it is in now to the format that we want it to be in later. Maps are what handle this work, making them extremely important for getting your work done!\n",
    "\n",
    "There are two mapping methods that you will use often. \n",
    "\n",
    "[`map()`](https://pandas.pydata.org/pandas-docs/stable/generated/pandas.Series.map.html) is the first, and slightly simpler one. For example, suppose that we wanted to remean the scores the wines received to 0. We can do this as follows:"
   ]
  },
  {
   "cell_type": "code",
   "execution_count": null,
   "id": "3db02253",
   "metadata": {},
   "outputs": [],
   "source": [
    "review_points_mean = reviews.points.mean()\n",
    "reviews.points.map(lambda p: p - review_points_mean)"
   ]
  },
  {
   "cell_type": "code",
   "execution_count": null,
   "id": "e08c0ebf",
   "metadata": {},
   "outputs": [],
   "source": [
    "reviews"
   ]
  },
  {
   "cell_type": "code",
   "execution_count": null,
   "id": "3e8bc07a",
   "metadata": {},
   "outputs": [],
   "source": [
    "review_price_mean = reviews.price.mean()\n",
    "reviews.price.map(lambda p: p - review_price_mean)"
   ]
  },
  {
   "cell_type": "code",
   "execution_count": null,
   "id": "08c65326",
   "metadata": {},
   "outputs": [],
   "source": [
    "def remean_price(row):\n",
    "    row.points = row.price - review_price_mean\n",
    "    return row\n",
    "reviews.apply(remean_price, axis='columns')"
   ]
  },
  {
   "cell_type": "code",
   "execution_count": null,
   "id": "30173127",
   "metadata": {},
   "outputs": [],
   "source": [
    "reviews.points.mean()"
   ]
  },
  {
   "cell_type": "markdown",
   "id": "42e677d8",
   "metadata": {},
   "source": [
    "The function you pass to `map()` should expect a single value from the Series (a point value, in the above example), and return a transformed version of that value. `map()` returns a new Series where all the values have been transformed by your function.\n",
    "\n",
    "[`apply()`](https://pandas.pydata.org/pandas-docs/stable/generated/pandas.DataFrame.apply.html) is the equivalent method if we want to transform a whole DataFrame by calling a custom method on each row."
   ]
  },
  {
   "cell_type": "code",
   "execution_count": null,
   "id": "94afa3eb",
   "metadata": {},
   "outputs": [],
   "source": [
    "def remean_points(row):\n",
    "    row.points = row.points - review_points_mean\n",
    "    return row\n",
    "\n",
    "reviews.apply(remean_points, axis='columns')"
   ]
  },
  {
   "cell_type": "markdown",
   "id": "41089db6",
   "metadata": {},
   "source": [
    "def remean_points(row):\n",
    "    row.points = row.points - review_points_mean\n",
    "    return row\n",
    "\n",
    "reviews.apply(remean_points, axis='columns')"
   ]
  },
  {
   "cell_type": "code",
   "execution_count": null,
   "id": "42953761",
   "metadata": {},
   "outputs": [],
   "source": [
    "def remean_price(row):\n",
    "    row.price = row.price - review_price_mean\n",
    "    return row\n",
    "reviews.apply(remean_price, axis='columns')"
   ]
  },
  {
   "cell_type": "markdown",
   "id": "10e21e1a",
   "metadata": {},
   "source": [
    "If we had called `reviews.apply()` with `axis='index'`, then instead of passing a function to transform each row, we would need to give a function to transform each *column*.\n",
    "\n",
    "Note that `map()` and `apply()` return new, transformed Series and DataFrames, respectively. They don't modify the original data they're called on. If we look at the first row of `reviews`, we can see that it still has its original `points` value."
   ]
  },
  {
   "cell_type": "code",
   "execution_count": null,
   "id": "069a32fc",
   "metadata": {},
   "outputs": [],
   "source": [
    "reviews.head(1)"
   ]
  },
  {
   "cell_type": "markdown",
   "id": "bde647db",
   "metadata": {},
   "source": [
    "Pandas provides many common mapping operations as built-ins. For example, here's a faster way of remeaning our points column:"
   ]
  },
  {
   "cell_type": "code",
   "execution_count": null,
   "id": "535e9bdd",
   "metadata": {},
   "outputs": [],
   "source": [
    "review_points_mean = reviews.points.mean()\n",
    "reviews.points - review_points_mean"
   ]
  },
  {
   "cell_type": "markdown",
   "id": "bf157b23",
   "metadata": {},
   "source": [
    "In this code we are performing an operation between a lot of values on the left-hand side (everything in the Series) and a single value on the right-hand side (the mean value). Pandas looks at this expression and figures out that we must mean to subtract that mean value from every value in the dataset.\n",
    "\n",
    "Pandas will also understand what to do if we perform these operations between Series of equal length. For example, an easy way of combining country and region information in the dataset would be to do the following:"
   ]
  },
  {
   "cell_type": "code",
   "execution_count": null,
   "id": "c30146f1",
   "metadata": {},
   "outputs": [],
   "source": [
    "reviews.country + \" - \" + reviews.region_1"
   ]
  },
  {
   "cell_type": "markdown",
   "id": "a3e598ae",
   "metadata": {},
   "source": [
    "These operators are faster than `map()` or `apply()` because they use speed ups built into pandas. All of the standard Python operators (`>`, `<`, `==`, and so on) work in this manner.\n",
    "\n",
    "However, they are not as flexible as `map()` or `apply()`, which can do more advanced things, like applying conditional logic, which cannot be done with addition and subtraction alone.\n",
    "\n",
    "# Your turn\n",
    "\n",
    "If you haven't started the exercise, you can **[get started here](https://www.kaggle.com/kernels/fork/595524)**."
   ]
  },
  {
   "cell_type": "markdown",
   "id": "30d06b47",
   "metadata": {},
   "source": [
    "---\n",
    "\n",
    "\n",
    "\n",
    "\n",
    "*Have questions or comments? Visit the [course discussion forum](https://www.kaggle.com/learn/pandas/discussion) to chat with other learners.*"
   ]
  }
 ],
 "metadata": {},
 "nbformat": 4,
 "nbformat_minor": 5
}
