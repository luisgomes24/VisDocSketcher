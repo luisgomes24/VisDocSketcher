{
 "cells": [
  {
   "cell_type": "markdown",
   "id": "da025d7f",
   "metadata": {},
   "source": [
    "# NCA emojis Advent Calendar and Julekalender"
   ]
  },
  {
   "cell_type": "markdown",
   "id": "fe16f324",
   "metadata": {},
   "source": [
    "### In the spirit of the holiday season, the NCA Emojis Advent Calendar will reveal one test target emoji each day for a selected e_id!!\n",
    "\n",
    "### The NCA Emojis Julekalender, a Scandanavian Yule calendar in the form of a \"show\" will reveal one test target nca model each day for a selected e_id!!\n",
    "\n",
    "### Collect them all for your holiday submissions."
   ]
  },
  {
   "cell_type": "code",
   "execution_count": null,
   "id": "85cdd3b5",
   "metadata": {},
   "outputs": [],
   "source": [
    "# to get script with moviepy for NCA Emoji Challenge - \n",
    "# File -> Add utility script\n",
    "#   add to sys.path the ../usr/lib/<script name folder>/<script name.py>\n",
    "#   then can do import\n",
    "\n",
    "import sys\n",
    "\n",
    "SPATH = '../usr/lib/nca_emoji_challenge_script_with_moviepy/nca_emoji_challenge_script_with_moviepy.py'  \n",
    "sys.path.insert(1, SPATH)\n",
    "SPATH = '../input/whls-for-moviepy'  # add this dataset to the sys path for the script to work on import\n",
    "sys.path.insert(1, SPATH)\n",
    "\n",
    "from nca_emoji_challenge_script_with_moviepy import *\n",
    "\n",
    "import numpy as np # linear algebra\n",
    "import pandas as pd # data processing, CSV file I/O (e.g. pd.read_csv)\n",
    "from ast import literal_eval\n",
    "import os\n",
    "from IPython.display import Image\n",
    "from IPython.core.display import HTML\n",
    "\n",
    "from collections import defaultdict\n",
    "\n",
    "htmls = defaultdict(lambda: \"\")\n",
    "\n",
    "df_test =  pd.read_csv('../input/nca-emoji-challenge/test.csv')  \n",
    "# Reminder - Use ast literal_eval to get pandas cols back to lists\n",
    "df_test.emojis_comp = df_test.emojis_comp.apply(lambda x: literal_eval(x) )\n",
    "df_test.ucodes_comp = df_test.ucodes_comp.apply(lambda x: literal_eval(x) )\n",
    "e_id = 2089\n",
    "filt = df_test.e_id==e_id\n",
    "clue = df_test.clues[filt].values[0]"
   ]
  },
  {
   "cell_type": "code",
   "execution_count": null,
   "id": "9bbcac39",
   "metadata": {},
   "outputs": [],
   "source": [
    "htmlstr = \"<center>\"\n",
    "#htmlstr+= \"<div class='calendar_output' >\"\n",
    "htmlstr += \"<h1> Advent Calendar 2022 </h1>\"\n",
    "htmlstr += \"<table height='576px' width='768px'  cellpadding='5px' cellspacing='5px' border='2px' border-style='solid' >\"\n",
    "#htmlstr += \"<div style='display:table; overflow-y: auto; cellpadding:2px; cellspacing:2px; border:1px; border-style:solid;'  >\"\n",
    "htmlstr += \"<tr>\"\n",
    "htmlstr += \"<td BGCOLOR='red' ><b> <center><h2>  Mon  </center></b></td>\"  # border='1px' border-style='solid'\n",
    "htmlstr += \"<td BGCOLOR='#00FF7F' ><b> <center><h2>  Tue  </center></b></td>\"\n",
    "htmlstr += \"<td BGCOLOR='red' ><b><center><h2>  Wed  </center></b></td>\"\n",
    "htmlstr += \"<td BGCOLOR='#00FF7F'><b><center><h2>  Thu  </center></b></td>\"\n",
    "htmlstr += \"<td BGCOLOR='red' ><b><center><h2>  Fri  </center></b></td>\"\n",
    "htmlstr += \"<td BGCOLOR='#00FF7F' ><b><center><h2>  Sat  </center></b></td>\"\n",
    "htmlstr += \"<td BGCOLOR='red' ><b><center><h2>  Sun  </center></b></td>\"\n",
    "htmlstr += \"</tr>\"\n",
    "\n",
    "htmlstr += \"<tr>\"\n",
    "htmlstr += \"<td BGCOLOR='#C0C0C0'><h2>   </td>\"\n",
    "htmlstr += \"<td BGCOLOR='#C0C0C0'><h2>   </td>\"\n",
    "htmlstr += \"<td BGCOLOR='#C0C0C0'><h2>   </td>\"\n",
    "htmlstr += \"<td><center><h2> 1 </center> </td>\"\n",
    "htmlstr += \"<td BGCOLOR='#BFEFFF'><center><h2> 2 </center> </td>\"  # BGCOLOR='#696969'\n",
    "htmlstr += \"<td ><center><h2> 3 </center> </td>\" # BGCOLOR='#FFFACD'\n",
    "htmlstr += \"<td BGCOLOR='#BFEFFF'><center><h2> 4 </center> </td>\"  # #B0C4DE #87CEFA #B0E0E6\n",
    "htmlstr += \"</tr>\"\n",
    "\n",
    "htmlstr += \"<tr>\"\n",
    "htmlstr += \"<td BGCOLOR='#BFEFFF'><center><h2> 5 </center> </td>\"\n",
    "htmlstr += \"<td ><center><h2> 6 </center> </td>\"\n",
    "htmlstr += \"<td BGCOLOR='#BFEFFF'><center><h2> 7 </center> </td>\" # BGCOLOR='#BFEFFF' '#FFFACD'\n",
    "htmlstr += \"<td ><center><h2> 8 </center> </td>\"  # BGCOLOR='#76EE00'\n",
    "htmlstr += \"<td BGCOLOR='#BFEFFF'><center><h2> 9 </center> </td>\"  #'#BFEFFF' '#FFFACD'\n",
    "htmlstr += \"<td><center><h2> 10 </center> </td>\"\n",
    "htmlstr += \"<td BGCOLOR='#BFEFFF'><center><h2> 11 </center> </td>\"\n",
    "htmlstr += \"</tr>\"\n",
    "\n",
    "htmlstr += \"<tr>\"\n",
    "htmlstr += \"<td BGCOLOR='#BFEFFF'><center><h2> 12 </center> </td>\"  # \n",
    "htmlstr += \"<td ><center><h2> 13 </center> </td>\" # BGCOLOR='#FFFACD'\n",
    "htmlstr += \"<td BGCOLOR='#BFEFFF'><center><h2> 14 </center> </td>\"  # '#BFEFFF' '#FFFACD'\n",
    "htmlstr += \"<td><center><h2> 15 </center> </td>\"\n",
    "htmlstr += \"<td BGCOLOR='#BFEFFF'><center><h2> 16 </center> </td>\"\n",
    "htmlstr += \"<td><center><h2> 17 </center> </td>\"\n",
    "htmlstr += \"<td BGCOLOR='#BFEFFF'><center><h2> 🍷 </center> </td>\"\n",
    "htmlstr += \"</tr>\"\n",
    "\n",
    "htmlstr += \"<tr>\"\n",
    "htmlstr += \"<td BGCOLOR='#BFEFFF'><center><h2> 19 </center> </td>\"\n",
    "htmlstr += \"<td><center><h2> 20 </center> </td>\"\n",
    "htmlstr += \"<td BGCOLOR='#BFEFFF'><center><h2> 21 </center> </td>\"\n",
    "htmlstr += \"<td><center><h2> 22 </center> </td>\"\n",
    "htmlstr += \"<td BGCOLOR='#BFEFFF'><center><h2> 23 </center> </td>\"\n",
    "htmlstr += \"<td><center><h2> 24 </center> </td>\"\n",
    "htmlstr += \"<td BGCOLOR='#BFEFFF'><center><h2> 🎄25🎅 </center> </td>\"\n",
    "htmlstr += \"</tr>\"\n",
    "\n",
    "htmlstr += \"<tr>\"\n",
    "htmlstr += \"<td BGCOLOR='#BFEFFF'><center><h2> 26 </center> </td>\"\n",
    "htmlstr += \"<td ><center><h2> 27 </center> </td>\"\n",
    "htmlstr += \"<td BGCOLOR='#BFEFFF'><center><h2> 28 </center> </td>\"\n",
    "htmlstr += \"<td><center><h2> 29 </center> </td>\"\n",
    "htmlstr += \"<td BGCOLOR='#BFEFFF'><center><h2> 30 </center> </td>\"\n",
    "htmlstr += \"<td><center><h2> 🎊31🥳 </center> </td>\"\n",
    "htmlstr += \"<td BGCOLOR='#C0C0C0'><center><h2>   </center> </td>\"\n",
    "htmlstr += \"</tr>\"\n",
    "\n",
    "htmlstr += \"</table>\"\n",
    "htmlstr += \"</center>\"\n",
    "\n",
    "htmls['calendar'] = htmlstr \n",
    "\n",
    "display(HTML(htmls[\"calendar\"]))"
   ]
  },
  {
   "cell_type": "markdown",
   "id": "16da9c1c",
   "metadata": {},
   "source": [
    "# Julekalendar"
   ]
  },
  {
   "cell_type": "code",
   "execution_count": null,
   "id": "aa5cdce1",
   "metadata": {},
   "outputs": [],
   "source": [
    "print(' Day 18', '  e_id ',e_id,'\\n', 'Clue: ', clue)"
   ]
  },
  {
   "cell_type": "code",
   "execution_count": null,
   "id": "5a1d54cd",
   "metadata": {},
   "outputs": [],
   "source": [
    "mvp.ipython_display(f'/kaggle/input/nca-calendar/emogination_{e_id}.gif')"
   ]
  },
  {
   "cell_type": "markdown",
   "id": "6c85f969",
   "metadata": {},
   "source": [
    "[previous day ](https://www.kaggle.com/code/something4kag/nca-emojis-advent-calendar-julekalender-17)"
   ]
  }
 ],
 "metadata": {},
 "nbformat": 4,
 "nbformat_minor": 5
}
