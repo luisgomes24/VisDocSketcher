{
 "cells": [
  {
   "cell_type": "code",
   "execution_count": null,
   "id": "a29e56fa",
   "metadata": {},
   "outputs": [],
   "source": [
    "import pandas as pd\n",
    "import numpy as np\n",
    "import matplotlib.pyplot as plt\n",
    "import matplotlib.ticker as ticker\n",
    "import matplotlib.animation as animation\n",
    "from IPython.display import HTML\n",
    "import plotly.express as px\n",
    "import plotly.graph_objects as go\n",
    "import seaborn as sns\n",
    "from plotly.subplots import make_subplots\n",
    "%matplotlib inline\n",
    "\n",
    "\n",
    "import plotly.tools as tls\n",
    "import cufflinks as cf\n",
    "from plotly import __version__\n",
    "from plotly.offline import download_plotlyjs, init_notebook_mode, plot, iplot\n",
    "\n",
    "init_notebook_mode(connected=True)\n",
    "\n",
    "print(__version__) # requires version >= 1.9.0\n",
    "cf.go_offline()"
   ]
  },
  {
   "cell_type": "code",
   "execution_count": null,
   "id": "ce8b90c2",
   "metadata": {},
   "outputs": [],
   "source": [
    "df = pd.read_csv('../input/covid19-us-county-jhu-data-demographics/covid_us_county.csv')\n",
    "df.head()"
   ]
  },
  {
   "cell_type": "code",
   "execution_count": null,
   "id": "01bf6bd8",
   "metadata": {},
   "outputs": [],
   "source": [
    "df.drop(['county'], axis=1)\n",
    "df.drop(['fips'], axis=1)\n",
    "df.drop(['lat'], axis=1)\n",
    "df.drop(['long'], axis=1)"
   ]
  },
  {
   "cell_type": "code",
   "execution_count": null,
   "id": "883e8189",
   "metadata": {},
   "outputs": [],
   "source": [
    "df_reg=df.groupby(['county']).agg({'cases':'sum','deaths':'sum'}).sort_values([\"cases\"],ascending=False).reset_index()\n",
    "df_reg.head(10)"
   ]
  },
  {
   "cell_type": "code",
   "execution_count": null,
   "id": "721e3541",
   "metadata": {},
   "outputs": [],
   "source": [
    "fig = go.Figure(data=[go.Table(\n",
    "    columnwidth = [50],\n",
    "    header=dict(values=('county', 'cases', 'deaths'),\n",
    "                fill_color='#104E8B',\n",
    "                align='center',\n",
    "                font_size=14,\n",
    "                font_color='white',\n",
    "                height=40),\n",
    "    cells=dict(values=[df_reg['county'].head(10), df_reg['cases'].head(10), df_reg['deaths'].head(10)],\n",
    "               fill=dict(color=['#509EEA', '#A4CEF8',]),\n",
    "               align='right',\n",
    "               font_size=12,\n",
    "               height=30))\n",
    "])\n",
    "\n",
    "fig.show()"
   ]
  },
  {
   "cell_type": "code",
   "execution_count": null,
   "id": "6009c708",
   "metadata": {},
   "outputs": [],
   "source": [
    "df_reg.iplot(kind='box')"
   ]
  },
  {
   "cell_type": "code",
   "execution_count": null,
   "id": "98bd96f9",
   "metadata": {},
   "outputs": [],
   "source": [
    "fig = px.pie(df_reg.head(10),\n",
    "             values=\"cases\",\n",
    "             names=\"county\",\n",
    "             title=\"cases\",\n",
    "             template=\"seaborn\")\n",
    "fig.update_traces(rotation=90, pull=0.05, textinfo='value+label')\n",
    "fig.show()"
   ]
  },
  {
   "cell_type": "code",
   "execution_count": null,
   "id": "7dd63146",
   "metadata": {},
   "outputs": [],
   "source": [
    "fig = px.pie(df_reg.head(10),\n",
    "             values=\"deaths\",\n",
    "             names=\"county\",\n",
    "             title=\"deaths\",\n",
    "             template=\"seaborn\")\n",
    "fig.update_traces(rotation=90, pull=0.05, textinfo='value+label')\n",
    "fig.show()"
   ]
  },
  {
   "cell_type": "code",
   "execution_count": null,
   "id": "9c6e9c2d",
   "metadata": {},
   "outputs": [],
   "source": [
    "df_county=df.groupby(['date','county']).agg({'cases':'sum','deaths':'sum'}).sort_values([\"cases\"],ascending=False)\n",
    "df_county.head(10)"
   ]
  },
  {
   "cell_type": "code",
   "execution_count": null,
   "id": "8e0a9f9b",
   "metadata": {},
   "outputs": [],
   "source": [
    "dfd = df_county.groupby('date').sum()\n",
    "dfd.head()"
   ]
  },
  {
   "cell_type": "code",
   "execution_count": null,
   "id": "f1048135",
   "metadata": {},
   "outputs": [],
   "source": [
    "dfd[['cases','deaths']].iplot(title = 'US Counties Situation Over Time')"
   ]
  },
  {
   "cell_type": "code",
   "execution_count": null,
   "id": "92128ff5",
   "metadata": {},
   "outputs": [],
   "source": [
    "dfd['Active'] = dfd['cases']-dfd['deaths']\n",
    "dfd['Active'] "
   ]
  },
  {
   "cell_type": "code",
   "execution_count": null,
   "id": "b1450477",
   "metadata": {},
   "outputs": [],
   "source": [
    "df_county.head()"
   ]
  }
 ],
 "metadata": {},
 "nbformat": 4,
 "nbformat_minor": 5
}
