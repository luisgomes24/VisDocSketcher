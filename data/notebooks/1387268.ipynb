{
 "cells": [
  {
   "cell_type": "markdown",
   "id": "cadaccdc",
   "metadata": {},
   "source": [
    "## Introduction\r\n",
    "Greetings from the Kaggle bot! This is an automatically-generated kernel with starter code demonstrating how to read in the data and begin exploring. If you're inspired to dig deeper, click the blue \"Fork Notebook\" button at the top of this kernel to begin editing."
   ]
  },
  {
   "cell_type": "markdown",
   "id": "1e1df277",
   "metadata": {},
   "source": [
    "## Exploratory Analysis\r\n",
    "To begin this exploratory analysis, first import libraries and define functions for plotting the data using `matplotlib`. Depending on the data, not all plots will be made. (Hey, I'm just a simple kerneling bot, not a Kaggle Competitions Grandmaster!)"
   ]
  },
  {
   "cell_type": "code",
   "execution_count": null,
   "id": "971f1b57",
   "metadata": {},
   "outputs": [],
   "source": [
    "from mpl_toolkits.mplot3d import Axes3D\r\n",
    "from sklearn.decomposition import PCA\r\n",
    "from sklearn.preprocessing import StandardScaler\r\n",
    "import matplotlib.pyplot as plt # plotting\r\n",
    "import numpy as np # linear algebra\r\n",
    "import os # accessing directory structure\r\n",
    "import pandas as pd # data processing, CSV file I/O (e.g. pd.read_csv)\r\n"
   ]
  },
  {
   "cell_type": "markdown",
   "id": "6e5b15ad",
   "metadata": {},
   "source": [
    "There is 1 csv file in the current version of the dataset:\n"
   ]
  },
  {
   "cell_type": "code",
   "execution_count": null,
   "id": "94bdf71c",
   "metadata": {},
   "outputs": [],
   "source": [
    "print(os.listdir('../input'))"
   ]
  },
  {
   "cell_type": "markdown",
   "id": "0304ac3d",
   "metadata": {},
   "source": [
    "The next hidden code cells define functions for plotting data. Click on the \"Code\" button in the published kernel to reveal the hidden code."
   ]
  },
  {
   "cell_type": "code",
   "execution_count": null,
   "id": "7ed854c1",
   "metadata": {},
   "outputs": [],
   "source": [
    "# Plot the PCA with either 2 or 3 reduced components\r\n",
    "def plotPCA(df, nComponents):\n",
    "    df = df.select_dtypes(include =[np.number]) # keep only numerical columns\r\n",
    "    df = df.dropna('columns') # drop columns with NaN\r\n",
    "    if df.shape[1] < nComponents:\r\n",
    "        print(f'No PCA graph shown: The number of numeric columns ({df.shape[1]}) is less than the number of PCA components ({nComponents})')\r\n",
    "        return\r\n",
    "    df = df.astype('float64') # Cast to float for sklearn functions\r\n",
    "    df = StandardScaler().fit_transform(df) # Standardize features by removing the mean and scaling to unit variance\r\n",
    "    pca = PCA(n_components = nComponents)\r\n",
    "    principalComponents = pca.fit_transform(df)\r\n",
    "    principalDf = pd.DataFrame(data = principalComponents, columns = ['Principal Component ' + str(i) for i in range(1, nComponents + 1)])\r\n",
    "    fig = plt.figure(figsize = (8, 8))\r\n",
    "    if (nComponents == 3):\r\n",
    "        ax = fig.add_subplot(111, projection = '3d')\r\n",
    "        ax.set_xlabel('Principal Component 1', fontsize = 15)\r\n",
    "        ax.set_ylabel('Principal Component 2', fontsize = 15)\r\n",
    "        ax.set_zlabel('Principal Component 3', fontsize = 15)\r\n",
    "        ax.set_title('3 component PCA', fontsize = 20)\r\n",
    "        ax.scatter(xs = principalDf.iloc[:, 0], ys = principalDf.iloc[:, 1], zs = principalDf.iloc[:, 2])\r\n",
    "    else:\r\n",
    "        ax = fig.add_subplot(111)\r\n",
    "        ax.set_xlabel('Principal Component 1', fontsize = 15)\r\n",
    "        ax.set_ylabel('Principal Component 2', fontsize = 15)\r\n",
    "        ax.set_title('2 component PCA', fontsize = 20)\r\n",
    "        ax.scatter(x = principalDf.iloc[:, 0], y = principalDf.iloc[:, 1])\r\n"
   ]
  },
  {
   "cell_type": "code",
   "execution_count": null,
   "id": "5bc6e750",
   "metadata": {},
   "outputs": [],
   "source": [
    "# Histogram of column data\r\n",
    "def plotHistogram(df, nHistogramShown, nHistogramPerRow):\n",
    "    nunique = df.nunique()\r\n",
    "    df = df[[col for col in df if nunique[col] > 1 and nunique[col] < 50]] # For displaying purposes, pick columns that have between 1 and 50 unique values\r\n",
    "    nRow, nCol = df.shape\r\n",
    "    columnNames = list(df)\r\n",
    "    nHistRow = (nCol + nHistogramPerRow - 1) / nHistogramPerRow\r\n",
    "    plt.figure(num=None, figsize=(6*nHistogramPerRow, 8*nHistRow), dpi=80, facecolor='w', edgecolor='k')\n",
    "    for i in range(min(nCol, nHistogramShown)):\r\n",
    "        plt.subplot(nHistRow, nHistogramPerRow, i+1)\r\n",
    "        df.iloc[:,i].hist()\r\n",
    "        plt.ylabel('counts')\r\n",
    "        plt.xticks(rotation=90)\r\n",
    "        plt.title(f'{columnNames[i]} (column {i})')\r\n",
    "    plt.tight_layout(pad=1.0, w_pad=1.0, h_pad=1.0)\r\n",
    "    plt.show()\r\n"
   ]
  },
  {
   "cell_type": "code",
   "execution_count": null,
   "id": "ab5e25b0",
   "metadata": {},
   "outputs": [],
   "source": [
    "# Correlation matrix\r\n",
    "def plotCorrelationMatrix(df, graphWidth):\n",
    "    filename = df.dataframeName\r\n",
    "    df = df.dropna('columns') # drop columns with NaN\r\n",
    "    df = df[[col for col in df if df[col].nunique() > 1]] # keep columns where there are more than 1 unique values\r\n",
    "    if df.shape[1] < 2:\r\n",
    "        print(f'No correlation plots shown: The number of non-NaN or constant columns ({df.shape[1]}) is less than 2')\r\n",
    "        return\r\n",
    "    corr = df.corr()\r\n",
    "    plt.figure(num=None, figsize=(graphWidth, graphWidth), dpi=80, facecolor='w', edgecolor='k')\r\n",
    "    corrMat = plt.matshow(corr, fignum = 1)\r\n",
    "    plt.xticks(range(len(corr.columns)), corr.columns, rotation=90)\r\n",
    "    plt.yticks(range(len(corr.columns)), corr.columns)\r\n",
    "    plt.gca().xaxis.tick_bottom()\r\n",
    "    plt.colorbar(corrMat)\r\n",
    "    plt.title(f'Correlation Matrix for {filename}', fontsize=15)\r\n",
    "    plt.show()\r\n"
   ]
  },
  {
   "cell_type": "code",
   "execution_count": null,
   "id": "c02be578",
   "metadata": {},
   "outputs": [],
   "source": [
    "# Scatter and density plots\r\n",
    "def plotScatterMatrix(df, plotSize, textSize):\n",
    "    df = df.select_dtypes(include =[np.number]) # keep only numerical columns\r\n",
    "    # Remove rows and columns that would lead to df being singular\r\n",
    "    df = df.dropna('columns')\r\n",
    "    df = df[[col for col in df if df[col].nunique() > 1]] # keep columns where there are more than 1 unique values\r\n",
    "    columnNames = list(df)\r\n",
    "    if len(columnNames) > 10: # reduce the number of columns for matrix inversion of kernel density plots\n",
    "        columnNames = columnNames[:10]\n",
    "    df = df[columnNames]\r\n",
    "    ax = pd.plotting.scatter_matrix(df, alpha=0.75, figsize=[plotSize, plotSize], diagonal='kde')\r\n",
    "    corrs = df.corr().values\r\n",
    "    for i, j in zip(*plt.np.triu_indices_from(ax, k = 1)):\r\n",
    "        ax[i, j].annotate('Corr. coef = %.3f' % corrs[i, j], (0.8, 0.2), xycoords='axes fraction', ha='center', va='center', size=textSize)\r\n",
    "    plt.suptitle('Scatter and Density Plot')\r\n",
    "    plt.show()\r\n"
   ]
  },
  {
   "cell_type": "markdown",
   "id": "39be693d",
   "metadata": {},
   "source": [
    "Now you're ready to read in the data and use the plotting functions to visualize the data."
   ]
  },
  {
   "cell_type": "markdown",
   "id": "8d55084d",
   "metadata": {},
   "source": [
    "### Let's check 1st file: ../input/trade-waste-hauler-licensees.csv"
   ]
  },
  {
   "cell_type": "code",
   "execution_count": null,
   "id": "449fea9c",
   "metadata": {},
   "outputs": [],
   "source": [
    "nRowsRead = 100 # specify 'None' if want to read whole file\n",
    "# trade-waste-hauler-licensees.csv has 98196 rows in reality, but we are only loading/previewing the first 100 rows\n",
    "df1 = pd.read_csv('../input/trade-waste-hauler-licensees.csv', delimiter=',', nrows = nRowsRead)\n",
    "df1.dataframeName = 'trade-waste-hauler-licensees.csv'\n",
    "nRow, nCol = df1.shape\n",
    "print(f'There are {nRow} rows and {nCol} columns')"
   ]
  },
  {
   "cell_type": "markdown",
   "id": "749d5a4e",
   "metadata": {},
   "source": [
    "Let's take a quick look at what the data looks like:"
   ]
  },
  {
   "cell_type": "code",
   "execution_count": null,
   "id": "3ea747e2",
   "metadata": {},
   "outputs": [],
   "source": [
    "df1.head(5)"
   ]
  },
  {
   "cell_type": "markdown",
   "id": "f7cb0c5c",
   "metadata": {},
   "source": [
    "Histogram of sampled columns:"
   ]
  },
  {
   "cell_type": "code",
   "execution_count": null,
   "id": "91b4c6ae",
   "metadata": {},
   "outputs": [],
   "source": [
    "plotHistogram(df1, 10, 5)"
   ]
  },
  {
   "cell_type": "markdown",
   "id": "b8b03e87",
   "metadata": {},
   "source": [
    "2D and 3D PCA Plots"
   ]
  },
  {
   "cell_type": "code",
   "execution_count": null,
   "id": "b6db5a0d",
   "metadata": {},
   "outputs": [],
   "source": [
    "plotPCA(df1, 2) # 2D PCA\n",
    "plotPCA(df1, 3) # 3D PCA"
   ]
  },
  {
   "cell_type": "markdown",
   "id": "194bc46b",
   "metadata": {},
   "source": [
    "## Conclusion\r\n",
    "This concludes your starter analysis! To go forward from here, click the blue \"Edit Notebook\" button at the top of this kernel. This will create a copy of the code and environment for you to edit. Delete, modify, and add code as you please. Happy Kaggling!"
   ]
  }
 ],
 "metadata": {},
 "nbformat": 4,
 "nbformat_minor": 5
}
