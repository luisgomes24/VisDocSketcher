{
 "cells": [
  {
   "cell_type": "markdown",
   "id": "108eba79",
   "metadata": {},
   "source": [
    "<h3>Analyze Attendance</h3>\n",
    "<p>\n",
    "    In this project we are using attendance data from a Malaysian school. \n",
    "    Due to COVID-19 schools started their classes online. <br/>\n",
    "    This particular school use google forms / google sheet to \n",
    "    record student attendance.<br/>\n",
    "    Attendance data collected here from lower-secondary level (Forms 1 – 3).<br/>\n",
    "    Each level has multiple classes and each class has multiple subjects.\n",
    "</p>\n",
    "<p>\n",
    "    <b>Level</b> - FORM 1<br/>\n",
    "    <b>Classes</b> - ERAT, ELIT, DEDIKASI, IKHLAS, KREATIF, MULIA, RAJIN, RASIONAL\n",
    "    SABAR, SAYANG, SETIA<br/>\n",
    "    <b>Subjects</b> - BM, BI, MATE, SN, SEJ, GEO, PI, PM, PJPK, BC, BT, PSV, RBT\n",
    "</p>\n",
    "<h4>About the Excel Files</h4>\n",
    "<p>\n",
    "    Form 1 has multiple excel files and all files has PDPR_1 in the file name. <br/>\n",
    "    There is one Excel file for every class (DEDIKASI, ELIT, ERAT....)<br/>\n",
    "    Each Excel file has multiple sheets<br>\n",
    "    Each sheet represent a subject (BM, BI, MATE, SN.....)<br/>\n",
    "    Every sheet has students in the rows and days in the column<br/>\n",
    "    If student present it is recorded using the '/' characater<br/>\n",
    "</p>"
   ]
  },
  {
   "cell_type": "code",
   "execution_count": null,
   "id": "40a6ea24",
   "metadata": {},
   "outputs": [],
   "source": [
    "!pip install xlrd\n",
    "!pip install openpyxl"
   ]
  },
  {
   "cell_type": "code",
   "execution_count": null,
   "id": "106efeed",
   "metadata": {},
   "outputs": [],
   "source": [
    "import numpy as np # linear algebra\n",
    "import pandas as pd # data processing, CSV file I/O (e.g. pd.read_csv)\n",
    "import os # provides functions for interacting with operating system.\n",
    "import math # provides mathematical functions \n",
    "import datetime\n",
    "import matplotlib.pyplot as plt\n",
    "import seaborn as sns"
   ]
  },
  {
   "cell_type": "code",
   "execution_count": null,
   "id": "42e755d8",
   "metadata": {},
   "outputs": [],
   "source": [
    "inputfolder = '/kaggle/input/attendance/'\n",
    "workingfolder = '/kaggle/working/'\n",
    "month = 8"
   ]
  },
  {
   "cell_type": "code",
   "execution_count": null,
   "id": "0dc76375",
   "metadata": {},
   "outputs": [],
   "source": [
    "# Before we start, we must clean the files inside the working folder\n",
    "# Let us create a function that deletes all files under working folder\n",
    "\n",
    "def clearworkingfolder():\n",
    "    for dirname, _, filenames in os.walk(workingfolder):\n",
    "        for filename in filenames:\n",
    "            os.remove(os.path.join(dirname, filename))\n",
    "\n",
    "clearworkingfolder()"
   ]
  },
  {
   "cell_type": "markdown",
   "id": "ca94872e",
   "metadata": {},
   "source": [
    "<h2>Massage / Process original Excel Files</h2>"
   ]
  },
  {
   "cell_type": "code",
   "execution_count": null,
   "id": "b2350cab",
   "metadata": {},
   "outputs": [],
   "source": [
    "# The column captions are day/month (string in python)\n",
    "# In some cases the teacher used the real excel date (datetime in python)\n",
    "# Let us create a python function \n",
    "# that converts the datatime column caption to string caption\n",
    "# This function takes list of column captions as parameter\n",
    "# and return list of new columne captions\n",
    "\n",
    "def fixcolumncaption(columns):\n",
    "    newcolumns = []\n",
    "    for column in columns:\n",
    "        if isinstance(column, datetime.date):\n",
    "            newcolumns.append(str(column.month) + '/' + str(column.day))\n",
    "        else:\n",
    "            newcolumns.append(column)\n",
    "    return newcolumns"
   ]
  },
  {
   "cell_type": "code",
   "execution_count": null,
   "id": "ae39b8cf",
   "metadata": {},
   "outputs": [],
   "source": [
    "# Let us create a function that massage/process the data in the excel file \n",
    "# This function takes excel file name as parameter\n",
    "# Excel file has the attendance data for a specific class\n",
    "# Excel file has multiple sheets for multiple subjects\n",
    "# This function returns class attendance as dictionary with subject as key\n",
    "# Note: The character '/' in the excel file represent \"Present\" status\n",
    "\n",
    "# Step 1: Since we need subjects, load the Excel file using ExcelFile Class\n",
    "# Step 2: Get the list of subjects from the sheet name \n",
    "# Step 3: Itereate through subjects and get attendance data for every subject\n",
    "# Step 4: Each sheet has 6 header rows which needs to be dropped\n",
    "# Step 5: Fix the column captions\n",
    "# Step 6: Drop the null columns. Some cells are empty replace them with NaN\n",
    "# Step 7: Replace the nan value with 0 and replace character '/' with 1\n",
    "# Step 8: Drop the rows that do not have Name (empty or 0)\n",
    "# Step 9: Add this data frame into a dictionary with subject as key\n",
    "\n",
    "def getclassattendance(fileName):\n",
    "    print(\"Processing the class:\", fileName)\n",
    "    attendance = dict()\n",
    "    excelFile = pd.ExcelFile(fileName)\n",
    "    subjects = excelFile.sheet_names\n",
    "    for subject in subjects:\n",
    "        if (not subject.lower().startswith('sheet')):\n",
    "            subjectAttendance = excelFile.parse(subject)\n",
    "            columns = subjectAttendance.iloc[7].tolist()\n",
    "            columns = fixcolumncaption(columns)\n",
    "            rows = len(subjectAttendance)\n",
    "            data = subjectAttendance.iloc[8:rows].copy()\n",
    "            columns[0] = \"Bill\"\n",
    "            columns[1] = \"Nama\"\n",
    "            data.columns = columns\n",
    "            data = data.loc[:, data.columns.notnull()]\n",
    "            data.replace(r'^\\s*$', np.NaN, regex=True, inplace=True)\n",
    "            data.replace(np.nan, 0, inplace=True)\n",
    "            data.replace('/', 1, inplace=True)\n",
    "            data.replace(r'^\\s*/$', 1, regex=True, inplace=True)\n",
    "            data.replace(r'^/\\s*$', 1, regex=True, inplace=True)\n",
    "            data = data[data['Nama'] != 0]\n",
    "            attendance[subject] = data\n",
    "    return attendance"
   ]
  },
  {
   "cell_type": "code",
   "execution_count": null,
   "id": "6f27d4a5",
   "metadata": {},
   "outputs": [],
   "source": [
    "# Every processed class attendance by the function getclassattendance\n",
    "# must be stored in another dictionary where the key is \"class name\"\n",
    "# Let us create a function that generates this class name\n",
    "# For example: When KEHADIRAN PDPR_1 ELIT 2021 file name is passed\n",
    "# as paramter it must be converted to PDPR_1_ELIT_2021\n",
    "\n",
    "def getclassname(name):\n",
    "    name = name.replace(\"KEHADIRAN \", '')\n",
    "    name = name.replace(\".xlsx\", '')\n",
    "    name = name.replace(\" \", \"_\")\n",
    "    return name"
   ]
  },
  {
   "cell_type": "code",
   "execution_count": null,
   "id": "2af3094f",
   "metadata": {},
   "outputs": [],
   "source": [
    "# This is the main function that takes all the excel files\n",
    "# and pass them to getclassattendance function.\n",
    "# The getclassattendance returns class attendance and processattendance\n",
    "# function add class attendance inside another dictionary using class as key\n",
    "\n",
    "def processattendance():\n",
    "    attendance = dict()\n",
    "    for dirname, _, filenames in os.walk(inputfolder):\n",
    "        for name in filenames:\n",
    "            if name.endswith(\".xlsx\"):\n",
    "                data = getclassattendance(inputfolder + name)\n",
    "                attendance[getclassname(name)] = data\n",
    "    return attendance"
   ]
  },
  {
   "cell_type": "code",
   "execution_count": null,
   "id": "e4e7cdcf",
   "metadata": {},
   "outputs": [],
   "source": [
    "# Now we have enough functions let us process the excel files\n",
    "# and get the attendance in a dictionary format\n",
    "\n",
    "schoolattendance = processattendance()"
   ]
  },
  {
   "cell_type": "markdown",
   "id": "6108ec47",
   "metadata": {},
   "source": [
    "<h2>Calculate the Attendance by month</h2>"
   ]
  },
  {
   "cell_type": "code",
   "execution_count": null,
   "id": "6c674eb1",
   "metadata": {},
   "outputs": [],
   "source": [
    "# From the school attendance we need to create summary for every class\n",
    "\n",
    "# Let us create a function that takes classname, subject, month as\n",
    "# parameter and retrives relavant data from schoolattendance dictionary\n",
    "# Since we are interested only in certain columns \n",
    "# Let us create a list of columns that consists of Nama and dates\n",
    "# Retrive only those columns and calculate total attendance\n",
    "# Let us add the total as new column with subject as column name\n",
    "\n",
    "def summary(classname, subject, month):\n",
    "    attendance = schoolattendance[classname][subject]\n",
    "    allcolumns = attendance.columns.tolist()\n",
    "    columns = ['Nama']\n",
    "    getdaycolumns = lambda x: x.endswith('/' + str(month))\n",
    "    columns.extend(list(filter(getdaycolumns, allcolumns)))\n",
    "    attendance = attendance[columns].copy()\n",
    "    attendance[subject] = attendance.sum(numeric_only=True, axis=1)\n",
    "    return attendance"
   ]
  },
  {
   "cell_type": "code",
   "execution_count": null,
   "id": "2a7955f2",
   "metadata": {},
   "outputs": [],
   "source": [
    "def generatesummary():\n",
    "    attendances = dict()\n",
    "    for classname, value in schoolattendance.items():\n",
    "        classDataFrame = pd.DataFrame()\n",
    "        for subject, attendance in value.items():\n",
    "            cols = ['Nama', subject]\n",
    "            if (classDataFrame.empty):\n",
    "                classDataFrame = summary(classname, subject, month)[cols]\n",
    "            else:\n",
    "                current = summary(classname, subject, 8)[cols]\n",
    "                classDataFrame = pd.merge(left=classDataFrame, \n",
    "                                          right=current, \n",
    "                                          how='left', on=['Nama'])\n",
    "        attendances[classname] = classDataFrame\n",
    "    return attendances"
   ]
  },
  {
   "cell_type": "code",
   "execution_count": null,
   "id": "ed1286d0",
   "metadata": {},
   "outputs": [],
   "source": [
    "summaryattendance = generatesummary()"
   ]
  },
  {
   "cell_type": "code",
   "execution_count": null,
   "id": "9d6e1b01",
   "metadata": {},
   "outputs": [],
   "source": [
    "for key in summaryattendance.keys():\n",
    "    summaryattendance[key].to_excel(workingfolder + key + '.xlsx', index=False)"
   ]
  },
  {
   "cell_type": "markdown",
   "id": "7ef7c5b5",
   "metadata": {},
   "source": [
    "<h3>Checking the Data</h3>"
   ]
  },
  {
   "cell_type": "code",
   "execution_count": null,
   "id": "e036e341",
   "metadata": {},
   "outputs": [],
   "source": [
    "# This will help you to find is there any column suppose to be \n",
    "# number but it is object which cause the calculation go wrong\n",
    "\n",
    "def checkdata():\n",
    "    for key in summaryattendance.keys():\n",
    "        for column in summaryattendance[key].columns:\n",
    "            dtype = summaryattendance[key][column].dtype\n",
    "            if column != 'Nama' and  dtype == 'object': print(column, dtype)\n",
    "\n",
    "checkdata()"
   ]
  },
  {
   "cell_type": "markdown",
   "id": "4453c7cc",
   "metadata": {},
   "source": [
    "<h3>Analyze</h3>"
   ]
  },
  {
   "cell_type": "code",
   "execution_count": null,
   "id": "46b249b7",
   "metadata": {},
   "outputs": [],
   "source": [
    "summaryattendance.keys()"
   ]
  },
  {
   "cell_type": "code",
   "execution_count": null,
   "id": "1b83d1bc",
   "metadata": {},
   "outputs": [],
   "source": [
    "# By default the pandas output are normally with 5 decimal places\n",
    "# It can be changed using the key display.float_format of pandas set_option function\n",
    "pd.set_option('display.float_format', lambda x: '%.0f' % x)"
   ]
  },
  {
   "cell_type": "code",
   "execution_count": null,
   "id": "bd076caf",
   "metadata": {},
   "outputs": [],
   "source": [
    "pdproneelit = summaryattendance['PDPR_1_ELIT_2021']\n",
    "pdproneelit"
   ]
  },
  {
   "cell_type": "code",
   "execution_count": null,
   "id": "cca1d3a5",
   "metadata": {},
   "outputs": [],
   "source": [
    "# The head() function is used to get the first n rows. \n",
    "# By default value of n is 5\n",
    "# It is useful for quickly testing the dataset.\n",
    "pdproneelit.head()"
   ]
  },
  {
   "cell_type": "code",
   "execution_count": null,
   "id": "1e3a6fb1",
   "metadata": {},
   "outputs": [],
   "source": [
    "# The tail() function is used to get the last n rows. \n",
    "# By default value of n is 5\n",
    "# It is useful for quickly testing the dataset.\n",
    "pdproneelit.tail()"
   ]
  },
  {
   "cell_type": "code",
   "execution_count": null,
   "id": "c380e6dd",
   "metadata": {},
   "outputs": [],
   "source": [
    "# The info() function is used to print a concise summary of a DataFrame. \n",
    "# This method prints information about a DataFrame including\n",
    "# 1. total number of rows (start index, end index)\n",
    "# 2. total number of columns\n",
    "# 3. data type of each column \n",
    "# 4. how many non-null count for each column\n",
    "# 5. in this case the total entry is 17 and non-null count of each field is also 17\n",
    "# 6. the dataset do not have null values\n",
    "# 7. summary of data type => you have 4 integer columns and 1 non-number column\n",
    "# 8. how much memory is being used in bytes\n",
    "pdproneelit.info()"
   ]
  },
  {
   "cell_type": "code",
   "execution_count": null,
   "id": "7b024645",
   "metadata": {},
   "outputs": [],
   "source": [
    "# The memory_usage() function return memory usage of each column in bytes.\n",
    "pdproneelit.memory_usage()"
   ]
  },
  {
   "cell_type": "code",
   "execution_count": null,
   "id": "e60e7cc0",
   "metadata": {},
   "outputs": [],
   "source": [
    "# The describe() method is used for calculating some statistical data like count, \n",
    "# mean, std, min, mean and percentile of the numerical values. \n",
    "# It analyzes both numeric and object column sets of mixed data types.\n",
    "pdproneelit.describe()"
   ]
  },
  {
   "cell_type": "markdown",
   "id": "02cbbd65",
   "metadata": {},
   "source": [
    "<h3>Selection rows and columns</h3>\n",
    "\n",
    "Let's learn the various methods to grab data from a DataFrame"
   ]
  },
  {
   "cell_type": "code",
   "execution_count": null,
   "id": "e9369c00",
   "metadata": {},
   "outputs": [],
   "source": [
    "# How to retrieve a specific column\n",
    "# Pass the column names as index\n",
    "pdproneelit['Nama']"
   ]
  },
  {
   "cell_type": "code",
   "execution_count": null,
   "id": "59d8610d",
   "metadata": {},
   "outputs": [],
   "source": [
    "# How to retrieve more than one column\n",
    "# Pass multiple column names as index list \n",
    "pdproneelit[['Nama', 'BM', 'BI']]"
   ]
  },
  {
   "cell_type": "code",
   "execution_count": null,
   "id": "d64ca2e0",
   "metadata": {},
   "outputs": [],
   "source": [
    "# Since rows do not have index we can pull out the row using position number only\n",
    "# How to retrieve a specific row using row index (based on position)\n",
    "# Row index start with 0\n",
    "pdproneelit.iloc[0]"
   ]
  },
  {
   "cell_type": "code",
   "execution_count": null,
   "id": "e47ac199",
   "metadata": {},
   "outputs": [],
   "source": [
    "# How to retrieve more than one row using row index (based on position)\n",
    "# Row index start with 1, 3, 5, 7\n",
    "pdproneelit.iloc[[1, 3, 5, 7, 9]]"
   ]
  },
  {
   "cell_type": "markdown",
   "id": "4df8d24a",
   "metadata": {},
   "source": [
    "<h3>Add, Drop, Rearrange Columns and Rows</h3>\n",
    "\n",
    "<p>Let's learn how to do the following items</p>\n",
    "<ol>\n",
    "    <li>Drop a row from a DataFrame</li>\n",
    "    <li>Add a row to the DataFrame</li>\n",
    "</ol>\n"
   ]
  },
  {
   "cell_type": "code",
   "execution_count": null,
   "id": "5ed6ab74",
   "metadata": {},
   "outputs": [],
   "source": [
    "# There are 3 rows and it has the total, percentage\n",
    "# I would like to drop rows from 34 onwards\n",
    "# By default value of axis is 0 which refers to drop row\n",
    "# Since we want to drop the row let us use the \n",
    "# named parameter axis = 0\n",
    "# By default the rows is not dropped permanently\n",
    "# in order to drop the row permanently let us use the \n",
    "# named parameter inplace = True\n",
    "pdproneelit.drop(pdproneelit.index[[34, 35, 36]], axis=0, inplace=True)\n",
    "pdproneelit"
   ]
  },
  {
   "cell_type": "code",
   "execution_count": null,
   "id": "f624a043",
   "metadata": {},
   "outputs": [],
   "source": [
    "pdproneelit.set_index('Nama', inplace=True)"
   ]
  },
  {
   "cell_type": "code",
   "execution_count": null,
   "id": "a10dea80",
   "metadata": {},
   "outputs": [],
   "source": [
    "# Let us plot the graph using Dataframe\n",
    "\n",
    "ax = pdproneelit[pdproneelit['BM'] != 0]['BM'].plot(kind=\"barh\", figsize=(16, 24))\n",
    "for label in (ax.get_xticklabels() + ax.get_yticklabels()):\n",
    "    label.set_fontsize(16)\n",
    "plt.title(\"Elit Attendance for BM\", fontsize=26)\n",
    "plt.xlabel(\"Number of Days\", fontsize=24)\n",
    "plt.ylabel(\"Students\", fontsize=24)\n",
    "plt.grid()\n",
    "plt.show()"
   ]
  },
  {
   "cell_type": "code",
   "execution_count": null,
   "id": "5a6a6584",
   "metadata": {},
   "outputs": [],
   "source": [
    "# Let us plot the graph using Dataframe\n",
    "\n",
    "ax = pdproneelit['PI'].plot(kind=\"barh\", figsize=(16, 24))\n",
    "for label in (ax.get_xticklabels() + ax.get_yticklabels()):\n",
    "    label.set_fontsize(16)\n",
    "plt.title(\"Elit Attendance for PI\", fontsize=26)\n",
    "plt.xlabel(\"Number of Days\", fontsize=24)\n",
    "plt.ylabel(\"Students\", fontsize=24)\n",
    "plt.grid()\n",
    "plt.show()"
   ]
  },
  {
   "cell_type": "code",
   "execution_count": null,
   "id": "15c17eed",
   "metadata": {},
   "outputs": [],
   "source": [
    "# Let us plot the graph using Dataframe\n",
    "\n",
    "ax = pdproneelit[['BM', 'BI']].plot(kind=\"barh\", figsize=(16, 24))\n",
    "for label in (ax.get_xticklabels() + ax.get_yticklabels()):\n",
    "    label.set_fontsize(16)\n",
    "plt.title(\"Elit Attendance for BM and BI\", fontsize=26)\n",
    "plt.xlabel(\"Number of Days\", fontsize=24)\n",
    "plt.ylabel(\"Students\", fontsize=24)\n",
    "plt.grid()\n",
    "plt.show()"
   ]
  },
  {
   "cell_type": "code",
   "execution_count": null,
   "id": "b6c4f286",
   "metadata": {},
   "outputs": [],
   "source": [
    "# Let us plot the graph using Dataframe\n",
    "\n",
    "def getcolumns(dataframe):\n",
    "    allcolumns = dataframe.columns.tolist()\n",
    "    columns = ['Nama']\n",
    "    getdaycolumns = lambda x: x.endswith('/' + str(month))\n",
    "    days = list(filter(getdaycolumns, allcolumns))\n",
    "    columns.extend(days)\n",
    "    return columns\n",
    "\n",
    "def getattendancecs(classname, student):\n",
    "    allsubjectattendance = pd.DataFrame()\n",
    "    for subject, attendance in schoolattendance[classname].items():\n",
    "        subjectDataFrame = attendance[attendance[\"Nama\"] == student].copy()\n",
    "        columns = getcolumns(subjectDataFrame)\n",
    "        subjectDataFrame = subjectDataFrame[columns]\n",
    "        \n",
    "        multiindex = []\n",
    "        for column in columns[1:]:\n",
    "            multiindex.append((subject, column))\n",
    "        subjectDataFrame.set_index('Nama', inplace=True)\n",
    "        subjectDataFrame.columns = pd.MultiIndex.from_tuples(multiindex)\n",
    "        \n",
    "        if allsubjectattendance.empty:\n",
    "            if not subjectDataFrame.empty:\n",
    "                allsubjectattendance = subjectDataFrame\n",
    "        else:\n",
    "            if not subjectDataFrame.empty:\n",
    "                allsubjectattendance = pd.merge(left=allsubjectattendance, \n",
    "                                                right=subjectDataFrame, \n",
    "                                                how='left', on=['Nama'])\n",
    "    return allsubjectattendance\n",
    "\n",
    "allsubjectattendance = getattendancecs('PDPR_1_ELIT_2021', 'SUSHI LOW SHU XIN')\n",
    "ax = allsubjectattendance.unstack().plot(kind=\"bar\", figsize=(16, 4))\n",
    "for label in (ax.get_xticklabels() + ax.get_yticklabels()):\n",
    "    label.set_fontsize(12)\n",
    "plt.title(\"Attendance for SUSHI LOW SHU XIN\", fontsize=22)\n",
    "plt.xlabel(\"Days\", fontsize=20)\n",
    "plt.ylabel(\"Attendance\", fontsize=20)\n",
    "labels = [item.get_text() for item in ax.get_xticklabels()]\n",
    "for index in range(0, len(labels)):\n",
    "    names = labels[index][1:len(labels[index])-1].split(\",\")\n",
    "    labels[index] = '-'.join(names[0:2])\n",
    "ax.set_xticklabels(labels)\n",
    "ax.set_yticklabels([])\n",
    "plt.grid()\n",
    "plt.show()"
   ]
  },
  {
   "cell_type": "code",
   "execution_count": null,
   "id": "e7dafadd",
   "metadata": {},
   "outputs": [],
   "source": [
    "# Let us plot the graph using Dataframe\n",
    "\n",
    "def getcolumns(dataframe):\n",
    "    allcolumns = dataframe.columns.tolist()\n",
    "    columns = ['Nama']\n",
    "    getdaycolumns = lambda x: x.endswith('/' + str(month))\n",
    "    days = list(filter(getdaycolumns, allcolumns))\n",
    "    columns.extend(days)\n",
    "    return columns\n",
    "\n",
    "def getattendancecss(classname, subject, student):\n",
    "    subjectDataFrame = schoolattendance[classname][subject]\n",
    "    subjectDataFrame = subjectDataFrame[subjectDataFrame[\"Nama\"] == student]\n",
    "    columns = getcolumns(subjectDataFrame)\n",
    "    subjectDataFrame = subjectDataFrame[columns].copy()\n",
    "    subjectDataFrame.set_index('Nama', inplace=True)\n",
    "    subjectDataFrame = subjectDataFrame.T\n",
    "    return subjectDataFrame\n",
    "\n",
    "subjectDataFrame = getattendancecss('PDPR_1_ELIT_2021', 'BM', 'PHANINDRA A/L PAUL SARAVANAN')\n",
    "ax = subjectDataFrame.plot(kind=\"bar\", figsize=(16, 4))\n",
    "for index, p in enumerate(ax.patches):\n",
    "    if (subjectDataFrame.iloc[index]['PHANINDRA A/L PAUL SARAVANAN']):\n",
    "        value = f\"Present\"\n",
    "        ax.annotate(value, xy =(p.get_x() + 0.06, p.get_height() + 0.1), fontsize=14)\n",
    "for label in (ax.get_xticklabels() + ax.get_yticklabels()):\n",
    "    label.set_fontsize(16)\n",
    "plt.title(\"BM Attendance for PHANINDRA A/L PAUL SARAVANAN\", fontsize=22)\n",
    "plt.xlabel(\"Days\", fontsize=20)\n",
    "plt.ylabel(\"Attendance\", fontsize=20)\n",
    "plt.grid()\n",
    "plt.ylim(0, 1.5)\n",
    "ax.set_yticklabels([])\n",
    "plt.show()"
   ]
  },
  {
   "cell_type": "code",
   "execution_count": null,
   "id": "ea507ba0",
   "metadata": {},
   "outputs": [],
   "source": [
    "studentattendance = pdproneelit.loc['PHANINDRA A/L PAUL SARAVANAN']\n",
    "maxdays = pdproneelit.describe().loc['max']\n",
    "ax = studentattendance.plot(kind=\"bar\", figsize=(16, 4))\n",
    "for index, p in enumerate(ax.patches):\n",
    "    value = f\"{studentattendance[index]:.0f}/{maxdays[index]:.0f}\"\n",
    "    ax.annotate(value, xy =(p.get_x() + 0.12, p.get_height() + 0.25), fontsize=14)\n",
    "for label in (ax.get_xticklabels() + ax.get_yticklabels()):\n",
    "    label.set_fontsize(14)\n",
    "plt.title(\"Summary Attendance for PHANINDRA A/L PAUL SARAVANAN\", fontsize=22)\n",
    "plt.xlabel(\"Subjects\", fontsize=20)\n",
    "plt.ylabel(\"Attendance\", fontsize=20)\n",
    "plt.grid()\n",
    "plt.ylim(0, 8)\n",
    "plt.show()"
   ]
  },
  {
   "cell_type": "code",
   "execution_count": null,
   "id": "cebeb539",
   "metadata": {},
   "outputs": [],
   "source": [
    "studentattendance = pdproneelit.loc['PHANINDRA A/L PAUL SARAVANAN']\n",
    "maxdays = pdproneelit.describe().loc['max']\n",
    "\n",
    "plt.figure(figsize=(16, 4))\n",
    "ax = sns.barplot(x=studentattendance.index, y=studentattendance)\n",
    "for index, p in enumerate(ax.patches):\n",
    "    value = f\"{studentattendance[index]:.0f}/{maxdays[index]:.0f}\"\n",
    "    ax.annotate(value, xy =(p.get_x() + 0.2, p.get_height() + 0.25), fontsize=14)\n",
    "for label in (ax.get_xticklabels() + ax.get_yticklabels()):\n",
    "    label.set_fontsize(14)\n",
    "plt.title(\"Summary Attendance for PHANINDRA A/L PAUL SARAVANAN\", fontsize=22)\n",
    "plt.xlabel(\"Subjects\", fontsize=20)\n",
    "plt.ylabel(\"Attendance\", fontsize=20)\n",
    "plt.ylim(0, 8)\n",
    "plt.grid()"
   ]
  },
  {
   "cell_type": "code",
   "execution_count": null,
   "id": "a6c215ec",
   "metadata": {},
   "outputs": [],
   "source": [
    "nan"
   ]
  }
 ],
 "metadata": {},
 "nbformat": 4,
 "nbformat_minor": 5
}
