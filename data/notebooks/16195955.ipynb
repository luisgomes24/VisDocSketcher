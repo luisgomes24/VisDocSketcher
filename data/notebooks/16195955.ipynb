{
 "cells": [
  {
   "cell_type": "markdown",
   "id": "66729277",
   "metadata": {},
   "source": [
    "**This notebook is an exercise in the [Microchallenges](https://www.kaggle.com/learn/microchallenges) course.  You can reference the tutorial at [this link](https://www.kaggle.com/alexisbcook/blackjack-microchallenge).**\n",
    "\n",
    "---\n"
   ]
  },
  {
   "cell_type": "markdown",
   "id": "dc2f0f0e",
   "metadata": {},
   "source": [
    "# Blackjack Rules\n",
    "\n",
    "We'll use a slightly simplified version of blackjack (aka twenty-one). In this version, there is one player (who you'll control) and a dealer. Play proceeds as follows:\n",
    "\n",
    "- The player is dealt two face-up cards. The dealer is dealt one face-up card.\n",
    "- The player may ask to be dealt another card ('hit') as many times as they wish. If the sum of their cards exceeds 21, they lose the round immediately.\n",
    "- The dealer then deals additional cards to himself until either:\n",
    "    - The sum of the dealer's cards exceeds 21, in which case the player wins the round, or\n",
    "    - The sum of the dealer's cards is greater than or equal to 17. If the player's total is greater than the dealer's, the player wins. Otherwise, the dealer wins (even in case of a tie).\n",
    "\n",
    "When calculating the sum of cards, Jack, Queen, and King count for 10. Aces can count as 1 or 11. (When referring to a player's \"total\" above, we mean the largest total that can be made without exceeding 21. So A+8 = 19, A+8+8 = 17.)\n",
    "\n",
    "# The Blackjack Player\n",
    "You'll write a function representing the player's decision-making strategy. Here is a simple (though unintelligent) example.\n",
    "\n",
    "**Run this code cell** so you can see simulation results below using the logic of never taking a new card."
   ]
  },
  {
   "cell_type": "code",
   "execution_count": null,
   "id": "87b3a8a0",
   "metadata": {},
   "outputs": [],
   "source": [
    "def should_hit(player_total, dealer_card_val, player_aces):\n",
    "    \"\"\"Return True if the player should hit (request another card) given the current game\n",
    "    state, or False if the player should stay. player_aces is the number of aces the player has.\n",
    "    \"\"\"\n",
    "    return False"
   ]
  },
  {
   "cell_type": "markdown",
   "id": "15e41dfd",
   "metadata": {},
   "source": [
    "We'll simulate games between your player agent and our own dealer agent by calling your function. So it must use the name `should_hit`."
   ]
  },
  {
   "cell_type": "markdown",
   "id": "2fe160e1",
   "metadata": {},
   "source": [
    "# The Blackjack Simulator\n",
    "\n",
    "Run the cell below to set up our simulator environment:"
   ]
  },
  {
   "cell_type": "code",
   "execution_count": null,
   "id": "a6546c37",
   "metadata": {},
   "outputs": [],
   "source": [
    "# SETUP. You don't need to worry for now about what this code does or how it works. \n",
    "# If you're curious about the code, it's available under an open source license at https://github.com/Kaggle/learntools/\n",
    "from learntools.core import binder; binder.bind(globals())\n",
    "from learntools.python.ex3 import q7 as blackjack\n",
    "# Returns a message \"Sorry, no auto-checking available for this question.\" (You can ignore.)\n",
    "blackjack.check()\n",
    "print('Setup complete.')"
   ]
  },
  {
   "cell_type": "markdown",
   "id": "9d5800c6",
   "metadata": {},
   "source": [
    "Once you have run the set-up code, you can see the action for a single game of blackjack with the following line:"
   ]
  },
  {
   "cell_type": "code",
   "execution_count": null,
   "id": "e162fd29",
   "metadata": {},
   "outputs": [],
   "source": [
    "blackjack.simulate_one_game()"
   ]
  },
  {
   "cell_type": "markdown",
   "id": "ba0f92b3",
   "metadata": {},
   "source": [
    "You can see how your player does in a sample of 50,000 games with the following command:"
   ]
  },
  {
   "cell_type": "code",
   "execution_count": null,
   "id": "387700c0",
   "metadata": {},
   "outputs": [],
   "source": [
    "blackjack.simulate(n_games=50000)"
   ]
  },
  {
   "cell_type": "markdown",
   "id": "0d36cf8e",
   "metadata": {},
   "source": [
    "# Your Turn\n",
    "\n",
    "Write your own `should_hit` function in the cell below. Then run the cell and see how your agent did in repeated play."
   ]
  },
  {
   "cell_type": "code",
   "execution_count": null,
   "id": "04e6dd97",
   "metadata": {},
   "outputs": [],
   "source": [
    "def should_hit(player_total, dealer_card_val, player_aces):\n",
    "    \"\"\"Return True if the player should hit (request another card) given the current game\n",
    "    state, or False if the player should stay. player_aces is the number of aces the player has.\n",
    "    \"\"\"\n",
    "    return False\n",
    "\n",
    "blackjack.simulate(n_games=50000)"
   ]
  },
  {
   "cell_type": "markdown",
   "id": "4c59a7c4",
   "metadata": {},
   "source": [
    "---\n",
    "**[Microchallenges Home Page](https://www.kaggle.com/learn/microchallenges)**\n",
    "\n",
    "\n",
    "*How high can you get your win rate?  Visit the [Learn Discussion forum](https://www.kaggle.com/learn-forum/58735) to discuss your results.*"
   ]
  }
 ],
 "metadata": {},
 "nbformat": 4,
 "nbformat_minor": 5
}
