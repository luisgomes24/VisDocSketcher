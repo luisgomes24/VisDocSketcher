{
 "cells": [
  {
   "cell_type": "markdown",
   "id": "9df4e18e",
   "metadata": {},
   "source": [
    "# Hypothesis Testing\n",
    "*Hypothesis testing is a statistical method that is used in making statistical decisions using experimental data. Hypothesis Testing is basically an assumption that we make about the population parameter.Hypothesis testing is an essential procedure in statistics. A hypothesis test evaluates two mutually exclusive statements about a population to determine which statement is best supported by the sample data. When we say that a finding is statistically significant, it’s thanks to a hypothesis test.*\n",
    "\n",
    "**Which are important parameter of hypothesis testing ?**\n",
    "\n",
    "**Null hypothesis** :- In inferential statistics, the null hypothesis is a general statement or default position that there is no relationship between two measured phenomena, or no association among groups\n",
    "**Alternative hypothesis** :-\n",
    "The alternative hypothesis is the hypothesis used in hypothesis testing that is contrary to the null hypothesis. It is usually taken to be that the observations are the result of a real effect (with some amount of chance variation superposed)\n",
    "\n",
    "**Normal Distribution -**\n",
    "A variable is said to be normally distributed or have a normal distribution if its distribution has the shape of a normal curve — a special bell-shaped curve. … The graph of a normal distribution is called the normal curve, which has all of the following properties: 1. The mean, median, and mode are equal.\n",
    "\n",
    "\n",
    "**Level of significance:** Refers to the degree of significance in which we accept or reject the null-hypothesis. 100% accuracy is not possible for accepting or rejecting a hypothesis, so we therefore select a level of significance that is usually 5%.\n",
    "This is normally denoted with alpha(maths symbol ) and generally it is 0.05 or 5% , which means your output should be 95% confident to give similar kind of result in each sample.\n",
    "\n",
    "**Type I error:** When we reject the null hypothesis, although that hypothesis was true. Type I error is denoted by alpha. In hypothesis testing, the normal curve that shows the critical region is called the alpha region\n",
    "\n",
    "**Type II errors:** When we accept the null hypothesis but it is false. Type II errors are denoted by beta. In Hypothesis testing, the normal curve that shows the acceptance region is called the beta region.\n",
    "\n",
    "**One tailed test :-** A test of a statistical hypothesis , where the region of rejection is on only one side of the sampling distribution , is called a one-tailed test.\n",
    "Example :- a college has ≥ 4000 student or data science ≤ 80% org adopted.\n",
    "\n",
    "**Two-tailed test :-** A two-tailed test is a statistical test in which the critical area of a distribution is two-sided and tests whether a sample is greater than or less than a certain range of values. If the sample being tested falls into either of the critical areas, the alternative hypothesis is accepted instead of the null hypothesis.\n",
    "\n",
    "\n",
    "![image.png](attachment:899634dc-f14b-4718-911e-08d3814bf0f4.png)\n",
    "\n",
    "\n",
    "\n",
    "\n",
    "\n",
    "\n",
    "\n",
    "\n",
    "\n",
    "\n",
    "\n",
    "\n",
    "\n",
    "**P-value :-** The P value, or calculated probability, is the probability of finding the observed, or more extreme, results when the null hypothesis (H 0) of a study question is true — the definition of ‘extreme’ depends on how the hypothesis is being tested.\n",
    "If your P value is less than the chosen significance level then you reject the null hypothesis i.e. accept that your sample gives reasonable evidence to support the alternative hypothesis. It does NOT imply a “meaningful” or “important” difference; that is for you to decide when considering the real-world relevance of your result.\n",
    "Example : you have a coin and you don’t know whether that is fair or tricky so let’s decide null and alternate hypothesis\n",
    "\n",
    "Example : you have a coin and you don’t know whether that is fair or tricky so let’s decide null and alternate hypothesis\n",
    "\n",
    "![image.png](attachment:41dcbddd-3094-4718-b6bf-8949f6963c08.png)\n",
    "\n",
    "H0 : a coin is a fair coin.\n",
    "\n",
    "H1 : a coin is a tricky coin. and alpha = 5% or 0.05\n",
    "\n",
    "Now let’s toss the coin and calculate p- value ( probability value).\n",
    "\n",
    "Toss a coin 1st time and result is tail- P-value = 50% (as head and tail have equal probability)\n",
    "\n",
    "Toss a coin 2nd time and result is tail, now p-value = 50/2 = 25%\n",
    "and similarly we Toss 6 consecutive time and got result as P-value = 1.5% but we set our significance level as 95% means 5% error rate we allow and here we see we are beyond that level i.e. our null- hypothesis does not hold good so we need to reject and propose that this coin is a tricky coin which is actually.\n",
    "\n",
    "**Degree of freedom :-** Now imagine you’re not into hats. You’re into data analysis.You have a data set with 10 values. If you’re not estimating anything, each value can take on any number, right? Each value is completely free to vary.But suppose you want to test the population mean with a sample of 10 values, using a 1-sample t test. You now have a constraint — the estimation of the mean. What is that constraint, exactly? By definition of the mean, the following relationship must hold: The sum of all values in the data must equal n x mean, where n is the number of values in the data set.\n",
    "\n",
    "So if a data set has 10 values, the sum of the 10 values must equal the mean x 10. If the mean of the 10 values is 3.5 (you could pick any number), this constraint requires that the sum of the 10 values must equal 10 x 3.5 = 35.\n",
    "\n",
    "With that constraint, the first value in the data set is free to vary. Whatever value it is, it’s still possible for the sum of all 10 numbers to have a value of 35. The second value is also free to vary, because whatever value you choose, it still allows for the possibility that the sum of all the values is 35.\n",
    "\n",
    "\n",
    "![image.png](attachment:6e7b86a5-8feb-42d5-b53f-3349441cc4e2.png)\n",
    "\n",
    "**Now Let’s see some of widely used hypothesis testing type :-**\n",
    "\n",
    "**T Test ( Student T test)**\n",
    "\n",
    "**Z Test**\n",
    "\n",
    "**ANOVA Test**\n",
    "\n",
    "**Chi-Square Test**"
   ]
  },
  {
   "cell_type": "markdown",
   "id": "12144f9c",
   "metadata": {},
   "source": [
    "## Loading required libraries"
   ]
  },
  {
   "cell_type": "code",
   "execution_count": null,
   "id": "e5193a37",
   "metadata": {},
   "outputs": [],
   "source": [
    "import pandas as pd\n",
    "import numpy as np\n",
    "import matplotlib.pyplot as plt\n",
    "import seaborn as sns\n",
    "from scipy import stats\n",
    "import scipy.stats\n",
    "np.random.seed(0)\n",
    "sns.set_style(\"darkgrid\")\n",
    "import os\n",
    "os.listdir(\"../input\")\n",
    "import warnings\n",
    "warnings.filterwarnings(\"ignore\")"
   ]
  },
  {
   "cell_type": "markdown",
   "id": "9f31bfa6",
   "metadata": {},
   "source": [
    "## Importing the data"
   ]
  },
  {
   "cell_type": "code",
   "execution_count": null,
   "id": "f0fb0371",
   "metadata": {},
   "outputs": [],
   "source": [
    "df = pd.read_csv(\"../input/students-performance-in-exams/StudentsPerformance.csv\")"
   ]
  },
  {
   "cell_type": "markdown",
   "id": "342f146e",
   "metadata": {},
   "source": [
    "## Descriptive Statistics"
   ]
  },
  {
   "cell_type": "code",
   "execution_count": null,
   "id": "89b6d2d6",
   "metadata": {},
   "outputs": [],
   "source": [
    "df.head()"
   ]
  },
  {
   "cell_type": "code",
   "execution_count": null,
   "id": "5317134d",
   "metadata": {},
   "outputs": [],
   "source": [
    "df.shape"
   ]
  },
  {
   "cell_type": "code",
   "execution_count": null,
   "id": "8c6c434e",
   "metadata": {},
   "outputs": [],
   "source": [
    "df.info()"
   ]
  },
  {
   "cell_type": "code",
   "execution_count": null,
   "id": "aef568c2",
   "metadata": {},
   "outputs": [],
   "source": [
    "df.describe()"
   ]
  },
  {
   "cell_type": "markdown",
   "id": "23012e75",
   "metadata": {},
   "source": [
    "From above description of numerical data, the mean and median(50%) are almost same for all three columns, hence we may say that our data is normally distributed rest we may confirm after plotting the columns."
   ]
  },
  {
   "cell_type": "code",
   "execution_count": null,
   "id": "0a7b0242",
   "metadata": {},
   "outputs": [],
   "source": [
    "# Dividing the dataset into numerical and categorical data\n",
    "cat_data = [cname for cname in df.columns if df[cname].dtype == \"object\"]\n",
    "num_data = [cname for cname in df.columns if df[cname].dtype == 'int64']"
   ]
  },
  {
   "cell_type": "code",
   "execution_count": null,
   "id": "9fec3a1c",
   "metadata": {},
   "outputs": [],
   "source": [
    "# Getting the number of unique entries of each columns in categorical data\n",
    "cat_entries = list(map(lambda col: df[col].nunique(), cat_data))\n",
    "d = dict(zip(cat_data,cat_entries))\n",
    "# printing number of unique entries of columns in ascending order\n",
    "sorted(d.items(),key=lambda x : x[1])"
   ]
  },
  {
   "cell_type": "code",
   "execution_count": null,
   "id": "faa2cd11",
   "metadata": {},
   "outputs": [],
   "source": [
    "df['parental level of education'].value_counts()"
   ]
  },
  {
   "cell_type": "code",
   "execution_count": null,
   "id": "130f807d",
   "metadata": {},
   "outputs": [],
   "source": [
    "df['race/ethnicity'].value_counts()"
   ]
  },
  {
   "cell_type": "markdown",
   "id": "23d678a6",
   "metadata": {},
   "source": [
    "## Visualizing the data"
   ]
  },
  {
   "cell_type": "code",
   "execution_count": null,
   "id": "648b92c1",
   "metadata": {},
   "outputs": [],
   "source": [
    "# for i in cat_num\n",
    "sns.countplot(x = 'gender', data=df)"
   ]
  },
  {
   "cell_type": "code",
   "execution_count": null,
   "id": "38c9546c",
   "metadata": {},
   "outputs": [],
   "source": [
    "sns.countplot(x = 'lunch', data=df)"
   ]
  },
  {
   "cell_type": "code",
   "execution_count": null,
   "id": "5077e9cc",
   "metadata": {},
   "outputs": [],
   "source": [
    "sns.countplot(x = 'race/ethnicity', data=df)"
   ]
  },
  {
   "cell_type": "code",
   "execution_count": null,
   "id": "c4baed4f",
   "metadata": {},
   "outputs": [],
   "source": [
    "sns.countplot(x = 'test preparation course', data=df,hue='gender')"
   ]
  },
  {
   "cell_type": "code",
   "execution_count": null,
   "id": "8abce6f4",
   "metadata": {},
   "outputs": [],
   "source": [
    "sns.countplot(x = 'parental level of education', data=df)\n",
    "plt.xticks(rotation = 70)\n",
    "plt.show()"
   ]
  },
  {
   "cell_type": "code",
   "execution_count": null,
   "id": "8e0811db",
   "metadata": {},
   "outputs": [],
   "source": [
    "sns.catplot(x='gender',data=df,kind = 'count',hue='test preparation course',row='race/ethnicity',)"
   ]
  },
  {
   "cell_type": "code",
   "execution_count": null,
   "id": "17ae1b6b",
   "metadata": {},
   "outputs": [],
   "source": [
    "df.corr()"
   ]
  },
  {
   "cell_type": "code",
   "execution_count": null,
   "id": "111ef70a",
   "metadata": {},
   "outputs": [],
   "source": [
    "sns.scatterplot(x='writing score',y='math score',hue='gender', data=df)"
   ]
  },
  {
   "cell_type": "code",
   "execution_count": null,
   "id": "4de5e43b",
   "metadata": {},
   "outputs": [],
   "source": [
    "# Using the normal.cdf package in scipy.stats, finding the probability value\n",
    "math_prob = scipy.stats.norm.cdf((90-df['writing score'].mean())/df['writing score'].std())\n",
    "print(1-math_prob)"
   ]
  },
  {
   "cell_type": "code",
   "execution_count": null,
   "id": "7f5c4518",
   "metadata": {},
   "outputs": [],
   "source": [
    "sns.pairplot(df)"
   ]
  },
  {
   "cell_type": "markdown",
   "id": "489ac2b9",
   "metadata": {},
   "source": [
    "## From the plot above we can notice:\n",
    "1) the outliers, as there are many data points which lie far away from maximum points.\n",
    "\n",
    "2) All of the pairplots seems to have a linear relationship with the other variable. To clarify that we'll plot the correlation map.\n"
   ]
  },
  {
   "cell_type": "code",
   "execution_count": null,
   "id": "e26bb44b",
   "metadata": {},
   "outputs": [],
   "source": [
    "sns.heatmap(df.corr(), annot=True)\n",
    "plt.yticks(rotation = 45)"
   ]
  },
  {
   "cell_type": "markdown",
   "id": "1ec8dd7f",
   "metadata": {},
   "source": [
    "### Pearson Correlation test(for numerical variable)\n",
    "#### Ho = have correlation\n",
    "#### H1 = do not have correlation"
   ]
  },
  {
   "cell_type": "code",
   "execution_count": null,
   "id": "1bddafd8",
   "metadata": {},
   "outputs": [],
   "source": [
    "math_reading = scipy.stats.pearsonr(df['math score'],df['reading score'])\n",
    "writing_reading = scipy.stats.pearsonr(df['writing score'],df['reading score'])\n",
    "math_writing = scipy.stats.pearsonr(df['math score'],df['writing score'])\n",
    "print(\"Test Statistic and p-value for correlation between math and reading score is\", math_reading)\n",
    "print('\\n')\n",
    "print(\"Test Statistic and p-value for correlation between writing and reading score is\", writing_reading)\n",
    "print('\\n')\n",
    "print(\"Test Statistic and p-value for correlation between math and writing score is\", math_reading)"
   ]
  },
  {
   "cell_type": "markdown",
   "id": "ed23c96b",
   "metadata": {},
   "source": [
    "### Result\n",
    "**At 5% level of significance**\n",
    "\n",
    "**From above test,**\n",
    "\n",
    "**since all the three p-values are less than 0.05.** \n",
    "\n",
    "**Conclusion:** We will reject the null hypothesis and accept the alternate hypothesis.\n",
    "\n",
    "**Inference:** The scores have a correlation between them."
   ]
  },
  {
   "cell_type": "code",
   "execution_count": null,
   "id": "32bc243e",
   "metadata": {},
   "outputs": [],
   "source": [
    "cont_table  = pd.crosstab(df['lunch'], df['gender'])\n",
    "cont_table"
   ]
  },
  {
   "cell_type": "markdown",
   "id": "8b41587c",
   "metadata": {},
   "source": [
    "### Correlation Test\n",
    "#### Chi square test(For categorical variable)\n",
    "##### The formula for Chi-square is given as follows.The summation of the observed value, i.e the counts in each group minus the expected value,all squared, divided by the expected value. Expected values are based on the given totals."
   ]
  },
  {
   "cell_type": "code",
   "execution_count": null,
   "id": "7cc7eac4",
   "metadata": {},
   "outputs": [],
   "source": [
    "scipy.stats.chi2_contingency(cont_table,correction=False)"
   ]
  },
  {
   "cell_type": "markdown",
   "id": "ac30a4a0",
   "metadata": {},
   "source": [
    "**The table shows expected value at 5% level of significance.**"
   ]
  },
  {
   "cell_type": "code",
   "execution_count": null,
   "id": "653ba4b6",
   "metadata": {},
   "outputs": [],
   "source": [
    "# Probability value of student who scored less than 30 out of 100 in reading\n",
    "scipy.stats.norm.cdf((30-df['reading score'].mean())/df['math score'].std())"
   ]
  },
  {
   "cell_type": "code",
   "execution_count": null,
   "id": "35e7e2e2",
   "metadata": {},
   "outputs": [],
   "source": [
    "# Lets check more about outliers \n",
    "sns.boxplot(data=df,x = 'reading score')"
   ]
  },
  {
   "cell_type": "code",
   "execution_count": null,
   "id": "10be1d66",
   "metadata": {},
   "outputs": [],
   "source": [
    "# Probability value of student who scored less than 30 out of 100 in writing\n",
    "scipy.stats.norm.cdf((30-df['writing score'].mean())/df['writing score'].std())"
   ]
  },
  {
   "cell_type": "code",
   "execution_count": null,
   "id": "0a5f97b5",
   "metadata": {},
   "outputs": [],
   "source": [
    "sns.boxplot(data=df,x = 'writing score')"
   ]
  },
  {
   "cell_type": "code",
   "execution_count": null,
   "id": "23a814eb",
   "metadata": {},
   "outputs": [],
   "source": [
    "# Probability value of student who scored less than 30 out of 100 in maths\n",
    "scipy.stats.norm.cdf((30-df['math score'].mean())/df['math score'].std())"
   ]
  },
  {
   "cell_type": "code",
   "execution_count": null,
   "id": "1aa73ad4",
   "metadata": {},
   "outputs": [],
   "source": [
    "sns.boxplot(data=df,x = 'math score')"
   ]
  },
  {
   "cell_type": "code",
   "execution_count": null,
   "id": "7523e81f",
   "metadata": {},
   "outputs": [],
   "source": [
    "from scipy.stats import norm\n",
    "\n",
    "# Plot between -4 and 4 with 0.1 steps.\n",
    "x_axis = np.arange(-4, 4, 0.1)\n",
    "# Mean = 0, SD = 1.\n",
    "plt.plot(x_axis, norm.pdf(x_axis, 0, 1))\n",
    "plt.show()"
   ]
  },
  {
   "cell_type": "code",
   "execution_count": null,
   "id": "78284f87",
   "metadata": {},
   "outputs": [],
   "source": [
    "ax = sns.distplot(df['writing score'],\n",
    "                  bins=20,\n",
    "                  kde=True,\n",
    "                  color='red',\n",
    "                  hist_kws={\"linewidth\": 15,'alpha':1})\n",
    "ax.set(xlabel='Normal Distribution', ylabel='Frequency')\n",
    "## we can assume it is normal"
   ]
  },
  {
   "cell_type": "code",
   "execution_count": null,
   "id": "272b6619",
   "metadata": {},
   "outputs": [],
   "source": [
    "ax = sns.distplot(df['math score'],\n",
    "                  bins=20,\n",
    "                  kde=True,\n",
    "                  color='green',\n",
    "                  hist_kws={\"linewidth\": 15,'alpha':1})\n",
    "ax.set(xlabel='Normal Distribution', ylabel='Frequency')"
   ]
  },
  {
   "cell_type": "code",
   "execution_count": null,
   "id": "7b714a26",
   "metadata": {},
   "outputs": [],
   "source": [
    "ax = sns.distplot(df['reading score'],\n",
    "                  bins=20,\n",
    "                  kde=True,\n",
    "                  color='blue',\n",
    "                  hist_kws={\"linewidth\": 15,'alpha':1})\n",
    "ax.set(xlabel='Normal Distribution', ylabel='Frequency')"
   ]
  },
  {
   "cell_type": "markdown",
   "id": "f64699c6",
   "metadata": {},
   "source": [
    "From the distribution plots above all three have almost normal distribution."
   ]
  },
  {
   "cell_type": "markdown",
   "id": "81f8326c",
   "metadata": {},
   "source": [
    "**Lets perform t test to check whether there is a significant difference between scores regards to gender.**\n",
    "\n",
    "Ho : The score of males is equal to score of females.\n",
    "\n",
    "H1 : The score of males is not equal to score of females."
   ]
  },
  {
   "cell_type": "code",
   "execution_count": null,
   "id": "4770166f",
   "metadata": {},
   "outputs": [],
   "source": [
    "# Levene's Test - Equality of variance test\n",
    "# Ho : Female and male have equal variance\n",
    "# H1 : Female and male do not have equal variance\n",
    "math_var = scipy.stats.levene(df[df['gender']=='female']['math score'],\n",
    "                  df[df['gender']=='male']['math score'], center = 'mean')\n",
    "reading_var = scipy.stats.levene(df[df['gender']=='female']['reading score'],\n",
    "                  df[df['gender']=='male']['reading score'], center = 'mean')\n",
    "writing_var = scipy.stats.levene(df[df['gender']=='female']['writing score'],\n",
    "                  df[df['gender']=='male']['writing score'], center = 'mean')\n",
    "print(\"Test Statistic and p-value for math  is\", math_var)\n",
    "print('\\n')\n",
    "print(\"Test Statistic and p-value for writing is\", writing_var)\n",
    "print('\\n')\n",
    "print(\"Test Statistic and p-value for reading is\", reading_var)"
   ]
  },
  {
   "cell_type": "markdown",
   "id": "9836e920",
   "metadata": {},
   "source": [
    "**Conclusion :** Since, at 5% level of significance, P(calculated) > P(0.05).\n",
    "\n",
    "Therefore we will accept the null hypothesis\n",
    "\n",
    "**Inference :** All the scores have equal variance with respect to gender."
   ]
  },
  {
   "cell_type": "code",
   "execution_count": null,
   "id": "7eff6188",
   "metadata": {},
   "outputs": [],
   "source": [
    "# t test\n",
    "math_score = scipy.stats.ttest_ind(df[df['gender']=='female']['math score'],df[df['gender']=='male']['math score'], equal_var = True)\n",
    "writing_score  = scipy.stats.ttest_ind(df[df['gender']=='female']['writing score'],df[df['gender']=='male']['writing score'], equal_var = True)\n",
    "reading_score = scipy.stats.ttest_ind(df[df['gender']=='female']['reading score'],df[df['gender']=='male']['reading score'], equal_var = True)\n",
    "print(\"Test Statistic and p-value for math score is\", math_score)\n",
    "print('\\n')\n",
    "print(\"Test Statistic and p-value for writing score is\", writing_score)\n",
    "print('\\n')\n",
    "print(\"Test Statistic and p-value for reading score is\", reading_score)"
   ]
  },
  {
   "cell_type": "markdown",
   "id": "6a919a26",
   "metadata": {},
   "source": [
    "**At 5% level of significance**\n",
    "\n",
    "**From above test,**\n",
    "\n",
    "**since all the three p-values are less than 0.05.** \n",
    "\n",
    "**Conclusion: We will reject the null hypothesis and accept the alternate hypothesis.**\n",
    "\n",
    "**Inference: The scores of male and female are not equal.**"
   ]
  },
  {
   "cell_type": "code",
   "execution_count": null,
   "id": "f8968806",
   "metadata": {},
   "outputs": [],
   "source": [
    "math_mean = round(df['math score'].mean(),4)\n",
    "math_sd = round(df['math score'].std(),4)\n",
    "print(\" Mean is\",math_mean,\"and\",'\\n',\"Standard Deviation is\",math_sd)"
   ]
  },
  {
   "cell_type": "markdown",
   "id": "7aae0543",
   "metadata": {},
   "source": [
    "Standard Normal Table\n",
    "You can use the z-table to find a set of “less-than” probabilities for a wide range of z-values. To use the z-table to find probabilities::\n",
    "\n",
    "Go to the row that represents the first digit and the first digit after the decimal point of your z-value. (e.g 0.9 in 0.93)\n",
    "Go to the column that represents the second digit after the decimal point of your z-value.   (e.g 3 in 0.93, this will be 0.03 in the column)\n",
    "Intersect the row and column from Steps 1 and 2.\n",
    "For example, suppose you want to find the probability of z-score less than 1.44 denoted as p(Z < 1.44). Using the second Z-table below, find the row for 1.4 and the column for 0.04. Intersect that row and column to find the probability: 0.92507. Therefore p(Z < 1.44) = 0.92507.\n",
    "\n",
    "The area under any normal curve (including the standardized normal curve) is 1, that means that, p(Z < 1.44) + p(Z > 1.44) =1. Therefore, the probability of z-score greater than 1.44 i.e. p(Z > 1.44) = 1 – p(Z < 1.44) which equals 1 – 0.92507 which equals 0.07493.\n",
    "\n",
    "Suppose you want to look for p(Z < –1.44). You find the row for –1.14 and the column for 0.04. Intersect the row and column and you find 0.07493. That means p(Z < –1.44) = 0.07493. This happens to be the same as the value of p(Z > +1.44). This is because the normal distribution is symmetric. So the tail of the curve below –1.44 representing p(Z < –1.44) looks exactly like the tail above 1.44 representing p(Z > +1.44).\n",
    "\n",
    "You can also do a reverse lookup, assuming you are told that the age of grade 1 kindergarten pupils in Kampala city is normally distributed with a mean of 6 years. If only 0.71% (same as 0.0071) of the pupils are 8 years and above, what is the z-score?\n",
    "\n",
    "We can look within the negative box for the z-score closest to 0.0071. In this case -2.45, but because we are looking at the right-tailed test, we get rid of the negative sign i.e.z-value  = 2.45 (Note: if it was a left-tailed test e.g. 0.71% of them were less than 3 years old, we will use the value as-is) OR\n",
    "\n",
    "We can look within the positive table, for the value that corresponds to 1-0.0071 = 0.99286 (we do this because the standard normal table always gives you values to the left, so to get values to the right, you will have to remove from 1). The value that corresponds to this will be 2.45.\n",
    "\n",
    "To make things easier, you can also use a \"z-score from p-value\" or a \"p-value from z-score\" calculator online.\n",
    "\n",
    "\n"
   ]
  },
  {
   "cell_type": "code",
   "execution_count": null,
   "id": "a1cf8015",
   "metadata": {},
   "outputs": [],
   "source": [
    "## because it is a two-tailed test we multiply by 2\n",
    "## Z- test\n",
    "2*round(scipy.stats.norm.cdf((10.7 - 12)/(5.5/np.sqrt(36))), 3)"
   ]
  },
  {
   "cell_type": "code",
   "execution_count": null,
   "id": "4a9812d6",
   "metadata": {},
   "outputs": [],
   "source": [
    "# Levene's Test - Equality of variance test\n",
    "# Ho : Female and male have equal variance\n",
    "# H1 : Female and male do not have equal variance\n",
    "math_var = scipy.stats.levene(df[df['test preparation course']=='none']['math score'],\n",
    "                  df[df['test preparation course']=='completed']['math score'], center = 'mean')\n",
    "reading_var = scipy.stats.levene(df[df['test preparation course']=='none']['reading score'],\n",
    "                  df[df['test preparation course']=='completed']['reading score'], center = 'mean')\n",
    "writing_var = scipy.stats.levene(df[df['test preparation course']=='none']['writing score'],\n",
    "                  df[df['test preparation course']=='completed']['writing score'], center = 'mean')\n",
    "print(\"Test Statistic and p-value for math  is\", math_var)\n",
    "print(\"Test Statistic and p-value for writing is\", writing_var)\n",
    "print(\"Test Statistic and p-value for reading is\", reading_var)"
   ]
  },
  {
   "cell_type": "markdown",
   "id": "f0fb8c41",
   "metadata": {},
   "source": [
    "### Result\n",
    "**At 5% level of significance, p value for maths and writing score is greater than 0.05 and for writing it is less than 0.05.**\n",
    "\n",
    "**Therefore, for maths and writing, studens who with preparation course and students with no preparation course both have equal variance.**\n",
    "**But in reading it is not same.**\n"
   ]
  },
  {
   "cell_type": "code",
   "execution_count": null,
   "id": "d343f545",
   "metadata": {},
   "outputs": [],
   "source": [
    "## z-test\n",
    "math_z_test = 2*round(scipy.stats.norm.cdf((10.7 - 12)/(5.5/np.sqrt(36))), 3)"
   ]
  },
  {
   "cell_type": "code",
   "execution_count": null,
   "id": "12677b30",
   "metadata": {},
   "outputs": [],
   "source": [
    "# One Way ANOVA\n",
    "# The one-way ANOVA tests the null hypothesis that two or more groups have the same population mean. \n",
    "# The test is applied to samples from two or more groups, possibly with differing sizes.\n",
    "f, p = scipy.stats.f_oneway(df['math score'], df['reading score'], df['writing score'])\n",
    "print(\"F-Statistic = \",f, \"and P-value = \",p)\n",
    "# f_oneway accepts multidimensional input arrays. \n",
    "# When the inputs are multidimensional and axis is not given, the test is performed along the first\n",
    "# axis of the input arrays. For the following data, the test is performed three times, once for each column."
   ]
  },
  {
   "cell_type": "markdown",
   "id": "73243ca1",
   "metadata": {},
   "source": [
    "### Result\n",
    "**From the p-value we can state that all three subjects have different population mean.**"
   ]
  }
 ],
 "metadata": {},
 "nbformat": 4,
 "nbformat_minor": 5
}
