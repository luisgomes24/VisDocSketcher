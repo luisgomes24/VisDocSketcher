{
 "cells": [
  {
   "cell_type": "code",
   "execution_count": null,
   "id": "6aa32ecb",
   "metadata": {},
   "outputs": [],
   "source": [
    "# This Python 3 environment comes with many helpful analytics libraries installed\n",
    "# It is defined by the kaggle/python Docker image: https://github.com/kaggle/docker-python\n",
    "# For example, here's several helpful packages to load\n",
    "\n",
    "import numpy as np # linear algebra\n",
    "import pandas as pd # data processing, CSV file I/O (e.g. pd.read_csv)\n",
    "\n",
    "# Input data files are available in the read-only \"../input/\" directory\n",
    "# For example, running this (by clicking run or pressing Shift+Enter) will list all files under the input directory\n",
    "\n",
    "import os\n",
    "for dirname, _, filenames in os.walk('/kaggle/input'):\n",
    "    for filename in filenames:\n",
    "        print(os.path.join(dirname, filename))\n",
    "\n",
    "# You can write up to 20GB to the current directory (/kaggle/working/) that gets preserved as output when you create a version using \"Save & Run All\" \n",
    "# You can also write temporary files to /kaggle/temp/, but they won't be saved outside of the current session"
   ]
  },
  {
   "cell_type": "markdown",
   "id": "68b13d2f",
   "metadata": {},
   "source": [
    "![This is an image](https://icdn.benchwarmers.ie/wp-content/uploads/2016/05/uefa-champions-league-2015-2016-football-star-players.jpg)"
   ]
  },
  {
   "cell_type": "markdown",
   "id": "96527775",
   "metadata": {},
   "source": [
    "# **LOADING LIBRARIES**"
   ]
  },
  {
   "cell_type": "code",
   "execution_count": null,
   "id": "a6e8324f",
   "metadata": {},
   "outputs": [],
   "source": [
    "from sklearn.linear_model import LinearRegression, Ridge, Lasso, ElasticNet\n",
    "from sklearn.svm import SVR\n",
    "from sklearn.neighbors import KNeighborsRegressor\n",
    "from sklearn.tree import DecisionTreeRegressor\n",
    "from sklearn.ensemble import RandomForestRegressor, GradientBoostingRegressor, VotingRegressor\n",
    "from xgboost import XGBRegressor\n",
    "from lightgbm import LGBMRegressor\n",
    "from catboost import CatBoostRegressor\n",
    "from sklearn.metrics import mean_squared_error\n",
    "from sklearn.model_selection import GridSearchCV, cross_val_score, cross_validate\n",
    "import itertools\n",
    "import warnings\n",
    "import matplotlib.pyplot as plt\n",
    "import numpy as np\n",
    "import pandas as pd\n",
    "import statsmodels.api as sm\n",
    "from sklearn.metrics import mean_absolute_error\n",
    "from statsmodels.tsa.arima_model import ARIMA\n",
    "from statsmodels.tsa.holtwinters import ExponentialSmoothing\n",
    "from statsmodels.tsa.holtwinters import SimpleExpSmoothing\n",
    "from statsmodels.tsa.seasonal import seasonal_decompose\n",
    "import statsmodels.tsa.api as smt\n",
    "from statsmodels.tsa.statespace.sarimax import SARIMAX\n",
    "\n",
    "import matplotlib.pyplot as plt # this is used for the plot the graph\n",
    "import seaborn as sns # used for plot interactive graph.\n",
    "from sklearn.model_selection import train_test_split # to split the data into two parts\n",
    "from sklearn.model_selection import KFold # use for cross validation\n",
    "from sklearn.preprocessing import StandardScaler # for normalization\n",
    "from sklearn.preprocessing import MinMaxScaler\n",
    "from sklearn.pipeline import Pipeline # pipeline making\n",
    "from sklearn.model_selection import cross_val_score\n",
    "from sklearn.feature_selection import SelectFromModel\n",
    "from sklearn import metrics # for the check the error and accuracy of the model\n",
    "from sklearn.metrics import mean_squared_error,r2_score\n",
    "\n",
    "## for Deep-learing:\n",
    "#import keras\n",
    "from keras.layers import Dense, BatchNormalization\n",
    "from keras.models import Sequential\n",
    "#from keras.utils import to_categorical\n",
    "#from keras.optimizers import SGD\n",
    "#from keras.callbacks import EarlyStopping\n",
    "#from keras.utils import np_utils\n",
    "import itertools\n",
    "\n",
    "\n",
    "\n",
    "warnings.filterwarnings('ignore')\n",
    "import tensorflow as tf\n",
    "import pandas as pd\n",
    "import numpy as np\n",
    "import sqlite3\n",
    "import seaborn as sns\n",
    "import matplotlib.pyplot as plt\n",
    "import pandas as pd\n",
    "import numpy as np\n",
    "from sklearn.cluster import KMeans\n",
    "from sklearn.preprocessing import LabelEncoder\n",
    "from sklearn.model_selection import train_test_split, GridSearchCV\n",
    "from sklearn.metrics import mean_squared_error, r2_score\n",
    "import matplotlib.pyplot as plt\n",
    "from sklearn.model_selection import cross_val_score\n",
    "from sklearn.preprocessing import scale\n",
    "from sklearn.preprocessing import StandardScaler\n",
    "from sklearn import model_selection\n",
    "from sklearn.linear_model import LinearRegression\n",
    "from sklearn.tree import DecisionTreeRegressor\n",
    "from sklearn.neighbors import KNeighborsRegressor\n",
    "from sklearn.neural_network import MLPRegressor\n",
    "from sklearn.ensemble import RandomForestRegressor\n",
    "from sklearn.ensemble import GradientBoostingRegressor\n",
    "import numpy as np\n",
    "from sklearn.neighbors import LocalOutlierFactor\n",
    "from sklearn import neighbors\n",
    "from sklearn.svm import SVR\n",
    "from sklearn.metrics import mean_squared_error,r2_score\n",
    "from sklearn.model_selection import cross_val_score,train_test_split,GridSearchCV\n",
    "from xgboost import XGBRegressor\n",
    "from lightgbm import LGBMRegressor\n",
    "from sklearn import preprocessing\n",
    "from sklearn.preprocessing import scale\n",
    "from sklearn.metrics import mean_squared_log_error\n",
    "import glob\n",
    "import time\n",
    "import numpy as np\n",
    "import pandas as pd\n",
    "from matplotlib import pyplot as plt\n",
    "import seaborn as sns\n",
    "import lightgbm as lgb\n",
    "from sklearn.preprocessing import StandardScaler\n",
    "from sklearn.decomposition import PCA\n",
    "import warnings\n",
    "from sklearn.preprocessing import OrdinalEncoder\n",
    "\n",
    "import warnings\n",
    "warnings.filterwarnings(\"ignore\", category=DeprecationWarning)\n",
    "warnings.filterwarnings(\"ignore\", category=FutureWarning)\n",
    "\n",
    "\n",
    "pd.set_option('display.max_columns', None)\n",
    "pd.set_option('display.max_rows', None)\n",
    "pd.set_option('display.float_format', lambda x: '%.3f' % x)\n",
    "pd.set_option('display.width', 500)\n",
    "\n"
   ]
  },
  {
   "cell_type": "markdown",
   "id": "d59511ed",
   "metadata": {},
   "source": [
    "# **LOADING DATASET**"
   ]
  },
  {
   "cell_type": "code",
   "execution_count": null,
   "id": "84ea1e35",
   "metadata": {},
   "outputs": [],
   "source": [
    "df=pd.read_csv(\"../input/oyuncu-csv/oyuncu.csv\",index_col=0)\n",
    "df.dropna(inplace=True)"
   ]
  },
  {
   "cell_type": "markdown",
   "id": "f480b167",
   "metadata": {},
   "source": [
    "# **FUNCTIONS**"
   ]
  },
  {
   "cell_type": "code",
   "execution_count": null,
   "id": "533e563d",
   "metadata": {},
   "outputs": [],
   "source": [
    "def degisken_tiplerine_ayirma(data,cat_th,car_th):\n",
    "   \"\"\"\n",
    "   Veri:data parametresi ili fonksiyona girilen verinin değişkenlerin sınıflandırılması.\n",
    "   Parameters\n",
    "   ----------\n",
    "   data: pandas.DataFrame\n",
    "   İşlem yapılacak veri seti\n",
    "   cat_th:int\n",
    "   categoric değişken threshold değeri\n",
    "   car_th:int\n",
    "   Cardinal değişkenler için threshold değeri\n",
    "   Returns\n",
    "   -------\n",
    "    cat_deg:list\n",
    "    categorik değişken listesi\n",
    "    num_deg:list\n",
    "    numeric değişken listesi\n",
    "    car_deg:list\n",
    "    categoric ama cardinal değişken listesi\n",
    "   Examples\n",
    "   -------\n",
    "    df = dataset_yukle(\"breast_cancer\")\n",
    "    cat,num,car=degisken_tiplerine_ayirma(df,10,20)\n",
    "   Notes\n",
    "   -------\n",
    "    cat_deg + num_deg + car_deg = toplam değişken sayısı\n",
    "   \"\"\"\n",
    "\n",
    "\n",
    "   num_but_cat=[i for i in data.columns if data[i].dtypes !=\"O\" and data[i].nunique() < cat_th]\n",
    "\n",
    "   car_deg=[i for i in data.columns if data[i].dtypes == \"O\" and data[i].nunique() > car_th]\n",
    "\n",
    "   num_deg=[i for i in data.columns if data[i].dtypes !=\"O\" and i not in num_but_cat]\n",
    "\n",
    "   cat_deg = [i for i in data.columns if data[i].dtypes == \"O\" and i not in car_deg]\n",
    "\n",
    "   cat_deg = cat_deg+num_but_cat\n",
    "\n",
    "   print(f\"Dataset kolon/değişken sayısı: {data.shape[1]}\")\n",
    "   print(f\"Dataset satır/veri sayısı: {data.shape[0]}\")\n",
    "   print(\"********************************************\")\n",
    "   print(f\"Datasetin numeric değişken sayısı: {len(num_deg)}\")\n",
    "   print(f\"Datasetin numeric değişkenler: {num_deg}\")\n",
    "   print(\"********************************************\")\n",
    "   print(f\"Datasetin categoric değişken sayısı: {len(cat_deg)}\")\n",
    "   print(f\"Datasetin categoric değişkenler: {cat_deg}\")\n",
    "   print(\"********************************************\")\n",
    "   print(f\"Datasetin cardinal değişken sayısı: {len(car_deg)}\")\n",
    "   print(f\"Datasetin cardinal değişkenler: {car_deg}\")\n",
    "   print(\"********************************************\")\n",
    "\n",
    "   return cat_deg,num_deg,car_deg\n"
   ]
  },
  {
   "cell_type": "markdown",
   "id": "88025b6b",
   "metadata": {},
   "source": [
    "# **PREPROCESSING**"
   ]
  },
  {
   "cell_type": "code",
   "execution_count": null,
   "id": "24fe68c4",
   "metadata": {},
   "outputs": [],
   "source": [
    "cat_deg,num_deg,car_deg=degisken_tiplerine_ayirma(df,10,20)\n",
    "aybars=df.groupby('Player_name').mean()\n",
    "aybars=aybars.reset_index()"
   ]
  },
  {
   "cell_type": "code",
   "execution_count": null,
   "id": "1676aab7",
   "metadata": {},
   "outputs": [],
   "source": [
    "cat_deg,num_deg,car_deg=degisken_tiplerine_ayirma(aybars,10,20)\n",
    "kmeans = KMeans()\n",
    "num_deg=[i for i in num_deg if i not in ['id', 'player_fifa_api_id', 'player_api_id']]\n",
    "aybars[num_deg] = StandardScaler().fit_transform(aybars[num_deg])\n"
   ]
  },
  {
   "cell_type": "markdown",
   "id": "ead0d642",
   "metadata": {},
   "source": [
    "# **PCA METHOD**"
   ]
  },
  {
   "cell_type": "code",
   "execution_count": null,
   "id": "29c02786",
   "metadata": {},
   "outputs": [],
   "source": [
    "pca = PCA(n_components=2)\n",
    "df_pca = pca.fit_transform(aybars[num_deg])\n",
    "df_pca=pd.DataFrame(data=df_pca,columns=[\"Feature_1\",\"Feature_2\"])\n",
    "df_pca[\"Player_name\"]=aybars[\"Player_name\"]\n",
    "df_pca[\"potential\"]=aybars[\"potential\"]"
   ]
  },
  {
   "cell_type": "markdown",
   "id": "eaa14a5d",
   "metadata": {},
   "source": [
    "# **K-MEANS METHOD**"
   ]
  },
  {
   "cell_type": "code",
   "execution_count": null,
   "id": "2205ea86",
   "metadata": {},
   "outputs": [],
   "source": [
    "kmeans = KMeans(n_clusters=10)\n",
    "k_fit = kmeans.fit(aybars[num_deg])\n",
    "\n",
    "k_fit.n_clusters\n",
    "k_fit.cluster_centers_\n",
    "k_fit.labels_\n",
    "k_fit.inertia_\n",
    "aybars.head()\n",
    "kumeler = kmeans.labels_\n",
    "aybars[\"Sınıf\"]=kumeler\n",
    "aybars = pd.DataFrame(aybars)\n",
    "aybars.head()"
   ]
  },
  {
   "cell_type": "code",
   "execution_count": null,
   "id": "3587138f",
   "metadata": {},
   "outputs": [],
   "source": [
    "colors = {0:'blue', 1:'orange', 2:'green', 3:'red', 4:'purple', 5:'brown', 6:'pink',7:'yellow',8:'gray',9:'black'}\n",
    "plt.figure(figsize=(12,8))\n",
    "plt.scatter(aybars[\"Player_name\"].head(20),aybars[\"Sınıf\"].head(20),c=aybars['Sınıf'].head(20).map(colors))\n",
    "plt.xticks(rotation=90)\n",
    "plt.xlabel(\"Player Names\")\n",
    "plt.ylabel(\"Class Number of Players\")\n",
    "plt.title(\"Sample of Player's Classes\")\n",
    "plt.show()"
   ]
  },
  {
   "cell_type": "markdown",
   "id": "cfd74868",
   "metadata": {},
   "source": [
    " # **SAMPLES(20 PLAYER) OF EACH PLAYER GROP**"
   ]
  },
  {
   "cell_type": "code",
   "execution_count": null,
   "id": "be578a25",
   "metadata": {},
   "outputs": [],
   "source": [
    "aybars[aybars[\"Sınıf\"]==9].sort_values(by=\"potential\",ascending=False).head(10)"
   ]
  },
  {
   "cell_type": "code",
   "execution_count": null,
   "id": "93944505",
   "metadata": {},
   "outputs": [],
   "source": [
    "aybars[aybars[\"Sınıf\"]==0].sort_values(by=\"potential\",ascending=False).head(10)"
   ]
  },
  {
   "cell_type": "code",
   "execution_count": null,
   "id": "59a6f143",
   "metadata": {},
   "outputs": [],
   "source": [
    "kmeans = KMeans(n_clusters=10)\n",
    "k_fit = kmeans.fit(df_pca[[\"Feature_1\",\"Feature_2\"]])\n",
    "\n",
    "k_fit.n_clusters\n",
    "k_fit.cluster_centers_\n",
    "k_fit.labels_\n",
    "k_fit.inertia_\n",
    "aybars.head()\n",
    "kumeler = kmeans.labels_\n",
    "df_pca[\"Sınıf\"]=kumeler\n",
    "df_pca = pd.DataFrame(df_pca)"
   ]
  },
  {
   "cell_type": "code",
   "execution_count": null,
   "id": "05378ff7",
   "metadata": {},
   "outputs": [],
   "source": [
    "colors = {0:'blue', 1:'orange', 2:'green', 3:'red', 4:'purple', 5:'brown', 6:'pink',7:'yellow',8:'gray',9:'black'}\n",
    "plt.figure(figsize=(12,8))\n",
    "plt.scatter(df_pca[\"Player_name\"].head(20),df_pca[\"Sınıf\"].head(20),c=df_pca['Sınıf'].head(20).map(colors))\n",
    "plt.xticks(rotation=90)\n",
    "plt.xlabel(\"Player Names\")\n",
    "plt.ylabel(\"Class Number of Players\")\n",
    "plt.title(\"Sample of Player's Classes\")\n",
    "plt.show()"
   ]
  },
  {
   "cell_type": "markdown",
   "id": "31e9faef",
   "metadata": {},
   "source": [
    " # **SAMPLES(20 PLAYER) OF EACH PLAYER GROP AFTER PCA**"
   ]
  },
  {
   "cell_type": "code",
   "execution_count": null,
   "id": "d7f741fa",
   "metadata": {},
   "outputs": [],
   "source": [
    "df_pca[df_pca[\"Sınıf\"]==8].sort_values(by=\"potential\",ascending=False).head(10)"
   ]
  },
  {
   "cell_type": "code",
   "execution_count": null,
   "id": "3569ee7d",
   "metadata": {},
   "outputs": [],
   "source": [
    "df_pca[df_pca[\"Sınıf\"]==2].sort_values(by=\"potential\",ascending=False).head(10)"
   ]
  },
  {
   "cell_type": "markdown",
   "id": "7c826c43",
   "metadata": {},
   "source": [
    "# **PLAYER DISTRIBUTION**"
   ]
  },
  {
   "cell_type": "code",
   "execution_count": null,
   "id": "d0f52c39",
   "metadata": {},
   "outputs": [],
   "source": [
    "colors = {0:'blue', 1:'orange', 2:'green', 3:'red', 4:'purple', 5:'brown', 6:'pink',7:'yellow',8:'gray',9:'black'}\n",
    "plt.figure(figsize=(12,8))\n",
    "plt.scatter(df_pca[\"Feature_1\"],df_pca[\"Feature_2\"],c=df_pca['Sınıf'].map(colors),label=[\"Creative players\",\"Strong Stoper\",\"Passer Stoper\",\"Goal Keepers\",\"Second Forward\",\"AMC_MC\",\"Defender\",\"Athletic Wings\"])\n",
    "plt.xlabel(\"Feature_1\")\n",
    "plt.ylabel(\"Feature_2\")\n",
    "plt.title(\"Players Distribution\")\n",
    "#plt.legend([\"Creative players\",\"Strong Stoper\",\"Passer Stoper\",\"Goal Keepers\",\"Second Forward\",\"AMC_MC\",\"Defender\",\"Athletic Wings\"]))\n",
    "plt.show()"
   ]
  },
  {
   "cell_type": "markdown",
   "id": "e6db7404",
   "metadata": {},
   "source": [
    "# **USER FUNCTION FOR TRANSFER MARKET**\n",
    "* We created a function for transfar market team. They can find a alternative player group for their team player. "
   ]
  },
  {
   "cell_type": "code",
   "execution_count": null,
   "id": "de4b03b9",
   "metadata": {},
   "outputs": [],
   "source": [
    "player_name=\"Luka Modric\" #Player who you are looking for his alternatives\n",
    "\n",
    "def alternative_player(player_name,df):\n",
    "    player_class=int(df[df[\"Player_name\"]==player_name][\"Sınıf\"].values)\n",
    "    print(player_class)\n",
    "    return df[df[\"Sınıf\"]==player_class].sort_values(by=\"potential\",ascending=False).head(50)\n",
    "\n",
    "alternative_player(player_name,df_pca)"
   ]
  }
 ],
 "metadata": {},
 "nbformat": 4,
 "nbformat_minor": 5
}
