{
 "cells": [
  {
   "cell_type": "code",
   "execution_count": null,
   "id": "6f218015",
   "metadata": {},
   "outputs": [],
   "source": [
    "!pip install fastai -q --upgrade"
   ]
  },
  {
   "cell_type": "code",
   "execution_count": null,
   "id": "047532fd",
   "metadata": {},
   "outputs": [],
   "source": [
    "import fastai\n",
    "print(fastai.__version__)"
   ]
  },
  {
   "cell_type": "code",
   "execution_count": null,
   "id": "e02612f8",
   "metadata": {},
   "outputs": [],
   "source": [
    "from fastai.vision.all import *\n",
    "path = Path('../input/ballon-dor-2021-images')\n",
    "path.ls()"
   ]
  },
  {
   "cell_type": "code",
   "execution_count": null,
   "id": "19840df7",
   "metadata": {},
   "outputs": [],
   "source": [
    "def get_dls(bs, size):\n",
    "    dblock = DataBlock(blocks = (ImageBlock, CategoryBlock),\n",
    "                       get_items = get_image_files,\n",
    "                       get_y = parent_label,\n",
    "                       splitter = RandomSplitter(),\n",
    "                       item_tfms = Resize(size)\n",
    "                      )\n",
    "    return dblock.dataloaders(path, bs = bs)\n",
    "\n"
   ]
  },
  {
   "cell_type": "code",
   "execution_count": null,
   "id": "e2ca8613",
   "metadata": {},
   "outputs": [],
   "source": [
    "dls = get_dls(16, 128)"
   ]
  },
  {
   "cell_type": "code",
   "execution_count": null,
   "id": "0deb27e4",
   "metadata": {},
   "outputs": [],
   "source": [
    "learn = cnn_learner(dls, resnet34, metrics=accuracy)"
   ]
  },
  {
   "cell_type": "code",
   "execution_count": null,
   "id": "b462e4b4",
   "metadata": {},
   "outputs": [],
   "source": [
    "learn.lr_find()"
   ]
  },
  {
   "cell_type": "code",
   "execution_count": null,
   "id": "f02d25b8",
   "metadata": {},
   "outputs": [],
   "source": [
    "learn = cnn_learner(dls, resnet34, metrics=accuracy)\n",
    "learn.fit_one_cycle(10, 1e-3)"
   ]
  },
  {
   "cell_type": "code",
   "execution_count": null,
   "id": "c198b42c",
   "metadata": {},
   "outputs": [],
   "source": [
    "learn.dls = get_dls(16, 224)\n",
    "learn.fine_tune(5, 1e-3)"
   ]
  },
  {
   "cell_type": "markdown",
   "id": "30232d3a",
   "metadata": {},
   "source": [
    "## Show results"
   ]
  },
  {
   "cell_type": "code",
   "execution_count": null,
   "id": "a148dbd4",
   "metadata": {},
   "outputs": [],
   "source": [
    "learn.show_results()"
   ]
  },
  {
   "cell_type": "markdown",
   "id": "e57afa04",
   "metadata": {},
   "source": [
    "## Interpretation"
   ]
  },
  {
   "cell_type": "code",
   "execution_count": null,
   "id": "6456640e",
   "metadata": {},
   "outputs": [],
   "source": [
    "interp = Interpretation.from_learner(learn)\n",
    "interp.plot_top_losses(k=3)"
   ]
  },
  {
   "cell_type": "markdown",
   "id": "90a9ab79",
   "metadata": {},
   "source": [
    "## Predict"
   ]
  },
  {
   "cell_type": "code",
   "execution_count": null,
   "id": "3244cf5c",
   "metadata": {},
   "outputs": [],
   "source": [
    "learn.predict('../input/ballon-dor-2021-images/Kylian Mbappe/image_20211118_170126.jpg')"
   ]
  },
  {
   "cell_type": "markdown",
   "id": "825be670",
   "metadata": {},
   "source": [
    "## Save model"
   ]
  },
  {
   "cell_type": "code",
   "execution_count": null,
   "id": "2cc81d49",
   "metadata": {},
   "outputs": [],
   "source": [
    "learn.export(fname='model.pkl', pickle_module=pickle, pickle_protocol=2)"
   ]
  },
  {
   "cell_type": "markdown",
   "id": "9d1728af",
   "metadata": {},
   "source": [
    "## Reload model"
   ]
  },
  {
   "cell_type": "code",
   "execution_count": null,
   "id": "93425232",
   "metadata": {},
   "outputs": [],
   "source": [
    "reload_model=load_learner('model.pkl', cpu=True, pickle_module=pickle)\n",
    "reload_model"
   ]
  },
  {
   "cell_type": "markdown",
   "id": "dbc5db3c",
   "metadata": {},
   "source": [
    "## Enjoy."
   ]
  }
 ],
 "metadata": {},
 "nbformat": 4,
 "nbformat_minor": 5
}
