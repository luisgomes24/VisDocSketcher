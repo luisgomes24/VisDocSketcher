{
 "cells": [
  {
   "cell_type": "markdown",
   "id": "3cfb371c",
   "metadata": {},
   "source": [
    "#Predicting House Prices <a></a>\n",
    "**Rajan Sharma**\n",
    "\n",
    "1. Overview\n",
    "2. Importing Modules,Reading the Dataset,Performing Descriptive Sattistics\n",
    "3. Coefficient Of Correlation(Pearson coefficient)\n",
    "4. Correlation Heatmap(matrix)\n",
    "5. Simple Linear regression\n",
    "6. Plot Of Simple Regression Line\n",
    "7. Multiple regression"
   ]
  },
  {
   "cell_type": "markdown",
   "id": "b1f94c4b",
   "metadata": {},
   "source": [
    "#Overview <a></a>\n",
    "Welcome to my Kernel! In this kernel, I use Linear regression and try to predict the house prices by using them. As you can guess, there are various methods to suceed this and each method has pros and cons. I think regression is one of the most important methods because it gives us more insight about the data.\n",
    "\n",
    "If you have a question or feedback, do not hesitate to write and if you like this kernel, please do not forget to UPVOTE:)"
   ]
  },
  {
   "cell_type": "markdown",
   "id": "6b4fabb5",
   "metadata": {},
   "source": [
    "#Importing Modules,Reading the Dataset,Performing Descriptive Statistics <a></a>"
   ]
  },
  {
   "cell_type": "code",
   "execution_count": null,
   "id": "f2af27ff",
   "metadata": {},
   "outputs": [],
   "source": [
    "import numpy as np # linear algebra\n",
    "import pandas as pd # data processing, CSV file I/O (e.g. pd.read_csv)\n",
    "import matplotlib.pyplot as plt\n",
    "import seaborn as sns\n",
    "import scipy.stats as stats\n",
    "import os\n",
    "print(os.listdir(\"../input\"))"
   ]
  },
  {
   "cell_type": "code",
   "execution_count": null,
   "id": "c688788f",
   "metadata": {},
   "outputs": [],
   "source": [
    "#load the csv file and make the data frame\n",
    "house_df = pd.read_csv('../input/kc_house_data.csv')"
   ]
  },
  {
   "cell_type": "code",
   "execution_count": null,
   "id": "e3f08f94",
   "metadata": {},
   "outputs": [],
   "source": [
    "#display the first 5 rows of dataframe \n",
    "house_df.head()"
   ]
  },
  {
   "cell_type": "code",
   "execution_count": null,
   "id": "bcb03073",
   "metadata": {},
   "outputs": [],
   "source": [
    "print(\"the dataframe has {} rows and {} columns\".format(house_df.shape[0],house_df.shape[1]))"
   ]
  },
  {
   "cell_type": "code",
   "execution_count": null,
   "id": "25794cd2",
   "metadata": {},
   "outputs": [],
   "source": [
    "#check null values are there or not\n",
    "house_df.apply(lambda x : sum(x.isnull()))"
   ]
  },
  {
   "cell_type": "markdown",
   "id": "6970bb20",
   "metadata": {},
   "source": [
    "so as we can see from above there are no null values"
   ]
  },
  {
   "cell_type": "code",
   "execution_count": null,
   "id": "df2128b7",
   "metadata": {},
   "outputs": [],
   "source": [
    "#info of dataframe\n",
    "house_df.info()"
   ]
  },
  {
   "cell_type": "code",
   "execution_count": null,
   "id": "0421b4a2",
   "metadata": {},
   "outputs": [],
   "source": [
    "#5 point summary of numeric columns\n",
    "house_df.describe()"
   ]
  },
  {
   "cell_type": "code",
   "execution_count": null,
   "id": "6ae9101f",
   "metadata": {},
   "outputs": [],
   "source": [
    "#multivariate plot\n",
    "sns.pairplot(data=house_df,diag_kind='kde')\n",
    "plt.show()"
   ]
  },
  {
   "cell_type": "code",
   "execution_count": null,
   "id": "550f9f70",
   "metadata": {},
   "outputs": [],
   "source": [
    "#removing Date column as it is not useful in linear regression model\n",
    "house_df.drop('date',axis=1,inplace=True)"
   ]
  },
  {
   "cell_type": "markdown",
   "id": "f659e4db",
   "metadata": {},
   "source": [
    "#Coefficient Of Correlation(Pearson coefficient) <a></a>"
   ]
  },
  {
   "cell_type": "markdown",
   "id": "776dd2fd",
   "metadata": {},
   "source": [
    "now we have 20 columns or 20 explanatory variables or independant variables we have to find which explanatory variable is good for predicting house price. As we are building linear regression model, if explanatory variable has linear relationship with response variable or target variable then it plays a good role in predicting house price. To determine linear relationship we will use coefficient of correlation(pearson coefficient).\n",
    "if pearson coefficient is 0.7 in magnitude or greater that this we are considering there is good linear relationship between independent variable and target variable\n",
    "if pearson coefficient is less than 0.7 in magnitude than we are considering there is not good linear relationship between independent variable and target variable"
   ]
  },
  {
   "cell_type": "code",
   "execution_count": null,
   "id": "2062bf96",
   "metadata": {},
   "outputs": [],
   "source": [
    "for i in house_df.columns:\n",
    "    print(\"the r and p value for \"+i+\" and price respectively is {}\".format(stats.pearsonr(house_df[i],house_df['price'])))"
   ]
  },
  {
   "cell_type": "markdown",
   "id": "48947f18",
   "metadata": {},
   "source": [
    "#Correlation Heatmap(matrix) <a></a>"
   ]
  },
  {
   "cell_type": "code",
   "execution_count": null,
   "id": "818a4de1",
   "metadata": {},
   "outputs": [],
   "source": [
    "plt.figure(figsize=(15,10))\n",
    "sns.heatmap(house_df.corr(),annot=True)\n",
    "plt.show()"
   ]
  },
  {
   "cell_type": "markdown",
   "id": "a7bd8278",
   "metadata": {},
   "source": [
    "As we can see that sqft_living has r_value 0.7020350546118. that means it is useful for predicting house price"
   ]
  },
  {
   "cell_type": "markdown",
   "id": "d2e1220d",
   "metadata": {},
   "source": [
    "#Simple Linear regression <a></a>"
   ]
  },
  {
   "cell_type": "markdown",
   "id": "59d20af8",
   "metadata": {},
   "source": [
    "I want to predict house prices and then, our response variable is price. However, for a simple model we also need to select a feature. When I look at the columns of the dataset, sqft_living seemed the most important feature. When we examine the correlation matrix, we may observe that price has the highest correlation coefficient with sqft_living and this also supports my opinion. Thus, I decided to use sqft_living as feature. \n",
    "\n",
    "so this is a simple linear regression model where one explanatory variable is responsile to predict house price.\n",
    "so our equation looks like this:\n",
    "* * * * * * * * * * * * * **response variable = slope*explanatory variable + intercept**"
   ]
  },
  {
   "cell_type": "code",
   "execution_count": null,
   "id": "e4337ec5",
   "metadata": {},
   "outputs": [],
   "source": [
    "from sklearn.model_selection import train_test_split\n",
    "from sklearn.linear_model import LinearRegression\n",
    "X = house_df[['sqft_living']]#taking only sqft_living column as an explanatory variable or independent variable \n",
    "Y = house_df[['price']]#taking price column as an response variable or dependent variable or target variable\n",
    "X_train,X_test,Y_train,Y_test = train_test_split(X,Y,test_size = 0.30,random_state=1)#splitting the dataset into training and test dataset in(70:30 ratio)"
   ]
  },
  {
   "cell_type": "code",
   "execution_count": null,
   "id": "59314fa2",
   "metadata": {},
   "outputs": [],
   "source": [
    "lp = LinearRegression()#instantiate the object\n",
    "lp.fit(X_train,Y_train)"
   ]
  },
  {
   "cell_type": "code",
   "execution_count": null,
   "id": "d1cafc3b",
   "metadata": {},
   "outputs": [],
   "source": [
    "lp.score(X_test,Y_test)"
   ]
  },
  {
   "cell_type": "markdown",
   "id": "7e86092a",
   "metadata": {},
   "source": [
    "so our model accuracy is 50.30% on test dataset"
   ]
  },
  {
   "cell_type": "code",
   "execution_count": null,
   "id": "64e6e9c8",
   "metadata": {},
   "outputs": [],
   "source": [
    "print(\"Intercept::{}\".format(lp.intercept_))\n",
    "print(\"slope::{}\".format(lp.coef_))"
   ]
  },
  {
   "cell_type": "markdown",
   "id": "ff4bbbf6",
   "metadata": {},
   "source": [
    "so our equation is :\n",
    "\n",
    "**price= (273.80*sqft_living)+(-31356.78)**\n",
    "that means 1 unit change in sqft_livig price is changed by 273.80 units and y axis cut at -31356.78 when x is 0."
   ]
  },
  {
   "cell_type": "markdown",
   "id": "1a9d5ac7",
   "metadata": {},
   "source": [
    "#Plot Of Simple Regression Line <a></a>"
   ]
  },
  {
   "cell_type": "code",
   "execution_count": null,
   "id": "dd276ad2",
   "metadata": {},
   "outputs": [],
   "source": [
    "plt.figure(figsize=(10,5))\n",
    "plt.scatter(X,Y,color='darkblue',label=\"Data\", alpha=.1)\n",
    "plt.plot(X,(273.80839877*X-31356.78457486),label=\"predicted regression line\")\n",
    "plt.xlabel(\"sqft_living\")\n",
    "plt.ylabel(\"price\")\n",
    "plt.legend()\n",
    "plt.show()"
   ]
  },
  {
   "cell_type": "markdown",
   "id": "3c901b77",
   "metadata": {},
   "source": [
    "#Multiple regression <a></a>"
   ]
  },
  {
   "cell_type": "markdown",
   "id": "78e66376",
   "metadata": {},
   "source": [
    "I used a simple linear regression and found a poor fit. In order to improve this model I am planing to add more features. When we have more than one feature in a linear regression, it is defined as multiple regression. Then, it is time to create some complex models. Now i am taking those features whose r_value is greater than 0.5 as independent variable"
   ]
  },
  {
   "cell_type": "code",
   "execution_count": null,
   "id": "f53dc2c3",
   "metadata": {},
   "outputs": [],
   "source": [
    "X1 = house_df[['sqft_living','bathrooms','grade','sqft_above','sqft_living15']]#taking column whose r_value>0.5 as an explanatory variable or independent variable \n",
    "Y1 = house_df[['price']]#taking price column as an response variable or dependent variable or target variable\n",
    "X1_train,X1_test,Y1_train,Y1_test = train_test_split(X1,Y1,test_size = 0.30,random_state=1)#splitting the dataset into training and test dataset in(70:30 ratio)"
   ]
  },
  {
   "cell_type": "code",
   "execution_count": null,
   "id": "6ba3bf2e",
   "metadata": {},
   "outputs": [],
   "source": [
    "lp1 = LinearRegression()#instantiate the object\n",
    "lp1.fit(X1_train,Y1_train)"
   ]
  },
  {
   "cell_type": "code",
   "execution_count": null,
   "id": "a153ad1b",
   "metadata": {},
   "outputs": [],
   "source": [
    "lp1.score(X1_test,Y1_test)"
   ]
  },
  {
   "cell_type": "markdown",
   "id": "fd37b463",
   "metadata": {},
   "source": [
    "so our model accuracy is 54.87% on test dataset"
   ]
  },
  {
   "cell_type": "code",
   "execution_count": null,
   "id": "b3211705",
   "metadata": {},
   "outputs": [],
   "source": [
    "print(\"Intercept::{}\".format(lp1.intercept_))\n",
    "print(\"slope::{}\".format(lp1.coef_))"
   ]
  },
  {
   "cell_type": "markdown",
   "id": "9b9ad07a",
   "metadata": {},
   "source": [
    "so our equation is :\n",
    "\n",
    "**price= (2.35784522e+02*sqft_living)*(-3.39975755e+04*bathroom)*(1.11305341e+05*grade)*(-7.76410260e+01*sqft_above)*(2.01418939e+01*sqft_living15)+(-634338.39)**"
   ]
  }
 ],
 "metadata": {},
 "nbformat": 4,
 "nbformat_minor": 5
}
