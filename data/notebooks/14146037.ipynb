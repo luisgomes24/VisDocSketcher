{
 "cells": [
  {
   "cell_type": "code",
   "execution_count": null,
   "id": "aebf69dd",
   "metadata": {},
   "outputs": [],
   "source": [
    "\n",
    "\n",
    "\n",
    "\n",
    "import numpy as np # linear algebra\n",
    "import pandas as pd # data processing, CSV file I/O (e.g. pd.read_csv)\n",
    "\n",
    "\n",
    "\n",
    "import os\n",
    "for dirname, _, filenames in os.walk('/kaggle/input'):\n",
    "    for filename in filenames:\n",
    "        print(os.path.join(dirname, filename))\n",
    "\n",
    "\n"
   ]
  },
  {
   "cell_type": "code",
   "execution_count": null,
   "id": "33526687",
   "metadata": {},
   "outputs": [],
   "source": [
    "def purchase_product(product_type, price):\n",
    "    discount = 10\n",
    "    total_price = price - price * discount / 100\n",
    "    print(\"Total price of \" +product_type+ \" is \"+str(total_price))\n",
    "\n",
    "purchase_product(\"Mobile\", 20000)\n",
    "purchase_product(\"Shoe\", 200)"
   ]
  },
  {
   "cell_type": "code",
   "execution_count": null,
   "id": "445459db",
   "metadata": {},
   "outputs": [],
   "source": [
    "class Mobile:\n",
    "    def __init__(self, brand, price):\n",
    "        print(\"Inside constructor\")\n",
    "        self.brand = brand\n",
    "        self.price = price\n",
    "\n",
    "mob1=Mobile(\"Apple\", 20000)\n",
    "print(\"Mobile 1 has brand\", mob1.brand, \"and price\", mob1.price)\n",
    "\n",
    "mob2=Mobile(\"Samsung\",3000)\n",
    "print(\"Mobile 2 has brand\", mob2.brand, \"and price\", mob2.price)"
   ]
  },
  {
   "cell_type": "code",
   "execution_count": null,
   "id": "a20ebaff",
   "metadata": {},
   "outputs": [],
   "source": [
    "class Example:\n",
    "    def __init__(self):\n",
    "        self.__num=5\n",
    "\n",
    "    def set_num(self,num):\n",
    "        self.__num=num\n",
    "\n",
    "    def get_num(self):\n",
    "        return self.__num\n",
    "obj=Example()\n",
    "obj.set_num(6)\n",
    "print(obj.get_num())"
   ]
  },
  {
   "cell_type": "markdown",
   "id": "e03fb14b",
   "metadata": {},
   "source": [
    "nan"
   ]
  },
  {
   "cell_type": "code",
   "execution_count": null,
   "id": "98564729",
   "metadata": {},
   "outputs": [],
   "source": [
    "nan"
   ]
  }
 ],
 "metadata": {},
 "nbformat": 4,
 "nbformat_minor": 5
}
