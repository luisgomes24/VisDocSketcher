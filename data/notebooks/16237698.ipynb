{
 "cells": [
  {
   "cell_type": "code",
   "execution_count": null,
   "id": "597f2478",
   "metadata": {},
   "outputs": [],
   "source": [
    "# This Python 3 environment comes with many helpful analytics libraries installed\n",
    "# It is defined by the kaggle/python Docker image: https://github.com/kaggle/docker-python\n",
    "# For example, here's several helpful packages to load\n",
    "\n",
    "import numpy as np # linear algebra\n",
    "import pandas as pd # data processing, CSV file I/O (e.g. pd.read_csv)\n",
    "\n",
    "# Input data files are available in the read-only \"../input/\" directory\n",
    "# For example, running this (by clicking run or pressing Shift+Enter) will list all files under the input directory\n",
    "\n",
    "import os\n",
    "for dirname, _, filenames in os.walk('/kaggle/input'):\n",
    "    for filename in filenames:\n",
    "        print(os.path.join(dirname, filename))\n",
    "\n",
    "# You can write up to 20GB to the current directory (/kaggle/working/) that gets preserved as output when you create a version using \"Save & Run All\" \n",
    "# You can also write temporary files to /kaggle/temp/, but they won't be saved outside of the current session"
   ]
  },
  {
   "cell_type": "code",
   "execution_count": null,
   "id": "61d8cfb0",
   "metadata": {},
   "outputs": [],
   "source": [
    "!pip install jcopml\n",
    "import pandas as pd\n",
    "import numpy as np\n",
    "import matplotlib.pyplot as plt\n",
    "import seaborn as sns\n",
    "import collections\n",
    "import warnings\n",
    "\n",
    "from sklearn.pipeline import Pipeline\n",
    "from sklearn.preprocessing import StandardScaler,Normalizer,MinMaxScaler,RobustScaler,PolynomialFeatures,PowerTransformer\n",
    "from sklearn.model_selection import train_test_split,GridSearchCV,RandomizedSearchCV\n",
    "from sklearn.compose import ColumnTransformer\n",
    "from sklearn.impute import SimpleImputer\n",
    "from sklearn.svm import SVC\n",
    "from sklearn.neighbors import KNeighborsClassifier\n",
    "from sklearn.ensemble import RandomForestClassifier\n",
    "from sklearn.metrics import confusion_matrix,classification_report\n",
    "from xgboost import XGBClassifier\n",
    "from skopt.space import Integer,Real\n",
    "\n",
    "from jcopml.plot import plot_correlation_matrix,plot_classification_report,plot_confusion_matrix,plot_residual,plot_association_matrix\n",
    "from jcopml.tuning import grid_search_params as gsp, random_search_params as rsp, bayes_search_params as bsp\n",
    "from jcopml.feature_importance import mean_score_decrease\n",
    "from skopt import BayesSearchCV\n",
    "from jcopml.tuning.space import Integer,Real\n",
    "\n",
    "warnings.filterwarnings(\"ignore\")"
   ]
  },
  {
   "cell_type": "code",
   "execution_count": null,
   "id": "936c20d1",
   "metadata": {},
   "outputs": [],
   "source": [
    "df = pd.read_csv(\"/kaggle/input/red-wine-quality-cortez-et-al-2009/winequality-red.csv\")\n",
    "df.head()"
   ]
  },
  {
   "cell_type": "markdown",
   "id": "22c35aa6",
   "metadata": {},
   "source": [
    "# EDA"
   ]
  },
  {
   "cell_type": "code",
   "execution_count": null,
   "id": "9f798f9f",
   "metadata": {},
   "outputs": [],
   "source": [
    "# Check NaN values\n",
    "df.isna().sum()"
   ]
  },
  {
   "cell_type": "code",
   "execution_count": null,
   "id": "26496e60",
   "metadata": {},
   "outputs": [],
   "source": [
    "# Check Shape Of Dataframe\n",
    "df.shape"
   ]
  },
  {
   "cell_type": "code",
   "execution_count": null,
   "id": "f536cbcd",
   "metadata": {},
   "outputs": [],
   "source": [
    "# Check and Drop Duplicate\n",
    "duplicate_df = df[df.duplicated()]\n",
    "print(\" number of duplicate rows: \", duplicate_df.shape )\n",
    "\n",
    "df = df.drop_duplicates()\n",
    "df.shape"
   ]
  },
  {
   "cell_type": "code",
   "execution_count": null,
   "id": "10d41aa6",
   "metadata": {},
   "outputs": [],
   "source": [
    "# Check Outliers\n",
    "plt.figure(figsize=(40,20))\n",
    "sns.boxplot(data=df);"
   ]
  },
  {
   "cell_type": "code",
   "execution_count": null,
   "id": "12db00bf",
   "metadata": {},
   "outputs": [],
   "source": [
    "#removing Out liers \n",
    "Q1 = df.quantile(0.25)\n",
    "Q3 = df.quantile(0.75)\n",
    "IQR = Q3 - Q1\n",
    "print(IQR)\n",
    "\n",
    "df = df[~((df < (Q1 - 1.5 * IQR)) |(df > (Q3 + 1.5 * IQR))).any(axis=1)]\n",
    "df.shape"
   ]
  },
  {
   "cell_type": "code",
   "execution_count": null,
   "id": "d3106b98",
   "metadata": {},
   "outputs": [],
   "source": [
    "df['label_quality'] = pd.cut(df['quality'],[2,6,10],labels=[0,1])\n",
    "df['label_quality']=df['label_quality'].astype('int')\n",
    "df.head()"
   ]
  },
  {
   "cell_type": "code",
   "execution_count": null,
   "id": "6ce5a76f",
   "metadata": {},
   "outputs": [],
   "source": [
    "sns.barplot(x='label_quality',y='alcohol',data=df);"
   ]
  },
  {
   "cell_type": "code",
   "execution_count": null,
   "id": "b76801b2",
   "metadata": {},
   "outputs": [],
   "source": [
    "pd.value_counts(df['label_quality']).plot.bar()\n",
    "plt.title('Quality Bar Plot')\n",
    "plt.xlabel('Quality')\n",
    "plt.ylabel('Frequency')\n",
    "df['label_quality'].value_counts()"
   ]
  },
  {
   "cell_type": "code",
   "execution_count": null,
   "id": "73033bbd",
   "metadata": {},
   "outputs": [],
   "source": [
    "plt.figure(figsize=(13,6))\n",
    "plt.subplot(121)\n",
    "sns.scatterplot(\"sulphates\",\"alcohol\",\"label_quality\",data=df);"
   ]
  },
  {
   "cell_type": "markdown",
   "id": "c3310405",
   "metadata": {},
   "source": [
    "# Splitting Data"
   ]
  },
  {
   "cell_type": "code",
   "execution_count": null,
   "id": "4743a595",
   "metadata": {},
   "outputs": [],
   "source": [
    "X = df.drop(columns=['quality','label_quality'])\n",
    "y = df['label_quality']\n",
    "\n",
    "X_train,X_test,y_train,y_test = train_test_split(X,y,test_size=0.2,stratify=y,random_state=42)\n",
    "X_train.shape,X_test.shape,y_train.shape,y_test.shape"
   ]
  },
  {
   "cell_type": "markdown",
   "id": "82bace82",
   "metadata": {},
   "source": [
    "# Whitout SMOTE"
   ]
  },
  {
   "cell_type": "code",
   "execution_count": null,
   "id": "dc5cb9db",
   "metadata": {},
   "outputs": [],
   "source": [
    "X = df.drop(columns=['quality','label_quality'])\n",
    "y = df['label_quality']\n",
    "\n",
    "X_train,X_test,y_train,y_test = train_test_split(X,y,test_size=0.2,stratify=y,random_state=42)\n",
    "X_train.shape,X_test.shape,y_train.shape,y_test.shape"
   ]
  },
  {
   "cell_type": "code",
   "execution_count": null,
   "id": "97ecd1f2",
   "metadata": {},
   "outputs": [],
   "source": [
    "num_pipe = Pipeline([(\"scaler\",RobustScaler()),\n",
    "                    (\"transform\",PowerTransformer(method='yeo-johnson'))])\n",
    "\n",
    "preprosesor = ColumnTransformer([(\"numeric\",num_pipe,X_train.columns)])\n",
    "\n",
    "pipeline = Pipeline([(\"prep\",preprosesor),\n",
    "                    (\"ml\",XGBClassifier(n_jobs=-1,random_state=42))])\n",
    "\n",
    "parameter = {'ml__max_depth': Integer(low=8, high=12),\n",
    " 'ml__learning_rate': Real(low=-2, high=0, prior='log-uniform'),\n",
    " 'ml__n_estimators': Integer(low=150, high=250),\n",
    " 'ml__subsample': Real(low=0.5, high=0.8, prior='uniform'),\n",
    " 'ml__gamma': Integer(low=1, high=5),\n",
    " 'ml__colsample_bytree': Real(low=0.5, high=1, prior='uniform'),\n",
    " 'ml__reg_alpha': Real(low=-3, high=1, prior='log-uniform'),\n",
    " 'ml__reg_lambda': Real(low=-3, high=1, prior='log-uniform')}\n",
    "\n",
    "model = RandomizedSearchCV(pipeline,parameter,cv=3,n_iter=150,scoring='f1',n_jobs=-1,verbose=1)\n",
    "model.fit(X_train,y_train)\n",
    "\n",
    "# Evaluation\n",
    "print(model.best_params_)\n",
    "print(model.score(X_train,y_train),model.best_score_,model.score(X_test,y_test))"
   ]
  },
  {
   "cell_type": "code",
   "execution_count": null,
   "id": "6a15ac04",
   "metadata": {},
   "outputs": [],
   "source": [
    "plot_confusion_matrix(X_train, y_train, X_test, y_test, model)"
   ]
  },
  {
   "cell_type": "code",
   "execution_count": null,
   "id": "f32e7a2f",
   "metadata": {},
   "outputs": [],
   "source": [
    "# Classification Report\n",
    "plot_classification_report(X_train, y_train, X_test, y_test, model, report=True)"
   ]
  },
  {
   "cell_type": "code",
   "execution_count": null,
   "id": "5bf370a7",
   "metadata": {},
   "outputs": [],
   "source": [
    "# Feature Importance\n",
    "df_imp = mean_score_decrease(X_train, y_train, model, plot=True, topk=10)"
   ]
  },
  {
   "cell_type": "markdown",
   "id": "f088879e",
   "metadata": {},
   "source": [
    "# With SMOTE"
   ]
  },
  {
   "cell_type": "code",
   "execution_count": null,
   "id": "5f9f2e19",
   "metadata": {},
   "outputs": [],
   "source": [
    "from imblearn.over_sampling import SMOTE"
   ]
  },
  {
   "cell_type": "code",
   "execution_count": null,
   "id": "476ff0b1",
   "metadata": {},
   "outputs": [],
   "source": [
    "X = df.drop(columns=['quality','label_quality'])\n",
    "y = df['label_quality']\n",
    "\n",
    "X.head()"
   ]
  },
  {
   "cell_type": "code",
   "execution_count": null,
   "id": "16ca9440",
   "metadata": {},
   "outputs": [],
   "source": [
    "sm = SMOTE(random_state=42)\n",
    "X_sm, y_sm = sm.fit_resample(X, y)\n",
    "\n",
    "print(f\"Before Resampling {X.shape}, After Resampling {X_sm.shape}\")"
   ]
  },
  {
   "cell_type": "code",
   "execution_count": null,
   "id": "ce9c7bdf",
   "metadata": {},
   "outputs": [],
   "source": [
    "X_train,X_test,y_train,y_test = train_test_split(X_sm,y_sm,test_size=0.2,random_state=42)\n",
    "X_train.shape,X_test.shape,y_train.shape,y_test.shape"
   ]
  },
  {
   "cell_type": "code",
   "execution_count": null,
   "id": "1811b000",
   "metadata": {},
   "outputs": [],
   "source": [
    "num_pipe = Pipeline([(\"scaler\",RobustScaler()),\n",
    "                    (\"transform\",PowerTransformer(method='yeo-johnson'))])\n",
    "\n",
    "preprosesor = ColumnTransformer([(\"numeric\",num_pipe,X_train.columns)])\n",
    "\n",
    "pipeline = Pipeline([(\"prep\",preprosesor),\n",
    "                    (\"ml\",XGBClassifier(n_jobs=-1,random_state=42))])\n",
    "\n",
    "parameter = {'ml__max_depth': Integer(low=8, high=12),\n",
    " 'ml__learning_rate': Real(low=-2, high=0, prior='log-uniform'),\n",
    " 'ml__n_estimators': Integer(low=150, high=250),\n",
    " 'ml__subsample': Real(low=0.5, high=0.8, prior='uniform'),\n",
    " 'ml__gamma': Integer(low=1, high=5),\n",
    " 'ml__colsample_bytree': Real(low=0.5, high=1, prior='uniform'),\n",
    " 'ml__reg_alpha': Real(low=-3, high=1, prior='log-uniform'),\n",
    " 'ml__reg_lambda': Real(low=-3, high=1, prior='log-uniform')}\n",
    "\n",
    "model = RandomizedSearchCV(pipeline,parameter,cv=3,n_iter=150,scoring='f1',n_jobs=-1,verbose=1)\n",
    "model.fit(X_train,y_train)\n",
    "\n",
    "# Evaluation\n",
    "print(model.best_params_)\n",
    "print(model.score(X_train,y_train),model.best_score_,model.score(X_test,y_test))"
   ]
  },
  {
   "cell_type": "code",
   "execution_count": null,
   "id": "1e031bf7",
   "metadata": {},
   "outputs": [],
   "source": [
    "plot_confusion_matrix(X_train, y_train, X_test, y_test, model)"
   ]
  },
  {
   "cell_type": "code",
   "execution_count": null,
   "id": "513836aa",
   "metadata": {},
   "outputs": [],
   "source": [
    "# Classification Report\n",
    "plot_classification_report(X_train, y_train, X_test, y_test, model, report=True)"
   ]
  },
  {
   "cell_type": "code",
   "execution_count": null,
   "id": "1fe0eac1",
   "metadata": {},
   "outputs": [],
   "source": [
    "# Feature Importance\n",
    "df_imp = mean_score_decrease(X_train, y_train, model, plot=True, topk=10)"
   ]
  }
 ],
 "metadata": {},
 "nbformat": 4,
 "nbformat_minor": 5
}
