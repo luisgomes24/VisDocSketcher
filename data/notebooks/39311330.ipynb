{
 "cells": [
  {
   "cell_type": "markdown",
   "id": "0d9fc89d",
   "metadata": {},
   "source": [
    "# Exploratory Data Analysis and Machine Learning Model for Starbucks Nutritional Data\n",
    "This Jupyter notebook presents an exploratory data analysis (EDA) and a machine learning model for predicting the calorie content of Starbucks menu items. The data used in this notebook is a CSV file named 'starbucks.csv'."
   ]
  },
  {
   "cell_type": "code",
   "execution_count": null,
   "id": "cdc10b96",
   "metadata": {},
   "outputs": [],
   "source": [
    "import numpy as np\n",
    "import pandas as pd\n",
    "import matplotlib.pyplot as plt\n",
    "import seaborn as sns\n",
    "from sklearn.model_selection import train_test_split\n",
    "from sklearn.ensemble import RandomForestRegressor\n",
    "from sklearn.metrics import mean_squared_error, mean_absolute_error\n",
    "from sklearn.preprocessing import StandardScaler, OneHotEncoder\n",
    "from sklearn.compose import ColumnTransformer\n",
    "from sklearn.pipeline import Pipeline\n",
    "\n",
    "data = pd.read_csv('/kaggle/input/starbucks-nutrition/starbucks.csv')"
   ]
  },
  {
   "cell_type": "code",
   "execution_count": null,
   "id": "c04b4fd0",
   "metadata": {},
   "outputs": [],
   "source": [
    "print(data.head()) # Display the first few rows of the data\n",
    "\n",
    "print(data.describe()) # Summary statistics\n",
    "\n",
    "print(data.isnull().sum()) # Check for missing values"
   ]
  },
  {
   "cell_type": "markdown",
   "id": "a80634df",
   "metadata": {},
   "source": [
    "# Data Visualization\n"
   ]
  },
  {
   "cell_type": "code",
   "execution_count": null,
   "id": "edfabc8f",
   "metadata": {},
   "outputs": [],
   "source": [
    "# Plot the distribution of calories\n",
    "plt.figure(figsize=(10,6))\n",
    "sns.histplot(data['calories'], bins=30, color='green')\n",
    "plt.title('Distribution of Calories')\n",
    "plt.xlabel('Calories')\n",
    "plt.ylabel('Frequency')\n",
    "plt.show()"
   ]
  },
  {
   "cell_type": "code",
   "execution_count": null,
   "id": "ee5ac89d",
   "metadata": {},
   "outputs": [],
   "source": [
    "# Boxplot of calories by type\n",
    "plt.figure(figsize=(10,6))\n",
    "sns.boxplot(x='type', y='calories', data=data)\n",
    "plt.title('Calories by Type')\n",
    "plt.xlabel('Type')\n",
    "plt.ylabel('Calories')\n",
    "plt.show()\n"
   ]
  },
  {
   "cell_type": "code",
   "execution_count": null,
   "id": "57b249ad",
   "metadata": {},
   "outputs": [],
   "source": [
    "columns_to_exclude = [\"Unnamed: 0\", \"type\"]\n",
    "data_subset = data.drop(columns=columns_to_exclude)\n",
    "corr = data_subset.corr()\n",
    "\n",
    "# Correlation Matrix\n",
    "plt.figure(figsize=(10, 6))\n",
    "sns.heatmap(corr, annot=True, cmap='Greens')\n",
    "plt.title('Correlation Matrix')\n",
    "plt.show()\n"
   ]
  },
  {
   "cell_type": "markdown",
   "id": "0a95a70e",
   "metadata": {},
   "source": [
    "# Machine Learning\n",
    "The data is split into a training set and a testing set. A machine learning model is defined using scikit-learn's Pipeline. This model consists of the preprocessing pipeline and a random forest regressor.\n",
    "\n",
    "The model is trained on the training data and used to make predictions on the testing data.\n",
    "\n",
    "## MAE - exact calorie mean error"
   ]
  },
  {
   "cell_type": "code",
   "execution_count": null,
   "id": "d255693f",
   "metadata": {},
   "outputs": [],
   "source": [
    "# Remove unnecessary columns\n",
    "data = data.drop(columns=['item'])\n",
    "\n",
    "# Define preprocessing pipeline\n",
    "preprocessor = ColumnTransformer(\n",
    "    transformers=[\n",
    "        ('num', StandardScaler(), ['fat', 'carb', 'fiber', 'protein']),\n",
    "        ('cat', OneHotEncoder(handle_unknown='ignore'), ['type'])\n",
    "    ])\n",
    "\n",
    "# Train test split because I tried others and this is the best result due to small sample size \n",
    "X = data.drop('calories', axis=1)\n",
    "y = data['calories']\n",
    "X_train, X_test, y_train, y_test = train_test_split(X, y, test_size=0.2, random_state=123)\n",
    "\n",
    "# Define\n",
    "model = Pipeline(steps=[('preprocessor', preprocessor),\n",
    "                        ('regressor', RandomForestRegressor())])\n",
    "\n",
    "# Train+prediction\n",
    "model.fit(X_train, y_train)\n",
    "y_pred = model.predict(X_test)\n",
    "\n",
    "# Calculate MSE, RMSE, MAE\n",
    "mse = mean_squared_error(y_test, y_pred)\n",
    "print(f\"Mean Squared Error: {mse}\")\n",
    "\n",
    "rmse = np.sqrt(mse)\n",
    "print(f\"Root Mean Squared Error: {rmse}\")\n",
    "\n",
    "mae = mean_absolute_error(y_test, y_pred)\n",
    "print(f\"Mean Absolute Error: {mae}\")"
   ]
  }
 ],
 "metadata": {},
 "nbformat": 4,
 "nbformat_minor": 5
}
