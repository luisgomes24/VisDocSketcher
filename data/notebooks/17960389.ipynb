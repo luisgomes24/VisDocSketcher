{
 "cells": [
  {
   "cell_type": "markdown",
   "id": "bd60af6a",
   "metadata": {},
   "source": [
    "# Goal of the project:\n",
    "    Predict house price:\n",
    "        Using creative feature engineering and advance machine learning model"
   ]
  },
  {
   "cell_type": "code",
   "execution_count": null,
   "id": "fc7091b8",
   "metadata": {},
   "outputs": [],
   "source": [
    "# Basic Imports\n",
    "import pandas as pd\n",
    "import numpy as np\n",
    "\n",
    "# Visualisation imports\n",
    "import matplotlib.pyplot as plt\n",
    "import seaborn as sns\n",
    "\n",
    "# Warnings ignor\n",
    "import warnings\n",
    "warnings.filterwarnings('ignore')\n",
    "\n",
    "# Label encoding\n",
    "from sklearn.preprocessing import LabelEncoder\n",
    "\n",
    "# Train test split\n",
    "from sklearn.model_selection import train_test_split\n",
    "\n",
    "# Regression Model\n",
    "\n",
    "## Linear regression\n",
    "from sklearn.linear_model import LinearRegression\n",
    "\n",
    "## Random forest\n",
    "from sklearn.ensemble import RandomForestRegressor\n",
    "\n",
    "## XGBoost\n",
    "from xgboost import XGBRegressor\n",
    "\n",
    "# Score\n",
    "from sklearn.metrics import mean_squared_error, r2_score\n",
    "from math import sqrt"
   ]
  },
  {
   "cell_type": "code",
   "execution_count": null,
   "id": "50d18a68",
   "metadata": {},
   "outputs": [],
   "source": [
    "# Input data files are available in the read-only \"../input/\" directory\n",
    "# For example, running this (by clicking run or pressing Shift+Enter) will list all files under the input directory\n",
    "\n",
    "import os\n",
    "for dirname, _, filenames in os.walk('/kaggle/input'):\n",
    "    for filename in filenames:\n",
    "        print(os.path.join(dirname, filename))"
   ]
  },
  {
   "cell_type": "markdown",
   "id": "76b33d00",
   "metadata": {},
   "source": [
    "# Data Input"
   ]
  },
  {
   "cell_type": "code",
   "execution_count": null,
   "id": "422099f2",
   "metadata": {},
   "outputs": [],
   "source": [
    "df_train = pd.read_csv(\"../input/house-prices-advanced-regression-techniques/train.csv\")\n",
    "df_test = pd.read_csv(\"../input/house-prices-advanced-regression-techniques/test.csv\")\n",
    "test = pd.read_csv(\"../input/house-prices-advanced-regression-techniques/test.csv\")\n",
    "df_train"
   ]
  },
  {
   "cell_type": "code",
   "execution_count": null,
   "id": "6ba218f4",
   "metadata": {},
   "outputs": [],
   "source": [
    "df_test"
   ]
  },
  {
   "cell_type": "markdown",
   "id": "76247c12",
   "metadata": {},
   "source": [
    "# Preprocessing\n",
    "\n",
    "        ◦ Check empty data\n",
    "        ◦ Delete columns contain aproximately higher than 20 % missing data\n",
    "        ◦ If features has empty cells and less than 20% missing data, delete / fill empty entites\n",
    "        ◦ Check and clean outliers\n",
    "        ◦ Features selection"
   ]
  },
  {
   "cell_type": "markdown",
   "id": "e5e80c77",
   "metadata": {},
   "source": [
    "## Check empty data"
   ]
  },
  {
   "cell_type": "code",
   "execution_count": null,
   "id": "28b50635",
   "metadata": {},
   "outputs": [],
   "source": [
    "df_train.isnull().sum().sort_values(ascending=False).head(20)"
   ]
  },
  {
   "cell_type": "code",
   "execution_count": null,
   "id": "6d393d5e",
   "metadata": {},
   "outputs": [],
   "source": [
    "df_test.isnull().sum().sort_values(ascending=False).head(20)"
   ]
  },
  {
   "cell_type": "markdown",
   "id": "fc825be9",
   "metadata": {},
   "source": [
    "## Delete columns contain missing data"
   ]
  },
  {
   "cell_type": "code",
   "execution_count": null,
   "id": "fb931d6d",
   "metadata": {},
   "outputs": [],
   "source": [
    "df_train = df_train.dropna(axis=1)\n",
    "df_train"
   ]
  },
  {
   "cell_type": "code",
   "execution_count": null,
   "id": "8a0cf4af",
   "metadata": {},
   "outputs": [],
   "source": [
    "df_test = df_test.dropna(axis=1)\n",
    "df_test"
   ]
  },
  {
   "cell_type": "code",
   "execution_count": null,
   "id": "d6339710",
   "metadata": {},
   "outputs": [],
   "source": [
    "df_train.isnull().sum().sort_values(ascending=False).head(20)"
   ]
  },
  {
   "cell_type": "code",
   "execution_count": null,
   "id": "016edd34",
   "metadata": {},
   "outputs": [],
   "source": [
    "df_test.isnull().sum().sort_values(ascending=False).head(20)"
   ]
  },
  {
   "cell_type": "markdown",
   "id": "0af390ea",
   "metadata": {},
   "source": [
    "## Outliers"
   ]
  },
  {
   "cell_type": "code",
   "execution_count": null,
   "id": "d1edf0be",
   "metadata": {},
   "outputs": [],
   "source": [
    "df_train.corr()['SalePrice'].sort_values(ascending=False).head(25)"
   ]
  },
  {
   "cell_type": "code",
   "execution_count": null,
   "id": "0b022074",
   "metadata": {},
   "outputs": [],
   "source": [
    "plt.figure(figsize=(12, 10))\n",
    "sns.regplot(x='OverallQual', y='SalePrice', data=df_train)"
   ]
  },
  {
   "cell_type": "code",
   "execution_count": null,
   "id": "cde4f2d7",
   "metadata": {},
   "outputs": [],
   "source": [
    "plt.figure(figsize=(12, 10))\n",
    "sns.regplot(x='GrLivArea', y='SalePrice', data=df_train)"
   ]
  },
  {
   "cell_type": "code",
   "execution_count": null,
   "id": "eea17520",
   "metadata": {},
   "outputs": [],
   "source": [
    "plt.figure(figsize=(12, 10))\n",
    "sns.regplot(x='GarageCars', y='SalePrice', data=df_train)"
   ]
  },
  {
   "cell_type": "code",
   "execution_count": null,
   "id": "bc21a170",
   "metadata": {},
   "outputs": [],
   "source": [
    "plt.figure(figsize=(12, 10))\n",
    "sns.regplot(x='GarageArea', y='SalePrice', data=df_train)"
   ]
  },
  {
   "cell_type": "code",
   "execution_count": null,
   "id": "04eadfd1",
   "metadata": {},
   "outputs": [],
   "source": [
    "plt.figure(figsize=(12, 10))\n",
    "sns.regplot(x='1stFlrSF', y='SalePrice', data=df_train)"
   ]
  },
  {
   "cell_type": "code",
   "execution_count": null,
   "id": "f84822c9",
   "metadata": {},
   "outputs": [],
   "source": [
    "df_train = df_train[df_train.GrLivArea<4000]\n",
    "df_train = df_train[df_train['1stFlrSF']<4000]"
   ]
  },
  {
   "cell_type": "code",
   "execution_count": null,
   "id": "73ed8538",
   "metadata": {},
   "outputs": [],
   "source": [
    "plt.figure(figsize=(12, 10))\n",
    "sns.regplot(x='GrLivArea', y='SalePrice', data=df_train)"
   ]
  },
  {
   "cell_type": "markdown",
   "id": "3fd53950",
   "metadata": {},
   "source": [
    "## Features selection\n",
    "            ◦ Label encoding\n",
    "            ◦ Check correlation with target"
   ]
  },
  {
   "cell_type": "code",
   "execution_count": null,
   "id": "2799dbd2",
   "metadata": {},
   "outputs": [],
   "source": [
    "cat_cols_train = df_train.columns[df_train.dtypes== 'object']\n",
    "cat_cols_test = df_test.columns[df_test.dtypes== 'object']\n",
    "cat_cols_train"
   ]
  },
  {
   "cell_type": "code",
   "execution_count": null,
   "id": "4e464e52",
   "metadata": {},
   "outputs": [],
   "source": [
    "encoder = LabelEncoder()\n",
    "\n",
    "for i in cat_cols_train:\n",
    "    df_train[i] = encoder.fit_transform(df_train[i])\n",
    "df_train.head()"
   ]
  },
  {
   "cell_type": "code",
   "execution_count": null,
   "id": "2eec77d5",
   "metadata": {},
   "outputs": [],
   "source": [
    "for i in cat_cols_test:\n",
    "    df_test[i] = encoder.fit_transform(df_test[i])\n",
    "df_test.head()"
   ]
  },
  {
   "cell_type": "code",
   "execution_count": null,
   "id": "3f58777f",
   "metadata": {},
   "outputs": [],
   "source": [
    "df_train.corr()['SalePrice'].sort_values(ascending=False).head(25)"
   ]
  },
  {
   "cell_type": "markdown",
   "id": "d003edf7",
   "metadata": {},
   "source": [
    "### Select columns from feature correlation with target"
   ]
  },
  {
   "cell_type": "code",
   "execution_count": null,
   "id": "8f0ec778",
   "metadata": {},
   "outputs": [],
   "source": [
    "select_cols = ['SalePrice', 'MSSubClass', 'LotArea', 'Street', 'LotShape', 'LandContour',\n",
    "       'LotConfig', 'LandSlope', 'Neighborhood', 'Condition1', 'Condition2',\n",
    "       'BldgType', 'HouseStyle', 'OverallQual', 'OverallCond', 'YearBuilt',\n",
    "       'YearRemodAdd', 'RoofStyle', 'RoofMatl', 'ExterQual', 'ExterCond',\n",
    "       'Foundation', 'Heating', 'HeatingQC', 'CentralAir',\n",
    "       '1stFlrSF', '2ndFlrSF', 'LowQualFinSF', 'GrLivArea', 'FullBath',\n",
    "       'HalfBath', 'BedroomAbvGr', 'KitchenAbvGr', 'TotRmsAbvGrd',\n",
    "       'Fireplaces', 'PavedDrive', 'WoodDeckSF', 'OpenPorchSF',\n",
    "       'EnclosedPorch', '3SsnPorch', 'ScreenPorch', 'PoolArea', 'MiscVal',\n",
    "       'MoSold', 'YrSold', 'SaleCondition']"
   ]
  },
  {
   "cell_type": "code",
   "execution_count": null,
   "id": "e5d42763",
   "metadata": {},
   "outputs": [],
   "source": [
    "df_train = df_train[select_cols]\n",
    "df_train"
   ]
  },
  {
   "cell_type": "markdown",
   "id": "5125f522",
   "metadata": {},
   "source": [
    "Feature and Target seperation"
   ]
  },
  {
   "cell_type": "code",
   "execution_count": null,
   "id": "76868f47",
   "metadata": {},
   "outputs": [],
   "source": [
    "X = df_train.drop(['SalePrice'], axis=1)\n",
    "y = df_train['SalePrice']"
   ]
  },
  {
   "cell_type": "markdown",
   "id": "7d33b457",
   "metadata": {},
   "source": [
    "Train test split"
   ]
  },
  {
   "cell_type": "code",
   "execution_count": null,
   "id": "2ffb2fb1",
   "metadata": {},
   "outputs": [],
   "source": [
    "X_train, X_test, y_train, y_test = train_test_split(X, y, test_size=0.25, random_state=9)"
   ]
  },
  {
   "cell_type": "markdown",
   "id": "a01f4573",
   "metadata": {},
   "source": [
    "# Regression model"
   ]
  },
  {
   "cell_type": "code",
   "execution_count": null,
   "id": "19be2c79",
   "metadata": {},
   "outputs": [],
   "source": [
    "# Model LR and prediction\n",
    "lr = LinearRegression()\n",
    "lr.fit(X_train, y_train)\n",
    "lr_pred = lr.predict(X_test)"
   ]
  },
  {
   "cell_type": "code",
   "execution_count": null,
   "id": "358fbf10",
   "metadata": {},
   "outputs": [],
   "source": [
    "# Model Random forest\n",
    "\n",
    "rfr = RandomForestRegressor()\n",
    "rfr.fit(X_train, y_train)\n",
    "rfr_pred = rfr.predict(X_test)"
   ]
  },
  {
   "cell_type": "code",
   "execution_count": null,
   "id": "71aac693",
   "metadata": {},
   "outputs": [],
   "source": [
    "# Model XGBR and prediction\n",
    "xgb = XGBRegressor()\n",
    "xgb.fit(X_train, y_train)\n",
    "xgb_pred = xgb.predict(X_test)"
   ]
  },
  {
   "cell_type": "code",
   "execution_count": null,
   "id": "5194a19a",
   "metadata": {},
   "outputs": [],
   "source": [
    "# Features importances Linear regression\n",
    "\n",
    "# get importances\n",
    "importances = lr.coef_\n",
    "\n",
    "# Summarize feature importance\n",
    "for i, v in enumerate(importances):\n",
    "    print('Feature: %0d, Score: %.5f' % (i,v))"
   ]
  },
  {
   "cell_type": "code",
   "execution_count": null,
   "id": "b4e30046",
   "metadata": {},
   "outputs": [],
   "source": [
    "# Features importances Random forest regression\n",
    "\n",
    "# get importances\n",
    "importances = rfr.feature_importances_\n",
    "\n",
    "# Summarize feature importance\n",
    "for i, v in enumerate(importances):\n",
    "    print('Feature: %0d, Score: %.5f' % (i,v))"
   ]
  },
  {
   "cell_type": "code",
   "execution_count": null,
   "id": "01293a15",
   "metadata": {},
   "outputs": [],
   "source": [
    "# Features importances XGBoost regression\n",
    "\n",
    "# get importances\n",
    "importances = xgb.feature_importances_\n",
    "\n",
    "# Summarize feature importance\n",
    "for i, v in enumerate(importances):\n",
    "    print('Feature: %0d, Score: %.5f' % (i,v))"
   ]
  },
  {
   "cell_type": "code",
   "execution_count": null,
   "id": "08041bf5",
   "metadata": {},
   "outputs": [],
   "source": [
    "# Score\n",
    "mse = mean_squared_error(y_test, lr_pred)\n",
    "print ('Mean squared error:', mse)\n",
    "rmse = sqrt(mse)\n",
    "print ('Root mean squared error:', rmse)\n",
    "print ('r2:', r2_score(y_test, lr_pred))"
   ]
  },
  {
   "cell_type": "code",
   "execution_count": null,
   "id": "4f546a78",
   "metadata": {},
   "outputs": [],
   "source": [
    "# Score\n",
    "mse = mean_squared_error(y_test, rfr_pred)\n",
    "print ('Mean squared error:', mse)\n",
    "rmse = sqrt(mse)\n",
    "print ('Root mean squared error:', rmse)\n",
    "print ('r2:', r2_score(y_test, rfr_pred))"
   ]
  },
  {
   "cell_type": "code",
   "execution_count": null,
   "id": "c172f1a5",
   "metadata": {},
   "outputs": [],
   "source": [
    "# Score\n",
    "mse = mean_squared_error(y_test, xgb_pred)\n",
    "print ('Mean squared error:', mse)\n",
    "rmse = sqrt(mse)\n",
    "print ('Root mean squared error:', rmse)\n",
    "print ('r2:', r2_score(y_test, xgb_pred))"
   ]
  },
  {
   "cell_type": "markdown",
   "id": "adae6292",
   "metadata": {},
   "source": [
    "# Prediction"
   ]
  },
  {
   "cell_type": "markdown",
   "id": "df433881",
   "metadata": {},
   "source": [
    "Convert test file according to model trained style"
   ]
  },
  {
   "cell_type": "code",
   "execution_count": null,
   "id": "7b3ae234",
   "metadata": {},
   "outputs": [],
   "source": [
    "test_cols = ['MSSubClass', 'LotArea', 'Street', 'LotShape', 'LandContour',\n",
    "       'LotConfig', 'LandSlope', 'Neighborhood', 'Condition1', 'Condition2',\n",
    "       'BldgType', 'HouseStyle', 'OverallQual', 'OverallCond', 'YearBuilt',\n",
    "       'YearRemodAdd', 'RoofStyle', 'RoofMatl', 'ExterQual', 'ExterCond',\n",
    "       'Foundation', 'Heating', 'HeatingQC', 'CentralAir',\n",
    "       '1stFlrSF', '2ndFlrSF', 'LowQualFinSF', 'GrLivArea', 'FullBath',\n",
    "       'HalfBath', 'BedroomAbvGr', 'KitchenAbvGr', 'TotRmsAbvGrd',\n",
    "       'Fireplaces', 'PavedDrive', 'WoodDeckSF', 'OpenPorchSF',\n",
    "       'EnclosedPorch', '3SsnPorch', 'ScreenPorch', 'PoolArea', 'MiscVal',\n",
    "       'MoSold', 'YrSold', 'SaleCondition']\n",
    "test = df_test[test_cols]\n",
    "test"
   ]
  },
  {
   "cell_type": "code",
   "execution_count": null,
   "id": "6fc6fbb9",
   "metadata": {},
   "outputs": [],
   "source": [
    "test_pred = xgb.predict(test)"
   ]
  },
  {
   "cell_type": "code",
   "execution_count": null,
   "id": "ad4be156",
   "metadata": {},
   "outputs": [],
   "source": [
    "test_pred"
   ]
  },
  {
   "cell_type": "code",
   "execution_count": null,
   "id": "36d315d2",
   "metadata": {},
   "outputs": [],
   "source": [
    "df_test['SalePrice'] = test_pred\n",
    "df_test"
   ]
  },
  {
   "cell_type": "code",
   "execution_count": null,
   "id": "e9a4316e",
   "metadata": {},
   "outputs": [],
   "source": [
    "df_final = df_test[['Id', 'SalePrice']]\n",
    "df_final"
   ]
  },
  {
   "cell_type": "code",
   "execution_count": null,
   "id": "9c5bf111",
   "metadata": {},
   "outputs": [],
   "source": [
    "df_final.to_csv('submission.csv', index=False)"
   ]
  },
  {
   "cell_type": "code",
   "execution_count": null,
   "id": "d07dea4e",
   "metadata": {},
   "outputs": [],
   "source": [
    "nan"
   ]
  }
 ],
 "metadata": {},
 "nbformat": 4,
 "nbformat_minor": 5
}
