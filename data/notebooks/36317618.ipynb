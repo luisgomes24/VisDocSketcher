{
 "cells": [
  {
   "cell_type": "markdown",
   "id": "da8b63ef",
   "metadata": {},
   "source": [
    "# Item Based Recommendation\n",
    "\n",
    "![image.png](attachment:320ed19f-70dd-4f2b-8de1-4ce179a2eaf8.png)"
   ]
  },
  {
   "cell_type": "markdown",
   "id": "d5abb878",
   "metadata": {},
   "source": [
    "Item based recommendation is a form of collaborative filtering for recommender systems based on the similarity between items calculated using people's ratings of those items."
   ]
  },
  {
   "cell_type": "markdown",
   "id": "dc1ee12b",
   "metadata": {},
   "source": [
    "# <span style=\"color:#2D7680\"> Table of Contents </span>\n",
    " [<span style=\"color:#2D7680\">  1. Examine the Dataset </span>](#Exa)\n",
    " \n",
    " [<span style=\"color:#2D7680\"> 2. Data Preparation </span>](#Dat)\n",
    " \n",
    " [<span style=\"color:#2D7680\"> 3. Item Based Selection </span>](#Ite)\n",
    " \n",
    " [<span style=\"color:#2D7680\">  4. Conclusion </span>](#Con)\n",
    " \n",
    "***\n"
   ]
  },
  {
   "cell_type": "markdown",
   "id": "42a96e20",
   "metadata": {},
   "source": [
    "##  <span style=\"color:#2D7680\"> 1. Examine the Dataset </span> <a class=\"anchor\" id=\"Exa\"></a>\n",
    "\n",
    "The datasets describe ratings and free-text tagging activities from MovieLens, a movie recommendation service. It contains 20000263 ratings and 465564 tag applications across 27278 movies. These data were created by 138493 users between January 09, 1995 and March 31, 2015. This dataset was generated on October 17, 2016.\n",
    "Users were selected at random for inclusion. All selected users had rated at least 20 movies."
   ]
  },
  {
   "cell_type": "markdown",
   "id": "2424103c",
   "metadata": {},
   "source": [
    "**Short explanation of titles from datasets:**\n",
    "\n",
    " **movie.csv**\n",
    "\n",
    "*         movieId – unique movie number\n",
    "*         title – movie name\n",
    "*         movieId – unique movie number"
   ]
  },
  {
   "cell_type": "markdown",
   "id": "49a45c55",
   "metadata": {},
   "source": [
    "\n",
    "\n",
    " **rating.csv**\n",
    "    \n",
    "*         userid – unique user number\n",
    "*         movieId – unique movie number\n",
    "*         rating – the rating given to the movie by the user\n",
    "*         timestamp – movie release date"
   ]
  },
  {
   "cell_type": "markdown",
   "id": "551fdfb2",
   "metadata": {},
   "source": [
    "##  <span style=\"color:#2D7680\"> 2. Data Preparation </span> <a class=\"anchor\" id=\"Dat\"></a>\n",
    "\n",
    "Step 1: Read movie, rating datasets.\n",
    "\n",
    "Step 2: Add the movie names and genre of the Ids to the rating data set from the movie data set.\n",
    "\n",
    "Step3: Keep the names of the films with less than 1000 votes in the list and remove them from the data set.\n",
    "\n",
    "Step 4: Create a pivot table for the dataframe with the userIDs in the index, the movie names in the columns and the ratings as values."
   ]
  },
  {
   "cell_type": "code",
   "execution_count": null,
   "id": "fd07f2bb",
   "metadata": {},
   "outputs": [],
   "source": [
    "# Import libraries\n",
    "\n",
    "import pandas as pd\n",
    "pd.set_option('display.max_columns', None)\n",
    "pd.set_option('display.width', 500)\n",
    "pd.set_option('display.expand_frame_repr', False)"
   ]
  },
  {
   "cell_type": "code",
   "execution_count": null,
   "id": "e6ecf592",
   "metadata": {},
   "outputs": [],
   "source": [
    "# Load datasets\n",
    "\n",
    "movie = pd.read_csv(\"/kaggle/input/movielens-20m-dataset/movie.csv\")\n",
    "rating = pd.read_csv(\"/kaggle/input/movielens-20m-dataset/rating.csv\")"
   ]
  },
  {
   "cell_type": "code",
   "execution_count": null,
   "id": "83f35c73",
   "metadata": {},
   "outputs": [],
   "source": [
    "# Combine two datasets\n",
    "\n",
    "df = movie.merge(rating, how=\"left\", on=\"movieId\")\n",
    "df.head(5)"
   ]
  },
  {
   "cell_type": "code",
   "execution_count": null,
   "id": "3655c244",
   "metadata": {},
   "outputs": [],
   "source": [
    "# Set movie unique values\n",
    "\n",
    "df[\"title\"].nunique()\n",
    "df[\"title\"].value_counts().head()"
   ]
  },
  {
   "cell_type": "code",
   "execution_count": null,
   "id": "783f25b0",
   "metadata": {},
   "outputs": [],
   "source": [
    "# To exclude movies with less than 1000 votes from the dataset\n",
    "\n",
    "comment_counts = pd.DataFrame(df[\"title\"].value_counts())\n",
    "rare_movies = comment_counts[comment_counts[\"title\"] <= 1000].index\n",
    "common_movies = df[~df[\"title\"].isin(rare_movies)]"
   ]
  },
  {
   "cell_type": "code",
   "execution_count": null,
   "id": "7561f2fa",
   "metadata": {},
   "outputs": [],
   "source": [
    "# Create a pivot table for the dataframe with the userIDs in the index, the movie names in the columns, and the ratings as values\n",
    "\n",
    "user_movie_df = common_movies.pivot_table(index=[\"userId\"], columns=[\"title\"], values=\"rating\")\n",
    "user_movie_df.head(5)"
   ]
  },
  {
   "cell_type": "markdown",
   "id": "131f110c",
   "metadata": {},
   "source": [
    "##  <span style=\"color:#2D7680\"> 3. Item Based Selection </span> <a class=\"anchor\" id=\"Ite\"></a>\n",
    "\n",
    "Step 1: Choosing a random user id\n",
    "\n",
    "Step 2: The id of the movie with the most recent score is taken from the movies that the selected    user gives 5 points.\n",
    "\n",
    "Step 3: Filters the user_movie_df dataframe created in the User based recommendation section according to the selected movie id\n",
    "\n",
    "Step 4: Find correlation of selected movie and other movies using filtered dataframe\n",
    "\n",
    "Step 5: Bring the movie names from the movie dataset and select the first 5 movies to recommend"
   ]
  },
  {
   "cell_type": "code",
   "execution_count": null,
   "id": "d343befb",
   "metadata": {},
   "outputs": [],
   "source": [
    "random_user = int(pd.Series(user_movie_df.index).sample(1, random_state=45).values)\n",
    "random_user"
   ]
  },
  {
   "cell_type": "code",
   "execution_count": null,
   "id": "f2ba13e7",
   "metadata": {},
   "outputs": [],
   "source": [
    "# The ID of the movie with the highest and most recent vote by the random user\n",
    "\n",
    "random_user_movie = df[(df[\"userId\"] == random_user) & (df[\"rating\"] == 5)].sort_values(by=\"timestamp\", ascending=False).reset_index()\n",
    "random_user_movie.head(5)"
   ]
  },
  {
   "cell_type": "code",
   "execution_count": null,
   "id": "71df886e",
   "metadata": {},
   "outputs": [],
   "source": [
    "first_movie = random_user_movie[\"title\"][0]\n",
    "first_movie"
   ]
  },
  {
   "cell_type": "code",
   "execution_count": null,
   "id": "f1d6de90",
   "metadata": {},
   "outputs": [],
   "source": [
    "# Finding correlation of selected movie and other movies using filtered dataframe\n",
    "\n",
    "movie_item = user_movie_df[first_movie]\n",
    "recommended = user_movie_df.corrwith(movie_item).sort_values(ascending=False)\n",
    "recommended.head(5)"
   ]
  },
  {
   "cell_type": "code",
   "execution_count": null,
   "id": "8514ca8b",
   "metadata": {},
   "outputs": [],
   "source": [
    "# Suggesting the top 5 movies other than the selected movie itself\n",
    "\n",
    "recommended=recommended.reset_index()\n",
    "\n",
    "recommended.columns = ['movie_name', 'corr']\n",
    "\n",
    "recommended.sort_values(by=\"corr\", ascending=False, inplace=True)\n",
    "\n",
    "recommended = recommended.iloc[1: ]\n",
    "\n",
    "recommended.head(5)"
   ]
  },
  {
   "cell_type": "markdown",
   "id": "18124a57",
   "metadata": {},
   "source": [
    "##  <span style=\"color:#2D7680\"> 4. Conclusion  </span> <a class=\"anchor\" id=\"Con\"></a>\n",
    "\n",
    "The movie with the highest score and the most recent date of the randomly selected user is selected.\n",
    "\n",
    "The correlation between the selected movie and other movies is calculated\n",
    "\n",
    "The top five movies with the highest correlation are recommended"
   ]
  },
  {
   "cell_type": "markdown",
   "id": "acc2c12f",
   "metadata": {},
   "source": [
    " ##  <span style=\"color:#2D7680\"> Keep in Touch!  </span> \n",
    "\n",
    "You can follow my the other social media adresses to see this kind of works!\n",
    "\n",
    "* [GitHub](https://github.com/Vedatgul)\n",
    "* [LinkedIn](http://www.linkedin.com/in/vedat-gül)\n",
    "* [Medium](http://medium.com/@veribilimi35)"
   ]
  }
 ],
 "metadata": {},
 "nbformat": 4,
 "nbformat_minor": 5
}
