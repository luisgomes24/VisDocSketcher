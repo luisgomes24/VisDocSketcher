{
 "cells": [
  {
   "cell_type": "code",
   "execution_count": null,
   "id": "e90327d0",
   "metadata": {},
   "outputs": [],
   "source": [
    "# This Python 3 environment comes with many helpful analytics libraries installed\n",
    "# It is defined by the kaggle/python docker image: https://github.com/kaggle/docker-python\n",
    "# For example, here's several helpful packages to load in \n",
    "\n",
    "import numpy as np # linear algebra\n",
    "import pandas as pd # data processing, CSV file I/O (e.g. pd.read_csv)\n",
    "\n",
    "\n",
    "# Input data files are available in the \"../input/\" directory.\n",
    "# For example, running this (by clicking run or pressing Shift+Enter) will list all files under the input directory\n",
    "\n",
    "import os\n",
    "for dirname, _, filenames in os.walk('/kaggle/input'):\n",
    "    for filename in filenames:\n",
    "        print(os.path.join(dirname, filename))\n",
    "\n",
    "# Any results you write to the current directory are saved as output."
   ]
  },
  {
   "cell_type": "code",
   "execution_count": null,
   "id": "397bcfe5",
   "metadata": {},
   "outputs": [],
   "source": [
    "from sklearn.model_selection import train_test_split\n",
    "from sklearn.compose import ColumnTransformer\n",
    "from sklearn.preprocessing import StandardScaler\n",
    "from sklearn.model_selection import GridSearchCV\n",
    "from sklearn.ensemble import RandomForestClassifier\n",
    "from xgboost import XGBClassifier"
   ]
  },
  {
   "cell_type": "markdown",
   "id": "f2e05460",
   "metadata": {},
   "source": [
    "## Introduction\n",
    "\n",
    "Heart disease remains one of the leading causes of death in both [Canada](https://www150.statcan.gc.ca/n1/en/daily-quotidien/190530/dq190530c-eng.pdf?st=g0roC2Py) and the [USA](https://www.medicalnewstoday.com/articles/282929.php#heart-disease). It can be influenced by a multitude of factors that are related to nutrition, environmental factors, lifestyle, and genetics. In this analysis we will explore some of the potential physiological indicators of heart disease and determine whether we can obtain a model that gives reliable predictions. \n",
    "\n",
    "Historically, women have been underepresented in clinical trials for [medical treatments](https://journals.lww.com/psychopharmacology/Abstract/2019/05000/Systematic_Review_of_Gender_Bias_in_the_Clinical.15.aspx). In ways this has hurt female health because we are using research that is optimized for men and using that to treat the [physiolocigally different](https://www.health.harvard.edu/newsletter_article/mars-vs-venus-the-gender-gap-in-health) female body. Instead it is perhaps more beneficial to analyze data for each sex independently. Based on this idea, we will explore models that train on features that are important to each sex.\n",
    "\n",
    "Other kernels associated with this dataset do a great job of exploring the data from a visual standpoint so I encourage you to check the other ones out and give them a thumbs up if you find them helpful.  \n",
    "\n",
    "Some of the goals for this analysis are as follows:\n",
    "2. explore using Altair, rather than seaborn \n",
    "3. a bonus would be to implement a heroku dashboard (unfinished)\n",
    "4. Obtain a model that is a good predictor of heart disease based on the features in this dataset \n",
    "5. Get insight into which features are the most important \n",
    "3. Should gender-focused models be considered when predicting on gender-specific data?\n",
    "\n",
    "Without further ado, let's get started!"
   ]
  },
  {
   "cell_type": "markdown",
   "id": "7f0ae604",
   "metadata": {},
   "source": [
    "## Initial Exploration"
   ]
  },
  {
   "cell_type": "code",
   "execution_count": null,
   "id": "6cc99dbc",
   "metadata": {},
   "outputs": [],
   "source": [
    "# Read in the kaggle dataset\n",
    "heart_df = pd.read_csv(\"/kaggle/input/heart-disease-dataset/heart.csv\")\n",
    "heart_df.head()"
   ]
  },
  {
   "cell_type": "markdown",
   "id": "afa656a2",
   "metadata": {},
   "source": [
    "It's important to first understand the 13 features involved with this dataset:\n",
    "- **age** *age in years*\n",
    "- **sex** *(1 = male; 0 = female)*\n",
    "- **cp** *chest pain type (0 - Typical Angina (Heart related) 1 - Atypical Angina (Non-heart related) 2 - Non-Anginal pain (Non-heart related) 3 - Asymptomatic (No disease))*\n",
    "- **trestbps** *resting blood pressure (in mm Hg on admission to the hospital)*\n",
    "- **chol** *serum cholestoral in mg/dl (health levels are < 200mg/dl)*\n",
    "- **fbs** *(fasting blood sugar > 120 mg/dl) (1 = true; 0 = false)*\n",
    "- **restecg** *resting electrocardiographic results ( 0 = normal, 1 = ST-T wave abnormality, 2= probable or definite left ventricular hypertrophy by Estes' criteria )*\n",
    "- **thalach** *maximum heart rate achieved*\n",
    "- **exang** *exercise induced angina (1 = yes; 0 = no)*\n",
    "- **oldpeak** *ST depression induced by exercise relative to rest*\n",
    "- **slope** *the slope of the peak exercise ST segment (1 = upsloping, 2 = flat, 3 = downsloping)*\n",
    "- **ca** *number of major vessels (0-3) colored by flourosopy*\n",
    "- **thal** *(1 = normal; 2 = fixed defect; 3 = reversable defect)*\n",
    "\n",
    "Result: \n",
    "- **target** *(1 -heart problem or 0 - no heart problem)*\n"
   ]
  },
  {
   "cell_type": "code",
   "execution_count": null,
   "id": "478eada4",
   "metadata": {},
   "outputs": [],
   "source": [
    "heart_df.hist(figsize = (15,15))"
   ]
  },
  {
   "cell_type": "markdown",
   "id": "be12b956",
   "metadata": {},
   "source": [
    "Some observations about the feature histograms:\n",
    "- chol contains what seems to be a potential outlier at above 500 mg/dl\n",
    "- age varies but most of the density exists at >50 years\n",
    "- target imbalance isn't a problem (approximately equal numbers of \"heart problem\" and \"no heart problem\" outcomes)\n",
    "- there seems to be more males(~700) than females(~300) in the dataset\n",
    "- In data description, ca should have 0-3, but there is also a 4 value? (not sure why this is)\n",
    "- \"Thal\" is not well-defined in the UCI dataset description\n",
    "\n"
   ]
  },
  {
   "cell_type": "code",
   "execution_count": null,
   "id": "9b8845d9",
   "metadata": {},
   "outputs": [],
   "source": [
    "# Check for null values\n",
    "heart_df.isnull().sum()"
   ]
  },
  {
   "cell_type": "markdown",
   "id": "ba970860",
   "metadata": {},
   "source": [
    "The data has already been formatted well based on the above observations so we won't focus on any further data cleaning here, although I encourage you to comment or make any suggestions that come to mind. For example, is it appropriate to consider the extreme **chol** value (~500 mg/dl) as an outlier and remove it before analysis?"
   ]
  },
  {
   "cell_type": "markdown",
   "id": "36aeb84f",
   "metadata": {},
   "source": [
    "## Initial Data Split\n",
    "\n",
    "At this point, we want to make sure we don't make any biased decisions regarding the data we will ultimately test our models on. Before exploring the relationships in the data, we will abide by the golden rule and split the data for the final testing phase."
   ]
  },
  {
   "cell_type": "code",
   "execution_count": null,
   "id": "79d02f93",
   "metadata": {},
   "outputs": [],
   "source": [
    "X_training, X_vault, y_training, y_vault = train_test_split(heart_df.drop(columns = 'target'),\n",
    "                                                            heart_df[['target']],\n",
    "                                                            test_size = 0.2, \n",
    "                                                            random_state = 1)"
   ]
  },
  {
   "cell_type": "markdown",
   "id": "e375032a",
   "metadata": {},
   "source": [
    "## Altair Exploration\n",
    "\n",
    "I know a lot of people tend to use seaborn or built-in plotting methods while exploring kaggle datasets. Altair is an emerging plotting package for python that I believe has a lot of potential. Therefore, we will explore the data using this package and my hope is that I can inspire more people to add this package to their repetoire. Firstly, we need to add some code that will allow altair plots to render on the kaggle notebook [properly](https://www.kaggle.com/jakevdp/altair-kaggle-renderer)."
   ]
  },
  {
   "cell_type": "code",
   "execution_count": null,
   "id": "a478ffbe",
   "metadata": {},
   "outputs": [],
   "source": [
    "# The following code was taken from (https://www.kaggle.com/jakevdp/altair-kaggle-renderer, \n",
    "# attributed to the user\"no data sources\"). This code allows altair charts to render properly\n",
    "# within the kaggle kernel.\n",
    "\n",
    "import altair as alt\n",
    "import json\n",
    "from IPython.display import HTML\n",
    "\n",
    "KAGGLE_HTML_TEMPLATE = \"\"\"\n",
    "<style>\n",
    ".vega-actions a {{\n",
    "    margin-right: 12px;\n",
    "    color: #757575;\n",
    "    font-weight: normal;\n",
    "    font-size: 13px;\n",
    "}}\n",
    ".error {{\n",
    "    color: red;\n",
    "}}\n",
    "</style>\n",
    "<div id=\"{output_div}\"></div>\n",
    "<script>\n",
    "requirejs.config({{\n",
    "    \"paths\": {{\n",
    "        \"vega\": \"{base_url}/vega@{vega_version}?noext\",\n",
    "        \"vega-lib\": \"{base_url}/vega-lib?noext\",\n",
    "        \"vega-lite\": \"{base_url}/vega-lite@{vegalite_version}?noext\",\n",
    "        \"vega-embed\": \"{base_url}/vega-embed@{vegaembed_version}?noext\",\n",
    "    }}\n",
    "}});\n",
    "function showError(el, error){{\n",
    "    el.innerHTML = ('<div class=\"error\">'\n",
    "                    + '<p>JavaScript Error: ' + error.message + '</p>'\n",
    "                    + \"<p>This usually means there's a typo in your chart specification. \"\n",
    "                    + \"See the javascript console for the full traceback.</p>\"\n",
    "                    + '</div>');\n",
    "    throw error;\n",
    "}}\n",
    "require([\"vega-embed\"], function(vegaEmbed) {{\n",
    "    const spec = {spec};\n",
    "    const embed_opt = {embed_opt};\n",
    "    const el = document.getElementById('{output_div}');\n",
    "    vegaEmbed(\"#{output_div}\", spec, embed_opt)\n",
    "      .catch(error => showError(el, error));\n",
    "}});\n",
    "</script>\n",
    "\"\"\"\n",
    "\n",
    "class KaggleHtml(object):\n",
    "    def __init__(self, base_url='https://cdn.jsdelivr.net/npm'):\n",
    "        self.chart_count = 0\n",
    "        self.base_url = base_url\n",
    "        \n",
    "    @property\n",
    "    def output_div(self):\n",
    "        return \"vega-chart-{}\".format(self.chart_count)\n",
    "        \n",
    "    def __call__(self, spec, embed_options=None, json_kwds=None):\n",
    "        # we need to increment the div, because all charts live in the same document\n",
    "        self.chart_count += 1\n",
    "        embed_options = embed_options or {}\n",
    "        json_kwds = json_kwds or {}\n",
    "        html = KAGGLE_HTML_TEMPLATE.format(\n",
    "            spec=json.dumps(spec, **json_kwds),\n",
    "            embed_opt=json.dumps(embed_options),\n",
    "            output_div=self.output_div,\n",
    "            base_url=self.base_url,\n",
    "            vega_version=alt.VEGA_VERSION,\n",
    "            vegalite_version=alt.VEGALITE_VERSION,\n",
    "            vegaembed_version=alt.VEGAEMBED_VERSION\n",
    "        )\n",
    "        return {\"text/html\": html}\n",
    "    \n",
    "alt.renderers.register('kaggle', KaggleHtml())\n",
    "print(\"Define and register the kaggle renderer. Enable with\\n\\n\"\n",
    "      \"    alt.renderers.enable('kaggle')\")"
   ]
  },
  {
   "cell_type": "markdown",
   "id": "0b47765e",
   "metadata": {},
   "source": [
    "The following scatter matrix was not particularly impactful, but I decided to keep it here in case someone wants to utilize something similar in the future. It is a nice way to identify potential variable-variable relationships, and in our case, see if there are any detectable differences between the different sexes (male = 1, female = 0). "
   ]
  },
  {
   "cell_type": "code",
   "execution_count": null,
   "id": "7bce343f",
   "metadata": {},
   "outputs": [],
   "source": [
    "alt.renderers.enable('kaggle')\n",
    "# https://altair-viz.github.io/gallery/scatter_matrix.html\n",
    "alt.Chart(X_training).mark_circle().encode(\n",
    "    alt.X(alt.repeat(\"column\"), type = \"quantitative\"),\n",
    "    alt.Y(alt.repeat(\"row\"), type = \"quantitative\"),\n",
    "    alt.Color(\"sex:N\")\n",
    ").properties(\n",
    "    width = 120,\n",
    "    height = 120\n",
    ").repeat(\n",
    "    row = [\"age\", \"chol\", \"oldpeak\",\"thalach\", \"trestbps\"],\n",
    "    column = [\"trestbps\", \"thalach\", \"oldpeak\", \"chol\", \"age\"]\n",
    ")"
   ]
  },
  {
   "cell_type": "markdown",
   "id": "e188b4a9",
   "metadata": {},
   "source": [
    "Instead of using a scatter matrix, we can use a heatmap which can display correlational relationships in a dataset. To this point, I haven't observed any correlational heatmaps, so I had to create my own method using some inspiration from this [heatmap](https://altair-viz.github.io/gallery/layered_heatmap_text.html). The trick to making the heatmap lies in how we construct the DataFrame. Below I will go through the DataFrame processing in a step-wise manner."
   ]
  },
  {
   "cell_type": "code",
   "execution_count": null,
   "id": "73667e4a",
   "metadata": {},
   "outputs": [],
   "source": [
    "# Combine the features and target of the training dataset \n",
    "# (Note: I didn't do this on the original dataframe to avoid bias entering our analysis)\n",
    "pd.concat([X_training, y_training], sort = False, axis = 1)"
   ]
  },
  {
   "cell_type": "code",
   "execution_count": null,
   "id": "b4df0333",
   "metadata": {},
   "outputs": [],
   "source": [
    "# .corr() finds correlational relationships for each column\n",
    "# I use reset_index() for the melting step to treat column names as a variable instead of an index (see below)\n",
    "pd.concat([X_training, y_training], sort = False, axis = 1).corr().reset_index()"
   ]
  },
  {
   "cell_type": "code",
   "execution_count": null,
   "id": "e20ad43e",
   "metadata": {},
   "outputs": [],
   "source": [
    "# added rounding and melt data frame columns into \"var2\"\n",
    "pd.concat([X_training, y_training], sort = False, axis = 1).corr().round(2).reset_index().melt(id_vars = \"index\",var_name = \"var2\", value_name = \"corr_val\")"
   ]
  },
  {
   "cell_type": "markdown",
   "id": "e07fd29d",
   "metadata": {},
   "source": [
    "Next, it's just a matter of making the plots:"
   ]
  },
  {
   "cell_type": "code",
   "execution_count": null,
   "id": "d099ef0d",
   "metadata": {},
   "outputs": [],
   "source": [
    "# Inspired by https://altair-viz.github.io/gallery/layered_heatmap_text.html\n",
    "def make_heatmap(corr_df):\n",
    "    '''\n",
    "    Take in a correlational dataframe and create a heatmap\n",
    "    \n",
    "    Arguments: \n",
    "    corr_df (DataFrame) - Dataframe of correlational values\n",
    "    '''\n",
    "     \n",
    "    base = alt.Chart(corr_df).encode(\n",
    "        alt.X(\"index\"),\n",
    "        alt.Y(\"var2\")\n",
    "    )\n",
    "    heatmap = base.mark_rect().encode(\n",
    "        alt.Color(\"corr_val\", scale = alt.Scale(scheme = \"viridis\"))\n",
    "    )\n",
    "    \n",
    "    text = base.mark_text().encode(\n",
    "    text = \"corr_val\"\n",
    "    )\n",
    "    return (heatmap + text).properties(height = 500, width = 500)"
   ]
  },
  {
   "cell_type": "code",
   "execution_count": null,
   "id": "e7cf6905",
   "metadata": {},
   "outputs": [],
   "source": [
    "\n",
    "corr_df = pd.concat([X_training, y_training], sort = False, axis = 1).corr().round(2).reset_index().melt(id_vars = \"index\",var_name = \"var2\", value_name = \"corr_val\")\n",
    "make_heatmap(corr_df)"
   ]
  },
  {
   "cell_type": "markdown",
   "id": "28c09d51",
   "metadata": {},
   "source": [
    "Creating a correlational heatmap allows us to discover potential relationships between variables and the target. Thalach, cp, exang, and oldpeak had the highest Pearson correlations with the target value. The variable slope and oldpeak have the highest absolute correlational value, at -0.58.\n",
    "\n",
    "But what happens if we assess the correlations by sex. Do the feature correlations change?"
   ]
  },
  {
   "cell_type": "code",
   "execution_count": null,
   "id": "6cd0bb34",
   "metadata": {},
   "outputs": [],
   "source": [
    "male_corr = pd.concat([X_training, y_training],\n",
    "                      sort = False, \n",
    "                      axis = 1).query(\"sex == 1\").drop([\"sex\"], \n",
    "                                                       axis = 1).corr().round(2).reset_index().melt(id_vars = \"index\",var_name = \"var2\", value_name = \"corr_val\")\n",
    "make_heatmap(male_corr)"
   ]
  },
  {
   "cell_type": "code",
   "execution_count": null,
   "id": "d62efa2e",
   "metadata": {},
   "outputs": [],
   "source": [
    "female_corr = pd.concat([X_training, y_training],\n",
    "                      sort = False, \n",
    "                      axis = 1).query(\"sex == 0\").drop([\"sex\"], \n",
    "                                                       axis = 1).corr().round(2).reset_index().melt(id_vars = \"index\",var_name = \"var2\", value_name = \"corr_val\")\n",
    "make_heatmap(female_corr)"
   ]
  },
  {
   "cell_type": "code",
   "execution_count": null,
   "id": "6705feb7",
   "metadata": {},
   "outputs": [],
   "source": [
    "heart_df.query(\"sex == 1\").shape"
   ]
  },
  {
   "cell_type": "code",
   "execution_count": null,
   "id": "9cef0ce0",
   "metadata": {},
   "outputs": [],
   "source": [
    "heart_df.query(\"sex == 0\").shape"
   ]
  },
  {
   "cell_type": "markdown",
   "id": "0c169a8c",
   "metadata": {},
   "source": [
    "There are [differences in heart disease prevalance](https://www.ncbi.nlm.nih.gov/pubmed/10863872) between males and females.One of the issues with the dataset is that there is more than double the amount of data for males than females. This could explain some the differences in correlations that we observe with the features when assessing each sex independently. "
   ]
  },
  {
   "cell_type": "markdown",
   "id": "ebc64d18",
   "metadata": {},
   "source": [
    "### Generating Models\n",
    "\n",
    "The plan is to train 3 different types of models, on all the data, using the top 7 features with regards to absolute correlational values:\n",
    "1. An overall model based on highest correlated features inclusive of both sexes\n",
    "2. A model trained on features highly correlated in male heart disease\n",
    "3. A model trained on features highly correlated in female heart disease\n",
    "\n",
    "The question is do the models perform relatively the same when predicting heart disease outcomes for men vs women."
   ]
  },
  {
   "cell_type": "code",
   "execution_count": null,
   "id": "27c21a3d",
   "metadata": {},
   "outputs": [],
   "source": [
    "X_train, X_test, y_train, y_test = train_test_split(X_training, y_training, test_size = 0.2, random_state = 2)\n",
    "\n",
    "numerical_categories = [\"age\", \"chol\", \"oldpeak\", \"thalach\", \"trestbps\"]\n",
    "\n",
    "preprocessor = ColumnTransformer(transformers=[\n",
    "        ('scale', StandardScaler(), numerical_categories)], remainder = \"passthrough\")\n",
    "\n",
    "new_columns = [\"age\", \"chol\", \"oldpeak\", \"thalach\", \"trestbps\", \"sex\", \"cp\", \"fbs\", \"restecg\", \"exang\", \"slope\", \"ca\", \"thal\"]\n",
    "\n",
    "X_train_scaled = pd.DataFrame(preprocessor.fit_transform(X_train), columns = new_columns)\n",
    "X_test_scaled = pd.DataFrame(preprocessor.transform(X_test), columns = new_columns)"
   ]
  },
  {
   "cell_type": "markdown",
   "id": "91b4eccf",
   "metadata": {},
   "source": [
    "### Comprehensive Model\n",
    "\n",
    "Trained on highest correlated features while not considering gender."
   ]
  },
  {
   "cell_type": "code",
   "execution_count": null,
   "id": "67cd3adf",
   "metadata": {},
   "outputs": [],
   "source": [
    "X_train_comp = X_train_scaled[[\"thalach\", \"oldpeak\",\"exang\",\"cp\",\"ca\",\"thal\",\"slope\"]]\n",
    "X_test_comp = X_test_scaled[[\"thalach\", \"oldpeak\",\"exang\",\"cp\",\"ca\",\"thal\",\"slope\"]]"
   ]
  },
  {
   "cell_type": "code",
   "execution_count": null,
   "id": "8dac5a91",
   "metadata": {},
   "outputs": [],
   "source": [
    "comp_RF_model = RandomForestClassifier(n_estimators = 150)\n",
    "comp_RF_model.fit(X_train_comp, y_train.to_numpy().ravel())\n",
    "print(f\"Training Accuracy: {comp_RF_model.score(X_train_comp, y_train)}\")\n",
    "print(f\"Test Accuracy: {comp_RF_model.score(X_test_comp, y_test)}\")"
   ]
  },
  {
   "cell_type": "code",
   "execution_count": null,
   "id": "1f0c6b28",
   "metadata": {},
   "outputs": [],
   "source": [
    "comp_XGBoost = XGBClassifier()\n",
    "comp_XGBoost.fit(X_train_comp, y_train.to_numpy().ravel())\n",
    "print(f\"Training Accuracy: {comp_XGBoost.score(X_train_comp, y_train)}\")\n",
    "print(f\"Test Accuracy: {comp_XGBoost.score(X_test_comp, y_test)}\")"
   ]
  },
  {
   "cell_type": "markdown",
   "id": "f20d7ebb",
   "metadata": {},
   "source": [
    "### Male-focused Model\n",
    "\n",
    "Trained on highest-correlated features when only consider male data."
   ]
  },
  {
   "cell_type": "code",
   "execution_count": null,
   "id": "6c45adaf",
   "metadata": {},
   "outputs": [],
   "source": [
    "X_train_male = X_train_scaled[[\"thalach\", \"oldpeak\",\"exang\",\"cp\",\"slope\",\"ca\",\"age\"]]\n",
    "X_test_male = X_test_scaled[[\"thalach\", \"oldpeak\",\"exang\",\"cp\",\"slope\",\"ca\",\"age\"]]"
   ]
  },
  {
   "cell_type": "code",
   "execution_count": null,
   "id": "4f88f454",
   "metadata": {},
   "outputs": [],
   "source": [
    "male_RF_model = RandomForestClassifier(n_estimators = 150)\n",
    "male_RF_model.fit(X_train_male, y_train.to_numpy().ravel())\n",
    "print(f\"Training Accuracy: {male_RF_model.score(X_train_male, y_train)}\")\n",
    "print(f\"Test Accuracy: {male_RF_model.score(X_test_male, y_test)}\")"
   ]
  },
  {
   "cell_type": "code",
   "execution_count": null,
   "id": "cb465c63",
   "metadata": {},
   "outputs": [],
   "source": [
    "male_XGBoost = XGBClassifier()\n",
    "male_XGBoost.fit(X_train_male, y_train.to_numpy().ravel())\n",
    "print(f\"Training Accuracy: {male_XGBoost.score(X_train_male, y_train)}\")\n",
    "print(f\"Test Accuracy: {male_XGBoost.score(X_test_male, y_test)}\")"
   ]
  },
  {
   "cell_type": "markdown",
   "id": "baa7c207",
   "metadata": {},
   "source": [
    "### Female-focused Model\n",
    "\n",
    "Trained on highest-correlated features when only consider female data."
   ]
  },
  {
   "cell_type": "code",
   "execution_count": null,
   "id": "54139029",
   "metadata": {},
   "outputs": [],
   "source": [
    "X_train_female = X_train_scaled[[\"cp\", \"exang\",\"thal\",\"oldpeak\",\"ca\",\"slope\",\"trestbps\"]]\n",
    "X_test_female = X_test_scaled[[\"cp\", \"exang\",\"thal\",\"oldpeak\",\"ca\",\"slope\",\"trestbps\"]]"
   ]
  },
  {
   "cell_type": "code",
   "execution_count": null,
   "id": "21d17470",
   "metadata": {},
   "outputs": [],
   "source": [
    "female_RF_model = RandomForestClassifier(n_estimators = 150)\n",
    "female_RF_model.fit(X_train_female, y_train.to_numpy().ravel())\n",
    "print(f\"Training Accuracy: {female_RF_model.score(X_train_female, y_train)}\")\n",
    "print(f\"Test Accuracy: {female_RF_model.score(X_test_female, y_test)}\")"
   ]
  },
  {
   "cell_type": "code",
   "execution_count": null,
   "id": "28389724",
   "metadata": {},
   "outputs": [],
   "source": [
    "female_XGBoost = XGBClassifier()\n",
    "female_XGBoost.fit(X_train_female, y_train.to_numpy().ravel())\n",
    "print(f\"Training Accuracy: {female_XGBoost.score(X_train_female, y_train)}\")\n",
    "print(f\"Test Accuracy: {female_XGBoost.score(X_test_female, y_test)}\")"
   ]
  },
  {
   "cell_type": "markdown",
   "id": "0626ca83",
   "metadata": {},
   "source": [
    "## Testing on the hidden vault data"
   ]
  },
  {
   "cell_type": "markdown",
   "id": "83315c2e",
   "metadata": {},
   "source": [
    "Finally, we will test these models on the vault data to see how well it does when predicting male heart disease vs female heart disease."
   ]
  },
  {
   "cell_type": "code",
   "execution_count": null,
   "id": "d761c344",
   "metadata": {},
   "outputs": [],
   "source": [
    "vault_male = pd.concat([X_vault, y_vault], axis = 1, sort = False).query(\"sex == 1\")\n",
    "vault_female = pd.concat([X_vault, y_vault], axis = 1, sort = False).query(\"sex == 0\")\n",
    "print(vault_male.shape)\n",
    "print(vault_female.shape)"
   ]
  },
  {
   "cell_type": "code",
   "execution_count": null,
   "id": "af9e8c31",
   "metadata": {},
   "outputs": [],
   "source": [
    "# Apply the scaling\n",
    "X_vault_scaled = pd.DataFrame(preprocessor.transform(X_vault), columns = new_columns)\n",
    "X_vault_male_scaled = pd.DataFrame(preprocessor.transform(vault_male.drop(columns = ['target'])), columns = new_columns)\n",
    "X_vault_female_scaled = pd.DataFrame(preprocessor.transform(vault_female.drop(columns = ['target'])), columns = new_columns)"
   ]
  },
  {
   "cell_type": "code",
   "execution_count": null,
   "id": "40955e2e",
   "metadata": {},
   "outputs": [],
   "source": [
    "comp_features = [\"thalach\", \"oldpeak\",\"exang\",\"cp\",\"ca\",\"thal\",\"slope\"]\n",
    "male_features = [\"thalach\", \"oldpeak\",\"exang\",\"cp\",\"slope\",\"ca\",\"age\"]\n",
    "female_features = [\"cp\", \"exang\",\"thal\",\"oldpeak\",\"ca\",\"slope\",\"trestbps\"]\n",
    "\n",
    "XG_score_dict = {\"XG Boost Scores\":[\"Both Genders\", \"Male Data\",\"Female Data\"]}\n",
    "\n",
    "XG_score_dict[\"Comprehensive Model Acc\"] = [comp_XGBoost.score(X_vault_scaled[comp_features], y_vault),\n",
    "                                        comp_XGBoost.score(X_vault_male_scaled[comp_features], vault_male[['target']]),\n",
    "                                       comp_XGBoost.score(X_vault_female_scaled[comp_features], vault_female[['target']])]\n",
    "\n",
    "XG_score_dict[\"Male-focused Model Acc\"] = [male_XGBoost.score(X_vault_scaled[male_features], y_vault),\n",
    "                                        male_XGBoost.score(X_vault_male_scaled[male_features], vault_male[['target']]),\n",
    "                                       male_XGBoost.score(X_vault_female_scaled[male_features], vault_female[['target']])]\n",
    "\n",
    "XG_score_dict[\"Female-focused Model Acc\"] =[female_XGBoost.score(X_vault_scaled[female_features], y_vault),\n",
    "                                        female_XGBoost.score(X_vault_male_scaled[female_features], vault_male[['target']]),\n",
    "                                       female_XGBoost.score(X_vault_female_scaled[female_features], vault_female[['target']])]\n",
    "pd.DataFrame(XG_score_dict).round(2)"
   ]
  },
  {
   "cell_type": "markdown",
   "id": "c0497886",
   "metadata": {},
   "source": [
    "The comprehensive model performed best when predicting for data including both genders, as well as the male-exclusive data. Interestingly, the female-focused model predicted the female data with 6% less accuracy than both the comprehensive and male-focused models."
   ]
  },
  {
   "cell_type": "code",
   "execution_count": null,
   "id": "b527a318",
   "metadata": {},
   "outputs": [],
   "source": [
    "RF_score_dict = {\"RF Scores\":[\"Both Genders\", \"Male Data\",\"Female Data\"]}\n",
    "\n",
    "RF_score_dict[\"Comprehensive Model Acc\"] = [comp_RF_model.score(X_vault_scaled[comp_features], y_vault),\n",
    "                                        comp_RF_model.score(X_vault_male_scaled[comp_features], vault_male[['target']]),\n",
    "                                       comp_RF_model.score(X_vault_female_scaled[comp_features], vault_female[['target']])]\n",
    "\n",
    "RF_score_dict[\"Male-focused Model Acc\"] = [male_RF_model.score(X_vault_scaled[male_features], y_vault),\n",
    "                                        male_RF_model.score(X_vault_male_scaled[male_features], vault_male[['target']]),\n",
    "                                       male_RF_model.score(X_vault_female_scaled[male_features], vault_female[['target']])]\n",
    "\n",
    "RF_score_dict[\"Female-focused Model Acc\"] =[female_RF_model.score(X_vault_scaled[female_features], y_vault),\n",
    "                                        female_RF_model.score(X_vault_male_scaled[female_features], vault_male[['target']]),\n",
    "                                       female_RF_model.score(X_vault_female_scaled[female_features], vault_female[['target']])]\n",
    "\n",
    "pd.DataFrame(RF_score_dict).round(2)"
   ]
  },
  {
   "cell_type": "markdown",
   "id": "115deff3",
   "metadata": {},
   "source": [
    "The RF model performed better in general than the XGBoost model, with the lowest prediction score being 98%. Once again the female-focused model performed worse when predicting female-exclusive data. The male-focused model performed slightly better than the comprehensive model when predicting male-exclusive data. "
   ]
  },
  {
   "cell_type": "markdown",
   "id": "b0f679e7",
   "metadata": {},
   "source": [
    "## Conclusion\n",
    "\n",
    "In this study, different models were constructed based on highest-correlated features for each gender. Overall, the RF model performed better than the XGBoost model, on both the test and hidden vault data. The main question asked was whether training a model on features important to a specific gender improved performance on gender-specific data, compared to a model trained on features important to both genders. The only case where an improvement was observed with the male-focused RF model which performed slightly better than the comprehensive model (~1%) on male-specific data. \n",
    "\n",
    "Interestingly, both the female-focused RF and XG models performed worse on female-specific data, compared to both the comprehensive and male-focused models. One potential explanation for this is the small number of female observations in the vault data (53). The small sample size may not be sufficient to give a reliable accuracy score. It is also important to note that the correlations used were based on a subset the data and don't necessarily provide an accurate representation of the population data. In hindsight, it may have been better to separate the data first by gender and then split them into independent training and test sets.\n",
    "\n",
    "In this study, we explored potential differences in models constructed with a specific gender in mind. Perhaps, there is a better method of feature selection that could be implemented. Furthermore, more models could be explored along with their hyperparameters. \n",
    "\n",
    "If anyone has any comments or suggestions, I encourage you to voice them as I am always looking for feedback. If you enjoyed this study or learned something useful, I would appreciate an upvote. I may consider creating a heroku dashboard to visualize the heart disease data in the future (using plotly dash).\n",
    "\n"
   ]
  }
 ],
 "metadata": {},
 "nbformat": 4,
 "nbformat_minor": 5
}
