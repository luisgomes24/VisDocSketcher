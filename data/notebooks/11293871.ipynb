{
 "cells": [
  {
   "cell_type": "code",
   "execution_count": null,
   "id": "639e07d6",
   "metadata": {},
   "outputs": [],
   "source": [
    "# This Python 3 environment comes with many helpful analytics libraries installed\n",
    "# It is defined by the kaggle/python Docker image: https://github.com/kaggle/docker-python\n",
    "# For example, here's several helpful packages to load\n",
    "\n",
    "import numpy as np # linear algebra\n",
    "import pandas as pd # data processing, CSV file I/O (e.g. pd.read_csv)\n",
    "\n",
    "# Input data files are available in the read-only \"../input/\" directory\n",
    "# For example, running this (by clicking run or pressing Shift+Enter) will list all files under the input directory\n",
    "\n",
    "import os\n",
    "for dirname, _, filenames in os.walk('/kaggle/input'):\n",
    "    for filename in filenames:\n",
    "        print(os.path.join(dirname, filename))\n",
    "\n",
    "# You can write up to 5GB to the current directory (/kaggle/working/) that gets preserved as output when you create a version using \"Save & Run All\" \n",
    "# You can also write temporary files to /kaggle/temp/, but they won't be saved outside of the current session"
   ]
  },
  {
   "cell_type": "code",
   "execution_count": null,
   "id": "940f3c6e",
   "metadata": {},
   "outputs": [],
   "source": [
    "df_2009 = pd.read_csv('/kaggle/input/lok-sabha-election-candidate-list-2004-to-2019/LokSabha2009.csv')\n",
    "df_2019 = pd.read_csv('/kaggle/input/lok-sabha-election-candidate-list-2004-to-2019/LokSabha2019.csv')\n",
    "df_2014 = pd.read_csv('/kaggle/input/lok-sabha-election-candidate-list-2004-to-2019/LokSabha2014.csv')\n",
    "df_2004 = pd.read_csv('/kaggle/input/lok-sabha-election-candidate-list-2004-to-2019/LokSabha2004.csv')"
   ]
  },
  {
   "cell_type": "markdown",
   "id": "f96f512c",
   "metadata": {},
   "source": [
    "# Data Preprocessing"
   ]
  },
  {
   "cell_type": "code",
   "execution_count": null,
   "id": "62a61bad",
   "metadata": {},
   "outputs": [],
   "source": [
    "df_2004.head()"
   ]
  },
  {
   "cell_type": "code",
   "execution_count": null,
   "id": "0448e6b4",
   "metadata": {},
   "outputs": [],
   "source": [
    "df_2009.head()"
   ]
  },
  {
   "cell_type": "code",
   "execution_count": null,
   "id": "33a9487f",
   "metadata": {},
   "outputs": [],
   "source": [
    "df_2014.head()"
   ]
  },
  {
   "cell_type": "code",
   "execution_count": null,
   "id": "60199305",
   "metadata": {},
   "outputs": [],
   "source": [
    "df_2019.head()"
   ]
  },
  {
   "cell_type": "code",
   "execution_count": null,
   "id": "4e7d7b8d",
   "metadata": {},
   "outputs": [],
   "source": [
    "def sort_df_by_criminal_cases(df):\n",
    "    return df.sort_values(by='Criminal Cases', ascending=False)"
   ]
  },
  {
   "cell_type": "code",
   "execution_count": null,
   "id": "ae8a37e9",
   "metadata": {},
   "outputs": [],
   "source": [
    "df_2004 = sort_df_by_criminal_cases(df_2004)\n",
    "df_2009 = sort_df_by_criminal_cases(df_2009)\n",
    "df_2014 = sort_df_by_criminal_cases(df_2014)\n",
    "df_2019 = sort_df_by_criminal_cases(df_2019)"
   ]
  },
  {
   "cell_type": "code",
   "execution_count": null,
   "id": "edf2001a",
   "metadata": {},
   "outputs": [],
   "source": [
    "def find_highest_crime_city(df, citylist):\n",
    "    max_city = ''\n",
    "    max_crime = 0\n",
    "    for city in citylist:\n",
    "        total_crime = df.loc[df.City == city, 'Criminal Cases'].sum()\n",
    "        if total_crime > max_crime:\n",
    "            max_city = city\n",
    "            max_crime = total_crime\n",
    "        \n",
    "    return max_city, max_crime\n",
    "        "
   ]
  },
  {
   "cell_type": "code",
   "execution_count": null,
   "id": "82f71c85",
   "metadata": {},
   "outputs": [],
   "source": [
    "def top_five_crime_candidates(df):\n",
    "    return df[:5][['Candidate','Criminal Cases']]"
   ]
  },
  {
   "cell_type": "markdown",
   "id": "382aa894",
   "metadata": {},
   "source": [
    "# Sort the data based upon number of criminal cases."
   ]
  },
  {
   "cell_type": "markdown",
   "id": "47f21580",
   "metadata": {},
   "source": [
    "### 2004 Election -- City With Most Criminal Cases"
   ]
  },
  {
   "cell_type": "code",
   "execution_count": null,
   "id": "1da308a2",
   "metadata": {},
   "outputs": [],
   "source": [
    "city_list_2004 = df_2004['City'].unique()\n",
    "max_city_2004, max_crime_2004 = find_highest_crime_city(df_2004, city_list_2004)\n",
    "print(max_city_2004, max_crime_2004)"
   ]
  },
  {
   "cell_type": "markdown",
   "id": "d3f1d25d",
   "metadata": {},
   "source": [
    "### 2009 Election -- City With Most Criminal Cases"
   ]
  },
  {
   "cell_type": "code",
   "execution_count": null,
   "id": "55fbe046",
   "metadata": {},
   "outputs": [],
   "source": [
    "city_list_2009 = df_2009['City'].unique()\n",
    "max_city_2009, max_crime_2009 = find_highest_crime_city(df_2009, city_list_2009)\n",
    "print(max_city_2009, max_crime_2009)"
   ]
  },
  {
   "cell_type": "markdown",
   "id": "0b88c5de",
   "metadata": {},
   "source": [
    "### 2014 Election -- City With Most Criminal Cases"
   ]
  },
  {
   "cell_type": "code",
   "execution_count": null,
   "id": "46afbdce",
   "metadata": {},
   "outputs": [],
   "source": [
    "city_list_2014 = df_2014['City'].unique()\n",
    "max_city_2014, max_crime_2014 = find_highest_crime_city(df_2014, city_list_2014)\n",
    "print(max_city_2014, max_crime_2014)"
   ]
  },
  {
   "cell_type": "markdown",
   "id": "b7207bfe",
   "metadata": {},
   "source": [
    "### 2019 Election -- City With Most Criminal Cases"
   ]
  },
  {
   "cell_type": "code",
   "execution_count": null,
   "id": "8d584547",
   "metadata": {},
   "outputs": [],
   "source": [
    "city_list_2019 = df_2019['City'].unique()\n",
    "max_city_2019, max_crime_2019 = find_highest_crime_city(df_2019, city_list_2019)\n",
    "print(max_city_2019, max_crime_2019)"
   ]
  },
  {
   "cell_type": "markdown",
   "id": "88e9b194",
   "metadata": {},
   "source": [
    "### 2004 Election -- Top 5 Candidates With Most Criminal Cases"
   ]
  },
  {
   "cell_type": "code",
   "execution_count": null,
   "id": "4745974f",
   "metadata": {},
   "outputs": [],
   "source": [
    "top_five_crime_candidates(df_2004)"
   ]
  },
  {
   "cell_type": "markdown",
   "id": "5479c00c",
   "metadata": {},
   "source": [
    "### 2009 Election -- Top 5 Candidates With Most Criminal Cases"
   ]
  },
  {
   "cell_type": "code",
   "execution_count": null,
   "id": "72e96447",
   "metadata": {},
   "outputs": [],
   "source": [
    "top_five_crime_candidates(df_2009)"
   ]
  },
  {
   "cell_type": "markdown",
   "id": "8f1f8219",
   "metadata": {},
   "source": [
    "### 2014 Election -- Top 5 Candidates With Most Criminal Cases"
   ]
  },
  {
   "cell_type": "code",
   "execution_count": null,
   "id": "75e215d1",
   "metadata": {},
   "outputs": [],
   "source": [
    "top_five_crime_candidates(df_2014)"
   ]
  },
  {
   "cell_type": "markdown",
   "id": "b6ad6b73",
   "metadata": {},
   "source": [
    "### 2019 Election -- Top 5 Candidates With Most Criminal Cases"
   ]
  },
  {
   "cell_type": "code",
   "execution_count": null,
   "id": "89f8878b",
   "metadata": {},
   "outputs": [],
   "source": [
    "top_five_crime_candidates(df_2019)"
   ]
  },
  {
   "cell_type": "markdown",
   "id": "4467b036",
   "metadata": {},
   "source": [
    "# Create a plot with education degree distribution."
   ]
  },
  {
   "cell_type": "code",
   "execution_count": null,
   "id": "b76d35e7",
   "metadata": {},
   "outputs": [],
   "source": [
    "import plotly.express as px"
   ]
  },
  {
   "cell_type": "code",
   "execution_count": null,
   "id": "b041b4f9",
   "metadata": {},
   "outputs": [],
   "source": [
    "fig_2004 = px.pie(df_2004, names='Education', title='2004 Election -- Percent Distribution of Education of Candidates')\n",
    "fig_2004.show()"
   ]
  },
  {
   "cell_type": "code",
   "execution_count": null,
   "id": "8b45f2c6",
   "metadata": {},
   "outputs": [],
   "source": [
    "fig_2009 = px.pie(df_2009, names='Education', title='2009 Election -- Percent Distribution of Education of Candidates')\n",
    "fig_2009.show()"
   ]
  },
  {
   "cell_type": "code",
   "execution_count": null,
   "id": "88c5f180",
   "metadata": {},
   "outputs": [],
   "source": [
    "fig_2014 = px.pie(df_2014, names='Education', title='2014 Election -- Percent Distribution of Education of Candidates')\n",
    "fig_2014.show()"
   ]
  },
  {
   "cell_type": "code",
   "execution_count": null,
   "id": "7b6c6ea0",
   "metadata": {},
   "outputs": [],
   "source": [
    "fig_2019 = px.pie(df_2019, names='Education', title='2019 Election -- Percent Distribution of Education of Candidates')\n",
    "fig_2019.show()"
   ]
  },
  {
   "cell_type": "code",
   "execution_count": null,
   "id": "557f31fe",
   "metadata": {},
   "outputs": [],
   "source": [
    "nan"
   ]
  }
 ],
 "metadata": {},
 "nbformat": 4,
 "nbformat_minor": 5
}
