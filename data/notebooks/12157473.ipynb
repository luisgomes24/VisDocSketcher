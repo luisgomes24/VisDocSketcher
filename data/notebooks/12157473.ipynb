{
 "cells": [
  {
   "cell_type": "markdown",
   "id": "7336ebf0",
   "metadata": {},
   "source": [
    "## 1.0 - Base construction"
   ]
  },
  {
   "cell_type": "markdown",
   "id": "2b0365a9",
   "metadata": {},
   "source": [
    "### 1.1 - Import from libraries"
   ]
  },
  {
   "cell_type": "code",
   "execution_count": null,
   "id": "5006d79a",
   "metadata": {},
   "outputs": [],
   "source": [
    "import pandas as pd\n",
    "\n",
    "import requests\n",
    "import json\n",
    "\n",
    "import matplotlib.pyplot as plt\n",
    "import seaborn as sns"
   ]
  },
  {
   "cell_type": "markdown",
   "id": "599b4562",
   "metadata": {},
   "source": [
    "### 1.2 - Customize figures"
   ]
  },
  {
   "cell_type": "code",
   "execution_count": null,
   "id": "ede4c6c7",
   "metadata": {},
   "outputs": [],
   "source": [
    "sns.set_style('darkgrid')\n",
    "\n",
    "color = 'deeppink'"
   ]
  },
  {
   "cell_type": "markdown",
   "id": "1b245a86",
   "metadata": {},
   "source": [
    "## 2.0 - First steps"
   ]
  },
  {
   "cell_type": "markdown",
   "id": "0434eb5e",
   "metadata": {},
   "source": [
    "### 2.1 - Connection with the API"
   ]
  },
  {
   "cell_type": "code",
   "execution_count": null,
   "id": "c5de5eca",
   "metadata": {},
   "outputs": [],
   "source": [
    "url = 'https://pokeapi.co/api/v2/pokemon/'\n",
    "response = requests.get(url)\n",
    "content = response.json()\n",
    "status_code = response.status_code\n",
    "\n",
    "print('Connection status: {}'.format(status_code))\n",
    "print('Total pokemons: {}'.format(content['count']))"
   ]
  },
  {
   "cell_type": "markdown",
   "id": "c6e40c67",
   "metadata": {},
   "source": [
    "### 2.2. - Pokemon names and address"
   ]
  },
  {
   "cell_type": "code",
   "execution_count": null,
   "id": "6dc97e0a",
   "metadata": {},
   "outputs": [],
   "source": [
    "page = 'https://pokeapi.co/api/v2/pokemon/?offset=0&limit=20'\n",
    "content['next'] = 0\n",
    "\n",
    "poke_names = []\n",
    "\n",
    "while content['next'] != None:\n",
    "    response = requests.get(page)\n",
    "    content = response.json()\n",
    "\n",
    "    for i in content['results']:\n",
    "        poke_names.append(i)\n",
    "\n",
    "    page = content['next']\n",
    "\n",
    "names = pd.DataFrame(poke_names)"
   ]
  },
  {
   "cell_type": "markdown",
   "id": "fed22fc5",
   "metadata": {},
   "source": [
    "### 2.3 - Getting the contents of pages"
   ]
  },
  {
   "cell_type": "code",
   "execution_count": null,
   "id": "11d72132",
   "metadata": {},
   "outputs": [],
   "source": [
    "poke_content = []\n",
    "\n",
    "for i in names['url']:\n",
    "    response = requests.get(i)\n",
    "    content_json = response.json()\n",
    "\n",
    "    poke_content.append(content_json)\n",
    "\n",
    "content = pd.DataFrame(poke_content)"
   ]
  },
  {
   "cell_type": "markdown",
   "id": "3d6be2cb",
   "metadata": {},
   "source": [
    "### 2.4 - Joining items 2.2 and 2.3"
   ]
  },
  {
   "cell_type": "code",
   "execution_count": null,
   "id": "fb94337e",
   "metadata": {},
   "outputs": [],
   "source": [
    "pokemon = pd.concat([names, \n",
    "                     content.drop('name', axis= 1)], \n",
    "                    axis=1)\n",
    "\n",
    "pokemon"
   ]
  },
  {
   "cell_type": "markdown",
   "id": "c5c2b5d3",
   "metadata": {},
   "source": [
    "## 3.0 - Manipulating dataframe"
   ]
  },
  {
   "cell_type": "markdown",
   "id": "e68ef0a4",
   "metadata": {},
   "source": [
    "### 3.1 - Deleting uninteresting columns"
   ]
  },
  {
   "cell_type": "code",
   "execution_count": null,
   "id": "3843748a",
   "metadata": {},
   "outputs": [],
   "source": [
    "cols_delete = ['id', 'base_experience', 'url', 'forms', 'game_indices',\n",
    "               'held_items', 'is_default', 'location_area_encounters',\n",
    "               'order', 'species', 'sprites']\n",
    "pokemon.drop(cols_delete, axis= 1, inplace= True)\n",
    "pokemon"
   ]
  },
  {
   "cell_type": "markdown",
   "id": "2664d721",
   "metadata": {},
   "source": [
    "### 3.2 - Collecting column values"
   ]
  },
  {
   "cell_type": "markdown",
   "id": "2bb60b6c",
   "metadata": {},
   "source": [
    "#### Column: abilities"
   ]
  },
  {
   "cell_type": "code",
   "execution_count": null,
   "id": "862ef11b",
   "metadata": {},
   "outputs": [],
   "source": [
    "abilities = []\n",
    "\n",
    "for i in pokemon['abilities']:\n",
    "    ability = []\n",
    "    \n",
    "    for j in i:\n",
    "        ability.append(j['ability']['name'])\n",
    "        \n",
    "    abilities.append(ability)\n",
    "\n",
    "pokemon['abilities'] = abilities"
   ]
  },
  {
   "cell_type": "markdown",
   "id": "1b28daf6",
   "metadata": {},
   "source": [
    "#### Column: moves"
   ]
  },
  {
   "cell_type": "code",
   "execution_count": null,
   "id": "760b28a2",
   "metadata": {},
   "outputs": [],
   "source": [
    "moves = []\n",
    "\n",
    "for i in pokemon['moves']:\n",
    "    move = []\n",
    "    \n",
    "    for j in i:\n",
    "        move.append(j['move']['name'])\n",
    "        \n",
    "    moves.append(move)\n",
    "\n",
    "pokemon['moves'] = moves"
   ]
  },
  {
   "cell_type": "markdown",
   "id": "58eafa17",
   "metadata": {},
   "source": [
    "#### Column: stats"
   ]
  },
  {
   "cell_type": "code",
   "execution_count": null,
   "id": "1f56e564",
   "metadata": {},
   "outputs": [],
   "source": [
    "stats = []\n",
    "\n",
    "for i in pokemon['stats']:\n",
    "    base_stat = []\n",
    "    \n",
    "    for j in i:\n",
    "        base_stat.append(j['base_stat'])\n",
    "        \n",
    "    stats.append(base_stat)\n",
    "\n",
    "stats_df = pd.DataFrame(stats,\n",
    "                        columns= ['hp',\n",
    "                                  'attack',\n",
    "                                  'defense',\n",
    "                                  'special-attack',\n",
    "                                  'special-defense',\n",
    "                                  'speed'])\n",
    "\n",
    "pokemon = pd.concat([pokemon, stats_df], \n",
    "                    axis=1)\n",
    "\n",
    "pokemon.drop('stats', axis= 1, inplace= True)"
   ]
  },
  {
   "cell_type": "markdown",
   "id": "d1ab539e",
   "metadata": {},
   "source": [
    "#### Column: types"
   ]
  },
  {
   "cell_type": "code",
   "execution_count": null,
   "id": "2b2de431",
   "metadata": {},
   "outputs": [],
   "source": [
    "types = []\n",
    "\n",
    "for i in pokemon['types']:\n",
    "    type_ = []\n",
    "    \n",
    "    for j in i:\n",
    "        type_.append(j['type']['name'])\n",
    "        \n",
    "    types.append(type_)\n",
    "\n",
    "types = pd.DataFrame(types, \n",
    "                     columns= ['type_1', 'type_2'])\n",
    "\n",
    "pokemon = pd.concat([pokemon, types], \n",
    "                    axis=1)\n",
    "\n",
    "pokemon.drop('types', axis= 1, inplace= True)"
   ]
  },
  {
   "cell_type": "markdown",
   "id": "eea39c63",
   "metadata": {},
   "source": [
    "#### Column: base_total"
   ]
  },
  {
   "cell_type": "code",
   "execution_count": null,
   "id": "e79cf834",
   "metadata": {},
   "outputs": [],
   "source": [
    "pokemon['base_total'] = (pokemon['hp']\n",
    "                         + pokemon['attack']\n",
    "                         + pokemon['defense']\n",
    "                         + pokemon['special-attack']\n",
    "                         + pokemon['special-defense']\n",
    "                         + pokemon['speed'])"
   ]
  },
  {
   "cell_type": "markdown",
   "id": "0630645c",
   "metadata": {},
   "source": [
    "#### Column: height"
   ]
  },
  {
   "cell_type": "code",
   "execution_count": null,
   "id": "70a7fc3a",
   "metadata": {},
   "outputs": [],
   "source": [
    "pokemon['height'] = pokemon['height']/10"
   ]
  },
  {
   "cell_type": "markdown",
   "id": "abcb591a",
   "metadata": {},
   "source": [
    "#### Column: weight"
   ]
  },
  {
   "cell_type": "code",
   "execution_count": null,
   "id": "716b187f",
   "metadata": {},
   "outputs": [],
   "source": [
    "pokemon['weight'] = pokemon['weight']/10"
   ]
  },
  {
   "cell_type": "markdown",
   "id": "2b7973a7",
   "metadata": {},
   "source": [
    "### 3.3 - Organizing the columns"
   ]
  },
  {
   "cell_type": "code",
   "execution_count": null,
   "id": "903d9664",
   "metadata": {},
   "outputs": [],
   "source": [
    "pokemon = pokemon[['name',\n",
    "                   'height', 'weight',\n",
    "                   'type_1', 'type_2',\n",
    "                   'hp', 'attack',\n",
    "                   'defense', 'special-attack',\n",
    "                   'special-defense', 'speed',\n",
    "                   'base_total', 'abilities',\n",
    "                   'moves']]"
   ]
  },
  {
   "cell_type": "markdown",
   "id": "759d7b69",
   "metadata": {},
   "source": [
    "### 3.4 - Finalized dataset"
   ]
  },
  {
   "cell_type": "code",
   "execution_count": null,
   "id": "c2b88482",
   "metadata": {},
   "outputs": [],
   "source": [
    "pokemon"
   ]
  },
  {
   "cell_type": "markdown",
   "id": "c4030b87",
   "metadata": {},
   "source": [
    "## 4.0 - Preliminary EDA"
   ]
  },
  {
   "cell_type": "markdown",
   "id": "23ed7477",
   "metadata": {},
   "source": [
    "Before continuing, it would be very nice to take a look at the [dataset](https://www.kaggle.com/felipecabueno/complete-pokemon-database-by-pokeapico) page where you have all the detailed information for the columns."
   ]
  },
  {
   "cell_type": "markdown",
   "id": "cc46ec88",
   "metadata": {},
   "source": [
    "### 4.1 - Weight vs Height"
   ]
  },
  {
   "cell_type": "code",
   "execution_count": null,
   "id": "dff80b0f",
   "metadata": {},
   "outputs": [],
   "source": [
    "fig, ax = plt.subplots(figsize = (10, 12))\n",
    "\n",
    "plt.subplot(2,1,1)\n",
    "sns.scatterplot(x= 'height',\n",
    "                y= 'weight',\n",
    "                data= pokemon,\n",
    "                color= color)\n",
    "\n",
    "plt.subplots_adjust(hspace= 0.3)\n",
    "plt.show()"
   ]
  },
  {
   "cell_type": "markdown",
   "id": "eb93d1e0",
   "metadata": {},
   "source": [
    "### 4.2 - View of types vs power"
   ]
  },
  {
   "cell_type": "code",
   "execution_count": null,
   "id": "f230c601",
   "metadata": {},
   "outputs": [],
   "source": [
    "fig, ax = plt.subplots(figsize = (10, 12))\n",
    "\n",
    "plt.subplot(2,1,1)\n",
    "sns.boxplot(x= 'type_1',\n",
    "            y= 'base_total',\n",
    "            data= pokemon,\n",
    "            width= 0.3,\n",
    "            color= color)\n",
    "plt.xticks(rotation= 90)\n",
    "\n",
    "plt.subplot(2,1,2)\n",
    "sns.boxplot(x= 'type_2',\n",
    "            y= 'base_total',\n",
    "            data= pokemon,\n",
    "            width= 0.3,\n",
    "            color= color)\n",
    "plt.xticks(rotation= 90)\n",
    "\n",
    "plt.subplots_adjust(hspace= 0.3)\n",
    "plt.show()"
   ]
  },
  {
   "cell_type": "markdown",
   "id": "e4d88f89",
   "metadata": {},
   "source": [
    "### 4.3 - Attributes distribution"
   ]
  },
  {
   "cell_type": "code",
   "execution_count": null,
   "id": "52250a90",
   "metadata": {},
   "outputs": [],
   "source": [
    "def dist_atr(dataframe, column):\n",
    "    sns.kdeplot(dataframe[column],\n",
    "                color= color)\n",
    "\n",
    "fig, ax = plt.subplots(figsize = (10, 12))\n",
    "\n",
    "plt.subplot(3,2,1)\n",
    "dist_atr(pokemon, 'hp')\n",
    "\n",
    "plt.subplot(3,2,2)\n",
    "dist_atr(pokemon, 'attack')\n",
    "\n",
    "plt.subplot(3,2,3)\n",
    "dist_atr(pokemon, 'defense')\n",
    "\n",
    "plt.subplot(3,2,4)\n",
    "dist_atr(pokemon, 'special-attack')\n",
    "\n",
    "plt.subplot(3,2,5)\n",
    "dist_atr(pokemon, 'special-defense')\n",
    "\n",
    "plt.subplot(3,2,6)\n",
    "dist_atr(pokemon, 'speed')\n",
    "\n",
    "plt.subplots_adjust(hspace= 0.3)\n",
    "plt.show()"
   ]
  },
  {
   "cell_type": "markdown",
   "id": "57f28f5c",
   "metadata": {},
   "source": [
    "### 4.4 - Base total distribution"
   ]
  },
  {
   "cell_type": "code",
   "execution_count": null,
   "id": "47639b4a",
   "metadata": {},
   "outputs": [],
   "source": [
    "fig, ax = plt.subplots(figsize = (10, 6))\n",
    "\n",
    "dist_atr(pokemon, 'base_total')\n",
    "\n",
    "plt.subplots_adjust(hspace= 0.3)\n",
    "plt.show()"
   ]
  },
  {
   "cell_type": "markdown",
   "id": "7db6b0ba",
   "metadata": {},
   "source": [
    "## 5.0 - Downloading the dataset"
   ]
  },
  {
   "cell_type": "code",
   "execution_count": null,
   "id": "f81d2062",
   "metadata": {},
   "outputs": [],
   "source": [
    "pokemon.to_csv('pokemon.csv',\n",
    "               index=False) "
   ]
  },
  {
   "cell_type": "markdown",
   "id": "1454ddbc",
   "metadata": {},
   "source": [
    "The data input on this notebook was only useful to be linked with the [dataset](https://www.kaggle.com/felipecabueno/complete-pokemon-database-by-pokeapico). (The result)"
   ]
  }
 ],
 "metadata": {},
 "nbformat": 4,
 "nbformat_minor": 5
}
