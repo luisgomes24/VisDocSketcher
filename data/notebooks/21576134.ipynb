{
 "cells": [
  {
   "cell_type": "code",
   "execution_count": null,
   "id": "42e72c3e",
   "metadata": {},
   "outputs": [],
   "source": [
    "import pandas as pd\n",
    "from matplotlib import pyplot\n",
    "from fbprophet import Prophet\n",
    "from sklearn.metrics import mean_absolute_error\n",
    "from fbprophet.plot import plot_plotly, plot_components_plotly"
   ]
  },
  {
   "cell_type": "code",
   "execution_count": null,
   "id": "c1db1461",
   "metadata": {},
   "outputs": [],
   "source": [
    "df = pd.read_csv(\"../input/monthly-sale-data/monthly_sale_data.csv\")\n",
    "print(df.shape)\n",
    "print(df.head())\n",
    "print(df.tail())"
   ]
  },
  {
   "cell_type": "code",
   "execution_count": null,
   "id": "dd6df7d0",
   "metadata": {},
   "outputs": [],
   "source": [
    "df.info()"
   ]
  },
  {
   "cell_type": "code",
   "execution_count": null,
   "id": "dca236ae",
   "metadata": {},
   "outputs": [],
   "source": [
    "df.describe().T"
   ]
  },
  {
   "cell_type": "code",
   "execution_count": null,
   "id": "8fb6122f",
   "metadata": {},
   "outputs": [],
   "source": [
    "df.plot()\n",
    "pyplot.show()"
   ]
  },
  {
   "cell_type": "markdown",
   "id": "b891d720",
   "metadata": {},
   "source": [
    "# change column name "
   ]
  },
  {
   "cell_type": "code",
   "execution_count": null,
   "id": "8c1b0c4c",
   "metadata": {},
   "outputs": [],
   "source": [
    "df.columns = ['ds', 'y']"
   ]
  },
  {
   "cell_type": "markdown",
   "id": "730e976f",
   "metadata": {},
   "source": [
    "# change month data to datetime "
   ]
  },
  {
   "cell_type": "code",
   "execution_count": null,
   "id": "9c8112a5",
   "metadata": {},
   "outputs": [],
   "source": [
    "df['ds']= pd.to_datetime(df['ds'])"
   ]
  },
  {
   "cell_type": "markdown",
   "id": "b9b7278f",
   "metadata": {},
   "source": [
    "# make Prophet and fit data "
   ]
  },
  {
   "cell_type": "code",
   "execution_count": null,
   "id": "f65f6665",
   "metadata": {},
   "outputs": [],
   "source": [
    "model = Prophet()\n",
    "\n",
    "model.fit(df)"
   ]
  },
  {
   "cell_type": "markdown",
   "id": "eec24025",
   "metadata": {},
   "source": [
    "# predict last year "
   ]
  },
  {
   "cell_type": "code",
   "execution_count": null,
   "id": "55f748fc",
   "metadata": {},
   "outputs": [],
   "source": [
    "# train set 마지막 1년 날짜 생성\n",
    "last_1year = list()\n",
    "for i in range(1, 13):\n",
    "    last_1year.append(['2020-%02d' % i])\n",
    "last_1year = pd.DataFrame(last_1year, columns = ['ds'])\n",
    "last_1year['ds']= pd.to_datetime(last_1year['ds'])"
   ]
  },
  {
   "cell_type": "code",
   "execution_count": null,
   "id": "8f98f288",
   "metadata": {},
   "outputs": [],
   "source": [
    "forecast = model.predict(last_1year)"
   ]
  },
  {
   "cell_type": "code",
   "execution_count": null,
   "id": "faf5f2c7",
   "metadata": {},
   "outputs": [],
   "source": [
    "forecast.columns"
   ]
  },
  {
   "cell_type": "code",
   "execution_count": null,
   "id": "b5287676",
   "metadata": {},
   "outputs": [],
   "source": [
    "print(forecast[['ds', 'yhat', 'yhat_lower', 'yhat_upper']].head())"
   ]
  },
  {
   "cell_type": "code",
   "execution_count": null,
   "id": "7f79761a",
   "metadata": {},
   "outputs": [],
   "source": [
    "model.plot(forecast)\n",
    "pyplot.show()"
   ]
  },
  {
   "cell_type": "markdown",
   "id": "ee5fd692",
   "metadata": {},
   "source": [
    "# predict next year"
   ]
  },
  {
   "cell_type": "code",
   "execution_count": null,
   "id": "0ce9e96d",
   "metadata": {},
   "outputs": [],
   "source": [
    "next_year = list()\n",
    "for i in range(1, 13):\n",
    "    next_year.append(['2021-%02d' % i])\n",
    "next_year = pd.DataFrame(next_year, columns = ['ds'])\n",
    "next_year['ds']= pd.to_datetime(next_year['ds'])"
   ]
  },
  {
   "cell_type": "code",
   "execution_count": null,
   "id": "4422c32e",
   "metadata": {},
   "outputs": [],
   "source": [
    "forecast = model.predict(next_year)"
   ]
  },
  {
   "cell_type": "code",
   "execution_count": null,
   "id": "903d6ae9",
   "metadata": {},
   "outputs": [],
   "source": [
    "model.plot(forecast)\n",
    "pyplot.show()"
   ]
  }
 ],
 "metadata": {},
 "nbformat": 4,
 "nbformat_minor": 5
}
