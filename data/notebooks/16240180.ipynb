{
 "cells": [
  {
   "cell_type": "markdown",
   "id": "afbc1143",
   "metadata": {},
   "source": [
    "# Is $Y$ normal?\n",
    "In linear regression, notation such as the below equation can be somewhat puzzeling, if you are a beginner, like me:\n",
    "$$ Y \\sim \\mathcal{N}(\\alpha+\\beta \\cdot x,\\,\\epsilon)\\ $$\n",
    "\n",
    "What does this mean?\n",
    "\n",
    "Does it mean that $ Y $ is now also normal distributed?\n",
    "\n",
    "$$ Y \\sim \\mathcal{N}(\\mu,\\,\\sigma^{2})\\ $$\n",
    "\n",
    "This notebook explores this a bit, in order to get a more clear understanding.\n",
    "\n"
   ]
  },
  {
   "cell_type": "code",
   "execution_count": null,
   "id": "1c56bbf5",
   "metadata": {},
   "outputs": [],
   "source": [
    "# This Python 3 environment comes with many helpful analytics libraries installed\n",
    "# It is defined by the kaggle/python Docker image: https://github.com/kaggle/docker-python\n",
    "# For example, here's several helpful packages to load\n",
    "\n",
    "import numpy as np # linear algebra\n",
    "import pandas as pd # data processing, CSV file I/O (e.g. pd.read_csv)\n",
    "import matplotlib.pyplot as plt\n",
    "import seaborn as sns\n",
    "import sympy as sp"
   ]
  },
  {
   "cell_type": "markdown",
   "id": "db71d6a5",
   "metadata": {},
   "source": [
    "Lets consider a simple linear line:"
   ]
  },
  {
   "cell_type": "code",
   "execution_count": null,
   "id": "855bd33d",
   "metadata": {},
   "outputs": [],
   "source": [
    "x,y,alpha,beta = sp.symbols('x y alpha beta')\n",
    "eq = sp.Eq(y,\n",
    "          alpha + beta*x)\n",
    "eq"
   ]
  },
  {
   "cell_type": "code",
   "execution_count": null,
   "id": "428d4dbe",
   "metadata": {},
   "outputs": [],
   "source": [
    "## Converting sympy expression to python method:\n",
    "lambda_eq = sp.lambdify([x,alpha,beta],eq.rhs)\n",
    "lambda_eq"
   ]
  },
  {
   "cell_type": "markdown",
   "id": "ee9f6db7",
   "metadata": {},
   "source": [
    "Here is a graph showing this line for 5 values of $x$:"
   ]
  },
  {
   "cell_type": "code",
   "execution_count": null,
   "id": "5c9a2b35",
   "metadata": {},
   "outputs": [],
   "source": [
    "N_x = 5\n",
    "N_epsilon = 1000\n",
    "N = N_x*N_epsilon\n",
    "\n",
    "\n",
    "xs = np.linspace(0,1, int(N_x))\n",
    "x_ = np.tile(xs,N_epsilon)\n",
    "\n",
    "df = pd.DataFrame(index=x_)\n",
    "df['x'] = x_\n",
    "df['alpha'] = 10\n",
    "df['beta'] = 60\n",
    "df['y'] = lambda_eq(x=df['x'], alpha=df['alpha'], beta=df['beta'])"
   ]
  },
  {
   "cell_type": "code",
   "execution_count": null,
   "id": "16f5c7cc",
   "metadata": {},
   "outputs": [],
   "source": [
    "fig,ax=plt.subplots()\n",
    "df.groupby(by='x').first().plot(y='y', style='o-', lw=2, ax=ax, zorder=2)\n",
    "ax.set_ylabel('y')\n",
    "ax.set_xlabel('x');"
   ]
  },
  {
   "cell_type": "markdown",
   "id": "cdabeecb",
   "metadata": {},
   "source": [
    "Let's pretend that this line represents something that we can measure from a physical experiment. We assume that the measuring error is normal distributed $ \\epsilon \\sim \\mathcal{N}(0,\\,\\sigma^{2})\\ $ so that the measured values of $y$ is expressed as:"
   ]
  },
  {
   "cell_type": "code",
   "execution_count": null,
   "id": "d0b44717",
   "metadata": {},
   "outputs": [],
   "source": [
    "epsilon = sp.symbols('epsilon')\n",
    "eq_probabalitic = sp.Eq(eq.lhs,\n",
    "                       eq.rhs + epsilon)\n",
    "\n",
    "eq_probabalitic"
   ]
  },
  {
   "cell_type": "markdown",
   "id": "280a2b3f",
   "metadata": {},
   "source": [
    "We measure $y$ 1000 times for each of the 5 values of $x$. This means that we will get 1000 values of the measuring error $\\epsilon \\sim \\mathcal{N}(0,2^{2})\\ $ for each $x$."
   ]
  },
  {
   "cell_type": "code",
   "execution_count": null,
   "id": "a95dac1c",
   "metadata": {},
   "outputs": [],
   "source": [
    "np.random.seed(42)\n",
    "df['epsilon'] = df.groupby('x')['y'].transform(lambda x: np.random.normal(loc=0, scale = 2.0, size=N_epsilon))"
   ]
  },
  {
   "cell_type": "code",
   "execution_count": null,
   "id": "675ff032",
   "metadata": {},
   "outputs": [],
   "source": [
    "## Converting sympy expression to python method:\n",
    "lambda_eq_probabalitic = sp.lambdify([x,alpha,beta,epsilon],eq_probabalitic.rhs)\n",
    "lambda_eq_probabalitic"
   ]
  },
  {
   "cell_type": "code",
   "execution_count": null,
   "id": "03ae8220",
   "metadata": {},
   "outputs": [],
   "source": [
    "df['y_measure'] = lambda_eq_probabalitic(x=df['x'], alpha=df['alpha'], beta=df['beta'], epsilon=df['epsilon'])\n"
   ]
  },
  {
   "cell_type": "markdown",
   "id": "cf39ae36",
   "metadata": {},
   "source": [
    "The measured values of $y$ is shown in the graph below:"
   ]
  },
  {
   "cell_type": "code",
   "execution_count": null,
   "id": "3ba470e6",
   "metadata": {},
   "outputs": [],
   "source": [
    "fig,ax=plt.subplots()\n",
    "df.plot(y='y', style='-', lw=2, ax=ax, zorder=2)\n",
    "df.plot(y='y_measure', style='.', alpha=0.05, ax=ax, zorder=1)\n",
    "ax.set_ylabel('y')\n",
    "ax.set_xlabel('x');"
   ]
  },
  {
   "cell_type": "markdown",
   "id": "d0cf5c10",
   "metadata": {},
   "source": [
    "The measured $y$ has values distributed around the true values of $y$. These distributions becomes even more visible if we create histograms of the measured $y$:"
   ]
  },
  {
   "cell_type": "code",
   "execution_count": null,
   "id": "e4b29f52",
   "metadata": {},
   "outputs": [],
   "source": [
    "fig,ax=plt.subplots()\n",
    "for the_x, group in df.groupby(by='x'):\n",
    "    group.hist(column='y_measure', bins=20, ax=ax, label='x=%0.2f' % the_x)\n",
    "    \n",
    "ax.set_xlabel('y_measure')\n",
    "ax.legend();"
   ]
  },
  {
   "cell_type": "markdown",
   "id": "bb8fa474",
   "metadata": {},
   "source": [
    "So it is very clear from the above graph that the measured $y$ is not normal distributed but the measurement error $\\epsilon$ (being the deviation from the idealized line) is:"
   ]
  },
  {
   "cell_type": "code",
   "execution_count": null,
   "id": "74d55b0c",
   "metadata": {},
   "outputs": [],
   "source": [
    "ax_epsilon = sns.histplot(data=df, x=\"epsilon\", stat=\"density\", bins=20, kde=True);\n",
    "#ax_epsilon.set_xlim(ax_y.get_xlim());\n",
    "ax_epsilon.set_xlabel('Measure error: $\\epsilon$');"
   ]
  },
  {
   "cell_type": "markdown",
   "id": "49e30544",
   "metadata": {},
   "source": [
    "The histogram of the idealized $y$ looks like this, by the way:"
   ]
  },
  {
   "cell_type": "code",
   "execution_count": null,
   "id": "c3b0baed",
   "metadata": {},
   "outputs": [],
   "source": [
    "ax_y = sns.histplot(data=df, x=\"y\", stat=\"density\", bins=20, kde=True);"
   ]
  }
 ],
 "metadata": {},
 "nbformat": 4,
 "nbformat_minor": 5
}
