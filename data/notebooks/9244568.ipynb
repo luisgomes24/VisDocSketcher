{
 "cells": [
  {
   "cell_type": "code",
   "execution_count": null,
   "id": "01d70380",
   "metadata": {},
   "outputs": [],
   "source": [
    "# This Python 3 environment comes with many helpful analytics libraries installed\n",
    "# It is defined by the kaggle/python Docker image: https://github.com/kaggle/docker-python\n",
    "# For example, here's several helpful packages to load\n",
    "\n",
    "import numpy as np # linear algebra\n",
    "import pandas as pd # data processing, CSV file I/O (e.g. pd.read_csv)\n",
    "import matplotlib.pyplot as plt\n",
    "import seaborn as sns\n",
    "import warnings\n",
    "warnings.filterwarnings('ignore')\n",
    "sns.set()\n",
    "\n",
    "# Input data files are available in the read-only \"../input/\" directory\n",
    "# For example, running this (by clicking run or pressing Shift+Enter) will list all files under the input directory\n",
    "\n",
    "import os\n",
    "for dirname, _, filenames in os.walk('/kaggle/input'):\n",
    "    for filename in filenames:\n",
    "        print(os.path.join(dirname, filename))\n",
    "\n",
    "# You can write up to 5GB to the current directory (/kaggle/working/) that gets preserved as output when you create a version using \"Save & Run All\" \n",
    "# You can also write temporary files to /kaggle/temp/, but they won't be saved outside of the current session"
   ]
  },
  {
   "cell_type": "markdown",
   "id": "e1c08399",
   "metadata": {},
   "source": [
    "# **Load the Data**"
   ]
  },
  {
   "cell_type": "code",
   "execution_count": null,
   "id": "67b39f4a",
   "metadata": {},
   "outputs": [],
   "source": [
    "train = pd.read_csv('/kaggle/input/covid19-local-us-ca-forecasting-week-1/ca_train.csv',parse_dates = ['Date'])\n",
    "test = pd.read_csv('/kaggle/input/covid19-local-us-ca-forecasting-week-1/ca_test.csv')\n",
    "submission = pd.read_csv('/kaggle/input/covid19-local-us-ca-forecasting-week-1/ca_submission.csv')"
   ]
  },
  {
   "cell_type": "markdown",
   "id": "e36d8431",
   "metadata": {},
   "source": [
    "# **EDA FOR THE DATASET**"
   ]
  },
  {
   "cell_type": "code",
   "execution_count": null,
   "id": "22eeeb59",
   "metadata": {},
   "outputs": [],
   "source": [
    "train.head()"
   ]
  },
  {
   "cell_type": "code",
   "execution_count": null,
   "id": "64fc9bf7",
   "metadata": {},
   "outputs": [],
   "source": [
    "train.info()"
   ]
  },
  {
   "cell_type": "markdown",
   "id": "4b492400",
   "metadata": {},
   "source": [
    "First Convert the Date in Train dataset for the further analysis and you can do this by using the .to_datetime function or you can use parse_date at the time of reading the csv file.as I used at the reading of the file"
   ]
  },
  {
   "cell_type": "code",
   "execution_count": null,
   "id": "60056eef",
   "metadata": {},
   "outputs": [],
   "source": [
    "date_data = train['Date']\n",
    "confirmed_cases = train['ConfirmedCases']\n",
    "plt.figure(figsize=(10,8))\n",
    "plt.plot(date_data,confirmed_cases)\n",
    "plt.xticks(rotation=90)\n",
    "plt.title('Time Series Analysis for the confirmed Cases')\n",
    "plt.show()"
   ]
  },
  {
   "cell_type": "code",
   "execution_count": null,
   "id": "a1a73964",
   "metadata": {},
   "outputs": [],
   "source": [
    "date_data = train['Date']\n",
    "Fatalities = train['Fatalities']\n",
    "plt.figure(figsize=(10,8))\n",
    "plt.plot(date_data,Fatalities)\n",
    "plt.xticks(rotation=90)\n",
    "plt.title('Time Series Analysis for Fatalities')\n",
    "plt.show()"
   ]
  },
  {
   "cell_type": "markdown",
   "id": "9cf4188f",
   "metadata": {},
   "source": [
    "So, as we can see as we incresed the confrimed_cases gov also incerased the Falaliets"
   ]
  },
  {
   "cell_type": "code",
   "execution_count": null,
   "id": "d48069b3",
   "metadata": {},
   "outputs": [],
   "source": [
    "train.head()"
   ]
  },
  {
   "cell_type": "code",
   "execution_count": null,
   "id": "1334693b",
   "metadata": {},
   "outputs": [],
   "source": [
    "train['Province/State'].value_counts()"
   ]
  },
  {
   "cell_type": "code",
   "execution_count": null,
   "id": "fea1afdf",
   "metadata": {},
   "outputs": [],
   "source": [
    "plt.figure(figsize=(20,5))\n",
    "sns.countplot(y = train['ConfirmedCases'])\n",
    "plt.title('Count for confirmed cases')\n",
    "plt.show()"
   ]
  },
  {
   "cell_type": "code",
   "execution_count": null,
   "id": "363b9154",
   "metadata": {},
   "outputs": [],
   "source": [
    "plt.title('Count for confirmed cases')\n",
    "sns.distplot(train['ConfirmedCases'],kde = False,bins=20)"
   ]
  },
  {
   "cell_type": "markdown",
   "id": "0061db04",
   "metadata": {},
   "source": [
    "We will concentrate only those columns which having confirmed cases as greater than zero"
   ]
  },
  {
   "cell_type": "code",
   "execution_count": null,
   "id": "4f459e2d",
   "metadata": {},
   "outputs": [],
   "source": [
    "train_new = train[train['ConfirmedCases'] > 0]\n",
    "train_new"
   ]
  },
  {
   "cell_type": "code",
   "execution_count": null,
   "id": "856a3d81",
   "metadata": {},
   "outputs": [],
   "source": [
    "plt.figure(figsize=(10,8))\n",
    "sns.barplot(x='Date',y='ConfirmedCases',data=train_new)\n",
    "plt.xticks(rotation=45)\n",
    "plt.title('Confirmed cases as per Date')\n",
    "plt.show()"
   ]
  },
  {
   "cell_type": "code",
   "execution_count": null,
   "id": "bc4f82a3",
   "metadata": {},
   "outputs": [],
   "source": [
    "plt.figure(figsize=(10,8))\n",
    "sns.barplot(x='Date',y='Fatalities',data=train_new)\n",
    "plt.xticks(rotation=45)\n",
    "plt.title('Confirmed Death as per Date')\n",
    "plt.show()"
   ]
  },
  {
   "cell_type": "markdown",
   "id": "de066d86",
   "metadata": {},
   "source": [
    "# **Feature Engineering**"
   ]
  },
  {
   "cell_type": "markdown",
   "id": "62fc7f78",
   "metadata": {},
   "source": [
    "**Now let's do some Feature Engineering**"
   ]
  },
  {
   "cell_type": "code",
   "execution_count": null,
   "id": "cb556b02",
   "metadata": {},
   "outputs": [],
   "source": [
    "train_new.head()"
   ]
  },
  {
   "cell_type": "code",
   "execution_count": null,
   "id": "edd3cad2",
   "metadata": {},
   "outputs": [],
   "source": [
    "train_new['Week'] = train_new['Date'].dt.week\n",
    "train_new['Day'] = train_new['Date'].dt.day\n",
    "train_new['DayOfWeek'] = train_new['Date'].dt.dayofweek\n",
    "train_new['DayOfYear'] = train_new['Date'].dt.dayofyear\n",
    "train_new.head()"
   ]
  },
  {
   "cell_type": "markdown",
   "id": "68a87ee5",
   "metadata": {},
   "source": [
    "Now, drop the all other columns as they having the similer data and not going to hamper on our model"
   ]
  },
  {
   "cell_type": "code",
   "execution_count": null,
   "id": "d2d4f3bb",
   "metadata": {},
   "outputs": [],
   "source": [
    "df = train_new[['Date','Week','Day','DayOfWeek','DayOfYear','ConfirmedCases','Fatalities']]\n",
    "df.head()"
   ]
  },
  {
   "cell_type": "markdown",
   "id": "dc54f1ef",
   "metadata": {},
   "source": [
    "It's time for using models and fitting our dataset for obtaining the results. We will use few models for the same."
   ]
  },
  {
   "cell_type": "code",
   "execution_count": null,
   "id": "ff1f5546",
   "metadata": {},
   "outputs": [],
   "source": [
    "from sklearn.linear_model import LinearRegression,Lasso\n",
    "from sklearn.linear_model import BayesianRidge\n",
    "from sklearn.neighbors import KNeighborsRegressor\n",
    "from sklearn.ensemble import RandomForestRegressor,GradientBoostingRegressor\n",
    "from sklearn.tree import DecisionTreeRegressor\n",
    "from sklearn.metrics import r2_score,roc_auc_score\n",
    "from sklearn.model_selection import train_test_split"
   ]
  },
  {
   "cell_type": "code",
   "execution_count": null,
   "id": "c29ede05",
   "metadata": {},
   "outputs": [],
   "source": [
    "X = df.drop(['Date','ConfirmedCases','Fatalities'],axis=1)\n",
    "y = df[['ConfirmedCases','Fatalities']]"
   ]
  },
  {
   "cell_type": "markdown",
   "id": "8159cf5b",
   "metadata": {},
   "source": [
    "Split the train and test dataset"
   ]
  },
  {
   "cell_type": "code",
   "execution_count": null,
   "id": "f6c91a0f",
   "metadata": {},
   "outputs": [],
   "source": [
    "X_train,X_test,y_train,y_test = train_test_split(X,y,test_size=0.2,random_state=1)"
   ]
  },
  {
   "cell_type": "code",
   "execution_count": null,
   "id": "006fe390",
   "metadata": {},
   "outputs": [],
   "source": [
    "print(f'Size of X_train : {X_train.shape}')\n",
    "print(f'Size of X_test : {X_test.shape}')\n",
    "print(f'Size of y_train : {y_train.shape}')\n",
    "print(f'Size of y_test : {y_test.shape}')"
   ]
  },
  {
   "cell_type": "code",
   "execution_count": null,
   "id": "33c8eee3",
   "metadata": {},
   "outputs": [],
   "source": [
    "X_train.head()"
   ]
  },
  {
   "cell_type": "code",
   "execution_count": null,
   "id": "87fc70e9",
   "metadata": {},
   "outputs": [],
   "source": [
    "y_train.head()"
   ]
  },
  {
   "cell_type": "code",
   "execution_count": null,
   "id": "c6c00f80",
   "metadata": {},
   "outputs": [],
   "source": [
    "def predict_confirmed_cases(regression_algo):\n",
    "    r = regression_algo()\n",
    "    r.fit(X_train,y_train['ConfirmedCases'])\n",
    "    y_pred = r.predict(X_test)\n",
    "    rSquare = r2_score(y_test['ConfirmedCases'],y_pred)\n",
    "    confirmed_cases.append(rSquare)\n",
    "\n",
    "def predict_confirmed_deths(algos):\n",
    "    r = algos()\n",
    "    r.fit(X_train,y_train['Fatalities'])\n",
    "    y_pred = r.predict(X_test)\n",
    "    rSquare = r2_score(y_test['Fatalities'],y_pred)\n",
    "    confirmed_death.append(rSquare)\n",
    "    \n",
    "models = [KNeighborsRegressor,LinearRegression,RandomForestRegressor,DecisionTreeRegressor,BayesianRidge,\n",
    "          GradientBoostingRegressor,Lasso]\n",
    "\n",
    "confirmed_cases = []\n",
    "confirmed_death = []"
   ]
  },
  {
   "cell_type": "code",
   "execution_count": null,
   "id": "c190518f",
   "metadata": {},
   "outputs": [],
   "source": [
    "for i in models:\n",
    "    predict_confirmed_cases(i)"
   ]
  },
  {
   "cell_type": "code",
   "execution_count": null,
   "id": "981be0e0",
   "metadata": {},
   "outputs": [],
   "source": [
    "for j in models:\n",
    "    predict_confirmed_deths(j)"
   ]
  },
  {
   "cell_type": "code",
   "execution_count": null,
   "id": "88b4b9f5",
   "metadata": {},
   "outputs": [],
   "source": [
    "confirmed_cases"
   ]
  },
  {
   "cell_type": "code",
   "execution_count": null,
   "id": "017fa36e",
   "metadata": {},
   "outputs": [],
   "source": [
    "confirmed_death"
   ]
  },
  {
   "cell_type": "code",
   "execution_count": null,
   "id": "290f0c06",
   "metadata": {},
   "outputs": [],
   "source": [
    "models = pd.DataFrame({\n",
    "    'Model': [\"KNeighborsRegressor\",\"LinearRegression\",\"RandomForestRegressor\",\"DecisionTreeRegressor\",\"BayesianRidge\",\n",
    "          \"GradientBoostingRegressor\",\"Lasso\"],\n",
    "    'ConfirmedCase_r2': confirmed_cases,\n",
    "    'Fatalities_r2' : confirmed_death\n",
    "})"
   ]
  },
  {
   "cell_type": "code",
   "execution_count": null,
   "id": "53d711cf",
   "metadata": {},
   "outputs": [],
   "source": [
    "models"
   ]
  },
  {
   "cell_type": "markdown",
   "id": "7dcd37d6",
   "metadata": {},
   "source": [
    "As we can see in the above result by using **KNeighborsRegressor** and **GradientBoostingRegressor** we are getting best result"
   ]
  },
  {
   "cell_type": "code",
   "execution_count": null,
   "id": "21e4a86d",
   "metadata": {},
   "outputs": [],
   "source": [
    "test.head()"
   ]
  },
  {
   "cell_type": "code",
   "execution_count": null,
   "id": "ee144d7f",
   "metadata": {},
   "outputs": [],
   "source": [
    "test.info()"
   ]
  },
  {
   "cell_type": "code",
   "execution_count": null,
   "id": "ef41cf8a",
   "metadata": {},
   "outputs": [],
   "source": [
    "test_data = test[['ForecastId','Date']]\n",
    "test_data.head()"
   ]
  },
  {
   "cell_type": "code",
   "execution_count": null,
   "id": "c505b7fb",
   "metadata": {},
   "outputs": [],
   "source": [
    "test_data['Date'] = pd.to_datetime(test_data['Date'])\n",
    "test_data['Week'] = test_data['Date'].dt.week\n",
    "test_data['Day'] = test_data['Date'].dt.day\n",
    "test_data['DayOfWeek'] = test_data['Date'].dt.dayofweek\n",
    "test_data['DayOfYear'] = test_data['Date'].dt.dayofyear\n",
    "test_data.head()"
   ]
  },
  {
   "cell_type": "markdown",
   "id": "536d5d5d",
   "metadata": {},
   "source": [
    "Create the model to fit on test dataset"
   ]
  },
  {
   "cell_type": "code",
   "execution_count": null,
   "id": "ac014b97",
   "metadata": {},
   "outputs": [],
   "source": [
    "Kneighbour = KNeighborsRegressor()\n",
    "Kneighbour.fit(X_train,y_train['ConfirmedCases'])"
   ]
  },
  {
   "cell_type": "code",
   "execution_count": null,
   "id": "49516c1b",
   "metadata": {},
   "outputs": [],
   "source": [
    "decisiontree = GradientBoostingRegressor()\n",
    "decisiontree.fit(X_train,y_train['Fatalities'])"
   ]
  },
  {
   "cell_type": "code",
   "execution_count": null,
   "id": "ce9a36d5",
   "metadata": {},
   "outputs": [],
   "source": [
    "test_data['ConfirmedCases'] = Kneighbour.predict(test_data.drop(['Date','ForecastId'],axis=1))"
   ]
  },
  {
   "cell_type": "code",
   "execution_count": null,
   "id": "b04c920b",
   "metadata": {},
   "outputs": [],
   "source": [
    "test_data['Fatalities'] = decisiontree.predict(test_data.drop(['Date','ForecastId','ConfirmedCases'],axis=1))"
   ]
  },
  {
   "cell_type": "code",
   "execution_count": null,
   "id": "7cadfc06",
   "metadata": {},
   "outputs": [],
   "source": [
    "test_data.head()"
   ]
  },
  {
   "cell_type": "code",
   "execution_count": null,
   "id": "7e6bfee8",
   "metadata": {},
   "outputs": [],
   "source": [
    "test_data = test_data[['ForecastId','ConfirmedCases','Fatalities']]"
   ]
  },
  {
   "cell_type": "code",
   "execution_count": null,
   "id": "cd32b768",
   "metadata": {},
   "outputs": [],
   "source": [
    "test_data.head()"
   ]
  },
  {
   "cell_type": "code",
   "execution_count": null,
   "id": "f4c07331",
   "metadata": {},
   "outputs": [],
   "source": [
    "test_data.to_csv('submission.csv',index=False)"
   ]
  },
  {
   "cell_type": "code",
   "execution_count": null,
   "id": "74aa032c",
   "metadata": {},
   "outputs": [],
   "source": [
    "nan"
   ]
  }
 ],
 "metadata": {},
 "nbformat": 4,
 "nbformat_minor": 5
}
