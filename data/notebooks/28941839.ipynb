{
 "cells": [
  {
   "cell_type": "code",
   "execution_count": null,
   "id": "e8a54dae",
   "metadata": {},
   "outputs": [],
   "source": [
    "# This Python 3 environment comes with many helpful analytics libraries installed\n",
    "# It is defined by the kaggle/python Docker image: https://github.com/kaggle/docker-python\n",
    "# For example, here's several helpful packages to load\n",
    "\n",
    "import numpy as np # linear algebra\n",
    "import pandas as pd # data processing, CSV file I/O (e.g. pd.read_csv)\n",
    "\n",
    "# Input data files are available in the read-only \"../input/\" directory\n",
    "# For example, running this (by clicking run or pressing Shift+Enter) will list all files under the input directory\n",
    "\n",
    "import os\n",
    "for dirname, _, filenames in os.walk('/kaggle/input'):\n",
    "    for filename in filenames:\n",
    "        print(os.path.join(dirname, filename))\n",
    "\n",
    "# You can write up to 20GB to the current directory (/kaggle/working/) that gets preserved as output when you create a version using \"Save & Run All\" \n",
    "# You can also write temporary files to /kaggle/temp/, but they won't be saved outside of the current session"
   ]
  },
  {
   "cell_type": "code",
   "execution_count": null,
   "id": "a2a1e052",
   "metadata": {},
   "outputs": [],
   "source": [
    "sub = pd.read_csv('/kaggle/input/ga-customer-revenue-prediction/sample_submission.csv')\n",
    "sub2 = pd.read_csv('/kaggle/input/ga-customer-revenue-prediction/sample_submission_v2.csv')\n",
    "display(sub, sub2)"
   ]
  },
  {
   "cell_type": "code",
   "execution_count": null,
   "id": "d6f0d35b",
   "metadata": {},
   "outputs": [],
   "source": [
    "train = pd.read_csv('/kaggle/input/ga-customer-revenue-prediction/train_v2.csv')\n",
    "test = pd.read_csv('/kaggle/input/ga-customer-revenue-prediction/test_v2.csv')\n",
    "display(train, test)"
   ]
  },
  {
   "cell_type": "code",
   "execution_count": null,
   "id": "d2ee6efd",
   "metadata": {},
   "outputs": [],
   "source": [
    "train.info()"
   ]
  },
  {
   "cell_type": "code",
   "execution_count": null,
   "id": "2c764fc4",
   "metadata": {},
   "outputs": [],
   "source": [
    "os.listdir(\"/kaggle/input\")"
   ]
  },
  {
   "cell_type": "code",
   "execution_count": null,
   "id": "945b2ab1",
   "metadata": {},
   "outputs": [],
   "source": [
    "import os\n",
    "import json\n",
    "import numpy as np\n",
    "import pandas as pd\n",
    "from pandas.io.json import json_normalize\n",
    "import matplotlib.pyplot as plt\n",
    "import seaborn as sns\n",
    "color = sns.color_palette()\n",
    "\n",
    "%matplotlib inline\n",
    "\n",
    "from plotly import tools\n",
    "import plotly.offline as py\n",
    "py.init_notebook_mode(connected=True)\n",
    "import plotly.graph_objs as go\n",
    "\n",
    "from sklearn import model_selection, preprocessing, metrics\n",
    "import lightgbm as lgb\n",
    "\n",
    "pd.options.mode.chained_assignment = None"
   ]
  },
  {
   "cell_type": "markdown",
   "id": "2798e25e",
   "metadata": {},
   "source": [
    "../input/ga-customer-revenue-prediction"
   ]
  },
  {
   "cell_type": "code",
   "execution_count": null,
   "id": "841141e2",
   "metadata": {},
   "outputs": [],
   "source": [
    "import os\n",
    "import json\n",
    "import numpy as np\n",
    "import pandas as pd\n",
    "from pandas.io.json import json_normalize\n",
    "\n",
    "def load_df(csv_path='../input/train.csv', nrows=None, skiprows):\n",
    "    JSON_COLUMNS = ['device', 'geoNetwork', 'totals', 'trafficSource'] # 'customDimensions', 'hits'\n",
    "    \n",
    "    df = pd.read_csv(csv_path, \n",
    "                     converters={column: json.loads for column in JSON_COLUMNS}, \n",
    "                     dtype={'fullVisitorId': 'str'}, # Important!!\n",
    "                     skiprows=skiprows,\n",
    "                     nrows=nrows)\n",
    "    \n",
    "    for column in JSON_COLUMNS:\n",
    "        column_as_df = json_normalize(df[column])\n",
    "        column_as_df.columns = [f\"{column}.{subcolumn}\" for subcolumn in column_as_df.columns]\n",
    "        df = df.drop(column, axis=1).merge(column_as_df, right_index=True, left_index=True)\n",
    "    print(f\"Loaded {os.path.basename(csv_path)}. Shape: {df.shape}\")\n",
    "    return df\n",
    "\n",
    "# print(os.listdir(\"../input/ga-customer-revenue-prediction\"))"
   ]
  },
  {
   "cell_type": "code",
   "execution_count": null,
   "id": "bd50392d",
   "metadata": {},
   "outputs": [],
   "source": [
    "os.chdir('../input/ga-customer-revenue-prediction')\n",
    "os.listdir()"
   ]
  },
  {
   "cell_type": "code",
   "execution_count": null,
   "id": "b666efb6",
   "metadata": {},
   "outputs": [],
   "source": [
    "%%time\n",
    "train_df = load_df('train_v2.csv', nrows=100000)\n",
    "test_df = load_df(\"test_v2.csv\", nrows=100000)"
   ]
  },
  {
   "cell_type": "code",
   "execution_count": null,
   "id": "88e6af85",
   "metadata": {},
   "outputs": [],
   "source": [
    "pd.options.display.max_columns=99\n",
    "display(train_df, test_df)"
   ]
  },
  {
   "cell_type": "code",
   "execution_count": null,
   "id": "ad158ef8",
   "metadata": {},
   "outputs": [],
   "source": [
    "train_df = pd.read_csv('/kaggle/input/gstore-unnested/train_df.csv')\n",
    "test_df = pd.read_csv('/kaggle/input/gstore-unnested/test_df.csv')\n",
    "display(train_df, test_df)"
   ]
  },
  {
   "cell_type": "code",
   "execution_count": null,
   "id": "0a6d75c1",
   "metadata": {},
   "outputs": [],
   "source": [
    "col_list = list(train_df.columns)\n",
    "device_cols = [x.split('.')[1] for x in col_list if 'device' in x]\n",
    "for x in device_cols:\n",
    "    print(x)"
   ]
  },
  {
   "cell_type": "code",
   "execution_count": null,
   "id": "4383371a",
   "metadata": {},
   "outputs": [],
   "source": [
    "# geoNetwork\n",
    "geoNetwork_cols = [x.split('.')[1] for x in col_list if 'geoNetwork' in x]\n",
    "for x in geoNetwork_cols:\n",
    "    print(x)"
   ]
  },
  {
   "cell_type": "code",
   "execution_count": null,
   "id": "da1ca3ac",
   "metadata": {},
   "outputs": [],
   "source": [
    "# totals\n",
    "totals_cols = [x.split('.')[1] for x in col_list if 'totals' in x]\n",
    "for x in totals_cols:\n",
    "    print(x)"
   ]
  },
  {
   "cell_type": "code",
   "execution_count": null,
   "id": "fab0d3f3",
   "metadata": {},
   "outputs": [],
   "source": [
    "# trafficSource\n",
    "col_list = list(train_df.columns)\n",
    "trafficSource_cols = [x.split('.')[1] for x in col_list if 'trafficSource' in x]\n",
    "for x in trafficSource_cols:\n",
    "    print(x)"
   ]
  },
  {
   "cell_type": "code",
   "execution_count": null,
   "id": "c3e2101f",
   "metadata": {},
   "outputs": [],
   "source": [
    "nan"
   ]
  }
 ],
 "metadata": {},
 "nbformat": 4,
 "nbformat_minor": 5
}
