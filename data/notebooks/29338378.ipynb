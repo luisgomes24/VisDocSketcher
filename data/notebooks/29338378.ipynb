{
 "cells": [
  {
   "cell_type": "markdown",
   "id": "799b8c8e",
   "metadata": {},
   "source": [
    "# Introduction\n",
    "\n",
    "In the notebook \"Transfer Learning - Image Classification + Deploy\"(https://www.kaggle.com/code/yash161101/transfer-learning-image-classification-deploy) by Mr. YASH SHAH, I learned Transfer Learning, VGG16, InceptionV3, ResNet50 and Xception.\n",
    "\n",
    "So in this notebook, I tried another transfer learning \"MobileNetV2\"  for multiclassifiy model.\n",
    "\n",
    "![cnn-architecture.png](attachment:7c661a69-d89a-4c53-8a38-0ec853fbd575.png)\n",
    "\n",
    "According to the article \"Building A Multiclass Image Classifier Using MobilenetV2 and TensorFlow\" (https://www.section.io/engineering-education/building-a-multiclass-image-classifier-using-mobilenet-v2-and-tensorflow/)\n",
    "\n",
    "The reason why use MobileNetV2 is\n",
    "\n",
    "* It saves time building a neural network from scratch.\n",
    "* MobileNetV2 is trained using a large images dataset. It enables the model to effectively learn, therefore, we can expect accurate results.\n",
    "* It simplifies the process of image processing. Image processing helps transform the image dataset into a format that the model can understand to give more accurate results\n",
    "* MobileNetV2 is lightweight making it have high execution speed.\n",
    "* MobileNetV2 is smaller in size as compared to MobileNetV1, making it more suitable for embedded systems and mobile devices\n",
    "* MobileNetV2 significantly reduces the number of parameters thus making it less complex.\n",
    "* MobilenetV2 can also run on web browsers since the model is lightweight as compared to MobilenetV1. Also, browsers have lower computation power, graphic processing, and storage.\n",
    "\n",
    "Reference:\n",
    "* \"Building A Multiclass Image Classifier Using MobilenetV2 and TensorFlow\"  https://www.section.io/engineering-education/building-a-multiclass-image-classifier-using-mobilenet-v2-and-tensorflow/ \n",
    "* 'Real vs Fake face detection' https://www.kaggle.com/code/debasisdotcom/real-vs-fake-face-detection\n",
    "* 'Transfer Learning - Image Classification + Deploy' https://www.kaggle.com/code/yash161101/transfer-learning-image-classification-deploy\n",
    "\n",
    "Thank you for sharing!"
   ]
  },
  {
   "cell_type": "markdown",
   "id": "85955f19",
   "metadata": {},
   "source": [
    "# Importing"
   ]
  },
  {
   "cell_type": "code",
   "execution_count": null,
   "id": "88d61b58",
   "metadata": {},
   "outputs": [],
   "source": [
    "#Code by 'Real vs Fake face detection' https://www.kaggle.com/code/debasisdotcom/real-vs-fake-face-detection\n",
    "\n",
    "import numpy as np\n",
    "import pandas as pd\n",
    "import random\n",
    "from tensorflow.keras.preprocessing import image\n",
    "from tensorflow.keras.utils import to_categorical\n",
    "from keras.applications.mobilenet import MobileNet, preprocess_input\n",
    "from tensorflow.keras.applications.mobilenet_v2 import MobileNetV2\n",
    "from tensorflow.keras.models import Sequential\n",
    "from tensorflow.keras.layers import Dropout, Dense,BatchNormalization, Flatten, MaxPool2D\n",
    "from keras.callbacks import ModelCheckpoint, EarlyStopping, ReduceLROnPlateau, Callback\n",
    "from keras.layers import Conv2D, Reshape\n",
    "from tensorflow.keras.utils import Sequence\n",
    "from keras.backend import epsilon\n",
    "import tensorflow as tf\n",
    "from sklearn.model_selection import train_test_split\n",
    "import matplotlib.pyplot as plt\n",
    "import seaborn as sns\n",
    "from tensorflow.keras.layers import GlobalAveragePooling2D\n",
    "from tensorflow.keras.optimizers import Adam\n",
    "import cv2\n",
    "\n",
    "from sklearn.metrics import classification_report, confusion_matrix\n",
    "\n",
    "import os\n",
    "\n",
    "import warnings\n",
    "warnings.filterwarnings('ignore')"
   ]
  },
  {
   "cell_type": "markdown",
   "id": "3946d691",
   "metadata": {},
   "source": [
    "# Data Preprocessing"
   ]
  },
  {
   "cell_type": "code",
   "execution_count": null,
   "id": "5c1ffab2",
   "metadata": {},
   "outputs": [],
   "source": [
    "#Code by 'Transfer Learning - Image Classification + Deploy' https://www.kaggle.com/code/yash161101/transfer-learning-image-classification-deploy\n",
    "train_dir = \"../input/even-more-fruitssssss/results/train\"\n",
    "train_class=os.listdir(train_dir)\n",
    "print(train_class)\n",
    "\n",
    "val_dir = \"../input/even-more-fruitssssss/results/val\"\n",
    "val_class=os.listdir(val_dir)\n",
    "print(val_class)\n",
    "\n",
    "test_dir = \"../input/even-more-fruitssssss/results/test\"\n",
    "test_class=os.listdir(test_dir)\n",
    "print(test_class)"
   ]
  },
  {
   "cell_type": "code",
   "execution_count": null,
   "id": "c036e522",
   "metadata": {},
   "outputs": [],
   "source": [
    "#Code by 'Transfer Learning - Image Classification + Deploy' https://www.kaggle.com/code/yash161101/transfer-learning-image-classification-deploy\n",
    "\n",
    "x=[] # array value of the images\n",
    "y=[] # the labels of the images\n",
    "\n",
    "for folder in os.listdir(train_dir):\n",
    "    image_list=os.listdir(train_dir+\"/\"+folder)\n",
    "    for img_name in image_list:\n",
    "        # Loading images\n",
    "        img=image.load_img(train_dir+\"/\"+folder+\"/\"+img_name,target_size=(224,224))\n",
    "        img=image.img_to_array(img)\n",
    "        \n",
    "        # Transfer Learning: Preprocess of MobileNetV2 model to our images before passing it to MobileNetV2\n",
    "        img=preprocess_input(img)\n",
    "        \n",
    "        x.append(img) # appending image array\n",
    "        y.append(train_class.index(folder)) # appending class index to the array\n",
    "        \n",
    "print(\"Preparing Training Dataset Completed.\")"
   ]
  },
  {
   "cell_type": "code",
   "execution_count": null,
   "id": "c00adf67",
   "metadata": {},
   "outputs": [],
   "source": [
    "#Code by 'Transfer Learning - Image Classification + Deploy' https://www.kaggle.com/code/yash161101/transfer-learning-image-classification-deploy\n",
    "val_images=[]\n",
    "val_images_Original=[]\n",
    "val_image_label=[]\n",
    "\n",
    "for folder in os.listdir(val_dir):\n",
    "    image_list=os.listdir(val_dir+\"/\"+folder)\n",
    "    for img_name in image_list:\n",
    "        # Loading images\n",
    "        img=image.load_img(val_dir+\"/\"+folder+\"/\"+img_name,target_size=(224,224))\n",
    "        \n",
    "        # Converting to arrarys\n",
    "        img=image.img_to_array(img)\n",
    "        \n",
    "        # Saving original images, will be used just for display at the end\n",
    "        val_images_Original.append(img.copy())\n",
    "        img=preprocess_input(img) \n",
    "        \n",
    "        # Appending arrays\n",
    "        val_images.append(img)\n",
    "        val_image_label.append(val_class.index(folder))\n",
    "        \n",
    "print(\"Preparing Validation Dataset Completed.\")"
   ]
  },
  {
   "cell_type": "code",
   "execution_count": null,
   "id": "797a166e",
   "metadata": {},
   "outputs": [],
   "source": [
    "#Code by 'Transfer Learning - Image Classification + Deploy' https://www.kaggle.com/code/yash161101/transfer-learning-image-classification-deploy\n",
    "test_images=[]\n",
    "test_images_Original=[]\n",
    "test_image_label=[]\n",
    "\n",
    "for folder in os.listdir(test_dir):\n",
    "    image_list=os.listdir(test_dir+\"/\"+folder)\n",
    "    for img_name in image_list:\n",
    "        # Loading images\n",
    "        img=image.load_img(test_dir+\"/\"+folder+\"/\"+img_name,target_size=(224,224))\n",
    "        \n",
    "        # Converting to arrarys\n",
    "        img=image.img_to_array(img)\n",
    "        \n",
    "        # Saving original images, will be used just for display at the end\n",
    "        test_images_Original.append(img.copy())\n",
    "        img=preprocess_input(img) \n",
    "        \n",
    "        # Appending arrays\n",
    "        test_images.append(img)\n",
    "        test_image_label.append(test_class.index(folder))\n",
    "        \n",
    "print(\"Preparing Test Dataset Completed.\")"
   ]
  },
  {
   "cell_type": "code",
   "execution_count": null,
   "id": "e534e5ca",
   "metadata": {},
   "outputs": [],
   "source": [
    "#Code by 'Transfer Learning - Image Classification + Deploy' https://www.kaggle.com/code/yash161101/transfer-learning-image-classification-deploy\n",
    "# Training Dataset\n",
    "print(\"Training Dataset\")\n",
    "\n",
    "x=np.array(x) # Converting to np arrary to pass to the model\n",
    "print(x.shape)\n",
    "\n",
    "y=to_categorical(y) # onehot encoding of the labels\n",
    "# print(y)\n",
    "print(y.shape)\n",
    "\n",
    "# Validation Dataset\n",
    "print(\"Validation Dataset\")\n",
    "\n",
    "val_images=np.array(val_images) \n",
    "print(val_images.shape)\n",
    "\n",
    "val_image_label=to_categorical(val_image_label) # onehot encoding of the labels)\n",
    "print(val_image_label.shape)\n",
    "\n",
    "print(\"Test Dataset\")\n",
    "\n",
    "test_images=np.array(test_images) \n",
    "print(test_images.shape)\n",
    "\n",
    "test_image_label=to_categorical(test_image_label) # onehot encoding of the labels)\n",
    "print(test_image_label.shape)"
   ]
  },
  {
   "cell_type": "code",
   "execution_count": null,
   "id": "ecad4afe",
   "metadata": {},
   "outputs": [],
   "source": [
    "#Code by 'Transfer Learning - Image Classification + Deploy' https://www.kaggle.com/code/yash161101/transfer-learning-image-classification-deploy\n",
    "\n",
    "xtrain, xtest, ytrain, ytest = train_test_split(x,y,test_size=0.2,random_state=5)\n",
    "print(\"Splitting data for train and test completed.\")"
   ]
  },
  {
   "cell_type": "markdown",
   "id": "461cc4b6",
   "metadata": {},
   "source": [
    "# Sample Images"
   ]
  },
  {
   "cell_type": "code",
   "execution_count": null,
   "id": "c5074441",
   "metadata": {},
   "outputs": [],
   "source": [
    "rand_images1 = random.sample(os.listdir(\"../input/even-more-fruitssssss/results/train/Orange\"), 8)\n",
    "rand_images2 = random.sample(os.listdir(\"../input/even-more-fruitssssss/results/train/Apple\"), 8)"
   ]
  },
  {
   "cell_type": "code",
   "execution_count": null,
   "id": "cd0aa16e",
   "metadata": {},
   "outputs": [],
   "source": [
    "fig = plt.figure(figsize=(10,10))\n",
    "for i, im in enumerate(rand_images1):\n",
    "    plt.subplot(2,4 , i+1)\n",
    "    im = cv2.imread(os.path.join(\"../input/even-more-fruitssssss/results/train/Orange\", im))\n",
    "    plt.imshow(im)\n",
    "    plt.axis('off')\n",
    "plt.tight_layout()\n",
    "plt.show()"
   ]
  },
  {
   "cell_type": "code",
   "execution_count": null,
   "id": "382fb2c4",
   "metadata": {},
   "outputs": [],
   "source": [
    "fig = plt.figure(figsize=(10,10))\n",
    "for i, im in enumerate(rand_images2):\n",
    "    plt.subplot(2,4 , i+1)\n",
    "    im = cv2.imread(os.path.join(\"../input/even-more-fruitssssss/results/train/Apple\", im))\n",
    "    plt.imshow(im)\n",
    "    plt.axis('off')\n",
    "plt.tight_layout()\n",
    "plt.show()"
   ]
  },
  {
   "cell_type": "markdown",
   "id": "6ff15793",
   "metadata": {},
   "source": [
    "# MobileNetV2 Modeling"
   ]
  },
  {
   "cell_type": "code",
   "execution_count": null,
   "id": "d2f697e8",
   "metadata": {},
   "outputs": [],
   "source": [
    "#Code by 'Real vs Fake face detection' https://www.kaggle.com/code/debasisdotcom/real-vs-fake-face-detection\n",
    "mnet = MobileNetV2(include_top = False, weights = \"imagenet\" ,input_shape=(224,224,3))"
   ]
  },
  {
   "cell_type": "code",
   "execution_count": null,
   "id": "69815ce6",
   "metadata": {},
   "outputs": [],
   "source": [
    "#Code by 'Real vs Fake face detection' https://www.kaggle.com/code/debasisdotcom/real-vs-fake-face-detection\n",
    "tf.keras.backend.clear_session()\n",
    "\n",
    "model = Sequential([mnet,\n",
    "                    GlobalAveragePooling2D(),\n",
    "                    Dense(512, activation = \"relu\"),\n",
    "                    BatchNormalization(),\n",
    "                    Dropout(0.3),\n",
    "                    Dense(128, activation = \"relu\"),\n",
    "                    Dropout(0.1),\n",
    "                    # Dense(32, activation = \"relu\"),\n",
    "                    # Dropout(0.3),\n",
    "                    Dense(8, activation = \"softmax\")])\n",
    "\n",
    "model.layers[0].trainable = False\n",
    "\n",
    "model.compile(loss=\"categorical_crossentropy\", optimizer=\"adam\", metrics=\"accuracy\")\n",
    "\n",
    "model.summary()\n",
    "Model: \"sequential\""
   ]
  },
  {
   "cell_type": "code",
   "execution_count": null,
   "id": "568f7cb8",
   "metadata": {},
   "outputs": [],
   "source": [
    "#Code by 'Real vs Fake face detection' https://www.kaggle.com/code/debasisdotcom/real-vs-fake-face-detection\n",
    "\n",
    "def scheduler(epoch):\n",
    "    if epoch <= 2:\n",
    "        return 0.001\n",
    "    elif epoch > 2 and epoch <= 15:\n",
    "        return 0.0001 \n",
    "    else:\n",
    "        return 0.00001\n",
    "\n",
    "lr_callbacks = tf.keras.callbacks.LearningRateScheduler(scheduler)"
   ]
  },
  {
   "cell_type": "markdown",
   "id": "d8b5158c",
   "metadata": {},
   "source": [
    "# Training"
   ]
  },
  {
   "cell_type": "code",
   "execution_count": null,
   "id": "46be46b3",
   "metadata": {},
   "outputs": [],
   "source": [
    "EPOCHS = 20\n",
    "hist = model.fit(xtrain, ytrain, epochs=EPOCHS, callbacks=[lr_callbacks], validation_data=(xtest,ytest))"
   ]
  },
  {
   "cell_type": "code",
   "execution_count": null,
   "id": "cc985754",
   "metadata": {},
   "outputs": [],
   "source": [
    "#Code by 'Real vs Fake face detection' https://www.kaggle.com/code/debasisdotcom/real-vs-fake-face-detection\n",
    "\n",
    "epochs = 20\n",
    "train_loss = hist.history['loss']\n",
    "val_loss = hist.history['val_loss']\n",
    "train_acc = hist.history['accuracy']\n",
    "val_acc = hist.history['val_accuracy']\n",
    "xc = range(epochs)\n",
    "\n",
    "plt.figure(1,figsize=(7,5))\n",
    "plt.plot(xc,train_loss)\n",
    "plt.plot(xc,val_loss)\n",
    "plt.xlabel('num of Epochs')\n",
    "plt.ylabel('loss')\n",
    "plt.title('train_loss vs val_loss')\n",
    "plt.grid(True)\n",
    "plt.legend(['train','val'])\n",
    "#print plt.style.available # use bmh, classic,ggplot for big pictures\n",
    "plt.style.use(['classic'])\n",
    "\n",
    "plt.figure(2,figsize=(7,5))\n",
    "plt.plot(xc,train_acc)\n",
    "plt.plot(xc,val_acc)\n",
    "plt.xlabel('num of Epochs')\n",
    "plt.ylabel('accuracy')\n",
    "plt.title('train_acc vs val_acc')\n",
    "plt.grid(True)\n",
    "plt.legend(['train','val'],loc=4)\n",
    "#print plt.style.available # use bmh, classic,ggplot for big pictures\n",
    "plt.style.use(['classic'])"
   ]
  },
  {
   "cell_type": "markdown",
   "id": "7b0f2b1c",
   "metadata": {},
   "source": [
    "# Testing"
   ]
  },
  {
   "cell_type": "code",
   "execution_count": null,
   "id": "80dcd8c6",
   "metadata": {},
   "outputs": [],
   "source": [
    "#Code by 'Transfer Learning - Image Classification + Deploy' https://www.kaggle.com/code/yash161101/transfer-learning-image-classification-deploy\n",
    "def predict(img_name, model):\n",
    "    img=image.load_img(img_name,target_size=(224,224))\n",
    "    img=image.img_to_array(img)\n",
    "    plt.imshow(img.astype('int32'))\n",
    "    plt.show()\n",
    "    img=preprocess_input(img)\n",
    "    prediction=model.predict(img.reshape(1,224,224,3))\n",
    "    output=np.argmax(prediction)\n",
    "    print(train_class[output])\n",
    "\n",
    "\n",
    "# This function plots the image supplied in array\n",
    "def plot_image(i, predictions_array, true_label, img):\n",
    "    predictions_array, true_label, img = predictions_array[i], true_label[i], img[i]\n",
    "    plt.grid(False)\n",
    "    plt.xticks([])\n",
    "    plt.yticks([])\n",
    "    plt.imshow(img.astype('int32'))\n",
    "    predicted_label=np.argmax(predictions_array)\n",
    "    true_label=np.argmax(true_label)"
   ]
  },
  {
   "cell_type": "code",
   "execution_count": null,
   "id": "cbcd4f0d",
   "metadata": {},
   "outputs": [],
   "source": [
    "#Code by 'Transfer Learning - Image Classification + Deploy' https://www.kaggle.com/code/yash161101/transfer-learning-image-classification-deploy\n",
    "# Preparing prediction arrary\n",
    "predictions=[]\n",
    "\n",
    "for img in test_images:\n",
    "    img=img.reshape(1,224,224,3)\n",
    "    predictions.append(model.predict(img))"
   ]
  },
  {
   "cell_type": "code",
   "execution_count": null,
   "id": "febe14df",
   "metadata": {},
   "outputs": [],
   "source": [
    "#Code by 'Transfer Learning - Image Classification + Deploy' https://www.kaggle.com/code/yash161101/transfer-learning-image-classification-deploy\n",
    "pred_labels = model.predict(test_images)"
   ]
  },
  {
   "cell_type": "code",
   "execution_count": null,
   "id": "f198ae53",
   "metadata": {},
   "outputs": [],
   "source": [
    "#Code by 'Transfer Learning - Image Classification + Deploy' https://www.kaggle.com/code/yash161101/transfer-learning-image-classification-deploy\n",
    "def roundoff(arr):\n",
    "    \"\"\"To round off according to the argmax of each predicted label array. \"\"\"\n",
    "    arr[np.argwhere(arr != arr.max())] = 0\n",
    "    arr[np.argwhere(arr == arr.max())] = 1\n",
    "    return arr\n",
    "\n",
    "for labels in pred_labels:\n",
    "    labels = roundoff(labels)\n",
    "\n",
    "print(classification_report(test_image_label, pred_labels, target_names=test_class))"
   ]
  },
  {
   "cell_type": "code",
   "execution_count": null,
   "id": "4b304942",
   "metadata": {},
   "outputs": [],
   "source": [
    "#Code by 'Transfer Learning - Image Classification + Deploy' https://www.kaggle.com/code/yash161101/transfer-learning-image-classification-deploy\n",
    "pred_ls = np.argmax(pred_labels, axis=1)\n",
    "test_ls = np.argmax(test_image_label, axis=1)\n",
    "\n",
    "conf_arr = confusion_matrix(test_ls, pred_ls)\n",
    "\n",
    "plt.figure(figsize=(8, 6), dpi=80, facecolor='w', edgecolor='k')\n",
    "\n",
    "ax = sns.heatmap(conf_arr, cmap='Greens', annot=True, fmt='d', xticklabels= test_class,\n",
    "                yticklabels=test_class)\n",
    "\n",
    "plt.title('Fruitssssss')\n",
    "plt.xlabel('Prediction')\n",
    "plt.ylabel('Truth')\n",
    "plt.show(ax)"
   ]
  },
  {
   "cell_type": "code",
   "execution_count": null,
   "id": "f38c910c",
   "metadata": {},
   "outputs": [],
   "source": [
    "#Code by 'Transfer Learning - Image Classification + Deploy' https://www.kaggle.com/code/yash161101/transfer-learning-image-classification-deploy\n",
    "predict(\"../input/even-more-fruitssssss/results/test/Apple/Image_240.jpg\",model)"
   ]
  },
  {
   "cell_type": "markdown",
   "id": "863c2696",
   "metadata": {},
   "source": [
    "Thank you !"
   ]
  },
  {
   "cell_type": "code",
   "execution_count": null,
   "id": "52d9e2c3",
   "metadata": {},
   "outputs": [],
   "source": [
    "nan"
   ]
  }
 ],
 "metadata": {},
 "nbformat": 4,
 "nbformat_minor": 5
}
