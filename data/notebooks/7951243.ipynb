{
 "cells": [
  {
   "cell_type": "code",
   "execution_count": null,
   "id": "f77b546e",
   "metadata": {},
   "outputs": [],
   "source": [
    "# This Python 3 environment comes with many helpful analytics libraries installed\n",
    "# It is defined by the kaggle/python docker image: https://github.com/kaggle/docker-python\n",
    "# For example, here's several helpful packages to load in \n",
    "\n",
    "import numpy as np # linear algebra\n",
    "import pandas as pd # data processing, CSV file I/O (e.g. pd.read_csv)\n",
    "\n",
    "# Input data files are available in the \"../input/\" directory.\n",
    "# For example, running this (by clicking run or pressing Shift+Enter) will list all files under the input directory\n",
    "\n",
    "#import os\n",
    "#for dirname, _, filenames in os.walk('/kaggle/input'):\n",
    "#    for filename in filenames:\n",
    "#        print(os.path.join(dirname, filename))\n",
    "\n",
    "# Any results you write to the current directory are saved as output."
   ]
  },
  {
   "cell_type": "code",
   "execution_count": null,
   "id": "d82eb927",
   "metadata": {},
   "outputs": [],
   "source": [
    "import seaborn as sns\n",
    "import matplotlib.pyplot as plt\n",
    "from matplotlib.image import imread\n",
    "%matplotlib inline\n",
    "import os"
   ]
  },
  {
   "cell_type": "code",
   "execution_count": null,
   "id": "bce01fe5",
   "metadata": {},
   "outputs": [],
   "source": [
    "my_data_dir = '/kaggle/input/fruit-recognition/'"
   ]
  },
  {
   "cell_type": "code",
   "execution_count": null,
   "id": "3c114cfb",
   "metadata": {},
   "outputs": [],
   "source": [
    "apple = my_data_dir+'Apple/'+'Total Number of Apples'\n",
    "peach = my_data_dir+'Peach'\n",
    "carambola = my_data_dir+'Carambola'\n",
    "kiwi = my_data_dir+'Kiwi/'+'Total Number of Kiwi fruit'\n",
    "tomatoes = my_data_dir+'Tomatoes'\n",
    "persimmon = my_data_dir+'Persimmon'\n",
    "plum = my_data_dir+'Plum'\n",
    "guava = my_data_dir+'Guava/'+'guava total final'\n",
    "pear = my_data_dir+'Pear'\n",
    "mango = my_data_dir+'Mango'\n",
    "muskmelon = my_data_dir+'muskmelon'\n",
    "banana = my_data_dir+'Banana'\n",
    "pomegranate = my_data_dir+'Pomegranate'\n",
    "pitaya = my_data_dir+'Pitaya'\n",
    "orange = my_data_dir+'Orange'"
   ]
  },
  {
   "cell_type": "code",
   "execution_count": null,
   "id": "a68f11da",
   "metadata": {},
   "outputs": [],
   "source": [
    "dim1 = []\n",
    "dim2 = []\n",
    "for image_filename in os.listdir(apple):\n",
    "    \n",
    "    img = imread(apple+'/'+image_filename)\n",
    "    d1,d2,colors = img.shape\n",
    "    dim1.append(d1)\n",
    "    dim2.append(d2)"
   ]
  },
  {
   "cell_type": "code",
   "execution_count": null,
   "id": "518faace",
   "metadata": {},
   "outputs": [],
   "source": [
    "image_shape = (283,383,3)"
   ]
  },
  {
   "cell_type": "code",
   "execution_count": null,
   "id": "5d98a015",
   "metadata": {},
   "outputs": [],
   "source": [
    "from tensorflow.keras.preprocessing.image import ImageDataGenerator"
   ]
  },
  {
   "cell_type": "code",
   "execution_count": null,
   "id": "37eee8d3",
   "metadata": {},
   "outputs": [],
   "source": [
    "image_gen = ImageDataGenerator(rotation_range=20, # rotate the image 20 degrees\n",
    "                               width_shift_range=0.10, # Shift the pic width by a max of 5%\n",
    "                               height_shift_range=0.10, # Shift the pic height by a max of 5%\n",
    "                               rescale=1/255, # Rescale the image by normalzing it.\n",
    "                               shear_range=0.1, # Shear means cutting away part of the image (max 10%)\n",
    "                               zoom_range=0.1, # Zoom in by 10% max\n",
    "                               horizontal_flip=True, # Allo horizontal flipping\n",
    "                               fill_mode='nearest' # Fill in missing pixels with the nearest filled value\n",
    "                              )"
   ]
  },
  {
   "cell_type": "code",
   "execution_count": null,
   "id": "090066d0",
   "metadata": {},
   "outputs": [],
   "source": [
    "image_gen.flow_from_directory(my_data_dir)"
   ]
  },
  {
   "cell_type": "code",
   "execution_count": null,
   "id": "be034b1a",
   "metadata": {},
   "outputs": [],
   "source": [
    "from tensorflow.keras.models import Sequential\n",
    "from tensorflow.keras.layers import Activation, Dropout, Flatten, Dense, Conv2D, MaxPooling2D"
   ]
  },
  {
   "cell_type": "code",
   "execution_count": null,
   "id": "4ff264e1",
   "metadata": {},
   "outputs": [],
   "source": [
    "from tensorflow.keras.models import load_model"
   ]
  },
  {
   "cell_type": "code",
   "execution_count": null,
   "id": "fe756930",
   "metadata": {},
   "outputs": [],
   "source": [
    "pwd"
   ]
  },
  {
   "cell_type": "code",
   "execution_count": null,
   "id": "5b5dcec0",
   "metadata": {},
   "outputs": [],
   "source": [
    "model = load_model('/kaggle/input/trained/fruit.h5')"
   ]
  },
  {
   "cell_type": "code",
   "execution_count": null,
   "id": "f612b2ea",
   "metadata": {},
   "outputs": [],
   "source": [
    "from tensorflow.keras.preprocessing import image"
   ]
  },
  {
   "cell_type": "code",
   "execution_count": null,
   "id": "d59def93",
   "metadata": {},
   "outputs": [],
   "source": [
    "carambola1 = carambola+'/'+os.listdir(carambola)[15]"
   ]
  },
  {
   "cell_type": "code",
   "execution_count": null,
   "id": "2acb0d1d",
   "metadata": {},
   "outputs": [],
   "source": [
    "my_image = image.load_img(carambola1,target_size=image_shape)"
   ]
  },
  {
   "cell_type": "code",
   "execution_count": null,
   "id": "154643ae",
   "metadata": {},
   "outputs": [],
   "source": [
    "my_image"
   ]
  },
  {
   "cell_type": "code",
   "execution_count": null,
   "id": "f62f2ba6",
   "metadata": {},
   "outputs": [],
   "source": [
    "my_image = image.img_to_array(my_image)"
   ]
  },
  {
   "cell_type": "code",
   "execution_count": null,
   "id": "849502dd",
   "metadata": {},
   "outputs": [],
   "source": [
    "my_image = np.expand_dims(my_image, axis=0)"
   ]
  },
  {
   "cell_type": "code",
   "execution_count": null,
   "id": "c4762d3c",
   "metadata": {},
   "outputs": [],
   "source": [
    "model.predict(my_image)"
   ]
  },
  {
   "cell_type": "markdown",
   "id": "59c7b72f",
   "metadata": {},
   "source": [
    "## Recall Carambola is at index 2"
   ]
  },
  {
   "cell_type": "markdown",
   "id": "71bd5667",
   "metadata": {},
   "source": [
    "## Carambola is predicted correctly. Lets see Pomegranate"
   ]
  },
  {
   "cell_type": "code",
   "execution_count": null,
   "id": "06df7889",
   "metadata": {},
   "outputs": [],
   "source": [
    "pomegranate1 = pomegranate+'/'+os.listdir(pomegranate)[15]\n",
    "my_image = image.load_img(pomegranate1,target_size=image_shape)\n",
    "my_image"
   ]
  },
  {
   "cell_type": "code",
   "execution_count": null,
   "id": "2405f30a",
   "metadata": {},
   "outputs": [],
   "source": [
    "my_image = image.img_to_array(my_image)\n",
    "my_image = np.expand_dims(my_image, axis=0)\n",
    "model.predict(my_image)"
   ]
  },
  {
   "cell_type": "markdown",
   "id": "f40df529",
   "metadata": {},
   "source": [
    "## AWESOME! Pomegranate is at index 12"
   ]
  }
 ],
 "metadata": {},
 "nbformat": 4,
 "nbformat_minor": 5
}
