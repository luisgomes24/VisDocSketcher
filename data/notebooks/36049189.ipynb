{
 "cells": [
  {
   "cell_type": "markdown",
   "id": "8edf79c6",
   "metadata": {},
   "source": [
    "# Simple EDA for IndoSum dataset"
   ]
  },
  {
   "cell_type": "markdown",
   "id": "3d818cbc",
   "metadata": {},
   "source": [
    "## Import everything needed"
   ]
  },
  {
   "cell_type": "code",
   "execution_count": null,
   "id": "11dae1f5",
   "metadata": {},
   "outputs": [],
   "source": [
    "import pandas as pd\n",
    "import os\n",
    "import json\n",
    "import seaborn as sns\n",
    "import matplotlib.pyplot as plt\n",
    "\n",
    "from tqdm import tqdm"
   ]
  },
  {
   "cell_type": "code",
   "execution_count": null,
   "id": "38d64b6b",
   "metadata": {},
   "outputs": [],
   "source": [
    "# global config \n",
    "\n",
    "sns.set_style('ticks')"
   ]
  },
  {
   "cell_type": "markdown",
   "id": "6c87608c",
   "metadata": {},
   "source": [
    "## Finding files"
   ]
  },
  {
   "cell_type": "code",
   "execution_count": null,
   "id": "301d2ee5",
   "metadata": {},
   "outputs": [],
   "source": [
    "# Detect train, dev, and test files\n",
    "DATASET_ROOT = '/kaggle/input/indosum/indosum'\n",
    "\n",
    "files_id_dir = os.listdir(DATASET_ROOT)\n",
    "train_files = []\n",
    "dev_files = []\n",
    "test_files = []\n",
    "\n",
    "for filename in files_id_dir:\n",
    "    if 'train' in filename:\n",
    "        train_files.append(filename)\n",
    "    elif 'dev' in filename:\n",
    "        dev_files.append(filename)\n",
    "    elif 'test' in filename:\n",
    "        test_files.append(filename)\n",
    "\n",
    "train_files, dev_files, test_files"
   ]
  },
  {
   "cell_type": "markdown",
   "id": "bb512e1b",
   "metadata": {},
   "source": [
    "## Pre-procesing Data"
   ]
  },
  {
   "cell_type": "markdown",
   "id": "20ef5860",
   "metadata": {},
   "source": [
    "### This is a function to load file into list of json object"
   ]
  },
  {
   "cell_type": "code",
   "execution_count": null,
   "id": "a4ee8522",
   "metadata": {},
   "outputs": [],
   "source": [
    "def load_file_to_json_list(filename):\n",
    "    file = os.path.join(DATASET_ROOT, filename)\n",
    "    data = []\n",
    "    with open(file, 'r') as f:\n",
    "        json_list = list(f)\n",
    "        for json_str in tqdm(json_list, desc=f'Loading data {filename}'):\n",
    "            d = json.loads(json_str)\n",
    "            data.append(d)\n",
    "    return data"
   ]
  },
  {
   "cell_type": "code",
   "execution_count": null,
   "id": "25681e7f",
   "metadata": {},
   "outputs": [],
   "source": [
    "# only for testing purpose \n",
    "json_list = load_file_to_json_list(dev_files[0])\n",
    "len(json_list), json_list[0].keys()"
   ]
  },
  {
   "cell_type": "markdown",
   "id": "77ca0075",
   "metadata": {},
   "source": [
    "### Converter from raw data to more readable data"
   ]
  },
  {
   "cell_type": "code",
   "execution_count": null,
   "id": "1f8428ca",
   "metadata": {},
   "outputs": [],
   "source": [
    "def label_to_dict_str(label_list):\n",
    "    label_dict = {} # key = paragraph_id : value = label list \n",
    "    for i, label in enumerate(label_list[:]):\n",
    "        label_dict[i] = label\n",
    "\n",
    "    json_str = json.dumps(label_dict)\n",
    "    num = len(label_dict)\n",
    "    return json_str, num"
   ]
  },
  {
   "cell_type": "code",
   "execution_count": null,
   "id": "a6d71407",
   "metadata": {},
   "outputs": [],
   "source": [
    "# only for testing purpose \n",
    "label_to_dict_str(json_list[0]['gold_labels'])"
   ]
  },
  {
   "cell_type": "code",
   "execution_count": null,
   "id": "9c037f8b",
   "metadata": {},
   "outputs": [],
   "source": [
    "def paragraph_to_dict_str(paragraph_list):\n",
    "    paragraph_dict = {} # key = paragraph_id : value = paragraph list \n",
    "    for i, paragraph in enumerate(paragraph_list):\n",
    "        new_paragraph = []\n",
    "        for sentence in paragraph:\n",
    "            sentence = ' '.join(sentence)\n",
    "            new_paragraph.append(sentence)\n",
    "        paragraph_dict[i] = new_paragraph\n",
    "\n",
    "    json_str = json.dumps(paragraph_dict)\n",
    "    num = len(paragraph_dict)\n",
    "    return json_str, num"
   ]
  },
  {
   "cell_type": "code",
   "execution_count": null,
   "id": "012deb95",
   "metadata": {},
   "outputs": [],
   "source": [
    "# only for testing purpose \n",
    "paragraph_list = json_list[0]['paragraphs']\n",
    "paragraph_to_dict_str(paragraph_list)"
   ]
  },
  {
   "cell_type": "code",
   "execution_count": null,
   "id": "98a3cd3b",
   "metadata": {},
   "outputs": [],
   "source": [
    "def paragraph_to_text(raw_paragraph_list):\n",
    "    new_paragraph_list = []\n",
    "    for i, paragraph in enumerate(raw_paragraph_list):\n",
    "        paragraph_list = []\n",
    "        for sentence in paragraph:\n",
    "            sentence = ' '.join(sentence)\n",
    "            paragraph_list.append(sentence)\n",
    "        \n",
    "        new_paragraph = ' '.join(paragraph_list)\n",
    "        new_paragraph_list.append(new_paragraph)\n",
    "\n",
    "    paragraph_str = ' '.join(new_paragraph_list)\n",
    "    return paragraph_str"
   ]
  },
  {
   "cell_type": "code",
   "execution_count": null,
   "id": "a78caaa8",
   "metadata": {},
   "outputs": [],
   "source": [
    "pl = json_list[0]['paragraphs']\n",
    "paragraph_to_text(pl)"
   ]
  },
  {
   "cell_type": "code",
   "execution_count": null,
   "id": "55154ac7",
   "metadata": {},
   "outputs": [],
   "source": [
    "def summary_to_dict_str(summary_list):\n",
    "    summary_dict = {} # key = summary_id : value = summary sentence \n",
    "    for i, summary in enumerate(summary_list):\n",
    "        summary_dict[i] = ' '.join(summary)\n",
    "\n",
    "    json_str = json.dumps(summary_dict)\n",
    "    num = len(summary_dict)\n",
    "    return json_str, num"
   ]
  },
  {
   "cell_type": "code",
   "execution_count": null,
   "id": "0166b17d",
   "metadata": {},
   "outputs": [],
   "source": [
    "# only for testing purpose \n",
    "summary_to_dict_str(json_list[0]['summary'])"
   ]
  },
  {
   "cell_type": "code",
   "execution_count": null,
   "id": "0ea2db81",
   "metadata": {},
   "outputs": [],
   "source": [
    "def summary_to_text(raw_summary_list):\n",
    "    summary_list = []\n",
    "    for i, summary in enumerate(raw_summary_list):\n",
    "        summary_list.append(' '.join(summary))\n",
    "\n",
    "    summary_str = ' '.join(summary_list)\n",
    "    return summary_str"
   ]
  },
  {
   "cell_type": "code",
   "execution_count": null,
   "id": "3e5d3e86",
   "metadata": {},
   "outputs": [],
   "source": [
    "# only for testing purpose \n",
    "summary_to_text(json_list[0]['summary'])"
   ]
  },
  {
   "cell_type": "markdown",
   "id": "c912a6b4",
   "metadata": {},
   "source": [
    "### Altering raw data to a new format"
   ]
  },
  {
   "cell_type": "code",
   "execution_count": null,
   "id": "aa1a9e88",
   "metadata": {},
   "outputs": [],
   "source": [
    "def alter_json_data(json_list_data, filename=''):\n",
    "    new_json_list = []\n",
    "    for json_data in tqdm(json_list_data, desc=f'Altering json data {filename}'):\n",
    "        json_data = json_data.copy()\n",
    "        json_data['gold_labels'], _ = label_to_dict_str(json_data['gold_labels'])\n",
    "        json_data['news_text'] = paragraph_to_text(json_data['paragraphs'])\n",
    "        json_data['paragraphs'], num_paragraph = paragraph_to_dict_str(json_data['paragraphs'])\n",
    "        json_data['num_of_paragraphs'] = num_paragraph\n",
    "        json_data['summary_text'] = summary_to_text(json_data['summary'])\n",
    "        json_data['summary'], num_summary = summary_to_dict_str(json_data['summary'])\n",
    "        json_data['num_of_summary'] = num_summary\n",
    "        \n",
    "        new_json_list.append(json_data)\n",
    "    \n",
    "    return new_json_list"
   ]
  },
  {
   "cell_type": "code",
   "execution_count": null,
   "id": "c981ead1",
   "metadata": {},
   "outputs": [],
   "source": [
    "# only for testing purpose \n",
    "json_list_alter = alter_json_data(json_list)\n",
    "len(json_list_alter)"
   ]
  },
  {
   "cell_type": "markdown",
   "id": "ce89f880",
   "metadata": {},
   "source": [
    "### Create pandas DataFrame"
   ]
  },
  {
   "cell_type": "code",
   "execution_count": null,
   "id": "6e3d97a0",
   "metadata": {},
   "outputs": [],
   "source": [
    "def create_dataset(jsonl):\n",
    "    header = list(jsonl[0].keys())\n",
    "    dataset_list = []\n",
    "    for json_data in jsonl:\n",
    "        row = []\n",
    "        for h in header:\n",
    "            row.append(json_data[h])\n",
    "        dataset_list.append(row)\n",
    "    \n",
    "    return header, dataset_list"
   ]
  },
  {
   "cell_type": "code",
   "execution_count": null,
   "id": "c24470b8",
   "metadata": {},
   "outputs": [],
   "source": [
    "def create_dataset_from_files(file_list):\n",
    "    df_header = None\n",
    "    dataset_list = []\n",
    "    for filename in file_list:\n",
    "        json_l = load_file_to_json_list(filename)\n",
    "        new_json_l = alter_json_data(json_l, filename)\n",
    "        header, dataset_part = create_dataset(new_json_l)\n",
    "        \n",
    "        if not df_header: df_header = header\n",
    "        dataset_list.extend(dataset_part)\n",
    "        \n",
    "    df_full = pd.DataFrame().from_records(dataset_list)\n",
    "    df_full = df_full.rename(columns=dict(enumerate(header)))\n",
    "    return df_full\n",
    "        "
   ]
  },
  {
   "cell_type": "code",
   "execution_count": null,
   "id": "013d07ed",
   "metadata": {},
   "outputs": [],
   "source": [
    "df_train = create_dataset_from_files(train_files)\n",
    "df_dev = create_dataset_from_files(dev_files)\n",
    "df_test = create_dataset_from_files(test_files)"
   ]
  },
  {
   "cell_type": "code",
   "execution_count": null,
   "id": "4f029e61",
   "metadata": {},
   "outputs": [],
   "source": [
    "df_train.head()"
   ]
  },
  {
   "cell_type": "markdown",
   "id": "a4e94208",
   "metadata": {},
   "source": [
    "## EDA"
   ]
  },
  {
   "cell_type": "markdown",
   "id": "daf5b7e9",
   "metadata": {},
   "source": [
    "### Histogram from Number of Paragraph in News"
   ]
  },
  {
   "cell_type": "code",
   "execution_count": null,
   "id": "59eaa503",
   "metadata": {},
   "outputs": [],
   "source": [
    "sns.set(rc={'figure.figsize':(15, 4)})\n",
    "f, axes = plt.subplots(1, 3)\n",
    "f.suptitle(\"Histogram from Number of Paragraph in News\")\n",
    "f.tight_layout()\n",
    "hist0 = sns.histplot(data=df_train['num_of_paragraphs'], binwidth=1, ax=axes[0]).set(\n",
    "    title='Train Dataset',\n",
    "    xlabel='Number of paragraphs',\n",
    "    ylabel='Number of news',\n",
    "    yscale='log'\n",
    ")\n",
    "hist1 = sns.histplot(data=df_dev['num_of_paragraphs'], binwidth=1, ax=axes[1]).set(\n",
    "    title='Dev Dataset',\n",
    "    xlabel='Number of paragraphs',\n",
    "    ylabel='Number of news',\n",
    "    yscale='log'\n",
    ")\n",
    "hist2 = sns.histplot(data=df_test['num_of_paragraphs'], binwidth=1, ax=axes[2]).set(\n",
    "    title='Test Dataset',\n",
    "    xlabel='Number of paragraphs',\n",
    "    ylabel='Number of news',\n",
    "    yscale='log'\n",
    ")"
   ]
  },
  {
   "cell_type": "markdown",
   "id": "71f4cdb7",
   "metadata": {},
   "source": [
    "### Histogram of Summary Lengths"
   ]
  },
  {
   "cell_type": "code",
   "execution_count": null,
   "id": "59803076",
   "metadata": {},
   "outputs": [],
   "source": [
    "sns.set(rc={'figure.figsize':(15, 4)})\n",
    "f, axes = plt.subplots(1, 3)\n",
    "f.suptitle(\"Histogram from Number of Summary Sentences\")\n",
    "f.tight_layout()\n",
    "hist0 = sns.histplot(data=df_train['num_of_summary'], binwidth=1, ax=axes[0]).set(\n",
    "    title='Train Dataset',\n",
    "    xlabel='Number of summary',\n",
    "    ylabel='Number of news',\n",
    "    yscale='log'\n",
    ")\n",
    "hist1 = sns.histplot(data=df_dev['num_of_summary'], binwidth=1, ax=axes[1]).set(\n",
    "    title='Dev Dataset',\n",
    "    xlabel='Number of summary',\n",
    "    ylabel='Number of news',\n",
    "    yscale='log'\n",
    ")\n",
    "hist2 = sns.histplot(data=df_test['num_of_summary'], binwidth=1, ax=axes[2]).set(\n",
    "    title='Test Dataset',\n",
    "    xlabel='Number of summary',\n",
    "    ylabel='Number of news',\n",
    "    yscale='log'\n",
    ")"
   ]
  },
  {
   "cell_type": "markdown",
   "id": "1dc6e77d",
   "metadata": {},
   "source": [
    "### Histogram from Number Characters in News"
   ]
  },
  {
   "cell_type": "code",
   "execution_count": null,
   "id": "94f9dad5",
   "metadata": {},
   "outputs": [],
   "source": [
    "df_train['paragraphs_text_len'] = df_train['news_text'].str.len()\n",
    "df_dev['paragraphs_text_len'] = df_dev['news_text'].str.len()\n",
    "df_test['paragraphs_text_len'] = df_test['news_text'].str.len()"
   ]
  },
  {
   "cell_type": "code",
   "execution_count": null,
   "id": "c56bc530",
   "metadata": {},
   "outputs": [],
   "source": [
    "sns.set(rc={'figure.figsize':(15, 4)})\n",
    "f, axes = plt.subplots(1, 3)\n",
    "f.suptitle(\"Histogram from Number Characters in News\")\n",
    "f.tight_layout()\n",
    "hist0 = sns.histplot(data=df_train['paragraphs_text_len'], bins=20, ax=axes[0]).set(\n",
    "    title='Train Dataset',\n",
    "    xlabel='Number of characters',\n",
    "    ylabel='Number of news',\n",
    "    yscale='log'\n",
    ")\n",
    "hist1 = sns.histplot(data=df_dev['paragraphs_text_len'], bins=20, ax=axes[1]).set(\n",
    "    title='Dev Dataset',\n",
    "    xlabel='Number of characters',\n",
    "    ylabel='Number of news',\n",
    "    yscale='log'\n",
    ")\n",
    "hist2 = sns.histplot(data=df_test['paragraphs_text_len'], bins=20, ax=axes[2]).set(\n",
    "    title='Test Dataset',\n",
    "    xlabel='Number of characters',\n",
    "    ylabel='Number of news',\n",
    "    yscale='log'\n",
    ")"
   ]
  },
  {
   "cell_type": "markdown",
   "id": "a6b502b5",
   "metadata": {},
   "source": [
    "### Histogram from Number Characters in Summary"
   ]
  },
  {
   "cell_type": "code",
   "execution_count": null,
   "id": "6d6b0acb",
   "metadata": {},
   "outputs": [],
   "source": [
    "df_train['summary_text_len'] = df_train['summary_text'].str.len()\n",
    "df_dev['summary_text_len'] = df_dev['summary_text'].str.len()\n",
    "df_test['summary_text_len'] = df_test['summary_text'].str.len()"
   ]
  },
  {
   "cell_type": "code",
   "execution_count": null,
   "id": "b983af3f",
   "metadata": {},
   "outputs": [],
   "source": [
    "sns.set(rc={'figure.figsize':(15, 4)})\n",
    "f, axes = plt.subplots(1, 3)\n",
    "f.suptitle(\"Histogram from Number Characters in Summary\")\n",
    "f.tight_layout()\n",
    "hist0 = sns.histplot(data=df_train['summary_text_len'], bins=20, ax=axes[0]).set(\n",
    "    title='Train Dataset',\n",
    "    xlabel='Number of characters',\n",
    "    ylabel='Number of news',\n",
    "    yscale='log'\n",
    ")\n",
    "hist1 = sns.histplot(data=df_dev['summary_text_len'], bins=20, ax=axes[1]).set(\n",
    "    title='Dev Dataset',\n",
    "    xlabel='Number of characters',\n",
    "    ylabel='Number of news',\n",
    "    yscale='log'\n",
    ")\n",
    "hist2 = sns.histplot(data=df_test['summary_text_len'], bins=20, ax=axes[2]).set(\n",
    "    title='Test Dataset',\n",
    "    xlabel='Number of characters',\n",
    "    ylabel='Number of news',\n",
    "    yscale='log'\n",
    ")"
   ]
  }
 ],
 "metadata": {},
 "nbformat": 4,
 "nbformat_minor": 5
}
