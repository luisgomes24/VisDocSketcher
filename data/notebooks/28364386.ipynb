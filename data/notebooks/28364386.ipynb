{
 "cells": [
  {
   "cell_type": "markdown",
   "id": "baa9fc52",
   "metadata": {},
   "source": [
    "## Data Dictionary\n",
    "\n",
    "There are multiple variables in the dataset which can be cleanly divided in 3 categories:\n",
    "\n",
    "### Demographic information about customers\n",
    "\n",
    "<b>customer_id</b> - Customer id\n",
    "\n",
    "<b>vintage</b> - Vintage of the customer with the bank in number of days\n",
    "\n",
    "<b>age</b> - Age of customer\n",
    "\n",
    "<b>gender</b> - Gender of customer\n",
    "\n",
    "<b>dependents</b> - Number of dependents\n",
    "\n",
    "<b>occupation</b> - Occupation of the customer \n",
    "\n",
    "<b>city</b> - City of customer (anonymised)\n",
    "\n",
    "\n",
    "### Customer Bank Relationship\n",
    "\n",
    "\n",
    "<b>customer_nw_category</b> - Net worth of customer (3:Low 2:Medium 1:High)\n",
    "\n",
    "<b>branch_code</b> - Branch Code for customer account\n",
    "\n",
    "<b>days_since_last_transaction</b> - No of Days Since Last Credit in Last 1 year\n",
    "\n",
    "\n",
    "### Transactional Information\n",
    "\n",
    "<b>current_balance</b> - Balance as of today\n",
    "\n",
    "<b>previous_month_end_balance</b> - End of Month Balance of previous month\n",
    "\n",
    "\n",
    "<b>average_monthly_balance_prevQ</b> - Average monthly balances (AMB) in Previous Quarter\n",
    "\n",
    "<b>average_monthly_balance_prevQ2</b> - Average monthly balances (AMB) in previous to previous quarter\n",
    "\n",
    "<b>current_month_credit</b> - Total Credit Amount current month\n",
    "\n",
    "<b>previous_month_credit</b> - Total Credit Amount previous month\n",
    "\n",
    "<b>current_month_debit</b> - Total Debit Amount current month\n",
    "\n",
    "<b>previous_month_debit</b> - Total Debit Amount previous month\n",
    "\n",
    "<b>current_month_balance</b> - Average Balance of current month\n",
    "\n",
    "<b>previous_month_balance</b> - Average Balance of previous month\n",
    "\n",
    "<b>churn</b> - Average balance of customer falls below minimum balance in the next quarter (1/0)"
   ]
  },
  {
   "cell_type": "code",
   "execution_count": null,
   "id": "acd2d24d",
   "metadata": {},
   "outputs": [],
   "source": [
    "import pandas as pd\n",
    "train=pd.read_csv('../input/churn-prediction/churn_prediction.csv')\n",
    "train.head()"
   ]
  },
  {
   "cell_type": "code",
   "execution_count": null,
   "id": "5397e6ca",
   "metadata": {},
   "outputs": [],
   "source": [
    "!pip install flaml\n",
    "from sklearn.metrics import mean_absolute_percentage_error"
   ]
  },
  {
   "cell_type": "code",
   "execution_count": null,
   "id": "c7e8aecd",
   "metadata": {},
   "outputs": [],
   "source": [
    "train.nunique()"
   ]
  },
  {
   "cell_type": "code",
   "execution_count": null,
   "id": "be098077",
   "metadata": {},
   "outputs": [],
   "source": [
    "train.info()"
   ]
  },
  {
   "cell_type": "code",
   "execution_count": null,
   "id": "6e681d2a",
   "metadata": {},
   "outputs": [],
   "source": [
    "train=train.drop(['customer_id'],axis=1)\n",
    "train.head()"
   ]
  },
  {
   "cell_type": "code",
   "execution_count": null,
   "id": "801c8ce7",
   "metadata": {},
   "outputs": [],
   "source": [
    "train.city.value_counts()"
   ]
  },
  {
   "cell_type": "code",
   "execution_count": null,
   "id": "e5355ec9",
   "metadata": {},
   "outputs": [],
   "source": [
    "train.branch_code.value_counts()"
   ]
  },
  {
   "cell_type": "code",
   "execution_count": null,
   "id": "a5994660",
   "metadata": {},
   "outputs": [],
   "source": [
    "train=train.drop(['branch_code','city'],axis=1) \n",
    "train.head()"
   ]
  },
  {
   "cell_type": "code",
   "execution_count": null,
   "id": "027843ed",
   "metadata": {},
   "outputs": [],
   "source": [
    "train.info()"
   ]
  },
  {
   "cell_type": "code",
   "execution_count": null,
   "id": "50bb2197",
   "metadata": {},
   "outputs": [],
   "source": [
    "train.occupation.value_counts()"
   ]
  },
  {
   "cell_type": "code",
   "execution_count": null,
   "id": "2bb18a7f",
   "metadata": {},
   "outputs": [],
   "source": [
    "train.customer_nw_category=train.customer_nw_category.replace({3:'Low', 2:'Medium', 1:'High'})\n",
    "train.customer_nw_category.value_counts()"
   ]
  },
  {
   "cell_type": "code",
   "execution_count": null,
   "id": "1a3c9d6c",
   "metadata": {},
   "outputs": [],
   "source": [
    "train.customer_nw_category=train.customer_nw_category.replace({'Low':0,'Medium':1,'High':2})\n",
    "train.customer_nw_category.value_counts()"
   ]
  },
  {
   "cell_type": "code",
   "execution_count": null,
   "id": "51dbde69",
   "metadata": {},
   "outputs": [],
   "source": [
    "round(train.isnull().sum()*100/len(train),2)"
   ]
  },
  {
   "cell_type": "code",
   "execution_count": null,
   "id": "b7c17c01",
   "metadata": {},
   "outputs": [],
   "source": [
    "from sklearn.model_selection import train_test_split\n",
    "train, test = train_test_split( train, test_size=0.2, random_state=42,shuffle=True, stratify=train.churn)\n",
    "train.shape, test.shape"
   ]
  },
  {
   "cell_type": "code",
   "execution_count": null,
   "id": "11a2b48e",
   "metadata": {},
   "outputs": [],
   "source": [
    "train.isnull().sum().sort_values(ascending=False)"
   ]
  },
  {
   "cell_type": "code",
   "execution_count": null,
   "id": "c920ed4b",
   "metadata": {},
   "outputs": [],
   "source": [
    "test.isnull().sum().sort_values(ascending=False)"
   ]
  },
  {
   "cell_type": "code",
   "execution_count": null,
   "id": "7a89e666",
   "metadata": {},
   "outputs": [],
   "source": [
    "train[train.isna().any(axis=1)]"
   ]
  },
  {
   "cell_type": "code",
   "execution_count": null,
   "id": "2c154767",
   "metadata": {},
   "outputs": [],
   "source": [
    "test[test.isna().any(axis=1)]"
   ]
  },
  {
   "cell_type": "code",
   "execution_count": null,
   "id": "04d944fb",
   "metadata": {},
   "outputs": [],
   "source": [
    "train=pd.get_dummies(train,prefix_sep='__')\n",
    "train.head()"
   ]
  },
  {
   "cell_type": "code",
   "execution_count": null,
   "id": "4c4eb820",
   "metadata": {},
   "outputs": [],
   "source": [
    "test=pd.get_dummies(test,prefix_sep='__')\n",
    "test.head()"
   ]
  },
  {
   "cell_type": "code",
   "execution_count": null,
   "id": "5753d9dd",
   "metadata": {},
   "outputs": [],
   "source": [
    "# !rm -r kuma_utils\n",
    "!git clone https://github.com/analokmaus/kuma_utils.git"
   ]
  },
  {
   "cell_type": "code",
   "execution_count": null,
   "id": "84fbf51c",
   "metadata": {},
   "outputs": [],
   "source": [
    "import sys\n",
    "sys.path.append(\"kuma_utils/\")\n",
    "from kuma_utils.preprocessing.imputer import LGBMImputer"
   ]
  },
  {
   "cell_type": "code",
   "execution_count": null,
   "id": "e4c22739",
   "metadata": {},
   "outputs": [],
   "source": [
    "col=train.columns.tolist()\n",
    "col.remove('churn')\n",
    "col[:5]"
   ]
  },
  {
   "cell_type": "code",
   "execution_count": null,
   "id": "79c60b70",
   "metadata": {},
   "outputs": [],
   "source": [
    "%%time\n",
    "lgbm_imtr = LGBMImputer(n_iter=500)\n",
    "\n",
    "train_iterimp = lgbm_imtr.fit_transform(train[col])\n",
    "test_iterimp = lgbm_imtr.transform(test[col])\n",
    "\n",
    "# Create train test imputed dataframe\n",
    "train_ = pd.DataFrame(train_iterimp, columns=col)\n",
    "test_ = pd.DataFrame(test_iterimp, columns=col)"
   ]
  },
  {
   "cell_type": "code",
   "execution_count": null,
   "id": "78c4652c",
   "metadata": {},
   "outputs": [],
   "source": [
    "train_['churn'] = train['churn']\n",
    "train_.head()"
   ]
  },
  {
   "cell_type": "code",
   "execution_count": null,
   "id": "79f2a209",
   "metadata": {},
   "outputs": [],
   "source": [
    "test_['churn'] = test['churn']\n",
    "test_.head()"
   ]
  },
  {
   "cell_type": "code",
   "execution_count": null,
   "id": "6382b5c5",
   "metadata": {},
   "outputs": [],
   "source": [
    "def undummify(df, prefix_sep=\"__\"):\n",
    "    cols2collapse = {\n",
    "        item.split(prefix_sep)[0]: (prefix_sep in item) for item in df.columns\n",
    "    }\n",
    "    series_list = []\n",
    "    for col, needs_to_collapse in cols2collapse.items():\n",
    "        if needs_to_collapse:\n",
    "            undummified = (\n",
    "                df.filter(like=col)\n",
    "                .idxmax(axis=1)\n",
    "                .apply(lambda x: x.split(prefix_sep, maxsplit=1)[1])\n",
    "                .rename(col)\n",
    "            )\n",
    "            series_list.append(undummified)\n",
    "        else:\n",
    "            series_list.append(df[col])\n",
    "    undummified_df = pd.concat(series_list, axis=1)\n",
    "    return undummified_df"
   ]
  },
  {
   "cell_type": "code",
   "execution_count": null,
   "id": "68174e8c",
   "metadata": {},
   "outputs": [],
   "source": [
    "train=undummify(train_)\n",
    "train.head()"
   ]
  },
  {
   "cell_type": "code",
   "execution_count": null,
   "id": "711806bd",
   "metadata": {},
   "outputs": [],
   "source": [
    "test=undummify(test_)\n",
    "test.head()"
   ]
  },
  {
   "cell_type": "code",
   "execution_count": null,
   "id": "b2c8674d",
   "metadata": {},
   "outputs": [],
   "source": [
    "y = train.pop('churn')\n",
    "X = train"
   ]
  },
  {
   "cell_type": "code",
   "execution_count": null,
   "id": "c5ee745e",
   "metadata": {},
   "outputs": [],
   "source": [
    "from sklearn.model_selection import train_test_split\n",
    "X_train, X_test, y_train, y_test = train_test_split( X, y, test_size=0.2, random_state=42,shuffle=True, stratify=y)"
   ]
  },
  {
   "cell_type": "code",
   "execution_count": null,
   "id": "0f63a619",
   "metadata": {},
   "outputs": [],
   "source": [
    "from flaml import AutoML\n",
    "automl = AutoML()"
   ]
  },
  {
   "cell_type": "code",
   "execution_count": null,
   "id": "b8cc96f5",
   "metadata": {},
   "outputs": [],
   "source": [
    "automl.fit(X_train, y_train, task=\"classification\",metric='roc_auc',time_budget=900)"
   ]
  },
  {
   "cell_type": "code",
   "execution_count": null,
   "id": "bb4f334a",
   "metadata": {},
   "outputs": [],
   "source": [
    "print('Best ML leaner:', automl.best_estimator)\n",
    "print('Best hyperparmeter config:', automl.best_config)\n",
    "print('Best roc_auc on validation data: {0:.4g}'.format(1-automl.best_loss))\n",
    "print('Training duration of best run: {0:.4g} s'.format(automl.best_config_train_time))"
   ]
  },
  {
   "cell_type": "code",
   "execution_count": null,
   "id": "8f497ce1",
   "metadata": {},
   "outputs": [],
   "source": [
    "from sklearn.metrics import classification_report\n",
    "print(classification_report(y_train, automl.predict(X_train)))"
   ]
  },
  {
   "cell_type": "code",
   "execution_count": null,
   "id": "a69acd5e",
   "metadata": {},
   "outputs": [],
   "source": [
    "print(classification_report(y_test, automl.predict(X_test)))"
   ]
  },
  {
   "cell_type": "code",
   "execution_count": null,
   "id": "4461514e",
   "metadata": {},
   "outputs": [],
   "source": [
    "test_=test.drop('churn',axis=1)\n",
    "test_.head()"
   ]
  },
  {
   "cell_type": "code",
   "execution_count": null,
   "id": "ee524e13",
   "metadata": {},
   "outputs": [],
   "source": [
    "y_pred = automl.predict(test_)\n",
    "y_pred[:5]"
   ]
  },
  {
   "cell_type": "code",
   "execution_count": null,
   "id": "d81635b3",
   "metadata": {},
   "outputs": [],
   "source": [
    "df = pd.DataFrame(y_pred,columns=['churn'])\n",
    "df.head()"
   ]
  },
  {
   "cell_type": "code",
   "execution_count": null,
   "id": "de1a9dfb",
   "metadata": {},
   "outputs": [],
   "source": [
    "print(classification_report(test.churn, df.churn))"
   ]
  }
 ],
 "metadata": {},
 "nbformat": 4,
 "nbformat_minor": 5
}
