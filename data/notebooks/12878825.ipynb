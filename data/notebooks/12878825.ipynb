{
 "cells": [
  {
   "cell_type": "code",
   "execution_count": null,
   "id": "ffa252af",
   "metadata": {},
   "outputs": [],
   "source": [
    "# This Python 3 environment comes with many helpful analytics libraries installed\n",
    "# It is defined by the kaggle/python Docker image: https://github.com/kaggle/docker-python\n",
    "# For example, here's several helpful packages to load\n",
    "\n",
    "import numpy as np # linear algebra\n",
    "import pandas as pd # data processing, CSV file I/O (e.g. pd.read_csv)\n",
    "\n",
    "# Input data files are available in the read-only \"../input/\" directory\n",
    "# For example, running this (by clicking run or pressing Shift+Enter) will list all files under the input directory\n",
    "\n",
    "import os\n",
    "for dirname, _, filenames in os.walk('/kaggle/input'):\n",
    "    for filename in filenames:\n",
    "        print(os.path.join(dirname, filename))\n",
    "\n",
    "# You can write up to 20GB to the current directory (/kaggle/working/) that gets preserved as output when you create a version using \"Save & Run All\" \n",
    "# You can also write temporary files to /kaggle/temp/, but they won't be saved outside of the current session"
   ]
  },
  {
   "cell_type": "code",
   "execution_count": null,
   "id": "56ead03a",
   "metadata": {},
   "outputs": [],
   "source": [
    "print(\"****************************\")\n",
    "print(\"****************************\")\n",
    "print(\"****************************\")\n",
    "print(\"****************************\")"
   ]
  },
  {
   "cell_type": "code",
   "execution_count": null,
   "id": "483aa4cf",
   "metadata": {},
   "outputs": [],
   "source": [
    "print(\"****************************\")\n",
    "print(\"*                          *\")\n",
    "print(\"*                          *\")\n",
    "print(\"****************************\")"
   ]
  },
  {
   "cell_type": "code",
   "execution_count": null,
   "id": "58ab0306",
   "metadata": {},
   "outputs": [],
   "source": [
    "print(\"*\")\n",
    "print(\"**\")\n",
    "print(\"***\")\n",
    "print(\"****\")"
   ]
  },
  {
   "cell_type": "code",
   "execution_count": null,
   "id": "3fc301dd",
   "metadata": {},
   "outputs": [],
   "source": [
    "print((512 - 282)/(47 * 48 + 5))"
   ]
  },
  {
   "cell_type": "code",
   "execution_count": null,
   "id": "1e9c3048",
   "metadata": {},
   "outputs": [],
   "source": [
    "a = int(input(\"Enter a number:\"))\n",
    "print(\"The square of \", a, \" is \", a ** 2, ',', sep='')"
   ]
  },
  {
   "cell_type": "code",
   "execution_count": null,
   "id": "ebaa3c29",
   "metadata": {},
   "outputs": [],
   "source": [
    "x = int(input(\"Enter a number: \"))\n",
    "print(x, x*2, x*3, x*4, x*5, sep=\"---\")"
   ]
  },
  {
   "cell_type": "code",
   "execution_count": null,
   "id": "248eaf0b",
   "metadata": {},
   "outputs": [],
   "source": [
    "weight = int(input(\"Input your weight: \"))\n",
    "pounds = 2.205\n",
    "print(\"Your weight in pounds is \", weight * pounds)"
   ]
  },
  {
   "cell_type": "code",
   "execution_count": null,
   "id": "37b299a3",
   "metadata": {},
   "outputs": [],
   "source": [
    "a = int(input(\"Enter Number 1: \"))\n",
    "b = int(input(\"Enter Number 2: \"))\n",
    "c = int(input(\"Enter Number 3: \"))\n",
    "total = a + b + c\n",
    "average = (a + b + c)/3\n",
    "\n",
    "print(\"Total of three number is\", total)\n",
    "print(\"Average of three number is \", average)"
   ]
  },
  {
   "cell_type": "code",
   "execution_count": null,
   "id": "06cb75e3",
   "metadata": {},
   "outputs": [],
   "source": [
    "price = int(input(\"Enter your meal price: \"))\n",
    "tip = price * 0.1\n",
    "\n",
    "print(\"Your tip is 1%, so your tip will be: \", tip)"
   ]
  }
 ],
 "metadata": {},
 "nbformat": 4,
 "nbformat_minor": 5
}
