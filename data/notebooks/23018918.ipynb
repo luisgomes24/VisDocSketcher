{
 "cells": [
  {
   "cell_type": "code",
   "execution_count": null,
   "id": "4035fe72",
   "metadata": {},
   "outputs": [],
   "source": [
    "import pandas as pd\n",
    "import numpy as np\n",
    "import matplotlib.pyplot as plt\n",
    "import seaborn as sns\n",
    "from pandas.plotting import scatter_matrix\n",
    "import tensorflow as tf\n",
    "from tensorflow.keras.datasets import cifar10"
   ]
  },
  {
   "cell_type": "code",
   "execution_count": null,
   "id": "944337eb",
   "metadata": {},
   "outputs": [],
   "source": [
    "(X_train, y_train), (X_test, y_test) = cifar10.load_data()"
   ]
  },
  {
   "cell_type": "code",
   "execution_count": null,
   "id": "dac5939d",
   "metadata": {},
   "outputs": [],
   "source": [
    "X_train.shape, y_train.shape,X_test.shape, y_test.shape"
   ]
  },
  {
   "cell_type": "markdown",
   "id": "8eadfa38",
   "metadata": {},
   "source": [
    "# data Exploration"
   ]
  },
  {
   "cell_type": "code",
   "execution_count": null,
   "id": "d3b106cf",
   "metadata": {},
   "outputs": [],
   "source": [
    "y_train=y_train.reshape(-1,)\n",
    "y_test=y_test.reshape(-1,)\n",
    "y_train"
   ]
  },
  {
   "cell_type": "code",
   "execution_count": null,
   "id": "2dde7a00",
   "metadata": {},
   "outputs": [],
   "source": [
    "plt.imshow(X_train[1])"
   ]
  },
  {
   "cell_type": "markdown",
   "id": "bda35c69",
   "metadata": {},
   "source": [
    "# Normalising data"
   ]
  },
  {
   "cell_type": "code",
   "execution_count": null,
   "id": "6e15a979",
   "metadata": {},
   "outputs": [],
   "source": [
    "X_train = X_train / 255.0\n",
    "X_test = X_test / 255.0"
   ]
  },
  {
   "cell_type": "markdown",
   "id": "23baef9b",
   "metadata": {},
   "source": [
    "# Using ANN"
   ]
  },
  {
   "cell_type": "code",
   "execution_count": null,
   "id": "f8df0791",
   "metadata": {},
   "outputs": [],
   "source": [
    "import keras\n",
    "from tensorflow.keras import Sequential\n",
    "from tensorflow.keras import models,layers"
   ]
  },
  {
   "cell_type": "code",
   "execution_count": null,
   "id": "1d2fd31f",
   "metadata": {},
   "outputs": [],
   "source": [
    "ann = models.Sequential([\n",
    "        layers.Flatten(input_shape=(32,32,3)),\n",
    "        layers.Dense(3000, activation='relu'),\n",
    "        layers.Dense(1000, activation='relu'),\n",
    "        layers.Dense(10, activation='softmax')    \n",
    "    ])\n",
    "\n",
    "ann.compile(optimizer='SGD',\n",
    "              loss='sparse_categorical_crossentropy',\n",
    "              metrics=['accuracy'])\n",
    "\n",
    "ann.fit(X_train, y_train, epochs=5)"
   ]
  },
  {
   "cell_type": "code",
   "execution_count": null,
   "id": "25eab952",
   "metadata": {},
   "outputs": [],
   "source": [
    "pre=ann.predict(X_test)\n",
    "pred=np.argmax(pre,axis=1)\n",
    "pred"
   ]
  },
  {
   "cell_type": "code",
   "execution_count": null,
   "id": "0f917016",
   "metadata": {},
   "outputs": [],
   "source": [
    "from sklearn.metrics import accuracy_score\n",
    "accuracy_score(pred,y_test)"
   ]
  },
  {
   "cell_type": "markdown",
   "id": "8dd98954",
   "metadata": {},
   "source": [
    "# #CNN"
   ]
  },
  {
   "cell_type": "code",
   "execution_count": null,
   "id": "aac76e6a",
   "metadata": {},
   "outputs": [],
   "source": [
    "cnn=models.Sequential([\n",
    "    layers.Conv2D(filters=32, kernel_size=(3, 3),activation=\"relu\",input_shape=(32,32,3)),\n",
    "    layers.MaxPooling2D((2, 2)),\n",
    "    \n",
    "    layers.Conv2D(filters=64, kernel_size=(3, 3),activation=\"relu\"),\n",
    "    layers.MaxPooling2D((2, 2)),\n",
    "    \n",
    "    layers.Flatten(),\n",
    "    layers.Dense(100,activation=\"relu\"),\n",
    "    layers.Dense(10,activation=\"softmax\")\n",
    "    \n",
    "    \n",
    "    \n",
    "    \n",
    "])"
   ]
  },
  {
   "cell_type": "code",
   "execution_count": null,
   "id": "d3a58a33",
   "metadata": {},
   "outputs": [],
   "source": [
    "cnn.compile(\n",
    "   optimizer=\"adam\",\n",
    "   loss=\"sparse_categorical_crossentropy\",\n",
    "   metrics=[\"accuracy\"]\n",
    "\n",
    ")\n",
    "cnn.fit(X_train,y_train,epochs=5)"
   ]
  },
  {
   "cell_type": "code",
   "execution_count": null,
   "id": "2616712c",
   "metadata": {},
   "outputs": [],
   "source": [
    "result=cnn.predict(X_test)\n",
    "res=np.argmax(result,axis=1)\n",
    "res"
   ]
  },
  {
   "cell_type": "code",
   "execution_count": null,
   "id": "5c9e5183",
   "metadata": {},
   "outputs": [],
   "source": [
    "accuracy_score(res,y_test)"
   ]
  }
 ],
 "metadata": {},
 "nbformat": 4,
 "nbformat_minor": 5
}
