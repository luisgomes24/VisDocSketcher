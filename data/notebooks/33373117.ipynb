{
 "cells": [
  {
   "cell_type": "code",
   "execution_count": null,
   "id": "e2aadcfa",
   "metadata": {},
   "outputs": [],
   "source": [
    "import SimpleITK as sitk\n",
    "import os\n",
    "import multiprocessing\n",
    "\n",
    "import numpy as np # linear algebra\n",
    "import pandas as pd # data processing, CSV file I/O (e.g. pd.read_csv)\n",
    "import warnings\n",
    "warnings.filterwarnings('ignore')\n",
    "\n",
    "from tqdm import tqdm\n",
    "\n",
    "!mkdir img_256/ img_512/ img_1024/\n",
    "# You can write up to 20GB to the current directory (/kaggle/working/) that gets preserved as output when you create a version using \"Save & Run All\" \n",
    "# You can also write temporary files to /kaggle/temp/, but they won't be saved outside of the current session"
   ]
  },
  {
   "cell_type": "markdown",
   "id": "d67c671c",
   "metadata": {},
   "source": [
    "# Runn!"
   ]
  },
  {
   "cell_type": "code",
   "execution_count": null,
   "id": "c7d27887",
   "metadata": {},
   "outputs": [],
   "source": [
    "def convert_image(input_file_name,output_file_name, new_width=None):\n",
    "    try:\n",
    "        image_file_reader = sitk.ImageFileReader()\n",
    "        image_file_reader.SetImageIO(\"GDCMImageIO\")\n",
    "        image_file_reader.SetFileName(input_file_name)\n",
    "        image_file_reader.ReadImageInformation()\n",
    "        image_size = list(image_file_reader.GetSize())\n",
    "        if len(image_size) == 3 and image_size[2] == 1:\n",
    "            image_size[2] = 0\n",
    "        image_file_reader.SetExtractSize(image_size)\n",
    "        image = image_file_reader.Execute()\n",
    "        if new_width:\n",
    "            original_size = image.GetSize()\n",
    "            original_spacing = image.GetSpacing()\n",
    "            new_spacing = [\n",
    "                (original_size[0] - 1) * original_spacing[0] / (new_width - 1)\n",
    "            ] * 2\n",
    "            new_size = [\n",
    "                new_width,\n",
    "                int(\n",
    "                    (original_size[1] - 1)\n",
    "                    * original_spacing[1]\n",
    "                    / new_spacing[1]\n",
    "                ),\n",
    "            ]\n",
    "            image = sitk.Resample(\n",
    "                image1=image,\n",
    "                size=new_size,\n",
    "                transform=sitk.Transform(),\n",
    "                interpolator=sitk.sitkLinear,\n",
    "                outputOrigin=image.GetOrigin(),\n",
    "                outputSpacing=new_spacing,\n",
    "                outputDirection=image.GetDirection(),\n",
    "                defaultPixelValue=0,\n",
    "                outputPixelType=image.GetPixelID(),\n",
    "            )\n",
    "        if image.GetNumberOfComponentsPerPixel() == 1:\n",
    "            image = sitk.RescaleIntensity(image, 0, 255)\n",
    "            if (\n",
    "                image_file_reader.GetMetaData(\"0028|0004\").strip() == \"MONOCHROME1\"\n",
    "            ):\n",
    "                image = sitk.InvertIntensity(image, maximum=255)\n",
    "            image = sitk.Cast(image, sitk.sitkUInt8)\n",
    "        sitk.WriteImage(image, output_file_name)\n",
    "        print(output_file_name)\n",
    "        return True\n",
    "    except BaseException:\n",
    "        return False"
   ]
  },
  {
   "cell_type": "code",
   "execution_count": null,
   "id": "a72523ef",
   "metadata": {},
   "outputs": [],
   "source": [
    "def preprocess(row):\n",
    "    scale = 512\n",
    "    row = row[1]\n",
    "    patient_id = row[\"patient_id\"]\n",
    "    image_id = row[\"image_id\"]\n",
    "    input_file_name = f\"/kaggle/input/rsna-breast-cancer-detection/train_images/{patient_id}/{image_id}.dcm\"\n",
    "    output_file_name = f\"/kaggle/working/img_{scale}/{patient_id}_{image_id}.jpg\"\n",
    "    convert_image(input_file_name,output_file_name,scale)"
   ]
  },
  {
   "cell_type": "code",
   "execution_count": null,
   "id": "87a9bd97",
   "metadata": {},
   "outputs": [],
   "source": [
    "df = pd.read_csv(\"/kaggle/input/rsna-breast-cancer-detection/train.csv\")"
   ]
  },
  {
   "cell_type": "code",
   "execution_count": null,
   "id": "5ff694d5",
   "metadata": {},
   "outputs": [],
   "source": [
    "with multiprocessing.Pool(multiprocessing.cpu_count()) as pool:\n",
    "    list(tqdm(pool.imap_unordered(preprocess, df.iterrows()), total=len(df)))"
   ]
  },
  {
   "cell_type": "code",
   "execution_count": null,
   "id": "b35fd7e2",
   "metadata": {},
   "outputs": [],
   "source": [
    "!zip -r img.zip img"
   ]
  },
  {
   "cell_type": "code",
   "execution_count": null,
   "id": "172939c5",
   "metadata": {},
   "outputs": [],
   "source": [
    "nan"
   ]
  }
 ],
 "metadata": {},
 "nbformat": 4,
 "nbformat_minor": 5
}
