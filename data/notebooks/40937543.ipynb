{
 "cells": [
  {
   "cell_type": "markdown",
   "id": "06ee4e26",
   "metadata": {},
   "source": [
    "## Importing & installing libs, loading the dataset"
   ]
  },
  {
   "cell_type": "code",
   "execution_count": null,
   "id": "2f3acf55",
   "metadata": {},
   "outputs": [],
   "source": [
    "import pandas as pd\n",
    "import numpy as np\n",
    "import nltk\n",
    "import matplotlib.pyplot as plt\n",
    "import seaborn as sns\n",
    "import os\n",
    "from nltk.corpus import stopwords\n",
    "from sklearn.manifold import TSNE\n",
    "from sklearn.feature_extraction.text import CountVectorizer\n",
    "from tqdm import tqdm\n",
    "\n",
    "import torch\n",
    "\n",
    "!pip install umap-learn\n",
    "!pip install hdbscan\n",
    "!pip install bertopic\n",
    "!pip install sentence-transformers\n",
    "\n",
    "from umap import UMAP\n",
    "from hdbscan import HDBSCAN\n",
    "from bertopic import BERTopic\n",
    "from sentence_transformers import SentenceTransformer\n",
    "\n",
    "nltk.download('stopwords')"
   ]
  },
  {
   "cell_type": "code",
   "execution_count": null,
   "id": "c8ef5b70",
   "metadata": {},
   "outputs": [],
   "source": [
    "news_df = pd.read_csv('/kaggle/input/russian-invasion-of-ukraine-live-news-dataset/news.csv')\n",
    "news_df = news_df[~news_df.text.isna()]\n",
    "news_df.date = pd.to_datetime(news_df.date)\n",
    "news_df = news_df[news_df.date >= pd.to_datetime('2023-01-01')] ## Take only news from this year"
   ]
  },
  {
   "cell_type": "markdown",
   "id": "3af6952f",
   "metadata": {},
   "source": [
    "## Fitting BERTopic model"
   ]
  },
  {
   "cell_type": "code",
   "execution_count": null,
   "id": "e1a30691",
   "metadata": {},
   "outputs": [],
   "source": [
    "docs = news_df.text.to_list()\n",
    "\n",
    "umap_model = UMAP(n_neighbors=12, n_components=5, metric='cosine', low_memory=False)\n",
    "vectorizer_model = CountVectorizer(stop_words=stopwords.words('russian') + stopwords.words('english'))\n",
    "hdbscan_model = HDBSCAN(min_cluster_size=35, min_samples=20, metric='euclidean', prediction_data=True)\n",
    "\n",
    "topic_model = BERTopic(umap_model=umap_model,\n",
    "                       vectorizer_model=vectorizer_model, \n",
    "                       hdbscan_model=hdbscan_model,\n",
    "                       nr_topics=150, top_n_words=10, language='multilingual', verbose=True).fit(docs)"
   ]
  },
  {
   "cell_type": "markdown",
   "id": "5a991e6f",
   "metadata": {},
   "source": [
    "## Visualizing the results"
   ]
  },
  {
   "cell_type": "code",
   "execution_count": null,
   "id": "51da5f69",
   "metadata": {},
   "outputs": [],
   "source": [
    "topic_model.get_topic_info()"
   ]
  },
  {
   "cell_type": "code",
   "execution_count": null,
   "id": "2c13be92",
   "metadata": {},
   "outputs": [],
   "source": [
    "topic_model.visualize_hierarchy()"
   ]
  },
  {
   "cell_type": "code",
   "execution_count": null,
   "id": "e109fff9",
   "metadata": {},
   "outputs": [],
   "source": [
    "topic_model.visualize_topics()"
   ]
  },
  {
   "cell_type": "code",
   "execution_count": null,
   "id": "77664d73",
   "metadata": {},
   "outputs": [],
   "source": [
    "nan"
   ]
  }
 ],
 "metadata": {},
 "nbformat": 4,
 "nbformat_minor": 5
}
