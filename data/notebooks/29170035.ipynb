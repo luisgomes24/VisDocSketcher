{
 "cells": [
  {
   "cell_type": "code",
   "execution_count": null,
   "id": "85d38155",
   "metadata": {},
   "outputs": [],
   "source": [
    "import pandas as pd\n",
    "train=pd.read_csv('../input/loan-default-prediction/train_LZV4RXX.csv')\n",
    "train.head()"
   ]
  },
  {
   "cell_type": "code",
   "execution_count": null,
   "id": "d0ff545c",
   "metadata": {},
   "outputs": [],
   "source": [
    "test=pd.read_csv('../input/loan-default-prediction/test_4zJg83n.csv')\n",
    "test.head()"
   ]
  },
  {
   "cell_type": "code",
   "execution_count": null,
   "id": "8a93b117",
   "metadata": {},
   "outputs": [],
   "source": [
    "train.nunique()"
   ]
  },
  {
   "cell_type": "code",
   "execution_count": null,
   "id": "5bc43d89",
   "metadata": {},
   "outputs": [],
   "source": [
    "train.info()"
   ]
  },
  {
   "cell_type": "code",
   "execution_count": null,
   "id": "5e0036ed",
   "metadata": {},
   "outputs": [],
   "source": [
    "train.proof_submitted.value_counts()"
   ]
  },
  {
   "cell_type": "code",
   "execution_count": null,
   "id": "190a2092",
   "metadata": {},
   "outputs": [],
   "source": [
    "round(train.isnull().sum()*100/len(train),2)"
   ]
  },
  {
   "cell_type": "code",
   "execution_count": null,
   "id": "a16c43b5",
   "metadata": {},
   "outputs": [],
   "source": [
    "round(test.isnull().sum()*100/len(test),2)"
   ]
  },
  {
   "cell_type": "code",
   "execution_count": null,
   "id": "66a9e758",
   "metadata": {},
   "outputs": [],
   "source": [
    "train=train.drop(['loan_id'],axis=1)\n",
    "train.head()"
   ]
  },
  {
   "cell_type": "code",
   "execution_count": null,
   "id": "1c38f1b9",
   "metadata": {},
   "outputs": [],
   "source": [
    "test=test.drop(['loan_id'],axis=1)\n",
    "test.head()"
   ]
  },
  {
   "cell_type": "code",
   "execution_count": null,
   "id": "6f9ab594",
   "metadata": {},
   "outputs": [],
   "source": [
    "train[['education','last_delinq_none']]=train[['education','last_delinq_none']].astype('object')\n",
    "train.info()"
   ]
  },
  {
   "cell_type": "code",
   "execution_count": null,
   "id": "5695e8c0",
   "metadata": {},
   "outputs": [],
   "source": [
    "test[['education','last_delinq_none']]=test[['education','last_delinq_none']].astype('object')\n",
    "test.info()"
   ]
  },
  {
   "cell_type": "code",
   "execution_count": null,
   "id": "2ae86ec4",
   "metadata": {},
   "outputs": [],
   "source": [
    "!pip install flaml\n",
    "from sklearn.metrics import mean_absolute_percentage_error"
   ]
  },
  {
   "cell_type": "code",
   "execution_count": null,
   "id": "7de412f7",
   "metadata": {},
   "outputs": [],
   "source": [
    "train=pd.get_dummies(train,prefix_sep='__')\n",
    "train.head()"
   ]
  },
  {
   "cell_type": "code",
   "execution_count": null,
   "id": "c34fc565",
   "metadata": {},
   "outputs": [],
   "source": [
    "test=pd.get_dummies(test,prefix_sep='__')\n",
    "test.head()"
   ]
  },
  {
   "cell_type": "code",
   "execution_count": null,
   "id": "4416c4e1",
   "metadata": {},
   "outputs": [],
   "source": [
    "# !rm -r kuma_utils\n",
    "!git clone https://github.com/analokmaus/kuma_utils.git"
   ]
  },
  {
   "cell_type": "code",
   "execution_count": null,
   "id": "895377fc",
   "metadata": {},
   "outputs": [],
   "source": [
    "import sys\n",
    "sys.path.append(\"kuma_utils/\")\n",
    "from kuma_utils.preprocessing.imputer import LGBMImputer"
   ]
  },
  {
   "cell_type": "code",
   "execution_count": null,
   "id": "7cf3a7c0",
   "metadata": {},
   "outputs": [],
   "source": [
    "col=train.columns.tolist()\n",
    "col.remove('loan_default')\n",
    "col[:5]"
   ]
  },
  {
   "cell_type": "code",
   "execution_count": null,
   "id": "5017befc",
   "metadata": {},
   "outputs": [],
   "source": [
    "%%time\n",
    "lgbm_imtr = LGBMImputer(n_iter=500)\n",
    "\n",
    "train_iterimp = lgbm_imtr.fit_transform(train[col])\n",
    "test_iterimp = lgbm_imtr.transform(test[col])\n",
    "\n",
    "# Create train test imputed dataframe\n",
    "train_ = pd.DataFrame(train_iterimp, columns=col)\n",
    "test = pd.DataFrame(test_iterimp, columns=col)"
   ]
  },
  {
   "cell_type": "code",
   "execution_count": null,
   "id": "3b3b5e14",
   "metadata": {},
   "outputs": [],
   "source": [
    "train_['loan_default'] = train['loan_default']\n",
    "train_.head()"
   ]
  },
  {
   "cell_type": "code",
   "execution_count": null,
   "id": "a9648f1e",
   "metadata": {},
   "outputs": [],
   "source": [
    "def undummify(df, prefix_sep=\"__\"):\n",
    "    cols2collapse = {\n",
    "        item.split(prefix_sep)[0]: (prefix_sep in item) for item in df.columns\n",
    "    }\n",
    "    series_list = []\n",
    "    for col, needs_to_collapse in cols2collapse.items():\n",
    "        if needs_to_collapse:\n",
    "            undummified = (\n",
    "                df.filter(like=col)\n",
    "                .idxmax(axis=1)\n",
    "                .apply(lambda x: x.split(prefix_sep, maxsplit=1)[1])\n",
    "                .rename(col)\n",
    "            )\n",
    "            series_list.append(undummified)\n",
    "        else:\n",
    "            series_list.append(df[col])\n",
    "    undummified_df = pd.concat(series_list, axis=1)\n",
    "    return undummified_df\n"
   ]
  },
  {
   "cell_type": "code",
   "execution_count": null,
   "id": "232ae556",
   "metadata": {},
   "outputs": [],
   "source": [
    "train=undummify(train_)\n",
    "train.head()"
   ]
  },
  {
   "cell_type": "code",
   "execution_count": null,
   "id": "3e05030e",
   "metadata": {},
   "outputs": [],
   "source": [
    "test=undummify(test)\n",
    "test.head()"
   ]
  },
  {
   "cell_type": "code",
   "execution_count": null,
   "id": "99feef51",
   "metadata": {},
   "outputs": [],
   "source": [
    "from flaml import AutoML\n",
    "automl = AutoML()"
   ]
  },
  {
   "cell_type": "code",
   "execution_count": null,
   "id": "aec75f25",
   "metadata": {},
   "outputs": [],
   "source": [
    "y = train.pop('loan_default')\n",
    "X = train"
   ]
  },
  {
   "cell_type": "code",
   "execution_count": null,
   "id": "36460889",
   "metadata": {},
   "outputs": [],
   "source": [
    "from sklearn.model_selection import train_test_split\n",
    "X_train, X_test, y_train, y_test = train_test_split( X, y, test_size=0.2, random_state=42,shuffle=True, stratify=y)"
   ]
  },
  {
   "cell_type": "code",
   "execution_count": null,
   "id": "314f3315",
   "metadata": {},
   "outputs": [],
   "source": [
    "automl.fit(X_train, y_train, task=\"classification\",metric='micro_f1',time_budget=900)"
   ]
  },
  {
   "cell_type": "code",
   "execution_count": null,
   "id": "d7ef01d0",
   "metadata": {},
   "outputs": [],
   "source": [
    "print('Best ML leaner:', automl.best_estimator)\n",
    "print('Best hyperparmeter config:', automl.best_config)\n",
    "print('Best micro_f1 on validation data: {0:.4g}'.format(1-automl.best_loss))\n",
    "print('Training duration of best run: {0:.4g} s'.format(automl.best_config_train_time))"
   ]
  },
  {
   "cell_type": "code",
   "execution_count": null,
   "id": "7f5d6efe",
   "metadata": {},
   "outputs": [],
   "source": [
    "from sklearn.metrics import classification_report\n",
    "print(classification_report(y_train, automl.predict(X_train)))"
   ]
  },
  {
   "cell_type": "code",
   "execution_count": null,
   "id": "e311bb53",
   "metadata": {},
   "outputs": [],
   "source": [
    "print(classification_report(y_test, automl.predict(X_test)))"
   ]
  },
  {
   "cell_type": "code",
   "execution_count": null,
   "id": "e8840933",
   "metadata": {},
   "outputs": [],
   "source": [
    "y_pred = automl.predict(test)\n",
    "y_pred[:5]"
   ]
  },
  {
   "cell_type": "code",
   "execution_count": null,
   "id": "40a34f33",
   "metadata": {},
   "outputs": [],
   "source": [
    "df = pd.DataFrame(y_pred,columns=['loan_default'])\n",
    "df.head()"
   ]
  },
  {
   "cell_type": "code",
   "execution_count": null,
   "id": "b7f14495",
   "metadata": {},
   "outputs": [],
   "source": [
    "sol=pd.read_csv('../input/loan-default-prediction/sample_submission_tbPU9qQ.csv')\n",
    "sol.head()"
   ]
  },
  {
   "cell_type": "code",
   "execution_count": null,
   "id": "880d899f",
   "metadata": {},
   "outputs": [],
   "source": [
    "sol['loan_default']=df['loan_default']\n",
    "sol.head()"
   ]
  },
  {
   "cell_type": "code",
   "execution_count": null,
   "id": "0efb7ceb",
   "metadata": {},
   "outputs": [],
   "source": [
    "sol.to_csv('./micro_f1.csv',index=False)"
   ]
  }
 ],
 "metadata": {},
 "nbformat": 4,
 "nbformat_minor": 5
}
