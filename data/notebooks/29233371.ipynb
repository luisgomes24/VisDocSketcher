{
 "cells": [
  {
   "cell_type": "markdown",
   "id": "455c3248",
   "metadata": {},
   "source": [
    "<h1 style=\"font-family: Verdana; font-size: 28px; font-style: normal; font-weight: bold; text-decoration: none; text-transform: none; letter-spacing: 3px; background-color: #CCCCFF; color: black;\"><center><br>[Data Augmentation] 👀: Gaussian-Laplacian Pyramid Blending </center></h1>\n",
    "                                                      \n",
    "<center><img src = \"https://drive.google.com/uc?id=1pbIvjTlhGywfhiMTqcsdOB5LSHlklM90\"/></center>   \n",
    "\n",
    "<h5 style=\"text-align: center; font-family: Verdana; font-size: 12px; font-style: normal; font-weight: bold; text-decoration: None; text-transform: none; letter-spacing: 1px; color: black; background-color: #ffffff;\">CREATED BY: NGHI HUYNH and YUAN HONG</h5>"
   ]
  },
  {
   "cell_type": "markdown",
   "id": "806a6438",
   "metadata": {},
   "source": [
    "<p id=\"toc\"></p>\n",
    "<h2 class=\"list-group-item list-group-item-action active\" data-toggle=\"list\" style=\"font-family: Verdana; font-size: 24px; font-style: normal; font-weight: bold; text-decoration: none; text-transform: none; letter-spacing: 3px; background-color: #CCCCFF; color: black;\" role=\"tab\" aria-controls=\"home\"><center><br>CONTENTS</center></h2>\n",
    "\n",
    "<h3 style=\"text-indent: 10vw; font-family: Verdana; font-size: 16px; font-style: normal; font-weight: normal; text-decoration: none; text-transform: none; letter-spacing: 2px; color: black; background-color: #ffffff;\"><a href=\"#motive\">0&nbsp;&nbsp;&nbsp;&nbsp;MOTIVATION</a></h3>\n",
    "\n",
    "---\n",
    "\n",
    "<h3 style=\"text-indent: 10vw; font-family: Verdana; font-size: 16px; font-style: normal; font-weight: normal; text-decoration: none; text-transform: none; letter-spacing: 2px; color: black; background-color: #ffffff;\"><a href=\"#blending\">1&nbsp;&nbsp;&nbsp;&nbsp;GAUSSIAN-LAPLACIAN PYRAMID BLENDING</a></h3>\n",
    "\n",
    "---\n",
    "\n",
    "<h3 style=\"text-indent: 10vw; font-family: Verdana; font-size: 16px; font-style: normal; font-weight: normal; text-decoration: none; text-transform: none; letter-spacing: 2px; color: black; background-color: #ffffff;\"><a href=\"#demo\">2&nbsp;&nbsp;&nbsp;&nbsp;DEMO</a></h3>\n",
    "\n",
    "---\n"
   ]
  },
  {
   "cell_type": "markdown",
   "id": "096a9077",
   "metadata": {},
   "source": [
    "<div class=\"list-group\" id=\"list-tab\" role=\"tablist\">\n",
    "<h3 class=\"list-group-item list-group-item-action active\" data-toggle=\"list\" style='background:#F08080; border:0; color:black' role=\"tab\" aria-controls=\"home\"><center><br>If you find this notebook useful, do give me an upvote, it motivates me a lot.<br><br> This notebook is still a work in progress. Keep checking for further developments!😊</center></h3>"
   ]
  },
  {
   "cell_type": "markdown",
   "id": "60963db2",
   "metadata": {},
   "source": [
    "<a id=\"imports\"></a>\n",
    "\n",
    "<h2 style=\"font-family: Verdana; font-size: 24px; font-style: normal; font-weight: bold; text-decoration: none; text-transform: none; letter-spacing: 3px; background-color: #CCCCFF; color: black;\" id=\"motive\"><left><br>&nbsp;0. MOTIVATION <a href=\"#toc\">&#10514;</a><br></left> </h2>"
   ]
  },
  {
   "cell_type": "markdown",
   "id": "6e61b74e",
   "metadata": {},
   "source": [
    "While working on this challenge, I realize some problems that we are facing. Thus, I want to suggest a potential solution for those problems. I also create a discussion thread: [Data Augmentation: Gaussian-Laplacian Pyramid Blending](https://www.kaggle.com/competitions/hubmap-organ-segmentation/discussion/341235) to follow up.\n",
    "\n",
    "There are **3** main problems:\n",
    "\n",
    "1. **[Stain Variations](https://www.ncbi.nlm.nih.gov/pmc/articles/PMC5374099/)**: \n",
    "    * Histopathological images (HIs) stained with **DAB + H** based on immunohistochemistry (IHC) technique leads to inter-batch variations. In DAB staining, brown chromogen reveals protein expression, while hematoxylin is for tissue counterstaining.\n",
    "\n",
    "    * HIs stained with **H&E**: hematoxylin highlights the nuclei with a blueish color, and eosin highlights the cytoplasm and extracellular matrix in pink\n",
    "    \n",
    "    * HIs stained with **PAS**: magenta to red color for PAS positive material, blue color for cell nuclei\n",
    "    \n",
    "    ![](https://drive.google.com/uc?id=1ZDlg8iveb1ZI92oHvwtrppsCCR3HmvMn)\n",
    "    \n",
    "    * **[Figure 1](https://www.ncbi.nlm.nih.gov/core/lw/2.0/html/tileshop_pmc/tileshop_pmc_inline.html?title=Click%20on%20image%20to%20zoom&p=PMC3&id=5374099_AHC16025f02.jpg)**: A-E (left-right, top-bottom): Results of hematoxylin and eosin (H&E), periodic acid-Schiff (PAS), and immunohistochemical staining (3,3'-diaminobenzidine and hematoxylin, DAB&H) of renal tissue from control rats. **A.** H&E staining. D, distal tubules; G, glomerulus; P, proximal tubules. **B.** PAS staining. Arrows, brush borders; BM, tubular basement membranes; D, distal tubules; P, proximal tubules. **C.** iNOS immunostaining (DAB&H). **D.** BAX immunostaining (DAB&H). **E.** VDR immunostaining (DAB&H).\n",
    "\n",
    "    => All techniques commonly face differences in intensity, saturation, and hue in the HIs. Color variations may introduce a bias to ML algorithms.\n",
    "\n",
    "2. **Data Imbalance**: DL models require very large datasets for training to avoid overfitting the models. We have some class imbalance for **spleen**, **lung** and **large intestine**. HI datasets are usually small due to expensive labeling. Data imbalance leads to impacts on supervised learning algorithms\n",
    "\n",
    "    ![](https://drive.google.com/uc?id=1Ah7dIzDK5MNvrQrPZoSYGLwBFo9pWy4V)\n",
    "\n",
    "\n",
    "3. **Inter- and Intra-Class Variability**: HIs are not only different between classes, but they are also different within classes\n",
    "\n",
    "    ![](https://drive.google.com/uc?id=12S_xNSa9g5MKapKj-TK6i7Ar_KdHU6oZ)\n",
    "\n",
    "=> Data augmentation has been actively used to circumvent these problems. In this notebook, I'll apply an image blending approach using the **Gaussian-Laplacian pyramid blending** technique to generate more data within classes. This technique aims to improve the generalization ability of ML algorithms dealing with HIs.\n"
   ]
  },
  {
   "cell_type": "markdown",
   "id": "af0b623d",
   "metadata": {},
   "source": [
    "<a id=\"blending\"></a>\n",
    "\n",
    "<h2 style=\"font-family: Verdana; font-size: 24px; font-style: normal; font-weight: bold; text-decoration: none; text-transform: none; letter-spacing: 3px; background-color: #CCCCFF; color: black;\" id=\"blending\"><left><br>&nbsp;1. Gaussian-Laplacian Pyramid Blending <a href=\"#toc\">&#10514;</a><br></left> </h2>"
   ]
  },
  {
   "cell_type": "markdown",
   "id": "e39b37f5",
   "metadata": {},
   "source": [
    "# Background\n",
    "\n",
    "### Objective: \n",
    "Given 2 histopathological images within the same class, and an image mask, blend the images in a seamless way\n",
    "\n",
    "<center><img src = \"https://drive.google.com/uc?id=1JUiPlQee5lpYf1JLMiz1A8BrRO2HoNHD\"></center> \n",
    "\n",
    "### Algorithm Overview:\n",
    "\n",
    "**1.** Build **Laplacian** pyramids $LA$ and $LB$ from images A and B\n",
    "\n",
    "**2.** Build a **Gaussian** pyramid $GR$ from selected region R (mask that says which pixels come from left and which from right)\n",
    "\n",
    "**3.** Form a **combined** pyramid $LS$ from $LA$ and $LB$ using nodes of $GR$ as weights:\n",
    "\n",
    " $$LS(i,j) = GR(i,j)*LA(i,j) + (1-GR(i,j))*LB(i,j)$$\n",
    "    \n",
    "**4.** Collapse the $LS$ pyramid to get the final blended image\n",
    "\n",
    "[**Reference**: Data Augmentation for Histopathological Images Based on Gaussian-Laplacian Pyramid Blending](https://arxiv.org/pdf/2002.00072.pdf)"
   ]
  },
  {
   "cell_type": "markdown",
   "id": "2c4d4431",
   "metadata": {},
   "source": [
    "# Imports"
   ]
  },
  {
   "cell_type": "code",
   "execution_count": null,
   "id": "d35bf26d",
   "metadata": {},
   "outputs": [],
   "source": [
    "import numpy as np\n",
    "import pandas as pd\n",
    "import matplotlib.pyplot as plt\n",
    "import cv2\n",
    "import imageio\n",
    "import tifffile as tiff\n",
    "from PIL import Image\n",
    "import numpy as np\n",
    "import seaborn as sns\n",
    "import scipy.signal as sig\n",
    "from scipy import misc\n",
    "import matplotlib.pyplot as plt\n",
    "from scipy import ndimage\n",
    "import cv2\n",
    "import imageio\n",
    "from PIL import Image\n",
    "import random"
   ]
  },
  {
   "cell_type": "markdown",
   "id": "4c20ba28",
   "metadata": {},
   "source": [
    "# Load Gaussian Kernel"
   ]
  },
  {
   "cell_type": "code",
   "execution_count": null,
   "id": "48d2e0e1",
   "metadata": {},
   "outputs": [],
   "source": [
    "kernel = (1.0/256)*np.array([[1, 4, 6, 4, 1],[4, 16, 24, 16, 4],[6, 24, 36, 24, 6],[4, 16, 24, 16, 4],[1, 4, 6, 4, 1]])"
   ]
  },
  {
   "cell_type": "code",
   "execution_count": null,
   "id": "b890113e",
   "metadata": {},
   "outputs": [],
   "source": [
    "plt.imshow(kernel, cmap='seismic')\n",
    "plt.show()"
   ]
  },
  {
   "cell_type": "code",
   "execution_count": null,
   "id": "ba8be59d",
   "metadata": {},
   "outputs": [],
   "source": [
    "kernel.shape"
   ]
  },
  {
   "cell_type": "markdown",
   "id": "a183bd66",
   "metadata": {},
   "source": [
    "# Gaussian-Laplacian blending"
   ]
  },
  {
   "cell_type": "code",
   "execution_count": null,
   "id": "9ea08903",
   "metadata": {},
   "outputs": [],
   "source": [
    "# https://github.com/twyunting/Laplacian-Pyramids\n",
    "\n",
    "\n",
    "def interpolate(image):\n",
    "    \"\"\"\n",
    "    Interpolates an image with upsampling rate r = 2\n",
    "    \"\"\"\n",
    "    image_up = np.zeros((2*image.shape[0], 2*image.shape[1]))\n",
    "    # Upsample\n",
    "    image_up[::2, ::2] = image\n",
    "    # Blur (we need to scale this up since the kernel has unit area)\n",
    "    # (The length and width are both doubled, so the area is quadrupled)\n",
    "    #return sig.convolve2d(image_up, 4*kernel, 'same')\n",
    "    return ndimage.filters.convolve(image_up,4*kernel, mode='constant')\n",
    "                                \n",
    "def decimate(image):\n",
    "    \"\"\"\n",
    "    Decimates an image with downsampling rate r=2.\n",
    "    \"\"\"\n",
    "    image_blur = ndimage.filters.convolve(image,kernel, mode='constant')\n",
    "    # Downsample\n",
    "    return image_blur[::2, ::2]                                \n",
    "               \n",
    "                                      \n",
    "# here is the constructions of pyramids\n",
    "def pyramids(image):\n",
    "    \"\"\"\n",
    "    Constructs Gaussian and Laplacian pyramids.\n",
    "    Parameters :\n",
    "    image  : the original image (i.e. base of the pyramid)\n",
    "    Returns :\n",
    "    G   : the Gaussian pyramid\n",
    "    L   : the Laplacian pyramid\n",
    "    \"\"\"\n",
    "    # Initialize pyramids\n",
    "    G = [image, ]\n",
    "    L = []\n",
    "\n",
    "    # Build the Gaussian pyramid to maximum depth\n",
    "    while image.shape[0] >= 2 and image.shape[1] >= 2:\n",
    "        image = decimate(image)\n",
    "        G.append(image)\n",
    "\n",
    "   # Build the Laplacian pyramid\n",
    "    for i in range(len(G) - 1):\n",
    "        L.append(G[i] - interpolate(G[i + 1]))\n",
    "\n",
    "    return G[:-1], L\n",
    "\n",
    "\n",
    "# Build Gaussian pyramid and Laplacian pyramids from images A and B, also mask\n",
    "# Reference: https://becominghuman.ai/image-blending-using-laplacian-pyramids-2f8e9982077f\n",
    "def pyramidBlending(A, B, mask):\n",
    "    [GA, LA] = pyramids(A)\n",
    "    [GB ,LB] = pyramids(B)\n",
    "    # Build a Gaussian pyramid GR from selected region R (mask that says which pixels come from left and which from right)\n",
    "    [Gmask, LMask] = pyramids(mask)\n",
    "    # Form a combined pyramid LS from LA and LB using nodes of GR as weights\n",
    "    # Equation: LS(i, j) = GR(I, j)*LA(I, j) + (1-GR(I, j)* LB(I, j))\n",
    "    # Collapse the LS pyramid to get the final blended image\n",
    "    blend = []\n",
    "    for i in range(len(LA)):\n",
    "        # LS = np.max(Gmask[i])*LA[i] + (1-np.max(Gmask[i]))*LB[i]\n",
    "        # make sure the color with in 255 (white)\n",
    "        LS = Gmask[i]/255*LA[i] + (1-Gmask[i]/255)*LB[i]\n",
    "        blend.append(LS)\n",
    "    return blend\n",
    "\n",
    "# reconstruct the pyramids as well as upsampling and add up with each level\n",
    "def reconstruct(pyramid):\n",
    "    rows, cols = pyramid[0].shape\n",
    "    res = np.zeros((rows, cols + cols//2), dtype= np.double)\n",
    "    # start the smallest pyramid so we need to reverse the order\n",
    "    revPyramid = pyramid[::-1]\n",
    "    stack = revPyramid[0]\n",
    "    # start with the second index\n",
    "    for i in range(1, len(revPyramid)):\n",
    "        stack = interpolate(stack) + revPyramid[i] # upsampling simultaneously\n",
    "    return stack\n",
    "   \n",
    "# https://compvisionlab.wordpress.com/2013/05/13/image-blending-using-pyramid/\n",
    "# Besides pyramid Blending, we need to blend image's color\n",
    "def colorBlending(img1, img2, mask, organ, i=0):\n",
    "    # split to 3 basic color, then using pyramidBlending and reconstruct it, respectively\n",
    "    img1R,img1G,img1B = cv2.split(img1)\n",
    "    img2R,img2G,img2B = cv2.split(img2)\n",
    "    # reconstruct each color channel and convert to uint8 to return proper img\n",
    "    R = reconstruct(pyramidBlending(img1R, img2R, mask))\n",
    "    G = reconstruct(pyramidBlending(img1G, img2G, mask))\n",
    "    B = reconstruct(pyramidBlending(img1B, img2B, mask))\n",
    "    output = cv2.merge((R, G, B))#.astype('uint8')\n",
    "    imageio.imsave(f\"output_{organ}_{i}.png\", output)\n",
    "    img = cv2.imread(f\"output_{organ}_{i}.png\")\n",
    "    #img = imageio.v2.imread(\"output.png\")\n",
    "    return img\n",
    "    \n",
    "def Blending_mask(mask1, mask2, mask0, organ, i=0):\n",
    "#     mask2 = mask2.resize(mask1.size)\n",
    "    mask00 = imageio.imsave(\"output_mask.png\", mask0)\n",
    "    mask00 = Image.open(\"output_mask.png\")\n",
    "    output = Image.composite(mask1, mask2, mask00)\n",
    "    output = output.save(f\"output_mask_{organ}_{i}.png\")\n",
    "    output = Image.open(f\"output_mask_{organ}_{i}.png\")\n",
    "    return output\n"
   ]
  },
  {
   "cell_type": "markdown",
   "id": "9c8a2336",
   "metadata": {},
   "source": [
    "<a id=\"demo\"></a>\n",
    "\n",
    "<h2 style=\"font-family: Verdana; font-size: 24px; font-style: normal; font-weight: bold; text-decoration: none; text-transform: none; letter-spacing: 3px; background-color: #CCCCFF; color: black;\" id=\"demo\"><left><br>&nbsp;2. DEMO <a href=\"#toc\">&#10514;</a><br></left> </h2>"
   ]
  },
  {
   "cell_type": "code",
   "execution_count": null,
   "id": "8bdb7b63",
   "metadata": {},
   "outputs": [],
   "source": [
    "data_frame = pd.read_csv('../input/hubmap-organ-segmentation/train.csv')"
   ]
  },
  {
   "cell_type": "code",
   "execution_count": null,
   "id": "c79bc0c6",
   "metadata": {},
   "outputs": [],
   "source": [
    "# generate mask\n",
    "mask0 = np.zeros((512,512))\n",
    "mask0[:, 256:] = 255"
   ]
  },
  {
   "cell_type": "code",
   "execution_count": null,
   "id": "9fd4aec4",
   "metadata": {},
   "outputs": [],
   "source": [
    "plt.imshow(mask0, cmap='gray')\n",
    "plt.title('Mask')\n",
    "plt.show()"
   ]
  },
  {
   "cell_type": "markdown",
   "id": "f1727188",
   "metadata": {},
   "source": [
    "## Helper functions"
   ]
  },
  {
   "cell_type": "code",
   "execution_count": null,
   "id": "def38ef1",
   "metadata": {},
   "outputs": [],
   "source": [
    "def read_image_mask(df, img_id):\n",
    "    image = imageio.v2.imread(str('../input/hubmap-organ-512512/train/' f\"{img_id}_0000.png\"))\n",
    "    mask = Image.open(str('../input/hubmap-organ-512512/masks/' f\"{img_id}_0000.png\"))\n",
    "    return image, mask\n",
    "\n",
    "def highlight(row):\n",
    "    df = lambda x: ['background: #CCCCFF' if x.name in row\n",
    "                        else '' for i in x]\n",
    "    return df\n",
    "\n",
    "def plot_blended_img(img_A, img_B, mask, title, organ):\n",
    "    plt.figure(figsize=(16,9))\n",
    "    \n",
    "    plt.subplot(1,4,1)\n",
    "    plt.imshow(img_A)\n",
    "    plt.title('Image A')\n",
    "    \n",
    "    plt.subplot(1,4,2)\n",
    "    plt.imshow(img_B)\n",
    "    plt.title('Image B')\n",
    "    \n",
    "    plt.subplot(1,4,3)\n",
    "    plt.imshow(mask,cmap='gray')\n",
    "    plt.title('Mask')\n",
    "    \n",
    "    plt.subplot(1,4,4)\n",
    "    blended_img = colorBlending(img_A, img_B, mask, organ=organ)\n",
    "    plt.imshow(blended_img)\n",
    "    plt.title('Blended Image')\n",
    "    \n",
    "    plt.suptitle(f'{title}', fontsize=20, y=0.75)\n",
    "    plt.tight_layout()\n",
    "    plt.show()\n",
    "    \n",
    "def plot_blended_mask(mask_A, mask_B, mask, title, organ):\n",
    "    plt.figure(figsize=(16,9))\n",
    "    \n",
    "    plt.subplot(1,4,1)\n",
    "    plt.imshow(mask_A)\n",
    "    plt.title('Mask A')\n",
    "    \n",
    "    plt.subplot(1,4,2)\n",
    "    plt.imshow(mask_B)\n",
    "    plt.title('Mask B')\n",
    "    \n",
    "    plt.subplot(1,4,3)\n",
    "    plt.imshow(mask,cmap='gray')\n",
    "    plt.title('Mask')\n",
    "    \n",
    "    plt.subplot(1,4,4)\n",
    "    blended_mask = Blending_mask(mask_A, mask_B, mask, organ=organ )\n",
    "    plt.imshow(blended_mask)\n",
    "    plt.title('Blended Mask')\n",
    "    \n",
    "    plt.suptitle(f'{title}', fontsize=20, y=0.75)\n",
    "    plt.tight_layout()\n",
    "    plt.show()\n",
    "    \n",
    "def list_ids_organ(df, o):\n",
    "    \"\"\"\n",
    "    Args: \n",
    "        df: dataframe\n",
    "        o: specific organ \n",
    "    \n",
    "    Returns:\n",
    "        list_ids: list of ids based on organ\n",
    "    \"\"\"\n",
    "    list_ids = list(df.loc[df['organ']==o].id)\n",
    "    return list_ids"
   ]
  },
  {
   "cell_type": "markdown",
   "id": "7bbc6238",
   "metadata": {},
   "source": [
    "## Metadata"
   ]
  },
  {
   "cell_type": "code",
   "execution_count": null,
   "id": "b1da93c3",
   "metadata": {},
   "outputs": [],
   "source": [
    "# create an organ dataframe with ids only\n",
    "organs = {'prostate': [],'spleen': [],'lung': [],'kidney': [],'largeintestine': []}\n",
    "for organ, ids in organs.items():\n",
    "    list_organ = list_ids_organ(data_frame, organ)\n",
    "    ids.append(list_organ)\n",
    "df_organs = pd.DataFrame.from_dict(organs, orient='index').reset_index()\n",
    "df_organs.columns = ['organ', 'ids']\n",
    "df_organs.style.hide_index().apply(highlight([1,3]), axis=1)"
   ]
  },
  {
   "cell_type": "markdown",
   "id": "cc767a09",
   "metadata": {},
   "source": [
    "## Prostate"
   ]
  },
  {
   "cell_type": "code",
   "execution_count": null,
   "id": "c902db44",
   "metadata": {},
   "outputs": [],
   "source": [
    "df_organs.style.hide_index().apply(highlight([0]), axis=1)"
   ]
  },
  {
   "cell_type": "code",
   "execution_count": null,
   "id": "48702d5b",
   "metadata": {},
   "outputs": [],
   "source": [
    "random.seed(10)\n",
    "random_prostate = random.sample(df_organs.loc[df_organs['organ'] == 'prostate'].ids[0], 2) #.ids[0] -> prostate\n",
    "img_A, mask_A = read_image_mask(data_frame,random_prostate[0])\n",
    "img_B, mask_B = read_image_mask(data_frame,random_prostate[1])\n",
    "img_A.shape, img_B.shape, mask_A.size, mask_B.size"
   ]
  },
  {
   "cell_type": "code",
   "execution_count": null,
   "id": "e98e33c9",
   "metadata": {},
   "outputs": [],
   "source": [
    "plot_blended_img(img_A, img_B, mask0, 'Prostate Image', 'prostate')\n",
    "plot_blended_mask(mask_A, mask_B, mask0, 'Prostate Mask', 'prostate')"
   ]
  },
  {
   "cell_type": "markdown",
   "id": "4d85febc",
   "metadata": {},
   "source": [
    "## Spleen"
   ]
  },
  {
   "cell_type": "code",
   "execution_count": null,
   "id": "5fce100c",
   "metadata": {},
   "outputs": [],
   "source": [
    "df_organs.style.hide_index().apply(highlight([1]), axis=1)"
   ]
  },
  {
   "cell_type": "code",
   "execution_count": null,
   "id": "7698d5d2",
   "metadata": {},
   "outputs": [],
   "source": [
    "random.seed(10)\n",
    "random_spleen = random.sample(df_organs.loc[df_organs['organ'] == 'spleen'].ids[1], 2) #.ids[1] -> row 1: spleen\n",
    "img_A, mask_A = read_image_mask(data_frame,random_spleen[0])\n",
    "img_B, mask_B = read_image_mask(data_frame,random_spleen[1])\n",
    "img_A.shape, img_B.shape, mask_A.size, mask_B.size"
   ]
  },
  {
   "cell_type": "code",
   "execution_count": null,
   "id": "a68b153a",
   "metadata": {},
   "outputs": [],
   "source": [
    "plot_blended_img(img_A, img_B, mask0, 'Spleen Image', 'spleen')\n",
    "plot_blended_mask(mask_A, mask_B, mask0, 'Spleen Mask', 'spleen')"
   ]
  },
  {
   "cell_type": "markdown",
   "id": "3b96351f",
   "metadata": {},
   "source": [
    "## Lung"
   ]
  },
  {
   "cell_type": "code",
   "execution_count": null,
   "id": "70d3e446",
   "metadata": {},
   "outputs": [],
   "source": [
    "df_organs.style.hide_index().apply(highlight([2]), axis=1)"
   ]
  },
  {
   "cell_type": "code",
   "execution_count": null,
   "id": "1d9c4a37",
   "metadata": {},
   "outputs": [],
   "source": [
    "random.seed(10)\n",
    "random_lung = random.sample(df_organs.loc[df_organs['organ'] == 'lung'].ids[2], 2)\n",
    "img_A, mask_A = read_image_mask(data_frame,random_lung[0])\n",
    "img_B, mask_B = read_image_mask(data_frame,random_lung[1])\n",
    "img_A.shape, img_B.shape, mask_A.size, mask_B.size"
   ]
  },
  {
   "cell_type": "code",
   "execution_count": null,
   "id": "a4524337",
   "metadata": {},
   "outputs": [],
   "source": [
    "plot_blended_img(img_A, img_B, mask0, 'Lung Image', 'lung')\n",
    "plot_blended_mask(mask_A, mask_B, mask0, 'Lung Mask', 'lung')"
   ]
  },
  {
   "cell_type": "markdown",
   "id": "7a3b91c8",
   "metadata": {},
   "source": [
    "## Kidney"
   ]
  },
  {
   "cell_type": "code",
   "execution_count": null,
   "id": "55cf1e67",
   "metadata": {},
   "outputs": [],
   "source": [
    "df_organs.style.hide_index().apply(highlight([3]), axis=1)"
   ]
  },
  {
   "cell_type": "code",
   "execution_count": null,
   "id": "472fd33e",
   "metadata": {},
   "outputs": [],
   "source": [
    "random.seed(10)\n",
    "random_kidney = random.sample(df_organs.loc[df_organs['organ'] == 'kidney'].ids[3], 2)\n",
    "img_A, mask_A = read_image_mask(data_frame,random_kidney[0])\n",
    "img_B, mask_B = read_image_mask(data_frame,random_kidney[1])\n",
    "img_A.shape, img_B.shape, mask_A.size, mask_B.size"
   ]
  },
  {
   "cell_type": "code",
   "execution_count": null,
   "id": "e0ade938",
   "metadata": {},
   "outputs": [],
   "source": [
    "plot_blended_img(img_A, img_B, mask0, 'Kidney Image', 'kidney')\n",
    "plot_blended_mask(mask_A, mask_B, mask0, 'Kidney Mask', 'kidney')"
   ]
  },
  {
   "cell_type": "markdown",
   "id": "f8d525fa",
   "metadata": {},
   "source": [
    "## Large Intestine"
   ]
  },
  {
   "cell_type": "code",
   "execution_count": null,
   "id": "665b1fcb",
   "metadata": {},
   "outputs": [],
   "source": [
    "df_organs.style.hide_index().apply(highlight([4]), axis=1)"
   ]
  },
  {
   "cell_type": "code",
   "execution_count": null,
   "id": "7a7a4ddd",
   "metadata": {},
   "outputs": [],
   "source": [
    "random.seed(10)\n",
    "random_largeintestine = random.sample(df_organs.loc[df_organs['organ'] == 'largeintestine'].ids[4], 2)\n",
    "img_A, mask_A = read_image_mask(data_frame,random_largeintestine[0])\n",
    "img_B, mask_B = read_image_mask(data_frame,random_largeintestine[1])\n",
    "img_A.shape, img_B.shape, mask_A.size, mask_B.size"
   ]
  },
  {
   "cell_type": "code",
   "execution_count": null,
   "id": "9f60955a",
   "metadata": {},
   "outputs": [],
   "source": [
    "plot_blended_img(img_A, img_B, mask0, 'Large Intestine Image', 'largeintestine')\n",
    "plot_blended_mask(mask_A, mask_B, mask0, 'Large Intestine Mask', 'largeintestine')"
   ]
  },
  {
   "cell_type": "markdown",
   "id": "b92c55ab",
   "metadata": {},
   "source": [
    "=> These blending images and masks might help to augment the dataset and to balance the respective classes under investigation. 👀"
   ]
  },
  {
   "cell_type": "code",
   "execution_count": null,
   "id": "97ec7990",
   "metadata": {},
   "outputs": [],
   "source": [
    "nan"
   ]
  }
 ],
 "metadata": {},
 "nbformat": 4,
 "nbformat_minor": 5
}
