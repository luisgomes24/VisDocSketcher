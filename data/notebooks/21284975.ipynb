{
 "cells": [
  {
   "cell_type": "code",
   "execution_count": null,
   "id": "2d2dc3a5",
   "metadata": {},
   "outputs": [],
   "source": [
    "import numpy as np # linear algebra\n",
    "import pandas as pd # data processing, CSV file I/O (e.g. pd.read_csv)\n",
    "\n",
    "import os\n",
    "for dirname, _, filenames in os.walk('/kaggle/input'):\n",
    "    for filename in filenames:\n",
    "        print(os.path.join(dirname, filename))\n",
    "\n",
    "import warnings\n",
    "warnings.filterwarnings(\"ignore\")"
   ]
  },
  {
   "cell_type": "code",
   "execution_count": null,
   "id": "6bf78727",
   "metadata": {},
   "outputs": [],
   "source": [
    "import matplotlib.pyplot as plt #Data Visualization \n",
    "import seaborn as sns  #Python library for Vidualization"
   ]
  },
  {
   "cell_type": "code",
   "execution_count": null,
   "id": "6b9b80c0",
   "metadata": {},
   "outputs": [],
   "source": [
    "data = pd.read_csv('/kaggle/input/odb-paris/ParisHousing.csv', index_col = 0) #применять в случае если 1 столбец пустой"
   ]
  },
  {
   "cell_type": "code",
   "execution_count": null,
   "id": "36554456",
   "metadata": {},
   "outputs": [],
   "source": [
    "data.head()"
   ]
  },
  {
   "cell_type": "code",
   "execution_count": null,
   "id": "94753f79",
   "metadata": {},
   "outputs": [],
   "source": [
    "data.shape, data.info()"
   ]
  },
  {
   "cell_type": "code",
   "execution_count": null,
   "id": "cebb3d9e",
   "metadata": {},
   "outputs": [],
   "source": [
    "data.isnull().sum()"
   ]
  },
  {
   "cell_type": "code",
   "execution_count": null,
   "id": "44fe65a3",
   "metadata": {},
   "outputs": [],
   "source": [
    "data.columns"
   ]
  },
  {
   "cell_type": "markdown",
   "id": "9d0ec1d1",
   "metadata": {},
   "source": [
    "# EDA"
   ]
  },
  {
   "cell_type": "code",
   "execution_count": null,
   "id": "baecf4bd",
   "metadata": {},
   "outputs": [],
   "source": [
    "plt.style.use('fivethirtyeight')"
   ]
  },
  {
   "cell_type": "code",
   "execution_count": null,
   "id": "364df11f",
   "metadata": {},
   "outputs": [],
   "source": [
    "plt.figure(1 , figsize = (15 , 5))\n",
    "sns.countplot(y = 'category' , data = data)\n",
    "plt.show()"
   ]
  },
  {
   "cell_type": "code",
   "execution_count": null,
   "id": "a0a1d369",
   "metadata": {},
   "outputs": [],
   "source": [
    "plt.figure(1 , figsize = (15 , 6))\n",
    "n = 0 \n",
    "for x in ['squareMeters' , 'price' , 'floors']:\n",
    "    n += 1\n",
    "    plt.subplot(1 , 3 , n)\n",
    "    plt.subplots_adjust(hspace =0.5 , wspace = 0.5)\n",
    "    sns.distplot(data[x] , bins = 20)\n",
    "    plt.title('Distplot of {}'.format(x))\n",
    "plt.show()"
   ]
  },
  {
   "cell_type": "code",
   "execution_count": null,
   "id": "d983b91b",
   "metadata": {},
   "outputs": [],
   "source": [
    "sns.set_style('darkgrid')\n",
    "g = sns.FacetGrid(data,hue=\"category\",palette='coolwarm',size=6,aspect=2)\n",
    "g = g.map(plt.hist,'price',bins=20,alpha=0.7)"
   ]
  },
  {
   "cell_type": "markdown",
   "id": "09172388",
   "metadata": {},
   "source": [
    "# Prepare dataset"
   ]
  },
  {
   "cell_type": "code",
   "execution_count": null,
   "id": "e3b878a9",
   "metadata": {},
   "outputs": [],
   "source": [
    "from sklearn.preprocessing import LabelEncoder\n",
    "\n",
    "label_encoder = LabelEncoder()\n",
    "data['numberOfRooms'] = label_encoder.fit_transform(data[\"numberOfRooms\"])\n",
    "data['category'] = label_encoder.fit_transform(data[\"category\"])\n",
    "data['PoolAndYard'] = label_encoder.fit_transform(data[\"PoolAndYard\"])"
   ]
  },
  {
   "cell_type": "code",
   "execution_count": null,
   "id": "f965ca94",
   "metadata": {},
   "outputs": [],
   "source": [
    "data[['hasStormProtector', 'isNewBuilt', 'hasStorageRoom']] = data[['hasStormProtector', \n",
    "                                                                 'isNewBuilt', 'hasStorageRoom']].astype(int)"
   ]
  },
  {
   "cell_type": "code",
   "execution_count": null,
   "id": "e627b556",
   "metadata": {},
   "outputs": [],
   "source": [
    "data.head()"
   ]
  },
  {
   "cell_type": "code",
   "execution_count": null,
   "id": "0a2d67e6",
   "metadata": {},
   "outputs": [],
   "source": [
    "data.describe()"
   ]
  },
  {
   "cell_type": "markdown",
   "id": "097e96f1",
   "metadata": {},
   "source": [
    "# Стандартизация данных"
   ]
  },
  {
   "cell_type": "markdown",
   "id": "f8548b8e",
   "metadata": {},
   "source": [
    "Поскольку алгоритм K-ближайших соседей делает прогнозы относительно точки данных (семпла), используя наиболее близкие к ней наблюдения, существующий масштаб показателей в датасете имеет большое значение.\n",
    "\n",
    "Из-за этого специалисты по машинному обучению обычно стандартизируют набор данных, что означает корректировку каждого значения x так, чтобы они находились примерно в одном диапазоне."
   ]
  },
  {
   "cell_type": "code",
   "execution_count": null,
   "id": "eb0c1b0b",
   "metadata": {},
   "outputs": [],
   "source": [
    "from sklearn.preprocessing import StandardScaler"
   ]
  },
  {
   "cell_type": "code",
   "execution_count": null,
   "id": "9ab45a39",
   "metadata": {},
   "outputs": [],
   "source": [
    "scaler = StandardScaler()\n",
    "scaler.fit(data)\n",
    "scaled_features = scaler.transform(data)"
   ]
  },
  {
   "cell_type": "markdown",
   "id": "5a952dff",
   "metadata": {},
   "source": [
    "В качестве результата мы получили массив NumPy со всеми точками данных из датасета, но нам желательно преобразовать его в формат DataFrame библиотеки pandas"
   ]
  },
  {
   "cell_type": "code",
   "execution_count": null,
   "id": "5cf9e2c6",
   "metadata": {},
   "outputs": [],
   "source": [
    "scaled_data = pd.DataFrame(scaled_features, columns = data.columns)"
   ]
  },
  {
   "cell_type": "code",
   "execution_count": null,
   "id": "921ed940",
   "metadata": {},
   "outputs": [],
   "source": [
    "scaled_data.head()"
   ]
  },
  {
   "cell_type": "markdown",
   "id": "ac2e6730",
   "metadata": {},
   "source": [
    "# Model"
   ]
  },
  {
   "cell_type": "code",
   "execution_count": null,
   "id": "4532fbf1",
   "metadata": {},
   "outputs": [],
   "source": [
    "from sklearn.model_selection import train_test_split\n",
    "from sklearn.cluster import KMeans"
   ]
  },
  {
   "cell_type": "code",
   "execution_count": null,
   "id": "c52bebc6",
   "metadata": {},
   "outputs": [],
   "source": [
    "wcss=[]\n",
    "for i in range(1,100, 20):\n",
    "    kmeans = KMeans(n_clusters= i, init='k-means++', random_state=0)\n",
    "    kmeans.fit(scaled_data)\n",
    "    wcss.append(kmeans.inertia_)"
   ]
  },
  {
   "cell_type": "code",
   "execution_count": null,
   "id": "f3e00ae4",
   "metadata": {},
   "outputs": [],
   "source": [
    "plt.plot(range(1,100, 20), wcss)\n",
    "plt.title('Метод локтя')\n",
    "plt.xlabel('Количество кластеров')\n",
    "plt.ylabel('wcss')\n",
    "plt.show()"
   ]
  },
  {
   "cell_type": "code",
   "execution_count": null,
   "id": "3695c3df",
   "metadata": {},
   "outputs": [],
   "source": [
    "from itertools import combinations"
   ]
  },
  {
   "cell_type": "code",
   "execution_count": null,
   "id": "952eb638",
   "metadata": {},
   "outputs": [],
   "source": [
    "lst_vars=list(combinations(scaled_data.columns,2))"
   ]
  },
  {
   "cell_type": "code",
   "execution_count": null,
   "id": "6c9d3c5e",
   "metadata": {},
   "outputs": [],
   "source": [
    "len(lst_vars)"
   ]
  }
 ],
 "metadata": {},
 "nbformat": 4,
 "nbformat_minor": 5
}
