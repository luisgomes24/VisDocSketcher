{
 "cells": [
  {
   "cell_type": "markdown",
   "id": "dc2e3746",
   "metadata": {},
   "source": [
    "### Import All Useful Libraries"
   ]
  },
  {
   "cell_type": "code",
   "execution_count": null,
   "id": "c7774852",
   "metadata": {},
   "outputs": [],
   "source": [
    "import numpy as np\n",
    "import pandas as pd\n",
    "import matplotlib.pyplot as plt\n",
    "%matplotlib inline\n",
    "import seaborn as sns\n",
    "from sklearn.model_selection import train_test_split\n",
    "from sklearn.linear_model import LinearRegression\n",
    "from sklearn.metrics import mean_squared_error, r2_score\n",
    "import math"
   ]
  },
  {
   "cell_type": "markdown",
   "id": "2c4fe1cb",
   "metadata": {},
   "source": [
    "### Read and discover the dataset"
   ]
  },
  {
   "cell_type": "code",
   "execution_count": null,
   "id": "9fe9d2d2",
   "metadata": {},
   "outputs": [],
   "source": [
    "df = pd.read_csv('../input/salary-data-simple-linear-regression/Salary_Data.csv')"
   ]
  },
  {
   "cell_type": "code",
   "execution_count": null,
   "id": "78d8bbfc",
   "metadata": {},
   "outputs": [],
   "source": [
    "df.head()"
   ]
  },
  {
   "cell_type": "code",
   "execution_count": null,
   "id": "347d3d0b",
   "metadata": {},
   "outputs": [],
   "source": [
    "df.info()"
   ]
  },
  {
   "cell_type": "code",
   "execution_count": null,
   "id": "3a702a31",
   "metadata": {},
   "outputs": [],
   "source": [
    "df.describe().transpose()"
   ]
  },
  {
   "cell_type": "code",
   "execution_count": null,
   "id": "282bf450",
   "metadata": {},
   "outputs": [],
   "source": [
    "df.shape"
   ]
  },
  {
   "cell_type": "code",
   "execution_count": null,
   "id": "aa511c0c",
   "metadata": {},
   "outputs": [],
   "source": [
    "#check for null values\n",
    "df.isnull().sum()"
   ]
  },
  {
   "cell_type": "markdown",
   "id": "548a39d2",
   "metadata": {},
   "source": [
    "### Visualize the dataset"
   ]
  },
  {
   "cell_type": "code",
   "execution_count": null,
   "id": "9532ceba",
   "metadata": {},
   "outputs": [],
   "source": [
    "sns.set_style('darkgrid')\n",
    "sns.lmplot(x = 'YearsExperience', y = 'Salary', data = df, palette = 'coolwarm')"
   ]
  },
  {
   "cell_type": "code",
   "execution_count": null,
   "id": "c1d15567",
   "metadata": {},
   "outputs": [],
   "source": [
    "sns.distplot(df['Salary'])"
   ]
  },
  {
   "cell_type": "code",
   "execution_count": null,
   "id": "18052137",
   "metadata": {},
   "outputs": [],
   "source": [
    "#plot correlation using seaborn heatmap\n",
    "sns.heatmap(df.corr(), annot = True)"
   ]
  },
  {
   "cell_type": "markdown",
   "id": "5adc916e",
   "metadata": {},
   "source": [
    "### Classification using Linear Regression"
   ]
  },
  {
   "cell_type": "code",
   "execution_count": null,
   "id": "0b652b4b",
   "metadata": {},
   "outputs": [],
   "source": [
    "X, y = df.iloc[:, :-1], df.iloc[:, [-1]]"
   ]
  },
  {
   "cell_type": "code",
   "execution_count": null,
   "id": "9921decf",
   "metadata": {},
   "outputs": [],
   "source": [
    "#function for manual calculation of errors\n",
    "def MSE(y_test, y_pred):\n",
    "    return np.square(np.subtract(y_test,y_pred)).mean()\n",
    "\n",
    "def RMSE(mse):\n",
    "    return math.sqrt(mse)"
   ]
  },
  {
   "cell_type": "code",
   "execution_count": null,
   "id": "7aa43adc",
   "metadata": {},
   "outputs": [],
   "source": [
    "#classifier plotting function\n",
    "def clf_plot(clf, X_test, y_test):\n",
    "    plt.scatter(X_test, y_test,  color='red', marker = 'x')\n",
    "    plt.plot(X_test, clf.predict(X_test), color='green', linewidth=3)"
   ]
  },
  {
   "cell_type": "code",
   "execution_count": null,
   "id": "b677cd5b",
   "metadata": {},
   "outputs": [],
   "source": [
    "#function for training and testing model\n",
    "def fit_model(X, y, split_ratio):\n",
    "    X_train, X_test, y_train, y_test = train_test_split(X, y, test_size = split_ratio)\n",
    "    clf = LinearRegression()\n",
    "    clf.fit(X_train, y_train)\n",
    "    y_pred = clf.predict(X_test)\n",
    "    \n",
    "    print(\"Regression Coefficient: \", clf.coef_)\n",
    "    \n",
    "    mse_sklearn = mean_squared_error(y_test, y_pred)\n",
    "    print(\"Mean Square Error using sklearn: \", mse_sklearn)\n",
    "    print(\"Root Mean Square Error using sklearn:\", RMSE(mse_sklearn))\n",
    "    \n",
    "    mse = MSE(y_test, y_pred)\n",
    "    print(\"Mean Square Error: \", mse)\n",
    "    print(\"Root Mean Square Error:\", RMSE(mse))\n",
    "    print(\"R2 Score: \", r2_score(y_test, y_pred))\n",
    "    \n",
    "    clf_plot(clf, X_test, y_test)\n",
    "    \n",
    "    return None"
   ]
  },
  {
   "cell_type": "markdown",
   "id": "6b812303",
   "metadata": {},
   "source": [
    "### Now check output for various split ratios"
   ]
  },
  {
   "cell_type": "code",
   "execution_count": null,
   "id": "214324a6",
   "metadata": {},
   "outputs": [],
   "source": [
    "fit_model(X, y, 0.5)"
   ]
  },
  {
   "cell_type": "code",
   "execution_count": null,
   "id": "dfd344bc",
   "metadata": {},
   "outputs": [],
   "source": [
    "fit_model(X, y, 0.3)"
   ]
  },
  {
   "cell_type": "code",
   "execution_count": null,
   "id": "b66227aa",
   "metadata": {},
   "outputs": [],
   "source": [
    "fit_model(X, y, 0.2)"
   ]
  }
 ],
 "metadata": {},
 "nbformat": 4,
 "nbformat_minor": 5
}
