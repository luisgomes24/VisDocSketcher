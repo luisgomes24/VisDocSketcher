{
 "cells": [
  {
   "cell_type": "markdown",
   "id": "8395bfa2",
   "metadata": {},
   "source": [
    " Like probably many of you, I was *very* surprised when I saw the final results this morning. As the discussion [here](https://www.kaggle.com/c/seti-breakthrough-listen/discussion/266385) has shown, the key to the large distance between the winning solution and #2 was what the winning team called \"magic #2\". This method allowed them to remove background noise completely for at least some samples. Achieving this would be a kind of Holy Grail for experimental physics, so I really wanted to understand this method. At first, I couldn't wrap my head aroungd their explanation, so I started to reimplement it on my own.\n",
    " \n",
    "DISCLAIMER: even though I think that in the end it is some kind of leak, the winning team's solution is absolutely brilliant. I would have never figured this out on my own. And of course, I'm not 100% sure that this is all there is to \"magic #2\". This is just my attempt at an explanation.\n",
    " \n",
    "By now, the following is clear to me:\n",
    "\n",
    "The key is that the true measured background signals used in this competition are far wider in the frequency range than 256 bins. Therefore, the organizers cut the data up into bands of 256 bins each and used these as samples. However, for reasons unclear to me they user *severely* overlapping samples. Therefore, for most samples in the datasets, you can -partially- find that data again in another sample. If one of them contains a needle, you can perfectly remove any noise.\n",
    "The only remaining problem is the fact that each image in a sample is independently normalized to mean=0, std=1. This needs to be reversed.\n",
    "\n",
    "I will demonstrate this for one sample:"
   ]
  },
  {
   "cell_type": "code",
   "execution_count": null,
   "id": "bf5b9233",
   "metadata": {},
   "outputs": [],
   "source": [
    "import numpy as np\n",
    "import pandas as pd\n",
    "import matplotlib.pyplot as plt\n",
    "import os\n",
    "from tqdm import tqdm"
   ]
  },
  {
   "cell_type": "code",
   "execution_count": null,
   "id": "3369eafb",
   "metadata": {},
   "outputs": [],
   "source": [
    "INPUT_DIR = \"../input/seti-breakthrough-listen\"\n",
    "df_train = pd.read_csv(os.path.join(INPUT_DIR, \"train_labels.csv\"))\n",
    "df_subm = pd.read_csv(os.path.join(INPUT_DIR, \"sample_submission.csv\"))\n",
    "df_train_pos = df_train[df_train.target == 1]"
   ]
  },
  {
   "cell_type": "markdown",
   "id": "24919acf",
   "metadata": {},
   "source": [
    "Helper functions for loading and displaying samples:"
   ]
  },
  {
   "cell_type": "code",
   "execution_count": null,
   "id": "51596333",
   "metadata": {},
   "outputs": [],
   "source": [
    "def load_example(idx):\n",
    "    try:\n",
    "        x = np.load(os.path.join(INPUT_DIR, \"train\", idx[0], idx + \".npy\"))\n",
    "    except:\n",
    "        x = np.load(os.path.join(INPUT_DIR, \"test\",  idx[0], idx + \".npy\"))\n",
    "    return x.astype(np.float32)\n",
    "\n",
    "\n",
    "def show_example(x, p=0):\n",
    "    \n",
    "    x = x.reshape(-1, 256)\n",
    "    x = np.clip(x, np.percentile(x, p), np.percentile(x, 100-p)) # clip for better contrast\n",
    "    \n",
    "    fig, ax = plt.subplots()\n",
    "    fig.set_size_inches(18, 3)\n",
    "    ax.set_xticks(np.arange(1,6)*273)\n",
    "    ax.set_yticks([])\n",
    "    ax.grid(True)\n",
    "    ax.imshow(x.T, aspect=\"auto\", cmap=\"Greys\")"
   ]
  },
  {
   "cell_type": "markdown",
   "id": "981d9164",
   "metadata": {},
   "source": [
    "Let's take a look at one sample which contains a needle with a very low SNR, definitely not visible by eye, the 5th positive sample in train. Time is the horizontal direction, frequency vertical:"
   ]
  },
  {
   "cell_type": "code",
   "execution_count": null,
   "id": "7aec5409",
   "metadata": {},
   "outputs": [],
   "source": [
    "idx = df_train_pos.id.iloc[5]\n",
    "print(idx)\n",
    "x0 = load_example(idx)\n",
    "show_example(x0, 1)"
   ]
  },
  {
   "cell_type": "markdown",
   "id": "0b95921a",
   "metadata": {},
   "source": [
    "I'm doing the \"renormalization\" similar to but probably different from the winning team. I start with one normalized reference column and check if this column is found somewhere else in the data:"
   ]
  },
  {
   "cell_type": "code",
   "execution_count": null,
   "id": "f733e260",
   "metadata": {},
   "outputs": [],
   "source": [
    "def column_norm(x):\n",
    "    ''' normalizes each column of 273 pixels in each of the 6 images in sample x separately \n",
    "    to mean==0 and L2 norm==1 '''\n",
    "    \n",
    "    xn  = x - np.mean(x, axis=1, keepdims=True) # remove mean\n",
    "    xn /= np.sqrt(np.sum(xn**2, axis=1, keepdims=True)) # normalize\n",
    "    return xn  \n",
    "\n",
    "def find_similar_column(col0, xn1):\n",
    "    ''' calculates cosine similarity between the normalized reference column col0 and all columns\n",
    "        in the column-normalized sample xn1 '''\n",
    "    \n",
    "    return np.array([ [ np.dot(col0, col1) for col1 in img.T ] for img in xn1 ])"
   ]
  },
  {
   "cell_type": "markdown",
   "id": "acac7e26",
   "metadata": {},
   "source": [
    "The normalized sample from above. Still no needle visible"
   ]
  },
  {
   "cell_type": "code",
   "execution_count": null,
   "id": "84a49d91",
   "metadata": {},
   "outputs": [],
   "source": [
    "xn0 = column_norm(x0)\n",
    "show_example(xn0, 1)"
   ]
  },
  {
   "cell_type": "markdown",
   "id": "4e45b282",
   "metadata": {},
   "source": [
    "Now let's search the dataset for a copy of normalized column 128 in image 1 of our sample. I use col 128 because it's in the middle of the image. I search only a small subset of the full 60,000 samples dataset to keep running time short because I know from earlier runs where the match will be ;)."
   ]
  },
  {
   "cell_type": "code",
   "execution_count": null,
   "id": "c1601c97",
   "metadata": {},
   "outputs": [],
   "source": [
    "for idx in tqdm(df_train.id.iloc[50500:51000]):\n",
    "    xn1 = column_norm(load_example(idx))\n",
    "    cs = find_similar_column(xn0[0,:,128], xn1)\n",
    "    csm = cs.max()\n",
    "    if csm > 0.9:\n",
    "        print(idx, csm, cs.argmax() % 273)"
   ]
  },
  {
   "cell_type": "markdown",
   "id": "e8384f8d",
   "metadata": {},
   "source": [
    "Found a perfect match: sample d87cb86179e9d02. Let's look at it. It is identical to 004933b94083be2 where they overlap It's only shifted by 128-68=60 frequency bins:"
   ]
  },
  {
   "cell_type": "code",
   "execution_count": null,
   "id": "96f2bf6b",
   "metadata": {},
   "outputs": [],
   "source": [
    "x1 = load_example(\"d87cb86179e9d02\")\n",
    "show_example(x1, 1)"
   ]
  },
  {
   "cell_type": "markdown",
   "id": "3ce813ed",
   "metadata": {},
   "source": [
    "Normalize it and subtract from the normalized sample xn0. Increasing the contrast a little, the needles are easily visible. The noise has been perfectly removed because of the leak. A 2-layer MLP could find these needles:"
   ]
  },
  {
   "cell_type": "code",
   "execution_count": null,
   "id": "ab661d56",
   "metadata": {},
   "outputs": [],
   "source": [
    "xn1 = column_norm(x1)\n",
    "show_example(xn0 - np.roll(xn1, 128-68, axis=2), 10)"
   ]
  },
  {
   "cell_type": "markdown",
   "id": "52bb131c",
   "metadata": {},
   "source": [
    "Increasing the contrast some more, numerical rounding errors become visible, except for where the artificial signals were inserted. Obviously using rectangles."
   ]
  },
  {
   "cell_type": "code",
   "execution_count": null,
   "id": "c1150999",
   "metadata": {},
   "outputs": [],
   "source": [
    "show_example(xn0 - np.roll(xn1, 128-68, axis=2), 40)"
   ]
  },
  {
   "cell_type": "markdown",
   "id": "94b78c78",
   "metadata": {},
   "source": [
    "That's all for now. Hope this clears up the magic a bit.\n",
    "Again: congrats to Team Watercooled. Brilliant detective work!"
   ]
  },
  {
   "cell_type": "code",
   "execution_count": null,
   "id": "d57f6721",
   "metadata": {},
   "outputs": [],
   "source": [
    "nan"
   ]
  }
 ],
 "metadata": {},
 "nbformat": 4,
 "nbformat_minor": 5
}
