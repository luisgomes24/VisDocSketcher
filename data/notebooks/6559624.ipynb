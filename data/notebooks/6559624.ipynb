{
 "cells": [
  {
   "cell_type": "markdown",
   "id": "0c582ef5",
   "metadata": {},
   "source": [
    "# 2019 Kaggle ML & DS Survey\n",
    "EXPLORATORY DATA ANALYSIS \n",
    "& MODEL EXPLAINABILITY NOTEBOOK\n",
    "\n",
    "** Data Overview ** \n",
    "\n",
    "- This survey received 19,717 usable respondents from 171 countries and territories. If a country or territory received less than 50 respondents, we grouped them into a group named “Other” for anonymity.\n",
    "- Most of the respondents were found primarily through Kaggle channels, like our email list, discussion forums and social media channels.\n",
    "- The survey was live from October 8th to October 28th. We allowed respondents to complete the survey at any time during that window. \n",
    "- Not every question was shown to every respondent. In general, respondents with more experience were asked more questions and respondents with less experience were asked less questions.\n",
    "- To protect the respondents’ identity, the answers to multiple choice questions have been separated into a separate data file from the open-ended responses. \n",
    "- Multiple choice single response questions fit into individual columns whereas multiple choice multiple response questions were split into multiple columns.\n",
    "- Text responses were encoded to protect user privacy and countries with fewer than 50 respondents were grouped into the category \"other\".\n",
    "\n",
    "(full data description: https://www.kaggle.com/c/kaggle-survey-2019/data)"
   ]
  },
  {
   "cell_type": "code",
   "execution_count": null,
   "id": "fe081d69",
   "metadata": {},
   "outputs": [],
   "source": [
    "import numpy as np \n",
    "import pandas as pd\n",
    "import pandas_profiling\n",
    "import matplotlib.pyplot as plt\n",
    "import seaborn as sns\n",
    "plt.style.use('seaborn')\n",
    "\n",
    "\n",
    "import warnings\n",
    "warnings.filterwarnings('ignore')\n",
    "\n",
    "from sklearn.ensemble import RandomForestClassifier\n",
    "from sklearn.preprocessing import LabelEncoder\n",
    "from sklearn.model_selection import train_test_split as train_valid_split\n",
    "from sklearn.metrics import classification_report\n",
    "\n",
    "import eli5\n",
    "\n",
    "import os\n",
    "for dirname, _, filenames in os.walk('/kaggle/input'):\n",
    "    for filename in filenames:\n",
    "        print(os.path.join(dirname, filename))"
   ]
  },
  {
   "cell_type": "markdown",
   "id": "75f84b6a",
   "metadata": {},
   "source": [
    "# Questions\n",
    "This section list all expanded version of each survey question.\n",
    "\n",
    "*Author Notes: Suvery schema data analysis will be re-added to future versions of this notebook*"
   ]
  },
  {
   "cell_type": "code",
   "execution_count": null,
   "id": "5ebece32",
   "metadata": {},
   "outputs": [],
   "source": [
    "questions_only = pd.read_csv('/kaggle/input/kaggle-survey-2019/questions_only.csv')\n",
    "with pd.option_context('display.max_colwidth', 10000):\n",
    "    display(questions_only.T)"
   ]
  },
  {
   "cell_type": "markdown",
   "id": "ee6ac4c9",
   "metadata": {},
   "source": [
    "# Multiple Choice Responses\n",
    "This section provides quick data profiling and analysis of the multiple choice responses data. \n",
    "\n",
    "*Author Notes: Other Text Responses data analysis will be re-added to future versions of this notebook*"
   ]
  },
  {
   "cell_type": "code",
   "execution_count": null,
   "id": "8dc64046",
   "metadata": {},
   "outputs": [],
   "source": [
    "multiple_choice = pd.read_csv('/kaggle/input/kaggle-survey-2019/multiple_choice_responses.csv')[1:]\n",
    "multiple_choice.profile_report(title='Multiple Choice Responses',style={'full_width':True})"
   ]
  },
  {
   "cell_type": "markdown",
   "id": "bbbcdc31",
   "metadata": {},
   "source": [
    "# Current Title/Role\n",
    "Since we want to do a model using the data and implement model explainability technique, I decided to use the title/role as the target variable."
   ]
  },
  {
   "cell_type": "code",
   "execution_count": null,
   "id": "c054ca8c",
   "metadata": {},
   "outputs": [],
   "source": [
    "multiple_choice['Q5'].value_counts().sort_values(ascending=True).plot(kind='barh')"
   ]
  },
  {
   "cell_type": "markdown",
   "id": "496f34d8",
   "metadata": {},
   "source": [
    "We can see here that the student and data scientist are the top roles relative to the others. We can do a simple binary classification using the top 2 roles as classess\n",
    "\n",
    "*Author Notes: Classification Model can be extended to multi-class on future versions*"
   ]
  },
  {
   "cell_type": "code",
   "execution_count": null,
   "id": "7928f4ea",
   "metadata": {},
   "outputs": [],
   "source": [
    "condition = (multiple_choice['Q5']=='Data Scientist') | (multiple_choice['Q5']=='Student')\n",
    "multiple_choice[condition].profile_report(title='Multiple Choice Responses',style={'full_width':True})"
   ]
  },
  {
   "cell_type": "markdown",
   "id": "ee9768ea",
   "metadata": {},
   "source": [
    "# Modeling: Students vs Data Scientist\n",
    "This section we will create a simple classification model to differentiate a student from a data scientist. We will also include model explainability to understand what the model learned. "
   ]
  },
  {
   "cell_type": "code",
   "execution_count": null,
   "id": "32a9a30d",
   "metadata": {},
   "outputs": [],
   "source": [
    "condition = (multiple_choice['Q5']=='Data Scientist') | (multiple_choice['Q5']=='Student')\n",
    "df = multiple_choice[condition].reset_index(drop=True)\n",
    "other_text_cols = [col for col in df.columns if 'OTHER_TEXT' in col]\n",
    "df = df.drop(other_text_cols,axis=1)\n",
    "df = df.rename(columns={'Time from Start to Finish (seconds)':'Duration'})\n",
    "df.head()"
   ]
  },
  {
   "cell_type": "code",
   "execution_count": null,
   "id": "4a3c243f",
   "metadata": {},
   "outputs": [],
   "source": [
    "def cat_encoding(df,map_dict):\n",
    "    for col in map_dict.keys():\n",
    "        df[col] = df[col].map(map_dict[col])\n",
    "    return df\n",
    "\n",
    "df['Duration'] =  df['Duration'].astype(float)\n",
    "cat_cols = df.select_dtypes('object').columns\n",
    "\n",
    "cat_mapping = {}\n",
    "for col in cat_cols:\n",
    "    values = list(df[col].unique())\n",
    "    LE = LabelEncoder().fit(values)\n",
    "    cat_mapping[col] = dict(zip(LE.classes_, LE.transform(LE.classes_)))\n",
    "    \n",
    "df = cat_encoding(df,cat_mapping)"
   ]
  },
  {
   "cell_type": "markdown",
   "id": "938f2de3",
   "metadata": {},
   "source": [
    "For our model we want to predict the Q5 so we can know how the model differentiate a Student from a Data Scientist"
   ]
  },
  {
   "cell_type": "code",
   "execution_count": null,
   "id": "1ebf1542",
   "metadata": {},
   "outputs": [],
   "source": [
    "y_col = 'Q5'\n",
    "y = df[y_col]\n",
    "Xs = df.drop(y_col,axis=1).fillna(-999)\n",
    "\n",
    "X_train,X_valid,y_train,y_valid = train_valid_split(Xs, y, test_size = .2,\n",
    "                                                    random_state=0)\n",
    "X_train.shape,X_valid.shape"
   ]
  },
  {
   "cell_type": "markdown",
   "id": "67a78326",
   "metadata": {},
   "source": [
    "### Modeling"
   ]
  },
  {
   "cell_type": "code",
   "execution_count": null,
   "id": "7bb3064e",
   "metadata": {},
   "outputs": [],
   "source": [
    "%%time\n",
    "model = RandomForestClassifier(n_estimators=100,\n",
    "                               random_state=0,n_jobs=-1)\n",
    "model.fit(X_train,y_train)"
   ]
  },
  {
   "cell_type": "markdown",
   "id": "6dafcf11",
   "metadata": {},
   "source": [
    "### Model Evaluation"
   ]
  },
  {
   "cell_type": "code",
   "execution_count": null,
   "id": "7af732a1",
   "metadata": {},
   "outputs": [],
   "source": [
    "preds = model.predict_proba(X_train)[:,1]\n",
    "plt.hist(preds,bins=100)\n",
    "plt.show();\n",
    "print('train_report',classification_report(y_train,np.round(preds)))\n",
    "\n",
    "preds = model.predict_proba(X_valid)[:,1]\n",
    "plt.hist(preds,bins=100)\n",
    "plt.show();\n",
    "print('valid_report',classification_report(y_valid,np.round(preds)))"
   ]
  },
  {
   "cell_type": "markdown",
   "id": "20c6a56c",
   "metadata": {},
   "source": [
    "# Model Explainability: Students vs Data Scientist\n",
    "\n",
    "The model's overall top weights are \n",
    "- Q6: What is the size of the company where you are employed? \n",
    "- Q8: Does your current employer incorporate machine learning methods into their business?\n",
    "- Q7: Approximately how many individuals are responsible for data science workloads at your place of business?\n",
    "- Q11: Approximately how much money have you spent on machine learning and/or cloud computing products at your work in the past 5 years?\n",
    "- Q10: \tWhat is your current yearly compensation (approximate $USD)?\n",
    "\n",
    "It seems that the model leverage on questions regarding employment to differentiate a student from a data scientist.. \n",
    "*Author Notes:.. will be removing highly related variables for differentiating classes*"
   ]
  },
  {
   "cell_type": "code",
   "execution_count": null,
   "id": "067dfb2d",
   "metadata": {},
   "outputs": [],
   "source": [
    "eli5.show_weights(model,feature_names=list(X_train.columns))"
   ]
  },
  {
   "cell_type": "markdown",
   "id": "108b11df",
   "metadata": {},
   "source": [
    "### Predicting a Data Scientist based on survey answers\n",
    "\n",
    "Top questions to differentiate it from a student\n",
    "- Q11: Approximately how much money have you spent on machine learning and/or cloud computing products at your work in the past 5 years?\n",
    "- Q8: Does your current employer incorporate machine learning methods into their business?"
   ]
  },
  {
   "cell_type": "code",
   "execution_count": null,
   "id": "b906f346",
   "metadata": {},
   "outputs": [],
   "source": [
    "X_valid.loc[2569,:]"
   ]
  },
  {
   "cell_type": "code",
   "execution_count": null,
   "id": "e50af97f",
   "metadata": {},
   "outputs": [],
   "source": [
    "eli5.show_prediction(model,X_valid.loc[2569,:],feature_names=list(X_train.columns), top=20)"
   ]
  },
  {
   "cell_type": "markdown",
   "id": "9be6d6e5",
   "metadata": {},
   "source": [
    "### Predicting a Student based on survey answers\n",
    "\n",
    "Top questions to differentiate it from a Data Scientist\n",
    "- Q6: What is the size of the company where you are employed?\n",
    "- Q11: Approximately how much money have you spent on machine learning and/or cloud computing products at your work in the past 5 years?"
   ]
  },
  {
   "cell_type": "code",
   "execution_count": null,
   "id": "ed2eb350",
   "metadata": {},
   "outputs": [],
   "source": [
    "X_valid.loc[5683,:]"
   ]
  },
  {
   "cell_type": "code",
   "execution_count": null,
   "id": "d2e514ed",
   "metadata": {},
   "outputs": [],
   "source": [
    "eli5.show_prediction(model,X_valid.loc[5683,:],feature_names=list(X_train.columns), top=20)"
   ]
  },
  {
   "cell_type": "markdown",
   "id": "bbd2bfc2",
   "metadata": {},
   "source": [
    "# Notebook in progress\n",
    "### Do UPVOTE if this notebook is helpful to you in some way :) <br/> Comment below any suggetions that can help improve this notebook. TIA"
   ]
  },
  {
   "cell_type": "code",
   "execution_count": null,
   "id": "585cc096",
   "metadata": {},
   "outputs": [],
   "source": [
    "nan"
   ]
  }
 ],
 "metadata": {},
 "nbformat": 4,
 "nbformat_minor": 5
}
