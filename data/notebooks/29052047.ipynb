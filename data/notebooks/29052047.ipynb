{
 "cells": [
  {
   "cell_type": "code",
   "execution_count": null,
   "id": "8c27b744",
   "metadata": {},
   "outputs": [],
   "source": [
    "import numpy as np \n",
    "import pandas as pd \n",
    "import matplotlib.pyplot as plt\n",
    "import seaborn as sns\n",
    "from sklearn import preprocessing\n",
    "from sklearn.model_selection import train_test_split\n",
    "from sklearn.tree import DecisionTreeClassifier\n",
    "from sklearn.ensemble import RandomForestClassifier\n",
    "from sklearn.ensemble import GradientBoostingClassifier\n",
    "from sklearn.ensemble import VotingClassifier\n",
    "from sklearn.metrics import confusion_matrix\n",
    "import keras\n",
    "import os\n",
    "for dirname, _, filenames in os.walk('/kaggle/input'):\n",
    "    for filename in filenames:\n",
    "        print(os.path.join(dirname, filename))"
   ]
  },
  {
   "cell_type": "markdown",
   "id": "809cda3b",
   "metadata": {},
   "source": [
    "# Preparing data"
   ]
  },
  {
   "cell_type": "code",
   "execution_count": null,
   "id": "94a3ce44",
   "metadata": {},
   "outputs": [],
   "source": [
    "df = pd.read_csv('../input/airlines-dataset-to-predict-a-delay/Airlines.csv')\n",
    "df"
   ]
  },
  {
   "cell_type": "code",
   "execution_count": null,
   "id": "cef291ec",
   "metadata": {},
   "outputs": [],
   "source": [
    "df.isnull().sum()"
   ]
  },
  {
   "cell_type": "code",
   "execution_count": null,
   "id": "f73aa013",
   "metadata": {},
   "outputs": [],
   "source": [
    "df.dtypes"
   ]
  },
  {
   "cell_type": "code",
   "execution_count": null,
   "id": "dd37446a",
   "metadata": {},
   "outputs": [],
   "source": [
    "df.drop(columns=['id'], inplace=True)"
   ]
  },
  {
   "cell_type": "code",
   "execution_count": null,
   "id": "7f6d0fbc",
   "metadata": {},
   "outputs": [],
   "source": [
    "cols = df.columns\n",
    "for i in range(0,len(cols)):\n",
    "    print(df[cols[i]].value_counts(),'\\n')\n",
    "    print('********************************************\\n')"
   ]
  },
  {
   "cell_type": "code",
   "execution_count": null,
   "id": "58bc89f5",
   "metadata": {},
   "outputs": [],
   "source": [
    "le = preprocessing.LabelEncoder()\n",
    "\n",
    "df['Airline'] = le.fit_transform(df['Airline'])\n",
    "df['AirportFrom'] = le.fit_transform(df['AirportFrom'])\n",
    "df['AirportTo'] = le.fit_transform(df['AirportTo'])"
   ]
  },
  {
   "cell_type": "code",
   "execution_count": null,
   "id": "5bdead25",
   "metadata": {},
   "outputs": [],
   "source": [
    "df"
   ]
  },
  {
   "cell_type": "markdown",
   "id": "eba691f9",
   "metadata": {},
   "source": [
    "# Visualize some features of data"
   ]
  },
  {
   "cell_type": "code",
   "execution_count": null,
   "id": "bdac34ff",
   "metadata": {},
   "outputs": [],
   "source": [
    "sns.countplot(df['Delay'])"
   ]
  },
  {
   "cell_type": "code",
   "execution_count": null,
   "id": "91440054",
   "metadata": {},
   "outputs": [],
   "source": [
    "sns.histplot(df['Time'])"
   ]
  },
  {
   "cell_type": "code",
   "execution_count": null,
   "id": "dbdec301",
   "metadata": {},
   "outputs": [],
   "source": [
    "sns.histplot(df['Length'])"
   ]
  },
  {
   "cell_type": "code",
   "execution_count": null,
   "id": "df894122",
   "metadata": {},
   "outputs": [],
   "source": [
    "df['Length_by_hours'] = df['Length'] / 60\n",
    "df['Time_by_hour'] = df['Time'] / 60"
   ]
  },
  {
   "cell_type": "code",
   "execution_count": null,
   "id": "4dc002ab",
   "metadata": {},
   "outputs": [],
   "source": [
    "df.drop(columns=['Length', 'Time'], inplace=True)"
   ]
  },
  {
   "cell_type": "code",
   "execution_count": null,
   "id": "5c82f5d8",
   "metadata": {},
   "outputs": [],
   "source": [
    "sns.histplot(df['Time_by_hour'])"
   ]
  },
  {
   "cell_type": "code",
   "execution_count": null,
   "id": "7e7baa67",
   "metadata": {},
   "outputs": [],
   "source": [
    "sns.histplot(df['Length_by_hours'])"
   ]
  },
  {
   "cell_type": "markdown",
   "id": "9468a277",
   "metadata": {},
   "source": [
    "# Feature extraction"
   ]
  },
  {
   "cell_type": "code",
   "execution_count": null,
   "id": "a67856ec",
   "metadata": {},
   "outputs": [],
   "source": [
    "#0 --> Morning | 1 --> Afternoon | 2 --> Evening | 3 --> Night\n",
    "departure_period = []\n",
    "for i in range(0,len(df)):\n",
    "    if ((df['Time_by_hour'][i] >= 5) & (df['Time_by_hour'][i] < 12)):      \n",
    "        departure_period.append(0)\n",
    "    elif ((df['Time_by_hour'][i] >= 12) & (df['Time_by_hour'][i] < 17)):    \n",
    "        departure_period.append(1)\n",
    "    elif ((df['Time_by_hour'][i] >= 17) & (df['Time_by_hour'][i] < 21)): \n",
    "        departure_period.append(2)\n",
    "    else: \n",
    "        departure_period.append(3)\n",
    "\n",
    "df['Departure_period'] = departure_period"
   ]
  },
  {
   "cell_type": "code",
   "execution_count": null,
   "id": "361a3ac8",
   "metadata": {},
   "outputs": [],
   "source": [
    "df['Departure_period'].value_counts()"
   ]
  },
  {
   "cell_type": "code",
   "execution_count": null,
   "id": "db2fc00b",
   "metadata": {},
   "outputs": [],
   "source": [
    "# 0 --> not holiday | 1 --> holiday\n",
    "holiday = []\n",
    "for i in range(0,len(df)):\n",
    "    if ((df['DayOfWeek'][i] == 6) | (df['DayOfWeek'][i] == 7)):      \n",
    "        holiday.append(1)\n",
    "    else: \n",
    "        holiday.append(0)\n",
    "\n",
    "df['Holiday'] = holiday"
   ]
  },
  {
   "cell_type": "code",
   "execution_count": null,
   "id": "131b9e68",
   "metadata": {},
   "outputs": [],
   "source": [
    "df['Holiday'].value_counts()"
   ]
  },
  {
   "cell_type": "code",
   "execution_count": null,
   "id": "1ee0d66a",
   "metadata": {},
   "outputs": [],
   "source": [
    "arrival_time = []\n",
    "for i in range(0,len(df)):     \n",
    "    if ((df['Time_by_hour'][i] + df['Length_by_hours'][i]) >=24):\n",
    "        arrival_time.append((df['Time_by_hour'][i] + df['Length_by_hours'][i])-24)\n",
    "    else:\n",
    "        arrival_time.append(df['Time_by_hour'][i] + df['Length_by_hours'][i])\n",
    "        \n",
    "df['Arrival_Time'] = arrival_time"
   ]
  },
  {
   "cell_type": "code",
   "execution_count": null,
   "id": "91a0551e",
   "metadata": {},
   "outputs": [],
   "source": [
    "arrival_period = []\n",
    "for i in range(0,len(df)):\n",
    "    if ((df['Arrival_Time'][i] >= 5) & (df['Arrival_Time'][i] < 12)):      \n",
    "        arrival_period.append(0)\n",
    "    elif ((df['Arrival_Time'][i] >= 12) & (df['Arrival_Time'][i] < 17)):    \n",
    "        arrival_period.append(1)\n",
    "    elif ((df['Arrival_Time'][i] >= 17) & (df['Arrival_Time'][i] < 21)): \n",
    "        arrival_period.append(2)\n",
    "    else: \n",
    "        arrival_period.append(3)\n",
    "        \n",
    "df['Arrival_period'] = arrival_period"
   ]
  },
  {
   "cell_type": "code",
   "execution_count": null,
   "id": "cb7bbb79",
   "metadata": {},
   "outputs": [],
   "source": [
    "df"
   ]
  },
  {
   "cell_type": "markdown",
   "id": "9246e726",
   "metadata": {},
   "source": [
    "# Correlation among features"
   ]
  },
  {
   "cell_type": "code",
   "execution_count": null,
   "id": "6ad339d8",
   "metadata": {},
   "outputs": [],
   "source": [
    "plt.figure(figsize=(15,15))\n",
    "cor = df.corr()\n",
    "sns.heatmap(cor, annot=True, cmap=plt.cm.Reds, fmt='.2f')\n",
    "plt.show()"
   ]
  },
  {
   "cell_type": "code",
   "execution_count": null,
   "id": "85421227",
   "metadata": {},
   "outputs": [],
   "source": [
    "X = df.drop(columns='Delay')\n",
    "y = df['Delay']"
   ]
  },
  {
   "cell_type": "code",
   "execution_count": null,
   "id": "31c68bb7",
   "metadata": {},
   "outputs": [],
   "source": [
    "X_train, X_test, y_train, y_test = train_test_split(X, y, train_size=0.9, shuffle=True)"
   ]
  },
  {
   "cell_type": "markdown",
   "id": "b4c2f891",
   "metadata": {},
   "source": [
    "# Some ML Models"
   ]
  },
  {
   "cell_type": "code",
   "execution_count": null,
   "id": "b7310cbd",
   "metadata": {},
   "outputs": [],
   "source": [
    "DecisionTreeClassifierModel = DecisionTreeClassifier(criterion='entropy',max_depth=16,random_state=40)\n",
    "DecisionTreeClassifierModel.fit(X_train, y_train)\n",
    "\n",
    "print('DecisionTreeClassifierModel Train Score is : ' , DecisionTreeClassifierModel.score(X_train, y_train))\n",
    "print('DecisionTreeClassifierModel Test Score is : ' , DecisionTreeClassifierModel.score(X_test, y_test))"
   ]
  },
  {
   "cell_type": "code",
   "execution_count": null,
   "id": "e46d262b",
   "metadata": {},
   "outputs": [],
   "source": [
    "y_pred_DT = DecisionTreeClassifierModel.predict(X_test)\n",
    "\n",
    "CM_DT = confusion_matrix(y_test, y_pred_DT)\n",
    "sns.heatmap(CM_DT, center=True)\n",
    "plt.show()\n",
    "\n",
    "print('Confusion Matrix is\\n', CM_DT)"
   ]
  },
  {
   "cell_type": "code",
   "execution_count": null,
   "id": "bf959359",
   "metadata": {},
   "outputs": [],
   "source": [
    "RandomForestClassifierModel = RandomForestClassifier(criterion = 'entropy', max_depth=18, n_estimators=400, random_state=44)\n",
    "RandomForestClassifierModel.fit(X_train, y_train)\n",
    "\n",
    "print('RandomForestClassifierModel Train Score is : ' , RandomForestClassifierModel.score(X_train, y_train))\n",
    "print('RandomForestClassifierModel Test Score is : ' , RandomForestClassifierModel.score(X_test, y_test))"
   ]
  },
  {
   "cell_type": "code",
   "execution_count": null,
   "id": "c8f1064f",
   "metadata": {},
   "outputs": [],
   "source": [
    "y_pred_RF = RandomForestClassifierModel.predict(X_test)\n",
    "CM_RF = confusion_matrix(y_test, y_pred_RF)\n",
    "\n",
    "sns.heatmap(CM_RF, center=True)\n",
    "plt.show()\n",
    "\n",
    "print('Confusion Matrix is\\n', CM_RF)"
   ]
  },
  {
   "cell_type": "code",
   "execution_count": null,
   "id": "d24d37df",
   "metadata": {},
   "outputs": [],
   "source": [
    "GBCModel = GradientBoostingClassifier(n_estimators=300, max_depth=8, learning_rate=0.25, random_state=44)\n",
    "GBCModel.fit(X_train, y_train)\n",
    "print('GBCModel Train Score is : ' , GBCModel.score(X_train, y_train))\n",
    "print('GBCModel Test Score is : ' , GBCModel.score(X_test, y_test))"
   ]
  },
  {
   "cell_type": "code",
   "execution_count": null,
   "id": "9ee4204e",
   "metadata": {},
   "outputs": [],
   "source": [
    "y_pred_GB = GBCModel.predict(X_test)\n",
    "CM_GB = confusion_matrix(y_test, y_pred_GB)\n",
    "\n",
    "sns.heatmap(CM_GB, center=True)\n",
    "plt.show()\n",
    "\n",
    "print('Confusion Matrix is\\n', CM_GB)"
   ]
  },
  {
   "cell_type": "code",
   "execution_count": null,
   "id": "3ba9f7a0",
   "metadata": {},
   "outputs": [],
   "source": [
    "VotingClassifierModel = VotingClassifier(estimators=[('GBCModel',GBCModel),\n",
    "                                                     ('RFCModel',RandomForestClassifierModel),\n",
    "                                                     ('TDCModel',DecisionTreeClassifierModel)],\n",
    "                                         voting='hard')\n",
    "VotingClassifierModel.fit(X_train, y_train)\n",
    "print('VotingClassifierModel Train Score is : ' , VotingClassifierModel.score(X_train, y_train))\n",
    "print('VotingClassifierModel Test Score is : ' , VotingClassifierModel.score(X_test, y_test))"
   ]
  },
  {
   "cell_type": "code",
   "execution_count": null,
   "id": "5e6dee89",
   "metadata": {},
   "outputs": [],
   "source": [
    "y_pred_V = VotingClassifierModel.predict(X_test)\n",
    "CM_V = confusion_matrix(y_test, y_pred_V)\n",
    "sns.heatmap(CM_V, center=True)\n",
    "plt.show()\n",
    "print('Confusion Matrix is\\n', CM_V)"
   ]
  }
 ],
 "metadata": {},
 "nbformat": 4,
 "nbformat_minor": 5
}
