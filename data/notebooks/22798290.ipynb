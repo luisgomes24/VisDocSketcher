{
 "cells": [
  {
   "cell_type": "code",
   "execution_count": null,
   "id": "56c3ff5d",
   "metadata": {},
   "outputs": [],
   "source": [
    "import numpy as np\n",
    "import pandas as pd\n",
    "import matplotlib.pyplot as plt\n",
    "import seaborn as sns\n",
    "import warnings #  for avoid unwanted warnings\n",
    "warnings.filterwarnings('ignore')\n",
    "from IPython.core.display import display, HTML # for HTMl tag use in python"
   ]
  },
  {
   "cell_type": "code",
   "execution_count": null,
   "id": "8ac0b899",
   "metadata": {},
   "outputs": [],
   "source": [
    "pd.set_option('display.max_columns',None) # to show maximum number of columns"
   ]
  },
  {
   "cell_type": "code",
   "execution_count": null,
   "id": "674c740c",
   "metadata": {},
   "outputs": [],
   "source": [
    "data=pd.read_csv('https://raw.githubusercontent.com/pv05/k_means/main/student_clustering.csv')"
   ]
  },
  {
   "cell_type": "code",
   "execution_count": null,
   "id": "33ad298e",
   "metadata": {},
   "outputs": [],
   "source": [
    "data.head()"
   ]
  },
  {
   "cell_type": "code",
   "execution_count": null,
   "id": "f711240c",
   "metadata": {},
   "outputs": [],
   "source": [
    "data.shape"
   ]
  },
  {
   "cell_type": "code",
   "execution_count": null,
   "id": "a75b26d1",
   "metadata": {},
   "outputs": [],
   "source": [
    "plt.scatter(data['cgpa'],data['iq'])\n",
    "plt.xlabel('---------- CGPA ----------')\n",
    "plt.ylabel('---------- IQ ----------')\n",
    "plt.show()\n",
    "# we can clearly see there 4 clusters but we can very with elbow method"
   ]
  },
  {
   "cell_type": "code",
   "execution_count": null,
   "id": "e5b6932c",
   "metadata": {},
   "outputs": [],
   "source": [
    "from sklearn.cluster import KMeans\n",
    "\n",
    "# this code we find how much cluster we need, thats called elbow method\n",
    "wcss = []\n",
    "for i in range(1,11):  # you can take 21 instead of 11 but, jurnally we take 11\n",
    "    km = KMeans(n_clusters=i)\n",
    "    km.fit_predict(data)\n",
    "    wcss.append(km.inertia_)\n",
    "    \n",
    "wcss"
   ]
  },
  {
   "cell_type": "code",
   "execution_count": null,
   "id": "bf39ccc1",
   "metadata": {},
   "outputs": [],
   "source": [
    "plt.plot(range(1,11),wcss,marker='o')\n",
    "plt.xlabel('---------- No of clusters ----------')\n",
    "plt.ylabel('---------- wcss ----------')\n",
    "plt.show()\n",
    "# you can clearly see 4th point have slope going change you we choose 4 its means we choose 4 clusters"
   ]
  },
  {
   "cell_type": "code",
   "execution_count": null,
   "id": "0e61d31f",
   "metadata": {},
   "outputs": [],
   "source": [
    "x=data.iloc[:,:].values # data convert into array\n",
    "km = KMeans(n_clusters=4) # we take 4 coz, above we verfiy that we should take 4 cluster\n",
    "y_means = km.fit_predict(x)"
   ]
  },
  {
   "cell_type": "code",
   "execution_count": null,
   "id": "a32fc06e",
   "metadata": {},
   "outputs": [],
   "source": [
    "y_means"
   ]
  },
  {
   "cell_type": "code",
   "execution_count": null,
   "id": "4f2294cc",
   "metadata": {},
   "outputs": [],
   "source": [
    "cluster_1 = pd.DataFrame({'cluster_1_CGPA':x[y_means == 0,0],'cluster_1_IQ':x[y_means == 0,1]})\n",
    "cluster_1.sample(5)"
   ]
  },
  {
   "cell_type": "code",
   "execution_count": null,
   "id": "3e7aee70",
   "metadata": {},
   "outputs": [],
   "source": [
    "cluster_2 = pd.DataFrame({'cluster_2_CGPA':x[y_means == 1,0],'cluster_2_IQ':x[y_means == 1,1]}) \n",
    "cluster_2.sample(5)"
   ]
  },
  {
   "cell_type": "code",
   "execution_count": null,
   "id": "5cee0676",
   "metadata": {},
   "outputs": [],
   "source": [
    "cluster_3 = pd.DataFrame({'cluster_3_CGPA':x[y_means == 2,0],'cluster_3_IQ':x[y_means == 2,1]})\n",
    "cluster_3.sample(5)"
   ]
  },
  {
   "cell_type": "code",
   "execution_count": null,
   "id": "281ddb21",
   "metadata": {},
   "outputs": [],
   "source": [
    "cluster_4 = pd.DataFrame({'cluster_4_CGPA':x[y_means == 3,0],'cluster_4_IQ':x[y_means == 3,1]})\n",
    "cluster_4.sample(5) "
   ]
  },
  {
   "cell_type": "code",
   "execution_count": null,
   "id": "00603ede",
   "metadata": {},
   "outputs": [],
   "source": [
    "# combine all above 4 clusters into a scatter plot\n",
    "\n",
    "plt.scatter(x[y_means == 0,0],x[y_means == 0,1],color='blue')\n",
    "plt.scatter(x[y_means == 1,0],x[y_means == 1,1],color='red')\n",
    "plt.scatter(x[y_means == 2,0],x[y_means == 2,1],color='black')\n",
    "plt.scatter(x[y_means == 3,0],x[y_means == 3,1],color='green')\n",
    "plt.xlabel('---------- CGPA ----------')\n",
    "plt.ylabel('---------- IQ ----------')\n",
    "plt.show()"
   ]
  },
  {
   "cell_type": "code",
   "execution_count": null,
   "id": "1193fc16",
   "metadata": {},
   "outputs": [],
   "source": [
    "nan"
   ]
  }
 ],
 "metadata": {},
 "nbformat": 4,
 "nbformat_minor": 5
}
