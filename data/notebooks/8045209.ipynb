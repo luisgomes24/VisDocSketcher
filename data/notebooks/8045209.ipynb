{
 "cells": [
  {
   "cell_type": "markdown",
   "id": "9f89225d",
   "metadata": {},
   "source": [
    "# Linear Regression with one variable\n",
    "\n",
    "In this example, we use Linear Regression as an exploratory data analysis tool. The objective is to understand how well can we explain the SalePrice of a house using real attributes individually. \n",
    "\n",
    "Github version:\n",
    "https://github.com/rodmsmendes/reinforcementlearning4fun/blob/master/Linear_Regression_with_one_variable.ipynb\n",
    "\n",
    "Kaggle kernel version:\n",
    "https://www.kaggle.com/rodolfomendes/linear-regression-with-one-variable/notebook"
   ]
  },
  {
   "cell_type": "markdown",
   "id": "c9a1394f",
   "metadata": {},
   "source": [
    "## 1. Importing libraries\n",
    "\n",
    "For this notebook we load some of the most common libraries for Data Science wiht Python:\n",
    "* NumPy\n",
    "* Pandas\n",
    "* Matplotlib\n",
    "* scikit-learn"
   ]
  },
  {
   "cell_type": "code",
   "execution_count": null,
   "id": "f239e56e",
   "metadata": {},
   "outputs": [],
   "source": [
    "import numpy as np\n",
    "import pandas as pd\n",
    "import matplotlib.pyplot as plt\n",
    "\n",
    "from sklearn.model_selection import train_test_split\n",
    "from sklearn.linear_model import LinearRegression\n",
    "from sklearn.metrics import mean_squared_error"
   ]
  },
  {
   "cell_type": "markdown",
   "id": "ea65b254",
   "metadata": {},
   "source": [
    "## 2. Loading Data and Selecting Attributes\n",
    "\n",
    "Then we use Pandas to load data from house pricing competition, into a DataFrame.\n",
    "\n",
    "\n",
    "\n"
   ]
  },
  {
   "cell_type": "code",
   "execution_count": null,
   "id": "cdb560b2",
   "metadata": {},
   "outputs": [],
   "source": [
    "url = '../input/house-prices-advanced-regression-techniques/housetrain.csv'\n",
    "df = pd.read_csv(url)"
   ]
  },
  {
   "cell_type": "markdown",
   "id": "f951bc94",
   "metadata": {},
   "source": [
    "For this litte example, we select only the attributes which represents measurements. So, for our new DataFrame we select only the attributes of the **float64** type. Next with print information about the attributes as well their basic statistics. "
   ]
  },
  {
   "cell_type": "code",
   "execution_count": null,
   "id": "322c1fc8",
   "metadata": {},
   "outputs": [],
   "source": [
    "df_float = df.select_dtypes(include=['float64']).copy()\n",
    "df_float.info()"
   ]
  },
  {
   "cell_type": "code",
   "execution_count": null,
   "id": "e072c442",
   "metadata": {},
   "outputs": [],
   "source": [
    "df_float.describe()"
   ]
  },
  {
   "cell_type": "markdown",
   "id": "75db42c5",
   "metadata": {},
   "source": [
    "## 3. Filling missing values\n",
    "\n",
    "From the DataFrame information printed above, we can observe the DataFrame has a total of 1460 rows. But looking at the attributes we observe that all of them\n",
    "has less than 1460 non-null values each. So we need to handle this missing values in order to proceed. So, for each attribute we use the method *fillna()*\n",
    "to fill the missing values with the their respective mean value."
   ]
  },
  {
   "cell_type": "code",
   "execution_count": null,
   "id": "bb8b8709",
   "metadata": {},
   "outputs": [],
   "source": [
    "df_float['LotFrontage'] = df['LotFrontage'].fillna(df['LotFrontage'].mean(), inplace=False)"
   ]
  },
  {
   "cell_type": "code",
   "execution_count": null,
   "id": "be37c48e",
   "metadata": {},
   "outputs": [],
   "source": [
    "df_float['MasVnrArea'] = df['MasVnrArea'].fillna(df['MasVnrArea'].mean(), inplace=False)"
   ]
  },
  {
   "cell_type": "code",
   "execution_count": null,
   "id": "9f164639",
   "metadata": {},
   "outputs": [],
   "source": [
    "df_float['GarageYrBlt'] = df['GarageYrBlt'].fillna(df['GarageYrBlt'].mean(), inplace=False)"
   ]
  },
  {
   "cell_type": "markdown",
   "id": "89915fdb",
   "metadata": {},
   "source": [
    "After filling the missing values we can check that each attribute has 1460 non-null values each:"
   ]
  },
  {
   "cell_type": "code",
   "execution_count": null,
   "id": "5fe798ac",
   "metadata": {},
   "outputs": [],
   "source": [
    "df_float.info()"
   ]
  },
  {
   "cell_type": "markdown",
   "id": "cb7b0ba2",
   "metadata": {},
   "source": [
    "## 4. Regression Analysis for LotFrontage\n",
    "\n",
    "Once we handled the missing values for each attribute, we can proceed to the linear regression analysis. In this example we build a linear regression model to explain the SalePrice of a house depending on the LotFrontage measurement. As a first step we save the respective attributes into variables *lotFrontage* and *salePrice*. Instead of the traditional *X* e *y* variables we use the attribute name for clarity purposes."
   ]
  },
  {
   "cell_type": "code",
   "execution_count": null,
   "id": "57318fd0",
   "metadata": {},
   "outputs": [],
   "source": [
    "lotFrontage = df_float[['LotFrontage']]\n",
    "salePrice = df['SalePrice']"
   ]
  },
  {
   "cell_type": "markdown",
   "id": "174f7267",
   "metadata": {},
   "source": [
    "Next we create an instance of *LinearRegression* class from scikit-learn and call the method *fit()* passing the columns as parameters to create our model. "
   ]
  },
  {
   "cell_type": "code",
   "execution_count": null,
   "id": "ca9dcc2c",
   "metadata": {},
   "outputs": [],
   "source": [
    "lr1 = LinearRegression()\n",
    "lr1.fit(lotFrontage, salePrice)"
   ]
  },
  {
   "cell_type": "markdown",
   "id": "79d97bc0",
   "metadata": {},
   "source": [
    "We our model created, print the model coeficient, intercept and measure the mean squared error of the model."
   ]
  },
  {
   "cell_type": "code",
   "execution_count": null,
   "id": "ab2167d3",
   "metadata": {},
   "outputs": [],
   "source": [
    "print(lr1.coef_)\n",
    "print(lr1.intercept_)\n",
    "print(mean_squared_error(salePrice, lr1.predict(lotFrontage)))"
   ]
  },
  {
   "cell_type": "markdown",
   "id": "971d2438",
   "metadata": {},
   "source": [
    "## 5. Regression Analysis for MasVnrAre"
   ]
  },
  {
   "cell_type": "markdown",
   "id": "36e211fe",
   "metadata": {},
   "source": [
    "We the repeat the same steps of section 4 for the MasVnrAre attribute."
   ]
  },
  {
   "cell_type": "code",
   "execution_count": null,
   "id": "db0bf8af",
   "metadata": {},
   "outputs": [],
   "source": [
    "masVnrAre = df_float[['MasVnrArea']]\n",
    "salePrice = df['SalePrice']"
   ]
  },
  {
   "cell_type": "code",
   "execution_count": null,
   "id": "e43f3d02",
   "metadata": {},
   "outputs": [],
   "source": [
    "lr2 = LinearRegression()\n",
    "lr2.fit(masVnrAre, salePrice)"
   ]
  },
  {
   "cell_type": "code",
   "execution_count": null,
   "id": "b059fabc",
   "metadata": {},
   "outputs": [],
   "source": [
    "print(lr2.coef_)\n",
    "print(lr2.intercept_)\n",
    "print(mean_squared_error(salePrice, lr2.predict(masVnrAre)))"
   ]
  },
  {
   "cell_type": "markdown",
   "id": "a55b297b",
   "metadata": {},
   "source": [
    "## 6. Regression Analysis for GarageYrBlt"
   ]
  },
  {
   "cell_type": "markdown",
   "id": "bda92566",
   "metadata": {},
   "source": [
    "We the repeat the same steps of section 4 for the GarageYrBlt attribute."
   ]
  },
  {
   "cell_type": "code",
   "execution_count": null,
   "id": "a7d44389",
   "metadata": {},
   "outputs": [],
   "source": [
    "garageYrBlt = df_float[['GarageYrBlt']]\n",
    "salePrice = df['SalePrice']"
   ]
  },
  {
   "cell_type": "code",
   "execution_count": null,
   "id": "6f82e03e",
   "metadata": {},
   "outputs": [],
   "source": [
    "lr3 = LinearRegression()\n",
    "lr3.fit(garageYrBlt, salePrice)"
   ]
  },
  {
   "cell_type": "code",
   "execution_count": null,
   "id": "26628937",
   "metadata": {},
   "outputs": [],
   "source": [
    "print(lr3.coef_)\n",
    "print(lr3.intercept_)\n",
    "print(mean_squared_error(salePrice, lr3.predict(garageYrBlt)))"
   ]
  },
  {
   "cell_type": "markdown",
   "id": "d432402f",
   "metadata": {},
   "source": [
    "## 7. Results\n",
    "\n",
    "The results of ou regression analysis are presented in the charts below. For each analysed atrribute we use a scatter plot to represent the data points (in blue) userd for the analysis. Then we use the predicted values (the output of the model) to plot a line representing the linear model (in orange)."
   ]
  },
  {
   "cell_type": "code",
   "execution_count": null,
   "id": "232cc256",
   "metadata": {},
   "outputs": [],
   "source": [
    "f = plt.figure()\n",
    "f, ax = plt.subplots(1, 3, figsize=(30, 8))\n",
    "\n",
    "ax = plt.subplot(1, 3, 1)\n",
    "plt.ylabel('SalePrice')\n",
    "plt.xlabel('LotFrontage')\n",
    "ax = plt.scatter(lotFrontage, salePrice)\n",
    "ax = plt.plot(lotFrontage, lr1.predict(lotFrontage), linewidth=5.0, color='orange')\n",
    "\n",
    "ax = plt.subplot(1, 3, 2)\n",
    "plt.ylabel('SalePrice')\n",
    "plt.xlabel('MasVnrArea')\n",
    "ax = plt.scatter(masVnrAre, salePrice)\n",
    "ax = plt.plot(masVnrAre, lr2.predict(masVnrAre), linewidth=5.0, color='orange')\n",
    "\n",
    "ax = plt.subplot(1, 3, 3)\n",
    "plt.ylabel('SalePrice')\n",
    "plt.xlabel('GarageYrBlt')\n",
    "ax = plt.scatter(garageYrBlt, salePrice)\n",
    "ax = plt.plot(garageYrBlt, lr3.predict(garageYrBlt), linewidth=5.0, color='orange')\n",
    "\n",
    "ax = plt.show()"
   ]
  },
  {
   "cell_type": "markdown",
   "id": "9ca95615",
   "metadata": {},
   "source": [
    "Finally, we use a bar chart to compare the mean squared error of each model."
   ]
  },
  {
   "cell_type": "code",
   "execution_count": null,
   "id": "3398dc0a",
   "metadata": {},
   "outputs": [],
   "source": [
    "names = ['LotFrontage', 'MasVnrArea',\t'GarageYrBlt']\n",
    "heights = [\n",
    "           mean_squared_error(salePrice, lr1.predict(lotFrontage)),\n",
    "           mean_squared_error(salePrice, lr2.predict(masVnrAre)),\n",
    "           mean_squared_error(salePrice, lr3.predict(garageYrBlt))]\n",
    "\n",
    "f = plt.figure(figsize=(8,8))\n",
    "ax = plt.bar(names, heights)"
   ]
  },
  {
   "cell_type": "markdown",
   "id": "dc58a334",
   "metadata": {},
   "source": [
    "## 8. Conclusion\n",
    "\n",
    "In this example, we used the Linear Regression as a exploratory data analysis tool. Usign the scikit-learn libray we create Linear Regression models to understand if the target attribute *SalePrice* can be explained in terms of *LotFrontage*, *MasVnrArea* or *GarageYrBlt* individually.\n",
    "\n",
    "Finally, the results of modeling are presented by printing the coeficients and intercepts of the models as well as ploting them together with the data points.\n"
   ]
  }
 ],
 "metadata": {},
 "nbformat": 4,
 "nbformat_minor": 5
}
