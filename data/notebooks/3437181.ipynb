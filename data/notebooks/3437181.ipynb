{
 "cells": [
  {
   "cell_type": "markdown",
   "id": "30a23cf9",
   "metadata": {},
   "source": [
    "# Relation between headlines and suicides\n",
    "\n",
    "## Analyzing which headlines news have a bigger impact in the suicide rates.\n",
    "\n",
    "I am going to use two datasets.\n",
    "- [Suicide Rates Overview 1985 to 2016\n",
    "](https://www.kaggle.com/russellyates88/suicide-rates-overview-1985-to-2016) \n",
    "\n",
    "- [A Million News Headlines](https://www.kaggle.com/therohk/million-headlines) \n",
    "\n",
    "\n",
    "Case of use : \n",
    " - Spain\n",
    " \n",
    "### Index\n",
    "  - Exploratory data : suicide rates.\n",
    "  - Exploratory data : Male vs Female suicide rates.\n",
    "  - Headlines topic extraction using TF-IDF Vectorizer.\n",
    "  - Relation between news and change in suicide rates.\n",
    "  - Conclusions\n",
    "  "
   ]
  },
  {
   "cell_type": "code",
   "execution_count": null,
   "id": "cd4c1775",
   "metadata": {},
   "outputs": [],
   "source": [
    "# This Python 3 environment comes with many helpful analytics libraries installed\n",
    "# It is defined by the kaggle/python docker image: https://github.com/kaggle/docker-python\n",
    "# For example, here's several helpful packages to load in \n",
    "\n",
    "import numpy as np # linear algebra\n",
    "import pandas as pd # data processing, CSV file I/O (e.g. pd.read_csv)\n",
    "\n",
    "# Input data files are available in the \"../input/\" directory.\n",
    "# For example, running this (by clicking run or pressing Shift+Enter) will list the files in the input directory\n",
    "\n",
    "import os\n",
    "print(os.listdir(\"../input\"))\n",
    "\n",
    "# Any results you write to the current directory are saved as output.\n"
   ]
  },
  {
   "cell_type": "markdown",
   "id": "c464a75c",
   "metadata": {},
   "source": [
    "# Headlines topic extraction using TF-IDF Vectorizer.#\n",
    "\n",
    "First we do some data exploration.\n",
    "\n",
    "I use SQL syntax, because it is just faster than remember all those  dataframe commands to group data.\n"
   ]
  },
  {
   "cell_type": "code",
   "execution_count": null,
   "id": "27d74be3",
   "metadata": {},
   "outputs": [],
   "source": [
    "# Introductory data\n",
    "df=pd.read_csv('../input/suicide-rates-overview-1985-to-2016/master.csv')\n",
    "df.head()\n",
    "import pandasql as ps\n",
    "country = \"Spain\" # we can change the country \n",
    "\n",
    "SQL=f\"\"\"\n",
    "    SELECT year , \n",
    "            sum(\"suicides/100k pop\")/12 as suicides_{country} \n",
    "    FROM df \n",
    "    WHERE country = '{country}' group by year order by year\"\"\"  \n",
    "df_es =  ps.sqldf( SQL, locals())\n",
    "df_es.set_index('year', inplace=True)\n",
    "\n",
    "\n",
    "\n",
    "df_es[f'suicides_{country}'].plot( figsize=(15,4), title=f\"Suicides {country}, rate /100k pop\")"
   ]
  },
  {
   "cell_type": "code",
   "execution_count": null,
   "id": "18a4444f",
   "metadata": {},
   "outputs": [],
   "source": [
    "df_es.head()\n"
   ]
  },
  {
   "cell_type": "markdown",
   "id": "4d0bed3b",
   "metadata": {},
   "source": [
    "We create a dataframe, to group for age interval and sex. "
   ]
  },
  {
   "cell_type": "code",
   "execution_count": null,
   "id": "1c3bdcaf",
   "metadata": {},
   "outputs": [],
   "source": [
    "kk = pd.DataFrame()\n",
    "groups = df.age.unique()\n",
    "\n",
    "for sex in ['male','female'] :\n",
    "    for age_group in groups :\n",
    "        kk[ age_group.replace('5-14','05-14' )+'_'+sex] = df.loc[ (df['country']==country) & (df['age'] == age_group) & ( df['sex'] == sex) ]['suicides/100k pop'].values\n",
    "\n",
    "kk.index = df.loc[ (df['country']==country) & (df['age'] == age_group) & ( df['sex'] == sex) ]['year'].values\n",
    "\n",
    "df_es_gender_age = kk\n",
    "\n",
    "df_es_gender_age.head()"
   ]
  },
  {
   "cell_type": "markdown",
   "id": "d797d69b",
   "metadata": {},
   "source": [
    "Group and create chart for suicide rating based on sex and age\n",
    "\n",
    "We will see the oldest men have the greatest risk, with a big difference."
   ]
  },
  {
   "cell_type": "code",
   "execution_count": null,
   "id": "9502e5e6",
   "metadata": {},
   "outputs": [],
   "source": [
    "df_female= pd.DataFrame()\n",
    "df_male= pd.DataFrame()\n",
    "\n",
    "for c in df_es_gender_age.columns.values :\n",
    "    if \"female\" in c : \n",
    "        df_female[c] = df_es_gender_age[c]\n",
    "    else : \n",
    "        df_male[c] = df_es_gender_age[c]\n",
    "        \n",
    "\n",
    "df_male.plot(   figsize=(15,4), title=f\"Male suicide rates in {country}, per age\")\n",
    "\n",
    "df_female.plot( figsize=(15,4), title=f\"Female suicide rates in {country}, per age\")"
   ]
  },
  {
   "cell_type": "markdown",
   "id": "140feeab",
   "metadata": {},
   "source": [
    "We compare the male / female data.\n",
    "\n",
    "In Spain, male casualties are aproximately 80%."
   ]
  },
  {
   "cell_type": "code",
   "execution_count": null,
   "id": "0a065006",
   "metadata": {},
   "outputs": [],
   "source": [
    "import matplotlib.pyplot as plt\n",
    "compare=[]\n",
    "plt.style.use('ggplot')\n",
    "\n",
    "for age in groups :\n",
    "    compare_male_female = pd.DataFrame()\n",
    "    compare_male_female[age+'_male']   = df_male  [age.replace('5-14','05-14' )+'_male']\n",
    "    compare_male_female[age+'_female'] = df_female[age.replace('5-14','05-14' )+'_female']\n",
    "    compare_male_female.plot(   figsize=(15,4), title=f\"Male/Female suicide rates in {country}, per age, {age}\")"
   ]
  },
  {
   "cell_type": "code",
   "execution_count": null,
   "id": "2afffccf",
   "metadata": {},
   "outputs": [],
   "source": [
    "import matplotlib.pyplot as plt\n",
    "\n",
    "    \n",
    "for age in groups :\n",
    "    compare_male_female = pd.DataFrame()\n",
    "    compare=[]\n",
    "    compare_male_female[age+'_male']   = df_male  [age.replace('5-14','05-14' )+'_male']\n",
    "    compare_male_female[age+'_female'] = df_female[age.replace('5-14','05-14' )+'_female']\n",
    "    compare.insert(0,compare_male_female[age+'_male'  ].mean())\n",
    "    compare.insert(1,compare_male_female[age+'_female'].mean())\n",
    "    male_percentage = str(compare[0]/(compare[0]+compare[1])*100)[0:5]\n",
    "    plt.title(f\"Suicide rated in {country}, mean values, {age}, {male_percentage}% male\")\n",
    "    plt.bar([\"male\",\"female\"],compare , color='green',)\n",
    "    plt.show()"
   ]
  },
  {
   "cell_type": "markdown",
   "id": "2c570416",
   "metadata": {},
   "source": [
    "Analyzing which news have a bigger impact in the suicide rates.\n",
    "\n"
   ]
  },
  {
   "cell_type": "code",
   "execution_count": null,
   "id": "e542ece0",
   "metadata": {},
   "outputs": [],
   "source": [
    "headlines = pd.read_csv('../input/million-headlines/abcnews-date-text.csv')\n",
    "headlines.head() \n",
    "\n",
    "\n",
    "\n",
    "SQL=f\"SELECT publish_date  , headline_text FROM headlines WHERE headline_text LIKE '%{country}%'\"  \n",
    "hds =  ps.sqldf( SQL, locals())\n",
    "\n",
    "country_lwr=country.lower()\n",
    "hds['year'] = hds['publish_date'].astype(str).str[:4]\n",
    "hds['headline_text_new'] = hds['headline_text'].astype(str).str.replace(f\"in {country}\",\"\").replace(f\"{country_lwr}\",\"\").replace(\";\",\"\").replace(\",\",\"\")\n",
    "hds['headline_text'] = hds['headline_text_new']\n",
    "\n",
    "hds.drop(\"headline_text_new\", axis=1, inplace=True)\n",
    "hds.drop(\"publish_date\", axis=1, inplace=True)\n",
    "\n",
    "hds.head()\n",
    "\n"
   ]
  },
  {
   "cell_type": "code",
   "execution_count": null,
   "id": "ec40b3f2",
   "metadata": {},
   "outputs": [],
   "source": [
    "from stop_words import get_stop_words\n",
    "stop  =  get_stop_words('english') + [country.lower(),country.lower()+'s',\",\",\";\"]\n",
    "# That would be the line to remove stop word, but we use the vectorizer to remote it, so we do not need next line\n",
    "# hds['headline_text'] = hds['headline_text'].apply(lambda x: ' '.join([word for word in x.split() if word not in (stop)]))\n",
    "\n",
    "print(stop)"
   ]
  },
  {
   "cell_type": "markdown",
   "id": "243110fa",
   "metadata": {},
   "source": [
    "We create a function that return the topics for a giver year, and we call it sequentially.\n"
   ]
  },
  {
   "cell_type": "code",
   "execution_count": null,
   "id": "f38940ee",
   "metadata": {},
   "outputs": [],
   "source": [
    "from sklearn.feature_extraction.text import TfidfVectorizer\n",
    "\n",
    "import numpy as np\n",
    "\n",
    "MAX_FEATURES=10\n",
    "def get_topics_year( year ):\n",
    "    \"\"\"Get the most frecuent topic for a given year.\n",
    "    Args:\n",
    "        yeat: Year of the news to be considered.\n",
    "    Returns:\n",
    "        Array with the news\n",
    "\n",
    "    \"\"\"\n",
    "\n",
    "    corpus = hds.loc[ hds['year'] == year ]\n",
    "    corpus.drop(\"year\", axis=1, inplace=True)\n",
    "\n",
    "    tf = TfidfVectorizer(analyzer='word',\n",
    "                         ngram_range=(2,2),\n",
    "                         max_features=MAX_FEATURES,\n",
    "                         min_df = 0, \n",
    "                         stop_words = stop, \n",
    "                         sublinear_tf=True)\n",
    "    X = tf.fit_transform(corpus['headline_text'].values)\n",
    "    feature_names = tf.get_feature_names()\n",
    "    tf.get_feature_names()\n",
    "    return tf.get_feature_names()\n",
    "\n",
    "topics = pd.DataFrame()\n",
    "rows = []\n",
    "for i in range(2003,2016):\n",
    "    topic_this_year = {'year' : str(i) , 'topics' : get_topics_year(str(i)   ) }\n",
    "    rows.append(topic_this_year)\n",
    "    \n",
    "topics=pd.DataFrame.from_dict(rows, orient='columns')\n",
    "topics.set_index('year', inplace=True)\n",
    "\n",
    "topics"
   ]
  },
  {
   "cell_type": "markdown",
   "id": "774a086d",
   "metadata": {},
   "source": [
    "We calculate the increase in the suicide rate, respect the previous year.\n",
    "\n",
    " - this_year_suicide > 0 .  There has been an increase in the suicide rate, from the previous year.\n",
    " \n",
    " - this_year_suicide < 0 .  There has been a decrease in the suicide rate, from the former year."
   ]
  },
  {
   "cell_type": "code",
   "execution_count": null,
   "id": "e45f9848",
   "metadata": {},
   "outputs": [],
   "source": [
    "for i in range(2003,2016):\n",
    "    this_year_suicide = df_es.loc[i,f'suicides_{country}'] -  df_es.loc[i-1,f'suicides_{country}']\n",
    "    topics.loc[str(i),'this_year_suicide'] = this_year_suicide"
   ]
  },
  {
   "cell_type": "markdown",
   "id": "56fce5b0",
   "metadata": {},
   "source": [
    "We list the news for each year, with the increase in suicides, for each year that we have headlines."
   ]
  },
  {
   "cell_type": "code",
   "execution_count": null,
   "id": "60157ae3",
   "metadata": {},
   "outputs": [],
   "source": [
    "print(\"year\",\"this_year_suicide variation\", \"topics\")\n",
    "my_rows=[]\n",
    "for i, row in topics.iterrows():\n",
    "    print( i,row['this_year_suicide'],row['topics']) \n",
    "    \n",
    "    my_rows.append ({ \"year\" : i ,\n",
    "                     \"this_year_suicide\" : row['this_year_suicide'] ,\n",
    "                     \"topics\" : row['topics'] })\n",
    "\n",
    "summary_country =pd.DataFrame.from_dict(my_rows, orient='columns')\n",
    "summary_country['headlines']= summary_country['topics'].apply(', '.join)\n",
    "\n",
    "summary_country[['year', 'this_year_suicide','headlines']]"
   ]
  },
  {
   "cell_type": "code",
   "execution_count": null,
   "id": "0923b042",
   "metadata": {},
   "outputs": [],
   "source": [
    "from IPython.core.display import HTML \n",
    "\n",
    "s = f\"\"\"<iframe width=\"900\" height=\"800\" frameborder=\"0\" scrolling=\"no\" src=\"//plot.ly/~jaimevalero78/48.embed\"></iframe>\"\"\"\n",
    "display(HTML(s))\n"
   ]
  },
  {
   "cell_type": "markdown",
   "id": "7eba5d65",
   "metadata": {},
   "source": [
    "We try to get the new that have a greater impact on the suicide rates.\n",
    "\n",
    "To do this, we accumulate each news, changes over the year, and store it into a DataFrame."
   ]
  },
  {
   "cell_type": "code",
   "execution_count": null,
   "id": "504e8733",
   "metadata": {},
   "outputs": [],
   "source": [
    "def accumulate_frecuency_terms(df,d):\n",
    "    for i, row in df.iterrows():\n",
    "        for term in row['topics'] :\n",
    "            if term not in d : \n",
    "                d[term] =           row['this_year_suicide']\n",
    "            else :             \n",
    "                d[term] = d[term] + row['this_year_suicide']\n",
    "            \n",
    "from collections import defaultdict\n",
    "d = defaultdict(float)\n",
    "\n",
    "#d={}\n",
    "accumulate_frecuency_terms(topics,d)\n",
    "#print(d)\n",
    "text=\"\"\n",
    "\n",
    "\n",
    "from IPython.display import Image\n",
    "from IPython.core.display import HTML \n",
    "\n",
    "\n",
    "array=[]\n",
    "results_contry = pd.DataFrame()\n",
    "for w in sorted(d, key=d.get, reverse=True):\n",
    "    array.append( { \"term\" : w , \"suicide_impact\" :  d[w]})\n",
    "    \n",
    "\n",
    "results_country=pd.DataFrame.from_dict(array, orient='columns')\n",
    "\n",
    "s = f\"\"\"<h3>Top headlines in years with increases in suicide rates, for {country}: </h3>\"\"\"\n",
    "s = s + f\"\"\"Aka: Bad news for {country}  :-(\"\"\"\n",
    "display(HTML(s))\n",
    "results_country.head(20)\n",
    "\n",
    "\n"
   ]
  },
  {
   "cell_type": "code",
   "execution_count": null,
   "id": "bff421ce",
   "metadata": {},
   "outputs": [],
   "source": [
    "s = f\"\"\"<h3>Top headlines in years with decreases in suicide rates, for {country}: </h3>\"\"\"\n",
    "s = s + f\"\"\"Aka: Good news for  {country} :-) \"\"\"\n",
    "display(HTML(s))\n",
    "results_country.sort_values(by=['suicide_impact'],ascending = True ).head(15)"
   ]
  },
  {
   "cell_type": "markdown",
   "id": "6ae7ed13",
   "metadata": {},
   "source": [
    " # Conclussions\n",
    "\n",
    " - There is a correlation between certain news and important variations in the suicide rate, given two consecutive years.\n",
    " \n",
    " \n",
    " - The event with the highest positive impact seems to be the winning of the football world cup in 2010. \n",
    " This euphoria climate brought by this news, possibly saved the life of about 400 people, if we compare with the numbers of the previous year.\n",
    " \n",
    " \n",
    " - By contrast, the event with the worst impacts seems to be the financial crisis in 2012, when Spain faced a default in national debt. \n",
    " It is difficult to ponder how many lives has been lost due to economic difficulties. Considering that this event affected several countries over a span of years, we can affirm that it is a higher order of magnitude in suicides due to economical crisis worldwide.\n",
    "\n",
    "\n",
    "- Other news seems to have a lesser impact - War on terror, government crisis.\n",
    "\n",
    "\n",
    "- I would like to have had more recent data, to ponder the weight of spanish recents events in suicide rates. Specifically, catalonian crisis and special laws against genre violence.\n",
    "\n",
    "\n",
    "- Finally, many headlines does not seem to have specific impact - some news have seen both in 'good' and 'bad' years. \n",
    "This would point that many of the messages the media send to us does not have an impact on people lifes, and contains only anecdotical value.\n",
    "\n",
    "\n",
    "\n",
    " "
   ]
  },
  {
   "cell_type": "code",
   "execution_count": null,
   "id": "46810999",
   "metadata": {},
   "outputs": [],
   "source": [
    "nan"
   ]
  },
  {
   "cell_type": "markdown",
   "id": "c65d6b1b",
   "metadata": {},
   "source": [
    "<iframe width=\"900\" height=\"800\" frameborder=\"0\" scrolling=\"no\" src=\"//plot.ly/~jaimevalero78/48.embed\"></iframe>"
   ]
  }
 ],
 "metadata": {},
 "nbformat": 4,
 "nbformat_minor": 5
}
