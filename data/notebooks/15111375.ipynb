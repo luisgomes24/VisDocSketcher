{
 "cells": [
  {
   "cell_type": "code",
   "execution_count": null,
   "id": "49ccf00c",
   "metadata": {},
   "outputs": [],
   "source": [
    "# This Python 3 environment comes with many helpful analytics libraries installed\n",
    "# It is defined by the kaggle/python Docker image: https://github.com/kaggle/docker-python\n",
    "# For example, here's several helpful packages to load\n",
    "\n",
    "import numpy as np # linear algebra\n",
    "import pandas as pd # data processing, CSV file I/O (e.g. pd.read_csv)\n",
    "\n",
    "# Input data files are available in the read-only \"../input/\" directory\n",
    "# For example, running this (by clicking run or pressing Shift+Enter) will list all files under the input directory\n",
    "\n",
    "import os\n",
    "for dirname, _, filenames in os.walk('/kaggle/input'):\n",
    "    for filename in filenames:\n",
    "        print(os.path.join(dirname, filename))\n",
    "\n",
    "# You can write up to 20GB to the current directory (/kaggle/working/) that gets preserved as output when you create a version using \"Save & Run All\" \n",
    "# You can also write temporary files to /kaggle/temp/, but they won't be saved outside of the current session"
   ]
  },
  {
   "cell_type": "markdown",
   "id": "c942d0a6",
   "metadata": {},
   "source": [
    "First of all, the libraries and data need to be imported:"
   ]
  },
  {
   "cell_type": "code",
   "execution_count": null,
   "id": "2e0d6543",
   "metadata": {},
   "outputs": [],
   "source": [
    "import numpy as np \n",
    "import pandas as pd \n",
    "import seaborn as sns \n",
    "import plotly.offline as py\n",
    "import plotly.graph_objs as go\n",
    "import matplotlib.ticker as mtick  \n",
    "import matplotlib.pyplot as plt\n",
    "%matplotlib inline\n",
    "\n",
    "\n",
    "import os\n",
    "print(\"Input data file:  \",os.listdir(\"../input/pima-indians-diabetes-database\"))\n",
    "\n",
    "sns.set(style = 'white')\n",
    "\n"
   ]
  },
  {
   "cell_type": "markdown",
   "id": "e5c42e1d",
   "metadata": {},
   "source": [
    "nan"
   ]
  },
  {
   "cell_type": "code",
   "execution_count": null,
   "id": "26311222",
   "metadata": {},
   "outputs": [],
   "source": [
    "diabetes = pd.read_csv('../input/pima-indians-diabetes-database/diabetes.csv')"
   ]
  },
  {
   "cell_type": "markdown",
   "id": "67315fc2",
   "metadata": {},
   "source": [
    "As a first step, some basic EDA is done to get an overview of the data and have an idea what it contains, and what it looks like.\n",
    "To show the column names:"
   ]
  },
  {
   "cell_type": "code",
   "execution_count": null,
   "id": "27313deb",
   "metadata": {},
   "outputs": [],
   "source": [
    "print(\"\\n\".join(diabetes.columns.values))"
   ]
  },
  {
   "cell_type": "markdown",
   "id": "90f8d1cd",
   "metadata": {},
   "source": [
    "To show the first rows of the data:\n",
    "\n",
    "From the zero values in the columns Skin Thickness and Insulin, it already seems the dataset is not complete and the missing values are represented by 0:"
   ]
  },
  {
   "cell_type": "code",
   "execution_count": null,
   "id": "cdce4716",
   "metadata": {},
   "outputs": [],
   "source": [
    "diabetes.head(20)"
   ]
  },
  {
   "cell_type": "markdown",
   "id": "1227ceda",
   "metadata": {},
   "source": [
    "To show the last rows of the dataset:"
   ]
  },
  {
   "cell_type": "code",
   "execution_count": null,
   "id": "9e11a051",
   "metadata": {},
   "outputs": [],
   "source": [
    "diabetes.tail()"
   ]
  },
  {
   "cell_type": "markdown",
   "id": "c762b417",
   "metadata": {},
   "source": [
    "To show the number of rows and columns in the dataset:"
   ]
  },
  {
   "cell_type": "code",
   "execution_count": null,
   "id": "1089e91d",
   "metadata": {},
   "outputs": [],
   "source": [
    "diabetes.shape"
   ]
  },
  {
   "cell_type": "markdown",
   "id": "59e94f0d",
   "metadata": {},
   "source": [
    "To show the types of data:"
   ]
  },
  {
   "cell_type": "code",
   "execution_count": null,
   "id": "9c5d8e14",
   "metadata": {},
   "outputs": [],
   "source": [
    "diabetes.dtypes"
   ]
  },
  {
   "cell_type": "markdown",
   "id": "a4bdff9c",
   "metadata": {},
   "source": [
    "To show basic statistical details:"
   ]
  },
  {
   "cell_type": "code",
   "execution_count": null,
   "id": "70dbea85",
   "metadata": {},
   "outputs": [],
   "source": [
    "diabetes.describe()"
   ]
  },
  {
   "cell_type": "markdown",
   "id": "1fafcef0",
   "metadata": {},
   "source": [
    "To make a copy of the original data, so that any further analysis is made on the copy and the original data stays safe and unchanged:"
   ]
  },
  {
   "cell_type": "code",
   "execution_count": null,
   "id": "e9d10685",
   "metadata": {},
   "outputs": [],
   "source": [
    "diabetes_data = diabetes.copy()"
   ]
  },
  {
   "cell_type": "markdown",
   "id": "a9be6993",
   "metadata": {},
   "source": [
    "To see a summary of the data, like column data types or non-null values.\n",
    "\n",
    "It can be seen that there are no real null values in the data, but as the head and tail functions suggested, null values are represented by zero.\n"
   ]
  },
  {
   "cell_type": "code",
   "execution_count": null,
   "id": "177cc060",
   "metadata": {},
   "outputs": [],
   "source": [
    "diabetes_data.info()"
   ]
  },
  {
   "cell_type": "code",
   "execution_count": null,
   "id": "0df05ab2",
   "metadata": {},
   "outputs": [],
   "source": [
    "diabetes_data.isnull().sum()"
   ]
  },
  {
   "cell_type": "markdown",
   "id": "79351ad0",
   "metadata": {},
   "source": [
    "Therefore the attempt to show null values in Blood Pressure brings no result:"
   ]
  },
  {
   "cell_type": "code",
   "execution_count": null,
   "id": "3a90146b",
   "metadata": {},
   "outputs": [],
   "source": [
    "diabetes_data.loc[diabetes_data ['BloodPressure'].isnull() == True]"
   ]
  },
  {
   "cell_type": "markdown",
   "id": "8ea22aeb",
   "metadata": {},
   "source": [
    "To show missing values in Blood pressure, rows with value 0 need to be found:"
   ]
  },
  {
   "cell_type": "code",
   "execution_count": null,
   "id": "0d302001",
   "metadata": {},
   "outputs": [],
   "source": [
    "diabetes_data[diabetes_data[\"BloodPressure\"] == 0]"
   ]
  },
  {
   "cell_type": "markdown",
   "id": "0c871756",
   "metadata": {},
   "source": [
    "To impute this mising data in blood pressure and BMI, the mean is used:"
   ]
  },
  {
   "cell_type": "code",
   "execution_count": null,
   "id": "ef8beeb1",
   "metadata": {},
   "outputs": [],
   "source": [
    "mean_value_bloodpressure = diabetes_data['BloodPressure'].mean()\n",
    "diabetes_data.loc[diabetes_data ['BloodPressure'] == 0 ,'BloodPressure'] = mean_value_bloodpressure\n",
    "diabetes_data.loc[diabetes_data ['BloodPressure'] == mean_value_bloodpressure]"
   ]
  },
  {
   "cell_type": "code",
   "execution_count": null,
   "id": "037d2c6f",
   "metadata": {},
   "outputs": [],
   "source": [
    "mean_value_BMI = diabetes_data['BMI'].mean()\n",
    "diabetes_data.loc[diabetes_data ['BMI'] == 0 ,'BMI'] = mean_value_BMI\n",
    "diabetes_data.loc[diabetes_data ['BMI'] == mean_value_BMI]"
   ]
  },
  {
   "cell_type": "markdown",
   "id": "2d75ad45",
   "metadata": {},
   "source": [
    "To show how the BMI values are spread in the dataset - the most frequest BMI value is around 30, therefore the majority of the people in the survey are considered obese."
   ]
  },
  {
   "cell_type": "code",
   "execution_count": null,
   "id": "dc03eb8c",
   "metadata": {},
   "outputs": [],
   "source": [
    "diabetes_data['BMI'].plot(kind='hist')"
   ]
  },
  {
   "cell_type": "markdown",
   "id": "aa5b7a12",
   "metadata": {},
   "source": [
    "The data can be split into bins based on the BMI values according to CDC rates, here I tried different representations:"
   ]
  },
  {
   "cell_type": "code",
   "execution_count": null,
   "id": "07b34717",
   "metadata": {},
   "outputs": [],
   "source": [
    "diabetes_data['bin'] = pd.cut(diabetes_data['BMI'], [0, 18.5, 25, 30, 100], labels=['0-18.5', '18.5-25', '25-30', '30-100'])\n",
    "print(diabetes_data['BMI'], diabetes_data['bin'])"
   ]
  },
  {
   "cell_type": "code",
   "execution_count": null,
   "id": "a15dada2",
   "metadata": {},
   "outputs": [],
   "source": [
    "bins = [-np.inf, 18.5, 25, 30, 100, np.inf]\n",
    "diabetes_data['BMIBins'] = pd.cut(diabetes_data['BMI'], bins)\n",
    "diabetes_data"
   ]
  },
  {
   "cell_type": "code",
   "execution_count": null,
   "id": "23dc0210",
   "metadata": {},
   "outputs": [],
   "source": [
    "bins = [0, 18.5, 25, 30, 100]\n",
    "diabetes_data['BMIBins'] = pd.cut(diabetes_data['BMI'], bins)\n",
    "diabetes_data"
   ]
  },
  {
   "cell_type": "code",
   "execution_count": null,
   "id": "67ccc452",
   "metadata": {},
   "outputs": [],
   "source": [
    "bins = [0, 18.5, 25, 30, 100]\n",
    "names = ['Underweight', 'Normal', 'Overweight', 'Obese']\n",
    "\n",
    "diabetes_data['BMIRange'] = pd.cut(diabetes_data['BMI'], bins, labels=names)\n",
    "print(diabetes_data['BMI'], diabetes_data['BMIRange'])"
   ]
  },
  {
   "cell_type": "markdown",
   "id": "f6051204",
   "metadata": {},
   "source": [
    "To show the data types also of the newly created variables:"
   ]
  },
  {
   "cell_type": "code",
   "execution_count": null,
   "id": "b1cd3d1e",
   "metadata": {},
   "outputs": [],
   "source": [
    "diabetes_data.dtypes"
   ]
  },
  {
   "cell_type": "code",
   "execution_count": null,
   "id": "5175a237",
   "metadata": {},
   "outputs": [],
   "source": [
    "print(diabetes_data['BMIBins'].value_counts())"
   ]
  },
  {
   "cell_type": "code",
   "execution_count": null,
   "id": "f7547ee3",
   "metadata": {},
   "outputs": [],
   "source": [
    "print(diabetes_data['BMIRange'].value_counts())"
   ]
  },
  {
   "cell_type": "markdown",
   "id": "fdbf83f7",
   "metadata": {},
   "source": [
    "To show the correlation of the the individual dependent variables with relation to the independent variable Outcome  = whether a person has diabetes or not.\n",
    "The highest correlation is with Glucose, so it can be considered the most important predictor."
   ]
  },
  {
   "cell_type": "code",
   "execution_count": null,
   "id": "5b08d905",
   "metadata": {},
   "outputs": [],
   "source": [
    "Corr_Outcome = diabetes_data.corr()[\"Outcome\"]\n",
    "plt.figure(figsize=(10,5))\n",
    "Corr_Outcome.drop('Outcome').sort_values(ascending = False).plot(kind='bar')"
   ]
  },
  {
   "cell_type": "markdown",
   "id": "f3a28b56",
   "metadata": {},
   "source": [
    "There were missing values also in the columns Insulin, Glucose and Skin Thickness, these are also replaced by their mean value below:"
   ]
  },
  {
   "cell_type": "code",
   "execution_count": null,
   "id": "232cb426",
   "metadata": {},
   "outputs": [],
   "source": [
    "def median_target(var):   \n",
    "    temp = diabetes_data[diabetes_data[var].notnull()]\n",
    "    temp = temp[[var, 'Outcome']].groupby(['Outcome'])[[var]].median().reset_index()\n",
    "    return temp"
   ]
  },
  {
   "cell_type": "code",
   "execution_count": null,
   "id": "15e57837",
   "metadata": {},
   "outputs": [],
   "source": [
    "median_target('Insulin')"
   ]
  },
  {
   "cell_type": "code",
   "execution_count": null,
   "id": "9cc8bbcb",
   "metadata": {},
   "outputs": [],
   "source": [
    "diabetes_data.loc[(diabetes_data ['Outcome'] == 0) & (diabetes_data['Insulin'].isnull()), 'Insulin'] = 102.5\n",
    "diabetes_data.loc[(diabetes_data ['Outcome'] == 1) & (diabetes_data['Insulin'].isnull()), 'Insulin'] = 169.5"
   ]
  },
  {
   "cell_type": "code",
   "execution_count": null,
   "id": "670f1f89",
   "metadata": {},
   "outputs": [],
   "source": [
    "median_target('Glucose')"
   ]
  },
  {
   "cell_type": "code",
   "execution_count": null,
   "id": "b1adaccc",
   "metadata": {},
   "outputs": [],
   "source": [
    "diabetes_data.loc[(diabetes_data ['Outcome'] == 0) & (diabetes_data['Glucose'].isnull()), 'Glucose'] = 107\n",
    "diabetes_data.loc[(diabetes_data ['Outcome'] == 1) & (diabetes_data['Glucose'].isnull()), 'Glucose'] = 104"
   ]
  },
  {
   "cell_type": "code",
   "execution_count": null,
   "id": "4ebb17cd",
   "metadata": {},
   "outputs": [],
   "source": [
    "median_target('SkinThickness')"
   ]
  },
  {
   "cell_type": "code",
   "execution_count": null,
   "id": "e5f4db7a",
   "metadata": {},
   "outputs": [],
   "source": [
    "diabetes_data.loc[(diabetes_data ['Outcome'] == 0) & (diabetes_data['SkinThickness'].isnull()), 'SkinThickness'] = 27\n",
    "diabetes_data.loc[(diabetes_data ['Outcome'] == 1) & (diabetes_data['SkinThickness'].isnull()), 'SkinThickness'] = 32"
   ]
  },
  {
   "cell_type": "code",
   "execution_count": null,
   "id": "545e9586",
   "metadata": {},
   "outputs": [],
   "source": [
    "diabetes_data.head(15)"
   ]
  },
  {
   "cell_type": "markdown",
   "id": "b455c079",
   "metadata": {},
   "source": [
    "The minimum values after imputation changed, there are no zero values anymore except for the pregnancies, as here it is hard to judge if the zero values are meaningful data or missing data."
   ]
  },
  {
   "cell_type": "code",
   "execution_count": null,
   "id": "57f78550",
   "metadata": {},
   "outputs": [],
   "source": [
    "diabetes_data.describe()"
   ]
  },
  {
   "cell_type": "markdown",
   "id": "d1af8755",
   "metadata": {},
   "source": [
    "As can be seen from the describe function of the data, the top quartile for the age starts from 41, the following therefore displays the mean blood pressure for this age category and the result is 78."
   ]
  },
  {
   "cell_type": "code",
   "execution_count": null,
   "id": "60644f0d",
   "metadata": {},
   "outputs": [],
   "source": [
    "TopQuartile_MeanBloodPressure = diabetes_data.loc[diabetes_data['Age']>= 41, 'BloodPressure'].mean()\n",
    "print(TopQuartile_MeanBloodPressure)"
   ]
  }
 ],
 "metadata": {},
 "nbformat": 4,
 "nbformat_minor": 5
}
