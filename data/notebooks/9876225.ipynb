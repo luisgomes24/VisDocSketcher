{
 "cells": [
  {
   "cell_type": "markdown",
   "id": "f2f6a5a4",
   "metadata": {},
   "source": [
    "# Exploring airplane crashes\n",
    "\n",
    "![img](https://i.kinja-img.com/gawker-media/image/upload/s--73wYzv0D--/c_scale,fl_progressive,q_80,w_800/pfpfmuqq5ffelhlgv0ob.jpg)\n",
    "\n",
    "Hey guys. So here I will visualize data from [Airplane Crashes Dataset](https://www.kaggle.com/saurograndi/airplane-crashes-since-1908) and we will see if we can find some weird or interesting insights.\n",
    "\n",
    "Acording to [WikiHow](https://www.wikihow.com/Survive-a-Plane-Crash)\n",
    "> The odds of dying on a commercial airline flight are actually as low as 9 million to 1. That said, a lot can go wrong at 33,000 feet (10,058.4 m) above the ground, and if you’re unlucky enough to be aboard when something does, the decisions you make could mean the difference between life and death. Almost 95% of airplane crashes have survivors, so even if the worst does happen, your odds aren't as bad as you might think.\n",
    "\n",
    "So let's see..."
   ]
  },
  {
   "cell_type": "markdown",
   "id": "15f68941",
   "metadata": {},
   "source": [
    "## Setting up the environment"
   ]
  },
  {
   "cell_type": "code",
   "execution_count": null,
   "id": "d9ad2851",
   "metadata": {},
   "outputs": [],
   "source": [
    "#importing the libraries and data\n",
    "import numpy as np \n",
    "import pandas as pd \n",
    "import seaborn as sns\n",
    "import matplotlib.pyplot as plt\n",
    "from datetime import date, timedelta, datetime\n",
    "\n",
    "Data = pd.read_csv('../input/airplane-crashes-since-1908/Airplane_Crashes_and_Fatalities_Since_1908.csv')"
   ]
  },
  {
   "cell_type": "markdown",
   "id": "e224aef8",
   "metadata": {},
   "source": [
    "## Getting familiar with data"
   ]
  },
  {
   "cell_type": "code",
   "execution_count": null,
   "id": "52b0b5e2",
   "metadata": {},
   "outputs": [],
   "source": [
    "np.random.seed(42) \n",
    "obs, feat = Data.shape\n",
    "Data.sample(5)"
   ]
  },
  {
   "cell_type": "code",
   "execution_count": null,
   "id": "164cf92a",
   "metadata": {},
   "outputs": [],
   "source": [
    "print(str(\"Dataset consist of \" + str(obs) + \" observations (crashes) and \" + str(feat) + \" features. Features are following:\"))"
   ]
  },
  {
   "cell_type": "markdown",
   "id": "cd0adaf8",
   "metadata": {},
   "source": [
    "*  **Date** (date the crash had taken place)\n",
    "* **Time** (time the crash had taken place)\n",
    "* **Location** \n",
    "* **Operator **\n",
    "* **Flight #** \n",
    "* **Route**\n",
    "* **Type**\n",
    "* **Registration**\n",
    "* **cn/In ** - ?\n",
    "* **Aboard **  - number of people aboard\n",
    "* **Fatalities ** - lethal outcome\n",
    "* **Ground** - saved people\n",
    "* **Summary ** - brief summary of the case\n",
    "\n",
    "And actually something does not make sense in this data set. Theoretically, Aboard = Fatalities + Ground, but it does not look like this. So I just skipped Ground row for any further analysis.\n",
    "Now let's look how data looks like and check how many missing values are here."
   ]
  },
  {
   "cell_type": "code",
   "execution_count": null,
   "id": "d2f14b8f",
   "metadata": {},
   "outputs": [],
   "source": [
    "Data.isnull().sum() #calculating missing values in rows"
   ]
  },
  {
   "cell_type": "markdown",
   "id": "79dbf6cb",
   "metadata": {},
   "source": [
    "Nice to see, that there are not so many missing values of variables we are most interested in (Date, Operator, Aboard, Fatalities, ...). \n",
    "Let's move futher and do some manipulations with data."
   ]
  },
  {
   "cell_type": "markdown",
   "id": "1b6085eb",
   "metadata": {},
   "source": [
    "## Data manipulation\n",
    "\n",
    "I want to create a new row with 'Date + Time' format. I replaced all the missing values of Time with 0:00. Then I removed some wrong symbols and fixed broken values. "
   ]
  },
  {
   "cell_type": "code",
   "execution_count": null,
   "id": "81dbea18",
   "metadata": {},
   "outputs": [],
   "source": [
    "#cleaning up\n",
    "Data['Time'] = Data['Time'].replace(np.nan, '00:00') \n",
    "Data['Time'] = Data['Time'].str.replace('c: ', '')\n",
    "Data['Time'] = Data['Time'].str.replace('c:', '')\n",
    "Data['Time'] = Data['Time'].str.replace('c', '')\n",
    "Data['Time'] = Data['Time'].str.replace('12\\'20', '12:20')\n",
    "Data['Time'] = Data['Time'].str.replace('18.40', '18:40')\n",
    "Data['Time'] = Data['Time'].str.replace('0943', '09:43')\n",
    "Data['Time'] = Data['Time'].str.replace('22\\'08', '22:08')\n",
    "Data['Time'] = Data['Time'].str.replace('114:20', '00:00') #is it 11:20 or 14:20 or smth else? \n",
    "\n",
    "Data['Time'] = Data['Date'] + ' ' + Data['Time'] #joining two rows\n",
    "def todate(x):\n",
    "    return datetime.strptime(x, '%m/%d/%Y %H:%M')\n",
    "Data['Time'] = Data['Time'].apply(todate) #convert to date type\n",
    "print('Date ranges from ' + str(Data.Time.min()) + ' to ' + str(Data.Time.max()))\n",
    "\n",
    "Data.Operator = Data.Operator.str.upper() #just to avoid duplicates like 'British Airlines' and 'BRITISH Airlines'"
   ]
  },
  {
   "cell_type": "markdown",
   "id": "26572e8f",
   "metadata": {},
   "source": [
    "After this manipulations we have a new Time column with *%m/%d/%Y %H:%M* format. We can see that almost 10 year of recent information is missing so we will not see the actual trend."
   ]
  },
  {
   "cell_type": "markdown",
   "id": "37bec684",
   "metadata": {},
   "source": [
    "## Data Visualization\n",
    "### Total accidents"
   ]
  },
  {
   "cell_type": "code",
   "execution_count": null,
   "id": "915919e5",
   "metadata": {},
   "outputs": [],
   "source": [
    "Temp = Data.groupby(Data.Time.dt.year)[['Date']].count() #Temp is going to be temporary data frame \n",
    "Temp = Temp.rename(columns={\"Date\": \"Count\"})\n",
    "\n",
    "plt.figure(figsize=(12,6))\n",
    "plt.style.use('bmh')\n",
    "plt.plot(Temp.index, 'Count', data=Temp, color='blue', marker = \".\", linewidth=1)\n",
    "plt.xlabel('Year', fontsize=10)\n",
    "plt.ylabel('Count', fontsize=10)\n",
    "plt.title('Count of accidents by Year', loc='Center', fontsize=14)\n",
    "plt.show()"
   ]
  },
  {
   "cell_type": "code",
   "execution_count": null,
   "id": "3e8a140e",
   "metadata": {},
   "outputs": [],
   "source": [
    "import matplotlib.pylab as pl\n",
    "import matplotlib.gridspec as gridspec\n",
    "\n",
    "gs = gridspec.GridSpec(2, 2)\n",
    "pl.figure(figsize=(15,10))\n",
    "plt.style.use('seaborn-muted')\n",
    "ax = pl.subplot(gs[0, :]) # row 0, col 0\n",
    "sns.barplot(Data.groupby(Data.Time.dt.month)[['Date']].count().index, 'Date', data=Data.groupby(Data.Time.dt.month)[['Date']].count(), color='lightskyblue', linewidth=2)\n",
    "plt.xticks(Data.groupby(Data.Time.dt.month)[['Date']].count().index, ['Jan', 'Feb', 'Mar', 'Apr', 'May', 'Jun', 'Jul', 'Aug', 'Sep', 'Oct', 'Nov', 'Dec'])\n",
    "plt.xlabel('Month', fontsize=10)\n",
    "plt.ylabel('Count', fontsize=10)\n",
    "plt.title('Count of accidents by Month', loc='Center', fontsize=14)\n",
    "\n",
    "ax = pl.subplot(gs[1, 0])\n",
    "sns.barplot(Data.groupby(Data.Time.dt.weekday)[['Date']].count().index, 'Date', data=Data.groupby(Data.Time.dt.weekday)[['Date']].count(), color='lightskyblue', linewidth=2)\n",
    "plt.xticks(Data.groupby(Data.Time.dt.weekday)[['Date']].count().index, ['Mon', 'Tue', 'Wed', 'Thu', 'Fri', 'Sat', 'Sun'])\n",
    "plt.xlabel('Day of Week', fontsize=10)\n",
    "plt.ylabel('Count', fontsize=10)\n",
    "plt.title('Count of accidents by Day of Week', loc='Center', fontsize=14)\n",
    "\n",
    "ax = pl.subplot(gs[1, 1])\n",
    "sns.barplot(Data[Data.Time.dt.hour != 0].groupby(Data.Time.dt.hour)[['Date']].count().index, 'Date', data=Data[Data.Time.dt.hour != 0].groupby(Data.Time.dt.hour)[['Date']].count(),color ='lightskyblue', linewidth=2)\n",
    "plt.xlabel('Hour', fontsize=10)\n",
    "plt.ylabel('Count', fontsize=10)\n",
    "plt.title('Count of accidents by Hour', loc='Center', fontsize=14)\n",
    "plt.tight_layout()\n",
    "plt.show()"
   ]
  },
  {
   "cell_type": "markdown",
   "id": "dfbd79f3",
   "metadata": {},
   "source": [
    "### Military vs Passenger flights"
   ]
  },
  {
   "cell_type": "code",
   "execution_count": null,
   "id": "99783311",
   "metadata": {},
   "outputs": [],
   "source": [
    "Temp = Data.copy()\n",
    "Temp['isMilitary'] = Temp.Operator.str.contains('MILITARY')\n",
    "Temp = Temp.groupby('isMilitary')[['isMilitary']].count()\n",
    "Temp.index = ['Passenger', 'Military']\n",
    "\n",
    "Temp2 = Data.copy()\n",
    "Temp2['Military'] = Temp2.Operator.str.contains('MILITARY')\n",
    "Temp2['Passenger'] = Temp2.Military == False\n",
    "Temp2 = Temp2.loc[:, ['Time', 'Military', 'Passenger']]\n",
    "Temp2 = Temp2.groupby(Temp2.Time.dt.year)[['Military', 'Passenger']].aggregate(np.count_nonzero)\n",
    "\n",
    "colors = ['yellowgreen', 'lightskyblue']\n",
    "plt.figure(figsize=(15,6))\n",
    "plt.subplot(1, 2, 1)\n",
    "patches, texts = plt.pie(Temp.isMilitary, colors=colors, labels=Temp.isMilitary, startangle=90)\n",
    "plt.legend(patches, Temp.index, loc=\"best\", fontsize=10)\n",
    "plt.axis('equal')\n",
    "plt.title('Total number of accidents by Type of flight', loc='Center', fontsize=14)\n",
    "\n",
    "plt.subplot(1, 2, 2)\n",
    "plt.plot(Temp2.index, 'Military', data=Temp2, color='lightskyblue', marker = \".\", linewidth=1)\n",
    "plt.plot(Temp2.index, 'Passenger', data=Temp2, color='yellowgreen', marker = \".\", linewidth=1)\n",
    "plt.legend(fontsize=10)\n",
    "plt.xlabel('Year', fontsize=10)\n",
    "plt.ylabel('Count', fontsize=10)\n",
    "plt.title('Count of accidents by Year', loc='Center', fontsize=14)\n",
    "plt.tight_layout()\n",
    "plt.show()"
   ]
  },
  {
   "cell_type": "markdown",
   "id": "029bf454",
   "metadata": {},
   "source": [
    "### Total number of Fatalities"
   ]
  },
  {
   "cell_type": "code",
   "execution_count": null,
   "id": "e3406836",
   "metadata": {},
   "outputs": [],
   "source": [
    "Fatalities = Data.groupby(Data.Time.dt.year).sum()\n",
    "Fatalities['Proportion'] = Fatalities['Fatalities'] / Fatalities['Aboard']\n",
    "\n",
    "plt.figure(figsize=(15,6))\n",
    "plt.subplot(1, 2, 1)\n",
    "plt.fill_between(Fatalities.index, 'Aboard', data=Fatalities, color=\"skyblue\", alpha=0.2)\n",
    "plt.plot(Fatalities.index, 'Aboard', data=Fatalities, marker = \".\", color=\"Slateblue\", alpha=0.6, linewidth=1)\n",
    "plt.fill_between(Fatalities.index, 'Fatalities', data=Fatalities, color=\"olive\", alpha=0.2)\n",
    "plt.plot(Fatalities.index, 'Fatalities', data=Fatalities, color=\"olive\", marker = \".\", alpha=0.6, linewidth=1)\n",
    "plt.legend(fontsize=10)\n",
    "plt.xlabel('Year', fontsize=10)\n",
    "plt.ylabel('Amount of people', fontsize=10)\n",
    "plt.title('Total number of people involved by Year', loc='Center', fontsize=14)\n",
    "\n",
    "plt.subplot(1, 2, 2)\n",
    "plt.plot(Fatalities.index, 'Proportion', data=Fatalities, marker = \".\", color = 'red', linewidth=1)\n",
    "plt.xlabel('Year', fontsize=10)\n",
    "plt.ylabel('Ratio', fontsize=10)\n",
    "plt.title('Fatalities / Total Ratio by Year', loc='Center', fontsize=14)\n",
    "plt.tight_layout()\n",
    "plt.show()"
   ]
  },
  {
   "cell_type": "markdown",
   "id": "174a6b86",
   "metadata": {},
   "source": [
    "### Problems with misleading data\n",
    "So previous plots may look scary - number of fatalities became so high (even so it's seems to trend to decrease after 90s). Guys on [reddit](https://www.reddit.com/r/dataisbeautiful/comments/86cba3/visualizing_airplane_crashes_19082009/) made a good point about the fact that graphs don't show the proportion of accidents by all flights by year. So 1970-1990 look like scary years in the history of airf lights with rise of deaths, but there might be also the rise of total amount of people flyong by air while actually proportion became lower.\n",
    "\n",
    "I was googling the database of total number of flights or passengers and so far I could find just this dataset from [worldbank.org](https://data.worldbank.org/indicator/IS.AIR.DPRT?end=2016&start=1970&view=chart). So I have uploaded a .csv dataset from that site and let's see what we've got."
   ]
  },
  {
   "cell_type": "code",
   "execution_count": null,
   "id": "b237265f",
   "metadata": {},
   "outputs": [],
   "source": [
    "Totals = pd.read_csv('../input/plane-symb/API_IS.AIR.PSGR_DS2_en_csv_v2.csv')\n",
    "Totals.sample(5)"
   ]
  },
  {
   "cell_type": "markdown",
   "id": "d4f64f65",
   "metadata": {},
   "source": [
    "### Data Cleaning and Manipulation"
   ]
  },
  {
   "cell_type": "code",
   "execution_count": null,
   "id": "78792afe",
   "metadata": {},
   "outputs": [],
   "source": [
    "Totals = Totals.drop(['Country Name', 'Country Code', 'Indicator Name', 'Indicator Code'], axis = 1)\n",
    "Totals = Totals.replace(np.nan, 0)\n",
    "Totals = pd.DataFrame(Totals.sum())\n",
    "Totals = Totals.drop(Totals.index[0:10])\n",
    "Totals = Totals['1970':'2008']\n",
    "Totals.columns = ['Sum']\n",
    "Totals.index.name = 'Year'"
   ]
  },
  {
   "cell_type": "code",
   "execution_count": null,
   "id": "ab74cb7d",
   "metadata": {},
   "outputs": [],
   "source": [
    "Fatalities = Fatalities.reset_index()\n",
    "Fatalities.Time = Fatalities.Time.apply(str)\n",
    "Fatalities.index = Fatalities['Time']\n",
    "del Fatalities['Time']\n",
    "Fatalities = Fatalities['1970':'2008']\n",
    "Fatalities = Fatalities[['Fatalities']]\n",
    "Totals = pd.concat([Totals, Fatalities], axis=1) #joining two data frames into one\n",
    "Totals['Ratio'] = Totals['Fatalities'] / Totals['Sum'] * 100 #calculating ratio"
   ]
  },
  {
   "cell_type": "code",
   "execution_count": null,
   "id": "5d53603a",
   "metadata": {},
   "outputs": [],
   "source": [
    "gs = gridspec.GridSpec(2, 2)\n",
    "pl.figure(figsize=(15,10))\n",
    "\n",
    "ax = pl.subplot(gs[0, 0]) \n",
    "plt.plot(Totals.index, 'Sum', data=Totals, marker = \".\", color = 'green', linewidth=1)\n",
    "plt.xlabel('Year', fontsize=11)\n",
    "plt.ylabel('Amount of passengers', fontsize=11)\n",
    "plt.title('Total amount of air passengers by Year', loc='Center', fontsize=14)\n",
    "plt.xticks(rotation=90)\n",
    "\n",
    "ax = pl.subplot(gs[0, 1]) \n",
    "plt.plot(Fatalities.index, 'Fatalities', data=Fatalities, color='red', marker = \".\", linewidth=1)\n",
    "plt.xlabel('Year', fontsize=11)\n",
    "plt.ylabel('Number of Deaths', fontsize=11)\n",
    "plt.title('Total number of Fatalities by Year', loc='Center', fontsize=14)\n",
    "plt.xticks(rotation=90)\n",
    "\n",
    "ax = pl.subplot(gs[1, :]) \n",
    "plt.plot(Totals.index, 'Ratio', data=Totals, color='orange', marker = \".\", linewidth=1)\n",
    "plt.xlabel('Year', fontsize=11)\n",
    "plt.ylabel('Ratio (%)', fontsize=11)\n",
    "plt.title('Fatalities / Total amount of passegers Ratio by Year', loc='Center', fontsize=14)\n",
    "plt.xticks(rotation=45)\n",
    "plt.tight_layout()\n",
    "plt.show()"
   ]
  },
  {
   "cell_type": "markdown",
   "id": "37e5814b",
   "metadata": {},
   "source": [
    "From this plot we can see that trend actually goes down which was maybe not so obvious from plot with amount of deaths only. \n",
    "Let's put line with ratio and number of deaths on one plot."
   ]
  },
  {
   "cell_type": "code",
   "execution_count": null,
   "id": "cbd80c43",
   "metadata": {},
   "outputs": [],
   "source": [
    "fig =plt.figure(figsize=(12,6))\n",
    "ax1 = fig.subplots()\n",
    "ax1.plot(Totals.index, 'Ratio', data=Totals, color='orange', marker = \".\", linewidth=1)\n",
    "ax1.set_xlabel('Year', fontsize=11)\n",
    "for label in ax1.xaxis.get_ticklabels():\n",
    "        label.set_rotation(45)\n",
    "ax1.set_ylabel('Ratio (%)', color='orange', fontsize=11)\n",
    "ax1.tick_params('y', colors='orange')\n",
    "ax2 = ax1.twinx()\n",
    "ax2.plot(Fatalities.index, 'Fatalities', data=Fatalities, color='red', marker = \".\", linewidth=1)\n",
    "ax2.set_ylabel('Number of fatalities', color='red', fontsize=11)\n",
    "ax2.tick_params('y', colors='r')\n",
    "plt.title('Fatalities VS Ratio by Year', loc='Center', fontsize=14)\n",
    "fig.tight_layout()\n",
    "plt.show()"
   ]
  },
  {
   "cell_type": "markdown",
   "id": "7efc0317",
   "metadata": {},
   "source": [
    "We can see that peaks like 1985, 1989, 1992, 1996 look scary, while ratio actually trends down. Of course there are some questions thats are wanted to be asked, like \"is it full database of airplane accidents?\" or \"does total number of passenger include military flights or just passenger?\" so this plot is that an estimation."
   ]
  },
  {
   "cell_type": "markdown",
   "id": "68bbfa67",
   "metadata": {},
   "source": [
    "### Operators Analysis"
   ]
  },
  {
   "cell_type": "code",
   "execution_count": null,
   "id": "cbb795fe",
   "metadata": {},
   "outputs": [],
   "source": [
    "Data.Operator = Data.Operator.str.upper()\n",
    "Data.Operator = Data.Operator.replace('A B AEROTRANSPORT', 'AB AEROTRANSPORT')\n",
    "\n",
    "Total_by_Op = Data.groupby('Operator')[['Operator']].count()\n",
    "Total_by_Op = Total_by_Op.rename(columns={\"Operator\": \"Count\"})\n",
    "Total_by_Op = Total_by_Op.sort_values(by='Count', ascending=False).head(15)\n",
    "\n",
    "plt.figure(figsize=(12,6))\n",
    "sns.barplot(y=Total_by_Op.index, x=\"Count\", data=Total_by_Op, palette=\"gist_heat\", orient='h')\n",
    "plt.xlabel('Count', fontsize=11)\n",
    "plt.ylabel('Operator', fontsize=11)\n",
    "plt.title('Total Count by Opeartor', loc='Center', fontsize=14)\n",
    "plt.show()"
   ]
  },
  {
   "cell_type": "code",
   "execution_count": null,
   "id": "69eda7a1",
   "metadata": {},
   "outputs": [],
   "source": [
    "Prop_by_Op = Data.groupby('Operator')[['Fatalities']].sum()\n",
    "Prop_by_Op = Prop_by_Op.rename(columns={\"Operator\": \"Fatalities\"})\n",
    "Prop_by_Op = Prop_by_Op.sort_values(by='Fatalities', ascending=False)\n",
    "Prop_by_OpTOP = Prop_by_Op.head(15)\n",
    "\n",
    "plt.figure(figsize=(12,6))\n",
    "sns.barplot(y=Prop_by_OpTOP.index, x=\"Fatalities\", data=Prop_by_OpTOP, palette=\"gist_heat\", orient='h')\n",
    "plt.xlabel('Fatalities', fontsize=11)\n",
    "plt.ylabel('Operator', fontsize=11)\n",
    "plt.title('Total Fatalities by Opeartor', loc='Center', fontsize=14)\n",
    "plt.show()"
   ]
  },
  {
   "cell_type": "markdown",
   "id": "43988abb",
   "metadata": {},
   "source": [
    "Let's find out which Flight Operators actually have the least number of people involved:"
   ]
  },
  {
   "cell_type": "code",
   "execution_count": null,
   "id": "bc8cdc5a",
   "metadata": {},
   "outputs": [],
   "source": [
    "Prop_by_Op[Prop_by_Op['Fatalities'] == Prop_by_Op.Fatalities.min()].index.tolist()"
   ]
  },
  {
   "cell_type": "markdown",
   "id": "5b5a4853",
   "metadata": {},
   "source": [
    "### World Clouds"
   ]
  },
  {
   "cell_type": "code",
   "execution_count": null,
   "id": "550f047e",
   "metadata": {},
   "outputs": [],
   "source": [
    "from PIL import Image\n",
    "from wordcloud import WordCloud, STOPWORDS\n",
    "\n",
    "text = str(Data.Summary.tolist())\n",
    "plane_mask = np.array(Image.open('../input/plane-symb/aircraft-1293790_960_720.jpg'))\n",
    "\n",
    "stopwords = set(STOPWORDS)\n",
    "stopwords.add('aircraft')\n",
    "stopwords.add('plane')\n",
    "\n",
    "wc = WordCloud(background_color=\"white\", max_words=2000, mask=plane_mask,\n",
    "               stopwords=stopwords)\n",
    "wc.generate(text)\n",
    "\n",
    "plt.figure(figsize=(10,10))\n",
    "plt.imshow(wc, interpolation='bilinear')\n",
    "plt.axis(\"off\")\n",
    "plt.title('Brief Summary', loc='Center', fontsize=14)\n",
    "plt.savefig('./aircraft_wordcloud.png', dpi=50)\n",
    "plt.show()"
   ]
  },
  {
   "cell_type": "code",
   "execution_count": null,
   "id": "4b6d314c",
   "metadata": {},
   "outputs": [],
   "source": [
    "text = str(Data.Location.tolist())\n",
    "globe_mask = np.array(Image.open('../input/plane-symb/standing-globe-silhouette-with-support_318-37306.jpg'))\n",
    "\n",
    "stopwords = set(STOPWORDS)\n",
    "stopwords.add('nan')\n",
    "stopwords.add('Near')\n",
    "\n",
    "wc = WordCloud(background_color=\"white\", max_words=2000, mask=globe_mask,\n",
    "               stopwords=stopwords)\n",
    "wc.generate(text)\n",
    "\n",
    "plt.figure(figsize=(10,10))\n",
    "plt.imshow(wc, interpolation='bilinear')\n",
    "plt.axis(\"off\")\n",
    "plt.title('Location of Accident', loc='Center', fontsize=14)\n",
    "plt.show()"
   ]
  },
  {
   "cell_type": "markdown",
   "id": "c89d9098",
   "metadata": {},
   "source": [
    "### Exploring Aeroflot\n",
    "\n",
    "It looks like Aeroflot has the most number of accident for all the time (well, maybe if I knew this before I wouldn't have flown with them last summer, haha).\n",
    "\n",
    "> PJSC Aeroflot – Russian Airlines, commonly known as Aeroflot, is the flag carrier and largest airline of the Russian Federation. The carrier is an open joint stock company that operates domestic and international passenger and services, mainly from its hub at Sheremetyevo International Airport. (c) [wikipedia](https://en.wikipedia.org/wiki/Aeroflot)\n",
    "\n",
    "![Aeroflot image](http://english.ahram.org.eg/Media/News/2018/1/16/2018-636517025170319584-31.jpg)"
   ]
  },
  {
   "cell_type": "code",
   "execution_count": null,
   "id": "19dc9dad",
   "metadata": {},
   "outputs": [],
   "source": [
    "Aeroflot = Data[Data.Operator == 'AEROFLOT']\n",
    "\n",
    "Count_by_Year = Aeroflot.groupby(Data.Time.dt.year)[['Date']].count()\n",
    "Count_by_Year = Count_by_Year.rename(columns={\"Date\": \"Count\"})\n",
    "\n",
    "plt.figure(figsize=(12,6))\n",
    "plt.plot(Count_by_Year.index, 'Count', data=Count_by_Year, marker='.', color='red', linewidth=1)\n",
    "plt.xlabel('Year', fontsize=11)\n",
    "plt.ylabel('Count', fontsize=11)\n",
    "plt.title('Count of accidents by Year (Aeroflot)', loc='Center', fontsize=14)\n",
    "plt.show()"
   ]
  },
  {
   "cell_type": "markdown",
   "id": "50a894b6",
   "metadata": {},
   "source": [
    "It seems like 1970s were not the best year in history of Aeroflot. More about accidents in this years can be found on [Wikipedia page](https://en.wikipedia.org/wiki/Aeroflot_accidents_and_incidents_in_the_1970s)\n",
    "\n",
    "### Some take-aways\n",
    "\n",
    "Even so the number of crashes and fatalities is increasing, the number of flights is also increasing. And we could actually see that the ratio of fatalities/total amount of passengers trending down (for 2000s). However we can not make decisions about any Operator like \"which airline is much safer to flight with\" without knowledge of total amount flights. If Aeroflot has the largest number of crashes this doesn't mean that it is not worse to flight with because it might have the largest amount of flights. \n",
    "\n",
    "So this project taught me to think more critical about data and not to make decisions without including athe infotmation possible.\n",
    "\n",
    "I hope you enjoyed it :)"
   ]
  }
 ],
 "metadata": {},
 "nbformat": 4,
 "nbformat_minor": 5
}
