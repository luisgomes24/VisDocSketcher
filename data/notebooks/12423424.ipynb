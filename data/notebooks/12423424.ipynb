{
 "cells": [
  {
   "cell_type": "code",
   "execution_count": null,
   "id": "e4ff0a63",
   "metadata": {},
   "outputs": [],
   "source": [
    "# This Python 3 environment comes with many helpful analytics libraries installed\n",
    "# It is defined by the kaggle/python Docker image: https://github.com/kaggle/docker-python\n",
    "# For example, here's several helpful packages to load\n",
    "\n",
    "import numpy as np # linear algebra\n",
    "import pandas as pd # data processing, CSV file I/O (e.g. pd.read_csv)\n",
    "\n",
    "# Input data files are available in the read-only \"../input/\" directory\n",
    "# For example, running this (by clicking run or pressing Shift+Enter) will list all files under the input directory\n",
    "\n",
    "import os\n",
    "for dirname, _, filenames in os.walk('/kaggle/input'):\n",
    "    for filename in filenames:\n",
    "        print(os.path.join(dirname, filename))\n",
    "\n",
    "# You can write up to 5GB to the current directory (/kaggle/working/) that gets preserved as output when you create a version using \"Save & Run All\" \n",
    "# You can also write temporary files to /kaggle/temp/, but they won't be saved outside of the current session"
   ]
  },
  {
   "cell_type": "code",
   "execution_count": null,
   "id": "b4131d6f",
   "metadata": {},
   "outputs": [],
   "source": [
    "# This Python 3 environment comes with many helpful analytics libraries installed\n",
    "# It is defined by the kaggle/python Docker image: https://github.com/kaggle/docker-python\n",
    "# For example, here's several helpful packages to load\n",
    "\n",
    "import numpy as np # linear algebra\n",
    "import pandas as pd # data processing, CSV file I/O (e.g. pd.read_csv)\n",
    "\n",
    "# Input data files are available in the read-only \"../input/\" directory\n",
    "# For example, running this (by clicking run or pressing Shift+Enter) will list all files under the input directory\n",
    "\n",
    "import os\n",
    "for dirname, _, filenames in os.walk('/kaggle/input'):\n",
    "    for filename in filenames:\n",
    "        print(os.path.join(dirname, filename))\n",
    "\n",
    "# You can write up to 5GB to the current directory (/kaggle/working/) that gets preserved as output when you create a version using \"Save & Run All\" \n",
    "# You can also write temporary files to /kaggle/temp/, but they won't be saved outside of the current session"
   ]
  },
  {
   "cell_type": "code",
   "execution_count": null,
   "id": "d23ff0e4",
   "metadata": {},
   "outputs": [],
   "source": [
    "data = pd.read_csv(os.path.join(dirname, filename))"
   ]
  },
  {
   "cell_type": "code",
   "execution_count": null,
   "id": "89ac523c",
   "metadata": {},
   "outputs": [],
   "source": [
    "data = pd.read_csv(os.path.join(dirname, filename))"
   ]
  },
  {
   "cell_type": "code",
   "execution_count": null,
   "id": "678f37a3",
   "metadata": {},
   "outputs": [],
   "source": [
    "print(data[\"diagnosis\"].value_counts())\n",
    "print(f'Type of the diagnosis column: {data[\"diagnosis\"].dtype}')"
   ]
  },
  {
   "cell_type": "code",
   "execution_count": null,
   "id": "cecd6fda",
   "metadata": {},
   "outputs": [],
   "source": [
    "print(data[\"diagnosis\"].value_counts())\n",
    "print(f'Type of the diagnosis column: {data[\"diagnosis\"].dtype}')"
   ]
  },
  {
   "cell_type": "markdown",
   "id": "f4a4d940",
   "metadata": {},
   "source": [
    "Diagnosis should be an integer or a bool, so let's create a dummy variable out of that."
   ]
  },
  {
   "cell_type": "markdown",
   "id": "dfb25228",
   "metadata": {},
   "source": [
    "Diagnosis should be an integer or a bool, so let's create a dummy variable out of that."
   ]
  },
  {
   "cell_type": "code",
   "execution_count": null,
   "id": "682ee0f6",
   "metadata": {},
   "outputs": [],
   "source": [
    "malign = pd.get_dummies(data[\"diagnosis\"], drop_first=True, dtype=int)"
   ]
  },
  {
   "cell_type": "code",
   "execution_count": null,
   "id": "76e27e00",
   "metadata": {},
   "outputs": [],
   "source": [
    "malign = pd.get_dummies(data[\"diagnosis\"], drop_first=True, dtype=int)"
   ]
  },
  {
   "cell_type": "code",
   "execution_count": null,
   "id": "6d62112b",
   "metadata": {},
   "outputs": [],
   "source": [
    "# we replace diagnosis by the dummy variable\n",
    "df = pd.concat((data.drop(\"diagnosis\", axis=1), malign), axis=1)\n",
    "df.rename(columns={'M':'malign'}, inplace=True)"
   ]
  },
  {
   "cell_type": "code",
   "execution_count": null,
   "id": "09f6f4cc",
   "metadata": {},
   "outputs": [],
   "source": [
    "# we replace diagnosis by the dummy variable\n",
    "df = pd.concat((data.drop(\"diagnosis\", axis=1), malign), axis=1)\n",
    "df.rename(columns={'M':'malign'}, inplace=True)"
   ]
  },
  {
   "cell_type": "code",
   "execution_count": null,
   "id": "bdfa89f2",
   "metadata": {},
   "outputs": [],
   "source": [
    "import seaborn as sns\n",
    "import matplotlib.pyplot as plt\n",
    "import plotly.express as px"
   ]
  },
  {
   "cell_type": "code",
   "execution_count": null,
   "id": "73d2023c",
   "metadata": {},
   "outputs": [],
   "source": [
    "import seaborn as sns\n",
    "import matplotlib.pyplot as plt\n",
    "import plotly.express as px"
   ]
  },
  {
   "cell_type": "code",
   "execution_count": null,
   "id": "7991a864",
   "metadata": {},
   "outputs": [],
   "source": [
    "fig = px.pie(df, names=\"malign\", title='Distribution of malignant vs. benign tumor')\n",
    "fig.show()"
   ]
  },
  {
   "cell_type": "code",
   "execution_count": null,
   "id": "e17f7fa6",
   "metadata": {},
   "outputs": [],
   "source": [
    "fig = px.pie(df, names=\"malign\", title='Distribution of malignant vs. benign tumor')\n",
    "fig.show()"
   ]
  },
  {
   "cell_type": "code",
   "execution_count": null,
   "id": "e1f7af99",
   "metadata": {},
   "outputs": [],
   "source": [
    "df.columns"
   ]
  },
  {
   "cell_type": "code",
   "execution_count": null,
   "id": "ecaf8511",
   "metadata": {},
   "outputs": [],
   "source": [
    "df.columns"
   ]
  },
  {
   "cell_type": "code",
   "execution_count": null,
   "id": "0d5bb85a",
   "metadata": {},
   "outputs": [],
   "source": [
    "dropped = [\"id\", \"Unnamed: 32\"]\n",
    "df = df.drop(dropped, axis=1)"
   ]
  },
  {
   "cell_type": "code",
   "execution_count": null,
   "id": "6d315392",
   "metadata": {},
   "outputs": [],
   "source": [
    "dropped = [\"id\", \"Unnamed: 32\"]\n",
    "df = df.drop(dropped, axis=1)"
   ]
  },
  {
   "cell_type": "code",
   "execution_count": null,
   "id": "3daf0e69",
   "metadata": {},
   "outputs": [],
   "source": [
    "plt.figure(figsize=(20, 20))\n",
    "sns.heatmap(df.corr(), cmap=\"coolwarm\", annot=True)\n",
    "plt.show()"
   ]
  },
  {
   "cell_type": "code",
   "execution_count": null,
   "id": "07b7f0f7",
   "metadata": {},
   "outputs": [],
   "source": [
    "plt.figure(figsize=(20, 20))\n",
    "sns.heatmap(df.corr(), cmap=\"coolwarm\", annot=True)\n",
    "plt.show()"
   ]
  },
  {
   "cell_type": "code",
   "execution_count": null,
   "id": "de93aebf",
   "metadata": {},
   "outputs": [],
   "source": [
    "px.bar(df.corr()[\"malign\"].sort_values(), title=\"correlation degree\", color=df.corr()[\"malign\"].sort_values(), color_continuous_scale=px.colors.sequential.Jet)"
   ]
  },
  {
   "cell_type": "code",
   "execution_count": null,
   "id": "c9579000",
   "metadata": {},
   "outputs": [],
   "source": [
    "px.bar(df.corr()[\"malign\"].sort_values(), title=\"correlation degree\", color=df.corr()[\"malign\"].sort_values(), color_continuous_scale=px.colors.sequential.Jet)"
   ]
  },
  {
   "cell_type": "markdown",
   "id": "fbdb695e",
   "metadata": {},
   "source": [
    "All the data seem to be of relative importance for the diagnosis, except for symmetry_se, texture_se and fractal_dimension_mean. We will drop these features."
   ]
  },
  {
   "cell_type": "markdown",
   "id": "8874202d",
   "metadata": {},
   "source": [
    "All the data seem to be of relative importance for the diagnosis, except for symmetry_se, texture_se and fractal_dimension_mean. We will drop these features."
   ]
  },
  {
   "cell_type": "code",
   "execution_count": null,
   "id": "663f4a55",
   "metadata": {},
   "outputs": [],
   "source": [
    "last_dropped = [\"symmetry_se\", \"texture_se\", \"fractal_dimension_mean\"]\n",
    "final_df = df.drop(last_dropped, axis=1)"
   ]
  },
  {
   "cell_type": "code",
   "execution_count": null,
   "id": "907cafe8",
   "metadata": {},
   "outputs": [],
   "source": [
    "last_dropped = [\"symmetry_se\", \"texture_se\", \"fractal_dimension_mean\"]\n",
    "final_df = df.drop(last_dropped, axis=1)"
   ]
  },
  {
   "cell_type": "code",
   "execution_count": null,
   "id": "d601a413",
   "metadata": {},
   "outputs": [],
   "source": [
    "print(f\"Our model will be based upon {len(final_df.iloc[0,:])-1} features to predict if benign or malignant.\")"
   ]
  },
  {
   "cell_type": "code",
   "execution_count": null,
   "id": "62170a4a",
   "metadata": {},
   "outputs": [],
   "source": [
    "print(f\"Our model will be based upon {len(final_df.iloc[0,:])-1} features to predict if benign or malignant.\")"
   ]
  },
  {
   "cell_type": "markdown",
   "id": "f0fd58d3",
   "metadata": {},
   "source": [
    "## 2. Models"
   ]
  },
  {
   "cell_type": "markdown",
   "id": "bc9f8ec2",
   "metadata": {},
   "source": [
    "## 2. Models"
   ]
  },
  {
   "cell_type": "code",
   "execution_count": null,
   "id": "570ea409",
   "metadata": {},
   "outputs": [],
   "source": [
    "from sklearn.linear_model import LogisticRegression\n",
    "from sklearn.model_selection import train_test_split\n",
    "from sklearn.preprocessing import MinMaxScaler"
   ]
  },
  {
   "cell_type": "code",
   "execution_count": null,
   "id": "cd3c33f9",
   "metadata": {},
   "outputs": [],
   "source": [
    "from sklearn.linear_model import LogisticRegression\n",
    "from sklearn.model_selection import train_test_split\n",
    "from sklearn.preprocessing import MinMaxScaler"
   ]
  },
  {
   "cell_type": "code",
   "execution_count": null,
   "id": "705f7b2d",
   "metadata": {},
   "outputs": [],
   "source": [
    "X = final_df.drop(\"malign\", axis=1)\n",
    "y = final_df[\"malign\"]\n",
    "X_train, X_test, y_train, y_test = train_test_split(X, y, test_size=0.2, random_state=101)\n",
    "scaler = MinMaxScaler()\n",
    "X_train = scaler.fit_transform(X_train)\n",
    "X_test = scaler.transform(X_test)"
   ]
  },
  {
   "cell_type": "code",
   "execution_count": null,
   "id": "4e2b3d7a",
   "metadata": {},
   "outputs": [],
   "source": [
    "X = final_df.drop(\"malign\", axis=1)\n",
    "y = final_df[\"malign\"]\n",
    "X_train, X_test, y_train, y_test = train_test_split(X, y, test_size=0.2, random_state=101)\n",
    "scaler = MinMaxScaler()\n",
    "X_train = scaler.fit_transform(X_train)\n",
    "X_test = scaler.transform(X_test)"
   ]
  },
  {
   "cell_type": "code",
   "execution_count": null,
   "id": "95862c6f",
   "metadata": {},
   "outputs": [],
   "source": [
    "X_train.shape"
   ]
  },
  {
   "cell_type": "code",
   "execution_count": null,
   "id": "1905e9ce",
   "metadata": {},
   "outputs": [],
   "source": [
    "X_train.shape"
   ]
  },
  {
   "cell_type": "code",
   "execution_count": null,
   "id": "7f101125",
   "metadata": {},
   "outputs": [],
   "source": [
    "lg = LogisticRegression()\n",
    "lg.fit(X_train, y_train)"
   ]
  },
  {
   "cell_type": "code",
   "execution_count": null,
   "id": "f61242c6",
   "metadata": {},
   "outputs": [],
   "source": [
    "lg = LogisticRegression()\n",
    "lg.fit(X_train, y_train)"
   ]
  },
  {
   "cell_type": "code",
   "execution_count": null,
   "id": "30ad1f63",
   "metadata": {},
   "outputs": [],
   "source": [
    "test_pred = lg.predict(X_test)\n",
    "train_pred = lg.predict(X_train)"
   ]
  },
  {
   "cell_type": "code",
   "execution_count": null,
   "id": "6cd91aec",
   "metadata": {},
   "outputs": [],
   "source": [
    "test_pred = lg.predict(X_test)\n",
    "train_pred = lg.predict(X_train)"
   ]
  },
  {
   "cell_type": "code",
   "execution_count": null,
   "id": "8c43f48f",
   "metadata": {},
   "outputs": [],
   "source": [
    "from sklearn.metrics import classification_report, confusion_matrix, accuracy_score, f1_score\n",
    "#print(classification_report(y_test, test_pred))\n",
    "print(f\"Confusion matrix on training set:\\n{confusion_matrix(y_train, train_pred)}\")\n",
    "print(f\"Confusion matrix on test set:\\n{confusion_matrix(y_test, test_pred)}\")\n",
    "print(f\"Accuracy score on the training set: {accuracy_score(y_train, train_pred)*100:.2f}%\")\n",
    "print(f\"Accuracy score on the test set: {accuracy_score(y_test, test_pred)*100:.2f}%\")\n",
    "print(f\"f1 score on the training set: {f1_score(y_train, train_pred)*100:.2f}%\")\n",
    "print(f\"f1 score on the test set: {f1_score(y_test, test_pred)*100:.2f}%\")"
   ]
  },
  {
   "cell_type": "code",
   "execution_count": null,
   "id": "ecacf8ae",
   "metadata": {},
   "outputs": [],
   "source": [
    "from sklearn.metrics import classification_report, confusion_matrix, accuracy_score, f1_score\n",
    "#print(classification_report(y_test, test_pred))\n",
    "print(f\"Confusion matrix on training set:\\n{confusion_matrix(y_train, train_pred)}\")\n",
    "print(f\"Confusion matrix on test set:\\n{confusion_matrix(y_test, test_pred)}\")\n",
    "print(f\"Accuracy score on the training set: {accuracy_score(y_train, train_pred)*100:.2f}%\")\n",
    "print(f\"Accuracy score on the test set: {accuracy_score(y_test, test_pred)*100:.2f}%\")\n",
    "print(f\"f1 score on the training set: {f1_score(y_train, train_pred)*100:.2f}%\")\n",
    "print(f\"f1 score on the test set: {f1_score(y_test, test_pred)*100:.2f}%\")"
   ]
  },
  {
   "cell_type": "code",
   "execution_count": null,
   "id": "2ab4b064",
   "metadata": {},
   "outputs": [],
   "source": [
    "nan"
   ]
  },
  {
   "cell_type": "code",
   "execution_count": null,
   "id": "fe74901f",
   "metadata": {},
   "outputs": [],
   "source": [
    "nan"
   ]
  }
 ],
 "metadata": {},
 "nbformat": 4,
 "nbformat_minor": 5
}
