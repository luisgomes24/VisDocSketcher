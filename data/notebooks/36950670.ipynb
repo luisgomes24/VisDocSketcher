{
 "cells": [
  {
   "cell_type": "markdown",
   "id": "9561744c",
   "metadata": {},
   "source": [
    "# Fake News"
   ]
  },
  {
   "cell_type": "markdown",
   "id": "38494044",
   "metadata": {},
   "source": [
    "## About the data"
   ]
  },
  {
   "cell_type": "markdown",
   "id": "7ecc4a70",
   "metadata": {},
   "source": [
    "### 1.id: unique id for a news article\n",
    "### 2.title: the title of the news article\n",
    "### 3.author: author of the news article\n",
    "### 4.text: the text of the article; could be incomplete\n",
    "### 5.label: a label that marks whether the news article is real or fake"
   ]
  },
  {
   "cell_type": "markdown",
   "id": "cd29a8d0",
   "metadata": {},
   "source": [
    "#### 1 => fake news\n",
    "#### 0 => real news"
   ]
  },
  {
   "cell_type": "markdown",
   "id": "0b7b2158",
   "metadata": {},
   "source": [
    "## Importing libraries"
   ]
  },
  {
   "cell_type": "code",
   "execution_count": null,
   "id": "8eeaa86d",
   "metadata": {},
   "outputs": [],
   "source": [
    "import numpy as np\n",
    "import pandas as pd\n",
    "from matplotlib import pyplot as plt\n",
    "%matplotlib inline\n",
    "import seaborn as sns\n",
    "import re\n",
    "from nltk.corpus import stopwords\n",
    "from nltk.stem.porter import PorterStemmer\n",
    "from sklearn.feature_extraction.text import CountVectorizer\n",
    "from sklearn.feature_extraction.text import TfidfTransformer\n",
    "from sklearn.linear_model import LogisticRegression\n",
    "from sklearn.svm import SVC\n",
    "from sklearn.tree import DecisionTreeClassifier\n",
    "from sklearn.ensemble import RandomForestClassifier , GradientBoostingClassifier\n",
    "from sklearn.model_selection import train_test_split , GridSearchCV\n",
    "from sklearn.metrics import accuracy_score , ConfusionMatrixDisplay , classification_report , roc_curve"
   ]
  },
  {
   "cell_type": "code",
   "execution_count": null,
   "id": "709cecae",
   "metadata": {},
   "outputs": [],
   "source": [
    "# Printing the stopwords in English\n",
    "print(stopwords.words('english'))"
   ]
  },
  {
   "cell_type": "markdown",
   "id": "7da99cde",
   "metadata": {},
   "source": [
    "## Data Preparation"
   ]
  },
  {
   "cell_type": "code",
   "execution_count": null,
   "id": "ada63682",
   "metadata": {},
   "outputs": [],
   "source": [
    "# load the data\n",
    "df = pd.read_csv('train.csv')\n",
    "print(f\"The shape of the dataset is: {df.shape}\")\n",
    "df.head()"
   ]
  },
  {
   "cell_type": "code",
   "execution_count": null,
   "id": "cb35a825",
   "metadata": {},
   "outputs": [],
   "source": [
    "df.info()"
   ]
  },
  {
   "cell_type": "code",
   "execution_count": null,
   "id": "a979cdc0",
   "metadata": {},
   "outputs": [],
   "source": [
    "df.isna().sum()"
   ]
  },
  {
   "cell_type": "markdown",
   "id": "6fa74ae9",
   "metadata": {},
   "source": [
    "## Data Preprocessing"
   ]
  },
  {
   "cell_type": "markdown",
   "id": "1e71c3fc",
   "metadata": {},
   "source": [
    "### Handling null values"
   ]
  },
  {
   "cell_type": "code",
   "execution_count": null,
   "id": "0ecf2de9",
   "metadata": {},
   "outputs": [],
   "source": [
    "df.fillna(\" \", inplace= True)"
   ]
  },
  {
   "cell_type": "code",
   "execution_count": null,
   "id": "5c223f63",
   "metadata": {},
   "outputs": [],
   "source": [
    "df['content'] = df['title'] + \" \" + df['author']"
   ]
  },
  {
   "cell_type": "code",
   "execution_count": null,
   "id": "ee4a04e0",
   "metadata": {},
   "outputs": [],
   "source": [
    "df.head()"
   ]
  },
  {
   "cell_type": "markdown",
   "id": "6be9809b",
   "metadata": {},
   "source": [
    "## Stemming"
   ]
  },
  {
   "cell_type": "markdown",
   "id": "abb32a81",
   "metadata": {},
   "source": [
    "### Stemming is the process of reducing a word to its base or root form, by removing suffixes and prefixes"
   ]
  },
  {
   "cell_type": "code",
   "execution_count": null,
   "id": "5af7676d",
   "metadata": {},
   "outputs": [],
   "source": [
    "port_stem = PorterStemmer()"
   ]
  },
  {
   "cell_type": "code",
   "execution_count": null,
   "id": "33ae1b99",
   "metadata": {},
   "outputs": [],
   "source": [
    "def stemming(content):\n",
    "    #replace any non-alphabetic characters in the content variable with a space character\n",
    "    stemmed_content= re.sub('[^a-zA-Z]',' ',content)\n",
    "    #Convert all words into lower case letters\n",
    "    stemmed_content = stemmed_content.lower() \n",
    "    # Split the words into list\n",
    "    stemmed_content = stemmed_content.split()\n",
    "    #generate a list of stemmed words from stemmed_content, excluding any stop words from the list\n",
    "    stemmed_content = [port_stem.stem(word) for word in stemmed_content if not word in stopwords.words('english')]\n",
    "    #Join the elements from the list 'stemmed_content' into a single string separated by spaces\n",
    "    stemmed_content = \" \".join(stemmed_content)\n",
    "    return stemmed_content"
   ]
  },
  {
   "cell_type": "code",
   "execution_count": null,
   "id": "18e66024",
   "metadata": {},
   "outputs": [],
   "source": [
    "df['content']= df['content'].apply(stemming)"
   ]
  },
  {
   "cell_type": "code",
   "execution_count": null,
   "id": "d2757ea3",
   "metadata": {},
   "outputs": [],
   "source": [
    "df['content']"
   ]
  },
  {
   "cell_type": "markdown",
   "id": "b6ebe1d1",
   "metadata": {},
   "source": [
    "## Converting the textual data to numerical data"
   ]
  },
  {
   "cell_type": "code",
   "execution_count": null,
   "id": "149789c8",
   "metadata": {},
   "outputs": [],
   "source": [
    "transformer = TfidfTransformer(smooth_idf=False)\n",
    "count_vectorizer = CountVectorizer(ngram_range=(1, 2))\n",
    "counts = count_vectorizer.fit_transform(df['content'].values)\n",
    "tfidf = transformer.fit_transform(counts)"
   ]
  },
  {
   "cell_type": "markdown",
   "id": "a40642cd",
   "metadata": {},
   "source": [
    "## Split data into train & test data"
   ]
  },
  {
   "cell_type": "code",
   "execution_count": null,
   "id": "f6d0376d",
   "metadata": {},
   "outputs": [],
   "source": [
    "targets = df['label'].values"
   ]
  },
  {
   "cell_type": "code",
   "execution_count": null,
   "id": "b2ea7a6e",
   "metadata": {},
   "outputs": [],
   "source": [
    "print(f\"target shape: {targets.shape}\")\n",
    "print(f\"X shape: {tfidf.shape}\")"
   ]
  },
  {
   "cell_type": "code",
   "execution_count": null,
   "id": "1849a2c3",
   "metadata": {},
   "outputs": [],
   "source": [
    "X_train, X_test, y_train, y_test = train_test_split(tfidf, targets, test_size=0.2, random_state=49)"
   ]
  },
  {
   "cell_type": "code",
   "execution_count": null,
   "id": "bc03c37e",
   "metadata": {},
   "outputs": [],
   "source": [
    "print(f\"The shape of X_train is: {X_train.shape[0]}\")\n",
    "print(f\"The shape of X_test is: {X_test.shape[0]}\")"
   ]
  },
  {
   "cell_type": "markdown",
   "id": "6a169af5",
   "metadata": {},
   "source": [
    "## Iterate"
   ]
  },
  {
   "cell_type": "code",
   "execution_count": null,
   "id": "2a0e4b1d",
   "metadata": {},
   "outputs": [],
   "source": [
    "def train(model , model_name):\n",
    "    model.fit(X_train,y_train)\n",
    "    print(f\"Training accuracy of {model_name} is {model.score(X_train,y_train)}\")\n",
    "    print(f\"testing accuracy of {model_name} is {model.score(X_test,y_test)}\")\n",
    "def conf_matrix(model):\n",
    "    ConfusionMatrixDisplay.from_estimator(\n",
    "        model,\n",
    "        X_test,\n",
    "        y_test\n",
    "    )\n",
    "def class_report(model):\n",
    "    print(classification_report(\n",
    "        y_test,\n",
    "        model.predict(X_test)\n",
    "    ))"
   ]
  },
  {
   "cell_type": "markdown",
   "id": "9309bc12",
   "metadata": {},
   "source": [
    "## LogisticRegression"
   ]
  },
  {
   "cell_type": "code",
   "execution_count": null,
   "id": "bf1049f1",
   "metadata": {},
   "outputs": [],
   "source": [
    "model_lr = LogisticRegression()"
   ]
  },
  {
   "cell_type": "code",
   "execution_count": null,
   "id": "9f8ce7ef",
   "metadata": {},
   "outputs": [],
   "source": [
    "train(model_lr, 'LogisticRegression')"
   ]
  },
  {
   "cell_type": "code",
   "execution_count": null,
   "id": "28719f71",
   "metadata": {},
   "outputs": [],
   "source": [
    "conf_matrix(model_lr)"
   ]
  },
  {
   "cell_type": "code",
   "execution_count": null,
   "id": "36899c58",
   "metadata": {},
   "outputs": [],
   "source": [
    "class_report(model_lr)"
   ]
  },
  {
   "cell_type": "markdown",
   "id": "9fb88733",
   "metadata": {},
   "source": [
    "## SVM"
   ]
  },
  {
   "cell_type": "code",
   "execution_count": null,
   "id": "a06139e8",
   "metadata": {},
   "outputs": [],
   "source": [
    "svc_model= SVC()"
   ]
  },
  {
   "cell_type": "code",
   "execution_count": null,
   "id": "0de405bc",
   "metadata": {},
   "outputs": [],
   "source": [
    "train(svc_model, 'SVM')"
   ]
  },
  {
   "cell_type": "code",
   "execution_count": null,
   "id": "575963b2",
   "metadata": {},
   "outputs": [],
   "source": [
    "conf_matrix(svc_model)"
   ]
  },
  {
   "cell_type": "code",
   "execution_count": null,
   "id": "488f9524",
   "metadata": {},
   "outputs": [],
   "source": [
    "class_report(svc_model)"
   ]
  },
  {
   "cell_type": "markdown",
   "id": "b2720652",
   "metadata": {},
   "source": [
    "## DecisionTreeClassifier"
   ]
  },
  {
   "cell_type": "code",
   "execution_count": null,
   "id": "7671dd42",
   "metadata": {},
   "outputs": [],
   "source": [
    "depth_num= range(50, 71, 2)\n",
    "training_acc= []\n",
    "testing_acc = []\n",
    "for depth in depth_num:\n",
    "    tree_model = DecisionTreeClassifier(max_depth=depth,random_state=42)\n",
    "    tree_model.fit(X_train,y_train)\n",
    "    training_acc.append(tree_model.score(X_train,y_train))\n",
    "    testing_acc.append(tree_model.score(X_test,y_test))"
   ]
  },
  {
   "cell_type": "code",
   "execution_count": null,
   "id": "eb486c55",
   "metadata": {},
   "outputs": [],
   "source": [
    "print(\"Training Accuracy Scores:\", training_acc[:3])\n",
    "print(\"testing Accuracy Scores:\", testing_acc[:3])"
   ]
  },
  {
   "cell_type": "code",
   "execution_count": null,
   "id": "518532c9",
   "metadata": {},
   "outputs": [],
   "source": [
    "plt.plot(depth_num , training_acc , label= 'Training')\n",
    "plt.plot(depth_num , testing_acc , label= 'Testing')\n",
    "plt.xlabel('Max_Depth')\n",
    "plt.ylabel('Accuracy_score')\n",
    "plt.legend();"
   ]
  },
  {
   "cell_type": "code",
   "execution_count": null,
   "id": "1038369c",
   "metadata": {},
   "outputs": [],
   "source": [
    "# final model\n",
    "tree_final_model=DecisionTreeClassifier(max_depth=58,random_state=42)\n",
    "tree_final_model.fit(X_train,y_train)\n",
    "tree_training_acc = tree_final_model.score(X_train,y_train)\n",
    "tree_testing_acc = tree_final_model.score(X_test,y_test)\n",
    "print(f\"Training accuracy of DesicionTreeClassifier is {tree_training_acc}\")\n",
    "print(f\"testing accuracy of DesicionTreeClassifier is {tree_testing_acc}\")"
   ]
  },
  {
   "cell_type": "code",
   "execution_count": null,
   "id": "a4e8cab1",
   "metadata": {},
   "outputs": [],
   "source": [
    "conf_matrix(tree_final_model)"
   ]
  },
  {
   "cell_type": "code",
   "execution_count": null,
   "id": "310bb03f",
   "metadata": {},
   "outputs": [],
   "source": [
    "class_report(tree_final_model)"
   ]
  },
  {
   "cell_type": "markdown",
   "id": "9a905eb9",
   "metadata": {},
   "source": [
    "## RandomForestClassifier"
   ]
  },
  {
   "cell_type": "code",
   "execution_count": null,
   "id": "e2a1c104",
   "metadata": {},
   "outputs": [],
   "source": [
    "clf= RandomForestClassifier(random_state=42)\n",
    "params={\n",
    "    \"n_estimators\": range(50,125,25),\n",
    "    \"max_depth\": range(60,81,2)\n",
    "}\n",
    "params"
   ]
  },
  {
   "cell_type": "code",
   "execution_count": null,
   "id": "c9f33f8d",
   "metadata": {},
   "outputs": [],
   "source": [
    "rfc_model = GridSearchCV(\n",
    "    clf,\n",
    "    param_grid= params,\n",
    "    cv= 5,\n",
    "    n_jobs= -1,\n",
    "    verbose=1\n",
    ")"
   ]
  },
  {
   "cell_type": "code",
   "execution_count": null,
   "id": "cf0f2449",
   "metadata": {},
   "outputs": [],
   "source": [
    "rfc_model.fit(X_train,y_train)"
   ]
  },
  {
   "cell_type": "code",
   "execution_count": null,
   "id": "9f9702a5",
   "metadata": {},
   "outputs": [],
   "source": [
    "cv_results= pd.DataFrame(rfc_model.cv_results_)\n",
    "cv_results.sort_values('rank_test_score').head(10)"
   ]
  },
  {
   "cell_type": "code",
   "execution_count": null,
   "id": "211eed4e",
   "metadata": {},
   "outputs": [],
   "source": [
    "rfc_model.best_params_"
   ]
  },
  {
   "cell_type": "code",
   "execution_count": null,
   "id": "4f7d93a2",
   "metadata": {},
   "outputs": [],
   "source": [
    "rfc_model.predict(X_test)"
   ]
  },
  {
   "cell_type": "code",
   "execution_count": null,
   "id": "499d69c7",
   "metadata": {},
   "outputs": [],
   "source": [
    "acc_train = rfc_model.score(X_train , y_train)\n",
    "acc_test = rfc_model.score(X_test , y_test)\n",
    "\n",
    "print(f\"Training accuracy: {round(acc_train , 4)}\")\n",
    "print(f\"test accuracy: {round(acc_test , 4)}\")"
   ]
  },
  {
   "cell_type": "code",
   "execution_count": null,
   "id": "7fa1e768",
   "metadata": {},
   "outputs": [],
   "source": [
    "conf_matrix(rfc_model)"
   ]
  },
  {
   "cell_type": "code",
   "execution_count": null,
   "id": "f2e89f99",
   "metadata": {},
   "outputs": [],
   "source": [
    "class_report(rfc_model)"
   ]
  },
  {
   "cell_type": "code",
   "execution_count": null,
   "id": "e5f5abb8",
   "metadata": {},
   "outputs": [],
   "source": [
    "models = pd.DataFrame({\n",
    "    \n",
    "    \"Models\": [\"Logestic Regression\" , \"SVM\", \"DecisionTreeClassifier\",\"RandomForestClassifier\"],\n",
    "    \"Score\":[model_lr.score(X_test,y_test) ,svc_model.score(X_test,y_test) ,tree_testing_acc,acc_test ]\n",
    "    \n",
    "})\n",
    "models.sort_values(by=\"Score\" , ascending=False)"
   ]
  },
  {
   "cell_type": "code",
   "execution_count": null,
   "id": "088edf83",
   "metadata": {},
   "outputs": [],
   "source": [
    "colors= ['orange' , 'blue','red','green']\n",
    "sns.set_style('whitegrid')\n",
    "plt.figure(figsize=(10,5))\n",
    "sns.barplot(x=models['Models'],y=models['Score'], palette=colors )\n",
    "plt.xlabel(\"Models\")\n",
    "plt.ylabel(\"Score\")\n",
    "plt.title(\"Model Selection\")\n",
    "plt.show();"
   ]
  },
  {
   "cell_type": "markdown",
   "id": "9f933258",
   "metadata": {},
   "source": [
    "## DecisionTreeClassifier got the highest accuracy"
   ]
  },
  {
   "cell_type": "markdown",
   "id": "f8ce9593",
   "metadata": {},
   "source": [
    "## Thanks!"
   ]
  }
 ],
 "metadata": {},
 "nbformat": 4,
 "nbformat_minor": 5
}
