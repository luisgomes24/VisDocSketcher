{
 "cells": [
  {
   "cell_type": "code",
   "execution_count": null,
   "id": "e8a6e137",
   "metadata": {},
   "outputs": [],
   "source": [
    "import pandas as pd \n",
    "import numpy as np\n",
    "import matplotlib.pyplot as plt\n",
    "import seaborn as sns"
   ]
  },
  {
   "cell_type": "code",
   "execution_count": null,
   "id": "9098c4b7",
   "metadata": {},
   "outputs": [],
   "source": [
    "df = pd.read_csv('/kaggle/input/monthly-food-price-estimates/WLD_RTFP_country_2023-10-02.csv')\n",
    "df.head()"
   ]
  },
  {
   "cell_type": "code",
   "execution_count": null,
   "id": "05eff68d",
   "metadata": {},
   "outputs": [],
   "source": [
    "df.tail()"
   ]
  },
  {
   "cell_type": "code",
   "execution_count": null,
   "id": "5b64fb2b",
   "metadata": {},
   "outputs": [],
   "source": [
    "df.info()"
   ]
  },
  {
   "cell_type": "code",
   "execution_count": null,
   "id": "b967298c",
   "metadata": {},
   "outputs": [],
   "source": [
    "\n",
    "\n",
    "df.isnull().sum()"
   ]
  },
  {
   "cell_type": "code",
   "execution_count": null,
   "id": "4bb5f567",
   "metadata": {},
   "outputs": [],
   "source": [
    "mode_open = df['Open'].mode().iloc[0]\n",
    "df['Open'] = df['Open'].fillna(value=mode_open)\n",
    "\n",
    "mode_close = df['Close'].mode().iloc[0]\n",
    "df['Close'] = df['Close'].fillna(value=mode_close)\n",
    "\n",
    "mode_high = df['High'].mode().iloc[0]\n",
    "df['High'] = df['High'].fillna(value=mode_high)\n",
    "\n",
    "mode_low = df['Low'].mode().iloc[0]\n",
    "df['Low'] = df['Low'].fillna(value=mode_low)"
   ]
  },
  {
   "cell_type": "code",
   "execution_count": null,
   "id": "9fbaa753",
   "metadata": {},
   "outputs": [],
   "source": [
    "df.isnull().sum()\n",
    "df['date'] = pd.to_datetime(df['date'])\n",
    "df.set_index('date', inplace=True)\n",
    "df = df.dropna(axis=0)"
   ]
  },
  {
   "cell_type": "code",
   "execution_count": null,
   "id": "682d6e96",
   "metadata": {},
   "outputs": [],
   "source": [
    "\n",
    "\n",
    "plt.figure(figsize=(10, 6))\n",
    "plt.plot(df['Close'], label='Close Value', color='pink')\n",
    "plt.plot(df['High'], label='High Value', color='blue')\n",
    "plt.plot(df['Low'], label='Low Value', color='yellow')\n",
    "plt.plot(df['Open'], label='Open Value', color='purple')\n",
    "plt.title('Time Series Plot of Close Price')\n",
    "plt.xlabel('year')\n",
    "plt.ylabel('Value')\n",
    "plt.legend()\n",
    "plt.grid(True)\n",
    "plt.show()"
   ]
  },
  {
   "cell_type": "code",
   "execution_count": null,
   "id": "27197e12",
   "metadata": {},
   "outputs": [],
   "source": [
    "df.describe()"
   ]
  },
  {
   "cell_type": "code",
   "execution_count": null,
   "id": "d1669979",
   "metadata": {},
   "outputs": [],
   "source": [
    "unique_countries = df['country'].unique()"
   ]
  },
  {
   "cell_type": "code",
   "execution_count": null,
   "id": "f41f7e5d",
   "metadata": {},
   "outputs": [],
   "source": [
    "\n",
    "for country in unique_countries:\n",
    "    country_data = df[df['country'] == country]\n",
    "    \n",
    "    plt.figure(figsize=(10, 6))\n",
    "    plt.plot(country_data['Open'], label='Open Price', color='pink')\n",
    "    plt.plot(country_data['High'], label='High Price', color='blue')\n",
    "    plt.plot(country_data['Low'], label='Low Price', color='yellow')\n",
    "    plt.plot(country_data['Close'], label='Close Price', color='black')\n",
    "    \n",
    "    plt.title(f'Time Series Plot of Price Variations - {country}')\n",
    "    plt.xlabel('Year')\n",
    "    plt.ylabel('Price')\n",
    "    plt.legend()\n",
    "    plt.grid(True)\n",
    "    plt.show()\n",
    "\n",
    "\n",
    "\n",
    "\n",
    "\n",
    "\n",
    "\n",
    "\n"
   ]
  },
  {
   "cell_type": "code",
   "execution_count": null,
   "id": "f9bfefd5",
   "metadata": {},
   "outputs": [],
   "source": [
    "for country in unique_countries:\n",
    "    country_data = df[df['country'] == country]\n",
    "    plt.figure(figsize=(10,6))\n",
    "    plt.plot(country_data['Inflation'], label='Inflation', color='green')\n",
    "    \n",
    "    plt.title(f'Time Series Plot of Inflation in - {country}')\n",
    "    plt.xlabel('Year')\n",
    "    plt.ylabel('Inflation')\n",
    "    plt.legend()\n",
    "    plt.grid(True)\n",
    "    plt.show()"
   ]
  }
 ],
 "metadata": {},
 "nbformat": 4,
 "nbformat_minor": 5
}
