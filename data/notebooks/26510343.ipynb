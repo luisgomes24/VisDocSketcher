{
 "cells": [
  {
   "cell_type": "code",
   "execution_count": null,
   "id": "40564f27",
   "metadata": {},
   "outputs": [],
   "source": [
    "# This Python 3 environment comes with many helpful analytics libraries installed\n",
    "# It is defined by the kaggle/python Docker image: https://github.com/kaggle/docker-python\n",
    "# For example, here's several helpful packages to load\n",
    "\n",
    "import numpy as np # linear algebra\n",
    "import pandas as pd # data processing, CSV file I/O (e.g. pd.read_csv)\n",
    "\n",
    "# Input data files are available in the read-only \"../input/\" directory\n",
    "# For example, running this (by clicking run or pressing Shift+Enter) will list all files under the input directory\n",
    "\n",
    "import os\n",
    "for dirname, _, filenames in os.walk('/kaggle/input'):\n",
    "    for filename in filenames:\n",
    "        print(os.path.join(dirname, filename))\n",
    "\n",
    "# You can write up to 20GB to the current directory (/kaggle/working/) that gets preserved as output when you create a version using \"Save & Run All\" \n",
    "# You can also write temporary files to /kaggle/temp/, but they won't be saved outside of the current session"
   ]
  },
  {
   "cell_type": "markdown",
   "id": "09f5aebc",
   "metadata": {},
   "source": [
    "It isn't a mask, it's just a doormat. \n",
    "\n",
    "![](https://http2.mlstatic.com/D_NQ_NP_631359-MLB44181441120_112020-O.jpg)produto.mercadolivre.com.br"
   ]
  },
  {
   "cell_type": "code",
   "execution_count": null,
   "id": "24a7842e",
   "metadata": {},
   "outputs": [],
   "source": [
    "from fastai.vision.all import *\n",
    "from fastai.vision.widgets import * "
   ]
  },
  {
   "cell_type": "code",
   "execution_count": null,
   "id": "d84b8aae",
   "metadata": {},
   "outputs": [],
   "source": [
    "!cp -r ../input/images-from-star-wars-movies/"
   ]
  },
  {
   "cell_type": "code",
   "execution_count": null,
   "id": "929ccd08",
   "metadata": {},
   "outputs": [],
   "source": [
    "path = Path('./images-from-star-wars-movies')\n",
    "fns = get_image_files(path)\n",
    "failed = verify_images(fns)\n",
    "failed.map(Path.unlink);"
   ]
  },
  {
   "cell_type": "code",
   "execution_count": null,
   "id": "c3089dbf",
   "metadata": {},
   "outputs": [],
   "source": [
    "starwars = DataBlock(\n",
    "    blocks=(ImageBlock, CategoryBlock), \n",
    "    get_items=get_image_files, \n",
    "    splitter=RandomSplitter(valid_pct=0.2, seed=42),\n",
    "    get_y=parent_label,\n",
    "    item_tfms=Resize(224))"
   ]
  },
  {
   "cell_type": "code",
   "execution_count": null,
   "id": "aa49b419",
   "metadata": {},
   "outputs": [],
   "source": [
    "#dls = starwars.dataloaders(path) #Saved for next time since it returned \"'NoneType' object is not iterable\""
   ]
  },
  {
   "cell_type": "code",
   "execution_count": null,
   "id": "9367beab",
   "metadata": {},
   "outputs": [],
   "source": [
    "from fastai.vision.all import *\n",
    "from fastai.imports import *\n",
    "from fastai.vision.data import *\n",
    "from fastai import *\n",
    "import numpy as np\n",
    "import fastai\n",
    "import matplotlib.pyplot as plt"
   ]
  },
  {
   "cell_type": "code",
   "execution_count": null,
   "id": "fd86f9e9",
   "metadata": {},
   "outputs": [],
   "source": [
    "%reload_ext autoreload\n",
    "%autoreload 2\n",
    "%matplotlib inline"
   ]
  },
  {
   "cell_type": "code",
   "execution_count": null,
   "id": "57c11d64",
   "metadata": {},
   "outputs": [],
   "source": [
    "path = Path(\"/kaggle/input/images-from-star-wars-movies\")\n",
    "path.ls()"
   ]
  },
  {
   "cell_type": "code",
   "execution_count": null,
   "id": "990c2fa1",
   "metadata": {},
   "outputs": [],
   "source": [
    "np.random.seed(42)\n",
    "data = ImageDataLoaders.from_folder(path, train=\".\", valid_pct=0.2, item_tfms=RandomResizedCrop(512, min_scale=0.75),\n",
    "                                    bs=32,batch_tfms=[*aug_transforms(size=256, max_warp=0), Normalize.from_stats(*imagenet_stats)],num_workers=0)"
   ]
  },
  {
   "cell_type": "code",
   "execution_count": null,
   "id": "d6a99f9e",
   "metadata": {},
   "outputs": [],
   "source": [
    "data.show_batch(nrows=6, figsize=(7,8))#nrows 3were clumsy overlapping"
   ]
  },
  {
   "cell_type": "code",
   "execution_count": null,
   "id": "00b1ffa3",
   "metadata": {},
   "outputs": [],
   "source": [
    "data.show_batch(nrows=4, figsize=(12,16))#nrows =2 were clumsy/overlapping"
   ]
  },
  {
   "cell_type": "code",
   "execution_count": null,
   "id": "a0ebfdf7",
   "metadata": {},
   "outputs": [],
   "source": [
    "data.show_batch(nrows=5, figsize=(7,8))#nrows 1 clumsy overlapping"
   ]
  },
  {
   "cell_type": "code",
   "execution_count": null,
   "id": "ba8130d2",
   "metadata": {},
   "outputs": [],
   "source": [
    "path2 = Path(\"/kaggle/input/images-from-star-wars-movies/Episode VI - Return of the Jedi\")\n",
    "path2.ls()"
   ]
  },
  {
   "cell_type": "code",
   "execution_count": null,
   "id": "4d2654a6",
   "metadata": {},
   "outputs": [],
   "source": [
    "np.random.seed(42)\n",
    "data2 = ImageDataLoaders.from_folder(path2, train=\".\", valid_pct=0.2, item_tfms=RandomResizedCrop(512, min_scale=0.75),\n",
    "                                    bs=32,batch_tfms=[*aug_transforms(size=256, max_warp=0), Normalize.from_stats(*imagenet_stats)],num_workers=0)"
   ]
  },
  {
   "cell_type": "code",
   "execution_count": null,
   "id": "56fe50fb",
   "metadata": {},
   "outputs": [],
   "source": [
    "data2.show_batch(nrows=5, figsize=(7,8))"
   ]
  },
  {
   "cell_type": "code",
   "execution_count": null,
   "id": "960a57fa",
   "metadata": {},
   "outputs": [],
   "source": [
    "data2.show_batch(nrows=6, figsize=(7,8))#nrows were 2 before clumsy/overlapping"
   ]
  },
  {
   "cell_type": "code",
   "execution_count": null,
   "id": "391ba68e",
   "metadata": {},
   "outputs": [],
   "source": [
    "data2.show_batch(nrows=6, figsize=(7,8))"
   ]
  },
  {
   "cell_type": "code",
   "execution_count": null,
   "id": "d3beeb28",
   "metadata": {},
   "outputs": [],
   "source": [
    "def _add1(x): return x+1\n",
    "dumb_tfm = RandTransform(enc=_add1, p=0.5)\n",
    "start,d1,d2 = 2,False,False\n",
    "for _ in range(40):\n",
    "    t = dumb_tfm(start, split_idx=0)\n",
    "    if dumb_tfm.do: test_eq(t, start+1); d1=True\n",
    "    else:           test_eq(t, start)  ; d2=True\n",
    "assert d1 and d2\n",
    "dumb_tfm"
   ]
  },
  {
   "cell_type": "markdown",
   "id": "0f277658",
   "metadata": {},
   "source": [
    "#Below: That's the Darth Vader funniest image."
   ]
  },
  {
   "cell_type": "code",
   "execution_count": null,
   "id": "9de7da2b",
   "metadata": {},
   "outputs": [],
   "source": [
    "from PIL import Image\n",
    "\n",
    "img = Image.open(\"../input//images-from-star-wars-movies/Episode VII - The Force Awakens/Episode VII - The Force Awakens_69.jpg\")\n",
    "img"
   ]
  },
  {
   "cell_type": "code",
   "execution_count": null,
   "id": "cceed9f0",
   "metadata": {},
   "outputs": [],
   "source": [
    "_,axs = subplots(1,2)\n",
    "show_image(img, ctx=axs[0], title='original')\n",
    "show_image(img.flip_lr(), ctx=axs[1], title='flipped');"
   ]
  },
  {
   "cell_type": "markdown",
   "id": "2d8c2f2c",
   "metadata": {},
   "source": [
    "![](https://pics.me.me/monday-may-the-force-be-with-you-23465972.png)me.me"
   ]
  },
  {
   "cell_type": "markdown",
   "id": "4d687a7c",
   "metadata": {},
   "source": [
    "#Thank you Michal Bogacz, michau96, for this wonderful Dataset."
   ]
  }
 ],
 "metadata": {},
 "nbformat": 4,
 "nbformat_minor": 5
}
