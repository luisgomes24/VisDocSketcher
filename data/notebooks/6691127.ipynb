{
 "cells": [
  {
   "cell_type": "markdown",
   "id": "19d75058",
   "metadata": {},
   "source": [
    "This kernel predict 1 building energy consumption by [Prophet](https://facebook.github.io/prophet/docs/quick_start.html).  \n",
    "There is another prophet kernel: Vopani's [great kernel](https://www.kaggle.com/rohanrao/ashrae-prophet-s-prophecy), but I prepared this kernel for a few days so I will release it.\n"
   ]
  },
  {
   "cell_type": "code",
   "execution_count": null,
   "id": "d55c46a8",
   "metadata": {},
   "outputs": [],
   "source": [
    "import gc\n",
    "import os\n",
    "import sys\n",
    "import time\n",
    "import numpy as np\n",
    "import pandas as pd\n",
    "import feather\n",
    "import pickle\n",
    "\n",
    "from sklearn.model_selection import KFold, TimeSeriesSplit\n",
    "from sklearn.metrics import log_loss, accuracy_score, mean_squared_error\n",
    "import matplotlib.pyplot as plt\n",
    "import seaborn as sns\n",
    "from tqdm import tqdm\n",
    "\n",
    "from fbprophet import Prophet\n",
    "from fbprophet.diagnostics import cross_validation\n",
    "from fbprophet.diagnostics import performance_metrics\n",
    "from fbprophet.plot import plot_cross_validation_metric\n",
    "from fbprophet.plot import add_changepoints_to_plot\n",
    "from fbprophet.plot import plot_plotly\n",
    "from fbprophet.plot import plot_yearly\n",
    "import plotly.offline as py\n",
    "from datetime import date\n",
    "\n",
    "import warnings\n",
    "warnings.filterwarnings('ignore')"
   ]
  },
  {
   "cell_type": "code",
   "execution_count": null,
   "id": "7fa6ae0d",
   "metadata": {},
   "outputs": [],
   "source": [
    "os.listdir('../input/ashrae-energy-prediction')"
   ]
  },
  {
   "cell_type": "markdown",
   "id": "273feb50",
   "metadata": {},
   "source": [
    "## Read Data"
   ]
  },
  {
   "cell_type": "code",
   "execution_count": null,
   "id": "870f56a0",
   "metadata": {},
   "outputs": [],
   "source": [
    "train_ = pd.read_csv('../input/ashrae-energy-prediction/train.csv')\n",
    "test_ = pd.read_csv('../input/ashrae-energy-prediction/test.csv')\n",
    "weather_train_ = pd.read_csv('../input/ashrae-energy-prediction/weather_train.csv')\n",
    "weather_test_ = pd.read_csv('../input/ashrae-energy-prediction/weather_test.csv')\n",
    "metadata = pd.read_csv('../input/ashrae-energy-prediction/building_metadata.csv')"
   ]
  },
  {
   "cell_type": "code",
   "execution_count": null,
   "id": "a6b49e22",
   "metadata": {},
   "outputs": [],
   "source": [
    "# select 1 building\n",
    "building_id = 1085\n",
    "site_id = metadata[metadata['building_id']==building_id]['site_id'].values[0]\n",
    "train = train_[train_['building_id'] == building_id]\n",
    "test = test_[test_['building_id'] == building_id]\n",
    "train['timestamp'] = pd.to_datetime(train['timestamp'])\n",
    "test['timestamp'] = pd.to_datetime(test['timestamp'])\n",
    "train = train[['timestamp', 'meter_reading']].reset_index(drop=True)\n",
    "test = test[['timestamp']].reset_index(drop=True)\n",
    "train.columns = ['ds', 'y']\n",
    "test.columns = ['ds']\n",
    "weather_train = weather_train_[weather_train_['site_id']==site_id].reset_index(drop=True)\n",
    "weather_test = weather_test_[weather_test_['site_id']==site_id].reset_index(drop=True)\n",
    "weather_train['timestamp'] = pd.to_datetime(weather_train['timestamp'])\n",
    "weather_test['timestamp'] = pd.to_datetime(weather_test['timestamp'])"
   ]
  },
  {
   "cell_type": "code",
   "execution_count": null,
   "id": "ad146522",
   "metadata": {},
   "outputs": [],
   "source": [
    "train.head()"
   ]
  },
  {
   "cell_type": "code",
   "execution_count": null,
   "id": "3489cbd4",
   "metadata": {},
   "outputs": [],
   "source": [
    "weather_train.head()"
   ]
  },
  {
   "cell_type": "code",
   "execution_count": null,
   "id": "ee1443f7",
   "metadata": {},
   "outputs": [],
   "source": [
    "train['y'].plot();"
   ]
  },
  {
   "cell_type": "code",
   "execution_count": null,
   "id": "c8c6fb73",
   "metadata": {},
   "outputs": [],
   "source": [
    "n_test = 2000\n",
    "X_train = train[:-n_test]\n",
    "X_valid = train[-n_test:]\n",
    "y_valid = X_valid['y']\n",
    "X_valid = X_valid.drop('y', axis=1)"
   ]
  },
  {
   "cell_type": "markdown",
   "id": "83887ff3",
   "metadata": {},
   "source": [
    "## Prophet"
   ]
  },
  {
   "cell_type": "markdown",
   "id": "255a2d86",
   "metadata": {},
   "source": [
    "Prophet can set holidays and how long effect it is."
   ]
  },
  {
   "cell_type": "code",
   "execution_count": null,
   "id": "68fcd79b",
   "metadata": {},
   "outputs": [],
   "source": [
    "# holidays\n",
    "# thanks to https://www.kaggle.com/rohanrao/ashrae-half-and-half\n",
    "holidays = [\"2016-01-01\", \"2016-01-18\", \"2016-02-15\", \"2016-05-30\", \"2016-07-04\",\n",
    "            \"2016-09-05\", \"2016-10-10\", \"2016-11-11\", \"2016-11-24\", \"2016-12-26\",\n",
    "            \"2017-01-01\", \"2017-01-16\", \"2017-02-20\", \"2017-05-29\", \"2017-07-04\",\n",
    "            \"2017-09-04\", \"2017-10-09\", \"2017-11-10\", \"2017-11-23\", \"2017-12-25\",\n",
    "            \"2018-01-01\", \"2018-01-15\", \"2018-02-19\", \"2018-05-28\", \"2018-07-04\",\n",
    "            \"2018-09-03\", \"2018-10-08\", \"2018-11-12\", \"2018-11-22\", \"2018-12-25\",\n",
    "            \"2019-01-01\"]\n",
    "holidays = pd.DataFrame({\n",
    "  'holiday': 'holiday',\n",
    "  'ds': pd.to_datetime(holidays),\n",
    "  'lower_window': 0,\n",
    "  'upper_window': 0,\n",
    "})\n",
    "# Black Friday\n",
    "holidays.loc[holidays['ds'] == pd.to_datetime('2016-11-24'), 'upper_window'] = 1\n",
    "holidays.loc[holidays['ds'] == pd.to_datetime('2017-11-23'), 'upper_window'] = 1\n",
    "holidays.loc[holidays['ds'] == pd.to_datetime('2018-11-22'), 'upper_window'] = 1"
   ]
  },
  {
   "cell_type": "code",
   "execution_count": null,
   "id": "01b2c111",
   "metadata": {},
   "outputs": [],
   "source": [
    "params_prophet = {\n",
    "    'growth': 'logistic', # Prophet allows you to make forecasts using a logistic growth trend model\n",
    "    'changepoint_prior_scale' :0.03, # trend flexibility default 0.05\n",
    "    'holidays': holidays\n",
    "}"
   ]
  },
  {
   "cell_type": "code",
   "execution_count": null,
   "id": "1d6883d5",
   "metadata": {},
   "outputs": [],
   "source": [
    "X_train['floor'] = X_train['y'].min()\n",
    "X_train['cap'] = X_train['y'].max()"
   ]
  },
  {
   "cell_type": "code",
   "execution_count": null,
   "id": "501d11aa",
   "metadata": {},
   "outputs": [],
   "source": [
    "X_train"
   ]
  },
  {
   "cell_type": "markdown",
   "id": "f0866aef",
   "metadata": {},
   "source": [
    "## Plane Model"
   ]
  },
  {
   "cell_type": "code",
   "execution_count": null,
   "id": "1e127992",
   "metadata": {},
   "outputs": [],
   "source": [
    "m = Prophet(**params_prophet)\n",
    "m.fit(X_train)"
   ]
  },
  {
   "cell_type": "code",
   "execution_count": null,
   "id": "5612bdb6",
   "metadata": {},
   "outputs": [],
   "source": [
    "#future = m.make_future_dataframe(periods=365*24, freq='H')\n",
    "future = pd.concat([X_train[['ds']], X_valid])\n",
    "future['floor'] = X_train['y'].min()\n",
    "future['cap'] = X_train['y'].max()\n",
    "fcst = m.predict(future)\n",
    "fig = m.plot(fcst)"
   ]
  },
  {
   "cell_type": "code",
   "execution_count": null,
   "id": "b2da7eec",
   "metadata": {},
   "outputs": [],
   "source": [
    "fig = m.plot(fcst)\n",
    "a = add_changepoints_to_plot(fig.gca(), m, fcst)"
   ]
  },
  {
   "cell_type": "markdown",
   "id": "022899c0",
   "metadata": {},
   "source": [
    "Prophet predict linear trend, because have only one year data. We cannot capture seasoneal trends."
   ]
  },
  {
   "cell_type": "code",
   "execution_count": null,
   "id": "c7781cbb",
   "metadata": {},
   "outputs": [],
   "source": [
    "fig = m.plot_components(fcst)"
   ]
  },
  {
   "cell_type": "markdown",
   "id": "4292500f",
   "metadata": {},
   "source": [
    "## Add exogenous features"
   ]
  },
  {
   "cell_type": "markdown",
   "id": "f63502a9",
   "metadata": {},
   "source": [
    "In this competition we can use some features, thus we add some features to model as exogenous features."
   ]
  },
  {
   "cell_type": "code",
   "execution_count": null,
   "id": "46aa90f8",
   "metadata": {},
   "outputs": [],
   "source": [
    "weather_train = weather_train.fillna(0)\n",
    "X_train = pd.merge(X_train, weather_train.drop('site_id', axis=1), left_on = 'ds', right_on = 'timestamp').drop('timestamp', axis=1)\n",
    "future = pd.merge(future, weather_train.drop('site_id', axis=1), left_on = 'ds', right_on = 'timestamp').drop('timestamp', axis=1)\n",
    "X_train.head()"
   ]
  },
  {
   "cell_type": "code",
   "execution_count": null,
   "id": "69ec1848",
   "metadata": {},
   "outputs": [],
   "source": [
    "cols = ['air_temperature', 'cloud_coverage','dew_temperature', 'precip_depth_1_hr', 'sea_level_pressure', 'wind_direction', 'wind_speed']\n",
    "m = Prophet(**params_prophet)\n",
    "for col in cols:\n",
    "    m.add_regressor(col)\n",
    "m.fit(X_train)"
   ]
  },
  {
   "cell_type": "code",
   "execution_count": null,
   "id": "c52f1e99",
   "metadata": {},
   "outputs": [],
   "source": [
    "fcst = m.predict(future)\n",
    "fig = m.plot(fcst)"
   ]
  },
  {
   "cell_type": "markdown",
   "id": "6de5fc0c",
   "metadata": {},
   "source": [
    "## Predict test data"
   ]
  },
  {
   "cell_type": "code",
   "execution_count": null,
   "id": "56aa61f2",
   "metadata": {},
   "outputs": [],
   "source": [
    "weather_test = weather_test.fillna(0)\n",
    "test['floor'] = X_train['y'].min()\n",
    "test['cap'] = X_train['y'].max()\n",
    "X_test = pd.merge(test, weather_test.drop('site_id', axis=1), left_on = 'ds', right_on = 'timestamp').drop('timestamp', axis=1)\n",
    "X_test.head()"
   ]
  },
  {
   "cell_type": "code",
   "execution_count": null,
   "id": "68598d1c",
   "metadata": {},
   "outputs": [],
   "source": [
    "fcst = m.predict(X_test)\n",
    "preds = fcst.yhat"
   ]
  },
  {
   "cell_type": "code",
   "execution_count": null,
   "id": "b196b64c",
   "metadata": {},
   "outputs": [],
   "source": [
    "preds.plot();"
   ]
  }
 ],
 "metadata": {},
 "nbformat": 4,
 "nbformat_minor": 5
}
