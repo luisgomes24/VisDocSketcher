{
 "cells": [
  {
   "cell_type": "code",
   "execution_count": null,
   "id": "89e90aa9",
   "metadata": {},
   "outputs": [],
   "source": [
    "# This Python 3 environment comes with many helpful analytics libraries installed\n",
    "# It is defined by the kaggle/python Docker image: https://github.com/kaggle/docker-python\n",
    "# For example, here's several helpful packages to load\n",
    "\n",
    "import numpy as np # linear algebra\n",
    "import pandas as pd # data processing, CSV file I/O (e.g. pd.read_csv)\n",
    "import matplotlib.pyplot as plt\n",
    "import seaborn as sns\n",
    "\n",
    "# Input data files are available in the read-only \"../input/\" directory\n",
    "# For example, running this (by clicking run or pressing Shift+Enter) will list all files under the input directory\n",
    "\n",
    "import os\n",
    "for dirname, _, filenames in os.walk('/kaggle/input'):\n",
    "    for filename in filenames:\n",
    "        print(os.path.join(dirname, filename))\n",
    "\n",
    "# You can write up to 20GB to the current directory (/kaggle/working/) that gets preserved as output when you create a version using \"Save & Run All\" \n",
    "# You can also write temporary files to /kaggle/temp/, but they won't be saved outside of the current session"
   ]
  },
  {
   "cell_type": "markdown",
   "id": "a9cb87c3",
   "metadata": {},
   "source": [
    "# Importing Dataset\n",
    "Height of Male and Female by Country 2022\n",
    "Average Height of Male and Female by Country"
   ]
  },
  {
   "cell_type": "code",
   "execution_count": null,
   "id": "583fd2ee",
   "metadata": {},
   "outputs": [],
   "source": [
    "df=pd.read_csv(\"../input/height-of-male-and-female-by-country-2022/Height of Male and Female by Country 2022.csv\")\n",
    "df.columns"
   ]
  },
  {
   "cell_type": "markdown",
   "id": "e3acd851",
   "metadata": {},
   "source": [
    "# What is a scatter plot?\n",
    "A scatter plot (Chambers 1983) reveals relationships or association between two variables. The relationship between two variables is called correlation. A scatter plot usually consists of a large body of data. The closer the data points come when plotted to making a straight line, the higher the correlation between the two variables, or the stronger the relationship. If the data points make a straight line going from the origin out to high x- and y-values, then the variables are said to have a positive correlation. If the line goes from a high-value on the y-axis down to a high-value on the x-axis, the variables have a negative correlation."
   ]
  },
  {
   "cell_type": "markdown",
   "id": "2326e6bc",
   "metadata": {},
   "source": [
    "# When to use scatter plot?\n",
    "A scatter chart works best when comparing large numbers of data points without regard to time. This is a very powerful type of chart and good when your are trying to show the relationship between two variables (x and y axis)<br>\n",
    "For example: Plotting a scatter plot of **Male Height in Cm & Female Height in Cm**"
   ]
  },
  {
   "cell_type": "markdown",
   "id": "414e1a74",
   "metadata": {},
   "source": [
    "# Types of Corelation\n",
    "There are generally three types of correlation to look for:\n",
    "\n",
    "Positive - This is when the variables move in the same direction. As one variable increases so does the other. Height and shoe size as an example are positively correlated.\n",
    "Negative - This is when the variables move in opposite directions. As one variable increases, the other decreases. Time spent studying and time spent on playing games as an example are negatively correlated.\n",
    "No correlation - There is when there is no apparent relationship between the variables. Video game scores and yearly salary as an example will appear to have no correlation; as one increases, the other has no effect."
   ]
  },
  {
   "cell_type": "markdown",
   "id": "036961f2",
   "metadata": {},
   "source": [
    "![](https://www.evl.uic.edu/cavern/multiperspective/Continuum/Training/scatter0.gif)\n",
    "**No relationship**: If there is absolutely no correlation present the value given is 0.\n"
   ]
  },
  {
   "cell_type": "markdown",
   "id": "79f3735c",
   "metadata": {},
   "source": [
    "**Perfect linear correlation:** A perfect positive correlation is given the value of 1. A perfect negative correlation is given the value of -1.<br>\n",
    "![](https://www.evl.uic.edu/cavern/multiperspective/Continuum/Training/scatter1.gif)\n",
    "![](https://www.evl.uic.edu/cavern/multiperspective/Continuum/Training/scatter2.gif)\n"
   ]
  },
  {
   "cell_type": "markdown",
   "id": "56302ca1",
   "metadata": {},
   "source": [
    "![](https://chartio.com/assets/5689fd/tutorials/charts/scatter-plots/a9b8dd5dc2057a70446e5aa32f32b49d54b55f5cabf17a4610e2da94bea7fed5/scatter-plot-example-2.png)"
   ]
  },
  {
   "cell_type": "code",
   "execution_count": null,
   "id": "8c15db3a",
   "metadata": {},
   "outputs": [],
   "source": [
    "plt.scatter(x=df[\"Male Height in Cm\"],y=df[\"Female Height in Cm\"])"
   ]
  },
  {
   "cell_type": "code",
   "execution_count": null,
   "id": "038f99bc",
   "metadata": {},
   "outputs": [],
   "source": [
    "plt.scatter(x=df[\"Male Height in Ft\"],y=df[\"Female Height in Ft\"])"
   ]
  },
  {
   "cell_type": "code",
   "execution_count": null,
   "id": "dd4ad4c9",
   "metadata": {},
   "outputs": [],
   "source": [
    "df"
   ]
  },
  {
   "cell_type": "code",
   "execution_count": null,
   "id": "db69728a",
   "metadata": {},
   "outputs": [],
   "source": [
    "df2=pd.read_csv(\"../input/chennai-house-price/clean_data.csv\")"
   ]
  },
  {
   "cell_type": "code",
   "execution_count": null,
   "id": "19269c14",
   "metadata": {},
   "outputs": [],
   "source": [
    "from matplotlib.pyplot import figure\n",
    "\n",
    "figure(figsize=(21,6), dpi=80)\n",
    "plt.scatter(x=df2[\"location\"],y=df2[\"price\"])\n",
    "plt.xticks(rotation=90)\n",
    "plt.show()"
   ]
  },
  {
   "cell_type": "code",
   "execution_count": null,
   "id": "713fd7ad",
   "metadata": {},
   "outputs": [],
   "source": [
    "df3=df2.iloc[:100,:]"
   ]
  },
  {
   "cell_type": "code",
   "execution_count": null,
   "id": "e9e17df3",
   "metadata": {},
   "outputs": [],
   "source": [
    "df3.info()"
   ]
  },
  {
   "cell_type": "code",
   "execution_count": null,
   "id": "3af4d4ad",
   "metadata": {},
   "outputs": [],
   "source": [
    "plt.scatter(x=df3[\"location\"],y=df3[\"price\"])"
   ]
  },
  {
   "cell_type": "markdown",
   "id": "193b612b",
   "metadata": {},
   "source": [
    "# Common issues when using scatter plots\n",
    "\n",
    "\n",
    "* Overplotting <br>\n",
    "When we have lots of data points to plot, this can run into the issue of overplotting. Overplotting is the case where data points overlap to a degree where we have difficulty seeing relationships between points and variables. It can be difficult to tell how densely-packed data points are when many of them are in a small area.<br>\n",
    "\n",
    "**Solution:**<br>\n",
    "There are a few common ways to alleviate this issue. One alternative is to sample only a subset of data points: a random selection of points should still give the general idea of the patterns in the full data. We can also change the form of the dots, adding transparency to allow for overlaps to be visible, or reducing point size so that fewer overlaps occur. As a third option, we might even choose a different chart type like the heatmap, where color indicates the number of points in each bin. Heatmaps in this use case are also known as 2-d histograms.<br>\n",
    "![](https://chartio.com/assets/4ef321/tutorials/charts/scatter-plots/259d28ba540177cc423fd3eeb92519b3c2a4b773e6d3c7294a4bf7a4ceedae3c/scatter-plot-common-issues-1.png)\n",
    "\n",
    "\n",
    "* Interpreting correlation as causation <br>\n",
    "This is not so much an issue with creating a scatter plot as it is an issue with its interpretation. Simply because we observe a relationship between two variables in a scatter plot, it does not mean that changes in one variable are responsible for changes in the other. This gives rise to the common phrase in statistics that correlation does not imply causation. It is possible that the observed relationship is driven by some third variable that affects both of the plotted variables, that the causal link is reversed, or that the pattern is simply coincidental."
   ]
  },
  {
   "cell_type": "markdown",
   "id": "0be192af",
   "metadata": {},
   "source": [
    "# Applications of Scatter Plot\n",
    "Analysis of a scatter plot helps us understand the following aspects of the data.\n",
    "\n",
    "The different levels of correlation among the data points are useful to understand the relationship within the data.\n",
    "A line of best fit can be drawn for the given data and used to further predict new data values.\n",
    "The data points lying outside the given set of data can be easily identified to find the outliers.\n",
    "The grouping of data points in a scatter plot can be identified as different clusters within the data."
   ]
  },
  {
   "cell_type": "markdown",
   "id": "17e1757a",
   "metadata": {},
   "source": [
    "# Interview questions related to Pair Plot\n",
    "\n",
    "**Q. What is a scatter plot? For what type of data is scatter plot usually used for?**\n",
    "\n",
    "A scatter plot is a chart used to plot a correlation between two or more variables at the same time. It’s usually used for numeric data.\n",
    "\n",
    "\n",
    "\n",
    "**Q. What features might be visible in scatterplots?**\n",
    "\n",
    "Correlation: the two variables might have a relationship, for example, one might depend on another. But this is not the same as causation.\n",
    "Associations: the variables may be associated with one another.\n",
    "Outliers: there could be cases where the data in two dimensions does not follow the general pattern.\n",
    "Clusters: sometimes there could be groups of data that form a cluster on the plot.\n",
    "Gaps: some combinations of values might not exist in a particular case.\n",
    "Barriers: boundaries.\n",
    "Conditional relationships: some relationship between the variables rely on a condition to be met.\n",
    "\n",
    "\n",
    "**Q. What type of plot would you use if you need to demonstrate “relationship” between variables/parameters?**\n",
    "\n",
    "When we are trying to show the relationship between 2 variables, scatter plots or charts are used. When we are trying to show “relationship” between three variables, bubble charts are used.\n",
    "\n"
   ]
  }
 ],
 "metadata": {},
 "nbformat": 4,
 "nbformat_minor": 5
}
