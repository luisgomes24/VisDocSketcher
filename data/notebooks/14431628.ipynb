{
 "cells": [
  {
   "cell_type": "markdown",
   "id": "8b017d9e",
   "metadata": {},
   "source": [
    "# Importing important libraries"
   ]
  },
  {
   "cell_type": "code",
   "execution_count": null,
   "id": "fedb0a9c",
   "metadata": {},
   "outputs": [],
   "source": [
    "import numpy as np\n",
    "import pandas as pd\n",
    "import matplotlib.pyplot as plt\n",
    "import tensorflow as tf\n",
    "import keras\n",
    "from keras.preprocessing import image\n",
    "from keras.models import Sequential\n",
    "from keras.layers import Conv2D, MaxPool2D, Flatten, Dense, Dropout, BatchNormalization, Input, GlobalAveragePooling2D\n",
    "from keras.utils.vis_utils import plot_model\n",
    "from keras.callbacks import ModelCheckpoint,EarlyStopping,ReduceLROnPlateau\n",
    "from tensorflow.keras.layers.experimental import preprocessing\n",
    "from tensorflow.keras.applications import InceptionResNetV2\n",
    "\n",
    "\n",
    "import os\n",
    "for dirname, _, filenames in os.walk('/kaggle/input'):\n",
    "    for filename in filenames:\n",
    "        print(os.path.join(dirname, filename))"
   ]
  },
  {
   "cell_type": "code",
   "execution_count": null,
   "id": "eaf320ce",
   "metadata": {},
   "outputs": [],
   "source": [
    "print(\"Num GPUs Available: \", len(tf.config.experimental.list_physical_devices('GPU')))"
   ]
  },
  {
   "cell_type": "code",
   "execution_count": null,
   "id": "553f3b22",
   "metadata": {},
   "outputs": [],
   "source": [
    "train = pd.read_csv(\"/kaggle/input/cassava-leaf-disease-classification/train.csv\")\n",
    "train['label'] = train['label'].astype('string')\n",
    "train.head()"
   ]
  },
  {
   "cell_type": "code",
   "execution_count": null,
   "id": "4b8ec1e9",
   "metadata": {},
   "outputs": [],
   "source": [
    "diseases = pd.read_json(\"/kaggle/input/cassava-leaf-disease-classification/label_num_to_disease_map.json\", typ='series')\n",
    "diseases"
   ]
  },
  {
   "cell_type": "code",
   "execution_count": null,
   "id": "fe73fd18",
   "metadata": {},
   "outputs": [],
   "source": [
    "train['label'].value_counts(normalize=True)"
   ]
  },
  {
   "cell_type": "code",
   "execution_count": null,
   "id": "a4eb24d2",
   "metadata": {},
   "outputs": [],
   "source": [
    "IMG_SIZE = 320"
   ]
  },
  {
   "cell_type": "markdown",
   "id": "53f4339b",
   "metadata": {},
   "source": [
    "# Data Augmentation"
   ]
  },
  {
   "cell_type": "code",
   "execution_count": null,
   "id": "8ae7f08d",
   "metadata": {},
   "outputs": [],
   "source": [
    "datagen = image.ImageDataGenerator(rotation_range=360, width_shift_range=0.1,\n",
    "                                   height_shift_range=0.1, brightness_range=[0.2,1.5],\n",
    "                                   shear_range=25, zoom_range=0.3,\n",
    "                                   channel_shift_range=0.1, horizontal_flip=True,\n",
    "                                   vertical_flip=True, rescale=1/255,\n",
    "                                   validation_split=0.15)\n",
    "\n",
    "val_datagen = image.ImageDataGenerator(rescale=1/255, validation_split = 0.15)"
   ]
  },
  {
   "cell_type": "code",
   "execution_count": null,
   "id": "8a18d8f0",
   "metadata": {},
   "outputs": [],
   "source": [
    "train_generator = datagen.flow_from_dataframe(\n",
    "    dataframe=train,\n",
    "    directory=\"/kaggle/input/cassava-leaf-disease-classification/train_images\",\n",
    "    x_col='image_id',\n",
    "    y_col='label',\n",
    "    target_size=(IMG_SIZE, IMG_SIZE),\n",
    "    batch_size=32,\n",
    "    subset='training',\n",
    "    shuffle = True,\n",
    "    class_mode='categorical'\n",
    ")\n",
    "\n",
    "val_generator = val_datagen.flow_from_dataframe(\n",
    "    dataframe=train,\n",
    "    directory=\"/kaggle/input/cassava-leaf-disease-classification/train_images\",\n",
    "    x_col='image_id',\n",
    "    y_col='label',\n",
    "    target_size=(IMG_SIZE, IMG_SIZE),\n",
    "    batch_size=32,\n",
    "    subset='validation',\n",
    "    class_mode = 'categorical',\n",
    "    shuffle = True\n",
    ")"
   ]
  },
  {
   "cell_type": "code",
   "execution_count": null,
   "id": "59282c1a",
   "metadata": {},
   "outputs": [],
   "source": [
    "train_imgs, labels = next(train_generator)\n",
    "print(train_imgs.shape)"
   ]
  },
  {
   "cell_type": "code",
   "execution_count": null,
   "id": "f3c9cd29",
   "metadata": {},
   "outputs": [],
   "source": [
    "plt.figure(figsize=(20,10))\n",
    "for i in range(25):\n",
    "    plt.subplot(5,5,i+1)\n",
    "    plt.xticks([])\n",
    "    plt.yticks([])\n",
    "    plt.grid(False)\n",
    "    plt.imshow(train_imgs[i])\n",
    "    label1 = np.argmax(labels[i])\n",
    "    plt.xlabel(diseases.get(label1))\n",
    "plt.show()"
   ]
  },
  {
   "cell_type": "markdown",
   "id": "8e68f3a4",
   "metadata": {},
   "source": [
    "# Model"
   ]
  },
  {
   "cell_type": "code",
   "execution_count": null,
   "id": "da65d4a9",
   "metadata": {},
   "outputs": [],
   "source": [
    "model = tf.keras.Sequential()\n",
    "model.add(InceptionResNetV2(include_top=False,\n",
    "                            weights='../input/keras-pretrained-models/inception_resnet_v2_weights_tf_dim_ordering_tf_kernels_notop.h5',\n",
    "                            input_shape=[IMG_SIZE,IMG_SIZE,3]))\n",
    "model.add(BatchNormalization(axis=-1))\n",
    "model.add(GlobalAveragePooling2D())\n",
    "model.add(Dense(5, activation='softmax'))\n",
    "\n",
    "model.compile(loss=tf.keras.losses.CategoricalCrossentropy(),\n",
    "              optimizer=tf.keras.optimizers.Adamax(learning_rate=0.01),\n",
    "              metrics=['accuracy'])\n",
    "model.summary()"
   ]
  },
  {
   "cell_type": "code",
   "execution_count": null,
   "id": "e3d18bc3",
   "metadata": {},
   "outputs": [],
   "source": [
    "plot_model(model, to_file='model.png', show_shapes=True, show_layer_names=True)"
   ]
  },
  {
   "cell_type": "code",
   "execution_count": null,
   "id": "af123e6f",
   "metadata": {},
   "outputs": [],
   "source": [
    "model_save = ModelCheckpoint(\"Model\", \n",
    "                             save_best_only = True, \n",
    "                             save_weights_only = True,\n",
    "                             monitor = 'val_loss', \n",
    "                             mode = 'min', verbose = 1)\n",
    "early_stop = EarlyStopping(monitor = 'val_loss', min_delta = 0.001, \n",
    "                           patience = 5, mode = 'min', verbose = 1,\n",
    "                           restore_best_weights = True)\n",
    "reduce_lr = ReduceLROnPlateau(monitor = 'val_loss', factor = 0.3, \n",
    "                              patience = 2, min_delta = 0.001, \n",
    "                              mode = 'min', verbose = 1)"
   ]
  },
  {
   "cell_type": "markdown",
   "id": "24ebfedd",
   "metadata": {},
   "source": [
    "# Training the Model"
   ]
  },
  {
   "cell_type": "code",
   "execution_count": null,
   "id": "4f7a52c0",
   "metadata": {},
   "outputs": [],
   "source": [
    "history = model.fit_generator(train_generator, steps_per_epoch=17118//32,\n",
    "                              epochs=25, validation_data=val_generator,\n",
    "                              validation_steps = 4279//32, verbose = 1,\n",
    "                              callbacks = [model_save, early_stop, reduce_lr])"
   ]
  },
  {
   "cell_type": "code",
   "execution_count": null,
   "id": "34940e7f",
   "metadata": {},
   "outputs": [],
   "source": [
    "model_history = history.history\n",
    "loss_accuracy_train = model.evaluate(train_generator)\n",
    "print(\"Training Loss: {:.4f}\".format(loss_accuracy_train[0]))\n",
    "print(\"Training Accuracy: {:.2%}\".format(loss_accuracy_train[1]))\n",
    "loss_accuracy = model.evaluate(val_generator)\n",
    "print(\"Validation Loss: {:.4f}\".format(loss_accuracy[0]))\n",
    "print(\"Validation Accuracy: {:.2%}\".format(loss_accuracy[1]))"
   ]
  },
  {
   "cell_type": "code",
   "execution_count": null,
   "id": "2ce64091",
   "metadata": {},
   "outputs": [],
   "source": [
    "fig , ax = plt.subplots(1,2)\n",
    "train_acc = history.history['accuracy']\n",
    "train_loss = history.history['loss']\n",
    "fig.set_size_inches(12,4)\n",
    "\n",
    "ax[0].plot(history.history['accuracy'])\n",
    "ax[0].plot(history.history['val_accuracy'])\n",
    "ax[0].set_title('Training Accuracy vs Validation Accuracy')\n",
    "ax[0].set_ylabel('Accuracy')\n",
    "ax[0].set_xlabel('Epoch')\n",
    "ax[0].legend(['Train', 'Validation'], loc='upper left')\n",
    "\n",
    "ax[1].plot(history.history['loss'])\n",
    "ax[1].plot(history.history['val_loss'])\n",
    "ax[1].set_title('Training Loss vs Validation Loss')\n",
    "ax[1].set_ylabel('Loss')\n",
    "ax[1].set_xlabel('Epoch')\n",
    "ax[1].legend(['Train', 'Validation'], loc='upper left')\n",
    "\n",
    "plt.show()"
   ]
  },
  {
   "cell_type": "markdown",
   "id": "1585dd2c",
   "metadata": {},
   "source": [
    "# Prediction"
   ]
  },
  {
   "cell_type": "code",
   "execution_count": null,
   "id": "1d9e0276",
   "metadata": {},
   "outputs": [],
   "source": [
    "preds = []\n",
    "ss = pd.read_csv('../input/cassava-leaf-disease-classification/sample_submission.csv')\n",
    "\n",
    "for image in ss.image_id:\n",
    "    img = tf.keras.preprocessing.image.load_img('../input/cassava-leaf-disease-classification/test_images/' + image)\n",
    "    img = tf.keras.preprocessing.image.img_to_array(img)\n",
    "    img = tf.keras.preprocessing.image.smart_resize(img, (IMG_SIZE, IMG_SIZE))\n",
    "    img = tf.reshape(img, (-1, IMG_SIZE, IMG_SIZE, 3))\n",
    "    prediction = model.predict(img/255)\n",
    "    preds.append(np.argmax(prediction))\n",
    "\n",
    "submission = pd.DataFrame({'image_id': ss.image_id, 'label': preds})\n",
    "submission"
   ]
  },
  {
   "cell_type": "code",
   "execution_count": null,
   "id": "163ca16b",
   "metadata": {},
   "outputs": [],
   "source": [
    "submission.to_csv('submission.csv', index = False)"
   ]
  }
 ],
 "metadata": {},
 "nbformat": 4,
 "nbformat_minor": 5
}
