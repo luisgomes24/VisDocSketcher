{
 "cells": [
  {
   "cell_type": "markdown",
   "id": "c9607c3e",
   "metadata": {},
   "source": [
    "## Import required libraries "
   ]
  },
  {
   "cell_type": "code",
   "execution_count": null,
   "id": "495c18a0",
   "metadata": {},
   "outputs": [],
   "source": [
    "import matplotlib.pyplot as plt\n",
    "import numpy as np\n",
    "import pandas as pd\n",
    "import seaborn as sns\n",
    "import warnings\n",
    "warnings.simplefilter(action='ignore', category=Warning)"
   ]
  },
  {
   "cell_type": "markdown",
   "id": "753ef73f",
   "metadata": {},
   "source": [
    "## Loading Dataset"
   ]
  },
  {
   "cell_type": "markdown",
   "id": "cbcb10dd",
   "metadata": {},
   "source": [
    "Dataset link:- https://cainvas-static.s3.amazonaws.com/media/user_data/shyamalkrish/archive_10.zip"
   ]
  },
  {
   "cell_type": "markdown",
   "id": "7ecd8219",
   "metadata": {},
   "source": [
    "medium link :- https://medium.com/@shyamalkrishnaagrawal1812/breast-cancer-classification-7ebce56e441c"
   ]
  },
  {
   "cell_type": "code",
   "execution_count": null,
   "id": "5b7e1d19",
   "metadata": {},
   "outputs": [],
   "source": [
    "dataset = pd.read_csv('../input/breast-cancer-wisconsin-data/data.csv')"
   ]
  },
  {
   "cell_type": "markdown",
   "id": "82d4cdc9",
   "metadata": {},
   "source": [
    "## Exploratory Data Analysis"
   ]
  },
  {
   "cell_type": "code",
   "execution_count": null,
   "id": "1d6d3cea",
   "metadata": {},
   "outputs": [],
   "source": [
    "dataset.head()"
   ]
  },
  {
   "cell_type": "code",
   "execution_count": null,
   "id": "8124517f",
   "metadata": {},
   "outputs": [],
   "source": [
    "dataset = dataset.drop('Unnamed: 32', axis =1)"
   ]
  },
  {
   "cell_type": "code",
   "execution_count": null,
   "id": "d6e41927",
   "metadata": {},
   "outputs": [],
   "source": [
    "dataset.describe()"
   ]
  },
  {
   "cell_type": "code",
   "execution_count": null,
   "id": "da13bef6",
   "metadata": {},
   "outputs": [],
   "source": [
    "dataset.isnull().values.any()"
   ]
  },
  {
   "cell_type": "code",
   "execution_count": null,
   "id": "16ac49b0",
   "metadata": {},
   "outputs": [],
   "source": [
    "dataset.isnull().values.sum()"
   ]
  },
  {
   "cell_type": "code",
   "execution_count": null,
   "id": "01beb0ce",
   "metadata": {},
   "outputs": [],
   "source": [
    "dataset.isnull().sum()"
   ]
  },
  {
   "cell_type": "code",
   "execution_count": null,
   "id": "b1d6835e",
   "metadata": {},
   "outputs": [],
   "source": [
    "dataset.shape"
   ]
  },
  {
   "cell_type": "markdown",
   "id": "6a428bc2",
   "metadata": {},
   "source": [
    "#### Dataset have 569 rows and 32 Columns"
   ]
  },
  {
   "cell_type": "code",
   "execution_count": null,
   "id": "aa23ed5a",
   "metadata": {},
   "outputs": [],
   "source": [
    "dataset['diagnosis'].agg(['count', 'size', 'nunique'])"
   ]
  },
  {
   "cell_type": "code",
   "execution_count": null,
   "id": "2cec12b1",
   "metadata": {},
   "outputs": [],
   "source": [
    "pd.value_counts(dataset['diagnosis'])"
   ]
  },
  {
   "cell_type": "code",
   "execution_count": null,
   "id": "62b18ef7",
   "metadata": {},
   "outputs": [],
   "source": [
    "sns.set_style('whitegrid')\n",
    "plt.figure(figsize=(12, 6))\n",
    "sns.countplot(x=\"diagnosis\", data=dataset, palette='magma');"
   ]
  },
  {
   "cell_type": "markdown",
   "id": "2e86e146",
   "metadata": {},
   "source": [
    "#### Diagnosis Column have 2 unique values Malignant(M) and Benign(B) having count of 212 and 357 respectively."
   ]
  },
  {
   "cell_type": "code",
   "execution_count": null,
   "id": "47794453",
   "metadata": {},
   "outputs": [],
   "source": [
    "plt.figure(figsize=(20, 17))\n",
    "matrix = np.triu(dataset.corr())\n",
    "sns.heatmap(dataset.corr(), annot=True, linewidth=.8, mask=matrix, cmap=\"rocket\");\n"
   ]
  },
  {
   "cell_type": "markdown",
   "id": "46491e1d",
   "metadata": {},
   "source": [
    "As we can observe from the heatmaps that there are many negative correlations in this dataset. Lets observe these by plotting it out.\n",
    "\n",
    "Negative Correlations\n",
    "The column 'fractal_dimension_mean' had many negative correlations with many other attributes like 'area_mean', 'area_worst' etc. We'll plot some scatter plots for these.\n",
    "\n",
    "Fractal analysis of images of breast tissue specimens provides a numeric description of tumour growth patterns as a continuous number between 1 and 2. This number is known as the Fractal Dimension"
   ]
  },
  {
   "cell_type": "code",
   "execution_count": null,
   "id": "d9088f4c",
   "metadata": {},
   "outputs": [],
   "source": [
    "fig, ax = plt.subplots(2, 2, figsize=(15, 15))\n",
    "sns.scatterplot(x='fractal_dimension_mean', y='area_mean', hue=\"diagnosis\",\n",
    "                data=dataset, ax=ax[0][0], palette='magma')\n",
    "sns.scatterplot(x='fractal_dimension_worst', y='area_worst', hue=\"diagnosis\",\n",
    "                data=dataset, ax=ax[0][1], palette='magma')\n",
    "sns.scatterplot(x='smoothness_se', y='radius_worst', hue=\"diagnosis\",\n",
    "                data=dataset, ax=ax[1][0], palette='magma')\n",
    "sns.scatterplot(x='symmetry_se', y='radius_worst', hue=\"diagnosis\",\n",
    "                data=dataset, ax=ax[1][1], palette='magma');\n"
   ]
  },
  {
   "cell_type": "code",
   "execution_count": null,
   "id": "05290328",
   "metadata": {},
   "outputs": [],
   "source": [
    "# Creating a list of columns with only the columns that represent the mean.\n",
    "mean_columns = ['diagnosis', 'radius_mean', 'texture_mean', 'perimeter_mean',\n",
    "             'area_mean', 'smoothness_mean', 'compactness_mean', 'concavity_mean',\n",
    "             'concave points_mean', 'symmetry_mean', 'fractal_dimension_mean']\n",
    "\n",
    "# Creating a list of columns with only the columns that represent the worst values.\n",
    "worst_columns = ['diagnosis', 'radius_worst', 'texture_worst',\n",
    "              'perimeter_worst', 'area_worst', 'smoothness_worst',\n",
    "              'compactness_worst', 'concavity_worst', 'concave points_worst',\n",
    "              'symmetry_worst', 'fractal_dimension_worst']\n"
   ]
  },
  {
   "cell_type": "code",
   "execution_count": null,
   "id": "022613ad",
   "metadata": {},
   "outputs": [],
   "source": [
    "sns.pairplot(dataset[mean_columns], hue=\"diagnosis\", palette='husl')"
   ]
  },
  {
   "cell_type": "code",
   "execution_count": null,
   "id": "5f32ff6c",
   "metadata": {},
   "outputs": [],
   "source": [
    "sns.pairplot(dataset[worst_columns], hue=\"diagnosis\", palette='viridis')"
   ]
  },
  {
   "cell_type": "markdown",
   "id": "81715f0b",
   "metadata": {},
   "source": [
    "# Data Preprocessing"
   ]
  },
  {
   "cell_type": "code",
   "execution_count": null,
   "id": "87994ffc",
   "metadata": {},
   "outputs": [],
   "source": [
    "data = pd.read_csv('../input/breast-cancer-wisconsin-data/data.csv')\n",
    "del data['Unnamed: 32']\n",
    "X = data.iloc[:,2:].values\n",
    "# X = dataset.drop(['diagnosis','id'],axis=1).values\n",
    "y = data.iloc[:, 1].values"
   ]
  },
  {
   "cell_type": "code",
   "execution_count": null,
   "id": "b3677c64",
   "metadata": {},
   "outputs": [],
   "source": [
    "X.shape"
   ]
  },
  {
   "cell_type": "code",
   "execution_count": null,
   "id": "a90d8f92",
   "metadata": {},
   "outputs": [],
   "source": [
    "y.shape"
   ]
  },
  {
   "cell_type": "code",
   "execution_count": null,
   "id": "8d7c2207",
   "metadata": {},
   "outputs": [],
   "source": [
    "# Encoding Dependent Variable with Label Encoder\n",
    "from sklearn.preprocessing import LabelEncoder\n",
    "labelencoder_X_1 = LabelEncoder()\n",
    "y = labelencoder_X_1.fit_transform(y)\n",
    "\n",
    "# Splitting the dataset into the Training set and Test set\n",
    "from sklearn.model_selection import train_test_split\n",
    "X_train, X_test, y_train, y_test = train_test_split(X, y, test_size = 0.1, random_state = 0)\n",
    "\n",
    "#Feature Scaling\n",
    "from sklearn.preprocessing import StandardScaler\n",
    "sc = StandardScaler()\n",
    "X_train = sc.fit_transform(X_train)\n",
    "X_test = sc.transform(X_test)"
   ]
  },
  {
   "cell_type": "markdown",
   "id": "74be6c3d",
   "metadata": {},
   "source": [
    "## Model Building"
   ]
  },
  {
   "cell_type": "code",
   "execution_count": null,
   "id": "077a8053",
   "metadata": {},
   "outputs": [],
   "source": [
    "from tensorflow.keras.models import Sequential\n",
    "from tensorflow.keras.layers import Dense, Dropout\n",
    "classifier = Sequential([\n",
    "    Dense(60, input_shape=(30,), activation='relu'),\n",
    "    Dense(30, activation='relu'),\n",
    "    Dense(15, activation='relu'),\n",
    "    Dense(8, activation='relu'),\n",
    "    Dense(4, activation='relu'),\n",
    "    Dense(1, activation='sigmoid')\n",
    "])\n"
   ]
  },
  {
   "cell_type": "code",
   "execution_count": null,
   "id": "256d5c49",
   "metadata": {},
   "outputs": [],
   "source": [
    "classifier.compile(optimizer='adam', loss='binary_crossentropy', metrics=['accuracy'])\n",
    "history=classifier.fit(X_train, y_train,validation_data=(X_test, y_test), batch_size=100, epochs=50)"
   ]
  },
  {
   "cell_type": "code",
   "execution_count": null,
   "id": "f596e48d",
   "metadata": {},
   "outputs": [],
   "source": [
    "classifier.summary()"
   ]
  },
  {
   "cell_type": "markdown",
   "id": "7e996713",
   "metadata": {},
   "source": [
    "## Visualize the accuracy and loss to check whether our model is overfitting or not"
   ]
  },
  {
   "cell_type": "code",
   "execution_count": null,
   "id": "91bdbe6d",
   "metadata": {},
   "outputs": [],
   "source": [
    "sns.set()\n",
    "\n",
    "acc = history.history['accuracy']\n",
    "val_acc = history.history['val_accuracy']\n",
    "loss = history.history['loss']\n",
    "val_loss = history.history['val_loss']\n",
    "epochs = range(1, len(loss) + 1)\n",
    "\n",
    "# Accuracy plot\n",
    "plt.plot(epochs, acc, color='green', label='Training Accuracy')\n",
    "plt.plot(epochs, val_acc, color='blue', label='Validation Accuracy')\n",
    "plt.title('Training and Validation Accuracy')\n",
    "plt.ylabel('Accuracy')\n",
    "plt.xlabel('Epoch')\n",
    "plt.legend()\n",
    "\n",
    "plt.figure()\n",
    "# Loss plot\n",
    "plt.plot(epochs, loss, color='green', label='Training Loss')\n",
    "plt.plot(epochs, val_loss, color='red', label='Validation Loss')\n",
    "plt.title('Training and Validation Loss')\n",
    "plt.xlabel('Epoch')\n",
    "plt.ylabel('Loss')\n",
    "plt.legend()\n",
    "\n",
    "plt.show()"
   ]
  },
  {
   "cell_type": "code",
   "execution_count": null,
   "id": "c98d9bff",
   "metadata": {},
   "outputs": [],
   "source": [
    "y_pred = classifier.predict(X_test)\n",
    "y_pred"
   ]
  },
  {
   "cell_type": "code",
   "execution_count": null,
   "id": "c40590da",
   "metadata": {},
   "outputs": [],
   "source": [
    "y_pred1 = (y_pred > 0.5)\n",
    "y_pred1"
   ]
  },
  {
   "cell_type": "code",
   "execution_count": null,
   "id": "556e939c",
   "metadata": {},
   "outputs": [],
   "source": [
    "from sklearn.metrics import confusion_matrix, classification_report\n",
    "cm = confusion_matrix(y_test, y_pred1)\n",
    "print(cm)\n",
    "print(\"accuracy is {}%\".format(((cm[0][0] + cm[1][1])/57)*100))"
   ]
  },
  {
   "cell_type": "code",
   "execution_count": null,
   "id": "dd2166ec",
   "metadata": {},
   "outputs": [],
   "source": [
    "def predict(model, X):\n",
    "    pred = model.predict(X).flatten()\n",
    "    pred[pred > 0.5] = 1\n",
    "    pred[pred <= 0.5] = 0\n",
    "    return pred\n",
    "\n",
    "def plot_actual_vs_predicted(y_true,y_pred,title=None):\n",
    "    cm = confusion_matrix(y_true, y_pred)\n",
    "    plt.figure(figsize=(7,7))\n",
    "    sns.heatmap(cm, annot=True, fmt='g')\n",
    "    \n",
    "    #Labelling\n",
    "    plt.xlabel(\"Actual\")\n",
    "    plt.ylabel(\"Predicted\")\n",
    "    plt.title(title)\n",
    "    plt.show()"
   ]
  },
  {
   "cell_type": "code",
   "execution_count": null,
   "id": "0d310dae",
   "metadata": {},
   "outputs": [],
   "source": [
    "plot_actual_vs_predicted(y_test, y_pred1, 'Test Data Predictions')\n",
    "print(classification_report(y_test, y_pred1))"
   ]
  },
  {
   "cell_type": "code",
   "execution_count": null,
   "id": "7e504c24",
   "metadata": {},
   "outputs": [],
   "source": [
    "classifier.save('breast_cancer.h5')"
   ]
  },
  {
   "cell_type": "code",
   "execution_count": null,
   "id": "7ad73f7e",
   "metadata": {},
   "outputs": [],
   "source": [
    "nan"
   ]
  }
 ],
 "metadata": {},
 "nbformat": 4,
 "nbformat_minor": 5
}
