{
 "cells": [
  {
   "cell_type": "code",
   "execution_count": null,
   "id": "d5836b4a",
   "metadata": {},
   "outputs": [],
   "source": [
    "# This Python 3 environment comes with many helpful analytics libraries installed\n",
    "# It is defined by the kaggle/python docker image: https://github.com/kaggle/docker-python\n",
    "# For example, here's several helpful packages to load in \n",
    "\n",
    "import numpy as np # linear algebra\n",
    "import pandas as pd # data processing, CSV file I/O (e.g. pd.read_csv)\n",
    "\n",
    "from subprocess import check_output\n",
    "\n",
    "import ml_metrics as metrics\n",
    "\n"
   ]
  },
  {
   "cell_type": "markdown",
   "id": "a1fb914f",
   "metadata": {},
   "source": [
    "##I am going to show how order matters in MAP@K when there is only 1 answer. \n",
    "\n",
    "##This experiment is done by calculating AP@K, which gives 1 value. MAP@K is the average of AP@K. \n"
   ]
  },
  {
   "cell_type": "code",
   "execution_count": null,
   "id": "6596c98a",
   "metadata": {},
   "outputs": [],
   "source": [
    "actual = [1]\n",
    "\n",
    "predicted = [1,2,3,4,5]\n",
    "\n",
    "print('Answer=',actual,'predicted=',predicted)\n",
    "print('AP@5 =',metrics.apk(actual,predicted,5) )\n",
    "\n",
    "predicted = [2,1,3,4,5]\n",
    "print('Answer=',actual,'predicted=',predicted)\n",
    "print('AP@5 =',metrics.apk(actual,predicted,5) )\n",
    "\n",
    "predicted = [3,2,1,4,5]\n",
    "print('Answer=',actual,'predicted=',predicted)\n",
    "print('AP@5 =',metrics.apk(actual,predicted,5) )\n",
    "\n",
    "predicted = [4,2,3,1,5]\n",
    "print('Answer=',actual,'predicted=',predicted)\n",
    "print('AP@5 =',metrics.apk(actual,predicted,5) )\n",
    "\n",
    "predicted = [4,2,3,5,1]\n",
    "print('Answer=',actual,'predicted=',predicted)\n",
    "print('AP@5 =',metrics.apk(actual,predicted,5) )"
   ]
  },
  {
   "cell_type": "markdown",
   "id": "efa929ef",
   "metadata": {},
   "source": [
    "As you see from the above example, the \"earlier\" you predict the correct answer 1, the higher your score. \n",
    "\n",
    "### Next is an example of how MAP@K is calculated with a list of hotels\n",
    "I took the list of predictions from the previous AP@K example, and calculated the MAP@K. You can see the MAP@K is the average of AP@K\n"
   ]
  },
  {
   "cell_type": "code",
   "execution_count": null,
   "id": "2b351140",
   "metadata": {},
   "outputs": [],
   "source": [
    "metrics.mapk([[1],[1],[1],[1],[1]],[[1,2,3,4,5],[2,1,3,4,5],[3,2,1,4,5],[4,2,3,1,5],[4,2,3,5,1]], 5)"
   ]
  },
  {
   "cell_type": "code",
   "execution_count": null,
   "id": "77a0c131",
   "metadata": {},
   "outputs": [],
   "source": [
    "nan"
   ]
  }
 ],
 "metadata": {},
 "nbformat": 4,
 "nbformat_minor": 5
}
