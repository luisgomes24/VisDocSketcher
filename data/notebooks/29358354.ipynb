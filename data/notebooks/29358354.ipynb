{
 "cells": [
  {
   "cell_type": "code",
   "execution_count": null,
   "id": "3b21aefc",
   "metadata": {},
   "outputs": [],
   "source": [
    "# This Python 3 environment comes with many helpful analytics libraries installed\n",
    "# It is defined by the kaggle/python Docker image: https://github.com/kaggle/docker-python\n",
    "# For example, here's several helpful packages to load\n",
    "\n",
    "import numpy as np # linear algebra\n",
    "import pandas as pd # data processing, CSV file I/O (e.g. pd.read_csv)\n",
    "\n",
    "# Input data files are available in the read-only \"../input/\" directory\n",
    "# For example, running this (by clicking run or pressing Shift+Enter) will list all files under the input directory\n",
    "\n",
    "import os\n",
    "for dirname, _, filenames in os.walk('/kaggle/input'):\n",
    "    for filename in filenames:\n",
    "        print(os.path.join(dirname, filename))\n",
    "\n",
    "# You can write up to 20GB to the current directory (/kaggle/working/) that gets preserved as output when you create a version using \"Save & Run All\" \n",
    "# You can also write temporary files to /kaggle/temp/, but they won't be saved outside of the current session"
   ]
  },
  {
   "cell_type": "markdown",
   "id": "a57977b3",
   "metadata": {},
   "source": [
    "## Read the data"
   ]
  },
  {
   "cell_type": "code",
   "execution_count": null,
   "id": "79562ac9",
   "metadata": {},
   "outputs": [],
   "source": [
    "data1=pd.read_csv(\"../input/greenhouse-gases-and-air-pollutant-emissions/emissions_EU27.csv\")\n",
    "data2=pd.read_csv(\"../input/greenhouse-gases-and-air-pollutant-emissions/emissions_EU28.csv\")\n",
    "data2"
   ]
  },
  {
   "cell_type": "code",
   "execution_count": null,
   "id": "a2f0067d",
   "metadata": {},
   "outputs": [],
   "source": [
    "data_world_t_unit=data2[(data2['unit']=='T' ) & (data2['origin']=='WORLD')]\n",
    "data_world_t_unit"
   ]
  },
  {
   "cell_type": "code",
   "execution_count": null,
   "id": "52666c1f",
   "metadata": {},
   "outputs": [],
   "source": [
    "airpol_groupby=data_world_t_unit.groupby('airpol').sum()\n",
    "airpol_groupby"
   ]
  },
  {
   "cell_type": "code",
   "execution_count": null,
   "id": "a365d41d",
   "metadata": {},
   "outputs": [],
   "source": [
    "airpol_groupby.columns.values.tolist() "
   ]
  },
  {
   "cell_type": "code",
   "execution_count": null,
   "id": "c0edd22c",
   "metadata": {},
   "outputs": [],
   "source": [
    "import matplotlib.pyplot as plt\n",
    "import seaborn as sns\n",
    "from matplotlib.pyplot import figure\n",
    "\n",
    "figure(figsize=(25,65), dpi=200)\n",
    "list_columns=airpol_groupby.columns.values.tolist() #list of years\n",
    "g=sns.barplot(x='value', y='airpol', hue='variable',orient='h',\n",
    "            data=pd.melt(airpol_groupby.reset_index(), id_vars='airpol', value_vars=list_columns))\n",
    "\n",
    "g.set_xscale(\"log\")\n",
    "\n",
    "plt.xticks(fontsize=20)\n",
    "plt.yticks(fontsize=20)\n",
    "plt.xlabel('Value',fontsize=26)\n",
    "plt.ylabel('Airpol',fontsize=26)\n",
    "plt.legend(fontsize=20)\n",
    "plt.title('Emissions by Air Pollutant in the World (log scale)', fontsize=39,y=1.01)"
   ]
  },
  {
   "cell_type": "code",
   "execution_count": null,
   "id": "108292d6",
   "metadata": {},
   "outputs": [],
   "source": [
    "pd.melt(airpol_groupby.reset_index(), id_vars='airpol', value_vars=list_columns)"
   ]
  },
  {
   "cell_type": "code",
   "execution_count": null,
   "id": "3c36a187",
   "metadata": {},
   "outputs": [],
   "source": [
    "data_t_unit=data2[data2['unit']=='T' ]\n",
    "origin_groupby=data_t_unit.groupby('origin').sum()\n",
    "\n",
    "\n",
    "figure(figsize=(25,25), dpi=200)\n",
    "list_origin=origin_groupby.columns.values.tolist() #list of years\n",
    "g=sns.barplot(x='value', y='origin', hue='variable',orient='h',\n",
    "            data=pd.melt(origin_groupby.reset_index(), id_vars='origin', value_vars=list_origin))\n",
    "\n",
    "#g.set_xscale(\"log\")\n",
    "\n",
    "plt.xticks(fontsize=20)\n",
    "plt.yticks(fontsize=20)\n",
    "plt.xlabel('Value',fontsize=23,labelpad=40)\n",
    "plt.ylabel('Airpol',fontsize=26)\n",
    "plt.legend(fontsize=20)\n",
    "plt.title('Emissions by Origin in the World', fontsize=39,y=1.01)"
   ]
  },
  {
   "cell_type": "code",
   "execution_count": null,
   "id": "08576d1c",
   "metadata": {},
   "outputs": [],
   "source": [
    "induse_groupby=data_world_t_unit.groupby('induse').sum()\n",
    "\n",
    "\n",
    "figure(figsize=(25,25), dpi=200)\n",
    "list_induse=induse_groupby.columns.values.tolist() #list of years\n",
    "g=sns.barplot(x='value', y='induse', hue='variable',orient='h',\n",
    "            data=pd.melt(induse_groupby.reset_index(), id_vars='induse', value_vars=list_induse))\n",
    "\n",
    "g.set_xscale(\"log\")\n",
    "\n",
    "plt.xticks(fontsize=20)\n",
    "plt.yticks(fontsize=20)\n",
    "plt.xlabel('Value',fontsize=26)\n",
    "plt.ylabel('Airpol',fontsize=26)\n",
    "plt.legend(fontsize=20)\n",
    "plt.title('Emissions by Induse in the World (log scale)', fontsize=39,y=1.01)"
   ]
  },
  {
   "cell_type": "code",
   "execution_count": null,
   "id": "7594610e",
   "metadata": {},
   "outputs": [],
   "source": [
    "cpa_groupby=data_world_t_unit.groupby('cpa08').sum()\n",
    "\n",
    "\n",
    "figure(figsize=(25,85), dpi=200)\n",
    "list_cpa=cpa_groupby.columns.values.tolist() #list of years\n",
    "g=sns.barplot(x='value', y='cpa08', hue='variable',orient='h',\n",
    "            data=pd.melt(cpa_groupby.reset_index(), id_vars='cpa08', value_vars=list_cpa))\n",
    "\n",
    "g.set_xscale(\"log\")\n",
    "\n",
    "plt.xticks(fontsize=20)\n",
    "plt.yticks(fontsize=20)\n",
    "plt.xlabel('Value',fontsize=26)\n",
    "plt.ylabel('Airpol',fontsize=26)\n",
    "plt.legend(fontsize=20)\n",
    "plt.title('Emissions by Activity (log scale)', fontsize=39,y=1.01)"
   ]
  },
  {
   "cell_type": "code",
   "execution_count": null,
   "id": "d5d525f5",
   "metadata": {},
   "outputs": [],
   "source": [
    "'''\n",
    "figure(figsize=(55,55), dpi=220)\n",
    "g=sns.lineplot(x='airpol', y='value', hue='variable',\n",
    "            data=pd.melt(airpol_groupby.reset_index(), id_vars='airpol', value_vars=list_columns),linewidth = 7)\n",
    "g.set_yscale(\"log\")\n",
    "plt.xticks(fontsize=40)\n",
    "plt.yticks(fontsize=40)\n",
    "plt.xlabel('Value',fontsize=46)\n",
    "plt.ylabel('Airpol',fontsize=46)\n",
    "plt.legend(fontsize=70)\n",
    "plt.title('Emissions by Air Pollutant (log scale)', fontsize=59,y=1.01)'''"
   ]
  },
  {
   "cell_type": "code",
   "execution_count": null,
   "id": "3b340faf",
   "metadata": {},
   "outputs": [],
   "source": [
    "data_world_t_unit['airpol'].unique()"
   ]
  },
  {
   "cell_type": "code",
   "execution_count": null,
   "id": "ddc356ef",
   "metadata": {},
   "outputs": [],
   "source": [
    "data_world_t_unit"
   ]
  },
  {
   "cell_type": "code",
   "execution_count": null,
   "id": "4f610861",
   "metadata": {},
   "outputs": [],
   "source": [
    "data_world_t_unit.loc[:,['airpol','2008']]"
   ]
  },
  {
   "cell_type": "code",
   "execution_count": null,
   "id": "3ba0afec",
   "metadata": {},
   "outputs": [],
   "source": [
    "fig, axs = plt.subplots(len(data_world_t_unit['airpol'].unique()),figsize=(15, 115))\n",
    "fig.suptitle('Air Pollutants Values Distribution',fontsize=28,y=0.891)\n",
    "fig.subplots_adjust(hspace = 0.3 )\n",
    "#figure(figsize=(25,134), dpi=200)\n",
    "for i,j in enumerate(data_world_t_unit['airpol'].unique()):\n",
    "    data=data_world_t_unit[data_world_t_unit['airpol']==j]\n",
    "    axs[i].hist(data.loc[:,['2008','2009','2010','2011','2012','2013','2014','2015','2016','2017','2018']],bins=25)\n",
    "    #axs[i].set_xticks(fontsize=17)\n",
    "    #axs[i].set_yticks(fontsize=17)\n",
    "    axs[i].set_xlabel('Values',fontsize=11)\n",
    "    axs[i].set_ylabel('Frequency',fontsize=11)\n",
    "    \n",
    "    axs[i].set_title(j, fontsize=15,y=1.01)\n",
    "    axs[i].set_yscale(\"log\")\n",
    "    \n",
    "    labels= ['2008','2009','2010','2011','2012','2013','2014','2015','2016','2017','2018']\n",
    "    #plt.legend(handles, labels)\n",
    "\n",
    "    axs[i].legend(labels,loc='upper right',fontsize=8)"
   ]
  },
  {
   "cell_type": "markdown",
   "id": "666bf3fe",
   "metadata": {},
   "source": [
    "### Upvote if you found the notebook useful :)"
   ]
  }
 ],
 "metadata": {},
 "nbformat": 4,
 "nbformat_minor": 5
}
