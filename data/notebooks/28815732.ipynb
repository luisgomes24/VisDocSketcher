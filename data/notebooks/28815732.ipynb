{
 "cells": [
  {
   "cell_type": "markdown",
   "id": "3d871b15",
   "metadata": {},
   "source": [
    "## Introduction\n",
    "In this competition, due to the extremely large image size, \n",
    "an efficient way of removing background (=making tiles) is very important.\n",
    "\n",
    "This implementation is base on [GM Iafoss](https://www.kaggle.com/iafoss)'s [notebook](https://www.kaggle.com/code/iafoss/panda-16x128x128-tiles) from PANDA competition."
   ]
  },
  {
   "cell_type": "code",
   "execution_count": null,
   "id": "ae40173f",
   "metadata": {},
   "outputs": [],
   "source": [
    "from pathlib import Path\n",
    "import numpy as np\n",
    "import skimage.io as io\n",
    "import cv2\n",
    "import matplotlib.pyplot as plt\n",
    "from tqdm.notebook import tqdm"
   ]
  },
  {
   "cell_type": "code",
   "execution_count": null,
   "id": "589bce98",
   "metadata": {},
   "outputs": [],
   "source": [
    "image_paths = list(Path('../input/mayo-clinic-strip-ai/test/').glob('*.tif'))\n",
    "image_paths"
   ]
  },
  {
   "cell_type": "code",
   "execution_count": null,
   "id": "0cc55ca8",
   "metadata": {},
   "outputs": [],
   "source": [
    "def load_image(img_path, resize_factor=16):\n",
    "    img = io.imread(img_path)\n",
    "    img = cv2.resize(img, dsize=None, fx=1/resize_factor, fy=1/resize_factor)\n",
    "    return img"
   ]
  },
  {
   "cell_type": "code",
   "execution_count": null,
   "id": "b2441e6c",
   "metadata": {},
   "outputs": [],
   "source": [
    "def make_tiles(img, tile_size=256, num_tiles=4):\n",
    "    '''\n",
    "    img: np.ndarray with dtype np.uint8 and shape (width, height, channel)\n",
    "    '''\n",
    "    w, h, ch = img.shape\n",
    "    pad0, pad1 = (tile_size - w%tile_size) % tile_size, (tile_size - h%tile_size) % tile_size\n",
    "    padding = [[pad0//2, pad0-pad0//2], [pad1//2, pad1-pad1//2], [0, 0]]\n",
    "    img = np.pad(img, padding, mode='constant', constant_values=255)\n",
    "    img = img.reshape(img.shape[0]//tile_size, tile_size, img.shape[1]//tile_size, tile_size, ch)\n",
    "    img = img.transpose(0, 2, 1, 3, 4).reshape(-1, tile_size, tile_size, ch)\n",
    "    if len(img) < num_tiles: # pad images so that the output shape be the same\n",
    "        padding = [[0, num_tiles-len(img)], [0, 0], [0, 0], [0, 0]]\n",
    "        img = np.pad(img, padding, mode='constant', constant_values=255)\n",
    "    idxs = np.argsort(img.reshape(img.shape[0], -1).sum(-1))[:num_tiles] # pick up Top N dark tiles\n",
    "    img = img[idxs]\n",
    "    return img"
   ]
  },
  {
   "cell_type": "code",
   "execution_count": null,
   "id": "5ce1306a",
   "metadata": {},
   "outputs": [],
   "source": [
    "image = load_image(image_paths[0])\n",
    "plt.imshow(image)\n",
    "plt.show()"
   ]
  },
  {
   "cell_type": "code",
   "execution_count": null,
   "id": "779b1e77",
   "metadata": {},
   "outputs": [],
   "source": [
    "tiles = make_tiles(image)\n",
    "tiles.shape"
   ]
  },
  {
   "cell_type": "code",
   "execution_count": null,
   "id": "007c1c73",
   "metadata": {},
   "outputs": [],
   "source": [
    "for tile in tiles:\n",
    "    plt.imshow(tile)\n",
    "    plt.show()"
   ]
  },
  {
   "cell_type": "markdown",
   "id": "9e548414",
   "metadata": {},
   "source": [
    "## Benchmark\n",
    "**It takes only around 20s to process 500 images!**"
   ]
  },
  {
   "cell_type": "code",
   "execution_count": null,
   "id": "1bfaa4c4",
   "metadata": {},
   "outputs": [],
   "source": [
    "%%time\n",
    "for _ in tqdm(range(500)):\n",
    "    _ = make_tiles(image)"
   ]
  },
  {
   "cell_type": "code",
   "execution_count": null,
   "id": "aa54be49",
   "metadata": {},
   "outputs": [],
   "source": [
    "nan"
   ]
  }
 ],
 "metadata": {},
 "nbformat": 4,
 "nbformat_minor": 5
}
