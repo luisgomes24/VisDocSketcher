{
 "cells": [
  {
   "cell_type": "code",
   "execution_count": null,
   "id": "6790f125",
   "metadata": {},
   "outputs": [],
   "source": [
    "# This Python 3 environment comes with many helpful analytics libraries installed\n",
    "# It is defined by the kaggle/python docker image: https://github.com/kaggle/docker-python\n",
    "# For example, here's several helpful packages to load in \n",
    "\n",
    "import numpy as np # linear algebra\n",
    "import pandas as pd # data processing, CSV file I/O (e.g. pd.read_csv)\n",
    "from datetime  import datetime\n",
    "import time\n",
    "import matplotlib.pyplot as plt\n",
    "# Input data files are available in the \"../input/\" directory.\n",
    "# For example, running this (by clicking run or pressing Shift+Enter) will list the files in the input directory\n",
    "\n",
    "import os\n",
    "print(os.listdir(\"../input\"))\n",
    "\n",
    "# Any results you write to the current directory are saved as output."
   ]
  },
  {
   "cell_type": "code",
   "execution_count": null,
   "id": "9ee0c038",
   "metadata": {},
   "outputs": [],
   "source": [
    "temp = pd.read_csv('../input/VIGR_updated.txt',header=0,low_memory = False)"
   ]
  },
  {
   "cell_type": "code",
   "execution_count": null,
   "id": "850cf5bf",
   "metadata": {},
   "outputs": [],
   "source": [
    "temp['date_time'] = pd.to_datetime(temp['valid'])\n",
    "# temp['temp_year'],temp['temp_month'],temp['temp_month_day'],temp['temp_hour'] ,temp['temp_minute'],_,_,temp['year_day'],_  = temp['valid'].apply(lambda x: time.strptime(x, '%Y-%m-%d %H:%M')) \n",
    "temp['temp_year']=temp['date_time'].dt.year\n",
    "temp['temp_month']=temp['date_time'].dt.month\n",
    "temp['temp_day']=temp['date_time'].dt.day\n",
    "temp['temp_hour']=temp['date_time'].dt.hour\n",
    "temp['temp_minute']=temp['date_time'].dt.minute\n",
    "temp['temp_date']=temp['date_time'].dt.date\n",
    "temp['temp_time']=temp['date_time'].dt.time\n",
    "\n",
    "\n",
    "temp.columns"
   ]
  },
  {
   "cell_type": "code",
   "execution_count": null,
   "id": "9a5c0090",
   "metadata": {},
   "outputs": [],
   "source": [
    "display((temp.isnull().sum()/temp.shape[0])*100)\n"
   ]
  },
  {
   "cell_type": "code",
   "execution_count": null,
   "id": "2d0dd6f5",
   "metadata": {},
   "outputs": [],
   "source": [
    "temp_updated = temp.drop(columns=['station' , 'wxcodes' , 'peak_wind_gust_mph',\n",
    "       'peak_wind_drct', 'peak_wind_time','p01i' , 'metar','gust_mph'] , axis=1)"
   ]
  },
  {
   "cell_type": "code",
   "execution_count": null,
   "id": "cd3f1242",
   "metadata": {},
   "outputs": [],
   "source": [
    "temp_updated.columns"
   ]
  },
  {
   "cell_type": "markdown",
   "id": "2242e980",
   "metadata": {},
   "source": [
    "## Different Meaning of Columns\n",
    "#### 'station', 'valid', 'tmpc', 'dwpc', 'relh', 'feel', 'drct', 'sped', 'alti', 'mslp', 'p01i', 'vsby', 'gust_mph', 'wxcodes', 'peak_wind_gust_mph', 'peak_wind_drct', 'peak_wind_time', 'metar'\n",
    "* station - It Don't change for Gwalior\n",
    "* tmpc - Temperature in C\n",
    "* dwpc - Dew Point in C\n",
    "* relh - Relative Humidity\n",
    "* feel - Wind chill / Heat Index in F\n",
    "* drct - Direction of wind\n",
    "* sped - Wind Speed\n",
    "* alti - Altimeter\n",
    "* mslp - Sea Level Pressure in MB\n",
    "* p01i - 1 hour Precipitaion\n",
    "* vsby - Visibility\n",
    "* gust_mph - Wind Gust in mph\n",
    "* wxcodes - Present Weather Codes\n",
    "* peak_wind_gust_mph - Peak Wind Gust in MpH\n",
    "* peak_wind_drct - Peak Wind Direction\n",
    "* peak_wind_time - Time of peak Wind\n",
    "* metar - Raw Metar Data (Not Needed)\n"
   ]
  },
  {
   "cell_type": "code",
   "execution_count": null,
   "id": "7e292e3a",
   "metadata": {},
   "outputs": [],
   "source": [
    "temp_update_new = temp_updated.loc[:65460,]\n",
    "display(temp_update_new.tail(10).T)\n",
    "display(temp_updated.info())"
   ]
  },
  {
   "cell_type": "code",
   "execution_count": null,
   "id": "f49bd9a0",
   "metadata": {},
   "outputs": [],
   "source": [
    "# Data is too much Varable\n",
    "display(temp['temp_date'].value_counts().value_counts())\n",
    "display(temp['temp_time'].value_counts())"
   ]
  },
  {
   "cell_type": "code",
   "execution_count": null,
   "id": "eccac567",
   "metadata": {},
   "outputs": [],
   "source": [
    "temp_new = temp[temp['temp_year'] <= 2016]\n",
    "temp_test = temp[temp['temp_year'] > 2016]"
   ]
  },
  {
   "cell_type": "code",
   "execution_count": null,
   "id": "fdb0ddb4",
   "metadata": {},
   "outputs": [],
   "source": [
    "temp_new.tail(5)"
   ]
  },
  {
   "cell_type": "code",
   "execution_count": null,
   "id": "1c4b1468",
   "metadata": {},
   "outputs": [],
   "source": [
    "plt.figure(figsize=(18,6))\n",
    "temp_new['tmpc'].plot()\n",
    "plt.show()"
   ]
  },
  {
   "cell_type": "code",
   "execution_count": null,
   "id": "cac44b7a",
   "metadata": {},
   "outputs": [],
   "source": [
    "temp_temp = temp_new.sort_values(by='tmpc',ascending=1)"
   ]
  },
  {
   "cell_type": "code",
   "execution_count": null,
   "id": "a49432b7",
   "metadata": {},
   "outputs": [],
   "source": [
    "temp_temp.head()"
   ]
  },
  {
   "cell_type": "code",
   "execution_count": null,
   "id": "416c9c18",
   "metadata": {},
   "outputs": [],
   "source": [
    "nan"
   ]
  }
 ],
 "metadata": {},
 "nbformat": 4,
 "nbformat_minor": 5
}
