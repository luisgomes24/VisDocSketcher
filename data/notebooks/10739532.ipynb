{
 "cells": [
  {
   "cell_type": "markdown",
   "id": "7ae41187",
   "metadata": {},
   "source": [
    "#BCG — different strains, different vaccines? By Dr Marcel A Behr\n",
    "\n",
    "Published:February, 2002DOI:https://doi.org/10.1016/S1473-3099(02)00182-2\n",
    "\n",
    "The existence of different BCG strains has been described since the 1940s. These strains vary according to several laboratory properties, which may or may not translate into a discernible effect on vaccination.\n",
    "\n",
    "With recent genomic comparisons, it is now clear that different BCG vaccine strains have evolved and differ from each other and from the original BCG first used in 1921. Some of these genetic alterations explain certain variations in laboratory properties of BCG. However, these mutations in BCG strains have yet to be shown to affect BCG-associated protection and/or adverse effects. \n",
    "\n",
    "Continuing research is attempting to assess the effect of these genetic alterations on properties of BCG strains, with the goals of suggesting the ideal BCG for vaccination and providing avenues for improvement on existing BCG vaccines.\n",
    "\n",
    "https://www.thelancet.com/pdfs/journals/laninf/PIIS1473309902001822.pdf"
   ]
  },
  {
   "cell_type": "code",
   "execution_count": null,
   "id": "7d430d6a",
   "metadata": {},
   "outputs": [],
   "source": [
    "# This Python 3 environment comes with many helpful analytics libraries installed\n",
    "# It is defined by the kaggle/python Docker image: https://github.com/kaggle/docker-python\n",
    "# For example, here's several helpful packages to load\n",
    "\n",
    "import numpy as np # linear algebra\n",
    "import pandas as pd # data processing, CSV file I/O (e.g. pd.read_csv)\n",
    "import matplotlib.pyplot as plt\n",
    "%matplotlib inline\n",
    "import seaborn as sns\n",
    "import plotly.express as px\n",
    "import plotly.graph_objects as go\n",
    "import plotly.offline as py\n",
    "import plotly.express as px\n",
    "\n",
    "# Input data files are available in the read-only \"../input/\" directory\n",
    "# For example, running this (by clicking run or pressing Shift+Enter) will list all files under the input directory\n",
    "\n",
    "import os\n",
    "for dirname, _, filenames in os.walk('/kaggle/input'):\n",
    "    for filename in filenames:\n",
    "        print(os.path.join(dirname, filename))\n",
    "\n",
    "# You can write up to 5GB to the current directory (/kaggle/working/) that gets preserved as output when you create a version using \"Save & Run All\" \n",
    "# You can also write temporary files to /kaggle/temp/, but they won't be saved outside of the current session"
   ]
  },
  {
   "cell_type": "markdown",
   "id": "9e97776b",
   "metadata": {},
   "source": [
    "#Different Strains of Bacillus Calmette–Guérin Vaccine Have Very Different Effects on Tuberculosis and on Unrelated Infections\n",
    "\n",
    "By Frank Shann - Department of Paediatrics, Intensive Care Unit, Royal Children’s Hospital, University of Melbourne, Parkville, Australia - Jun 9, 2015\n",
    "\n",
    "In high-mortality countries, until a different vaccine is given, BCG vaccine also provides nonspecific (heterologous)protection against diseases other than tuberculosis and leprosy (mainly respiratory infections and sepsis). \n",
    "\n",
    "An important finding in the study in rural Guinea-Bissau was that among infants who had received BCG–Moscow vaccine, those with a scar had a 52 per cent (95 per cent CI, 10 per cent–74 per cent) lower mortality rate than those with no scar. The authors present evidence that the lower mortality was unlikely to be explained by healthier children being more likely to form a scar, and the results are consistent with previous studies showing a relationship between BCG–Danish vaccine scar and survival.\n",
    "\n",
    "In addition to the important genetic differences between the strains of BCG, there are genetic differences within some strains that can cause major differences in the characteristics of BCG vaccine produced from the same seed lot by different manufacturers and between different batches from a single manufacturer. BCG-Tokyo and BCG-Danish vaccines each contain at least 2 genotypes. BCG–Danish vaccine and probably BCG–Tokyo vaccine have potent nonspecific effects that substantially reduce mortality from diseases other than tuberculosis; however, these beneficial effects are not properly exploited at present. \n",
    "\n",
    "https://watermark.silverchair.com/civ454.pdf?token=AQECAHi208BE49Ooan9kkhW_Ercy7Dm3ZL_9Cf3qfKAc485ysgAAAqAwggKcBgkqhkiG9w0BBwagggKNMIICiQIBADCCAoIGCSqGSIb3DQEHATAeBglghkgBZQMEAS4wEQQMUl5xbptDKcm4IIz8AgEQgIICU5-mvna7_1GF_uo8mFEjKjdQArrCyF6A8TrH-t7_Zo_WRFVxtereMobF1hYBKcQbPaTPMau2a4QWPedT-Oca0i_rE3xZkfPlbYHr7jRESmtddIzqKkmeTALijHLIQqXM8V0nMNIeKv1Ra-OIVOSU7q5-Tsm3wbvxk2cx99pk9EHZadCns569JIOjMuhV8M9Ap32Cc9R12aiod5g_dMvDbmjs4f9VWC7yuyHmBLGtk8852Ei-g6Czhf00Rp5hVLzaGoIBQ08SCwqIpQl_2NQXyo-LeeeFeNP5JhyfOY4zi9KaatBkQC8pQGpodwwTPmAmuLmX9Sb0Co6JQJJRcuveWvXDTWJ4wG0ppXTlUfCAdh1USBAHp4wMlr_PAUsgm03IDppoprj6MFi5lPgLe7EpoUSDohzlie4Lrsjj1Hs3OFhRGRqoBPqrMOsa5GtCmaPfNDpqlB7DUph0fT5uFgY7mRQg3XxmCWNkQpcwwvVO1oYQ2OY-EzXRXzpRQ9vbz-eT9F1HzpcPxty78aMK1vbgSI0xxoqGmX4CHTtdI1Zdvlmah8Vq-saAYpTghgMJfFpk8kqfPIXIdVhlxdhFGeLoL0NhGAZ8c4xsZZRdJAHBX9D6mUrJbCe8-bo92wgEpsWld_-0DGeudUGarCDpHL2zJq6A_wU6yuayy3u1-ZdVbYt-UKmXEWquWT5h4T855K_Xy8-k_yFSuNRZtV2IkKIg9NnthlxCYBrvgRb6DLxkmd5W-O7R4dMNIwmg0XY4ukkBDzKGzxt7MzTVSIBb2LXfNsYWYw4"
   ]
  },
  {
   "cell_type": "code",
   "execution_count": null,
   "id": "8be3534c",
   "metadata": {},
   "outputs": [],
   "source": [
    "df = pd.read_csv('../input/hackathon/task_2-BCG_world_atlas_data-bcg_strain-7July2020.csv', encoding='utf8')\n",
    "df.head()"
   ]
  },
  {
   "cell_type": "markdown",
   "id": "895e70ed",
   "metadata": {},
   "source": [
    "#BCG strain over the years has been used in different countries since the creation of the vaccine and during what time periods."
   ]
  },
  {
   "cell_type": "code",
   "execution_count": null,
   "id": "eb502dfc",
   "metadata": {},
   "outputs": [],
   "source": [
    "plt.figure(figsize=(24, 6))\n",
    "plt.subplot(131)\n",
    "sns.countplot(df['bcg_strain_original'],order = df['bcg_strain_original'].value_counts(dropna=False).index)\n",
    "plt.xticks(rotation=90)\n",
    "plt.subplot(132)\n",
    "sns.countplot(df['bcg_strain_du_class'],order = df['bcg_strain_du_class'].value_counts(dropna=False).index)\n",
    "plt.subplot(133)\n",
    "sns.countplot(df['bcg_strain_t_cell_grp_3'],order = df['bcg_strain_t_cell_grp_3'].value_counts(dropna=False).index)"
   ]
  },
  {
   "cell_type": "code",
   "execution_count": null,
   "id": "3046673f",
   "metadata": {},
   "outputs": [],
   "source": [
    "fig, ax = plt.subplots(1,3, figsize = (20,6), sharex=True)\n",
    "sns.countplot(x='bcg_strain_original',data=df, palette=\"copper\", ax=ax[0])\n",
    "sns.countplot(x='bcg_strain_original',hue='bcg_policy_first_year_original', palette=\"ocean\", data=df,ax=ax[1])\n",
    "sns.countplot(x='bcg_strain_original',hue='bcg_policy_last_year_original', palette=\"cubehelix\", data=df,ax=ax[2])\n",
    "ax[0].title.set_text('BCG Strain Original Count')\n",
    "ax[1].title.set_text('BCG Strain Original Vs First Year Policy')\n",
    "ax[2].title.set_text('BCG Strain Original Vs Last Year Policy ')\n",
    "plt.show()"
   ]
  },
  {
   "cell_type": "code",
   "execution_count": null,
   "id": "22a80cb5",
   "metadata": {},
   "outputs": [],
   "source": [
    "ax = df['bcg_policy_first_year_original'].value_counts().plot.barh(figsize=(16, 8))\n",
    "ax.set_title('BCG Policies 1st Year Original', size=18)\n",
    "ax.set_ylabel('bcg_policy_first_year_original', size=10)\n",
    "ax.set_xlabel('bcg_strain_original', size=10)"
   ]
  },
  {
   "cell_type": "code",
   "execution_count": null,
   "id": "6916191d",
   "metadata": {},
   "outputs": [],
   "source": [
    "ax = df['bcg_policy_last_year_original'].value_counts().plot.barh(figsize=(16, 8), color='r')\n",
    "ax.set_title('BCG Policies Last Year Original', size=18)\n",
    "ax.set_ylabel('bcg_policy_last_year_original', size=10)\n",
    "ax.set_xlabel('bcg_strain_original', size=10)"
   ]
  },
  {
   "cell_type": "markdown",
   "id": "08402a98",
   "metadata": {},
   "source": [
    "Different Strains of Bacillus Calmette–Guérin Vaccine Have ...academic.oup.com › cid › article-pdf › civ454\n",
    "Jun 9, 2015, By Frank Shann - Department of Paediatrics, Intensive Care Unit, Royal Children’s Hospital, University of Melbourne, Parkville, Australia\n",
    "\n",
    "The BCG vaccine is not a single vaccine; the different strains have very different properties, and there are different genotypes within strains. It is likely that they could substantially improve protection against tuberculosis and lower child mortality from other infections by manufacturing each BCG vaccine from a single genotype, comparing these vaccines to find which genotype has the strongest effects against tuberculosis and against other infections, investigating the effect of revaccination on all-cause mortality,and ensuring that a high proportion of neonates are given BCG vaccine in the first few days of life. These measures are\n",
    "likely to yield very large benefits at minimal cost."
   ]
  },
  {
   "cell_type": "code",
   "execution_count": null,
   "id": "a5efef28",
   "metadata": {},
   "outputs": [],
   "source": [
    "plt.figure(figsize=(15, 10))\n",
    "ax=sns.countplot(x=\"bcg_strain_original\", data=df,palette=\"GnBu_d\",edgecolor=\"black\", order = df['bcg_strain_original'].value_counts().index)\n",
    "plt.xticks(rotation=90)\n",
    "plt.title('BCG Strain Original')\n",
    "for p in ax.patches:\n",
    "    ax.annotate(str(p.get_height()), (p.get_x()+0.25, p.get_height()+1), va='bottom',\n",
    "                    color= 'black')\n",
    "plt.show()"
   ]
  },
  {
   "cell_type": "code",
   "execution_count": null,
   "id": "e057a44d",
   "metadata": {},
   "outputs": [],
   "source": [
    "plt.figure(figsize=(8, 6))\n",
    "ax=sns.countplot(x=\"bcg_strain_du_class\", data=df,palette=\"GnBu_d\",edgecolor=\"black\", order = df['bcg_strain_du_class'].value_counts().index)\n",
    "plt.xticks(rotation=90)\n",
    "plt.title('BCG Strain Du Class')\n",
    "for p in ax.patches:\n",
    "    ax.annotate(str(p.get_height()), (p.get_x()+0.25, p.get_height()+1), va='bottom',\n",
    "                    color= 'black')\n",
    "plt.show()"
   ]
  },
  {
   "cell_type": "code",
   "execution_count": null,
   "id": "c25643c8",
   "metadata": {},
   "outputs": [],
   "source": [
    "plt.figure(figsize=(8, 6))\n",
    "ax=sns.countplot(x=\"bcg_strain_t_cell_grp_3\", data=df,palette=\"GnBu_d\",edgecolor=\"black\", order = df['bcg_strain_t_cell_grp_3'].value_counts().index)\n",
    "plt.xticks(rotation=90)\n",
    "plt.title('BCG Strain T Cell Group 3')\n",
    "for p in ax.patches:\n",
    "    ax.annotate(str(p.get_height()), (p.get_x()+0.25, p.get_height()+1), va='bottom',\n",
    "                    color= 'black')\n",
    "plt.show()"
   ]
  },
  {
   "cell_type": "code",
   "execution_count": null,
   "id": "c12df7fc",
   "metadata": {},
   "outputs": [],
   "source": [
    "fig = px.bar(df[['bcg_strain_original','country_name']].sort_values('country_name', ascending=False), \n",
    "                        y = \"country_name\", x= \"bcg_strain_original\", color='country_name', template='ggplot2')\n",
    "fig.update_xaxes(tickangle=45, tickfont=dict(family='Rockwell', color='crimson', size=14))\n",
    "fig.update_layout(title_text=\"BCG Strain Original by Country\")\n",
    "\n",
    "fig.show()"
   ]
  },
  {
   "cell_type": "code",
   "execution_count": null,
   "id": "c082d4ee",
   "metadata": {},
   "outputs": [],
   "source": [
    "fig = px.bar(df, \n",
    "             x='vaccination_timing', y='country_name', color_discrete_sequence=['#27F1E7'],\n",
    "             title='BCG Vaccination Timing by Country', text='bcg_strain_original')\n",
    "fig.show()"
   ]
  },
  {
   "cell_type": "code",
   "execution_count": null,
   "id": "339f3a71",
   "metadata": {},
   "outputs": [],
   "source": [
    "fig = px.bar(df[['bcg_policy_first_year_original','country_name']].sort_values('country_name', ascending=False), \n",
    "                        y = \"country_name\", x= \"bcg_policy_first_year_original\", color='country_name', template='ggplot2')\n",
    "fig.update_xaxes(tickangle=45, tickfont=dict(family='Rockwell', color='crimson', size=14))\n",
    "fig.update_layout(title_text=\"BCG Policy 1st Year Original\")\n",
    "\n",
    "fig.show()"
   ]
  },
  {
   "cell_type": "code",
   "execution_count": null,
   "id": "3a1c6bcc",
   "metadata": {},
   "outputs": [],
   "source": [
    "fig = px.bar(df[['bcg_policy_last_year_original','country_name']].sort_values('country_name', ascending=False), \n",
    "                        y = \"country_name\", x= \"bcg_policy_last_year_original\", color='country_name', template='ggplot2')\n",
    "fig.update_xaxes(tickangle=45, tickfont=dict(family='Rockwell', color='forestgreen', size=14))\n",
    "fig.update_layout(title_text=\"BCG Strain Last Year Original \")\n",
    "\n",
    "fig.show()"
   ]
  },
  {
   "cell_type": "markdown",
   "id": "16590114",
   "metadata": {},
   "source": [
    "#When and at what age (the target group of the vaccine) were vaccinated."
   ]
  },
  {
   "cell_type": "code",
   "execution_count": null,
   "id": "d3e42a08",
   "metadata": {},
   "outputs": [],
   "source": [
    "sns.countplot(x=\"is_bcg_mandatory_for_all_children\",data=df,palette=\"BuPu\",edgecolor=\"black\")\n",
    "plt.xticks(rotation=45)\n",
    "plt.yticks(rotation=45)\n",
    "# changing the font size\n",
    "plt.title('Is BCG Mandatory for All Children?')\n",
    "sns.set(font_scale=1)"
   ]
  },
  {
   "cell_type": "code",
   "execution_count": null,
   "id": "d7e8f27c",
   "metadata": {},
   "outputs": [],
   "source": [
    "ax = df['vaccination_timing'].value_counts().plot.barh(figsize=(16, 8))\n",
    "ax.set_title('Vaccination Timing', size=18)\n",
    "ax.set_ylabel('vaccination_timing', size=10)\n",
    "ax.set_xlabel('count', size=10)"
   ]
  },
  {
   "cell_type": "code",
   "execution_count": null,
   "id": "e4d2d62a",
   "metadata": {},
   "outputs": [],
   "source": [
    "fig = px.bar(df[['vaccination_timing','country_name']].sort_values('country_name', ascending=False), \n",
    "                        y = \"country_name\", x= \"vaccination_timing\", color='country_name', template='ggplot2')\n",
    "fig.update_xaxes(tickangle=45, tickfont=dict(family='Rockwell', color='forestgreen', size=14))\n",
    "fig.update_layout(title_text=\"BCG Vaccination Timing by Country\")\n",
    "\n",
    "fig.show()"
   ]
  },
  {
   "cell_type": "code",
   "execution_count": null,
   "id": "61495eef",
   "metadata": {},
   "outputs": [],
   "source": [
    "df3 = pd.read_csv('../input/hackathon/BCG_world_atlas_data-2020.csv')\n",
    "df3.head()"
   ]
  },
  {
   "cell_type": "markdown",
   "id": "010c1988",
   "metadata": {},
   "source": [
    "#Which high-risk groups (if applicable) receive BCG?"
   ]
  },
  {
   "cell_type": "code",
   "execution_count": null,
   "id": "c03373e3",
   "metadata": {},
   "outputs": [],
   "source": [
    "import matplotlib.pyplot as plt\n",
    "import seaborn as sns\n",
    "sns.countplot(x=\"Definition of High-risk groups (if applicable) which receive BCG?\",data=df3,palette=\"flag\",edgecolor=\"black\")\n",
    "plt.xticks(rotation=45)\n",
    "plt.yticks(rotation=45)\n",
    "plt.title('BCG Vaccinated High-risk Groups')\n",
    "# changing the font size\n",
    "sns.set(font_scale=1)"
   ]
  },
  {
   "cell_type": "code",
   "execution_count": null,
   "id": "356ea0bc",
   "metadata": {},
   "outputs": [],
   "source": [
    "ax = df3['Definition of High-risk groups (if applicable) which receive BCG?'].value_counts().plot.barh(figsize=(80, 80))\n",
    "ax.set_title('BCG Vaccinated High-Risk Groups', FontSize = 60)\n",
    "ax.set_ylabel('Definition of High-risk groups (if applicable) which receive BCG?', Fontsize = 80)\n",
    "ax.set_xlabel('count', FontSize = 80)\n",
    "ax.legend(fontsize=60)\n",
    "#plt.xticks(rotation=45, fontsize = 50)\n",
    "plt.yticks(fontsize = 80)"
   ]
  },
  {
   "cell_type": "markdown",
   "id": "6657a147",
   "metadata": {},
   "source": [
    "The font size is enlarged, however I still can't read The High-risk Groups that receive BCG. "
   ]
  },
  {
   "cell_type": "code",
   "execution_count": null,
   "id": "9b142096",
   "metadata": {},
   "outputs": [],
   "source": [
    "df1 = pd.read_csv('../input/hackathon/task_2-Tuberculosis_infection_estimates_for_2018.csv')\n",
    "df1.head()"
   ]
  },
  {
   "cell_type": "code",
   "execution_count": null,
   "id": "e2bdadf8",
   "metadata": {},
   "outputs": [],
   "source": [
    "ax = df1.groupby('g_whoregion')['e_prevtx_kids_pct_hi'].mean().plot(kind='barh', figsize=(12,8),\n",
    "                                                           title='Mean Estimated % of children received TB preventive therapy High Bound ')\n",
    "plt.xlabel('Mean Estimated % of children received TB preventive therapy')\n",
    "plt.ylabel('Who region')\n",
    "plt.show()"
   ]
  },
  {
   "cell_type": "code",
   "execution_count": null,
   "id": "4e15e37f",
   "metadata": {},
   "outputs": [],
   "source": [
    "ax = df1.groupby('g_whoregion')['e_prevtx_kids_pct_lo'].min().sort_values(ascending=True).plot(kind='barh', figsize=(12,8), color='r',\n",
    "                                                                                  title='Min.Estimated % of children received TB Preventive Therapy Low Bound')\n",
    "plt.xlabel('Min.Estimated % of children received TB preventive therapy')\n",
    "plt.ylabel('Who region')\n",
    "plt.show()"
   ]
  },
  {
   "cell_type": "code",
   "execution_count": null,
   "id": "eef97d52",
   "metadata": {},
   "outputs": [],
   "source": [
    "ax = df1.groupby('g_whoregion')['e_prevtx_eligible_lo', 'e_prevtx_eligible_hi'].sum().plot(kind='bar', rot=45, figsize=(12,6), logy=True,\n",
    "                                                                 title='Children under 5,household contacts of TB cases, elegible for TB Preventive Therapy')\n",
    "plt.xlabel('g_whoregion')\n",
    "plt.ylabel('Log Scale Children under 5, household contacts of TB cases, Eligible for TB Preventive Therapy')\n",
    "\n",
    "plt.show()"
   ]
  },
  {
   "cell_type": "code",
   "execution_count": null,
   "id": "4356cb15",
   "metadata": {},
   "outputs": [],
   "source": [
    "ax = df1.groupby('g_whoregion')['e_prevtx_eligible_hi', 'e_prevtx_eligible_lo'].sum().plot(kind='barh', figsize=(14,8),\n",
    "                                                                 title='Children under 5,who are household contacts of TB cases eligible for TB Preventive Therapy ', logx=True, linewidth=3)\n",
    "plt.xlabel('Log Scale Children under 5 who are household contacts of TB cases eligible for TB Preventive Treatment ')\n",
    "plt.ylabel('Who Region')\n",
    "plt.show()"
   ]
  },
  {
   "cell_type": "markdown",
   "id": "14038dfa",
   "metadata": {},
   "source": [
    "#Revaccinations (boosters) been given. When and at what age."
   ]
  },
  {
   "cell_type": "markdown",
   "id": "a6512d4a",
   "metadata": {},
   "source": [
    "In randomized trials in Guinea-Bissau,vaccination with BCG–Danish vaccine reduced neonatal mortality in low-birthweight babies by 48 per cent (95 per cent confidence interval (CI), 18 per cent–67 per cent) , and  Revaccination reduced all-cause mortality\n",
    "by 64 per cent (95 per cent CI, 1 per cent–87 per cent) in children aged 19 months who had received a booster dose of diphtheria–tetanus–pertussis vaccine . BCG vaccine may also have important nonspecific effects in high-income countries. In a cohort study in Spain, BCG–Danish vaccine reduced nontuberculous hospital admissions in infants by 32 per cent (95 per cent CI, 31 per cent–34 per cent) for respiratory infections and by 53 per cent (95 per cent CI, 44 per cent–61 per cent) for sepsis.\n",
    "\n",
    "It would be desirable to test whether revaccination with BCG vaccine reduces all-cause mortality in children who do not develop a scar after a single dose. In addition, in the randomized trial in Guinea-Bissau that showed reduced mortality after revaccination at age 19 months, 77 per cent of the children had a scar . Consequently, further randomized trials are needed to test the effects of revaccination on all-cause mortality in children who have a scar following BCG vaccination at birth, as well as those without a\n",
    "scar. Revaccination with BCG vaccine confers little or no extra protection against tuberculosis but it may improve protection\n",
    "against leprosy and increase the beneficial nonspecific effects of BCG vaccine.\n",
    "\n",
    "It's known that BCG vaccine protects against infections other than tuberculosis,at least in part, by an epigenetic effect mediated by methylation of histone that alters innate immunity in adults and neonates. It would be ironic if they were to discover that BCG vaccine protects against tuberculosis via a nonspecific effect mediated by innate immunity. They urgently need to know more about the mechanisms by which BCG vaccine protects against mycobacterial and nonmycobacterial infections.\n",
    "\n",
    "https://watermark.silverchair.com/civ454.pdf?token=AQECAHi208BE49Ooan9kkhW_Ercy7Dm3ZL_9Cf3qfKAc485ysgAAAp4wggKaBgkqhkiG9w0BBwagggKLMIIChwIBADCCAoAGCSqGSIb3DQEHATAeBglghkgBZQMEAS4wEQQMc7XkkxH0ji-h5pGIAgEQgIICUZuB3mvftiCqTEGwoJ5due8WoUP8eYnKjgjPHxHjJaBwZ0bKYyyJ8G3eS38lk_Qb5_JI7XdyHI8SZII3T3lNblg6zQ0-uA50RRG95Qn7eKtVHZXlbAKVUwVepV5k_dSQYmmft8erc-0ns224a7BU2MxDspQdD7bLN9145KmB0SFdCjR9YUFs58YDDcOL9XTtK2OKBA_L0zUqShkBJhNO6l8IozplL9C9Yyy7gpndV2aGY4LgdXrRpKKw0MqKmgoG5JQnySKf9I_8omSUx4JDfu6x2OPPpBr0n3PV1PC3Zah7EgNwSeC-d7kTGI_DEOWnVMTx2DikOvF7KBdPi9Gz1XItxjVSpn0eS1RY3wlORtTFMl4NbqZK46zbHRUOzHPC7-NBBQaRPVDflgWNvQ5gXWkZwih6G05mAe2OEXwSY3AZJHOy6XzFyCfsGGxBe3vKup4axO5vQ2Edtcdm4gJJGBcGJ8dr0CsAFAspBcFUT6vNmRCtBx0d380JM5ooBJHSMqKQEZBANFmguDCyHzn21i_L5RD9yEQHk1TcN1IFwLCV3oxL6_vEusV1UGJNNJOIi25EcXduwHz8MBZ4k-bLFwJqQ90pryuIk_IS10EqakmxlvWD3ozb18XC51wAwDe9otI8bVgaYiCOyz7BKHQmh78lBRGqudC89uTpLHqVR6w0T1gF_1jo3jv2NCD_L8h76JhpeBNDYALKo31719wTne2Lhijyta431bChj9if0MzL3NJjWVBaituOXYdz6Oq6mMjxp044zjLfkvZ7JEPVwCVe"
   ]
  },
  {
   "cell_type": "code",
   "execution_count": null,
   "id": "7d48c624",
   "metadata": {},
   "outputs": [],
   "source": [
    "ax = df['were_revaccinations_recommended'].value_counts().plot.barh(figsize=(16, 8), color='g')\n",
    "ax.set_title('Were revaccinations recommended?', size=18)\n",
    "ax.set_ylabel('were_revaccinations_recommended', size=10)\n",
    "ax.set_xlabel('count', size=10)"
   ]
  },
  {
   "cell_type": "code",
   "execution_count": null,
   "id": "b14ac535",
   "metadata": {},
   "outputs": [],
   "source": [
    "ax = df['timing_of_revaccination'].value_counts().plot.barh(figsize=(16, 8), color='g')\n",
    "ax.set_title('BCG Time interval of revaccination', size=18)\n",
    "ax.set_ylabel('Timing of revaccination', size=10)\n",
    "ax.set_xlabel('count', size=10)"
   ]
  },
  {
   "cell_type": "code",
   "execution_count": null,
   "id": "453edc60",
   "metadata": {},
   "outputs": [],
   "source": [
    "fig = px.bar(df[['timing_of_revaccination','country_name']].sort_values('country_name', ascending=False), \n",
    "                        y = \"country_name\", x= \"timing_of_revaccination\", color='country_name', template='ggplot2')\n",
    "fig.update_xaxes(tickangle=45, tickfont=dict(family='Rockwell', color='crimson', size=14))\n",
    "fig.update_layout(title_text=\"BCG Time interval of revaccination by country\")\n",
    "\n",
    "fig.show()"
   ]
  },
  {
   "cell_type": "code",
   "execution_count": null,
   "id": "be62daa1",
   "metadata": {},
   "outputs": [],
   "source": [
    "fig = px.bar(df, \n",
    "             x='timing_of_revaccination', y='country_name', color_discrete_sequence=['#27F1E7'],\n",
    "             title='BCG Revaccination Time Interval', text='bcg_strain_original')\n",
    "fig.show()"
   ]
  },
  {
   "cell_type": "markdown",
   "id": "5b0f3cef",
   "metadata": {},
   "source": [
    "#East and West Germany different BCG vaccination schemes before 1990."
   ]
  },
  {
   "cell_type": "markdown",
   "id": "744c25a9",
   "metadata": {},
   "source": [
    "By Luis E. Escobar, View ORCID ProfileAlvaro Molina-Cruz, and Carolina Barillas-Mury PNAS first published July 9, 2020 https://doi.org/10.1073/pnas.2008410117\n",
    "\n",
    "Germany provides a unique opportunity to compare the potential effect of age of BCG vaccination on susceptibility to COVID-19, as, before the unification, East and West Germany followed different vaccination schemes. In West Germany, those 22 years to 59 years old today were vaccinated, while, in East Germany, those 45 years to 84 years old today received at least one dose of BCG. A comparison of these two regions revealed that the average COVID-19 mortality rate in western German states (40.5 per million) was 2.9-fold higher than in eastern states (14.2 per million) . Similarly, the mean mortality in Western Europe was 9.92 times higher than in Eastern Europe (t  = −2.592, P < 0.025), where countries, in general, have active universal BCG vaccination programs.\n",
    "![](https://www.pnas.org/content/pnas/early/2020/07/07/2008410117/F3.medium.gif)\n",
    "By Luis E. Escobar, View ORCID ProfileAlvaro Molina-Cruz, and Carolina Barillas-Mury PNAS first published July 9, 2020 https://doi.org/10.1073/pnas.2008410117\n",
    "\n",
    "(B) Estimated age range of people that received BCG vaccination in East and West Germany. (C) Map illustrating the regions of East and West Germany included in the analysis. (D) Mean COVID-19 mortality in East Germany was lower than mortality in West Germany (t = −2.592, P = 0.025).https://www.pnas.org/content/early/2020/07/07/2008410117"
   ]
  },
  {
   "cell_type": "code",
   "execution_count": null,
   "id": "d8a31bda",
   "metadata": {},
   "outputs": [],
   "source": [
    "df2 = pd.read_csv('../input/hackathon/task_2-Gemany_per_state_stats_20June2020.csv', encoding='utf8')\n",
    "df2.head()"
   ]
  },
  {
   "cell_type": "code",
   "execution_count": null,
   "id": "b230a9bc",
   "metadata": {},
   "outputs": [],
   "source": [
    "plt.style.use('dark_background')\n",
    "sns.countplot(x=\"East/West\",data=df2,palette=\"OrRd\",edgecolor=\"black\")\n",
    "plt.xticks(rotation=45)\n",
    "plt.yticks(rotation=45)\n",
    "# changing the font size\n",
    "plt.title('East/West German')\n",
    "sns.set(font_scale=1)"
   ]
  },
  {
   "cell_type": "code",
   "execution_count": null,
   "id": "a92b95b4",
   "metadata": {},
   "outputs": [],
   "source": [
    "fig = px.bar(df2, \n",
    "             x='Deaths', y='East/West', color_discrete_sequence=['#27F1E7'],\n",
    "             title='Covid19 Deaths in Germany', text='Population Density',  template='plotly_dark')\n",
    "fig.show()"
   ]
  },
  {
   "cell_type": "code",
   "execution_count": null,
   "id": "e06c2c12",
   "metadata": {},
   "outputs": [],
   "source": [
    "fig = px.bar(df2,\n",
    "             y='East/West',\n",
    "             x='Deaths',\n",
    "             orientation='h',\n",
    "             color='State in Germany (German)',\n",
    "             title='Covid19 Cases East & West Germany',\n",
    "             opacity=0.8,\n",
    "             color_discrete_sequence=px.colors.diverging.RdGy,\n",
    "             template='plotly_dark'\n",
    "            )\n",
    "fig.update_xaxes(range=[0,35])\n",
    "fig.show()"
   ]
  },
  {
   "cell_type": "code",
   "execution_count": null,
   "id": "ae05bea8",
   "metadata": {},
   "outputs": [],
   "source": [
    "fig = px.line(df2, x=\"East/West\", y=\"Deaths\", color_discrete_sequence=['darkorange'], \n",
    "              title=\"Deaths by Covid19 in Germany\", template='plotly_dark' )\n",
    "fig.show()"
   ]
  },
  {
   "cell_type": "code",
   "execution_count": null,
   "id": "4e93e0d9",
   "metadata": {},
   "outputs": [],
   "source": [
    "fig = px.scatter_matrix(df2)\n",
    "fig.show()"
   ]
  },
  {
   "cell_type": "markdown",
   "id": "9a6040c3",
   "metadata": {},
   "source": [
    "Das War's  Kaggle Notebook Runner: Marília Prata   @mpwolke"
   ]
  }
 ],
 "metadata": {},
 "nbformat": 4,
 "nbformat_minor": 5
}
