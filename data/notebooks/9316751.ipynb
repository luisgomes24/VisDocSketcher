{
 "cells": [
  {
   "cell_type": "code",
   "execution_count": null,
   "id": "87b9793b",
   "metadata": {},
   "outputs": [],
   "source": [
    "from IPython.display import Image\n",
    "Image(\"../input/covid19/photo-1584036561566-baf8f5f1b144.jpeg\", width = \"800px\")"
   ]
  },
  {
   "cell_type": "markdown",
   "id": "a73befc1",
   "metadata": {},
   "source": [
    "## What is Novel Coronavirus?\n",
    "The novel coronavirus (provisionally named 2019-nCoV) is a contagious virus that causes respiratory infection. It has been identified as the causative agent of the ongoing 2019–20 Wuhan coronavirus outbreak.\n",
    "\n",
    "As many early cases were linked to a large seafood and animal market, the virus is thought to have a zoonotic origin, but this has not been confirmed. Comparisons of the genetic sequences of this virus and other virus samples have shown similarities to SARS-CoV (79.5%) and bat coronaviruses (96%), which makes an ultimate origin in bats likely.\n",
    "\n",
    "The first known human infection occurred in December 8, 2019. An outbreak of 2019-nCoV was first detected in Wuhan, China, in mid-December 2019.The virus subsequently spread to all other provinces of China and to more than twenty other countries in Asia, Europe, North America, and Oceania. Human-to-human spread of the virus has been confirmed in China, Germany, Thailand, Taiwan, Japan, and the United States.\n",
    "\n",
    "As of 1 February 2020, there were 12,024 confirmed cases of infection, of which 11,860 were within mainland China. Cases outside China, to date, were people who have either travelled from Wuhan, or were in direct contact with someone who travelled from the area. The number of deaths was 259 as of 1 February 2020.\n",
    "\n",
    "**Source:** https://en.wikipedia.org/wiki/Novel_coronavirus_(2019-nCoV)"
   ]
  },
  {
   "cell_type": "code",
   "execution_count": null,
   "id": "d786d393",
   "metadata": {},
   "outputs": [],
   "source": [
    "import folium\n",
    "import operator \n",
    "import folium as f\n",
    "import pandas as pd\n",
    "import seaborn as sns\n",
    "import plotly.express as px\n",
    "import plotly.offline as py\n",
    "import matplotlib.pyplot as plt\n",
    "from IPython.core.display import HTML"
   ]
  },
  {
   "cell_type": "markdown",
   "id": "5461d9c6",
   "metadata": {},
   "source": [
    "# Pandas\n",
    "## In computer programming, pandas is a software library written for the Python programming language for data manipulation and analysis. In particular, it offers data structures and operations for manipulating numerical tables and time series. It is free software released under the three-clause BSD license.\n",
    "## Documentation Link: https://pandas.pydata.org/docs/\n",
    "\n"
   ]
  },
  {
   "cell_type": "markdown",
   "id": "03ec2d56",
   "metadata": {},
   "source": [
    "# Matplotlib\n",
    "## Matplotlib is a comprehensive library for creating static, animated, and interactive visualizations in Python. Matplotlib makes easy things easy and hard things possible.\n",
    "## Documentation Link: https://matplotlib.org/"
   ]
  },
  {
   "cell_type": "markdown",
   "id": "d742ac56",
   "metadata": {},
   "source": [
    "# Seaborn\n",
    "## Seaborn is a Python data visualization library based on matplotlib. It provides a high-level interface for drawing attractive and informative statistical graphics.\n",
    "## Documentation Link: https://seaborn.pydata.org/"
   ]
  },
  {
   "cell_type": "markdown",
   "id": "ef74aa86",
   "metadata": {},
   "source": [
    "# Folium\n",
    "## Folium is a powerful Python library that helps you create several types of Leaflet maps. ... To get an idea, just zoom/click around on the next map to get an impression. The Folium github contains many other examples. By default, Folium creates a map in a separate HTML file.\n",
    "## Documentation Link: https://python-visualization.github.io/folium/"
   ]
  },
  {
   "cell_type": "markdown",
   "id": "e4d46250",
   "metadata": {},
   "source": [
    "# Loading The Dataset"
   ]
  },
  {
   "cell_type": "code",
   "execution_count": null,
   "id": "25c5c0fc",
   "metadata": {},
   "outputs": [],
   "source": [
    "Input_Data1 = pd.read_csv('../input/coronavirusdataset/TimeGender.csv')\n",
    "Input_Data1.head()"
   ]
  },
  {
   "cell_type": "code",
   "execution_count": null,
   "id": "f2a6ce46",
   "metadata": {},
   "outputs": [],
   "source": [
    "Input_Data = pd.read_csv('../input/corona-virus-report/covid_19_clean_complete.csv')\n",
    "Input_Data.head()"
   ]
  },
  {
   "cell_type": "markdown",
   "id": "b14c0d4c",
   "metadata": {},
   "source": [
    "# Data Visualisation HTML"
   ]
  },
  {
   "cell_type": "code",
   "execution_count": null,
   "id": "c4c45bc3",
   "metadata": {},
   "outputs": [],
   "source": [
    "HTML('''<div class=\"flourish-embed flourish-bar-chart-race\" data-src=\"visualisation/1571387\"><script src=\"https://public.flourish.studio/resources/embed.js\"></script></div>''')\n"
   ]
  },
  {
   "cell_type": "markdown",
   "id": "ec3dae57",
   "metadata": {},
   "source": [
    "# Data Analysis"
   ]
  },
  {
   "cell_type": "code",
   "execution_count": null,
   "id": "0d903cef",
   "metadata": {},
   "outputs": [],
   "source": [
    "male = 0\n",
    "female = 0\n",
    "male_confirmed = []\n",
    "male_deceased = []\n",
    "female_confirmed = []\n",
    "female_deceased = []\n",
    "\n",
    "for i in range (len(Input_Data1[\"sex\"])):\n",
    "    if Input_Data1[\"sex\"][i] == 'male':\n",
    "        male = male + 1\n",
    "        male_confirmed.append(Input_Data1[\"confirmed\"][i])\n",
    "        male_deceased.append(Input_Data1[\"deceased\"][i])\n",
    "    else:\n",
    "        female = female  + 1\n",
    "        female_confirmed.append(Input_Data1[\"confirmed\"][i])\n",
    "        female_deceased.append(Input_Data1[\"deceased\"][i])"
   ]
  },
  {
   "cell_type": "code",
   "execution_count": null,
   "id": "eea813ca",
   "metadata": {},
   "outputs": [],
   "source": [
    "df = pd.DataFrame([sum(male_confirmed),sum(male_deceased)], index=['confirmed case', 'Death case'], columns=['Male Data Analysis'])\n",
    "df.plot(kind='bar', subplots=True, figsize=(10, 10))\n"
   ]
  },
  {
   "cell_type": "code",
   "execution_count": null,
   "id": "8aedcc1c",
   "metadata": {},
   "outputs": [],
   "source": [
    "df = pd.DataFrame([sum(female_confirmed),sum(female_deceased)], index=['confirmed case', 'Death case'], columns=['Female Data Analysis'])\n",
    "df.plot(kind='bar', subplots=True, figsize=(10, 10))"
   ]
  },
  {
   "cell_type": "code",
   "execution_count": null,
   "id": "2fc9feb9",
   "metadata": {},
   "outputs": [],
   "source": [
    "def people_count(Cloumn_name):\n",
    "    _people_count = 0\n",
    "    for i in Cloumn_name:\n",
    "        _people_count = _people_count + i\n",
    "    return _people_count\n",
    "\n",
    "def COVID_analysis(Column_name,_Column_name):\n",
    "    Local_Country = []\n",
    "    Local_List = []\n",
    "    for i in range(len(Column_name)):\n",
    "        if Column_name[i] > 0 :\n",
    "            Local_List.append(Column_name[i])\n",
    "            Local_Country.append(_Column_name[i])\n",
    "            \n",
    "    return Local_List, Local_Country\n",
    "\n",
    "def InsertionSort(arr): \n",
    "    for i in range(1, len(arr)):\n",
    "        key = arr[i] \n",
    "        j = i-1\n",
    "        while j >= 0 and key < arr[j] : \n",
    "                arr[j + 1] = arr[j] \n",
    "                j -= 1\n",
    "        arr[j + 1] = key  \n",
    "    return arr\n",
    "def Remove_Duplication(_Permanent_List, _Permanent_List_, Date_List_):\n",
    "    _Country = []\n",
    "    _list = []\n",
    "    Confirmed_Count = []\n",
    "    for i in range(len(b)): \n",
    "        if not (_Permanent_List[i] in _Country):\n",
    "            _list.append(_Permanent_List[i])\n",
    "            Confirmed_Count.append(Permanent_List_[i])\n",
    "    return _Country, Confirmed_Count\n",
    "No_confirmed_case = people_count(Input_Data[\"Confirmed\"])\n",
    "No_Recovered_case = people_count(Input_Data[\"Recovered\"])\n",
    "No_Death_case = people_count(Input_Data[\"Deaths\"])"
   ]
  },
  {
   "cell_type": "markdown",
   "id": "6c2210e4",
   "metadata": {},
   "source": [
    "# COVID Case's"
   ]
  },
  {
   "cell_type": "code",
   "execution_count": null,
   "id": "76e39976",
   "metadata": {},
   "outputs": [],
   "source": [
    "print(\"Number of People Affected by COVID-19:\"+\" \"+str(No_confirmed_case))\n",
    "print(\"-------------------------------------------------------------------------------------\\n\\n\")\n",
    "print(\"Number of People Recovered From COVID-19:\"+\" \"+str(No_Recovered_case))\n",
    "print(\"-------------------------------------------------------------------------------------\\n\\n\")\n",
    "print(\"Number of People Died for COVID-19:\"+\" \"+str(No_Death_case))\n",
    "print(\"-------------------------------------------------------------------------------------\")"
   ]
  },
  {
   "cell_type": "markdown",
   "id": "6678aff1",
   "metadata": {},
   "source": [
    "# Number of cases per country"
   ]
  },
  {
   "cell_type": "code",
   "execution_count": null,
   "id": "13c1686d",
   "metadata": {},
   "outputs": [],
   "source": [
    "country_confirmed_cases = []\n",
    "country_death_cases = [] \n",
    "country_active_cases = []\n",
    "country_recovery_cases = []\n",
    "country_mortality_rate = [] \n",
    "\n",
    "latest_data = Input_Data\n",
    "unique_countries =  list(latest_data['Country/Region'].unique())\n",
    "\n",
    "no_cases = []\n",
    "for i in unique_countries:\n",
    "    cases = latest_data[latest_data['Country/Region']==i]['Confirmed'].sum()\n",
    "    if cases > 0:\n",
    "        country_confirmed_cases.append(cases)\n",
    "    else:\n",
    "        no_cases.append(i)\n",
    "        \n",
    "for i in no_cases:\n",
    "    unique_countries.remove(i)\n",
    "    \n",
    "# sort countries by the number of confirmed cases\n",
    "unique_countries = [k for k, v in sorted(zip(unique_countries, country_confirmed_cases), key=operator.itemgetter(1), reverse=True)]\n",
    "for i in range(len(unique_countries)):\n",
    "    country_confirmed_cases[i] = latest_data[latest_data['Country/Region']==unique_countries[i]]['Confirmed'].sum()\n",
    "    country_death_cases.append(latest_data[latest_data['Country/Region']==unique_countries[i]]['Deaths'].sum())\n",
    "    country_recovery_cases.append(latest_data[latest_data['Country/Region']==unique_countries[i]]['Recovered'].sum())\n",
    "    country_active_cases.append(country_confirmed_cases[i] - country_death_cases[i] - country_recovery_cases[i])\n",
    "    country_mortality_rate.append(country_death_cases[i]/country_confirmed_cases[i])\n",
    "#Data table\n",
    "\n",
    "country_df = pd.DataFrame({'Country Name': unique_countries, 'Number of Confirmed Cases': country_confirmed_cases,\n",
    "                          'Number of Deaths': country_death_cases, 'Number of Recoveries' : country_recovery_cases, \n",
    "                          'Number of Active Cases' : country_active_cases,\n",
    "                          'Mortality Rate': country_mortality_rate})\n",
    "\n",
    "# number of cases per country/region\n",
    "\n",
    "country_df.style.background_gradient(cmap='Greens')"
   ]
  },
  {
   "cell_type": "markdown",
   "id": "3a66c6f8",
   "metadata": {},
   "source": [
    "# Total Case's"
   ]
  },
  {
   "cell_type": "code",
   "execution_count": null,
   "id": "28304f32",
   "metadata": {},
   "outputs": [],
   "source": [
    "Confirmed_cases_count, Confirmed_cases_Country = COVID_analysis(Input_Data[\"Confirmed\"],Input_Data[\"Country/Region\"])\n",
    "Recovered_case_count, Date_Cases = COVID_analysis(Input_Data[\"Recovered\"],Input_Data[\"Date\"])\n",
    "Death_case_count, Date_Cases = COVID_analysis(Input_Data[\"Deaths\"],Input_Data[\"Date\"])\n",
    "\n",
    "a_ = InsertionSort(Confirmed_cases_count)\n",
    "b_ = InsertionSort(Recovered_case_count)\n",
    "c_ = InsertionSort(Death_case_count)\n",
    "\n",
    "_Confirmed_List = a_[::-1]\n",
    "_Recovered_List_ = b_[::-1]\n",
    "_Death_List_ = c_[::-1]\n",
    "_Country_List = Confirmed_cases_Country[::-1]\n",
    "Date_Cases_list = Date_Cases[::-1]\n",
    "\n",
    "_Confirmed_cases_count = []\n",
    "_Confirmed_cases_Country = []\n",
    "_Death_case_count = []\n",
    "_Date_Cases = []"
   ]
  },
  {
   "cell_type": "code",
   "execution_count": null,
   "id": "1e9db44d",
   "metadata": {},
   "outputs": [],
   "source": [
    "names='confirmed', 'Recovered', 'Death',\n",
    "size=[No_confirmed_case,No_Recovered_case,No_Death_case]\n",
    "\n",
    "\n",
    "my_circle=plt.Circle( (0,0), 0.7, color='white')\n",
    "plt.pie(size, labels=names, colors=['orange','green','blue'])\n",
    "p=plt.gcf()\n",
    "p.gca().add_artist(my_circle)\n",
    "plt.title(\"Total number of cases\", size = 20)\n",
    "plt.show()"
   ]
  },
  {
   "cell_type": "markdown",
   "id": "eb426e61",
   "metadata": {},
   "source": [
    "# Map Data"
   ]
  },
  {
   "cell_type": "code",
   "execution_count": null,
   "id": "0e8c87d3",
   "metadata": {},
   "outputs": [],
   "source": [
    "map = folium.Map(location=[20.5937, 78.9629], zoom_start=4,tiles='cartodbpositron')\n",
    "\n",
    "for lat, lon,state,Confirmed,Recovered,Deaths in zip(Input_Data['Lat'], Input_Data['Long'],Input_Data['Country/Region'],Input_Data['Confirmed'],Input_Data['Recovered'],Input_Data['Deaths']):\n",
    "    folium.CircleMarker([lat, lon],\n",
    "                        radius=5,\n",
    "                        color='YlOrRd',\n",
    "                      popup =(\n",
    "                    'State: ' + str(state) + '<br>'\n",
    "                    'Confirmed: ' + str(Confirmed) + '<br>'\n",
    "                      'Recovered: ' + str(Recovered) + '<br>'\n",
    "                      'Deaths: ' + str(Deaths) + '<br>'),\n",
    "\n",
    "                        fill_color='red',\n",
    "                        fill_opacity=0.7 ).add_to(map)\n",
    "map"
   ]
  }
 ],
 "metadata": {},
 "nbformat": 4,
 "nbformat_minor": 5
}
