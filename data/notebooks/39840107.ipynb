{
 "cells": [
  {
   "cell_type": "code",
   "execution_count": null,
   "id": "0b172c63",
   "metadata": {},
   "outputs": [],
   "source": [
    "import pandas as pd\n",
    "import numpy as np\n",
    "import matplotlib.pyplot\n",
    "\n",
    "from sklearn.preprocessing import LabelEncoder, OneHotEncoder\n",
    "from sklearn.model_selection import train_test_split\n",
    "from sklearn.linear_model import LinearRegression, Ridge, Lasso\n",
    "from sklearn.metrics import mean_squared_error, r2_score, mean_absolute_error"
   ]
  },
  {
   "cell_type": "code",
   "execution_count": null,
   "id": "c8b41f5b",
   "metadata": {},
   "outputs": [],
   "source": [
    "train = pd.read_csv(\"/kaggle/input/playground-series-s3e16/train.csv\")\n",
    "test = pd.read_csv(\"/kaggle/input/playground-series-s3e16/test.csv\")"
   ]
  },
  {
   "cell_type": "code",
   "execution_count": null,
   "id": "084aa902",
   "metadata": {},
   "outputs": [],
   "source": [
    "train.shape , test.shape"
   ]
  },
  {
   "cell_type": "code",
   "execution_count": null,
   "id": "b93bf48c",
   "metadata": {},
   "outputs": [],
   "source": [
    "train.isnull().sum()"
   ]
  },
  {
   "cell_type": "code",
   "execution_count": null,
   "id": "b70bd1fb",
   "metadata": {},
   "outputs": [],
   "source": [
    "cat_col = train.select_dtypes(include=\"object\").columns\n",
    "cat_col"
   ]
  },
  {
   "cell_type": "code",
   "execution_count": null,
   "id": "9d68ff3d",
   "metadata": {},
   "outputs": [],
   "source": [
    "encoder_le = LabelEncoder()\n",
    "train[\"Gender\"] = encoder_le.fit_transform(train[cat_col])\n",
    "train[\"Gender\"].unique()"
   ]
  },
  {
   "cell_type": "code",
   "execution_count": null,
   "id": "fb6591ae",
   "metadata": {},
   "outputs": [],
   "source": [
    "train.head()"
   ]
  },
  {
   "cell_type": "code",
   "execution_count": null,
   "id": "1066b930",
   "metadata": {},
   "outputs": [],
   "source": [
    "encoder_ohe = OneHotEncoder()\n",
    "df = pd.DataFrame(encoder_ohe.fit_transform(train[['Sex']]).toarray())"
   ]
  },
  {
   "cell_type": "code",
   "execution_count": null,
   "id": "2b0837b6",
   "metadata": {},
   "outputs": [],
   "source": [
    "df.head()"
   ]
  },
  {
   "cell_type": "code",
   "execution_count": null,
   "id": "a9303537",
   "metadata": {},
   "outputs": [],
   "source": [
    "train = train.join(df)"
   ]
  },
  {
   "cell_type": "code",
   "execution_count": null,
   "id": "4ba0863e",
   "metadata": {},
   "outputs": [],
   "source": [
    "train.head()"
   ]
  },
  {
   "cell_type": "code",
   "execution_count": null,
   "id": "5464cd89",
   "metadata": {},
   "outputs": [],
   "source": [
    "train.rename(columns ={0: \"Female\", 1: \"Indeterminate\", 2 : \"Male\"}, inplace = True)"
   ]
  },
  {
   "cell_type": "code",
   "execution_count": null,
   "id": "700c92fc",
   "metadata": {},
   "outputs": [],
   "source": [
    "train.head()"
   ]
  },
  {
   "cell_type": "code",
   "execution_count": null,
   "id": "b0dcbf7b",
   "metadata": {},
   "outputs": [],
   "source": [
    "train.drop([\"Sex\", \"Gender\"], axis=1, inplace=True)"
   ]
  },
  {
   "cell_type": "code",
   "execution_count": null,
   "id": "1814c2c2",
   "metadata": {},
   "outputs": [],
   "source": [
    "train.head()"
   ]
  },
  {
   "cell_type": "code",
   "execution_count": null,
   "id": "cfeceb91",
   "metadata": {},
   "outputs": [],
   "source": [
    "train.columns"
   ]
  },
  {
   "cell_type": "code",
   "execution_count": null,
   "id": "d16cf2df",
   "metadata": {},
   "outputs": [],
   "source": [
    "x = train.drop([\"id\", \"Age\"], axis=1)\n",
    "y = train.Age"
   ]
  },
  {
   "cell_type": "code",
   "execution_count": null,
   "id": "b0eb09f2",
   "metadata": {},
   "outputs": [],
   "source": [
    "x_train, x_test, y_train, y_test = train_test_split(x, y, test_size=0.30, random_state=24)"
   ]
  },
  {
   "cell_type": "code",
   "execution_count": null,
   "id": "8cf5a69e",
   "metadata": {},
   "outputs": [],
   "source": [
    "model_lr = LinearRegression()\n",
    "model_lr.fit(x_train, y_train)"
   ]
  },
  {
   "cell_type": "code",
   "execution_count": null,
   "id": "9a5a9317",
   "metadata": {},
   "outputs": [],
   "source": [
    "model_ri = Ridge()\n",
    "model_ri.fit(x_train, y_train)"
   ]
  },
  {
   "cell_type": "code",
   "execution_count": null,
   "id": "6e92517e",
   "metadata": {},
   "outputs": [],
   "source": [
    "model_la = Lasso()\n",
    "model_la.fit(x_train, y_train)"
   ]
  },
  {
   "cell_type": "code",
   "execution_count": null,
   "id": "f1e69e7a",
   "metadata": {},
   "outputs": [],
   "source": [
    "y_pred_lr = model_lr.predict(x_test)\n",
    "y_pred_ri = model_ri.predict(x_test)\n",
    "y_pred_la = model_la.predict(x_test)"
   ]
  },
  {
   "cell_type": "code",
   "execution_count": null,
   "id": "fe24333f",
   "metadata": {},
   "outputs": [],
   "source": [
    "def mse(s,y_test, y_pred):\n",
    "    print(f'Mean Square Error in {s} Regression = {mean_squared_error(y_test,y_pred)}')\n",
    "   \n",
    "\n",
    "mse(\"Linear\",y_test, y_pred_lr)\n",
    "mse(\"Ridge\",y_test, y_pred_ri)\n",
    "mse(\"Lasso\",y_test, y_pred_la)"
   ]
  },
  {
   "cell_type": "code",
   "execution_count": null,
   "id": "0a27f51a",
   "metadata": {},
   "outputs": [],
   "source": [
    "def mae(s,y_test, y_pred):\n",
    "    print(f'Mean absolute Error in {s} Regression = {mean_absolute_error(y_test,y_pred)}')\n",
    "   \n",
    "\n",
    "mae(\"Linear\",y_test, y_pred_lr)\n",
    "mae(\"Ridge\",y_test, y_pred_ri)\n",
    "mae(\"Lasso\",y_test, y_pred_la)"
   ]
  },
  {
   "cell_type": "code",
   "execution_count": null,
   "id": "ebc48c98",
   "metadata": {},
   "outputs": [],
   "source": [
    "def rmse(s,y_test, y_pred):\n",
    "    print(f'Root Mean Square Error in {s} Regression = {np.sqrt(mean_squared_error(y_test,y_pred))}')\n",
    "   \n",
    "\n",
    "rmse(\"Linear\",y_test, y_pred_lr)\n",
    "rmse(\"Ridge\",y_test, y_pred_ri)\n",
    "rmse(\"Lasso\",y_test, y_pred_la)"
   ]
  },
  {
   "cell_type": "code",
   "execution_count": null,
   "id": "49fba76c",
   "metadata": {},
   "outputs": [],
   "source": [
    "def r2(s,y_test, y_pred):\n",
    "    print(f'R^2 score in {s} Regression = {r2_score(y_test,y_pred)*100}')\n",
    "   \n",
    "\n",
    "r2(\"Linear\",y_test, y_pred_lr)\n",
    "r2(\"Ridge\",y_test, y_pred_ri)\n",
    "r2(\"Lasso\",y_test, y_pred_la)"
   ]
  }
 ],
 "metadata": {},
 "nbformat": 4,
 "nbformat_minor": 5
}
