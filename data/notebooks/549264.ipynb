{
 "cells": [
  {
   "cell_type": "markdown",
   "id": "0ec14ffc",
   "metadata": {},
   "source": [
    "Exploration of How Social Media Can Predict Winning Metrics Better Than Salary"
   ]
  },
  {
   "cell_type": "code",
   "execution_count": null,
   "id": "4c82bd99",
   "metadata": {},
   "outputs": [],
   "source": [
    "import pandas as pd\n",
    "import statsmodels.api as sm\n",
    "import statsmodels.formula.api as smf\n",
    "import matplotlib.pyplot as plt\n",
    "import seaborn as sns\n",
    "from sklearn.cluster import KMeans\n",
    "color = sns.color_palette()\n",
    "from IPython.core.display import display, HTML\n",
    "display(HTML(\"<style>.container { width:100% !important; }</style>\"))\n",
    "%matplotlib inline"
   ]
  },
  {
   "cell_type": "code",
   "execution_count": null,
   "id": "43588371",
   "metadata": {},
   "outputs": [],
   "source": [
    "attendance_valuation_elo_df = pd.read_csv(\"../input/nba_2017_att_val_elo.csv\");attendance_valuation_elo_df.head()"
   ]
  },
  {
   "cell_type": "code",
   "execution_count": null,
   "id": "2330e19d",
   "metadata": {},
   "outputs": [],
   "source": [
    "salary_df = pd.read_csv(\"../input/nba_2017_salary.csv\");salary_df.head()\n"
   ]
  },
  {
   "cell_type": "code",
   "execution_count": null,
   "id": "63d3e6f1",
   "metadata": {},
   "outputs": [],
   "source": [
    "pie_df = pd.read_csv(\"../input/nba_2017_pie.csv\");pie_df.head()"
   ]
  },
  {
   "cell_type": "code",
   "execution_count": null,
   "id": "525a3e20",
   "metadata": {},
   "outputs": [],
   "source": [
    "plus_minus_df = pd.read_csv(\"../input/nba_2017_real_plus_minus.csv\");plus_minus_df.head()"
   ]
  },
  {
   "cell_type": "code",
   "execution_count": null,
   "id": "0a040bf5",
   "metadata": {},
   "outputs": [],
   "source": [
    "br_stats_df = pd.read_csv(\"../input/nba_2017_br.csv\");br_stats_df.head()"
   ]
  },
  {
   "cell_type": "code",
   "execution_count": null,
   "id": "c4f1f69b",
   "metadata": {},
   "outputs": [],
   "source": [
    "\n",
    "plus_minus_df.rename(columns={\"NAME\":\"PLAYER\", \"WINS\": \"WINS_RPM\"}, inplace=True)\n",
    "players = []\n",
    "for player in plus_minus_df[\"PLAYER\"]:\n",
    "    plyr, _ = player.split(\",\")\n",
    "    players.append(plyr)\n",
    "plus_minus_df.drop([\"PLAYER\"], inplace=True, axis=1)\n",
    "plus_minus_df[\"PLAYER\"] = players\n",
    "plus_minus_df.head()"
   ]
  },
  {
   "cell_type": "code",
   "execution_count": null,
   "id": "4f61d8a5",
   "metadata": {},
   "outputs": [],
   "source": [
    "\n",
    "nba_players_df = br_stats_df.copy()\n",
    "nba_players_df.rename(columns={'Player': 'PLAYER','Pos':'POSITION', 'Tm': \"TEAM\", 'Age': 'AGE', \"PS/G\": \"POINTS\"}, inplace=True)\n",
    "nba_players_df.drop([\"G\", \"GS\", \"TEAM\"], inplace=True, axis=1)\n",
    "nba_players_df = nba_players_df.merge(plus_minus_df, how=\"inner\", on=\"PLAYER\")\n",
    "nba_players_df.head()"
   ]
  },
  {
   "cell_type": "code",
   "execution_count": null,
   "id": "b764aada",
   "metadata": {},
   "outputs": [],
   "source": [
    "\n",
    "pie_df_subset = pie_df[[\"PLAYER\", \"PIE\", \"PACE\", \"W\"]].copy()\n",
    "nba_players_df = nba_players_df.merge(pie_df_subset, how=\"inner\", on=\"PLAYER\")\n",
    "nba_players_df.head()"
   ]
  },
  {
   "cell_type": "code",
   "execution_count": null,
   "id": "096c7104",
   "metadata": {},
   "outputs": [],
   "source": [
    "salary_df.rename(columns={'NAME': 'PLAYER'}, inplace=True)\n",
    "salary_df[\"SALARY_MILLIONS\"] = round(salary_df[\"SALARY\"]/1000000, 2)\n",
    "salary_df.drop([\"POSITION\",\"TEAM\", \"SALARY\"], inplace=True, axis=1)\n",
    "salary_df.head()"
   ]
  },
  {
   "cell_type": "code",
   "execution_count": null,
   "id": "0cb93624",
   "metadata": {},
   "outputs": [],
   "source": [
    "diff = list(set(nba_players_df[\"PLAYER\"].values.tolist()) - set(salary_df[\"PLAYER\"].values.tolist()))"
   ]
  },
  {
   "cell_type": "code",
   "execution_count": null,
   "id": "375283f3",
   "metadata": {},
   "outputs": [],
   "source": [
    "len(diff)\n"
   ]
  },
  {
   "cell_type": "code",
   "execution_count": null,
   "id": "51057d7a",
   "metadata": {},
   "outputs": [],
   "source": [
    "\n",
    "nba_players_with_salary_df = nba_players_df.merge(salary_df); "
   ]
  },
  {
   "cell_type": "code",
   "execution_count": null,
   "id": "0740431a",
   "metadata": {},
   "outputs": [],
   "source": [
    "\n",
    "plt.subplots(figsize=(20,15))\n",
    "ax = plt.axes()\n",
    "ax.set_title(\"NBA Player Correlation Heatmap:  2016-2017 Season (STATS & SALARY)\")\n",
    "corr = nba_players_with_salary_df.corr()\n",
    "sns.heatmap(corr, \n",
    "            xticklabels=corr.columns.values,\n",
    "            yticklabels=corr.columns.values,\n",
    "           cmap=\"Pinks\")"
   ]
  },
  {
   "cell_type": "code",
   "execution_count": null,
   "id": "f68ad37c",
   "metadata": {},
   "outputs": [],
   "source": [
    "sns.lmplot(x=\"SALARY_MILLIONS\", y=\"WINS_RPM\", data=nba_players_with_salary_df)\n"
   ]
  },
  {
   "cell_type": "code",
   "execution_count": null,
   "id": "c74a9342",
   "metadata": {},
   "outputs": [],
   "source": [
    "results = smf.ols('W ~POINTS', data=nba_players_with_salary_df).fit()\n"
   ]
  },
  {
   "cell_type": "code",
   "execution_count": null,
   "id": "176ef63d",
   "metadata": {},
   "outputs": [],
   "source": [
    "print(results.summary())\n"
   ]
  },
  {
   "cell_type": "code",
   "execution_count": null,
   "id": "93ace2d8",
   "metadata": {},
   "outputs": [],
   "source": [
    "results = smf.ols('W ~WINS_RPM', data=nba_players_with_salary_df).fit()\n"
   ]
  },
  {
   "cell_type": "code",
   "execution_count": null,
   "id": "98eef24f",
   "metadata": {},
   "outputs": [],
   "source": [
    "print(results.summary())\n"
   ]
  },
  {
   "cell_type": "code",
   "execution_count": null,
   "id": "68603091",
   "metadata": {},
   "outputs": [],
   "source": [
    "results = smf.ols('SALARY_MILLIONS ~POINTS', data=nba_players_with_salary_df).fit()\n"
   ]
  },
  {
   "cell_type": "code",
   "execution_count": null,
   "id": "9754ac32",
   "metadata": {},
   "outputs": [],
   "source": [
    "print(results.summary())\n"
   ]
  },
  {
   "cell_type": "code",
   "execution_count": null,
   "id": "dfe6c0ce",
   "metadata": {},
   "outputs": [],
   "source": [
    "results = smf.ols('SALARY_MILLIONS ~WINS_RPM', data=nba_players_with_salary_df).fit()\n"
   ]
  },
  {
   "cell_type": "code",
   "execution_count": null,
   "id": "3297962a",
   "metadata": {},
   "outputs": [],
   "source": [
    "print(results.summary())\n"
   ]
  },
  {
   "cell_type": "code",
   "execution_count": null,
   "id": "a1c885ff",
   "metadata": {},
   "outputs": [],
   "source": [
    "from ggplot import *\n"
   ]
  },
  {
   "cell_type": "code",
   "execution_count": null,
   "id": "ca12a68c",
   "metadata": {},
   "outputs": [],
   "source": [
    "\n",
    "p = ggplot(nba_players_with_salary_df,aes(x=\"POINTS\", y=\"WINS_RPM\", color=\"SALARY_MILLIONS\")) + geom_point(size=200)\n",
    "p + xlab(\"POINTS/GAME\") + ylab(\"WINS/RPM\") + ggtitle(\"NBA Players 2016-2017:  POINTS/GAME, WINS REAL PLUS MINUS and SALARY\")"
   ]
  },
  {
   "cell_type": "code",
   "execution_count": null,
   "id": "fe1560d9",
   "metadata": {},
   "outputs": [],
   "source": [
    "wiki_df = pd.read_csv(\"../input/nba_2017_player_wikipedia.csv\");wiki_df.head()\n"
   ]
  },
  {
   "cell_type": "code",
   "execution_count": null,
   "id": "d4f35d56",
   "metadata": {},
   "outputs": [],
   "source": [
    "wiki_df.rename(columns={'names': 'PLAYER', \"pageviews\": \"PAGEVIEWS\"}, inplace=True)\n"
   ]
  },
  {
   "cell_type": "code",
   "execution_count": null,
   "id": "a5e283b1",
   "metadata": {},
   "outputs": [],
   "source": [
    "median_wiki_df = wiki_df.groupby(\"PLAYER\").median()\n"
   ]
  },
  {
   "cell_type": "code",
   "execution_count": null,
   "id": "ac851d42",
   "metadata": {},
   "outputs": [],
   "source": [
    "\n",
    "median_wiki_df_small = median_wiki_df[[\"PAGEVIEWS\"]]"
   ]
  },
  {
   "cell_type": "code",
   "execution_count": null,
   "id": "8b8c8ff0",
   "metadata": {},
   "outputs": [],
   "source": [
    "median_wiki_df_small = median_wiki_df_small.reset_index()\n"
   ]
  },
  {
   "cell_type": "code",
   "execution_count": null,
   "id": "1543ffae",
   "metadata": {},
   "outputs": [],
   "source": [
    "nba_players_with_salary_wiki_df = nba_players_with_salary_df.merge(median_wiki_df_small)\n"
   ]
  },
  {
   "cell_type": "code",
   "execution_count": null,
   "id": "f931321a",
   "metadata": {},
   "outputs": [],
   "source": [
    "twitter_df = pd.read_csv(\"../input/nba_2017_twitter_players.csv\");twitter_df.head()\n"
   ]
  },
  {
   "cell_type": "code",
   "execution_count": null,
   "id": "dab739f4",
   "metadata": {},
   "outputs": [],
   "source": [
    "nba_players_with_salary_wiki_twitter_df = nba_players_with_salary_wiki_df.merge(twitter_df)\n"
   ]
  },
  {
   "cell_type": "code",
   "execution_count": null,
   "id": "28f9752f",
   "metadata": {},
   "outputs": [],
   "source": [
    "nba_players_with_salary_wiki_twitter_df.head()"
   ]
  },
  {
   "cell_type": "code",
   "execution_count": null,
   "id": "6645f365",
   "metadata": {},
   "outputs": [],
   "source": [
    "\n",
    "plt.subplots(figsize=(20,15))\n",
    "ax = plt.axes()\n",
    "ax.set_title(\"NBA Player Correlation Heatmap:  2016-2017 Season (STATS & SALARY & TWITTER & WIKIPEDIA)\")\n",
    "corr = nba_players_with_salary_wiki_twitter_df.corr()\n",
    "sns.heatmap(corr, \n",
    "            xticklabels=corr.columns.values,\n",
    "            yticklabels=corr.columns.values)"
   ]
  },
  {
   "cell_type": "code",
   "execution_count": null,
   "id": "4029ebbd",
   "metadata": {},
   "outputs": [],
   "source": [
    "nan"
   ]
  }
 ],
 "metadata": {},
 "nbformat": 4,
 "nbformat_minor": 5
}
