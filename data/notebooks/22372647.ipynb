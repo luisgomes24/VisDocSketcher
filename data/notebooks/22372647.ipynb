{
 "cells": [
  {
   "cell_type": "markdown",
   "id": "c40a6517",
   "metadata": {},
   "source": [
    "[](https://ccafs.cgiar.org/bigfacts/#theme=food-emissions)"
   ]
  },
  {
   "cell_type": "markdown",
   "id": "df27a281",
   "metadata": {},
   "source": [
    "![image.png](attachment:a0dd0fca-de32-41ec-a841-c3a7211f620e.png)"
   ]
  },
  {
   "cell_type": "markdown",
   "id": "bc682122",
   "metadata": {},
   "source": [
    "# Global meat production has been growing year by year. So I tried to analyze the impact of meat production emission."
   ]
  },
  {
   "cell_type": "markdown",
   "id": "72d34fa6",
   "metadata": {},
   "source": [
    "# 1) Data Preprocessing"
   ]
  },
  {
   "cell_type": "code",
   "execution_count": null,
   "id": "aa332846",
   "metadata": {},
   "outputs": [],
   "source": [
    "import numpy as np # linear algebra\n",
    "import pandas as pd # data processing, CSV file I/O (e.g. pd.read_csv)\n",
    "\n",
    "import os\n",
    "for dirname, _, filenames in os.walk('/kaggle/input'):\n",
    "    for filename in filenames:\n",
    "        print(os.path.join(dirname, filename))"
   ]
  },
  {
   "cell_type": "code",
   "execution_count": null,
   "id": "c5b6499b",
   "metadata": {},
   "outputs": [],
   "source": [
    "import matplotlib.pyplot as plt\n",
    "import seaborn as sns"
   ]
  },
  {
   "cell_type": "code",
   "execution_count": null,
   "id": "7fa37ec1",
   "metadata": {},
   "outputs": [],
   "source": [
    "df=pd.read_csv('/kaggle/input/foodproductemissions/Food_Product_Emissions.csv')"
   ]
  },
  {
   "cell_type": "code",
   "execution_count": null,
   "id": "8319e161",
   "metadata": {},
   "outputs": [],
   "source": [
    "df.head()"
   ]
  },
  {
   "cell_type": "code",
   "execution_count": null,
   "id": "1a8aabd6",
   "metadata": {},
   "outputs": [],
   "source": [
    "df.info()"
   ]
  },
  {
   "cell_type": "code",
   "execution_count": null,
   "id": "0de7d5c7",
   "metadata": {},
   "outputs": [],
   "source": [
    "df=df.sort_values('Total from Land to Retail', ascending=False)\n",
    "df1=df.drop(['Total from Land to Retail','Total Global Average GHG Emissions per kg','Unit of GHG Emissions'],axis=1)"
   ]
  },
  {
   "cell_type": "markdown",
   "id": "14c54aab",
   "metadata": {},
   "source": [
    "# 2) Visualization"
   ]
  },
  {
   "cell_type": "code",
   "execution_count": null,
   "id": "bfb33464",
   "metadata": {},
   "outputs": [],
   "source": [
    "fig, ax = plt.subplots(figsize=(15, 10))\n",
    "df1.plot(x='Food product',kind='bar', stacked=True, ax=ax)\n",
    "plt.show()"
   ]
  },
  {
   "cell_type": "code",
   "execution_count": null,
   "id": "448e2137",
   "metadata": {},
   "outputs": [],
   "source": [
    "!pip install autoviz"
   ]
  },
  {
   "cell_type": "code",
   "execution_count": null,
   "id": "27e60be6",
   "metadata": {},
   "outputs": [],
   "source": [
    "from autoviz.AutoViz_Class import AutoViz_Class"
   ]
  },
  {
   "cell_type": "code",
   "execution_count": null,
   "id": "2c92d0c2",
   "metadata": {},
   "outputs": [],
   "source": [
    "AV = AutoViz_Class()"
   ]
  },
  {
   "cell_type": "code",
   "execution_count": null,
   "id": "5130a160",
   "metadata": {},
   "outputs": [],
   "source": [
    "url1 = '../input/foodproductemissions/Food_Product_Emissions.csv'\n",
    "df_viz = pd.read_csv(url1,index_col=None,thousands=',')\n",
    "print(df_viz.shape)\n",
    "df_viz.head()"
   ]
  },
  {
   "cell_type": "code",
   "execution_count": null,
   "id": "5473e6b8",
   "metadata": {},
   "outputs": [],
   "source": [
    "target='Total Global Average GHG Emissions per kg'"
   ]
  },
  {
   "cell_type": "code",
   "execution_count": null,
   "id": "28a111d1",
   "metadata": {},
   "outputs": [],
   "source": [
    "dft = AV.AutoViz(depVar=target,dfte=df_viz, header=0, verbose=0,\n",
    "                lowess=False,chart_format='svg',max_rows_analyzed=1500000,max_cols_analyzed=300,filename='', sep=',' )"
   ]
  },
  {
   "cell_type": "markdown",
   "id": "28161e3e",
   "metadata": {},
   "source": [
    "# 3) Clustering"
   ]
  },
  {
   "cell_type": "code",
   "execution_count": null,
   "id": "76b220ed",
   "metadata": {},
   "outputs": [],
   "source": [
    "pip install pycaret --ignore-installed llvmlite numba"
   ]
  },
  {
   "cell_type": "code",
   "execution_count": null,
   "id": "15b46229",
   "metadata": {},
   "outputs": [],
   "source": [
    "from pycaret.clustering import *"
   ]
  },
  {
   "cell_type": "code",
   "execution_count": null,
   "id": "c09254c5",
   "metadata": {},
   "outputs": [],
   "source": [
    "reg = setup(df,silent=True,session_id=1)"
   ]
  },
  {
   "cell_type": "code",
   "execution_count": null,
   "id": "8f8f574d",
   "metadata": {},
   "outputs": [],
   "source": [
    "kmeans = create_model('kmeans',num_clusters = 4)"
   ]
  },
  {
   "cell_type": "code",
   "execution_count": null,
   "id": "b397b51c",
   "metadata": {},
   "outputs": [],
   "source": [
    "plot_model(kmeans, plot = 'cluster')"
   ]
  },
  {
   "cell_type": "code",
   "execution_count": null,
   "id": "24bfe701",
   "metadata": {},
   "outputs": [],
   "source": [
    "kmeans_df = assign_model(kmeans)"
   ]
  },
  {
   "cell_type": "code",
   "execution_count": null,
   "id": "7740478d",
   "metadata": {},
   "outputs": [],
   "source": [
    "kmeans_df.head()"
   ]
  },
  {
   "cell_type": "code",
   "execution_count": null,
   "id": "549b8ad0",
   "metadata": {},
   "outputs": [],
   "source": [
    "kmeans_df.groupby('Cluster').count()"
   ]
  },
  {
   "cell_type": "code",
   "execution_count": null,
   "id": "28003a3b",
   "metadata": {},
   "outputs": [],
   "source": [
    "kmeans_df.groupby('Cluster').mean().plot.bar(figsize=(10,8))"
   ]
  },
  {
   "cell_type": "markdown",
   "id": "7817d74c",
   "metadata": {},
   "source": [
    "# 4) Impact of Meat Product Emission"
   ]
  },
  {
   "cell_type": "code",
   "execution_count": null,
   "id": "ad0080d4",
   "metadata": {},
   "outputs": [],
   "source": [
    "df_meat=df[df['Food product'].isin(['Beef (beef herd)','Lamb & Mutton','Pig Meat','Poultry Meat'])]"
   ]
  },
  {
   "cell_type": "code",
   "execution_count": null,
   "id": "3923a427",
   "metadata": {},
   "outputs": [],
   "source": [
    "df_meat"
   ]
  },
  {
   "cell_type": "markdown",
   "id": "30dfe9e9",
   "metadata": {},
   "source": [
    "I got production amount data in 2018 from https://ourworldindata.org/grapher/global-meat-production-by-livestock-type"
   ]
  },
  {
   "cell_type": "code",
   "execution_count": null,
   "id": "65c79a29",
   "metadata": {},
   "outputs": [],
   "source": [
    "df_meat['production mt']=[71.61,15.77,120.88,127.31]\n",
    "df_meat['emission mt']=df['Total Global Average GHG Emissions per kg']*df_meat['production mt']*1000"
   ]
  },
  {
   "cell_type": "code",
   "execution_count": null,
   "id": "1b2186a6",
   "metadata": {},
   "outputs": [],
   "source": [
    "df_meat"
   ]
  },
  {
   "cell_type": "code",
   "execution_count": null,
   "id": "533638e5",
   "metadata": {},
   "outputs": [],
   "source": [
    "y=df_meat['emission mt']\n",
    "x=df_meat['Food product']\n",
    "plt.bar(x, y)"
   ]
  },
  {
   "cell_type": "markdown",
   "id": "35a7e607",
   "metadata": {},
   "source": [
    "I got per capita meat consumption data in 2013 (it is a little bit old...) from https://ourworldindata.org/grapher/per-capita-meat-consumption-by-type-kilograms-per-year?country=~OWID_WRL "
   ]
  },
  {
   "cell_type": "code",
   "execution_count": null,
   "id": "503d8f28",
   "metadata": {},
   "outputs": [],
   "source": [
    "df_meat['capita_consumption kg']=[9.32,1.91,16.02,14.99]\n",
    "df_meat['how_many_people']=df_meat['production mt']*1000*1000000/df_meat['capita_consumption kg']"
   ]
  },
  {
   "cell_type": "code",
   "execution_count": null,
   "id": "1b7ddacc",
   "metadata": {},
   "outputs": [],
   "source": [
    "df_meat"
   ]
  },
  {
   "cell_type": "code",
   "execution_count": null,
   "id": "f87088c0",
   "metadata": {},
   "outputs": [],
   "source": [
    "y=df_meat['how_many_people']\n",
    "x=df_meat['Food product']\n",
    "plt.bar(x, y)"
   ]
  },
  {
   "cell_type": "markdown",
   "id": "4246d95c",
   "metadata": {},
   "source": [
    "# About 8 billion people are contributing to emission by meat consumption !　It is same with world population !"
   ]
  },
  {
   "cell_type": "markdown",
   "id": "cf955a33",
   "metadata": {},
   "source": [
    "# But actually, there are huge gap between countries !\n",
    "\n",
    "![image.png](attachment:9a8a50ae-6ced-4b70-b6fa-303d20078364.png)"
   ]
  },
  {
   "cell_type": "code",
   "execution_count": null,
   "id": "0fd255f4",
   "metadata": {},
   "outputs": [],
   "source": [
    "nan"
   ]
  }
 ],
 "metadata": {},
 "nbformat": 4,
 "nbformat_minor": 5
}
