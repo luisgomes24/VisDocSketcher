{
 "cells": [
  {
   "cell_type": "code",
   "execution_count": null,
   "id": "d4a54d01",
   "metadata": {},
   "outputs": [],
   "source": [
    "import pandas as pd\n",
    "from io import BytesIO\n",
    "import tensorflow as tf\n",
    "from kaggle_datasets import KaggleDatasets\n",
    "from tensorflow.python.lib.io import file_io\n",
    "\n",
    "print(\"Tensorflow version \" + tf.__version__)"
   ]
  },
  {
   "cell_type": "code",
   "execution_count": null,
   "id": "f85b3933",
   "metadata": {},
   "outputs": [],
   "source": [
    "GCS_DS_PATH = KaggleDatasets().get_gcs_path() # you can list the bucket with \"!gsutil ls $GCS_DS_PATH\""
   ]
  },
  {
   "cell_type": "code",
   "execution_count": null,
   "id": "84ac890d",
   "metadata": {},
   "outputs": [],
   "source": [
    "# get handles\n",
    "data_dir  = GCS_DS_PATH\n",
    "test_dir  = data_dir + '/test/*.jpg'\n",
    "train_dir = data_dir + '/train/*.jpg'\n",
    "\n",
    "test_images = !gsutil ls $test_dir\n",
    "train_images = !gsutil ls $train_dir\n",
    "\n",
    "test_labels = pd.read_csv(data_dir + '/test.csv') \n",
    "train_labels = pd.read_csv(data_dir + '/train.csv')"
   ]
  },
  {
   "cell_type": "code",
   "execution_count": null,
   "id": "846ce768",
   "metadata": {},
   "outputs": [],
   "source": [
    "# https://www.tensorflow.org/tutorials/load_data/tfrecord\n",
    "# The following functions can be used to convert a value to a type compatible with tf.train.Example.\n",
    "\n",
    "def _bytes_feature(value):\n",
    "  \"\"\"Returns a bytes_list from a string / byte.\"\"\"\n",
    "  if isinstance(value, type(tf.constant(0))):\n",
    "    value = value.numpy() # BytesList won't unpack a string from an EagerTensor.\n",
    "  return tf.train.Feature(bytes_list=tf.train.BytesList(value=[value]))\n",
    "\n",
    "def _float_feature(value):\n",
    "  \"\"\"Returns a float_list from a float / double.\"\"\"\n",
    "  return tf.train.Feature(float_list=tf.train.FloatList(value=[value]))\n",
    "\n",
    "def _int64_feature(value):\n",
    "  \"\"\"Returns an int64_list from a bool / enum / int / uint.\"\"\"\n",
    "  return tf.train.Feature(int64_list=tf.train.Int64List(value=[value]))"
   ]
  },
  {
   "cell_type": "code",
   "execution_count": null,
   "id": "d661e80f",
   "metadata": {},
   "outputs": [],
   "source": [
    "print(train_labels.columns)"
   ]
  },
  {
   "cell_type": "code",
   "execution_count": null,
   "id": "6edc8528",
   "metadata": {},
   "outputs": [],
   "source": [
    "from sklearn.model_selection import train_test_split\n",
    "\n",
    "# split into train validate\n",
    "train, validate = train_test_split(train_labels, test_size=0.2)\n",
    "\n",
    "datasets = {'test': test_labels, 'train': train, 'validate': validate}\n",
    "\n",
    "# make tfrecords\n",
    "for key, df in datasets.items():\n",
    "    record_file = f'{key}.tfrecords'\n",
    "    with tf.io.TFRecordWriter(record_file) as writer:\n",
    "        for index, row in df.iterrows():\n",
    "            \n",
    "            # image\n",
    "            img_id = row['Id']\n",
    "            image_path = data_dir + f'/{key}/{img_id}.jpg'\n",
    "            if key == 'validate':\n",
    "                image_path = data_dir + f'/train/{img_id}.jpg'\n",
    "            image_string = (BytesIO(file_io.read_file_to_string(image_path, binary_mode=True))).read()\n",
    "            image_shape = tf.io.decode_jpeg(image_string).shape\n",
    "            \n",
    "            feature = {\n",
    "              'height': _int64_feature(image_shape[0]),\n",
    "              'width': _int64_feature(image_shape[1]),\n",
    "              'depth': _int64_feature(image_shape[2]),\n",
    "              'image_raw': _bytes_feature(image_string),\n",
    "            }\n",
    "            \n",
    "            feature['Subject Focus'] = _int64_feature(row['Subject Focus'])\n",
    "            feature['Eyes'] = _int64_feature(row['Eyes'])\n",
    "            feature['Face'] = _int64_feature(row['Face'])\n",
    "            feature['Near'] = _int64_feature(row['Near'])\n",
    "            feature['Action'] = _int64_feature(row['Action'])\n",
    "            feature['Accessory'] = _int64_feature(row['Accessory'])\n",
    "            feature['Group'] = _int64_feature(row['Group'])\n",
    "            feature['Collage'] = _int64_feature(row['Collage'])\n",
    "            feature['Human'] = _int64_feature(row['Human'])\n",
    "            feature['Occlusion'] = _int64_feature(row['Occlusion'])\n",
    "            feature['Info'] = _int64_feature(row['Info'])\n",
    "            feature['Blur'] = _int64_feature(row['Blur'])\n",
    "            \n",
    "            if key == 'train' or key == 'validate':\n",
    "                feature['Pawpularity'] = _float_feature(row['Pawpularity'])\n",
    "\n",
    "            tf_example = tf.train.Example(features=tf.train.Features(feature=feature))\n",
    "            writer.write(tf_example.SerializeToString())"
   ]
  }
 ],
 "metadata": {},
 "nbformat": 4,
 "nbformat_minor": 5
}
