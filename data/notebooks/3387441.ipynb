{
 "cells": [
  {
   "cell_type": "markdown",
   "id": "fef7d42e",
   "metadata": {},
   "source": [
    "> # HR Data Exploration "
   ]
  },
  {
   "cell_type": "markdown",
   "id": "b4193bcf",
   "metadata": {},
   "source": [
    "Import Library"
   ]
  },
  {
   "cell_type": "code",
   "execution_count": null,
   "id": "285458eb",
   "metadata": {},
   "outputs": [],
   "source": [
    "import numpy as np # linear algebra\n",
    "import pandas as pd # data processing, CSV file I/O (e.g. pd.read_csv)\n"
   ]
  },
  {
   "cell_type": "markdown",
   "id": "e8c949d3",
   "metadata": {},
   "source": [
    "Reading the data from file"
   ]
  },
  {
   "cell_type": "code",
   "execution_count": null,
   "id": "3323ce95",
   "metadata": {},
   "outputs": [],
   "source": [
    "df = pd.read_csv('../input/core_dataset.csv')\n",
    "df.head(50) #first seven data points"
   ]
  },
  {
   "cell_type": "markdown",
   "id": "90840606",
   "metadata": {},
   "source": [
    "Data Exploration"
   ]
  },
  {
   "cell_type": "code",
   "execution_count": null,
   "id": "d032f1ac",
   "metadata": {},
   "outputs": [],
   "source": [
    "df.describe()"
   ]
  },
  {
   "cell_type": "code",
   "execution_count": null,
   "id": "b315c820",
   "metadata": {},
   "outputs": [],
   "source": [
    "df.shape #(rows,columns)"
   ]
  },
  {
   "cell_type": "code",
   "execution_count": null,
   "id": "c91913cc",
   "metadata": {},
   "outputs": [],
   "source": [
    "df.columns\n"
   ]
  },
  {
   "cell_type": "markdown",
   "id": "b301a15e",
   "metadata": {},
   "source": [
    "Gender "
   ]
  },
  {
   "cell_type": "code",
   "execution_count": null,
   "id": "206e8344",
   "metadata": {},
   "outputs": [],
   "source": [
    "df['Sex']"
   ]
  },
  {
   "cell_type": "code",
   "execution_count": null,
   "id": "7d87e112",
   "metadata": {},
   "outputs": [],
   "source": [
    "df['Sex'].unique()"
   ]
  },
  {
   "cell_type": "code",
   "execution_count": null,
   "id": "5cdbf300",
   "metadata": {},
   "outputs": [],
   "source": [
    "df['Sex'].replace('male','Male',inplace=True)"
   ]
  },
  {
   "cell_type": "code",
   "execution_count": null,
   "id": "6394bfb5",
   "metadata": {},
   "outputs": [],
   "source": [
    "df['Sex'].unique()"
   ]
  },
  {
   "cell_type": "code",
   "execution_count": null,
   "id": "b86ad101",
   "metadata": {},
   "outputs": [],
   "source": [
    "df.dropna(subset=['Sex'],inplace=True) # remove rows with nan values for Sex\n",
    "df.shape\n"
   ]
  },
  {
   "cell_type": "code",
   "execution_count": null,
   "id": "916604f0",
   "metadata": {},
   "outputs": [],
   "source": [
    "df['Sex'].value_counts() #Lets plot this\n",
    "df['Sex'].value_counts().plot(kind='bar')"
   ]
  },
  {
   "cell_type": "code",
   "execution_count": null,
   "id": "a8282543",
   "metadata": {},
   "outputs": [],
   "source": [
    "import matplotlib.pyplot as plt\n",
    "\n",
    "df['Sex'].value_counts().plot(kind='bar')"
   ]
  },
  {
   "cell_type": "code",
   "execution_count": null,
   "id": "52794452",
   "metadata": {},
   "outputs": [],
   "source": [
    "# Gender diversity across departmets\n",
    "import seaborn as sns\n",
    "plt.figure(figsize=(16,9))\n",
    "ax=sns.countplot(x=df['Department'],hue=df['Sex'])"
   ]
  },
  {
   "cell_type": "markdown",
   "id": "d32b3cdf",
   "metadata": {},
   "source": [
    "Conclusions from graph :\n",
    "\n",
    "No males in executive office and no females in software engineering department.\n",
    "Gender diversity is not maintained in production department and software engineering.(No.of females is nearly double the number of males)"
   ]
  },
  {
   "cell_type": "markdown",
   "id": "c3b7ab79",
   "metadata": {},
   "source": [
    "Other Graphs"
   ]
  },
  {
   "cell_type": "code",
   "execution_count": null,
   "id": "0a7f7abd",
   "metadata": {},
   "outputs": [],
   "source": [
    "df['RaceDesc'].value_counts().plot(kind='pie')"
   ]
  },
  {
   "cell_type": "code",
   "execution_count": null,
   "id": "1aecb812",
   "metadata": {},
   "outputs": [],
   "source": [
    "df['CitizenDesc'].unique()"
   ]
  },
  {
   "cell_type": "code",
   "execution_count": null,
   "id": "ab033984",
   "metadata": {},
   "outputs": [],
   "source": [
    "df['CitizenDesc'].value_counts().plot(kind='bar')"
   ]
  },
  {
   "cell_type": "code",
   "execution_count": null,
   "id": "6cef8131",
   "metadata": {},
   "outputs": [],
   "source": [
    "df['Age'].hist()"
   ]
  },
  {
   "cell_type": "code",
   "execution_count": null,
   "id": "86723be6",
   "metadata": {},
   "outputs": [],
   "source": [
    "df['Age'].hist(bins=40)"
   ]
  },
  {
   "cell_type": "code",
   "execution_count": null,
   "id": "5e965ac2",
   "metadata": {},
   "outputs": [],
   "source": [
    "df['Position'].unique()"
   ]
  },
  {
   "cell_type": "code",
   "execution_count": null,
   "id": "e7ed5833",
   "metadata": {},
   "outputs": [],
   "source": [
    "plt.figure(figsize=(16,9))\n",
    "df['Position'].value_counts().plot(kind='bar')"
   ]
  },
  {
   "cell_type": "markdown",
   "id": "a0040793",
   "metadata": {},
   "source": [
    "Is there any relationship between pay rate and age?"
   ]
  },
  {
   "cell_type": "code",
   "execution_count": null,
   "id": "e59233ac",
   "metadata": {},
   "outputs": [],
   "source": [
    "df['Pay Rate'].describe()"
   ]
  },
  {
   "cell_type": "code",
   "execution_count": null,
   "id": "107eb35a",
   "metadata": {},
   "outputs": [],
   "source": [
    "df['Age'].describe()"
   ]
  },
  {
   "cell_type": "code",
   "execution_count": null,
   "id": "0f8ee7d7",
   "metadata": {},
   "outputs": [],
   "source": [
    "df.plot(x='Age',y='Pay Rate',kind='scatter')\n",
    "# Looks like thery are not related! "
   ]
  },
  {
   "cell_type": "markdown",
   "id": "fce43343",
   "metadata": {},
   "source": [
    "**Which manager has the best performers?**\n"
   ]
  },
  {
   "cell_type": "code",
   "execution_count": null,
   "id": "de634ba8",
   "metadata": {},
   "outputs": [],
   "source": [
    "df['Manager Name'].unique()"
   ]
  },
  {
   "cell_type": "code",
   "execution_count": null,
   "id": "4a19b5af",
   "metadata": {},
   "outputs": [],
   "source": [
    "df['Performance Score']"
   ]
  },
  {
   "cell_type": "code",
   "execution_count": null,
   "id": "d02402f3",
   "metadata": {},
   "outputs": [],
   "source": [
    "plt.figure(figsize=(20,20))\n",
    "sns.countplot(y=df['Manager Name'], hue=df['Performance Score'])"
   ]
  },
  {
   "cell_type": "markdown",
   "id": "be19b93d",
   "metadata": {},
   "source": [
    "* Davind Stanley and Kelly Spirea have highest number of employees who fully meet the expectation.\n",
    "* Simon and Brannon have a highest number of exceptional employess!\n",
    "* Employees working with Michael need to improve their performance."
   ]
  },
  {
   "cell_type": "markdown",
   "id": "28969ff2",
   "metadata": {},
   "source": [
    "**Which department pays more?**"
   ]
  },
  {
   "cell_type": "code",
   "execution_count": null,
   "id": "54e8a0ce",
   "metadata": {},
   "outputs": [],
   "source": [
    "df.groupby('Department')['Pay Rate'].sum().plot(kind='bar')\n",
    "#Production department pays more!"
   ]
  },
  {
   "cell_type": "markdown",
   "id": "aee63b26",
   "metadata": {},
   "source": [
    "Which position gives away more money? This doesn't mean that all employees in this position get maximum pay. The number of employees could be more for this dept. Note that we are taking sum of pay rate for each department."
   ]
  },
  {
   "cell_type": "code",
   "execution_count": null,
   "id": "7ae7ce07",
   "metadata": {},
   "outputs": [],
   "source": [
    "plt.figure(figsize=(16,9))\n",
    "df.groupby('Position')['Pay Rate'].sum().plot(kind='bar')"
   ]
  },
  {
   "cell_type": "markdown",
   "id": "a8f8fba7",
   "metadata": {},
   "source": [
    "Who gets the highest salary ? ;)"
   ]
  },
  {
   "cell_type": "code",
   "execution_count": null,
   "id": "9a12f612",
   "metadata": {},
   "outputs": [],
   "source": [
    "id_of_person_with_highgest_pay = df['Pay Rate'].idxmax()\n",
    "df.loc[id_of_person_with_highgest_pay]\n",
    "\n",
    "\n",
    "df.loc[df['Pay Rate'].idxmax()]\n",
    "\n"
   ]
  },
  {
   "cell_type": "code",
   "execution_count": null,
   "id": "b4c5d6f6",
   "metadata": {},
   "outputs": [],
   "source": [
    "HispLat_map ={'No': 0, 'Yes': 1, 'no': 0, 'yes': 1}\n",
    "df['Hispanic/Latino'] = df['Hispanic/Latino'].replace(HispLat_map)\n",
    "df['Hispanic/Latino']"
   ]
  },
  {
   "cell_type": "code",
   "execution_count": null,
   "id": "f5d1149e",
   "metadata": {},
   "outputs": [],
   "source": [
    "sns.violinplot('Hispanic/Latino', 'Pay Rate', data = df)"
   ]
  },
  {
   "cell_type": "markdown",
   "id": "079f9211",
   "metadata": {},
   "source": [
    "# Class Exercise"
   ]
  },
  {
   "cell_type": "markdown",
   "id": "b014f44a",
   "metadata": {},
   "source": [
    "1. Plot a Bar Chart of the count of Marital Status**\n",
    "2. Plot a bar chart of Employment status group by Martial Status\n",
    "3. Explore the data of another data set - HRDataset_v9\n",
    "4. With the new dataset, plot a scatter graph Days Employed vs Pay Rate\n",
    "5. Plot a violin Chart of Citizenship and Pay Rate\n",
    "6. Plot a bar chart of Race Description group by Citizenship"
   ]
  },
  {
   "cell_type": "code",
   "execution_count": null,
   "id": "0aeb51d7",
   "metadata": {},
   "outputs": [],
   "source": [
    "df.columns"
   ]
  },
  {
   "cell_type": "code",
   "execution_count": null,
   "id": "b458e48f",
   "metadata": {},
   "outputs": [],
   "source": [
    "df['MaritalDesc'].value_counts().plot(kind='bar')"
   ]
  },
  {
   "cell_type": "code",
   "execution_count": null,
   "id": "97d714e5",
   "metadata": {},
   "outputs": [],
   "source": [
    "df['MaritalDesc'].value_counts().plot(kind='bar')"
   ]
  },
  {
   "cell_type": "code",
   "execution_count": null,
   "id": "ecd09a8e",
   "metadata": {},
   "outputs": [],
   "source": [
    "plt.figure(figsize=(16,9))\n",
    "ax=sns.countplot(x=df['Employment Status'],hue=df['MaritalDesc'])"
   ]
  },
  {
   "cell_type": "code",
   "execution_count": null,
   "id": "a1278048",
   "metadata": {},
   "outputs": [],
   "source": [
    "df2 = pd.read_csv('../input/HRDataset_v9.csv')\n",
    "df2.head(50) #first seven data points"
   ]
  },
  {
   "cell_type": "code",
   "execution_count": null,
   "id": "5592dda8",
   "metadata": {},
   "outputs": [],
   "source": [
    "df2.columns"
   ]
  },
  {
   "cell_type": "code",
   "execution_count": null,
   "id": "adc84b8d",
   "metadata": {},
   "outputs": [],
   "source": [
    "df2.plot(x='Days Employed',y='Pay Rate',kind='scatter')\n"
   ]
  },
  {
   "cell_type": "code",
   "execution_count": null,
   "id": "bac59ff0",
   "metadata": {},
   "outputs": [],
   "source": [
    "sns.violinplot('CitizenDesc', 'Pay Rate', data = df2)"
   ]
  },
  {
   "cell_type": "code",
   "execution_count": null,
   "id": "3aca4e9f",
   "metadata": {},
   "outputs": [],
   "source": [
    "plt.figure(figsize=(16,9))\n",
    "ax=sns.countplot(x=df2['CitizenDesc'],hue=df2['RaceDesc'])"
   ]
  },
  {
   "cell_type": "code",
   "execution_count": null,
   "id": "e8013fc6",
   "metadata": {},
   "outputs": [],
   "source": [
    "nan"
   ]
  }
 ],
 "metadata": {},
 "nbformat": 4,
 "nbformat_minor": 5
}
