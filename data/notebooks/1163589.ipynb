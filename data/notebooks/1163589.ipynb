{
 "cells": [
  {
   "cell_type": "code",
   "execution_count": null,
   "id": "506b93b9",
   "metadata": {},
   "outputs": [],
   "source": [
    "nan"
   ]
  },
  {
   "cell_type": "code",
   "execution_count": null,
   "id": "cfe9a5f6",
   "metadata": {},
   "outputs": [],
   "source": [
    "# imports\n",
    "import numpy as np\n",
    "import pandas as pd\n",
    "import matplotlib.pyplot as plt\n",
    "import seaborn as sns\n",
    "sns.set_style('whitegrid')\n",
    "%matplotlib inline\n",
    "\n",
    "from sklearn.linear_model import LogisticRegression\n",
    "from sklearn.svm import SVC"
   ]
  },
  {
   "cell_type": "code",
   "execution_count": null,
   "id": "f04efd20",
   "metadata": {},
   "outputs": [],
   "source": [
    "train_data=pd.read_csv('../input/train.csv')\n",
    "test_data=pd.read_csv('../input/test.csv')\n",
    "train_data.head()"
   ]
  },
  {
   "cell_type": "code",
   "execution_count": null,
   "id": "7decec55",
   "metadata": {},
   "outputs": [],
   "source": [
    "train_data.describe()"
   ]
  },
  {
   "cell_type": "code",
   "execution_count": null,
   "id": "d65729f9",
   "metadata": {},
   "outputs": [],
   "source": [
    "train_data.info()\n",
    "print(\"###############################\")\n",
    "test_data.info()"
   ]
  },
  {
   "cell_type": "code",
   "execution_count": null,
   "id": "f8cb86d3",
   "metadata": {},
   "outputs": [],
   "source": [
    "train_data=train_data.drop(['PassengerId','Name','Ticket'],axis=1)\n",
    "test_data=test_data.drop(['Name','Ticket'],axis=1)"
   ]
  },
  {
   "cell_type": "code",
   "execution_count": null,
   "id": "c681c4bc",
   "metadata": {},
   "outputs": [],
   "source": [
    "g=train_data.groupby(by='Embarked')['Survived'].count()\n",
    "g"
   ]
  },
  {
   "cell_type": "code",
   "execution_count": null,
   "id": "9a0a7c4b",
   "metadata": {},
   "outputs": [],
   "source": [
    "# fill the NAN values of Embarked with most occured value, which is 'S'\n",
    "train_data['Embarked']=train_data['Embarked'].fillna('S')\n",
    "\n",
    "sns.factorplot('Embarked','Survived', data=train_data, size=3, aspect=3)\n",
    "\n",
    "fig,(axis1,axis2,axis3)=plt.subplots(1,3,figsize=(15,5))\n",
    "\n",
    "#sns.factorplot('Embarked',data=train_data,kind='count',order=['S','C','Q'],ax=axis1)\n",
    "#sns.factorplot('Survived',hue='Embarked',data=train_data,order=[0,1],kind='count',ax=axis2)\n",
    "sns.countplot('Embarked',data=train_data,ax=axis1)\n",
    "sns.countplot('Survived',hue='Sex',data=train_data,ax=axis2)\n",
    "\n",
    "embark_perc = train_data[[\"Embarked\", \"Survived\"]].groupby(['Embarked'],as_index=False).mean()\n",
    "sns.barplot(x='Embarked', y='Survived', data=embark_perc,order=['S','C','Q'],ax=axis3)\n",
    "\n",
    "embark_dummy_train=pd.get_dummies(train_data['Embarked'])\n",
    "#embark_dummy_train.drop(['S'],axis=1,inplace=True)\n",
    "\n",
    "embark_dummy_test=pd.get_dummies(test_data['Embarked'])\n",
    "#embark_dummy_test.drop(['S'],axis=1,inplace=True)\n",
    "\n",
    "train_data=train_data.join(embark_dummy_train)\n",
    "test_data=test_data.join(embark_dummy_test)\n",
    "\n",
    "train_data.drop(['Embarked'], axis=1,inplace=True)\n",
    "test_data.drop(['Embarked'], axis=1,inplace=True)\n",
    "\n",
    "#train_data.head()"
   ]
  },
  {
   "cell_type": "code",
   "execution_count": null,
   "id": "d36cab51",
   "metadata": {},
   "outputs": [],
   "source": [
    "#Fare\n",
    "test_data['Fare'].fillna(test_data['Fare'].median(), inplace=True)\n",
    "\n",
    "train_data['Fare']=train_data['Fare'].astype(int)\n",
    "test_data['Fare']=test_data['Fare'].astype(int)\n",
    "\n",
    "fare_survived=train_data['Fare'][train_data['Survived']==1]\n",
    "fare_not_survived=train_data['Fare'][train_data['Survived']==0]\n",
    "\n",
    "average_fare=pd.DataFrame(data=[fare_survived.mean(), fare_not_survived.mean()])\n",
    "std_fare=pd.DataFrame(data=[fare_survived.std(), fare_not_survived.std()])\n",
    "sns.set_style('whitegrid')\n",
    "\n",
    "train_data['Fare'].plot(kind='hist',figsize=(15,5),bins=100, xlim=(0,100),edgecolor='black')\n",
    "\n",
    "\n",
    "average_fare.index.names=std_fare.index.names=['Survived']\n",
    "average_fare.plot(yerr=std_fare, kind='bar', legend=False)\n"
   ]
  },
  {
   "cell_type": "code",
   "execution_count": null,
   "id": "52dce506",
   "metadata": {},
   "outputs": [],
   "source": [
    "#Age\n",
    "\n",
    "fig, (axis1, axis2)=plt.subplots(1,2,figsize=(15,4))\n",
    "\n",
    "axis1.set_title('Original Age Value -Titanic')\n",
    "axis2.set_title('New Age Values - Titanic')\n",
    "#axis3.set_title('Original Age Value -Titanic')\n",
    "#axis4.set_title('New Age Values - Titanic')\n",
    "\n",
    "average_age_train=train_data['Age'].mean()\n",
    "std_age_train=train_data['Age'].std()\n",
    "count_nan_age_train=train_data['Age'].isnull().sum()\n",
    "#count_nan_age_train=train_data['Age'].isnull().value_counts()\n",
    "\n",
    "average_age_test=test_data['Age'].mean()\n",
    "std_age_test=test_data['Age'].std()\n",
    "count_nan_age_test=test_data['Age'].isnull().sum()\n",
    "\n",
    "rand1=np.random.randint(average_age_train-std_age_train, average_age_train+std_age_train)\n",
    "rand2=np.random.randint(average_age_test-std_age_test, average_age_test+std_age_test)\n",
    "\n",
    "train_data['Age'].dropna().astype(int).plot(kind='hist', bins=50, ax=axis1)\n",
    "\n",
    "train_data['Age'][np.isnan(train_data['Age'])]=rand1\n",
    "test_data['Age'][np.isnan(test_data['Age'])]=rand2\n",
    "\n",
    "train_data['Age']=train_data['Age'].astype(int)\n",
    "test_data['Age']=test_data['Age'].astype(int)\n",
    "\n",
    "train_data['Age'].hist(bins=50, ax=axis2)\n"
   ]
  },
  {
   "cell_type": "code",
   "execution_count": null,
   "id": "c95f3ea3",
   "metadata": {},
   "outputs": [],
   "source": [
    "facet=sns.FacetGrid(train_data, hue='Survived', aspect=4)\n",
    "facet.map(sns.kdeplot, 'Age', shade=True)\n",
    "facet.set(xlim=(0, train_data['Age'].max()))\n",
    "facet.add_legend()\n",
    "\n",
    "fig,axis1=plt.subplots(1,1,figsize=(18,4))\n",
    "average_age=train_data[['Age','Survived']].groupby(['Age'],as_index=False).mean()\n",
    "sns.barplot(x='Age',y='Survived', data=average_age)"
   ]
  },
  {
   "cell_type": "code",
   "execution_count": null,
   "id": "94ebd5d6",
   "metadata": {},
   "outputs": [],
   "source": [
    "#Cabin\n",
    "print(train_data['Cabin'].isnull().value_counts())\n",
    "train_data.drop(['Cabin'],axis=1, inplace=True)\n",
    "test_data.drop(['Cabin'], axis=1, inplace=True)"
   ]
  },
  {
   "cell_type": "code",
   "execution_count": null,
   "id": "e0546750",
   "metadata": {},
   "outputs": [],
   "source": [
    "# Family\n",
    "\n",
    "train_data['Family']=train_data['Parch']+train_data['SibSp']\n",
    "train_data['Family'].loc[train_data['Family']>0]=1\n",
    "train_data['Family'].loc[train_data['Family']==0]=0\n",
    "\n",
    "test_data['Family']=test_data['Parch']+test_data['SibSp']\n",
    "test_data['Family'].loc[test_data['Family']>0]=1\n",
    "test_data['Family'].loc[test_data['Family']==0]=0\n",
    "\n",
    "train_data = train_data.drop(['SibSp','Parch'], axis=1)\n",
    "test_data    = test_data.drop(['SibSp','Parch'], axis=1)\n",
    "\n",
    "fig,(axis1,axis2)=plt.subplots(1,2, figsize=(15,4))\n",
    "\n",
    "sns.countplot(x='Family', data=train_data,ax=axis1,order=[1,0])\n",
    "axis1.set_xticklabels(['With Family', 'Alone'])\n",
    "\n",
    "#sns.barplot(x='Family', y='Survived',data=train_data, ax=axis2, order=[1,0])\n",
    "family_perc = train_data[[\"Family\", \"Survived\"]].groupby(['Family'],as_index=False).mean()\n",
    "sns.barplot(x='Family', y='Survived', data=family_perc, order=[1,0], ax=axis2)\n",
    "axis2.set_xticklabels(['With Family', 'Alone'])\n"
   ]
  },
  {
   "cell_type": "code",
   "execution_count": null,
   "id": "88c3c2e1",
   "metadata": {},
   "outputs": [],
   "source": [
    "# Sex\n",
    "def get_person(passenger):\n",
    "    age,sex=passenger\n",
    "    return 'child' if age<16 else sex\n",
    "\n",
    "train_data['Person']=train_data[['Age', 'Sex']].apply(get_person,axis=1)\n",
    "test_data['Person']=test_data[['Age','Sex']].apply(get_person,axis=1)\n",
    "\n",
    "train_data.drop(['Sex'],axis=1,inplace=True)\n",
    "test_data.drop(['Sex'],axis=1,inplace=True)\n",
    "\n",
    "# create dummy variables\n",
    "\n",
    "person_dummies_train=pd.get_dummies(train_data['Person'])\n",
    "person_dummies_train.columns=['Child','Female','Male']\n",
    "#person_dummies_train.drop(['Male'],axis=1,inplace=True)\n",
    "\n",
    "person_dummies_test=pd.get_dummies(test_data['Person'])\n",
    "person_dummies_test.columns=['Child','Female','Male']\n",
    "#person_dummies_test.drop(['Male'],axis=1,inplace=True)\n",
    "\n",
    "train_data=train_data.join(person_dummies_train)\n",
    "test_data=test_data.join(person_dummies_test)\n",
    "\n",
    "fig,(axis1, axis2)=plt.subplots(1,2,figsize=(15,4))\n",
    "\n",
    "sns.countplot(data=train_data, x='Person', ax=axis1)\n",
    "\n",
    "person_prec=train_data[['Person','Survived']].groupby(['Person'],as_index=False).mean()\n",
    "sns.barplot(x='Person', y='Survived', data=person_prec,ax=axis2)\n",
    "\n",
    "train_data.drop(['Person'],axis=1,inplace=True)\n",
    "test_data.drop(['Person'],axis=1,inplace=True)\n"
   ]
  },
  {
   "cell_type": "code",
   "execution_count": null,
   "id": "6cb14bfb",
   "metadata": {},
   "outputs": [],
   "source": [
    "#Pclass\n",
    "#sns.factorplot('Pclass',data=train_data,kind='count',order=[1,2,3])\n",
    "sns.factorplot(x='Pclass',y='Survived',data=train_data,order=[1,2,3],size=5)\n",
    "\n",
    "pclass_dummy_train=pd.get_dummies(train_data['Pclass'])\n",
    "pclass_dummy_train.columns=['class1','class2','class3']\n",
    "#pclass_dummy_train.drop(['class3'],axis=1,inplace=True)\n",
    "\n",
    "pclass_dummy_test=pd.get_dummies(test_data['Pclass'])\n",
    "pclass_dummy_test.columns=['class1','class2','class3']\n",
    "#pclass_dummy_test.drop(['class3'],axis=1,inplace=True)\n",
    "\n",
    "train_data.drop(['Pclass'],axis=1,inplace=True)\n",
    "test_data.drop(['Pclass'],axis=1,inplace=True)\n",
    "\n",
    "train_data=train_data.join(pclass_dummy_train)\n",
    "test_data=test_data.join(pclass_dummy_test)"
   ]
  },
  {
   "cell_type": "code",
   "execution_count": null,
   "id": "9f3ba7cc",
   "metadata": {},
   "outputs": [],
   "source": [
    "train_data.head()\n",
    "test_data.head()"
   ]
  },
  {
   "cell_type": "code",
   "execution_count": null,
   "id": "c08f6799",
   "metadata": {},
   "outputs": [],
   "source": [
    "X_train=train_data.drop(['Survived'],axis=1)\n",
    "y_train=train_data.Survived\n",
    "X_test=test_data.drop(['PassengerId'],axis=1)"
   ]
  },
  {
   "cell_type": "code",
   "execution_count": null,
   "id": "84718a44",
   "metadata": {},
   "outputs": [],
   "source": [
    "X_test.head()"
   ]
  },
  {
   "cell_type": "code",
   "execution_count": null,
   "id": "2102d9a7",
   "metadata": {},
   "outputs": [],
   "source": [
    "# logistic Regression\n",
    "logreg=LogisticRegression()\n",
    "logreg.fit(X_train, y_train)\n",
    "predict=logreg.predict(X_test)\n",
    "logreg.score(X_train, y_train)"
   ]
  },
  {
   "cell_type": "code",
   "execution_count": null,
   "id": "93dda559",
   "metadata": {},
   "outputs": [],
   "source": [
    "# Support vector Machine\n",
    "\n",
    "svc=SVC()\n",
    "svc.fit(X_train,y_train)\n",
    "predict=svc.predict(X_test)\n",
    "svc.score(X_train, y_train)"
   ]
  },
  {
   "cell_type": "code",
   "execution_count": null,
   "id": "42f2846d",
   "metadata": {},
   "outputs": [],
   "source": [
    "from sklearn.ensemble import RandomForestClassifier\n",
    "\n",
    "random_forest=RandomForestClassifier(n_estimators=100)\n",
    "random_forest.fit(X_train, y_train)\n",
    "predict=random_forest.predict(X_test)\n",
    "#print(predict)\n",
    "random_forest.score(X_train, y_train)"
   ]
  },
  {
   "cell_type": "code",
   "execution_count": null,
   "id": "861157c0",
   "metadata": {},
   "outputs": [],
   "source": [
    "from sklearn.neighbors import KNeighborsClassifier\n",
    "\n",
    "knn=KNeighborsClassifier(n_neighbors=3)\n",
    "knn.fit(X_train, y_train)\n",
    "predict=knn.predict(X_test)\n",
    "knn.score(X_train, y_train)"
   ]
  },
  {
   "cell_type": "code",
   "execution_count": null,
   "id": "45dba3ab",
   "metadata": {},
   "outputs": [],
   "source": [
    "from sklearn.naive_bayes import GaussianNB\n",
    "gnb=GaussianNB()\n",
    "gnb.fit(X_train, y_train)\n",
    "predict=gnb.predict(X_test)\n",
    "gnb.score(X_train, y_train)\n"
   ]
  },
  {
   "cell_type": "code",
   "execution_count": null,
   "id": "c0ad9d79",
   "metadata": {},
   "outputs": [],
   "source": [
    "# get Correlation Coefficient for each feature using Logistic Regression\n",
    "coeff_df = pd.DataFrame(train_data.columns.delete(0))\n",
    "coeff_df.columns = ['Features']\n",
    "coeff_df[\"Coefficient Estimate\"] = pd.Series(logreg.coef_[0])\n",
    "\n",
    "# preview\n",
    "coeff_df"
   ]
  },
  {
   "cell_type": "code",
   "execution_count": null,
   "id": "affbec61",
   "metadata": {},
   "outputs": [],
   "source": [
    "submission=pd.DataFrame({\n",
    "    \"PassengerId\":test_data['PassengerId'],\n",
    "    \"Survived\": predict\n",
    "})\n",
    "submission.to_csv('titanic.csv', index=False)"
   ]
  },
  {
   "cell_type": "code",
   "execution_count": null,
   "id": "fe0419fb",
   "metadata": {},
   "outputs": [],
   "source": [
    "nan"
   ]
  }
 ],
 "metadata": {},
 "nbformat": 4,
 "nbformat_minor": 5
}
