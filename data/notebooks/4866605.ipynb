{
 "cells": [
  {
   "cell_type": "code",
   "execution_count": null,
   "id": "06fc79b3",
   "metadata": {},
   "outputs": [],
   "source": [
    "from google.cloud import bigquery\n",
    "\n",
    "# Create a \"Client\" object\n",
    "client = bigquery.Client()\n",
    "\n",
    "# Construct a reference to the \"crypto_bitcoin\" dataset\n",
    "dataset_ref = client.dataset(\"crypto_bitcoin\", project=\"bigquery-public-data\")\n",
    "\n",
    "# API request - fetch the dataset\n",
    "dataset = client.get_dataset(dataset_ref)\n",
    "\n",
    "# Construct a reference to the \"transactions\" table\n",
    "table_ref = dataset_ref.table(\"transactions\")\n",
    "\n",
    "# API request - fetch the table\n",
    "table = client.get_table(table_ref)\n",
    "\n",
    "# Preview the first five lines of the \"transactions\" table\n",
    "client.list_rows(table, max_results=5).to_dataframe()"
   ]
  },
  {
   "cell_type": "code",
   "execution_count": null,
   "id": "1e9bf420",
   "metadata": {},
   "outputs": [],
   "source": [
    "# Query to select the number of transactions per date, sorted by date\n",
    "query_with_CTE = \"\"\" \n",
    "                 WITH time_of_trans AS \n",
    "                 (\n",
    "                     SELECT DATE(block_timestamp) AS trans_date\n",
    "                     FROM `bigquery-public-data.crypto_bitcoin.transactions`\n",
    "                 ),\n",
    "                 current_date AS\n",
    "                 (\n",
    "                     SELECT CURRENT_DATE() as DATE\n",
    "                     FROM `bigquery-public-data.crypto_bitcoin.transactions` \n",
    "                 )\n",
    "                 SELECT COUNT(1) AS transactions,\n",
    "                        trans_date\n",
    "                 FROM time_of_trans\n",
    "                 GROUP BY trans_date\n",
    "                 ORDER BY trans_date\n",
    "                 \"\"\"\n",
    "\n",
    "# Set up the query (cancel the query if it would use too much of \n",
    "# your quota, with the limit set to 10 GB)\n",
    "safe_config = bigquery.QueryJobConfig(maximum_bytes_billed=10**10)\n",
    "query_job = client.query(query_with_CTE, job_config=safe_config)\n",
    "\n",
    "# API request - run the query, and convert the results to a pandas DataFrame\n",
    "transactions_by_date = query_job.to_dataframe()\n",
    "\n",
    "# Print the first five rows\n",
    "transactions_by_date.head()"
   ]
  },
  {
   "cell_type": "code",
   "execution_count": null,
   "id": "7fb042ef",
   "metadata": {},
   "outputs": [],
   "source": [
    "transactions_by_date.set_index('trans_date').plot()"
   ]
  }
 ],
 "metadata": {},
 "nbformat": 4,
 "nbformat_minor": 5
}
