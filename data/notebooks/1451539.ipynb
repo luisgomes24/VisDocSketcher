{
 "cells": [
  {
   "cell_type": "code",
   "execution_count": null,
   "id": "eadedc19",
   "metadata": {},
   "outputs": [],
   "source": [
    "import os\n",
    "import cv2\n",
    "import numpy as np\n",
    "import pandas as pd \n",
    "import warnings\n",
    "warnings.filterwarnings(\"ignore\")"
   ]
  },
  {
   "cell_type": "code",
   "execution_count": null,
   "id": "15aa14c1",
   "metadata": {},
   "outputs": [],
   "source": [
    "print(os.listdir(\"../input\"))\n",
    "\n",
    "DATA_PATH = '../input'\n",
    "TEST_DATA = os.path.join(DATA_PATH, \"test\")\n",
    "TRAIN_DATA = os.path.join(DATA_PATH, \"train\")\n",
    "TRAIN_MASKS_DATA = os.path.join(TRAIN_DATA, \"masks\")\n",
    "\n",
    "df = pd.read_csv(DATA_PATH+'/train_ship_segmentations.csv')\n",
    "\n",
    "path_train = '../input/train/'\n",
    "path_test = '../input/test/'\n",
    "train_ids = df.ImageId.values\n",
    "\n",
    "df = df.set_index('ImageId')"
   ]
  },
  {
   "cell_type": "code",
   "execution_count": null,
   "id": "9a6366be",
   "metadata": {},
   "outputs": [],
   "source": [
    "def get_filename(image_id, image_type):\n",
    "    check_dir = False\n",
    "    if \"Train\" == image_type:\n",
    "        data_path = TRAIN_DATA\n",
    "    elif \"mask\" in image_type:\n",
    "        data_path = TRAIN_MASKS_DATA\n",
    "    elif \"Test\" in image_type:\n",
    "        data_path = TEST_DATA\n",
    "    else:\n",
    "        raise Exception(\"Image type '%s' is not recognized\" % image_type)\n",
    "\n",
    "    if check_dir and not os.path.exists(data_path):\n",
    "        os.makedirs(data_path)\n",
    "\n",
    "    return os.path.join(data_path, \"{}\".format(image_id))\n",
    "\n",
    "def get_image_data(image_id, image_type, **kwargs):\n",
    "    img = _get_image_data_opencv(image_id, image_type, **kwargs)\n",
    "    img = img.astype('uint8')\n",
    "    return img\n",
    "\n",
    "def _get_image_data_opencv(image_id, image_type, **kwargs):\n",
    "    fname = get_filename(image_id, image_type)\n",
    "    img = cv2.imread(fname)\n",
    "    assert img is not None, \"Failed to read image : %s, %s\" % (image_id, image_type)\n",
    "    img = cv2.cvtColor(img, cv2.COLOR_BGR2RGB)\n",
    "    return img"
   ]
  }
 ],
 "metadata": {},
 "nbformat": 4,
 "nbformat_minor": 5
}
