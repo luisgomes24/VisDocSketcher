{
 "cells": [
  {
   "cell_type": "markdown",
   "id": "b7501725",
   "metadata": {},
   "source": [
    "## Library Imports"
   ]
  },
  {
   "cell_type": "code",
   "execution_count": null,
   "id": "39e27e68",
   "metadata": {},
   "outputs": [],
   "source": [
    "import warnings\n",
    "warnings.filterwarnings(\"ignore\")\n",
    "\n",
    "import pandas as pd\n",
    "import seaborn as sns\n",
    "import matplotlib.pyplot as plt"
   ]
  },
  {
   "cell_type": "markdown",
   "id": "81d56b8d",
   "metadata": {},
   "source": [
    "## Data loading & Analysis"
   ]
  },
  {
   "cell_type": "code",
   "execution_count": null,
   "id": "d7b4b8a3",
   "metadata": {},
   "outputs": [],
   "source": [
    "raw_df = pd.read_csv(\"/kaggle/input/population-2022/population.csv\")"
   ]
  },
  {
   "cell_type": "code",
   "execution_count": null,
   "id": "1cbebe4a",
   "metadata": {},
   "outputs": [],
   "source": [
    "raw_df.head()"
   ]
  },
  {
   "cell_type": "code",
   "execution_count": null,
   "id": "fcc77e40",
   "metadata": {},
   "outputs": [],
   "source": [
    "raw_df.tail()"
   ]
  },
  {
   "cell_type": "code",
   "execution_count": null,
   "id": "859f98bd",
   "metadata": {},
   "outputs": [],
   "source": [
    "raw_df.describe()"
   ]
  },
  {
   "cell_type": "code",
   "execution_count": null,
   "id": "944347fe",
   "metadata": {},
   "outputs": [],
   "source": [
    "raw_df.info()"
   ]
  },
  {
   "cell_type": "code",
   "execution_count": null,
   "id": "e3c13b3f",
   "metadata": {},
   "outputs": [],
   "source": [
    "raw_df.isna().sum()"
   ]
  },
  {
   "cell_type": "code",
   "execution_count": null,
   "id": "4f577eb1",
   "metadata": {},
   "outputs": [],
   "source": [
    "raw_df.columns"
   ]
  },
  {
   "cell_type": "code",
   "execution_count": null,
   "id": "471e771b",
   "metadata": {},
   "outputs": [],
   "source": [
    "dict = {'year': raw_df['Year'], 'country':raw_df['Country'], 'population':raw_df['Population']}\n",
    "sub_df = pd.DataFrame(dict)\n",
    "sub_df.head()"
   ]
  },
  {
   "cell_type": "markdown",
   "id": "e960ef53",
   "metadata": {},
   "source": [
    "## Exploratory Data Analysis"
   ]
  },
  {
   "cell_type": "markdown",
   "id": "818022dc",
   "metadata": {},
   "source": [
    "### Growth of population YoY of different countries (top 100 and lowest 100 data points)"
   ]
  },
  {
   "cell_type": "code",
   "execution_count": null,
   "id": "2da09850",
   "metadata": {},
   "outputs": [],
   "source": [
    "plt.figure(figsize=(12,5))\n",
    "data = sub_df.sort_values(by=['population'], ascending=False)[:100]\n",
    "sns.lineplot(data=data, x='year', y='population', hue='country', legend=True)\n",
    "plt.show()\n",
    "\n",
    "plt.figure(figsize=(12,5))\n",
    "data = sub_df.sort_values(by=['population'], ascending=True)[:100]\n",
    "sns.lineplot(data=data, x='year', y='population', hue='country', legend=True)\n",
    "plt.show()"
   ]
  },
  {
   "cell_type": "markdown",
   "id": "bee48ab0",
   "metadata": {},
   "source": [
    "### Top 20 and Least 20 most populated countries as on year 2020"
   ]
  },
  {
   "cell_type": "code",
   "execution_count": null,
   "id": "5e7a57ee",
   "metadata": {},
   "outputs": [],
   "source": [
    "data = sub_df[sub_df['year'] == 2020].sort_values(by=['population'], ascending=False)[:20]\n",
    "plot = sns.barplot(data=data, x=\"country\", y=\"population\")\n",
    "plt.figure(figsize=(12,5))\n",
    "plt.setp(plot.get_xticklabels(), rotation=90)\n",
    "plt.show()\n",
    "\n",
    "data = sub_df[sub_df['year'] == 2020].sort_values(by=['population'], ascending=True)[:20]\n",
    "plot = sns.barplot(data=data, x=\"country\", y=\"population\")\n",
    "plt.figure(figsize=(12,5))\n",
    "plt.setp(plot.get_xticklabels(), rotation=90)\n",
    "plt.show()"
   ]
  },
  {
   "cell_type": "markdown",
   "id": "3993621b",
   "metadata": {},
   "source": [
    "### top 20 and least 20 global ranked countries as per population as on year 2020"
   ]
  },
  {
   "cell_type": "code",
   "execution_count": null,
   "id": "63d3fa29",
   "metadata": {},
   "outputs": [],
   "source": [
    "dict = {'year': raw_df['Year'], 'country':raw_df['Country'], 'rank':raw_df['GlobalRank']}\n",
    "sub_df = pd.DataFrame(dict)\n",
    "data = sub_df[sub_df['year'] == 2020].sort_values(by=['rank'], ascending=True)[:20]\n",
    "plot = sns.barplot(data=data, x=\"country\", y=\"rank\", )\n",
    "plt.figure(figsize=(12,5))\n",
    "plt.setp(plot.get_xticklabels(), rotation=90)\n",
    "plt.show()\n",
    "\n",
    "data = sub_df[sub_df['year'] == 2020].sort_values(by=['rank'], ascending=False)[:20]\n",
    "plot = sns.barplot(data=data, x=\"country\", y=\"rank\", )\n",
    "plt.figure(figsize=(12,5))\n",
    "plt.setp(plot.get_xticklabels(), rotation=90)\n",
    "plt.show()"
   ]
  },
  {
   "cell_type": "markdown",
   "id": "2808cc80",
   "metadata": {},
   "source": [
    "### top 20 and least 20 yearly % change of countries as of year 2020"
   ]
  },
  {
   "cell_type": "code",
   "execution_count": null,
   "id": "c3ceaca0",
   "metadata": {},
   "outputs": [],
   "source": [
    "dict = {'year': raw_df['Year'], 'country':raw_df['Country'], 'yearly%change':raw_df['Yearly%Change']}\n",
    "sub_df = pd.DataFrame(dict)\n",
    "data = sub_df[sub_df['year'] == 2020].sort_values(by=['yearly%change'], ascending=False)[:20]\n",
    "plot = sns.barplot(data=data, x=\"country\", y=\"yearly%change\", )\n",
    "plt.figure(figsize=(12,5))\n",
    "plt.setp(plot.get_xticklabels(), rotation=90)\n",
    "plt.show()\n",
    "\n",
    "data = sub_df[sub_df['year'] == 2020].sort_values(by=['yearly%change'], ascending=True)[:20]\n",
    "plot = sns.barplot(data=data, x=\"country\", y=\"yearly%change\", )\n",
    "plt.figure(figsize=(12,5))\n",
    "plt.setp(plot.get_xticklabels(), rotation=90)\n",
    "plt.show()"
   ]
  },
  {
   "cell_type": "markdown",
   "id": "075066dc",
   "metadata": {},
   "source": [
    "### top 30 countries median age distribution plot"
   ]
  },
  {
   "cell_type": "code",
   "execution_count": null,
   "id": "4b1bd4c2",
   "metadata": {},
   "outputs": [],
   "source": [
    "dict = {'year': raw_df['Year'], 'country':raw_df['Country'], 'age':raw_df['MedianAge']}\n",
    "sub_df = pd.DataFrame(dict)\n",
    "data = sub_df.sort_values(by=['age'], ascending=True)[sub_df['age'] != 0.0][:30]\n",
    "plt.figure(figsize=(12,5))\n",
    "sns.displot(data=data, x=\"age\", hue=\"country\", kind=\"kde\")\n",
    "plt.show()"
   ]
  },
  {
   "cell_type": "markdown",
   "id": "71b5a518",
   "metadata": {},
   "source": [
    "### bivariate analysis of top 30 countries | median age vs fertility rate"
   ]
  },
  {
   "cell_type": "code",
   "execution_count": null,
   "id": "bd1e1d77",
   "metadata": {},
   "outputs": [],
   "source": [
    "dict = {'year': raw_df['Year'], 'country':raw_df['Country'], 'age':raw_df['MedianAge'], 'fertility': raw_df['FertilityRate']}\n",
    "sub_df = pd.DataFrame(dict)\n",
    "data = sub_df.sort_values(by=['age'], ascending=True)[sub_df['age'] != 0.0][:30]\n",
    "plt.figure(figsize=(12,5))\n",
    "sns.violinplot(data=data, x=\"age\", y=\"fertility\")\n",
    "plt.show()"
   ]
  }
 ],
 "metadata": {},
 "nbformat": 4,
 "nbformat_minor": 5
}
