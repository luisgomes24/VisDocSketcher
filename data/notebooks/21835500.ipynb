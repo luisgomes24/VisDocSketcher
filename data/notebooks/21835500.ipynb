{
 "cells": [
  {
   "cell_type": "code",
   "execution_count": null,
   "id": "02830da1",
   "metadata": {},
   "outputs": [],
   "source": [
    "# This Python 3 environment comes with many helpful analytics libraries installed\n",
    "# It is defined by the kaggle/python Docker image: https://github.com/kaggle/docker-python\n",
    "# For example, here's several helpful packages to load\n",
    "\n",
    "import numpy as np # linear algebra\n",
    "import pandas as pd # data processing, CSV file I/O (e.g. pd.read_csv)\n",
    "import matplotlib.pyplot as plt\n",
    "import seaborn as sns\n",
    "\n",
    "import warnings\n",
    "warnings.simplefilter(action='ignore', category=FutureWarning)\n",
    "\n",
    "# Input data files are available in the read-only \"../input/\" directory\n",
    "# For example, running this (by clicking run or pressing Shift+Enter) will list all files under the input directory\n",
    "\n",
    "import os\n",
    "for dirname, _, filenames in os.walk('/kaggle/input'):\n",
    "    for filename in filenames:\n",
    "        print(os.path.join(dirname, filename))\n",
    "\n",
    "# You can write up to 20GB to the current directory (/kaggle/working/) that gets preserved as output when you create a version using \"Save & Run All\" \n",
    "# You can also write temporary files to /kaggle/temp/, but they won't be saved outside of the current session"
   ]
  },
  {
   "cell_type": "code",
   "execution_count": null,
   "id": "278563f2",
   "metadata": {},
   "outputs": [],
   "source": [
    "df = pd.read_csv('../input/czech-printed-books-in-2020-fixed/tistene-knihy_2020_export.csv', delimiter=';',  encoding='utf8')\n",
    "df.head()"
   ]
  },
  {
   "cell_type": "code",
   "execution_count": null,
   "id": "3b413fbe",
   "metadata": {},
   "outputs": [],
   "source": [
    "!pip install dataprep"
   ]
  },
  {
   "cell_type": "code",
   "execution_count": null,
   "id": "d7500b42",
   "metadata": {},
   "outputs": [],
   "source": [
    "! python -m pip install \"dask[dataframe]\" --upgrade  # or python -m pip install"
   ]
  },
  {
   "cell_type": "code",
   "execution_count": null,
   "id": "4468b865",
   "metadata": {},
   "outputs": [],
   "source": [
    "from dataprep.eda import plot, plot_correlation, create_report, plot_missing"
   ]
  },
  {
   "cell_type": "code",
   "execution_count": null,
   "id": "4b9122b2",
   "metadata": {},
   "outputs": [],
   "source": [
    "plot(df)"
   ]
  },
  {
   "cell_type": "code",
   "execution_count": null,
   "id": "c533fe32",
   "metadata": {},
   "outputs": [],
   "source": [
    "plot(df, \"Název\")"
   ]
  },
  {
   "cell_type": "code",
   "execution_count": null,
   "id": "15c0d3c2",
   "metadata": {},
   "outputs": [],
   "source": [
    "plot_missing(df)"
   ]
  },
  {
   "cell_type": "code",
   "execution_count": null,
   "id": "08267c47",
   "metadata": {},
   "outputs": [],
   "source": [
    "##Code by Taha07  https://www.kaggle.com/taha07/data-scientists-jobs-analysis-visualization/notebook\n",
    "\n",
    "from wordcloud import WordCloud\n",
    "from wordcloud import STOPWORDS\n",
    "stopwords = set(STOPWORDS)\n",
    "wordcloud = WordCloud(background_color = '#A9A9A9',\n",
    "                      height =2000,\n",
    "                      width = 2000\n",
    "                     ).generate(str(df[\"Název\"]))\n",
    "plt.rcParams['figure.figsize'] = (10,10)\n",
    "plt.axis(\"off\")\n",
    "plt.imshow(wordcloud)\n",
    "plt.title(\"Czech Titles\")\n",
    "plt.show()"
   ]
  },
  {
   "cell_type": "code",
   "execution_count": null,
   "id": "5abb68a5",
   "metadata": {},
   "outputs": [],
   "source": [
    "##Code by Taha07  https://www.kaggle.com/taha07/data-scientists-jobs-analysis-visualization/notebook\n",
    "\n",
    "from wordcloud import WordCloud\n",
    "from wordcloud import STOPWORDS\n",
    "stopwords = set(STOPWORDS)\n",
    "wordcloud = WordCloud(background_color = 'purple',\n",
    "                      height =2000,\n",
    "                      width = 2000\n",
    "                     ).generate(str(df[\"Autor\"]))\n",
    "plt.rcParams['figure.figsize'] = (10,10)\n",
    "plt.axis(\"off\")\n",
    "plt.imshow(wordcloud)\n",
    "plt.title(\"Czech Authors\")\n",
    "plt.show()"
   ]
  },
  {
   "cell_type": "markdown",
   "id": "b7b27d30",
   "metadata": {},
   "source": [
    "That's all for now."
   ]
  }
 ],
 "metadata": {},
 "nbformat": 4,
 "nbformat_minor": 5
}
