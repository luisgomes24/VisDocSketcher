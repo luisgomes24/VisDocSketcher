{
 "cells": [
  {
   "cell_type": "code",
   "execution_count": null,
   "id": "efb96a3e",
   "metadata": {},
   "outputs": [],
   "source": [
    "import sys\n",
    "import pandas as pd\n",
    "\n",
    "### import the utility function (see https://www.kaggle.com/neomatrix369/nlp-profiler-class)\n",
    "# from nlp_profiler_class import NLPProfiler  \n",
    "\n",
    "### import NLP Profiler after installing from the GitHub repo (master branch)\n",
    "!pip uninstall -qy typing\n",
    "!pip install git+https://github.com/neomatrix369/nlp_profiler.git@master\n",
    "import nlp_profiler.core as NLPProfiler  "
   ]
  },
  {
   "cell_type": "code",
   "execution_count": null,
   "id": "782e2ad0",
   "metadata": {},
   "outputs": [],
   "source": [
    "import sys\n",
    "import pandas as pd\n",
    "\n",
    "### import the utility function (see https://www.kaggle.com/neomatrix369/nlp-profiler-class)\n",
    "# from nlp_profiler_class import NLPProfiler  \n",
    "\n",
    "### import NLP Profiler after installing from the GitHub repo (master branch)\n",
    "!pip uninstall -qy typing\n",
    "!pip install git+https://github.com/neomatrix369/nlp_profiler.git@master\n",
    "import nlp_profiler.core as NLPProfiler  "
   ]
  },
  {
   "cell_type": "code",
   "execution_count": null,
   "id": "9586cd53",
   "metadata": {},
   "outputs": [],
   "source": [
    "#To ignore warning messages\n",
    "import warnings\n",
    "warnings.filterwarnings('ignore')"
   ]
  },
  {
   "cell_type": "code",
   "execution_count": null,
   "id": "135d5b79",
   "metadata": {},
   "outputs": [],
   "source": [
    "#To ignore warning messages\n",
    "import warnings\n",
    "warnings.filterwarnings('ignore')"
   ]
  },
  {
   "cell_type": "code",
   "execution_count": null,
   "id": "a76b028d",
   "metadata": {},
   "outputs": [],
   "source": [
    "#Pulling the dataset\n",
    "df = pd.read_csv(\"../input/widsdatathon2020/WiDS Datathon 2020 Dictionary.csv\")"
   ]
  },
  {
   "cell_type": "code",
   "execution_count": null,
   "id": "e42bfdb9",
   "metadata": {},
   "outputs": [],
   "source": [
    "#Pulling the dataset\n",
    "df = pd.read_csv(\"../input/widsdatathon2020/WiDS Datathon 2020 Dictionary.csv\")"
   ]
  },
  {
   "cell_type": "code",
   "execution_count": null,
   "id": "c0d9c7a2",
   "metadata": {},
   "outputs": [],
   "source": [
    "df.head()"
   ]
  },
  {
   "cell_type": "code",
   "execution_count": null,
   "id": "ae4d312e",
   "metadata": {},
   "outputs": [],
   "source": [
    "df.head()"
   ]
  },
  {
   "cell_type": "code",
   "execution_count": null,
   "id": "d2f16782",
   "metadata": {},
   "outputs": [],
   "source": [
    "df.shape"
   ]
  },
  {
   "cell_type": "code",
   "execution_count": null,
   "id": "b6a8a107",
   "metadata": {},
   "outputs": [],
   "source": [
    "df.shape"
   ]
  },
  {
   "cell_type": "code",
   "execution_count": null,
   "id": "aaca8fb4",
   "metadata": {},
   "outputs": [],
   "source": [
    "#Importing the apply_text_profiling\n",
    "from nlp_profiler.core import apply_text_profiling"
   ]
  },
  {
   "cell_type": "code",
   "execution_count": null,
   "id": "296a7b62",
   "metadata": {},
   "outputs": [],
   "source": [
    "#Importing the apply_text_profiling\n",
    "from nlp_profiler.core import apply_text_profiling"
   ]
  },
  {
   "cell_type": "code",
   "execution_count": null,
   "id": "cf3bf18f",
   "metadata": {},
   "outputs": [],
   "source": [
    "profiled_df = apply_text_profiling(df,'Description')\n",
    "profiled_df.head(2)"
   ]
  },
  {
   "cell_type": "code",
   "execution_count": null,
   "id": "dc7b997b",
   "metadata": {},
   "outputs": [],
   "source": [
    "profiled_df = apply_text_profiling(df,'Description')\n",
    "profiled_df.head(2)"
   ]
  },
  {
   "cell_type": "code",
   "execution_count": null,
   "id": "27324a7c",
   "metadata": {},
   "outputs": [],
   "source": [
    "profiled_df.columns"
   ]
  },
  {
   "cell_type": "code",
   "execution_count": null,
   "id": "77d17461",
   "metadata": {},
   "outputs": [],
   "source": [
    "profiled_df.columns"
   ]
  },
  {
   "cell_type": "code",
   "execution_count": null,
   "id": "fb3431f7",
   "metadata": {},
   "outputs": [],
   "source": [
    "import matplotlib.pyplot as plt\n",
    "#Hist plot for the sentiment polarity for the first 100 sentences\n",
    "profiled_df['sentiment_polarity'].hist()\n",
    "plt.title(\"Sentiment Polarity\")\n",
    "plt.show()"
   ]
  },
  {
   "cell_type": "code",
   "execution_count": null,
   "id": "8a7132e7",
   "metadata": {},
   "outputs": [],
   "source": [
    "import matplotlib.pyplot as plt\n",
    "#Hist plot for the sentiment polarity for the first 100 sentences\n",
    "profiled_df['sentiment_polarity'].hist()\n",
    "plt.title(\"Sentiment Polarity\")\n",
    "plt.show()"
   ]
  },
  {
   "cell_type": "code",
   "execution_count": null,
   "id": "ec1be4b8",
   "metadata": {},
   "outputs": [],
   "source": [
    "#Subjective or Objective sentence\n",
    "profiled_df['sentiment_subjectivity_summarised'].hist()\n",
    "plt.title(\"Sentiment Subjectivity\")\n",
    "plt.show()"
   ]
  },
  {
   "cell_type": "code",
   "execution_count": null,
   "id": "a18c2719",
   "metadata": {},
   "outputs": [],
   "source": [
    "#Subjective or Objective sentence\n",
    "profiled_df['sentiment_subjectivity_summarised'].hist()\n",
    "plt.title(\"Sentiment Subjectivity\")\n",
    "plt.show()"
   ]
  },
  {
   "cell_type": "code",
   "execution_count": null,
   "id": "c5a6124b",
   "metadata": {},
   "outputs": [],
   "source": [
    "#Average stop word count with the sentences\n",
    "profiled_df['stop_words_count'].mean()"
   ]
  },
  {
   "cell_type": "code",
   "execution_count": null,
   "id": "491008d3",
   "metadata": {},
   "outputs": [],
   "source": [
    "#Average stop word count with the sentences\n",
    "profiled_df['stop_words_count'].mean()"
   ]
  },
  {
   "cell_type": "code",
   "execution_count": null,
   "id": "57b2094b",
   "metadata": {},
   "outputs": [],
   "source": [
    "import seaborn as sns\n",
    "sns.heatmap(profiled_df[['sentiment_polarity_score','sentiment_subjectivity_score']].corr(),annot=True,cmap='Blues')\n",
    "plt.title(\"Correlation Between Sentiment Polarity and Sentiment Subjectivity\")\n",
    "plt.xticks(rotation=45)\n",
    "plt.show()"
   ]
  },
  {
   "cell_type": "code",
   "execution_count": null,
   "id": "e324320e",
   "metadata": {},
   "outputs": [],
   "source": [
    "import seaborn as sns\n",
    "sns.heatmap(profiled_df[['sentiment_polarity_score','sentiment_subjectivity_score']].corr(),annot=True,cmap='Blues')\n",
    "plt.title(\"Correlation Between Sentiment Polarity and Sentiment Subjectivity\")\n",
    "plt.xticks(rotation=45)\n",
    "plt.show()"
   ]
  }
 ],
 "metadata": {},
 "nbformat": 4,
 "nbformat_minor": 5
}
