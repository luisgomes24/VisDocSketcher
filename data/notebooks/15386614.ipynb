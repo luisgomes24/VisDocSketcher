{
 "cells": [
  {
   "cell_type": "code",
   "execution_count": null,
   "id": "253fe7a1",
   "metadata": {},
   "outputs": [],
   "source": [
    "# This Python 3 environment comes with many helpful analytics libraries installed\n",
    "# It is defined by the kaggle/python Docker image: https://github.com/kaggle/docker-python\n",
    "# For example, here's several helpful packages to load\n",
    "\n",
    "import numpy as np # linear algebra\n",
    "import pandas as pd # data processing, CSV file I/O (e.g. pd.read_csv)\n",
    "\n",
    "# Input data files are available in the read-only \"../input/\" directory\n",
    "# For example, running this (by clicking run or pressing Shift+Enter) will list all files under the input directory\n",
    "\n",
    "import os\n",
    "for dirname, _, filenames in os.walk('/kaggle/input'):\n",
    "    for filename in filenames:\n",
    "        print(os.path.join(dirname, filename))\n",
    "\n",
    "# You can write up to 20GB to the current directory (/kaggle/working/) that gets preserved as output when you create a version using \"Save & Run All\" \n",
    "# You can also write temporary files to /kaggle/temp/, but they won't be saved outside of the current session"
   ]
  },
  {
   "cell_type": "markdown",
   "id": "8662906b",
   "metadata": {},
   "source": [
    "# contents\n",
    "\n",
    "1. Dataset\n",
    "    - bitcoin(BTC) historical price in USD : bitcoin_usd_history.csv (from coindesk)\n",
    "    - bitcoin(BTC) searching volume in global : bitcoin_search_volume.csv (from google trend)\n",
    "        \n",
    "        \n",
    "2. Visualization\n",
    "    - Easily Visualizate the data with plotly fuction"
   ]
  },
  {
   "cell_type": "markdown",
   "id": "04897a63",
   "metadata": {},
   "source": [
    "# 1. Dataset - Check the index Range"
   ]
  },
  {
   "cell_type": "code",
   "execution_count": null,
   "id": "9963a4e5",
   "metadata": {},
   "outputs": [],
   "source": [
    "import pandas as pd\n",
    "import numpy as np\n",
    "import plotly.graph_objects as go\n",
    "import plotly.express as px\n",
    "from plotly.subplots import make_subplots\n",
    "import matplotlib.pyplot as plt\n",
    "import datetime"
   ]
  },
  {
   "cell_type": "code",
   "execution_count": null,
   "id": "e361e7cc",
   "metadata": {},
   "outputs": [],
   "source": [
    "### Load csv data\n",
    "price_history = pd.read_csv('../input/bitcoin-history/bitcoin_usd_history.csv')\n",
    "search_volume = pd.read_csv('../input/bitcoin-history/bitcoin_search_volume.csv')\n",
    "\n",
    "# ======= Price data ======== # \n",
    "\n",
    "# Rename column names\n",
    "price_history = price_history.rename(columns={\"Date\": \"date\", \n",
    "                                              \"Closing Price (USD)\": \"close\",\n",
    "                                              \"24h Open (USD)\":\"open\",\n",
    "                                              \"24h High (USD)\":\"high\",\n",
    "                                              \"24h Low (USD)\":\"low\"})\n",
    "\n",
    "## Check data length & dates\n",
    "print('\\n[ Price History ]')\n",
    "p_len = len(price_history)\n",
    "print('index range 0 to %d' % p_len)\n",
    "\n",
    "i = 2639   # last year : 2273 / this year : 2639\n",
    "print('index %d matched date : ' % i,price_history['date'][i])\n",
    "\n",
    "\n",
    "# ======= Search Volume data ======== # \n",
    "print('\\n[ Search Volume ]')\n",
    "s_len = len(search_volume)\n",
    "print('index range 0 to %d' % s_len)\n",
    "j = 251   # last year : 199 / this year : 251\n",
    "print('index %d matched date : ' % j,search_volume['date'][j])"
   ]
  },
  {
   "cell_type": "markdown",
   "id": "d2fd3ac9",
   "metadata": {},
   "source": [
    "# 2. Visualization\n",
    "\n",
    "* See the \"Bitcoin\" trend of \"Price\" & \"Search Volume\"\n",
    "* Use plotly function\n",
    "    - Show Open,High,Low,Closed Prices in One graph\n",
    "    - See Price & Search volume in Shared \"Date\" axis\n",
    "    - See \"Long Term_from 2020\" & \"Short Term_from 2021\" in One layout by Subplot"
   ]
  },
  {
   "cell_type": "code",
   "execution_count": null,
   "id": "bc035c0e",
   "metadata": {},
   "outputs": [],
   "source": [
    "### define graph subplot shape & ratio\n",
    "fig = make_subplots(\n",
    "    rows=2, cols=2, shared_xaxes=True, vertical_spacing=0.02,\n",
    "    row_heights = [0.7, 0.3],\n",
    ")\n",
    "\n",
    "### add the total data graph\n",
    "fig.add_trace(go.Scatter(x=price_history[\"date\"], y=price_history['close'],name=\"Close Price\",line=dict(dash='solid',shape='spline',color='black')), row=1, col=1)\n",
    "# fig.add_trace(go.Scatter(x=price_history[\"date\"], y=price_history['open'], name=\"Open Price\",line=dict(dash='solid',shape='spline',color='black')), row=1, col=1))\n",
    "fig.add_trace(go.Scatter(x=price_history[\"date\"], y=price_history['high'], name=\"High Price\",line=dict(dash='longdash',color='blue')), row=1, col=1)\n",
    "fig.add_trace(go.Scatter(x=price_history[\"date\"], y=price_history['low'],name=\"Low Price\",line=dict(dash='longdash',color='red')), row=1, col=1)\n",
    "fig.add_trace(go.Bar(x=search_volume[\"date\"], y=search_volume['search_volume'], name=\"Search Volume\"), row=2, col=1)\n",
    "\n",
    "### add latest specific data graph\n",
    "fig.add_trace(go.Scatter(x=price_history[\"date\"][2639:], y=price_history['close'],name=\"Close Price\",line=dict(dash='solid',shape='spline',color='black')), row=1, col=2)\n",
    "# fig.add_trace(go.Scatter(x=price_history[\"date\"][2639:], y=price_history['open'], name=\"Open Price\",line=dict(dash='solid',shape='spline',color='black')), row=1, col=2))\n",
    "fig.add_trace(go.Scatter(x=price_history[\"date\"][2639:], y=price_history['high'], name=\"High Price\",line=dict(dash='longdash',color='blue')), row=1, col=2)\n",
    "fig.add_trace(go.Scatter(x=price_history[\"date\"][2639:], y=price_history['low'],name=\"Low Price\",line=dict(dash='longdash',color='red')), row=1, col=2)\n",
    "fig.add_trace(go.Bar(x=search_volume[\"date\"][251:], y=search_volume['search_volume'], name=\"Search Volume\"), row=2, col=2)\n",
    "\n",
    "\n",
    "### setup layout\n",
    "fig.update_layout(autosize=True, title_text=\"Bitcoin Price & Search Volume\") #,height=326*2, width=280*3\n",
    " \n",
    "fig.show()\n"
   ]
  }
 ],
 "metadata": {},
 "nbformat": 4,
 "nbformat_minor": 5
}
