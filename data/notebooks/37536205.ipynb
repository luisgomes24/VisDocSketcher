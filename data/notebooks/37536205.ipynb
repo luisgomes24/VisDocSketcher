{
 "cells": [
  {
   "cell_type": "code",
   "execution_count": null,
   "id": "a67a5d55",
   "metadata": {},
   "outputs": [],
   "source": [
    "# Import the necessary libraries\n",
    "import numpy as np\n",
    "import pandas as pd\n",
    "import matplotlib.pyplot as plt\n",
    "import os\n",
    "from sklearn.model_selection import train_test_split, cross_val_score, GridSearchCV\n",
    "from sklearn.metrics import accuracy_score, f1_score\n",
    "from sklearn.linear_model import SGDClassifier, LogisticRegression\n",
    "from sklearn.svm import SVC\n",
    "from sklearn.tree import DecisionTreeClassifier\n",
    "from sklearn.ensemble import VotingClassifier"
   ]
  },
  {
   "cell_type": "markdown",
   "id": "eac20cce",
   "metadata": {},
   "source": [
    "# Load the datasets"
   ]
  },
  {
   "cell_type": "code",
   "execution_count": null,
   "id": "6b8f7665",
   "metadata": {},
   "outputs": [],
   "source": [
    "DATA_PATH = '../input/titanic'\n",
    "\n",
    "data = pd.read_csv(os.path.join(DATA_PATH, 'train.csv'), index_col=0)\n",
    "\n",
    "data.head()"
   ]
  },
  {
   "cell_type": "code",
   "execution_count": null,
   "id": "d840bb95",
   "metadata": {},
   "outputs": [],
   "source": [
    "data.info()"
   ]
  },
  {
   "cell_type": "markdown",
   "id": "19917d1a",
   "metadata": {},
   "source": [
    "- For the `Cabin` feature with too many missing values, it may be considered to delete it\n",
    "\n",
    "- The `Name` and `Ticket` features are somewhat difficult to process, for simplicity you can delete them first.\n",
    "\n",
    "- We can combine the `SibSp` and `Parch` features into a new feature called `Family` to prevent strong linear relationships between features."
   ]
  },
  {
   "cell_type": "markdown",
   "id": "72ae2953",
   "metadata": {},
   "source": [
    "# Process the data"
   ]
  },
  {
   "cell_type": "code",
   "execution_count": null,
   "id": "81ce76b9",
   "metadata": {},
   "outputs": [],
   "source": [
    "# Drop features\n",
    "useless_features = ['Name', 'Ticket', 'Cabin']\n",
    "data.drop(useless_features, axis=1, inplace=True)\n",
    "\n",
    "# Combine features\n",
    "data['Family'] = data['SibSp'] + data['Parch'] + 1\n",
    "data.drop(['SibSp', 'Parch'], axis=1, inplace=True)\n",
    "\n",
    "# Discretization(离散化)\n",
    "data['Is_alone'] = (data['Family'] == 1).astype(int)\n",
    "\n",
    "# Fillna\n",
    "data['Age'].fillna(data['Age'].mean(), inplace=True)\n",
    "data['Embarked'].fillna('S', inplace=True)\n",
    "\n",
    "# Map to visualize the distribution of features\n",
    "data['Sex'] = data['Sex'].map({'male': 1, 'female': 0})\n",
    "data['Embarked'] = data['Embarked'].map({'S': 0, 'C': 1, 'Q': 2})\n",
    "\n",
    "data.head()"
   ]
  },
  {
   "cell_type": "code",
   "execution_count": null,
   "id": "224ddba9",
   "metadata": {},
   "outputs": [],
   "source": [
    "data.hist(bins=50, figsize=(20, 15))\n",
    "plt.show()"
   ]
  },
  {
   "cell_type": "code",
   "execution_count": null,
   "id": "578ad6e7",
   "metadata": {},
   "outputs": [],
   "source": [
    "# Look at the correlation coefficient\n",
    "data.corr()['Survived'].sort_values(ascending=False)"
   ]
  },
  {
   "cell_type": "code",
   "execution_count": null,
   "id": "1a35f65f",
   "metadata": {},
   "outputs": [],
   "source": [
    "# Discretization\n",
    "qcut = 2\n",
    "data['Age_stage'] = pd.qcut(data['Age'], qcut, labels=range(qcut)).astype(int)\n",
    "data.corr()['Survived'].sort_values(ascending=False)"
   ]
  },
  {
   "cell_type": "code",
   "execution_count": null,
   "id": "55308e72",
   "metadata": {},
   "outputs": [],
   "source": [
    "# Discretization\n",
    "qcut = 9\n",
    "data['Fare_band'] = pd.qcut(data['Fare'], qcut, labels=range(qcut)).astype(int)\n",
    "data.corr()['Survived'].sort_values(ascending=False)"
   ]
  },
  {
   "cell_type": "code",
   "execution_count": null,
   "id": "00bc49cd",
   "metadata": {},
   "outputs": [],
   "source": [
    "# Revert to category\n",
    "cat_features = ['Fare_band', 'Embarked', 'Is_alone', 'Pclass', 'Sex']\n",
    "data[cat_features] = data[cat_features].astype(str)"
   ]
  },
  {
   "cell_type": "code",
   "execution_count": null,
   "id": "c64cc079",
   "metadata": {},
   "outputs": [],
   "source": [
    "# Choose the features to use\n",
    "chosen_features = ['Fare_band', 'Embarked', 'Is_alone', 'Pclass', 'Sex']\n",
    "\n",
    "# one-hot\n",
    "dummy_data = pd.get_dummies(data[chosen_features])\n",
    "dummy_data.head()"
   ]
  },
  {
   "cell_type": "code",
   "execution_count": null,
   "id": "bec44874",
   "metadata": {},
   "outputs": [],
   "source": [
    "dummy_data['Survived'] = data['Survived']\n",
    "dummy_data.corr()['Survived'].sort_values(ascending=False)"
   ]
  },
  {
   "cell_type": "markdown",
   "id": "be0f04e2",
   "metadata": {},
   "source": [
    "# Encapsulated as a function"
   ]
  },
  {
   "cell_type": "code",
   "execution_count": null,
   "id": "4304648a",
   "metadata": {},
   "outputs": [],
   "source": [
    "def preprocess_data(data):\n",
    "    # Modify to category\n",
    "    data['Pclass'] = data['Pclass'].astype(str)\n",
    "    \n",
    "    # Fillna\n",
    "    numerical_cols = data.select_dtypes(include=['int64', 'float64']).columns\n",
    "    data[numerical_cols].fillna(data[numerical_cols].mean(), inplace=True)\n",
    "    data['Embarked'].fillna('S', inplace=True)\n",
    "    \n",
    "    # Drop features\n",
    "    useless_features = ['Name', 'Ticket', 'Cabin']\n",
    "    data.drop(useless_features, axis=1, inplace=True)\n",
    "\n",
    "    # Combine features\n",
    "    data['Family'] = data['SibSp'] + data['Parch'] + 1\n",
    "    data.drop(['SibSp', 'Parch'], axis=1, inplace=True)\n",
    "\n",
    "    # Discretization\n",
    "    data['Is_alone'] = (data['Family'] == 1).astype(int).astype(str)\n",
    "    qcut = 9\n",
    "    data['Fare_band'] = pd.qcut(data['Fare'], qcut, labels=range(qcut))\n",
    "    \n",
    "    # one-hot\n",
    "    chosen_features = ['Fare_band', 'Embarked', 'Is_alone', 'Pclass', 'Sex']\n",
    "    if 'Survived' in data.columns:\n",
    "        chosen_features.append('Survived')\n",
    "    dummy_data = pd.get_dummies(data[chosen_features])\n",
    "    \n",
    "    return dummy_data"
   ]
  },
  {
   "cell_type": "code",
   "execution_count": null,
   "id": "65244935",
   "metadata": {},
   "outputs": [],
   "source": [
    "train_df = preprocess_data(pd.read_csv(os.path.join(DATA_PATH, 'train.csv'), index_col=0))\n",
    "test_df = preprocess_data(pd.read_csv(os.path.join(DATA_PATH, 'test.csv'), index_col=0))\n",
    "\n",
    "y = train_df['Survived'].values\n",
    "X = train_df.drop('Survived', axis=1).values\n",
    "X_test = test_df.values\n",
    "\n",
    "X_train, X_val, y_train, y_val = train_test_split(X, y, test_size=0.2, random_state=42)"
   ]
  },
  {
   "cell_type": "markdown",
   "id": "3cb70f29",
   "metadata": {},
   "source": [
    "---"
   ]
  },
  {
   "cell_type": "markdown",
   "id": "f0649466",
   "metadata": {},
   "source": [
    "# SVC model"
   ]
  },
  {
   "cell_type": "code",
   "execution_count": null,
   "id": "c7cc9b04",
   "metadata": {},
   "outputs": [],
   "source": [
    "def val_score(estimator, X, y):\n",
    "    '''Evaluate the model's performance on the validation set\n",
    "    '''\n",
    "    y_pred = estimator.predict(X)\n",
    "    print('model:', estimator)\n",
    "    print('accuracy:', accuracy_score(y, y_pred))\n",
    "    print('f1:', f1_score(y, y_pred))"
   ]
  },
  {
   "cell_type": "code",
   "execution_count": null,
   "id": "54dc5690",
   "metadata": {},
   "outputs": [],
   "source": [
    "params = np.logspace(-5, 1, 100)\n",
    "\n",
    "train_acc = []\n",
    "val_acc = []\n",
    "\n",
    "for param in params:\n",
    "    clf = SVC(C=param)\n",
    "    clf.fit(X_train, y_train)\n",
    "    train_acc.append(accuracy_score(y_train, clf.predict(X_train)))\n",
    "    val_acc.append(accuracy_score(y_val, clf.predict(X_val)))\n",
    "    \n",
    "plt.plot(params, train_acc, label='Train')\n",
    "plt.plot(params, val_acc, label='Val')\n",
    "plt.legend()\n",
    "plt.show()"
   ]
  },
  {
   "cell_type": "code",
   "execution_count": null,
   "id": "d66a6701",
   "metadata": {},
   "outputs": [],
   "source": [
    "svm_clf = SVC(C=params[val_acc.index(max(val_acc))])\n",
    "svm_clf.fit(X_train, y_train)\n",
    "\n",
    "val_score(svm_clf, X_val, y_val)"
   ]
  },
  {
   "cell_type": "markdown",
   "id": "47f3b8b4",
   "metadata": {},
   "source": [
    "---"
   ]
  },
  {
   "cell_type": "markdown",
   "id": "11680826",
   "metadata": {},
   "source": [
    "SVC(C=4.328761281083062)$\\longrightarrow$0.77990"
   ]
  },
  {
   "cell_type": "code",
   "execution_count": null,
   "id": "a2aabc7f",
   "metadata": {},
   "outputs": [],
   "source": [
    "submission = pd.DataFrame(svm_clf.predict(X_test), index=test_df.index, columns=['Survived'])\n",
    "submission"
   ]
  },
  {
   "cell_type": "code",
   "execution_count": null,
   "id": "f527cfd6",
   "metadata": {},
   "outputs": [],
   "source": [
    "submission.to_csv('submission.csv')"
   ]
  }
 ],
 "metadata": {},
 "nbformat": 4,
 "nbformat_minor": 5
}
