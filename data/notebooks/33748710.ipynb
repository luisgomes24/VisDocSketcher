{
 "cells": [
  {
   "cell_type": "markdown",
   "id": "ec9efa78",
   "metadata": {},
   "source": [
    "Published on December 31, 2022 by Marília Prata, mpwolke"
   ]
  },
  {
   "cell_type": "code",
   "execution_count": null,
   "id": "8a706e3a",
   "metadata": {},
   "outputs": [],
   "source": [
    "# This Python 3 environment comes with many helpful analytics libraries installed\n",
    "# It is defined by the kaggle/python Docker image: https://github.com/kaggle/docker-python\n",
    "# For example, here's several helpful packages to load\n",
    "\n",
    "import numpy as np # linear algebra\n",
    "import pandas as pd # data processing, CSV file I/O (e.g. pd.read_csv)\n",
    "import seaborn as sns\n",
    "import matplotlib.pyplot as plt\n",
    "\n",
    "#Ignore warnings\n",
    "import warnings\n",
    "warnings.filterwarnings('ignore')\n",
    "\n",
    "# Input data files are available in the read-only \"../input/\" directory\n",
    "# For example, running this (by clicking run or pressing Shift+Enter) will list all files under the input directory\n",
    "\n",
    "import os\n",
    "for dirname, _, filenames in os.walk('/kaggle/input'):\n",
    "    for filename in filenames:\n",
    "        print(os.path.join(dirname, filename))\n",
    "\n",
    "# You can write up to 20GB to the current directory (/kaggle/working/) that gets preserved as output when you create a version using \"Save & Run All\" \n",
    "# You can also write temporary files to /kaggle/temp/, but they won't be saved outside of the current session"
   ]
  },
  {
   "cell_type": "code",
   "execution_count": null,
   "id": "113faf93",
   "metadata": {},
   "outputs": [],
   "source": [
    "df = pd.read_csv(\"/kaggle/input/the-worlds-100-most-powerful-women/The Worlds 100 Most Powerful Women.csv\", delimiter=',', encoding='utf8')\n",
    "pd.set_option('display.max_columns', None)\n",
    "df.head()"
   ]
  },
  {
   "cell_type": "markdown",
   "id": "46a4a1a1",
   "metadata": {},
   "source": [
    "#Checking Dataset"
   ]
  },
  {
   "cell_type": "code",
   "execution_count": null,
   "id": "6e2ef044",
   "metadata": {},
   "outputs": [],
   "source": [
    "# checking dataset\n",
    "\n",
    "print (\"Rows     : \" ,df.shape[0])\n",
    "print (\"Columns  : \" ,df.shape[1])\n",
    "print (\"\\nFeatures : \\n\" ,df.columns.tolist())\n",
    "print (\"\\nMissing values :  \", df.isnull().sum().values.sum())\n",
    "print (\"\\nUnique values :  \\n\",df.nunique())"
   ]
  },
  {
   "cell_type": "code",
   "execution_count": null,
   "id": "2dc66703",
   "metadata": {},
   "outputs": [],
   "source": [
    "df[\"LOCATION\"].value_counts()"
   ]
  },
  {
   "cell_type": "code",
   "execution_count": null,
   "id": "8aa3ace1",
   "metadata": {},
   "outputs": [],
   "source": [
    "df['LOCATION'].value_counts()[:10].plot.barh(title='Most Powerful Women by Location', figsize=(8,6), color='r');"
   ]
  },
  {
   "cell_type": "code",
   "execution_count": null,
   "id": "6f13a915",
   "metadata": {},
   "outputs": [],
   "source": [
    "\n",
    "#Code by Lucas Abrahão https://www.kaggle.com/lucasabrahao/trabalho-manufatura-an-lise-de-dados-no-brasil\n",
    "\n",
    "df[\"CATEGORY\"].value_counts().plot.barh(color='blue', title='Most Powerful Women Category');"
   ]
  },
  {
   "cell_type": "code",
   "execution_count": null,
   "id": "2f9ce720",
   "metadata": {},
   "outputs": [],
   "source": [
    "df['AGE'].value_counts()[:10].plot.barh(title='Most Powerful Women by Age', figsize=(8,6), color='g');"
   ]
  },
  {
   "cell_type": "markdown",
   "id": "bd690c41",
   "metadata": {},
   "source": [
    "\"Amid the unprecedented crisis caused by Russia’s invasion of Ukraine in Europe, European Commission president Ursula von der Leyen topped Forbes’ 2022 list of world’s 100 most powerful women.\"\n",
    "\n",
    "https://www.gktoday.in/topic/forbes-list-of-the-worlds-100-most-powerful-women/#:~:text=Amid%20the%20unprecedented%20crisis%20caused,world's%20100%20most%20powerful%20women."
   ]
  },
  {
   "cell_type": "markdown",
   "id": "b53fc581",
   "metadata": {},
   "source": [
    "![](https://img.huffingtonpost.com/asset/5bb5e083250000cf00396b16.jpeg?ops=scalefit_720_noupscale)https://www.huffpost.com/entry/texts-from-hillary-tumblr_n_1406207"
   ]
  }
 ],
 "metadata": {},
 "nbformat": 4,
 "nbformat_minor": 5
}
