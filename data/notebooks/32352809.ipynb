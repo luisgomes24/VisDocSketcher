{
 "cells": [
  {
   "cell_type": "markdown",
   "id": "3f524c6a",
   "metadata": {},
   "source": [
    "### In this notebook, I created a race chart to show browsers usage from 2020 to 2022.\n",
    "### Summary of this notebook\n",
    "- #### I have scraped the data from https://www.w3schools.com/browsers/default.asp \n",
    "- #### Transformed the data to the required format to plot the graph\n",
    "- #### Used plotly for interactive data visualization"
   ]
  },
  {
   "cell_type": "markdown",
   "id": "9acf4444",
   "metadata": {},
   "source": [
    "# Output"
   ]
  },
  {
   "cell_type": "code",
   "execution_count": null,
   "id": "e6c205e0",
   "metadata": {},
   "outputs": [],
   "source": [
    "fig = px.bar(final_df_copy, x=\"Percentage\", y=\"Browser\", color=\"Browser\",\n",
    "  animation_frame=\"Month_year\", range_x=[0,100],\n",
    "            title=\"Browsers usage % from 2020 to 2022\")\n",
    "fig.show()"
   ]
  },
  {
   "cell_type": "markdown",
   "id": "cdeb09b6",
   "metadata": {},
   "source": [
    "# Importing the required libraries"
   ]
  },
  {
   "cell_type": "code",
   "execution_count": null,
   "id": "2b5465d5",
   "metadata": {},
   "outputs": [],
   "source": [
    "# Importing Data Visualization libraries\n",
    "import pandas as pd\n",
    "import numpy as np\n",
    "import matplotlib.pyplot as plt\n",
    "import seaborn as sns\n",
    "import plotly.express as px\n",
    "\n",
    "# Web scraping libraries\n",
    "from bs4 import BeautifulSoup as soup\n",
    "from requests import get\n",
    "import requests\n",
    "import re\n",
    "\n",
    "# To print multiple outputs\n",
    "from IPython.core.interactiveshell import InteractiveShell\n",
    "InteractiveShell.ast_node_interactivity = \"all\""
   ]
  },
  {
   "cell_type": "code",
   "execution_count": null,
   "id": "034f5276",
   "metadata": {},
   "outputs": [],
   "source": [
    "title = []\n",
    "for i in range(1): # Only 1 page to scrape\n",
    "    url = 'https://www.w3schools.com/browsers/default.asp'\n",
    "    r = requests.get(url)\n",
    "    page_html = soup(r.text, 'html.parser') \n",
    "    table = page_html.find_all(\"div\",class_=\"w3-responsive\")\n",
    "    for data in table:\n",
    "        title_= data.find_all(\"tr\")\n",
    "        for i in title_:\n",
    "            d = i.text\n",
    "            title.append(d)\n",
    "tr = []\n",
    "for i in title:\n",
    "    if i.find('2019') == 1:\n",
    "        break\n",
    "    tr.append(i.split('\\n')[1:-1])\n",
    "tr"
   ]
  },
  {
   "cell_type": "markdown",
   "id": "69dd762a",
   "metadata": {},
   "source": [
    "### Creating a DataFrame "
   ]
  },
  {
   "cell_type": "code",
   "execution_count": null,
   "id": "ac1badd9",
   "metadata": {},
   "outputs": [],
   "source": [
    "data = pd.DataFrame(tr)\n",
    "\n",
    "# Dividing it into separate dataframes based on year\n",
    "\n",
    "data_2022 = data.iloc[:11,:]\n",
    "data_2021 = data.iloc[11:24,:]\n",
    "data_2020 = data.iloc[24:,:]"
   ]
  },
  {
   "cell_type": "code",
   "execution_count": null,
   "id": "5123ae77",
   "metadata": {},
   "outputs": [],
   "source": [
    "data_2022\n",
    "data_2022.columns = data.iloc[0,:]\n",
    "data_2022.drop([0],inplace=True)\n",
    "data_2022"
   ]
  },
  {
   "cell_type": "markdown",
   "id": "88ae54f7",
   "metadata": {},
   "source": [
    "### Remove the percentage symbol to plot the values"
   ]
  },
  {
   "cell_type": "code",
   "execution_count": null,
   "id": "39848361",
   "metadata": {},
   "outputs": [],
   "source": [
    "def remove_percentage(percentage):\n",
    "    if (percentage.find(\"%\") != -1):\n",
    "        return percentage.replace(\"%\",\"\")\n",
    "    else:\n",
    "        return percentage"
   ]
  },
  {
   "cell_type": "code",
   "execution_count": null,
   "id": "b3db5223",
   "metadata": {},
   "outputs": [],
   "source": [
    "data_2022 = data_2022.applymap(remove_percentage)\n",
    "data_2022[\"Chrome\"] = pd.to_numeric(data_2022[\"Chrome\"])\n",
    "data_2022[\"Edge\"] = pd.to_numeric(data_2022[\"Edge\"])\n",
    "data_2022[\"Firefox\"] = pd.to_numeric(data_2022[\"Firefox\"])\n",
    "data_2022[\"Safari\"] = pd.to_numeric(data_2022[\"Safari\"])\n",
    "data_2022[\"Opera\"] = pd.to_numeric(data_2022[\"Opera\"])\n",
    "data_2022\n",
    "data_2022.dtypes"
   ]
  },
  {
   "cell_type": "markdown",
   "id": "51c0d6fd",
   "metadata": {},
   "source": [
    "## Now the data is almost clean & we can plot the numbers."
   ]
  },
  {
   "cell_type": "markdown",
   "id": "3e893800",
   "metadata": {},
   "source": [
    "## Repeating the same process for 2021 & 2020"
   ]
  },
  {
   "cell_type": "code",
   "execution_count": null,
   "id": "4f98d77c",
   "metadata": {},
   "outputs": [],
   "source": [
    "data_2021 = data.iloc[11:24,:]\n",
    "data_2021.columns = data.iloc[11,:]\n",
    "data_2021.drop([11],inplace=True)\n",
    "data_2021"
   ]
  },
  {
   "cell_type": "code",
   "execution_count": null,
   "id": "a3d36f49",
   "metadata": {},
   "outputs": [],
   "source": [
    "data_2021 = data_2021.applymap(remove_percentage)\n",
    "data_2021[\"Chrome\"] = pd.to_numeric(data_2021[\"Chrome\"])\n",
    "data_2021[\"Edge\"] = pd.to_numeric(data_2021[\"Edge\"])\n",
    "data_2021[\"Firefox\"] = pd.to_numeric(data_2021[\"Firefox\"])\n",
    "data_2021[\"Safari\"] = pd.to_numeric(data_2021[\"Safari\"])\n",
    "data_2021[\"Opera\"] = pd.to_numeric(data_2021[\"Opera\"])\n",
    "data_2021\n",
    "data_2021.dtypes"
   ]
  },
  {
   "cell_type": "code",
   "execution_count": null,
   "id": "3bfbd494",
   "metadata": {},
   "outputs": [],
   "source": [
    "data_2020 = data.iloc[24:,:]\n",
    "data_2020.columns = data.iloc[24,:]\n",
    "data_2020.drop([24],inplace=True)\n",
    "data_2020"
   ]
  },
  {
   "cell_type": "code",
   "execution_count": null,
   "id": "122cfb40",
   "metadata": {},
   "outputs": [],
   "source": [
    "data_2020 = data_2020.applymap(remove_percentage)\n",
    "data_2020[\"Chrome\"] = pd.to_numeric(data_2020[\"Chrome\"])\n",
    "data_2020[\"Edge/IE\"] = pd.to_numeric(data_2020[\"Edge/IE\"])\n",
    "data_2020[\"Firefox\"] = pd.to_numeric(data_2020[\"Firefox\"])\n",
    "data_2020[\"Safari\"] = pd.to_numeric(data_2020[\"Safari\"])\n",
    "data_2020[\"Opera\"] = pd.to_numeric(data_2020[\"Opera\"])\n",
    "data_2020\n",
    "data_2020.dtypes"
   ]
  },
  {
   "cell_type": "markdown",
   "id": "9e4445e8",
   "metadata": {},
   "source": [
    "## Changing column name from Edge/IE to Edge to maintain consistency"
   ]
  },
  {
   "cell_type": "code",
   "execution_count": null,
   "id": "c8d75d4a",
   "metadata": {},
   "outputs": [],
   "source": [
    "data_2020.rename(columns = {\"Edge/IE\" : \"Edge\"},inplace=True)\n",
    "data_2020"
   ]
  },
  {
   "cell_type": "markdown",
   "id": "e09424ab",
   "metadata": {},
   "source": [
    "## Merging into 1 single DataFrame"
   ]
  },
  {
   "cell_type": "code",
   "execution_count": null,
   "id": "521acc64",
   "metadata": {},
   "outputs": [],
   "source": [
    "data_2022.rename(columns={\"2022\":\"Month\"},inplace=True)\n",
    "data_2021.rename(columns={\"2021\":\"Month\"},inplace=True)\n",
    "data_2020.rename(columns={\"2020\":\"Month\"},inplace=True)"
   ]
  },
  {
   "cell_type": "code",
   "execution_count": null,
   "id": "1f4d70f8",
   "metadata": {},
   "outputs": [],
   "source": [
    "data_2022.columns\n",
    "data_2021.columns\n",
    "data_2020.columns"
   ]
  },
  {
   "cell_type": "code",
   "execution_count": null,
   "id": "3b1ef142",
   "metadata": {},
   "outputs": [],
   "source": [
    "final_df = pd.concat([data_2022,data_2021,data_2020])\n",
    "final_df"
   ]
  },
  {
   "cell_type": "markdown",
   "id": "0422a4b2",
   "metadata": {},
   "source": [
    "## Adding year column"
   ]
  },
  {
   "cell_type": "code",
   "execution_count": null,
   "id": "d98c7710",
   "metadata": {},
   "outputs": [],
   "source": [
    "list_2022 = [2022]*10\n",
    "list_2021 = [2021]*12\n",
    "list_2020 = [2020]*12\n",
    "\n",
    "import itertools\n",
    "list(itertools.chain(list_2022,list_2021,list_2020))"
   ]
  },
  {
   "cell_type": "code",
   "execution_count": null,
   "id": "6a3859ef",
   "metadata": {},
   "outputs": [],
   "source": [
    "final_df[\"Year\"] = list(itertools.chain(list_2022,list_2021,list_2020))\n",
    "final_df"
   ]
  },
  {
   "cell_type": "markdown",
   "id": "92d3e7ac",
   "metadata": {},
   "source": [
    "## We should transform this type of data to another format to achieve the race chart"
   ]
  },
  {
   "cell_type": "code",
   "execution_count": null,
   "id": "44395a79",
   "metadata": {},
   "outputs": [],
   "source": [
    "# Got it from https://stackoverflow.com/questions/28654047/convert-columns-into-rows-with-pandas \n",
    "\n",
    "final_df = final_df.melt(id_vars=[\"Year\", \"Month\"], \n",
    "        var_name=\"Browser\", \n",
    "        value_name=\"Percentage\")\n",
    "final_df"
   ]
  },
  {
   "cell_type": "markdown",
   "id": "73835e71",
   "metadata": {},
   "source": [
    "## Need to sort the values chronologically to plot the graph"
   ]
  },
  {
   "cell_type": "code",
   "execution_count": null,
   "id": "cea0c34b",
   "metadata": {},
   "outputs": [],
   "source": [
    "final_df.sort_values([\"Year\",\"Month\",\"Browser\"],inplace=True)"
   ]
  },
  {
   "cell_type": "code",
   "execution_count": null,
   "id": "713167d4",
   "metadata": {},
   "outputs": [],
   "source": [
    "def convert_month_to_number(month):\n",
    "    if month==\"January\":\n",
    "        return 1\n",
    "    elif month==\"February\":\n",
    "        return 2\n",
    "    elif month==\"March\":\n",
    "        return 3\n",
    "    elif month==\"April\":\n",
    "        return 4\n",
    "    elif month==\"May\":\n",
    "        return 5\n",
    "    elif month==\"June\":\n",
    "        return 6\n",
    "    elif month==\"July\":\n",
    "        return 7\n",
    "    elif month==\"August\":\n",
    "        return 8\n",
    "    elif month==\"September\":\n",
    "        return 9\n",
    "    elif month==\"October\":\n",
    "        return 10\n",
    "    elif month==\"November\":\n",
    "        return 11\n",
    "    elif month==\"December\":\n",
    "        return 12"
   ]
  },
  {
   "cell_type": "code",
   "execution_count": null,
   "id": "a887befb",
   "metadata": {},
   "outputs": [],
   "source": [
    "final_df[\"Month_no\"] = final_df[\"Month\"].apply(convert_month_to_number)\n",
    "final_df"
   ]
  },
  {
   "cell_type": "code",
   "execution_count": null,
   "id": "aa6a8291",
   "metadata": {},
   "outputs": [],
   "source": [
    "final_df.sort_values([\"Year\",\"Month_no\",\"Browser\"],inplace=True)\n",
    "final_df"
   ]
  },
  {
   "cell_type": "code",
   "execution_count": null,
   "id": "7121b3dd",
   "metadata": {},
   "outputs": [],
   "source": [
    "final_df.dtypes"
   ]
  },
  {
   "cell_type": "code",
   "execution_count": null,
   "id": "00eb0e3d",
   "metadata": {},
   "outputs": [],
   "source": [
    "final_df_copy = final_df.copy()\n",
    "final_df_copy[\"Month_year\"] = final_df_copy[\"Month\"].map(str) + ' ' + final_df_copy[\"Year\"].map(str)\n",
    "final_df_copy"
   ]
  },
  {
   "cell_type": "code",
   "execution_count": null,
   "id": "2859fbb2",
   "metadata": {},
   "outputs": [],
   "source": [
    "fig = px.bar(final_df_copy, x=\"Browser\", y=\"Percentage\", color=\"Browser\",\n",
    "  animation_frame=\"Month_year\",range_y=[0,100],\n",
    "            title=\"Browsers usage % from 2020 to 2022\")\n",
    "fig.show()"
   ]
  },
  {
   "cell_type": "markdown",
   "id": "e437af29",
   "metadata": {},
   "source": [
    "## Plotting horizontally"
   ]
  },
  {
   "cell_type": "code",
   "execution_count": null,
   "id": "f007c28f",
   "metadata": {},
   "outputs": [],
   "source": [
    "fig = px.bar(final_df_copy, x=\"Percentage\", y=\"Browser\", color=\"Browser\",\n",
    "  animation_frame=\"Month_year\", range_x=[0,100],\n",
    "            title=\"Browsers usage % from 2020 to 2022\")\n",
    "fig.show()"
   ]
  },
  {
   "cell_type": "markdown",
   "id": "d012ee9a",
   "metadata": {},
   "source": [
    "# Connect with me on\n",
    "- ### LinkedIn : https://linkedin.com/in/bomma-pranay \n",
    "- ### Twitter : https://twitter.com/Pranaii1\n",
    "- ### GitHub : https://github.com/Bomma-Pranay \n",
    "### --- by Pranay Bomma, a Data Science enthusiast"
   ]
  }
 ],
 "metadata": {},
 "nbformat": 4,
 "nbformat_minor": 5
}
