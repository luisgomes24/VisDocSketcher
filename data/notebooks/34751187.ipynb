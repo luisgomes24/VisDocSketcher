{
 "cells": [
  {
   "cell_type": "markdown",
   "id": "20ab66ad",
   "metadata": {},
   "source": [
    "# K-Nearest Neighbors\n",
    "\n",
    "- K-nearest neighbors (K-NN) is a classification (or regression) algorithm that uses K number of nearest points to determine the classification of a dataset.\n",
    "\n",
    "- K-Nearest Neighbors (KNN) is a simple, yet effective machine learning algorithm that can be used for both classification and regression problems. It is a non-parametric and instance-based method, where the model is not built explicitly but instead the data points are stored in memory. The prediction is made by finding the \"K\" nearest data points to a given test data point, and the majority label/value of those \"K\" data points is assigned as the prediction. The value of \"K\" is a hyperparameter that can be selected using techniques such as cross-validation.\n",
    "\n",
    "- A real-world example of using KNN could be for recommendation systems. For example, a movie recommendation system could use the KNN algorithm to recommend movies to users based on their past viewing history. The system would store the viewing history of all users and the ratings of each movie. When a new user wants to watch a movie, the system would find the \"K\" nearest users based on their viewing history, and recommend the movies that are highly rated by those \"K\" nearest users.\n",
    "\n",
    "- The key mathematical component of the KNN algorithm is the distance metric used to determine the proximity of two data points. The most commonly used distance metric is the Euclidean distance, which is calculated as the square root of the sum of the squared differences between the corresponding features of two data points.\n"
   ]
  },
  {
   "cell_type": "markdown",
   "id": "57abd50d",
   "metadata": {},
   "source": [
    "# Libraries"
   ]
  },
  {
   "cell_type": "code",
   "execution_count": null,
   "id": "922e9b27",
   "metadata": {},
   "outputs": [],
   "source": [
    "import numpy as np\n",
    "import matplotlib.pyplot as plt\n",
    "import pandas as pd\n",
    "from sklearn.model_selection import train_test_split\n",
    "from sklearn.neighbors import KNeighborsClassifier\n",
    "from sklearn.metrics import confusion_matrix\n",
    "from sklearn.datasets import load_iris\n",
    "from sklearn.preprocessing import LabelEncoder"
   ]
  },
  {
   "cell_type": "markdown",
   "id": "c0383e32",
   "metadata": {},
   "source": [
    "# K-Nearest - Code"
   ]
  },
  {
   "cell_type": "markdown",
   "id": "4b725e0a",
   "metadata": {},
   "source": [
    "- the syntax of a lambda function is lambda arguments: expression. In this case, the argument x is a tuple, and the expression x[0] returns the first element of the tuple."
   ]
  },
  {
   "cell_type": "code",
   "execution_count": null,
   "id": "49592c86",
   "metadata": {},
   "outputs": [],
   "source": [
    "class KNEARESTCODE(object):\n",
    "    def __init__(self):\n",
    "        self.__xtrain = np.random.randn(100,2)*0.5+[2,2]\n",
    "        self.__ytrain = np.zeros(100)\n",
    "        self.__xtrain = np.concatenate((self.__xtrain,\n",
    "                                       np.random.randn(100,2)*0.5+[-2,-2]))\n",
    "        self.__ytrain = np.concatenate((self.__ytrain,\n",
    "                                       np.ones(100)))\n",
    "        self.__xtest = np.random.randn(20,2)*0.5+[0,0]\n",
    "        self.__knear = 3\n",
    "    def __str__(self):\n",
    "        return \"K-NEAREST CODE - View\"\n",
    "    def __call__(self):\n",
    "        return None\n",
    "    def __getstate__(self):\n",
    "        raise TypeError(\"[DENIED]\")\n",
    "    def __repr__(self):\n",
    "        return KNEARESTCODE.__doc__\n",
    "    def _EUCLIDEAN_DISTANCE(self,x1,x2):\n",
    "        return np.sqrt(np.sum((x1-x2)**2))\n",
    "    def _KNN(self,xtrain,ytrain,xtest,k):\n",
    "        distances = []\n",
    "        for i in range(xtrain.shape[0]):\n",
    "            dis = self._EUCLIDEAN_DISTANCE(xtest,xtrain[i,:])\n",
    "            distances.append((dis,ytrain[i]))\n",
    "        distances = sorted(distances,key=lambda x: x[0])\n",
    "        neighbors = np.asarray(distances)[:k,1]\n",
    "        (val,cnt) = np.unique(neighbors,return_counts=True)\n",
    "        index = np.argmax(cnt)\n",
    "        return val[index]\n",
    "    def _PLOT(self):\n",
    "        plt.figure(figsize=(15,8))\n",
    "        plt.scatter(self.__xtrain[:100,0],self.__xtrain[:100,1],color=\"blue\")\n",
    "        plt.scatter(self.__xtrain[100:,0],self.__xtrain[100:,1],color=\"red\")\n",
    "        plt.scatter(self.__xtest[:,0],self.__xtest[:,1],color=\"green\",marker=\"x\")\n",
    "        for ix in range(self.__xtest.shape[0]):\n",
    "            ind = self._KNN(self.__xtrain,self.__ytrain,self.__xtest[ix,:],self.__knear)\n",
    "            clr = \"purple\" if ind == 0.0 else \"black\"\n",
    "            plt.scatter(self.__xtest[ix,0],self.__xtest[ix,1],color=clr,marker=\"o\",s=100)\n",
    "        plt.show()"
   ]
  },
  {
   "cell_type": "code",
   "execution_count": null,
   "id": "f556d967",
   "metadata": {},
   "outputs": [],
   "source": [
    "KNEARESTCODE()._PLOT()"
   ]
  },
  {
   "cell_type": "markdown",
   "id": "032e3336",
   "metadata": {},
   "source": [
    "# K-Nearest - Topic Example"
   ]
  },
  {
   "cell_type": "code",
   "execution_count": null,
   "id": "ba271cae",
   "metadata": {},
   "outputs": [],
   "source": [
    "x,y = load_iris(return_X_y=True)\n",
    "xtrain,xtest,ytrain,ytest = train_test_split(x,y,test_size=0.3,random_state=0)"
   ]
  },
  {
   "cell_type": "code",
   "execution_count": null,
   "id": "bc5775ed",
   "metadata": {},
   "outputs": [],
   "source": [
    "clf = KNeighborsClassifier()\n",
    "clf.fit(x,y)"
   ]
  },
  {
   "cell_type": "code",
   "execution_count": null,
   "id": "c3bee6e2",
   "metadata": {},
   "outputs": [],
   "source": [
    "ypred = clf.predict(xtest)"
   ]
  },
  {
   "cell_type": "code",
   "execution_count": null,
   "id": "bb8a66c4",
   "metadata": {},
   "outputs": [],
   "source": [
    "print(f\"BASIC ACCURACY: {100*(ypred==ytest).sum()/ytest.shape[0]}\")"
   ]
  },
  {
   "cell_type": "markdown",
   "id": "adf01ae7",
   "metadata": {},
   "source": [
    "# K-Nearest - Real Example"
   ]
  },
  {
   "cell_type": "markdown",
   "id": "bf1f566b",
   "metadata": {},
   "source": [
    "- The \"bank marketing\" dataset is a real-world data set that was collected from a Portuguese banking institution. The data was collected during a telemarketing campaign that was conducted to sell bank term deposits. The goal of the campaign was to determine if a client would subscribe to a term deposit based on various features such as age, job, marital status, education, etc.\n",
    "\n",
    "- The data set consists of 41,188 instances, each representing a customer, and 20 features such as age, job, marital status, education, balance, etc. The target variable, y, is binary and indicates whether or not the customer subscribed to a term deposit. The dataset is widely used in machine learning research for benchmarking and testing various algorithms for binary classification problems."
   ]
  },
  {
   "cell_type": "code",
   "execution_count": null,
   "id": "ca57bdb9",
   "metadata": {},
   "outputs": [],
   "source": [
    "dataurl = \"/kaggle/input/aidl-education-set/bank-additional.csv\""
   ]
  },
  {
   "cell_type": "code",
   "execution_count": null,
   "id": "e939ea0d",
   "metadata": {},
   "outputs": [],
   "source": [
    "dataset = pd.read_csv(dataurl,sep=\";\")"
   ]
  },
  {
   "cell_type": "code",
   "execution_count": null,
   "id": "0fb187a5",
   "metadata": {},
   "outputs": [],
   "source": [
    "dataset.head()"
   ]
  },
  {
   "cell_type": "code",
   "execution_count": null,
   "id": "a39432e6",
   "metadata": {},
   "outputs": [],
   "source": [
    "print(f\"NULL CONTROL:\\n\\n{dataset.isnull().sum()}\")"
   ]
  },
  {
   "cell_type": "code",
   "execution_count": null,
   "id": "89d65aa4",
   "metadata": {},
   "outputs": [],
   "source": [
    "x = dataset[[\"age\",\n",
    "             \"duration\",\n",
    "             \"campaign\",\n",
    "             \"pdays\",\n",
    "             \"previous\",\n",
    "             \"emp.var.rate\",\n",
    "             \"cons.price.idx\",\n",
    "             \"cons.conf.idx\",\n",
    "             \"euribor3m\",\n",
    "             \"nr.employed\"]]\n",
    "y = dataset[\"y\"]"
   ]
  },
  {
   "cell_type": "code",
   "execution_count": null,
   "id": "42a3c3f3",
   "metadata": {},
   "outputs": [],
   "source": [
    "print(f\"DATA SHAPE: {x.shape}\")\n",
    "print(f\"TARGET SHAPE: {y.shape}\")\n",
    "print(f\"CLASSES: {np.unique(y)}\")"
   ]
  },
  {
   "cell_type": "code",
   "execution_count": null,
   "id": "8959b8f8",
   "metadata": {},
   "outputs": [],
   "source": [
    "xtrain,xtest,ytrain,ytest = train_test_split(x,y,test_size=0.3,random_state=0)"
   ]
  },
  {
   "cell_type": "code",
   "execution_count": null,
   "id": "9db432dc",
   "metadata": {},
   "outputs": [],
   "source": [
    "le = LabelEncoder()\n",
    "ytrain = le.fit_transform(ytrain)\n",
    "ytest = le.transform(ytest)"
   ]
  },
  {
   "cell_type": "code",
   "execution_count": null,
   "id": "bbbbd138",
   "metadata": {},
   "outputs": [],
   "source": [
    "knn = KNeighborsClassifier(n_neighbors=5)\n",
    "knn.fit(xtrain,ytrain)"
   ]
  },
  {
   "cell_type": "code",
   "execution_count": null,
   "id": "61e45261",
   "metadata": {},
   "outputs": [],
   "source": [
    "ypred = knn.predict(xtest)"
   ]
  },
  {
   "cell_type": "code",
   "execution_count": null,
   "id": "89cba502",
   "metadata": {},
   "outputs": [],
   "source": [
    "print(f\"PREDICTION: {ypred}\")"
   ]
  },
  {
   "cell_type": "code",
   "execution_count": null,
   "id": "1842c01a",
   "metadata": {},
   "outputs": [],
   "source": [
    "accuracy = 100*(ypred==ytest).sum()/ytest.shape[0]\n",
    "print(f\"BASIC ACCURACY: {accuracy}\")"
   ]
  },
  {
   "cell_type": "code",
   "execution_count": null,
   "id": "8d5af580",
   "metadata": {},
   "outputs": [],
   "source": [
    "test_confusion_matrix = confusion_matrix(ytest,ypred)\n",
    "plt.figure(figsize=(15,8))\n",
    "plt.imshow(test_confusion_matrix,cmap=\"Blues\",interpolation=\"nearest\")\n",
    "plt.title(\"CONFUSION MATRIX FOR TEST\")\n",
    "plt.xticks([0,1],[\"No\",\"Yes\"])\n",
    "plt.yticks([0,1],[\"No\",\"Yes\"])\n",
    "plt.xlabel(\"Prediction\")\n",
    "plt.ylabel(\"True Label\")\n",
    "plt.colorbar()\n",
    "for i in range(test_confusion_matrix.shape[0]):\n",
    "    for j in range(test_confusion_matrix.shape[1]):\n",
    "        plt.text(j,i,test_confusion_matrix[i,j],\n",
    "                ha=\"center\",\n",
    "                va=\"center\",\n",
    "                color=\"black\")\n",
    "plt.tight_layout()\n",
    "plt.show()"
   ]
  },
  {
   "cell_type": "code",
   "execution_count": null,
   "id": "d11eb339",
   "metadata": {},
   "outputs": [],
   "source": [
    "plt.figure(figsize=(15,8))\n",
    "plt.scatter(range(len(ytest)),ytest,color=\"blue\",label=\"ACTUAL\")\n",
    "plt.scatter(range(len(ytest)),ypred,color=\"red\",label=\"PREDICTED\")\n",
    "plt.xlabel(\"INDEX\")\n",
    "plt.ylabel(\"TEST-PREDICTION\")\n",
    "plt.title(\"KNN ON TEST SET\")\n",
    "plt.legend()\n",
    "plt.tight_layout()\n",
    "plt.show()"
   ]
  },
  {
   "cell_type": "markdown",
   "id": "7d9a0625",
   "metadata": {},
   "source": [
    "# PARAMETERS EXAMPLE"
   ]
  },
  {
   "cell_type": "markdown",
   "id": "7189e11e",
   "metadata": {},
   "source": [
    "- np.asarray: is used when we want to convert input to an array."
   ]
  },
  {
   "cell_type": "code",
   "execution_count": null,
   "id": "9f85091d",
   "metadata": {},
   "outputs": [],
   "source": [
    "exp_list = [1,2,3,4,5]\n",
    "print(f\"ARRAY OUTPUT: {np.asarray(exp_list)}\")"
   ]
  },
  {
   "cell_type": "code",
   "execution_count": null,
   "id": "1940d5fd",
   "metadata": {},
   "outputs": [],
   "source": [
    "nan"
   ]
  }
 ],
 "metadata": {},
 "nbformat": 4,
 "nbformat_minor": 5
}
