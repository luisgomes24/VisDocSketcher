{
 "cells": [
  {
   "cell_type": "markdown",
   "id": "a86d7f65",
   "metadata": {},
   "source": [
    "# **Gender Disparities Among the World's Richest**\n",
    "\n",
    "In today's age, gender equality remains a crucial focal point in societal debates. Despite significant advancements, disparities still exist in various sectors, including the financial elite. In this notebook, we will explore the gender distribution among the world's wealthiest individuals over the years, utilizing the [comprehensive Forbes Billionaires dataset spanning from 1997 to 2023](https://www.kaggle.com/datasets/guillemservera/forbes-billionaires-1997-2023?select=all_billionaires_1997_2023.csv).\n",
    "\n",
    "---"
   ]
  },
  {
   "cell_type": "markdown",
   "id": "fa308cec",
   "metadata": {},
   "source": [
    "# 1. Importing Necessary Libraries"
   ]
  },
  {
   "cell_type": "code",
   "execution_count": null,
   "id": "bd122d57",
   "metadata": {},
   "outputs": [],
   "source": [
    "import pandas as pd\n",
    "import numpy as np\n",
    "from plotly.offline import init_notebook_mode, iplot, plot\n",
    "import plotly as py\n",
    "init_notebook_mode(connected=True)\n",
    "import plotly.graph_objs as go"
   ]
  },
  {
   "cell_type": "markdown",
   "id": "147d97e4",
   "metadata": {},
   "source": [
    "---\n",
    "# 2. Data Loading and Preliminary Exploration"
   ]
  },
  {
   "cell_type": "code",
   "execution_count": null,
   "id": "52f61338",
   "metadata": {},
   "outputs": [],
   "source": [
    "# Load the consolidated dataset\n",
    "df = pd.read_csv('/kaggle/input/forbes-billionaires-1997-2023/all_billionaires_1997_2023.csv')\n",
    "\n",
    "# Check the first few rows to understand the data structure\n",
    "df.head()"
   ]
  },
  {
   "cell_type": "markdown",
   "id": "c9daef8c",
   "metadata": {},
   "source": [
    "---\n",
    "# 3. Data Visualization\n",
    "\n",
    "To understand how gender dynamics among the world's richest have evolved, let's visualize the gender distribution year by year."
   ]
  },
  {
   "cell_type": "code",
   "execution_count": null,
   "id": "be9e2b56",
   "metadata": {},
   "outputs": [],
   "source": [
    "years = df['year'].unique()\n",
    "male_counts = []\n",
    "female_counts = []\n",
    "\n",
    "for year in years:\n",
    "    yearly_data = df[df['year'] == year]\n",
    "    male_counts.append(len(yearly_data[yearly_data['gender'] == 'Male']))\n",
    "    female_counts.append(len(yearly_data[yearly_data['gender'] == 'Female']))\n",
    "\n",
    "trace1 = go.Bar(x=years, y=male_counts, name='Male', marker=dict(color='skyblue'))\n",
    "trace2 = go.Bar(x=years, y=female_counts, name='Female', marker=dict(color='purple'))\n",
    "\n",
    "data = [trace1, trace2]\n",
    "\n",
    "layout = go.Layout(\n",
    "    title={\n",
    "        'text': \"Gender Distribution among Billionaires by Year\",\n",
    "        'y':0.9,\n",
    "        'x':0.5,\n",
    "        'xanchor': 'center',\n",
    "        'yanchor': 'top',\n",
    "        'font': {\n",
    "            'size': 18,\n",
    "            'family': \"Arial\"\n",
    "        }\n",
    "    },\n",
    "    xaxis=dict(title='Year'),\n",
    "    yaxis=dict(title='Count'),\n",
    "    barmode='stack',\n",
    "    legend=dict(orientation=\"h\", yanchor=\"bottom\", y=-0.35, xanchor=\"center\", x=0.5,),\n",
    "    paper_bgcolor='rgba(0,0,0,0)',\n",
    "    plot_bgcolor='rgba(0,0,0,0)',\n",
    ")\n",
    "\n",
    "fig = go.Figure(data=data, layout=layout)\n",
    "iplot(fig)\n"
   ]
  },
  {
   "cell_type": "code",
   "execution_count": null,
   "id": "8d39db07",
   "metadata": {},
   "outputs": [],
   "source": [
    "total_counts = np.array(male_counts) + np.array(female_counts)\n",
    "male_proportions = np.array(male_counts) / total_counts * 100  # Convertir a porcentaje\n",
    "female_proportions = np.array(female_counts) / total_counts * 100  # Convertir a porcentaje\n",
    "\n",
    "trace1 = go.Bar(\n",
    "    x=years,\n",
    "    y=male_proportions,\n",
    "    name='Male',\n",
    "    marker=dict(color='lightskyblue')\n",
    ")\n",
    "trace2 = go.Bar(\n",
    "    x=years,\n",
    "    y=female_proportions,\n",
    "    name='Female',\n",
    "    marker=dict(color='purple')\n",
    ")\n",
    "\n",
    "data = [trace1, trace2]\n",
    "\n",
    "layout = go.Layout(\n",
    "    title={\n",
    "        'text': \"Proportional Gender Distribution among Billionaires by Year (%)\",\n",
    "        'y':0.9,\n",
    "        'x':0.5,\n",
    "        'xanchor': 'center',\n",
    "        'yanchor': 'top',\n",
    "        'font': {\n",
    "            'size': 18,\n",
    "            'family': \"Arial\"\n",
    "        }\n",
    "    },\n",
    "    xaxis=dict(title='Year'),\n",
    "    yaxis=dict(title='Proportion (%)'),\n",
    "    barmode='stack',\n",
    "    legend=dict(orientation=\"h\", yanchor=\"bottom\", y=-0.35, xanchor=\"center\", x=0.5),\n",
    "    paper_bgcolor='rgba(0,0,0,0)',\n",
    "    plot_bgcolor='rgba(0,0,0,0)',\n",
    ")\n",
    "\n",
    "fig = go.Figure(data=data, layout=layout)\n",
    "iplot(fig)\n"
   ]
  },
  {
   "cell_type": "markdown",
   "id": "14679d47",
   "metadata": {},
   "source": [
    "---\n",
    "# 4. Reflections and Observations\n",
    "\n",
    "- **Male-Dominated Start**: In the initial years, the list was exclusively male. It was only in the fifth year that female billionaires began to appear, albeit in minimal numbers.\n",
    "\n",
    "- **Growth Across the Board**: Both genders saw an increase in their billionaire counts over the years. However, the rates of growth have varied.\n",
    "\n",
    "- **Relative Surge in Female Billionaires**: While the absolute count of female billionaires remains lower than males, their growth rate has been impressive. From no representation in the initial years, they reached 337 by the latest recorded year.\n",
    "\n",
    "- **Persistent Gap**: Despite this growth, a significant gender disparity remains. By the last year, female billionaires comprised approximately 12.8% of the total billionaire count.\n",
    "\n",
    "**In Conclusion**:\n",
    "\n",
    "While the world of billionaires has traditionally been male-dominated, recent years have seen a commendable rise in the number of female billionaires. However, a considerable gender gap persists, underscoring persistent disparities at the highest echelons of wealth."
   ]
  }
 ],
 "metadata": {},
 "nbformat": 4,
 "nbformat_minor": 5
}
