{
 "cells": [
  {
   "cell_type": "code",
   "execution_count": null,
   "id": "fed8e5d9",
   "metadata": {},
   "outputs": [],
   "source": [
    "import pandas\n",
    "import seaborn as sns\n",
    "from sklearn.linear_model import LinearRegression\n",
    "from sklearn import linear_model"
   ]
  },
  {
   "cell_type": "code",
   "execution_count": null,
   "id": "6b59ccdc",
   "metadata": {},
   "outputs": [],
   "source": [
    "df1 = pandas.read_csv(\"../input/co2-emission-of-cars-dataset/DATA.csv\")"
   ]
  },
  {
   "cell_type": "code",
   "execution_count": null,
   "id": "5d6afab1",
   "metadata": {},
   "outputs": [],
   "source": [
    "df=df1.drop(['Unnamed: 5'],axis=1)"
   ]
  },
  {
   "cell_type": "code",
   "execution_count": null,
   "id": "50dc9b75",
   "metadata": {},
   "outputs": [],
   "source": [
    "df\n"
   ]
  },
  {
   "cell_type": "code",
   "execution_count": null,
   "id": "881ab545",
   "metadata": {},
   "outputs": [],
   "source": [
    "df.info()"
   ]
  },
  {
   "cell_type": "code",
   "execution_count": null,
   "id": "b332d481",
   "metadata": {},
   "outputs": [],
   "source": [
    "df.corr()"
   ]
  },
  {
   "cell_type": "code",
   "execution_count": null,
   "id": "0bb43226",
   "metadata": {},
   "outputs": [],
   "source": [
    "\n",
    "sns.pairplot(y_vars = 'CO2', x_vars = 'Volume' ,data = df)"
   ]
  },
  {
   "cell_type": "code",
   "execution_count": null,
   "id": "a3ace048",
   "metadata": {},
   "outputs": [],
   "source": [
    "sns.pairplot(y_vars = 'CO2', x_vars = 'Weight' ,data = df)"
   ]
  },
  {
   "cell_type": "code",
   "execution_count": null,
   "id": "aec0891c",
   "metadata": {},
   "outputs": [],
   "source": [
    "X = df[['Weight', 'Volume']]\n",
    "y = df['CO2']"
   ]
  },
  {
   "cell_type": "code",
   "execution_count": null,
   "id": "4ae241d1",
   "metadata": {},
   "outputs": [],
   "source": [
    "regr = linear_model.LinearRegression()\n",
    "regr.fit(X, y)"
   ]
  },
  {
   "cell_type": "code",
   "execution_count": null,
   "id": "49ed0220",
   "metadata": {},
   "outputs": [],
   "source": [
    "predictedCO2 = regr.predict([[2300, 1300]])"
   ]
  },
  {
   "cell_type": "code",
   "execution_count": null,
   "id": "f87f93e0",
   "metadata": {},
   "outputs": [],
   "source": [
    "print(predictedCO2)"
   ]
  },
  {
   "cell_type": "code",
   "execution_count": null,
   "id": "db55cbc0",
   "metadata": {},
   "outputs": [],
   "source": [
    "# if a car with a 1300cm3 engine weighs 2300kg, the CO2 emission will be approximately 107g."
   ]
  },
  {
   "cell_type": "code",
   "execution_count": null,
   "id": "d1179577",
   "metadata": {},
   "outputs": [],
   "source": [
    "a=regr.coef_\n",
    "a"
   ]
  },
  {
   "cell_type": "code",
   "execution_count": null,
   "id": "d40b8e71",
   "metadata": {},
   "outputs": [],
   "source": [
    "\n",
    "predictedCO2_new = regr.predict([[3300, 1300]])\n",
    "\n",
    "print(predictedCO2_new)"
   ]
  },
  {
   "cell_type": "code",
   "execution_count": null,
   "id": "96399b12",
   "metadata": {},
   "outputs": [],
   "source": [
    "#We have predicted that a car with 1.3 liter engine, and a weight of 3300 kg, will release approximately 115 grams of CO2 for every kilometer it drives.\n",
    "\n",
    "#Which shows that the coefficient of 0.00755095 is correct:\n",
    "\n",
    "#107.2087328 + (1000 * 0.00755095) = 114.75968\n",
    "\n"
   ]
  },
  {
   "cell_type": "code",
   "execution_count": null,
   "id": "8224f524",
   "metadata": {},
   "outputs": [],
   "source": [
    "nan"
   ]
  }
 ],
 "metadata": {},
 "nbformat": 4,
 "nbformat_minor": 5
}
