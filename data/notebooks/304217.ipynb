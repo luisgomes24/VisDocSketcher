{
 "cells": [
  {
   "cell_type": "markdown",
   "id": "f1708c3c",
   "metadata": {},
   "source": [
    "This is an attempt to create a model that predicts whether passengers on the Titanic will live or die. This notebook includes exploratory data analysis and the model I ended up using was RandomForestClassifier. \n",
    "\n",
    "I learned a lot of the EDA techniques from other notebooks submitted to this challenge. "
   ]
  },
  {
   "cell_type": "code",
   "execution_count": null,
   "id": "dce5208f",
   "metadata": {},
   "outputs": [],
   "source": [
    "import pandas as pd\n",
    "import numpy as np\n",
    "import os\n",
    "import seaborn as sns\n",
    "from scipy import stats\n",
    "import matplotlib.pyplot as plt"
   ]
  },
  {
   "cell_type": "code",
   "execution_count": null,
   "id": "609c2b83",
   "metadata": {},
   "outputs": [],
   "source": [
    "os.chdir('../input')\n",
    "df_train = pd.read_csv('train.csv', header=0, index_col=0, sep=',')\n",
    "\n",
    "# create copy just for EDA\n",
    "df_eda = df_train.copy()\n",
    "df_test = pd.read_csv('test.csv', header=0, index_col=0, sep=',')\n",
    "\n",
    "columns = df_eda.columns"
   ]
  },
  {
   "cell_type": "markdown",
   "id": "7a5b5b52",
   "metadata": {},
   "source": [
    "Find missing data"
   ]
  },
  {
   "cell_type": "code",
   "execution_count": null,
   "id": "63fc30c8",
   "metadata": {},
   "outputs": [],
   "source": [
    "def null_percentage(column):\n",
    "    df_name = column.name\n",
    "    nans = np.count_nonzero(column.isnull().values)\n",
    "    total = column.size\n",
    "    frac = nans / total\n",
    "    perc = int(frac * 100)\n",
    "    print('%d%% of values or %d missing from %s column.' % (perc, nans, df_name))\n",
    "\n",
    "for col in columns:\n",
    "    null_percentage(df_eda[col])"
   ]
  },
  {
   "cell_type": "markdown",
   "id": "47e69fc8",
   "metadata": {},
   "source": [
    "Let's take a look at what the values look like. "
   ]
  },
  {
   "cell_type": "code",
   "execution_count": null,
   "id": "22077489",
   "metadata": {},
   "outputs": [],
   "source": [
    "df_eda.head(10)"
   ]
  },
  {
   "cell_type": "markdown",
   "id": "539ec97a",
   "metadata": {},
   "source": [
    "Age and Cabin have a significant amount of missing data. We'll need to deal with that later. For now, let's convert the Sex column into numerical data and take a look at the overall heatmap. I'm also going to add columns that count known and unknown values in Age and Cabin columns. "
   ]
  },
  {
   "cell_type": "code",
   "execution_count": null,
   "id": "e8554971",
   "metadata": {},
   "outputs": [],
   "source": [
    "map_sex = {'male': 1, 'female': 0}\n",
    "df_eda.Sex = df_eda.Sex.replace(map_sex)"
   ]
  },
  {
   "cell_type": "code",
   "execution_count": null,
   "id": "ad488267",
   "metadata": {},
   "outputs": [],
   "source": [
    "df_eda['age_known'] = df_eda.Age.replace(np.nan, 0).astype(int)\n",
    "df_eda['age_known'][df_eda['age_known'] != 0] = 1\n",
    "df_eda.age_known.value_counts()"
   ]
  },
  {
   "cell_type": "code",
   "execution_count": null,
   "id": "7834db7a",
   "metadata": {},
   "outputs": [],
   "source": [
    "df_eda['cabin_known'] = df_eda.Cabin.replace(np.nan, 0)\n",
    "df_eda['cabin_known'][df_eda['cabin_known'] != 0] = 1\n",
    "df_eda.cabin_known.value_counts()"
   ]
  },
  {
   "cell_type": "code",
   "execution_count": null,
   "id": "431ed168",
   "metadata": {},
   "outputs": [],
   "source": [
    "# generate a correlation matrix and build a heatmap\n",
    "plt.figure('heatmap')\n",
    "_ = sns.heatmap(df_eda.corr(), vmax=0.6, square=True, annot=True)\n",
    "plt.show()"
   ]
  },
  {
   "cell_type": "markdown",
   "id": "0f45a076",
   "metadata": {},
   "source": [
    "Some initial observations: \n",
    "1. Sex and Pclass are highly correlated to survival. \n",
    "2. Fare is also somewhat correlated to survival, but it's also correlated with Pclass. This data might be useful or it might be overlapping. \n",
    "3. SibSp and Parch are correlated. Having a spouse or sibling on board also means you might have a parent or child. \n",
    "4. Age and SibSp are correlated. If you're older, you're more likely to bring a spouse or younger kids may be accompanied by a sibling. \n",
    "5. Age is surprisingly not very correlated with survival. Women and children were rescued first, but maybe the number of children is too small to impact the data. \n",
    "\n",
    "Let's look at a few statistics. Let's look at gender first, because that's where we find the strongest correlation. "
   ]
  },
  {
   "cell_type": "code",
   "execution_count": null,
   "id": "7ee68027",
   "metadata": {},
   "outputs": [],
   "source": [
    "tab = pd.crosstab(df_train['Sex'], df_train['Survived'])\n",
    "tab.plot(kind='bar', stacked='true', color=['red','blue'], grid=False)\n",
    "print(tab)\n",
    "plt.show()"
   ]
  },
  {
   "cell_type": "markdown",
   "id": "33d16b24",
   "metadata": {},
   "source": [
    "Women had a much better chance at survival than men! Let's look into the age correlation and see if the \"women and children first\" rule really applied."
   ]
  },
  {
   "cell_type": "code",
   "execution_count": null,
   "id": "f6975d54",
   "metadata": {},
   "outputs": [],
   "source": [
    "plt.figure('age distribution', figsize=(18,12))\n",
    "plt.subplot(411)\n",
    "ax = sns.distplot(df_eda.Age.dropna().values, bins=range(0,81,1), kde=False, axlabel='Age')\n",
    "plt.subplot(412)\n",
    "sns.distplot(df_eda[df_eda['Survived'] == 1].Age.dropna().values, bins = range(0, 81, 1), \n",
    "             color='blue', kde=False)\n",
    "sns.distplot(df_eda[df_eda['Survived'] == 0].Age.dropna().values, bins = range(0, 81, 1), \n",
    "             color='red', kde=False, axlabel='All survivors by age')\n",
    "plt.subplot(413)\n",
    "sns.distplot(df_eda[(df_eda['Sex']==0) & (df_eda['Survived'] == 1)].Age.dropna().values, bins = range(0, 81, 1), \n",
    "             color='blue', kde=False)\n",
    "sns.distplot(df_eda[(df_eda['Sex']==0) & (df_eda['Survived'] == 0)].Age.dropna().values, bins = range(0, 81, 1), \n",
    "             color='red', kde=False, axlabel='Female survivors by age')\n",
    "plt.subplot(414)\n",
    "sns.distplot(df_eda[(df_eda['Sex']==1) & (df_eda['Survived'] == 1)].Age.dropna().values, bins = range(0, 81, 1), \n",
    "             color='blue', kde=False)\n",
    "sns.distplot(df_eda[(df_eda['Sex']==1) & (df_eda['Survived'] == 0)].Age.dropna().values, bins = range(0, 81, 1), \n",
    "             color='red', kde=False, axlabel='Male survivors by age')\n",
    "plt.show()\n",
    "\n"
   ]
  },
  {
   "cell_type": "markdown",
   "id": "da6ce41c",
   "metadata": {},
   "source": [
    "While age overall has minimal correlation with the survival rate, it seems that children under 9 years old of both sexes actually have a higher chance of surviving. This gets lost in the overall figure because this group makes a small percentage of the total. But this data could be useful for the predictive model. Being older than 65 also has a correlation with survival, but because no females over 65 were present and the sample size is so small I don't think we can rely on this data. \n",
    "\n",
    "And like children, women had much better odds of survival than men. This confirms that the women and children were likely given priority boarding the very limited lifeboats.\n",
    "\n",
    "But it's also important to note that these charts exclude the 19% of passengers whose ages were unknown. That's a large margine of error, and I'm not sure they are evenly distibuted between ages and whether or not the passengers survived. Let's actually look into that:"
   ]
  },
  {
   "cell_type": "code",
   "execution_count": null,
   "id": "1a74dd51",
   "metadata": {},
   "outputs": [],
   "source": [
    "tab = pd.crosstab(df_eda['age_known'], df_eda['Survived'])\n",
    "print(tab)\n",
    "tab.plot(kind='bar', stacked=True, color=['red','blue'], grid=False)\n",
    "plt.show()"
   ]
  },
  {
   "cell_type": "markdown",
   "id": "0ac502b8",
   "metadata": {},
   "source": [
    "Huh, there's a 39% chance you survived if the history books know your age, and a 32% chance your survived if they didn't. Maybe we can break Age down into two caegorical variables to make the model more accurate: child/adult or age known and unknown. \n",
    "(A quick model with the naive bayes algorithm just imputing the mean or median age performs fairly poorly.)\n",
    "\n",
    "We also saw from the heatmap that there is a significant correlation between Pclass and Survived. Let's see if holding a first class ticket can tip the scale in your favor. "
   ]
  },
  {
   "cell_type": "code",
   "execution_count": null,
   "id": "8f4f1b27",
   "metadata": {},
   "outputs": [],
   "source": [
    "tab = pd.crosstab(df_eda['Survived'], df_eda['Pclass'])\n",
    "print(tab)\n",
    "tab.plot(kind='bar', stacked=True, color=['darkgreen', 'green', 'lightgreen'], grid=False)\n",
    "plt.show()\n",
    "#tab.div(tab.sum(1).astype(float), axis=0).plot(kind=\"bar\", color=['darkgreen', 'green', 'lightgreen'], stacked=True)\n",
    "#plt.show()\n"
   ]
  },
  {
   "cell_type": "markdown",
   "id": "ab12b02c",
   "metadata": {},
   "source": [
    "Interesting correlation. First class passengers had pretty good odds of surviving. Second class is a crapshoot, and you realy don't want to be in third class. \n",
    "\n",
    "This provides some interesting info. We don't really have enough information about the cabin information to say where people were staying, but maybe we don't need that information. The cheap rooms are generally near the interior of the boat, so it would seem that those with baconies or better locations had a better chance of surviving. Or maybe important people just had priority for the lifeboats. Either way, this is good information for our model. \n",
    "\n",
    "But let's check in on cabin number anyway, as there are a lot of missing values. "
   ]
  },
  {
   "cell_type": "code",
   "execution_count": null,
   "id": "262579af",
   "metadata": {},
   "outputs": [],
   "source": [
    "tab = pd.crosstab(df_eda['cabin_known'], df_eda['Survived'])\n",
    "print(tab)\n",
    "tab.plot(kind='bar', stacked=True, color=['red', 'blue'], grid=False)\n",
    "plt.show()"
   ]
  },
  {
   "cell_type": "markdown",
   "id": "4510b316",
   "metadata": {},
   "source": [
    "Okay, that's pretty dramatic. You have about a 2/3 chance of survival if your cabin number was recorded and a 1/3 chance of survival if it wasn't. Maybe the record book went down with the ship and this list was built by memories of the survivors or reciepts or something. \n",
    "\n",
    "(By the way, thanks to a number of Kaggle contributors for showing me that missing data is actually data in itself! On my first try I just dropped the cabin column and filled in missing Age values with the median.)\n",
    "\n",
    "Fare is highly correlated with Pclass. Lets see if that has similar correlation with surviving. "
   ]
  },
  {
   "cell_type": "code",
   "execution_count": null,
   "id": "51010bed",
   "metadata": {},
   "outputs": [],
   "source": [
    "sns.violinplot(x='Pclass', y='Fare', hue='Survived', data=df_eda, split=True)\n",
    "plt.hlines([0,512], xmin=-1, xmax=3)\n",
    "plt.show()"
   ]
  },
  {
   "cell_type": "markdown",
   "id": "5f13e480",
   "metadata": {},
   "source": [
    "Looks like within each class of ticket there's a higher chance of survival the more you paid for your ticket, with your chances of survival looking pretty good over $300. Note that these lines don't necessarily accurately represent the data, but rather trends. The lines represent min and max ticket prices. Is this valuable data, though? We have to keep outliers in mind, as there were a number of free tickets as well as super expensive tickets. \n",
    "\n",
    "And finally, let's look at Embarked because we couldn't visualize that in the heatmap. "
   ]
  },
  {
   "cell_type": "code",
   "execution_count": null,
   "id": "1bc86d10",
   "metadata": {},
   "outputs": [],
   "source": [
    "tab = pd.crosstab(df_eda['Embarked'], df_eda['Survived'])\n",
    "print(tab)\n",
    "tab.plot(kind='bar', stacked=True, color=['red', 'blue'], grid=False)\n",
    "plt.show()"
   ]
  },
  {
   "cell_type": "markdown",
   "id": "70e6b678",
   "metadata": {},
   "source": [
    "Cherbourg has an excellent survival rate. Maybe that's where the more affluent people got on..."
   ]
  },
  {
   "cell_type": "code",
   "execution_count": null,
   "id": "0f0428ed",
   "metadata": {},
   "outputs": [],
   "source": [
    "tab = pd.crosstab(df_eda['Embarked'], df_eda['Pclass'])\n",
    "print(tab)"
   ]
  },
  {
   "cell_type": "markdown",
   "id": "e0291614",
   "metadata": {},
   "source": [
    "Yep, lots of first class passengers got on here vs other ports. Queensland must have been running a discount. \n",
    "\n",
    "I'm skipping over Parch and SibSp because they're not really correlated to surviving. Though I'm sure it's possible to drill down and build some categories based on that to improve the model, like \"kids with more than one sibling\" or something like that. I plan to revisit it later once my visualization skills have imprived. "
   ]
  },
  {
   "cell_type": "markdown",
   "id": "bb190276",
   "metadata": {},
   "source": [
    "## Editing the features"
   ]
  },
  {
   "cell_type": "markdown",
   "id": "f0fe21bc",
   "metadata": {},
   "source": [
    "For this one I'm going to build a function that cleans the data and creates the features we want. That way it can be used to easily transform new data to fit the model we're going to create. I'm not sure if this is a good practice, I'm just a beginner. \n",
    "\n",
    "Here's what I'm going for: \n",
    "\n",
    "1. Pclass (1,2,3)\n",
    "2. Cabin Known (0,1)\n",
    "3. Age Known (0,1)\n",
    "4. Is a child age 8 or younger (0,1)\n",
    "5. Sex (0,1)\n",
    "6. Fare (continuous)\n",
    "7. Embarked (C, Q, dummies)\n",
    "\n",
    "Let's just make sure there's no extra missing data in the test data set. "
   ]
  },
  {
   "cell_type": "code",
   "execution_count": null,
   "id": "a2bd0fff",
   "metadata": {},
   "outputs": [],
   "source": [
    "for col in columns[1:]:\n",
    "    null_percentage(df_test[col])"
   ]
  },
  {
   "cell_type": "markdown",
   "id": "b3fd8d36",
   "metadata": {},
   "source": [
    "Fare has a missing value in df_test and from before two Embarked were missing from df_train. Since both are strongly correlated with class, let's replace with the mean and most common value respectively. \n",
    "\n",
    "I couldn't figure out how to copy a slice since np.nan == np.nan returns False, so I'm going to print the lines and look up the PassengerId. "
   ]
  },
  {
   "cell_type": "code",
   "execution_count": null,
   "id": "53c5d7a0",
   "metadata": {},
   "outputs": [],
   "source": [
    "print(df_test[df_test['Fare'].isnull()])"
   ]
  },
  {
   "cell_type": "code",
   "execution_count": null,
   "id": "d140d3c7",
   "metadata": {},
   "outputs": [],
   "source": [
    "df_train['Embarked'][df_train['Embarked'] == np.nan] = 'S'\n",
    "df_test['Fare'][df_test['Name'] == 'Storey, Mr. Thomas'] = df_test['Fare'][df_test['Pclass'] == 3].median()\n",
    "\n",
    "# select target values\n",
    "y_targets = df_train.iloc[:,0].values\n",
    "\n",
    "# combine for transformation\n",
    "df_train['train'] = 1\n",
    "df_test['train'] = 0\n",
    "df = pd.concat([df_train, df_test], ignore_index=False, axis=0)\n",
    "\n",
    "# select the columns to persist after transforming\n",
    "train_cols = ['Pclass', 'Sex', 'age_known', 'cabin_known', 'Young', 'Fare', \n",
    "             'Embarked_Q', 'Embarked_S', 'train']\n",
    "\n",
    "map_sex = {'male': 1, 'female': 0}\n",
    "df.Sex = df.Sex.replace(map_sex)\n",
    "df['age_known'] = df.Age.replace(np.nan, 0).astype(int)\n",
    "df['age_known'][df['age_known'] != 0] = 1\n",
    "    \n",
    "df['cabin_known'] = df.Cabin.replace(np.nan, 0)\n",
    "df['cabin_known'][df['cabin_known'] != 0] = 1\n",
    "\n",
    "young_bool = (df.age_known == 1) & (df.Age < 9)\n",
    "df['Young'] = young_bool.astype(int)\n",
    "    \n",
    "df = pd.get_dummies(df, columns=['Embarked'], drop_first=True)\n",
    "\n",
    "df = df[train_cols]\n",
    "\n",
    "# split back into training and test set after transforming\n",
    "df_train = df[df['train'] == 1].drop(['train'], axis = 1)\n",
    "df_test = df[df['train'] == 0].drop(['train'], axis = 1)"
   ]
  },
  {
   "cell_type": "markdown",
   "id": "0cad53af",
   "metadata": {},
   "source": [
    "Create training and test sets"
   ]
  },
  {
   "cell_type": "code",
   "execution_count": null,
   "id": "6ee0b868",
   "metadata": {},
   "outputs": [],
   "source": [
    "from sklearn.model_selection import train_test_split\n",
    "X_train, X_test, y_train, y_test = train_test_split(df_train, y_targets, test_size=0.3, random_state=42)"
   ]
  },
  {
   "cell_type": "markdown",
   "id": "a0171fa7",
   "metadata": {},
   "source": [
    "## Building a Model: Random Forest"
   ]
  },
  {
   "cell_type": "code",
   "execution_count": null,
   "id": "bb880ac2",
   "metadata": {},
   "outputs": [],
   "source": [
    "from sklearn.ensemble import RandomForestClassifier\n",
    "classifier = RandomForestClassifier()\n",
    "classifier.fit(X_train, y_train)\n",
    "y_pred = classifier.predict(X_test)"
   ]
  },
  {
   "cell_type": "markdown",
   "id": "186a25c8",
   "metadata": {},
   "source": [
    "Let's look at the confusion matric and cross_val_score to see how accurate it is:"
   ]
  },
  {
   "cell_type": "code",
   "execution_count": null,
   "id": "ad9c234c",
   "metadata": {},
   "outputs": [],
   "source": [
    "from sklearn.metrics import confusion_matrix\n",
    "print(confusion_matrix(y_test, y_pred))\n",
    "\n",
    "from sklearn.model_selection import cross_val_score\n",
    "cvs = cross_val_score(classifier, X_test, y_test, cv=10)\n",
    "print(cvs)"
   ]
  },
  {
   "cell_type": "markdown",
   "id": "0e2ca3a4",
   "metadata": {},
   "source": [
    "Not bad! Final step: "
   ]
  },
  {
   "cell_type": "code",
   "execution_count": null,
   "id": "87e69e1a",
   "metadata": {},
   "outputs": [],
   "source": [
    "y_pred_test = classifier.predict(df_test)\n",
    "df_test['Survived'] = y_pred_test"
   ]
  },
  {
   "cell_type": "markdown",
   "id": "b793ee4e",
   "metadata": {},
   "source": [
    "Position 2,316 out of 6,986 with a score of 0.78947. Not terrible! "
   ]
  }
 ],
 "metadata": {},
 "nbformat": 4,
 "nbformat_minor": 5
}
