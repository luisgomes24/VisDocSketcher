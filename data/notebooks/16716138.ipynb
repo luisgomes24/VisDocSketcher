{
 "cells": [
  {
   "cell_type": "markdown",
   "id": "16bb3efa",
   "metadata": {},
   "source": [
    "# 前言\n",
    "\n",
    "对数据集`chinese mnist`进行数据处理，以便能更好地进行模型训练。"
   ]
  },
  {
   "cell_type": "code",
   "execution_count": null,
   "id": "94d65970",
   "metadata": {},
   "outputs": [],
   "source": [
    "# 载入包\n",
    "\n",
    "import pandas as pd\n",
    "import numpy as np\n",
    "import matplotlib.pyplot as plt\n",
    "%matplotlib inline\n",
    "from PIL import Image, ImageEnhance, ImageFilter\n",
    "import scipy.ndimage\n"
   ]
  },
  {
   "cell_type": "markdown",
   "id": "d788454b",
   "metadata": {},
   "source": [
    "## 数据集预处理\n",
    "\n",
    "包括：数据载入与增强。"
   ]
  },
  {
   "cell_type": "code",
   "execution_count": null,
   "id": "36a1f443",
   "metadata": {},
   "outputs": [],
   "source": [
    "# 基本参数定义\n",
    "IMG_PATH = \"../input/chinese-mnist/data/data/\"  # 图片文件夹"
   ]
  },
  {
   "cell_type": "code",
   "execution_count": null,
   "id": "f053fb02",
   "metadata": {},
   "outputs": [],
   "source": [
    "# 载入csv文件\n",
    "data_df=pd.read_csv('..//input//chinese-mnist//chinese_mnist.csv')\n",
    "data_df.shape"
   ]
  },
  {
   "cell_type": "code",
   "execution_count": null,
   "id": "c85853cf",
   "metadata": {},
   "outputs": [],
   "source": [
    "data_df.head()"
   ]
  },
  {
   "cell_type": "markdown",
   "id": "6fa252c2",
   "metadata": {},
   "source": [
    "图片储存在`data/data`文件夹内，编号规则为`input_{suite_id}_{sample_id}_{code}`。\n",
    "\n",
    "例如`input_1_1_10.jpg`："
   ]
  },
  {
   "cell_type": "code",
   "execution_count": null,
   "id": "610ed656",
   "metadata": {},
   "outputs": [],
   "source": [
    "# 查看一下图片\n",
    "image = Image.open(IMG_PATH+\"input_100_10_1.jpg\")\n",
    "image.size"
   ]
  },
  {
   "cell_type": "code",
   "execution_count": null,
   "id": "ab045e40",
   "metadata": {},
   "outputs": [],
   "source": [
    "plt.imshow(image,cmap=\"gray\")"
   ]
  },
  {
   "cell_type": "code",
   "execution_count": null,
   "id": "9281f1a9",
   "metadata": {},
   "outputs": [],
   "source": [
    "data_df.dtypes"
   ]
  },
  {
   "cell_type": "code",
   "execution_count": null,
   "id": "1eb2ac85",
   "metadata": {},
   "outputs": [],
   "source": [
    "# 将图片完整路径加入csv文件\n",
    "data_df['suite_id'] = data_df['suite_id'].astype(str)\n",
    "data_df['sample_id'] = data_df['sample_id'].astype(str)\n",
    "data_df['code'] = data_df['code'].astype(str)\n",
    "data_df[\"path\"] = IMG_PATH+\"input_\"+data_df[\"suite_id\"]+\"_\"+data_df[\"sample_id\"]+\"_\"+data_df[\"code\"]+\".jpg\"\n",
    "data_df[\"path\"].head()"
   ]
  },
  {
   "cell_type": "code",
   "execution_count": null,
   "id": "f9c4ade2",
   "metadata": {},
   "outputs": [],
   "source": [
    "# 图片处理\n",
    "def img_map(image):\n",
    "    # 将图片转为灰度图片\n",
    "    image = image.convert('L')\n",
    "    # 缩放图片大小到28*28\n",
    "    #image = image.resize((28,28), Image.ANTIALIAS)\n",
    "    # 滤镜\n",
    "    image = image.filter(ImageFilter.SMOOTH)\n",
    "    # 增强对比度\n",
    "    enh_col = ImageEnhance.Contrast(image)\n",
    "    factor = 5  # 因子\n",
    "    image = enh_col.enhance(factor=factor)\n",
    "    \n",
    "    return image\n",
    "\n",
    "# 将图片转为数组\n",
    "def to_array(image):\n",
    "    return np.array(image)"
   ]
  },
  {
   "cell_type": "code",
   "execution_count": null,
   "id": "e356682a",
   "metadata": {},
   "outputs": [],
   "source": [
    "# 载入所有图片\n",
    "images = list(map(Image.open,data_df[\"path\"]))\n",
    "\n",
    "image_original = np.array(list(map(to_array,images)))  # 原始图片\n",
    "\n",
    "# 图片处理\n",
    "train_images = map(img_map,images)\n",
    "\n",
    "# 实例化并转为数组\n",
    "x_train = np.array(list(map(to_array,train_images)))\n",
    "\n",
    "# 去掉一些弱白点区域\n",
    "x_train[x_train<120] = 0\n",
    "\n",
    "print(x_train.shape,image_original.shape)"
   ]
  },
  {
   "cell_type": "code",
   "execution_count": null,
   "id": "01071e8c",
   "metadata": {},
   "outputs": [],
   "source": [
    "# 原始图片\n",
    "cnt = 0\n",
    "idx = list(range(1,len(data_df),1000))\n",
    "r,c = 3,5  # r*c个图片\n",
    "figure = np.zeros((64 * r, 64 * c))  # 预先定义图片矩阵\n",
    "for i in range(r):\n",
    "    for j in range(c):\n",
    "        figure[i * 64: (i + 1) * 64,\n",
    "               j * 64: (j + 1) * 64] = image_original[idx[cnt],:,:]\n",
    "        cnt = cnt+1\n",
    "plt.figure(figsize=(10,10))\n",
    "plt.axis(\"off\")\n",
    "plt.imshow(figure, cmap='Greys_r')\n",
    "plt.savefig(\"/kaggle/working/cn-original.pdf\",bbox_inches='tight')\n",
    "plt.show()"
   ]
  },
  {
   "cell_type": "code",
   "execution_count": null,
   "id": "bfdee515",
   "metadata": {},
   "outputs": [],
   "source": [
    "# 处理后图片\n",
    "cnt = 0\n",
    "idx = list(range(1,len(data_df),1000))\n",
    "r,c = 3,5  # r*c个图片\n",
    "figure = np.zeros((64 * r, 64 * c))  # 预先定义图片矩阵\n",
    "for i in range(r):\n",
    "    for j in range(c):\n",
    "        figure[i * 64: (i + 1) * 64,\n",
    "               j * 64: (j + 1) * 64] = x_train[idx[cnt],:,:]\n",
    "        cnt = cnt+1\n",
    "plt.figure(figsize=(10,10))\n",
    "plt.axis(\"off\")\n",
    "plt.imshow(figure, cmap='Greys_r')\n",
    "plt.savefig(\"/kaggle/working/cn-handled.pdf\",bbox_inches='tight')\n",
    "plt.show()"
   ]
  },
  {
   "cell_type": "code",
   "execution_count": null,
   "id": "c39f3a00",
   "metadata": {},
   "outputs": [],
   "source": [
    "# 打乱数据集\n",
    "\n",
    "y_train = data_df[\"value\"]\n",
    "data_idx = list(range(0,x_train.shape[0]))\n",
    "np.random.shuffle(data_idx)\n",
    "np.random.shuffle(data_idx)\n",
    "x_train = x_train[data_idx]\n",
    "y_train = y_train[data_idx]\n",
    "image_original = image_original[data_idx]\n",
    "\n",
    "# 保存数组\n",
    "np.savez(\"/kaggle/working/chinese-mnist\",\n",
    "        x_train = x_train,\n",
    "        y_train = y_train,\n",
    "        image_original = image_original)"
   ]
  }
 ],
 "metadata": {},
 "nbformat": 4,
 "nbformat_minor": 5
}
