{
 "cells": [
  {
   "cell_type": "code",
   "execution_count": null,
   "id": "939a7284",
   "metadata": {},
   "outputs": [],
   "source": [
    "# This Python 3 environment comes with many helpful analytics libraries installed\n",
    "# It is defined by the kaggle/python Docker image: https://github.com/kaggle/docker-python\n",
    "# For example, here's several helpful packages to load\n",
    "\n",
    "import numpy as np # linear algebra\n",
    "import pandas as pd # data processing, CSV file I/O (e.g. pd.read_csv)\n",
    "\n",
    "# Input data files are available in the read-only \"../input/\" directory\n",
    "# For example, running this (by clicking run or pressing Shift+Enter) will list all files under the input directory\n",
    "\n",
    "import os\n",
    "for dirname, _, filenames in os.walk('/kaggle/input'):\n",
    "    for filename in filenames:\n",
    "        print(os.path.join(dirname, filename))\n",
    "\n",
    "# You can write up to 20GB to the current directory (/kaggle/working/) that gets preserved as output when you create a version using \"Save & Run All\" \n",
    "# You can also write temporary files to /kaggle/temp/, but they won't be saved outside of the current session"
   ]
  },
  {
   "cell_type": "code",
   "execution_count": null,
   "id": "73fd6570",
   "metadata": {},
   "outputs": [],
   "source": [
    "from pathlib import Path\n",
    "from fastai.vision.all import*"
   ]
  },
  {
   "cell_type": "code",
   "execution_count": null,
   "id": "63ad20a8",
   "metadata": {},
   "outputs": [],
   "source": [
    "train_path=Path(\"../input/digit-recognizer/\")\n",
    "image_path=Path(\"../images\")"
   ]
  },
  {
   "cell_type": "code",
   "execution_count": null,
   "id": "9ff63215",
   "metadata": {},
   "outputs": [],
   "source": [
    "Path(\"../input/digit-recognizer\")"
   ]
  },
  {
   "cell_type": "code",
   "execution_count": null,
   "id": "7047b1d8",
   "metadata": {},
   "outputs": [],
   "source": [
    "image_path.mkdir(exist_ok=True)"
   ]
  },
  {
   "cell_type": "code",
   "execution_count": null,
   "id": "4189f9a6",
   "metadata": {},
   "outputs": [],
   "source": [
    "train_data=pd.read_csv(train_path/'train.csv')\n",
    "test_data=pd.read_csv(train_path/'test.csv')"
   ]
  },
  {
   "cell_type": "code",
   "execution_count": null,
   "id": "80bd2538",
   "metadata": {},
   "outputs": [],
   "source": [
    "train_data.head()"
   ]
  },
  {
   "cell_type": "code",
   "execution_count": null,
   "id": "11e2f06b",
   "metadata": {},
   "outputs": [],
   "source": [
    "for index,row in train_data.iterrows():\n",
    "    label,digit=row[0],row[1:]\n",
    "    filepath = image_path / \"train\" / str(label)\n",
    "    filepath.mkdir(parents=True, exist_ok=True)\n",
    "    filename = f\"{index}.jpg\"\n",
    "    \n",
    "    digit = digit.values\n",
    "    digit = digit.reshape(28,28)\n",
    "    digit = digit.astype(np.uint8)\n",
    "    \n",
    "    img = Image.fromarray(digit)\n",
    "    img.save(filepath/filename)\n",
    "    "
   ]
  },
  {
   "cell_type": "code",
   "execution_count": null,
   "id": "fb5dad2f",
   "metadata": {},
   "outputs": [],
   "source": [
    "for index,row in test_data.iterrows():\n",
    "    \n",
    "    filepath = image_path / \"test\" \n",
    "    filepath.mkdir(parents=True, exist_ok=True)\n",
    "    filename = f\"{index+1}.jpg\"\n",
    "    \n",
    "    digit = row.values\n",
    "    digit = digit.reshape(28,28)\n",
    "    digit = digit.astype(np.uint8)\n",
    "    \n",
    "    img = Image.fromarray(digit)\n",
    "    img.save(filepath/filename)\n",
    "    "
   ]
  },
  {
   "cell_type": "code",
   "execution_count": null,
   "id": "d5f91276",
   "metadata": {},
   "outputs": [],
   "source": [
    "data = ImageDataLoaders.from_folder(\n",
    "    path=image_path / \"train\",\n",
    "    valid_pct=0.2,\n",
    "    batch_tfms=[Normalize.from_stats(0.1,0.7)],\n",
    "    bs=32,\n",
    "    size=24\n",
    ")\n",
    "\n",
    "data.show_batch(max_n=20)\n",
    "\n"
   ]
  },
  {
   "cell_type": "code",
   "execution_count": null,
   "id": "bd83c0e9",
   "metadata": {},
   "outputs": [],
   "source": [
    "learn = vision_learner(data, resnet50, metrics=[accuracy, error_rate])\n",
    "learn.lr_find()\n",
    "\n"
   ]
  },
  {
   "cell_type": "code",
   "execution_count": null,
   "id": "eeb31c62",
   "metadata": {},
   "outputs": [],
   "source": [
    "learn.fine_tune(20,0.001)"
   ]
  },
  {
   "cell_type": "code",
   "execution_count": null,
   "id": "f057601c",
   "metadata": {},
   "outputs": [],
   "source": [
    "interp = ClassificationInterpretation.from_learner(learn)\n",
    "interp.plot_confusion_matrix()\n",
    "\n"
   ]
  },
  {
   "cell_type": "code",
   "execution_count": null,
   "id": "3cd09ec8",
   "metadata": {},
   "outputs": [],
   "source": [
    "interp.plot_top_losses(10)\n",
    "\n"
   ]
  },
  {
   "cell_type": "code",
   "execution_count": null,
   "id": "2ffa7164",
   "metadata": {},
   "outputs": [],
   "source": [
    "test_files = list((image_path / \"test\").glob(\"*.jpg\"))\n",
    "\n"
   ]
  },
  {
   "cell_type": "code",
   "execution_count": null,
   "id": "e06b5b59",
   "metadata": {},
   "outputs": [],
   "source": [
    "test_dl = learn.dls.test_dl(test_files)"
   ]
  },
  {
   "cell_type": "code",
   "execution_count": null,
   "id": "22ce8254",
   "metadata": {},
   "outputs": [],
   "source": [
    "predictions,_ = learn.get_preds(dl=test_dl)\n",
    "predictions = np.argmax(predictions,axis=1)\n",
    "\n"
   ]
  },
  {
   "cell_type": "code",
   "execution_count": null,
   "id": "f31d314d",
   "metadata": {},
   "outputs": [],
   "source": [
    "image_ids = [int(path.stem) for path in test_files]\n",
    "submission = pd.DataFrame({\"ImageId\": image_ids, \"Label\": predictions})\n",
    "submission.to_csv(\"submission.csv\",index=False)"
   ]
  },
  {
   "cell_type": "code",
   "execution_count": null,
   "id": "cee8410a",
   "metadata": {},
   "outputs": [],
   "source": [
    "nan"
   ]
  }
 ],
 "metadata": {},
 "nbformat": 4,
 "nbformat_minor": 5
}
