{
 "cells": [
  {
   "cell_type": "code",
   "execution_count": null,
   "id": "5ebe6c4b",
   "metadata": {},
   "outputs": [],
   "source": [
    "# This Python 3 environment comes with many helpful analytics libraries installed\n",
    "# It is defined by the kaggle/python Docker image: https://github.com/kaggle/docker-python\n",
    "# For example, here's several helpful packages to load\n",
    "\n",
    "import numpy as np # linear algebra\n",
    "import pandas as pd # data processing, CSV file I/O (e.g. pd.read_csv)\n",
    "import matplotlib.pyplot as plt\n",
    "\n",
    "# Input data files are available in the read-only \"../input/\" directory\n",
    "# For example, running this (by clicking run or pressing Shift+Enter) will list all files under the input directory\n",
    "\n",
    "import os\n",
    "for dirname, _, filenames in os.walk('/kaggle/input'):\n",
    "    for filename in filenames:\n",
    "        print(os.path.join(dirname, filename))\n",
    "\n",
    "# You can write up to 5GB to the current directory (/kaggle/working/) that gets preserved as output when you create a version using \"Save & Run All\" \n",
    "# You can also write temporary files to /kaggle/temp/, but they won't be saved outside of the current session"
   ]
  },
  {
   "cell_type": "code",
   "execution_count": null,
   "id": "1e4b2cc1",
   "metadata": {},
   "outputs": [],
   "source": [
    "players_data=pd.read_excel('/kaggle/input/ipl-data-set/Players.xlsx')"
   ]
  },
  {
   "cell_type": "code",
   "execution_count": null,
   "id": "2e537469",
   "metadata": {},
   "outputs": [],
   "source": [
    "players_data"
   ]
  },
  {
   "cell_type": "markdown",
   "id": "95ae481a",
   "metadata": {},
   "source": [
    "# **Let's Find out the number of Left Hand Batsman vs the number of Right Hand Batsman**"
   ]
  },
  {
   "cell_type": "code",
   "execution_count": null,
   "id": "4aebee72",
   "metadata": {},
   "outputs": [],
   "source": [
    "batting_hand=players_data.iloc[:,2]\n"
   ]
  },
  {
   "cell_type": "code",
   "execution_count": null,
   "id": "83dbf346",
   "metadata": {},
   "outputs": [],
   "source": [
    "lh=0\n",
    "rh=0\n",
    "for i in range(0,len(batting_hand)):\n",
    "    if(batting_hand[i]=='Right_Hand'):\n",
    "        rh=rh+1\n",
    "    else:\n",
    "        lh=lh+1"
   ]
  },
  {
   "cell_type": "code",
   "execution_count": null,
   "id": "8be27cdc",
   "metadata": {},
   "outputs": [],
   "source": [
    "print(lh/len(batting_hand))\n",
    "print(rh/len(batting_hand))"
   ]
  },
  {
   "cell_type": "markdown",
   "id": "3651283a",
   "metadata": {},
   "source": [
    "**This means only 34% of the players are left handed batsman while 66% of the players are right handed batsman**"
   ]
  },
  {
   "cell_type": "code",
   "execution_count": null,
   "id": "5f20c7c5",
   "metadata": {},
   "outputs": [],
   "source": [
    "left=[1,2]\n",
    "data_hand=[rh,lh]\n",
    "labels=['Right Hand Batsman','Left Hand Batsman']\n",
    "plt.bar(left,data_hand,tick_label=labels,width=0.3,color=['blue','green'])\n",
    "plt.xlabel('Dominant Hand of the Batsman')\n",
    "plt.ylabel('Number of Players')\n",
    "plt.title('Dominant Hand vs Number of Players')\n",
    "plt.plot()"
   ]
  },
  {
   "cell_type": "markdown",
   "id": "b54c6646",
   "metadata": {},
   "source": [
    "# Let's find out the representation of different countries in the IPL"
   ]
  },
  {
   "cell_type": "code",
   "execution_count": null,
   "id": "9eed9d20",
   "metadata": {},
   "outputs": [],
   "source": [
    "players_data['Country'].fillna('No country',inplace=True)"
   ]
  },
  {
   "cell_type": "code",
   "execution_count": null,
   "id": "4e525c49",
   "metadata": {},
   "outputs": [],
   "source": [
    "players_data"
   ]
  },
  {
   "cell_type": "code",
   "execution_count": null,
   "id": "d2b8580b",
   "metadata": {},
   "outputs": [],
   "source": [
    "player_country=players_data.iloc[:,4]"
   ]
  },
  {
   "cell_type": "code",
   "execution_count": null,
   "id": "c0152393",
   "metadata": {},
   "outputs": [],
   "source": [
    "player_country.unique()"
   ]
  },
  {
   "cell_type": "code",
   "execution_count": null,
   "id": "cfaab87b",
   "metadata": {},
   "outputs": [],
   "source": [
    "india=0\n",
    "england=0\n",
    "south_africa=0\n",
    "australia=0\n",
    "bangladesh=0\n",
    "srilanka=0\n",
    "westindies=0\n",
    "newzealand=0\n",
    "pakistan=0\n",
    "netherlands=0\n",
    "zimbabwea=0\n",
    "for i in range(0,len(player_country)):\n",
    "    if(player_country[i]=='India'):\n",
    "        india=india+1\n",
    "    elif(player_country[i]=='England'):\n",
    "        england=england+1\n",
    "    elif(player_country[i]=='South Africa'):\n",
    "        south_africa=south_africa+1\n",
    "    elif(player_country[i]=='Australia'):\n",
    "        australia=australia+1\n",
    "    elif(player_country[i]=='Bangladesh'):\n",
    "        bangladesh=bangladesh+1\n",
    "    elif(player_country[i]=='Sri Lanka'):\n",
    "        srilanka=srilanka+1\n",
    "    elif(player_country[i]=='West Indies'):\n",
    "        westindies=westindies+1\n",
    "    elif(player_country[i]=='New Zealand'):\n",
    "        newzealand=newzealand+1\n",
    "    elif(player_country[i]=='Pakistan'):\n",
    "        pakistan=pakistan+1\n",
    "    elif(player_country[i]=='Netherlands'):\n",
    "        netherlands=netherlands+1\n",
    "    else:\n",
    "        zimbabwea=zimbabwea+1"
   ]
  },
  {
   "cell_type": "code",
   "execution_count": null,
   "id": "d662d9ea",
   "metadata": {},
   "outputs": [],
   "source": [
    "left=[1,2,3,4,5,6,7,8,9,10,11]\n",
    "data_country=[india,england,south_africa,australia,bangladesh,srilanka,westindies,newzealand,pakistan,netherlands,zimbabwea]\n",
    "data_label=['India','England','South Africa','Australia','Bangladesh','Sri Lanka','West Indies','Newzealnd','Pakistan','Netherlands','Zimbabwea']\n",
    "plt.bar(left,data_country,tick_label=data_label,width=0.8)\n",
    "plt.xticks(rotation=90)\n",
    "plt.xlabel('Countries')\n",
    "plt.ylabel('Number of Players')\n",
    "plt.title('Countries vs Number of Players')\n",
    "plt.plot()\n",
    "plt.show()"
   ]
  },
  {
   "cell_type": "code",
   "execution_count": null,
   "id": "317b88a4",
   "metadata": {},
   "outputs": [],
   "source": [
    "import seaborn as sns\n",
    "plt.figure(figsize=(7,7))\n",
    "plt.xticks(rotation=90,fontsize=14)\n",
    "plt.xlabel('Countries')\n",
    "plt.ylabel('Number of Players')\n",
    "plt.title('Countries vs Number of Players')\n",
    "sns.countplot(player_country)"
   ]
  },
  {
   "cell_type": "markdown",
   "id": "0ca1fd21",
   "metadata": {},
   "source": [
    "# Let's find out the number of Players with Different Bowling Skills"
   ]
  },
  {
   "cell_type": "code",
   "execution_count": null,
   "id": "cfc221be",
   "metadata": {},
   "outputs": [],
   "source": [
    "plt.figure(figsize=(10,10))\n",
    "plt.xticks(rotation=90,fontsize=16)\n",
    "sns.countplot(players_data['Bowling_Skill'])\n",
    "plt.title('Bowling Skills of Different Players')"
   ]
  },
  {
   "cell_type": "code",
   "execution_count": null,
   "id": "3c18f77b",
   "metadata": {},
   "outputs": [],
   "source": [
    "match_data=pd.read_csv('/kaggle/input/ipl-data-set/matches.csv')"
   ]
  },
  {
   "cell_type": "code",
   "execution_count": null,
   "id": "5714bcd9",
   "metadata": {},
   "outputs": [],
   "source": [
    "match_data"
   ]
  },
  {
   "cell_type": "code",
   "execution_count": null,
   "id": "31c66f85",
   "metadata": {},
   "outputs": [],
   "source": [
    "nan"
   ]
  },
  {
   "cell_type": "markdown",
   "id": "adfc3ea7",
   "metadata": {},
   "source": [
    "# Let's have a look at what majority of the captains choose on winning the toss."
   ]
  },
  {
   "cell_type": "code",
   "execution_count": null,
   "id": "13a40321",
   "metadata": {},
   "outputs": [],
   "source": [
    "toss=match_data.iloc[:,7]"
   ]
  },
  {
   "cell_type": "code",
   "execution_count": null,
   "id": "0e5547d4",
   "metadata": {},
   "outputs": [],
   "source": [
    "decision_field=0\n",
    "decision_bat=0\n",
    "for i in range(0,len(toss)):\n",
    "    if toss[i]=='bat':\n",
    "        decision_bat=decision_bat+1\n",
    "    else:\n",
    "        decision_field=decision_field+1"
   ]
  },
  {
   "cell_type": "code",
   "execution_count": null,
   "id": "42544527",
   "metadata": {},
   "outputs": [],
   "source": [
    "decision_bat_per=decision_bat/len(toss)\n",
    "decision_field_per=(decision_field)/len(toss)"
   ]
  },
  {
   "cell_type": "code",
   "execution_count": null,
   "id": "3e246632",
   "metadata": {},
   "outputs": [],
   "source": [
    "print(decision_bat_per)\n",
    "print(decision_field_per)"
   ]
  },
  {
   "cell_type": "markdown",
   "id": "dc39eb5c",
   "metadata": {},
   "source": [
    "**61% percent of Captains prefer to field first as compared to bat first on winning the toss**"
   ]
  },
  {
   "cell_type": "code",
   "execution_count": null,
   "id": "e115d001",
   "metadata": {},
   "outputs": [],
   "source": [
    "plt.figure(figsize=(3,3))\n",
    "plt.xticks(rotation=90,fontsize=14)\n",
    "sns.countplot(toss)\n",
    "plt.title('Toss vs Choice')"
   ]
  },
  {
   "cell_type": "code",
   "execution_count": null,
   "id": "3a8b3212",
   "metadata": {},
   "outputs": [],
   "source": [
    "toss_win=match_data.iloc[:,6]\n",
    "match_win=match_data.iloc[:,10]"
   ]
  },
  {
   "cell_type": "code",
   "execution_count": null,
   "id": "f98c831f",
   "metadata": {},
   "outputs": [],
   "source": [
    "count_match_winners=0"
   ]
  },
  {
   "cell_type": "code",
   "execution_count": null,
   "id": "5369097d",
   "metadata": {},
   "outputs": [],
   "source": [
    "for i in range(0,len(toss_win)):\n",
    "    if(toss_win[i]==match_win[i]):\n",
    "        count_match_winners=count_match_winners+1"
   ]
  },
  {
   "cell_type": "code",
   "execution_count": null,
   "id": "a58a5159",
   "metadata": {},
   "outputs": [],
   "source": [
    "count_match_winners_per=(count_match_winners)/len(toss_win)"
   ]
  },
  {
   "cell_type": "code",
   "execution_count": null,
   "id": "5a5f9ac8",
   "metadata": {},
   "outputs": [],
   "source": [
    "count_match_winners_per"
   ]
  },
  {
   "cell_type": "markdown",
   "id": "a38bea1b",
   "metadata": {},
   "source": [
    "**This means that there is only a slight probability that winning the toss will decide the winner of the match**"
   ]
  },
  {
   "cell_type": "code",
   "execution_count": null,
   "id": "f5f1a064",
   "metadata": {},
   "outputs": [],
   "source": [
    "nan"
   ]
  },
  {
   "cell_type": "markdown",
   "id": "4631c7c1",
   "metadata": {},
   "source": [
    "# Let's have the look at the most common venues of IPL"
   ]
  },
  {
   "cell_type": "code",
   "execution_count": null,
   "id": "1ef209a8",
   "metadata": {},
   "outputs": [],
   "source": [
    "plt.figure(figsize=(8,8))\n",
    "plt.xticks(rotation=90,fontsize=14)\n",
    "sns.countplot(match_data['city'])\n",
    "plt.title('Most common venues of IPL')"
   ]
  },
  {
   "cell_type": "markdown",
   "id": "6a979c4b",
   "metadata": {},
   "source": [
    "**Mumbai is the most common venue for IPL Matches followed by Kolkata and Delhi**"
   ]
  },
  {
   "cell_type": "code",
   "execution_count": null,
   "id": "41af230b",
   "metadata": {},
   "outputs": [],
   "source": [
    "strike_rate=pd.read_csv('/kaggle/input/ipl-data-set/most_runs_average_strikerate.csv')"
   ]
  },
  {
   "cell_type": "code",
   "execution_count": null,
   "id": "5ab914da",
   "metadata": {},
   "outputs": [],
   "source": [
    "strike_rate"
   ]
  },
  {
   "cell_type": "markdown",
   "id": "94bd45b5",
   "metadata": {},
   "source": [
    "# Let's plot the scatter plot of strikerate of the top 10 run getters in IPL"
   ]
  },
  {
   "cell_type": "code",
   "execution_count": null,
   "id": "5552c948",
   "metadata": {},
   "outputs": [],
   "source": [
    "strike_rate=strike_rate.iloc[0:10,:]"
   ]
  },
  {
   "cell_type": "code",
   "execution_count": null,
   "id": "2dabf53a",
   "metadata": {},
   "outputs": [],
   "source": [
    "strike_rate"
   ]
  },
  {
   "cell_type": "code",
   "execution_count": null,
   "id": "58c0aee1",
   "metadata": {},
   "outputs": [],
   "source": [
    "plt.figure(figsize=(5,5))\n",
    "plt.xticks(rotation=90,fontsize=14)\n",
    "plt.scatter(strike_rate['batsman'],strike_rate['strikerate'],color='red')\n",
    "plt.plot()\n",
    "plt.show()"
   ]
  },
  {
   "cell_type": "markdown",
   "id": "61f3d00f",
   "metadata": {},
   "source": [
    "**Chris Gayle, AB de Villiers and David Warner have the highest strike rate among the top 10 run getters while Shikhar Dhawan and Gautam Gambhir have the lowest strike rate among top 10 run getters**"
   ]
  },
  {
   "cell_type": "code",
   "execution_count": null,
   "id": "35d0c868",
   "metadata": {},
   "outputs": [],
   "source": [
    "plt.figure(figsize=(5,5))\n",
    "plt.xticks(rotation=90,fontsize=14)\n",
    "plt.bar(strike_rate['batsman'],strike_rate['average'],width=0.6)\n",
    "plt.plot()\n",
    "plt.show()"
   ]
  },
  {
   "cell_type": "markdown",
   "id": "2b0af1e0",
   "metadata": {},
   "source": [
    "**Chris Gayle, David Warner and AB De Villiers have the highest average among the top 10 run getters while Robin Uthappa and Rohit Sharma have the lowest average among the same**"
   ]
  },
  {
   "cell_type": "code",
   "execution_count": null,
   "id": "54ad2f31",
   "metadata": {},
   "outputs": [],
   "source": [
    "delivery_data=pd.read_csv('/kaggle/input/ipl-data-set/deliveries.csv')"
   ]
  },
  {
   "cell_type": "code",
   "execution_count": null,
   "id": "0440b18e",
   "metadata": {},
   "outputs": [],
   "source": [
    "nan"
   ]
  },
  {
   "cell_type": "code",
   "execution_count": null,
   "id": "bf7567a0",
   "metadata": {},
   "outputs": [],
   "source": [
    "nan"
   ]
  },
  {
   "cell_type": "code",
   "execution_count": null,
   "id": "70015027",
   "metadata": {},
   "outputs": [],
   "source": [
    "nan"
   ]
  },
  {
   "cell_type": "code",
   "execution_count": null,
   "id": "cad493c5",
   "metadata": {},
   "outputs": [],
   "source": [
    "nan"
   ]
  },
  {
   "cell_type": "code",
   "execution_count": null,
   "id": "3ec48821",
   "metadata": {},
   "outputs": [],
   "source": [
    "nan"
   ]
  },
  {
   "cell_type": "code",
   "execution_count": null,
   "id": "614c5519",
   "metadata": {},
   "outputs": [],
   "source": [
    "nan"
   ]
  },
  {
   "cell_type": "code",
   "execution_count": null,
   "id": "a808d399",
   "metadata": {},
   "outputs": [],
   "source": [
    "nan"
   ]
  },
  {
   "cell_type": "code",
   "execution_count": null,
   "id": "3acb5e1d",
   "metadata": {},
   "outputs": [],
   "source": [
    "nan"
   ]
  },
  {
   "cell_type": "code",
   "execution_count": null,
   "id": "eb2d7e7f",
   "metadata": {},
   "outputs": [],
   "source": [
    "nan"
   ]
  },
  {
   "cell_type": "code",
   "execution_count": null,
   "id": "baaf4dd3",
   "metadata": {},
   "outputs": [],
   "source": [
    "nan"
   ]
  },
  {
   "cell_type": "code",
   "execution_count": null,
   "id": "cdc24d56",
   "metadata": {},
   "outputs": [],
   "source": [
    "nan"
   ]
  },
  {
   "cell_type": "code",
   "execution_count": null,
   "id": "79bda64f",
   "metadata": {},
   "outputs": [],
   "source": [
    "nan"
   ]
  },
  {
   "cell_type": "code",
   "execution_count": null,
   "id": "9de73e47",
   "metadata": {},
   "outputs": [],
   "source": [
    "nan"
   ]
  },
  {
   "cell_type": "code",
   "execution_count": null,
   "id": "a32e61da",
   "metadata": {},
   "outputs": [],
   "source": [
    "nan"
   ]
  },
  {
   "cell_type": "code",
   "execution_count": null,
   "id": "6a502f87",
   "metadata": {},
   "outputs": [],
   "source": [
    "nan"
   ]
  }
 ],
 "metadata": {},
 "nbformat": 4,
 "nbformat_minor": 5
}
