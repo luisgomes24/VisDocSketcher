{
 "cells": [
  {
   "cell_type": "code",
   "execution_count": null,
   "id": "a90d7379",
   "metadata": {},
   "outputs": [],
   "source": [
    "# Generic Libraries\n",
    "import numpy as np\n",
    "import pandas as pd\n",
    "\n",
    "# Visualisation Libraries\n",
    "import matplotlib as mpl\n",
    "import matplotlib.pyplot as plt\n",
    "import matplotlib.gridspec as gridspec\n",
    "import seaborn as sns\n",
    "import warnings\n",
    "from matplotlib import cm\n",
    "\n",
    "pd.plotting.register_matplotlib_converters()\n",
    "%matplotlib inline\n",
    "plt.style.use('seaborn-whitegrid')\n",
    "pd.set_option('display.max_columns', 500)\n",
    "warnings.filterwarnings(\"ignore\")\n",
    "\n",
    "from tabulate import tabulate\n"
   ]
  },
  {
   "cell_type": "code",
   "execution_count": null,
   "id": "768f6b9f",
   "metadata": {},
   "outputs": [],
   "source": [
    "#Data Load\n",
    "url = '../input/movie-data/imdb_movie_data.csv'\n",
    "data = pd.read_csv(url, header='infer')"
   ]
  },
  {
   "cell_type": "markdown",
   "id": "8b5d3da4",
   "metadata": {},
   "source": [
    "**Not interested in Rank, Description, Actors columns**"
   ]
  },
  {
   "cell_type": "code",
   "execution_count": null,
   "id": "48ec703f",
   "metadata": {},
   "outputs": [],
   "source": [
    "data = data.drop(columns=['Rank','Description','Actors'], axis=1)"
   ]
  },
  {
   "cell_type": "code",
   "execution_count": null,
   "id": "d0fee4ea",
   "metadata": {},
   "outputs": [],
   "source": [
    "data.head()"
   ]
  },
  {
   "cell_type": "code",
   "execution_count": null,
   "id": "92559f9b",
   "metadata": {},
   "outputs": [],
   "source": [
    "#Checking for Null Values\n",
    "data.isna().sum()"
   ]
  },
  {
   "cell_type": "code",
   "execution_count": null,
   "id": "98154237",
   "metadata": {},
   "outputs": [],
   "source": [
    "#Dropping Records with missing Revenue\n",
    "data = data.dropna()"
   ]
  },
  {
   "cell_type": "code",
   "execution_count": null,
   "id": "e0e12d64",
   "metadata": {},
   "outputs": [],
   "source": [
    "#Stats Summary\n",
    "data.describe().transpose()"
   ]
  },
  {
   "cell_type": "markdown",
   "id": "3d11dc63",
   "metadata": {},
   "source": [
    "## Analysis"
   ]
  },
  {
   "cell_type": "code",
   "execution_count": null,
   "id": "1e9a7947",
   "metadata": {},
   "outputs": [],
   "source": [
    "#Function to show the details for specific year\n",
    "\n",
    "levels = [\"HIGH\", \"LOW\"]\n",
    "max_info = []\n",
    "min_info = []\n",
    "all_info = []\n",
    "\n",
    "def details(x):\n",
    "    df_details = pd.DataFrame(data[data['Year']==x])\n",
    "    \n",
    "    # -- Revenue Analysis --\n",
    "    max_rev = df_details['Revenue'].max()\n",
    "    min_rev = df_details['Revenue'].min()\n",
    "    \n",
    "    # -- Rating Analysis --\n",
    "    max_rat = df_details['Rating'].max()\n",
    "    min_rat = df_details['Rating'].min()\n",
    "    \n",
    "   \n",
    "    for i, r in df_details.iterrows():\n",
    "        if r['Revenue'] == max_rev:\n",
    "            max_info.append(r['Title'])\n",
    "        elif r['Revenue'] == min_rev:   \n",
    "            min_info.append(r['Title'])\n",
    "        elif r['Rating'] == max_rat:\n",
    "            max_info.append(r['Title'])\n",
    "        elif r['Rating'] == min_rat:   \n",
    "            min_info.append(r['Title'])\n",
    "            \n",
    "    if len(max_info) > 2:\n",
    "        max_info.pop(2)\n",
    "    else:\n",
    "        pass\n",
    "        \n",
    "    if len(min_info) > 2:\n",
    "        min_info.pop(2)\n",
    "    else:\n",
    "        pass\n",
    "        \n",
    "    max_info.insert(0,\"HIGH\")\n",
    "    min_info.insert(0,\"LOW\")\n",
    "    \n",
    "    all_info = [max_info, min_info]\n",
    "    print(tabulate(all_info, headers=['', 'Revenue','Rating']))\n",
    "    \n",
    "    max_info.clear()\n",
    "    min_info.clear()\n",
    "    all_info.clear()\n"
   ]
  },
  {
   "cell_type": "markdown",
   "id": "1d547d59",
   "metadata": {},
   "source": [
    "### Matrix displaying the High - Revenue / Rating & Low - Revenue / Rating movie title"
   ]
  },
  {
   "cell_type": "code",
   "execution_count": null,
   "id": "2b67a02f",
   "metadata": {},
   "outputs": [],
   "source": [
    "details(2015)"
   ]
  },
  {
   "cell_type": "code",
   "execution_count": null,
   "id": "a0108bf2",
   "metadata": {},
   "outputs": [],
   "source": [
    "details(2016)"
   ]
  }
 ],
 "metadata": {},
 "nbformat": 4,
 "nbformat_minor": 5
}
