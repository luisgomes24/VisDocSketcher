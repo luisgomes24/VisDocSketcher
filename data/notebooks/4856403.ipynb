{
 "cells": [
  {
   "cell_type": "markdown",
   "id": "db38fcae",
   "metadata": {},
   "source": [
    "**[Python Course Home Page](https://www.kaggle.com/learn/python)**\n",
    "\n",
    "---\n"
   ]
  },
  {
   "cell_type": "markdown",
   "id": "95c15d1c",
   "metadata": {},
   "source": [
    "# Exercises"
   ]
  },
  {
   "cell_type": "markdown",
   "id": "405cc731",
   "metadata": {},
   "source": [
    "Welcome to your first set of Python coding problems! \n",
    "\n",
    "If this is your first time using Kaggle Kernels, welcome! For a very quick introduction to the coding environment, [check out this video](https://youtu.be/4C2qMnaIKL4).\n",
    "\n",
    "Kernels (also known as notebooks) are composed of blocks (called \"cells\") of text and code. Each of these is editable, though you'll mainly be editing the code cells to answer some questions.\n",
    "\n",
    "To get started, try running the code cell below (by pressing the ► button, or clicking on the cell and pressing ctrl+enter on your keyboard)."
   ]
  },
  {
   "cell_type": "code",
   "execution_count": null,
   "id": "b0cd5102",
   "metadata": {},
   "outputs": [],
   "source": [
    "print(\"You've successfully run some Python code\")\n",
    "print(\"Congratulations!\")\n",
    "print(\"Bubbie\")"
   ]
  },
  {
   "cell_type": "markdown",
   "id": "ac6bb613",
   "metadata": {},
   "source": [
    "Try adding another line of code in the cell above and re-running it. \n",
    "\n",
    "Now let's get a little fancier:  Add a new code cell by clicking on an existing code cell, hitting the escape key, and then hitting the `a` or `b` key.  The `a` key will add a cell above the current cell, and `b` adds a cell below.\n",
    "\n",
    "Great! Now you know how to use Kernels.\n",
    "\n",
    "Each hands-on exercise starts by setting up our feedback and code checking mechanism. Run the code cell below to do that. Then you'll be ready to move on to question 0."
   ]
  },
  {
   "cell_type": "code",
   "execution_count": null,
   "id": "159e42fc",
   "metadata": {},
   "outputs": [],
   "source": [
    "from learntools.core import binder; binder.bind(globals())\n",
    "from learntools.python.ex1 import *\n",
    "print(\"Setup complete! You're ready to start question 0.\")"
   ]
  },
  {
   "cell_type": "markdown",
   "id": "46632615",
   "metadata": {},
   "source": [
    "## 0.\n",
    "\n",
    "*This is a silly question intended as an introduction to the format we use for hands-on exercises throughout all Kaggle courses.*\n",
    "\n",
    "**What is your favorite color? **\n",
    "\n",
    "To complete this question, create a variable called `color` in the cell below with an appropriate value. The function call `q0.check()` (which we've already provided in the cell below) will check your answer."
   ]
  },
  {
   "cell_type": "code",
   "execution_count": null,
   "id": "6614ec1b",
   "metadata": {},
   "outputs": [],
   "source": [
    "# create a variable called color with an appropriate value on the line below\n",
    "# (Remember, strings in Python must be enclosed in 'single' or \"double\" quotes)\n",
    "color = \"blue\"\n",
    "q0.check()"
   ]
  },
  {
   "cell_type": "markdown",
   "id": "5807e159",
   "metadata": {},
   "source": [
    "Didn't get the right answer? How do you not even know your own favorite color?!\n",
    "\n",
    "Delete the `#` in the line below to make one of the lines run. You can choose between getting a hint or the full answer by choosing which line to remove the `#` from. \n",
    "\n",
    "Removing the `#` is called uncommenting, because it changes that line from a \"comment\" which Python doesn't run to code, which Python does run."
   ]
  },
  {
   "cell_type": "code",
   "execution_count": null,
   "id": "61fed704",
   "metadata": {},
   "outputs": [],
   "source": [
    "q0.hint()\n",
    "#q0.solution()"
   ]
  },
  {
   "cell_type": "markdown",
   "id": "c59e582c",
   "metadata": {},
   "source": [
    "The upcoming questions work the same way. The only thing that will change are the questions numbers. For the next question, you'll call `q1.check()`, `q1.hint()`, `q1.solution()`, for question 5, you'll call `q5.check()`, and so on."
   ]
  },
  {
   "cell_type": "markdown",
   "id": "1cda6c44",
   "metadata": {},
   "source": [
    "<hr/>\n",
    "\n",
    "## 1.\n",
    "\n",
    "Complete the code below. In case it's helpful, here is the table of available arithmatic operations:\n",
    "\n",
    "\n",
    "\n",
    "| Operator     | Name           | Description                                            |\n",
    "|--------------|----------------|--------------------------------------------------------|\n",
    "| ``a + b``    | Addition       | Sum of ``a`` and ``b``                                 |\n",
    "| ``a - b``    | Subtraction    | Difference of ``a`` and ``b``                          |\n",
    "| ``a * b``    | Multiplication | Product of ``a`` and ``b``                             |\n",
    "| ``a / b``    | True division  | Quotient of ``a`` and ``b``                            |\n",
    "| ``a // b``   | Floor division | Quotient of ``a`` and ``b``, removing fractional parts |\n",
    "| ``a % b``    | Modulus        | Integer remainder after division of ``a`` by ``b``     |\n",
    "| ``a ** b``   | Exponentiation | ``a`` raised to the power of ``b``                     |\n",
    "| ``-a``       | Negation       | The negative of ``a``                                  |\n",
    "\n",
    "<span style=\"display:none\"></span>\n"
   ]
  },
  {
   "cell_type": "code",
   "execution_count": null,
   "id": "eb02c75a",
   "metadata": {},
   "outputs": [],
   "source": [
    "pi = 3.14159 # approximate\n",
    "diameter = 3\n",
    "\n",
    "# Create a variable called 'radius' equal to half the diameter\n",
    "radius = diameter/2\n",
    "# Create a variable called 'area', using the formula for the area of a circle: pi times the radius squared\n",
    "area = pi*radius**2\n",
    "q1.check()"
   ]
  },
  {
   "cell_type": "code",
   "execution_count": null,
   "id": "4df12bc8",
   "metadata": {},
   "outputs": [],
   "source": [
    "# Uncomment and run the lines below if you need help.\n",
    "#q1.hint()\n",
    "#q1.solution()"
   ]
  },
  {
   "cell_type": "markdown",
   "id": "0e6e06eb",
   "metadata": {},
   "source": [
    "<hr/>\n",
    "## 2.\n",
    "\n",
    "Add code to the following cell to swap variables `a` and `b` (so that `a` refers to the object previously referred to by `b` and vice versa)."
   ]
  },
  {
   "cell_type": "code",
   "execution_count": null,
   "id": "80e4c70c",
   "metadata": {},
   "outputs": [],
   "source": [
    "########### Setup code - don't touch this part ######################\n",
    "# If you're curious, these are examples of lists. We'll talk about \n",
    "# them in depth a few lessons from now. For now, just know that they're\n",
    "# yet another type of Python object, like int or float.\n",
    "a = [1, 2, 3]\n",
    "b = [3, 2, 1]\n",
    "q2.store_original_ids()\n",
    "######################################################################\n",
    "\n",
    "# Your code goes here. Swap the values to which a and b refer.\n",
    "# If you get stuck, you can always uncomment one or both of the lines in\n",
    "# the next cell for a hint, or to peek at the solution.\n",
    "\n",
    "a,b = b,a\n",
    "\n",
    "######################################################################\n",
    "q2.check()"
   ]
  },
  {
   "cell_type": "code",
   "execution_count": null,
   "id": "849545c7",
   "metadata": {},
   "outputs": [],
   "source": [
    "#q2.hint()"
   ]
  },
  {
   "cell_type": "code",
   "execution_count": null,
   "id": "ae39199b",
   "metadata": {},
   "outputs": [],
   "source": [
    "#q2.solution()"
   ]
  },
  {
   "cell_type": "markdown",
   "id": "29cd71ec",
   "metadata": {},
   "source": [
    "<hr/>\n",
    "## 3.\n",
    "\n",
    "<!-- TODO: Or maybe this SHOULD just have a check method for consistency.-->\n",
    "\n",
    "<small>*Note: some questions, such as this one, don't have a .check() function. But it should be easy to tell if you've succeeded.*</small>\n",
    "\n",
    "a) Add parentheses to the following expression so that it evaluates to 1."
   ]
  },
  {
   "cell_type": "code",
   "execution_count": null,
   "id": "8d616aab",
   "metadata": {},
   "outputs": [],
   "source": [
    "(5 - 3) // 2\n"
   ]
  },
  {
   "cell_type": "code",
   "execution_count": null,
   "id": "2613b930",
   "metadata": {},
   "outputs": [],
   "source": [
    "q3.a.hint()"
   ]
  },
  {
   "cell_type": "code",
   "execution_count": null,
   "id": "d79756e0",
   "metadata": {},
   "outputs": [],
   "source": [
    "q3.a.solution()"
   ]
  },
  {
   "cell_type": "markdown",
   "id": "c26da5f1",
   "metadata": {},
   "source": [
    "<small>Questions, like this one, marked a spicy pepper are a bit harder. Don't feel bad if you can't get these.</small>\n",
    "\n",
    "b) <span title=\"A bit spicy\" style=\"color: darkgreen \">🌶️</span> Add parentheses to the following expression so that it evaluates to 0\n"
   ]
  },
  {
   "cell_type": "code",
   "execution_count": null,
   "id": "192c15c0",
   "metadata": {},
   "outputs": [],
   "source": [
    "8 - (3 * 2) - (1 + 1)"
   ]
  },
  {
   "cell_type": "code",
   "execution_count": null,
   "id": "f6fcbd38",
   "metadata": {},
   "outputs": [],
   "source": [
    "#q3.b.hint()"
   ]
  },
  {
   "cell_type": "code",
   "execution_count": null,
   "id": "0cc4e716",
   "metadata": {},
   "outputs": [],
   "source": [
    "#q3.b.solution()"
   ]
  },
  {
   "cell_type": "markdown",
   "id": "bb6a465c",
   "metadata": {},
   "source": [
    "<hr/>\n",
    "## 4. \n",
    "Alice, Bob and Carol have agreed to pool their Halloween candy and split it evenly among themselves.\n",
    "For the sake of their friendship, any candies left over will be smashed. For example, if they collectively\n",
    "bring home 91 candies, they'll take 30 each and smash 1.\n",
    "\n",
    "Write an arithmetic expression below to calculate how many candies they must smash for a given haul."
   ]
  },
  {
   "cell_type": "code",
   "execution_count": null,
   "id": "039b8bfb",
   "metadata": {},
   "outputs": [],
   "source": [
    "# Variables representing the number of candies collected by alice, bob, and carol\n",
    "alice_candies = 121\n",
    "bob_candies = 77\n",
    "carol_candies = 109\n",
    "\n",
    "summ = alice_candies+bob_candies+carol_candies\n",
    "div = summ//3\n",
    "\n",
    "\n",
    "# Your code goes here! Replace the right-hand side of this assignment with an expression\n",
    "# involving alice_candies, bob_candies, and carol_candies\n",
    "to_smash = summ - div*3\n",
    "\n",
    "q4.check()"
   ]
  },
  {
   "cell_type": "code",
   "execution_count": null,
   "id": "1947cac9",
   "metadata": {},
   "outputs": [],
   "source": [
    "#q4.hint()\n",
    "#q4.solution()"
   ]
  },
  {
   "cell_type": "markdown",
   "id": "2f5313ff",
   "metadata": {},
   "source": [
    "# Keep Going\n",
    "\n",
    "You are ready for **[functions and getting help](https://www.kaggle.com/colinmorris/functions-and-getting-help).**\n"
   ]
  },
  {
   "cell_type": "markdown",
   "id": "773e2d22",
   "metadata": {},
   "source": [
    "---\n",
    "**[Python Course Home Page](https://www.kaggle.com/learn/python)**\n",
    "\n"
   ]
  },
  {
   "cell_type": "code",
   "execution_count": null,
   "id": "89f715ac",
   "metadata": {},
   "outputs": [],
   "source": [
    "nan"
   ]
  }
 ],
 "metadata": {},
 "nbformat": 4,
 "nbformat_minor": 5
}
