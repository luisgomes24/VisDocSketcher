{
 "cells": [
  {
   "cell_type": "code",
   "execution_count": null,
   "id": "ef94b349",
   "metadata": {},
   "outputs": [],
   "source": [
    "# This Python 3 environment comes with many helpful analytics libraries installed\n",
    "# It is defined by the kaggle/python Docker image: https://github.com/kaggle/docker-python\n",
    "# For example, here's several helpful packages to load\n",
    "\n",
    "import numpy as np # linear algebra\n",
    "import pandas as pd # data processing, CSV file I/O (e.g. pd.read_csv)\n",
    "\n",
    "# Input data files are available in the read-only \"../input/\" directory\n",
    "# For example, running this (by clicking run or pressing Shift+Enter) will list all files under the input directory\n",
    "\n",
    "import os\n",
    "for dirname, _, filenames in os.walk('/kaggle/input'):\n",
    "    for filename in filenames:\n",
    "        print(os.path.join(dirname, filename))\n",
    "\n",
    "# You can write up to 20GB to the current directory (/kaggle/working/) that gets preserved as output when you create a version using \"Save & Run All\" \n",
    "# You can also write temporary files to /kaggle/temp/, but they won't be saved outside of the current session"
   ]
  },
  {
   "cell_type": "markdown",
   "id": "0176053d",
   "metadata": {},
   "source": [
    "Based on:\n",
    "* [CitiBike System Data Stations](https://www.kaggle.com/konstantinosalatzas/citibike-system-data-stations)\n",
    "* [CitiBike System Data Bike Transfers](https://www.kaggle.com/konstantinosalatzas/citibike-system-data-bike-transfers)"
   ]
  },
  {
   "cell_type": "markdown",
   "id": "afc1076b",
   "metadata": {},
   "source": [
    "Define the *availability* $U(s,t)$ of a station $s$ at a moment in time $t$ as\n",
    "* $$U(s,0)=0, \\forall s$$\n",
    "* $$U(s,t)=U(s,t-\\delta t)+Arrivals(s,t)-Departures(s,t), \\forall s, \\forall t>0$$\n",
    "where\n",
    "* $Arrivals(s,t)$ is the number of observations with *end station* $s$ and *stoptime* $t$\n",
    "* $Departures(s,t)$ is the number of observations with *start station* $s$ and *starttime* $t$"
   ]
  },
  {
   "cell_type": "markdown",
   "id": "7ac0b14a",
   "metadata": {},
   "source": [
    "As we know the latitude and longitude for each station $s$, we can express $U$ as\n",
    "$$U(s,t)=U(x,y,t)$$\n",
    "where $x,y$ are the geographical coordinates of station $s$."
   ]
  },
  {
   "cell_type": "code",
   "execution_count": null,
   "id": "f7ece10d",
   "metadata": {},
   "outputs": [],
   "source": [
    "ds = pd.read_csv('../input/bikeshare-analysis/NYC-CitiBike-2016.csv')\n",
    "ds['rentalid'] = ds.index + 1\n",
    "ds.head()"
   ]
  },
  {
   "cell_type": "markdown",
   "id": "371b7fc2",
   "metadata": {},
   "source": [
    "We create a dataframe about $Departures(s,t)$ for each station $s$ and time $t$, grouped by station and sorted by time (ascending)."
   ]
  },
  {
   "cell_type": "code",
   "execution_count": null,
   "id": "74be10f3",
   "metadata": {},
   "outputs": [],
   "source": [
    "start = ds.groupby(['start station id', 'starttime', 'start station name', 'start station latitude',\n",
    "                    'start station longitude', 'bikeid', 'usertype', 'birth year', 'gender', 'rentalid'])\\\n",
    "          .size().reset_index(name='counts')\n",
    "start = start.sort_values(['start station id', 'starttime'])\n",
    "start['event'] = \"Departure\"\n",
    "start.head()"
   ]
  },
  {
   "cell_type": "markdown",
   "id": "1e72505a",
   "metadata": {},
   "source": [
    "We create a dataframe about $Arrivals(s,t)$ for each station $s$ and time $t$, grouped by station and sorted by time (ascending)."
   ]
  },
  {
   "cell_type": "code",
   "execution_count": null,
   "id": "341c9359",
   "metadata": {},
   "outputs": [],
   "source": [
    "end = ds.groupby(['end station id', 'stoptime', 'end station name', 'end station latitude', 'end station longitude',\n",
    "                  'bikeid', 'usertype', 'birth year', 'gender', 'rentalid'])\\\n",
    "        .size().reset_index(name='counts')\n",
    "end = end.sort_values(['end station id', 'stoptime'])\n",
    "end['event'] = \"Arrival\"\n",
    "end.head()"
   ]
  },
  {
   "cell_type": "markdown",
   "id": "706e4a14",
   "metadata": {},
   "source": [
    "We convert each value to its opposite as this will help with later calculations (remember the definition of $U$)."
   ]
  },
  {
   "cell_type": "code",
   "execution_count": null,
   "id": "1f0b642c",
   "metadata": {},
   "outputs": [],
   "source": [
    "start['counts'] = -start['counts']\n",
    "start.head()"
   ]
  },
  {
   "cell_type": "code",
   "execution_count": null,
   "id": "b5c9e8ae",
   "metadata": {},
   "outputs": [],
   "source": [
    "end['end station id'] = end['end station id'].astype('int64')\n",
    "end.head()"
   ]
  },
  {
   "cell_type": "markdown",
   "id": "f902856d",
   "metadata": {},
   "source": [
    "As *departures* and *arrivals* now have the same structure, we rename the corresponding columns to common names and append the dataframes."
   ]
  },
  {
   "cell_type": "code",
   "execution_count": null,
   "id": "b52dede5",
   "metadata": {},
   "outputs": [],
   "source": [
    "start = start.rename(columns={\"start station id\":\"station id\", \"starttime\":\"time\", \"start station name\":\"station name\",\n",
    "                              \"start station latitude\":\"station latitude\", \"start station longitude\":\"station longitude\"})\n",
    "end = end.rename(columns={\"end station id\":\"station id\", \"stoptime\":\"time\", \"end station name\":\"station name\",\n",
    "                          \"end station latitude\":\"station latitude\", \"end station longitude\":\"station longitude\"})\n",
    "U = start.append(end)\n",
    "U.head()"
   ]
  },
  {
   "cell_type": "markdown",
   "id": "4828195b",
   "metadata": {},
   "source": [
    "We group by station and sort by time (ascending)."
   ]
  },
  {
   "cell_type": "code",
   "execution_count": null,
   "id": "372cfbf8",
   "metadata": {},
   "outputs": [],
   "source": [
    "U = U.sort_values(['station id', 'time'])\n",
    "U.head()"
   ]
  },
  {
   "cell_type": "markdown",
   "id": "174a8c7a",
   "metadata": {},
   "source": [
    "We calculate the *availability* column as the running sum for each station. (Remember that *departures* were stored as their opposites)"
   ]
  },
  {
   "cell_type": "code",
   "execution_count": null,
   "id": "a8d48466",
   "metadata": {},
   "outputs": [],
   "source": [
    "U = U.rename(columns={\"counts\":\"availability\"})\n",
    "U['actor'] = \"Rental\"\n",
    "U.head()"
   ]
  },
  {
   "cell_type": "markdown",
   "id": "6ac464f0",
   "metadata": {},
   "source": [
    "Assume we have a table with *bikeid*, *starttime*, *stoptime*, *start station id*, *end station id*, grouped by *bikeid* and sorted by *starttime* ascending."
   ]
  },
  {
   "cell_type": "markdown",
   "id": "1973a3d9",
   "metadata": {},
   "source": [
    "Let $i$ be a row number such that\n",
    "* $$bikeid(i)=bikeid(i+1)$$\n",
    "* $$endstationid(i)\\neq startstationid(i+1)$$\n",
    "We call that a *discontinuity* in the bike's trip."
   ]
  },
  {
   "cell_type": "markdown",
   "id": "5f3ae3e7",
   "metadata": {},
   "source": [
    "Intuitively, a discontinuity appears when a bike begins a trip from a start station which is different from the end station of its previous trip."
   ]
  },
  {
   "cell_type": "markdown",
   "id": "a0b92d5b",
   "metadata": {},
   "source": [
    "Assuming that the data is complete, we can hypothesize that the company redistributes the bikes by transfering bikes from stations with high *availability* to stations with low *availability*."
   ]
  },
  {
   "cell_type": "code",
   "execution_count": null,
   "id": "53f903ef",
   "metadata": {},
   "outputs": [],
   "source": [
    "trip = pd.read_csv('../input/bikeshare-analysis/NYC-CitiBike-2016.csv')\n",
    "trip.head()"
   ]
  },
  {
   "cell_type": "code",
   "execution_count": null,
   "id": "515fa02a",
   "metadata": {},
   "outputs": [],
   "source": [
    "trip = trip[['bikeid', 'starttime', 'stoptime', 'start station id', 'start station name', 'start station latitude',\n",
    "             'start station longitude', 'end station id', 'end station name', 'end station latitude',\n",
    "             'end station longitude', 'usertype', 'birth year', 'gender']]\n",
    "trip = trip.dropna(subset=['end station id'])\n",
    "trip['end station id'] = trip['end station id'].astype('int64')\n",
    "trip.head()"
   ]
  },
  {
   "cell_type": "markdown",
   "id": "6d22c02d",
   "metadata": {},
   "source": [
    "We group by *bikeid* and sort by *starttime*, *stoptime* ascending."
   ]
  },
  {
   "cell_type": "code",
   "execution_count": null,
   "id": "0c95d557",
   "metadata": {},
   "outputs": [],
   "source": [
    "trip = trip.sort_values(['bikeid', 'starttime', 'stoptime'])\n",
    "trip.head()"
   ]
  },
  {
   "cell_type": "markdown",
   "id": "0b764f6d",
   "metadata": {},
   "source": [
    "Let $i$ be a row number such that $bikeid(i)=bikeid(i+1)$."
   ]
  },
  {
   "cell_type": "markdown",
   "id": "1e7893e9",
   "metadata": {},
   "source": [
    "Define\n",
    "$$flag(i+1)=\\left\\{\\begin{matrix}0,startstation(i+1)=endstation(i)\\\\1,startstation(i+1)\\neq endstation(i)\\end{matrix}\\right.$$\n",
    "Thus, $flag(i)=1$ if and only if there is a *discontinuity* between the $i$-th and ($i+1$)-th trip of the bike."
   ]
  },
  {
   "cell_type": "code",
   "execution_count": null,
   "id": "df555899",
   "metadata": {},
   "outputs": [],
   "source": [
    "air = trip\n",
    "air['flag'] = trip['start station id'] - trip['end station id'].shift(periods=1)\n",
    "air = air.dropna(subset=['flag'])\n",
    "air['flag'] = (air['flag'] > 0)\n",
    "air['flag'] = air['flag'].astype(np.int64)\n",
    "air.head()"
   ]
  },
  {
   "cell_type": "code",
   "execution_count": null,
   "id": "9fa6c220",
   "metadata": {},
   "outputs": [],
   "source": [
    "air['end station id'] = air['end station id'].shift(periods=1)\n",
    "air['stoptime'] = air['stoptime'].shift(periods=1)\n",
    "air['end station name'] = air['end station name'].shift(periods=1)\n",
    "air['end station latitude'] = air['end station latitude'].shift(periods=1)\n",
    "air['end station longitude'] = air['end station longitude'].shift(periods=1)\n",
    "air = air.dropna(subset=['end station id'])\n",
    "air['end station id'] = air['end station id'].astype(np.int64)\n",
    "air = air[air['flag'] > 0]\n",
    "air.head()"
   ]
  },
  {
   "cell_type": "code",
   "execution_count": null,
   "id": "80c72bfb",
   "metadata": {},
   "outputs": [],
   "source": [
    "arrivals = air[['start station id', 'starttime', 'start station name', 'start station latitude', \n",
    "                'start station longitude', 'bikeid', 'flag']]\n",
    "arrivals = arrivals.rename(columns={\"start station id\":\"station id\", \"starttime\":\"time\", \"flag\":\"counts\",\n",
    "                                    \"start station name\":\"station name\", \"start station latitude\":\"station latitude\",\n",
    "                                    \"start station longitude\":\"station longitude\"})\n",
    "arrivals[\"event\"] = \"Arrival\"\n",
    "\n",
    "departures = air[['end station id', 'stoptime', 'end station name', 'end station latitude',\n",
    "                  'end station longitude', 'bikeid', 'flag']]\n",
    "departures['flag'] = -departures['flag']\n",
    "departures = departures.rename(columns={\"end station id\":\"station id\", \"stoptime\":\"time\", \"flag\":\"counts\",\n",
    "                                        \"end station name\":\"station name\", \"end station latitude\":\"station latitude\",\n",
    "                                        \"end station longitude\":\"station longitude\"})\n",
    "departures[\"event\"] = \"Departure\"\n",
    "\n",
    "air = arrivals.append(departures)\n",
    "air.head()"
   ]
  },
  {
   "cell_type": "code",
   "execution_count": null,
   "id": "a24899e8",
   "metadata": {},
   "outputs": [],
   "source": [
    "air = air.sort_values(['station id', 'time'])\n",
    "air.head()"
   ]
  },
  {
   "cell_type": "code",
   "execution_count": null,
   "id": "ff2907bb",
   "metadata": {},
   "outputs": [],
   "source": [
    "air = air.rename(columns={\"counts\":\"availability\"})\n",
    "air[\"actor\"] = \"Transfer\"\n",
    "air.head()"
   ]
  },
  {
   "cell_type": "code",
   "execution_count": null,
   "id": "019b4538",
   "metadata": {},
   "outputs": [],
   "source": [
    "U = U.append(air)\n",
    "U = U.sort_values(['station id', 'time'])\n",
    "U.head()"
   ]
  },
  {
   "cell_type": "code",
   "execution_count": null,
   "id": "9b12e4e4",
   "metadata": {},
   "outputs": [],
   "source": [
    "U['availability'] = U.groupby('station id')['availability'].cumsum()\n",
    "U.head()"
   ]
  },
  {
   "cell_type": "code",
   "execution_count": null,
   "id": "8ebda238",
   "metadata": {},
   "outputs": [],
   "source": [
    "output = U\n",
    "output.to_csv('NYC-CitiBike-2016.csv', index=False)"
   ]
  }
 ],
 "metadata": {},
 "nbformat": 4,
 "nbformat_minor": 5
}
