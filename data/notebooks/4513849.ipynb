{
 "cells": [
  {
   "cell_type": "markdown",
   "id": "2f90c650",
   "metadata": {},
   "source": [
    "# Chennai has around 1 crore population with less than 2000 liters of water per person available in its reservoirs"
   ]
  },
  {
   "cell_type": "code",
   "execution_count": null,
   "id": "20791207",
   "metadata": {},
   "outputs": [],
   "source": [
    "import numpy as np\n",
    "import pandas as pd\n",
    "import matplotlib\n",
    "import matplotlib.pyplot as plt\n",
    "from matplotlib.pyplot import figure\n",
    "import seaborn as sns\n",
    "color = sns.color_palette()\n",
    "%matplotlib inline\n",
    "\n",
    "import warnings\n",
    "warnings.filterwarnings('ignore')"
   ]
  },
  {
   "cell_type": "code",
   "execution_count": null,
   "id": "18e1ef4d",
   "metadata": {},
   "outputs": [],
   "source": [
    "sns.set_context('talk')\n",
    "matplotlib.rcParams['font.family'] = 'arial'"
   ]
  },
  {
   "cell_type": "code",
   "execution_count": null,
   "id": "41de74a3",
   "metadata": {},
   "outputs": [],
   "source": [
    "df_water = pd.read_csv(\"../input/chennai-water-management/chennai_reservoir_levels.csv\")\n",
    "df_water[\"Date\"] = pd.to_datetime(df_water[\"Date\"], format='%d-%m-%Y')\n",
    "df_water[\"TOTAL_RESERVOIR\"] = df_water[\"POONDI\"] + df_water[\"CHOLAVARAM\"] + df_water[\"REDHILLS\"] + df_water[\"CHEMBARAMBAKKAM\"]\n",
    "cols = [\"Date\", \"TOTAL_RESERVOIR\"]\n",
    "df_water = df_water[cols]\n",
    "\n",
    "df_rainfall = pd.read_csv(\"../input/chennai-water-management/chennai_reservoir_rainfall.csv\")\n",
    "df_rainfall[\"Date\"] = pd.to_datetime(df_rainfall[\"Date\"], format='%d-%m-%Y')\n",
    "df_rainfall[\"AVG_RAINFALL\"] = 0.25*(df_rainfall[\"POONDI\"] + df_rainfall[\"CHOLAVARAM\"] + df_rainfall[\"REDHILLS\"] + df_rainfall[\"CHEMBARAMBAKKAM\"])\n",
    "cols = [\"Date\", \"AVG_RAINFALL\"]\n",
    "df_rainfall = df_rainfall[cols]\n",
    "\n",
    "# http://worldpopulationreview.com/world-cities/chennai-population/\n",
    "df_population = pd.read_csv(\"../input/chennai-population/chennai_population.csv\")\n",
    "cols = [\"Year\", \"Population\"]\n",
    "df_population = df_population[cols]\n",
    "\n",
    "df = pd.merge(df_water, df_rainfall, left_on='Date', right_on='Date')\n",
    "\n",
    "df[\"Year\"] = df[\"Date\"].dt.year\n",
    "\n",
    "# 1 mcft = 28316846.6 liters\n",
    "df[\"TOTAL_RESERVOIR\"] *= 28316846.6\n",
    "df.set_index(\"Date\", inplace=True)"
   ]
  },
  {
   "cell_type": "code",
   "execution_count": null,
   "id": "efbf2e8e",
   "metadata": {},
   "outputs": [],
   "source": [
    "fig = figure(num=None, figsize=(12, 6), dpi=80, facecolor='w', edgecolor='k')\n",
    "\n",
    "ax = df[\"TOTAL_RESERVOIR\"].plot()\n",
    "# ax.set_xlabel('Date', weight='bold')\n",
    "ax.set_ylabel('Liters of water', weight = 'bold')\n",
    "ax.set_title('Total water stored in the reservoirs is alarmingly low')\n",
    "\n",
    "sns.despine()\n",
    "plt.tight_layout();"
   ]
  },
  {
   "cell_type": "code",
   "execution_count": null,
   "id": "f65136c7",
   "metadata": {},
   "outputs": [],
   "source": [
    "fig = figure(num=None, figsize=(12, 6), dpi=80, facecolor='w', edgecolor='k')\n",
    "\n",
    "ax = df[\"AVG_RAINFALL\"].plot()\n",
    "ax.set_xlabel('Date', weight='bold')\n",
    "ax.set_ylabel('Rainfall (mm)', weight = 'bold')\n",
    "ax.set_title('Chennai desperatly needs good rainfall to replenish')\n",
    "\n",
    "sns.despine()\n",
    "plt.tight_layout();"
   ]
  },
  {
   "cell_type": "code",
   "execution_count": null,
   "id": "7d93556d",
   "metadata": {},
   "outputs": [],
   "source": [
    "df_agg = pd.DataFrame(df.groupby(\"Year\").agg({\"TOTAL_RESERVOIR\": \"mean\"})).reset_index()\n",
    "df_year = pd.merge(df_agg, df_population, left_on='Year', right_on='Year')\n",
    "\n",
    "df_year[\"LITERS_PER_PERSON\"] = df_year[\"TOTAL_RESERVOIR\"] / df_year[\"Population\"]"
   ]
  },
  {
   "cell_type": "code",
   "execution_count": null,
   "id": "48756254",
   "metadata": {},
   "outputs": [],
   "source": [
    "fig = figure(num=None, figsize=(12, 4), dpi=80, facecolor='w', edgecolor='k')\n",
    "\n",
    "plt.subplot(1, 2, 1)\n",
    "ax1 = sns.barplot(y=\"Population\", x=\"Year\", data=df_year, palette=(\"Greys_d\"))\n",
    "ax1.set_xlabel('')\n",
    "ax1.set_ylabel('Population', weight = 'bold')\n",
    "\n",
    "plt.subplot(1, 2, 2)\n",
    "ax2 = sns.barplot(y=\"LITERS_PER_PERSON\", x=\"Year\", data=df_year, palette=(\"Blues_d\"))\n",
    "ax2.set_xlabel('')\n",
    "ax2.set_ylabel('Liters per person', weight = 'bold')\n",
    "ax2.set_title('Less than 2000 liters \\n of water per person this year')\n",
    "\n",
    "sns.despine()\n",
    "plt.tight_layout();"
   ]
  },
  {
   "cell_type": "code",
   "execution_count": null,
   "id": "4f0002cd",
   "metadata": {},
   "outputs": [],
   "source": [
    "df_year"
   ]
  },
  {
   "cell_type": "code",
   "execution_count": null,
   "id": "c56b4d01",
   "metadata": {},
   "outputs": [],
   "source": [
    "nan"
   ]
  }
 ],
 "metadata": {},
 "nbformat": 4,
 "nbformat_minor": 5
}
