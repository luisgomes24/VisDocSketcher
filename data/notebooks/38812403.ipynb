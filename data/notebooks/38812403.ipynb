{
 "cells": [
  {
   "cell_type": "markdown",
   "id": "4cd98023",
   "metadata": {},
   "source": [
    "<div style='border-radius:10px;background-color:#ffffff;border-style:solid;border-color:#7BC8F6;letter-spacing:0.5px;'>\n",
    "<center><h4 style='padding:5px 0px;color:#069AF3;font-weight:bold;font-family:Cursive'>\n",
    "       Computer vision and Image processing- Mahotas </h4></center></div>"
   ]
  },
  {
   "cell_type": "markdown",
   "id": "295b5acc",
   "metadata": {},
   "source": [
    "<div style='border-radius:10px;background-color:#ffffff;border-style:solid;border-color:#7BC8F6;letter-spacing:0.5px;'>\n",
    "<center><h4 style='padding:5px 0px;color:#69AF3;font-weight:bold;font-family:Cursive'>\n",
    "    \n",
    "📌 Mahotas is a computer vision and image processing library for Python.\n",
    "    \n",
    "A library is a collection of functions and methods that allows you to perform many actions without having to write hundreds of lines of code. </h4></center></div>"
   ]
  },
  {
   "cell_type": "markdown",
   "id": "97ceadd2",
   "metadata": {},
   "source": [
    "---\n",
    "<h4 style='padding:5px 0px;color:#343DF;font-weight:bold;font-family:Cursive'> \n",
    "\n",
    "▪️Mahotas includes many algorithms that operates with arrays and with a very clean Python interface. Mahotas algorithms are implemented in C++, but almost always, you call a Python function which checks types and then calls the internal function. This makes it slightly slower then writing in just C++, but still much quicker then using exclusively python. It was mainly developed like this for the speed of processing and power of C++.      ▪️Mahotas currently has over 100 functions for image processing and computer vision and is constantly growing.\n",
    "</h4>\n",
    "\n",
    "---\n",
    "    "
   ]
  },
  {
   "cell_type": "markdown",
   "id": "6fd9100b",
   "metadata": {},
   "source": [
    "<div style='border-radius:10px;background-color:#ffffff;border-style:solid;border-color:#7BC8F6;letter-spacing:0.5px;'>\n",
    "<center><h4 style='padding:5px 0px;color:#69AF3;font-weight:bold;font-family:Cursive'>\n",
    "      Amazing feature implemented in Mahotas is the demo “Wally” or in the USA he’s called “Waldo”:  </h4></center></div>\n"
   ]
  },
  {
   "cell_type": "markdown",
   "id": "042c958e",
   "metadata": {},
   "source": [
    "<div style='border-radius:10px;background-color:#ffffff;border-style:solid;border-color:#7BC8F6;letter-spacing:0.5px;'>\n",
    "<center><h4 style='padding:5px 0px;color:#069AF3;font-weight:bold;font-family:Cursive'>\n",
    "   Importing Necessary Libraries</h4></center></div>\n"
   ]
  },
  {
   "cell_type": "code",
   "execution_count": null,
   "id": "a7749aef",
   "metadata": {},
   "outputs": [],
   "source": [
    "!pip install mahotas"
   ]
  },
  {
   "cell_type": "code",
   "execution_count": null,
   "id": "fd3e4959",
   "metadata": {},
   "outputs": [],
   "source": [
    "# This Python 3 environment comes with many helpful analytics libraries installed\n",
    "# It is defined by the kaggle/python Docker image: https://github.com/kaggle/docker-python\n",
    "# For example, here's several helpful packages to load\n",
    "\n",
    "import numpy as np # linear algebra\n",
    "import pandas as pd # data processing, CSV file I/O (e.g. pd.read_csv)\n",
    "\n",
    "# Input data files are available in the read-only \"../input/\" directory\n",
    "# For example, running this (by clicking run or pressing Shift+Enter) will list all files under the input directory\n",
    "\n",
    "import os\n",
    "for dirname, _, filenames in os.walk('/kaggle/input'):\n",
    "    for filename in filenames:\n",
    "        print(os.path.join(dirname, filename))\n",
    "\n",
    "# You can write up to 20GB to the current directory (/kaggle/working/) that gets preserved as output when you create a version using \"Save & Run All\" \n",
    "# You can also write temporary files to /kaggle/temp/, but they won't be saved outside of the current session"
   ]
  },
  {
   "cell_type": "code",
   "execution_count": null,
   "id": "14b3c396",
   "metadata": {},
   "outputs": [],
   "source": [
    "from pylab import imshow, show\n",
    "import mahotas\n",
    "import mahotas.demos"
   ]
  },
  {
   "cell_type": "markdown",
   "id": "9b60df52",
   "metadata": {},
   "source": [
    "<div style='border-radius:10px;background-color:#ffffff;border-style:solid;border-color:#7BC8F6;letter-spacing:0.5px;'>\n",
    "<center><h4 style='padding:5px 0px;color:#069AF3;font-weight:bold;font-family:Cursive'>\n",
    "     Load the Image “wally” from demos and display it:</h4></center></div>\n"
   ]
  },
  {
   "cell_type": "code",
   "execution_count": null,
   "id": "802d3ef6",
   "metadata": {},
   "outputs": [],
   "source": [
    "wally = mahotas.demos.load('Wally')\n",
    "imshow(wally)\n",
    "show()"
   ]
  },
  {
   "cell_type": "markdown",
   "id": "21bed81e",
   "metadata": {},
   "source": [
    "<div style='border-radius:10px;background-color:#ffffff;border-style:solid;border-color:#7BC8F6;letter-spacing:0.5px;'>\n",
    "<center><h4 style='padding:5px 0px;color:#69AF3;font-weight:bold;font-family:Cursive'>\n",
    "Change the wally image into a float and transpose the image, splitting the new float of the image into R,G,B channels, as well as getting the white channel</h4></center></div>"
   ]
  },
  {
   "cell_type": "code",
   "execution_count": null,
   "id": "cc919046",
   "metadata": {},
   "outputs": [],
   "source": [
    "wfloat = wally.astype(float)\n",
    "r,g,b = wfloat.transpose((2,0,1))\n",
    "w = wfloat.mean(2)"
   ]
  },
  {
   "cell_type": "markdown",
   "id": "c15ab7d8",
   "metadata": {},
   "source": [
    "<div style='border-radius:10px;background-color:#ffffff;border-style:solid;border-color:#7BC8F6;letter-spacing:0.5px;'>\n",
    "<center><h4 style='padding:5px 0px;color:#69AF3;font-weight:bold;font-family:Cursive'>\n",
    "After that we need to build up a pattern of +1,-1,+1,-1 over the y axis.</h4></center></div>"
   ]
  },
  {
   "cell_type": "code",
   "execution_count": null,
   "id": "799dc1c9",
   "metadata": {},
   "outputs": [],
   "source": [
    "pattern = np.ones((24,16), float)\n",
    "for i in range(2):\n",
    "    pattern[i::4] = -1"
   ]
  },
  {
   "cell_type": "markdown",
   "id": "349156a6",
   "metadata": {},
   "source": [
    "<div style='border-radius:10px;background-color:#ffffff;border-style:solid;border-color:#7BC8F6;letter-spacing:0.5px;'>\n",
    "<center><h4 style='padding:5px 0px;color:#69AF3;font-weight:bold;font-family:Cursive'> \n",
    "Convolve red minus white using the pattern above. This will give a strong response where Waldo’s shirt is.</h4></center></div>"
   ]
  },
  {
   "cell_type": "code",
   "execution_count": null,
   "id": "d069b052",
   "metadata": {},
   "outputs": [],
   "source": [
    "v = mahotas.convolve(r-w, pattern)"
   ]
  },
  {
   "cell_type": "markdown",
   "id": "c19cc79c",
   "metadata": {},
   "source": [
    "<div style='border-radius:10px;background-color:#ffffff;border-style:solid;border-color:#7BC8F6;letter-spacing:0.5px;'>\n",
    "<center><h4 style='padding:5px 0px;color:#069AF3;font-weight:bold;font-family:Cursive'>\n",
    "       Make a Mask</h4></center></div>"
   ]
  },
  {
   "cell_type": "markdown",
   "id": "35bfff51",
   "metadata": {},
   "source": [
    "<div style='border-radius:10px;background-color:#ffffff;border-style:solid;border-color:#7BC8F6;letter-spacing:0.5px;'>\n",
    "<center><h4 style='padding:5px 0px;color:#69AF3;font-weight:bold;font-family:Cursive'>\n",
    "A mask in image editing technique that hides or darkens unwanted pixels from an image:\n",
    "mask = (v == v.max())</h4></center></div>"
   ]
  },
  {
   "cell_type": "code",
   "execution_count": null,
   "id": "4eb125b1",
   "metadata": {},
   "outputs": [],
   "source": [
    "mask = (v == v.max())\n",
    "mask = mahotas.dilate(mask, np.ones((48,24)))\n",
    "np.subtract(wally, .8*wally * ~mask[:,:,None], out=wally, casting='unsafe')\n",
    "imshow(wally)\n",
    "show()"
   ]
  },
  {
   "cell_type": "markdown",
   "id": "5ab1b428",
   "metadata": {},
   "source": [
    "<div style='border-radius:10px;background-color:#ffffff;border-style:solid;border-color:#7BC8F6;letter-spacing:0.5px;'>\n",
    "<center><h4 style='padding:5px 0px;color:#069AF3;font-weight:bold;font-family:Cursive'>\n",
    "    If you liked it, please upvoted. Thank You 😊🙏✨ </h4></center></div>"
   ]
  }
 ],
 "metadata": {},
 "nbformat": 4,
 "nbformat_minor": 5
}
