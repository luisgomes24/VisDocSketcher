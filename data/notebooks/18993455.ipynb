{
 "cells": [
  {
   "cell_type": "code",
   "execution_count": null,
   "id": "808460cc",
   "metadata": {},
   "outputs": [],
   "source": [
    "# This Python 3 environment comes with many helpful analytics libraries installed\n",
    "# It is defined by the kaggle/python Docker image: https://github.com/kaggle/docker-python\n",
    "# For example, here's several helpful packages to load\n",
    "\n",
    "import numpy as np # linear algebra\n",
    "import pandas as pd # data processing, CSV file I/O (e.g. pd.read_csv)\n",
    "\n",
    "# Input data files are available in the read-only \"../input/\" directory\n",
    "# For example, running this (by clicking run or pressing Shift+Enter) will list all files under the input directory\n",
    "\n",
    "import os\n",
    "for dirname, _, filenames in os.walk('/kaggle/input'):\n",
    "    for filename in filenames:\n",
    "        print(os.path.join(dirname, filename))\n",
    "\n",
    "# You can write up to 20GB to the current directory (/kaggle/working/) that gets preserved as output when you create a version using \"Save & Run All\" \n",
    "# You can also write temporary files to /kaggle/temp/, but they won't be saved outside of the current session"
   ]
  },
  {
   "cell_type": "code",
   "execution_count": null,
   "id": "8d79dc3c",
   "metadata": {},
   "outputs": [],
   "source": [
    "!pip install autogluon"
   ]
  },
  {
   "cell_type": "code",
   "execution_count": null,
   "id": "654f7e5f",
   "metadata": {},
   "outputs": [],
   "source": [
    "# !pip install -U \"mxnet_cu101<2.0.0\""
   ]
  },
  {
   "cell_type": "code",
   "execution_count": null,
   "id": "cba4c159",
   "metadata": {},
   "outputs": [],
   "source": [
    "from autogluon.tabular import TabularDataset,TabularPredictor"
   ]
  },
  {
   "cell_type": "code",
   "execution_count": null,
   "id": "12d7bc84",
   "metadata": {},
   "outputs": [],
   "source": [
    "train_data_path = '/kaggle/input/california-house-prices/train.csv'\n",
    "test_data_path = '/kaggle/input/california-house-prices/test.csv'\n",
    "\n",
    "train_data = TabularDataset(train_data_path)"
   ]
  },
  {
   "cell_type": "code",
   "execution_count": null,
   "id": "13b4bfb0",
   "metadata": {},
   "outputs": [],
   "source": [
    "id, label = 'Id','Sold Price'\n",
    "large_val_cols = ['Lot','Total interior livable area','Tax assessed value','Annual tax amount','Listed Price','Last Sold Price']\n",
    "for c in large_val_cols + [label]:\n",
    "    train_data[c] = np.log(train_data[c]+1)"
   ]
  },
  {
   "cell_type": "code",
   "execution_count": null,
   "id": "9fbc252d",
   "metadata": {},
   "outputs": [],
   "source": [
    "# predictor = TabularPredictor(label=label).fit(train_data.drop(columns=[id]),time_limit=3600)\n",
    "# predictor = TabularPredictor(label=label).fit(train_data.drop(columns=[id]),ag_args_fit={'num_gpus': 1})\n",
    "\n",
    "predictor = TabularPredictor(label=label).fit(train_data.drop(columns=[id]),\n",
    "                                             hyperparameters='multimodal', # 使用transformer抽取特征,使用多模型融合\n",
    "                                             num_stack_levels=1,# ensemble 集成学习\n",
    "                                             num_bag_folds=5,time_limit=3600)"
   ]
  },
  {
   "cell_type": "code",
   "execution_count": null,
   "id": "a68106d0",
   "metadata": {},
   "outputs": [],
   "source": [
    "test_data = TabularDataset(test_data_path)\n",
    "for c in large_val_cols:\n",
    "    test_data[c] = np.log(test_data[c]+1)"
   ]
  },
  {
   "cell_type": "code",
   "execution_count": null,
   "id": "deb3ebef",
   "metadata": {},
   "outputs": [],
   "source": [
    "y_pred = predictor.predict(test_data.drop(columns=[id]))"
   ]
  },
  {
   "cell_type": "code",
   "execution_count": null,
   "id": "49ac6084",
   "metadata": {},
   "outputs": [],
   "source": [
    "y_pred = np.exp(y_pred) - 1"
   ]
  },
  {
   "cell_type": "code",
   "execution_count": null,
   "id": "815ce633",
   "metadata": {},
   "outputs": [],
   "source": [
    "y_pred[:3]"
   ]
  },
  {
   "cell_type": "code",
   "execution_count": null,
   "id": "c2030e77",
   "metadata": {},
   "outputs": [],
   "source": [
    "test_data[:3]"
   ]
  },
  {
   "cell_type": "code",
   "execution_count": null,
   "id": "047b0fb9",
   "metadata": {},
   "outputs": [],
   "source": [
    "save_path = '/kaggle/working/submit.csv'\n",
    "\n",
    "submit_result = pd.DataFrame({'id': test_data[id],'Sold Price':y_pred})\n",
    "submit_result"
   ]
  },
  {
   "cell_type": "code",
   "execution_count": null,
   "id": "cbca1775",
   "metadata": {},
   "outputs": [],
   "source": [
    "submit_result.to_csv(save_path,index=False)"
   ]
  },
  {
   "cell_type": "code",
   "execution_count": null,
   "id": "ae9037bb",
   "metadata": {},
   "outputs": [],
   "source": [
    "nan"
   ]
  },
  {
   "cell_type": "code",
   "execution_count": null,
   "id": "0742b38a",
   "metadata": {},
   "outputs": [],
   "source": [
    "# 更好的模型\n",
    "# predictor = TabularPredictor(label=label).fit(train_data.drop(columns=[id]),\n",
    "#                                              hyperparameters='multimodal', # 使用transformer抽取特征,使用多模型融合\n",
    "#                                              num_stack_levels=1,# ensemble 集成学习\n",
    "#                                              num_bag_folds=5)"
   ]
  },
  {
   "cell_type": "code",
   "execution_count": null,
   "id": "b6c840d0",
   "metadata": {},
   "outputs": [],
   "source": [
    "nan"
   ]
  }
 ],
 "metadata": {},
 "nbformat": 4,
 "nbformat_minor": 5
}
