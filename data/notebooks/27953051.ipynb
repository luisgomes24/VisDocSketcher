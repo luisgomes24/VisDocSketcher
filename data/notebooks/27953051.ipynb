{
 "cells": [
  {
   "cell_type": "code",
   "execution_count": null,
   "id": "6bb73558",
   "metadata": {},
   "outputs": [],
   "source": [
    "# This Python 3 environment comes with many helpful analytics libraries installed\n",
    "# It is defined by the kaggle/python Docker image: https://github.com/kaggle/docker-python\n",
    "# For example, here's several helpful packages to load\n",
    "\n",
    "import numpy as np # linear algebra\n",
    "import pandas as pd # data processing, CSV file I/O (e.g. pd.read_csv)\n",
    "import seaborn as sns\n",
    "import plotly\n",
    "import plotly.express as px\n",
    "from sklearn.model_selection import train_test_split\n",
    "from sklearn.linear_model import LinearRegression\n",
    "import matplotlib.pyplot as plt\n",
    "import cufflinks as cf\n",
    "cf.go_offline()\n",
    "%matplotlib inline\n",
    "\n",
    "\n",
    "# Input data files are available in the read-only \"../input/\" directory\n",
    "# For example, running this (by clicking run or pressing Shift+Enter) will list all files under the input directory\n",
    "\n",
    "import os\n",
    "for dirname, _, filenames in os.walk('/kaggle/input'):\n",
    "    for filename in filenames:\n",
    "        print(os.path.join(dirname, filename))\n",
    "\n",
    "# You can write up to 20GB to the current directory (/kaggle/working/) that gets preserved as output when you create a version using \"Save & Run All\" \n",
    "# You can also write temporary files to /kaggle/temp/, but they won't be saved outside of the current session"
   ]
  },
  {
   "cell_type": "code",
   "execution_count": null,
   "id": "43009fd2",
   "metadata": {},
   "outputs": [],
   "source": [
    "#Reading the file."
   ]
  },
  {
   "cell_type": "code",
   "execution_count": null,
   "id": "bfa7a9b0",
   "metadata": {},
   "outputs": [],
   "source": [
    "df=pd.read_csv('/kaggle/input/daily-coffee-price/coffee.csv')\n",
    "df.head()"
   ]
  },
  {
   "cell_type": "markdown",
   "id": "00acc5dd",
   "metadata": {},
   "source": [
    "Check for any empty sets"
   ]
  },
  {
   "cell_type": "code",
   "execution_count": null,
   "id": "c6fdddf5",
   "metadata": {},
   "outputs": [],
   "source": [
    "#Check for any null values\n",
    "df.isnull().sum()"
   ]
  },
  {
   "cell_type": "markdown",
   "id": "2bc4c554",
   "metadata": {},
   "source": [
    "nan"
   ]
  },
  {
   "cell_type": "markdown",
   "id": "6b593894",
   "metadata": {},
   "source": [
    "Check the data type of Date column."
   ]
  },
  {
   "cell_type": "code",
   "execution_count": null,
   "id": "d6509ded",
   "metadata": {},
   "outputs": [],
   "source": [
    "#check data type of Date column, If data type is string convert it to timestamps.\n",
    "type(df['Date'].iloc[0])"
   ]
  },
  {
   "cell_type": "markdown",
   "id": "1f4f5dc1",
   "metadata": {},
   "source": [
    "Change Data type of from str to Timestamp"
   ]
  },
  {
   "cell_type": "code",
   "execution_count": null,
   "id": "ddf98552",
   "metadata": {},
   "outputs": [],
   "source": [
    "#Converting data type using built in function.\n",
    "df['Date']=pd.to_datetime(df['Date'])\n",
    "type(df['Date'].iloc[0])"
   ]
  },
  {
   "cell_type": "code",
   "execution_count": null,
   "id": "eca5321e",
   "metadata": {},
   "outputs": [],
   "source": [
    "#Set Date column of dataframe to index\n",
    "#df.set_index('Date',inplace=True)"
   ]
  },
  {
   "cell_type": "code",
   "execution_count": null,
   "id": "dea21355",
   "metadata": {},
   "outputs": [],
   "source": [
    "df.head()"
   ]
  },
  {
   "cell_type": "markdown",
   "id": "37a329ad",
   "metadata": {},
   "source": [
    "Check highest close value"
   ]
  },
  {
   "cell_type": "code",
   "execution_count": null,
   "id": "6ffe2837",
   "metadata": {},
   "outputs": [],
   "source": [
    "#Hightest close value using max() builtin funciton\n",
    "df['Close'].max()"
   ]
  },
  {
   "cell_type": "markdown",
   "id": "c4e74a94",
   "metadata": {},
   "source": [
    "Check the lowest close value as it have no correlation with other variables."
   ]
  },
  {
   "cell_type": "code",
   "execution_count": null,
   "id": "97284d4c",
   "metadata": {},
   "outputs": [],
   "source": [
    "#Lowest close value using max() builtin funciton\n",
    "df['Close'].min()"
   ]
  },
  {
   "cell_type": "markdown",
   "id": "556123bd",
   "metadata": {},
   "source": [
    "Drop Currency column"
   ]
  },
  {
   "cell_type": "code",
   "execution_count": null,
   "id": "586701ac",
   "metadata": {},
   "outputs": [],
   "source": [
    "#Droping currency column as all the values are same \"USD\"\n",
    "df.drop('Currency',axis=1,inplace=True)"
   ]
  },
  {
   "cell_type": "markdown",
   "id": "3f955942",
   "metadata": {},
   "source": [
    "Creating column of year"
   ]
  },
  {
   "cell_type": "code",
   "execution_count": null,
   "id": "15b5b232",
   "metadata": {},
   "outputs": [],
   "source": [
    "df['Year']=df['Date'].apply(lambda x: x.year)"
   ]
  },
  {
   "cell_type": "markdown",
   "id": "8f0402ac",
   "metadata": {},
   "source": [
    "Group by Year based on maximum value of corresponding columns"
   ]
  },
  {
   "cell_type": "code",
   "execution_count": null,
   "id": "c4b27c08",
   "metadata": {},
   "outputs": [],
   "source": [
    "byyear=df.groupby('Year',as_index=False).max()"
   ]
  },
  {
   "cell_type": "markdown",
   "id": "f0d20751",
   "metadata": {},
   "source": [
    "Scatter plot of volume and close value of hight Close value for each year."
   ]
  },
  {
   "cell_type": "code",
   "execution_count": null,
   "id": "60758040",
   "metadata": {},
   "outputs": [],
   "source": [
    "plt.figure(figsize=(12,12))\n",
    "sns.scatterplot(y='Close',x='Volume',data=byyear,hue='Year',size='Close',palette='deep')\n",
    "plt.legend(bbox_to_anchor=(1.05, 1),loc='upper left', borderaxespad=0.)"
   ]
  },
  {
   "cell_type": "code",
   "execution_count": null,
   "id": "f679e27c",
   "metadata": {},
   "outputs": [],
   "source": [
    "df.head()"
   ]
  },
  {
   "cell_type": "code",
   "execution_count": null,
   "id": "9eb86f69",
   "metadata": {},
   "outputs": [],
   "source": [
    "df.set_index('Date',inplace=True)"
   ]
  },
  {
   "cell_type": "markdown",
   "id": "9089937a",
   "metadata": {},
   "source": [
    "Plot graphy using plotly for Close values"
   ]
  },
  {
   "cell_type": "code",
   "execution_count": null,
   "id": "30fac68a",
   "metadata": {},
   "outputs": [],
   "source": [
    "#Plot cose values against using plotly. x_axis is Date column and y_axis is Close column\n",
    "df['Close'].iplot(legend='Close')"
   ]
  },
  {
   "cell_type": "markdown",
   "id": "9db04bbc",
   "metadata": {},
   "source": [
    "30 day moving average for Close value"
   ]
  },
  {
   "cell_type": "code",
   "execution_count": null,
   "id": "411ba7c9",
   "metadata": {},
   "outputs": [],
   "source": [
    "#Plot Close values and 30 day moving average of Close values on same graph.\n",
    "plt.figure(figsize=(24,12))\n",
    "df['Close'].plot(label='Closing')\n",
    "df['Close'].rolling(window=30).mean().plot(label='30 Day Rollling')\n",
    "df['Close'].rolling(window=90).mean().plot(label='360 Day Rollling')\n",
    "\n",
    "plt.legend()"
   ]
  },
  {
   "cell_type": "markdown",
   "id": "5544ce56",
   "metadata": {},
   "source": [
    "Bollinger band for Close value"
   ]
  },
  {
   "cell_type": "code",
   "execution_count": null,
   "id": "26d6301b",
   "metadata": {},
   "outputs": [],
   "source": [
    "#Plot bollinger band\n",
    "df['Close'].ta_plot(study='boll')"
   ]
  },
  {
   "cell_type": "markdown",
   "id": "3a3db819",
   "metadata": {},
   "source": [
    "Candle plot"
   ]
  },
  {
   "cell_type": "code",
   "execution_count": null,
   "id": "171446fe",
   "metadata": {},
   "outputs": [],
   "source": [
    "df.iplot(kind='candle')"
   ]
  },
  {
   "cell_type": "markdown",
   "id": "c0bb4a1e",
   "metadata": {},
   "source": [
    "Check the %return on stock "
   ]
  },
  {
   "cell_type": "code",
   "execution_count": null,
   "id": "221c80df",
   "metadata": {},
   "outputs": [],
   "source": [
    "returns=df['Close'].pct_change()"
   ]
  },
  {
   "cell_type": "code",
   "execution_count": null,
   "id": "15c02477",
   "metadata": {},
   "outputs": [],
   "source": [
    "returns.head()"
   ]
  },
  {
   "cell_type": "code",
   "execution_count": null,
   "id": "6136e8e6",
   "metadata": {},
   "outputs": [],
   "source": [
    "returns.std()"
   ]
  },
  {
   "cell_type": "code",
   "execution_count": null,
   "id": "53208f3b",
   "metadata": {},
   "outputs": [],
   "source": [
    "fig=px.histogram(returns, x='Close',template='simple_white')\n",
    "fig.update_layout(title={'text':'Histogram of return values'},title_x=0.5)\n",
    "fig.show()"
   ]
  },
  {
   "cell_type": "markdown",
   "id": "fc59445a",
   "metadata": {},
   "source": [
    "The returns are steady"
   ]
  },
  {
   "cell_type": "markdown",
   "id": "869f1b86",
   "metadata": {},
   "source": [
    "Check the correlation of variables"
   ]
  },
  {
   "cell_type": "code",
   "execution_count": null,
   "id": "ce0b754d",
   "metadata": {},
   "outputs": [],
   "source": [
    "df.corr()"
   ]
  },
  {
   "cell_type": "code",
   "execution_count": null,
   "id": "01946e2d",
   "metadata": {},
   "outputs": [],
   "source": [
    "sns.pairplot(df)"
   ]
  },
  {
   "cell_type": "code",
   "execution_count": null,
   "id": "236b5f22",
   "metadata": {},
   "outputs": [],
   "source": [
    "plt.figure(figsize=(20,10))\n",
    "sns.heatmap(df.corr(),annot=True,cmap='viridis')"
   ]
  },
  {
   "cell_type": "markdown",
   "id": "aa8cb3d3",
   "metadata": {},
   "source": [
    "High correlaion between variables except Volume"
   ]
  },
  {
   "cell_type": "markdown",
   "id": "c88236fc",
   "metadata": {},
   "source": [
    "Predict **Close** values using linear regression "
   ]
  },
  {
   "cell_type": "code",
   "execution_count": null,
   "id": "3c4af766",
   "metadata": {},
   "outputs": [],
   "source": [
    "lm=LinearRegression()"
   ]
  },
  {
   "cell_type": "code",
   "execution_count": null,
   "id": "53b2dcd3",
   "metadata": {},
   "outputs": [],
   "source": [
    "df.columns"
   ]
  },
  {
   "cell_type": "code",
   "execution_count": null,
   "id": "e24e46c4",
   "metadata": {},
   "outputs": [],
   "source": [
    "X=df[['Open', 'High', 'Low','Volume']]\n",
    "y=df['Close']"
   ]
  },
  {
   "cell_type": "code",
   "execution_count": null,
   "id": "044f0428",
   "metadata": {},
   "outputs": [],
   "source": [
    "X_train, X_test, y_train, y_test = train_test_split(X, y, test_size=0.30, random_state=101)"
   ]
  },
  {
   "cell_type": "code",
   "execution_count": null,
   "id": "156f1351",
   "metadata": {},
   "outputs": [],
   "source": [
    "lm.fit(X_train,y_train)"
   ]
  },
  {
   "cell_type": "code",
   "execution_count": null,
   "id": "6fb3272b",
   "metadata": {},
   "outputs": [],
   "source": [
    "#predictions\n",
    "predictions=lm.predict(X_test)"
   ]
  },
  {
   "cell_type": "code",
   "execution_count": null,
   "id": "215a15ae",
   "metadata": {},
   "outputs": [],
   "source": [
    "#Confidence score of model\n",
    "lmacc_log = round(lm.score(X_train, y_train) * 100, 2)\n",
    "print('Confidence score:',lmacc_log,'%')"
   ]
  },
  {
   "cell_type": "markdown",
   "id": "23d127d7",
   "metadata": {},
   "source": [
    "Scatter plot of predictions vs y_test"
   ]
  },
  {
   "cell_type": "code",
   "execution_count": null,
   "id": "f259c736",
   "metadata": {},
   "outputs": [],
   "source": [
    "plt.figure(figsize=(20,10))\n",
    "plt.scatter(predictions,y_test)"
   ]
  },
  {
   "cell_type": "code",
   "execution_count": null,
   "id": "ddc6d3b9",
   "metadata": {},
   "outputs": [],
   "source": [
    "plt.figure(figsize=(20,12))\n",
    "sns.histplot((predictions-y_test))"
   ]
  },
  {
   "cell_type": "code",
   "execution_count": null,
   "id": "8a2f8993",
   "metadata": {},
   "outputs": [],
   "source": [
    "from sklearn import metrics"
   ]
  },
  {
   "cell_type": "code",
   "execution_count": null,
   "id": "70dea2f0",
   "metadata": {},
   "outputs": [],
   "source": [
    "metrics.mean_absolute_error(y_test,predictions)"
   ]
  },
  {
   "cell_type": "code",
   "execution_count": null,
   "id": "77867673",
   "metadata": {},
   "outputs": [],
   "source": [
    "metrics.mean_squared_error(y_test,predictions)"
   ]
  },
  {
   "cell_type": "markdown",
   "id": "ef9c022a",
   "metadata": {},
   "source": [
    "nan"
   ]
  }
 ],
 "metadata": {},
 "nbformat": 4,
 "nbformat_minor": 5
}
