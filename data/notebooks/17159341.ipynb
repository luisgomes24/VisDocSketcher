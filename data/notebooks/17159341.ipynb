{
 "cells": [
  {
   "cell_type": "code",
   "execution_count": null,
   "id": "973706fa",
   "metadata": {},
   "outputs": [],
   "source": [
    "# This Python 3 environment comes with many helpful analytics libraries installed\n",
    "# It is defined by the kaggle/python Docker image: https://github.com/kaggle/docker-python\n",
    "# For example, here's several helpful packages to load\n",
    "\n",
    "import numpy as np # linear algebra\n",
    "import pandas as pd # data processing, CSV file I/O (e.g. pd.read_csv)\n",
    "\n",
    "# Input data files are available in the read-only \"../input/\" directory\n",
    "# For example, running this (by clicking run or pressing Shift+Enter) will list all files under the input directory\n",
    "\n",
    "import os\n",
    "for dirname, _, filenames in os.walk('/kaggle/input'):\n",
    "    for filename in filenames:\n",
    "        print(os.path.join(dirname, filename))\n",
    "\n",
    "# You can write up to 20GB to the current directory (/kaggle/working/) that gets preserved as output when you create a version using \"Save & Run All\" \n",
    "# You can also write temporary files to /kaggle/temp/, but they won't be saved outside of the current session"
   ]
  },
  {
   "cell_type": "markdown",
   "id": "9be92dc1",
   "metadata": {},
   "source": [
    "nan"
   ]
  },
  {
   "cell_type": "code",
   "execution_count": null,
   "id": "a9ac45ac",
   "metadata": {},
   "outputs": [],
   "source": [
    "## We have 3 lists here\n",
    "\n",
    "Colors = [\"Yellow\",\"Green\",\"White\",\"Black\"]\n",
    "\n",
    "Fruits=[\"Apple\",\"Papaya\",\"Mango\",\"Orange\"]\n",
    "\n",
    "Animals=[\"Tiger\",\"Lion\",\"Deer\",\"Zebra\"]"
   ]
  },
  {
   "cell_type": "markdown",
   "id": "5e363e19",
   "metadata": {},
   "source": [
    "## Q1 (i) Write a program that asks user to enter a Color/Fruit/Animal name and it should tell which category belongs to, like its is a fruit or color or Animal."
   ]
  },
  {
   "cell_type": "code",
   "execution_count": null,
   "id": "2b896ffa",
   "metadata": {},
   "outputs": [],
   "source": [
    "x = input(\"Enter a color/Fruit /Animal = \")\n",
    "if x in Colors:\n",
    "    print(\"Colors\")\n",
    "elif x in Fruits:\n",
    "    print(\"Fruits\")  \n",
    "elif x in Animals:\n",
    "    print(\"Animals\")\n",
    "else:\n",
    "    print(\"Not an valid input\")"
   ]
  },
  {
   "cell_type": "markdown",
   "id": "3e1fa891",
   "metadata": {},
   "source": [
    "## Q1 (ii). Write a program that asks user to enter two objects and it tells you if they both are in same category or not. For example if I enter Yellow and Black, it will print \"Both are Colors\" but if I enter Yellow and Tiger it should print \"They don't belong to same category\"."
   ]
  },
  {
   "cell_type": "code",
   "execution_count": null,
   "id": "bd955986",
   "metadata": {},
   "outputs": [],
   "source": [
    "x = input(\"Enter the 1st object = \" )\n",
    "y = input(\"Enter the 2nd object = \" )\n",
    "\n",
    "if (x in Colors) and (y in Colors):\n",
    "  print(\"Both are Colors!!\")\n",
    "elif (x in Fruits) and (y in Fruits):\n",
    "  print(\"Both are Fruits!!\")\n",
    "elif (x in Animals) and (y in Animals):\n",
    "  print(\"Both are Animals!!\")\n",
    "else:\n",
    "  print(\"They don't belong to the same category!!\")"
   ]
  },
  {
   "cell_type": "markdown",
   "id": "3ef6f4f1",
   "metadata": {},
   "source": [
    "## Q2.  Write a python program that can tell you if your grade score good or not . Good Score range is 40 to 60.\n",
    "\n",
    "## i. Ask user to enter his score.\n",
    "\n",
    "## ii. If it is below 40 then print that score is low\n",
    "\n",
    "##  iii. If it is above 60 then print that it is good otherwise print that it is normal"
   ]
  },
  {
   "cell_type": "code",
   "execution_count": null,
   "id": "81a5db5e",
   "metadata": {},
   "outputs": [],
   "source": [
    "x = float(input(\"Enter your score \" ))\n",
    "if x < 40:\n",
    "  print(\"Your score is LOW\")\n",
    "elif x > 60:\n",
    "  print(\"Your score is GOOD\")\n",
    "else:\n",
    "  print(\"Your score is NORMAL\")"
   ]
  },
  {
   "cell_type": "markdown",
   "id": "93637406",
   "metadata": {},
   "source": [
    "## Q3.  After appearing in exam 10 times you got this result,\n",
    "\n",
    "## result = [\"Pass\",\"Fail\",\"Fail\",\"Pass\",\"Fail\",\"Pass\",\"Pass\",\"Fail\",\"Fail\",\"Fail\"]\n",
    "\n",
    "## Using for loop figure out how many times you got Pass"
   ]
  },
  {
   "cell_type": "code",
   "execution_count": null,
   "id": "1ef85301",
   "metadata": {},
   "outputs": [],
   "source": [
    "Result = [\"Pass\", \"Fail\", \"Fail\", \"Pass\", \"Fail\", \"Pass\", \"Pass\", \"Fail\", \"Fail\", \"Fail\"]\n",
    "count = 0\n",
    "for i in Result:\n",
    "  if i == \"Pass\":\n",
    "    count = count + 1\n",
    "print(\"I have passed the exam {} number of times.\".format(count))"
   ]
  },
  {
   "cell_type": "markdown",
   "id": "b8e880e7",
   "metadata": {},
   "source": [
    "## Q4.  Write a program that prints following shape\n",
    "\n",
    "## *\n",
    "\n",
    "## * *\n",
    "\n",
    "## * * *\n",
    "\n",
    "## * * * *\n",
    "\n",
    "## * * * * *\n",
    "\n",
    "## * * * *\n",
    "\n",
    "## * * *\n",
    "\n",
    "## * *\n",
    "\n",
    "## *"
   ]
  },
  {
   "cell_type": "code",
   "execution_count": null,
   "id": "96e2d784",
   "metadata": {},
   "outputs": [],
   "source": [
    "N=int(input(\"Enter the no. of rows of solid half diamond\"))\n",
    "for i in range(N):\n",
    "    if i<(N/2)+1:\n",
    "        for j in range(0,i):\n",
    "            print(\"*\",end=\" \")\n",
    "    else:\n",
    "        for j in range(0,10-i):\n",
    "            print(\"*\",end=\" \")\n",
    "    print(\" \")\n",
    "   "
   ]
  },
  {
   "cell_type": "markdown",
   "id": "41371a60",
   "metadata": {},
   "source": [
    "## Q5.   Lets say you are running a 50 km race. Write a program that,\n",
    "## Upon completing each 10 km asks you \"are you tired?\"\n",
    "## If you reply \"yes\" then it should break and print \"you didn't finish the race\"\n",
    "## If you reply \"no\" then it should continue and ask \"are you tired\" on every 10 km\n",
    "## If you finish all 50 km then it should print congratulations message\n"
   ]
  },
  {
   "cell_type": "code",
   "execution_count": null,
   "id": "aa5490f1",
   "metadata": {},
   "outputs": [],
   "source": [
    "Distance = 50\n",
    "for i in range(1,Distance+1):\n",
    "    if (i%10==0) and i!=50:\n",
    "        x=input(\"Are you tired? Yes or No ===>\")\n",
    "        if x==\"Yes\" or x==\"yes\":\n",
    "            print(\"You didn't finish the race!!\")\n",
    "            break\n",
    "        else:\n",
    "            continue\n",
    "    elif (i%10==0) and i==50:\n",
    "        print(\"Congratulations, you finished race successfully !!!!\")"
   ]
  },
  {
   "cell_type": "markdown",
   "id": "5d7c0b8e",
   "metadata": {},
   "source": [
    "## Q6. Write a Python program to find those numbers which are divisible by 7 and multiple of 5, between 1500 and 2700 (both included)."
   ]
  },
  {
   "cell_type": "code",
   "execution_count": null,
   "id": "8baad899",
   "metadata": {},
   "outputs": [],
   "source": [
    "print(\"Numbers within the 1500 and 2700, divisible by 7 and multiple of 5 are:\")\n",
    "for i in range (1499,2701):\n",
    "    if i%7==0 and i%5==0:\n",
    "        print(i)"
   ]
  },
  {
   "cell_type": "markdown",
   "id": "6c8bb974",
   "metadata": {},
   "source": [
    "## Q7. Print square of all numbers between 10 to 20 except even numbers"
   ]
  },
  {
   "cell_type": "code",
   "execution_count": null,
   "id": "80ff3981",
   "metadata": {},
   "outputs": [],
   "source": [
    "print(\"Squres of numbers between 10 and 20, except even numbers are:  \")\n",
    "for i in range(10,20):\n",
    "    if i%2==0:\n",
    "        continue\n",
    "    else:\n",
    "        print(i*i)"
   ]
  },
  {
   "cell_type": "markdown",
   "id": "ac95e84b",
   "metadata": {},
   "source": [
    "## Q.8 Your Marks for five Test(test1 to test5) looks like this,\n",
    "\n",
    "## marks_list = [65, 75, 2100, 95, 83]\n",
    "\n",
    "## Write a program that asks you to enter marks and program should tell you in which test that marks occurred. If marks is not found then it should print that as well."
   ]
  },
  {
   "cell_type": "code",
   "execution_count": null,
   "id": "b9f0b878",
   "metadata": {},
   "outputs": [],
   "source": [
    "marks_list = [65, 75, 2100, 95, 83]\n",
    "l=len(marks_list)\n",
    "x=int(input(\"Enter your marks ==>\"))\n",
    "for i in marks_list:\n",
    "    indx=marks_list.index(i)\n",
    "    if i==x:\n",
    "        print(\"You secured marks {} Test{}\".format(x,indx+1))\n",
    "    elif indx==l-1:\n",
    "        print(\"We have not found any test with marks {}\".format(x))"
   ]
  },
  {
   "cell_type": "code",
   "execution_count": null,
   "id": "dfef5d2f",
   "metadata": {},
   "outputs": [],
   "source": [
    "nan"
   ]
  }
 ],
 "metadata": {},
 "nbformat": 4,
 "nbformat_minor": 5
}
