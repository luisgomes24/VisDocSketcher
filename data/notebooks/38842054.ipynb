{
 "cells": [
  {
   "cell_type": "markdown",
   "id": "0bb6f2fa",
   "metadata": {},
   "source": [
    "# Data Description\n",
    "**Files**\n",
    "- `index.json`: a dict of index-character pairs\n",
    "- `train.npy`: train numpy data, a `(F,75,3)` shape numpy object array\n",
    "    - `F` stand for the amount of total frames in train dataset\n",
    "    - `75` is the amount of skeleton points(without face points)\n",
    "    - `3` is the `[x,y,z]` coordinates\n",
    "- `train.pickle`: train labels, a dict\n",
    "    1. `label_list`: a list of labels, each label is a array of character's index\n",
    "    2. `sequence_id`: a list of sequence_id.\n",
    "    3. `start_list`: a list of each sequence index frames\n",
    "    4. `length_list`: a list of each sequence length"
   ]
  },
  {
   "cell_type": "markdown",
   "id": "36581361",
   "metadata": {},
   "source": [
    "# Config"
   ]
  },
  {
   "cell_type": "code",
   "execution_count": null,
   "id": "e38ea086",
   "metadata": {},
   "outputs": [],
   "source": [
    "import json\n",
    "import pickle\n",
    "import pandas as pd\n",
    "import numpy as np\n",
    "from tqdm import tqdm"
   ]
  },
  {
   "cell_type": "markdown",
   "id": "fd052f71",
   "metadata": {},
   "source": [
    "# Data Process"
   ]
  },
  {
   "cell_type": "code",
   "execution_count": null,
   "id": "3e8525a8",
   "metadata": {},
   "outputs": [],
   "source": [
    "train_df = pd.read_csv(\"/kaggle/input/asl-fingerspelling/train.csv\")\n",
    "train_df.head()"
   ]
  },
  {
   "cell_type": "markdown",
   "id": "103b71ae",
   "metadata": {},
   "source": [
    "## Character Index"
   ]
  },
  {
   "cell_type": "code",
   "execution_count": null,
   "id": "f5578aae",
   "metadata": {},
   "outputs": [],
   "source": [
    "char_index = json.load(open(\"/kaggle/input/asl-fingerspelling/character_to_prediction_index.json\"))\n",
    "print(char_index)\n",
    "\n",
    "index_char = dict([val, key] for key, val in char_index.items())\n",
    "print(index_char)\n",
    "\n",
    "with open('index.json','w') as f:\n",
    "    b = json.dump(index_char, f)"
   ]
  },
  {
   "cell_type": "markdown",
   "id": "2962c35a",
   "metadata": {},
   "source": [
    "## Sequence List"
   ]
  },
  {
   "cell_type": "code",
   "execution_count": null,
   "id": "c157d1eb",
   "metadata": {},
   "outputs": [],
   "source": [
    "sequence_id_list = train_df.sequence_id.tolist()"
   ]
  },
  {
   "cell_type": "markdown",
   "id": "9b91edc6",
   "metadata": {},
   "source": [
    "## Label List"
   ]
  },
  {
   "cell_type": "code",
   "execution_count": null,
   "id": "a6e59c51",
   "metadata": {},
   "outputs": [],
   "source": [
    "phrase_list = train_df.phrase.to_list()\n",
    "label_list = []\n",
    "for p in phrase_list:\n",
    "    p = list(p)\n",
    "    label = []\n",
    "    for i in p:\n",
    "        label.append(char_index[i])\n",
    "    label_list.append(label)"
   ]
  },
  {
   "cell_type": "markdown",
   "id": "229e4395",
   "metadata": {},
   "source": [
    "## Start List & Length List"
   ]
  },
  {
   "cell_type": "code",
   "execution_count": null,
   "id": "cfd86dbc",
   "metadata": {},
   "outputs": [],
   "source": [
    "dataset_path = \"/kaggle/input/asl-fingerspelling\"\n",
    "cur_file = ''\n",
    "len_list = []\n",
    "start_list = []\n",
    "length = 0"
   ]
  },
  {
   "cell_type": "code",
   "execution_count": null,
   "id": "f2cce9a9",
   "metadata": {},
   "outputs": [],
   "source": [
    "for i in tqdm(range(len(train_df))):\n",
    "    file_name = train_df.path.iloc[i]\n",
    "    sequence_id = train_df.sequence_id.iloc[i]\n",
    "    if cur_file != file_name:\n",
    "        file_df = pd.read_parquet(f\"{dataset_path}/{file_name}\")\n",
    "        cur_file = file_name\n",
    "        file_df = file_df.reset_index()\n",
    "    \n",
    "    frames_df = file_df[file_df.sequence_id == sequence_id]\n",
    "    len_list.append(len(frames_df))\n",
    "    start_list.append(length)\n",
    "    length += len(frames_df)"
   ]
  },
  {
   "cell_type": "code",
   "execution_count": null,
   "id": "23f710df",
   "metadata": {},
   "outputs": [],
   "source": [
    "LENGTH = 10749578\n",
    "LANDMARKS = 543\n",
    "HAND_INDEX = 468\n",
    "LANDMARK_LENGTH = 543 - 468"
   ]
  },
  {
   "cell_type": "code",
   "execution_count": null,
   "id": "665742fa",
   "metadata": {},
   "outputs": [],
   "source": [
    "dicts = {'label_list':label_list,'sequence_id_list':sequence_id_list,'start_list':start_list,'length_list':len_list}\n",
    "with open('train.pickle','wb') as f:\n",
    "    pickle.dump(dicts,f)"
   ]
  },
  {
   "cell_type": "code",
   "execution_count": null,
   "id": "415a7640",
   "metadata": {},
   "outputs": [],
   "source": [
    "train_npy = np.zeros((length,75,3))\n",
    "# train_npy = np.random.rand(LENGTH,75,3)\n",
    "train_npy.shape"
   ]
  },
  {
   "cell_type": "code",
   "execution_count": null,
   "id": "ed290def",
   "metadata": {},
   "outputs": [],
   "source": [
    "for i in tqdm(range(len(train_df))):\n",
    "    file_name = train_df.path.iloc[i]\n",
    "    sequence_id = train_df.sequence_id.iloc[i]\n",
    "    if cur_file != file_name:\n",
    "        file_df = pd.read_parquet(f\"{dataset_path}/{file_name}\")\n",
    "        cur_file = file_name\n",
    "        file_df = file_df.reset_index()\n",
    "\n",
    "    frames_df = file_df[file_df.sequence_id == sequence_id]\n",
    "    frames_df = frames_df.iloc[:, 2:]\n",
    "    frames = np.array(frames_df)\n",
    "    train_npy[start_list[i]:start_list[i]+len_list[i],:,0] = frames[:,LANDMARKS*0+HAND_INDEX:LANDMARKS*0+HAND_INDEX+LANDMARK_LENGTH]\n",
    "    train_npy[start_list[i]:start_list[i]+len_list[i],:,1] = frames[:,LANDMARKS*1+HAND_INDEX:LANDMARKS*1+HAND_INDEX+LANDMARK_LENGTH]\n",
    "    train_npy[start_list[i]:start_list[i]+len_list[i],:,2] = frames[:,LANDMARKS*2+HAND_INDEX:LANDMARKS*2+HAND_INDEX+LANDMARK_LENGTH]\n",
    "    \n",
    "# train_npy = np.array(train_list)\n",
    "print(train_npy.shape)"
   ]
  },
  {
   "cell_type": "code",
   "execution_count": null,
   "id": "c41aa77e",
   "metadata": {},
   "outputs": [],
   "source": [
    "np.save('train.npy', train_npy)"
   ]
  }
 ],
 "metadata": {},
 "nbformat": 4,
 "nbformat_minor": 5
}
