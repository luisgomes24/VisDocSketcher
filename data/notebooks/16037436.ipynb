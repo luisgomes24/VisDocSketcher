{
 "cells": [
  {
   "cell_type": "code",
   "execution_count": null,
   "id": "244ab1e3",
   "metadata": {},
   "outputs": [],
   "source": [
    "# This Python 3 environment comes with many helpful analytics libraries installed\n",
    "# It is defined by the kaggle/python Docker image: https://github.com/kaggle/docker-python\n",
    "# For example, here's several helpful packages to load\n",
    "\n",
    "import numpy as np # linear algebra\n",
    "import pandas as pd # data processing, CSV file I/O (e.g. pd.read_csv)\n",
    "\n",
    "# Input data files are available in the read-only \"../input/\" directory\n",
    "# For example, running this (by clicking run or pressing Shift+Enter) will list all files under the input directory\n",
    "\n",
    "import os\n",
    "for dirname, _, filenames in os.walk('/kaggle/input'):\n",
    "    for filename in filenames:\n",
    "        print(os.path.join(dirname, filename))\n",
    "\n",
    "# You can write up to 20GB to the current directory (/kaggle/working/) that gets preserved as output when you create a version using \"Save & Run All\" \n",
    "# You can also write temporary files to /kaggle/temp/, but they won't be saved outside of the current session"
   ]
  },
  {
   "cell_type": "code",
   "execution_count": null,
   "id": "a2297a9e",
   "metadata": {},
   "outputs": [],
   "source": [
    "!pip install xlrd\n",
    "!pip install openpyxl "
   ]
  },
  {
   "cell_type": "code",
   "execution_count": null,
   "id": "ceb0fcac",
   "metadata": {},
   "outputs": [],
   "source": [
    "import pandas as pd\n",
    "import numpy as np\n",
    "import matplotlib.pyplot as plt\n",
    "import seaborn as sns\n",
    "from sklearn.preprocessing import StandardScaler\n",
    "from sklearn.model_selection import train_test_split\n",
    "from sklearn.linear_model import LogisticRegression\n",
    "from sklearn.metrics import classification_report\n",
    "from sklearn.model_selection import cross_val_score\n",
    "from xgboost import XGBClassifier\n",
    "import warnings\n",
    "warnings.filterwarnings(action='ignore') \n",
    "from sklearn.neighbors import KNeighborsClassifier\n",
    "from sklearn.tree import DecisionTreeClassifier\n",
    "from sklearn.svm import SVC\n",
    "from sklearn.ensemble import RandomForestClassifier,AdaBoostClassifier,BaggingClassifier,ExtraTreesClassifier\n",
    "from sklearn.decomposition import PCA\n",
    "from sklearn.model_selection import GridSearchCV\n",
    "from sklearn.preprocessing import MinMaxScaler\n",
    "from sklearn.metrics import accuracy_score\n",
    "from sklearn.preprocessing import LabelEncoder\n",
    "le=LabelEncoder()\n",
    "import warnings\n",
    "warnings.filterwarnings('ignore')"
   ]
  },
  {
   "cell_type": "code",
   "execution_count": null,
   "id": "b106cf23",
   "metadata": {},
   "outputs": [],
   "source": [
    "train=pd.read_excel('/kaggle/input/predicting-food-delivery-time/Participants Data/Data_Train.xlsx')\n",
    "test=pd.read_excel('/kaggle/input/predicting-food-delivery-time/Participants Data/Data_Test.xlsx')\n",
    "sample=pd.read_excel('/kaggle/input/predicting-food-delivery-time/Participants Data/Sample_Submission.xlsx')\n"
   ]
  },
  {
   "cell_type": "code",
   "execution_count": null,
   "id": "fcf4fa36",
   "metadata": {},
   "outputs": [],
   "source": [
    "# Train data preprocessing(Referring to Sabin Hashmi code for data preprocessing, I would like to thank Sabin Hashmi.)\n",
    "train['Restaurant']=le.fit_transform(train['Restaurant'])\n",
    "train['Minimum_Order']=pd.to_numeric(train['Minimum_Order'].str.replace('₹',' '))\n",
    "train['Average_Cost']=pd.to_numeric(train['Average_Cost'].str.replace('[^0-9]',''))\n",
    "train['Rating']=pd.to_numeric(train['Rating'].apply(lambda x : np.nan if x in ['Temporarily Closed','Opening Soon','-','NEW'] else x))\n",
    "train['Votes']=pd.to_numeric(train['Votes'].apply(lambda x : np.nan if x=='-' else x))\n",
    "train['Reviews']=pd.to_numeric(train['Reviews'].apply(lambda x : np.nan if x=='-' else x))\n",
    "train['Delivery_Time']=pd.to_numeric(train['Delivery_Time'].str.replace('[^0-9]',''))"
   ]
  },
  {
   "cell_type": "code",
   "execution_count": null,
   "id": "ff8a017a",
   "metadata": {},
   "outputs": [],
   "source": [
    "# Test data preprocessing\n",
    "test['Restaurant']=le.fit_transform(test['Restaurant'])\n",
    "test['Minimum_Order']=pd.to_numeric(test['Minimum_Order'].str.replace('₹',' '))\n",
    "test['Average_Cost']=pd.to_numeric(test['Average_Cost'].str.replace('[^0-9]',''))\n",
    "test['Rating']=pd.to_numeric(test['Rating'].apply(lambda x : np.nan if x in ['Temporarily Closed','Opening Soon','-','NEW'] else x))\n",
    "test['Votes']=pd.to_numeric(test['Votes'].apply(lambda x : np.nan if x=='-' else x))\n",
    "test['Reviews']=pd.to_numeric(test['Reviews'].apply(lambda x : np.nan if x=='-' else x))\n",
    "test['Rating']=test['Rating'].fillna(test['Rating'].median())\n",
    "test['Votes']=test['Votes'].fillna(test['Votes'].mode()[0])\n",
    "test['Reviews']=test['Reviews'].fillna(test['Reviews'].median())\n",
    "test['Average_Cost']=test['Average_Cost'].fillna(test['Average_Cost'].mean())\n",
    "sample['Delivery_Time'] = sample['Delivery_Time'].str.replace(' minutes','').astype('int64')"
   ]
  },
  {
   "cell_type": "code",
   "execution_count": null,
   "id": "56927623",
   "metadata": {},
   "outputs": [],
   "source": [
    "# train location data one hot encoding\n",
    "for i in range(len(train)):\n",
    "    train['Location'][i] = train['Location'][i].split(',')\n",
    "    train['Location'][i] = [line.strip() for line in train['Location'][i]]\n",
    "\n",
    "train_location_df = pd.DataFrame()\n",
    "\n",
    "for n in range(len(train)):\n",
    "    location = train['Location'][n]\n",
    "    location_df = pd.DataFrame()\n",
    "    for i in location:\n",
    "        location_df[i] = [1]\n",
    "        \n",
    "    train_location_df = pd.concat([train_location_df, location_df], ignore_index=True)\n",
    "\n",
    "train_location_df.rename(columns ={\"\" : 'None'}, inplace = True )\n",
    "train_location_df.head()"
   ]
  },
  {
   "cell_type": "code",
   "execution_count": null,
   "id": "bdf9112a",
   "metadata": {},
   "outputs": [],
   "source": [
    "# train cuisines data one hot encoding\n",
    "for i in range(len(train)):\n",
    "    train['Cuisines'][i] = train['Cuisines'][i].split(',')\n",
    "    train['Cuisines'][i] = [line.strip() for line in train['Cuisines'][i]]\n",
    "\n",
    "train_cuisines_df = pd.DataFrame()\n",
    "\n",
    "for n in range(len(train)):\n",
    "    cuisines = train['Cuisines'][n]\n",
    "    cuisines_df = pd.DataFrame()\n",
    "    for i in cuisines:\n",
    "        cuisines_df[i] = [1]\n",
    "        \n",
    "    train_cuisines_df = pd.concat([train_cuisines_df, cuisines_df], ignore_index=True)\n",
    "\n",
    "train_cuisines_df.rename(columns ={\"\" : 'None'}, inplace = True )\n",
    "train_cuisines_df.head()"
   ]
  },
  {
   "cell_type": "code",
   "execution_count": null,
   "id": "bc580590",
   "metadata": {},
   "outputs": [],
   "source": [
    "# test location data one hot encoding\n",
    "for i in range(len(test)):\n",
    "    test['Location'][i] = test['Location'][i].split(',')\n",
    "    test['Location'][i] = [line.strip() for line in test['Location'][i]]\n",
    "\n",
    "test_location_df = pd.DataFrame()\n",
    "\n",
    "for n in range(len(test)):\n",
    "    location = test['Location'][n]\n",
    "    location_df = pd.DataFrame()\n",
    "    for i in location:\n",
    "        location_df[i] = [1]\n",
    "        \n",
    "    test_location_df = pd.concat([test_location_df, location_df], ignore_index=True)\n",
    "\n",
    "test_location_df.rename(columns ={\"\" : 'None'}, inplace = True )\n",
    "test_location_df.head()"
   ]
  },
  {
   "cell_type": "code",
   "execution_count": null,
   "id": "221d44db",
   "metadata": {},
   "outputs": [],
   "source": [
    "# test cuisines data one hot encoding\n",
    "\n",
    "for i in range(len(test)):\n",
    "    test['Cuisines'][i] = test['Cuisines'][i].split(',')\n",
    "    test['Cuisines'][i] = [line.strip() for line in test['Cuisines'][i]]\n",
    "test_cuisines_df = pd.DataFrame()\n",
    "\n",
    "for n in range(len(test)):\n",
    "    cuisines = test['Cuisines'][n]\n",
    "    cuisines_df = pd.DataFrame()\n",
    "    for i in cuisines:\n",
    "        cuisines_df[i] = [1]\n",
    "        \n",
    "    test_cuisines_df = pd.concat([test_cuisines_df, cuisines_df], ignore_index=True)\n",
    "    \n",
    "test_cuisines_df.rename(columns ={\"\" : 'None'}, inplace = True )\n",
    "test_cuisines_df.head()   "
   ]
  },
  {
   "cell_type": "code",
   "execution_count": null,
   "id": "af4e8b1a",
   "metadata": {},
   "outputs": [],
   "source": [
    "# Fill columns without each other\n",
    "number = 0\n",
    "ls=[]\n",
    "for i in train_cuisines_df.columns:\n",
    "    ls.append(i)\n",
    "    ls[number].replace(' ','')\n",
    "    number = number+1\n",
    "    \n",
    "number = 0\n",
    "ls2=[]\n",
    "for i in test_cuisines_df.columns:\n",
    "    ls2.append(i)\n",
    "    ls2[number].replace(' ','')\n",
    "    number = number +1\n",
    "    \n",
    "complement = list(set(ls) - set(ls2))\n",
    "complement2 = list(set(ls2) - set(ls))\n",
    "\n",
    "for i in complement2:\n",
    "    train_cuisines_df[i] = np.nan\n",
    "train_cuisines_df.rename(columns ={\"\" : 'None'}, inplace = True )\n",
    "train_cuisines_df.head()   \n",
    "\n",
    "for i in complement:\n",
    "    test_cuisines_df[i] = np.nan\n",
    "test_cuisines_df.rename(columns ={\"\" : 'None'}, inplace = True )\n",
    "test_cuisines_df.head()"
   ]
  },
  {
   "cell_type": "code",
   "execution_count": null,
   "id": "7766b766",
   "metadata": {},
   "outputs": [],
   "source": [
    "# Normalize and fill in missing values\n",
    "train_02=train.copy()\n",
    "del train_02['Cuisines']\n",
    "del train_02['Location']\n",
    "train_02=train_02.drop('Delivery_Time',axis=1)\n",
    "scaler=MinMaxScaler()\n",
    "X_scaled_d = scaler.fit_transform(train_02)\n",
    "X_scaled = pd.DataFrame(X_scaled_d, index=train_02.index, columns=train_02.columns)\n",
    "X_scaled = X_scaled[['Restaurant']]\n",
    "train_02 = pd.merge(X_scaled,train_location_df, left_index =True, right_index =True, how= 'left')\n",
    "train_02 = pd.merge(train_02,train_cuisines_df, left_index =True, right_index =True, how= 'left')\n",
    "train_02 = train_02.fillna(0)\n",
    "x=train_02\n",
    "y=train['Delivery_Time']"
   ]
  },
  {
   "cell_type": "code",
   "execution_count": null,
   "id": "f2585311",
   "metadata": {},
   "outputs": [],
   "source": [
    "X_train,X_test,y_train,y_test=train_test_split(x,y,test_size=0.3,random_state=50)"
   ]
  },
  {
   "cell_type": "markdown",
   "id": "9a99041e",
   "metadata": {},
   "source": [
    "#  LogisticRegression "
   ]
  },
  {
   "cell_type": "code",
   "execution_count": null,
   "id": "5af2ed22",
   "metadata": {},
   "outputs": [],
   "source": [
    "model_lr = LogisticRegression()\n",
    "model_lr.fit(X_train, y_train)\n",
    "scores = cross_val_score(model_lr, X_train,y_train, cv=10) # model, train, target, cross validation\n",
    "print('cross-val-score \\n{}'.format(scores))\n",
    "print('cross-val-score.mean \\n{:.3f}'.format(scores.mean()))"
   ]
  },
  {
   "cell_type": "code",
   "execution_count": null,
   "id": "1ad4fc1b",
   "metadata": {},
   "outputs": [],
   "source": [
    "pred = model_lr.predict(X_test)\n",
    "print(\"Test Accuracy: {}%\".format(round(model_lr.score(X_test, y_test)*100, 2)))\n",
    "print(classification_report(y_test, pred))"
   ]
  },
  {
   "cell_type": "code",
   "execution_count": null,
   "id": "352af665",
   "metadata": {},
   "outputs": [],
   "source": [
    "model_coef = pd.DataFrame(data=model_lr.coef_[0][:20], index=x.columns[:20], columns=['Model Coefficient'])\n",
    "model_coef.sort_values(by='Model Coefficient', ascending=False, inplace=True)\n",
    "plt.bar(model_coef.index, model_coef['Model Coefficient'])\n",
    "plt.xticks(rotation=90)\n",
    "plt.grid()\n",
    "plt.show()"
   ]
  },
  {
   "cell_type": "markdown",
   "id": "e37e6e6f",
   "metadata": {},
   "source": [
    "# XGBClassifier"
   ]
  },
  {
   "cell_type": "code",
   "execution_count": null,
   "id": "ecd1d25b",
   "metadata": {},
   "outputs": [],
   "source": [
    "model_xgb = XGBClassifier()\n",
    "train_X = X_train.values\n",
    "model_xgb.fit(train_X, y_train)\n",
    "scores = cross_val_score(model_xgb, train_X,y_train, cv=10) # model, train, target, cross validation\n",
    "print('cross-val-score \\n{}'.format(scores))\n",
    "print('cross-val-score.mean \\n{:.3f}'.format(scores.mean()))"
   ]
  },
  {
   "cell_type": "code",
   "execution_count": null,
   "id": "33ae1ff2",
   "metadata": {},
   "outputs": [],
   "source": [
    "test_X = X_test.values\n",
    "pred = model_xgb.predict(test_X)\n",
    "print(\"Test Accuracy: {}%\".format(round(model_xgb.score(test_X, y_test)*100, 2)))\n",
    "\n",
    "print(classification_report(y_test, pred))"
   ]
  },
  {
   "cell_type": "code",
   "execution_count": null,
   "id": "b0093a0d",
   "metadata": {},
   "outputs": [],
   "source": [
    "fig = plt.figure(figsize=(10, 10))\n",
    "\n",
    "model_coef = pd.DataFrame(data=model_xgb.feature_importances_, index=x.columns, columns=['Model Coefficient'])\n",
    "model_coef.sort_values(by='Model Coefficient', ascending=False, inplace=True)\n",
    "plt.barh(model_coef.index[:30], model_coef['Model Coefficient'][:30])\n",
    "plt.xticks(rotation=90)\n",
    "plt.grid()\n",
    "plt.show()"
   ]
  },
  {
   "cell_type": "markdown",
   "id": "eff9f2f9",
   "metadata": {},
   "source": [
    "# DecisionTreeClassifier"
   ]
  },
  {
   "cell_type": "code",
   "execution_count": null,
   "id": "b0561ea7",
   "metadata": {},
   "outputs": [],
   "source": [
    "dt = DecisionTreeClassifier()\n",
    "dt.fit(X_train, y_train)\n",
    "scores = cross_val_score(dt, X_train,y_train, cv=10) # model, train, target, cross validation\n",
    "print('cross-val-score \\n{}'.format(scores))\n",
    "print('cross-val-score.mean \\n{:.3f}'.format(scores.mean()))"
   ]
  },
  {
   "cell_type": "code",
   "execution_count": null,
   "id": "71e9240b",
   "metadata": {},
   "outputs": [],
   "source": [
    "pred = dt.predict(X_test)\n",
    "print(\"Test Accuracy: {}%\".format(round(dt.score(X_test, y_test)*100, 2)))\n",
    "print(classification_report(y_test, pred))"
   ]
  },
  {
   "cell_type": "code",
   "execution_count": null,
   "id": "261ff1fb",
   "metadata": {},
   "outputs": [],
   "source": [
    "fig = plt.figure(figsize=(10, 10))\n",
    "\n",
    "model_coef = pd.DataFrame(data=dt.feature_importances_, index=x.columns, columns=['Model Coefficient'])\n",
    "model_coef.sort_values(by='Model Coefficient', ascending=False, inplace=True)\n",
    "plt.barh(model_coef.index[:30], model_coef['Model Coefficient'][:30])\n",
    "plt.xticks(rotation=90)\n",
    "plt.grid()\n",
    "plt.show()"
   ]
  },
  {
   "cell_type": "markdown",
   "id": "c13f04b6",
   "metadata": {},
   "source": [
    "# KNN"
   ]
  },
  {
   "cell_type": "code",
   "execution_count": null,
   "id": "da29a8e3",
   "metadata": {},
   "outputs": [],
   "source": [
    "best_Kvalue = 0\n",
    "best_score = 0\n",
    "for i in range(2,15):\n",
    "    knn = KNeighborsClassifier(n_neighbors=i)\n",
    "    knn.fit(X_train, y_train)\n",
    "    pred = knn.predict(X_test)\n",
    "    score = round(knn.score(X_test, y_test)*100,2)\n",
    "#     print(f\"Test Accuracy: {score}%, knn number {i}\")\n",
    "    if score > best_score:\n",
    "        \n",
    "        best_score = round(score)\n",
    "        best_Kvalue = i\n",
    "        \n",
    "print(f\"Best KNN Value: {best_Kvalue}\")\n",
    "print(f\"Test Accuracy: {best_score}%\")"
   ]
  },
  {
   "cell_type": "code",
   "execution_count": null,
   "id": "2b0753c2",
   "metadata": {},
   "outputs": [],
   "source": [
    "knn = KNeighborsClassifier(n_neighbors=best_Kvalue)\n",
    "knn.fit(X_train, y_train)\n",
    "pred = knn.predict(X_test)\n",
    "print(\"KNN Classifier report: \\n\\n\", classification_report(y_test, pred))"
   ]
  },
  {
   "cell_type": "markdown",
   "id": "1e89da7c",
   "metadata": {},
   "source": [
    "# SVM"
   ]
  },
  {
   "cell_type": "code",
   "execution_count": null,
   "id": "fcb07ea4",
   "metadata": {},
   "outputs": [],
   "source": [
    "svm = SVC(random_state=42, gamma=\"auto\")\n",
    "svm.fit(X_train, y_train)\n",
    "scores = cross_val_score(svm, X_train,y_train, cv=10) \n",
    "print('cross-val-score \\n{}'.format(scores))\n",
    "print('cross-val-score.mean \\n{:.3f}'.format(scores.mean()))\n"
   ]
  },
  {
   "cell_type": "code",
   "execution_count": null,
   "id": "6d17ecf0",
   "metadata": {},
   "outputs": [],
   "source": [
    "pred = svm.predict(X_test)\n",
    "print(\"Test Accuracy: {}%\".format(round(svm.score(X_test, y_test)*100, 2)))\n",
    "print(\"SVM Classifier report: \\n\\n\", classification_report(y_test, pred))"
   ]
  },
  {
   "cell_type": "markdown",
   "id": "c60f6266",
   "metadata": {},
   "source": [
    "# RandomForestClassifier"
   ]
  },
  {
   "cell_type": "code",
   "execution_count": null,
   "id": "5c378b04",
   "metadata": {},
   "outputs": [],
   "source": [
    "rf = RandomForestClassifier(n_estimators=100, random_state=42)\n",
    "rf.fit(X_train, y_train)\n",
    "scores = cross_val_score(rf, X_train,y_train, cv=10) \n",
    "print('cross-val-score \\n{}'.format(scores))\n",
    "print('cross-val-score.mean \\n{:.3f}'.format(scores.mean()))\n"
   ]
  },
  {
   "cell_type": "code",
   "execution_count": null,
   "id": "701eb399",
   "metadata": {},
   "outputs": [],
   "source": [
    "ypred = rf.predict(X_test)\n",
    "print(\"Test Accuracy: {}%\".format(round(rf.score(X_test, y_test)*100, 2)))\n",
    "print(\"Random Forest Classifier report: \\n\\n\", classification_report(y_test, ypred))"
   ]
  },
  {
   "cell_type": "code",
   "execution_count": null,
   "id": "7c47f270",
   "metadata": {},
   "outputs": [],
   "source": [
    "fig = plt.figure(figsize=(10, 10))\n",
    "\n",
    "model_coef = pd.DataFrame(data=rf.feature_importances_, index=x.columns, columns=['Model Coefficient'])\n",
    "model_coef.sort_values(by='Model Coefficient', ascending=False, inplace=True)\n",
    "plt.barh(model_coef.index[:30], model_coef['Model Coefficient'][:30])\n",
    "plt.xticks(rotation=90)\n",
    "plt.grid()\n",
    "plt.show()"
   ]
  },
  {
   "cell_type": "markdown",
   "id": "2559e45b",
   "metadata": {},
   "source": [
    "# AdaBoostClassifier"
   ]
  },
  {
   "cell_type": "code",
   "execution_count": null,
   "id": "39d56579",
   "metadata": {},
   "outputs": [],
   "source": [
    "ada=AdaBoostClassifier()\n",
    "ada.fit(X_train, y_train)\n",
    "scores = cross_val_score(ada, X_train,y_train, cv=10) \n",
    "print('cross-val-score \\n{}'.format(scores))\n",
    "print('cross-val-score.mean \\n{:.3f}'.format(scores.mean()))"
   ]
  },
  {
   "cell_type": "code",
   "execution_count": null,
   "id": "89dbdc2c",
   "metadata": {},
   "outputs": [],
   "source": [
    "ypred = ada.predict(X_test)\n",
    "print(\"Test Accuracy: {}%\".format(round(ada.score(X_test, y_test)*100, 2)))\n",
    "print(\"Random Forest Classifier report: \\n\\n\", classification_report(y_test, ypred))"
   ]
  },
  {
   "cell_type": "code",
   "execution_count": null,
   "id": "c95ea9ad",
   "metadata": {},
   "outputs": [],
   "source": [
    "fig = plt.figure(figsize=(10, 10))\n",
    "\n",
    "model_coef = pd.DataFrame(data=ada.feature_importances_, index=x.columns, columns=['Model Coefficient'])\n",
    "model_coef.sort_values(by='Model Coefficient', ascending=False, inplace=True)\n",
    "plt.barh(model_coef.index[:30], model_coef['Model Coefficient'][:30])\n",
    "plt.xticks(rotation=90)\n",
    "plt.grid()\n",
    "plt.show()"
   ]
  },
  {
   "cell_type": "markdown",
   "id": "9842e8af",
   "metadata": {},
   "source": [
    "# BaggingClassifier"
   ]
  },
  {
   "cell_type": "code",
   "execution_count": null,
   "id": "ecc37ebe",
   "metadata": {},
   "outputs": [],
   "source": [
    "bag=BaggingClassifier()\n",
    "bag.fit(X_train, y_train)\n",
    "scores = cross_val_score(bag, X_train,y_train, cv=10) \n",
    "print('cross-val-score \\n{}'.format(scores))\n",
    "print('cross-val-score.mean \\n{:.3f}'.format(scores.mean()))\n"
   ]
  },
  {
   "cell_type": "code",
   "execution_count": null,
   "id": "ea5f98e4",
   "metadata": {},
   "outputs": [],
   "source": [
    "ypred = bag.predict(X_test)\n",
    "print(\"Test Accuracy: {}%\".format(round(bag.score(X_test, y_test)*100, 2)))\n",
    "print(\"Random Forest Classifier report: \\n\\n\", classification_report(y_test, ypred))"
   ]
  },
  {
   "cell_type": "markdown",
   "id": "7790b899",
   "metadata": {},
   "source": [
    "# ExtraTreesClassifier"
   ]
  },
  {
   "cell_type": "code",
   "execution_count": null,
   "id": "52e4acc0",
   "metadata": {},
   "outputs": [],
   "source": [
    "xtree=ExtraTreesClassifier()\n",
    "xtree.fit(X_train, y_train)\n",
    "scores = cross_val_score(xtree, X_train,y_train, cv=10) \n",
    "print('cross-val-score \\n{}'.format(scores))\n",
    "print('cross-val-score.mean \\n{:.3f}'.format(scores.mean()))\n"
   ]
  },
  {
   "cell_type": "code",
   "execution_count": null,
   "id": "d189d919",
   "metadata": {},
   "outputs": [],
   "source": [
    "ypred = xtree.predict(X_test)\n",
    "print(\"Test Accuracy: {}%\".format(round(xtree.score(X_test, y_test)*100, 2)))\n",
    "print(\"Random Forest Classifier report: \\n\\n\", classification_report(y_test, ypred))"
   ]
  },
  {
   "cell_type": "code",
   "execution_count": null,
   "id": "c5faf402",
   "metadata": {},
   "outputs": [],
   "source": [
    "fig = plt.figure(figsize=(10, 10))\n",
    "\n",
    "model_coef = pd.DataFrame(data=xtree.feature_importances_, index=x.columns, columns=['Model Coefficient'])\n",
    "model_coef.sort_values(by='Model Coefficient', ascending=False, inplace=True)\n",
    "plt.barh(model_coef.index[:30], model_coef['Model Coefficient'][:30])\n",
    "plt.xticks(rotation=90)\n",
    "plt.grid()\n",
    "plt.show()"
   ]
  },
  {
   "cell_type": "markdown",
   "id": "00fb11e9",
   "metadata": {},
   "source": [
    "# TEST"
   ]
  },
  {
   "cell_type": "code",
   "execution_count": null,
   "id": "50d0fec0",
   "metadata": {},
   "outputs": [],
   "source": [
    "test_02=test.copy()\n",
    "del test_02['Cuisines']\n",
    "del test_02['Location']\n",
    "scaler=MinMaxScaler()\n",
    "X_scaled_d = scaler.fit_transform(test_02)\n",
    "X_scaled = pd.DataFrame(X_scaled_d, index=test_02.index, columns=test_02.columns)\n",
    "X_scaled = X_scaled[['Restaurant']]\n",
    "test_02 = pd.merge(X_scaled,test_location_df, left_index =True, right_index =True, how= 'left')\n",
    "test_02 = pd.merge(test_02,test_cuisines_df, left_index =True, right_index =True, how= 'left')\n",
    "\n",
    "test_02 = test_02.fillna(0)\n",
    "\n",
    "x=test_02\n"
   ]
  },
  {
   "cell_type": "code",
   "execution_count": null,
   "id": "d6c70a0d",
   "metadata": {},
   "outputs": [],
   "source": [
    "test_predict = rf.predict(x)\n",
    "test_pd =pd.DataFrame(rf.predict(x))\n",
    "print(test_pd[0].value_counts())\n",
    "print(accuracy_score(sample['Delivery_Time'],test_predict))\n"
   ]
  },
  {
   "cell_type": "code",
   "execution_count": null,
   "id": "0867bf6c",
   "metadata": {},
   "outputs": [],
   "source": [
    "#xgb test\n",
    "x_values = x.values\n",
    "test_predict = model_xgb.predict(x_values)\n",
    "test_pd =pd.DataFrame(model_xgb.predict(x_values))\n",
    "print(test_pd[0].value_counts())\n",
    "print(accuracy_score(sample['Delivery_Time'],test_predict))"
   ]
  }
 ],
 "metadata": {},
 "nbformat": 4,
 "nbformat_minor": 5
}
