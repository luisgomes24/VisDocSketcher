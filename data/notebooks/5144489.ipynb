{
 "cells": [
  {
   "cell_type": "code",
   "execution_count": null,
   "id": "57e2013f",
   "metadata": {},
   "outputs": [],
   "source": [
    "from mpl_toolkits.mplot3d import Axes3D\n",
    "from sklearn.preprocessing import StandardScaler\n",
    "import matplotlib.pyplot as plt\n",
    "import seaborn as sns\n",
    "import numpy as np \n",
    "import os \n",
    "import pandas as pd"
   ]
  },
  {
   "cell_type": "code",
   "execution_count": null,
   "id": "ac357068",
   "metadata": {},
   "outputs": [],
   "source": [
    "hs = pd.read_csv('../input/kc_house_data.csv')"
   ]
  },
  {
   "cell_type": "code",
   "execution_count": null,
   "id": "c0e0ab18",
   "metadata": {},
   "outputs": [],
   "source": [
    "hs.head()"
   ]
  },
  {
   "cell_type": "code",
   "execution_count": null,
   "id": "2af26a66",
   "metadata": {},
   "outputs": [],
   "source": [
    "hs.describe()"
   ]
  },
  {
   "cell_type": "code",
   "execution_count": null,
   "id": "f93a292b",
   "metadata": {},
   "outputs": [],
   "source": [
    "plt.matshow(hs.corr())\n",
    "plt.colorbar()\n",
    "plt.show()"
   ]
  },
  {
   "cell_type": "code",
   "execution_count": null,
   "id": "34374117",
   "metadata": {},
   "outputs": [],
   "source": [
    "sns.lineplot(x='bedrooms', y='bathrooms', data=hs)"
   ]
  },
  {
   "cell_type": "code",
   "execution_count": null,
   "id": "925df79a",
   "metadata": {},
   "outputs": [],
   "source": [
    "p = hs.hist(figsize = (20,20))"
   ]
  },
  {
   "cell_type": "code",
   "execution_count": null,
   "id": "0f0dc122",
   "metadata": {},
   "outputs": [],
   "source": [
    "plt.figure()\n",
    "sns.distplot(hs['bedrooms'])\n",
    "plt.show()\n",
    "plt.close()"
   ]
  },
  {
   "cell_type": "code",
   "execution_count": null,
   "id": "196c7d18",
   "metadata": {},
   "outputs": [],
   "source": [
    "plt.figure()\n",
    "sns.distplot(hs['bathrooms'])\n",
    "plt.show()\n",
    "plt.close()"
   ]
  },
  {
   "cell_type": "code",
   "execution_count": null,
   "id": "c596c5a9",
   "metadata": {},
   "outputs": [],
   "source": [
    "sns.kdeplot(data=hs['bedrooms'],label='Bedrooms',shade=True)"
   ]
  },
  {
   "cell_type": "code",
   "execution_count": null,
   "id": "fe2c3865",
   "metadata": {},
   "outputs": [],
   "source": [
    "sns.kdeplot(data=hs['bathrooms'],label='Bathrooms',shade=True)"
   ]
  }
 ],
 "metadata": {},
 "nbformat": 4,
 "nbformat_minor": 5
}
