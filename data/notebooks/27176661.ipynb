{
 "cells": [
  {
   "cell_type": "code",
   "execution_count": null,
   "id": "6d636bdd",
   "metadata": {},
   "outputs": [],
   "source": [
    "import numpy as np\n",
    "import pandas as pd\n",
    "\n",
    "from sklearn.preprocessing import OneHotEncoder, StandardScaler\n",
    "from sklearn.cluster import KMeans\n",
    "from sklearn.preprocessing import LabelEncoder\n",
    "from sklearn.decomposition import PCA\n",
    "from sklearn.cluster import KMeans\n",
    "from sklearn.cluster import AgglomerativeClustering\n",
    "from sklearn import metrics\n",
    "from yellowbrick.cluster import KElbowVisualizer\n",
    "\n",
    "import matplotlib.pyplot as plt\n",
    "import seaborn as sns\n",
    "\n",
    "import warnings\n",
    "warnings.filterwarnings('ignore')"
   ]
  },
  {
   "cell_type": "code",
   "execution_count": null,
   "id": "fcb5b2b5",
   "metadata": {},
   "outputs": [],
   "source": [
    "df = pd.read_csv('../input/bank-marketing-dataset/bank.csv')\n",
    "df.head()"
   ]
  },
  {
   "cell_type": "code",
   "execution_count": null,
   "id": "4e751f50",
   "metadata": {},
   "outputs": [],
   "source": [
    "df = df.iloc[:,:6]\n",
    "df.drop(\"default\", axis=1,inplace=True)\n",
    "df = df[df['balance'] > 0]\n",
    "df"
   ]
  },
  {
   "cell_type": "code",
   "execution_count": null,
   "id": "e5bbd05e",
   "metadata": {},
   "outputs": [],
   "source": [
    "df.duplicated().sum()"
   ]
  },
  {
   "cell_type": "code",
   "execution_count": null,
   "id": "76a7bb3b",
   "metadata": {},
   "outputs": [],
   "source": [
    "df = df.drop_duplicates()"
   ]
  },
  {
   "cell_type": "code",
   "execution_count": null,
   "id": "654b0457",
   "metadata": {},
   "outputs": [],
   "source": [
    "df.isna().sum()"
   ]
  },
  {
   "cell_type": "code",
   "execution_count": null,
   "id": "38e7f97d",
   "metadata": {},
   "outputs": [],
   "source": [
    "print(\"The total number of data-points after removing the rows with duplicated values are:\", len(df))"
   ]
  },
  {
   "cell_type": "code",
   "execution_count": null,
   "id": "979be801",
   "metadata": {},
   "outputs": [],
   "source": [
    "print(\"Total categories in the feature Job:\\n\", df[\"job\"].value_counts(), \"\\n\")\n",
    "print(\"Total categories in the feature Education:\\n\", df[\"education\"].value_counts())"
   ]
  },
  {
   "cell_type": "code",
   "execution_count": null,
   "id": "e2292a25",
   "metadata": {},
   "outputs": [],
   "source": [
    "s = (df.dtypes == 'object')\n",
    "object_cols = list(s[s].index)\n",
    "\n",
    "print(\"Categorical variables in the dataset:\", object_cols)"
   ]
  },
  {
   "cell_type": "code",
   "execution_count": null,
   "id": "cf7e5aac",
   "metadata": {},
   "outputs": [],
   "source": [
    "df.describe().T"
   ]
  },
  {
   "cell_type": "code",
   "execution_count": null,
   "id": "3e219684",
   "metadata": {},
   "outputs": [],
   "source": [
    "cont_features = []\n",
    "cat_features = []\n",
    "\n",
    "for c in df.columns:\n",
    "    if df[c].dtype == 'int64':\n",
    "        cont_features += [c]\n",
    "    else:\n",
    "        cat_features += [c]"
   ]
  },
  {
   "cell_type": "code",
   "execution_count": null,
   "id": "ca695be3",
   "metadata": {},
   "outputs": [],
   "source": [
    "df[cat_features].nunique()"
   ]
  },
  {
   "cell_type": "code",
   "execution_count": null,
   "id": "ca5d24fd",
   "metadata": {},
   "outputs": [],
   "source": [
    "OH_encoder = OneHotEncoder(handle_unknown='ignore', sparse=False)\n",
    "OH_cols = pd.DataFrame(OH_encoder.fit_transform(df[cat_features]))\n",
    "OH_cols.index = df.index\n",
    "\n",
    "df_cont = df.drop(cat_features, axis=1)\n",
    "\n",
    "df_OH = pd.concat([df_cont, OH_cols], axis=1)"
   ]
  },
  {
   "cell_type": "code",
   "execution_count": null,
   "id": "ed5a5b0d",
   "metadata": {},
   "outputs": [],
   "source": [
    "fig, (ax1, ax2) = plt.subplots(2, 1, figsize=(8,8))\n",
    "sns.distplot(df_OH['age'], ax=ax1)\n",
    "sns.distplot(df_OH['balance'], ax=ax2)"
   ]
  },
  {
   "cell_type": "code",
   "execution_count": null,
   "id": "5fe46ad5",
   "metadata": {},
   "outputs": [],
   "source": [
    "df_OH[cont_features] = np.log(df_OH[cont_features])\n",
    "scaler = StandardScaler()\n",
    "df_OH[cont_features] = scaler.fit_transform(df_OH[cont_features])\n",
    "df[cont_features] = scaler.fit_transform(df[cont_features])\n",
    "\n",
    "fig, (ax1, ax2) = plt.subplots(2, 1, figsize=(8,8))\n",
    "sns.distplot(df_OH['age'], ax=ax1)\n",
    "sns.distplot(df_OH['balance'], ax=ax2)"
   ]
  },
  {
   "cell_type": "code",
   "execution_count": null,
   "id": "ab39d49a",
   "metadata": {},
   "outputs": [],
   "source": [
    "Elbow_M = KElbowVisualizer(KMeans(), k=10)\n",
    "Elbow_M.fit(df[cont_features])\n",
    "Elbow_M.show()"
   ]
  },
  {
   "cell_type": "code",
   "execution_count": null,
   "id": "4211b67e",
   "metadata": {},
   "outputs": [],
   "source": [
    "kmeans = KMeans(n_clusters=4, init='k-means++', random_state=0, n_init=30, max_iter=100)\n",
    "clusters = kmeans.fit_predict(df[cont_features])\n",
    "df['cluster'] = clusters\n",
    "sns.relplot(x='age', y='balance', hue='cluster', data=df)"
   ]
  },
  {
   "cell_type": "code",
   "execution_count": null,
   "id": "124624fe",
   "metadata": {},
   "outputs": [],
   "source": [
    "df = pd.read_csv('../input/bank-marketing-dataset/bank.csv')\n",
    "df = df.iloc[:,:6]\n",
    "df = df.drop(columns='default')\n",
    "df = df[df['balance'] > 0]\n",
    "df = df.drop_duplicates()\n",
    "df['cluster'] = clusters\n",
    "groups = df.groupby(['cluster']).agg(['min', 'median', 'mean', 'max', 'sum', 'count']).round()\n",
    "groups['pct_total'] = (groups['balance']['sum'] / groups['balance']['sum'].sum()).round(3)*100\n",
    "groups"
   ]
  },
  {
   "cell_type": "code",
   "execution_count": null,
   "id": "083de98d",
   "metadata": {},
   "outputs": [],
   "source": [
    "Elbow_M = KElbowVisualizer(KMeans(), k=10)\n",
    "Elbow_M.fit(df_OH)\n",
    "Elbow_M.show()"
   ]
  },
  {
   "cell_type": "code",
   "execution_count": null,
   "id": "ae5b0d5f",
   "metadata": {},
   "outputs": [],
   "source": [
    "kmeans = KMeans(n_clusters=5, init='k-means++', n_init=30, max_iter=100, random_state=0)\n",
    "clusters = kmeans.fit_predict(df_OH)\n",
    "df_OH['cluster'] = clusters\n",
    "sns.relplot(x='age', y='balance', hue='cluster', data=df_OH)"
   ]
  },
  {
   "cell_type": "code",
   "execution_count": null,
   "id": "63efc783",
   "metadata": {},
   "outputs": [],
   "source": [
    "df = pd.read_csv('../input/bank-marketing-dataset/bank.csv')\n",
    "df = df.iloc[:,:6]\n",
    "df = df.drop(columns='default')\n",
    "df = df[df['balance'] > 0]\n",
    "df = df.drop_duplicates()\n",
    "df['cluster'] = clusters\n",
    "groups = df.groupby(['cluster', 'job', 'marital', 'education']).agg(['median', 'sum', 'count']).round()\n",
    "groups['pct_total'] = (groups['balance']['sum'] / groups['balance']['sum'].sum()).round(3)*100"
   ]
  },
  {
   "cell_type": "code",
   "execution_count": null,
   "id": "10cb9db4",
   "metadata": {},
   "outputs": [],
   "source": [
    "top = groups.sort_values(by='pct_total', ascending=False)\n",
    "top.head(60)"
   ]
  }
 ],
 "metadata": {},
 "nbformat": 4,
 "nbformat_minor": 5
}
