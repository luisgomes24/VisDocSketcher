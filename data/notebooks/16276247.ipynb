{
 "cells": [
  {
   "cell_type": "markdown",
   "id": "9daceb12",
   "metadata": {},
   "source": [
    "# Importing the Python Libraries"
   ]
  },
  {
   "cell_type": "code",
   "execution_count": null,
   "id": "4f695272",
   "metadata": {},
   "outputs": [],
   "source": [
    "import numpy as np\n",
    "import matplotlib.pyplot as plt\n",
    "import folium\n",
    "from folium import plugins\n",
    "from folium.plugins import HeatMap\n",
    "import seaborn as sns\n",
    "import pandas as pd # data processing, CSV file I/O (e.g. pd.read_csv)\n",
    "import plotly.express as px\n",
    "import os\n",
    "for dirname, _, filenames in os.walk('/kaggle/input'):\n",
    "    for filename in filenames:\n",
    "        print(os.path.join(dirname, filename))"
   ]
  },
  {
   "cell_type": "markdown",
   "id": "647d8bd7",
   "metadata": {},
   "source": [
    "# Reading the Train and Test Datasets"
   ]
  },
  {
   "cell_type": "code",
   "execution_count": null,
   "id": "09a4e788",
   "metadata": {},
   "outputs": [],
   "source": [
    "train = pd.read_csv('../input/titanic/train.csv')\n",
    "test = pd.read_csv('../input/titanic/test.csv')"
   ]
  },
  {
   "cell_type": "markdown",
   "id": "a79c0815",
   "metadata": {},
   "source": [
    "# Chancing the column elements with the follows (just for the good look)"
   ]
  },
  {
   "cell_type": "code",
   "execution_count": null,
   "id": "1d730df2",
   "metadata": {},
   "outputs": [],
   "source": [
    "# Chancing the column elements with the follows (just for the good look)\n",
    "\n",
    "train['Survived'] = np.where(train['Survived'] == 1, 'Survived', 'Dead')\n",
    "train.loc[(train.Pclass == 3), 'Pclass'] = 'Third Class'\n",
    "train.loc[(train.Pclass == 2), 'Pclass'] = 'Second Class'\n",
    "train.loc[(train.Pclass == 1), 'Pclass'] = 'First Class'\n",
    "train['Sex'] = np.where(train['Sex'] == 'male', 'Male', 'Female')\n"
   ]
  },
  {
   "cell_type": "markdown",
   "id": "89dd8753",
   "metadata": {},
   "source": [
    "# After the basic data customizations, the Train Dataset:"
   ]
  },
  {
   "cell_type": "code",
   "execution_count": null,
   "id": "bf91c489",
   "metadata": {},
   "outputs": [],
   "source": [
    "train.head()"
   ]
  },
  {
   "cell_type": "markdown",
   "id": "7ca7848f",
   "metadata": {},
   "source": [
    "# Seaborn Visualization of the Train Dataset\n"
   ]
  },
  {
   "cell_type": "markdown",
   "id": "674809d3",
   "metadata": {},
   "source": [
    "As you can see from the plot, the most of the passengers are embarked from the 'S' which indicates the Southamton. And following town is 'C' Cherbourg. Finally, 'Q' is represents that the Queenstown. "
   ]
  },
  {
   "cell_type": "code",
   "execution_count": null,
   "id": "b8d0eb56",
   "metadata": {},
   "outputs": [],
   "source": [
    "# Embark towns of the Titanic Passengers\n",
    "plt.figure(figsize=(15,8))\n",
    "splot = sns.countplot(data=train, x='Embarked')\n",
    "plt.ylabel(\"Number of the Passengers\", fontsize=12)\n",
    "plt.xlabel(\"Embark Towns\", fontsize=12)\n",
    "plt.title(\"Embark Towns of the Titanic Passengers\", fontsize=16)\n",
    "\n",
    "for p in splot.patches:\n",
    "    splot.annotate(format(p.get_height(), '.1f'),\n",
    "                   (p.get_x() + p.get_width() / 2., p.get_height()),\n",
    "                   ha='center', va='center',\n",
    "                   xytext=(0, 9),\n",
    "                   textcoords='offset points')\n"
   ]
  },
  {
   "cell_type": "code",
   "execution_count": null,
   "id": "480851de",
   "metadata": {},
   "outputs": [],
   "source": [
    "# Gender Distribution of the Titanic Passengers\n",
    "plt.figure(figsize=(15,8))\n",
    "splot = sns.countplot(data=train, x='Sex')\n",
    "plt.ylabel(\"Number of the Passengers\", fontsize=12)\n",
    "plt.xlabel(\"Genders\", fontsize=12)\n",
    "plt.title(\"Gender Distribution of the Titanic Passengers\", fontsize=16)\n",
    "\n",
    "for p in splot.patches:\n",
    "    splot.annotate(format(p.get_height(), '.1f'),\n",
    "                   (p.get_x() + p.get_width() / 2., p.get_height()),\n",
    "                   ha='center', va='center',\n",
    "                   xytext=(0, 9),\n",
    "                   textcoords='offset points')"
   ]
  },
  {
   "cell_type": "code",
   "execution_count": null,
   "id": "b0d0941e",
   "metadata": {},
   "outputs": [],
   "source": [
    "# Survival Distribution of the Titanic Passengers\n",
    "plt.figure(figsize=(15,8))\n",
    "splot = sns.countplot(data=train, x='Survived')\n",
    "plt.ylabel(\"Number of the Passengers\", fontsize=12)\n",
    "plt.title(\"Survival Distribution of the Titanic Passengers\", fontsize=16)\n",
    "\n",
    "for p in splot.patches:\n",
    "    splot.annotate(format(p.get_height(), '.1f'),\n",
    "                   (p.get_x() + p.get_width() / 2., p.get_height()),\n",
    "                   ha='center', va='center',\n",
    "                   xytext=(0, 9),\n",
    "                   textcoords='offset points')"
   ]
  },
  {
   "cell_type": "code",
   "execution_count": null,
   "id": "4b562d43",
   "metadata": {},
   "outputs": [],
   "source": [
    "# Class Distribution of the Titanic Passengers\n",
    "plt.figure(figsize=(15,8))\n",
    "splot = sns.countplot(data=train, x='Pclass')\n",
    "plt.ylabel(\"Number of the Passengers\", fontsize=12)\n",
    "plt.title(\"Class Distribution of the Titanic Passengers\", fontsize=16)\n",
    "        \n",
    "for p in splot.patches:\n",
    "    splot.annotate(format(p.get_height(), '.1f'),\n",
    "                   (p.get_x() + p.get_width() / 2., p.get_height()),\n",
    "                   ha='center', va='center',\n",
    "                   xytext=(0, 9),\n",
    "                   textcoords='offset points')"
   ]
  },
  {
   "cell_type": "code",
   "execution_count": null,
   "id": "e5f53102",
   "metadata": {},
   "outputs": [],
   "source": [
    "# Age Distribution of the Titanic Passengers\n",
    "plt.figure(figsize=(15,8))\n",
    "sns.countplot(data=train, x='Age')\n",
    "plt.ylabel(\"Number of the Passengers\", fontsize=12)\n",
    "plt.xticks(rotation=90)\n",
    "plt.title(\"Age Distribution of the Titanic Passengers\", fontsize=16)"
   ]
  },
  {
   "cell_type": "markdown",
   "id": "8a91ae69",
   "metadata": {},
   "source": [
    "# Heatmap of the Titanic Embark Towns \n",
    "As you can see from the map below, the high majority of the passengers are embarked from Southampton. The number of embarked passengers is close to two other towns."
   ]
  },
  {
   "cell_type": "code",
   "execution_count": null,
   "id": "dd5f182a",
   "metadata": {},
   "outputs": [],
   "source": [
    "count_towns = train.groupby(\n",
    "    pd.Grouper(key='Embarked')).size().reset_index(name='count')\n",
    "\n",
    "latitude_embark = ['50.897', '49.6423', ' 51.84914']\n",
    "longitude_embark = ['-1.404', '-1.62551', '-8.2975265']\n",
    "\n",
    "count_towns['latitude_embark'] = latitude_embark\n",
    "count_towns['longitude_embark'] = longitude_embark\n",
    "\n",
    "m = folium.Map([49.922935, -6.068136], zoom_start=6, width='%100', height='%100')\n",
    "\n",
    "heat_data = count_towns.groupby([\"latitude_embark\", \"longitude_embark\"])['count'].mean().reset_index().values.tolist()\n",
    "folium.plugins.HeatMap(heat_data).add_to(m)\n",
    "m"
   ]
  },
  {
   "cell_type": "markdown",
   "id": "4e3cea0c",
   "metadata": {},
   "source": [
    "# Plotly Sunburst Visualization of the Titanic Passengers\n",
    "As you can see from the visualization below, the Female survival rate is higher for the First Class. Unfortunately, when the Class is decreased, the Female survival rate is decreasing.\n",
    "\n",
    "The Third Class passengers have the majority on the Titanic and the number of Second and First class passenger are close to each other.\n",
    "\n",
    "(This visualization is interactive, you can click the desired Class and Sex for more information. It is also available for you to see how many passengers are covered by this specific area.)"
   ]
  },
  {
   "cell_type": "code",
   "execution_count": null,
   "id": "6fd39442",
   "metadata": {},
   "outputs": [],
   "source": [
    "# Plotly application for interactive visualization \n",
    "\n",
    "fig = px.sunburst(data_frame=train, # Our dataset\n",
    "                  path=[\"Pclass\", \"Sex\", \"Survived\"],  # Root, Branches, Leaves\n",
    "                  color=\"Pclass\",\n",
    "                  color_discrete_map={'First Class': 'rgb(246,207,113)',\n",
    "                                      'Second Class': 'rgb(248,156,116)',\n",
    "                                      'Third Class': 'rgb(102,197,204)'},  # Colours (could be changed easily)\n",
    "                  maxdepth=-1,\n",
    "                  branchvalues='total',\n",
    "                  hover_name='Pclass',  # Hover name for chosen column\n",
    "                  hover_data={'Pclass': False},\n",
    "                  title='Visualization of the Titanic Dataset', template='ggplot2'# Title and the template \n",
    "                  )\n",
    "\n",
    "fig.update_traces(textinfo='label+percent parent')\n",
    "fig.update_layout(font=dict(size=16))\n",
    "fig.show()"
   ]
  },
  {
   "cell_type": "markdown",
   "id": "22c7c52c",
   "metadata": {},
   "source": [
    "# Correlation Analysis of the Dataset\n",
    "\n",
    "It is easy to see the relation between the survive vs class and sex from the sunburst plot but, let's see check the correlation graph of the dataset."
   ]
  },
  {
   "cell_type": "code",
   "execution_count": null,
   "id": "282e0f48",
   "metadata": {},
   "outputs": [],
   "source": [
    "train = pd.read_csv('../input/titanic/train.csv')\n",
    "train['Sex'] = np.where(train['Sex'] == 'male', 1, 0) # 1 = Male and 0 = Female for this scenario\n",
    "\n",
    "plt.figure(figsize=(15,8))\n",
    "heatmap = sns.heatmap(train.corr(), vmin=-1, vmax=1, annot=True)\n",
    "heatmap.set_title('Correlation Graph of the Training Dataset', fontdict={'fontsize': 24})\n"
   ]
  },
  {
   "cell_type": "markdown",
   "id": "3cb33428",
   "metadata": {},
   "source": [
    "As you can see from the Correlation Graph of the Training Dataset, the Survive is slightly correlated with the Pclass. As seen from the Sunburst graph, it makes sense. \n",
    "\n",
    "For the Survive and Sex analysis, these two features have a negative correlation. This is because of my assignment which is the '1 = Male and 0 = Female'. So, we can say that when the Survive is increasing, the Sex is decreasing strongly. That means the female survival is pretty high for this scenario. It makes sense due to the Sunburst plot above. As seen from the Sunburst plot, for the First and Second class passengers, the survival rate is pretty high for females. \n",
    "\n",
    "It is also clear that the Parch and Survive have almost no relationship between them.\n",
    "\n",
    "And, we can also observe that the Pclass and Fare have a negative correlation. It makes sense again because when the Fare increases, the ticket class increases to First Class ticket.\n",
    "\n",
    "This analysis would help me to choose the best features for my Artificial Neural Network (ANN) model."
   ]
  }
 ],
 "metadata": {},
 "nbformat": 4,
 "nbformat_minor": 5
}
