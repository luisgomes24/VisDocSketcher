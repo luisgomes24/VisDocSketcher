{
 "cells": [
  {
   "cell_type": "markdown",
   "id": "7c1acd73",
   "metadata": {},
   "source": [
    "<h1 style='background:#afd873; border:10; border-radius: 25px; font-size:250%; font-weight: bold; color:black'><center><a href=\"https://medium.com/@dima806/ratings-for-900-free-coursera-courses-shap-values-for-providing-institutions-skills-and-more-4fb75105a21f\">See my paper on Medium.com for more details</a></center></h1> \n",
    "\n",
    "<a id='top'></a>\n",
    "<div class=\"list-group\" id=\"list-tab\" role=\"tablist\">\n",
    "    \n",
    "<h1 style='background:#afd873; border:10; border-radius: 25px; font-size:250%; font-weight: bold; color:black'><center> Table of contents </center></h1>\n",
    "\n",
    "### [**1. Importing libraries and loading data**](#section-load)\n",
    "\n",
    "### [**2. Data transformation**](#section-transform)\n",
    "    \n",
    "### [**3. Machine learning**](#section-model)\n",
    "\n",
    "### [**4. Explanations with SHAP values**](#section-explain)\n",
    "\n",
    "<a id=\"section-load\"></a>\n",
    "<h1 style='background:#afd873; border:10; border-radius: 25px; font-size:250%; font-weight: bold; color:black'><center>Importing libraries and loading data</center></h1>"
   ]
  },
  {
   "cell_type": "code",
   "execution_count": null,
   "id": "8bbe0fdc",
   "metadata": {},
   "outputs": [],
   "source": [
    "!pip install -q feature_engine"
   ]
  },
  {
   "cell_type": "code",
   "execution_count": null,
   "id": "61ecdd47",
   "metadata": {},
   "outputs": [],
   "source": [
    "# import libraries\n",
    "import numpy as np # linear algebra\n",
    "import pandas as pd # data processing, CSV file I/O (e.g. pd.read_csv)\n",
    "\n",
    "import shap\n",
    "import matplotlib.pyplot as plt\n",
    "from catboost import Pool, CatBoostRegressor\n",
    "from sklearn.metrics import mean_squared_error\n",
    "from sklearn.model_selection import train_test_split\n",
    "from feature_engine.encoding import RareLabelEncoder\n",
    "from sklearn.feature_extraction.text import CountVectorizer\n",
    "import re\n",
    "\n",
    "import warnings \n",
    "warnings.filterwarnings(\"ignore\")\n",
    "\n",
    "pd.set_option('display.max_rows', 1000)"
   ]
  },
  {
   "cell_type": "code",
   "execution_count": null,
   "id": "d0c6c0b5",
   "metadata": {},
   "outputs": [],
   "source": [
    "df = pd.read_csv('/kaggle/input/coursera-free-courses-dataset/courserafree.csv', index_col=False)\n",
    "print(df.shape)\n",
    "df.sample(5).T"
   ]
  },
  {
   "cell_type": "markdown",
   "id": "d168adfb",
   "metadata": {},
   "source": [
    "<a id=\"section-transform\"></a>\n",
    "<h1 style='background:#afd873; border:10; border-radius: 25px; font-size:250%; font-weight: bold; color:black'><center>Data transformation</center></h1>"
   ]
  },
  {
   "cell_type": "code",
   "execution_count": null,
   "id": "2b4306dd",
   "metadata": {},
   "outputs": [],
   "source": [
    "# select main label\n",
    "main_label = 'ratings'\n",
    "# remove null ratings\n",
    "df = df[~df[main_label].isnull()]\n",
    "# rename column names\n",
    "df.rename(columns = {c: c.strip('\\xa0') for c in df.columns}, inplace = True)\n",
    "# expand level, type and duration, following \n",
    "# https://www.kaggle.com/code/kazakow/data-visualization-coursera-with-seaborn\n",
    "df = pd.concat([df, df['level type duration'].str.split(' · ', expand=True)], axis=1)\n",
    "df.rename(columns={0: 'level', 1: 'type', 2: 'duration'}, inplace=True)\n",
    "# extract number of reviews\n",
    "df['reviews'].fillna('(0 reviews)', inplace=True)\n",
    "df['reviews'] = [eval(i[1:-9].replace('k', '*1000')) for i in df.reviews.values]\n",
    "# drop courses with < 20 reviews\n",
    "df = df[df['reviews']>=20]\n",
    "# set up the rare label encoder limiting number of categories to max_n_categories\n",
    "for col in ['institution', 'duration']:\n",
    "    df[col] = df[col].fillna('None')\n",
    "    encoder = RareLabelEncoder(n_categories=1, max_n_categories=50, replace_with='Other', tol=20.0/df.shape[0])\n",
    "    df[col] = encoder.fit_transform(df[[col]])\n",
    "# vectorize skills columns\n",
    "df.rename(columns = {'skills you will gain': 'skills'}, inplace = True)\n",
    "def vectorize_column(df, col_name, sep=', ', min_df=20):\n",
    "    ll = df[col_name].fillna('none').str.split(sep).to_list()\n",
    "    ll = [[j.rstrip(', ').strip(' ').replace('.', '_').replace('\\'', '_').replace(' ', '_').replace('.', '_').replace('&', '_and_').replace('-', '_').replace('(', '_').replace(')', '_') for j in i] for i in ll]\n",
    "    ll1 = []\n",
    "    for item in ll:\n",
    "        if item != ['none']:\n",
    "            ttt = ' '.join(item)\n",
    "        else:\n",
    "            ttt = 'none'\n",
    "        ll1.append(ttt)\n",
    "    vectorizer = CountVectorizer(min_df=min_df, lowercase=False)\n",
    "    vectorizer.fit(ll1)\n",
    "    voc = vectorizer.vocabulary_\n",
    "    voc_inv = {v: col_name+'_'+k for k, v in voc.items()}\n",
    "    vector = vectorizer.transform(ll1)\n",
    "    tt = pd.DataFrame(vector.toarray())\n",
    "    tt = tt.rename(columns=voc_inv)\n",
    "    df = pd.concat([df.reset_index(drop=True),tt.reset_index(drop=True)], axis=1).drop([col_name], axis=1)\n",
    "    return df\n",
    "for col in ['skills']:\n",
    "    df = vectorize_column(df, col, sep=', ', min_df=20)\n",
    "# drop unused columns\n",
    "cols2drop = ['css-1qajodb', 'title', 'level type duration', 'reviews', 'url', 'price']\n",
    "df = df.drop(cols2drop, axis=1)\n",
    "print(df.shape)\n",
    "df.sample(5).T"
   ]
  },
  {
   "cell_type": "code",
   "execution_count": null,
   "id": "c7594118",
   "metadata": {},
   "outputs": [],
   "source": [
    "df['ratings'].describe()"
   ]
  },
  {
   "cell_type": "markdown",
   "id": "b1b92640",
   "metadata": {},
   "source": [
    "<a id=\"section-model\"></a>\n",
    "<h1 style='background:#afd873; border:10; border-radius: 25px; font-size:250%; font-weight: bold; color:black'><center>Machine learning</center></h1>"
   ]
  },
  {
   "cell_type": "code",
   "execution_count": null,
   "id": "769a9a7b",
   "metadata": {},
   "outputs": [],
   "source": [
    "# initialize data\n",
    "y = df[main_label].values.reshape(-1,)\n",
    "X = df.drop([main_label], axis=1)\n",
    "cat_cols = df.select_dtypes(include=['object']).columns\n",
    "cat_cols_idx = [list(X.columns).index(c) for c in cat_cols]\n",
    "X_train,X_test,y_train,y_test = train_test_split(X, y, test_size=0.5, random_state=0)\n",
    "X_train.shape, X_test.shape, y_train.shape, y_test.shape"
   ]
  },
  {
   "cell_type": "code",
   "execution_count": null,
   "id": "7f119211",
   "metadata": {},
   "outputs": [],
   "source": [
    "# initialize Pool\n",
    "train_pool = Pool(X_train, \n",
    "                  y_train, \n",
    "                  cat_features=cat_cols_idx)\n",
    "test_pool = Pool(X_test,\n",
    "                 y_test,\n",
    "                 cat_features=cat_cols_idx)\n",
    "# specify the training parameters \n",
    "model = CatBoostRegressor(iterations=500, \n",
    "                          depth=5,\n",
    "                          verbose=0,\n",
    "                          learning_rate=0.02, \n",
    "                          loss_function='RMSE')\n",
    "#train the model\n",
    "model.fit(train_pool)\n",
    "# make the prediction using the resulting model\n",
    "y_train_pred = model.predict(train_pool)\n",
    "y_test_pred = model.predict(test_pool)\n",
    "\n",
    "rmse_train = mean_squared_error(y_train, y_train_pred, squared=False)\n",
    "rmse_test = mean_squared_error(y_test, y_test_pred, squared=False)\n",
    "print(f\"RMSE score for train {round(rmse_train,3)} points, and for test {round(rmse_test,3)} points\")"
   ]
  },
  {
   "cell_type": "code",
   "execution_count": null,
   "id": "3c3d637d",
   "metadata": {},
   "outputs": [],
   "source": [
    "# Baseline scores (assuming the same prediction for all data samples)\n",
    "rmse_bs_train = mean_squared_error(y_train, [np.mean(y_train)]*len(y_train), squared=False)\n",
    "rmse_bs_test = mean_squared_error(y_test, [np.mean(y_train)]*len(y_test), squared=False)\n",
    "print(f\"RMSE baseline score for train {round(rmse_bs_train,3)} points, and for test {round(rmse_bs_test,3)} points\")"
   ]
  },
  {
   "cell_type": "markdown",
   "id": "e0056736",
   "metadata": {},
   "source": [
    "<a id=\"section-explain\"></a>\n",
    "<h1 style='background:#afd873; border:10; border-radius: 25px; font-size:250%; font-weight: bold; color:black'><center>Explanations with SHAP values</center></h1>"
   ]
  },
  {
   "cell_type": "code",
   "execution_count": null,
   "id": "7d79f688",
   "metadata": {},
   "outputs": [],
   "source": [
    "shap.initjs()\n",
    "ex = shap.TreeExplainer(model)\n",
    "shap_values = ex.shap_values(X_test)\n",
    "shap.summary_plot(shap_values, X_test)"
   ]
  },
  {
   "cell_type": "code",
   "execution_count": null,
   "id": "f781079c",
   "metadata": {},
   "outputs": [],
   "source": [
    "expected_values = ex.expected_value\n",
    "print(f\"Average predicted rating is {round(expected_values,3)} points\")\n",
    "print(f\"Average actual rating is {round(np.mean(y_test),3)} points\")"
   ]
  },
  {
   "cell_type": "code",
   "execution_count": null,
   "id": "c36be971",
   "metadata": {},
   "outputs": [],
   "source": [
    "def show_shap(col):\n",
    "    df_infl = X_test.copy()\n",
    "    df_infl['shap_'] = shap_values[:,X_test.columns.tolist().index(col)]\n",
    "    gain = 0\n",
    "    gain = df_infl.groupby(col).mean().loc[1, 'shap_']-df_infl.groupby(col).mean().loc[0, 'shap_']\n",
    "    gain_std = ((df_infl.groupby(col).std().loc[1, 'shap_'])**2+(df_infl.groupby(col).std().loc[0, 'shap_'])**2)**0.5\n",
    "    return round(gain,4), round(gain_std,4)\n",
    "def show_variants(start_str):\n",
    "    col_list = []\n",
    "    gain_list = []\n",
    "    gain_std_list = []\n",
    "    for col in X_test.columns:\n",
    "        if col.startswith(start_str+'_'):\n",
    "            try:\n",
    "                gain, gain_std = show_shap(col)\n",
    "                col_list.append(col.replace(start_str+'_',''))\n",
    "                gain_list.append(gain)\n",
    "                gain_std_list.append(gain_std)\n",
    "            except:\n",
    "                pass\n",
    "    dd_dict = {'col': col_list, 'gain': gain_list, 'gain_std': gain_std_list}\n",
    "    df_res = pd.DataFrame.from_dict(dd_dict).sort_values('gain', ascending=False).set_index('col')\n",
    "    plt.figure(figsize=(15,10))\n",
    "    plt.errorbar(df_res.index, df_res['gain'], yerr=df_res['gain_std'], fmt=\"o\", color=\"r\")\n",
    "    plt.bar(x=df_res.index, height=df_res['gain'])\n",
    "    plt.title(f'SHAP values for {start_str}, rating')\n",
    "    plt.ylabel('points')\n",
    "    plt.tick_params(axis=\"x\", rotation=90)\n",
    "    plt.show();\n",
    "    return df_res"
   ]
  },
  {
   "cell_type": "code",
   "execution_count": null,
   "id": "1b620a9b",
   "metadata": {},
   "outputs": [],
   "source": [
    "show_variants(start_str='skills')"
   ]
  },
  {
   "cell_type": "code",
   "execution_count": null,
   "id": "90250c18",
   "metadata": {},
   "outputs": [],
   "source": [
    "def show_shap(col, shap_values=shap_values, label=main_label, X_test=X_test, ylabel='points'):\n",
    "    df_infl = X_test.copy()\n",
    "    df_infl['shap_'] = shap_values[:,df_infl.columns.tolist().index(col)]\n",
    "    gain = round(df_infl.groupby(col).mean()['shap_'],4)\n",
    "    gain_std = round(df_infl.groupby(col).std()['shap_'],4)\n",
    "    cnt = df_infl.groupby(col).count()['shap_']\n",
    "    dd_dict = {'col': list(gain.index), 'gain': list(gain.values), 'gain_std': list(gain_std.values), 'count': cnt}\n",
    "    df_res = pd.DataFrame.from_dict(dd_dict).sort_values('gain', ascending=False).set_index('col')\n",
    "    plt.figure(figsize=(12,9))\n",
    "    plt.errorbar(df_res.index, df_res['gain'], yerr=df_res['gain_std'], fmt=\"o\", color=\"r\")\n",
    "    plt.title(f'SHAP values for column {col}, label {label}')\n",
    "    plt.ylabel(ylabel)\n",
    "    plt.tick_params(axis=\"x\", rotation=90)\n",
    "    plt.show();\n",
    "    print(df_res)\n",
    "    return\n",
    "\n",
    "for col in X_test.columns:\n",
    "    if col.split('_')[0] not in ['skills']:\n",
    "        print()\n",
    "        print(col)\n",
    "        print()\n",
    "        show_shap(col, shap_values, label=main_label, X_test=X_test)"
   ]
  },
  {
   "cell_type": "markdown",
   "id": "7830c8df",
   "metadata": {},
   "source": [
    "<h1 style='background:#afd873; border:10; border-radius: 25px; font-size:250%; font-weight: bold; color:black'><center><a href=\"https://medium.com/@dima806/ratings-for-900-free-coursera-courses-shap-values-for-providing-institutions-skills-and-more-4fb75105a21f\">See my paper on Medium.com for more details</a></center></h1> "
   ]
  },
  {
   "cell_type": "code",
   "execution_count": null,
   "id": "a3a2bc31",
   "metadata": {},
   "outputs": [],
   "source": [
    "nan"
   ]
  }
 ],
 "metadata": {},
 "nbformat": 4,
 "nbformat_minor": 5
}
