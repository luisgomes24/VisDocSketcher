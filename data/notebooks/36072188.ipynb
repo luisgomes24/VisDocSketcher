{
 "cells": [
  {
   "cell_type": "markdown",
   "id": "799429b9",
   "metadata": {},
   "source": [
    "# LINEAR  REGRESSION"
   ]
  },
  {
   "cell_type": "markdown",
   "id": "005ddd4c",
   "metadata": {},
   "source": [
    "## IMPORTING LIBRARIES"
   ]
  },
  {
   "cell_type": "code",
   "execution_count": null,
   "id": "d100c334",
   "metadata": {},
   "outputs": [],
   "source": [
    "import pandas as pd \n",
    "import numpy as np\n"
   ]
  },
  {
   "cell_type": "markdown",
   "id": "2a47319d",
   "metadata": {},
   "source": [
    "## IMPORTING THE DATASET"
   ]
  },
  {
   "cell_type": "code",
   "execution_count": null,
   "id": "c8e7dad9",
   "metadata": {},
   "outputs": [],
   "source": [
    "car=pd.read_csv('/kaggle/input/car-15/cardata.csv')"
   ]
  },
  {
   "cell_type": "markdown",
   "id": "ca33be13",
   "metadata": {},
   "source": [
    "#EDA"
   ]
  },
  {
   "cell_type": "code",
   "execution_count": null,
   "id": "da232ade",
   "metadata": {},
   "outputs": [],
   "source": [
    "car.head()"
   ]
  },
  {
   "cell_type": "code",
   "execution_count": null,
   "id": "d0bee520",
   "metadata": {},
   "outputs": [],
   "source": [
    "car.columns"
   ]
  },
  {
   "cell_type": "code",
   "execution_count": null,
   "id": "2a762111",
   "metadata": {},
   "outputs": [],
   "source": [
    "car.info()"
   ]
  },
  {
   "cell_type": "code",
   "execution_count": null,
   "id": "a0fb66d7",
   "metadata": {},
   "outputs": [],
   "source": [
    "car.isnull().sum()"
   ]
  },
  {
   "cell_type": "markdown",
   "id": "780f95d8",
   "metadata": {},
   "source": [
    "# ENCODING COLUMNS"
   ]
  },
  {
   "cell_type": "code",
   "execution_count": null,
   "id": "1416420c",
   "metadata": {},
   "outputs": [],
   "source": [
    "# converting the categorical valuse into numerical values"
   ]
  },
  {
   "cell_type": "code",
   "execution_count": null,
   "id": "0db9e382",
   "metadata": {},
   "outputs": [],
   "source": [
    "\n",
    "car.replace({'Fuel_Type':{'Petrol':0,'Diesel':1,'CNG':2}},inplace=True) \n",
    "car.replace({'Seller_Type':{'Dealer':0,'Individual':1}},inplace=True) \n",
    "car.replace({'Transmission':{'Manual':0,'Automatic':1}},inplace=True) "
   ]
  },
  {
   "cell_type": "markdown",
   "id": "f739eea1",
   "metadata": {},
   "source": [
    "## PLOTTING"
   ]
  },
  {
   "cell_type": "code",
   "execution_count": null,
   "id": "895c98c9",
   "metadata": {},
   "outputs": [],
   "source": [
    "import seaborn as sns\n",
    "import matplotlib.pyplot as plt\n"
   ]
  },
  {
   "cell_type": "code",
   "execution_count": null,
   "id": "eb866c42",
   "metadata": {},
   "outputs": [],
   "source": [
    "# To understand the relationship between different attributes in the dataset, we will plot a correlation matrix "
   ]
  },
  {
   "cell_type": "code",
   "execution_count": null,
   "id": "12d07c3c",
   "metadata": {},
   "outputs": [],
   "source": [
    "corr=car.corr()"
   ]
  },
  {
   "cell_type": "code",
   "execution_count": null,
   "id": "d2532dbe",
   "metadata": {},
   "outputs": [],
   "source": [
    "sns.heatmap(corr,annot=True,cmap='crest')\n",
    "plt.show()"
   ]
  },
  {
   "cell_type": "markdown",
   "id": "2cf05ce4",
   "metadata": {},
   "source": [
    "## SPLITTING THE DATASET"
   ]
  },
  {
   "cell_type": "code",
   "execution_count": null,
   "id": "1466e673",
   "metadata": {},
   "outputs": [],
   "source": [
    "from sklearn.model_selection import train_test_split "
   ]
  },
  {
   "cell_type": "code",
   "execution_count": null,
   "id": "0f0e10fb",
   "metadata": {},
   "outputs": [],
   "source": [
    "#We will use an 80:20 split for training and testing the model"
   ]
  },
  {
   "cell_type": "code",
   "execution_count": null,
   "id": "4f9683d5",
   "metadata": {},
   "outputs": [],
   "source": [
    "X = car.drop(['Car_Name','Selling_Price'],axis=1) \n",
    "Y = car['Selling_Price'] \n",
    "X_train, X_test, Y_train, Y_test = train_test_split(X, Y, test_size = 0.2, random_state=42) "
   ]
  },
  {
   "cell_type": "markdown",
   "id": "ae75567d",
   "metadata": {},
   "source": [
    "## IMPORT LR"
   ]
  },
  {
   "cell_type": "code",
   "execution_count": null,
   "id": "17fd9c55",
   "metadata": {},
   "outputs": [],
   "source": [
    "from sklearn.linear_model import LinearRegression "
   ]
  },
  {
   "cell_type": "code",
   "execution_count": null,
   "id": "4209368a",
   "metadata": {},
   "outputs": [],
   "source": [
    "# loading the linear regression model \n",
    "lrmodel = LinearRegression() \n",
    "# Now we can fit the model to our dataset \n",
    "lrmodel.fit(X_train,Y_train) "
   ]
  },
  {
   "cell_type": "code",
   "execution_count": null,
   "id": "2c7a8bfd",
   "metadata": {},
   "outputs": [],
   "source": [
    "# prediction on Training data \n",
    "training_data_prediction = lrmodel.predict(X_train) "
   ]
  },
  {
   "cell_type": "code",
   "execution_count": null,
   "id": "f6cb5f41",
   "metadata": {},
   "outputs": [],
   "source": [
    "#prediction on testing data\n",
    "Y_pred = lrmodel.predict(X_test) "
   ]
  },
  {
   "cell_type": "code",
   "execution_count": null,
   "id": "5f05a153",
   "metadata": {},
   "outputs": [],
   "source": [
    "sns.regplot(x=Y_test, y=Y_pred,data=car, scatter_kws={\"color\": \"green\"}, line_kws={\"color\": \"blue\"}) "
   ]
  },
  {
   "cell_type": "code",
   "execution_count": null,
   "id": "3a518c5b",
   "metadata": {},
   "outputs": [],
   "source": [
    "\n"
   ]
  },
  {
   "cell_type": "code",
   "execution_count": null,
   "id": "a6772001",
   "metadata": {},
   "outputs": [],
   "source": [
    "nan"
   ]
  },
  {
   "cell_type": "code",
   "execution_count": null,
   "id": "3832dcad",
   "metadata": {},
   "outputs": [],
   "source": [
    "nan"
   ]
  }
 ],
 "metadata": {},
 "nbformat": 4,
 "nbformat_minor": 5
}
