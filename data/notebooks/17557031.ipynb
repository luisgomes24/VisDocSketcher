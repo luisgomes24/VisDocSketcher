{
 "cells": [
  {
   "cell_type": "code",
   "execution_count": null,
   "id": "285bdc21",
   "metadata": {},
   "outputs": [],
   "source": [
    "!pip install mglearn==0.1.9"
   ]
  },
  {
   "cell_type": "code",
   "execution_count": null,
   "id": "1a86d52e",
   "metadata": {},
   "outputs": [],
   "source": [
    "%matplotlib inline\n",
    "import sys\n",
    "from scipy import sparse\n",
    "print(\"Python version: {}\".format(sys.version))\n",
    "import pandas as pd\n",
    "print(\"pandas version: {}\".format(pd.__version__))\n",
    "import matplotlib\n",
    "print(\"matplotlib version: {}\".format(matplotlib.__version__))\n",
    "import numpy as np\n",
    "print(\"NumPy version: {}\".format(np.__version__))\n",
    "import scipy as sp\n",
    "print(\"SciPy version: {}\".format(sp.__version__))\n",
    "import IPython\n",
    "print(\"IPython version: {}\".format(IPython.__version__))\n",
    "import sklearn\n",
    "print(\"scikit-learn version: {}\".format(sklearn.__version__))\n",
    "import mglearn\n",
    "import matplotlib.pyplot as plt"
   ]
  },
  {
   "cell_type": "markdown",
   "id": "e713c852",
   "metadata": {},
   "source": [
    "# Linear Models For Binary Classification"
   ]
  },
  {
   "cell_type": "code",
   "execution_count": null,
   "id": "fc657ade",
   "metadata": {},
   "outputs": [],
   "source": [
    "from sklearn.linear_model import LogisticRegression\n",
    "from sklearn.svm import LinearSVC\n",
    "X, y = mglearn.datasets.make_forge()\n",
    "fig, axes = plt.subplots(1, 2, figsize=(20, 6))\n",
    "for model, ax in zip([LinearSVC(), LogisticRegression()], axes):\n",
    "    clf = model.fit(X, y)\n",
    "    mglearn.plots.plot_2d_separator(clf, X, fill=False, eps=0.5,\n",
    "    ax=ax, alpha=.7)\n",
    "    mglearn.discrete_scatter(X[:, 0], X[:, 1], y, ax=ax)\n",
    "    ax.set_title(\"{}\".format(clf.__class__.__name__))\n",
    "    ax.set_xlabel(\"Feature 0\")\n",
    "    ax.set_ylabel(\"Feature 1\")\n",
    "axes[0].legend()"
   ]
  },
  {
   "cell_type": "markdown",
   "id": "9914584e",
   "metadata": {},
   "source": [
    "**In the figure above, we display the first feature of the forge dataset on the x axis and 2nd feature on the y-axis. The decision boundaries found by LinearSVC and LogisticRegression are displayed as straight lines, separating the area classifies as class 1 and 0.**"
   ]
  },
  {
   "cell_type": "markdown",
   "id": "e3f59b9c",
   "metadata": {},
   "source": [
    "**Here regularization parameter is applied where the strength of the regularization is called 'C'. Higher values of 'C' corresponds to less regulariztion.**"
   ]
  },
  {
   "cell_type": "code",
   "execution_count": null,
   "id": "155f7dee",
   "metadata": {},
   "outputs": [],
   "source": [
    "mglearn.plots.plot_linear_svc_regularization()"
   ]
  },
  {
   "cell_type": "markdown",
   "id": "5856d52a",
   "metadata": {},
   "source": [
    "**On the lefthand figure, small C means a lot of regularization. In the centre plot, C is slightly higher and the very high value of C in the model tilts the decision boundary a lot, now correctly classifying all the points in class 0. One of the points in class 1 is still classified, as it is not possible to correctly classify all points in this dataset using a straight\n",
    "line.**"
   ]
  },
  {
   "cell_type": "markdown",
   "id": "b30ad286",
   "metadata": {},
   "source": [
    "**Let's analyze LinearLogisticRegression in more detail on the Breast Cancer dataset.**"
   ]
  },
  {
   "cell_type": "code",
   "execution_count": null,
   "id": "deaa4e0e",
   "metadata": {},
   "outputs": [],
   "source": [
    "from sklearn.model_selection import train_test_split\n",
    "from sklearn.datasets import load_breast_cancer\n",
    "cancer = load_breast_cancer()\n",
    "X_train, X_test, y_train, y_test = train_test_split(\n",
    "cancer.data, cancer.target, stratify=cancer.target, random_state=42)\n",
    "logreg = LogisticRegression().fit(X_train, y_train)\n",
    "print(\"Training set score: {:.3f}\".format(logreg.score(X_train, y_train)))\n",
    "print(\"Test set score: {:.3f}\".format(logreg.score(X_test, y_test)))"
   ]
  },
  {
   "cell_type": "markdown",
   "id": "30a883d3",
   "metadata": {},
   "source": [
    "**The default value of C=1 provides quite good performance, with 95% accuracy on both the training and the test set. But as training and test set performance are very close, it is likely that we are underfitting. Let’s try to increase C to fit a more flexible model.**"
   ]
  },
  {
   "cell_type": "markdown",
   "id": "ff008cdb",
   "metadata": {},
   "source": [
    "**Using C=100 results in higher training set accuracy, and also a slightly increased test set accuracy, confirming our intuition that a more complex model should perform better.**"
   ]
  },
  {
   "cell_type": "code",
   "execution_count": null,
   "id": "74769f37",
   "metadata": {},
   "outputs": [],
   "source": [
    "logreg100 = LogisticRegression(C=100).fit(X_train, y_train)\n",
    "print(\"Training set score: {:.3f}\".format(logreg100.score(X_train, y_train)))\n",
    "print(\"Test set score: {:.3f}\".format(logreg100.score(X_test, y_test)))"
   ]
  },
  {
   "cell_type": "markdown",
   "id": "f5484440",
   "metadata": {},
   "source": [
    "**We can also investigate what happens if we use an even more regularized model than the default of C=1, by setting C=0.01:**"
   ]
  },
  {
   "cell_type": "code",
   "execution_count": null,
   "id": "9246b2ef",
   "metadata": {},
   "outputs": [],
   "source": [
    "logreg001 = LogisticRegression(C=0.01).fit(X_train, y_train)\n",
    "print(\"Training set score: {:.3f}\".format(logreg001.score(X_train, y_train)))\n",
    "print(\"Test set score: {:.3f}\".format(logreg001.score(X_test, y_test)))"
   ]
  },
  {
   "cell_type": "markdown",
   "id": "89e7e773",
   "metadata": {},
   "source": [
    "**Let's look at the coefficients learned by the models with the three different settings of the regularization parameter C**"
   ]
  },
  {
   "cell_type": "code",
   "execution_count": null,
   "id": "cd130b9c",
   "metadata": {},
   "outputs": [],
   "source": [
    "plt.figure(figsize=(20,6))\n",
    "plt.plot(logreg.coef_.T, 'o', label=\"C=1\")\n",
    "plt.plot(logreg100.coef_.T, '^', label=\"C=100\")\n",
    "plt.plot(logreg001.coef_.T, 'v', label=\"C=0.001\")\n",
    "plt.xticks(range(cancer.data.shape[1]), cancer.feature_names, rotation=90)\n",
    "plt.hlines(0, 0, cancer.data.shape[1])\n",
    "plt.ylim(-5, 5)\n",
    "plt.xlabel(\"Coefficient index\")\n",
    "plt.ylabel(\"Coefficient magnitude\")\n",
    "plt.legend()"
   ]
  },
  {
   "cell_type": "markdown",
   "id": "7d48f826",
   "metadata": {},
   "source": [
    "**As Logistic Regression applies L2 regularization by default, the results look similar to that produced by ridge regularization. Stronger regularization pushes coefficients more and more toward zero. By observing the plot more closely, we can also see an interesting effect in the third coefficient, for “mean perimeter.” For C=100 and C=1, the coefficient\n",
    "is negative, while for C=0.001, the coefficient is positive, with a magnitude that is even larger than for C=1. Interpreting a model like this, one might think the coefficient tells us which class a feature is associated with. For example, one might think that a high “texture error” feature is related to a sample being “malignant.” However, the change of sign in the coefficient for “mean perimeter” means that depending on which model we look at, a high “mean perimeter” could be taken as being either indicative of “benign” or indicative of “malignant.”**"
   ]
  },
  {
   "cell_type": "markdown",
   "id": "5a3213ee",
   "metadata": {},
   "source": [
    "**Coefficient plot and classification accuracies for L2 regularization**"
   ]
  },
  {
   "cell_type": "code",
   "execution_count": null,
   "id": "2c6d1a63",
   "metadata": {},
   "outputs": [],
   "source": [
    "for C, marker in zip([0.001, 1, 100], ['o', '^', 'v']):\n",
    "    lr_l2 = LogisticRegression(C=C, penalty=\"l2\").fit(X_train, y_train)\n",
    "    print(\"Training accuracy of l2 logreg with C={:.3f}: {:.2f}\".format(C, lr_l2.score(X_train, y_train)))\n",
    "    print(\"Test accuracy of l2 logreg with C={:.3f}: {:.2f}\".format(C, lr_l2.score(X_test, y_test)))\n",
    "    plt.plot(lr_l2.coef_.T, marker, label=\"C={:.3f}\".format(C))\n",
    "plt.xticks(range(cancer.data.shape[1]), cancer.feature_names, rotation=90)\n",
    "plt.hlines(0, 0, cancer.data.shape[1])\n",
    "plt.xlabel(\"Coefficient index\")\n",
    "plt.ylabel(\"Coefficient magnitude\")\n",
    "plt.ylim(-5, 5)\n",
    "plt.legend(loc=3)"
   ]
  },
  {
   "cell_type": "markdown",
   "id": "0bd1ec32",
   "metadata": {},
   "source": [
    "# Linear Models For Multi-Class Classification"
   ]
  },
  {
   "cell_type": "markdown",
   "id": "2cc24f3c",
   "metadata": {},
   "source": [
    "**Two-dimensional toy dataset shows dataset containing 3 classes**"
   ]
  },
  {
   "cell_type": "code",
   "execution_count": null,
   "id": "4d962584",
   "metadata": {},
   "outputs": [],
   "source": [
    "from sklearn.datasets import make_blobs\n",
    "X, y = make_blobs(random_state=42)\n",
    "mglearn.discrete_scatter(X[:, 0], X[:, 1], y)\n",
    "plt.xlabel(\"Feature 0\")\n",
    "plt.ylabel(\"Feature 1\")\n",
    "plt.legend([\"Class 0\", \"Class 1\", \"Class 2\"])"
   ]
  },
  {
   "cell_type": "markdown",
   "id": "89d82667",
   "metadata": {},
   "source": [
    "**Now, we train a LinearSVC classifier on the dataset**"
   ]
  },
  {
   "cell_type": "code",
   "execution_count": null,
   "id": "d556f5ac",
   "metadata": {},
   "outputs": [],
   "source": [
    "linear_svm = LinearSVC().fit(X, y)\n",
    "print(\"Coefficient shape: \", linear_svm.coef_.shape)\n",
    "print(\"Intercept shape: \", linear_svm.intercept_.shape)"
   ]
  },
  {
   "cell_type": "code",
   "execution_count": null,
   "id": "65d99b64",
   "metadata": {},
   "outputs": [],
   "source": [
    "mglearn.discrete_scatter(X[:, 0], X[:, 1], y)\n",
    "line = np.linspace(-15, 15)\n",
    "for coef, intercept, color in zip(linear_svm.coef_, linear_svm.intercept_,['b', 'r', 'g']):\n",
    "    plt.plot(line, -(line * coef[0] + intercept) / coef[1], c=color)\n",
    "plt.ylim(-10, 15)\n",
    "plt.xlim(-10, 8)\n",
    "plt.xlabel(\"Feature 0\")\n",
    "plt.ylabel(\"Feature 1\")\n",
    "plt.legend(['Class 0', 'Class 1', 'Class 2', 'Line class 0', 'Line class 1',\n",
    "'Line class 2'], loc=(1.01, 0.3))"
   ]
  },
  {
   "cell_type": "markdown",
   "id": "65c88e56",
   "metadata": {},
   "source": [
    "**You can see that all the points belonging to class 0 in the training data are above the  line corresponding to class 0, which means they are on the “class 0” side of this binary classifier. The points in class 0 are above the line corresponding to class 2, which means they are classified as “rest” by the binary classifier for class 2. The points belonging to class 0 are to the left of the line corresponding to class 1, which means the binary classifier for class 1 also classifies them as “rest.” Therefore, any point in this area will be classified as class 0 by the final classifier the result of the classification confidence formula for classifier 0 is greater than zero, while it is smaller than zero for the other two classes.**"
   ]
  },
  {
   "cell_type": "code",
   "execution_count": null,
   "id": "648976b6",
   "metadata": {},
   "outputs": [],
   "source": [
    "mglearn.plots.plot_2d_classification(linear_svm, X, fill=True, alpha=.7)\n",
    "mglearn.discrete_scatter(X[:, 0], X[:, 1], y)\n",
    "line = np.linspace(-15, 15)\n",
    "for coef, intercept, color in zip(linear_svm.coef_, linear_svm.intercept_,['b', 'r', 'g']):\n",
    "    plt.plot(line, -(line * coef[0] + intercept) / coef[1], c=color)\n",
    "plt.legend(['Class 0', 'Class 1', 'Class 2', 'Line class 0', 'Line class 1',\n",
    "'Line class 2'], loc=(1.01, 0.3))\n",
    "plt.xlabel(\"Feature 0\")\n",
    "plt.ylabel(\"Feature 1\")"
   ]
  },
  {
   "cell_type": "markdown",
   "id": "7425afd8",
   "metadata": {},
   "source": [
    "**The above figure shows Multiclass decision boundaries derived from the three one-vs.-rest classifiers**"
   ]
  }
 ],
 "metadata": {},
 "nbformat": 4,
 "nbformat_minor": 5
}
