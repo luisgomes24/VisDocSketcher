{
 "cells": [
  {
   "cell_type": "markdown",
   "id": "ef51000c",
   "metadata": {},
   "source": [
    "# Google Landmark Recognition 2020: Shake-up Report "
   ]
  },
  {
   "cell_type": "markdown",
   "id": "f310552a",
   "metadata": {},
   "source": [
    "# Google Landmark Recognition 2020: Shake-up Report "
   ]
  },
  {
   "cell_type": "code",
   "execution_count": null,
   "id": "aa8f8ea1",
   "metadata": {},
   "outputs": [],
   "source": [
    "import os, sys, subprocess\n",
    "import numpy as np\n",
    "import pandas as pd\n",
    "import gc\n",
    "import matplotlib.pyplot as plt\n",
    "import seaborn as sns\n",
    "from IPython.core.display import HTML, Image\n",
    "from scipy.stats import skew, kurtosis\n",
    "\n",
    "# import chart_studio.plotly as py\n",
    "import plotly.graph_objs as go\n",
    "import plotly.express as px\n",
    "from plotly.offline import init_notebook_mode, iplot\n",
    "init_notebook_mode(connected=True)\n",
    "\n",
    "from html.parser import HTMLParser\n",
    "\n",
    "pd.set_option('display.max_rows', 150)\n",
    "\n",
    "print('List of datasets:')\n",
    "print(os.listdir(\"../input/\"))\n",
    "print('LB files:')\n",
    "print(os.listdir(\"../input/lr-2020-publicpvt-lb/\"))"
   ]
  },
  {
   "cell_type": "code",
   "execution_count": null,
   "id": "507567f6",
   "metadata": {},
   "outputs": [],
   "source": [
    "import os, sys, subprocess\n",
    "import numpy as np\n",
    "import pandas as pd\n",
    "import gc\n",
    "import matplotlib.pyplot as plt\n",
    "import seaborn as sns\n",
    "from IPython.core.display import HTML, Image\n",
    "from scipy.stats import skew, kurtosis\n",
    "\n",
    "# import chart_studio.plotly as py\n",
    "import plotly.graph_objs as go\n",
    "import plotly.express as px\n",
    "from plotly.offline import init_notebook_mode, iplot\n",
    "init_notebook_mode(connected=True)\n",
    "\n",
    "from html.parser import HTMLParser\n",
    "\n",
    "pd.set_option('display.max_rows', 150)\n",
    "\n",
    "print('List of datasets:')\n",
    "print(os.listdir(\"../input/\"))\n",
    "print('LB files:')\n",
    "print(os.listdir(\"../input/lr-2020-publicpvt-lb/\"))"
   ]
  },
  {
   "cell_type": "markdown",
   "id": "d32c5751",
   "metadata": {},
   "source": [
    "# Helpers"
   ]
  },
  {
   "cell_type": "markdown",
   "id": "ff7860cf",
   "metadata": {},
   "source": [
    "# Helpers"
   ]
  },
  {
   "cell_type": "code",
   "execution_count": null,
   "id": "5eaa880d",
   "metadata": {},
   "outputs": [],
   "source": [
    "# see: https://www.kaggle.com/pednoi/visualize-the-shakeups-of-10-recent-competitions/data?select=Elo+Merchant+Category+Recommendation+_+Kaggle.html\n",
    "\n",
    "class RankParser(HTMLParser):\n",
    "\n",
    "    def __init__(self):\n",
    "        self.entered = False\n",
    "        self.sign = ''\n",
    "        self.data = []\n",
    "        \n",
    "        super().__init__()\n",
    "    \n",
    "    def handle_starttag(self, tag, attrs):\n",
    "        if tag == 'td' and ('data-th', 'Change') in attrs:\n",
    "            self.entered = True\n",
    "            \n",
    "        if self.entered and tag == 'span':\n",
    "            if len(attrs) > 0 and len(attrs[0]) > 1 and attrs[0][1].startswith('position-change'):\n",
    "                direction = attrs[0][1][len('position-change__'):]\n",
    "                if direction == 'fallen':\n",
    "                    self.sign = '-'                    \n",
    "\n",
    "    def handle_endtag(self, tag):\n",
    "        if self.entered and tag == 'td':\n",
    "            self.entered = False\n",
    "            self.sign = ''\n",
    "\n",
    "    def handle_data(self, data):\n",
    "        if self.entered:\n",
    "            data = '0' if data == '—' else data\n",
    "            self.data.append(int(self.sign+data.strip()))\n",
    "    \n",
    "    def get_data(self):\n",
    "        return self.data\n",
    "\n",
    "def read_html(file_path):\n",
    "    content = open(file_path, encoding='utf-8').read()    \n",
    "    parser = RankParser()\n",
    "    parser.feed(content)\n",
    "    return parser.get_data()\n",
    "\n",
    "\n",
    "def do_read_csv(name):\n",
    "    df = pd.read_csv(name, low_memory=False)\n",
    "    print ('> Loaded:', name, df.shape)\n",
    "    return df"
   ]
  },
  {
   "cell_type": "code",
   "execution_count": null,
   "id": "4b73ec1b",
   "metadata": {},
   "outputs": [],
   "source": [
    "# see: https://www.kaggle.com/pednoi/visualize-the-shakeups-of-10-recent-competitions/data?select=Elo+Merchant+Category+Recommendation+_+Kaggle.html\n",
    "\n",
    "class RankParser(HTMLParser):\n",
    "\n",
    "    def __init__(self):\n",
    "        self.entered = False\n",
    "        self.sign = ''\n",
    "        self.data = []\n",
    "        \n",
    "        super().__init__()\n",
    "    \n",
    "    def handle_starttag(self, tag, attrs):\n",
    "        if tag == 'td' and ('data-th', 'Change') in attrs:\n",
    "            self.entered = True\n",
    "            \n",
    "        if self.entered and tag == 'span':\n",
    "            if len(attrs) > 0 and len(attrs[0]) > 1 and attrs[0][1].startswith('position-change'):\n",
    "                direction = attrs[0][1][len('position-change__'):]\n",
    "                if direction == 'fallen':\n",
    "                    self.sign = '-'                    \n",
    "\n",
    "    def handle_endtag(self, tag):\n",
    "        if self.entered and tag == 'td':\n",
    "            self.entered = False\n",
    "            self.sign = ''\n",
    "\n",
    "    def handle_data(self, data):\n",
    "        if self.entered:\n",
    "            data = '0' if data == '—' else data\n",
    "            self.data.append(int(self.sign+data.strip()))\n",
    "    \n",
    "    def get_data(self):\n",
    "        return self.data\n",
    "\n",
    "def read_html(file_path):\n",
    "    content = open(file_path, encoding='utf-8').read()    \n",
    "    parser = RankParser()\n",
    "    parser.feed(content)\n",
    "    return parser.get_data()\n",
    "\n",
    "\n",
    "def do_read_csv(name):\n",
    "    df = pd.read_csv(name, low_memory=False)\n",
    "    print ('> Loaded:', name, df.shape)\n",
    "    return df"
   ]
  },
  {
   "cell_type": "code",
   "execution_count": null,
   "id": "56b5206a",
   "metadata": {},
   "outputs": [],
   "source": [
    "def plot_hist(title, diff):\n",
    "    stats = \"\"\n",
    "    stats += \"count = %d\\n\" % len(diff)\n",
    "    stats += \"mean = %.2f\\n\" % np.mean(diff) # always zero because the data are zero-sum\n",
    "    stats += \"std = %.4f\\n\" % np.std(diff)\n",
    "    stats += \"skew = %.4f\\n\" % skew(diff)\n",
    "    stats += \"kurtosis = %.4f\\n\" % kurtosis(diff)\n",
    "    \n",
    "    print(\"Mean shake-up       \" ,np.mean(diff))\n",
    "    print(\"\\nMedian shake-up     \" ,np.median(diff))\n",
    "    print(\"\\nMax shake-up        \" ,np.max(diff))\n",
    "    print(\"\\nMin shake-down ;)   \" ,np.min(diff))\n",
    "    print(\"\\nStd shake-up        \" ,np.std(diff))\n",
    "    \n",
    "    fig = plt.figure(figsize=(16, 6))\n",
    "    #     sns.distplot(diff, bins=100)\n",
    "    plt.hist(diff, bins = 50, edgecolor = 'black', color = 'green')\n",
    "    plt.text(0.05, 0.5, stats, transform=plt.gca().transAxes)\n",
    "    plt.xlabel(\"Places Shake-up\")\n",
    "    plt.ylabel(\"Frequency\")\n",
    "    plt.title(title)\n",
    "    plt.show()\n",
    "\n",
    "\n",
    "def color_negative_red(val):\n",
    "    \"\"\"\n",
    "    Takes a scalar and returns a string with\n",
    "    the css property `'color: red'` for negative\n",
    "    strings, black otherwise.\n",
    "    \"\"\"\n",
    "    try:\n",
    "        color = 'red' if val < 0 else 'black'\n",
    "    except:\n",
    "        color = 'black'\n",
    "    return 'color: %s' % color\n",
    "\n",
    "\n",
    "def plot_candle(title, diff):\n",
    "    closes = np.array(range(len(diff)))+1\n",
    "    opens = closes + np.array(diff)\n",
    "    highs = np.where(np.array(diff)<0, closes, opens)\n",
    "    lows =  np.where(np.array(diff)>=0, closes, opens)\n",
    "    \n",
    "    hovertext = ['private lb: '+str(c)+'<br>public lb: '+ str(o) +'<br>TeamName: '+str(pvt_lb.iloc[c-1]['TeamName'])  for o, c in zip(opens, closes)]\n",
    "\n",
    "    trace = go.Ohlc(x=list(range(1, len(diff)+1)), open=opens, high=highs, low=lows, close=closes,\n",
    "                    increasing=dict(line=dict(color='#800000')), # '#FF6699'\n",
    "                    decreasing=dict(line=dict(color='#228B22')),          # '#66DD99'\n",
    "                    text=hovertext, \n",
    "                    hoverinfo='text')\n",
    "    \n",
    "    layout = go.Layout(\n",
    "        title = \"<b>%s</b>\" % title,\n",
    "        xaxis = dict(\n",
    "            title='Final ranks (Pvt LB)',\n",
    "            rangeslider = dict(visible=False)\n",
    "        ), \n",
    "        yaxis=dict(\n",
    "            title='shakeups',\n",
    "            autorange='reversed'\n",
    "        ),\n",
    "        width=800,\n",
    "        height=600,\n",
    "    )\n",
    "    \n",
    "    fig = go.Figure(data=[trace], layout=layout)    \n",
    "    iplot(fig, filename='shakeup_candlestick')\n",
    "    \n",
    "    \n",
    "def make_scatter_competitions(comps, teams):\n",
    "\n",
    "    shakes = {}\n",
    "    COLOR_DICT = {0: 'deepskyblue', 1: 'gold', 2: 'silver', 3: 'chocolate'}\n",
    "    plt.rc('font', size=14)\n",
    "    for i, df in teams.groupby('CompetitionId', sort=False):\n",
    "        fname = comps.Slug[i]\n",
    "        row = comps.loc[i]\n",
    "        shakeup = df.eval('abs(PrivateLeaderboardRank-PublicLeaderboardRank)').mean() / df.shape[0]\n",
    "        title = (f'{row.Title} — {row.TotalTeams} teams — '\n",
    "                 f'{shakeup:.3f} shake-up — {row.DeadlineText}')\n",
    "        shakes[i] = shakeup\n",
    "        df = df.sort_values('PrivateLeaderboardRank', ascending=False)  # plot gold last\n",
    "        ax = df.plot.scatter('PublicLeaderboardRank', 'PrivateLeaderboardRank', c=df.Medal.map(COLOR_DICT), figsize=(15, 15))\n",
    "        plt.title(title, fontsize=16)\n",
    "        l = np.arange(df.PrivateLeaderboardRank.max())\n",
    "        ax.plot(l, l, linestyle='--', linewidth=1, color='Black', alpha=0.5)\n",
    "        ax.set_xlabel('Public Leaderboard Rank')\n",
    "        ax.set_ylabel('Private Leaderboard Rank')\n",
    "        plt.tight_layout()\n",
    "        plt.show()\n",
    "    return shakes"
   ]
  },
  {
   "cell_type": "code",
   "execution_count": null,
   "id": "63166a55",
   "metadata": {},
   "outputs": [],
   "source": [
    "def plot_hist(title, diff):\n",
    "    stats = \"\"\n",
    "    stats += \"count = %d\\n\" % len(diff)\n",
    "    stats += \"mean = %.2f\\n\" % np.mean(diff) # always zero because the data are zero-sum\n",
    "    stats += \"std = %.4f\\n\" % np.std(diff)\n",
    "    stats += \"skew = %.4f\\n\" % skew(diff)\n",
    "    stats += \"kurtosis = %.4f\\n\" % kurtosis(diff)\n",
    "    \n",
    "    print(\"Mean shake-up       \" ,np.mean(diff))\n",
    "    print(\"\\nMedian shake-up     \" ,np.median(diff))\n",
    "    print(\"\\nMax shake-up        \" ,np.max(diff))\n",
    "    print(\"\\nMin shake-down ;)   \" ,np.min(diff))\n",
    "    print(\"\\nStd shake-up        \" ,np.std(diff))\n",
    "    \n",
    "    fig = plt.figure(figsize=(16, 6))\n",
    "    #     sns.distplot(diff, bins=100)\n",
    "    plt.hist(diff, bins = 50, edgecolor = 'black', color = 'green')\n",
    "    plt.text(0.05, 0.5, stats, transform=plt.gca().transAxes)\n",
    "    plt.xlabel(\"Places Shake-up\")\n",
    "    plt.ylabel(\"Frequency\")\n",
    "    plt.title(title)\n",
    "    plt.show()\n",
    "\n",
    "\n",
    "def color_negative_red(val):\n",
    "    \"\"\"\n",
    "    Takes a scalar and returns a string with\n",
    "    the css property `'color: red'` for negative\n",
    "    strings, black otherwise.\n",
    "    \"\"\"\n",
    "    try:\n",
    "        color = 'red' if val < 0 else 'black'\n",
    "    except:\n",
    "        color = 'black'\n",
    "    return 'color: %s' % color\n",
    "\n",
    "\n",
    "def plot_candle(title, diff):\n",
    "    closes = np.array(range(len(diff)))+1\n",
    "    opens = closes + np.array(diff)\n",
    "    highs = np.where(np.array(diff)<0, closes, opens)\n",
    "    lows =  np.where(np.array(diff)>=0, closes, opens)\n",
    "    \n",
    "    hovertext = ['private lb: '+str(c)+'<br>public lb: '+ str(o) +'<br>TeamName: '+str(pvt_lb.iloc[c-1]['TeamName'])  for o, c in zip(opens, closes)]\n",
    "\n",
    "    trace = go.Ohlc(x=list(range(1, len(diff)+1)), open=opens, high=highs, low=lows, close=closes,\n",
    "                    increasing=dict(line=dict(color='#800000')), # '#FF6699'\n",
    "                    decreasing=dict(line=dict(color='#228B22')),          # '#66DD99'\n",
    "                    text=hovertext, \n",
    "                    hoverinfo='text')\n",
    "    \n",
    "    layout = go.Layout(\n",
    "        title = \"<b>%s</b>\" % title,\n",
    "        xaxis = dict(\n",
    "            title='Final ranks (Pvt LB)',\n",
    "            rangeslider = dict(visible=False)\n",
    "        ), \n",
    "        yaxis=dict(\n",
    "            title='shakeups',\n",
    "            autorange='reversed'\n",
    "        ),\n",
    "        width=800,\n",
    "        height=600,\n",
    "    )\n",
    "    \n",
    "    fig = go.Figure(data=[trace], layout=layout)    \n",
    "    iplot(fig, filename='shakeup_candlestick')\n",
    "    \n",
    "    \n",
    "def make_scatter_competitions(comps, teams):\n",
    "\n",
    "    shakes = {}\n",
    "    COLOR_DICT = {0: 'deepskyblue', 1: 'gold', 2: 'silver', 3: 'chocolate'}\n",
    "    plt.rc('font', size=14)\n",
    "    for i, df in teams.groupby('CompetitionId', sort=False):\n",
    "        fname = comps.Slug[i]\n",
    "        row = comps.loc[i]\n",
    "        shakeup = df.eval('abs(PrivateLeaderboardRank-PublicLeaderboardRank)').mean() / df.shape[0]\n",
    "        title = (f'{row.Title} — {row.TotalTeams} teams — '\n",
    "                 f'{shakeup:.3f} shake-up — {row.DeadlineText}')\n",
    "        shakes[i] = shakeup\n",
    "        df = df.sort_values('PrivateLeaderboardRank', ascending=False)  # plot gold last\n",
    "        ax = df.plot.scatter('PublicLeaderboardRank', 'PrivateLeaderboardRank', c=df.Medal.map(COLOR_DICT), figsize=(15, 15))\n",
    "        plt.title(title, fontsize=16)\n",
    "        l = np.arange(df.PrivateLeaderboardRank.max())\n",
    "        ax.plot(l, l, linestyle='--', linewidth=1, color='Black', alpha=0.5)\n",
    "        ax.set_xlabel('Public Leaderboard Rank')\n",
    "        ax.set_ylabel('Private Leaderboard Rank')\n",
    "        plt.tight_layout()\n",
    "        plt.show()\n",
    "    return shakes"
   ]
  },
  {
   "cell_type": "markdown",
   "id": "6d74203f",
   "metadata": {},
   "source": [
    "# Load LB data"
   ]
  },
  {
   "cell_type": "markdown",
   "id": "1c06b638",
   "metadata": {},
   "source": [
    "# Load LB data"
   ]
  },
  {
   "cell_type": "code",
   "execution_count": null,
   "id": "954dddf7",
   "metadata": {},
   "outputs": [],
   "source": [
    "CSV_DIR = \"../input/lr-2020-publicpvt-lb\"\n",
    "HTML_DIR = \"../input/lr-2020-publicpvt-lb\"\n",
    "META_DIR = \"../input/meta-kaggle\""
   ]
  },
  {
   "cell_type": "code",
   "execution_count": null,
   "id": "fef7ca29",
   "metadata": {},
   "outputs": [],
   "source": [
    "CSV_DIR = \"../input/lr-2020-publicpvt-lb\"\n",
    "HTML_DIR = \"../input/lr-2020-publicpvt-lb\"\n",
    "META_DIR = \"../input/meta-kaggle\""
   ]
  },
  {
   "cell_type": "code",
   "execution_count": null,
   "id": "1e7f82b0",
   "metadata": {},
   "outputs": [],
   "source": [
    "# read PUBLIC LB (csv)\n",
    "\n",
    "public_lb = do_read_csv(f'{CSV_DIR}/LR-2020-public_LB.csv')  \n",
    "print('Public LB (final @03/10/2020) shape before cleaning:', len(public_lb))\n",
    "\n",
    "# create df for future use\n",
    "public_scores = public_lb.groupby(['TeamId'])['Score'].agg('max').sort_values(ascending=False)\n",
    "\n",
    "public_Scores = pd.DataFrame(public_scores)\n",
    "public_Scores = public_Scores.reset_index()\n",
    "\n",
    "public_Scores = public_Scores.merge(public_lb[['TeamId', 'TeamName']], on='TeamId', how='right').drop_duplicates()\n",
    "\n",
    "print('Public LB (final @03/10/2020) shape after cleaning:', len(public_Scores))"
   ]
  },
  {
   "cell_type": "code",
   "execution_count": null,
   "id": "2f4005e2",
   "metadata": {},
   "outputs": [],
   "source": [
    "# read PUBLIC LB (csv)\n",
    "\n",
    "public_lb = do_read_csv(f'{CSV_DIR}/LR-2020-public_LB.csv')  \n",
    "print('Public LB (final @03/10/2020) shape before cleaning:', len(public_lb))\n",
    "\n",
    "# create df for future use\n",
    "public_scores = public_lb.groupby(['TeamId'])['Score'].agg('max').sort_values(ascending=False)\n",
    "\n",
    "public_Scores = pd.DataFrame(public_scores)\n",
    "public_Scores = public_Scores.reset_index()\n",
    "\n",
    "public_Scores = public_Scores.merge(public_lb[['TeamId', 'TeamName']], on='TeamId', how='right').drop_duplicates()\n",
    "\n",
    "print('Public LB (final @03/10/2020) shape after cleaning:', len(public_Scores))"
   ]
  },
  {
   "cell_type": "code",
   "execution_count": null,
   "id": "6d68e198",
   "metadata": {},
   "outputs": [],
   "source": [
    "# read PVT LB (html)\n",
    "\n",
    "pvt_lb = pd.read_excel(f'{CSV_DIR}/LR-2020-pvt_LB.xlsx', header=[0])\n",
    "pvt_lb = pvt_lb[['#', '△pub', 'Team Name','Score', 'Entries', 'Last']]\n",
    "pvt_lb.columns = ['Pvt_rank','pos_change', 'TeamName', 'Pvt_score', 'no_submissions', 'Last']                \n",
    "                \n",
    "\n",
    "# modify shake-up column\n",
    "pvt_lb.pos_change = pvt_lb.pos_change.replace(to_replace='—', value=0)\n",
    "pvt_lb.pos_change = pvt_lb.pos_change.astype(int)\n",
    "\n",
    "\n",
    "\n",
    "file = 'LR-2020-pvt-LB.htm'\n",
    "shake_up = read_html(f'{HTML_DIR}/{file}')\n",
    "pvt_lb['shake'] = np.array(shake_up)\n",
    "\n",
    "print('No. of Teams in PVT LB (final @03/10/2020):', len(pvt_lb))"
   ]
  },
  {
   "cell_type": "code",
   "execution_count": null,
   "id": "274cd99a",
   "metadata": {},
   "outputs": [],
   "source": [
    "# read PVT LB (html)\n",
    "\n",
    "pvt_lb = pd.read_excel(f'{CSV_DIR}/LR-2020-pvt_LB.xlsx', header=[0])\n",
    "pvt_lb = pvt_lb[['#', '△pub', 'Team Name','Score', 'Entries', 'Last']]\n",
    "pvt_lb.columns = ['Pvt_rank','pos_change', 'TeamName', 'Pvt_score', 'no_submissions', 'Last']                \n",
    "                \n",
    "\n",
    "# modify shake-up column\n",
    "pvt_lb.pos_change = pvt_lb.pos_change.replace(to_replace='—', value=0)\n",
    "pvt_lb.pos_change = pvt_lb.pos_change.astype(int)\n",
    "\n",
    "\n",
    "\n",
    "file = 'LR-2020-pvt-LB.htm'\n",
    "shake_up = read_html(f'{HTML_DIR}/{file}')\n",
    "pvt_lb['shake'] = np.array(shake_up)\n",
    "\n",
    "print('No. of Teams in PVT LB (final @03/10/2020):', len(pvt_lb))"
   ]
  },
  {
   "cell_type": "code",
   "execution_count": null,
   "id": "6450b682",
   "metadata": {},
   "outputs": [],
   "source": [
    "assert len(public_Scores)==len(pvt_lb), 'Not valid shapes!'"
   ]
  },
  {
   "cell_type": "code",
   "execution_count": null,
   "id": "b7787434",
   "metadata": {},
   "outputs": [],
   "source": [
    "assert len(public_Scores)==len(pvt_lb), 'Not valid shapes!'"
   ]
  },
  {
   "cell_type": "markdown",
   "id": "77139c73",
   "metadata": {},
   "source": [
    "# Distribution of Number of Places Shake Up\n",
    "\n",
    "### Final LB (@03/10/2020)\n",
    "\n",
    "- Max jump-up (shake-up): +451\n",
    "\n",
    "- Max jump-down (shake-down): -474"
   ]
  },
  {
   "cell_type": "markdown",
   "id": "457c3acc",
   "metadata": {},
   "source": [
    "# Distribution of Number of Places Shake Up\n",
    "\n",
    "### Final LB (@03/10/2020)\n",
    "\n",
    "- Max jump-up (shake-up): +451\n",
    "\n",
    "- Max jump-down (shake-down): -474"
   ]
  },
  {
   "cell_type": "code",
   "execution_count": null,
   "id": "6e7d0d2d",
   "metadata": {},
   "outputs": [],
   "source": [
    "np.min(shake_up), np.max(shake_up)"
   ]
  },
  {
   "cell_type": "code",
   "execution_count": null,
   "id": "464d9a0d",
   "metadata": {},
   "outputs": [],
   "source": [
    "np.min(shake_up), np.max(shake_up)"
   ]
  },
  {
   "cell_type": "code",
   "execution_count": null,
   "id": "43170e26",
   "metadata": {},
   "outputs": [],
   "source": [
    "plot_hist('Google Landmark Recognition 2020: Shake-Up', shake_up)"
   ]
  },
  {
   "cell_type": "code",
   "execution_count": null,
   "id": "e4d5df08",
   "metadata": {},
   "outputs": [],
   "source": [
    "plot_hist('Google Landmark Recognition 2020: Shake-Up', shake_up)"
   ]
  },
  {
   "cell_type": "code",
   "execution_count": null,
   "id": "f46a553e",
   "metadata": {},
   "outputs": [],
   "source": [
    "plot_candle('Google Landmark Recognition 2020: Shake-Up',  pvt_lb['shake'])"
   ]
  },
  {
   "cell_type": "code",
   "execution_count": null,
   "id": "3ebc3e21",
   "metadata": {},
   "outputs": [],
   "source": [
    "plot_candle('Google Landmark Recognition 2020: Shake-Up',  pvt_lb['shake'])"
   ]
  },
  {
   "cell_type": "markdown",
   "id": "483c1f50",
   "metadata": {},
   "source": [
    "# Display Final Rankings & Medals"
   ]
  },
  {
   "cell_type": "markdown",
   "id": "0964383d",
   "metadata": {},
   "source": [
    "# Display Final Rankings & Medals"
   ]
  },
  {
   "cell_type": "code",
   "execution_count": null,
   "id": "5ab9dbae",
   "metadata": {},
   "outputs": [],
   "source": [
    "# modified from: https://www.kaggle.com/robikscube/ashrae-leaderboard-and-shake\n",
    "\n",
    "df = pvt_lb[['Pvt_rank','shake','TeamName','Pvt_score','no_submissions']].copy()\n",
    "\n",
    "df['medal'] = ''\n",
    "df.loc[df['Pvt_rank'] <= 139, 'medal'] = '🥉'\n",
    "df.loc[df['Pvt_rank'] <= 69, 'medal'] = '🥈'\n",
    "df.loc[df['Pvt_rank'] <= 12, 'medal'] = '🥇'\n",
    "df = df[['Pvt_rank','medal','shake', 'TeamName', 'Pvt_score']]   # 'public_rank''Score', 'no_submissions'\n",
    "\n",
    "df.head(100).style.applymap(color_negative_red).hide_index()"
   ]
  },
  {
   "cell_type": "code",
   "execution_count": null,
   "id": "4576631a",
   "metadata": {},
   "outputs": [],
   "source": [
    "# modified from: https://www.kaggle.com/robikscube/ashrae-leaderboard-and-shake\n",
    "\n",
    "df = pvt_lb[['Pvt_rank','shake','TeamName','Pvt_score','no_submissions']].copy()\n",
    "\n",
    "df['medal'] = ''\n",
    "df.loc[df['Pvt_rank'] <= 139, 'medal'] = '🥉'\n",
    "df.loc[df['Pvt_rank'] <= 69, 'medal'] = '🥈'\n",
    "df.loc[df['Pvt_rank'] <= 12, 'medal'] = '🥇'\n",
    "df = df[['Pvt_rank','medal','shake', 'TeamName', 'Pvt_score']]   # 'public_rank''Score', 'no_submissions'\n",
    "\n",
    "df.head(100).style.applymap(color_negative_red).hide_index()"
   ]
  },
  {
   "cell_type": "markdown",
   "id": "0722822c",
   "metadata": {},
   "source": [
    "# Extra: Compare with 20 most recent Competitions"
   ]
  },
  {
   "cell_type": "markdown",
   "id": "7e88320c",
   "metadata": {},
   "source": [
    "# Extra: Compare with 20 most recent Competitions"
   ]
  },
  {
   "cell_type": "code",
   "execution_count": null,
   "id": "8df59ad8",
   "metadata": {},
   "outputs": [],
   "source": [
    "# select 20 most recent competitions\n",
    "\n",
    "teams = do_read_csv(f'{META_DIR}/Teams.csv')\n",
    "comps = do_read_csv(f'{META_DIR}/Competitions.csv').set_index('Id')\n",
    "comps['DeadlineText'] = comps.DeadlineDate.str.split().str[0]\n",
    "comps['DeadlineDate'] = pd.to_datetime(comps.DeadlineDate)\n",
    "\n",
    "selected_comps = comps[(comps.HostSegmentTitle=='Featured') | (comps.HostSegmentTitle=='Research')].copy()\n",
    "selected_comps = selected_comps.sort_values('DeadlineDate')[-20:]\n",
    "\n",
    "# select teams for those competitions\n",
    "teams = teams.loc[teams.CompetitionId.isin(selected_comps.index)]\n",
    "teams = teams.assign(Medal=teams.Medal.fillna(0).astype(int))\n",
    "print(teams.shape)"
   ]
  },
  {
   "cell_type": "code",
   "execution_count": null,
   "id": "b1068710",
   "metadata": {},
   "outputs": [],
   "source": [
    "# select 20 most recent competitions\n",
    "\n",
    "teams = do_read_csv(f'{META_DIR}/Teams.csv')\n",
    "comps = do_read_csv(f'{META_DIR}/Competitions.csv').set_index('Id')\n",
    "comps['DeadlineText'] = comps.DeadlineDate.str.split().str[0]\n",
    "comps['DeadlineDate'] = pd.to_datetime(comps.DeadlineDate)\n",
    "\n",
    "selected_comps = comps[(comps.HostSegmentTitle=='Featured') | (comps.HostSegmentTitle=='Research')].copy()\n",
    "selected_comps = selected_comps.sort_values('DeadlineDate')[-20:]\n",
    "\n",
    "# select teams for those competitions\n",
    "teams = teams.loc[teams.CompetitionId.isin(selected_comps.index)]\n",
    "teams = teams.assign(Medal=teams.Medal.fillna(0).astype(int))\n",
    "print(teams.shape)"
   ]
  },
  {
   "cell_type": "code",
   "execution_count": null,
   "id": "101aa078",
   "metadata": {},
   "outputs": [],
   "source": [
    "shakes = make_scatter_competitions(selected_comps, teams)"
   ]
  },
  {
   "cell_type": "code",
   "execution_count": null,
   "id": "d506bc17",
   "metadata": {},
   "outputs": [],
   "source": [
    "shakes = make_scatter_competitions(selected_comps, teams)"
   ]
  },
  {
   "cell_type": "code",
   "execution_count": null,
   "id": "e9368bb5",
   "metadata": {},
   "outputs": [],
   "source": [
    "def fmt_link(row):\n",
    "    return f'<a target=_blank href=\"https://www.kaggle.com/c/{row.Slug}\">{row.Title}</a>'\n",
    "\n",
    "\n",
    "show_cols = ['Title', 'HostSegmentTitle', 'TotalTeams','DeadlineText', 'Shakeup']\n",
    "bars = ['TotalTeams', 'Shakeup']\n",
    "\n",
    "selected_comps['Shakeup'] = np.array([shakes[key] for key in shakes.keys()])\n",
    "\n",
    "tmp = selected_comps.assign(Title=selected_comps.apply(fmt_link, 1))\n",
    "tmp[show_cols].set_index('Title').head(20).style.bar(subset=bars)"
   ]
  },
  {
   "cell_type": "code",
   "execution_count": null,
   "id": "623aee8a",
   "metadata": {},
   "outputs": [],
   "source": [
    "def fmt_link(row):\n",
    "    return f'<a target=_blank href=\"https://www.kaggle.com/c/{row.Slug}\">{row.Title}</a>'\n",
    "\n",
    "\n",
    "show_cols = ['Title', 'HostSegmentTitle', 'TotalTeams','DeadlineText', 'Shakeup']\n",
    "bars = ['TotalTeams', 'Shakeup']\n",
    "\n",
    "selected_comps['Shakeup'] = np.array([shakes[key] for key in shakes.keys()])\n",
    "\n",
    "tmp = selected_comps.assign(Title=selected_comps.apply(fmt_link, 1))\n",
    "tmp[show_cols].set_index('Title').head(20).style.bar(subset=bars)"
   ]
  },
  {
   "cell_type": "markdown",
   "id": "3ca7ccbf",
   "metadata": {},
   "source": [
    "# Credits"
   ]
  },
  {
   "cell_type": "markdown",
   "id": "e8f9e252",
   "metadata": {},
   "source": [
    "# Credits"
   ]
  },
  {
   "cell_type": "markdown",
   "id": "b69f68a2",
   "metadata": {},
   "source": [
    "- [visualize-the-shakeups-of-10-recent-competitions by pednoi](https://www.kaggle.com/pednoi/visualize-the-shakeups-of-10-recent-competitions)\n",
    "\n",
    "- https://www.kaggle.com/jtrotman/meta-kaggle-competition-shake-up\n",
    "\n",
    "- https://www.kaggle.com/jtrotman/meta-kaggle-scatter-plot-competition-shake-up"
   ]
  },
  {
   "cell_type": "markdown",
   "id": "b3c18237",
   "metadata": {},
   "source": [
    "- [visualize-the-shakeups-of-10-recent-competitions by pednoi](https://www.kaggle.com/pednoi/visualize-the-shakeups-of-10-recent-competitions)\n",
    "\n",
    "- https://www.kaggle.com/jtrotman/meta-kaggle-competition-shake-up\n",
    "\n",
    "- https://www.kaggle.com/jtrotman/meta-kaggle-scatter-plot-competition-shake-up"
   ]
  },
  {
   "cell_type": "markdown",
   "id": "f1131b70",
   "metadata": {},
   "source": [
    "## If you like to see similar shake-up reports from previous competitions:\n",
    "\n",
    "\n",
    "- [SIIM-ISIC Melanoma 2020](https://www.kaggle.com/imeintanis/melanoma-post-competition-shake-up-report-final/)\n",
    "\n",
    "- [Cornell Birdcall Identification](https://www.kaggle.com/imeintanis/cornell-shake-up-report)\n",
    "\n",
    "- [ASHRAE Great Energy Predictor III by @robikscube](https://www.kaggle.com/robikscube/ashrae-leaderboard-and-shake)\n",
    "\n",
    "\n",
    "## Feel free to add your comments/suggestions bellow"
   ]
  },
  {
   "cell_type": "markdown",
   "id": "a1b91b90",
   "metadata": {},
   "source": [
    "## If you like to see similar shake-up reports from previous competitions:\n",
    "\n",
    "\n",
    "- [SIIM-ISIC Melanoma 2020](https://www.kaggle.com/imeintanis/melanoma-post-competition-shake-up-report-final/)\n",
    "\n",
    "- [Cornell Birdcall Identification](https://www.kaggle.com/imeintanis/cornell-shake-up-report)\n",
    "\n",
    "- [ASHRAE Great Energy Predictor III by @robikscube](https://www.kaggle.com/robikscube/ashrae-leaderboard-and-shake)\n",
    "\n",
    "\n",
    "## Feel free to add your comments/suggestions bellow"
   ]
  }
 ],
 "metadata": {},
 "nbformat": 4,
 "nbformat_minor": 5
}
