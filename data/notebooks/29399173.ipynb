{
 "cells": [
  {
   "cell_type": "markdown",
   "id": "2bd679cd",
   "metadata": {},
   "source": [
    "## Installing Important Components"
   ]
  },
  {
   "cell_type": "code",
   "execution_count": null,
   "id": "d1911451",
   "metadata": {},
   "outputs": [],
   "source": [
    "# install google chrome\n",
    "!wget https://dl.google.com/linux/linux_signing_key.pub\n",
    "!sudo apt-key add linux_signing_key.pub\n",
    "!echo 'deb [arch=amd64] http://dl.google.com/linux/chrome/deb/ stable main' >> /etc/apt/sources.list.d/google-chrome.list\n",
    "!sudo apt-get -y update\n",
    "!sudo apt-get install -y google-chrome-stable"
   ]
  },
  {
   "cell_type": "code",
   "execution_count": null,
   "id": "33552f5d",
   "metadata": {},
   "outputs": [],
   "source": [
    "#install chromedriver\n",
    "!apt-get install -y qq unzip\n",
    "!wget -O /tmp/chromedriver.zip http://chromedriver.storage.googleapis.com/`curl -sS chromedriver.storage.googleapis.com/LATEST_RELEASE`/chromedriver_linux64.zip\n",
    "!unzip /tmp/chromedriver.zip chromedriver -d /usr/local/bin/"
   ]
  },
  {
   "cell_type": "code",
   "execution_count": null,
   "id": "26e6570a",
   "metadata": {},
   "outputs": [],
   "source": [
    "# install selenium\n",
    "!sudo apt install -y python3-selenium\n",
    "!pip install selenium==3.141.0 > /dev/null"
   ]
  },
  {
   "cell_type": "code",
   "execution_count": null,
   "id": "1f2a92c5",
   "metadata": {},
   "outputs": [],
   "source": [
    "!pip install webdriver_manager"
   ]
  },
  {
   "cell_type": "markdown",
   "id": "69c7506e",
   "metadata": {},
   "source": [
    "## Importing Libraries"
   ]
  },
  {
   "cell_type": "code",
   "execution_count": null,
   "id": "eccb0b24",
   "metadata": {},
   "outputs": [],
   "source": [
    "#Basic Imports\n",
    "import pandas as pd\n",
    "import warnings\n",
    "warnings.filterwarnings('ignore')\n",
    "import time\n",
    "from PIL import Image\n",
    "\n",
    "# Text Preprocessing\n",
    "import re\n",
    "import xml\n",
    "\n",
    "#Web Scraping\n",
    "from bs4 import BeautifulSoup\n",
    "import requests\n",
    "from selenium import webdriver\n",
    "from selenium.webdriver.common.keys import Keys\n",
    "from webdriver_manager.chrome import ChromeDriverManager\n",
    "from selenium.webdriver.common.by import By\n",
    "from selenium.webdriver.support.ui import WebDriverWait\n",
    "from selenium.webdriver.support import expected_conditions as EC"
   ]
  },
  {
   "cell_type": "markdown",
   "id": "cf6e0433",
   "metadata": {},
   "source": [
    "## Medal Standings"
   ]
  },
  {
   "cell_type": "code",
   "execution_count": null,
   "id": "80827dec",
   "metadata": {},
   "outputs": [],
   "source": [
    "url = 'https://results.birmingham2022.com/#/general-medals'\n",
    "\n",
    "# Define Brave path (done in actual notebook this way but differently on kaggle)\n",
    "options = webdriver.ChromeOptions()\n",
    "options.add_argument('--no-sandbox')                             \n",
    "options.add_argument('--headless')\n",
    "options.add_argument('--disable-gpu')\n",
    "options.add_argument('--disable-dev-shm-usage')\n",
    "options.add_argument(\"--window-size=1920,1080\")\n",
    "\n",
    "# Create new automated instance of Chrome\n",
    "driver = webdriver.Chrome(options=options)\n",
    "driver.get(url)"
   ]
  },
  {
   "cell_type": "code",
   "execution_count": null,
   "id": "0a949b0d",
   "metadata": {},
   "outputs": [],
   "source": [
    "# Dealing with cookies prompt\n",
    "button = driver.find_element(by=By.XPATH, value='/html/body/div[1]/div[1]/div/div/div[1]/div[5]/button[1]')\n",
    "driver.execute_script(\"arguments[0].click();\", button)\n",
    "# javascript is running, so wait until to get the information.\n",
    "time.sleep(5)\n",
    "for i in range(1,72):\n",
    "    try:\n",
    "        # get detailed results button and click it\n",
    "        elem = driver.find_element(by=By.XPATH, value=f'/html/body/div[1]/app-root/div[5]/app-general-medals/div/div/div[4]/div/table/tbody/tr[{i}]/td[7]/button')\n",
    "        driver.execute_script(\"arguments[0].click();\", elem)\n",
    "        # javascript is running, so wait until to get the information.\n",
    "        time.sleep(5)\n",
    "    except:\n",
    "        pass"
   ]
  },
  {
   "cell_type": "markdown",
   "id": "4961c822",
   "metadata": {},
   "source": [
    "### After opening webpage open all the plus symbol buttons to get detailed results"
   ]
  },
  {
   "cell_type": "code",
   "execution_count": null,
   "id": "17f7e3c5",
   "metadata": {},
   "outputs": [],
   "source": [
    "driver.save_screenshot('result.png')\n",
    "img = Image.open('result.png')\n",
    "img"
   ]
  },
  {
   "cell_type": "code",
   "execution_count": null,
   "id": "884c7c1c",
   "metadata": {},
   "outputs": [],
   "source": [
    "# Text Preprocessing Utils\n",
    "def remove_tags(text):\n",
    "    return ''.join(xml.etree.ElementTree.fromstring(text).itertext())\n",
    "def remove_newlines(text):\n",
    "    return re.sub(\"\\n\", '', text)\n",
    "def clean(text):\n",
    "    return remove_newlines(remove_tags(text)).replace(' ','')"
   ]
  },
  {
   "cell_type": "code",
   "execution_count": null,
   "id": "c3aed96a",
   "metadata": {},
   "outputs": [],
   "source": [
    "countries = []\n",
    "men_gold = []\n",
    "men_silver = []\n",
    "men_bronze = []\n",
    "women_gold = []\n",
    "women_silver = []\n",
    "women_bronze = []\n",
    "mixed_gold = []\n",
    "mixed_silver = []\n",
    "mixed_bronze = []\n",
    "total_gold = []\n",
    "total_silver = []\n",
    "total_bronze = []\n",
    "total = []\n",
    "for i in range(1,144):\n",
    "    url = f'/html/body/div[1]/app-root/div[5]/app-general-medals/div/div/div[4]/div/table/tbody/tr[{i}]'\n",
    "    ref_ele = driver.find_elements(By.XPATH,url)\n",
    "    if i%2==0:\n",
    "        try:\n",
    "            men_gold.append(driver.find_elements(By.XPATH,url+'/td/table/tbody/tr[1]/td[1]')[0].text)\n",
    "            men_silver.append(driver.find_elements(By.XPATH,url+'/td/table/tbody/tr[1]/td[2]')[0].text)\n",
    "            men_bronze.append(driver.find_elements(By.XPATH,url+'/td/table/tbody/tr[1]/td[3]')[0].text)\n",
    "            women_gold.append(driver.find_elements(By.XPATH,url+'/td/table/tbody/tr[2]/td[1]')[0].text)\n",
    "            women_silver.append(driver.find_elements(By.XPATH,url+'/td/table/tbody/tr[2]/td[2]')[0].text)\n",
    "            women_bronze.append(driver.find_elements(By.XPATH,url+'/td/table/tbody/tr[2]/td[3]')[0].text)\n",
    "            mixed_gold.append(driver.find_elements(By.XPATH,url+'/td/table/tbody/tr[3]/td[1]')[0].text)\n",
    "            mixed_silver.append(driver.find_elements(By.XPATH,url+'/td/table/tbody/tr[3]/td[2]')[0].text)\n",
    "            mixed_bronze.append(driver.find_elements(By.XPATH,url+'/td/table/tbody/tr[3]/td[3]')[0].text)\n",
    "            total_gold.append(driver.find_elements(By.XPATH,url+'/td/table/tbody/tr[4]/td[1]')[0].text)\n",
    "            total_silver.append(driver.find_elements(By.XPATH,url+'/td/table/tbody/tr[4]/td[2]')[0].text)\n",
    "            total_bronze.append(driver.find_elements(By.XPATH,url+'/td/table/tbody/tr[4]/td[3]')[0].text)\n",
    "            total.append(driver.find_elements(By.XPATH,url+'/td/table/tbody/tr[4]/td[4]')[0].text)\n",
    "        except:\n",
    "            pass\n",
    "    else:\n",
    "        for e in ref_ele:\n",
    "            try:\n",
    "                countries.append(re.sub('CGA','',re.sub('\\d+','',re.findall('.*CGA',remove_newlines(e.text))[0])))\n",
    "            except:\n",
    "                pass\n",
    "countries.append('Total')"
   ]
  },
  {
   "cell_type": "code",
   "execution_count": null,
   "id": "fffa6ada",
   "metadata": {},
   "outputs": [],
   "source": [
    "df = pd.DataFrame()\n",
    "df['Country Name'] = countries\n",
    "df['Men Gold'] = men_gold\n",
    "df['Men Silver'] = men_silver\n",
    "df['Men Bronze'] = men_bronze\n",
    "df['Women Gold'] = women_gold\n",
    "df['Women Silver'] = women_silver\n",
    "df['Women Bronze'] = women_bronze\n",
    "df['Mixed Gold'] = mixed_gold\n",
    "df['Mixed Silver'] = mixed_silver\n",
    "df['Mixed Bronze'] = mixed_bronze\n",
    "df['Total Gold'] = total_gold\n",
    "df['Total Silver'] = total_silver\n",
    "df['Total Bronze'] = total_bronze\n",
    "df['Total'] = total"
   ]
  },
  {
   "cell_type": "code",
   "execution_count": null,
   "id": "ccc5a476",
   "metadata": {},
   "outputs": [],
   "source": [
    "df = df.replace('',0)\n",
    "df.to_csv('Medal_Standings.csv',index = False)"
   ]
  },
  {
   "cell_type": "code",
   "execution_count": null,
   "id": "9af58833",
   "metadata": {},
   "outputs": [],
   "source": [
    "pd.read_csv('../input/commonwealth-games-2022/Medal Standings.csv').head()"
   ]
  },
  {
   "cell_type": "markdown",
   "id": "48e278c5",
   "metadata": {},
   "source": [
    "## Athlete Count"
   ]
  },
  {
   "cell_type": "code",
   "execution_count": null,
   "id": "5b54b1d9",
   "metadata": {},
   "outputs": [],
   "source": [
    "athlete_count = pd.read_html('https://en.wikipedia.org/wiki/2022_Commonwealth_Games')[5]\n",
    "athlete_count.head()"
   ]
  },
  {
   "cell_type": "code",
   "execution_count": null,
   "id": "c22ad154",
   "metadata": {},
   "outputs": [],
   "source": [
    "athlete_count.to_csv('athlete_count.csv',index = False)"
   ]
  },
  {
   "cell_type": "markdown",
   "id": "e0018d49",
   "metadata": {},
   "source": [
    "## Event Schedule"
   ]
  },
  {
   "cell_type": "code",
   "execution_count": null,
   "id": "9e7bde4f",
   "metadata": {},
   "outputs": [],
   "source": [
    "df = pd.read_html('https://en.wikipedia.org/wiki/2022_Commonwealth_Games')[7].fillna('').reset_index(drop=True)\n",
    "df.columns = ['Event Category','Event Subtype','28thThu','29thFri','30thSat','31stSun','1stMon','2ndTue','3rdWed','4thThu','5thFri','6thSat','7thSun','8thMon','Events']\n",
    "df = df.drop(df.index[-1])\n",
    "df = df.drop(df.index[-1])"
   ]
  },
  {
   "cell_type": "code",
   "execution_count": null,
   "id": "405b9da7",
   "metadata": {},
   "outputs": [],
   "source": [
    "df.to_csv('Schedule.csv',index = True)"
   ]
  },
  {
   "cell_type": "code",
   "execution_count": null,
   "id": "27561e69",
   "metadata": {},
   "outputs": [],
   "source": [
    "def color_EC_GC(val):\n",
    "    if val == '●':\n",
    "        color = 'blue'\n",
    "    elif val.isdigit() == True:\n",
    "        color = 'gold'\n",
    "    elif val == 'OC':\n",
    "        color = 'green'\n",
    "    elif val == 'CC':\n",
    "        color = 'red'\n",
    "    else:\n",
    "        color = 'white'\n",
    "    return 'background-color: %s' % color\n",
    "df.style.applymap(color_EC_GC)"
   ]
  }
 ],
 "metadata": {},
 "nbformat": 4,
 "nbformat_minor": 5
}
