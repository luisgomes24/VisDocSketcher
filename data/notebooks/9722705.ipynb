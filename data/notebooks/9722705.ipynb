{
 "cells": [
  {
   "cell_type": "markdown",
   "id": "239e2ecd",
   "metadata": {},
   "source": [
    "**[Python Home Page](https://www.kaggle.com/learn/python)**\n",
    "\n",
    "---\n"
   ]
  },
  {
   "cell_type": "markdown",
   "id": "ef800fe9",
   "metadata": {},
   "source": [
    "# Try It Yourself\n",
    "\n",
    "Functions are powerful. Try writing some yourself.\n",
    "\n",
    "As before, don't forget to run the setup code below before jumping into question 1."
   ]
  },
  {
   "cell_type": "code",
   "execution_count": null,
   "id": "3547a679",
   "metadata": {},
   "outputs": [],
   "source": [
    "# SETUP. You don't need to worry for now about what this code does or how it works.\n",
    "from learntools.core import binder; binder.bind(globals())\n",
    "from learntools.python.ex2 import *\n",
    "print('Setup complete.')"
   ]
  },
  {
   "cell_type": "markdown",
   "id": "8841d065",
   "metadata": {},
   "source": [
    "# Exercises"
   ]
  },
  {
   "cell_type": "markdown",
   "id": "cc854bbd",
   "metadata": {},
   "source": [
    "## 1.\n",
    "\n",
    "Complete the body of the following function according to its docstring.\n",
    "\n",
    "HINT: Python has a built-in function `round`."
   ]
  },
  {
   "cell_type": "code",
   "execution_count": null,
   "id": "e2576824",
   "metadata": {},
   "outputs": [],
   "source": [
    "def round_to_two_places(num):\n",
    "    \"\"\"Return the given number rounded to two decimal places. \n",
    "    \n",
    "    >>> round_to_two_places(3.14159)\n",
    "    3.14\n",
    "    \"\"\"\n",
    "    return round(num, ndigits=2)\n",
    "\n",
    "# Check your answer\n",
    "q1.check()"
   ]
  },
  {
   "cell_type": "code",
   "execution_count": null,
   "id": "e8dc33e2",
   "metadata": {},
   "outputs": [],
   "source": [
    "# Uncomment the following for a hint\n",
    "#q1.hint()\n",
    "# Or uncomment the following to peek at the solution\n",
    "#q1.solution()"
   ]
  },
  {
   "cell_type": "markdown",
   "id": "a1129e69",
   "metadata": {},
   "source": [
    "## 2.\n",
    "The help for `round` says that `ndigits` (the second argument) may be negative.\n",
    "What do you think will happen when it is? Try some examples in the following cell?\n",
    "\n",
    "Can you think of a case where this would be useful?"
   ]
  },
  {
   "cell_type": "code",
   "execution_count": null,
   "id": "3eecea12",
   "metadata": {},
   "outputs": [],
   "source": [
    "# Put your test code here\n",
    "round(6.123456789, ndigits=-1)"
   ]
  },
  {
   "cell_type": "code",
   "execution_count": null,
   "id": "52dba4df",
   "metadata": {},
   "outputs": [],
   "source": [
    "# Check your answer (Run this code cell to receive credit!)\n",
    "q2.solution()"
   ]
  },
  {
   "cell_type": "markdown",
   "id": "8555fe98",
   "metadata": {},
   "source": [
    "## 3.\n",
    "\n",
    "In a previous programming problem, the candy-sharing friends Alice, Bob and Carol tried to split candies evenly. For the sake of their friendship, any candies left over would be smashed. For example, if they collectively bring home 91 candies, they'll take 30 each and smash 1.\n",
    "\n",
    "Below is a simple function that will calculate the number of candies to smash for *any* number of total candies.\n",
    "\n",
    "Modify it so that it optionally takes a second argument representing the number of friends the candies are being split between. If no second argument is provided, it should assume 3 friends, as before.\n",
    "\n",
    "Update the docstring to reflect this new behaviour."
   ]
  },
  {
   "cell_type": "code",
   "execution_count": null,
   "id": "06c575c4",
   "metadata": {},
   "outputs": [],
   "source": [
    "def to_smash(total_candies, num_friends=3):\n",
    "    \"\"\"Return the number of leftover candies that must be smashed after distributing\n",
    "    the given number of candies evenly between 3 friends(or you can pass as an argument \n",
    "    the number of friends the candies will be split between).\n",
    "    \n",
    "    >>> to_smash(91)\n",
    "    1\n",
    "    >>> to_smash(91, 4)\n",
    "    3\n",
    "    \"\"\"\n",
    "    return total_candies % num_friends\n",
    "\n",
    "# Check your answer\n",
    "q3.check()"
   ]
  },
  {
   "cell_type": "code",
   "execution_count": null,
   "id": "46d20f70",
   "metadata": {},
   "outputs": [],
   "source": [
    "#q3.hint()"
   ]
  },
  {
   "cell_type": "code",
   "execution_count": null,
   "id": "bc925a46",
   "metadata": {},
   "outputs": [],
   "source": [
    "#q3.solution()"
   ]
  },
  {
   "cell_type": "markdown",
   "id": "0082db4b",
   "metadata": {},
   "source": [
    "## 4. (Optional)\n",
    "\n",
    "It may not be fun, but reading and understanding error messages will be an important part of your Python career.\n",
    "\n",
    "Each code cell below contains some commented-out buggy code. For each cell...\n",
    "\n",
    "1. Read the code and predict what you think will happen when it's run.\n",
    "2. Then uncomment the code and run it to see what happens. (**Tip**: In the kernel editor, you can highlight several lines and press `ctrl`+`/` to toggle commenting.)\n",
    "3. Fix the code (so that it accomplishes its intended purpose without throwing an exception)\n",
    "\n",
    "<!-- TODO: should this be autochecked? Delta is probably pretty small. -->"
   ]
  },
  {
   "cell_type": "code",
   "execution_count": null,
   "id": "e5e54e13",
   "metadata": {},
   "outputs": [],
   "source": [
    "round_to_two_places(9.9999)"
   ]
  },
  {
   "cell_type": "code",
   "execution_count": null,
   "id": "fcb6f27e",
   "metadata": {},
   "outputs": [],
   "source": [
    "x = -10\n",
    "y = 15\n",
    "# Which of the two variables above has the smallest absolute value?\n",
    "smallest_abs = min(abs(x), abs(y))\n",
    "print(smallest_abs)"
   ]
  },
  {
   "cell_type": "code",
   "execution_count": null,
   "id": "2373654c",
   "metadata": {},
   "outputs": [],
   "source": [
    "def f(x):\n",
    "    y = abs(x)\n",
    "    return y\n",
    "\n",
    "print(f(-5))"
   ]
  },
  {
   "cell_type": "markdown",
   "id": "69b26d5e",
   "metadata": {},
   "source": [
    "# Keep Going\n",
    "\n",
    "Nice job with the code. Next up, you'll learn about *conditionals*, which you'll need to write interesting programs. Keep going **[here](https://www.kaggle.com/colinmorris/booleans-and-conditionals)**"
   ]
  },
  {
   "cell_type": "markdown",
   "id": "6a3f3a30",
   "metadata": {},
   "source": [
    "---\n",
    "**[Python Home Page](https://www.kaggle.com/learn/python)**\n",
    "\n",
    "\n",
    "\n",
    "\n",
    "\n",
    "*Have questions or comments? Visit the [Learn Discussion forum](https://www.kaggle.com/learn-forum) to chat with other Learners.*"
   ]
  }
 ],
 "metadata": {},
 "nbformat": 4,
 "nbformat_minor": 5
}
