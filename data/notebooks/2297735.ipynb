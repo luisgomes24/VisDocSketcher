{
 "cells": [
  {
   "cell_type": "markdown",
   "id": "b680a58a",
   "metadata": {},
   "source": [
    "## Exploration and Visualization for Card Data"
   ]
  },
  {
   "cell_type": "markdown",
   "id": "f205950b",
   "metadata": {},
   "source": [
    "### Abstract"
   ]
  },
  {
   "cell_type": "markdown",
   "id": "04933df3",
   "metadata": {},
   "source": [
    "There are some insights for the card data (train.csv and test.csv). The details are in the notebook but mainly the followings are found:\n",
    "\n",
    "* There is a sharp decrease in the number of cards which start activity at 2018 (Figure: First Active Months Count).\n",
    "\n",
    "* The customer loyalty is much lower at 2012-04 when you compare it with other months (Figure: Monthly Customer Loyalty).\n",
    "\n",
    "* Customer loyalty increased continuosly after 2017-01. There is an obvious trend (Figure: Monthly Customer Loyalty).\n",
    "\n",
    "* Train and Test sets are divided very well according to the features distribution.\n",
    "\n",
    "* There is a correlation between features and customer loyalty. It is obvious in the last figure. "
   ]
  },
  {
   "cell_type": "code",
   "execution_count": null,
   "id": "c54b858a",
   "metadata": {},
   "outputs": [],
   "source": [
    "import pandas as pd\n",
    "import matplotlib.pyplot as plt\n",
    "import seaborn as sns"
   ]
  },
  {
   "cell_type": "code",
   "execution_count": null,
   "id": "fe59a2ea",
   "metadata": {},
   "outputs": [],
   "source": [
    "df_train = pd.read_csv(\"../input/train.csv\")\n",
    "df_test = pd.read_csv(\"../input/test.csv\")"
   ]
  },
  {
   "cell_type": "code",
   "execution_count": null,
   "id": "27169c97",
   "metadata": {},
   "outputs": [],
   "source": [
    "df_train.head()"
   ]
  },
  {
   "cell_type": "code",
   "execution_count": null,
   "id": "ea3eb910",
   "metadata": {},
   "outputs": [],
   "source": [
    "df_test.head()"
   ]
  },
  {
   "cell_type": "code",
   "execution_count": null,
   "id": "5b8f41ca",
   "metadata": {},
   "outputs": [],
   "source": [
    "print(\"length of train dataset:\", len(df_train))\n",
    "print(\"length of test dataset:\", len(df_test))"
   ]
  },
  {
   "cell_type": "code",
   "execution_count": null,
   "id": "d0358a89",
   "metadata": {},
   "outputs": [],
   "source": [
    "df_month_counts_train = pd.DataFrame(df_train['first_active_month'].value_counts())\n",
    "df_month_counts_train = df_month_counts_train.reset_index()\n",
    "df_month_counts_train.columns = ['first_active_month', 'count']\n",
    "df_month_counts_train = df_month_counts_train.sort_values(by=['first_active_month'])\n",
    "df_month_counts_train = df_month_counts_train.reset_index()\n",
    "df_month_counts_train = df_month_counts_train.drop(columns=['index'])"
   ]
  },
  {
   "cell_type": "code",
   "execution_count": null,
   "id": "ade9752e",
   "metadata": {},
   "outputs": [],
   "source": [
    "df_month_counts_train.head()"
   ]
  },
  {
   "cell_type": "code",
   "execution_count": null,
   "id": "de9026e8",
   "metadata": {},
   "outputs": [],
   "source": [
    "df_month_counts_train.sort_values(by=['first_active_month'], ascending=False).head()"
   ]
  },
  {
   "cell_type": "code",
   "execution_count": null,
   "id": "3ebec2ed",
   "metadata": {},
   "outputs": [],
   "source": [
    "df_month_counts_test = pd.DataFrame(df_test['first_active_month'].value_counts())\n",
    "df_month_counts_test = df_month_counts_test.reset_index()\n",
    "df_month_counts_test.columns = ['first_active_month', 'count']\n",
    "df_month_counts_test = df_month_counts_test.sort_values(by=['first_active_month'])\n",
    "df_month_counts_test = df_month_counts_test.reset_index()\n",
    "df_month_counts_test = df_month_counts_test.drop(columns=['index'])"
   ]
  },
  {
   "cell_type": "code",
   "execution_count": null,
   "id": "9316db99",
   "metadata": {},
   "outputs": [],
   "source": [
    "df_month_counts_test.head()"
   ]
  },
  {
   "cell_type": "code",
   "execution_count": null,
   "id": "eecad9e8",
   "metadata": {},
   "outputs": [],
   "source": [
    "df_month_counts_test.sort_values(by=['first_active_month'], ascending=False).head()"
   ]
  },
  {
   "cell_type": "code",
   "execution_count": null,
   "id": "90432d0c",
   "metadata": {},
   "outputs": [],
   "source": [
    "plt.figure(figsize=(15,10))\n",
    "sns.barplot(x=\"first_active_month\", y=\"count\", data=df_month_counts_train)\n",
    "plt.xticks(rotation= 90)\n",
    "plt.xlabel('Month')\n",
    "plt.ylabel('Count')\n",
    "plt.title('First Active Month Counts - Train Data')"
   ]
  },
  {
   "cell_type": "code",
   "execution_count": null,
   "id": "e44d487c",
   "metadata": {},
   "outputs": [],
   "source": [
    "plt.figure(figsize=(15,10))\n",
    "sns.barplot(x=\"first_active_month\", y=\"count\", data=df_month_counts_test)\n",
    "plt.xticks(rotation= 90)\n",
    "plt.xlabel('Month')\n",
    "plt.ylabel('Count')\n",
    "plt.title('First Active Month Counts - Test Data')"
   ]
  },
  {
   "cell_type": "markdown",
   "id": "e543d7b2",
   "metadata": {},
   "source": [
    "Note: There is a  sharp decrease and very low counts for 2018 data."
   ]
  },
  {
   "cell_type": "code",
   "execution_count": null,
   "id": "f184e762",
   "metadata": {},
   "outputs": [],
   "source": [
    "df_month_means = df_train.groupby(['first_active_month']).mean()\n",
    "df_month_means = df_month_means.reset_index()\n",
    "df_month_means = df_month_means.sort_values(by=['first_active_month'])\n",
    "df_month_means = df_month_means.reset_index()\n",
    "df_month_means = df_month_means.drop(columns=['index'])"
   ]
  },
  {
   "cell_type": "code",
   "execution_count": null,
   "id": "9ca82d8b",
   "metadata": {},
   "outputs": [],
   "source": [
    "df_month_means"
   ]
  },
  {
   "cell_type": "code",
   "execution_count": null,
   "id": "15bf4120",
   "metadata": {},
   "outputs": [],
   "source": [
    "plt.figure(figsize=(15,10))\n",
    "sns.barplot(x=\"first_active_month\", y=\"target\", data=df_month_means)\n",
    "#sns.relplot(x=\"first_active_month\", y=\"target\", kind=\"line\", data=df_month_means);\n",
    "plt.xticks(rotation= 90)\n",
    "plt.xlabel('Month')\n",
    "plt.ylabel('Target')\n",
    "plt.title('Monthly Customer Loyalty')"
   ]
  },
  {
   "cell_type": "markdown",
   "id": "60be576e",
   "metadata": {},
   "source": [
    "Note:\n",
    "\n",
    "There are two points to pay attention:\n",
    "\n",
    "1- What happened to customer loyalty at 2012-04? It is extremely low. It should be investigated.\n",
    "\n",
    "2- After 2017-01, there is a continous upper trend in customer loyalty."
   ]
  },
  {
   "cell_type": "code",
   "execution_count": null,
   "id": "8d64a0d1",
   "metadata": {},
   "outputs": [],
   "source": [
    "df_month_means.sort_values(by=['target']).head()"
   ]
  },
  {
   "cell_type": "code",
   "execution_count": null,
   "id": "1305af0f",
   "metadata": {},
   "outputs": [],
   "source": [
    "plt.figure(figsize=(15,10))\n",
    "sns.violinplot(y=\"target\", data=df_train, palette=\"muted\")\n",
    "plt.title('Violin Plot for Customer Loyalty')"
   ]
  },
  {
   "cell_type": "code",
   "execution_count": null,
   "id": "ded7335c",
   "metadata": {},
   "outputs": [],
   "source": [
    "plt.figure(figsize=(15,10))\n",
    "sns.distplot(df_train[\"target\"]);\n",
    "plt.title('Histogram for Customer Loyalty')"
   ]
  },
  {
   "cell_type": "markdown",
   "id": "6e299080",
   "metadata": {},
   "source": [
    "Note: It is obvious that customer loyalty values distribution is accumulated around the mean + median but there are some values look like potential outliers or at least should be taken into consideration for prediction."
   ]
  },
  {
   "cell_type": "markdown",
   "id": "5b07f7b5",
   "metadata": {},
   "source": [
    "Now lets validate it with further analysis by removing some extreme data."
   ]
  },
  {
   "cell_type": "code",
   "execution_count": null,
   "id": "3ced1423",
   "metadata": {},
   "outputs": [],
   "source": [
    "# Function: print_quantile_info(qu_dataset, qu_field)\n",
    "#   Print out the following information about the data\n",
    "#   - interquartile range\n",
    "#   - upper_inner_fence\n",
    "#   - lower_inner_fence\n",
    "#   - upper_outer_fence\n",
    "#   - lower_outer_fence\n",
    "#   - percentage of records out of inner fences\n",
    "#   - percentage of records out of outer fences\n",
    "# Input: \n",
    "#   - pandas dataframe (qu_dataset)\n",
    "#   - name of the column to analyze (qu_field)\n",
    "# Output:\n",
    "#   None\n",
    "\n",
    "def print_quantile_info(qu_dataset, qu_field):\n",
    "    a = qu_dataset[qu_field].describe()\n",
    "    \n",
    "    iqr = a[\"75%\"] - a[\"25%\"]\n",
    "    print(\"interquartile range:\", iqr)\n",
    "    \n",
    "    upper_inner_fence = a[\"75%\"] + 1.5 * iqr\n",
    "    lower_inner_fence = a[\"25%\"] - 1.5 * iqr\n",
    "    print(\"upper_inner_fence:\", upper_inner_fence)\n",
    "    print(\"lower_inner_fence:\", lower_inner_fence)\n",
    "    \n",
    "    upper_outer_fence = a[\"75%\"] + 3 * iqr\n",
    "    lower_outer_fence = a[\"25%\"] - 3 * iqr\n",
    "    print(\"upper_outer_fence:\", upper_outer_fence)\n",
    "    print(\"lower_outer_fence:\", lower_outer_fence)\n",
    "    \n",
    "    count_over_upper = len(qu_dataset[qu_dataset[qu_field]>upper_inner_fence])\n",
    "    count_under_lower = len(qu_dataset[qu_dataset[qu_field]<lower_inner_fence])\n",
    "    percentage = 100 * (count_under_lower + count_over_upper) / a[\"count\"]\n",
    "    print(\"percentage of records out of inner fences: %.2f\"% (percentage))\n",
    "    \n",
    "    count_over_upper = len(qu_dataset[qu_dataset[qu_field]>upper_outer_fence])\n",
    "    count_under_lower = len(qu_dataset[qu_dataset[qu_field]<lower_outer_fence])\n",
    "    percentage = 100 * (count_under_lower + count_over_upper) / a[\"count\"]\n",
    "    print(\"percentage of records out of outer fences: %.2f\"% (percentage))"
   ]
  },
  {
   "cell_type": "code",
   "execution_count": null,
   "id": "56fa16d9",
   "metadata": {},
   "outputs": [],
   "source": [
    "# Function: remove_outliers_using_quantiles(qu_dataset, qu_field, qu_fence)\n",
    "#   1- Remove outliers according to the given fence value and return new dataframe.\n",
    "#   2- Print out the following information about the data\n",
    "#      - interquartile range\n",
    "#      - upper_inner_fence\n",
    "#      - lower_inner_fence\n",
    "#      - upper_outer_fence\n",
    "#      - lower_outer_fence\n",
    "#      - percentage of records out of inner fences\n",
    "#      - percentage of records out of outer fences\n",
    "# Input: \n",
    "#   - pandas dataframe (qu_dataset)\n",
    "#   - name of the column to analyze (qu_field)\n",
    "#   - inner (1.5*iqr) or outer (3.0*iqr) (qu_fence) values: \"inner\" or \"outer\"\n",
    "# Output:\n",
    "#   - new pandas dataframe (output_dataset)\n",
    "\n",
    "def remove_outliers_using_quantiles(qu_dataset, qu_field, qu_fence):\n",
    "    a = qu_dataset[qu_field].describe()\n",
    "    \n",
    "    iqr = a[\"75%\"] - a[\"25%\"]\n",
    "    print(\"interquartile range:\", iqr)\n",
    "    \n",
    "    upper_inner_fence = a[\"75%\"] + 1.5 * iqr\n",
    "    lower_inner_fence = a[\"25%\"] - 1.5 * iqr\n",
    "    print(\"upper_inner_fence:\", upper_inner_fence)\n",
    "    print(\"lower_inner_fence:\", lower_inner_fence)\n",
    "    \n",
    "    upper_outer_fence = a[\"75%\"] + 3 * iqr\n",
    "    lower_outer_fence = a[\"25%\"] - 3 * iqr\n",
    "    print(\"upper_outer_fence:\", upper_outer_fence)\n",
    "    print(\"lower_outer_fence:\", lower_outer_fence)\n",
    "    \n",
    "    count_over_upper = len(qu_dataset[qu_dataset[qu_field]>upper_inner_fence])\n",
    "    count_under_lower = len(qu_dataset[qu_dataset[qu_field]<lower_inner_fence])\n",
    "    percentage = 100 * (count_under_lower + count_over_upper) / a[\"count\"]\n",
    "    print(\"percentage of records out of inner fences: %.2f\"% (percentage))\n",
    "    \n",
    "    count_over_upper = len(qu_dataset[qu_dataset[qu_field]>upper_outer_fence])\n",
    "    count_under_lower = len(qu_dataset[qu_dataset[qu_field]<lower_outer_fence])\n",
    "    percentage = 100 * (count_under_lower + count_over_upper) / a[\"count\"]\n",
    "    print(\"percentage of records out of outer fences: %.2f\"% (percentage))\n",
    "    \n",
    "    if qu_fence == \"inner\":\n",
    "        output_dataset = qu_dataset[qu_dataset[qu_field]<=upper_inner_fence]\n",
    "        output_dataset = output_dataset[output_dataset[qu_field]>=lower_inner_fence]\n",
    "    elif qu_fence == \"outer\":\n",
    "        output_dataset = qu_dataset[qu_dataset[qu_field]<=upper_outer_fence]\n",
    "        output_dataset = output_dataset[output_dataset[qu_field]>=lower_outer_fence]\n",
    "    else:\n",
    "        output_dataset = qu_dataset\n",
    "    \n",
    "    print(\"length of input dataframe:\", len(qu_dataset))\n",
    "    print(\"length of new dataframe after outlier removal:\", len(output_dataset))\n",
    "    \n",
    "    return output_dataset"
   ]
  },
  {
   "cell_type": "code",
   "execution_count": null,
   "id": "39a87c3b",
   "metadata": {},
   "outputs": [],
   "source": [
    "print_quantile_info(df_train, \"target\")"
   ]
  },
  {
   "cell_type": "code",
   "execution_count": null,
   "id": "98db3d7f",
   "metadata": {},
   "outputs": [],
   "source": [
    "df_train_new = remove_outliers_using_quantiles(df_train, \"target\", \"outer\")"
   ]
  },
  {
   "cell_type": "code",
   "execution_count": null,
   "id": "1e91eb7c",
   "metadata": {},
   "outputs": [],
   "source": [
    "plt.figure(figsize=(15,10))\n",
    "sns.violinplot(y=\"target\", data=df_train_new, palette=\"muted\")\n",
    "plt.title('Violin Plot for Customer Loyalty After Removing Outer Data')"
   ]
  },
  {
   "cell_type": "code",
   "execution_count": null,
   "id": "a2ca32fa",
   "metadata": {},
   "outputs": [],
   "source": [
    "plt.figure(figsize=(15,10))\n",
    "sns.distplot(df_train_new[\"target\"]);\n",
    "plt.title('Histogram for Customer Loyalty After Removing Outer Data')"
   ]
  },
  {
   "cell_type": "code",
   "execution_count": null,
   "id": "be9042f7",
   "metadata": {},
   "outputs": [],
   "source": [
    "sns.catplot(x=\"feature_1\", kind=\"count\", palette=\"ch:.25\", data=df_train);\n",
    "sns.catplot(x=\"feature_1\", kind=\"count\", palette=\"ch:.25\", data=df_test);"
   ]
  },
  {
   "cell_type": "code",
   "execution_count": null,
   "id": "395107ec",
   "metadata": {},
   "outputs": [],
   "source": [
    "sns.catplot(x=\"feature_2\", kind=\"count\", palette=\"ch:.25\", data=df_train);\n",
    "sns.catplot(x=\"feature_2\", kind=\"count\", palette=\"ch:.25\", data=df_test);"
   ]
  },
  {
   "cell_type": "code",
   "execution_count": null,
   "id": "f6b4d46a",
   "metadata": {},
   "outputs": [],
   "source": [
    "sns.catplot(x=\"feature_3\", kind=\"count\", palette=\"ch:.25\", data=df_train);\n",
    "sns.catplot(x=\"feature_3\", kind=\"count\", palette=\"ch:.25\", data=df_test);"
   ]
  },
  {
   "cell_type": "code",
   "execution_count": null,
   "id": "1fcb3af2",
   "metadata": {},
   "outputs": [],
   "source": [
    "sns.catplot(x=\"feature_1\", y=\"target\", kind=\"bar\", palette=\"ch:.25\", data=df_train);"
   ]
  },
  {
   "cell_type": "code",
   "execution_count": null,
   "id": "0877974e",
   "metadata": {},
   "outputs": [],
   "source": [
    "sns.catplot(x=\"feature_2\", y=\"target\", kind=\"bar\", palette=\"ch:.25\", data=df_train);"
   ]
  },
  {
   "cell_type": "code",
   "execution_count": null,
   "id": "a8e77f42",
   "metadata": {},
   "outputs": [],
   "source": [
    "sns.catplot(x=\"feature_3\", y=\"target\", kind=\"bar\", palette=\"ch:.25\", data=df_train);"
   ]
  },
  {
   "cell_type": "code",
   "execution_count": null,
   "id": "c5ba1dec",
   "metadata": {},
   "outputs": [],
   "source": [
    "df_feature_groups = df_train.groupby(['feature_1','feature_2','feature_3']).mean()\n",
    "df_feature_groups = df_feature_groups.reset_index()\n",
    "df_feature_groups.sort_values(\"target\")"
   ]
  },
  {
   "cell_type": "code",
   "execution_count": null,
   "id": "d4457cdf",
   "metadata": {},
   "outputs": [],
   "source": [
    "df_feature_groups[\"features\"] = df_feature_groups[\"feature_1\"].astype('str') + \"+\" + df_feature_groups[\"feature_2\"].astype('str') + \"+\" + df_feature_groups[\"feature_3\"].astype('str')"
   ]
  },
  {
   "cell_type": "code",
   "execution_count": null,
   "id": "117ec5c6",
   "metadata": {},
   "outputs": [],
   "source": [
    "df_feature_groups"
   ]
  },
  {
   "cell_type": "code",
   "execution_count": null,
   "id": "36a46c10",
   "metadata": {},
   "outputs": [],
   "source": [
    "plt.figure(figsize=(15,10))\n",
    "sns.barplot(x=\"features\", y=\"target\", palette=\"ch:.25\", data=df_feature_groups)\n",
    "plt.xticks(rotation= 90)"
   ]
  }
 ],
 "metadata": {},
 "nbformat": 4,
 "nbformat_minor": 5
}
