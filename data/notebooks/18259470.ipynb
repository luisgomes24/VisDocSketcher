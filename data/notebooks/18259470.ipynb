{
 "cells": [
  {
   "cell_type": "markdown",
   "id": "265b5e18",
   "metadata": {},
   "source": [
    "<br>\n",
    "<h1 style=\"color:pink; text-align:center; font-size:30px; font-family:Arial Black; border-radius:30px 30px; background-color:black; line-height: 50px; padding: 15px 15px 15px 2.5%;\">🚀Linear Regression🚀</h1>\n",
    "<br>"
   ]
  },
  {
   "cell_type": "markdown",
   "id": "e0aeabaf",
   "metadata": {},
   "source": [
    "# ✅ Importing Required Libraries"
   ]
  },
  {
   "cell_type": "code",
   "execution_count": null,
   "id": "0dc0c721",
   "metadata": {},
   "outputs": [],
   "source": [
    "import numpy as np\n",
    "import pandas as pd\n",
    "import matplotlib.pyplot as plt\n",
    "import seaborn as sns\n",
    "%matplotlib inline\n",
    "\n",
    "from sklearn.model_selection import train_test_split\n",
    "from sklearn.linear_model import LinearRegression"
   ]
  },
  {
   "cell_type": "markdown",
   "id": "c7f26a44",
   "metadata": {},
   "source": [
    "# 📑Reading the Data"
   ]
  },
  {
   "cell_type": "code",
   "execution_count": null,
   "id": "3fffb24d",
   "metadata": {},
   "outputs": [],
   "source": [
    "import os\n",
    "for dirname, _, filenames in os.walk('/kaggle/input'):\n",
    "    for filename in filenames:\n",
    "        print(os.path.join(dirname, filename))"
   ]
  },
  {
   "cell_type": "code",
   "execution_count": null,
   "id": "4faf5435",
   "metadata": {},
   "outputs": [],
   "source": [
    "train = pd.read_csv('/kaggle/input/tabular-playground-series-jul-2021/train.csv')\n",
    "test = pd.read_csv('/kaggle/input/tabular-playground-series-jul-2021/test.csv')\n",
    "ss = pd.read_csv('/kaggle/input/tabular-playground-series-jul-2021/sample_submission.csv')"
   ]
  },
  {
   "cell_type": "markdown",
   "id": "c34b633a",
   "metadata": {},
   "source": [
    "# 🔍Basic Data Checks"
   ]
  },
  {
   "cell_type": "code",
   "execution_count": null,
   "id": "2267ff4d",
   "metadata": {},
   "outputs": [],
   "source": [
    "print(f'Shape of Train dataset is : {train.shape}')\n",
    "print(f'Shape of Test dataset is : {test.shape}')\n",
    "print(f'Shape of Sample Submission dataset is : {ss.shape}')"
   ]
  },
  {
   "cell_type": "code",
   "execution_count": null,
   "id": "2a6a0f7e",
   "metadata": {},
   "outputs": [],
   "source": [
    "def check_NAN_columns(df, df_name):\n",
    "    if len(df.columns[df.isnull().any()]) == 0:\n",
    "        print(f'No missing data in {df_name} dataset')\n",
    "    else:\n",
    "        print(f'The following columns are having missing data in {df_name} dataset:')\n",
    "        print(df.columns[df.isnull().any()])"
   ]
  },
  {
   "cell_type": "code",
   "execution_count": null,
   "id": "2325fa71",
   "metadata": {},
   "outputs": [],
   "source": [
    "datasets = {\n",
    "    'Train': train,\n",
    "    'Test': test,\n",
    "    'Sample Submission': ss,\n",
    "}\n",
    "for df_name, df in datasets.items():\n",
    "    check_NAN_columns(df, df_name)"
   ]
  },
  {
   "cell_type": "code",
   "execution_count": null,
   "id": "fd222645",
   "metadata": {},
   "outputs": [],
   "source": [
    "train.describe().T.style.background_gradient(subset = ['count'], cmap = 'viridis') \\\n",
    "    .bar(subset = ['mean', '50%'], color = '#1E90FF') \\\n",
    "    .bar(subset = ['std'], color = '#DC143C')"
   ]
  },
  {
   "cell_type": "code",
   "execution_count": null,
   "id": "704d1280",
   "metadata": {},
   "outputs": [],
   "source": [
    "test.describe().T.style.background_gradient(subset = ['count'], cmap = 'viridis') \\\n",
    "    .bar(subset = ['mean', '50%'], color = '#1E90FF') \\\n",
    "    .bar(subset = ['std'], color = '#DC143C')"
   ]
  },
  {
   "cell_type": "code",
   "execution_count": null,
   "id": "95608698",
   "metadata": {},
   "outputs": [],
   "source": [
    "corr = train.corr()\n",
    "mask = np.triu(np.ones_like(corr, dtype = bool))\n",
    "\n",
    "plt.figure(figsize = (12, 10))\n",
    "plt.title('Corelation matrix')\n",
    "sns.heatmap(corr, mask = mask, cmap = 'rocket_r', linewidths = .5)\n",
    "plt.show()"
   ]
  },
  {
   "cell_type": "code",
   "execution_count": null,
   "id": "9d78838c",
   "metadata": {},
   "outputs": [],
   "source": [
    "targets = ['target_carbon_monoxide','target_benzene','target_nitrogen_oxides']"
   ]
  },
  {
   "cell_type": "code",
   "execution_count": null,
   "id": "7e04ba4e",
   "metadata": {},
   "outputs": [],
   "source": [
    "fig, ax = plt.subplots(1,3,figsize=(18, 6))\n",
    "fig.suptitle('Target Distributions', size ='xx-large')\n",
    "\n",
    "for idx, col in enumerate(targets):\n",
    "    sns.kdeplot(train[col], ax=ax[idx], fill=True)\n",
    "    ax[idx].set_title(col)"
   ]
  },
  {
   "cell_type": "markdown",
   "id": "b5635855",
   "metadata": {},
   "source": [
    "<div class=\"alert alert-block alert-info\">\n",
    "📌All the targets are left skewed.    \n",
    "</div>"
   ]
  },
  {
   "cell_type": "markdown",
   "id": "c6252e27",
   "metadata": {},
   "source": [
    "# 🎯Model Creation"
   ]
  },
  {
   "cell_type": "code",
   "execution_count": null,
   "id": "757a030d",
   "metadata": {},
   "outputs": [],
   "source": [
    "X = train.drop(['date_time','target_carbon_monoxide', 'target_benzene', 'target_nitrogen_oxides'], axis=1)\n",
    "y = train[targets]\n",
    "X_test = test.drop(\"date_time\", axis=1)"
   ]
  },
  {
   "cell_type": "code",
   "execution_count": null,
   "id": "299f35c8",
   "metadata": {},
   "outputs": [],
   "source": [
    "reg1 = LinearRegression().fit(X, y.iloc[:, 0])\n",
    "reg2 = LinearRegression().fit(X, y.iloc[:, 1])\n",
    "reg3 = LinearRegression().fit(X, y.iloc[:, 2])"
   ]
  },
  {
   "cell_type": "markdown",
   "id": "85642823",
   "metadata": {},
   "source": [
    "# 📁 Submission file"
   ]
  },
  {
   "cell_type": "code",
   "execution_count": null,
   "id": "a2f49f24",
   "metadata": {},
   "outputs": [],
   "source": [
    "ss[targets[0]] = reg1.predict(X_test)\n",
    "ss[targets[1]] = reg2.predict(X_test)\n",
    "ss[targets[2]] = reg3.predict(X_test)\n",
    "ss.to_csv(\"/kaggle/working/sub_lr.csv\", index=False)"
   ]
  },
  {
   "cell_type": "markdown",
   "id": "bafd36fd",
   "metadata": {},
   "source": [
    "# ⬆Kindly Upvote, if you like this notebook.\n",
    "# Thank you🙏"
   ]
  }
 ],
 "metadata": {},
 "nbformat": 4,
 "nbformat_minor": 5
}
