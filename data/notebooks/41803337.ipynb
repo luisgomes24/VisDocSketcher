{
 "cells": [
  {
   "cell_type": "markdown",
   "id": "60723785",
   "metadata": {},
   "source": [
    "### Quick Note\n",
    "I originally wanted to submit this while the competition was running, \n",
    "but only joined in the last week and got the warning that notebooks may not be made public this late.\n",
    "I hope it still provides some interesting information.\n",
    "\n",
    "My own submissions used the recommended band08 in addition to Ash, but I did not have time left to verify if there was a substantial advantage against Ash only, I'm somewhat skeptical of that now, having not seen it used by any of the top solutions posted yet."
   ]
  },
  {
   "cell_type": "markdown",
   "id": "9f1c71ba",
   "metadata": {},
   "source": [
    "# Summary and Key Takeaway\n",
    "Taking the Ash false color image as a basis seems great, but I expect most people are doing that already.\n",
    "Just adding bands 11 to 16 to that base seems like a bad idea, as the information is almost completely contained in blue already.\n",
    "I would recommend trying to add band08 as a 4th input channel (normalized), as it is much less correlated with the Ash colors and pretty well correlated with the contrails, meaning it could add new and useful information, an implementation is here [Contrails Dataset (Ash+08)](https://www.kaggle.com/code/raki21/contrails-dataset-ash-band08-with-soft-mask). I would not add all 3 (bands 08,09 and 10) as they are highly correlated with each other and additional channels that don't contribute additional information might increase opportunity for overfitting. "
   ]
  },
  {
   "cell_type": "markdown",
   "id": "fa918eda",
   "metadata": {},
   "source": [
    "# Information Bands\n",
    "A lot of information about bands is already contained in other EDAs, especially [this EDA](https://www.kaggle.com/code/pranavnadimpali/comprehensive-eda-submission), a short summary:\n",
    "\n",
    "The Advanced Baseline Imager (ABI) is a key instrument on the Geostationary Operational Environmental Satellite (GOES) series. It captures images of the Earth using 16 spectral bands, with each band focusing on a specific wavelength. This provides a wealth of information about the Earth's atmosphere, clouds, land, and water, significantly improving weather analysis and forecasting. In this dataset, you have access to 9 bands for each example.\n",
    "\n",
    "Each band provides a series of images taken at 10-minute intervals, leading to 8 images for each band spanning 80 minutes. This temporal data captures how contrails evolve over time. Two types of segmentation masks are provided: 'human_pixel_masks' that represent the consolidated ground truth, and 'human_individual_masks' that represent annotations from multiple labellers. The ground truth corresponds to the 5th image in the bands.\n",
    "\n",
    "The image that labellers annotate is a false color image, which is not directly provided in the spectral bands but can be generated from them. The false color image uses the [Ash color scheme](https://eumetrain.org/sites/default/files/2020-05/RGB_recipes.pdf), using bands 15,14 and 11, making contrails appear darker and thus easier to detect. The ash color scheme combines red, green, and blue channels to represent different features. \n"
   ]
  },
  {
   "cell_type": "markdown",
   "id": "68cc1e42",
   "metadata": {},
   "source": [
    "## Correlation Between Bands and Contrails\n",
    "The contribution of this notebook is trying to find bands that are useful for contrail detection.\n",
    "For this we create a correlation matrix between the bands and the contrail groundtruth."
   ]
  },
  {
   "cell_type": "code",
   "execution_count": null,
   "id": "722c9928",
   "metadata": {},
   "outputs": [],
   "source": [
    "import os\n",
    "import pandas as pd\n",
    "import numpy as np\n",
    "import seaborn as sns\n",
    "import matplotlib.pyplot as plt\n",
    "from pathlib import Path\n",
    "from tqdm.notebook import tqdm"
   ]
  },
  {
   "cell_type": "code",
   "execution_count": null,
   "id": "c2212de1",
   "metadata": {},
   "outputs": [],
   "source": [
    "data_dir = '/kaggle/input/google-research-identify-contrails-reduce-global-warming/'\n",
    "\n",
    "train_rs = os.listdir(data_dir + 'train')\n",
    "valid_rs = os.listdir(data_dir + 'validation')\n",
    "\n",
    "train_df = pd.DataFrame(train_rs, columns=['record_id'])\n",
    "valid_df = pd.DataFrame(valid_rs, columns=['record_id'])\n",
    "\n",
    "train_df['train'] = 'train'\n",
    "valid_df['train'] = 'valid'"
   ]
  },
  {
   "cell_type": "code",
   "execution_count": null,
   "id": "dc04de6d",
   "metadata": {},
   "outputs": [],
   "source": [
    "def plot_correlation_matrix(correlation_matrix, band_labels, band_labels_nickname):\n",
    "    plt.figure(figsize=(10,10)) # Set the figure size\n",
    "    sns.set(font_scale=1.2)  # Set font size\n",
    "    \n",
    "    # Generate a mask for the upper triangle\n",
    "    mask = np.triu(np.ones_like(correlation_matrix, dtype=bool))\n",
    "    \n",
    "    # Generate a custom diverging colormap\n",
    "    cmap = sns.diverging_palette(230, 20, as_cmap=True)\n",
    "    \n",
    "    # Draw the heatmap with the mask and correct aspect ratio\n",
    "    sns.set(font_scale=0.7)\n",
    "    sns.heatmap(correlation_matrix, annot=True, fmt=\".3f\", mask=mask, cmap=cmap, \n",
    "                cbar_kws={\"shrink\": .5}, xticklabels=band_labels, yticklabels=band_labels_nickname)\n",
    "    plt.xlabel('Band')  # Adding label to x-axis\n",
    "    plt.ylabel('Band Nickname')  # Adding label to y-axis\n",
    "    plt.title('Correlation matrix of Band Data')\n",
    "    plt.show()"
   ]
  },
  {
   "cell_type": "code",
   "execution_count": null,
   "id": "84d7a5a3",
   "metadata": {},
   "outputs": [],
   "source": [
    "def correlation_create(record_id, directory):\n",
    "    record_data = {}\n",
    "    for band in range(8, 17):  # For bands 8 through 16\n",
    "        band_key = f\"band_{band:02d}\"\n",
    "        band_data = np.load(os.path.join(directory, record_id, band_key + \".npy\"))\n",
    "        record_data[band_key] = band_data[:,:,4]                                          # Only look at current time\n",
    "\n",
    "    if directory == 'train':\n",
    "        individual = np.load(os.path.join(directory, record_id, 'human_individual_masks' + \".npy\"))\n",
    "        record_data['mean_mask'] = individual.sum(axis=3) / individual.shape[3]\n",
    "    else:\n",
    "        record_data['mask'] = np.load(os.path.join(directory, record_id, 'human_pixel_masks' + \".npy\")).squeeze()\n",
    "\n",
    "    band_values = np.array([band_data.flatten() for band_data in record_data.values()])\n",
    "    correlation_matrix = np.corrcoef(band_values)\n",
    "    correlation_matrix = np.nan_to_num(correlation_matrix)\n",
    "\n",
    "    return correlation_matrix"
   ]
  },
  {
   "cell_type": "code",
   "execution_count": null,
   "id": "ad63f2e9",
   "metadata": {},
   "outputs": [],
   "source": [
    "for n,i in enumerate(train_rs):\n",
    "    if n == 0:\n",
    "        cor = correlation_create(str(i), data_dir+'train')\n",
    "        total_cor = cor\n",
    "    elif n%10 == 0:\n",
    "        cor = correlation_create(str(i), data_dir+'train')\n",
    "        total_cor += cor\n",
    "    if n == 10000 - 1:\n",
    "        break\n",
    "correlation_matrix = total_cor/1000"
   ]
  },
  {
   "cell_type": "code",
   "execution_count": null,
   "id": "14fd9c67",
   "metadata": {},
   "outputs": [],
   "source": [
    "band_labels = [\"band_08\", \"band_09\", \"band_10\", \"band_11\", \"band_12\", \"band_13\", \"band_14\", \"band_15\", \"band_16\",\"mask\"]\n",
    "band_labels_nickname = [\"Upper-Level Tropospheric Water Vapor\", \n",
    "                       \"Mid-Level Tropospheric Water Vapor\", \n",
    "                       \"Lower-level Water Vapor\", \n",
    "                       \"Cloud-Top Phase\", \n",
    "                       \"Ozone\", \n",
    "                       \"Clean IR Longwave Window\", \n",
    "                       \"IR Longwave Window\", \n",
    "                       \"Dirty Longwave Window\", \n",
    "                       \"CO2 Longwave Infrared\",\n",
    "                       \"Contrails\"]\n",
    "plot_correlation_matrix(correlation_matrix, band_labels, band_labels_nickname)"
   ]
  },
  {
   "cell_type": "markdown",
   "id": "852a15a3",
   "metadata": {},
   "source": [
    "You can see that bands 8,9,10 and bands 11 to 16 are highly correlated with each other, the bands 8 and 16 seem to be most correlated with contrails.\n",
    "I made a few small training runs with only using those bands leading to Val Dice that seem to align well with the correlation scores."
   ]
  },
  {
   "cell_type": "markdown",
   "id": "37b60624",
   "metadata": {},
   "source": [
    "    Band  Dice  Val Dice\n",
    "    8 \t0.5  \t0.377\n",
    "    9 \t0.487\t0.372\n",
    "    10\t0.47 \t0.346\n",
    "    11\t0.349\t0.195\n",
    "    12\t0.323\t0.165\n",
    "    13\t0.342\t0.192\n",
    "    14\t0.454\t0.297\n",
    "    15\t0.484\t0.354\n",
    "    16\t0.518\t0.396"
   ]
  },
  {
   "cell_type": "markdown",
   "id": "371ee41b",
   "metadata": {},
   "source": [
    "We now look at the correlation with the Ash color scheme."
   ]
  },
  {
   "cell_type": "markdown",
   "id": "680a5397",
   "metadata": {},
   "source": [
    "## Correlation Ash"
   ]
  },
  {
   "cell_type": "code",
   "execution_count": null,
   "id": "6f4e475b",
   "metadata": {},
   "outputs": [],
   "source": [
    "def normalize_range(data, bounds):\n",
    "    return (data - bounds[0]) / (bounds[1] - bounds[0])"
   ]
  },
  {
   "cell_type": "code",
   "execution_count": null,
   "id": "68f873e8",
   "metadata": {},
   "outputs": [],
   "source": [
    "def correlation_create_ash(record_id, directory):\n",
    "    _T11_BOUNDS = (243, 303)                   #\n",
    "    _CLOUD_TOP_TDIFF_BOUNDS = (-4, 5)\n",
    "    _TDIFF_BOUNDS = (-4, 2)\n",
    "\n",
    "    record_data = {}\n",
    "    for band in range(8, 17):  # For bands 8 through 16\n",
    "        band_key = f\"band_{band:02d}\"\n",
    "        band_data = np.load(os.path.join(directory, record_id, band_key + \".npy\"))\n",
    "        record_data[band_key] = band_data[:,:,4]                                          # Only look at current time\n",
    "\n",
    "    record_data['r'] = normalize_range(record_data[\"band_15\"] - record_data[\"band_14\"], _TDIFF_BOUNDS)\n",
    "    record_data['g'] = normalize_range(record_data[\"band_14\"] - record_data[\"band_11\"], _CLOUD_TOP_TDIFF_BOUNDS)\n",
    "    record_data['b'] = normalize_range(record_data[\"band_14\"], _T11_BOUNDS)\n",
    "    \n",
    "    if directory == 'train':\n",
    "        individual = np.load(os.path.join(directory, record_id, 'human_individual_masks' + \".npy\"))\n",
    "        record_data['mean_mask'] = individual.sum(axis=3) / individual.shape[3]\n",
    "    else:\n",
    "        record_data['mask'] = np.load(os.path.join(directory, record_id, 'human_pixel_masks' + \".npy\")).squeeze()\n",
    "\n",
    "    band_values = np.array([band_data.flatten() for band_data in record_data.values()])\n",
    "    correlation_matrix = np.corrcoef(band_values)\n",
    "    correlation_matrix = np.nan_to_num(correlation_matrix)\n",
    "\n",
    "    return correlation_matrix"
   ]
  },
  {
   "cell_type": "code",
   "execution_count": null,
   "id": "b8f1b09c",
   "metadata": {},
   "outputs": [],
   "source": [
    "for n,i in enumerate(train_rs):\n",
    "    if n == 0:\n",
    "        cor = correlation_create_ash(str(i), data_dir+'train')\n",
    "        total_cor = cor\n",
    "    elif n%10 == 0:\n",
    "        cor = correlation_create_ash(str(i), data_dir+'train')\n",
    "        total_cor += cor\n",
    "    if n == 10000 - 1:\n",
    "        break\n",
    "correlation_matrix = total_cor/1000"
   ]
  },
  {
   "cell_type": "code",
   "execution_count": null,
   "id": "be76a8b3",
   "metadata": {},
   "outputs": [],
   "source": [
    "band_labels = [\"band_08\", \"band_09\", \"band_10\", \"band_11\", \"band_12\", \"band_13\", \"band_14\", \"band_15\", \"band_16\", \"r\", \"g\", \"b\", \"mask\"]\n",
    "band_labels_nickname = [\"Upper-Level Tropospheric Water Vapor\", \n",
    "                       \"Mid-Level Tropospheric Water Vapor\", \n",
    "                       \"Lower-level Water Vapor\", \n",
    "                       \"Cloud-Top Phase\", \n",
    "                       \"Ozone\", \n",
    "                       \"Clean IR Longwave Window\", \n",
    "                       \"IR Longwave Window\", \n",
    "                       \"Dirty Longwave Window\", \n",
    "                       \"CO2 Longwave Infrared\",\n",
    "                       \"Red\", \"Green\", \"Blue\",\n",
    "                       \"Contrails\"]\n",
    "plot_correlation_matrix(correlation_matrix, band_labels, band_labels_nickname)"
   ]
  },
  {
   "cell_type": "markdown",
   "id": "cf9e74a8",
   "metadata": {},
   "source": [
    "The correlation between the red and green false colors in the ash image with contrails is very high and they are not highly correlated with any other bands. \n",
    "I except this to mean that they are really useful, which is plausible as this is what labelers saw. The exception is with Blue but this is also almost the same as band 14. "
   ]
  },
  {
   "cell_type": "markdown",
   "id": "eaafcdd6",
   "metadata": {},
   "source": [
    "Taking the Ash false color image as a basis seems great, adding bands 11 to 16 to that base seems like a bad idea, as the information is almost completely contained in blue already, I would recommend trying to add band08 as a 4th input channel, as it is much less correlated with the Ash colors and pretty well correlated with the contrails, meaning it could add new and useful information, I would not add all 3 as they are highly correlated with each other."
   ]
  },
  {
   "cell_type": "markdown",
   "id": "bace93ab",
   "metadata": {},
   "source": [
    "# Dataset Creation"
   ]
  },
  {
   "cell_type": "code",
   "execution_count": null,
   "id": "1be974b1",
   "metadata": {},
   "outputs": [],
   "source": [
    "train_df.shape, valid_df.shape"
   ]
  },
  {
   "cell_type": "markdown",
   "id": "09d17193",
   "metadata": {},
   "source": [
    "## Save csvs"
   ]
  },
  {
   "cell_type": "code",
   "execution_count": null,
   "id": "d134f121",
   "metadata": {},
   "outputs": [],
   "source": [
    "# Save the csvs\n",
    "train_df.to_csv('train_df.csv', index=False)\n",
    "valid_df.to_csv('valid_df.csv', index=False)"
   ]
  },
  {
   "cell_type": "markdown",
   "id": "998f35ba",
   "metadata": {},
   "source": [
    "## Save Images as Numpy"
   ]
  },
  {
   "cell_type": "code",
   "execution_count": null,
   "id": "9f211b4f",
   "metadata": {},
   "outputs": [],
   "source": [
    "def read_record(record_id, directory, mode):\n",
    "    record_data = {}\n",
    "    read = [\"band_08\", \"band_11\", \"band_14\", \"band_15\"]\n",
    "    if mode == 'train':\n",
    "        read.append('human_individual_masks')\n",
    "    elif mode == 'val':\n",
    "        read.append('human_pixel_masks')\n",
    "    for x in read:\n",
    "        if x == 'human_individual_masks':\n",
    "            individual = np.load(os.path.join(directory, record_id, x + \".npy\"))\n",
    "            record_data['human_pixel_masks'] = individual.sum(axis=3) / individual.shape[3]\n",
    "        else:\n",
    "            record_data[x] = np.load(os.path.join(directory, record_id, x + \".npy\"))\n",
    "    return record_data"
   ]
  },
  {
   "cell_type": "code",
   "execution_count": null,
   "id": "3b396a9f",
   "metadata": {},
   "outputs": [],
   "source": [
    "def normalize_range(data, bounds):\n",
    "    return (data - bounds[0]) / (bounds[1] - bounds[0])\n",
    "\n",
    "def get_false_color(record_data):\n",
    "    _T11_BOUNDS = (243, 303)\n",
    "    _CLOUD_TOP_TDIFF_BOUNDS = (-4, 5)\n",
    "    _TDIFF_BOUNDS = (-4, 2)\n",
    "    N_TIMES_BEFORE = 4\n",
    "\n",
    "    r = normalize_range(record_data[\"band_15\"] - record_data[\"band_14\"], _TDIFF_BOUNDS)\n",
    "    g = normalize_range(record_data[\"band_14\"] - record_data[\"band_11\"], _CLOUD_TOP_TDIFF_BOUNDS)\n",
    "    b = normalize_range(record_data[\"band_14\"], _T11_BOUNDS)\n",
    "    n = (record_data[\"band_08\"] - 230) / 20\n",
    "\n",
    "    false_color = np.stack([r, g, b, n], axis=2)\n",
    "    img = false_color[..., N_TIMES_BEFORE]\n",
    "    #print(img.shape, img.mean(axis=(0,1)), img.min(axis=(0,1)), img.max(axis=(0,1)))\n",
    "    \n",
    "    return img"
   ]
  },
  {
   "cell_type": "code",
   "execution_count": null,
   "id": "0aacabc6",
   "metadata": {},
   "outputs": [],
   "source": [
    "path = Path('contrails')\n",
    "path.mkdir(exist_ok=True, parents=True)"
   ]
  },
  {
   "cell_type": "code",
   "execution_count": null,
   "id": "56a16382",
   "metadata": {},
   "outputs": [],
   "source": [
    "#Val\n",
    "for i in tqdm(valid_rs):\n",
    "    data = read_record(str(i), data_dir+'validation', mode='val')\n",
    "    img = get_false_color(data)\n",
    "    final = np.dstack([img, data['human_pixel_masks']])\n",
    "    final = final.astype(np.float16)\n",
    "    \n",
    "    pathc = path/f\"{i}.npy\"\n",
    "    np.save(str(pathc), final)"
   ]
  },
  {
   "cell_type": "code",
   "execution_count": null,
   "id": "c58bb91e",
   "metadata": {},
   "outputs": [],
   "source": [
    "#Train\n",
    "for i in tqdm(train_rs):\n",
    "    data = read_record(str(i), data_dir+'train', mode='train')\n",
    "    img = get_false_color(data)\n",
    "    final = np.dstack([img, data['human_pixel_masks']])\n",
    "    final = final.astype(np.float16)\n",
    "\n",
    "    pathc = path/f\"{i}.npy\"\n",
    "    np.save(str(pathc), final)"
   ]
  },
  {
   "cell_type": "code",
   "execution_count": null,
   "id": "463213fa",
   "metadata": {},
   "outputs": [],
   "source": [
    "nan"
   ]
  }
 ],
 "metadata": {},
 "nbformat": 4,
 "nbformat_minor": 5
}
