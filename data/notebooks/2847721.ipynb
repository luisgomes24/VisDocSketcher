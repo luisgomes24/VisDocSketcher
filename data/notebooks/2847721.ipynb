{
 "cells": [
  {
   "cell_type": "code",
   "execution_count": null,
   "id": "2b3341d4",
   "metadata": {},
   "outputs": [],
   "source": [
    "# This Python 3 environment comes with many helpful analytics libraries installed\n",
    "# It is defined by the kaggle/python docker image: https://github.com/kaggle/docker-python\n",
    "# For example, here's several helpful packages to load in \n",
    "\n",
    "import numpy as np # linear algebra\n",
    "import pandas as pd # data processing, CSV file I/O (e.g. pd.read_csv)\n",
    "\n",
    "# Input data files are available in the \"../input/\" directory.\n",
    "# For example, running this (by clicking run or pressing Shift+Enter) will list the files in the input directory\n",
    "\n",
    "import os\n",
    "print(os.listdir(\"../input\"))\n",
    "\n",
    "# Any results you write to the current directory are saved as output."
   ]
  },
  {
   "cell_type": "code",
   "execution_count": null,
   "id": "388c171c",
   "metadata": {},
   "outputs": [],
   "source": [
    "import pandas as pd\n",
    "import numpy as np\n",
    "import seaborn as sns \n",
    "import sklearn as sk\n",
    "import matplotlib as plt"
   ]
  },
  {
   "cell_type": "code",
   "execution_count": null,
   "id": "0372a469",
   "metadata": {},
   "outputs": [],
   "source": [
    "train = pd.read_csv('../input/train.csv')\n",
    "test = pd.read_csv('../input/test.csv')"
   ]
  },
  {
   "cell_type": "code",
   "execution_count": null,
   "id": "e65d7887",
   "metadata": {},
   "outputs": [],
   "source": [
    "train.head()"
   ]
  },
  {
   "cell_type": "code",
   "execution_count": null,
   "id": "3e699f5c",
   "metadata": {},
   "outputs": [],
   "source": [
    "train.info()"
   ]
  },
  {
   "cell_type": "code",
   "execution_count": null,
   "id": "0f461b21",
   "metadata": {},
   "outputs": [],
   "source": [
    "train['Age'].isnull().value_counts()"
   ]
  },
  {
   "cell_type": "code",
   "execution_count": null,
   "id": "90874045",
   "metadata": {},
   "outputs": [],
   "source": [
    "train.loc[train.Age.isnull(),'Age']=train[~train.Age.isnull()].Age.mean()"
   ]
  },
  {
   "cell_type": "code",
   "execution_count": null,
   "id": "64bdbd99",
   "metadata": {},
   "outputs": [],
   "source": [
    "train['Age'].isnull().value_counts()"
   ]
  },
  {
   "cell_type": "code",
   "execution_count": null,
   "id": "d01095fa",
   "metadata": {},
   "outputs": [],
   "source": [
    "train.loc[train.Cabin.isnull(),'Cabin']='No Cabin'"
   ]
  },
  {
   "cell_type": "code",
   "execution_count": null,
   "id": "02601fb3",
   "metadata": {},
   "outputs": [],
   "source": [
    "train.info()"
   ]
  },
  {
   "cell_type": "code",
   "execution_count": null,
   "id": "07276579",
   "metadata": {},
   "outputs": [],
   "source": [
    "print(train.Embarked.value_counts())\n",
    "train.loc[train.Embarked.isnull(),'Embarked']='S' #southampton"
   ]
  },
  {
   "cell_type": "code",
   "execution_count": null,
   "id": "7f1dfe8c",
   "metadata": {},
   "outputs": [],
   "source": [
    "train.isnull().sum()"
   ]
  },
  {
   "cell_type": "code",
   "execution_count": null,
   "id": "dd23bd36",
   "metadata": {},
   "outputs": [],
   "source": [
    "fig , axes = plt.pyplot.subplots(1,2,figsize=(25,8))\n",
    "print(axes)\n"
   ]
  },
  {
   "cell_type": "code",
   "execution_count": null,
   "id": "89913e2f",
   "metadata": {},
   "outputs": [],
   "source": [
    "print(fig)"
   ]
  },
  {
   "cell_type": "code",
   "execution_count": null,
   "id": "e9bd011d",
   "metadata": {},
   "outputs": [],
   "source": [
    "fig,axes = plt.pyplot.subplots(1, 2,figsize=(10,4))\n",
    "print(axes)\n",
    "\n",
    "sns.boxplot(x='Pclass',y='Age',data=train, palette='viridis',ax=axes[0])\n",
    "\n",
    "# We now need to check for outliers (values that seem irregular compared to the others)\n",
    "sns.boxplot(x='Pclass',y='Fare',data=train, palette='viridis',ax=axes[1])\n",
    "\n",
    "plt.pyplot.show()\n"
   ]
  },
  {
   "cell_type": "code",
   "execution_count": null,
   "id": "fd1ce92f",
   "metadata": {},
   "outputs": [],
   "source": [
    "train.loc[train.Fare>200]"
   ]
  },
  {
   "cell_type": "code",
   "execution_count": null,
   "id": "ad1a6c4a",
   "metadata": {},
   "outputs": [],
   "source": [
    "numerical_column = ['int64','float64'] #select only numerical features to find correlation\n",
    "plt.pyplot.figure(figsize=(10,10))\n",
    "sns.heatmap(\n",
    "    train.select_dtypes(include=numerical_column).corr(),\n",
    "    cmap=plt.cm.RdBu,\n",
    "    vmax=1.0,\n",
    "    linewidths=0.1,\n",
    "    linecolor='white',\n",
    "    square=True,\n",
    "    annot=True\n",
    ")"
   ]
  },
  {
   "cell_type": "code",
   "execution_count": null,
   "id": "d3d84c3e",
   "metadata": {},
   "outputs": [],
   "source": [
    "train.Sex.value_counts()"
   ]
  },
  {
   "cell_type": "code",
   "execution_count": null,
   "id": "c2778840",
   "metadata": {},
   "outputs": [],
   "source": [
    "from sklearn import preprocessing\n",
    "train['Sex']=preprocessing.LabelEncoder().fit_transform(train['Sex'])\n",
    "train.Sex.value_counts()\n"
   ]
  },
  {
   "cell_type": "code",
   "execution_count": null,
   "id": "9915a2cb",
   "metadata": {},
   "outputs": [],
   "source": [
    "palette ={1:\"g\", 0:\"r\"}\n",
    "sns.countplot(x='Sex',data=train,hue=\"Survived\", palette=palette)"
   ]
  },
  {
   "cell_type": "code",
   "execution_count": null,
   "id": "d27da940",
   "metadata": {},
   "outputs": [],
   "source": [
    "def features_engineering(df):\n",
    "    df.loc[df.Age.isna(), 'Age'] = df[~df.Age.isna()].Age.mean()\n",
    "    df.loc[df.Cabin.isna(),'Cabin'] = \"No Cabin\"\n",
    "    df.loc[df.Embarked.isna(),'Embarked'] = \"S\"\n",
    "    df['persons_abroad_size'] = (df['Parch']+df['SibSp']).astype(int)\n",
    "    df['alone'] = np.where(df['Parch']==0,1,0)\n",
    "    df['Embarked'] = df['Embarked'].map( {'S': 0, 'C': 1, 'Q': 2} ).astype(int)\n",
    "    df['Sex'] = df['Sex'].map( {'male': 1, 'female': 2} ).astype(int)\n",
    "    df['log_fare'] = df['Fare'].apply(np.log)\n",
    "    df['Room'] = (df['Cabin']\n",
    "                    .str.slice(1,5).str.extract('([0-9]+)', expand=False)\n",
    "                    .fillna(0)\n",
    "                    .astype(int))\n",
    "    df['RoomBand'] = 0\n",
    "    df.loc[(df.Room > 0) & (df.Room <= 20), 'RoomBand'] = 1\n",
    "    df.loc[(df.Room > 20) & (df.Room <= 40), 'RoomBand'] = 2\n",
    "    df.loc[(df.Room > 40) & (df.Room <= 80), 'RoomBand'] = 3\n",
    "    df.loc[df.Room > 80, 'RoomBand'] = 4\n",
    "    df_id = df.PassengerId\n",
    "    df = df.drop('PassengerId', axis=1)\n",
    "    return df,df_id"
   ]
  },
  {
   "cell_type": "code",
   "execution_count": null,
   "id": "4bd9f5ca",
   "metadata": {},
   "outputs": [],
   "source": [
    "train = pd.read_csv('../input/train.csv')\n",
    "test = pd.read_csv('../input/test.csv')\n",
    "train,train_id = features_engineering(train)\n",
    "test,test_id = features_engineering(test)"
   ]
  },
  {
   "cell_type": "code",
   "execution_count": null,
   "id": "a4410641",
   "metadata": {},
   "outputs": [],
   "source": [
    "train.info()"
   ]
  },
  {
   "cell_type": "code",
   "execution_count": null,
   "id": "95359b28",
   "metadata": {},
   "outputs": [],
   "source": [
    "import xgboost as xgb\n",
    "from sklearn import model_selection\n",
    "X_train = train.drop('Survived',axis=1).select_dtypes(include=['int32','int64','float64'])\n",
    "y_train = train['Survived']\n",
    "X_test = test.select_dtypes(include=['int32','int64','float64'])\n",
    "\n",
    "xg_boost = xgb.XGBClassifier(base_score=0.5, booster='gbtree', colsample_bylevel=1,\n",
    "       colsample_bytree=0.65, gamma=2, learning_rate=0.3, max_delta_step=1,\n",
    "       max_depth=4, min_child_weight=2, missing=None, n_estimators=280,\n",
    "       n_jobs=1, nthread=None, objective='binary:logistic', random_state=0,\n",
    "       reg_alpha=0, reg_lambda=1, scale_pos_weight=1, seed=None,\n",
    "       silent=True, subsample=1)"
   ]
  },
  {
   "cell_type": "code",
   "execution_count": null,
   "id": "e0499d98",
   "metadata": {},
   "outputs": [],
   "source": [
    "xg_boost.fit(X_train, y_train)"
   ]
  },
  {
   "cell_type": "code",
   "execution_count": null,
   "id": "bf4c755d",
   "metadata": {},
   "outputs": [],
   "source": [
    "print(xg_boost.score(X_train, y_train))\n",
    "\n",
    "scores = model_selection.cross_val_score(xg_boost, X_train, y_train, cv=5, scoring='accuracy')\n",
    "print(scores)\n",
    "print(\"Kfold on XGBClassifier: %0.4f (+/- %0.4f)\" % (scores.mean(), scores.std()))"
   ]
  },
  {
   "cell_type": "code",
   "execution_count": null,
   "id": "a785e6f9",
   "metadata": {},
   "outputs": [],
   "source": [
    "xgb.plot_importance(xg_boost)\n",
    "plt.pyplot.show()"
   ]
  },
  {
   "cell_type": "code",
   "execution_count": null,
   "id": "ff32ac71",
   "metadata": {},
   "outputs": [],
   "source": [
    "Y_pred = xg_boost.predict(X_test)"
   ]
  },
  {
   "cell_type": "code",
   "execution_count": null,
   "id": "79d3a763",
   "metadata": {},
   "outputs": [],
   "source": [
    "submission = pd.DataFrame({\n",
    "    \"PassengerId\": test_id, \n",
    "    \"Survived\": Y_pred \n",
    "})\n",
    "submission.head(10)"
   ]
  },
  {
   "cell_type": "code",
   "execution_count": null,
   "id": "d63f1c73",
   "metadata": {},
   "outputs": [],
   "source": [
    "submission.to_csv('submission.csv', index=False)"
   ]
  },
  {
   "cell_type": "code",
   "execution_count": null,
   "id": "61e015e8",
   "metadata": {},
   "outputs": [],
   "source": [
    "submission.to_csv('deepansh.csv')"
   ]
  },
  {
   "cell_type": "code",
   "execution_count": null,
   "id": "793d3ac7",
   "metadata": {},
   "outputs": [],
   "source": [
    "nan"
   ]
  }
 ],
 "metadata": {},
 "nbformat": 4,
 "nbformat_minor": 5
}
