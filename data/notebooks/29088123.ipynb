{
 "cells": [
  {
   "cell_type": "code",
   "execution_count": null,
   "id": "21902605",
   "metadata": {},
   "outputs": [],
   "source": [
    "from IPython.display import display, Markdown, Latex\n",
    "\n",
    "import os\n",
    "\n",
    "import numpy as np\n",
    "import pandas as pd\n",
    "import seaborn as sns\n",
    "import matplotlib.pyplot as plt"
   ]
  },
  {
   "cell_type": "code",
   "execution_count": null,
   "id": "1f7e46c7",
   "metadata": {},
   "outputs": [],
   "source": [
    "if os.path.exists('src'):\n",
    "    path_dunnetts_table = \"src/Dunnetts_Table.csv\"\n",
    "\n",
    "    %load_ext autoreload\n",
    "    %autoreload 2\n",
    "\n",
    "    from src.stattests import f_test, dunnetts_q_value, dunnetts_test, _make_dunnetts_q_value\n",
    "else:\n",
    "    path_dunnetts_table = \"../input/dunnetts-table/Dunnetts_Table.csv\"\n",
    "\n",
    "    !git clone https://github.com/P-Mihail/medstats_ex.git\n",
    "    from medstats_ex.src.stattests import f_test, dunnetts_q_value, dunnetts_test, _make_dunnetts_q_value # type: ignore"
   ]
  },
  {
   "cell_type": "markdown",
   "id": "8cdf3c59",
   "metadata": {},
   "source": [
    "`Dunnetts_Table.csv` provide critical values for various values of alpha for the two-tailed Dunnett’s test.\n",
    "\n",
    "columns:\n",
    "* $\\nu$ - degrees of freedom (N – m), where N - sum of the observations in all groups, m – number of groups\n",
    "* $\\alpha$ - significance level\n",
    "* *l* - number of groups including control"
   ]
  },
  {
   "cell_type": "markdown",
   "id": "a20d2140",
   "metadata": {},
   "source": [
    "# 1. Table view variations"
   ]
  },
  {
   "cell_type": "code",
   "execution_count": null,
   "id": "31e9e954",
   "metadata": {},
   "outputs": [],
   "source": [
    "# raw pd.Series from csv file\n",
    "df = pd.read_csv(path_dunnetts_table, index_col=[0, 1, 2]).squeeze()\n",
    "display(Markdown(\"---\\n\\n### *1. raw pd.Series from csv file:*\"))\n",
    "display(df)\n",
    "display(Markdown(f\"For example: q($\\\\nu$=5, $\\\\alpha$=0.05, *l*=6) = `df.loc[5.,0.05,6]` = {df.loc[5.,0.05,6]}\"))\n",
    "\n",
    "# like in statistics books\n",
    "df = pd.read_csv(path_dunnetts_table, index_col=[0, 1, 2]).unstack(-1).droplevel(0, axis=1)\n",
    "display(Markdown(\"---\\n\\n### *2. like in statistics books*\"))\n",
    "display(df)\n",
    "display(Markdown(f\"For example: q($\\\\nu$=5, $\\\\alpha$=0.05, *l*=6) = `df.loc[(5.,0.05), 6]` = {df.loc[(5.,0.05), 6]}\"))\n",
    "\n",
    "# separate tables by alpha\n",
    "df = pd.read_csv(path_dunnetts_table, index_col=[1, 0, 2]).unstack(-1).droplevel(0, axis=1)\n",
    "display(Markdown(\"---\\n\\n### *3. separate tables by alpha*\"))\n",
    "df_001, df_005, df_01 = (df.loc[a] for a in df.index.unique(0))\n",
    "display(Markdown(\"For example $\\\\alpha$=0.05 `df_005`\"))\n",
    "display(df_005)\n",
    "display(Markdown(f\"For example: q($\\\\nu$=5, $\\\\alpha$=0.05, *l*=6) = `df_005.loc[5., 6]` = {df_005.loc[5., 6]}\"))"
   ]
  },
  {
   "cell_type": "code",
   "execution_count": null,
   "id": "d3f31eca",
   "metadata": {},
   "outputs": [],
   "source": [
    "display(Markdown(f\"Domain of the table:\\\n",
    "    \\n* $\\\\nu$: {list(int(x) for x in df.index.unique(1).values[:-1])}\\\n",
    "    \\n* $\\\\alpha$: {df.index.unique(0).values}\\\n",
    "    \\n* l: {df.columns.values}\"))"
   ]
  },
  {
   "cell_type": "markdown",
   "id": "372a6ce7",
   "metadata": {},
   "source": [
    "# 2. Interpolation of intermediate values"
   ]
  },
  {
   "cell_type": "code",
   "execution_count": null,
   "id": "c5af4722",
   "metadata": {},
   "outputs": [],
   "source": [
    "# Test\n",
    "assert dunnetts_q_value(5, 0.05, 6) == 3.62"
   ]
  },
  {
   "cell_type": "markdown",
   "id": "dad1af31",
   "metadata": {},
   "source": [
    "# 3. Usage example\n",
    "\n",
    "src: https://www.statology.org/dunnetts-test-r/\n",
    "\n",
    "Suppose a teacher wants to know whether or not two new studying techniques have the potential to increase exam scores for her students. To test this, she randomly splits her class of 30 students into the following three groups:\n",
    "\n",
    "* Control Group: 10 students\n",
    "* New Study technique 1: 10 students\n",
    "* New Study Technique 2: 10 students\n",
    "\n",
    "After one week of using their assigned study technique, each student takes the same exam."
   ]
  },
  {
   "cell_type": "code",
   "execution_count": null,
   "id": "9548b1b7",
   "metadata": {},
   "outputs": [],
   "source": [
    "data = {\"control\": [76, 77, 77, 81, 82, 82, 83, 84, 85, 89], \n",
    "        \"new_1\": [81, 82, 83, 83, 83, 84, 87, 90, 92, 93],\n",
    "        \"new_2\": [77, 78, 79, 88, 89, 90, 91, 95, 95, 98]}\n",
    "\n",
    "df = pd.concat([pd.Series(v, name=k) for k,v in data.items()], axis=1)\n",
    "display(df)\n",
    "agg = df.agg(['count', np.mean, np.std])  # type: ignore\n",
    "display(agg)"
   ]
  },
  {
   "cell_type": "code",
   "execution_count": null,
   "id": "d70377f1",
   "metadata": {},
   "outputs": [],
   "source": [
    "plt.style.use('ggplot')\n",
    "sns.boxplot(data=df)"
   ]
  },
  {
   "cell_type": "markdown",
   "id": "081f2966",
   "metadata": {},
   "source": [
    "\\* The first step is to test the hypothesis that there are statistical differences in all groups."
   ]
  },
  {
   "cell_type": "code",
   "execution_count": null,
   "id": "8378ec5f",
   "metadata": {},
   "outputs": [],
   "source": [
    "f_test(*agg.values)"
   ]
  },
  {
   "cell_type": "code",
   "execution_count": null,
   "id": "72735266",
   "metadata": {},
   "outputs": [],
   "source": [
    "dunnetts_test(*agg.values, names=list(df.columns), ctrl_group=0)"
   ]
  },
  {
   "cell_type": "markdown",
   "id": "53ee6405",
   "metadata": {},
   "source": [
    "* The control group and the first group have no statistical differences.\n",
    "* The control group and the second group probably have statistical differences."
   ]
  }
 ],
 "metadata": {},
 "nbformat": 4,
 "nbformat_minor": 5
}
