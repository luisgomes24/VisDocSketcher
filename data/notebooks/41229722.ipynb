{
 "cells": [
  {
   "cell_type": "code",
   "execution_count": null,
   "id": "5c805b92",
   "metadata": {},
   "outputs": [],
   "source": [
    "import pandas as pd\n",
    "import matplotlib.pyplot as plt\n",
    "import seaborn as sns\n",
    "from sklearn.preprocessing import LabelEncoder, OneHotEncoder\n",
    "from sklearn.preprocessing import StandardScaler\n",
    "from sklearn.model_selection import train_test_split"
   ]
  },
  {
   "cell_type": "code",
   "execution_count": null,
   "id": "025571cd",
   "metadata": {},
   "outputs": [],
   "source": [
    "carPrice_dataset = pd.read_csv('/kaggle/input/vehicle-dataset-from-cardekho/car data.csv')\n",
    "\n",
    "carPrice_dataset.head()"
   ]
  },
  {
   "cell_type": "code",
   "execution_count": null,
   "id": "74805774",
   "metadata": {},
   "outputs": [],
   "source": [
    "carPrice_dataset.info()"
   ]
  },
  {
   "cell_type": "code",
   "execution_count": null,
   "id": "b4f04fd4",
   "metadata": {},
   "outputs": [],
   "source": [
    "carPrice_dataset.describe(include= 'all')"
   ]
  },
  {
   "cell_type": "code",
   "execution_count": null,
   "id": "03b38537",
   "metadata": {},
   "outputs": [],
   "source": [
    "carPrice_dataset['Car_Name'].sample(10)"
   ]
  },
  {
   "cell_type": "code",
   "execution_count": null,
   "id": "2a362840",
   "metadata": {},
   "outputs": [],
   "source": [
    "carPrice_dataset.drop('Car_Name', inplace = True, axis = 1)"
   ]
  },
  {
   "cell_type": "code",
   "execution_count": null,
   "id": "faddab0e",
   "metadata": {},
   "outputs": [],
   "source": [
    "carPrice_dataset['Owner'] = carPrice_dataset['Owner'].astype('object')"
   ]
  },
  {
   "cell_type": "code",
   "execution_count": null,
   "id": "3c215138",
   "metadata": {},
   "outputs": [],
   "source": [
    "carPrice_dataset['Owner'].value_counts()"
   ]
  },
  {
   "cell_type": "code",
   "execution_count": null,
   "id": "6f4a3686",
   "metadata": {},
   "outputs": [],
   "source": [
    "def transform_year(x):\n",
    "        if x < 2012:\n",
    "            return \"Old\"\n",
    "        elif x < 2016:\n",
    "            return \"moderate\"\n",
    "        return \"new\"\n",
    "\n",
    "carPrice_dataset['year_cat'] = carPrice_dataset['Year'].apply(transform_year).astype('object')"
   ]
  },
  {
   "cell_type": "code",
   "execution_count": null,
   "id": "b66c8c00",
   "metadata": {},
   "outputs": [],
   "source": [
    "fig, axs = plt.subplots(nrows = 2, ncols=2)\n",
    "\n",
    "sns.countplot(x='Fuel_Type', data=carPrice_dataset, ax = axs[0,0])\n",
    "sns.countplot(x='Seller_Type', data=carPrice_dataset, ax = axs[0,1])\n",
    "sns.countplot(x='year_cat', data=carPrice_dataset, ax = axs[1,0])\n",
    "sns.countplot(x='Transmission', data=carPrice_dataset, ax = axs[1,1])"
   ]
  },
  {
   "cell_type": "code",
   "execution_count": null,
   "id": "7a773126",
   "metadata": {},
   "outputs": [],
   "source": [
    "carPrice_dataset.drop('Year', inplace = True, axis = 1)"
   ]
  },
  {
   "cell_type": "code",
   "execution_count": null,
   "id": "914d52b2",
   "metadata": {},
   "outputs": [],
   "source": [
    "categorical_cols = [col for col in carPrice_dataset.columns if carPrice_dataset[col].dtype == 'object']\n",
    "\n",
    "categorical_cols"
   ]
  },
  {
   "cell_type": "code",
   "execution_count": null,
   "id": "d53e11e2",
   "metadata": {},
   "outputs": [],
   "source": [
    "numerical_cols = [col for col in carPrice_dataset.columns if carPrice_dataset[col].dtype != 'object']\n",
    "\n",
    "numerical_cols"
   ]
  },
  {
   "cell_type": "code",
   "execution_count": null,
   "id": "fa409c93",
   "metadata": {},
   "outputs": [],
   "source": [
    "X = carPrice_dataset.drop('Selling_Price', axis = 1)\n",
    "y = carPrice_dataset['Selling_Price']\n",
    "\n",
    "X.head()"
   ]
  },
  {
   "cell_type": "code",
   "execution_count": null,
   "id": "0828fee9",
   "metadata": {},
   "outputs": [],
   "source": [
    "x_cat = pd.get_dummies(X[categorical_cols])\n",
    "\n",
    "X = pd.concat([X.drop(categorical_cols, axis = 1), x_cat], axis = 1)"
   ]
  },
  {
   "cell_type": "code",
   "execution_count": null,
   "id": "4e7b70a9",
   "metadata": {},
   "outputs": [],
   "source": [
    "X.head()"
   ]
  },
  {
   "cell_type": "code",
   "execution_count": null,
   "id": "c3a62d48",
   "metadata": {},
   "outputs": [],
   "source": [
    "x_train, x_test, y_train, y_test = train_test_split(X, y, test_size = 0.1, random_state = 0)"
   ]
  },
  {
   "cell_type": "code",
   "execution_count": null,
   "id": "ae3304d6",
   "metadata": {},
   "outputs": [],
   "source": [
    "sc = StandardScaler()\n",
    "x_train = sc.fit_transform(x_train)\n",
    "x_test = sc.transform(x_test)"
   ]
  },
  {
   "cell_type": "code",
   "execution_count": null,
   "id": "927c7ec3",
   "metadata": {},
   "outputs": [],
   "source": [
    "from sklearn.linear_model import RANSACRegressor, ARDRegression, HuberRegressor, LinearRegression,SGDRegressor\n",
    "from sklearn.svm import SVR\n",
    "from sklearn.tree import DecisionTreeRegressor\n",
    "from sklearn.ensemble import AdaBoostRegressor, GradientBoostingRegressor, BaggingRegressor, RandomForestRegressor\n",
    "\n",
    "models = [\n",
    "    RandomForestRegressor(),\n",
    "    RANSACRegressor(),\n",
    "    HuberRegressor(),\n",
    "    LinearRegression(),\n",
    "    SGDRegressor(),\n",
    "    SVR(),\n",
    "    DecisionTreeRegressor(),\n",
    "    AdaBoostRegressor(),\n",
    "    GradientBoostingRegressor(),\n",
    "    BaggingRegressor(),\n",
    "    RandomForestRegressor(n_estimators = 10),\n",
    "]"
   ]
  },
  {
   "cell_type": "code",
   "execution_count": null,
   "id": "52ac2012",
   "metadata": {},
   "outputs": [],
   "source": [
    "from sklearn.metrics import mean_squared_error, mean_absolute_error\n",
    "\n",
    "for regressor in models:\n",
    "    print(\"\\n********************************************\")\n",
    "    print(f'Regressor: {regressor.__class__.__name__}')\n",
    "    \n",
    "    regressor.fit(x_train, y_train)\n",
    "    \n",
    "    pred = regressor.predict(x_test)\n",
    "    mse, mae = mean_squared_error(pred, y_test), mean_absolute_error(pred, y_test)\n",
    "    print(f'Mean Squared Error: {mse}\\tMean Absolute Error: {mae}\\n')"
   ]
  }
 ],
 "metadata": {},
 "nbformat": 4,
 "nbformat_minor": 5
}
