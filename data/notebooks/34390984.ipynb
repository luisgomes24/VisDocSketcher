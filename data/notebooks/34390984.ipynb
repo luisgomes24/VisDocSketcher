{
 "cells": [
  {
   "cell_type": "markdown",
   "id": "899060ac",
   "metadata": {},
   "source": [
    "# Multivariate Linear Regression\n",
    "\n",
    "Multivariate linear regression is a statistical method used to model the relationship between multiple independent variables and a single dependent variable. It is an extension of simple linear regression, which only involves one independent variable. In multivariate linear regression, the goal is to find the equation that best predicts the value of the dependent variable based on the values of the independent variables. The equation is in the form of Y = a + b1X1 + b2X2 + ... + bnXn, where Y is the dependent variable, X1, X2, ..., Xn are the independent variables, a is the constant term, and b1, b2, ..., bn are the coefficients that represent the relationship between each independent variable and the dependent variable."
   ]
  },
  {
   "cell_type": "markdown",
   "id": "708cd1eb",
   "metadata": {},
   "source": [
    "# What we do in this?\n",
    "\n",
    "We accurately predict charges cost?\n",
    "\n",
    "Columns present in dataset:\n",
    "\n",
    "`age`: age of primary beneficiary\n",
    "\n",
    "`sex`: insurance contractor gender, female, male\n",
    "\n",
    "`bmi`: Body mass index, providing an understanding of body, weights that are relatively high or low relative to height, objective index of body weight (kg / m ^ 2) using the ratio of height to weight, ideally 18.5 to 24.9.\n",
    "\n",
    "`children`: Number of children covered by health insurance / Number of dependents\n",
    "\n",
    "`smoker`: Smoking\n",
    "\n",
    "`region`: the beneficiary's residential area in the US, northeast, southeast, southwest, northwest.\n",
    "\n",
    "`charges`: Individual medical costs billed by health insurance"
   ]
  },
  {
   "cell_type": "markdown",
   "id": "8ba9582e",
   "metadata": {},
   "source": [
    "# Importing Important libreries"
   ]
  },
  {
   "cell_type": "code",
   "execution_count": null,
   "id": "738004ed",
   "metadata": {},
   "outputs": [],
   "source": [
    "import pandas as pd\n",
    "import numpy as np\n",
    "\n",
    "from sklearn.linear_model import LinearRegression\n",
    "from sklearn.model_selection import train_test_split\n",
    "from sklearn.metrics import mean_squared_error\n",
    "\n",
    "\n",
    "import matplotlib.pyplot as plt"
   ]
  },
  {
   "cell_type": "markdown",
   "id": "47c83952",
   "metadata": {},
   "source": [
    "# Reading files\n",
    "Below code uses the `read_csv()` function from the pandas library to read in the medical insurence data from a csv file and assigns the resulting dataframe to a variable named `df`."
   ]
  },
  {
   "cell_type": "code",
   "execution_count": null,
   "id": "a0bc698b",
   "metadata": {},
   "outputs": [],
   "source": [
    "df = pd.read_csv('/kaggle/input/insurance/insurance.csv')\n",
    "df.head()"
   ]
  },
  {
   "cell_type": "markdown",
   "id": "d1dc4f41",
   "metadata": {},
   "source": [
    "# Feature engineering\n",
    "Next, we applies one-hot encoding to the `sex`, `region`, and `smoker` columns of the dataframe and assigns the resulting dataframe to a new variable `df_encoded`."
   ]
  },
  {
   "cell_type": "code",
   "execution_count": null,
   "id": "5381aacf",
   "metadata": {},
   "outputs": [],
   "source": [
    "# Apply one-hot encoding to \"color\" column\n",
    "df_encoded = pd.get_dummies(df, columns=['sex', 'region', 'smoker'])\n",
    "df_encoded"
   ]
  },
  {
   "cell_type": "markdown",
   "id": "3c754cd5",
   "metadata": {},
   "source": [
    "nan"
   ]
  },
  {
   "cell_type": "code",
   "execution_count": null,
   "id": "31ef4e56",
   "metadata": {},
   "outputs": [],
   "source": [
    "df_encoded.columns"
   ]
  },
  {
   "cell_type": "markdown",
   "id": "50acd029",
   "metadata": {},
   "source": [
    "# Feature selection\n",
    "Next, the code selects the relevant columns of the encoded dataframe to use as independent variables (X) and the dependent variable (y) for the linear regression model."
   ]
  },
  {
   "cell_type": "code",
   "execution_count": null,
   "id": "3a5f8c73",
   "metadata": {},
   "outputs": [],
   "source": [
    "X = df_encoded[['age', 'bmi', 'children', 'sex_female', 'sex_male',\n",
    "       'region_northeast', 'region_northwest', 'region_southeast',\n",
    "       'region_southwest', 'smoker_no', 'smoker_yes']]\n",
    "y = df_encoded['charges']"
   ]
  },
  {
   "cell_type": "markdown",
   "id": "492fe669",
   "metadata": {},
   "source": [
    "# Preparing model\n",
    "\n",
    "Below code splits the data into training and testing sets using the train_test_split function, fits the linear regression model using the training data and prints the MSE of the model."
   ]
  },
  {
   "cell_type": "code",
   "execution_count": null,
   "id": "a3f45abe",
   "metadata": {},
   "outputs": [],
   "source": [
    "# split the data into training and test sets\n",
    "X_train, X_test, y_train, y_test = train_test_split(X, y, test_size=0.2)"
   ]
  },
  {
   "cell_type": "code",
   "execution_count": null,
   "id": "e19c063d",
   "metadata": {},
   "outputs": [],
   "source": [
    "# create a linear regression model\n",
    "model = LinearRegression()"
   ]
  },
  {
   "cell_type": "code",
   "execution_count": null,
   "id": "6b87479b",
   "metadata": {},
   "outputs": [],
   "source": [
    "# train the model on the training data\n",
    "train_loss = []\n",
    "test_loss = []\n",
    "\n",
    "# train the model\n",
    "for i in range(100):\n",
    "    model.fit(X_train, y_train)\n",
    "    train_loss.append(mean_squared_error(y_train, model.predict(X_train)))\n",
    "    test_loss.append(mean_squared_error(y_test, model.predict(X_test)))"
   ]
  },
  {
   "cell_type": "code",
   "execution_count": null,
   "id": "ee102240",
   "metadata": {},
   "outputs": [],
   "source": [
    "train_score = model.score(X_train, y_train)\n",
    "test_score = model.score(X_test, y_test)"
   ]
  },
  {
   "cell_type": "code",
   "execution_count": null,
   "id": "9b0e8a78",
   "metadata": {},
   "outputs": [],
   "source": [
    "# predict the values for the training and test sets\n",
    "y_train_pred = model.predict(X_train)\n",
    "y_test_pred = model.predict(X_test)"
   ]
  },
  {
   "cell_type": "code",
   "execution_count": null,
   "id": "e5b2101f",
   "metadata": {},
   "outputs": [],
   "source": [
    "# Plot the prediction line\n",
    "plt.scatter(y_train, y_train_pred,label='train')\n",
    "plt.scatter(y_test, y_test_pred,label='test')\n",
    "plt.legend()\n",
    "plt.xlabel(\"Actual values\")\n",
    "plt.ylabel(\"Predicted values\")\n",
    "plt.title(\"Prediction line\")\n",
    "plt.show()"
   ]
  },
  {
   "cell_type": "code",
   "execution_count": null,
   "id": "4e7d7006",
   "metadata": {},
   "outputs": [],
   "source": [
    "# Plot the residuals\n",
    "plt.scatter(y_train_pred, y_train_pred - y_train,label='train')\n",
    "plt.scatter(y_test_pred, y_test_pred - y_test,label='test')\n",
    "plt.legend()\n",
    "plt.xlabel(\"Predicted values\")\n",
    "plt.ylabel(\"Residuals\")\n",
    "plt.title(\"Residual Plot\")\n",
    "plt.show()"
   ]
  },
  {
   "cell_type": "code",
   "execution_count": null,
   "id": "1755c036",
   "metadata": {},
   "outputs": [],
   "source": [
    "# Plot the loss\n",
    "plt.plot(train_loss, label='train')\n",
    "plt.plot(test_loss, label='test')\n",
    "plt.legend()\n",
    "plt.xlabel(\"Iterations\")\n",
    "plt.ylabel(\"Loss\")\n",
    "plt.title(\"Loss Plot\")\n",
    "plt.show()"
   ]
  },
  {
   "cell_type": "markdown",
   "id": "06b82d9f",
   "metadata": {},
   "source": [
    "Overall, this code is performing a linear regression analysis on an insurance dataset. It begins by importing the necessary libraries for the analysis, then reads in the data from a csv file using pandas, applies one-hot encoding to certain columns, selects the relevant columns to use in the model, and finally splits the data into training and testing sets and fits a linear regression model to the training data. The last line prints the MSE of the model as a measure of performance."
   ]
  }
 ],
 "metadata": {},
 "nbformat": 4,
 "nbformat_minor": 5
}
