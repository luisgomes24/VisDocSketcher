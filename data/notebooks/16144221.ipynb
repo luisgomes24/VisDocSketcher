{
 "cells": [
  {
   "cell_type": "code",
   "execution_count": null,
   "id": "9ecc4137",
   "metadata": {},
   "outputs": [],
   "source": [
    "import numpy \n",
    "import pandas\n",
    "import datetime\n",
    "import random\n",
    "import calendar\n",
    "from matplotlib import pyplot as plt\n",
    "import matplotlib.ticker as ticker\n",
    "from matplotlib.animation import FuncAnimation\n",
    "from matplotlib.widgets import MultiCursor\n",
    "from IPython.display import HTML\n",
    "from matplotlib.widgets import Slider, RadioButtons\n",
    "from wordcloud import WordCloud, STOPWORDS, ImageColorGenerator\n",
    "import matplotlib\n",
    "matplotlib.rcParams['animation.embed_limit'] = 2**128\n",
    "matplotlib.rcParams['animation.html'] = 'jshtml'\n",
    "pandas.options.display.max_columns = 200"
   ]
  },
  {
   "cell_type": "code",
   "execution_count": null,
   "id": "fb22de67",
   "metadata": {},
   "outputs": [],
   "source": [
    "!pip install ipympl\n",
    "!jupyter nbextension enable --py widgetsnbextension"
   ]
  },
  {
   "cell_type": "markdown",
   "id": "954c7b6a",
   "metadata": {},
   "source": [
    "# Reading, validating & processing data"
   ]
  },
  {
   "cell_type": "code",
   "execution_count": null,
   "id": "a29fe222",
   "metadata": {},
   "outputs": [],
   "source": [
    "dateparser = lambda x: pandas.to_datetime(datetime.datetime.strptime(x,\"%a %b %d %H:%M:%S %Y %z\"), utc=True)\n",
    "p = 0.01 # number of rows in full file = 3240997\n",
    "df = pandas.read_csv('/kaggle/input/github-commit-messages-dataset/full.csv', \n",
    "                     parse_dates=['date'], \n",
    "                     date_parser=dateparser, \n",
    "                     usecols=['author', 'date', 'repo', 'commit', 'message'],\n",
    "                     # nrows=100,\n",
    "                     skiprows=lambda i: i > 0 and random.random() > p\n",
    "                    )\n",
    "\n",
    "color = {}\n",
    "for repo in set(df.repo):\n",
    "    color[repo] = '#' + ''.join([random.choice('23456789ABCD') for j in range(6)])"
   ]
  },
  {
   "cell_type": "code",
   "execution_count": null,
   "id": "5cc1bc2c",
   "metadata": {},
   "outputs": [],
   "source": [
    "df.dropna(subset=['message'], inplace=True)\n",
    "assert len(df.dropna()) == len(df)\n",
    "assert len(set(df.commit)) == len(df)\n",
    "assert df.message.apply(lambda x: bool(x)).sum() == len(df)"
   ]
  },
  {
   "cell_type": "code",
   "execution_count": null,
   "id": "c7709a1e",
   "metadata": {},
   "outputs": [],
   "source": [
    "processed_df = df.copy()\n",
    "processed_df['year'] = processed_df.date.dt.year\n",
    "processed_df['month'] = processed_df.date.dt.month\n",
    "processed_df.drop(labels=['author', 'commit'], axis=1, inplace=True)\n",
    "\n",
    "processed_df = processed_df.groupby(['repo', 'year', 'month']).date.count().reset_index()\\\n",
    "    .sort_values(['repo', 'year', 'month'])\n",
    "processed_df = processed_df.groupby(['repo', 'year', 'month']).sum()\n",
    "\n",
    "min_date = df.date.min()\n",
    "max_date = df.date.max()\n",
    "\n",
    "for repo in processed_df.index.get_level_values('repo').unique():\n",
    "    for year in range(processed_df.index.get_level_values('year').min(), \n",
    "                      processed_df.index.get_level_values('year').max() + 1):\n",
    "        for month in range(1, 13):\n",
    "            if year == max_date.year and month > max_date.month:\n",
    "                continue\n",
    "            if year == min_date.year and month < min_date.month:\n",
    "                continue\n",
    "            try:\n",
    "                processed_df.loc[(repo, year, month)]\n",
    "            except KeyError:\n",
    "                processed_df.loc[(repo, year, month)] = 0\n",
    "\n",
    "processed_df = processed_df.reset_index().sort_values(['repo', 'year', 'month'])\n",
    "processed_df['year_month'] = processed_df.apply(lambda row: str(row.year) + ' ' + str(calendar.month_name[row.month][:3]), axis=1)\n",
    "repos = processed_df.repo.unique().tolist()\n",
    "\n",
    "year_months = processed_df[['year', 'month', 'year_month']].drop_duplicates(['year', 'month']).sort_values(['year', 'month'])\\\n",
    "    .year_month.tolist()"
   ]
  },
  {
   "cell_type": "markdown",
   "id": "136b3b7b",
   "metadata": {},
   "source": [
    "# Total number of commits vs. time per repo (Animation)"
   ]
  },
  {
   "cell_type": "code",
   "execution_count": null,
   "id": "ea6e0eb0",
   "metadata": {},
   "outputs": [],
   "source": [
    "%matplotlib inline\n",
    "total_df = processed_df.groupby(['repo', 'year', 'month']).sum()\n",
    "total_df = total_df.groupby(level=0).cumsum().reset_index()\n",
    "total_df['year_month'] = total_df.apply(lambda row: str(row.year) + ' ' + str(calendar.month_name[row.month][:3]), axis=1)\n",
    "time_repo_wise_df = total_df.groupby(['year_month', 'repo']).date.sum()\n",
    "\n",
    "del total_df\n",
    "max_number = 6\n",
    "\n",
    "def get_month_plot(year_month):\n",
    "    year_month_df = time_repo_wise_df[year_month].sort_values(ascending=False).copy()[:max_number]\n",
    "    monthly_values = list(zip(year_month_df.index, year_month_df))\n",
    "    monthly_values.reverse()\n",
    "    ax.clear()\n",
    "    ax.barh([m[0] for m in monthly_values], [m[1] for m in monthly_values], color=[color[m[0]] for m in monthly_values])\n",
    "    ax.set_yticks([])\n",
    "    dx = year_month_df.max() / 200\n",
    "    for i, (name, value) in enumerate(monthly_values):\n",
    "        ax.text(value+dx, i, f'{value:,.0f}',  size=14, ha='left',  va='center')\n",
    "        ax.text(value-dx, i, name, weight=600, size=14, ha='right', va='bottom')\n",
    "    ax.text(1, 0.4, year_month, transform=ax.transAxes, color='#777777', size=46, ha='right', weight=800)\n",
    "    ax.xaxis.set_major_formatter(ticker.StrMethodFormatter('{x:,.0f}'))\n",
    "    ax.xaxis.set_ticks_position('top')\n",
    "    ax.set_title('Total number of commits till {} - Top {}'.format(year_month, max_number))\n",
    "    ax.grid(which='major', axis='x', linestyle='-')\n",
    "    plt.box(False)\n",
    "\n",
    "\n",
    "fig, ax = plt.subplots(figsize=(15, 8))\n",
    "anim = FuncAnimation(fig=fig, func=get_month_plot, frames=year_months)\n",
    "anim"
   ]
  },
  {
   "cell_type": "markdown",
   "id": "ce87c995",
   "metadata": {},
   "source": [
    "# Number of commits vs. time per repo"
   ]
  },
  {
   "cell_type": "code",
   "execution_count": null,
   "id": "148e290b",
   "metadata": {},
   "outputs": [],
   "source": [
    "%matplotlib inline\n",
    "year_df = processed_df.groupby(['repo', 'year']).date.sum().reset_index().sort_values(['repo', 'year'])\n",
    "\n",
    "def get_repo_time_plot(repo):\n",
    "    repo_df = year_df[year_df.repo == repo]\n",
    "    ax2.clear()\n",
    "    line, = ax2.plot(repo_df.year, repo_df.date, label=repo, figure=fig2, color=color[repo])\n",
    "    ax2.set_xlim(repo_df.year.min() - 1, repo_df.year.max() + 1)\n",
    "    ax2.set_ylim(repo_df.date.min() - 1, repo_df.date.max() + 1)\n",
    "    ax2.set_title(repo)\n",
    "    ax2.set_xlabel('Year', size=20)\n",
    "    ax2.set_ylabel('Commits', size=20)\n",
    "    ax2.set_title(repo, size=20)\n",
    "    plt.subplots_adjust(left=0.25, bottom=0.25)\n",
    "    fig2.canvas.draw_idle()\n",
    "\n",
    "\n",
    "fig2, ax2 = plt.subplots(figsize=(16, 8))\n",
    "anim4 = FuncAnimation(fig=fig2, func=get_repo_time_plot, frames=repos)\n",
    "anim4"
   ]
  },
  {
   "cell_type": "code",
   "execution_count": null,
   "id": "94358c74",
   "metadata": {},
   "outputs": [],
   "source": [
    "%matplotlib inline\n",
    "fig4 = plt.figure(figsize=(20, 10))\n",
    "ax4 = fig4.add_axes([0.1, 0.1, 0.5, 0.75])\n",
    "\n",
    "year_df = processed_df.groupby(['repo', 'year']).date.sum().reset_index().sort_values(['repo', 'year'])\n",
    "\n",
    "def get_all_year(year):\n",
    "    ax4.clear()\n",
    "    ax4.xaxis.set_major_formatter(ticker.StrMethodFormatter('{x:.0f}'))\n",
    "    for repo in repos:\n",
    "        repo_df = year_df[(year_df.repo == repo) & (year_df.year <= year)]\n",
    "        line, = ax4.plot(repo_df.year, repo_df.date, label=repo, figure=fig4, color=color[repo])\n",
    "    ax4.legend(bbox_to_anchor=(1.05, 1), loc=2, borderaxespad=0.)\n",
    "    ax4.set_xlabel('Year', size=20)\n",
    "    ax4.set_ylabel('Number of commits', size=20)\n",
    "    ax4.set_title('Number of commits per year', size=20)\n",
    "\n",
    "anim2 = FuncAnimation(fig=fig4, func=get_all_year, frames=range(processed_df.year.min(), processed_df.year.max() + 1))\n",
    "anim2"
   ]
  },
  {
   "cell_type": "markdown",
   "id": "699e1b15",
   "metadata": {},
   "source": [
    "# Number of commits per repo"
   ]
  },
  {
   "cell_type": "code",
   "execution_count": null,
   "id": "f0b76a0d",
   "metadata": {},
   "outputs": [],
   "source": [
    "s = processed_df.groupby('repo').date.sum().sort_values(ascending=False)\n",
    "pie_fig, pie_ax = plt.subplots(figsize=(12, 8))\n",
    "pie_ax.pie(s.tolist(), labels=s.index.tolist(), autopct='%1.1f%%', startangle=90)\n",
    "pie_ax.axis('equal')\n",
    "plt.show()"
   ]
  },
  {
   "cell_type": "markdown",
   "id": "adb78c30",
   "metadata": {},
   "source": [
    "# Number of unique users vs. Number of commits across repos"
   ]
  },
  {
   "cell_type": "code",
   "execution_count": null,
   "id": "da00e029",
   "metadata": {},
   "outputs": [],
   "source": [
    "user_commit_df = df.groupby('repo').nunique().sort_values('commit', ascending=False)[['commit', 'author']]"
   ]
  },
  {
   "cell_type": "code",
   "execution_count": null,
   "id": "6cff25ab",
   "metadata": {},
   "outputs": [],
   "source": [
    "scatter_fig, scatter_axis = plt.subplots(figsize=(10, 5))\n",
    "scatter_axis.scatter(user_commit_df.commit, user_commit_df.author, c=[color[repo] for repo in user_commit_df.index])\n",
    "scatter_axis.set_xlabel('Number of commits', size=20)\n",
    "scatter_axis.set_ylabel('Number of users', size=20)\n",
    "scatter_axis.set_title('Number of unique users vs. Number of commits', size=20)\n",
    "plt.show()"
   ]
  },
  {
   "cell_type": "markdown",
   "id": "ae7b24ec",
   "metadata": {},
   "source": [
    "### One single point i.e., torvalds/linux is causing a huge shift, ignoring that we can see the scatter plot again as follows"
   ]
  },
  {
   "cell_type": "code",
   "execution_count": null,
   "id": "a59b9c69",
   "metadata": {},
   "outputs": [],
   "source": [
    "user_commit_df2 = user_commit_df.drop(labels=['torvalds/linux'])\n",
    "scatter_fig2, scatter_axis2 = plt.subplots(figsize=(10, 5))\n",
    "scatter_axis2.scatter(user_commit_df2.commit, user_commit_df2.author, c=[color[repo] for repo in user_commit_df2.index])\n",
    "scatter_axis2.set_xlabel('Number of commits', size=20)\n",
    "scatter_axis2.set_ylabel('Number of users', size=20)\n",
    "scatter_axis2.set_title('Number of unique users vs. Number of commits without torvalds/linux', size=20)\n",
    "plt.show()"
   ]
  },
  {
   "cell_type": "markdown",
   "id": "5b26f56c",
   "metadata": {},
   "source": [
    "# Users contributing to more than one repo"
   ]
  },
  {
   "cell_type": "code",
   "execution_count": null,
   "id": "0d3ef0d3",
   "metadata": {},
   "outputs": [],
   "source": [
    "heatmap_df = pandas.DataFrame(index=repos, columns=repos)\n",
    "for i in range(len(repos)):\n",
    "    for j in range(len(repos)):\n",
    "        k = df[df.repo.isin([repos[i], repos[j]])].groupby('author').repo.nunique()\n",
    "        if i != j:\n",
    "            heatmap_df.iloc[i, j] = set(k[k>1].index)\n",
    "        else:\n",
    "            heatmap_df.iloc[i, j] = set(k.index)\n",
    "\n",
    "for i in range(len(repos)):\n",
    "    all_authors = heatmap_df.iloc[i].tolist()\n",
    "    del all_authors[i]\n",
    "    mix_authors = set(set().union(*all_authors))\n",
    "    heatmap_df.iloc[i, i] = heatmap_df.iloc[i, i] - mix_authors\n",
    "\n",
    "heatmap_df = heatmap_df.applymap(len)\n",
    "heatmap_df"
   ]
  },
  {
   "cell_type": "markdown",
   "id": "62807626",
   "metadata": {},
   "source": [
    "### Inference: Very rarely users contribute across projects"
   ]
  },
  {
   "cell_type": "markdown",
   "id": "b2122163",
   "metadata": {},
   "source": [
    "# WordCloud of various commit messages"
   ]
  },
  {
   "cell_type": "code",
   "execution_count": null,
   "id": "bcdd21f5",
   "metadata": {},
   "outputs": [],
   "source": [
    "%matplotlib inline\n",
    "text_df = df.groupby('repo').message.apply(lambda x: ''.join(x).lower())\n",
    "stopwords = set(STOPWORDS)\n",
    "stopwords.update(['pr', 'close', 'commit', 'spark'])\n",
    "\n",
    "def get_wordcloud(repo):\n",
    "    cloud_ax.clear()\n",
    "    text = text_df.loc[repo].lower()\n",
    "    wordcloud = WordCloud(stopwords=stopwords).generate(text)\n",
    "    cloud_ax.imshow(wordcloud, interpolation='bilinear')\n",
    "    cloud_ax.axis(\"off\")\n",
    "    cloud_ax.set_title(repo, size=20)\n",
    "    plt.subplots_adjust(left=0.25, bottom=0.25)\n",
    "    cloud_fig.canvas.draw_idle()\n",
    "\n",
    "\n",
    "cloud_fig, cloud_ax = plt.subplots(figsize=(16, 8))\n",
    "cloud_anim = FuncAnimation(fig=cloud_fig, func=get_wordcloud, frames=repos)\n",
    "cloud_anim"
   ]
  },
  {
   "cell_type": "code",
   "execution_count": null,
   "id": "f838abe3",
   "metadata": {},
   "outputs": [],
   "source": [
    "nan"
   ]
  }
 ],
 "metadata": {},
 "nbformat": 4,
 "nbformat_minor": 5
}
