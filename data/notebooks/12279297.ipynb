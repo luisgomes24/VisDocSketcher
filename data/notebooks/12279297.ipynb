{
 "cells": [
  {
   "cell_type": "code",
   "execution_count": null,
   "id": "584f9777",
   "metadata": {},
   "outputs": [],
   "source": [
    "# This Python 3 environment comes with many helpful analytics libraries installed\n",
    "# It is defined by the kaggle/python Docker image: https://github.com/kaggle/docker-python\n",
    "# For example, here's several helpful packages to load\n",
    "\n",
    "import numpy as np # linear algebra\n",
    "import matplotlib.pyplot as plt\n",
    "import seaborn as sns\n",
    "import pandas as pd # data processing, CSV file I/O (e.g. pd.read_csv)\n",
    "\n",
    "# Input data files are available in the read-only \"../input/\" directory\n",
    "# For example, running this (by clicking run or pressing Shift+Enter) will list all files under the input directory\n",
    "\n",
    "import os\n",
    "for dirname, _, filenames in os.walk('/kaggle/input'):\n",
    "    for filename in filenames:\n",
    "        print(os.path.join(dirname, filename))\n",
    "\n",
    "# You can write up to 5GB to the current directory (/kaggle/working/) that gets preserved as output when you create a version using \"Save & Run All\" \n",
    "# You can also write temporary files to /kaggle/temp/, but they won't be saved outside of the current session"
   ]
  },
  {
   "cell_type": "code",
   "execution_count": null,
   "id": "c4c3aad1",
   "metadata": {},
   "outputs": [],
   "source": [
    "# This Python 3 environment comes with many helpful analytics libraries installed\n",
    "# It is defined by the kaggle/python Docker image: https://github.com/kaggle/docker-python\n",
    "# For example, here's several helpful packages to load\n",
    "\n",
    "import numpy as np # linear algebra\n",
    "import matplotlib.pyplot as plt\n",
    "import seaborn as sns\n",
    "import pandas as pd # data processing, CSV file I/O (e.g. pd.read_csv)\n",
    "\n",
    "# Input data files are available in the read-only \"../input/\" directory\n",
    "# For example, running this (by clicking run or pressing Shift+Enter) will list all files under the input directory\n",
    "\n",
    "import os\n",
    "for dirname, _, filenames in os.walk('/kaggle/input'):\n",
    "    for filename in filenames:\n",
    "        print(os.path.join(dirname, filename))\n",
    "\n",
    "# You can write up to 5GB to the current directory (/kaggle/working/) that gets preserved as output when you create a version using \"Save & Run All\" \n",
    "# You can also write temporary files to /kaggle/temp/, but they won't be saved outside of the current session"
   ]
  },
  {
   "cell_type": "markdown",
   "id": "b667708a",
   "metadata": {},
   "source": [
    "RAPE CASES IN INDIA\n",
    "\n"
   ]
  },
  {
   "cell_type": "markdown",
   "id": "ad16e506",
   "metadata": {},
   "source": [
    "RAPE CASES IN INDIA\n",
    "\n"
   ]
  },
  {
   "cell_type": "code",
   "execution_count": null,
   "id": "36fac9c6",
   "metadata": {},
   "outputs": [],
   "source": [
    "df=pd.read_csv('../input/crime-in-india/20_Victims_of_rape.csv')\n",
    "df"
   ]
  },
  {
   "cell_type": "code",
   "execution_count": null,
   "id": "45931c5c",
   "metadata": {},
   "outputs": [],
   "source": [
    "df=pd.read_csv('../input/crime-in-india/20_Victims_of_rape.csv')\n",
    "df"
   ]
  },
  {
   "cell_type": "code",
   "execution_count": null,
   "id": "1c556ca5",
   "metadata": {},
   "outputs": [],
   "source": [
    "df.isna().sum()"
   ]
  },
  {
   "cell_type": "code",
   "execution_count": null,
   "id": "70b6b917",
   "metadata": {},
   "outputs": [],
   "source": [
    "df.isna().sum()"
   ]
  },
  {
   "cell_type": "code",
   "execution_count": null,
   "id": "c007e822",
   "metadata": {},
   "outputs": [],
   "source": [
    "df.describe"
   ]
  },
  {
   "cell_type": "code",
   "execution_count": null,
   "id": "b7c1c42f",
   "metadata": {},
   "outputs": [],
   "source": [
    "df.describe"
   ]
  },
  {
   "cell_type": "code",
   "execution_count": null,
   "id": "b8e97339",
   "metadata": {},
   "outputs": [],
   "source": [
    "df.dtypes"
   ]
  },
  {
   "cell_type": "code",
   "execution_count": null,
   "id": "1073ba2d",
   "metadata": {},
   "outputs": [],
   "source": [
    "df.dtypes"
   ]
  },
  {
   "cell_type": "code",
   "execution_count": null,
   "id": "8d8d2f3b",
   "metadata": {},
   "outputs": [],
   "source": [
    "df.hist(figsize=(10,10),edgecolor=\"k\")\n",
    "plt.tight_layout()\n",
    "plt.show()"
   ]
  },
  {
   "cell_type": "code",
   "execution_count": null,
   "id": "df3a6787",
   "metadata": {},
   "outputs": [],
   "source": [
    "df.hist(figsize=(10,10),edgecolor=\"k\")\n",
    "plt.tight_layout()\n",
    "plt.show()"
   ]
  },
  {
   "cell_type": "markdown",
   "id": "1e9431d9",
   "metadata": {},
   "source": [
    "Distribution of cases according to age "
   ]
  },
  {
   "cell_type": "markdown",
   "id": "c6f68990",
   "metadata": {},
   "source": [
    "Distribution of cases according to age "
   ]
  },
  {
   "cell_type": "code",
   "execution_count": null,
   "id": "8107efd3",
   "metadata": {},
   "outputs": [],
   "source": [
    "Victims_above_50 = df['Victims_Above_50_Yrs'].sum()\n",
    "Victims_30_to_50 = df['Victims_Between_30-50_Yrs'].sum()\n",
    "Victims_18_to_38 = df['Victims_Between_18-30_Yrs'].sum()\n",
    "Victims_14_to_18 = df['Victims_Between_14-18_Yrs'].sum()\n",
    "Victims_10_to_14 = df['Victims_Between_10-14_Yrs'].sum()\n",
    "Victims_upto_10 = df['Victims_Upto_10_Yrs'].sum()\n",
    "\n",
    "Age=['Victims_Above_50_Yrs','Victims_Between_30-50_Yrs','Victims_Between_18-30_Yrs','Victims_Between_14-18_Yrs','Victims_Between_10-14_Yrs',\n",
    "      'Victims_Upto_10_Yrs']\n",
    "SUM=[Victims_above_50,Victims_30_to_50,Victims_18_to_38,Victims_14_to_18,Victims_10_to_14,Victims_upto_10]\n",
    "\n",
    "fig1, ax1 = plt.subplots(figsize=(8,8))\n",
    "ax1.pie(SUM, labels=Age, autopct='%1.1f%%',\n",
    "        shadow=True, startangle=90)\n",
    "ax1.axis('equal')  # Equal aspect ratio ensures that pie is drawn as a circle.\n",
    "\n",
    "plt.show()"
   ]
  },
  {
   "cell_type": "code",
   "execution_count": null,
   "id": "e43a3c9b",
   "metadata": {},
   "outputs": [],
   "source": [
    "Victims_above_50 = df['Victims_Above_50_Yrs'].sum()\n",
    "Victims_30_to_50 = df['Victims_Between_30-50_Yrs'].sum()\n",
    "Victims_18_to_38 = df['Victims_Between_18-30_Yrs'].sum()\n",
    "Victims_14_to_18 = df['Victims_Between_14-18_Yrs'].sum()\n",
    "Victims_10_to_14 = df['Victims_Between_10-14_Yrs'].sum()\n",
    "Victims_upto_10 = df['Victims_Upto_10_Yrs'].sum()\n",
    "\n",
    "Age=['Victims_Above_50_Yrs','Victims_Between_30-50_Yrs','Victims_Between_18-30_Yrs','Victims_Between_14-18_Yrs','Victims_Between_10-14_Yrs',\n",
    "      'Victims_Upto_10_Yrs']\n",
    "SUM=[Victims_above_50,Victims_30_to_50,Victims_18_to_38,Victims_14_to_18,Victims_10_to_14,Victims_upto_10]\n",
    "\n",
    "fig1, ax1 = plt.subplots(figsize=(8,8))\n",
    "ax1.pie(SUM, labels=Age, autopct='%1.1f%%',\n",
    "        shadow=True, startangle=90)\n",
    "ax1.axis('equal')  # Equal aspect ratio ensures that pie is drawn as a circle.\n",
    "\n",
    "plt.show()"
   ]
  },
  {
   "cell_type": "markdown",
   "id": "544df285",
   "metadata": {},
   "source": [
    "Cases reported each year"
   ]
  },
  {
   "cell_type": "markdown",
   "id": "3c0d0281",
   "metadata": {},
   "source": [
    "Cases reported each year"
   ]
  },
  {
   "cell_type": "code",
   "execution_count": null,
   "id": "31e001c4",
   "metadata": {},
   "outputs": [],
   "source": [
    "sns.barplot(x=\"Year\", y=\"Rape_Cases_Reported\", data=df)"
   ]
  },
  {
   "cell_type": "code",
   "execution_count": null,
   "id": "e9cd298b",
   "metadata": {},
   "outputs": [],
   "source": [
    "sns.barplot(x=\"Year\", y=\"Rape_Cases_Reported\", data=df)"
   ]
  },
  {
   "cell_type": "markdown",
   "id": "fbf8d800",
   "metadata": {},
   "source": [
    "Age group wise distribution of victims"
   ]
  },
  {
   "cell_type": "markdown",
   "id": "7786fb38",
   "metadata": {},
   "source": [
    "Age group wise distribution of victims"
   ]
  },
  {
   "cell_type": "code",
   "execution_count": null,
   "id": "93ea6bdf",
   "metadata": {},
   "outputs": [],
   "source": [
    "sns.barplot(x=\"Subgroup\", y=\"Victims_Above_50_Yrs\", data=df)\n",
    "plt.figure(figsize=(8,8))"
   ]
  },
  {
   "cell_type": "code",
   "execution_count": null,
   "id": "acf64430",
   "metadata": {},
   "outputs": [],
   "source": [
    "sns.barplot(x=\"Subgroup\", y=\"Victims_Above_50_Yrs\", data=df)\n",
    "plt.figure(figsize=(8,8))"
   ]
  },
  {
   "cell_type": "code",
   "execution_count": null,
   "id": "c5c425b3",
   "metadata": {},
   "outputs": [],
   "source": [
    "sns.barplot(x=\"Subgroup\", y=\"Victims_Between_30-50_Yrs\", data=df)\n",
    "plt.figure(figsize=(8,8))"
   ]
  },
  {
   "cell_type": "code",
   "execution_count": null,
   "id": "30a41b24",
   "metadata": {},
   "outputs": [],
   "source": [
    "sns.barplot(x=\"Subgroup\", y=\"Victims_Between_30-50_Yrs\", data=df)\n",
    "plt.figure(figsize=(8,8))"
   ]
  },
  {
   "cell_type": "code",
   "execution_count": null,
   "id": "cde62787",
   "metadata": {},
   "outputs": [],
   "source": [
    "sns.barplot(x=\"Subgroup\", y=\"Victims_Between_18-30_Yrs\", data=df)\n",
    "plt.figure(figsize=(8,8))"
   ]
  },
  {
   "cell_type": "code",
   "execution_count": null,
   "id": "e4e64080",
   "metadata": {},
   "outputs": [],
   "source": [
    "sns.barplot(x=\"Subgroup\", y=\"Victims_Between_18-30_Yrs\", data=df)\n",
    "plt.figure(figsize=(8,8))"
   ]
  },
  {
   "cell_type": "code",
   "execution_count": null,
   "id": "c206222b",
   "metadata": {},
   "outputs": [],
   "source": [
    "sns.barplot(x=\"Subgroup\", y=\"Victims_Between_14-18_Yrs\", data=df)\n",
    "plt.figure(figsize=(8,8))"
   ]
  },
  {
   "cell_type": "code",
   "execution_count": null,
   "id": "1134eb58",
   "metadata": {},
   "outputs": [],
   "source": [
    "sns.barplot(x=\"Subgroup\", y=\"Victims_Between_14-18_Yrs\", data=df)\n",
    "plt.figure(figsize=(8,8))"
   ]
  },
  {
   "cell_type": "code",
   "execution_count": null,
   "id": "49d2e335",
   "metadata": {},
   "outputs": [],
   "source": [
    "sns.barplot(x=\"Subgroup\", y=\"Victims_Between_10-14_Yrs\", data=df)\n",
    "plt.figure(figsize=(8,8))"
   ]
  },
  {
   "cell_type": "code",
   "execution_count": null,
   "id": "f8420ed5",
   "metadata": {},
   "outputs": [],
   "source": [
    "sns.barplot(x=\"Subgroup\", y=\"Victims_Between_10-14_Yrs\", data=df)\n",
    "plt.figure(figsize=(8,8))"
   ]
  },
  {
   "cell_type": "code",
   "execution_count": null,
   "id": "d826637e",
   "metadata": {},
   "outputs": [],
   "source": [
    "sns.barplot(x=\"Subgroup\", y=\"Victims_Upto_10_Yrs\", data=df)\n",
    "plt.figure(figsize=(8,8))"
   ]
  },
  {
   "cell_type": "code",
   "execution_count": null,
   "id": "e9282539",
   "metadata": {},
   "outputs": [],
   "source": [
    "sns.barplot(x=\"Subgroup\", y=\"Victims_Upto_10_Yrs\", data=df)\n",
    "plt.figure(figsize=(8,8))"
   ]
  },
  {
   "cell_type": "markdown",
   "id": "da72bbaa",
   "metadata": {},
   "source": [
    "Total number of cases per Sub-category"
   ]
  },
  {
   "cell_type": "markdown",
   "id": "867e50e7",
   "metadata": {},
   "source": [
    "Total number of cases per Sub-category"
   ]
  },
  {
   "cell_type": "code",
   "execution_count": null,
   "id": "c43dca9e",
   "metadata": {},
   "outputs": [],
   "source": [
    "pd.value_counts(df['Subgroup']).plot.bar()"
   ]
  },
  {
   "cell_type": "code",
   "execution_count": null,
   "id": "f3f022a8",
   "metadata": {},
   "outputs": [],
   "source": [
    "pd.value_counts(df['Subgroup']).plot.bar()"
   ]
  },
  {
   "cell_type": "markdown",
   "id": "87b7da0e",
   "metadata": {},
   "source": [
    "Victims of incest rape"
   ]
  },
  {
   "cell_type": "markdown",
   "id": "327d27b9",
   "metadata": {},
   "source": [
    "Victims of incest rape"
   ]
  },
  {
   "cell_type": "code",
   "execution_count": null,
   "id": "af1e99e4",
   "metadata": {},
   "outputs": [],
   "source": [
    "ab=df[df['Subgroup']=='Victims of Incest Rape']\n",
    "bc=df[df['Subgroup']=='Victims of Other Rape']\n",
    "\n",
    "fig = plt.figure()\n",
    "ax = fig.add_axes([0,0,1,1])\n",
    "\n",
    "Victims_above_50 = ab['Victims_Above_50_Yrs'].sum()\n",
    "Victims_30_to_50 = ab['Victims_Between_30-50_Yrs'].sum()\n",
    "Victims_18_to_38 = ab['Victims_Between_18-30_Yrs'].sum()\n",
    "Victims_14_to_18 = ab['Victims_Between_14-18_Yrs'].sum()\n",
    "Victims_10_to_14 = ab['Victims_Between_10-14_Yrs'].sum()\n",
    "Victims_upto_10 = ab['Victims_Upto_10_Yrs'].sum()\n",
    "\n",
    "Range=['Above_50','30-50','18-30','14-18','10-14','Upto_10']\n",
    "Total=[Victims_above_50,Victims_30_to_50,Victims_18_to_38,Victims_14_to_18,Victims_10_to_14,Victims_upto_10]\n",
    "\n",
    "ax.bar(Range,Total)\n",
    "plt.show()"
   ]
  },
  {
   "cell_type": "code",
   "execution_count": null,
   "id": "01547b54",
   "metadata": {},
   "outputs": [],
   "source": [
    "ab=df[df['Subgroup']=='Victims of Incest Rape']\n",
    "bc=df[df['Subgroup']=='Victims of Other Rape']\n",
    "\n",
    "fig = plt.figure()\n",
    "ax = fig.add_axes([0,0,1,1])\n",
    "\n",
    "Victims_above_50 = ab['Victims_Above_50_Yrs'].sum()\n",
    "Victims_30_to_50 = ab['Victims_Between_30-50_Yrs'].sum()\n",
    "Victims_18_to_38 = ab['Victims_Between_18-30_Yrs'].sum()\n",
    "Victims_14_to_18 = ab['Victims_Between_14-18_Yrs'].sum()\n",
    "Victims_10_to_14 = ab['Victims_Between_10-14_Yrs'].sum()\n",
    "Victims_upto_10 = ab['Victims_Upto_10_Yrs'].sum()\n",
    "\n",
    "Range=['Above_50','30-50','18-30','14-18','10-14','Upto_10']\n",
    "Total=[Victims_above_50,Victims_30_to_50,Victims_18_to_38,Victims_14_to_18,Victims_10_to_14,Victims_upto_10]\n",
    "\n",
    "ax.bar(Range,Total)\n",
    "plt.show()"
   ]
  },
  {
   "cell_type": "markdown",
   "id": "9425dbdb",
   "metadata": {},
   "source": [
    "Victims of other rape"
   ]
  },
  {
   "cell_type": "markdown",
   "id": "83d27621",
   "metadata": {},
   "source": [
    "Victims of other rape"
   ]
  },
  {
   "cell_type": "code",
   "execution_count": null,
   "id": "aa6942a5",
   "metadata": {},
   "outputs": [],
   "source": [
    "fig = plt.figure()\n",
    "ax = fig.add_axes([0,0,1,1])\n",
    "\n",
    "Victims_above_50 = bc['Victims_Above_50_Yrs'].sum()\n",
    "Victims_30_to_50 = bc['Victims_Between_30-50_Yrs'].sum()\n",
    "Victims_18_to_38 = bc['Victims_Between_18-30_Yrs'].sum()\n",
    "Victims_14_to_18 = bc['Victims_Between_14-18_Yrs'].sum()\n",
    "Victims_10_to_14 = bc['Victims_Between_10-14_Yrs'].sum()\n",
    "Victims_upto_10 = bc['Victims_Upto_10_Yrs'].sum()\n",
    "\n",
    "Range=['Above_50','30-50','18-30','14-18','10-14','Upto_10']\n",
    "Total=[Victims_above_50,Victims_30_to_50,Victims_18_to_38,Victims_14_to_18,Victims_10_to_14,Victims_upto_10]\n",
    "\n",
    "ax.bar(Range,Total)\n",
    "plt.show()"
   ]
  },
  {
   "cell_type": "code",
   "execution_count": null,
   "id": "f49217aa",
   "metadata": {},
   "outputs": [],
   "source": [
    "fig = plt.figure()\n",
    "ax = fig.add_axes([0,0,1,1])\n",
    "\n",
    "Victims_above_50 = bc['Victims_Above_50_Yrs'].sum()\n",
    "Victims_30_to_50 = bc['Victims_Between_30-50_Yrs'].sum()\n",
    "Victims_18_to_38 = bc['Victims_Between_18-30_Yrs'].sum()\n",
    "Victims_14_to_18 = bc['Victims_Between_14-18_Yrs'].sum()\n",
    "Victims_10_to_14 = bc['Victims_Between_10-14_Yrs'].sum()\n",
    "Victims_upto_10 = bc['Victims_Upto_10_Yrs'].sum()\n",
    "\n",
    "Range=['Above_50','30-50','18-30','14-18','10-14','Upto_10']\n",
    "Total=[Victims_above_50,Victims_30_to_50,Victims_18_to_38,Victims_14_to_18,Victims_10_to_14,Victims_upto_10]\n",
    "\n",
    "ax.bar(Range,Total)\n",
    "plt.show()"
   ]
  },
  {
   "cell_type": "markdown",
   "id": "bc473290",
   "metadata": {},
   "source": [
    "AUTO THEFT CASES IN INDIA\n",
    "\n",
    "![image.png](attachment:image.png)\n",
    "\n",
    "In India, out of 100 vehicles insured, claims are filed for 35-40. Generally, less than 2% of insured cars are stolen. Claim payouts for motor insurance add up to approximately Rs 35,000 crore with about Rs 1,000 crore accounted for by stolen vehicles every year, executives said.\n"
   ]
  },
  {
   "cell_type": "markdown",
   "id": "14527b65",
   "metadata": {},
   "source": [
    "AUTO THEFT CASES IN INDIA\n",
    "\n",
    "![image.png](attachment:image.png)\n",
    "\n",
    "In India, out of 100 vehicles insured, claims are filed for 35-40. Generally, less than 2% of insured cars are stolen. Claim payouts for motor insurance add up to approximately Rs 35,000 crore with about Rs 1,000 crore accounted for by stolen vehicles every year, executives said.\n"
   ]
  },
  {
   "cell_type": "code",
   "execution_count": null,
   "id": "d2be5914",
   "metadata": {},
   "outputs": [],
   "source": [
    "df1=pd.read_csv('../input/crime-in-india/30_Auto_theft.csv')\n",
    "df1.head()"
   ]
  },
  {
   "cell_type": "code",
   "execution_count": null,
   "id": "64c9a178",
   "metadata": {},
   "outputs": [],
   "source": [
    "df1=pd.read_csv('../input/crime-in-india/30_Auto_theft.csv')\n",
    "df1.head()"
   ]
  },
  {
   "cell_type": "code",
   "execution_count": null,
   "id": "82716748",
   "metadata": {},
   "outputs": [],
   "source": [
    "df1.isna().sum()"
   ]
  },
  {
   "cell_type": "code",
   "execution_count": null,
   "id": "488774e4",
   "metadata": {},
   "outputs": [],
   "source": [
    "df1.isna().sum()"
   ]
  },
  {
   "cell_type": "code",
   "execution_count": null,
   "id": "e275e7a4",
   "metadata": {},
   "outputs": [],
   "source": [
    "df1['Auto_Theft_Coordinated/Traced'].fillna((df1['Auto_Theft_Coordinated/Traced'].mean()), inplace=True)\n",
    "df1['Auto_Theft_Recovered'].fillna((df1['Auto_Theft_Recovered'].mean()),inplace=True)"
   ]
  },
  {
   "cell_type": "code",
   "execution_count": null,
   "id": "b4fdc2f7",
   "metadata": {},
   "outputs": [],
   "source": [
    "df1['Auto_Theft_Coordinated/Traced'].fillna((df1['Auto_Theft_Coordinated/Traced'].mean()), inplace=True)\n",
    "df1['Auto_Theft_Recovered'].fillna((df1['Auto_Theft_Recovered'].mean()),inplace=True)"
   ]
  },
  {
   "cell_type": "code",
   "execution_count": null,
   "id": "e52d9369",
   "metadata": {},
   "outputs": [],
   "source": [
    "df1.describe()"
   ]
  },
  {
   "cell_type": "code",
   "execution_count": null,
   "id": "5592f2ad",
   "metadata": {},
   "outputs": [],
   "source": [
    "df1.describe()"
   ]
  },
  {
   "cell_type": "code",
   "execution_count": null,
   "id": "1fa262cb",
   "metadata": {},
   "outputs": [],
   "source": [
    "df1.hist(figsize=(10,10),edgecolor=\"k\")\n",
    "plt.tight_layout()\n",
    "plt.show()"
   ]
  },
  {
   "cell_type": "code",
   "execution_count": null,
   "id": "628f5c37",
   "metadata": {},
   "outputs": [],
   "source": [
    "df1.hist(figsize=(10,10),edgecolor=\"k\")\n",
    "plt.tight_layout()\n",
    "plt.show()"
   ]
  },
  {
   "cell_type": "markdown",
   "id": "8c23e40e",
   "metadata": {},
   "source": [
    "Actions taken on stolen automobiles"
   ]
  },
  {
   "cell_type": "markdown",
   "id": "9db37430",
   "metadata": {},
   "source": [
    "Actions taken on stolen automobiles"
   ]
  },
  {
   "cell_type": "code",
   "execution_count": null,
   "id": "0a79e98d",
   "metadata": {},
   "outputs": [],
   "source": [
    "import pandas as pd\n",
    "\n",
    "new = df1[['Auto_Theft_Stolen', 'Auto_Theft_Recovered', 'Auto_Theft_Coordinated/Traced']].copy()\n",
    "\n",
    "stolen_df = new['Auto_Theft_Stolen'].sum()\n",
    "theft_df = new['Auto_Theft_Recovered'].sum()\n",
    "traced_df = new['Auto_Theft_Coordinated/Traced'].sum()\n",
    "\n",
    "fig = plt.figure()\n",
    "ax = fig.add_axes([0,0,1,1])\n",
    "\n",
    "\n",
    "total = [stolen_df,theft_df,traced_df]\n",
    "columns = ['Stolen','Recovered','Traced']\n",
    "\n",
    "ax.bar(columns,total)\n",
    "plt.show()\n"
   ]
  },
  {
   "cell_type": "code",
   "execution_count": null,
   "id": "65910e54",
   "metadata": {},
   "outputs": [],
   "source": [
    "import pandas as pd\n",
    "\n",
    "new = df1[['Auto_Theft_Stolen', 'Auto_Theft_Recovered', 'Auto_Theft_Coordinated/Traced']].copy()\n",
    "\n",
    "stolen_df = new['Auto_Theft_Stolen'].sum()\n",
    "theft_df = new['Auto_Theft_Recovered'].sum()\n",
    "traced_df = new['Auto_Theft_Coordinated/Traced'].sum()\n",
    "\n",
    "fig = plt.figure()\n",
    "ax = fig.add_axes([0,0,1,1])\n",
    "\n",
    "\n",
    "total = [stolen_df,theft_df,traced_df]\n",
    "columns = ['Stolen','Recovered','Traced']\n",
    "\n",
    "ax.bar(columns,total)\n",
    "plt.show()\n"
   ]
  },
  {
   "cell_type": "code",
   "execution_count": null,
   "id": "33bc2c61",
   "metadata": {},
   "outputs": [],
   "source": [
    "fig1, ax1 = plt.subplots()\n",
    "ax1.pie(total, labels=columns, autopct='%1.1f%%',\n",
    "        shadow=True, startangle=90)\n",
    "ax1.axis('equal')  # Equal aspect ratio ensures that pie is drawn as a circle.\n",
    "\n",
    "plt.show()"
   ]
  },
  {
   "cell_type": "code",
   "execution_count": null,
   "id": "e1cc35ce",
   "metadata": {},
   "outputs": [],
   "source": [
    "fig1, ax1 = plt.subplots()\n",
    "ax1.pie(total, labels=columns, autopct='%1.1f%%',\n",
    "        shadow=True, startangle=90)\n",
    "ax1.axis('equal')  # Equal aspect ratio ensures that pie is drawn as a circle.\n",
    "\n",
    "plt.show()"
   ]
  },
  {
   "cell_type": "markdown",
   "id": "7fef70ce",
   "metadata": {},
   "source": [
    "Stolen automobiles recorded each year"
   ]
  },
  {
   "cell_type": "markdown",
   "id": "bde57d04",
   "metadata": {},
   "source": [
    "Stolen automobiles recorded each year"
   ]
  },
  {
   "cell_type": "code",
   "execution_count": null,
   "id": "95f34f51",
   "metadata": {},
   "outputs": [],
   "source": [
    "sns.barplot(x=\"Year\", y=\"Auto_Theft_Stolen\", data=df1)"
   ]
  },
  {
   "cell_type": "code",
   "execution_count": null,
   "id": "90ed2a17",
   "metadata": {},
   "outputs": [],
   "source": [
    "sns.barplot(x=\"Year\", y=\"Auto_Theft_Stolen\", data=df1)"
   ]
  },
  {
   "cell_type": "markdown",
   "id": "6e5f1877",
   "metadata": {},
   "source": [
    "Stolen automobiles traced each year"
   ]
  },
  {
   "cell_type": "markdown",
   "id": "dbd9337a",
   "metadata": {},
   "source": [
    "Stolen automobiles traced each year"
   ]
  },
  {
   "cell_type": "code",
   "execution_count": null,
   "id": "343f5aa7",
   "metadata": {},
   "outputs": [],
   "source": [
    "sns.barplot(x=\"Year\", y=\"Auto_Theft_Coordinated/Traced\", data=df1)"
   ]
  },
  {
   "cell_type": "code",
   "execution_count": null,
   "id": "2133c023",
   "metadata": {},
   "outputs": [],
   "source": [
    "sns.barplot(x=\"Year\", y=\"Auto_Theft_Coordinated/Traced\", data=df1)"
   ]
  },
  {
   "cell_type": "markdown",
   "id": "9ce13a09",
   "metadata": {},
   "source": [
    "Stolen automobiles recovered each year"
   ]
  },
  {
   "cell_type": "markdown",
   "id": "87d95329",
   "metadata": {},
   "source": [
    "Stolen automobiles recovered each year"
   ]
  },
  {
   "cell_type": "code",
   "execution_count": null,
   "id": "62a4ab27",
   "metadata": {},
   "outputs": [],
   "source": [
    "sns.barplot(x=\"Year\", y=\"Auto_Theft_Recovered\", data=df1)"
   ]
  },
  {
   "cell_type": "code",
   "execution_count": null,
   "id": "5e1856f9",
   "metadata": {},
   "outputs": [],
   "source": [
    "sns.barplot(x=\"Year\", y=\"Auto_Theft_Recovered\", data=df1)"
   ]
  }
 ],
 "metadata": {},
 "nbformat": 4,
 "nbformat_minor": 5
}
