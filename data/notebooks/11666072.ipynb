{
 "cells": [
  {
   "cell_type": "markdown",
   "id": "853678b6",
   "metadata": {},
   "source": [
    "<html>\n",
    "    <h1 align='center'><b>\n",
    "    <img src='https://media3.giphy.com/media/KAq5w47R9rmTuvWOWa/giphy.gif' width=100 height=100>\n",
    "    <font color='sky blue' face='lucida handwriting'size=300>Py</font><font color='yellow' face='lucida handwriting' size=300>Tech</font></b></h1>"
   ]
  },
  {
   "cell_type": "markdown",
   "id": "b76d9314",
   "metadata": {},
   "source": [
    "<html>\n",
    "    <h1 align=center><i><font face='Courier' size = 10>Importing Libraries</font></i></h1>"
   ]
  },
  {
   "cell_type": "code",
   "execution_count": null,
   "id": "5928465a",
   "metadata": {},
   "outputs": [],
   "source": [
    "import numpy as np \n",
    "import pandas as pd\n",
    "import math\n",
    "from sklearn.model_selection import train_test_split\n",
    "from sklearn.ensemble import RandomForestRegressor,IsolationForest,GradientBoostingRegressor,ExtraTreesRegressor\n",
    "import os\n",
    "from sklearn.metrics import mean_absolute_error,mean_squared_error,mean_squared_log_error"
   ]
  },
  {
   "cell_type": "code",
   "execution_count": null,
   "id": "745fa021",
   "metadata": {},
   "outputs": [],
   "source": [
    "train = pd.read_csv('../input/house-prices-advanced-regression-techniques/train.csv')\n",
    "test = pd.read_csv('../input/house-prices-advanced-regression-techniques/test.csv')\n",
    "sample = pd.read_csv('../input/house-prices-advanced-regression-techniques/sample_submission.csv')"
   ]
  },
  {
   "cell_type": "markdown",
   "id": "b028575c",
   "metadata": {},
   "source": [
    "<html>\n",
    "    <h1 align=center><i><font face='Courier' size = 10>Data Cleaning</font></i></h1>"
   ]
  },
  {
   "cell_type": "code",
   "execution_count": null,
   "id": "3ad5761c",
   "metadata": {},
   "outputs": [],
   "source": [
    "train"
   ]
  },
  {
   "cell_type": "code",
   "execution_count": null,
   "id": "b138d459",
   "metadata": {},
   "outputs": [],
   "source": [
    "train.corr()['SalePrice']"
   ]
  },
  {
   "cell_type": "code",
   "execution_count": null,
   "id": "a84878fa",
   "metadata": {},
   "outputs": [],
   "source": [
    "def string_remover(df,list1=[],drop=[]):\n",
    "    a = df.select_dtypes(include='object')\n",
    "    for i in a.columns:\n",
    "        for x in a.index:\n",
    "            try:\n",
    "                c = list1.index(a[i].iloc[x:x+1][x])\n",
    "                a[i].iloc[x:x+1][x] = c\n",
    "            except:\n",
    "                list1.append(a[i].iloc[x:x+1][x])\n",
    "                a[i].iloc[x:x+1][x] = len(list1)-1\n",
    "    a.fillna(len(list1))\n",
    "    d = df.select_dtypes(exclude='object').fillna(0)\n",
    "    try:\n",
    "        return pd.concat([d,a],axis=1).fillna(0).drop([drop],axis=1)\n",
    "    except:\n",
    "        return pd.concat([d,a],axis=1).fillna(0)"
   ]
  },
  {
   "cell_type": "code",
   "execution_count": null,
   "id": "562ba1a8",
   "metadata": {},
   "outputs": [],
   "source": [
    "b = []"
   ]
  },
  {
   "cell_type": "code",
   "execution_count": null,
   "id": "0e035ddf",
   "metadata": {},
   "outputs": [],
   "source": [
    "train = string_remover(train,list1=b)"
   ]
  },
  {
   "cell_type": "code",
   "execution_count": null,
   "id": "3aa7d628",
   "metadata": {},
   "outputs": [],
   "source": [
    "test = string_remover(test,list1=b)"
   ]
  },
  {
   "cell_type": "markdown",
   "id": "0b14dbd2",
   "metadata": {},
   "source": [
    "<html>\n",
    "    <h1 align=center><i><font face='Courier' size = 10>Train Test Split\n",
    "        and the Model</font></i></h1>"
   ]
  },
  {
   "cell_type": "code",
   "execution_count": null,
   "id": "e6b90387",
   "metadata": {},
   "outputs": [],
   "source": [
    "X_train,X_test,y_train,y_test = train_test_split(train.drop('SalePrice',axis=1),train['SalePrice'],test_size=0.33,random_state=500)"
   ]
  },
  {
   "cell_type": "code",
   "execution_count": null,
   "id": "7bd9e92b",
   "metadata": {},
   "outputs": [],
   "source": [
    "forest = ExtraTreesRegressor()"
   ]
  },
  {
   "cell_type": "code",
   "execution_count": null,
   "id": "0be789b7",
   "metadata": {},
   "outputs": [],
   "source": [
    "from sklearn.feature_selection import SelectFromModel"
   ]
  },
  {
   "cell_type": "code",
   "execution_count": null,
   "id": "8383ec38",
   "metadata": {},
   "outputs": [],
   "source": [
    "select_from_model = SelectFromModel(forest)"
   ]
  },
  {
   "cell_type": "code",
   "execution_count": null,
   "id": "bc12234f",
   "metadata": {},
   "outputs": [],
   "source": [
    "select_from_model.fit(X_train,y_train)"
   ]
  },
  {
   "cell_type": "code",
   "execution_count": null,
   "id": "616285b3",
   "metadata": {},
   "outputs": [],
   "source": [
    "selected_features = X_train.columns[(select_from_model.get_support())]\n",
    "selected_features"
   ]
  },
  {
   "cell_type": "code",
   "execution_count": null,
   "id": "33510456",
   "metadata": {},
   "outputs": [],
   "source": [
    "selected_features"
   ]
  },
  {
   "cell_type": "code",
   "execution_count": null,
   "id": "0c3f902f",
   "metadata": {},
   "outputs": [],
   "source": [
    "forest.fit(X_train[selected_features],y_train)"
   ]
  },
  {
   "cell_type": "code",
   "execution_count": null,
   "id": "b20bd6fc",
   "metadata": {},
   "outputs": [],
   "source": [
    "i = 10\n",
    "print(f'Predicted Value : {(forest.predict(X_test[selected_features].iloc[i-1:i]))[0]}')\n",
    "print(f'Actual Value: {y_test.iloc[[i-1]][X_test[selected_features].iloc[i-1:i].index[0]]}')"
   ]
  },
  {
   "cell_type": "code",
   "execution_count": null,
   "id": "0e371591",
   "metadata": {},
   "outputs": [],
   "source": [
    "print(f'Root Mean Squared Errors : {math.sqrt(mean_squared_error(forest.predict(X_test[selected_features]),y_test))}') "
   ]
  },
  {
   "cell_type": "markdown",
   "id": "4d5fa394",
   "metadata": {},
   "source": [
    " <html>\n",
    "    <h1 align=center><i><font face='Courier' size = 10>Prediction and Submission file</font></i></h1>"
   ]
  },
  {
   "cell_type": "code",
   "execution_count": null,
   "id": "16193369",
   "metadata": {},
   "outputs": [],
   "source": [
    "pred = forest.predict(test[selected_features])"
   ]
  },
  {
   "cell_type": "code",
   "execution_count": null,
   "id": "a94220df",
   "metadata": {},
   "outputs": [],
   "source": [
    "sample['SalePrice'] = pd.Series(pred)"
   ]
  },
  {
   "cell_type": "code",
   "execution_count": null,
   "id": "6368810b",
   "metadata": {},
   "outputs": [],
   "source": [
    "sample.to_csv('submission.csv',index=False)"
   ]
  },
  {
   "cell_type": "code",
   "execution_count": null,
   "id": "af701e24",
   "metadata": {},
   "outputs": [],
   "source": [
    "sample"
   ]
  }
 ],
 "metadata": {},
 "nbformat": 4,
 "nbformat_minor": 5
}
