{
 "cells": [
  {
   "cell_type": "code",
   "execution_count": null,
   "id": "697fbc94",
   "metadata": {},
   "outputs": [],
   "source": [
    "import numpy as np # linear algebra\n",
    "import pandas as pd # data processing, CSV file I/O (e.g. pd.read_csv)\n",
    "\n",
    "import matplotlib as mpl\n",
    "import matplotlib.pyplot as plt\n",
    "import seaborn as sns\n",
    "\n",
    "%matplotlib inline\n",
    "\n",
    "import warnings\n",
    "warnings.filterwarnings('ignore')\n",
    "\n",
    "#import os\n",
    "#print(os.listdir(\"../input\"))"
   ]
  },
  {
   "cell_type": "code",
   "execution_count": null,
   "id": "9a43cc58",
   "metadata": {},
   "outputs": [],
   "source": [
    "train = pd.read_csv(\"../input/train.csv\", parse_dates=[\"datetime\"])\n",
    "test = pd.read_csv(\"../input/test.csv\", parse_dates=[\"datetime\"])\n",
    "#train = pd.read_csv(\"../input/train.csv\")\n",
    "#test = pd.read_csv(\"../input/test.csv\")"
   ]
  },
  {
   "cell_type": "code",
   "execution_count": null,
   "id": "ab8f5207",
   "metadata": {},
   "outputs": [],
   "source": [
    "train.head(5)"
   ]
  },
  {
   "cell_type": "code",
   "execution_count": null,
   "id": "e59f9f11",
   "metadata": {},
   "outputs": [],
   "source": [
    "test.head(5)"
   ]
  },
  {
   "cell_type": "code",
   "execution_count": null,
   "id": "91764fda",
   "metadata": {},
   "outputs": [],
   "source": [
    "train[\"year\"] = train[\"datetime\"].dt.year\n",
    "train[\"month\"] = train[\"datetime\"].dt.month\n",
    "train[\"day\"] = train[\"datetime\"].dt.day\n",
    "train[\"hour\"] = train[\"datetime\"].dt.hour\n",
    "train[\"minute\"] = train[\"datetime\"].dt.minute\n",
    "train[\"second\"] = train[\"datetime\"].dt.second\n",
    "train[\"dayofweek\"] = train[\"datetime\"].dt.dayofweek\n",
    "\n",
    "test[\"year\"] = test[\"datetime\"].dt.year\n",
    "test[\"month\"] = test[\"datetime\"].dt.month\n",
    "test[\"day\"] = test[\"datetime\"].dt.day\n",
    "test[\"hour\"] = test[\"datetime\"].dt.hour\n",
    "test[\"minute\"] = test[\"datetime\"].dt.minute\n",
    "test[\"second\"] = test[\"datetime\"].dt.second\n",
    "test[\"dayofweek\"] = test[\"datetime\"].dt.dayofweek"
   ]
  },
  {
   "cell_type": "code",
   "execution_count": null,
   "id": "c7538c09",
   "metadata": {},
   "outputs": [],
   "source": [
    "categorical_feature_names = [\"season\",\"holiday\",\"workingday\",\"weather\",\"dayofweek\",\"month\",\"year\",\"hour\"]\n",
    "\n",
    "for var in categorical_feature_names : \n",
    "    train[var] = train[var].astype(\"category\")\n",
    "    test[var] = test[var].astype(\"category\")\n",
    "feature_names = [\"season\",\"weather\",\"temp\",\"atemp\",\"humidity\",\"windspeed\",\"year\",\"hour\",\"dayofweek\",\"holiday\",\"workingday\"]"
   ]
  },
  {
   "cell_type": "code",
   "execution_count": null,
   "id": "0ee300f6",
   "metadata": {},
   "outputs": [],
   "source": [
    "X_train = train[feature_names]\n",
    "X_test = test[feature_names]\n",
    "label_name = \"count\"\n",
    "Y_train = train[label_name]"
   ]
  },
  {
   "cell_type": "code",
   "execution_count": null,
   "id": "f05a22ac",
   "metadata": {},
   "outputs": [],
   "source": [
    "from sklearn.ensemble import RandomForestRegressor\n",
    "max_depth_list = []\n",
    "model = RandomForestRegressor(n_estimators=100,n_jobs=-1,random_state=0)\n",
    "model.fit(X_train,Y_train)\n",
    "predictions = model.predict(X_test)"
   ]
  },
  {
   "cell_type": "code",
   "execution_count": null,
   "id": "65c9c92f",
   "metadata": {},
   "outputs": [],
   "source": [
    "submission = pd.read_csv(\"../input/sampleSubmission.csv\")\n",
    "submission[\"count\"] = predictions\n",
    "submission.to_csv(\"submission.csv\",index=False)"
   ]
  },
  {
   "cell_type": "code",
   "execution_count": null,
   "id": "baaa13a9",
   "metadata": {},
   "outputs": [],
   "source": [
    "fig, axes = plt.subplots(nrows=2,ncols=2)\n",
    "fig.set_size_inches(12, 10)\n",
    "sns.boxplot(data=train,y=\"count\",orient=\"v\",ax=axes[0][0])\n",
    "sns.boxplot(data=train,y=\"count\",x=\"season\",orient=\"v\",ax=axes[0][1])\n",
    "sns.boxplot(data=train,y=\"count\",x=\"hour\",orient=\"v\",ax=axes[1][0])\n",
    "sns.boxplot(data=train,y=\"count\",x=\"workingday\",orient=\"v\",ax=axes[1][1])\n",
    " \n",
    "axes[0][0].set(ylabel='Count',title=\"Box Plot On Count\")\n",
    "axes[0][1].set(xlabel='Season', ylabel='Count',title=\"Box Plot On Count Across Season\")\n",
    "axes[1][0].set(xlabel='Hour Of The Day', ylabel='Count',title=\"Box Plot On Count Across Hour Of The Day\")\n",
    "axes[1][1].set(xlabel='Working Day', ylabel='Count',title=\"Box Plot On Count Across Working Day\")\n",
    " \n",
    "corrMatt = train[[\"temp\",\"atemp\",\"casual\",\"registered\",\"humidity\",\"windspeed\",\"count\"]].corr()\n",
    "mask = np.array(corrMatt)\n",
    "mask[np.tril_indices_from(mask)] = False\n",
    "fig,ax= plt.subplots()\n",
    "fig.set_size_inches(20,10)\n",
    "sns.heatmap(corrMatt, mask=mask,vmax=.8, square=True,annot=True)"
   ]
  },
  {
   "cell_type": "code",
   "execution_count": null,
   "id": "680bbca1",
   "metadata": {},
   "outputs": [],
   "source": [
    "fig,(ax1,ax2,ax3,ax4,ax5)= plt.subplots(nrows=5)\n",
    "fig.set_size_inches(18,25)\n",
    "sns.pointplot(data=train, x=\"hour\", y=\"count\", ax=ax1)\n",
    "sns.pointplot(data=train, x=\"hour\", y=\"count\", hue=\"workingday\", ax=ax2)\n",
    "sns.pointplot(data=train, x=\"hour\", y=\"count\", hue=\"dayofweek\", ax=ax3)\n",
    "sns.pointplot(data=train, x=\"hour\", y=\"count\", hue=\"weather\", ax=ax4)\n",
    "sns.pointplot(data=train, x=\"hour\", y=\"count\", hue=\"season\", ax=ax5)"
   ]
  },
  {
   "cell_type": "code",
   "execution_count": null,
   "id": "a4ddb518",
   "metadata": {},
   "outputs": [],
   "source": [
    "fig,(ax1,ax2,ax3) = plt.subplots(ncols=3)\n",
    "fig.set_size_inches(12, 5)\n",
    "sns.regplot(x=\"temp\", y=\"count\", data=train,ax=ax1)\n",
    "sns.regplot(x=\"windspeed\", y=\"count\", data=train,ax=ax2)\n",
    "sns.regplot(x=\"humidity\", y=\"count\", data=train,ax=ax3)"
   ]
  },
  {
   "cell_type": "code",
   "execution_count": null,
   "id": "ce146373",
   "metadata": {},
   "outputs": [],
   "source": [
    "from sklearn.ensemble import RandomForestClassifier\n",
    "def predict_windspeed(data):\n",
    "    dataWind0 = data.loc[data['windspeed'] == 0]\n",
    "    dataWindNot0 = data.loc[data['windspeed'] != 0]\n",
    "    wCol = [\"season\", \"weather\", \"humidity\", \"month\", \"temp\", \"year\", \"atemp\"]\n",
    "    dataWindNot0[\"windspeed\"] = dataWindNot0[\"windspeed\"].astype(\"str\")\n",
    "    rfModel_wind = RandomForestClassifier()\n",
    "    rfModel_wind.fit(dataWindNot0[wCol], dataWindNot0[\"windspeed\"])\n",
    "    wind0Values = rfModel_wind.predict(X = dataWind0[wCol])\n",
    "    predictWind0 = dataWind0\n",
    "    predictWindNot0 = dataWindNot0\n",
    "    predictWind0[\"windspeed\"] = wind0Values\n",
    "    data = predictWindNot0.append(predictWind0)\n",
    "    data[\"windspeed\"] = data[\"windspeed\"].astype(\"float\")\n",
    "    data.reset_index(inplace=True)\n",
    "    data.drop('index', inplace=True, axis=1)\n",
    "    return data"
   ]
  },
  {
   "cell_type": "code",
   "execution_count": null,
   "id": "1596b13c",
   "metadata": {},
   "outputs": [],
   "source": [
    "nan"
   ]
  }
 ],
 "metadata": {},
 "nbformat": 4,
 "nbformat_minor": 5
}
