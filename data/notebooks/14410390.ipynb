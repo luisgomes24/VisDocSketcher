{
 "cells": [
  {
   "cell_type": "markdown",
   "id": "f29472ce",
   "metadata": {},
   "source": [
    "# Titanic Predictions \n",
    "\n",
    "## Get the Data"
   ]
  },
  {
   "cell_type": "code",
   "execution_count": null,
   "id": "571e2891",
   "metadata": {},
   "outputs": [],
   "source": [
    "# This Python 3 environment comes with many helpful analytics libraries installed\n",
    "# It is defined by the kaggle/python Docker image: https://github.com/kaggle/docker-python\n",
    "# For example, here's several helpful packages to load\n",
    "\n",
    "import numpy as np # linear algebra\n",
    "import pandas as pd # data processing, CSV file I/O (e.g. pd.read_csv)\n",
    "\n",
    "# Input data files are available in the read-only \"../input/\" directory\n",
    "# For example, running this (by clicking run or pressing Shift+Enter) will list all files under the input directory\n",
    "\n",
    "import os\n",
    "for dirname, _, filenames in os.walk('/kaggle/input'):\n",
    "    for filename in filenames:\n",
    "        print(os.path.join(dirname, filename))\n",
    "\n",
    "# You can write up to 20GB to the current directory (/kaggle/working/) that gets preserved as output when you create a version using \"Save & Run All\" \n",
    "# You can also write temporary files to /kaggle/temp/, but they won't be saved outside of the current session"
   ]
  },
  {
   "cell_type": "code",
   "execution_count": null,
   "id": "50172ab9",
   "metadata": {},
   "outputs": [],
   "source": [
    "train_data = pd.read_csv(\"/kaggle/input/titanic/train.csv\")\n",
    "train_data.head()"
   ]
  },
  {
   "cell_type": "code",
   "execution_count": null,
   "id": "9bdd324b",
   "metadata": {},
   "outputs": [],
   "source": [
    "test_data = pd.read_csv(\"/kaggle/input/titanic/test.csv\")\n",
    "test_data.head()"
   ]
  },
  {
   "cell_type": "markdown",
   "id": "f36ed805",
   "metadata": {},
   "source": [
    "## Explore the Data"
   ]
  },
  {
   "cell_type": "code",
   "execution_count": null,
   "id": "aded87b0",
   "metadata": {},
   "outputs": [],
   "source": [
    "train_data.info()"
   ]
  },
  {
   "cell_type": "code",
   "execution_count": null,
   "id": "dd70642e",
   "metadata": {},
   "outputs": [],
   "source": [
    "test_data.info()"
   ]
  },
  {
   "cell_type": "code",
   "execution_count": null,
   "id": "15b39425",
   "metadata": {},
   "outputs": [],
   "source": [
    "train_data.describe()"
   ]
  },
  {
   "cell_type": "code",
   "execution_count": null,
   "id": "dad9dfd0",
   "metadata": {},
   "outputs": [],
   "source": [
    "train_data.hist(bins=10, figsize=(20,15))"
   ]
  },
  {
   "cell_type": "code",
   "execution_count": null,
   "id": "3d9562e0",
   "metadata": {},
   "outputs": [],
   "source": [
    "train_data.plot(kind='scatter', x='Age', y='Survived')"
   ]
  },
  {
   "cell_type": "markdown",
   "id": "35965e4b",
   "metadata": {},
   "source": [
    "### Looking for Correlations"
   ]
  },
  {
   "cell_type": "code",
   "execution_count": null,
   "id": "646552ec",
   "metadata": {},
   "outputs": [],
   "source": [
    "corr_matrix = train_data.corr()\n",
    "corr_matrix['Survived'].sort_values(ascending=False)"
   ]
  },
  {
   "cell_type": "code",
   "execution_count": null,
   "id": "f5190b89",
   "metadata": {},
   "outputs": [],
   "source": [
    "train_data['FamilySize'] = train_data['SibSp'] + train_data['Parch'] + 1\n",
    "test_data['FamilySize'] = test_data['SibSp'] + test_data['Parch'] + 1\n"
   ]
  },
  {
   "cell_type": "code",
   "execution_count": null,
   "id": "2c309f3f",
   "metadata": {},
   "outputs": [],
   "source": [
    "train_data.info()"
   ]
  },
  {
   "cell_type": "code",
   "execution_count": null,
   "id": "a0b5441a",
   "metadata": {},
   "outputs": [],
   "source": [
    "corr_matrix = train_data.corr()\n",
    "corr_matrix['Survived'].sort_values(ascending=False)"
   ]
  },
  {
   "cell_type": "markdown",
   "id": "0f5e37b9",
   "metadata": {},
   "source": [
    "### Fare\n"
   ]
  },
  {
   "cell_type": "code",
   "execution_count": null,
   "id": "d4c8230c",
   "metadata": {},
   "outputs": [],
   "source": [
    "#train_data['Fare'] = train_data.loc[train_data['Fare'] < 100]['Fare']\n",
    "train_data['Fare'].fillna(train_data['Fare'].median(), inplace=True)\n",
    "#test_data['Fare'] = test_data.loc[test_data['Fare'] < 100]['Fare']\n",
    "test_data['Fare'].fillna(test_data['Fare'].median(), inplace=True)\n"
   ]
  },
  {
   "cell_type": "code",
   "execution_count": null,
   "id": "ad29fb9b",
   "metadata": {},
   "outputs": [],
   "source": [
    "train_data.describe()"
   ]
  },
  {
   "cell_type": "code",
   "execution_count": null,
   "id": "b86a5ea2",
   "metadata": {},
   "outputs": [],
   "source": [
    "train_data.Fare.hist(bins=10)\n"
   ]
  },
  {
   "cell_type": "markdown",
   "id": "65a3edd2",
   "metadata": {},
   "source": [
    "### Sex"
   ]
  },
  {
   "cell_type": "code",
   "execution_count": null,
   "id": "a3f3f19f",
   "metadata": {},
   "outputs": [],
   "source": [
    "women = train_data.loc[train_data['Sex']=='female']['Survived']\n",
    "rate_women = sum(women)/len(women)\n",
    "\n",
    "print(\"% of women who survived:\", rate_women)"
   ]
  },
  {
   "cell_type": "code",
   "execution_count": null,
   "id": "0899a04b",
   "metadata": {},
   "outputs": [],
   "source": [
    "men = train_data.loc[train_data['Sex']=='male']['Survived']\n",
    "rate_men = sum(men)/len(men)\n",
    "\n",
    "print(\"% of men who survived:\", rate_men)"
   ]
  },
  {
   "cell_type": "code",
   "execution_count": null,
   "id": "b6aaf6f5",
   "metadata": {},
   "outputs": [],
   "source": [
    "# One-Hot encode Ticket\n",
    "train_data.Sex = pd.get_dummies(train_data.Sex)\n",
    "test_data.Sex = pd.get_dummies(test_data.Sex)"
   ]
  },
  {
   "cell_type": "markdown",
   "id": "8ea9e407",
   "metadata": {},
   "source": [
    "### Age\n"
   ]
  },
  {
   "cell_type": "code",
   "execution_count": null,
   "id": "31ea8928",
   "metadata": {},
   "outputs": [],
   "source": [
    "train_data['Age'].fillna(train_data['Age'].median(), inplace=True)\n",
    "test_data['Age'].fillna(test_data['Age'].median(), inplace=True)\n"
   ]
  },
  {
   "cell_type": "code",
   "execution_count": null,
   "id": "c2900739",
   "metadata": {},
   "outputs": [],
   "source": [
    "train_data['IsAlone'] = 0\n",
    "train_data.loc[train_data['FamilySize'] == 1, 'IsAlone'] = 1\n",
    "test_data['IsAlone'] = 0\n",
    "test_data.loc[test_data['FamilySize'] == 1, 'IsAlone'] = 1\n",
    "\n",
    "train_data['Age*Class'] = train_data.Age * train_data.Pclass\n",
    "test_data['Age*Class'] = test_data.Age * test_data.Pclass"
   ]
  },
  {
   "cell_type": "code",
   "execution_count": null,
   "id": "2cf3ee2b",
   "metadata": {},
   "outputs": [],
   "source": [
    "old = train_data.loc[train_data['Age'] > 45]['Survived']\n",
    "rate_old = sum(old)/len(old)\n",
    "\n",
    "print(\"% of old people who survived:\", rate_old)"
   ]
  },
  {
   "cell_type": "code",
   "execution_count": null,
   "id": "f201004a",
   "metadata": {},
   "outputs": [],
   "source": [
    "mid_age = train_data.loc[(train_data['Age'] <= 45) & (train_data['Age'] >= 15)]['Survived']\n",
    "rate_mid = sum(mid_age)/len(mid_age)\n",
    "\n",
    "print(\"% of middle aged people who survived:\", rate_mid)"
   ]
  },
  {
   "cell_type": "code",
   "execution_count": null,
   "id": "a0c6f597",
   "metadata": {},
   "outputs": [],
   "source": [
    "young = train_data.loc[train_data['Age'] < 15]['Survived']\n",
    "rate_young = sum(young)/len(young)\n",
    "\n",
    "print(\"% of young people who survived:\", rate_young)"
   ]
  },
  {
   "cell_type": "code",
   "execution_count": null,
   "id": "2c76e90b",
   "metadata": {},
   "outputs": [],
   "source": [
    "train_data['Age'] = pd.cut(train_data['Age'], bins=[0., 10., 25., 50, 80, np.inf], labels=[0,1,2,3,4]).astype(int)\n",
    "test_data['Age'] = pd.cut(test_data['Age'], bins=[0., 10., 25., 50, 80, np.inf], labels=[0,1,2,3,4]).astype(int)\n"
   ]
  },
  {
   "cell_type": "code",
   "execution_count": null,
   "id": "2baca906",
   "metadata": {},
   "outputs": [],
   "source": [
    "train_data.Age"
   ]
  },
  {
   "cell_type": "code",
   "execution_count": null,
   "id": "27153530",
   "metadata": {},
   "outputs": [],
   "source": [
    "# Missing Values \n",
    "\n",
    "print(train_data.isnull().sum())\n",
    "\n",
    "train_data[train_data.Embarked.isnull()]"
   ]
  },
  {
   "cell_type": "code",
   "execution_count": null,
   "id": "0e933a26",
   "metadata": {},
   "outputs": [],
   "source": [
    "pd.options.mode.chained_assignment = None  # default='warn'\n",
    "# Label Encoder\n",
    "from sklearn.preprocessing import LabelEncoder\n",
    "from sklearn.preprocessing import MinMaxScaler\n",
    "\n",
    "\n",
    "#label encoder can't handle missing values\n",
    "train_data.Embarked = train_data.Embarked.fillna('None')\n",
    "test_data.Embarked = test_data.Embarked.fillna('None')\n",
    "\n",
    "# Label encode Embarked \n",
    "label_encoder = LabelEncoder()\n",
    "train_data.Embarked = label_encoder.fit_transform(train_data.Embarked)\n",
    "test_data.Embarked = label_encoder.transform(test_data.Embarked)\n",
    "\n"
   ]
  },
  {
   "cell_type": "code",
   "execution_count": null,
   "id": "ce1edfd0",
   "metadata": {},
   "outputs": [],
   "source": [
    "corr_matrix = train_data.corr()\n",
    "corr_matrix['Survived'].sort_values(ascending=False)"
   ]
  },
  {
   "cell_type": "code",
   "execution_count": null,
   "id": "752ccfae",
   "metadata": {},
   "outputs": [],
   "source": [
    "y = train_data[\"Survived\"]\n",
    "\n",
    "features = [\"Pclass\", \"Sex\", \"Fare\", \"SibSp\", \"Parch\",\"FamilySize\", \"Embarked\", \"IsAlone\"]\n",
    "X = train_data[features]\n",
    "X_test = test_data[features]\n",
    "\n",
    "print(X)\n",
    "\n",
    "scoring_method = \"f1\"\n"
   ]
  },
  {
   "cell_type": "markdown",
   "id": "a1e146a5",
   "metadata": {},
   "source": [
    "# Modelling\n",
    "\n",
    "## Random Forest"
   ]
  },
  {
   "cell_type": "code",
   "execution_count": null,
   "id": "2b4a586c",
   "metadata": {},
   "outputs": [],
   "source": [
    "from sklearn.ensemble import RandomForestClassifier\n",
    "rf_model = RandomForestClassifier()\n",
    "\n",
    "rf_params ={\n",
    "    'bootstrap': [True, False],\n",
    "    'max_depth': [10, None],\n",
    "    'max_features': ['auto', 'sqrt'],\n",
    "    'min_samples_leaf': [1, 2, 4],\n",
    "    'min_samples_split': [2, 5, 10],\n",
    "    'n_estimators': [100]}\n",
    "\n",
    "rf_gs = GridSearchCV(rf_model, rf_params, scoring=scoring_method, cv=8, n_jobs=4)\n",
    "\n",
    "rf_gs.fit(X, y)\n",
    "print(rf_gs.best_params_)\n",
    "print(rf_gs.best_score_)"
   ]
  },
  {
   "cell_type": "code",
   "execution_count": null,
   "id": "2ac3e21f",
   "metadata": {},
   "outputs": [],
   "source": [
    "from sklearn.model_selection import cross_val_score\n",
    "\n",
    "cross_val_score(rf_gs, X, y, cv=5)"
   ]
  },
  {
   "cell_type": "code",
   "execution_count": null,
   "id": "fb2fdbf4",
   "metadata": {},
   "outputs": [],
   "source": [
    "predictions = random_forest.predict(X_test)\n",
    "\n",
    "output = pd.DataFrame({'PassengerId': test_data.PassengerId, 'Survived': predictions})\n",
    "output.to_csv('my_submission.csv', index=False)\n",
    "print(\"Your pipeline submission was successfully saved!\")"
   ]
  }
 ],
 "metadata": {},
 "nbformat": 4,
 "nbformat_minor": 5
}
