{
 "cells": [
  {
   "cell_type": "code",
   "execution_count": null,
   "id": "144dc62c",
   "metadata": {},
   "outputs": [],
   "source": [
    "#import all the necessary libraries\n",
    "\n",
    "import numpy as np\n",
    "import pandas as pd\n",
    "import matplotlib.pyplot as plt\n",
    "import tensorflow as tf\n"
   ]
  },
  {
   "cell_type": "markdown",
   "id": "8157e39e",
   "metadata": {},
   "source": [
    "# # #Read the Data "
   ]
  },
  {
   "cell_type": "code",
   "execution_count": null,
   "id": "03278244",
   "metadata": {},
   "outputs": [],
   "source": [
    "data = '../input/brain-mri-images-for-brain-tumor-detection/'\n",
    "No_brain_tumor = '../input/brain-mri-images-for-brain-tumor-detection/no/'\n",
    "Yes_brain_tumor = '../input/brain-mri-images-for-brain-tumor-detection/yes/'"
   ]
  },
  {
   "cell_type": "code",
   "execution_count": null,
   "id": "b9314553",
   "metadata": {},
   "outputs": [],
   "source": [
    "import os\n",
    "\n",
    "dir_list = [No_brain_tumor, Yes_brain_tumor]\n",
    "classes = ['No', 'Yes']\n",
    "filepaths = []\n",
    "labels = []\n",
    "\n",
    "for i,j in zip(dir_list, classes):\n",
    "    filelist = os.listdir(i)\n",
    "    for name in filelist:\n",
    "        filepath = os.path.join(i, name)\n",
    "        filepaths.append(filepath)\n",
    "        labels.append(j)\n",
    "        \n",
    "print('filepaths:', len(filepaths), 'labels:', len(labels))"
   ]
  },
  {
   "cell_type": "code",
   "execution_count": null,
   "id": "d51fe850",
   "metadata": {},
   "outputs": [],
   "source": [
    "file_content=pd.Series(filepaths, name='filepaths')\n",
    "label_content=pd.Series(labels, name='labels')\n",
    "df=pd.concat([file_content,label_content], axis=1)\n",
    "df=pd.DataFrame(np.array(df).reshape(253,2), columns = ['filepaths', 'labels'])\n",
    "df.head()"
   ]
  },
  {
   "cell_type": "code",
   "execution_count": null,
   "id": "cf31f0df",
   "metadata": {},
   "outputs": [],
   "source": [
    "print(df['labels'].value_counts())"
   ]
  },
  {
   "cell_type": "markdown",
   "id": "21c6724a",
   "metadata": {},
   "source": [
    "# # # Visualize the data"
   ]
  },
  {
   "cell_type": "code",
   "execution_count": null,
   "id": "fb699b61",
   "metadata": {},
   "outputs": [],
   "source": [
    "#visualize brain tumor images\n",
    "import cv2\n",
    "\n",
    "plt.figure(figsize=(10,8))\n",
    "for i in range(15):\n",
    "    random = np.random.randint(1,len(df))\n",
    "    plt.subplot(3,5,i+1)\n",
    "    plt.imshow(cv2.imread(df.loc[random,\"filepaths\"]))\n",
    "    plt.title(df.loc[random, \"labels\"], size = 15, color = \"white\") \n",
    "    plt.xticks([])\n",
    "    plt.yticks([])\n",
    "    \n",
    "plt.show()\n"
   ]
  },
  {
   "cell_type": "markdown",
   "id": "b7f55319",
   "metadata": {},
   "source": [
    "# # # Split the data"
   ]
  },
  {
   "cell_type": "code",
   "execution_count": null,
   "id": "194a3165",
   "metadata": {},
   "outputs": [],
   "source": [
    "from sklearn.model_selection import train_test_split\n",
    "\n",
    "x_train, x_test = train_test_split(df, test_size=0.2, random_state=42)\n",
    "x_train, x_val = train_test_split(x_train, test_size=0.2, random_state=42)\n",
    "\n",
    "print(f\"train set shape: {x_train.shape}\")\n",
    "print(f\"test set shape: {x_test.shape}\")\n",
    "print(f\"validation set shape: {x_val.shape}\")"
   ]
  },
  {
   "cell_type": "markdown",
   "id": "2e6020ef",
   "metadata": {},
   "source": [
    "# # # Data Augumentation"
   ]
  },
  {
   "cell_type": "code",
   "execution_count": null,
   "id": "3b7d1ae0",
   "metadata": {},
   "outputs": [],
   "source": [
    "from keras.preprocessing.image import ImageDataGenerator\n",
    "\n",
    "train_datagen = ImageDataGenerator(rescale = 1./255.,\n",
    "                                   rotation_range = 40,\n",
    "                                   width_shift_range = 0.2,\n",
    "                                   height_shift_range = 0.2, \n",
    "                                   shear_range = 0.2,\n",
    "                                   zoom_range = 0.2,\n",
    "                                   horizontal_flip = True,\n",
    "                                   fill_mode ='nearest')\n",
    "\n",
    "validation_datagen = ImageDataGenerator(rescale = 1.0/255.0)\n",
    "\n",
    "test_datagen = ImageDataGenerator(rescale = 1.0/255.)"
   ]
  },
  {
   "cell_type": "code",
   "execution_count": null,
   "id": "5495a728",
   "metadata": {},
   "outputs": [],
   "source": [
    "train_generator = train_datagen.flow_from_dataframe(dataframe = x_train,\n",
    "                                                   x_col = 'filepaths',\n",
    "                                                   y_col = 'labels',\n",
    "                                                   target_size=(150,150),\n",
    "                                                   class_mode='binary',\n",
    "                                                   batch_size=16)\n",
    "\n",
    "validation_generator = validation_datagen.flow_from_dataframe(dataframe = x_val,\n",
    "                                                             x_col = 'filepaths',\n",
    "                                                             y_col = 'labels',\n",
    "                                                             target_size = (150,150),\n",
    "                                                             class_mode='binary',\n",
    "                                                             batch_size=8)\n",
    "\n",
    "test_generator = test_datagen.flow_from_dataframe(dataframe = x_test,\n",
    "                                                  x_col = 'filepaths',\n",
    "                                                  y_col = 'labels',\n",
    "                                                  target_size = (150,150),\n",
    "                                                  class_mode='binary',\n",
    "                                                  batch_size=8)"
   ]
  },
  {
   "cell_type": "markdown",
   "id": "ae0f8b53",
   "metadata": {},
   "source": [
    "# # # Modelling"
   ]
  },
  {
   "cell_type": "markdown",
   "id": "3622adae",
   "metadata": {},
   "source": [
    "Lets do the transfer learning from the known model.\n",
    "\n",
    "\n",
    "Lets use the InceptionResNetv2 for the baseconvolution.\n"
   ]
  },
  {
   "cell_type": "code",
   "execution_count": null,
   "id": "ef26fdbd",
   "metadata": {},
   "outputs": [],
   "source": [
    "base_model = tf.keras.applications.InceptionResNetV2(weights='imagenet', \n",
    "                                                     input_shape = (150,150,3),\n",
    "                                                     include_top=False)\n",
    "\n",
    "\n",
    "model = tf.keras.models.Sequential()\n",
    "model.add(base_model)\n",
    "model.add(tf.keras.layers.Flatten())\n",
    "model.add(tf.keras.layers.Dense(1024, activation='relu'))\n",
    "model.add(tf.keras.layers.Dropout(0.2))\n",
    "model.add(tf.keras.layers.Dense(1, activation='sigmoid'))"
   ]
  },
  {
   "cell_type": "code",
   "execution_count": null,
   "id": "a133bb03",
   "metadata": {},
   "outputs": [],
   "source": [
    "model.summary()"
   ]
  },
  {
   "cell_type": "code",
   "execution_count": null,
   "id": "177c18a8",
   "metadata": {},
   "outputs": [],
   "source": [
    "from tensorflow.keras.optimizers import Adam\n",
    "\n",
    "model.compile(loss='binary_crossentropy',\n",
    "              optimizer=Adam(learning_rate = 0.0001), metrics=['accuracy'])\n"
   ]
  },
  {
   "cell_type": "code",
   "execution_count": null,
   "id": "a6597160",
   "metadata": {},
   "outputs": [],
   "source": [
    "history = model.fit(train_generator,\n",
    "                   epochs=30,\n",
    "                   steps_per_epoch=10,\n",
    "                   validation_data = validation_generator,\n",
    "                   validation_steps=6,\n",
    "                   verbose=1)"
   ]
  },
  {
   "cell_type": "code",
   "execution_count": null,
   "id": "a7aad203",
   "metadata": {},
   "outputs": [],
   "source": [
    "accuracy = history.history['accuracy']\n",
    "val_accuracy  = history.history['val_accuracy']\n",
    "\n",
    "loss = history.history['loss']\n",
    "val_loss = history.history['val_loss']\n",
    "\n",
    "plt.figure(figsize=(15,10))\n",
    "\n",
    "plt.subplot(2, 2, 1)\n",
    "plt.plot(accuracy, label = \"Training accuracy\")\n",
    "plt.plot(val_accuracy, label=\"Validation accuracy\")\n",
    "plt.legend()\n",
    "plt.title(\"Training vs validation accuracy\")\n",
    "\n",
    "\n",
    "plt.subplot(2,2,2)\n",
    "plt.plot(loss, label = \"Training loss\")\n",
    "plt.plot(val_loss, label=\"Validation loss\")\n",
    "plt.legend()\n",
    "plt.title(\"Training vs validation loss\")\n",
    "\n",
    "plt.show()"
   ]
  },
  {
   "cell_type": "code",
   "execution_count": null,
   "id": "7a3d2f1f",
   "metadata": {},
   "outputs": [],
   "source": [
    "test_accuracy = model.evaluate(test_generator)[1]"
   ]
  },
  {
   "cell_type": "code",
   "execution_count": null,
   "id": "5ad8ca41",
   "metadata": {},
   "outputs": [],
   "source": [
    "print(test_accuracy\n",
    "     )"
   ]
  },
  {
   "cell_type": "markdown",
   "id": "c9037548",
   "metadata": {},
   "source": [
    "**Accuracy of 92% has been achieved.**"
   ]
  },
  {
   "cell_type": "code",
   "execution_count": null,
   "id": "388d5d29",
   "metadata": {},
   "outputs": [],
   "source": [
    "pred = model.predict(test_generator)\n",
    "pred = np.argmax(pred, axis=1)\n",
    "labels = train_generator.class_indices\n",
    "labels = dict((v,k) for k,v in labels.items())\n",
    "y_pred = [labels[k] for k in pred]"
   ]
  },
  {
   "cell_type": "code",
   "execution_count": null,
   "id": "baca4287",
   "metadata": {},
   "outputs": [],
   "source": [
    "from sklearn.metrics import classification_report, confusion_matrix\n",
    "print(\"\\n The Classification report is \\n\")\n",
    "print(classification_report(x_test.labels, y_pred))\n",
    "print(\"\\n The Confusion Matrix is \\n\")\n",
    "print(confusion_matrix(x_test.labels, y_pred))"
   ]
  },
  {
   "cell_type": "code",
   "execution_count": null,
   "id": "91e62d55",
   "metadata": {},
   "outputs": [],
   "source": [
    "nan"
   ]
  }
 ],
 "metadata": {},
 "nbformat": 4,
 "nbformat_minor": 5
}
