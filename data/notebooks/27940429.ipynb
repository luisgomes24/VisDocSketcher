{
 "cells": [
  {
   "cell_type": "code",
   "execution_count": null,
   "id": "bf44d6b5",
   "metadata": {},
   "outputs": [],
   "source": [
    "import wandb, os\n",
    "\n",
    "from kaggle_secrets import UserSecretsClient\n",
    "user_secrets = UserSecretsClient()\n",
    "api_key = user_secrets.get_secret(\"wandb\")\n",
    "wandb.login(key=api_key)\n",
    "\n",
    "    \n",
    "def download_artifacts_from_wandb(experiment : str):\n",
    "    api = wandb.Api()\n",
    "    \n",
    "    try:\n",
    "        artifact = api.artifact(f\"gladiator/USPPPM-Kaggle/{experiment}:latest\", type=\"model\")\n",
    "    except:\n",
    "        artifact = api.artifact(f\"gladiator/USPPPM-Kaggle/{experiment}:v0\", type=\"model\")\n",
    "    artifact_dir = artifact.download(f\"/kaggle/working/{experiment}\")"
   ]
  },
  {
   "cell_type": "code",
   "execution_count": null,
   "id": "59f43935",
   "metadata": {},
   "outputs": [],
   "source": [
    "EXPERIMENTS = [\n",
    "    '169_google-electra-large-discriminator_pearson',\n",
    "    '170_funnel-transformer-large_mse',\n",
    "]"
   ]
  },
  {
   "cell_type": "code",
   "execution_count": null,
   "id": "247b8989",
   "metadata": {},
   "outputs": [],
   "source": [
    "for exp in EXPERIMENTS:\n",
    "    download_artifacts_from_wandb(exp)"
   ]
  },
  {
   "cell_type": "code",
   "execution_count": null,
   "id": "8a57c453",
   "metadata": {},
   "outputs": [],
   "source": [
    "!tree /kaggle/working"
   ]
  },
  {
   "cell_type": "code",
   "execution_count": null,
   "id": "68189201",
   "metadata": {},
   "outputs": [],
   "source": [
    "# get total size occupied by the artifacts in the output directory\n",
    "# ALLOWABLE SIZE IS -> 19.6 GB\n",
    "!du -sh /kaggle/working"
   ]
  },
  {
   "cell_type": "code",
   "execution_count": null,
   "id": "0062543c",
   "metadata": {},
   "outputs": [],
   "source": [
    "import shutil\n",
    "shutil.rmtree(\"/kaggle/working/wandb\", ignore_errors=True)"
   ]
  }
 ],
 "metadata": {},
 "nbformat": 4,
 "nbformat_minor": 5
}
