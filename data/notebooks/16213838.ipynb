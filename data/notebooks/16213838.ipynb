{
 "cells": [
  {
   "cell_type": "code",
   "execution_count": null,
   "id": "d8ae41e4",
   "metadata": {},
   "outputs": [],
   "source": [
    "# This Python 3 environment comes with many helpful analytics libraries installed\n",
    "# It is defined by the kaggle/python Docker image: https://github.com/kaggle/docker-python\n",
    "# For example, here's several helpful packages to load\n",
    "\n",
    "import numpy as np # linear algebra\n",
    "import pandas as pd # data processing, CSV file I/O (e.g. pd.read_csv)\n",
    "\n",
    "# Input data files are available in the read-only \"../input/\" directory\n",
    "# For example, running this (by clicking run or pressing Shift+Enter) will list all files under the input directory\n",
    "\n",
    "import os\n",
    "for dirname, _, filenames in os.walk('/kaggle/input'):\n",
    "    for filename in filenames:\n",
    "        print(os.path.join(dirname, filename))\n",
    "\n",
    "# You can write up to 20GB to the current directory (/kaggle/working/) that gets preserved as output when you create a version using \"Save & Run All\" \n",
    "# You can also write temporary files to /kaggle/temp/, but they won't be saved outside of the current session"
   ]
  },
  {
   "cell_type": "code",
   "execution_count": null,
   "id": "4c9ec70b",
   "metadata": {},
   "outputs": [],
   "source": [
    "import pandas as pd\n",
    "import matplotlib.pyplot as plt\n",
    "%matplotlib inline\n",
    "import seaborn as sns\n",
    "\n",
    "my_filepath = '../input/fivethirtyeight-comic-characters-dataset/dc-wikia-data.csv'\n",
    "my_data = pd.read_csv(my_filepath)"
   ]
  },
  {
   "cell_type": "code",
   "execution_count": null,
   "id": "d8f7f4a0",
   "metadata": {},
   "outputs": [],
   "source": [
    "# how many have secret identity and how many still alive\n",
    "\n",
    "ID = my_data.groupby(my_data['ID']).count()\n",
    "\n",
    "fig = plt.figure(figsize=(6,6))\n",
    "sns.barplot(x=ID.index, y=ID.page_id)\n",
    "plt.title('Secret vs Public Identity')\n",
    "plt.ylabel('Number of characters')\n",
    "fig.show()\n",
    "\n",
    "alive = my_data.groupby(my_data['ALIVE']).count()\n",
    "fig = plt.figure(figsize=(6,6))\n",
    "sns.barplot(x=alive.index, y=alive.page_id)\n",
    "plt.title('How many still alive?')\n",
    "plt.ylabel('Number of characters')\n",
    "fig.show()\n"
   ]
  },
  {
   "cell_type": "code",
   "execution_count": null,
   "id": "f3daf512",
   "metadata": {},
   "outputs": [],
   "source": [
    "# add a temp column to do easy sum\n",
    "my_data['temp'] = 1"
   ]
  },
  {
   "cell_type": "code",
   "execution_count": null,
   "id": "6821205a",
   "metadata": {},
   "outputs": [],
   "source": [
    "# visualize hair color and eye color distribution\n",
    "\n",
    "fig, ax = plt.subplots(1, 2, figsize=(18, 6))\n",
    "\n",
    "hair_count = my_data.groupby('HAIR').sum()\n",
    "ax[0].barh(y=hair_count.index, width=hair_count['temp'], color='blue')\n",
    "ax[0].set_title('Hair color')\n",
    "\n",
    "\n",
    "eye_count = my_data.groupby(['EYE']).sum()\n",
    "ax[1].bar(x=eye_count.index, height=eye_count['temp'], color='orange')\n",
    "ax[1].set_title('Eye Color')\n",
    "ax[1].set_xticklabels(my_data.EYE, rotation = 90)\n",
    "\n",
    "fig.show()"
   ]
  },
  {
   "cell_type": "code",
   "execution_count": null,
   "id": "73dacaf9",
   "metadata": {},
   "outputs": [],
   "source": [
    "# visualize character alignment and gender\n",
    "fig, ax = plt.subplots(1, 2, figsize=(12, 6))\n",
    "\n",
    "\n",
    "align_count = my_data.groupby(['ALIGN']).sum()\n",
    "ax[0].pie(align_count['temp'], labels=align_count.index)\n",
    "ax[0].set_title('Align')\n",
    "ax[0].legend(align_count.index.tolist(), loc='upper left')\n",
    "\n",
    "gender_count = my_data.groupby(['SEX']).sum()\n",
    "ax[1].pie(gender_count['temp'], labels=gender_count.index)\n",
    "ax[1].set_title('Gender')\n",
    "ax[1].legend(gender_count.index.tolist(), loc='lower right')\n",
    "\n",
    "fig.show()"
   ]
  },
  {
   "cell_type": "code",
   "execution_count": null,
   "id": "d09fcc9e",
   "metadata": {},
   "outputs": [],
   "source": [
    "# top 10 number of appearances and when they first appeared\n",
    "top_10 = my_data.sort_values(by='APPEARANCES', ascending=False).head(10)\n",
    "\n",
    "top_10.plot.bar(x='name', y='APPEARANCES', color = 'teal', figsize=(8,6))"
   ]
  },
  {
   "cell_type": "code",
   "execution_count": null,
   "id": "28c09fd5",
   "metadata": {},
   "outputs": [],
   "source": [
    "# how many characters appear per year\n",
    "per_year = my_data.groupby(my_data['YEAR']).count()\n",
    "\n",
    "fig = plt.figure(figsize=(12,10))\n",
    "plt.bar(x=per_year.index, height=per_year['name'])\n",
    "plt.ylabel('Number of characters')\n",
    "plt.title('Character Appearances by Year')\n",
    "fig.show()"
   ]
  }
 ],
 "metadata": {},
 "nbformat": 4,
 "nbformat_minor": 5
}
