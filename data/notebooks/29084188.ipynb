{
 "cells": [
  {
   "cell_type": "markdown",
   "id": "4fed8dcb",
   "metadata": {},
   "source": [
    "## 학습목표\n",
    " 1. list, tuple에 대해 이해 및 실습\n"
   ]
  },
  {
   "cell_type": "markdown",
   "id": "6173b767",
   "metadata": {},
   "source": [
    "### **리스트 & 튜플**\n",
    " * 복수개의 값을 담을 수 있는 데이터 구조\n",
    " * 실생활에서 사용하는 리스트(학생 리스트, 성적 리스트 등등)과 동일한 의미로 이해\n",
    " * list - mutable    (생성된 후에 변경 가능)  \n",
    " * tuple - immutable (생성된 후에 변경 불가능)  "
   ]
  },
  {
   "cell_type": "markdown",
   "id": "d70d4efc",
   "metadata": {},
   "source": [
    "#### **리스트 초기화**\n",
    " - [] 안에 값을 담아서 생성\n",
    " - list() 함수로 생성\n",
    " - str.split()함수로 생성"
   ]
  },
  {
   "cell_type": "markdown",
   "id": "6aac3483",
   "metadata": {},
   "source": [
    "* **list() 함수**\n",
    " + 다른 데이터 타입을 리스트로 변환할 때도 사용"
   ]
  },
  {
   "cell_type": "code",
   "execution_count": null,
   "id": "3e19eea7",
   "metadata": {},
   "outputs": [],
   "source": [
    "a = []\n",
    "print(a)"
   ]
  },
  {
   "cell_type": "code",
   "execution_count": null,
   "id": "bc16b06d",
   "metadata": {},
   "outputs": [],
   "source": [
    "a = [1,2,3,5,10]\n",
    "print(a)\n",
    "b = ['korea', 'china', '1', 23, [34, 56]]\n",
    "print(b)"
   ]
  },
  {
   "cell_type": "code",
   "execution_count": null,
   "id": "546f1e44",
   "metadata": {},
   "outputs": [],
   "source": [
    "a = 'hello world'\n",
    "b = list(a)\n",
    "print(b)\n",
    "\n",
    "c = (1, 2, 3)\n",
    "d = list(c)\n",
    "print(d)"
   ]
  },
  {
   "cell_type": "markdown",
   "id": "c8583570",
   "metadata": {},
   "source": [
    "+ **string split 함수**\n",
    " * 구분자로 구분되는 리스트를 반환 (빈번히 사용 됨)"
   ]
  },
  {
   "cell_type": "code",
   "execution_count": null,
   "id": "5f2c483f",
   "metadata": {},
   "outputs": [],
   "source": [
    "a = 'hello world nice weather'\n",
    "b = a.split('o')\n",
    "print(b)"
   ]
  },
  {
   "cell_type": "markdown",
   "id": "dad425f2",
   "metadata": {},
   "source": [
    "#### **리스트 indexing**\n",
    " * 문자열의 인덱싱과 동일하게 동작\n",
    " * [] 연산자를 이용하여 항목 얻어오기\n",
    " * [i] - i번째 원소를 반환\n",
    " * i가 음수인 경우도 가능하며 마지막원소가 -1로 하여 앞으로 갈때마다 1씩 감소함"
   ]
  },
  {
   "cell_type": "code",
   "execution_count": null,
   "id": "116133fa",
   "metadata": {},
   "outputs": [],
   "source": [
    "a = [1,2,3,4,5,6]\n",
    "print(a[2], a[5], a[-1])"
   ]
  },
  {
   "cell_type": "markdown",
   "id": "b2dde3bb",
   "metadata": {},
   "source": [
    "#### **리스트 개별 아이템에 접근**\n",
    " - 인덱스에 접근하여 값을 업데이트 가능"
   ]
  },
  {
   "cell_type": "code",
   "execution_count": null,
   "id": "9b1e459c",
   "metadata": {},
   "outputs": [],
   "source": [
    "a = 'hello world'\n",
    "print(a.replace('h', 'j'))\n",
    "\n",
    "b = [1,2,3,4,5]\n",
    "b[4] = 100\n",
    "b[-1] = 90\n",
    "print(b)"
   ]
  },
  {
   "cell_type": "markdown",
   "id": "e73ffd25",
   "metadata": {},
   "source": [
    "#### **리스트 slicing**\n",
    " - 문자열 슬라이싱과 동일하게 동작\n",
    " - 슬라이싱의 결과 역시 list!"
   ]
  },
  {
   "cell_type": "code",
   "execution_count": null,
   "id": "c4f45d2d",
   "metadata": {},
   "outputs": [],
   "source": [
    "a = [1,2,3,4,5,6,7,8]\n",
    "print(a[4:7])\n",
    "print(a[4:])\n",
    "print(a[:7])\n",
    "print(a[:])\n",
    "print(a)"
   ]
  },
  {
   "cell_type": "markdown",
   "id": "54db8ed0",
   "metadata": {},
   "source": [
    "### list 멤버 함수\n",
    " - 생성된 리스트 객체에 동작하는 함수\n",
    " - 향후, 클래스와 멤버 함수 개념을 이해할 예정"
   ]
  },
  {
   "cell_type": "markdown",
   "id": "b76f8db2",
   "metadata": {},
   "source": [
    "* **append()**\n",
    " + 리스트의 끝에 항목을 추가함"
   ]
  },
  {
   "cell_type": "code",
   "execution_count": null,
   "id": "9310e846",
   "metadata": {},
   "outputs": [],
   "source": [
    "a = [1,2,3,4,5]\n",
    "a.append(10)\n",
    "a"
   ]
  },
  {
   "cell_type": "markdown",
   "id": "f7357da7",
   "metadata": {},
   "source": [
    "+ **extend()**\n",
    " * 리스트를 연장\n",
    " * += 로도 가능함"
   ]
  },
  {
   "cell_type": "code",
   "execution_count": null,
   "id": "90a241c9",
   "metadata": {},
   "outputs": [],
   "source": [
    "a = [1,2,3]\n",
    "b = [4,5,6]\n",
    "c = a + b\n",
    "c"
   ]
  },
  {
   "cell_type": "markdown",
   "id": "e48835d6",
   "metadata": {},
   "source": [
    "+ **insert()로 항목추가**\n",
    " * 리스트의 원하는 위치에 추가 가능\n",
    " * 앞에 인덱스를, 뒤에 아이템을 명시"
   ]
  },
  {
   "cell_type": "code",
   "execution_count": null,
   "id": "df0988aa",
   "metadata": {},
   "outputs": [],
   "source": [
    "a = [1,3,4,5,6]\n",
    "a.insert(1, 40)\n",
    "print(a)"
   ]
  },
  {
   "cell_type": "markdown",
   "id": "751f5a1b",
   "metadata": {},
   "source": [
    "+ **remove()**\n",
    " * 값으로 항목 삭제"
   ]
  },
  {
   "cell_type": "code",
   "execution_count": null,
   "id": "382110ab",
   "metadata": {},
   "outputs": [],
   "source": [
    "a = [1,2,30,30,4,5]\n",
    "a.remove(30)\n",
    "a"
   ]
  },
  {
   "cell_type": "markdown",
   "id": "f419d8aa",
   "metadata": {},
   "source": [
    "+ **pop()**\n",
    "  - 지우고자 하는 아이템을 반환 후, 삭제"
   ]
  },
  {
   "cell_type": "code",
   "execution_count": null,
   "id": "87473cfc",
   "metadata": {},
   "outputs": [],
   "source": [
    "a = [1,2,3,4,5]\n",
    "b = [1,2,3,4,5]\n",
    "print(a.pop(2), b[2])\n",
    "print(a,b)"
   ]
  },
  {
   "cell_type": "markdown",
   "id": "7686d26a",
   "metadata": {},
   "source": [
    "+ **index()**\n",
    " * 찾고자 하는 값의 인덱스 반환"
   ]
  },
  {
   "cell_type": "code",
   "execution_count": null,
   "id": "6eb37077",
   "metadata": {},
   "outputs": [],
   "source": [
    "a = [2,6,7,9,10]\n",
    "a.index(9)"
   ]
  },
  {
   "cell_type": "markdown",
   "id": "b8731287",
   "metadata": {},
   "source": [
    "* **in 키워드**\n",
    " + 리스트 내에 해당 값이 존재하는지 확인\n",
    " + value in [list]\n",
    " + True, False 중 한가지로 반환"
   ]
  },
  {
   "cell_type": "code",
   "execution_count": null,
   "id": "8d54bc35",
   "metadata": {},
   "outputs": [],
   "source": [
    "a = [1,2,3,4,5,10]\n",
    "100 not in a, 10 in a"
   ]
  },
  {
   "cell_type": "markdown",
   "id": "a527c045",
   "metadata": {},
   "source": [
    "* **list 정렬**\n",
    " + sort() -> 리스트 자체를 내부적으로 정렬\n",
    " + sorted() -> 리스트의 정렬된 복사본을 반환"
   ]
  },
  {
   "cell_type": "code",
   "execution_count": null,
   "id": "a6913ce3",
   "metadata": {},
   "outputs": [],
   "source": [
    "a = [9, 10, 7, 19, 1, 2, 20, 21, 7, 8]\n",
    "a.sort(reverse=True)\n",
    "b = sorted(a)\n",
    "print(a)\n",
    "print(b)"
   ]
  },
  {
   "cell_type": "markdown",
   "id": "fd888d24",
   "metadata": {},
   "source": [
    "### **tuple**\n",
    " - 리스트와 같이 복수개의 값을 갖는 컬렉션 타입\n",
    " - 생성된 후 변경이 불가능"
   ]
  },
  {
   "cell_type": "code",
   "execution_count": null,
   "id": "9a10093a",
   "metadata": {},
   "outputs": [],
   "source": [
    "a = [1,2,3] # list\n",
    "b = (1,2,3) # tuple\n",
    "print(type(a), type(b))\n",
    "\n",
    "a[0] = 100\n",
    "# b[0] = 100\n",
    "print(a, b)"
   ]
  },
  {
   "cell_type": "markdown",
   "id": "afe84c19",
   "metadata": {},
   "source": [
    "#### **tuple unpacking**\n",
    " - 튜플의 값을 차례대로 변수에 대입"
   ]
  },
  {
   "cell_type": "code",
   "execution_count": null,
   "id": "914c70bd",
   "metadata": {},
   "outputs": [],
   "source": [
    "a = 10\n",
    "b = 100\n",
    "a, b = 10, 100\n",
    "print(a, b)"
   ]
  },
  {
   "cell_type": "markdown",
   "id": "e43f67e3",
   "metadata": {},
   "source": [
    "* **연습문제** a와 b의 값을 교환하시오"
   ]
  },
  {
   "cell_type": "code",
   "execution_count": null,
   "id": "9476558e",
   "metadata": {},
   "outputs": [],
   "source": [
    "a, b = b, a\n",
    "print(a, b)"
   ]
  },
  {
   "cell_type": "code",
   "execution_count": null,
   "id": "4bdd54a0",
   "metadata": {},
   "outputs": [],
   "source": [
    "nan"
   ]
  }
 ],
 "metadata": {},
 "nbformat": 4,
 "nbformat_minor": 5
}
