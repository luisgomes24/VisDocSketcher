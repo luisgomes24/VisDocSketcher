{
 "cells": [
  {
   "cell_type": "code",
   "execution_count": null,
   "id": "20325873",
   "metadata": {},
   "outputs": [],
   "source": [
    "# This Python 3 environment comes with many helpful analytics libraries installed\n",
    "# It is defined by the kaggle/python docker image: https://github.com/kaggle/docker-python\n",
    "# For example, here's several helpful packages to load in \n",
    "\n",
    "import numpy as np # linear algebra\n",
    "import pandas as pd # data processing, CSV file I/O (e.g. pd.read_csv)\n",
    "\n",
    "# Input data files are available in the \"../input/\" directory.\n",
    "# For example, running this (by clicking run or pressing Shift+Enter) will list all files under the input directory\n",
    "\n",
    "import os\n",
    "for dirname, _, filenames in os.walk('/kaggle/input'):\n",
    "    for filename in filenames:\n",
    "        print(os.path.join(dirname, filename))\n",
    "\n",
    "# Any results you write to the current directory are saved as output."
   ]
  },
  {
   "cell_type": "markdown",
   "id": "1be8f186",
   "metadata": {},
   "source": [
    "前処理"
   ]
  },
  {
   "cell_type": "code",
   "execution_count": null,
   "id": "14af69c2",
   "metadata": {},
   "outputs": [],
   "source": [
    "df_train = pd.read_csv('/kaggle/input/1056lab-fraud-detection-in-credit-card/train.csv', index_col=0)\n",
    "df_test = pd.read_csv('/kaggle/input/1056lab-fraud-detection-in-credit-card/test.csv', index_col=0)"
   ]
  },
  {
   "cell_type": "code",
   "execution_count": null,
   "id": "f7145f46",
   "metadata": {},
   "outputs": [],
   "source": [
    "df_train"
   ]
  },
  {
   "cell_type": "code",
   "execution_count": null,
   "id": "f6485e08",
   "metadata": {},
   "outputs": [],
   "source": [
    "df_test"
   ]
  },
  {
   "cell_type": "code",
   "execution_count": null,
   "id": "92098b67",
   "metadata": {},
   "outputs": [],
   "source": [
    "import seaborn as sns\n",
    "from matplotlib import pyplot\n",
    "\n",
    "sns.set_style(\"darkgrid\")\n",
    "pyplot.figure(figsize=(31, 31))\n",
    "sns.heatmap(df_train.corr(), square=True, annot=True)"
   ]
  },
  {
   "cell_type": "markdown",
   "id": "c76f5381",
   "metadata": {},
   "source": [
    "classと負の相関のあるものをピックアップ\n",
    "class=1が詐欺なので"
   ]
  },
  {
   "cell_type": "code",
   "execution_count": null,
   "id": "8a49f025",
   "metadata": {},
   "outputs": [],
   "source": [
    "df_train = df_train[['V3', 'V6', 'V7', 'V10', 'V12', 'V13', 'V16', 'V17', 'Amount', 'Class']]\n",
    "df_test = df_test[['V3', 'V6', 'V7', 'V10', 'V12', 'V13', 'V16', 'V17', 'Amount']]"
   ]
  },
  {
   "cell_type": "code",
   "execution_count": null,
   "id": "c75b91aa",
   "metadata": {},
   "outputs": [],
   "source": [
    "df_train"
   ]
  },
  {
   "cell_type": "code",
   "execution_count": null,
   "id": "1bec77b8",
   "metadata": {},
   "outputs": [],
   "source": [
    "df_test"
   ]
  },
  {
   "cell_type": "code",
   "execution_count": null,
   "id": "8a0ad01b",
   "metadata": {},
   "outputs": [],
   "source": [
    "from sklearn.decomposition import PCA\n",
    "\n",
    "X_train = df_train.drop('Class', axis=1).values  # 目的変数を除いてndarray化\n",
    "pca = PCA()  # 次元圧縮なし\n",
    "pca.fit(X_train) "
   ]
  },
  {
   "cell_type": "code",
   "execution_count": null,
   "id": "c0da8e71",
   "metadata": {},
   "outputs": [],
   "source": [
    "sns.set_style(\"darkgrid\")\n",
    "ev_ratio = pca.explained_variance_ratio_\n",
    "ev_ratio = np.hstack([0,ev_ratio.cumsum()])\n",
    "sns.lineplot(data=ev_ratio)"
   ]
  },
  {
   "cell_type": "code",
   "execution_count": null,
   "id": "e9f2dcac",
   "metadata": {},
   "outputs": [],
   "source": [
    "X_train = df_train.drop('Class', axis=1).values\n",
    "pca = PCA(n_components=2)  # 2次元\n",
    "pca.fit(X_train)  # 主成分分析\n",
    "X_train_pca = pca.transform(X_train) "
   ]
  },
  {
   "cell_type": "code",
   "execution_count": null,
   "id": "d562ff58",
   "metadata": {},
   "outputs": [],
   "source": [
    "df_train_pca = pd.DataFrame(X_train_pca, columns=['Comp. 1', 'Comp. 2'], index=df_train.index)\n",
    "df_train_pca['Class'] = df_train['Class']\n",
    "\n",
    "sns.set_style(\"darkgrid\")\n",
    "sns.relplot(data=df_train_pca, x='Comp. 1', y='Comp. 2', hue='Class')"
   ]
  },
  {
   "cell_type": "code",
   "execution_count": null,
   "id": "0dcb76b1",
   "metadata": {},
   "outputs": [],
   "source": [
    "from sklearn.svm import SVC\n",
    "X_train = df_train.drop('Class', axis=1).values\n",
    "y_train = df_train['Class'].values\n",
    "\n",
    "model = SVC()\n",
    "model.fit(X_train, y_train)"
   ]
  },
  {
   "cell_type": "code",
   "execution_count": null,
   "id": "12cc2ea2",
   "metadata": {},
   "outputs": [],
   "source": [
    "from sklearn.metrics import mean_squared_error\n",
    "predict = model.predict(X_train)\n",
    "mean_squared_error(predict, y_train)"
   ]
  },
  {
   "cell_type": "code",
   "execution_count": null,
   "id": "e98e9f5a",
   "metadata": {},
   "outputs": [],
   "source": [
    "X_test = df_test.values\n",
    "predict = model.predict(X_test)"
   ]
  },
  {
   "cell_type": "code",
   "execution_count": null,
   "id": "c12e0a5a",
   "metadata": {},
   "outputs": [],
   "source": [
    "X_test_pca = pca.transform(X_test)\n",
    "df_test_pca = pd.DataFrame(X_test_pca, columns=['Comp. 1', 'Comp. 2'])\n",
    "df_test_pca['Class'] = predict\n",
    "\n",
    "sns.set_style(\"darkgrid\")\n",
    "sns.relplot(data=df_test_pca, x='Comp. 1', y='Comp. 2', hue='Class')"
   ]
  },
  {
   "cell_type": "code",
   "execution_count": null,
   "id": "49405d5a",
   "metadata": {},
   "outputs": [],
   "source": [
    "submit = pd.read_csv('/kaggle/input/1056lab-fraud-detection-in-credit-card/sampleSubmission.csv')\n",
    "submit['Class'] = predict\n",
    "submit.to_csv('submission.csv', index=False)"
   ]
  },
  {
   "cell_type": "code",
   "execution_count": null,
   "id": "54441e53",
   "metadata": {},
   "outputs": [],
   "source": [
    "nan"
   ]
  }
 ],
 "metadata": {},
 "nbformat": 4,
 "nbformat_minor": 5
}
