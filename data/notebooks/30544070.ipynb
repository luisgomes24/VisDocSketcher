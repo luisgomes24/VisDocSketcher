{
 "cells": [
  {
   "cell_type": "code",
   "execution_count": null,
   "id": "f32002a1",
   "metadata": {},
   "outputs": [],
   "source": [
    "import pandas as pd\n",
    "import numpy as np"
   ]
  },
  {
   "cell_type": "markdown",
   "id": "fec860cc",
   "metadata": {},
   "source": [
    "# Data Exploration"
   ]
  },
  {
   "cell_type": "code",
   "execution_count": null,
   "id": "df824a47",
   "metadata": {},
   "outputs": [],
   "source": [
    "data=pd.read_csv(\"../input/salary-dataset/Salary.csv\")"
   ]
  },
  {
   "cell_type": "code",
   "execution_count": null,
   "id": "6c602741",
   "metadata": {},
   "outputs": [],
   "source": [
    "data.head()"
   ]
  },
  {
   "cell_type": "code",
   "execution_count": null,
   "id": "df8921bf",
   "metadata": {},
   "outputs": [],
   "source": [
    "data.columns"
   ]
  },
  {
   "cell_type": "code",
   "execution_count": null,
   "id": "b75323a9",
   "metadata": {},
   "outputs": [],
   "source": [
    "data.describe()"
   ]
  },
  {
   "cell_type": "code",
   "execution_count": null,
   "id": "0ea227a8",
   "metadata": {},
   "outputs": [],
   "source": [
    "data.isnull()"
   ]
  },
  {
   "cell_type": "code",
   "execution_count": null,
   "id": "66494673",
   "metadata": {},
   "outputs": [],
   "source": [
    "data.isnull().any()"
   ]
  },
  {
   "cell_type": "code",
   "execution_count": null,
   "id": "60061327",
   "metadata": {},
   "outputs": [],
   "source": [
    "data.isnull().sum()"
   ]
  },
  {
   "cell_type": "markdown",
   "id": "22e082e2",
   "metadata": {},
   "source": [
    "# Data Visualization"
   ]
  },
  {
   "cell_type": "code",
   "execution_count": null,
   "id": "7779471f",
   "metadata": {},
   "outputs": [],
   "source": [
    "import matplotlib.pyplot as plt\n",
    "import seaborn as sns"
   ]
  },
  {
   "cell_type": "code",
   "execution_count": null,
   "id": "a85d3746",
   "metadata": {},
   "outputs": [],
   "source": [
    "!pip install dataprep\n",
    "from dataprep.eda import plot, plot_correlation, create_report, plot_missing\n",
    "plot(data)"
   ]
  },
  {
   "cell_type": "code",
   "execution_count": null,
   "id": "7701a3ca",
   "metadata": {},
   "outputs": [],
   "source": [
    "plt.plot(data['Salary'],data['YearsExperience'])"
   ]
  },
  {
   "cell_type": "markdown",
   "id": "392cd6be",
   "metadata": {},
   "source": [
    "## displot"
   ]
  },
  {
   "cell_type": "code",
   "execution_count": null,
   "id": "27d7aaf1",
   "metadata": {},
   "outputs": [],
   "source": [
    "sns.displot(data, x=\"YearsExperience\")"
   ]
  },
  {
   "cell_type": "code",
   "execution_count": null,
   "id": "70fcfba2",
   "metadata": {},
   "outputs": [],
   "source": [
    "sns.displot(data, x=\"Salary\")"
   ]
  },
  {
   "cell_type": "code",
   "execution_count": null,
   "id": "6f1d7a0c",
   "metadata": {},
   "outputs": [],
   "source": [
    "sns.displot(data, x=\"Salary\", hue=\"YearsExperience\")"
   ]
  },
  {
   "cell_type": "markdown",
   "id": "5d6fcde4",
   "metadata": {},
   "source": [
    "## pairplot"
   ]
  },
  {
   "cell_type": "code",
   "execution_count": null,
   "id": "934beddb",
   "metadata": {},
   "outputs": [],
   "source": [
    "sns.pairplot(data)"
   ]
  },
  {
   "cell_type": "markdown",
   "id": "f7afa85b",
   "metadata": {},
   "source": [
    "## regplot"
   ]
  },
  {
   "cell_type": "code",
   "execution_count": null,
   "id": "f2718335",
   "metadata": {},
   "outputs": [],
   "source": [
    "sns.regplot(x=\"Salary\", y=\"YearsExperience\", data=data);"
   ]
  },
  {
   "cell_type": "markdown",
   "id": "5dd5714c",
   "metadata": {},
   "source": [
    "## lmplot"
   ]
  },
  {
   "cell_type": "code",
   "execution_count": null,
   "id": "12f204a9",
   "metadata": {},
   "outputs": [],
   "source": [
    "sns.lmplot(x=\"Salary\", y=\"YearsExperience\", data=data);"
   ]
  },
  {
   "cell_type": "code",
   "execution_count": null,
   "id": "967af2be",
   "metadata": {},
   "outputs": [],
   "source": [
    "data"
   ]
  },
  {
   "cell_type": "markdown",
   "id": "703b8868",
   "metadata": {},
   "source": [
    "# Train Test Split"
   ]
  },
  {
   "cell_type": "code",
   "execution_count": null,
   "id": "41f6e393",
   "metadata": {},
   "outputs": [],
   "source": [
    "from sklearn.model_selection import train_test_split\n",
    "x = data.drop('Salary',axis = 1)"
   ]
  },
  {
   "cell_type": "code",
   "execution_count": null,
   "id": "06e9ba59",
   "metadata": {},
   "outputs": [],
   "source": [
    "x"
   ]
  },
  {
   "cell_type": "code",
   "execution_count": null,
   "id": "781a92ad",
   "metadata": {},
   "outputs": [],
   "source": [
    "y=data['Salary']"
   ]
  },
  {
   "cell_type": "code",
   "execution_count": null,
   "id": "d3a8a679",
   "metadata": {},
   "outputs": [],
   "source": [
    "y.head()"
   ]
  },
  {
   "cell_type": "code",
   "execution_count": null,
   "id": "e385f92f",
   "metadata": {},
   "outputs": [],
   "source": [
    "xtrain, xtest, ytrain, ytest = train_test_split(x, y, test_size = 0.2, random_state = 42) \n"
   ]
  },
  {
   "cell_type": "markdown",
   "id": "51458e05",
   "metadata": {},
   "source": [
    "#  Linear Regression "
   ]
  },
  {
   "cell_type": "code",
   "execution_count": null,
   "id": "40c44605",
   "metadata": {},
   "outputs": [],
   "source": [
    "from sklearn.linear_model import LinearRegression \n",
    "\n",
    "L=LinearRegression()"
   ]
  },
  {
   "cell_type": "code",
   "execution_count": null,
   "id": "a996184f",
   "metadata": {},
   "outputs": [],
   "source": [
    "L.fit(xtrain,ytrain)"
   ]
  },
  {
   "cell_type": "code",
   "execution_count": null,
   "id": "af524f5e",
   "metadata": {},
   "outputs": [],
   "source": [
    "y_pred=L.predict(xtest)"
   ]
  },
  {
   "cell_type": "code",
   "execution_count": null,
   "id": "d824d19c",
   "metadata": {},
   "outputs": [],
   "source": [
    "print(L.score(xtest, ytest)) "
   ]
  }
 ],
 "metadata": {},
 "nbformat": 4,
 "nbformat_minor": 5
}
