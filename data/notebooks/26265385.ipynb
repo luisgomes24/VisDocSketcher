{
 "cells": [
  {
   "cell_type": "code",
   "execution_count": null,
   "id": "5c0b3b22",
   "metadata": {},
   "outputs": [],
   "source": [
    "# This Python 3 environment comes with many helpful analytics libraries installed\n",
    "# It is defined by the kaggle/python Docker image: https://github.com/kaggle/docker-python\n",
    "# For example, here's several helpful packages to load\n",
    "\n",
    "import numpy as np # linear algebra\n",
    "import pandas as pd # data processing, CSV file I/O (e.g. pd.read_csv)\n",
    "\n",
    "# Input data files are available in the read-only \"../input/\" directory\n",
    "# For example, running this (by clicking run or pressing Shift+Enter) will list all files under the input directory\n",
    "\n",
    "import os\n",
    "for dirname, _, filenames in os.walk('/kaggle/input'):\n",
    "    for filename in filenames:\n",
    "        print(os.path.join(dirname, filename))\n",
    "\n",
    "# You can write up to 20GB to the current directory (/kaggle/working/) that gets preserved as output when you create a version using \"Save & Run All\" \n",
    "# You can also write temporary files to /kaggle/temp/, but they won't be saved outside of the current session"
   ]
  },
  {
   "cell_type": "code",
   "execution_count": null,
   "id": "62fb1233",
   "metadata": {},
   "outputs": [],
   "source": [
    "import pandas as pd\n",
    "import numpy as sns\n",
    "import matplotlib.pyplot as plt\n",
    "import seaborn as sns\n",
    "colors = ['#B90276','#50237F', '#005691', '#008ECF','#E20015', '#00A8B0', '#78BE20', '#006249', '#525F6B']\n",
    "\n",
    "sns.set_palette(sns.color_palette(colors))\n"
   ]
  },
  {
   "cell_type": "code",
   "execution_count": null,
   "id": "77c61155",
   "metadata": {},
   "outputs": [],
   "source": [
    "df = pd.read_csv('/kaggle/input/personal-key-indicators-of-heart-disease/heart_2020_cleaned.csv')\n",
    "df = pd.DataFrame(df)\n",
    "df.head()"
   ]
  },
  {
   "cell_type": "code",
   "execution_count": null,
   "id": "8abda7fa",
   "metadata": {},
   "outputs": [],
   "source": [
    "df.info()"
   ]
  },
  {
   "cell_type": "code",
   "execution_count": null,
   "id": "79c1e1e2",
   "metadata": {},
   "outputs": [],
   "source": [
    "for col in df.columns:\n",
    "    print(col, '\\n', df[col].nunique(), '\\n')"
   ]
  },
  {
   "cell_type": "code",
   "execution_count": null,
   "id": "a140b8f0",
   "metadata": {},
   "outputs": [],
   "source": [
    "for col in df.columns:\n",
    "    print(col, '\\n', df[col].unique(), '\\n')"
   ]
  },
  {
   "cell_type": "code",
   "execution_count": null,
   "id": "8cef1bf1",
   "metadata": {},
   "outputs": [],
   "source": [
    "for col in df.columns:\n",
    "    print(col,  df[col].isnull().sum(), '\\n')"
   ]
  },
  {
   "cell_type": "code",
   "execution_count": null,
   "id": "0a125e95",
   "metadata": {},
   "outputs": [],
   "source": [
    "obj1 = df.select_dtypes(include = object).columns\n",
    "obj1"
   ]
  },
  {
   "cell_type": "code",
   "execution_count": null,
   "id": "cc0b5ab1",
   "metadata": {},
   "outputs": [],
   "source": [
    "i = 1\n",
    "plt.figure(figsize = (15,25))\n",
    "for col in obj1:\n",
    "    plt.subplot(6,3,i)\n",
    "    sns.countplot(x = 'Sex',hue = df[col] , data = df)\n",
    "    i +=1"
   ]
  },
  {
   "cell_type": "code",
   "execution_count": null,
   "id": "bbb6c955",
   "metadata": {},
   "outputs": [],
   "source": [
    "float1 = df.select_dtypes(exclude = object).columns\n",
    "float1"
   ]
  },
  {
   "cell_type": "code",
   "execution_count": null,
   "id": "cbe16fef",
   "metadata": {},
   "outputs": [],
   "source": [
    "i=1\n",
    "plt.figure(figsize=(15,15))\n",
    "for col in float1:\n",
    "    plt.subplot(3,2,i)\n",
    "    sns.boxplot(y=df[col], x = df['Race'])\n",
    "    i+=1"
   ]
  },
  {
   "cell_type": "code",
   "execution_count": null,
   "id": "f0626faf",
   "metadata": {},
   "outputs": [],
   "source": [
    "sns.pairplot(df, vars = float1, hue = 'Race')"
   ]
  },
  {
   "cell_type": "code",
   "execution_count": null,
   "id": "e47dec64",
   "metadata": {},
   "outputs": [],
   "source": [
    "i=1\n",
    "plt.figure(figsize=(15,15))\n",
    "for col in float1:\n",
    "    plt.subplot(3,2,i)\n",
    "    sns.kdeplot(x = df[col], hue = df['GenHealth'])\n",
    "    i+=1\n"
   ]
  },
  {
   "cell_type": "code",
   "execution_count": null,
   "id": "ae040e39",
   "metadata": {},
   "outputs": [],
   "source": [
    "g = sns.FacetGrid(df, col='PhysicalHealth', hue=\"GenHealth\", col_wrap=4)\n",
    "g.map(sns.kdeplot, 'SleepTime',alpha=.7)\n",
    "plt.figure(figsize=(15,7))\n",
    "g.add_legend()"
   ]
  },
  {
   "cell_type": "code",
   "execution_count": null,
   "id": "e38fb44d",
   "metadata": {},
   "outputs": [],
   "source": [
    "plt.figure(figsize=(7,7))\n",
    "sns.countplot(data=df,x=\"HeartDisease\")"
   ]
  },
  {
   "cell_type": "code",
   "execution_count": null,
   "id": "11f01413",
   "metadata": {},
   "outputs": [],
   "source": [
    "df['HeartDisease'].replace({'No':0,'Yes':1}, inplace=True)\n",
    "df['AgeCategory'].replace({'18-24':0,'25-29':1,'30-34':2,'35-39':3,'40-44':4,'45-49':5,'50-54':6,'55-59':7,'60-64':8,'65-69':9,'70-74':10,'75-79':11,'80 or older':12}, inplace=True)\n",
    "df['Smoking'].replace({'No':0,'Yes':1}, inplace=True)\n",
    "sns.boxplot(x=\"HeartDisease\", y=\"AgeCategory\",\n",
    "             palette=[\"m\", \"g\"],\n",
    "            data=df)"
   ]
  },
  {
   "cell_type": "code",
   "execution_count": null,
   "id": "6ff0aaf3",
   "metadata": {},
   "outputs": [],
   "source": [
    "sns.boxplot(x=\"HeartDisease\", y=\"Smoking\",\n",
    "             palette=[\"m\", \"g\"],\n",
    "            data=df)"
   ]
  },
  {
   "cell_type": "code",
   "execution_count": null,
   "id": "b8ada34e",
   "metadata": {},
   "outputs": [],
   "source": [
    "plt.figure(figsize=(20,7))\n",
    "sns.barplot(data=df,x=\"HeartDisease\",y=\"PhysicalHealth\",hue=\"Smoking\")"
   ]
  },
  {
   "cell_type": "code",
   "execution_count": null,
   "id": "120802d8",
   "metadata": {},
   "outputs": [],
   "source": [
    "num_race = df['Race'].value_counts()\n",
    "num_race.plot(kind='pie', autopct='%.2f', figsize=(6, 6))"
   ]
  },
  {
   "cell_type": "code",
   "execution_count": null,
   "id": "917734cd",
   "metadata": {},
   "outputs": [],
   "source": [
    "num_male_female = df['Sex'].value_counts()\n",
    "num_male_female.plot(kind='pie', autopct='%.2f', figsize=(6, 6))"
   ]
  },
  {
   "cell_type": "code",
   "execution_count": null,
   "id": "4868f41c",
   "metadata": {},
   "outputs": [],
   "source": [
    "plt.figure(figsize=(15,7))\n",
    "sns.countplot(data=df,x=\"AgeCategory\")"
   ]
  }
 ],
 "metadata": {},
 "nbformat": 4,
 "nbformat_minor": 5
}
