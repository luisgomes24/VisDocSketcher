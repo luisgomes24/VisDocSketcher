{
 "cells": [
  {
   "cell_type": "markdown",
   "id": "79da932f",
   "metadata": {},
   "source": [
    "Here we can find correlatins of biotech stocks data, correlated pairs can be used for arbitrage trading strategy. "
   ]
  },
  {
   "cell_type": "code",
   "execution_count": null,
   "id": "d5818382",
   "metadata": {},
   "outputs": [],
   "source": [
    "import numpy as np\n",
    "import pandas as pd\n",
    "!pip install yfinance\n",
    "!pip install openpyxl"
   ]
  },
  {
   "cell_type": "code",
   "execution_count": null,
   "id": "f3fb1a07",
   "metadata": {},
   "outputs": [],
   "source": [
    "#scraping historical data\n",
    "import yfinance as yf\n",
    "historical_data={}\n",
    "biotech_tickers_nasdaq=pd.read_excel('../input/completelistofforeignbiotechstocks/Complete-List-of-Biotech-Stocks-on-NASDAQ-Oct-3-2021.xlsx')['Ticker'][:827]\n",
    "for i in biotech_tickers_nasdaq:\n",
    "  ticker = yf.Ticker(i)\n",
    "  hist = ticker.history(period=\"max\")\n",
    "  historical_data[i]=hist.reset_index()"
   ]
  },
  {
   "cell_type": "code",
   "execution_count": null,
   "id": "a4082b87",
   "metadata": {},
   "outputs": [],
   "source": [
    "#correlation swing (+0.1 -0.1 )\n",
    "corr=0.1\n",
    "#ratio of days when correlation observed (90% by default)\n",
    "cases_ratio=0.9\n",
    "\n",
    "tickers=list(biotech_tickers_nasdaq)\n",
    "correlation_list=[]\n",
    "for i in tickers:\n",
    "    df=historical_data[i].copy()\n",
    "    tickeers_rem=tickers.copy()\n",
    "    tickeers_rem.remove(i)\n",
    "    for a in tickeers_rem: \n",
    "        df2=historical_data[a].copy()\n",
    "        df2.columns=[\"Close_2\" if df2.columns[i]==\"Close\" else df2.columns[i] for i in range(len(df2.columns)) ]\n",
    "        df3=pd.DataFrame()\n",
    "        df3=pd.merge(df, df2, on=['Date'], how='inner')\n",
    "        df3['koef']=df3['Close']/df3[\"Close_2\"]\n",
    "        df3['Test']=[i<1+corr and i>1-corr for i in df3['koef']]\n",
    "        if df3['Test'].sum()>cases_ratio*len(df3['Test']):\n",
    "            block=[a,i,df3['Test'].sum(),cases_ratio*len(df3['Test'])]\n",
    "            correlation_list.append(block)"
   ]
  },
  {
   "cell_type": "code",
   "execution_count": null,
   "id": "18777e0a",
   "metadata": {},
   "outputs": [],
   "source": [
    "correlation_list"
   ]
  }
 ],
 "metadata": {},
 "nbformat": 4,
 "nbformat_minor": 5
}
