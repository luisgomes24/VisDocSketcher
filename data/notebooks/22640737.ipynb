{
 "cells": [
  {
   "cell_type": "code",
   "execution_count": null,
   "id": "c882110d",
   "metadata": {},
   "outputs": [],
   "source": [
    "!pip install dataprep -q"
   ]
  },
  {
   "cell_type": "code",
   "execution_count": null,
   "id": "cb8d1b77",
   "metadata": {},
   "outputs": [],
   "source": [
    "import pandas as pd\n",
    "df=pd.read_csv('../input/1000000-bandcamp-sales/1000000-bandcamp-sales.csv')\n",
    "df"
   ]
  },
  {
   "cell_type": "code",
   "execution_count": null,
   "id": "429f8aa8",
   "metadata": {},
   "outputs": [],
   "source": [
    "from dataprep.eda import plot, plot_correlation, create_report, plot_missing"
   ]
  },
  {
   "cell_type": "code",
   "execution_count": null,
   "id": "d0224be0",
   "metadata": {},
   "outputs": [],
   "source": [
    "plot(df)"
   ]
  },
  {
   "cell_type": "code",
   "execution_count": null,
   "id": "41eb94aa",
   "metadata": {},
   "outputs": [],
   "source": [
    "create_report(df)"
   ]
  },
  {
   "cell_type": "code",
   "execution_count": null,
   "id": "d3b94493",
   "metadata": {},
   "outputs": [],
   "source": [
    "nan"
   ]
  }
 ],
 "metadata": {},
 "nbformat": 4,
 "nbformat_minor": 5
}
