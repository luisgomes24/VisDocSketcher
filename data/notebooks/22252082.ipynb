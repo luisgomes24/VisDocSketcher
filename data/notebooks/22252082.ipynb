{
 "cells": [
  {
   "cell_type": "markdown",
   "id": "a2a074e8",
   "metadata": {},
   "source": [
    "\n",
    "**Created by Sanskar Hasija**\n",
    "\n",
    "**Keras-OCR VS EasyOCR VS PYTESSERACT**\n",
    "\n",
    "**24 August 2021**\n"
   ]
  },
  {
   "cell_type": "markdown",
   "id": "ef8bcc5e",
   "metadata": {},
   "source": [
    "# <center> Keras-OCR VS EasyOCR VS PYTESSERACT </center>"
   ]
  },
  {
   "cell_type": "markdown",
   "id": "c5ce87ab",
   "metadata": {},
   "source": [
    "### [1. KERAS-OCR](#kerasocr) ###\n",
    "### [2. EASYOCR](#easyocr) ###\n",
    "### [3. PYTESSERACT](#pytesseract) ###\n",
    "##    [Conclusions](#conclusions) ##"
   ]
  },
  {
   "cell_type": "markdown",
   "id": "e59ed995",
   "metadata": {},
   "source": [
    "## Installing Keras-ocr"
   ]
  },
  {
   "cell_type": "code",
   "execution_count": null,
   "id": "41a4b1c9",
   "metadata": {},
   "outputs": [],
   "source": [
    "from IPython.display import clear_output\n",
    "!pip install keras-ocr\n",
    "clear_output()"
   ]
  },
  {
   "cell_type": "markdown",
   "id": "d5d92a7a",
   "metadata": {},
   "source": [
    "## IMPORTS"
   ]
  },
  {
   "cell_type": "code",
   "execution_count": null,
   "id": "116c9204",
   "metadata": {},
   "outputs": [],
   "source": [
    "import pytesseract\n",
    "import keras_ocr\n",
    "import easyocr\n",
    "import matplotlib.pyplot as plt\n",
    "import cv2\n",
    "%matplotlib inline"
   ]
  },
  {
   "cell_type": "markdown",
   "id": "6bd07dcf",
   "metadata": {},
   "source": [
    "## TEST IMAGES"
   ]
  },
  {
   "cell_type": "code",
   "execution_count": null,
   "id": "de554f5b",
   "metadata": {},
   "outputs": [],
   "source": [
    "url = [\n",
    "    \"https://raw.githubusercontent.com/sanskar-hasija/ocr-comparision/main/test_images/image1.png\",\n",
    "    \"https://raw.githubusercontent.com/sanskar-hasija/ocr-comparision/main/test_images/image2.png\",\n",
    "    \"https://raw.githubusercontent.com/sanskar-hasija/ocr-comparision/main/test_images/image3.png\",\n",
    "    \"https://raw.githubusercontent.com/sanskar-hasija/ocr-comparision/main/test_images/image4.png\"\n",
    "]\n",
    "images = [ keras_ocr.tools.read(i) for i in url]"
   ]
  },
  {
   "cell_type": "code",
   "execution_count": null,
   "id": "4b4aa72f",
   "metadata": {},
   "outputs": [],
   "source": [
    "fig = plt.figure(figsize=(16,10))\n",
    "rows = 2\n",
    "columns = 2\n",
    "\n",
    "fig.add_subplot(rows, columns, 1)\n",
    "plt.imshow(images[0])\n",
    "plt.axis('off')\n",
    "plt.title(\"First Image\")\n",
    "\n",
    "fig.add_subplot(rows, columns, 2)\n",
    "plt.imshow(images[1])\n",
    "plt.axis('off')\n",
    "plt.title(\"Second Image\")\n",
    "\n",
    "fig.add_subplot(rows, columns, 3)\n",
    "plt.imshow(images[2])\n",
    "plt.axis('off')\n",
    "plt.title(\"Third Image\")\n",
    "\n",
    "fig.add_subplot(rows, columns, 4)\n",
    "plt.imshow(images[3])\n",
    "plt.axis('off')\n",
    "plt.title(\"Fourth Image\");"
   ]
  },
  {
   "cell_type": "markdown",
   "id": "6973b8ad",
   "metadata": {},
   "source": [
    "<a id=\"kerasocr\"></a>\n",
    "# KERAS_OCR"
   ]
  },
  {
   "cell_type": "code",
   "execution_count": null,
   "id": "f304dee5",
   "metadata": {},
   "outputs": [],
   "source": [
    "pipline = keras_ocr.pipeline.Pipeline() #Creting a pipline \n",
    "kerasocr_preds = pipline.recognize(images)"
   ]
  },
  {
   "cell_type": "markdown",
   "id": "db7237a4",
   "metadata": {},
   "source": [
    "### Keras-ocr plots boxes of detected text with annotations on the input image."
   ]
  },
  {
   "cell_type": "markdown",
   "id": "98edfaa6",
   "metadata": {},
   "source": [
    "## Results of Keras-OCR"
   ]
  },
  {
   "cell_type": "code",
   "execution_count": null,
   "id": "0e4e73b1",
   "metadata": {},
   "outputs": [],
   "source": [
    "fig,axs = plt.subplots(nrows = 4 , figsize = (30,30))\n",
    "for ax , image,  prediction in zip(axs , images , kerasocr_preds):\n",
    "    keras_ocr.tools.drawAnnotations(image, prediction, ax)"
   ]
  },
  {
   "cell_type": "markdown",
   "id": "2a09c02f",
   "metadata": {},
   "source": [
    "<a id=\"easyocr\"></a>\n",
    "# EASYOCR"
   ]
  },
  {
   "cell_type": "code",
   "execution_count": null,
   "id": "a0c03acf",
   "metadata": {},
   "outputs": [],
   "source": [
    "text_reader = easyocr.Reader(['en']) #Initialzing the ocr"
   ]
  },
  {
   "cell_type": "markdown",
   "id": "9139b2e6",
   "metadata": {},
   "source": [
    "## Results of EASY OCR"
   ]
  },
  {
   "cell_type": "markdown",
   "id": "ff805ebc",
   "metadata": {},
   "source": [
    "### First Image"
   ]
  },
  {
   "cell_type": "code",
   "execution_count": null,
   "id": "d695d5e0",
   "metadata": {},
   "outputs": [],
   "source": [
    "results = text_reader.readtext(images[0] )\n",
    "for (bbox, text, prob) in results:\n",
    "    print(text)\n",
    "plt.imshow(images[0])\n",
    "plt.title(\"First Image\");"
   ]
  },
  {
   "cell_type": "markdown",
   "id": "5f6168dc",
   "metadata": {},
   "source": [
    "### Second Image"
   ]
  },
  {
   "cell_type": "code",
   "execution_count": null,
   "id": "8ed92b30",
   "metadata": {},
   "outputs": [],
   "source": [
    "results = text_reader.readtext(images[1] )\n",
    "for (bbox, text, prob) in results:\n",
    "    print(text)\n",
    "plt.imshow(images[1])\n",
    "plt.title(\"Second Image\");"
   ]
  },
  {
   "cell_type": "markdown",
   "id": "036a9356",
   "metadata": {},
   "source": [
    "### Third Image"
   ]
  },
  {
   "cell_type": "code",
   "execution_count": null,
   "id": "bdc11d9b",
   "metadata": {},
   "outputs": [],
   "source": [
    "results = text_reader.readtext(images[2] )\n",
    "for (bbox, text, prob) in results:\n",
    "    print(text)\n",
    "plt.imshow(images[2])\n",
    "plt.title(\"Third Image\");"
   ]
  },
  {
   "cell_type": "markdown",
   "id": "04a61a85",
   "metadata": {},
   "source": [
    "### Fourth Image"
   ]
  },
  {
   "cell_type": "code",
   "execution_count": null,
   "id": "ab996696",
   "metadata": {},
   "outputs": [],
   "source": [
    "results = text_reader.readtext(images[3] )\n",
    "for (bbox, text, prob) in results:\n",
    "    print(text)\n",
    "plt.imshow(images[3])\n",
    "plt.title(\"Fourth Image\");"
   ]
  },
  {
   "cell_type": "markdown",
   "id": "b10fcc29",
   "metadata": {},
   "source": [
    "<a id=\"pytesseract\"></a>\n",
    "# Pytesseract"
   ]
  },
  {
   "cell_type": "code",
   "execution_count": null,
   "id": "ecdba7ef",
   "metadata": {},
   "outputs": [],
   "source": [
    "tesseract_preds = []\n",
    "for img in images:\n",
    "    tesseract_preds.append(pytesseract.image_to_string(img))"
   ]
  },
  {
   "cell_type": "markdown",
   "id": "863f241b",
   "metadata": {},
   "source": [
    "##  Results of Pytesseract"
   ]
  },
  {
   "cell_type": "markdown",
   "id": "a74ad0b3",
   "metadata": {},
   "source": [
    "### Image 1 "
   ]
  },
  {
   "cell_type": "code",
   "execution_count": null,
   "id": "eaca1a22",
   "metadata": {},
   "outputs": [],
   "source": [
    "print(tesseract_preds[0])\n",
    "plt.imshow(images[0])\n",
    "plt.title(\"First Image\");"
   ]
  },
  {
   "cell_type": "markdown",
   "id": "2c5f72f3",
   "metadata": {},
   "source": [
    "### Image 2"
   ]
  },
  {
   "cell_type": "code",
   "execution_count": null,
   "id": "a3e134d6",
   "metadata": {},
   "outputs": [],
   "source": [
    "print(tesseract_preds[1])\n",
    "plt.imshow(images[1])\n",
    "plt.title(\"Second Image\");"
   ]
  },
  {
   "cell_type": "markdown",
   "id": "64c39377",
   "metadata": {},
   "source": [
    "## Image 3"
   ]
  },
  {
   "cell_type": "code",
   "execution_count": null,
   "id": "2e95ab75",
   "metadata": {},
   "outputs": [],
   "source": [
    "print(tesseract_preds[2])\n",
    "plt.imshow(images[2])\n",
    "plt.title(\"Third Image\");"
   ]
  },
  {
   "cell_type": "markdown",
   "id": "dd098456",
   "metadata": {},
   "source": [
    "## Image 4"
   ]
  },
  {
   "cell_type": "code",
   "execution_count": null,
   "id": "359f349d",
   "metadata": {},
   "outputs": [],
   "source": [
    "print(tesseract_preds[3])\n",
    "plt.imshow(images[3])\n",
    "plt.title(\"Fourth Image\");"
   ]
  },
  {
   "cell_type": "markdown",
   "id": "9e8e6438",
   "metadata": {},
   "source": [
    "<a id=\"conclusions\"></a>\n",
    "# CONCLUSIONS"
   ]
  },
  {
   "cell_type": "markdown",
   "id": "1eacf922",
   "metadata": {},
   "source": [
    "### * Keras-OCR is image specific OCR tool. If text is inside the image and their fonts and colors are unorganized, Keras-ocr consumes time if used on CPU\n",
    "### * EasyOCR is lightweight model which is giving a good performance for receipt or PDF conversion. It is giving more accurate results with organized texts like pdf files, receipts, bills. EasyOCR also performs well on noisy images\n",
    "### * Pytesseract is performing well for high-resolution images. Certain morphological operations such as dilation, erosion, OTSU binarization can help increase pytesseract performance. It also provides better results on handwritten text as compared to EasyOCR\n",
    "### * All these results can be further improved by performing specific image operations."
   ]
  },
  {
   "cell_type": "markdown",
   "id": "d35fa306",
   "metadata": {},
   "source": [
    "# <center>If you find this notebook useful, support with an upvote!</center>"
   ]
  }
 ],
 "metadata": {},
 "nbformat": 4,
 "nbformat_minor": 5
}
