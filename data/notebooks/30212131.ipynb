{
 "cells": [
  {
   "cell_type": "code",
   "execution_count": null,
   "id": "efa9af72",
   "metadata": {},
   "outputs": [],
   "source": [
    "# This Python 3 environment comes with many helpful analytics libraries installed\n",
    "# It is defined by the kaggle/python Docker image: https://github.com/kaggle/docker-python\n",
    "# For example, here's several helpful packages to load\n",
    "\n",
    "import numpy as np # linear algebra\n",
    "import pandas as pd # data processing, CSV file I/O (e.g. pd.read_csv)\n",
    "import matplotlib.pyplot as plt\n",
    "import plotly.express as px\n",
    "import pandas_profiling\n",
    "import seaborn as sns\n",
    "\n",
    "# Input data files are available in the read-only \"../input/\" directory\n",
    "# For example, running this (by clicking run or pressing Shift+Enter) will list all files under the input directory\n",
    "\n",
    "import os\n",
    "for dirname, _, filenames in os.walk('/kaggle/input'):\n",
    "    for filename in filenames:\n",
    "        print(os.path.join(dirname, filename))\n",
    "\n",
    "# You can write up to 20GB to the current directory (/kaggle/working/) that gets preserved as output when you create a version using \"Save & Run All\" \n",
    "# You can also write temporary files to /kaggle/temp/, but they won't be saved outside of the current session"
   ]
  },
  {
   "cell_type": "code",
   "execution_count": null,
   "id": "22e66bd8",
   "metadata": {},
   "outputs": [],
   "source": [
    "df=pd.read_csv('../input/netflix-shows/netflix_titles.csv')"
   ]
  },
  {
   "cell_type": "code",
   "execution_count": null,
   "id": "23fc7c11",
   "metadata": {},
   "outputs": [],
   "source": [
    "df.profile_report()"
   ]
  },
  {
   "cell_type": "code",
   "execution_count": null,
   "id": "278a80d8",
   "metadata": {},
   "outputs": [],
   "source": [
    "df.shape"
   ]
  },
  {
   "cell_type": "code",
   "execution_count": null,
   "id": "48719424",
   "metadata": {},
   "outputs": [],
   "source": [
    "df.info()"
   ]
  },
  {
   "cell_type": "code",
   "execution_count": null,
   "id": "722112ce",
   "metadata": {},
   "outputs": [],
   "source": [
    "df.head()"
   ]
  },
  {
   "cell_type": "code",
   "execution_count": null,
   "id": "c788b23f",
   "metadata": {},
   "outputs": [],
   "source": [
    "df.nunique()"
   ]
  },
  {
   "cell_type": "code",
   "execution_count": null,
   "id": "aa557230",
   "metadata": {},
   "outputs": [],
   "source": [
    "df['type'].unique()"
   ]
  },
  {
   "cell_type": "code",
   "execution_count": null,
   "id": "8d86c2e8",
   "metadata": {},
   "outputs": [],
   "source": [
    "df['director']=df['director'].fillna('No Director Specified')"
   ]
  },
  {
   "cell_type": "code",
   "execution_count": null,
   "id": "1a4c6aad",
   "metadata": {},
   "outputs": [],
   "source": [
    "df= df.dropna()"
   ]
  },
  {
   "cell_type": "code",
   "execution_count": null,
   "id": "bb4271a1",
   "metadata": {},
   "outputs": [],
   "source": [
    "df_movie = df.loc[df['type']=='Movie']\n",
    "df_movie"
   ]
  },
  {
   "cell_type": "code",
   "execution_count": null,
   "id": "8145135b",
   "metadata": {},
   "outputs": [],
   "source": [
    "df_movie.info()"
   ]
  },
  {
   "cell_type": "code",
   "execution_count": null,
   "id": "f8b7a864",
   "metadata": {},
   "outputs": [],
   "source": [
    "df_TVshow = df.loc[df['type']=='TV Show']\n",
    "df_TVshow"
   ]
  },
  {
   "cell_type": "code",
   "execution_count": null,
   "id": "e20a6efe",
   "metadata": {},
   "outputs": [],
   "source": [
    "df_movie.nunique()"
   ]
  },
  {
   "cell_type": "code",
   "execution_count": null,
   "id": "3d6b422e",
   "metadata": {},
   "outputs": [],
   "source": [
    "df_movie.isna().sum()"
   ]
  },
  {
   "cell_type": "code",
   "execution_count": null,
   "id": "670b109c",
   "metadata": {},
   "outputs": [],
   "source": [
    "df_movie['duration'] = df_movie['duration'].str.replace('min', '').astype(int)\n",
    "df_movie['duration'].dropna().reset_index(name='counts').astype(int)"
   ]
  },
  {
   "cell_type": "code",
   "execution_count": null,
   "id": "d6af401e",
   "metadata": {},
   "outputs": [],
   "source": [
    "df_movie.describe()"
   ]
  },
  {
   "cell_type": "code",
   "execution_count": null,
   "id": "c8e916b8",
   "metadata": {},
   "outputs": [],
   "source": [
    "df_TVshow['duration'] = df_TVshow['duration'].str.replace(' Seasons','')\n",
    "df_TVshow['duration'] = df_TVshow['duration'].str.replace(' Season','').astype(int)\n",
    "df_TVshow['duration'].astype(int)"
   ]
  },
  {
   "cell_type": "markdown",
   "id": "701d3e1a",
   "metadata": {},
   "source": [
    "# **Movies on Netflix**"
   ]
  },
  {
   "cell_type": "code",
   "execution_count": null,
   "id": "89b3efa1",
   "metadata": {},
   "outputs": [],
   "source": [
    "fig = px.scatter(df_movie, x=\"release_year\", y=\"duration\", color=\"duration\", hover_data=['title'])\n",
    "fig.show()"
   ]
  },
  {
   "cell_type": "code",
   "execution_count": null,
   "id": "ca3fbe66",
   "metadata": {},
   "outputs": [],
   "source": [
    "%matplotlib inline\n",
    "plt.rcParams[\"figure.figsize\"] = (15,5)\n",
    "plt.title('Top 10 movie Directors', fontsize=18)\n",
    "df2=df_movie['director'].value_counts()\n",
    "df2.iloc[1:11].plot(kind='bar',width = 0.9)\n",
    "plt.xlabel(\"Directors\")\n",
    "plt.ylabel(\"Number of movies\")"
   ]
  },
  {
   "cell_type": "code",
   "execution_count": null,
   "id": "b4942da7",
   "metadata": {},
   "outputs": [],
   "source": [
    "%matplotlib inline\n",
    "plt.rcParams[\"figure.figsize\"] = (15,5)\n",
    "plt.title('Top 12 Countries', fontsize=18)\n",
    "df2=df_movie['country'].value_counts()\n",
    "df2.iloc[0:12].plot(kind='bar',width = 0.9)\n",
    "plt.xlabel(\"Country\")\n",
    "plt.ylabel(\"Number of movies\")"
   ]
  },
  {
   "cell_type": "code",
   "execution_count": null,
   "id": "88f7ad5c",
   "metadata": {},
   "outputs": [],
   "source": [
    "df_TVshow['rating'].nunique()"
   ]
  },
  {
   "cell_type": "code",
   "execution_count": null,
   "id": "5c7f0188",
   "metadata": {},
   "outputs": [],
   "source": [
    "%matplotlib inline\n",
    "plt.rcParams[\"figure.figsize\"] = (12,10)\n",
    "plt.title('Movie Ratings', fontsize=18)\n",
    "df2=df_movie['rating'].value_counts()\n",
    "df2.iloc[0:14].plot(kind='pie',autopct='%0.2f%%',shadow=False);"
   ]
  },
  {
   "cell_type": "markdown",
   "id": "3810258a",
   "metadata": {},
   "source": [
    "# **TV Shows on Netflix**"
   ]
  },
  {
   "cell_type": "code",
   "execution_count": null,
   "id": "91e3b314",
   "metadata": {},
   "outputs": [],
   "source": [
    "fig = px.scatter(df_TVshow, x=\"release_year\", y=\"duration\", color=\"duration\", hover_data=['title'])\n",
    "fig.show()"
   ]
  },
  {
   "cell_type": "code",
   "execution_count": null,
   "id": "40d75c6d",
   "metadata": {},
   "outputs": [],
   "source": [
    "%matplotlib inline\n",
    "plt.rcParams[\"figure.figsize\"] = (15,5)\n",
    "plt.title('Top 10 TV Show\\'s Directors', fontsize=18)\n",
    "df2=df_TVshow['director'].value_counts()\n",
    "df2.iloc[1:11].plot(kind='bar',width = 0.9)\n",
    "plt.xlabel(\"Directors\")\n",
    "plt.ylabel(\"Number of shows\")"
   ]
  },
  {
   "cell_type": "code",
   "execution_count": null,
   "id": "b0d9dd7b",
   "metadata": {},
   "outputs": [],
   "source": [
    "%matplotlib inline\n",
    "plt.rcParams[\"figure.figsize\"] = (15,5)\n",
    "plt.title('Top 12 Countries', fontsize=18)\n",
    "df2=df_TVshow['country'].value_counts()\n",
    "df2.iloc[0:12].plot(kind='bar',width = 0.9);\n",
    "plt.xlabel(\"Country\")\n",
    "plt.ylabel(\"Number of Shows\")"
   ]
  },
  {
   "cell_type": "code",
   "execution_count": null,
   "id": "0bf56fd7",
   "metadata": {},
   "outputs": [],
   "source": [
    "%matplotlib inline\n",
    "plt.rcParams[\"figure.figsize\"] = (12,10)\n",
    "plt.title('Movie Ratings', fontsize=18)\n",
    "df2=df_TVshow['rating'].value_counts()\n",
    "df2.iloc[0:14].plot(kind='pie',autopct='%0.2f%%',shadow=False);"
   ]
  },
  {
   "cell_type": "code",
   "execution_count": null,
   "id": "78f95c4e",
   "metadata": {},
   "outputs": [],
   "source": [
    "nan"
   ]
  },
  {
   "cell_type": "markdown",
   "id": "218213aa",
   "metadata": {},
   "source": [
    "## <div style='color:#016CC9;text-align:center;font-size:100%'>Thank you for reading!<br>Please let me know if you have any questions or feedback 🙂</div>"
   ]
  }
 ],
 "metadata": {},
 "nbformat": 4,
 "nbformat_minor": 5
}
