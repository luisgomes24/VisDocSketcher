{
 "cells": [
  {
   "cell_type": "code",
   "execution_count": null,
   "id": "1bbb99fd",
   "metadata": {},
   "outputs": [],
   "source": [
    "import pandas as pd\n",
    "train=pd.read_csv('/kaggle/input/icr-identify-age-related-conditions/train.csv')\n",
    "train.head()"
   ]
  },
  {
   "cell_type": "code",
   "execution_count": null,
   "id": "f873e689",
   "metadata": {},
   "outputs": [],
   "source": [
    "test=pd.read_csv('/kaggle/input/icr-identify-age-related-conditions/test.csv')\n",
    "test.head()"
   ]
  },
  {
   "cell_type": "code",
   "execution_count": null,
   "id": "f4e3f98d",
   "metadata": {},
   "outputs": [],
   "source": [
    "train=train.drop(['Id'],axis=1)\n",
    "train.head()"
   ]
  },
  {
   "cell_type": "code",
   "execution_count": null,
   "id": "e2299aaa",
   "metadata": {},
   "outputs": [],
   "source": [
    "test=test.drop(['Id'],axis=1)\n",
    "test.head()"
   ]
  },
  {
   "cell_type": "code",
   "execution_count": null,
   "id": "2fb338c4",
   "metadata": {},
   "outputs": [],
   "source": [
    "def reduce_mem_usage(df):\n",
    "    \"\"\" iterate through all the columns of a dataframe and modify the data type\n",
    "        to reduce memory usage.        \n",
    "    \"\"\"\n",
    "    start_mem = df.memory_usage().sum() / 1024**2\n",
    "    print('Memory usage of dataframe is {:.2f} MB'.format(start_mem))\n",
    "    \n",
    "    for col in df.columns:\n",
    "        col_type = df[col].dtype\n",
    "        \n",
    "        if col_type != object:\n",
    "            c_min = df[col].min()\n",
    "            c_max = df[col].max()\n",
    "            if str(col_type)[:3] == 'int':\n",
    "                if c_min > np.iinfo(np.int8).min and c_max < np.iinfo(np.int8).max:\n",
    "                    df[col] = df[col].astype(np.int8)\n",
    "                elif c_min > np.iinfo(np.int16).min and c_max < np.iinfo(np.int16).max:\n",
    "                    df[col] = df[col].astype(np.int16)\n",
    "                elif c_min > np.iinfo(np.int32).min and c_max < np.iinfo(np.int32).max:\n",
    "                    df[col] = df[col].astype(np.int32)\n",
    "                elif c_min > np.iinfo(np.int64).min and c_max < np.iinfo(np.int64).max:\n",
    "                    df[col] = df[col].astype(np.int64)  \n",
    "            else:\n",
    "                if c_min > np.finfo(np.float16).min and c_max < np.finfo(np.float16).max:\n",
    "                    df[col] = df[col].astype(np.float16)\n",
    "                elif c_min > np.finfo(np.float32).min and c_max < np.finfo(np.float32).max:\n",
    "                    df[col] = df[col].astype(np.float32)\n",
    "                else:\n",
    "                    df[col] = df[col].astype(np.float64)\n",
    "        else:\n",
    "            df[col] = df[col].astype('object')\n",
    "\n",
    "    end_mem = df.memory_usage().sum() / 1024**2\n",
    "    print('Memory usage after optimization is: {:.2f} MB'.format(end_mem))\n",
    "    print('Decreased by {:.1f}%'.format(100 * (start_mem - end_mem) / start_mem))\n",
    "    \n",
    "    return df"
   ]
  },
  {
   "cell_type": "code",
   "execution_count": null,
   "id": "a121ec9f",
   "metadata": {},
   "outputs": [],
   "source": [
    "import numpy as np\n",
    "train = reduce_mem_usage(train)\n",
    "train.info()"
   ]
  },
  {
   "cell_type": "code",
   "execution_count": null,
   "id": "550448bb",
   "metadata": {},
   "outputs": [],
   "source": [
    "test = reduce_mem_usage(test)\n",
    "test.info()"
   ]
  },
  {
   "cell_type": "code",
   "execution_count": null,
   "id": "5469a05f",
   "metadata": {},
   "outputs": [],
   "source": [
    "col=train.columns.tolist()\n",
    "col.remove('Class')\n",
    "col[:5]"
   ]
  },
  {
   "cell_type": "code",
   "execution_count": null,
   "id": "90839b2f",
   "metadata": {},
   "outputs": [],
   "source": [
    "y = train[['Class']]\n",
    "X = train[col]"
   ]
  },
  {
   "cell_type": "code",
   "execution_count": null,
   "id": "d6c4b304",
   "metadata": {},
   "outputs": [],
   "source": [
    "from sklearn.model_selection import train_test_split\n",
    "X_train, X_test, y_train, y_test = train_test_split( X, y, test_size=0.2, random_state=42,shuffle=True, stratify=y)"
   ]
  },
  {
   "cell_type": "code",
   "execution_count": null,
   "id": "e25775ac",
   "metadata": {},
   "outputs": [],
   "source": [
    "params={'n_estimators': 97, 'num_leaves': 33, 'min_child_samples': 8, \n",
    "        'learning_rate': 0.3848454051107216, 'log_max_bin': 9, 'colsample_bytree': 1.0,\n",
    "        'reg_alpha': 0.002010966076190542, 'reg_lambda': 0.3138652985500363}"
   ]
  },
  {
   "cell_type": "code",
   "execution_count": null,
   "id": "4f810ff2",
   "metadata": {},
   "outputs": [],
   "source": [
    "from sklearn.preprocessing import LabelEncoder\n",
    "label_encoder = LabelEncoder()"
   ]
  },
  {
   "cell_type": "code",
   "execution_count": null,
   "id": "83080cea",
   "metadata": {},
   "outputs": [],
   "source": [
    "X_train['EJ'] = label_encoder.fit_transform(X_train['EJ'])\n",
    "X_train.head()"
   ]
  },
  {
   "cell_type": "code",
   "execution_count": null,
   "id": "03397236",
   "metadata": {},
   "outputs": [],
   "source": [
    "X_test['EJ'] = label_encoder.transform(X_test['EJ'])\n",
    "X_test.head()"
   ]
  },
  {
   "cell_type": "code",
   "execution_count": null,
   "id": "4564a0d8",
   "metadata": {},
   "outputs": [],
   "source": [
    "test['EJ'] = label_encoder.transform(test['EJ'])\n",
    "test.head()"
   ]
  },
  {
   "cell_type": "code",
   "execution_count": null,
   "id": "6a8fe079",
   "metadata": {},
   "outputs": [],
   "source": [
    "import lightgbm as lgbm\n",
    "model = lgbm.LGBMClassifier(learning_rate=0.3848454051107216, max_bin=511,\n",
    "               min_child_samples=8, n_estimators=97, num_leaves=33,\n",
    "               reg_alpha=0.002010966076190542, reg_lambda=0.3138652985500363,\n",
    "               verbose=-1)\n",
    "model.fit(X_train, y_train)"
   ]
  },
  {
   "cell_type": "code",
   "execution_count": null,
   "id": "5482068d",
   "metadata": {},
   "outputs": [],
   "source": [
    "from sklearn.metrics import classification_report\n",
    "print(classification_report(y_train, model.predict(X_train)))"
   ]
  },
  {
   "cell_type": "code",
   "execution_count": null,
   "id": "f0717d93",
   "metadata": {},
   "outputs": [],
   "source": [
    "print(classification_report(y_test, model.predict(X_test)))"
   ]
  },
  {
   "cell_type": "code",
   "execution_count": null,
   "id": "4f61f39f",
   "metadata": {},
   "outputs": [],
   "source": [
    "sample_submission = pd.read_csv('/kaggle/input/icr-identify-age-related-conditions/sample_submission.csv')\n",
    "sample_submission.head()"
   ]
  },
  {
   "cell_type": "code",
   "execution_count": null,
   "id": "73f0780c",
   "metadata": {},
   "outputs": [],
   "source": [
    "model.predict_proba(test)"
   ]
  },
  {
   "cell_type": "code",
   "execution_count": null,
   "id": "994ce96e",
   "metadata": {},
   "outputs": [],
   "source": [
    "sample_submission['class_1'] = model.predict_proba(test)[:,1]\n",
    "sample_submission['class_0'] = 1-model.predict_proba(test)[:,1]\n",
    "sample_submission.to_csv(\"./submission.csv\", index=False)\n",
    "sample_submission.head()"
   ]
  }
 ],
 "metadata": {},
 "nbformat": 4,
 "nbformat_minor": 5
}
