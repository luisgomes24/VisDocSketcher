{
 "cells": [
  {
   "cell_type": "markdown",
   "id": "e32f2cbc",
   "metadata": {},
   "source": [
    "# Weighted boxes fusion: Ensembling boxes from different object detection models"
   ]
  },
  {
   "cell_type": "markdown",
   "id": "f9a73c81",
   "metadata": {},
   "source": [
    "![image.png](attachment:e9af3ba4-2755-402f-9e93-e2d767b7aa0a.png)"
   ]
  },
  {
   "cell_type": "markdown",
   "id": "94d6f2d9",
   "metadata": {},
   "source": [
    "https://github.com/ZFTurbo/Weighted-Boxes-Fusion"
   ]
  },
  {
   "cell_type": "markdown",
   "id": "20e42cb1",
   "metadata": {},
   "source": [
    "Coordinates for boxes expected to be normalized e.g in range [0; 1]. Order: x1, y1, x2, y2.\n",
    "\n",
    "Example of boxes ensembling for 2 models below.\n",
    "\n",
    "First model predicts 5 boxes, second model predicts 4 boxes.\n",
    "Confidence scores for each box model 1: [0.9, 0.8, 0.2, 0.4, 0.7]\n",
    "Confidence scores for each box model 2: [0.5,0.3]\n",
    "Labels (classes) for each box model 1: [0, 1]\n",
    "Labels (classes) for each box model 2: [1, 1]\n",
    "We set weight for 1st model to be 2, and weight for second model to be 1.\n",
    "We set intersection over union for boxes to be match: iou_thr = 0.5\n",
    "We skip boxes with confidence lower than skip_box_thr = 0.0001"
   ]
  },
  {
   "cell_type": "code",
   "execution_count": null,
   "id": "cfc01162",
   "metadata": {},
   "outputs": [],
   "source": [
    "def wbf(result_cbnet, result_yolo, IOU_WBF=0.2):\n",
    "    boxes_list = [[],[]]\n",
    "    scores_list = [[], []]\n",
    "    labels_list = [[], []]\n",
    "    weights = [1, 1]\n",
    "    iou_thr = 0.5\n",
    "    skip_box_thr = 0.3\n",
    "    #sigma = 0.1\n",
    "    for cbnet in result_cbnet[0]:\n",
    "        x1, y1, x2, y2, conf = cbnet\n",
    "\n",
    "        boxes_list[0].append([x1/1280, y1/720, x2/1280, y2/720])\n",
    "        scores_list[0].append(conf)\n",
    "        labels_list[0].append(0)\n",
    "    for idx, row in result_yolo.pandas().xyxy[0].iterrows():\n",
    "\n",
    "        boxes_list[1].append([row.xmin/1280, row.ymin/720, row.xmax/1280, row.ymax/720])\n",
    "        scores_list[1].append(row.confidence)\n",
    "        labels_list[1].append(0)\n",
    "    \n",
    "    boxes, scores, labels = weighted_boxes_fusion(boxes_list, scores_list, labels_list, weights=weights, iou_thr=iou_thr, skip_box_thr=skip_box_thr)\n",
    "    \n",
    "    length = len(scores)\n",
    "    res = ''\n",
    "    for idx in range(length):\n",
    "        conf = scores[idx]\n",
    "        xmin, ymin, xmax, ymax = boxes[idx]\n",
    "        if conf > IOU_WBF:\n",
    "            res += f'{conf} {xmin*1280} {ymin*720} {(xmax-xmin)*1280} {(ymax-ymin)*720} '\n",
    "    return res.strip(' ')"
   ]
  }
 ],
 "metadata": {},
 "nbformat": 4,
 "nbformat_minor": 5
}
