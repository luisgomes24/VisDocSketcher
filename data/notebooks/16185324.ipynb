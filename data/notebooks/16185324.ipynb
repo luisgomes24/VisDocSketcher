{
 "cells": [
  {
   "cell_type": "code",
   "execution_count": null,
   "id": "0fe0dd1f",
   "metadata": {},
   "outputs": [],
   "source": [
    "# This Python 3 environment comes with many helpful analytics libraries installed\n",
    "# It is defined by the kaggle/python Docker image: https://github.com/kaggle/docker-python\n",
    "# For example, here's several helpful packages to load\n",
    "\n",
    "import numpy as np # linear algebra\n",
    "import pandas as pd # data processing, CSV file I/O (e.g. pd.read_csv)\n",
    "\n",
    "# Input data files are available in the read-only \"../input/\" directory\n",
    "# For example, running this (by clicking run or pressing Shift+Enter) will list all files under the input directory\n",
    "\n",
    "import os\n",
    "for dirname, _, filenames in os.walk('/kaggle/input'):\n",
    "    for filename in filenames:\n",
    "        print(os.path.join(dirname, filename))\n",
    "\n",
    "# You can write up to 20GB to the current directory (/kaggle/working/) that gets preserved as output when you create a version using \"Save & Run All\" \n",
    "# You can also write temporary files to /kaggle/temp/, but they won't be saved outside of the current session"
   ]
  },
  {
   "cell_type": "code",
   "execution_count": null,
   "id": "1d61e97e",
   "metadata": {},
   "outputs": [],
   "source": [
    "# Read the data\n",
    "df = pd.read_csv('/kaggle/input/telecom-users-dataset/telecom_users.csv')"
   ]
  },
  {
   "cell_type": "code",
   "execution_count": null,
   "id": "3978dbe5",
   "metadata": {},
   "outputs": [],
   "source": [
    "# Display first few rows of the dataset\n",
    "df.head()"
   ]
  },
  {
   "cell_type": "markdown",
   "id": "6a55aebe",
   "metadata": {},
   "source": [
    "# **Data Exploration**"
   ]
  },
  {
   "cell_type": "code",
   "execution_count": null,
   "id": "387aac20",
   "metadata": {},
   "outputs": [],
   "source": [
    "# Unique values in device protection\n",
    "df['DeviceProtection'].value_counts()"
   ]
  },
  {
   "cell_type": "markdown",
   "id": "d56cb136",
   "metadata": {},
   "source": [
    "# How many users with device protection have tech support"
   ]
  },
  {
   "cell_type": "code",
   "execution_count": null,
   "id": "65f66107",
   "metadata": {},
   "outputs": [],
   "source": [
    "df.groupby(['DeviceProtection'])['TechSupport'].value_counts()"
   ]
  },
  {
   "cell_type": "markdown",
   "id": "c111d7fb",
   "metadata": {},
   "source": [
    "# Does number of dependent impact number of lines?"
   ]
  },
  {
   "cell_type": "code",
   "execution_count": null,
   "id": "472cdcf0",
   "metadata": {},
   "outputs": [],
   "source": [
    "df.groupby(['MultipleLines'])['Dependents'].value_counts()"
   ]
  },
  {
   "cell_type": "markdown",
   "id": "703ecd56",
   "metadata": {},
   "source": [
    "# Do streaming TV and movie making people purchase device protection plan?"
   ]
  },
  {
   "cell_type": "code",
   "execution_count": null,
   "id": "3971a8eb",
   "metadata": {},
   "outputs": [],
   "source": [
    "df.groupby(['StreamingTV', 'StreamingMovies'])['DeviceProtection'].value_counts()"
   ]
  },
  {
   "cell_type": "markdown",
   "id": "7893fda6",
   "metadata": {},
   "source": [
    "# Which plan is popular for streaming TV and Movies?"
   ]
  },
  {
   "cell_type": "code",
   "execution_count": null,
   "id": "cd4f2dbc",
   "metadata": {},
   "outputs": [],
   "source": [
    "df.groupby(['StreamingTV', 'StreamingMovies'])['InternetService'].value_counts()"
   ]
  },
  {
   "cell_type": "markdown",
   "id": "117b0941",
   "metadata": {},
   "source": [
    "# How many people opt for paperliess billing?"
   ]
  },
  {
   "cell_type": "code",
   "execution_count": null,
   "id": "b53d6699",
   "metadata": {},
   "outputs": [],
   "source": [
    "df['PaperlessBilling'].value_counts()"
   ]
  },
  {
   "cell_type": "markdown",
   "id": "5d7bc3f0",
   "metadata": {},
   "source": [
    "# Does senior citizen opt for paperless billing?"
   ]
  },
  {
   "cell_type": "code",
   "execution_count": null,
   "id": "bb078107",
   "metadata": {},
   "outputs": [],
   "source": [
    "df.groupby(['PaperlessBilling'])['SeniorCitizen'].value_counts()"
   ]
  },
  {
   "cell_type": "code",
   "execution_count": null,
   "id": "cefae55b",
   "metadata": {},
   "outputs": [],
   "source": [
    "nan"
   ]
  }
 ],
 "metadata": {},
 "nbformat": 4,
 "nbformat_minor": 5
}
