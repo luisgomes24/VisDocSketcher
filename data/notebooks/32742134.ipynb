{
 "cells": [
  {
   "cell_type": "markdown",
   "id": "e22dfa6b",
   "metadata": {},
   "source": [
    "#Published on November 26, 2022 (17:50 GMT) by Marília Prata, mpwolke"
   ]
  },
  {
   "cell_type": "code",
   "execution_count": null,
   "id": "ef0095f1",
   "metadata": {},
   "outputs": [],
   "source": [
    "# This Python 3 environment comes with many helpful analytics libraries installed\n",
    "# It is defined by the kaggle/python Docker image: https://github.com/kaggle/docker-python\n",
    "# For example, here's several helpful packages to load\n",
    "\n",
    "import numpy as np # linear algebra\n",
    "import pandas as pd # data processing, CSV file I/O (e.g. pd.read_csv)\n",
    "\n",
    "# Input data files are available in the read-only \"../input/\" directory\n",
    "# For example, running this (by clicking run or pressing Shift+Enter) will list all files under the input directory\n",
    "\n",
    "import os\n",
    "for dirname, _, filenames in os.walk('/kaggle/input'):\n",
    "    for filename in filenames:\n",
    "        print(os.path.join(dirname, filename))\n",
    "\n",
    "# You can write up to 20GB to the current directory (/kaggle/working/) that gets preserved as output when you create a version using \"Save & Run All\" \n",
    "# You can also write temporary files to /kaggle/temp/, but they won't be saved outside of the current session"
   ]
  },
  {
   "cell_type": "markdown",
   "id": "04375d2f",
   "metadata": {},
   "source": [
    "#Where is the Canarinho Pistol? Where is Brazil’s invoked mascot walking?\n",
    "\n",
    "How the Canarinho Pistola was born\n",
    "\n",
    "\"The Canarinho Pistola became the official mascot of Brazil in 2016. His frown and pouty manners endeared him to Brazilians and he became an obligatory figure in the games.\"\n",
    "\n",
    "![](https://news.trenddetail.com/temp/resized/medium_2022-11-24-fab941e62c.jpg)\n",
    "https://news.trenddetail.com/euro/253133.html"
   ]
  },
  {
   "cell_type": "code",
   "execution_count": null,
   "id": "bda6db5a",
   "metadata": {},
   "outputs": [],
   "source": [
    "!pip install \"docarray[full]==0.4.4\" -q"
   ]
  },
  {
   "cell_type": "code",
   "execution_count": null,
   "id": "8e3157c9",
   "metadata": {},
   "outputs": [],
   "source": [
    "!pip install torchvision==0.11.2 -q"
   ]
  },
  {
   "cell_type": "code",
   "execution_count": null,
   "id": "28f65fb4",
   "metadata": {},
   "outputs": [],
   "source": [
    "import os\n",
    "DATA_DIR = \"/kaggle/input/fifa-2022-all-players-image-dataset/Images/Images/Group G/Brazil Players\"\n",
    "DATA_PATH = f\"{DATA_DIR}/*/*.jpg\"\n",
    "MAX_DOCS = 1000\n",
    "os.listdir(DATA_DIR)\n",
    "#os.listdir(DATA_DIR)[:10]"
   ]
  },
  {
   "cell_type": "code",
   "execution_count": null,
   "id": "81f8dfbe",
   "metadata": {},
   "outputs": [],
   "source": [
    "from docarray import DocumentArray, Document"
   ]
  },
  {
   "cell_type": "code",
   "execution_count": null,
   "id": "774428e0",
   "metadata": {},
   "outputs": [],
   "source": [
    "# Use `.from_files` to quickly load them into a `DocumentArray`\n",
    "docs = DocumentArray.from_files(DATA_PATH, size=MAX_DOCS)\n",
    "print(f\"{len(docs)} Documents in DocumentArray\")"
   ]
  },
  {
   "cell_type": "code",
   "execution_count": null,
   "id": "79958f57",
   "metadata": {},
   "outputs": [],
   "source": [
    "docs.plot_image_sprites()"
   ]
  },
  {
   "cell_type": "code",
   "execution_count": null,
   "id": "fef95db5",
   "metadata": {},
   "outputs": [],
   "source": [
    "from docarray import Document\n",
    "\n",
    "# Convert to tensor, normalize so they're all similar enough\n",
    "def preproc(d: Document):\n",
    "    return (d.load_uri_to_image_tensor()  # load\n",
    "             .set_image_tensor_shape((80, 60))  # ensure all images right size (dataset image size _should_ be (80, 60))\n",
    "             .set_image_tensor_normalization()  # normalize color \n",
    "             .set_image_tensor_channel_axis(-1, 0))  # switch color axis for the PyTorch model later"
   ]
  },
  {
   "cell_type": "code",
   "execution_count": null,
   "id": "b9dd1a1e",
   "metadata": {},
   "outputs": [],
   "source": [
    "# apply en masse\n",
    "docs.apply(preproc)"
   ]
  },
  {
   "cell_type": "code",
   "execution_count": null,
   "id": "44ca5683",
   "metadata": {},
   "outputs": [],
   "source": [
    "import torchvision\n",
    "model = torchvision.models.resnet50(pretrained=True)  # load ResNet50"
   ]
  },
  {
   "cell_type": "code",
   "execution_count": null,
   "id": "2f7444a3",
   "metadata": {},
   "outputs": [],
   "source": [
    "# Use GPU if available\n",
    "import torch\n",
    "if torch.cuda.is_available():\n",
    "    device = \"cuda\"\n",
    "else:\n",
    "    device = \"cpu\"\n",
    "    \n",
    "docs.embed(model, device=device)"
   ]
  },
  {
   "cell_type": "code",
   "execution_count": null,
   "id": "31958d8c",
   "metadata": {},
   "outputs": [],
   "source": [
    "DATA_DIR = \"/kaggle/input/fifa-2022-all-players-image-dataset/Images/Images/Group G/Brazil Players\"\n",
    "DATA_PATH = f\"{DATA_DIR}/Images_Richarlison/*.jpg\"\n",
    "\n",
    "print(os.listdir(\"/kaggle/input/fifa-2022-all-players-image-dataset/Images/Images/Group G/Brazil Players/\")[10:20])\n",
    "os.listdir(DATA_DIR)[:10]"
   ]
  },
  {
   "cell_type": "markdown",
   "id": "8de5a4fd",
   "metadata": {},
   "source": [
    "#Number Nine: Richarlison image."
   ]
  },
  {
   "cell_type": "code",
   "execution_count": null,
   "id": "7db77902",
   "metadata": {},
   "outputs": [],
   "source": [
    "QUERY_IMAGE = \"/kaggle/input/fifa-2022-all-players-image-dataset/Images/Images/Group G/Brazil Players/Images_Richarlison/Richarlison12.jpg\"\n",
    "query_doc = Document(uri=QUERY_IMAGE)\n",
    "query_doc.display()"
   ]
  },
  {
   "cell_type": "code",
   "execution_count": null,
   "id": "00fd9ca7",
   "metadata": {},
   "outputs": [],
   "source": [
    "# Throw the one Document into a DocumentArray, since that's what we're matching against\n",
    "query_docs = DocumentArray([query_doc])\n",
    "\n",
    "# Apply same preprocessing\n",
    "query_docs.apply(preproc)\n",
    "\n",
    "# ...and create embedding just like we did with the dataset\n",
    "query_docs.embed(model, device=device) # If running on non-gpu machine, change \"cuda\" to \"cpu\"\n",
    "\n",
    "query_docs.match(docs, limit=4)\n",
    "\n",
    "DocumentArray(query_doc.matches, copy=True).apply(lambda d: d.set_image_tensor_channel_axis(0, -1).set_image_tensor_inv_normalization())\n",
    "\n",
    "# for doc in DocumentArray(query_doc.matches, copy=True).apply(lambda d: d.set_image_tensor_channel_axis(0, -1).set_image_tensor_inv_normalization()):\n",
    "#     doc.display()\n",
    "\n",
    "(DocumentArray(query_doc.matches, copy=True)\n",
    "    .apply(lambda d: d.set_image_tensor_channel_axis(0, -1)\n",
    "                      .set_image_tensor_inv_normalization())).plot_image_sprites()"
   ]
  },
  {
   "cell_type": "code",
   "execution_count": null,
   "id": "39a28efa",
   "metadata": {},
   "outputs": [],
   "source": [
    "!pip install gradio"
   ]
  },
  {
   "cell_type": "code",
   "execution_count": null,
   "id": "fbc3d4d5",
   "metadata": {},
   "outputs": [],
   "source": [
    "def get_similar_images(image_url):\n",
    "    \n",
    "    !wget {image_url} -O mpwolke.jpg\n",
    "\n",
    "    query_doc = Document(uri='/kaggle/working/mpwolke.jpg')\n",
    "    \n",
    "    # Throw the one Document into a DocumentArray, since that's what we're matching against\n",
    "    query_docs = DocumentArray([query_doc])\n",
    "\n",
    "    # Apply same preprocessing\n",
    "    query_docs.apply(preproc)\n",
    "\n",
    "    # ...and create embedding just like we did with the dataset\n",
    "    query_docs.embed(model, device=device) # If running on non-gpu machine, change \"cuda\" to \"cpu\"\n",
    "\n",
    "    query_docs.match(docs, limit=4)\n",
    "\n",
    "    DocumentArray(query_doc.matches, copy=True).apply(lambda d: d.set_image_tensor_channel_axis(0, -1).set_image_tensor_inv_normalization())\n",
    "\n",
    "    for doc in DocumentArray(query_doc.matches, copy=True).apply(lambda d: d.set_image_tensor_channel_axis(0, -1).set_image_tensor_inv_normalization()):\n",
    "        doc.display()\n",
    "\n",
    "    return (DocumentArray(query_doc.matches, copy=True)\n",
    "        .apply(lambda d: d.set_image_tensor_channel_axis(0, -1)\n",
    "                          .set_image_tensor_inv_normalization())).plot_image_sprites()"
   ]
  },
  {
   "cell_type": "code",
   "execution_count": null,
   "id": "63418105",
   "metadata": {},
   "outputs": [],
   "source": [
    "get_similar_images(\"https://english.cdn.zeenews.com/sites/default/files/2022/05/10/1040825-rohit-sharma-mi.jpg\")"
   ]
  },
  {
   "cell_type": "code",
   "execution_count": null,
   "id": "c9d1a6e6",
   "metadata": {},
   "outputs": [],
   "source": [
    "import numpy as np\n",
    "\n",
    "import gradio as gr\n",
    "\n",
    "\n",
    "demo = gr.Interface(get_similar_images, 'text', \"image\")\n",
    "\n",
    "demo.launch(share=True)"
   ]
  },
  {
   "cell_type": "markdown",
   "id": "fa806069",
   "metadata": {},
   "source": [
    "#Einstein tongue style"
   ]
  },
  {
   "cell_type": "code",
   "execution_count": null,
   "id": "71517f2e",
   "metadata": {},
   "outputs": [],
   "source": [
    "from docarray import DocumentArray\n",
    "\n",
    "da_png = DocumentArray.from_files('../input/fifa-2022-all-players-image-dataset/Images/Images/Group G/Brazil Players/Images_Richarlison/Richarlison1.jpg')\n",
    "da_png.plot_image_sprites()\n",
    "\n",
    "#https://docarray.jina.ai/fundamentals/documentarray/construct/"
   ]
  },
  {
   "cell_type": "markdown",
   "id": "e1468aaf",
   "metadata": {},
   "source": [
    "#Acknowledgements:\n",
    "\n",
    "Afiz https://www.kaggle.com/code/afiz23/jina-doc-array"
   ]
  }
 ],
 "metadata": {},
 "nbformat": 4,
 "nbformat_minor": 5
}
