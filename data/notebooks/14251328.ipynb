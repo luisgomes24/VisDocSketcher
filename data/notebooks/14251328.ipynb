{
 "cells": [
  {
   "cell_type": "code",
   "execution_count": null,
   "id": "cba7649f",
   "metadata": {},
   "outputs": [],
   "source": [
    "import numpy as np # linear algebra\n",
    "import pandas as pd # data processing, CSV file I/O (e.g. pd.read_csv)\n",
    "from datetime import datetime\n",
    "\n",
    "import matplotlib.pyplot as plt\n",
    "plt.style.use('seaborn-darkgrid')"
   ]
  },
  {
   "cell_type": "markdown",
   "id": "eefa4539",
   "metadata": {},
   "source": [
    "## Glipse Data"
   ]
  },
  {
   "cell_type": "markdown",
   "id": "0d3f8637",
   "metadata": {},
   "source": [
    "Read data"
   ]
  },
  {
   "cell_type": "code",
   "execution_count": null,
   "id": "33405282",
   "metadata": {},
   "outputs": [],
   "source": [
    "# btc = pd.read_csv('/kaggle/input/bitcoin-historical-data/bitstampUSD_1-min_data_2012-01-01_to_2020-09-14.csv')\n",
    "\n",
    "btc = pd.read_csv('../input/bitcoin-historical-data/bitstampUSD_1-min_data_2012-01-01_to_2020-12-31.csv')\n",
    "# Converting the Timestamp column from string to datetime\n",
    "btc['Timestamp'] = [datetime.fromtimestamp(x) for x in btc['Timestamp']]\n",
    "btc = btc.set_index('Timestamp')"
   ]
  },
  {
   "cell_type": "markdown",
   "id": "eee87b45",
   "metadata": {},
   "source": [
    "#### Time resampling"
   ]
  },
  {
   "cell_type": "code",
   "execution_count": null,
   "id": "26fc9066",
   "metadata": {},
   "outputs": [],
   "source": [
    "btc_daily = btc.resample(\"24H\").mean() #daily resampling"
   ]
  },
  {
   "cell_type": "markdown",
   "id": "8dbd9674",
   "metadata": {},
   "source": [
    "#### Time Series Decomposition & Statistical Tests"
   ]
  },
  {
   "cell_type": "code",
   "execution_count": null,
   "id": "3c85bb07",
   "metadata": {},
   "outputs": [],
   "source": [
    "from statsmodels.tsa.seasonal import seasonal_decompose\n",
    "from statsmodels.tsa.stattools import kpss\n",
    "from statsmodels.tsa.stattools import adfuller\n",
    "from statsmodels.graphics.tsaplots import plot_acf, plot_pacf"
   ]
  },
  {
   "cell_type": "code",
   "execution_count": null,
   "id": "7f3a20c5",
   "metadata": {},
   "outputs": [],
   "source": [
    "def fill_missing(df):\n",
    "    ### function to impute missing values using interpolation ###\n",
    "    df['Open'] = df['Open'].interpolate()\n",
    "    df['Close'] = df['Close'].interpolate()\n",
    "    df['Weighted_Price'] = df['Weighted_Price'].interpolate()\n",
    "    df['Volume_(BTC)'] = df['Volume_(BTC)'].interpolate()\n",
    "    df['Volume_(Currency)'] = df['Volume_(Currency)'].interpolate()\n",
    "    df['High'] = df['High'].interpolate()\n",
    "    df['Low'] = df['Low'].interpolate()\n",
    "    print(df.head())\n",
    "    print(df.isnull().sum())\n",
    "    \n",
    "fill_missing(btc_daily)"
   ]
  },
  {
   "cell_type": "code",
   "execution_count": null,
   "id": "22a70a8a",
   "metadata": {},
   "outputs": [],
   "source": [
    "\n",
    "plt.figure(figsize=(15,12))\n",
    "series = btc_daily.Weighted_Price\n",
    "result = seasonal_decompose(series, model='additive',period=1)\n",
    "result.plot()"
   ]
  },
  {
   "cell_type": "code",
   "execution_count": null,
   "id": "b3f12c94",
   "metadata": {},
   "outputs": [],
   "source": [
    "# Renaming the column names accroding to Prophet's requirements\n",
    "\n",
    "daily_data_fb = btc_daily.reset_index()[['Timestamp','Weighted_Price']].rename({'Timestamp':'ds','Weighted_Price':'y'}, axis=1)\n",
    "daily_data_fb.head()"
   ]
  },
  {
   "cell_type": "code",
   "execution_count": null,
   "id": "84d7ac0f",
   "metadata": {},
   "outputs": [],
   "source": [
    "test_length = 365\n",
    "split_date = \"2020-01-01\"\n",
    "train_filt = daily_data_fb['ds'] <= split_date\n",
    "test_filt = daily_data_fb['ds'] > split_date\n",
    "\n",
    "train_fb = daily_data_fb[train_filt]\n",
    "test_fb = daily_data_fb[test_filt]\n",
    "\n",
    "print(\"train data shape :\", train_fb.shape[0] / daily_data_fb.shape[0] * 100)\n",
    "print(\"test data shape :\", test_fb.shape[0] / daily_data_fb.shape[0] * 100)"
   ]
  },
  {
   "cell_type": "markdown",
   "id": "7fae21f7",
   "metadata": {},
   "source": [
    "![](https://github.com/AutoViML/Auto_TS/raw/master/logo.png)\n",
    "\n",
    "[Auto_TS: Auto_TimeSeries](https://github.com/AutoViML/Auto_TS)"
   ]
  },
  {
   "cell_type": "code",
   "execution_count": null,
   "id": "72e04811",
   "metadata": {},
   "outputs": [],
   "source": [
    "!pip install auto-ts\n",
    "# !pip install auto_ts --ignore-installed --no-cache-dir "
   ]
  },
  {
   "cell_type": "code",
   "execution_count": null,
   "id": "e0f4c9ec",
   "metadata": {},
   "outputs": [],
   "source": [
    "!pip install tscv"
   ]
  },
  {
   "cell_type": "code",
   "execution_count": null,
   "id": "0bf46b0a",
   "metadata": {},
   "outputs": [],
   "source": [
    "\n",
    "from auto_ts import auto_timeseries as ATS\n"
   ]
  },
  {
   "cell_type": "code",
   "execution_count": null,
   "id": "fd36c779",
   "metadata": {},
   "outputs": [],
   "source": [
    "train_fb = train_fb.reset_index()\n",
    "train_fb.head()"
   ]
  },
  {
   "cell_type": "code",
   "execution_count": null,
   "id": "10f48d43",
   "metadata": {},
   "outputs": [],
   "source": [
    "test_fb = test_fb.reset_index()\n",
    "test_fb.head()"
   ]
  },
  {
   "cell_type": "code",
   "execution_count": null,
   "id": "b87a85d0",
   "metadata": {},
   "outputs": [],
   "source": [
    "\n",
    "automl_model = ATS(score_type='rmse',\n",
    "                time_interval='D', forecast_period=30,\n",
    "                non_seasonal_pdq=None, seasonality=False, seasonal_period=12,\n",
    "                model_type=['best'],\n",
    "                verbose=2)"
   ]
  },
  {
   "cell_type": "code",
   "execution_count": null,
   "id": "a0291f1b",
   "metadata": {},
   "outputs": [],
   "source": [
    "ts_column = 'ds'\n",
    "target = 'y'\n",
    "sep = ','"
   ]
  },
  {
   "cell_type": "code",
   "execution_count": null,
   "id": "f304be4b",
   "metadata": {},
   "outputs": [],
   "source": [
    "automl_model.fit(\n",
    "    traindata=train_fb,\n",
    "    ts_column=ts_column,\n",
    "    target=target,\n",
    "    cv=5,\n",
    "    sep=',')"
   ]
  },
  {
   "cell_type": "markdown",
   "id": "b999da48",
   "metadata": {},
   "source": [
    "### Evaluate Results"
   ]
  },
  {
   "cell_type": "code",
   "execution_count": null,
   "id": "c5c58c3e",
   "metadata": {},
   "outputs": [],
   "source": [
    "automl_model.get_leaderboard()"
   ]
  },
  {
   "cell_type": "code",
   "execution_count": null,
   "id": "6b0bdd6d",
   "metadata": {},
   "outputs": [],
   "source": [
    "\n",
    "automl_model.plot_cv_scores()"
   ]
  },
  {
   "cell_type": "code",
   "execution_count": null,
   "id": "587a106b",
   "metadata": {},
   "outputs": [],
   "source": [
    "# There is a Bug with Prophet folds: https://github.com/AutoViML/Auto_TS/issues/25\n",
    "automl_model.get_cv_scores()"
   ]
  },
  {
   "cell_type": "code",
   "execution_count": null,
   "id": "a34e195a",
   "metadata": {},
   "outputs": [],
   "source": [
    "results_dict = automl_model.get_ml_dict()\n",
    "results_dict['Prophet']['forecast'][:5]"
   ]
  },
  {
   "cell_type": "code",
   "execution_count": null,
   "id": "dcdf8fda",
   "metadata": {},
   "outputs": [],
   "source": [
    "# results_dict['auto_SARIMAX']['forecast'][:5]"
   ]
  },
  {
   "cell_type": "markdown",
   "id": "640c2469",
   "metadata": {},
   "source": [
    "#### Forecast Results"
   ]
  },
  {
   "cell_type": "code",
   "execution_count": null,
   "id": "0fc6a376",
   "metadata": {},
   "outputs": [],
   "source": [
    "# Using Best Model\n",
    "future_predictions = automl_model.predict(\n",
    "    testdata=test_fb\n",
    ")  \n",
    "future_predictions"
   ]
  },
  {
   "cell_type": "code",
   "execution_count": null,
   "id": "efd7936d",
   "metadata": {},
   "outputs": [],
   "source": [
    "# Using specific model\n",
    "future_predictions = automl_model.predict(\n",
    "    testdata=test_fb,\n",
    "    model='auto_SARIMAX'\n",
    ")\n",
    "future_predictions"
   ]
  },
  {
   "cell_type": "code",
   "execution_count": null,
   "id": "1b076c97",
   "metadata": {},
   "outputs": [],
   "source": [
    "# Using specific model\n",
    "future_predictions = automl_model.predict(\n",
    "    testdata=test_fb,\n",
    "    model='Prophet',\n",
    "    simple=False\n",
    "\n",
    ")\n",
    "future_predictions"
   ]
  },
  {
   "cell_type": "code",
   "execution_count": null,
   "id": "65c837f9",
   "metadata": {},
   "outputs": [],
   "source": [
    "test_fb.head()\n"
   ]
  },
  {
   "cell_type": "code",
   "execution_count": null,
   "id": "8729847d",
   "metadata": {},
   "outputs": [],
   "source": [
    "import copy\n",
    "subm = test_fb[[target]]\n",
    "print(subm.shape)\n",
    "subm.head()"
   ]
  },
  {
   "cell_type": "code",
   "execution_count": null,
   "id": "4d285dc0",
   "metadata": {},
   "outputs": [],
   "source": [
    "subm['predictions'] = future_predictions['yhat'].values\n",
    "subm[[target,'predictions']].plot(figsize=(15,8))"
   ]
  }
 ],
 "metadata": {},
 "nbformat": 4,
 "nbformat_minor": 5
}
