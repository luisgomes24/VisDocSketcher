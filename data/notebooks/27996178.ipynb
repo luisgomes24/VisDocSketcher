{
 "cells": [
  {
   "cell_type": "markdown",
   "id": "bbefbb01",
   "metadata": {},
   "source": [
    "## Exploratory Data Analysis of Supermart Grocery Sales"
   ]
  },
  {
   "cell_type": "code",
   "execution_count": null,
   "id": "f58dffeb",
   "metadata": {},
   "outputs": [],
   "source": [
    "# importing libraries\n",
    "import numpy as np\n",
    "import pandas as pd\n",
    "import matplotlib.pyplot as plt\n",
    "%matplotlib inline\n",
    "import plotly.express as px\n",
    "import plotly.io as pio\n",
    "import os\n",
    "for dirname, _, filenames in os.walk('/kaggle/input'):\n",
    "    for filename in filenames:\n",
    "        print(os.path.join(dirname,filename))"
   ]
  },
  {
   "cell_type": "code",
   "execution_count": null,
   "id": "ca59a7a9",
   "metadata": {},
   "outputs": [],
   "source": [
    "# importing datasets\n",
    "df = pd.read_csv('../input/supermart-grocery-sales-retail-analytics-dataset/Supermart Grocery Sales - Retail Analytics Dataset.csv')\n",
    "df"
   ]
  },
  {
   "cell_type": "code",
   "execution_count": null,
   "id": "927e93fd",
   "metadata": {},
   "outputs": [],
   "source": [
    "df.info()"
   ]
  },
  {
   "cell_type": "markdown",
   "id": "7b97049c",
   "metadata": {},
   "source": [
    "## Let's check if there's any invalid data like negative values are present in sales,discount and profit data "
   ]
  },
  {
   "cell_type": "code",
   "execution_count": null,
   "id": "1613be78",
   "metadata": {},
   "outputs": [],
   "source": [
    "(df['Sales'].values <= 0).any()"
   ]
  },
  {
   "cell_type": "code",
   "execution_count": null,
   "id": "5d7b1234",
   "metadata": {},
   "outputs": [],
   "source": [
    "(df['Profit'].values <=0.00).any()\n",
    "(df['Discount'].values <=0.00).any()"
   ]
  },
  {
   "cell_type": "markdown",
   "id": "c30e3170",
   "metadata": {},
   "source": [
    "## Let's see the regions of the sales"
   ]
  },
  {
   "cell_type": "code",
   "execution_count": null,
   "id": "cbc19e43",
   "metadata": {},
   "outputs": [],
   "source": [
    "df['Region'].unique()"
   ]
  },
  {
   "cell_type": "code",
   "execution_count": null,
   "id": "9cff4bd6",
   "metadata": {},
   "outputs": [],
   "source": [
    "df['Region'].value_counts()"
   ]
  },
  {
   "cell_type": "markdown",
   "id": "d28b8c12",
   "metadata": {},
   "source": [
    "**As there is only one sale in North region, this may be a mistake**"
   ]
  },
  {
   "cell_type": "code",
   "execution_count": null,
   "id": "6b16b9b2",
   "metadata": {},
   "outputs": [],
   "source": [
    "df.drop((df[df['Region']=='North']).index,inplace=True) "
   ]
  },
  {
   "cell_type": "code",
   "execution_count": null,
   "id": "ef98de67",
   "metadata": {},
   "outputs": [],
   "source": [
    "pio.templates.default = \"plotly_dark\"\n",
    "fig = px.histogram(df, x = \"Region\", y = \"Sales\", color=\"Region\", title = \"Sales by the Regions\",width=500)\n",
    "fig.show()"
   ]
  },
  {
   "cell_type": "markdown",
   "id": "34ef6e7a",
   "metadata": {},
   "source": [
    "## Total sales by categories"
   ]
  },
  {
   "cell_type": "code",
   "execution_count": null,
   "id": "a10724ef",
   "metadata": {},
   "outputs": [],
   "source": [
    "fig = px.histogram(df, x = \"Category\", y = \"Sales\", color=\"Category\", title = \"Sales by the Product Categories\")\n",
    "fig.show()"
   ]
  },
  {
   "cell_type": "markdown",
   "id": "32f12152",
   "metadata": {},
   "source": [
    "## Total sales by sub categories"
   ]
  },
  {
   "cell_type": "code",
   "execution_count": null,
   "id": "25be964a",
   "metadata": {},
   "outputs": [],
   "source": [
    "sale_profit = pd.pivot_table(data=df, index=['Category', 'Sub Category'], values=['Profit','Sales'], \n",
    "               aggfunc='sum').reset_index().sort_values(['Category', 'Sales'], ascending=True)\n",
    "sale_profit"
   ]
  },
  {
   "cell_type": "markdown",
   "id": "fc533bb6",
   "metadata": {},
   "source": [
    "## Total sales in sub categories"
   ]
  },
  {
   "cell_type": "code",
   "execution_count": null,
   "id": "b6119e84",
   "metadata": {},
   "outputs": [],
   "source": [
    "fig = px.histogram(sale_profit, x = \"Sub Category\", y = \"Sales\", color=\"Sub Category\", title = \"Sales by the Product sub categories\")\n",
    "fig.show()"
   ]
  },
  {
   "cell_type": "markdown",
   "id": "ee732d61",
   "metadata": {},
   "source": [
    "## Profit Margin in each sub category"
   ]
  },
  {
   "cell_type": "code",
   "execution_count": null,
   "id": "d07264e6",
   "metadata": {},
   "outputs": [],
   "source": [
    "profit = pd.pivot_table(data=df, index='Sub Category', values=['Sales', 'Profit'], aggfunc='sum').reset_index()\n",
    "profit['Profit Margin'] = round((profit['Profit']/profit['Sales']) * 100,2)\n",
    "profit.sort_values(by='Profit Margin', ascending=False, inplace = True)\n",
    "profit"
   ]
  },
  {
   "cell_type": "markdown",
   "id": "008ac797",
   "metadata": {},
   "source": [
    "## Yearly sales and Order"
   ]
  },
  {
   "cell_type": "code",
   "execution_count": null,
   "id": "93e53492",
   "metadata": {},
   "outputs": [],
   "source": [
    "df['Order Year'] = pd.DatetimeIndex(df['Order Date']).year\n",
    "df['Order month'] = pd.DatetimeIndex(df['Order Date']).month"
   ]
  },
  {
   "cell_type": "code",
   "execution_count": null,
   "id": "2938f01e",
   "metadata": {},
   "outputs": [],
   "source": [
    "year_sale = pd.pivot_table(data=df, index='Order Year', values=['Order ID','Sales','Profit'],\n",
    "            aggfunc={'Order ID': 'count', 'Sales': 'sum', 'Profit':'sum'}).reset_index()\n",
    "year_sale\n"
   ]
  },
  {
   "cell_type": "code",
   "execution_count": null,
   "id": "13c72e50",
   "metadata": {},
   "outputs": [],
   "source": [
    "pio.templates.default = \"plotly_white\"\n",
    "fig = px.histogram(df, x = \"Order Year\", y = \"Sales\", color=\"Order Year\", title = \"Sales by the Year\",width=500)\n",
    "fig.show()"
   ]
  },
  {
   "cell_type": "code",
   "execution_count": null,
   "id": "71e1518a",
   "metadata": {},
   "outputs": [],
   "source": [
    "fig = px.histogram(df, x = \"Order month\", y = \"Sales\", color=\"Order month\", title = \"Sales by the Months\",width=500)\n",
    "fig.show()"
   ]
  }
 ],
 "metadata": {},
 "nbformat": 4,
 "nbformat_minor": 5
}
