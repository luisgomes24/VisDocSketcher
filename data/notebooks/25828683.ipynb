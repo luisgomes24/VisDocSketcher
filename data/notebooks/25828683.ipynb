{
 "cells": [
  {
   "cell_type": "markdown",
   "id": "701cc06a",
   "metadata": {},
   "source": [
    "**Import some libs**"
   ]
  },
  {
   "cell_type": "code",
   "execution_count": null,
   "id": "db421ab3",
   "metadata": {},
   "outputs": [],
   "source": [
    "import numpy as np\n",
    "import pandas as pd \n",
    "import matplotlib.pyplot as plt\n",
    "\n",
    "import os\n",
    "for dirname, _, filenames in os.walk('/kaggle/input'):\n",
    "    for filename in filenames:\n",
    "        print(os.path.join(dirname, filename))"
   ]
  },
  {
   "cell_type": "markdown",
   "id": "472d7bb5",
   "metadata": {},
   "source": [
    "**Read to dataframe**"
   ]
  },
  {
   "cell_type": "code",
   "execution_count": null,
   "id": "5e3aff49",
   "metadata": {},
   "outputs": [],
   "source": [
    "df = pd.read_csv(r'/kaggle/input/-tesla-daily-stocks-prices/tesla_stocks.csv')"
   ]
  },
  {
   "cell_type": "markdown",
   "id": "cfe10cef",
   "metadata": {},
   "source": [
    "**Check for nan values**"
   ]
  },
  {
   "cell_type": "code",
   "execution_count": null,
   "id": "64df423a",
   "metadata": {},
   "outputs": [],
   "source": [
    "df.isna().sum()"
   ]
  },
  {
   "cell_type": "markdown",
   "id": "9b0ed844",
   "metadata": {},
   "source": [
    "**Check datatypes**"
   ]
  },
  {
   "cell_type": "code",
   "execution_count": null,
   "id": "8781e93b",
   "metadata": {},
   "outputs": [],
   "source": [
    "df.info()"
   ]
  },
  {
   "cell_type": "markdown",
   "id": "37ec93da",
   "metadata": {},
   "source": [
    "**Change object type to date**"
   ]
  },
  {
   "cell_type": "code",
   "execution_count": null,
   "id": "daa8881e",
   "metadata": {},
   "outputs": [],
   "source": [
    "df['Date'] = pd.to_datetime(df['Date'])"
   ]
  },
  {
   "cell_type": "markdown",
   "id": "e3f5bd79",
   "metadata": {},
   "source": [
    "**Extract some more data from date for deeper analysis**"
   ]
  },
  {
   "cell_type": "code",
   "execution_count": null,
   "id": "22abb562",
   "metadata": {},
   "outputs": [],
   "source": [
    "df['year'] = pd.DatetimeIndex(df['Date']).year\n",
    "df['month'] = pd.DatetimeIndex(df['Date']).month\n",
    "df['month_year'] = df['Date'].dt.to_period('M')\n",
    "df.head()"
   ]
  },
  {
   "cell_type": "markdown",
   "id": "35c09394",
   "metadata": {},
   "source": [
    "**First of all lets look at the stocks prices during these 12 years**"
   ]
  },
  {
   "cell_type": "code",
   "execution_count": null,
   "id": "e33e2bc0",
   "metadata": {},
   "outputs": [],
   "source": [
    "df[['Adj Close','Date']].groupby('Date').mean().plot(figsize=(12,8), color = 'r', grid = True)\n",
    "plt.xlabel('Date')\n",
    "plt.ylabel('Price')\n",
    "plt.title('Stocks Prices each Year')\n",
    "plt.show()"
   ]
  },
  {
   "cell_type": "markdown",
   "id": "13779306",
   "metadata": {},
   "source": [
    "**Lets check out what are the differences between *'Open','High','Low','Close'* prices grouping by year**"
   ]
  },
  {
   "cell_type": "code",
   "execution_count": null,
   "id": "f7df233a",
   "metadata": {},
   "outputs": [],
   "source": [
    "stocks_year = df.groupby(by='year').mean()\n",
    "stocks_year[['Open','High','Low','Close']].plot(kind = 'bar', figsize = (12,8), grid = True)\n",
    "plt.xlabel('Year')\n",
    "plt.ylabel('Price')\n",
    "plt.title('Open, High, Low and Close prices each Year')\n",
    "plt.show()"
   ]
  },
  {
   "cell_type": "markdown",
   "id": "b211b4d4",
   "metadata": {},
   "source": [
    "**Now lets do the same analysis but grouping by months**"
   ]
  },
  {
   "cell_type": "code",
   "execution_count": null,
   "id": "9d253d39",
   "metadata": {},
   "outputs": [],
   "source": [
    "stocks_month = df.groupby(by='month').mean()\n",
    "stocks_month[['Open','High','Low','Close']].plot(kind = 'bar', figsize = (12,8), grid = True)\n",
    "plt.xlabel('Month')\n",
    "plt.ylabel('Price')\n",
    "plt.title('Average Stocks Price each Month')\n",
    "plt.show()"
   ]
  },
  {
   "cell_type": "markdown",
   "id": "aa1e1c38",
   "metadata": {},
   "source": [
    "**Looks like April is the most difficult month for the company every year**"
   ]
  },
  {
   "cell_type": "markdown",
   "id": "e4c45150",
   "metadata": {},
   "source": [
    "**Now lets go a bit deeper and count the difference between open and close price**"
   ]
  },
  {
   "cell_type": "code",
   "execution_count": null,
   "id": "e693c009",
   "metadata": {},
   "outputs": [],
   "source": [
    "open_close = df[['month_year','Open','Close','year']]\n",
    "open_close['start_end_changes'] = open_close['Open'] - open_close['Close']\n",
    "open_close['positive'] = open_close['start_end_changes'] > 0\n",
    "open_close.groupby('year').mean()['start_end_changes'].plot(kind = 'bar', grid = True,\n",
    "    figsize = (12,8), color = open_close.positive.map({True: 'g', False: 'r'}))\n",
    "plt.xlabel('Year')\n",
    "plt.ylabel('Price Changes')\n",
    "plt.title('Open and Close Stocks Prices Changes Annualy')\n",
    "plt.show()"
   ]
  },
  {
   "cell_type": "markdown",
   "id": "63c4ad32",
   "metadata": {},
   "source": [
    "**Looks like the biggest difference between start and final price for a day were in 2020. Lets go deeper to 2020**"
   ]
  },
  {
   "cell_type": "code",
   "execution_count": null,
   "id": "e6b91c12",
   "metadata": {},
   "outputs": [],
   "source": [
    "open_close_2020 = df[['month','Open','Close','year']]\n",
    "open_close_2020['start_end_changes'] = open_close_2020['Open'] - open_close_2020['Close']\n",
    "open_close_2020['positive'] = open_close_2020['start_end_changes'] > 0\n",
    "open_close_2020[open_close_2020['year']==2020].groupby('month').mean()['start_end_changes'].plot(kind = 'bar', grid = True, figsize = (12,8),\n",
    "        color = open_close.positive.map({True: 'r', False: 'g'}))\n",
    "plt.xlabel('Month')\n",
    "plt.ylabel('Price Changes')\n",
    "plt.title('Open and Close Stocks Prices Changes in 2020 each Month')\n",
    "plt.show()"
   ]
  },
  {
   "cell_type": "markdown",
   "id": "7d09b073",
   "metadata": {},
   "source": [
    "**The end of 2020 was rather hard. And what do we have with volume**"
   ]
  },
  {
   "cell_type": "code",
   "execution_count": null,
   "id": "188e47fb",
   "metadata": {},
   "outputs": [],
   "source": [
    "df[['month_year','Volume']].groupby('month_year').mean().plot(figsize = (12,8), color = 'r', grid = True,)\n",
    "plt.xlabel('month-year')\n",
    "plt.ylabel('volume in billions')\n",
    "plt.title('Volume Changes')\n",
    "plt.show()"
   ]
  },
  {
   "cell_type": "markdown",
   "id": "a9dced31",
   "metadata": {},
   "source": [
    "**Now lets check out what is the lowest and highest prices grouped by year**"
   ]
  },
  {
   "cell_type": "code",
   "execution_count": null,
   "id": "63336a73",
   "metadata": {},
   "outputs": [],
   "source": [
    "df[['year','High','Low']].groupby('year').mean().plot(kind = 'bar', \n",
    "        figsize = (12,8), grid = True, color = ['r','g'])\n",
    "plt.xlabel('Year')\n",
    "plt.ylabel('Price')\n",
    "plt.title('The Hieghest and Lowest Average Stocks Prices per Year')\n",
    "plt.show()"
   ]
  },
  {
   "cell_type": "markdown",
   "id": "5b8e74a4",
   "metadata": {},
   "source": [
    "**This was an example how to work with dataset. I hope it was somehow usefull.**"
   ]
  }
 ],
 "metadata": {},
 "nbformat": 4,
 "nbformat_minor": 5
}
