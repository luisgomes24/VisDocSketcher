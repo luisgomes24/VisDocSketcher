{
 "cells": [
  {
   "cell_type": "markdown",
   "id": "da816f71",
   "metadata": {},
   "source": [
    "![image.png](attachment:6232f2d0-e34a-4cb2-a428-0cab1ebd619f.png)"
   ]
  },
  {
   "cell_type": "markdown",
   "id": "2ed5dec2",
   "metadata": {},
   "source": [
    "# Classification foliar diseases in apple trees"
   ]
  },
  {
   "cell_type": "markdown",
   "id": "28fab692",
   "metadata": {},
   "source": [
    "## Import Packages"
   ]
  },
  {
   "cell_type": "code",
   "execution_count": null,
   "id": "9aed92cc",
   "metadata": {},
   "outputs": [],
   "source": [
    "import tensorflow as tf\n",
    "import pandas as pd\n",
    "import numpy as np\n",
    "import matplotlib.pyplot as plt\n",
    "from keras.metrics import Precision, Recall\n",
    "from sklearn.preprocessing import StandardScaler\n",
    "from sklearn.metrics import classification_report, accuracy_score\n",
    "from sklearn.ensemble import RandomForestClassifier\n",
    "from sklearn import svm\n",
    "import xgboost as xgb\n",
    "import seaborn as sns\n",
    "import cv2\n",
    "import pathlib\n",
    "import os"
   ]
  },
  {
   "cell_type": "markdown",
   "id": "3ba31a4d",
   "metadata": {},
   "source": [
    "## Preprocessing Dataset Images"
   ]
  },
  {
   "cell_type": "code",
   "execution_count": null,
   "id": "bcfd1e9e",
   "metadata": {},
   "outputs": [],
   "source": [
    "dataset_folder = os.path.join(\"/kaggle/input/plant-pathology-2020-fgvc7\")"
   ]
  },
  {
   "cell_type": "code",
   "execution_count": null,
   "id": "2b837a3d",
   "metadata": {},
   "outputs": [],
   "source": [
    "datasetObject = pd.read_csv(os.path.join(dataset_folder, \"train.csv\"))\n",
    "datasetObject.head()"
   ]
  },
  {
   "cell_type": "code",
   "execution_count": null,
   "id": "bce0d4b2",
   "metadata": {},
   "outputs": [],
   "source": [
    "imagesDataset = pathlib.Path(os.path.join(dataset_folder, \"images\"))\n",
    "listImages = list(imagesDataset.glob(\"*.*\"))"
   ]
  },
  {
   "cell_type": "code",
   "execution_count": null,
   "id": "e4990e70",
   "metadata": {},
   "outputs": [],
   "source": [
    "plt.figure(figsize = (20, 6))\n",
    "for i in range(4):\n",
    "    plt.subplot(1, 4, i + 1)\n",
    "    img = cv2.imread(str(listImages[i]))\n",
    "    plt.imshow(img)\n",
    "plt.show()"
   ]
  },
  {
   "cell_type": "code",
   "execution_count": null,
   "id": "b56d04ae",
   "metadata": {},
   "outputs": [],
   "source": [
    "images_id_csv = datasetObject['image_id']\n",
    "healthy_csv = datasetObject['healthy']\n",
    "multiple_diseases_csv = datasetObject['multiple_diseases']\n",
    "rust_csv = datasetObject['rust']\n",
    "scab_csv = datasetObject['scab']"
   ]
  },
  {
   "cell_type": "code",
   "execution_count": null,
   "id": "678f3599",
   "metadata": {},
   "outputs": [],
   "source": [
    "images = []\n",
    "labels = []\n",
    "for index, values in enumerate(images_id_csv):\n",
    "    img = cv2.imread(os.path.join(dataset_folder, \"images\", \"{}.jpg\".format(values)))\n",
    "    img = cv2.resize(img, (100, 100))\n",
    "    img = img/255\n",
    "    labels.append([healthy_csv[index], multiple_diseases_csv[index], rust_csv[index],\n",
    "                 scab_csv[index]])\n",
    "    images.append(img)"
   ]
  },
  {
   "cell_type": "code",
   "execution_count": null,
   "id": "2ffd0fd0",
   "metadata": {},
   "outputs": [],
   "source": [
    "plt.figure(figsize = (12, 8))\n",
    "for i in range(16):\n",
    "  plt.subplot(4, 4, i + 1)\n",
    "  plt.imshow(images[i])\n",
    "  plt.title(labels[i])\n",
    "plt.show()"
   ]
  },
  {
   "cell_type": "code",
   "execution_count": null,
   "id": "2f488be2",
   "metadata": {},
   "outputs": [],
   "source": [
    "img_data_g = tf.keras.preprocessing.image.ImageDataGenerator(\n",
    "        rotation_range=0.35,\n",
    "        zoom_range=0.2,\n",
    "        horizontal_flip=True,\n",
    "        vertical_flip=True,\n",
    "        shear_range=0.2,\n",
    "        width_shift_range=0.15,\n",
    "        height_shift_range=0.15,\n",
    "        rescale=None)"
   ]
  },
  {
   "cell_type": "markdown",
   "id": "371bcfda",
   "metadata": {},
   "source": [
    "## Images Data Augentation"
   ]
  },
  {
   "cell_type": "code",
   "execution_count": null,
   "id": "4a4019d4",
   "metadata": {},
   "outputs": [],
   "source": [
    "images_after_aug = []\n",
    "labels_after_aug = []\n",
    "for index, image in enumerate(images):\n",
    "  for i in range(9):\n",
    "      img = img_data_g.flow(np.reshape(image, (1, 100, 100, 3))).next()\n",
    "      images_after_aug.append(np.reshape(img, (100, 100, 3)))\n",
    "      labels_after_aug.append(labels[index])\n",
    "labels = np.asarray(labels_after_aug)\n",
    "images = np.asarray(images_after_aug)"
   ]
  },
  {
   "cell_type": "code",
   "execution_count": null,
   "id": "cb239aab",
   "metadata": {},
   "outputs": [],
   "source": [
    "images.shape"
   ]
  },
  {
   "cell_type": "code",
   "execution_count": null,
   "id": "e9fe85a3",
   "metadata": {},
   "outputs": [],
   "source": [
    "plt.figure(figsize = (12, 8))\n",
    "for i in range(16):\n",
    "  plt.subplot(4, 4, i + 1)\n",
    "  plt.imshow(images[i])\n",
    "  plt.title(labels[i])\n",
    "plt.show()"
   ]
  },
  {
   "cell_type": "markdown",
   "id": "da8195f9",
   "metadata": {},
   "source": [
    "## Build Model"
   ]
  },
  {
   "cell_type": "code",
   "execution_count": null,
   "id": "2b1ac696",
   "metadata": {},
   "outputs": [],
   "source": [
    "d = tf.keras.applications.DenseNet121(include_top=False,\n",
    "                   input_shape=(100,100,3),\n",
    "                   pooling=None,\n",
    "                   weights='imagenet')\n",
    "for i in d.layers:\n",
    "  i.trainable = True"
   ]
  },
  {
   "cell_type": "code",
   "execution_count": null,
   "id": "722c7178",
   "metadata": {},
   "outputs": [],
   "source": [
    "output_avg = tf.keras.layers.GlobalAveragePooling2D()(d.output)\n",
    "output_max = tf.keras.layers.GlobalMaxPooling2D()(d.output)\n",
    "m = tf.keras.layers.minimum([output_avg, output_max])\n",
    "m = tf.keras.layers.Dropout(0.5)(m)\n",
    "m = tf.keras.layers.Dense(128, activation = \"sigmoid\")(m)\n",
    "m = tf.keras.layers.Dropout(0.3)(m)\n",
    "m = tf.keras.layers.Dense(256, activation = \"relu\")(m)\n",
    "m = tf.keras.layers.Dropout(0.3)(m)\n",
    "m = tf.keras.layers.Dense(512, activation = \"relu\")(m)\n",
    "m = tf.keras.layers.Dropout(0.3)(m)\n",
    "m = tf.keras.layers.Dense(4, activation= \"softmax\")(m)\n",
    "m = tf.keras.models.Model(inputs = d.input, outputs = m)\n",
    "m.compile(optimizer = tf.keras.optimizers.Adam(0.001), \n",
    "          loss = \"categorical_crossentropy\", \n",
    "          metrics =[\"accuracy\", \n",
    "                     Precision(name='precision'), \n",
    "                     Recall(name='recall')])\n",
    "m.summary()"
   ]
  },
  {
   "cell_type": "code",
   "execution_count": null,
   "id": "39d54afb",
   "metadata": {},
   "outputs": [],
   "source": [
    "from sklearn.model_selection import train_test_split\n",
    "x_train, x_test, y_train, y_test = train_test_split(images, labels, test_size = 0.15, random_state = 42)"
   ]
  },
  {
   "cell_type": "code",
   "execution_count": null,
   "id": "dc3f5531",
   "metadata": {},
   "outputs": [],
   "source": [
    "x_train.shape"
   ]
  },
  {
   "cell_type": "code",
   "execution_count": null,
   "id": "3d7ec9e9",
   "metadata": {},
   "outputs": [],
   "source": [
    "x_test.shape"
   ]
  },
  {
   "cell_type": "markdown",
   "id": "a7f2b728",
   "metadata": {},
   "source": [
    "## Train Model"
   ]
  },
  {
   "cell_type": "code",
   "execution_count": null,
   "id": "46684522",
   "metadata": {},
   "outputs": [],
   "source": [
    "history = m.fit(x_train, y_train, epochs = 30, batch_size = 32,\n",
    "                callbacks = [\n",
    "                    tf.keras.callbacks.ReduceLROnPlateau(monitor='loss', factor=0.1, mode = 'min',\n",
    "                                                  patience= 1),\n",
    "                    tf.keras.callbacks.EarlyStopping(monitor = 'loss', patience = 3, mode = 'min', restore_best_weights = True)\n",
    "                ])"
   ]
  },
  {
   "cell_type": "code",
   "execution_count": null,
   "id": "01d7783d",
   "metadata": {},
   "outputs": [],
   "source": [
    "plt.figure(figsize = (20, 6))\n",
    "plt.plot(history.history['accuracy'], label = \"accuracy\")\n",
    "plt.plot(history.history['precision'], label = \"precision\")\n",
    "plt.plot(history.history['recall'], label = \"recall\")\n",
    "plt.plot(history.history['loss'], label = \"loss\")\n",
    "plt.legend()"
   ]
  },
  {
   "cell_type": "code",
   "execution_count": null,
   "id": "48a4571b",
   "metadata": {},
   "outputs": [],
   "source": [
    "m.evaluate(x_test, y_test, batch_size= 32)"
   ]
  },
  {
   "cell_type": "code",
   "execution_count": null,
   "id": "d375896b",
   "metadata": {},
   "outputs": [],
   "source": [
    "y_pred = m.predict(x_test)\n",
    "y_pred = np.argmax(y_pred, axis = 1)"
   ]
  },
  {
   "cell_type": "code",
   "execution_count": null,
   "id": "56fd52e8",
   "metadata": {},
   "outputs": [],
   "source": [
    "y_pred"
   ]
  },
  {
   "cell_type": "code",
   "execution_count": null,
   "id": "6237504c",
   "metadata": {},
   "outputs": [],
   "source": [
    "y_test = np.argmax(y_test, axis = 1)"
   ]
  },
  {
   "cell_type": "code",
   "execution_count": null,
   "id": "3b05238c",
   "metadata": {},
   "outputs": [],
   "source": [
    "cnn_standard_acc = accuracy_score(y_pred, y_test)\n",
    "print(cnn_standard_acc)"
   ]
  },
  {
   "cell_type": "code",
   "execution_count": null,
   "id": "72c84bb9",
   "metadata": {},
   "outputs": [],
   "source": [
    "print(classification_report(y_pred, y_test))"
   ]
  },
  {
   "cell_type": "code",
   "execution_count": null,
   "id": "e6b56501",
   "metadata": {},
   "outputs": [],
   "source": [
    "def generate_confusion_matrix(y_pred, y_test):\n",
    "    c = tf.math.confusion_matrix(y_pred, y_test)\n",
    "    sns.heatmap(c, annot=True)"
   ]
  },
  {
   "cell_type": "code",
   "execution_count": null,
   "id": "0119e485",
   "metadata": {},
   "outputs": [],
   "source": [
    "generate_confusion_matrix(y_pred, y_test)"
   ]
  },
  {
   "cell_type": "markdown",
   "id": "50b0d6b2",
   "metadata": {},
   "source": [
    "# CNN Features + (RandomForest , XGBOOST, SVM)"
   ]
  },
  {
   "cell_type": "markdown",
   "id": "f6a7e417",
   "metadata": {},
   "source": [
    "## Extract CNN features from CMM pre_traind Model"
   ]
  },
  {
   "cell_type": "code",
   "execution_count": null,
   "id": "70bc75a3",
   "metadata": {},
   "outputs": [],
   "source": [
    "new_model = tf.keras.models.Model(\n",
    "    m.input, m.get_layer('minimum').output\n",
    ")"
   ]
  },
  {
   "cell_type": "code",
   "execution_count": null,
   "id": "04867c8b",
   "metadata": {},
   "outputs": [],
   "source": [
    "features_x_train = new_model.predict(x_train)"
   ]
  },
  {
   "cell_type": "code",
   "execution_count": null,
   "id": "9d0eb8d6",
   "metadata": {},
   "outputs": [],
   "source": [
    "features_x_test = new_model.predict(x_test)"
   ]
  },
  {
   "cell_type": "code",
   "execution_count": null,
   "id": "557527a7",
   "metadata": {},
   "outputs": [],
   "source": [
    "features_x_train.shape"
   ]
  },
  {
   "cell_type": "markdown",
   "id": "35693cc4",
   "metadata": {},
   "source": [
    "## Features Engineering by scaling it"
   ]
  },
  {
   "cell_type": "code",
   "execution_count": null,
   "id": "82675624",
   "metadata": {},
   "outputs": [],
   "source": [
    "scaler = StandardScaler()\n",
    "scaler.fit(features_x_train)"
   ]
  },
  {
   "cell_type": "code",
   "execution_count": null,
   "id": "e71b585f",
   "metadata": {},
   "outputs": [],
   "source": [
    "x_tr = scaler.transform(features_x_train)\n",
    "x_te = scaler.transform(features_x_test)"
   ]
  },
  {
   "cell_type": "markdown",
   "id": "d759ae96",
   "metadata": {},
   "source": [
    "## XGBClassifier"
   ]
  },
  {
   "cell_type": "markdown",
   "id": "a3f6811c",
   "metadata": {},
   "source": [
    "![Bagging.png](attachment:b1831668-fd91-40b9-883c-19668ef6a69e.png)"
   ]
  },
  {
   "cell_type": "code",
   "execution_count": null,
   "id": "dce6a94a",
   "metadata": {},
   "outputs": [],
   "source": [
    "clf = xgb.XGBClassifier(max_depth = 50, n_estimators = 500)\n",
    "clf.fit(x_tr, np.argmax(y_train, axis = 1))"
   ]
  },
  {
   "cell_type": "code",
   "execution_count": null,
   "id": "674360dc",
   "metadata": {},
   "outputs": [],
   "source": [
    "y_pred = clf.predict(x_te)"
   ]
  },
  {
   "cell_type": "code",
   "execution_count": null,
   "id": "5532c366",
   "metadata": {},
   "outputs": [],
   "source": [
    "xgboost_acc = accuracy_score(y_pred, y_test)\n",
    "print(xgboost_acc)"
   ]
  },
  {
   "cell_type": "code",
   "execution_count": null,
   "id": "2017bcfc",
   "metadata": {},
   "outputs": [],
   "source": [
    "print(classification_report(y_pred, y_test))"
   ]
  },
  {
   "cell_type": "code",
   "execution_count": null,
   "id": "2053a9f8",
   "metadata": {},
   "outputs": [],
   "source": [
    "generate_confusion_matrix(y_pred, y_test)"
   ]
  },
  {
   "cell_type": "markdown",
   "id": "c791df84",
   "metadata": {},
   "source": [
    "## RandomForestClassifier"
   ]
  },
  {
   "cell_type": "markdown",
   "id": "ca15b29a",
   "metadata": {},
   "source": [
    "![1_hmtbIgxoflflJqMJ_UHwXw.jpeg](attachment:dc416984-439f-46bc-aa92-60455039e7ac.jpeg)"
   ]
  },
  {
   "cell_type": "code",
   "execution_count": null,
   "id": "d53e918f",
   "metadata": {},
   "outputs": [],
   "source": [
    "clf = RandomForestClassifier(max_depth=50,n_estimators = 500)\n",
    "clf.fit(x_tr, np.argmax(y_train, axis = 1))\n",
    "y_pred = clf.predict(x_te)"
   ]
  },
  {
   "cell_type": "code",
   "execution_count": null,
   "id": "e75fa04a",
   "metadata": {},
   "outputs": [],
   "source": [
    "randomforest_acc = accuracy_score(y_pred, y_test)\n",
    "print(randomforest_acc)"
   ]
  },
  {
   "cell_type": "code",
   "execution_count": null,
   "id": "a3ff341d",
   "metadata": {},
   "outputs": [],
   "source": [
    "print(classification_report(y_pred, y_test))"
   ]
  },
  {
   "cell_type": "code",
   "execution_count": null,
   "id": "f7183745",
   "metadata": {},
   "outputs": [],
   "source": [
    "generate_confusion_matrix(y_pred, y_test)"
   ]
  },
  {
   "cell_type": "markdown",
   "id": "44edb5ac",
   "metadata": {},
   "source": [
    "## Support vector machines (SVMs)"
   ]
  },
  {
   "cell_type": "markdown",
   "id": "5088de87",
   "metadata": {},
   "source": [
    "![image.png](attachment:b56ef7b5-f5f6-4b37-9f83-d9964d9720e7.png)"
   ]
  },
  {
   "cell_type": "code",
   "execution_count": null,
   "id": "7e42e4f8",
   "metadata": {},
   "outputs": [],
   "source": [
    "clf = svm.SVC(decision_function_shape='ovo')\n",
    "clf.fit(x_tr, np.argmax(y_train, axis = 1))\n",
    "y_pred = clf.predict(x_te)"
   ]
  },
  {
   "cell_type": "code",
   "execution_count": null,
   "id": "a4b624ae",
   "metadata": {},
   "outputs": [],
   "source": [
    "svm_acc = accuracy_score(y_pred, y_test)\n",
    "print(svm_acc)"
   ]
  },
  {
   "cell_type": "code",
   "execution_count": null,
   "id": "1fba155c",
   "metadata": {},
   "outputs": [],
   "source": [
    "print(classification_report(y_pred, y_test))"
   ]
  },
  {
   "cell_type": "code",
   "execution_count": null,
   "id": "a199a62a",
   "metadata": {},
   "outputs": [],
   "source": [
    "generate_confusion_matrix(y_pred, y_test)"
   ]
  },
  {
   "cell_type": "markdown",
   "id": "9a4f95e0",
   "metadata": {},
   "source": [
    "# Final Results"
   ]
  },
  {
   "cell_type": "code",
   "execution_count": null,
   "id": "bfd59c06",
   "metadata": {},
   "outputs": [],
   "source": [
    "pd.DataFrame({\n",
    "    \"Algorithm\": [\"DenseNet CNN\", \"CNN + XGBOOST\", \"CNN + Random Forest\", \"CNN + SVM\"],\n",
    "    \"Accuracy for same testing data\": [cnn_standard_acc, xgboost_acc, randomforest_acc, svm_acc],\n",
    "}).head()"
   ]
  },
  {
   "cell_type": "markdown",
   "id": "2b51d789",
   "metadata": {},
   "source": [
    "# Summary\n",
    "According to the results obtained, neural networks are still able to give better accuracy than the rest of the proposed models."
   ]
  }
 ],
 "metadata": {},
 "nbformat": 4,
 "nbformat_minor": 5
}
