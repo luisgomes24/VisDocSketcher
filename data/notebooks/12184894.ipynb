{
 "cells": [
  {
   "cell_type": "code",
   "execution_count": null,
   "id": "6f5a15c9",
   "metadata": {},
   "outputs": [],
   "source": [
    "#Importing the necessary libraries\n",
    "\n",
    "import pandas as pd\n",
    "import numpy as np\n",
    "from sklearn import metrics\n",
    "import seaborn as sns\n",
    "from sklearn.model_selection import train_test_split\n",
    "from sklearn.metrics import confusion_matrix\n",
    "from nltk.corpus import stopwords\n",
    "from sklearn.feature_extraction.text import CountVectorizer\n",
    "from sklearn.naive_bayes import MultinomialNB"
   ]
  },
  {
   "cell_type": "code",
   "execution_count": null,
   "id": "17539143",
   "metadata": {},
   "outputs": [],
   "source": [
    "#Importing the necessary libraries\n",
    "\n",
    "import pandas as pd\n",
    "import numpy as np\n",
    "from sklearn import metrics\n",
    "import seaborn as sns\n",
    "from sklearn.model_selection import train_test_split\n",
    "from sklearn.metrics import confusion_matrix\n",
    "from nltk.corpus import stopwords\n",
    "from sklearn.feature_extraction.text import CountVectorizer\n",
    "from sklearn.naive_bayes import MultinomialNB\n"
   ]
  },
  {
   "cell_type": "code",
   "execution_count": null,
   "id": "52076654",
   "metadata": {},
   "outputs": [],
   "source": [
    "#Data is tab separated\n",
    "#Putting text and type of message into respective label\n",
    "url=\"https://raw.githubusercontent.com/tanmaydn/prml-group007/master/SMSSpamCollection?token=AQ6W2IN2KOBQCGJ674JUZLS74NJ6Y\"\n",
    "df=pd.read_csv(url, sep='\\t', header=None, names=['Label', 'Text'])\n",
    "df.value_counts('Label')"
   ]
  },
  {
   "cell_type": "code",
   "execution_count": null,
   "id": "dd336ba0",
   "metadata": {},
   "outputs": [],
   "source": [
    "#Data is tab separated\n",
    "#Putting text and type of message into respective label\n",
    "url=\"https://raw.githubusercontent.com/tanmaydn/prml-group007/master/SMSSpamCollection?token=AQ6W2IN5VMP2AULUKFQDI4S7RFKDY\"\n",
    "df=pd.read_csv(url, sep='\\t', header=None, names=['Label', 'Text'])\n",
    "df.value_counts('Label')"
   ]
  },
  {
   "cell_type": "code",
   "execution_count": null,
   "id": "84b2ea8e",
   "metadata": {},
   "outputs": [],
   "source": [
    "df=df.sort_values(by='Label').reset_index(drop=True)\n",
    "df=df[2500:].reset_index(drop=True)\n",
    "df"
   ]
  },
  {
   "cell_type": "code",
   "execution_count": null,
   "id": "da33a801",
   "metadata": {},
   "outputs": [],
   "source": [
    "df=df.sort_values(by='Label').reset_index(drop=True)\n",
    "df=df[2500:].reset_index(drop=True)\n",
    "df"
   ]
  },
  {
   "cell_type": "markdown",
   "id": "994ef59d",
   "metadata": {},
   "source": [
    "# **Exploratory data Analysis**"
   ]
  },
  {
   "cell_type": "markdown",
   "id": "f55a886b",
   "metadata": {},
   "source": [
    "# **Exploratory data Analysis**"
   ]
  },
  {
   "cell_type": "code",
   "execution_count": null,
   "id": "3e8ac763",
   "metadata": {},
   "outputs": [],
   "source": [
    "print(len(df))\n",
    "df.isna().any()"
   ]
  },
  {
   "cell_type": "code",
   "execution_count": null,
   "id": "0e669a7f",
   "metadata": {},
   "outputs": [],
   "source": [
    "print(len(df))\n",
    "df.isna().any()"
   ]
  },
  {
   "cell_type": "code",
   "execution_count": null,
   "id": "88917405",
   "metadata": {},
   "outputs": [],
   "source": [
    "sns.countplot(x='Label', data=df)\n",
    "pd.value_counts(df['Label'])"
   ]
  },
  {
   "cell_type": "code",
   "execution_count": null,
   "id": "d64eabc6",
   "metadata": {},
   "outputs": [],
   "source": [
    "sns.countplot(x='Label', data=df)\n",
    "pd.value_counts(df['Label'])"
   ]
  },
  {
   "cell_type": "code",
   "execution_count": null,
   "id": "b28144f4",
   "metadata": {},
   "outputs": [],
   "source": [
    "#Text Pre processing"
   ]
  },
  {
   "cell_type": "code",
   "execution_count": null,
   "id": "ecc5f898",
   "metadata": {},
   "outputs": [],
   "source": [
    "#Text Pre processing"
   ]
  },
  {
   "cell_type": "code",
   "execution_count": null,
   "id": "03bb7ace",
   "metadata": {},
   "outputs": [],
   "source": [
    "Y=df['Label']\n",
    "X=df['Text']"
   ]
  },
  {
   "cell_type": "code",
   "execution_count": null,
   "id": "6366e8d2",
   "metadata": {},
   "outputs": [],
   "source": [
    "Y=df['Label']\n",
    "X=df['Text']"
   ]
  },
  {
   "cell_type": "code",
   "execution_count": null,
   "id": "3e72f62b",
   "metadata": {},
   "outputs": [],
   "source": [
    "X_train, X_test, Y_train, Y_test=train_test_split(X, Y, test_size=0.2, random_state=56)"
   ]
  },
  {
   "cell_type": "code",
   "execution_count": null,
   "id": "2a0db5c8",
   "metadata": {},
   "outputs": [],
   "source": [
    "X_train, X_test, Y_train, Y_test=train_test_split(X, Y, test_size=0.2, random_state=56)"
   ]
  },
  {
   "cell_type": "code",
   "execution_count": null,
   "id": "89cd18b3",
   "metadata": {},
   "outputs": [],
   "source": [
    "cv1=CountVectorizer()\n",
    "X_traincv=cv1.fit_transform(X_train, Y_train)\n",
    "\n",
    "a=X_traincv.toarray()\n",
    "cv1.get_feature_names()\n",
    "cv1.inverse_transform(a[1])"
   ]
  },
  {
   "cell_type": "code",
   "execution_count": null,
   "id": "6c5edbef",
   "metadata": {},
   "outputs": [],
   "source": [
    "X_test"
   ]
  },
  {
   "cell_type": "code",
   "execution_count": null,
   "id": "3ae9d684",
   "metadata": {},
   "outputs": [],
   "source": [
    "X_test.reset_index(drop=True)\n",
    "X_test[615]='free scholarship worth 1 crore'\n",
    "Y_test[615]='spam'\n",
    "X_test"
   ]
  },
  {
   "cell_type": "code",
   "execution_count": null,
   "id": "353d2ad2",
   "metadata": {},
   "outputs": [],
   "source": [
    "cv=CountVectorizer(stop_words='english')\n",
    "X_traincv=cv.fit_transform(X_train)\n",
    "\n",
    "X_testcv=cv.transform(X_test)\n",
    "nb_classifier=MultinomialNB()\n",
    "nb_classifier.fit(X_traincv, Y_train)"
   ]
  },
  {
   "cell_type": "code",
   "execution_count": null,
   "id": "0bbd56ca",
   "metadata": {},
   "outputs": [],
   "source": [
    "cv1=CountVectorizer()\n",
    "X_traincv=cv1.fit_transform(X_train, Y_train)\n",
    "\n",
    "a=X_traincv.toarray()\n",
    "#print(cv1.get_feature_names())\n",
    "cv1.inverse_transform(a[1])"
   ]
  },
  {
   "cell_type": "code",
   "execution_count": null,
   "id": "efc2f9cf",
   "metadata": {},
   "outputs": [],
   "source": [
    "pred=nb_classifier.predict(X_testcv)\n",
    "len(pred)"
   ]
  },
  {
   "cell_type": "code",
   "execution_count": null,
   "id": "b0c209bb",
   "metadata": {},
   "outputs": [],
   "source": [
    "cv=CountVectorizer(stop_words='english')\n",
    "X_traincv=cv.fit_transform(X_train)\n",
    "\n",
    "X_testcv=cv.transform(X_test)\n",
    "nb_classifier=MultinomialNB()\n",
    "nb_classifier.fit(X_traincv, Y_train)"
   ]
  },
  {
   "cell_type": "code",
   "execution_count": null,
   "id": "482dd382",
   "metadata": {},
   "outputs": [],
   "source": [
    "pd.DataFrame(pred).value_counts()"
   ]
  },
  {
   "cell_type": "code",
   "execution_count": null,
   "id": "6c207e1b",
   "metadata": {},
   "outputs": [],
   "source": [
    "pred=nb_classifier.predict(X_testcv)\n",
    "len(pred)"
   ]
  },
  {
   "cell_type": "code",
   "execution_count": null,
   "id": "5a785ea4",
   "metadata": {},
   "outputs": [],
   "source": [
    "Y_test.value_counts()"
   ]
  },
  {
   "cell_type": "code",
   "execution_count": null,
   "id": "85fac17f",
   "metadata": {},
   "outputs": [],
   "source": [
    "print(metrics.accuracy_score(Y_test, pred))\n",
    "metrics.confusion_matrix(Y_test, pred, labels=['ham', 'spam'])"
   ]
  },
  {
   "cell_type": "code",
   "execution_count": null,
   "id": "b9f0cd08",
   "metadata": {},
   "outputs": [],
   "source": [
    "pd.DataFrame(pred).value_counts()"
   ]
  },
  {
   "cell_type": "code",
   "execution_count": null,
   "id": "9270b470",
   "metadata": {},
   "outputs": [],
   "source": [
    "Y_test.value_counts()"
   ]
  },
  {
   "cell_type": "code",
   "execution_count": null,
   "id": "22e27e5b",
   "metadata": {},
   "outputs": [],
   "source": [
    "from sklearn.feature_extraction.text import TfidfVectorizer"
   ]
  },
  {
   "cell_type": "code",
   "execution_count": null,
   "id": "b02e8447",
   "metadata": {},
   "outputs": [],
   "source": [
    "print(\"Accuracy using Count Vectorizer\", metrics.accuracy_score(Y_test, pred))\n",
    "\n",
    "print('Confusion Matrix using Count Vectorizer')\n",
    "\n",
    "print(metrics.confusion_matrix(Y_test, pred, labels=['ham', 'spam']))"
   ]
  },
  {
   "cell_type": "code",
   "execution_count": null,
   "id": "22ecd5f0",
   "metadata": {},
   "outputs": [],
   "source": [
    "#Initializing the Vectorizer\n",
    "tfidf=TfidfVectorizer()\n",
    "\n",
    "X_train_tf=tfidf.fit_transform(X_train)\n",
    "X_test_tf=tfidf.transform(X_test)"
   ]
  },
  {
   "cell_type": "code",
   "execution_count": null,
   "id": "c1e2908a",
   "metadata": {},
   "outputs": [],
   "source": [
    "from sklearn.feature_extraction.text import TfidfVectorizer"
   ]
  },
  {
   "cell_type": "code",
   "execution_count": null,
   "id": "1f755ee7",
   "metadata": {},
   "outputs": [],
   "source": [
    "nb_classifier_new=MultinomialNB()\n",
    "\n",
    "nb_classifier_new.fit(X_train_tf, Y_train)\n",
    "pred=nb_classifier_new.predict(X_test_tf)\n",
    "pd.DataFrame(pred).value_counts()"
   ]
  },
  {
   "cell_type": "code",
   "execution_count": null,
   "id": "f3b7edde",
   "metadata": {},
   "outputs": [],
   "source": [
    "#Initializing the Vectorizer\n",
    "tfidf=TfidfVectorizer()\n",
    "\n",
    "X_train_tf=tfidf.fit_transform(X_train)\n",
    "X_test_tf=tfidf.transform(X_test)"
   ]
  },
  {
   "cell_type": "code",
   "execution_count": null,
   "id": "6136764c",
   "metadata": {},
   "outputs": [],
   "source": [
    "metrics.accuracy_score(Y_test, pred)\n",
    "metrics.confusion_matrix(Y_test, pred, labels=['ham', 'spam'])"
   ]
  },
  {
   "cell_type": "code",
   "execution_count": null,
   "id": "663efa76",
   "metadata": {},
   "outputs": [],
   "source": [
    "nb_classifier_new=MultinomialNB()\n",
    "\n",
    "nb_classifier_new.fit(X_train_tf, Y_train)\n",
    "pred=nb_classifier_new.predict(X_test_tf)\n",
    "pd.DataFrame(pred).value_counts()"
   ]
  },
  {
   "cell_type": "code",
   "execution_count": null,
   "id": "aa2d1f24",
   "metadata": {},
   "outputs": [],
   "source": [
    "print(\"Accuracy using Tf idf Vectorizer\", metrics.accuracy_score(Y_test, pred))\n",
    "\n",
    "print('Confusion Matrix using Tf idf Vectorizer')\n",
    "\n",
    "print(metrics.confusion_matrix(Y_test, pred, labels=['ham', 'spam']))"
   ]
  }
 ],
 "metadata": {},
 "nbformat": 4,
 "nbformat_minor": 5
}
