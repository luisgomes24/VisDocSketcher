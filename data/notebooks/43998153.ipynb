{
 "cells": [
  {
   "cell_type": "code",
   "execution_count": null,
   "id": "6ebc81f3",
   "metadata": {},
   "outputs": [],
   "source": [
    "# This Python 3 environment comes with many helpful analytics libraries installed\n",
    "# It is defined by the kaggle/python Docker image: https://github.com/kaggle/docker-python\n",
    "# For example, here's several helpful packages to load\n",
    "\n",
    "import numpy as np # linear algebra\n",
    "import pandas as pd # data processing, CSV file I/O (e.g. pd.read_csv)\n",
    "\n",
    "# Input data files are available in the read-only \"../input/\" directory\n",
    "# For example, running this (by clicking run or pressing Shift+Enter) will list all files under the input directory\n",
    "\n",
    "import os\n",
    "for dirname, _, filenames in os.walk('/kaggle/input'):\n",
    "    for filename in filenames:\n",
    "        print(os.path.join(dirname, filename))\n",
    "        break\n",
    "\n",
    "# You can write up to 20GB to the current directory (/kaggle/working/) that gets preserved as output when you create a version using \"Save & Run All\" \n",
    "# You can also write temporary files to /kaggle/temp/, but they won't be saved outside of the current session"
   ]
  },
  {
   "cell_type": "markdown",
   "id": "1ed1b14b",
   "metadata": {},
   "source": [
    "## Import Libraries"
   ]
  },
  {
   "cell_type": "code",
   "execution_count": null,
   "id": "70f623e4",
   "metadata": {},
   "outputs": [],
   "source": [
    "import warnings\n",
    "warnings.filterwarnings('ignore')\n",
    "\n",
    "import os\n",
    "import pandas as pd\n",
    "import numpy as np\n",
    "import matplotlib.pyplot as plt\n",
    "%matplotlib inline\n",
    "from sklearn.metrics import classification_report , confusion_matrix , accuracy_score\n",
    "from sklearn.model_selection import train_test_split\n",
    "\n",
    "import cv2\n",
    "#from google.colab.patches import cv2_imshow\n",
    "from PIL import Image \n",
    "import tensorflow as tf\n",
    "from tensorflow import keras\n",
    "from keras import Sequential\n",
    "from keras.layers import Input, Dense,Conv2D , MaxPooling2D, Flatten,BatchNormalization,Dropout\n",
    "from tensorflow.keras.preprocessing import image_dataset_from_directory\n",
    "import tensorflow_hub as hub "
   ]
  },
  {
   "cell_type": "code",
   "execution_count": null,
   "id": "b6c2f246",
   "metadata": {},
   "outputs": [],
   "source": [
    "folder_path_no = \"/kaggle/input/brain-mri-images-for-brain-tumor-detection/no\"\n",
    "folder_path_yes = \"/kaggle/input/brain-mri-images-for-brain-tumor-detection/yes\"\n",
    "\n",
    "folder_no = os.listdir(folder_path_no)\n",
    "folder_yes = os.listdir(folder_path_yes)\n",
    "\n",
    "print(len(folder_no))\n",
    "print(len(folder_yes))"
   ]
  },
  {
   "cell_type": "code",
   "execution_count": null,
   "id": "2d4c9a6b",
   "metadata": {},
   "outputs": [],
   "source": [
    "folder_no[:4]"
   ]
  },
  {
   "cell_type": "markdown",
   "id": "7f47224f",
   "metadata": {},
   "source": [
    "## Target Labels"
   ]
  },
  {
   "cell_type": "code",
   "execution_count": null,
   "id": "6d58abfc",
   "metadata": {},
   "outputs": [],
   "source": [
    "## We can consider \n",
    "   # No Tumor  >> 0\n",
    "   # Yes Tumor >> 1 \n",
    "\n",
    "no_label = [0]*len(folder_no)\n",
    "yes_label = [1]*len(folder_yes)\n",
    "\n",
    "labels = no_label + yes_label\n",
    "print(len(labels))"
   ]
  },
  {
   "cell_type": "code",
   "execution_count": null,
   "id": "2bde4f09",
   "metadata": {},
   "outputs": [],
   "source": [
    "print(labels[:5])\n",
    "print(labels[-5:])"
   ]
  },
  {
   "cell_type": "markdown",
   "id": "edc2a578",
   "metadata": {},
   "source": [
    "## Image data preprocessing "
   ]
  },
  {
   "cell_type": "code",
   "execution_count": null,
   "id": "9ffcc815",
   "metadata": {},
   "outputs": [],
   "source": [
    "# Convert image into numpy array\n",
    "# Resize image ino 224 x 224 x 3\n",
    "# Image Visualization\n",
    "# Scale the image array"
   ]
  },
  {
   "cell_type": "code",
   "execution_count": null,
   "id": "96de0bfb",
   "metadata": {},
   "outputs": [],
   "source": [
    "data = []\n",
    "\n",
    "for img in folder_no:\n",
    "    image = Image.open(\"/kaggle/input/brain-mri-images-for-brain-tumor-detection/no/\"+img)\n",
    "    image = image.resize((224,224))\n",
    "    image = image.convert(\"RGB\")\n",
    "    image = np.array(image)\n",
    "    data.append(image)\n",
    "\n",
    "for img in folder_yes:\n",
    "    image = Image.open(\"/kaggle/input/brain-mri-images-for-brain-tumor-detection/yes/\"+img)\n",
    "    image = image.resize((224,224))\n",
    "    image = image.convert(\"RGB\")\n",
    "    image = np.array(image)\n",
    "    data.append(image)"
   ]
  },
  {
   "cell_type": "code",
   "execution_count": null,
   "id": "c768ea9a",
   "metadata": {},
   "outputs": [],
   "source": [
    "len(data)"
   ]
  },
  {
   "cell_type": "code",
   "execution_count": null,
   "id": "ad6e9572",
   "metadata": {},
   "outputs": [],
   "source": [
    "data[0].shape"
   ]
  },
  {
   "cell_type": "code",
   "execution_count": null,
   "id": "c01a7959",
   "metadata": {},
   "outputs": [],
   "source": [
    "x = np.array(data)\n",
    "y = np.array(labels)"
   ]
  },
  {
   "cell_type": "code",
   "execution_count": null,
   "id": "f2838a0d",
   "metadata": {},
   "outputs": [],
   "source": [
    "x[0]"
   ]
  },
  {
   "cell_type": "code",
   "execution_count": null,
   "id": "6ab64f89",
   "metadata": {},
   "outputs": [],
   "source": [
    "y"
   ]
  },
  {
   "cell_type": "markdown",
   "id": "49801780",
   "metadata": {},
   "source": [
    "## Split The data "
   ]
  },
  {
   "cell_type": "code",
   "execution_count": null,
   "id": "755ce6c6",
   "metadata": {},
   "outputs": [],
   "source": [
    "x_train,x_test,y_train,y_test = train_test_split(x,y,test_size=0.10,shuffle=True)\n",
    "print(x_train.shape)\n",
    "print(x_test.shape)\n",
    "print(y_train.shape)\n",
    "print(y_test.shape)"
   ]
  },
  {
   "cell_type": "code",
   "execution_count": null,
   "id": "912af770",
   "metadata": {},
   "outputs": [],
   "source": [
    "x_train[0]"
   ]
  },
  {
   "cell_type": "code",
   "execution_count": null,
   "id": "da2d21c9",
   "metadata": {},
   "outputs": [],
   "source": [
    "y_train"
   ]
  },
  {
   "cell_type": "markdown",
   "id": "109d8b72",
   "metadata": {},
   "source": [
    "## Image Data Visualization"
   ]
  },
  {
   "cell_type": "code",
   "execution_count": null,
   "id": "a4e2addc",
   "metadata": {},
   "outputs": [],
   "source": [
    "class_labels=[\"No Tumor\",\"Tumor\"]\n",
    "plt.figure(figsize=(16,20))\n",
    "\n",
    "for i in range(16):\n",
    "    plt.subplot(4,4,i+1)\n",
    "    plt.imshow(x_train[i])\n",
    "    plt.title(f\"{class_labels[y_train[i]]}\")\n",
    "    plt.axis(\"off\")"
   ]
  },
  {
   "cell_type": "code",
   "execution_count": null,
   "id": "92fbb720",
   "metadata": {},
   "outputs": [],
   "source": [
    "nan"
   ]
  },
  {
   "cell_type": "markdown",
   "id": "ec9f2b8d",
   "metadata": {},
   "source": [
    "## Scale The Data"
   ]
  },
  {
   "cell_type": "code",
   "execution_count": null,
   "id": "3cb8ffad",
   "metadata": {},
   "outputs": [],
   "source": [
    "x_train_scaled = x_train/255\n",
    "x_test_scaled = x_test/255"
   ]
  },
  {
   "cell_type": "markdown",
   "id": "14e20d88",
   "metadata": {},
   "source": [
    "## Create CNN Model"
   ]
  },
  {
   "cell_type": "code",
   "execution_count": null,
   "id": "84dad6a0",
   "metadata": {},
   "outputs": [],
   "source": [
    "model = Sequential()\n",
    "model.add(Input(shape=(224,224,3)))\n",
    "model.add(Conv2D(filters=80,kernel_size=(3,3),padding=\"valid\", strides=(1,1) ,activation=\"relu\"))\n",
    "model.add(MaxPooling2D(pool_size=(2,2)))\n",
    "\n",
    "model.add(Conv2D(filters=64,kernel_size=(3,3),padding=\"valid\", strides=(1,1), activation=\"relu\"))\n",
    "model.add(MaxPooling2D(pool_size=(2,2)))\n",
    "\n",
    "#model.add(Conv2D(filters=34,kernel_size=(3,3),padding=\"valid\", strides=(1,1), activation=\"relu\"))\n",
    "#model.add(MaxPooling2D(pool_size=(2,2)))\n",
    "\n",
    "model.add(Flatten())\n",
    "\n",
    "model.add(Dense(units=500, activation='relu'))\n",
    "model.add(Dropout(0.3))\n",
    "model.add(Dense(units=500, activation='relu'))\n",
    "model.add(Dropout(0.3))\n",
    "model.add(Dense(units=1, activation='sigmoid'))\n",
    "\n",
    "\n",
    "model.compile(optimizer=\"adam\", loss=\"binary_crossentropy\",\n",
    "             metrics=[\"accuracy\"])\n",
    "\n",
    "\n",
    "model.summary()"
   ]
  },
  {
   "cell_type": "code",
   "execution_count": null,
   "id": "576504d1",
   "metadata": {},
   "outputs": [],
   "source": [
    "history = model.fit(x_train_scaled, y_train, epochs=10,\n",
    "                   validation_data=(x_test_scaled,y_test))  # batch_size=32"
   ]
  },
  {
   "cell_type": "markdown",
   "id": "453d4ed0",
   "metadata": {},
   "source": [
    "## Model Evaluation on test Data"
   ]
  },
  {
   "cell_type": "code",
   "execution_count": null,
   "id": "9571e098",
   "metadata": {},
   "outputs": [],
   "source": [
    "loss, acc = model.evaluate(x_test_scaled,y_test)\n",
    "print(\"Accuracy on Test Data:\",acc)"
   ]
  },
  {
   "cell_type": "code",
   "execution_count": null,
   "id": "6133e431",
   "metadata": {},
   "outputs": [],
   "source": [
    "y_pred = model.predict(x_test_scaled)\n",
    "y_pred = [1 if i>=0.5 else 0 for i in y_pred]\n",
    "\n",
    "y_pred[:6]"
   ]
  },
  {
   "cell_type": "code",
   "execution_count": null,
   "id": "cac523b9",
   "metadata": {},
   "outputs": [],
   "source": [
    "y_test[:10]   # Actual Label"
   ]
  },
  {
   "cell_type": "code",
   "execution_count": null,
   "id": "d9016927",
   "metadata": {},
   "outputs": [],
   "source": [
    "y_pred[:10]  # Predicted Label"
   ]
  },
  {
   "cell_type": "markdown",
   "id": "e678915a",
   "metadata": {},
   "source": [
    "## Evaluation Matrix"
   ]
  },
  {
   "cell_type": "code",
   "execution_count": null,
   "id": "461fc012",
   "metadata": {},
   "outputs": [],
   "source": [
    "print(\"Confusion Matrix:\\n\",confusion_matrix(y_test,y_pred))\n",
    "print()\n",
    "print(\"Classification Report:\\n\",classification_report(y_test,y_pred))"
   ]
  },
  {
   "cell_type": "markdown",
   "id": "34fc1116",
   "metadata": {},
   "source": [
    "## Actual & Predicted Image "
   ]
  },
  {
   "cell_type": "code",
   "execution_count": null,
   "id": "65a4b1bf",
   "metadata": {},
   "outputs": [],
   "source": [
    "class_labels=[\"No Tumor\",\"Tumor\"]\n",
    "plt.figure(figsize=(16,20))\n",
    "\n",
    "for i in range(16):\n",
    "    plt.subplot(4,4,i+1)\n",
    "    plt.imshow(x_test[i])\n",
    "    plt.title(f\"Actual label:{class_labels[y_test[i]]}\\nPredicted label:{class_labels[y_pred[i]]}\")\n",
    "    plt.axis(\"off\")"
   ]
  },
  {
   "cell_type": "code",
   "execution_count": null,
   "id": "35af8ce0",
   "metadata": {},
   "outputs": [],
   "source": [
    "nan"
   ]
  },
  {
   "cell_type": "markdown",
   "id": "77f9cc1a",
   "metadata": {},
   "source": [
    "## Using Pretrained Model"
   ]
  },
  {
   "cell_type": "code",
   "execution_count": null,
   "id": "32aba27d",
   "metadata": {},
   "outputs": [],
   "source": [
    "path = \"https://tfhub.dev/google/efficientnet/b0/classification/1\" # 224x224x3\n",
    "efficient_model = hub.KerasLayer(path,input_shape=(224,224,3),trainable=False)\n",
    "\n",
    "\n",
    "eff_model = Sequential()\n",
    "eff_model.add(efficient_model)\n",
    "eff_model.add(Dense(units=1, activation=\"sigmoid\"))\n",
    "\n",
    "eff_model.summary()"
   ]
  },
  {
   "cell_type": "code",
   "execution_count": null,
   "id": "06d0d1bf",
   "metadata": {},
   "outputs": [],
   "source": [
    "eff_model.compile(optimizer=\"adam\",\n",
    "              loss=\"binary_crossentropy\",\n",
    "              metrics=[\"accuracy\"])\n",
    "history_4 = eff_model.fit(x_train_scaled , y_train ,\n",
    "           epochs=10, validation_data=(x_test_scaled,y_test))"
   ]
  },
  {
   "cell_type": "code",
   "execution_count": null,
   "id": "71a7992a",
   "metadata": {},
   "outputs": [],
   "source": [
    "loss, acc = eff_model.evaluate(x_test_scaled,y_test)\n",
    "print(\"Accuracy on Test Data:\",acc)"
   ]
  },
  {
   "cell_type": "code",
   "execution_count": null,
   "id": "01def942",
   "metadata": {},
   "outputs": [],
   "source": [
    "y_pred = eff_model.predict(x_test_scaled)\n",
    "y_pred = [1 if i>=0.5 else 0 for i in y_pred]"
   ]
  },
  {
   "cell_type": "code",
   "execution_count": null,
   "id": "9c9e7504",
   "metadata": {},
   "outputs": [],
   "source": [
    "print(\"Confusion Matrix:\\n\",confusion_matrix(y_test,y_pred))\n",
    "print()\n",
    "print(\"Classification Report:\\n\",classification_report(y_test,y_pred))"
   ]
  },
  {
   "cell_type": "markdown",
   "id": "95d16cb4",
   "metadata": {},
   "source": [
    "## Actual & Predicted Image on EfficientNet Model"
   ]
  },
  {
   "cell_type": "code",
   "execution_count": null,
   "id": "dcf808c9",
   "metadata": {},
   "outputs": [],
   "source": [
    "class_labels=[\"No Tumor\",\"Tumor\"]\n",
    "plt.figure(figsize=(16,20))\n",
    "\n",
    "for i in range(16):\n",
    "    plt.subplot(4,4,i+1)\n",
    "    plt.imshow(x_test[i])\n",
    "    plt.title(f\"Actual label:{class_labels[y_test[i]]}\\nPredicted label:{class_labels[y_pred[i]]}\")\n",
    "    plt.axis(\"off\")"
   ]
  },
  {
   "cell_type": "code",
   "execution_count": null,
   "id": "ad00f4b5",
   "metadata": {},
   "outputs": [],
   "source": [
    "nan"
   ]
  }
 ],
 "metadata": {},
 "nbformat": 4,
 "nbformat_minor": 5
}
