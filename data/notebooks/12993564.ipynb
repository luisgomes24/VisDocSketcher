{
 "cells": [
  {
   "cell_type": "markdown",
   "id": "0834ac15",
   "metadata": {},
   "source": [
    "### - Importing the necessary Python libraries -"
   ]
  },
  {
   "cell_type": "code",
   "execution_count": null,
   "id": "856fad8a",
   "metadata": {},
   "outputs": [],
   "source": [
    "import matplotlib.pyplot as plt\n",
    "import matplotlib\n",
    "import seaborn as sns \n",
    "import numpy as np\n",
    "import pandas as pd\n",
    "import numpy as np\n",
    "\n",
    "# sns.color_palette(\"light:b\", as_cmap=True)\n",
    "sns.set_style(\"darkgrid\", {\"axes.facecolor\": \".9\"})\n",
    "\n",
    "#from PIL import Image\n",
    "#from wordcloud import WordCloud, STOPWORDS, ImageColorGenerator"
   ]
  },
  {
   "cell_type": "markdown",
   "id": "6d7b4328",
   "metadata": {},
   "source": [
    "### - Importing data files -"
   ]
  },
  {
   "cell_type": "code",
   "execution_count": null,
   "id": "57d0cc47",
   "metadata": {},
   "outputs": [],
   "source": [
    "deg = pd.read_csv('../input/college-salaries/degrees-that-pay-back.csv')\n",
    "sal_col = pd.read_csv('../input/college-salaries/salaries-by-college-type.csv')\n",
    "sal_reg = pd.read_csv('../input/college-salaries/salaries-by-region.csv')\n",
    "dataset_list = [deg, sal_col, sal_reg]"
   ]
  },
  {
   "cell_type": "markdown",
   "id": "c177bfbe",
   "metadata": {},
   "source": [
    "### - Looking at the data -"
   ]
  },
  {
   "cell_type": "code",
   "execution_count": null,
   "id": "914e1337",
   "metadata": {},
   "outputs": [],
   "source": [
    "deg.head(5)"
   ]
  },
  {
   "cell_type": "code",
   "execution_count": null,
   "id": "186d3940",
   "metadata": {},
   "outputs": [],
   "source": [
    "sal_col.head(5)"
   ]
  },
  {
   "cell_type": "code",
   "execution_count": null,
   "id": "bc867fd3",
   "metadata": {},
   "outputs": [],
   "source": [
    "sal_reg.head(5)"
   ]
  },
  {
   "cell_type": "markdown",
   "id": "e1159b26",
   "metadata": {},
   "source": [
    "### - Finding out salary variable type -"
   ]
  },
  {
   "cell_type": "code",
   "execution_count": null,
   "id": "40fe5357",
   "metadata": {},
   "outputs": [],
   "source": [
    "type(deg['Starting Median Salary'][1])"
   ]
  },
  {
   "cell_type": "markdown",
   "id": "4f273ebe",
   "metadata": {},
   "source": [
    "### - Fixing the salary variable type -"
   ]
  },
  {
   "cell_type": "code",
   "execution_count": null,
   "id": "07944ab0",
   "metadata": {},
   "outputs": [],
   "source": [
    "selected_col = ['Starting Median Salary','Mid-Career Median Salary','Mid-Career 10th Percentile Salary','Mid-Career 25th Percentile Salary','Mid-Career 75th Percentile Salary','Mid-Career 90th Percentile Salary']\n",
    "\n",
    "for dataset in dataset_list:\n",
    "    for col in selected_col:\n",
    "        dataset[col] = dataset[col].str.replace(\"$\",\"\")\n",
    "        dataset[col] = dataset[col].str.replace(\",\",\"\")\n",
    "        dataset[col] = pd.to_numeric(dataset[col])\n",
    "sal_col.head()"
   ]
  },
  {
   "cell_type": "markdown",
   "id": "f4fa8382",
   "metadata": {},
   "source": [
    "### - Getting a general idea  -"
   ]
  },
  {
   "cell_type": "code",
   "execution_count": null,
   "id": "3c29ad29",
   "metadata": {},
   "outputs": [],
   "source": [
    "deg.describe()"
   ]
  },
  {
   "cell_type": "markdown",
   "id": "ebcb05c9",
   "metadata": {},
   "source": [
    "What we can see from this table is that the minimum starting salary is $34,000 and the maximum - slightly more than $74,000. The average person starts with $41,000 and by mid-career earns $72,000 with a 68% change.\n",
    "Of course, there are significant differences between the top-performing individuals and not with on average $106,000 of difference. "
   ]
  },
  {
   "cell_type": "markdown",
   "id": "7a47bdd3",
   "metadata": {},
   "source": [
    "What we can see from this table is that the minimum starting salary is $34,000 and the maximum - slightly more than $74,000. The average person starts with $41,000 and by mid-career earns $72,000 with a 68% change.\n",
    "Of course, there are significant differences between the top-performing individuals and not with on average $106,000 of difference. "
   ]
  },
  {
   "cell_type": "markdown",
   "id": "8f64797d",
   "metadata": {},
   "source": [
    "### - Starting median salary by undergraduate major  -"
   ]
  },
  {
   "cell_type": "code",
   "execution_count": null,
   "id": "a12c4674",
   "metadata": {},
   "outputs": [],
   "source": [
    "# sns.color_palette(\"light:b\", as_cmap=True)\n",
    "# sns.set_style(\"darkgrid\", {\"axes.facecolor\": \".9\"})"
   ]
  },
  {
   "cell_type": "code",
   "execution_count": null,
   "id": "a7ebe395",
   "metadata": {},
   "outputs": [],
   "source": [
    "# sns.color_palette?"
   ]
  },
  {
   "cell_type": "markdown",
   "id": "fae981d0",
   "metadata": {},
   "source": [
    "Palete\n",
    "\n",
    "https://seaborn.pydata.org/tutorial/color_palettes.html\n"
   ]
  },
  {
   "cell_type": "code",
   "execution_count": null,
   "id": "480880c8",
   "metadata": {},
   "outputs": [],
   "source": [
    "\n",
    "deg = deg.sort_values(\"Starting Median Salary\", ascending=False).reset_index(drop=True)\n",
    "f, ax = plt.subplots(figsize=(10, 15)) \n",
    "ax.set_yticklabels(deg['Undergraduate Major'], rotation='horizontal', fontsize='medium')\n",
    "figure1 = sns.barplot(y = 'Undergraduate Major', x= 'Starting Median Salary', data=deg, palette=\"cubehelix\")\n",
    "plt.show()"
   ]
  },
  {
   "cell_type": "code",
   "execution_count": null,
   "id": "481df335",
   "metadata": {},
   "outputs": [],
   "source": [
    "deg.head()"
   ]
  },
  {
   "cell_type": "code",
   "execution_count": null,
   "id": "d6bf0b0a",
   "metadata": {},
   "outputs": [],
   "source": [
    "deg['Undergraduate Major'].unique()"
   ]
  },
  {
   "cell_type": "code",
   "execution_count": null,
   "id": "d3c11a16",
   "metadata": {},
   "outputs": [],
   "source": [
    "deg_2 = deg[deg['Undergraduate Major'].isin(['Physician Assistant', 'Chemical Engineering', 'Computer Engineering', 'Electrical Engineering'])].reset_index(drop=True)\n",
    "deg_2.head()"
   ]
  },
  {
   "cell_type": "code",
   "execution_count": null,
   "id": "0cf1acfc",
   "metadata": {},
   "outputs": [],
   "source": [
    "# pd.pivot(data=deg_2, columns=['Undergraduate Major', 'Salary'], values=[])"
   ]
  },
  {
   "cell_type": "code",
   "execution_count": null,
   "id": "faf7fd87",
   "metadata": {},
   "outputs": [],
   "source": [
    "data = list()\n",
    "\n",
    "for idx in deg_2.index:\n",
    "    \n",
    "    single_row = deg_2.loc[idx][['Undergraduate Major', 'Starting Median Salary', 'Mid-Career Median Salary']].values.tolist()\n",
    "    print(single_row)\n",
    "\n",
    "    single_row_reformated_1 = [single_row[0], single_row[1], 'Starting']\n",
    "    single_row_reformated_2 = [single_row[0], single_row[2], 'Median']\n",
    "    \n",
    "    print(single_row_reformated_1)\n",
    "    print(single_row_reformated_2)\n",
    "    print(\"-----\")\n",
    "\n",
    "    data.append(single_row_reformated_1)\n",
    "    data.append(single_row_reformated_2)\n",
    "    data += [deg_2.loc[idx][['Undergraduate Major', 'Starting Median Salary', 'Mid-Career Median Salary']].values.tolist()]\n",
    "    print(idx, data)\n",
    "\n",
    "df_mod = pd.DataFrame(data, columns=['Undergraduate Major', 'Salary', 'Type'])\n",
    "df_mod"
   ]
  },
  {
   "cell_type": "code",
   "execution_count": null,
   "id": "c91549ad",
   "metadata": {},
   "outputs": [],
   "source": [
    "f, ax = plt.subplots(figsize=(16, 7)) \n",
    "sns.barplot(x='Undergraduate Major', y='Salary', hue='Type', data=df_mod, palette=\"vlag\", ax=ax)"
   ]
  },
  {
   "cell_type": "markdown",
   "id": "b02c3ecd",
   "metadata": {},
   "source": [
    "### paprastas machine learnign"
   ]
  },
  {
   "cell_type": "code",
   "execution_count": null,
   "id": "1d733310",
   "metadata": {},
   "outputs": [],
   "source": [
    "deg.head()"
   ]
  },
  {
   "cell_type": "code",
   "execution_count": null,
   "id": "3d04b146",
   "metadata": {},
   "outputs": [],
   "source": [
    "deg[['Starting Median Salary', 'Mid-Career Median Salary']].corr()"
   ]
  },
  {
   "cell_type": "code",
   "execution_count": null,
   "id": "9843e894",
   "metadata": {},
   "outputs": [],
   "source": [
    "f, ax = plt.subplots(figsize=(18, 6)) \n",
    "\n",
    "\n",
    "ax.scatter(deg['Starting Median Salary'], deg['Mid-Career Median Salary'])\n",
    "\n",
    "ax.set_xlabel(\"start salary\")\n",
    "ax.set_ylabel(\"mid salary\")"
   ]
  },
  {
   "cell_type": "code",
   "execution_count": null,
   "id": "4f41fb34",
   "metadata": {},
   "outputs": [],
   "source": [
    "from sklearn.metrics import mean_absolute_error\n",
    "from sklearn.model_selection import train_test_split"
   ]
  },
  {
   "cell_type": "code",
   "execution_count": null,
   "id": "8b22a42a",
   "metadata": {},
   "outputs": [],
   "source": [
    "X = deg['Starting Median Salary'].copy()\n",
    "y = deg['Mid-Career Median Salary'].copy()"
   ]
  },
  {
   "cell_type": "code",
   "execution_count": null,
   "id": "cfe8a219",
   "metadata": {},
   "outputs": [],
   "source": [
    "# Split into validation and training data\n",
    "train_X, val_X, train_y, val_y = train_test_split(X, y, random_state=1)"
   ]
  },
  {
   "cell_type": "code",
   "execution_count": null,
   "id": "a5a62df2",
   "metadata": {},
   "outputs": [],
   "source": [
    "\n",
    "# geresnis kintamujju pavadinimas\n",
    "train_X, test_X, train_y, test_y = train_test_split(X, y, random_state=1)"
   ]
  },
  {
   "cell_type": "code",
   "execution_count": null,
   "id": "1172ea87",
   "metadata": {},
   "outputs": [],
   "source": [
    "X.shape"
   ]
  },
  {
   "cell_type": "code",
   "execution_count": null,
   "id": "f0db57a7",
   "metadata": {},
   "outputs": [],
   "source": [
    "train_X.shape"
   ]
  },
  {
   "cell_type": "code",
   "execution_count": null,
   "id": "0d3b7d27",
   "metadata": {},
   "outputs": [],
   "source": [
    "from sklearn.linear_model import LinearRegression"
   ]
  },
  {
   "cell_type": "code",
   "execution_count": null,
   "id": "d659ac55",
   "metadata": {},
   "outputs": [],
   "source": [
    "model_lg = LinearRegression()\n",
    "model_lg.fit(train_X.values.reshape(-1, 1), train_y)"
   ]
  },
  {
   "cell_type": "code",
   "execution_count": null,
   "id": "c8c33517",
   "metadata": {},
   "outputs": [],
   "source": [
    "pred_y_lg = model_lg.predict(test_X.values.reshape(-1, 1))"
   ]
  },
  {
   "cell_type": "code",
   "execution_count": null,
   "id": "ab95b8d9",
   "metadata": {},
   "outputs": [],
   "source": [
    "df_model_res = pd.DataFrame(np.array([test_y, pred_y_lg]).T, columns=['test', 'pred_lg'])\n",
    "\n",
    "df_model_res.head()"
   ]
  },
  {
   "cell_type": "code",
   "execution_count": null,
   "id": "92a4e644",
   "metadata": {},
   "outputs": [],
   "source": [
    "mean_absolute_error(test_y, pred_y_lg)"
   ]
  },
  {
   "cell_type": "code",
   "execution_count": null,
   "id": "22893a0f",
   "metadata": {},
   "outputs": [],
   "source": [
    "from sklearn.tree import DecisionTreeRegressor"
   ]
  },
  {
   "cell_type": "code",
   "execution_count": null,
   "id": "433e3f1b",
   "metadata": {},
   "outputs": [],
   "source": [
    "model_dt = DecisionTreeRegressor()\n",
    "model_dt.fit(train_X.values.reshape(-1, 1), train_y)"
   ]
  },
  {
   "cell_type": "code",
   "execution_count": null,
   "id": "947eeab6",
   "metadata": {},
   "outputs": [],
   "source": [
    "pred_y_dt = model_dt.predict(test_X.values.reshape(-1, 1))"
   ]
  },
  {
   "cell_type": "code",
   "execution_count": null,
   "id": "4fae54dc",
   "metadata": {},
   "outputs": [],
   "source": [
    "df_model_res['pred_dt'] = pred_y_dt\n",
    "df_model_res.head()"
   ]
  },
  {
   "cell_type": "code",
   "execution_count": null,
   "id": "473c4c9b",
   "metadata": {},
   "outputs": [],
   "source": [
    "# pd.DataFrame(np.array([test_y, pred_y]).T, columns=['test', 'pred'])"
   ]
  },
  {
   "cell_type": "code",
   "execution_count": null,
   "id": "5b244a81",
   "metadata": {},
   "outputs": [],
   "source": [
    "mean_absolute_error(test_y, pred_y)"
   ]
  },
  {
   "cell_type": "code",
   "execution_count": null,
   "id": "ef387440",
   "metadata": {},
   "outputs": [],
   "source": [
    "nan"
   ]
  },
  {
   "cell_type": "code",
   "execution_count": null,
   "id": "dcd610d7",
   "metadata": {},
   "outputs": [],
   "source": [
    "deg_2.head()"
   ]
  },
  {
   "cell_type": "code",
   "execution_count": null,
   "id": "9560ef3f",
   "metadata": {},
   "outputs": [],
   "source": [
    "f, ax = plt.subplots(figsize=(16, 8)) \n",
    "sns.catplot(x='Undergraduate Major', y = 'Mid-Career Median Salary', data=deg_2, ax=ax)"
   ]
  },
  {
   "cell_type": "code",
   "execution_count": null,
   "id": "f391232d",
   "metadata": {},
   "outputs": [],
   "source": [
    "f, ax = plt.subplots(figsize=(16, 8)) \n",
    "sns.scatterplot(x= 'Starting Median Salary', y = 'Mid-Career Median Salary', hue='Undergraduate Major', data=deg_2, ax=ax)\n",
    "ax.plot([62000, 106000], [62000, 106000])"
   ]
  },
  {
   "cell_type": "code",
   "execution_count": null,
   "id": "66755ca2",
   "metadata": {},
   "outputs": [],
   "source": [
    "g = sns.catplot(\n",
    "    data=penguins, kind=\"bar\",\n",
    "    x=\"species\", y=\"body_mass_g\", hue=\"sex\",\n",
    "    ci=\"sd\", palette=\"dark\", alpha=.6, height=6"
   ]
  },
  {
   "cell_type": "code",
   "execution_count": null,
   "id": "3d8001af",
   "metadata": {},
   "outputs": [],
   "source": [
    "deg_2.describe()"
   ]
  },
  {
   "cell_type": "code",
   "execution_count": null,
   "id": "a76a1de4",
   "metadata": {},
   "outputs": [],
   "source": [
    "x = deg['Starting Median Salary']\n",
    "y = len(deg.index) - deg.index"
   ]
  },
  {
   "cell_type": "code",
   "execution_count": null,
   "id": "3f63e616",
   "metadata": {},
   "outputs": [],
   "source": [
    "y"
   ]
  },
  {
   "cell_type": "code",
   "execution_count": null,
   "id": "fe7b22dc",
   "metadata": {},
   "outputs": [],
   "source": [
    "y"
   ]
  },
  {
   "cell_type": "code",
   "execution_count": null,
   "id": "bd30819b",
   "metadata": {},
   "outputs": [],
   "source": [
    "fig = plt.figure(figsize=(10,15))\n",
    "\n",
    "x = deg['Starting Median Salary']\n",
    "y = len(deg.index) - deg.index\n",
    "labels = deg['Undergraduate Major']\n",
    "\n",
    "plt.scatter(x, y, color='#673888', label = 'Starting Median Salary')\n",
    "plt.yticks(y, labels)\n",
    "\n",
    "x3 = deg['Mid-Career Median Salary']\n",
    "plt.scatter(x3, y, color='#363b74', label = 'Mid-Career Median Salary')\n",
    "\n",
    "plt.xlabel('Salary')\n",
    "plt.ylabel('')\n",
    "plt.show()"
   ]
  },
  {
   "cell_type": "markdown",
   "id": "f9ade153",
   "metadata": {},
   "source": [
    "### - Disciplines with the fastest growing salary throughout the career  -"
   ]
  },
  {
   "cell_type": "code",
   "execution_count": null,
   "id": "a6d32bdf",
   "metadata": {},
   "outputs": [],
   "source": [
    "salary_change = deg.sort_values('Percent change from Starting to Mid-Career Salary', ascending=False).head(10)\n",
    "f, ax = plt.subplots(figsize=(10, 5)) \n",
    "ax.set_xticklabels(salary_change['Undergraduate Major'], rotation='vertical', fontsize='medium')\n",
    "figure2 = sns.barplot(x = salary_change['Undergraduate Major'], y= salary_change['Percent change from Starting to Mid-Career Salary'])\n",
    "plt.show()"
   ]
  },
  {
   "cell_type": "markdown",
   "id": "2b754ac4",
   "metadata": {},
   "source": [
    "Whereas engineering disciplines lead in the starting salary, philosophy and math have the biggest jump from the starting to mid-career salaries, followed by international relations, economics and marketing. "
   ]
  },
  {
   "cell_type": "markdown",
   "id": "2956467b",
   "metadata": {},
   "source": [
    "### - Which regions offer highest salaries  -"
   ]
  },
  {
   "cell_type": "code",
   "execution_count": null,
   "id": "08226adf",
   "metadata": {},
   "outputs": [],
   "source": [
    "region_figure = sal_reg[['Starting Median Salary','Mid-Career Median Salary','Mid-Career 75th Percentile Salary','Region']]\n",
    "var = region_figure.groupby('Region').mean()\n",
    "var.plot(kind='line', figsize=(10, 5));"
   ]
  },
  {
   "cell_type": "markdown",
   "id": "30f3a823",
   "metadata": {},
   "source": [
    "It is evident that California and Northeastern Region offer higher salaries than other regions in US. Interestingly, it is clearly visible that the median salary growth from the starting to the 75th percentile salary is consistent throughout all the regions (those who start off higher, finish higher). "
   ]
  },
  {
   "cell_type": "markdown",
   "id": "acb4c3fa",
   "metadata": {},
   "source": [
    "### - Salary growth by school type -"
   ]
  },
  {
   "cell_type": "code",
   "execution_count": null,
   "id": "21f7037f",
   "metadata": {},
   "outputs": [],
   "source": [
    "sal_col"
   ]
  },
  {
   "cell_type": "code",
   "execution_count": null,
   "id": "46bc8a0c",
   "metadata": {},
   "outputs": [],
   "source": [
    "uni_group = sal_col.groupby(\"School Type\").mean().sort_values(by=\"Starting Median Salary\",ascending=False)\n",
    "uni_group = uni_group.transpose()\n",
    "uni_group.index"
   ]
  },
  {
   "cell_type": "code",
   "execution_count": null,
   "id": "e4ac3d49",
   "metadata": {},
   "outputs": [],
   "source": [
    "f,ax = plt.subplots(figsize=(15,7))\n",
    "uni_group.plot(ax=ax)\n",
    "ax.set_ylabel(\"Salary\")\n",
    "ax.set_xlabel(\"Career\")"
   ]
  },
  {
   "cell_type": "markdown",
   "id": "442e314d",
   "metadata": {},
   "source": [
    "box plot: https://www.statology.org/box-plot-google-sheets/"
   ]
  },
  {
   "cell_type": "code",
   "execution_count": null,
   "id": "7fb2d1f8",
   "metadata": {},
   "outputs": [],
   "source": [
    "uni_group = sal_col.groupby(\"School Type\").mean().sort_values(by=\"Starting Median Salary\",ascending=False)\n",
    "uni_group = uni_group.transpose()\n",
    "f,ax = plt.subplots(figsize=(15,7))\n",
    "uni_group.plot(ax=ax)\n",
    "ax.set_ylabel(\"Salary\")\n",
    "ax.set_xlabel(\"Career\")"
   ]
  },
  {
   "cell_type": "markdown",
   "id": "929efbbb",
   "metadata": {},
   "source": [
    "When it comes to school type, Ivy League is clearly leading with highest salaries throughout the career, with an exception at the 10th Percentile. Engineering is second, even though Liberal Arts surpasses it when it comes to 90th Percentile. Party and State universities have significantly smaller salaries throughout.  "
   ]
  }
 ],
 "metadata": {},
 "nbformat": 4,
 "nbformat_minor": 5
}
