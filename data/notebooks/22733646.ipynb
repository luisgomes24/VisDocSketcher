{
 "cells": [
  {
   "cell_type": "markdown",
   "id": "251acf86",
   "metadata": {},
   "source": [
    "# What's the Notebook for?\n",
    "\n",
    "This competition has 11,898 bounding boxes and 4,919 annotated. It looks sufficient to train the model, but considering they are sourced from almost identical successive frames, it is doubtful that they are sufficient.\n",
    "\n",
    "Can we inprove the detection model by adding new synthesized images in GAN? This is the first motivation of this approach.\n",
    "\n",
    "Here, I used the model Pedestrian-Syntheis-GAN [1], which was used to generate pseudo-images of pedestrians. The model can be trained if we prepare an image in which the BBox and the target are replaced by noise, so I trained it using a partial dataset of the competition (about 1,200 sampled clips of size 256x256).\n",
    "\n",
    "[1] https://arxiv.org/abs/1804.02047"
   ]
  },
  {
   "cell_type": "code",
   "execution_count": null,
   "id": "572b7015",
   "metadata": {},
   "outputs": [],
   "source": [
    "import pandas as pd\n",
    "import numpy as np\n",
    "import matplotlib.pyplot as plt"
   ]
  },
  {
   "cell_type": "code",
   "execution_count": null,
   "id": "62645b88",
   "metadata": {},
   "outputs": [],
   "source": [
    "from pathlib import Path\n",
    "ROOT_DIR = Path('/kaggle')\n",
    "INPUT_DIR = ROOT_DIR / 'input'\n",
    "WORK_DIR = ROOT_DIR / 'working'\n",
    "\n",
    "train = pd.read_csv(INPUT_DIR / 'tensorflow-great-barrier-reef/train.csv')"
   ]
  },
  {
   "cell_type": "code",
   "execution_count": null,
   "id": "b7c898ed",
   "metadata": {},
   "outputs": [],
   "source": [
    "train['n_bbox'] = train['annotations'].apply(lambda x: len(eval(x)))"
   ]
  },
  {
   "cell_type": "code",
   "execution_count": null,
   "id": "4cc44218",
   "metadata": {},
   "outputs": [],
   "source": [
    "# number of bounding boxes\n",
    "train['n_bbox'].sum()"
   ]
  },
  {
   "cell_type": "code",
   "execution_count": null,
   "id": "76e29012",
   "metadata": {},
   "outputs": [],
   "source": [
    "# number of annotated frames\n",
    "len(train.query('n_bbox > 0'))"
   ]
  },
  {
   "cell_type": "code",
   "execution_count": null,
   "id": "783f3da4",
   "metadata": {},
   "outputs": [],
   "source": [
    "image_path = INPUT_DIR / 'starfish-generate-psgan-dataset/psgan_datasets/images/train/10.png'"
   ]
  },
  {
   "cell_type": "markdown",
   "id": "5081bfcf",
   "metadata": {},
   "source": [
    "# Input Image for Pedestrian-Synthesis GAN (PS-GAN)"
   ]
  },
  {
   "cell_type": "code",
   "execution_count": null,
   "id": "079a6d52",
   "metadata": {},
   "outputs": [],
   "source": [
    "fig, ax = plt.subplots()\n",
    "img = plt.imread(image_path)\n",
    "ax.imshow(img)\n",
    "plt.axis('off');"
   ]
  },
  {
   "cell_type": "markdown",
   "id": "dd10ea7d",
   "metadata": {},
   "source": [
    "# Synthesized Results\n",
    "\n",
    "Here, I can show part of the synthesized results."
   ]
  },
  {
   "cell_type": "code",
   "execution_count": null,
   "id": "7fe9f0a4",
   "metadata": {},
   "outputs": [],
   "source": [
    "import os\n",
    "\n",
    "\n",
    "def plot_real_and_fake_image(image_id,\n",
    "                             root_path='/kaggle/input/starfish-psgan-results/results/img_128_v7/test_latest/images'):\n",
    "    \n",
    "    image_paths = [\n",
    "        os.path.join(root_path, f'{image_id}_real_B.png'),\n",
    "        os.path.join(root_path, f'{image_id}_real_A.png'),\n",
    "        os.path.join(root_path, f'{image_id}_fake_B.png'),\n",
    "    ]\n",
    "    \n",
    "    fig, axs = plt.subplots(1, 3, figsize=(9, 3))\n",
    "    \n",
    "    labels = ['real', 'input', 'synthesized']\n",
    "    for ax, image_path, label in zip(axs, image_paths, labels):\n",
    "        img = plt.imread(image_path)\n",
    "        ax.imshow(img)\n",
    "        ax.set_title(label, fontsize=14)\n",
    "        ax.axis('off')\n",
    "        \n",
    "    plt.tight_layout()"
   ]
  },
  {
   "cell_type": "markdown",
   "id": "88081bc1",
   "metadata": {},
   "source": [
    "## Sample of Synthesized Images"
   ]
  },
  {
   "cell_type": "code",
   "execution_count": null,
   "id": "5b98fbb6",
   "metadata": {},
   "outputs": [],
   "source": [
    "plot_real_and_fake_image(91)"
   ]
  },
  {
   "cell_type": "code",
   "execution_count": null,
   "id": "a22ac32c",
   "metadata": {},
   "outputs": [],
   "source": [
    "plot_real_and_fake_image(67)"
   ]
  },
  {
   "cell_type": "code",
   "execution_count": null,
   "id": "e9203bb0",
   "metadata": {},
   "outputs": [],
   "source": [
    "plot_real_and_fake_image(22)"
   ]
  },
  {
   "cell_type": "code",
   "execution_count": null,
   "id": "ac2118cf",
   "metadata": {},
   "outputs": [],
   "source": [
    "plot_real_and_fake_image(63)"
   ]
  },
  {
   "cell_type": "markdown",
   "id": "9759a85d",
   "metadata": {},
   "source": [
    "I trained the model for about 150 epochs, but the latest model's discriminator seems overfitting because almost perfectly discriminates fake and real. So I used weight of 125 epoch.\n",
    "\n",
    "The model sometimes generates COTS-like object, sometimes not. Since I fed only 1200 input data, I think the model are overfitted. It sometimes outputs completely fake-looking images when fed new image which doesn't apper in train dataset.\n",
    "\n",
    "I doubt this model can generate the data useful for object detection."
   ]
  },
  {
   "cell_type": "markdown",
   "id": "102ac0c7",
   "metadata": {},
   "source": [
    "## Sample of Poorly Sinthesized Images"
   ]
  },
  {
   "cell_type": "code",
   "execution_count": null,
   "id": "c15a494f",
   "metadata": {},
   "outputs": [],
   "source": [
    "plot_real_and_fake_image(92)"
   ]
  },
  {
   "cell_type": "code",
   "execution_count": null,
   "id": "d3b5939c",
   "metadata": {},
   "outputs": [],
   "source": [
    "plot_real_and_fake_image(15)"
   ]
  },
  {
   "cell_type": "markdown",
   "id": "2b49ebb8",
   "metadata": {},
   "source": [
    "# Reference\n",
    "\n",
    "The original repository [2] has many bugs, so I forked and modified the repository [3]. \n",
    "(The modified repository might still contain many bugs.)\n",
    "\n",
    "* [2] https://github.com/yueruchen/Pedestrian-Synthesis-GAN\n",
    "* [3] https://github.com/bilzard/Pedestrian-Synthesis-GAN"
   ]
  }
 ],
 "metadata": {},
 "nbformat": 4,
 "nbformat_minor": 5
}
