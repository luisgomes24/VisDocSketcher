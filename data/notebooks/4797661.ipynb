{
 "cells": [
  {
   "cell_type": "markdown",
   "id": "59809c8a",
   "metadata": {},
   "source": [
    "**[Data Visualization: From Non-Coder to Coder Micro-Course Home Page](https://www.kaggle.com/learn/data-visualization-from-non-coder-to-coder)**\n",
    "\n",
    "---\n"
   ]
  },
  {
   "cell_type": "markdown",
   "id": "eaba4566",
   "metadata": {},
   "source": [
    "In this exercise, you'll explore different chart styles, to see which color combinations and fonts you like best!\n",
    "\n",
    "## Setup\n",
    "\n",
    "Run the next cell to import and configure the Python libraries that you need to complete the exercise."
   ]
  },
  {
   "cell_type": "code",
   "execution_count": null,
   "id": "6398f6a8",
   "metadata": {},
   "outputs": [],
   "source": [
    "import pandas as pd\n",
    "import matplotlib.pyplot as plt\n",
    "%matplotlib inline\n",
    "import seaborn as sns\n",
    "print(\"Setup Complete\")"
   ]
  },
  {
   "cell_type": "markdown",
   "id": "8d6732ad",
   "metadata": {},
   "source": [
    "The questions below will give you feedback on your work. Run the following cell to set up our feedback system."
   ]
  },
  {
   "cell_type": "code",
   "execution_count": null,
   "id": "be14fa78",
   "metadata": {},
   "outputs": [],
   "source": [
    "# Set up code checking\n",
    "from learntools.core import binder\n",
    "binder.bind(globals())\n",
    "from learntools.data_viz_to_coder.ex6 import *\n",
    "print(\"Setup Complete\")"
   ]
  },
  {
   "cell_type": "markdown",
   "id": "c111599a",
   "metadata": {},
   "source": [
    "You'll work with a chart from the previous tutorial.  Run the next cell to load the data."
   ]
  },
  {
   "cell_type": "code",
   "execution_count": null,
   "id": "16766c34",
   "metadata": {},
   "outputs": [],
   "source": [
    "# Path of the file to read\n",
    "spotify_filepath = \"../input/spotify.csv\"\n",
    "\n",
    "# Read the file into a variable spotify_data\n",
    "spotify_data = pd.read_csv(spotify_filepath, index_col=\"Date\", parse_dates=True)"
   ]
  },
  {
   "cell_type": "markdown",
   "id": "c99bf033",
   "metadata": {},
   "source": [
    "# Try out seaborn styles\n",
    "\n",
    "Run the command below to try out the `\"dark\"` theme."
   ]
  },
  {
   "cell_type": "code",
   "execution_count": null,
   "id": "f9e0dbc1",
   "metadata": {},
   "outputs": [],
   "source": [
    "# Change the style of the figure\n",
    "sns.set_style(\"dark\")\n",
    "\n",
    "# Line chart \n",
    "plt.figure(figsize=(12,6))\n",
    "sns.lineplot(data=spotify_data)\n",
    "\n",
    "# Mark the exercise complete after the code cell is run\n",
    "step_1.check()"
   ]
  },
  {
   "cell_type": "markdown",
   "id": "4e82178e",
   "metadata": {},
   "source": [
    "Now, try out different themes by amending the first line of code and running the code cell again.  Remember the list of available themes:\n",
    "- `\"darkgrid\"`\n",
    "- `\"whitegrid\"`\n",
    "- `\"dark\"`\n",
    "- `\"white\"`\n",
    "- `\"ticks\"`\n",
    "\n",
    "This notebook is your playground -- feel free to experiment as little or as much you wish here!  The exercise is marked as complete after you run every code cell in the notebook at least once.\n",
    "\n",
    "## Keep going\n",
    "\n",
    "Learn about how to select and visualize your own datasets in the **[next tutorial](https://www.kaggle.com/alexisbcook/final-project)**!"
   ]
  },
  {
   "cell_type": "markdown",
   "id": "9037dcc5",
   "metadata": {},
   "source": [
    "---\n",
    "**[Data Visualization: From Non-Coder to Coder Micro-Course Home Page](https://www.kaggle.com/learn/data-visualization-from-non-coder-to-coder)**\n",
    "\n"
   ]
  }
 ],
 "metadata": {},
 "nbformat": 4,
 "nbformat_minor": 5
}
