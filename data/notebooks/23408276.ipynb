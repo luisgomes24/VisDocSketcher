{
 "cells": [
  {
   "cell_type": "markdown",
   "id": "61a8519d",
   "metadata": {},
   "source": [
    "<h1>SPAM vs HAM Message Classification using NLP</h1>"
   ]
  },
  {
   "cell_type": "markdown",
   "id": "cb3b3375",
   "metadata": {},
   "source": [
    "<img src=\"https://media-exp1.licdn.com/dms/image/C4D12AQGcO7K2z4FRAQ/article-cover_image-shrink_600_2000/0/1626909750548?e=2147483647&v=beta&t=8ItTeGUTBm1054CLh17YnZ2fWM0WWkp7a_962aaV00Y\" style=\"width:100%;margin:auto;\">"
   ]
  },
  {
   "cell_type": "code",
   "execution_count": null,
   "id": "2bdbd055",
   "metadata": {},
   "outputs": [],
   "source": [
    "import pandas as pd\n",
    "import numpy as np\n",
    "import matplotlib.pyplot as plt\n",
    "from sklearn.feature_extraction.text import TfidfVectorizer\n",
    "from sklearn.preprocessing import LabelEncoder\n",
    "from sklearn.model_selection import train_test_split\n",
    "from textblob import TextBlob\n",
    "from sklearn.ensemble import RandomForestClassifier\n",
    "from sklearn.metrics import confusion_matrix, ConfusionMatrixDisplay"
   ]
  },
  {
   "cell_type": "markdown",
   "id": "e47e7b3a",
   "metadata": {},
   "source": [
    "<h2>Data Loading</h2>"
   ]
  },
  {
   "cell_type": "code",
   "execution_count": null,
   "id": "1e181e90",
   "metadata": {},
   "outputs": [],
   "source": [
    "data = pd.read_csv(\"../input/sms-spam-collection-dataset/spam.csv\",encoding=\"ISO-8859-1\")\n",
    "data"
   ]
  },
  {
   "cell_type": "markdown",
   "id": "32fab7ee",
   "metadata": {},
   "source": [
    "<h2>Data Engineering</h2>"
   ]
  },
  {
   "cell_type": "code",
   "execution_count": null,
   "id": "efc95473",
   "metadata": {},
   "outputs": [],
   "source": [
    "data.isna().sum()"
   ]
  },
  {
   "cell_type": "markdown",
   "id": "d9195e7a",
   "metadata": {},
   "source": [
    "<b>Drop unnecessary columns</b>"
   ]
  },
  {
   "cell_type": "code",
   "execution_count": null,
   "id": "799a08fd",
   "metadata": {},
   "outputs": [],
   "source": [
    "data.drop([\"Unnamed: 2\",\"Unnamed: 3\",\"Unnamed: 4\"],axis=1,inplace=True)"
   ]
  },
  {
   "cell_type": "markdown",
   "id": "69dca60e",
   "metadata": {},
   "source": [
    "<b>Rename columns</b>"
   ]
  },
  {
   "cell_type": "code",
   "execution_count": null,
   "id": "570523e7",
   "metadata": {},
   "outputs": [],
   "source": [
    "data.rename(columns={'v1' : 'Class','v2' : 'Text'},inplace=True)"
   ]
  },
  {
   "cell_type": "markdown",
   "id": "df626f1c",
   "metadata": {},
   "source": [
    "<b>Sentiment Identification</b>"
   ]
  },
  {
   "cell_type": "code",
   "execution_count": null,
   "id": "dba20e3d",
   "metadata": {},
   "outputs": [],
   "source": [
    "sentiment = []\n",
    "for text in data.Text.values:\n",
    "    res = TextBlob(text).sentiment.polarity\n",
    "    if res < 0:\n",
    "        sentiment.append(\"Negative\")\n",
    "    elif res == 0:\n",
    "        sentiment.append(\"Neutral\")\n",
    "    else:\n",
    "        sentiment.append(\"Positive\")\n",
    "data[\"Sentiment\"] = sentiment"
   ]
  },
  {
   "cell_type": "markdown",
   "id": "3f6a3720",
   "metadata": {},
   "source": [
    "<h2>Data Exploration</h2>"
   ]
  },
  {
   "cell_type": "markdown",
   "id": "fd6efd22",
   "metadata": {},
   "source": [
    "<h3>Class Balancing</h3>"
   ]
  },
  {
   "cell_type": "code",
   "execution_count": null,
   "id": "1b772473",
   "metadata": {},
   "outputs": [],
   "source": [
    "un, count = np.unique(data.Class, return_counts=True)\n",
    "plt.bar(un, count)\n",
    "plt.xlabel(\"Class\")\n",
    "plt.ylabel(\"Count\")\n",
    "plt.title(\"Class Balancing\")\n",
    "plt.show()"
   ]
  },
  {
   "cell_type": "markdown",
   "id": "36384ce9",
   "metadata": {},
   "source": [
    "<h3>Sentiment Distribution</h3>"
   ]
  },
  {
   "cell_type": "code",
   "execution_count": null,
   "id": "4c90a0b0",
   "metadata": {},
   "outputs": [],
   "source": [
    "un, count = np.unique(data.Sentiment, return_counts=True)\n",
    "plt.bar(un, count)\n",
    "plt.xlabel(\"Sentiment\")\n",
    "plt.ylabel(\"Count\")\n",
    "plt.title(\"Sentiment Distribution\")\n",
    "plt.show()"
   ]
  },
  {
   "cell_type": "markdown",
   "id": "cb05a900",
   "metadata": {},
   "source": [
    "<h3>Data Modelling</h3>"
   ]
  },
  {
   "cell_type": "markdown",
   "id": "4bf3b6fa",
   "metadata": {},
   "source": [
    "<b>Vectorizing</b>"
   ]
  },
  {
   "cell_type": "code",
   "execution_count": null,
   "id": "1484505b",
   "metadata": {},
   "outputs": [],
   "source": [
    "vec = TfidfVectorizer()\n",
    "enc = LabelEncoder()\n",
    "data.Class = enc.fit_transform(data.Class.values)\n",
    "X_train,X_test,Y_train,Y_test = train_test_split(vec.fit_transform(data['Text']).toarray(),\n",
    "                                                 data['Class'].values,\n",
    "                                                 test_size = 0.2,\n",
    "                                                 random_state=42)"
   ]
  },
  {
   "cell_type": "code",
   "execution_count": null,
   "id": "20531ec9",
   "metadata": {},
   "outputs": [],
   "source": [
    "model = RandomForestClassifier(n_estimators=100)\n",
    "model.fit(X_train,Y_train)"
   ]
  },
  {
   "cell_type": "markdown",
   "id": "459fd6b6",
   "metadata": {},
   "source": [
    "<b>Metrics</b>"
   ]
  },
  {
   "cell_type": "code",
   "execution_count": null,
   "id": "7d8de0f8",
   "metadata": {},
   "outputs": [],
   "source": [
    "from sklearn.metrics import accuracy_score, precision_score,recall_score\n",
    "print(\"Train Accuracy     : {:.2f} %\".format(accuracy_score(model.predict(X_train),Y_train)))\n",
    "print(\"Test Accuracy      : {:.2f} %\".format(accuracy_score(model.predict(X_test),Y_test)))\n",
    "print(\"Precision Accuracy : {:.2f} %\".format(precision_score(model.predict(X_test),Y_test)))\n",
    "print(\"Recall Accuracy    : {:.2f} %\".format(recall_score(model.predict(X_test),Y_test)))"
   ]
  },
  {
   "cell_type": "markdown",
   "id": "1426cfbf",
   "metadata": {},
   "source": [
    "<b>Confusion Matrix</b>"
   ]
  },
  {
   "cell_type": "code",
   "execution_count": null,
   "id": "d4390194",
   "metadata": {},
   "outputs": [],
   "source": [
    "cf = confusion_matrix(model.predict(X_test),Y_test, labels=[0,1])\n",
    "disp = ConfusionMatrixDisplay(confusion_matrix = cf, display_labels = [\"ham\",\"spam\"])\n",
    "disp.plot()\n",
    "plt.title(\"Confusion Matrix\")\n",
    "plt.show()"
   ]
  },
  {
   "cell_type": "markdown",
   "id": "af319015",
   "metadata": {},
   "source": [
    "<b>Inference : </b>Due to the large imbalance of the classes, there is a large variation in precision and recall. Future works can focus on improving precision/recall and on better processing of data."
   ]
  },
  {
   "cell_type": "markdown",
   "id": "b37e07f5",
   "metadata": {},
   "source": [
    "<h1 style=\"margin:auto;text-align:center;background-color:rgb(232, 230, 223);border-radius : 5px;padding-top : 25px;padding-bottom : 25px; width : 80%;font-size : 25px;\">Thank you for reading! Upvote and share my notebook if you liked it</h1>"
   ]
  }
 ],
 "metadata": {},
 "nbformat": 4,
 "nbformat_minor": 5
}
