{
 "cells": [
  {
   "cell_type": "markdown",
   "id": "225e8815",
   "metadata": {},
   "source": [
    "# Covid19 stats in Turkey\n",
    "\n",
    "### Import the modules"
   ]
  },
  {
   "cell_type": "code",
   "execution_count": null,
   "id": "2937af67",
   "metadata": {},
   "outputs": [],
   "source": [
    "import matplotlib.pyplot as plt\n",
    "import matplotlib.dates as mdates\n",
    "import geopandas as gpd\n",
    "import pandas as pd"
   ]
  },
  {
   "cell_type": "markdown",
   "id": "745afce9",
   "metadata": {},
   "source": [
    "### The function for plotting the map"
   ]
  },
  {
   "cell_type": "code",
   "execution_count": null,
   "id": "0bd55392",
   "metadata": {},
   "outputs": [],
   "source": [
    "def plot_record(shape, df, date):\n",
    "    fig, ax = plt.subplots(1, 1, figsize=(20, 10))\n",
    "    shape[\"Case\"] = 0\n",
    "    ax.set_facecolor(\"gray\")\n",
    "    \n",
    "    coords = {\n",
    "        \"Istanbul\": (29, 41), \n",
    "        \"Western Marmara\": (27.5, 39.7),\n",
    "        \"Aegean\": (28.5, 38),\n",
    "        \"Eastern Marmara\": (30, 40),\n",
    "        \"Western Anatolia\": (32.5, 38),\n",
    "        \"Mediterranean\": (32.5, 36),\n",
    "        \"Central Anatolia\": (35.5, 39),\n",
    "        \"Western Blacksea\": (34.5, 40.8),\n",
    "        \"Eastern Blacksea\": (39.2, 40.5),\n",
    "        \"Northeastern Anatolia\": (41.5, 39.8),\n",
    "        \"Mideastern Anatolia\": (40.5, 38.8),\n",
    "        \"Southeastern Anatolia\": (40, 37.4)\n",
    "    }\n",
    "    \n",
    "    for column in df.columns[1:-1]:\n",
    "        case_count = df.loc[df[\"Date\"] == date, column].values[0]\n",
    "        shape.loc[shape[\"Region\"] == column, \"Case\"] = case_count\n",
    "        plt.annotate(s=case_count, xy=coords[column], horizontalalignment='center', color=\"white\", fontsize=30)\n",
    "        \n",
    "    shape.plot(column=\"Case\", ax=ax, legend=True, cmap='copper', legend_kwds={'label': \"Case count\", 'orientation': \"horizontal\", 'shrink': 0.3})\n",
    "    shape.drop(columns=[\"Case\"])"
   ]
  },
  {
   "cell_type": "markdown",
   "id": "23f423a7",
   "metadata": {},
   "source": [
    "### Plot the map for a spesific day (31th of August in this example)"
   ]
  },
  {
   "cell_type": "code",
   "execution_count": null,
   "id": "29828871",
   "metadata": {},
   "outputs": [],
   "source": [
    "turkey_map = gpd.read_file(\"../input/covid19-in-turkey-by-regions/shape/turkey.shp\")\n",
    "table = pd.read_csv(\"../input/covid19-in-turkey-by-regions/turkey_covid19.csv\")\n",
    "date = \"2020-08-31\"\n",
    "\n",
    "plot_record(turkey_map, table, date)"
   ]
  },
  {
   "cell_type": "markdown",
   "id": "82113730",
   "metadata": {},
   "source": [
    "### Plot all the data (29/06/2020 - 22/09/2020)"
   ]
  },
  {
   "cell_type": "code",
   "execution_count": null,
   "id": "4b8dfd33",
   "metadata": {},
   "outputs": [],
   "source": [
    "fig, ax = plt.subplots(1, 1, figsize=(20, 12))\n",
    "\n",
    "table[\"Date\"] = pd.to_datetime(table[\"Date\"], yearfirst=True)\n",
    "\n",
    "ax.set_title(\"Covid19 Cases by Regions\")\n",
    "ax.set_xlabel(\"Date\")\n",
    "ax.set_ylabel(\"Cases\")\n",
    "\n",
    "locator = mdates.AutoDateLocator()\n",
    "formatter = mdates.ConciseDateFormatter(locator)\n",
    "\n",
    "ax.xaxis.set_major_locator(locator)\n",
    "ax.xaxis.set_major_formatter(formatter)\n",
    "\n",
    "for column in table.columns[1:-1]:\n",
    "    ax.plot(table[\"Date\"], table[column])\n",
    "    \n",
    "ax.legend(table.columns[1:-1])\n",
    "\n",
    "ax.grid()\n",
    "\n",
    "plt.show()"
   ]
  },
  {
   "cell_type": "code",
   "execution_count": null,
   "id": "78bafae9",
   "metadata": {},
   "outputs": [],
   "source": [
    "nan"
   ]
  }
 ],
 "metadata": {},
 "nbformat": 4,
 "nbformat_minor": 5
}
