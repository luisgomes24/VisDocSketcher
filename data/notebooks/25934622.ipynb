{
 "cells": [
  {
   "cell_type": "code",
   "execution_count": null,
   "id": "fa3bcc73",
   "metadata": {},
   "outputs": [],
   "source": [
    "import pandas as pd\n",
    "import matplotlib.pyplot as plt\n",
    "import numpy as np\n",
    "import itertools\n",
    "\n",
    "import seaborn as sns\n",
    "sns.set_theme(style=\"whitegrid\")\n",
    "\n",
    "%matplotlib inline\n",
    "\n",
    "import os\n",
    "for dirname, _, filenames in os.walk('/kaggle/input'):\n",
    "    for filename in filenames:\n",
    "        print(os.path.join(dirname, filename))"
   ]
  },
  {
   "cell_type": "code",
   "execution_count": null,
   "id": "0c267a5c",
   "metadata": {},
   "outputs": [],
   "source": [
    "train = pd.read_csv(\"/kaggle/input/tabular-playground-series-apr-2022/train.csv\")"
   ]
  },
  {
   "cell_type": "code",
   "execution_count": null,
   "id": "74e8faa2",
   "metadata": {},
   "outputs": [],
   "source": [
    "train.info()"
   ]
  },
  {
   "cell_type": "code",
   "execution_count": null,
   "id": "7a491231",
   "metadata": {},
   "outputs": [],
   "source": [
    "test = pd.read_csv(\"/kaggle/input/tabular-playground-series-apr-2022/test.csv\")"
   ]
  },
  {
   "cell_type": "code",
   "execution_count": null,
   "id": "4dab400e",
   "metadata": {},
   "outputs": [],
   "source": [
    "train.head(n=25)"
   ]
  },
  {
   "cell_type": "code",
   "execution_count": null,
   "id": "05a712b6",
   "metadata": {},
   "outputs": [],
   "source": [
    "test.head()"
   ]
  },
  {
   "cell_type": "code",
   "execution_count": null,
   "id": "a5d23757",
   "metadata": {},
   "outputs": [],
   "source": [
    "train_labels = pd.read_csv(\"/kaggle/input/tabular-playground-series-apr-2022/train_labels.csv\")"
   ]
  },
  {
   "cell_type": "code",
   "execution_count": null,
   "id": "3c3a6b4d",
   "metadata": {},
   "outputs": [],
   "source": [
    "submission = pd.read_csv(\"/kaggle/input/tabular-playground-series-apr-2022/sample_submission.csv\")"
   ]
  },
  {
   "cell_type": "markdown",
   "id": "1e7e291a",
   "metadata": {},
   "source": [
    "## EDA"
   ]
  },
  {
   "cell_type": "code",
   "execution_count": null,
   "id": "6ecd7b2a",
   "metadata": {},
   "outputs": [],
   "source": [
    "print(\"Size of train data: \", train.shape)\n",
    "print(\"Size of test data: \", test.shape)"
   ]
  },
  {
   "cell_type": "code",
   "execution_count": null,
   "id": "63150922",
   "metadata": {},
   "outputs": [],
   "source": [
    "# Check how much data we have per subject\n",
    "print(\"Min step: \", train.step.min())\n",
    "print(\"Max step: \", train.step.max())"
   ]
  },
  {
   "cell_type": "code",
   "execution_count": null,
   "id": "e39010df",
   "metadata": {},
   "outputs": [],
   "source": [
    "# Check how many subjects the data has\n",
    "print(\"Number of unique subjects: \", train.subject.nunique())\n",
    "print(\"Smallest subject number: \", train.subject.min())\n",
    "print(\"Largest subject number: \", train.subject.max())"
   ]
  },
  {
   "cell_type": "code",
   "execution_count": null,
   "id": "2cf0150a",
   "metadata": {},
   "outputs": [],
   "source": [
    "# Understand how sequence, subject and state relate to each other\n",
    "\n",
    "# sequence -> subject -> step"
   ]
  },
  {
   "cell_type": "code",
   "execution_count": null,
   "id": "ba4933dd",
   "metadata": {},
   "outputs": [],
   "source": [
    "train_labels.head()"
   ]
  },
  {
   "cell_type": "code",
   "execution_count": null,
   "id": "511d8074",
   "metadata": {},
   "outputs": [],
   "source": [
    "train.describe()"
   ]
  },
  {
   "cell_type": "code",
   "execution_count": null,
   "id": "25ceeb15",
   "metadata": {},
   "outputs": [],
   "source": [
    "# Check missing data\n",
    "train.isnull().sum()"
   ]
  },
  {
   "cell_type": "code",
   "execution_count": null,
   "id": "0ae74dc2",
   "metadata": {},
   "outputs": [],
   "source": [
    "# Check for duplicated data\n",
    "train.duplicated().value_counts()"
   ]
  },
  {
   "cell_type": "code",
   "execution_count": null,
   "id": "9c7523fd",
   "metadata": {},
   "outputs": [],
   "source": [
    "# Is the dataset balanced?\n",
    "sns.countplot(x=\"state\", data=train_labels);\n",
    "plt.title('Number of states', fontsize=18);\n",
    "plt.xlabel('State', fontsize=16);\n",
    "plt.ylabel('Count', fontsize=16);"
   ]
  },
  {
   "cell_type": "code",
   "execution_count": null,
   "id": "cdd8cca3",
   "metadata": {},
   "outputs": [],
   "source": [
    "# check the correlation\n",
    "# From https://www.kaggle.com/code/abdulravoofshaik/early-eda-and-insights\n",
    "\n",
    "corr = train.corr()\n",
    "fig, ax = plt.subplots(1,1, figsize = (15,6))\n",
    "\n",
    "hm = sns.heatmap(train.iloc[:,:12].corr(),\n",
    "                ax = ax,\n",
    "                cmap = 'coolwarm',\n",
    "                annot = True,\n",
    "                fmt = '.2f',\n",
    "                linewidths = 0.05)\n",
    "fig.subplots_adjust(top=0.93)\n",
    "fig.suptitle('Correlation Heatmap for Train dataset', \n",
    "              fontsize=14, \n",
    "              fontweight='bold')"
   ]
  },
  {
   "cell_type": "markdown",
   "id": "832af8c6",
   "metadata": {},
   "source": [
    "## Summary of findings \n",
    "\n",
    "* The data is composed of sequence -> subject -> step\n",
    "* 13 different sensors\n",
    "* No missing data\n",
    "* There are some duplicate values\n",
    "* Some sensors have correlation\n",
    "* Classes are more or less balanced"
   ]
  },
  {
   "cell_type": "markdown",
   "id": "83bb4fb2",
   "metadata": {},
   "source": [
    "## Baseline model"
   ]
  },
  {
   "cell_type": "markdown",
   "id": "99fff83f",
   "metadata": {},
   "source": [
    "### Feature engineering"
   ]
  },
  {
   "cell_type": "code",
   "execution_count": null,
   "id": "0c18825a",
   "metadata": {},
   "outputs": [],
   "source": [
    "import xgboost as xgb\n",
    "from sklearn.metrics import f1_score, fbeta_score, precision_score, recall_score, roc_auc_score\n",
    "from sklearn.model_selection import StratifiedKFold, KFold, train_test_split, GroupKFold\n",
    "from xgboost import XGBClassifier\n"
   ]
  },
  {
   "cell_type": "code",
   "execution_count": null,
   "id": "67ab3274",
   "metadata": {},
   "outputs": [],
   "source": [
    "cols_remove = train.columns.tolist()\n",
    "cols_remove.remove('sequence')\n",
    "cols_remove.remove('subject')\n",
    "cols_remove"
   ]
  },
  {
   "cell_type": "code",
   "execution_count": null,
   "id": "24fe0b9a",
   "metadata": {},
   "outputs": [],
   "source": [
    "sensor_cols = [col for col in cols_remove if 'sensor' in col]\n",
    "\n",
    "aggregations_lst = ['mean', 'std', 'skew', 'max', 'min']"
   ]
  },
  {
   "cell_type": "code",
   "execution_count": null,
   "id": "cfd97253",
   "metadata": {},
   "outputs": [],
   "source": [
    "def feature_engineering(train, sensor_cols, aggregations_lst, cols_remove):\n",
    "\n",
    "    df_feat_eng = train.copy()\n",
    "\n",
    "    for sensor, aggregation in itertools.product(sensor_cols, aggregations_lst):\n",
    "        value = train.groupby(['sequence', 'subject'])[sensor].agg(aggregation)\n",
    "        value = value.rename(sensor + '_' + aggregation)\n",
    "    \n",
    "        df_feat_eng = df_feat_eng.merge(value, \n",
    "                                        left_on=['sequence', 'subject'], \n",
    "                                        right_index=True)\n",
    "    \n",
    "    df_feat_eng = df_feat_eng.drop(cols_remove, axis=1)\n",
    "    df_feat_eng = df_feat_eng.drop_duplicates()\n",
    "    \n",
    "    return df_feat_eng"
   ]
  },
  {
   "cell_type": "code",
   "execution_count": null,
   "id": "95d8c49e",
   "metadata": {},
   "outputs": [],
   "source": [
    "train_feat_eng = feature_engineering(train, \n",
    "                                     sensor_cols, \n",
    "                                     aggregations_lst,\n",
    "                                     cols_remove)\n",
    "\n",
    "test_feat_eng = feature_engineering(test, \n",
    "                                    sensor_cols, \n",
    "                                    aggregations_lst,\n",
    "                                    cols_remove)"
   ]
  },
  {
   "cell_type": "code",
   "execution_count": null,
   "id": "de9fbeaa",
   "metadata": {},
   "outputs": [],
   "source": [
    "train_feat_eng"
   ]
  },
  {
   "cell_type": "code",
   "execution_count": null,
   "id": "7107bf09",
   "metadata": {},
   "outputs": [],
   "source": [
    "test_feat_eng"
   ]
  },
  {
   "cell_type": "markdown",
   "id": "10e9c440",
   "metadata": {},
   "source": [
    "## Crossvalidation and baseline model"
   ]
  },
  {
   "cell_type": "code",
   "execution_count": null,
   "id": "c5aeff98",
   "metadata": {},
   "outputs": [],
   "source": [
    "df_train = train_feat_eng.drop([\"sequence\", \"subject\"], axis=1).reset_index(drop=True)\n",
    "labels_train = train_labels.drop([\"sequence\"], axis=1)\n",
    "\n",
    "df_test = test_feat_eng.drop([\"sequence\", \"subject\"], axis=1).reset_index(drop=True)"
   ]
  },
  {
   "cell_type": "code",
   "execution_count": null,
   "id": "68311850",
   "metadata": {},
   "outputs": [],
   "source": [
    "df_train.tail()"
   ]
  },
  {
   "cell_type": "code",
   "execution_count": null,
   "id": "9fd86bd9",
   "metadata": {},
   "outputs": [],
   "source": [
    "cv_scores = []\n",
    "models = []\n",
    "\n",
    "params = {'n_estimators': 4096,\n",
    "          'max_depth': 7,\n",
    "          'learning_rate': 0.15,\n",
    "          'subsample': 0.95,\n",
    "          'colsample_bytree': 0.60,\n",
    "          'reg_lambda': 1.50,\n",
    "          'reg_alpha': 6.10,\n",
    "          'gamma': 1.40,\n",
    "          'random_state': 69,\n",
    "          'objective': 'binary:logistic',\n",
    "          'tree_method': 'gpu_hist',\n",
    "         }\n",
    "\n",
    "kf = KFold(n_splits=5, shuffle=True, random_state=42)\n",
    "\n",
    "for fold, (train_indicies, valid_indicies) in enumerate(kf.split(df_train, labels_train, train[\"sequence\"].unique())):\n",
    "    \n",
    "    print(\"-\"*15, \"Fold\", fold, \"-\"*15)\n",
    "    \n",
    "    X_train, X_valid = df_train.iloc[train_indicies], df_train.iloc[valid_indicies]\n",
    "    y_train, y_valid = labels_train.iloc[train_indicies].values, labels_train.iloc[valid_indicies].values \n",
    "    \n",
    "    xgb = XGBClassifier(**params)\n",
    "    xgb.fit(X_train, y_train, eval_set = [(X_valid, y_valid)], eval_metric = ['auc'], early_stopping_rounds = 128, verbose = 50)\n",
    "    \n",
    "    predictions = xgb.predict(X_valid)\n",
    "    score = roc_auc_score(y_valid, predictions)\n",
    "    cv_scores.append(score)\n",
    "    models.append(xgb)"
   ]
  },
  {
   "cell_type": "code",
   "execution_count": null,
   "id": "8c4fb173",
   "metadata": {},
   "outputs": [],
   "source": [
    "np.mean(cv_scores)"
   ]
  },
  {
   "cell_type": "code",
   "execution_count": null,
   "id": "c6f5b6c5",
   "metadata": {},
   "outputs": [],
   "source": [
    "prediction = np.zeros(df_test.shape[0])\n",
    "for i,model in enumerate(models):\n",
    "    pred = model.predict(df_test) \n",
    "    prediction += pred\n",
    "prediction = prediction/len(models)"
   ]
  },
  {
   "cell_type": "code",
   "execution_count": null,
   "id": "8b7d97c9",
   "metadata": {},
   "outputs": [],
   "source": [
    "submission['state'] = prediction\n",
    "submission.to_csv('submission.csv', index=False)"
   ]
  },
  {
   "cell_type": "code",
   "execution_count": null,
   "id": "2f913810",
   "metadata": {},
   "outputs": [],
   "source": [
    "nan"
   ]
  }
 ],
 "metadata": {},
 "nbformat": 4,
 "nbformat_minor": 5
}
