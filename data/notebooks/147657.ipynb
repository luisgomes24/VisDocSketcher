{
 "cells": [
  {
   "cell_type": "markdown",
   "id": "11da41fa",
   "metadata": {},
   "source": [
    "nan"
   ]
  },
  {
   "cell_type": "code",
   "execution_count": null,
   "id": "171b4a5c",
   "metadata": {},
   "outputs": [],
   "source": [
    "# This Python 3 environment comes with many helpful analytics libraries installed\n",
    "# It is defined by the kaggle/python docker image: https://github.com/kaggle/docker-python\n",
    "# For example, here's several helpful packages to load in \n",
    "\n",
    "import pandas as pd\n",
    "import numpy as np\n",
    "import matplotlib as mp\n",
    "from __future__ import division\n",
    "%matplotlib inline\n",
    "\n",
    "# Input data files are available in the \"../input/\" directory.\n",
    "# For example, running this (by clicking run or pressing Shift+Enter) will list the files in the input directory\n",
    "\n",
    "from subprocess import check_output\n",
    "print(check_output([\"ls\", \"../input\"]).decode(\"utf8\"))\n",
    "\n",
    "# Any results you write to the current directory are saved as output."
   ]
  },
  {
   "cell_type": "code",
   "execution_count": null,
   "id": "66089ca7",
   "metadata": {},
   "outputs": [],
   "source": [
    "mortality = pd.read_csv('../input/mort.csv')"
   ]
  },
  {
   "cell_type": "code",
   "execution_count": null,
   "id": "f2c57ce6",
   "metadata": {},
   "outputs": [],
   "source": [
    "mortality_drop = mortality.drop([\n",
    "        'Mortality Rate, 1980* (Min)',\n",
    "        'Mortality Rate, 1980* (Max)',\n",
    "        'Mortality Rate, 1985* (Min)',\n",
    "        'Mortality Rate, 1985* (Max)',\n",
    "        'Mortality Rate, 1990* (Min)',\n",
    "        'Mortality Rate, 1990* (Max)',\n",
    "        'Mortality Rate, 1995* (Min)',\n",
    "        'Mortality Rate, 1995* (Max)',\n",
    "        'Mortality Rate, 2000* (Min)',\n",
    "        'Mortality Rate, 2000* (Max)',\n",
    "        'Mortality Rate, 2005* (Min)',\n",
    "        'Mortality Rate, 2005* (Max)',\n",
    "        'Mortality Rate, 2010* (Min)',\n",
    "        'Mortality Rate, 2010* (Max)',\n",
    "        'Mortality Rate, 2014* (Max)',\n",
    "        'Mortality Rate, 2014* (Min)',\n",
    "        '% Change in Mortality Rate, 1980-2014',\n",
    "        '% Change in Mortality Rate, 1980-2014 (Min)',\n",
    "        '% Change in Mortality Rate, 1980-2014 (Max)'\n",
    "    ],axis=1)"
   ]
  },
  {
   "cell_type": "code",
   "execution_count": null,
   "id": "e346e2d9",
   "metadata": {},
   "outputs": [],
   "source": [
    "# Review aggregation at a state-level\n",
    "\n",
    "mortality_state_overall = (\n",
    "    mortality_drop.loc[\n",
    "        mortality_drop[\n",
    "            'Location'\n",
    "        ].isin(\n",
    "            [\n",
    "                'Alabama',\n",
    "                'Alaska', \n",
    "                'Arizona', \n",
    "                'Arkansas', \n",
    "                'California', \n",
    "                'Colorado', \n",
    "                'Connecticut', \n",
    "                'Delaware', \n",
    "                'Florida', \n",
    "                'Georgia', \n",
    "                'Hawaii', \n",
    "                'Idaho', \n",
    "                'Illinois', \n",
    "                'Indiana',\n",
    "                'Iowa', \n",
    "                'Kansas', \n",
    "                'Kentucky', \n",
    "                'Louisiana',\n",
    "                'Maine', \n",
    "                'Maryland', \n",
    "                'Massachusetts', \n",
    "                'Michigan', \n",
    "                'Minnesota', \n",
    "                'Mississippi', \n",
    "                'Missouri', \n",
    "                'Montana Nebraska',\n",
    "                'Nevada', \n",
    "                'New Hampshire', \n",
    "                'New Jersey', \n",
    "                'New Mexico', \n",
    "                'New York', \n",
    "                'North Carolina', \n",
    "                'North Dakota', \n",
    "                'Ohio', \n",
    "                'Oklahoma', \n",
    "                'Oregon', \n",
    "                'Pennsylvania',\n",
    "                'Rhode Island', \n",
    "                'South Carolina', \n",
    "                'South Dakota', \n",
    "                'Tennessee', \n",
    "                'Texas', \n",
    "                'Utah', \n",
    "                'Vermont', \n",
    "                'Virginia', \n",
    "                'Washington', \n",
    "                'West Virginia', \n",
    "                'Wisconsin', \n",
    "                'Wyomin',\n",
    "            ]\n",
    "        )\n",
    "    ]\n",
    ")"
   ]
  },
  {
   "cell_type": "code",
   "execution_count": null,
   "id": "a83dd499",
   "metadata": {},
   "outputs": [],
   "source": [
    "# Change names of columns\n",
    "\n",
    "mortality_state_overall.columns = [\n",
    "    'state',\n",
    "    'fips',\n",
    "    'category',\n",
    "    '1980',\n",
    "    '1985',\n",
    "    '1990',\n",
    "    '1995',\n",
    "    '2000',\n",
    "    '2005',\n",
    "    '2010',\n",
    "    '2014'\n",
    "]"
   ]
  },
  {
   "cell_type": "code",
   "execution_count": null,
   "id": "4f0f9c03",
   "metadata": {},
   "outputs": [],
   "source": [
    "mort_st_cat_yr = mortality_state_overall.drop('fips',axis=1)"
   ]
  },
  {
   "cell_type": "code",
   "execution_count": null,
   "id": "c525a9c5",
   "metadata": {},
   "outputs": [],
   "source": [
    "mort_st_cat_yr[mort_st_cat_yr['category']=='Neonatal disorders'].state"
   ]
  },
  {
   "cell_type": "code",
   "execution_count": null,
   "id": "0206b6c6",
   "metadata": {},
   "outputs": [],
   "source": [
    "mort_st_cat_yr_t = mort_st_cat_yr[mort_st_cat_yr['category']=='Neonatal disorders'].T"
   ]
  },
  {
   "cell_type": "code",
   "execution_count": null,
   "id": "db720456",
   "metadata": {},
   "outputs": [],
   "source": [
    "mort_neonat = mort_st_cat_yr_t.drop('category').reset_index()"
   ]
  },
  {
   "cell_type": "code",
   "execution_count": null,
   "id": "604208e5",
   "metadata": {},
   "outputs": [],
   "source": [
    "mort_neonat_drop = mort_neonat.drop(0)"
   ]
  },
  {
   "cell_type": "code",
   "execution_count": null,
   "id": "3bdc73de",
   "metadata": {},
   "outputs": [],
   "source": [
    "mort_neonat_drop"
   ]
  },
  {
   "cell_type": "code",
   "execution_count": null,
   "id": "b6df9f9e",
   "metadata": {},
   "outputs": [],
   "source": [
    "mort_neonat_drop.columns = [\n",
    "    'year',\n",
    "    'Alabama',\n",
    "    'Alaska',\n",
    "    'Arizona',\n",
    "    'Arkansas',\n",
    "    'California',\n",
    "    'Colorado',\n",
    "    'Connecticut',\n",
    "    'Delaware',\n",
    "    'Florida',\n",
    "    'Georgia',\n",
    "    'Hawaii',\n",
    "    'Idaho',\n",
    "    'Illinois',\n",
    "    'Indiana',\n",
    "    'Iowa',\n",
    "    'Kansas',\n",
    "    'Kentucky',\n",
    "    'Louisiana',\n",
    "    'Maine',\n",
    "    'Maryland',\n",
    "    'Massachusetts',\n",
    "    'Michigan',\n",
    "    'Minnesota',\n",
    "    'Mississippi',\n",
    "    'Missouri',\n",
    "    'Nevada',\n",
    "    'New Hampshire',\n",
    "    'New Jersey',\n",
    "    'New Mexico',\n",
    "    'New York',\n",
    "    'North Carolina',\n",
    "    'North Dakota',\n",
    "    'Ohio',\n",
    "    'Oklahoma',\n",
    "    'Oregon',\n",
    "    'Pennsylvania',\n",
    "    'Rhode Island',\n",
    "    'South Carolina',\n",
    "    'South Dakota',\n",
    "    'Tennessee',\n",
    "    'Texas',\n",
    "    'Utah',\n",
    "    'Vermont',\n",
    "    'Virginia',\n",
    "    'Washington',\n",
    "    'West Virginia',\n",
    "    'Wisconsin'\n",
    "]"
   ]
  },
  {
   "cell_type": "code",
   "execution_count": null,
   "id": "98a8c96a",
   "metadata": {},
   "outputs": [],
   "source": [
    "mort_neonat_drop"
   ]
  },
  {
   "cell_type": "code",
   "execution_count": null,
   "id": "50566aee",
   "metadata": {},
   "outputs": [],
   "source": [
    "mort_neonat_drop.plot(\n",
    "    kind='bar',\n",
    "    x='year',\n",
    "    figsize=(20,20),\n",
    "    title='Deaths due to Neonatal disorders by State'\n",
    ")"
   ]
  },
  {
   "cell_type": "code",
   "execution_count": null,
   "id": "c90c3dc6",
   "metadata": {},
   "outputs": [],
   "source": [
    "nan"
   ]
  },
  {
   "cell_type": "code",
   "execution_count": null,
   "id": "d31ddf64",
   "metadata": {},
   "outputs": [],
   "source": [
    "nan"
   ]
  },
  {
   "cell_type": "code",
   "execution_count": null,
   "id": "b1b90e66",
   "metadata": {},
   "outputs": [],
   "source": [
    "nan"
   ]
  },
  {
   "cell_type": "code",
   "execution_count": null,
   "id": "c3e52775",
   "metadata": {},
   "outputs": [],
   "source": [
    "nan"
   ]
  }
 ],
 "metadata": {},
 "nbformat": 4,
 "nbformat_minor": 5
}
