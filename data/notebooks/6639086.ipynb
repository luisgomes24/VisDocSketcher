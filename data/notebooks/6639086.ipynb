{
 "cells": [
  {
   "cell_type": "markdown",
   "id": "8c0358a4",
   "metadata": {},
   "source": [
    "# Restaurants in Chennai EDA"
   ]
  },
  {
   "cell_type": "markdown",
   "id": "efde0483",
   "metadata": {},
   "source": [
    "Chennai has a long culinary history, well known across the world for it's filter coffees to chicken 65 and also featured 2nd place in National Geographic's top 10 food cities list in 2015. This project aims to explore this renowned restaurant space of Chennai, inorder to gain interesting insights. This carried out with the aid of a Kaggle dataset, collected from Zomato's API.\n",
    "<br>\n",
    "<br>\n",
    "    Dataset contains the information of restaurants listed on zomato across the country. It provides detailed information such as locality, restaurant type, price range, rating and cuisines, on each restaurant. For our analysis only restaurants from Chennai are considered."
   ]
  },
  {
   "cell_type": "code",
   "execution_count": null,
   "id": "764aa9c9",
   "metadata": {},
   "outputs": [],
   "source": [
    "# libraries for data wrangling and visualisation are imported\n",
    "import pandas as pd\n",
    "import numpy as np\n",
    "import matplotlib.pyplot as plt\n",
    "import seaborn as sns"
   ]
  },
  {
   "cell_type": "code",
   "execution_count": null,
   "id": "86524b42",
   "metadata": {},
   "outputs": [],
   "source": [
    "zomato = pd.read_csv('../input/zomato-restaurants-in-india/zomato_restaurants_in_India.csv')\n",
    "zomato.head()"
   ]
  },
  {
   "cell_type": "markdown",
   "id": "b283ca66",
   "metadata": {},
   "source": [
    "# Data Cleaning"
   ]
  },
  {
   "cell_type": "markdown",
   "id": "0a5091a7",
   "metadata": {},
   "source": [
    "**Redundant Columns:**"
   ]
  },
  {
   "cell_type": "markdown",
   "id": "61c455eb",
   "metadata": {},
   "source": [
    "Preliminary examination of the features makes us conclude that there are number of columns with redundant information for the exploratory data analysis. They include restaurant id, city id, country id, zipcode, url, locality verbose, currency, timings and rating text. At the same time, delivery, takeaway and opentable support didnot have useful information in it.\n",
    "Hence those columns are dropped."
   ]
  },
  {
   "cell_type": "code",
   "execution_count": null,
   "id": "5c4bae1a",
   "metadata": {},
   "outputs": [],
   "source": [
    "zomato.drop(['res_id','address','city_id','country_id',\n",
    "             'zipcode','url','latitude','longitude','locality_verbose',\n",
    "             'currency','opentable_support','delivery','takeaway','timings','rating_text'],axis=1,inplace=True)\n",
    "zomato.columns"
   ]
  },
  {
   "cell_type": "code",
   "execution_count": null,
   "id": "17316264",
   "metadata": {},
   "outputs": [],
   "source": [
    "print('No. of features:',zomato.shape[1],'\\nNo. of resturants:',zomato.shape[0])"
   ]
  },
  {
   "cell_type": "markdown",
   "id": "34b38ea7",
   "metadata": {},
   "source": [
    "**Duplicates:**"
   ]
  },
  {
   "cell_type": "code",
   "execution_count": null,
   "id": "7d63b786",
   "metadata": {},
   "outputs": [],
   "source": [
    "print('No.of duplicate entries:',zomato[zomato.duplicated()].count()[0])\n",
    "zomato.drop_duplicates(inplace=True)\n",
    "print('After removal:\\nNo. of features:',zomato.shape[1],'\\nNo. of resturants:',zomato.shape[0])"
   ]
  },
  {
   "cell_type": "markdown",
   "id": "e646c4d8",
   "metadata": {},
   "source": [
    "**Missing Values Treatment:**"
   ]
  },
  {
   "cell_type": "code",
   "execution_count": null,
   "id": "f41fcf27",
   "metadata": {},
   "outputs": [],
   "source": [
    "zomato.isnull().sum()"
   ]
  },
  {
   "cell_type": "code",
   "execution_count": null,
   "id": "66d8a472",
   "metadata": {},
   "outputs": [],
   "source": [
    "zomato.cuisines.fillna('NA',inplace=True)\n",
    "zomato.cuisines = zomato.cuisines.apply(lambda x : x.split(sep=','))\n",
    "zomato['establishment'] = zomato.establishment.apply(lambda x : 'NA' if x=='[]' else x[2:-2])"
   ]
  },
  {
   "cell_type": "markdown",
   "id": "c1e2dd27",
   "metadata": {},
   "source": [
    "Data has missing value explicitly only in cuisines, whereas missing value is in form of [ ] in establishment. Both of them are filled with 'NA' and both the columns are cleaned to ease further analysis."
   ]
  },
  {
   "cell_type": "code",
   "execution_count": null,
   "id": "9da9d570",
   "metadata": {},
   "outputs": [],
   "source": [
    "zch = zomato[zomato['city'] == 'Chennai']\n",
    "print('No. of resturants in Chennai:',zch.shape[0])"
   ]
  },
  {
   "cell_type": "markdown",
   "id": "7c7f91d9",
   "metadata": {},
   "source": [
    "# Distribution"
   ]
  },
  {
   "cell_type": "markdown",
   "id": "9b331246",
   "metadata": {},
   "source": [
    "In order to understand the distribution of restaurants in the city, data is grouped by restaurant type, locality, price range and rating and plots are visualised."
   ]
  },
  {
   "cell_type": "markdown",
   "id": "a02e120e",
   "metadata": {},
   "source": [
    "**Restaurant Type:**"
   ]
  },
  {
   "cell_type": "code",
   "execution_count": null,
   "id": "dd27d704",
   "metadata": {},
   "outputs": [],
   "source": [
    "rd_type = zch.establishment.value_counts().reset_index().set_index('index')\n",
    "plt.figure(figsize=(8,8))\n",
    "sns.barplot(x=rd_type.index,y=rd_type.establishment)\n",
    "plt.xlabel('Restaurant Type')\n",
    "plt.ylabel('Count')\n",
    "plt.xticks(rotation='vertical')"
   ]
  },
  {
   "cell_type": "markdown",
   "id": "b73b8ee3",
   "metadata": {},
   "source": [
    "* More than a quarter of all restaurants are labelled as casual dining, which is followed by quick bites. \n",
    "* All other major types of restaurants such as cafe, dessert parlour, fine dining, etc have almost equal in number in the city."
   ]
  },
  {
   "cell_type": "markdown",
   "id": "c2636b2d",
   "metadata": {},
   "source": [
    "**Location:**"
   ]
  },
  {
   "cell_type": "code",
   "execution_count": null,
   "id": "2a2dba03",
   "metadata": {},
   "outputs": [],
   "source": [
    "rd_loc = zch.locality.value_counts().head(20).reset_index().set_index('index') \n",
    "plt.figure(figsize=(8,8))\n",
    "sns.barplot(x=rd_loc.index,y=rd_loc.locality)\n",
    "plt.xlabel('Locality')\n",
    "plt.ylabel('Number')\n",
    "plt.xticks(rotation='vertical')"
   ]
  },
  {
   "cell_type": "markdown",
   "id": "e86769e5",
   "metadata": {},
   "source": [
    "* Top 20 localities in Chennai by number of restaurants in plotted above. Nungambakkam seems to be restaurant hub of the city, closely followed by T. Nagar and Anna Nagar East. \n",
    "<br>\n",
    "<br>\n",
    "Does these top localities have the share the same restaurant profile? We would take a look at that question a little later."
   ]
  },
  {
   "cell_type": "markdown",
   "id": "f3ef723e",
   "metadata": {},
   "source": [
    "**Price range:**"
   ]
  },
  {
   "cell_type": "code",
   "execution_count": null,
   "id": "25b2581f",
   "metadata": {},
   "outputs": [],
   "source": [
    "rd_pr = zch.price_range.value_counts().reset_index().set_index('index') \n",
    "f,ax = plt.subplots(1,2,figsize=(20,10))\n",
    "sns.barplot(x=rd_pr.index,y=rd_pr.price_range,ax=ax[1])\n",
    "plt.xlabel('Price_Range')\n",
    "plt.xticks(ticks=(0,1,2,3),labels=('Low','Medium','High','Very High'))\n",
    "plt.ylabel('Count')\n",
    "sns.distplot(zch.average_cost_for_two,ax=ax[0],color='r')"
   ]
  },
  {
   "cell_type": "markdown",
   "id": "2c4ac508",
   "metadata": {},
   "source": [
    "* Price Range(₹):\n",
    "    * 1-Low : 200-450\n",
    "    * 2-Medium : 500-950\n",
    "    * 3-High : 1100-1900\n",
    "    * 4-Very High : 2000-5500\n",
    "* Average price for two in the city turns out be 744 whereas the median is at 500.\n",
    "* Restaurant space of the city is dominated by Low price range which comprises around 45% of all restaurants.\n",
    "* Number of restaurants in the higher price range decreases steadily. This could be because the customer pool which can afford such high prices also decreases."
   ]
  },
  {
   "cell_type": "markdown",
   "id": "6350b8f6",
   "metadata": {},
   "source": [
    "**Rating:**"
   ]
  },
  {
   "cell_type": "code",
   "execution_count": null,
   "id": "cf1d83ec",
   "metadata": {},
   "outputs": [],
   "source": [
    "zch_rat = zch[zch.aggregate_rating != 0]\n",
    "f,ax=plt.subplots(1,2,figsize=(20,10))\n",
    "sns.distplot(zch_rat.aggregate_rating,bins=20,kde=True,color='r',ax=ax[0])\n",
    "sns.boxplot(zch_rat.aggregate_rating,ax=ax[1],color='r',saturation=0.5)"
   ]
  },
  {
   "cell_type": "markdown",
   "id": "90cf4824",
   "metadata": {},
   "source": [
    "* Half of the cities restaurants have ratings in the range of 3.5 and 4, with the median rating at the high 3.75. Thus restaurants with ratings above 4 should only be considered as the best restaurants by rating. \n",
    "* There seem to be quite a few restaurants with rating less than 2.5 as outliers, which could be due to lack of sufficient number of ratings."
   ]
  },
  {
   "cell_type": "markdown",
   "id": "99630995",
   "metadata": {},
   "source": [
    "**Cuisine:**"
   ]
  },
  {
   "cell_type": "code",
   "execution_count": null,
   "id": "697cfb88",
   "metadata": {},
   "outputs": [],
   "source": [
    "lis = []\n",
    "for i in range(0,zch.shape[0]):\n",
    "    for j in zch.iloc[i,4]:\n",
    "        lis.append(j)\n",
    "for k in range(0,len(lis)):\n",
    "    lis[k] = lis[k].strip()\n",
    "    \n",
    "from collections import Counter\n",
    "cuisine_count = Counter(lis)\n",
    "\n",
    "from wordcloud import WordCloud\n",
    "wc = WordCloud(background_color='white')\n",
    "wc.generate_from_frequencies(cuisine_count)\n",
    "plt.figure(figsize=(12,8))\n",
    "plt.imshow(wc,interpolation='bilinear')\n",
    "plt.axis('off')\n",
    "plt.show()"
   ]
  },
  {
   "cell_type": "markdown",
   "id": "6f17f2b2",
   "metadata": {},
   "source": [
    "* Restaurants in the city serve variety of cuisines from chettinad to continental. \n",
    "<br>\n",
    "* Of all, North Indian, South Indian and Chinese form the top 3 cusines served in the city."
   ]
  },
  {
   "cell_type": "markdown",
   "id": "d82480d8",
   "metadata": {},
   "source": [
    "# Delving Deep into the Top 20 Localities"
   ]
  },
  {
   "cell_type": "markdown",
   "id": "18ed7828",
   "metadata": {},
   "source": [
    "After the general understanding of the restaurant space in Chennai, we will dig the top 20 localities deeper so as to make the foodies' choice easier."
   ]
  },
  {
   "cell_type": "code",
   "execution_count": null,
   "id": "340d0f9d",
   "metadata": {},
   "outputs": [],
   "source": [
    "import squarify\n",
    "plt.figure(figsize=(18,10))\n",
    "squarify.plot(sizes=zch.locality.value_counts().head(40),label=zch.locality.value_counts().head(40).index,\n",
    "              color=sns.color_palette('RdYlGn_r',52))\n",
    "plt.axis('off')"
   ]
  },
  {
   "cell_type": "markdown",
   "id": "14881fdd",
   "metadata": {},
   "source": [
    "**Restaurant type by locality and price:**"
   ]
  },
  {
   "cell_type": "code",
   "execution_count": null,
   "id": "6440f82a",
   "metadata": {},
   "outputs": [],
   "source": [
    "rd = pd.crosstab(zch.locality,zch.establishment).loc[['Nungambakkam', 'T. Nagar', 'Anna Nagar East', 'Velachery', \n",
    "       'Adyar','Anna Nagar West', 'Alwarpet', 'Phoenix Market City, Velachery','Besant Nagar', 'Mylapore','Kilpauk', \n",
    "       'Thuraipakkam', 'Porur','Egmore', 'Mogappair', 'Ashok Nagar', 'Purasavakkam', 'Ramapuram',\n",
    "       'Forum Vijaya Mall,Vadapalani', 'Ambattur'],[ 'Casual Dining', 'Quick Bites', 'Dessert Parlour', 'Café',\n",
    "       'Beverage Shop', 'Fine Dining', 'Bakery', 'Mess', 'Kiosk', 'Bar','Sweet Shop', 'Food Court', 'NA', 'Pub', \n",
    "       'Lounge']].T\n",
    "f,ax=plt.subplots(1,2,figsize=(20,10))\n",
    "rd.plot(kind='bar',stacked=True,ax=ax[0],)\n",
    "ax = (rd.div(rd.sum(1), axis=0).plot(kind='bar',stacked=True,ax=ax[1]))\n",
    "ax.legend('off')"
   ]
  },
  {
   "cell_type": "code",
   "execution_count": null,
   "id": "4217c743",
   "metadata": {},
   "outputs": [],
   "source": [
    "tp = pd.crosstab(zch.establishment,zch.price_range).loc[[ 'Casual Dining', 'Quick Bites', 'Dessert Parlour', 'Café',\n",
    "       'Beverage Shop', 'Fine Dining', 'Bakery', 'Mess', 'Kiosk', 'Bar','Sweet Shop', 'Food Court', 'NA', 'Pub', \n",
    "       'Lounge'],:]\n",
    "f,ax=plt.subplots(1,2,figsize=(20,10))\n",
    "tp.plot(kind='bar',stacked=True,ax=ax[0],)\n",
    "ax = (tp.div(tp.sum(1), axis=0).plot(kind='bar',stacked=True,ax=ax[1]))"
   ]
  },
  {
   "cell_type": "markdown",
   "id": "9fc46b9f",
   "metadata": {},
   "source": [
    "* Casual dining represents the vast majority of restaurants and are spread out evenly throughout the city, which are mostly in the medium and high price range.\n",
    "<br>\n",
    "* As expected, quick dining, mess, beverage shop and kiosks are predominately low priced. \n",
    "<br>\n",
    "* Nungambakkam,Alwarpet,Anna Nagar East and Besant Nagar are the go-to places in the city to chill the evening in a cafe and most cafes of the city don't burn a hole in the pocket with prices rarely in very high range.\n",
    "<br>\n",
    "* A special occassion such as a birthday date or anniversary, warrants a fine dining experience. Nungambakkam, T Nagar, Velachery, Adyar and Anna Nagar East turns out to house those fine dining places in the city. Do mind, it could be an expensive night with prices in very high range.\n",
    "<br>\n",
    "* Go to places to spend friday nights aka booze spots are T Nagar, Anna Nagar West and Thuraipakkam along with Besant Nagar, Phoenix Mall and Mylapore. Most of them are in high to very high price range"
   ]
  },
  {
   "cell_type": "markdown",
   "id": "133a66ce",
   "metadata": {},
   "source": [
    "**Price Range in Top 20:**"
   ]
  },
  {
   "cell_type": "code",
   "execution_count": null,
   "id": "4fe58c00",
   "metadata": {},
   "outputs": [],
   "source": [
    "rp = pd.crosstab(zch.locality,zch.price_range).loc[['Nungambakkam', 'T. Nagar', 'Anna Nagar East', 'Velachery', \n",
    "       'Adyar','Anna Nagar West', 'Alwarpet', 'Phoenix Market City, Velachery','Besant Nagar', 'Mylapore', \n",
    "       'Kilpauk', 'Thuraipakkam', 'Porur','Egmore', 'Mogappair', 'Ashok Nagar', 'Purasavakkam', 'Ramapuram',\n",
    "       'Forum Vijaya Mall, Vadapalani', 'Ambattur']]\n",
    "f,ax=plt.subplots(1,2,figsize=(20,10))\n",
    "rp.plot(kind='bar',stacked=True,ax=ax[0],)\n",
    "cost_loc = zch.groupby('locality')['average_cost_for_two'].median().reset_index().set_index('locality').loc[['Nungambakkam', \n",
    "        'T. Nagar', 'Anna Nagar East', 'Velachery', 'Adyar',\n",
    "       'Anna Nagar West', 'Alwarpet', 'Phoenix Market City, Velachery',\n",
    "       'Besant Nagar', 'Mylapore', 'Kilpauk', 'Thuraipakkam', 'Porur',\n",
    "       'Egmore', 'Mogappair', 'Ashok Nagar', 'Purasavakkam', 'Ramapuram',\n",
    "       'Forum Vijaya Mall, Vadapalani', 'Ambattur']]\n",
    "sns.barplot(x=cost_loc.index,y=cost_loc.average_cost_for_two,ax=ax[1])\n",
    "plt.xticks(rotation='vertical')\n",
    "plt.ylabel('Median cost for two')"
   ]
  },
  {
   "cell_type": "markdown",
   "id": "9a60c89b",
   "metadata": {},
   "source": [
    "* Of all, Nungambakkam and Phoenix Market City stand out with a high median cost for two of 700 and 600 respectively, becoming the costliest neighbourhood in terms of restaurants in Chennai.\n",
    "<br>\n",
    "* This is followed by Anna Nagar West, Adyar, Velachery, Thuraipakkam and Egmore, forming the next Tier."
   ]
  },
  {
   "cell_type": "markdown",
   "id": "ccf323f2",
   "metadata": {},
   "source": [
    "# Understanding the ratings"
   ]
  },
  {
   "cell_type": "markdown",
   "id": "8e2b994e",
   "metadata": {},
   "source": [
    "Rating of the restaurants play a vital role in determining the choice of the customer. Relationship between various factors and ratings will be analysed further."
   ]
  },
  {
   "cell_type": "markdown",
   "id": "09f3c9e0",
   "metadata": {},
   "source": [
    "**Locality:**"
   ]
  },
  {
   "cell_type": "code",
   "execution_count": null,
   "id": "e6127196",
   "metadata": {},
   "outputs": [],
   "source": [
    "rat_loc = zch_rat.groupby('locality')['aggregate_rating'].median().reset_index().set_index('locality').loc[['Nungambakkam', 'T. Nagar', 'Anna Nagar East', 'Velachery', 'Adyar',\n",
    "       'Anna Nagar West', 'Alwarpet', 'Phoenix Market City, Velachery',\n",
    "       'Besant Nagar', 'Mylapore', 'Kilpauk', 'Thuraipakkam', 'Porur',\n",
    "       'Egmore', 'Mogappair', 'Ashok Nagar', 'Purasavakkam', 'Ramapuram',\n",
    "       'Forum Vijaya Mall, Vadapalani', 'Ambattur']]\n",
    "plt.figure(figsize=(10,10))\n",
    "sns.barplot(x=rat_loc.index,y=rat_loc.aggregate_rating)\n",
    "plt.xticks(rotation='vertical')\n",
    "plt.ylabel('Median rating')"
   ]
  },
  {
   "cell_type": "markdown",
   "id": "be9585e7",
   "metadata": {},
   "source": [
    "* Median rating of the top 20 localities seem to be almost the same and only. Hence the localities could be taken as the parameter to understand the ratings."
   ]
  },
  {
   "cell_type": "markdown",
   "id": "4e8ce0eb",
   "metadata": {},
   "source": [
    "**Price Range:**"
   ]
  },
  {
   "cell_type": "code",
   "execution_count": null,
   "id": "d3ffb8df",
   "metadata": {},
   "outputs": [],
   "source": [
    "zch_rat = zch[zch.aggregate_rating != 0]\n",
    "f,ax=plt.subplots(1,2,figsize=(20,10))\n",
    "sns.boxplot(x='price_range',y='aggregate_rating',data=zch_rat,ax=ax[1])\n",
    "sns.lineplot(x=zch_rat.aggregate_rating,y=zch_rat.average_cost_for_two,ax=ax[0])\n",
    "plt.xticks(ticks=(0,1,2,3),labels=('Low','Medium','High','Very High'))"
   ]
  },
  {
   "cell_type": "markdown",
   "id": "56578e29",
   "metadata": {},
   "source": [
    "* There is a linear relation between rating and cost for two, between 3.0 and 4.5. This means at this range, higher the cost of the restaurant, it has higher odds for a better rating.\n",
    "* Box plot also validates this, with the median rating of restaurants increase from low to high priced ones. But there is a stagnation between high and very high priced.\n",
    "* High priced restaurants have the largest number of restaurants with above median ratings."
   ]
  },
  {
   "cell_type": "markdown",
   "id": "17c0e565",
   "metadata": {},
   "source": [
    "**Restaurant type:**"
   ]
  },
  {
   "cell_type": "code",
   "execution_count": null,
   "id": "3a94a140",
   "metadata": {},
   "outputs": [],
   "source": [
    "plt.figure(figsize=(10,10))\n",
    "sns.boxplot(x='establishment',y='aggregate_rating',data=zch_rat)\n",
    "plt.xticks(rotation='vertical')"
   ]
  },
  {
   "cell_type": "markdown",
   "id": "0c43b2a7",
   "metadata": {},
   "source": [
    "* Casual dining, cafe and fine dining all share the same median rating. But casual dining have a larger variance whereas cafes and fine dining restaurants have relatively smaller variance"
   ]
  },
  {
   "cell_type": "markdown",
   "id": "ac17ca37",
   "metadata": {},
   "source": [
    "# Conclusion"
   ]
  },
  {
   "cell_type": "markdown",
   "id": "c18578a4",
   "metadata": {},
   "source": [
    "This kernel is an attempt to understand the restaurant space of the city. I hope it has tried to justice to it and you liked the notebook. Yet a lot of newer insights still can be gained on further exploration of the data, the kernel will be updated in the future of that.\n",
    "<bd>\n",
    "Being my first attempt at EDA, I would appreciate any suggestions or comments from the community."
   ]
  }
 ],
 "metadata": {},
 "nbformat": 4,
 "nbformat_minor": 5
}
