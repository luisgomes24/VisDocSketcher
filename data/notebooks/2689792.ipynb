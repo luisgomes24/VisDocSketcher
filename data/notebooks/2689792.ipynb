{
 "cells": [
  {
   "cell_type": "markdown",
   "id": "0761d698",
   "metadata": {},
   "source": [
    "# My First Kaggle InClass Competition"
   ]
  },
  {
   "cell_type": "markdown",
   "id": "9480cd89",
   "metadata": {},
   "source": [
    "**Importing The Libraries**"
   ]
  },
  {
   "cell_type": "code",
   "execution_count": null,
   "id": "f3319d7d",
   "metadata": {},
   "outputs": [],
   "source": [
    "import pandas as pd\n",
    "import numpy as np\n",
    "import matplotlib.pyplot as plt\n",
    "from keras.models import Sequential\n",
    "from keras.layers import Dense\n",
    "from keras import optimizers\n",
    "from sklearn.model_selection import train_test_split\n",
    "from sklearn import preprocessing\n",
    "from keras import regularizers"
   ]
  },
  {
   "cell_type": "markdown",
   "id": "662236a2",
   "metadata": {},
   "source": [
    "**Loading The Data**"
   ]
  },
  {
   "cell_type": "code",
   "execution_count": null,
   "id": "e3799a2e",
   "metadata": {},
   "outputs": [],
   "source": [
    "df = pd.read_csv('../input/train.csv')\n",
    "test = pd.read_csv('../input/test.csv')\n",
    "sample = pd.read_csv('../input/sample_submission.csv')\n",
    "df.head()"
   ]
  },
  {
   "cell_type": "markdown",
   "id": "f99817b6",
   "metadata": {},
   "source": [
    "**Visualizing The Important Features**"
   ]
  },
  {
   "cell_type": "code",
   "execution_count": null,
   "id": "1e8870af",
   "metadata": {},
   "outputs": [],
   "source": [
    "df.glucose_concentration.hist()\n",
    "plt.show()"
   ]
  },
  {
   "cell_type": "code",
   "execution_count": null,
   "id": "2ce2666f",
   "metadata": {},
   "outputs": [],
   "source": [
    "df.serum_insulin.hist()\n",
    "plt.show()"
   ]
  },
  {
   "cell_type": "markdown",
   "id": "edddc211",
   "metadata": {},
   "source": [
    "**Since there were a lot features with high magnitude and it was causing high variance/Overfitting on the training data, I decided to Scale the features in the range of 0 to 1 using Min-Max_scaler.**"
   ]
  },
  {
   "cell_type": "code",
   "execution_count": null,
   "id": "51967e47",
   "metadata": {},
   "outputs": [],
   "source": [
    "min_max_scaler = preprocessing.MinMaxScaler()\n",
    "#Scaling The Training Data\n",
    "x = df.values\n",
    "x_scaled = min_max_scaler.fit_transform(x)\n",
    "df = pd.DataFrame(x_scaled)\n",
    "#Scaling The Testing Data\n",
    "y = test.values\n",
    "y_scaled = min_max_scaler.fit_transform(y)\n",
    "test = pd.DataFrame(y_scaled)\n",
    "df.head()"
   ]
  },
  {
   "cell_type": "markdown",
   "id": "1ca4abdc",
   "metadata": {},
   "source": [
    "**Visualizing The Important Features After Scaling**"
   ]
  },
  {
   "cell_type": "code",
   "execution_count": null,
   "id": "32bc6ba8",
   "metadata": {},
   "outputs": [],
   "source": [
    "df[2].hist() #Glucose Concentration\n",
    "plt.show()"
   ]
  },
  {
   "cell_type": "code",
   "execution_count": null,
   "id": "fcff59fc",
   "metadata": {},
   "outputs": [],
   "source": [
    "df[5].hist() #Serum Insulin\n",
    "plt.show()"
   ]
  },
  {
   "cell_type": "markdown",
   "id": "1cbc6932",
   "metadata": {},
   "source": [
    "**Spliting the training data into Traning and Developement Data**"
   ]
  },
  {
   "cell_type": "code",
   "execution_count": null,
   "id": "17426d32",
   "metadata": {},
   "outputs": [],
   "source": [
    "train, dev = train_test_split(df, test_size=0.2)"
   ]
  },
  {
   "cell_type": "markdown",
   "id": "9bb8c5a2",
   "metadata": {},
   "source": [
    "**Setting Up the Hyperparameters**"
   ]
  },
  {
   "cell_type": "code",
   "execution_count": null,
   "id": "ed59395f",
   "metadata": {},
   "outputs": [],
   "source": [
    "hidden_units=300\n",
    "learning_rate=0.005 #Learning rate was quite optimal\n",
    "hidden_layer_act='tanh'\n",
    "output_layer_act='sigmoid'\n",
    "no_epochs=100 #Increasing The epochs would overfit\n",
    "bsize = 128 #Batch Size Of 128 "
   ]
  },
  {
   "cell_type": "markdown",
   "id": "7465acd3",
   "metadata": {},
   "source": [
    "**Model Architechture**"
   ]
  },
  {
   "cell_type": "code",
   "execution_count": null,
   "id": "29aeebed",
   "metadata": {},
   "outputs": [],
   "source": [
    "model = Sequential()\n",
    "\n",
    "model.add(Dense(hidden_units, input_dim=8, activation=hidden_layer_act))\n",
    "model.add(Dense(hidden_units, activation=hidden_layer_act))\n",
    "model.add(Dense(1, activation=output_layer_act))"
   ]
  },
  {
   "cell_type": "markdown",
   "id": "b602f462",
   "metadata": {},
   "source": [
    "**Setting Up loss function, Optimizer, Metrics**"
   ]
  },
  {
   "cell_type": "code",
   "execution_count": null,
   "id": "01a75020",
   "metadata": {},
   "outputs": [],
   "source": [
    "adam = optimizers.Adam(lr=learning_rate, beta_1=0.9, beta_2=0.999, epsilon=None, decay=0.0, amsgrad=False)\n",
    "model.compile(loss='binary_crossentropy',optimizer=adam, metrics=['acc'])"
   ]
  },
  {
   "cell_type": "markdown",
   "id": "bd62517e",
   "metadata": {},
   "source": [
    "**Training the Model**"
   ]
  },
  {
   "cell_type": "code",
   "execution_count": null,
   "id": "a638a3b5",
   "metadata": {},
   "outputs": [],
   "source": [
    "train_x=train.iloc[:,1:9]\n",
    "train_y=train.iloc[:,9]\n",
    "\n",
    "model.fit(train_x, train_y, epochs=no_epochs, batch_size= bsize,  verbose=2)"
   ]
  },
  {
   "cell_type": "markdown",
   "id": "1a604672",
   "metadata": {},
   "source": [
    "**Validation Loss and Accuracy**"
   ]
  },
  {
   "cell_type": "code",
   "execution_count": null,
   "id": "dd0716a8",
   "metadata": {},
   "outputs": [],
   "source": [
    "val_loss, val_acc = model.evaluate(dev.iloc[:,1:9], dev.iloc[:,9])\n",
    "print(\"Validation Loss : \", val_loss)\n",
    "print(\"Validation Acc : \",val_acc)"
   ]
  },
  {
   "cell_type": "markdown",
   "id": "1030be26",
   "metadata": {},
   "source": [
    "**Low Bias and Low Variance ** : \n",
    "Compared to the highest accuracy this model performed well on training data(Low Bias) and gave a equivalent accuracy on the validation set (Low Variance)"
   ]
  },
  {
   "cell_type": "markdown",
   "id": "84fafef6",
   "metadata": {},
   "source": [
    "**Predicting The outputs for the Training Data**"
   ]
  },
  {
   "cell_type": "code",
   "execution_count": null,
   "id": "ffc6760b",
   "metadata": {},
   "outputs": [],
   "source": [
    "test_x=test.iloc[:,1:9]\n",
    "predictions = model.predict(test_x)\n",
    "print(predictions)"
   ]
  },
  {
   "cell_type": "markdown",
   "id": "93873430",
   "metadata": {},
   "source": [
    "**Submission File**"
   ]
  },
  {
   "cell_type": "code",
   "execution_count": null,
   "id": "494c7f42",
   "metadata": {},
   "outputs": [],
   "source": [
    "rounded = [int(round(x[0])) for x in predictions]\n",
    "print(rounded)\n",
    "sample.diabetes = rounded\n",
    "sample.to_csv('submission.csv',index = False)"
   ]
  }
 ],
 "metadata": {},
 "nbformat": 4,
 "nbformat_minor": 5
}
