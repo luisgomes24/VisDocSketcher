{
 "cells": [
  {
   "cell_type": "markdown",
   "id": "a642be79",
   "metadata": {},
   "source": [
    "**This notebook is an exercise in the [Python](https://www.kaggle.com/learn/python) course.  You can reference the tutorial at [this link](https://www.kaggle.com/colinmorris/working-with-external-libraries).**\n",
    "\n",
    "---\n"
   ]
  },
  {
   "cell_type": "markdown",
   "id": "a5cbf856",
   "metadata": {},
   "source": [
    "# Try It Yourself\n",
    "\n",
    "There are only three problems in this last set of exercises, but they're all pretty tricky, so be on guard! \n",
    "\n",
    "Run the setup code below before working on the questions."
   ]
  },
  {
   "cell_type": "code",
   "execution_count": null,
   "id": "ae19d281",
   "metadata": {},
   "outputs": [],
   "source": [
    "from learntools.core import binder; binder.bind(globals())\n",
    "from learntools.python.ex7 import *\n",
    "print('Setup complete.')"
   ]
  },
  {
   "cell_type": "markdown",
   "id": "5cf03bc2",
   "metadata": {},
   "source": [
    "# Exercises"
   ]
  },
  {
   "cell_type": "markdown",
   "id": "09b491d6",
   "metadata": {},
   "source": [
    "## 1.\n",
    "\n",
    "After completing the exercises on lists and tuples, Jimmy noticed that, according to his `estimate_average_slot_payout` function, the slot machines at the Learn Python Casino are actually rigged *against* the house, and are profitable to play in the long run.\n",
    "\n",
    "Starting with $200 in his pocket, Jimmy has played the slots 500 times, recording his new balance in a list after each spin. He used Python's `matplotlib` library to make a graph of his balance over time:"
   ]
  },
  {
   "cell_type": "code",
   "execution_count": null,
   "id": "c931eff4",
   "metadata": {},
   "outputs": [],
   "source": [
    "# Import the jimmy_slots submodule\n",
    "from learntools.python import jimmy_slots\n",
    "# Call the get_graph() function to get Jimmy's graph\n",
    "graph = jimmy_slots.get_graph()\n",
    "graph\n",
    "graph.get_yticks()\n",
    "help(graph.set_xticklabels)"
   ]
  },
  {
   "cell_type": "markdown",
   "id": "932c6221",
   "metadata": {},
   "source": [
    "As you can see, he's hit a bit of bad luck recently. He wants to tweet this along with some choice emojis, but, as it looks right now, his followers will probably find it confusing. He's asked if you can help him make the following changes:\n",
    "\n",
    "1. Add the title \"Results of 500 slot machine pulls\"\n",
    "2. Make the y-axis start at 0. \n",
    "3. Add the label \"Balance\" to the y-axis\n",
    "\n",
    "After calling `type(graph)` you see that Jimmy's graph is of type `matplotlib.axes._subplots.AxesSubplot`. Hm, that's a new one. By calling `dir(graph)`, you find three methods that seem like they'll be useful: `.set_title()`, `.set_ylim()`, and `.set_ylabel()`. \n",
    "\n",
    "Use these methods to complete the function `prettify_graph` according to Jimmy's requests. We've already checked off the first request for you (setting a title).\n",
    "\n",
    "(Remember: if you don't know what these methods do, use the `help()` function!)"
   ]
  },
  {
   "cell_type": "code",
   "execution_count": null,
   "id": "a06e7519",
   "metadata": {},
   "outputs": [],
   "source": [
    "def prettify_graph(graph):\n",
    "    \"\"\"Modify the given graph according to Jimmy's requests: add a title, make the y-axis\n",
    "    start at 0, label the y-axis. (And, if you're feeling ambitious, format the tick marks\n",
    "    as dollar amounts using the \"$\" symbol.)\n",
    "    \"\"\"\n",
    "    graph.set_title(\"Results of 500 slot machine pulls\")\n",
    "    # Complete steps 2 and 3 here\n",
    "    graph.set_ylim(bottom=0)\n",
    "    graph.set_ylabel(ylabel=\"Balance\")\n",
    "    graph.set_xlabel(xlabel=\"Time\")\n",
    "    #to replace ticks on y as well as x axis\n",
    "    ticks_y=graph.get_yticks()\n",
    "    ticks_x=graph.get_xticks()\n",
    "    labelxd=['*{}'.format(amount) for amount in ticks_x]\n",
    "    labelyd=['${}'.format(amount) for amount in ticks_y]\n",
    "    graph.set_yticklabels(labels=labelyd)\n",
    "    graph.set_xticklabels(labels=labelxd)\n",
    "\n",
    "graph = jimmy_slots.get_graph()\n",
    "prettify_graph(graph)\n",
    "graph\n"
   ]
  },
  {
   "cell_type": "markdown",
   "id": "571e5dd6",
   "metadata": {},
   "source": [
    "**Bonus:** Can you format the numbers on the y-axis so they look like dollar amounts? e.g. $200 instead of just 200.\n",
    "\n",
    "(We're not going to tell you what method(s) to use here. You'll need to go digging yourself with `dir(graph)` and/or `help(graph)`.)"
   ]
  },
  {
   "cell_type": "code",
   "execution_count": null,
   "id": "36d4014d",
   "metadata": {},
   "outputs": [],
   "source": [
    "# Check your answer (Run this code cell to receive credit!)\n",
    "q1.solution()"
   ]
  },
  {
   "cell_type": "markdown",
   "id": "1445fb15",
   "metadata": {},
   "source": [
    "## 2. <span title=\"Spicy\" style=\"color: coral\">🌶️🌶️</span>\n",
    "\n",
    "This is a very hard problem. Feel free to skip it if you are short on time:\n",
    "\n",
    "Luigi is trying to perform an analysis to determine the best items for winning races on the Mario Kart circuit. He has some data in the form of lists of dictionaries that look like...\n",
    "\n",
    "    [\n",
    "        {'name': 'Peach', 'items': ['green shell', 'banana', 'green shell',], 'finish': 3},\n",
    "        {'name': 'Bowser', 'items': ['green shell',], 'finish': 1},\n",
    "        # Sometimes the racer's name wasn't recorded\n",
    "        {'name': None, 'items': ['mushroom',], 'finish': 2},\n",
    "        {'name': 'Toad', 'items': ['green shell', 'mushroom'], 'finish': 1},\n",
    "    ]\n",
    "\n",
    "`'items'` is a list of all the power-up items the racer picked up in that race, and `'finish'` was their placement in the race (1 for first place, 3 for third, etc.).\n",
    "\n",
    "He wrote the function below to take a list like this and return a dictionary mapping each item to how many times it was picked up by first-place finishers."
   ]
  },
  {
   "cell_type": "code",
   "execution_count": null,
   "id": "bfbf2b10",
   "metadata": {},
   "outputs": [],
   "source": [
    "def best_items(racers):\n",
    "    \"\"\"Given a list of racer dictionaries, return a dictionary mapping items to the number\n",
    "    of times those items were picked up by racers who finished in first place.\n",
    "    \"\"\"\n",
    "    winner_item_counts = {}\n",
    "    for i in range(len(racers)):\n",
    "        # The i'th racer dictionary\n",
    "        racer = racers[i]\n",
    "        # We're only interested in racers who finished in first\n",
    "        if racer['finish'] == 1:\n",
    "            for i in racer['items']:\n",
    "                # Add one to the count for this item (adding it to the dict if necessary)\n",
    "                if i not in winner_item_counts:\n",
    "                    winner_item_counts[i] = 0\n",
    "                winner_item_counts[i] += 1\n",
    "\n",
    "        # Data quality issues :/ Print a warning about racers with no name set. We'll take care of it later.\n",
    "        if racer['name'] is None:\n",
    "            print(\"WARNING: Encountered racer with unknown name on iteration {}/{} (racer = {})\".format(\n",
    "                i+1, len(racers), racer['name'])\n",
    "                 )\n",
    "    return winner_item_counts"
   ]
  },
  {
   "cell_type": "markdown",
   "id": "dbbaaea6",
   "metadata": {},
   "source": [
    "He tried it on a small example list above and it seemed to work correctly:"
   ]
  },
  {
   "cell_type": "code",
   "execution_count": null,
   "id": "e542a9a6",
   "metadata": {},
   "outputs": [],
   "source": [
    "sample = [\n",
    "    {'name': 'Peach', 'items': ['green shell', 'banana', 'green shell',], 'finish': 3},\n",
    "    {'name': 'Bowser', 'items': ['green shell',], 'finish': 1},\n",
    "    {'name': None, 'items': ['mushroom',], 'finish': 2},\n",
    "    {'name': 'Toad', 'items': ['green shell', 'mushroom'], 'finish': 1},\n",
    "]\n",
    "best_items(sample)"
   ]
  },
  {
   "cell_type": "markdown",
   "id": "05180a96",
   "metadata": {},
   "source": [
    "However, when he tried running it on his full dataset, the program crashed with a `TypeError`.\n",
    "\n",
    "Can you guess why? Try running the code cell below to see the error message Luigi is getting. Once you've identified the bug, fix it in the cell below (so that it runs without any errors).\n",
    "\n",
    "Hint: Luigi's bug is similar to one we encountered in the [tutorial](https://www.kaggle.com/colinmorris/working-with-external-libraries) when we talked about star imports."
   ]
  },
  {
   "cell_type": "code",
   "execution_count": null,
   "id": "588e12ae",
   "metadata": {},
   "outputs": [],
   "source": [
    "# Import luigi's full dataset of race data\n",
    "from learntools.python.luigi_analysis import full_dataset\n",
    "\n",
    "# Fix me!\n",
    "def best_items(racers):\n",
    "    winner_item_counts = {}\n",
    "    for i in range(len(racers)):\n",
    "        # The i'th racer dictionary\n",
    "        racer = racers[i]\n",
    "        # We're only interested in racers who finished in first\n",
    "        if racer['finish'] == 1:\n",
    "            for item in racer['items']:\n",
    "                # Add one to the count for this item (adding it to the dict if necessary)\n",
    "                if item not in winner_item_counts:\n",
    "                    winner_item_counts[item] = 0\n",
    "                winner_item_counts[item] += 1\n",
    "\n",
    "        # Data quality issues :/ Print a warning about racers with no name set. We'll take care of it later.\n",
    "        if racer['name'] is None:\n",
    "#             print(i)\n",
    "            print(\"WARNING: Encountered racer with unknown name on iteration {}/{} (racer = {})\".format(\n",
    "                i+1, len(racers), racer['name'])\n",
    "                 )\n",
    "    return winner_item_counts\n",
    "# print(full_dataset)\n",
    "# help(full_dataset)\n",
    "# Try analyzing the imported full dataset\n",
    "best_items(full_dataset)\n",
    "\n"
   ]
  },
  {
   "cell_type": "code",
   "execution_count": null,
   "id": "b481b70c",
   "metadata": {},
   "outputs": [],
   "source": [
    "q2.hint()"
   ]
  },
  {
   "cell_type": "code",
   "execution_count": null,
   "id": "48dd4650",
   "metadata": {},
   "outputs": [],
   "source": [
    "# Check your answer (Run this code cell to receive credit!)\n",
    "q2.solution()"
   ]
  },
  {
   "cell_type": "markdown",
   "id": "7e8ed777",
   "metadata": {},
   "source": [
    "## 3. <span title=\"A bit spicy\" style=\"color: darkgreen \">🌶️</span>\n",
    "\n",
    "Suppose we wanted to create a new type to represent hands in blackjack. One thing we might want to do with this type is overload the comparison operators like `>` and `<=` so that we could use them to check whether one hand beats another. e.g. it'd be cool if we could do this:\n",
    "\n",
    "```python\n",
    ">>> hand1 = BlackjackHand(['K', 'A'])\n",
    ">>> hand2 = BlackjackHand(['7', '10', 'A'])\n",
    ">>> hand1 > hand2\n",
    "True\n",
    "```\n",
    "\n",
    "Well, we're not going to do all that in this question (defining custom classes is a bit beyond the scope of these lessons), but the code we're asking you to write in the function below is very similar to what we'd have to write if we were defining our own `BlackjackHand` class. (We'd put it in the `__gt__` magic method to define our custom behaviour for `>`.)\n",
    "\n",
    "Fill in the body of the `blackjack_hand_greater_than` function according to the docstring."
   ]
  },
  {
   "cell_type": "code",
   "execution_count": null,
   "id": "a17bc1eb",
   "metadata": {},
   "outputs": [],
   "source": [
    "def total(hand):\n",
    "    total=0\n",
    "    aces=0\n",
    "    for card in hand:\n",
    "        if card in ['J','Q','K']:\n",
    "            total += 10\n",
    "        elif card=='A':\n",
    "            aces=+1\n",
    "        else:\n",
    "            total += int(card)\n",
    "    total+=aces\n",
    "    while total+10<=21 and aces>0:\n",
    "        total += 10\n",
    "        aces -= 1\n",
    "    return total\n",
    "\n",
    "def blackjack_hand_greater_than(hand_1, hand_2):\n",
    "    \"\"\"\n",
    "    Return True if hand_1 beats hand_2, and False otherwise.\n",
    "    \n",
    "    In order for hand_1 to beat hand_2 the following must be true:\n",
    "    - The total of hand_1 must not exceed 21\n",
    "    - The total of hand_1 must exceed the total of hand_2 OR hand_2's total must exceed 21\n",
    "    \n",
    "    Hands are represented as a list of cards. Each card is represented by a string.\n",
    "    \n",
    "    When adding up a hand's total, cards with numbers count for that many points. Face\n",
    "    cards ('J', 'Q', and 'K') are worth 10 points. 'A' can count for 1 or 11.\n",
    "    \n",
    "    When determining a hand's total, you should try to count aces in the way that \n",
    "    maximizes the hand's total without going over 21. e.g. the total of ['A', 'A', '9'] is 21,\n",
    "    the total of ['A', 'A', '9', '3'] is 14.\n",
    "    \n",
    "    Examples:\n",
    "    >>> blackjack_hand_greater_than(['K'], ['3', '4'])\n",
    "    True\n",
    "    >>> blackjack_hand_greater_than(['K'], ['10'])\n",
    "    False\n",
    "    >>> blackjack_hand_greater_than(['K', 'K', '2'], ['3'])\n",
    "    False\n",
    "    \"\"\"\n",
    "    total_1 = total(hand_1)\n",
    "    total_2 = total(hand_2)\n",
    "    return total_1 <= 21 and (total_1 > total_2 or total_2 > 21)\n",
    "\n",
    "# Check your answer\n",
    "q3.check()"
   ]
  },
  {
   "cell_type": "code",
   "execution_count": null,
   "id": "5e1734a7",
   "metadata": {},
   "outputs": [],
   "source": [
    "q3.hint()\n",
    "q3.solution()"
   ]
  },
  {
   "cell_type": "markdown",
   "id": "30257f45",
   "metadata": {},
   "source": [
    "## The end\n",
    "\n",
    "You've finished the Python course. Congrats!\n",
    "\n",
    "As always, if you have any questions about these exercises, or anything else you encountered in the course, come to the [Learn Forum](https://kaggle.com/learn-forum).\n",
    "\n",
    "You probably didn't put in all these hours of learning Python just to play silly games of chance, right? If you're interested in applying your newfound Python skills to some data science tasks, check out some of our other **[Kaggle Courses](https://www.kaggle.com/learn/overview)**. Some good next steps are:\n",
    "\n",
    "1. [Machine learning with scikit-learn](https://www.kaggle.com/learn/intro-to-machine-learning)\n",
    "2. [Pandas for data manipulation](https://www.kaggle.com/learn/pandas)\n",
    "3. [Deep learning with TensorFlow](https://www.kaggle.com/learn/deep-learning)\n",
    "\n",
    "Happy Pythoning!\n"
   ]
  },
  {
   "cell_type": "markdown",
   "id": "916e7c1e",
   "metadata": {},
   "source": [
    "---\n",
    "\n",
    "\n",
    "\n",
    "\n",
    "*Have questions or comments? Visit the [Learn Discussion forum](https://www.kaggle.com/learn-forum/161283) to chat with other Learners.*"
   ]
  }
 ],
 "metadata": {},
 "nbformat": 4,
 "nbformat_minor": 5
}
