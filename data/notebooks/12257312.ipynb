{
 "cells": [
  {
   "cell_type": "code",
   "execution_count": null,
   "id": "55dda456",
   "metadata": {},
   "outputs": [],
   "source": [
    "import numpy as np\n",
    "import pandas as pd\n",
    "df = pd.read_csv('../input/montcoalert/911.csv')\n",
    "df.head()\n"
   ]
  },
  {
   "cell_type": "code",
   "execution_count": null,
   "id": "458e7dd1",
   "metadata": {},
   "outputs": [],
   "source": [
    "import numpy as np\n",
    "import pandas as pd\n",
    "df = pd.read_csv('../input/montcoalert/911.csv')\n",
    "df.head()\n"
   ]
  },
  {
   "cell_type": "code",
   "execution_count": null,
   "id": "78b493bd",
   "metadata": {},
   "outputs": [],
   "source": [
    "df.info()"
   ]
  },
  {
   "cell_type": "code",
   "execution_count": null,
   "id": "3c6190f4",
   "metadata": {},
   "outputs": [],
   "source": [
    "df.info()"
   ]
  },
  {
   "cell_type": "code",
   "execution_count": null,
   "id": "7b173fe9",
   "metadata": {},
   "outputs": [],
   "source": [
    "df['zip'].value_counts().head() #counting the 5 Top Zip codes"
   ]
  },
  {
   "cell_type": "code",
   "execution_count": null,
   "id": "bb9a5a96",
   "metadata": {},
   "outputs": [],
   "source": [
    "df['zip'].value_counts().head() #counting the 5 Top Zip codes"
   ]
  },
  {
   "cell_type": "code",
   "execution_count": null,
   "id": "4f0cfda5",
   "metadata": {},
   "outputs": [],
   "source": [
    "df['twp'].value_counts().head() #Count for call made Township wise"
   ]
  },
  {
   "cell_type": "code",
   "execution_count": null,
   "id": "7dc8148e",
   "metadata": {},
   "outputs": [],
   "source": [
    "df['twp'].value_counts().head() #Count for call made Township wise"
   ]
  },
  {
   "cell_type": "code",
   "execution_count": null,
   "id": "ca23c0c5",
   "metadata": {},
   "outputs": [],
   "source": [
    "df['title'].nunique() #Unique no of titles"
   ]
  },
  {
   "cell_type": "code",
   "execution_count": null,
   "id": "179e3ac2",
   "metadata": {},
   "outputs": [],
   "source": [
    "df['title'].nunique() #Unique no of titles"
   ]
  },
  {
   "cell_type": "code",
   "execution_count": null,
   "id": "6bbc4e68",
   "metadata": {},
   "outputs": [],
   "source": [
    "df"
   ]
  },
  {
   "cell_type": "code",
   "execution_count": null,
   "id": "f5b85d69",
   "metadata": {},
   "outputs": [],
   "source": [
    "df"
   ]
  },
  {
   "cell_type": "code",
   "execution_count": null,
   "id": "202b4e2e",
   "metadata": {},
   "outputs": [],
   "source": [
    "df['Reason']= df['title'].apply(lambda x: x.split(\":\")[0])\n",
    "df.head()  #Isolating the Reason Tab for better exploratory analysis"
   ]
  },
  {
   "cell_type": "code",
   "execution_count": null,
   "id": "3b76e5ba",
   "metadata": {},
   "outputs": [],
   "source": [
    "df['Reason']= df['title'].apply(lambda x: x.split(\":\")[0])\n",
    "df.head()  #Isolating the Reason Tab for better exploratory analysis"
   ]
  },
  {
   "cell_type": "code",
   "execution_count": null,
   "id": "5f158a5f",
   "metadata": {},
   "outputs": [],
   "source": [
    "df['Reason'].value_counts() #Counting the no of occurences"
   ]
  },
  {
   "cell_type": "code",
   "execution_count": null,
   "id": "7e005f0a",
   "metadata": {},
   "outputs": [],
   "source": [
    "df['Reason'].value_counts() #Counting the no of occurences"
   ]
  },
  {
   "cell_type": "code",
   "execution_count": null,
   "id": "bc9cdec9",
   "metadata": {},
   "outputs": [],
   "source": [
    "import seaborn as sns\n",
    "import matplotlib.pyplot as plt\n",
    "sns.countplot(x='Reason',data=df)  #Countplot of the reason column\n"
   ]
  },
  {
   "cell_type": "code",
   "execution_count": null,
   "id": "18e1e714",
   "metadata": {},
   "outputs": [],
   "source": [
    "import seaborn as sns\n",
    "import matplotlib.pyplot as plt\n",
    "sns.countplot(x='Reason',data=df)  #Countplot of the reason column\n"
   ]
  },
  {
   "cell_type": "code",
   "execution_count": null,
   "id": "88477ae6",
   "metadata": {},
   "outputs": [],
   "source": [
    "type(df['timeStamp'].iloc[0])"
   ]
  },
  {
   "cell_type": "code",
   "execution_count": null,
   "id": "24b70d09",
   "metadata": {},
   "outputs": [],
   "source": [
    "type(df['timeStamp'].iloc[0])"
   ]
  },
  {
   "cell_type": "code",
   "execution_count": null,
   "id": "056ac6e6",
   "metadata": {},
   "outputs": [],
   "source": [
    "df['timeStamp']=pd.to_datetime(df['timeStamp']) #Converting the string datatype into datetime datatype\n",
    "df['timeStamp'] "
   ]
  },
  {
   "cell_type": "code",
   "execution_count": null,
   "id": "127b9454",
   "metadata": {},
   "outputs": [],
   "source": [
    "df['timeStamp']=pd.to_datetime(df['timeStamp']) #Converting the string datatype into datetime datatype\n",
    "df['timeStamp'] "
   ]
  },
  {
   "cell_type": "code",
   "execution_count": null,
   "id": "ef5a5669",
   "metadata": {},
   "outputs": [],
   "source": [
    "type(df['timeStamp'].iloc[0])"
   ]
  },
  {
   "cell_type": "code",
   "execution_count": null,
   "id": "8ed6f92b",
   "metadata": {},
   "outputs": [],
   "source": [
    "type(df['timeStamp'].iloc[0])"
   ]
  },
  {
   "cell_type": "code",
   "execution_count": null,
   "id": "b6b1dac4",
   "metadata": {},
   "outputs": [],
   "source": [
    "time = df['timeStamp'].iloc[0]\n",
    "time\n",
    "#time.hour\n",
    "#time.month\n",
    "#time.day\n",
    "#time.dayofweek  #Attributes of the new datatype"
   ]
  },
  {
   "cell_type": "code",
   "execution_count": null,
   "id": "2393f729",
   "metadata": {},
   "outputs": [],
   "source": [
    "time = df['timeStamp'].iloc[0]\n",
    "time\n",
    "#time.hour\n",
    "#time.month\n",
    "#time.day\n",
    "#time.dayofweek  #Attributes of the new datatype"
   ]
  },
  {
   "cell_type": "code",
   "execution_count": null,
   "id": "5907c066",
   "metadata": {},
   "outputs": [],
   "source": [
    "df['Hour']=df['timeStamp'].apply(lambda x: x.hour)\n",
    "df['Hour'].value_counts()  #Creating a new column 'Hour'"
   ]
  },
  {
   "cell_type": "code",
   "execution_count": null,
   "id": "53969a53",
   "metadata": {},
   "outputs": [],
   "source": [
    "df['Hour']=df['timeStamp'].apply(lambda x: x.hour)\n",
    "df['Hour'].value_counts()  #Creating a new column 'Hour'"
   ]
  },
  {
   "cell_type": "code",
   "execution_count": null,
   "id": "886cae89",
   "metadata": {},
   "outputs": [],
   "source": [
    "df['Month']=df['timeStamp'].apply(lambda x: x.month)\n",
    "df['Month'].value_counts() #Creating a new column Month"
   ]
  },
  {
   "cell_type": "code",
   "execution_count": null,
   "id": "0c8b6877",
   "metadata": {},
   "outputs": [],
   "source": [
    "df['Month']=df['timeStamp'].apply(lambda x: x.month)\n",
    "df['Month'].value_counts() #Creating a new column Month"
   ]
  },
  {
   "cell_type": "code",
   "execution_count": null,
   "id": "96b2678e",
   "metadata": {},
   "outputs": [],
   "source": [
    "df['DayOfWeek']=df['timeStamp'].apply(lambda time: time.dayofweek) #Creating a new column DayOfWeek\n",
    "df['DayOfWeek'].value_counts()\n",
    "type(df['DayOfWeek'].iloc[0])"
   ]
  },
  {
   "cell_type": "code",
   "execution_count": null,
   "id": "a7ddf368",
   "metadata": {},
   "outputs": [],
   "source": [
    "df['DayOfWeek']=df['timeStamp'].apply(lambda time: time.dayofweek) #Creating a new column DayOfWeek\n",
    "df['DayOfWeek'].value_counts()\n",
    "type(df['DayOfWeek'].iloc[0])"
   ]
  },
  {
   "cell_type": "code",
   "execution_count": null,
   "id": "9ac0c195",
   "metadata": {},
   "outputs": [],
   "source": [
    "dmap = {0:'Mon',1:'Tue',2:'Wed',3:'Thu',4:'Fri',5:'Sat',6:'Sun'}\n",
    "df['DayOfWeek']=df['DayOfWeek'].map(dmap) #Mapping the integer values into day names\n",
    "df\n"
   ]
  },
  {
   "cell_type": "code",
   "execution_count": null,
   "id": "b7a94601",
   "metadata": {},
   "outputs": [],
   "source": [
    "dmap = {0:'Mon',1:'Tue',2:'Wed',3:'Thu',4:'Fri',5:'Sat',6:'Sun'}\n",
    "df['DayOfWeek']=df['DayOfWeek'].map(dmap) #Mapping the integer values into day names\n",
    "df\n"
   ]
  },
  {
   "cell_type": "code",
   "execution_count": null,
   "id": "59ccd36f",
   "metadata": {},
   "outputs": [],
   "source": [
    "df.head()"
   ]
  },
  {
   "cell_type": "code",
   "execution_count": null,
   "id": "ca899ba1",
   "metadata": {},
   "outputs": [],
   "source": [
    "df.head()"
   ]
  },
  {
   "cell_type": "code",
   "execution_count": null,
   "id": "1724878d",
   "metadata": {},
   "outputs": [],
   "source": [
    "sns.countplot(x='DayOfWeek',data=df,hue='Reason')\n",
    "plt.legend(bbox_to_anchor=(1.05, 1), loc=2, borderaxespad=0) #Countplot referencing the reason column for approx count of the day of week column"
   ]
  },
  {
   "cell_type": "code",
   "execution_count": null,
   "id": "8b53dead",
   "metadata": {},
   "outputs": [],
   "source": [
    "sns.countplot(x='DayOfWeek',data=df,hue='Reason')\n",
    "plt.legend(bbox_to_anchor=(1.05, 1), loc=2, borderaxespad=0) #Countplot referencing the reason column for approx count of the day of week column"
   ]
  },
  {
   "cell_type": "code",
   "execution_count": null,
   "id": "984e3520",
   "metadata": {},
   "outputs": [],
   "source": [
    "sns.countplot(x='Month',data=df,hue='Reason')\n",
    "plt.legend(bbox_to_anchor=(1.05, 1), loc=2, borderaxespad=0) #Countplot referencing the reason column for approx count of the Month column"
   ]
  },
  {
   "cell_type": "code",
   "execution_count": null,
   "id": "6c95358b",
   "metadata": {},
   "outputs": [],
   "source": [
    "sns.countplot(x='Month',data=df,hue='Reason')\n",
    "plt.legend(bbox_to_anchor=(1.05, 1), loc=2, borderaxespad=0) #Countplot referencing the reason column for approx count of the Month column"
   ]
  },
  {
   "cell_type": "code",
   "execution_count": null,
   "id": "442cb8fc",
   "metadata": {},
   "outputs": [],
   "source": [
    "df1=df.groupby(by='Month').count() #Grouping the Data Frame by Month\n",
    "df1.head()"
   ]
  },
  {
   "cell_type": "code",
   "execution_count": null,
   "id": "d3914c61",
   "metadata": {},
   "outputs": [],
   "source": [
    "df1=df.groupby(by='Month').count() #Grouping the Data Frame by Month\n",
    "df1.head()"
   ]
  },
  {
   "cell_type": "code",
   "execution_count": null,
   "id": "50f6c2b3",
   "metadata": {},
   "outputs": [],
   "source": [
    "df1['twp'].plot(grid=True) #Plot shoing the number of calls made from each township during a particular month"
   ]
  },
  {
   "cell_type": "code",
   "execution_count": null,
   "id": "83534979",
   "metadata": {},
   "outputs": [],
   "source": [
    "df1['twp'].plot(grid=True) #Plot shoing the number of calls made from each township during a particular month"
   ]
  },
  {
   "cell_type": "code",
   "execution_count": null,
   "id": "63579abc",
   "metadata": {},
   "outputs": [],
   "source": [
    "\n",
    "%matplotlib inline\n",
    "sns.set_style('whitegrid')\n",
    "sns.lmplot(x='Month',y='twp',data=df1.reset_index()) #Creating a best fit plot\n",
    "plt.tight_layout()"
   ]
  },
  {
   "cell_type": "code",
   "execution_count": null,
   "id": "8f37f810",
   "metadata": {},
   "outputs": [],
   "source": [
    "\n",
    "%matplotlib inline\n",
    "sns.set_style('whitegrid')\n",
    "sns.lmplot(x='Month',y='twp',data=df1.reset_index()) #Creating a best fit plot\n",
    "plt.tight_layout()"
   ]
  },
  {
   "cell_type": "code",
   "execution_count": null,
   "id": "22187ad5",
   "metadata": {},
   "outputs": [],
   "source": [
    "df['timeStamp'].loc[0].date()"
   ]
  },
  {
   "cell_type": "code",
   "execution_count": null,
   "id": "dd863c89",
   "metadata": {},
   "outputs": [],
   "source": [
    "df['timeStamp'].loc[0].date()"
   ]
  },
  {
   "cell_type": "code",
   "execution_count": null,
   "id": "9b63be15",
   "metadata": {},
   "outputs": [],
   "source": [
    "df['Date']=df['timeStamp'].apply(lambda t: t.date()) #Creating a new Date column\n",
    "df2=df.groupby('Date')\n",
    "df2.count()['twp'].plot() #Creating a plot to display the number of calls made per township on the mentioned dates\n",
    "plt.tight_layout()\n"
   ]
  },
  {
   "cell_type": "code",
   "execution_count": null,
   "id": "b7523b2a",
   "metadata": {},
   "outputs": [],
   "source": [
    "df['Date']=df['timeStamp'].apply(lambda t: t.date()) #Creating a new Date column\n",
    "df2=df.groupby('Date')\n",
    "df2.count()['twp'].plot() #Creating a plot to display the number of calls made per township on the mentioned dates\n",
    "plt.tight_layout()\n"
   ]
  },
  {
   "cell_type": "code",
   "execution_count": null,
   "id": "d4b854dd",
   "metadata": {},
   "outputs": [],
   "source": [
    "df[df['Reason']=='Traffic'].groupby('Date').count()['twp'].plot() #Creating a plot to display the number of traffic related calls\n",
    "plt.title('Traffic')\n",
    "plt.tight_layout()"
   ]
  },
  {
   "cell_type": "code",
   "execution_count": null,
   "id": "262e6378",
   "metadata": {},
   "outputs": [],
   "source": [
    "df[df['Reason']=='Traffic'].groupby('Date').count()['twp'].plot() #Creating a plot to display the number of traffic related calls\n",
    "plt.title('Traffic')\n",
    "plt.tight_layout()"
   ]
  },
  {
   "cell_type": "code",
   "execution_count": null,
   "id": "c63522d1",
   "metadata": {},
   "outputs": [],
   "source": [
    "df[df['Reason']=='Fire'].groupby('Date').count()['twp'].plot() #Creating a plot to display the number of fire related calls\n",
    "plt.title('Fire')\n",
    "plt.tight_layout()"
   ]
  },
  {
   "cell_type": "code",
   "execution_count": null,
   "id": "2c62ea0b",
   "metadata": {},
   "outputs": [],
   "source": [
    "df[df['Reason']=='Fire'].groupby('Date').count()['twp'].plot() #Creating a plot to display the number of fire related calls\n",
    "plt.title('Fire')\n",
    "plt.tight_layout()"
   ]
  },
  {
   "cell_type": "code",
   "execution_count": null,
   "id": "873a942d",
   "metadata": {},
   "outputs": [],
   "source": [
    "df[df['Reason']=='EMS'].groupby('Date').count()['twp'].plot() #Creating a plot to display the number of EMS related calls\n",
    "plt.title('EMS')\n",
    "plt.tight_layout()"
   ]
  },
  {
   "cell_type": "code",
   "execution_count": null,
   "id": "f5def5ec",
   "metadata": {},
   "outputs": [],
   "source": [
    "df[df['Reason']=='EMS'].groupby('Date').count()['twp'].plot() #Creating a plot to display the number of EMS related calls\n",
    "plt.title('EMS')\n",
    "plt.tight_layout()"
   ]
  },
  {
   "cell_type": "code",
   "execution_count": null,
   "id": "436e6011",
   "metadata": {},
   "outputs": [],
   "source": [
    "df.head()\n",
    "dayHour = df.groupby(by=['DayOfWeek','Hour']).count()['Reason'].unstack() #Grouping by DayofWeek as Index and Hour as Column\n",
    "dayHour.head()"
   ]
  },
  {
   "cell_type": "code",
   "execution_count": null,
   "id": "f6643634",
   "metadata": {},
   "outputs": [],
   "source": [
    "df.head()\n",
    "dayHour = df.groupby(by=['DayOfWeek','Hour']).count()['Reason'].unstack() #Grouping by DayofWeek as Index and Hour as Column\n",
    "dayHour.head()"
   ]
  },
  {
   "cell_type": "code",
   "execution_count": null,
   "id": "52343558",
   "metadata": {},
   "outputs": [],
   "source": [
    "plt.figure(figsize=(12,6))\n",
    "sns.heatmap(dayHour,cmap='viridis') #heatmap for the new created groupby Data Frame"
   ]
  },
  {
   "cell_type": "code",
   "execution_count": null,
   "id": "7a40ec93",
   "metadata": {},
   "outputs": [],
   "source": [
    "plt.figure(figsize=(12,6))\n",
    "sns.heatmap(dayHour,cmap='viridis') #heatmap for the new created groupby Data Frame"
   ]
  },
  {
   "cell_type": "code",
   "execution_count": null,
   "id": "3c808cd5",
   "metadata": {},
   "outputs": [],
   "source": [
    "sns.clustermap(dayHour,cmap='viridis') #Clustermap"
   ]
  },
  {
   "cell_type": "code",
   "execution_count": null,
   "id": "b1df3d6e",
   "metadata": {},
   "outputs": [],
   "source": [
    "sns.clustermap(dayHour,cmap='viridis') #Clustermap"
   ]
  },
  {
   "cell_type": "code",
   "execution_count": null,
   "id": "c101e029",
   "metadata": {},
   "outputs": [],
   "source": [
    "dayMonth = df.groupby(by=['DayOfWeek','Month']).count()['Reason'].unstack() #Creating a new dataframe by grouping dayofweek and month\n",
    "dayMonth.head()"
   ]
  },
  {
   "cell_type": "code",
   "execution_count": null,
   "id": "3665e198",
   "metadata": {},
   "outputs": [],
   "source": [
    "dayMonth = df.groupby(by=['DayOfWeek','Month']).count()['Reason'].unstack() #Creating a new dataframe by grouping dayofweek and month\n",
    "dayMonth.head()"
   ]
  },
  {
   "cell_type": "code",
   "execution_count": null,
   "id": "1273e78d",
   "metadata": {},
   "outputs": [],
   "source": [
    "plt.figure(figsize=(12,6))\n",
    "sns.heatmap(dayMonth,cmap='viridis') #Heatmap"
   ]
  },
  {
   "cell_type": "code",
   "execution_count": null,
   "id": "0c54902b",
   "metadata": {},
   "outputs": [],
   "source": [
    "plt.figure(figsize=(12,6))\n",
    "sns.heatmap(dayMonth,cmap='viridis') #Heatmap"
   ]
  },
  {
   "cell_type": "code",
   "execution_count": null,
   "id": "2d089c3b",
   "metadata": {},
   "outputs": [],
   "source": [
    "sns.clustermap(dayMonth,cmap='viridis') #Clustermap"
   ]
  },
  {
   "cell_type": "code",
   "execution_count": null,
   "id": "9d02a110",
   "metadata": {},
   "outputs": [],
   "source": [
    "sns.clustermap(dayMonth,cmap='viridis') #Clustermap"
   ]
  }
 ],
 "metadata": {},
 "nbformat": 4,
 "nbformat_minor": 5
}
