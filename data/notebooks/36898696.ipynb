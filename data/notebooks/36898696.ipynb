{
 "cells": [
  {
   "cell_type": "markdown",
   "id": "da1d9d5e",
   "metadata": {},
   "source": [
    "Not sure how much help it will be but this notebook describes how I made a WAG about which patients are in the control group and which are Parkinson's patients.\n",
    "\n",
    "Summary:\n",
    "\n",
    "1.  I use that to fill missing values in the training updr_4.\n",
    "2.  Some shared notebooks are dropping rows where medication status is unknown - I think that's a huge mistake.  Think I saw one that dropped missing value rows for updrs_4, also a mistake IMO.\n",
    "3.  Both medication status and control/patient are pretty good features in a few models (not shown in this notebook) - but we don't get that information in test (meds) and it might be hard to figure out control using the method in this notebook.\n",
    "4.  Might want to look at a way to use control group info with proteins/peptides - ?"
   ]
  },
  {
   "cell_type": "code",
   "execution_count": null,
   "id": "3222703c",
   "metadata": {},
   "outputs": [],
   "source": [
    "FILE_DIR = '/kaggle/input/amp-parkinsons-disease-progression-prediction/'\n",
    "import numpy as np\n",
    "import pandas as pd\n",
    "import matplotlib.pyplot as plt\n",
    "import seaborn as sns\n",
    "\n",
    "\n",
    "# increase the number of rows during debug as some of my logic was not easy for me to code - \n",
    "pd.options.display.max_rows = 50   # 500\n"
   ]
  },
  {
   "cell_type": "code",
   "execution_count": null,
   "id": "a532a5af",
   "metadata": {},
   "outputs": [],
   "source": [
    "FILL_MEDS = 'UNKNOWN'\n",
    "HOW = 'median'          "
   ]
  },
  {
   "cell_type": "code",
   "execution_count": null,
   "id": "215bbf93",
   "metadata": {},
   "outputs": [],
   "source": [
    "def Build_Initial(fill_stuff):\n",
    "    trn = pd.read_csv(FILE_DIR + 'train_clinical_data.csv')\n",
    "    # trn = pd.read_csv('/kaggle/input/amp-pd/train_clinical_data.csv')\n",
    "    targets = ['updrs_1', 'updrs_2', 'updrs_3', 'updrs_4']\n",
    "    # Fill the nan with a new state - UNKNOWN\n",
    "    if fill_stuff == 'None':\n",
    "        trn.upd23b_clinical_state_on_medication = trn.drop('upd23b_clinical_state_on_medication',axis=1).dropna()\n",
    "    else:\n",
    "        trn.upd23b_clinical_state_on_medication = trn.upd23b_clinical_state_on_medication.fillna(fill_stuff)\n",
    "    return trn, targets"
   ]
  },
  {
   "cell_type": "code",
   "execution_count": null,
   "id": "93020a53",
   "metadata": {},
   "outputs": [],
   "source": [
    "trn, targets = Build_Initial(fill_stuff = FILL_MEDS)\n",
    "trn"
   ]
  },
  {
   "cell_type": "code",
   "execution_count": null,
   "id": "15b032a8",
   "metadata": {},
   "outputs": [],
   "source": [
    "# Group the data by 'upd23b_clinical_state_on_medication' and select the 'updrs_1' column\n",
    "grouped = trn.groupby('upd23b_clinical_state_on_medication')['updrs_1']\n",
    "\n",
    "# Create a figure with twice the default size\n",
    "fig, ax = plt.subplots(figsize=(12, 12))\n",
    "# Plot a histogram of 'updrs_1' for each group\n",
    "grouped.hist(alpha=0.5, bins=100, density=True)\n",
    "# Add a legend to the plot\n",
    "ax.legend(title='Medication State', loc='upper right')\n",
    "# Add titles and labels to the plot\n",
    "plt.title('Histogram of UPDRS-1 by Medication State')\n",
    "plt.xlabel('UPDRS-1 Score')\n",
    "plt.ylabel('Density')\n",
    "\n",
    "# Show the plot\n",
    "plt.show()"
   ]
  },
  {
   "cell_type": "markdown",
   "id": "7d2aab83",
   "metadata": {},
   "source": [
    "Two distinct distributions of all UPDRS exist based on the medication status.  Dropping the nan med status rows would appear to be a mistake.  While it's likely Off meds, its more likely that it's meds never proscribed.\n"
   ]
  },
  {
   "cell_type": "markdown",
   "id": "26e9b20c",
   "metadata": {},
   "source": [
    "Used this Fill_survey in local models.  Median always better than mean.\n",
    "After some experiments I ended up using median to fill missing for parts 1-3."
   ]
  },
  {
   "cell_type": "code",
   "execution_count": null,
   "id": "0540f58b",
   "metadata": {},
   "outputs": [],
   "source": [
    "def Fill_survey(trn, HOW):\n",
    "    \n",
    "    if HOW == 'median':\n",
    "        print('using median')\n",
    "        grouped = trn.groupby(['visit_month', 'upd23b_clinical_state_on_medication'])['updrs_1'].median()\n",
    "        # Fill missing values in 'updrs_1' with the mean of each corresponding group\n",
    "        trn['updrs_1'] = trn.apply(lambda x: grouped.loc[(x['visit_month'], x['upd23b_clinical_state_on_medication'])] if pd.isna(x['updrs_1']) else x['updrs_1'], axis=1)\n",
    "\n",
    "        grouped = trn.groupby(['visit_month', 'upd23b_clinical_state_on_medication'])['updrs_2'].median()\n",
    "        # Fill missing values in 'updrs_1' with the mean of each corresponding group\n",
    "        trn['updrs_2'] = trn.apply(lambda x: grouped.loc[(x['visit_month'], x['upd23b_clinical_state_on_medication'])] if pd.isna(x['updrs_2']) else x['updrs_2'], axis=1)\n",
    "\n",
    "        grouped = trn.groupby(['visit_month', 'upd23b_clinical_state_on_medication'])['updrs_3'].median()\n",
    "        # Fill missing values in 'updrs_1' with the mean of each corresponding group\n",
    "        trn['updrs_3'] = trn.apply(lambda x: grouped.loc[(x['visit_month'], x['upd23b_clinical_state_on_medication'])] if pd.isna(x['updrs_3']) else x['updrs_3'], axis=1)\n",
    "\n",
    "#         grouped = trn.groupby(['visit_month', 'upd23b_clinical_state_on_medication'])['updrs_4'].median()\n",
    "#         # Fill missing values in 'updrs_1' with the mean of each corresponding group\n",
    "#         trn['updrs_4'] = trn.apply(lambda x: grouped.loc[(x['visit_month'], x['upd23b_clinical_state_on_medication'])] if pd.isna(x['updrs_4']) else x['updrs_4'], axis=1)\n",
    "\n",
    "        \n",
    "    elif HOW == 'mean':\n",
    "        print('using mean')\n",
    "        grouped = trn.groupby(['visit_month', 'upd23b_clinical_state_on_medication'])['updrs_1'].mean()\n",
    "        # Fill missing values in 'updrs_1' with the mean of each corresponding group\n",
    "        trn['updrs_1'] = trn.apply(lambda x: grouped.loc[(x['visit_month'], x['upd23b_clinical_state_on_medication'])] if pd.isna(x['updrs_1']) else x['updrs_1'], axis=1)\n",
    "\n",
    "        grouped = trn.groupby(['visit_month', 'upd23b_clinical_state_on_medication'])['updrs_2'].mean()\n",
    "        # Fill missing values in 'updrs_1' with the mean of each corresponding group\n",
    "        trn['updrs_2'] = trn.apply(lambda x: grouped.loc[(x['visit_month'], x['upd23b_clinical_state_on_medication'])] if pd.isna(x['updrs_2']) else x['updrs_2'], axis=1)\n",
    "\n",
    "        grouped = trn.groupby(['visit_month', 'upd23b_clinical_state_on_medication'])['updrs_3'].mean()\n",
    "        # Fill missing values in 'updrs_1' with the mean of each corresponding group\n",
    "        trn['updrs_3'] = trn.apply(lambda x: grouped.loc[(x['visit_month'], x['upd23b_clinical_state_on_medication'])] if pd.isna(x['updrs_3']) else x['updrs_3'], axis=1)\n",
    "\n",
    "#         grouped = trn.groupby(['visit_month', 'upd23b_clinical_state_on_medication'])['updrs_4'].mean()\n",
    "#         # Fill missing values in 'updrs_1' with the mean of each corresponding group\n",
    "#         trn['updrs_4'] = trn.apply(lambda x: grouped.loc[(x['visit_month'], x['upd23b_clinical_state_on_medication'])] if pd.isna(x['updrs_4']) else x['updrs_4'], axis=1)\n",
    "        \n",
    "        \n",
    "\n",
    "    return trn"
   ]
  },
  {
   "cell_type": "markdown",
   "id": "886954db",
   "metadata": {},
   "source": [
    "Changed the name to save on keystrokes :)"
   ]
  },
  {
   "cell_type": "code",
   "execution_count": null,
   "id": "25d3f99d",
   "metadata": {},
   "outputs": [],
   "source": [
    "trn = Fill_survey(trn, HOW)\n",
    "trn = trn.rename(columns={'upd23b_clinical_state_on_medication': 'meds'})"
   ]
  },
  {
   "cell_type": "code",
   "execution_count": null,
   "id": "66e4b974",
   "metadata": {},
   "outputs": [],
   "source": [
    "import matplotlib.ticker as mtick\n",
    "\n",
    "(trn.isna().sum()/trn.shape[0]).plot(kind='barh', title = 'NA value counts')\n",
    "plt.gca().xaxis.set_major_formatter(mtick.PercentFormatter(xmax=1.0))\n",
    "plt.show()"
   ]
  },
  {
   "cell_type": "code",
   "execution_count": null,
   "id": "b7ae7f76",
   "metadata": {},
   "outputs": [],
   "source": [
    "# Guess #1 - patients with medication status of Unknown are control.\n",
    "trn['control'] = 0.0          # set all patients as Parkinson's    \n",
    "trn.loc[trn['meds'].isin(['UNKNOWN', 'Off']), 'control'] = 1.0\n",
    "trn['control'] = trn.groupby('patient_id')['control'].transform(lambda x: 1 if x.sum() == len(x) else 0)\n",
    "\n",
    "trn.head(5)"
   ]
  },
  {
   "cell_type": "code",
   "execution_count": null,
   "id": "1312dcc0",
   "metadata": {},
   "outputs": [],
   "source": [
    "unique_patients = trn.groupby('control')['patient_id'].nunique()\n",
    "print(unique_patients)"
   ]
  },
  {
   "cell_type": "markdown",
   "id": "71a75966",
   "metadata": {},
   "source": [
    "With this first attempt to determine if an patient is in the control group we have found 99 possible control group patients.\n"
   ]
  },
  {
   "cell_type": "markdown",
   "id": "0dacd95c",
   "metadata": {},
   "source": [
    "Guess #2 - control group patients will have only 0 or nan values for part 4.\n",
    "When you take the survey yourself you will see that part 4 will have 0 score for a normal healthy person.  Hard to believe that a Parkison's patient would score 0 here, even when meds working great.  I am old guy with pretty high scores in parts 1-3 but 0.0 in part 4."
   ]
  },
  {
   "cell_type": "code",
   "execution_count": null,
   "id": "22951475",
   "metadata": {},
   "outputs": [],
   "source": [
    "# fill in the nan - I had a lot of trouble getting my logic to work with NaN - not sure why but this fixed an unknown issue\n",
    "trn['updrs_4'].fillna(-1.0, inplace=True)\n",
    "trn['control_2'] = 0.0\n",
    "\n",
    "# Define a function to update the 'control_2' column based on the condition\n",
    "def update_control_2(group):\n",
    "    if group['updrs_4'].apply(lambda x: x == 0.0 or x == -1.0).all():\n",
    "        group['control_2'] = 1.0\n",
    "    return group\n",
    "\n",
    "# Apply the update_control_2 function to each group of rows with the same 'patient_id'\n",
    "trn = trn.groupby('patient_id').apply(update_control_2)\n",
    "\n",
    "\n",
    "trn.head(5)"
   ]
  },
  {
   "cell_type": "code",
   "execution_count": null,
   "id": "9f31287d",
   "metadata": {},
   "outputs": [],
   "source": [
    "unique_patients = trn.groupby('control_2')['patient_id'].nunique()\n",
    "print(unique_patients)"
   ]
  },
  {
   "cell_type": "markdown",
   "id": "0d406b51",
   "metadata": {},
   "source": [
    "Now a different possible split of control vs patients.  Like this one better as 50/50 seems like a nice balanced study.\n",
    "Wanted to do another possible evaluation as a tie breaker but could not think of one.\n",
    "\n",
    "So - lets do a simple assumption that control patients both would score 1.0 with my simple tests."
   ]
  },
  {
   "cell_type": "code",
   "execution_count": null,
   "id": "f7898608",
   "metadata": {},
   "outputs": [],
   "source": [
    "# Set the data types of 'control' and 'control_2' columns to float32\n",
    "trn['control'] = trn['control'].astype('float32')\n",
    "trn['control_2'] = trn['control_2'].astype('float32')\n",
    "\n",
    "trn['control_sum'] = trn['control'] + trn['control_2']\n",
    "unique_patients = trn.groupby('control_sum')['patient_id'].nunique()\n",
    "print(unique_patients)"
   ]
  },
  {
   "cell_type": "markdown",
   "id": "74a65ea3",
   "metadata": {},
   "source": [
    "We have 92 patients that we have some confidence are control group.\n",
    "Lets set updrs_4 to value of 0.0 for our control group when -1.0\n",
    "Lets also update the meds to None for our suspect control group"
   ]
  },
  {
   "cell_type": "code",
   "execution_count": null,
   "id": "759c2de9",
   "metadata": {},
   "outputs": [],
   "source": [
    "# Update 'updrs_4' column based on the condition\n",
    "trn.loc[(trn['control_sum'] == 2.0) & (trn['updrs_4'] == -1.0), 'updrs_4'] = 0.0\n",
    "\n",
    "# Update 'meds' column based on the condition\n",
    "trn.loc[(trn['control_sum'] == 2.0) & (trn['meds'] == 'UNKNOWN'), 'meds'] = 'None'\n",
    "\n",
    "# Update 'meds' column based on the condition - these are most likely Parkinson's and going to assume Off\n",
    "trn.loc[(trn['control'] == 0.0) & (trn['meds'] == 'UNKNOWN'), 'meds'] = 'Off'\n",
    "\n",
    "# Update 'updrs_4' column based on the condition\n",
    "trn.loc[trn['updrs_4'] == -1.0, 'updrs_4'] = 0.0\n",
    "\n",
    "\n",
    "trn.head(5)"
   ]
  },
  {
   "cell_type": "markdown",
   "id": "9c92ae40",
   "metadata": {},
   "source": [
    "Any patient with control_sum of 2.0 is most likely a control subject.\n",
    "Controls will not have Parkinson's but they might have/develop other issues where peptides play a role in scoring.\n",
    "But in general I would assume they have a fairly flat score for parts 1-3 over time.\n",
    "My personal scores are mid-range in those parts, likly the result of age (76) and that I have been pushing the diabetes border for a few years.\n",
    "\n",
    "Still have a few that I am not sure of - but for now 4 groups of 'meds'.\n",
    "\n",
    "We don't get meds status information in Test and still evaluating how I will use control info and meds\n"
   ]
  },
  {
   "cell_type": "code",
   "execution_count": null,
   "id": "4fa81a52",
   "metadata": {},
   "outputs": [],
   "source": [
    "print(trn['meds'].nunique())"
   ]
  },
  {
   "cell_type": "code",
   "execution_count": null,
   "id": "9b7fbd4b",
   "metadata": {},
   "outputs": [],
   "source": [
    "grouped = trn.groupby('control_sum')['updrs_1']\n",
    "\n",
    "# Create a figure with twice the default size\n",
    "fig, ax = plt.subplots(figsize=(12, 12))\n",
    "\n",
    "# Define the histogram properties\n",
    "num_bins = 100\n",
    "bar_width = 0.8\n",
    "offset = 0.25\n",
    "\n",
    "# Define the groups and colors\n",
    "groups = list(grouped.groups.keys())\n",
    "colors = ['C0', 'C1', 'C2']\n",
    "\n",
    "# Loop through the groups and plot the histogram with custom spacing\n",
    "for i, (name, group) in enumerate(grouped):\n",
    "    counts, bin_edges = np.histogram(group, bins=num_bins, density=True)\n",
    "    bin_centers = 0.5 * (bin_edges[:-1] + bin_edges[1:])\n",
    "    ax.bar(bin_centers + (i - 1) * offset, counts, width=bar_width / len(groups), alpha=1, color=colors[i], label=name)\n",
    "\n",
    "# Add a legend to the plot\n",
    "ax.legend(title='Control vs Parkinsons State', loc='upper right')\n",
    "# Add titles and labels to the plot\n",
    "plt.title('Histogram of UPDRS-1 by Control State')\n",
    "plt.xlabel('UPDRS-1 Score')\n",
    "plt.ylabel('Density')\n",
    "\n",
    "# Set y-axis limit\n",
    "# ax.set_ylim(bottom=0, top=15)\n",
    "\n",
    "# Show the plot\n",
    "plt.show()\n"
   ]
  },
  {
   "cell_type": "markdown",
   "id": "3b20c424",
   "metadata": {},
   "source": [
    "Kind of looks like I really should move move of the patient_id into the control grouping."
   ]
  },
  {
   "cell_type": "code",
   "execution_count": null,
   "id": "aaeae92d",
   "metadata": {},
   "outputs": [],
   "source": [
    "grouped = trn.groupby('control_sum')['updrs_2']\n",
    "\n",
    "# Create a figure with twice the default size\n",
    "fig, ax = plt.subplots(figsize=(12, 12))\n",
    "\n",
    "# Define the histogram properties\n",
    "num_bins = 100\n",
    "bar_width = 0.8\n",
    "offset = 0.25\n",
    "\n",
    "# Define the groups and colors\n",
    "groups = list(grouped.groups.keys())\n",
    "colors = ['C0', 'C1', 'C2']\n",
    "\n",
    "# Loop through the groups and plot the histogram with custom spacing\n",
    "for i, (name, group) in enumerate(grouped):\n",
    "    counts, bin_edges = np.histogram(group, bins=num_bins, density=True)\n",
    "    bin_centers = 0.5 * (bin_edges[:-1] + bin_edges[1:])\n",
    "    ax.bar(bin_centers + (i - 1) * offset, counts, width=bar_width / len(groups), alpha=1, color=colors[i], label=name)\n",
    "\n",
    "# Add a legend to the plot\n",
    "ax.legend(title='Control vs Parkinsons State', loc='upper right')\n",
    "# Add titles and labels to the plot\n",
    "plt.title('Histogram of UPDRS-2 by Control State')\n",
    "plt.xlabel('UPDRS-2 Score')\n",
    "plt.ylabel('Density')\n",
    "\n",
    "# Set y-axis limit\n",
    "# ax.set_ylim(bottom=0, top=15)\n",
    "\n",
    "# Show the plot\n",
    "plt.show()\n"
   ]
  },
  {
   "cell_type": "code",
   "execution_count": null,
   "id": "b1c6090b",
   "metadata": {},
   "outputs": [],
   "source": [
    "# Group the data by 'upd23b_clinical_state_on_medication' and select the 'updrs' column\n",
    "grouped = trn.groupby('control_sum')['updrs_3']\n",
    "\n",
    "# Create a figure with twice the default size\n",
    "fig, ax = plt.subplots(figsize=(12, 12))\n",
    "# Plot a histogram of 'updrs' for each group\n",
    "grouped.hist(alpha=1, bins=100, density=True)  # Increase the alpha value to make the bars less transparent\n",
    "# Add a legend to the plot\n",
    "ax.legend(title='Control vs Parkinsons State', loc='upper right')\n",
    "# Add titles and labels to the plot\n",
    "plt.title('Histogram of UPDRS-3 by Control State')\n",
    "plt.xlabel('UPDRS-3 Score')\n",
    "plt.ylabel('Density')\n",
    "\n",
    "# Set y-axis limit\n",
    "# ax.set_ylim(bottom=0, top=4)  # Adjust the y-axis limit to see the group with all zero values better\n",
    "\n",
    "# Show the plot\n",
    "plt.show()\n"
   ]
  },
  {
   "cell_type": "markdown",
   "id": "92be73ad",
   "metadata": {},
   "source": [
    "Ok - this plot makes me think I have the control group split right - how to explain the chart for part 1?\n",
    "\n",
    "When you take the survey yourself I think it's understandable that control folks will score differently than Parkinson's patients."
   ]
  },
  {
   "cell_type": "code",
   "execution_count": null,
   "id": "fa186ae4",
   "metadata": {},
   "outputs": [],
   "source": [
    "grouped = trn.groupby('control_sum')['updrs_4']\n",
    "\n",
    "# Create a figure with twice the default size\n",
    "fig, ax = plt.subplots(figsize=(12, 12))\n",
    "\n",
    "# Define the histogram properties\n",
    "num_bins = 100\n",
    "bar_width = 0.8\n",
    "offset = 0.25\n",
    "\n",
    "# Define the groups and colors\n",
    "groups = list(grouped.groups.keys())\n",
    "colors = ['C0', 'C1', 'C2']\n",
    "\n",
    "# Loop through the groups and plot the histogram with custom spacing\n",
    "for i, (name, group) in enumerate(grouped):\n",
    "    counts, bin_edges = np.histogram(group, bins=num_bins, density=True)\n",
    "    bin_centers = 0.5 * (bin_edges[:-1] + bin_edges[1:])\n",
    "    ax.bar(bin_centers + (i - 1) * offset, counts, width=bar_width / len(groups), alpha=1, color=colors[i], label=name)\n",
    "\n",
    "# Add a legend to the plot\n",
    "ax.legend(title='Control vs Parkinsons State', loc='upper right')\n",
    "# Add titles and labels to the plot\n",
    "plt.title('Histogram of UPDRS-4 by Control State')\n",
    "plt.xlabel('UPDRS-4 Score')\n",
    "plt.ylabel('Density')\n",
    "\n",
    "# Set y-axis limit\n",
    "ax.set_ylim(bottom=0, top=15)\n",
    "\n",
    "# Show the plot\n",
    "plt.show()\n"
   ]
  },
  {
   "cell_type": "markdown",
   "id": "9ddbbd4c",
   "metadata": {},
   "source": [
    "While taking the survey my impression was that part 1 and 2 might not show a lot of differences between controls and Parkinson's patients.  Not sure of the age distribution for occurrence of Parkinson's, and would assume that any control group would be a reasonable age match.\n",
    "\n",
    "Now what to do with this knowledge?"
   ]
  },
  {
   "cell_type": "code",
   "execution_count": null,
   "id": "c37701dd",
   "metadata": {},
   "outputs": [],
   "source": [
    "nan"
   ]
  }
 ],
 "metadata": {},
 "nbformat": 4,
 "nbformat_minor": 5
}
