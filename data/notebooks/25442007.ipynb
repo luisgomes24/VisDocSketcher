{
 "cells": [
  {
   "cell_type": "markdown",
   "id": "a1e79acc",
   "metadata": {},
   "source": [
    "# Imports"
   ]
  },
  {
   "cell_type": "code",
   "execution_count": null,
   "id": "090d05c8",
   "metadata": {},
   "outputs": [],
   "source": [
    "import numpy as np\n",
    "from mpl_toolkits.mplot3d import Axes3D\n",
    "import matplotlib.pyplot as plt\n",
    "\n",
    "from keras.datasets import mnist"
   ]
  },
  {
   "cell_type": "markdown",
   "id": "2cd57e27",
   "metadata": {},
   "source": [
    "# Reading the MNIST dataset"
   ]
  },
  {
   "cell_type": "code",
   "execution_count": null,
   "id": "a2d39719",
   "metadata": {},
   "outputs": [],
   "source": [
    "(X_train, y_train), (X_test, y_test) = mnist.load_data()\n",
    "\n",
    "X_train = X_train.reshape(60000, 784)\n",
    "X_test = X_test.reshape(10000, 784)\n",
    "\n",
    "X_train = X_train.astype('float32')\n",
    "X_test = X_test.astype('float32')\n",
    "\n",
    "X_train /= 255\n",
    "X_test /= 255\n",
    "\n",
    "print(\"X_train shape: \", X_train.shape)\n",
    "print(\"X_test shape: \", X_test.shape)"
   ]
  },
  {
   "cell_type": "markdown",
   "id": "48cdeb79",
   "metadata": {},
   "source": [
    "# PCA Implementation"
   ]
  },
  {
   "cell_type": "code",
   "execution_count": null,
   "id": "51786e14",
   "metadata": {},
   "outputs": [],
   "source": [
    "class PCA:\n",
    "    \n",
    "    def __init__(self, n_components):\n",
    "        self.n_components = n_components\n",
    "        \n",
    "    def fit(self, X):\n",
    "        covar_mat = np.cov(X, rowvar=False)\n",
    "        self.eig_values, self.eig_vectors = np.linalg.eig(covar_mat)\n",
    "        \n",
    "    def transform(self, X):\n",
    "        return X.dot(self.eig_vectors[:, :self.n_components])"
   ]
  },
  {
   "cell_type": "markdown",
   "id": "9b27c5c5",
   "metadata": {},
   "source": [
    "# Fitting and transforming the data"
   ]
  },
  {
   "cell_type": "code",
   "execution_count": null,
   "id": "202839a6",
   "metadata": {},
   "outputs": [],
   "source": [
    "pca = PCA(n_components=3)\n",
    "pca.fit(X_train)\n",
    "transformed_x = pca.transform(X_train)"
   ]
  },
  {
   "cell_type": "markdown",
   "id": "2ed1b1ac",
   "metadata": {},
   "source": [
    "# 2D Plot of the Projected Dataset"
   ]
  },
  {
   "cell_type": "code",
   "execution_count": null,
   "id": "122a75c5",
   "metadata": {},
   "outputs": [],
   "source": [
    "cmap = plt.cm.jet\n",
    "cmaplist = [cmap(i) for i in range(cmap.N)]\n",
    "cmap = cmap.from_list('Custom cmap', cmaplist, cmap.N)\n",
    "\n",
    "fig = plt.figure(figsize=(16, 10))\n",
    "plt_data = plt.scatter(transformed_x[:, 0], transformed_x[:, 1], c=y_train, cmap=cmap)\n",
    "fig.colorbar(plt_data)\n",
    "plt.show()"
   ]
  },
  {
   "cell_type": "markdown",
   "id": "af0df970",
   "metadata": {},
   "source": [
    "# 3D Plot of the Projected Dataset"
   ]
  },
  {
   "cell_type": "code",
   "execution_count": null,
   "id": "d21bcff2",
   "metadata": {},
   "outputs": [],
   "source": [
    "transformed_x = transformed_x.real\n",
    "\n",
    "fig = plt.figure(figsize=(16, 10))\n",
    "ax = plt.axes(projection='3d')\n",
    "plt_data_3d = ax.scatter(transformed_x[:, 0], transformed_x[:, 1], transformed_x[:, 2], \n",
    "           c=y_train, cmap=cmap, linewidth=0.5)\n",
    "fig.colorbar(plt_data_3d)\n",
    "plt.show()"
   ]
  },
  {
   "cell_type": "markdown",
   "id": "71dfaf9a",
   "metadata": {},
   "source": [
    "# Scikit-Learn way"
   ]
  },
  {
   "cell_type": "code",
   "execution_count": null,
   "id": "bae92fef",
   "metadata": {},
   "outputs": [],
   "source": [
    "from sklearn.decomposition import PCA\n",
    "\n",
    "pca = PCA(n_components=3)\n",
    "pca.fit(X_train)\n",
    "transformed_x = pca.transform(X_train)"
   ]
  },
  {
   "cell_type": "code",
   "execution_count": null,
   "id": "4b9fad0b",
   "metadata": {},
   "outputs": [],
   "source": [
    "plt.figure(figsize=(16, 10))\n",
    "plt.scatter(transformed_x[:, 0], transformed_x[:, 1], c=y_train, cmap=cmap)\n",
    "plt.show()"
   ]
  },
  {
   "cell_type": "code",
   "execution_count": null,
   "id": "bb13ee26",
   "metadata": {},
   "outputs": [],
   "source": [
    "plt.figure(figsize=(16, 10))\n",
    "ax = plt.axes(projection='3d')\n",
    "ax.scatter(transformed_x[:, 0], transformed_x[:, 1], transformed_x[:, 2], \n",
    "           c=y_train, cmap=cmap, linewidth=0.5);"
   ]
  }
 ],
 "metadata": {},
 "nbformat": 4,
 "nbformat_minor": 5
}
