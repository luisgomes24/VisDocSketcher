{
 "cells": [
  {
   "cell_type": "code",
   "execution_count": null,
   "id": "018b0dd7",
   "metadata": {},
   "outputs": [],
   "source": [
    "# This Python 3 environment comes with many helpful analytics libraries installed\n",
    "# It is defined by the kaggle/python Docker image: https://github.com/kaggle/docker-python\n",
    "# For example, here's several helpful packages to load\n",
    "\n",
    "import numpy as np # linear algebra\n",
    "import pandas as pd # data processing, CSV file I/O (e.g. pd.read_csv)\n",
    "\n",
    "# Input data files are available in the read-only \"../input/\" directory\n",
    "# For example, running this (by clicking run or pressing Shift+Enter) will list all files under the input directory\n",
    "\n",
    "import os\n",
    "for dirname, _, filenames in os.walk('/kaggle/input'):\n",
    "    for filename in filenames:\n",
    "        print(os.path.join(dirname, filename))\n",
    "\n",
    "# You can write up to 20GB to the current directory (/kaggle/working/) that gets preserved as output when you create a version using \"Save & Run All\" \n",
    "# You can also write temporary files to /kaggle/temp/, but they won't be saved outside of the current session"
   ]
  },
  {
   "cell_type": "markdown",
   "id": "cb81d1c1",
   "metadata": {},
   "source": [
    "## **Import important packages**"
   ]
  },
  {
   "cell_type": "code",
   "execution_count": null,
   "id": "fa8e171e",
   "metadata": {},
   "outputs": [],
   "source": [
    "import pandas as pd \n",
    "import matplotlib.pyplot as plt\n",
    "import numpy as np\n",
    "import seaborn as sns\n",
    "\n",
    "sns.set_style('whitegrid')"
   ]
  },
  {
   "cell_type": "code",
   "execution_count": null,
   "id": "55655cd0",
   "metadata": {},
   "outputs": [],
   "source": [
    "df=pd.read_csv(\"../input/heart-failure-prediction/heart.csv\")     #load dataset\n",
    "df.head()"
   ]
  },
  {
   "cell_type": "markdown",
   "id": "ac991c1e",
   "metadata": {},
   "source": [
    "## **Features Description**\n",
    "* **Age** : age of the patient [years]\n",
    "* **Sex** : sex of the patient [M: Male, F: Female]\n",
    "* **ChestPainType** : chest pain type\n",
    "\n",
    "    - TA: Typical Angina, \n",
    "    - ATA: Atypical Angina, \n",
    "    - NAP: Non-Anginal Pain, \n",
    "    - ASY: Asymptomatic\n",
    "    \n",
    "* **RestingBP** : resting blood pressure [mm Hg]\n",
    "* **Cholesterol**: serum cholesterol [mm/dl]\n",
    "* **FastingBS** : fasting blood sugar [1: if FastingBS > 120 mg/dl, 0: otherwise]\n",
    "* **RestingECG** : resting electrocardiogram results \n",
    "     - Normal: Normal, \n",
    "     - ST: having ST-T wave abnormality (T wave inversions and/or ST elevation or depression of > 0.05 mV), \n",
    "     - LVH: showing probable or definite left ventricular hypertrophy by Estes' criteria\n",
    "     \n",
    "* **MaxHR** : maximum heart rate achieved [Numeric value between 60 and 202]\n",
    "* **ExerciseAngina** : exercise-induced angina [Y: Yes, N: No]\n",
    "* **Oldpeak** : oldpeak = ST [Numeric value measured in depression]\n",
    "* **ST_Slope** : the slope of the peak exercise ST segment [Up: upsloping, Flat: flat, Down: downsloping]\n",
    "* **HeartDisease** : output class [1: heart disease, 0: Normal]"
   ]
  },
  {
   "cell_type": "code",
   "execution_count": null,
   "id": "31d0c66b",
   "metadata": {},
   "outputs": [],
   "source": [
    "df.shape"
   ]
  },
  {
   "cell_type": "code",
   "execution_count": null,
   "id": "9b400390",
   "metadata": {},
   "outputs": [],
   "source": [
    "df.duplicated().sum()"
   ]
  },
  {
   "cell_type": "code",
   "execution_count": null,
   "id": "6400a530",
   "metadata": {},
   "outputs": [],
   "source": [
    "df.corr()"
   ]
  },
  {
   "cell_type": "code",
   "execution_count": null,
   "id": "9cf827bc",
   "metadata": {},
   "outputs": [],
   "source": [
    "df.info"
   ]
  },
  {
   "cell_type": "markdown",
   "id": "aefd2165",
   "metadata": {},
   "source": [
    "Description"
   ]
  },
  {
   "cell_type": "code",
   "execution_count": null,
   "id": "4bff0b15",
   "metadata": {},
   "outputs": [],
   "source": [
    "df.describe()"
   ]
  },
  {
   "cell_type": "markdown",
   "id": "d707d283",
   "metadata": {},
   "source": [
    "## **Missing Value**"
   ]
  },
  {
   "cell_type": "code",
   "execution_count": null,
   "id": "5352ea47",
   "metadata": {},
   "outputs": [],
   "source": [
    "df.isnull().sum()"
   ]
  },
  {
   "cell_type": "markdown",
   "id": "d4b62fc9",
   "metadata": {},
   "source": [
    "## **Feature Analysis**"
   ]
  },
  {
   "cell_type": "markdown",
   "id": "910a551c",
   "metadata": {},
   "source": [
    "1 Age"
   ]
  },
  {
   "cell_type": "code",
   "execution_count": null,
   "id": "9d3571b7",
   "metadata": {},
   "outputs": [],
   "source": [
    "age_mid=df.Age.median()\n",
    "age_mean=df.Age.mean()\n",
    "age_std=df.Age.std()\n",
    "print(\"the standard deviation of age is\",age_std)\n",
    "group=df.groupby(by=\"HeartDisease\")\n",
    "group1=group.get_group(1)\n",
    "group0=group.get_group(0)\n",
    "age1=group1[\"Age\"]\n",
    "age0=group0[\"Age\"]\n",
    "mean_age1=age1.mean()\n",
    "mean_age0=age0.mean()\n",
    "print(\"the mean of age with heart disease is\",mean_age1)\n",
    "print(\"the mean of age without heart disease is\",mean_age0)\n",
    "\n",
    "#plot\n",
    "plt.figure(figsize=(15,5))\n",
    "plt.hist(df.Age)\n",
    "plt.vlines(age_mid, ymin=0, ymax=220, color='#D3E4CD',ls='--', lw=2.5, label='Median')\n",
    "plt.vlines(age_mean, ymin=0, ymax=220,color='#D3E4CD', lw=2.5, label='Mean')\n",
    "plt.xlabel(\"Age\")\n",
    "plt.ylabel(\"Frequency\")\n",
    "plt.title(\"Age_hist\")\n",
    "\n",
    "#subplot\n",
    "fig, axs=plt.subplots(nrows=1, ncols=2, figsize=(15, 4))\n",
    "ax1=age1.plot(kind='hist',ax=axs[0])\n",
    "ax1.vlines(mean_age1,ymin=0, ymax=220,color='#D3E4CD', lw=2.5, label='Mean_age1')\n",
    "ax1.set_title(\"With Heart Disease\")\n",
    "ax2=age0.plot(kind='hist',ax=axs[1])\n",
    "ax2.vlines(mean_age0, ymin=0, ymax=220,color='#D3E4CD', lw=2.5, label='Mean_age0')\n",
    "ax2.set_title(\"Without Heart Disease\")\n",
    "\n",
    "\n",
    "fig.suptitle('Distribution of Ages by Heart Disease', size=16, c='#000')\n",
    "plt.show()"
   ]
  },
  {
   "cell_type": "markdown",
   "id": "90c02049",
   "metadata": {},
   "source": [
    "**Analysis**:According to the histograms, Age distribution is approximatly Gaussian.The median and mean approximatly equal. After we divided the data set using HeartDisease. The destribution seems do not change much. So we assume that \"Age\" feature does not contribute too much on HeartDisease. "
   ]
  },
  {
   "cell_type": "markdown",
   "id": "2558f6ec",
   "metadata": {},
   "source": [
    "2 Sex"
   ]
  },
  {
   "cell_type": "code",
   "execution_count": null,
   "id": "02e0b314",
   "metadata": {},
   "outputs": [],
   "source": [
    "import plotly.express as px\n",
    "fig = px.pie(df['Sex'].value_counts().reset_index(), values = 'Sex', names = 'index', width = 500, height = 500)\n",
    "fig.update_traces(textposition = 'inside', \n",
    "                  textinfo = 'percent + label', \n",
    "                  hole = 0.8, \n",
    "                  marker = dict(colors = ['#dd4124','#009473', '#336b87', '#b4b4b4'], line = dict(color = 'white', width = 2)),\n",
    "                  hovertemplate = 'Clients: %{value}')\n",
    "\n",
    "fig.update_layout(annotations = [dict(text = 'Proportion of different gender', \n",
    "                                      x = 0.5, y = 0.5, font_size = 15, showarrow = False, \n",
    "                                      font_family = 'monospace',\n",
    "                                      font_color = 'black')],\n",
    "                  showlegend = False)\n",
    "fig.show()"
   ]
  },
  {
   "cell_type": "code",
   "execution_count": null,
   "id": "01b3aae8",
   "metadata": {},
   "outputs": [],
   "source": [
    "fig = px.pie(group1['Sex'].value_counts().reset_index(), values = 'Sex', names = 'index', width = 500, height = 500)\n",
    "fig.update_traces(textposition = 'inside', \n",
    "                  textinfo = 'percent + label', \n",
    "                  hole = 0.8, \n",
    "                  marker = dict(colors = ['#dd4124','#009473', '#336b87', '#b4b4b4'], line = dict(color = 'white', width = 2)),\n",
    "                  hovertemplate = 'Clients: %{value}')\n",
    "\n",
    "fig.update_layout(annotations = [dict(text = 'Proportion of different gender with disease', \n",
    "                                      x = 0.5, y = 0.5, font_size = 12, showarrow = False, \n",
    "                                      font_family = 'monospace',\n",
    "                                      font_color = 'black')],\n",
    "                  showlegend = False)\n",
    "fig.show()"
   ]
  },
  {
   "cell_type": "markdown",
   "id": "79ad8e50",
   "metadata": {},
   "source": [
    "**Analysis**:From the bar graphic, we find the Male are more likely to get heartdisease which approximately consist 90%. This might be an important feature for classification."
   ]
  },
  {
   "cell_type": "markdown",
   "id": "9a219701",
   "metadata": {},
   "source": [
    "3 ChestPainType"
   ]
  },
  {
   "cell_type": "code",
   "execution_count": null,
   "id": "6508413a",
   "metadata": {},
   "outputs": [],
   "source": [
    "plt.figure(figsize=(15,5))\n",
    "ax=sns.countplot(x=\"ChestPainType\", hue=\"HeartDisease\", data=df)"
   ]
  },
  {
   "cell_type": "markdown",
   "id": "16d44ffd",
   "metadata": {},
   "source": [
    "**Analysis**:According to the histogram, the patients with one particular chest pain type,named ASY, have more probability to have heart disease. And for some pain types, there is no evidence to show that ChestPainType has connection to heart disease. "
   ]
  },
  {
   "cell_type": "markdown",
   "id": "6e18abce",
   "metadata": {},
   "source": [
    "4 RestingBP"
   ]
  },
  {
   "cell_type": "code",
   "execution_count": null,
   "id": "323515da",
   "metadata": {},
   "outputs": [],
   "source": [
    "RestingBP_mid=df.Age.median()\n",
    "RestingBP_mean=df.Age.mean()\n",
    "RestingBP_std=df.Age.std()\n",
    "print(\"the standard deviation of RestingBP is\",RestingBP_std)\n",
    "RestingBP1=group1[\"RestingBP\"]\n",
    "RestingBP0=group0[\"RestingBP\"]\n",
    "mean_RestingBP1=RestingBP1.mean()\n",
    "mean_RestingBP0=RestingBP0.mean()\n",
    "print(\"the mean of age with heart disease is\",mean_RestingBP1)\n",
    "print(\"the mean of age without heart disease is\",mean_RestingBP0)\n",
    "\n",
    "#plot\n",
    "plt.figure(figsize=(15,5))\n",
    "plt.hist(df.Age)\n",
    "plt.vlines(RestingBP_mid, ymin=0, ymax=220, color='#D3E4CD',ls='--', lw=2.5, label='Median')\n",
    "plt.vlines(RestingBP_mean, ymin=0, ymax=220,color='#D3E4CD', lw=2.5, label='Mean')\n",
    "plt.xlabel(\"RestingBP\")\n",
    "plt.ylabel(\"Frequency\")\n",
    "plt.title(\"RestingBP_hist\")\n",
    "\n",
    "#subplot\n",
    "fig, axs=plt.subplots(nrows=1, ncols=2, figsize=(15, 4))\n",
    "ax1=RestingBP1.plot(kind='hist',ax=axs[0])\n",
    "ax1.vlines(mean_RestingBP1,ymin=0, ymax=220,color='#D3E4CD', lw=2.5, label='Mean_RestingBP1')\n",
    "ax1.set_title(\"With Heart Disease\")\n",
    "ax2=RestingBP0.plot(kind='hist',ax=axs[1])\n",
    "ax2.vlines(mean_RestingBP0, ymin=0, ymax=220,color='#D3E4CD', lw=2.5, label='Mean_RestingBP0')\n",
    "ax2.set_title(\"Without Heart Disease\")\n",
    "\n",
    "\n",
    "fig.suptitle('Distribution of RestingBP by Heart Disease', size=16, c='#000')\n",
    "plt.show()"
   ]
  },
  {
   "cell_type": "markdown",
   "id": "f762e2be",
   "metadata": {},
   "source": [
    "**Analysis**:the mean value for the people who have Heart Disease is a little higher than the poeple who don't. We can assume people with heart disease have higher resting blood presure."
   ]
  },
  {
   "cell_type": "markdown",
   "id": "1e331535",
   "metadata": {},
   "source": [
    "5 Cholesterol"
   ]
  },
  {
   "cell_type": "code",
   "execution_count": null,
   "id": "49901c25",
   "metadata": {},
   "outputs": [],
   "source": [
    "plt.figure(figsize=(15, 5))\n",
    "sns.histplot(data=df, x=\"Cholesterol\", hue=\"HeartDisease\")"
   ]
  },
  {
   "cell_type": "markdown",
   "id": "df741c96",
   "metadata": {},
   "source": [
    "**Analysis**:Most heart disease patients have a abnormally low cholesterol."
   ]
  },
  {
   "cell_type": "markdown",
   "id": "3af7e08b",
   "metadata": {},
   "source": [
    "6 FastingBS"
   ]
  },
  {
   "cell_type": "code",
   "execution_count": null,
   "id": "0ebce03f",
   "metadata": {},
   "outputs": [],
   "source": [
    "plt.figure(figsize=(15, 5))\n",
    "sns.countplot(data=df, x=\"FastingBS\", hue=\"HeartDisease\")"
   ]
  },
  {
   "cell_type": "markdown",
   "id": "8675ede5",
   "metadata": {},
   "source": [
    "**Analysis**:People with fasting blood sugar higher than 120 mg/dl mostly have heart disease"
   ]
  },
  {
   "cell_type": "markdown",
   "id": "e235bbd3",
   "metadata": {},
   "source": [
    "7 RestingECG"
   ]
  },
  {
   "cell_type": "code",
   "execution_count": null,
   "id": "739634d2",
   "metadata": {},
   "outputs": [],
   "source": [
    "plt.figure(figsize=(15, 5))\n",
    "sns.countplot(data=df, x=\"RestingECG\", hue=\"HeartDisease\");"
   ]
  },
  {
   "cell_type": "markdown",
   "id": "a148dc5a",
   "metadata": {},
   "source": [
    "nan"
   ]
  },
  {
   "cell_type": "markdown",
   "id": "d3e54a9c",
   "metadata": {},
   "source": [
    "**Analysis**:For all kinds of resting ECG, patients with heart disease is higher, especially for ST."
   ]
  },
  {
   "cell_type": "markdown",
   "id": "4bb37ecd",
   "metadata": {},
   "source": [
    "8 MaxHR"
   ]
  },
  {
   "cell_type": "code",
   "execution_count": null,
   "id": "cd843e45",
   "metadata": {},
   "outputs": [],
   "source": [
    "MaxHR_mid=df.MaxHR.median()\n",
    "MaxHR_mean=df.MaxHR.mean()\n",
    "MaxHR_std=df.MaxHR.std()\n",
    "print(\"the standard deviation of MaxHR is\",MaxHR_std)\n",
    "group=df.groupby(by=\"HeartDisease\")\n",
    "group1=group.get_group(1)\n",
    "group0=group.get_group(0)\n",
    "MaxHR1=group1[\"MaxHR\"]\n",
    "MaxHR0=group0[\"MaxHR\"]\n",
    "mean_MaxHR1=MaxHR1.mean()\n",
    "mean_MaxHR0=MaxHR0.mean()\n",
    "print(\"the mean of MaxHR with heart disease is\",mean_MaxHR1)\n",
    "print(\"the mean of MaxHR without heart disease is\",mean_MaxHR0)\n",
    "\n",
    "\n",
    "#plot\n",
    "plt.figure(figsize=(15,5))\n",
    "plt.hist(df.MaxHR)\n",
    "plt.vlines(MaxHR_mid, ymin=0, ymax=220, color='#D3E4CD',ls='--', lw=2.5, label='Median')\n",
    "plt.vlines(MaxHR_mean, ymin=0, ymax=220,color='#D3E4CD', lw=2.5, label='Mean')\n",
    "plt.xlabel(\"MaxHR\")\n",
    "plt.ylabel(\"Frequency\")\n",
    "plt.title(\"MaxHR_hist\")\n",
    "\n",
    "\n",
    "#subplot\n",
    "fig, axs=plt.subplots(nrows=1, ncols=2, figsize=(15, 4))\n",
    "ax1=MaxHR1.plot(kind='hist',ax=axs[0])\n",
    "ax1.vlines(mean_MaxHR1,ymin=0, ymax=220,color='#D3E4CD', lw=2.5, label='Mean_MaxHR1')\n",
    "ax1.set_title(\"With Heart Disease\")\n",
    "ax2=MaxHR0.plot(kind='hist',ax=axs[1])\n",
    "ax2.vlines(mean_MaxHR0, ymin=0, ymax=220,color='#D3E4CD', lw=2.5, label='Mean_MaxHR0')\n",
    "ax2.set_title(\"Without Heart Disease\")\n",
    "\n",
    "\n",
    "fig.suptitle('Distribution of MaxHR by Heart Disease', size=16, c='#000')\n",
    "plt.show()"
   ]
  },
  {
   "cell_type": "markdown",
   "id": "a514bc02",
   "metadata": {},
   "source": [
    "**Analysis**:the mean value of max heart rate for heart disease is lower. And the histogram is left skewed, that means most patients have low max heart rate"
   ]
  },
  {
   "cell_type": "markdown",
   "id": "b525bb54",
   "metadata": {},
   "source": [
    "9 ExerciseAngina"
   ]
  },
  {
   "cell_type": "code",
   "execution_count": null,
   "id": "4c89e40b",
   "metadata": {},
   "outputs": [],
   "source": [
    "plt.figure(figsize=(15, 5))\n",
    "sns.countplot(data=df, x=\"ExerciseAngina\", hue=\"HeartDisease\");"
   ]
  },
  {
   "cell_type": "markdown",
   "id": "d91e34fe",
   "metadata": {},
   "source": [
    "**Analysis**:It is obviously that people with heart disease are more likely to have a exercise induced angina than people without heart disease"
   ]
  },
  {
   "cell_type": "markdown",
   "id": "1c3e1a21",
   "metadata": {},
   "source": [
    "10 Oldpeak"
   ]
  },
  {
   "cell_type": "code",
   "execution_count": null,
   "id": "768bd230",
   "metadata": {},
   "outputs": [],
   "source": [
    "Oldpeak_mid=df.Oldpeak.median()\n",
    "Oldpeak_mean=df.Oldpeak.mean()\n",
    "Oldpeak_std=df.Oldpeak.std()\n",
    "print(\"the standard deviation of Oldpeak is\",Oldpeak_std)\n",
    "group=df.groupby(by=\"HeartDisease\")\n",
    "group1=group.get_group(1)\n",
    "group0=group.get_group(0)\n",
    "Oldpeak1=group1[\"Oldpeak\"]\n",
    "Oldpeak0=group0[\"Oldpeak\"]\n",
    "mean_Oldpeak1=Oldpeak1.mean()\n",
    "mean_Oldpeak0=Oldpeak0.mean()\n",
    "print(\"the mean of Oldpeak with heart disease is\",mean_Oldpeak1)\n",
    "print(\"the mean of Oldpeak without heart disease is\",mean_Oldpeak0)\n",
    "\n",
    "\n",
    "#plot\n",
    "plt.figure(figsize=(15,5))\n",
    "plt.hist(df.Oldpeak)\n",
    "plt.vlines(Oldpeak_mid, ymin=0, ymax=400, color='#D3E4CD',ls='--', lw=2.5, label='Median')\n",
    "plt.vlines(Oldpeak_mean, ymin=0, ymax=400,color='#D3E4CD', lw=2.5, label='Mean')\n",
    "plt.xlabel(\"Oldpeak\")\n",
    "plt.ylabel(\"Frequency\")\n",
    "plt.title(\"Oldpeak_hist\")\n",
    "\n",
    "\n",
    "#subplot\n",
    "fig, axs=plt.subplots(nrows=1, ncols=2, figsize=(15, 4))\n",
    "ax1=Oldpeak1.plot(kind='hist',ax=axs[0])\n",
    "ax1.vlines(mean_Oldpeak1,ymin=0, ymax=400,color='#D3E4CD', lw=2.5, label='Mean_Oldpeak1')\n",
    "ax1.set_title(\"With Heart Disease\")\n",
    "ax2=Oldpeak0.plot(kind='hist',ax=axs[1])\n",
    "ax2.vlines(mean_Oldpeak0, ymin=0, ymax=400,color='#D3E4CD', lw=2.5, label='Mean_Oldpeak0')\n",
    "ax2.set_title(\"Without Heart Disease\")\n",
    "\n",
    "\n",
    "fig.suptitle('Distribution of Oldpeak by Heart Disease', size=16, c='#000')\n",
    "plt.show()"
   ]
  },
  {
   "cell_type": "markdown",
   "id": "d32e0627",
   "metadata": {},
   "source": [
    "**Analysis**:the patients' ST are vary from -2 to 4,but for the normal people, the ST are concerntrate on 0"
   ]
  },
  {
   "cell_type": "markdown",
   "id": "c83e77b3",
   "metadata": {},
   "source": [
    "11 ST_Slope"
   ]
  },
  {
   "cell_type": "code",
   "execution_count": null,
   "id": "c9c267a4",
   "metadata": {},
   "outputs": [],
   "source": [
    "plt.figure(figsize=(15, 5))\n",
    "sns.countplot(data=df, x=\"ST_Slope\", hue=\"HeartDisease\");"
   ]
  },
  {
   "cell_type": "markdown",
   "id": "4be8836b",
   "metadata": {},
   "source": [
    "**Analysis**:when the slope of the peak exercise ST segment is flat ,the people is more likely to have heart disease"
   ]
  },
  {
   "cell_type": "markdown",
   "id": "e006aa7d",
   "metadata": {},
   "source": [
    "Heat Map"
   ]
  },
  {
   "cell_type": "code",
   "execution_count": null,
   "id": "fd532dbe",
   "metadata": {},
   "outputs": [],
   "source": [
    "cor=df.drop('HeartDisease', axis=1).corr()\n",
    "plt.figure(figsize=(15,5))\n",
    "sns.heatmap(cor, annot=True, cmap=\"Set3\");"
   ]
  },
  {
   "cell_type": "code",
   "execution_count": null,
   "id": "4e7badf6",
   "metadata": {},
   "outputs": [],
   "source": [
    "from sklearn.ensemble import RandomForestClassifier"
   ]
  },
  {
   "cell_type": "markdown",
   "id": "2713721a",
   "metadata": {},
   "source": [
    "**Analysis**:From the heat map, we can find "
   ]
  }
 ],
 "metadata": {},
 "nbformat": 4,
 "nbformat_minor": 5
}
