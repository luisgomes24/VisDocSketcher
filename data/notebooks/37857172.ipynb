{
 "cells": [
  {
   "cell_type": "markdown",
   "id": "53464939",
   "metadata": {},
   "source": [
    "# Introduction\n",
    "\n",
    "- More than 400 days have passed since the war between Russia and Ukraine. Many countries support Ukraine by imposing economic sanctions against Russia. There are a lot of tweets about the Ukraine-Russia war where people tend to update the facts on the ground, how they feel about it, and who they support."
   ]
  },
  {
   "cell_type": "markdown",
   "id": "d4517cc3",
   "metadata": {},
   "source": [
    "# Russia-Ukraine war at a glance: what we know on day 429 of the invasion\n",
    "\n",
    "- Russia on Friday launched a wave of missile attacks across many of Ukraine’s biggest cities, killing a mother and young child in the port city of Dnipro, and three people at a high-rise apartment building in the central city of Uman. Air raid alarms were active across the country in the early hours of Friday morning, while explosions were heard in Kyiv, and southern Mykolaiv was targeted again.\n",
    "\n",
    "- At least seven civilians were killed and 33 injured between Wednesday and Thursday, Ukraine’s presidential office said, including one person killed and 23 wounded when four Kalibr cruise missiles hit the southern city of Mykolaiv.\n",
    "\n",
    "- The parliamentary assembly of the Council of Europe has voted that the forced detention and deportation of children from Russian occupied territories of Ukraine is genocide.\n",
    "\n",
    "- [The Guardian](https://www.theguardian.com/world/2023/apr/28/russia-ukraine-war-at-a-glance-what-we-know-on-day-429-of-the-invasion)\n"
   ]
  },
  {
   "cell_type": "markdown",
   "id": "6f0aa677",
   "metadata": {},
   "source": [
    "# Russia-Ukraine war LIVE\n",
    "\n",
    "- [Live News Aljazeera](https://www.aljazeera.com/tag/ukraine-russia-crisis/)"
   ]
  },
  {
   "cell_type": "markdown",
   "id": "be32a9da",
   "metadata": {},
   "source": [
    "# Import Libraries"
   ]
  },
  {
   "cell_type": "code",
   "execution_count": null,
   "id": "8df9ef06",
   "metadata": {},
   "outputs": [],
   "source": [
    "import pandas as pd\n",
    "import seaborn as sns\n",
    "import matplotlib.pyplot as plt\n",
    "from nltk.sentiment.vader import SentimentIntensityAnalyzer\n",
    "from wordcloud import WordCloud, STOPWORDS, ImageColorGenerator\n",
    "import nltk\n",
    "import re\n",
    "from nltk.corpus import stopwords\n",
    "import string"
   ]
  },
  {
   "cell_type": "markdown",
   "id": "1c1b95e4",
   "metadata": {},
   "source": [
    "# Read Data"
   ]
  },
  {
   "cell_type": "code",
   "execution_count": null,
   "id": "7c8f9f64",
   "metadata": {},
   "outputs": [],
   "source": [
    "data = pd.read_csv(\"/kaggle/input/russia-vs-ukraine-tweets-datasetdaily-updated/filename.csv\")"
   ]
  },
  {
   "cell_type": "code",
   "execution_count": null,
   "id": "3b130eb6",
   "metadata": {},
   "outputs": [],
   "source": [
    "print(data.head())"
   ]
  },
  {
   "cell_type": "markdown",
   "id": "7f8ec31f",
   "metadata": {},
   "source": [
    "- Let’s have a quick look at all the column names of the dataset:"
   ]
  },
  {
   "cell_type": "code",
   "execution_count": null,
   "id": "8d0e1346",
   "metadata": {},
   "outputs": [],
   "source": [
    "print(data.columns)"
   ]
  },
  {
   "cell_type": "markdown",
   "id": "10f41d7d",
   "metadata": {},
   "source": [
    "- We only need three columns for this task (username, tweet, and language); I will only select these columns and move forward:"
   ]
  },
  {
   "cell_type": "code",
   "execution_count": null,
   "id": "09dc108b",
   "metadata": {},
   "outputs": [],
   "source": [
    "data = data[[\"username\", \"tweet\", \"language\"]]"
   ]
  },
  {
   "cell_type": "markdown",
   "id": "461e6aa2",
   "metadata": {},
   "source": [
    "- Let’s have a look at whether any of these columns contains any null values or not:\n"
   ]
  },
  {
   "cell_type": "code",
   "execution_count": null,
   "id": "086a265c",
   "metadata": {},
   "outputs": [],
   "source": [
    "data.isnull().sum()"
   ]
  },
  {
   "cell_type": "markdown",
   "id": "1cfdb49f",
   "metadata": {},
   "source": [
    "- So none of the columns has null values, let’s have a quick look at how many tweets are posted in which language:"
   ]
  },
  {
   "cell_type": "code",
   "execution_count": null,
   "id": "48f71da8",
   "metadata": {},
   "outputs": [],
   "source": [
    "data[\"language\"].value_counts()"
   ]
  },
  {
   "cell_type": "markdown",
   "id": "6790d005",
   "metadata": {},
   "source": [
    "# Sentiment Analysis\n",
    "\n",
    "- So most of the tweets are in English. Let’s prepare this data for the task of sentiment analysis. Here I will remove all the links, punctuation, symbols and other language errors from the tweets:"
   ]
  },
  {
   "cell_type": "code",
   "execution_count": null,
   "id": "aa991697",
   "metadata": {},
   "outputs": [],
   "source": [
    "nltk.download('stopwords')\n",
    "stemmer = nltk.SnowballStemmer(\"english\")\n",
    "stopword=set(stopwords.words('english'))\n",
    "\n",
    "def clean(text):\n",
    "    text = str(text).lower()\n",
    "    text = re.sub('\\[.*?\\]', '', text)\n",
    "    text = re.sub('https?://\\S+|www\\.\\S+', '', text)\n",
    "    text = re.sub('<.*?>+', '', text)\n",
    "    text = re.sub('[%s]' % re.escape(string.punctuation), '', text)\n",
    "    text = re.sub('\\n', '', text)\n",
    "    text = re.sub('\\w*\\d\\w*', '', text)\n",
    "    text = [word for word in text.split(' ') if word not in stopword]\n",
    "    text=\" \".join(text)\n",
    "    text = [stemmer.stem(word) for word in text.split(' ')]\n",
    "    text=\" \".join(text)\n",
    "    return text\n",
    "data[\"tweet\"] = data[\"tweet\"].apply(clean)"
   ]
  },
  {
   "cell_type": "markdown",
   "id": "00b67ed5",
   "metadata": {},
   "source": [
    "# Most Frequently Used Words\n",
    "\n",
    "- Let’s have a look at the wordcloud of the tweets, which will show the most frequently used words in the tweets by people sharing their feelings and updates about the Ukraine and Russia war:"
   ]
  },
  {
   "cell_type": "code",
   "execution_count": null,
   "id": "937e0985",
   "metadata": {},
   "outputs": [],
   "source": [
    "text = \" \".join(i for i in data.tweet)\n",
    "stopwords = set(STOPWORDS)\n",
    "wordcloud = WordCloud(stopwords=stopwords, background_color=\"white\").generate(text)\n",
    "plt.figure( figsize=(15,10))\n",
    "plt.imshow(wordcloud, interpolation='bilinear')\n",
    "plt.axis(\"off\")\n",
    "plt.show()"
   ]
  },
  {
   "cell_type": "markdown",
   "id": "7562ff31",
   "metadata": {},
   "source": [
    "# Positive, Negative, and Neutral\n",
    "\n",
    "- Now I will add three more columns in this dataset as Positive, Negative, and Neutral by calculating the sentiment scores of the tweets:"
   ]
  },
  {
   "cell_type": "code",
   "execution_count": null,
   "id": "0069de9a",
   "metadata": {},
   "outputs": [],
   "source": [
    "nltk.download('vader_lexicon')\n",
    "sentiments = SentimentIntensityAnalyzer()\n",
    "data[\"Positive\"] = [sentiments.polarity_scores(i)[\"pos\"] for i in data[\"tweet\"]]\n",
    "data[\"Negative\"] = [sentiments.polarity_scores(i)[\"neg\"] for i in data[\"tweet\"]]\n",
    "data[\"Neutral\"] = [sentiments.polarity_scores(i)[\"neu\"] for i in data[\"tweet\"]]\n",
    "data = data[[\"tweet\", \"Positive\", \"Negative\", \"Neutral\"]]\n",
    "print(data.head())"
   ]
  },
  {
   "cell_type": "markdown",
   "id": "f0c2b67d",
   "metadata": {},
   "source": [
    "# Positive Sentiments\n",
    "\n",
    "- Let’s have a look at the most frequent words used by people with positive sentiments:"
   ]
  },
  {
   "cell_type": "code",
   "execution_count": null,
   "id": "fed27b3b",
   "metadata": {},
   "outputs": [],
   "source": [
    "positive =' '.join([i for i in data['tweet'][data['Positive'] > data[\"Negative\"]]])\n",
    "stopwords = set(STOPWORDS)\n",
    "wordcloud = WordCloud(stopwords=stopwords, background_color=\"white\").generate(positive)\n",
    "plt.figure( figsize=(15,10))\n",
    "plt.imshow(wordcloud, interpolation='bilinear')\n",
    "plt.axis(\"off\")\n",
    "plt.show()"
   ]
  },
  {
   "cell_type": "markdown",
   "id": "4b7a417f",
   "metadata": {},
   "source": [
    "# Negative Sentiments\n",
    "\n",
    "- Let’s have a look at the most frequent words used by people with negative sentiments"
   ]
  },
  {
   "cell_type": "code",
   "execution_count": null,
   "id": "36ed54ef",
   "metadata": {},
   "outputs": [],
   "source": [
    "negative =' '.join([i for i in data['tweet'][data['Negative'] > data[\"Positive\"]]])\n",
    "stopwords = set(STOPWORDS)\n",
    "wordcloud = WordCloud(stopwords=stopwords, background_color=\"white\").generate(negative)\n",
    "plt.figure( figsize=(15,10))\n",
    "plt.imshow(wordcloud, interpolation='bilinear')\n",
    "plt.axis(\"off\")\n",
    "plt.show()"
   ]
  },
  {
   "cell_type": "markdown",
   "id": "5d485fd4",
   "metadata": {},
   "source": [
    "## I hope this war gets over soon and things get back to normal."
   ]
  },
  {
   "cell_type": "markdown",
   "id": "b8c755ff",
   "metadata": {},
   "source": [
    "# Summary\n",
    "\n",
    "- There are a lot of tweets about the Ukraine and Russia war where people tend to update about the ground truths, what they feel about it, and who they are supporting. I used those tweets for the task of Twitter sentiment analysis on the Ukraine and Russia wars."
   ]
  }
 ],
 "metadata": {},
 "nbformat": 4,
 "nbformat_minor": 5
}
