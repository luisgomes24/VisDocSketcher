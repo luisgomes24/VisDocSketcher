{
 "cells": [
  {
   "cell_type": "code",
   "execution_count": null,
   "id": "3ef7f891",
   "metadata": {},
   "outputs": [],
   "source": [
    "import numpy as np\n",
    "import pandas as pd\n",
    "import matplotlib.pyplot as plt\n",
    "import matplotlib.cm as cm\n",
    "from sklearn.datasets import make_circles\n",
    "from sklearn.model_selection import train_test_split\n",
    "\n",
    "import keras\n",
    "from keras.models import Sequential\n",
    "from keras.layers import *\n",
    "\n",
    "import seaborn as sns\n",
    "sns.set(context='paper', style='darkgrid', rc={'figure.facecolor':'white'}, font_scale=1.2)"
   ]
  },
  {
   "cell_type": "code",
   "execution_count": null,
   "id": "a335c3b2",
   "metadata": {},
   "outputs": [],
   "source": [
    "train = pd.read_csv(\"../input/digit-recognizer/train.csv\")\n",
    "test = pd.read_csv(\"../input/digit-recognizer/test.csv\")"
   ]
  },
  {
   "cell_type": "code",
   "execution_count": null,
   "id": "d9911b29",
   "metadata": {},
   "outputs": [],
   "source": [
    "train.head()"
   ]
  },
  {
   "cell_type": "code",
   "execution_count": null,
   "id": "1e559447",
   "metadata": {},
   "outputs": [],
   "source": [
    "test.head()"
   ]
  },
  {
   "cell_type": "code",
   "execution_count": null,
   "id": "4731184c",
   "metadata": {},
   "outputs": [],
   "source": [
    "print(train.shape)\n",
    "print(test.shape)"
   ]
  },
  {
   "cell_type": "code",
   "execution_count": null,
   "id": "26b6c0b3",
   "metadata": {},
   "outputs": [],
   "source": [
    "X_train, X_valid, y_train, y_valid =\\\n",
    "    train_test_split(train.drop('label', axis=1).values, train.iloc[:,0].values, \n",
    "                     test_size=0.2, random_state=1, stratify=train.iloc[:,0])\n",
    "X_test = test.values\n",
    "\n",
    "print('y_train Shape:', y_train.shape)\n",
    "print('X_train Shape:', X_train.shape)\n",
    "print('y_valid Shape:', y_valid.shape)\n",
    "print('X_valid Shape:', X_valid.shape)\n",
    "print('X_test Shape: ', X_test.shape)"
   ]
  },
  {
   "cell_type": "code",
   "execution_count": null,
   "id": "88858556",
   "metadata": {},
   "outputs": [],
   "source": [
    "np.set_printoptions(linewidth=116)\n",
    "print(X_train[8,:])\n",
    "np.set_printoptions(linewidth=75)"
   ]
  },
  {
   "cell_type": "code",
   "execution_count": null,
   "id": "64288751",
   "metadata": {},
   "outputs": [],
   "source": [
    "plt.figure(figsize=[6,6])\n",
    "plt.imshow(X_train[8,:].reshape(28,28), cmap=cm.binary)\n",
    "plt.axis('off')\n",
    "plt.show()"
   ]
  },
  {
   "cell_type": "code",
   "execution_count": null,
   "id": "5a898494",
   "metadata": {},
   "outputs": [],
   "source": [
    "sel = np.random.choice(range(X_train.shape[0]), 40, replace=False)\n",
    "X_sel = X_train[sel]\n",
    "y_sel = y_train[sel]\n",
    "\n",
    "plt.close()\n",
    "plt.figure(figsize = [16,10])\n",
    "for i in range(40):\n",
    "    plt.subplot(5,8,i+1)\n",
    "    plt.imshow(X_sel[i].reshape(28,28), cmap=cm.binary)\n",
    "    plt.text(0, 10, s = str(int(y_sel[i])), fontsize=16, color='b')\n",
    "    plt.axis('off')\n",
    "plt.show()"
   ]
  },
  {
   "cell_type": "markdown",
   "id": "78b1664b",
   "metadata": {},
   "source": [
    "![](https://drbeane.github.io/files/images/converting_bw_image.jpg)"
   ]
  },
  {
   "cell_type": "code",
   "execution_count": null,
   "id": "65d86fd6",
   "metadata": {},
   "outputs": [],
   "source": [
    "Xs_train = X_train / 255\n",
    "Xs_valid = X_valid / 255\n",
    "#T_train = keras.utils.to_categorical(y_train)\n",
    "#T_valid = keras.utils.to_categorical(y_valid)"
   ]
  },
  {
   "cell_type": "code",
   "execution_count": null,
   "id": "427b69fe",
   "metadata": {},
   "outputs": [],
   "source": [
    "digit_model = Sequential()\n",
    "digit_model.add(Dense(64, input_shape=(784,), activation='relu'))\n",
    "digit_model.add(Dense(10, activation='softmax'))\n",
    "digit_model.summary()"
   ]
  },
  {
   "cell_type": "code",
   "execution_count": null,
   "id": "3ecddb73",
   "metadata": {},
   "outputs": [],
   "source": [
    "%%time\n",
    "\n",
    "np.random.seed(1)\n",
    "\n",
    "opt = keras.optimizers.rmsprop(0.0001)\n",
    "digit_model.compile(loss='sparse_categorical_crossentropy',optimizer=opt, \n",
    "                    metrics=['accuracy'])\n",
    "\n",
    "h1 = digit_model.fit(Xs_train, y_train, batch_size=64, epochs=30, \n",
    "                     validation_data=(Xs_valid, y_valid), verbose=2)"
   ]
  },
  {
   "cell_type": "code",
   "execution_count": null,
   "id": "8ad90032",
   "metadata": {},
   "outputs": [],
   "source": [
    "plt.figure(figsize=[12,6])\n",
    "plt.subplot(1,2,1)\n",
    "plt.plot(range(1,31), h1.history['accuracy'], label='Training Accuracy')\n",
    "plt.plot(range(1,31), h1.history['val_accuracy'], label='Validation Accuracy')\n",
    "plt.xlabel('Epoch')\n",
    "plt.legend()\n",
    "\n",
    "plt.subplot(1,2,2)\n",
    "plt.plot(range(1,31), h1.history['loss'], label='Training Accuracy')\n",
    "plt.plot(range(1,31), h1.history['val_loss'], label='Validation Accuracy')\n",
    "plt.xlabel('Epoch')\n",
    "plt.legend()\n",
    "\n",
    "plt.show()"
   ]
  },
  {
   "cell_type": "code",
   "execution_count": null,
   "id": "09b0ea50",
   "metadata": {},
   "outputs": [],
   "source": [
    "%%time\n",
    "\n",
    "h2 = digit_model.fit(Xs_train, y_train, batch_size=64, epochs=30, \n",
    "                     validation_data=(Xs_valid, y_valid), verbose=2)"
   ]
  },
  {
   "cell_type": "code",
   "execution_count": null,
   "id": "1da78028",
   "metadata": {},
   "outputs": [],
   "source": [
    "acc = h1.history['accuracy'] + h2.history['accuracy']\n",
    "v_acc = h1.history['val_accuracy'] + h2.history['val_accuracy']\n",
    "loss = h1.history['loss'] + h2.history['loss']\n",
    "v_loss = h1.history['val_loss'] + h2.history['val_loss']\n",
    "\n",
    "epochs = range(1,61)\n",
    "\n",
    "plt.figure(figsize=[12,6])\n",
    "plt.subplot(1,2,1)\n",
    "plt.plot(epochs, acc, label='Training Accuracy')\n",
    "plt.plot(epochs, v_acc, label='Validation Accuracy')\n",
    "plt.xlabel('Epoch')\n",
    "plt.legend()\n",
    "\n",
    "plt.subplot(1,2,2)\n",
    "plt.plot(epochs, loss, label='Training Loss')\n",
    "plt.plot(epochs, v_loss, label='Validation Loss')\n",
    "plt.xlabel('Epoch')\n",
    "plt.legend()\n",
    "\n",
    "plt.show()"
   ]
  },
  {
   "cell_type": "code",
   "execution_count": null,
   "id": "30cba71f",
   "metadata": {},
   "outputs": [],
   "source": [
    "nan"
   ]
  }
 ],
 "metadata": {},
 "nbformat": 4,
 "nbformat_minor": 5
}
