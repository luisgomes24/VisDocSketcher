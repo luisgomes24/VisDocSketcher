{
 "cells": [
  {
   "cell_type": "code",
   "execution_count": null,
   "id": "eb0ca564",
   "metadata": {},
   "outputs": [],
   "source": [
    "import fastai\n",
    "fastai.__version__"
   ]
  },
  {
   "cell_type": "code",
   "execution_count": null,
   "id": "f815faee",
   "metadata": {},
   "outputs": [],
   "source": [
    "from fastai.tabular.all import *"
   ]
  },
  {
   "cell_type": "code",
   "execution_count": null,
   "id": "07dc78fc",
   "metadata": {},
   "outputs": [],
   "source": [
    "path = Path('/kaggle/input/tabular-playground-series-jan-2021/')"
   ]
  },
  {
   "cell_type": "code",
   "execution_count": null,
   "id": "b2e7623c",
   "metadata": {},
   "outputs": [],
   "source": [
    "train_df = pd.read_csv(path/'train.csv')"
   ]
  },
  {
   "cell_type": "code",
   "execution_count": null,
   "id": "5903281a",
   "metadata": {},
   "outputs": [],
   "source": [
    "train_df.head(10)"
   ]
  },
  {
   "cell_type": "code",
   "execution_count": null,
   "id": "0b58ad98",
   "metadata": {},
   "outputs": [],
   "source": [
    "# letslook at this id  bit more closely\n",
    "train_df['id'].unique() "
   ]
  },
  {
   "cell_type": "code",
   "execution_count": null,
   "id": "0b8d0153",
   "metadata": {},
   "outputs": [],
   "source": [
    "# should we treat it as discrete or let it be?\n",
    "train_df.describe()"
   ]
  },
  {
   "cell_type": "code",
   "execution_count": null,
   "id": "faaa82c7",
   "metadata": {},
   "outputs": [],
   "source": [
    "test_df = pd.read_csv(path/'test.csv')\n",
    "test_df.head()"
   ]
  },
  {
   "cell_type": "markdown",
   "id": "52319328",
   "metadata": {},
   "source": [
    "Creating dataloaders \n",
    "from : https://www.kaggle.com/slm37102/tabular-using-neural-network-fastai-starter"
   ]
  },
  {
   "cell_type": "code",
   "execution_count": null,
   "id": "bcb4a796",
   "metadata": {},
   "outputs": [],
   "source": [
    "# getting the continuos data column we are dropping the first column\n",
    "cont_nn = list(train_df.iloc[:,1:-1])"
   ]
  },
  {
   "cell_type": "code",
   "execution_count": null,
   "id": "bb7cb742",
   "metadata": {},
   "outputs": [],
   "source": [
    "# splitting manually\n",
    "len(train_df)\n",
    "\n",
    "# upto 240000 for training and rest for validation"
   ]
  },
  {
   "cell_type": "code",
   "execution_count": null,
   "id": "4c283e87",
   "metadata": {},
   "outputs": [],
   "source": [
    "splits = (list(range(240000)), list(range(240000,300000)))"
   ]
  },
  {
   "cell_type": "code",
   "execution_count": null,
   "id": "771eefa8",
   "metadata": {},
   "outputs": [],
   "source": [
    "procs_nn = [Categorify, FillMissing,Normalize]\n",
    "\n",
    "to_nn = TabularPandas(train_df, procs_nn, cont_names=cont_nn, splits=splits, y_names='target')"
   ]
  },
  {
   "cell_type": "code",
   "execution_count": null,
   "id": "85135ec2",
   "metadata": {},
   "outputs": [],
   "source": [
    "dls = to_nn.dataloaders(1024)"
   ]
  },
  {
   "cell_type": "markdown",
   "id": "5a935cec",
   "metadata": {},
   "source": [
    "using tabular learner"
   ]
  },
  {
   "cell_type": "code",
   "execution_count": null,
   "id": "0483b31a",
   "metadata": {},
   "outputs": [],
   "source": [
    "learn = tabular_learner(dls, y_range=(0,11))"
   ]
  },
  {
   "cell_type": "code",
   "execution_count": null,
   "id": "3d6c5efd",
   "metadata": {},
   "outputs": [],
   "source": [
    "learn.lr_find()"
   ]
  },
  {
   "cell_type": "code",
   "execution_count": null,
   "id": "9ab233a6",
   "metadata": {},
   "outputs": [],
   "source": [
    "learn.fit_one_cycle(20, 3e-4)"
   ]
  },
  {
   "cell_type": "code",
   "execution_count": null,
   "id": "d24a6183",
   "metadata": {},
   "outputs": [],
   "source": [
    "tst_dl = learn.dls.test_dl(test_df)\n",
    "pred, _ = learn.get_preds(dl=tst_dl)"
   ]
  },
  {
   "cell_type": "code",
   "execution_count": null,
   "id": "a9e3e63e",
   "metadata": {},
   "outputs": [],
   "source": [
    "submission_df = pd.read_csv(path/'sample_submission.csv')\n",
    "submission_df['target'] = pred.squeeze()\n",
    "submission_df.to_csv('submission.csv', index= False)\n",
    "submission_df"
   ]
  }
 ],
 "metadata": {},
 "nbformat": 4,
 "nbformat_minor": 5
}
