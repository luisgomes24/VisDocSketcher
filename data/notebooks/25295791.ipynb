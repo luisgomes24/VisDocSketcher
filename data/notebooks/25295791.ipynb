{
 "cells": [
  {
   "cell_type": "code",
   "execution_count": null,
   "id": "2e3129b9",
   "metadata": {},
   "outputs": [],
   "source": [
    "# This Python 3 environment comes with many helpful analytics libraries installed\n",
    "# It is defined by the kaggle/python Docker image: https://github.com/kaggle/docker-python\n",
    "# For example, here's several helpful packages to load\n",
    "\n",
    "import numpy as np # linear algebra\n",
    "import pandas as pd # data processing, CSV file I/O (e.g. pd.read_csv)\n",
    "\n",
    "# Input data files are available in the read-only \"../input/\" directory\n",
    "# For example, running this (by clicking run or pressing Shift+Enter) will list all files under the input directory\n",
    "\n",
    "import os\n",
    "for dirname, _, filenames in os.walk('/kaggle/input'):\n",
    "    for filename in filenames:\n",
    "        print(os.path.join(dirname, filename))\n",
    "\n",
    "# You can write up to 20GB to the current directory (/kaggle/working/) that gets preserved as output when you create a version using \"Save & Run All\" \n",
    "# You can also write temporary files to /kaggle/temp/, but they won't be saved outside of the current session"
   ]
  },
  {
   "cell_type": "code",
   "execution_count": null,
   "id": "326f3152",
   "metadata": {},
   "outputs": [],
   "source": [
    "import numpy as np\n",
    "import pandas as pd\n",
    "from matplotlib import pyplot as plt\n",
    "import seaborn as sns\n",
    "\n",
    "from sklearn.preprocessing import LabelEncoder, MinMaxScaler\n",
    "from sklearn.model_selection import train_test_split, TimeSeriesSplit\n",
    "from sklearn.ensemble import RandomForestRegressor\n",
    "from sklearn.metrics import mean_absolute_error\n",
    "\n",
    "from warnings import filterwarnings, simplefilter\n",
    "filterwarnings('ignore')\n",
    "simplefilter('ignore')"
   ]
  },
  {
   "cell_type": "code",
   "execution_count": null,
   "id": "cc2f0663",
   "metadata": {},
   "outputs": [],
   "source": [
    "train = pd.read_csv('../input/tabular-playground-series-mar-2022/train.csv', parse_dates = ['time'])\n",
    "test = pd.read_csv('../input/tabular-playground-series-mar-2022/test.csv', parse_dates = ['time'])\n",
    "sample = pd.read_csv('../input/tabular-playground-series-mar-2022/sample_submission.csv')"
   ]
  },
  {
   "cell_type": "code",
   "execution_count": null,
   "id": "1dbdc7ef",
   "metadata": {},
   "outputs": [],
   "source": [
    "train = train.drop('row_id', axis = 1)\n",
    "test = test.drop('row_id', axis = 1)"
   ]
  },
  {
   "cell_type": "code",
   "execution_count": null,
   "id": "b9d6aaab",
   "metadata": {},
   "outputs": [],
   "source": [
    "display(train, test)"
   ]
  },
  {
   "cell_type": "code",
   "execution_count": null,
   "id": "cc22f768",
   "metadata": {},
   "outputs": [],
   "source": [
    "train = train.loc[train['time'] > '1991-05-30']\n",
    "train['time'] = train['time'].astype(int)\n",
    "test['time'] = test['time'].astype(int)"
   ]
  },
  {
   "cell_type": "code",
   "execution_count": null,
   "id": "20c20355",
   "metadata": {},
   "outputs": [],
   "source": [
    "mx = MinMaxScaler()\n",
    "train['time'] = mx.fit_transform(train['time'].to_frame())\n",
    "test['time'] = mx.transform(test['time'].to_frame())"
   ]
  },
  {
   "cell_type": "code",
   "execution_count": null,
   "id": "b74acca1",
   "metadata": {},
   "outputs": [],
   "source": [
    "display(train, test)"
   ]
  },
  {
   "cell_type": "code",
   "execution_count": null,
   "id": "c0222187",
   "metadata": {},
   "outputs": [],
   "source": [
    "le = LabelEncoder()\n",
    "train['direction'] = le.fit_transform(train['direction'])\n",
    "test['direction'] = le.transform(test['direction'])"
   ]
  },
  {
   "cell_type": "code",
   "execution_count": null,
   "id": "7bc9732c",
   "metadata": {},
   "outputs": [],
   "source": [
    "display(train, test)"
   ]
  },
  {
   "cell_type": "code",
   "execution_count": null,
   "id": "bc2e8bfc",
   "metadata": {},
   "outputs": [],
   "source": [
    "y = train.pop('congestion')\n",
    "display(train, y)"
   ]
  },
  {
   "cell_type": "code",
   "execution_count": null,
   "id": "e6276b52",
   "metadata": {},
   "outputs": [],
   "source": [
    "xtrain, xval, ytrain, yval = train_test_split(train, y, test_size = 0.2, shuffle = False)"
   ]
  },
  {
   "cell_type": "code",
   "execution_count": null,
   "id": "3f909289",
   "metadata": {},
   "outputs": [],
   "source": [
    "model = RandomForestRegressor(random_state = 5, n_jobs = -1, max_depth = 10).fit(xtrain, ytrain)"
   ]
  },
  {
   "cell_type": "code",
   "execution_count": null,
   "id": "0089565c",
   "metadata": {},
   "outputs": [],
   "source": [
    "yhat = model.predict(xval)\n",
    "print(f'MAE : {mean_absolute_error(yval, yhat)}')"
   ]
  },
  {
   "cell_type": "code",
   "execution_count": null,
   "id": "e7a5f9e9",
   "metadata": {},
   "outputs": [],
   "source": [
    "model = RandomForestRegressor(random_state = 5, n_jobs = -1, max_depth = 10).fit(train, y)"
   ]
  },
  {
   "cell_type": "code",
   "execution_count": null,
   "id": "3f3407b9",
   "metadata": {},
   "outputs": [],
   "source": [
    "ypred = model.predict(test)\n",
    "print(ypred)"
   ]
  },
  {
   "cell_type": "code",
   "execution_count": null,
   "id": "8eb68319",
   "metadata": {},
   "outputs": [],
   "source": [
    "sample"
   ]
  },
  {
   "cell_type": "code",
   "execution_count": null,
   "id": "ac51785a",
   "metadata": {},
   "outputs": [],
   "source": [
    "sample['congestion'] = ypred\n",
    "sample.to_csv('submission.csv', index = False)\n",
    "display(sample)"
   ]
  }
 ],
 "metadata": {},
 "nbformat": 4,
 "nbformat_minor": 5
}
