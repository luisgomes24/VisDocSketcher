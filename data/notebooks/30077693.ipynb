{
 "cells": [
  {
   "cell_type": "markdown",
   "id": "e47653fb",
   "metadata": {},
   "source": [
    "# Loading packages"
   ]
  },
  {
   "cell_type": "code",
   "execution_count": null,
   "id": "21a81a6c",
   "metadata": {},
   "outputs": [],
   "source": [
    "import pandas as pd\n",
    "import numpy as np\n",
    "import time\n",
    "import gc\n",
    "from datetime import datetime\n",
    "\n",
    "import matplotlib.pyplot as plt\n",
    "import seaborn as sns\n",
    "\n",
    "from sklearn.model_selection import KFold\n",
    "from sklearn.metrics import mean_squared_error\n",
    "from math import sqrt\n",
    "import lightgbm as lgb\n",
    "\n",
    "from sklearn.model_selection import train_test_split"
   ]
  },
  {
   "cell_type": "markdown",
   "id": "88825545",
   "metadata": {},
   "source": [
    "# Loading raw data: train, test, sample submission"
   ]
  },
  {
   "cell_type": "code",
   "execution_count": null,
   "id": "f905ae05",
   "metadata": {},
   "outputs": [],
   "source": [
    "train = pd.read_csv('../input/digital-turbine-auction-bid-price-prediction/train_data.csv')\n",
    "test = pd.read_csv('../input/digital-turbine-auction-bid-price-prediction/test_data.csv')\n",
    "sample = pd.read_csv('../input/digital-turbine-auction-bid-price-prediction/sample_submission.csv')\n",
    "\n",
    "print(f'Number of rows in train set: {train.shape[0]}')\n",
    "print(f'Number of rows in test set: {test.shape[0]}')\n",
    "\n",
    "train.head()"
   ]
  },
  {
   "cell_type": "markdown",
   "id": "8dcbe481",
   "metadata": {},
   "source": [
    "# Preapre function to create features based on raw data (input train or test set)"
   ]
  },
  {
   "cell_type": "code",
   "execution_count": null,
   "id": "da4843cd",
   "metadata": {},
   "outputs": [],
   "source": [
    "brand_train_popularity = train['brandName'].value_counts().rename('popularity_of_brand')\n",
    "app_train_popularity = train['bundleId'].value_counts().rename('popularity_of_app')\n",
    "device_train_popularity = train['deviceId'].value_counts().rename('popularity_of_device')\n",
    "\n",
    "train['eventDate'] = pd.to_datetime(train['eventTimestamp'], unit='ms')\n",
    "train['hour'] = train['eventDate'].dt.hour\n",
    "mean_hour_device = train.groupby('deviceId')['hour'].mean()\n",
    "\n",
    "mean_win_bid_brand = train.groupby('brandName')['winBid'].mean()\n",
    "mean_win_bid_app = train.groupby('bundleId')['winBid'].mean()\n",
    "\n",
    "mean_win_bid_device = train.groupby('deviceId')['winBid'].mean()\n",
    "median_win_bid_device = train.groupby('deviceId')['winBid'].median()\n",
    "std_win_bid_device = train.groupby('deviceId')['winBid'].std()\n",
    "min_win_bid_device = train.groupby('deviceId')['winBid'].min()\n",
    "max_win_bid_device = train.groupby('deviceId')['winBid'].max()\n",
    "\n",
    "mean_sent_price_device = train.groupby('deviceId')['sentPrice'].mean()\n",
    "median_sent_price_device = train.groupby('deviceId')['sentPrice'].median()\n",
    "std_sent_price_device = train.groupby('deviceId')['sentPrice'].std()\n",
    "min_sent_price_device = train.groupby('deviceId')['sentPrice'].min()\n",
    "max_sent_price_device = train.groupby('deviceId')['sentPrice'].max()\n",
    "\n",
    "mean_win_bid_c1 = train.groupby('c1')['winBid'].mean()\n",
    "mean_win_bid_c3 = train.groupby('c3')['winBid'].mean()\n",
    "\n",
    "def create_features(df):\n",
    "    \n",
    "    df['eventDate'] = pd.to_datetime(df['eventTimestamp'], unit='ms')\n",
    "    df['hour'] = df['eventDate'].dt.hour\n",
    "    df['day_of_week'] = df['eventDate'].dt.dayofweek - 27\n",
    "    df['is_weekend'] = np.where(df['eventDate'].dt.dayofweek>4, 1, 0)\n",
    "    df['week_of_year'] = df['eventDate'].dt.week\n",
    "    df['mean_hour_device'] = df['deviceId'].map(mean_hour_device)\n",
    "    \n",
    "    df['is_banner'] = np.where(df['unitDisplayType'] == 'banner', 1, 0)\n",
    "    df['is_interstitial'] = np.where(df['unitDisplayType'] == 'interstitial', 1, 0)\n",
    "    df['is_rewarded'] = np.where(df['unitDisplayType'] == 'rewarded', 1, 0)\n",
    "    \n",
    "    df['popularity_of_brand'] = df['brandName'].map(brand_train_popularity)\n",
    "    df['popularity_of_app'] = df['bundleId'].map(app_train_popularity)\n",
    "    df['popularity_of_device'] = df['deviceId'].map(device_train_popularity)\n",
    "    \n",
    "    df['mean_win_bid_brand'] = df['deviceId'].map(mean_win_bid_brand)\n",
    "    df['mean_win_bid_app'] = df['deviceId'].map(mean_win_bid_app)\n",
    "    \n",
    "    df['is_apple'] = np.where(df['brandName'] == 'Apple', 1, 0)\n",
    "    df['is_android'] = np.where(df['osAndVersion'].str.split('-').str[0] == \"Android\", 1, 0)\n",
    "    df['is_ios'] = np.where(df['osAndVersion'].str.split('-').str[0] == \"iOS\", 1, 0)\n",
    "    \n",
    "    df['is_US'] = np.where(df['countryCode'] == 'US', 1, 0)\n",
    "    df['is_JP'] = np.where(df['countryCode'] == 'JP', 1, 0)\n",
    "    df['is_CH'] = np.where(df['countryCode'] == 'CH', 1, 0)\n",
    "    df['is_BR'] = np.where(df['countryCode'] == 'BR', 1, 0)\n",
    "    \n",
    "    df['mean_win_bid_device'] = df['deviceId'].map(mean_win_bid_device)\n",
    "    df['median_win_bid_device'] = df['deviceId'].map(median_win_bid_device)\n",
    "    df['std_win_bid_device'] = df['deviceId'].map(std_win_bid_device)\n",
    "    df['min_win_bid_device'] = df['deviceId'].map(min_win_bid_device)\n",
    "    df['max_win_bid_device'] = df['deviceId'].map(max_win_bid_device)\n",
    "    \n",
    "    df['mean_sent_price_device'] = df['deviceId'].map(mean_sent_price_device)\n",
    "    df['median_sent_price_device'] = df['deviceId'].map(median_sent_price_device)\n",
    "    df['std_sent_price_device'] = df['deviceId'].map(std_sent_price_device)\n",
    "    df['min_sent_price_device'] = df['deviceId'].map(min_sent_price_device)\n",
    "    df['max_sent_price_device'] = df['deviceId'].map(max_sent_price_device)\n",
    "    \n",
    "    df['is_WIFI'] = np.where(df['connectionType'] == 'WIFI', 1, 0)\n",
    "    df['is_3G'] = np.where(df['connectionType'] == '3G', 1, 0)\n",
    "    \n",
    "    df['mean_win_bid_c1'] = df['c1'].map(mean_win_bid_c1)\n",
    "    df['mean_win_bid_c3'] = df['c3'].map(mean_win_bid_c3)\n",
    "    \n",
    "    df['c2_multiply_c4'] = df['c2'] * df['c4']\n",
    "    \n",
    "    df['size_width'] = df['size'].str.split('x').str[0].astype(int)\n",
    "    df['size_height'] = df['size'].str.split('x').str[1].astype(int)\n",
    "    df['size_pixels'] = df['size_width'] * df['size_height']\n",
    "    \n",
    "    df['mediation_minor'] = df['mediationProviderVersion'].str.split('.').str[1].astype(int)\n",
    "    \n",
    "    return df"
   ]
  },
  {
   "cell_type": "markdown",
   "id": "0d55d784",
   "metadata": {},
   "source": [
    "# Apply function and remove raw set"
   ]
  },
  {
   "cell_type": "code",
   "execution_count": null,
   "id": "346c1c6d",
   "metadata": {},
   "outputs": [],
   "source": [
    "train_feats = create_features(train)\n",
    "test_feats = create_features(test)\n",
    "\n",
    "del train, test\n",
    "gc.collect()"
   ]
  },
  {
   "cell_type": "markdown",
   "id": "f6d5f00c",
   "metadata": {},
   "source": [
    "# Create list of final features which will take part in creating model"
   ]
  },
  {
   "cell_type": "code",
   "execution_count": null,
   "id": "14482142",
   "metadata": {},
   "outputs": [],
   "source": [
    "FEATURES = ['hour', 'day_of_week', 'week_of_year', 'mean_hour_device', 'is_banner', 'is_interstitial', 'is_rewarded', 'popularity_of_brand', 'popularity_of_device', \n",
    "            'is_apple', 'is_US', 'mean_win_bid_device', 'median_win_bid_device', 'min_win_bid_device', 'max_win_bid_device', \n",
    "            'mean_sent_price_device', 'median_sent_price_device', 'min_sent_price_device', 'max_sent_price_device', 'is_WIFI',\n",
    "            'is_3G', 'mean_win_bid_c1', 'mean_win_bid_c3', 'size_width', 'size_height', 'mediation_minor', 'sentPrice']"
   ]
  },
  {
   "cell_type": "markdown",
   "id": "aba13f48",
   "metadata": {},
   "source": [
    "# Create list empty lists for folds and divide to n folds"
   ]
  },
  {
   "cell_type": "code",
   "execution_count": null,
   "id": "c3e0ad0a",
   "metadata": {},
   "outputs": [],
   "source": [
    "models = []\n",
    "importances = []\n",
    "predictions = []\n",
    "oofs = []\n",
    "\n",
    "folds = KFold(n_splits = 7, shuffle = True, random_state = 42)"
   ]
  },
  {
   "cell_type": "markdown",
   "id": "93492b9c",
   "metadata": {},
   "source": [
    "# Learn using params in folds loop and save results into lists"
   ]
  },
  {
   "cell_type": "code",
   "execution_count": null,
   "id": "34c5ef3e",
   "metadata": {},
   "outputs": [],
   "source": [
    "params = {\n",
    "    'task': 'train',\n",
    "    'boosting_type': 'gbdt',\n",
    "    'objective': 'regression',\n",
    "    'metric': 'rmse',\n",
    "    'learning_rate': 0.1,\n",
    "    #'colsample_bytree': 0.2,\n",
    "    'bagging_fraction': 0.6,\n",
    "    #'bagging_freq': 10,\n",
    "    'verbose': -1,\n",
    "    \"max_depth\": 12,\n",
    "    \"n_estimators\": 3200\n",
    "}\n",
    "\n",
    "for fold, (train_idx, valid_idx) in enumerate(folds.split(train_feats, train_feats['winBid'])):\n",
    "\n",
    "    start = time.time()\n",
    "    print(f'--------- Fold: {fold} ----------')\n",
    "    \n",
    "    train_feats['winBid']\n",
    "    X_train, y_train = train_feats[FEATURES].iloc[train_idx], train_feats['winBid'].iloc[train_idx]\n",
    "    X_valid, y_valid = train_feats[FEATURES].iloc[valid_idx],  train_feats['winBid'].iloc[valid_idx]\n",
    "\n",
    "    model = lgb.LGBMRegressor(**params)\n",
    "\n",
    "    model.fit(X_train[FEATURES], y_train, eval_set = (X_valid[FEATURES], y_valid),\n",
    "          callbacks = [lgb.early_stopping(40), lgb.log_evaluation(100)])\n",
    "    \n",
    "    oof = model.predict(X_valid[FEATURES], num_iteration = model.best_iteration_)\n",
    "    fold_score = sqrt(mean_squared_error(oof, y_valid))\n",
    "    print(f'RMSE OFF of this fold is: {fold_score:0.4f}')\n",
    "    \n",
    "    importance = pd.DataFrame(index = model.feature_name_, data = model.feature_importances_, columns = [f'{fold}_importance'])\n",
    "\n",
    "    fold_test_pred = model.predict(test_feats[FEATURES], num_iteration = model.best_iteration_)\n",
    "    \n",
    "    predictions.append(fold_test_pred)\n",
    "    models.append(model)\n",
    "    oofs.append(fold_score)\n",
    "    importances.append(importance)\n",
    "    \n",
    "    end = time.time()\n",
    "    full_time = (end - start)\n",
    "    \n",
    "    print(f'Time to train, predict and save results: {full_time:0.2f} seconds')"
   ]
  },
  {
   "cell_type": "markdown",
   "id": "2fdc82c9",
   "metadata": {},
   "source": [
    "# Print general OOF (mean oof of all folds)"
   ]
  },
  {
   "cell_type": "code",
   "execution_count": null,
   "id": "c96de642",
   "metadata": {},
   "outputs": [],
   "source": [
    "print(f'General CV (OOF): {np.mean(oofs):0.4f}')"
   ]
  },
  {
   "cell_type": "code",
   "execution_count": null,
   "id": "301327e3",
   "metadata": {},
   "outputs": [],
   "source": [
    "pd.set_option('display.float_format', lambda x: '%.3f' % x)\n",
    "importances_df = pd.concat(importances, axis = 1)\n",
    "importances_df['Feature'] = importance.index\n",
    "importances_df['Value'] = importances_df['0_importance'] + importances_df['1_importance'] + importances_df['2_importance'] + importances_df['3_importance'] + \\\n",
    "                          importances_df['4_importance'] + importances_df['5_importance'] + importances_df['6_importance'] \n",
    "importances_df = importances_df.sort_values('Value', ascending = False)\n",
    "importances_df['Value'] = importances_df['Value'] / importances_df['Value'].sum()\n",
    "\n",
    "plt.rcParams['figure.dpi'] = 600\n",
    "fig = plt.figure(figsize = (5, 3), facecolor = 'white')\n",
    "gs = fig.add_gridspec(1, 2)\n",
    "gs.update(wspace = 0.3, hspace = 0)\n",
    "ax0 = fig.add_subplot(gs[0, 0])\n",
    "ax0.set_facecolor(\"white\")\n",
    "for s in [\"right\", \"top\"]:\n",
    "    ax0.spines[s].set_visible(False)\n",
    "\n",
    "ax0.text(0, -1.8, 'Feature importance ', color = 'black', fontsize = 7.3, ha = 'left', va = 'bottom', weight = 'bold')\n",
    "ax0.text(0, -1.8, 'final lightGBM model', color = 'black', fontsize = 6, ha = 'left', va = 'top')\n",
    "ax0_sns = sns.barplot(ax = ax0, y = importances_df['Feature'], x = importances_df['Value'], edgecolor = \"black\", linewidth = 0.3, color = \"#225478\", orient = \"h\")\n",
    "ax0_sns.set_ylabel(\"Feature name\", fontsize = 4.5)\n",
    "ax0_sns.set_xlabel(\"Feature importance (7 folds, ratio of total)\", fontsize = 4.5)\n",
    "ax0_sns.tick_params(labelsize = 3.5)\n",
    "plt.show()"
   ]
  },
  {
   "cell_type": "markdown",
   "id": "3b850d2d",
   "metadata": {},
   "source": [
    "# Predict results (mean win bid of each k-model)"
   ]
  },
  {
   "cell_type": "code",
   "execution_count": null,
   "id": "b119aa0b",
   "metadata": {},
   "outputs": [],
   "source": [
    "submission = pd.DataFrame({'deviceId':test_feats['deviceId'], 'floor':test_feats['bidFloorPrice'], 'winBid':0})\n",
    "\n",
    "submission['winBid'] = np.mean(np.column_stack(predictions), axis = 1)"
   ]
  },
  {
   "cell_type": "markdown",
   "id": "a59026dd",
   "metadata": {},
   "source": [
    "# Clip results from 0.01 and create submission file"
   ]
  },
  {
   "cell_type": "code",
   "execution_count": null,
   "id": "2bad480b",
   "metadata": {},
   "outputs": [],
   "source": [
    "submission['winBid'] = np.clip(submission['winBid'], submission['floor'], 3800)\n",
    "\n",
    "submission = submission[['deviceId', 'winBid']]\n",
    "submission.to_csv(\"submission.csv\", index = None)\n",
    "submission"
   ]
  }
 ],
 "metadata": {},
 "nbformat": 4,
 "nbformat_minor": 5
}
