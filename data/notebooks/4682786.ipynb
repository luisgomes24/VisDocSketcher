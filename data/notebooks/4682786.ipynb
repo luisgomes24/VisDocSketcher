{
 "cells": [
  {
   "cell_type": "markdown",
   "id": "ee46ba4d",
   "metadata": {},
   "source": [
    "# **Predicting Player Position using Football Manager data**\n",
    "Using attributes from [Football Manager 2017 data](https://www.kaggle.com/ajinkyablaze/football-manager-data) we predict player position.\n",
    "\n",
    "Only 1 position for each player was selected. This is a limitation, as some players are highly versatile and would have more than just 1 optimal position.\n",
    "\n",
    "These positions were used:\n",
    "* GK\n",
    "* CB\n",
    "* WB (both right / left, both WB and FB)\n",
    "* WM (both right / left, both WM and AWM)\n",
    "* DM\n",
    "* CM\n",
    "* AM\n",
    "* ST\n"
   ]
  },
  {
   "cell_type": "markdown",
   "id": "77a82f95",
   "metadata": {},
   "source": [
    "First, we import libraries and load the data"
   ]
  },
  {
   "cell_type": "code",
   "execution_count": null,
   "id": "ecd9272d",
   "metadata": {},
   "outputs": [],
   "source": [
    "import numpy as np\n",
    "import pandas as pd\n",
    "import matplotlib.pyplot as plt\n",
    "import os\n",
    "print(os.listdir(\"../input\"))\n",
    "\n",
    "import matplotlib\n",
    "from matplotlib.collections import PatchCollection\n",
    "from matplotlib.patches import Circle\n",
    "from matplotlib.colors import ListedColormap\n",
    "\n",
    "from xgboost import XGBRegressor\n",
    "from sklearn.multioutput import MultiOutputRegressor\n",
    "\n",
    "from tensorflow import keras\n",
    "from tensorflow.keras.models import Sequential\n",
    "from tensorflow.keras.layers import Dense, Dropout, BatchNormalization, InputLayer, Flatten\n",
    "\n",
    "from sklearn.model_selection import cross_validate"
   ]
  },
  {
   "cell_type": "code",
   "execution_count": null,
   "id": "ae7871c2",
   "metadata": {},
   "outputs": [],
   "source": [
    "md = pd.read_csv(\"../input/dataset.csv\", index_col = 'UID')\n",
    "md.head(3)"
   ]
  },
  {
   "cell_type": "markdown",
   "id": "e461e594",
   "metadata": {},
   "source": [
    "We can see that there are way too many data here. Let's drop unnecessary columns"
   ]
  },
  {
   "cell_type": "code",
   "execution_count": null,
   "id": "ba062723",
   "metadata": {},
   "outputs": [],
   "source": [
    "players = md.drop(['Name', 'NationID', 'Born', 'IntCaps', 'IntGoals', 'U21Caps', 'U21Goals', 'PositionsDesc',\n",
    "                   'Consistency', 'Dirtiness', 'ImportantMatches', 'Versatility', 'Adaptability', 'Ambition',\n",
    "                   'Loyalty', 'Pressure', 'Professional', 'Sportsmanship', 'Temperament', 'Controversy',\n",
    "                   'Age', 'Weight', 'Height', 'InjuryProness'\n",
    "            ], axis=1)\n",
    "players.head(3)"
   ]
  },
  {
   "cell_type": "markdown",
   "id": "c650fe37",
   "metadata": {},
   "source": [
    "Ok, that's better. We kept most of the attributes and the positions. Some mental attributes were removed,because they are not that important for player position and are not even visible in the game itself\n",
    "\n",
    "Next, we split the dataframe into **X** (attributes) and **y** (scores for each position out of 20). We also separate 'RightFoot' and 'LeftFoot' into a **X_foot** dataframe, which will be used later"
   ]
  },
  {
   "cell_type": "code",
   "execution_count": null,
   "id": "bdc0ba4d",
   "metadata": {},
   "outputs": [],
   "source": [
    "X = players.loc[:,:'Strength'].drop(['RightFoot', 'LeftFoot'], axis=1)\n",
    "X_foot = players.loc[:, ['RightFoot', 'LeftFoot']]\n",
    "y = players.loc[:,'Goalkeeper':]"
   ]
  },
  {
   "cell_type": "code",
   "execution_count": null,
   "id": "5c7d1c55",
   "metadata": {},
   "outputs": [],
   "source": [
    "X.head(3)"
   ]
  },
  {
   "cell_type": "code",
   "execution_count": null,
   "id": "5fe5beb6",
   "metadata": {},
   "outputs": [],
   "source": [
    "X_foot.head(3)"
   ]
  },
  {
   "cell_type": "code",
   "execution_count": null,
   "id": "6eee4266",
   "metadata": {},
   "outputs": [],
   "source": [
    "y.head(3)"
   ]
  },
  {
   "cell_type": "markdown",
   "id": "bebd5775",
   "metadata": {},
   "source": [
    "There is no need to scale columns because all data are in the same scale (0-20). However, it might be a good idea to scale rows, because we are not interested in player overall level to be a factor in position prediction. For example, Eden Hazard might be a better striker than Emile Heskey, but we want Heskey's predicted ST level to be higher. Having said that, we need to exclude 'RightFoot' and 'LeftFoot' from this, as at least one of these values would always be 20"
   ]
  },
  {
   "cell_type": "code",
   "execution_count": null,
   "id": "9ead8148",
   "metadata": {},
   "outputs": [],
   "source": [
    "from sklearn import preprocessing\n",
    "scaler = preprocessing.MinMaxScaler()\n",
    "vectors = X.values\n",
    "scaled_rows = scaler.fit_transform(vectors.T).T\n",
    "X_normalized = pd.DataFrame(data = scaled_rows, columns = X.columns)"
   ]
  },
  {
   "cell_type": "markdown",
   "id": "03026864",
   "metadata": {},
   "source": [
    "Ok, now we have our variables, let's visualise them"
   ]
  },
  {
   "cell_type": "code",
   "execution_count": null,
   "id": "28e2a6ae",
   "metadata": {},
   "outputs": [],
   "source": [
    "fig, axes = plt.subplots(len(X_normalized.columns)//3, 3, figsize=(12, 48))\n",
    "\n",
    "i = 0\n",
    "for triaxis in axes:\n",
    "    for axis in triaxis:\n",
    "        X.hist(column = X_normalized.columns[i], bins = 100, ax=axis)\n",
    "        i = i+1"
   ]
  },
  {
   "cell_type": "markdown",
   "id": "870e35b3",
   "metadata": {},
   "source": [
    "Some attributes are very goalkeeper-speciffic, but other attributes are relatively normally distributed"
   ]
  },
  {
   "cell_type": "code",
   "execution_count": null,
   "id": "c5654efc",
   "metadata": {},
   "outputs": [],
   "source": [
    "for col in y.columns.unique():\n",
    "    print(col, y[col][y[col] == 20].count())"
   ]
  },
  {
   "cell_type": "markdown",
   "id": "3c2d7ddb",
   "metadata": {},
   "source": [
    "Some Models"
   ]
  },
  {
   "cell_type": "code",
   "execution_count": null,
   "id": "ae57b523",
   "metadata": {},
   "outputs": [],
   "source": [
    "XGRegModel = MultiOutputRegressor(XGBRegressor(objective='reg:squarederror'))\n",
    "cv_results_XGRegModel = cross_validate(XGRegModel, X, y, cv=5, verbose=1)\n",
    "plt.plot(cv_results_XGRegModel['test_score'])"
   ]
  },
  {
   "cell_type": "code",
   "execution_count": null,
   "id": "109a5217",
   "metadata": {},
   "outputs": [],
   "source": [
    "XGRegModel.fit(X, y)"
   ]
  },
  {
   "cell_type": "code",
   "execution_count": null,
   "id": "f09e1a4a",
   "metadata": {},
   "outputs": [],
   "source": [
    "NNetModel = Sequential()\n",
    "\n",
    "NNetModel.add(Dense(len(X.columns), activation='relu', input_dim=len(X.columns)))\n",
    "NNetModel.add(BatchNormalization())\n",
    "NNetModel.add(Dropout(0.2))\n",
    "NNetModel.add(Dense((len(X.columns) + len(y.columns)) // 2, activation='relu'))\n",
    "NNetModel.add(Flatten())\n",
    "NNetModel.add(Dense(len(y.columns), activation='relu'))\n",
    "\n",
    "NNetModel.compile(loss='categorical_crossentropy', optimizer='adam', metrics=['accuracy'])\n",
    "\n",
    "NNetModel.fit(X.values, y.values, batch_size=128, epochs=50, verbose=1, validation_split=0.2)"
   ]
  },
  {
   "cell_type": "markdown",
   "id": "910a4056",
   "metadata": {},
   "source": [
    "Let's see some predictions"
   ]
  },
  {
   "cell_type": "code",
   "execution_count": null,
   "id": "b909f82d",
   "metadata": {},
   "outputs": [],
   "source": [
    "def predict_player_position(uid, model):\n",
    "    player_id = uid\n",
    "\n",
    "    positions = model.predict(X.loc[[player_id]])[0]\n",
    "\n",
    "    R_scaler = preprocessing.MinMaxScaler(feature_range=(1, 20))\n",
    "    vectors = pd.DataFrame(positions.reshape(1,15), columns=y.columns).values\n",
    "    scaled_rows = R_scaler.fit_transform(vectors.T).T\n",
    "\n",
    "    results = pd.DataFrame({'Position':y.columns, 'Real':y.loc[player_id], 'Predicted':scaled_rows[0], 'Difference':y.loc[player_id]-scaled_rows[0]})\n",
    "    results.sort_values('Real', ascending=False)\n",
    "    \n",
    "    accuracy = abs(results['Difference']).median()\n",
    "    \n",
    "    return results, accuracy"
   ]
  },
  {
   "cell_type": "code",
   "execution_count": null,
   "id": "18b91bd1",
   "metadata": {},
   "outputs": [],
   "source": [
    "def draw_positions(results, p_name=''):\n",
    "\n",
    "    fig, ax = plt.subplots(1,2)\n",
    "\n",
    "    x_coords = [10,10,10,10,-45,65,10,-45,65,10,10,-45,65,-45,65]\n",
    "    y_coords = [-85,-55,95,65,65,65,-25,-25,-25,5,35,35,35,5,5]\n",
    "    size = [10,10,10,10,10,10,10,10,10,10,10,10,10,10,10]\n",
    "    patches = []\n",
    "    for x1,y1,r in zip(x_coords, y_coords, size):\n",
    "        circle = Circle((x1,y1), r)\n",
    "        patches.append(circle)\n",
    "\n",
    "    colors1 = results['Predicted']\n",
    "    colors2 = results['Real']\n",
    "    newcmp = ListedColormap(['red', 'orange', 'yellow', 'green'])\n",
    "    p1 = PatchCollection(patches, cmap=newcmp, alpha=1)\n",
    "    p2 = PatchCollection(patches, cmap=newcmp, alpha=1)\n",
    "    p1.set_array(colors1)\n",
    "    p2.set_array(colors2)\n",
    "\n",
    "    ax[0].set_ylim((-110,120))\n",
    "    ax[0].set_xlim((-70,90))\n",
    "    ax[0].add_collection(p1)\n",
    "    ax[0].set_title('Predicted')\n",
    "\n",
    "    ax[1].set_ylim((-110,120))\n",
    "    ax[1].set_xlim((-70,90))\n",
    "    ax[1].add_collection(p2)\n",
    "    ax[1].set_title('Real')\n",
    "\n",
    "    fig.suptitle(p_name)"
   ]
  },
  {
   "cell_type": "code",
   "execution_count": null,
   "id": "b8ef5105",
   "metadata": {},
   "outputs": [],
   "source": [
    "# to see where mistakes were made:\n",
    "def show_predictions(predicted_pos, true_pos):\n",
    "    return pred_test_table[pred_test_table['True_position'] == true_pos][pred_test_table[pred_test_table['True_position'] == true_pos]['Pred_position'] == predicted_pos]\n",
    "\n",
    "# to get specific attributes using player UID:\n",
    "def get_attribute(UID, attribute):\n",
    "    return md[md.index == UID][attribute].tolist()[0]\n",
    "\n",
    "# to get data using names:\n",
    "def search_by_name(name):\n",
    "    return md[md['Name'].str.contains(name)]"
   ]
  },
  {
   "cell_type": "code",
   "execution_count": null,
   "id": "8478d20f",
   "metadata": {},
   "outputs": [],
   "source": [
    "# to get attributes for FM-like shapes for players:\n",
    "def get_shape_attributes(UID):\n",
    "    shape_attributes = {}\n",
    "    shape_attributes['Speed'] = (get_attribute(UID, 'Acceleration') + get_attribute(UID, 'Pace')) / 2\n",
    "    shape_attributes['Physical'] = (get_attribute(UID, 'Agility') + get_attribute(UID, 'Balance')\n",
    "                    + get_attribute(UID, 'Stamina') + get_attribute(UID, 'Strength')) / 4\n",
    "    shape_attributes['Defence'] = (get_attribute(UID, 'Tackling') + get_attribute(UID, 'Marking') + get_attribute(UID, 'Positioning')) / 3\n",
    "    shape_attributes['Mental'] = (get_attribute(UID, 'Anticipation') + get_attribute(UID, 'Bravery')\n",
    "                + get_attribute(UID, 'Concentration') + get_attribute(UID, 'Decisions') + get_attribute(UID, 'Determination') + get_attribute(UID, 'Teamwork')) / 6\n",
    "    shape_attributes['Aerial'] = (get_attribute(UID, 'Heading') + get_attribute(UID, 'Jumping')) / 2\n",
    "    shape_attributes['Technique'] = (get_attribute(UID, 'Dribbling') + get_attribute(UID, 'FirstTouch') + get_attribute(UID, 'Technique')) / 3\n",
    "    shape_attributes['Attack'] = (get_attribute(UID, 'Finishing') + get_attribute(UID, 'Composure') + get_attribute(UID, 'OffTheBall')) / 3\n",
    "    shape_attributes['Vision'] = (get_attribute(UID, 'Passing') + get_attribute(UID, 'Flair') + get_attribute(UID, 'Vision')) / 3\n",
    "      \n",
    "    return shape_attributes\n",
    "\n",
    "# same for keepers:\n",
    "def get_shape_attributes_GK(UID):\n",
    "    shape_attributes = {}\n",
    "    shape_attributes['Speed'] = (get_attribute(UID, 'Acceleration') + get_attribute(UID, 'Pace')) / 2\n",
    "    shape_attributes['Physical'] = (get_attribute(UID, 'Agility') + get_attribute(UID, 'Balance')\n",
    "                + get_attribute(UID, 'Stamina') + get_attribute(UID, 'Strength')) / 4\n",
    "    shape_attributes['ShotStopping'] = (get_attribute(UID, 'Handling') + get_attribute(UID, 'OneOnOnes')\n",
    "                + get_attribute(UID, 'Reflexes') + get_attribute(UID, 'Positioning')) / 4\n",
    "    shape_attributes['Distribution'] = (get_attribute(UID, 'FirstTouch') + get_attribute(UID, 'Throwing')) / 2\n",
    "    shape_attributes['Aerial_GK'] = (get_attribute(UID, 'Jumping') + get_attribute(UID, 'AerialAbility')) / 2\n",
    "    shape_attributes['Eccentricity'] = (get_attribute(UID, 'Eccentricity'))\n",
    "    shape_attributes['Communication'] = (get_attribute(UID, 'Communication') + get_attribute(UID, 'RushingOut') + get_attribute(UID, 'CommandOfArea')) / 3\n",
    "    shape_attributes['Mental'] = (get_attribute(UID, 'Anticipation') + get_attribute(UID, 'Bravery')\n",
    "                + get_attribute(UID, 'Concentration') + get_attribute(UID, 'Decisions') + get_attribute(UID, 'Determination') + get_attribute(UID, 'Teamwork')) / 6\n",
    "    \n",
    "    return shape_attributes"
   ]
  },
  {
   "cell_type": "markdown",
   "id": "5893dec7",
   "metadata": {},
   "source": [
    "Attributes were used without combining for training and predicting, however for visualization purposes they were combined into groups:\n",
    "\n",
    "**Speed group:**\n",
    "* Acceleration\n",
    "* Pace\n",
    "\n",
    "**Defence group:**\n",
    "* Tackling\n",
    "* Marking\n",
    "* Positioning\n",
    "\n",
    "**Mental group:**\n",
    "* Anticipation\n",
    "* Bravery\n",
    "* Concentration\n",
    "* Decisions\n",
    "* Determination\n",
    "* Teamwork\n",
    "\n",
    "**Aerial group:**\n",
    "* Heading\n",
    "* Jumping\n",
    "\n",
    "**Technique group:**\n",
    "* Dribbling\n",
    "* FirstTouch\n",
    "* Technique\n",
    "\n",
    "**Attack group:**\n",
    "* Finishing\n",
    "* Composure\n",
    "* OffTheBall\n",
    "\n",
    "**Vision group:**\n",
    "* Passing\n",
    "* Flair\n",
    "* Vision\n",
    "\n",
    "This was also done for Goalkeepers, but I am not sure if correctly"
   ]
  },
  {
   "cell_type": "code",
   "execution_count": null,
   "id": "e02d8d2e",
   "metadata": {},
   "outputs": [],
   "source": [
    "# to draw FM-like shapes for players:\n",
    "def draw_shape(UID):\n",
    "    \n",
    "    values_dict = get_shape_attributes(UID)\n",
    "\n",
    "    labels = np.array(list(values_dict.keys()))\n",
    "    stats = list(values_dict.values())\n",
    "    name = get_attribute(UID, 'Name')\n",
    "    \n",
    "    angles = np.linspace(0, 2*np.pi, len(labels), endpoint=False)\n",
    "    stats.append(stats[0])\n",
    "    angles = np.concatenate((angles,[angles[0]]))\n",
    "\n",
    "    fig= plt.figure()\n",
    "    ax = fig.add_subplot(111, polar=True)\n",
    "    ax.plot(angles, stats, 'o-', linewidth=2)\n",
    "    ax.fill(angles, stats, alpha=0.25)\n",
    "    ax.set_thetagrids(angles * 180/np.pi, labels)\n",
    "    ax.set_title(name)\n",
    "    ax.set_yticks(np.arange(0,25,10))\n",
    "\n",
    "    plt.show()\n",
    "\n",
    "# Same for keepers:\n",
    "def draw_shape_GK(UID):\n",
    "    \n",
    "    values_dict = get_shape_attributes_GK(UID)\n",
    "\n",
    "    labels = np.array(list(values_dict.keys()))\n",
    "    stats = list(values_dict.values())\n",
    "    name = get_attribute(UID, 'Name') + ' - GK'\n",
    "    \n",
    "    angles = np.linspace(0, 2*np.pi, len(labels), endpoint=False)\n",
    "    stats.append(stats[0])\n",
    "    angles = np.concatenate((angles,[angles[0]]))\n",
    "\n",
    "    fig= plt.figure()\n",
    "    ax = fig.add_subplot(111, polar=True)\n",
    "    ax.plot(angles, stats, 'o-', linewidth=2)\n",
    "    ax.fill(angles, stats, alpha=0.25)\n",
    "    ax.set_thetagrids(angles * 180/np.pi, labels)\n",
    "    ax.set_title(name)\n",
    "    ax.set_yticks(np.arange(0,25,10))\n",
    "\n",
    "    plt.show()"
   ]
  },
  {
   "cell_type": "code",
   "execution_count": null,
   "id": "89c7a85c",
   "metadata": {},
   "outputs": [],
   "source": [
    "# to make a prediction for a player using UID:\n",
    "def predict_and_show(uid, model, p_name=''):\n",
    "    results = predict_player_position(uid, model)\n",
    "    print('MAD =', results[1])\n",
    "    draw_positions(results[0], p_name)\n",
    "    draw_shape(uid)\n",
    "    draw_shape_GK(uid)"
   ]
  },
  {
   "cell_type": "code",
   "execution_count": null,
   "id": "2ebe4ab4",
   "metadata": {},
   "outputs": [],
   "source": [
    "search_by_name('Mohamed Salah')"
   ]
  },
  {
   "cell_type": "code",
   "execution_count": null,
   "id": "cd97590c",
   "metadata": {},
   "outputs": [],
   "source": [
    "predict_and_show(98028755, NNetModel, 'Mohamed Salah')"
   ]
  },
  {
   "cell_type": "code",
   "execution_count": null,
   "id": "34ef2431",
   "metadata": {},
   "outputs": [],
   "source": [
    "predict_and_show(98028755, XGRegModel, 'Mohamed Salah')"
   ]
  },
  {
   "cell_type": "code",
   "execution_count": null,
   "id": "c25f6499",
   "metadata": {},
   "outputs": [],
   "source": [
    "nan"
   ]
  }
 ],
 "metadata": {},
 "nbformat": 4,
 "nbformat_minor": 5
}
