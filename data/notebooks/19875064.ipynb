{
 "cells": [
  {
   "cell_type": "code",
   "execution_count": null,
   "id": "d3f7dbe9",
   "metadata": {},
   "outputs": [],
   "source": [
    "import tensorflow as tf\n",
    "from tensorflow.keras import Sequential\n",
    "from tensorflow.keras.layers import InputLayer\n",
    "from tensorflow.keras.layers import Dense\n",
    "from tensorflow.keras.layers import Conv2D\n",
    "from tensorflow.keras.layers import MaxPooling2D\n",
    "from tensorflow.keras.layers import Flatten\n",
    "from tensorflow.keras.layers import Dropout\n",
    "from tensorflow.keras.layers import LeakyReLU\n",
    "from tensorflow.keras.layers import BatchNormalization\n",
    "from keras.preprocessing.image import ImageDataGenerator\n",
    "\n",
    "from sklearn.model_selection import train_test_split\n",
    "import pandas as pd\n",
    "import numpy as np\n",
    "import matplotlib.pyplot as plt\n",
    "import plotly.express as px\n",
    "import plotly.graph_objects as go\n",
    "import seaborn as sns\n",
    "from itertools import cycle\n"
   ]
  },
  {
   "cell_type": "code",
   "execution_count": null,
   "id": "46ce422a",
   "metadata": {},
   "outputs": [],
   "source": [
    "TrainData = pd.read_csv(r'../input/digit-recognizer/train.csv')\n",
    "TrainData\n"
   ]
  },
  {
   "cell_type": "code",
   "execution_count": null,
   "id": "796a1b8f",
   "metadata": {},
   "outputs": [],
   "source": [
    "TestData = pd.read_csv(r'../input/digit-recognizer/test.csv')\n",
    "TestData\n"
   ]
  },
  {
   "cell_type": "code",
   "execution_count": null,
   "id": "563d4ea6",
   "metadata": {},
   "outputs": [],
   "source": [
    "np.isnan(np.array(TrainData)).any()"
   ]
  },
  {
   "cell_type": "code",
   "execution_count": null,
   "id": "18fcd324",
   "metadata": {},
   "outputs": [],
   "source": [
    "np.isnan(np.array(TestData)).any()"
   ]
  },
  {
   "cell_type": "code",
   "execution_count": null,
   "id": "3d7580f9",
   "metadata": {},
   "outputs": [],
   "source": [
    "TrainData = TrainData.copy()\r\n",
    "Label = TrainData.pop('label')\r\n",
    "sns.countplot(x=Label)\r\n"
   ]
  },
  {
   "cell_type": "code",
   "execution_count": null,
   "id": "90d8933f",
   "metadata": {},
   "outputs": [],
   "source": [
    "samples = TrainData.sample(25)\r\n",
    "plt.figure(figsize=(20, 20))\r\n",
    "\r\n",
    "f, ax = plt.subplots(5, 5, figsize=(10, 10))\r\n",
    "for i in range(25):\r\n",
    "    ax[i//5, i % 5].imshow(np.array(samples[i:i+1]).reshape(28, 28))\r\n",
    "    ax[i//5, i % 5].axis('off')\r\n",
    "    ax[i//5, i % 5].set_title(Label[samples.index].values[i], fontsize='12')\r\n"
   ]
  },
  {
   "cell_type": "code",
   "execution_count": null,
   "id": "6ff346d8",
   "metadata": {},
   "outputs": [],
   "source": [
    "DS1, DS2, L1, L2 = train_test_split(TrainData, Label, test_size=0.2)\n",
    "\n",
    "DS1 = tf.reshape(tf.constant(DS1), (-1, 28, 28, 1))/255\n",
    "DS2 = tf.reshape(tf.constant(DS2), (-1, 28, 28, 1))/255\n",
    "L1 = tf.one_hot(L1, 10)\n",
    "L2 = tf.one_hot(L2, 10)\n",
    "\n",
    "DS = tf.reshape(tf.constant(TrainData), (-1, 28, 28, 1))/255\n",
    "L = tf.one_hot(Label, 10)"
   ]
  },
  {
   "cell_type": "code",
   "execution_count": null,
   "id": "c5cfbf48",
   "metadata": {},
   "outputs": [],
   "source": [
    "class MyCallBack(tf.keras.callbacks.Callback):\n",
    "    def on_epoch_end(self, epoch, log):\n",
    "        if log['accuracy'] > 0.9995:\n",
    "            self.model.stop_training = True\n",
    "\n",
    "\n",
    "ReduceLR = tf.keras.callbacks.ReduceLROnPlateau(\n",
    "    monitor='accuracy', factor=0.2, patience=3)\n",
    "\n",
    "Stop = MyCallBack()\n",
    "\n"
   ]
  },
  {
   "cell_type": "code",
   "execution_count": null,
   "id": "2069749c",
   "metadata": {},
   "outputs": [],
   "source": [
    "\n",
    "ImageModifier = ImageDataGenerator(\n",
    "    rotation_range=10,\n",
    "    zoom_range=0.1,\n",
    "    width_shift_range=0.1,\n",
    "    height_shift_range=0.1,\n",
    ")\n",
    "\n",
    "\n",
    "Model = Sequential([\n",
    "\n",
    "    InputLayer((28, 28, 1)),\n",
    "    Dropout(0.1),\n",
    "    Conv2D(128, 3, use_bias=False),\n",
    "    LeakyReLU(0.05),\n",
    "    BatchNormalization(),\n",
    "    MaxPooling2D(2, 2),\n",
    "    Conv2D(64, 3, use_bias=False),\n",
    "    LeakyReLU(0.05),\n",
    "    BatchNormalization(),\n",
    "    MaxPooling2D(2, 2),\n",
    "    Flatten(),\n",
    "    Dense(128, use_bias=False),\n",
    "    LeakyReLU(0.05),\n",
    "    BatchNormalization(),\n",
    "    Dense(10, activation='softmax')\n",
    "\n",
    "])\n",
    "\n",
    "\n",
    "Model.compile(optimizer='adam',\n",
    "              loss='categorical_crossentropy', metrics='accuracy')\n",
    "\n",
    "Model.summary()\n"
   ]
  },
  {
   "cell_type": "code",
   "execution_count": null,
   "id": "8f3a22b4",
   "metadata": {},
   "outputs": [],
   "source": [
    "Epochs = 50\n",
    "History = Model.fit(ImageModifier.flow(DS1,L1), validation_data=(DS2,L2), epochs=Epochs,\n",
    "                    callbacks=[ReduceLR, Stop], verbose=0)"
   ]
  },
  {
   "cell_type": "code",
   "execution_count": null,
   "id": "d91fcc38",
   "metadata": {},
   "outputs": [],
   "source": [
    "Acc = History.history['accuracy']\r\n",
    "Loss = History.history['loss']\r\n",
    "ValAcc = History.history['val_accuracy']\r\n",
    "ValLoss = History.history['val_loss']\r\n",
    "fig = px.line(x=History.epoch, y=[Acc, ValAcc], title='Accuracy', labels={\r\n",
    "              \"x\": \"Epoch\", \"value\": \"Accuracy\", })\r\n",
    "fig.update_layout(plot_bgcolor=\"pink\")\r\n",
    "names = cycle(['accuracy', 'val_accuracy'])\r\n",
    "fig.for_each_trace(lambda t:  t.update(name=next(names)))\r\n"
   ]
  },
  {
   "cell_type": "code",
   "execution_count": null,
   "id": "fe37fa47",
   "metadata": {},
   "outputs": [],
   "source": [
    "fig = px.line(x=History.epoch, y=[Loss, ValLoss], title='Loss', labels={\n",
    "              \"x\": \"Epoch\", \"value\": \"Loss\", })\n",
    "fig.update_layout(plot_bgcolor=\"pink\")\n",
    "names = cycle(['loss', 'val_loss'])\n",
    "fig.for_each_trace(lambda t:  t.update(name=next(names)))\n"
   ]
  },
  {
   "cell_type": "code",
   "execution_count": null,
   "id": "a0b912ec",
   "metadata": {},
   "outputs": [],
   "source": [
    "L2Predict = Model.predict(DS2)\r\n",
    "error = (np.argmax(L2Predict, axis=1)-np.argmax(L2, axis=1) != 0)\r\n"
   ]
  },
  {
   "cell_type": "code",
   "execution_count": null,
   "id": "54a55a83",
   "metadata": {},
   "outputs": [],
   "source": [
    "ConfusionMatrix = tf.math.confusion_matrix(\r\n",
    "    np.argmax(L2, axis=1), np.argmax(L2Predict, axis=1))\r\n",
    "sns.heatmap(ConfusionMatrix, annot=True, fmt='g')\r\n"
   ]
  },
  {
   "cell_type": "code",
   "execution_count": null,
   "id": "61cb1aa6",
   "metadata": {},
   "outputs": [],
   "source": [
    "\r\n",
    "samples = DS2[error]\r\n",
    "\r\n",
    "plt.figure(figsize=(20, 20))\r\n",
    "f, ax = plt.subplots(1, 5, figsize=(10, 10))\r\n",
    "for i in range(5):\r\n",
    "    ax[i].imshow(np.array(samples[i:i+1]).reshape(28, 28))\r\n",
    "    ax[i].axis('off')\r\n",
    "    ax[i].set_title(str(np.argmax(L2Predict, axis=1)[error][i]) +\r\n",
    "                    ' in fact '+str(np.argmax(L2, axis=1)[error][i]), fontsize='12')\r\n"
   ]
  },
  {
   "cell_type": "code",
   "execution_count": null,
   "id": "c0b72de7",
   "metadata": {},
   "outputs": [],
   "source": [
    "# Get full use of the Training Data\n",
    "History = Model.fit(ImageModifier.flow(DS,L), epochs=Epochs,\n",
    "                    callbacks=[ReduceLR, Stop], verbose=0)\n",
    "\n",
    "Model.save(r'./model.h5')\n"
   ]
  },
  {
   "cell_type": "code",
   "execution_count": null,
   "id": "38f64996",
   "metadata": {},
   "outputs": [],
   "source": [
    "TestData = tf.reshape(tf.constant(TestData), (-1, 28, 28, 1))/255\n",
    "result = np.argmax(Model.predict(TestData), axis=1)\n",
    "result\n"
   ]
  },
  {
   "cell_type": "code",
   "execution_count": null,
   "id": "01eba03c",
   "metadata": {},
   "outputs": [],
   "source": [
    "Submission = pd.read_csv(r'../input/digit-recognizer/sample_submission.csv')\r\n",
    "Submission.Label = result\r\n",
    "\r\n",
    "Submission.to_csv(r'./sample_submission.csv', index=False)\r\n"
   ]
  }
 ],
 "metadata": {},
 "nbformat": 4,
 "nbformat_minor": 5
}
