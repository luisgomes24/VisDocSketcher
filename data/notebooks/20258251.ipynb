{
 "cells": [
  {
   "cell_type": "code",
   "execution_count": null,
   "id": "3a79508a",
   "metadata": {},
   "outputs": [],
   "source": [
    "import pandas as pd\n",
    "import networkx as nx"
   ]
  },
  {
   "cell_type": "code",
   "execution_count": null,
   "id": "f247f974",
   "metadata": {},
   "outputs": [],
   "source": [
    "df=pd.read_csv('../input/social-network-analysis/us_edgelist.csv')\n",
    "\n",
    "df.head()"
   ]
  },
  {
   "cell_type": "code",
   "execution_count": null,
   "id": "6bbf16b4",
   "metadata": {},
   "outputs": [],
   "source": [
    "# Read our Edgelist\n",
    "\n",
    "us_graph=nx.from_pandas_edgelist(df,source='From',target='To')"
   ]
  },
  {
   "cell_type": "code",
   "execution_count": null,
   "id": "fb888cb7",
   "metadata": {},
   "outputs": [],
   "source": [
    "type(us_graph)"
   ]
  },
  {
   "cell_type": "code",
   "execution_count": null,
   "id": "8b5c8060",
   "metadata": {},
   "outputs": [],
   "source": [
    "nx.info(us_graph)"
   ]
  },
  {
   "cell_type": "code",
   "execution_count": null,
   "id": "8a27e209",
   "metadata": {},
   "outputs": [],
   "source": [
    "# Check all Nodes/Object/People\n",
    "\n",
    "us_graph.nodes()"
   ]
  },
  {
   "cell_type": "code",
   "execution_count": null,
   "id": "730aa481",
   "metadata": {},
   "outputs": [],
   "source": [
    "len(us_graph.nodes())"
   ]
  },
  {
   "cell_type": "code",
   "execution_count": null,
   "id": "c70ea85e",
   "metadata": {},
   "outputs": [],
   "source": [
    "us_graph.edges()"
   ]
  },
  {
   "cell_type": "code",
   "execution_count": null,
   "id": "4c5372be",
   "metadata": {},
   "outputs": [],
   "source": [
    "len(us_graph.edges())"
   ]
  },
  {
   "cell_type": "code",
   "execution_count": null,
   "id": "f48fbd10",
   "metadata": {},
   "outputs": [],
   "source": [
    "us_graph.add_edge('Franklin','Lincoln')"
   ]
  },
  {
   "cell_type": "code",
   "execution_count": null,
   "id": "0fa0d20b",
   "metadata": {},
   "outputs": [],
   "source": [
    "us_graph.nodes()"
   ]
  },
  {
   "cell_type": "markdown",
   "id": "c6991ed1",
   "metadata": {},
   "source": [
    "## Visualization "
   ]
  },
  {
   "cell_type": "code",
   "execution_count": null,
   "id": "fc585105",
   "metadata": {},
   "outputs": [],
   "source": [
    "# Visualization\n",
    "\n",
    "import matplotlib.pyplot as plt \n",
    "%matplotlib inline "
   ]
  },
  {
   "cell_type": "code",
   "execution_count": null,
   "id": "68ced20f",
   "metadata": {},
   "outputs": [],
   "source": [
    "nx.draw(us_graph)"
   ]
  },
  {
   "cell_type": "code",
   "execution_count": null,
   "id": "7349e45a",
   "metadata": {},
   "outputs": [],
   "source": [
    "nx.draw(us_graph,with_labels=True,node_color='r')"
   ]
  },
  {
   "cell_type": "code",
   "execution_count": null,
   "id": "e3d40bc4",
   "metadata": {},
   "outputs": [],
   "source": [
    "#MEthode 2 \n",
    "\n",
    "nx.draw_networkx(us_graph)"
   ]
  },
  {
   "cell_type": "code",
   "execution_count": null,
   "id": "a34dda6e",
   "metadata": {},
   "outputs": [],
   "source": [
    "plt.figure(figsize=(10,10))\n",
    "nx.draw_networkx(us_graph)\n",
    "plt.show()"
   ]
  },
  {
   "cell_type": "markdown",
   "id": "3189b2f1",
   "metadata": {},
   "source": [
    "## Analysis "
   ]
  },
  {
   "cell_type": "code",
   "execution_count": null,
   "id": "a6cdce4d",
   "metadata": {},
   "outputs": [],
   "source": [
    "# General Connection \n",
    "nx.degree(us_graph)"
   ]
  },
  {
   "cell_type": "code",
   "execution_count": null,
   "id": "558ea185",
   "metadata": {},
   "outputs": [],
   "source": [
    "# Degree of Connecion \n",
    "\n",
    "nx.degree(us_graph,'Obama')"
   ]
  },
  {
   "cell_type": "code",
   "execution_count": null,
   "id": "687426cc",
   "metadata": {},
   "outputs": [],
   "source": [
    "# Most Influential\n",
    "nx.degree_centrality(us_graph)"
   ]
  },
  {
   "cell_type": "code",
   "execution_count": null,
   "id": "7f54cf25",
   "metadata": {},
   "outputs": [],
   "source": [
    "sorted(nx.degree_centrality(us_graph))"
   ]
  },
  {
   "cell_type": "code",
   "execution_count": null,
   "id": "6d3cec42",
   "metadata": {},
   "outputs": [],
   "source": [
    "most_inf=nx.degree_centrality(us_graph)"
   ]
  },
  {
   "cell_type": "code",
   "execution_count": null,
   "id": "2a61a349",
   "metadata": {},
   "outputs": [],
   "source": [
    "for w in sorted(most_inf, key=most_inf.get,reverse=True):\n",
    "    print(w, most_inf[w])"
   ]
  },
  {
   "cell_type": "code",
   "execution_count": null,
   "id": "80cc3487",
   "metadata": {},
   "outputs": [],
   "source": [
    "# Most important Connection \n",
    "nx.eigenvector_centrality(us_graph)"
   ]
  },
  {
   "cell_type": "code",
   "execution_count": null,
   "id": "1c11c033",
   "metadata": {},
   "outputs": [],
   "source": [
    "mil=nx.eigenvector_centrality(us_graph)"
   ]
  },
  {
   "cell_type": "code",
   "execution_count": null,
   "id": "7a43614e",
   "metadata": {},
   "outputs": [],
   "source": [
    "for w in sorted(mil, key=mil.get,reverse=True):\n",
    "    print(w, mil[w])"
   ]
  },
  {
   "cell_type": "code",
   "execution_count": null,
   "id": "36573058",
   "metadata": {},
   "outputs": [],
   "source": [
    "# Q: What is te shortest connection between obama and Bill Clintion \n",
    "\n",
    "nx.shortest_path(us_graph,'Obama','Clinton')"
   ]
  },
  {
   "cell_type": "code",
   "execution_count": null,
   "id": "938bee43",
   "metadata": {},
   "outputs": [],
   "source": [
    "nx.shortest_path(us_graph,'Trump','Bush')"
   ]
  },
  {
   "cell_type": "code",
   "execution_count": null,
   "id": "33b6f920",
   "metadata": {},
   "outputs": [],
   "source": [
    "# Betweener Centrality \n",
    "\n",
    "plt.figure(figsize=(10,10))\n",
    "nx.draw_networkx(us_graph)\n",
    "plt.show()"
   ]
  },
  {
   "cell_type": "code",
   "execution_count": null,
   "id": "ca8cdd66",
   "metadata": {},
   "outputs": [],
   "source": [
    "nx.betweenness_centrality(us_graph)"
   ]
  },
  {
   "cell_type": "code",
   "execution_count": null,
   "id": "75d89e04",
   "metadata": {},
   "outputs": [],
   "source": [
    "best_conn=nx.betweenness_centrality(us_graph)\n",
    "for w in sorted(best_conn, key=best_conn.get,reverse=True):\n",
    "    print(w, best_conn[w])"
   ]
  },
  {
   "cell_type": "markdown",
   "id": "79d4d3c6",
   "metadata": {},
   "source": [
    "## Building A Subgroup\n",
    "* Retrieve all the nodes connected to a given node within a NetworkX graph \n",
    "    - Method 1 Breadth-first search\n",
    "    - Method 2 nx.node_connected_component(G,n)\n",
    "    "
   ]
  },
  {
   "cell_type": "code",
   "execution_count": null,
   "id": "60ef8cbf",
   "metadata": {},
   "outputs": [],
   "source": [
    "group1 = nx.bfs_tree(us_graph,'Obama')"
   ]
  },
  {
   "cell_type": "code",
   "execution_count": null,
   "id": "a971414a",
   "metadata": {},
   "outputs": [],
   "source": [
    "group2 = nx.bfs_tree(us_graph,'Bush')"
   ]
  },
  {
   "cell_type": "code",
   "execution_count": null,
   "id": "a7bda178",
   "metadata": {},
   "outputs": [],
   "source": [
    "group3 = nx.bfs_tree(us_graph,'Hillary')"
   ]
  },
  {
   "cell_type": "code",
   "execution_count": null,
   "id": "96a53695",
   "metadata": {},
   "outputs": [],
   "source": [
    "nx.draw_networkx(group1)"
   ]
  },
  {
   "cell_type": "code",
   "execution_count": null,
   "id": "5a0de64b",
   "metadata": {},
   "outputs": [],
   "source": [
    "nx.draw_networkx(group2)"
   ]
  },
  {
   "cell_type": "code",
   "execution_count": null,
   "id": "7f2b0b0d",
   "metadata": {},
   "outputs": [],
   "source": [
    "nx.draw_networkx(group3)"
   ]
  },
  {
   "cell_type": "code",
   "execution_count": null,
   "id": "31abd392",
   "metadata": {},
   "outputs": [],
   "source": [
    "nx.node_connected_component(us_graph,'Trump')"
   ]
  },
  {
   "cell_type": "code",
   "execution_count": null,
   "id": "03a7a2bb",
   "metadata": {},
   "outputs": [],
   "source": [
    "# Association \n",
    "nx.clustering(us_graph)"
   ]
  },
  {
   "cell_type": "code",
   "execution_count": null,
   "id": "4c80bcca",
   "metadata": {},
   "outputs": [],
   "source": [
    "nan"
   ]
  },
  {
   "cell_type": "code",
   "execution_count": null,
   "id": "185a1c7e",
   "metadata": {},
   "outputs": [],
   "source": [
    "nan"
   ]
  },
  {
   "cell_type": "code",
   "execution_count": null,
   "id": "dfcecb87",
   "metadata": {},
   "outputs": [],
   "source": [
    "nan"
   ]
  }
 ],
 "metadata": {},
 "nbformat": 4,
 "nbformat_minor": 5
}
