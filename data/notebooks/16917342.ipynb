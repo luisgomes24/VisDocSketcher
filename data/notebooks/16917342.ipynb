{
 "cells": [
  {
   "cell_type": "code",
   "execution_count": null,
   "id": "302e8f0a",
   "metadata": {},
   "outputs": [],
   "source": [
    "import numpy as np \n",
    "import pandas as pd \n",
    "import matplotlib.pyplot as plt\n",
    "import os\n",
    "import statsmodels.tsa.stattools as st"
   ]
  },
  {
   "cell_type": "code",
   "execution_count": null,
   "id": "ff68b407",
   "metadata": {},
   "outputs": [],
   "source": [
    "#DATASET GASTOS\n",
    "df = pd.read_csv('../input/gastostrain/Dataset1_train.csv')\n",
    "df"
   ]
  },
  {
   "cell_type": "markdown",
   "id": "51539d04",
   "metadata": {},
   "source": [
    "**PLOT DA SÉRIE A1 E A4**"
   ]
  },
  {
   "cell_type": "code",
   "execution_count": null,
   "id": "9838252a",
   "metadata": {},
   "outputs": [],
   "source": [
    "dfA1=df[df['PrimaryKey']=='A1'][['Date','Value']]\n",
    "dfA2=df[df['PrimaryKey']=='A4'][['Date','Value']]\n",
    "df3=pd.merge(dfA1,dfA2,how='outer',on='Date')\n",
    "\n",
    "%matplotlib inline\n",
    "from matplotlib.pyplot import figure\n",
    "figure(num=None, figsize=(1200, 600), dpi=800)\n",
    "\n",
    "fig = plt.figure()\n",
    "ax = fig.add_subplot(111)\n",
    "ax.plot(df3['Date'],df3['Value_x'], 'r')\n",
    "ax2 = ax.twinx()\n",
    "ax2.plot(df3['Date'],df3['Value_y'], 'g')\n",
    "ax.set_ylabel(\"Value A1\")\n",
    "ax2.set_ylabel(\"Value A4\")\n",
    "ax.legend(loc=0)\n",
    "ax2.legend(loc=0)\n",
    "ax.grid()\n",
    "plt.show()\n",
    "#PLOT SERIE A1 E A4"
   ]
  },
  {
   "cell_type": "code",
   "execution_count": null,
   "id": "13a7ff9d",
   "metadata": {},
   "outputs": [],
   "source": [
    "#DATASET RENDIMENTOS \n",
    "df = pd.read_csv('../input/rendimentos/Dataset3_train.csv')\n",
    "df"
   ]
  },
  {
   "cell_type": "markdown",
   "id": "b610db36",
   "metadata": {},
   "source": [
    "**PLOT DA SÉRIE A1 E A2**"
   ]
  },
  {
   "cell_type": "code",
   "execution_count": null,
   "id": "e39d579a",
   "metadata": {},
   "outputs": [],
   "source": [
    "dfA1=df[df['PrimaryKey']=='A1'][['Date','Value']]\n",
    "dfA2=df[df['PrimaryKey']=='A2'][['Date','Value']]\n",
    "df3=pd.merge(dfA1,dfA2,how='outer',on='Date')\n",
    "\n",
    "%matplotlib inline\n",
    "from matplotlib.pyplot import figure\n",
    "figure(num=None, figsize=(1200, 600), dpi=800)\n",
    "\n",
    "fig = plt.figure()\n",
    "ax = fig.add_subplot(111)\n",
    "ax.plot(df3['Date'],df3['Value_x'], 'r')\n",
    "ax2 = ax.twinx()\n",
    "ax2.plot(df3['Date'],df3['Value_y'], 'g')\n",
    "ax.set_ylabel(\"Value A1\")\n",
    "ax2.set_ylabel(\"Value A2\")\n",
    "ax.legend(loc=0)\n",
    "ax2.legend(loc=0)\n",
    "ax.grid()\n",
    "plt.show()\n",
    "#PLOT SERIE A1 E A2"
   ]
  },
  {
   "cell_type": "code",
   "execution_count": null,
   "id": "5218d3b7",
   "metadata": {},
   "outputs": [],
   "source": [
    "#DATASET FORNECIMENTOS \n",
    "df = pd.read_csv('../input/fornecimentos/Dataset2_train.csv')\n",
    "df"
   ]
  },
  {
   "cell_type": "markdown",
   "id": "ff625395",
   "metadata": {},
   "source": [
    "**PLOT DA SÉRIE A1 E A2**"
   ]
  },
  {
   "cell_type": "code",
   "execution_count": null,
   "id": "a52548d0",
   "metadata": {},
   "outputs": [],
   "source": [
    "dfA1=df[df['PrimaryKey']=='A1'][['Date','Value']]\n",
    "dfA2=df[df['PrimaryKey']=='A2'][['Date','Value']]\n",
    "df3=pd.merge(dfA1,dfA2,how='outer',on='Date')\n",
    "\n",
    "%matplotlib inline\n",
    "from matplotlib.pyplot import figure\n",
    "figure(num=None, figsize=(1200, 600), dpi=800)\n",
    "\n",
    "fig = plt.figure()\n",
    "ax = fig.add_subplot(111)\n",
    "ax.plot(df3['Date'],df3['Value_x'], 'r')\n",
    "ax2 = ax.twinx()\n",
    "ax2.plot(df3['Date'],df3['Value_y'], 'g')\n",
    "ax.set_ylabel(\"Value A1\")\n",
    "ax2.set_ylabel(\"Value A2\")\n",
    "ax.legend(loc=0)\n",
    "ax2.legend(loc=0)\n",
    "ax.grid()\n",
    "plt.show()\n",
    "#PLOT SERIE A1 E A2"
   ]
  }
 ],
 "metadata": {},
 "nbformat": 4,
 "nbformat_minor": 5
}
