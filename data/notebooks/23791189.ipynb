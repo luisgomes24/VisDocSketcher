{
 "cells": [
  {
   "cell_type": "markdown",
   "id": "09bd099d",
   "metadata": {},
   "source": [
    "<h1 style=\"text-align:center;font-size:64px;background-color:Cyan;color:Magenta;padding:20px;\">Forza Horizon 5 Cars </h1>\n",
    "\n"
   ]
  },
  {
   "cell_type": "markdown",
   "id": "170f4a62",
   "metadata": {},
   "source": [
    "<img src= \"https://external-content.duckduckgo.com/iu/?u=https%3A%2F%2Fi.playground.ru%2Fp%2FlEbHDSDHPScVOCRHvkAsig.jpeg&f=1&nofb=1\" alt =\"Cars\" style='width: 1920px;'>"
   ]
  },
  {
   "cell_type": "code",
   "execution_count": null,
   "id": "d8cc2449",
   "metadata": {},
   "outputs": [],
   "source": [
    "import math\n",
    "from PIL import Image\n",
    "import numpy as np\n",
    "import pandas as pd\n",
    "import seaborn as sns\n",
    "import matplotlib.pyplot as plt\n",
    "import sklearn.linear_model as LinearRegression\n",
    "import plotly.express as px\n",
    "from wordcloud import WordCloud, STOPWORDS, ImageColorGenerator\n",
    "from IPython.display import Image, HTML"
   ]
  },
  {
   "cell_type": "code",
   "execution_count": null,
   "id": "7e17325a",
   "metadata": {},
   "outputs": [],
   "source": [
    "df = pd.read_csv('../input/addsuhjk/Froza_Horizon_Cars.csv')\n",
    "def path_to_image_html(path):\n",
    "    return '<img src=\"'+ path + '\" style=max-height:124px;\"/>'\n",
    "HTML(df.to_html(escape=False ,formatters=dict(Car_Image=path_to_image_html)))"
   ]
  },
  {
   "cell_type": "code",
   "execution_count": null,
   "id": "d588bdf2",
   "metadata": {},
   "outputs": [],
   "source": [
    "df.info()"
   ]
  },
  {
   "cell_type": "code",
   "execution_count": null,
   "id": "430e8323",
   "metadata": {},
   "outputs": [],
   "source": [
    "df.columns"
   ]
  },
  {
   "cell_type": "code",
   "execution_count": null,
   "id": "67c75af9",
   "metadata": {},
   "outputs": [],
   "source": [
    "df1 = df[['In_Game_Price','handling','acceleration','speed']]\n",
    "df1"
   ]
  },
  {
   "cell_type": "code",
   "execution_count": null,
   "id": "973b2cb1",
   "metadata": {},
   "outputs": [],
   "source": [
    "(df1 == 'info_not_found').sum(axis=0)"
   ]
  },
  {
   "cell_type": "code",
   "execution_count": null,
   "id": "68fe2d98",
   "metadata": {},
   "outputs": [],
   "source": [
    "df1 = df1.replace(to_replace ='info_not_found',\n",
    "                 value ='0')\n",
    "(df1 == 'info_not_found').sum(axis=0)"
   ]
  },
  {
   "cell_type": "code",
   "execution_count": null,
   "id": "972454f0",
   "metadata": {},
   "outputs": [],
   "source": [
    "df1.dtypes"
   ]
  },
  {
   "cell_type": "code",
   "execution_count": null,
   "id": "1c87c903",
   "metadata": {},
   "outputs": [],
   "source": [
    "df1['In_Game_Price'] = df1['In_Game_Price'].str.replace(\",\",\"\")\n",
    "df1 = df1.astype({'In_Game_Price':float,'handling':float,'acceleration':float,'speed':float,})\n",
    "df1.head()"
   ]
  },
  {
   "cell_type": "code",
   "execution_count": null,
   "id": "e425f3be",
   "metadata": {},
   "outputs": [],
   "source": [
    "df1.corr()"
   ]
  },
  {
   "cell_type": "code",
   "execution_count": null,
   "id": "d9c45063",
   "metadata": {},
   "outputs": [],
   "source": [
    "sns.heatmap(df1.corr(), vmax = 1, linewidths = 1)\n",
    "plt.title('Correlation', fontsize = 15, pad = 12)\n",
    "plt.show()"
   ]
  },
  {
   "cell_type": "markdown",
   "id": "94cef4a7",
   "metadata": {},
   "source": [
    "## `Lets Find the Car Models with Top Specs and Display them`"
   ]
  },
  {
   "cell_type": "code",
   "execution_count": null,
   "id": "ecc59f1a",
   "metadata": {},
   "outputs": [],
   "source": [
    "#df1.sort_values(by=['In_Game_Price'],inplace=True,ascending=False)\n",
    "df1.sort_values(by=['speed'],inplace=True,ascending=False)\n",
    "df1.sort_values(by=['acceleration'],inplace=True,ascending=False)\n",
    "df1.sort_values(by=['handling'],inplace=True,ascending=False)\n",
    "df1"
   ]
  },
  {
   "cell_type": "code",
   "execution_count": null,
   "id": "359bc7c1",
   "metadata": {},
   "outputs": [],
   "source": [
    "top_cars = df1.head(10).index\n",
    "list(top_cars)"
   ]
  },
  {
   "cell_type": "markdown",
   "id": "fc1de02d",
   "metadata": {},
   "source": [
    "<h1 style=\"text-align:center;font-size:24px;background-color:Cyan;color:Magenta;padding:20px;\">Top 10 Easy 2 Handle Cars(For Beginners) </h1>"
   ]
  },
  {
   "cell_type": "code",
   "execution_count": null,
   "id": "1863e360",
   "metadata": {},
   "outputs": [],
   "source": [
    "df2 = df.iloc[top_cars]\n",
    "def path_to_image_html(path):\n",
    "    return '<img src=\"'+ path + '\" style=max-height:124px;\"/>'\n",
    "HTML(df2.to_html(escape=False ,formatters=dict(Car_Image=path_to_image_html)))"
   ]
  },
  {
   "cell_type": "markdown",
   "id": "b7649110",
   "metadata": {},
   "source": [
    "nan"
   ]
  },
  {
   "cell_type": "code",
   "execution_count": null,
   "id": "9bb44cb1",
   "metadata": {},
   "outputs": [],
   "source": [
    "df1.sort_values(by=['handling'],inplace=True,ascending=False)\n",
    "df1.sort_values(by=['acceleration'],inplace=True,ascending=False)\n",
    "df1.sort_values(by=['speed'],inplace=True,ascending=False)\n",
    "df1"
   ]
  },
  {
   "cell_type": "code",
   "execution_count": null,
   "id": "0f504f57",
   "metadata": {},
   "outputs": [],
   "source": [
    "top_cars = df1.head(10).index\n",
    "list(top_cars)"
   ]
  },
  {
   "cell_type": "markdown",
   "id": "fa0295f7",
   "metadata": {},
   "source": [
    "<h1 style=\"text-align:center;font-size:24px;background-color:Cyan;color:Magenta;padding:20px;\">Top 10 High Speed Cars(For Pros) </h1>"
   ]
  },
  {
   "cell_type": "code",
   "execution_count": null,
   "id": "b277ed4a",
   "metadata": {},
   "outputs": [],
   "source": [
    "df3 = df.iloc[top_cars]\n",
    "def path_to_image_html(path):\n",
    "    return '<img src=\"'+ path + '\" style=max-height:124px;\"/>'\n",
    "HTML(df3.to_html(escape=False ,formatters=dict(Car_Image=path_to_image_html)))"
   ]
  }
 ],
 "metadata": {},
 "nbformat": 4,
 "nbformat_minor": 5
}
