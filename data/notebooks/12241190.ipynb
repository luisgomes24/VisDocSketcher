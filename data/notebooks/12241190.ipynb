{
 "cells": [
  {
   "cell_type": "markdown",
   "id": "89cb620e",
   "metadata": {},
   "source": [
    "# bluemarble and etopo in [Cartopy](https://scitools.org.uk/cartopy/docs/latest/index.html)\n",
    "The original [Matplotlib Basemap Toolkit](https://matplotlib.org/basemap/index.html) had a number of [map backgrounds](https://matplotlib.org/basemap/users/geography.html) (see also the [tutorial](https://basemaptutorial.readthedocs.io/en/latest/backgrounds.html)). Among the options were:\n",
    "* `bluemarble()`: draw a [NASA Blue Marble image](https://neo.sci.gsfc.nasa.gov/view.php?datasetId=BlueMarbleNG-TB) as a map background.\n",
    "* `shadedrelief()`: draw a [shaded relief](http://www.shadedrelief.com/) image as a map background.\n",
    "* `etopo()`: draw an [etopo](https://www.ngdc.noaa.gov/mgg/global/global.html) relief image as map background.\n",
    "\n",
    "In 2016 Basemap was replaced by [Cartopy](https://scitools.org.uk/cartopy/docs/latest/index.html) and [Basemap reached its EoL this year](https://matplotlib.org/basemap/users/intro.html#deprecation-notice) (2020).\n",
    "However, the [Cartopy](https://scitools.org.uk/cartopy/docs/latest/index.html) package only comes with the shaded relief (`stock_img`). Here we show how to also draw a `bluemarble()` and an `etopo()` with Cartopy using png images from the kaggel dataset [Global Earth map images](https://www.kaggle.com/carlmcbrideellis/global-earth-map-images). We use [matplotlib.pyplot.imread](https://matplotlib.org/api/_as_gen/matplotlib.pyplot.imread.html) to do this."
   ]
  },
  {
   "cell_type": "markdown",
   "id": "668b450c",
   "metadata": {},
   "source": [
    "# bluemarble and etopo in [Cartopy](https://scitools.org.uk/cartopy/docs/latest/index.html)\n",
    "The original [Matplotlib Basemap Toolkit](https://matplotlib.org/basemap/index.html) had a number of [map backgrounds](https://matplotlib.org/basemap/users/geography.html) (see also the [tutorial](https://basemaptutorial.readthedocs.io/en/latest/backgrounds.html)). Among the options were:\n",
    "* `bluemarble()`: draw a [NASA Blue Marble image](https://neo.sci.gsfc.nasa.gov/view.php?datasetId=BlueMarbleNG-TB) as a map background.\n",
    "* `shadedrelief()`: draw a [shaded relief](http://www.shadedrelief.com/) image as a map background.\n",
    "* `etopo()`: draw an [etopo](https://www.ngdc.noaa.gov/mgg/global/global.html) relief image as map background.\n",
    "\n",
    "In 2016 Basemap was replaced by [Cartopy](https://scitools.org.uk/cartopy/docs/latest/index.html) and [Basemap reached its EoL this year](https://matplotlib.org/basemap/users/intro.html#deprecation-notice) (2020).\n",
    "However, the [Cartopy](https://scitools.org.uk/cartopy/docs/latest/index.html) package only comes with the shaded relief (`stock_img`). Here we show how to also draw a `bluemarble()` and an `etopo()` with Cartopy using png images from the kaggel dataset [Global Earth map images](https://www.kaggle.com/carlmcbrideellis/global-earth-map-images). We use [matplotlib.pyplot.imread](https://matplotlib.org/api/_as_gen/matplotlib.pyplot.imread.html) to do this."
   ]
  },
  {
   "cell_type": "code",
   "execution_count": null,
   "id": "727f6625",
   "metadata": {},
   "outputs": [],
   "source": [
    "import matplotlib.pyplot as plt\n",
    "import cartopy.crs as ccrs"
   ]
  },
  {
   "cell_type": "code",
   "execution_count": null,
   "id": "8fbfe1e3",
   "metadata": {},
   "outputs": [],
   "source": [
    "import matplotlib.pyplot as plt\n",
    "import cartopy.crs as ccrs"
   ]
  },
  {
   "cell_type": "markdown",
   "id": "85812eaa",
   "metadata": {},
   "source": [
    "# The Cartopy stock_img (shaded relief)"
   ]
  },
  {
   "cell_type": "markdown",
   "id": "e74e4fe1",
   "metadata": {},
   "source": [
    "# The Cartopy stock_img (shaded relief)"
   ]
  },
  {
   "cell_type": "code",
   "execution_count": null,
   "id": "0a758eb9",
   "metadata": {},
   "outputs": [],
   "source": [
    "fig = plt.figure(figsize=(30, 5))\n",
    "ax = fig.add_subplot(1, 1, 1, projection=ccrs.PlateCarree())\n",
    "ax.set_title('stock_img (shaded relief)', fontsize = 20) \n",
    "ax.stock_img()\n",
    "plt.show()"
   ]
  },
  {
   "cell_type": "code",
   "execution_count": null,
   "id": "ead12d77",
   "metadata": {},
   "outputs": [],
   "source": [
    "fig = plt.figure(figsize=(30, 5))\n",
    "ax = fig.add_subplot(1, 1, 1, projection=ccrs.PlateCarree())\n",
    "ax.set_title('stock_img (shaded relief)', fontsize = 20) \n",
    "ax.stock_img()\n",
    "plt.show()"
   ]
  },
  {
   "cell_type": "markdown",
   "id": "c61e48f3",
   "metadata": {},
   "source": [
    "# bluemarble"
   ]
  },
  {
   "cell_type": "markdown",
   "id": "d1d8e538",
   "metadata": {},
   "source": [
    "# bluemarble"
   ]
  },
  {
   "cell_type": "code",
   "execution_count": null,
   "id": "250d82e0",
   "metadata": {},
   "outputs": [],
   "source": [
    "fig = plt.figure(figsize=(20, 5))\n",
    "ax = fig.add_subplot(1, 1, 1, projection=ccrs.PlateCarree())\n",
    "ax.set_title('bluemarble', fontsize = 20) \n",
    "img = plt.imread('../input/global-earth-map-images/bluemarble.png')\n",
    "img_extent = (-180, 180, -90, 90)\n",
    "ax.imshow(img, origin='upper', extent=img_extent, transform=ccrs.PlateCarree())\n",
    "plt.show()"
   ]
  },
  {
   "cell_type": "code",
   "execution_count": null,
   "id": "5fb8206e",
   "metadata": {},
   "outputs": [],
   "source": [
    "fig = plt.figure(figsize=(20, 5))\n",
    "ax = fig.add_subplot(1, 1, 1, projection=ccrs.PlateCarree())\n",
    "ax.set_title('bluemarble', fontsize = 20) \n",
    "img = plt.imread('../input/global-earth-map-images/bluemarble.png')\n",
    "img_extent = (-180, 180, -90, 90)\n",
    "ax.imshow(img, origin='upper', extent=img_extent, transform=ccrs.PlateCarree())\n",
    "plt.show()"
   ]
  },
  {
   "cell_type": "markdown",
   "id": "d33acdf2",
   "metadata": {},
   "source": [
    "# etopo"
   ]
  },
  {
   "cell_type": "markdown",
   "id": "c34f9c38",
   "metadata": {},
   "source": [
    "# etopo"
   ]
  },
  {
   "cell_type": "code",
   "execution_count": null,
   "id": "928c8c89",
   "metadata": {},
   "outputs": [],
   "source": [
    "fig = plt.figure(figsize=(20, 5))\n",
    "ax = fig.add_subplot(1, 1, 1, projection=ccrs.PlateCarree())\n",
    "ax.set_title('etopo', fontsize = 20) \n",
    "img = plt.imread('../input/global-earth-map-images/etopo.png')\n",
    "img_extent = (-180, 180, -90, 90)\n",
    "ax.imshow(img, origin='upper', extent=img_extent, transform=ccrs.PlateCarree())\n",
    "plt.show()"
   ]
  },
  {
   "cell_type": "code",
   "execution_count": null,
   "id": "b8b3f58f",
   "metadata": {},
   "outputs": [],
   "source": [
    "fig = plt.figure(figsize=(20, 5))\n",
    "ax = fig.add_subplot(1, 1, 1, projection=ccrs.PlateCarree())\n",
    "ax.set_title('etopo', fontsize = 20) \n",
    "img = plt.imread('../input/global-earth-map-images/etopo.png')\n",
    "img_extent = (-180, 180, -90, 90)\n",
    "ax.imshow(img, origin='upper', extent=img_extent, transform=ccrs.PlateCarree())\n",
    "plt.show()"
   ]
  }
 ],
 "metadata": {},
 "nbformat": 4,
 "nbformat_minor": 5
}
