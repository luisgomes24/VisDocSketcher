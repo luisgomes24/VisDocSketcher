{
 "cells": [
  {
   "cell_type": "markdown",
   "id": "e82d8948",
   "metadata": {},
   "source": [
    "As the train data is complete, and interactions of users are arranged chronologically. Unlike totally shuffle, I thought it would be one way to split train/valid data userwise as follows:"
   ]
  },
  {
   "cell_type": "code",
   "execution_count": null,
   "id": "ba5bfda9",
   "metadata": {},
   "outputs": [],
   "source": [
    "import numpy as np\n",
    "import pandas as pd"
   ]
  },
  {
   "cell_type": "markdown",
   "id": "bff43f87",
   "metadata": {},
   "source": [
    "Load train.csv"
   ]
  },
  {
   "cell_type": "code",
   "execution_count": null,
   "id": "99ec4088",
   "metadata": {},
   "outputs": [],
   "source": [
    "train_dtypes_dict = {\n",
    "    \"row_id\": \"int64\",\n",
    "    \"timestamp\": \"int64\",\n",
    "    \"user_id\": \"int32\",\n",
    "    \"content_id\": \"int16\",\n",
    "    \"content_type_id\": \"int8\",\n",
    "    #\"task_container_id\": \"int16\",\n",
    "    #\"user_answer\": \"int8\",\n",
    "    \"answered_correctly\": \"int8\",\n",
    "    #\"prior_question_elapsed_time\": \"float32\", \n",
    "    #\"prior_question_had_explanation\": \"boolean\"\n",
    "}\n",
    "\n",
    "data = pd.read_csv(\"../input/riiid-test-answer-prediction/train.csv\",\n",
    "                         nrows=10**5, #how many rows to read\n",
    "                         usecols = train_dtypes_dict.keys(),\n",
    "                         dtype=train_dtypes_dict,\n",
    "                        )"
   ]
  },
  {
   "cell_type": "markdown",
   "id": "45a52740",
   "metadata": {},
   "source": [
    "Choose question type interaction only if you want."
   ]
  },
  {
   "cell_type": "code",
   "execution_count": null,
   "id": "7636de4a",
   "metadata": {},
   "outputs": [],
   "source": [
    "data_q = data[data.content_type_id == 0]\n",
    "data_q.head()"
   ]
  },
  {
   "cell_type": "markdown",
   "id": "cc17b17c",
   "metadata": {},
   "source": [
    "Get users and their interaction counts"
   ]
  },
  {
   "cell_type": "code",
   "execution_count": null,
   "id": "c0bf7fd5",
   "metadata": {},
   "outputs": [],
   "source": [
    "users_i_counts = data_q.user_id.value_counts()\n",
    "user_list = users_i_counts.keys()\n",
    "print(user_list[:5])\n",
    "print(users_i_counts.head())"
   ]
  },
  {
   "cell_type": "markdown",
   "id": "b1b16a22",
   "metadata": {},
   "source": [
    "Choose how many users you want to train depending on their interaction counts. For example, if you want interaction counts greater than 6000, you can choose the first two users in user_list. And valid_num below controls how many valid data you want."
   ]
  },
  {
   "cell_type": "code",
   "execution_count": null,
   "id": "be6dba53",
   "metadata": {},
   "outputs": [],
   "source": [
    "user_num = 2 #control how many user to train\n",
    "valid_num = 2 #control how many valid data to keep\n",
    "train_data = pd.concat([data_q[data_q.user_id==u][:-valid_num] for u in user_list[:user_num]], axis=0)\n",
    "valid_data = pd.concat([data_q[data_q.user_id==u][-valid_num:] for u in user_list[:user_num]], axis=0)"
   ]
  },
  {
   "cell_type": "code",
   "execution_count": null,
   "id": "bdf39a9d",
   "metadata": {},
   "outputs": [],
   "source": [
    "train_data"
   ]
  },
  {
   "cell_type": "code",
   "execution_count": null,
   "id": "179bfeb8",
   "metadata": {},
   "outputs": [],
   "source": [
    "valid_data"
   ]
  },
  {
   "cell_type": "markdown",
   "id": "b93a271d",
   "metadata": {},
   "source": [
    "Check where different users separate in train_data"
   ]
  },
  {
   "cell_type": "code",
   "execution_count": null,
   "id": "59077976",
   "metadata": {},
   "outputs": [],
   "source": [
    "train_data[7472:7476]"
   ]
  },
  {
   "cell_type": "markdown",
   "id": "bf0d7702",
   "metadata": {},
   "source": [
    "So as you can see, valid data always come after train data. It's a time-aware userwise train-valid-split method."
   ]
  }
 ],
 "metadata": {},
 "nbformat": 4,
 "nbformat_minor": 5
}
