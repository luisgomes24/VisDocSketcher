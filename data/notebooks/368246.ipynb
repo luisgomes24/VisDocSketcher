{
 "cells": [
  {
   "cell_type": "code",
   "execution_count": null,
   "id": "f2ff212f",
   "metadata": {},
   "outputs": [],
   "source": [
    "# This Python 3 environment comes with many helpful analytics libraries installed\n",
    "# It is defined by the kaggle/python docker image: https://github.com/kaggle/docker-python\n",
    "# For example, here's several helpful packages to load in \n",
    "\n",
    "import numpy as np # linear algebra\n",
    "import pandas as pd # data processing, CSV file I/O (e.g. pd.read_csv)\n",
    "\n",
    "import matplotlib.pyplot as plt\n",
    "%matplotlib inline\n",
    "\n",
    "import seaborn as sns\n",
    "sns.set_style('whitegrid')\n",
    "# Input data files are available in the \"../input/\" directory.\n",
    "# For example, running this (by clicking run or pressing Shift+Enter) will list the files in the input directory\n",
    "\n",
    "from subprocess import check_output\n",
    "print(check_output([\"ls\", \"../input\"]).decode(\"utf8\"))\n",
    "\n",
    "# Any results you write to the current directory are saved as output."
   ]
  },
  {
   "cell_type": "code",
   "execution_count": null,
   "id": "63d844fe",
   "metadata": {},
   "outputs": [],
   "source": [
    "titanic_df = pd.read_csv('../input/train.csv')\n",
    "titanic_df.head()"
   ]
  },
  {
   "cell_type": "code",
   "execution_count": null,
   "id": "e416f206",
   "metadata": {},
   "outputs": [],
   "source": [
    "titanic_df.tail()"
   ]
  },
  {
   "cell_type": "code",
   "execution_count": null,
   "id": "3a958282",
   "metadata": {},
   "outputs": [],
   "source": [
    "titanic_df.info()"
   ]
  },
  {
   "cell_type": "markdown",
   "id": "710f53b2",
   "metadata": {},
   "source": [
    "### How many passengers where on board?  \n",
    "\n",
    "Can we answer this question without any further programming?"
   ]
  },
  {
   "cell_type": "markdown",
   "id": "c5e43d32",
   "metadata": {},
   "source": [
    "### How many passengers did survive?"
   ]
  },
  {
   "cell_type": "code",
   "execution_count": null,
   "id": "eb44c3bc",
   "metadata": {},
   "outputs": [],
   "source": [
    "ax = sns.countplot(x=\"Survived\", data=titanic_df)"
   ]
  },
  {
   "cell_type": "markdown",
   "id": "4cb623c4",
   "metadata": {},
   "source": [
    "### How many male/female were on board?"
   ]
  },
  {
   "cell_type": "code",
   "execution_count": null,
   "id": "f45f1a2d",
   "metadata": {},
   "outputs": [],
   "source": [
    "ax = sns.countplot(x=\"Sex\", data=titanic_df,palette=\"muted\")"
   ]
  },
  {
   "cell_type": "markdown",
   "id": "b6f05509",
   "metadata": {},
   "source": [
    "### How passegers where distributed between classes?"
   ]
  },
  {
   "cell_type": "code",
   "execution_count": null,
   "id": "2df222e6",
   "metadata": {},
   "outputs": [],
   "source": [
    "ax = sns.countplot(x=\"Pclass\", data=titanic_df,palette=\"muted\")"
   ]
  },
  {
   "cell_type": "markdown",
   "id": "0edef5e8",
   "metadata": {},
   "source": [
    "### How were male/female passengers distributed between classes?"
   ]
  },
  {
   "cell_type": "code",
   "execution_count": null,
   "id": "d3ef4059",
   "metadata": {},
   "outputs": [],
   "source": [
    "g = sns.factorplot(x=\"Pclass\", hue=\"Sex\", kind=\"count\",\n",
    "                   data=titanic_df,size=6,palette=\"muted\")\n",
    "g.set_ylabels(\"Number of Passengers\")"
   ]
  },
  {
   "cell_type": "markdown",
   "id": "d14e0751",
   "metadata": {},
   "source": [
    "### How many passenger survived in each class?"
   ]
  },
  {
   "cell_type": "code",
   "execution_count": null,
   "id": "4838f835",
   "metadata": {},
   "outputs": [],
   "source": [
    "g = sns.factorplot(x=\"Pclass\", hue=\"Survived\", kind=\"count\",\n",
    "                   data=titanic_df,size=6,palette=\"muted\")\n",
    "g.set_ylabels(\"Number of Passengers\")"
   ]
  },
  {
   "cell_type": "markdown",
   "id": "28ae67de",
   "metadata": {},
   "source": [
    "### How many male/female survived?"
   ]
  },
  {
   "cell_type": "code",
   "execution_count": null,
   "id": "4b6156a8",
   "metadata": {},
   "outputs": [],
   "source": [
    "g = sns.factorplot(x=\"Sex\", hue=\"Survived\", kind=\"count\",\n",
    "                   data=titanic_df,size=6,palette=\"muted\")\n",
    "g.set_ylabels(\"Number of Passengers\")"
   ]
  },
  {
   "cell_type": "markdown",
   "id": "f8fd22f5",
   "metadata": {},
   "source": [
    "### What is the survival probability for each sex, given the class?\n"
   ]
  },
  {
   "cell_type": "code",
   "execution_count": null,
   "id": "2c77af4e",
   "metadata": {},
   "outputs": [],
   "source": [
    "g = sns.factorplot(x=\"Sex\", y=\"Survived\",hue=\"Pclass\", kind=\"bar\",\n",
    "                   data=titanic_df,size=6,palette=\"muted\")\n",
    "g.set_ylabels(\"Survival Probability\")"
   ]
  },
  {
   "cell_type": "markdown",
   "id": "8ed840a8",
   "metadata": {},
   "source": [
    "### There were 3 ports of embarcation: what's the survival probability based on embarcation port?"
   ]
  },
  {
   "cell_type": "code",
   "execution_count": null,
   "id": "9ebe9aee",
   "metadata": {},
   "outputs": [],
   "source": [
    "# only in titanic_df, fill the two missing values with the most occurred value, which is \"S\".\n",
    "titanic_df[\"Embarked\"] = titanic_df[\"Embarked\"].fillna(\"S\")\n",
    "g = sns.factorplot(x=\"Embarked\", y=\"Survived\", data=titanic_df,\n",
    "                   size=8, kind=\"bar\")\n",
    "g.set_ylabels(\"Survival Probability\")"
   ]
  },
  {
   "cell_type": "markdown",
   "id": "866b7564",
   "metadata": {},
   "source": [
    "### What's the survival probability based on embarcation port, given the class?"
   ]
  },
  {
   "cell_type": "code",
   "execution_count": null,
   "id": "e842a690",
   "metadata": {},
   "outputs": [],
   "source": [
    "# only in titanic_df, fill the two missing values with the most occurred value, which is \"S\".\n",
    "titanic_df[\"Embarked\"] = titanic_df[\"Embarked\"].fillna(\"S\")\n",
    "g = sns.factorplot(x=\"Embarked\", y=\"Survived\", hue='Pclass',data=titanic_df,\n",
    "                   size=8, kind=\"bar\")\n",
    "g.set_ylabels(\"survival probability\")\n"
   ]
  },
  {
   "cell_type": "markdown",
   "id": "541bdb4b",
   "metadata": {},
   "source": [
    "### What's the survival probability based on embarcation port, given the sex?"
   ]
  },
  {
   "cell_type": "code",
   "execution_count": null,
   "id": "cf8992e5",
   "metadata": {},
   "outputs": [],
   "source": [
    "# only in titanic_df, fill the two missing values with the most occurred value, which is \"S\".\n",
    "titanic_df[\"Embarked\"] = titanic_df[\"Embarked\"].fillna(\"S\")\n",
    "g = sns.factorplot(x=\"Embarked\", y=\"Survived\", hue='Sex',data=titanic_df,\n",
    "                   size=8, kind=\"bar\")\n",
    "g.set_ylabels(\"survival probability\")"
   ]
  },
  {
   "cell_type": "markdown",
   "id": "f55d78bf",
   "metadata": {},
   "source": [
    "### What is the age distribution of passengers?"
   ]
  },
  {
   "cell_type": "code",
   "execution_count": null,
   "id": "b1fa3479",
   "metadata": {},
   "outputs": [],
   "source": [
    "titanic_df = pd.read_csv('../input/train.csv')\n",
    "titanic_df[\"Age\"] = titanic_df[\"Age\"].astype(str).map(lambda l: l.split(',')[0]).astype(float)\n",
    "titanic_df[\"Age\"] = titanic_df[\"Age\"].fillna(100)\n",
    "# We can try this too \n",
    "#titanic_df[\"Age\"] = titanic_df[\"Age\"].fillna(0)\n",
    "# ... or this\n",
    "#titanic_df[\"Age\"] = titanic_df[\"Age\"].fillna(titanic_df[\"Age\"].median())\n",
    "\n",
    "kde_value = True\n",
    "plt.figure(211)\n",
    "sns.distplot(titanic_df[\"Age\"],kde=kde_value)\n",
    "plt.figure(212)\n",
    "sns.kdeplot(titanic_df[\"Age\"],shade=True)"
   ]
  },
  {
   "cell_type": "markdown",
   "id": "ca395f6e",
   "metadata": {},
   "source": [
    "### What is the fare distribution?"
   ]
  },
  {
   "cell_type": "code",
   "execution_count": null,
   "id": "08cf18dd",
   "metadata": {},
   "outputs": [],
   "source": [
    "titanic_df = pd.read_csv('../input/train.csv')\n",
    "titanic_df[\"Fare\"] = titanic_df[\"Fare\"].astype(str).map(lambda l: l.split(',')[0]).astype(float)\n",
    "titanic_df[\"Fare\"] = titanic_df[\"Fare\"].fillna(1000)\n",
    "# ... again\n",
    "#titanic_df[\"Fare\"] = titanic_df[\"Fare\"].fillna(0)\n",
    "#titanic_df[\"Fare\"] = titanic_df[\"Fare\"].fillna(titanic_df[\"fare\"].median())\n",
    "kde_value = True\n",
    "plt.figure(211)\n",
    "sns.distplot(titanic_df[\"Fare\"],kde=kde_value)\n",
    "plt.figure(212)\n",
    "sns.kdeplot(titanic_df[\"Fare\"],shade=True)"
   ]
  },
  {
   "cell_type": "markdown",
   "id": "6a6b59cb",
   "metadata": {},
   "source": [
    "### Can we show both fare and age?"
   ]
  },
  {
   "cell_type": "code",
   "execution_count": null,
   "id": "fc5208fa",
   "metadata": {},
   "outputs": [],
   "source": [
    "titanic_df = pd.read_csv('../input/train.csv')\n",
    "\n",
    "var = \"Age\"\n",
    "titanic_df[var] = titanic_df[var].astype(str).map(lambda l: l.split(',')[0]).astype(float)\n",
    "titanic_df[var] = titanic_df[var].fillna(100)\n",
    "#titanic_df[var] = titanic_df[var].fillna(0)\n",
    "#titanic_df[var] = titanic_df[var].fillna(titanic_df[var].median())\n",
    "\n",
    "var = \"Fare\"\n",
    "titanic_df[var] = titanic_df[var].astype(str).map(lambda l: l.split(',')[0]).astype(float)\n",
    "titanic_df[var] = titanic_df[var].fillna(1000)\n",
    "#titanic_df[var] = titanic_df[var].fillna(0)\n",
    "#titanic_df[var] = titanic_df[var].fillna(titanic_df[var].median())\n",
    "\n",
    "sns.jointplot(x=\"Age\", y=\"Fare\", data=titanic_df)"
   ]
  },
  {
   "cell_type": "markdown",
   "id": "55f21560",
   "metadata": {},
   "source": [
    "> ### How could we know more about people in the cabins?"
   ]
  },
  {
   "cell_type": "code",
   "execution_count": null,
   "id": "747c9691",
   "metadata": {},
   "outputs": [],
   "source": [
    "titanic_df = pd.read_csv('../input/train.csv')\n",
    "\n",
    "titanic_df = titanic_df.dropna(subset = ['Cabin','Age','Embarked','Fare'])\n",
    "survived = titanic_df[titanic_df['Survived']==1]\n",
    "cabins_survived  = np.sort(np.unique(survived['Cabin']))\n",
    "dead = titanic_df[titanic_df['Survived']==0]\n",
    "cabins_dead  = np.sort(np.unique(dead['Cabin']))\n",
    "cabins  = np.sort(np.unique(titanic_df['Cabin']))\n",
    "print(cabins)"
   ]
  },
  {
   "cell_type": "code",
   "execution_count": null,
   "id": "2d9c2b2a",
   "metadata": {},
   "outputs": [],
   "source": [
    "\n",
    "people_in_the_cabin = titanic_df[titanic_df['Cabin']=='G6']\n",
    "\n",
    "people_in_the_cabin\n"
   ]
  },
  {
   "cell_type": "code",
   "execution_count": null,
   "id": "c6278eda",
   "metadata": {},
   "outputs": [],
   "source": [
    "full_saved_family = titanic_df[titanic_df['Cabin']=='B96 B98']\n",
    "\n",
    "full_saved_family"
   ]
  },
  {
   "cell_type": "markdown",
   "id": "de9eb529",
   "metadata": {},
   "source": [
    "1. #### .... how would you proceed from now on?"
   ]
  },
  {
   "cell_type": "markdown",
   "id": "04bb9eb6",
   "metadata": {},
   "source": [
    "***"
   ]
  }
 ],
 "metadata": {},
 "nbformat": 4,
 "nbformat_minor": 5
}
