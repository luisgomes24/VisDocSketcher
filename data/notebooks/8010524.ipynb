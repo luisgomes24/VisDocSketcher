{
 "cells": [
  {
   "cell_type": "code",
   "execution_count": null,
   "id": "92f40df8",
   "metadata": {},
   "outputs": [],
   "source": [
    "# This Python 3 environment comes with many helpful analytics libraries installed\n",
    "# It is defined by the kaggle/python docker image: https://github.com/kaggle/docker-python\n",
    "# For example, here's several helpful packages to load in \n",
    "\n",
    "import numpy as np # linear algebra\n",
    "import pandas as pd # data processing, CSV file I/O (e.g. pd.read_csv)\n",
    "\n",
    "# Input data files are available in the \"../input/\" directory.\n",
    "# For example, running this (by clicking run or pressing Shift+Enter) will list all files under the input directory\n",
    "\n",
    "import os\n",
    "for dirname, _, filenames in os.walk('/kaggle/input'):\n",
    "    for filename in filenames:\n",
    "        print(os.path.join(dirname, filename))\n",
    "\n",
    "# Any results you write to the current directory are saved as output."
   ]
  },
  {
   "cell_type": "code",
   "execution_count": null,
   "id": "c04a7704",
   "metadata": {},
   "outputs": [],
   "source": [
    "farm_ads = pd.read_csv('/kaggle/input/farm-ads-binary-classification/farm-ads',sep = \" \",error_bad_lines=False,header=None)\n",
    "farm_vect = pd.read_csv('/kaggle/input/farm-ads-binary-classification/farm-ads-vect',sep = \" \",error_bad_lines=False,header=None)"
   ]
  },
  {
   "cell_type": "code",
   "execution_count": null,
   "id": "7bdeda47",
   "metadata": {},
   "outputs": [],
   "source": [
    "farm_ads"
   ]
  },
  {
   "cell_type": "code",
   "execution_count": null,
   "id": "c94e6a77",
   "metadata": {},
   "outputs": [],
   "source": [
    "farm_vect"
   ]
  },
  {
   "cell_type": "code",
   "execution_count": null,
   "id": "7a03c862",
   "metadata": {},
   "outputs": [],
   "source": [
    "data = farm_ads.merge(farm_vect,right_index = True,left_index = True)"
   ]
  },
  {
   "cell_type": "code",
   "execution_count": null,
   "id": "6534e18e",
   "metadata": {},
   "outputs": [],
   "source": [
    "data"
   ]
  },
  {
   "cell_type": "code",
   "execution_count": null,
   "id": "efcc9784",
   "metadata": {},
   "outputs": [],
   "source": [
    "from sklearn import preprocessing\n",
    "from sklearn.ensemble import RandomForestClassifier\n",
    "from sklearn.model_selection import train_test_split\n",
    "from sklearn.metrics import mean_squared_error\n",
    "from sklearn.model_selection import RandomizedSearchCV\n",
    "from sklearn.linear_model import LinearRegression\n",
    "from sklearn.linear_model import Lasso\n",
    "from sklearn.linear_model import ElasticNet\n",
    "from sklearn.tree import DecisionTreeRegressor\n",
    "from sklearn.neighbors import KNeighborsRegressor\n",
    "from sklearn.ensemble import GradientBoostingRegressor\n",
    "from sklearn import linear_model\n",
    "from sklearn import svm\n",
    "from sklearn import tree\n",
    "import xgboost as xgb\n",
    "from sklearn.ensemble import BaggingRegressor\n",
    "import numpy as np \n",
    "import pandas as pd \n",
    "import random"
   ]
  },
  {
   "cell_type": "code",
   "execution_count": null,
   "id": "3f729e8f",
   "metadata": {},
   "outputs": [],
   "source": [
    "le = preprocessing.LabelEncoder()\n",
    "for name in data.columns:\n",
    "    if data[name].dtypes == \"O\":\n",
    "        print(name)\n",
    "        data[name] = data[name].astype(str)\n",
    "        le.fit(data[name])\n",
    "        data[name] = le.transform(data[name])"
   ]
  },
  {
   "cell_type": "code",
   "execution_count": null,
   "id": "14ba91ce",
   "metadata": {},
   "outputs": [],
   "source": [
    "data['target'] = data['0_x'] + data['0_y']"
   ]
  },
  {
   "cell_type": "code",
   "execution_count": null,
   "id": "560a6465",
   "metadata": {},
   "outputs": [],
   "source": [
    "data = data.drop(['0_x','0_y'],axis = 1)"
   ]
  },
  {
   "cell_type": "code",
   "execution_count": null,
   "id": "36f5dc71",
   "metadata": {},
   "outputs": [],
   "source": [
    "data"
   ]
  },
  {
   "cell_type": "code",
   "execution_count": null,
   "id": "65e08cd6",
   "metadata": {},
   "outputs": [],
   "source": [
    "X = data.drop('target',axis = 1)\n",
    "y = data['target']"
   ]
  },
  {
   "cell_type": "code",
   "execution_count": null,
   "id": "60c821da",
   "metadata": {},
   "outputs": [],
   "source": [
    "X_train, X_test, y_train, y_test = train_test_split(X, y, test_size=0.33, random_state=42)"
   ]
  },
  {
   "cell_type": "code",
   "execution_count": null,
   "id": "020ba970",
   "metadata": {},
   "outputs": [],
   "source": [
    "clf = RandomForestClassifier(n_estimators = 400,min_samples_split = 2,min_samples_leaf = 1,max_features= 'sqrt',max_depth =None,bootstrap= False)\n",
    "clf.fit(X_train, y_train)\n",
    "\n",
    "predictions = clf.predict(X_test)"
   ]
  },
  {
   "cell_type": "code",
   "execution_count": null,
   "id": "95c7bdd7",
   "metadata": {},
   "outputs": [],
   "source": [
    "from sklearn.metrics import balanced_accuracy_score"
   ]
  },
  {
   "cell_type": "code",
   "execution_count": null,
   "id": "1e80c3ee",
   "metadata": {},
   "outputs": [],
   "source": [
    "predictions"
   ]
  },
  {
   "cell_type": "code",
   "execution_count": null,
   "id": "2700cea8",
   "metadata": {},
   "outputs": [],
   "source": [
    " balanced_accuracy_score(y_test, predictions)"
   ]
  },
  {
   "cell_type": "code",
   "execution_count": null,
   "id": "da2412fa",
   "metadata": {},
   "outputs": [],
   "source": [
    "nan"
   ]
  }
 ],
 "metadata": {},
 "nbformat": 4,
 "nbformat_minor": 5
}
