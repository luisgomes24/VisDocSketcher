{
 "cells": [
  {
   "cell_type": "code",
   "execution_count": null,
   "id": "4ecadd03",
   "metadata": {},
   "outputs": [],
   "source": [
    "# This Python 3 environment comes with many helpful analytics libraries installed\n",
    "# It is defined by the kaggle/python Docker image: https://github.com/kaggle/docker-python\n",
    "# For example, here's several helpful packages to load\n",
    "\n",
    "import numpy as np # linear algebra\n",
    "import pandas as pd # data processing, CSV file I/O (e.g. pd.read_csv)\n",
    "\n",
    "# Input data files are available in the read-only \"../input/\" directory\n",
    "# For example, running this (by clicking run or pressing Shift+Enter) will list all files under the input directory\n",
    "\n",
    "import os\n",
    "for dirname, _, filenames in os.walk('/kaggle/input'):\n",
    "    for filename in filenames:\n",
    "        print(os.path.join(dirname, filename))\n",
    "\n",
    "# You can write up to 20GB to the current directory (/kaggle/working/) that gets preserved as output when you create a version using \"Save & Run All\" \n",
    "# You can also write temporary files to /kaggle/temp/, but they won't be saved outside of the current session"
   ]
  },
  {
   "cell_type": "markdown",
   "id": "1938d8b9",
   "metadata": {},
   "source": [
    "![](http://www.paho.org/sites/default/files/styles/flexslider_full/public/2021-07/covid-variants-1500px.jpg?h=dd617f3c&itok=rrTfvYyg)"
   ]
  },
  {
   "cell_type": "code",
   "execution_count": null,
   "id": "14a0eb1e",
   "metadata": {},
   "outputs": [],
   "source": [
    "from tensorflow import keras\n",
    "import warnings\n",
    "warnings.filterwarnings('ignore')\n",
    "import pandas as pd\n",
    "import numpy as np\n",
    "import seaborn as sns\n",
    "import plotly.express as px\n",
    "import matplotlib.pyplot as plt\n",
    "%matplotlib inline"
   ]
  },
  {
   "cell_type": "code",
   "execution_count": null,
   "id": "895e41a4",
   "metadata": {},
   "outputs": [],
   "source": [
    "df_ = pd.read_csv(\"/kaggle/input/latest-covid19-india-statewise-data/Latest Covid-19 India Status.csv\")\n",
    "df = df_.copy()\n",
    "df"
   ]
  },
  {
   "cell_type": "code",
   "execution_count": null,
   "id": "b6f8f852",
   "metadata": {},
   "outputs": [],
   "source": [
    "df.shape"
   ]
  },
  {
   "cell_type": "code",
   "execution_count": null,
   "id": "63a0ca14",
   "metadata": {},
   "outputs": [],
   "source": [
    "df.duplicated().sum()\n"
   ]
  },
  {
   "cell_type": "code",
   "execution_count": null,
   "id": "b3853632",
   "metadata": {},
   "outputs": [],
   "source": [
    "df.info()\n"
   ]
  },
  {
   "cell_type": "markdown",
   "id": "488a1104",
   "metadata": {},
   "source": [
    "*In the correlation, we all expected that total cases and deaths & active ratio and Discharge ratio in a high correlation.*"
   ]
  },
  {
   "cell_type": "code",
   "execution_count": null,
   "id": "9b34f5c0",
   "metadata": {},
   "outputs": [],
   "source": [
    "df.corr()\n"
   ]
  },
  {
   "cell_type": "markdown",
   "id": "b3fc0e9f",
   "metadata": {},
   "source": [
    "**Let's check the unique values of dataframe**"
   ]
  },
  {
   "cell_type": "code",
   "execution_count": null,
   "id": "ef608c40",
   "metadata": {},
   "outputs": [],
   "source": [
    "\n",
    "features = [feature for feature in df.columns if feature not in ['id','State/UTs']]\n",
    "\n",
    "unique_values_train = np.zeros(2)\n",
    "for feature in features:\n",
    "    temp = df[feature].unique()\n",
    "    unique_values_train = np.concatenate([unique_values_train, temp])\n",
    "unique_values_train = np.unique(unique_values_train)\n",
    "\n",
    "unique_value_feature_train = pd.DataFrame(df[features].nunique())\n",
    "unique_value_feature_train = unique_value_feature_train.reset_index(drop=False)\n",
    "unique_value_feature_train.columns = ['Features', 'Count']\n",
    "plt.rcParams['figure.dpi'] = 600\n",
    "fig = plt.figure(figsize=(3, 6), facecolor='#f6f5f5')\n",
    "gs = fig.add_gridspec(3, 1)\n",
    "gs.update(wspace=0.4, hspace=0.1)\n",
    "\n",
    "background_color = \"#f6f5f5\"\n",
    "sns.set_palette(['#ffd514']*75)\n",
    "\n",
    "ax0 = fig.add_subplot(gs[0, 0])\n",
    "for s in [\"right\", \"top\"]:\n",
    "    ax0.spines[s].set_visible(False)\n",
    "ax0.set_facecolor(background_color)\n",
    "ax0_sns = sns.barplot(ax=ax0, y=unique_value_feature_train['Features'], x=unique_value_feature_train['Count'],\n",
    "                      zorder=2, linewidth=0, orient='h', saturation=1, alpha=1)\n",
    "ax0_sns.set_xlabel(\"Unique Values\",fontsize=4, weight='bold')\n",
    "ax0_sns.set_ylabel(\"Features\",fontsize=4, weight='bold')\n",
    "ax0_sns.tick_params(labelsize=4, width=0.5, length=1.5)\n",
    "ax0_sns.grid(which='major', axis='x', zorder=0, color='#EEEEEE', linewidth=0.4)\n",
    "ax0_sns.grid(which='major', axis='y', zorder=0, color='#EEEEEE', linewidth=0.4)\n",
    "ax0.text(0, -1.9, 'Unique Values - Train Dataset', fontsize=6, ha='left', va='top', weight='bold',bbox=dict(facecolor='none', edgecolor='black', boxstyle='round', linewidth=0.5))\n",
    "ax0.text(0, -1.2, 'Max unique values 36', fontsize=4, ha='left', va='top')\n",
    "# data label\n",
    "for p in ax0.patches:\n",
    "    value = f'{p.get_width():.0f}'\n",
    "    x = p.get_x() + p.get_width() + 1\n",
    "    y = p.get_y() + p.get_height() / 2 \n",
    "    ax0.text(x, y, value, ha='left', va='center', fontsize=4, \n",
    "            bbox=dict(facecolor='none', edgecolor='black', boxstyle='round', linewidth=0.3))\n",
    "\n",
    "ax0.set_anchor('C')  \n",
    "\n",
    "plt.show()"
   ]
  },
  {
   "cell_type": "markdown",
   "id": "e416e75f",
   "metadata": {},
   "source": [
    "> Now let's make predictions and start with lightgbm."
   ]
  },
  {
   "cell_type": "code",
   "execution_count": null,
   "id": "76cc5976",
   "metadata": {},
   "outputs": [],
   "source": [
    "df.head()"
   ]
  },
  {
   "cell_type": "markdown",
   "id": "d8d772c4",
   "metadata": {},
   "source": [
    "# Our dataset is quitely small that's why we should use more simple models. It can be more learning path for regression models."
   ]
  },
  {
   "cell_type": "code",
   "execution_count": null,
   "id": "98f6bbd8",
   "metadata": {},
   "outputs": [],
   "source": [
    "x=df.iloc[:,1:7]\n",
    "y=df[[\"Death Ratio\"]]\n",
    "from sklearn.tree import DecisionTreeRegressor\n",
    "dr = DecisionTreeRegressor()\n",
    "dr.fit(x,y)\n",
    "y_pred = dr.predict(x)\n"
   ]
  },
  {
   "cell_type": "markdown",
   "id": "4e9664ae",
   "metadata": {},
   "source": [
    "Now let's check the accuracy score.."
   ]
  },
  {
   "cell_type": "code",
   "execution_count": null,
   "id": "23760221",
   "metadata": {},
   "outputs": [],
   "source": [
    "from sklearn.metrics import mean_squared_error\n",
    "mean_squared_error(y, y_pred)\n"
   ]
  },
  {
   "cell_type": "code",
   "execution_count": null,
   "id": "e3785806",
   "metadata": {},
   "outputs": [],
   "source": [
    "y_pred[0:5]"
   ]
  },
  {
   "cell_type": "code",
   "execution_count": null,
   "id": "ec91ab4f",
   "metadata": {},
   "outputs": [],
   "source": [
    "y.head()"
   ]
  },
  {
   "cell_type": "markdown",
   "id": "d6823580",
   "metadata": {},
   "source": [
    "Simple forecasting for some day, I am hoping that cases will be that lowness.."
   ]
  },
  {
   "cell_type": "code",
   "execution_count": null,
   "id": "d608cc20",
   "metadata": {},
   "outputs": [],
   "source": [
    "new_day = [10,2,1000,0,0.02,99.98]\n",
    "dr.predict([new_day])"
   ]
  },
  {
   "cell_type": "markdown",
   "id": "b5f785c1",
   "metadata": {},
   "source": [
    "# I hope Covid-19 will be in the past as soon as possible"
   ]
  }
 ],
 "metadata": {},
 "nbformat": 4,
 "nbformat_minor": 5
}
