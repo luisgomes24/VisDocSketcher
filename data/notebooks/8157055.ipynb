{
 "cells": [
  {
   "cell_type": "markdown",
   "id": "1c38ecac",
   "metadata": {},
   "source": [
    "**Advertising Data Analysis **"
   ]
  },
  {
   "cell_type": "code",
   "execution_count": null,
   "id": "b6c26964",
   "metadata": {},
   "outputs": [],
   "source": [
    "# Importing Libraries\n",
    "\n",
    "import numpy as np # linear algebra\n",
    "import pandas as pd # data processing, CSV file I/O (e.g. pd.read_csv)\n",
    "import matplotlib.pyplot as plt\n",
    "import seaborn as sns\n",
    "%matplotlib inline\n"
   ]
  },
  {
   "cell_type": "code",
   "execution_count": null,
   "id": "204d4276",
   "metadata": {},
   "outputs": [],
   "source": [
    "# Loading Dataset\n",
    "data = pd.read_csv('../input/tvradionewspaperadvertising/Advertising.csv',header='infer')"
   ]
  },
  {
   "cell_type": "code",
   "execution_count": null,
   "id": "d189331e",
   "metadata": {},
   "outputs": [],
   "source": [
    "data.shape"
   ]
  },
  {
   "cell_type": "code",
   "execution_count": null,
   "id": "67d8e307",
   "metadata": {},
   "outputs": [],
   "source": [
    "data.isna().sum()"
   ]
  },
  {
   "cell_type": "code",
   "execution_count": null,
   "id": "ec75a399",
   "metadata": {},
   "outputs": [],
   "source": [
    "data.head()"
   ]
  },
  {
   "cell_type": "code",
   "execution_count": null,
   "id": "bcdc4614",
   "metadata": {},
   "outputs": [],
   "source": [
    "data.describe()"
   ]
  },
  {
   "cell_type": "markdown",
   "id": "bca12a26",
   "metadata": {},
   "source": [
    "**Visualisation**"
   ]
  },
  {
   "cell_type": "code",
   "execution_count": null,
   "id": "e49121ea",
   "metadata": {},
   "outputs": [],
   "source": [
    "corr = data.corr(method='pearson')\n",
    "fig = plt.figure(figsize=(8,8))\n",
    "ax = fig.add_subplot(111)\n",
    "cax = ax.matshow(corr,cmap='coolwarm', vmin=-1, vmax=1)\n",
    "fig.colorbar(cax)\n",
    "ticks = np.arange(0,len(data.columns),1)\n",
    "ax.set_xticks(ticks)\n",
    "plt.xticks(rotation=90)\n",
    "ax.set_yticks(ticks)\n",
    "ax.set_xticklabels(data.columns)\n",
    "ax.set_yticklabels(data.columns)\n",
    "plt.show()"
   ]
  },
  {
   "cell_type": "markdown",
   "id": "2c7b069b",
   "metadata": {},
   "source": [
    "There seems to be some correlation between the TV & Sales data. "
   ]
  },
  {
   "cell_type": "code",
   "execution_count": null,
   "id": "6f7f681a",
   "metadata": {},
   "outputs": [],
   "source": [
    "plt.style.use('seaborn-deep')\n",
    "plt.figure(figsize=(10,10))\n",
    "plt.grid(True)\n",
    "a = data['TV']\n",
    "b = data['Sales']\n",
    "c = data['Radio']\n",
    "d = data['Newspaper']\n",
    "plt.hist([a,b,c,d], label=['TV Ads Dist','Sales Ads Dist','Radio Ads Dist','Newspaper Ads Dist'])\n",
    "plt.legend(loc='upper right')\n",
    "plt.title('Adverts Distribution')\n",
    "plt.show()"
   ]
  },
  {
   "cell_type": "code",
   "execution_count": null,
   "id": "75569767",
   "metadata": {},
   "outputs": [],
   "source": [
    "sns.set(style=\"darkgrid\")\n",
    "fig = plt.figure()\n",
    "x1 = data['TV']\n",
    "x2 = data['Sales']\n",
    "fig = sns.jointplot(x1, x2, kind=\"kde\", height=7, space=0)\n",
    "fig.fig.set_size_inches(10,10)\n",
    "plt.show()"
   ]
  },
  {
   "cell_type": "code",
   "execution_count": null,
   "id": "0e7b79ad",
   "metadata": {},
   "outputs": [],
   "source": [
    "sns.set(style=\"darkgrid\")\n",
    "fig = plt.figure(figsize=(15,10))\n",
    "sns.lineplot(data=data, palette=\"tab10\", linewidth=2.5)\n",
    "plt.show()\n"
   ]
  }
 ],
 "metadata": {},
 "nbformat": 4,
 "nbformat_minor": 5
}
