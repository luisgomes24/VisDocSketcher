{
 "cells": [
  {
   "cell_type": "code",
   "execution_count": null,
   "id": "ab2b6fa7",
   "metadata": {},
   "outputs": [],
   "source": [
    "import numpy as np\n",
    "import pandas as pd\n",
    "import matplotlib.pyplot as plt\n",
    "import seaborn as sns\n",
    "from sklearn.linear_model import LinearRegression, Ridge, Lasso\n",
    "from sklearn.ensemble import RandomForestRegressor\n",
    "from sklearn.svm import SVR\n",
    "from sklearn.neighbors import KNeighborsRegressor\n",
    "from xgboost import XGBRegressor\n",
    "from sklearn.model_selection import GridSearchCV, train_test_split\n",
    "from sklearn.metrics import mean_absolute_error"
   ]
  },
  {
   "cell_type": "code",
   "execution_count": null,
   "id": "ca2ad13d",
   "metadata": {},
   "outputs": [],
   "source": [
    "df_train = pd.read_csv('/kaggle/input/godaddy-microbusiness-density-forecasting/train.csv')\n",
    "df_test = pd.read_csv('/kaggle/input/godaddy-microbusiness-density-forecasting/test.csv')\n",
    "df_sample_submission = pd.read_csv('/kaggle/input/godaddy-microbusiness-density-forecasting/sample_submission.csv')\n",
    "df_revealed_test = pd.read_csv('/kaggle/input/godaddy-microbusiness-density-forecasting/revealed_test.csv')\n",
    "df_census_starter = pd.read_csv('/kaggle/input/godaddy-microbusiness-density-forecasting/census_starter.csv')"
   ]
  },
  {
   "cell_type": "code",
   "execution_count": null,
   "id": "372239c0",
   "metadata": {},
   "outputs": [],
   "source": [
    "df_train"
   ]
  },
  {
   "cell_type": "code",
   "execution_count": null,
   "id": "7a9ec3ce",
   "metadata": {},
   "outputs": [],
   "source": [
    "df_test"
   ]
  },
  {
   "cell_type": "code",
   "execution_count": null,
   "id": "080ddaea",
   "metadata": {},
   "outputs": [],
   "source": [
    "df_sample_submission"
   ]
  },
  {
   "cell_type": "code",
   "execution_count": null,
   "id": "bc067d53",
   "metadata": {},
   "outputs": [],
   "source": [
    "df_revealed_test"
   ]
  },
  {
   "cell_type": "code",
   "execution_count": null,
   "id": "af6caeca",
   "metadata": {},
   "outputs": [],
   "source": [
    "df_census_starter"
   ]
  },
  {
   "cell_type": "code",
   "execution_count": null,
   "id": "2241a6f6",
   "metadata": {},
   "outputs": [],
   "source": [
    "df_train.info()"
   ]
  },
  {
   "cell_type": "code",
   "execution_count": null,
   "id": "9b7d8916",
   "metadata": {},
   "outputs": [],
   "source": [
    "df_train.drop(['row_id','county','state','active'], axis =1 , inplace = True)"
   ]
  },
  {
   "cell_type": "code",
   "execution_count": null,
   "id": "4864edb6",
   "metadata": {},
   "outputs": [],
   "source": [
    "df_train"
   ]
  },
  {
   "cell_type": "code",
   "execution_count": null,
   "id": "b5944637",
   "metadata": {},
   "outputs": [],
   "source": [
    "df_train['first_day_of_month'] = pd.to_datetime(df_train['first_day_of_month'])\n",
    "\n",
    "# Extract year, month, and day into separate columns\n",
    "df_train['year'] = df_train['first_day_of_month'].dt.year\n",
    "df_train['month'] = df_train['first_day_of_month'].dt.month\n",
    "df_train['day'] = df_train['first_day_of_month'].dt.day\n",
    "\n",
    "# Drop the old date_column while keeping other columns\n",
    "df_train = df_train.drop('first_day_of_month', axis=1)"
   ]
  },
  {
   "cell_type": "code",
   "execution_count": null,
   "id": "a1a13143",
   "metadata": {},
   "outputs": [],
   "source": [
    "df_train"
   ]
  },
  {
   "cell_type": "code",
   "execution_count": null,
   "id": "e5c77c53",
   "metadata": {},
   "outputs": [],
   "source": [
    "plt.figure(figsize = (8,6))\n",
    "sns.heatmap(df_train.corr(), annot = True, cmap = \"magma_r\")\n",
    "plt.title(\"Correlation Heatmap\",fontdict = {\"fontweight\":\"bold\"})\n",
    "plt.show()"
   ]
  },
  {
   "cell_type": "code",
   "execution_count": null,
   "id": "61d44c0a",
   "metadata": {},
   "outputs": [],
   "source": [
    "X_train = df_train.drop(['microbusiness_density'], axis = 1).values"
   ]
  },
  {
   "cell_type": "code",
   "execution_count": null,
   "id": "eb9f23ff",
   "metadata": {},
   "outputs": [],
   "source": [
    "y_train = df_train['microbusiness_density'].values"
   ]
  },
  {
   "cell_type": "code",
   "execution_count": null,
   "id": "0eed7ef1",
   "metadata": {},
   "outputs": [],
   "source": [
    "X_train.shape"
   ]
  },
  {
   "cell_type": "code",
   "execution_count": null,
   "id": "e50a301a",
   "metadata": {},
   "outputs": [],
   "source": [
    "y_train.shape"
   ]
  },
  {
   "cell_type": "code",
   "execution_count": null,
   "id": "ad3fde76",
   "metadata": {},
   "outputs": [],
   "source": [
    "df_revealed_test.head()"
   ]
  },
  {
   "cell_type": "code",
   "execution_count": null,
   "id": "088a3a8f",
   "metadata": {},
   "outputs": [],
   "source": [
    "df_revealed_test.drop(['row_id','county','state','active'], axis = 1, inplace = True)"
   ]
  },
  {
   "cell_type": "code",
   "execution_count": null,
   "id": "46928f35",
   "metadata": {},
   "outputs": [],
   "source": [
    "df_revealed_test['first_day_of_month'] = pd.to_datetime(df_revealed_test['first_day_of_month'])\n",
    "\n",
    "# Extract year, month, and day into separate columns\n",
    "df_revealed_test['year'] = df_revealed_test['first_day_of_month'].dt.year\n",
    "df_revealed_test['month'] = df_revealed_test['first_day_of_month'].dt.month\n",
    "df_revealed_test['day'] = df_revealed_test['first_day_of_month'].dt.day\n",
    "\n",
    "# Drop the old date_column while keeping other columns\n",
    "df_revealed_test = df_revealed_test.drop('first_day_of_month', axis=1)"
   ]
  },
  {
   "cell_type": "code",
   "execution_count": null,
   "id": "67b3674e",
   "metadata": {},
   "outputs": [],
   "source": [
    "df_revealed_test"
   ]
  },
  {
   "cell_type": "code",
   "execution_count": null,
   "id": "3d9d93d2",
   "metadata": {},
   "outputs": [],
   "source": [
    "X_test = df_revealed_test.drop(['microbusiness_density'], axis = 1).values"
   ]
  },
  {
   "cell_type": "code",
   "execution_count": null,
   "id": "c163749e",
   "metadata": {},
   "outputs": [],
   "source": [
    "y_test = df_revealed_test['microbusiness_density'].values"
   ]
  },
  {
   "cell_type": "code",
   "execution_count": null,
   "id": "d3615407",
   "metadata": {},
   "outputs": [],
   "source": [
    "models = {\n",
    "    'Linear Regression': (LinearRegression(), {}),\n",
    "    'Ridge': (Ridge(), {'alpha': [0.001, 0.01, 0.1, 1, 10]}),\n",
    "    'Lasso': (Lasso(), {'alpha': [0.001, 0.01, 0.1, 1, 10]}),\n",
    "    'Random Forest': (RandomForestRegressor(), {'n_estimators': [5, 10, 50, 100, 200]}),\n",
    "#     'Support Vector Machine': (SVR(), {'C': [0.1, 1, 10]}),\n",
    "    'K-Nearest Neighbors': (KNeighborsRegressor(), {'n_neighbors': [3, 5, 7]}),\n",
    "    'XGBoost': (XGBRegressor(), {'max_depth': [3, 6, 9], 'learning_rate': [0.1, 0.01, 0.001]})\n",
    "}"
   ]
  },
  {
   "cell_type": "code",
   "execution_count": null,
   "id": "58867fb3",
   "metadata": {},
   "outputs": [],
   "source": [
    "for model_name, (model, param_grid) in models.items():\n",
    "    print(f\"Training {model_name}...\")\n",
    "    grid_search = GridSearchCV(model, param_grid, scoring='neg_mean_absolute_error', cv=3)\n",
    "    grid_search.fit(X_train, y_train)\n",
    "\n",
    "    # Get the best model and its performance on the test set\n",
    "    best_model = grid_search.best_estimator_\n",
    "    y_pred = best_model.predict(X_test)\n",
    "    mae = mean_absolute_error(y_test, y_pred)\n",
    "    print(f\"Best Parameters for {model_name}: {grid_search.best_params_}\")\n",
    "    print(f\"Mean Absolute Error for {model_name}: {mae}\\n\")"
   ]
  },
  {
   "cell_type": "code",
   "execution_count": null,
   "id": "c242757f",
   "metadata": {},
   "outputs": [],
   "source": [
    "model = RandomForestRegressor(n_estimators=5)"
   ]
  },
  {
   "cell_type": "code",
   "execution_count": null,
   "id": "220f5096",
   "metadata": {},
   "outputs": [],
   "source": [
    "model.fit(X_train,y_train)"
   ]
  },
  {
   "cell_type": "code",
   "execution_count": null,
   "id": "841ea356",
   "metadata": {},
   "outputs": [],
   "source": [
    "df_test"
   ]
  },
  {
   "cell_type": "code",
   "execution_count": null,
   "id": "8f8b68ae",
   "metadata": {},
   "outputs": [],
   "source": [
    "df_test.drop(['row_id'], axis = 1, inplace = True)"
   ]
  },
  {
   "cell_type": "code",
   "execution_count": null,
   "id": "390cf189",
   "metadata": {},
   "outputs": [],
   "source": [
    "df_test['first_day_of_month'] = pd.to_datetime(df_test['first_day_of_month'])\n",
    "\n",
    "# Extract year, month, and day into separate columns\n",
    "df_test['year'] = df_test['first_day_of_month'].dt.year\n",
    "df_test['month'] = df_test['first_day_of_month'].dt.month\n",
    "df_test['day'] = df_test['first_day_of_month'].dt.day\n",
    "\n",
    "# Drop the old date_column while keeping other columns\n",
    "df_test = df_test.drop('first_day_of_month', axis=1)"
   ]
  },
  {
   "cell_type": "code",
   "execution_count": null,
   "id": "00021e20",
   "metadata": {},
   "outputs": [],
   "source": [
    "X_test = df_test.values"
   ]
  },
  {
   "cell_type": "code",
   "execution_count": null,
   "id": "ee6e16d0",
   "metadata": {},
   "outputs": [],
   "source": [
    "y_pred = model.predict(X_test)"
   ]
  },
  {
   "cell_type": "code",
   "execution_count": null,
   "id": "d123597c",
   "metadata": {},
   "outputs": [],
   "source": [
    "y_pred"
   ]
  },
  {
   "cell_type": "code",
   "execution_count": null,
   "id": "eb86b715",
   "metadata": {},
   "outputs": [],
   "source": [
    "solution = pd.DataFrame(y_pred, columns = [\"y\"])\n",
    "df = df_sample_submission.join(solution)\n",
    "df = df.drop(['microbusiness_density'], axis = 1)\n",
    "df.rename(columns = {'y':'microbusiness_density'}, inplace = True)\n",
    "df.to_csv('solution.csv', header = True, index = True)"
   ]
  }
 ],
 "metadata": {},
 "nbformat": 4,
 "nbformat_minor": 5
}
