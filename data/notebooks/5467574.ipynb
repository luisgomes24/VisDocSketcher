{
 "cells": [
  {
   "cell_type": "code",
   "execution_count": null,
   "id": "5bc802dc",
   "metadata": {},
   "outputs": [],
   "source": [
    "# This Python 3 environment comes with many helpful analytics libraries installed\n",
    "# It is defined by the kaggle/python docker image: https://github.com/kaggle/docker-python\n",
    "# For example, here's several helpful packages to load in \n",
    "\n",
    "import numpy as np # linear algebra\n",
    "import pandas as pd # data processing, CSV file I/O (e.g. pd.read_csv)\n",
    "\n",
    "# Input data files are available in the \"../input/\" directory.\n",
    "# For example, running this (by clicking run or pressing Shift+Enter) will list all files under the input directory\n",
    "\n",
    "import os\n",
    "for dirname, _, filenames in os.walk('/kaggle/input'):\n",
    "    for filename in filenames:\n",
    "        print(os.path.join(dirname, filename))\n",
    "\n",
    "# Any results you write to the current directory are saved as output."
   ]
  },
  {
   "cell_type": "code",
   "execution_count": null,
   "id": "811e9cf8",
   "metadata": {},
   "outputs": [],
   "source": [
    "train_transaction=pd.read_csv('../input/ieee-fraud-detection/train_transaction.csv')\n",
    "train_identity=pd.read_csv('../input/ieee-fraud-detection/train_identity.csv')\n",
    "test_transaction=pd.read_csv('../input/ieee-fraud-detection/test_transaction.csv')\n",
    "test_identity=pd.read_csv('../input/ieee-fraud-detection/test_identity.csv')\n",
    "sample_submission = pd.read_csv('../input/ieee-fraud-detection/sample_submission.csv', index_col='TransactionID')\n",
    "print(\"Data is loaded\")"
   ]
  },
  {
   "cell_type": "code",
   "execution_count": null,
   "id": "c4078a0d",
   "metadata": {},
   "outputs": [],
   "source": [
    "print(train_transaction.shape)\n",
    "print(train_identity.shape)\n",
    "print(test_transaction.shape)\n",
    "print(test_identity.shape)"
   ]
  },
  {
   "cell_type": "code",
   "execution_count": null,
   "id": "a7a542ee",
   "metadata": {},
   "outputs": [],
   "source": [
    "numOf_fraud=train_transaction['isFraud'].sum()\n",
    "print(numOf_fraud)"
   ]
  },
  {
   "cell_type": "code",
   "execution_count": null,
   "id": "3dd84c44",
   "metadata": {},
   "outputs": [],
   "source": [
    "per_Fraud = numOf_fraud/len(train_transaction)*100\n",
    "print(f'about {round(per_Fraud,2)}% of transactions are fraud')"
   ]
  },
  {
   "cell_type": "code",
   "execution_count": null,
   "id": "e6fedf61",
   "metadata": {},
   "outputs": [],
   "source": [
    "pred_non_F=np.zeros((506691,1))\n",
    "print(pred_non_F.shape)"
   ]
  },
  {
   "cell_type": "code",
   "execution_count": null,
   "id": "f73d5cbd",
   "metadata": {},
   "outputs": [],
   "source": [
    "sample_submission['isFraud'] = pred_non_F\n",
    "sample_submission.to_csv('sample_submission.csv', index=True)\n",
    "sample_submission"
   ]
  }
 ],
 "metadata": {},
 "nbformat": 4,
 "nbformat_minor": 5
}
