{
 "cells": [
  {
   "cell_type": "markdown",
   "id": "4bdd5d1e",
   "metadata": {},
   "source": [
    "Load data from a CSV file into a DataFrame."
   ]
  },
  {
   "cell_type": "code",
   "execution_count": null,
   "id": "c798cca9",
   "metadata": {},
   "outputs": [],
   "source": [
    "import pandas as pd\n",
    "data = pd.read_csv('data.csv')"
   ]
  },
  {
   "cell_type": "markdown",
   "id": "634c7f1e",
   "metadata": {},
   "source": [
    "Review the first few rows of the dataset."
   ]
  },
  {
   "cell_type": "code",
   "execution_count": null,
   "id": "623f0aa0",
   "metadata": {},
   "outputs": [],
   "source": [
    "print(data.head())"
   ]
  },
  {
   "cell_type": "markdown",
   "id": "6f6ac146",
   "metadata": {},
   "source": [
    "Specify the target column for predictions."
   ]
  },
  {
   "cell_type": "code",
   "execution_count": null,
   "id": "773de5ce",
   "metadata": {},
   "outputs": [],
   "source": [
    "target = 'target_column_name'"
   ]
  },
  {
   "cell_type": "markdown",
   "id": "5a0a8ec1",
   "metadata": {},
   "source": [
    "Create feature set by removing the target column from the dataset."
   ]
  },
  {
   "cell_type": "code",
   "execution_count": null,
   "id": "affca5ac",
   "metadata": {},
   "outputs": [],
   "source": [
    "features = data.drop(columns=[target])"
   ]
  },
  {
   "cell_type": "markdown",
   "id": "4eb46cd7",
   "metadata": {},
   "source": [
    "Review statistics of the features to understand their distributions."
   ]
  },
  {
   "cell_type": "code",
   "execution_count": null,
   "id": "47784f2a",
   "metadata": {},
   "outputs": [],
   "source": [
    "print(features.describe())"
   ]
  },
  {
   "cell_type": "markdown",
   "id": "068c1c6f",
   "metadata": {},
   "source": [
    "Split the data into training and testing sets."
   ]
  },
  {
   "cell_type": "code",
   "execution_count": null,
   "id": "d7b65fce",
   "metadata": {},
   "outputs": [],
   "source": [
    "from sklearn.model_selection import train_test_split\n",
    "X_train, X_test, y_train, y_test = train_test_split(features, data[target], test_size=0.2, random_state=42)"
   ]
  },
  {
   "cell_type": "markdown",
   "id": "b5a1fdd4",
   "metadata": {},
   "source": [
    "Specify and fit a linear regression model on the training data."
   ]
  },
  {
   "cell_type": "code",
   "execution_count": null,
   "id": "e6d00f3a",
   "metadata": {},
   "outputs": [],
   "source": [
    "from sklearn.linear_model import LinearRegression\n",
    "model = LinearRegression()\n",
    "model.fit(X_train, y_train)"
   ]
  },
  {
   "cell_type": "markdown",
   "id": "1a86f4c6",
   "metadata": {},
   "source": [
    "Make predictions on the test dataset."
   ]
  },
  {
   "cell_type": "code",
   "execution_count": null,
   "id": "573cd87c",
   "metadata": {},
   "outputs": [],
   "source": [
    "predictions = model.predict(X_test)"
   ]
  },
  {
   "cell_type": "markdown",
   "id": "0c569158",
   "metadata": {},
   "source": [
    "Compare predictions with the actual values using the Mean Squared Error metric."
   ]
  },
  {
   "cell_type": "code",
   "execution_count": null,
   "id": "f9a5ea8d",
   "metadata": {},
   "outputs": [],
   "source": [
    "import numpy as np\n",
    "from sklearn.metrics import mean_squared_error\n",
    "mse = mean_squared_error(y_test, predictions)\n",
    "print('Mean Squared Error:', mse)"
   ]
  }
 ],
 "metadata": {
  "kernelspec": {
   "display_name": "Python 3",
   "language": "python",
   "name": "python3"
  },
  "language_info": {
   "codemirror_mode": {
    "name": "ipython",
    "version": 3
   },
   "file_extension": ".py",
   "mimetype": "text/x-python",
   "name": "python",
   "nbconvert_exporter": "python",
   "pygments_lexer": "ipython3",
   "version": "3.8.5"
  }
 },
 "nbformat": 4,
 "nbformat_minor": 5
}
