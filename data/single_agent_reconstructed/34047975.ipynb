{
 "cells": [
  {
   "cell_type": "markdown",
   "id": "69fc2af8",
   "metadata": {},
   "source": [
    "Load the dataset from a CSV file using pandas."
   ]
  },
  {
   "cell_type": "code",
   "execution_count": null,
   "id": "299bad18",
   "metadata": {},
   "outputs": [],
   "source": [
    "import pandas as pd\n",
    "\n",
    "df = pd.read_csv('data.csv')"
   ]
  },
  {
   "cell_type": "markdown",
   "id": "6dea5818",
   "metadata": {},
   "source": [
    "Show a quick overview of the data with sample rows and summary statistics."
   ]
  },
  {
   "cell_type": "code",
   "execution_count": null,
   "id": "0f8b2705",
   "metadata": {},
   "outputs": [],
   "source": [
    "print(df.head())\n",
    "print(df.describe())"
   ]
  },
  {
   "cell_type": "markdown",
   "id": "759dcd5b",
   "metadata": {},
   "source": [
    "Prepare the data by removing missing values."
   ]
  },
  {
   "cell_type": "code",
   "execution_count": null,
   "id": "e8dd810c",
   "metadata": {},
   "outputs": [],
   "source": [
    "df.dropna(inplace=True)"
   ]
  },
  {
   "cell_type": "markdown",
   "id": "0ca59e30",
   "metadata": {},
   "source": [
    "Transform the data by applying a function to a specific feature."
   ]
  },
  {
   "cell_type": "code",
   "execution_count": null,
   "id": "541a1c6a",
   "metadata": {},
   "outputs": [],
   "source": [
    "df['Feature'] = df['Feature'].apply(transform_function)"
   ]
  },
  {
   "cell_type": "markdown",
   "id": "4a99ffbc",
   "metadata": {},
   "source": [
    "Check for duplicate rows and remove them if present."
   ]
  },
  {
   "cell_type": "code",
   "execution_count": null,
   "id": "96128479",
   "metadata": {},
   "outputs": [],
   "source": [
    "duplicates = df.duplicated().sum()\n",
    "if duplicates > 0:\n",
    "    df.drop_duplicates(inplace=True)"
   ]
  },
  {
   "cell_type": "markdown",
   "id": "1bce860e",
   "metadata": {},
   "source": [
    "Visualize the gold price history using a line plot."
   ]
  },
  {
   "cell_type": "code",
   "execution_count": null,
   "id": "2e60877f",
   "metadata": {},
   "outputs": [],
   "source": [
    "import matplotlib.pyplot as plt\n",
    "\n",
    "plt.plot(df['Date'], df['Gold_Price'])\n",
    "plt.title('Gold Price History')\n",
    "plt.show()"
   ]
  },
  {
   "cell_type": "markdown",
   "id": "5bc3740a",
   "metadata": {},
   "source": [
    "Split the dataset into training and testing sets."
   ]
  },
  {
   "cell_type": "code",
   "execution_count": null,
   "id": "4bbadf6d",
   "metadata": {},
   "outputs": [],
   "source": [
    "from sklearn.model_selection import train_test_split\n",
    "\n",
    "train, test = train_test_split(df, test_size=0.2, random_state=42)"
   ]
  },
  {
   "cell_type": "markdown",
   "id": "a57b350a",
   "metadata": {},
   "source": [
    "Scale the data to a range of 0 to 1 using MinMaxScaler."
   ]
  },
  {
   "cell_type": "code",
   "execution_count": null,
   "id": "4f32245d",
   "metadata": {},
   "outputs": [],
   "source": [
    "from sklearn.preprocessing import MinMaxScaler\n",
    "\n",
    "scaler = MinMaxScaler()\n",
    "train_scaled = scaler.fit_transform(train)\n",
    "test_scaled = scaler.transform(test)"
   ]
  },
  {
   "cell_type": "markdown",
   "id": "91d09798",
   "metadata": {},
   "source": [
    "Restructure the data to create input and output sets for LSTM."
   ]
  },
  {
   "cell_type": "code",
   "execution_count": null,
   "id": "9a4e4991",
   "metadata": {},
   "outputs": [],
   "source": [
    "def create_dataset(data, time_step=1):\n",
    "    X, Y = [], []\n",
    "    for i in range(len(data)-time_step-1):\n",
    "        X.append(data[i:(i+time_step), 0])\n",
    "        Y.append(data[i + time_step, 0])\n",
    "    return np.array(X), np.array(Y)\n",
    "\n",
    "X_train, y_train = create_dataset(train_scaled)"
   ]
  },
  {
   "cell_type": "markdown",
   "id": "6e5790f2",
   "metadata": {},
   "source": [
    "Create an LSTM model with Keras."
   ]
  },
  {
   "cell_type": "code",
   "execution_count": null,
   "id": "8b085637",
   "metadata": {},
   "outputs": [],
   "source": [
    "from keras.models import Sequential\n",
    "from keras.layers import LSTM, Dense\n",
    "\n",
    "model = Sequential()\n",
    "model.add(LSTM(50, return_sequences=True, input_shape=(X_train.shape[1], 1)))\n",
    "model.add(LSTM(50, return_sequences=False))\n",
    "model.add(Dense(1))\n",
    "model.compile(optimizer='adam', loss='mean_squared_error')"
   ]
  },
  {
   "cell_type": "markdown",
   "id": "ecd5f9e6",
   "metadata": {},
   "source": [
    "Train the LSTM model on the training dataset."
   ]
  },
  {
   "cell_type": "code",
   "execution_count": null,
   "id": "b8e9eec7",
   "metadata": {},
   "outputs": [],
   "source": [
    "model.fit(X_train, y_train, epochs=50, batch_size=32)"
   ]
  },
  {
   "cell_type": "markdown",
   "id": "b8c57092",
   "metadata": {},
   "source": [
    "Evaluate the model by making predictions on the test dataset."
   ]
  },
  {
   "cell_type": "code",
   "execution_count": null,
   "id": "893140aa",
   "metadata": {},
   "outputs": [],
   "source": [
    "test_predictions = model.predict(X_test)"
   ]
  },
  {
   "cell_type": "markdown",
   "id": "f3b87f3f",
   "metadata": {},
   "source": [
    "Visualize the actual vs predicted gold prices."
   ]
  },
  {
   "cell_type": "code",
   "execution_count": null,
   "id": "02a241ac",
   "metadata": {},
   "outputs": [],
   "source": [
    "plt.plot(test['Date'], test['Gold_Price'], label='Actual')\n",
    "plt.plot(test['Date'], test_predictions, label='Predicted')\n",
    "plt.title('Model Predictions')\n",
    "plt.legend()\n",
    "plt.show()"
   ]
  }
 ],
 "metadata": {
  "kernelspec": {
   "display_name": "Python 3",
   "language": "python",
   "name": "python3"
  },
  "language_info": {
   "codemirror_mode": {
    "name": "ipython",
    "version": 3
   },
   "file_extension": ".py",
   "mimetype": "text/x-python",
   "name": "python",
   "nbconvert_exporter": "python",
   "pygments_lexer": "ipython3",
   "version": "3.8.5"
  }
 },
 "nbformat": 4,
 "nbformat_minor": 5
}
