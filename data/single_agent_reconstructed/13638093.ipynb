{
 "cells": [
  {
   "cell_type": "markdown",
   "id": "dcbc8eec",
   "metadata": {},
   "source": [
    "Load training and test datasets from CSV files."
   ]
  },
  {
   "cell_type": "code",
   "execution_count": null,
   "id": "01e93db1",
   "metadata": {},
   "outputs": [],
   "source": [
    "import pandas as pd\n",
    "train_data = pd.read_csv('train.csv')\n",
    "test_data = pd.read_csv('test.csv')"
   ]
  },
  {
   "cell_type": "markdown",
   "id": "ff6d385c",
   "metadata": {},
   "source": [
    "Get an overview of the dataset structure including data types and non-null counts."
   ]
  },
  {
   "cell_type": "code",
   "execution_count": null,
   "id": "a5877ba2",
   "metadata": {},
   "outputs": [],
   "source": [
    "print(train_data.info())"
   ]
  },
  {
   "cell_type": "markdown",
   "id": "70b14355",
   "metadata": {},
   "source": [
    "Handle missing values by forward filling them."
   ]
  },
  {
   "cell_type": "code",
   "execution_count": null,
   "id": "007a72d5",
   "metadata": {},
   "outputs": [],
   "source": [
    "train_data.fillna(method='ffill', inplace=True)"
   ]
  },
  {
   "cell_type": "markdown",
   "id": "73acbd25",
   "metadata": {},
   "source": [
    "Create a bar plot to visualize the gender distribution."
   ]
  },
  {
   "cell_type": "code",
   "execution_count": null,
   "id": "9a8672a6",
   "metadata": {},
   "outputs": [],
   "source": [
    "import matplotlib.pyplot as plt\n",
    "train_data['Gender'].value_counts().plot(kind='bar')\n",
    "plt.title('Gender Analysis')\n",
    "plt.show()"
   ]
  },
  {
   "cell_type": "markdown",
   "id": "1d449c22",
   "metadata": {},
   "source": [
    "Create a bar plot to analyze the marital status distribution."
   ]
  },
  {
   "cell_type": "code",
   "execution_count": null,
   "id": "a8622002",
   "metadata": {},
   "outputs": [],
   "source": [
    "train_data['Marital_Status'].value_counts().plot(kind='bar')\n",
    "plt.title('Marital Status Analysis')\n",
    "plt.show()"
   ]
  },
  {
   "cell_type": "markdown",
   "id": "37a2ec72",
   "metadata": {},
   "source": [
    "Create a bar plot to analyze the number of dependents."
   ]
  },
  {
   "cell_type": "code",
   "execution_count": null,
   "id": "f023df79",
   "metadata": {},
   "outputs": [],
   "source": [
    "train_data['Dependents'].value_counts().plot(kind='bar')\n",
    "plt.title('Dependents Analysis')\n",
    "plt.show()"
   ]
  },
  {
   "cell_type": "markdown",
   "id": "57809e9a",
   "metadata": {},
   "source": [
    "Create a bar plot to visualize the employment type distribution."
   ]
  },
  {
   "cell_type": "code",
   "execution_count": null,
   "id": "c4c57a43",
   "metadata": {},
   "outputs": [],
   "source": [
    "train_data['Employment_Type'].value_counts().plot(kind='bar')\n",
    "plt.title('Employment Type Analysis')\n",
    "plt.show()"
   ]
  },
  {
   "cell_type": "markdown",
   "id": "1b21f773",
   "metadata": {},
   "source": [
    "Create a bar plot to analyze the number of days worked."
   ]
  },
  {
   "cell_type": "code",
   "execution_count": null,
   "id": "4cc796c0",
   "metadata": {},
   "outputs": [],
   "source": [
    "train_data['Days_Worked'].value_counts().plot(kind='bar')\n",
    "plt.title('Days Worked Analysis')\n",
    "plt.show()"
   ]
  },
  {
   "cell_type": "markdown",
   "id": "f64b7926",
   "metadata": {},
   "source": [
    "Summarize the analysis with descriptive statistics."
   ]
  },
  {
   "cell_type": "code",
   "execution_count": null,
   "id": "d18531a1",
   "metadata": {},
   "outputs": [],
   "source": [
    "summary = train_data.describe()\n",
    "print(summary)"
   ]
  }
 ],
 "metadata": {
  "kernelspec": {
   "display_name": "Python 3",
   "language": "python",
   "name": "python3"
  },
  "language_info": {
   "codemirror_mode": {
    "name": "ipython",
    "version": 3
   },
   "file_extension": ".py",
   "mimetype": "text/x-python",
   "name": "python",
   "nbconvert_exporter": "python",
   "pygments_lexer": "ipython3",
   "version": "3.8.5"
  }
 },
 "nbformat": 4,
 "nbformat_minor": 5
}
