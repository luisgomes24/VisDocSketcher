{
 "cells": [
  {
   "cell_type": "markdown",
   "id": "fbeba535",
   "metadata": {},
   "source": [
    "Load the data from a CSV file into a DataFrame."
   ]
  },
  {
   "cell_type": "code",
   "execution_count": null,
   "id": "b6e849f6",
   "metadata": {},
   "outputs": [],
   "source": [
    "import pandas as pd\n",
    "df = pd.read_csv('data.csv')"
   ]
  },
  {
   "cell_type": "markdown",
   "id": "08d727bf",
   "metadata": {},
   "source": [
    "Preprocess the data by removing null values and converting text to lowercase."
   ]
  },
  {
   "cell_type": "code",
   "execution_count": null,
   "id": "142313e7",
   "metadata": {},
   "outputs": [],
   "source": [
    "df.dropna(inplace=True)\n",
    "df['text'] = df['text'].str.lower()"
   ]
  },
  {
   "cell_type": "markdown",
   "id": "faa06322",
   "metadata": {},
   "source": [
    "Tokenize the text and pad the sequences to ensure uniform length."
   ]
  },
  {
   "cell_type": "code",
   "execution_count": null,
   "id": "fb6b7e17",
   "metadata": {},
   "outputs": [],
   "source": [
    "from keras.preprocessing.text import Tokenizer\n",
    " tokenizer = Tokenizer()\n",
    "tokenizer.fit_on_texts(df['text'])\n",
    "sequences = tokenizer.texts_to_sequences(df['text'])\n",
    "from keras.preprocessing.sequence import pad_sequences\n",
    "padded_sequences = pad_sequences(sequences)"
   ]
  },
  {
   "cell_type": "markdown",
   "id": "64aad96f",
   "metadata": {},
   "source": [
    "Build the LSTM model for text classification."
   ]
  },
  {
   "cell_type": "code",
   "execution_count": null,
   "id": "fc879c92",
   "metadata": {},
   "outputs": [],
   "source": [
    "from keras.models import Sequential\n",
    "from keras.layers import Embedding, LSTM, Dense\n",
    "model = Sequential()\n",
    "model.add(Embedding(input_dim=len(tokenizer.word_index)+1, output_dim=64))\n",
    "model.add(LSTM(64))\n",
    "model.add(Dense(1, activation='sigmoid'))\n",
    "model.compile(optimizer='adam', loss='binary_crossentropy', metrics=['accuracy'])"
   ]
  },
  {
   "cell_type": "markdown",
   "id": "08d50f8a",
   "metadata": {},
   "source": [
    "Train the model on the preprocessed data."
   ]
  },
  {
   "cell_type": "code",
   "execution_count": null,
   "id": "a7e72f4f",
   "metadata": {},
   "outputs": [],
   "source": [
    "model.fit(padded_sequences, df['label'], epochs=10, batch_size=32)"
   ]
  },
  {
   "cell_type": "markdown",
   "id": "3604a081",
   "metadata": {},
   "source": [
    "Make predictions using the trained model."
   ]
  },
  {
   "cell_type": "code",
   "execution_count": null,
   "id": "eded8b16",
   "metadata": {},
   "outputs": [],
   "source": [
    "predictions = model.predict(padded_sequences)"
   ]
  },
  {
   "cell_type": "markdown",
   "id": "d68d13bd",
   "metadata": {},
   "source": [
    "Save the predictions to a submission file."
   ]
  },
  {
   "cell_type": "code",
   "execution_count": null,
   "id": "b9db45a5",
   "metadata": {},
   "outputs": [],
   "source": [
    "submission = pd.DataFrame({'Id': df['Id'], 'Prediction': predictions.flatten()})\n",
    "submission.to_csv('submission.csv', index=False)"
   ]
  },
  {
   "cell_type": "markdown",
   "id": "01efe535",
   "metadata": {},
   "source": [
    "Create a download link for the saved submission file."
   ]
  },
  {
   "cell_type": "code",
   "execution_count": null,
   "id": "f745dbf0",
   "metadata": {},
   "outputs": [],
   "source": [
    "import urllib.parse\n",
    "link = urllib.parse.quote('submission.csv')\n",
    "print(f'Download link: {link}')"
   ]
  }
 ],
 "metadata": {
  "kernelspec": {
   "display_name": "Python 3",
   "language": "python",
   "name": "python3"
  },
  "language_info": {
   "codemirror_mode": {
    "name": "ipython",
    "version": 3
   },
   "file_extension": ".py",
   "mimetype": "text/x-python",
   "name": "python",
   "nbconvert_exporter": "python",
   "pygments_lexer": "ipython3",
   "version": "3.8.5"
  }
 },
 "nbformat": 4,
 "nbformat_minor": 5
}
