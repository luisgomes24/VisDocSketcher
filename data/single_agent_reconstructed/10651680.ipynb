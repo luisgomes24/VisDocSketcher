{
 "cells": [
  {
   "cell_type": "markdown",
   "id": "fc7eae73",
   "metadata": {},
   "source": [
    "Load the dataset from a CSV file using pandas."
   ]
  },
  {
   "cell_type": "code",
   "execution_count": null,
   "id": "08b140f1",
   "metadata": {},
   "outputs": [],
   "source": [
    "import pandas as pd\n",
    "data = pd.read_csv('data.csv')"
   ]
  },
  {
   "cell_type": "markdown",
   "id": "a8496942",
   "metadata": {},
   "source": [
    "Define a function to preprocess the data (e.g., handle missing values)."
   ]
  },
  {
   "cell_type": "code",
   "execution_count": null,
   "id": "b0d0c142",
   "metadata": {},
   "outputs": [],
   "source": [
    "def preprocess_data(data):\n",
    "    # Implement preprocessing steps\n",
    "    return processed_data"
   ]
  },
  {
   "cell_type": "markdown",
   "id": "c69cb0d0",
   "metadata": {},
   "source": [
    "Apply the preprocessing function to the loaded data."
   ]
  },
  {
   "cell_type": "code",
   "execution_count": null,
   "id": "e2a2ac68",
   "metadata": {},
   "outputs": [],
   "source": [
    "processed_data = preprocess_data(data)"
   ]
  },
  {
   "cell_type": "markdown",
   "id": "65b489e1",
   "metadata": {},
   "source": [
    "Apply one-hot encoding to categorical variables in the dataset."
   ]
  },
  {
   "cell_type": "code",
   "execution_count": null,
   "id": "d2d7a972",
   "metadata": {},
   "outputs": [],
   "source": [
    "processed_data = pd.get_dummies(processed_data, drop_first=True)"
   ]
  },
  {
   "cell_type": "markdown",
   "id": "f1f2ab8f",
   "metadata": {},
   "source": [
    "Split the dataset into training and testing sets."
   ]
  },
  {
   "cell_type": "code",
   "execution_count": null,
   "id": "f8ba2c7c",
   "metadata": {},
   "outputs": [],
   "source": [
    "from sklearn.model_selection import train_test_split\n",
    "X, y = processed_data.drop('target', axis=1), processed_data['target']\n",
    "X_train, X_test, y_train, y_test = train_test_split(X, y, test_size=0.2, random_state=42)"
   ]
  },
  {
   "cell_type": "markdown",
   "id": "76c3c47e",
   "metadata": {},
   "source": [
    "Build the first model using Linear Regression."
   ]
  },
  {
   "cell_type": "code",
   "execution_count": null,
   "id": "4a50098e",
   "metadata": {},
   "outputs": [],
   "source": [
    "from sklearn.linear_model import LinearRegression\n",
    "model1 = LinearRegression()\n",
    "model1.fit(X_train, y_train)"
   ]
  },
  {
   "cell_type": "markdown",
   "id": "b1b71d12",
   "metadata": {},
   "source": [
    "Generate predictions using the first model on the test set."
   ]
  },
  {
   "cell_type": "code",
   "execution_count": null,
   "id": "42b63ca4",
   "metadata": {},
   "outputs": [],
   "source": [
    "predictions_model1 = model1.predict(X_test)"
   ]
  },
  {
   "cell_type": "markdown",
   "id": "af8de15e",
   "metadata": {},
   "source": [
    "Evaluate the first model's performance using Mean Absolute Error (MAE)."
   ]
  },
  {
   "cell_type": "code",
   "execution_count": null,
   "id": "d7e9b9d5",
   "metadata": {},
   "outputs": [],
   "source": [
    "from sklearn.metrics import mean_absolute_error\n",
    "mae_model1 = mean_absolute_error(y_test, predictions_model1)"
   ]
  },
  {
   "cell_type": "markdown",
   "id": "4e6ea932",
   "metadata": {},
   "source": [
    "Build the second model using Linear Regression."
   ]
  },
  {
   "cell_type": "code",
   "execution_count": null,
   "id": "5e1bf7c3",
   "metadata": {},
   "outputs": [],
   "source": [
    "model2 = LinearRegression()\n",
    "model2.fit(X_train, y_train)"
   ]
  },
  {
   "cell_type": "markdown",
   "id": "433ddb79",
   "metadata": {},
   "source": [
    "Generate predictions using the second model on the test set."
   ]
  },
  {
   "cell_type": "code",
   "execution_count": null,
   "id": "5ae56a90",
   "metadata": {},
   "outputs": [],
   "source": [
    "predictions_model2 = model2.predict(X_test)"
   ]
  },
  {
   "cell_type": "markdown",
   "id": "cae61f83",
   "metadata": {},
   "source": [
    "Evaluate the second model's performance using Mean Absolute Error (MAE)."
   ]
  },
  {
   "cell_type": "code",
   "execution_count": null,
   "id": "2968537d",
   "metadata": {},
   "outputs": [],
   "source": [
    "mae_model2 = mean_absolute_error(y_test, predictions_model2)"
   ]
  },
  {
   "cell_type": "markdown",
   "id": "bdb610bf",
   "metadata": {},
   "source": [
    "Build the third model using Linear Regression."
   ]
  },
  {
   "cell_type": "code",
   "execution_count": null,
   "id": "3a81ca49",
   "metadata": {},
   "outputs": [],
   "source": [
    "model3 = LinearRegression()\n",
    "model3.fit(X_train, y_train)"
   ]
  },
  {
   "cell_type": "markdown",
   "id": "af140577",
   "metadata": {},
   "source": [
    "Generate predictions using the third model on the test set."
   ]
  },
  {
   "cell_type": "code",
   "execution_count": null,
   "id": "74667472",
   "metadata": {},
   "outputs": [],
   "source": [
    "predictions_model3 = model3.predict(X_test)"
   ]
  },
  {
   "cell_type": "markdown",
   "id": "6631a921",
   "metadata": {},
   "source": [
    "Evaluate the third model's performance using Mean Absolute Error (MAE)."
   ]
  },
  {
   "cell_type": "code",
   "execution_count": null,
   "id": "c8d3f7ce",
   "metadata": {},
   "outputs": [],
   "source": [
    "mae_model3 = mean_absolute_error(y_test, predictions_model3)"
   ]
  }
 ],
 "metadata": {
  "kernelspec": {
   "display_name": "Python 3",
   "language": "python",
   "name": "python3"
  },
  "language_info": {
   "codemirror_mode": {
    "name": "ipython",
    "version": 3
   },
   "file_extension": ".py",
   "mimetype": "text/x-python",
   "name": "python",
   "nbconvert_exporter": "python",
   "pygments_lexer": "ipython3",
   "version": "3.8.5"
  }
 },
 "nbformat": 4,
 "nbformat_minor": 5
}
