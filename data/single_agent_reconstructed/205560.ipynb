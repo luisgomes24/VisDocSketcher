{
 "cells": [
  {
   "cell_type": "markdown",
   "id": "f82a31fd",
   "metadata": {},
   "source": [
    "Load the dataset from a CSV file into a DataFrame."
   ]
  },
  {
   "cell_type": "code",
   "execution_count": null,
   "id": "4598616a",
   "metadata": {},
   "outputs": [],
   "source": [
    "starbucks = pd.read_csv('../input/directory.csv')"
   ]
  },
  {
   "cell_type": "markdown",
   "id": "01715c45",
   "metadata": {},
   "source": [
    "Display the first five rows of the dataset to explore its contents."
   ]
  },
  {
   "cell_type": "code",
   "execution_count": null,
   "id": "779cf44a",
   "metadata": {},
   "outputs": [],
   "source": [
    "starbucks.head(5)"
   ]
  },
  {
   "cell_type": "markdown",
   "id": "1d13d8d1",
   "metadata": {},
   "source": [
    "Get the dimensions of the dataset (number of rows and columns)."
   ]
  },
  {
   "cell_type": "code",
   "execution_count": null,
   "id": "3153e9b5",
   "metadata": {},
   "outputs": [],
   "source": [
    "starbucks.shape"
   ]
  },
  {
   "cell_type": "markdown",
   "id": "bbc9398d",
   "metadata": {},
   "source": [
    "Check data completeness by counting non-null values in each column."
   ]
  },
  {
   "cell_type": "code",
   "execution_count": null,
   "id": "dfd5578e",
   "metadata": {},
   "outputs": [],
   "source": [
    "starbucks.notnull().sum()"
   ]
  },
  {
   "cell_type": "markdown",
   "id": "c896d62b",
   "metadata": {},
   "source": [
    "Calculate the total number of stores (rows) in the dataset."
   ]
  },
  {
   "cell_type": "code",
   "execution_count": null,
   "id": "c9047f99",
   "metadata": {},
   "outputs": [],
   "source": [
    "starbucks.shape[0]"
   ]
  },
  {
   "cell_type": "markdown",
   "id": "112dc044",
   "metadata": {},
   "source": [
    "Count the number of unique countries with Starbucks stores."
   ]
  },
  {
   "cell_type": "code",
   "execution_count": null,
   "id": "4bb180bd",
   "metadata": {},
   "outputs": [],
   "source": [
    "len(starbucks.Country.unique())"
   ]
  },
  {
   "cell_type": "markdown",
   "id": "d5a20e88",
   "metadata": {},
   "source": [
    "Find the top 10 states or provinces in the USA with the most stores."
   ]
  },
  {
   "cell_type": "code",
   "execution_count": null,
   "id": "a9c7a81a",
   "metadata": {},
   "outputs": [],
   "source": [
    "usa_states['State/Province'].value_counts().head(10)"
   ]
  },
  {
   "cell_type": "markdown",
   "id": "f959ca89",
   "metadata": {},
   "source": [
    "Visualize the top 10 countries with the most Starbucks locations using a bar chart."
   ]
  },
  {
   "cell_type": "code",
   "execution_count": null,
   "id": "b547e073",
   "metadata": {},
   "outputs": [],
   "source": [
    "starbucks.Country.value_counts().head(10).plot(kind='bar')"
   ]
  },
  {
   "cell_type": "markdown",
   "id": "9c5d83c7",
   "metadata": {},
   "source": [
    "Visualize the top 10 cities with the most Starbucks locations using a bar chart."
   ]
  },
  {
   "cell_type": "code",
   "execution_count": null,
   "id": "563f5cd5",
   "metadata": {},
   "outputs": [],
   "source": [
    "starbucks.City.value_counts().head(10).plot(kind='bar')"
   ]
  },
  {
   "cell_type": "markdown",
   "id": "935acb36",
   "metadata": {},
   "source": [
    "Visualize Starbucks store locations worldwide using Basemap."
   ]
  },
  {
   "cell_type": "code",
   "execution_count": null,
   "id": "e4c8c594",
   "metadata": {},
   "outputs": [],
   "source": [
    "Basemap()"
   ]
  },
  {
   "cell_type": "markdown",
   "id": "5abd806f",
   "metadata": {},
   "source": [
    "Visualize Starbucks store locations specifically in the USA using Basemap."
   ]
  },
  {
   "cell_type": "code",
   "execution_count": null,
   "id": "a446ff00",
   "metadata": {},
   "outputs": [],
   "source": [
    "Basemap()"
   ]
  }
 ],
 "metadata": {
  "kernelspec": {
   "display_name": "Python 3",
   "language": "python",
   "name": "python3"
  },
  "language_info": {
   "codemirror_mode": {
    "name": "ipython",
    "version": 3
   },
   "file_extension": ".py",
   "mimetype": "text/x-python",
   "name": "python",
   "nbconvert_exporter": "python",
   "pygments_lexer": "ipython3",
   "version": "3.8.5"
  }
 },
 "nbformat": 4,
 "nbformat_minor": 5
}
