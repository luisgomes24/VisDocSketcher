{
 "cells": [
  {
   "cell_type": "markdown",
   "id": "6ea08a77",
   "metadata": {},
   "source": [
    "Load the dataset using pandas' read_csv function."
   ]
  },
  {
   "cell_type": "code",
   "execution_count": null,
   "id": "0823ceb5",
   "metadata": {},
   "outputs": [],
   "source": [
    "import pandas as pd\n",
    "car = pd.read_csv('path/to/dataset.csv')"
   ]
  },
  {
   "cell_type": "markdown",
   "id": "311dace0",
   "metadata": {},
   "source": [
    "Perform Exploratory Data Analysis (EDA) to view the data structure and check for missing values."
   ]
  },
  {
   "cell_type": "code",
   "execution_count": null,
   "id": "49c61436",
   "metadata": {},
   "outputs": [],
   "source": [
    "print(car.head())\n",
    "print(car.info())\n",
    "print(car.isnull().sum())"
   ]
  },
  {
   "cell_type": "markdown",
   "id": "2317c64c",
   "metadata": {},
   "source": [
    "Encode categorical columns to numerical values."
   ]
  },
  {
   "cell_type": "code",
   "execution_count": null,
   "id": "d1741030",
   "metadata": {},
   "outputs": [],
   "source": [
    "from sklearn.preprocessing import LabelEncoder\n",
    "le = LabelEncoder()\n",
    "car['column_name'] = le.fit_transform(car['column_name'])"
   ]
  },
  {
   "cell_type": "markdown",
   "id": "68358ba5",
   "metadata": {},
   "source": [
    "Plot the correlation matrix to visualize relationships between features."
   ]
  },
  {
   "cell_type": "code",
   "execution_count": null,
   "id": "2cc51c2c",
   "metadata": {},
   "outputs": [],
   "source": [
    "import seaborn as sns\n",
    "import matplotlib.pyplot as plt\n",
    "sns.heatmap(car.corr(), annot=True)\n",
    "plt.show()"
   ]
  },
  {
   "cell_type": "markdown",
   "id": "6da1e33f",
   "metadata": {},
   "source": [
    "Split the dataset into training and testing sets."
   ]
  },
  {
   "cell_type": "code",
   "execution_count": null,
   "id": "36092551",
   "metadata": {},
   "outputs": [],
   "source": [
    "from sklearn.model_selection import train_test_split\n",
    "X = car.drop('target_column', axis=1)\n",
    "y = car['target_column']\n",
    "X_train, X_test, y_train, y_test = train_test_split(X, y, test_size=0.2)"
   ]
  },
  {
   "cell_type": "markdown",
   "id": "b042863c",
   "metadata": {},
   "source": [
    "Train a linear regression model using the training dataset."
   ]
  },
  {
   "cell_type": "code",
   "execution_count": null,
   "id": "62ab85fd",
   "metadata": {},
   "outputs": [],
   "source": [
    "from sklearn.linear_model import LinearRegression\n",
    "model = LinearRegression()\n",
    "model.fit(X_train, y_train)"
   ]
  },
  {
   "cell_type": "markdown",
   "id": "31eb53d4",
   "metadata": {},
   "source": [
    "Predict target values using the test set and evaluate by plotting actual vs predicted values."
   ]
  },
  {
   "cell_type": "code",
   "execution_count": null,
   "id": "8b243159",
   "metadata": {},
   "outputs": [],
   "source": [
    "y_pred = model.predict(X_test)\n",
    "plt.scatter(y_test, y_pred)\n",
    "plt.xlabel('Actual Values')\n",
    "plt.ylabel('Predicted Values')\n",
    "plt.title('Prediction vs Actual')\n",
    "plt.show()"
   ]
  }
 ],
 "metadata": {
  "kernelspec": {
   "display_name": "Python 3",
   "language": "python",
   "name": "python3"
  },
  "language_info": {
   "codemirror_mode": {
    "name": "ipython",
    "version": 3
   },
   "file_extension": ".py",
   "mimetype": "text/x-python",
   "name": "python",
   "nbconvert_exporter": "python",
   "pygments_lexer": "ipython3",
   "version": "3.8.5"
  }
 },
 "nbformat": 4,
 "nbformat_minor": 5
}
