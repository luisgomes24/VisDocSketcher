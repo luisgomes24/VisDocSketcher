{
 "cells": [
  {
   "cell_type": "markdown",
   "id": "e50a3608",
   "metadata": {},
   "source": [
    "Load data from a CSV file using pandas."
   ]
  },
  {
   "cell_type": "code",
   "execution_count": null,
   "id": "bfddfcac",
   "metadata": {},
   "outputs": [],
   "source": [
    "import pandas as pd\n",
    "data = pd.read_csv('data.csv')"
   ]
  },
  {
   "cell_type": "markdown",
   "id": "a755337a",
   "metadata": {},
   "source": [
    "Preprocess data by removing missing values and resetting the index."
   ]
  },
  {
   "cell_type": "code",
   "execution_count": null,
   "id": "d3a664f1",
   "metadata": {},
   "outputs": [],
   "source": [
    "def preprocess_data(data): return data.dropna().reset_index(drop=True)"
   ]
  },
  {
   "cell_type": "markdown",
   "id": "4927f8b0",
   "metadata": {},
   "source": [
    "Select features by excluding the last column (assumed to be the target)."
   ]
  },
  {
   "cell_type": "code",
   "execution_count": null,
   "id": "33486ac9",
   "metadata": {},
   "outputs": [],
   "source": [
    "features = data.columns[:-1]"
   ]
  },
  {
   "cell_type": "markdown",
   "id": "8549a567",
   "metadata": {},
   "source": [
    "Split the data into training and testing sets."
   ]
  },
  {
   "cell_type": "code",
   "execution_count": null,
   "id": "e32caf76",
   "metadata": {},
   "outputs": [],
   "source": [
    "from sklearn.model_selection import train_test_split\n",
    "X, y = data[features], data['target']\n",
    "X_train, X_test, y_train, y_test = train_test_split(X, y, test_size=0.2)"
   ]
  },
  {
   "cell_type": "markdown",
   "id": "abe34184",
   "metadata": {},
   "source": [
    "Train a Random Forest model using the training data."
   ]
  },
  {
   "cell_type": "code",
   "execution_count": null,
   "id": "3359f5cc",
   "metadata": {},
   "outputs": [],
   "source": [
    "from sklearn.ensemble import RandomForestClassifier\n",
    "model = RandomForestClassifier()\n",
    "model.fit(X_train, y_train)"
   ]
  },
  {
   "cell_type": "markdown",
   "id": "d98ba10e",
   "metadata": {},
   "source": [
    "Evaluate the model's accuracy on the test set."
   ]
  },
  {
   "cell_type": "code",
   "execution_count": null,
   "id": "ed13065f",
   "metadata": {},
   "outputs": [],
   "source": [
    "from sklearn.metrics import accuracy_score\n",
    "y_pred = model.predict(X_test)\n",
    "accuracy = accuracy_score(y_test, y_pred)"
   ]
  },
  {
   "cell_type": "markdown",
   "id": "3b40eb1d",
   "metadata": {},
   "source": [
    "Save the predictions to a CSV file."
   ]
  },
  {
   "cell_type": "code",
   "execution_count": null,
   "id": "03eba00e",
   "metadata": {},
   "outputs": [],
   "source": [
    "pd.DataFrame({'Predictions': y_pred}).to_csv('predictions.csv', index=False)"
   ]
  }
 ],
 "metadata": {
  "kernelspec": {
   "display_name": "Python 3",
   "language": "python",
   "name": "python3"
  },
  "language_info": {
   "codemirror_mode": {
    "name": "ipython",
    "version": 3
   },
   "file_extension": ".py",
   "mimetype": "text/x-python",
   "name": "python",
   "nbconvert_exporter": "python",
   "pygments_lexer": "ipython3",
   "version": "3.8.5"
  }
 },
 "nbformat": 4,
 "nbformat_minor": 5
}
