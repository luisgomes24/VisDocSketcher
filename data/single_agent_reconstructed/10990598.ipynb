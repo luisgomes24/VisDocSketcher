{
 "cells": [
  {
   "cell_type": "markdown",
   "id": "7a6f7619",
   "metadata": {},
   "source": [
    "Load the dataset using Pandas."
   ]
  },
  {
   "cell_type": "code",
   "execution_count": null,
   "id": "19531020",
   "metadata": {},
   "outputs": [],
   "source": [
    "import pandas as pd\n",
    "\n",
    "data = pd.read_csv('data.csv')"
   ]
  },
  {
   "cell_type": "markdown",
   "id": "62283b3a",
   "metadata": {},
   "source": [
    "Display an example image from the dataset."
   ]
  },
  {
   "cell_type": "code",
   "execution_count": null,
   "id": "2259582c",
   "metadata": {},
   "outputs": [],
   "source": [
    "import matplotlib.pyplot as plt\n",
    "\n",
    "sample_image = data['image'][0]\n",
    "plt.imshow(sample_image)\n",
    "plt.show()"
   ]
  },
  {
   "cell_type": "markdown",
   "id": "eb7b76d7",
   "metadata": {},
   "source": [
    "Get the shape (dimensions) of the image."
   ]
  },
  {
   "cell_type": "code",
   "execution_count": null,
   "id": "01b9bd7b",
   "metadata": {},
   "outputs": [],
   "source": [
    "image_shape = sample_image.shape"
   ]
  },
  {
   "cell_type": "markdown",
   "id": "76ded21e",
   "metadata": {},
   "source": [
    "Count the number of unique classes in the dataset."
   ]
  },
  {
   "cell_type": "code",
   "execution_count": null,
   "id": "93ccc755",
   "metadata": {},
   "outputs": [],
   "source": [
    "num_classes = len(data['label'].unique())"
   ]
  },
  {
   "cell_type": "markdown",
   "id": "4caa880d",
   "metadata": {},
   "source": [
    "Initialize data generation with normalization."
   ]
  },
  {
   "cell_type": "code",
   "execution_count": null,
   "id": "04072b91",
   "metadata": {},
   "outputs": [],
   "source": [
    "from keras.preprocessing.image import ImageDataGenerator\n",
    "\n",
    "generator = ImageDataGenerator(rescale=1./255)"
   ]
  },
  {
   "cell_type": "markdown",
   "id": "c5a4618c",
   "metadata": {},
   "source": [
    "Initialize the CNN model using Keras."
   ]
  },
  {
   "cell_type": "code",
   "execution_count": null,
   "id": "9f004d89",
   "metadata": {},
   "outputs": [],
   "source": [
    "from keras.models import Sequential\n",
    "from keras.layers import Conv2D, MaxPooling2D, Flatten, Dense, Dropout\n",
    "\n",
    "model = Sequential()"
   ]
  },
  {
   "cell_type": "markdown",
   "id": "bfdd6f63",
   "metadata": {},
   "source": [
    "Add a convolutional layer followed by a pooling layer."
   ]
  },
  {
   "cell_type": "code",
   "execution_count": null,
   "id": "ebf4d90e",
   "metadata": {},
   "outputs": [],
   "source": [
    "model.add(Conv2D(32, (3, 3), activation='relu', input_shape=image_shape))\n",
    "model.add(MaxPooling2D(pool_size=(2, 2)))"
   ]
  },
  {
   "cell_type": "markdown",
   "id": "35590a24",
   "metadata": {},
   "source": [
    "Flatten the output and add fully connected layers."
   ]
  },
  {
   "cell_type": "code",
   "execution_count": null,
   "id": "78074db1",
   "metadata": {},
   "outputs": [],
   "source": [
    "model.add(Flatten())\n",
    "model.add(Dense(128, activation='relu'))"
   ]
  },
  {
   "cell_type": "markdown",
   "id": "27d1cf60",
   "metadata": {},
   "source": [
    "Add a dropout layer to reduce overfitting."
   ]
  },
  {
   "cell_type": "code",
   "execution_count": null,
   "id": "533eebb6",
   "metadata": {},
   "outputs": [],
   "source": [
    "model.add(Dropout(0.5))"
   ]
  },
  {
   "cell_type": "markdown",
   "id": "726f546f",
   "metadata": {},
   "source": [
    "Compile the model with specified optimizer and loss function."
   ]
  },
  {
   "cell_type": "code",
   "execution_count": null,
   "id": "fba5cd19",
   "metadata": {},
   "outputs": [],
   "source": [
    "model.compile(optimizer='adam', loss='categorical_crossentropy', metrics=['accuracy'])"
   ]
  },
  {
   "cell_type": "markdown",
   "id": "0707c44b",
   "metadata": {},
   "source": [
    "Set the batch size for training."
   ]
  },
  {
   "cell_type": "code",
   "execution_count": null,
   "id": "deadedc6",
   "metadata": {},
   "outputs": [],
   "source": [
    "batch_size = 32"
   ]
  },
  {
   "cell_type": "markdown",
   "id": "27e38ec1",
   "metadata": {},
   "source": [
    "Fit the model on the training data for a number of epochs."
   ]
  },
  {
   "cell_type": "code",
   "execution_count": null,
   "id": "3bd915c7",
   "metadata": {},
   "outputs": [],
   "source": [
    "history = model.fit(generator.flow(data, labels, batch_size=batch_size), epochs=10)"
   ]
  },
  {
   "cell_type": "markdown",
   "id": "aa3502f7",
   "metadata": {},
   "source": [
    "Save the trained model to a file."
   ]
  },
  {
   "cell_type": "code",
   "execution_count": null,
   "id": "951edb4f",
   "metadata": {},
   "outputs": [],
   "source": [
    "model.save('model.h5')"
   ]
  },
  {
   "cell_type": "markdown",
   "id": "831db470",
   "metadata": {},
   "source": [
    "Evaluate the model's performance on the dataset."
   ]
  },
  {
   "cell_type": "code",
   "execution_count": null,
   "id": "18c874ca",
   "metadata": {},
   "outputs": [],
   "source": [
    "loss = model.evaluate(generator.flow(data, labels))"
   ]
  },
  {
   "cell_type": "markdown",
   "id": "a69850e2",
   "metadata": {},
   "source": [
    "Plot the loss over the training epochs."
   ]
  },
  {
   "cell_type": "code",
   "execution_count": null,
   "id": "bbf2845c",
   "metadata": {},
   "outputs": [],
   "source": [
    "plt.plot(history.history['loss'])\n",
    "plt.title('Model Loss')\n",
    "plt.ylabel('Loss')\n",
    "plt.xlabel('Epoch')\n",
    "plt.show()"
   ]
  },
  {
   "cell_type": "markdown",
   "id": "4ee3e7c6",
   "metadata": {},
   "source": [
    "Plot the accuracy over the training epochs."
   ]
  },
  {
   "cell_type": "code",
   "execution_count": null,
   "id": "fdee8db9",
   "metadata": {},
   "outputs": [],
   "source": [
    "plt.plot(history.history['accuracy'])\n",
    "plt.title('Model Accuracy')\n",
    "plt.ylabel('Accuracy')\n",
    "plt.xlabel('Epoch')\n",
    "plt.show()"
   ]
  },
  {
   "cell_type": "markdown",
   "id": "b25dd532",
   "metadata": {},
   "source": [
    "Save the training history to a JSON file."
   ]
  },
  {
   "cell_type": "code",
   "execution_count": null,
   "id": "4e0ac525",
   "metadata": {},
   "outputs": [],
   "source": [
    "import json\n",
    "\n",
    "with open('history.json', 'w') as f:\n",
    "    json.dump(history.history, f)"
   ]
  },
  {
   "cell_type": "markdown",
   "id": "aa48a676",
   "metadata": {},
   "source": [
    "Load the training history from the JSON file."
   ]
  },
  {
   "cell_type": "code",
   "execution_count": null,
   "id": "83a3faed",
   "metadata": {},
   "outputs": [],
   "source": [
    "with open('history.json') as f:\n",
    "    loaded_history = json.load(f)"
   ]
  }
 ],
 "metadata": {
  "kernelspec": {
   "display_name": "Python 3",
   "language": "python",
   "name": "python3"
  },
  "language_info": {
   "codemirror_mode": {
    "name": "ipython",
    "version": 3
   },
   "file_extension": ".py",
   "mimetype": "text/x-python",
   "name": "python",
   "nbconvert_exporter": "python",
   "pygments_lexer": "ipython3",
   "version": "3.8.5"
  }
 },
 "nbformat": 4,
 "nbformat_minor": 5
}
