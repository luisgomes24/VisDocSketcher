{
 "cells": [
  {
   "cell_type": "markdown",
   "id": "38990a13",
   "metadata": {},
   "source": [
    "Load heart disease dataset from a CSV file."
   ]
  },
  {
   "cell_type": "code",
   "execution_count": null,
   "id": "e2410602",
   "metadata": {},
   "outputs": [],
   "source": [
    "import pandas as pd\n",
    "df = pd.read_csv('heart_disease_dataset.csv')"
   ]
  },
  {
   "cell_type": "markdown",
   "id": "2f54e573",
   "metadata": {},
   "source": [
    "Display the first few rows and info about the dataset."
   ]
  },
  {
   "cell_type": "code",
   "execution_count": null,
   "id": "01544e7c",
   "metadata": {},
   "outputs": [],
   "source": [
    "df.head()\n",
    "df.info()"
   ]
  },
  {
   "cell_type": "markdown",
   "id": "901af4d6",
   "metadata": {},
   "source": [
    "Visualize disease presence using a pie chart."
   ]
  },
  {
   "cell_type": "code",
   "execution_count": null,
   "id": "57d485f2",
   "metadata": {},
   "outputs": [],
   "source": [
    "import matplotlib.pyplot as plt\n",
    "\n",
    "plt.figure()\n",
    "df['target'].value_counts().plot(kind='pie')\n",
    "plt.title('Pie Chart of Disease Presence')\n",
    "plt.show()"
   ]
  },
  {
   "cell_type": "markdown",
   "id": "feb2777d",
   "metadata": {},
   "source": [
    "Show counts of different chest pain types using a bar chart."
   ]
  },
  {
   "cell_type": "code",
   "execution_count": null,
   "id": "22969a5b",
   "metadata": {},
   "outputs": [],
   "source": [
    "df['chest_pain'].value_counts().plot(kind='bar')\n",
    "plt.title('Chest Pain Types Counts')\n",
    "plt.show()"
   ]
  },
  {
   "cell_type": "markdown",
   "id": "850de7a4",
   "metadata": {},
   "source": [
    "Visualize the relationship between gender and heart disease."
   ]
  },
  {
   "cell_type": "code",
   "execution_count": null,
   "id": "2d7ff4ba",
   "metadata": {},
   "outputs": [],
   "source": [
    "pd.crosstab(df['gender'], df['target']).plot(kind='bar')\n",
    "plt.title('Gender vs Heart Disease')\n",
    "plt.show()"
   ]
  },
  {
   "cell_type": "markdown",
   "id": "bd42be5a",
   "metadata": {},
   "source": [
    "Split the data into training and testing sets."
   ]
  },
  {
   "cell_type": "code",
   "execution_count": null,
   "id": "41f0d338",
   "metadata": {},
   "outputs": [],
   "source": [
    "from sklearn.model_selection import train_test_split\n",
    "X = df.drop('target', axis=1)\n",
    "y = df['target']\n",
    "X_train, X_test, y_train, y_test = train_test_split(X, y, test_size=0.2)"
   ]
  },
  {
   "cell_type": "markdown",
   "id": "7f055492",
   "metadata": {},
   "source": [
    "Perform grid search for K-Nearest Neighbors (KNN) model."
   ]
  },
  {
   "cell_type": "code",
   "execution_count": null,
   "id": "fc6176db",
   "metadata": {},
   "outputs": [],
   "source": [
    "from sklearn.neighbors import KNeighborsClassifier\n",
    "from sklearn.model_selection import GridSearchCV\n",
    "\n",
    "knn = KNeighborsClassifier()\n",
    "param_grid = {'n_neighbors': [3, 5, 7]}\n",
    "grid_knn = GridSearchCV(knn, param_grid)\n",
    "grid_knn.fit(X_train, y_train)"
   ]
  },
  {
   "cell_type": "markdown",
   "id": "0853de0e",
   "metadata": {},
   "source": [
    "Perform grid search for XGBoost model."
   ]
  },
  {
   "cell_type": "code",
   "execution_count": null,
   "id": "ac8e39ee",
   "metadata": {},
   "outputs": [],
   "source": [
    "from xgboost import XGBClassifier\n",
    "\n",
    "gxboost = XGBClassifier()\n",
    "param_grid_xg = {'max_depth': [3, 5, 7], 'n_estimators': [100, 200]}\n",
    "grid_xg = GridSearchCV(xgboost, param_grid_xg)\n",
    "grid_xg.fit(X_train, y_train)"
   ]
  },
  {
   "cell_type": "markdown",
   "id": "218e118a",
   "metadata": {},
   "source": [
    "Perform grid search for Random Forest model."
   ]
  },
  {
   "cell_type": "code",
   "execution_count": null,
   "id": "ae47e866",
   "metadata": {},
   "outputs": [],
   "source": [
    "from sklearn.ensemble import RandomForestClassifier\n",
    "\n",
    "rf = RandomForestClassifier()\n",
    "param_grid_rf = {'n_estimators': [100, 200], 'max_features': ['auto', 'sqrt']}\n",
    "grid_rf = GridSearchCV(rf, param_grid_rf)\n",
    "grid_rf.fit(X_train, y_train)"
   ]
  },
  {
   "cell_type": "markdown",
   "id": "5234d202",
   "metadata": {},
   "source": [
    "Train the best model and evaluate its accuracy."
   ]
  },
  {
   "cell_type": "code",
   "execution_count": null,
   "id": "bc8cb6fd",
   "metadata": {},
   "outputs": [],
   "source": [
    "best_model = grid_knn.best_estimator_  # Use best model from grid search\n",
    "best_model.fit(X_train, y_train)\n",
    "accuracy = best_model.score(X_test, y_test)\n",
    "print(f'Model Accuracy: {accuracy}')"
   ]
  },
  {
   "cell_type": "markdown",
   "id": "412c4760",
   "metadata": {},
   "source": [
    "Evaluate model performance using classification metrics."
   ]
  },
  {
   "cell_type": "code",
   "execution_count": null,
   "id": "33b07a6a",
   "metadata": {},
   "outputs": [],
   "source": [
    "from sklearn.metrics import classification_report\n",
    "\n",
    "y_pred = best_model.predict(X_test)\n",
    "print(classification_report(y_test, y_pred))"
   ]
  }
 ],
 "metadata": {
  "kernelspec": {
   "display_name": "Python 3",
   "language": "python",
   "name": "python3"
  },
  "language_info": {
   "codemirror_mode": {
    "name": "ipython",
    "version": 3
   },
   "file_extension": ".py",
   "mimetype": "text/x-python",
   "name": "python",
   "nbconvert_exporter": "python",
   "pygments_lexer": "ipython3",
   "version": "3.8.5"
  }
 },
 "nbformat": 4,
 "nbformat_minor": 5
}
