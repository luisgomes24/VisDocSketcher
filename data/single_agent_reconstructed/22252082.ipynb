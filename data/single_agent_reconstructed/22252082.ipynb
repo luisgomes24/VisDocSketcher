{
 "cells": [
  {
   "cell_type": "markdown",
   "id": "9b09e84c",
   "metadata": {},
   "source": [
    "Load the list of test images from a CSV file."
   ]
  },
  {
   "cell_type": "code",
   "execution_count": null,
   "id": "429b8ccc",
   "metadata": {},
   "outputs": [],
   "source": [
    "import pandas as pd\n",
    "images_df = pd.read_csv('test_images.csv')"
   ]
  },
  {
   "cell_type": "markdown",
   "id": "a6e62013",
   "metadata": {},
   "source": [
    "Read and display the first test image using matplotlib."
   ]
  },
  {
   "cell_type": "code",
   "execution_count": null,
   "id": "31f60981",
   "metadata": {},
   "outputs": [],
   "source": [
    "import matplotlib.pyplot as plt\n",
    "from PIL import Image\n",
    "\n",
    "images = [Image.open(img) for img in images_df['image_path']]\n",
    "plt.imshow(images[0])\n",
    "plt.show()"
   ]
  },
  {
   "cell_type": "markdown",
   "id": "2d1cf69a",
   "metadata": {},
   "source": [
    "Use Keras-OCR to recognize text in the loaded images."
   ]
  },
  {
   "cell_type": "code",
   "execution_count": null,
   "id": "9db1dc36",
   "metadata": {},
   "outputs": [],
   "source": [
    "from keras_ocr.pipeline import Pipeline\n",
    "pipeline = Pipeline()\n",
    "ocr_keras = pipeline.recognize(images)"
   ]
  },
  {
   "cell_type": "markdown",
   "id": "49c0bf6e",
   "metadata": {},
   "source": [
    "Visualize the results of Keras-OCR using a box plot."
   ]
  },
  {
   "cell_type": "code",
   "execution_count": null,
   "id": "2814ff44",
   "metadata": {},
   "outputs": [],
   "source": [
    "import matplotlib.pyplot as plt\n",
    "plt.boxplot([len(result) for result in ocr_keras])\n",
    "plt.title('Results of Keras-OCR')\n",
    "plt.show()"
   ]
  },
  {
   "cell_type": "markdown",
   "id": "a8985898",
   "metadata": {},
   "source": [
    "Use EasyOCR to recognize text in the loaded images."
   ]
  },
  {
   "cell_type": "code",
   "execution_count": null,
   "id": "76954c72",
   "metadata": {},
   "outputs": [],
   "source": [
    "import easyocr\n",
    "easyocr_reader = easyocr.Reader(['en'])\n",
    "ocr_easy = easyocr_reader.readtext(images)"
   ]
  },
  {
   "cell_type": "markdown",
   "id": "394b834b",
   "metadata": {},
   "source": [
    "Visualize the results of EasyOCR using a histogram."
   ]
  },
  {
   "cell_type": "code",
   "execution_count": null,
   "id": "7846fcdb",
   "metadata": {},
   "outputs": [],
   "source": [
    "import matplotlib.pyplot as plt\n",
    "plt.hist([len(result[1]) for result in ocr_easy], bins=10)\n",
    "plt.title('Results of EasyOCR')\n",
    "plt.show()"
   ]
  },
  {
   "cell_type": "markdown",
   "id": "ba93d1de",
   "metadata": {},
   "source": [
    "Use Pytesseract to recognize text in the loaded images."
   ]
  },
  {
   "cell_type": "code",
   "execution_count": null,
   "id": "9193111f",
   "metadata": {},
   "outputs": [],
   "source": [
    "import pytesseract\n",
    "ocr_pytesseract = [pytesseract.image_to_string(img) for img in images]"
   ]
  },
  {
   "cell_type": "markdown",
   "id": "749f89f0",
   "metadata": {},
   "source": [
    "Visualize the results of Pytesseract using a scatter plot."
   ]
  },
  {
   "cell_type": "code",
   "execution_count": null,
   "id": "1dff2599",
   "metadata": {},
   "outputs": [],
   "source": [
    "import matplotlib.pyplot as plt\n",
    "plt.scatter(range(len(ocr_pytesseract)), [len(text) for text in ocr_pytesseract])\n",
    "plt.title('Results of Pytesseract')\n",
    "plt.show()"
   ]
  },
  {
   "cell_type": "markdown",
   "id": "6c5f64f7",
   "metadata": {},
   "source": [
    "Print out the conclusions based on the OCR results."
   ]
  },
  {
   "cell_type": "code",
   "execution_count": null,
   "id": "b44d4fb9",
   "metadata": {},
   "outputs": [],
   "source": [
    "print('Conclusions based on the results from all OCR methods')"
   ]
  }
 ],
 "metadata": {
  "kernelspec": {
   "display_name": "Python 3",
   "language": "python",
   "name": "python3"
  },
  "language_info": {
   "codemirror_mode": {
    "name": "ipython",
    "version": 3
   },
   "file_extension": ".py",
   "mimetype": "text/x-python",
   "name": "python",
   "nbconvert_exporter": "python",
   "pygments_lexer": "ipython3",
   "version": "3.8.5"
  }
 },
 "nbformat": 4,
 "nbformat_minor": 5
}
