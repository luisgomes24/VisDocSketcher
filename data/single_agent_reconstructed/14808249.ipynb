{
 "cells": [
  {
   "cell_type": "markdown",
   "id": "667d3351",
   "metadata": {},
   "source": [
    "Load data from a CSV file into a DataFrame."
   ]
  },
  {
   "cell_type": "code",
   "execution_count": null,
   "id": "8a4f53d6",
   "metadata": {},
   "outputs": [],
   "source": [
    "import pandas as pd\n",
    "\n",
    "df = pd.read_csv('your_file.csv')"
   ]
  },
  {
   "cell_type": "markdown",
   "id": "bae2c4f6",
   "metadata": {},
   "source": [
    "Preview the first few rows of the DataFrame."
   ]
  },
  {
   "cell_type": "code",
   "execution_count": null,
   "id": "51ab3d4b",
   "metadata": {},
   "outputs": [],
   "source": [
    "df.head()"
   ]
  },
  {
   "cell_type": "markdown",
   "id": "b3f29b85",
   "metadata": {},
   "source": [
    "Remove columns that are not needed for analysis."
   ]
  },
  {
   "cell_type": "code",
   "execution_count": null,
   "id": "ac2ef109",
   "metadata": {},
   "outputs": [],
   "source": [
    "df.drop(columns=['unnecessary_column1', 'unnecessary_column2'], inplace=True)"
   ]
  },
  {
   "cell_type": "markdown",
   "id": "e02da07a",
   "metadata": {},
   "source": [
    "Add year, month, hour, and minute columns from a datetime field."
   ]
  },
  {
   "cell_type": "code",
   "execution_count": null,
   "id": "4eed5320",
   "metadata": {},
   "outputs": [],
   "source": [
    "df['year'] = df['date'].dt.year\n",
    "df['month'] = df['date'].dt.month\n",
    "df['hour'] = df['date'].dt.hour\n",
    "df['minute'] = df['date'].dt.minute"
   ]
  },
  {
   "cell_type": "markdown",
   "id": "f3eb3eba",
   "metadata": {},
   "source": [
    "Normalize text by converting titles to lowercase."
   ]
  },
  {
   "cell_type": "code",
   "execution_count": null,
   "id": "06bf72c2",
   "metadata": {},
   "outputs": [],
   "source": [
    "df['title'] = df['title'].str.lower()"
   ]
  },
  {
   "cell_type": "markdown",
   "id": "fbb77d42",
   "metadata": {},
   "source": [
    "Analyze the length of each title."
   ]
  },
  {
   "cell_type": "code",
   "execution_count": null,
   "id": "0135125d",
   "metadata": {},
   "outputs": [],
   "source": [
    "df['title_length'] = df['title'].str.len()"
   ]
  },
  {
   "cell_type": "markdown",
   "id": "a1fa0143",
   "metadata": {},
   "source": [
    "Generate a heatmap to visualize correlation between numerical features."
   ]
  },
  {
   "cell_type": "code",
   "execution_count": null,
   "id": "25d147ee",
   "metadata": {},
   "outputs": [],
   "source": [
    "import seaborn as sns\n",
    "import matplotlib.pyplot as plt\n",
    "sns.heatmap(df.corr(), annot=True)\n",
    "plt.show()"
   ]
  },
  {
   "cell_type": "markdown",
   "id": "5574e456",
   "metadata": {},
   "source": [
    "Identify the ten most common words in titles."
   ]
  },
  {
   "cell_type": "code",
   "execution_count": null,
   "id": "c2684caa",
   "metadata": {},
   "outputs": [],
   "source": [
    "from collections import Counter\n",
    "popular_words = Counter(' '.join(df['title']).split()).most_common(10)"
   ]
  },
  {
   "cell_type": "markdown",
   "id": "e1dfed49",
   "metadata": {},
   "source": [
    "Create a bar plot for popular words in titles."
   ]
  },
  {
   "cell_type": "code",
   "execution_count": null,
   "id": "878efc19",
   "metadata": {},
   "outputs": [],
   "source": [
    "sns.barplot(x=[word[0] for word in popular_words], y=[word[1] for word in popular_words])\n",
    "plt.show()"
   ]
  },
  {
   "cell_type": "markdown",
   "id": "7161fbdb",
   "metadata": {},
   "source": [
    "Analyze the length of each body text."
   ]
  },
  {
   "cell_type": "code",
   "execution_count": null,
   "id": "8d7d1488",
   "metadata": {},
   "outputs": [],
   "source": [
    "df['body_length'] = df['body'].str.len()"
   ]
  },
  {
   "cell_type": "markdown",
   "id": "61c64655",
   "metadata": {},
   "source": [
    "Find the most popular tickers."
   ]
  },
  {
   "cell_type": "code",
   "execution_count": null,
   "id": "bdce018b",
   "metadata": {},
   "outputs": [],
   "source": [
    "popular_tickers = df['ticker'].value_counts().head(10)"
   ]
  },
  {
   "cell_type": "markdown",
   "id": "803e88aa",
   "metadata": {},
   "source": [
    "Display a bar plot for popular NYSE tickers."
   ]
  },
  {
   "cell_type": "code",
   "execution_count": null,
   "id": "526675ab",
   "metadata": {},
   "outputs": [],
   "source": [
    "sns.barplot(x=popular_tickers.index, y=popular_tickers.values)\n",
    "plt.title('Popular NYSE Tickers')\n",
    "plt.show()"
   ]
  },
  {
   "cell_type": "markdown",
   "id": "821dae49",
   "metadata": {},
   "source": [
    "Display a bar plot for other tickers."
   ]
  },
  {
   "cell_type": "code",
   "execution_count": null,
   "id": "9cbbf84f",
   "metadata": {},
   "outputs": [],
   "source": [
    "sns.barplot(x='other_ticker', y='count', data=other_tickers_df)\n",
    "plt.title('Other Tickers')\n",
    "plt.show()"
   ]
  }
 ],
 "metadata": {
  "kernelspec": {
   "display_name": "Python 3",
   "language": "python",
   "name": "python3"
  },
  "language_info": {
   "codemirror_mode": {
    "name": "ipython",
    "version": 3
   },
   "file_extension": ".py",
   "mimetype": "text/x-python",
   "name": "python",
   "nbconvert_exporter": "python",
   "pygments_lexer": "ipython3",
   "version": "3.8.5"
  }
 },
 "nbformat": 4,
 "nbformat_minor": 5
}
