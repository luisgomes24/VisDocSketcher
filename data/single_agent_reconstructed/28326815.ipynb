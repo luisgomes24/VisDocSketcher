{
 "cells": [
  {
   "cell_type": "markdown",
   "id": "c3e9865f",
   "metadata": {},
   "source": [
    "Load CSV metadata into a DataFrame."
   ]
  },
  {
   "cell_type": "code",
   "execution_count": null,
   "id": "02e5c888",
   "metadata": {},
   "outputs": [],
   "source": [
    "import pandas as pd\n",
    "data = pd.read_csv('metadata.csv')"
   ]
  },
  {
   "cell_type": "markdown",
   "id": "033066d3",
   "metadata": {},
   "source": [
    "Rename variables in the DataFrame for clarity."
   ]
  },
  {
   "cell_type": "code",
   "execution_count": null,
   "id": "0dac4180",
   "metadata": {},
   "outputs": [],
   "source": [
    "data.rename(columns={'old_name': 'new_name'}, inplace=True)"
   ]
  },
  {
   "cell_type": "markdown",
   "id": "5f776973",
   "metadata": {},
   "source": [
    "Create a dictionary mapping image names to their paths."
   ]
  },
  {
   "cell_type": "code",
   "execution_count": null,
   "id": "102c841e",
   "metadata": {},
   "outputs": [],
   "source": [
    "import os\n",
    "images = {img: os.path.join('images', img) for img in os.listdir('images')}"
   ]
  },
  {
   "cell_type": "markdown",
   "id": "9000490b",
   "metadata": {},
   "source": [
    "Setup DataBlock for preparing DataLoaders."
   ]
  },
  {
   "cell_type": "code",
   "execution_count": null,
   "id": "ce6a9a34",
   "metadata": {},
   "outputs": [],
   "source": [
    "from fastai.vision.all import *\n",
    "DataBlock = DataBlock(blocks=(ImageBlock, CategoryBlock), get_items=get_image_files, splitter=RandomSplitter())"
   ]
  },
  {
   "cell_type": "markdown",
   "id": "941b4a8b",
   "metadata": {},
   "source": [
    "Prepare DataLoaders from the DataBlock."
   ]
  },
  {
   "cell_type": "code",
   "execution_count": null,
   "id": "c06963da",
   "metadata": {},
   "outputs": [],
   "source": [
    "dls = DataBlock.dataloaders(path)"
   ]
  },
  {
   "cell_type": "markdown",
   "id": "d2f41486",
   "metadata": {},
   "source": [
    "Visualize a sample image from the dataset."
   ]
  },
  {
   "cell_type": "code",
   "execution_count": null,
   "id": "6625d650",
   "metadata": {},
   "outputs": [],
   "source": [
    "import matplotlib.pyplot as plt\n",
    "plt.imshow(images['sample_image.jpg'])\n",
    "plt.show()"
   ]
  },
  {
   "cell_type": "markdown",
   "id": "66e860cc",
   "metadata": {},
   "source": [
    "Train the model using a convolutional neural network."
   ]
  },
  {
   "cell_type": "code",
   "execution_count": null,
   "id": "4922183e",
   "metadata": {},
   "outputs": [],
   "source": [
    "learn = cnn_learner(dls, resnet34, metrics=accuracy)\n",
    "learn.fine_tune(1)"
   ]
  },
  {
   "cell_type": "markdown",
   "id": "b70b9059",
   "metadata": {},
   "source": [
    "Save the trained model to disk."
   ]
  },
  {
   "cell_type": "code",
   "execution_count": null,
   "id": "8d688413",
   "metadata": {},
   "outputs": [],
   "source": [
    "learn.save('model_name')"
   ]
  },
  {
   "cell_type": "markdown",
   "id": "3a7d47b0",
   "metadata": {},
   "source": [
    "Interpret model results and plot the confusion matrix."
   ]
  },
  {
   "cell_type": "code",
   "execution_count": null,
   "id": "32e3923d",
   "metadata": {},
   "outputs": [],
   "source": [
    "interp = ClassificationInterpretation.from_learner(learn)\n",
    "interp.plot_confusion_matrix()"
   ]
  },
  {
   "cell_type": "markdown",
   "id": "98410816",
   "metadata": {},
   "source": [
    "Visualize training loss over epochs."
   ]
  },
  {
   "cell_type": "code",
   "execution_count": null,
   "id": "6ad7049c",
   "metadata": {},
   "outputs": [],
   "source": [
    "plt.plot(learn.recorder.losses)\n",
    "plt.title('Loss over Epochs')\n",
    "plt.xlabel('Epochs')\n",
    "plt.ylabel('Loss')\n",
    "plt.show()"
   ]
  }
 ],
 "metadata": {
  "kernelspec": {
   "display_name": "Python 3",
   "language": "python",
   "name": "python3"
  },
  "language_info": {
   "codemirror_mode": {
    "name": "ipython",
    "version": 3
   },
   "file_extension": ".py",
   "mimetype": "text/x-python",
   "name": "python",
   "nbconvert_exporter": "python",
   "pygments_lexer": "ipython3",
   "version": "3.8.5"
  }
 },
 "nbformat": 4,
 "nbformat_minor": 5
}
