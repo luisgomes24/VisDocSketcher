{
 "cells": [
  {
   "cell_type": "markdown",
   "id": "3a805fc1",
   "metadata": {},
   "source": [
    "Load data from a CSV file into a DataFrame named dfGSS."
   ]
  },
  {
   "cell_type": "code",
   "execution_count": null,
   "id": "c3dfa1df",
   "metadata": {},
   "outputs": [],
   "source": [
    "import pandas as pd\n",
    "dfGSS = pd.read_csv('data.csv')"
   ]
  },
  {
   "cell_type": "markdown",
   "id": "5beb77e4",
   "metadata": {},
   "source": [
    "Explore the first few rows of the data to get an overview."
   ]
  },
  {
   "cell_type": "code",
   "execution_count": null,
   "id": "e4aa7d5b",
   "metadata": {},
   "outputs": [],
   "source": [
    "dfGSS.head()"
   ]
  },
  {
   "cell_type": "markdown",
   "id": "da199537",
   "metadata": {},
   "source": [
    "Generate frequency distribution for numeric variables."
   ]
  },
  {
   "cell_type": "code",
   "execution_count": null,
   "id": "e3f07dfb",
   "metadata": {},
   "outputs": [],
   "source": [
    "dfGSS.describe()"
   ]
  },
  {
   "cell_type": "markdown",
   "id": "c2556622",
   "metadata": {},
   "source": [
    "Create a histogram for a specific numeric variable."
   ]
  },
  {
   "cell_type": "code",
   "execution_count": null,
   "id": "f2a4f9e3",
   "metadata": {},
   "outputs": [],
   "source": [
    "import matplotlib.pyplot as plt\n",
    "plt.hist(dfGSS['numeric_column'], bins=10)\n",
    "plt.show()"
   ]
  },
  {
   "cell_type": "markdown",
   "id": "cb204c0f",
   "metadata": {},
   "source": [
    "Generate a bar chart for a specific categorical variable."
   ]
  },
  {
   "cell_type": "code",
   "execution_count": null,
   "id": "f4945e7b",
   "metadata": {},
   "outputs": [],
   "source": [
    "dfGSS['categorical_column'].value_counts().plot(kind='bar')\n",
    "plt.show()"
   ]
  },
  {
   "cell_type": "markdown",
   "id": "09b7e3ab",
   "metadata": {},
   "source": [
    "Compute descriptive statistics for all columns."
   ]
  },
  {
   "cell_type": "code",
   "execution_count": null,
   "id": "29709ea2",
   "metadata": {},
   "outputs": [],
   "source": [
    "dfGSS.describe(include='all')"
   ]
  },
  {
   "cell_type": "markdown",
   "id": "aca7b7aa",
   "metadata": {},
   "source": [
    "Perform crosstab analysis between two categorical variables."
   ]
  },
  {
   "cell_type": "code",
   "execution_count": null,
   "id": "566e464d",
   "metadata": {},
   "outputs": [],
   "source": [
    "pd.crosstab(dfGSS['column1'], dfGSS['column2'])"
   ]
  },
  {
   "cell_type": "markdown",
   "id": "71a0b168",
   "metadata": {},
   "source": [
    "Conduct a Chi-Square test for independence."
   ]
  },
  {
   "cell_type": "code",
   "execution_count": null,
   "id": "733acb6c",
   "metadata": {},
   "outputs": [],
   "source": [
    "from scipy.stats import chi2_contingency\n",
    "chi2, p, dof, ex = chi2_contingency(pd.crosstab(dfGSS['column1'], dfGSS['column2']))"
   ]
  },
  {
   "cell_type": "markdown",
   "id": "85d0d602",
   "metadata": {},
   "source": [
    "Perform correlation analysis between numeric variables."
   ]
  },
  {
   "cell_type": "code",
   "execution_count": null,
   "id": "2b9dfab2",
   "metadata": {},
   "outputs": [],
   "source": [
    "dfGSS.corr()"
   ]
  }
 ],
 "metadata": {
  "kernelspec": {
   "display_name": "Python 3",
   "language": "python",
   "name": "python3"
  },
  "language_info": {
   "codemirror_mode": {
    "name": "ipython",
    "version": 3
   },
   "file_extension": ".py",
   "mimetype": "text/x-python",
   "name": "python",
   "nbconvert_exporter": "python",
   "pygments_lexer": "ipython3",
   "version": "3.8.5"
  }
 },
 "nbformat": 4,
 "nbformat_minor": 5
}
