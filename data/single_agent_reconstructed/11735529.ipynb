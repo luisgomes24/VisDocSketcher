{
 "cells": [
  {
   "cell_type": "markdown",
   "id": "019c6723",
   "metadata": {},
   "source": [
    "Import the pandas library to handle data manipulation."
   ]
  },
  {
   "cell_type": "code",
   "execution_count": null,
   "id": "9721332f",
   "metadata": {},
   "outputs": [],
   "source": [
    "import pandas as pd"
   ]
  },
  {
   "cell_type": "markdown",
   "id": "ba63fc68",
   "metadata": {},
   "source": [
    "Load the data from a CSV file into a DataFrame."
   ]
  },
  {
   "cell_type": "code",
   "execution_count": null,
   "id": "c58ea8b3",
   "metadata": {},
   "outputs": [],
   "source": [
    "data = pd.read_csv('data.csv')"
   ]
  },
  {
   "cell_type": "markdown",
   "id": "700ee7bf",
   "metadata": {},
   "source": [
    "Inspect the first few rows of the data for an overview."
   ]
  },
  {
   "cell_type": "code",
   "execution_count": null,
   "id": "f301aec2",
   "metadata": {},
   "outputs": [],
   "source": [
    "data.head()"
   ]
  },
  {
   "cell_type": "markdown",
   "id": "c8c4ab94",
   "metadata": {},
   "source": [
    "Clean the data by removing any rows with missing values."
   ]
  },
  {
   "cell_type": "code",
   "execution_count": null,
   "id": "14044289",
   "metadata": {},
   "outputs": [],
   "source": [
    "data_cleaned = data.dropna()"
   ]
  },
  {
   "cell_type": "markdown",
   "id": "fc16e0ba",
   "metadata": {},
   "source": [
    "Import matplotlib for data visualization."
   ]
  },
  {
   "cell_type": "code",
   "execution_count": null,
   "id": "c3678f52",
   "metadata": {},
   "outputs": [],
   "source": [
    "import matplotlib.pyplot as plt"
   ]
  },
  {
   "cell_type": "markdown",
   "id": "93277d76",
   "metadata": {},
   "source": [
    "Set the figure dimensions for the plot."
   ]
  },
  {
   "cell_type": "code",
   "execution_count": null,
   "id": "3434c7f3",
   "metadata": {},
   "outputs": [],
   "source": [
    "plt.figure(figsize=(10, 6))"
   ]
  },
  {
   "cell_type": "markdown",
   "id": "63eaa2ab",
   "metadata": {},
   "source": [
    "Create a bar plot of CO2 emissions for each country."
   ]
  },
  {
   "cell_type": "code",
   "execution_count": null,
   "id": "1d8e0e3f",
   "metadata": {},
   "outputs": [],
   "source": [
    "plt.bar(data_cleaned['Country'], data_cleaned['CO2_Emissions'])"
   ]
  },
  {
   "cell_type": "markdown",
   "id": "594816a0",
   "metadata": {},
   "source": [
    "Add a title to the plot for clarity."
   ]
  },
  {
   "cell_type": "code",
   "execution_count": null,
   "id": "8e341cb9",
   "metadata": {},
   "outputs": [],
   "source": [
    "plt.title('CO2 Emissions by Country')"
   ]
  },
  {
   "cell_type": "markdown",
   "id": "06781e54",
   "metadata": {},
   "source": [
    "Label the x-axis as 'Country'."
   ]
  },
  {
   "cell_type": "code",
   "execution_count": null,
   "id": "d10e19af",
   "metadata": {},
   "outputs": [],
   "source": [
    "plt.xlabel('Country')"
   ]
  },
  {
   "cell_type": "markdown",
   "id": "11943eb9",
   "metadata": {},
   "source": [
    "Label the y-axis as 'CO2 Emissions'."
   ]
  },
  {
   "cell_type": "code",
   "execution_count": null,
   "id": "ca34925c",
   "metadata": {},
   "outputs": [],
   "source": [
    "plt.ylabel('CO2 Emissions')"
   ]
  },
  {
   "cell_type": "markdown",
   "id": "13f23043",
   "metadata": {},
   "source": [
    "Rotate the x-axis labels for better readability."
   ]
  },
  {
   "cell_type": "code",
   "execution_count": null,
   "id": "01998865",
   "metadata": {},
   "outputs": [],
   "source": [
    "plt.xticks(rotation=45)"
   ]
  },
  {
   "cell_type": "markdown",
   "id": "1c82fefb",
   "metadata": {},
   "source": [
    "Automatically adjust the layout to fit all elements."
   ]
  },
  {
   "cell_type": "code",
   "execution_count": null,
   "id": "a292f690",
   "metadata": {},
   "outputs": [],
   "source": [
    "plt.tight_layout()"
   ]
  },
  {
   "cell_type": "markdown",
   "id": "ae4664d4",
   "metadata": {},
   "source": [
    "Display the final plot to the user."
   ]
  },
  {
   "cell_type": "code",
   "execution_count": null,
   "id": "eac78dab",
   "metadata": {},
   "outputs": [],
   "source": [
    "plt.show()"
   ]
  }
 ],
 "metadata": {
  "kernelspec": {
   "display_name": "Python 3",
   "language": "python",
   "name": "python3"
  },
  "language_info": {
   "codemirror_mode": {
    "name": "ipython",
    "version": 3
   },
   "file_extension": ".py",
   "mimetype": "text/x-python",
   "name": "python",
   "nbconvert_exporter": "python",
   "pygments_lexer": "ipython3",
   "version": "3.8.5"
  }
 },
 "nbformat": 4,
 "nbformat_minor": 5
}
