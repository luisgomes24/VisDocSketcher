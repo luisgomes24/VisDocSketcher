{
 "cells": [
  {
   "cell_type": "markdown",
   "id": "91a90f6e",
   "metadata": {},
   "source": [
    "Load multiple datasets from CSV files into pandas DataFrames."
   ]
  },
  {
   "cell_type": "code",
   "execution_count": null,
   "id": "3aa3bffc",
   "metadata": {},
   "outputs": [],
   "source": [
    "import pandas as pd\n",
    "\n",
    "datasets = [pd.read_csv('data1.csv'), pd.read_csv('data2.csv')]"
   ]
  },
  {
   "cell_type": "markdown",
   "id": "45df3326",
   "metadata": {},
   "source": [
    "Merge the loaded DataFrames into a single DataFrame."
   ]
  },
  {
   "cell_type": "code",
   "execution_count": null,
   "id": "857851cc",
   "metadata": {},
   "outputs": [],
   "source": [
    "merged_df = pd.concat(datasets, ignore_index=True)"
   ]
  },
  {
   "cell_type": "markdown",
   "id": "4b8d89a4",
   "metadata": {},
   "source": [
    "Subset the DataFrame to keep only the relevant columns."
   ]
  },
  {
   "cell_type": "code",
   "execution_count": null,
   "id": "f96e6437",
   "metadata": {},
   "outputs": [],
   "source": [
    "subset_df = merged_df[['column1', 'column2']]"
   ]
  },
  {
   "cell_type": "markdown",
   "id": "3c91b588",
   "metadata": {},
   "source": [
    "Prepare a pivot table for analysis based on specified indices and values."
   ]
  },
  {
   "cell_type": "code",
   "execution_count": null,
   "id": "6e8257f0",
   "metadata": {},
   "outputs": [],
   "source": [
    "pivot_table = subset_df.pivot_table(index='column1', columns='column2', values='ratings')"
   ]
  },
  {
   "cell_type": "markdown",
   "id": "c94a41ce",
   "metadata": {},
   "source": [
    "Apply matrix factorization using SVD to reduce dimensionality."
   ]
  },
  {
   "cell_type": "code",
   "execution_count": null,
   "id": "1018e115",
   "metadata": {},
   "outputs": [],
   "source": [
    "from sklearn.decomposition import TruncatedSVD\n",
    "svd = TruncatedSVD(n_components=5)\n",
    "matrix = svd.fit_transform(pivot_table)"
   ]
  },
  {
   "cell_type": "markdown",
   "id": "20814f89",
   "metadata": {},
   "source": [
    "Evaluate the SVD model by calculating the mean squared error."
   ]
  },
  {
   "cell_type": "code",
   "execution_count": null,
   "id": "1809d359",
   "metadata": {},
   "outputs": [],
   "source": [
    "from sklearn.metrics import mean_squared_error\n",
    "evaluation_score = mean_squared_error(original_data, reconstructed_data)"
   ]
  },
  {
   "cell_type": "markdown",
   "id": "cb7b0a6f",
   "metadata": {},
   "source": [
    "Use the trained model to predict the ratings based on the SVD output."
   ]
  },
  {
   "cell_type": "code",
   "execution_count": null,
   "id": "cd04aa7b",
   "metadata": {},
   "outputs": [],
   "source": [
    "predictions = svd.inverse_transform(matrix)"
   ]
  }
 ],
 "metadata": {
  "kernelspec": {
   "display_name": "Python 3",
   "language": "python",
   "name": "python3"
  },
  "language_info": {
   "codemirror_mode": {
    "name": "ipython",
    "version": 3
   },
   "file_extension": ".py",
   "mimetype": "text/x-python",
   "name": "python",
   "nbconvert_exporter": "python",
   "pygments_lexer": "ipython3",
   "version": "3.8.5"
  }
 },
 "nbformat": 4,
 "nbformat_minor": 5
}
