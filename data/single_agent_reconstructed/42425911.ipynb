{
 "cells": [
  {
   "cell_type": "markdown",
   "id": "a50e29ce",
   "metadata": {},
   "source": [
    "Load the dataset from a CSV file into a DataFrame."
   ]
  },
  {
   "cell_type": "code",
   "execution_count": null,
   "id": "b95647ca",
   "metadata": {},
   "outputs": [],
   "source": [
    "import pandas as pd\n",
    "data = pd.read_csv('data.csv')"
   ]
  },
  {
   "cell_type": "markdown",
   "id": "095544d4",
   "metadata": {},
   "source": [
    "Preprocess the data by removing missing values and stripping whitespace."
   ]
  },
  {
   "cell_type": "code",
   "execution_count": null,
   "id": "ffa1f048",
   "metadata": {},
   "outputs": [],
   "source": [
    "data.dropna(inplace=True)\n",
    "data = data.apply(lambda x: x.str.strip() if x.dtype == 'object' else x)"
   ]
  },
  {
   "cell_type": "markdown",
   "id": "afb5b150",
   "metadata": {},
   "source": [
    "Display the first sample image from the dataset."
   ]
  },
  {
   "cell_type": "code",
   "execution_count": null,
   "id": "4137e376",
   "metadata": {},
   "outputs": [],
   "source": [
    "import matplotlib.pyplot as plt\n",
    "sample_image = data['images'][0]\n",
    "plt.imshow(plt.imread(sample_image))\n",
    "plt.axis('off')\n",
    "plt.show()"
   ]
  },
  {
   "cell_type": "markdown",
   "id": "0e718209",
   "metadata": {},
   "source": [
    "Detect faces in the displayed sample image using MTCNN."
   ]
  },
  {
   "cell_type": "code",
   "execution_count": null,
   "id": "7f36d520",
   "metadata": {},
   "outputs": [],
   "source": [
    "from mtcnn import MTCNN\n",
    "detector = MTCNN()\n",
    "faces = detector.detect_faces(sample_image)"
   ]
  },
  {
   "cell_type": "markdown",
   "id": "56e38562",
   "metadata": {},
   "source": [
    "Overlay the detection results using a box plot of face confidences."
   ]
  },
  {
   "cell_type": "code",
   "execution_count": null,
   "id": "e268e160",
   "metadata": {},
   "outputs": [],
   "source": [
    "plt.boxplot([face['confidence'] for face in faces])\n",
    "plt.title('Face Detection Results')\n",
    "plt.show()"
   ]
  },
  {
   "cell_type": "markdown",
   "id": "4e54acd3",
   "metadata": {},
   "source": [
    "Extract and save detected faces as separate images."
   ]
  },
  {
   "cell_type": "code",
   "execution_count": null,
   "id": "9b9dcdfb",
   "metadata": {},
   "outputs": [],
   "source": [
    "for i, face in enumerate(faces):\n",
    "    x, y, width, height = face['box']\n",
    "    plt.imsave(f'extracted_faces/face_{i}.jpg', sample_image[y:y+height, x:x+width])"
   ]
  },
  {
   "cell_type": "markdown",
   "id": "aef181c5",
   "metadata": {},
   "source": [
    "Analyze images that were excluded from face detection."
   ]
  },
  {
   "cell_type": "code",
   "execution_count": null,
   "id": "d8b3623f",
   "metadata": {},
   "outputs": [],
   "source": [
    "excluded_images_analysis = analyze_excluded_images(data)\n",
    "print(excluded_images_analysis)"
   ]
  },
  {
   "cell_type": "markdown",
   "id": "8e01e0d2",
   "metadata": {},
   "source": [
    "Generate a grid containing processed images for visualization."
   ]
  },
  {
   "cell_type": "code",
   "execution_count": null,
   "id": "4f264bdf",
   "metadata": {},
   "outputs": [],
   "source": [
    "import griddata\n",
    "griddata.generate_grid('processed_images', grid_size=(5, 5))"
   ]
  },
  {
   "cell_type": "markdown",
   "id": "9f93f87b",
   "metadata": {},
   "source": [
    "Zip the directory containing extracted faces into a downloadable dataset."
   ]
  },
  {
   "cell_type": "code",
   "execution_count": null,
   "id": "f23e6116",
   "metadata": {},
   "outputs": [],
   "source": [
    "import shutil\n",
    "shutil.make_archive('downloadable_dataset', 'zip', 'extracted_faces')"
   ]
  }
 ],
 "metadata": {
  "kernelspec": {
   "display_name": "Python 3",
   "language": "python",
   "name": "python3"
  },
  "language_info": {
   "codemirror_mode": {
    "name": "ipython",
    "version": 3
   },
   "file_extension": ".py",
   "mimetype": "text/x-python",
   "name": "python",
   "nbconvert_exporter": "python",
   "pygments_lexer": "ipython3",
   "version": "3.8.5"
  }
 },
 "nbformat": 4,
 "nbformat_minor": 5
}
