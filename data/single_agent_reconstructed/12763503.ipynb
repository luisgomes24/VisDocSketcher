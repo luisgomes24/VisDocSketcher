{
 "cells": [
  {
   "cell_type": "markdown",
   "id": "3a27defd",
   "metadata": {},
   "source": [
    "Load the dataset into a pandas DataFrame."
   ]
  },
  {
   "cell_type": "code",
   "execution_count": null,
   "id": "ba0e40a7",
   "metadata": {},
   "outputs": [],
   "source": [
    "import pandas as pd\n",
    "\n",
    "df = pd.read_csv('data.csv')"
   ]
  },
  {
   "cell_type": "markdown",
   "id": "2e89f353",
   "metadata": {},
   "source": [
    "Get an overview of the data with the first few rows."
   ]
  },
  {
   "cell_type": "code",
   "execution_count": null,
   "id": "e06eb82a",
   "metadata": {},
   "outputs": [],
   "source": [
    "print(df.head())"
   ]
  },
  {
   "cell_type": "markdown",
   "id": "de8ae796",
   "metadata": {},
   "source": [
    "Generate histograms for each numerical column."
   ]
  },
  {
   "cell_type": "code",
   "execution_count": null,
   "id": "17013bd3",
   "metadata": {},
   "outputs": [],
   "source": [
    "df.hist(figsize=(10, 10))"
   ]
  },
  {
   "cell_type": "markdown",
   "id": "5b7c4648",
   "metadata": {},
   "source": [
    "Calculate the correlation matrix to understand relationships."
   ]
  },
  {
   "cell_type": "code",
   "execution_count": null,
   "id": "c8a8e090",
   "metadata": {},
   "outputs": [],
   "source": [
    "correlation_matrix = df.corr()"
   ]
  },
  {
   "cell_type": "markdown",
   "id": "01f58d4f",
   "metadata": {},
   "source": [
    "Create a scatter matrix to visualize pairwise relationships."
   ]
  },
  {
   "cell_type": "code",
   "execution_count": null,
   "id": "97db2584",
   "metadata": {},
   "outputs": [],
   "source": [
    "import seaborn as sns\n",
    "import matplotlib.pyplot as plt\n",
    "sns.pairplot(df)\n",
    "plt.show()"
   ]
  },
  {
   "cell_type": "markdown",
   "id": "c18cfe1b",
   "metadata": {},
   "source": [
    "Apply one-hot encoding to categorical features."
   ]
  },
  {
   "cell_type": "code",
   "execution_count": null,
   "id": "10700cfd",
   "metadata": {},
   "outputs": [],
   "source": [
    "from sklearn.preprocessing import OneHotEncoder\n",
    "encoder = OneHotEncoder()\n",
    "df_encoded = encoder.fit_transform(df[['categorical_column']])"
   ]
  },
  {
   "cell_type": "markdown",
   "id": "62e22499",
   "metadata": {},
   "source": [
    "Handle missing data by filling with the mean of each column."
   ]
  },
  {
   "cell_type": "code",
   "execution_count": null,
   "id": "2ee29246",
   "metadata": {},
   "outputs": [],
   "source": [
    "df.fillna(df.mean(), inplace=True)"
   ]
  },
  {
   "cell_type": "markdown",
   "id": "8757b292",
   "metadata": {},
   "source": [
    "Scale the data to normalize the feature distributions."
   ]
  },
  {
   "cell_type": "code",
   "execution_count": null,
   "id": "082576bf",
   "metadata": {},
   "outputs": [],
   "source": [
    "from sklearn.preprocessing import StandardScaler\n",
    "scaler = StandardScaler()\n",
    "df_scaled = scaler.fit_transform(df_encoded)"
   ]
  },
  {
   "cell_type": "markdown",
   "id": "131a6c01",
   "metadata": {},
   "source": [
    "Split the dataset into training and testing sets."
   ]
  },
  {
   "cell_type": "code",
   "execution_count": null,
   "id": "dc4213c6",
   "metadata": {},
   "outputs": [],
   "source": [
    "from sklearn.model_selection import train_test_split\n",
    "X_train, X_test, y_train, y_test = train_test_split(df_scaled, target, test_size=0.2)"
   ]
  },
  {
   "cell_type": "markdown",
   "id": "a8fe30c9",
   "metadata": {},
   "source": [
    "Train a linear regression model."
   ]
  },
  {
   "cell_type": "code",
   "execution_count": null,
   "id": "1897cddf",
   "metadata": {},
   "outputs": [],
   "source": [
    "from sklearn.linear_model import LinearRegression\n",
    "model_lr = LinearRegression()\n",
    "model_lr.fit(X_train, y_train)"
   ]
  },
  {
   "cell_type": "markdown",
   "id": "bcef6451",
   "metadata": {},
   "source": [
    "Evaluate the linear regression model using MSE."
   ]
  },
  {
   "cell_type": "code",
   "execution_count": null,
   "id": "502fe912",
   "metadata": {},
   "outputs": [],
   "source": [
    "from sklearn.metrics import mean_squared_error\n",
    "predictions_lr = model_lr.predict(X_test)\n",
    "print(mean_squared_error(y_test, predictions_lr))"
   ]
  },
  {
   "cell_type": "markdown",
   "id": "e746e21e",
   "metadata": {},
   "source": [
    "Train a neural network model."
   ]
  },
  {
   "cell_type": "code",
   "execution_count": null,
   "id": "07f3bf02",
   "metadata": {},
   "outputs": [],
   "source": [
    "from sklearn.neural_network import MLPRegressor\n",
    "model_nn = MLPRegressor()\n",
    "model_nn.fit(X_train, y_train)"
   ]
  },
  {
   "cell_type": "markdown",
   "id": "777d0471",
   "metadata": {},
   "source": [
    "Evaluate the neural network model using MSE."
   ]
  },
  {
   "cell_type": "code",
   "execution_count": null,
   "id": "a5bf0992",
   "metadata": {},
   "outputs": [],
   "source": [
    "predictions_nn = model_nn.predict(X_test)\n",
    "print(mean_squared_error(y_test, predictions_nn))"
   ]
  },
  {
   "cell_type": "markdown",
   "id": "c4d0108e",
   "metadata": {},
   "source": [
    "Train a decision tree model."
   ]
  },
  {
   "cell_type": "code",
   "execution_count": null,
   "id": "8b28dfbc",
   "metadata": {},
   "outputs": [],
   "source": [
    "from sklearn.tree import DecisionTreeRegressor\n",
    "model_dt = DecisionTreeRegressor()\n",
    "model_dt.fit(X_train, y_train)"
   ]
  },
  {
   "cell_type": "markdown",
   "id": "20445cc4",
   "metadata": {},
   "source": [
    "Evaluate the decision tree model using MSE."
   ]
  },
  {
   "cell_type": "code",
   "execution_count": null,
   "id": "99ed12e8",
   "metadata": {},
   "outputs": [],
   "source": [
    "predictions_dt = model_dt.predict(X_test)\n",
    "print(mean_squared_error(y_test, predictions_dt))"
   ]
  }
 ],
 "metadata": {
  "kernelspec": {
   "display_name": "Python 3",
   "language": "python",
   "name": "python3"
  },
  "language_info": {
   "codemirror_mode": {
    "name": "ipython",
    "version": 3
   },
   "file_extension": ".py",
   "mimetype": "text/x-python",
   "name": "python",
   "nbconvert_exporter": "python",
   "pygments_lexer": "ipython3",
   "version": "3.8.5"
  }
 },
 "nbformat": 4,
 "nbformat_minor": 5
}
