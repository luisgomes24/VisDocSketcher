{
 "cells": [
  {
   "cell_type": "markdown",
   "id": "60635fd3",
   "metadata": {},
   "source": [
    "Load data from a CSV file using pandas."
   ]
  },
  {
   "cell_type": "code",
   "execution_count": null,
   "id": "ed33085b",
   "metadata": {},
   "outputs": [],
   "source": [
    "import pandas as pd\n",
    "data = pd.read_csv('data.csv')"
   ]
  },
  {
   "cell_type": "markdown",
   "id": "20782bab",
   "metadata": {},
   "source": [
    "Visualize data distributions using a histogram."
   ]
  },
  {
   "cell_type": "code",
   "execution_count": null,
   "id": "5d36ad54",
   "metadata": {},
   "outputs": [],
   "source": [
    "import matplotlib.pyplot as plt\n",
    "plt.hist(data['column_name'])\n",
    "plt.title('Distribution')\n",
    "plt.show()"
   ]
  },
  {
   "cell_type": "markdown",
   "id": "07873775",
   "metadata": {},
   "source": [
    "Create bar plots for categorical data."
   ]
  },
  {
   "cell_type": "code",
   "execution_count": null,
   "id": "a15d5120",
   "metadata": {},
   "outputs": [],
   "source": [
    "import seaborn as sns\n",
    "sns.barplot(data=data, x='category', y='value')\n",
    "plt.show()"
   ]
  },
  {
   "cell_type": "markdown",
   "id": "f406a08a",
   "metadata": {},
   "source": [
    "Perform correlation analysis to compute the correlation matrix."
   ]
  },
  {
   "cell_type": "code",
   "execution_count": null,
   "id": "2a517505",
   "metadata": {},
   "outputs": [],
   "source": [
    "correlation_matrix = data.corr()"
   ]
  },
  {
   "cell_type": "markdown",
   "id": "4e6e6cfb",
   "metadata": {},
   "source": [
    "Visualize the correlation matrix using a heatmap."
   ]
  },
  {
   "cell_type": "code",
   "execution_count": null,
   "id": "11ceb3fc",
   "metadata": {},
   "outputs": [],
   "source": [
    "sns.heatmap(correlation_matrix, annot=True)\n",
    "plt.title('Correlation Matrix')\n",
    "plt.show()"
   ]
  },
  {
   "cell_type": "markdown",
   "id": "b0fd13f6",
   "metadata": {},
   "source": [
    "Perform scatter analysis by generating a scatter matrix."
   ]
  },
  {
   "cell_type": "code",
   "execution_count": null,
   "id": "62c77a21",
   "metadata": {},
   "outputs": [],
   "source": [
    "sns.pairplot(data)\n",
    "plt.title('Scatter Matrix')\n",
    "plt.show()"
   ]
  },
  {
   "cell_type": "markdown",
   "id": "63d4f05a",
   "metadata": {},
   "source": [
    "Visualize scatter results for two variables."
   ]
  },
  {
   "cell_type": "code",
   "execution_count": null,
   "id": "cffa9638",
   "metadata": {},
   "outputs": [],
   "source": [
    "plt.scatter(data['x_column'], data['y_column'])\n",
    "plt.title('Scatter Results')\n",
    "plt.xlabel('X-axis')\n",
    "plt.ylabel('Y-axis')\n",
    "plt.show()"
   ]
  }
 ],
 "metadata": {
  "kernelspec": {
   "display_name": "Python 3",
   "language": "python",
   "name": "python3"
  },
  "language_info": {
   "codemirror_mode": {
    "name": "ipython",
    "version": 3
   },
   "file_extension": ".py",
   "mimetype": "text/x-python",
   "name": "python",
   "nbconvert_exporter": "python",
   "pygments_lexer": "ipython3",
   "version": "3.8.5"
  }
 },
 "nbformat": 4,
 "nbformat_minor": 5
}
