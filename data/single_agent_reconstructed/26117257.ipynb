{
 "cells": [
  {
   "cell_type": "markdown",
   "id": "8628ac64",
   "metadata": {},
   "source": [
    "Load an image using OpenCV."
   ]
  },
  {
   "cell_type": "code",
   "execution_count": null,
   "id": "305cfd5d",
   "metadata": {},
   "outputs": [],
   "source": [
    "import cv2\n",
    "image = cv2.imread('image_path.jpg')"
   ]
  },
  {
   "cell_type": "markdown",
   "id": "7b6d8fd4",
   "metadata": {},
   "source": [
    "Load an image using Torchvision and convert it to a Tensor."
   ]
  },
  {
   "cell_type": "code",
   "execution_count": null,
   "id": "c57f231b",
   "metadata": {},
   "outputs": [],
   "source": [
    "from torchvision import transforms\n",
    "from PIL import Image\n",
    "image = Image.open('image_path.jpg')\n",
    "image = transforms.ToTensor()(image)"
   ]
  },
  {
   "cell_type": "markdown",
   "id": "f78ba8c8",
   "metadata": {},
   "source": [
    "Load an image using Kornia and convert it to a Tensor."
   ]
  },
  {
   "cell_type": "code",
   "execution_count": null,
   "id": "751b6541",
   "metadata": {},
   "outputs": [],
   "source": [
    "import kornia\n",
    "import cv2\n",
    "image = cv2.imread('image_path.jpg')\n",
    "image = kornia.image_to_tensor(image).float()"
   ]
  },
  {
   "cell_type": "markdown",
   "id": "2d1f8b16",
   "metadata": {},
   "source": [
    "Convert the image from BGR to RGB format."
   ]
  },
  {
   "cell_type": "code",
   "execution_count": null,
   "id": "73f786ef",
   "metadata": {},
   "outputs": [],
   "source": [
    "image_rgb = cv2.cvtColor(image, cv2.COLOR_BGR2RGB)"
   ]
  },
  {
   "cell_type": "markdown",
   "id": "bf8838b3",
   "metadata": {},
   "source": [
    "Visualize the RGB image using Matplotlib."
   ]
  },
  {
   "cell_type": "code",
   "execution_count": null,
   "id": "6696bfcc",
   "metadata": {},
   "outputs": [],
   "source": [
    "import matplotlib.pyplot as plt\n",
    "plt.imshow(image_rgb)\n",
    "plt.axis('off')\n",
    "plt.show()"
   ]
  },
  {
   "cell_type": "markdown",
   "id": "72ec4727",
   "metadata": {},
   "source": [
    "Convert BGR Tensor to RGB Tensor."
   ]
  },
  {
   "cell_type": "code",
   "execution_count": null,
   "id": "26ce9eee",
   "metadata": {},
   "outputs": [],
   "source": [
    "transformed_image = kornia.color.bgr_to_rgb(image_tensor)"
   ]
  },
  {
   "cell_type": "markdown",
   "id": "fc5a119d",
   "metadata": {},
   "source": [
    "Visualize the original and transformed images side by side."
   ]
  },
  {
   "cell_type": "code",
   "execution_count": null,
   "id": "915d843d",
   "metadata": {},
   "outputs": [],
   "source": [
    "plt.figure(figsize=(10, 5))\n",
    "plt.subplot(1, 2, 1)\n",
    "plt.imshow(image_rgb)\n",
    "plt.title('Original Image')\n",
    "plt.subplot(1, 2, 2)\n",
    "plt.imshow(transformed_image.permute(1, 2, 0).numpy())\n",
    "plt.title('Transformed Image')\n",
    "plt.show()"
   ]
  }
 ],
 "metadata": {
  "kernelspec": {
   "display_name": "Python 3",
   "language": "python",
   "name": "python3"
  },
  "language_info": {
   "codemirror_mode": {
    "name": "ipython",
    "version": 3
   },
   "file_extension": ".py",
   "mimetype": "text/x-python",
   "name": "python",
   "nbconvert_exporter": "python",
   "pygments_lexer": "ipython3",
   "version": "3.8.5"
  }
 },
 "nbformat": 4,
 "nbformat_minor": 5
}
