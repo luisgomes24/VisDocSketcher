{
 "cells": [
  {
   "cell_type": "markdown",
   "id": "5d220013",
   "metadata": {},
   "source": [
    "Load the dataset from a CSV file into a pandas DataFrame."
   ]
  },
  {
   "cell_type": "code",
   "execution_count": null,
   "id": "6f8637b9",
   "metadata": {},
   "outputs": [],
   "source": [
    "import pandas as pd\n",
    "\n",
    "data = pd.read_csv('data.csv')"
   ]
  },
  {
   "cell_type": "markdown",
   "id": "24ef02de",
   "metadata": {},
   "source": [
    "Overview of the dataset structure and summary statistics."
   ]
  },
  {
   "cell_type": "code",
   "execution_count": null,
   "id": "a09c81ad",
   "metadata": {},
   "outputs": [],
   "source": [
    "data.info()\n",
    "data.describe()"
   ]
  },
  {
   "cell_type": "markdown",
   "id": "eb1f7ef2",
   "metadata": {},
   "source": [
    "Generate boxplots to visualize the distribution of ad spending."
   ]
  },
  {
   "cell_type": "code",
   "execution_count": null,
   "id": "21ce50dd",
   "metadata": {},
   "outputs": [],
   "source": [
    "import matplotlib.pyplot as plt\n",
    "import seaborn as sns\n",
    "\n",
    "sns.boxplot(x='ad_spending', data=data)\n",
    "plt.title('Boxplots of Ad Spending')\n",
    "plt.show()"
   ]
  },
  {
   "cell_type": "markdown",
   "id": "609239c7",
   "metadata": {},
   "source": [
    "Create a scatterplot to examine the relationship between total cost and sales."
   ]
  },
  {
   "cell_type": "code",
   "execution_count": null,
   "id": "fe021e8e",
   "metadata": {},
   "outputs": [],
   "source": [
    "plt.scatter(data['total_cost'], data['sales'])\n",
    "plt.xlabel('Total Cost')\n",
    "plt.ylabel('Sales')\n",
    "plt.title('Scatterplot of Total Cost vs. Sales')\n",
    "plt.show()"
   ]
  },
  {
   "cell_type": "markdown",
   "id": "547984c4",
   "metadata": {},
   "source": [
    "Calculate and visualize the correlation matrix to understand feature relationships."
   ]
  },
  {
   "cell_type": "code",
   "execution_count": null,
   "id": "e6b8cc03",
   "metadata": {},
   "outputs": [],
   "source": [
    "correlation_matrix = data.corr()\n",
    "sns.heatmap(correlation_matrix, annot=True)\n",
    "plt.title('Correlation Matrix')\n",
    "plt.show()"
   ]
  },
  {
   "cell_type": "markdown",
   "id": "11bd84bb",
   "metadata": {},
   "source": [
    "Analyze total sales grouped by different ad types using a bar plot."
   ]
  },
  {
   "cell_type": "code",
   "execution_count": null,
   "id": "f0f28cdc",
   "metadata": {},
   "outputs": [],
   "source": [
    "sales_by_ad_type = data.groupby('ad_type')['sales'].sum().reset_index()\n",
    "sns.barplot(x='ad_type', y='sales', data=sales_by_ad_type)\n",
    "plt.title('Sales by Ad Type')\n",
    "plt.show()"
   ]
  },
  {
   "cell_type": "markdown",
   "id": "ef5031af",
   "metadata": {},
   "source": [
    "Compile and analyze total costs related to ad spending and sales."
   ]
  },
  {
   "cell_type": "code",
   "execution_count": null,
   "id": "d804ed6f",
   "metadata": {},
   "outputs": [],
   "source": [
    "cost_analysis = data[['ad_spending', 'total_cost', 'sales']].sum()"
   ]
  }
 ],
 "metadata": {
  "kernelspec": {
   "display_name": "Python 3",
   "language": "python",
   "name": "python3"
  },
  "language_info": {
   "codemirror_mode": {
    "name": "ipython",
    "version": 3
   },
   "file_extension": ".py",
   "mimetype": "text/x-python",
   "name": "python",
   "nbconvert_exporter": "python",
   "pygments_lexer": "ipython3",
   "version": "3.8.5"
  }
 },
 "nbformat": 4,
 "nbformat_minor": 5
}
