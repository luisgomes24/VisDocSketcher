{
 "cells": [
  {
   "cell_type": "markdown",
   "id": "7e1e4eb7",
   "metadata": {},
   "source": [
    "Import the pandas library for data manipulation."
   ]
  },
  {
   "cell_type": "code",
   "execution_count": null,
   "id": "de2eb3ca",
   "metadata": {},
   "outputs": [],
   "source": [
    "import pandas as pd"
   ]
  },
  {
   "cell_type": "markdown",
   "id": "fa53aa96",
   "metadata": {},
   "source": [
    "Load the 'fruits' DataFrame from a CSV file."
   ]
  },
  {
   "cell_type": "code",
   "execution_count": null,
   "id": "22c2e806",
   "metadata": {},
   "outputs": [],
   "source": [
    "fruits_df = pd.read_csv('fruits.csv')"
   ]
  },
  {
   "cell_type": "markdown",
   "id": "fcd63bae",
   "metadata": {},
   "source": [
    "Load the 'fruit_sales' DataFrame from a CSV file."
   ]
  },
  {
   "cell_type": "code",
   "execution_count": null,
   "id": "4c6eab77",
   "metadata": {},
   "outputs": [],
   "source": [
    "fruit_sales_df = pd.read_csv('fruit_sales.csv')"
   ]
  },
  {
   "cell_type": "markdown",
   "id": "2f48d0a3",
   "metadata": {},
   "source": [
    "Create a Series called 'ingredients' with sample items."
   ]
  },
  {
   "cell_type": "code",
   "execution_count": null,
   "id": "644bb316",
   "metadata": {},
   "outputs": [],
   "source": [
    "ingredients_series = pd.Series(['ingredient1', 'ingredient2'])"
   ]
  },
  {
   "cell_type": "markdown",
   "id": "2af0d00f",
   "metadata": {},
   "source": [
    "Load the 'reviews' DataFrame from a CSV file."
   ]
  },
  {
   "cell_type": "code",
   "execution_count": null,
   "id": "88993257",
   "metadata": {},
   "outputs": [],
   "source": [
    "reviews_df = pd.read_csv('reviews.csv')"
   ]
  },
  {
   "cell_type": "markdown",
   "id": "62f87a93",
   "metadata": {},
   "source": [
    "Save the 'animals' DataFrame to a CSV file."
   ]
  },
  {
   "cell_type": "code",
   "execution_count": null,
   "id": "8d65c3eb",
   "metadata": {},
   "outputs": [],
   "source": [
    "animals_df.to_csv('animals.csv', index=False)"
   ]
  },
  {
   "cell_type": "markdown",
   "id": "2dab78b7",
   "metadata": {},
   "source": [
    "Read data from an SQL database using a SQL query."
   ]
  },
  {
   "cell_type": "code",
   "execution_count": null,
   "id": "2d4295c2",
   "metadata": {},
   "outputs": [],
   "source": [
    "sql_data = pd.read_sql('SELECT * FROM table_name', connection)"
   ]
  }
 ],
 "metadata": {
  "kernelspec": {
   "display_name": "Python 3",
   "language": "python",
   "name": "python3"
  },
  "language_info": {
   "codemirror_mode": {
    "name": "ipython",
    "version": 3
   },
   "file_extension": ".py",
   "mimetype": "text/x-python",
   "name": "python",
   "nbconvert_exporter": "python",
   "pygments_lexer": "ipython3",
   "version": "3.8.5"
  }
 },
 "nbformat": 4,
 "nbformat_minor": 5
}
