{
 "cells": [
  {
   "cell_type": "markdown",
   "id": "7d948a3e",
   "metadata": {},
   "source": [
    "Load the dataset using pandas."
   ]
  },
  {
   "cell_type": "code",
   "execution_count": null,
   "id": "622ecaf3",
   "metadata": {},
   "outputs": [],
   "source": [
    "import pandas as pd\n",
    "\n",
    "data = pd.read_csv('data.csv')"
   ]
  },
  {
   "cell_type": "markdown",
   "id": "2a6368a6",
   "metadata": {},
   "source": [
    "Check for NaN values in the dataset."
   ]
  },
  {
   "cell_type": "code",
   "execution_count": null,
   "id": "99f3efa1",
   "metadata": {},
   "outputs": [],
   "source": [
    "data.isna().sum()"
   ]
  },
  {
   "cell_type": "markdown",
   "id": "48f992f9",
   "metadata": {},
   "source": [
    "Check the shape of the dataset."
   ]
  },
  {
   "cell_type": "code",
   "execution_count": null,
   "id": "851f826e",
   "metadata": {},
   "outputs": [],
   "source": [
    "data.shape"
   ]
  },
  {
   "cell_type": "markdown",
   "id": "f073ad4d",
   "metadata": {},
   "source": [
    "Check and drop any duplicate entries."
   ]
  },
  {
   "cell_type": "code",
   "execution_count": null,
   "id": "870d48d6",
   "metadata": {},
   "outputs": [],
   "source": [
    "data = data.drop_duplicates()"
   ]
  },
  {
   "cell_type": "markdown",
   "id": "9f186231",
   "metadata": {},
   "source": [
    "Identify potential outliers in a specified column."
   ]
  },
  {
   "cell_type": "code",
   "execution_count": null,
   "id": "620dd961",
   "metadata": {},
   "outputs": [],
   "source": [
    "import numpy as np\n",
    "\n",
    "outliers = data[(np.abs(data['column'] - data['column'].mean()) > 3 * data['column'].std())]"
   ]
  },
  {
   "cell_type": "markdown",
   "id": "1ecad0f9",
   "metadata": {},
   "source": [
    "Remove identified outliers from the dataset."
   ]
  },
  {
   "cell_type": "code",
   "execution_count": null,
   "id": "d2f4437e",
   "metadata": {},
   "outputs": [],
   "source": [
    "data = data[~data.index.isin(outliers.index)]"
   ]
  },
  {
   "cell_type": "markdown",
   "id": "dd6046c9",
   "metadata": {},
   "source": [
    "Create a new label based on 'quality' column."
   ]
  },
  {
   "cell_type": "code",
   "execution_count": null,
   "id": "bfb29d70",
   "metadata": {},
   "outputs": [],
   "source": [
    "data['label_quality'] = data['quality'].apply(lambda x: 'High' if x > 5 else 'Low')"
   ]
  },
  {
   "cell_type": "markdown",
   "id": "65168f09",
   "metadata": {},
   "source": [
    "Visualize the distribution of quality labels using a bar plot."
   ]
  },
  {
   "cell_type": "code",
   "execution_count": null,
   "id": "902e01fd",
   "metadata": {},
   "outputs": [],
   "source": [
    "import matplotlib.pyplot as plt\n",
    "\n",
    "plt.bar(data['label_quality'].value_counts().index, data['label_quality'].value_counts())\n",
    "plt.show()"
   ]
  },
  {
   "cell_type": "markdown",
   "id": "095f1196",
   "metadata": {},
   "source": [
    "Create a scatter plot of sulphates vs. alcohol."
   ]
  },
  {
   "cell_type": "code",
   "execution_count": null,
   "id": "566d2610",
   "metadata": {},
   "outputs": [],
   "source": [
    "plt.scatter(data['sulphates'], data['alcohol'])\n",
    "plt.xlabel('Sulphates')\n",
    "plt.ylabel('Alcohol')\n",
    "plt.show()"
   ]
  },
  {
   "cell_type": "markdown",
   "id": "a1a5f7cd",
   "metadata": {},
   "source": [
    "Split the dataset into training and testing sets."
   ]
  },
  {
   "cell_type": "code",
   "execution_count": null,
   "id": "8a3818fc",
   "metadata": {},
   "outputs": [],
   "source": [
    "from sklearn.model_selection import train_test_split\n",
    "\n",
    "X_train, X_test, y_train, y_test = train_test_split(data.drop('label', axis=1), data['label'], test_size=0.2, random_state=42)"
   ]
  },
  {
   "cell_type": "markdown",
   "id": "1e0fa0d3",
   "metadata": {},
   "source": [
    "Apply SMOTE to address class imbalance in the training data."
   ]
  },
  {
   "cell_type": "code",
   "execution_count": null,
   "id": "21d4aaaa",
   "metadata": {},
   "outputs": [],
   "source": [
    "from imblearn.over_sampling import SMOTE\n",
    "\n",
    "smote = SMOTE()\n",
    "X_resampled, y_resampled = smote.fit_resample(X_train, y_train)"
   ]
  },
  {
   "cell_type": "markdown",
   "id": "1ae9fe6c",
   "metadata": {},
   "source": [
    "Train a model using a Random Forest classifier."
   ]
  },
  {
   "cell_type": "code",
   "execution_count": null,
   "id": "b7919963",
   "metadata": {},
   "outputs": [],
   "source": [
    "from sklearn.ensemble import RandomForestClassifier\n",
    "\n",
    "model = RandomForestClassifier()\n",
    "model.fit(X_train, y_train)"
   ]
  },
  {
   "cell_type": "markdown",
   "id": "2fc0ed82",
   "metadata": {},
   "source": [
    "Make predictions on the testing set."
   ]
  },
  {
   "cell_type": "code",
   "execution_count": null,
   "id": "b0f3697a",
   "metadata": {},
   "outputs": [],
   "source": [
    "y_pred = model.predict(X_test)"
   ]
  },
  {
   "cell_type": "markdown",
   "id": "40638314",
   "metadata": {},
   "source": [
    "Evaluate the model using a confusion matrix."
   ]
  },
  {
   "cell_type": "code",
   "execution_count": null,
   "id": "f061b70c",
   "metadata": {},
   "outputs": [],
   "source": [
    "from sklearn.metrics import confusion_matrix\n",
    "\n",
    "conf_matrix = confusion_matrix(y_test, y_pred)"
   ]
  },
  {
   "cell_type": "markdown",
   "id": "4c716a9c",
   "metadata": {},
   "source": [
    "Generate a classification report for detailed evaluation."
   ]
  },
  {
   "cell_type": "code",
   "execution_count": null,
   "id": "de27f7e9",
   "metadata": {},
   "outputs": [],
   "source": [
    "from sklearn.metrics import classification_report\n",
    "\n",
    "report = classification_report(y_test, y_pred)"
   ]
  },
  {
   "cell_type": "markdown",
   "id": "5e08ecee",
   "metadata": {},
   "source": [
    "Calculate feature importance scores from the trained model."
   ]
  },
  {
   "cell_type": "code",
   "execution_count": null,
   "id": "b16ad332",
   "metadata": {},
   "outputs": [],
   "source": [
    "importances = model.feature_importances_"
   ]
  },
  {
   "cell_type": "markdown",
   "id": "f964b5a4",
   "metadata": {},
   "source": [
    "Visualize feature importance scores."
   ]
  },
  {
   "cell_type": "code",
   "execution_count": null,
   "id": "f18aa7cb",
   "metadata": {},
   "outputs": [],
   "source": [
    "plt.bar(range(len(importances)), importances)\n",
    "plt.show()"
   ]
  }
 ],
 "metadata": {
  "kernelspec": {
   "display_name": "Python 3",
   "language": "python",
   "name": "python3"
  },
  "language_info": {
   "codemirror_mode": {
    "name": "ipython",
    "version": 3
   },
   "file_extension": ".py",
   "mimetype": "text/x-python",
   "name": "python",
   "nbconvert_exporter": "python",
   "pygments_lexer": "ipython3",
   "version": "3.8.5"
  }
 },
 "nbformat": 4,
 "nbformat_minor": 5
}
