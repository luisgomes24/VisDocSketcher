{
 "cells": [
  {
   "cell_type": "markdown",
   "id": "992d4e0b",
   "metadata": {},
   "source": [
    "Load data from two CSV files into pandas DataFrames."
   ]
  },
  {
   "cell_type": "code",
   "execution_count": null,
   "id": "9e222bde",
   "metadata": {},
   "outputs": [],
   "source": [
    "import pandas as pd\n",
    "data1 = pd.read_csv('data1.csv')\n",
    "data2 = pd.read_csv('data2.csv')"
   ]
  },
  {
   "cell_type": "markdown",
   "id": "a0a6bfaf",
   "metadata": {},
   "source": [
    "Combine the two DataFrames into one."
   ]
  },
  {
   "cell_type": "code",
   "execution_count": null,
   "id": "3735913a",
   "metadata": {},
   "outputs": [],
   "source": [
    "combined_data = pd.concat([data1, data2])"
   ]
  },
  {
   "cell_type": "markdown",
   "id": "b838b73a",
   "metadata": {},
   "source": [
    "Clean the text data by removing special characters."
   ]
  },
  {
   "cell_type": "code",
   "execution_count": null,
   "id": "a9933e86",
   "metadata": {},
   "outputs": [],
   "source": [
    "combined_data['text'] = combined_data['text'].str.replace('[^a-zA-Z0-9 ]', '')"
   ]
  },
  {
   "cell_type": "markdown",
   "id": "e7872527",
   "metadata": {},
   "source": [
    "Save the cleaned DataFrame to a new CSV file."
   ]
  },
  {
   "cell_type": "code",
   "execution_count": null,
   "id": "c8bad8dd",
   "metadata": {},
   "outputs": [],
   "source": [
    "combined_data.to_csv('cleaned_data.csv', index=False)"
   ]
  },
  {
   "cell_type": "markdown",
   "id": "2948675e",
   "metadata": {},
   "source": [
    "Prepare the dataset by splitting it into training and test sets."
   ]
  },
  {
   "cell_type": "code",
   "execution_count": null,
   "id": "728f6caf",
   "metadata": {},
   "outputs": [],
   "source": [
    "from sklearn.model_selection import train_test_split\n",
    "train_data, test_data = train_test_split(combined_data, test_size=0.2)"
   ]
  },
  {
   "cell_type": "markdown",
   "id": "fafcdaa2",
   "metadata": {},
   "source": [
    "Initialize a logistic regression model for classification."
   ]
  },
  {
   "cell_type": "code",
   "execution_count": null,
   "id": "1950acc0",
   "metadata": {},
   "outputs": [],
   "source": [
    "from sklearn.linear_model import LogisticRegression\n",
    "model = LogisticRegression()"
   ]
  },
  {
   "cell_type": "markdown",
   "id": "6845df66",
   "metadata": {},
   "source": [
    "Setup training arguments and fit the model on the training data."
   ]
  },
  {
   "cell_type": "code",
   "execution_count": null,
   "id": "16bad8d7",
   "metadata": {},
   "outputs": [],
   "source": [
    "from sklearn.metrics import accuracy_score\n",
    "model.fit(train_data[['text']], train_data['label'])"
   ]
  },
  {
   "cell_type": "markdown",
   "id": "eb02a1c8",
   "metadata": {},
   "source": [
    "Train the model and evaluate its accuracy on the test data."
   ]
  },
  {
   "cell_type": "code",
   "execution_count": null,
   "id": "d5595aed",
   "metadata": {},
   "outputs": [],
   "source": [
    "predictions = model.predict(test_data[['text']])\n",
    "accuracy = accuracy_score(test_data['label'], predictions)"
   ]
  },
  {
   "cell_type": "markdown",
   "id": "fa0e3bcb",
   "metadata": {},
   "source": [
    "Save the trained model to a file for future use."
   ]
  },
  {
   "cell_type": "code",
   "execution_count": null,
   "id": "c2736d35",
   "metadata": {},
   "outputs": [],
   "source": [
    "import joblib\n",
    "joblib.dump(model, 'trained_model.joblib')"
   ]
  }
 ],
 "metadata": {
  "kernelspec": {
   "display_name": "Python 3",
   "language": "python",
   "name": "python3"
  },
  "language_info": {
   "codemirror_mode": {
    "name": "ipython",
    "version": 3
   },
   "file_extension": ".py",
   "mimetype": "text/x-python",
   "name": "python",
   "nbconvert_exporter": "python",
   "pygments_lexer": "ipython3",
   "version": "3.8.5"
  }
 },
 "nbformat": 4,
 "nbformat_minor": 5
}
