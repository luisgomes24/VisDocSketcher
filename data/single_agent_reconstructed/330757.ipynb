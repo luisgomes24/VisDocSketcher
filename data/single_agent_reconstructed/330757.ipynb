{
 "cells": [
  {
   "cell_type": "markdown",
   "id": "6350cb65",
   "metadata": {},
   "source": [
    "Load the dataset from a CSV file into a pandas DataFrame."
   ]
  },
  {
   "cell_type": "code",
   "execution_count": null,
   "id": "ea9ffae7",
   "metadata": {},
   "outputs": [],
   "source": [
    "import pandas as pd\n",
    "\n",
    "df = pd.read_csv('../input/911.csv')"
   ]
  },
  {
   "cell_type": "markdown",
   "id": "44752637",
   "metadata": {},
   "source": [
    "Inspect the first few rows of the DataFrame to understand the data structure."
   ]
  },
  {
   "cell_type": "code",
   "execution_count": null,
   "id": "55525110",
   "metadata": {},
   "outputs": [],
   "source": [
    "df.head()"
   ]
  },
  {
   "cell_type": "markdown",
   "id": "17341127",
   "metadata": {},
   "source": [
    "Filter the DataFrame for calls related to cardiac arrests."
   ]
  },
  {
   "cell_type": "code",
   "execution_count": null,
   "id": "5693519f",
   "metadata": {},
   "outputs": [],
   "source": [
    "cardiac_arrest_calls = df[df['title'].str.contains('Cardiac Arrest')]"
   ]
  },
  {
   "cell_type": "markdown",
   "id": "163e2d7c",
   "metadata": {},
   "source": [
    "Create a scatter plot to visualize the timing of cardiac arrest calls."
   ]
  },
  {
   "cell_type": "code",
   "execution_count": null,
   "id": "3dd1d00d",
   "metadata": {},
   "outputs": [],
   "source": [
    "import matplotlib.pyplot as plt\n",
    "plt.scatter(cardiac_arrest_calls['timeStamp'], cardiac_arrest_calls['call_type'])\n",
    "plt.title('Scatter Plot of 911 Cardiac Arrest Calls')\n",
    "plt.xlabel('Timestamp')\n",
    "plt.ylabel('Call Type')\n",
    "plt.show()"
   ]
  },
  {
   "cell_type": "markdown",
   "id": "e4a7ba7e",
   "metadata": {},
   "source": [
    "Filter the DataFrame for fire-related calls."
   ]
  },
  {
   "cell_type": "code",
   "execution_count": null,
   "id": "2b064d4b",
   "metadata": {},
   "outputs": [],
   "source": [
    "fire_calls = df[df['title'].str.contains('Fire')]"
   ]
  },
  {
   "cell_type": "markdown",
   "id": "1a62b1a3",
   "metadata": {},
   "source": [
    "Generate a scatter plot for fire calls to observe trends."
   ]
  },
  {
   "cell_type": "code",
   "execution_count": null,
   "id": "dd82e8c4",
   "metadata": {},
   "outputs": [],
   "source": [
    "plt.scatter(fire_calls['timeStamp'], fire_calls['call_type'])\n",
    "plt.title('Scatter Plot of Fire Calls')\n",
    "plt.xlabel('Timestamp')\n",
    "plt.ylabel('Call Type')\n",
    "plt.show()"
   ]
  },
  {
   "cell_type": "markdown",
   "id": "179c8c78",
   "metadata": {},
   "source": [
    "Summarize fire calls and create a bar plot to display the frequency of calls."
   ]
  },
  {
   "cell_type": "code",
   "execution_count": null,
   "id": "74c8f3ca",
   "metadata": {},
   "outputs": [],
   "source": [
    "fire_calls['count'] = 1\n",
    "fire_calls_count = fire_calls.groupby('category').count()\n",
    "fire_calls_count['call_type'].plot(kind='bar')\n",
    "plt.title('Barplot of Fire Calls')\n",
    "plt.xlabel('Category')\n",
    "plt.ylabel('Number of Calls')\n",
    "plt.show()"
   ]
  },
  {
   "cell_type": "markdown",
   "id": "de045657",
   "metadata": {},
   "source": [
    "Filter the DataFrame for EMS-related calls."
   ]
  },
  {
   "cell_type": "code",
   "execution_count": null,
   "id": "ab029b74",
   "metadata": {},
   "outputs": [],
   "source": [
    "ems_calls = df[df['title'].str.contains('EMS')]"
   ]
  },
  {
   "cell_type": "markdown",
   "id": "5f98f6ef",
   "metadata": {},
   "source": [
    "Create a scatter plot for EMS calls to analyze patterns."
   ]
  },
  {
   "cell_type": "code",
   "execution_count": null,
   "id": "380df8dd",
   "metadata": {},
   "outputs": [],
   "source": [
    "plt.scatter(ems_calls['timeStamp'], ems_calls['call_type'])\n",
    "plt.title('Scatter Plot of EMS Calls')\n",
    "plt.xlabel('Timestamp')\n",
    "plt.ylabel('Call Type')\n",
    "plt.show()"
   ]
  },
  {
   "cell_type": "markdown",
   "id": "d087639e",
   "metadata": {},
   "source": [
    "Visualize EMS calls with a bar plot showing the number of calls by category."
   ]
  },
  {
   "cell_type": "code",
   "execution_count": null,
   "id": "afe0b694",
   "metadata": {},
   "outputs": [],
   "source": [
    "ems_calls['count'] = 1\n",
    "ems_calls_count = ems_calls.groupby('category').count()\n",
    "ems_calls_count['call_type'].plot(kind='bar')\n",
    "plt.title('Barplot of EMS Calls')\n",
    "plt.xlabel('Category')\n",
    "plt.ylabel('Number of Calls')\n",
    "plt.show()"
   ]
  },
  {
   "cell_type": "markdown",
   "id": "ce156c5b",
   "metadata": {},
   "source": [
    "Filter the DataFrame for traffic-related calls."
   ]
  },
  {
   "cell_type": "code",
   "execution_count": null,
   "id": "7974b996",
   "metadata": {},
   "outputs": [],
   "source": [
    "traffic_calls = df[df['title'].str.contains('Traffic')]"
   ]
  },
  {
   "cell_type": "markdown",
   "id": "5dc3455b",
   "metadata": {},
   "source": [
    "Generate a scatter plot to observe trends in traffic calls."
   ]
  },
  {
   "cell_type": "code",
   "execution_count": null,
   "id": "da9e9e0b",
   "metadata": {},
   "outputs": [],
   "source": [
    "plt.scatter(traffic_calls['timeStamp'], traffic_calls['call_type'])\n",
    "plt.title('Scatter Plot of Traffic Calls')\n",
    "plt.xlabel('Timestamp')\n",
    "plt.ylabel('Call Type')\n",
    "plt.show()"
   ]
  },
  {
   "cell_type": "markdown",
   "id": "18303783",
   "metadata": {},
   "source": [
    "Create a bar plot for traffic calls to display the number of calls by category."
   ]
  },
  {
   "cell_type": "code",
   "execution_count": null,
   "id": "b0c2d3b7",
   "metadata": {},
   "outputs": [],
   "source": [
    "traffic_calls['count'] = 1\n",
    "traffic_calls_count = traffic_calls.groupby('category').count()\n",
    "traffic_calls_count['call_type'].plot(kind='bar')\n",
    "plt.title('Barplot of Traffic Calls')\n",
    "plt.xlabel('Category')\n",
    "plt.ylabel('Number of Calls')\n",
    "plt.show()"
   ]
  }
 ],
 "metadata": {
  "kernelspec": {
   "display_name": "Python 3",
   "language": "python",
   "name": "python3"
  },
  "language_info": {
   "codemirror_mode": {
    "name": "ipython",
    "version": 3
   },
   "file_extension": ".py",
   "mimetype": "text/x-python",
   "name": "python",
   "nbconvert_exporter": "python",
   "pygments_lexer": "ipython3",
   "version": "3.8.5"
  }
 },
 "nbformat": 4,
 "nbformat_minor": 5
}
