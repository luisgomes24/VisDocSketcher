{
 "cells": [
  {
   "cell_type": "markdown",
   "id": "c2fb96d1",
   "metadata": {},
   "source": [
    "Load the dataset from a CSV file into a Pandas DataFrame."
   ]
  },
  {
   "cell_type": "code",
   "execution_count": null,
   "id": "a277259b",
   "metadata": {},
   "outputs": [],
   "source": [
    "import pandas as pd\n",
    "df = pd.read_csv('liver.csv')"
   ]
  },
  {
   "cell_type": "markdown",
   "id": "8556091f",
   "metadata": {},
   "source": [
    "Check and print the shape of the DataFrame (rows, columns)."
   ]
  },
  {
   "cell_type": "code",
   "execution_count": null,
   "id": "09637acb",
   "metadata": {},
   "outputs": [],
   "source": [
    "print(df.shape)"
   ]
  },
  {
   "cell_type": "markdown",
   "id": "e9e3aca1",
   "metadata": {},
   "source": [
    "Identify and count any missing values in the DataFrame."
   ]
  },
  {
   "cell_type": "code",
   "execution_count": null,
   "id": "23ca2fd3",
   "metadata": {},
   "outputs": [],
   "source": [
    "missing_values = df.isnull().sum()"
   ]
  },
  {
   "cell_type": "markdown",
   "id": "022ae0cd",
   "metadata": {},
   "source": [
    "Create and display a bar plot for an overall view of the data."
   ]
  },
  {
   "cell_type": "code",
   "execution_count": null,
   "id": "52cda39b",
   "metadata": {},
   "outputs": [],
   "source": [
    "import matplotlib.pyplot as plt\n",
    "plt.bar(df['Category'], df['Value'])\n",
    "plt.title('Overall Plot')\n",
    "plt.show()"
   ]
  },
  {
   "cell_type": "markdown",
   "id": "7437f5a8",
   "metadata": {},
   "source": [
    "Filter data for the year 1988 and create a bar plot."
   ]
  },
  {
   "cell_type": "code",
   "execution_count": null,
   "id": "36c4b2ef",
   "metadata": {},
   "outputs": [],
   "source": [
    "df_1988 = df[df['Year'] == 1988]\n",
    "plt.bar(df_1988['Category'], df_1988['Value'])\n",
    "plt.title('Year 1988 Plot')\n",
    "plt.show()"
   ]
  },
  {
   "cell_type": "markdown",
   "id": "8702e89f",
   "metadata": {},
   "source": [
    "Filter data for the year 2021 and create a bar plot."
   ]
  },
  {
   "cell_type": "code",
   "execution_count": null,
   "id": "d0d151b9",
   "metadata": {},
   "outputs": [],
   "source": [
    "df_2021 = df[df['Year'] == 2021]\n",
    "plt.bar(df_2021['Category'], df_2021['Value'])\n",
    "plt.title('Year 2021 Plot')\n",
    "plt.show()"
   ]
  }
 ],
 "metadata": {
  "kernelspec": {
   "display_name": "Python 3",
   "language": "python",
   "name": "python3"
  },
  "language_info": {
   "codemirror_mode": {
    "name": "ipython",
    "version": 3
   },
   "file_extension": ".py",
   "mimetype": "text/x-python",
   "name": "python",
   "nbconvert_exporter": "python",
   "pygments_lexer": "ipython3",
   "version": "3.8.5"
  }
 },
 "nbformat": 4,
 "nbformat_minor": 5
}
