{
 "cells": [
  {
   "cell_type": "markdown",
   "id": "08e6486d",
   "metadata": {},
   "source": [
    "Load data from a CSV file into a DataFrame."
   ]
  },
  {
   "cell_type": "code",
   "execution_count": null,
   "id": "b6b2e735",
   "metadata": {},
   "outputs": [],
   "source": [
    "import pandas as pd\n",
    "df = pd.read_csv('data.csv')"
   ]
  },
  {
   "cell_type": "markdown",
   "id": "16745b7b",
   "metadata": {},
   "source": [
    "Visualize the data with Dataprep's plotting function."
   ]
  },
  {
   "cell_type": "code",
   "execution_count": null,
   "id": "bda0ca67",
   "metadata": {},
   "outputs": [],
   "source": [
    "from dataprep.eda import plot\n",
    "plot(df)"
   ]
  },
  {
   "cell_type": "markdown",
   "id": "f70358fc",
   "metadata": {},
   "source": [
    "Generate a report summarizing the data."
   ]
  },
  {
   "cell_type": "code",
   "execution_count": null,
   "id": "baba43f2",
   "metadata": {},
   "outputs": [],
   "source": [
    "from report import create_report\n",
    "create_report(df)"
   ]
  },
  {
   "cell_type": "markdown",
   "id": "fbfca781",
   "metadata": {},
   "source": [
    "Automatically visualize data using AutoViz."
   ]
  },
  {
   "cell_type": "code",
   "execution_count": null,
   "id": "f97547eb",
   "metadata": {},
   "outputs": [],
   "source": [
    "import AutoViz as AV\n",
    "AV.AutoViz(df)"
   ]
  },
  {
   "cell_type": "markdown",
   "id": "7a3f2b7f",
   "metadata": {},
   "source": [
    "Create a detailed profiling report with Pandas Profiling."
   ]
  },
  {
   "cell_type": "code",
   "execution_count": null,
   "id": "55b1badb",
   "metadata": {},
   "outputs": [],
   "source": [
    "from pandas_profiling import ProfileReport\n",
    "ProfileReport(df).to_notebook_iframe()"
   ]
  },
  {
   "cell_type": "markdown",
   "id": "29614387",
   "metadata": {},
   "source": [
    "Analyze data and generate a report with SweetViz."
   ]
  },
  {
   "cell_type": "code",
   "execution_count": null,
   "id": "1a4fdc13",
   "metadata": {},
   "outputs": [],
   "source": [
    "import sweetviz as sv\n",
    "sv.analyze(df).show_html('report.html')"
   ]
  },
  {
   "cell_type": "markdown",
   "id": "e5dd13d1",
   "metadata": {},
   "source": [
    "Use Lux for visualizing the DataFrame."
   ]
  },
  {
   "cell_type": "code",
   "execution_count": null,
   "id": "a44d4cbf",
   "metadata": {},
   "outputs": [],
   "source": [
    "from lux import Lux\n",
    "Lux(df)"
   ]
  },
  {
   "cell_type": "markdown",
   "id": "a9c6e346",
   "metadata": {},
   "source": [
    "Install D-Tale for interactive data exploration."
   ]
  },
  {
   "cell_type": "code",
   "execution_count": null,
   "id": "d1a8e58d",
   "metadata": {},
   "outputs": [],
   "source": [
    "!pip install -q dtale"
   ]
  }
 ],
 "metadata": {
  "kernelspec": {
   "display_name": "Python 3",
   "language": "python",
   "name": "python3"
  },
  "language_info": {
   "codemirror_mode": {
    "name": "ipython",
    "version": 3
   },
   "file_extension": ".py",
   "mimetype": "text/x-python",
   "name": "python",
   "nbconvert_exporter": "python",
   "pygments_lexer": "ipython3",
   "version": "3.8.5"
  }
 },
 "nbformat": 4,
 "nbformat_minor": 5
}
