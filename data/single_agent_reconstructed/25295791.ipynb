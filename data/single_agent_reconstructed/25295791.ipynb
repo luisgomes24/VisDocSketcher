{
 "cells": [
  {
   "cell_type": "markdown",
   "id": "4847d80a",
   "metadata": {},
   "source": [
    "Load the training, testing, and submission data from CSV files."
   ]
  },
  {
   "cell_type": "code",
   "execution_count": null,
   "id": "389852de",
   "metadata": {},
   "outputs": [],
   "source": [
    "import pandas as pd\n",
    "train_df = pd.read_csv('train.csv')\n",
    "test_df = pd.read_csv('test.csv')\n",
    "submission_df = pd.read_csv('sample_submission.csv')"
   ]
  },
  {
   "cell_type": "markdown",
   "id": "29286555",
   "metadata": {},
   "source": [
    "Preprocess the data by dropping unnecessary columns."
   ]
  },
  {
   "cell_type": "code",
   "execution_count": null,
   "id": "9b85ef40",
   "metadata": {},
   "outputs": [],
   "source": [
    "def preprocess_data(df):\n",
    "    # Drop any irrelevant columns\n",
    "    df.drop(['unnecessary_column'], axis=1, inplace=True)\n",
    "    return df\n",
    "train_df = preprocess_data(train_df)\n",
    "test_df = preprocess_data(test_df)"
   ]
  },
  {
   "cell_type": "markdown",
   "id": "2708b634",
   "metadata": {},
   "source": [
    "Display the first few rows of the training data."
   ]
  },
  {
   "cell_type": "code",
   "execution_count": null,
   "id": "8321750e",
   "metadata": {},
   "outputs": [],
   "source": [
    "print(train_df.head())"
   ]
  },
  {
   "cell_type": "markdown",
   "id": "9c61f97b",
   "metadata": {},
   "source": [
    "Convert date columns to datetime format."
   ]
  },
  {
   "cell_type": "code",
   "execution_count": null,
   "id": "8edd0ec0",
   "metadata": {},
   "outputs": [],
   "source": [
    "train_df['date'] = pd.to_datetime(train_df['date'])\n",
    "test_df['date'] = pd.to_datetime(test_df['date'])"
   ]
  },
  {
   "cell_type": "markdown",
   "id": "5052b735",
   "metadata": {},
   "source": [
    "Normalize the datetime fields, setting time to midnight."
   ]
  },
  {
   "cell_type": "code",
   "execution_count": null,
   "id": "fd260e3f",
   "metadata": {},
   "outputs": [],
   "source": [
    "train_df['date'] = train_df['date'].dt.normalize()\n",
    "test_df['date'] = test_df['date'].dt.normalize()"
   ]
  },
  {
   "cell_type": "markdown",
   "id": "4b90cba3",
   "metadata": {},
   "source": [
    "Encode categorical data into numeric format using one-hot encoding."
   ]
  },
  {
   "cell_type": "code",
   "execution_count": null,
   "id": "445ba0be",
   "metadata": {},
   "outputs": [],
   "source": [
    "train_df = pd.get_dummies(train_df, columns=['categorical_column'])\n",
    "test_df = pd.get_dummies(test_df, columns=['categorical_column'])"
   ]
  },
  {
   "cell_type": "markdown",
   "id": "60d6d955",
   "metadata": {},
   "source": [
    "Separate features (X) and labels (y) from the training data."
   ]
  },
  {
   "cell_type": "code",
   "execution_count": null,
   "id": "bdb4043e",
   "metadata": {},
   "outputs": [],
   "source": [
    "X = train_df.drop('target', axis=1)\n",
    "y = train_df['target']"
   ]
  },
  {
   "cell_type": "markdown",
   "id": "4e8cf341",
   "metadata": {},
   "source": [
    "Split the data into training and validation sets."
   ]
  },
  {
   "cell_type": "code",
   "execution_count": null,
   "id": "4d59c86e",
   "metadata": {},
   "outputs": [],
   "source": [
    "from sklearn.model_selection import train_test_split\n",
    "X_train, X_val, y_train, y_val = train_test_split(X, y, test_size=0.2, random_state=42)"
   ]
  },
  {
   "cell_type": "markdown",
   "id": "a2e5d71c",
   "metadata": {},
   "source": [
    "Train a Random Forest model using the training data."
   ]
  },
  {
   "cell_type": "code",
   "execution_count": null,
   "id": "d5f52177",
   "metadata": {},
   "outputs": [],
   "source": [
    "from sklearn.ensemble import RandomForestClassifier\n",
    "model = RandomForestClassifier()\n",
    "model.fit(X_train, y_train)"
   ]
  },
  {
   "cell_type": "markdown",
   "id": "7cd14915",
   "metadata": {},
   "source": [
    "Evaluate the model's performance on the validation set."
   ]
  },
  {
   "cell_type": "code",
   "execution_count": null,
   "id": "edd84691",
   "metadata": {},
   "outputs": [],
   "source": [
    "from sklearn.metrics import accuracy_score\n",
    "predictions = model.predict(X_val)\n",
    "accuracy = accuracy_score(y_val, predictions)\n",
    "print(f'Accuracy: {accuracy}')"
   ]
  },
  {
   "cell_type": "markdown",
   "id": "97a0a718",
   "metadata": {},
   "source": [
    "Train the final model using the entire training dataset."
   ]
  },
  {
   "cell_type": "code",
   "execution_count": null,
   "id": "29b41a9a",
   "metadata": {},
   "outputs": [],
   "source": [
    "final_model = RandomForestClassifier()\n",
    "final_model.fit(X, y)"
   ]
  },
  {
   "cell_type": "markdown",
   "id": "de9a3f5c",
   "metadata": {},
   "source": [
    "Generate predictions on the test data using the final model."
   ]
  },
  {
   "cell_type": "code",
   "execution_count": null,
   "id": "010ea892",
   "metadata": {},
   "outputs": [],
   "source": [
    "final_predictions = final_model.predict(test_df.drop('target', axis=1))"
   ]
  },
  {
   "cell_type": "markdown",
   "id": "3cc1aed2",
   "metadata": {},
   "source": [
    "Prepare the submission file with predictions and save it to a CSV."
   ]
  },
  {
   "cell_type": "code",
   "execution_count": null,
   "id": "a3e9ac79",
   "metadata": {},
   "outputs": [],
   "source": [
    "submission_df['target'] = final_predictions\n",
    "submission_df.to_csv('submission.csv', index=False)"
   ]
  }
 ],
 "metadata": {
  "kernelspec": {
   "display_name": "Python 3",
   "language": "python",
   "name": "python3"
  },
  "language_info": {
   "codemirror_mode": {
    "name": "ipython",
    "version": 3
   },
   "file_extension": ".py",
   "mimetype": "text/x-python",
   "name": "python",
   "nbconvert_exporter": "python",
   "pygments_lexer": "ipython3",
   "version": "3.8.5"
  }
 },
 "nbformat": 4,
 "nbformat_minor": 5
}
