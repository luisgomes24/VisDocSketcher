{
 "cells": [
  {
   "cell_type": "markdown",
   "id": "0a22c218",
   "metadata": {},
   "source": [
    "Load data from a CSV file using pandas."
   ]
  },
  {
   "cell_type": "code",
   "execution_count": null,
   "id": "f053667a",
   "metadata": {},
   "outputs": [],
   "source": [
    "import pandas as pd\n",
    "data = pd.read_csv('data.csv')"
   ]
  },
  {
   "cell_type": "markdown",
   "id": "53f86d8f",
   "metadata": {},
   "source": [
    "Perform Exploratory Data Analysis (EDA) to visualize data distributions."
   ]
  },
  {
   "cell_type": "code",
   "execution_count": null,
   "id": "ae5df900",
   "metadata": {},
   "outputs": [],
   "source": [
    "import seaborn as sns\n",
    "import matplotlib.pyplot as plt\n",
    "sns.set(style='whitegrid')\n",
    "sns.boxplot(data=data)"
   ]
  },
  {
   "cell_type": "markdown",
   "id": "30be8375",
   "metadata": {},
   "source": [
    "Handle missing values by forward filling."
   ]
  },
  {
   "cell_type": "code",
   "execution_count": null,
   "id": "7415382f",
   "metadata": {},
   "outputs": [],
   "source": [
    "data.fillna(method='ffill', inplace=True)"
   ]
  },
  {
   "cell_type": "markdown",
   "id": "bcb2cd88",
   "metadata": {},
   "source": [
    "Clean the text data by removing special characters."
   ]
  },
  {
   "cell_type": "code",
   "execution_count": null,
   "id": "7df48ead",
   "metadata": {},
   "outputs": [],
   "source": [
    "data['text'] = data['text'].str.replace('[^a-zA-Z0-9 ]', '', regex=True)"
   ]
  },
  {
   "cell_type": "markdown",
   "id": "bba2d21b",
   "metadata": {},
   "source": [
    "Prepare vocabulary using Count Vectorization."
   ]
  },
  {
   "cell_type": "code",
   "execution_count": null,
   "id": "bc1b5d95",
   "metadata": {},
   "outputs": [],
   "source": [
    "from sklearn.feature_extraction.text import CountVectorizer\n",
    "vectorizer = CountVectorizer()\n",
    "vocabulary = vectorizer.fit_transform(data['text'])"
   ]
  },
  {
   "cell_type": "markdown",
   "id": "e6fd7a8e",
   "metadata": {},
   "source": [
    "Split data into training and testing sets."
   ]
  },
  {
   "cell_type": "code",
   "execution_count": null,
   "id": "7c27a44b",
   "metadata": {},
   "outputs": [],
   "source": [
    "from sklearn.model_selection import train_test_split\n",
    "X_train, X_test, y_train, y_test = train_test_split(vocabulary, data['label'], test_size=0.2)"
   ]
  },
  {
   "cell_type": "markdown",
   "id": "9b78d78d",
   "metadata": {},
   "source": [
    "Train a model using Naive Bayes."
   ]
  },
  {
   "cell_type": "code",
   "execution_count": null,
   "id": "56d1e01e",
   "metadata": {},
   "outputs": [],
   "source": [
    "from sklearn.naive_bayes import MultinomialNB\n",
    "model = MultinomialNB()\n",
    "model.fit(X_train, y_train)"
   ]
  },
  {
   "cell_type": "markdown",
   "id": "a8e7f55b",
   "metadata": {},
   "source": [
    "Generate predictions using the trained model."
   ]
  },
  {
   "cell_type": "code",
   "execution_count": null,
   "id": "3f49eb7c",
   "metadata": {},
   "outputs": [],
   "source": [
    "predictions = model.predict(X_test)"
   ]
  },
  {
   "cell_type": "markdown",
   "id": "5ae4afd6",
   "metadata": {},
   "source": [
    "Generate output and save predictions to a CSV file."
   ]
  },
  {
   "cell_type": "code",
   "execution_count": null,
   "id": "a0e83b26",
   "metadata": {},
   "outputs": [],
   "source": [
    "output = pd.DataFrame({'Id': data['id'].iloc[X_test.index], 'Prediction': predictions})\n",
    "output.to_csv('predictions.csv', index=False)"
   ]
  }
 ],
 "metadata": {
  "kernelspec": {
   "display_name": "Python 3",
   "language": "python",
   "name": "python3"
  },
  "language_info": {
   "codemirror_mode": {
    "name": "ipython",
    "version": 3
   },
   "file_extension": ".py",
   "mimetype": "text/x-python",
   "name": "python",
   "nbconvert_exporter": "python",
   "pygments_lexer": "ipython3",
   "version": "3.8.5"
  }
 },
 "nbformat": 4,
 "nbformat_minor": 5
}
