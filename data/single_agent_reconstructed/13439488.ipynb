{
 "cells": [
  {
   "cell_type": "markdown",
   "id": "baa8ae0d",
   "metadata": {},
   "source": [
    "Load the dataset from a CSV file using Pandas."
   ]
  },
  {
   "cell_type": "code",
   "execution_count": null,
   "id": "78441704",
   "metadata": {},
   "outputs": [],
   "source": [
    "import pandas as pd\n",
    "data = pd.read_csv('data.csv')"
   ]
  },
  {
   "cell_type": "markdown",
   "id": "f33cd473",
   "metadata": {},
   "source": [
    "Preprocess the data by removing any missing values."
   ]
  },
  {
   "cell_type": "code",
   "execution_count": null,
   "id": "ad460e81",
   "metadata": {},
   "outputs": [],
   "source": [
    "data.dropna(inplace=True)"
   ]
  },
  {
   "cell_type": "markdown",
   "id": "34c01bb4",
   "metadata": {},
   "source": [
    "Plot the data to visualize its patterns."
   ]
  },
  {
   "cell_type": "code",
   "execution_count": null,
   "id": "8e562827",
   "metadata": {},
   "outputs": [],
   "source": [
    "import matplotlib.pyplot as plt\n",
    "plt.plot(data)\n",
    "plt.show()"
   ]
  },
  {
   "cell_type": "markdown",
   "id": "1c3700cb",
   "metadata": {},
   "source": [
    "Test for stationarity using the Augmented Dickey-Fuller test."
   ]
  },
  {
   "cell_type": "code",
   "execution_count": null,
   "id": "03aeb1bc",
   "metadata": {},
   "outputs": [],
   "source": [
    "from statsmodels.tsa.stattools import adfuller\n",
    "result = adfuller(data)\n",
    "stationarity = result[1] < 0.05"
   ]
  },
  {
   "cell_type": "markdown",
   "id": "909d341c",
   "metadata": {},
   "source": [
    "Decide the order of the VARMA model based on ACF and PACF plots."
   ]
  },
  {
   "cell_type": "code",
   "execution_count": null,
   "id": "62d2d624",
   "metadata": {},
   "outputs": [],
   "source": [
    "from statsmodels.tsa.stattools import plot_acf, plot_pacf\n",
    "plot_acf(data)\n",
    "plot_pacf(data)\n",
    "plt.show()"
   ]
  },
  {
   "cell_type": "markdown",
   "id": "fec06e5e",
   "metadata": {},
   "source": [
    "Transform the data, here taking the logarithm for stabilization."
   ]
  },
  {
   "cell_type": "code",
   "execution_count": null,
   "id": "d217e841",
   "metadata": {},
   "outputs": [],
   "source": [
    "transformed_data = np.log(data)"
   ]
  },
  {
   "cell_type": "markdown",
   "id": "84c4a6f1",
   "metadata": {},
   "source": [
    "Split the data into training and testing sets."
   ]
  },
  {
   "cell_type": "code",
   "execution_count": null,
   "id": "65eaf28a",
   "metadata": {},
   "outputs": [],
   "source": [
    "from sklearn.model_selection import train_test_split\n",
    "train, test = train_test_split(transformed_data, test_size=0.2)"
   ]
  },
  {
   "cell_type": "markdown",
   "id": "9003cc44",
   "metadata": {},
   "source": [
    "Fit the VARMA model to the training data."
   ]
  },
  {
   "cell_type": "code",
   "execution_count": null,
   "id": "856a0b10",
   "metadata": {},
   "outputs": [],
   "source": [
    "from statsmodels.tsa.arima.model import ARIMA\n",
    "model = ARIMA(train, order=(p,d,q))\n",
    "model_fit = model.fit()"
   ]
  },
  {
   "cell_type": "markdown",
   "id": "5f7ef355",
   "metadata": {},
   "source": [
    "Predict values for the test set using the fitted model."
   ]
  },
  {
   "cell_type": "code",
   "execution_count": null,
   "id": "c84a9576",
   "metadata": {},
   "outputs": [],
   "source": [
    "predictions = model_fit.forecast(steps=len(test))"
   ]
  },
  {
   "cell_type": "markdown",
   "id": "beb20f0d",
   "metadata": {},
   "source": [
    "Invert the transformations applied to get back to the original scale."
   ]
  },
  {
   "cell_type": "code",
   "execution_count": null,
   "id": "163a0df3",
   "metadata": {},
   "outputs": [],
   "source": [
    "predictions_inverted = np.exp(predictions)"
   ]
  },
  {
   "cell_type": "markdown",
   "id": "96002dd0",
   "metadata": {},
   "source": [
    "Plot the forecasted results against the actual test data."
   ]
  },
  {
   "cell_type": "code",
   "execution_count": null,
   "id": "dabc50cb",
   "metadata": {},
   "outputs": [],
   "source": [
    "plt.plot(test.index, test.values)\n",
    "plt.plot(test.index, predictions_inverted)\n",
    "plt.show()"
   ]
  },
  {
   "cell_type": "markdown",
   "id": "14e887c7",
   "metadata": {},
   "source": [
    "Evaluate the model's performance using Mean Squared Error."
   ]
  },
  {
   "cell_type": "code",
   "execution_count": null,
   "id": "43324d3c",
   "metadata": {},
   "outputs": [],
   "source": [
    "from sklearn.metrics import mean_squared_error\n",
    "mse = mean_squared_error(test, predictions_inverted)"
   ]
  }
 ],
 "metadata": {
  "kernelspec": {
   "display_name": "Python 3",
   "language": "python",
   "name": "python3"
  },
  "language_info": {
   "codemirror_mode": {
    "name": "ipython",
    "version": 3
   },
   "file_extension": ".py",
   "mimetype": "text/x-python",
   "name": "python",
   "nbconvert_exporter": "python",
   "pygments_lexer": "ipython3",
   "version": "3.8.5"
  }
 },
 "nbformat": 4,
 "nbformat_minor": 5
}
