{
 "cells": [
  {
   "cell_type": "markdown",
   "id": "e6b6d8b6",
   "metadata": {},
   "source": [
    "Load the training, testing, and BPM paths data from CSV files."
   ]
  },
  {
   "cell_type": "code",
   "execution_count": null,
   "id": "dcfbbe98",
   "metadata": {},
   "outputs": [],
   "source": [
    "import pandas as pd\n",
    "\n",
    "train_data = pd.read_csv('train_set.csv')\n",
    "test_data = pd.read_csv('test_set.csv')\n",
    "bppm_paths = pd.read_csv('bppm_paths.csv')"
   ]
  },
  {
   "cell_type": "markdown",
   "id": "636961d7",
   "metadata": {},
   "source": [
    "Create a scatter plot of features from the training set."
   ]
  },
  {
   "cell_type": "code",
   "execution_count": null,
   "id": "6811baa8",
   "metadata": {},
   "outputs": [],
   "source": [
    "import matplotlib.pyplot as plt\n",
    "\n",
    "plt.scatter(train_data['feature1'], train_data['feature2'])\n",
    "plt.title('Plot Structures')\n",
    "plt.xlabel('Feature 1')\n",
    "plt.ylabel('Feature 2')\n",
    "plt.show()"
   ]
  },
  {
   "cell_type": "markdown",
   "id": "c632f690",
   "metadata": {},
   "source": [
    "Visualize the graph structure using a scatter plot of BPM paths."
   ]
  },
  {
   "cell_type": "code",
   "execution_count": null,
   "id": "e92732fc",
   "metadata": {},
   "outputs": [],
   "source": [
    "plt.scatter(bppm_paths['x'], bppm_paths['y'])\n",
    "plt.title('Visualize Graph Structure')\n",
    "plt.xlabel('X-axis')\n",
    "plt.ylabel('Y-axis')\n",
    "plt.show()"
   ]
  },
  {
   "cell_type": "markdown",
   "id": "6d44e4dd",
   "metadata": {},
   "source": [
    "Create a graph visualization using NetworkX from the BPM paths data."
   ]
  },
  {
   "cell_type": "code",
   "execution_count": null,
   "id": "9429d73d",
   "metadata": {},
   "outputs": [],
   "source": [
    "import networkx as nx\n",
    "\n",
    "G = nx.Graph()\n",
    "G.add_edges_from(bppm_paths[['node1', 'node2']].values)\n",
    "nx.draw(G, with_labels=True)"
   ]
  }
 ],
 "metadata": {
  "kernelspec": {
   "display_name": "Python 3",
   "language": "python",
   "name": "python3"
  },
  "language_info": {
   "codemirror_mode": {
    "name": "ipython",
    "version": 3
   },
   "file_extension": ".py",
   "mimetype": "text/x-python",
   "name": "python",
   "nbconvert_exporter": "python",
   "pygments_lexer": "ipython3",
   "version": "3.8.5"
  }
 },
 "nbformat": 4,
 "nbformat_minor": 5
}
