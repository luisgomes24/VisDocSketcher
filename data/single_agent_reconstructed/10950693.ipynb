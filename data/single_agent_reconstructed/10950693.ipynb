{
 "cells": [
  {
   "cell_type": "markdown",
   "id": "7b55a310",
   "metadata": {},
   "source": [
    "Load the dataset from a CSV file into a DataFrame."
   ]
  },
  {
   "cell_type": "code",
   "execution_count": null,
   "id": "d7915d41",
   "metadata": {},
   "outputs": [],
   "source": [
    "import pandas as pd\n",
    "\n",
    "df = pd.read_csv('data.csv')"
   ]
  },
  {
   "cell_type": "markdown",
   "id": "76fe61e0",
   "metadata": {},
   "source": [
    "Remove any rows with missing values from the dataset."
   ]
  },
  {
   "cell_type": "code",
   "execution_count": null,
   "id": "d138963a",
   "metadata": {},
   "outputs": [],
   "source": [
    "df.dropna(inplace=True)"
   ]
  },
  {
   "cell_type": "markdown",
   "id": "8691e885",
   "metadata": {},
   "source": [
    "Classify companies based on their employee count into Small, Medium, or Large."
   ]
  },
  {
   "cell_type": "code",
   "execution_count": null,
   "id": "117a31d2",
   "metadata": {},
   "outputs": [],
   "source": [
    "df['Company Size'] = df['Employee Count'].apply(lambda x: 'Small' if x < 50 else ('Medium' if x < 200 else 'Large'))"
   ]
  },
  {
   "cell_type": "markdown",
   "id": "db772708",
   "metadata": {},
   "source": [
    "Adjust salary estimates to account for inflation or other considerations."
   ]
  },
  {
   "cell_type": "code",
   "execution_count": null,
   "id": "9b54bfeb",
   "metadata": {},
   "outputs": [],
   "source": [
    "df['Salary Estimate'] *= 1.1  # Adjusting salary estimate by 10%"
   ]
  },
  {
   "cell_type": "markdown",
   "id": "a5b08e7f",
   "metadata": {},
   "source": [
    "Visualize the number of job openings by state using a count plot."
   ]
  },
  {
   "cell_type": "code",
   "execution_count": null,
   "id": "81641d83",
   "metadata": {},
   "outputs": [],
   "source": [
    "import matplotlib.pyplot as plt\n",
    "import seaborn as sns\n",
    "\n",
    "sns.countplot(data=df, x='State')\n",
    "plt.title('State Wise Job Openings')\n",
    "plt.show()"
   ]
  },
  {
   "cell_type": "markdown",
   "id": "351cd3f5",
   "metadata": {},
   "source": [
    "Create a scatter plot showing job openings against salary estimates."
   ]
  },
  {
   "cell_type": "code",
   "execution_count": null,
   "id": "6e90d294",
   "metadata": {},
   "outputs": [],
   "source": [
    "plt.scatter(df['Job Openings'], df['Salary Estimate'])\n",
    "plt.title('Plot Openings on Map')\n",
    "plt.xlabel('Job Openings')\n",
    "plt.ylabel('Salary Estimate')\n",
    "plt.show()"
   ]
  },
  {
   "cell_type": "markdown",
   "id": "f90ee792",
   "metadata": {},
   "source": [
    "Calculate the average salary by location."
   ]
  },
  {
   "cell_type": "code",
   "execution_count": null,
   "id": "0cb0c3c3",
   "metadata": {},
   "outputs": [],
   "source": [
    "avg_salary = df.groupby('Location')['Salary Estimate'].mean().reset_index()"
   ]
  },
  {
   "cell_type": "markdown",
   "id": "dda9435e",
   "metadata": {},
   "source": [
    "Identify and display the top companies with the most job openings."
   ]
  },
  {
   "cell_type": "code",
   "execution_count": null,
   "id": "75806aac",
   "metadata": {},
   "outputs": [],
   "source": [
    "top_companies = df['Company'].value_counts().head(10)\n",
    "plt.bar(top_companies.index, top_companies.values)\n",
    "plt.title('Companies with Most Openings')\n",
    "plt.xticks(rotation=45)\n",
    "plt.show()"
   ]
  },
  {
   "cell_type": "markdown",
   "id": "ba5f0032",
   "metadata": {},
   "source": [
    "Visualize the top paying industries based on average salary."
   ]
  },
  {
   "cell_type": "code",
   "execution_count": null,
   "id": "9b477528",
   "metadata": {},
   "outputs": [],
   "source": [
    "top_industries = df.groupby('Industry')['Salary Estimate'].mean().sort_values(ascending=False).head(10)\n",
    "plt.bar(top_industries.index, top_industries.values)\n",
    "plt.title('Top Paying Industries')\n",
    "plt.xticks(rotation=45)\n",
    "plt.show()"
   ]
  },
  {
   "cell_type": "markdown",
   "id": "aa3ccc05",
   "metadata": {},
   "source": [
    "Show the salary distribution across different sectors using a box plot."
   ]
  },
  {
   "cell_type": "code",
   "execution_count": null,
   "id": "af01e542",
   "metadata": {},
   "outputs": [],
   "source": [
    "sns.boxplot(data=df, x='Sector', y='Salary Estimate')\n",
    "plt.title('Sector Wise Salary Distribution')\n",
    "plt.show()"
   ]
  },
  {
   "cell_type": "markdown",
   "id": "9439664e",
   "metadata": {},
   "source": [
    "Create a scatter plot to explore the relationship between company age and salary."
   ]
  },
  {
   "cell_type": "code",
   "execution_count": null,
   "id": "0ed3dcbd",
   "metadata": {},
   "outputs": [],
   "source": [
    "plt.scatter(df['Company Age'], df['Salary Estimate'])\n",
    "plt.title('Company Age vs Salary')\n",
    "plt.xlabel('Company Age')\n",
    "plt.ylabel('Salary Estimate')\n",
    "plt.show()"
   ]
  },
  {
   "cell_type": "markdown",
   "id": "dc50f0f2",
   "metadata": {},
   "source": [
    "Visualize how company ratings relate to salary estimates using a scatter plot."
   ]
  },
  {
   "cell_type": "code",
   "execution_count": null,
   "id": "784320fe",
   "metadata": {},
   "outputs": [],
   "source": [
    "plt.scatter(df['Company Rating'], df['Salary Estimate'])\n",
    "plt.title('Company Rating vs Salary')\n",
    "plt.xlabel('Company Rating')\n",
    "plt.ylabel('Salary Estimate')\n",
    "plt.show()"
   ]
  }
 ],
 "metadata": {
  "kernelspec": {
   "display_name": "Python 3",
   "language": "python",
   "name": "python3"
  },
  "language_info": {
   "codemirror_mode": {
    "name": "ipython",
    "version": 3
   },
   "file_extension": ".py",
   "mimetype": "text/x-python",
   "name": "python",
   "nbconvert_exporter": "python",
   "pygments_lexer": "ipython3",
   "version": "3.8.5"
  }
 },
 "nbformat": 4,
 "nbformat_minor": 5
}
