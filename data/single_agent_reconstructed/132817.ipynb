{
 "cells": [
  {
   "cell_type": "markdown",
   "id": "64f804fa",
   "metadata": {},
   "source": [
    "Load the dataset from a CSV file into a DataFrame."
   ]
  },
  {
   "cell_type": "code",
   "execution_count": null,
   "id": "fd6ac058",
   "metadata": {},
   "outputs": [],
   "source": [
    "import pandas as pd\n",
    "\n",
    "data = pd.read_csv('data.csv')"
   ]
  },
  {
   "cell_type": "markdown",
   "id": "8228d2c9",
   "metadata": {},
   "source": [
    "Display the first few rows of the dataset for a quick overview."
   ]
  },
  {
   "cell_type": "code",
   "execution_count": null,
   "id": "9ca84fa1",
   "metadata": {},
   "outputs": [],
   "source": [
    "print(data.head())"
   ]
  },
  {
   "cell_type": "markdown",
   "id": "a5eaae38",
   "metadata": {},
   "source": [
    "Create a maximum intensity projection (MIP) view of the data."
   ]
  },
  {
   "cell_type": "code",
   "execution_count": null,
   "id": "9bf2030c",
   "metadata": {},
   "outputs": [],
   "source": [
    "mip_view = data.max(axis=0)"
   ]
  },
  {
   "cell_type": "markdown",
   "id": "e88172bf",
   "metadata": {},
   "source": [
    "Plot a histogram to visualize the MIP results."
   ]
  },
  {
   "cell_type": "code",
   "execution_count": null,
   "id": "421d7f27",
   "metadata": {},
   "outputs": [],
   "source": [
    "import matplotlib.pyplot as plt\n",
    "\n",
    "plt.hist(mip_view)\n",
    "plt.title('Max Intensity Projection Results')\n",
    "plt.show()"
   ]
  },
  {
   "cell_type": "markdown",
   "id": "2c5d101c",
   "metadata": {},
   "source": [
    "Generate a radiography view by calculating the mean of the data."
   ]
  },
  {
   "cell_type": "code",
   "execution_count": null,
   "id": "5cbd896e",
   "metadata": {},
   "outputs": [],
   "source": [
    "radiography_view = data.mean(axis=0)"
   ]
  },
  {
   "cell_type": "markdown",
   "id": "de1e4e2b",
   "metadata": {},
   "source": [
    "Plot the total absorption results based on the radiography view."
   ]
  },
  {
   "cell_type": "code",
   "execution_count": null,
   "id": "6e1f4a57",
   "metadata": {},
   "outputs": [],
   "source": [
    "plt.plot(radiography_view)\n",
    "plt.title('Total Absorption Results')\n",
    "plt.xlabel('Index')\n",
    "plt.ylabel('Intensity')\n",
    "plt.show()"
   ]
  },
  {
   "cell_type": "markdown",
   "id": "b7a814cc",
   "metadata": {},
   "source": [
    "Select the first five slices for the montage view."
   ]
  },
  {
   "cell_type": "code",
   "execution_count": null,
   "id": "a30a0608",
   "metadata": {},
   "outputs": [],
   "source": [
    "montage_view = data.iloc[:, :5]"
   ]
  },
  {
   "cell_type": "markdown",
   "id": "81b2db00",
   "metadata": {},
   "source": [
    "Create a bar chart to display the mean intensity of all slices."
   ]
  },
  {
   "cell_type": "code",
   "execution_count": null,
   "id": "a6d33e0d",
   "metadata": {},
   "outputs": [],
   "source": [
    "plt.bar(montage_view.columns, montage_view.mean())\n",
    "plt.title('All Slices as Montage Results')\n",
    "plt.xlabel('Slices')\n",
    "plt.ylabel('Intensity')\n",
    "plt.show()"
   ]
  }
 ],
 "metadata": {
  "kernelspec": {
   "display_name": "Python 3",
   "language": "python",
   "name": "python3"
  },
  "language_info": {
   "codemirror_mode": {
    "name": "ipython",
    "version": 3
   },
   "file_extension": ".py",
   "mimetype": "text/x-python",
   "name": "python",
   "nbconvert_exporter": "python",
   "pygments_lexer": "ipython3",
   "version": "3.8.5"
  }
 },
 "nbformat": 4,
 "nbformat_minor": 5
}
