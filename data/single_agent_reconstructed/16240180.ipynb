{
 "cells": [
  {
   "cell_type": "markdown",
   "id": "21f68319",
   "metadata": {},
   "source": [
    "Load the dataset from a CSV file into a pandas DataFrame."
   ]
  },
  {
   "cell_type": "code",
   "execution_count": null,
   "id": "f55b1b03",
   "metadata": {},
   "outputs": [],
   "source": [
    "import pandas as pd\n",
    "\n",
    "dataset = pd.read_csv('data.csv')"
   ]
  },
  {
   "cell_type": "markdown",
   "id": "a9876b09",
   "metadata": {},
   "source": [
    "Define a linear equation as a Python function."
   ]
  },
  {
   "cell_type": "code",
   "execution_count": null,
   "id": "db85a6a6",
   "metadata": {},
   "outputs": [],
   "source": [
    "def linear_equation(x):\n",
    "    return 2 * x + 5"
   ]
  },
  {
   "cell_type": "markdown",
   "id": "a99c4141",
   "metadata": {},
   "source": [
    "Convert the linear equation to a vectorized Python function."
   ]
  },
  {
   "cell_type": "code",
   "execution_count": null,
   "id": "cc412ecd",
   "metadata": {},
   "outputs": [],
   "source": [
    "import numpy as np\n",
    "\n",
    "def convert_to_function(func):\n",
    "    return np.vectorize(func)"
   ]
  },
  {
   "cell_type": "markdown",
   "id": "de4d08f6",
   "metadata": {},
   "source": [
    "Plot the linear equation using Matplotlib."
   ]
  },
  {
   "cell_type": "code",
   "execution_count": null,
   "id": "922ed95f",
   "metadata": {},
   "outputs": [],
   "source": [
    "import matplotlib.pyplot as plt\n",
    "\n",
    "x = np.arange(0, 10, 0.1)\n",
    "y = linear_equation(x)\n",
    "plt.plot(x, y)\n",
    "plt.title('Linear Equation')\n",
    "plt.xlabel('X-axis')\n",
    "plt.ylabel('Y-axis')\n",
    "plt.show()"
   ]
  },
  {
   "cell_type": "markdown",
   "id": "cb1566e5",
   "metadata": {},
   "source": [
    "Add normally distributed measurement error to the linear equation results."
   ]
  },
  {
   "cell_type": "code",
   "execution_count": null,
   "id": "0fc08726",
   "metadata": {},
   "outputs": [],
   "source": [
    "measurement_error = np.random.normal(0, 1, len(y))\n",
    "y_with_error = y + measurement_error"
   ]
  },
  {
   "cell_type": "markdown",
   "id": "f1023e95",
   "metadata": {},
   "source": [
    "Generate measurements by adding additional noise to the affected values."
   ]
  },
  {
   "cell_type": "code",
   "execution_count": null,
   "id": "ee9b3874",
   "metadata": {},
   "outputs": [],
   "source": [
    "measurements = y_with_error + np.random.normal(0, 1, len(y_with_error))"
   ]
  },
  {
   "cell_type": "markdown",
   "id": "30a264d1",
   "metadata": {},
   "source": [
    "Plot the measured values using a scatter plot."
   ]
  },
  {
   "cell_type": "code",
   "execution_count": null,
   "id": "3f79c588",
   "metadata": {},
   "outputs": [],
   "source": [
    "plt.scatter(x, measurements)\n",
    "plt.title('Measured Values')\n",
    "plt.xlabel('X-axis')\n",
    "plt.ylabel('Y-axis')\n",
    "plt.show()"
   ]
  },
  {
   "cell_type": "markdown",
   "id": "c5b38cd5",
   "metadata": {},
   "source": [
    "Create a histogram for the measured values."
   ]
  },
  {
   "cell_type": "code",
   "execution_count": null,
   "id": "a1543d5b",
   "metadata": {},
   "outputs": [],
   "source": [
    "plt.hist(measurements, bins=10, edgecolor='black')\n",
    "plt.title('Histogram of Measured Values')\n",
    "plt.xlabel('Value Range')\n",
    "plt.ylabel('Frequency')\n",
    "plt.show()"
   ]
  },
  {
   "cell_type": "markdown",
   "id": "ba108067",
   "metadata": {},
   "source": [
    "Create a histogram for the measurement error."
   ]
  },
  {
   "cell_type": "code",
   "execution_count": null,
   "id": "c9dc187e",
   "metadata": {},
   "outputs": [],
   "source": [
    "plt.hist(measurement_error, bins=10, edgecolor='black')\n",
    "plt.title('Histogram of Measurement Error')\n",
    "plt.xlabel('Error Range')\n",
    "plt.ylabel('Frequency')\n",
    "plt.show()"
   ]
  },
  {
   "cell_type": "markdown",
   "id": "bb5e60ad",
   "metadata": {},
   "source": [
    "Create a histogram for the idealized values from the linear equation."
   ]
  },
  {
   "cell_type": "code",
   "execution_count": null,
   "id": "0de148e6",
   "metadata": {},
   "outputs": [],
   "source": [
    "ideal_values = linear_equation(x)\n",
    "plt.hist(ideal_values, bins=10, edgecolor='black')\n",
    "plt.title('Histogram of Idealized Values')\n",
    "plt.xlabel('Value Range')\n",
    "plt.ylabel('Frequency')\n",
    "plt.show()"
   ]
  }
 ],
 "metadata": {
  "kernelspec": {
   "display_name": "Python 3",
   "language": "python",
   "name": "python3"
  },
  "language_info": {
   "codemirror_mode": {
    "name": "ipython",
    "version": 3
   },
   "file_extension": ".py",
   "mimetype": "text/x-python",
   "name": "python",
   "nbconvert_exporter": "python",
   "pygments_lexer": "ipython3",
   "version": "3.8.5"
  }
 },
 "nbformat": 4,
 "nbformat_minor": 5
}
