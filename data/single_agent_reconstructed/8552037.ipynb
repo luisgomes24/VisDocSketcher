{
 "cells": [
  {
   "cell_type": "markdown",
   "id": "e3bf72c1",
   "metadata": {},
   "source": [
    "Load data from a CSV file using pandas."
   ]
  },
  {
   "cell_type": "code",
   "execution_count": null,
   "id": "7edc9733",
   "metadata": {},
   "outputs": [],
   "source": [
    "import pandas as pd\n",
    "\n",
    "def load_data(file_path):\n",
    "    return pd.read_csv(file_path)"
   ]
  },
  {
   "cell_type": "markdown",
   "id": "8f1d0618",
   "metadata": {},
   "source": [
    "Preview the first few rows of the data."
   ]
  },
  {
   "cell_type": "code",
   "execution_count": null,
   "id": "c9b36ecd",
   "metadata": {},
   "outputs": [],
   "source": [
    "def preview_data(data):\n",
    "    print(data.head())"
   ]
  },
  {
   "cell_type": "markdown",
   "id": "5ed4711a",
   "metadata": {},
   "source": [
    "Create distribution graphs using seaborn."
   ]
  },
  {
   "cell_type": "code",
   "execution_count": null,
   "id": "0fa6f995",
   "metadata": {},
   "outputs": [],
   "source": [
    "import seaborn as sns\n",
    "import matplotlib.pyplot as plt\n",
    "\n",
    "def distribution_graphs(data):\n",
    "    sns.histplot(data)\n",
    "    plt.show()"
   ]
  },
  {
   "cell_type": "markdown",
   "id": "c8413291",
   "metadata": {},
   "source": [
    "Generate a correlation matrix heatmap."
   ]
  },
  {
   "cell_type": "code",
   "execution_count": null,
   "id": "e23861b3",
   "metadata": {},
   "outputs": [],
   "source": [
    "def correlation_matrix(data):\n",
    "    corr = data.corr()\n",
    "    sns.heatmap(corr, annot=True)\n",
    "    plt.show()"
   ]
  },
  {
   "cell_type": "markdown",
   "id": "64400600",
   "metadata": {},
   "source": [
    "Create scatter plots for specified x and y columns."
   ]
  },
  {
   "cell_type": "code",
   "execution_count": null,
   "id": "25a7772c",
   "metadata": {},
   "outputs": [],
   "source": [
    "def scatter_density_plots(data, x, y):\n",
    "    sns.scatterplot(data=data, x=x, y=y)\n",
    "    plt.show()"
   ]
  }
 ],
 "metadata": {
  "kernelspec": {
   "display_name": "Python 3",
   "language": "python",
   "name": "python3"
  },
  "language_info": {
   "codemirror_mode": {
    "name": "ipython",
    "version": 3
   },
   "file_extension": ".py",
   "mimetype": "text/x-python",
   "name": "python",
   "nbconvert_exporter": "python",
   "pygments_lexer": "ipython3",
   "version": "3.8.5"
  }
 },
 "nbformat": 4,
 "nbformat_minor": 5
}
