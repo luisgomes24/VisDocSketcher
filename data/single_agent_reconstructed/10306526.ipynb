{
 "cells": [
  {
   "cell_type": "markdown",
   "id": "0ffb68b4",
   "metadata": {},
   "source": [
    "Read CSV files into a DataFrame."
   ]
  },
  {
   "cell_type": "code",
   "execution_count": null,
   "id": "6f40cbee",
   "metadata": {},
   "outputs": [],
   "source": [
    "import pandas as pd\n",
    "\n",
    "df = pd.read_csv('data.csv')"
   ]
  },
  {
   "cell_type": "markdown",
   "id": "f2ac0606",
   "metadata": {},
   "source": [
    "Check and print the dataset shape."
   ]
  },
  {
   "cell_type": "code",
   "execution_count": null,
   "id": "ff248ab9",
   "metadata": {},
   "outputs": [],
   "source": [
    "shape = df.shape\n",
    "print('Dataset Shape:', shape)"
   ]
  },
  {
   "cell_type": "markdown",
   "id": "850b0387",
   "metadata": {},
   "source": [
    "Get a statistical overview of the dataset."
   ]
  },
  {
   "cell_type": "code",
   "execution_count": null,
   "id": "c738ccd3",
   "metadata": {},
   "outputs": [],
   "source": [
    "description = df.describe()\n",
    "print(description)"
   ]
  },
  {
   "cell_type": "markdown",
   "id": "282f50d3",
   "metadata": {},
   "source": [
    "Overview of the columns in the dataset."
   ]
  },
  {
   "cell_type": "code",
   "execution_count": null,
   "id": "1ad31daa",
   "metadata": {},
   "outputs": [],
   "source": [
    "columns = df.columns.tolist()\n",
    "print('Columns:', columns)"
   ]
  },
  {
   "cell_type": "markdown",
   "id": "eae0fe82",
   "metadata": {},
   "source": [
    "Inspect data types and non-null values in the dataset."
   ]
  },
  {
   "cell_type": "code",
   "execution_count": null,
   "id": "8970f11a",
   "metadata": {},
   "outputs": [],
   "source": [
    "df.info()"
   ]
  },
  {
   "cell_type": "markdown",
   "id": "5dd20c0d",
   "metadata": {},
   "source": [
    "Plot the age distribution of the dataset."
   ]
  },
  {
   "cell_type": "code",
   "execution_count": null,
   "id": "f62cdd4f",
   "metadata": {},
   "outputs": [],
   "source": [
    "import matplotlib.pyplot as plt\n",
    "\n",
    "plt.hist(df['Age'].dropna(), bins=30)\n",
    "plt.title('Age Distribution')\n",
    "plt.xlabel('Age')\n",
    "plt.ylabel('Frequency')\n",
    "plt.show()"
   ]
  },
  {
   "cell_type": "markdown",
   "id": "1afe7ddb",
   "metadata": {},
   "source": [
    "Fill missing values in the 'Age' column with the median."
   ]
  },
  {
   "cell_type": "code",
   "execution_count": null,
   "id": "a6119cb4",
   "metadata": {},
   "outputs": [],
   "source": [
    "df['Age'].fillna(df['Age'].median(), inplace=True)"
   ]
  },
  {
   "cell_type": "markdown",
   "id": "d1c511d7",
   "metadata": {},
   "source": [
    "Drop the 'Cabin' column from the dataset."
   ]
  },
  {
   "cell_type": "code",
   "execution_count": null,
   "id": "6e97ae03",
   "metadata": {},
   "outputs": [],
   "source": [
    "df.drop('Cabin', axis=1, inplace=True)"
   ]
  },
  {
   "cell_type": "markdown",
   "id": "014c1012",
   "metadata": {},
   "source": [
    "Fill missing values in 'Embarked' column with 'S'."
   ]
  },
  {
   "cell_type": "code",
   "execution_count": null,
   "id": "7f716b5d",
   "metadata": {},
   "outputs": [],
   "source": [
    "df['Embarked'].fillna('S', inplace=True)"
   ]
  },
  {
   "cell_type": "markdown",
   "id": "77ead880",
   "metadata": {},
   "source": [
    "Encode categorical features into numerical format."
   ]
  },
  {
   "cell_type": "code",
   "execution_count": null,
   "id": "deb34c36",
   "metadata": {},
   "outputs": [],
   "source": [
    "df = pd.get_dummies(df, columns=['Sex', 'Embarked'], drop_first=True)"
   ]
  },
  {
   "cell_type": "markdown",
   "id": "b0d936cc",
   "metadata": {},
   "source": [
    "Plot the correlation heatmap of the features."
   ]
  },
  {
   "cell_type": "code",
   "execution_count": null,
   "id": "a3bc89b8",
   "metadata": {},
   "outputs": [],
   "source": [
    "import seaborn as sns\n",
    "\n",
    "plt.figure(figsize=(10, 8))\n",
    "sns.heatmap(df.corr(), annot=True, fmt='.2f', cmap='coolwarm')\n",
    "plt.title('Correlation Heatmap')\n",
    "plt.show()"
   ]
  },
  {
   "cell_type": "markdown",
   "id": "5add06ae",
   "metadata": {},
   "source": [
    "Plot the count of survival outcomes."
   ]
  },
  {
   "cell_type": "code",
   "execution_count": null,
   "id": "86ccf109",
   "metadata": {},
   "outputs": [],
   "source": [
    "plt.figure(figsize=(10, 5))\n",
    "sns.countplot(x='Survived', data=df)\n",
    "plt.title('Survival Counts')\n",
    "plt.show()"
   ]
  },
  {
   "cell_type": "markdown",
   "id": "9246406d",
   "metadata": {},
   "source": [
    "Convert ages into categorical age groups."
   ]
  },
  {
   "cell_type": "code",
   "execution_count": null,
   "id": "3c799e9f",
   "metadata": {},
   "outputs": [],
   "source": [
    "bins = [0, 12, 18, 30, 50, 100]\n",
    "df['AgeGroup'] = pd.cut(df['Age'], bins=bins, labels=['Child', 'Teen', 'YoungAdult', 'Adult', 'Senior'])"
   ]
  },
  {
   "cell_type": "markdown",
   "id": "b524efe2",
   "metadata": {},
   "source": [
    "Convert fares into categorical fare groups."
   ]
  },
  {
   "cell_type": "code",
   "execution_count": null,
   "id": "29aa8264",
   "metadata": {},
   "outputs": [],
   "source": [
    "fare_bins = [0, 10, 30, 100, 500]\n",
    "df['FareGroup'] = pd.cut(df['Fare'], bins=fare_bins, labels=['Low', 'Medium', 'High', 'Very High'])"
   ]
  },
  {
   "cell_type": "markdown",
   "id": "74ca281e",
   "metadata": {},
   "source": [
    "Combine siblings and parents to create a family size feature."
   ]
  },
  {
   "cell_type": "code",
   "execution_count": null,
   "id": "cbd4a374",
   "metadata": {},
   "outputs": [],
   "source": [
    "df['FamilySize'] = df['SibSp'] + df['Parch'] + 1"
   ]
  },
  {
   "cell_type": "markdown",
   "id": "34aa527b",
   "metadata": {},
   "source": [
    "Create family groups based on family size."
   ]
  },
  {
   "cell_type": "code",
   "execution_count": null,
   "id": "d00dcd65",
   "metadata": {},
   "outputs": [],
   "source": [
    "df['FamilyGroup'] = pd.cut(df['FamilySize'], bins=[0, 1, 3, 5, 100], labels=['Single', 'Small', 'Medium', 'Large'])"
   ]
  },
  {
   "cell_type": "markdown",
   "id": "cc869e0e",
   "metadata": {},
   "source": [
    "Select features and target variable for modeling."
   ]
  },
  {
   "cell_type": "code",
   "execution_count": null,
   "id": "5e438d18",
   "metadata": {},
   "outputs": [],
   "source": [
    "X = df.drop(['Survived'], axis=1)\n",
    "Y = df['Survived']"
   ]
  },
  {
   "cell_type": "markdown",
   "id": "c83c5e71",
   "metadata": {},
   "source": [
    "Train a Random Forest model."
   ]
  },
  {
   "cell_type": "code",
   "execution_count": null,
   "id": "6b5077d2",
   "metadata": {},
   "outputs": [],
   "source": [
    "from sklearn.ensemble import RandomForestClassifier\n",
    "model_rf = RandomForestClassifier()\n",
    "model_rf.fit(X, Y)"
   ]
  },
  {
   "cell_type": "markdown",
   "id": "cb4c4bfc",
   "metadata": {},
   "source": [
    "Train an XGBoost model."
   ]
  },
  {
   "cell_type": "code",
   "execution_count": null,
   "id": "3cdce436",
   "metadata": {},
   "outputs": [],
   "source": [
    "from xgboost import XGBClassifier\n",
    "model_xgb = XGBClassifier()\n",
    "model_xgb.fit(X, Y)"
   ]
  },
  {
   "cell_type": "markdown",
   "id": "bbf83311",
   "metadata": {},
   "source": [
    "Train a Logistic Regression model."
   ]
  },
  {
   "cell_type": "code",
   "execution_count": null,
   "id": "3dc7a4e3",
   "metadata": {},
   "outputs": [],
   "source": [
    "from sklearn.linear_model import LogisticRegression\n",
    "model_lr = LogisticRegression()\n",
    "model_lr.fit(X, Y)"
   ]
  },
  {
   "cell_type": "markdown",
   "id": "3ccf0c42",
   "metadata": {},
   "source": [
    "Make predictions using the trained models."
   ]
  },
  {
   "cell_type": "code",
   "execution_count": null,
   "id": "ddf13af2",
   "metadata": {},
   "outputs": [],
   "source": [
    "predictions_rf = model_rf.predict(X)\n",
    "predictions_xgb = model_xgb.predict(X)\n",
    "predictions_lr = model_lr.predict(X)"
   ]
  },
  {
   "cell_type": "markdown",
   "id": "971fa765",
   "metadata": {},
   "source": [
    "Save the output predictions to a CSV file."
   ]
  },
  {
   "cell_type": "code",
   "execution_count": null,
   "id": "1de60338",
   "metadata": {},
   "outputs": [],
   "source": [
    "output_df = pd.DataFrame({'Predictions': predictions_rf})\n",
    "output_df.to_csv('predictions.csv', index=False)"
   ]
  }
 ],
 "metadata": {
  "kernelspec": {
   "display_name": "Python 3",
   "language": "python",
   "name": "python3"
  },
  "language_info": {
   "codemirror_mode": {
    "name": "ipython",
    "version": 3
   },
   "file_extension": ".py",
   "mimetype": "text/x-python",
   "name": "python",
   "nbconvert_exporter": "python",
   "pygments_lexer": "ipython3",
   "version": "3.8.5"
  }
 },
 "nbformat": 4,
 "nbformat_minor": 5
}
