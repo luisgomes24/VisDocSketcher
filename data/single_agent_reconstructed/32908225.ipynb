{
 "cells": [
  {
   "cell_type": "markdown",
   "id": "4472de31",
   "metadata": {},
   "source": [
    "Import the necessary library and load the CSV data into a DataFrame."
   ]
  },
  {
   "cell_type": "code",
   "execution_count": null,
   "id": "038d3c9b",
   "metadata": {},
   "outputs": [],
   "source": [
    "import pandas as pd\n",
    "\n",
    "df = pd.read_csv('data.csv')"
   ]
  },
  {
   "cell_type": "markdown",
   "id": "d9ccbaf5",
   "metadata": {},
   "source": [
    "Clean the data by removing missing values and resetting the index."
   ]
  },
  {
   "cell_type": "code",
   "execution_count": null,
   "id": "c59e62be",
   "metadata": {},
   "outputs": [],
   "source": [
    "df.dropna(inplace=True)\n",
    "df.reset_index(drop=True, inplace=True)"
   ]
  },
  {
   "cell_type": "markdown",
   "id": "a73c5df3",
   "metadata": {},
   "source": [
    "Visualize the relationship between Year and Growth using a line plot."
   ]
  },
  {
   "cell_type": "code",
   "execution_count": null,
   "id": "66e788d8",
   "metadata": {},
   "outputs": [],
   "source": [
    "import matplotlib.pyplot as plt\n",
    "\n",
    "plt.figure(figsize=(10, 6))\n",
    "plt.plot(df['Year'], df['Growth'])\n",
    "plt.title('Year vs Growth')\n",
    "plt.xlabel('Year')\n",
    "plt.ylabel('Growth')\n",
    "plt.show()"
   ]
  },
  {
   "cell_type": "markdown",
   "id": "83f08d39",
   "metadata": {},
   "source": [
    "Create a scatter plot to observe the relationship between GDP and Per Capita Income."
   ]
  },
  {
   "cell_type": "code",
   "execution_count": null,
   "id": "360ccff5",
   "metadata": {},
   "outputs": [],
   "source": [
    "plt.figure(figsize=(10, 6))\n",
    "plt.scatter(df['GDP'], df['Per Capita Income'])\n",
    "plt.title('GDP vs Per Capita Income')\n",
    "plt.xlabel('GDP')\n",
    "plt.ylabel('Per Capita Income')\n",
    "plt.show()"
   ]
  },
  {
   "cell_type": "markdown",
   "id": "2fc667c2",
   "metadata": {},
   "source": [
    "Visualize GDP over the years with a line plot."
   ]
  },
  {
   "cell_type": "code",
   "execution_count": null,
   "id": "6ee2e697",
   "metadata": {},
   "outputs": [],
   "source": [
    "plt.figure(figsize=(10, 6))\n",
    "plt.plot(df['Year'], df['GDP'])\n",
    "plt.title('Year vs GDP')\n",
    "plt.xlabel('Year')\n",
    "plt.ylabel('GDP')\n",
    "plt.show()"
   ]
  },
  {
   "cell_type": "markdown",
   "id": "3562c586",
   "metadata": {},
   "source": [
    "Display the trend of Per Capita Income over the years."
   ]
  },
  {
   "cell_type": "code",
   "execution_count": null,
   "id": "85a90b56",
   "metadata": {},
   "outputs": [],
   "source": [
    "plt.figure(figsize=(10, 6))\n",
    "plt.plot(df['Year'], df['Per Capita Income'])\n",
    "plt.title('Year vs Per Capita Income')\n",
    "plt.xlabel('Year')\n",
    "plt.ylabel('Per Capita Income')\n",
    "plt.show()"
   ]
  },
  {
   "cell_type": "markdown",
   "id": "5d6a3877",
   "metadata": {},
   "source": [
    "Show how Growth correlates with GDP through a line plot."
   ]
  },
  {
   "cell_type": "code",
   "execution_count": null,
   "id": "17be6e6e",
   "metadata": {},
   "outputs": [],
   "source": [
    "plt.figure(figsize=(10, 6))\n",
    "plt.plot(df['GDP'], df['Growth'])\n",
    "plt.title('GDP vs Growth')\n",
    "plt.xlabel('GDP')\n",
    "plt.ylabel('Growth')\n",
    "plt.show()"
   ]
  },
  {
   "cell_type": "markdown",
   "id": "8be9f984",
   "metadata": {},
   "source": [
    "Visualize the relationship between Per Capita Income and Growth."
   ]
  },
  {
   "cell_type": "code",
   "execution_count": null,
   "id": "175cf97b",
   "metadata": {},
   "outputs": [],
   "source": [
    "plt.figure(figsize=(10, 6))\n",
    "plt.plot(df['Per Capita Income'], df['Growth'])\n",
    "plt.title('Per Capita vs Growth')\n",
    "plt.xlabel('Per Capita Income')\n",
    "plt.ylabel('Growth')\n",
    "plt.show()"
   ]
  }
 ],
 "metadata": {
  "kernelspec": {
   "display_name": "Python 3",
   "language": "python",
   "name": "python3"
  },
  "language_info": {
   "codemirror_mode": {
    "name": "ipython",
    "version": 3
   },
   "file_extension": ".py",
   "mimetype": "text/x-python",
   "name": "python",
   "nbconvert_exporter": "python",
   "pygments_lexer": "ipython3",
   "version": "3.8.5"
  }
 },
 "nbformat": 4,
 "nbformat_minor": 5
}
