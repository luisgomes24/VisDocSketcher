{
 "cells": [
  {
   "cell_type": "markdown",
   "id": "5ba601cf",
   "metadata": {},
   "source": [
    "Load the dataset from a CSV file using pandas."
   ]
  },
  {
   "cell_type": "code",
   "execution_count": null,
   "id": "9a46a3f9",
   "metadata": {},
   "outputs": [],
   "source": [
    "import pandas as pd\n",
    "df = pd.read_csv('data.csv')"
   ]
  },
  {
   "cell_type": "markdown",
   "id": "797c2b38",
   "metadata": {},
   "source": [
    "Inspect the first few rows and check for null values in the data."
   ]
  },
  {
   "cell_type": "code",
   "execution_count": null,
   "id": "e76091d0",
   "metadata": {},
   "outputs": [],
   "source": [
    "print(df.head())\n",
    "print(df.isnull().sum())"
   ]
  },
  {
   "cell_type": "markdown",
   "id": "da819cd9",
   "metadata": {},
   "source": [
    "Preprocess the data by filling null values with the mean of their respective columns."
   ]
  },
  {
   "cell_type": "code",
   "execution_count": null,
   "id": "c24ba6c8",
   "metadata": {},
   "outputs": [],
   "source": [
    "df.fillna(df.mean(), inplace=True)"
   ]
  },
  {
   "cell_type": "markdown",
   "id": "43fd3a75",
   "metadata": {},
   "source": [
    "Perform feature engineering by applying one-hot encoding to categorical variables."
   ]
  },
  {
   "cell_type": "code",
   "execution_count": null,
   "id": "00a8a3fc",
   "metadata": {},
   "outputs": [],
   "source": [
    "from sklearn.preprocessing import OneHotEncoder\n",
    "encoder = OneHotEncoder()\n",
    "df = encoder.fit_transform(df).toarray()"
   ]
  },
  {
   "cell_type": "markdown",
   "id": "1784e5f6",
   "metadata": {},
   "source": [
    "Split the data into training and testing sets."
   ]
  },
  {
   "cell_type": "code",
   "execution_count": null,
   "id": "6d4e6c6a",
   "metadata": {},
   "outputs": [],
   "source": [
    "from sklearn.model_selection import train_test_split\n",
    "X = df.drop('target', axis=1)\n",
    "y = df['target']\n",
    "X_train, X_test, y_train, y_test = train_test_split(X, y, test_size=0.2)"
   ]
  },
  {
   "cell_type": "markdown",
   "id": "9d8b46f6",
   "metadata": {},
   "source": [
    "Train a Linear Regression model on the training data."
   ]
  },
  {
   "cell_type": "code",
   "execution_count": null,
   "id": "be18cf47",
   "metadata": {},
   "outputs": [],
   "source": [
    "from sklearn.linear_model import LinearRegression, Ridge, Lasso\n",
    "model = LinearRegression()\n",
    "model.fit(X_train, y_train)"
   ]
  },
  {
   "cell_type": "markdown",
   "id": "4517d7d2",
   "metadata": {},
   "source": [
    "Evaluate the model using Mean Squared Error as the performance metric."
   ]
  },
  {
   "cell_type": "code",
   "execution_count": null,
   "id": "eb8e3ff9",
   "metadata": {},
   "outputs": [],
   "source": [
    "from sklearn.metrics import mean_squared_error\n",
    "predictions = model.predict(X_test)\n",
    "mse = mean_squared_error(y_test, predictions)"
   ]
  },
  {
   "cell_type": "markdown",
   "id": "f70e9baa",
   "metadata": {},
   "source": [
    "Visualize the model's predictions against the actual values."
   ]
  },
  {
   "cell_type": "code",
   "execution_count": null,
   "id": "fbb0b059",
   "metadata": {},
   "outputs": [],
   "source": [
    "import matplotlib.pyplot as plt\n",
    "plt.scatter(y_test, predictions)\n",
    "plt.plot(y_test, y_test, color='red')\n",
    "plt.show()"
   ]
  }
 ],
 "metadata": {
  "kernelspec": {
   "display_name": "Python 3",
   "language": "python",
   "name": "python3"
  },
  "language_info": {
   "codemirror_mode": {
    "name": "ipython",
    "version": 3
   },
   "file_extension": ".py",
   "mimetype": "text/x-python",
   "name": "python",
   "nbconvert_exporter": "python",
   "pygments_lexer": "ipython3",
   "version": "3.8.5"
  }
 },
 "nbformat": 4,
 "nbformat_minor": 5
}
