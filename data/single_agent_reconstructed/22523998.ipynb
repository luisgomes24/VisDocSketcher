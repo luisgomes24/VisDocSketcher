{
 "cells": [
  {
   "cell_type": "markdown",
   "id": "4c3ba821",
   "metadata": {},
   "source": [
    "Load data from a CSV file into a pandas DataFrame."
   ]
  },
  {
   "cell_type": "code",
   "execution_count": null,
   "id": "12cda29c",
   "metadata": {},
   "outputs": [],
   "source": [
    "import pandas as pd\n",
    "df = pd.read_csv('data.csv')"
   ]
  },
  {
   "cell_type": "markdown",
   "id": "fe7620ee",
   "metadata": {},
   "source": [
    "Inspect the first few rows of the DataFrame to understand its structure."
   ]
  },
  {
   "cell_type": "code",
   "execution_count": null,
   "id": "73ede5a7",
   "metadata": {},
   "outputs": [],
   "source": [
    "print(df.head())"
   ]
  },
  {
   "cell_type": "markdown",
   "id": "e98403f9",
   "metadata": {},
   "source": [
    "Create a histogram to visualize the number of images per dog breed."
   ]
  },
  {
   "cell_type": "code",
   "execution_count": null,
   "id": "047ebc8b",
   "metadata": {},
   "outputs": [],
   "source": [
    "import matplotlib.pyplot as plt\n",
    "plt.hist(df['breed'].value_counts())\n",
    "plt.show()"
   ]
  },
  {
   "cell_type": "markdown",
   "id": "0f54f3cb",
   "metadata": {},
   "source": [
    "Get the dimensions of an image."
   ]
  },
  {
   "cell_type": "code",
   "execution_count": null,
   "id": "112d86f9",
   "metadata": {},
   "outputs": [],
   "source": [
    "from PIL import Image\n",
    "image = Image.open('image_path')\n",
    "width, height = image.size"
   ]
  },
  {
   "cell_type": "markdown",
   "id": "fb0d8e37",
   "metadata": {},
   "source": [
    "Calculate the aspect ratio of the image."
   ]
  },
  {
   "cell_type": "code",
   "execution_count": null,
   "id": "61ae1224",
   "metadata": {},
   "outputs": [],
   "source": [
    "aspect_ratio = width / height"
   ]
  },
  {
   "cell_type": "markdown",
   "id": "92aee697",
   "metadata": {},
   "source": [
    "Create a boxplot to assess the distribution of aspect ratios."
   ]
  },
  {
   "cell_type": "code",
   "execution_count": null,
   "id": "6d632258",
   "metadata": {},
   "outputs": [],
   "source": [
    "plt.boxplot(df['aspect_ratio'])\n",
    "plt.show()"
   ]
  },
  {
   "cell_type": "markdown",
   "id": "7373c2d1",
   "metadata": {},
   "source": [
    "Remove invalid images based on aspect ratio criteria."
   ]
  },
  {
   "cell_type": "code",
   "execution_count": null,
   "id": "9005e844",
   "metadata": {},
   "outputs": [],
   "source": [
    "invalid_images = df[df['aspect_ratio'] < 1]\n",
    "df = df[~df.isin(invalid_images)]"
   ]
  },
  {
   "cell_type": "markdown",
   "id": "cf594aca",
   "metadata": {},
   "source": [
    "Remove outlier aspect ratios based on calculated bounds."
   ]
  },
  {
   "cell_type": "code",
   "execution_count": null,
   "id": "0fa57875",
   "metadata": {},
   "outputs": [],
   "source": [
    "outliers = df[(df['aspect_ratio'] < lower_bound) | (df['aspect_ratio'] > upper_bound)]\n",
    "df = df[~df.isin(outliers)]"
   ]
  },
  {
   "cell_type": "markdown",
   "id": "912ce54a",
   "metadata": {},
   "source": [
    "Resize and convert the image to the preferred size and format."
   ]
  },
  {
   "cell_type": "code",
   "execution_count": null,
   "id": "c79d3f83",
   "metadata": {},
   "outputs": [],
   "source": [
    "image = image.resize((new_width, new_height))\n",
    "image.save('new_image_path')"
   ]
  },
  {
   "cell_type": "markdown",
   "id": "fcc16576",
   "metadata": {},
   "source": [
    "Save the cleaned DataFrame to a new CSV file."
   ]
  },
  {
   "cell_type": "code",
   "execution_count": null,
   "id": "21ca5931",
   "metadata": {},
   "outputs": [],
   "source": [
    "df.to_csv('cleaned_data.csv', index=False)"
   ]
  }
 ],
 "metadata": {
  "kernelspec": {
   "display_name": "Python 3",
   "language": "python",
   "name": "python3"
  },
  "language_info": {
   "codemirror_mode": {
    "name": "ipython",
    "version": 3
   },
   "file_extension": ".py",
   "mimetype": "text/x-python",
   "name": "python",
   "nbconvert_exporter": "python",
   "pygments_lexer": "ipython3",
   "version": "3.8.5"
  }
 },
 "nbformat": 4,
 "nbformat_minor": 5
}
