{
 "cells": [
  {
   "cell_type": "markdown",
   "id": "e5f3ed68",
   "metadata": {},
   "source": [
    "Load the dataset from a CSV file into a Pandas DataFrame."
   ]
  },
  {
   "cell_type": "code",
   "execution_count": null,
   "id": "17e0a61f",
   "metadata": {},
   "outputs": [],
   "source": [
    "import pandas as pd\n",
    "\n",
    "# Load data\n",
    "file_path = 'data.csv'\n",
    "data = pd.read_csv(file_path)"
   ]
  },
  {
   "cell_type": "markdown",
   "id": "00fa046b",
   "metadata": {},
   "source": [
    "Create a histogram to visualize the distribution of a specific column in the dataset."
   ]
  },
  {
   "cell_type": "code",
   "execution_count": null,
   "id": "33332fc5",
   "metadata": {},
   "outputs": [],
   "source": [
    "import matplotlib.pyplot as plt\n",
    "\n",
    "# Plot Distribution\n",
    "data['column_name'].hist()\n",
    "plt.title('Distribution of Column')\n",
    "plt.xlabel('Values')\n",
    "plt.ylabel('Frequency')\n",
    "plt.show()"
   ]
  },
  {
   "cell_type": "markdown",
   "id": "c338a5aa",
   "metadata": {},
   "source": [
    "Generate a heatmap to visualize the correlation between different features in the dataset."
   ]
  },
  {
   "cell_type": "code",
   "execution_count": null,
   "id": "babea57b",
   "metadata": {},
   "outputs": [],
   "source": [
    "import seaborn as sns\n",
    "\n",
    "# Plot Correlation Matrix\n",
    "correlation_matrix = data.corr()\n",
    "sns.heatmap(correlation_matrix, annot=True)\n",
    "plt.title('Correlation Matrix')\n",
    "plt.show()"
   ]
  },
  {
   "cell_type": "markdown",
   "id": "dbd9d623",
   "metadata": {},
   "source": [
    "Create a scatter plot matrix to examine the relationships between pairs of features."
   ]
  },
  {
   "cell_type": "code",
   "execution_count": null,
   "id": "3eb079fd",
   "metadata": {},
   "outputs": [],
   "source": [
    "from pandas.plotting import scatter_matrix\n",
    "\n",
    "# Plot Scatter Matrix\n",
    "scatter_matrix(data, alpha=0.2, figsize=(10, 10), diagonal='kde')\n",
    "plt.title('Scatter Matrix')\n",
    "plt.show()"
   ]
  },
  {
   "cell_type": "markdown",
   "id": "435c9769",
   "metadata": {},
   "source": [
    "Create a bar plot to compare the values across different categories in the dataset."
   ]
  },
  {
   "cell_type": "code",
   "execution_count": null,
   "id": "0b820a22",
   "metadata": {},
   "outputs": [],
   "source": [
    "sns.barplot(x='category', y='value', data=data)\n",
    "plt.title('Barplot of Results')\n",
    "plt.show()"
   ]
  },
  {
   "cell_type": "markdown",
   "id": "5f99490f",
   "metadata": {},
   "source": [
    "Visualize the distribution of different features using box plots to identify outliers."
   ]
  },
  {
   "cell_type": "code",
   "execution_count": null,
   "id": "568b4ef8",
   "metadata": {},
   "outputs": [],
   "source": [
    "sns.boxplot(data=data[['A', 'B', 'C']])\n",
    "plt.title('Correlation Heatmap')\n",
    "plt.show()"
   ]
  },
  {
   "cell_type": "markdown",
   "id": "4cb180fd",
   "metadata": {},
   "source": [
    "Create a scatter plot to visualize the relationship between two specific columns."
   ]
  },
  {
   "cell_type": "code",
   "execution_count": null,
   "id": "3d38682b",
   "metadata": {},
   "outputs": [],
   "source": [
    "plt.scatter(data['A'], data['B'])\n",
    "plt.title('Scatter Plot Results')\n",
    "plt.xlabel('A')\n",
    "plt.ylabel('B')\n",
    "plt.show()"
   ]
  }
 ],
 "metadata": {
  "kernelspec": {
   "display_name": "Python 3",
   "language": "python",
   "name": "python3"
  },
  "language_info": {
   "codemirror_mode": {
    "name": "ipython",
    "version": 3
   },
   "file_extension": ".py",
   "mimetype": "text/x-python",
   "name": "python",
   "nbconvert_exporter": "python",
   "pygments_lexer": "ipython3",
   "version": "3.8.5"
  }
 },
 "nbformat": 4,
 "nbformat_minor": 5
}
