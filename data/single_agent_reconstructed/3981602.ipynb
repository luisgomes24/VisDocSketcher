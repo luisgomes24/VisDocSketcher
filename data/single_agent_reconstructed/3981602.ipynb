{
 "cells": [
  {
   "cell_type": "markdown",
   "id": "9e71980f",
   "metadata": {},
   "source": [
    "Load the dataset by reading a CSV file using pandas."
   ]
  },
  {
   "cell_type": "code",
   "execution_count": null,
   "id": "3170783d",
   "metadata": {},
   "outputs": [],
   "source": [
    "import pandas as pd\n",
    "data = pd.read_csv('data.csv')"
   ]
  },
  {
   "cell_type": "markdown",
   "id": "0bec42ae",
   "metadata": {},
   "source": [
    "Preview the first few rows of the dataset to understand its structure."
   ]
  },
  {
   "cell_type": "code",
   "execution_count": null,
   "id": "27375af5",
   "metadata": {},
   "outputs": [],
   "source": [
    "print(data.head())"
   ]
  },
  {
   "cell_type": "markdown",
   "id": "f876987e",
   "metadata": {},
   "source": [
    "Create distribution plots for each column in the dataset using seaborn."
   ]
  },
  {
   "cell_type": "code",
   "execution_count": null,
   "id": "722712ba",
   "metadata": {},
   "outputs": [],
   "source": [
    "import seaborn as sns\n",
    "import matplotlib.pyplot as plt\n",
    "sns.histplot(data, bins=10)\n",
    "plt.show()"
   ]
  },
  {
   "cell_type": "markdown",
   "id": "efb61b83",
   "metadata": {},
   "source": [
    "Calculate and visualize the correlation matrix of the dataset."
   ]
  },
  {
   "cell_type": "code",
   "execution_count": null,
   "id": "ac26eece",
   "metadata": {},
   "outputs": [],
   "source": [
    "corr = data.corr()\n",
    "sns.heatmap(corr, annot=True)\n",
    "plt.show()"
   ]
  },
  {
   "cell_type": "markdown",
   "id": "b2dfa981",
   "metadata": {},
   "source": [
    "Generate scatter and density plots for each pair of variables."
   ]
  },
  {
   "cell_type": "code",
   "execution_count": null,
   "id": "ca0b045a",
   "metadata": {},
   "outputs": [],
   "source": [
    "sns.pairplot(data)\n",
    "plt.show()"
   ]
  }
 ],
 "metadata": {
  "kernelspec": {
   "display_name": "Python 3",
   "language": "python",
   "name": "python3"
  },
  "language_info": {
   "codemirror_mode": {
    "name": "ipython",
    "version": 3
   },
   "file_extension": ".py",
   "mimetype": "text/x-python",
   "name": "python",
   "nbconvert_exporter": "python",
   "pygments_lexer": "ipython3",
   "version": "3.8.5"
  }
 },
 "nbformat": 4,
 "nbformat_minor": 5
}
