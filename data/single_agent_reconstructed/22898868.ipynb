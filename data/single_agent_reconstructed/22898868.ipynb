{
 "cells": [
  {
   "cell_type": "markdown",
   "id": "2edcbe82",
   "metadata": {},
   "source": [
    "Load the dataset using pandas."
   ]
  },
  {
   "cell_type": "code",
   "execution_count": null,
   "id": "8d39b8d2",
   "metadata": {},
   "outputs": [],
   "source": [
    "import pandas as pd\n",
    "\n",
    "data = pd.read_csv('data.csv')"
   ]
  },
  {
   "cell_type": "markdown",
   "id": "5798da69",
   "metadata": {},
   "source": [
    "Display an overview of the dataset's structure and summary statistics."
   ]
  },
  {
   "cell_type": "code",
   "execution_count": null,
   "id": "54071ef2",
   "metadata": {},
   "outputs": [],
   "source": [
    "print(data.info())\n",
    "print(data.describe())"
   ]
  },
  {
   "cell_type": "markdown",
   "id": "5ccfc502",
   "metadata": {},
   "source": [
    "Check for missing values in the dataset."
   ]
  },
  {
   "cell_type": "code",
   "execution_count": null,
   "id": "0371cd9a",
   "metadata": {},
   "outputs": [],
   "source": [
    "print(data.isnull().sum())"
   ]
  },
  {
   "cell_type": "markdown",
   "id": "fdb277e4",
   "metadata": {},
   "source": [
    "Generate a data profiling report for deeper insight."
   ]
  },
  {
   "cell_type": "code",
   "execution_count": null,
   "id": "a8b8a5af",
   "metadata": {},
   "outputs": [],
   "source": [
    "import pandas_profiling\n",
    "\n",
    "profile = pandas_profiling.ProfileReport(data)\n",
    "profile.to_file('data_profiling_report.html')"
   ]
  },
  {
   "cell_type": "markdown",
   "id": "5737374a",
   "metadata": {},
   "source": [
    "Visualize the distribution of name occurrences."
   ]
  },
  {
   "cell_type": "code",
   "execution_count": null,
   "id": "aa3c8a86",
   "metadata": {},
   "outputs": [],
   "source": [
    "import matplotlib.pyplot as plt\n",
    "\n",
    "data['name'].value_counts().plot(kind='bar')\n",
    "plt.title('Name Distribution')\n",
    "plt.show()"
   ]
  },
  {
   "cell_type": "markdown",
   "id": "a9126069",
   "metadata": {},
   "source": [
    "Display a sample image from the dataset."
   ]
  },
  {
   "cell_type": "code",
   "execution_count": null,
   "id": "74c4b2fc",
   "metadata": {},
   "outputs": [],
   "source": [
    "from PIL import Image\n",
    "\n",
    "sample_image = Image.open('sample_image.jpg')\n",
    "sample_image.show()"
   ]
  },
  {
   "cell_type": "markdown",
   "id": "cc0855fb",
   "metadata": {},
   "source": [
    "Validate the shapes of the training and test datasets."
   ]
  },
  {
   "cell_type": "code",
   "execution_count": null,
   "id": "cce08af5",
   "metadata": {},
   "outputs": [],
   "source": [
    "print(data.shape)"
   ]
  },
  {
   "cell_type": "markdown",
   "id": "4e5ad1c7",
   "metadata": {},
   "source": [
    "Verify that validation and test data shapes are consistent."
   ]
  },
  {
   "cell_type": "code",
   "execution_count": null,
   "id": "0cf2b3f4",
   "metadata": {},
   "outputs": [],
   "source": [
    "if data.shape[0] != validation_data.shape[0]:\n",
    "    print('Data shape validation failed!')"
   ]
  }
 ],
 "metadata": {
  "kernelspec": {
   "display_name": "Python 3",
   "language": "python",
   "name": "python3"
  },
  "language_info": {
   "codemirror_mode": {
    "name": "ipython",
    "version": 3
   },
   "file_extension": ".py",
   "mimetype": "text/x-python",
   "name": "python",
   "nbconvert_exporter": "python",
   "pygments_lexer": "ipython3",
   "version": "3.8.5"
  }
 },
 "nbformat": 4,
 "nbformat_minor": 5
}
