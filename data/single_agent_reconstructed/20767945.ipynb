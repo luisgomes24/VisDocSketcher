{
 "cells": [
  {
   "cell_type": "markdown",
   "id": "fdd9a613",
   "metadata": {},
   "source": [
    "Import the pandas library for data manipulation."
   ]
  },
  {
   "cell_type": "code",
   "execution_count": null,
   "id": "52eb3aac",
   "metadata": {},
   "outputs": [],
   "source": [
    "import pandas as pd"
   ]
  },
  {
   "cell_type": "markdown",
   "id": "90a2dff8",
   "metadata": {},
   "source": [
    "Create a DataFrame named 'fruits' with fruit names."
   ]
  },
  {
   "cell_type": "code",
   "execution_count": null,
   "id": "b2968035",
   "metadata": {},
   "outputs": [],
   "source": [
    "fruits = pd.DataFrame({'Fruit': ['Apple', 'Banana', 'Cherry']})"
   ]
  },
  {
   "cell_type": "markdown",
   "id": "a51715e1",
   "metadata": {},
   "source": [
    "Create a DataFrame named 'fruit_sales' with sales data."
   ]
  },
  {
   "cell_type": "code",
   "execution_count": null,
   "id": "a5c73173",
   "metadata": {},
   "outputs": [],
   "source": [
    "fruit_sales = pd.DataFrame({'Fruit': ['Apple', 'Banana', 'Cherry'], 'Sales': [100, 200, 150]})"
   ]
  },
  {
   "cell_type": "markdown",
   "id": "f4bab911",
   "metadata": {},
   "source": [
    "Create a Series named 'ingredients' containing ingredient names."
   ]
  },
  {
   "cell_type": "code",
   "execution_count": null,
   "id": "c25ca50f",
   "metadata": {},
   "outputs": [],
   "source": [
    "ingredients = pd.Series(['Sugar', 'Lemon', 'Mint'])"
   ]
  },
  {
   "cell_type": "markdown",
   "id": "823bba17",
   "metadata": {},
   "source": [
    "Load a CSV file named 'reviews' into a DataFrame."
   ]
  },
  {
   "cell_type": "code",
   "execution_count": null,
   "id": "357cbdf5",
   "metadata": {},
   "outputs": [],
   "source": [
    "reviews = pd.read_csv('reviews.csv')"
   ]
  },
  {
   "cell_type": "markdown",
   "id": "d1d41251",
   "metadata": {},
   "source": [
    "Create a DataFrame named 'animals' with animal data."
   ]
  },
  {
   "cell_type": "code",
   "execution_count": null,
   "id": "79c2928c",
   "metadata": {},
   "outputs": [],
   "source": [
    "animals = pd.DataFrame({'Animal': ['Cow', 'Goat'], 'Count': [10, 15]})"
   ]
  },
  {
   "cell_type": "markdown",
   "id": "b4332001",
   "metadata": {},
   "source": [
    "Save the 'animals' DataFrame to a CSV file named 'cows_and_goats.csv'."
   ]
  },
  {
   "cell_type": "code",
   "execution_count": null,
   "id": "d9236a03",
   "metadata": {},
   "outputs": [],
   "source": [
    "animals.to_csv('cows_and_goats.csv', index=False)"
   ]
  }
 ],
 "metadata": {
  "kernelspec": {
   "display_name": "Python 3",
   "language": "python",
   "name": "python3"
  },
  "language_info": {
   "codemirror_mode": {
    "name": "ipython",
    "version": 3
   },
   "file_extension": ".py",
   "mimetype": "text/x-python",
   "name": "python",
   "nbconvert_exporter": "python",
   "pygments_lexer": "ipython3",
   "version": "3.8.5"
  }
 },
 "nbformat": 4,
 "nbformat_minor": 5
}
