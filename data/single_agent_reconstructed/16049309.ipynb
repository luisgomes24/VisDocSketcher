{
 "cells": [
  {
   "cell_type": "markdown",
   "id": "e297c538",
   "metadata": {},
   "source": [
    "Load the CSV file into a DataFrame named df1."
   ]
  },
  {
   "cell_type": "code",
   "execution_count": null,
   "id": "03488662",
   "metadata": {},
   "outputs": [],
   "source": [
    "import pandas as pd\n",
    "df1 = pd.read_csv('movie.csv')"
   ]
  },
  {
   "cell_type": "markdown",
   "id": "0729194b",
   "metadata": {},
   "source": [
    "Display the first five rows of the DataFrame to explore the data."
   ]
  },
  {
   "cell_type": "code",
   "execution_count": null,
   "id": "8b2676f0",
   "metadata": {},
   "outputs": [],
   "source": [
    "df1.head(5)"
   ]
  },
  {
   "cell_type": "markdown",
   "id": "cb13216f",
   "metadata": {},
   "source": [
    "Generate distribution plots for each column in the DataFrame."
   ]
  },
  {
   "cell_type": "code",
   "execution_count": null,
   "id": "1c1371dd",
   "metadata": {},
   "outputs": [],
   "source": [
    "plotPerColumnDistribution(df1, 10, 5)"
   ]
  },
  {
   "cell_type": "markdown",
   "id": "efd0c242",
   "metadata": {},
   "source": [
    "Create a correlation matrix to show relationships between variables."
   ]
  },
  {
   "cell_type": "code",
   "execution_count": null,
   "id": "05580829",
   "metadata": {},
   "outputs": [],
   "source": [
    "plotCorrelationMatrix(df1, 8)"
   ]
  },
  {
   "cell_type": "markdown",
   "id": "c01e857c",
   "metadata": {},
   "source": [
    "Plot scatter and density plots to visualize the interaction between selected columns."
   ]
  },
  {
   "cell_type": "code",
   "execution_count": null,
   "id": "c725eb48",
   "metadata": {},
   "outputs": [],
   "source": [
    "plotScatterMatrix(df1, 9, 10)"
   ]
  }
 ],
 "metadata": {
  "kernelspec": {
   "display_name": "Python 3",
   "language": "python",
   "name": "python3"
  },
  "language_info": {
   "codemirror_mode": {
    "name": "ipython",
    "version": 3
   },
   "file_extension": ".py",
   "mimetype": "text/x-python",
   "name": "python",
   "nbconvert_exporter": "python",
   "pygments_lexer": "ipython3",
   "version": "3.8.5"
  }
 },
 "nbformat": 4,
 "nbformat_minor": 5
}
