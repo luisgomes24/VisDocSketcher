{
 "cells": [
  {
   "cell_type": "markdown",
   "id": "22b68273",
   "metadata": {},
   "source": [
    "Define a function to load datasets."
   ]
  },
  {
   "cell_type": "code",
   "execution_count": null,
   "id": "30801cac",
   "metadata": {},
   "outputs": [],
   "source": [
    "import pandas as pd\n",
    "\n",
    "def load_data():"
   ]
  },
  {
   "cell_type": "markdown",
   "id": "3be078db",
   "metadata": {},
   "source": [
    "Load the first CSV file related to coronavirus."
   ]
  },
  {
   "cell_type": "code",
   "execution_count": null,
   "id": "e1a0e1e5",
   "metadata": {},
   "outputs": [],
   "source": [
    "    df1 = pd.read_csv('sl_districts_coronavirus.csv')"
   ]
  },
  {
   "cell_type": "markdown",
   "id": "22f80c1f",
   "metadata": {},
   "source": [
    "Load the second CSV file related to demographics."
   ]
  },
  {
   "cell_type": "code",
   "execution_count": null,
   "id": "8933e457",
   "metadata": {},
   "outputs": [],
   "source": [
    "    df2 = pd.read_csv('sl_districts_demographics.csv')"
   ]
  },
  {
   "cell_type": "markdown",
   "id": "b2e1928a",
   "metadata": {},
   "source": [
    "Load the third CSV file related to information sources."
   ]
  },
  {
   "cell_type": "code",
   "execution_count": null,
   "id": "21b9652b",
   "metadata": {},
   "outputs": [],
   "source": [
    "    df3 = pd.read_csv('sl_districts_info_sources.csv')"
   ]
  },
  {
   "cell_type": "markdown",
   "id": "ea8a6b33",
   "metadata": {},
   "source": [
    "Return the three loaded dataframes."
   ]
  },
  {
   "cell_type": "code",
   "execution_count": null,
   "id": "0f3126b7",
   "metadata": {},
   "outputs": [],
   "source": [
    "    return df1, df2, df3"
   ]
  },
  {
   "cell_type": "markdown",
   "id": "790f5dd6",
   "metadata": {},
   "source": [
    "Assign the loaded dataframes to variables."
   ]
  },
  {
   "cell_type": "code",
   "execution_count": null,
   "id": "af6c80da",
   "metadata": {},
   "outputs": [],
   "source": [
    "df1 = load_data()[0]\n",
    "df2 = load_data()[1]\n",
    "df3 = load_data()[2]"
   ]
  },
  {
   "cell_type": "markdown",
   "id": "f3fd255b",
   "metadata": {},
   "source": [
    "Display the first 5 rows of the first dataframe."
   ]
  },
  {
   "cell_type": "code",
   "execution_count": null,
   "id": "b70c2800",
   "metadata": {},
   "outputs": [],
   "source": [
    "print(df1.head(5))"
   ]
  },
  {
   "cell_type": "markdown",
   "id": "9fdba053",
   "metadata": {},
   "source": [
    "Display the first 5 rows of the second dataframe."
   ]
  },
  {
   "cell_type": "code",
   "execution_count": null,
   "id": "86d1f302",
   "metadata": {},
   "outputs": [],
   "source": [
    "print(df2.head(5))"
   ]
  },
  {
   "cell_type": "markdown",
   "id": "f726c9fb",
   "metadata": {},
   "source": [
    "Display the first 5 rows of the third dataframe."
   ]
  },
  {
   "cell_type": "code",
   "execution_count": null,
   "id": "23b3bbbf",
   "metadata": {},
   "outputs": [],
   "source": [
    "print(df3.head(5))"
   ]
  },
  {
   "cell_type": "markdown",
   "id": "d076a6f6",
   "metadata": {},
   "source": [
    "Create a distribution plot for the first dataframe."
   ]
  },
  {
   "cell_type": "code",
   "execution_count": null,
   "id": "b89bdcd5",
   "metadata": {},
   "outputs": [],
   "source": [
    "import seaborn as sns\n",
    "import matplotlib.pyplot as plt\n",
    "\n",
    "sns.histplot(df1['column_name'])\n",
    "plt.show()"
   ]
  },
  {
   "cell_type": "markdown",
   "id": "81b76023",
   "metadata": {},
   "source": [
    "Create a distribution plot for the second dataframe."
   ]
  },
  {
   "cell_type": "code",
   "execution_count": null,
   "id": "59a16356",
   "metadata": {},
   "outputs": [],
   "source": [
    "sns.histplot(df2['column_name'])\n",
    "plt.show()"
   ]
  },
  {
   "cell_type": "markdown",
   "id": "100fce46",
   "metadata": {},
   "source": [
    "Create a distribution plot for the third dataframe."
   ]
  },
  {
   "cell_type": "code",
   "execution_count": null,
   "id": "5b65d9f4",
   "metadata": {},
   "outputs": [],
   "source": [
    "sns.histplot(df3['column_name'])\n",
    "plt.show()"
   ]
  },
  {
   "cell_type": "markdown",
   "id": "982ec5bc",
   "metadata": {},
   "source": [
    "Calculate the correlation matrix for the first dataframe."
   ]
  },
  {
   "cell_type": "code",
   "execution_count": null,
   "id": "f8ab2b47",
   "metadata": {},
   "outputs": [],
   "source": [
    "correlation_matrix1 = df1.corr()"
   ]
  },
  {
   "cell_type": "markdown",
   "id": "ab982cc2",
   "metadata": {},
   "source": [
    "Calculate the correlation matrix for the second dataframe."
   ]
  },
  {
   "cell_type": "code",
   "execution_count": null,
   "id": "ce2d3315",
   "metadata": {},
   "outputs": [],
   "source": [
    "correlation_matrix2 = df2.corr()"
   ]
  },
  {
   "cell_type": "markdown",
   "id": "7dde39e1",
   "metadata": {},
   "source": [
    "Calculate the correlation matrix for the third dataframe."
   ]
  },
  {
   "cell_type": "code",
   "execution_count": null,
   "id": "f4c042be",
   "metadata": {},
   "outputs": [],
   "source": [
    "correlation_matrix3 = df3.corr()"
   ]
  },
  {
   "cell_type": "markdown",
   "id": "aa5959a7",
   "metadata": {},
   "source": [
    "Create a scatter plot for features from the first dataframe."
   ]
  },
  {
   "cell_type": "code",
   "execution_count": null,
   "id": "d6900104",
   "metadata": {},
   "outputs": [],
   "source": [
    "sns.scatterplot(data=df1, x='feature1', y='feature2')\n",
    "plt.show()"
   ]
  },
  {
   "cell_type": "markdown",
   "id": "94c5aea9",
   "metadata": {},
   "source": [
    "Create a scatter plot for features from the second dataframe."
   ]
  },
  {
   "cell_type": "code",
   "execution_count": null,
   "id": "6052c340",
   "metadata": {},
   "outputs": [],
   "source": [
    "sns.scatterplot(data=df2, x='feature1', y='feature2')\n",
    "plt.show()"
   ]
  },
  {
   "cell_type": "markdown",
   "id": "a2a0e8fa",
   "metadata": {},
   "source": [
    "Create a scatter plot for features from the third dataframe."
   ]
  },
  {
   "cell_type": "code",
   "execution_count": null,
   "id": "f15dfada",
   "metadata": {},
   "outputs": [],
   "source": [
    "sns.scatterplot(data=df3, x='feature1', y='feature2')\n",
    "plt.show()"
   ]
  },
  {
   "cell_type": "markdown",
   "id": "20c3cd97",
   "metadata": {},
   "source": [
    "Print a message indicating the presentation of insights."
   ]
  },
  {
   "cell_type": "code",
   "execution_count": null,
   "id": "8cabf812",
   "metadata": {},
   "outputs": [],
   "source": [
    "print('Insights presentation')"
   ]
  }
 ],
 "metadata": {
  "kernelspec": {
   "display_name": "Python 3",
   "language": "python",
   "name": "python3"
  },
  "language_info": {
   "codemirror_mode": {
    "name": "ipython",
    "version": 3
   },
   "file_extension": ".py",
   "mimetype": "text/x-python",
   "name": "python",
   "nbconvert_exporter": "python",
   "pygments_lexer": "ipython3",
   "version": "3.8.5"
  }
 },
 "nbformat": 4,
 "nbformat_minor": 5
}
