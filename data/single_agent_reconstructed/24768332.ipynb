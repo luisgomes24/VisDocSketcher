{
 "cells": [
  {
   "cell_type": "markdown",
   "id": "6c325766",
   "metadata": {},
   "source": [
    "Load the dataset from a CSV file using pandas."
   ]
  },
  {
   "cell_type": "code",
   "execution_count": null,
   "id": "79584fcd",
   "metadata": {},
   "outputs": [],
   "source": [
    "import pandas as pd\n",
    "\n",
    "data = pd.read_csv('data.csv')"
   ]
  },
  {
   "cell_type": "markdown",
   "id": "f319b784",
   "metadata": {},
   "source": [
    "Display the first few rows of the dataset to get an overview."
   ]
  },
  {
   "cell_type": "code",
   "execution_count": null,
   "id": "64698939",
   "metadata": {},
   "outputs": [],
   "source": [
    "print(data.head())"
   ]
  },
  {
   "cell_type": "markdown",
   "id": "30b12652",
   "metadata": {},
   "source": [
    "Visualize the data using pair plots to understand relationships."
   ]
  },
  {
   "cell_type": "code",
   "execution_count": null,
   "id": "bb1e068a",
   "metadata": {},
   "outputs": [],
   "source": [
    "import matplotlib.pyplot as plt\n",
    "import seaborn as sns\n",
    "sns.pairplot(data)\n",
    "plt.show()"
   ]
  },
  {
   "cell_type": "markdown",
   "id": "44406143",
   "metadata": {},
   "source": [
    "Create a correlation heatmap to analyze variable correlations."
   ]
  },
  {
   "cell_type": "code",
   "execution_count": null,
   "id": "0cbf794e",
   "metadata": {},
   "outputs": [],
   "source": [
    "plt.figure(figsize=(10, 8))\n",
    "sns.heatmap(data.corr(), annot=True, cmap='coolwarm')\n",
    "plt.show()"
   ]
  },
  {
   "cell_type": "markdown",
   "id": "dd61872b",
   "metadata": {},
   "source": [
    "Preprocess the data by handling missing values and encoding categorical features."
   ]
  },
  {
   "cell_type": "code",
   "execution_count": null,
   "id": "be35cfc3",
   "metadata": {},
   "outputs": [],
   "source": [
    "# Example preprocessing steps: remove nulls, encode categories\n",
    "from sklearn.preprocessing import OneHotEncoder\n",
    "data.fillna(data.mean(), inplace=True)\n",
    "encoder = OneHotEncoder()\n",
    "data_encoded = encoder.fit_transform(data.select_dtypes(include='object'))"
   ]
  },
  {
   "cell_type": "markdown",
   "id": "83bdccbe",
   "metadata": {},
   "source": [
    "Split the data into training and testing sets."
   ]
  },
  {
   "cell_type": "code",
   "execution_count": null,
   "id": "604efbd2",
   "metadata": {},
   "outputs": [],
   "source": [
    "from sklearn.model_selection import train_test_split\n",
    "X = data_encoded\n",
    "y = data['target']\n",
    "X_train, X_test, y_train, y_test = train_test_split(X, y, test_size=0.2, random_state=42)"
   ]
  },
  {
   "cell_type": "markdown",
   "id": "f35e5a20",
   "metadata": {},
   "source": [
    "Scale the features to standardize the data."
   ]
  },
  {
   "cell_type": "code",
   "execution_count": null,
   "id": "de418c69",
   "metadata": {},
   "outputs": [],
   "source": [
    "from sklearn.preprocessing import StandardScaler\n",
    "scaler = StandardScaler()\n",
    "X_train_scaled = scaler.fit_transform(X_train)\n",
    "X_test_scaled = scaler.transform(X_test)"
   ]
  },
  {
   "cell_type": "markdown",
   "id": "a270653c",
   "metadata": {},
   "source": [
    "Train a logistic regression model on the scaled training data."
   ]
  },
  {
   "cell_type": "code",
   "execution_count": null,
   "id": "593dee6b",
   "metadata": {},
   "outputs": [],
   "source": [
    "from sklearn.linear_model import LogisticRegression\n",
    "model_lr = LogisticRegression()\n",
    "model_lr.fit(X_train_scaled, y_train)"
   ]
  },
  {
   "cell_type": "markdown",
   "id": "603591ac",
   "metadata": {},
   "source": [
    "Evaluate the accuracy of the logistic regression model."
   ]
  },
  {
   "cell_type": "code",
   "execution_count": null,
   "id": "6ec0dba4",
   "metadata": {},
   "outputs": [],
   "source": [
    "accuracy_lr = model_lr.score(X_test_scaled, y_test)\n",
    "print('Logistic Regression Accuracy:', accuracy_lr)"
   ]
  },
  {
   "cell_type": "markdown",
   "id": "ef1f8283",
   "metadata": {},
   "source": [
    "Generate a classification report for the logistic regression model."
   ]
  },
  {
   "cell_type": "code",
   "execution_count": null,
   "id": "2932b089",
   "metadata": {},
   "outputs": [],
   "source": [
    "from sklearn.metrics import classification_report\n",
    "y_pred_lr = model_lr.predict(X_test_scaled)\n",
    "print(classification_report(y_test, y_pred_lr))"
   ]
  },
  {
   "cell_type": "markdown",
   "id": "e0e77277",
   "metadata": {},
   "source": [
    "Train a voting classifier with logistic regression as an estimator."
   ]
  },
  {
   "cell_type": "code",
   "execution_count": null,
   "id": "7921aedc",
   "metadata": {},
   "outputs": [],
   "source": [
    "from sklearn.ensemble import VotingClassifier\n",
    "model_vc = VotingClassifier(estimators=[('lr', model_lr)], voting='hard')\n",
    "model_vc.fit(X_train_scaled, y_train)"
   ]
  },
  {
   "cell_type": "markdown",
   "id": "17907747",
   "metadata": {},
   "source": [
    "Evaluate the accuracy of the voting classifier model."
   ]
  },
  {
   "cell_type": "code",
   "execution_count": null,
   "id": "d62f96a4",
   "metadata": {},
   "outputs": [],
   "source": [
    "accuracy_vc = model_vc.score(X_test_scaled, y_test)\n",
    "print('Voting Classifier Accuracy:', accuracy_vc)"
   ]
  },
  {
   "cell_type": "markdown",
   "id": "65f74c2b",
   "metadata": {},
   "source": [
    "Generate a classification report for the voting classifier model."
   ]
  },
  {
   "cell_type": "code",
   "execution_count": null,
   "id": "8e6f2a53",
   "metadata": {},
   "outputs": [],
   "source": [
    "y_pred_vc = model_vc.predict(X_test_scaled)\n",
    "print(classification_report(y_test, y_pred_vc))"
   ]
  }
 ],
 "metadata": {
  "kernelspec": {
   "display_name": "Python 3",
   "language": "python",
   "name": "python3"
  },
  "language_info": {
   "codemirror_mode": {
    "name": "ipython",
    "version": 3
   },
   "file_extension": ".py",
   "mimetype": "text/x-python",
   "name": "python",
   "nbconvert_exporter": "python",
   "pygments_lexer": "ipython3",
   "version": "3.8.5"
  }
 },
 "nbformat": 4,
 "nbformat_minor": 5
}
