{
 "cells": [
  {
   "cell_type": "markdown",
   "id": "d8ee7e8c",
   "metadata": {},
   "source": [
    "Load the data from CSV files into pandas DataFrames."
   ]
  },
  {
   "cell_type": "code",
   "execution_count": null,
   "id": "1556e51f",
   "metadata": {},
   "outputs": [],
   "source": [
    "import pandas as pd\n",
    "\n",
    "sars_data = pd.read_csv('/kaggle/input/SARS.csv')\n",
    "sarsflu_data = pd.read_csv('/kaggle/input/SARSFLU.csv')"
   ]
  },
  {
   "cell_type": "markdown",
   "id": "e6376ab3",
   "metadata": {},
   "source": [
    "Display the first few rows of the SARS DataFrame."
   ]
  },
  {
   "cell_type": "code",
   "execution_count": null,
   "id": "6ed4bca3",
   "metadata": {},
   "outputs": [],
   "source": [
    "print(sars_data.head())"
   ]
  },
  {
   "cell_type": "markdown",
   "id": "229367ce",
   "metadata": {},
   "source": [
    "Plot the distribution of the data in the SARS DataFrame."
   ]
  },
  {
   "cell_type": "code",
   "execution_count": null,
   "id": "2f20479a",
   "metadata": {},
   "outputs": [],
   "source": [
    "import matplotlib.pyplot as plt\n",
    "import seaborn as sns\n",
    "\n",
    "sns.histplot(sars_data, kde=True)\n",
    "plt.show()"
   ]
  },
  {
   "cell_type": "markdown",
   "id": "f30328a8",
   "metadata": {},
   "source": [
    "Plot the correlation matrix for the SARS DataFrame."
   ]
  },
  {
   "cell_type": "code",
   "execution_count": null,
   "id": "c9e2c167",
   "metadata": {},
   "outputs": [],
   "source": [
    "correlation_matrix = sars_data.corr()\n",
    "sns.heatmap(correlation_matrix, annot=True)\n",
    "plt.show()"
   ]
  },
  {
   "cell_type": "markdown",
   "id": "18d24b1d",
   "metadata": {},
   "source": [
    "Plot the scatter matrix for the SARS DataFrame."
   ]
  },
  {
   "cell_type": "code",
   "execution_count": null,
   "id": "8e114b19",
   "metadata": {},
   "outputs": [],
   "source": [
    "from pandas.plotting import scatter_matrix\n",
    "scatter_matrix(sars_data, alpha=0.2, figsize=(10, 10), diagonal='kde')\n",
    "plt.show()"
   ]
  },
  {
   "cell_type": "markdown",
   "id": "a2a811e7",
   "metadata": {},
   "source": [
    "Display the first few rows of the SARSFLU DataFrame."
   ]
  },
  {
   "cell_type": "code",
   "execution_count": null,
   "id": "be736d4b",
   "metadata": {},
   "outputs": [],
   "source": [
    "print(sarsflu_data.head())"
   ]
  },
  {
   "cell_type": "markdown",
   "id": "7d247930",
   "metadata": {},
   "source": [
    "Plot the distribution of the data in the SARSFLU DataFrame."
   ]
  },
  {
   "cell_type": "code",
   "execution_count": null,
   "id": "0fe16480",
   "metadata": {},
   "outputs": [],
   "source": [
    "sns.histplot(sarsflu_data, kde=True)\n",
    "plt.show()"
   ]
  },
  {
   "cell_type": "markdown",
   "id": "cbe88d25",
   "metadata": {},
   "source": [
    "Plot the correlation matrix for the SARSFLU DataFrame."
   ]
  },
  {
   "cell_type": "code",
   "execution_count": null,
   "id": "196fdd78",
   "metadata": {},
   "outputs": [],
   "source": [
    "correlation_matrix = sarsflu_data.corr()\n",
    "sns.heatmap(correlation_matrix, annot=True)\n",
    "plt.show()"
   ]
  },
  {
   "cell_type": "markdown",
   "id": "4dbabebc",
   "metadata": {},
   "source": [
    "Plot the scatter matrix for the SARSFLU DataFrame."
   ]
  },
  {
   "cell_type": "code",
   "execution_count": null,
   "id": "7e477c10",
   "metadata": {},
   "outputs": [],
   "source": [
    "scatter_matrix(sarsflu_data, alpha=0.2, figsize=(10, 10), diagonal='kde')\n",
    "plt.show()"
   ]
  }
 ],
 "metadata": {
  "kernelspec": {
   "display_name": "Python 3",
   "language": "python",
   "name": "python3"
  },
  "language_info": {
   "codemirror_mode": {
    "name": "ipython",
    "version": 3
   },
   "file_extension": ".py",
   "mimetype": "text/x-python",
   "name": "python",
   "nbconvert_exporter": "python",
   "pygments_lexer": "ipython3",
   "version": "3.8.5"
  }
 },
 "nbformat": 4,
 "nbformat_minor": 5
}
