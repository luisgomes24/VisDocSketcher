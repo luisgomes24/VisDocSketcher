{
 "cells": [
  {
   "cell_type": "markdown",
   "id": "0e9194c6",
   "metadata": {},
   "source": [
    "Load the training and test datasets from CSV files."
   ]
  },
  {
   "cell_type": "code",
   "execution_count": null,
   "id": "ee229548",
   "metadata": {},
   "outputs": [],
   "source": [
    "import pandas as pd\n",
    "train_data = pd.read_csv('train.csv')\n",
    "test_data = pd.read_csv('test.csv')"
   ]
  },
  {
   "cell_type": "markdown",
   "id": "50b021f8",
   "metadata": {},
   "source": [
    "Display the first few rows of the training data to understand its structure."
   ]
  },
  {
   "cell_type": "code",
   "execution_count": null,
   "id": "cdd58a0c",
   "metadata": {},
   "outputs": [],
   "source": [
    "train_data.head()"
   ]
  },
  {
   "cell_type": "markdown",
   "id": "82b889dc",
   "metadata": {},
   "source": [
    "Check for null values in the training data."
   ]
  },
  {
   "cell_type": "code",
   "execution_count": null,
   "id": "3db56967",
   "metadata": {},
   "outputs": [],
   "source": [
    "null_values = train_data.isnull().sum()"
   ]
  },
  {
   "cell_type": "markdown",
   "id": "d5c237df",
   "metadata": {},
   "source": [
    "Clean the data by removing any rows with null values."
   ]
  },
  {
   "cell_type": "code",
   "execution_count": null,
   "id": "a9f893a7",
   "metadata": {},
   "outputs": [],
   "source": [
    "train_data = train_data.dropna()"
   ]
  },
  {
   "cell_type": "markdown",
   "id": "f4e9d4e1",
   "metadata": {},
   "source": [
    "Use Isolation Forest for anomaly detection in the training data."
   ]
  },
  {
   "cell_type": "code",
   "execution_count": null,
   "id": "9f13a99e",
   "metadata": {},
   "outputs": [],
   "source": [
    "from sklearn.ensemble import IsolationForest\n",
    "model = IsolationForest()\n",
    "model.fit(train_data)"
   ]
  },
  {
   "cell_type": "markdown",
   "id": "d8287a2d",
   "metadata": {},
   "source": [
    "Perform feature engineering on the cleaned training data."
   ]
  },
  {
   "cell_type": "code",
   "execution_count": null,
   "id": "d2717b90",
   "metadata": {},
   "outputs": [],
   "source": [
    "features = feature_engineering(train_data)"
   ]
  },
  {
   "cell_type": "markdown",
   "id": "3ca818c1",
   "metadata": {},
   "source": [
    "Split the processed data into training and testing sets."
   ]
  },
  {
   "cell_type": "code",
   "execution_count": null,
   "id": "60120173",
   "metadata": {},
   "outputs": [],
   "source": [
    "from sklearn.model_selection import train_test_split\n",
    "X_train, X_test, y_train, y_test = train_test_split(features, target, test_size=0.2)"
   ]
  },
  {
   "cell_type": "markdown",
   "id": "31d2b99e",
   "metadata": {},
   "source": [
    "Train a Random Forest model on the training data."
   ]
  },
  {
   "cell_type": "code",
   "execution_count": null,
   "id": "c34ad2e4",
   "metadata": {},
   "outputs": [],
   "source": [
    "from sklearn.ensemble import RandomForestClassifier\n",
    "rf_model = RandomForestClassifier()\n",
    "rf_model.fit(X_train, y_train)"
   ]
  },
  {
   "cell_type": "markdown",
   "id": "22a23522",
   "metadata": {},
   "source": [
    "Generate predictions using the Random Forest model on the test set."
   ]
  },
  {
   "cell_type": "code",
   "execution_count": null,
   "id": "229fe2bc",
   "metadata": {},
   "outputs": [],
   "source": [
    "rf_predictions = rf_model.predict(X_test)"
   ]
  },
  {
   "cell_type": "markdown",
   "id": "b0777785",
   "metadata": {},
   "source": [
    "Save the predictions of the Random Forest model to a CSV file."
   ]
  },
  {
   "cell_type": "code",
   "execution_count": null,
   "id": "4b13b4bb",
   "metadata": {},
   "outputs": [],
   "source": [
    "pd.DataFrame({'Id': test_data['Id'], 'Predictions': rf_predictions}).to_csv('submission_rf.csv', index=False)"
   ]
  },
  {
   "cell_type": "markdown",
   "id": "5055364c",
   "metadata": {},
   "source": [
    "Train an XGBoost model on the same training data."
   ]
  },
  {
   "cell_type": "code",
   "execution_count": null,
   "id": "39348095",
   "metadata": {},
   "outputs": [],
   "source": [
    "from xgboost import XGBClassifier\n",
    "xg_model = XGBClassifier()\n",
    "xg_model.fit(X_train, y_train)"
   ]
  },
  {
   "cell_type": "markdown",
   "id": "d4925412",
   "metadata": {},
   "source": [
    "Generate predictions using the XGBoost model on the test set."
   ]
  },
  {
   "cell_type": "code",
   "execution_count": null,
   "id": "20aae2b5",
   "metadata": {},
   "outputs": [],
   "source": [
    "xg_predictions = xg_model.predict(X_test)"
   ]
  },
  {
   "cell_type": "markdown",
   "id": "6983db47",
   "metadata": {},
   "source": [
    "Save the predictions of the XGBoost model to a CSV file."
   ]
  },
  {
   "cell_type": "code",
   "execution_count": null,
   "id": "3f0303fa",
   "metadata": {},
   "outputs": [],
   "source": [
    "pd.DataFrame({'Id': test_data['Id'], 'Predictions': xg_predictions}).to_csv('submission_xg.csv', index=False)"
   ]
  }
 ],
 "metadata": {
  "kernelspec": {
   "display_name": "Python 3",
   "language": "python",
   "name": "python3"
  },
  "language_info": {
   "codemirror_mode": {
    "name": "ipython",
    "version": 3
   },
   "file_extension": ".py",
   "mimetype": "text/x-python",
   "name": "python",
   "nbconvert_exporter": "python",
   "pygments_lexer": "ipython3",
   "version": "3.8.5"
  }
 },
 "nbformat": 4,
 "nbformat_minor": 5
}
