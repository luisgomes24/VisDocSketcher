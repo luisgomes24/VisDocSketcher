{
 "cells": [
  {
   "cell_type": "markdown",
   "id": "648221a3",
   "metadata": {},
   "source": [
    "Load data from a CSV file into a DataFrame."
   ]
  },
  {
   "cell_type": "code",
   "execution_count": null,
   "id": "07beef0d",
   "metadata": {},
   "outputs": [],
   "source": [
    "import pandas as pd\n",
    "data = pd.read_csv('data.csv')"
   ]
  },
  {
   "cell_type": "markdown",
   "id": "1524b2f0",
   "metadata": {},
   "source": [
    "Perform exploratory data analysis by summarizing the dataset."
   ]
  },
  {
   "cell_type": "code",
   "execution_count": null,
   "id": "f8160704",
   "metadata": {},
   "outputs": [],
   "source": [
    "data.describe()\n",
    "data.info()"
   ]
  },
  {
   "cell_type": "markdown",
   "id": "5abb76a4",
   "metadata": {},
   "source": [
    "Clean the data by removing any rows with missing values."
   ]
  },
  {
   "cell_type": "code",
   "execution_count": null,
   "id": "f9663d88",
   "metadata": {},
   "outputs": [],
   "source": [
    "data.dropna(inplace=True)"
   ]
  },
  {
   "cell_type": "markdown",
   "id": "fccc6dfd",
   "metadata": {},
   "source": [
    "Calculate the average score for each setup."
   ]
  },
  {
   "cell_type": "code",
   "execution_count": null,
   "id": "491c80c3",
   "metadata": {},
   "outputs": [],
   "source": [
    "average_score = data.groupby('setup')['score'].mean()"
   ]
  },
  {
   "cell_type": "markdown",
   "id": "73035c3f",
   "metadata": {},
   "source": [
    "Determine the average length of the setup."
   ]
  },
  {
   "cell_type": "code",
   "execution_count": null,
   "id": "1c5b78ac",
   "metadata": {},
   "outputs": [],
   "source": [
    "average_length = data['setup'].apply(len).mean()"
   ]
  },
  {
   "cell_type": "markdown",
   "id": "7ad7f0e4",
   "metadata": {},
   "source": [
    "Analyze the length of the punchline by calculating its length."
   ]
  },
  {
   "cell_type": "code",
   "execution_count": null,
   "id": "aa32dbdf",
   "metadata": {},
   "outputs": [],
   "source": [
    "data['punchtime_length'] = data['punchtime'].apply(len)"
   ]
  }
 ],
 "metadata": {
  "kernelspec": {
   "display_name": "Python 3",
   "language": "python",
   "name": "python3"
  },
  "language_info": {
   "codemirror_mode": {
    "name": "ipython",
    "version": 3
   },
   "file_extension": ".py",
   "mimetype": "text/x-python",
   "name": "python",
   "nbconvert_exporter": "python",
   "pygments_lexer": "ipython3",
   "version": "3.8.5"
  }
 },
 "nbformat": 4,
 "nbformat_minor": 5
}
