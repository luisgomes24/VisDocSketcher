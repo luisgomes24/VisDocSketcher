{
 "cells": [
  {
   "cell_type": "markdown",
   "id": "3267aea4",
   "metadata": {},
   "source": [
    "Load the dataset from a CSV file."
   ]
  },
  {
   "cell_type": "code",
   "execution_count": null,
   "id": "7b757bb5",
   "metadata": {},
   "outputs": [],
   "source": [
    "import pandas as pd\n",
    "df = pd.read_csv('data.csv')"
   ]
  },
  {
   "cell_type": "markdown",
   "id": "66d4c8eb",
   "metadata": {},
   "source": [
    "Get an overview of the dataset including data types and non-null counts."
   ]
  },
  {
   "cell_type": "code",
   "execution_count": null,
   "id": "ef4e1fdf",
   "metadata": {},
   "outputs": [],
   "source": [
    "df.info()"
   ]
  },
  {
   "cell_type": "markdown",
   "id": "08624d1a",
   "metadata": {},
   "source": [
    "Preprocess the data by standardizing it."
   ]
  },
  {
   "cell_type": "code",
   "execution_count": null,
   "id": "33e9b191",
   "metadata": {},
   "outputs": [],
   "source": [
    "from sklearn.preprocessing import StandardScaler\n",
    "scaler = StandardScaler()\n",
    "df_scaled = scaler.fit_transform(df)"
   ]
  },
  {
   "cell_type": "markdown",
   "id": "f3f51498",
   "metadata": {},
   "source": [
    "Visualize the correlation matrix using a heatmap."
   ]
  },
  {
   "cell_type": "code",
   "execution_count": null,
   "id": "3538d49b",
   "metadata": {},
   "outputs": [],
   "source": [
    "import seaborn as sns\n",
    "import matplotlib.pyplot as plt\n",
    "correlation = df.corr()\n",
    "sns.heatmap(correlation, annot=True)\n",
    "plt.show()"
   ]
  },
  {
   "cell_type": "markdown",
   "id": "ee94c741",
   "metadata": {},
   "source": [
    "Select the best features based on ANOVA F-value."
   ]
  },
  {
   "cell_type": "code",
   "execution_count": null,
   "id": "e576ad62",
   "metadata": {},
   "outputs": [],
   "source": [
    "from sklearn.feature_selection import SelectKBest, f_classif\n",
    "selected_features = SelectKBest(score_func=f_classif, k='all').fit(df_scaled, target)"
   ]
  },
  {
   "cell_type": "markdown",
   "id": "7a4e5386",
   "metadata": {},
   "source": [
    "Perform PCA analysis to reduce dimensionality."
   ]
  },
  {
   "cell_type": "code",
   "execution_count": null,
   "id": "9f7fb61d",
   "metadata": {},
   "outputs": [],
   "source": [
    "from sklearn.decomposition import PCA\n",
    "pca = PCA()\n",
    "pca.fit(df_scaled)\n",
    "explained_variance = pca.explained_variance_ratio_"
   ]
  },
  {
   "cell_type": "markdown",
   "id": "92fbe7c6",
   "metadata": {},
   "source": [
    "Plot the explained variance of each PCA component."
   ]
  },
  {
   "cell_type": "code",
   "execution_count": null,
   "id": "df412bd2",
   "metadata": {},
   "outputs": [],
   "source": [
    "plt.plot(range(1, len(explained_variance) + 1), explained_variance, marker='o')\n",
    "plt.title('PCA Explained Variance')\n",
    "plt.xlabel('Principal Component')\n",
    "plt.ylabel('Variance Explained')\n",
    "plt.show()"
   ]
  },
  {
   "cell_type": "markdown",
   "id": "5ef686ee",
   "metadata": {},
   "source": [
    "Create a scatter plot of the first two PCA components."
   ]
  },
  {
   "cell_type": "code",
   "execution_count": null,
   "id": "30564ae6",
   "metadata": {},
   "outputs": [],
   "source": [
    "pca_result = pca.transform(df_scaled)\n",
    "plt.scatter(pca_result[:, 0], pca_result[:, 1])\n",
    "plt.title('PCA Scatter Plot')\n",
    "plt.xlabel('PC1')\n",
    "plt.ylabel('PC2')\n",
    "plt.show()"
   ]
  },
  {
   "cell_type": "markdown",
   "id": "0f431355",
   "metadata": {},
   "source": [
    "Split the data into training and testing sets for model training."
   ]
  },
  {
   "cell_type": "code",
   "execution_count": null,
   "id": "8d6b6a29",
   "metadata": {},
   "outputs": [],
   "source": [
    "from sklearn.model_selection import train_test_split\n",
    "X_train, X_test, y_train, y_test = train_test_split(pca_result, target, test_size=0.2)"
   ]
  },
  {
   "cell_type": "markdown",
   "id": "546f07cd",
   "metadata": {},
   "source": [
    "Train a model using Logistic Regression."
   ]
  },
  {
   "cell_type": "code",
   "execution_count": null,
   "id": "885a30fd",
   "metadata": {},
   "outputs": [],
   "source": [
    "from sklearn.linear_model import LogisticRegression\n",
    "model = LogisticRegression()\n",
    "model.fit(X_train, y_train)"
   ]
  },
  {
   "cell_type": "markdown",
   "id": "b7cbe19c",
   "metadata": {},
   "source": [
    "Evaluate the model's accuracy on the test set."
   ]
  },
  {
   "cell_type": "code",
   "execution_count": null,
   "id": "8bdd1617",
   "metadata": {},
   "outputs": [],
   "source": [
    "from sklearn.metrics import accuracy_score\n",
    "y_pred = model.predict(X_test)\n",
    "accuracy = accuracy_score(y_test, y_pred)"
   ]
  },
  {
   "cell_type": "markdown",
   "id": "065cd9ba",
   "metadata": {},
   "source": [
    "Visualize the results of the model's predictions."
   ]
  },
  {
   "cell_type": "code",
   "execution_count": null,
   "id": "b3257e8b",
   "metadata": {},
   "outputs": [],
   "source": [
    "plt.scatter(X_test[:, 0], X_test[:, 1], c=y_pred, cmap='viridis')\n",
    "plt.title('Result Visualization')\n",
    "plt.xlabel('PC1')\n",
    "plt.ylabel('PC2')\n",
    "plt.show()"
   ]
  },
  {
   "cell_type": "markdown",
   "id": "e6efe611",
   "metadata": {},
   "source": [
    "Generate a submission file containing the predictions."
   ]
  },
  {
   "cell_type": "code",
   "execution_count": null,
   "id": "87ad31f7",
   "metadata": {},
   "outputs": [],
   "source": [
    "output = pd.DataFrame({'Predictions': y_pred})\n",
    "output.to_csv('submission.csv', index=False)"
   ]
  }
 ],
 "metadata": {
  "kernelspec": {
   "display_name": "Python 3",
   "language": "python",
   "name": "python3"
  },
  "language_info": {
   "codemirror_mode": {
    "name": "ipython",
    "version": 3
   },
   "file_extension": ".py",
   "mimetype": "text/x-python",
   "name": "python",
   "nbconvert_exporter": "python",
   "pygments_lexer": "ipython3",
   "version": "3.8.5"
  }
 },
 "nbformat": 4,
 "nbformat_minor": 5
}
