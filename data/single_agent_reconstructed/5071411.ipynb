{
 "cells": [
  {
   "cell_type": "markdown",
   "id": "85ced554",
   "metadata": {},
   "source": [
    "Load the dataset from a CSV file using pandas."
   ]
  },
  {
   "cell_type": "code",
   "execution_count": null,
   "id": "7e26079a",
   "metadata": {},
   "outputs": [],
   "source": [
    "import pandas as pd\n",
    "data = pd.read_csv('data.csv')"
   ]
  },
  {
   "cell_type": "markdown",
   "id": "378993ca",
   "metadata": {},
   "source": [
    "Preview the first few rows of the dataset."
   ]
  },
  {
   "cell_type": "code",
   "execution_count": null,
   "id": "8063c493",
   "metadata": {},
   "outputs": [],
   "source": [
    "print(data.head())"
   ]
  },
  {
   "cell_type": "markdown",
   "id": "14bfce3c",
   "metadata": {},
   "source": [
    "Create distribution graphs for a specific column."
   ]
  },
  {
   "cell_type": "code",
   "execution_count": null,
   "id": "e37a4aa5",
   "metadata": {},
   "outputs": [],
   "source": [
    "import seaborn as sns\n",
    "sns.histplot(data['column_name'])"
   ]
  },
  {
   "cell_type": "markdown",
   "id": "97abad9d",
   "metadata": {},
   "source": [
    "Calculate and display the correlation matrix of the dataset."
   ]
  },
  {
   "cell_type": "code",
   "execution_count": null,
   "id": "e9a3f503",
   "metadata": {},
   "outputs": [],
   "source": [
    "correlation_matrix = data.corr()\n",
    "print(correlation_matrix)"
   ]
  },
  {
   "cell_type": "markdown",
   "id": "23300439",
   "metadata": {},
   "source": [
    "Generate scatter plots for specified columns."
   ]
  },
  {
   "cell_type": "code",
   "execution_count": null,
   "id": "7d655f0e",
   "metadata": {},
   "outputs": [],
   "source": [
    "sns.scatterplot(x='column_x', y='column_y', data=data)"
   ]
  },
  {
   "cell_type": "markdown",
   "id": "51d8c047",
   "metadata": {},
   "source": [
    "Create density plots for a specific column."
   ]
  },
  {
   "cell_type": "code",
   "execution_count": null,
   "id": "82944d1a",
   "metadata": {},
   "outputs": [],
   "source": [
    "sns.kdeplot(data['column_name'])"
   ]
  }
 ],
 "metadata": {
  "kernelspec": {
   "display_name": "Python 3",
   "language": "python",
   "name": "python3"
  },
  "language_info": {
   "codemirror_mode": {
    "name": "ipython",
    "version": 3
   },
   "file_extension": ".py",
   "mimetype": "text/x-python",
   "name": "python",
   "nbconvert_exporter": "python",
   "pygments_lexer": "ipython3",
   "version": "3.8.5"
  }
 },
 "nbformat": 4,
 "nbformat_minor": 5
}
