{
 "cells": [
  {
   "cell_type": "markdown",
   "id": "bef5448d",
   "metadata": {},
   "source": [
    "Load the dataset from a CSV file."
   ]
  },
  {
   "cell_type": "code",
   "execution_count": null,
   "id": "68dc7cf6",
   "metadata": {},
   "outputs": [],
   "source": [
    "import pandas as pd\n",
    "\n",
    "data = pd.read_csv('data.csv')"
   ]
  },
  {
   "cell_type": "markdown",
   "id": "aa143187",
   "metadata": {},
   "source": [
    "Get a summary of the data, including the number of non-null entries."
   ]
  },
  {
   "cell_type": "code",
   "execution_count": null,
   "id": "7999eb08",
   "metadata": {},
   "outputs": [],
   "source": [
    "print(data.info())"
   ]
  },
  {
   "cell_type": "markdown",
   "id": "0f3c38be",
   "metadata": {},
   "source": [
    "Visualize outliers in the dataset using a boxplot."
   ]
  },
  {
   "cell_type": "code",
   "execution_count": null,
   "id": "ea17c3e5",
   "metadata": {},
   "outputs": [],
   "source": [
    "import seaborn as sns\n",
    "import matplotlib.pyplot as plt\n",
    "\n",
    "sns.boxplot(data=data)\n",
    "plt.show()"
   ]
  },
  {
   "cell_type": "markdown",
   "id": "e9927e81",
   "metadata": {},
   "source": [
    "Create histograms to analyze the distribution of individual variables."
   ]
  },
  {
   "cell_type": "code",
   "execution_count": null,
   "id": "849b4f80",
   "metadata": {},
   "outputs": [],
   "source": [
    "plt.hist(data['column_name'], bins=30)\n",
    "plt.show()"
   ]
  },
  {
   "cell_type": "markdown",
   "id": "4f9df5e5",
   "metadata": {},
   "source": [
    "Create boxplots for univariate analysis."
   ]
  },
  {
   "cell_type": "code",
   "execution_count": null,
   "id": "64bcfe95",
   "metadata": {},
   "outputs": [],
   "source": [
    "sns.boxplot(x='column_name', y='target_variable', data=data)\n",
    "plt.show()"
   ]
  },
  {
   "cell_type": "markdown",
   "id": "4f467518",
   "metadata": {},
   "source": [
    "Conduct bivariate analysis with scatter plots."
   ]
  },
  {
   "cell_type": "code",
   "execution_count": null,
   "id": "90a53e54",
   "metadata": {},
   "outputs": [],
   "source": [
    "sns.scatterplot(x='column1', y='column2', data=data)\n",
    "plt.show()"
   ]
  },
  {
   "cell_type": "markdown",
   "id": "eaf41c2f",
   "metadata": {},
   "source": [
    "Display a correlation heatmap to analyze relationships between variables."
   ]
  },
  {
   "cell_type": "code",
   "execution_count": null,
   "id": "f75c119b",
   "metadata": {},
   "outputs": [],
   "source": [
    "sns.heatmap(data.corr(), annot=True)\n",
    "plt.show()"
   ]
  },
  {
   "cell_type": "markdown",
   "id": "e62bb2bd",
   "metadata": {},
   "source": [
    "Split the dataset into training and testing sets."
   ]
  },
  {
   "cell_type": "code",
   "execution_count": null,
   "id": "42d4df8d",
   "metadata": {},
   "outputs": [],
   "source": [
    "from sklearn.model_selection import train_test_split\n",
    "X = data.drop('target', axis=1)\n",
    "y = data['target']\n",
    "X_train, X_test, y_train, y_test = train_test_split(X, y, test_size=0.2)"
   ]
  },
  {
   "cell_type": "markdown",
   "id": "11375129",
   "metadata": {},
   "source": [
    "Fit a linear regression model to the training data."
   ]
  },
  {
   "cell_type": "code",
   "execution_count": null,
   "id": "c8dc9090",
   "metadata": {},
   "outputs": [],
   "source": [
    "from sklearn.linear_model import LinearRegression\n",
    "model = LinearRegression()\n",
    "model.fit(X_train, y_train)"
   ]
  },
  {
   "cell_type": "markdown",
   "id": "2cfa53e4",
   "metadata": {},
   "source": [
    "Evaluate the model's performance using Mean Squared Error."
   ]
  },
  {
   "cell_type": "code",
   "execution_count": null,
   "id": "c56cf706",
   "metadata": {},
   "outputs": [],
   "source": [
    "from sklearn.metrics import mean_squared_error\n",
    "predictions = model.predict(X_test)\n",
    "mse = mean_squared_error(y_test, predictions)"
   ]
  },
  {
   "cell_type": "markdown",
   "id": "b27acc0c",
   "metadata": {},
   "source": [
    "Output the calculated performance metrics."
   ]
  },
  {
   "cell_type": "code",
   "execution_count": null,
   "id": "42a3ca30",
   "metadata": {},
   "outputs": [],
   "source": [
    "print('Performance Metrics:', mse)"
   ]
  }
 ],
 "metadata": {
  "kernelspec": {
   "display_name": "Python 3",
   "language": "python",
   "name": "python3"
  },
  "language_info": {
   "codemirror_mode": {
    "name": "ipython",
    "version": 3
   },
   "file_extension": ".py",
   "mimetype": "text/x-python",
   "name": "python",
   "nbconvert_exporter": "python",
   "pygments_lexer": "ipython3",
   "version": "3.8.5"
  }
 },
 "nbformat": 4,
 "nbformat_minor": 5
}
