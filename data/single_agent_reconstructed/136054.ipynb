{
 "cells": [
  {
   "cell_type": "markdown",
   "id": "f2e9074b",
   "metadata": {},
   "source": [
    "Load training and test data from CSV files."
   ]
  },
  {
   "cell_type": "code",
   "execution_count": null,
   "id": "2e6e2e50",
   "metadata": {},
   "outputs": [],
   "source": [
    "import pandas as pd\n",
    "df_train = pd.read_csv('train.csv')\n",
    "df_test = pd.read_csv('test.csv')"
   ]
  },
  {
   "cell_type": "markdown",
   "id": "7f6a36df",
   "metadata": {},
   "source": [
    "Display the first few rows and information about the training dataset."
   ]
  },
  {
   "cell_type": "code",
   "execution_count": null,
   "id": "55f2d50a",
   "metadata": {},
   "outputs": [],
   "source": [
    "print(df_train.head())\n",
    "print(df_train.info())"
   ]
  },
  {
   "cell_type": "markdown",
   "id": "5d117af3",
   "metadata": {},
   "source": [
    "Handle missing values by dropping rows with any missing data."
   ]
  },
  {
   "cell_type": "code",
   "execution_count": null,
   "id": "935d289e",
   "metadata": {},
   "outputs": [],
   "source": [
    "df_train = df_train.dropna()"
   ]
  },
  {
   "cell_type": "markdown",
   "id": "c51d47cc",
   "metadata": {},
   "source": [
    "Visualize the count of survived vs not survived."
   ]
  },
  {
   "cell_type": "code",
   "execution_count": null,
   "id": "5a9ca444",
   "metadata": {},
   "outputs": [],
   "source": [
    "import seaborn as sns\n",
    "import matplotlib.pyplot as plt\n",
    "sns.countplot(x='Survived', data=df_train)\n",
    "plt.show()"
   ]
  },
  {
   "cell_type": "markdown",
   "id": "617d3d3b",
   "metadata": {},
   "source": [
    "Visualize the distribution of fares."
   ]
  },
  {
   "cell_type": "code",
   "execution_count": null,
   "id": "36320384",
   "metadata": {},
   "outputs": [],
   "source": [
    "sns.histplot(df_train['Fare'], bins=30)\n",
    "plt.show()"
   ]
  },
  {
   "cell_type": "markdown",
   "id": "b2e2c58f",
   "metadata": {},
   "source": [
    "Visualize the age distribution of passengers."
   ]
  },
  {
   "cell_type": "code",
   "execution_count": null,
   "id": "8802e209",
   "metadata": {},
   "outputs": [],
   "source": [
    "sns.histplot(df_train['Age'], bins=30)\n",
    "plt.show()"
   ]
  },
  {
   "cell_type": "markdown",
   "id": "2f0b7d09",
   "metadata": {},
   "source": [
    "Prepare features (X) and target variable (y) for the model."
   ]
  },
  {
   "cell_type": "code",
   "execution_count": null,
   "id": "ba0ff043",
   "metadata": {},
   "outputs": [],
   "source": [
    "X = df_train.drop('Survived', axis=1)\n",
    "y = df_train['Survived']"
   ]
  },
  {
   "cell_type": "markdown",
   "id": "38d74035",
   "metadata": {},
   "source": [
    "Convert categorical variables into dummy/indicator variables."
   ]
  },
  {
   "cell_type": "code",
   "execution_count": null,
   "id": "55264998",
   "metadata": {},
   "outputs": [],
   "source": [
    "X = pd.get_dummies(X, columns=['Sex', 'Embarked'])"
   ]
  },
  {
   "cell_type": "markdown",
   "id": "03f3cb2f",
   "metadata": {},
   "source": [
    "Split the dataset into training and validation sets."
   ]
  },
  {
   "cell_type": "code",
   "execution_count": null,
   "id": "7e3930a7",
   "metadata": {},
   "outputs": [],
   "source": [
    "from sklearn.model_selection import train_test_split\n",
    "X_train, X_val, y_train, y_val = train_test_split(X, y, test_size=0.2)"
   ]
  },
  {
   "cell_type": "markdown",
   "id": "ac186533",
   "metadata": {},
   "source": [
    "Create a Random Forest model for classification."
   ]
  },
  {
   "cell_type": "code",
   "execution_count": null,
   "id": "3d50476f",
   "metadata": {},
   "outputs": [],
   "source": [
    "from sklearn.ensemble import RandomForestClassifier\n",
    "model = RandomForestClassifier()"
   ]
  },
  {
   "cell_type": "markdown",
   "id": "235c4703",
   "metadata": {},
   "source": [
    "Train the model on the training data."
   ]
  },
  {
   "cell_type": "code",
   "execution_count": null,
   "id": "39f794f8",
   "metadata": {},
   "outputs": [],
   "source": [
    "model.fit(X_train, y_train)"
   ]
  },
  {
   "cell_type": "markdown",
   "id": "504ddda6",
   "metadata": {},
   "source": [
    "Make predictions on the validation set."
   ]
  },
  {
   "cell_type": "code",
   "execution_count": null,
   "id": "f0e81161",
   "metadata": {},
   "outputs": [],
   "source": [
    "predictions = model.predict(X_val)"
   ]
  },
  {
   "cell_type": "markdown",
   "id": "eba54009",
   "metadata": {},
   "source": [
    "Export results to a CSV file."
   ]
  },
  {
   "cell_type": "code",
   "execution_count": null,
   "id": "93375ab2",
   "metadata": {},
   "outputs": [],
   "source": [
    "results = pd.DataFrame({'Actual': y_val, 'Predicted': predictions})\n",
    "results.to_csv('titanic.csv', index=False)"
   ]
  }
 ],
 "metadata": {
  "kernelspec": {
   "display_name": "Python 3",
   "language": "python",
   "name": "python3"
  },
  "language_info": {
   "codemirror_mode": {
    "name": "ipython",
    "version": 3
   },
   "file_extension": ".py",
   "mimetype": "text/x-python",
   "name": "python",
   "nbconvert_exporter": "python",
   "pygments_lexer": "ipython3",
   "version": "3.8.5"
  }
 },
 "nbformat": 4,
 "nbformat_minor": 5
}
