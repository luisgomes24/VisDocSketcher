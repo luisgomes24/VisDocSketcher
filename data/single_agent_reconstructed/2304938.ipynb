{
 "cells": [
  {
   "cell_type": "markdown",
   "id": "1044acab",
   "metadata": {},
   "source": [
    "Load the training and test datasets from CSV files."
   ]
  },
  {
   "cell_type": "code",
   "execution_count": null,
   "id": "4338447a",
   "metadata": {},
   "outputs": [],
   "source": [
    "import pandas as pd\n",
    "data_train = pd.read_csv('train.csv')\n",
    "data_test = pd.read_csv('test.csv')"
   ]
  },
  {
   "cell_type": "markdown",
   "id": "f3f4f348",
   "metadata": {},
   "source": [
    "Convert the response variable to a categorical type for modeling."
   ]
  },
  {
   "cell_type": "code",
   "execution_count": null,
   "id": "1de9c751",
   "metadata": {},
   "outputs": [],
   "source": [
    "data_train['response'] = data_train['response'].astype('category')"
   ]
  },
  {
   "cell_type": "markdown",
   "id": "5eeaced4",
   "metadata": {},
   "source": [
    "Initialize H2O and train models using H2O AutoML."
   ]
  },
  {
   "cell_type": "code",
   "execution_count": null,
   "id": "3dff2ebc",
   "metadata": {},
   "outputs": [],
   "source": [
    "from h2o import H2OFrame, h2o\n",
    "h2o.init() \n",
    "train_h2o = H2OFrame(data_train)\n",
    "aml = H2OAutoML(max_models=20, seed=1)\n",
    "aml.train(y='response', training_frame=train_h2o)"
   ]
  },
  {
   "cell_type": "markdown",
   "id": "1814b8a1",
   "metadata": {},
   "source": [
    "Retrieve the leaderboard of models trained by H2O AutoML."
   ]
  },
  {
   "cell_type": "code",
   "execution_count": null,
   "id": "c5e0df68",
   "metadata": {},
   "outputs": [],
   "source": [
    "leaderboard = aml.leaderboard"
   ]
  },
  {
   "cell_type": "markdown",
   "id": "79ad0aaf",
   "metadata": {},
   "source": [
    "Generate predictions for the test dataset using the best model."
   ]
  },
  {
   "cell_type": "code",
   "execution_count": null,
   "id": "4160422a",
   "metadata": {},
   "outputs": [],
   "source": [
    "predictions = aml.leader.predict(H2OFrame(data_test))"
   ]
  },
  {
   "cell_type": "markdown",
   "id": "39f8e580",
   "metadata": {},
   "source": [
    "Save the predictions to a CSV file."
   ]
  },
  {
   "cell_type": "code",
   "execution_count": null,
   "id": "69f83428",
   "metadata": {},
   "outputs": [],
   "source": [
    "predictions.as_data_frame().to_csv('obscene_submission.csv', index=False)"
   ]
  }
 ],
 "metadata": {
  "kernelspec": {
   "display_name": "Python 3",
   "language": "python",
   "name": "python3"
  },
  "language_info": {
   "codemirror_mode": {
    "name": "ipython",
    "version": 3
   },
   "file_extension": ".py",
   "mimetype": "text/x-python",
   "name": "python",
   "nbconvert_exporter": "python",
   "pygments_lexer": "ipython3",
   "version": "3.8.5"
  }
 },
 "nbformat": 4,
 "nbformat_minor": 5
}
