{
 "cells": [
  {
   "cell_type": "markdown",
   "id": "e54f1be3",
   "metadata": {},
   "source": [
    "Load the datasets using Pandas to analyze suicide data."
   ]
  },
  {
   "cell_type": "code",
   "execution_count": null,
   "id": "b17b4c73",
   "metadata": {},
   "outputs": [],
   "source": [
    "import pandas as pd\n",
    "data = pd.read_csv('suicide_data.csv')"
   ]
  },
  {
   "cell_type": "markdown",
   "id": "57829398",
   "metadata": {},
   "source": [
    "Perform data exploration by summarizing key statistics of the suicide rates."
   ]
  },
  {
   "cell_type": "code",
   "execution_count": null,
   "id": "6fe5d422",
   "metadata": {},
   "outputs": [],
   "source": [
    "data.describe()"
   ]
  },
  {
   "cell_type": "markdown",
   "id": "79d094d5",
   "metadata": {},
   "source": [
    "Visualize suicide rates over the years using a bar chart."
   ]
  },
  {
   "cell_type": "code",
   "execution_count": null,
   "id": "b6232368",
   "metadata": {},
   "outputs": [],
   "source": [
    "import matplotlib.pyplot as plt\n",
    "plt.figure(figsize=(10,6))\n",
    "plt.bar(data['year'], data['suicide_rate'])\n",
    "plt.title('Suicide Rates Over Years')\n",
    "plt.show()"
   ]
  },
  {
   "cell_type": "markdown",
   "id": "60a62640",
   "metadata": {},
   "source": [
    "Group the data by gender and age to analyze average suicide rates."
   ]
  },
  {
   "cell_type": "code",
   "execution_count": null,
   "id": "4d98b074",
   "metadata": {},
   "outputs": [],
   "source": [
    "grouped_data = data.groupby(['gender', 'age']).mean().reset_index()"
   ]
  },
  {
   "cell_type": "markdown",
   "id": "17edc8f3",
   "metadata": {},
   "source": [
    "Visualize the comparison of suicide rates based on gender and age."
   ]
  },
  {
   "cell_type": "code",
   "execution_count": null,
   "id": "1b63ad81",
   "metadata": {},
   "outputs": [],
   "source": [
    "plt.figure(figsize=(10,6))\n",
    "for gender in grouped_data['gender'].unique():\n",
    "    subset = grouped_data[grouped_data['gender'] == gender]\n",
    "    plt.plot(subset['age'], subset['suicide_rate'], label=gender)\n",
    "plt.title('Gender vs Age Suicide Rates')\n",
    "plt.legend()\n",
    "plt.show()"
   ]
  },
  {
   "cell_type": "markdown",
   "id": "792696ed",
   "metadata": {},
   "source": [
    "Compare the average suicide rates between males and females."
   ]
  },
  {
   "cell_type": "code",
   "execution_count": null,
   "id": "96855c86",
   "metadata": {},
   "outputs": [],
   "source": [
    "male_rate = data[data['gender'] == 'Male']['suicide_rate'].mean()\n",
    "female_rate = data[data['gender'] == 'Female']['suicide_rate'].mean()"
   ]
  },
  {
   "cell_type": "markdown",
   "id": "1cfde9ee",
   "metadata": {},
   "source": [
    "Load news headlines to analyze their impact on suicide rates."
   ]
  },
  {
   "cell_type": "code",
   "execution_count": null,
   "id": "636ec0e2",
   "metadata": {},
   "outputs": [],
   "source": [
    "news_data = pd.read_csv('news_headlines.csv')"
   ]
  },
  {
   "cell_type": "markdown",
   "id": "1b78a458",
   "metadata": {},
   "source": [
    "Extract important topics from news headlines using CountVectorizer."
   ]
  },
  {
   "cell_type": "code",
   "execution_count": null,
   "id": "e665a2f6",
   "metadata": {},
   "outputs": [],
   "source": [
    "from sklearn.feature_extraction.text import CountVectorizer\n",
    "vectorizer = CountVectorizer()\n",
    "topic_matrix = vectorizer.fit_transform(news_data['headline'])"
   ]
  },
  {
   "cell_type": "markdown",
   "id": "52b8c459",
   "metadata": {},
   "source": [
    "Calculate changes in suicide rates by finding the difference between consecutive years."
   ]
  },
  {
   "cell_type": "code",
   "execution_count": null,
   "id": "338a69bb",
   "metadata": {},
   "outputs": [],
   "source": [
    "data['change'] = data['suicide_rate'].diff()"
   ]
  },
  {
   "cell_type": "markdown",
   "id": "ace3b72a",
   "metadata": {},
   "source": [
    "Analyze yearly changes in suicide rates by summing the yearly differences."
   ]
  },
  {
   "cell_type": "code",
   "execution_count": null,
   "id": "4a012d53",
   "metadata": {},
   "outputs": [],
   "source": [
    "yearly_analysis = data.groupby('year')['change'].sum()"
   ]
  },
  {
   "cell_type": "markdown",
   "id": "b9499454",
   "metadata": {},
   "source": [
    "Identify the impact of news on suicide rates by merging news data with suicide rate changes."
   ]
  },
  {
   "cell_type": "code",
   "execution_count": null,
   "id": "30849fa7",
   "metadata": {},
   "outputs": [],
   "source": [
    "impact_analysis = news_data.merge(data[['year', 'change']], on='year')"
   ]
  },
  {
   "cell_type": "markdown",
   "id": "8643fcc3",
   "metadata": {},
   "source": [
    "Display the top impactful headlines by selecting the highest changes in suicide rates."
   ]
  },
  {
   "cell_type": "code",
   "execution_count": null,
   "id": "48f09ea1",
   "metadata": {},
   "outputs": [],
   "source": [
    "top_impactful = impact_analysis.nlargest(5, 'change')"
   ]
  },
  {
   "cell_type": "markdown",
   "id": "67803ea3",
   "metadata": {},
   "source": [
    "Summarize conclusions derived from the analysis and display impactful headlines."
   ]
  },
  {
   "cell_type": "code",
   "execution_count": null,
   "id": "bc136fba",
   "metadata": {},
   "outputs": [],
   "source": [
    "print('Conclusions and Insights from the Analysis:')\n",
    "print(top_impactful['headline'])"
   ]
  }
 ],
 "metadata": {
  "kernelspec": {
   "display_name": "Python 3",
   "language": "python",
   "name": "python3"
  },
  "language_info": {
   "codemirror_mode": {
    "name": "ipython",
    "version": 3
   },
   "file_extension": ".py",
   "mimetype": "text/x-python",
   "name": "python",
   "nbconvert_exporter": "python",
   "pygments_lexer": "ipython3",
   "version": "3.8.5"
  }
 },
 "nbformat": 4,
 "nbformat_minor": 5
}
