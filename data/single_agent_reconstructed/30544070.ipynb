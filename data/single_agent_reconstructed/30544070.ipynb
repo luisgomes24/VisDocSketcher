{
 "cells": [
  {
   "cell_type": "markdown",
   "id": "ec63211f",
   "metadata": {},
   "source": [
    "Load the dataset from a CSV file."
   ]
  },
  {
   "cell_type": "code",
   "execution_count": null,
   "id": "eb3e2b78",
   "metadata": {},
   "outputs": [],
   "source": [
    "import pandas as pd\n",
    "\n",
    "data = pd.read_csv('Salary.csv')"
   ]
  },
  {
   "cell_type": "markdown",
   "id": "6a34efa3",
   "metadata": {},
   "source": [
    "Display the first few rows of the data."
   ]
  },
  {
   "cell_type": "code",
   "execution_count": null,
   "id": "00f642b6",
   "metadata": {},
   "outputs": [],
   "source": [
    "data.head()"
   ]
  },
  {
   "cell_type": "markdown",
   "id": "fce30f7f",
   "metadata": {},
   "source": [
    "Generate summary statistics of the dataset."
   ]
  },
  {
   "cell_type": "code",
   "execution_count": null,
   "id": "9a4313a8",
   "metadata": {},
   "outputs": [],
   "source": [
    "data.describe()"
   ]
  },
  {
   "cell_type": "markdown",
   "id": "f6fa742e",
   "metadata": {},
   "source": [
    "Check for missing values in the dataset."
   ]
  },
  {
   "cell_type": "code",
   "execution_count": null,
   "id": "ab9edb49",
   "metadata": {},
   "outputs": [],
   "source": [
    "data.isnull().sum()"
   ]
  },
  {
   "cell_type": "markdown",
   "id": "dd86d25c",
   "metadata": {},
   "source": [
    "Visualize the distribution of years of experience."
   ]
  },
  {
   "cell_type": "code",
   "execution_count": null,
   "id": "628e05eb",
   "metadata": {},
   "outputs": [],
   "source": [
    "import seaborn as sns\n",
    "import matplotlib.pyplot as plt\n",
    "sns.displot(data, x='YearsExperience')"
   ]
  },
  {
   "cell_type": "markdown",
   "id": "4f644254",
   "metadata": {},
   "source": [
    "Visualize the distribution of salary."
   ]
  },
  {
   "cell_type": "code",
   "execution_count": null,
   "id": "1ceacd17",
   "metadata": {},
   "outputs": [],
   "source": [
    "sns.displot(data, x='Salary')"
   ]
  },
  {
   "cell_type": "markdown",
   "id": "6b1fbbf2",
   "metadata": {},
   "source": [
    "Split the features and target variable into training and test sets."
   ]
  },
  {
   "cell_type": "code",
   "execution_count": null,
   "id": "5cd609f6",
   "metadata": {},
   "outputs": [],
   "source": [
    "from sklearn.model_selection import train_test_split\n",
    "X = data[['YearsExperience']]\n",
    "y = data['Salary']\n",
    "X_train, X_test, y_train, y_test = train_test_split(X, y, test_size=0.2)"
   ]
  },
  {
   "cell_type": "markdown",
   "id": "7ccd002d",
   "metadata": {},
   "source": [
    "Initialize the linear regression model."
   ]
  },
  {
   "cell_type": "code",
   "execution_count": null,
   "id": "ec120216",
   "metadata": {},
   "outputs": [],
   "source": [
    "from sklearn.linear_model import LinearRegression\n",
    "model = LinearRegression()"
   ]
  },
  {
   "cell_type": "markdown",
   "id": "93f253da",
   "metadata": {},
   "source": [
    "Fit the linear regression model to the training data."
   ]
  },
  {
   "cell_type": "code",
   "execution_count": null,
   "id": "96664074",
   "metadata": {},
   "outputs": [],
   "source": [
    "model.fit(X_train, y_train)"
   ]
  },
  {
   "cell_type": "markdown",
   "id": "e245bc07",
   "metadata": {},
   "source": [
    "Make predictions using the test dataset."
   ]
  },
  {
   "cell_type": "code",
   "execution_count": null,
   "id": "0baed612",
   "metadata": {},
   "outputs": [],
   "source": [
    "y_pred = model.predict(X_test)"
   ]
  },
  {
   "cell_type": "markdown",
   "id": "b8df3a9b",
   "metadata": {},
   "source": [
    "Evaluate the model performance using R-squared."
   ]
  },
  {
   "cell_type": "code",
   "execution_count": null,
   "id": "98689830",
   "metadata": {},
   "outputs": [],
   "source": [
    "from sklearn.metrics import r2_score\n",
    "print(r2_score(y_test, y_pred))"
   ]
  }
 ],
 "metadata": {
  "kernelspec": {
   "display_name": "Python 3",
   "language": "python",
   "name": "python3"
  },
  "language_info": {
   "codemirror_mode": {
    "name": "ipython",
    "version": 3
   },
   "file_extension": ".py",
   "mimetype": "text/x-python",
   "name": "python",
   "nbconvert_exporter": "python",
   "pygments_lexer": "ipython3",
   "version": "3.8.5"
  }
 },
 "nbformat": 4,
 "nbformat_minor": 5
}
