{
 "cells": [
  {
   "cell_type": "markdown",
   "id": "1ede067c",
   "metadata": {},
   "source": [
    "Load the cleaned transaction data from an Excel file."
   ]
  },
  {
   "cell_type": "code",
   "execution_count": null,
   "id": "67cf6c8c",
   "metadata": {},
   "outputs": [],
   "source": [
    "import pandas as pd\n",
    "data = pd.read_excel('transactions_clean.xlsx')"
   ]
  },
  {
   "cell_type": "markdown",
   "id": "ed7d78eb",
   "metadata": {},
   "source": [
    "Aggregate data by summing the sales for each product by date."
   ]
  },
  {
   "cell_type": "code",
   "execution_count": null,
   "id": "eb52d0dc",
   "metadata": {},
   "outputs": [],
   "source": [
    "aggregated_data = data.groupby(['date', 'product']).sum().reset_index()"
   ]
  },
  {
   "cell_type": "markdown",
   "id": "b3b84a02",
   "metadata": {},
   "source": [
    "Calculate the mean and median of sales from the aggregated data."
   ]
  },
  {
   "cell_type": "code",
   "execution_count": null,
   "id": "73ce62bd",
   "metadata": {},
   "outputs": [],
   "source": [
    "mean_sales = aggregated_data['sales'].mean()\n",
    "median_sales = aggregated_data['sales'].median()"
   ]
  },
  {
   "cell_type": "markdown",
   "id": "ee1a7867",
   "metadata": {},
   "source": [
    "Calculate total dollars sold for each day."
   ]
  },
  {
   "cell_type": "code",
   "execution_count": null,
   "id": "40d69f37",
   "metadata": {},
   "outputs": [],
   "source": [
    "total_dollars_by_day = aggregated_data.groupby('date')['sales'].sum()"
   ]
  },
  {
   "cell_type": "markdown",
   "id": "4ffb7b5f",
   "metadata": {},
   "source": [
    "Calculate total dollars sold for each product."
   ]
  },
  {
   "cell_type": "code",
   "execution_count": null,
   "id": "fecb556e",
   "metadata": {},
   "outputs": [],
   "source": [
    "total_dollars_by_product = aggregated_data.groupby('product')['sales'].sum()"
   ]
  },
  {
   "cell_type": "markdown",
   "id": "9e6e127d",
   "metadata": {},
   "source": [
    "Calculate the sales mix as a percentage for each product."
   ]
  },
  {
   "cell_type": "code",
   "execution_count": null,
   "id": "7f810cd9",
   "metadata": {},
   "outputs": [],
   "source": [
    "sales_mix = total_dollars_by_product / total_dollars_by_product.sum()"
   ]
  },
  {
   "cell_type": "markdown",
   "id": "f84f3139",
   "metadata": {},
   "source": [
    "Create a pivot table for an overview of sales by date and product."
   ]
  },
  {
   "cell_type": "code",
   "execution_count": null,
   "id": "d9a3e103",
   "metadata": {},
   "outputs": [],
   "source": [
    "pivot_table = pd.pivot_table(data, values='sales', index='date', columns='product', aggfunc='sum')"
   ]
  }
 ],
 "metadata": {
  "kernelspec": {
   "display_name": "Python 3",
   "language": "python",
   "name": "python3"
  },
  "language_info": {
   "codemirror_mode": {
    "name": "ipython",
    "version": 3
   },
   "file_extension": ".py",
   "mimetype": "text/x-python",
   "name": "python",
   "nbconvert_exporter": "python",
   "pygments_lexer": "ipython3",
   "version": "3.8.5"
  }
 },
 "nbformat": 4,
 "nbformat_minor": 5
}
