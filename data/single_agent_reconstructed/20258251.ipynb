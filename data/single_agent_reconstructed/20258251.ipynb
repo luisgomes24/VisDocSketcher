{
 "cells": [
  {
   "cell_type": "markdown",
   "id": "fd44d59d",
   "metadata": {},
   "source": [
    "Load the data from a CSV file using pandas."
   ]
  },
  {
   "cell_type": "code",
   "execution_count": null,
   "id": "22d46093",
   "metadata": {},
   "outputs": [],
   "source": [
    "import pandas as pd\n",
    "data = pd.read_csv('data.csv')"
   ]
  },
  {
   "cell_type": "markdown",
   "id": "32740153",
   "metadata": {},
   "source": [
    "Create an empty graph using NetworkX."
   ]
  },
  {
   "cell_type": "code",
   "execution_count": null,
   "id": "d4b1eef9",
   "metadata": {},
   "outputs": [],
   "source": [
    "import networkx as nx\n",
    "g = nx.Graph()"
   ]
  },
  {
   "cell_type": "markdown",
   "id": "b6e6eb9b",
   "metadata": {},
   "source": [
    "Add edges to the graph for each relationship in the data."
   ]
  },
  {
   "cell_type": "code",
   "execution_count": null,
   "id": "963bcec0",
   "metadata": {},
   "outputs": [],
   "source": [
    "for index, row in data.iterrows():\n",
    "    g.add_edge(row['source'], row['target'])"
   ]
  },
  {
   "cell_type": "markdown",
   "id": "19c7ddfd",
   "metadata": {},
   "source": [
    "Analyze the graph to get basic information about its structure."
   ]
  },
  {
   "cell_type": "code",
   "execution_count": null,
   "id": "602ae693",
   "metadata": {},
   "outputs": [],
   "source": [
    "nx.info(g)"
   ]
  },
  {
   "cell_type": "markdown",
   "id": "64ebc3f4",
   "metadata": {},
   "source": [
    "Visualize the graph using Matplotlib."
   ]
  },
  {
   "cell_type": "code",
   "execution_count": null,
   "id": "4a2d5068",
   "metadata": {},
   "outputs": [],
   "source": [
    "import matplotlib.pyplot as plt\n",
    "plt.figure()\n",
    "nx.draw(g)\n",
    "plt.show()"
   ]
  },
  {
   "cell_type": "markdown",
   "id": "9a2e6fc1",
   "metadata": {},
   "source": [
    "Analyze the centrality of nodes in the graph."
   ]
  },
  {
   "cell_type": "code",
   "execution_count": null,
   "id": "39c2b365",
   "metadata": {},
   "outputs": [],
   "source": [
    "centrality = nx.degree_centrality(g)"
   ]
  },
  {
   "cell_type": "markdown",
   "id": "ca4b0e2c",
   "metadata": {},
   "source": [
    "Build a subgroup based on centrality values exceeding a defined threshold."
   ]
  },
  {
   "cell_type": "code",
   "execution_count": null,
   "id": "e6eb4a75",
   "metadata": {},
   "outputs": [],
   "source": [
    "subgroup_nodes = [node for node, value in centrality.items() if value > threshold]"
   ]
  },
  {
   "cell_type": "markdown",
   "id": "d422fd30",
   "metadata": {},
   "source": [
    "Calculate the clustering associations in the graph."
   ]
  },
  {
   "cell_type": "code",
   "execution_count": null,
   "id": "0fc952a5",
   "metadata": {},
   "outputs": [],
   "source": [
    "association = nx.clustering(g)"
   ]
  }
 ],
 "metadata": {
  "kernelspec": {
   "display_name": "Python 3",
   "language": "python",
   "name": "python3"
  },
  "language_info": {
   "codemirror_mode": {
    "name": "ipython",
    "version": 3
   },
   "file_extension": ".py",
   "mimetype": "text/x-python",
   "name": "python",
   "nbconvert_exporter": "python",
   "pygments_lexer": "ipython3",
   "version": "3.8.5"
  }
 },
 "nbformat": 4,
 "nbformat_minor": 5
}
