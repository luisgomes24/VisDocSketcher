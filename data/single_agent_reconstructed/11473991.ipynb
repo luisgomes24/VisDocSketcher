{
 "cells": [
  {
   "cell_type": "markdown",
   "id": "68d2991f",
   "metadata": {},
   "source": [
    "Load the CSV file into a DataFrame for further analysis."
   ]
  },
  {
   "cell_type": "code",
   "execution_count": null,
   "id": "31d3e940",
   "metadata": {},
   "outputs": [],
   "source": [
    "import pandas as pd\n",
    "data = pd.read_csv('file.csv')"
   ]
  },
  {
   "cell_type": "markdown",
   "id": "3d8b3963",
   "metadata": {},
   "source": [
    "Visualize the distribution of each column in the dataset."
   ]
  },
  {
   "cell_type": "code",
   "execution_count": null,
   "id": "95828c95",
   "metadata": {},
   "outputs": [],
   "source": [
    "def plotPerColumnDistribution(data):\n",
    "    data.hist(figsize=(10, 10))\n",
    "    plt.show()"
   ]
  },
  {
   "cell_type": "markdown",
   "id": "1eb1ff9e",
   "metadata": {},
   "source": [
    "Generate a correlation matrix to show relationships between variables."
   ]
  },
  {
   "cell_type": "code",
   "execution_count": null,
   "id": "0d9eda45",
   "metadata": {},
   "outputs": [],
   "source": [
    "def plotCorrelationMatrix(data):\n",
    "    correlation = data.corr()\n",
    "    sns.heatmap(correlation, annot=True, fmt='.2f')\n",
    "    plt.show()"
   ]
  },
  {
   "cell_type": "markdown",
   "id": "16642e55",
   "metadata": {},
   "source": [
    "Create a scatter matrix to visualize pairwise relationships in the dataset."
   ]
  },
  {
   "cell_type": "code",
   "execution_count": null,
   "id": "a92dc4bb",
   "metadata": {},
   "outputs": [],
   "source": [
    "def plotScatterMatrix(data):\n",
    "    pd.plotting.scatter_matrix(data, figsize=(10, 10))\n",
    "    plt.show()"
   ]
  }
 ],
 "metadata": {
  "kernelspec": {
   "display_name": "Python 3",
   "language": "python",
   "name": "python3"
  },
  "language_info": {
   "codemirror_mode": {
    "name": "ipython",
    "version": 3
   },
   "file_extension": ".py",
   "mimetype": "text/x-python",
   "name": "python",
   "nbconvert_exporter": "python",
   "pygments_lexer": "ipython3",
   "version": "3.8.5"
  }
 },
 "nbformat": 4,
 "nbformat_minor": 5
}
