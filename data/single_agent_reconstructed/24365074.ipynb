{
 "cells": [
  {
   "cell_type": "markdown",
   "id": "46e79b89",
   "metadata": {},
   "source": [
    "Load training and testing data from CSV files."
   ]
  },
  {
   "cell_type": "code",
   "execution_count": null,
   "id": "cadf178a",
   "metadata": {},
   "outputs": [],
   "source": [
    "import pandas as pd\n",
    "train_data = pd.read_csv('train.csv')\n",
    "test_data = pd.read_csv('test.csv')"
   ]
  },
  {
   "cell_type": "markdown",
   "id": "d718d8ca",
   "metadata": {},
   "source": [
    "Drop unwanted columns 'row_id' and 'target' from the training data."
   ]
  },
  {
   "cell_type": "code",
   "execution_count": null,
   "id": "41256d46",
   "metadata": {},
   "outputs": [],
   "source": [
    "train_data.drop(['row_id', 'target'], axis=1, inplace=True)"
   ]
  },
  {
   "cell_type": "markdown",
   "id": "8f45f367",
   "metadata": {},
   "source": [
    "Split the training data into training and validation datasets."
   ]
  },
  {
   "cell_type": "code",
   "execution_count": null,
   "id": "9b103dff",
   "metadata": {},
   "outputs": [],
   "source": [
    "from sklearn.model_selection import train_test_split\n",
    "X_train, X_valid, y_train, y_valid = train_test_split(train_data.drop('target', axis=1), train_data['target'], test_size=0.2, random_state=42)"
   ]
  },
  {
   "cell_type": "markdown",
   "id": "38742768",
   "metadata": {},
   "source": [
    "Train the Extra Trees Classifier model on the training dataset."
   ]
  },
  {
   "cell_type": "code",
   "execution_count": null,
   "id": "7d515054",
   "metadata": {},
   "outputs": [],
   "source": [
    "from sklearn.ensemble import ExtraTreesClassifier\n",
    "model = ExtraTreesClassifier()\n",
    "model.fit(X_train, y_train)"
   ]
  },
  {
   "cell_type": "markdown",
   "id": "7c3ef502",
   "metadata": {},
   "source": [
    "Evaluate the model's accuracy on the validation dataset."
   ]
  },
  {
   "cell_type": "code",
   "execution_count": null,
   "id": "3503f6a5",
   "metadata": {},
   "outputs": [],
   "source": [
    "from sklearn.metrics import accuracy_score\n",
    "y_pred = model.predict(X_valid)\n",
    "accuracy = accuracy_score(y_valid, y_pred)\n",
    "print(f'Accuracy: {accuracy:.2f}')"
   ]
  },
  {
   "cell_type": "markdown",
   "id": "2de8138f",
   "metadata": {},
   "source": [
    "Prepare the submission dataframe and save to a CSV file."
   ]
  },
  {
   "cell_type": "code",
   "execution_count": null,
   "id": "2f5ead5a",
   "metadata": {},
   "outputs": [],
   "source": [
    "submission = pd.DataFrame({'Id': test_data['row_id'], 'Prediction': model.predict(test_data.drop('row_id', axis=1))})\n",
    "submission.to_csv('submission_labels.csv', index=False)"
   ]
  }
 ],
 "metadata": {
  "kernelspec": {
   "display_name": "Python 3",
   "language": "python",
   "name": "python3"
  },
  "language_info": {
   "codemirror_mode": {
    "name": "ipython",
    "version": 3
   },
   "file_extension": ".py",
   "mimetype": "text/x-python",
   "name": "python",
   "nbconvert_exporter": "python",
   "pygments_lexer": "ipython3",
   "version": "3.8.5"
  }
 },
 "nbformat": 4,
 "nbformat_minor": 5
}
