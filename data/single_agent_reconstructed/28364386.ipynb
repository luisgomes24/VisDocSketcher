{
 "cells": [
  {
   "cell_type": "markdown",
   "id": "2d4d0688",
   "metadata": {},
   "source": [
    "Load the dataset from a CSV file."
   ]
  },
  {
   "cell_type": "code",
   "execution_count": null,
   "id": "fbbb015e",
   "metadata": {},
   "outputs": [],
   "source": [
    "train = pd.read_csv('data.csv')"
   ]
  },
  {
   "cell_type": "markdown",
   "id": "f6a60295",
   "metadata": {},
   "source": [
    "Explore basic statistics of the dataset."
   ]
  },
  {
   "cell_type": "code",
   "execution_count": null,
   "id": "fd25eccd",
   "metadata": {},
   "outputs": [],
   "source": [
    "train.describe()"
   ]
  },
  {
   "cell_type": "markdown",
   "id": "06601b8a",
   "metadata": {},
   "source": [
    "Convert categorical variables into dummy/indicator variables."
   ]
  },
  {
   "cell_type": "code",
   "execution_count": null,
   "id": "9835310b",
   "metadata": {},
   "outputs": [],
   "source": [
    "train = pd.get_dummies(train, drop_first=True)"
   ]
  },
  {
   "cell_type": "markdown",
   "id": "5ded02b9",
   "metadata": {},
   "source": [
    "Split the dataset into training and testing sets."
   ]
  },
  {
   "cell_type": "code",
   "execution_count": null,
   "id": "6b00004a",
   "metadata": {},
   "outputs": [],
   "source": [
    "from sklearn.model_selection import train_test_split; train, test = train_test_split(train, test_size=0.2)"
   ]
  },
  {
   "cell_type": "markdown",
   "id": "cbab5799",
   "metadata": {},
   "source": [
    "Train the machine learning model using the training data."
   ]
  },
  {
   "cell_type": "code",
   "execution_count": null,
   "id": "afc84ad8",
   "metadata": {},
   "outputs": [],
   "source": [
    "autuml.fit(train)"
   ]
  },
  {
   "cell_type": "markdown",
   "id": "9c111e50",
   "metadata": {},
   "source": [
    "Make predictions on the test dataset."
   ]
  },
  {
   "cell_type": "code",
   "execution_count": null,
   "id": "c5268410",
   "metadata": {},
   "outputs": [],
   "source": [
    "y_pred = automl.predict(test)"
   ]
  },
  {
   "cell_type": "markdown",
   "id": "877a3f4a",
   "metadata": {},
   "source": [
    "Evaluate the model's performance and print the classification report."
   ]
  },
  {
   "cell_type": "code",
   "execution_count": null,
   "id": "cb450fa0",
   "metadata": {},
   "outputs": [],
   "source": [
    "from sklearn.metrics import classification_report; print(classification_report(test['target'], y_pred))"
   ]
  }
 ],
 "metadata": {
  "kernelspec": {
   "display_name": "Python 3",
   "language": "python",
   "name": "python3"
  },
  "language_info": {
   "codemirror_mode": {
    "name": "ipython",
    "version": 3
   },
   "file_extension": ".py",
   "mimetype": "text/x-python",
   "name": "python",
   "nbconvert_exporter": "python",
   "pygments_lexer": "ipython3",
   "version": "3.8.5"
  }
 },
 "nbformat": 4,
 "nbformat_minor": 5
}
