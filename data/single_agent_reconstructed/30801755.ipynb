{
 "cells": [
  {
   "cell_type": "markdown",
   "id": "aefd75bd",
   "metadata": {},
   "source": [
    "Setup the initial dataset for analysis."
   ]
  },
  {
   "cell_type": "code",
   "execution_count": null,
   "id": "a315a407",
   "metadata": {},
   "outputs": [],
   "source": [
    "data = setup_data()"
   ]
  },
  {
   "cell_type": "markdown",
   "id": "5c972123",
   "metadata": {},
   "source": [
    "Convert a float column to an integer column."
   ]
  },
  {
   "cell_type": "code",
   "execution_count": null,
   "id": "acb40486",
   "metadata": {},
   "outputs": [],
   "source": [
    "data['int_column'] = data['float_column'].astype(int)"
   ]
  },
  {
   "cell_type": "markdown",
   "id": "dc8ad3f2",
   "metadata": {},
   "source": [
    "Investigate unique float values in the dataset."
   ]
  },
  {
   "cell_type": "code",
   "execution_count": null,
   "id": "e8b1e16f",
   "metadata": {},
   "outputs": [],
   "source": [
    "float_values = data['float_column'].unique()"
   ]
  },
  {
   "cell_type": "markdown",
   "id": "65ccf24d",
   "metadata": {},
   "source": [
    "Check if the float conversion is accurate."
   ]
  },
  {
   "cell_type": "code",
   "execution_count": null,
   "id": "144ae895",
   "metadata": {},
   "outputs": [],
   "source": [
    "assert check_float_conversion(float_values)"
   ]
  },
  {
   "cell_type": "markdown",
   "id": "ae2fa639",
   "metadata": {},
   "source": [
    "Perform boolean multiplication between two columns."
   ]
  },
  {
   "cell_type": "code",
   "execution_count": null,
   "id": "763097e0",
   "metadata": {},
   "outputs": [],
   "source": [
    "data['boolean_multiplication'] = data['col1'] * data['col2']"
   ]
  },
  {
   "cell_type": "markdown",
   "id": "85dc1fc2",
   "metadata": {},
   "source": [
    "Verify the results of the boolean multiplication."
   ]
  },
  {
   "cell_type": "code",
   "execution_count": null,
   "id": "bc201a7b",
   "metadata": {},
   "outputs": [],
   "source": [
    "assert check_boolean_multiplication(data['boolean_multiplication'])"
   ]
  },
  {
   "cell_type": "markdown",
   "id": "470f380f",
   "metadata": {},
   "source": [
    "Estimate house costs based on available data."
   ]
  },
  {
   "cell_type": "code",
   "execution_count": null,
   "id": "fc4ab35c",
   "metadata": {},
   "outputs": [],
   "source": [
    "data['house_cost'] = estimate_house_cost(data)"
   ]
  },
  {
   "cell_type": "markdown",
   "id": "a458f481",
   "metadata": {},
   "source": [
    "Define a function for boolean addition."
   ]
  },
  {
   "cell_type": "code",
   "execution_count": null,
   "id": "90c67a9f",
   "metadata": {},
   "outputs": [],
   "source": [
    "def boolean_addition(x, y): return x + y"
   ]
  },
  {
   "cell_type": "markdown",
   "id": "1c631791",
   "metadata": {},
   "source": [
    "Apply boolean addition to the specified columns."
   ]
  },
  {
   "cell_type": "code",
   "execution_count": null,
   "id": "640a9d6e",
   "metadata": {},
   "outputs": [],
   "source": [
    "data['boolean_addition'] = boolean_addition(data['col1'], data['col2'])"
   ]
  },
  {
   "cell_type": "markdown",
   "id": "4e03da5b",
   "metadata": {},
   "source": [
    "Check the results of boolean addition."
   ]
  },
  {
   "cell_type": "code",
   "execution_count": null,
   "id": "45c1933c",
   "metadata": {},
   "outputs": [],
   "source": [
    "assert check_boolean_addition(data['boolean_addition'])"
   ]
  },
  {
   "cell_type": "markdown",
   "id": "33ad76b7",
   "metadata": {},
   "source": [
    "Retrieve the project cost data."
   ]
  },
  {
   "cell_type": "code",
   "execution_count": null,
   "id": "be7131f1",
   "metadata": {},
   "outputs": [],
   "source": [
    "cost_data = get_project_costs()"
   ]
  },
  {
   "cell_type": "markdown",
   "id": "3b4f67dc",
   "metadata": {},
   "source": [
    "Run the cost calculation for the 'Gold' project."
   ]
  },
  {
   "cell_type": "code",
   "execution_count": null,
   "id": "03848a8a",
   "metadata": {},
   "outputs": [],
   "source": [
    "gold_cost = calculate_cost(cost_data, 'Gold')"
   ]
  },
  {
   "cell_type": "markdown",
   "id": "28d45304",
   "metadata": {},
   "source": [
    "Get the cost for 'Charlie' in 'Denver'."
   ]
  },
  {
   "cell_type": "code",
   "execution_count": null,
   "id": "3a0ce90f",
   "metadata": {},
   "outputs": [],
   "source": [
    "charlie_denver_cost = get_cost('Charlie', 'Denver')"
   ]
  },
  {
   "cell_type": "markdown",
   "id": "4736edec",
   "metadata": {},
   "source": [
    "Fetch the cost for the project on the specified date."
   ]
  },
  {
   "cell_type": "code",
   "execution_count": null,
   "id": "84924da9",
   "metadata": {},
   "outputs": [],
   "source": [
    "cost_on_date = get_cost_on_date('08/10/2000')"
   ]
  }
 ],
 "metadata": {
  "kernelspec": {
   "display_name": "Python 3",
   "language": "python",
   "name": "python3"
  },
  "language_info": {
   "codemirror_mode": {
    "name": "ipython",
    "version": 3
   },
   "file_extension": ".py",
   "mimetype": "text/x-python",
   "name": "python",
   "nbconvert_exporter": "python",
   "pygments_lexer": "ipython3",
   "version": "3.8.5"
  }
 },
 "nbformat": 4,
 "nbformat_minor": 5
}
