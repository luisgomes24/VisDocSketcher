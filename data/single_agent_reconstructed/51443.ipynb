{
 "cells": [
  {
   "cell_type": "markdown",
   "id": "3a58b173",
   "metadata": {},
   "source": [
    "Load the dataset from a CSV file into a Pandas DataFrame."
   ]
  },
  {
   "cell_type": "code",
   "execution_count": null,
   "id": "69147aa3",
   "metadata": {},
   "outputs": [],
   "source": [
    "import pandas as pd\n",
    "data = pd.read_csv('data.csv')"
   ]
  },
  {
   "cell_type": "markdown",
   "id": "f0395924",
   "metadata": {},
   "source": [
    "Preprocess the data by scaling features."
   ]
  },
  {
   "cell_type": "code",
   "execution_count": null,
   "id": "f6adc326",
   "metadata": {},
   "outputs": [],
   "source": [
    "from sklearn.preprocessing import StandardScaler\n",
    "scaler = StandardScaler()\n",
    "data_scaled = scaler.fit_transform(data)"
   ]
  },
  {
   "cell_type": "markdown",
   "id": "791dacbd",
   "metadata": {},
   "source": [
    "Split the data into training and testing sets."
   ]
  },
  {
   "cell_type": "code",
   "execution_count": null,
   "id": "5e301121",
   "metadata": {},
   "outputs": [],
   "source": [
    "from sklearn.model_selection import train_test_split\n",
    "X_train, X_test, y_train, y_test = train_test_split(data_scaled, target, test_size=0.2, random_state=42)"
   ]
  },
  {
   "cell_type": "markdown",
   "id": "cb65c294",
   "metadata": {},
   "source": [
    "Evaluate AUC scores for each single feature using a model."
   ]
  },
  {
   "cell_type": "code",
   "execution_count": null,
   "id": "ca6a438c",
   "metadata": {},
   "outputs": [],
   "source": [
    "from sklearn.metrics import roc_auc_score\n",
    "auc_scores = [roc_auc_score(y_test, model.predict_proba(X_test)[:, 1]) for model in models]"
   ]
  },
  {
   "cell_type": "markdown",
   "id": "712de749",
   "metadata": {},
   "source": [
    "Sort the single feature AUC scores in descending order."
   ]
  },
  {
   "cell_type": "code",
   "execution_count": null,
   "id": "638a6c6f",
   "metadata": {},
   "outputs": [],
   "source": [
    "auc_scores_sorted = sorted(auc_scores, reverse=True)"
   ]
  },
  {
   "cell_type": "markdown",
   "id": "14a48693",
   "metadata": {},
   "source": [
    "Generate combinations of features for evaluation."
   ]
  },
  {
   "cell_type": "code",
   "execution_count": null,
   "id": "32cb1ef9",
   "metadata": {},
   "outputs": [],
   "source": [
    "from itertools import combinations\n",
    "feature_combinations = list(combinations(features, 2))"
   ]
  },
  {
   "cell_type": "markdown",
   "id": "66e60491",
   "metadata": {},
   "source": [
    "Calculate the combined AUC for each feature combination."
   ]
  },
  {
   "cell_type": "code",
   "execution_count": null,
   "id": "7d429d7e",
   "metadata": {},
   "outputs": [],
   "source": [
    "combined_auc_scores = [roc_auc_score(y_test, model.predict_proba(X_test_comb)[:, 1]) for X_test_comb in feature_combinations]"
   ]
  },
  {
   "cell_type": "markdown",
   "id": "203ed932",
   "metadata": {},
   "source": [
    "Sort the feature combinations by their AUC scores."
   ]
  },
  {
   "cell_type": "code",
   "execution_count": null,
   "id": "809bc7a4",
   "metadata": {},
   "outputs": [],
   "source": [
    "combined_auc_sorted = sorted(combined_auc_scores, reverse=True)"
   ]
  },
  {
   "cell_type": "markdown",
   "id": "acf179d1",
   "metadata": {},
   "source": [
    "Visualize the overlap of feature sets using a pairwise matrix."
   ]
  },
  {
   "cell_type": "code",
   "execution_count": null,
   "id": "6aa74588",
   "metadata": {},
   "outputs": [],
   "source": [
    "import seaborn as sns\n",
    "sns.heatmap(overlap_matrix)"
   ]
  },
  {
   "cell_type": "markdown",
   "id": "ff5520f1",
   "metadata": {},
   "source": [
    "Perform K-Means clustering on the feature overlap matrix."
   ]
  },
  {
   "cell_type": "code",
   "execution_count": null,
   "id": "48d9e4a5",
   "metadata": {},
   "outputs": [],
   "source": [
    "from sklearn.cluster import KMeans\n",
    "kmeans = KMeans(n_clusters=3)\n",
    "kmeans.fit(overlap_matrix)"
   ]
  },
  {
   "cell_type": "markdown",
   "id": "18ad1569",
   "metadata": {},
   "source": [
    "Reorder the overlap matrix based on cluster assignments."
   ]
  },
  {
   "cell_type": "code",
   "execution_count": null,
   "id": "694b020f",
   "metadata": {},
   "outputs": [],
   "source": [
    "reordered_matrix = overlap_matrix[kmeans.labels_.argsort()]"
   ]
  },
  {
   "cell_type": "markdown",
   "id": "81e361c4",
   "metadata": {},
   "source": [
    "Display the best feature combinations according to sorted AUC scores."
   ]
  },
  {
   "cell_type": "code",
   "execution_count": null,
   "id": "14e43612",
   "metadata": {},
   "outputs": [],
   "source": [
    "best_features = [features[i] for i in sorted_indices[:top_n]]"
   ]
  }
 ],
 "metadata": {
  "kernelspec": {
   "display_name": "Python 3",
   "language": "python",
   "name": "python3"
  },
  "language_info": {
   "codemirror_mode": {
    "name": "ipython",
    "version": 3
   },
   "file_extension": ".py",
   "mimetype": "text/x-python",
   "name": "python",
   "nbconvert_exporter": "python",
   "pygments_lexer": "ipython3",
   "version": "3.8.5"
  }
 },
 "nbformat": 4,
 "nbformat_minor": 5
}
