{
 "cells": [
  {
   "cell_type": "markdown",
   "id": "0b03d7d6",
   "metadata": {},
   "source": [
    "Import necessary libraries for data manipulation and visualization."
   ]
  },
  {
   "cell_type": "code",
   "execution_count": null,
   "id": "faf769a4",
   "metadata": {},
   "outputs": [],
   "source": [
    "import pandas as pd\n",
    "import matplotlib.pyplot as plt\n",
    "import seaborn as sns"
   ]
  },
  {
   "cell_type": "markdown",
   "id": "84a35ba5",
   "metadata": {},
   "source": [
    "Load the dataset from a CSV file."
   ]
  },
  {
   "cell_type": "code",
   "execution_count": null,
   "id": "e0b7f859",
   "metadata": {},
   "outputs": [],
   "source": [
    "data = pd.read_csv('datafile.csv')"
   ]
  },
  {
   "cell_type": "markdown",
   "id": "593f3a48",
   "metadata": {},
   "source": [
    "Display the first few rows of the dataset for an initial overview."
   ]
  },
  {
   "cell_type": "code",
   "execution_count": null,
   "id": "4eedfb62",
   "metadata": {},
   "outputs": [],
   "source": [
    "print(data.head())"
   ]
  },
  {
   "cell_type": "markdown",
   "id": "92c5960d",
   "metadata": {},
   "source": [
    "Check the features and their data types in the dataset."
   ]
  },
  {
   "cell_type": "code",
   "execution_count": null,
   "id": "cafb9787",
   "metadata": {},
   "outputs": [],
   "source": [
    "print(data.info())"
   ]
  },
  {
   "cell_type": "markdown",
   "id": "1f4ad948",
   "metadata": {},
   "source": [
    "Handle missing values by filling them with the mean."
   ]
  },
  {
   "cell_type": "code",
   "execution_count": null,
   "id": "3e109dc8",
   "metadata": {},
   "outputs": [],
   "source": [
    "data.fillna(data.mean(), inplace=True)"
   ]
  },
  {
   "cell_type": "markdown",
   "id": "c151c9ac",
   "metadata": {},
   "source": [
    "Convert date columns to datetime format."
   ]
  },
  {
   "cell_type": "code",
   "execution_count": null,
   "id": "9dcb010b",
   "metadata": {},
   "outputs": [],
   "source": [
    "data['date_column'] = pd.to_datetime(data['date_column'])"
   ]
  },
  {
   "cell_type": "markdown",
   "id": "b27c426c",
   "metadata": {},
   "source": [
    "Create a histogram to visualize the distribution of the number of bedrooms."
   ]
  },
  {
   "cell_type": "code",
   "execution_count": null,
   "id": "fb6474d4",
   "metadata": {},
   "outputs": [],
   "source": [
    "plt.figure(figsize=(10,6))\n",
    "sns.histplot(data['bedrooms'], bins=10, kde=True)\n",
    "plt.title('Histogram of Bedrooms')\n",
    "plt.xlabel('Number of Bedrooms')\n",
    "plt.ylabel('Frequency')\n",
    "plt.show()"
   ]
  },
  {
   "cell_type": "markdown",
   "id": "bf15f882",
   "metadata": {},
   "source": [
    "Create a histogram to visualize the distribution of the number of bathrooms."
   ]
  },
  {
   "cell_type": "code",
   "execution_count": null,
   "id": "b19f62a6",
   "metadata": {},
   "outputs": [],
   "source": [
    "plt.figure(figsize=(10,6))\n",
    "sns.histplot(data['bathrooms'], bins=10, kde=True)\n",
    "plt.title('Histogram of Bathrooms')\n",
    "plt.xlabel('Number of Bathrooms')\n",
    "plt.ylabel('Frequency')\n",
    "plt.show()"
   ]
  },
  {
   "cell_type": "markdown",
   "id": "3d71c490",
   "metadata": {},
   "source": [
    "Create a histogram to visualize the distribution of square feet living."
   ]
  },
  {
   "cell_type": "code",
   "execution_count": null,
   "id": "e72bea4b",
   "metadata": {},
   "outputs": [],
   "source": [
    "plt.figure(figsize=(10,6))\n",
    "sns.histplot(data['sqft_living'], bins=10, kde=True)\n",
    "plt.title('Histogram of Square Feet Living')\n",
    "plt.xlabel('Square Feet Living')\n",
    "plt.ylabel('Frequency')\n",
    "plt.show()"
   ]
  }
 ],
 "metadata": {
  "kernelspec": {
   "display_name": "Python 3",
   "language": "python",
   "name": "python3"
  },
  "language_info": {
   "codemirror_mode": {
    "name": "ipython",
    "version": 3
   },
   "file_extension": ".py",
   "mimetype": "text/x-python",
   "name": "python",
   "nbconvert_exporter": "python",
   "pygments_lexer": "ipython3",
   "version": "3.8.5"
  }
 },
 "nbformat": 4,
 "nbformat_minor": 5
}
