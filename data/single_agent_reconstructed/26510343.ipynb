{
 "cells": [
  {
   "cell_type": "markdown",
   "id": "346b6bb5",
   "metadata": {},
   "source": [
    "Loads image file paths from the 'images' directory."
   ]
  },
  {
   "cell_type": "code",
   "execution_count": null,
   "id": "af191781",
   "metadata": {},
   "outputs": [],
   "source": [
    "import os\n",
    "image_paths = [os.path.join('images', f) for f in os.listdir('images')]"
   ]
  },
  {
   "cell_type": "markdown",
   "id": "da169647",
   "metadata": {},
   "source": [
    "Verifies each image to ensure they are valid."
   ]
  },
  {
   "cell_type": "code",
   "execution_count": null,
   "id": "de202f32",
   "metadata": {},
   "outputs": [],
   "source": [
    "valid_images = [img for img in image_paths if verify_image(img)]"
   ]
  },
  {
   "cell_type": "markdown",
   "id": "b4270599",
   "metadata": {},
   "source": [
    "Creates a DataBlock component for the images and labels."
   ]
  },
  {
   "cell_type": "code",
   "execution_count": null,
   "id": "50f572a9",
   "metadata": {},
   "outputs": [],
   "source": [
    "from fastai.vision.all import DataBlock, ImageBlock, Categorify\n",
    "block = DataBlock(blocks=(ImageBlock, Categorify), get_items=get_image_files, splitter=RandomSplitter())"
   ]
  },
  {
   "cell_type": "markdown",
   "id": "f1b322f7",
   "metadata": {},
   "source": [
    "Loads data into DataLoaders for processing."
   ]
  },
  {
   "cell_type": "code",
   "execution_count": null,
   "id": "2ec11697",
   "metadata": {},
   "outputs": [],
   "source": [
    "from fastai.vision.all import DataLoaders\n",
    "dls = block.dataloaders('images')"
   ]
  },
  {
   "cell_type": "markdown",
   "id": "b3b6bd2f",
   "metadata": {},
   "source": [
    "Displays a batch of sample images from the data."
   ]
  },
  {
   "cell_type": "code",
   "execution_count": null,
   "id": "8199949b",
   "metadata": {},
   "outputs": [],
   "source": [
    "dls.show_batch()"
   ]
  },
  {
   "cell_type": "markdown",
   "id": "bd988dab",
   "metadata": {},
   "source": [
    "Initializes a convolutional neural network learner with the specified architecture."
   ]
  },
  {
   "cell_type": "code",
   "execution_count": null,
   "id": "1b21a727",
   "metadata": {},
   "outputs": [],
   "source": [
    "from fastai.vision.all import cnn_learner\n",
    "learn = cnn_learner(dls, resnet34, metrics=accuracy)"
   ]
  },
  {
   "cell_type": "markdown",
   "id": "5138f4e7",
   "metadata": {},
   "source": [
    "Trains the model using fine-tuning to improve performance."
   ]
  },
  {
   "cell_type": "code",
   "execution_count": null,
   "id": "09954d9e",
   "metadata": {},
   "outputs": [],
   "source": [
    "learn.fine_tune(1)"
   ]
  },
  {
   "cell_type": "markdown",
   "id": "197ee316",
   "metadata": {},
   "source": [
    "Evaluates the model's performance on validation data."
   ]
  },
  {
   "cell_type": "code",
   "execution_count": null,
   "id": "3faa93cc",
   "metadata": {},
   "outputs": [],
   "source": [
    "learn.validate()"
   ]
  },
  {
   "cell_type": "markdown",
   "id": "c3a07972",
   "metadata": {},
   "source": [
    "Visualizes the results as a bar chart of losses during training."
   ]
  },
  {
   "cell_type": "code",
   "execution_count": null,
   "id": "0a67cad2",
   "metadata": {},
   "outputs": [],
   "source": [
    "import matplotlib.pyplot as plt\n",
    "plt.bar(['A', 'B', 'C'], learn.recorder.losses)"
   ]
  }
 ],
 "metadata": {
  "kernelspec": {
   "display_name": "Python 3",
   "language": "python",
   "name": "python3"
  },
  "language_info": {
   "codemirror_mode": {
    "name": "ipython",
    "version": 3
   },
   "file_extension": ".py",
   "mimetype": "text/x-python",
   "name": "python",
   "nbconvert_exporter": "python",
   "pygments_lexer": "ipython3",
   "version": "3.8.5"
  }
 },
 "nbformat": 4,
 "nbformat_minor": 5
}
