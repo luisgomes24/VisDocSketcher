{
 "cells": [
  {
   "cell_type": "markdown",
   "id": "07f6f7f0",
   "metadata": {},
   "source": [
    "Load the dataset from 'books.csv' into a DataFrame."
   ]
  },
  {
   "cell_type": "code",
   "execution_count": null,
   "id": "bb2754a7",
   "metadata": {},
   "outputs": [],
   "source": [
    "import pandas as pd\n",
    "df1 = pd.read_csv('books.csv')"
   ]
  },
  {
   "cell_type": "markdown",
   "id": "9730a8d8",
   "metadata": {},
   "source": [
    "Display the first few rows of the DataFrame to explore the data."
   ]
  },
  {
   "cell_type": "code",
   "execution_count": null,
   "id": "b5358087",
   "metadata": {},
   "outputs": [],
   "source": [
    "print(df1.head())"
   ]
  },
  {
   "cell_type": "markdown",
   "id": "12aee48f",
   "metadata": {},
   "source": [
    "Preprocess the data by cleaning or filtering unwanted columns."
   ]
  },
  {
   "cell_type": "code",
   "execution_count": null,
   "id": "30bf7177",
   "metadata": {},
   "outputs": [],
   "source": [
    "def preprocess_data(df):\n",
    "    # Your cleaning/filtering code here\n",
    "    return df\n",
    "\n",
    "df1 = preprocess_data(df1)"
   ]
  },
  {
   "cell_type": "markdown",
   "id": "114a76bb",
   "metadata": {},
   "source": [
    "Plot distribution for each numerical column in the DataFrame."
   ]
  },
  {
   "cell_type": "code",
   "execution_count": null,
   "id": "269fe50e",
   "metadata": {},
   "outputs": [],
   "source": [
    "plotPerColumnDistribution(df1, 10, 5)"
   ]
  },
  {
   "cell_type": "markdown",
   "id": "88a9520b",
   "metadata": {},
   "source": [
    "Generate a correlation matrix to visualize relationships between variables."
   ]
  },
  {
   "cell_type": "code",
   "execution_count": null,
   "id": "917fe75d",
   "metadata": {},
   "outputs": [],
   "source": [
    "plotCorrelationMatrix(df1, 8)"
   ]
  },
  {
   "cell_type": "markdown",
   "id": "4ce35ff1",
   "metadata": {},
   "source": [
    "Create a scatter matrix to explore potential correlations visually."
   ]
  },
  {
   "cell_type": "code",
   "execution_count": null,
   "id": "55382685",
   "metadata": {},
   "outputs": [],
   "source": [
    "plotScatterMatrix(df1, 18, 10)"
   ]
  }
 ],
 "metadata": {
  "kernelspec": {
   "display_name": "Python 3",
   "language": "python",
   "name": "python3"
  },
  "language_info": {
   "codemirror_mode": {
    "name": "ipython",
    "version": 3
   },
   "file_extension": ".py",
   "mimetype": "text/x-python",
   "name": "python",
   "nbconvert_exporter": "python",
   "pygments_lexer": "ipython3",
   "version": "3.8.5"
  }
 },
 "nbformat": 4,
 "nbformat_minor": 5
}
