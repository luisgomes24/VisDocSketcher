{
 "cells": [
  {
   "cell_type": "markdown",
   "id": "5a36e5e5",
   "metadata": {},
   "source": [
    "Load data from a CSV file into a DataFrame."
   ]
  },
  {
   "cell_type": "code",
   "execution_count": null,
   "id": "a16570ee",
   "metadata": {},
   "outputs": [],
   "source": [
    "import pandas as pd\n",
    "df1 = pd.read_csv('../input/funda_train.csv')"
   ]
  },
  {
   "cell_type": "markdown",
   "id": "74f60745",
   "metadata": {},
   "source": [
    "Display the first few rows of the DataFrame for initial exploration."
   ]
  },
  {
   "cell_type": "code",
   "execution_count": null,
   "id": "888b3a64",
   "metadata": {},
   "outputs": [],
   "source": [
    "df1.head()"
   ]
  },
  {
   "cell_type": "markdown",
   "id": "633fce3b",
   "metadata": {},
   "source": [
    "Generate distribution graphs for each column in the DataFrame."
   ]
  },
  {
   "cell_type": "code",
   "execution_count": null,
   "id": "3d8e92f6",
   "metadata": {},
   "outputs": [],
   "source": [
    "plotPerColumnDistribution(df1, 10, 5)"
   ]
  },
  {
   "cell_type": "markdown",
   "id": "8cbf2362",
   "metadata": {},
   "source": [
    "Create a correlation matrix plot to visualize relationships between variables."
   ]
  },
  {
   "cell_type": "code",
   "execution_count": null,
   "id": "bbcaf7e6",
   "metadata": {},
   "outputs": [],
   "source": [
    "plotCorrelationMatrix(df1, 8)"
   ]
  },
  {
   "cell_type": "markdown",
   "id": "d4d7704b",
   "metadata": {},
   "source": [
    "Generate scatter and density plots to analyze pairwise variable relationships."
   ]
  },
  {
   "cell_type": "code",
   "execution_count": null,
   "id": "89183198",
   "metadata": {},
   "outputs": [],
   "source": [
    "plotScatterMatrix(df1, 12, 10)"
   ]
  }
 ],
 "metadata": {
  "kernelspec": {
   "display_name": "Python 3",
   "language": "python",
   "name": "python3"
  },
  "language_info": {
   "codemirror_mode": {
    "name": "ipython",
    "version": 3
   },
   "file_extension": ".py",
   "mimetype": "text/x-python",
   "name": "python",
   "nbconvert_exporter": "python",
   "pygments_lexer": "ipython3",
   "version": "3.8.5"
  }
 },
 "nbformat": 4,
 "nbformat_minor": 5
}
