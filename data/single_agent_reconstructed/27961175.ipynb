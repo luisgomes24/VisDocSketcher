{
 "cells": [
  {
   "cell_type": "markdown",
   "id": "7143fa6f",
   "metadata": {},
   "source": [
    "Load the dataset from a CSV file into a pandas DataFrame."
   ]
  },
  {
   "cell_type": "code",
   "execution_count": null,
   "id": "ede45eed",
   "metadata": {},
   "outputs": [],
   "source": [
    "import pandas as pd\n",
    "data = pd.read_csv('your_dataset.csv')"
   ]
  },
  {
   "cell_type": "markdown",
   "id": "d45daea5",
   "metadata": {},
   "source": [
    "Peek at the first few rows of the dataset to understand its structure."
   ]
  },
  {
   "cell_type": "code",
   "execution_count": null,
   "id": "0e0f2bfa",
   "metadata": {},
   "outputs": [],
   "source": [
    "print(data.head())"
   ]
  },
  {
   "cell_type": "markdown",
   "id": "0e6566ed",
   "metadata": {},
   "source": [
    "Perform a data quality check by checking for missing values in the dataset."
   ]
  },
  {
   "cell_type": "code",
   "execution_count": null,
   "id": "8a943d67",
   "metadata": {},
   "outputs": [],
   "source": [
    "data.isnull().sum()"
   ]
  },
  {
   "cell_type": "markdown",
   "id": "63d472dd",
   "metadata": {},
   "source": [
    "Analyze the number of trips by year and display a bar chart."
   ]
  },
  {
   "cell_type": "code",
   "execution_count": null,
   "id": "c5bea0e3",
   "metadata": {},
   "outputs": [],
   "source": [
    "data['year'].value_counts().plot(kind='bar')\n",
    "import matplotlib.pyplot as plt\n",
    "plt.title('Analyze Trips by Year')\n",
    "plt.show()"
   ]
  },
  {
   "cell_type": "markdown",
   "id": "39a98322",
   "metadata": {},
   "source": [
    "Analyze the number of trips by month and display a bar chart."
   ]
  },
  {
   "cell_type": "code",
   "execution_count": null,
   "id": "ec976519",
   "metadata": {},
   "outputs": [],
   "source": [
    "data['month'].value_counts().plot(kind='bar')\n",
    "plt.title('Analyze Trips by Month')\n",
    "plt.show()"
   ]
  },
  {
   "cell_type": "markdown",
   "id": "ce39fd77",
   "metadata": {},
   "source": [
    "Analyze the number of trips by hour and display a bar chart."
   ]
  },
  {
   "cell_type": "code",
   "execution_count": null,
   "id": "d3cb1aa8",
   "metadata": {},
   "outputs": [],
   "source": [
    "data['hour'].value_counts().plot(kind='bar')\n",
    "plt.title('Analyze Trips by Hour')\n",
    "plt.show()"
   ]
  },
  {
   "cell_type": "markdown",
   "id": "34575dc7",
   "metadata": {},
   "source": [
    "Check the user's input to confirm if the analyses look correct."
   ]
  },
  {
   "cell_type": "code",
   "execution_count": null,
   "id": "ccd74713",
   "metadata": {},
   "outputs": [],
   "source": [
    "answer = input('Do the analyses look correct? (yes/no)')"
   ]
  }
 ],
 "metadata": {
  "kernelspec": {
   "display_name": "Python 3",
   "language": "python",
   "name": "python3"
  },
  "language_info": {
   "codemirror_mode": {
    "name": "ipython",
    "version": 3
   },
   "file_extension": ".py",
   "mimetype": "text/x-python",
   "name": "python",
   "nbconvert_exporter": "python",
   "pygments_lexer": "ipython3",
   "version": "3.8.5"
  }
 },
 "nbformat": 4,
 "nbformat_minor": 5
}
