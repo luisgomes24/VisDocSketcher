{
 "cells": [
  {
   "cell_type": "markdown",
   "id": "dbe1587e",
   "metadata": {},
   "source": [
    "Load the dataset from a JSON file using pandas."
   ]
  },
  {
   "cell_type": "code",
   "execution_count": null,
   "id": "cdb85d60",
   "metadata": {},
   "outputs": [],
   "source": [
    "import pandas as pd\n",
    "\n",
    "dataset = pd.read_json('data.json')"
   ]
  },
  {
   "cell_type": "markdown",
   "id": "fbbb9efe",
   "metadata": {},
   "source": [
    "Extract data and labels from the loaded dataset."
   ]
  },
  {
   "cell_type": "code",
   "execution_count": null,
   "id": "e0fffbf7",
   "metadata": {},
   "outputs": [],
   "source": [
    "data = dataset['data']\n",
    "labels = dataset['labels']"
   ]
  },
  {
   "cell_type": "markdown",
   "id": "d2acaf06",
   "metadata": {},
   "source": [
    "Check and print the shape of the data."
   ]
  },
  {
   "cell_type": "code",
   "execution_count": null,
   "id": "454e2296",
   "metadata": {},
   "outputs": [],
   "source": [
    "print(data.shape)"
   ]
  },
  {
   "cell_type": "markdown",
   "id": "6ee44e05",
   "metadata": {},
   "source": [
    "Reshape the images to the required dimensions."
   ]
  },
  {
   "cell_type": "code",
   "execution_count": null,
   "id": "ff678845",
   "metadata": {},
   "outputs": [],
   "source": [
    "reshaped_images = data.reshape(-1, height, width, channels)"
   ]
  },
  {
   "cell_type": "markdown",
   "id": "f702c333",
   "metadata": {},
   "source": [
    "Display the first ship image."
   ]
  },
  {
   "cell_type": "code",
   "execution_count": null,
   "id": "1c02c9da",
   "metadata": {},
   "outputs": [],
   "source": [
    "import matplotlib.pyplot as plt\n",
    "plt.imshow(reshaped_images[0])\n",
    "plt.title('Ship Image')\n",
    "plt.show()"
   ]
  },
  {
   "cell_type": "markdown",
   "id": "7a35fc17",
   "metadata": {},
   "source": [
    "Display an image that does not contain a ship."
   ]
  },
  {
   "cell_type": "code",
   "execution_count": null,
   "id": "1dd6b0c6",
   "metadata": {},
   "outputs": [],
   "source": [
    "plt.imshow(reshaped_images[1])\n",
    "plt.title('No Ship Image')\n",
    "plt.show()"
   ]
  },
  {
   "cell_type": "markdown",
   "id": "0e837f6c",
   "metadata": {},
   "source": [
    "Task 2: Plot histogram of the mean values of the red channel."
   ]
  },
  {
   "cell_type": "code",
   "execution_count": null,
   "id": "dfdc3487",
   "metadata": {},
   "outputs": [],
   "source": [
    "import numpy as np\n",
    "r_means = np.mean(reshaped_images[..., 0], axis=(0, 1))\n",
    "plt.hist(r_means, bins=30)\n",
    "plt.title('Histogram of R Means')\n",
    "plt.show()"
   ]
  },
  {
   "cell_type": "markdown",
   "id": "72f4170c",
   "metadata": {},
   "source": [
    "Task 2: Plot histogram of the mean values of the green channel."
   ]
  },
  {
   "cell_type": "code",
   "execution_count": null,
   "id": "ab5877b2",
   "metadata": {},
   "outputs": [],
   "source": [
    "g_means = np.mean(reshaped_images[..., 1], axis=(0, 1))\n",
    "plt.hist(g_means, bins=30)\n",
    "plt.title('Histogram of G Means')\n",
    "plt.show()"
   ]
  },
  {
   "cell_type": "markdown",
   "id": "03ffb97e",
   "metadata": {},
   "source": [
    "Task 2: Plot histogram of the mean values of the blue channel."
   ]
  },
  {
   "cell_type": "code",
   "execution_count": null,
   "id": "8714d10d",
   "metadata": {},
   "outputs": [],
   "source": [
    "b_means = np.mean(reshaped_images[..., 2], axis=(0, 1))\n",
    "plt.hist(b_means, bins=30)\n",
    "plt.title('Histogram of B Means')\n",
    "plt.show()"
   ]
  },
  {
   "cell_type": "markdown",
   "id": "2c7d54b5",
   "metadata": {},
   "source": [
    "Normalize the images."
   ]
  },
  {
   "cell_type": "code",
   "execution_count": null,
   "id": "742ad77d",
   "metadata": {},
   "outputs": [],
   "source": [
    "normalized_images = (reshaped_images - np.mean(reshaped_images, axis=(0, 1))) / np.std(reshaped_images, axis=(0, 1))"
   ]
  },
  {
   "cell_type": "markdown",
   "id": "ba94cead",
   "metadata": {},
   "source": [
    "Task 3: Display histograms for the normalized red channel."
   ]
  },
  {
   "cell_type": "code",
   "execution_count": null,
   "id": "e0eb75ba",
   "metadata": {},
   "outputs": [],
   "source": [
    "plt.hist(normalized_images[..., 0].flatten(), bins=30)\n",
    "plt.title('Histogram of Normalized R')\n",
    "plt.show()"
   ]
  }
 ],
 "metadata": {
  "kernelspec": {
   "display_name": "Python 3",
   "language": "python",
   "name": "python3"
  },
  "language_info": {
   "codemirror_mode": {
    "name": "ipython",
    "version": 3
   },
   "file_extension": ".py",
   "mimetype": "text/x-python",
   "name": "python",
   "nbconvert_exporter": "python",
   "pygments_lexer": "ipython3",
   "version": "3.8.5"
  }
 },
 "nbformat": 4,
 "nbformat_minor": 5
}
