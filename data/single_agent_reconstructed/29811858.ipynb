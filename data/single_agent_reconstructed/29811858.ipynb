{
 "cells": [
  {
   "cell_type": "markdown",
   "id": "8a3696db",
   "metadata": {},
   "source": [
    "Load the dataset from a CSV file."
   ]
  },
  {
   "cell_type": "code",
   "execution_count": null,
   "id": "3d186a84",
   "metadata": {},
   "outputs": [],
   "source": [
    "import pandas as pd\n",
    "\n",
    "data = pd.read_csv('dataset.csv')"
   ]
  },
  {
   "cell_type": "markdown",
   "id": "0aed0394",
   "metadata": {},
   "source": [
    "Preview the first 5 rows of the sample commits."
   ]
  },
  {
   "cell_type": "code",
   "execution_count": null,
   "id": "d50334bb",
   "metadata": {},
   "outputs": [],
   "source": [
    "sample_commits = data.head(5)\n",
    "print(sample_commits)"
   ]
  },
  {
   "cell_type": "markdown",
   "id": "9d7de72e",
   "metadata": {},
   "source": [
    "Query the author with the most commits in 2016."
   ]
  },
  {
   "cell_type": "code",
   "execution_count": null,
   "id": "533a124a",
   "metadata": {},
   "outputs": [],
   "source": [
    "most_commits_2016 = data[data['year'] == 2016].groupby('author').size().idxmax()"
   ]
  },
  {
   "cell_type": "markdown",
   "id": "99e6e2a7",
   "metadata": {},
   "source": [
    "Load the languages table from a CSV file."
   ]
  },
  {
   "cell_type": "code",
   "execution_count": null,
   "id": "57f29ab9",
   "metadata": {},
   "outputs": [],
   "source": [
    "languages_table = pd.read_csv('languages.csv')"
   ]
  },
  {
   "cell_type": "markdown",
   "id": "be410b36",
   "metadata": {},
   "source": [
    "Preview the first 5 rows of the languages table."
   ]
  },
  {
   "cell_type": "code",
   "execution_count": null,
   "id": "af03fa2d",
   "metadata": {},
   "outputs": [],
   "source": [
    "preview_languages = languages_table.head(5)\n",
    "print(preview_languages)"
   ]
  },
  {
   "cell_type": "markdown",
   "id": "0866b3f4",
   "metadata": {},
   "source": [
    "Query the most popular programming language from the languages table."
   ]
  },
  {
   "cell_type": "code",
   "execution_count": null,
   "id": "0a8c5054",
   "metadata": {},
   "outputs": [],
   "source": [
    "most_popular_language = languages_table['language'].value_counts().idxmax()"
   ]
  },
  {
   "cell_type": "markdown",
   "id": "517faa7f",
   "metadata": {},
   "source": [
    "Query languages used in the 'polyrabbit/polyglot' repository."
   ]
  },
  {
   "cell_type": "code",
   "execution_count": null,
   "id": "ed0848ff",
   "metadata": {},
   "outputs": [],
   "source": [
    "polyglot_languages = pd.read_json('https://api.github.com/repos/polyrabbit/polyglot/languages')"
   ]
  }
 ],
 "metadata": {
  "kernelspec": {
   "display_name": "Python 3",
   "language": "python",
   "name": "python3"
  },
  "language_info": {
   "codemirror_mode": {
    "name": "ipython",
    "version": 3
   },
   "file_extension": ".py",
   "mimetype": "text/x-python",
   "name": "python",
   "nbconvert_exporter": "python",
   "pygments_lexer": "ipython3",
   "version": "3.8.5"
  }
 },
 "nbformat": 4,
 "nbformat_minor": 5
}
