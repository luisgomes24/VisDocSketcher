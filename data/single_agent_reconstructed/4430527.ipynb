{
 "cells": [
  {
   "cell_type": "markdown",
   "id": "3d2d5d94",
   "metadata": {},
   "source": [
    "Load the dataset from 'submission.csv' into a DataFrame."
   ]
  },
  {
   "cell_type": "code",
   "execution_count": null,
   "id": "b12c1bd3",
   "metadata": {},
   "outputs": [],
   "source": [
    "import pandas as pd\n",
    "df1 = pd.read_csv('submission.csv')"
   ]
  },
  {
   "cell_type": "markdown",
   "id": "673d670b",
   "metadata": {},
   "source": [
    "Preview the first five rows of the DataFrame."
   ]
  },
  {
   "cell_type": "code",
   "execution_count": null,
   "id": "b93e1e59",
   "metadata": {},
   "outputs": [],
   "source": [
    "df1.head(5)"
   ]
  },
  {
   "cell_type": "markdown",
   "id": "d9cebdd3",
   "metadata": {},
   "source": [
    "Generate distribution graphs for each column in the DataFrame."
   ]
  },
  {
   "cell_type": "code",
   "execution_count": null,
   "id": "49753179",
   "metadata": {},
   "outputs": [],
   "source": [
    "plotPerColumnDistribution(df1, 10, 5)"
   ]
  },
  {
   "cell_type": "markdown",
   "id": "3f27dd26",
   "metadata": {},
   "source": [
    "Create a correlation matrix to analyze relationships between features."
   ]
  },
  {
   "cell_type": "code",
   "execution_count": null,
   "id": "2618badc",
   "metadata": {},
   "outputs": [],
   "source": [
    "plotCorrelationMatrix(df1, 8)"
   ]
  },
  {
   "cell_type": "markdown",
   "id": "696301f1",
   "metadata": {},
   "source": [
    "Plot scatter and density plots for selected features."
   ]
  },
  {
   "cell_type": "code",
   "execution_count": null,
   "id": "ff7232d1",
   "metadata": {},
   "outputs": [],
   "source": [
    "plotScatterMatrix(df1, 6, 15)"
   ]
  }
 ],
 "metadata": {
  "kernelspec": {
   "display_name": "Python 3",
   "language": "python",
   "name": "python3"
  },
  "language_info": {
   "codemirror_mode": {
    "name": "ipython",
    "version": 3
   },
   "file_extension": ".py",
   "mimetype": "text/x-python",
   "name": "python",
   "nbconvert_exporter": "python",
   "pygments_lexer": "ipython3",
   "version": "3.8.5"
  }
 },
 "nbformat": 4,
 "nbformat_minor": 5
}
