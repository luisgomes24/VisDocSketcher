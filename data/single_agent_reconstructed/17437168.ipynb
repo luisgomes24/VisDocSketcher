{
 "cells": [
  {
   "cell_type": "markdown",
   "id": "e537d3dd",
   "metadata": {},
   "source": [
    "Load the dataset from a CSV file into a Pandas DataFrame."
   ]
  },
  {
   "cell_type": "code",
   "execution_count": null,
   "id": "027cf369",
   "metadata": {},
   "outputs": [],
   "source": [
    "import pandas as pd\n",
    "\n",
    "data = pd.read_csv('data.csv')"
   ]
  },
  {
   "cell_type": "markdown",
   "id": "e073888d",
   "metadata": {},
   "source": [
    "Use describe and info methods to summarize and understand the data."
   ]
  },
  {
   "cell_type": "code",
   "execution_count": null,
   "id": "ef93e3fe",
   "metadata": {},
   "outputs": [],
   "source": [
    "print(data.describe())\n",
    "print(data.info())"
   ]
  },
  {
   "cell_type": "markdown",
   "id": "65112a1d",
   "metadata": {},
   "source": [
    "Check for null values in each column of the DataFrame."
   ]
  },
  {
   "cell_type": "code",
   "execution_count": null,
   "id": "bb5c5172",
   "metadata": {},
   "outputs": [],
   "source": [
    "null_counts = data.isnull().sum()"
   ]
  },
  {
   "cell_type": "markdown",
   "id": "b1c35667",
   "metadata": {},
   "source": [
    "Scale the features using StandardScaler to normalize the data."
   ]
  },
  {
   "cell_type": "code",
   "execution_count": null,
   "id": "2aee90e5",
   "metadata": {},
   "outputs": [],
   "source": [
    "from sklearn.preprocessing import StandardScaler\n",
    "scaler = StandardScaler()\n",
    "data_scaled = scaler.fit_transform(data)"
   ]
  },
  {
   "cell_type": "markdown",
   "id": "2fe521e2",
   "metadata": {},
   "source": [
    "Split the scaled data into training and testing sets."
   ]
  },
  {
   "cell_type": "code",
   "execution_count": null,
   "id": "79ae42b6",
   "metadata": {},
   "outputs": [],
   "source": [
    "from sklearn.model_selection import train_test_split\n",
    "X = data_scaled[:, :-1]  # Features\n",
    "Y = data_scaled[:, -1]    # Target\n",
    "X_train, X_test, Y_train, Y_test = train_test_split(X, Y, test_size=0.2)"
   ]
  },
  {
   "cell_type": "markdown",
   "id": "5a0ad612",
   "metadata": {},
   "source": [
    "Create and train a Logistic Regression model on the training data."
   ]
  },
  {
   "cell_type": "code",
   "execution_count": null,
   "id": "df2920cd",
   "metadata": {},
   "outputs": [],
   "source": [
    "from sklearn.linear_model import LogisticRegression\n",
    "model = LogisticRegression()\n",
    "model.fit(X_train, Y_train)"
   ]
  },
  {
   "cell_type": "markdown",
   "id": "f5893008",
   "metadata": {},
   "source": [
    "Evaluate the model's accuracy using the test set."
   ]
  },
  {
   "cell_type": "code",
   "execution_count": null,
   "id": "8f7e909c",
   "metadata": {},
   "outputs": [],
   "source": [
    "from sklearn.metrics import accuracy_score\n",
    "predictions = model.predict(X_test)\n",
    "accuracy = accuracy_score(Y_test, predictions)"
   ]
  }
 ],
 "metadata": {
  "kernelspec": {
   "display_name": "Python 3",
   "language": "python",
   "name": "python3"
  },
  "language_info": {
   "codemirror_mode": {
    "name": "ipython",
    "version": 3
   },
   "file_extension": ".py",
   "mimetype": "text/x-python",
   "name": "python",
   "nbconvert_exporter": "python",
   "pygments_lexer": "ipython3",
   "version": "3.8.5"
  }
 },
 "nbformat": 4,
 "nbformat_minor": 5
}
