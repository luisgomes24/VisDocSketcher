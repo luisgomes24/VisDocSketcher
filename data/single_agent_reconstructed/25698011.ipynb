{
 "cells": [
  {
   "cell_type": "markdown",
   "id": "6ce168c3",
   "metadata": {},
   "source": [
    "Load train, test data, and sample submission using pandas."
   ]
  },
  {
   "cell_type": "code",
   "execution_count": null,
   "id": "b8cb0684",
   "metadata": {},
   "outputs": [],
   "source": [
    "import pandas as pd\n",
    "train_data = pd.read_csv('train.csv')\n",
    "test_data = pd.read_csv('test.csv')\n",
    "sample_submission = pd.read_csv('sample_submission.csv')"
   ]
  },
  {
   "cell_type": "markdown",
   "id": "4cbb4941",
   "metadata": {},
   "source": [
    "Convert time column to DateTime format for easier analysis."
   ]
  },
  {
   "cell_type": "code",
   "execution_count": null,
   "id": "3b6acf4c",
   "metadata": {},
   "outputs": [],
   "source": [
    "train_data['datetime'] = pd.to_datetime(train_data['time_column'])"
   ]
  },
  {
   "cell_type": "markdown",
   "id": "e8ac807d",
   "metadata": {},
   "source": [
    "Create day, hour, and minute features from the DateTime."
   ]
  },
  {
   "cell_type": "code",
   "execution_count": null,
   "id": "9fb8b25d",
   "metadata": {},
   "outputs": [],
   "source": [
    "train_data['day'] = train_data['datetime'].dt.day\n",
    "train_data['hour'] = train_data['datetime'].dt.hour\n",
    "train_data['minute'] = train_data['datetime'].dt.minute"
   ]
  },
  {
   "cell_type": "markdown",
   "id": "93072390",
   "metadata": {},
   "source": [
    "Calculate row-wise statistics, like the mean."
   ]
  },
  {
   "cell_type": "code",
   "execution_count": null,
   "id": "0b016c62",
   "metadata": {},
   "outputs": [],
   "source": [
    "train_data['row_stat'] = train_data.mean(axis=1)"
   ]
  },
  {
   "cell_type": "markdown",
   "id": "439568b4",
   "metadata": {},
   "source": [
    "Calculate moving medians for the target variable."
   ]
  },
  {
   "cell_type": "code",
   "execution_count": null,
   "id": "e0f0f26b",
   "metadata": {},
   "outputs": [],
   "source": [
    "train_data['moving_median'] = train_data['target'].rolling(window=3).median()"
   ]
  },
  {
   "cell_type": "markdown",
   "id": "fd838176",
   "metadata": {},
   "source": [
    "Scale the target values using StandardScaler from sklearn."
   ]
  },
  {
   "cell_type": "code",
   "execution_count": null,
   "id": "0b1ea2ce",
   "metadata": {},
   "outputs": [],
   "source": [
    "from sklearn.preprocessing import StandardScaler\n",
    "scaler = StandardScaler()\n",
    "train_data['scaled_target'] = scaler.fit_transform(train_data[['target']])"
   ]
  },
  {
   "cell_type": "markdown",
   "id": "3b6faa51",
   "metadata": {},
   "source": [
    "Combine location features into a single column."
   ]
  },
  {
   "cell_type": "code",
   "execution_count": null,
   "id": "5172ceed",
   "metadata": {},
   "outputs": [],
   "source": [
    "train_data['location_combined'] = train_data['location1'] + ', ' + train_data['location2']"
   ]
  },
  {
   "cell_type": "markdown",
   "id": "9ffafcfd",
   "metadata": {},
   "source": [
    "Create lagged features for the target variable."
   ]
  },
  {
   "cell_type": "code",
   "execution_count": null,
   "id": "56a7d8e7",
   "metadata": {},
   "outputs": [],
   "source": [
    "train_data['lagged_feature'] = train_data['target'].shift(1)"
   ]
  },
  {
   "cell_type": "markdown",
   "id": "9937b05f",
   "metadata": {},
   "source": [
    "Build a simple neural network model."
   ]
  },
  {
   "cell_type": "code",
   "execution_count": null,
   "id": "1f6bcc88",
   "metadata": {},
   "outputs": [],
   "source": [
    "from keras.models import Sequential\n",
    "from keras.layers import Dense\n",
    "model = Sequential()\n",
    "model.add(Dense(64, activation='relu', input_dim=train_data.shape[1]-1))"
   ]
  },
  {
   "cell_type": "markdown",
   "id": "13c946af",
   "metadata": {},
   "source": [
    "Compile and train the neural network model on the training data."
   ]
  },
  {
   "cell_type": "code",
   "execution_count": null,
   "id": "6deb2827",
   "metadata": {},
   "outputs": [],
   "source": [
    "model.compile(optimizer='adam', loss='mean_squared_error')\n",
    "model.fit(train_data.drop('target', axis=1), train_data['target'], epochs=10)"
   ]
  },
  {
   "cell_type": "markdown",
   "id": "fbb054ea",
   "metadata": {},
   "source": [
    "Set up hyperparameter tuning with GridSearchCV."
   ]
  },
  {
   "cell_type": "code",
   "execution_count": null,
   "id": "fbac4c5a",
   "metadata": {},
   "outputs": [],
   "source": [
    "from sklearn.model_selection import GridSearchCV\n",
    "params = {'batch_size': [10, 20], 'epochs': [10, 20]}\n",
    "grid = GridSearchCV(estimator=model, param_grid=params, scoring='neg_mean_squared_error')"
   ]
  },
  {
   "cell_type": "markdown",
   "id": "836844ab",
   "metadata": {},
   "source": [
    "Generate predictions on the test data."
   ]
  },
  {
   "cell_type": "code",
   "execution_count": null,
   "id": "969f4d4e",
   "metadata": {},
   "outputs": [],
   "source": [
    "predictions = model.predict(test_data.drop('target', axis=1))"
   ]
  },
  {
   "cell_type": "markdown",
   "id": "6fb49a1d",
   "metadata": {},
   "source": [
    "Reshape predictions to match the submission format."
   ]
  },
  {
   "cell_type": "code",
   "execution_count": null,
   "id": "3f6af1ab",
   "metadata": {},
   "outputs": [],
   "source": [
    "predictions = predictions.reshape(-1, 1)"
   ]
  },
  {
   "cell_type": "markdown",
   "id": "1716c2bb",
   "metadata": {},
   "source": [
    "Create and save the submission file with predictions."
   ]
  },
  {
   "cell_type": "code",
   "execution_count": null,
   "id": "54fef6bb",
   "metadata": {},
   "outputs": [],
   "source": [
    "submission = pd.DataFrame({'Id': test_data['Id'], 'Prediction': predictions.flatten()})\n",
    "submission.to_csv('submission.csv', index=False)"
   ]
  },
  {
   "cell_type": "markdown",
   "id": "d1a86a94",
   "metadata": {},
   "source": [
    "Evaluate the model performance using mean squared error."
   ]
  },
  {
   "cell_type": "code",
   "execution_count": null,
   "id": "433e1985",
   "metadata": {},
   "outputs": [],
   "source": [
    "from sklearn.metrics import mean_squared_error\n",
    "mse = mean_squared_error(test_data['target'], predictions)"
   ]
  },
  {
   "cell_type": "markdown",
   "id": "93e1853d",
   "metadata": {},
   "source": [
    "Validate predictions with a specific validation function."
   ]
  },
  {
   "cell_type": "code",
   "execution_count": null,
   "id": "dbb0ed8a",
   "metadata": {},
   "outputs": [],
   "source": [
    "validate_results = validations_function(predictions)"
   ]
  }
 ],
 "metadata": {
  "kernelspec": {
   "display_name": "Python 3",
   "language": "python",
   "name": "python3"
  },
  "language_info": {
   "codemirror_mode": {
    "name": "ipython",
    "version": 3
   },
   "file_extension": ".py",
   "mimetype": "text/x-python",
   "name": "python",
   "nbconvert_exporter": "python",
   "pygments_lexer": "ipython3",
   "version": "3.8.5"
  }
 },
 "nbformat": 4,
 "nbformat_minor": 5
}
