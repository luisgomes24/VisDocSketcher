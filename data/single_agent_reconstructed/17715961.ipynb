{
 "cells": [
  {
   "cell_type": "markdown",
   "id": "f0f4d453",
   "metadata": {},
   "source": [
    "Load the Iowa data from a CSV file into a pandas DataFrame."
   ]
  },
  {
   "cell_type": "code",
   "execution_count": null,
   "id": "fc4a1cb5",
   "metadata": {},
   "outputs": [],
   "source": [
    "import pandas as pd\n",
    "\n",
    "data = pd.read_csv('iowa_data.csv')"
   ]
  },
  {
   "cell_type": "markdown",
   "id": "2c005a6a",
   "metadata": {},
   "source": [
    "Generate summary statistics for the DataFrame to review data characteristics."
   ]
  },
  {
   "cell_type": "code",
   "execution_count": null,
   "id": "7c96abf3",
   "metadata": {},
   "outputs": [],
   "source": [
    "data.describe()"
   ]
  },
  {
   "cell_type": "markdown",
   "id": "338da7b9",
   "metadata": {},
   "source": [
    "Calculate the average lot size and the age of the newest home."
   ]
  },
  {
   "cell_type": "code",
   "execution_count": null,
   "id": "f16dd00f",
   "metadata": {},
   "outputs": [],
   "source": [
    "average_lot_size = data['Lot Size'].mean()\n",
    "newest_home_age = data['Home Age'].min()"
   ]
  }
 ],
 "metadata": {
  "kernelspec": {
   "display_name": "Python 3",
   "language": "python",
   "name": "python3"
  },
  "language_info": {
   "codemirror_mode": {
    "name": "ipython",
    "version": 3
   },
   "file_extension": ".py",
   "mimetype": "text/x-python",
   "name": "python",
   "nbconvert_exporter": "python",
   "pygments_lexer": "ipython3",
   "version": "3.8.5"
  }
 },
 "nbformat": 4,
 "nbformat_minor": 5
}
