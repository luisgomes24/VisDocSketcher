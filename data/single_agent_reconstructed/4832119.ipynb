{
 "cells": [
  {
   "cell_type": "markdown",
   "id": "0562e784",
   "metadata": {},
   "source": [
    "Load the Chicago Crime dataset using pandas."
   ]
  },
  {
   "cell_type": "code",
   "execution_count": null,
   "id": "2ad05b53",
   "metadata": {},
   "outputs": [],
   "source": [
    "import pandas as pd\n",
    "data = pd.read_csv('chicago_crime_dataset.csv')"
   ]
  },
  {
   "cell_type": "markdown",
   "id": "bf407af1",
   "metadata": {},
   "source": [
    "Preprocess the data by removing missing values and converting timestamps."
   ]
  },
  {
   "cell_type": "code",
   "execution_count": null,
   "id": "c72f1b47",
   "metadata": {},
   "outputs": [],
   "source": [
    "data.dropna(inplace=True)\n",
    "data['timestamp'] = pd.to_datetime(data['timestamp'])"
   ]
  },
  {
   "cell_type": "markdown",
   "id": "41148d04",
   "metadata": {},
   "source": [
    "Explore the schema of the dataset to understand its structure."
   ]
  },
  {
   "cell_type": "code",
   "execution_count": null,
   "id": "f2ee2424",
   "metadata": {},
   "outputs": [],
   "source": [
    "data.info()"
   ]
  },
  {
   "cell_type": "markdown",
   "id": "8dffdf2b",
   "metadata": {},
   "source": [
    "Visualize the spatial distribution of crimes on a map."
   ]
  },
  {
   "cell_type": "code",
   "execution_count": null,
   "id": "a57e9719",
   "metadata": {},
   "outputs": [],
   "source": [
    "import matplotlib.pyplot as plt\n",
    "plt.scatter(data['x'], data['y'])\n",
    "plt.title('Crime Map')\n",
    "plt.xlabel('X Axis')\n",
    "plt.ylabel('Y Axis')\n",
    "plt.show()"
   ]
  },
  {
   "cell_type": "markdown",
   "id": "a6ff4f0d",
   "metadata": {},
   "source": [
    "Model the data by splitting it into training and testing sets."
   ]
  },
  {
   "cell_type": "code",
   "execution_count": null,
   "id": "24c68232",
   "metadata": {},
   "outputs": [],
   "source": [
    "from sklearn.model_selection import train_test_split\n",
    "X = data[['feature1', 'feature2']]\n",
    "y = data['target']\n",
    "X_train, X_test, y_train, y_test = train_test_split(X, y, test_size=0.2)"
   ]
  },
  {
   "cell_type": "markdown",
   "id": "36ee8e65",
   "metadata": {},
   "source": [
    "Train a Random Forest classifier on the training data."
   ]
  },
  {
   "cell_type": "code",
   "execution_count": null,
   "id": "728c79d9",
   "metadata": {},
   "outputs": [],
   "source": [
    "from sklearn.ensemble import RandomForestClassifier\n",
    "model = RandomForestClassifier()\n",
    "model.fit(X_train, y_train)"
   ]
  },
  {
   "cell_type": "markdown",
   "id": "7960194f",
   "metadata": {},
   "source": [
    "Evaluate the model's performance by calculating its accuracy."
   ]
  },
  {
   "cell_type": "code",
   "execution_count": null,
   "id": "cb2bccf8",
   "metadata": {},
   "outputs": [],
   "source": [
    "from sklearn.metrics import accuracy_score\n",
    "y_pred = model.predict(X_test)\n",
    "accuracy = accuracy_score(y_test, y_pred)\n",
    "print(f'Accuracy: {accuracy}')"
   ]
  }
 ],
 "metadata": {
  "kernelspec": {
   "display_name": "Python 3",
   "language": "python",
   "name": "python3"
  },
  "language_info": {
   "codemirror_mode": {
    "name": "ipython",
    "version": 3
   },
   "file_extension": ".py",
   "mimetype": "text/x-python",
   "name": "python",
   "nbconvert_exporter": "python",
   "pygments_lexer": "ipython3",
   "version": "3.8.5"
  }
 },
 "nbformat": 4,
 "nbformat_minor": 5
}
