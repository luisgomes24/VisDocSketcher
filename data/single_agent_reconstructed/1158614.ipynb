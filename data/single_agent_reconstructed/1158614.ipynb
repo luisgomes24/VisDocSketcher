{
 "cells": [
  {
   "cell_type": "markdown",
   "id": "dbbb9a15",
   "metadata": {},
   "source": [
    "Load the necessary libraries and data from a CSV file."
   ]
  },
  {
   "cell_type": "code",
   "execution_count": null,
   "id": "feb79d38",
   "metadata": {},
   "outputs": [],
   "source": [
    "import pandas as pd\n",
    "\n",
    "data = pd.read_csv('data.csv')"
   ]
  },
  {
   "cell_type": "markdown",
   "id": "27488c8a",
   "metadata": {},
   "source": [
    "Display the first few rows of the dataset for an initial inspection."
   ]
  },
  {
   "cell_type": "code",
   "execution_count": null,
   "id": "e9017b09",
   "metadata": {},
   "outputs": [],
   "source": [
    "print(data.head())"
   ]
  },
  {
   "cell_type": "markdown",
   "id": "7773d146",
   "metadata": {},
   "source": [
    "Check for missing values by counting them in each column."
   ]
  },
  {
   "cell_type": "code",
   "execution_count": null,
   "id": "79457f44",
   "metadata": {},
   "outputs": [],
   "source": [
    "missing_values = data.isnull().sum()"
   ]
  },
  {
   "cell_type": "markdown",
   "id": "7fc338f9",
   "metadata": {},
   "source": [
    "Output the number of missing values per column."
   ]
  },
  {
   "cell_type": "code",
   "execution_count": null,
   "id": "9e68f384",
   "metadata": {},
   "outputs": [],
   "source": [
    "print(missing_values)"
   ]
  },
  {
   "cell_type": "markdown",
   "id": "2408451a",
   "metadata": {},
   "source": [
    "Calculate and display the total count of missing values in the dataset."
   ]
  },
  {
   "cell_type": "code",
   "execution_count": null,
   "id": "a08541da",
   "metadata": {},
   "outputs": [],
   "source": [
    "total_missing = missing_values.sum()\n",
    "print(f'Total missing values: {total_missing}')"
   ]
  },
  {
   "cell_type": "markdown",
   "id": "37ba053c",
   "metadata": {},
   "source": [
    "Analyze the proportion of missing data for each column to evaluate its significance."
   ]
  },
  {
   "cell_type": "code",
   "execution_count": null,
   "id": "15ab7dcb",
   "metadata": {},
   "outputs": [],
   "source": [
    "for column in data.columns:\n",
    "    print(f'{column}: {data[column].isnull().mean()}')"
   ]
  },
  {
   "cell_type": "markdown",
   "id": "34979fe6",
   "metadata": {},
   "source": [
    "Prompt user to decide on dropping rows with missing values."
   ]
  },
  {
   "cell_type": "code",
   "execution_count": null,
   "id": "79792568",
   "metadata": {},
   "outputs": [],
   "source": [
    "drop_missing = input('Drop missing values? (yes/no): ')\n",
    "if drop_missing.lower() == 'yes':\n",
    "    data = data.dropna()"
   ]
  },
  {
   "cell_type": "markdown",
   "id": "e4907cd9",
   "metadata": {},
   "source": [
    "If opting for imputation, fill missing values based on user preference (mean in this case)."
   ]
  },
  {
   "cell_type": "code",
   "execution_count": null,
   "id": "f694db5f",
   "metadata": {},
   "outputs": [],
   "source": [
    "fill_method = input('Fill missing values with mean, median, or mode? ')\n",
    "if fill_method == 'mean':\n",
    "    data.fillna(data.mean(), inplace=True)"
   ]
  }
 ],
 "metadata": {
  "kernelspec": {
   "display_name": "Python 3",
   "language": "python",
   "name": "python3"
  },
  "language_info": {
   "codemirror_mode": {
    "name": "ipython",
    "version": 3
   },
   "file_extension": ".py",
   "mimetype": "text/x-python",
   "name": "python",
   "nbconvert_exporter": "python",
   "pygments_lexer": "ipython3",
   "version": "3.8.5"
  }
 },
 "nbformat": 4,
 "nbformat_minor": 5
}
