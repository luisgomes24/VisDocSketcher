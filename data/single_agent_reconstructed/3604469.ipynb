{
 "cells": [
  {
   "cell_type": "markdown",
   "id": "7bc26a18",
   "metadata": {},
   "source": [
    "Load the dataset from a CSV file using pandas."
   ]
  },
  {
   "cell_type": "code",
   "execution_count": null,
   "id": "2d0d510d",
   "metadata": {},
   "outputs": [],
   "source": [
    "import pandas as pd\n",
    "data = pd.read_csv('data.csv')"
   ]
  },
  {
   "cell_type": "markdown",
   "id": "127b1ba3",
   "metadata": {},
   "source": [
    "Define a function to create distribution graphs for each column."
   ]
  },
  {
   "cell_type": "code",
   "execution_count": null,
   "id": "2b87b6a9",
   "metadata": {},
   "outputs": [],
   "source": [
    "def plotPerColumnDistribution(data):\n",
    "    import matplotlib.pyplot as plt\n",
    "    data.hist()\n",
    "    plt.show()"
   ]
  },
  {
   "cell_type": "markdown",
   "id": "3c4f3141",
   "metadata": {},
   "source": [
    "Define a function to plot the correlation matrix of the dataset."
   ]
  },
  {
   "cell_type": "code",
   "execution_count": null,
   "id": "cbc756b0",
   "metadata": {},
   "outputs": [],
   "source": [
    "def plotCorrelationMatrix(data):\n",
    "    import seaborn as sns\n",
    "    import matplotlib.pyplot as plt\n",
    "    correlation = data.corr()\n",
    "    sns.heatmap(correlation, annot=True)\n",
    "    plt.show()"
   ]
  },
  {
   "cell_type": "markdown",
   "id": "f3ce0f44",
   "metadata": {},
   "source": [
    "Define a function to create scatter and density plots."
   ]
  },
  {
   "cell_type": "code",
   "execution_count": null,
   "id": "e5a4bae3",
   "metadata": {},
   "outputs": [],
   "source": [
    "def plotScatterMatrix(data):\n",
    "    import pandas as pd\n",
    "    import seaborn as sns\n",
    "    import matplotlib.pyplot as plt\n",
    "    sns.pairplot(data)\n",
    "    plt.show()"
   ]
  },
  {
   "cell_type": "markdown",
   "id": "c23a24fd",
   "metadata": {},
   "source": [
    "Call the defined functions to explore and visualize the data."
   ]
  },
  {
   "cell_type": "code",
   "execution_count": null,
   "id": "98ced278",
   "metadata": {},
   "outputs": [],
   "source": [
    "plotPerColumnDistribution(data)\n",
    "plotCorrelationMatrix(data)\n",
    "plotScatterMatrix(data)"
   ]
  },
  {
   "cell_type": "markdown",
   "id": "2fb0c939",
   "metadata": {},
   "source": [
    "Print a message indicating that the analysis is complete."
   ]
  },
  {
   "cell_type": "code",
   "execution_count": null,
   "id": "31024462",
   "metadata": {},
   "outputs": [],
   "source": [
    "print('Analysis Complete')"
   ]
  }
 ],
 "metadata": {
  "kernelspec": {
   "display_name": "Python 3",
   "language": "python",
   "name": "python3"
  },
  "language_info": {
   "codemirror_mode": {
    "name": "ipython",
    "version": 3
   },
   "file_extension": ".py",
   "mimetype": "text/x-python",
   "name": "python",
   "nbconvert_exporter": "python",
   "pygments_lexer": "ipython3",
   "version": "3.8.5"
  }
 },
 "nbformat": 4,
 "nbformat_minor": 5
}
