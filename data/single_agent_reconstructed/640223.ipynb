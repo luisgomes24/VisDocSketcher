{
 "cells": [
  {
   "cell_type": "markdown",
   "id": "b3277ffe",
   "metadata": {},
   "source": [
    "Load the OpenAQ dataset using the appropriate URL."
   ]
  },
  {
   "cell_type": "code",
   "execution_count": null,
   "id": "717a88f3",
   "metadata": {},
   "outputs": [],
   "source": [
    "import pandas as pd\n",
    "\n",
    "dataset_url = 'https://openaq.org/data'# Replace with actual URL\n",
    "\n",
    "data = pd.read_json(dataset_url)"
   ]
  },
  {
   "cell_type": "markdown",
   "id": "faca2833",
   "metadata": {},
   "source": [
    "Peek at the first few rows of the dataset to understand its structure."
   ]
  },
  {
   "cell_type": "code",
   "execution_count": null,
   "id": "55ee95f0",
   "metadata": {},
   "outputs": [],
   "source": [
    "print(data.head())"
   ]
  },
  {
   "cell_type": "markdown",
   "id": "6db6968b",
   "metadata": {},
   "source": [
    "Create an SQL query to filter cities in the U.S."
   ]
  },
  {
   "cell_type": "code",
   "execution_count": null,
   "id": "fd15134d",
   "metadata": {},
   "outputs": [],
   "source": [
    "sql_query = \"SELECT * FROM dataset WHERE country = 'US'\""
   ]
  },
  {
   "cell_type": "markdown",
   "id": "1a557a5d",
   "metadata": {},
   "source": [
    "Run the SQL query on BigQuery to get the data."
   ]
  },
  {
   "cell_type": "code",
   "execution_count": null,
   "id": "4f44cf5d",
   "metadata": {},
   "outputs": [],
   "source": [
    "from google.cloud import bigquery\n",
    "\n",
    "client = bigquery.Client()\n",
    "query_job = client.query(sql_query)\n",
    "data_results = query_job.result()"
   ]
  },
  {
   "cell_type": "markdown",
   "id": "0f77b622",
   "metadata": {},
   "source": [
    "Convert the results from the query to a pandas DataFrame."
   ]
  },
  {
   "cell_type": "code",
   "execution_count": null,
   "id": "2795fc68",
   "metadata": {},
   "outputs": [],
   "source": [
    "us_cities = data_results.to_dataframe()"
   ]
  },
  {
   "cell_type": "markdown",
   "id": "7f8fed7b",
   "metadata": {},
   "source": [
    "Analyze the DataFrame to find the top 5 cities."
   ]
  },
  {
   "cell_type": "code",
   "execution_count": null,
   "id": "3b156ef4",
   "metadata": {},
   "outputs": [],
   "source": [
    "top_cities = us_cities['city'].value_counts().head(5)"
   ]
  },
  {
   "cell_type": "markdown",
   "id": "61d593c2",
   "metadata": {},
   "source": [
    "Create a query for non-PPM units."
   ]
  },
  {
   "cell_type": "code",
   "execution_count": null,
   "id": "686db581",
   "metadata": {},
   "outputs": [],
   "source": [
    "non_ppm_query = \"SELECT * FROM us_cities WHERE units != 'PPM'\""
   ]
  },
  {
   "cell_type": "markdown",
   "id": "4f3c6105",
   "metadata": {},
   "source": [
    "Create a query to find entries with zero pollutants."
   ]
  },
  {
   "cell_type": "code",
   "execution_count": null,
   "id": "b48b21af",
   "metadata": {},
   "outputs": [],
   "source": [
    "zero_pollutants_query = \"SELECT * FROM us_cities WHERE pollutants = 0\""
   ]
  }
 ],
 "metadata": {
  "kernelspec": {
   "display_name": "Python 3",
   "language": "python",
   "name": "python3"
  },
  "language_info": {
   "codemirror_mode": {
    "name": "ipython",
    "version": 3
   },
   "file_extension": ".py",
   "mimetype": "text/x-python",
   "name": "python",
   "nbconvert_exporter": "python",
   "pygments_lexer": "ipython3",
   "version": "3.8.5"
  }
 },
 "nbformat": 4,
 "nbformat_minor": 5
}
