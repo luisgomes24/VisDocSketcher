{
 "cells": [
  {
   "cell_type": "markdown",
   "id": "dd950b15",
   "metadata": {},
   "source": [
    "Load the dataset from a CSV file into a DataFrame."
   ]
  },
  {
   "cell_type": "code",
   "execution_count": null,
   "id": "bba9b3a1",
   "metadata": {},
   "outputs": [],
   "source": [
    "import pandas as pd\n",
    "df = pd.read_csv('data.csv')"
   ]
  },
  {
   "cell_type": "markdown",
   "id": "c5a36486",
   "metadata": {},
   "source": [
    "Perform data cleaning by removing any rows with missing values."
   ]
  },
  {
   "cell_type": "code",
   "execution_count": null,
   "id": "b4e9b15b",
   "metadata": {},
   "outputs": [],
   "source": [
    "df.dropna(inplace=True)"
   ]
  },
  {
   "cell_type": "markdown",
   "id": "c6b1157c",
   "metadata": {},
   "source": [
    "Create a bar plot to visualize the total causes."
   ]
  },
  {
   "cell_type": "code",
   "execution_count": null,
   "id": "44efc888",
   "metadata": {},
   "outputs": [],
   "source": [
    "df['Total Causes'].value_counts().plot(kind='bar')"
   ]
  },
  {
   "cell_type": "markdown",
   "id": "6c03a9cc",
   "metadata": {},
   "source": [
    "Generate a bar plot for causes segmented by age group."
   ]
  },
  {
   "cell_type": "code",
   "execution_count": null,
   "id": "18795dca",
   "metadata": {},
   "outputs": [],
   "source": [
    "df.groupby('Age Group')['Causes'].sum().plot(kind='bar')"
   ]
  },
  {
   "cell_type": "markdown",
   "id": "f59dfc4f",
   "metadata": {},
   "source": [
    "Create a bar plot specifically for children's causes."
   ]
  },
  {
   "cell_type": "code",
   "execution_count": null,
   "id": "f3e6d4ad",
   "metadata": {},
   "outputs": [],
   "source": [
    "df[df['Age Group'] == 'Children']['Causes'].value_counts().plot(kind='bar')"
   ]
  },
  {
   "cell_type": "markdown",
   "id": "b36cd30d",
   "metadata": {},
   "source": [
    "Visualize bar plot for elder causes."
   ]
  },
  {
   "cell_type": "code",
   "execution_count": null,
   "id": "ee698315",
   "metadata": {},
   "outputs": [],
   "source": [
    "df[df['Age Group'] == 'Elders']['Causes'].value_counts().plot(kind='bar')"
   ]
  },
  {
   "cell_type": "markdown",
   "id": "10c500a0",
   "metadata": {},
   "source": [
    "Generate a bar plot comparing causes based on gender."
   ]
  },
  {
   "cell_type": "code",
   "execution_count": null,
   "id": "483e76fd",
   "metadata": {},
   "outputs": [],
   "source": [
    "df.groupby('Gender')['Causes'].sum().plot(kind='bar')"
   ]
  },
  {
   "cell_type": "markdown",
   "id": "edcf1768",
   "metadata": {},
   "source": [
    "Create a bar plot to display yearly suicides."
   ]
  },
  {
   "cell_type": "code",
   "execution_count": null,
   "id": "6f089c97",
   "metadata": {},
   "outputs": [],
   "source": [
    "df.groupby('Year')['Suicides'].sum().plot(kind='bar')"
   ]
  },
  {
   "cell_type": "markdown",
   "id": "1a8b6733",
   "metadata": {},
   "source": [
    "Generate a bar plot to visualize state-wise data per capita."
   ]
  },
  {
   "cell_type": "code",
   "execution_count": null,
   "id": "1c15308c",
   "metadata": {},
   "outputs": [],
   "source": [
    "df.groupby('State')['Per Capita'].mean().plot(kind='bar')"
   ]
  }
 ],
 "metadata": {
  "kernelspec": {
   "display_name": "Python 3",
   "language": "python",
   "name": "python3"
  },
  "language_info": {
   "codemirror_mode": {
    "name": "ipython",
    "version": 3
   },
   "file_extension": ".py",
   "mimetype": "text/x-python",
   "name": "python",
   "nbconvert_exporter": "python",
   "pygments_lexer": "ipython3",
   "version": "3.8.5"
  }
 },
 "nbformat": 4,
 "nbformat_minor": 5
}
