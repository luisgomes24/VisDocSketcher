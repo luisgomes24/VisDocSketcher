{
 "cells": [
  {
   "cell_type": "markdown",
   "id": "a041b99e",
   "metadata": {},
   "source": [
    "Load training and test data from CSV files using pandas."
   ]
  },
  {
   "cell_type": "code",
   "execution_count": null,
   "id": "e4066678",
   "metadata": {},
   "outputs": [],
   "source": [
    "import pandas as pd\n",
    "\n",
    "train_data = pd.read_csv('/kaggle/input/Processing_time_prediction_Train_1_09_09_19.csv')\n",
    "test_data = pd.read_csv('/kaggle/input/Processing_time_prediction_Test_1_09_09_19.csv')"
   ]
  },
  {
   "cell_type": "markdown",
   "id": "096dc39b",
   "metadata": {},
   "source": [
    "Preview the first few rows of the training and test datasets."
   ]
  },
  {
   "cell_type": "code",
   "execution_count": null,
   "id": "6952db77",
   "metadata": {},
   "outputs": [],
   "source": [
    "print(train_data.head())\n",
    "print(test_data.head())"
   ]
  },
  {
   "cell_type": "markdown",
   "id": "145b32da",
   "metadata": {},
   "source": [
    "Generate distribution graphs for each column in the training dataset."
   ]
  },
  {
   "cell_type": "code",
   "execution_count": null,
   "id": "cb71d7df",
   "metadata": {},
   "outputs": [],
   "source": [
    "import matplotlib.pyplot as plt\n",
    "import seaborn as sns\n",
    "\n",
    "train_data.hist(bins=30, figsize=(15,10))\n",
    "plt.show()"
   ]
  },
  {
   "cell_type": "markdown",
   "id": "cc4677cf",
   "metadata": {},
   "source": [
    "Create a correlation matrix heatmap to visualize relationships between features."
   ]
  },
  {
   "cell_type": "code",
   "execution_count": null,
   "id": "de78d3f9",
   "metadata": {},
   "outputs": [],
   "source": [
    "correlation_matrix = train_data.corr()\n",
    "sns.heatmap(correlation_matrix, annot=True, cmap='coolwarm')\n",
    "plt.show()"
   ]
  },
  {
   "cell_type": "markdown",
   "id": "ee045f2c",
   "metadata": {},
   "source": [
    "Generate scatter and density plots using pairplot for the training data."
   ]
  },
  {
   "cell_type": "code",
   "execution_count": null,
   "id": "ab28675f",
   "metadata": {},
   "outputs": [],
   "source": [
    "sns.pairplot(train_data)\n",
    "plt.show()"
   ]
  }
 ],
 "metadata": {
  "kernelspec": {
   "display_name": "Python 3",
   "language": "python",
   "name": "python3"
  },
  "language_info": {
   "codemirror_mode": {
    "name": "ipython",
    "version": 3
   },
   "file_extension": ".py",
   "mimetype": "text/x-python",
   "name": "python",
   "nbconvert_exporter": "python",
   "pygments_lexer": "ipython3",
   "version": "3.8.5"
  }
 },
 "nbformat": 4,
 "nbformat_minor": 5
}
