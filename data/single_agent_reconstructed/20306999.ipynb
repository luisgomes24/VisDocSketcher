{
 "cells": [
  {
   "cell_type": "markdown",
   "id": "3a9673bd",
   "metadata": {},
   "source": [
    "Load data from a CSV file into a pandas DataFrame."
   ]
  },
  {
   "cell_type": "code",
   "execution_count": null,
   "id": "05ef74b3",
   "metadata": {},
   "outputs": [],
   "source": [
    "import pandas as pd\n",
    "\n",
    "df = pd.read_csv('data.csv')"
   ]
  },
  {
   "cell_type": "markdown",
   "id": "83a059f9",
   "metadata": {},
   "source": [
    "Preprocess data by removing any rows with missing values."
   ]
  },
  {
   "cell_type": "code",
   "execution_count": null,
   "id": "a4bd2653",
   "metadata": {},
   "outputs": [],
   "source": [
    "df.dropna(inplace=True)"
   ]
  },
  {
   "cell_type": "markdown",
   "id": "838cce9c",
   "metadata": {},
   "source": [
    "Fix column names by stripping whitespace, converting to lowercase, and replacing spaces with underscores."
   ]
  },
  {
   "cell_type": "code",
   "execution_count": null,
   "id": "0187e55c",
   "metadata": {},
   "outputs": [],
   "source": [
    "df.columns = df.columns.str.strip().str.lower().str.replace(' ', '_')"
   ]
  },
  {
   "cell_type": "markdown",
   "id": "13824f95",
   "metadata": {},
   "source": [
    "Process class attendance by summing attendance records grouped by class."
   ]
  },
  {
   "cell_type": "code",
   "execution_count": null,
   "id": "b12c3f35",
   "metadata": {},
   "outputs": [],
   "source": [
    "attendance_df = df.groupby('class_id')['attendance'].sum().reset_index()"
   ]
  },
  {
   "cell_type": "markdown",
   "id": "ee6dec28",
   "metadata": {},
   "source": [
    "Generate an attendance summary using descriptive statistics."
   ]
  },
  {
   "cell_type": "code",
   "execution_count": null,
   "id": "6b7ecd27",
   "metadata": {},
   "outputs": [],
   "source": [
    "attendance_summary = attendance_df.describe()"
   ]
  },
  {
   "cell_type": "markdown",
   "id": "a98c0d46",
   "metadata": {},
   "source": [
    "Save the attendance summary to an Excel file."
   ]
  },
  {
   "cell_type": "code",
   "execution_count": null,
   "id": "82bc6214",
   "metadata": {},
   "outputs": [],
   "source": [
    "attendance_summary.to_excel('attendance_summary.xlsx', index=False)"
   ]
  },
  {
   "cell_type": "markdown",
   "id": "f6a4b42e",
   "metadata": {},
   "source": [
    "Visualize attendance using a bar chart."
   ]
  },
  {
   "cell_type": "code",
   "execution_count": null,
   "id": "2a6f0ba0",
   "metadata": {},
   "outputs": [],
   "source": [
    "import matplotlib.pyplot as plt\n",
    "\n",
    "plt.bar(attendance_df['class_id'], attendance_df['attendance'])\n",
    "plt.xlabel('Class ID')\n",
    "plt.ylabel('Total Attendance')\n",
    "plt.title('Class Attendance Visualization')\n",
    "plt.show()"
   ]
  },
  {
   "cell_type": "markdown",
   "id": "8cb3d9f8",
   "metadata": {},
   "source": [
    "Analyze data by generating descriptive statistics."
   ]
  },
  {
   "cell_type": "code",
   "execution_count": null,
   "id": "5dec2b97",
   "metadata": {},
   "outputs": [],
   "source": [
    "data_analysis = df.describe()"
   ]
  },
  {
   "cell_type": "markdown",
   "id": "55804f07",
   "metadata": {},
   "source": [
    "Check data types of each column in the DataFrame."
   ]
  },
  {
   "cell_type": "code",
   "execution_count": null,
   "id": "fd62ae90",
   "metadata": {},
   "outputs": [],
   "source": [
    "print(df.dtypes)"
   ]
  }
 ],
 "metadata": {
  "kernelspec": {
   "display_name": "Python 3",
   "language": "python",
   "name": "python3"
  },
  "language_info": {
   "codemirror_mode": {
    "name": "ipython",
    "version": 3
   },
   "file_extension": ".py",
   "mimetype": "text/x-python",
   "name": "python",
   "nbconvert_exporter": "python",
   "pygments_lexer": "ipython3",
   "version": "3.8.5"
  }
 },
 "nbformat": 4,
 "nbformat_minor": 5
}
