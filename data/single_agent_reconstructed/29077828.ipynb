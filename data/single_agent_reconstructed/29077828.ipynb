{
 "cells": [
  {
   "cell_type": "markdown",
   "id": "3762eaf9",
   "metadata": {},
   "source": [
    "Load the dataset from a CSV file."
   ]
  },
  {
   "cell_type": "code",
   "execution_count": null,
   "id": "d3dda318",
   "metadata": {},
   "outputs": [],
   "source": [
    "import pandas as pd\n",
    "data = pd.read_csv('yahoo_answers.csv')"
   ]
  },
  {
   "cell_type": "markdown",
   "id": "87a396fb",
   "metadata": {},
   "source": [
    "Shuffle and split the dataset into training and testing sets."
   ]
  },
  {
   "cell_type": "code",
   "execution_count": null,
   "id": "7f11cdda",
   "metadata": {},
   "outputs": [],
   "source": [
    "from sklearn.model_selection import train_test_split\n",
    "train_data, test_data = train_test_split(data, test_size=0.2, random_state=42)"
   ]
  },
  {
   "cell_type": "markdown",
   "id": "2df14835",
   "metadata": {},
   "source": [
    "Perform preprocessing and tokenize the training texts."
   ]
  },
  {
   "cell_type": "code",
   "execution_count": null,
   "id": "c943146b",
   "metadata": {},
   "outputs": [],
   "source": [
    "from keras.preprocessing.text import Tokenizer\n",
    "tokenizer = Tokenizer()\n",
    "tokenizer.fit_on_texts(train_data['text'])"
   ]
  },
  {
   "cell_type": "markdown",
   "id": "fc4c23e6",
   "metadata": {},
   "source": [
    "Visualize the distribution of labels in the training dataset."
   ]
  },
  {
   "cell_type": "code",
   "execution_count": null,
   "id": "f86ed03b",
   "metadata": {},
   "outputs": [],
   "source": [
    "import matplotlib.pyplot as plt\n",
    "plt.hist(train_data['label'])\n",
    "plt.show()"
   ]
  },
  {
   "cell_type": "markdown",
   "id": "885ff5ec",
   "metadata": {},
   "source": [
    "Normalize and encode the labels for training."
   ]
  },
  {
   "cell_type": "code",
   "execution_count": null,
   "id": "f41b8a3d",
   "metadata": {},
   "outputs": [],
   "source": [
    "from sklearn.preprocessing import LabelEncoder\n",
    "le = LabelEncoder()\n",
    "y_train = le.fit_transform(train_data['label'])"
   ]
  },
  {
   "cell_type": "markdown",
   "id": "d54872c4",
   "metadata": {},
   "source": [
    "Prepare and define the model architecture for training."
   ]
  },
  {
   "cell_type": "code",
   "execution_count": null,
   "id": "89cf86e8",
   "metadata": {},
   "outputs": [],
   "source": [
    "from keras.models import Sequential\n",
    "from keras.layers import Dense, Embedding, LSTM\n",
    "model = Sequential()\n",
    "model.add(Embedding(input_dim=10000, output_dim=128))\n",
    "model.add(LSTM(64))\n",
    "model.add(Dense(len(le.classes_), activation='softmax'))"
   ]
  },
  {
   "cell_type": "markdown",
   "id": "26d6a27b",
   "metadata": {},
   "source": [
    "Train the model and evaluate on the test dataset."
   ]
  },
  {
   "cell_type": "code",
   "execution_count": null,
   "id": "014e0291",
   "metadata": {},
   "outputs": [],
   "source": [
    "model.compile(loss='sparse_categorical_crossentropy', optimizer='adam', metrics=['accuracy'])\n",
    "history = model.fit(X_train, y_train, epochs=10, validation_data=(X_test, y_test))"
   ]
  },
  {
   "cell_type": "markdown",
   "id": "5c791e1c",
   "metadata": {},
   "source": [
    "Save the trained model to a file."
   ]
  },
  {
   "cell_type": "code",
   "execution_count": null,
   "id": "329ad70f",
   "metadata": {},
   "outputs": [],
   "source": [
    "import joblib\n",
    "joblib.dump(model, 'model.joblib')"
   ]
  }
 ],
 "metadata": {
  "kernelspec": {
   "display_name": "Python 3",
   "language": "python",
   "name": "python3"
  },
  "language_info": {
   "codemirror_mode": {
    "name": "ipython",
    "version": 3
   },
   "file_extension": ".py",
   "mimetype": "text/x-python",
   "name": "python",
   "nbconvert_exporter": "python",
   "pygments_lexer": "ipython3",
   "version": "3.8.5"
  }
 },
 "nbformat": 4,
 "nbformat_minor": 5
}
