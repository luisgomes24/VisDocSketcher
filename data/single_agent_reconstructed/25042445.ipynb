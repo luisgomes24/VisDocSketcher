{
 "cells": [
  {
   "cell_type": "markdown",
   "id": "ece7a133",
   "metadata": {},
   "source": [
    "Load the dataset from a CSV file into a pandas DataFrame."
   ]
  },
  {
   "cell_type": "code",
   "execution_count": null,
   "id": "d925ebf8",
   "metadata": {},
   "outputs": [],
   "source": [
    "import pandas as pd\n",
    "\n",
    "data = pd.read_csv('data.csv')"
   ]
  },
  {
   "cell_type": "markdown",
   "id": "269a6a93",
   "metadata": {},
   "source": [
    "Check for null values and fill missing data with the mean of each column."
   ]
  },
  {
   "cell_type": "code",
   "execution_count": null,
   "id": "98abe3eb",
   "metadata": {},
   "outputs": [],
   "source": [
    "data.fillna(data.mean(), inplace=True)"
   ]
  },
  {
   "cell_type": "markdown",
   "id": "26ec14a6",
   "metadata": {},
   "source": [
    "Create age categories using specified bins for age ranges."
   ]
  },
  {
   "cell_type": "code",
   "execution_count": null,
   "id": "b036a190",
   "metadata": {},
   "outputs": [],
   "source": [
    "bins = [0, 20, 30, 40, 50, 60, 70, 80]\n",
    "data['Age_Cut'] = pd.cut(data['Age'], bins=bins)"
   ]
  },
  {
   "cell_type": "markdown",
   "id": "e296b47e",
   "metadata": {},
   "source": [
    "Calculate and plot frequency distribution of the age cuts."
   ]
  },
  {
   "cell_type": "code",
   "execution_count": null,
   "id": "6281060d",
   "metadata": {},
   "outputs": [],
   "source": [
    "age_cut_counts = data['Age_Cut'].value_counts()\n",
    "age_cut_counts.plot(kind='bar')"
   ]
  },
  {
   "cell_type": "markdown",
   "id": "202747d7",
   "metadata": {},
   "source": [
    "Create quantile-based age categories using predefined quantiles."
   ]
  },
  {
   "cell_type": "code",
   "execution_count": null,
   "id": "1adfd4f2",
   "metadata": {},
   "outputs": [],
   "source": [
    "qcut_bins = pd.qcut(data['Age'], 5)\n",
    "data['Age_QCut'] = qcut_bins"
   ]
  },
  {
   "cell_type": "markdown",
   "id": "02c585fa",
   "metadata": {},
   "source": [
    "Calculate and plot frequency distribution of the age quantile cuts."
   ]
  },
  {
   "cell_type": "code",
   "execution_count": null,
   "id": "e42eceb8",
   "metadata": {},
   "outputs": [],
   "source": [
    "age_qcut_counts = data['Age_QCut'].value_counts()\n",
    "age_qcut_counts.plot(kind='bar')"
   ]
  },
  {
   "cell_type": "markdown",
   "id": "669caa7a",
   "metadata": {},
   "source": [
    "Define a function to categorize ages into groups and apply it to the dataset."
   ]
  },
  {
   "cell_type": "code",
   "execution_count": null,
   "id": "0ddf6151",
   "metadata": {},
   "outputs": [],
   "source": [
    "def age_group_function(age):\n",
    "    if age < 20:\n",
    "        return 'Teen'\n",
    "    elif age < 30:\n",
    "        return 'Young Adult'\n",
    "    elif age < 40:\n",
    "        return 'Adult'\n",
    "    else:\n",
    "        return 'Senior'\n",
    "data['Age_Group'] = data['Age'].apply(age_group_function)"
   ]
  },
  {
   "cell_type": "markdown",
   "id": "af456ee5",
   "metadata": {},
   "source": [
    "Calculate and plot frequency distribution of age groups."
   ]
  },
  {
   "cell_type": "code",
   "execution_count": null,
   "id": "a424ac77",
   "metadata": {},
   "outputs": [],
   "source": [
    "age_group_counts = data['Age_Group'].value_counts()\n",
    "age_group_counts.plot(kind='bar')"
   ]
  }
 ],
 "metadata": {
  "kernelspec": {
   "display_name": "Python 3",
   "language": "python",
   "name": "python3"
  },
  "language_info": {
   "codemirror_mode": {
    "name": "ipython",
    "version": 3
   },
   "file_extension": ".py",
   "mimetype": "text/x-python",
   "name": "python",
   "nbconvert_exporter": "python",
   "pygments_lexer": "ipython3",
   "version": "3.8.5"
  }
 },
 "nbformat": 4,
 "nbformat_minor": 5
}
