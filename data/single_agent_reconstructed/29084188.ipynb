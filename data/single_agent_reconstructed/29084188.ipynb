{
 "cells": [
  {
   "cell_type": "markdown",
   "id": "1238b8fa",
   "metadata": {},
   "source": [
    "Initialize a list and a tuple with sample data."
   ]
  },
  {
   "cell_type": "code",
   "execution_count": null,
   "id": "a1773b11",
   "metadata": {},
   "outputs": [],
   "source": [
    "# Data Initialization\n",
    "list_data = [1, 2, 3]\n",
    "tuple_data = (1, 2, 3)"
   ]
  },
  {
   "cell_type": "markdown",
   "id": "53a59412",
   "metadata": {},
   "source": [
    "Check the data types of the list and tuple."
   ]
  },
  {
   "cell_type": "code",
   "execution_count": null,
   "id": "3c537736",
   "metadata": {},
   "outputs": [],
   "source": [
    "# List and Tuple Basics\n",
    "print(type(list_data), type(tuple_data))"
   ]
  },
  {
   "cell_type": "markdown",
   "id": "a10136d4",
   "metadata": {},
   "source": [
    "Create a new list and tuple."
   ]
  },
  {
   "cell_type": "code",
   "execution_count": null,
   "id": "3b24bcfd",
   "metadata": {},
   "outputs": [],
   "source": [
    "# Create Lists and Tuples\n",
    "my_list = [1, 2, 3, 4]\n",
    "my_tuple = (5, 6, 7, 8)"
   ]
  },
  {
   "cell_type": "markdown",
   "id": "38856f40",
   "metadata": {},
   "source": [
    "Access the first item in the list using indexing."
   ]
  },
  {
   "cell_type": "code",
   "execution_count": null,
   "id": "b14795b0",
   "metadata": {},
   "outputs": [],
   "source": [
    "# List Indexing\n",
    "first_item = my_list[0]"
   ]
  },
  {
   "cell_type": "markdown",
   "id": "89b3faa0",
   "metadata": {},
   "source": [
    "Access a slice of the list from index 1 to 3."
   ]
  },
  {
   "cell_type": "code",
   "execution_count": null,
   "id": "7b58b185",
   "metadata": {},
   "outputs": [],
   "source": [
    "# List Access\n",
    "access_slice = my_list[1:3]"
   ]
  },
  {
   "cell_type": "markdown",
   "id": "58a54e8e",
   "metadata": {},
   "source": [
    "Get the first two items from the list using slicing."
   ]
  },
  {
   "cell_type": "code",
   "execution_count": null,
   "id": "4fbe51f9",
   "metadata": {},
   "outputs": [],
   "source": [
    "# List Slicing\n",
    "slice_data = my_list[:2]"
   ]
  },
  {
   "cell_type": "markdown",
   "id": "35e91ce1",
   "metadata": {},
   "source": [
    "Use the append() function to add an item to the list."
   ]
  },
  {
   "cell_type": "code",
   "execution_count": null,
   "id": "b9a6e4ed",
   "metadata": {},
   "outputs": [],
   "source": [
    "# List Member Functions\n",
    "my_list.append(5)"
   ]
  },
  {
   "cell_type": "markdown",
   "id": "9d9762a4",
   "metadata": {},
   "source": [
    "Use extend() to add multiple items to the list."
   ]
  },
  {
   "cell_type": "code",
   "execution_count": null,
   "id": "329b4d85",
   "metadata": {},
   "outputs": [],
   "source": [
    "# extend() Function\n",
    "my_list.extend([6, 7])"
   ]
  },
  {
   "cell_type": "markdown",
   "id": "d0c40bd8",
   "metadata": {},
   "source": [
    "Insert an item at a specific index in the list."
   ]
  },
  {
   "cell_type": "code",
   "execution_count": null,
   "id": "4bfdcd6e",
   "metadata": {},
   "outputs": [],
   "source": [
    "# insert() Function\n",
    "my_list.insert(0, 0)"
   ]
  },
  {
   "cell_type": "markdown",
   "id": "7a804280",
   "metadata": {},
   "source": [
    "Remove an item from the list by value."
   ]
  },
  {
   "cell_type": "code",
   "execution_count": null,
   "id": "cd807158",
   "metadata": {},
   "outputs": [],
   "source": [
    "# remove() Function\n",
    "my_list.remove(3)"
   ]
  },
  {
   "cell_type": "markdown",
   "id": "f6557f92",
   "metadata": {},
   "source": [
    "Remove and return the last item from the list."
   ]
  },
  {
   "cell_type": "code",
   "execution_count": null,
   "id": "f97a5aaa",
   "metadata": {},
   "outputs": [],
   "source": [
    "# pop() Function\n",
    "last_item = my_list.pop()"
   ]
  },
  {
   "cell_type": "markdown",
   "id": "030e9ba8",
   "metadata": {},
   "source": [
    "Get the index of the first occurrence of a value."
   ]
  },
  {
   "cell_type": "code",
   "execution_count": null,
   "id": "ba721b33",
   "metadata": {},
   "outputs": [],
   "source": [
    "# index() Function\n",
    "index_of_two = my_list.index(2)"
   ]
  },
  {
   "cell_type": "markdown",
   "id": "a9caf52b",
   "metadata": {},
   "source": [
    "Check if a value is in the list using 'in' keyword."
   ]
  },
  {
   "cell_type": "code",
   "execution_count": null,
   "id": "5262cae7",
   "metadata": {},
   "outputs": [],
   "source": [
    "# in Keyword\n",
    "is_five_in_list = 5 in my_list"
   ]
  },
  {
   "cell_type": "markdown",
   "id": "a61e5efb",
   "metadata": {},
   "source": [
    "Sort the list in ascending order."
   ]
  },
  {
   "cell_type": "code",
   "execution_count": null,
   "id": "0f387a21",
   "metadata": {},
   "outputs": [],
   "source": [
    "# Sorting\n",
    "sorted_list = sorted(my_list)"
   ]
  },
  {
   "cell_type": "markdown",
   "id": "81abf783",
   "metadata": {},
   "source": [
    "Display the contents of the tuple."
   ]
  },
  {
   "cell_type": "code",
   "execution_count": null,
   "id": "21d534c6",
   "metadata": {},
   "outputs": [],
   "source": [
    "# Tuple Overview\n",
    "print(my_tuple)"
   ]
  },
  {
   "cell_type": "markdown",
   "id": "1c395ea3",
   "metadata": {},
   "source": [
    "Unpack the values of the tuple into variables."
   ]
  },
  {
   "cell_type": "code",
   "execution_count": null,
   "id": "33f8872a",
   "metadata": {},
   "outputs": [],
   "source": [
    "# Tuple Unpacking\n",
    "a, b, c = my_tuple"
   ]
  },
  {
   "cell_type": "markdown",
   "id": "92e5ebd4",
   "metadata": {},
   "source": [
    "Swap the values of two variables."
   ]
  },
  {
   "cell_type": "code",
   "execution_count": null,
   "id": "fd21ad52",
   "metadata": {},
   "outputs": [],
   "source": [
    "# Exercise: Swap Values\n",
    "a, b = 5, 10\n",
    "a, b = b, a"
   ]
  }
 ],
 "metadata": {
  "kernelspec": {
   "display_name": "Python 3",
   "language": "python",
   "name": "python3"
  },
  "language_info": {
   "codemirror_mode": {
    "name": "ipython",
    "version": 3
   },
   "file_extension": ".py",
   "mimetype": "text/x-python",
   "name": "python",
   "nbconvert_exporter": "python",
   "pygments_lexer": "ipython3",
   "version": "3.8.5"
  }
 },
 "nbformat": 4,
 "nbformat_minor": 5
}
