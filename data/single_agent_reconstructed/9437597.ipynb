{
 "cells": [
  {
   "cell_type": "markdown",
   "id": "714fe1f4",
   "metadata": {},
   "source": [
    "Load the training data from a specified directory using ImageDataGenerator."
   ]
  },
  {
   "cell_type": "code",
   "execution_count": null,
   "id": "a7c4d0e0",
   "metadata": {},
   "outputs": [],
   "source": [
    "import os\n",
    "from tensorflow.keras.preprocessing.image import ImageDataGenerator\n",
    "\n",
    "train_dir = 'path/to/train/data'\n",
    "data_gen = ImageDataGenerator()\n",
    "train_data = data_gen.flow_from_directory(train_dir)"
   ]
  },
  {
   "cell_type": "markdown",
   "id": "ec16db71",
   "metadata": {},
   "source": [
    "Specify the model architecture using ResNet50 as the base model with a Flatten layer and a Dense output layer."
   ]
  },
  {
   "cell_type": "code",
   "execution_count": null,
   "id": "c90c17a8",
   "metadata": {},
   "outputs": [],
   "source": [
    "from tensorflow.keras.applications import ResNet50\n",
    "from tensorflow.keras.models import Sequential\n",
    "from tensorflow.keras.layers import Dense, Flatten\n",
    "\n",
    "base_model = ResNet50(include_top=False, input_shape=(224, 224, 3))\n",
    "model = Sequential([base_model, Flatten(), Dense(1, activation='sigmoid')])"
   ]
  },
  {
   "cell_type": "markdown",
   "id": "ecef460e",
   "metadata": {},
   "source": [
    "Compile the model with Adam optimizer, binary cross-entropy loss, and accuracy as the metric."
   ]
  },
  {
   "cell_type": "code",
   "execution_count": null,
   "id": "044b6379",
   "metadata": {},
   "outputs": [],
   "source": [
    "model.compile(optimizer='adam', loss='binary_crossentropy', metrics=['accuracy'])"
   ]
  },
  {
   "cell_type": "markdown",
   "id": "318d06c3",
   "metadata": {},
   "source": [
    "Fit the model on the training data and validate on the validation set, tracking training history."
   ]
  },
  {
   "cell_type": "code",
   "execution_count": null,
   "id": "e48e90fb",
   "metadata": {},
   "outputs": [],
   "source": [
    "history = model.fit(train_data, epochs=10, validation_data=validation_data)"
   ]
  },
  {
   "cell_type": "markdown",
   "id": "9aa71f47",
   "metadata": {},
   "source": [
    "Evaluate the model using the validation data to obtain loss and accuracy metrics."
   ]
  },
  {
   "cell_type": "code",
   "execution_count": null,
   "id": "61d0232a",
   "metadata": {},
   "outputs": [],
   "source": [
    "loss, accuracy = model.evaluate(validation_data)"
   ]
  }
 ],
 "metadata": {
  "kernelspec": {
   "display_name": "Python 3",
   "language": "python",
   "name": "python3"
  },
  "language_info": {
   "codemirror_mode": {
    "name": "ipython",
    "version": 3
   },
   "file_extension": ".py",
   "mimetype": "text/x-python",
   "name": "python",
   "nbconvert_exporter": "python",
   "pygments_lexer": "ipython3",
   "version": "3.8.5"
  }
 },
 "nbformat": 4,
 "nbformat_minor": 5
}
