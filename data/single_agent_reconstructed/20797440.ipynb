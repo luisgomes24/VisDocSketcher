{
 "cells": [
  {
   "cell_type": "markdown",
   "id": "bb1b6ded",
   "metadata": {},
   "source": [
    "Load the dataset from a CSV file into a pandas DataFrame."
   ]
  },
  {
   "cell_type": "code",
   "execution_count": null,
   "id": "e9d6b64f",
   "metadata": {},
   "outputs": [],
   "source": [
    "import pandas as pd\n",
    "\n",
    "df = pd.read_csv('data.csv')"
   ]
  },
  {
   "cell_type": "markdown",
   "id": "6b02a207",
   "metadata": {},
   "source": [
    "Inspect the first few rows of the dataset."
   ]
  },
  {
   "cell_type": "code",
   "execution_count": null,
   "id": "9ee309ab",
   "metadata": {},
   "outputs": [],
   "source": [
    "df.head()"
   ]
  },
  {
   "cell_type": "markdown",
   "id": "24479abf",
   "metadata": {},
   "source": [
    "Check for and count the number of duplicate rows in the DataFrame."
   ]
  },
  {
   "cell_type": "code",
   "execution_count": null,
   "id": "5970d8ef",
   "metadata": {},
   "outputs": [],
   "source": [
    "duplicates = df.duplicated().sum()"
   ]
  },
  {
   "cell_type": "markdown",
   "id": "f0dc169a",
   "metadata": {},
   "source": [
    "Display information about the DataFrame, including column types and non-null counts."
   ]
  },
  {
   "cell_type": "code",
   "execution_count": null,
   "id": "4f68113f",
   "metadata": {},
   "outputs": [],
   "source": [
    "df.info()"
   ]
  },
  {
   "cell_type": "markdown",
   "id": "f566ce37",
   "metadata": {},
   "source": [
    "Perform a correlation analysis to find relationships between numerical features."
   ]
  },
  {
   "cell_type": "code",
   "execution_count": null,
   "id": "0677baab",
   "metadata": {},
   "outputs": [],
   "source": [
    "correlation = df.corr()"
   ]
  },
  {
   "cell_type": "markdown",
   "id": "7498e82d",
   "metadata": {},
   "source": [
    "Count the number of unique values in each column of the DataFrame."
   ]
  },
  {
   "cell_type": "code",
   "execution_count": null,
   "id": "886f0a2e",
   "metadata": {},
   "outputs": [],
   "source": [
    "unique_values = df.nunique()"
   ]
  },
  {
   "cell_type": "markdown",
   "id": "fc638fe2",
   "metadata": {},
   "source": [
    "Visualize the unique values in the 'Category' column using a count plot."
   ]
  },
  {
   "cell_type": "code",
   "execution_count": null,
   "id": "cc202c87",
   "metadata": {},
   "outputs": [],
   "source": [
    "import matplotlib.pyplot as plt\n",
    "import seaborn as sns\n",
    "sns.countplot(x='Category', data=df)\n",
    "plt.show()"
   ]
  },
  {
   "cell_type": "markdown",
   "id": "a2225d22",
   "metadata": {},
   "source": [
    "Select the best features from the DataFrame based on ANOVA F-value."
   ]
  },
  {
   "cell_type": "code",
   "execution_count": null,
   "id": "79055186",
   "metadata": {},
   "outputs": [],
   "source": [
    "from sklearn.feature_selection import SelectKBest, f_classif\n",
    "X = df.drop('target', axis=1)\n",
    "y = df['target']\n",
    "selector = SelectKBest(score_func=f_classif, k='all')\n",
    "selector.fit(X, y)\n",
    "selected_features = selector.get_support(indices=True)"
   ]
  },
  {
   "cell_type": "markdown",
   "id": "8d3a9338",
   "metadata": {},
   "source": [
    "Train a Random Forest model using the selected features."
   ]
  },
  {
   "cell_type": "code",
   "execution_count": null,
   "id": "42aecbb5",
   "metadata": {},
   "outputs": [],
   "source": [
    "from sklearn.model_selection import train_test_split\n",
    "from sklearn.ensemble import RandomForestClassifier\n",
    "X_train, X_test, y_train, y_test = train_test_split(X, y, test_size=0.2, random_state=42)\n",
    "model = RandomForestClassifier()\n",
    "model.fit(X_train, y_train)"
   ]
  },
  {
   "cell_type": "markdown",
   "id": "738f1b0b",
   "metadata": {},
   "source": [
    "Evaluate the model's performance by calculating the accuracy."
   ]
  },
  {
   "cell_type": "code",
   "execution_count": null,
   "id": "de7c5fe2",
   "metadata": {},
   "outputs": [],
   "source": [
    "from sklearn.metrics import accuracy_score\n",
    "y_pred = model.predict(X_test)\n",
    "accuracy = accuracy_score(y_test, y_pred)"
   ]
  },
  {
   "cell_type": "markdown",
   "id": "9ddd07e2",
   "metadata": {},
   "source": [
    "Visualize the predictions against one of the feature dimensions."
   ]
  },
  {
   "cell_type": "code",
   "execution_count": null,
   "id": "96826e90",
   "metadata": {},
   "outputs": [],
   "source": [
    "plt.scatter(X_test['feature1'], y_pred)\n",
    "plt.xlabel('Feature 1')\n",
    "plt.ylabel('Predictions')\n",
    "plt.title('Predictions vs Feature 1')\n",
    "plt.show()"
   ]
  }
 ],
 "metadata": {
  "kernelspec": {
   "display_name": "Python 3",
   "language": "python",
   "name": "python3"
  },
  "language_info": {
   "codemirror_mode": {
    "name": "ipython",
    "version": 3
   },
   "file_extension": ".py",
   "mimetype": "text/x-python",
   "name": "python",
   "nbconvert_exporter": "python",
   "pygments_lexer": "ipython3",
   "version": "3.8.5"
  }
 },
 "nbformat": 4,
 "nbformat_minor": 5
}
