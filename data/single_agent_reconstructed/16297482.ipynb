{
 "cells": [
  {
   "cell_type": "markdown",
   "id": "3e400199",
   "metadata": {},
   "source": [
    "Load data from a CSV file into a DataFrame."
   ]
  },
  {
   "cell_type": "code",
   "execution_count": null,
   "id": "67b80e22",
   "metadata": {},
   "outputs": [],
   "source": [
    "import pandas as pd\n",
    "df = pd.read_csv('path/to/your/file.csv')"
   ]
  },
  {
   "cell_type": "markdown",
   "id": "87a2aea3",
   "metadata": {},
   "source": [
    "Preview the first few rows of the DataFrame."
   ]
  },
  {
   "cell_type": "code",
   "execution_count": null,
   "id": "f18ebb0d",
   "metadata": {},
   "outputs": [],
   "source": [
    "df.head()"
   ]
  },
  {
   "cell_type": "markdown",
   "id": "09b8c07d",
   "metadata": {},
   "source": [
    "Extract unique items from the 'itemDescription' column."
   ]
  },
  {
   "cell_type": "code",
   "execution_count": null,
   "id": "f09ef93e",
   "metadata": {},
   "outputs": [],
   "source": [
    "items = df['itemDescription'].unique()"
   ]
  },
  {
   "cell_type": "markdown",
   "id": "fac1e319",
   "metadata": {},
   "source": [
    "Group the DataFrame by 'itemDescription' and calculate the sum."
   ]
  },
  {
   "cell_type": "code",
   "execution_count": null,
   "id": "89a3cfa5",
   "metadata": {},
   "outputs": [],
   "source": [
    "df_grouped = df.groupby('itemDescription').sum()"
   ]
  },
  {
   "cell_type": "markdown",
   "id": "37764fd0",
   "metadata": {},
   "source": [
    "Create a new DataFrame from the grouped data."
   ]
  },
  {
   "cell_type": "code",
   "execution_count": null,
   "id": "7b35f89a",
   "metadata": {},
   "outputs": [],
   "source": [
    "df_grouped_df = pd.DataFrame(df_grouped)"
   ]
  },
  {
   "cell_type": "markdown",
   "id": "088e4ffb",
   "metadata": {},
   "source": [
    "Count the number of unique customers based on 'Member_number'."
   ]
  },
  {
   "cell_type": "code",
   "execution_count": null,
   "id": "e293260c",
   "metadata": {},
   "outputs": [],
   "source": [
    "unique_customers = len(df['Member_number'].unique())"
   ]
  }
 ],
 "metadata": {
  "kernelspec": {
   "display_name": "Python 3",
   "language": "python",
   "name": "python3"
  },
  "language_info": {
   "codemirror_mode": {
    "name": "ipython",
    "version": 3
   },
   "file_extension": ".py",
   "mimetype": "text/x-python",
   "name": "python",
   "nbconvert_exporter": "python",
   "pygments_lexer": "ipython3",
   "version": "3.8.5"
  }
 },
 "nbformat": 4,
 "nbformat_minor": 5
}
