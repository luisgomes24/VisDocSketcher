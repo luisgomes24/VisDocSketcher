{
 "cells": [
  {
   "cell_type": "markdown",
   "id": "6587bdb4",
   "metadata": {},
   "source": [
    "Import the training and testing datasets using pandas."
   ]
  },
  {
   "cell_type": "code",
   "execution_count": null,
   "id": "1fbbc48c",
   "metadata": {},
   "outputs": [],
   "source": [
    "import pandas as pd\n",
    "\n",
    "df_train = pd.read_csv('train.csv')\n",
    "df_test = pd.read_csv('test.csv')"
   ]
  },
  {
   "cell_type": "markdown",
   "id": "fe071e59",
   "metadata": {},
   "source": [
    "Check the number of rows and columns in the train and test sets."
   ]
  },
  {
   "cell_type": "code",
   "execution_count": null,
   "id": "47593df3",
   "metadata": {},
   "outputs": [],
   "source": [
    "print(df_train.shape, df_test.shape)"
   ]
  },
  {
   "cell_type": "markdown",
   "id": "593d10c3",
   "metadata": {},
   "source": [
    "Check the column names and data types of the datasets."
   ]
  },
  {
   "cell_type": "code",
   "execution_count": null,
   "id": "b7cb1cbf",
   "metadata": {},
   "outputs": [],
   "source": [
    "print(df_train.dtypes, df_test.dtypes)"
   ]
  },
  {
   "cell_type": "markdown",
   "id": "25ad23a9",
   "metadata": {},
   "source": [
    "Check for missing values in each column of the datasets."
   ]
  },
  {
   "cell_type": "code",
   "execution_count": null,
   "id": "cc8e1570",
   "metadata": {},
   "outputs": [],
   "source": [
    "print(df_train.isnull().sum(), df_test.isnull().sum())"
   ]
  },
  {
   "cell_type": "markdown",
   "id": "c2ddbd25",
   "metadata": {},
   "source": [
    "Treat missing values by filling with the mean."
   ]
  },
  {
   "cell_type": "code",
   "execution_count": null,
   "id": "45122e08",
   "metadata": {},
   "outputs": [],
   "source": [
    "df_train.fillna(df_train.mean(), inplace=True)\n",
    "df_test.fillna(df_test.mean(), inplace=True)"
   ]
  },
  {
   "cell_type": "markdown",
   "id": "3c63cea0",
   "metadata": {},
   "source": [
    "Perform one-hot encoding on categorical variables."
   ]
  },
  {
   "cell_type": "code",
   "execution_count": null,
   "id": "9c01b9a8",
   "metadata": {},
   "outputs": [],
   "source": [
    "df_train = pd.get_dummies(df_train)\n",
    "df_test = pd.get_dummies(df_test)"
   ]
  },
  {
   "cell_type": "markdown",
   "id": "89723902",
   "metadata": {},
   "source": [
    "Apply standard scaling to normalize the dataset."
   ]
  },
  {
   "cell_type": "code",
   "execution_count": null,
   "id": "3c9a7711",
   "metadata": {},
   "outputs": [],
   "source": [
    "from sklearn.preprocessing import StandardScaler\n",
    "scaler = StandardScaler()\n",
    "df_train_scaled = scaler.fit_transform(df_train)\n",
    "df_test_scaled = scaler.transform(df_test)"
   ]
  },
  {
   "cell_type": "markdown",
   "id": "80cfedf2",
   "metadata": {},
   "source": [
    "Combine the features and target into separate arrays."
   ]
  },
  {
   "cell_type": "code",
   "execution_count": null,
   "id": "5adcedd3",
   "metadata": {},
   "outputs": [],
   "source": [
    "import numpy as np\n",
    "X = df_train_scaled[:, :-1]\n",
    "y = df_train_scaled[:, -1]"
   ]
  },
  {
   "cell_type": "markdown",
   "id": "d761d454",
   "metadata": {},
   "source": [
    "Split the data into training and validation sets."
   ]
  },
  {
   "cell_type": "code",
   "execution_count": null,
   "id": "2c7fd637",
   "metadata": {},
   "outputs": [],
   "source": [
    "from sklearn.model_selection import train_test_split\n",
    "X_train, X_val, y_train, y_val = train_test_split(X, y, test_size=0.2, random_state=42)"
   ]
  },
  {
   "cell_type": "markdown",
   "id": "f56378bf",
   "metadata": {},
   "source": [
    "Apply logistic regression to train the model."
   ]
  },
  {
   "cell_type": "code",
   "execution_count": null,
   "id": "5c9b4fba",
   "metadata": {},
   "outputs": [],
   "source": [
    "from sklearn.linear_model import LogisticRegression\n",
    "model = LogisticRegression()\n",
    "model.fit(X_train, y_train)"
   ]
  },
  {
   "cell_type": "markdown",
   "id": "c4286391",
   "metadata": {},
   "source": [
    "Evaluate the model's accuracy on the validation set."
   ]
  },
  {
   "cell_type": "code",
   "execution_count": null,
   "id": "083dcacd",
   "metadata": {},
   "outputs": [],
   "source": [
    "from sklearn.metrics import accuracy_score\n",
    "predictions = model.predict(X_val)\n",
    "accuracy = accuracy_score(y_val, predictions)"
   ]
  },
  {
   "cell_type": "markdown",
   "id": "ea8e7af5",
   "metadata": {},
   "source": [
    "Visualize the confusion matrix to understand the model's performance."
   ]
  },
  {
   "cell_type": "code",
   "execution_count": null,
   "id": "6a3abea3",
   "metadata": {},
   "outputs": [],
   "source": [
    "from sklearn.metrics import confusion_matrix\n",
    "import seaborn as sns\n",
    "import matplotlib.pyplot as plt\n",
    "cm = confusion_matrix(y_val, predictions)\n",
    "sns.heatmap(cm, annot=True)\n",
    "plt.show()"
   ]
  },
  {
   "cell_type": "markdown",
   "id": "9a89e3b5",
   "metadata": {},
   "source": [
    "Apply the trained model to the test set for predictions."
   ]
  },
  {
   "cell_type": "code",
   "execution_count": null,
   "id": "96e4f8c8",
   "metadata": {},
   "outputs": [],
   "source": [
    "final_predictions = model.predict(scaler.transform(df_test))"
   ]
  },
  {
   "cell_type": "markdown",
   "id": "0b52d3d0",
   "metadata": {},
   "source": [
    "Export the predictions to a CSV file."
   ]
  },
  {
   "cell_type": "code",
   "execution_count": null,
   "id": "20138c00",
   "metadata": {},
   "outputs": [],
   "source": [
    "pd.DataFrame(final_predictions, columns=['Predictions']).to_csv('predictions.csv', index=False)"
   ]
  }
 ],
 "metadata": {
  "kernelspec": {
   "display_name": "Python 3",
   "language": "python",
   "name": "python3"
  },
  "language_info": {
   "codemirror_mode": {
    "name": "ipython",
    "version": 3
   },
   "file_extension": ".py",
   "mimetype": "text/x-python",
   "name": "python",
   "nbconvert_exporter": "python",
   "pygments_lexer": "ipython3",
   "version": "3.8.5"
  }
 },
 "nbformat": 4,
 "nbformat_minor": 5
}
