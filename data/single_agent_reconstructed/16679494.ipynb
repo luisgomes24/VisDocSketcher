{
 "cells": [
  {
   "cell_type": "markdown",
   "id": "59e200c0",
   "metadata": {},
   "source": [
    "Load data from a CSV file using pandas."
   ]
  },
  {
   "cell_type": "code",
   "execution_count": null,
   "id": "33a4fd71",
   "metadata": {},
   "outputs": [],
   "source": [
    "import pandas as pd\n",
    "data = pd.read_csv('data.csv')"
   ]
  },
  {
   "cell_type": "markdown",
   "id": "e007f1bc",
   "metadata": {},
   "source": [
    "View the training data by sampling 80% of the dataset."
   ]
  },
  {
   "cell_type": "code",
   "execution_count": null,
   "id": "e0fdcf86",
   "metadata": {},
   "outputs": [],
   "source": [
    "train_data = data.sample(frac=0.8, random_state=42)\n",
    "train_data"
   ]
  },
  {
   "cell_type": "markdown",
   "id": "5a892a3c",
   "metadata": {},
   "source": [
    "View the test data by dropping the training data from the full dataset."
   ]
  },
  {
   "cell_type": "code",
   "execution_count": null,
   "id": "4dd2e0f0",
   "metadata": {},
   "outputs": [],
   "source": [
    "test_data = data.drop(train_data.index)\n",
    "test_data"
   ]
  },
  {
   "cell_type": "markdown",
   "id": "6683c099",
   "metadata": {},
   "source": [
    "Transform and view selected sensor data from the training dataset."
   ]
  },
  {
   "cell_type": "code",
   "execution_count": null,
   "id": "d59a4e32",
   "metadata": {},
   "outputs": [],
   "source": [
    "sensor_data = train_data[['sensor1', 'sensor2']]\n",
    "sensor_data"
   ]
  },
  {
   "cell_type": "markdown",
   "id": "94aa764c",
   "metadata": {},
   "source": [
    "Encode categorical target variables using LabelEncoder."
   ]
  },
  {
   "cell_type": "code",
   "execution_count": null,
   "id": "dd073d3b",
   "metadata": {},
   "outputs": [],
   "source": [
    "from sklearn.preprocessing import LabelEncoder\n",
    "label_encoder = LabelEncoder()\n",
    "encoded_targets = label_encoder.fit_transform(train_data['target'])"
   ]
  },
  {
   "cell_type": "markdown",
   "id": "cfa70dff",
   "metadata": {},
   "source": [
    "Set up data augmentation using Keras ImageDataGenerator for training images."
   ]
  },
  {
   "cell_type": "code",
   "execution_count": null,
   "id": "98adab43",
   "metadata": {},
   "outputs": [],
   "source": [
    "from keras.preprocessing.image import ImageDataGenerator\n",
    "datagen = ImageDataGenerator(rotation_range=40, width_shift_range=0.2, height_shift_range=0.2, shear_range=0.2, zoom_range=0.2, horizontal_flip=True)"
   ]
  },
  {
   "cell_type": "markdown",
   "id": "389d727d",
   "metadata": {},
   "source": [
    "Create a data generator for training images from a specified directory."
   ]
  },
  {
   "cell_type": "code",
   "execution_count": null,
   "id": "2ebba081",
   "metadata": {},
   "outputs": [],
   "source": [
    "train_generator = datagen.flow_from_directory('train_images/', target_size=(150, 150), batch_size=32, class_mode='binary')"
   ]
  },
  {
   "cell_type": "markdown",
   "id": "42ef38cf",
   "metadata": {},
   "source": [
    "Visualize augmentation results by displaying augmented images."
   ]
  },
  {
   "cell_type": "code",
   "execution_count": null,
   "id": "bed74509",
   "metadata": {},
   "outputs": [],
   "source": [
    "import matplotlib.pyplot as plt\n",
    "augmented_images = [datagen.next() for i in range(5)]\n",
    "plt.figure(figsize=(10, 10))\n",
    "for i, img in enumerate(augmented_images):\n",
    "    plt.subplot(1, 5, i+1)\n",
    "    plt.imshow(img[0][0])\n",
    "    plt.axis('off')\n",
    "plt.show()"
   ]
  },
  {
   "cell_type": "markdown",
   "id": "958f1b45",
   "metadata": {},
   "source": [
    "Experience and enjoy the process of data science."
   ]
  },
  {
   "cell_type": "code",
   "execution_count": null,
   "id": "93a07473",
   "metadata": {},
   "outputs": [],
   "source": [
    "# Enjoy your Data Science Journey! 🎉"
   ]
  }
 ],
 "metadata": {
  "kernelspec": {
   "display_name": "Python 3",
   "language": "python",
   "name": "python3"
  },
  "language_info": {
   "codemirror_mode": {
    "name": "ipython",
    "version": 3
   },
   "file_extension": ".py",
   "mimetype": "text/x-python",
   "name": "python",
   "nbconvert_exporter": "python",
   "pygments_lexer": "ipython3",
   "version": "3.8.5"
  }
 },
 "nbformat": 4,
 "nbformat_minor": 5
}
