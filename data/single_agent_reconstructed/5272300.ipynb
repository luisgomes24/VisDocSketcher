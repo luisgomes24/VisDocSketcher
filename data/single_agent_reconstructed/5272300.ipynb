{
 "cells": [
  {
   "cell_type": "markdown",
   "id": "33fedc93",
   "metadata": {},
   "source": [
    "Load data for each year from CSV files into separate DataFrames."
   ]
  },
  {
   "cell_type": "code",
   "execution_count": null,
   "id": "78effff2",
   "metadata": {},
   "outputs": [],
   "source": [
    "import pandas as pd\n",
    "\n",
    "# Load data from CSV files\n",
    "data_2009 = pd.read_csv('2009.csv')\n",
    "data_2010 = pd.read_csv('2010.csv')\n",
    "data_2011 = pd.read_csv('2011.csv')"
   ]
  },
  {
   "cell_type": "markdown",
   "id": "c651d1b2",
   "metadata": {},
   "source": [
    "Preview the first few rows of each DataFrame to understand the structure of the data."
   ]
  },
  {
   "cell_type": "code",
   "execution_count": null,
   "id": "0d8883e9",
   "metadata": {},
   "outputs": [],
   "source": [
    "print(data_2009.head())\n",
    "print(data_2010.head())\n",
    "print(data_2011.head())"
   ]
  },
  {
   "cell_type": "markdown",
   "id": "2cfc2957",
   "metadata": {},
   "source": [
    "Generate distribution histograms for each year to visualize the data."
   ]
  },
  {
   "cell_type": "code",
   "execution_count": null,
   "id": "3c920b31",
   "metadata": {},
   "outputs": [],
   "source": [
    "import matplotlib.pyplot as plt\n",
    "import seaborn as sns\n",
    "\n",
    "# Plot distribution for each year\n",
    "plt.figure(figsize=(15, 5))\n",
    "plt.subplot(1, 3, 1)\n",
    "sns.histplot(data_2009['column_name'], bins=10, kde=True)\n",
    "plt.title('Distribution of 2009')\n",
    "\n",
    "plt.subplot(1, 3, 2)\n",
    "sns.histplot(data_2010['column_name'], bins=10, kde=True)\n",
    "plt.title('Distribution of 2010')\n",
    "\n",
    "plt.subplot(1, 3, 3)\n",
    "sns.histplot(data_2011['column_name'], bins=10, kde=True)\n",
    "plt.title('Distribution of 2011')\n",
    "\n",
    "plt.show()"
   ]
  }
 ],
 "metadata": {
  "kernelspec": {
   "display_name": "Python 3",
   "language": "python",
   "name": "python3"
  },
  "language_info": {
   "codemirror_mode": {
    "name": "ipython",
    "version": 3
   },
   "file_extension": ".py",
   "mimetype": "text/x-python",
   "name": "python",
   "nbconvert_exporter": "python",
   "pygments_lexer": "ipython3",
   "version": "3.8.5"
  }
 },
 "nbformat": 4,
 "nbformat_minor": 5
}
