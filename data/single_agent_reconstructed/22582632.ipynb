{
 "cells": [
  {
   "cell_type": "markdown",
   "id": "acbedb0e",
   "metadata": {},
   "source": [
    "Load the audio file using librosa."
   ]
  },
  {
   "cell_type": "code",
   "execution_count": null,
   "id": "26eb702e",
   "metadata": {},
   "outputs": [],
   "source": [
    "import librosa\n",
    "\n",
    "audio_data, sample_rate = librosa.load('audio_file.wav')"
   ]
  },
  {
   "cell_type": "markdown",
   "id": "be062116",
   "metadata": {},
   "source": [
    "Play back the loaded audio data."
   ]
  },
  {
   "cell_type": "code",
   "execution_count": null,
   "id": "1a860144",
   "metadata": {},
   "outputs": [],
   "source": [
    "import sounddevice as sd\n",
    "\n",
    "sd.play(audio_data, sample_rate)"
   ]
  },
  {
   "cell_type": "markdown",
   "id": "672996a2",
   "metadata": {},
   "source": [
    "Apply pitch shift to the audio."
   ]
  },
  {
   "cell_type": "code",
   "execution_count": null,
   "id": "56f24bd0",
   "metadata": {},
   "outputs": [],
   "source": [
    "import numpy as np\n",
    "\n",
    "pitch_shifted_audio = librosa.effects.pitch_shift(audio_data, sample_rate, n_steps=4)"
   ]
  },
  {
   "cell_type": "markdown",
   "id": "72cbd319",
   "metadata": {},
   "source": [
    "Augment the audio with random volume changes."
   ]
  },
  {
   "cell_type": "code",
   "execution_count": null,
   "id": "097a5b0c",
   "metadata": {},
   "outputs": [],
   "source": [
    "augmented_audio = pitch_shifted_audio * np.random.uniform(0.8, 1.2)"
   ]
  },
  {
   "cell_type": "markdown",
   "id": "481a207a",
   "metadata": {},
   "source": [
    "Apply time stretch to change the speed of the audio."
   ]
  },
  {
   "cell_type": "code",
   "execution_count": null,
   "id": "557f34a4",
   "metadata": {},
   "outputs": [],
   "source": [
    "time_stretched_audio = librosa.effects.time_stretch(augmented_audio, rate=1.5)"
   ]
  },
  {
   "cell_type": "markdown",
   "id": "4cafe3da",
   "metadata": {},
   "source": [
    "Apply class-based augmentations to the audio."
   ]
  },
  {
   "cell_type": "code",
   "execution_count": null,
   "id": "8a848e35",
   "metadata": {},
   "outputs": [],
   "source": [
    "def class_based_augmentation(audio): return audio * np.random.uniform(0.5, 1.5)\n",
    "class_augmented_audio = class_based_augmentation(time_stretched_audio)"
   ]
  },
  {
   "cell_type": "markdown",
   "id": "e0cdedb2",
   "metadata": {},
   "source": [
    "Compose all transformations to get the final audio."
   ]
  },
  {
   "cell_type": "code",
   "execution_count": null,
   "id": "771e50a5",
   "metadata": {},
   "outputs": [],
   "source": [
    "final_audio = class_augmented_audio"
   ]
  }
 ],
 "metadata": {
  "kernelspec": {
   "display_name": "Python 3",
   "language": "python",
   "name": "python3"
  },
  "language_info": {
   "codemirror_mode": {
    "name": "ipython",
    "version": 3
   },
   "file_extension": ".py",
   "mimetype": "text/x-python",
   "name": "python",
   "nbconvert_exporter": "python",
   "pygments_lexer": "ipython3",
   "version": "3.8.5"
  }
 },
 "nbformat": 4,
 "nbformat_minor": 5
}
