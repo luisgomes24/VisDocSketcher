{
 "cells": [
  {
   "cell_type": "markdown",
   "id": "5f1f6c57",
   "metadata": {},
   "source": [
    "This function loads image paths by listing files in a specified directory and filtering for common image formats."
   ]
  },
  {
   "cell_type": "code",
   "execution_count": null,
   "id": "877e74ce",
   "metadata": {},
   "outputs": [],
   "source": [
    "import os\n",
    "\n",
    "def load_image_paths(directory):\n",
    "    return [os.path.join(directory, f) for f in os.listdir(directory) if f.endswith(('png', 'jpg', 'jpeg'))]"
   ]
  },
  {
   "cell_type": "markdown",
   "id": "e19a7fd9",
   "metadata": {},
   "source": [
    "This function opens and loads images from the provided list of image paths using the PIL library."
   ]
  },
  {
   "cell_type": "code",
   "execution_count": null,
   "id": "dfed3989",
   "metadata": {},
   "outputs": [],
   "source": [
    "from PIL import Image\n",
    "\n",
    "def load_images(image_paths):\n",
    "    return [Image.open(path) for path in image_paths]"
   ]
  },
  {
   "cell_type": "markdown",
   "id": "28e37614",
   "metadata": {},
   "source": [
    "This function creates tiles from each image by cropping them into smaller sections based on the specified tile size."
   ]
  },
  {
   "cell_type": "code",
   "execution_count": null,
   "id": "aa385999",
   "metadata": {},
   "outputs": [],
   "source": [
    "def make_tiles(images, tile_size=(100, 100)):\n",
    "    tiles = []\n",
    "    for image in images:\n",
    "        for x in range(0, image.width, tile_size[0]):\n",
    "            for y in range(0, image.height, tile_size[1]):\n",
    "                tile = image.crop((x, y, x + tile_size[0], y + tile_size[1]))\n",
    "                tiles.append(tile)\n",
    "    return tiles"
   ]
  },
  {
   "cell_type": "markdown",
   "id": "37e9c9e9",
   "metadata": {},
   "source": [
    "This function visualizes the generated tiles using matplotlib by displaying each tile in a subplot."
   ]
  },
  {
   "cell_type": "code",
   "execution_count": null,
   "id": "1cc5f13e",
   "metadata": {},
   "outputs": [],
   "source": [
    "import matplotlib.pyplot as plt\n",
    "\n",
    "def visualize_tiles(tiles):\n",
    "    fig, axes = plt.subplots(1, len(tiles), figsize=(15, 5))\n",
    "    for ax, tile in zip(axes, tiles):\n",
    "        ax.imshow(tile)\n",
    "        ax.axis('off')\n",
    "    plt.show()"
   ]
  },
  {
   "cell_type": "markdown",
   "id": "3365f6c5",
   "metadata": {},
   "source": [
    "This function benchmarks the execution time of a given function, returning its result along with the time taken."
   ]
  },
  {
   "cell_type": "code",
   "execution_count": null,
   "id": "ef416608",
   "metadata": {},
   "outputs": [],
   "source": [
    "import time\n",
    "\n",
    "def benchmark_execution_time(func, *args, **kwargs):\n",
    "    start_time = time.time()\n",
    "    result = func(*args, **kwargs)\n",
    "    end_time = time.time()\n",
    "    return result, end_time - start_time"
   ]
  }
 ],
 "metadata": {
  "kernelspec": {
   "display_name": "Python 3",
   "language": "python",
   "name": "python3"
  },
  "language_info": {
   "codemirror_mode": {
    "name": "ipython",
    "version": 3
   },
   "file_extension": ".py",
   "mimetype": "text/x-python",
   "name": "python",
   "nbconvert_exporter": "python",
   "pygments_lexer": "ipython3",
   "version": "3.8.5"
  }
 },
 "nbformat": 4,
 "nbformat_minor": 5
}
