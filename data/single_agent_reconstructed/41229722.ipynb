{
 "cells": [
  {
   "cell_type": "markdown",
   "id": "36caa586",
   "metadata": {},
   "source": [
    "Load the dataset from a CSV file."
   ]
  },
  {
   "cell_type": "code",
   "execution_count": null,
   "id": "d0d6da2d",
   "metadata": {},
   "outputs": [],
   "source": [
    "import pandas as pd\n",
    "\n",
    "data = pd.read_csv('car_data.csv')"
   ]
  },
  {
   "cell_type": "markdown",
   "id": "7b5d3247",
   "metadata": {},
   "source": [
    "Provide a summary of the dataset."
   ]
  },
  {
   "cell_type": "code",
   "execution_count": null,
   "id": "1aa13769",
   "metadata": {},
   "outputs": [],
   "source": [
    "data.describe()"
   ]
  },
  {
   "cell_type": "markdown",
   "id": "169041e4",
   "metadata": {},
   "source": [
    "Display a random sample of 5 rows from the dataset."
   ]
  },
  {
   "cell_type": "code",
   "execution_count": null,
   "id": "16d8278e",
   "metadata": {},
   "outputs": [],
   "source": [
    "data.sample(5)"
   ]
  },
  {
   "cell_type": "markdown",
   "id": "4bde45d6",
   "metadata": {},
   "source": [
    "Remove specified unused columns from the dataset."
   ]
  },
  {
   "cell_type": "code",
   "execution_count": null,
   "id": "e2544b64",
   "metadata": {},
   "outputs": [],
   "source": [
    "data.drop(columns=['unused_column'], inplace=True)"
   ]
  },
  {
   "cell_type": "markdown",
   "id": "8d1055b4",
   "metadata": {},
   "source": [
    "Convert specified columns to categorical data types."
   ]
  },
  {
   "cell_type": "code",
   "execution_count": null,
   "id": "535c20b1",
   "metadata": {},
   "outputs": [],
   "source": [
    "data['column'] = data['column'].astype('category')"
   ]
  },
  {
   "cell_type": "markdown",
   "id": "3b0439d9",
   "metadata": {},
   "source": [
    "Visualize data using a bar chart."
   ]
  },
  {
   "cell_type": "code",
   "execution_count": null,
   "id": "8ef5921a",
   "metadata": {},
   "outputs": [],
   "source": [
    "import matplotlib.pyplot as plt\n",
    "\n",
    "plt.bar(data['category'], data['value'])\n",
    "plt.show()"
   ]
  },
  {
   "cell_type": "markdown",
   "id": "1ee4c2ed",
   "metadata": {},
   "source": [
    "Remove the specified column from the dataset."
   ]
  },
  {
   "cell_type": "code",
   "execution_count": null,
   "id": "f6f8c635",
   "metadata": {},
   "outputs": [],
   "source": [
    "data.drop(columns=['column_to_drop'], inplace=True)"
   ]
  },
  {
   "cell_type": "markdown",
   "id": "3cea42b5",
   "metadata": {},
   "source": [
    "Identify categorical columns in the dataset."
   ]
  },
  {
   "cell_type": "code",
   "execution_count": null,
   "id": "282caf14",
   "metadata": {},
   "outputs": [],
   "source": [
    "categorical_cols = data.select_dtypes(include=['category']).columns.tolist()"
   ]
  },
  {
   "cell_type": "markdown",
   "id": "8d2e1d5a",
   "metadata": {},
   "source": [
    "Identify numerical columns in the dataset."
   ]
  },
  {
   "cell_type": "code",
   "execution_count": null,
   "id": "695bf3f3",
   "metadata": {},
   "outputs": [],
   "source": [
    "numerical_cols = data.select_dtypes(include=['float64', 'int64']).columns.tolist()"
   ]
  },
  {
   "cell_type": "markdown",
   "id": "17e49c27",
   "metadata": {},
   "source": [
    "Split the dataset into features (X) and target (y)."
   ]
  },
  {
   "cell_type": "code",
   "execution_count": null,
   "id": "bd99c3b3",
   "metadata": {},
   "outputs": [],
   "source": [
    "X = data.drop(columns=['target_column'])\n",
    "y = data['target_column']"
   ]
  },
  {
   "cell_type": "markdown",
   "id": "2dbe1156",
   "metadata": {},
   "source": [
    "One-hot encode categorical variables in the feature set."
   ]
  },
  {
   "cell_type": "code",
   "execution_count": null,
   "id": "2476eed3",
   "metadata": {},
   "outputs": [],
   "source": [
    "X = pd.get_dummies(X, columns=categorical_cols, drop_first=True)"
   ]
  },
  {
   "cell_type": "markdown",
   "id": "b7500249",
   "metadata": {},
   "source": [
    "Concatenate the processed features and target into a single DataFrame."
   ]
  },
  {
   "cell_type": "code",
   "execution_count": null,
   "id": "443e33c7",
   "metadata": {},
   "outputs": [],
   "source": [
    "processed_data = pd.concat([X, y], axis=1)"
   ]
  },
  {
   "cell_type": "markdown",
   "id": "77652821",
   "metadata": {},
   "source": [
    "Split the dataset into training and test sets."
   ]
  },
  {
   "cell_type": "code",
   "execution_count": null,
   "id": "dea24655",
   "metadata": {},
   "outputs": [],
   "source": [
    "from sklearn.model_selection import train_test_split\n",
    "\n",
    "X_train, X_test, y_train, y_test = train_test_split(X, y, test_size=0.2, random_state=42)"
   ]
  },
  {
   "cell_type": "markdown",
   "id": "2a8d0bbb",
   "metadata": {},
   "source": [
    "Scale the feature data for better model performance."
   ]
  },
  {
   "cell_type": "code",
   "execution_count": null,
   "id": "5073b65e",
   "metadata": {},
   "outputs": [],
   "source": [
    "from sklearn.preprocessing import StandardScaler\n",
    "\n",
    "scaler = StandardScaler()\n",
    "X_train_scaled = scaler.fit_transform(X_train)\n",
    "X_test_scaled = scaler.transform(X_test)"
   ]
  },
  {
   "cell_type": "markdown",
   "id": "ad103dc7",
   "metadata": {},
   "source": [
    "Initialize a linear regression model."
   ]
  },
  {
   "cell_type": "code",
   "execution_count": null,
   "id": "dbda14b5",
   "metadata": {},
   "outputs": [],
   "source": [
    "from sklearn.linear_model import LinearRegression\n",
    "\n",
    "model = LinearRegression()"
   ]
  },
  {
   "cell_type": "markdown",
   "id": "f0cd586d",
   "metadata": {},
   "source": [
    "Train the model using the scaled training data."
   ]
  },
  {
   "cell_type": "code",
   "execution_count": null,
   "id": "3a4c9046",
   "metadata": {},
   "outputs": [],
   "source": [
    "model.fit(X_train_scaled, y_train)"
   ]
  },
  {
   "cell_type": "markdown",
   "id": "4a0d4293",
   "metadata": {},
   "source": [
    "Evaluate the model using Mean Squared Error and Absolute Error."
   ]
  },
  {
   "cell_type": "code",
   "execution_count": null,
   "id": "5002be59",
   "metadata": {},
   "outputs": [],
   "source": [
    "from sklearn.metrics import mean_squared_error, mean_absolute_error\n",
    "\n",
    "y_pred = model.predict(X_test_scaled)\n",
    "mse = mean_squared_error(y_test, y_pred)\n",
    "mae = mean_absolute_error(y_test, y_pred)"
   ]
  }
 ],
 "metadata": {
  "kernelspec": {
   "display_name": "Python 3",
   "language": "python",
   "name": "python3"
  },
  "language_info": {
   "codemirror_mode": {
    "name": "ipython",
    "version": 3
   },
   "file_extension": ".py",
   "mimetype": "text/x-python",
   "name": "python",
   "nbconvert_exporter": "python",
   "pygments_lexer": "ipython3",
   "version": "3.8.5"
  }
 },
 "nbformat": 4,
 "nbformat_minor": 5
}
