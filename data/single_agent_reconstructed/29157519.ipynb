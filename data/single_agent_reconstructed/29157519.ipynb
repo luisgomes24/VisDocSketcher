{
 "cells": [
  {
   "cell_type": "markdown",
   "id": "2ca03ecd",
   "metadata": {},
   "source": [
    "Load English stopwords from the NLTK library."
   ]
  },
  {
   "cell_type": "code",
   "execution_count": null,
   "id": "9e7cc9ee",
   "metadata": {},
   "outputs": [],
   "source": [
    "from nltk.corpus import stopwords\n",
    "stopwords = set(stopwords.words('english'))"
   ]
  },
  {
   "cell_type": "markdown",
   "id": "6ae9f57e",
   "metadata": {},
   "source": [
    "Preprocess the stopwords by filtering out words shorter than 3 letters."
   ]
  },
  {
   "cell_type": "code",
   "execution_count": null,
   "id": "529e2073",
   "metadata": {},
   "outputs": [],
   "source": [
    "preprocessed_stopwords = [word for word in stopwords if len(word) > 2]"
   ]
  },
  {
   "cell_type": "markdown",
   "id": "c014c4a7",
   "metadata": {},
   "source": [
    "Define a function to process text by tokenizing and removing stopwords."
   ]
  },
  {
   "cell_type": "code",
   "execution_count": null,
   "id": "9efccccf",
   "metadata": {},
   "outputs": [],
   "source": [
    "def process_text(text):\n",
    "    tokens = text.split()\n",
    "    return [word for word in tokens if word not in preprocessed_stopwords]"
   ]
  },
  {
   "cell_type": "markdown",
   "id": "877641d6",
   "metadata": {},
   "source": [
    "Count the occurrences of each word in the processed text."
   ]
  },
  {
   "cell_type": "code",
   "execution_count": null,
   "id": "e318b168",
   "metadata": {},
   "outputs": [],
   "source": [
    "from collections import Counter\n",
    "word_counts = Counter(process_text(text))"
   ]
  },
  {
   "cell_type": "markdown",
   "id": "4e04061f",
   "metadata": {},
   "source": [
    "Visualize the word frequencies as a word cloud using Matplotlib."
   ]
  },
  {
   "cell_type": "code",
   "execution_count": null,
   "id": "e34a5b77",
   "metadata": {},
   "outputs": [],
   "source": [
    "from wordcloud import WordCloud\n",
    "import matplotlib.pyplot as plt\n",
    "wordcloud = WordCloud().generate_from_frequencies(word_counts)\n",
    "plt.imshow(wordcloud, interpolation='bilinear')\n",
    "plt.axis('off')\n",
    "plt.show()"
   ]
  }
 ],
 "metadata": {
  "kernelspec": {
   "display_name": "Python 3",
   "language": "python",
   "name": "python3"
  },
  "language_info": {
   "codemirror_mode": {
    "name": "ipython",
    "version": 3
   },
   "file_extension": ".py",
   "mimetype": "text/x-python",
   "name": "python",
   "nbconvert_exporter": "python",
   "pygments_lexer": "ipython3",
   "version": "3.8.5"
  }
 },
 "nbformat": 4,
 "nbformat_minor": 5
}
