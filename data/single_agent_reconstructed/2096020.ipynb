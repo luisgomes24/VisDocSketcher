{
 "cells": [
  {
   "cell_type": "markdown",
   "id": "e21947c4",
   "metadata": {},
   "source": [
    "Load the first dataset from a CSV file."
   ]
  },
  {
   "cell_type": "code",
   "execution_count": null,
   "id": "aa551809",
   "metadata": {},
   "outputs": [],
   "source": [
    "import pandas as pd\n",
    "\n",
    "data1 = pd.read_csv('data1.csv')"
   ]
  },
  {
   "cell_type": "markdown",
   "id": "1c5a2619",
   "metadata": {},
   "source": [
    "Preview the first few rows of the loaded data."
   ]
  },
  {
   "cell_type": "code",
   "execution_count": null,
   "id": "0f97601a",
   "metadata": {},
   "outputs": [],
   "source": [
    "print(data1.head())"
   ]
  },
  {
   "cell_type": "markdown",
   "id": "9064ebda",
   "metadata": {},
   "source": [
    "Generate and display a histogram for the first dataset."
   ]
  },
  {
   "cell_type": "code",
   "execution_count": null,
   "id": "e2ea418a",
   "metadata": {},
   "outputs": [],
   "source": [
    "import seaborn as sns\n",
    "import matplotlib.pyplot as plt\n",
    "\n",
    "sns.histplot(data1)\n",
    "plt.show()"
   ]
  },
  {
   "cell_type": "markdown",
   "id": "2484ba80",
   "metadata": {},
   "source": [
    "Load the second dataset from a CSV file."
   ]
  },
  {
   "cell_type": "code",
   "execution_count": null,
   "id": "7d139f3f",
   "metadata": {},
   "outputs": [],
   "source": [
    "data2 = pd.read_csv('data2.csv')"
   ]
  },
  {
   "cell_type": "markdown",
   "id": "0d4dd7ae",
   "metadata": {},
   "source": [
    "Preview the first few rows of the second dataset."
   ]
  },
  {
   "cell_type": "code",
   "execution_count": null,
   "id": "51dfd77a",
   "metadata": {},
   "outputs": [],
   "source": [
    "print(data2.head())"
   ]
  },
  {
   "cell_type": "markdown",
   "id": "33a620be",
   "metadata": {},
   "source": [
    "Generate and display a histogram for the second dataset."
   ]
  },
  {
   "cell_type": "code",
   "execution_count": null,
   "id": "251df102",
   "metadata": {},
   "outputs": [],
   "source": [
    "sns.histplot(data2)\n",
    "plt.show()"
   ]
  },
  {
   "cell_type": "markdown",
   "id": "db5ee697",
   "metadata": {},
   "source": [
    "Load the third dataset from a CSV file."
   ]
  },
  {
   "cell_type": "code",
   "execution_count": null,
   "id": "15426193",
   "metadata": {},
   "outputs": [],
   "source": [
    "data3 = pd.read_csv('data3.csv')"
   ]
  },
  {
   "cell_type": "markdown",
   "id": "76000c27",
   "metadata": {},
   "source": [
    "Preview the first few rows of the third dataset."
   ]
  },
  {
   "cell_type": "code",
   "execution_count": null,
   "id": "487b2bfa",
   "metadata": {},
   "outputs": [],
   "source": [
    "print(data3.head())"
   ]
  },
  {
   "cell_type": "markdown",
   "id": "545d93cf",
   "metadata": {},
   "source": [
    "Generate and display a histogram for the third dataset."
   ]
  },
  {
   "cell_type": "code",
   "execution_count": null,
   "id": "09da4538",
   "metadata": {},
   "outputs": [],
   "source": [
    "sns.histplot(data3)\n",
    "plt.show()"
   ]
  }
 ],
 "metadata": {
  "kernelspec": {
   "display_name": "Python 3",
   "language": "python",
   "name": "python3"
  },
  "language_info": {
   "codemirror_mode": {
    "name": "ipython",
    "version": 3
   },
   "file_extension": ".py",
   "mimetype": "text/x-python",
   "name": "python",
   "nbconvert_exporter": "python",
   "pygments_lexer": "ipython3",
   "version": "3.8.5"
  }
 },
 "nbformat": 4,
 "nbformat_minor": 5
}
