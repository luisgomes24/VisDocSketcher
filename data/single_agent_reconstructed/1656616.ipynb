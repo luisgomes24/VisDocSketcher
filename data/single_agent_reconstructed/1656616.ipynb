{
 "cells": [
  {
   "cell_type": "markdown",
   "id": "6604d1ea",
   "metadata": {},
   "source": [
    "Loads data from a CSV file into a Pandas DataFrame."
   ]
  },
  {
   "cell_type": "code",
   "execution_count": null,
   "id": "e4b45c98",
   "metadata": {},
   "outputs": [],
   "source": [
    "import pandas as pd\n",
    "\n",
    "def load_data(file_path):\n",
    "    return pd.read_csv(file_path)"
   ]
  },
  {
   "cell_type": "markdown",
   "id": "4e8eab19",
   "metadata": {},
   "source": [
    "Calls the load_data function to read 'data.csv'."
   ]
  },
  {
   "cell_type": "code",
   "execution_count": null,
   "id": "206f8c4a",
   "metadata": {},
   "outputs": [],
   "source": [
    "data = load_data('data.csv')"
   ]
  },
  {
   "cell_type": "markdown",
   "id": "aac6d8a7",
   "metadata": {},
   "source": [
    "Checks the structure and summary of the DataFrame."
   ]
  },
  {
   "cell_type": "code",
   "execution_count": null,
   "id": "78ed83c6",
   "metadata": {},
   "outputs": [],
   "source": [
    "def check_file_structure(df):\n",
    "    return df.info()"
   ]
  },
  {
   "cell_type": "markdown",
   "id": "2ee78090",
   "metadata": {},
   "source": [
    "Verifies the structure of the loaded dataset."
   ]
  },
  {
   "cell_type": "code",
   "execution_count": null,
   "id": "9d538a93",
   "metadata": {},
   "outputs": [],
   "source": [
    "check_file_structure(data)"
   ]
  },
  {
   "cell_type": "markdown",
   "id": "606e0f98",
   "metadata": {},
   "source": [
    "Plots histograms for each numerical column in the DataFrame."
   ]
  },
  {
   "cell_type": "code",
   "execution_count": null,
   "id": "38f24a07",
   "metadata": {},
   "outputs": [],
   "source": [
    "import matplotlib.pyplot as plt\n",
    "\n",
    "def plot_histograms(df):\n",
    "    df.hist(bins=30, figsize=(10,7))\n",
    "    plt.show()"
   ]
  },
  {
   "cell_type": "markdown",
   "id": "8af632fb",
   "metadata": {},
   "source": [
    "Generates histograms to visualize data distribution."
   ]
  },
  {
   "cell_type": "code",
   "execution_count": null,
   "id": "2c60bacb",
   "metadata": {},
   "outputs": [],
   "source": [
    "plot_histograms(data)"
   ]
  },
  {
   "cell_type": "markdown",
   "id": "976efcca",
   "metadata": {},
   "source": [
    "Reviews a random sample of 5 rows from the DataFrame."
   ]
  },
  {
   "cell_type": "code",
   "execution_count": null,
   "id": "9bcebfd7",
   "metadata": {},
   "outputs": [],
   "source": [
    "def review_sampled_columns(df):\n",
    "    return df.sample(5)"
   ]
  },
  {
   "cell_type": "markdown",
   "id": "bef4aab3",
   "metadata": {},
   "source": [
    "Displays a sample of columns from the dataset."
   ]
  },
  {
   "cell_type": "code",
   "execution_count": null,
   "id": "a801108c",
   "metadata": {},
   "outputs": [],
   "source": [
    "review_sampled_columns(data)"
   ]
  },
  {
   "cell_type": "markdown",
   "id": "4ec59df9",
   "metadata": {},
   "source": [
    "Calculates and visualizes the correlation matrix using a heatmap."
   ]
  },
  {
   "cell_type": "code",
   "execution_count": null,
   "id": "d4d069b9",
   "metadata": {},
   "outputs": [],
   "source": [
    "import seaborn as sns\n",
    "\n",
    "def correlation_matrix(df):\n",
    "    corr = df.corr()\n",
    "    sns.heatmap(corr, annot=True, cmap='coolwarm')\n",
    "    plt.show()"
   ]
  },
  {
   "cell_type": "markdown",
   "id": "69bec277",
   "metadata": {},
   "source": [
    "Plots the correlation matrix to identify relationships."
   ]
  },
  {
   "cell_type": "code",
   "execution_count": null,
   "id": "1eda40de",
   "metadata": {},
   "outputs": [],
   "source": [
    "correlation_matrix(data)"
   ]
  },
  {
   "cell_type": "markdown",
   "id": "b537c2bc",
   "metadata": {},
   "source": [
    "Reviews the correlation values between variables."
   ]
  },
  {
   "cell_type": "code",
   "execution_count": null,
   "id": "90b7f7ab",
   "metadata": {},
   "outputs": [],
   "source": [
    "def review_correlations(df):\n",
    "    return df.corr()"
   ]
  },
  {
   "cell_type": "markdown",
   "id": "0f0b20c1",
   "metadata": {},
   "source": [
    "Outputs the correlation values for all features."
   ]
  },
  {
   "cell_type": "code",
   "execution_count": null,
   "id": "0fdfd77d",
   "metadata": {},
   "outputs": [],
   "source": [
    "review_correlations(data)"
   ]
  },
  {
   "cell_type": "markdown",
   "id": "e01b8fa6",
   "metadata": {},
   "source": [
    "Creates scatter and density plots for all numerical combinations."
   ]
  },
  {
   "cell_type": "code",
   "execution_count": null,
   "id": "2d936508",
   "metadata": {},
   "outputs": [],
   "source": [
    "def scatter_density_plots(df):\n",
    "    sns.pairplot(df)\n",
    "    plt.show()"
   ]
  },
  {
   "cell_type": "markdown",
   "id": "d6b961b0",
   "metadata": {},
   "source": [
    "Displays scatter and density plots for visualization."
   ]
  },
  {
   "cell_type": "code",
   "execution_count": null,
   "id": "a49ebbdd",
   "metadata": {},
   "outputs": [],
   "source": [
    "scatter_density_plots(data)"
   ]
  },
  {
   "cell_type": "markdown",
   "id": "21cdce75",
   "metadata": {},
   "source": [
    "Generates a scatter plot for specified features."
   ]
  },
  {
   "cell_type": "code",
   "execution_count": null,
   "id": "a14e2593",
   "metadata": {},
   "outputs": [],
   "source": [
    "def review_scatter_plots(df, x, y):\n",
    "    sns.scatterplot(data=df, x=x, y=y)\n",
    "    plt.show()"
   ]
  }
 ],
 "metadata": {
  "kernelspec": {
   "display_name": "Python 3",
   "language": "python",
   "name": "python3"
  },
  "language_info": {
   "codemirror_mode": {
    "name": "ipython",
    "version": 3
   },
   "file_extension": ".py",
   "mimetype": "text/x-python",
   "name": "python",
   "nbconvert_exporter": "python",
   "pygments_lexer": "ipython3",
   "version": "3.8.5"
  }
 },
 "nbformat": 4,
 "nbformat_minor": 5
}
