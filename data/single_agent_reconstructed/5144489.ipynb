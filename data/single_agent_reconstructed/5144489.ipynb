{
 "cells": [
  {
   "cell_type": "markdown",
   "id": "91761772",
   "metadata": {},
   "source": [
    "Load the dataset from a CSV file into a DataFrame."
   ]
  },
  {
   "cell_type": "code",
   "execution_count": null,
   "id": "565d996e",
   "metadata": {},
   "outputs": [],
   "source": [
    "import pandas as pd\n",
    "\n",
    "data = pd.read_csv('data.csv')"
   ]
  },
  {
   "cell_type": "markdown",
   "id": "e6842ab5",
   "metadata": {},
   "source": [
    "Display the first few rows of the DataFrame to preview the data."
   ]
  },
  {
   "cell_type": "code",
   "execution_count": null,
   "id": "179e5cc2",
   "metadata": {},
   "outputs": [],
   "source": [
    "print(data.head())"
   ]
  },
  {
   "cell_type": "markdown",
   "id": "e4dd24ab",
   "metadata": {},
   "source": [
    "Generate descriptive statistics of the DataFrame."
   ]
  },
  {
   "cell_type": "code",
   "execution_count": null,
   "id": "c5d69724",
   "metadata": {},
   "outputs": [],
   "source": [
    "print(data.describe())"
   ]
  },
  {
   "cell_type": "markdown",
   "id": "85b9b925",
   "metadata": {},
   "source": [
    "Visualize correlation matrix using a heatmap."
   ]
  },
  {
   "cell_type": "code",
   "execution_count": null,
   "id": "b638ed7e",
   "metadata": {},
   "outputs": [],
   "source": [
    "import seaborn as sns\n",
    "import matplotlib.pyplot as plt\n",
    "sns.heatmap(data.corr(), annot=True)\n",
    "plt.show()"
   ]
  },
  {
   "cell_type": "markdown",
   "id": "5dc29698",
   "metadata": {},
   "source": [
    "Create a line plot to show the relationship between bedrooms and bathrooms."
   ]
  },
  {
   "cell_type": "code",
   "execution_count": null,
   "id": "7e0ee194",
   "metadata": {},
   "outputs": [],
   "source": [
    "sns.lineplot(x='Bedrooms', y='Bathrooms', data=data)\n",
    "plt.show()"
   ]
  },
  {
   "cell_type": "markdown",
   "id": "4b3e054d",
   "metadata": {},
   "source": [
    "Plot a histogram for the distribution of bedrooms."
   ]
  },
  {
   "cell_type": "code",
   "execution_count": null,
   "id": "55d196ba",
   "metadata": {},
   "outputs": [],
   "source": [
    "sns.histplot(data['Bedrooms'], bins=10)\n",
    "plt.show()"
   ]
  },
  {
   "cell_type": "markdown",
   "id": "daa5aa4e",
   "metadata": {},
   "source": [
    "Generate a Kernel Density Estimate (KDE) plot for bedrooms."
   ]
  },
  {
   "cell_type": "code",
   "execution_count": null,
   "id": "4843ae28",
   "metadata": {},
   "outputs": [],
   "source": [
    "sns.kdeplot(data['Bedrooms'])\n",
    "plt.show()"
   ]
  },
  {
   "cell_type": "markdown",
   "id": "61e31223",
   "metadata": {},
   "source": [
    "Generate a Kernel Density Estimate (KDE) plot for bathrooms."
   ]
  },
  {
   "cell_type": "code",
   "execution_count": null,
   "id": "8c64a300",
   "metadata": {},
   "outputs": [],
   "source": [
    "sns.kdeplot(data['Bathrooms'])\n",
    "plt.show()"
   ]
  }
 ],
 "metadata": {
  "kernelspec": {
   "display_name": "Python 3",
   "language": "python",
   "name": "python3"
  },
  "language_info": {
   "codemirror_mode": {
    "name": "ipython",
    "version": 3
   },
   "file_extension": ".py",
   "mimetype": "text/x-python",
   "name": "python",
   "nbconvert_exporter": "python",
   "pygments_lexer": "ipython3",
   "version": "3.8.5"
  }
 },
 "nbformat": 4,
 "nbformat_minor": 5
}
