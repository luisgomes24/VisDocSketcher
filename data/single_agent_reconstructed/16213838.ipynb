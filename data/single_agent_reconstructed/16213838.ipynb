{
 "cells": [
  {
   "cell_type": "markdown",
   "id": "b1d7495f",
   "metadata": {},
   "source": [
    "Load the dataset from a CSV file into a pandas DataFrame."
   ]
  },
  {
   "cell_type": "code",
   "execution_count": null,
   "id": "cfaa38b9",
   "metadata": {},
   "outputs": [],
   "source": [
    "import pandas as pd\n",
    "\n",
    "data = pd.read_csv('data.csv')"
   ]
  },
  {
   "cell_type": "markdown",
   "id": "2f58d61a",
   "metadata": {},
   "source": [
    "Add a temporary column to the DataFrame for further processing."
   ]
  },
  {
   "cell_type": "code",
   "execution_count": null,
   "id": "8c012ec6",
   "metadata": {},
   "outputs": [],
   "source": [
    "data['temp'] = 0"
   ]
  },
  {
   "cell_type": "markdown",
   "id": "fda02ae0",
   "metadata": {},
   "source": [
    "Visualize the distribution of identities using a count plot."
   ]
  },
  {
   "cell_type": "code",
   "execution_count": null,
   "id": "e2921ad9",
   "metadata": {},
   "outputs": [],
   "source": [
    "import matplotlib.pyplot as plt\n",
    "import seaborn as sns\n",
    "\n",
    "sns.countplot(x='identity', data=data)\n",
    "plt.title('Identity Distribution')\n",
    "plt.show()"
   ]
  },
  {
   "cell_type": "markdown",
   "id": "953e82ca",
   "metadata": {},
   "source": [
    "Visualize the count of characters by their alive or dead status."
   ]
  },
  {
   "cell_type": "code",
   "execution_count": null,
   "id": "3767d739",
   "metadata": {},
   "outputs": [],
   "source": [
    "sns.countplot(x='alive', data=data)\n",
    "plt.title('Alive vs Dead')\n",
    "plt.show()"
   ]
  },
  {
   "cell_type": "markdown",
   "id": "8038a8c1",
   "metadata": {},
   "source": [
    "Visualize the distribution of characters by hair and eye colors."
   ]
  },
  {
   "cell_type": "code",
   "execution_count": null,
   "id": "8fabd255",
   "metadata": {},
   "outputs": [],
   "source": [
    "sns.countplot(x='hair_color', hue='eye_color', data=data)\n",
    "plt.title('Hair and Eye Color Distribution')\n",
    "plt.show()"
   ]
  },
  {
   "cell_type": "markdown",
   "id": "fd583b1d",
   "metadata": {},
   "source": [
    "Visualize the relationship between character alignment and gender."
   ]
  },
  {
   "cell_type": "code",
   "execution_count": null,
   "id": "ac01ea5d",
   "metadata": {},
   "outputs": [],
   "source": [
    "sns.countplot(x='alignment', hue='gender', data=data)\n",
    "plt.title('Character Alignment and Gender Distribution')\n",
    "plt.show()"
   ]
  },
  {
   "cell_type": "markdown",
   "id": "c6b0cf0a",
   "metadata": {},
   "source": [
    "Identify and visualize the top 10 characters based on appearance frequency."
   ]
  },
  {
   "cell_type": "code",
   "execution_count": null,
   "id": "79fca26b",
   "metadata": {},
   "outputs": [],
   "source": [
    "top_characters = data['character'].value_counts().nlargest(10)\n",
    "top_characters.plot(kind='bar')\n",
    "plt.title('Top 10 Characters by Appearances')\n",
    "plt.show()"
   ]
  },
  {
   "cell_type": "markdown",
   "id": "2884595d",
   "metadata": {},
   "source": [
    "Graph the number of character appearances over the years."
   ]
  },
  {
   "cell_type": "code",
   "execution_count": null,
   "id": "3a53701d",
   "metadata": {},
   "outputs": [],
   "source": [
    "appearances_by_year = data.groupby('year')['character'].count()\n",
    "appearances_by_year.plot(kind='line')\n",
    "plt.title('Character Appearances by Year')\n",
    "plt.show()"
   ]
  }
 ],
 "metadata": {
  "kernelspec": {
   "display_name": "Python 3",
   "language": "python",
   "name": "python3"
  },
  "language_info": {
   "codemirror_mode": {
    "name": "ipython",
    "version": 3
   },
   "file_extension": ".py",
   "mimetype": "text/x-python",
   "name": "python",
   "nbconvert_exporter": "python",
   "pygments_lexer": "ipython3",
   "version": "3.8.5"
  }
 },
 "nbformat": 4,
 "nbformat_minor": 5
}
