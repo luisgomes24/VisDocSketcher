{
 "cells": [
  {
   "cell_type": "markdown",
   "id": "a10bd3cf",
   "metadata": {},
   "source": [
    "Load the sentiment analysis pipeline using the Transformers library."
   ]
  },
  {
   "cell_type": "code",
   "execution_count": null,
   "id": "8b1d7f38",
   "metadata": {},
   "outputs": [],
   "source": [
    "from transformers import pipeline\n",
    "sentiment_analysis = pipeline('sentiment-analysis')"
   ]
  },
  {
   "cell_type": "markdown",
   "id": "2521a605",
   "metadata": {},
   "source": [
    "Analyze the sentiment of a given text."
   ]
  },
  {
   "cell_type": "code",
   "execution_count": null,
   "id": "50181273",
   "metadata": {},
   "outputs": [],
   "source": [
    "result = sentiment_analysis('I love using AI!')"
   ]
  },
  {
   "cell_type": "markdown",
   "id": "e4072ac2",
   "metadata": {},
   "source": [
    "Print the results of the sentiment analysis."
   ]
  },
  {
   "cell_type": "code",
   "execution_count": null,
   "id": "3f9ff68f",
   "metadata": {},
   "outputs": [],
   "source": [
    "print(result)"
   ]
  },
  {
   "cell_type": "markdown",
   "id": "d322f414",
   "metadata": {},
   "source": [
    "Load the text generation pipeline."
   ]
  },
  {
   "cell_type": "code",
   "execution_count": null,
   "id": "ebb222d1",
   "metadata": {},
   "outputs": [],
   "source": [
    "text_generator = pipeline('text-generation')"
   ]
  },
  {
   "cell_type": "markdown",
   "id": "18ad2333",
   "metadata": {},
   "source": [
    "Generate text based on a given prompt."
   ]
  },
  {
   "cell_type": "code",
   "execution_count": null,
   "id": "8b017558",
   "metadata": {},
   "outputs": [],
   "source": [
    "generated_text = text_generator('Once upon a time,', max_length=50)"
   ]
  },
  {
   "cell_type": "markdown",
   "id": "a4232284",
   "metadata": {},
   "source": [
    "Print the generated text."
   ]
  },
  {
   "cell_type": "code",
   "execution_count": null,
   "id": "88caadd0",
   "metadata": {},
   "outputs": [],
   "source": [
    "print(generated_text)"
   ]
  },
  {
   "cell_type": "markdown",
   "id": "e7166b9f",
   "metadata": {},
   "source": [
    "Load the zero-shot classification pipeline."
   ]
  },
  {
   "cell_type": "code",
   "execution_count": null,
   "id": "345acc65",
   "metadata": {},
   "outputs": [],
   "source": [
    "from transformers import pipeline\n",
    "zero_shot_classifier = pipeline('zero-shot-classification')"
   ]
  },
  {
   "cell_type": "markdown",
   "id": "c97ec506",
   "metadata": {},
   "source": [
    "Classify the text with predefined categories."
   ]
  },
  {
   "cell_type": "code",
   "execution_count": null,
   "id": "88f1f4df",
   "metadata": {},
   "outputs": [],
   "source": [
    "classification_result = zero_shot_classifier('This is a great movie', candidate_labels=['positive', 'negative'])"
   ]
  },
  {
   "cell_type": "markdown",
   "id": "5b35c22b",
   "metadata": {},
   "source": [
    "Print the results of the classification."
   ]
  },
  {
   "cell_type": "code",
   "execution_count": null,
   "id": "33af0241",
   "metadata": {},
   "outputs": [],
   "source": [
    "print(classification_result)"
   ]
  },
  {
   "cell_type": "markdown",
   "id": "2839b6fb",
   "metadata": {},
   "source": [
    "Load the conversational pipeline for chatbot functionalities."
   ]
  },
  {
   "cell_type": "code",
   "execution_count": null,
   "id": "b0b55a67",
   "metadata": {},
   "outputs": [],
   "source": [
    "from transformers import pipeline\n",
    "chatbot = pipeline('conversational')"
   ]
  },
  {
   "cell_type": "markdown",
   "id": "539621f5",
   "metadata": {},
   "source": [
    "Initiate a conversation with the chatbot."
   ]
  },
  {
   "cell_type": "code",
   "execution_count": null,
   "id": "e3ca464b",
   "metadata": {},
   "outputs": [],
   "source": [
    "conversation = chatbot('Hello! How can I help you?')"
   ]
  },
  {
   "cell_type": "markdown",
   "id": "fe1ec461",
   "metadata": {},
   "source": [
    "Display the conversation with the chatbot."
   ]
  },
  {
   "cell_type": "code",
   "execution_count": null,
   "id": "1b0adc25",
   "metadata": {},
   "outputs": [],
   "source": [
    "print(conversation)"
   ]
  },
  {
   "cell_type": "markdown",
   "id": "8bbd299f",
   "metadata": {},
   "source": [
    "Load the image generation pipeline."
   ]
  },
  {
   "cell_type": "code",
   "execution_count": null,
   "id": "2116b9d7",
   "metadata": {},
   "outputs": [],
   "source": [
    "from transformers import pipeline\n",
    "image_generator = pipeline('image-generation')"
   ]
  },
  {
   "cell_type": "markdown",
   "id": "8dd4ac8c",
   "metadata": {},
   "source": [
    "Generate an image."
   ]
  },
  {
   "cell_type": "code",
   "execution_count": null,
   "id": "8cd6f6ef",
   "metadata": {},
   "outputs": [],
   "source": [
    "image = image_generator()"
   ]
  },
  {
   "cell_type": "markdown",
   "id": "8466d0ff",
   "metadata": {},
   "source": [
    "Display the generated image."
   ]
  },
  {
   "cell_type": "code",
   "execution_count": null,
   "id": "246453ac",
   "metadata": {},
   "outputs": [],
   "source": [
    "image.show()"
   ]
  },
  {
   "cell_type": "markdown",
   "id": "f2e7fdfe",
   "metadata": {},
   "source": [
    "Generate an image based on a specific prompt."
   ]
  },
  {
   "cell_type": "code",
   "execution_count": null,
   "id": "90c6657d",
   "metadata": {},
   "outputs": [],
   "source": [
    "prompt_image = image_generator('A futuristic cityscape')"
   ]
  },
  {
   "cell_type": "markdown",
   "id": "2de57432",
   "metadata": {},
   "source": [
    "Display the generated image from the prompt."
   ]
  },
  {
   "cell_type": "code",
   "execution_count": null,
   "id": "6239730e",
   "metadata": {},
   "outputs": [],
   "source": [
    "prompt_image.show()"
   ]
  },
  {
   "cell_type": "markdown",
   "id": "7c11861b",
   "metadata": {},
   "source": [
    "Load the model and tokenizer from a pretrained model."
   ]
  },
  {
   "cell_type": "code",
   "execution_count": null,
   "id": "0b8d7fc2",
   "metadata": {},
   "outputs": [],
   "source": [
    "from transformers import AutoTokenizer, AutoModel\n",
    "tokenizer = AutoTokenizer.from_pretrained('model_name')\n",
    "model = AutoModel.from_pretrained('model_name')"
   ]
  },
  {
   "cell_type": "markdown",
   "id": "26857fd6",
   "metadata": {},
   "source": [
    "Tokenize the input text for processing."
   ]
  },
  {
   "cell_type": "code",
   "execution_count": null,
   "id": "806fc5b7",
   "metadata": {},
   "outputs": [],
   "source": [
    "tokenized_input = tokenizer('Sample text', return_tensors='pt')"
   ]
  },
  {
   "cell_type": "markdown",
   "id": "045435ff",
   "metadata": {},
   "source": [
    "Process the tokenized input through the model."
   ]
  },
  {
   "cell_type": "code",
   "execution_count": null,
   "id": "63f26c8c",
   "metadata": {},
   "outputs": [],
   "source": [
    "output = model(**tokenized_input)"
   ]
  },
  {
   "cell_type": "markdown",
   "id": "750936a8",
   "metadata": {},
   "source": [
    "Obtain model predictions from the output."
   ]
  },
  {
   "cell_type": "code",
   "execution_count": null,
   "id": "854c0d6c",
   "metadata": {},
   "outputs": [],
   "source": [
    "predictions = output.logits.argmax(dim=-1)"
   ]
  },
  {
   "cell_type": "markdown",
   "id": "d8e5acdc",
   "metadata": {},
   "source": [
    "Display the predictions from the model."
   ]
  },
  {
   "cell_type": "code",
   "execution_count": null,
   "id": "157892ea",
   "metadata": {},
   "outputs": [],
   "source": [
    "print(predictions)"
   ]
  },
  {
   "cell_type": "markdown",
   "id": "d9b4db25",
   "metadata": {},
   "source": [
    "Save the model and tokenizer to a specified directory."
   ]
  },
  {
   "cell_type": "code",
   "execution_count": null,
   "id": "898ed902",
   "metadata": {},
   "outputs": [],
   "source": [
    "model.save_pretrained('model_directory')\n",
    "tokenizer.save_pretrained('model_directory')"
   ]
  }
 ],
 "metadata": {
  "kernelspec": {
   "display_name": "Python 3",
   "language": "python",
   "name": "python3"
  },
  "language_info": {
   "codemirror_mode": {
    "name": "ipython",
    "version": 3
   },
   "file_extension": ".py",
   "mimetype": "text/x-python",
   "name": "python",
   "nbconvert_exporter": "python",
   "pygments_lexer": "ipython3",
   "version": "3.8.5"
  }
 },
 "nbformat": 4,
 "nbformat_minor": 5
}
