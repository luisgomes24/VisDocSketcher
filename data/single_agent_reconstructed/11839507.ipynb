{
 "cells": [
  {
   "cell_type": "markdown",
   "id": "b661ce55",
   "metadata": {},
   "source": [
    "Load necessary libraries such as pandas for data manipulation and matplotlib for plotting."
   ]
  },
  {
   "cell_type": "code",
   "execution_count": null,
   "id": "d9ca11e1",
   "metadata": {},
   "outputs": [],
   "source": [
    "import pandas as pd\n",
    "import matplotlib.pyplot as plt\n"
   ]
  },
  {
   "cell_type": "markdown",
   "id": "edbab470",
   "metadata": {},
   "source": [
    "Load a sample entry, in this case, a dictionary representing a person's details."
   ]
  },
  {
   "cell_type": "code",
   "execution_count": null,
   "id": "b64627b4",
   "metadata": {},
   "outputs": [],
   "source": [
    "sample_entry = {'name': 'John Doe', 'age': 30}\n"
   ]
  },
  {
   "cell_type": "markdown",
   "id": "0b7fbd61",
   "metadata": {},
   "source": [
    "Change the encoding of the entry to ensure all values are strings."
   ]
  },
  {
   "cell_type": "code",
   "execution_count": null,
   "id": "1413d630",
   "metadata": {},
   "outputs": [],
   "source": [
    "sample_entry_encoded = {k: str(v) for k, v in sample_entry.items()}\n"
   ]
  },
  {
   "cell_type": "markdown",
   "id": "c06d77d2",
   "metadata": {},
   "source": [
    "Read the police killings dataset and plot a bar chart of categories and their values."
   ]
  },
  {
   "cell_type": "code",
   "execution_count": null,
   "id": "6801fe37",
   "metadata": {},
   "outputs": [],
   "source": [
    "data = pd.read_csv('police_killings.csv')\n",
    "plt.bar(data['Category'], data['Value'])\n",
    "plt.show()\n"
   ]
  },
  {
   "cell_type": "markdown",
   "id": "540567ad",
   "metadata": {},
   "source": [
    "Save the updated dataset to a new CSV file."
   ]
  },
  {
   "cell_type": "code",
   "execution_count": null,
   "id": "c2f5d8c1",
   "metadata": {},
   "outputs": [],
   "source": [
    "data.to_csv('police_killings_updated.csv', index=False)\n"
   ]
  },
  {
   "cell_type": "markdown",
   "id": "51ee8ae2",
   "metadata": {},
   "source": [
    "Check and confirm that answers in the workflow are correct."
   ]
  },
  {
   "cell_type": "code",
   "execution_count": null,
   "id": "4cd05f01",
   "metadata": {},
   "outputs": [],
   "source": [
    "print('Answers Checked')\n"
   ]
  },
  {
   "cell_type": "markdown",
   "id": "807de147",
   "metadata": {},
   "source": [
    "Optional practice to explore the dataset for any encoding issues."
   ]
  },
  {
   "cell_type": "code",
   "execution_count": null,
   "id": "f7a514a2",
   "metadata": {},
   "outputs": [],
   "source": [
    "data.info()\n"
   ]
  }
 ],
 "metadata": {
  "kernelspec": {
   "display_name": "Python 3",
   "language": "python",
   "name": "python3"
  },
  "language_info": {
   "codemirror_mode": {
    "name": "ipython",
    "version": 3
   },
   "file_extension": ".py",
   "mimetype": "text/x-python",
   "name": "python",
   "nbconvert_exporter": "python",
   "pygments_lexer": "ipython3",
   "version": "3.8.5"
  }
 },
 "nbformat": 4,
 "nbformat_minor": 5
}
