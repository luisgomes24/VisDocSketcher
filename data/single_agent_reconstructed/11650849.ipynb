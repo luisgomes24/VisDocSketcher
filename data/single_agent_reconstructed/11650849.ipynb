{
 "cells": [
  {
   "cell_type": "markdown",
   "id": "65e98fd7",
   "metadata": {},
   "source": [
    "Load the dataset from a CSV file using pandas."
   ]
  },
  {
   "cell_type": "code",
   "execution_count": null,
   "id": "05516c46",
   "metadata": {},
   "outputs": [],
   "source": [
    "import pandas as pd\n",
    "\n",
    "data = pd.read_csv('data.csv')"
   ]
  },
  {
   "cell_type": "markdown",
   "id": "1660186b",
   "metadata": {},
   "source": [
    "Explore unique labels present in the dataset."
   ]
  },
  {
   "cell_type": "code",
   "execution_count": null,
   "id": "c8c0fa7d",
   "metadata": {},
   "outputs": [],
   "source": [
    "labels = data['label'].unique()\n",
    "print(labels)"
   ]
  },
  {
   "cell_type": "markdown",
   "id": "29047ae4",
   "metadata": {},
   "source": [
    "Create a count plot for the labels to visualize their distribution."
   ]
  },
  {
   "cell_type": "code",
   "execution_count": null,
   "id": "e995202a",
   "metadata": {},
   "outputs": [],
   "source": [
    "import seaborn as sns\n",
    "import matplotlib.pyplot as plt\n",
    "sns.countplot(x='label', data=data)\n",
    "plt.show()"
   ]
  },
  {
   "cell_type": "markdown",
   "id": "7ea50b90",
   "metadata": {},
   "source": [
    "Explore the training data by displaying summary statistics."
   ]
  },
  {
   "cell_type": "code",
   "execution_count": null,
   "id": "bd9770a5",
   "metadata": {},
   "outputs": [],
   "source": [
    "print(data.describe())"
   ]
  },
  {
   "cell_type": "markdown",
   "id": "276d3b51",
   "metadata": {},
   "source": [
    "Generate a count plot to visualize the distribution of all classes in the dataset."
   ]
  },
  {
   "cell_type": "code",
   "execution_count": null,
   "id": "64266157",
   "metadata": {},
   "outputs": [],
   "source": [
    "sns.countplot(data=data)\n",
    "plt.show()"
   ]
  },
  {
   "cell_type": "markdown",
   "id": "41ab73dd",
   "metadata": {},
   "source": [
    "Summarize the continuous variables in the dataset."
   ]
  },
  {
   "cell_type": "code",
   "execution_count": null,
   "id": "aa2025aa",
   "metadata": {},
   "outputs": [],
   "source": [
    "continuous_summary = data.describe(include='number')\n",
    "print(continuous_summary)"
   ]
  },
  {
   "cell_type": "markdown",
   "id": "55da1dfa",
   "metadata": {},
   "source": [
    "Calculate and display the correlation matrix for the continuous variables."
   ]
  },
  {
   "cell_type": "code",
   "execution_count": null,
   "id": "8725df95",
   "metadata": {},
   "outputs": [],
   "source": [
    "correlations = data.corr()\n",
    "print(correlations)"
   ]
  },
  {
   "cell_type": "markdown",
   "id": "a77912e7",
   "metadata": {},
   "source": [
    "Indicate that the script has finished executing."
   ]
  },
  {
   "cell_type": "code",
   "execution_count": null,
   "id": "bc697140",
   "metadata": {},
   "outputs": [],
   "source": [
    "print('Script Complete')"
   ]
  }
 ],
 "metadata": {
  "kernelspec": {
   "display_name": "Python 3",
   "language": "python",
   "name": "python3"
  },
  "language_info": {
   "codemirror_mode": {
    "name": "ipython",
    "version": 3
   },
   "file_extension": ".py",
   "mimetype": "text/x-python",
   "name": "python",
   "nbconvert_exporter": "python",
   "pygments_lexer": "ipython3",
   "version": "3.8.5"
  }
 },
 "nbformat": 4,
 "nbformat_minor": 5
}
