{
 "cells": [
  {
   "cell_type": "markdown",
   "id": "e49c1e7e",
   "metadata": {},
   "source": [
    "Load the Titanic dataset into a pandas DataFrame."
   ]
  },
  {
   "cell_type": "code",
   "execution_count": null,
   "id": "1e351ccf",
   "metadata": {},
   "outputs": [],
   "source": [
    "import pandas as pd\n",
    "df = pd.read_csv('titanic.csv')"
   ]
  },
  {
   "cell_type": "markdown",
   "id": "d9f1e0fc",
   "metadata": {},
   "source": [
    "Preview the data to understand its structure and contents."
   ]
  },
  {
   "cell_type": "code",
   "execution_count": null,
   "id": "e3c81335",
   "metadata": {},
   "outputs": [],
   "source": [
    "df.info()"
   ]
  },
  {
   "cell_type": "markdown",
   "id": "4b3e4263",
   "metadata": {},
   "source": [
    "Drop unnecessary columns to clean the dataset."
   ]
  },
  {
   "cell_type": "code",
   "execution_count": null,
   "id": "162075ec",
   "metadata": {},
   "outputs": [],
   "source": [
    "df.drop(columns=['Cabin', 'Ticket'], inplace=True)"
   ]
  },
  {
   "cell_type": "markdown",
   "id": "65c5044d",
   "metadata": {},
   "source": [
    "Handle missing values by filling them with the mean."
   ]
  },
  {
   "cell_type": "code",
   "execution_count": null,
   "id": "e6d2d8e9",
   "metadata": {},
   "outputs": [],
   "source": [
    "df.fillna(df.mean(), inplace=True)"
   ]
  },
  {
   "cell_type": "markdown",
   "id": "b5a082bf",
   "metadata": {},
   "source": [
    "Create categorical features for age groups."
   ]
  },
  {
   "cell_type": "code",
   "execution_count": null,
   "id": "c65dc564",
   "metadata": {},
   "outputs": [],
   "source": [
    "df['Age_Category'] = pd.cut(df['Age'], bins=[0, 12, 18, 35, 60, 100], labels=['Child', 'Teen', 'Adult', 'Senior', 'Elderly'])"
   ]
  },
  {
   "cell_type": "markdown",
   "id": "981e3bd9",
   "metadata": {},
   "source": [
    "Convert categorical variables into dummy/indicator variables."
   ]
  },
  {
   "cell_type": "code",
   "execution_count": null,
   "id": "32678df5",
   "metadata": {},
   "outputs": [],
   "source": [
    "df = pd.get_dummies(df, columns=['Embarked'], drop_first=True)"
   ]
  },
  {
   "cell_type": "markdown",
   "id": "f97af2f4",
   "metadata": {},
   "source": [
    "Visualize the survival rate by passenger class using a bar plot."
   ]
  },
  {
   "cell_type": "code",
   "execution_count": null,
   "id": "0d9066e8",
   "metadata": {},
   "outputs": [],
   "source": [
    "import seaborn as sns\n",
    "import matplotlib.pyplot as plt\n",
    "sns.barplot(x='Pclass', y='Survived', data=df)\n",
    "plt.title('Age Survival Rate')\n",
    "plt.show()"
   ]
  },
  {
   "cell_type": "markdown",
   "id": "06fbda96",
   "metadata": {},
   "source": [
    "Visualize the distribution of fare prices using a histogram."
   ]
  },
  {
   "cell_type": "code",
   "execution_count": null,
   "id": "62cb0ef9",
   "metadata": {},
   "outputs": [],
   "source": [
    "sns.histplot(df['Fare'], bins=30)\n",
    "plt.title('Fare Distribution')\n",
    "plt.show()"
   ]
  },
  {
   "cell_type": "markdown",
   "id": "2ab2b98c",
   "metadata": {},
   "source": [
    "Visualize survival rates based on embarkation point."
   ]
  },
  {
   "cell_type": "code",
   "execution_count": null,
   "id": "ed5fcc72",
   "metadata": {},
   "outputs": [],
   "source": [
    "sns.barplot(x='Embarked', y='Survived', data=df)\n",
    "plt.title('Explore Embarked')\n",
    "plt.show()"
   ]
  },
  {
   "cell_type": "markdown",
   "id": "bb0c5aac",
   "metadata": {},
   "source": [
    "Split the dataset into training and testing sets."
   ]
  },
  {
   "cell_type": "code",
   "execution_count": null,
   "id": "0ad0f8a1",
   "metadata": {},
   "outputs": [],
   "source": [
    "from sklearn.model_selection import train_test_split\n",
    "X = df.drop('Survived', axis=1)\n",
    "y = df['Survived']\n",
    "X_train, X_test, y_train, y_test = train_test_split(X, y, test_size=0.2, random_state=42)"
   ]
  },
  {
   "cell_type": "markdown",
   "id": "bf4924a2",
   "metadata": {},
   "source": [
    "Train a Logistic Regression model using the training set."
   ]
  },
  {
   "cell_type": "code",
   "execution_count": null,
   "id": "75cda5f2",
   "metadata": {},
   "outputs": [],
   "source": [
    "from sklearn.linear_model import LogisticRegression\n",
    "log_reg = LogisticRegression()\n",
    "log_reg.fit(X_train, y_train)"
   ]
  },
  {
   "cell_type": "markdown",
   "id": "6a4fc932",
   "metadata": {},
   "source": [
    "Evaluate the logistic regression model performance."
   ]
  },
  {
   "cell_type": "code",
   "execution_count": null,
   "id": "994de2c2",
   "metadata": {},
   "outputs": [],
   "source": [
    "log_reg_score = log_reg.score(X_test, y_test)"
   ]
  },
  {
   "cell_type": "markdown",
   "id": "c5504295",
   "metadata": {},
   "source": [
    "Train a Random Forest model on the training data."
   ]
  },
  {
   "cell_type": "code",
   "execution_count": null,
   "id": "1d1461e4",
   "metadata": {},
   "outputs": [],
   "source": [
    "from sklearn.ensemble import RandomForestClassifier\n",
    "rf_model = RandomForestClassifier()\n",
    "rf_model.fit(X_train, y_train)"
   ]
  },
  {
   "cell_type": "markdown",
   "id": "5bd43808",
   "metadata": {},
   "source": [
    "Evaluate the performance of the Random Forest model."
   ]
  },
  {
   "cell_type": "code",
   "execution_count": null,
   "id": "5b6bec35",
   "metadata": {},
   "outputs": [],
   "source": [
    "rf_score = rf_model.score(X_test, y_test)"
   ]
  },
  {
   "cell_type": "markdown",
   "id": "aa754531",
   "metadata": {},
   "source": [
    "Prepare the submission file with predicted survival outcomes."
   ]
  },
  {
   "cell_type": "code",
   "execution_count": null,
   "id": "682bd7cb",
   "metadata": {},
   "outputs": [],
   "source": [
    "submission = pd.DataFrame({'PassengerId': df['PassengerId'], 'Survived': log_reg.predict(X)} )\n",
    "submission.to_csv('submission.csv', index=False)"
   ]
  }
 ],
 "metadata": {
  "kernelspec": {
   "display_name": "Python 3",
   "language": "python",
   "name": "python3"
  },
  "language_info": {
   "codemirror_mode": {
    "name": "ipython",
    "version": 3
   },
   "file_extension": ".py",
   "mimetype": "text/x-python",
   "name": "python",
   "nbconvert_exporter": "python",
   "pygments_lexer": "ipython3",
   "version": "3.8.5"
  }
 },
 "nbformat": 4,
 "nbformat_minor": 5
}
