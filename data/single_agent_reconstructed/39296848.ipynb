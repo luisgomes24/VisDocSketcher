{
 "cells": [
  {
   "cell_type": "markdown",
   "id": "0dd76131",
   "metadata": {},
   "source": [
    "Load the training, test, and sample submission datasets using Pandas."
   ]
  },
  {
   "cell_type": "code",
   "execution_count": null,
   "id": "d4e49dff",
   "metadata": {},
   "outputs": [],
   "source": [
    "import pandas as pd\n",
    "\n",
    "df_train = pd.read_csv('df_train.csv')\n",
    "df_test = pd.read_csv('df_test.csv')\n",
    "df_sample_submission = pd.read_csv('df_sample_submission.csv')"
   ]
  },
  {
   "cell_type": "markdown",
   "id": "b912d74d",
   "metadata": {},
   "source": [
    "Generate a statistical overview of the training dataset."
   ]
  },
  {
   "cell_type": "code",
   "execution_count": null,
   "id": "ede3e092",
   "metadata": {},
   "outputs": [],
   "source": [
    "df_overview = df_train.describe()"
   ]
  },
  {
   "cell_type": "markdown",
   "id": "1f25bd18",
   "metadata": {},
   "source": [
    "Clean the dataset by removing rows with missing values."
   ]
  },
  {
   "cell_type": "code",
   "execution_count": null,
   "id": "59326185",
   "metadata": {},
   "outputs": [],
   "source": [
    "df_cleaned = df_train.dropna()"
   ]
  },
  {
   "cell_type": "markdown",
   "id": "9d339ece",
   "metadata": {},
   "source": [
    "Encode categorical features using one-hot encoding."
   ]
  },
  {
   "cell_type": "code",
   "execution_count": null,
   "id": "abb29a38",
   "metadata": {},
   "outputs": [],
   "source": [
    "df_encoded = pd.get_dummies(df_cleaned, drop_first=True)"
   ]
  },
  {
   "cell_type": "markdown",
   "id": "5f505c58",
   "metadata": {},
   "source": [
    "Create a correlation heatmap to visualize relationships between features."
   ]
  },
  {
   "cell_type": "code",
   "execution_count": null,
   "id": "2ec15ada",
   "metadata": {},
   "outputs": [],
   "source": [
    "import seaborn as sns\n",
    "import matplotlib.pyplot as plt\n",
    "\n",
    "sns.heatmap(df_encoded.corr())\n",
    "plt.show()"
   ]
  },
  {
   "cell_type": "markdown",
   "id": "e37cfcce",
   "metadata": {},
   "source": [
    "Select the top features based on statistical tests."
   ]
  },
  {
   "cell_type": "code",
   "execution_count": null,
   "id": "f4356804",
   "metadata": {},
   "outputs": [],
   "source": [
    "from sklearn.feature_selection import SelectKBest, f_classif\n",
    "\n",
    "X = df_encoded.drop('target', axis=1)\n",
    "y = df_encoded['target']\n",
    "selector = SelectKBest(score_func=f_classif, k=10)\n",
    "X_selected = selector.fit_transform(X, y)"
   ]
  },
  {
   "cell_type": "markdown",
   "id": "934da4cb",
   "metadata": {},
   "source": [
    "Split the data into training and testing sets."
   ]
  },
  {
   "cell_type": "code",
   "execution_count": null,
   "id": "c796d588",
   "metadata": {},
   "outputs": [],
   "source": [
    "from sklearn.model_selection import train_test_split\n",
    "\n",
    "X_train, X_test, y_train, y_test = train_test_split(X_selected, y, test_size=0.2, random_state=42)"
   ]
  },
  {
   "cell_type": "markdown",
   "id": "25df015c",
   "metadata": {},
   "source": [
    "Train the model using the XGBoost algorithm."
   ]
  },
  {
   "cell_type": "code",
   "execution_count": null,
   "id": "fc9a036c",
   "metadata": {},
   "outputs": [],
   "source": [
    "from xgboost import XGBRegressor\n",
    "\n",
    "model = XGBRegressor()\n",
    "model.fit(X_train, y_train)"
   ]
  },
  {
   "cell_type": "markdown",
   "id": "5369b5cf",
   "metadata": {},
   "source": [
    "Evaluate the model performance using Mean Absolute Error."
   ]
  },
  {
   "cell_type": "code",
   "execution_count": null,
   "id": "23005cdb",
   "metadata": {},
   "outputs": [],
   "source": [
    "from sklearn.metrics import mean_absolute_error\n",
    "\n",
    "predictions = model.predict(X_test)\n",
    "mae = mean_absolute_error(y_test, predictions)"
   ]
  },
  {
   "cell_type": "markdown",
   "id": "e91b6945",
   "metadata": {},
   "source": [
    "Retrieve the best parameters used in training the model."
   ]
  },
  {
   "cell_type": "code",
   "execution_count": null,
   "id": "7dbf195c",
   "metadata": {},
   "outputs": [],
   "source": [
    "best_params = model.get_params()"
   ]
  },
  {
   "cell_type": "markdown",
   "id": "ba375741",
   "metadata": {},
   "source": [
    "Train the final model using the best parameters on the entire dataset."
   ]
  },
  {
   "cell_type": "code",
   "execution_count": null,
   "id": "7afe019f",
   "metadata": {},
   "outputs": [],
   "source": [
    "final_model = XGBRegressor(**best_params)\n",
    "final_model.fit(X_selected, y)"
   ]
  },
  {
   "cell_type": "markdown",
   "id": "60917f67",
   "metadata": {},
   "source": [
    "Prepare and save the submission dataset."
   ]
  },
  {
   "cell_type": "code",
   "execution_count": null,
   "id": "f4733fb8",
   "metadata": {},
   "outputs": [],
   "source": [
    "submission = pd.DataFrame({'Id': df_test['Id'], 'Prediction': final_model.predict(df_test)})\n",
    "submission.to_csv('submission.csv', index=False)"
   ]
  }
 ],
 "metadata": {
  "kernelspec": {
   "display_name": "Python 3",
   "language": "python",
   "name": "python3"
  },
  "language_info": {
   "codemirror_mode": {
    "name": "ipython",
    "version": 3
   },
   "file_extension": ".py",
   "mimetype": "text/x-python",
   "name": "python",
   "nbconvert_exporter": "python",
   "pygments_lexer": "ipython3",
   "version": "3.8.5"
  }
 },
 "nbformat": 4,
 "nbformat_minor": 5
}
