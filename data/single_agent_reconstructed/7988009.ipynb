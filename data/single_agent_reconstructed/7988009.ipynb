{
 "cells": [
  {
   "cell_type": "markdown",
   "id": "713a7e30",
   "metadata": {},
   "source": [
    "Load client, product, and purchase data from CSV files."
   ]
  },
  {
   "cell_type": "code",
   "execution_count": null,
   "id": "bd17c594",
   "metadata": {},
   "outputs": [],
   "source": [
    "import pandas as pd\n",
    "clients_data = pd.read_csv('clients.csv')\n",
    "products_data = pd.read_csv('products.csv')\n",
    "purchases_data = pd.read_csv('purchases.csv')"
   ]
  },
  {
   "cell_type": "markdown",
   "id": "114be0bd",
   "metadata": {},
   "source": [
    "Define a function to preview the first few rows of a DataFrame."
   ]
  },
  {
   "cell_type": "code",
   "execution_count": null,
   "id": "a8f3de59",
   "metadata": {},
   "outputs": [],
   "source": [
    "def preview_data(df):\n",
    "    print(df.head())"
   ]
  },
  {
   "cell_type": "markdown",
   "id": "2c139c2a",
   "metadata": {},
   "source": [
    "Create a distribution graph for the 'age' variable in clients data."
   ]
  },
  {
   "cell_type": "code",
   "execution_count": null,
   "id": "2cb37117",
   "metadata": {},
   "outputs": [],
   "source": [
    "import seaborn as sns\n",
    "import matplotlib.pyplot as plt\n",
    "sns.histplot(data=clients_data, x='age')\n",
    "plt.show()"
   ]
  },
  {
   "cell_type": "markdown",
   "id": "6b5940d7",
   "metadata": {},
   "source": [
    "Generate the correlation matrix for numerical variables in clients data."
   ]
  },
  {
   "cell_type": "code",
   "execution_count": null,
   "id": "39bdb996",
   "metadata": {},
   "outputs": [],
   "source": [
    "import numpy as np\n",
    "correlation_matrix = clients_data.corr()"
   ]
  },
  {
   "cell_type": "markdown",
   "id": "b525048a",
   "metadata": {},
   "source": [
    "Create a scatter plot to visualize the relationship between age and purchase_amount."
   ]
  },
  {
   "cell_type": "code",
   "execution_count": null,
   "id": "6469e5df",
   "metadata": {},
   "outputs": [],
   "source": [
    "sns.scatterplot(data=clients_data, x='age', y='purchase_amount')\n",
    "plt.show()"
   ]
  },
  {
   "cell_type": "markdown",
   "id": "b15a6caf",
   "metadata": {},
   "source": [
    "Create a density plot for the 'age' variable in clients data."
   ]
  },
  {
   "cell_type": "code",
   "execution_count": null,
   "id": "9e2b9d94",
   "metadata": {},
   "outputs": [],
   "source": [
    "sns.kdeplot(data=clients_data, x='age', fill=True)\n",
    "plt.show()"
   ]
  }
 ],
 "metadata": {
  "kernelspec": {
   "display_name": "Python 3",
   "language": "python",
   "name": "python3"
  },
  "language_info": {
   "codemirror_mode": {
    "name": "ipython",
    "version": 3
   },
   "file_extension": ".py",
   "mimetype": "text/x-python",
   "name": "python",
   "nbconvert_exporter": "python",
   "pygments_lexer": "ipython3",
   "version": "3.8.5"
  }
 },
 "nbformat": 4,
 "nbformat_minor": 5
}
