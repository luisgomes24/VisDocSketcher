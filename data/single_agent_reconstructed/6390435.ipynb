{
 "cells": [
  {
   "cell_type": "markdown",
   "id": "d8976dbe",
   "metadata": {},
   "source": [
    "Load data from a CSV file into a pandas DataFrame."
   ]
  },
  {
   "cell_type": "code",
   "execution_count": null,
   "id": "b4c54941",
   "metadata": {},
   "outputs": [],
   "source": [
    "import pandas as pd\n",
    "data = pd.read_csv('data.csv')"
   ]
  },
  {
   "cell_type": "markdown",
   "id": "6a4a33f4",
   "metadata": {},
   "source": [
    "Display the first few rows of the dataset for an overview."
   ]
  },
  {
   "cell_type": "code",
   "execution_count": null,
   "id": "da51967c",
   "metadata": {},
   "outputs": [],
   "source": [
    "print(data.head())"
   ]
  },
  {
   "cell_type": "markdown",
   "id": "ae6eb6da",
   "metadata": {},
   "source": [
    "Extract and print the names of the columns in the DataFrame."
   ]
  },
  {
   "cell_type": "code",
   "execution_count": null,
   "id": "f3e64b8b",
   "metadata": {},
   "outputs": [],
   "source": [
    "print(data.columns.tolist())"
   ]
  },
  {
   "cell_type": "markdown",
   "id": "c18cbc98",
   "metadata": {},
   "source": [
    "Create and display pairplot visualizations of the dataset."
   ]
  },
  {
   "cell_type": "code",
   "execution_count": null,
   "id": "f076bceb",
   "metadata": {},
   "outputs": [],
   "source": [
    "import seaborn as sns\n",
    "import matplotlib.pyplot as plt\n",
    "sns.pairplot(data)\n",
    "plt.show()"
   ]
  },
  {
   "cell_type": "markdown",
   "id": "f6ced302",
   "metadata": {},
   "source": [
    "Calculate and print the correlation matrix for numerical features."
   ]
  },
  {
   "cell_type": "code",
   "execution_count": null,
   "id": "be411d01",
   "metadata": {},
   "outputs": [],
   "source": [
    "correlation_matrix = data.corr()\n",
    "print(correlation_matrix)"
   ]
  },
  {
   "cell_type": "markdown",
   "id": "62e82083",
   "metadata": {},
   "source": [
    "Generate and display a lineplot for the 'Flyers' variable over time."
   ]
  },
  {
   "cell_type": "code",
   "execution_count": null,
   "id": "cd99a7a8",
   "metadata": {},
   "outputs": [],
   "source": [
    "plt.figure(figsize=(10,6))\n",
    "sns.lineplot(data=data, x='Date', y='Flyers')\n",
    "plt.title('Lineplot of Flyers')\n",
    "plt.show()"
   ]
  },
  {
   "cell_type": "markdown",
   "id": "251f2514",
   "metadata": {},
   "source": [
    "Generate and display a lineplot for the 'Sales' variable over time."
   ]
  },
  {
   "cell_type": "code",
   "execution_count": null,
   "id": "1d486f8a",
   "metadata": {},
   "outputs": [],
   "source": [
    "plt.figure(figsize=(10,6))\n",
    "sns.lineplot(data=data, x='Date', y='Sales')\n",
    "plt.title('Lineplot of Sales')\n",
    "plt.show()"
   ]
  },
  {
   "cell_type": "markdown",
   "id": "d3758e5d",
   "metadata": {},
   "source": [
    "Generate and display a lineplot for the 'Price' variable over time."
   ]
  },
  {
   "cell_type": "code",
   "execution_count": null,
   "id": "a7da7281",
   "metadata": {},
   "outputs": [],
   "source": [
    "plt.figure(figsize=(10,6))\n",
    "sns.lineplot(data=data, x='Date', y='Price')\n",
    "plt.title('Lineplot of Price')\n",
    "plt.show()"
   ]
  }
 ],
 "metadata": {
  "kernelspec": {
   "display_name": "Python 3",
   "language": "python",
   "name": "python3"
  },
  "language_info": {
   "codemirror_mode": {
    "name": "ipython",
    "version": 3
   },
   "file_extension": ".py",
   "mimetype": "text/x-python",
   "name": "python",
   "nbconvert_exporter": "python",
   "pygments_lexer": "ipython3",
   "version": "3.8.5"
  }
 },
 "nbformat": 4,
 "nbformat_minor": 5
}
