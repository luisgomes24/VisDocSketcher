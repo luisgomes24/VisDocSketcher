{
 "cells": [
  {
   "cell_type": "markdown",
   "id": "eeae2c67",
   "metadata": {},
   "source": [
    "Load the first data file into a DataFrame."
   ]
  },
  {
   "cell_type": "code",
   "execution_count": null,
   "id": "5805012e",
   "metadata": {},
   "outputs": [],
   "source": [
    "import pandas as pd\n",
    "\n",
    "first_file = pd.read_csv('first_file.csv')"
   ]
  },
  {
   "cell_type": "markdown",
   "id": "a62e6008",
   "metadata": {},
   "source": [
    "Plot distribution graphs for the first file."
   ]
  },
  {
   "cell_type": "code",
   "execution_count": null,
   "id": "f7ac085e",
   "metadata": {},
   "outputs": [],
   "source": [
    "import matplotlib.pyplot as plt\n",
    "\n",
    "plt.hist(first_file['column_name'])\n",
    "plt.title('Distribution Graph for First File')\n",
    "plt.show()"
   ]
  },
  {
   "cell_type": "markdown",
   "id": "43f0697d",
   "metadata": {},
   "source": [
    "Calculate the correlation matrix for the first file."
   ]
  },
  {
   "cell_type": "code",
   "execution_count": null,
   "id": "87c68cc1",
   "metadata": {},
   "outputs": [],
   "source": [
    "correlation_matrix_first = first_file.corr()"
   ]
  },
  {
   "cell_type": "markdown",
   "id": "fbc6e351",
   "metadata": {},
   "source": [
    "Visualize the correlation matrix for the first file."
   ]
  },
  {
   "cell_type": "code",
   "execution_count": null,
   "id": "f28bf984",
   "metadata": {},
   "outputs": [],
   "source": [
    "import seaborn as sns\n",
    "sns.heatmap(correlation_matrix_first, annot=True)\n",
    "plt.title('Correlation Matrix for First File')\n",
    "plt.show()"
   ]
  },
  {
   "cell_type": "markdown",
   "id": "c530f60d",
   "metadata": {},
   "source": [
    "Load the second data file into a DataFrame."
   ]
  },
  {
   "cell_type": "code",
   "execution_count": null,
   "id": "02a77e14",
   "metadata": {},
   "outputs": [],
   "source": [
    "second_file = pd.read_csv('second_file.csv')"
   ]
  },
  {
   "cell_type": "markdown",
   "id": "3775432d",
   "metadata": {},
   "source": [
    "Plot distribution graphs for the second file."
   ]
  },
  {
   "cell_type": "code",
   "execution_count": null,
   "id": "f58ca56b",
   "metadata": {},
   "outputs": [],
   "source": [
    "plt.hist(second_file['column_name'])\n",
    "plt.title('Distribution Graph for Second File')\n",
    "plt.show()"
   ]
  },
  {
   "cell_type": "markdown",
   "id": "7269e0df",
   "metadata": {},
   "source": [
    "Calculate the correlation matrix for the second file."
   ]
  },
  {
   "cell_type": "code",
   "execution_count": null,
   "id": "e9ab1a94",
   "metadata": {},
   "outputs": [],
   "source": [
    "correlation_matrix_second = second_file.corr()"
   ]
  },
  {
   "cell_type": "markdown",
   "id": "56a56955",
   "metadata": {},
   "source": [
    "Visualize the correlation matrix for the second file."
   ]
  },
  {
   "cell_type": "code",
   "execution_count": null,
   "id": "5f89e82b",
   "metadata": {},
   "outputs": [],
   "source": [
    "sns.heatmap(correlation_matrix_second, annot=True)\n",
    "plt.title('Correlation Matrix for Second File')\n",
    "plt.show()"
   ]
  },
  {
   "cell_type": "markdown",
   "id": "2765a66d",
   "metadata": {},
   "source": [
    "Create scatter and density plots for the first file."
   ]
  },
  {
   "cell_type": "code",
   "execution_count": null,
   "id": "4124dcf9",
   "metadata": {},
   "outputs": [],
   "source": [
    "sns.scatterplot(data=first_file, x='column_x', y='column_y')\n",
    "plt.title('Scatter and Density Plots for First File')\n",
    "plt.show()"
   ]
  },
  {
   "cell_type": "markdown",
   "id": "9121fdb4",
   "metadata": {},
   "source": [
    "Create scatter and density plots for the second file."
   ]
  },
  {
   "cell_type": "code",
   "execution_count": null,
   "id": "4a025e16",
   "metadata": {},
   "outputs": [],
   "source": [
    "sns.scatterplot(data=second_file, x='column_x', y='column_y')\n",
    "plt.title('Scatter and Density Plots for Second File')\n",
    "plt.show()"
   ]
  }
 ],
 "metadata": {
  "kernelspec": {
   "display_name": "Python 3",
   "language": "python",
   "name": "python3"
  },
  "language_info": {
   "codemirror_mode": {
    "name": "ipython",
    "version": 3
   },
   "file_extension": ".py",
   "mimetype": "text/x-python",
   "name": "python",
   "nbconvert_exporter": "python",
   "pygments_lexer": "ipython3",
   "version": "3.8.5"
  }
 },
 "nbformat": 4,
 "nbformat_minor": 5
}
