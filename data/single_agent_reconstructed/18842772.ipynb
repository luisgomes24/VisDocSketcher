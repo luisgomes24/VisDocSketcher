{
 "cells": [
  {
   "cell_type": "markdown",
   "id": "387df0c9",
   "metadata": {},
   "source": [
    "Load the shark attack data from a CSV file using pandas."
   ]
  },
  {
   "cell_type": "code",
   "execution_count": null,
   "id": "a86bf747",
   "metadata": {},
   "outputs": [],
   "source": [
    "import pandas as pd\n",
    "df = pd.read_csv('shark_attacks.csv')"
   ]
  },
  {
   "cell_type": "markdown",
   "id": "599820d2",
   "metadata": {},
   "source": [
    "Display the first few rows of the dataset to get an overview."
   ]
  },
  {
   "cell_type": "code",
   "execution_count": null,
   "id": "287fc642",
   "metadata": {},
   "outputs": [],
   "source": [
    "print(df.head())"
   ]
  },
  {
   "cell_type": "markdown",
   "id": "5b3b537d",
   "metadata": {},
   "source": [
    "Calculate the count of shark attacks based on gender."
   ]
  },
  {
   "cell_type": "code",
   "execution_count": null,
   "id": "9240a32d",
   "metadata": {},
   "outputs": [],
   "source": [
    "sex_counts = df['Sex'].value_counts()"
   ]
  },
  {
   "cell_type": "markdown",
   "id": "bb6c5b89",
   "metadata": {},
   "source": [
    "Create a pie chart showing the percentage of fatal and non-fatal shark attacks by sex."
   ]
  },
  {
   "cell_type": "code",
   "execution_count": null,
   "id": "b4b5dfab",
   "metadata": {},
   "outputs": [],
   "source": [
    "import matplotlib.pyplot as plt\n",
    "sex_counts.plot.pie(autopct='%1.1f%%')\n",
    "plt.title('Fatal/Non-Fatal Shark Attacks by Sex')\n",
    "plt.show()"
   ]
  },
  {
   "cell_type": "markdown",
   "id": "fb23a3c5",
   "metadata": {},
   "source": [
    "Generate and display a word cloud from the activities reported in the dataset."
   ]
  },
  {
   "cell_type": "code",
   "execution_count": null,
   "id": "046aa9de",
   "metadata": {},
   "outputs": [],
   "source": [
    "from wordcloud import WordCloud\n",
    "wordcloud = WordCloud().generate(' '.join(df['Activity']))\n",
    "plt.imshow(wordcloud, interpolation='bilinear')\n",
    "plt.axis('off')\n",
    "plt.show()"
   ]
  },
  {
   "cell_type": "markdown",
   "id": "d9e6b8f7",
   "metadata": {},
   "source": [
    "Create a barplot to display the top 5 countries with the highest number of shark attacks."
   ]
  },
  {
   "cell_type": "code",
   "execution_count": null,
   "id": "4522849b",
   "metadata": {},
   "outputs": [],
   "source": [
    "country_attacks = df['Country'].value_counts()\n",
    "top_countries = country_attacks.head(5)\n",
    "plt.bar(top_countries.index, top_countries.values)\n",
    "plt.title('Top 5 Countries for Shark Attacks')\n",
    "plt.show()"
   ]
  },
  {
   "cell_type": "markdown",
   "id": "f63c83bb",
   "metadata": {},
   "source": [
    "Create and save a choropleth map to visualize shark attacks by country."
   ]
  },
  {
   "cell_type": "code",
   "execution_count": null,
   "id": "ae14b8a5",
   "metadata": {},
   "outputs": [],
   "source": [
    "import folium\n",
    "choropleth_map = folium.Map(location=[0, 0], zoom_start=2)\n",
    "folium.Choropleth(geo_data='countries.geojson',\n",
    "                   data=country_attacks,\n",
    "                   key_on='feature.properties.name',\n",
    "                   fill_color='YlGn').add_to(choropleth_map)\n",
    "choropleth_map.save('choropleth_map.html')"
   ]
  },
  {
   "cell_type": "markdown",
   "id": "4de446aa",
   "metadata": {},
   "source": [
    "Generate a pie chart to show the distribution of shark attacks by species."
   ]
  },
  {
   "cell_type": "code",
   "execution_count": null,
   "id": "6a183bfa",
   "metadata": {},
   "outputs": [],
   "source": [
    "species_attacks = df['Species'].value_counts()\n",
    "species_attacks.plot.pie(autopct='%1.1f%%')\n",
    "plt.title('Shark Attacks by Species')\n",
    "plt.show()"
   ]
  },
  {
   "cell_type": "markdown",
   "id": "978992bd",
   "metadata": {},
   "source": [
    "Display an image of a shark."
   ]
  },
  {
   "cell_type": "code",
   "execution_count": null,
   "id": "72071acf",
   "metadata": {},
   "outputs": [],
   "source": [
    "import matplotlib.image as mpimg\n",
    "img = mpimg.imread('shark_image.jpg')\n",
    "plt.imshow(img)\n",
    "plt.axis('off')\n",
    "plt.show()"
   ]
  }
 ],
 "metadata": {
  "kernelspec": {
   "display_name": "Python 3",
   "language": "python",
   "name": "python3"
  },
  "language_info": {
   "codemirror_mode": {
    "name": "ipython",
    "version": 3
   },
   "file_extension": ".py",
   "mimetype": "text/x-python",
   "name": "python",
   "nbconvert_exporter": "python",
   "pygments_lexer": "ipython3",
   "version": "3.8.5"
  }
 },
 "nbformat": 4,
 "nbformat_minor": 5
}
