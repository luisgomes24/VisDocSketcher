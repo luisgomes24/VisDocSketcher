{
 "cells": [
  {
   "cell_type": "markdown",
   "id": "dc640081",
   "metadata": {},
   "source": [
    "Load the training and test datasets from CSV files."
   ]
  },
  {
   "cell_type": "code",
   "execution_count": null,
   "id": "fc70974e",
   "metadata": {},
   "outputs": [],
   "source": [
    "import pandas as pd\n",
    "train_data = pd.read_csv('train.csv')\n",
    "test_data = pd.read_csv('test.csv')"
   ]
  },
  {
   "cell_type": "markdown",
   "id": "e4db5728",
   "metadata": {},
   "source": [
    "Preview the first few rows of the training data."
   ]
  },
  {
   "cell_type": "code",
   "execution_count": null,
   "id": "f66ee45e",
   "metadata": {},
   "outputs": [],
   "source": [
    "print(train_data.head())"
   ]
  },
  {
   "cell_type": "markdown",
   "id": "ca253afc",
   "metadata": {},
   "source": [
    "Preview the first few rows of the test data."
   ]
  },
  {
   "cell_type": "code",
   "execution_count": null,
   "id": "aec3ca1c",
   "metadata": {},
   "outputs": [],
   "source": [
    "print(test_data.head())"
   ]
  },
  {
   "cell_type": "markdown",
   "id": "a2fb5d9a",
   "metadata": {},
   "source": [
    "Count and display the unique values in each column of the training data."
   ]
  },
  {
   "cell_type": "code",
   "execution_count": null,
   "id": "7bf2eec1",
   "metadata": {},
   "outputs": [],
   "source": [
    "unique_counts = train_data.nunique()\n",
    "print(unique_counts)"
   ]
  },
  {
   "cell_type": "markdown",
   "id": "84c4042f",
   "metadata": {},
   "source": [
    "Drop columns that are not needed for analysis."
   ]
  },
  {
   "cell_type": "code",
   "execution_count": null,
   "id": "a3d5fecd",
   "metadata": {},
   "outputs": [],
   "source": [
    "train_data = train_data.drop(columns=['unnecessary_column_1', 'unnecessary_column_2'])"
   ]
  },
  {
   "cell_type": "markdown",
   "id": "1a206879",
   "metadata": {},
   "source": [
    "Split the features and target variable from the training data."
   ]
  },
  {
   "cell_type": "code",
   "execution_count": null,
   "id": "ded5d0a3",
   "metadata": {},
   "outputs": [],
   "source": [
    "X = train_data.drop('target', axis=1)\n",
    "y = train_data['target']"
   ]
  },
  {
   "cell_type": "markdown",
   "id": "613febf7",
   "metadata": {},
   "source": [
    "Check the shapes of the features and target arrays."
   ]
  },
  {
   "cell_type": "code",
   "execution_count": null,
   "id": "8ee6f2b6",
   "metadata": {},
   "outputs": [],
   "source": [
    "print(X.shape, y.shape)"
   ]
  },
  {
   "cell_type": "markdown",
   "id": "dcca4ca8",
   "metadata": {},
   "source": [
    "Convert all feature columns to numeric type, coercing errors."
   ]
  },
  {
   "cell_type": "code",
   "execution_count": null,
   "id": "42a33155",
   "metadata": {},
   "outputs": [],
   "source": [
    "X = X.apply(pd.to_numeric, errors='coerce')"
   ]
  },
  {
   "cell_type": "markdown",
   "id": "c624570d",
   "metadata": {},
   "source": [
    "Encode categorical variables using one-hot encoding."
   ]
  },
  {
   "cell_type": "code",
   "execution_count": null,
   "id": "72384506",
   "metadata": {},
   "outputs": [],
   "source": [
    "X = pd.get_dummies(X, drop_first=True)"
   ]
  },
  {
   "cell_type": "markdown",
   "id": "3380873b",
   "metadata": {},
   "source": [
    "Visualize the distributions of the feature variables."
   ]
  },
  {
   "cell_type": "code",
   "execution_count": null,
   "id": "663ce445",
   "metadata": {},
   "outputs": [],
   "source": [
    "import seaborn as sns\n",
    "import matplotlib.pyplot as plt\n",
    "sns.histplot(X)\n",
    "plt.show()"
   ]
  },
  {
   "cell_type": "markdown",
   "id": "622b29f2",
   "metadata": {},
   "source": [
    "Scale the features to standardize them."
   ]
  },
  {
   "cell_type": "code",
   "execution_count": null,
   "id": "aa106061",
   "metadata": {},
   "outputs": [],
   "source": [
    "from sklearn.preprocessing import StandardScaler\n",
    "scaler = StandardScaler()\n",
    "X_scaled = scaler.fit_transform(X)"
   ]
  },
  {
   "cell_type": "markdown",
   "id": "405fb912",
   "metadata": {},
   "source": [
    "Train a Random Forest model on the scaled features."
   ]
  },
  {
   "cell_type": "code",
   "execution_count": null,
   "id": "2e15159e",
   "metadata": {},
   "outputs": [],
   "source": [
    "from sklearn.ensemble import RandomForestClassifier\n",
    "model = RandomForestClassifier()\n",
    "model.fit(X_scaled, y)"
   ]
  },
  {
   "cell_type": "markdown",
   "id": "36d4d681",
   "metadata": {},
   "source": [
    "Make predictions on the training data."
   ]
  },
  {
   "cell_type": "code",
   "execution_count": null,
   "id": "75c00975",
   "metadata": {},
   "outputs": [],
   "source": [
    "predictions = model.predict(X_scaled)"
   ]
  },
  {
   "cell_type": "markdown",
   "id": "9a3034ed",
   "metadata": {},
   "source": [
    "Prepare a DataFrame for submission with Ids and corresponding predictions."
   ]
  },
  {
   "cell_type": "code",
   "execution_count": null,
   "id": "b5349e44",
   "metadata": {},
   "outputs": [],
   "source": [
    "submission = pd.DataFrame({'Id': test_data['Id'], 'Prediction': predictions})"
   ]
  },
  {
   "cell_type": "markdown",
   "id": "d2d5b567",
   "metadata": {},
   "source": [
    "Finalize predictions by aggregating them if needed."
   ]
  },
  {
   "cell_type": "code",
   "execution_count": null,
   "id": "0b8da8b6",
   "metadata": {},
   "outputs": [],
   "source": [
    "finalized_predictions = submission.groupby('Id').mean().reset_index()"
   ]
  },
  {
   "cell_type": "markdown",
   "id": "e9a2573e",
   "metadata": {},
   "source": [
    "Save the submission DataFrame to a CSV file."
   ]
  },
  {
   "cell_type": "code",
   "execution_count": null,
   "id": "38181bca",
   "metadata": {},
   "outputs": [],
   "source": [
    "submission.to_csv('submission.csv', index=False)"
   ]
  }
 ],
 "metadata": {
  "kernelspec": {
   "display_name": "Python 3",
   "language": "python",
   "name": "python3"
  },
  "language_info": {
   "codemirror_mode": {
    "name": "ipython",
    "version": 3
   },
   "file_extension": ".py",
   "mimetype": "text/x-python",
   "name": "python",
   "nbconvert_exporter": "python",
   "pygments_lexer": "ipython3",
   "version": "3.8.5"
  }
 },
 "nbformat": 4,
 "nbformat_minor": 5
}
