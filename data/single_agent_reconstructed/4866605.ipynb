{
 "cells": [
  {
   "cell_type": "markdown",
   "id": "ce029fb0",
   "metadata": {},
   "source": [
    "Load transaction data from BigQuery into a pandas DataFrame."
   ]
  },
  {
   "cell_type": "code",
   "execution_count": null,
   "id": "45d20f7b",
   "metadata": {},
   "outputs": [],
   "source": [
    "from google.cloud import bigquery\n",
    "client = bigquery.Client()\n",
    "query = 'SELECT * FROM `project.dataset.transactions`'\n",
    "df = client.query(query).to_dataframe()"
   ]
  },
  {
   "cell_type": "markdown",
   "id": "bef343d7",
   "metadata": {},
   "source": [
    "Preview the first few rows of the transactions DataFrame."
   ]
  },
  {
   "cell_type": "code",
   "execution_count": null,
   "id": "d7f4eae4",
   "metadata": {},
   "outputs": [],
   "source": [
    "print(df.head())"
   ]
  },
  {
   "cell_type": "markdown",
   "id": "2bc747ac",
   "metadata": {},
   "source": [
    "Filter transactions by a specific date."
   ]
  },
  {
   "cell_type": "code",
   "execution_count": null,
   "id": "4fcda39c",
   "metadata": {},
   "outputs": [],
   "source": [
    "filtered_df = df[df['date'] == '2023-10-01']"
   ]
  },
  {
   "cell_type": "markdown",
   "id": "775c0b31",
   "metadata": {},
   "source": [
    "Plot the filtered transactions over time using a line graph."
   ]
  },
  {
   "cell_type": "code",
   "execution_count": null,
   "id": "3cee23ea",
   "metadata": {},
   "outputs": [],
   "source": [
    "import matplotlib.pyplot as plt\n",
    "plt.plot(filtered_df['date'], filtered_df['amount'])\n",
    "plt.title('Transactions Over Time')\n",
    "plt.xlabel('Date')\n",
    "plt.ylabel('Transaction Amount')\n",
    "plt.show()"
   ]
  }
 ],
 "metadata": {
  "kernelspec": {
   "display_name": "Python 3",
   "language": "python",
   "name": "python3"
  },
  "language_info": {
   "codemirror_mode": {
    "name": "ipython",
    "version": 3
   },
   "file_extension": ".py",
   "mimetype": "text/x-python",
   "name": "python",
   "nbconvert_exporter": "python",
   "pygments_lexer": "ipython3",
   "version": "3.8.5"
  }
 },
 "nbformat": 4,
 "nbformat_minor": 5
}
