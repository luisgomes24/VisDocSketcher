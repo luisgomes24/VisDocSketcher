{
 "cells": [
  {
   "cell_type": "markdown",
   "id": "600ace40",
   "metadata": {},
   "source": [
    "Importing the pandas library for data manipulation."
   ]
  },
  {
   "cell_type": "code",
   "execution_count": null,
   "id": "5f92d8b5",
   "metadata": {},
   "outputs": [],
   "source": [
    "import pandas as pd"
   ]
  },
  {
   "cell_type": "markdown",
   "id": "bda06047",
   "metadata": {},
   "source": [
    "Reading a CSV file into a DataFrame."
   ]
  },
  {
   "cell_type": "code",
   "execution_count": null,
   "id": "26b1ff5d",
   "metadata": {},
   "outputs": [],
   "source": [
    "df = pd.read_csv('data.csv')"
   ]
  },
  {
   "cell_type": "markdown",
   "id": "2e25d7ab",
   "metadata": {},
   "source": [
    "Checking for NaN values in the DataFrame."
   ]
  },
  {
   "cell_type": "code",
   "execution_count": null,
   "id": "7f8230a2",
   "metadata": {},
   "outputs": [],
   "source": [
    "print(df.isna().sum())"
   ]
  },
  {
   "cell_type": "markdown",
   "id": "e9b45148",
   "metadata": {},
   "source": [
    "Checking the data types of each column."
   ]
  },
  {
   "cell_type": "code",
   "execution_count": null,
   "id": "d80f7219",
   "metadata": {},
   "outputs": [],
   "source": [
    "print(df.dtypes)"
   ]
  },
  {
   "cell_type": "markdown",
   "id": "02af9a0d",
   "metadata": {},
   "source": [
    "Changing the 'Date' column to datetime object."
   ]
  },
  {
   "cell_type": "code",
   "execution_count": null,
   "id": "3693ce38",
   "metadata": {},
   "outputs": [],
   "source": [
    "df['Date'] = pd.to_datetime(df['Date'])"
   ]
  },
  {
   "cell_type": "markdown",
   "id": "30233efa",
   "metadata": {},
   "source": [
    "Extracting year and month from the 'Date' column."
   ]
  },
  {
   "cell_type": "code",
   "execution_count": null,
   "id": "d05d21fb",
   "metadata": {},
   "outputs": [],
   "source": [
    "df['Year'] = df['Date'].dt.year; df['Month'] = df['Date'].dt.month"
   ]
  },
  {
   "cell_type": "markdown",
   "id": "6f3fa84d",
   "metadata": {},
   "source": [
    "Calculating average stock prices for each year."
   ]
  },
  {
   "cell_type": "code",
   "execution_count": null,
   "id": "f07a36f3",
   "metadata": {},
   "outputs": [],
   "source": [
    "annual_prices = df.groupby('Year')['Close'].mean()"
   ]
  },
  {
   "cell_type": "markdown",
   "id": "88c5e387",
   "metadata": {},
   "source": [
    "Comparing Open, High, Low, Close prices by year."
   ]
  },
  {
   "cell_type": "code",
   "execution_count": null,
   "id": "3d0fd287",
   "metadata": {},
   "outputs": [],
   "source": [
    "yearly_comparison = df.groupby('Year')[['Open', 'High', 'Low', 'Close']].mean()"
   ]
  },
  {
   "cell_type": "markdown",
   "id": "7de1cafb",
   "metadata": {},
   "source": [
    "Comparing Open, High, Low, Close prices by month."
   ]
  },
  {
   "cell_type": "code",
   "execution_count": null,
   "id": "76b59bee",
   "metadata": {},
   "outputs": [],
   "source": [
    "monthly_comparison = df.groupby(['Year', 'Month'])[['Open', 'High', 'Low', 'Close']].mean()"
   ]
  },
  {
   "cell_type": "markdown",
   "id": "8b313cba",
   "metadata": {},
   "source": [
    "Analyzing changes from open to close prices."
   ]
  },
  {
   "cell_type": "code",
   "execution_count": null,
   "id": "3810b16d",
   "metadata": {},
   "outputs": [],
   "source": [
    "df['Price Change'] = df['Close'] - df['Open']"
   ]
  },
  {
   "cell_type": "markdown",
   "id": "2e37dc0c",
   "metadata": {},
   "source": [
    "Investigating stock changes specifically for the year 2020."
   ]
  },
  {
   "cell_type": "code",
   "execution_count": null,
   "id": "0630a177",
   "metadata": {},
   "outputs": [],
   "source": [
    "changes_2020 = df[df['Year'] == 2020]"
   ]
  },
  {
   "cell_type": "markdown",
   "id": "7ae8a34e",
   "metadata": {},
   "source": [
    "Calculating total volume changes by year."
   ]
  },
  {
   "cell_type": "code",
   "execution_count": null,
   "id": "2ff39feb",
   "metadata": {},
   "outputs": [],
   "source": [
    "volume_changes = df.groupby('Year')['Volume'].sum()"
   ]
  },
  {
   "cell_type": "markdown",
   "id": "8d298ded",
   "metadata": {},
   "source": [
    "Finding highest and lowest prices by year."
   ]
  },
  {
   "cell_type": "code",
   "execution_count": null,
   "id": "77dec083",
   "metadata": {},
   "outputs": [],
   "source": [
    "highest_lowest = df.groupby('Year')['Close'].agg(['max', 'min'])"
   ]
  }
 ],
 "metadata": {
  "kernelspec": {
   "display_name": "Python 3",
   "language": "python",
   "name": "python3"
  },
  "language_info": {
   "codemirror_mode": {
    "name": "ipython",
    "version": 3
   },
   "file_extension": ".py",
   "mimetype": "text/x-python",
   "name": "python",
   "nbconvert_exporter": "python",
   "pygments_lexer": "ipython3",
   "version": "3.8.5"
  }
 },
 "nbformat": 4,
 "nbformat_minor": 5
}
