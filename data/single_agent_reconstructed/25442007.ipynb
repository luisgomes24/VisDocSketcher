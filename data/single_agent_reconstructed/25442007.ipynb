{
 "cells": [
  {
   "cell_type": "markdown",
   "id": "64efbc67",
   "metadata": {},
   "source": [
    "Load the MNIST dataset using `fetch_openml` from `sklearn.datasets`."
   ]
  },
  {
   "cell_type": "code",
   "execution_count": null,
   "id": "a7aa1d99",
   "metadata": {},
   "outputs": [],
   "source": [
    "from sklearn.datasets import fetch_openml\n",
    "mnist = fetch_openml('mnist_784', version=1)\n",
    "X, y = mnist['data'], mnist['target']"
   ]
  },
  {
   "cell_type": "markdown",
   "id": "42b5cd11",
   "metadata": {},
   "source": [
    "Normalize the pixel values and reshape the data to 28x28 images."
   ]
  },
  {
   "cell_type": "code",
   "execution_count": null,
   "id": "5590b91f",
   "metadata": {},
   "outputs": [],
   "source": [
    "import numpy as np\n",
    "X = X / 255.0\n",
    "X = X.reshape(-1, 28, 28)"
   ]
  },
  {
   "cell_type": "markdown",
   "id": "a3a34715",
   "metadata": {},
   "source": [
    "Initialize PCA for dimensionality reduction."
   ]
  },
  {
   "cell_type": "code",
   "execution_count": null,
   "id": "ceb8b595",
   "metadata": {},
   "outputs": [],
   "source": [
    "from sklearn.decomposition import PCA\n",
    "pca = PCA()"
   ]
  },
  {
   "cell_type": "markdown",
   "id": "5f74736e",
   "metadata": {},
   "source": [
    "Fit the PCA model and transform the dataset into the PCA space."
   ]
  },
  {
   "cell_type": "code",
   "execution_count": null,
   "id": "008b2350",
   "metadata": {},
   "outputs": [],
   "source": [
    "X_pca = pca.fit_transform(X.reshape(-1, 784))"
   ]
  },
  {
   "cell_type": "markdown",
   "id": "73c91862",
   "metadata": {},
   "source": [
    "Create a 2D scatter plot of the projected dataset."
   ]
  },
  {
   "cell_type": "code",
   "execution_count": null,
   "id": "481139ce",
   "metadata": {},
   "outputs": [],
   "source": [
    "import matplotlib.pyplot as plt\n",
    "plt.scatter(X_pca[:, 0], X_pca[:, 1])\n",
    "plt.xlabel('PC1')\n",
    "plt.ylabel('PC2')\n",
    "plt.title('2D Plot of the Projected Dataset')\n",
    "plt.show()"
   ]
  },
  {
   "cell_type": "markdown",
   "id": "4de84029",
   "metadata": {},
   "source": [
    "Create a 3D scatter plot of the projected dataset."
   ]
  },
  {
   "cell_type": "code",
   "execution_count": null,
   "id": "1b13306d",
   "metadata": {},
   "outputs": [],
   "source": [
    "from mpl_toolkits.mplot3d import Axes3D\n",
    "fig = plt.figure()\n",
    "ax = fig.add_subplot(111, projection='3d')\n",
    "ax.scatter(X_pca[:, 0], X_pca[:, 1], X_pca[:, 2])\n",
    "ax.set_xlabel('PC1')\n",
    "ax.set_ylabel('PC2')\n",
    "ax.set_zlabel('PC3')\n",
    "plt.title('3D Plot of the Projected Dataset')\n",
    "plt.show()"
   ]
  },
  {
   "cell_type": "markdown",
   "id": "cac0d89a",
   "metadata": {},
   "source": [
    "Implement PCA using Scikit-Learn with two components."
   ]
  },
  {
   "cell_type": "code",
   "execution_count": null,
   "id": "f72dfccc",
   "metadata": {},
   "outputs": [],
   "source": [
    "pca_sklearn = PCA(n_components=2)\n",
    "X_pca_sklearn = pca_sklearn.fit_transform(X)"
   ]
  },
  {
   "cell_type": "markdown",
   "id": "ae555b9d",
   "metadata": {},
   "source": [
    "Create a 2D plot using the Scikit-Learn PCA output."
   ]
  },
  {
   "cell_type": "code",
   "execution_count": null,
   "id": "faeca768",
   "metadata": {},
   "outputs": [],
   "source": [
    "plt.scatter(X_pca_sklearn[:, 0], X_pca_sklearn[:, 1])\n",
    "plt.xlabel('PC1')\n",
    "plt.ylabel('PC2')\n",
    "plt.title('2D Plot using Scikit-Learn')\n",
    "plt.show()"
   ]
  },
  {
   "cell_type": "markdown",
   "id": "9b462e3a",
   "metadata": {},
   "source": [
    "Create a 3D plot using the Scikit-Learn PCA output."
   ]
  },
  {
   "cell_type": "code",
   "execution_count": null,
   "id": "0be202a2",
   "metadata": {},
   "outputs": [],
   "source": [
    "fig = plt.figure()\n",
    "ax = fig.add_subplot(111, projection='3d')\n",
    "ax.scatter(X_pca_sklearn[:, 0], X_pca_sklearn[:, 1], np.zeros(X_pca_sklearn.shape[0]))\n",
    "ax.set_xlabel('PC1')\n",
    "ax.set_ylabel('PC2')\n",
    "ax.set_zlabel('Zero')\n",
    "plt.title('3D Plot using Scikit-Learn')\n",
    "plt.show()"
   ]
  }
 ],
 "metadata": {
  "kernelspec": {
   "display_name": "Python 3",
   "language": "python",
   "name": "python3"
  },
  "language_info": {
   "codemirror_mode": {
    "name": "ipython",
    "version": 3
   },
   "file_extension": ".py",
   "mimetype": "text/x-python",
   "name": "python",
   "nbconvert_exporter": "python",
   "pygments_lexer": "ipython3",
   "version": "3.8.5"
  }
 },
 "nbformat": 4,
 "nbformat_minor": 5
}
