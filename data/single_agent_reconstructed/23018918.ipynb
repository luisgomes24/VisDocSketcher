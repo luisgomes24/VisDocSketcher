{
 "cells": [
  {
   "cell_type": "markdown",
   "id": "78bc04e1",
   "metadata": {},
   "source": [
    "Load the CIFAR-10 dataset, splitting it into training and test sets."
   ]
  },
  {
   "cell_type": "code",
   "execution_count": null,
   "id": "0200a270",
   "metadata": {},
   "outputs": [],
   "source": [
    "import tensorflow as tf\n",
    "from tensorflow.keras.datasets import cifar10\n",
    "(x_train, y_train), (x_test, y_test) = cifar10.load_data()"
   ]
  },
  {
   "cell_type": "markdown",
   "id": "5dd02d33",
   "metadata": {},
   "source": [
    "Visualize the first image in the training set."
   ]
  },
  {
   "cell_type": "code",
   "execution_count": null,
   "id": "10421386",
   "metadata": {},
   "outputs": [],
   "source": [
    "import matplotlib.pyplot as plt\n",
    "plt.imshow(x_train[0])\n",
    "plt.show()"
   ]
  },
  {
   "cell_type": "markdown",
   "id": "bcfb7f16",
   "metadata": {},
   "source": [
    "Normalize the image pixel values to be between 0 and 1."
   ]
  },
  {
   "cell_type": "code",
   "execution_count": null,
   "id": "01761df1",
   "metadata": {},
   "outputs": [],
   "source": [
    "x_train = x_train.astype('float32') / 255.0\n",
    "x_test = x_test.astype('float32') / 255.0"
   ]
  },
  {
   "cell_type": "markdown",
   "id": "84c6c97d",
   "metadata": {},
   "source": [
    "Build a simple artificial neural network (ANN) model."
   ]
  },
  {
   "cell_type": "code",
   "execution_count": null,
   "id": "35141efe",
   "metadata": {},
   "outputs": [],
   "source": [
    "from tensorflow.keras.models import Sequential\n",
    "from tensorflow.keras.layers import Dense, Flatten\n",
    "model_ann = Sequential([Flatten(input_shape=(32, 32, 3)), Dense(128, activation='relu'), Dense(10, activation='softmax')])"
   ]
  },
  {
   "cell_type": "markdown",
   "id": "88ea0826",
   "metadata": {},
   "source": [
    "Compile and train the ANN model."
   ]
  },
  {
   "cell_type": "code",
   "execution_count": null,
   "id": "17b8df33",
   "metadata": {},
   "outputs": [],
   "source": [
    "model_ann.compile(optimizer='adam', loss='sparse_categorical_crossentropy', metrics=['accuracy'])\n",
    "history_ann = model_ann.fit(x_train, y_train, epochs=10, validation_data=(x_test, y_test))"
   ]
  },
  {
   "cell_type": "markdown",
   "id": "87cceaea",
   "metadata": {},
   "source": [
    "Make predictions on the test set using the ANN model."
   ]
  },
  {
   "cell_type": "code",
   "execution_count": null,
   "id": "8df4b185",
   "metadata": {},
   "outputs": [],
   "source": [
    "predictions_ann = model_ann.predict(x_test)"
   ]
  },
  {
   "cell_type": "markdown",
   "id": "f3383a21",
   "metadata": {},
   "source": [
    "Evaluate the accuracy of the ANN model."
   ]
  },
  {
   "cell_type": "code",
   "execution_count": null,
   "id": "63dd41a2",
   "metadata": {},
   "outputs": [],
   "source": [
    "loss, accuracy_ann = model_ann.evaluate(x_test, y_test)"
   ]
  },
  {
   "cell_type": "markdown",
   "id": "0ba0935c",
   "metadata": {},
   "source": [
    "Build a convolutional neural network (CNN) model."
   ]
  },
  {
   "cell_type": "code",
   "execution_count": null,
   "id": "4d7a42f2",
   "metadata": {},
   "outputs": [],
   "source": [
    "from tensorflow.keras.layers import Conv2D, MaxPooling2D\n",
    "model_cnn = Sequential([Conv2D(32, (3, 3), activation='relu', input_shape=(32, 32, 3)), MaxPooling2D((2, 2)), Flatten(), Dense(64, activation='relu'), Dense(10, activation='softmax')])"
   ]
  },
  {
   "cell_type": "markdown",
   "id": "9d5af9c3",
   "metadata": {},
   "source": [
    "Compile and train the CNN model."
   ]
  },
  {
   "cell_type": "code",
   "execution_count": null,
   "id": "d94f3045",
   "metadata": {},
   "outputs": [],
   "source": [
    "model_cnn.compile(optimizer='adam', loss='sparse_categorical_crossentropy', metrics=['accuracy'])\n",
    "history_cnn = model_cnn.fit(x_train, y_train, epochs=10, validation_data=(x_test, y_test))"
   ]
  },
  {
   "cell_type": "markdown",
   "id": "96cadbe0",
   "metadata": {},
   "source": [
    "Make predictions on the test set using the CNN model."
   ]
  },
  {
   "cell_type": "code",
   "execution_count": null,
   "id": "97584f55",
   "metadata": {},
   "outputs": [],
   "source": [
    "predictions_cnn = model_cnn.predict(x_test)"
   ]
  },
  {
   "cell_type": "markdown",
   "id": "6e09b17a",
   "metadata": {},
   "source": [
    "Evaluate the accuracy of the CNN model."
   ]
  },
  {
   "cell_type": "code",
   "execution_count": null,
   "id": "61614138",
   "metadata": {},
   "outputs": [],
   "source": [
    "loss, accuracy_cnn = model_cnn.evaluate(x_test, y_test)"
   ]
  }
 ],
 "metadata": {
  "kernelspec": {
   "display_name": "Python 3",
   "language": "python",
   "name": "python3"
  },
  "language_info": {
   "codemirror_mode": {
    "name": "ipython",
    "version": 3
   },
   "file_extension": ".py",
   "mimetype": "text/x-python",
   "name": "python",
   "nbconvert_exporter": "python",
   "pygments_lexer": "ipython3",
   "version": "3.8.5"
  }
 },
 "nbformat": 4,
 "nbformat_minor": 5
}
