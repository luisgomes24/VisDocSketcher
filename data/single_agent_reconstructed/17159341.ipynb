{
 "cells": [
  {
   "cell_type": "markdown",
   "id": "675e129c",
   "metadata": {},
   "source": [
    "Load the dataset from a CSV file using pandas."
   ]
  },
  {
   "cell_type": "code",
   "execution_count": null,
   "id": "6cb3b1fb",
   "metadata": {},
   "outputs": [],
   "source": [
    "import pandas as pd\n",
    "data = pd.read_csv('data.csv')"
   ]
  },
  {
   "cell_type": "markdown",
   "id": "564ecc2e",
   "metadata": {},
   "source": [
    "Define the categories for grading."
   ]
  },
  {
   "cell_type": "code",
   "execution_count": null,
   "id": "b6cb289c",
   "metadata": {},
   "outputs": [],
   "source": [
    "categories = ['A', 'B', 'C']"
   ]
  },
  {
   "cell_type": "markdown",
   "id": "f4909e53",
   "metadata": {},
   "source": [
    "Function to check the category of a score."
   ]
  },
  {
   "cell_type": "code",
   "execution_count": null,
   "id": "bf93ecf6",
   "metadata": {},
   "outputs": [],
   "source": [
    "def check_category(score):\n",
    "    if score >= 90:\n",
    "        return 'A'\n",
    "    elif score >= 80:\n",
    "        return 'B'\n",
    "    else:\n",
    "        return 'C'"
   ]
  },
  {
   "cell_type": "markdown",
   "id": "b5cdd4a8",
   "metadata": {},
   "source": [
    "Apply the category check to each score in the dataset."
   ]
  },
  {
   "cell_type": "code",
   "execution_count": null,
   "id": "4d92706e",
   "metadata": {},
   "outputs": [],
   "source": [
    "data['Category'] = data['Score'].apply(check_category)"
   ]
  },
  {
   "cell_type": "markdown",
   "id": "e2d7df09",
   "metadata": {},
   "source": [
    "Count the number of occurrences in each grade category."
   ]
  },
  {
   "cell_type": "code",
   "execution_count": null,
   "id": "d0eda6c1",
   "metadata": {},
   "outputs": [],
   "source": [
    "grades_count = data['Category'].value_counts()"
   ]
  },
  {
   "cell_type": "markdown",
   "id": "66402c54",
   "metadata": {},
   "source": [
    "Print the shape of the dataset."
   ]
  },
  {
   "cell_type": "code",
   "execution_count": null,
   "id": "6b36f2b7",
   "metadata": {},
   "outputs": [],
   "source": [
    "print(data.shape)"
   ]
  },
  {
   "cell_type": "markdown",
   "id": "e7353a55",
   "metadata": {},
   "source": [
    "Check the total number of completed tasks."
   ]
  },
  {
   "cell_type": "code",
   "execution_count": null,
   "id": "7829bb0b",
   "metadata": {},
   "outputs": [],
   "source": [
    "race_completion = data['Completion'].sum()"
   ]
  },
  {
   "cell_type": "markdown",
   "id": "41803cbb",
   "metadata": {},
   "source": [
    "Find numbers divisible by 3 from 1 to 100."
   ]
  },
  {
   "cell_type": "code",
   "execution_count": null,
   "id": "aa212a6f",
   "metadata": {},
   "outputs": [],
   "source": [
    "divisible_numbers = [num for num in range(1, 101) if num % 3 == 0]"
   ]
  },
  {
   "cell_type": "markdown",
   "id": "58622721",
   "metadata": {},
   "source": [
    "Print the list of divisible numbers."
   ]
  },
  {
   "cell_type": "code",
   "execution_count": null,
   "id": "cd7b2d61",
   "metadata": {},
   "outputs": [],
   "source": [
    "print(divisible_numbers)"
   ]
  },
  {
   "cell_type": "markdown",
   "id": "a061fc5c",
   "metadata": {},
   "source": [
    "Calculate and store the squares of numbers from 1 to 10."
   ]
  },
  {
   "cell_type": "code",
   "execution_count": null,
   "id": "15ce55d0",
   "metadata": {},
   "outputs": [],
   "source": [
    "squares = [num**2 for num in range(1, 11)]"
   ]
  },
  {
   "cell_type": "markdown",
   "id": "15489e88",
   "metadata": {},
   "source": [
    "Print the calculated squares."
   ]
  },
  {
   "cell_type": "code",
   "execution_count": null,
   "id": "78edcb31",
   "metadata": {},
   "outputs": [],
   "source": [
    "print(squares)"
   ]
  },
  {
   "cell_type": "markdown",
   "id": "138ddee4",
   "metadata": {},
   "source": [
    "Find the average of the test marks."
   ]
  },
  {
   "cell_type": "code",
   "execution_count": null,
   "id": "f1a41648",
   "metadata": {},
   "outputs": [],
   "source": [
    "test_marks = data['Test Marks'].mean()"
   ]
  }
 ],
 "metadata": {
  "kernelspec": {
   "display_name": "Python 3",
   "language": "python",
   "name": "python3"
  },
  "language_info": {
   "codemirror_mode": {
    "name": "ipython",
    "version": 3
   },
   "file_extension": ".py",
   "mimetype": "text/x-python",
   "name": "python",
   "nbconvert_exporter": "python",
   "pygments_lexer": "ipython3",
   "version": "3.8.5"
  }
 },
 "nbformat": 4,
 "nbformat_minor": 5
}
