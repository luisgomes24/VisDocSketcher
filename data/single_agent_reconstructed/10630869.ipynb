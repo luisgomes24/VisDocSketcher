{
 "cells": [
  {
   "cell_type": "markdown",
   "id": "12d1da1c",
   "metadata": {},
   "source": [
    "Download data from a URL and save it as a zip file."
   ]
  },
  {
   "cell_type": "code",
   "execution_count": null,
   "id": "8db57a57",
   "metadata": {},
   "outputs": [],
   "source": [
    "import requests\n",
    "\n",
    "url = 'http://example.com/data.zip'\n",
    "response = requests.get(url)\n",
    "\n",
    "with open('data.zip', 'wb') as f:\n",
    "f.write(response.content)"
   ]
  },
  {
   "cell_type": "markdown",
   "id": "ca4b260f",
   "metadata": {},
   "source": [
    "Unzip the downloaded file into a specified directory."
   ]
  },
  {
   "cell_type": "code",
   "execution_count": null,
   "id": "6ec7987e",
   "metadata": {},
   "outputs": [],
   "source": [
    "import zipfile\n",
    "\n",
    "with zipfile.ZipFile('data.zip', 'r') as zip_ref:\n",
    "    zip_ref.extractall('data')"
   ]
  },
  {
   "cell_type": "markdown",
   "id": "53e3a3dd",
   "metadata": {},
   "source": [
    "Set the base directory for the data files."
   ]
  },
  {
   "cell_type": "code",
   "execution_count": null,
   "id": "325053fc",
   "metadata": {},
   "outputs": [],
   "source": [
    "import os\n",
    "\n",
    "base_dir = 'data/'"
   ]
  },
  {
   "cell_type": "markdown",
   "id": "9c29676c",
   "metadata": {},
   "source": [
    "Find all files in the base directory."
   ]
  },
  {
   "cell_type": "code",
   "execution_count": null,
   "id": "452053bb",
   "metadata": {},
   "outputs": [],
   "source": [
    "import glob\n",
    "\n",
    "all_files = glob.glob(os.path.join(base_dir, '*'))"
   ]
  },
  {
   "cell_type": "markdown",
   "id": "2beb15db",
   "metadata": {},
   "source": [
    "Convert Unicode characters to ASCII."
   ]
  },
  {
   "cell_type": "code",
   "execution_count": null,
   "id": "beee5d92",
   "metadata": {},
   "outputs": [],
   "source": [
    "def unicode_to_ascii(s):\n",
    "    return ''.join(c for c in s if ord(c) < 128)"
   ]
  },
  {
   "cell_type": "markdown",
   "id": "a818d5ed",
   "metadata": {},
   "source": [
    "Read lines from the first file."
   ]
  },
  {
   "cell_type": "code",
   "execution_count": null,
   "id": "97a1ef4e",
   "metadata": {},
   "outputs": [],
   "source": [
    "lines = []\n",
    "with open(all_files[0], 'r') as f:\n",
    "    lines = f.readlines()"
   ]
  },
  {
   "cell_type": "markdown",
   "id": "16835b93",
   "metadata": {},
   "source": [
    "Show a sample of data lines from the file."
   ]
  },
  {
   "cell_type": "code",
   "execution_count": null,
   "id": "15017916",
   "metadata": {},
   "outputs": [],
   "source": [
    "import random\n",
    "sample_lines = random.sample(lines, 5)\n",
    "print(sample_lines)"
   ]
  },
  {
   "cell_type": "markdown",
   "id": "0c0750c3",
   "metadata": {},
   "source": [
    "Function to convert a letter to its corresponding index."
   ]
  },
  {
   "cell_type": "code",
   "execution_count": null,
   "id": "c516abb2",
   "metadata": {},
   "outputs": [],
   "source": [
    "def letter_to_index(letter):\n",
    "    return ord(letter) - ord('a')"
   ]
  },
  {
   "cell_type": "markdown",
   "id": "93c9652e",
   "metadata": {},
   "source": [
    "Convert a letter into a tensor representation."
   ]
  },
  {
   "cell_type": "code",
   "execution_count": null,
   "id": "22b32ef8",
   "metadata": {},
   "outputs": [],
   "source": [
    "def letter_to_tensor(letter):\n",
    "    index = letter_to_index(letter)\n",
    "    return np.array([index])"
   ]
  },
  {
   "cell_type": "markdown",
   "id": "c78cfbbf",
   "metadata": {},
   "source": [
    "Convert an entire line into tensor form."
   ]
  },
  {
   "cell_type": "code",
   "execution_count": null,
   "id": "ca21018a",
   "metadata": {},
   "outputs": [],
   "source": [
    "def line_to_tensor(line):\n",
    "    return np.array([letter_to_tensor(letter) for letter in line])"
   ]
  },
  {
   "cell_type": "markdown",
   "id": "89deafcb",
   "metadata": {},
   "source": [
    "Define a Recurrent Neural Network (RNN) model."
   ]
  },
  {
   "cell_type": "code",
   "execution_count": null,
   "id": "d726bc8a",
   "metadata": {},
   "outputs": [],
   "source": [
    "from keras.models import Sequential\n",
    "from keras.layers import LSTM, Dense\n",
    "\n",
    "model = Sequential()\n",
    "model.add(LSTM(128, input_shape=(None, num_features)))\n",
    "model.add(Dense(num_classes, activation='softmax'))"
   ]
  },
  {
   "cell_type": "markdown",
   "id": "b3546294",
   "metadata": {},
   "source": [
    "Test the RNN with sample input data."
   ]
  },
  {
   "cell_type": "code",
   "execution_count": null,
   "id": "b3ad0907",
   "metadata": {},
   "outputs": [],
   "source": [
    "input_data = line_to_tensor(sample_lines[0])\n",
    "y_pred = model.predict(input_data)"
   ]
  },
  {
   "cell_type": "markdown",
   "id": "6c8ee3ef",
   "metadata": {},
   "source": [
    "Predict the category from the output of the RNN."
   ]
  },
  {
   "cell_type": "code",
   "execution_count": null,
   "id": "b462d90d",
   "metadata": {},
   "outputs": [],
   "source": [
    "predicted_category = np.argmax(y_pred, axis=1)"
   ]
  },
  {
   "cell_type": "markdown",
   "id": "63a2a39f",
   "metadata": {},
   "source": [
    "Select a random training example."
   ]
  },
  {
   "cell_type": "code",
   "execution_count": null,
   "id": "9dca5b82",
   "metadata": {},
   "outputs": [],
   "source": [
    "random_example = random.choice(lines)\n",
    "example_tensor = line_to_tensor(random_example)"
   ]
  },
  {
   "cell_type": "markdown",
   "id": "955ab00d",
   "metadata": {},
   "source": [
    "Train the RNN model using the training data."
   ]
  },
  {
   "cell_type": "code",
   "execution_count": null,
   "id": "bff90707",
   "metadata": {},
   "outputs": [],
   "source": [
    "model.fit(training_data, training_labels, epochs=10)"
   ]
  },
  {
   "cell_type": "markdown",
   "id": "6716734c",
   "metadata": {},
   "source": [
    "Plot the losses during training."
   ]
  },
  {
   "cell_type": "code",
   "execution_count": null,
   "id": "2fffc694",
   "metadata": {},
   "outputs": [],
   "source": [
    "import matplotlib.pyplot as plt\n",
    "\n",
    "plt.plot(losses)\n",
    "plt.title('Losses')\n",
    "plt.show()"
   ]
  },
  {
   "cell_type": "markdown",
   "id": "96e4d31e",
   "metadata": {},
   "source": [
    "Create and visualize a confusion matrix."
   ]
  },
  {
   "cell_type": "code",
   "execution_count": null,
   "id": "aa8c7145",
   "metadata": {},
   "outputs": [],
   "source": [
    "from sklearn.metrics import confusion_matrix\n",
    "import seaborn as sns\n",
    "\n",
    "conf_matrix = confusion_matrix(y_true, y_pred)\n",
    "sns.heatmap(conf_matrix, annot=True)"
   ]
  },
  {
   "cell_type": "markdown",
   "id": "659f34c9",
   "metadata": {},
   "source": [
    "Predict categories for new examples."
   ]
  },
  {
   "cell_type": "code",
   "execution_count": null,
   "id": "23e94751",
   "metadata": {},
   "outputs": [],
   "source": [
    "new_example = line_to_tensor('example')\n",
    "prediction = model.predict(new_example)"
   ]
  }
 ],
 "metadata": {
  "kernelspec": {
   "display_name": "Python 3",
   "language": "python",
   "name": "python3"
  },
  "language_info": {
   "codemirror_mode": {
    "name": "ipython",
    "version": 3
   },
   "file_extension": ".py",
   "mimetype": "text/x-python",
   "name": "python",
   "nbconvert_exporter": "python",
   "pygments_lexer": "ipython3",
   "version": "3.8.5"
  }
 },
 "nbformat": 4,
 "nbformat_minor": 5
}
