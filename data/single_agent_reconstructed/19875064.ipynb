{
 "cells": [
  {
   "cell_type": "markdown",
   "id": "a90118bc",
   "metadata": {},
   "source": [
    "Load the data from a CSV file into a DataFrame."
   ]
  },
  {
   "cell_type": "code",
   "execution_count": null,
   "id": "06c68296",
   "metadata": {},
   "outputs": [],
   "source": [
    "import pandas as pd\n",
    "\n",
    "data = pd.read_csv('data.csv')"
   ]
  },
  {
   "cell_type": "markdown",
   "id": "f493f381",
   "metadata": {},
   "source": [
    "Split the data into training and testing sets."
   ]
  },
  {
   "cell_type": "code",
   "execution_count": null,
   "id": "95fa1534",
   "metadata": {},
   "outputs": [],
   "source": [
    "train_data, test_data = train_test_split(data, test_size=0.2)"
   ]
  },
  {
   "cell_type": "markdown",
   "id": "3a2eeb01",
   "metadata": {},
   "source": [
    "Check for missing values in the dataset."
   ]
  },
  {
   "cell_type": "code",
   "execution_count": null,
   "id": "271b0fe6",
   "metadata": {},
   "outputs": [],
   "source": [
    "missing_values = data.isnull().sum()"
   ]
  },
  {
   "cell_type": "markdown",
   "id": "7ce92321",
   "metadata": {},
   "source": [
    "Fill missing values using forward fill method."
   ]
  },
  {
   "cell_type": "code",
   "execution_count": null,
   "id": "ab6f516f",
   "metadata": {},
   "outputs": [],
   "source": [
    "data.fillna(method='ffill', inplace=True)"
   ]
  },
  {
   "cell_type": "markdown",
   "id": "fe70175c",
   "metadata": {},
   "source": [
    "Separate features (X) from labels (Y) in the dataset."
   ]
  },
  {
   "cell_type": "code",
   "execution_count": null,
   "id": "75018aaf",
   "metadata": {},
   "outputs": [],
   "source": [
    "X = data.drop('label', axis=1)\n",
    "Y = data['label']"
   ]
  },
  {
   "cell_type": "markdown",
   "id": "c2609ddf",
   "metadata": {},
   "source": [
    "Visualize the count of each label using a count plot."
   ]
  },
  {
   "cell_type": "code",
   "execution_count": null,
   "id": "d78ac615",
   "metadata": {},
   "outputs": [],
   "source": [
    "import seaborn as sns\n",
    "import matplotlib.pyplot as plt\n",
    "sns.countplot(x='label', data=data)\n",
    "plt.show()"
   ]
  },
  {
   "cell_type": "markdown",
   "id": "608670d5",
   "metadata": {},
   "source": [
    "Randomly sample a few images from the dataset."
   ]
  },
  {
   "cell_type": "code",
   "execution_count": null,
   "id": "66335925",
   "metadata": {},
   "outputs": [],
   "source": [
    "import random\n",
    "sample_images = random.sample(data['image_path'].tolist(), 5)"
   ]
  },
  {
   "cell_type": "markdown",
   "id": "ce5b1613",
   "metadata": {},
   "source": [
    "Perform a train-test split on the features and labels."
   ]
  },
  {
   "cell_type": "code",
   "execution_count": null,
   "id": "6c86ffe7",
   "metadata": {},
   "outputs": [],
   "source": [
    "from sklearn.model_selection import train_test_split\n",
    "X_train, X_test, Y_train, Y_test = train_test_split(X, Y, test_size=0.2)"
   ]
  },
  {
   "cell_type": "markdown",
   "id": "18af743c",
   "metadata": {},
   "source": [
    "Build a Random Forest model for classification."
   ]
  },
  {
   "cell_type": "code",
   "execution_count": null,
   "id": "d1668458",
   "metadata": {},
   "outputs": [],
   "source": [
    "from sklearn.ensemble import RandomForestClassifier\n",
    "model = RandomForestClassifier()"
   ]
  },
  {
   "cell_type": "markdown",
   "id": "15f74d52",
   "metadata": {},
   "source": [
    "Train the model using the training data."
   ]
  },
  {
   "cell_type": "code",
   "execution_count": null,
   "id": "d60efb41",
   "metadata": {},
   "outputs": [],
   "source": [
    "model.fit(X_train, Y_train)"
   ]
  },
  {
   "cell_type": "markdown",
   "id": "8eff1f49",
   "metadata": {},
   "source": [
    "Evaluate the model by calculating its accuracy."
   ]
  },
  {
   "cell_type": "code",
   "execution_count": null,
   "id": "1c7c4203",
   "metadata": {},
   "outputs": [],
   "source": [
    "from sklearn.metrics import accuracy_score\n",
    "accuracy = accuracy_score(Y_test, model.predict(X_test))\n",
    "print('Accuracy:', accuracy)"
   ]
  },
  {
   "cell_type": "markdown",
   "id": "dd095470",
   "metadata": {},
   "source": [
    "Evaluate the model by calculating the log loss."
   ]
  },
  {
   "cell_type": "code",
   "execution_count": null,
   "id": "6372bdba",
   "metadata": {},
   "outputs": [],
   "source": [
    "from sklearn.metrics import log_loss\n",
    "loss = log_loss(Y_test, model.predict_proba(X_test))\n",
    "print('Loss:', loss)"
   ]
  },
  {
   "cell_type": "markdown",
   "id": "3fb4466f",
   "metadata": {},
   "source": [
    "Make predictions on the test data."
   ]
  },
  {
   "cell_type": "code",
   "execution_count": null,
   "id": "df1c34eb",
   "metadata": {},
   "outputs": [],
   "source": [
    "predictions = model.predict(X_test)"
   ]
  },
  {
   "cell_type": "markdown",
   "id": "4e976b4f",
   "metadata": {},
   "source": [
    "Generate and visualize the confusion matrix."
   ]
  },
  {
   "cell_type": "code",
   "execution_count": null,
   "id": "f7545ed0",
   "metadata": {},
   "outputs": [],
   "source": [
    "from sklearn.metrics import confusion_matrix\n",
    "import seaborn as sns\n",
    "cm = confusion_matrix(Y_test, predictions)\n",
    "sns.heatmap(cm, annot=True, fmt='d')\n",
    "plt.show()"
   ]
  },
  {
   "cell_type": "markdown",
   "id": "80e74bce",
   "metadata": {},
   "source": [
    "Save the trained model to a file."
   ]
  },
  {
   "cell_type": "code",
   "execution_count": null,
   "id": "544abe6b",
   "metadata": {},
   "outputs": [],
   "source": [
    "import joblib\n",
    "joblib.dump(model, 'model.pkl')"
   ]
  },
  {
   "cell_type": "markdown",
   "id": "12fc8ede",
   "metadata": {},
   "source": [
    "Prepare and save the submission file."
   ]
  },
  {
   "cell_type": "code",
   "execution_count": null,
   "id": "e90056bd",
   "metadata": {},
   "outputs": [],
   "source": [
    "submission = pd.DataFrame({'Id': test_ids, 'Predicted': predictions})\n",
    "submission.to_csv('submission.csv', index=False)"
   ]
  }
 ],
 "metadata": {
  "kernelspec": {
   "display_name": "Python 3",
   "language": "python",
   "name": "python3"
  },
  "language_info": {
   "codemirror_mode": {
    "name": "ipython",
    "version": 3
   },
   "file_extension": ".py",
   "mimetype": "text/x-python",
   "name": "python",
   "nbconvert_exporter": "python",
   "pygments_lexer": "ipython3",
   "version": "3.8.5"
  }
 },
 "nbformat": 4,
 "nbformat_minor": 5
}
