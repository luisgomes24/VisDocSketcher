{
 "cells": [
  {
   "cell_type": "markdown",
   "id": "7e84447f",
   "metadata": {},
   "source": [
    "Load data from a CSV file into a DataFrame."
   ]
  },
  {
   "cell_type": "code",
   "execution_count": null,
   "id": "c700c681",
   "metadata": {},
   "outputs": [],
   "source": [
    "df = pd.read_csv('data.csv')"
   ]
  },
  {
   "cell_type": "markdown",
   "id": "1ad72157",
   "metadata": {},
   "source": [
    "Check for missing values by summing up null entries in each column."
   ]
  },
  {
   "cell_type": "code",
   "execution_count": null,
   "id": "b3352f6e",
   "metadata": {},
   "outputs": [],
   "source": [
    "df.isnull().sum()"
   ]
  },
  {
   "cell_type": "markdown",
   "id": "de28ad26",
   "metadata": {},
   "source": [
    "Visualize yearly sales by grouping the data by year and counting cases."
   ]
  },
  {
   "cell_type": "code",
   "execution_count": null,
   "id": "1d070942",
   "metadata": {},
   "outputs": [],
   "source": [
    "df.groupby('year').count()['cases'].plot()"
   ]
  },
  {
   "cell_type": "markdown",
   "id": "fe6d9dff",
   "metadata": {},
   "source": [
    "Create a sales visualization by country for a given year."
   ]
  },
  {
   "cell_type": "code",
   "execution_count": null,
   "id": "045e02ba",
   "metadata": {},
   "outputs": [],
   "source": [
    "df[['country', 'year']].value_counts().plot()"
   ]
  },
  {
   "cell_type": "markdown",
   "id": "593beadf",
   "metadata": {},
   "source": [
    "Visualize the distribution of whiskey quality using a bar chart."
   ]
  },
  {
   "cell_type": "code",
   "execution_count": null,
   "id": "437b5e24",
   "metadata": {},
   "outputs": [],
   "source": [
    "df['quality'].value_counts().plot.bar()"
   ]
  },
  {
   "cell_type": "markdown",
   "id": "a75388e7",
   "metadata": {},
   "source": [
    "Display the top 10 countries by sales using a bar chart."
   ]
  },
  {
   "cell_type": "code",
   "execution_count": null,
   "id": "5b6269d8",
   "metadata": {},
   "outputs": [],
   "source": [
    "df['country'].value_counts()[:10].plot.bar()"
   ]
  },
  {
   "cell_type": "markdown",
   "id": "60f52530",
   "metadata": {},
   "source": [
    "Create an interactive line plot to show sales trends over the years."
   ]
  },
  {
   "cell_type": "code",
   "execution_count": null,
   "id": "af343301",
   "metadata": {},
   "outputs": [],
   "source": [
    "fig = px.line(df, x='year', y='cases')"
   ]
  }
 ],
 "metadata": {
  "kernelspec": {
   "display_name": "Python 3",
   "language": "python",
   "name": "python3"
  },
  "language_info": {
   "codemirror_mode": {
    "name": "ipython",
    "version": 3
   },
   "file_extension": ".py",
   "mimetype": "text/x-python",
   "name": "python",
   "nbconvert_exporter": "python",
   "pygments_lexer": "ipython3",
   "version": "3.8.5"
  }
 },
 "nbformat": 4,
 "nbformat_minor": 5
}
