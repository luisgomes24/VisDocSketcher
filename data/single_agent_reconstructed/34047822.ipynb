{
 "cells": [
  {
   "cell_type": "markdown",
   "id": "fd466336",
   "metadata": {},
   "source": [
    "Load the dataset from a CSV file using pandas."
   ]
  },
  {
   "cell_type": "code",
   "execution_count": null,
   "id": "4e385962",
   "metadata": {},
   "outputs": [],
   "source": [
    "import pandas as pd\n",
    "\n",
    "data = pd.read_csv('data.csv')"
   ]
  },
  {
   "cell_type": "markdown",
   "id": "e9eb21e5",
   "metadata": {},
   "source": [
    "Prepare data by removing any rows with missing values."
   ]
  },
  {
   "cell_type": "code",
   "execution_count": null,
   "id": "f5f5b168",
   "metadata": {},
   "outputs": [],
   "source": [
    "data = data.dropna()"
   ]
  },
  {
   "cell_type": "markdown",
   "id": "a686a10d",
   "metadata": {},
   "source": [
    "Convert a column to a categorical type as part of preprocessing."
   ]
  },
  {
   "cell_type": "code",
   "execution_count": null,
   "id": "86a7fd52",
   "metadata": {},
   "outputs": [],
   "source": [
    "data['column_name'] = data['column_name'].astype('category')"
   ]
  },
  {
   "cell_type": "markdown",
   "id": "f6537de3",
   "metadata": {},
   "source": [
    "Investigate the dataset to get summary statistics."
   ]
  },
  {
   "cell_type": "code",
   "execution_count": null,
   "id": "4ff3c068",
   "metadata": {},
   "outputs": [],
   "source": [
    "data.describe()"
   ]
  },
  {
   "cell_type": "markdown",
   "id": "a7462443",
   "metadata": {},
   "source": [
    "Analyze and plot the average ratings for each category."
   ]
  },
  {
   "cell_type": "code",
   "execution_count": null,
   "id": "927126ac",
   "metadata": {},
   "outputs": [],
   "source": [
    "import matplotlib.pyplot as plt\n",
    "import seaborn as sns\n",
    "average_ratings = data.groupby('category')['rating'].mean().reset_index()\n",
    "sns.barplot(x='category', y='rating', data=average_ratings)\n",
    "plt.title('Average Ratings Plot')\n",
    "plt.show()"
   ]
  },
  {
   "cell_type": "markdown",
   "id": "baede979",
   "metadata": {},
   "source": [
    "Analyze and plot the count of ratings for each category."
   ]
  },
  {
   "cell_type": "code",
   "execution_count": null,
   "id": "b49a348b",
   "metadata": {},
   "outputs": [],
   "source": [
    "ratings_count = data['category'].value_counts().reset_index()\n",
    "sns.barplot(x='index', y='category', data=ratings_count)\n",
    "plt.title('Ratings Count Plot')\n",
    "plt.show()"
   ]
  }
 ],
 "metadata": {
  "kernelspec": {
   "display_name": "Python 3",
   "language": "python",
   "name": "python3"
  },
  "language_info": {
   "codemirror_mode": {
    "name": "ipython",
    "version": 3
   },
   "file_extension": ".py",
   "mimetype": "text/x-python",
   "name": "python",
   "nbconvert_exporter": "python",
   "pygments_lexer": "ipython3",
   "version": "3.8.5"
  }
 },
 "nbformat": 4,
 "nbformat_minor": 5
}
