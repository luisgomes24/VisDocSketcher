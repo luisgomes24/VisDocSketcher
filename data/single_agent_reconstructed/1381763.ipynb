{
 "cells": [
  {
   "cell_type": "markdown",
   "id": "d0b594c6",
   "metadata": {},
   "source": [
    "Load data from the first file."
   ]
  },
  {
   "cell_type": "code",
   "execution_count": null,
   "id": "40321ac2",
   "metadata": {},
   "outputs": [],
   "source": [
    "import pandas as pd\n",
    "\n",
    "df1 = pd.read_csv('file1.csv')\n"
   ]
  },
  {
   "cell_type": "markdown",
   "id": "c8340d58",
   "metadata": {},
   "source": [
    "Load data from the second file."
   ]
  },
  {
   "cell_type": "code",
   "execution_count": null,
   "id": "b351aa3e",
   "metadata": {},
   "outputs": [],
   "source": [
    "df2 = pd.read_csv('file2.csv')\n"
   ]
  },
  {
   "cell_type": "markdown",
   "id": "deebab81",
   "metadata": {},
   "source": [
    "Get an overview of summary statistics for File 1."
   ]
  },
  {
   "cell_type": "code",
   "execution_count": null,
   "id": "7d6c2438",
   "metadata": {},
   "outputs": [],
   "source": [
    "df1.describe()\n"
   ]
  },
  {
   "cell_type": "markdown",
   "id": "50b34233",
   "metadata": {},
   "source": [
    "Get an overview of summary statistics for File 2."
   ]
  },
  {
   "cell_type": "code",
   "execution_count": null,
   "id": "2b6520ae",
   "metadata": {},
   "outputs": [],
   "source": [
    "df2.describe()\n"
   ]
  },
  {
   "cell_type": "markdown",
   "id": "9f5ab072",
   "metadata": {},
   "source": [
    "Generate histograms for sampled columns in File 1."
   ]
  },
  {
   "cell_type": "code",
   "execution_count": null,
   "id": "7dfe17ff",
   "metadata": {},
   "outputs": [],
   "source": [
    "df1.hist()\n"
   ]
  },
  {
   "cell_type": "markdown",
   "id": "dca4cdcb",
   "metadata": {},
   "source": [
    "Generate histograms for sampled columns in File 2."
   ]
  },
  {
   "cell_type": "code",
   "execution_count": null,
   "id": "0a2f6497",
   "metadata": {},
   "outputs": [],
   "source": [
    "df2.hist()\n"
   ]
  },
  {
   "cell_type": "markdown",
   "id": "777914b7",
   "metadata": {},
   "source": [
    "Calculate the correlation matrix for File 1."
   ]
  },
  {
   "cell_type": "code",
   "execution_count": null,
   "id": "79582054",
   "metadata": {},
   "outputs": [],
   "source": [
    "correlation_matrix_file1 = df1.corr()\n"
   ]
  },
  {
   "cell_type": "markdown",
   "id": "d281fbf6",
   "metadata": {},
   "source": [
    "Calculate the correlation matrix for File 2."
   ]
  },
  {
   "cell_type": "code",
   "execution_count": null,
   "id": "a7d65b16",
   "metadata": {},
   "outputs": [],
   "source": [
    "correlation_matrix_file2 = df2.corr()\n"
   ]
  },
  {
   "cell_type": "markdown",
   "id": "5bdad4e7",
   "metadata": {},
   "source": [
    "Create scatter and density plots for File 1."
   ]
  },
  {
   "cell_type": "code",
   "execution_count": null,
   "id": "b474dcac",
   "metadata": {},
   "outputs": [],
   "source": [
    "import seaborn as sns\n",
    "import matplotlib.pyplot as plt\n",
    "sns.pairplot(df1)\n",
    "plt.show()\n"
   ]
  },
  {
   "cell_type": "markdown",
   "id": "73a67e86",
   "metadata": {},
   "source": [
    "Create scatter and density plots for File 2."
   ]
  },
  {
   "cell_type": "code",
   "execution_count": null,
   "id": "d0947998",
   "metadata": {},
   "outputs": [],
   "source": [
    "sns.pairplot(df2)\n",
    "plt.show()\n"
   ]
  },
  {
   "cell_type": "markdown",
   "id": "2aa6d106",
   "metadata": {},
   "source": [
    "Perform 2D PCA on File 1."
   ]
  },
  {
   "cell_type": "code",
   "execution_count": null,
   "id": "9e2e56f0",
   "metadata": {},
   "outputs": [],
   "source": [
    "from sklearn.decomposition import PCA\n",
    "pca = PCA(n_components=2)\n",
    "transformed_file1 = pca.fit_transform(df1)\n"
   ]
  },
  {
   "cell_type": "markdown",
   "id": "2a84e7ee",
   "metadata": {},
   "source": [
    "Perform 2D PCA on File 2."
   ]
  },
  {
   "cell_type": "code",
   "execution_count": null,
   "id": "4baa7391",
   "metadata": {},
   "outputs": [],
   "source": [
    "pca = PCA(n_components=2)\n",
    "transformed_file2 = pca.fit_transform(df2)\n"
   ]
  },
  {
   "cell_type": "markdown",
   "id": "27ee9177",
   "metadata": {},
   "source": [
    "Perform 3D PCA on File 1."
   ]
  },
  {
   "cell_type": "code",
   "execution_count": null,
   "id": "e96e8970",
   "metadata": {},
   "outputs": [],
   "source": [
    "pca = PCA(n_components=3)\n",
    "transformed_file1_3d = pca.fit_transform(df1)\n"
   ]
  },
  {
   "cell_type": "markdown",
   "id": "0abdb1e2",
   "metadata": {},
   "source": [
    "Perform 3D PCA on File 2."
   ]
  },
  {
   "cell_type": "code",
   "execution_count": null,
   "id": "31b4a691",
   "metadata": {},
   "outputs": [],
   "source": [
    "pca = PCA(n_components=3)\n",
    "transformed_file2_3d = pca.fit_transform(df2)\n"
   ]
  }
 ],
 "metadata": {
  "kernelspec": {
   "display_name": "Python 3",
   "language": "python",
   "name": "python3"
  },
  "language_info": {
   "codemirror_mode": {
    "name": "ipython",
    "version": 3
   },
   "file_extension": ".py",
   "mimetype": "text/x-python",
   "name": "python",
   "nbconvert_exporter": "python",
   "pygments_lexer": "ipython3",
   "version": "3.8.5"
  }
 },
 "nbformat": 4,
 "nbformat_minor": 5
}
