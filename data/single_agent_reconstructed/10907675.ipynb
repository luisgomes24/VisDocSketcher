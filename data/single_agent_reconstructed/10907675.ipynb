{
 "cells": [
  {
   "cell_type": "markdown",
   "id": "9c481d89",
   "metadata": {},
   "source": [
    "Load the dataset from a CSV file."
   ]
  },
  {
   "cell_type": "code",
   "execution_count": null,
   "id": "e142c20c",
   "metadata": {},
   "outputs": [],
   "source": [
    "import pandas as pd\n",
    "\n",
    "data = pd.read_csv('data.csv')"
   ]
  },
  {
   "cell_type": "markdown",
   "id": "408363ec",
   "metadata": {},
   "source": [
    "Display an overview of the data and its statistics."
   ]
  },
  {
   "cell_type": "code",
   "execution_count": null,
   "id": "5c5dd330",
   "metadata": {},
   "outputs": [],
   "source": [
    "print(data.head())\n",
    "print(data.describe())"
   ]
  },
  {
   "cell_type": "markdown",
   "id": "1ada9bd4",
   "metadata": {},
   "source": [
    "Visualize the relationship between Minimum and Maximum temperatures."
   ]
  },
  {
   "cell_type": "code",
   "execution_count": null,
   "id": "b2d2ddd8",
   "metadata": {},
   "outputs": [],
   "source": [
    "import matplotlib.pyplot as plt\n",
    "\n",
    "plt.scatter(data['MinTemp'], data['MaxTemp'])\n",
    "plt.xlabel('MinTemp')\n",
    "plt.ylabel('MaxTemp')\n",
    "plt.title('MinTemp vs MaxTemp')\n",
    "plt.show()"
   ]
  },
  {
   "cell_type": "markdown",
   "id": "00684212",
   "metadata": {},
   "source": [
    "Visualize the distribution of Maximum temperatures."
   ]
  },
  {
   "cell_type": "code",
   "execution_count": null,
   "id": "9cf94dad",
   "metadata": {},
   "outputs": [],
   "source": [
    "plt.hist(data['MaxTemp'], bins=30)\n",
    "plt.xlabel('MaxTemp')\n",
    "plt.title('MaxTemp Distribution')\n",
    "plt.show()"
   ]
  },
  {
   "cell_type": "markdown",
   "id": "e602e8c6",
   "metadata": {},
   "source": [
    "Reshape the dataset to keep only the relevant columns."
   ]
  },
  {
   "cell_type": "code",
   "execution_count": null,
   "id": "52e7d599",
   "metadata": {},
   "outputs": [],
   "source": [
    "data = data[['MinTemp', 'MaxTemp']]"
   ]
  },
  {
   "cell_type": "markdown",
   "id": "9cf580b4",
   "metadata": {},
   "source": [
    "Split the data into training and testing sets."
   ]
  },
  {
   "cell_type": "code",
   "execution_count": null,
   "id": "82a32490",
   "metadata": {},
   "outputs": [],
   "source": [
    "from sklearn.model_selection import train_test_split\n",
    "\n",
    "X = data[['MinTemp']]\n",
    "y = data['MaxTemp']\n",
    "X_train, X_test, y_train, y_test = train_test_split(X, y, test_size=0.2, random_state=42)"
   ]
  },
  {
   "cell_type": "markdown",
   "id": "29b0eb4f",
   "metadata": {},
   "source": [
    "Fit a linear regression model to the training data."
   ]
  },
  {
   "cell_type": "code",
   "execution_count": null,
   "id": "150eb2a5",
   "metadata": {},
   "outputs": [],
   "source": [
    "from sklearn.linear_model import LinearRegression\n",
    "\n",
    "model = LinearRegression()\n",
    "model.fit(X_train, y_train)"
   ]
  },
  {
   "cell_type": "markdown",
   "id": "a14516d9",
   "metadata": {},
   "source": [
    "Display the coefficients and intercept of the fitted model."
   ]
  },
  {
   "cell_type": "code",
   "execution_count": null,
   "id": "345c17f2",
   "metadata": {},
   "outputs": [],
   "source": [
    "print(model.coef_)\n",
    "print(model.intercept_)"
   ]
  },
  {
   "cell_type": "markdown",
   "id": "e1c649b7",
   "metadata": {},
   "source": [
    "Create a DataFrame with actual and predicted values."
   ]
  },
  {
   "cell_type": "code",
   "execution_count": null,
   "id": "fa2c90fb",
   "metadata": {},
   "outputs": [],
   "source": [
    "predictions = model.predict(X_test)\n",
    "results = pd.DataFrame({'Actual': y_test, 'Predicted': predictions})"
   ]
  },
  {
   "cell_type": "markdown",
   "id": "b4df0cef",
   "metadata": {},
   "source": [
    "Generate a bar plot to compare actual and predicted values."
   ]
  },
  {
   "cell_type": "code",
   "execution_count": null,
   "id": "0bc9333d",
   "metadata": {},
   "outputs": [],
   "source": [
    "plt.bar(results.index, results['Actual'], label='Actual')\n",
    "plt.bar(results.index, results['Predicted'], label='Predicted', alpha=0.7)\n",
    "plt.legend()\n",
    "plt.title('Actual vs Predicted')\n",
    "plt.show()"
   ]
  },
  {
   "cell_type": "markdown",
   "id": "1e03b733",
   "metadata": {},
   "source": [
    "Visualize the actual vs predicted values in a scatter plot."
   ]
  },
  {
   "cell_type": "code",
   "execution_count": null,
   "id": "07420d04",
   "metadata": {},
   "outputs": [],
   "source": [
    "plt.scatter(results['Actual'], results['Predicted'])\n",
    "plt.xlabel('Actual')\n",
    "plt.ylabel('Predicted')\n",
    "plt.title('Scatter Plot of Actual vs Predicted')\n",
    "plt.show()"
   ]
  },
  {
   "cell_type": "markdown",
   "id": "d389c4a8",
   "metadata": {},
   "source": [
    "Evaluate the model performance using MSE and R^2 metrics."
   ]
  },
  {
   "cell_type": "code",
   "execution_count": null,
   "id": "9d56995b",
   "metadata": {},
   "outputs": [],
   "source": [
    "from sklearn.metrics import mean_squared_error, r2_score\n",
    "\n",
    "mse = mean_squared_error(y_test, predictions)\n",
    "r2 = r2_score(y_test, predictions)\n",
    "print(f'MSE: {mse}, R2: {r2}')"
   ]
  }
 ],
 "metadata": {
  "kernelspec": {
   "display_name": "Python 3",
   "language": "python",
   "name": "python3"
  },
  "language_info": {
   "codemirror_mode": {
    "name": "ipython",
    "version": 3
   },
   "file_extension": ".py",
   "mimetype": "text/x-python",
   "name": "python",
   "nbconvert_exporter": "python",
   "pygments_lexer": "ipython3",
   "version": "3.8.5"
  }
 },
 "nbformat": 4,
 "nbformat_minor": 5
}
