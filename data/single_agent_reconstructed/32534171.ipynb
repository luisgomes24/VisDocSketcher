{
 "cells": [
  {
   "cell_type": "markdown",
   "id": "c6f5e2da",
   "metadata": {},
   "source": [
    "Load training and testing data from CSV files."
   ]
  },
  {
   "cell_type": "code",
   "execution_count": null,
   "id": "0e422841",
   "metadata": {},
   "outputs": [],
   "source": [
    "import pandas as pd\n",
    "train_df = pd.read_csv('train.csv')\n",
    "test_df = pd.read_csv('test.csv')"
   ]
  },
  {
   "cell_type": "markdown",
   "id": "23a3d1f5",
   "metadata": {},
   "source": [
    "Explore the first few rows of the training data to understand its structure."
   ]
  },
  {
   "cell_type": "code",
   "execution_count": null,
   "id": "e96db897",
   "metadata": {},
   "outputs": [],
   "source": [
    "print(train_df.head())"
   ]
  },
  {
   "cell_type": "markdown",
   "id": "c193fc71",
   "metadata": {},
   "source": [
    "Separate features (X) and target variable (y) from the training data."
   ]
  },
  {
   "cell_type": "code",
   "execution_count": null,
   "id": "281e227b",
   "metadata": {},
   "outputs": [],
   "source": [
    "X = train_df.drop('target', axis=1)\n",
    "y = train_df['target']"
   ]
  },
  {
   "cell_type": "markdown",
   "id": "a32c2068",
   "metadata": {},
   "source": [
    "Select the top 10 features based on statistical tests."
   ]
  },
  {
   "cell_type": "code",
   "execution_count": null,
   "id": "3afaa1f4",
   "metadata": {},
   "outputs": [],
   "source": [
    "from sklearn.feature_selection import SelectKBest, f_classif\n",
    "selector = SelectKBest(score_func=f_classif, k=10)\n",
    "selector.fit(X, y)\n",
    "X_new = selector.transform(X)"
   ]
  },
  {
   "cell_type": "markdown",
   "id": "0aaec4da",
   "metadata": {},
   "source": [
    "Visualize feature importance using a bar plot."
   ]
  },
  {
   "cell_type": "code",
   "execution_count": null,
   "id": "0d64d2a7",
   "metadata": {},
   "outputs": [],
   "source": [
    "import matplotlib.pyplot as plt\n",
    "plt.bar(X_new.columns, selector.scores_)\n",
    "plt.show()"
   ]
  },
  {
   "cell_type": "markdown",
   "id": "8c4873b0",
   "metadata": {},
   "source": [
    "Handle missing values by filling them with the mean of each column."
   ]
  },
  {
   "cell_type": "code",
   "execution_count": null,
   "id": "2550121e",
   "metadata": {},
   "outputs": [],
   "source": [
    "train_df.fillna(train_df.mean(), inplace=True)"
   ]
  },
  {
   "cell_type": "markdown",
   "id": "9085fb85",
   "metadata": {},
   "source": [
    "Split the dataset into training and testing sets."
   ]
  },
  {
   "cell_type": "code",
   "execution_count": null,
   "id": "707a7ec6",
   "metadata": {},
   "outputs": [],
   "source": [
    "from sklearn.model_selection import train_test_split\n",
    "X_train, X_test, y_train, y_test = train_test_split(X_new, y, test_size=0.2, random_state=42)"
   ]
  },
  {
   "cell_type": "markdown",
   "id": "dad9a4c9",
   "metadata": {},
   "source": [
    "Scale features to standardize the data distribution."
   ]
  },
  {
   "cell_type": "code",
   "execution_count": null,
   "id": "eb70d6a9",
   "metadata": {},
   "outputs": [],
   "source": [
    "from sklearn.preprocessing import StandardScaler\n",
    "scaler = StandardScaler()\n",
    "X_train_scaled = scaler.fit_transform(X_train)\n",
    "X_test_scaled = scaler.transform(X_test)"
   ]
  },
  {
   "cell_type": "markdown",
   "id": "a005cf97",
   "metadata": {},
   "source": [
    "Train a Random Forest Classifier using the training data."
   ]
  },
  {
   "cell_type": "code",
   "execution_count": null,
   "id": "0c1ee53c",
   "metadata": {},
   "outputs": [],
   "source": [
    "from sklearn.ensemble import RandomForestClassifier\n",
    "model = RandomForestClassifier()\n",
    "model.fit(X_train_scaled, y_train)"
   ]
  },
  {
   "cell_type": "markdown",
   "id": "00918002",
   "metadata": {},
   "source": [
    "Evaluate the model's performance using accuracy metrics."
   ]
  },
  {
   "cell_type": "code",
   "execution_count": null,
   "id": "bcf1282f",
   "metadata": {},
   "outputs": [],
   "source": [
    "from sklearn.metrics import accuracy_score, classification_report\n",
    "predictions = model.predict(X_test_scaled)\n",
    "print(classification_report(y_test, predictions))"
   ]
  },
  {
   "cell_type": "markdown",
   "id": "ba27db66",
   "metadata": {},
   "source": [
    "Apply the trained model on the test data to make predictions."
   ]
  },
  {
   "cell_type": "code",
   "execution_count": null,
   "id": "9aa5b1a9",
   "metadata": {},
   "outputs": [],
   "source": [
    "test_predictions = model.predict(scaler.transform(test_df))\n",
    "test_df['predictions'] = test_predictions"
   ]
  },
  {
   "cell_type": "markdown",
   "id": "dd6619b9",
   "metadata": {},
   "source": [
    "Save the predictions to a new CSV file."
   ]
  },
  {
   "cell_type": "code",
   "execution_count": null,
   "id": "f0db05ac",
   "metadata": {},
   "outputs": [],
   "source": [
    "test_df[['predictions']].to_csv('my_prediction.csv', index=False)"
   ]
  }
 ],
 "metadata": {
  "kernelspec": {
   "display_name": "Python 3",
   "language": "python",
   "name": "python3"
  },
  "language_info": {
   "codemirror_mode": {
    "name": "ipython",
    "version": 3
   },
   "file_extension": ".py",
   "mimetype": "text/x-python",
   "name": "python",
   "nbconvert_exporter": "python",
   "pygments_lexer": "ipython3",
   "version": "3.8.5"
  }
 },
 "nbformat": 4,
 "nbformat_minor": 5
}
