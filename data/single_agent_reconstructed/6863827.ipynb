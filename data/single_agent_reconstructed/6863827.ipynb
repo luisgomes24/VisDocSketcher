{
 "cells": [
  {
   "cell_type": "markdown",
   "id": "5bf8a7c7",
   "metadata": {},
   "source": [
    "Load the dataset from a CSV file into a DataFrame."
   ]
  },
  {
   "cell_type": "code",
   "execution_count": null,
   "id": "144c432b",
   "metadata": {},
   "outputs": [],
   "source": [
    "import pandas as pd\n",
    "\n",
    "candy_data = pd.read_csv('candy_data.csv')"
   ]
  },
  {
   "cell_type": "markdown",
   "id": "0e868bc0",
   "metadata": {},
   "source": [
    "Review the data by printing summary statistics and visualizing distributions."
   ]
  },
  {
   "cell_type": "code",
   "execution_count": null,
   "id": "34b58146",
   "metadata": {},
   "outputs": [],
   "source": [
    "print(candy_data.describe())\n",
    "candy_data.hist()"
   ]
  },
  {
   "cell_type": "markdown",
   "id": "ca1a6238",
   "metadata": {},
   "source": [
    "Analyze the effect of sugar on winning by creating a scatter plot."
   ]
  },
  {
   "cell_type": "code",
   "execution_count": null,
   "id": "bc24fc72",
   "metadata": {},
   "outputs": [],
   "source": [
    "import matplotlib.pyplot as plt\n",
    "import seaborn as sns\n",
    "\n",
    "sns.scatterplot(x='sugar', y='win', data=candy_data)\n",
    "plt.title('Scatter Plot of Sugar vs Win')\n",
    "plt.show()"
   ]
  },
  {
   "cell_type": "markdown",
   "id": "fbbae91a",
   "metadata": {},
   "source": [
    "Investigate the relationship between sugar and winning using linear regression."
   ]
  },
  {
   "cell_type": "code",
   "execution_count": null,
   "id": "f1afbdfd",
   "metadata": {},
   "outputs": [],
   "source": [
    "import statsmodels.api as sm\n",
    "import statsmodels.formula.api as smf\n",
    "\n",
    "model = smf.ols('win ~ sugar', data=candy_data).fit()\n",
    "sns.scatterplot(x='sugar', y='win', data=candy_data)\n",
    "sns.regplot(x='sugar', y='win', data=candy_data, scatter=False, color='red')\n",
    "plt.title('Regression: Sugar vs Win')\n",
    "plt.show()"
   ]
  },
  {
   "cell_type": "markdown",
   "id": "63cb2bc3",
   "metadata": {},
   "source": [
    "Analyze the effect of chocolate price on winning with a scatter plot."
   ]
  },
  {
   "cell_type": "code",
   "execution_count": null,
   "id": "33f7e57f",
   "metadata": {},
   "outputs": [],
   "source": [
    "sns.scatterplot(x='price', y='win', data=candy_data)\n",
    "plt.title('Scatter Plot of Price vs Win')\n",
    "plt.show()"
   ]
  },
  {
   "cell_type": "markdown",
   "id": "9b299232",
   "metadata": {},
   "source": [
    "Investigate the effect of chocolate on winning through linear regression."
   ]
  },
  {
   "cell_type": "code",
   "execution_count": null,
   "id": "d9bbd102",
   "metadata": {},
   "outputs": [],
   "source": [
    "model_choco = smf.ols('win ~ chocolate', data=candy_data).fit()\n",
    "sns.scatterplot(x='chocolate', y='win', data=candy_data)\n",
    "sns.regplot(x='chocolate', y='win', data=candy_data, scatter=False, color='red')\n",
    "plt.title('Regression: Chocolate vs No Chocolate')\n",
    "plt.show()"
   ]
  },
  {
   "cell_type": "markdown",
   "id": "d8f852c4",
   "metadata": {},
   "source": [
    "Create a categorical scatter plot to show the relationship between chocolate and win percentage."
   ]
  },
  {
   "cell_type": "code",
   "execution_count": null,
   "id": "5f8d6878",
   "metadata": {},
   "outputs": [],
   "source": [
    "sns.catplot(x='chocolate', y='win_percent', data=candy_data, kind='strip')\n",
    "plt.title('Categorical Scatter Plot: Chocolate vs Win Percent')\n",
    "plt.show()"
   ]
  }
 ],
 "metadata": {
  "kernelspec": {
   "display_name": "Python 3",
   "language": "python",
   "name": "python3"
  },
  "language_info": {
   "codemirror_mode": {
    "name": "ipython",
    "version": 3
   },
   "file_extension": ".py",
   "mimetype": "text/x-python",
   "name": "python",
   "nbconvert_exporter": "python",
   "pygments_lexer": "ipython3",
   "version": "3.8.5"
  }
 },
 "nbformat": 4,
 "nbformat_minor": 5
}
