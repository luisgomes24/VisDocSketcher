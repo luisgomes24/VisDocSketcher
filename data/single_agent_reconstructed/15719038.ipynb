{
 "cells": [
  {
   "cell_type": "markdown",
   "id": "3d5d8a4c",
   "metadata": {},
   "source": [
    "Loads data from a CSV file into a Pandas DataFrame."
   ]
  },
  {
   "cell_type": "code",
   "execution_count": null,
   "id": "eba62e37",
   "metadata": {},
   "outputs": [],
   "source": [
    "import pandas as pd\n",
    "\n",
    "def load_data(filepath):\n",
    "    return pd.read_csv(filepath)"
   ]
  },
  {
   "cell_type": "markdown",
   "id": "a293a91a",
   "metadata": {},
   "source": [
    "Reads input data and removes any rows with missing values."
   ]
  },
  {
   "cell_type": "code",
   "execution_count": null,
   "id": "dd334668",
   "metadata": {},
   "outputs": [],
   "source": [
    "def read_input_data(data):\n",
    "    return data.dropna()"
   ]
  },
  {
   "cell_type": "markdown",
   "id": "ba7b6360",
   "metadata": {},
   "source": [
    "Splits the data into training and testing sets."
   ]
  },
  {
   "cell_type": "code",
   "execution_count": null,
   "id": "48bae7f1",
   "metadata": {},
   "outputs": [],
   "source": [
    "from sklearn.model_selection import train_test_split\n",
    "\n",
    "def split_data(data):\n",
    "    return train_test_split(data, test_size=0.2)"
   ]
  },
  {
   "cell_type": "markdown",
   "id": "9afff881",
   "metadata": {},
   "source": [
    "Creates tensor datasets from training and test data."
   ]
  },
  {
   "cell_type": "code",
   "execution_count": null,
   "id": "627d3915",
   "metadata": {},
   "outputs": [],
   "source": [
    "import torch\n",
    "from torch.utils.data import DataLoader, TensorDataset\n",
    "\n",
    "def create_tensor_datasets(train_data, test_data):\n",
    "    train_tensor = TensorDataset(torch.tensor(train_data.values))\n",
    "    test_tensor = TensorDataset(torch.tensor(test_data.values))\n",
    "    return DataLoader(train_tensor), DataLoader(test_tensor)"
   ]
  },
  {
   "cell_type": "markdown",
   "id": "f769ab50",
   "metadata": {},
   "source": [
    "Builds a simple feedforward neural network model."
   ]
  },
  {
   "cell_type": "code",
   "execution_count": null,
   "id": "cce4a1e2",
   "metadata": {},
   "outputs": [],
   "source": [
    "import torch.nn as nn\n",
    "import torch.optim as optim\n",
    "\n",
    "def build_model(input_size):\n",
    "    model = nn.Sequential(\n",
    "        nn.Linear(input_size, 64),\n",
    "        nn.ReLU(),\n",
    "        nn.Linear(64, 1)\n",
    "    )\n",
    "    return model"
   ]
  },
  {
   "cell_type": "markdown",
   "id": "7d34e30a",
   "metadata": {},
   "source": [
    "Compiles the model with loss function and optimizer."
   ]
  },
  {
   "cell_type": "code",
   "execution_count": null,
   "id": "52ff2f76",
   "metadata": {},
   "outputs": [],
   "source": [
    "def compile_model(model):\n",
    "    loss_fn = nn.MSELoss()\n",
    "    optimizer = optim.SGD(model.parameters(), lr=0.01)\n",
    "    return loss_fn, optimizer"
   ]
  },
  {
   "cell_type": "markdown",
   "id": "d5f8c09e",
   "metadata": {},
   "source": [
    "Trains the model using the provided training data."
   ]
  },
  {
   "cell_type": "code",
   "execution_count": null,
   "id": "eb91f5cf",
   "metadata": {},
   "outputs": [],
   "source": [
    "def train_model(model, train_loader, loss_fn, optimizer, epochs=10):\n",
    "    for epoch in range(epochs):\n",
    "        for batch in train_loader:\n",
    "            optimizer.zero_grad()\n",
    "            outputs = model(batch[0])\n",
    "            loss = loss_fn(outputs, batch[1])\n",
    "            loss.backward()\n",
    "            optimizer.step()"
   ]
  },
  {
   "cell_type": "markdown",
   "id": "32fb4f2d",
   "metadata": {},
   "source": [
    "Evaluates the model's performance on the test data."
   ]
  },
  {
   "cell_type": "code",
   "execution_count": null,
   "id": "4ea401f6",
   "metadata": {},
   "outputs": [],
   "source": [
    "def evaluate_model(model, test_loader):\n",
    "    total_loss = 0\n",
    "    with torch.no_grad():\n",
    "        for batch in test_loader:\n",
    "            outputs = model(batch[0])\n",
    "            total_loss += loss_fn(outputs, batch[1]).item()\n",
    "    return total_loss / len(test_loader)"
   ]
  },
  {
   "cell_type": "markdown",
   "id": "e7a4deab",
   "metadata": {},
   "source": [
    "Makes predictions using the trained model."
   ]
  },
  {
   "cell_type": "code",
   "execution_count": null,
   "id": "52fbe9f7",
   "metadata": {},
   "outputs": [],
   "source": [
    "def make_predictions(model, data_loader):\n",
    "    predictions = []\n",
    "    with torch.no_grad():\n",
    "        for batch in data_loader:\n",
    "            pred = model(batch[0])\n",
    "            predictions.append(pred)\n",
    "    return torch.cat(predictions)"
   ]
  },
  {
   "cell_type": "markdown",
   "id": "d3c35cf9",
   "metadata": {},
   "source": [
    "Displays the predictions to the console."
   ]
  },
  {
   "cell_type": "code",
   "execution_count": null,
   "id": "0dcf2d3e",
   "metadata": {},
   "outputs": [],
   "source": [
    "def show_predictions(predictions):\n",
    "    print(predictions)"
   ]
  },
  {
   "cell_type": "markdown",
   "id": "b31750ad",
   "metadata": {},
   "source": [
    "Saves the predictions to a CSV file."
   ]
  },
  {
   "cell_type": "code",
   "execution_count": null,
   "id": "08e6da42",
   "metadata": {},
   "outputs": [],
   "source": [
    "def save_predictions_to_csv(predictions, filename):\n",
    "    pd.DataFrame(predictions.numpy()).to_csv(filename, index=False)"
   ]
  }
 ],
 "metadata": {
  "kernelspec": {
   "display_name": "Python 3",
   "language": "python",
   "name": "python3"
  },
  "language_info": {
   "codemirror_mode": {
    "name": "ipython",
    "version": 3
   },
   "file_extension": ".py",
   "mimetype": "text/x-python",
   "name": "python",
   "nbconvert_exporter": "python",
   "pygments_lexer": "ipython3",
   "version": "3.8.5"
  }
 },
 "nbformat": 4,
 "nbformat_minor": 5
}
