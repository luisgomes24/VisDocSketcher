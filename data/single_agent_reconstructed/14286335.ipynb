{
 "cells": [
  {
   "cell_type": "markdown",
   "id": "6cb4c312",
   "metadata": {},
   "source": [
    "Load the dataset from a CSV file into a Pandas DataFrame."
   ]
  },
  {
   "cell_type": "code",
   "execution_count": null,
   "id": "a89deea6",
   "metadata": {},
   "outputs": [],
   "source": [
    "import pandas as pd\n",
    "df = pd.read_csv('data.csv')"
   ]
  },
  {
   "cell_type": "markdown",
   "id": "c5c43dde",
   "metadata": {},
   "source": [
    "Display the first few rows of the dataset."
   ]
  },
  {
   "cell_type": "code",
   "execution_count": null,
   "id": "4b00eeec",
   "metadata": {},
   "outputs": [],
   "source": [
    "print(df.head())"
   ]
  },
  {
   "cell_type": "markdown",
   "id": "1a2a3b79",
   "metadata": {},
   "source": [
    "Show information about the DataFrame, including the number of entries and data types."
   ]
  },
  {
   "cell_type": "code",
   "execution_count": null,
   "id": "c4eaa8a6",
   "metadata": {},
   "outputs": [],
   "source": [
    "print(df.info())"
   ]
  },
  {
   "cell_type": "markdown",
   "id": "d08211fa",
   "metadata": {},
   "source": [
    "Check for missing values in each column of the DataFrame."
   ]
  },
  {
   "cell_type": "code",
   "execution_count": null,
   "id": "58f13c25",
   "metadata": {},
   "outputs": [],
   "source": [
    "missing_values = df.isnull().sum()\n",
    "print(missing_values)"
   ]
  },
  {
   "cell_type": "markdown",
   "id": "28981bc1",
   "metadata": {},
   "source": [
    "Visualize the distribution of gender in the dataset."
   ]
  },
  {
   "cell_type": "code",
   "execution_count": null,
   "id": "f3b2e651",
   "metadata": {},
   "outputs": [],
   "source": [
    "import matplotlib.pyplot as plt\n",
    "import seaborn as sns\n",
    "sns.countplot(x='Gender', data=df)\n",
    "plt.show()"
   ]
  },
  {
   "cell_type": "markdown",
   "id": "0a2ebd1d",
   "metadata": {},
   "source": [
    "Filter the DataFrame into separate DataFrames for males and females."
   ]
  },
  {
   "cell_type": "code",
   "execution_count": null,
   "id": "c8177099",
   "metadata": {},
   "outputs": [],
   "source": [
    "male_df = df[df['Gender'] == 'Male']\n",
    "female_df = df[df['Gender'] == 'Female']"
   ]
  },
  {
   "cell_type": "markdown",
   "id": "51dbc309",
   "metadata": {},
   "source": [
    "Visualize the count of males and females by department."
   ]
  },
  {
   "cell_type": "code",
   "execution_count": null,
   "id": "1ee7c960",
   "metadata": {},
   "outputs": [],
   "source": [
    "sns.countplot(x='Department', hue='Gender', data=df)\n",
    "plt.show()"
   ]
  },
  {
   "cell_type": "markdown",
   "id": "e610e249",
   "metadata": {},
   "source": [
    "Count the number of males and females in each department."
   ]
  },
  {
   "cell_type": "code",
   "execution_count": null,
   "id": "8aad55e3",
   "metadata": {},
   "outputs": [],
   "source": [
    "count_by_dept = df.groupby(['Department', 'Gender']).size().unstack()"
   ]
  }
 ],
 "metadata": {
  "kernelspec": {
   "display_name": "Python 3",
   "language": "python",
   "name": "python3"
  },
  "language_info": {
   "codemirror_mode": {
    "name": "ipython",
    "version": 3
   },
   "file_extension": ".py",
   "mimetype": "text/x-python",
   "name": "python",
   "nbconvert_exporter": "python",
   "pygments_lexer": "ipython3",
   "version": "3.8.5"
  }
 },
 "nbformat": 4,
 "nbformat_minor": 5
}
