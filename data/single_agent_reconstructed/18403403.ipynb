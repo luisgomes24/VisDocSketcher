{
 "cells": [
  {
   "cell_type": "markdown",
   "id": "2f733e68",
   "metadata": {},
   "source": [
    "Load the dataset from BigQuery using the appropriate client."
   ]
  },
  {
   "cell_type": "code",
   "execution_count": null,
   "id": "cc2c6cc8",
   "metadata": {},
   "outputs": [],
   "source": [
    "from google.cloud import bigquery\n",
    "\n",
    "client = bigquery.Client()\n",
    "dataset_id = 'your_dataset_id'\n",
    "dataset = client.get_dataset(dataset_id)"
   ]
  },
  {
   "cell_type": "markdown",
   "id": "b6e73eff",
   "metadata": {},
   "source": [
    "Count the number of tables in the loaded dataset and print the result."
   ]
  },
  {
   "cell_type": "code",
   "execution_count": null,
   "id": "cca284e4",
   "metadata": {},
   "outputs": [],
   "source": [
    "tables = list(client.list_tables(dataset))\n",
    "table_count = len(tables)\n",
    "print(f'Total tables: {table_count}')"
   ]
  },
  {
   "cell_type": "markdown",
   "id": "a1dadce6",
   "metadata": {},
   "source": [
    "Explore the schema of each table in the dataset and print their IDs and schemas."
   ]
  },
  {
   "cell_type": "code",
   "execution_count": null,
   "id": "5f2a9521",
   "metadata": {},
   "outputs": [],
   "source": [
    "for table in tables:\n",
    "    print(table.table_id, table.schema)"
   ]
  },
  {
   "cell_type": "markdown",
   "id": "1dd86097",
   "metadata": {},
   "source": [
    "Create a scatter plot (crime map) to visualize the dataset."
   ]
  },
  {
   "cell_type": "code",
   "execution_count": null,
   "id": "c51df00a",
   "metadata": {},
   "outputs": [],
   "source": [
    "import matplotlib.pyplot as plt\n",
    "import pandas as pd\n",
    "\n",
    "data = pd.DataFrame({'x': [1, 2, 3], 'y': [1, 2, 3]})\n",
    "plt.scatter(data['x'], data['y'])\n",
    "plt.xlabel('X Axis')\n",
    "plt.ylabel('Y Axis')\n",
    "plt.title('Crime Map')\n",
    "plt.show()"
   ]
  },
  {
   "cell_type": "markdown",
   "id": "7e78b138",
   "metadata": {},
   "source": [
    "Check the answers by summarizing the table count and schema exploration results."
   ]
  },
  {
   "cell_type": "code",
   "execution_count": null,
   "id": "51e660ab",
   "metadata": {},
   "outputs": [],
   "source": [
    "answers = {'table_count': table_count, 'schema_exploration': [table.table_id for table in tables]}\n",
    "print(answers)"
   ]
  }
 ],
 "metadata": {
  "kernelspec": {
   "display_name": "Python 3",
   "language": "python",
   "name": "python3"
  },
  "language_info": {
   "codemirror_mode": {
    "name": "ipython",
    "version": 3
   },
   "file_extension": ".py",
   "mimetype": "text/x-python",
   "name": "python",
   "nbconvert_exporter": "python",
   "pygments_lexer": "ipython3",
   "version": "3.8.5"
  }
 },
 "nbformat": 4,
 "nbformat_minor": 5
}
