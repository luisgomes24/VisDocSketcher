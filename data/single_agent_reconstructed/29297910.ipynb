{
 "cells": [
  {
   "cell_type": "markdown",
   "id": "4465a2d9",
   "metadata": {},
   "source": [
    "Load training and testing data from CSV files."
   ]
  },
  {
   "cell_type": "code",
   "execution_count": null,
   "id": "f3a93543",
   "metadata": {},
   "outputs": [],
   "source": [
    "import pandas as pd\n",
    "train_data = pd.read_csv('train.csv')\n",
    "test_data = pd.read_csv('test.csv')"
   ]
  },
  {
   "cell_type": "markdown",
   "id": "675d8d57",
   "metadata": {},
   "source": [
    "Preprocess the text data by converting it into numerical features using TF-IDF."
   ]
  },
  {
   "cell_type": "code",
   "execution_count": null,
   "id": "5ed8a27f",
   "metadata": {},
   "outputs": [],
   "source": [
    "from sklearn.feature_extraction.text import TfidfVectorizer\n",
    "vectorizer = TfidfVectorizer()\n",
    "X_train = vectorizer.fit_transform(train_data['text'])\n",
    "X_test = vectorizer.transform(test_data['text'])"
   ]
  },
  {
   "cell_type": "markdown",
   "id": "502d2ec5",
   "metadata": {},
   "source": [
    "Initialize the TPOT classifier for automated machine learning."
   ]
  },
  {
   "cell_type": "code",
   "execution_count": null,
   "id": "c8fcfd3a",
   "metadata": {},
   "outputs": [],
   "source": [
    "from tpot import TPOTClassifier\n",
    "tpot = TPOTClassifier(verbosity=2)\n"
   ]
  },
  {
   "cell_type": "markdown",
   "id": "19251c17",
   "metadata": {},
   "source": [
    "Train the model using the training data."
   ]
  },
  {
   "cell_type": "code",
   "execution_count": null,
   "id": "3c5f3a20",
   "metadata": {},
   "outputs": [],
   "source": [
    "tpot.fit(X_train, train_data['label'])"
   ]
  },
  {
   "cell_type": "markdown",
   "id": "96391810",
   "metadata": {},
   "source": [
    "Export the trained model to a Python file."
   ]
  },
  {
   "cell_type": "code",
   "execution_count": null,
   "id": "fb109580",
   "metadata": {},
   "outputs": [],
   "source": [
    "tpot.export('best_model.py')"
   ]
  },
  {
   "cell_type": "markdown",
   "id": "4edd0c49",
   "metadata": {},
   "source": [
    "Make predictions on the test data."
   ]
  },
  {
   "cell_type": "code",
   "execution_count": null,
   "id": "859ba5be",
   "metadata": {},
   "outputs": [],
   "source": [
    "predictions = tpot.predict(X_test)"
   ]
  },
  {
   "cell_type": "markdown",
   "id": "fdda31fd",
   "metadata": {},
   "source": [
    "Create a submission file from the predictions."
   ]
  },
  {
   "cell_type": "code",
   "execution_count": null,
   "id": "e35acad5",
   "metadata": {},
   "outputs": [],
   "source": [
    "submission = pd.DataFrame({'id': test_data['id'], 'prediction': predictions})\n",
    "submission.to_csv('submission.csv', index=False)"
   ]
  },
  {
   "cell_type": "markdown",
   "id": "686f5bdd",
   "metadata": {},
   "source": [
    "Visualize the predictions using a histogram."
   ]
  },
  {
   "cell_type": "code",
   "execution_count": null,
   "id": "ff55f67b",
   "metadata": {},
   "outputs": [],
   "source": [
    "import matplotlib.pyplot as plt\n",
    "plt.hist(predictions)\n",
    "plt.title('Histogram of Predictions')\n",
    "plt.show()"
   ]
  }
 ],
 "metadata": {
  "kernelspec": {
   "display_name": "Python 3",
   "language": "python",
   "name": "python3"
  },
  "language_info": {
   "codemirror_mode": {
    "name": "ipython",
    "version": 3
   },
   "file_extension": ".py",
   "mimetype": "text/x-python",
   "name": "python",
   "nbconvert_exporter": "python",
   "pygments_lexer": "ipython3",
   "version": "3.8.5"
  }
 },
 "nbformat": 4,
 "nbformat_minor": 5
}
