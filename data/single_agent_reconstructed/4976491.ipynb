{
 "cells": [
  {
   "cell_type": "markdown",
   "id": "bb282129",
   "metadata": {},
   "source": [
    "Load the test dataset from 'test_lung_mask.csv'."
   ]
  },
  {
   "cell_type": "code",
   "execution_count": null,
   "id": "850c4280",
   "metadata": {},
   "outputs": [],
   "source": [
    "import pandas as pd\n",
    "\n",
    "test_data = pd.read_csv('test_lung_mask.csv')"
   ]
  },
  {
   "cell_type": "markdown",
   "id": "b04f5a66",
   "metadata": {},
   "source": [
    "Create and display distribution graphs for the test data."
   ]
  },
  {
   "cell_type": "code",
   "execution_count": null,
   "id": "1b4cc98d",
   "metadata": {},
   "outputs": [],
   "source": [
    "import seaborn as sns\n",
    "import matplotlib.pyplot as plt\n",
    "\n",
    "sns.histplot(test_data)\n",
    "plt.title('Distribution Graphs for Test Data')\n",
    "plt.show()"
   ]
  },
  {
   "cell_type": "markdown",
   "id": "76ab3133",
   "metadata": {},
   "source": [
    "Calculate and visualize the correlation matrix for the test data."
   ]
  },
  {
   "cell_type": "code",
   "execution_count": null,
   "id": "9970c88d",
   "metadata": {},
   "outputs": [],
   "source": [
    "correlation_matrix_test = test_data.corr()\n",
    "sns.heatmap(correlation_matrix_test, annot=True)\n",
    "plt.title('Correlation Matrix for Test Data')\n",
    "plt.show()"
   ]
  },
  {
   "cell_type": "markdown",
   "id": "720e5b76",
   "metadata": {},
   "source": [
    "Create and display scatter and density plots for the test data."
   ]
  },
  {
   "cell_type": "code",
   "execution_count": null,
   "id": "2df19990",
   "metadata": {},
   "outputs": [],
   "source": [
    "sns.scatterplot(data=test_data)\n",
    "plt.title('Scatter and Density Plots for Test Data')\n",
    "plt.show()"
   ]
  },
  {
   "cell_type": "markdown",
   "id": "5b33d78e",
   "metadata": {},
   "source": [
    "Load the training dataset from 'train_lung_mask.csv'."
   ]
  },
  {
   "cell_type": "code",
   "execution_count": null,
   "id": "edd52156",
   "metadata": {},
   "outputs": [],
   "source": [
    "train_data = pd.read_csv('train_lung_mask.csv')"
   ]
  },
  {
   "cell_type": "markdown",
   "id": "4b376be3",
   "metadata": {},
   "source": [
    "Create and display distribution graphs for the training data."
   ]
  },
  {
   "cell_type": "code",
   "execution_count": null,
   "id": "9ba96217",
   "metadata": {},
   "outputs": [],
   "source": [
    "sns.histplot(train_data)\n",
    "plt.title('Distribution Graphs for Train Data')\n",
    "plt.show()"
   ]
  },
  {
   "cell_type": "markdown",
   "id": "c05e50de",
   "metadata": {},
   "source": [
    "Calculate and visualize the correlation matrix for the training data."
   ]
  },
  {
   "cell_type": "code",
   "execution_count": null,
   "id": "7fe7dfc1",
   "metadata": {},
   "outputs": [],
   "source": [
    "correlation_matrix_train = train_data.corr()\n",
    "sns.heatmap(correlation_matrix_train, annot=True)\n",
    "plt.title('Correlation Matrix for Train Data')\n",
    "plt.show()"
   ]
  },
  {
   "cell_type": "markdown",
   "id": "888cca98",
   "metadata": {},
   "source": [
    "Create and display scatter and density plots for the training data."
   ]
  },
  {
   "cell_type": "code",
   "execution_count": null,
   "id": "016f2ee2",
   "metadata": {},
   "outputs": [],
   "source": [
    "sns.scatterplot(data=train_data)\n",
    "plt.title('Scatter and Density Plots for Train Data')\n",
    "plt.show()"
   ]
  }
 ],
 "metadata": {
  "kernelspec": {
   "display_name": "Python 3",
   "language": "python",
   "name": "python3"
  },
  "language_info": {
   "codemirror_mode": {
    "name": "ipython",
    "version": 3
   },
   "file_extension": ".py",
   "mimetype": "text/x-python",
   "name": "python",
   "nbconvert_exporter": "python",
   "pygments_lexer": "ipython3",
   "version": "3.8.5"
  }
 },
 "nbformat": 4,
 "nbformat_minor": 5
}
