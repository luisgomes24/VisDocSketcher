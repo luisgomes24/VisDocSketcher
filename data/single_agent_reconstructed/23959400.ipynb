{
 "cells": [
  {
   "cell_type": "markdown",
   "id": "97bdb9ac",
   "metadata": {},
   "source": [
    "Load the dataset from a CSV file using pandas."
   ]
  },
  {
   "cell_type": "code",
   "execution_count": null,
   "id": "46c1cd87",
   "metadata": {},
   "outputs": [],
   "source": [
    "import pandas as pd\n",
    "\n",
    "df = pd.read_csv('data.csv')"
   ]
  },
  {
   "cell_type": "markdown",
   "id": "5c6dc898",
   "metadata": {},
   "source": [
    "Perform basic exploratory data analysis (EDA) using pair plots."
   ]
  },
  {
   "cell_type": "code",
   "execution_count": null,
   "id": "62131aef",
   "metadata": {},
   "outputs": [],
   "source": [
    "import seaborn as sns\n",
    "import matplotlib.pyplot as plt\n",
    "\n",
    "sns.pairplot(df)\n",
    "plt.show()"
   ]
  },
  {
   "cell_type": "markdown",
   "id": "d1cb9d52",
   "metadata": {},
   "source": [
    "Preprocess the data by scaling it using StandardScaler."
   ]
  },
  {
   "cell_type": "code",
   "execution_count": null,
   "id": "c56797ba",
   "metadata": {},
   "outputs": [],
   "source": [
    "from sklearn.preprocessing import StandardScaler\n",
    "\n",
    "scaler = StandardScaler()\n",
    "df_scaled = scaler.fit_transform(df)"
   ]
  },
  {
   "cell_type": "markdown",
   "id": "a4d069ed",
   "metadata": {},
   "source": [
    "Apply KMeans clustering to the preprocessed data."
   ]
  },
  {
   "cell_type": "code",
   "execution_count": null,
   "id": "7f987246",
   "metadata": {},
   "outputs": [],
   "source": [
    "from sklearn.cluster import KMeans\n",
    "import matplotlib.pyplot as plt\n",
    "\n",
    "kmeans = KMeans(n_clusters=3)\n",
    "clusters = kmeans.fit_predict(df_scaled)\n",
    "df['Cluster'] = clusters"
   ]
  },
  {
   "cell_type": "markdown",
   "id": "485d7645",
   "metadata": {},
   "source": [
    "Visualize the distribution of clusters."
   ]
  },
  {
   "cell_type": "code",
   "execution_count": null,
   "id": "47cdd224",
   "metadata": {},
   "outputs": [],
   "source": [
    "sns.countplot(x='Cluster', data=df)\n",
    "plt.show()"
   ]
  },
  {
   "cell_type": "markdown",
   "id": "17db2807",
   "metadata": {},
   "source": [
    "Analyze clusters based on gender."
   ]
  },
  {
   "cell_type": "code",
   "execution_count": null,
   "id": "5a5da0c9",
   "metadata": {},
   "outputs": [],
   "source": [
    "sns.countplot(x='gender', hue='Cluster', data=df)\n",
    "plt.show()"
   ]
  },
  {
   "cell_type": "markdown",
   "id": "2fe5ce7c",
   "metadata": {},
   "source": [
    "Analyze clusters based on test preparation course."
   ]
  },
  {
   "cell_type": "code",
   "execution_count": null,
   "id": "d962f493",
   "metadata": {},
   "outputs": [],
   "source": [
    "sns.countplot(x='test_preparation_course', hue='Cluster', data=df)\n",
    "plt.show()"
   ]
  },
  {
   "cell_type": "markdown",
   "id": "34f20592",
   "metadata": {},
   "source": [
    "Analyze clusters based on lunch type."
   ]
  },
  {
   "cell_type": "code",
   "execution_count": null,
   "id": "50643957",
   "metadata": {},
   "outputs": [],
   "source": [
    "sns.countplot(x='lunch', hue='Cluster', data=df)\n",
    "plt.show()"
   ]
  },
  {
   "cell_type": "markdown",
   "id": "e88910a0",
   "metadata": {},
   "source": [
    "Analyze clusters based on parental level of education."
   ]
  },
  {
   "cell_type": "code",
   "execution_count": null,
   "id": "000d01d8",
   "metadata": {},
   "outputs": [],
   "source": [
    "sns.countplot(x='parental_level_of_education', hue='Cluster', data=df)\n",
    "plt.show()"
   ]
  },
  {
   "cell_type": "markdown",
   "id": "266bc606",
   "metadata": {},
   "source": [
    "Analyze clusters based on race/ethnicity."
   ]
  },
  {
   "cell_type": "code",
   "execution_count": null,
   "id": "88a655cf",
   "metadata": {},
   "outputs": [],
   "source": [
    "sns.countplot(x='race_ethnicity', hue='Cluster', data=df)\n",
    "plt.show()"
   ]
  },
  {
   "cell_type": "markdown",
   "id": "f1961481",
   "metadata": {},
   "source": [
    "Summarize findings in the conclusion."
   ]
  },
  {
   "cell_type": "code",
   "execution_count": null,
   "id": "e6a0d8e7",
   "metadata": {},
   "outputs": [],
   "source": [
    "print('Conclusion: Review the cluster analyses and insights gained.')"
   ]
  }
 ],
 "metadata": {
  "kernelspec": {
   "display_name": "Python 3",
   "language": "python",
   "name": "python3"
  },
  "language_info": {
   "codemirror_mode": {
    "name": "ipython",
    "version": 3
   },
   "file_extension": ".py",
   "mimetype": "text/x-python",
   "name": "python",
   "nbconvert_exporter": "python",
   "pygments_lexer": "ipython3",
   "version": "3.8.5"
  }
 },
 "nbformat": 4,
 "nbformat_minor": 5
}
