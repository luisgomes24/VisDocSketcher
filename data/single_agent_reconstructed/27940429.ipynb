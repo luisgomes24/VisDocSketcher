{
 "cells": [
  {
   "cell_type": "markdown",
   "id": "67e777ee",
   "metadata": {},
   "source": [
    "Logs in to Weights & Biases and downloads the artifacts."
   ]
  },
  {
   "cell_type": "code",
   "execution_count": null,
   "id": "11f4df8b",
   "metadata": {},
   "outputs": [],
   "source": [
    "import wandb\n",
    "wandb.login()\n",
    "wandb.Api().download_artifacts('your_project_name')"
   ]
  },
  {
   "cell_type": "markdown",
   "id": "df215474",
   "metadata": {},
   "source": [
    "Fetches the list of experiments from the specified project."
   ]
  },
  {
   "cell_type": "code",
   "execution_count": null,
   "id": "e28c2e68",
   "metadata": {},
   "outputs": [],
   "source": [
    "experiments = wandb.Api().projects('your_project_name').experiments()"
   ]
  },
  {
   "cell_type": "markdown",
   "id": "1ef5ccdf",
   "metadata": {},
   "source": [
    "Downloads artifacts associated with each experiment."
   ]
  },
  {
   "cell_type": "code",
   "execution_count": null,
   "id": "d195178f",
   "metadata": {},
   "outputs": [],
   "source": [
    "for experiment in experiments:\n",
    "    wandb.Api().download_artifacts(experiment.id)"
   ]
  },
  {
   "cell_type": "markdown",
   "id": "0dc28b19",
   "metadata": {},
   "source": [
    "Checks if the output directory structure exists for the downloaded artifacts."
   ]
  },
  {
   "cell_type": "code",
   "execution_count": null,
   "id": "322c9fb4",
   "metadata": {},
   "outputs": [],
   "source": [
    "import os\n",
    "output_dir = 'downloaded_artifacts'\n",
    "if not os.path.exists(output_dir):\n",
    "    print('Directory structure is not correct.')"
   ]
  },
  {
   "cell_type": "markdown",
   "id": "9dbf5043",
   "metadata": {},
   "source": [
    "Calculates and displays the total size of the downloaded artifacts."
   ]
  },
  {
   "cell_type": "code",
   "execution_count": null,
   "id": "6b956674",
   "metadata": {},
   "outputs": [],
   "source": [
    "import os\n",
    "artifact_size = sum(os.path.getsize(os.path.join(output_dir, f)) for f in os.listdir(output_dir))\n",
    "print(f'Total size of downloaded artifacts: {artifact_size} bytes')"
   ]
  },
  {
   "cell_type": "markdown",
   "id": "86f80482",
   "metadata": {},
   "source": [
    "Cleans up and removes the artifacts directory after processing."
   ]
  },
  {
   "cell_type": "code",
   "execution_count": null,
   "id": "901ee4ee",
   "metadata": {},
   "outputs": [],
   "source": [
    "import shutil\n",
    "shutil.rmtree(output_dir)"
   ]
  }
 ],
 "metadata": {
  "kernelspec": {
   "display_name": "Python 3",
   "language": "python",
   "name": "python3"
  },
  "language_info": {
   "codemirror_mode": {
    "name": "ipython",
    "version": 3
   },
   "file_extension": ".py",
   "mimetype": "text/x-python",
   "name": "python",
   "nbconvert_exporter": "python",
   "pygments_lexer": "ipython3",
   "version": "3.8.5"
  }
 },
 "nbformat": 4,
 "nbformat_minor": 5
}
