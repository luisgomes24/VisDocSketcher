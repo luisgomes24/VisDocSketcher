{
 "cells": [
  {
   "cell_type": "markdown",
   "id": "104483e6",
   "metadata": {},
   "source": [
    "Load the data from a CSV file using pandas."
   ]
  },
  {
   "cell_type": "code",
   "execution_count": null,
   "id": "54064faf",
   "metadata": {},
   "outputs": [],
   "source": [
    "import pandas as pd\n",
    "\n",
    "data = pd.read_csv('data.csv')"
   ]
  },
  {
   "cell_type": "markdown",
   "id": "968b2efc",
   "metadata": {},
   "source": [
    "Perform exploratory data analysis (EDA) to get an overview of the data."
   ]
  },
  {
   "cell_type": "code",
   "execution_count": null,
   "id": "8a9bcd52",
   "metadata": {},
   "outputs": [],
   "source": [
    "data.head(), data.describe(), data.info()"
   ]
  },
  {
   "cell_type": "markdown",
   "id": "14537002",
   "metadata": {},
   "source": [
    "Check for duplicate entries and calculate unique values in the dataset."
   ]
  },
  {
   "cell_type": "code",
   "execution_count": null,
   "id": "77187f23",
   "metadata": {},
   "outputs": [],
   "source": [
    "duplicates = data.duplicated().sum()\n",
    "unique_values = data.nunique()"
   ]
  },
  {
   "cell_type": "markdown",
   "id": "1fbc97ab",
   "metadata": {},
   "source": [
    "Compute statistical measures for the salary column."
   ]
  },
  {
   "cell_type": "code",
   "execution_count": null,
   "id": "3f1f33e5",
   "metadata": {},
   "outputs": [],
   "source": [
    "salary_stats = data['salary'].describe()"
   ]
  },
  {
   "cell_type": "markdown",
   "id": "90e3b8a9",
   "metadata": {},
   "source": [
    "Visualize salary distribution against company size using a box plot."
   ]
  },
  {
   "cell_type": "code",
   "execution_count": null,
   "id": "de4fdfe8",
   "metadata": {},
   "outputs": [],
   "source": [
    "import matplotlib.pyplot as plt\n",
    "import seaborn as sns\n",
    "sns.boxplot(x='company_size', y='salary', data=data)\n",
    "plt.title('Salary vs Company Size')\n",
    "plt.show()"
   ]
  },
  {
   "cell_type": "markdown",
   "id": "bc456839",
   "metadata": {},
   "source": [
    "Create a displot to show the relationship between company size and remote ratio."
   ]
  },
  {
   "cell_type": "code",
   "execution_count": null,
   "id": "f3a466a5",
   "metadata": {},
   "outputs": [],
   "source": [
    "sns.displot(data, x='company_size', hue='remote_ratio', multiple='stack')\n",
    "plt.title('Company Size & Remote Ratio')\n",
    "plt.show()"
   ]
  },
  {
   "cell_type": "markdown",
   "id": "0f74aece",
   "metadata": {},
   "source": [
    "Generate a scatter plot to visualize experience against remote ratio."
   ]
  },
  {
   "cell_type": "code",
   "execution_count": null,
   "id": "9d999fcb",
   "metadata": {},
   "outputs": [],
   "source": [
    "sns.scatterplot(x='experience', y='remote_ratio', data=data)\n",
    "plt.title('Experience vs Remote Ratio')\n",
    "plt.show()"
   ]
  },
  {
   "cell_type": "markdown",
   "id": "97c79638",
   "metadata": {},
   "source": [
    "Create a multiplot using FacetGrid to display remote ratio distribution by company size."
   ]
  },
  {
   "cell_type": "code",
   "execution_count": null,
   "id": "b36fcab9",
   "metadata": {},
   "outputs": [],
   "source": [
    "g = sns.FacetGrid(data, col='company_size')\n",
    "g.map(sns.histplot, 'remote_ratio')\n",
    "plt.show()"
   ]
  }
 ],
 "metadata": {
  "kernelspec": {
   "display_name": "Python 3",
   "language": "python",
   "name": "python3"
  },
  "language_info": {
   "codemirror_mode": {
    "name": "ipython",
    "version": 3
   },
   "file_extension": ".py",
   "mimetype": "text/x-python",
   "name": "python",
   "nbconvert_exporter": "python",
   "pygments_lexer": "ipython3",
   "version": "3.8.5"
  }
 },
 "nbformat": 4,
 "nbformat_minor": 5
}
