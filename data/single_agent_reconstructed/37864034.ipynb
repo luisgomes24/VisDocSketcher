{
 "cells": [
  {
   "cell_type": "markdown",
   "id": "f1128ff2",
   "metadata": {},
   "source": [
    "Load the dataset using pandas."
   ]
  },
  {
   "cell_type": "code",
   "execution_count": null,
   "id": "d2a4f9a5",
   "metadata": {},
   "outputs": [],
   "source": [
    "import pandas as pd\n",
    "\n",
    "data = pd.read_csv('data.csv')"
   ]
  },
  {
   "cell_type": "markdown",
   "id": "40f2c0b4",
   "metadata": {},
   "source": [
    "Display information about the dataset."
   ]
  },
  {
   "cell_type": "code",
   "execution_count": null,
   "id": "3c15ab4d",
   "metadata": {},
   "outputs": [],
   "source": [
    "data.info()"
   ]
  },
  {
   "cell_type": "markdown",
   "id": "48c0dc67",
   "metadata": {},
   "source": [
    "Generate descriptive statistics of the dataset."
   ]
  },
  {
   "cell_type": "code",
   "execution_count": null,
   "id": "6c03dce6",
   "metadata": {},
   "outputs": [],
   "source": [
    "data.describe()"
   ]
  },
  {
   "cell_type": "markdown",
   "id": "ee0187ca",
   "metadata": {},
   "source": [
    "Remove missing values from the dataset."
   ]
  },
  {
   "cell_type": "code",
   "execution_count": null,
   "id": "a3a0af16",
   "metadata": {},
   "outputs": [],
   "source": [
    "data.dropna(inplace=True)"
   ]
  },
  {
   "cell_type": "markdown",
   "id": "3bf4ace8",
   "metadata": {},
   "source": [
    "Create a heatmap to visualize correlations between features."
   ]
  },
  {
   "cell_type": "code",
   "execution_count": null,
   "id": "f5a38dcc",
   "metadata": {},
   "outputs": [],
   "source": [
    "import seaborn as sns\n",
    "import matplotlib.pyplot as plt\n",
    "sns.heatmap(data.corr(), annot=True)\n",
    "plt.show()"
   ]
  },
  {
   "cell_type": "markdown",
   "id": "5fef0b63",
   "metadata": {},
   "source": [
    "Create a pairplot to visualize relationships between features."
   ]
  },
  {
   "cell_type": "code",
   "execution_count": null,
   "id": "e4e79797",
   "metadata": {},
   "outputs": [],
   "source": [
    "sns.pairplot(data)\n",
    "plt.show()"
   ]
  },
  {
   "cell_type": "markdown",
   "id": "6fc26744",
   "metadata": {},
   "source": [
    "Split the dataset into training and testing sets."
   ]
  },
  {
   "cell_type": "code",
   "execution_count": null,
   "id": "f7f8d7ea",
   "metadata": {},
   "outputs": [],
   "source": [
    "from sklearn.model_selection import train_test_split\n",
    "X = data.drop('target', axis=1)\n",
    "y = data['target']\n",
    "X_train, X_test, y_train, y_test = train_test_split(X, y, test_size=0.2)"
   ]
  },
  {
   "cell_type": "markdown",
   "id": "4322f498",
   "metadata": {},
   "source": [
    "Train a logistic regression model."
   ]
  },
  {
   "cell_type": "code",
   "execution_count": null,
   "id": "d67ecca0",
   "metadata": {},
   "outputs": [],
   "source": [
    "from sklearn.linear_model import LogisticRegression\n",
    "model = LogisticRegression()\n",
    "model.fit(X_train, y_train)"
   ]
  },
  {
   "cell_type": "markdown",
   "id": "aba55465",
   "metadata": {},
   "source": [
    "Train a decision tree model."
   ]
  },
  {
   "cell_type": "code",
   "execution_count": null,
   "id": "9f1f1be3",
   "metadata": {},
   "outputs": [],
   "source": [
    "from sklearn.tree import DecisionTreeClassifier\n",
    "tree_model = DecisionTreeClassifier()\n",
    "tree_model.fit(X_train, y_train)"
   ]
  },
  {
   "cell_type": "markdown",
   "id": "362fb8b2",
   "metadata": {},
   "source": [
    "Train a random forest model."
   ]
  },
  {
   "cell_type": "code",
   "execution_count": null,
   "id": "e05b4e70",
   "metadata": {},
   "outputs": [],
   "source": [
    "from sklearn.ensemble import RandomForestClassifier\n",
    "rf_model = RandomForestClassifier()\n",
    "rf_model.fit(X_train, y_train)"
   ]
  },
  {
   "cell_type": "markdown",
   "id": "843f7406",
   "metadata": {},
   "source": [
    "Evaluate the performance of the logistic regression model."
   ]
  },
  {
   "cell_type": "code",
   "execution_count": null,
   "id": "3eaffaa3",
   "metadata": {},
   "outputs": [],
   "source": [
    "from sklearn.metrics import accuracy_score\n",
    "logistic_pred = model.predict(X_test)\n",
    "logistic_accuracy = accuracy_score(y_test, logistic_pred)"
   ]
  },
  {
   "cell_type": "markdown",
   "id": "efd03daf",
   "metadata": {},
   "source": [
    "Evaluate the performance of the decision tree model."
   ]
  },
  {
   "cell_type": "code",
   "execution_count": null,
   "id": "3bd0d40a",
   "metadata": {},
   "outputs": [],
   "source": [
    "tree_pred = tree_model.predict(X_test)\n",
    "tree_accuracy = accuracy_score(y_test, tree_pred)"
   ]
  },
  {
   "cell_type": "markdown",
   "id": "20ec74ce",
   "metadata": {},
   "source": [
    "Evaluate the performance of the random forest model."
   ]
  },
  {
   "cell_type": "code",
   "execution_count": null,
   "id": "d5a8853c",
   "metadata": {},
   "outputs": [],
   "source": [
    "rf_pred = rf_model.predict(X_test)\n",
    "rf_accuracy = accuracy_score(y_test, rf_pred)"
   ]
  }
 ],
 "metadata": {
  "kernelspec": {
   "display_name": "Python 3",
   "language": "python",
   "name": "python3"
  },
  "language_info": {
   "codemirror_mode": {
    "name": "ipython",
    "version": 3
   },
   "file_extension": ".py",
   "mimetype": "text/x-python",
   "name": "python",
   "nbconvert_exporter": "python",
   "pygments_lexer": "ipython3",
   "version": "3.8.5"
  }
 },
 "nbformat": 4,
 "nbformat_minor": 5
}
