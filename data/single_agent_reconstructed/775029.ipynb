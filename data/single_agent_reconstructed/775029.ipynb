{
 "cells": [
  {
   "cell_type": "markdown",
   "id": "901fd100",
   "metadata": {},
   "source": [
    "Load the dataset from a CSV file into a DataFrame."
   ]
  },
  {
   "cell_type": "code",
   "execution_count": null,
   "id": "bcdd9d9e",
   "metadata": {},
   "outputs": [],
   "source": [
    "import pandas as pd\n",
    "df = pd.read_csv('data.csv')"
   ]
  },
  {
   "cell_type": "markdown",
   "id": "d1b83051",
   "metadata": {},
   "source": [
    "Display the first few rows of the DataFrame to understand the data structure."
   ]
  },
  {
   "cell_type": "code",
   "execution_count": null,
   "id": "a4cd345c",
   "metadata": {},
   "outputs": [],
   "source": [
    "df.head()"
   ]
  },
  {
   "cell_type": "markdown",
   "id": "a8a323d8",
   "metadata": {},
   "source": [
    "Check for missing values in each column of the DataFrame."
   ]
  },
  {
   "cell_type": "code",
   "execution_count": null,
   "id": "e77aa126",
   "metadata": {},
   "outputs": [],
   "source": [
    "missing_values = df.isnull().sum()"
   ]
  },
  {
   "cell_type": "markdown",
   "id": "cdfa5001",
   "metadata": {},
   "source": [
    "Count the missing values for each column, showing only those with missing data."
   ]
  },
  {
   "cell_type": "code",
   "execution_count": null,
   "id": "23010f06",
   "metadata": {},
   "outputs": [],
   "source": [
    "missing_count = missing_values[missing_values > 0]"
   ]
  },
  {
   "cell_type": "markdown",
   "id": "adfe0a5c",
   "metadata": {},
   "source": [
    "Understand the distribution and characteristics of the missing data."
   ]
  },
  {
   "cell_type": "code",
   "execution_count": null,
   "id": "133743cb",
   "metadata": {},
   "outputs": [],
   "source": [
    "missing_description = df.describe()"
   ]
  },
  {
   "cell_type": "markdown",
   "id": "b5719161",
   "metadata": {},
   "source": [
    "Drop rows with any missing values from the DataFrame."
   ]
  },
  {
   "cell_type": "code",
   "execution_count": null,
   "id": "6703cc7c",
   "metadata": {},
   "outputs": [],
   "source": [
    "df_dropped = df.dropna()"
   ]
  },
  {
   "cell_type": "markdown",
   "id": "e5c0477d",
   "metadata": {},
   "source": [
    "Fill missing values with the mean of each column in the DataFrame."
   ]
  },
  {
   "cell_type": "code",
   "execution_count": null,
   "id": "11b8a421",
   "metadata": {},
   "outputs": [],
   "source": [
    "df_filled = df.fillna(df.mean())"
   ]
  }
 ],
 "metadata": {
  "kernelspec": {
   "display_name": "Python 3",
   "language": "python",
   "name": "python3"
  },
  "language_info": {
   "codemirror_mode": {
    "name": "ipython",
    "version": 3
   },
   "file_extension": ".py",
   "mimetype": "text/x-python",
   "name": "python",
   "nbconvert_exporter": "python",
   "pygments_lexer": "ipython3",
   "version": "3.8.5"
  }
 },
 "nbformat": 4,
 "nbformat_minor": 5
}
