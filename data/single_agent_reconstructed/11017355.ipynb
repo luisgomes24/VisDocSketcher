{
 "cells": [
  {
   "cell_type": "markdown",
   "id": "bb0ab4bf",
   "metadata": {},
   "source": [
    "Load the red wine quality dataset."
   ]
  },
  {
   "cell_type": "code",
   "execution_count": null,
   "id": "1a5b66ee",
   "metadata": {},
   "outputs": [],
   "source": [
    "import pandas as pd\n",
    "\n",
    "data_red = pd.read_csv('wineQualityReds.csv')"
   ]
  },
  {
   "cell_type": "markdown",
   "id": "9b1d7c68",
   "metadata": {},
   "source": [
    "Preview the first few rows of the red wine dataset."
   ]
  },
  {
   "cell_type": "code",
   "execution_count": null,
   "id": "8b21e948",
   "metadata": {},
   "outputs": [],
   "source": [
    "print(data_red.head())"
   ]
  },
  {
   "cell_type": "markdown",
   "id": "65b25cab",
   "metadata": {},
   "source": [
    "Visualize the distribution of features using histograms."
   ]
  },
  {
   "cell_type": "code",
   "execution_count": null,
   "id": "af53ecc4",
   "metadata": {},
   "outputs": [],
   "source": [
    "import seaborn as sns\n",
    "import matplotlib.pyplot as plt\n",
    "sns.histplot(data_red)\n",
    "plt.show()"
   ]
  },
  {
   "cell_type": "markdown",
   "id": "49b8432f",
   "metadata": {},
   "source": [
    "Calculate and display the correlation matrix for the red wine dataset."
   ]
  },
  {
   "cell_type": "code",
   "execution_count": null,
   "id": "a2dc19b4",
   "metadata": {},
   "outputs": [],
   "source": [
    "correlation_matrix_red = data_red.corr()\n",
    "sns.heatmap(correlation_matrix_red, annot=True)\n",
    "plt.show()"
   ]
  },
  {
   "cell_type": "markdown",
   "id": "e39689da",
   "metadata": {},
   "source": [
    "Create scatter plots to examine relationships between features."
   ]
  },
  {
   "cell_type": "code",
   "execution_count": null,
   "id": "00d8b612",
   "metadata": {},
   "outputs": [],
   "source": [
    "sns.scatterplot(data=data_red, x='fixed acidity', y='quality')\n",
    "plt.show()"
   ]
  },
  {
   "cell_type": "markdown",
   "id": "1e17f017",
   "metadata": {},
   "source": [
    "Load the white wine quality dataset."
   ]
  },
  {
   "cell_type": "code",
   "execution_count": null,
   "id": "97c11f61",
   "metadata": {},
   "outputs": [],
   "source": [
    "data_white = pd.read_csv('wineQualityWhites.csv')"
   ]
  },
  {
   "cell_type": "markdown",
   "id": "7ede4d12",
   "metadata": {},
   "source": [
    "Preview the first few rows of the white wine dataset."
   ]
  },
  {
   "cell_type": "code",
   "execution_count": null,
   "id": "338a7f86",
   "metadata": {},
   "outputs": [],
   "source": [
    "print(data_white.head())"
   ]
  },
  {
   "cell_type": "markdown",
   "id": "9dd39d5a",
   "metadata": {},
   "source": [
    "Visualize the distribution of features using histograms for the white wine dataset."
   ]
  },
  {
   "cell_type": "code",
   "execution_count": null,
   "id": "a110c3fa",
   "metadata": {},
   "outputs": [],
   "source": [
    "sns.histplot(data_white)\n",
    "plt.show()"
   ]
  },
  {
   "cell_type": "markdown",
   "id": "ff59e5dd",
   "metadata": {},
   "source": [
    "Calculate and display the correlation matrix for the white wine dataset."
   ]
  },
  {
   "cell_type": "code",
   "execution_count": null,
   "id": "40986887",
   "metadata": {},
   "outputs": [],
   "source": [
    "correlation_matrix_white = data_white.corr()\n",
    "sns.heatmap(correlation_matrix_white, annot=True)\n",
    "plt.show()"
   ]
  },
  {
   "cell_type": "markdown",
   "id": "50b41452",
   "metadata": {},
   "source": [
    "Create scatter plots to examine relationships between features in the white wine dataset."
   ]
  },
  {
   "cell_type": "code",
   "execution_count": null,
   "id": "10d369c0",
   "metadata": {},
   "outputs": [],
   "source": [
    "sns.scatterplot(data=data_white, x='fixed acidity', y='quality')\n",
    "plt.show()"
   ]
  }
 ],
 "metadata": {
  "kernelspec": {
   "display_name": "Python 3",
   "language": "python",
   "name": "python3"
  },
  "language_info": {
   "codemirror_mode": {
    "name": "ipython",
    "version": 3
   },
   "file_extension": ".py",
   "mimetype": "text/x-python",
   "name": "python",
   "nbconvert_exporter": "python",
   "pygments_lexer": "ipython3",
   "version": "3.8.5"
  }
 },
 "nbformat": 4,
 "nbformat_minor": 5
}
