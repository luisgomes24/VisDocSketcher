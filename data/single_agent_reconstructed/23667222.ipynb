{
 "cells": [
  {
   "cell_type": "markdown",
   "id": "a3ced31b",
   "metadata": {},
   "source": [
    "Load the dataset from a CSV file using pandas."
   ]
  },
  {
   "cell_type": "code",
   "execution_count": null,
   "id": "87286a4d",
   "metadata": {},
   "outputs": [],
   "source": [
    "import pandas as pd\n",
    "data = pd.read_csv('data.csv')"
   ]
  },
  {
   "cell_type": "markdown",
   "id": "1f659db2",
   "metadata": {},
   "source": [
    "Perform data cleaning by removing missing values and negative ratings."
   ]
  },
  {
   "cell_type": "code",
   "execution_count": null,
   "id": "8f277fee",
   "metadata": {},
   "outputs": [],
   "source": [
    "data.dropna(inplace=True)\n",
    "data = data[data['Rating'] >= 0]"
   ]
  },
  {
   "cell_type": "markdown",
   "id": "9216d1de",
   "metadata": {},
   "source": [
    "Correct the data types for the 'Category' column."
   ]
  },
  {
   "cell_type": "code",
   "execution_count": null,
   "id": "18a6b417",
   "metadata": {},
   "outputs": [],
   "source": [
    "data['Category'] = data['Category'].astype('category')"
   ]
  },
  {
   "cell_type": "markdown",
   "id": "8d5d05a1",
   "metadata": {},
   "source": [
    "Explore app categories by counting occurrences of each category."
   ]
  },
  {
   "cell_type": "code",
   "execution_count": null,
   "id": "8f72ff95",
   "metadata": {},
   "outputs": [],
   "source": [
    "category_counts = data['Category'].value_counts()"
   ]
  },
  {
   "cell_type": "markdown",
   "id": "171b5c05",
   "metadata": {},
   "source": [
    "Visualize the distribution of app ratings using a histogram."
   ]
  },
  {
   "cell_type": "code",
   "execution_count": null,
   "id": "cad06cf9",
   "metadata": {},
   "outputs": [],
   "source": [
    "import matplotlib.pyplot as plt\n",
    "plt.hist(data['Rating'], bins=10)\n",
    "plt.title('Distribution of Ratings')\n",
    "plt.show()"
   ]
  },
  {
   "cell_type": "markdown",
   "id": "29c6f6d7",
   "metadata": {},
   "source": [
    "Analyze app size and price statistics."
   ]
  },
  {
   "cell_type": "code",
   "execution_count": null,
   "id": "43a427aa",
   "metadata": {},
   "outputs": [],
   "source": [
    "size_price_analysis = data[['Size', 'Price']].describe()"
   ]
  },
  {
   "cell_type": "markdown",
   "id": "ef63fb89",
   "metadata": {},
   "source": [
    "Calculate and plot the average price trend by app category."
   ]
  },
  {
   "cell_type": "code",
   "execution_count": null,
   "id": "5545f399",
   "metadata": {},
   "outputs": [],
   "source": [
    "price_trend = data.groupby('Category')['Price'].mean().plot()"
   ]
  },
  {
   "cell_type": "markdown",
   "id": "5445ff29",
   "metadata": {},
   "source": [
    "Filter out junk apps by retaining those with a rating greater than 3."
   ]
  },
  {
   "cell_type": "code",
   "execution_count": null,
   "id": "f071a678",
   "metadata": {},
   "outputs": [],
   "source": [
    "filtered_data = data[data['Rating'] > 3]"
   ]
  },
  {
   "cell_type": "markdown",
   "id": "17961c56",
   "metadata": {},
   "source": [
    "Analyze and visualize pricing trend after filtering out junk apps."
   ]
  },
  {
   "cell_type": "code",
   "execution_count": null,
   "id": "acd5dd73",
   "metadata": {},
   "outputs": [],
   "source": [
    "pricing_trend_after_filtering = filtered_data.groupby('Category')['Price'].mean().plot()"
   ]
  },
  {
   "cell_type": "markdown",
   "id": "ed7b22d2",
   "metadata": {},
   "source": [
    "Evaluate the popularity of paid versus free apps."
   ]
  },
  {
   "cell_type": "code",
   "execution_count": null,
   "id": "8e3b1937",
   "metadata": {},
   "outputs": [],
   "source": [
    "popularity = data.groupby('Type')['App'].count()"
   ]
  },
  {
   "cell_type": "markdown",
   "id": "49b1dbe4",
   "metadata": {},
   "source": [
    "Perform sentiment analysis on app reviews using TextBlob."
   ]
  },
  {
   "cell_type": "code",
   "execution_count": null,
   "id": "1cb49784",
   "metadata": {},
   "outputs": [],
   "source": [
    "from textblob import TextBlob\n",
    "data['Sentiment'] = data['Review'].apply(lambda x: TextBlob(x).sentiment.polarity)"
   ]
  }
 ],
 "metadata": {
  "kernelspec": {
   "display_name": "Python 3",
   "language": "python",
   "name": "python3"
  },
  "language_info": {
   "codemirror_mode": {
    "name": "ipython",
    "version": 3
   },
   "file_extension": ".py",
   "mimetype": "text/x-python",
   "name": "python",
   "nbconvert_exporter": "python",
   "pygments_lexer": "ipython3",
   "version": "3.8.5"
  }
 },
 "nbformat": 4,
 "nbformat_minor": 5
}
