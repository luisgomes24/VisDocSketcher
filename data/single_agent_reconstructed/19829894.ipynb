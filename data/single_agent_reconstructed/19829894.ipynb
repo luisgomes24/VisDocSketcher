{
 "cells": [
  {
   "cell_type": "markdown",
   "id": "f970f7eb",
   "metadata": {},
   "source": [
    "Load the fish dataset from a CSV file into a DataFrame."
   ]
  },
  {
   "cell_type": "code",
   "execution_count": null,
   "id": "fa3cea91",
   "metadata": {},
   "outputs": [],
   "source": [
    "import pandas as pd\n",
    "dataset = pd.read_csv('fish_dataset.csv')"
   ]
  },
  {
   "cell_type": "markdown",
   "id": "168d48af",
   "metadata": {},
   "source": [
    "Shuffle and split the data into training and testing sets."
   ]
  },
  {
   "cell_type": "code",
   "execution_count": null,
   "id": "e000e9f8",
   "metadata": {},
   "outputs": [],
   "source": [
    "from sklearn.model_selection import train_test_split\n",
    "train_data, test_data = train_test_split(dataset, test_size=0.2, random_state=42)"
   ]
  },
  {
   "cell_type": "markdown",
   "id": "ccb79c7a",
   "metadata": {},
   "source": [
    "Visualize sample images by plotting a histogram of the labels."
   ]
  },
  {
   "cell_type": "code",
   "execution_count": null,
   "id": "2a539e2e",
   "metadata": {},
   "outputs": [],
   "source": [
    "import matplotlib.pyplot as plt\n",
    "plt.hist(train_data['label'])\n",
    "plt.show()"
   ]
  },
  {
   "cell_type": "markdown",
   "id": "bd2e7115",
   "metadata": {},
   "source": [
    "Define the Multi-layer Perceptron (MLP) model architecture."
   ]
  },
  {
   "cell_type": "code",
   "execution_count": null,
   "id": "88847810",
   "metadata": {},
   "outputs": [],
   "source": [
    "import tensorflow as tf\n",
    "model_mlp = tf.keras.Sequential([\n",
    "    tf.keras.layers.Dense(64, activation='relu', input_shape=(train_data.shape[1]-1,)),\n",
    "    tf.keras.layers.Dense(32, activation='relu'),\n",
    "    tf.keras.layers.Dense(1, activation='sigmoid')\n",
    "])"
   ]
  },
  {
   "cell_type": "markdown",
   "id": "5737f19d",
   "metadata": {},
   "source": [
    "Compile and train the MLP model on the training data."
   ]
  },
  {
   "cell_type": "code",
   "execution_count": null,
   "id": "edb0bf85",
   "metadata": {},
   "outputs": [],
   "source": [
    "model_mlp.compile(optimizer='adam', loss='binary_crossentropy', metrics=['accuracy'])\n",
    "model_mlp.fit(train_data.iloc[:, :-1], train_data.iloc[:, -1], epochs=10, batch_size=32)"
   ]
  },
  {
   "cell_type": "markdown",
   "id": "247c1503",
   "metadata": {},
   "source": [
    "Evaluate the MLP model results on the testing data."
   ]
  },
  {
   "cell_type": "code",
   "execution_count": null,
   "id": "75fea387",
   "metadata": {},
   "outputs": [],
   "source": [
    "results_mlp = model_mlp.evaluate(test_data.iloc[:, :-1], test_data.iloc[:, -1])\n",
    "print(results_mlp)"
   ]
  },
  {
   "cell_type": "markdown",
   "id": "9fcf95ba",
   "metadata": {},
   "source": [
    "Build the Convolutional Neural Network (CNN) model architecture."
   ]
  },
  {
   "cell_type": "code",
   "execution_count": null,
   "id": "ac15e2a5",
   "metadata": {},
   "outputs": [],
   "source": [
    "model_cnn = tf.keras.models.Sequential([\n",
    "    tf.keras.layers.Conv2D(32, (3, 3), activation='relu', input_shape=(image_height, image_width, channels)),\n",
    "    tf.keras.layers.MaxPooling2D((2, 2)),\n",
    "    tf.keras.layers.Flatten(),\n",
    "    tf.keras.layers.Dense(64, activation='relu'),\n",
    "    tf.keras.layers.Dense(1, activation='sigmoid')\n",
    "])"
   ]
  },
  {
   "cell_type": "markdown",
   "id": "dafe2231",
   "metadata": {},
   "source": [
    "Compile and train the CNN model on the training images."
   ]
  },
  {
   "cell_type": "code",
   "execution_count": null,
   "id": "5e193ca8",
   "metadata": {},
   "outputs": [],
   "source": [
    "model_cnn.compile(optimizer='adam', loss='binary_crossentropy', metrics=['accuracy'])\n",
    "model_cnn.fit(train_images, train_labels, epochs=10, batch_size=32)"
   ]
  },
  {
   "cell_type": "markdown",
   "id": "e6fbb9d4",
   "metadata": {},
   "source": [
    "Evaluate the CNN model results on the testing images."
   ]
  },
  {
   "cell_type": "code",
   "execution_count": null,
   "id": "edccb92c",
   "metadata": {},
   "outputs": [],
   "source": [
    "results_cnn = model_cnn.evaluate(test_images, test_labels)\n",
    "print(results_cnn)"
   ]
  },
  {
   "cell_type": "markdown",
   "id": "349e2a10",
   "metadata": {},
   "source": [
    "Compare the accuracy results of MLP and CNN models."
   ]
  },
  {
   "cell_type": "code",
   "execution_count": null,
   "id": "fb0ae6fd",
   "metadata": {},
   "outputs": [],
   "source": [
    "import numpy as np\n",
    "comparison = {'MLP': results_mlp[1], 'CNN': results_cnn[1]}\n",
    "print(comparison)"
   ]
  }
 ],
 "metadata": {
  "kernelspec": {
   "display_name": "Python 3",
   "language": "python",
   "name": "python3"
  },
  "language_info": {
   "codemirror_mode": {
    "name": "ipython",
    "version": 3
   },
   "file_extension": ".py",
   "mimetype": "text/x-python",
   "name": "python",
   "nbconvert_exporter": "python",
   "pygments_lexer": "ipython3",
   "version": "3.8.5"
  }
 },
 "nbformat": 4,
 "nbformat_minor": 5
}
