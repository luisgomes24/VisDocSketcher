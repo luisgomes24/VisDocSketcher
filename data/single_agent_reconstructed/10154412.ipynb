{
 "cells": [
  {
   "cell_type": "markdown",
   "id": "69b5c8f9",
   "metadata": {},
   "source": [
    "Load the calendar data from a CSV file using pandas."
   ]
  },
  {
   "cell_type": "code",
   "execution_count": null,
   "id": "38617f6f",
   "metadata": {},
   "outputs": [],
   "source": [
    "import pandas as pd\n",
    "\n",
    "df = pd.read_csv('calendar_data.csv')"
   ]
  },
  {
   "cell_type": "markdown",
   "id": "51b924db",
   "metadata": {},
   "source": [
    "Preview the first few rows of the data to understand its structure."
   ]
  },
  {
   "cell_type": "code",
   "execution_count": null,
   "id": "447a5301",
   "metadata": {},
   "outputs": [],
   "source": [
    "print(df.head())"
   ]
  },
  {
   "cell_type": "markdown",
   "id": "2aee28c4",
   "metadata": {},
   "source": [
    "Select relevant features and clean the data by removing missing values."
   ]
  },
  {
   "cell_type": "code",
   "execution_count": null,
   "id": "d80b9104",
   "metadata": {},
   "outputs": [],
   "source": [
    "df = df[['feature1', 'feature2']].dropna()"
   ]
  },
  {
   "cell_type": "markdown",
   "id": "9adc01af",
   "metadata": {},
   "source": [
    "Generate new features from the date, such as day and month."
   ]
  },
  {
   "cell_type": "code",
   "execution_count": null,
   "id": "9680c5fa",
   "metadata": {},
   "outputs": [],
   "source": [
    "df['date'] = pd.to_datetime(df['date'])\n",
    "df['day'] = df['date'].dt.day\n",
    "df['month'] = df['date'].dt.month\n"
   ]
  },
  {
   "cell_type": "markdown",
   "id": "b7e5cc20",
   "metadata": {},
   "source": [
    "Normalize selected features to a range between 0 and 1."
   ]
  },
  {
   "cell_type": "code",
   "execution_count": null,
   "id": "fb0c9c4e",
   "metadata": {},
   "outputs": [],
   "source": [
    "from sklearn.preprocessing import MinMaxScaler\n",
    "scaler = MinMaxScaler()\n",
    "df[['feature1', 'feature2']] = scaler.fit_transform(df[['feature1', 'feature2']])"
   ]
  },
  {
   "cell_type": "markdown",
   "id": "639b17f8",
   "metadata": {},
   "source": [
    "Reindex the feature names for consistency and clarity."
   ]
  },
  {
   "cell_type": "code",
   "execution_count": null,
   "id": "b71056bd",
   "metadata": {},
   "outputs": [],
   "source": [
    "df.columns = [f'feature_{i}' for i in range(len(df.columns))]"
   ]
  },
  {
   "cell_type": "markdown",
   "id": "fe79893c",
   "metadata": {},
   "source": [
    "Export the cleaned and processed data to a new CSV file."
   ]
  },
  {
   "cell_type": "code",
   "execution_count": null,
   "id": "bba78681",
   "metadata": {},
   "outputs": [],
   "source": [
    "df.to_csv('cleaned_calendar_data.csv', index=False)"
   ]
  }
 ],
 "metadata": {
  "kernelspec": {
   "display_name": "Python 3",
   "language": "python",
   "name": "python3"
  },
  "language_info": {
   "codemirror_mode": {
    "name": "ipython",
    "version": 3
   },
   "file_extension": ".py",
   "mimetype": "text/x-python",
   "name": "python",
   "nbconvert_exporter": "python",
   "pygments_lexer": "ipython3",
   "version": "3.8.5"
  }
 },
 "nbformat": 4,
 "nbformat_minor": 5
}
