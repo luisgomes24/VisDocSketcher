{
 "cells": [
  {
   "cell_type": "markdown",
   "id": "ea757bdc",
   "metadata": {},
   "source": [
    "Load the dataset from a CSV file using pandas."
   ]
  },
  {
   "cell_type": "code",
   "execution_count": null,
   "id": "05115bcf",
   "metadata": {},
   "outputs": [],
   "source": [
    "import pandas as pd\n",
    "\n",
    "df = pd.read_csv('dataset.csv')"
   ]
  },
  {
   "cell_type": "markdown",
   "id": "bcca136a",
   "metadata": {},
   "source": [
    "Perform data exploration by generating descriptive statistics."
   ]
  },
  {
   "cell_type": "code",
   "execution_count": null,
   "id": "47c54578",
   "metadata": {},
   "outputs": [],
   "source": [
    "df_exploration = df.describe()"
   ]
  },
  {
   "cell_type": "markdown",
   "id": "9ec710b5",
   "metadata": {},
   "source": [
    "Group the data by taster and calculate the mean values."
   ]
  },
  {
   "cell_type": "code",
   "execution_count": null,
   "id": "1a74b33d",
   "metadata": {},
   "outputs": [],
   "source": [
    "grouped_by_taster = df.groupby('taster').mean()"
   ]
  },
  {
   "cell_type": "markdown",
   "id": "8845fb5a",
   "metadata": {},
   "source": [
    "Filter the dataset to sort the expensive varieties."
   ]
  },
  {
   "cell_type": "code",
   "execution_count": null,
   "id": "f0aef83d",
   "metadata": {},
   "outputs": [],
   "source": [
    "expensive_varieties = df[df['price'] > df['price'].mean()]"
   ]
  },
  {
   "cell_type": "markdown",
   "id": "0d07d3ca",
   "metadata": {},
   "source": [
    "Calculate average review scores grouped by reviewer."
   ]
  },
  {
   "cell_type": "code",
   "execution_count": null,
   "id": "f017f27f",
   "metadata": {},
   "outputs": [],
   "source": [
    "average_review_score = df.groupby('reviewer')['review_score'].mean()"
   ]
  },
  {
   "cell_type": "markdown",
   "id": "41c84a12",
   "metadata": {},
   "source": [
    "Generate summary statistics of the review scores."
   ]
  },
  {
   "cell_type": "code",
   "execution_count": null,
   "id": "df3ab052",
   "metadata": {},
   "outputs": [],
   "source": [
    "summary_stats = df['review_score'].describe()"
   ]
  },
  {
   "cell_type": "markdown",
   "id": "3943c4ce",
   "metadata": {},
   "source": [
    "Group the data by price and count occurrences."
   ]
  },
  {
   "cell_type": "code",
   "execution_count": null,
   "id": "8026cb29",
   "metadata": {},
   "outputs": [],
   "source": [
    "grouped_by_price = df.groupby('price').size()"
   ]
  },
  {
   "cell_type": "markdown",
   "id": "2573c0ad",
   "metadata": {},
   "source": [
    "Find the price extremes for each variety."
   ]
  },
  {
   "cell_type": "code",
   "execution_count": null,
   "id": "47d94387",
   "metadata": {},
   "outputs": [],
   "source": [
    "price_extremes = df.groupby('variety')['price'].agg(['min', 'max'])"
   ]
  },
  {
   "cell_type": "markdown",
   "id": "f4904057",
   "metadata": {},
   "source": [
    "Count the common varieties present in the dataset."
   ]
  },
  {
   "cell_type": "code",
   "execution_count": null,
   "id": "cfc39ae6",
   "metadata": {},
   "outputs": [],
   "source": [
    "common_varieties = df['variety'].value_counts()"
   ]
  },
  {
   "cell_type": "markdown",
   "id": "7d744910",
   "metadata": {},
   "source": [
    "Group common varieties by country."
   ]
  },
  {
   "cell_type": "code",
   "execution_count": null,
   "id": "133260d5",
   "metadata": {},
   "outputs": [],
   "source": [
    "varieties_by_country = df.groupby('country')['variety'].value_counts()"
   ]
  }
 ],
 "metadata": {
  "kernelspec": {
   "display_name": "Python 3",
   "language": "python",
   "name": "python3"
  },
  "language_info": {
   "codemirror_mode": {
    "name": "ipython",
    "version": 3
   },
   "file_extension": ".py",
   "mimetype": "text/x-python",
   "name": "python",
   "nbconvert_exporter": "python",
   "pygments_lexer": "ipython3",
   "version": "3.8.5"
  }
 },
 "nbformat": 4,
 "nbformat_minor": 5
}
