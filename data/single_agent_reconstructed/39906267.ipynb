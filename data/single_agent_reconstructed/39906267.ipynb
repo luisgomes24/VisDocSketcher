{
 "cells": [
  {
   "cell_type": "markdown",
   "id": "66222e43",
   "metadata": {},
   "source": [
    "Read training data from a CSV file using pandas."
   ]
  },
  {
   "cell_type": "code",
   "execution_count": null,
   "id": "5fd226fb",
   "metadata": {},
   "outputs": [],
   "source": [
    "import pandas as pd\n",
    "train_df = pd.read_csv('train.csv')"
   ]
  },
  {
   "cell_type": "markdown",
   "id": "61531f27",
   "metadata": {},
   "source": [
    "Perform exploratory data analysis to get unique values."
   ]
  },
  {
   "cell_type": "code",
   "execution_count": null,
   "id": "5f1bc120",
   "metadata": {},
   "outputs": [],
   "source": [
    "train_df.describe()"
   ]
  },
  {
   "cell_type": "markdown",
   "id": "f6a06924",
   "metadata": {},
   "source": [
    "Identify missing values in the dataset."
   ]
  },
  {
   "cell_type": "code",
   "execution_count": null,
   "id": "7ddb571a",
   "metadata": {},
   "outputs": [],
   "source": [
    "train_df.isnull().sum()"
   ]
  },
  {
   "cell_type": "markdown",
   "id": "7deee5cc",
   "metadata": {},
   "source": [
    "Inspect columns and their data types."
   ]
  },
  {
   "cell_type": "code",
   "execution_count": null,
   "id": "26681f85",
   "metadata": {},
   "outputs": [],
   "source": [
    "train_df.info()"
   ]
  },
  {
   "cell_type": "markdown",
   "id": "5c3a7a7c",
   "metadata": {},
   "source": [
    "Create an ancestry label by mapping numeric values."
   ]
  },
  {
   "cell_type": "code",
   "execution_count": null,
   "id": "a9a517e5",
   "metadata": {},
   "outputs": [],
   "source": [
    "train_df['Ancestry'] = train_df['Numeric Column'].apply(map_function)"
   ]
  },
  {
   "cell_type": "markdown",
   "id": "9ef5d509",
   "metadata": {},
   "source": [
    "Create feature set X and target variable y."
   ]
  },
  {
   "cell_type": "code",
   "execution_count": null,
   "id": "87c76835",
   "metadata": {},
   "outputs": [],
   "source": [
    "X = train_df.drop('target', axis=1)\n",
    "y = train_df['target']"
   ]
  },
  {
   "cell_type": "markdown",
   "id": "f31044f3",
   "metadata": {},
   "source": [
    "Split the data into training and testing sets."
   ]
  },
  {
   "cell_type": "code",
   "execution_count": null,
   "id": "36d6d2aa",
   "metadata": {},
   "outputs": [],
   "source": [
    "from sklearn.model_selection import train_test_split\n",
    "X_train, X_test, y_train, y_test = train_test_split(X, y, test_size=0.2)"
   ]
  },
  {
   "cell_type": "markdown",
   "id": "f385d7de",
   "metadata": {},
   "source": [
    "Train a logistic regression model."
   ]
  },
  {
   "cell_type": "code",
   "execution_count": null,
   "id": "736f7024",
   "metadata": {},
   "outputs": [],
   "source": [
    "from sklearn.linear_model import LogisticRegression\n",
    "model = LogisticRegression()\n",
    "model.fit(X_train, y_train)"
   ]
  },
  {
   "cell_type": "markdown",
   "id": "932ce9cc",
   "metadata": {},
   "source": [
    "Generate predictions on the test set."
   ]
  },
  {
   "cell_type": "code",
   "execution_count": null,
   "id": "8c31921e",
   "metadata": {},
   "outputs": [],
   "source": [
    "predictions = model.predict(X_test)"
   ]
  },
  {
   "cell_type": "markdown",
   "id": "5ffd9c70",
   "metadata": {},
   "source": [
    "Evaluate the model using a classification report."
   ]
  },
  {
   "cell_type": "code",
   "execution_count": null,
   "id": "7307b1f5",
   "metadata": {},
   "outputs": [],
   "source": [
    "from sklearn.metrics import classification_report\n",
    "print(classification_report(y_test, predictions))"
   ]
  },
  {
   "cell_type": "markdown",
   "id": "df63ce36",
   "metadata": {},
   "source": [
    "Visualize the confusion matrix."
   ]
  },
  {
   "cell_type": "code",
   "execution_count": null,
   "id": "8c6b38ca",
   "metadata": {},
   "outputs": [],
   "source": [
    "from sklearn.metrics import confusion_matrix\n",
    "import seaborn as sns\n",
    "import matplotlib.pyplot as plt\n",
    "cm = confusion_matrix(y_test, predictions)\n",
    "sns.heatmap(cm, annot=True)\n",
    "plt.show()"
   ]
  }
 ],
 "metadata": {
  "kernelspec": {
   "display_name": "Python 3",
   "language": "python",
   "name": "python3"
  },
  "language_info": {
   "codemirror_mode": {
    "name": "ipython",
    "version": 3
   },
   "file_extension": ".py",
   "mimetype": "text/x-python",
   "name": "python",
   "nbconvert_exporter": "python",
   "pygments_lexer": "ipython3",
   "version": "3.8.5"
  }
 },
 "nbformat": 4,
 "nbformat_minor": 5
}
