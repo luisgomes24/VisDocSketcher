{
 "cells": [
  {
   "cell_type": "markdown",
   "id": "00d4d04e",
   "metadata": {},
   "source": [
    "Load the dataset from a CSV file into a DataFrame."
   ]
  },
  {
   "cell_type": "code",
   "execution_count": null,
   "id": "6e724153",
   "metadata": {},
   "outputs": [],
   "source": [
    "import pandas as pd\n",
    "df = pd.read_csv('dataset.csv')"
   ]
  },
  {
   "cell_type": "markdown",
   "id": "ef085ecc",
   "metadata": {},
   "source": [
    "Explore the dataset by checking its summary statistics and information."
   ]
  },
  {
   "cell_type": "code",
   "execution_count": null,
   "id": "dae44157",
   "metadata": {},
   "outputs": [],
   "source": [
    "df.describe()\n",
    "df.info()"
   ]
  },
  {
   "cell_type": "markdown",
   "id": "397099b5",
   "metadata": {},
   "source": [
    "Preprocess the data by filling missing values with the mean."
   ]
  },
  {
   "cell_type": "code",
   "execution_count": null,
   "id": "4cbaed8f",
   "metadata": {},
   "outputs": [],
   "source": [
    "df.fillna(df.mean(), inplace=True)"
   ]
  },
  {
   "cell_type": "markdown",
   "id": "4ef4c8fa",
   "metadata": {},
   "source": [
    "Visualize the correlation matrix of the dataset."
   ]
  },
  {
   "cell_type": "code",
   "execution_count": null,
   "id": "0f68ba74",
   "metadata": {},
   "outputs": [],
   "source": [
    "import seaborn as sns\n",
    "import matplotlib.pyplot as plt\n",
    "sns.heatmap(df.corr(), annot=True)\n",
    "plt.show()"
   ]
  },
  {
   "cell_type": "markdown",
   "id": "4f4825d2",
   "metadata": {},
   "source": [
    "Visualize the count of occurrences for each gender."
   ]
  },
  {
   "cell_type": "code",
   "execution_count": null,
   "id": "d7d8354a",
   "metadata": {},
   "outputs": [],
   "source": [
    "sns.countplot(x='gender', data=df)\n",
    "plt.show()"
   ]
  },
  {
   "cell_type": "markdown",
   "id": "66f9ef55",
   "metadata": {},
   "source": [
    "Visualize the count of occurrences for marital status."
   ]
  },
  {
   "cell_type": "code",
   "execution_count": null,
   "id": "e4418844",
   "metadata": {},
   "outputs": [],
   "source": [
    "sns.countplot(x='married_status', data=df)\n",
    "plt.show()"
   ]
  },
  {
   "cell_type": "markdown",
   "id": "30be7bcd",
   "metadata": {},
   "source": [
    "Visualize the count of occurrences for work type."
   ]
  },
  {
   "cell_type": "code",
   "execution_count": null,
   "id": "b110d990",
   "metadata": {},
   "outputs": [],
   "source": [
    "sns.countplot(x='work_type', data=df)\n",
    "plt.show()"
   ]
  },
  {
   "cell_type": "markdown",
   "id": "c83eb3c2",
   "metadata": {},
   "source": [
    "Visualize the count of occurrences for residence type."
   ]
  },
  {
   "cell_type": "code",
   "execution_count": null,
   "id": "7dab6f02",
   "metadata": {},
   "outputs": [],
   "source": [
    "sns.countplot(x='residence_type', data=df)\n",
    "plt.show()"
   ]
  },
  {
   "cell_type": "markdown",
   "id": "3e698e31",
   "metadata": {},
   "source": [
    "Visualize the count of occurrences for smoking status."
   ]
  },
  {
   "cell_type": "code",
   "execution_count": null,
   "id": "5956553a",
   "metadata": {},
   "outputs": [],
   "source": [
    "sns.countplot(x='smoking_status', data=df)\n",
    "plt.show()"
   ]
  },
  {
   "cell_type": "markdown",
   "id": "704029e0",
   "metadata": {},
   "source": [
    "Visualize the distribution of average glucose levels."
   ]
  },
  {
   "cell_type": "code",
   "execution_count": null,
   "id": "c2992e2b",
   "metadata": {},
   "outputs": [],
   "source": [
    "sns.histplot(df['glucose_level'], bins=30, kde=True)\n",
    "plt.show()"
   ]
  },
  {
   "cell_type": "markdown",
   "id": "25588184",
   "metadata": {},
   "source": [
    "Visualize the distribution of BMI values."
   ]
  },
  {
   "cell_type": "code",
   "execution_count": null,
   "id": "df7e3844",
   "metadata": {},
   "outputs": [],
   "source": [
    "sns.histplot(df['bmi'], bins=30, kde=True)\n",
    "plt.show()"
   ]
  },
  {
   "cell_type": "markdown",
   "id": "ba9371e1",
   "metadata": {},
   "source": [
    "Visualize the relationship between BMI and stroke occurrence."
   ]
  },
  {
   "cell_type": "code",
   "execution_count": null,
   "id": "af546bb8",
   "metadata": {},
   "outputs": [],
   "source": [
    "sns.boxplot(x='stroke', y='bmi', data=df)\n",
    "plt.show()"
   ]
  },
  {
   "cell_type": "markdown",
   "id": "83e0710e",
   "metadata": {},
   "source": [
    "Visualize the relationship between average glucose levels and stroke occurrence."
   ]
  },
  {
   "cell_type": "code",
   "execution_count": null,
   "id": "11327e19",
   "metadata": {},
   "outputs": [],
   "source": [
    "sns.boxplot(x='stroke', y='glucose_level', data=df)\n",
    "plt.show()"
   ]
  },
  {
   "cell_type": "markdown",
   "id": "8b7056aa",
   "metadata": {},
   "source": [
    "Visualize the relationship between age and stroke occurrence."
   ]
  },
  {
   "cell_type": "code",
   "execution_count": null,
   "id": "218cfd5f",
   "metadata": {},
   "outputs": [],
   "source": [
    "sns.boxplot(x='stroke', y='age', data=df)\n",
    "plt.show()"
   ]
  },
  {
   "cell_type": "markdown",
   "id": "722540e2",
   "metadata": {},
   "source": [
    "Create a scatter plot to visualize the relationship between BMI and glucose levels."
   ]
  },
  {
   "cell_type": "code",
   "execution_count": null,
   "id": "c34402f5",
   "metadata": {},
   "outputs": [],
   "source": [
    "sns.scatterplot(x='bmi', y='glucose_level', data=df)\n",
    "plt.show()"
   ]
  }
 ],
 "metadata": {
  "kernelspec": {
   "display_name": "Python 3",
   "language": "python",
   "name": "python3"
  },
  "language_info": {
   "codemirror_mode": {
    "name": "ipython",
    "version": 3
   },
   "file_extension": ".py",
   "mimetype": "text/x-python",
   "name": "python",
   "nbconvert_exporter": "python",
   "pygments_lexer": "ipython3",
   "version": "3.8.5"
  }
 },
 "nbformat": 4,
 "nbformat_minor": 5
}
