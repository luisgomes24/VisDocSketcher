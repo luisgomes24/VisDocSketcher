{
 "cells": [
  {
   "cell_type": "markdown",
   "id": "2203a47f",
   "metadata": {},
   "source": [
    "Load all necessary CSV files into DataFrames."
   ]
  },
  {
   "cell_type": "code",
   "execution_count": null,
   "id": "83b24d56",
   "metadata": {},
   "outputs": [],
   "source": [
    "import pandas as pd\n",
    "\n",
    "rmse_df = pd.read_csv('rmse.csv')\n",
    "cotton_yield_df = pd.read_csv('cotton_yield.csv')\n",
    "cotton_price_df = pd.read_csv('cotton_price.csv')\n",
    "submission_df = pd.read_csv('submission.csv')"
   ]
  },
  {
   "cell_type": "markdown",
   "id": "244be818",
   "metadata": {},
   "source": [
    "Check the shape of each DataFrame to understand their dimensions."
   ]
  },
  {
   "cell_type": "code",
   "execution_count": null,
   "id": "e31a700f",
   "metadata": {},
   "outputs": [],
   "source": [
    "print(rmse_df.shape)\n",
    "print(cotton_yield_df.shape)\n",
    "print(cotton_price_df.shape)\n",
    "print(submission_df.shape)"
   ]
  },
  {
   "cell_type": "markdown",
   "id": "a28c065f",
   "metadata": {},
   "source": [
    "Merge the DataFrames horizontally to create a combined dataset."
   ]
  },
  {
   "cell_type": "code",
   "execution_count": null,
   "id": "6645e594",
   "metadata": {},
   "outputs": [],
   "source": [
    "merged_df = pd.concat([rmse_df, cotton_yield_df, cotton_price_df], axis=1)"
   ]
  },
  {
   "cell_type": "markdown",
   "id": "b91b876c",
   "metadata": {},
   "source": [
    "Display information about the merged DataFrame, including data types."
   ]
  },
  {
   "cell_type": "code",
   "execution_count": null,
   "id": "06b0c3aa",
   "metadata": {},
   "outputs": [],
   "source": [
    "print(merged_df.info())"
   ]
  },
  {
   "cell_type": "markdown",
   "id": "0c896f93",
   "metadata": {},
   "source": [
    "Perform data preprocessing, such as type conversions or normalization."
   ]
  },
  {
   "cell_type": "code",
   "execution_count": null,
   "id": "7ac76155",
   "metadata": {},
   "outputs": [],
   "source": [
    "# Example transformations\n",
    "merged_df['column_name'] = merged_df['column_name'].astype('float')"
   ]
  },
  {
   "cell_type": "markdown",
   "id": "dff595df",
   "metadata": {},
   "source": [
    "Handle missing values using forward fill method."
   ]
  },
  {
   "cell_type": "code",
   "execution_count": null,
   "id": "a0e8f7e6",
   "metadata": {},
   "outputs": [],
   "source": [
    "merged_df.fillna(method='ffill', inplace=True)"
   ]
  },
  {
   "cell_type": "markdown",
   "id": "26f24b00",
   "metadata": {},
   "source": [
    "Save the cleaned DataFrame to a new CSV file."
   ]
  },
  {
   "cell_type": "code",
   "execution_count": null,
   "id": "54f43ea2",
   "metadata": {},
   "outputs": [],
   "source": [
    "merged_df.to_csv('cleaned_data.csv', index=False)"
   ]
  }
 ],
 "metadata": {
  "kernelspec": {
   "display_name": "Python 3",
   "language": "python",
   "name": "python3"
  },
  "language_info": {
   "codemirror_mode": {
    "name": "ipython",
    "version": 3
   },
   "file_extension": ".py",
   "mimetype": "text/x-python",
   "name": "python",
   "nbconvert_exporter": "python",
   "pygments_lexer": "ipython3",
   "version": "3.8.5"
  }
 },
 "nbformat": 4,
 "nbformat_minor": 5
}
