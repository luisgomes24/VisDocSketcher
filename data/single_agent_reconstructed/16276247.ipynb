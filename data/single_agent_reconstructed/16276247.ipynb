{
 "cells": [
  {
   "cell_type": "markdown",
   "id": "ae56542f",
   "metadata": {},
   "source": [
    "Load the dataset from a CSV file into a DataFrame."
   ]
  },
  {
   "cell_type": "code",
   "execution_count": null,
   "id": "b70c6cd4",
   "metadata": {},
   "outputs": [],
   "source": [
    "import pandas as pd\n",
    "\n",
    "df = pd.read_csv('data.csv')"
   ]
  },
  {
   "cell_type": "markdown",
   "id": "c55be587",
   "metadata": {},
   "source": [
    "Split the data into training and testing sets."
   ]
  },
  {
   "cell_type": "code",
   "execution_count": null,
   "id": "94b5cbd6",
   "metadata": {},
   "outputs": [],
   "source": [
    "train_data, test_data = train_test_split(df, test_size=0.2, random_state=42)"
   ]
  },
  {
   "cell_type": "markdown",
   "id": "e6960332",
   "metadata": {},
   "source": [
    "Preprocess the data by customizing specific columns."
   ]
  },
  {
   "cell_type": "code",
   "execution_count": null,
   "id": "58c2d1e6",
   "metadata": {},
   "outputs": [],
   "source": [
    "df['column_name'] = df['column_name'].apply(custom_function)"
   ]
  },
  {
   "cell_type": "markdown",
   "id": "7eaa3e99",
   "metadata": {},
   "source": [
    "Display the first few rows of the training dataset."
   ]
  },
  {
   "cell_type": "code",
   "execution_count": null,
   "id": "2bb447c6",
   "metadata": {},
   "outputs": [],
   "source": [
    "print(df.head())"
   ]
  },
  {
   "cell_type": "markdown",
   "id": "de097689",
   "metadata": {},
   "source": [
    "Visualize the distribution of embarkation towns."
   ]
  },
  {
   "cell_type": "code",
   "execution_count": null,
   "id": "e2fd19a7",
   "metadata": {},
   "outputs": [],
   "source": [
    "sns.countplot(x='Embarked', data=df)"
   ]
  },
  {
   "cell_type": "markdown",
   "id": "ab4d66f8",
   "metadata": {},
   "source": [
    "Visualize the gender distribution in the dataset."
   ]
  },
  {
   "cell_type": "code",
   "execution_count": null,
   "id": "ef106a1f",
   "metadata": {},
   "outputs": [],
   "source": [
    "sns.countplot(x='Gender', data=df)"
   ]
  },
  {
   "cell_type": "markdown",
   "id": "30cf7c3d",
   "metadata": {},
   "source": [
    "Visualize the survival distribution."
   ]
  },
  {
   "cell_type": "code",
   "execution_count": null,
   "id": "41b8282f",
   "metadata": {},
   "outputs": [],
   "source": [
    "sns.countplot(x='Survived', data=df)"
   ]
  },
  {
   "cell_type": "markdown",
   "id": "feec5194",
   "metadata": {},
   "source": [
    "Visualize the class distribution of passengers."
   ]
  },
  {
   "cell_type": "code",
   "execution_count": null,
   "id": "ae6561db",
   "metadata": {},
   "outputs": [],
   "source": [
    "sns.countplot(x='Pclass', data=df)"
   ]
  },
  {
   "cell_type": "markdown",
   "id": "77f96850",
   "metadata": {},
   "source": [
    "Visualize the age distribution of passengers."
   ]
  },
  {
   "cell_type": "code",
   "execution_count": null,
   "id": "4deeaf07",
   "metadata": {},
   "outputs": [],
   "source": [
    "sns.histplot(df['Age'], bins=10)"
   ]
  },
  {
   "cell_type": "markdown",
   "id": "ffd29acf",
   "metadata": {},
   "source": [
    "Create a heatmap for the passenger embarkation data."
   ]
  },
  {
   "cell_type": "code",
   "execution_count": null,
   "id": "115a638f",
   "metadata": {},
   "outputs": [],
   "source": [
    "sns.heatmap(df.corr(), annot=True)"
   ]
  },
  {
   "cell_type": "markdown",
   "id": "b950e34b",
   "metadata": {},
   "source": [
    "Create a sunburst plot to visualize passenger distribution."
   ]
  },
  {
   "cell_type": "code",
   "execution_count": null,
   "id": "c969c972",
   "metadata": {},
   "outputs": [],
   "source": [
    "fig = px.sunburst(df, path=['Embarked', 'Pclass', 'Survived'], values='count')"
   ]
  },
  {
   "cell_type": "markdown",
   "id": "14cdc938",
   "metadata": {},
   "source": [
    "Perform correlation analysis and display the correlation graph."
   ]
  },
  {
   "cell_type": "code",
   "execution_count": null,
   "id": "1a536ca4",
   "metadata": {},
   "outputs": [],
   "source": [
    "sns.heatmap(df.corr(), annot=True)\n",
    "plt.show()"
   ]
  }
 ],
 "metadata": {
  "kernelspec": {
   "display_name": "Python 3",
   "language": "python",
   "name": "python3"
  },
  "language_info": {
   "codemirror_mode": {
    "name": "ipython",
    "version": 3
   },
   "file_extension": ".py",
   "mimetype": "text/x-python",
   "name": "python",
   "nbconvert_exporter": "python",
   "pygments_lexer": "ipython3",
   "version": "3.8.5"
  }
 },
 "nbformat": 4,
 "nbformat_minor": 5
}
