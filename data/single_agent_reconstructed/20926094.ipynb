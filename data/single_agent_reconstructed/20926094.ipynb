{
 "cells": [
  {
   "cell_type": "markdown",
   "id": "ca4a8b02",
   "metadata": {},
   "source": [
    "Load the Pima Indian Diabetes dataset using Pandas."
   ]
  },
  {
   "cell_type": "code",
   "execution_count": null,
   "id": "b1609925",
   "metadata": {},
   "outputs": [],
   "source": [
    "import pandas as pd\n",
    "data = pd.read_csv('pima_indians_diabetes.csv')"
   ]
  },
  {
   "cell_type": "markdown",
   "id": "883a2777",
   "metadata": {},
   "source": [
    "Explore the dataset by displaying the first few rows and summary information."
   ]
  },
  {
   "cell_type": "code",
   "execution_count": null,
   "id": "1c618e2b",
   "metadata": {},
   "outputs": [],
   "source": [
    "print(data.head())\n",
    "print(data.info())"
   ]
  },
  {
   "cell_type": "markdown",
   "id": "1f6cf59d",
   "metadata": {},
   "source": [
    "Provide a summary of the dataset and clean it by removing missing values."
   ]
  },
  {
   "cell_type": "code",
   "execution_count": null,
   "id": "bca3c3e5",
   "metadata": {},
   "outputs": [],
   "source": [
    "data.describe()\n",
    "data = data.dropna()"
   ]
  },
  {
   "cell_type": "markdown",
   "id": "2c408522",
   "metadata": {},
   "source": [
    "Visualize relationships in the dataset using a pairplot."
   ]
  },
  {
   "cell_type": "code",
   "execution_count": null,
   "id": "ef3beb27",
   "metadata": {},
   "outputs": [],
   "source": [
    "import seaborn as sns\n",
    "import matplotlib.pyplot as plt\n",
    "sns.pairplot(data, hue='Outcome')\n",
    "plt.show()"
   ]
  },
  {
   "cell_type": "markdown",
   "id": "1f490658",
   "metadata": {},
   "source": [
    "Create a histogram to visualize the distribution of ages."
   ]
  },
  {
   "cell_type": "code",
   "execution_count": null,
   "id": "b58c5b43",
   "metadata": {},
   "outputs": [],
   "source": [
    "sns.histplot(data['Age'], bins=10)\n",
    "plt.title('Histogram of Age')\n",
    "plt.show()"
   ]
  },
  {
   "cell_type": "markdown",
   "id": "85db5edb",
   "metadata": {},
   "source": [
    "Generate a boxplot to compare age across diabetes outcomes."
   ]
  },
  {
   "cell_type": "code",
   "execution_count": null,
   "id": "43e9b50a",
   "metadata": {},
   "outputs": [],
   "source": [
    "sns.boxplot(x='Age', y='Outcome', data=data)\n",
    "plt.title('Boxplot of Age vs Diabetes Outcome')\n",
    "plt.show()"
   ]
  },
  {
   "cell_type": "markdown",
   "id": "a15e233f",
   "metadata": {},
   "source": [
    "Create a heatmap to visualize the correlation matrix of the dataset."
   ]
  },
  {
   "cell_type": "code",
   "execution_count": null,
   "id": "478ec601",
   "metadata": {},
   "outputs": [],
   "source": [
    "correlation_matrix = data.corr()\n",
    "sns.heatmap(correlation_matrix, annot=True)\n",
    "plt.title('Heatmap of Correlation')\n",
    "plt.show()"
   ]
  },
  {
   "cell_type": "markdown",
   "id": "09773ccb",
   "metadata": {},
   "source": [
    "Confirm completion of the diabetes analysis."
   ]
  },
  {
   "cell_type": "code",
   "execution_count": null,
   "id": "40441fce",
   "metadata": {},
   "outputs": [],
   "source": [
    "print('Diabetes Analysis Completed')"
   ]
  }
 ],
 "metadata": {
  "kernelspec": {
   "display_name": "Python 3",
   "language": "python",
   "name": "python3"
  },
  "language_info": {
   "codemirror_mode": {
    "name": "ipython",
    "version": 3
   },
   "file_extension": ".py",
   "mimetype": "text/x-python",
   "name": "python",
   "nbconvert_exporter": "python",
   "pygments_lexer": "ipython3",
   "version": "3.8.5"
  }
 },
 "nbformat": 4,
 "nbformat_minor": 5
}
