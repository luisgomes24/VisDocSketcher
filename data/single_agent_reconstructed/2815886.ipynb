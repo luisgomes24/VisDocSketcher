{
 "cells": [
  {
   "cell_type": "markdown",
   "id": "8a8bc858",
   "metadata": {},
   "source": [
    "Load the dataset from a CSV file using pandas."
   ]
  },
  {
   "cell_type": "code",
   "execution_count": null,
   "id": "eba14ed4",
   "metadata": {},
   "outputs": [],
   "source": [
    "import pandas as pd\n",
    "\n",
    "data = pd.read_csv('../input/data.csv')"
   ]
  },
  {
   "cell_type": "markdown",
   "id": "cb2b1528",
   "metadata": {},
   "source": [
    "Preview the first few rows of the data to understand its structure."
   ]
  },
  {
   "cell_type": "code",
   "execution_count": null,
   "id": "2151b24b",
   "metadata": {},
   "outputs": [],
   "source": [
    "print(data.head())"
   ]
  },
  {
   "cell_type": "markdown",
   "id": "e2889d2f",
   "metadata": {},
   "source": [
    "Generate distribution graphs for each column in the dataset."
   ]
  },
  {
   "cell_type": "code",
   "execution_count": null,
   "id": "f2b4b357",
   "metadata": {},
   "outputs": [],
   "source": [
    "plotPerColumnDistribution(data)"
   ]
  },
  {
   "cell_type": "markdown",
   "id": "daa1f28f",
   "metadata": {},
   "source": [
    "Create a correlation matrix to visualize relationships between features."
   ]
  },
  {
   "cell_type": "code",
   "execution_count": null,
   "id": "e84ecdf5",
   "metadata": {},
   "outputs": [],
   "source": [
    "plotCorrelationMatrix(data)"
   ]
  },
  {
   "cell_type": "markdown",
   "id": "f7cb2a4c",
   "metadata": {},
   "source": [
    "Plot scatter and density plots to explore pairwise relationships in the data."
   ]
  },
  {
   "cell_type": "code",
   "execution_count": null,
   "id": "ff8feb5d",
   "metadata": {},
   "outputs": [],
   "source": [
    "plotScatterMatrix(data)"
   ]
  }
 ],
 "metadata": {
  "kernelspec": {
   "display_name": "Python 3",
   "language": "python",
   "name": "python3"
  },
  "language_info": {
   "codemirror_mode": {
    "name": "ipython",
    "version": 3
   },
   "file_extension": ".py",
   "mimetype": "text/x-python",
   "name": "python",
   "nbconvert_exporter": "python",
   "pygments_lexer": "ipython3",
   "version": "3.8.5"
  }
 },
 "nbformat": 4,
 "nbformat_minor": 5
}
