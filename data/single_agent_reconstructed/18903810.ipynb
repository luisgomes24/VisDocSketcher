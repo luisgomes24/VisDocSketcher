{
 "cells": [
  {
   "cell_type": "markdown",
   "id": "4dc9c4ec",
   "metadata": {},
   "source": [
    "Load the dataset from a CSV file into a DataFrame."
   ]
  },
  {
   "cell_type": "code",
   "execution_count": null,
   "id": "fbbedc6b",
   "metadata": {},
   "outputs": [],
   "source": [
    "import pandas as pd\n",
    "\n",
    "# Load Data\n",
    "data = pd.read_csv('data.csv')"
   ]
  },
  {
   "cell_type": "markdown",
   "id": "b85740c9",
   "metadata": {},
   "source": [
    "Inspect the first few rows of the data to understand its structure."
   ]
  },
  {
   "cell_type": "code",
   "execution_count": null,
   "id": "298eeef5",
   "metadata": {},
   "outputs": [],
   "source": [
    "print(data.head())"
   ]
  },
  {
   "cell_type": "markdown",
   "id": "40a5cd05",
   "metadata": {},
   "source": [
    "Check for null values in each column of the dataset."
   ]
  },
  {
   "cell_type": "code",
   "execution_count": null,
   "id": "e7b15ad3",
   "metadata": {},
   "outputs": [],
   "source": [
    "print(data.isnull().sum())"
   ]
  },
  {
   "cell_type": "markdown",
   "id": "f33ab22c",
   "metadata": {},
   "source": [
    "Remove rows with null values from the dataset."
   ]
  },
  {
   "cell_type": "code",
   "execution_count": null,
   "id": "77ae63cb",
   "metadata": {},
   "outputs": [],
   "source": [
    "data.dropna(inplace=True)"
   ]
  },
  {
   "cell_type": "markdown",
   "id": "25755087",
   "metadata": {},
   "source": [
    "Examine and remove duplicate rows from the dataset."
   ]
  },
  {
   "cell_type": "code",
   "execution_count": null,
   "id": "649c4afa",
   "metadata": {},
   "outputs": [],
   "source": [
    "data.drop_duplicates(inplace=True)"
   ]
  },
  {
   "cell_type": "markdown",
   "id": "f8980893",
   "metadata": {},
   "source": [
    "Create a connected survival feature that indicates whether the passenger survived."
   ]
  },
  {
   "cell_type": "code",
   "execution_count": null,
   "id": "ac14c0b2",
   "metadata": {},
   "outputs": [],
   "source": [
    "data['Survived'] = data['Survived'].apply(lambda x: 'Yes' if x == 1 else 'No')"
   ]
  },
  {
   "cell_type": "markdown",
   "id": "c9d81722",
   "metadata": {},
   "source": [
    "Fill missing values with the mean of their respective columns."
   ]
  },
  {
   "cell_type": "code",
   "execution_count": null,
   "id": "950e1dcc",
   "metadata": {},
   "outputs": [],
   "source": [
    "data.fillna(data.mean(), inplace=True)"
   ]
  },
  {
   "cell_type": "markdown",
   "id": "e407dab7",
   "metadata": {},
   "source": [
    "Initialize a Random Forest model for classification."
   ]
  },
  {
   "cell_type": "code",
   "execution_count": null,
   "id": "4030245c",
   "metadata": {},
   "outputs": [],
   "source": [
    "from sklearn.ensemble import RandomForestClassifier\n",
    "\n",
    "model_rf = RandomForestClassifier()"
   ]
  },
  {
   "cell_type": "markdown",
   "id": "976fe75d",
   "metadata": {},
   "source": [
    "Train the Random Forest model using the training dataset."
   ]
  },
  {
   "cell_type": "code",
   "execution_count": null,
   "id": "9aad55a0",
   "metadata": {},
   "outputs": [],
   "source": [
    "model_rf.fit(X_train, y_train)"
   ]
  },
  {
   "cell_type": "markdown",
   "id": "17cfbb15",
   "metadata": {},
   "source": [
    "Evaluate the Random Forest model by calculating its accuracy."
   ]
  },
  {
   "cell_type": "code",
   "execution_count": null,
   "id": "577a505d",
   "metadata": {},
   "outputs": [],
   "source": [
    "from sklearn.metrics import accuracy_score\n",
    "\n",
    "predictions_rf = model_rf.predict(X_test)\n",
    "\n",
    "accuracy_rf = accuracy_score(y_test, predictions_rf)"
   ]
  },
  {
   "cell_type": "markdown",
   "id": "7db182d0",
   "metadata": {},
   "source": [
    "Save the trained Random Forest model to a file for future use."
   ]
  },
  {
   "cell_type": "code",
   "execution_count": null,
   "id": "8fa5094f",
   "metadata": {},
   "outputs": [],
   "source": [
    "import joblib\n",
    "\n",
    "joblib.dump(model_rf, 'random_forest_model.pkl')"
   ]
  },
  {
   "cell_type": "markdown",
   "id": "e4422c93",
   "metadata": {},
   "source": [
    "Initialize an XGBoost model for classification."
   ]
  },
  {
   "cell_type": "code",
   "execution_count": null,
   "id": "3803d746",
   "metadata": {},
   "outputs": [],
   "source": [
    "from xgboost import XGBClassifier\n",
    "\n",
    "model_xgb = XGBClassifier()"
   ]
  },
  {
   "cell_type": "markdown",
   "id": "6a0d416c",
   "metadata": {},
   "source": [
    "Train the XGBoost model using the training dataset."
   ]
  },
  {
   "cell_type": "code",
   "execution_count": null,
   "id": "6929d7e3",
   "metadata": {},
   "outputs": [],
   "source": [
    "model_xgb.fit(X_train, y_train)"
   ]
  },
  {
   "cell_type": "markdown",
   "id": "048aa314",
   "metadata": {},
   "source": [
    "Evaluate the XGBoost model by calculating its accuracy."
   ]
  },
  {
   "cell_type": "code",
   "execution_count": null,
   "id": "dc1c4b56",
   "metadata": {},
   "outputs": [],
   "source": [
    "predictions_xgb = model_xgb.predict(X_test)\n",
    "\n",
    "accuracy_xgb = accuracy_score(y_test, predictions_xgb)"
   ]
  },
  {
   "cell_type": "markdown",
   "id": "0f09209f",
   "metadata": {},
   "source": [
    "Save the trained XGBoost model to a file for future use."
   ]
  },
  {
   "cell_type": "code",
   "execution_count": null,
   "id": "8b2f2415",
   "metadata": {},
   "outputs": [],
   "source": [
    "joblib.dump(model_xgb, 'xgboost_model.pkl')"
   ]
  }
 ],
 "metadata": {
  "kernelspec": {
   "display_name": "Python 3",
   "language": "python",
   "name": "python3"
  },
  "language_info": {
   "codemirror_mode": {
    "name": "ipython",
    "version": 3
   },
   "file_extension": ".py",
   "mimetype": "text/x-python",
   "name": "python",
   "nbconvert_exporter": "python",
   "pygments_lexer": "ipython3",
   "version": "3.8.5"
  }
 },
 "nbformat": 4,
 "nbformat_minor": 5
}
