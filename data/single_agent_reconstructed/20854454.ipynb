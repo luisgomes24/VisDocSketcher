{
 "cells": [
  {
   "cell_type": "markdown",
   "id": "51fd0c04",
   "metadata": {},
   "source": [
    "Read the training data from a CSV file."
   ]
  },
  {
   "cell_type": "code",
   "execution_count": null,
   "id": "fd7cd911",
   "metadata": {},
   "outputs": [],
   "source": [
    "import pandas as pd\n",
    "df = pd.read_csv('train.csv')"
   ]
  },
  {
   "cell_type": "markdown",
   "id": "77819301",
   "metadata": {},
   "source": [
    "Create a copy of the DataFrame."
   ]
  },
  {
   "cell_type": "code",
   "execution_count": null,
   "id": "4b59c97f",
   "metadata": {},
   "outputs": [],
   "source": [
    "df = df.copy()"
   ]
  },
  {
   "cell_type": "markdown",
   "id": "3c817baf",
   "metadata": {},
   "source": [
    "Check for NULL values in the DataFrame."
   ]
  },
  {
   "cell_type": "code",
   "execution_count": null,
   "id": "7f62ae70",
   "metadata": {},
   "outputs": [],
   "source": [
    "df.isnull().sum()"
   ]
  },
  {
   "cell_type": "markdown",
   "id": "a55827f9",
   "metadata": {},
   "source": [
    "Generate a summary of statistics for numerical columns."
   ]
  },
  {
   "cell_type": "code",
   "execution_count": null,
   "id": "055640a9",
   "metadata": {},
   "outputs": [],
   "source": [
    "df.describe()"
   ]
  },
  {
   "cell_type": "markdown",
   "id": "c4ad4f6c",
   "metadata": {},
   "source": [
    "Visualize gender count vs response."
   ]
  },
  {
   "cell_type": "code",
   "execution_count": null,
   "id": "67b6e306",
   "metadata": {},
   "outputs": [],
   "source": [
    "import seaborn as sns\n",
    "gender_count = df['gender'].value_counts()\n",
    "sns.barplot(x=gender_count.index, y=gender_count.values)"
   ]
  },
  {
   "cell_type": "markdown",
   "id": "5d2f05a5",
   "metadata": {},
   "source": [
    "Plot age against previously insured."
   ]
  },
  {
   "cell_type": "code",
   "execution_count": null,
   "id": "2c9d5b71",
   "metadata": {},
   "outputs": [],
   "source": [
    "import matplotlib.pyplot as plt\n",
    "plt.scatter(df['age'], df['previously_insured'])\n",
    "plt.xlabel('Age')\n",
    "plt.ylabel('Previously Insured')\n",
    "plt.show()"
   ]
  },
  {
   "cell_type": "markdown",
   "id": "dea3a35f",
   "metadata": {},
   "source": [
    "Visualize vehicle age against damage."
   ]
  },
  {
   "cell_type": "code",
   "execution_count": null,
   "id": "bc3e920a",
   "metadata": {},
   "outputs": [],
   "source": [
    "plt.bar(df['vehicle_age'], df['damage'])\n",
    "plt.xlabel('Vehicle Age')\n",
    "plt.ylabel('Damage')\n",
    "plt.show()"
   ]
  },
  {
   "cell_type": "markdown",
   "id": "f3feb31c",
   "metadata": {},
   "source": [
    "Convert categorical variables to numeric."
   ]
  },
  {
   "cell_type": "code",
   "execution_count": null,
   "id": "83516953",
   "metadata": {},
   "outputs": [],
   "source": [
    "from sklearn.preprocessing import LabelEncoder\n",
    "le = LabelEncoder()\n",
    "df['categorical_column'] = le.fit_transform(df['categorical_column'])"
   ]
  },
  {
   "cell_type": "markdown",
   "id": "56629bcf",
   "metadata": {},
   "source": [
    "Create a heatmap to visualize correlations."
   ]
  },
  {
   "cell_type": "code",
   "execution_count": null,
   "id": "cbd55131",
   "metadata": {},
   "outputs": [],
   "source": [
    "import seaborn as sns\n",
    "sns.heatmap(df.corr(), annot=True, cmap='coolwarm')\n",
    "plt.show()"
   ]
  },
  {
   "cell_type": "markdown",
   "id": "dc294b07",
   "metadata": {},
   "source": [
    "Split the data into training and testing sets."
   ]
  },
  {
   "cell_type": "code",
   "execution_count": null,
   "id": "9a4858c3",
   "metadata": {},
   "outputs": [],
   "source": [
    "from sklearn.model_selection import train_test_split\n",
    "X = df.drop('target', axis=1)\n",
    "y = df['target']\n",
    "X_train, X_test, y_train, y_test = train_test_split(X, y, test_size=0.2, random_state=42)"
   ]
  },
  {
   "cell_type": "markdown",
   "id": "d7f6b122",
   "metadata": {},
   "source": [
    "Train a Random Forest Classifier."
   ]
  },
  {
   "cell_type": "code",
   "execution_count": null,
   "id": "f5b64ba5",
   "metadata": {},
   "outputs": [],
   "source": [
    "from sklearn.ensemble import RandomForestClassifier\n",
    "model = RandomForestClassifier()\n",
    "model.fit(X_train, y_train)"
   ]
  },
  {
   "cell_type": "markdown",
   "id": "a5ef99c7",
   "metadata": {},
   "source": [
    "Evaluate the model using confusion matrix and report."
   ]
  },
  {
   "cell_type": "code",
   "execution_count": null,
   "id": "5109c795",
   "metadata": {},
   "outputs": [],
   "source": [
    "from sklearn.metrics import confusion_matrix, classification_report\n",
    "predictions = model.predict(X_test)\n",
    "confusion = confusion_matrix(y_test, predictions)\n",
    "report = classification_report(y_test, predictions)"
   ]
  },
  {
   "cell_type": "markdown",
   "id": "778c3956",
   "metadata": {},
   "source": [
    "Train an XGBoost classifier."
   ]
  },
  {
   "cell_type": "code",
   "execution_count": null,
   "id": "f2f54f79",
   "metadata": {},
   "outputs": [],
   "source": [
    "import xgboost as xgb\n",
    "xg_model = xgb.XGBClassifier()\n",
    "xg_model.fit(X_train, y_train)"
   ]
  },
  {
   "cell_type": "markdown",
   "id": "0085800d",
   "metadata": {},
   "source": [
    "Evaluate the XGBoost model."
   ]
  },
  {
   "cell_type": "code",
   "execution_count": null,
   "id": "b011ebfb",
   "metadata": {},
   "outputs": [],
   "source": [
    "xg_predictions = xg_model.predict(X_test)\n",
    "confusion_xg = confusion_matrix(y_test, xg_predictions)\n",
    "report_xg = classification_report(y_test, xg_predictions)"
   ]
  },
  {
   "cell_type": "markdown",
   "id": "92bdbc05",
   "metadata": {},
   "source": [
    "Compile final results of model evaluations."
   ]
  },
  {
   "cell_type": "code",
   "execution_count": null,
   "id": "eb462729",
   "metadata": {},
   "outputs": [],
   "source": [
    "final_results = {'random_forest': {'confusion_matrix': confusion, 'report': report}, 'xgboost': {'confusion_matrix': confusion_xg, 'report': report_xg}}"
   ]
  }
 ],
 "metadata": {
  "kernelspec": {
   "display_name": "Python 3",
   "language": "python",
   "name": "python3"
  },
  "language_info": {
   "codemirror_mode": {
    "name": "ipython",
    "version": 3
   },
   "file_extension": ".py",
   "mimetype": "text/x-python",
   "name": "python",
   "nbconvert_exporter": "python",
   "pygments_lexer": "ipython3",
   "version": "3.8.5"
  }
 },
 "nbformat": 4,
 "nbformat_minor": 5
}
