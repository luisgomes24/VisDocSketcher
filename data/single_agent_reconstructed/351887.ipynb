{
 "cells": [
  {
   "cell_type": "markdown",
   "id": "0f848df1",
   "metadata": {},
   "source": [
    "Load the images and masks from the specified paths using OpenCV."
   ]
  },
  {
   "cell_type": "code",
   "execution_count": null,
   "id": "660e4ca9",
   "metadata": {},
   "outputs": [],
   "source": [
    "import cv2\n",
    "\n",
    "# Load images and masks\n",
    "def load_data(image_path, mask_path):\n",
    "    image = cv2.imread(image_path)\n",
    "    mask = cv2.imread(mask_path, cv2.IMREAD_GRAYSCALE)\n",
    "    return image, mask"
   ]
  },
  {
   "cell_type": "markdown",
   "id": "16295efc",
   "metadata": {},
   "source": [
    "Preprocess the loaded data by resizing and normalizing the images and masks."
   ]
  },
  {
   "cell_type": "code",
   "execution_count": null,
   "id": "a6d36cf0",
   "metadata": {},
   "outputs": [],
   "source": [
    "def preprocess_data(image, mask):\n",
    "    # Basic preprocessing (resize, normalize, etc.)\n",
    "    image = cv2.resize(image, (256, 256))\n",
    "    mask = cv2.resize(mask, (256, 256))\n",
    "    return image, mask"
   ]
  },
  {
   "cell_type": "markdown",
   "id": "2af86b8a",
   "metadata": {},
   "source": [
    "Display the processed images and masks in separate windows."
   ]
  },
  {
   "cell_type": "code",
   "execution_count": null,
   "id": "ee286851",
   "metadata": {},
   "outputs": [],
   "source": [
    "def show_images(image, mask):\n",
    "    cv2.imshow('Image', image)\n",
    "    cv2.imshow('Mask', mask)\n",
    "    cv2.waitKey(0)\n",
    "    cv2.destroyAllWindows()"
   ]
  },
  {
   "cell_type": "markdown",
   "id": "00489ee1",
   "metadata": {},
   "source": [
    "Flip the image horizontally."
   ]
  },
  {
   "cell_type": "code",
   "execution_count": null,
   "id": "51ca3305",
   "metadata": {},
   "outputs": [],
   "source": [
    "import numpy as np\n",
    "\n",
    "def flip(image):\n",
    "    return cv2.flip(image, 1)"
   ]
  },
  {
   "cell_type": "markdown",
   "id": "60991de2",
   "metadata": {},
   "source": [
    "Rotate the image by a specified angle."
   ]
  },
  {
   "cell_type": "code",
   "execution_count": null,
   "id": "6aeb9cbd",
   "metadata": {},
   "outputs": [],
   "source": [
    "def rotate(image, angle):\n",
    "    h, w = image.shape[:2]\n",
    "    center = (w // 2, h // 2)\n",
    "    matrix = cv2.getRotationMatrix2D(center, angle, 1.0)\n",
    "    return cv2.warpAffine(image, matrix, (w, h))"
   ]
  },
  {
   "cell_type": "markdown",
   "id": "a99c61b7",
   "metadata": {},
   "source": [
    "Shift the image by specified pixel values in the x and y directions."
   ]
  },
  {
   "cell_type": "code",
   "execution_count": null,
   "id": "eb979f92",
   "metadata": {},
   "outputs": [],
   "source": [
    "def shift(image, dx, dy):\n",
    "    M = np.float32([[1, 0, dx], [0, 1, dy]])\n",
    "    return cv2.warpAffine(image, M, (image.shape[1], image.shape[0]))"
   ]
  },
  {
   "cell_type": "markdown",
   "id": "5c6b7cef",
   "metadata": {},
   "source": [
    "Zoom into the image by a specified factor."
   ]
  },
  {
   "cell_type": "code",
   "execution_count": null,
   "id": "9da63622",
   "metadata": {},
   "outputs": [],
   "source": [
    "def zoom(image, zoom_factor):\n",
    "    h, w = image.shape[:2]\n",
    "    new_h, new_w = int(h * zoom_factor), int(w * zoom_factor)\n",
    "    return cv2.resize(image, (new_w, new_h))"
   ]
  },
  {
   "cell_type": "markdown",
   "id": "4b3f839b",
   "metadata": {},
   "source": [
    "Shear the image based on the specified shear factor."
   ]
  },
  {
   "cell_type": "code",
   "execution_count": null,
   "id": "84685301",
   "metadata": {},
   "outputs": [],
   "source": [
    "def shear(image, shear_factor):\n",
    "    h, w = image.shape[:2]\n",
    "    M = np.float32([[1, shear_factor, 0], [0, 1, 0]])\n",
    "    return cv2.warpAffine(image, M, (w, h))"
   ]
  },
  {
   "cell_type": "markdown",
   "id": "51d9d861",
   "metadata": {},
   "source": [
    "Apply a random shift to color channels of the image."
   ]
  },
  {
   "cell_type": "code",
   "execution_count": null,
   "id": "af658958",
   "metadata": {},
   "outputs": [],
   "source": [
    "def random_channel_shift(image):\n",
    "    shift = np.random.randint(-20, 20, size=(3,))\n",
    "    return np.clip(image + shift, 0, 255).astype(np.uint8)"
   ]
  },
  {
   "cell_type": "markdown",
   "id": "e5a07f6c",
   "metadata": {},
   "source": [
    "Convert the image to grayscale."
   ]
  },
  {
   "cell_type": "code",
   "execution_count": null,
   "id": "0e169203",
   "metadata": {},
   "outputs": [],
   "source": [
    "def grayscale(image):\n",
    "    return cv2.cvtColor(image, cv2.COLOR_BGR2GRAY)"
   ]
  },
  {
   "cell_type": "markdown",
   "id": "99413704",
   "metadata": {},
   "source": [
    "Adjust the contrast of the image by a specified factor."
   ]
  },
  {
   "cell_type": "code",
   "execution_count": null,
   "id": "34c60cbb",
   "metadata": {},
   "outputs": [],
   "source": [
    "def adjust_contrast(image, factor):\n",
    "    return cv2.convertScaleAbs(image, alpha=factor, beta=0)"
   ]
  },
  {
   "cell_type": "markdown",
   "id": "339161cd",
   "metadata": {},
   "source": [
    "Adjust the brightness of the image by a specified value."
   ]
  },
  {
   "cell_type": "code",
   "execution_count": null,
   "id": "9fe78d80",
   "metadata": {},
   "outputs": [],
   "source": [
    "def adjust_brightness(image, value):\n",
    "    return cv2.convertScaleAbs(image, alpha=1, beta=value)"
   ]
  },
  {
   "cell_type": "markdown",
   "id": "e342e91a",
   "metadata": {},
   "source": [
    "Change the saturation of the image by a specified factor."
   ]
  },
  {
   "cell_type": "code",
   "execution_count": null,
   "id": "d742aed8",
   "metadata": {},
   "outputs": [],
   "source": [
    "def adjust_saturation(image, value):\n",
    "    hsv = cv2.cvtColor(image, cv2.COLOR_BGR2HSV)\n",
    "    hsv[:,:,1] = np.clip(hsv[:,:,1] * value, 0, 255)\n",
    "    return cv2.cvtColor(hsv, cv2.COLOR_HSV2BGR)"
   ]
  },
  {
   "cell_type": "markdown",
   "id": "1c0f2fce",
   "metadata": {},
   "source": [
    "Combine multiple transformations applied sequentially to the image."
   ]
  },
  {
   "cell_type": "code",
   "execution_count": null,
   "id": "2c45bdca",
   "metadata": {},
   "outputs": [],
   "source": [
    "def combine_transformations(image, transformations):\n",
    "    for transform in transformations:\n",
    "        image = transform(image)\n",
    "    return image"
   ]
  },
  {
   "cell_type": "markdown",
   "id": "69cc564c",
   "metadata": {},
   "source": [
    "Visualize both the original and transformed images."
   ]
  },
  {
   "cell_type": "code",
   "execution_count": null,
   "id": "a2c91439",
   "metadata": {},
   "outputs": [],
   "source": [
    "def visualize_transformed_outputs(original, transformed):\n",
    "    cv2.imshow('Original', original)\n",
    "    cv2.imshow('Transformed', transformed)\n",
    "    cv2.waitKey(0)\n",
    "    cv2.destroyAllWindows()"
   ]
  }
 ],
 "metadata": {
  "kernelspec": {
   "display_name": "Python 3",
   "language": "python",
   "name": "python3"
  },
  "language_info": {
   "codemirror_mode": {
    "name": "ipython",
    "version": 3
   },
   "file_extension": ".py",
   "mimetype": "text/x-python",
   "name": "python",
   "nbconvert_exporter": "python",
   "pygments_lexer": "ipython3",
   "version": "3.8.5"
  }
 },
 "nbformat": 4,
 "nbformat_minor": 5
}
