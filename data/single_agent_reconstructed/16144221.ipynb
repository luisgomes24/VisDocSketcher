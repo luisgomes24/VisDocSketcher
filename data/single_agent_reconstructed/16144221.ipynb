{
 "cells": [
  {
   "cell_type": "markdown",
   "id": "66b09eb7",
   "metadata": {},
   "source": [
    "Load the dataset from a CSV file into a pandas DataFrame."
   ]
  },
  {
   "cell_type": "code",
   "execution_count": null,
   "id": "cf613c90",
   "metadata": {},
   "outputs": [],
   "source": [
    "import pandas as pd\n",
    "data = pd.read_csv('data.csv')"
   ]
  },
  {
   "cell_type": "markdown",
   "id": "8c839e13",
   "metadata": {},
   "source": [
    "Validate and preprocess the data by removing missing values."
   ]
  },
  {
   "cell_type": "code",
   "execution_count": null,
   "id": "97a139a3",
   "metadata": {},
   "outputs": [],
   "source": [
    "data.dropna(inplace=True)\n",
    "data.reset_index(drop=True, inplace=True)"
   ]
  },
  {
   "cell_type": "markdown",
   "id": "bd13e733",
   "metadata": {},
   "source": [
    "Process the data to find total commits over time."
   ]
  },
  {
   "cell_type": "code",
   "execution_count": null,
   "id": "e392e0e3",
   "metadata": {},
   "outputs": [],
   "source": [
    "total_commits = data.groupby('date').size()"
   ]
  },
  {
   "cell_type": "markdown",
   "id": "49a7730d",
   "metadata": {},
   "source": [
    "Calculate the number of commits per repository over time."
   ]
  },
  {
   "cell_type": "code",
   "execution_count": null,
   "id": "f02f0f1e",
   "metadata": {},
   "outputs": [],
   "source": [
    "commits_per_repo = data.groupby(['repo', 'date']).size()"
   ]
  },
  {
   "cell_type": "markdown",
   "id": "b28611d5",
   "metadata": {},
   "source": [
    "Count the total commits per year."
   ]
  },
  {
   "cell_type": "code",
   "execution_count": null,
   "id": "05571269",
   "metadata": {},
   "outputs": [],
   "source": [
    "commits_per_year = data.groupby(data['date'].dt.year).size()"
   ]
  },
  {
   "cell_type": "markdown",
   "id": "0e9ecc21",
   "metadata": {},
   "source": [
    "Visualize the distribution of commits."
   ]
  },
  {
   "cell_type": "code",
   "execution_count": null,
   "id": "1f17201c",
   "metadata": {},
   "outputs": [],
   "source": [
    "import matplotlib.pyplot as plt\n",
    "plt.hist(data['commits'], bins=10)"
   ]
  },
  {
   "cell_type": "markdown",
   "id": "910b8805",
   "metadata": {},
   "source": [
    "Calculate the number of unique users contributing to the commits."
   ]
  },
  {
   "cell_type": "code",
   "execution_count": null,
   "id": "832587c4",
   "metadata": {},
   "outputs": [],
   "source": [
    "unique_users = data['user'].nunique()"
   ]
  },
  {
   "cell_type": "markdown",
   "id": "59805734",
   "metadata": {},
   "source": [
    "Create a word cloud from the commit messages."
   ]
  },
  {
   "cell_type": "code",
   "execution_count": null,
   "id": "3cf54d93",
   "metadata": {},
   "outputs": [],
   "source": [
    "from wordcloud import WordCloud\n",
    "wordcloud = WordCloud().generate(' '.join(data['commit_message']))"
   ]
  },
  {
   "cell_type": "markdown",
   "id": "25a02139",
   "metadata": {},
   "source": [
    "Identify users who contributed across different repositories."
   ]
  },
  {
   "cell_type": "code",
   "execution_count": null,
   "id": "951649be",
   "metadata": {},
   "outputs": [],
   "source": [
    "users_across_repos = data.groupby('repo')['user'].unique()"
   ]
  }
 ],
 "metadata": {
  "kernelspec": {
   "display_name": "Python 3",
   "language": "python",
   "name": "python3"
  },
  "language_info": {
   "codemirror_mode": {
    "name": "ipython",
    "version": 3
   },
   "file_extension": ".py",
   "mimetype": "text/x-python",
   "name": "python",
   "nbconvert_exporter": "python",
   "pygments_lexer": "ipython3",
   "version": "3.8.5"
  }
 },
 "nbformat": 4,
 "nbformat_minor": 5
}
