{
 "cells": [
  {
   "cell_type": "markdown",
   "id": "63cf5ec8",
   "metadata": {},
   "source": [
    "Load all apple images from the specified directory."
   ]
  },
  {
   "cell_type": "code",
   "execution_count": null,
   "id": "40294b35",
   "metadata": {},
   "outputs": [],
   "source": [
    "import os\n",
    "\n",
    "apple_images = [os.path.join('apple_directory', f) for f in os.listdir('apple_directory') if f.endswith(('.png', '.jpg'))]"
   ]
  },
  {
   "cell_type": "markdown",
   "id": "cce5b1ae",
   "metadata": {},
   "source": [
    "Load images of other fruits from their directory."
   ]
  },
  {
   "cell_type": "code",
   "execution_count": null,
   "id": "7a90569a",
   "metadata": {},
   "outputs": [],
   "source": [
    "other_fruit_images = [os.path.join('other_fruit_directory', f) for f in os.listdir('other_fruit_directory') if f.endswith(('.png', '.jpg'))]"
   ]
  },
  {
   "cell_type": "markdown",
   "id": "15a9fb4b",
   "metadata": {},
   "source": [
    "Analyze and store the dimensions of each image."
   ]
  },
  {
   "cell_type": "code",
   "execution_count": null,
   "id": "48a61636",
   "metadata": {},
   "outputs": [],
   "source": [
    "image_dimensions = [(img, Image.open(img).size) for img in apple_images + other_fruit_images]"
   ]
  },
  {
   "cell_type": "markdown",
   "id": "89dd0358",
   "metadata": {},
   "source": [
    "Preprocess the loaded images for model input."
   ]
  },
  {
   "cell_type": "code",
   "execution_count": null,
   "id": "d216c9d6",
   "metadata": {},
   "outputs": [],
   "source": [
    "processed_images = [preprocess_image(img) for img in apple_images + other_fruit_images]"
   ]
  },
  {
   "cell_type": "markdown",
   "id": "6a3a103a",
   "metadata": {},
   "source": [
    "Load the pre-trained machine learning model."
   ]
  },
  {
   "cell_type": "code",
   "execution_count": null,
   "id": "47d8eb9e",
   "metadata": {},
   "outputs": [],
   "source": [
    "from keras.models import load_model\n",
    "\n",
    "model = load_model('path_to_model.h5')"
   ]
  },
  {
   "cell_type": "markdown",
   "id": "4a9ba2fb",
   "metadata": {},
   "source": [
    "Predict the class of the processed Carambola image."
   ]
  },
  {
   "cell_type": "code",
   "execution_count": null,
   "id": "c2bb1915",
   "metadata": {},
   "outputs": [],
   "source": [
    "carambola_prediction = model.predict(processed_images[0])"
   ]
  },
  {
   "cell_type": "markdown",
   "id": "e6316c4a",
   "metadata": {},
   "source": [
    "Predict the class of the processed Pomegranate image."
   ]
  },
  {
   "cell_type": "code",
   "execution_count": null,
   "id": "932aeb12",
   "metadata": {},
   "outputs": [],
   "source": [
    "pomegranate_prediction = model.predict(processed_images[1])"
   ]
  },
  {
   "cell_type": "markdown",
   "id": "138fcdf0",
   "metadata": {},
   "source": [
    "Compile prediction results for each fruit."
   ]
  },
  {
   "cell_type": "code",
   "execution_count": null,
   "id": "6d27c541",
   "metadata": {},
   "outputs": [],
   "source": [
    "results = {'Carambola': carambola_prediction, 'Pomegranate': pomegranate_prediction}"
   ]
  }
 ],
 "metadata": {
  "kernelspec": {
   "display_name": "Python 3",
   "language": "python",
   "name": "python3"
  },
  "language_info": {
   "codemirror_mode": {
    "name": "ipython",
    "version": 3
   },
   "file_extension": ".py",
   "mimetype": "text/x-python",
   "name": "python",
   "nbconvert_exporter": "python",
   "pygments_lexer": "ipython3",
   "version": "3.8.5"
  }
 },
 "nbformat": 4,
 "nbformat_minor": 5
}
