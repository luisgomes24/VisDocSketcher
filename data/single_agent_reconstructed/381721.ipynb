{
 "cells": [
  {
   "cell_type": "markdown",
   "id": "a710c093",
   "metadata": {},
   "source": [
    "Loads a dataset from a specified path."
   ]
  },
  {
   "cell_type": "code",
   "execution_count": null,
   "id": "80c13a6f",
   "metadata": {},
   "outputs": [],
   "source": [
    "import cv2\n",
    "import numpy as np\n",
    "import pandas as pd\n",
    "\n",
    "def load_dataset(path):\n",
    "    return pd.read_csv(path)"
   ]
  },
  {
   "cell_type": "markdown",
   "id": "f6a1a536",
   "metadata": {},
   "source": [
    "Reads images from a specified directory."
   ]
  },
  {
   "cell_type": "code",
   "execution_count": null,
   "id": "8e27803c",
   "metadata": {},
   "outputs": [],
   "source": [
    "def read_images(directory):\n",
    "    images = []\n",
    "    for filename in os.listdir(directory):\n",
    "        img = cv2.imread(os.path.join(directory, filename))\n",
    "        images.append(img)\n",
    "    return images"
   ]
  },
  {
   "cell_type": "markdown",
   "id": "5d710bb9",
   "metadata": {},
   "source": [
    "Extracts features from images using VGG16 model."
   ]
  },
  {
   "cell_type": "code",
   "execution_count": null,
   "id": "6d8e2944",
   "metadata": {},
   "outputs": [],
   "source": [
    "from keras.applications import VGG16\n",
    "from keras.models import Model\n",
    "\n",
    "def extract_vgg16_features(images):\n",
    "    model = VGG16(weights='imagenet', include_top=False)\n",
    "    features = model.predict(images)\n",
    "    return features"
   ]
  },
  {
   "cell_type": "markdown",
   "id": "953e3df0",
   "metadata": {},
   "source": [
    "Extracts features from images using Xception model."
   ]
  },
  {
   "cell_type": "code",
   "execution_count": null,
   "id": "141f09b2",
   "metadata": {},
   "outputs": [],
   "source": [
    "from keras.applications import Xception\n",
    "\n",
    "def extract_xception_features(images):\n",
    "    model = Xception(weights='imagenet', include_top=False)\n",
    "    features = model.predict(images)\n",
    "    return features"
   ]
  },
  {
   "cell_type": "markdown",
   "id": "f33f9633",
   "metadata": {},
   "source": [
    "Extracts features from images using Inception model."
   ]
  },
  {
   "cell_type": "code",
   "execution_count": null,
   "id": "6398b101",
   "metadata": {},
   "outputs": [],
   "source": [
    "from keras.applications import InceptionV3\n",
    "\n",
    "def extract_inception_features(images):\n",
    "    model = InceptionV3(weights='imagenet', include_top=False)\n",
    "    features = model.predict(images)\n",
    "    return features"
   ]
  },
  {
   "cell_type": "markdown",
   "id": "37e4c9a5",
   "metadata": {},
   "source": [
    "Trains a logistic regression model on the extracted features."
   ]
  },
  {
   "cell_type": "code",
   "execution_count": null,
   "id": "fa9fc4ec",
   "metadata": {},
   "outputs": [],
   "source": [
    "from sklearn.linear_model import LogisticRegression\n",
    "from sklearn.metrics import log_loss, accuracy_score\n",
    "\n",
    "def train_model(features, labels):\n",
    "    model = LogisticRegression()\n",
    "    model.fit(features, labels)\n",
    "    return model"
   ]
  },
  {
   "cell_type": "markdown",
   "id": "46581b3f",
   "metadata": {},
   "source": [
    "Evaluates the model and returns log loss and accuracy."
   ]
  },
  {
   "cell_type": "code",
   "execution_count": null,
   "id": "1c4809ce",
   "metadata": {},
   "outputs": [],
   "source": [
    "def evaluate_model(model, X, y):\n",
    "    preds = model.predict(X)\n",
    "    loss = log_loss(y, preds)\n",
    "    accuracy = accuracy_score(y, preds)\n",
    "    return loss, accuracy"
   ]
  },
  {
   "cell_type": "markdown",
   "id": "c005ccfd",
   "metadata": {},
   "source": [
    "Combines features from all models into a single feature set."
   ]
  },
  {
   "cell_type": "code",
   "execution_count": null,
   "id": "089e5473",
   "metadata": {},
   "outputs": [],
   "source": [
    "def combine_features(vgg_features, xception_features, inception_features):\n",
    "    return np.concatenate((vgg_features, xception_features, inception_features), axis=1)"
   ]
  },
  {
   "cell_type": "markdown",
   "id": "52ed00e5",
   "metadata": {},
   "source": [
    "Trains a logistic regression model on combined features."
   ]
  },
  {
   "cell_type": "code",
   "execution_count": null,
   "id": "28574c17",
   "metadata": {},
   "outputs": [],
   "source": [
    "def train_combined_model(combined_features, labels):\n",
    "    model = train_model(combined_features, labels)\n",
    "    return model"
   ]
  },
  {
   "cell_type": "markdown",
   "id": "76b9206a",
   "metadata": {},
   "source": [
    "Analyzes model predictions to identify errors."
   ]
  },
  {
   "cell_type": "code",
   "execution_count": null,
   "id": "3ef3f377",
   "metadata": {},
   "outputs": [],
   "source": [
    "def analyze_errors(predictions, true_labels):\n",
    "    errors = [i for i in range(len(predictions)) if predictions[i] != true_labels[i]]\n",
    "    return errors"
   ]
  },
  {
   "cell_type": "markdown",
   "id": "2d3923c2",
   "metadata": {},
   "source": [
    "Calculates the execution time of the process."
   ]
  },
  {
   "cell_type": "code",
   "execution_count": null,
   "id": "a3ed9e56",
   "metadata": {},
   "outputs": [],
   "source": [
    "import time\n",
    "\n",
    "def execution_time(start_time):\n",
    "    end_time = time.time()\n",
    "    return end_time - start_time"
   ]
  }
 ],
 "metadata": {
  "kernelspec": {
   "display_name": "Python 3",
   "language": "python",
   "name": "python3"
  },
  "language_info": {
   "codemirror_mode": {
    "name": "ipython",
    "version": 3
   },
   "file_extension": ".py",
   "mimetype": "text/x-python",
   "name": "python",
   "nbconvert_exporter": "python",
   "pygments_lexer": "ipython3",
   "version": "3.8.5"
  }
 },
 "nbformat": 4,
 "nbformat_minor": 5
}
