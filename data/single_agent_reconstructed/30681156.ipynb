{
 "cells": [
  {
   "cell_type": "markdown",
   "id": "b8da21c5",
   "metadata": {},
   "source": [
    "Load data from a CSV file into a Pandas DataFrame."
   ]
  },
  {
   "cell_type": "code",
   "execution_count": null,
   "id": "614b21a3",
   "metadata": {},
   "outputs": [],
   "source": [
    "import pandas as pd\n",
    "\n",
    "data = pd.read_csv('data.csv')"
   ]
  },
  {
   "cell_type": "markdown",
   "id": "dff5e4a8",
   "metadata": {},
   "source": [
    "Display basic info and statistics of the DataFrame for an initial check."
   ]
  },
  {
   "cell_type": "code",
   "execution_count": null,
   "id": "a6e9e95a",
   "metadata": {},
   "outputs": [],
   "source": [
    "print(data.info())\n",
    "print(data.describe())"
   ]
  },
  {
   "cell_type": "markdown",
   "id": "f90ff048",
   "metadata": {},
   "source": [
    "Create a bar plot showing rankings categorized by genre."
   ]
  },
  {
   "cell_type": "code",
   "execution_count": null,
   "id": "82d97daf",
   "metadata": {},
   "outputs": [],
   "source": [
    "import matplotlib.pyplot as plt\n",
    "import seaborn as sns\n",
    "\n",
    "sns.barplot(x='Genre', y='Ranking', data=data)\n",
    "plt.title('Barplot Ranking vs Genre')\n",
    "plt.show()"
   ]
  },
  {
   "cell_type": "markdown",
   "id": "17672bc4",
   "metadata": {},
   "source": [
    "Visualize the longest song duration for each artist using a bar plot."
   ]
  },
  {
   "cell_type": "code",
   "execution_count": null,
   "id": "bad238bb",
   "metadata": {},
   "outputs": [],
   "source": [
    "sns.barplot(x='Artist', y='Longest_Song', data=data)\n",
    "plt.title('Barplot Longest Song by Artist')\n",
    "plt.show()"
   ]
  },
  {
   "cell_type": "markdown",
   "id": "57f78a15",
   "metadata": {},
   "source": [
    "Plot a line graph showing the trend between track names and their duration in minutes."
   ]
  },
  {
   "cell_type": "code",
   "execution_count": null,
   "id": "bbbe54aa",
   "metadata": {},
   "outputs": [],
   "source": [
    "plt.plot(data['Track'], data['Minutes'])\n",
    "plt.title('Lineplot Trend between Tracks and Minutes')\n",
    "plt.xlabel('Tracks')\n",
    "plt.ylabel('Minutes')\n",
    "plt.show()"
   ]
  },
  {
   "cell_type": "markdown",
   "id": "2a46f0cf",
   "metadata": {},
   "source": [
    "Generate a bar plot of the top 20 albums based on sales figures."
   ]
  },
  {
   "cell_type": "code",
   "execution_count": null,
   "id": "3ff8585c",
   "metadata": {},
   "outputs": [],
   "source": [
    "sns.barplot(x='Album', y='Sales', data=data.head(20))\n",
    "plt.title('Barplot Top 20 Albums by Sales')\n",
    "plt.show()"
   ]
  },
  {
   "cell_type": "markdown",
   "id": "72730f39",
   "metadata": {},
   "source": [
    "Illustrate total sales for each genre using a bar plot."
   ]
  },
  {
   "cell_type": "code",
   "execution_count": null,
   "id": "8dd5d4ef",
   "metadata": {},
   "outputs": [],
   "source": [
    "sns.barplot(x='Genre', y='Total_Sales', data=data)\n",
    "plt.title('Barplot Most Genre Total Sales')\n",
    "plt.show()"
   ]
  },
  {
   "cell_type": "markdown",
   "id": "a5a76a3b",
   "metadata": {},
   "source": [
    "Display a line plot depicting the sales trend over the years."
   ]
  },
  {
   "cell_type": "code",
   "execution_count": null,
   "id": "92511eac",
   "metadata": {},
   "outputs": [],
   "source": [
    "plt.plot(data['Year'], data['Sales'])\n",
    "plt.title('Lineplot Trend between Year and Sales')\n",
    "plt.xlabel('Year')\n",
    "plt.ylabel('Sales')\n",
    "plt.show()"
   ]
  },
  {
   "cell_type": "markdown",
   "id": "eb70e7df",
   "metadata": {},
   "source": [
    "Show the top 30 artists ranked by the number of albums released in a bar plot."
   ]
  },
  {
   "cell_type": "code",
   "execution_count": null,
   "id": "c0b199e0",
   "metadata": {},
   "outputs": [],
   "source": [
    "sns.barplot(x='Artist', y='Album_Count', data=data.head(30))\n",
    "plt.title('Barplot Top 30 Artists by Album Count')\n",
    "plt.show()"
   ]
  }
 ],
 "metadata": {
  "kernelspec": {
   "display_name": "Python 3",
   "language": "python",
   "name": "python3"
  },
  "language_info": {
   "codemirror_mode": {
    "name": "ipython",
    "version": 3
   },
   "file_extension": ".py",
   "mimetype": "text/x-python",
   "name": "python",
   "nbconvert_exporter": "python",
   "pygments_lexer": "ipython3",
   "version": "3.8.5"
  }
 },
 "nbformat": 4,
 "nbformat_minor": 5
}
