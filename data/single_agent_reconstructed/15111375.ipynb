{
 "cells": [
  {
   "cell_type": "markdown",
   "id": "bb4063d8",
   "metadata": {},
   "source": [
    "Load the dataset from a CSV file into a pandas DataFrame."
   ]
  },
  {
   "cell_type": "code",
   "execution_count": null,
   "id": "c6aeef58",
   "metadata": {},
   "outputs": [],
   "source": [
    "import pandas as pd\n",
    "diabetes = pd.read_csv('path/to/your/data.csv')"
   ]
  },
  {
   "cell_type": "markdown",
   "id": "92c6cd0e",
   "metadata": {},
   "source": [
    "Display the names of the columns in the DataFrame."
   ]
  },
  {
   "cell_type": "code",
   "execution_count": null,
   "id": "b6c2ecc7",
   "metadata": {},
   "outputs": [],
   "source": [
    "print(diabetes.columns)"
   ]
  },
  {
   "cell_type": "markdown",
   "id": "30f7782f",
   "metadata": {},
   "source": [
    "Show the first few rows of the dataset."
   ]
  },
  {
   "cell_type": "code",
   "execution_count": null,
   "id": "51546247",
   "metadata": {},
   "outputs": [],
   "source": [
    "print(diabetes.head())"
   ]
  },
  {
   "cell_type": "markdown",
   "id": "a64b25f3",
   "metadata": {},
   "source": [
    "Show the last few rows of the dataset."
   ]
  },
  {
   "cell_type": "code",
   "execution_count": null,
   "id": "2b183cc1",
   "metadata": {},
   "outputs": [],
   "source": [
    "print(diabetes.tail())"
   ]
  },
  {
   "cell_type": "markdown",
   "id": "825135f3",
   "metadata": {},
   "source": [
    "Output the shape (number of rows and columns) of the DataFrame."
   ]
  },
  {
   "cell_type": "code",
   "execution_count": null,
   "id": "de1fdc96",
   "metadata": {},
   "outputs": [],
   "source": [
    "print(diabetes.shape)"
   ]
  },
  {
   "cell_type": "markdown",
   "id": "045f11a3",
   "metadata": {},
   "source": [
    "Display the data types of each column in the DataFrame."
   ]
  },
  {
   "cell_type": "code",
   "execution_count": null,
   "id": "64a52118",
   "metadata": {},
   "outputs": [],
   "source": [
    "print(diabetes.dtypes)"
   ]
  },
  {
   "cell_type": "markdown",
   "id": "b3a99c2d",
   "metadata": {},
   "source": [
    "Show basic statistics of the numeric columns."
   ]
  },
  {
   "cell_type": "code",
   "execution_count": null,
   "id": "5d7042aa",
   "metadata": {},
   "outputs": [],
   "source": [
    "print(diabetes.describe())"
   ]
  },
  {
   "cell_type": "markdown",
   "id": "26566f6e",
   "metadata": {},
   "source": [
    "Display a concise summary of the DataFrame, including non-null counts."
   ]
  },
  {
   "cell_type": "code",
   "execution_count": null,
   "id": "f417c052",
   "metadata": {},
   "outputs": [],
   "source": [
    "print(diabetes.info())"
   ]
  },
  {
   "cell_type": "markdown",
   "id": "aa3f5252",
   "metadata": {},
   "source": [
    "Check for missing values in each column."
   ]
  },
  {
   "cell_type": "code",
   "execution_count": null,
   "id": "8cede2df",
   "metadata": {},
   "outputs": [],
   "source": [
    "print(diabetes.isnull().sum())"
   ]
  },
  {
   "cell_type": "markdown",
   "id": "090a8a0d",
   "metadata": {},
   "source": [
    "Impute missing values with the mean of each column."
   ]
  },
  {
   "cell_type": "code",
   "execution_count": null,
   "id": "5c41a56c",
   "metadata": {},
   "outputs": [],
   "source": [
    "diabetes.fillna(diabetes.mean(), inplace=True)"
   ]
  },
  {
   "cell_type": "markdown",
   "id": "71bc8fbe",
   "metadata": {},
   "source": [
    "Visualize the distribution of BMI values using a histogram."
   ]
  },
  {
   "cell_type": "code",
   "execution_count": null,
   "id": "b39bd6d5",
   "metadata": {},
   "outputs": [],
   "source": [
    "import matplotlib.pyplot as plt\n",
    " plt.hist(diabetes['BMI'])\n",
    " plt.title('BMI Distribution')\n",
    " plt.show()"
   ]
  },
  {
   "cell_type": "markdown",
   "id": "cdc4bf4e",
   "metadata": {},
   "source": [
    "Create bins for BMI values to categorize individuals."
   ]
  },
  {
   "cell_type": "code",
   "execution_count": null,
   "id": "1c8d53ab",
   "metadata": {},
   "outputs": [],
   "source": [
    "diabetes['BMI_bins'] = pd.cut(diabetes['BMI'], bins=[0, 18.5, 24.9, 29.9, 39.9, 100], labels=['Underweight', 'Normal', 'Overweight', 'Obesity I', 'Obesity II'], right=False)"
   ]
  },
  {
   "cell_type": "markdown",
   "id": "9416c94a",
   "metadata": {},
   "source": [
    "Calculate and display the correlation of features with the outcome variable."
   ]
  },
  {
   "cell_type": "code",
   "execution_count": null,
   "id": "fbc0fae5",
   "metadata": {},
   "outputs": [],
   "source": [
    "corr = diabetes.corr()['Outcome']\n",
    "print(corr)"
   ]
  },
  {
   "cell_type": "markdown",
   "id": "93b052a6",
   "metadata": {},
   "source": [
    "Impute any remaining missing values with the median of each column."
   ]
  },
  {
   "cell_type": "code",
   "execution_count": null,
   "id": "1787838a",
   "metadata": {},
   "outputs": [],
   "source": [
    "diabetes.fillna(diabetes.median(), inplace=True)"
   ]
  },
  {
   "cell_type": "markdown",
   "id": "93d739a6",
   "metadata": {},
   "source": [
    "Provide a summary of the dataset after imputation."
   ]
  },
  {
   "cell_type": "code",
   "execution_count": null,
   "id": "7526b599",
   "metadata": {},
   "outputs": [],
   "source": [
    "print(diabetes.describe(include='all'))"
   ]
  },
  {
   "cell_type": "markdown",
   "id": "953a82b3",
   "metadata": {},
   "source": [
    "Calculate the mean blood pressure for the top quartile of age."
   ]
  },
  {
   "cell_type": "code",
   "execution_count": null,
   "id": "8e063765",
   "metadata": {},
   "outputs": [],
   "source": [
    "mean_bp = diabetes[diabetes['Age'] > diabetes['Age'].quantile(0.75)]['BP'].mean()"
   ]
  }
 ],
 "metadata": {
  "kernelspec": {
   "display_name": "Python 3",
   "language": "python",
   "name": "python3"
  },
  "language_info": {
   "codemirror_mode": {
    "name": "ipython",
    "version": 3
   },
   "file_extension": ".py",
   "mimetype": "text/x-python",
   "name": "python",
   "nbconvert_exporter": "python",
   "pygments_lexer": "ipython3",
   "version": "3.8.5"
  }
 },
 "nbformat": 4,
 "nbformat_minor": 5
}
