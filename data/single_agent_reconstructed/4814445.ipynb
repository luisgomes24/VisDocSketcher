{
 "cells": [
  {
   "cell_type": "markdown",
   "id": "0d35875a",
   "metadata": {},
   "source": [
    "Load the dataset from a CSV file into a DataFrame."
   ]
  },
  {
   "cell_type": "code",
   "execution_count": null,
   "id": "a3159616",
   "metadata": {},
   "outputs": [],
   "source": [
    "import pandas as pd\n",
    "house_df = pd.read_csv('path/to/data.csv')"
   ]
  },
  {
   "cell_type": "markdown",
   "id": "18111100",
   "metadata": {},
   "source": [
    "Get descriptive statistics of the dataset."
   ]
  },
  {
   "cell_type": "code",
   "execution_count": null,
   "id": "db600da8",
   "metadata": {},
   "outputs": [],
   "source": [
    "house_df.describe()"
   ]
  },
  {
   "cell_type": "markdown",
   "id": "fff9566e",
   "metadata": {},
   "source": [
    "Check for null values in each column of the DataFrame."
   ]
  },
  {
   "cell_type": "code",
   "execution_count": null,
   "id": "cd5fe06c",
   "metadata": {},
   "outputs": [],
   "source": [
    "house_df.isnull().sum()"
   ]
  },
  {
   "cell_type": "markdown",
   "id": "752caae4",
   "metadata": {},
   "source": [
    "Calculate the coefficient of correlation between features."
   ]
  },
  {
   "cell_type": "code",
   "execution_count": null,
   "id": "95cbb08c",
   "metadata": {},
   "outputs": [],
   "source": [
    "correlation_matrix = house_df.corr()"
   ]
  },
  {
   "cell_type": "markdown",
   "id": "102a7e6e",
   "metadata": {},
   "source": [
    "Create and display a heatmap of the correlation matrix."
   ]
  },
  {
   "cell_type": "code",
   "execution_count": null,
   "id": "575faf40",
   "metadata": {},
   "outputs": [],
   "source": [
    "import seaborn as sns\n",
    "import matplotlib.pyplot as plt\n",
    "sns.heatmap(correlation_matrix, annot=True)\n",
    "plt.show()"
   ]
  },
  {
   "cell_type": "markdown",
   "id": "a3ea3468",
   "metadata": {},
   "source": [
    "Perform simple linear regression using one feature."
   ]
  },
  {
   "cell_type": "code",
   "execution_count": null,
   "id": "332e96ef",
   "metadata": {},
   "outputs": [],
   "source": [
    "import statsmodels.api as sm\n",
    "X = house_df[['feature1']]\n",
    "y = house_df['target']\n",
    "model = sm.OLS(y, X).fit()"
   ]
  },
  {
   "cell_type": "markdown",
   "id": "1553976a",
   "metadata": {},
   "source": [
    "Plot the data points and the regression line."
   ]
  },
  {
   "cell_type": "code",
   "execution_count": null,
   "id": "82123cb4",
   "metadata": {},
   "outputs": [],
   "source": [
    "plt.scatter(house_df['feature1'], house_df['target'])\n",
    "plt.plot(house_df['feature1'], model.predict(X), color='red')\n",
    "plt.show()"
   ]
  },
  {
   "cell_type": "markdown",
   "id": "263a3667",
   "metadata": {},
   "source": [
    "Perform multiple regression using multiple features."
   ]
  },
  {
   "cell_type": "code",
   "execution_count": null,
   "id": "e86fbacd",
   "metadata": {},
   "outputs": [],
   "source": [
    "X_multiple = house_df[['feature1', 'feature2', 'feature3']]\n",
    "model_multiple = sm.OLS(y, X_multiple).fit()"
   ]
  }
 ],
 "metadata": {
  "kernelspec": {
   "display_name": "Python 3",
   "language": "python",
   "name": "python3"
  },
  "language_info": {
   "codemirror_mode": {
    "name": "ipython",
    "version": 3
   },
   "file_extension": ".py",
   "mimetype": "text/x-python",
   "name": "python",
   "nbconvert_exporter": "python",
   "pygments_lexer": "ipython3",
   "version": "3.8.5"
  }
 },
 "nbformat": 4,
 "nbformat_minor": 5
}
