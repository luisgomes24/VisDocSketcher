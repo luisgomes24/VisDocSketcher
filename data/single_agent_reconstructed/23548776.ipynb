{
 "cells": [
  {
   "cell_type": "markdown",
   "id": "19d5e897",
   "metadata": {},
   "source": [
    "Load the training data from a CSV file using pandas."
   ]
  },
  {
   "cell_type": "code",
   "execution_count": null,
   "id": "555a3877",
   "metadata": {},
   "outputs": [],
   "source": [
    "data = pd.read_csv('train.csv')"
   ]
  },
  {
   "cell_type": "markdown",
   "id": "f09440b3",
   "metadata": {},
   "source": [
    "Explore the dataset by checking its info and counting unique values."
   ]
  },
  {
   "cell_type": "code",
   "execution_count": null,
   "id": "a881bb06",
   "metadata": {},
   "outputs": [],
   "source": [
    "data.info(), data.nunique()"
   ]
  },
  {
   "cell_type": "markdown",
   "id": "810bcfdc",
   "metadata": {},
   "source": [
    "Convert the 'date' column to a datetime format."
   ]
  },
  {
   "cell_type": "code",
   "execution_count": null,
   "id": "1a34bef7",
   "metadata": {},
   "outputs": [],
   "source": [
    "data.date = pd.to_datetime(data.date)"
   ]
  },
  {
   "cell_type": "markdown",
   "id": "bad7fa19",
   "metadata": {},
   "source": [
    "Initialize the PyCaret environment for model training."
   ]
  },
  {
   "cell_type": "code",
   "execution_count": null,
   "id": "fa9b6de7",
   "metadata": {},
   "outputs": [],
   "source": [
    "from pycaret.classification import setup\n",
    "setup(data, target='target_column')"
   ]
  },
  {
   "cell_type": "markdown",
   "id": "7146c724",
   "metadata": {},
   "source": [
    "Tune a Decision Tree model to optimize for Mean Absolute Error."
   ]
  },
  {
   "cell_type": "code",
   "execution_count": null,
   "id": "c153f87e",
   "metadata": {},
   "outputs": [],
   "source": [
    "model_dt_MAE = tune_model(create_model('dt'), optimize='MAE')"
   ]
  },
  {
   "cell_type": "markdown",
   "id": "221898cb",
   "metadata": {},
   "source": [
    "Visualize the learning curve of the tuned model."
   ]
  },
  {
   "cell_type": "code",
   "execution_count": null,
   "id": "38a4b831",
   "metadata": {},
   "outputs": [],
   "source": [
    "plot_model(model_dt_MAE, plot='learning')"
   ]
  },
  {
   "cell_type": "markdown",
   "id": "bfb3fb25",
   "metadata": {},
   "source": [
    "Make predictions on the test dataset using the final model."
   ]
  },
  {
   "cell_type": "code",
   "execution_count": null,
   "id": "f5029923",
   "metadata": {},
   "outputs": [],
   "source": [
    "predictions = predict_model(final_dt, data=test)"
   ]
  },
  {
   "cell_type": "markdown",
   "id": "fe28e88e",
   "metadata": {},
   "source": [
    "Prepare the submission file by saving predictions to a CSV."
   ]
  },
  {
   "cell_type": "code",
   "execution_count": null,
   "id": "0dbf66ab",
   "metadata": {},
   "outputs": [],
   "source": [
    "sol.to_csv('./submission.csv', index=False)"
   ]
  },
  {
   "cell_type": "markdown",
   "id": "55ea7f00",
   "metadata": {},
   "source": [
    "Save the tuned model to a specified file path."
   ]
  },
  {
   "cell_type": "code",
   "execution_count": null,
   "id": "068e45c3",
   "metadata": {},
   "outputs": [],
   "source": [
    "save_model(model_dt_MAE, './model_dt_MAE')"
   ]
  }
 ],
 "metadata": {
  "kernelspec": {
   "display_name": "Python 3",
   "language": "python",
   "name": "python3"
  },
  "language_info": {
   "codemirror_mode": {
    "name": "ipython",
    "version": 3
   },
   "file_extension": ".py",
   "mimetype": "text/x-python",
   "name": "python",
   "nbconvert_exporter": "python",
   "pygments_lexer": "ipython3",
   "version": "3.8.5"
  }
 },
 "nbformat": 4,
 "nbformat_minor": 5
}
