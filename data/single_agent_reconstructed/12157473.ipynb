{
 "cells": [
  {
   "cell_type": "markdown",
   "id": "7eae5358",
   "metadata": {},
   "source": [
    "Load data from the API using the provided URL and return the JSON response."
   ]
  },
  {
   "cell_type": "code",
   "execution_count": null,
   "id": "a34613d3",
   "metadata": {},
   "outputs": [],
   "source": [
    "import requests\n",
    "\n",
    "def load_data_from_api(url):\n",
    "    response = requests.get(url)\n",
    "    return response.json()"
   ]
  },
  {
   "cell_type": "markdown",
   "id": "b8535e7e",
   "metadata": {},
   "source": [
    "Extract Pokémon names and URLs from the loaded data."
   ]
  },
  {
   "cell_type": "code",
   "execution_count": null,
   "id": "a8347435",
   "metadata": {},
   "outputs": [],
   "source": [
    "def extract_pokemon_names_and_urls(data):\n",
    "    return [(pokemon['name'], pokemon['url']) for pokemon in data]"
   ]
  },
  {
   "cell_type": "markdown",
   "id": "2e5f8635",
   "metadata": {},
   "source": [
    "Fetch detailed information for each Pokémon by iterating over names and URLs."
   ]
  },
  {
   "cell_type": "code",
   "execution_count": null,
   "id": "bbe56996",
   "metadata": {},
   "outputs": [],
   "source": [
    "def fetch_pokemon_details(names_urls):\n",
    "    details = []\n",
    "    for name, url in names_urls:\n",
    "        response = requests.get(url)\n",
    "        details.append(response.json())\n",
    "    return details"
   ]
  },
  {
   "cell_type": "markdown",
   "id": "ddd27d83",
   "metadata": {},
   "source": [
    "Clean and preprocess the data by removing unnecessary columns and organizing it."
   ]
  },
  {
   "cell_type": "code",
   "execution_count": null,
   "id": "42e96242",
   "metadata": {},
   "outputs": [],
   "source": [
    "import pandas as pd\n",
    "\n",
    "def clean_and_preprocess_data(details):\n",
    "    df = pd.DataFrame(details)\n",
    "    df.drop(columns=[...'unwanted_columns'], inplace=True)\n",
    "    return df"
   ]
  },
  {
   "cell_type": "markdown",
   "id": "1d3590f0",
   "metadata": {},
   "source": [
    "Perform preliminary exploratory data analysis with various plots."
   ]
  },
  {
   "cell_type": "code",
   "execution_count": null,
   "id": "a5ec3e4e",
   "metadata": {},
   "outputs": [],
   "source": [
    "def exploratory_data_analysis(df):\n",
    "    # Type vs Power\n",
    "    df.boxplot(column='power', by='type')\n",
    "    plt.show()\n",
    "    \n",
    "    # Attributes Distribution\n",
    "    df[['attribute1', 'attribute2']].hist()\n",
    "    plt.show()\n",
    "    \n",
    "    # Base Total Distribution\n",
    "    df['base_total'].hist()\n",
    "    plt.show()\n",
    "    \n",
    "    # Weight vs Height\n",
    "    df.plot.scatter(x='height', y='weight')\n",
    "    plt.show()"
   ]
  },
  {
   "cell_type": "markdown",
   "id": "e354ea69",
   "metadata": {},
   "source": [
    "Save the processed DataFrame to a CSV file."
   ]
  },
  {
   "cell_type": "code",
   "execution_count": null,
   "id": "7a34bdf9",
   "metadata": {},
   "outputs": [],
   "source": [
    "def download_processed_dataset(df, filename='pokemon.csv'):\n",
    "    df.to_csv(filename, index=False)"
   ]
  }
 ],
 "metadata": {
  "kernelspec": {
   "display_name": "Python 3",
   "language": "python",
   "name": "python3"
  },
  "language_info": {
   "codemirror_mode": {
    "name": "ipython",
    "version": 3
   },
   "file_extension": ".py",
   "mimetype": "text/x-python",
   "name": "python",
   "nbconvert_exporter": "python",
   "pygments_lexer": "ipython3",
   "version": "3.8.5"
  }
 },
 "nbformat": 4,
 "nbformat_minor": 5
}
