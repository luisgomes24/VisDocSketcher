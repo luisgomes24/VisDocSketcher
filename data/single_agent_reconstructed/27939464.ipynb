{
 "cells": [
  {
   "cell_type": "markdown",
   "id": "7c4f2d72",
   "metadata": {},
   "source": [
    "Load KHI, IHI, and MHI data from CSV files."
   ]
  },
  {
   "cell_type": "code",
   "execution_count": null,
   "id": "19fce423",
   "metadata": {},
   "outputs": [],
   "source": [
    "import pandas as pd\n",
    "\n",
    "khi_data = pd.read_csv('khi_data.csv')\n",
    "ihi_data = pd.read_csv('ihi_data.csv')\n",
    "mhi_data = pd.read_csv('mhi_data.csv')"
   ]
  },
  {
   "cell_type": "markdown",
   "id": "db7cf47c",
   "metadata": {},
   "source": [
    "Check data info for KHI, IHI, and MHI datasets."
   ]
  },
  {
   "cell_type": "code",
   "execution_count": null,
   "id": "1f460ee4",
   "metadata": {},
   "outputs": [],
   "source": [
    "print(khi_data.info())\n",
    "print(ihi_data.info())\n",
    "print(mhi_data.info())"
   ]
  },
  {
   "cell_type": "markdown",
   "id": "edbee595",
   "metadata": {},
   "source": [
    "Calculate yearly average closing prices for each dataset."
   ]
  },
  {
   "cell_type": "code",
   "execution_count": null,
   "id": "36c463bf",
   "metadata": {},
   "outputs": [],
   "source": [
    "khi_yearly_avg = khi_data.groupby('Year')['Closing Price'].mean()\n",
    "ihi_yearly_avg = ihi_data.groupby('Year')['Closing Price'].mean()\n",
    "mhi_yearly_avg = mhi_data.groupby('Year')['Closing Price'].mean()"
   ]
  },
  {
   "cell_type": "markdown",
   "id": "2f3fa850",
   "metadata": {},
   "source": [
    "Plot yearly average closing prices for KHI, IHI, and MHI."
   ]
  },
  {
   "cell_type": "code",
   "execution_count": null,
   "id": "6ebd0f7d",
   "metadata": {},
   "outputs": [],
   "source": [
    "khi_yearly_avg.plot(title='KHI Yearly Average Closing Prices')\n",
    "ihi_yearly_avg.plot(title='IHI Yearly Average Closing Prices')\n",
    "mhi_yearly_avg.plot(title='MHI Yearly Average Closing Prices')"
   ]
  },
  {
   "cell_type": "markdown",
   "id": "4b960e0d",
   "metadata": {},
   "source": [
    "Calculate monthly average closing prices for each dataset."
   ]
  },
  {
   "cell_type": "code",
   "execution_count": null,
   "id": "00c8453c",
   "metadata": {},
   "outputs": [],
   "source": [
    "khi_monthly_avg = khi_data.groupby('Month')['Closing Price'].mean()\n",
    "ihi_monthly_avg = ihi_data.groupby('Month')['Closing Price'].mean()\n",
    "mhi_monthly_avg = mhi_data.groupby('Month')['Closing Price'].mean()"
   ]
  },
  {
   "cell_type": "markdown",
   "id": "83467d71",
   "metadata": {},
   "source": [
    "Plot monthly average closing prices for KHI, IHI, and MHI."
   ]
  },
  {
   "cell_type": "code",
   "execution_count": null,
   "id": "3d3a307b",
   "metadata": {},
   "outputs": [],
   "source": [
    "khi_monthly_avg.plot(title='KHI Monthly Average Closing Prices')\n",
    "ihi_monthly_avg.plot(title='IHI Monthly Average Closing Prices')\n",
    "mhi_monthly_avg.plot(title='MHI Monthly Average Closing Prices')"
   ]
  },
  {
   "cell_type": "markdown",
   "id": "cb98d3b4",
   "metadata": {},
   "source": [
    "Extract trading volume for each dataset."
   ]
  },
  {
   "cell_type": "code",
   "execution_count": null,
   "id": "ddabb58f",
   "metadata": {},
   "outputs": [],
   "source": [
    "khi_trading_volume = khi_data['Trading Volume']\n",
    "ihi_trading_volume = ihi_data['Trading Volume']\n",
    "mhi_trading_volume = mhi_data['Trading Volume']"
   ]
  },
  {
   "cell_type": "markdown",
   "id": "49b02d19",
   "metadata": {},
   "source": [
    "Plot trading volume for KHI, IHI, and MHI."
   ]
  },
  {
   "cell_type": "code",
   "execution_count": null,
   "id": "3610ee65",
   "metadata": {},
   "outputs": [],
   "source": [
    "khi_trading_volume.plot(title='KHI Trading Volume')\n",
    "ihi_trading_volume.plot(title='IHI Trading Volume')\n",
    "mhi_trading_volume.plot(title='MHI Trading Volume')"
   ]
  },
  {
   "cell_type": "markdown",
   "id": "5b555e71",
   "metadata": {},
   "source": [
    "Calculate 30-day moving averages for each dataset."
   ]
  },
  {
   "cell_type": "code",
   "execution_count": null,
   "id": "829391e3",
   "metadata": {},
   "outputs": [],
   "source": [
    "khi_30day_ma = khi_data['Closing Price'].rolling(window=30).mean()\n",
    "ihi_30day_ma = ihi_data['Closing Price'].rolling(window=30).mean()\n",
    "mhi_30day_ma = mhi_data['Closing Price'].rolling(window=30).mean()"
   ]
  },
  {
   "cell_type": "markdown",
   "id": "b94bbe57",
   "metadata": {},
   "source": [
    "Plot 30-day moving averages for KHI, IHI, and MHI."
   ]
  },
  {
   "cell_type": "code",
   "execution_count": null,
   "id": "79f9be05",
   "metadata": {},
   "outputs": [],
   "source": [
    "khi_30day_ma.plot(title='KHI 30-Day Moving Averages')\n",
    "ihi_30day_ma.plot(title='IHI 30-Day Moving Averages')\n",
    "mhi_30day_ma.plot(title='MHI 30-Day Moving Averages')"
   ]
  },
  {
   "cell_type": "markdown",
   "id": "8c720643",
   "metadata": {},
   "source": [
    "Print conclusion of the analysis."
   ]
  },
  {
   "cell_type": "code",
   "execution_count": null,
   "id": "4fc18c3a",
   "metadata": {},
   "outputs": [],
   "source": [
    "conclusion = 'Analysis completed for KHI, IHI, and MHI data.'\n",
    "print(conclusion)"
   ]
  }
 ],
 "metadata": {
  "kernelspec": {
   "display_name": "Python 3",
   "language": "python",
   "name": "python3"
  },
  "language_info": {
   "codemirror_mode": {
    "name": "ipython",
    "version": 3
   },
   "file_extension": ".py",
   "mimetype": "text/x-python",
   "name": "python",
   "nbconvert_exporter": "python",
   "pygments_lexer": "ipython3",
   "version": "3.8.5"
  }
 },
 "nbformat": 4,
 "nbformat_minor": 5
}
