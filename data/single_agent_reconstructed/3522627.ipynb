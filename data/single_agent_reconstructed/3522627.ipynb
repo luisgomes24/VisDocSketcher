{
 "cells": [
  {
   "cell_type": "markdown",
   "id": "b4f26297",
   "metadata": {},
   "source": [
    "Load data from a CSV file into a DataFrame."
   ]
  },
  {
   "cell_type": "code",
   "execution_count": null,
   "id": "b13786e4",
   "metadata": {},
   "outputs": [],
   "source": [
    "import pandas as pd\n",
    "\n",
    "# Load data from a CSV file\n",
    "data = pd.read_csv('data.csv')"
   ]
  },
  {
   "cell_type": "markdown",
   "id": "d91f2698",
   "metadata": {},
   "source": [
    "Create a DataFrame from the loaded data."
   ]
  },
  {
   "cell_type": "code",
   "execution_count": null,
   "id": "d9f30de7",
   "metadata": {},
   "outputs": [],
   "source": [
    "df = pd.DataFrame(data)"
   ]
  },
  {
   "cell_type": "markdown",
   "id": "bd1a5e3d",
   "metadata": {},
   "source": [
    "Generate a bar plot showing total cases for each state."
   ]
  },
  {
   "cell_type": "code",
   "execution_count": null,
   "id": "0430b5ec",
   "metadata": {},
   "outputs": [],
   "source": [
    "import matplotlib.pyplot as plt\n",
    "\n",
    "# Barplot total cases by state\n",
    "plt.bar(df['State'], df['Total Cases'])\n",
    "plt.title('Total Cases by State')\n",
    "plt.show()"
   ]
  },
  {
   "cell_type": "markdown",
   "id": "1f5632e3",
   "metadata": {},
   "source": [
    "Create a categorical plot for total cases by year."
   ]
  },
  {
   "cell_type": "code",
   "execution_count": null,
   "id": "2fab909d",
   "metadata": {},
   "outputs": [],
   "source": [
    "# Catplot total cases by year\n",
    "import seaborn as sns\n",
    "sns.catplot(x='Year', y='Total Cases', data=df)\n",
    "plt.title('Total Cases by Year')\n",
    "plt.show()"
   ]
  },
  {
   "cell_type": "markdown",
   "id": "f630369c",
   "metadata": {},
   "source": [
    "Plot total cases by state for the years 2001 to 2010."
   ]
  },
  {
   "cell_type": "code",
   "execution_count": null,
   "id": "95832aab",
   "metadata": {},
   "outputs": [],
   "source": [
    "# Barplot total cases by state from 2001 to 2010\n",
    "filtered_df = df[(df['Year'] >= 2001) & (df['Year'] <= 2010)]\n",
    "plt.bar(filtered_df['State'], filtered_df['Total Cases'])\n",
    "plt.title('Total Cases by State (2001-2010)')\n",
    "plt.show()"
   ]
  },
  {
   "cell_type": "markdown",
   "id": "7460af99",
   "metadata": {},
   "source": [
    "Filter the DataFrame to get data only for Delhi."
   ]
  },
  {
   "cell_type": "code",
   "execution_count": null,
   "id": "b54f68e1",
   "metadata": {},
   "outputs": [],
   "source": [
    "delhi_data = df[df['State'] == 'Delhi']"
   ]
  },
  {
   "cell_type": "markdown",
   "id": "c03ee063",
   "metadata": {},
   "source": [
    "Create a bar plot for total cases specifically in Delhi."
   ]
  },
  {
   "cell_type": "code",
   "execution_count": null,
   "id": "cc347727",
   "metadata": {},
   "outputs": [],
   "source": [
    "plt.bar(delhi_data['Category'], delhi_data['Total Cases'])\n",
    "plt.title('Total Cases in Delhi')\n",
    "plt.show()"
   ]
  },
  {
   "cell_type": "markdown",
   "id": "1023d535",
   "metadata": {},
   "source": [
    "Visualize total cases by subgroup within Delhi."
   ]
  },
  {
   "cell_type": "code",
   "execution_count": null,
   "id": "e9c923bc",
   "metadata": {},
   "outputs": [],
   "source": [
    "plt.bar(delhi_data['Subgroup'], delhi_data['Total Cases'])\n",
    "plt.title('Cases by Subgroup in Delhi')\n",
    "plt.show()"
   ]
  }
 ],
 "metadata": {
  "kernelspec": {
   "display_name": "Python 3",
   "language": "python",
   "name": "python3"
  },
  "language_info": {
   "codemirror_mode": {
    "name": "ipython",
    "version": 3
   },
   "file_extension": ".py",
   "mimetype": "text/x-python",
   "name": "python",
   "nbconvert_exporter": "python",
   "pygments_lexer": "ipython3",
   "version": "3.8.5"
  }
 },
 "nbformat": 4,
 "nbformat_minor": 5
}
