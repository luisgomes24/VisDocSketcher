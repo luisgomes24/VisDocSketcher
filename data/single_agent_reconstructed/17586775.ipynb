{
 "cells": [
  {
   "cell_type": "markdown",
   "id": "88dbaeec",
   "metadata": {},
   "source": [
    "Load the dataset from a CSV file."
   ]
  },
  {
   "cell_type": "code",
   "execution_count": null,
   "id": "f6cfc31b",
   "metadata": {},
   "outputs": [],
   "source": [
    "import pandas as pd\n",
    "\n",
    "data = pd.read_csv('data.csv')"
   ]
  },
  {
   "cell_type": "markdown",
   "id": "7efb8556",
   "metadata": {},
   "source": [
    "Preprocess the data by normalizing image pixel values."
   ]
  },
  {
   "cell_type": "code",
   "execution_count": null,
   "id": "18c28c65",
   "metadata": {},
   "outputs": [],
   "source": [
    "from keras.preprocessing.image import ImageDataGenerator\n",
    "\n",
    "datagen = ImageDataGenerator(rescale=1./255)"
   ]
  },
  {
   "cell_type": "markdown",
   "id": "d7327d4d",
   "metadata": {},
   "source": [
    "Load images using the ImageDataGenerator."
   ]
  },
  {
   "cell_type": "code",
   "execution_count": null,
   "id": "fd38f102",
   "metadata": {},
   "outputs": [],
   "source": [
    "images = datagen.flow_from_directory('images/', target_size=(150, 150), batch_size=32, class_mode='binary')"
   ]
  },
  {
   "cell_type": "markdown",
   "id": "96b13377",
   "metadata": {},
   "source": [
    "Split the data into training and testing sets."
   ]
  },
  {
   "cell_type": "code",
   "execution_count": null,
   "id": "de59ae63",
   "metadata": {},
   "outputs": [],
   "source": [
    "from sklearn.model_selection import train_test_split\n",
    "\n",
    "train_images, test_images = train_test_split(images, test_size=0.2)"
   ]
  },
  {
   "cell_type": "markdown",
   "id": "d481d159",
   "metadata": {},
   "source": [
    "Visualize a sample image from the training set."
   ]
  },
  {
   "cell_type": "code",
   "execution_count": null,
   "id": "fc208cca",
   "metadata": {},
   "outputs": [],
   "source": [
    "import matplotlib.pyplot as plt\n",
    "\n",
    "plt.imshow(next(train_images)[0][0])\n",
    "plt.show()"
   ]
  },
  {
   "cell_type": "markdown",
   "id": "5aa1662a",
   "metadata": {},
   "source": [
    "Build the CNN model architecture."
   ]
  },
  {
   "cell_type": "code",
   "execution_count": null,
   "id": "c197e1d3",
   "metadata": {},
   "outputs": [],
   "source": [
    "from keras.models import Sequential\n",
    "from keras.layers import Conv2D, MaxPooling2D, Flatten, Dense\n",
    "\n",
    "model = Sequential()\n",
    "model.add(Conv2D(32, (3, 3), activation='relu', input_shape=(150, 150, 3)))\n",
    "model.add(MaxPooling2D(pool_size=(2, 2)))\n",
    "model.add(Flatten())\n",
    "model.add(Dense(1, activation='sigmoid'))"
   ]
  },
  {
   "cell_type": "markdown",
   "id": "39a4a948",
   "metadata": {},
   "source": [
    "Compile the model with an optimizer and loss function."
   ]
  },
  {
   "cell_type": "code",
   "execution_count": null,
   "id": "3ca247f8",
   "metadata": {},
   "outputs": [],
   "source": [
    "model.compile(optimizer='adam', loss='binary_crossentropy', metrics=['accuracy'])"
   ]
  },
  {
   "cell_type": "markdown",
   "id": "70b81473",
   "metadata": {},
   "source": [
    "Train the model using the training data."
   ]
  },
  {
   "cell_type": "code",
   "execution_count": null,
   "id": "c6817586",
   "metadata": {},
   "outputs": [],
   "source": [
    "model.fit(train_images, epochs=10, validation_data=test_images)"
   ]
  },
  {
   "cell_type": "markdown",
   "id": "17f0ec80",
   "metadata": {},
   "source": [
    "Evaluate the model performance on the test set."
   ]
  },
  {
   "cell_type": "code",
   "execution_count": null,
   "id": "2fa405b7",
   "metadata": {},
   "outputs": [],
   "source": [
    "loss, accuracy = model.evaluate(test_images)"
   ]
  },
  {
   "cell_type": "markdown",
   "id": "cf0b12b9",
   "metadata": {},
   "source": [
    "Set up transfer learning with VGG16 as the base model."
   ]
  },
  {
   "cell_type": "code",
   "execution_count": null,
   "id": "8121070f",
   "metadata": {},
   "outputs": [],
   "source": [
    "from keras.applications import VGG16\n",
    "base_model = VGG16(weights='imagenet', include_top=False, input_shape=(150, 150, 3))"
   ]
  },
  {
   "cell_type": "markdown",
   "id": "38010603",
   "metadata": {},
   "source": [
    "Freeze the base model layers and add your own layers."
   ]
  },
  {
   "cell_type": "code",
   "execution_count": null,
   "id": "0198e5d6",
   "metadata": {},
   "outputs": [],
   "source": [
    "for layer in base_model.layers:\n",
    "    layer.trainable = False\n",
    "\n",
    "model.add(base_model)\n",
    "model.add(Flatten())\n",
    "model.add(Dense(1, activation='sigmoid'))"
   ]
  }
 ],
 "metadata": {
  "kernelspec": {
   "display_name": "Python 3",
   "language": "python",
   "name": "python3"
  },
  "language_info": {
   "codemirror_mode": {
    "name": "ipython",
    "version": 3
   },
   "file_extension": ".py",
   "mimetype": "text/x-python",
   "name": "python",
   "nbconvert_exporter": "python",
   "pygments_lexer": "ipython3",
   "version": "3.8.5"
  }
 },
 "nbformat": 4,
 "nbformat_minor": 5
}
