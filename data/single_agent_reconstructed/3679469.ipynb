{
 "cells": [
  {
   "cell_type": "markdown",
   "id": "c7a3296c",
   "metadata": {},
   "source": [
    "Load the dataset from a CSV file."
   ]
  },
  {
   "cell_type": "code",
   "execution_count": null,
   "id": "06b0f30f",
   "metadata": {},
   "outputs": [],
   "source": [
    "import pandas as pd\n",
    "df = pd.read_csv('../input/train.csv')"
   ]
  },
  {
   "cell_type": "markdown",
   "id": "5dde0b68",
   "metadata": {},
   "source": [
    "Preview the first few rows of the dataset."
   ]
  },
  {
   "cell_type": "code",
   "execution_count": null,
   "id": "c667d324",
   "metadata": {},
   "outputs": [],
   "source": [
    "df.head()"
   ]
  },
  {
   "cell_type": "markdown",
   "id": "c13dbae2",
   "metadata": {},
   "source": [
    "Handle missing values and encode categorical features."
   ]
  },
  {
   "cell_type": "code",
   "execution_count": null,
   "id": "5978a2ba",
   "metadata": {},
   "outputs": [],
   "source": [
    "df.fillna(method='ffill', inplace=True)\n",
    "df = pd.get_dummies(df)"
   ]
  },
  {
   "cell_type": "markdown",
   "id": "a3f67e8d",
   "metadata": {},
   "source": [
    "Split the dataset into training and test sets."
   ]
  },
  {
   "cell_type": "code",
   "execution_count": null,
   "id": "0ff13b9f",
   "metadata": {},
   "outputs": [],
   "source": [
    "train, test = df[:700], df[700:]"
   ]
  },
  {
   "cell_type": "markdown",
   "id": "156cdc46",
   "metadata": {},
   "source": [
    "Prepare the training and test data for Keras."
   ]
  },
  {
   "cell_type": "code",
   "execution_count": null,
   "id": "19888cb1",
   "metadata": {},
   "outputs": [],
   "source": [
    "def prepare_data(data):\n",
    "    # Function to preprocess data for Keras\n",
    "    return data\n",
    "train_keras, test_keras = prepare_data(train), prepare_data(test)"
   ]
  },
  {
   "cell_type": "markdown",
   "id": "75dc5dd0",
   "metadata": {},
   "source": [
    "Create a sequential model and add layers."
   ]
  },
  {
   "cell_type": "code",
   "execution_count": null,
   "id": "732d063d",
   "metadata": {},
   "outputs": [],
   "source": [
    "from keras.models import Sequential\n",
    "from keras.layers import Dense\n",
    "model = Sequential()\n",
    "model.add(Dense(32, activation='relu', input_shape=(train_keras.shape[1],)))"
   ]
  },
  {
   "cell_type": "markdown",
   "id": "e6831a6c",
   "metadata": {},
   "source": [
    "Display the summary of the model structure."
   ]
  },
  {
   "cell_type": "code",
   "execution_count": null,
   "id": "3f98d507",
   "metadata": {},
   "outputs": [],
   "source": [
    "model.summary()"
   ]
  },
  {
   "cell_type": "markdown",
   "id": "4d2a25c2",
   "metadata": {},
   "source": [
    "Compile the model with optimizer and loss function."
   ]
  },
  {
   "cell_type": "code",
   "execution_count": null,
   "id": "05e32898",
   "metadata": {},
   "outputs": [],
   "source": [
    "model.compile(optimizer='adam', loss='mean_squared_error', metrics=['accuracy'])"
   ]
  },
  {
   "cell_type": "markdown",
   "id": "aa35bc3b",
   "metadata": {},
   "source": [
    "Train the model on the training data."
   ]
  },
  {
   "cell_type": "code",
   "execution_count": null,
   "id": "d20ea450",
   "metadata": {},
   "outputs": [],
   "source": [
    "model.fit(train_keras, epochs=10, validation_data=test_keras)"
   ]
  },
  {
   "cell_type": "markdown",
   "id": "490206be",
   "metadata": {},
   "source": [
    "Generate predictions on the test data."
   ]
  },
  {
   "cell_type": "code",
   "execution_count": null,
   "id": "58a71bcc",
   "metadata": {},
   "outputs": [],
   "source": [
    "predictions = model.predict(test_keras)"
   ]
  },
  {
   "cell_type": "markdown",
   "id": "4879dbd2",
   "metadata": {},
   "source": [
    "Evaluate the model using mean squared error and accuracy."
   ]
  },
  {
   "cell_type": "code",
   "execution_count": null,
   "id": "d9a96c42",
   "metadata": {},
   "outputs": [],
   "source": [
    "from sklearn.metrics import mean_squared_error, accuracy_score\n",
    "mse = mean_squared_error(test_y, predictions)\n",
    "acc = accuracy_score(test_y, predictions)"
   ]
  },
  {
   "cell_type": "markdown",
   "id": "07142a1c",
   "metadata": {},
   "source": [
    "Save the model weights for later use."
   ]
  },
  {
   "cell_type": "code",
   "execution_count": null,
   "id": "6d578e88",
   "metadata": {},
   "outputs": [],
   "source": [
    "model.save_weights('model_weights.h5')"
   ]
  },
  {
   "cell_type": "markdown",
   "id": "afc4e2b1",
   "metadata": {},
   "source": [
    "Reload the saved model weights."
   ]
  },
  {
   "cell_type": "code",
   "execution_count": null,
   "id": "896753ac",
   "metadata": {},
   "outputs": [],
   "source": [
    "model.load_weights('model_weights.h5')"
   ]
  },
  {
   "cell_type": "markdown",
   "id": "1170a922",
   "metadata": {},
   "source": [
    "Predict test data again after reloading weights."
   ]
  },
  {
   "cell_type": "code",
   "execution_count": null,
   "id": "70eaf509",
   "metadata": {},
   "outputs": [],
   "source": [
    "predictions_again = model.predict(test_keras)"
   ]
  },
  {
   "cell_type": "markdown",
   "id": "6518a50e",
   "metadata": {},
   "source": [
    "Re-evaluate the model with new predictions."
   ]
  },
  {
   "cell_type": "code",
   "execution_count": null,
   "id": "b8b574a4",
   "metadata": {},
   "outputs": [],
   "source": [
    "mse_again = mean_squared_error(test_y, predictions_again)\n",
    "acc_again = accuracy_score(test_y, predictions_again)"
   ]
  }
 ],
 "metadata": {
  "kernelspec": {
   "display_name": "Python 3",
   "language": "python",
   "name": "python3"
  },
  "language_info": {
   "codemirror_mode": {
    "name": "ipython",
    "version": 3
   },
   "file_extension": ".py",
   "mimetype": "text/x-python",
   "name": "python",
   "nbconvert_exporter": "python",
   "pygments_lexer": "ipython3",
   "version": "3.8.5"
  }
 },
 "nbformat": 4,
 "nbformat_minor": 5
}
