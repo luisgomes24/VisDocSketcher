{
 "cells": [
  {
   "cell_type": "markdown",
   "id": "3beff8cd",
   "metadata": {},
   "source": [
    "Load the dataset from a CSV file into a Pandas DataFrame."
   ]
  },
  {
   "cell_type": "code",
   "execution_count": null,
   "id": "38d0677d",
   "metadata": {},
   "outputs": [],
   "source": [
    "import pandas as pd\n",
    "data = pd.read_csv('data.csv')"
   ]
  },
  {
   "cell_type": "markdown",
   "id": "cd36dc6d",
   "metadata": {},
   "source": [
    "Preprocess the data by handling missing values and encoding categorical variables."
   ]
  },
  {
   "cell_type": "code",
   "execution_count": null,
   "id": "e9adccc8",
   "metadata": {},
   "outputs": [],
   "source": [
    "data.dropna(inplace=True)\n",
    "data = pd.get_dummies(data)"
   ]
  },
  {
   "cell_type": "markdown",
   "id": "154ace65",
   "metadata": {},
   "source": [
    "Provide an overview of the dataset, including statistical summaries."
   ]
  },
  {
   "cell_type": "code",
   "execution_count": null,
   "id": "64c7f4fa",
   "metadata": {},
   "outputs": [],
   "source": [
    "print(data.describe())"
   ]
  },
  {
   "cell_type": "markdown",
   "id": "e7adbca9",
   "metadata": {},
   "source": [
    "Perform correlation analysis and visualize it using a heatmap."
   ]
  },
  {
   "cell_type": "code",
   "execution_count": null,
   "id": "5615499d",
   "metadata": {},
   "outputs": [],
   "source": [
    "import seaborn as sns\n",
    "import matplotlib.pyplot as plt\n",
    "sns.heatmap(data.corr())\n",
    "plt.show()"
   ]
  },
  {
   "cell_type": "markdown",
   "id": "1fbdced5",
   "metadata": {},
   "source": [
    "Visualize the relationship between CO2 and Volume using a pairplot."
   ]
  },
  {
   "cell_type": "code",
   "execution_count": null,
   "id": "15642b1f",
   "metadata": {},
   "outputs": [],
   "source": [
    "sns.pairplot(data, x_vars=['Volume'], y_vars=['CO2'])\n",
    "plt.show()"
   ]
  },
  {
   "cell_type": "markdown",
   "id": "d0349943",
   "metadata": {},
   "source": [
    "Visualize the relationship between CO2 and Weight using a pairplot."
   ]
  },
  {
   "cell_type": "code",
   "execution_count": null,
   "id": "33c72f34",
   "metadata": {},
   "outputs": [],
   "source": [
    "sns.pairplot(data, x_vars=['Weight'], y_vars=['CO2'])\n",
    "plt.show()"
   ]
  },
  {
   "cell_type": "markdown",
   "id": "5466a464",
   "metadata": {},
   "source": [
    "Select features and target variable for the model."
   ]
  },
  {
   "cell_type": "code",
   "execution_count": null,
   "id": "a8266be4",
   "metadata": {},
   "outputs": [],
   "source": [
    "features = data[['Volume', 'Weight']]\n",
    "target = data['CO2']"
   ]
  },
  {
   "cell_type": "markdown",
   "id": "ba7ff769",
   "metadata": {},
   "source": [
    "Split the data into training and testing sets."
   ]
  },
  {
   "cell_type": "code",
   "execution_count": null,
   "id": "dc9bd963",
   "metadata": {},
   "outputs": [],
   "source": [
    "from sklearn.model_selection import train_test_split\n",
    "X_train, X_test, y_train, y_test = train_test_split(features, target, test_size=0.2, random_state=42)"
   ]
  },
  {
   "cell_type": "markdown",
   "id": "d997c535",
   "metadata": {},
   "source": [
    "Train a linear regression model using the training data."
   ]
  },
  {
   "cell_type": "code",
   "execution_count": null,
   "id": "bd11abb0",
   "metadata": {},
   "outputs": [],
   "source": [
    "from sklearn.linear_model import LinearRegression\n",
    "model = LinearRegression()\n",
    "model.fit(X_train, y_train)"
   ]
  },
  {
   "cell_type": "markdown",
   "id": "c066adcf",
   "metadata": {},
   "source": [
    "Make predictions on the test set using the trained model."
   ]
  },
  {
   "cell_type": "code",
   "execution_count": null,
   "id": "ce29a118",
   "metadata": {},
   "outputs": [],
   "source": [
    "y_pred = model.predict(X_test)"
   ]
  },
  {
   "cell_type": "markdown",
   "id": "0607dc3a",
   "metadata": {},
   "source": [
    "Save the actual and predicted values to a CSV file for output."
   ]
  },
  {
   "cell_type": "code",
   "execution_count": null,
   "id": "9f491539",
   "metadata": {},
   "outputs": [],
   "source": [
    "output = pd.DataFrame({'Actual': y_test, 'Predicted': y_pred})\n",
    "output.to_csv('predictions.csv', index=False)"
   ]
  }
 ],
 "metadata": {
  "kernelspec": {
   "display_name": "Python 3",
   "language": "python",
   "name": "python3"
  },
  "language_info": {
   "codemirror_mode": {
    "name": "ipython",
    "version": 3
   },
   "file_extension": ".py",
   "mimetype": "text/x-python",
   "name": "python",
   "nbconvert_exporter": "python",
   "pygments_lexer": "ipython3",
   "version": "3.8.5"
  }
 },
 "nbformat": 4,
 "nbformat_minor": 5
}
