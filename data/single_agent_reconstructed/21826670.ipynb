{
 "cells": [
  {
   "cell_type": "markdown",
   "id": "6f78f730",
   "metadata": {},
   "source": [
    "Import the dataset using pandas to read CSV files."
   ]
  },
  {
   "cell_type": "code",
   "execution_count": null,
   "id": "1c83f7f5",
   "metadata": {},
   "outputs": [],
   "source": [
    "import pandas as pd\n",
    "\n",
    "datasets = pd.read_csv('data.csv')"
   ]
  },
  {
   "cell_type": "markdown",
   "id": "62dde722",
   "metadata": {},
   "source": [
    "Preprocess the data by handling missing values and splitting into features and target."
   ]
  },
  {
   "cell_type": "code",
   "execution_count": null,
   "id": "09858945",
   "metadata": {},
   "outputs": [],
   "source": [
    "datasets.dropna(inplace=True)\n",
    "X = datasets[['feature1', 'feature2']]\n",
    "y = datasets['target']"
   ]
  },
  {
   "cell_type": "markdown",
   "id": "bdd91b85",
   "metadata": {},
   "source": [
    "Visualize the distribution of a feature using a histogram."
   ]
  },
  {
   "cell_type": "code",
   "execution_count": null,
   "id": "448aa4e9",
   "metadata": {},
   "outputs": [],
   "source": [
    "import matplotlib.pyplot as plt\n",
    "\n",
    "plt.hist(X['feature1'])\n",
    "plt.show()"
   ]
  },
  {
   "cell_type": "markdown",
   "id": "e93d3461",
   "metadata": {},
   "source": [
    "Split the data into training and testing sets."
   ]
  },
  {
   "cell_type": "code",
   "execution_count": null,
   "id": "88d48ecb",
   "metadata": {},
   "outputs": [],
   "source": [
    "from sklearn.model_selection import train_test_split\n",
    "X_train, X_test, y_train, y_test = train_test_split(X, y, test_size=0.2)"
   ]
  },
  {
   "cell_type": "markdown",
   "id": "11dd0901",
   "metadata": {},
   "source": [
    "Develop the model using a Random Forest classifier."
   ]
  },
  {
   "cell_type": "code",
   "execution_count": null,
   "id": "bcfbe8ac",
   "metadata": {},
   "outputs": [],
   "source": [
    "from sklearn.ensemble import RandomForestClassifier\n",
    "model = RandomForestClassifier()\n",
    "model.fit(X_train, y_train)"
   ]
  },
  {
   "cell_type": "markdown",
   "id": "5ed0270a",
   "metadata": {},
   "source": [
    "Tune hyperparameters using Grid Search with cross-validation."
   ]
  },
  {
   "cell_type": "code",
   "execution_count": null,
   "id": "d127b579",
   "metadata": {},
   "outputs": [],
   "source": [
    "from sklearn.model_selection import GridSearchCV\n",
    "param_grid = {'n_estimators': [100, 200], 'max_depth': [None, 10]}\n",
    "grid_search = GridSearchCV(model, param_grid, cv=5)\n",
    "grid_search.fit(X_train, y_train)"
   ]
  },
  {
   "cell_type": "markdown",
   "id": "92426131",
   "metadata": {},
   "source": [
    "Retrieve the best model from the grid search."
   ]
  },
  {
   "cell_type": "code",
   "execution_count": null,
   "id": "7e5afbdc",
   "metadata": {},
   "outputs": [],
   "source": [
    "best_model = grid_search.best_estimator_"
   ]
  },
  {
   "cell_type": "markdown",
   "id": "831a7c78",
   "metadata": {},
   "source": [
    "Train the best model with the optimal hyperparameters."
   ]
  },
  {
   "cell_type": "code",
   "execution_count": null,
   "id": "41e98ec6",
   "metadata": {},
   "outputs": [],
   "source": [
    "best_model.fit(X_train, y_train)"
   ]
  },
  {
   "cell_type": "markdown",
   "id": "9bae7191",
   "metadata": {},
   "source": [
    "Make predictions and save the trained model for submission."
   ]
  },
  {
   "cell_type": "code",
   "execution_count": null,
   "id": "e7f7bd37",
   "metadata": {},
   "outputs": [],
   "source": [
    "predictions = best_model.predict(X_test)\n",
    "import joblib\n",
    "joblib.dump(best_model, 'model.pkl')"
   ]
  }
 ],
 "metadata": {
  "kernelspec": {
   "display_name": "Python 3",
   "language": "python",
   "name": "python3"
  },
  "language_info": {
   "codemirror_mode": {
    "name": "ipython",
    "version": 3
   },
   "file_extension": ".py",
   "mimetype": "text/x-python",
   "name": "python",
   "nbconvert_exporter": "python",
   "pygments_lexer": "ipython3",
   "version": "3.8.5"
  }
 },
 "nbformat": 4,
 "nbformat_minor": 5
}
