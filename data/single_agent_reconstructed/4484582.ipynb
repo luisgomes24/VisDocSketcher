{
 "cells": [
  {
   "cell_type": "markdown",
   "id": "11778b65",
   "metadata": {},
   "source": [
    "Load necessary libraries for data handling and image processing."
   ]
  },
  {
   "cell_type": "code",
   "execution_count": null,
   "id": "23ad5630",
   "metadata": {},
   "outputs": [],
   "source": [
    "# Load Libraries\n",
    "import pandas as pd\n",
    "import pydicom\n",
    "import matplotlib.pyplot as plt"
   ]
  },
  {
   "cell_type": "markdown",
   "id": "bab9b33c",
   "metadata": {},
   "source": [
    "Read the CSV file containing metadata and annotations."
   ]
  },
  {
   "cell_type": "code",
   "execution_count": null,
   "id": "c8e95b10",
   "metadata": {},
   "outputs": [],
   "source": [
    "# Read CSV Data\n",
    "data = pd.read_csv('data.csv')"
   ]
  },
  {
   "cell_type": "markdown",
   "id": "5e4dc36d",
   "metadata": {},
   "source": [
    "Load DICOM images using file paths from the loaded CSV data."
   ]
  },
  {
   "cell_type": "code",
   "execution_count": null,
   "id": "d9d88a9c",
   "metadata": {},
   "outputs": [],
   "source": [
    "# Load DICOM Images\n",
    "dicom_images = [pydicom.dcmread(file) for file in data['dicom_files']]"
   ]
  },
  {
   "cell_type": "markdown",
   "id": "d82f3bcb",
   "metadata": {},
   "source": [
    "Plot the first five sample images for initial visualization."
   ]
  },
  {
   "cell_type": "code",
   "execution_count": null,
   "id": "c5473559",
   "metadata": {},
   "outputs": [],
   "source": [
    "# Plot Sample Images\n",
    "for image in dicom_images[:5]:\n",
    "    plt.imshow(image.pixel_array, cmap='gray')\n",
    "    plt.axis('off')\n",
    "    plt.show()"
   ]
  },
  {
   "cell_type": "markdown",
   "id": "7affd802",
   "metadata": {},
   "source": [
    "Apply image enhancement techniques like histogram equalization."
   ]
  },
  {
   "cell_type": "code",
   "execution_count": null,
   "id": "f8de457e",
   "metadata": {},
   "outputs": [],
   "source": [
    "# Image Enhancement Techniques\n",
    "# Example: Increase contrast using histogram equalization\n",
    "from skimage import exposure\n",
    "enhanced_images = [exposure.equalize_hist(image.pixel_array) for image in dicom_images]"
   ]
  },
  {
   "cell_type": "markdown",
   "id": "1444e7e0",
   "metadata": {},
   "source": [
    "Visualize the enhanced images for comparison."
   ]
  },
  {
   "cell_type": "code",
   "execution_count": null,
   "id": "ede83596",
   "metadata": {},
   "outputs": [],
   "source": [
    "# Visualize Image Enhancements\n",
    "for image in enhanced_images[:5]:\n",
    "    plt.imshow(image, cmap='gray')\n",
    "    plt.axis('off')\n",
    "    plt.show()"
   ]
  },
  {
   "cell_type": "markdown",
   "id": "eff3e6da",
   "metadata": {},
   "source": [
    "Analyze and visualize the distribution of annotations from the CSV."
   ]
  },
  {
   "cell_type": "code",
   "execution_count": null,
   "id": "48372189",
   "metadata": {},
   "outputs": [],
   "source": [
    "# Analyze Annotations Distribution\n",
    "annotations = data['annotations']\n",
    "annotations.value_counts().plot(kind='bar')\n",
    "plt.show()"
   ]
  },
  {
   "cell_type": "markdown",
   "id": "2de91eee",
   "metadata": {},
   "source": [
    "Prepare the images for training by extracting pixel arrays."
   ]
  },
  {
   "cell_type": "code",
   "execution_count": null,
   "id": "e64a114f",
   "metadata": {},
   "outputs": [],
   "source": [
    "# Prepare Image Data\n",
    "prepared_images = []\n",
    "for image in dicom_images:\n",
    "    # Image preparation steps\n",
    "    prepared_images.append(image.pixel_array)"
   ]
  },
  {
   "cell_type": "markdown",
   "id": "ba4bab3a",
   "metadata": {},
   "source": [
    "Select 80% of the images as training data."
   ]
  },
  {
   "cell_type": "code",
   "execution_count": null,
   "id": "238fcc63",
   "metadata": {},
   "outputs": [],
   "source": [
    "# Select Training Images\n",
    "training_images = prepared_images[:int(len(prepared_images)*0.8)]"
   ]
  },
  {
   "cell_type": "markdown",
   "id": "6efb5705",
   "metadata": {},
   "source": [
    "Display the selected training images."
   ]
  },
  {
   "cell_type": "code",
   "execution_count": null,
   "id": "0fdd5958",
   "metadata": {},
   "outputs": [],
   "source": [
    "# Display Masked Images\n",
    "for image in training_images:\n",
    "    plt.imshow(image, cmap='gray')\n",
    "    plt.axis('off')\n",
    "    plt.show()"
   ]
  }
 ],
 "metadata": {
  "kernelspec": {
   "display_name": "Python 3",
   "language": "python",
   "name": "python3"
  },
  "language_info": {
   "codemirror_mode": {
    "name": "ipython",
    "version": 3
   },
   "file_extension": ".py",
   "mimetype": "text/x-python",
   "name": "python",
   "nbconvert_exporter": "python",
   "pygments_lexer": "ipython3",
   "version": "3.8.5"
  }
 },
 "nbformat": 4,
 "nbformat_minor": 5
}
