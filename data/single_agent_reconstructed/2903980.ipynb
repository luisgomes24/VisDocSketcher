{
 "cells": [
  {
   "cell_type": "markdown",
   "id": "fb6589ab",
   "metadata": {},
   "source": [
    "Load the playoff win/loss data from a CSV file."
   ]
  },
  {
   "cell_type": "code",
   "execution_count": null,
   "id": "17c30420",
   "metadata": {},
   "outputs": [],
   "source": [
    "import pandas as pd\n",
    "\n",
    "playoff_win_loss = pd.read_csv('../input/playoff_win_loss.csv')"
   ]
  },
  {
   "cell_type": "markdown",
   "id": "f72df1fa",
   "metadata": {},
   "source": [
    "Preview the first few rows of the playoff win/loss data."
   ]
  },
  {
   "cell_type": "code",
   "execution_count": null,
   "id": "337a1f2c",
   "metadata": {},
   "outputs": [],
   "source": [
    "playoff_win_loss_preview = playoff_win_loss.head()"
   ]
  },
  {
   "cell_type": "markdown",
   "id": "2979f045",
   "metadata": {},
   "source": [
    "Create and display a histogram of the playoff win/loss data."
   ]
  },
  {
   "cell_type": "code",
   "execution_count": null,
   "id": "d76abec9",
   "metadata": {},
   "outputs": [],
   "source": [
    "import matplotlib.pyplot as plt\n",
    "\n",
    "plt.hist(playoff_win_loss['column_name'], bins=10, color='orange', edgecolor='black')\n",
    "plt.title('Win/Loss Distribution')\n",
    "plt.xlabel('Value Range')\n",
    "plt.ylabel('Frequency')\n",
    "plt.show()"
   ]
  },
  {
   "cell_type": "markdown",
   "id": "2145d81b",
   "metadata": {},
   "source": [
    "Load the playoffs fractional scores data from a CSV file."
   ]
  },
  {
   "cell_type": "code",
   "execution_count": null,
   "id": "3d3391a4",
   "metadata": {},
   "outputs": [],
   "source": [
    "playoffs_frac_score = pd.read_csv('../input/playoffs_frac_score.csv')"
   ]
  },
  {
   "cell_type": "markdown",
   "id": "ad858cd5",
   "metadata": {},
   "source": [
    "Preview the first few rows of the playoffs fractional scores data."
   ]
  },
  {
   "cell_type": "code",
   "execution_count": null,
   "id": "bb80df93",
   "metadata": {},
   "outputs": [],
   "source": [
    "playoffs_frac_score_preview = playoffs_frac_score.head()"
   ]
  },
  {
   "cell_type": "markdown",
   "id": "ad4d0e59",
   "metadata": {},
   "source": [
    "Create and display a histogram of the playoffs fractional scores data."
   ]
  },
  {
   "cell_type": "code",
   "execution_count": null,
   "id": "c884eb42",
   "metadata": {},
   "outputs": [],
   "source": [
    "plt.hist(playoffs_frac_score['column_name'], bins=10, color='orange', edgecolor='black')\n",
    "plt.title('Fractional Scores Distribution')\n",
    "plt.xlabel('Value Range')\n",
    "plt.ylabel('Frequency')\n",
    "plt.show()"
   ]
  },
  {
   "cell_type": "markdown",
   "id": "cf8628ab",
   "metadata": {},
   "source": [
    "Load the general playoffs data from a CSV file."
   ]
  },
  {
   "cell_type": "code",
   "execution_count": null,
   "id": "63fe1da1",
   "metadata": {},
   "outputs": [],
   "source": [
    "playoffs_data = pd.read_csv('../input/Playoffs.csv')"
   ]
  },
  {
   "cell_type": "markdown",
   "id": "53f5c6f0",
   "metadata": {},
   "source": [
    "Preview the first few rows of the general playoffs data."
   ]
  },
  {
   "cell_type": "code",
   "execution_count": null,
   "id": "a1ca1873",
   "metadata": {},
   "outputs": [],
   "source": [
    "playoffs_data_preview = playoffs_data.head()"
   ]
  },
  {
   "cell_type": "markdown",
   "id": "957565c6",
   "metadata": {},
   "source": [
    "Create and display a histogram of the general playoffs data."
   ]
  },
  {
   "cell_type": "code",
   "execution_count": null,
   "id": "fd7f0ef1",
   "metadata": {},
   "outputs": [],
   "source": [
    "plt.hist(playoffs_data['column_name'], bins=10, color='orange', edgecolor='black')\n",
    "plt.title('General Playoffs Data Distribution')\n",
    "plt.xlabel('Value Range')\n",
    "plt.ylabel('Frequency')\n",
    "plt.show()"
   ]
  }
 ],
 "metadata": {
  "kernelspec": {
   "display_name": "Python 3",
   "language": "python",
   "name": "python3"
  },
  "language_info": {
   "codemirror_mode": {
    "name": "ipython",
    "version": 3
   },
   "file_extension": ".py",
   "mimetype": "text/x-python",
   "name": "python",
   "nbconvert_exporter": "python",
   "pygments_lexer": "ipython3",
   "version": "3.8.5"
  }
 },
 "nbformat": 4,
 "nbformat_minor": 5
}
