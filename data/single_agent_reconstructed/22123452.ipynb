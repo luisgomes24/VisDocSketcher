{
 "cells": [
  {
   "cell_type": "markdown",
   "id": "81f78133",
   "metadata": {},
   "source": [
    "Load the data from a CSV file into a pandas DataFrame."
   ]
  },
  {
   "cell_type": "code",
   "execution_count": null,
   "id": "dc88b72a",
   "metadata": {},
   "outputs": [],
   "source": [
    "import pandas as pd\n",
    "\n",
    "data = pd.read_csv('data.csv')"
   ]
  },
  {
   "cell_type": "markdown",
   "id": "f0cf995d",
   "metadata": {},
   "source": [
    "Display the first few rows of the DataFrame to understand its structure."
   ]
  },
  {
   "cell_type": "code",
   "execution_count": null,
   "id": "4857401a",
   "metadata": {},
   "outputs": [],
   "source": [
    "data.head()"
   ]
  },
  {
   "cell_type": "markdown",
   "id": "d087dac8",
   "metadata": {},
   "source": [
    "Hide the index in the DataFrame when displaying it."
   ]
  },
  {
   "cell_type": "code",
   "execution_count": null,
   "id": "5eec4690",
   "metadata": {},
   "outputs": [],
   "source": [
    "data.style.hide_index()"
   ]
  },
  {
   "cell_type": "markdown",
   "id": "df5a87ab",
   "metadata": {},
   "source": [
    "Set the column names for better readability."
   ]
  },
  {
   "cell_type": "code",
   "execution_count": null,
   "id": "1f62f973",
   "metadata": {},
   "outputs": [],
   "source": [
    "data.columns = ['District', 'Population']"
   ]
  },
  {
   "cell_type": "markdown",
   "id": "356d3cfb",
   "metadata": {},
   "source": [
    "Filter the DataFrame to include only rows with valid district names."
   ]
  },
  {
   "cell_type": "code",
   "execution_count": null,
   "id": "b86177ea",
   "metadata": {},
   "outputs": [],
   "source": [
    "filtered_data = data[data['District'].notnull()]"
   ]
  },
  {
   "cell_type": "markdown",
   "id": "ba19065c",
   "metadata": {},
   "source": [
    "Calculate the state-wise population by summing the population per state."
   ]
  },
  {
   "cell_type": "code",
   "execution_count": null,
   "id": "05aa9753",
   "metadata": {},
   "outputs": [],
   "source": [
    "state_population = filtered_data.groupby('State').sum()"
   ]
  },
  {
   "cell_type": "markdown",
   "id": "eeacfb8f",
   "metadata": {},
   "source": [
    "Calculate the population based on different religions."
   ]
  },
  {
   "cell_type": "code",
   "execution_count": null,
   "id": "0c99487a",
   "metadata": {},
   "outputs": [],
   "source": [
    "religion_population = filtered_data.groupby('Religion').sum()"
   ]
  },
  {
   "cell_type": "markdown",
   "id": "c7f7bf9e",
   "metadata": {},
   "source": [
    "Filter the DataFrame to get male workers."
   ]
  },
  {
   "cell_type": "code",
   "execution_count": null,
   "id": "ebb85869",
   "metadata": {},
   "outputs": [],
   "source": [
    "male_workers = filtered_data[filtered_data['Gender'] == 'Male']"
   ]
  },
  {
   "cell_type": "markdown",
   "id": "736cfd69",
   "metadata": {},
   "source": [
    "Set the 'District' column as the index for better organization."
   ]
  },
  {
   "cell_type": "code",
   "execution_count": null,
   "id": "8357811e",
   "metadata": {},
   "outputs": [],
   "source": [
    "male_workers.set_index('District', inplace=True)"
   ]
  },
  {
   "cell_type": "markdown",
   "id": "f3f3af2c",
   "metadata": {},
   "source": [
    "Add a suffix and a prefix to the column names for clarity."
   ]
  },
  {
   "cell_type": "code",
   "execution_count": null,
   "id": "78f32b14",
   "metadata": {},
   "outputs": [],
   "source": [
    "male_workers.add_suffix('_2023').add_prefix('M_')"
   ]
  }
 ],
 "metadata": {
  "kernelspec": {
   "display_name": "Python 3",
   "language": "python",
   "name": "python3"
  },
  "language_info": {
   "codemirror_mode": {
    "name": "ipython",
    "version": 3
   },
   "file_extension": ".py",
   "mimetype": "text/x-python",
   "name": "python",
   "nbconvert_exporter": "python",
   "pygments_lexer": "ipython3",
   "version": "3.8.5"
  }
 },
 "nbformat": 4,
 "nbformat_minor": 5
}
