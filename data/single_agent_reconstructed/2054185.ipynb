{
 "cells": [
  {
   "cell_type": "markdown",
   "id": "9c1cde47",
   "metadata": {},
   "source": [
    "Load the CSV file into a pandas DataFrame."
   ]
  },
  {
   "cell_type": "code",
   "execution_count": null,
   "id": "795dc36e",
   "metadata": {},
   "outputs": [],
   "source": [
    "import pandas as pd\n",
    "\n",
    "data = pd.read_csv('fb_sentiment.csv')"
   ]
  },
  {
   "cell_type": "markdown",
   "id": "e437579f",
   "metadata": {},
   "source": [
    "Display the first 5 rows of the DataFrame for data preview."
   ]
  },
  {
   "cell_type": "code",
   "execution_count": null,
   "id": "00dbf7bd",
   "metadata": {},
   "outputs": [],
   "source": [
    "print(data.head())"
   ]
  },
  {
   "cell_type": "markdown",
   "id": "3af45d9a",
   "metadata": {},
   "source": [
    "Define and call a function to plot distributions for each column."
   ]
  },
  {
   "cell_type": "code",
   "execution_count": null,
   "id": "9170b251",
   "metadata": {},
   "outputs": [],
   "source": [
    "import matplotlib.pyplot as plt\n",
    "import seaborn as sns\n",
    "\n",
    "def plotPerColumnDistribution(df):\n",
    "    df.hist(figsize=(10, 10))\n",
    "    plt.show()"
   ]
  },
  {
   "cell_type": "markdown",
   "id": "2a2bcb28",
   "metadata": {},
   "source": [
    "Define and call a function to create a heatmap for correlation analysis."
   ]
  },
  {
   "cell_type": "code",
   "execution_count": null,
   "id": "42ea68c1",
   "metadata": {},
   "outputs": [],
   "source": [
    "def plotCorrelationMatrix(df):\n",
    "    correlation = df.corr()\n",
    "    sns.heatmap(correlation, annot=True)\n",
    "    plt.show()"
   ]
  },
  {
   "cell_type": "markdown",
   "id": "3a7b4956",
   "metadata": {},
   "source": [
    "Define and call a function to generate a scatter plot matrix."
   ]
  },
  {
   "cell_type": "code",
   "execution_count": null,
   "id": "a87ddaa7",
   "metadata": {},
   "outputs": [],
   "source": [
    "def plotScatterMatrix(df):\n",
    "    pd.plotting.scatter_matrix(df, figsize=(10, 10))\n",
    "    plt.show()"
   ]
  }
 ],
 "metadata": {
  "kernelspec": {
   "display_name": "Python 3",
   "language": "python",
   "name": "python3"
  },
  "language_info": {
   "codemirror_mode": {
    "name": "ipython",
    "version": 3
   },
   "file_extension": ".py",
   "mimetype": "text/x-python",
   "name": "python",
   "nbconvert_exporter": "python",
   "pygments_lexer": "ipython3",
   "version": "3.8.5"
  }
 },
 "nbformat": 4,
 "nbformat_minor": 5
}
