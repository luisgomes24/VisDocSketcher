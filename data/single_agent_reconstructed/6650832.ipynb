{
 "cells": [
  {
   "cell_type": "markdown",
   "id": "6c3fa428",
   "metadata": {},
   "source": [
    "Load the operators data from the specified CSV file."
   ]
  },
  {
   "cell_type": "code",
   "execution_count": null,
   "id": "980c5730",
   "metadata": {},
   "outputs": [],
   "source": [
    "import pandas as pd\n",
    "operators_data = pd.read_csv('/kaggle/input/operators.csv')"
   ]
  },
  {
   "cell_type": "markdown",
   "id": "98c9d714",
   "metadata": {},
   "source": [
    "Visualize the distribution of the operators data using a histogram."
   ]
  },
  {
   "cell_type": "code",
   "execution_count": null,
   "id": "cb5e4ca2",
   "metadata": {},
   "outputs": [],
   "source": [
    "import seaborn as sns\n",
    "import matplotlib.pyplot as plt\n",
    "sns.histplot(operators_data)\n",
    "plt.show()"
   ]
  },
  {
   "cell_type": "markdown",
   "id": "8a060bcb",
   "metadata": {},
   "source": [
    "Calculate the correlation matrix for the operators data."
   ]
  },
  {
   "cell_type": "code",
   "execution_count": null,
   "id": "565bc8a9",
   "metadata": {},
   "outputs": [],
   "source": [
    "correlation_matrix = operators_data.corr()"
   ]
  },
  {
   "cell_type": "markdown",
   "id": "0408d936",
   "metadata": {},
   "source": [
    "Display the correlation matrix as a heatmap."
   ]
  },
  {
   "cell_type": "code",
   "execution_count": null,
   "id": "de1a6916",
   "metadata": {},
   "outputs": [],
   "source": [
    "sns.heatmap(correlation_matrix, annot=True)\n",
    "plt.show()"
   ]
  },
  {
   "cell_type": "markdown",
   "id": "9b275cf6",
   "metadata": {},
   "source": [
    "Load the weapons data from the specified CSV file."
   ]
  },
  {
   "cell_type": "code",
   "execution_count": null,
   "id": "bba2887f",
   "metadata": {},
   "outputs": [],
   "source": [
    "df_weapons = pd.read_csv('/kaggle/input/weapons.csv')"
   ]
  },
  {
   "cell_type": "markdown",
   "id": "0abbd6f9",
   "metadata": {},
   "source": [
    "Visualize the distribution of the weapons data using a histogram."
   ]
  },
  {
   "cell_type": "code",
   "execution_count": null,
   "id": "c86c0c9e",
   "metadata": {},
   "outputs": [],
   "source": [
    "sns.histplot(df_weapons)\n",
    "plt.show()"
   ]
  },
  {
   "cell_type": "markdown",
   "id": "86e97501",
   "metadata": {},
   "source": [
    "Calculate the correlation matrix for the weapons data."
   ]
  },
  {
   "cell_type": "code",
   "execution_count": null,
   "id": "1b49f5d6",
   "metadata": {},
   "outputs": [],
   "source": [
    "correlation_matrix_weapons = df_weapons.corr()"
   ]
  },
  {
   "cell_type": "markdown",
   "id": "a7fc362a",
   "metadata": {},
   "source": [
    "Display the correlation matrix for weapons data as a heatmap."
   ]
  },
  {
   "cell_type": "code",
   "execution_count": null,
   "id": "53473ec5",
   "metadata": {},
   "outputs": [],
   "source": [
    "sns.heatmap(correlation_matrix_weapons, annot=True)\n",
    "plt.show()"
   ]
  },
  {
   "cell_type": "markdown",
   "id": "9f545efe",
   "metadata": {},
   "source": [
    "Create a scatter plot for the operators data."
   ]
  },
  {
   "cell_type": "code",
   "execution_count": null,
   "id": "60d4c43e",
   "metadata": {},
   "outputs": [],
   "source": [
    "sns.scatterplot(data=operators_data, x='X Axis', y='Y Axis')\n",
    "plt.show()"
   ]
  },
  {
   "cell_type": "markdown",
   "id": "a5d5267b",
   "metadata": {},
   "source": [
    "Generate a density plot for the operators data."
   ]
  },
  {
   "cell_type": "code",
   "execution_count": null,
   "id": "9f1e08c9",
   "metadata": {},
   "outputs": [],
   "source": [
    "sns.kdeplot(data=operators_data, x='X Axis')\n",
    "plt.show()"
   ]
  },
  {
   "cell_type": "markdown",
   "id": "c23dc61c",
   "metadata": {},
   "source": [
    "Create a scatter plot for the weapons data."
   ]
  },
  {
   "cell_type": "code",
   "execution_count": null,
   "id": "46f30052",
   "metadata": {},
   "outputs": [],
   "source": [
    "sns.scatterplot(data=df_weapons, x='X Axis', y='Y Axis')\n",
    "plt.show()"
   ]
  },
  {
   "cell_type": "markdown",
   "id": "297cf344",
   "metadata": {},
   "source": [
    "Generate a density plot for the weapons data."
   ]
  },
  {
   "cell_type": "code",
   "execution_count": null,
   "id": "a8a08092",
   "metadata": {},
   "outputs": [],
   "source": [
    "sns.kdeplot(data=df_weapons, x='X Axis')\n",
    "plt.show()"
   ]
  }
 ],
 "metadata": {
  "kernelspec": {
   "display_name": "Python 3",
   "language": "python",
   "name": "python3"
  },
  "language_info": {
   "codemirror_mode": {
    "name": "ipython",
    "version": 3
   },
   "file_extension": ".py",
   "mimetype": "text/x-python",
   "name": "python",
   "nbconvert_exporter": "python",
   "pygments_lexer": "ipython3",
   "version": "3.8.5"
  }
 },
 "nbformat": 4,
 "nbformat_minor": 5
}
