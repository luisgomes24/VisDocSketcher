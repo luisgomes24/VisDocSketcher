{
 "cells": [
  {
   "cell_type": "markdown",
   "id": "29e7694d",
   "metadata": {},
   "source": [
    "Load the training data from a CSV file."
   ]
  },
  {
   "cell_type": "code",
   "execution_count": null,
   "id": "91b447cf",
   "metadata": {},
   "outputs": [],
   "source": [
    "import pandas as pd\n",
    "train_data = pd.read_csv('train.csv')"
   ]
  },
  {
   "cell_type": "markdown",
   "id": "8c71b65c",
   "metadata": {},
   "source": [
    "Load the test data from a CSV file."
   ]
  },
  {
   "cell_type": "code",
   "execution_count": null,
   "id": "9a3e55bf",
   "metadata": {},
   "outputs": [],
   "source": [
    "test_data = pd.read_csv('test.csv')"
   ]
  },
  {
   "cell_type": "markdown",
   "id": "d5ad39c5",
   "metadata": {},
   "source": [
    "Perform initial data exploration to understand the dataset."
   ]
  },
  {
   "cell_type": "code",
   "execution_count": null,
   "id": "cb737560",
   "metadata": {},
   "outputs": [],
   "source": [
    "print(train_data.info())\n",
    "print(train_data.describe())"
   ]
  },
  {
   "cell_type": "markdown",
   "id": "7e4ec81e",
   "metadata": {},
   "source": [
    "Drop unnecessary columns from the training data."
   ]
  },
  {
   "cell_type": "code",
   "execution_count": null,
   "id": "ce4b51e0",
   "metadata": {},
   "outputs": [],
   "source": [
    "train_data.drop(['unnecessary_column'], axis=1, inplace=True)"
   ]
  },
  {
   "cell_type": "markdown",
   "id": "eb296bee",
   "metadata": {},
   "source": [
    "Handle missing values by filling them with the median."
   ]
  },
  {
   "cell_type": "code",
   "execution_count": null,
   "id": "751d319d",
   "metadata": {},
   "outputs": [],
   "source": [
    "train_data.fillna(train_data.median(), inplace=True)"
   ]
  },
  {
   "cell_type": "markdown",
   "id": "1b2b883e",
   "metadata": {},
   "source": [
    "Convert the data types of specific columns."
   ]
  },
  {
   "cell_type": "code",
   "execution_count": null,
   "id": "0565d96f",
   "metadata": {},
   "outputs": [],
   "source": [
    "train_data['column'] = train_data['column'].astype('int')"
   ]
  },
  {
   "cell_type": "markdown",
   "id": "4a843c5b",
   "metadata": {},
   "source": [
    "Split the Cabin column into two new columns."
   ]
  },
  {
   "cell_type": "code",
   "execution_count": null,
   "id": "5c2d0be8",
   "metadata": {},
   "outputs": [],
   "source": [
    "train_data[['cabin1', 'cabin2']] = train_data['cabin'].str.split('/', expand=True)"
   ]
  },
  {
   "cell_type": "markdown",
   "id": "390ff4f7",
   "metadata": {},
   "source": [
    "Transform categorical variables using one-hot encoding."
   ]
  },
  {
   "cell_type": "code",
   "execution_count": null,
   "id": "462308da",
   "metadata": {},
   "outputs": [],
   "source": [
    "train_data = pd.get_dummies(train_data, columns=['categorical_column'], drop_first=True)"
   ]
  },
  {
   "cell_type": "markdown",
   "id": "d41bd40a",
   "metadata": {},
   "source": [
    "Split the dataset into training and test sets."
   ]
  },
  {
   "cell_type": "code",
   "execution_count": null,
   "id": "a5e40bcf",
   "metadata": {},
   "outputs": [],
   "source": [
    "from sklearn.model_selection import train_test_split\n",
    "X_train, X_test, y_train, y_test = train_test_split(train_data.drop('target', axis=1), train_data['target'], test_size=0.2, random_state=42)"
   ]
  },
  {
   "cell_type": "markdown",
   "id": "54db1cb2",
   "metadata": {},
   "source": [
    "Train the model using AutoML."
   ]
  },
  {
   "cell_type": "code",
   "execution_count": null,
   "id": "fe22e47f",
   "metadata": {},
   "outputs": [],
   "source": [
    "from auto_ml import AutoML\n",
    "automl = AutoML()\n",
    "model = automl.fit(X_train, y_train)"
   ]
  },
  {
   "cell_type": "markdown",
   "id": "25d61e51",
   "metadata": {},
   "source": [
    "Evaluate the model using a classification report."
   ]
  },
  {
   "cell_type": "code",
   "execution_count": null,
   "id": "484ae04d",
   "metadata": {},
   "outputs": [],
   "source": [
    "from sklearn.metrics import classification_report\n",
    "y_pred = model.predict(X_test)\n",
    "print(classification_report(y_test, y_pred))"
   ]
  },
  {
   "cell_type": "markdown",
   "id": "b8abab4b",
   "metadata": {},
   "source": [
    "Generate predictions on the test data and save it to a submission file."
   ]
  },
  {
   "cell_type": "code",
   "execution_count": null,
   "id": "ac4dd10d",
   "metadata": {},
   "outputs": [],
   "source": [
    "final_predictions = model.predict(test_data)\n",
    "test_data['predictions'] = final_predictions\n",
    " test_data.to_csv('submission.csv', index=False)"
   ]
  }
 ],
 "metadata": {
  "kernelspec": {
   "display_name": "Python 3",
   "language": "python",
   "name": "python3"
  },
  "language_info": {
   "codemirror_mode": {
    "name": "ipython",
    "version": 3
   },
   "file_extension": ".py",
   "mimetype": "text/x-python",
   "name": "python",
   "nbconvert_exporter": "python",
   "pygments_lexer": "ipython3",
   "version": "3.8.5"
  }
 },
 "nbformat": 4,
 "nbformat_minor": 5
}
