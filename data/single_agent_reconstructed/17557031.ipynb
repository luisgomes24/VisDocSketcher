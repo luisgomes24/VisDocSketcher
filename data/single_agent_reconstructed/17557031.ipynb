{
 "cells": [
  {
   "cell_type": "markdown",
   "id": "fb54e57b",
   "metadata": {},
   "source": [
    "Load the Breast Cancer dataset from sklearn and convert it into a DataFrame."
   ]
  },
  {
   "cell_type": "code",
   "execution_count": null,
   "id": "c4112e31",
   "metadata": {},
   "outputs": [],
   "source": [
    "from sklearn.datasets import load_breast_cancer\n",
    "import pandas as pd\n",
    "\n",
    "dataset = load_breast_cancer()\n",
    "data = pd.DataFrame(data=dataset.data, columns=dataset.feature_names)\n",
    "labels = dataset.target"
   ]
  },
  {
   "cell_type": "markdown",
   "id": "ef20c0ab",
   "metadata": {},
   "source": [
    "Split the data into training and test sets using an 80-20 split."
   ]
  },
  {
   "cell_type": "code",
   "execution_count": null,
   "id": "b945d7b4",
   "metadata": {},
   "outputs": [],
   "source": [
    "from sklearn.model_selection import train_test_split\n",
    "X_train, X_test, y_train, y_test = train_test_split(data, labels, test_size=0.2, random_state=42)"
   ]
  },
  {
   "cell_type": "markdown",
   "id": "b0cfa2c5",
   "metadata": {},
   "source": [
    "Train a logistic regression model and visualize the decision boundaries."
   ]
  },
  {
   "cell_type": "code",
   "execution_count": null,
   "id": "afce3cf1",
   "metadata": {},
   "outputs": [],
   "source": [
    "import matplotlib.pyplot as plt\n",
    "from sklearn.linear_model import LogisticRegression\n",
    "\n",
    "model = LogisticRegression()\n",
    "model.fit(X_train, y_train)\n",
    "\n",
    "plt.figure(figsize=(10,6))\n",
    "plt.scatter(X_train.iloc[:, 0], X_train.iloc[:, 1], c=y_train, cmap='coolwarm')\n",
    "plt.title('Decision Boundaries')\n",
    "plt.xlabel('Feature 1')\n",
    "plt.ylabel('Feature 2')\n",
    "plt.show()"
   ]
  },
  {
   "cell_type": "markdown",
   "id": "0cb0df9a",
   "metadata": {},
   "source": [
    "Evaluate the model's performance using accuracy score."
   ]
  },
  {
   "cell_type": "code",
   "execution_count": null,
   "id": "7c83c88c",
   "metadata": {},
   "outputs": [],
   "source": [
    "from sklearn.metrics import accuracy_score\n",
    "\n",
    "predictions = model.predict(X_test)\n",
    "accuracy = accuracy_score(y_test, predictions)\n",
    "print(f'Accuracy: {accuracy:.2f}')"
   ]
  },
  {
   "cell_type": "markdown",
   "id": "85b810f0",
   "metadata": {},
   "source": [
    "Visualize and examine the coefficients of the trained model."
   ]
  },
  {
   "cell_type": "code",
   "execution_count": null,
   "id": "9bd015ab",
   "metadata": {},
   "outputs": [],
   "source": [
    "import numpy as np\n",
    "coefficients = model.coef_[0]\n",
    "plt.figure(figsize=(10,6))\n",
    "plt.plot(np.arange(len(coefficients)), coefficients, marker='o')\n",
    "plt.title('Examining Coefficients')\n",
    "plt.xlabel('Features')\n",
    "plt.ylabel('Coefficient value')\n",
    "plt.show()"
   ]
  },
  {
   "cell_type": "markdown",
   "id": "24415139",
   "metadata": {},
   "source": [
    "Train a LinearSVC model for multi-class classification and visualize the results."
   ]
  },
  {
   "cell_type": "code",
   "execution_count": null,
   "id": "a14325c5",
   "metadata": {},
   "outputs": [],
   "source": [
    "from sklearn.svm import LinearSVC\n",
    "multi_model = LinearSVC()\n",
    "multi_model.fit(X_train, y_train)\n",
    "\n",
    "plt.figure(figsize=(10,6))\n",
    "plt.scatter(X_train.iloc[:, 0], X_train.iloc[:, 1], c=y_train, cmap='rainbow')\n",
    "plt.title('Multi-Class Classification')\n",
    "plt.xlabel('Feature 1')\n",
    "plt.ylabel('Feature 2')\n",
    "plt.show()"
   ]
  },
  {
   "cell_type": "markdown",
   "id": "d8e6e37e",
   "metadata": {},
   "source": [
    "Visualize decision boundaries for the multi-class model."
   ]
  },
  {
   "cell_type": "code",
   "execution_count": null,
   "id": "e63ea7f9",
   "metadata": {},
   "outputs": [],
   "source": [
    "plt.figure(figsize=(10,6))\n",
    "plt.scatter(X_test.iloc[:, 0], X_test.iloc[:, 1], c=multi_model.predict(X_test), cmap='rainbow')\n",
    "plt.title('Multiclass Decision Boundaries')\n",
    "plt.xlabel('Feature 1')\n",
    "plt.ylabel('Feature 2')\n",
    "plt.show()"
   ]
  }
 ],
 "metadata": {
  "kernelspec": {
   "display_name": "Python 3",
   "language": "python",
   "name": "python3"
  },
  "language_info": {
   "codemirror_mode": {
    "name": "ipython",
    "version": 3
   },
   "file_extension": ".py",
   "mimetype": "text/x-python",
   "name": "python",
   "nbconvert_exporter": "python",
   "pygments_lexer": "ipython3",
   "version": "3.8.5"
  }
 },
 "nbformat": 4,
 "nbformat_minor": 5
}
