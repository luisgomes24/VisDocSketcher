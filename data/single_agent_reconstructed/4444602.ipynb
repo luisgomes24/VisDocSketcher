{
 "cells": [
  {
   "cell_type": "markdown",
   "id": "4f37d9f8",
   "metadata": {},
   "source": [
    "Load the dataset from a CSV file into a pandas DataFrame."
   ]
  },
  {
   "cell_type": "code",
   "execution_count": null,
   "id": "e26d76e1",
   "metadata": {},
   "outputs": [],
   "source": [
    "import pandas as pd\n",
    "data = pd.read_csv('path/to/data.csv')"
   ]
  },
  {
   "cell_type": "markdown",
   "id": "e8021ff7",
   "metadata": {},
   "source": [
    "Preprocess the data by handling missing values."
   ]
  },
  {
   "cell_type": "code",
   "execution_count": null,
   "id": "9ff58602",
   "metadata": {},
   "outputs": [],
   "source": [
    "def preprocess_data(data):\n",
    "    # handle missing values\n",
    "    data.fillna(0, inplace=True)\n",
    "    return data\n",
    "processed_data = preprocess_data(data)"
   ]
  },
  {
   "cell_type": "markdown",
   "id": "874c7738",
   "metadata": {},
   "source": [
    "Split the data into training and testing sets."
   ]
  },
  {
   "cell_type": "code",
   "execution_count": null,
   "id": "3fd717c0",
   "metadata": {},
   "outputs": [],
   "source": [
    "from sklearn.model_selection import train_test_split\n",
    "X_train, X_test, y_train, y_test = train_test_split(processed_data.drop('target', axis=1), processed_data['target'], test_size=0.2, random_state=42)"
   ]
  },
  {
   "cell_type": "markdown",
   "id": "179e8d6f",
   "metadata": {},
   "source": [
    "Train a Decision Tree model using the training data."
   ]
  },
  {
   "cell_type": "code",
   "execution_count": null,
   "id": "93535464",
   "metadata": {},
   "outputs": [],
   "source": [
    "from sklearn.tree import DecisionTreeClassifier\n",
    "model_dt = DecisionTreeClassifier()\n",
    "model_dt.fit(X_train, y_train)"
   ]
  },
  {
   "cell_type": "markdown",
   "id": "38b5d44d",
   "metadata": {},
   "source": [
    "Validate the Decision Tree model using accuracy as a metric."
   ]
  },
  {
   "cell_type": "code",
   "execution_count": null,
   "id": "38cd331a",
   "metadata": {},
   "outputs": [],
   "source": [
    "from sklearn.metrics import accuracy_score\n",
    "y_pred = model_dt.predict(X_test)\n",
    "accuracy_dt = accuracy_score(y_test, y_pred)"
   ]
  },
  {
   "cell_type": "markdown",
   "id": "447fd7fa",
   "metadata": {},
   "source": [
    "Train a Random Forest model using the training data."
   ]
  },
  {
   "cell_type": "code",
   "execution_count": null,
   "id": "81e96369",
   "metadata": {},
   "outputs": [],
   "source": [
    "from sklearn.ensemble import RandomForestClassifier\n",
    "model_rf = RandomForestClassifier()\n",
    "model_rf.fit(X_train, y_train)"
   ]
  },
  {
   "cell_type": "markdown",
   "id": "2c00a24a",
   "metadata": {},
   "source": [
    "Validate the Random Forest model using accuracy as a metric."
   ]
  },
  {
   "cell_type": "code",
   "execution_count": null,
   "id": "8689f556",
   "metadata": {},
   "outputs": [],
   "source": [
    "y_pred_rf = model_rf.predict(X_test)\n",
    "accuracy_rf = accuracy_score(y_test, y_pred_rf)"
   ]
  }
 ],
 "metadata": {
  "kernelspec": {
   "display_name": "Python 3",
   "language": "python",
   "name": "python3"
  },
  "language_info": {
   "codemirror_mode": {
    "name": "ipython",
    "version": 3
   },
   "file_extension": ".py",
   "mimetype": "text/x-python",
   "name": "python",
   "nbconvert_exporter": "python",
   "pygments_lexer": "ipython3",
   "version": "3.8.5"
  }
 },
 "nbformat": 4,
 "nbformat_minor": 5
}
