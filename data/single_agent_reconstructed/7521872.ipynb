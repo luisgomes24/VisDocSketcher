{
 "cells": [
  {
   "cell_type": "markdown",
   "id": "ced6de0f",
   "metadata": {},
   "source": [
    "Load data from a CSV file into a pandas DataFrame."
   ]
  },
  {
   "cell_type": "code",
   "execution_count": null,
   "id": "18ffe66b",
   "metadata": {},
   "outputs": [],
   "source": [
    "import pandas as pd\n",
    "data = pd.read_csv('data.csv')"
   ]
  },
  {
   "cell_type": "markdown",
   "id": "d6e076f6",
   "metadata": {},
   "source": [
    "Preview the first few rows of the dataset."
   ]
  },
  {
   "cell_type": "code",
   "execution_count": null,
   "id": "64af880f",
   "metadata": {},
   "outputs": [],
   "source": [
    "print(data.head())"
   ]
  },
  {
   "cell_type": "markdown",
   "id": "6d7c1e62",
   "metadata": {},
   "source": [
    "Create distribution graphs for a specified column."
   ]
  },
  {
   "cell_type": "code",
   "execution_count": null,
   "id": "05775223",
   "metadata": {},
   "outputs": [],
   "source": [
    "import seaborn as sns\n",
    "import matplotlib.pyplot as plt\n",
    "sns.histplot(data['column_name'])\n",
    "plt.show()"
   ]
  },
  {
   "cell_type": "markdown",
   "id": "c3783391",
   "metadata": {},
   "source": [
    "Compute and visualize the correlation matrix between features."
   ]
  },
  {
   "cell_type": "code",
   "execution_count": null,
   "id": "ed613470",
   "metadata": {},
   "outputs": [],
   "source": [
    "correlation_matrix = data.corr()\n",
    "sns.heatmap(correlation_matrix, annot=True)\n",
    "plt.show()"
   ]
  },
  {
   "cell_type": "markdown",
   "id": "130d18d0",
   "metadata": {},
   "source": [
    "Generate scatter and density plots to visualize relationships between features."
   ]
  },
  {
   "cell_type": "code",
   "execution_count": null,
   "id": "61a5a58c",
   "metadata": {},
   "outputs": [],
   "source": [
    "sns.scatterplot(x='feature1', y='feature2', data=data)\n",
    "plt.show()"
   ]
  }
 ],
 "metadata": {
  "kernelspec": {
   "display_name": "Python 3",
   "language": "python",
   "name": "python3"
  },
  "language_info": {
   "codemirror_mode": {
    "name": "ipython",
    "version": 3
   },
   "file_extension": ".py",
   "mimetype": "text/x-python",
   "name": "python",
   "nbconvert_exporter": "python",
   "pygments_lexer": "ipython3",
   "version": "3.8.5"
  }
 },
 "nbformat": 4,
 "nbformat_minor": 5
}
