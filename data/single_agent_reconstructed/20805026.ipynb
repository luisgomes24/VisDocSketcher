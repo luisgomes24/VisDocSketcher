{
 "cells": [
  {
   "cell_type": "markdown",
   "id": "49da5ef7",
   "metadata": {},
   "source": [
    "Import necessary libraries: pandas for data handling and LightAutoML for modeling."
   ]
  },
  {
   "cell_type": "code",
   "execution_count": null,
   "id": "8155baf2",
   "metadata": {},
   "outputs": [],
   "source": [
    "import pandas as pd\n",
    "from lightautoml import AutoML\n"
   ]
  },
  {
   "cell_type": "markdown",
   "id": "027220ae",
   "metadata": {},
   "source": [
    "Load the dataset from a CSV file into a pandas DataFrame."
   ]
  },
  {
   "cell_type": "code",
   "execution_count": null,
   "id": "8996af2a",
   "metadata": {},
   "outputs": [],
   "source": [
    "data = pd.read_csv('data.csv')\n"
   ]
  },
  {
   "cell_type": "markdown",
   "id": "1fd5404b",
   "metadata": {},
   "source": [
    "Create and fit a LightAutoML model using the loaded data."
   ]
  },
  {
   "cell_type": "code",
   "execution_count": null,
   "id": "2157fda4",
   "metadata": {},
   "outputs": [],
   "source": [
    "model = AutoML()\n",
    "model.fit(data)\n"
   ]
  },
  {
   "cell_type": "markdown",
   "id": "2e193c3f",
   "metadata": {},
   "source": [
    "Make predictions on the data using the trained model."
   ]
  },
  {
   "cell_type": "code",
   "execution_count": null,
   "id": "ae8fc092",
   "metadata": {},
   "outputs": [],
   "source": [
    "predictions = model.predict(data)\n"
   ]
  },
  {
   "cell_type": "markdown",
   "id": "78fb76df",
   "metadata": {},
   "source": [
    "Save the predicted results to a CSV file."
   ]
  },
  {
   "cell_type": "code",
   "execution_count": null,
   "id": "eb3c7ba1",
   "metadata": {},
   "outputs": [],
   "source": [
    "predictions.to_csv('results.csv', index=False)\n"
   ]
  }
 ],
 "metadata": {
  "kernelspec": {
   "display_name": "Python 3",
   "language": "python",
   "name": "python3"
  },
  "language_info": {
   "codemirror_mode": {
    "name": "ipython",
    "version": 3
   },
   "file_extension": ".py",
   "mimetype": "text/x-python",
   "name": "python",
   "nbconvert_exporter": "python",
   "pygments_lexer": "ipython3",
   "version": "3.8.5"
  }
 },
 "nbformat": 4,
 "nbformat_minor": 5
}
