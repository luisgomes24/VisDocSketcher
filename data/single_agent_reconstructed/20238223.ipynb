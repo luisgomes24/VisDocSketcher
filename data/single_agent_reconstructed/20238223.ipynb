{
 "cells": [
  {
   "cell_type": "markdown",
   "id": "5b856678",
   "metadata": {},
   "source": [
    "Load the dataset from a CSV file into a pandas DataFrame."
   ]
  },
  {
   "cell_type": "code",
   "execution_count": null,
   "id": "7f275786",
   "metadata": {},
   "outputs": [],
   "source": [
    "import pandas as pd\n",
    "data = pd.read_csv('data.csv')"
   ]
  },
  {
   "cell_type": "markdown",
   "id": "d54f6558",
   "metadata": {},
   "source": [
    "Explore the data by viewing the first few entries and getting a summary of its structure."
   ]
  },
  {
   "cell_type": "code",
   "execution_count": null,
   "id": "d6839ae1",
   "metadata": {},
   "outputs": [],
   "source": [
    "print(data.head())\n",
    "print(data.info())"
   ]
  },
  {
   "cell_type": "markdown",
   "id": "62b8b407",
   "metadata": {},
   "source": [
    "Check for missing values in the dataset by summing the null entries in each column."
   ]
  },
  {
   "cell_type": "code",
   "execution_count": null,
   "id": "32dfe1cd",
   "metadata": {},
   "outputs": [],
   "source": [
    "missing_values = data.isnull().sum()"
   ]
  },
  {
   "cell_type": "markdown",
   "id": "b07710ca",
   "metadata": {},
   "source": [
    "Visualize the distributions of the variables using histograms."
   ]
  },
  {
   "cell_type": "code",
   "execution_count": null,
   "id": "61c18b71",
   "metadata": {},
   "outputs": [],
   "source": [
    "import matplotlib.pyplot as plt\n",
    "\n",
    "data.hist(bins=10)\n",
    "plt.show()"
   ]
  },
  {
   "cell_type": "markdown",
   "id": "525bfef2",
   "metadata": {},
   "source": [
    "Prepare for stratified KFold splitting to ensure proportional class representation."
   ]
  },
  {
   "cell_type": "code",
   "execution_count": null,
   "id": "9c72e8d2",
   "metadata": {},
   "outputs": [],
   "source": [
    "from sklearn.model_selection import StratifiedKFold\n",
    "\n",
    "skf = StratifiedKFold(n_splits=5)"
   ]
  },
  {
   "cell_type": "markdown",
   "id": "dafe23a1",
   "metadata": {},
   "source": [
    "Save the train-test splits to a file for later use."
   ]
  },
  {
   "cell_type": "code",
   "execution_count": null,
   "id": "0dc9af23",
   "metadata": {},
   "outputs": [],
   "source": [
    "import joblib\n",
    "joblib.dump((X_train, X_test, y_train, y_test), 'train_test_splits.pkl')"
   ]
  }
 ],
 "metadata": {
  "kernelspec": {
   "display_name": "Python 3",
   "language": "python",
   "name": "python3"
  },
  "language_info": {
   "codemirror_mode": {
    "name": "ipython",
    "version": 3
   },
   "file_extension": ".py",
   "mimetype": "text/x-python",
   "name": "python",
   "nbconvert_exporter": "python",
   "pygments_lexer": "ipython3",
   "version": "3.8.5"
  }
 },
 "nbformat": 4,
 "nbformat_minor": 5
}
