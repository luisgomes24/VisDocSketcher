{
 "cells": [
  {
   "cell_type": "markdown",
   "id": "c25a440c",
   "metadata": {},
   "source": [
    "Load the museum data from a CSV file using pandas."
   ]
  },
  {
   "cell_type": "code",
   "execution_count": null,
   "id": "439fe32f",
   "metadata": {},
   "outputs": [],
   "source": [
    "import pandas as pd\n",
    "museum_data = pd.read_csv('museum_data.csv')"
   ]
  },
  {
   "cell_type": "markdown",
   "id": "2ba67673",
   "metadata": {},
   "source": [
    "Review the first few rows of the data to understand its structure."
   ]
  },
  {
   "cell_type": "code",
   "execution_count": null,
   "id": "81af5b0f",
   "metadata": {},
   "outputs": [],
   "source": [
    "print(museum_data.head())"
   ]
  },
  {
   "cell_type": "markdown",
   "id": "2932cf93",
   "metadata": {},
   "source": [
    "Create a line chart to visualize the number of visitors over time."
   ]
  },
  {
   "cell_type": "code",
   "execution_count": null,
   "id": "30462a2f",
   "metadata": {},
   "outputs": [],
   "source": [
    "import matplotlib.pyplot as plt\n",
    "plt.plot(museum_data['Time'], museum_data['Visitors'])\n",
    "plt.title('Visitors Over Time')\n",
    "plt.xlabel('Time')\n",
    "plt.ylabel('Number of Visitors')\n",
    "plt.show()"
   ]
  },
  {
   "cell_type": "markdown",
   "id": "abbdcb3a",
   "metadata": {},
   "source": [
    "Assess the seasonal trends by averaging visitors per quarter."
   ]
  },
  {
   "cell_type": "code",
   "execution_count": null,
   "id": "392f35ee",
   "metadata": {},
   "outputs": [],
   "source": [
    "# Analyze seasonality\n",
    "seasonality = museum_data.groupby('Quarter')['Visitors'].mean()\n",
    "plt.bar(seasonality.index, seasonality.values)\n",
    "plt.title('Seasonality Assessment')\n",
    "plt.xlabel('Quarter')\n",
    "plt.ylabel('Average Visitors')\n",
    "plt.show()"
   ]
  },
  {
   "cell_type": "markdown",
   "id": "4a4512a6",
   "metadata": {},
   "source": [
    "Estimate staffing needs based on average visitors, assuming one staff member for every 20 visitors."
   ]
  },
  {
   "cell_type": "code",
   "execution_count": null,
   "id": "1b78f14d",
   "metadata": {},
   "outputs": [],
   "source": [
    "# Determine staffing needs\n",
    "average_visitors = museum_data['Visitors'].mean()\n",
    "staff_needed = average_visitors // 20  # Assuming 20 visitors per staff\n",
    "print(f'Staff needed: {staff_needed}')"
   ]
  }
 ],
 "metadata": {
  "kernelspec": {
   "display_name": "Python 3",
   "language": "python",
   "name": "python3"
  },
  "language_info": {
   "codemirror_mode": {
    "name": "ipython",
    "version": 3
   },
   "file_extension": ".py",
   "mimetype": "text/x-python",
   "name": "python",
   "nbconvert_exporter": "python",
   "pygments_lexer": "ipython3",
   "version": "3.8.5"
  }
 },
 "nbformat": 4,
 "nbformat_minor": 5
}
