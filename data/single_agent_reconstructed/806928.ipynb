{
 "cells": [
  {
   "cell_type": "markdown",
   "id": "db330a86",
   "metadata": {},
   "source": [
    "Load the dataset from a CSV file into a DataFrame."
   ]
  },
  {
   "cell_type": "code",
   "execution_count": null,
   "id": "01aa0ea5",
   "metadata": {},
   "outputs": [],
   "source": [
    "import pandas as pd\n",
    "data = pd.read_csv('nfl_sf_permits.csv')"
   ]
  },
  {
   "cell_type": "markdown",
   "id": "48047ca5",
   "metadata": {},
   "source": [
    "Display the first few rows of the DataFrame to get an overview."
   ]
  },
  {
   "cell_type": "code",
   "execution_count": null,
   "id": "5879d915",
   "metadata": {},
   "outputs": [],
   "source": [
    "print(data.head())"
   ]
  },
  {
   "cell_type": "markdown",
   "id": "de85bc37",
   "metadata": {},
   "source": [
    "Check for missing values in each column."
   ]
  },
  {
   "cell_type": "code",
   "execution_count": null,
   "id": "9e772843",
   "metadata": {},
   "outputs": [],
   "source": [
    "missing_values = data.isnull().sum()"
   ]
  },
  {
   "cell_type": "markdown",
   "id": "de860c24",
   "metadata": {},
   "source": [
    "Analyze which columns have missing values and their counts."
   ]
  },
  {
   "cell_type": "code",
   "execution_count": null,
   "id": "dc03413b",
   "metadata": {},
   "outputs": [],
   "source": [
    "print(missing_values[missing_values > 0])"
   ]
  },
  {
   "cell_type": "markdown",
   "id": "f79d0bfd",
   "metadata": {},
   "source": [
    "Drop rows that contain any missing values."
   ]
  },
  {
   "cell_type": "code",
   "execution_count": null,
   "id": "8797b3b8",
   "metadata": {},
   "outputs": [],
   "source": [
    "data = data.dropna()"
   ]
  },
  {
   "cell_type": "markdown",
   "id": "518e31e7",
   "metadata": {},
   "source": [
    "Check the remaining data structure and information."
   ]
  },
  {
   "cell_type": "code",
   "execution_count": null,
   "id": "bae466bb",
   "metadata": {},
   "outputs": [],
   "source": [
    "print(data.info())"
   ]
  },
  {
   "cell_type": "markdown",
   "id": "4da31d55",
   "metadata": {},
   "source": [
    "Fill any remaining NA values with 0."
   ]
  },
  {
   "cell_type": "code",
   "execution_count": null,
   "id": "e310e1a1",
   "metadata": {},
   "outputs": [],
   "source": [
    "data.fillna(0, inplace=True)"
   ]
  },
  {
   "cell_type": "markdown",
   "id": "48fb236d",
   "metadata": {},
   "source": [
    "Backfill any remaining NA values using the next valid observation."
   ]
  },
  {
   "cell_type": "code",
   "execution_count": null,
   "id": "0353ca0c",
   "metadata": {},
   "outputs": [],
   "source": [
    "data.fillna(method='bfill', inplace=True)"
   ]
  },
  {
   "cell_type": "markdown",
   "id": "d761b046",
   "metadata": {},
   "source": [
    "Save the cleaned DataFrame back to a new CSV file."
   ]
  },
  {
   "cell_type": "code",
   "execution_count": null,
   "id": "5a7d512f",
   "metadata": {},
   "outputs": [],
   "source": [
    "data.to_csv('cleaned_nfl_sf_permits.csv', index=False)"
   ]
  }
 ],
 "metadata": {
  "kernelspec": {
   "display_name": "Python 3",
   "language": "python",
   "name": "python3"
  },
  "language_info": {
   "codemirror_mode": {
    "name": "ipython",
    "version": 3
   },
   "file_extension": ".py",
   "mimetype": "text/x-python",
   "name": "python",
   "nbconvert_exporter": "python",
   "pygments_lexer": "ipython3",
   "version": "3.8.5"
  }
 },
 "nbformat": 4,
 "nbformat_minor": 5
}
