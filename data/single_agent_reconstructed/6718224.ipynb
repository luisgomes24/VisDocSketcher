{
 "cells": [
  {
   "cell_type": "markdown",
   "id": "0177661e",
   "metadata": {},
   "source": [
    "Load the CSV data into a DataFrame."
   ]
  },
  {
   "cell_type": "code",
   "execution_count": null,
   "id": "54d6406f",
   "metadata": {},
   "outputs": [],
   "source": [
    "import pandas as pd\n",
    "df1 = pd.read_csv('data.csv')"
   ]
  },
  {
   "cell_type": "markdown",
   "id": "2a4aaa45",
   "metadata": {},
   "source": [
    "Preview the first 5 rows of the DataFrame."
   ]
  },
  {
   "cell_type": "code",
   "execution_count": null,
   "id": "a387c665",
   "metadata": {},
   "outputs": [],
   "source": [
    "df1.head(5)"
   ]
  },
  {
   "cell_type": "markdown",
   "id": "19e70528",
   "metadata": {},
   "source": [
    "Create distribution plots for each column in the DataFrame."
   ]
  },
  {
   "cell_type": "code",
   "execution_count": null,
   "id": "e326d110",
   "metadata": {},
   "outputs": [],
   "source": [
    "plotPerColumnDistribution(df1)"
   ]
  },
  {
   "cell_type": "markdown",
   "id": "6d624fc9",
   "metadata": {},
   "source": [
    "Generate a correlation matrix to visualize the relationships between variables."
   ]
  },
  {
   "cell_type": "code",
   "execution_count": null,
   "id": "1b38c861",
   "metadata": {},
   "outputs": [],
   "source": [
    "plotCorrelationMatrix(df1)"
   ]
  },
  {
   "cell_type": "markdown",
   "id": "bd6d47f4",
   "metadata": {},
   "source": [
    "Plot a scatter matrix to examine the pairwise relationships in the DataFrame."
   ]
  },
  {
   "cell_type": "code",
   "execution_count": null,
   "id": "202ac68d",
   "metadata": {},
   "outputs": [],
   "source": [
    "plotScatterMatrix(df1)"
   ]
  }
 ],
 "metadata": {
  "kernelspec": {
   "display_name": "Python 3",
   "language": "python",
   "name": "python3"
  },
  "language_info": {
   "codemirror_mode": {
    "name": "ipython",
    "version": 3
   },
   "file_extension": ".py",
   "mimetype": "text/x-python",
   "name": "python",
   "nbconvert_exporter": "python",
   "pygments_lexer": "ipython3",
   "version": "3.8.5"
  }
 },
 "nbformat": 4,
 "nbformat_minor": 5
}
