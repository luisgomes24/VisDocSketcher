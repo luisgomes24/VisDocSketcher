{
 "cells": [
  {
   "cell_type": "markdown",
   "id": "0c08f955",
   "metadata": {},
   "source": [
    "Load the training, test data, and sample submission files using pandas."
   ]
  },
  {
   "cell_type": "code",
   "execution_count": null,
   "id": "3d8aaa58",
   "metadata": {},
   "outputs": [],
   "source": [
    "import pandas as pd\n",
    "train_data = pd.read_csv('train.csv')\n",
    "test_data = pd.read_csv('test.csv')\n",
    "sample_submission = pd.read_csv('sample_submission.csv')"
   ]
  },
  {
   "cell_type": "markdown",
   "id": "bf586281",
   "metadata": {},
   "source": [
    "Check the shapes and structure of the training and test datasets."
   ]
  },
  {
   "cell_type": "code",
   "execution_count": null,
   "id": "124d450c",
   "metadata": {},
   "outputs": [],
   "source": [
    "train_data.info()\n",
    "test_data.info()"
   ]
  },
  {
   "cell_type": "markdown",
   "id": "f0ce5df7",
   "metadata": {},
   "source": [
    "Perform data exploration by visualizing the distribution of the target variable."
   ]
  },
  {
   "cell_type": "code",
   "execution_count": null,
   "id": "f12578e8",
   "metadata": {},
   "outputs": [],
   "source": [
    "import matplotlib.pyplot as plt\n",
    "import seaborn as sns\n",
    "sns.countplot(data=train_data, x='target_variable')\n",
    "plt.show()"
   ]
  },
  {
   "cell_type": "markdown",
   "id": "1633d127",
   "metadata": {},
   "source": [
    "Preprocess the data by handling missing values in train and test datasets."
   ]
  },
  {
   "cell_type": "code",
   "execution_count": null,
   "id": "703ac476",
   "metadata": {},
   "outputs": [],
   "source": [
    "train_data.dropna(inplace=True)\n",
    "test_data.fillna(method='ffill', inplace=True)"
   ]
  },
  {
   "cell_type": "markdown",
   "id": "6082c00b",
   "metadata": {},
   "source": [
    "Prepare the training data by separating features and target variable."
   ]
  },
  {
   "cell_type": "code",
   "execution_count": null,
   "id": "9ffcc552",
   "metadata": {},
   "outputs": [],
   "source": [
    "X = train_data.drop('target_variable', axis=1)\n",
    "y = train_data['target_variable']"
   ]
  },
  {
   "cell_type": "markdown",
   "id": "623b70cb",
   "metadata": {},
   "source": [
    "Split the data into training and validation sets."
   ]
  },
  {
   "cell_type": "code",
   "execution_count": null,
   "id": "5b07c709",
   "metadata": {},
   "outputs": [],
   "source": [
    "from sklearn.model_selection import train_test_split\n",
    "X_train, X_val, y_train, y_val = train_test_split(X, y, test_size=0.2, random_state=42)"
   ]
  },
  {
   "cell_type": "markdown",
   "id": "451d734d",
   "metadata": {},
   "source": [
    "Initialize the model for training."
   ]
  },
  {
   "cell_type": "code",
   "execution_count": null,
   "id": "6374fe1f",
   "metadata": {},
   "outputs": [],
   "source": [
    "from sklearn.ensemble import RandomForestClassifier\n",
    "model = RandomForestClassifier()"
   ]
  },
  {
   "cell_type": "markdown",
   "id": "7c3ecdf2",
   "metadata": {},
   "source": [
    "Fit the model using the training data."
   ]
  },
  {
   "cell_type": "code",
   "execution_count": null,
   "id": "faebb1cd",
   "metadata": {},
   "outputs": [],
   "source": [
    "model.fit(X_train, y_train)"
   ]
  },
  {
   "cell_type": "markdown",
   "id": "6aa26d9f",
   "metadata": {},
   "source": [
    "Use the trained model to make predictions on the test data."
   ]
  },
  {
   "cell_type": "code",
   "execution_count": null,
   "id": "d5ef0864",
   "metadata": {},
   "outputs": [],
   "source": [
    "predictions = model.predict(test_data)"
   ]
  },
  {
   "cell_type": "markdown",
   "id": "b5835d24",
   "metadata": {},
   "source": [
    "Evaluate the model's performance using accuracy metric."
   ]
  },
  {
   "cell_type": "code",
   "execution_count": null,
   "id": "4b86474d",
   "metadata": {},
   "outputs": [],
   "source": [
    "from sklearn.metrics import accuracy_score\n",
    "accuracy = accuracy_score(y_val, model.predict(X_val))\n",
    "print(f'Accuracy: {accuracy}')"
   ]
  },
  {
   "cell_type": "markdown",
   "id": "ffbc39cb",
   "metadata": {},
   "source": [
    "Create a submission file with predictions for the test data."
   ]
  },
  {
   "cell_type": "code",
   "execution_count": null,
   "id": "0fbfc12c",
   "metadata": {},
   "outputs": [],
   "source": [
    "submission = pd.DataFrame({'Id': test_data['Id'], 'Predicted': predictions})\n",
    "submission.to_csv('submission.csv', index=False)"
   ]
  }
 ],
 "metadata": {
  "kernelspec": {
   "display_name": "Python 3",
   "language": "python",
   "name": "python3"
  },
  "language_info": {
   "codemirror_mode": {
    "name": "ipython",
    "version": 3
   },
   "file_extension": ".py",
   "mimetype": "text/x-python",
   "name": "python",
   "nbconvert_exporter": "python",
   "pygments_lexer": "ipython3",
   "version": "3.8.5"
  }
 },
 "nbformat": 4,
 "nbformat_minor": 5
}
