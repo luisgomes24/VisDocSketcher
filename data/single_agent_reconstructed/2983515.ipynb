{
 "cells": [
  {
   "cell_type": "markdown",
   "id": "d3f466e7",
   "metadata": {},
   "source": [
    "Load data from a CSV file into a DataFrame."
   ]
  },
  {
   "cell_type": "code",
   "execution_count": null,
   "id": "58dfb2e5",
   "metadata": {},
   "outputs": [],
   "source": [
    "import pandas as pd\n",
    "data = pd.read_csv('data.csv')"
   ]
  },
  {
   "cell_type": "markdown",
   "id": "b0d5cfe2",
   "metadata": {},
   "source": [
    "Preview the first few rows of the DataFrame."
   ]
  },
  {
   "cell_type": "code",
   "execution_count": null,
   "id": "9bdf8436",
   "metadata": {},
   "outputs": [],
   "source": [
    "print(data.head())"
   ]
  },
  {
   "cell_type": "markdown",
   "id": "2b747014",
   "metadata": {},
   "source": [
    "Rename columns for better understanding."
   ]
  },
  {
   "cell_type": "code",
   "execution_count": null,
   "id": "18a37338",
   "metadata": {},
   "outputs": [],
   "source": [
    "data.rename(columns={'old_name': 'new_name'}, inplace=True)"
   ]
  },
  {
   "cell_type": "markdown",
   "id": "6288a388",
   "metadata": {},
   "source": [
    "Set a specific column as the index of the DataFrame."
   ]
  },
  {
   "cell_type": "code",
   "execution_count": null,
   "id": "e4cc835a",
   "metadata": {},
   "outputs": [],
   "source": [
    "data.set_index('new_index', inplace=True)"
   ]
  },
  {
   "cell_type": "markdown",
   "id": "c8e5326b",
   "metadata": {},
   "source": [
    "Load additional data from another CSV file."
   ]
  },
  {
   "cell_type": "code",
   "execution_count": null,
   "id": "556cc564",
   "metadata": {},
   "outputs": [],
   "source": [
    "additional_data = pd.read_csv('additional_data.csv')"
   ]
  },
  {
   "cell_type": "markdown",
   "id": "f6d66c87",
   "metadata": {},
   "source": [
    "Combine the original DataFrame with the additional data."
   ]
  },
  {
   "cell_type": "code",
   "execution_count": null,
   "id": "007692df",
   "metadata": {},
   "outputs": [],
   "source": [
    "combined_data = pd.concat([data, additional_data], axis=0)"
   ]
  },
  {
   "cell_type": "markdown",
   "id": "08eb2577",
   "metadata": {},
   "source": [
    "Display the final combined DataFrame."
   ]
  },
  {
   "cell_type": "code",
   "execution_count": null,
   "id": "8596d6a8",
   "metadata": {},
   "outputs": [],
   "source": [
    "print(combined_data)"
   ]
  }
 ],
 "metadata": {
  "kernelspec": {
   "display_name": "Python 3",
   "language": "python",
   "name": "python3"
  },
  "language_info": {
   "codemirror_mode": {
    "name": "ipython",
    "version": 3
   },
   "file_extension": ".py",
   "mimetype": "text/x-python",
   "name": "python",
   "nbconvert_exporter": "python",
   "pygments_lexer": "ipython3",
   "version": "3.8.5"
  }
 },
 "nbformat": 4,
 "nbformat_minor": 5
}
