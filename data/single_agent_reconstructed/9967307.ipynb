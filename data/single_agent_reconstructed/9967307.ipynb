{
 "cells": [
  {
   "cell_type": "markdown",
   "id": "4eb44d21",
   "metadata": {},
   "source": [
    "Load the dataset using pandas."
   ]
  },
  {
   "cell_type": "code",
   "execution_count": null,
   "id": "4f1064da",
   "metadata": {},
   "outputs": [],
   "source": [
    "import pandas as pd\n",
    "data = pd.read_csv('data.csv')"
   ]
  },
  {
   "cell_type": "markdown",
   "id": "bb06b71c",
   "metadata": {},
   "source": [
    "Explore the data to understand its structure and summary statistics."
   ]
  },
  {
   "cell_type": "code",
   "execution_count": null,
   "id": "9cf27968",
   "metadata": {},
   "outputs": [],
   "source": [
    "print(data.describe())\n",
    "print(data.info())"
   ]
  },
  {
   "cell_type": "markdown",
   "id": "1f4951e4",
   "metadata": {},
   "source": [
    "Calculate the correlation estimate between the features."
   ]
  },
  {
   "cell_type": "code",
   "execution_count": null,
   "id": "39dc3a43",
   "metadata": {},
   "outputs": [],
   "source": [
    "correlation_matrix = data.corr()"
   ]
  },
  {
   "cell_type": "markdown",
   "id": "f6d5674e",
   "metadata": {},
   "source": [
    "Visualize the correlation matrix using a heatmap."
   ]
  },
  {
   "cell_type": "code",
   "execution_count": null,
   "id": "07cad44e",
   "metadata": {},
   "outputs": [],
   "source": [
    "import seaborn as sns\n",
    "import matplotlib.pyplot as plt\n",
    "sns.heatmap(correlation_matrix, annot=True)\n",
    "plt.show()"
   ]
  },
  {
   "cell_type": "markdown",
   "id": "7b1c8cb5",
   "metadata": {},
   "source": [
    "Visualize raw data distributions and relationships."
   ]
  },
  {
   "cell_type": "code",
   "execution_count": null,
   "id": "fc136b72",
   "metadata": {},
   "outputs": [],
   "source": [
    "sns.pairplot(data)\n",
    "plt.show()"
   ]
  },
  {
   "cell_type": "markdown",
   "id": "567fc32f",
   "metadata": {},
   "source": [
    "Standardize the features to have a mean of 0 and a variance of 1."
   ]
  },
  {
   "cell_type": "code",
   "execution_count": null,
   "id": "07b79bcc",
   "metadata": {},
   "outputs": [],
   "source": [
    "from sklearn.preprocessing import StandardScaler\n",
    "scaler = StandardScaler()\n",
    "data_scaled = scaler.fit_transform(data)"
   ]
  },
  {
   "cell_type": "markdown",
   "id": "090f98c5",
   "metadata": {},
   "source": [
    "Apply K Means clustering on the standardized data."
   ]
  },
  {
   "cell_type": "code",
   "execution_count": null,
   "id": "31b2f111",
   "metadata": {},
   "outputs": [],
   "source": [
    "from sklearn.cluster import KMeans\n",
    "kmeans = KMeans(n_clusters=3)\n",
    "kmeans.fit(data_scaled)"
   ]
  },
  {
   "cell_type": "markdown",
   "id": "000f9ba9",
   "metadata": {},
   "source": [
    "Generate the elbow method plot to determine the optimal number of clusters."
   ]
  },
  {
   "cell_type": "code",
   "execution_count": null,
   "id": "103419b9",
   "metadata": {},
   "outputs": [],
   "source": [
    "inertia = []\n",
    "for k in range(1, 10):\n",
    "    kmeans = KMeans(n_clusters=k).fit(data_scaled)\n",
    "    inertia.append(kmeans.inertia_)\n",
    "plt.plot(range(1, 10), inertia)\n",
    "plt.show()"
   ]
  },
  {
   "cell_type": "markdown",
   "id": "e87eb86d",
   "metadata": {},
   "source": [
    "Fit the final K Means model using the optimal number of clusters."
   ]
  },
  {
   "cell_type": "code",
   "execution_count": null,
   "id": "baf2cb21",
   "metadata": {},
   "outputs": [],
   "source": [
    "final_kmeans = KMeans(n_clusters=3).fit(data_scaled)"
   ]
  },
  {
   "cell_type": "markdown",
   "id": "c0d8cdf0",
   "metadata": {},
   "source": [
    "Store clustering results in a dataframe."
   ]
  },
  {
   "cell_type": "code",
   "execution_count": null,
   "id": "6dfc7924",
   "metadata": {},
   "outputs": [],
   "source": [
    "print(final_kmeans.labels_)\n",
    "results = pd.DataFrame(data)\n",
    "results['Cluster'] = final_kmeans.labels_"
   ]
  },
  {
   "cell_type": "markdown",
   "id": "dccb7f3d",
   "metadata": {},
   "source": [
    "Prepare data for PCA by reducing dimensions."
   ]
  },
  {
   "cell_type": "code",
   "execution_count": null,
   "id": "0b93d528",
   "metadata": {},
   "outputs": [],
   "source": [
    "from sklearn.decomposition import PCA\n",
    "pca = PCA(n_components=2)\n",
    "data_pca = pca.fit_transform(data_scaled)"
   ]
  },
  {
   "cell_type": "markdown",
   "id": "76de2c13",
   "metadata": {},
   "source": [
    "Fit PCA and compute explained variance."
   ]
  },
  {
   "cell_type": "code",
   "execution_count": null,
   "id": "ca60baae",
   "metadata": {},
   "outputs": [],
   "source": [
    "explained_variance = pca.explained_variance_ratio_"
   ]
  },
  {
   "cell_type": "markdown",
   "id": "00a6d476",
   "metadata": {},
   "source": [
    "Apply K Means clustering on PCA-transformed data."
   ]
  },
  {
   "cell_type": "code",
   "execution_count": null,
   "id": "bf53405b",
   "metadata": {},
   "outputs": [],
   "source": [
    "kmeans_pca = KMeans(n_clusters=3).fit(data_pca)"
   ]
  },
  {
   "cell_type": "markdown",
   "id": "a685a830",
   "metadata": {},
   "source": [
    "Generate elbow method plot for PCA results."
   ]
  },
  {
   "cell_type": "code",
   "execution_count": null,
   "id": "1c41104f",
   "metadata": {},
   "outputs": [],
   "source": [
    "inertia_pca = []\n",
    "for k in range(1, 10):\n",
    "    kmeans = KMeans(n_clusters=k).fit(data_pca)\n",
    "    inertia_pca.append(kmeans.inertia_)\n",
    "plt.plot(range(1, 10), inertia_pca)\n",
    "plt.show()"
   ]
  },
  {
   "cell_type": "markdown",
   "id": "4c6c422b",
   "metadata": {},
   "source": [
    "Fit the final K Means model using PCA data."
   ]
  },
  {
   "cell_type": "code",
   "execution_count": null,
   "id": "dd420d9d",
   "metadata": {},
   "outputs": [],
   "source": [
    "final_kmeans_pca = KMeans(n_clusters=3).fit(data_pca)"
   ]
  },
  {
   "cell_type": "markdown",
   "id": "3454d3e1",
   "metadata": {},
   "source": [
    "Store final clustering results in a new dataframe."
   ]
  },
  {
   "cell_type": "code",
   "execution_count": null,
   "id": "4b9e4bab",
   "metadata": {},
   "outputs": [],
   "source": [
    "final_results = pd.DataFrame(data_pca)\n",
    "final_results['Cluster'] = final_kmeans_pca.labels_"
   ]
  }
 ],
 "metadata": {
  "kernelspec": {
   "display_name": "Python 3",
   "language": "python",
   "name": "python3"
  },
  "language_info": {
   "codemirror_mode": {
    "name": "ipython",
    "version": 3
   },
   "file_extension": ".py",
   "mimetype": "text/x-python",
   "name": "python",
   "nbconvert_exporter": "python",
   "pygments_lexer": "ipython3",
   "version": "3.8.5"
  }
 },
 "nbformat": 4,
 "nbformat_minor": 5
}
