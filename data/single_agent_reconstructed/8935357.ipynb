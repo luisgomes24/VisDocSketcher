{
 "cells": [
  {
   "cell_type": "markdown",
   "id": "c0f4c894",
   "metadata": {},
   "source": [
    "Load the data sources by defining URLs for country and US state reports."
   ]
  },
  {
   "cell_type": "code",
   "execution_count": null,
   "id": "d5b78f9b",
   "metadata": {},
   "outputs": [],
   "source": [
    "import requests\n",
    "\n",
    "# Load Data\n",
    "country_reports_url = 'https://example.com/country_reports.pdf'\n",
    "state_reports_url = 'https://example.com/us_state_reports.pdf'"
   ]
  },
  {
   "cell_type": "markdown",
   "id": "c5ec3f03",
   "metadata": {},
   "source": [
    "Download the country and US state reports using HTTP GET requests."
   ]
  },
  {
   "cell_type": "code",
   "execution_count": null,
   "id": "bbab27a9",
   "metadata": {},
   "outputs": [],
   "source": [
    "country_response = requests.get(country_reports_url)\n",
    "state_response = requests.get(state_reports_url)"
   ]
  },
  {
   "cell_type": "markdown",
   "id": "7907e497",
   "metadata": {},
   "source": [
    "Extract data from the downloaded PDF files using PdfReader."
   ]
  },
  {
   "cell_type": "code",
   "execution_count": null,
   "id": "3caff5f9",
   "metadata": {},
   "outputs": [],
   "source": [
    "from PyPDF2 import PdfReader\n",
    "\n",
    "country_pdf = PdfReader(country_response.content)\n",
    "state_pdf = PdfReader(state_response.content)"
   ]
  },
  {
   "cell_type": "markdown",
   "id": "90eaecab",
   "metadata": {},
   "source": [
    "Create lists to store extracted data for both country and state reports."
   ]
  },
  {
   "cell_type": "code",
   "execution_count": null,
   "id": "f2d7eedd",
   "metadata": {},
   "outputs": [],
   "source": [
    "import pandas as pd\n",
    "\n",
    "country_data = []  # Loop through and extract data from country_pdf\n",
    "state_data = []  # Loop through and extract data from state_pdf"
   ]
  },
  {
   "cell_type": "markdown",
   "id": "99633932",
   "metadata": {},
   "source": [
    "Convert the extracted data into Pandas DataFrames for easier manipulation."
   ]
  },
  {
   "cell_type": "code",
   "execution_count": null,
   "id": "05cef12a",
   "metadata": {},
   "outputs": [],
   "source": [
    "country_df = pd.DataFrame(country_data)\n",
    "state_df = pd.DataFrame(state_data)"
   ]
  },
  {
   "cell_type": "markdown",
   "id": "d66ef73b",
   "metadata": {},
   "source": [
    "Combine the DataFrames and export the final data to a CSV file."
   ]
  },
  {
   "cell_type": "code",
   "execution_count": null,
   "id": "150a7aca",
   "metadata": {},
   "outputs": [],
   "source": [
    "combined_df = pd.concat([country_df, state_df])\n",
    "combined_df.to_csv('combined_reports.csv', index=False)"
   ]
  }
 ],
 "metadata": {
  "kernelspec": {
   "display_name": "Python 3",
   "language": "python",
   "name": "python3"
  },
  "language_info": {
   "codemirror_mode": {
    "name": "ipython",
    "version": 3
   },
   "file_extension": ".py",
   "mimetype": "text/x-python",
   "name": "python",
   "nbconvert_exporter": "python",
   "pygments_lexer": "ipython3",
   "version": "3.8.5"
  }
 },
 "nbformat": 4,
 "nbformat_minor": 5
}
