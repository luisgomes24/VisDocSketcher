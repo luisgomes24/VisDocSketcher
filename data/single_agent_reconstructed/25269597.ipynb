{
 "cells": [
  {
   "cell_type": "markdown",
   "id": "1d99149f",
   "metadata": {},
   "source": [
    "Load the training data from a CSV file into a DataFrame."
   ]
  },
  {
   "cell_type": "code",
   "execution_count": null,
   "id": "1354b5d7",
   "metadata": {},
   "outputs": [],
   "source": [
    "import pandas as pd\n",
    "train_data = pd.read_csv('train_data.csv')"
   ]
  },
  {
   "cell_type": "markdown",
   "id": "46dc89a3",
   "metadata": {},
   "source": [
    "Load the test data from a CSV file into a DataFrame."
   ]
  },
  {
   "cell_type": "code",
   "execution_count": null,
   "id": "8adad5e9",
   "metadata": {},
   "outputs": [],
   "source": [
    "test_data = pd.read_csv('test_data.csv')"
   ]
  },
  {
   "cell_type": "markdown",
   "id": "f395f0a8",
   "metadata": {},
   "source": [
    "Explore the training data to understand its structure and characteristics."
   ]
  },
  {
   "cell_type": "code",
   "execution_count": null,
   "id": "46bb440e",
   "metadata": {},
   "outputs": [],
   "source": [
    "train_data.describe()"
   ]
  },
  {
   "cell_type": "markdown",
   "id": "5c401763",
   "metadata": {},
   "source": [
    "Preprocess the text data to clean it for analysis."
   ]
  },
  {
   "cell_type": "code",
   "execution_count": null,
   "id": "3b611c58",
   "metadata": {},
   "outputs": [],
   "source": [
    "def preprocess_text(text):\n",
    "    # Add text preprocessing steps here\n",
    "    return text\n",
    "train_data['processed_text'] = train_data['text'].apply(preprocess_text)"
   ]
  },
  {
   "cell_type": "markdown",
   "id": "b98f6869",
   "metadata": {},
   "source": [
    "Apply stemming to the processed text to reduce words to their root forms."
   ]
  },
  {
   "cell_type": "code",
   "execution_count": null,
   "id": "51c60a55",
   "metadata": {},
   "outputs": [],
   "source": [
    "from nltk.stem import PorterStemmer\n",
    "stemmer = PorterStemmer()\n",
    "train_data['stemmed_text'] = train_data['processed_text'].apply(lambda x: ' '.join([stemmer.stem(word) for word in x.split()]))"
   ]
  },
  {
   "cell_type": "markdown",
   "id": "9accfb8d",
   "metadata": {},
   "source": [
    "Split the training data into training and validation sets."
   ]
  },
  {
   "cell_type": "code",
   "execution_count": null,
   "id": "f64ae082",
   "metadata": {},
   "outputs": [],
   "source": [
    "from sklearn.model_selection import train_test_split\n",
    "X_train, X_val, y_train, y_val = train_test_split(train_data['stemmed_text'], train_data['label'], test_size=0.2)"
   ]
  },
  {
   "cell_type": "markdown",
   "id": "9b29ba62",
   "metadata": {},
   "source": [
    "Transform text features into numerical format using TF-IDF."
   ]
  },
  {
   "cell_type": "code",
   "execution_count": null,
   "id": "72d56286",
   "metadata": {},
   "outputs": [],
   "source": [
    "from sklearn.feature_extraction.text import TfidfVectorizer\n",
    "tfidf = TfidfVectorizer()\n",
    "X_train_vect = tfidf.fit_transform(X_train)\n",
    "X_val_vect = tfidf.transform(X_val)"
   ]
  },
  {
   "cell_type": "markdown",
   "id": "f523e89f",
   "metadata": {},
   "source": [
    "Build a machine learning model using a random forest classifier."
   ]
  },
  {
   "cell_type": "code",
   "execution_count": null,
   "id": "9bc30d75",
   "metadata": {},
   "outputs": [],
   "source": [
    "from sklearn.ensemble import RandomForestClassifier\n",
    "model = RandomForestClassifier()\n",
    "model.fit(X_train_vect, y_train)"
   ]
  },
  {
   "cell_type": "markdown",
   "id": "34510f42",
   "metadata": {},
   "source": [
    "Make predictions on the test data using the trained model."
   ]
  },
  {
   "cell_type": "code",
   "execution_count": null,
   "id": "7d4b04b6",
   "metadata": {},
   "outputs": [],
   "source": [
    "y_pred = model.predict(tfidf.transform(test_data['text']))"
   ]
  },
  {
   "cell_type": "markdown",
   "id": "9ed7e8fd",
   "metadata": {},
   "source": [
    "Prepare the submission file with IDs and predicted labels, and save it as a CSV."
   ]
  },
  {
   "cell_type": "code",
   "execution_count": null,
   "id": "a73bf14d",
   "metadata": {},
   "outputs": [],
   "source": [
    "submission = pd.DataFrame({'id': test_data['id'], 'label': y_pred})\n",
    "submission.to_csv('submission.csv', index=False)"
   ]
  }
 ],
 "metadata": {
  "kernelspec": {
   "display_name": "Python 3",
   "language": "python",
   "name": "python3"
  },
  "language_info": {
   "codemirror_mode": {
    "name": "ipython",
    "version": 3
   },
   "file_extension": ".py",
   "mimetype": "text/x-python",
   "name": "python",
   "nbconvert_exporter": "python",
   "pygments_lexer": "ipython3",
   "version": "3.8.5"
  }
 },
 "nbformat": 4,
 "nbformat_minor": 5
}
