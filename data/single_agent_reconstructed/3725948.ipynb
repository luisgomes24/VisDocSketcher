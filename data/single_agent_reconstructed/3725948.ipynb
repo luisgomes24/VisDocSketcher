{
 "cells": [
  {
   "cell_type": "markdown",
   "id": "4f9c492c",
   "metadata": {},
   "source": [
    "Load the dataset from a CSV file into a Pandas DataFrame."
   ]
  },
  {
   "cell_type": "code",
   "execution_count": null,
   "id": "aa980c24",
   "metadata": {},
   "outputs": [],
   "source": [
    "import pandas as pd\n",
    "data = pd.read_csv('data.csv')"
   ]
  },
  {
   "cell_type": "markdown",
   "id": "b895e0fc",
   "metadata": {},
   "source": [
    "Preprocess the data by removing missing values."
   ]
  },
  {
   "cell_type": "code",
   "execution_count": null,
   "id": "25cf76e2",
   "metadata": {},
   "outputs": [],
   "source": [
    "data = data.dropna().reset_index(drop=True)"
   ]
  },
  {
   "cell_type": "markdown",
   "id": "e0aa1f0f",
   "metadata": {},
   "source": [
    "Analyze symbols by counting occurrences in the dataset."
   ]
  },
  {
   "cell_type": "code",
   "execution_count": null,
   "id": "5cedf8a6",
   "metadata": {},
   "outputs": [],
   "source": [
    "symbol_analysis = data['symbols'].value_counts()"
   ]
  },
  {
   "cell_type": "markdown",
   "id": "7143c0d4",
   "metadata": {},
   "source": [
    "Visualize results using a scatter plot of X and Y values."
   ]
  },
  {
   "cell_type": "code",
   "execution_count": null,
   "id": "3832c313",
   "metadata": {},
   "outputs": [],
   "source": [
    "import matplotlib.pyplot as plt\n",
    "plt.scatter(data['X'], data['Y'])\n",
    "plt.xlabel('X Axis')\n",
    "plt.ylabel('Y Axis')\n",
    "plt.show()"
   ]
  },
  {
   "cell_type": "markdown",
   "id": "c4dbbc3e",
   "metadata": {},
   "source": [
    "Split the dataset into training and testing sets for model building."
   ]
  },
  {
   "cell_type": "code",
   "execution_count": null,
   "id": "b2861e84",
   "metadata": {},
   "outputs": [],
   "source": [
    "from sklearn.model_selection import train_test_split\n",
    "X_train, X_test, y_train, y_test = train_test_split(data[['X']], data['Y'], test_size=0.2)"
   ]
  },
  {
   "cell_type": "markdown",
   "id": "cdee37bb",
   "metadata": {},
   "source": [
    "Build a linear regression model using the training data."
   ]
  },
  {
   "cell_type": "code",
   "execution_count": null,
   "id": "2319d3b0",
   "metadata": {},
   "outputs": [],
   "source": [
    "from sklearn.linear_model import LinearRegression\n",
    "model = LinearRegression()\n",
    "model.fit(X_train, y_train)"
   ]
  },
  {
   "cell_type": "markdown",
   "id": "0d3f93e8",
   "metadata": {},
   "source": [
    "Make predictions on the test set using the trained model."
   ]
  },
  {
   "cell_type": "code",
   "execution_count": null,
   "id": "6ce53e1a",
   "metadata": {},
   "outputs": [],
   "source": [
    "predictions = model.predict(X_test)"
   ]
  },
  {
   "cell_type": "markdown",
   "id": "f84324c2",
   "metadata": {},
   "source": [
    "Evaluate the model performance using Mean Squared Error."
   ]
  },
  {
   "cell_type": "code",
   "execution_count": null,
   "id": "935cc2c8",
   "metadata": {},
   "outputs": [],
   "source": [
    "from sklearn.metrics import mean_squared_error\n",
    "mse = mean_squared_error(y_test, predictions)"
   ]
  }
 ],
 "metadata": {
  "kernelspec": {
   "display_name": "Python 3",
   "language": "python",
   "name": "python3"
  },
  "language_info": {
   "codemirror_mode": {
    "name": "ipython",
    "version": 3
   },
   "file_extension": ".py",
   "mimetype": "text/x-python",
   "name": "python",
   "nbconvert_exporter": "python",
   "pygments_lexer": "ipython3",
   "version": "3.8.5"
  }
 },
 "nbformat": 4,
 "nbformat_minor": 5
}
