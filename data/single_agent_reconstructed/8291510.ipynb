{
 "cells": [
  {
   "cell_type": "markdown",
   "id": "06715c65",
   "metadata": {},
   "source": [
    "Load the dataset using Pandas from a CSV file."
   ]
  },
  {
   "cell_type": "code",
   "execution_count": null,
   "id": "0809e6e8",
   "metadata": {},
   "outputs": [],
   "source": [
    "import pandas as pd\n",
    "df = pd.read_csv('data.csv')"
   ]
  },
  {
   "cell_type": "markdown",
   "id": "99864f76",
   "metadata": {},
   "source": [
    "Preview the first few rows of the DataFrame to understand the data structure."
   ]
  },
  {
   "cell_type": "code",
   "execution_count": null,
   "id": "6db0f4a6",
   "metadata": {},
   "outputs": [],
   "source": [
    "print(df.head())"
   ]
  },
  {
   "cell_type": "markdown",
   "id": "dd2430e0",
   "metadata": {},
   "source": [
    "Create distribution graphs for a specific column using Seaborn."
   ]
  },
  {
   "cell_type": "code",
   "execution_count": null,
   "id": "762ea87a",
   "metadata": {},
   "outputs": [],
   "source": [
    "import matplotlib.pyplot as plt\n",
    "import seaborn as sns\n",
    "sns.histplot(df['column_name'])\n",
    "plt.show()"
   ]
  },
  {
   "cell_type": "markdown",
   "id": "b4ab2693",
   "metadata": {},
   "source": [
    "Compute the correlation matrix and visualize it with a heatmap."
   ]
  },
  {
   "cell_type": "code",
   "execution_count": null,
   "id": "dd8a996e",
   "metadata": {},
   "outputs": [],
   "source": [
    "correlation_matrix = df.corr()\n",
    "sns.heatmap(correlation_matrix, annot=True)\n",
    "plt.show()"
   ]
  },
  {
   "cell_type": "markdown",
   "id": "4580eb9a",
   "metadata": {},
   "source": [
    "Generate a scatter plot to visualize the relationship between two columns."
   ]
  },
  {
   "cell_type": "code",
   "execution_count": null,
   "id": "d3d81d96",
   "metadata": {},
   "outputs": [],
   "source": [
    "sns.scatterplot(data=df, x='column_x', y='column_y')\n",
    "plt.show()"
   ]
  },
  {
   "cell_type": "markdown",
   "id": "645f12b1",
   "metadata": {},
   "source": [
    "Create a density plot to visualize the distribution of a specific column."
   ]
  },
  {
   "cell_type": "code",
   "execution_count": null,
   "id": "9ad6daef",
   "metadata": {},
   "outputs": [],
   "source": [
    "sns.kdeplot(data=df['column_name'], fill=True)\n",
    "plt.show()"
   ]
  }
 ],
 "metadata": {
  "kernelspec": {
   "display_name": "Python 3",
   "language": "python",
   "name": "python3"
  },
  "language_info": {
   "codemirror_mode": {
    "name": "ipython",
    "version": 3
   },
   "file_extension": ".py",
   "mimetype": "text/x-python",
   "name": "python",
   "nbconvert_exporter": "python",
   "pygments_lexer": "ipython3",
   "version": "3.8.5"
  }
 },
 "nbformat": 4,
 "nbformat_minor": 5
}
