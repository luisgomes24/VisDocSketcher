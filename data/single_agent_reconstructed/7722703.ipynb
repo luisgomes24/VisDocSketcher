{
 "cells": [
  {
   "cell_type": "markdown",
   "id": "a938f108",
   "metadata": {},
   "source": [
    "Load the dataset from a CSV file into a DataFrame."
   ]
  },
  {
   "cell_type": "code",
   "execution_count": null,
   "id": "39c80643",
   "metadata": {},
   "outputs": [],
   "source": [
    "import pandas as pd\n",
    "df = pd.read_csv('mff.csv')"
   ]
  },
  {
   "cell_type": "markdown",
   "id": "a14d2f7f",
   "metadata": {},
   "source": [
    "Explore and print the shape of the DataFrame (rows, columns)."
   ]
  },
  {
   "cell_type": "code",
   "execution_count": null,
   "id": "07a29008",
   "metadata": {},
   "outputs": [],
   "source": [
    "data_shape = df.shape\n",
    "print(data_shape)"
   ]
  },
  {
   "cell_type": "markdown",
   "id": "55e9294b",
   "metadata": {},
   "source": [
    "Visualize the distribution of each column in the DataFrame."
   ]
  },
  {
   "cell_type": "code",
   "execution_count": null,
   "id": "5af17d57",
   "metadata": {},
   "outputs": [],
   "source": [
    "import matplotlib.pyplot as plt\n",
    "import seaborn as sns\n",
    "def plotPerColumnDistribution(df):\n",
    "    df.hist(bins=30, figsize=(20, 15))\n",
    "    plt.show()"
   ]
  },
  {
   "cell_type": "markdown",
   "id": "966285ec",
   "metadata": {},
   "source": [
    "Plot and display the correlation matrix of the DataFrame."
   ]
  },
  {
   "cell_type": "code",
   "execution_count": null,
   "id": "bd76e7cf",
   "metadata": {},
   "outputs": [],
   "source": [
    "def plotCorrelationMatrix(df):\n",
    "    correlation_matrix = df.corr()\n",
    "    sns.heatmap(correlation_matrix, annot=True)\n",
    "    plt.show()"
   ]
  },
  {
   "cell_type": "markdown",
   "id": "e42a81ae",
   "metadata": {},
   "source": [
    "Create a scatter and density plot for all pairs of columns."
   ]
  },
  {
   "cell_type": "code",
   "execution_count": null,
   "id": "71a83d13",
   "metadata": {},
   "outputs": [],
   "source": [
    "def plotScatterMatrix(df):\n",
    "    pd.plotting.scatter_matrix(df, figsize=(15, 15))\n",
    "    plt.show()"
   ]
  },
  {
   "cell_type": "markdown",
   "id": "04ad2b7c",
   "metadata": {},
   "source": [
    "Summarize the findings and indicate to fork the notebook for continued work."
   ]
  },
  {
   "cell_type": "code",
   "execution_count": null,
   "id": "7a7d62c5",
   "metadata": {},
   "outputs": [],
   "source": [
    "# Conclusion and next steps\n",
    "# Fork this notebook for further analysis."
   ]
  }
 ],
 "metadata": {
  "kernelspec": {
   "display_name": "Python 3",
   "language": "python",
   "name": "python3"
  },
  "language_info": {
   "codemirror_mode": {
    "name": "ipython",
    "version": 3
   },
   "file_extension": ".py",
   "mimetype": "text/x-python",
   "name": "python",
   "nbconvert_exporter": "python",
   "pygments_lexer": "ipython3",
   "version": "3.8.5"
  }
 },
 "nbformat": 4,
 "nbformat_minor": 5
}
