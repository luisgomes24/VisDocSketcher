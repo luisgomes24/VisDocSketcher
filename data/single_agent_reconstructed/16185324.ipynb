{
 "cells": [
  {
   "cell_type": "markdown",
   "id": "f3257190",
   "metadata": {},
   "source": [
    "Load data from a CSV file into a DataFrame."
   ]
  },
  {
   "cell_type": "code",
   "execution_count": null,
   "id": "64ac27d4",
   "metadata": {},
   "outputs": [],
   "source": [
    "import pandas as pd\n",
    "df = pd.read_csv('data.csv')"
   ]
  },
  {
   "cell_type": "markdown",
   "id": "cc7924c4",
   "metadata": {},
   "source": [
    "Display the first few rows of the DataFrame."
   ]
  },
  {
   "cell_type": "code",
   "execution_count": null,
   "id": "316a9596",
   "metadata": {},
   "outputs": [],
   "source": [
    "df.head()"
   ]
  },
  {
   "cell_type": "markdown",
   "id": "76b406c1",
   "metadata": {},
   "source": [
    "Analyze the counts of each unique value in the 'DeviceProtection' column."
   ]
  },
  {
   "cell_type": "code",
   "execution_count": null,
   "id": "e1aa9c03",
   "metadata": {},
   "outputs": [],
   "source": [
    "df['DeviceProtection'].value_counts()"
   ]
  },
  {
   "cell_type": "markdown",
   "id": "9cd6d7ac",
   "metadata": {},
   "source": [
    "Perform a dependent analysis by grouping by 'MultipleLines' and counting 'Dependents'."
   ]
  },
  {
   "cell_type": "code",
   "execution_count": null,
   "id": "e3c16e43",
   "metadata": {},
   "outputs": [],
   "source": [
    "df.groupby(['MultipleLines'])['Dependents'].value_counts()"
   ]
  },
  {
   "cell_type": "markdown",
   "id": "b48597ee",
   "metadata": {},
   "source": [
    "Analyze streaming preferences by grouping 'StreamingTV' and 'StreamingMovies' with counts of 'DeviceProtection'."
   ]
  },
  {
   "cell_type": "code",
   "execution_count": null,
   "id": "1bd54ac9",
   "metadata": {},
   "outputs": [],
   "source": [
    "df.groupby(['StreamingTV', 'StreamingMovies'])['DeviceProtection'].value_counts()"
   ]
  },
  {
   "cell_type": "markdown",
   "id": "81f4c026",
   "metadata": {},
   "source": [
    "Analyze the counts of each unique value in the 'PaperlessBilling' column."
   ]
  },
  {
   "cell_type": "code",
   "execution_count": null,
   "id": "1bc078cb",
   "metadata": {},
   "outputs": [],
   "source": [
    "df['PaperlessBilling'].value_counts()"
   ]
  },
  {
   "cell_type": "markdown",
   "id": "931f0bba",
   "metadata": {},
   "source": [
    "Perform analysis on senior citizen counts based on 'PaperlessBilling'."
   ]
  },
  {
   "cell_type": "code",
   "execution_count": null,
   "id": "2e15d038",
   "metadata": {},
   "outputs": [],
   "source": [
    "df.groupby(['PaperlessBilling'])['SeniorCitizen'].value_counts()"
   ]
  },
  {
   "cell_type": "markdown",
   "id": "eeffa09b",
   "metadata": {},
   "source": [
    "Analyze tech support availability by grouping with 'DeviceProtection'."
   ]
  },
  {
   "cell_type": "code",
   "execution_count": null,
   "id": "47afb578",
   "metadata": {},
   "outputs": [],
   "source": [
    "df.groupby(['DeviceProtection'])['TechSupport'].value_counts()"
   ]
  }
 ],
 "metadata": {
  "kernelspec": {
   "display_name": "Python 3",
   "language": "python",
   "name": "python3"
  },
  "language_info": {
   "codemirror_mode": {
    "name": "ipython",
    "version": 3
   },
   "file_extension": ".py",
   "mimetype": "text/x-python",
   "name": "python",
   "nbconvert_exporter": "python",
   "pygments_lexer": "ipython3",
   "version": "3.8.5"
  }
 },
 "nbformat": 4,
 "nbformat_minor": 5
}
