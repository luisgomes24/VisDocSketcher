{
 "cells": [
  {
   "cell_type": "markdown",
   "id": "d6d03da4",
   "metadata": {},
   "source": [
    "Load the training, testing, and sample submission datasets using pandas."
   ]
  },
  {
   "cell_type": "code",
   "execution_count": null,
   "id": "4185c2db",
   "metadata": {},
   "outputs": [],
   "source": [
    "import pandas as pd\n",
    "train = pd.read_csv('train.csv')\n",
    "test = pd.read_csv('test.csv')\n",
    "sample_submission = pd.read_csv('sample_submission.csv')"
   ]
  },
  {
   "cell_type": "markdown",
   "id": "1d7fb101",
   "metadata": {},
   "source": [
    "Preprocess the data by filling missing values and encoding categorical variables."
   ]
  },
  {
   "cell_type": "code",
   "execution_count": null,
   "id": "721930d5",
   "metadata": {},
   "outputs": [],
   "source": [
    "# Handle missing values and encode categorical variables\n",
    "def preprocess_data(df):\n",
    "    df.fillna(df.mean(), inplace=True)\n",
    "    df = pd.get_dummies(df)\n",
    "    return df\n",
    "train = preprocess_data(train)\n",
    "test = preprocess_data(test)"
   ]
  },
  {
   "cell_type": "markdown",
   "id": "c49b7870",
   "metadata": {},
   "source": [
    "Scale the features using standard scaling to bring them to a standard range."
   ]
  },
  {
   "cell_type": "code",
   "execution_count": null,
   "id": "f86d6382",
   "metadata": {},
   "outputs": [],
   "source": [
    "from sklearn.preprocessing import StandardScaler\n",
    "scaler = StandardScaler()\n",
    "train_scaled = scaler.fit_transform(train)\n",
    "test_scaled = scaler.transform(test)"
   ]
  },
  {
   "cell_type": "markdown",
   "id": "278d2247",
   "metadata": {},
   "source": [
    "Reshape the data for modeling by separating features and target variable."
   ]
  },
  {
   "cell_type": "code",
   "execution_count": null,
   "id": "ec75130b",
   "metadata": {},
   "outputs": [],
   "source": [
    "import numpy as np\n",
    "X = train_scaled[:, :-1]\n",
    "y = train_scaled[:, -1].reshape(-1, 1)"
   ]
  },
  {
   "cell_type": "markdown",
   "id": "21d7723d",
   "metadata": {},
   "source": [
    "Define the model using Linear Regression."
   ]
  },
  {
   "cell_type": "code",
   "execution_count": null,
   "id": "07640463",
   "metadata": {},
   "outputs": [],
   "source": [
    "from sklearn.linear_model import LinearRegression\n",
    "model = LinearRegression()"
   ]
  },
  {
   "cell_type": "markdown",
   "id": "0b6a4671",
   "metadata": {},
   "source": [
    "Train the model using the training data."
   ]
  },
  {
   "cell_type": "code",
   "execution_count": null,
   "id": "e922638a",
   "metadata": {},
   "outputs": [],
   "source": [
    "model.fit(X, y)"
   ]
  },
  {
   "cell_type": "markdown",
   "id": "85b3cf91",
   "metadata": {},
   "source": [
    "Plot metrics to visualize the performance of the model."
   ]
  },
  {
   "cell_type": "code",
   "execution_count": null,
   "id": "e3e0bb5f",
   "metadata": {},
   "outputs": [],
   "source": [
    "import matplotlib.pyplot as plt\n",
    "predictions = model.predict(X)\n",
    "plt.plot(y, label='Ground Truth')\n",
    "plt.plot(predictions, label='Predicted')\n",
    "plt.legend()\n",
    "plt.show()"
   ]
  },
  {
   "cell_type": "markdown",
   "id": "4a4ebf7d",
   "metadata": {},
   "source": [
    "Prepare and save the submission file with predictions."
   ]
  },
  {
   "cell_type": "code",
   "execution_count": null,
   "id": "2c06b669",
   "metadata": {},
   "outputs": [],
   "source": [
    "submission = pd.DataFrame({'Id': test['Id'], 'Prediction': model.predict(test_scaled)})\n",
    "submission.to_csv('submission.csv', index=False)"
   ]
  },
  {
   "cell_type": "markdown",
   "id": "ce1524f4",
   "metadata": {},
   "source": [
    "Compare predictions against ground truth using a scatter plot."
   ]
  },
  {
   "cell_type": "code",
   "execution_count": null,
   "id": "120c405c",
   "metadata": {},
   "outputs": [],
   "source": [
    "import seaborn as sns\n",
    "sns.scatterplot(x=y.flatten(), y=predictions)\n",
    "plt.xlabel('Ground Truth')\n",
    "plt.ylabel('Predicted')\n",
    "plt.title('Ground Truth vs Predicted')\n",
    "plt.show()"
   ]
  }
 ],
 "metadata": {
  "kernelspec": {
   "display_name": "Python 3",
   "language": "python",
   "name": "python3"
  },
  "language_info": {
   "codemirror_mode": {
    "name": "ipython",
    "version": 3
   },
   "file_extension": ".py",
   "mimetype": "text/x-python",
   "name": "python",
   "nbconvert_exporter": "python",
   "pygments_lexer": "ipython3",
   "version": "3.8.5"
  }
 },
 "nbformat": 4,
 "nbformat_minor": 5
}
