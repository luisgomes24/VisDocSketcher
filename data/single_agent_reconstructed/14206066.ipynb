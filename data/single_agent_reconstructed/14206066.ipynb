{
 "cells": [
  {
   "cell_type": "markdown",
   "id": "035d22b2",
   "metadata": {},
   "source": [
    "Load data from a CSV file into a pandas DataFrame."
   ]
  },
  {
   "cell_type": "code",
   "execution_count": null,
   "id": "63c953c9",
   "metadata": {},
   "outputs": [],
   "source": [
    "import pandas as pd\n",
    "data = pd.read_csv('data.csv')"
   ]
  },
  {
   "cell_type": "markdown",
   "id": "24b9ac4f",
   "metadata": {},
   "source": [
    "Preprocess and augment the data to enhance the dataset."
   ]
  },
  {
   "cell_type": "code",
   "execution_count": null,
   "id": "24b9b124",
   "metadata": {},
   "outputs": [],
   "source": [
    "from keras.preprocessing.image import ImageDataGenerator\n",
    "datagen = ImageDataGenerator(rescale=1./255, rotation_range=20, width_shift_range=0.2, height_shift_range=0.2, shear_range=0.2, zoom_range=0.2, horizontal_flip=True)\n",
    "augmented_data = datagen.flow(data)"
   ]
  },
  {
   "cell_type": "markdown",
   "id": "c65b68d0",
   "metadata": {},
   "source": [
    "Split the augmented data into training, validation, and test datasets."
   ]
  },
  {
   "cell_type": "code",
   "execution_count": null,
   "id": "86ea7f99",
   "metadata": {},
   "outputs": [],
   "source": [
    "train_data, val_data, test_data = np.split(augmented_data, [int(.8 * len(augmented_data)), int(.9 * len(augmented_data))])"
   ]
  },
  {
   "cell_type": "markdown",
   "id": "1f4925c9",
   "metadata": {},
   "source": [
    "Create a training dataset by splitting the original dataset."
   ]
  },
  {
   "cell_type": "code",
   "execution_count": null,
   "id": "736a8922",
   "metadata": {},
   "outputs": [],
   "source": [
    "from sklearn.model_selection import train_test_split\n",
    "train_data, val_data = train_test_split(data, test_size=0.2)"
   ]
  },
  {
   "cell_type": "markdown",
   "id": "742dcabb",
   "metadata": {},
   "source": [
    "Create a test dataset from the remaining data."
   ]
  },
  {
   "cell_type": "code",
   "execution_count": null,
   "id": "8acc3ca6",
   "metadata": {},
   "outputs": [],
   "source": [
    "test_data = data[len(train_data) + len(val_data):]"
   ]
  },
  {
   "cell_type": "markdown",
   "id": "c5f55345",
   "metadata": {},
   "source": [
    "Build and compile a CNN model for the training process."
   ]
  },
  {
   "cell_type": "code",
   "execution_count": null,
   "id": "b4347617",
   "metadata": {},
   "outputs": [],
   "source": [
    "from keras.models import Sequential\n",
    "from keras.layers import Dense, Conv2D, Flatten\n",
    "model = Sequential()\n",
    "model.add(Conv2D(32, (3, 3), activation='relu', input_shape=(IMG_HEIGHT, IMG_WIDTH, 3)))\n",
    "model.add(Flatten())\n",
    "model.add(Dense(1, activation='sigmoid'))"
   ]
  },
  {
   "cell_type": "markdown",
   "id": "ee10c086",
   "metadata": {},
   "source": [
    "Compile the model with an optimizer and loss function."
   ]
  },
  {
   "cell_type": "code",
   "execution_count": null,
   "id": "bb24a131",
   "metadata": {},
   "outputs": [],
   "source": [
    "model.compile(optimizer='adam', loss='binary_crossentropy', metrics=['accuracy'])"
   ]
  },
  {
   "cell_type": "markdown",
   "id": "d1fd3c03",
   "metadata": {},
   "source": [
    "Train the model using the training and validation datasets."
   ]
  },
  {
   "cell_type": "code",
   "execution_count": null,
   "id": "556dd094",
   "metadata": {},
   "outputs": [],
   "source": [
    "history = model.fit(train_data, validation_data=val_data, epochs=10)"
   ]
  },
  {
   "cell_type": "markdown",
   "id": "74a85b0b",
   "metadata": {},
   "source": [
    "Plot the training and validation accuracy metrics."
   ]
  },
  {
   "cell_type": "code",
   "execution_count": null,
   "id": "6110a561",
   "metadata": {},
   "outputs": [],
   "source": [
    "import matplotlib.pyplot as plt\n",
    "plt.plot(history.history['accuracy'])\n",
    "plt.plot(history.history['val_accuracy'])\n",
    "plt.title('Model Accuracy')\n",
    "plt.ylabel('Accuracy')\n",
    "plt.xlabel('Epoch')\n",
    "plt.legend(['Train', 'Validation'], loc='upper left')\n",
    "plt.show()"
   ]
  },
  {
   "cell_type": "markdown",
   "id": "7bb6be91",
   "metadata": {},
   "source": [
    "Evaluate the model on the test dataset to assess performance."
   ]
  },
  {
   "cell_type": "code",
   "execution_count": null,
   "id": "c67f497c",
   "metadata": {},
   "outputs": [],
   "source": [
    "test_loss, test_acc = model.evaluate(test_data)"
   ]
  },
  {
   "cell_type": "markdown",
   "id": "dde11b5e",
   "metadata": {},
   "source": [
    "Print the final accuracy metrics of the model."
   ]
  },
  {
   "cell_type": "code",
   "execution_count": null,
   "id": "08e8611f",
   "metadata": {},
   "outputs": [],
   "source": [
    "print(f'Final Test Accuracy: {test_acc}')"
   ]
  }
 ],
 "metadata": {
  "kernelspec": {
   "display_name": "Python 3",
   "language": "python",
   "name": "python3"
  },
  "language_info": {
   "codemirror_mode": {
    "name": "ipython",
    "version": 3
   },
   "file_extension": ".py",
   "mimetype": "text/x-python",
   "name": "python",
   "nbconvert_exporter": "python",
   "pygments_lexer": "ipython3",
   "version": "3.8.5"
  }
 },
 "nbformat": 4,
 "nbformat_minor": 5
}
