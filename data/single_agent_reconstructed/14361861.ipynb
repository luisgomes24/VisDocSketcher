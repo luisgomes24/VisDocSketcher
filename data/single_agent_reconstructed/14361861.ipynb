{
 "cells": [
  {
   "cell_type": "markdown",
   "id": "c270702c",
   "metadata": {},
   "source": [
    "Load the dataset using pandas."
   ]
  },
  {
   "cell_type": "code",
   "execution_count": null,
   "id": "49973ede",
   "metadata": {},
   "outputs": [],
   "source": [
    "import pandas as pd\n",
    "\n",
    "data = pd.read_csv('data.csv')"
   ]
  },
  {
   "cell_type": "markdown",
   "id": "d99d578f",
   "metadata": {},
   "source": [
    "Inspect the first few rows of the dataset."
   ]
  },
  {
   "cell_type": "code",
   "execution_count": null,
   "id": "c9eb72a0",
   "metadata": {},
   "outputs": [],
   "source": [
    "data.head()"
   ]
  },
  {
   "cell_type": "markdown",
   "id": "093e0edf",
   "metadata": {},
   "source": [
    "Preprocess the data by handling missing values and converting data types."
   ]
  },
  {
   "cell_type": "code",
   "execution_count": null,
   "id": "ebc25f75",
   "metadata": {},
   "outputs": [],
   "source": [
    "data.dropna(inplace=True)\n",
    "data['column'] = data['column'].astype('category')"
   ]
  },
  {
   "cell_type": "markdown",
   "id": "5c8c23f4",
   "metadata": {},
   "source": [
    "Visualize the data using a histogram."
   ]
  },
  {
   "cell_type": "code",
   "execution_count": null,
   "id": "ea722583",
   "metadata": {},
   "outputs": [],
   "source": [
    "import matplotlib.pyplot as plt\n",
    "plt.hist(data['column'])\n",
    "plt.show()"
   ]
  },
  {
   "cell_type": "markdown",
   "id": "14e547aa",
   "metadata": {},
   "source": [
    "Define features and target, and split the data into training and testing sets."
   ]
  },
  {
   "cell_type": "code",
   "execution_count": null,
   "id": "fbdc0a14",
   "metadata": {},
   "outputs": [],
   "source": [
    "from sklearn.model_selection import train_test_split\n",
    "X, y = data.drop('target', axis=1), data['target']\n",
    "X_train, X_test, y_train, y_test = train_test_split(X, y, test_size=0.2, random_state=42)"
   ]
  },
  {
   "cell_type": "markdown",
   "id": "860a0ac2",
   "metadata": {},
   "source": [
    "Define the model (a linear regression model in this case)."
   ]
  },
  {
   "cell_type": "code",
   "execution_count": null,
   "id": "1bf79577",
   "metadata": {},
   "outputs": [],
   "source": [
    "from sklearn.linear_model import LinearRegression\n",
    "model = LinearRegression()"
   ]
  },
  {
   "cell_type": "markdown",
   "id": "998acd37",
   "metadata": {},
   "source": [
    "Train the model using the training data."
   ]
  },
  {
   "cell_type": "code",
   "execution_count": null,
   "id": "e238819c",
   "metadata": {},
   "outputs": [],
   "source": [
    "model.fit(X_train, y_train)"
   ]
  },
  {
   "cell_type": "markdown",
   "id": "3c5edc32",
   "metadata": {},
   "source": [
    "Evaluate the model using Mean Squared Error on the test set."
   ]
  },
  {
   "cell_type": "code",
   "execution_count": null,
   "id": "3fbfa976",
   "metadata": {},
   "outputs": [],
   "source": [
    "predictions = model.predict(X_test)\n",
    "from sklearn.metrics import mean_squared_error\n",
    "mse = mean_squared_error(y_test, predictions)"
   ]
  },
  {
   "cell_type": "markdown",
   "id": "47a39058",
   "metadata": {},
   "source": [
    "Save the trained model for future use."
   ]
  },
  {
   "cell_type": "code",
   "execution_count": null,
   "id": "2cda5384",
   "metadata": {},
   "outputs": [],
   "source": [
    "import joblib\n",
    "joblib.dump(model, 'model.pkl')"
   ]
  },
  {
   "cell_type": "markdown",
   "id": "d6a9048a",
   "metadata": {},
   "source": [
    "Load the saved model and test it with the test dataset."
   ]
  },
  {
   "cell_type": "code",
   "execution_count": null,
   "id": "11822a62",
   "metadata": {},
   "outputs": [],
   "source": [
    "loaded_model = joblib.load('model.pkl')\n",
    "test_predictions = loaded_model.predict(X_test)"
   ]
  }
 ],
 "metadata": {
  "kernelspec": {
   "display_name": "Python 3",
   "language": "python",
   "name": "python3"
  },
  "language_info": {
   "codemirror_mode": {
    "name": "ipython",
    "version": 3
   },
   "file_extension": ".py",
   "mimetype": "text/x-python",
   "name": "python",
   "nbconvert_exporter": "python",
   "pygments_lexer": "ipython3",
   "version": "3.8.5"
  }
 },
 "nbformat": 4,
 "nbformat_minor": 5
}
