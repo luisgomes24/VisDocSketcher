{
 "cells": [
  {
   "cell_type": "markdown",
   "id": "65a04e5d",
   "metadata": {},
   "source": [
    "Load the dataset from a CSV file."
   ]
  },
  {
   "cell_type": "code",
   "execution_count": null,
   "id": "9a5b280a",
   "metadata": {},
   "outputs": [],
   "source": [
    "import pandas as pd\n",
    "\n",
    "data = pd.read_csv('data.csv')"
   ]
  },
  {
   "cell_type": "markdown",
   "id": "7f0f503b",
   "metadata": {},
   "source": [
    "Explore the data to understand its structure and summary statistics."
   ]
  },
  {
   "cell_type": "code",
   "execution_count": null,
   "id": "4a73e1a1",
   "metadata": {},
   "outputs": [],
   "source": [
    "print(data.describe())\n",
    "print(data.info())"
   ]
  },
  {
   "cell_type": "markdown",
   "id": "4212ffcc",
   "metadata": {},
   "source": [
    "Define the target variable, which is the Reading Ease score."
   ]
  },
  {
   "cell_type": "code",
   "execution_count": null,
   "id": "a41d5dd9",
   "metadata": {},
   "outputs": [],
   "source": [
    "target = data['reading_ease']"
   ]
  },
  {
   "cell_type": "markdown",
   "id": "f9b3486e",
   "metadata": {},
   "source": [
    "Calculate the standard error of the dataset."
   ]
  },
  {
   "cell_type": "code",
   "execution_count": null,
   "id": "f91882c0",
   "metadata": {},
   "outputs": [],
   "source": [
    "standard_error = data.std()"
   ]
  },
  {
   "cell_type": "markdown",
   "id": "38234900",
   "metadata": {},
   "source": [
    "Visualize the relationship between Standard Error and Reading Ease."
   ]
  },
  {
   "cell_type": "code",
   "execution_count": null,
   "id": "03f71837",
   "metadata": {},
   "outputs": [],
   "source": [
    "import matplotlib.pyplot as plt\n",
    "plt.scatter(standard_error, target)\n",
    "plt.title('Standard Error vs Target')\n",
    "plt.xlabel('Standard Error')\n",
    "plt.ylabel('Reading Ease')\n",
    "plt.show()"
   ]
  },
  {
   "cell_type": "markdown",
   "id": "b9cddc08",
   "metadata": {},
   "source": [
    "Extract the lengths of each excerpt in the dataset."
   ]
  },
  {
   "cell_type": "code",
   "execution_count": null,
   "id": "0cafbbd9",
   "metadata": {},
   "outputs": [],
   "source": [
    "excerpt_length = data['excerpt_length']"
   ]
  },
  {
   "cell_type": "markdown",
   "id": "e5894f22",
   "metadata": {},
   "source": [
    "Visualize the relationship between Excerpt Length and Reading Ease."
   ]
  },
  {
   "cell_type": "code",
   "execution_count": null,
   "id": "7d13aae4",
   "metadata": {},
   "outputs": [],
   "source": [
    "plt.scatter(excerpt_length, target)\n",
    "plt.title('Excerpt Length vs Target')\n",
    "plt.xlabel('Excerpt Length')\n",
    "plt.ylabel('Reading Ease')\n",
    "plt.show()"
   ]
  },
  {
   "cell_type": "markdown",
   "id": "096a3064",
   "metadata": {},
   "source": [
    "Extract the word count for each entry in the dataset."
   ]
  },
  {
   "cell_type": "code",
   "execution_count": null,
   "id": "b045bc10",
   "metadata": {},
   "outputs": [],
   "source": [
    "word_count = data['word_count']"
   ]
  },
  {
   "cell_type": "markdown",
   "id": "d5daf0ac",
   "metadata": {},
   "source": [
    "Visualize the relationship between Word Count and Reading Ease."
   ]
  },
  {
   "cell_type": "code",
   "execution_count": null,
   "id": "c886f316",
   "metadata": {},
   "outputs": [],
   "source": [
    "plt.scatter(word_count, target)\n",
    "plt.title('Word Count vs Target')\n",
    "plt.xlabel('Word Count')\n",
    "plt.ylabel('Reading Ease')\n",
    "plt.show()"
   ]
  }
 ],
 "metadata": {
  "kernelspec": {
   "display_name": "Python 3",
   "language": "python",
   "name": "python3"
  },
  "language_info": {
   "codemirror_mode": {
    "name": "ipython",
    "version": 3
   },
   "file_extension": ".py",
   "mimetype": "text/x-python",
   "name": "python",
   "nbconvert_exporter": "python",
   "pygments_lexer": "ipython3",
   "version": "3.8.5"
  }
 },
 "nbformat": 4,
 "nbformat_minor": 5
}
