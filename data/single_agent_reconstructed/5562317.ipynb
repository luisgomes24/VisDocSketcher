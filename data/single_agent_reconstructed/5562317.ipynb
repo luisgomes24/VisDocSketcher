{
 "cells": [
  {
   "cell_type": "markdown",
   "id": "22052dd3",
   "metadata": {},
   "source": [
    "Load the credit data from a CSV file using pandas."
   ]
  },
  {
   "cell_type": "code",
   "execution_count": null,
   "id": "ed3b7fc7",
   "metadata": {},
   "outputs": [],
   "source": [
    "import pandas as pd\n",
    "\n",
    "# Load credit data\n",
    "credit_data = pd.read_csv('credit_data.csv')"
   ]
  },
  {
   "cell_type": "markdown",
   "id": "fd29ad32",
   "metadata": {},
   "source": [
    "Inspect the shape of the data to understand its dimensions."
   ]
  },
  {
   "cell_type": "code",
   "execution_count": null,
   "id": "cea75c14",
   "metadata": {},
   "outputs": [],
   "source": [
    "print(credit_data.shape)"
   ]
  },
  {
   "cell_type": "markdown",
   "id": "94c51bd9",
   "metadata": {},
   "source": [
    "Generate summary statistics for the dataset."
   ]
  },
  {
   "cell_type": "code",
   "execution_count": null,
   "id": "3f267fda",
   "metadata": {},
   "outputs": [],
   "source": [
    "print(credit_data.describe())"
   ]
  },
  {
   "cell_type": "markdown",
   "id": "f640289a",
   "metadata": {},
   "source": [
    "Perform data cleansing by removing rows with missing values."
   ]
  },
  {
   "cell_type": "code",
   "execution_count": null,
   "id": "e21cee12",
   "metadata": {},
   "outputs": [],
   "source": [
    "credit_data = credit_data.dropna()"
   ]
  },
  {
   "cell_type": "markdown",
   "id": "dc644d99",
   "metadata": {},
   "source": [
    "Check for missing values in the dataset."
   ]
  },
  {
   "cell_type": "code",
   "execution_count": null,
   "id": "21ebe363",
   "metadata": {},
   "outputs": [],
   "source": [
    "missing_values = credit_data.isnull().sum()"
   ]
  },
  {
   "cell_type": "markdown",
   "id": "49e5e81b",
   "metadata": {},
   "source": [
    "Drop any unused columns from the data."
   ]
  },
  {
   "cell_type": "code",
   "execution_count": null,
   "id": "c5b1b027",
   "metadata": {},
   "outputs": [],
   "source": [
    "credit_data = credit_data.drop(columns=['unused_column'])"
   ]
  },
  {
   "cell_type": "markdown",
   "id": "6328b661",
   "metadata": {},
   "source": [
    "Fill missing values with the mean of each column."
   ]
  },
  {
   "cell_type": "code",
   "execution_count": null,
   "id": "82bd4cd7",
   "metadata": {},
   "outputs": [],
   "source": [
    "credit_data.fillna(credit_data.mean(), inplace=True)"
   ]
  },
  {
   "cell_type": "markdown",
   "id": "88921cae",
   "metadata": {},
   "source": [
    "Check for outliers in a specified column."
   ]
  },
  {
   "cell_type": "code",
   "execution_count": null,
   "id": "70302a7d",
   "metadata": {},
   "outputs": [],
   "source": [
    "outliers = credit_data[credit_data['column_name'] > threshold]"
   ]
  },
  {
   "cell_type": "markdown",
   "id": "541fd263",
   "metadata": {},
   "source": [
    "Visualize insights using pair plots to see relationships."
   ]
  },
  {
   "cell_type": "code",
   "execution_count": null,
   "id": "5e4977fa",
   "metadata": {},
   "outputs": [],
   "source": [
    "import seaborn as sns\n",
    "import matplotlib.pyplot as plt\n",
    "sns.pairplot(credit_data)\n",
    "plt.show()"
   ]
  },
  {
   "cell_type": "markdown",
   "id": "e1cf3515",
   "metadata": {},
   "source": [
    "Analyze demographics by grouping data by age and gender."
   ]
  },
  {
   "cell_type": "code",
   "execution_count": null,
   "id": "d3b95726",
   "metadata": {},
   "outputs": [],
   "source": [
    "age_gender_analysis = credit_data[['age', 'gender']].groupby(['age', 'gender']).size().reset_index(name='counts')"
   ]
  },
  {
   "cell_type": "markdown",
   "id": "06f6d57a",
   "metadata": {},
   "source": [
    "Plot the distribution of the 'duration' variable."
   ]
  },
  {
   "cell_type": "code",
   "execution_count": null,
   "id": "66355a0b",
   "metadata": {},
   "outputs": [],
   "source": [
    "sns.histplot(credit_data['duration'])\n",
    "plt.title('Distribution of Duration')\n",
    "plt.show()"
   ]
  },
  {
   "cell_type": "markdown",
   "id": "66dd613c",
   "metadata": {},
   "source": [
    "Visualize credit amounts based on saving account types."
   ]
  },
  {
   "cell_type": "code",
   "execution_count": null,
   "id": "9729fbaa",
   "metadata": {},
   "outputs": [],
   "source": [
    "sns.boxplot(x='saving_account', y='credit_amount', data=credit_data)\n",
    "plt.title('Credit Amount by Saving Account')\n",
    "plt.show()"
   ]
  },
  {
   "cell_type": "markdown",
   "id": "aa8d419e",
   "metadata": {},
   "source": [
    "Visualize the purpose of credit based on saving accounts."
   ]
  },
  {
   "cell_type": "code",
   "execution_count": null,
   "id": "378274d7",
   "metadata": {},
   "outputs": [],
   "source": [
    "sns.boxplot(x='saving_account', y='purpose_of_credit', data=credit_data)\n",
    "plt.title('Purpose of Credit by Saving Account')\n",
    "plt.show()"
   ]
  },
  {
   "cell_type": "markdown",
   "id": "8db739aa",
   "metadata": {},
   "source": [
    "Create a heatmap to visualize the correlation between features."
   ]
  },
  {
   "cell_type": "code",
   "execution_count": null,
   "id": "c09ed107",
   "metadata": {},
   "outputs": [],
   "source": [
    "correlation_matrix = credit_data.corr()\n",
    "sns.heatmap(correlation_matrix, annot=True)\n",
    "plt.title('Heatmap of Correlation')\n",
    "plt.show()"
   ]
  }
 ],
 "metadata": {
  "kernelspec": {
   "display_name": "Python 3",
   "language": "python",
   "name": "python3"
  },
  "language_info": {
   "codemirror_mode": {
    "name": "ipython",
    "version": 3
   },
   "file_extension": ".py",
   "mimetype": "text/x-python",
   "name": "python",
   "nbconvert_exporter": "python",
   "pygments_lexer": "ipython3",
   "version": "3.8.5"
  }
 },
 "nbformat": 4,
 "nbformat_minor": 5
}
