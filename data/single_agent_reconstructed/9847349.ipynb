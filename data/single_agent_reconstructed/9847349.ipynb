{
 "cells": [
  {
   "cell_type": "markdown",
   "id": "7cff9ab1",
   "metadata": {},
   "source": [
    "Load the dataset from a CSV file."
   ]
  },
  {
   "cell_type": "code",
   "execution_count": null,
   "id": "362fc6e3",
   "metadata": {},
   "outputs": [],
   "source": [
    "import pandas as pd\n",
    "\n",
    "data = pd.read_csv('data.csv')"
   ]
  },
  {
   "cell_type": "markdown",
   "id": "37eb8e25",
   "metadata": {},
   "source": [
    "Get a summary overview of the dataset."
   ]
  },
  {
   "cell_type": "code",
   "execution_count": null,
   "id": "65f01968",
   "metadata": {},
   "outputs": [],
   "source": [
    "data.info()"
   ]
  },
  {
   "cell_type": "markdown",
   "id": "2de6e58d",
   "metadata": {},
   "source": [
    "Add a new column for the year extracted from the date."
   ]
  },
  {
   "cell_type": "code",
   "execution_count": null,
   "id": "f047146e",
   "metadata": {},
   "outputs": [],
   "source": [
    "data['Year'] = pd.to_datetime(data['Date']).dt.year"
   ]
  },
  {
   "cell_type": "markdown",
   "id": "0e76f6bc",
   "metadata": {},
   "source": [
    "Explore the distribution of gender in the dataset."
   ]
  },
  {
   "cell_type": "code",
   "execution_count": null,
   "id": "448e69e0",
   "metadata": {},
   "outputs": [],
   "source": [
    "gender_data = data['Gender'].value_counts()"
   ]
  },
  {
   "cell_type": "markdown",
   "id": "5dab189e",
   "metadata": {},
   "source": [
    "Visualize gender distribution using a bar chart."
   ]
  },
  {
   "cell_type": "code",
   "execution_count": null,
   "id": "aed26efb",
   "metadata": {},
   "outputs": [],
   "source": [
    "gender_data.plot(kind='bar')"
   ]
  },
  {
   "cell_type": "markdown",
   "id": "dd542c4f",
   "metadata": {},
   "source": [
    "Analyze gender trends over the years."
   ]
  },
  {
   "cell_type": "code",
   "execution_count": null,
   "id": "cd1cf163",
   "metadata": {},
   "outputs": [],
   "source": [
    "trends = data.groupby('Year')['Gender'].value_counts().unstack()"
   ]
  },
  {
   "cell_type": "markdown",
   "id": "de0c8455",
   "metadata": {},
   "source": [
    "Explore the distribution of racial demographics."
   ]
  },
  {
   "cell_type": "code",
   "execution_count": null,
   "id": "901b7abb",
   "metadata": {},
   "outputs": [],
   "source": [
    "racial_data = data['Race'].value_counts()"
   ]
  },
  {
   "cell_type": "markdown",
   "id": "d46cb163",
   "metadata": {},
   "source": [
    "Visualize racial distribution using a bar chart."
   ]
  },
  {
   "cell_type": "code",
   "execution_count": null,
   "id": "cb2bb829",
   "metadata": {},
   "outputs": [],
   "source": [
    "racial_data.plot(kind='bar')"
   ]
  },
  {
   "cell_type": "markdown",
   "id": "4db775c9",
   "metadata": {},
   "source": [
    "Analyze racial trends over the years."
   ]
  },
  {
   "cell_type": "code",
   "execution_count": null,
   "id": "24b0ec4b",
   "metadata": {},
   "outputs": [],
   "source": [
    "racial_trends = data.groupby('Year')['Race'].value_counts().unstack()"
   ]
  },
  {
   "cell_type": "markdown",
   "id": "f13af456",
   "metadata": {},
   "source": [
    "Calculate state populations for geographic distribution."
   ]
  },
  {
   "cell_type": "code",
   "execution_count": null,
   "id": "01183ed1",
   "metadata": {},
   "outputs": [],
   "source": [
    "geo_distribution = data.groupby('State')['Population'].sum()"
   ]
  },
  {
   "cell_type": "markdown",
   "id": "dac7d26b",
   "metadata": {},
   "source": [
    "Compute deaths per 100,000 based on population."
   ]
  },
  {
   "cell_type": "code",
   "execution_count": null,
   "id": "c542e57d",
   "metadata": {},
   "outputs": [],
   "source": [
    "deaths_per_100k = (data['Deaths'] / data['Population']) * 100000"
   ]
  }
 ],
 "metadata": {
  "kernelspec": {
   "display_name": "Python 3",
   "language": "python",
   "name": "python3"
  },
  "language_info": {
   "codemirror_mode": {
    "name": "ipython",
    "version": 3
   },
   "file_extension": ".py",
   "mimetype": "text/x-python",
   "name": "python",
   "nbconvert_exporter": "python",
   "pygments_lexer": "ipython3",
   "version": "3.8.5"
  }
 },
 "nbformat": 4,
 "nbformat_minor": 5
}
