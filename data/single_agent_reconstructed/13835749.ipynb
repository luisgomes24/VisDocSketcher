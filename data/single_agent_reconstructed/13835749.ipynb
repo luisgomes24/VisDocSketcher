{
 "cells": [
  {
   "cell_type": "markdown",
   "id": "a80b216a",
   "metadata": {},
   "source": [
    "Load images from a specified directory using the Pillow library."
   ]
  },
  {
   "cell_type": "code",
   "execution_count": null,
   "id": "c42019eb",
   "metadata": {},
   "outputs": [],
   "source": [
    "import os\n",
    "from PIL import Image\n",
    "\n",
    "# Load images from a directory\n",
    "def load_images(directory):\n",
    "    images = []\n",
    "    for filename in os.listdir(directory):\n",
    "        if filename.endswith('.jpg') or filename.endswith('.png'):\n",
    "            img = Image.open(os.path.join(directory, filename))\n",
    "            images.append(img)\n",
    "    return images"
   ]
  },
  {
   "cell_type": "markdown",
   "id": "11a3b7fb",
   "metadata": {},
   "source": [
    "Convert loaded images to NumPy arrays for further processing."
   ]
  },
  {
   "cell_type": "code",
   "execution_count": null,
   "id": "45bf01c5",
   "metadata": {},
   "outputs": [],
   "source": [
    "import numpy as np\n",
    "\n",
    "# Prepare dataset, for example, converting images to arrays\n",
    "def prepare_dataset(images):\n",
    "    return [np.array(img) for img in images]"
   ]
  },
  {
   "cell_type": "markdown",
   "id": "630b0c58",
   "metadata": {},
   "source": [
    "Encode categorical labels into a numerical format using Label Encoding."
   ]
  },
  {
   "cell_type": "code",
   "execution_count": null,
   "id": "069dc296",
   "metadata": {},
   "outputs": [],
   "source": [
    "from sklearn.preprocessing import LabelEncoder\n",
    "\n",
    "# Example labels for encoding\n",
    "labels = ['cat', 'dog', 'cat']\n",
    "\n",
    "# Perform label encoding\n",
    "label_encoder = LabelEncoder()\n",
    "encoded_labels = label_encoder.fit_transform(labels)"
   ]
  },
  {
   "cell_type": "markdown",
   "id": "2e1dc993",
   "metadata": {},
   "source": [
    "Split the dataset into training and test sets."
   ]
  },
  {
   "cell_type": "code",
   "execution_count": null,
   "id": "8bd7ae2a",
   "metadata": {},
   "outputs": [],
   "source": [
    "from sklearn.model_selection import train_test_split\n",
    "\n",
    "# Split dataset into training and testing sets\n",
    "def split_data(features, labels, test_size=0.2):\n",
    "    return train_test_split(features, labels, test_size=test_size, random_state=42)"
   ]
  },
  {
   "cell_type": "markdown",
   "id": "0e95c930",
   "metadata": {},
   "source": [
    "Apply the train-test split to the features and encoded labels."
   ]
  },
  {
   "cell_type": "code",
   "execution_count": null,
   "id": "0ce2d4fa",
   "metadata": {},
   "outputs": [],
   "source": [
    "X_train, X_test, y_train, y_test = split_data(features, encoded_labels)"
   ]
  },
  {
   "cell_type": "markdown",
   "id": "a184ca8a",
   "metadata": {},
   "source": [
    "Define a simple neural network model using Keras."
   ]
  },
  {
   "cell_type": "code",
   "execution_count": null,
   "id": "02f0bdcc",
   "metadata": {},
   "outputs": [],
   "source": [
    "from tensorflow.keras.models import Sequential\n",
    "from tensorflow.keras.layers import Dense, Flatten\n",
    "\n",
    "# Build a simple model\n",
    "model = Sequential([\n",
    "    Flatten(input_shape=(IMG_HEIGHT, IMG_WIDTH)),\n",
    "    Dense(128, activation='relu'),\n",
    "    Dense(NUM_CLASSES, activation='softmax')\n",
    "])"
   ]
  },
  {
   "cell_type": "markdown",
   "id": "2b048c30",
   "metadata": {},
   "source": [
    "Compile and train the model using the training dataset."
   ]
  },
  {
   "cell_type": "code",
   "execution_count": null,
   "id": "be392dfc",
   "metadata": {},
   "outputs": [],
   "source": [
    "model.compile(optimizer='adam', loss='sparse_categorical_crossentropy', metrics=['accuracy'])\n",
    "\n",
    "# Train the model\n",
    "model.fit(X_train, y_train, epochs=5)"
   ]
  },
  {
   "cell_type": "markdown",
   "id": "6c144465",
   "metadata": {},
   "source": [
    "Evaluate the trained model on the test set to check its performance."
   ]
  },
  {
   "cell_type": "code",
   "execution_count": null,
   "id": "7bfffd3a",
   "metadata": {},
   "outputs": [],
   "source": [
    "evaluation = model.evaluate(X_test, y_test)\n",
    "print('Test loss:', evaluation[0], 'Test accuracy:', evaluation[1])"
   ]
  },
  {
   "cell_type": "markdown",
   "id": "ebe8ab8c",
   "metadata": {},
   "source": [
    "Generate a classification report comparing predicted labels with actual labels for evaluation."
   ]
  },
  {
   "cell_type": "code",
   "execution_count": null,
   "id": "238c9357",
   "metadata": {},
   "outputs": [],
   "source": [
    "from sklearn.metrics import classification_report\n",
    "\n",
    "# Assume predictions are made\n",
    "predictions = model.predict(X_test)\n",
    "class_report = classification_report(y_test, np.argmax(predictions, axis=1))\n",
    "print(class_report)"
   ]
  }
 ],
 "metadata": {
  "kernelspec": {
   "display_name": "Python 3",
   "language": "python",
   "name": "python3"
  },
  "language_info": {
   "codemirror_mode": {
    "name": "ipython",
    "version": 3
   },
   "file_extension": ".py",
   "mimetype": "text/x-python",
   "name": "python",
   "nbconvert_exporter": "python",
   "pygments_lexer": "ipython3",
   "version": "3.8.5"
  }
 },
 "nbformat": 4,
 "nbformat_minor": 5
}
