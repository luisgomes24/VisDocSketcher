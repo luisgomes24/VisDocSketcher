{
 "cells": [
  {
   "cell_type": "markdown",
   "id": "cf1b89d0",
   "metadata": {},
   "source": [
    "Load necessary libraries for data manipulation and machine learning."
   ]
  },
  {
   "cell_type": "code",
   "execution_count": null,
   "id": "e45ea7df",
   "metadata": {},
   "outputs": [],
   "source": [
    "import numpy as np\n",
    "import pandas as pd\n",
    "from sklearn.feature_extraction.text import CountVectorizer\n",
    "from sklearn.metrics.pairwise import cosine_similarity\n"
   ]
  },
  {
   "cell_type": "markdown",
   "id": "83cb3b06",
   "metadata": {},
   "source": [
    "Create or load a corpus of documents for processing."
   ]
  },
  {
   "cell_type": "code",
   "execution_count": null,
   "id": "71788d40",
   "metadata": {},
   "outputs": [],
   "source": [
    "corpus = ['Document 1 text', 'Document 2 text', 'Document 3 text'] # Replace with your text data\n"
   ]
  },
  {
   "cell_type": "markdown",
   "id": "a41b816e",
   "metadata": {},
   "source": [
    "Load a pre-trained model for encoding text data."
   ]
  },
  {
   "cell_type": "code",
   "execution_count": null,
   "id": "d2b249b2",
   "metadata": {},
   "outputs": [],
   "source": [
    "from sentence_transformers import SentenceTransformer\n",
    "model = SentenceTransformer('all-MiniLM-L6-v2')\n"
   ]
  },
  {
   "cell_type": "markdown",
   "id": "d178ebe1",
   "metadata": {},
   "source": [
    "Encode the documents using the pre-trained model to create embeddings."
   ]
  },
  {
   "cell_type": "code",
   "execution_count": null,
   "id": "00ca5f49",
   "metadata": {},
   "outputs": [],
   "source": [
    "encoded_documents = model.encode(corpus)\n"
   ]
  },
  {
   "cell_type": "markdown",
   "id": "68bf781d",
   "metadata": {},
   "source": [
    "Create an index from the encoded documents for efficient searching."
   ]
  },
  {
   "cell_type": "code",
   "execution_count": null,
   "id": "c22ae22e",
   "metadata": {},
   "outputs": [],
   "source": [
    "index = np.array(encoded_documents)\n"
   ]
  },
  {
   "cell_type": "markdown",
   "id": "1d003adb",
   "metadata": {},
   "source": [
    "Perform semantic similarity calculations between the encoded documents."
   ]
  },
  {
   "cell_type": "code",
   "execution_count": null,
   "id": "03286560",
   "metadata": {},
   "outputs": [],
   "source": [
    "semantic_similarity = cosine_similarity(index)\n"
   ]
  },
  {
   "cell_type": "markdown",
   "id": "d26df71a",
   "metadata": {},
   "source": [
    "Search for semantically similar documents using a search query."
   ]
  },
  {
   "cell_type": "code",
   "execution_count": null,
   "id": "215b30f5",
   "metadata": {},
   "outputs": [],
   "source": [
    "search_query = 'Your search query here'\n",
    "query_embedding = model.encode([search_query])\n",
    "results = cosine_similarity(query_embedding, index)\n"
   ]
  }
 ],
 "metadata": {
  "kernelspec": {
   "display_name": "Python 3",
   "language": "python",
   "name": "python3"
  },
  "language_info": {
   "codemirror_mode": {
    "name": "ipython",
    "version": 3
   },
   "file_extension": ".py",
   "mimetype": "text/x-python",
   "name": "python",
   "nbconvert_exporter": "python",
   "pygments_lexer": "ipython3",
   "version": "3.8.5"
  }
 },
 "nbformat": 4,
 "nbformat_minor": 5
}
