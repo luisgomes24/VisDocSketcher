{
 "cells": [
  {
   "cell_type": "markdown",
   "id": "4e254ee4",
   "metadata": {},
   "source": [
    "Load necessary libraries for data manipulation and fuzzy matching."
   ]
  },
  {
   "cell_type": "code",
   "execution_count": null,
   "id": "dcfacf68",
   "metadata": {},
   "outputs": [],
   "source": [
    "import pandas as pd\n",
    "import numpy as np\n",
    "from fuzzywuzzy import fuzz, process"
   ]
  },
  {
   "cell_type": "markdown",
   "id": "208f0e21",
   "metadata": {},
   "source": [
    "Load the dataset from a CSV file."
   ]
  },
  {
   "cell_type": "code",
   "execution_count": null,
   "id": "e840d584",
   "metadata": {},
   "outputs": [],
   "source": [
    "data = pd.read_csv('PakistanSuicideAttacks.csv')"
   ]
  },
  {
   "cell_type": "markdown",
   "id": "237b0705",
   "metadata": {},
   "source": [
    "Check the encoding and structure of the loaded data."
   ]
  },
  {
   "cell_type": "code",
   "execution_count": null,
   "id": "79ac3713",
   "metadata": {},
   "outputs": [],
   "source": [
    "print(data.info())"
   ]
  },
  {
   "cell_type": "markdown",
   "id": "c28cac06",
   "metadata": {},
   "source": [
    "Remove missing values and prepare the data for preprocessing."
   ]
  },
  {
   "cell_type": "code",
   "execution_count": null,
   "id": "389796a6",
   "metadata": {},
   "outputs": [],
   "source": [
    "data.dropna(inplace=True)"
   ]
  },
  {
   "cell_type": "markdown",
   "id": "d51b4f24",
   "metadata": {},
   "source": [
    "Lowercase and trim whitespace for string fields."
   ]
  },
  {
   "cell_type": "code",
   "execution_count": null,
   "id": "8a86c100",
   "metadata": {},
   "outputs": [],
   "source": [
    "data = data.apply(lambda x: x.str.lower().str.strip() if x.dtype == \"object\" else x)"
   ]
  },
  {
   "cell_type": "markdown",
   "id": "bcb22982",
   "metadata": {},
   "source": [
    "Retrieve the unique values count for each column."
   ]
  },
  {
   "cell_type": "code",
   "execution_count": null,
   "id": "ea387843",
   "metadata": {},
   "outputs": [],
   "source": [
    "unique_values = data.nunique()"
   ]
  },
  {
   "cell_type": "markdown",
   "id": "57d5ac33",
   "metadata": {},
   "source": [
    "Perform fuzzy matching to identify similar entries."
   ]
  },
  {
   "cell_type": "code",
   "execution_count": null,
   "id": "c712ac32",
   "metadata": {},
   "outputs": [],
   "source": [
    "fuzzy_matches = data.apply(lambda x: process.extract(x, data['column_name'], limit=5))"
   ]
  },
  {
   "cell_type": "markdown",
   "id": "6d573aaf",
   "metadata": {},
   "source": [
    "Replace inconsistencies in the matching results."
   ]
  },
  {
   "cell_type": "code",
   "execution_count": null,
   "id": "951e1609",
   "metadata": {},
   "outputs": [],
   "source": [
    "data['column_name'].replace({'inconsistent_value': 'consistent_value'}, inplace=True)"
   ]
  },
  {
   "cell_type": "markdown",
   "id": "3e24d5a8",
   "metadata": {},
   "source": [
    "Perform a final check on unique values after replacements."
   ]
  },
  {
   "cell_type": "code",
   "execution_count": null,
   "id": "901beb38",
   "metadata": {},
   "outputs": [],
   "source": [
    "final_unique_check = data.nunique()"
   ]
  }
 ],
 "metadata": {
  "kernelspec": {
   "display_name": "Python 3",
   "language": "python",
   "name": "python3"
  },
  "language_info": {
   "codemirror_mode": {
    "name": "ipython",
    "version": 3
   },
   "file_extension": ".py",
   "mimetype": "text/x-python",
   "name": "python",
   "nbconvert_exporter": "python",
   "pygments_lexer": "ipython3",
   "version": "3.8.5"
  }
 },
 "nbformat": 4,
 "nbformat_minor": 5
}
