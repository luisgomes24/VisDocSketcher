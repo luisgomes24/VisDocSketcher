{
 "cells": [
  {
   "cell_type": "markdown",
   "id": "c9df54de",
   "metadata": {},
   "source": [
    "Load DICOM files from a specified directory."
   ]
  },
  {
   "cell_type": "code",
   "execution_count": null,
   "id": "f07cce1c",
   "metadata": {},
   "outputs": [],
   "source": [
    "import os\n",
    "from pydicom import dcmread\n",
    "\n",
    "def load_data(directory):\n",
    "    return [dcmread(os.path.join(directory, file)) for file in os.listdir(directory) if file.endswith('.dcm')]"
   ]
  },
  {
   "cell_type": "markdown",
   "id": "223b0199",
   "metadata": {},
   "source": [
    "Convert DICOM images to numpy arrays for processing."
   ]
  },
  {
   "cell_type": "code",
   "execution_count": null,
   "id": "9c2cd446",
   "metadata": {},
   "outputs": [],
   "source": [
    "import numpy as np\n",
    "from PIL import Image\n",
    "\n",
    "def preprocess_images(dcm_images):\n",
    "    return [np.array(image.pixel_array) for image in dcm_images]"
   ]
  },
  {
   "cell_type": "markdown",
   "id": "bdbb108e",
   "metadata": {},
   "source": [
    "Convert preprocessed images to JPG format."
   ]
  },
  {
   "cell_type": "code",
   "execution_count": null,
   "id": "323865f8",
   "metadata": {},
   "outputs": [],
   "source": [
    "def convert_to_jpg(images, output_dir):\n",
    "    for i, img in enumerate(images):\n",
    "        im = Image.fromarray(img)\n",
    "        im.save(os.path.join(output_dir, f'image_{i}.jpg'))"
   ]
  },
  {
   "cell_type": "markdown",
   "id": "96d87672",
   "metadata": {},
   "source": [
    "Use multiprocessing to convert images in parallel."
   ]
  },
  {
   "cell_type": "code",
   "execution_count": null,
   "id": "4f0c3106",
   "metadata": {},
   "outputs": [],
   "source": [
    "from multiprocessing import Pool\n",
    "\n",
    "def process_images_parallel(images, output_dir):\n",
    "    with Pool() as pool:\n",
    "        pool.map(lambda img: convert_to_jpg([img], output_dir), images)"
   ]
  },
  {
   "cell_type": "markdown",
   "id": "cd707152",
   "metadata": {},
   "source": [
    "Zip the processed JPG images into a single file."
   ]
  },
  {
   "cell_type": "code",
   "execution_count": null,
   "id": "a0fc01d1",
   "metadata": {},
   "outputs": [],
   "source": [
    "import zipfile\n",
    "\n",
    "def zip_images(output_dir, zip_name):\n",
    "    with zipfile.ZipFile(zip_name, 'w') as zipf:\n",
    "        for foldername, subfolders, filenames in os.walk(output_dir):\n",
    "            for filename in filenames:\n",
    "                zipf.write(os.path.join(foldername, filename))"
   ]
  }
 ],
 "metadata": {
  "kernelspec": {
   "display_name": "Python 3",
   "language": "python",
   "name": "python3"
  },
  "language_info": {
   "codemirror_mode": {
    "name": "ipython",
    "version": 3
   },
   "file_extension": ".py",
   "mimetype": "text/x-python",
   "name": "python",
   "nbconvert_exporter": "python",
   "pygments_lexer": "ipython3",
   "version": "3.8.5"
  }
 },
 "nbformat": 4,
 "nbformat_minor": 5
}
