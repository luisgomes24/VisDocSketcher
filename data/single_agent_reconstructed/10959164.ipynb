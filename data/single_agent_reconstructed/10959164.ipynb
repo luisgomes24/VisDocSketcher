{
 "cells": [
  {
   "cell_type": "markdown",
   "id": "473f7f0a",
   "metadata": {},
   "source": [
    "Load and display the first 2000 characters of a text file."
   ]
  },
  {
   "cell_type": "code",
   "execution_count": null,
   "id": "b39a0d10",
   "metadata": {},
   "outputs": [],
   "source": [
    "with open('data.txt', 'r') as file:\n",
    "    text = file.read()\n",
    "    print(text[:2000])"
   ]
  },
  {
   "cell_type": "markdown",
   "id": "c28f9258",
   "metadata": {},
   "source": [
    "Load the tuberculosis data from a CSV file."
   ]
  },
  {
   "cell_type": "code",
   "execution_count": null,
   "id": "27857def",
   "metadata": {},
   "outputs": [],
   "source": [
    "import pandas as pd\n",
    "\n",
    "tb_data = pd.read_csv('tuberculosis_data.csv')"
   ]
  },
  {
   "cell_type": "markdown",
   "id": "bff7938b",
   "metadata": {},
   "source": [
    "Load the COVID-19 data from a CSV file."
   ]
  },
  {
   "cell_type": "code",
   "execution_count": null,
   "id": "9e741a1f",
   "metadata": {},
   "outputs": [],
   "source": [
    "covid_data = pd.read_csv('covid_data.csv')"
   ]
  },
  {
   "cell_type": "markdown",
   "id": "ba5d809c",
   "metadata": {},
   "source": [
    "Filter the COVID data to include only entries for Peru."
   ]
  },
  {
   "cell_type": "code",
   "execution_count": null,
   "id": "dad4518a",
   "metadata": {},
   "outputs": [],
   "source": [
    "peru_data = covid_data[covid_data['country'] == 'Peru']"
   ]
  },
  {
   "cell_type": "markdown",
   "id": "929263e9",
   "metadata": {},
   "source": [
    "Create a bar plot comparing total cases and life expectancy."
   ]
  },
  {
   "cell_type": "code",
   "execution_count": null,
   "id": "118d4e5d",
   "metadata": {},
   "outputs": [],
   "source": [
    "import seaborn as sns\n",
    "import matplotlib.pyplot as plt\n",
    "\n",
    "sns.barplot(x='total_cases', y='life_expectancy', data=tb_data)\n",
    "plt.show()"
   ]
  },
  {
   "cell_type": "markdown",
   "id": "a329c947",
   "metadata": {},
   "source": [
    "Display distribution plots for total cases."
   ]
  },
  {
   "cell_type": "code",
   "execution_count": null,
   "id": "9337269f",
   "metadata": {},
   "outputs": [],
   "source": [
    "sns.histplot(tb_data['total_cases'])\n",
    "plt.show()"
   ]
  },
  {
   "cell_type": "markdown",
   "id": "61327cc0",
   "metadata": {},
   "source": [
    "Create violin plots for total cases analysis."
   ]
  },
  {
   "cell_type": "code",
   "execution_count": null,
   "id": "8b32830b",
   "metadata": {},
   "outputs": [],
   "source": [
    "sns.violinplot(x='total_cases', data=peru_data)\n",
    "plt.show()"
   ]
  },
  {
   "cell_type": "markdown",
   "id": "5318f901",
   "metadata": {},
   "source": [
    "Perform trend analysis for total cases over time."
   ]
  },
  {
   "cell_type": "code",
   "execution_count": null,
   "id": "5d63a02c",
   "metadata": {},
   "outputs": [],
   "source": [
    "sns.lineplot(x='date', y='total_cases', data=peru_data)\n",
    "plt.show()"
   ]
  },
  {
   "cell_type": "markdown",
   "id": "f695effd",
   "metadata": {},
   "source": [
    "Create the final line plot for total cases over time."
   ]
  },
  {
   "cell_type": "code",
   "execution_count": null,
   "id": "de6d5271",
   "metadata": {},
   "outputs": [],
   "source": [
    "sns.lineplot(x='date', y='total_cases', data=peru_data)\n",
    "plt.title('Total Cases Over Time')\n",
    "plt.show()"
   ]
  }
 ],
 "metadata": {
  "kernelspec": {
   "display_name": "Python 3",
   "language": "python",
   "name": "python3"
  },
  "language_info": {
   "codemirror_mode": {
    "name": "ipython",
    "version": 3
   },
   "file_extension": ".py",
   "mimetype": "text/x-python",
   "name": "python",
   "nbconvert_exporter": "python",
   "pygments_lexer": "ipython3",
   "version": "3.8.5"
  }
 },
 "nbformat": 4,
 "nbformat_minor": 5
}
