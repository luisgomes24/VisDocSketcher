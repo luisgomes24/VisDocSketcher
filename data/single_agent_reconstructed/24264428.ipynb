{
 "cells": [
  {
   "cell_type": "markdown",
   "id": "83aa7d5a",
   "metadata": {},
   "source": [
    "Load the MNIST dataset and split it into training and test sets."
   ]
  },
  {
   "cell_type": "code",
   "execution_count": null,
   "id": "bf0031bb",
   "metadata": {},
   "outputs": [],
   "source": [
    "from tensorflow.keras.datasets import mnist\n",
    "(x_train, y_train), (x_test, y_test) = mnist.load_data()"
   ]
  },
  {
   "cell_type": "markdown",
   "id": "d8ac30d9",
   "metadata": {},
   "source": [
    "Preprocess the data by normalizing the pixel values."
   ]
  },
  {
   "cell_type": "code",
   "execution_count": null,
   "id": "052caf70",
   "metadata": {},
   "outputs": [],
   "source": [
    "x_train = x_train.astype('float32') / 255.0\n",
    "x_test = x_test.astype('float32') / 255.0"
   ]
  },
  {
   "cell_type": "markdown",
   "id": "fa0027a9",
   "metadata": {},
   "source": [
    "Add Gaussian noise to the images."
   ]
  },
  {
   "cell_type": "code",
   "execution_count": null,
   "id": "1d32cdd6",
   "metadata": {},
   "outputs": [],
   "source": [
    "import numpy as np\n",
    "noise_factor = 0.5\n",
    "x_train_noisy = x_train + noise_factor * np.random.normal(loc=0.0, scale=1.0, size=x_train.shape)\n",
    "x_train_noisy = np.clip(x_train_noisy, 0.0, 1.0)"
   ]
  },
  {
   "cell_type": "markdown",
   "id": "0f993f27",
   "metadata": {},
   "source": [
    "Build a simple autoencoder model using Keras."
   ]
  },
  {
   "cell_type": "code",
   "execution_count": null,
   "id": "e9e62ebe",
   "metadata": {},
   "outputs": [],
   "source": [
    "from tensorflow.keras.models import Model\n",
    "from tensorflow.keras.layers import Input, Dense\n",
    "input_img = Input(shape=(28, 28))\n",
    "h = Dense(64, activation='relu')(input_img)\n",
    "encoded = Dense(32, activation='relu')(h)\n",
    "decoded = Dense(64, activation='sigmoid')(encoded)\n",
    "output_img = Dense(28, activation='sigmoid')(decoded)\n",
    "autoencoder = Model(input_img, output_img)"
   ]
  },
  {
   "cell_type": "markdown",
   "id": "207b851c",
   "metadata": {},
   "source": [
    "Train the autoencoder on the noisy images."
   ]
  },
  {
   "cell_type": "code",
   "execution_count": null,
   "id": "bc3f40ca",
   "metadata": {},
   "outputs": [],
   "source": [
    "autoencoder.compile(optimizer='adam', loss='binary_crossentropy')\n",
    "autoencoder.fit(x_train_noisy, x_train, epochs=50, batch_size=256, shuffle=True, validation_data=(x_test, x_test))"
   ]
  },
  {
   "cell_type": "markdown",
   "id": "4ab8b5c9",
   "metadata": {},
   "source": [
    "Denoise the test images using the trained autoencoder."
   ]
  },
  {
   "cell_type": "code",
   "execution_count": null,
   "id": "d75f4c97",
   "metadata": {},
   "outputs": [],
   "source": [
    "denoised_images = autoencoder.predict(x_test_noisy)"
   ]
  },
  {
   "cell_type": "markdown",
   "id": "a947cf09",
   "metadata": {},
   "source": [
    "Evaluate the performance of the autoencoder using Mean Squared Error."
   ]
  },
  {
   "cell_type": "code",
   "execution_count": null,
   "id": "39a0d7a4",
   "metadata": {},
   "outputs": [],
   "source": [
    "from sklearn.metrics import mean_squared_error\n",
    "mse = mean_squared_error(x_test.flatten(), denoised_images.flatten())"
   ]
  },
  {
   "cell_type": "markdown",
   "id": "61111786",
   "metadata": {},
   "source": [
    "Train a classifier on the denoised images."
   ]
  },
  {
   "cell_type": "code",
   "execution_count": null,
   "id": "2a7e70b3",
   "metadata": {},
   "outputs": [],
   "source": [
    "from sklearn.ensemble import RandomForestClassifier\n",
    "classifier = RandomForestClassifier()\n",
    "classifier.fit(denoised_images.reshape(-1, 28*28), y_test)"
   ]
  },
  {
   "cell_type": "markdown",
   "id": "76dbd626",
   "metadata": {},
   "source": [
    "Evaluate the classifier's performance on the denoised images."
   ]
  },
  {
   "cell_type": "code",
   "execution_count": null,
   "id": "f510eecd",
   "metadata": {},
   "outputs": [],
   "source": [
    "classifier_score = classifier.score(denoised_images.reshape(-1, 28*28), y_test)"
   ]
  },
  {
   "cell_type": "markdown",
   "id": "f125cb74",
   "metadata": {},
   "source": [
    "Create a composite model combining the autoencoder and classifier."
   ]
  },
  {
   "cell_type": "code",
   "execution_count": null,
   "id": "9a578d21",
   "metadata": {},
   "outputs": [],
   "source": [
    "composite_model = Model(inputs=input_img, outputs=classifier.predict(denoised_images.reshape(-1, 28*28)))"
   ]
  },
  {
   "cell_type": "markdown",
   "id": "3181840a",
   "metadata": {},
   "source": [
    "Make predictions using the composite model."
   ]
  },
  {
   "cell_type": "code",
   "execution_count": null,
   "id": "6ea71099",
   "metadata": {},
   "outputs": [],
   "source": [
    "predictions = composite_model.predict(x_test_noisy)"
   ]
  }
 ],
 "metadata": {
  "kernelspec": {
   "display_name": "Python 3",
   "language": "python",
   "name": "python3"
  },
  "language_info": {
   "codemirror_mode": {
    "name": "ipython",
    "version": 3
   },
   "file_extension": ".py",
   "mimetype": "text/x-python",
   "name": "python",
   "nbconvert_exporter": "python",
   "pygments_lexer": "ipython3",
   "version": "3.8.5"
  }
 },
 "nbformat": 4,
 "nbformat_minor": 5
}
