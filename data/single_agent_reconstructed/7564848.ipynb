{
 "cells": [
  {
   "cell_type": "markdown",
   "id": "83d645d3",
   "metadata": {},
   "source": [
    "Load the data from a CSV file using pandas."
   ]
  },
  {
   "cell_type": "code",
   "execution_count": null,
   "id": "43e15add",
   "metadata": {},
   "outputs": [],
   "source": [
    "import pandas as pd\n",
    "data = pd.read_csv('data.csv')"
   ]
  },
  {
   "cell_type": "markdown",
   "id": "c3161db8",
   "metadata": {},
   "source": [
    "Preview the first few rows of the loaded data."
   ]
  },
  {
   "cell_type": "code",
   "execution_count": null,
   "id": "e4ec160c",
   "metadata": {},
   "outputs": [],
   "source": [
    "print(data.head())"
   ]
  },
  {
   "cell_type": "markdown",
   "id": "5e6e241d",
   "metadata": {},
   "source": [
    "Create distribution plots for the dataset."
   ]
  },
  {
   "cell_type": "code",
   "execution_count": null,
   "id": "8adeaecc",
   "metadata": {},
   "outputs": [],
   "source": [
    "import seaborn as sns\n",
    "import matplotlib.pyplot as plt\n",
    "sns.histplot(data)\n",
    "plt.show()"
   ]
  },
  {
   "cell_type": "markdown",
   "id": "7e3bf43a",
   "metadata": {},
   "source": [
    "Display the correlation matrix as a heatmap."
   ]
  },
  {
   "cell_type": "code",
   "execution_count": null,
   "id": "d2844554",
   "metadata": {},
   "outputs": [],
   "source": [
    "correlation_matrix = data.corr()\n",
    "sns.heatmap(correlation_matrix, annot=True)\n",
    "plt.show()"
   ]
  },
  {
   "cell_type": "markdown",
   "id": "21ac7fb7",
   "metadata": {},
   "source": [
    "Generate a scatter matrix to visualize relationships between features."
   ]
  },
  {
   "cell_type": "code",
   "execution_count": null,
   "id": "caefb21f",
   "metadata": {},
   "outputs": [],
   "source": [
    "from pandas.plotting import scatter_matrix\n",
    "scatter_matrix(data)\n",
    "plt.show()"
   ]
  }
 ],
 "metadata": {
  "kernelspec": {
   "display_name": "Python 3",
   "language": "python",
   "name": "python3"
  },
  "language_info": {
   "codemirror_mode": {
    "name": "ipython",
    "version": 3
   },
   "file_extension": ".py",
   "mimetype": "text/x-python",
   "name": "python",
   "nbconvert_exporter": "python",
   "pygments_lexer": "ipython3",
   "version": "3.8.5"
  }
 },
 "nbformat": 4,
 "nbformat_minor": 5
}
