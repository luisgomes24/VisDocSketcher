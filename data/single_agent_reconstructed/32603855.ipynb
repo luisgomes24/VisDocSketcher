{
 "cells": [
  {
   "cell_type": "markdown",
   "id": "ca27fa44",
   "metadata": {},
   "source": [
    "Load train and test datasets using pandas."
   ]
  },
  {
   "cell_type": "code",
   "execution_count": null,
   "id": "98cfdc6d",
   "metadata": {},
   "outputs": [],
   "source": [
    "import pandas as pd\n",
    "train_data = pd.read_csv('train.csv')\n",
    "test_data = pd.read_csv('test.csv')"
   ]
  },
  {
   "cell_type": "markdown",
   "id": "67dd0268",
   "metadata": {},
   "source": [
    "Display the head, descriptive statistics, and info of the training dataset."
   ]
  },
  {
   "cell_type": "code",
   "execution_count": null,
   "id": "d1fc1914",
   "metadata": {},
   "outputs": [],
   "source": [
    "print(train_data.head())\n",
    "print(train_data.describe())\n",
    "print(train_data.info())"
   ]
  },
  {
   "cell_type": "markdown",
   "id": "66a9e400",
   "metadata": {},
   "source": [
    "Check for duplicates and null values in the training dataset."
   ]
  },
  {
   "cell_type": "code",
   "execution_count": null,
   "id": "b62a1883",
   "metadata": {},
   "outputs": [],
   "source": [
    "duplicates = train_data.duplicated().sum()\n",
    "nulls = train_data.isnull().sum()"
   ]
  },
  {
   "cell_type": "markdown",
   "id": "3d1d921c",
   "metadata": {},
   "source": [
    "Visualize the data using pairplots."
   ]
  },
  {
   "cell_type": "code",
   "execution_count": null,
   "id": "efd39d13",
   "metadata": {},
   "outputs": [],
   "source": [
    "import seaborn as sns\n",
    "import matplotlib.pyplot as plt\n",
    "sns.pairplot(train_data)\n",
    "plt.show()"
   ]
  },
  {
   "cell_type": "markdown",
   "id": "d9f0d3fe",
   "metadata": {},
   "source": [
    "Perform label encoding on the target column."
   ]
  },
  {
   "cell_type": "code",
   "execution_count": null,
   "id": "ab80035c",
   "metadata": {},
   "outputs": [],
   "source": [
    "from sklearn.preprocessing import LabelEncoder\n",
    "label_encoder = LabelEncoder()\n",
    "train_data['label'] = label_encoder.fit_transform(train_data['label'])"
   ]
  },
  {
   "cell_type": "markdown",
   "id": "04ee0d76",
   "metadata": {},
   "source": [
    "Calculate Variance Inflation Factor (VIF) for feature selection."
   ]
  },
  {
   "cell_type": "code",
   "execution_count": null,
   "id": "c4a5362a",
   "metadata": {},
   "outputs": [],
   "source": [
    "from statsmodels.stats.outliers_influence import variance_inflation_factor\n",
    "vif = pd.DataFrame()\n",
    "vif['VIF'] = [variance_inflation_factor(train_data.values, i) for i in range(train_data.shape[1])]"
   ]
  },
  {
   "cell_type": "markdown",
   "id": "c03e67e5",
   "metadata": {},
   "source": [
    "Split the data into training and testing sets."
   ]
  },
  {
   "cell_type": "code",
   "execution_count": null,
   "id": "23f4f180",
   "metadata": {},
   "outputs": [],
   "source": [
    "from sklearn.model_selection import train_test_split\n",
    "X = train_data.drop('label', axis=1)\n",
    "y = train_data['label']\n",
    "X_train, X_test, y_train, y_test = train_test_split(X, y, test_size=0.2, random_state=42)"
   ]
  },
  {
   "cell_type": "markdown",
   "id": "250d56e3",
   "metadata": {},
   "source": [
    "Train a classifier using the XGBoost algorithm."
   ]
  },
  {
   "cell_type": "code",
   "execution_count": null,
   "id": "0beef950",
   "metadata": {},
   "outputs": [],
   "source": [
    "import xgboost as xgb\n",
    "model = xgb.XGBClassifier()\n",
    "model.fit(X_train, y_train)"
   ]
  },
  {
   "cell_type": "markdown",
   "id": "4599cf1e",
   "metadata": {},
   "source": [
    "Evaluate multiple models using LazyPredict for comparison."
   ]
  },
  {
   "cell_type": "code",
   "execution_count": null,
   "id": "600ef415",
   "metadata": {},
   "outputs": [],
   "source": [
    "from lazypredict.Supervised import LazyClassifier\n",
    "lazy_classifier = LazyClassifier()\n",
    "models = lazy_classifier.fit(X_train, X_test, y_train, y_test)"
   ]
  },
  {
   "cell_type": "markdown",
   "id": "5e0580ff",
   "metadata": {},
   "source": [
    "Save the predictions to a submission file."
   ]
  },
  {
   "cell_type": "code",
   "execution_count": null,
   "id": "f80cdc53",
   "metadata": {},
   "outputs": [],
   "source": [
    "predictions = model.predict(test_data)\n",
    "submission = pd.DataFrame({'Id': test_data['Id'], 'Predicted': predictions})\n",
    "submission.to_csv('submission.csv', index=False)"
   ]
  }
 ],
 "metadata": {
  "kernelspec": {
   "display_name": "Python 3",
   "language": "python",
   "name": "python3"
  },
  "language_info": {
   "codemirror_mode": {
    "name": "ipython",
    "version": 3
   },
   "file_extension": ".py",
   "mimetype": "text/x-python",
   "name": "python",
   "nbconvert_exporter": "python",
   "pygments_lexer": "ipython3",
   "version": "3.8.5"
  }
 },
 "nbformat": 4,
 "nbformat_minor": 5
}
