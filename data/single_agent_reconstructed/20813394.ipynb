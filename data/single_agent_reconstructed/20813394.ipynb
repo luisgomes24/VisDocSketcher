{
 "cells": [
  {
   "cell_type": "markdown",
   "id": "83cbc90d",
   "metadata": {},
   "source": [
    "Load the dataset from a CSV file using Pandas."
   ]
  },
  {
   "cell_type": "code",
   "execution_count": null,
   "id": "c4fa6e58",
   "metadata": {},
   "outputs": [],
   "source": [
    "import pandas as pd\n",
    "df = pd.read_csv('data.csv')"
   ]
  },
  {
   "cell_type": "markdown",
   "id": "4e5261c8",
   "metadata": {},
   "source": [
    "Clean the text data by removing non-alphanumeric characters."
   ]
  },
  {
   "cell_type": "code",
   "execution_count": null,
   "id": "3e8a0acf",
   "metadata": {},
   "outputs": [],
   "source": [
    "import re\n",
    "\n",
    "def clean_text(text):\n",
    "    text = re.sub('[^a-zA-Z0-9 ]', '', text)\n",
    "    return text\n",
    "\n",
    "df['cleaned_text'] = df['text'].apply(clean_text)"
   ]
  },
  {
   "cell_type": "markdown",
   "id": "f669d17d",
   "metadata": {},
   "source": [
    "Convert cleaned text into one-hot encoded vectors."
   ]
  },
  {
   "cell_type": "code",
   "execution_count": null,
   "id": "4f2ed2f3",
   "metadata": {},
   "outputs": [],
   "source": [
    "from sklearn.preprocessing import OneHotEncoder\n",
    "encoder = OneHotEncoder()\n",
    "encoded_text = encoder.fit_transform(df[['cleaned_text']]).toarray()"
   ]
  },
  {
   "cell_type": "markdown",
   "id": "2b374295",
   "metadata": {},
   "source": [
    "Pad sequences to ensure they are of equal length."
   ]
  },
  {
   "cell_type": "code",
   "execution_count": null,
   "id": "4d33f9b4",
   "metadata": {},
   "outputs": [],
   "source": [
    "from keras.preprocessing.sequence import pad_sequences\n",
    "padded_sequences = pad_sequences(encoded_text, padding='post')"
   ]
  },
  {
   "cell_type": "markdown",
   "id": "4ed6d4bf",
   "metadata": {},
   "source": [
    "Build an LSTM model for sequence classification."
   ]
  },
  {
   "cell_type": "code",
   "execution_count": null,
   "id": "acd22d01",
   "metadata": {},
   "outputs": [],
   "source": [
    "from keras.models import Sequential\n",
    "from keras.layers import LSTM, Dense\n",
    "\n",
    "model = Sequential()\n",
    "model.add(LSTM(128, input_shape=(padded_sequences.shape[1], 1)))\n",
    "model.add(Dense(1, activation='sigmoid'))\n",
    "model.compile(loss='binary_crossentropy', optimizer='adam', metrics=['accuracy'])"
   ]
  },
  {
   "cell_type": "markdown",
   "id": "62358492",
   "metadata": {},
   "source": [
    "Train the LSTM model on the padded sequences."
   ]
  },
  {
   "cell_type": "code",
   "execution_count": null,
   "id": "60b8c96b",
   "metadata": {},
   "outputs": [],
   "source": [
    "model.fit(padded_sequences, df['label'], epochs=10, batch_size=32)"
   ]
  },
  {
   "cell_type": "markdown",
   "id": "1a213512",
   "metadata": {},
   "source": [
    "Evaluate the model and check the accuracy."
   ]
  },
  {
   "cell_type": "code",
   "execution_count": null,
   "id": "10b400bb",
   "metadata": {},
   "outputs": [],
   "source": [
    "loss, accuracy = model.evaluate(padded_sequences, df['label'])\n",
    "print(f'Accuracy: {accuracy * 100:.2f}%')"
   ]
  }
 ],
 "metadata": {
  "kernelspec": {
   "display_name": "Python 3",
   "language": "python",
   "name": "python3"
  },
  "language_info": {
   "codemirror_mode": {
    "name": "ipython",
    "version": 3
   },
   "file_extension": ".py",
   "mimetype": "text/x-python",
   "name": "python",
   "nbconvert_exporter": "python",
   "pygments_lexer": "ipython3",
   "version": "3.8.5"
  }
 },
 "nbformat": 4,
 "nbformat_minor": 5
}
