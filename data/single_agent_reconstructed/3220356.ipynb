{
 "cells": [
  {
   "cell_type": "markdown",
   "id": "069aabe4",
   "metadata": {},
   "source": [
    "Load the data from a CSV file into a DataFrame."
   ]
  },
  {
   "cell_type": "code",
   "execution_count": null,
   "id": "1af1fbde",
   "metadata": {},
   "outputs": [],
   "source": [
    "import pandas as pd\n",
    "df1 = pd.read_csv('../input/f.csv')"
   ]
  },
  {
   "cell_type": "markdown",
   "id": "ffafd951",
   "metadata": {},
   "source": [
    "Preview the first 5 rows of the DataFrame."
   ]
  },
  {
   "cell_type": "code",
   "execution_count": null,
   "id": "581511ef",
   "metadata": {},
   "outputs": [],
   "source": [
    "print(df1.head(5))"
   ]
  },
  {
   "cell_type": "markdown",
   "id": "91fb2dbc",
   "metadata": {},
   "source": [
    "Create and display distribution graphs for each numeric column."
   ]
  },
  {
   "cell_type": "code",
   "execution_count": null,
   "id": "21373ea9",
   "metadata": {},
   "outputs": [],
   "source": [
    "import matplotlib.pyplot as plt\n",
    "df1.hist(figsize=(10, 6))\n",
    "plt.show()"
   ]
  },
  {
   "cell_type": "markdown",
   "id": "619c3006",
   "metadata": {},
   "source": [
    "Generate and display a heatmap of the correlation matrix."
   ]
  },
  {
   "cell_type": "code",
   "execution_count": null,
   "id": "570e48bb",
   "metadata": {},
   "outputs": [],
   "source": [
    "import seaborn as sns\n",
    "correlation_matrix = df1.corr()\n",
    "sns.heatmap(correlation_matrix, annot=True)\n",
    "plt.show()"
   ]
  },
  {
   "cell_type": "markdown",
   "id": "52953dcd",
   "metadata": {},
   "source": [
    "Create and display scatter plots of the data."
   ]
  },
  {
   "cell_type": "code",
   "execution_count": null,
   "id": "7223e3b3",
   "metadata": {},
   "outputs": [],
   "source": [
    "sns.scatterplot(data=df1, x='X Axis', y='Y Axis')\n",
    "plt.show()"
   ]
  }
 ],
 "metadata": {
  "kernelspec": {
   "display_name": "Python 3",
   "language": "python",
   "name": "python3"
  },
  "language_info": {
   "codemirror_mode": {
    "name": "ipython",
    "version": 3
   },
   "file_extension": ".py",
   "mimetype": "text/x-python",
   "name": "python",
   "nbconvert_exporter": "python",
   "pygments_lexer": "ipython3",
   "version": "3.8.5"
  }
 },
 "nbformat": 4,
 "nbformat_minor": 5
}
