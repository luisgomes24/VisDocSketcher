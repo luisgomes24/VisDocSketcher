{
 "cells": [
  {
   "cell_type": "markdown",
   "id": "18c3c3a2",
   "metadata": {},
   "source": [
    "Load the dataset from a CSV file."
   ]
  },
  {
   "cell_type": "code",
   "execution_count": null,
   "id": "0b20f90f",
   "metadata": {},
   "outputs": [],
   "source": [
    "import pandas as pd\n",
    "\n",
    "data = pd.read_csv('data.csv')"
   ]
  },
  {
   "cell_type": "markdown",
   "id": "b7345c7a",
   "metadata": {},
   "source": [
    "Create a list of images from specified file paths."
   ]
  },
  {
   "cell_type": "code",
   "execution_count": null,
   "id": "28cf272d",
   "metadata": {},
   "outputs": [],
   "source": [
    "image_list = [ImageList.from_folder(path) for path in data['image_paths']]"
   ]
  },
  {
   "cell_type": "markdown",
   "id": "61db1ae4",
   "metadata": {},
   "source": [
    "Create a list of labels corresponding to the images."
   ]
  },
  {
   "cell_type": "code",
   "execution_count": null,
   "id": "1d394cb0",
   "metadata": {},
   "outputs": [],
   "source": [
    "label_list = [LabelList(labels) for labels in data['labels']]"
   ]
  },
  {
   "cell_type": "markdown",
   "id": "ecc7af8e",
   "metadata": {},
   "source": [
    "Apply transformations to the images for data augmentation."
   ]
  },
  {
   "cell_type": "code",
   "execution_count": null,
   "id": "001b22f9",
   "metadata": {},
   "outputs": [],
   "source": [
    "transformed_list = apply_transforms(image_list)"
   ]
  },
  {
   "cell_type": "markdown",
   "id": "1565438e",
   "metadata": {},
   "source": [
    "Create a DataBunch object to hold the images and labels."
   ]
  },
  {
   "cell_type": "code",
   "execution_count": null,
   "id": "aa905ff2",
   "metadata": {},
   "outputs": [],
   "source": [
    "data_bunch = create_data_bunch(transformed_list, label_list)"
   ]
  },
  {
   "cell_type": "markdown",
   "id": "7f9a69c8",
   "metadata": {},
   "source": [
    "Display a batch of images from the DataBunch."
   ]
  },
  {
   "cell_type": "code",
   "execution_count": null,
   "id": "09b163ff",
   "metadata": {},
   "outputs": [],
   "source": [
    "show_batch(data_bunch)"
   ]
  },
  {
   "cell_type": "markdown",
   "id": "cdfcda1d",
   "metadata": {},
   "source": [
    "Create a CNN learner using the specified architecture."
   ]
  },
  {
   "cell_type": "code",
   "execution_count": null,
   "id": "07fe7813",
   "metadata": {},
   "outputs": [],
   "source": [
    "learner = create_cnn_learner(data_bunch, architecture='resnet34')"
   ]
  },
  {
   "cell_type": "markdown",
   "id": "8989cd5c",
   "metadata": {},
   "source": [
    "Find the optimal learning rate for training the model."
   ]
  },
  {
   "cell_type": "code",
   "execution_count": null,
   "id": "9df3e781",
   "metadata": {},
   "outputs": [],
   "source": [
    "find_learning_rate(learner)"
   ]
  },
  {
   "cell_type": "markdown",
   "id": "b07ab4b3",
   "metadata": {},
   "source": [
    "Train the model using one cycle training method."
   ]
  },
  {
   "cell_type": "code",
   "execution_count": null,
   "id": "08480477",
   "metadata": {},
   "outputs": [],
   "source": [
    "learner.fit_one_cycle(epochs=5)"
   ]
  },
  {
   "cell_type": "markdown",
   "id": "29e05b0b",
   "metadata": {},
   "source": [
    "Evaluate the performance of the trained model."
   ]
  },
  {
   "cell_type": "code",
   "execution_count": null,
   "id": "e6e15065",
   "metadata": {},
   "outputs": [],
   "source": [
    "evaluate_model(learner)"
   ]
  }
 ],
 "metadata": {
  "kernelspec": {
   "display_name": "Python 3",
   "language": "python",
   "name": "python3"
  },
  "language_info": {
   "codemirror_mode": {
    "name": "ipython",
    "version": 3
   },
   "file_extension": ".py",
   "mimetype": "text/x-python",
   "name": "python",
   "nbconvert_exporter": "python",
   "pygments_lexer": "ipython3",
   "version": "3.8.5"
  }
 },
 "nbformat": 4,
 "nbformat_minor": 5
}
