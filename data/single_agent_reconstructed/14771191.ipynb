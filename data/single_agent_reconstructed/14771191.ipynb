{
 "cells": [
  {
   "cell_type": "markdown",
   "id": "4962c3f0",
   "metadata": {},
   "source": [
    "Load the pre-trained machine learning model from a file."
   ]
  },
  {
   "cell_type": "code",
   "execution_count": null,
   "id": "9fa13351",
   "metadata": {},
   "outputs": [],
   "source": [
    "import joblib\n",
    "model = joblib.load('model.pkl')"
   ]
  },
  {
   "cell_type": "markdown",
   "id": "782c2dfa",
   "metadata": {},
   "source": [
    "Read class names from a text file to map predictions to labels."
   ]
  },
  {
   "cell_type": "code",
   "execution_count": null,
   "id": "fb139068",
   "metadata": {},
   "outputs": [],
   "source": [
    "with open('class_names.txt') as f:\n",
    "    class_names = f.read().splitlines()"
   ]
  },
  {
   "cell_type": "markdown",
   "id": "5d6dc52e",
   "metadata": {},
   "source": [
    "Define a function to test the model with an image and return the predicted class."
   ]
  },
  {
   "cell_type": "code",
   "execution_count": null,
   "id": "76ad6ba0",
   "metadata": {},
   "outputs": [],
   "source": [
    "def test_model(image):\n",
    "    # Process image and return prediction\n",
    "    prediction = model.predict(image)\n",
    "    return class_names[prediction]"
   ]
  },
  {
   "cell_type": "markdown",
   "id": "c3048e98",
   "metadata": {},
   "source": [
    "Load and preprocess an image for testing."
   ]
  },
  {
   "cell_type": "code",
   "execution_count": null,
   "id": "487629f0",
   "metadata": {},
   "outputs": [],
   "source": [
    "from PIL import Image\n",
    "import numpy as np\n",
    "image = np.array(Image.open('test_image.jpg'))"
   ]
  },
  {
   "cell_type": "markdown",
   "id": "8c5ea3a0",
   "metadata": {},
   "source": [
    "Display the model's predictions in a scatter plot."
   ]
  },
  {
   "cell_type": "code",
   "execution_count": null,
   "id": "e8f78d24",
   "metadata": {},
   "outputs": [],
   "source": [
    "import matplotlib.pyplot as plt\n",
    "predictions = test_model(image)\n",
    "plt.scatter(range(len(predictions)), predictions)\n",
    "plt.xlabel('X Axis')\n",
    "plt.ylabel('Y Axis')\n",
    "plt.title('Display Predictions')\n",
    "plt.show()"
   ]
  }
 ],
 "metadata": {
  "kernelspec": {
   "display_name": "Python 3",
   "language": "python",
   "name": "python3"
  },
  "language_info": {
   "codemirror_mode": {
    "name": "ipython",
    "version": 3
   },
   "file_extension": ".py",
   "mimetype": "text/x-python",
   "name": "python",
   "nbconvert_exporter": "python",
   "pygments_lexer": "ipython3",
   "version": "3.8.5"
  }
 },
 "nbformat": 4,
 "nbformat_minor": 5
}
