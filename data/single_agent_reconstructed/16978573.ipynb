{
 "cells": [
  {
   "cell_type": "markdown",
   "id": "e7dca5d7",
   "metadata": {},
   "source": [
    "Load the dataset from a CSV file using pandas."
   ]
  },
  {
   "cell_type": "code",
   "execution_count": null,
   "id": "7471f8cd",
   "metadata": {},
   "outputs": [],
   "source": [
    "import pandas as pd\n",
    "\n",
    "dataset_path = 'path/to/dataset.csv'\n",
    "data = pd.read_csv(dataset_path)"
   ]
  },
  {
   "cell_type": "markdown",
   "id": "11273871",
   "metadata": {},
   "source": [
    "Create a DataFrame from the loaded data."
   ]
  },
  {
   "cell_type": "code",
   "execution_count": null,
   "id": "0b16942e",
   "metadata": {},
   "outputs": [],
   "source": [
    "df = pd.DataFrame(data)"
   ]
  },
  {
   "cell_type": "markdown",
   "id": "8eb88896",
   "metadata": {},
   "source": [
    "Load vehicle images from the specified directory."
   ]
  },
  {
   "cell_type": "code",
   "execution_count": null,
   "id": "8754a7a9",
   "metadata": {},
   "outputs": [],
   "source": [
    "import os\n",
    "vehicle_images_path = 'path/to/vehicle/images/'\n",
    "vehicle_images = [os.path.join(vehicle_images_path, img) for img in os.listdir(vehicle_images_path)]"
   ]
  },
  {
   "cell_type": "markdown",
   "id": "d679abf8",
   "metadata": {},
   "source": [
    "Load non-vehicle images from the specified directory."
   ]
  },
  {
   "cell_type": "code",
   "execution_count": null,
   "id": "7f0019e6",
   "metadata": {},
   "outputs": [],
   "source": [
    "non_vehicle_images_path = 'path/to/non-vehicle/images/'\n",
    "non_vehicle_images = [os.path.join(non_vehicle_images_path, img) for img in os.listdir(non_vehicle_images_path)]"
   ]
  },
  {
   "cell_type": "markdown",
   "id": "57cd5443",
   "metadata": {},
   "source": [
    "Perform a train-test split on the image dataset."
   ]
  },
  {
   "cell_type": "code",
   "execution_count": null,
   "id": "6e97656e",
   "metadata": {},
   "outputs": [],
   "source": [
    "from sklearn.model_selection import train_test_split\n",
    "train_images, test_images = train_test_split(vehicle_images + non_vehicle_images, test_size=0.2)"
   ]
  },
  {
   "cell_type": "markdown",
   "id": "4db501b3",
   "metadata": {},
   "source": [
    "Visualize the first image in the training dataset."
   ]
  },
  {
   "cell_type": "code",
   "execution_count": null,
   "id": "3910c811",
   "metadata": {},
   "outputs": [],
   "source": [
    "import matplotlib.pyplot as plt\n",
    "plt.imshow(train_images[0])\n",
    "plt.show()"
   ]
  },
  {
   "cell_type": "markdown",
   "id": "4f095c81",
   "metadata": {},
   "source": [
    "Change the dimensions of an image to 128x128 pixels."
   ]
  },
  {
   "cell_type": "code",
   "execution_count": null,
   "id": "9997c94e",
   "metadata": {},
   "outputs": [],
   "source": [
    "from keras.preprocessing.image import load_img, img_to_array\n",
    "image = load_img('path/to/image.jpg', target_size=(128, 128))\n",
    "image_array = img_to_array(image)"
   ]
  },
  {
   "cell_type": "markdown",
   "id": "c69c2dec",
   "metadata": {},
   "source": [
    "Define a callback function for early stopping during training."
   ]
  },
  {
   "cell_type": "code",
   "execution_count": null,
   "id": "2b16cfb7",
   "metadata": {},
   "outputs": [],
   "source": [
    "from keras.callbacks import EarlyStopping\n",
    "callback = EarlyStopping(monitor='val_loss', patience=3)"
   ]
  },
  {
   "cell_type": "markdown",
   "id": "f857eaf3",
   "metadata": {},
   "source": [
    "Build a Convolutional Neural Network (CNN) model."
   ]
  },
  {
   "cell_type": "code",
   "execution_count": null,
   "id": "73ba1218",
   "metadata": {},
   "outputs": [],
   "source": [
    "from keras.models import Sequential\n",
    "from keras.layers import Conv2D, MaxPooling2D, Flatten, Dense\n",
    "model = Sequential()\n",
    "model.add(Conv2D(32, (3, 3), activation='relu', input_shape=(128, 128, 3)))\n",
    "model.add(MaxPooling2D(pool_size=(2, 2)))\n",
    "model.add(Flatten())\n",
    "model.add(Dense(64, activation='relu'))\n",
    "model.add(Dense(1, activation='sigmoid'))"
   ]
  },
  {
   "cell_type": "markdown",
   "id": "439677e3",
   "metadata": {},
   "source": [
    "Compile the model using Adam optimizer and binary cross-entropy loss."
   ]
  },
  {
   "cell_type": "code",
   "execution_count": null,
   "id": "048fc763",
   "metadata": {},
   "outputs": [],
   "source": [
    "model.compile(optimizer='adam', loss='binary_crossentropy', metrics=['accuracy'])"
   ]
  },
  {
   "cell_type": "markdown",
   "id": "be9b90ae",
   "metadata": {},
   "source": [
    "Train the model on the training data with the defined callbacks."
   ]
  },
  {
   "cell_type": "code",
   "execution_count": null,
   "id": "d60b1ae2",
   "metadata": {},
   "outputs": [],
   "source": [
    "history = model.fit(train_images, train_labels, validation_data=(test_images, test_labels), epochs=10, callbacks=[callback])"
   ]
  },
  {
   "cell_type": "markdown",
   "id": "f29a8c17",
   "metadata": {},
   "source": [
    "Plot the loss curve of the model training."
   ]
  },
  {
   "cell_type": "code",
   "execution_count": null,
   "id": "4610f711",
   "metadata": {},
   "outputs": [],
   "source": [
    "plt.plot(history.history['loss'])\n",
    "plt.title('Model Loss')\n",
    "plt.ylabel('Loss')\n",
    "plt.xlabel('Epoch')\n",
    "plt.show()"
   ]
  },
  {
   "cell_type": "markdown",
   "id": "0e03cf0d",
   "metadata": {},
   "source": [
    "Plot the accuracy curve of the model training."
   ]
  },
  {
   "cell_type": "code",
   "execution_count": null,
   "id": "025237cf",
   "metadata": {},
   "outputs": [],
   "source": [
    "plt.plot(history.history['accuracy'])\n",
    "plt.title('Model Accuracy')\n",
    "plt.ylabel('Accuracy')\n",
    "plt.xlabel('Epoch')\n",
    "plt.show()"
   ]
  },
  {
   "cell_type": "markdown",
   "id": "12a5c498",
   "metadata": {},
   "source": [
    "Visualize predictions made by the model on the test images."
   ]
  },
  {
   "cell_type": "code",
   "execution_count": null,
   "id": "6e5648d9",
   "metadata": {},
   "outputs": [],
   "source": [
    "predictions = model.predict(test_images)\n",
    "plt.imshow(test_images[0])\n",
    "plt.title('Prediction: ' + str(predictions[0]))\n",
    "plt.show()"
   ]
  },
  {
   "cell_type": "markdown",
   "id": "a6480485",
   "metadata": {},
   "source": [
    "Output a conclusion indicating the end of the training process."
   ]
  },
  {
   "cell_type": "code",
   "execution_count": null,
   "id": "72651718",
   "metadata": {},
   "outputs": [],
   "source": [
    "print('Training complete. Model performance evaluated.')"
   ]
  }
 ],
 "metadata": {
  "kernelspec": {
   "display_name": "Python 3",
   "language": "python",
   "name": "python3"
  },
  "language_info": {
   "codemirror_mode": {
    "name": "ipython",
    "version": 3
   },
   "file_extension": ".py",
   "mimetype": "text/x-python",
   "name": "python",
   "nbconvert_exporter": "python",
   "pygments_lexer": "ipython3",
   "version": "3.8.5"
  }
 },
 "nbformat": 4,
 "nbformat_minor": 5
}
