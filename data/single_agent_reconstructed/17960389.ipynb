{
 "cells": [
  {
   "cell_type": "markdown",
   "id": "5a4e1efc",
   "metadata": {},
   "source": [
    "Import the pandas library for data manipulation."
   ]
  },
  {
   "cell_type": "code",
   "execution_count": null,
   "id": "de99ff83",
   "metadata": {},
   "outputs": [],
   "source": [
    "import pandas as pd"
   ]
  },
  {
   "cell_type": "markdown",
   "id": "32bfb22f",
   "metadata": {},
   "source": [
    "Load training and test data from a CSV file."
   ]
  },
  {
   "cell_type": "code",
   "execution_count": null,
   "id": "20b21c99",
   "metadata": {},
   "outputs": [],
   "source": [
    "data = pd.read_csv('data.csv')"
   ]
  },
  {
   "cell_type": "markdown",
   "id": "2041d174",
   "metadata": {},
   "source": [
    "Check for missing data in the dataset."
   ]
  },
  {
   "cell_type": "code",
   "execution_count": null,
   "id": "a09637ef",
   "metadata": {},
   "outputs": [],
   "source": [
    "data.isnull().sum()"
   ]
  },
  {
   "cell_type": "markdown",
   "id": "2dcb7dc4",
   "metadata": {},
   "source": [
    "Drop columns that contain missing values."
   ]
  },
  {
   "cell_type": "code",
   "execution_count": null,
   "id": "f3ad5ded",
   "metadata": {},
   "outputs": [],
   "source": [
    "data.dropna(axis=1, inplace=True)"
   ]
  },
  {
   "cell_type": "markdown",
   "id": "74e7802e",
   "metadata": {},
   "source": [
    "Clean the dataset by removing outliers using Z-score."
   ]
  },
  {
   "cell_type": "code",
   "execution_count": null,
   "id": "6ccebbfd",
   "metadata": {},
   "outputs": [],
   "source": [
    "from scipy import stats\n",
    "data = data[(np.abs(stats.zscore(data)) < 3).all(axis=1)]"
   ]
  },
  {
   "cell_type": "markdown",
   "id": "0913306b",
   "metadata": {},
   "source": [
    "Select features using statistical tests."
   ]
  },
  {
   "cell_type": "code",
   "execution_count": null,
   "id": "9f355053",
   "metadata": {},
   "outputs": [],
   "source": [
    "from sklearn.feature_selection import SelectKBest, f_regression\n",
    "X = SelectKBest(f_regression, k='all').fit_transform(X, y)"
   ]
  },
  {
   "cell_type": "markdown",
   "id": "e63eda5a",
   "metadata": {},
   "source": [
    "Encode categorical features to numerical values."
   ]
  },
  {
   "cell_type": "code",
   "execution_count": null,
   "id": "f21e9a51",
   "metadata": {},
   "outputs": [],
   "source": [
    "from sklearn.preprocessing import LabelEncoder\n",
    "le = LabelEncoder()\n",
    "data['categorical_column'] = le.fit_transform(data['categorical_column'])"
   ]
  },
  {
   "cell_type": "markdown",
   "id": "540980b5",
   "metadata": {},
   "source": [
    "Calculate correlation matrix to check feature correlations."
   ]
  },
  {
   "cell_type": "code",
   "execution_count": null,
   "id": "1768466f",
   "metadata": {},
   "outputs": [],
   "source": [
    "correlation_matrix = data.corr()"
   ]
  },
  {
   "cell_type": "markdown",
   "id": "0e55a2aa",
   "metadata": {},
   "source": [
    "Split dataset into features and target variable."
   ]
  },
  {
   "cell_type": "code",
   "execution_count": null,
   "id": "7dac795a",
   "metadata": {},
   "outputs": [],
   "source": [
    "X = data.drop('target', axis=1)\n",
    "y = data['target']"
   ]
  },
  {
   "cell_type": "markdown",
   "id": "b1795302",
   "metadata": {},
   "source": [
    "Split the data into training and testing sets."
   ]
  },
  {
   "cell_type": "code",
   "execution_count": null,
   "id": "91aca530",
   "metadata": {},
   "outputs": [],
   "source": [
    "from sklearn.model_selection import train_test_split\n",
    "X_train, X_test, y_train, y_test = train_test_split(X, y, test_size=0.2, random_state=42)"
   ]
  },
  {
   "cell_type": "markdown",
   "id": "a0752b7b",
   "metadata": {},
   "source": [
    "Train a Linear Regression model on the training set."
   ]
  },
  {
   "cell_type": "code",
   "execution_count": null,
   "id": "c587366c",
   "metadata": {},
   "outputs": [],
   "source": [
    "from sklearn.linear_model import LinearRegression\n",
    "model_lr = LinearRegression()\n",
    "model_lr.fit(X_train, y_train)"
   ]
  },
  {
   "cell_type": "markdown",
   "id": "04e92467",
   "metadata": {},
   "source": [
    "Train a Random Forest Regression model on the training set."
   ]
  },
  {
   "cell_type": "code",
   "execution_count": null,
   "id": "c4da25d6",
   "metadata": {},
   "outputs": [],
   "source": [
    "from sklearn.ensemble import RandomForestRegressor\n",
    "model_rf = RandomForestRegressor()\n",
    "model_rf.fit(X_train, y_train)"
   ]
  },
  {
   "cell_type": "markdown",
   "id": "299905d2",
   "metadata": {},
   "source": [
    "Train an XGBoost Regression model on the training set."
   ]
  },
  {
   "cell_type": "code",
   "execution_count": null,
   "id": "c68b3a16",
   "metadata": {},
   "outputs": [],
   "source": [
    "import xgboost as xgb\n",
    "model_xgb = xgb.XGBRegressor()\n",
    "model_xgb.fit(X_train, y_train)"
   ]
  },
  {
   "cell_type": "markdown",
   "id": "10b88e4a",
   "metadata": {},
   "source": [
    "Calculate feature importance scores from the Random Forest model."
   ]
  },
  {
   "cell_type": "code",
   "execution_count": null,
   "id": "2e320542",
   "metadata": {},
   "outputs": [],
   "source": [
    "importances = model_rf.feature_importances_"
   ]
  },
  {
   "cell_type": "markdown",
   "id": "4a93ef48",
   "metadata": {},
   "source": [
    "Evaluate model performance using mean squared error."
   ]
  },
  {
   "cell_type": "code",
   "execution_count": null,
   "id": "4080fbeb",
   "metadata": {},
   "outputs": [],
   "source": [
    "from sklearn.metrics import mean_squared_error\n",
    "mse = mean_squared_error(y_test, model_lr.predict(X_test))"
   ]
  },
  {
   "cell_type": "markdown",
   "id": "cc9fb228",
   "metadata": {},
   "source": [
    "Make predictions on the test data."
   ]
  },
  {
   "cell_type": "code",
   "execution_count": null,
   "id": "8e678077",
   "metadata": {},
   "outputs": [],
   "source": [
    "predictions = model_lr.predict(X_test)"
   ]
  },
  {
   "cell_type": "markdown",
   "id": "e3ece8d4",
   "metadata": {},
   "source": [
    "Prepare and save submission results to a CSV file."
   ]
  },
  {
   "cell_type": "code",
   "execution_count": null,
   "id": "f342ecfc",
   "metadata": {},
   "outputs": [],
   "source": [
    "submission = pd.DataFrame({'Id': test_ids, 'Predicted': predictions})\n",
    "submission.to_csv('submission.csv', index=False)"
   ]
  },
  {
   "cell_type": "markdown",
   "id": "adb936ad",
   "metadata": {},
   "source": [
    "Move the submission file to the desired location."
   ]
  },
  {
   "cell_type": "code",
   "execution_count": null,
   "id": "82c7af57",
   "metadata": {},
   "outputs": [],
   "source": [
    "import shutil\n",
    "shutil.move('submission.csv', '/path/to/destination/')"
   ]
  }
 ],
 "metadata": {
  "kernelspec": {
   "display_name": "Python 3",
   "language": "python",
   "name": "python3"
  },
  "language_info": {
   "codemirror_mode": {
    "name": "ipython",
    "version": 3
   },
   "file_extension": ".py",
   "mimetype": "text/x-python",
   "name": "python",
   "nbconvert_exporter": "python",
   "pygments_lexer": "ipython3",
   "version": "3.8.5"
  }
 },
 "nbformat": 4,
 "nbformat_minor": 5
}
