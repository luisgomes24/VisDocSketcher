{
 "cells": [
  {
   "cell_type": "markdown",
   "id": "922a52a5",
   "metadata": {},
   "source": [
    "Load the dataset from a CSV file into a pandas DataFrame."
   ]
  },
  {
   "cell_type": "code",
   "execution_count": null,
   "id": "8e97f014",
   "metadata": {},
   "outputs": [],
   "source": [
    "import pandas as pd\n",
    "\n",
    "data = pd.read_csv('data.csv')"
   ]
  },
  {
   "cell_type": "markdown",
   "id": "49cf9223",
   "metadata": {},
   "source": [
    "Preprocess the data by filling any missing values."
   ]
  },
  {
   "cell_type": "code",
   "execution_count": null,
   "id": "26a47427",
   "metadata": {},
   "outputs": [],
   "source": [
    "data.fillna(method='ffill', inplace=True)"
   ]
  },
  {
   "cell_type": "markdown",
   "id": "88c17b6b",
   "metadata": {},
   "source": [
    "Process Business Intelligence Tool data by aggregating usage."
   ]
  },
  {
   "cell_type": "code",
   "execution_count": null,
   "id": "2261872f",
   "metadata": {},
   "outputs": [],
   "source": [
    "bi_tool_data = data[['Tool', 'Usage']].groupby('Tool').sum().reset_index()"
   ]
  },
  {
   "cell_type": "markdown",
   "id": "20b7c87b",
   "metadata": {},
   "source": [
    "Create a circular packing visualization of BI tool usage."
   ]
  },
  {
   "cell_type": "code",
   "execution_count": null,
   "id": "800df983",
   "metadata": {},
   "outputs": [],
   "source": [
    "import matplotlib.pyplot as plt\n",
    "import squarify\n",
    "squarify.plot(sizes=bi_tool_data['Usage'], label=bi_tool_data['Tool'])\n",
    "plt.show()"
   ]
  },
  {
   "cell_type": "markdown",
   "id": "74483aa7",
   "metadata": {},
   "source": [
    "Create a Venn diagram to display the overlap between two categories."
   ]
  },
  {
   "cell_type": "code",
   "execution_count": null,
   "id": "7e7dc7fa",
   "metadata": {},
   "outputs": [],
   "source": [
    "import matplotlib_venn as venn\n",
    "venn.venn2(subsets=(10, 10, 5), set_labels=('A', 'B'))\n",
    "plt.show()"
   ]
  },
  {
   "cell_type": "markdown",
   "id": "1d9c273a",
   "metadata": {},
   "source": [
    "Generate a countplot for responses to question Q1."
   ]
  },
  {
   "cell_type": "code",
   "execution_count": null,
   "id": "e2d28acb",
   "metadata": {},
   "outputs": [],
   "source": [
    "import seaborn as sns\n",
    "sns.countplot(x='Q1', data=data)\n",
    "plt.show()"
   ]
  },
  {
   "cell_type": "markdown",
   "id": "ea31ed42",
   "metadata": {},
   "source": [
    "Create a stacked barplot comparing Q1 and Q4 responses."
   ]
  },
  {
   "cell_type": "code",
   "execution_count": null,
   "id": "4d16fbb8",
   "metadata": {},
   "outputs": [],
   "source": [
    "sns.catplot(x='Q1', hue='Q4', data=data, kind='count', height=6, aspect=1.5)\n",
    "plt.show()"
   ]
  },
  {
   "cell_type": "markdown",
   "id": "55ed39bd",
   "metadata": {},
   "source": [
    "Create a pie chart showing the distribution of coding experience."
   ]
  },
  {
   "cell_type": "code",
   "execution_count": null,
   "id": "1152b9dc",
   "metadata": {},
   "outputs": [],
   "source": [
    "experience_counts = data['Coding Experience'].value_counts()\n",
    "experience_counts.plot.pie(autopct='%1.1f%%')\n",
    "plt.show()"
   ]
  },
  {
   "cell_type": "markdown",
   "id": "3d2cdc85",
   "metadata": {},
   "source": [
    "Create a pie chart showing the recommended programming languages."
   ]
  },
  {
   "cell_type": "code",
   "execution_count": null,
   "id": "c358ffa8",
   "metadata": {},
   "outputs": [],
   "source": [
    "languages_counts = data['Recommended Languages'].value_counts()\n",
    "languages_counts.plot.pie(autopct='%1.1f%%')\n",
    "plt.show()"
   ]
  }
 ],
 "metadata": {
  "kernelspec": {
   "display_name": "Python 3",
   "language": "python",
   "name": "python3"
  },
  "language_info": {
   "codemirror_mode": {
    "name": "ipython",
    "version": 3
   },
   "file_extension": ".py",
   "mimetype": "text/x-python",
   "name": "python",
   "nbconvert_exporter": "python",
   "pygments_lexer": "ipython3",
   "version": "3.8.5"
  }
 },
 "nbformat": 4,
 "nbformat_minor": 5
}
