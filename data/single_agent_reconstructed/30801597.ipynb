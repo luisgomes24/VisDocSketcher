{
 "cells": [
  {
   "cell_type": "markdown",
   "id": "ae242bd5",
   "metadata": {},
   "source": [
    "Load the reviews data from a CSV file."
   ]
  },
  {
   "cell_type": "code",
   "execution_count": null,
   "id": "4220934f",
   "metadata": {},
   "outputs": [],
   "source": [
    "import pandas as pd\n",
    "reviews = pd.read_csv('path_to_reviews.csv')"
   ]
  },
  {
   "cell_type": "markdown",
   "id": "7544a0b2",
   "metadata": {},
   "source": [
    "Group the reviews by taster and calculate the mean rating."
   ]
  },
  {
   "cell_type": "code",
   "execution_count": null,
   "id": "e130cb87",
   "metadata": {},
   "outputs": [],
   "source": [
    "reviews_written = reviews.groupby('taster')['rating'].mean()"
   ]
  },
  {
   "cell_type": "markdown",
   "id": "4ac1a26a",
   "metadata": {},
   "source": [
    "Display the average ratings by taster."
   ]
  },
  {
   "cell_type": "code",
   "execution_count": null,
   "id": "f4db35df",
   "metadata": {},
   "outputs": [],
   "source": [
    "print(reviews_written)"
   ]
  },
  {
   "cell_type": "markdown",
   "id": "a14139d6",
   "metadata": {},
   "source": [
    "Group the reviews by price and find the best rating for each price."
   ]
  },
  {
   "cell_type": "code",
   "execution_count": null,
   "id": "3c9230b1",
   "metadata": {},
   "outputs": [],
   "source": [
    "best_rating_per_price = reviews.groupby('price')['rating'].max()"
   ]
  },
  {
   "cell_type": "markdown",
   "id": "4f8ee0a8",
   "metadata": {},
   "source": [
    "Display the best ratings for each price group."
   ]
  },
  {
   "cell_type": "code",
   "execution_count": null,
   "id": "8f586cbf",
   "metadata": {},
   "outputs": [],
   "source": [
    "print(best_rating_per_price)"
   ]
  },
  {
   "cell_type": "markdown",
   "id": "56c7dde4",
   "metadata": {},
   "source": [
    "Group by variety and calculate the minimum and maximum price."
   ]
  },
  {
   "cell_type": "code",
   "execution_count": null,
   "id": "2419d224",
   "metadata": {},
   "outputs": [],
   "source": [
    "price_extremes = reviews.groupby('variety')['price'].agg(['min', 'max'])"
   ]
  },
  {
   "cell_type": "markdown",
   "id": "407d4ff9",
   "metadata": {},
   "source": [
    "Sort the varieties based on the minimum price."
   ]
  },
  {
   "cell_type": "code",
   "execution_count": null,
   "id": "b0d1c453",
   "metadata": {},
   "outputs": [],
   "source": [
    "sorted_varieties = price_extremes.sort_values(by='min')"
   ]
  },
  {
   "cell_type": "markdown",
   "id": "c2ade0a5",
   "metadata": {},
   "source": [
    "Display the sorted varieties by their minimum price."
   ]
  },
  {
   "cell_type": "code",
   "execution_count": null,
   "id": "cf203c57",
   "metadata": {},
   "outputs": [],
   "source": [
    "print(sorted_varieties)"
   ]
  },
  {
   "cell_type": "markdown",
   "id": "b6e1d847",
   "metadata": {},
   "source": [
    "Calculate the mean rating given by each reviewer."
   ]
  },
  {
   "cell_type": "code",
   "execution_count": null,
   "id": "7016ba62",
   "metadata": {},
   "outputs": [],
   "source": [
    "reviewer_mean_ratings = reviews.groupby('reviewer')['rating'].mean()"
   ]
  },
  {
   "cell_type": "markdown",
   "id": "c0632f48",
   "metadata": {},
   "source": [
    "Display the average ratings for each reviewer."
   ]
  },
  {
   "cell_type": "code",
   "execution_count": null,
   "id": "542cf123",
   "metadata": {},
   "outputs": [],
   "source": [
    "print(reviewer_mean_ratings)"
   ]
  },
  {
   "cell_type": "markdown",
   "id": "462f641d",
   "metadata": {},
   "source": [
    "Count the number of varieties per country."
   ]
  },
  {
   "cell_type": "code",
   "execution_count": null,
   "id": "c74a443b",
   "metadata": {},
   "outputs": [],
   "source": [
    "country_variety_counts = reviews.groupby(['country', 'variety']).size()"
   ]
  },
  {
   "cell_type": "markdown",
   "id": "39261046",
   "metadata": {},
   "source": [
    "Display the counts of varieties grouped by country."
   ]
  },
  {
   "cell_type": "code",
   "execution_count": null,
   "id": "3a6ec091",
   "metadata": {},
   "outputs": [],
   "source": [
    "print(country_variety_counts)"
   ]
  }
 ],
 "metadata": {
  "kernelspec": {
   "display_name": "Python 3",
   "language": "python",
   "name": "python3"
  },
  "language_info": {
   "codemirror_mode": {
    "name": "ipython",
    "version": 3
   },
   "file_extension": ".py",
   "mimetype": "text/x-python",
   "name": "python",
   "nbconvert_exporter": "python",
   "pygments_lexer": "ipython3",
   "version": "3.8.5"
  }
 },
 "nbformat": 4,
 "nbformat_minor": 5
}
