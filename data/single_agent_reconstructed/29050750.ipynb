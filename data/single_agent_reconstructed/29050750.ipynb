{
 "cells": [
  {
   "cell_type": "markdown",
   "id": "5a5464fa",
   "metadata": {},
   "source": [
    "Load train and test datasets from CSV files."
   ]
  },
  {
   "cell_type": "code",
   "execution_count": null,
   "id": "ea2b0bed",
   "metadata": {},
   "outputs": [],
   "source": [
    "import pandas as pd\n",
    "train_df = pd.read_csv('train_data.csv')\n",
    "test_df = pd.read_csv('test_data.csv')"
   ]
  },
  {
   "cell_type": "markdown",
   "id": "4c59b827",
   "metadata": {},
   "source": [
    "Fill NaN values and drop skewed columns."
   ]
  },
  {
   "cell_type": "code",
   "execution_count": null,
   "id": "dde2495e",
   "metadata": {},
   "outputs": [],
   "source": [
    "train_df.fillna(method='ffill', inplace=True)\n",
    "train_df = train_df[train_df['column_name'] <= threshold]"
   ]
  },
  {
   "cell_type": "markdown",
   "id": "eff818b0",
   "metadata": {},
   "source": [
    "Split data into training and testing sets."
   ]
  },
  {
   "cell_type": "code",
   "execution_count": null,
   "id": "d85b3dea",
   "metadata": {},
   "outputs": [],
   "source": [
    "from sklearn.model_selection import train_test_split\n",
    "x = train_df.drop('target', axis=1)\n",
    "y = train_df['target']\n",
    "x_train, x_test, y_train, y_test = train_test_split(x, y, test_size=0.2, random_state=42)"
   ]
  },
  {
   "cell_type": "markdown",
   "id": "970bb7ca",
   "metadata": {},
   "source": [
    "Initialize models for training."
   ]
  },
  {
   "cell_type": "code",
   "execution_count": null,
   "id": "109b97eb",
   "metadata": {},
   "outputs": [],
   "source": [
    "from xgboost import XGBRegressor\n",
    "from sklearn.ensemble import RandomForestRegressor, GradientBoostingRegressor\n",
    "models = [XGBRegressor(), RandomForestRegressor(), GradientBoostingRegressor()]"
   ]
  },
  {
   "cell_type": "markdown",
   "id": "68b4d09d",
   "metadata": {},
   "source": [
    "Train the models using the training data."
   ]
  },
  {
   "cell_type": "code",
   "execution_count": null,
   "id": "83f2197f",
   "metadata": {},
   "outputs": [],
   "source": [
    "for model in models:\n",
    "    model.fit(x_train, y_train)\n",
    "    predictions = model.predict(x_test)"
   ]
  },
  {
   "cell_type": "markdown",
   "id": "17e8eeb8",
   "metadata": {},
   "source": [
    "Evaluate models using Mean Absolute Error and R2 score."
   ]
  },
  {
   "cell_type": "code",
   "execution_count": null,
   "id": "81050003",
   "metadata": {},
   "outputs": [],
   "source": [
    "from sklearn.metrics import mean_absolute_error, r2_score\n",
    "evaluation = { 'MAE': [], 'R2': [] }\n",
    "for model in models:\n",
    "    evaluation['MAE'].append(mean_absolute_error(y_test, predictions))\n",
    "    evaluation['R2'].append(r2_score(y_test, predictions))"
   ]
  },
  {
   "cell_type": "markdown",
   "id": "0234c91d",
   "metadata": {},
   "source": [
    "Visualize results using a bar plot."
   ]
  },
  {
   "cell_type": "code",
   "execution_count": null,
   "id": "5fe1f8cf",
   "metadata": {},
   "outputs": [],
   "source": [
    "import matplotlib.pyplot as plt\n",
    "plt.bar(['Model1', 'Model2', 'Model3'], evaluation['MAE'])\n",
    "plt.title('Barplot of Errors')\n",
    "plt.xlabel('Models')\n",
    "plt.ylabel('Error')\n",
    "plt.show()"
   ]
  }
 ],
 "metadata": {
  "kernelspec": {
   "display_name": "Python 3",
   "language": "python",
   "name": "python3"
  },
  "language_info": {
   "codemirror_mode": {
    "name": "ipython",
    "version": 3
   },
   "file_extension": ".py",
   "mimetype": "text/x-python",
   "name": "python",
   "nbconvert_exporter": "python",
   "pygments_lexer": "ipython3",
   "version": "3.8.5"
  }
 },
 "nbformat": 4,
 "nbformat_minor": 5
}
