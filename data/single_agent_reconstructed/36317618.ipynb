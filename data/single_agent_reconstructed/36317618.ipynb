{
 "cells": [
  {
   "cell_type": "markdown",
   "id": "9ee3384d",
   "metadata": {},
   "source": [
    "Load the datasets into a list of DataFrames using pandas."
   ]
  },
  {
   "cell_type": "code",
   "execution_count": null,
   "id": "968127c7",
   "metadata": {},
   "outputs": [],
   "source": [
    "import pandas as pd\n",
    "\n",
    "datasets = [pd.read_csv('dataset1.csv'), pd.read_csv('dataset2.csv')]\n"
   ]
  },
  {
   "cell_type": "markdown",
   "id": "dcab3fbf",
   "metadata": {},
   "source": [
    "Combine the loaded datasets into a single DataFrame."
   ]
  },
  {
   "cell_type": "code",
   "execution_count": null,
   "id": "c4de630a",
   "metadata": {},
   "outputs": [],
   "source": [
    "combined_data = pd.concat(datasets, ignore_index=True)\n"
   ]
  },
  {
   "cell_type": "markdown",
   "id": "1d476d35",
   "metadata": {},
   "source": [
    "Exclude movies with a low number of ratings to remove rare movies."
   ]
  },
  {
   "cell_type": "code",
   "execution_count": null,
   "id": "9c89b3b1",
   "metadata": {},
   "outputs": [],
   "source": [
    "filtered_data = combined_data[combined_data['ratings_count'] > 50]\n"
   ]
  },
  {
   "cell_type": "markdown",
   "id": "c6c7b1d4",
   "metadata": {},
   "source": [
    "Create a pivot table with users as rows and movies as columns."
   ]
  },
  {
   "cell_type": "code",
   "execution_count": null,
   "id": "d1a48496",
   "metadata": {},
   "outputs": [],
   "source": [
    "pivot_table = filtered_data.pivot_table(index='user_id', columns='movie_id', values='rating')\n"
   ]
  },
  {
   "cell_type": "markdown",
   "id": "b2a8ae91",
   "metadata": {},
   "source": [
    "Select a random user ID from the pivot table."
   ]
  },
  {
   "cell_type": "code",
   "execution_count": null,
   "id": "4bb54e03",
   "metadata": {},
   "outputs": [],
   "source": [
    "import random\n",
    "\n",
    "random_user_id = random.choice(pivot_table.index)\n"
   ]
  },
  {
   "cell_type": "markdown",
   "id": "226d8266",
   "metadata": {},
   "source": [
    "Identify the most recently rated movie by the selected user."
   ]
  },
  {
   "cell_type": "code",
   "execution_count": null,
   "id": "84e886b8",
   "metadata": {},
   "outputs": [],
   "source": [
    "recent_movie = pivot_table.loc[random_user_id].dropna().idxmax()\n"
   ]
  },
  {
   "cell_type": "markdown",
   "id": "3c86bd1b",
   "metadata": {},
   "source": [
    "Calculate the correlation of the recently rated movie with other movies."
   ]
  },
  {
   "cell_type": "code",
   "execution_count": null,
   "id": "846d0b64",
   "metadata": {},
   "outputs": [],
   "source": [
    "correlations = pivot_table.corrwith(pivot_table[recent_movie])\n"
   ]
  },
  {
   "cell_type": "markdown",
   "id": "5989698b",
   "metadata": {},
   "source": [
    "Recommend the top 5 movies based on correlation scores."
   ]
  },
  {
   "cell_type": "code",
   "execution_count": null,
   "id": "01296336",
   "metadata": {},
   "outputs": [],
   "source": [
    "recommended_movies = correlations.nlargest(5).index.tolist()\n"
   ]
  }
 ],
 "metadata": {
  "kernelspec": {
   "display_name": "Python 3",
   "language": "python",
   "name": "python3"
  },
  "language_info": {
   "codemirror_mode": {
    "name": "ipython",
    "version": 3
   },
   "file_extension": ".py",
   "mimetype": "text/x-python",
   "name": "python",
   "nbconvert_exporter": "python",
   "pygments_lexer": "ipython3",
   "version": "3.8.5"
  }
 },
 "nbformat": 4,
 "nbformat_minor": 5
}
