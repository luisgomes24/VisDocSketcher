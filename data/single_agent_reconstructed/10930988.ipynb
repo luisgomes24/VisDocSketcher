{
 "cells": [
  {
   "cell_type": "markdown",
   "id": "889ff056",
   "metadata": {},
   "source": [
    "Load the training and testing datasets from CSV files."
   ]
  },
  {
   "cell_type": "code",
   "execution_count": null,
   "id": "631820fb",
   "metadata": {},
   "outputs": [],
   "source": [
    "import pandas as pd\n",
    "train_house = pd.read_csv('train_house.csv')\n",
    "test_house = pd.read_csv('test_house.csv')"
   ]
  },
  {
   "cell_type": "markdown",
   "id": "ae1256c5",
   "metadata": {},
   "source": [
    "Generate and display a profiling report for the training dataset."
   ]
  },
  {
   "cell_type": "code",
   "execution_count": null,
   "id": "b5309817",
   "metadata": {},
   "outputs": [],
   "source": [
    "from pandas_profiling import ProfileReport\n",
    "profile = ProfileReport(train_house)\n",
    "profile.to_notebook_iframe()"
   ]
  },
  {
   "cell_type": "markdown",
   "id": "39e39047",
   "metadata": {},
   "source": [
    "Initialize the data preprocessing step with PyCaret's setup function."
   ]
  },
  {
   "cell_type": "code",
   "execution_count": null,
   "id": "36921833",
   "metadata": {},
   "outputs": [],
   "source": [
    "from pycaret.regression import setup\n",
    "data = setup(data=train_house, target='target_column')"
   ]
  },
  {
   "cell_type": "markdown",
   "id": "70b5a1df",
   "metadata": {},
   "source": [
    "Create a LightGBM model using PyCaret."
   ]
  },
  {
   "cell_type": "code",
   "execution_count": null,
   "id": "6ee474ea",
   "metadata": {},
   "outputs": [],
   "source": [
    "from pycaret.regression import create_model\n",
    "lgm = create_model('lightgbm')"
   ]
  },
  {
   "cell_type": "markdown",
   "id": "22a36da1",
   "metadata": {},
   "source": [
    "Evaluate the performance of the LightGBM model."
   ]
  },
  {
   "cell_type": "code",
   "execution_count": null,
   "id": "d703be98",
   "metadata": {},
   "outputs": [],
   "source": [
    "from pycaret.regression import evaluate_model\n",
    "evaluate_model(lgm)"
   ]
  },
  {
   "cell_type": "markdown",
   "id": "76ea9bfb",
   "metadata": {},
   "source": [
    "Make predictions on the holdout test dataset."
   ]
  },
  {
   "cell_type": "code",
   "execution_count": null,
   "id": "df1777f2",
   "metadata": {},
   "outputs": [],
   "source": [
    "from pycaret.regression import predict_model\n",
    "predictions = predict_model(lgm, data=test_house)"
   ]
  },
  {
   "cell_type": "markdown",
   "id": "eced5927",
   "metadata": {},
   "source": [
    "Export the final predictions to a CSV file."
   ]
  },
  {
   "cell_type": "code",
   "execution_count": null,
   "id": "1980a0f7",
   "metadata": {},
   "outputs": [],
   "source": [
    "predictions.to_csv('final_predictions.csv', index=False)"
   ]
  }
 ],
 "metadata": {
  "kernelspec": {
   "display_name": "Python 3",
   "language": "python",
   "name": "python3"
  },
  "language_info": {
   "codemirror_mode": {
    "name": "ipython",
    "version": 3
   },
   "file_extension": ".py",
   "mimetype": "text/x-python",
   "name": "python",
   "nbconvert_exporter": "python",
   "pygments_lexer": "ipython3",
   "version": "3.8.5"
  }
 },
 "nbformat": 4,
 "nbformat_minor": 5
}
