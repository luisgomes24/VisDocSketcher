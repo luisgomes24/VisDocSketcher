{
 "cells": [
  {
   "cell_type": "markdown",
   "id": "6bc7f20b",
   "metadata": {},
   "source": [
    "Load the datasets 'farm_ads' and 'farm_vect' from CSV files."
   ]
  },
  {
   "cell_type": "code",
   "execution_count": null,
   "id": "fa4d714b",
   "metadata": {},
   "outputs": [],
   "source": [
    "import pandas as pd\n",
    "farm_ads = pd.read_csv('farm_ads.csv')\n",
    "farm_vect = pd.read_csv('farm_vect.csv')"
   ]
  },
  {
   "cell_type": "markdown",
   "id": "bbaa4999",
   "metadata": {},
   "source": [
    "Merge the two datasets on a common column."
   ]
  },
  {
   "cell_type": "code",
   "execution_count": null,
   "id": "e979291c",
   "metadata": {},
   "outputs": [],
   "source": [
    "merged_data = pd.merge(farm_ads, farm_vect, on='common_column')"
   ]
  },
  {
   "cell_type": "markdown",
   "id": "b96c5e4d",
   "metadata": {},
   "source": [
    "Apply label encoding to the target column in the merged data."
   ]
  },
  {
   "cell_type": "code",
   "execution_count": null,
   "id": "c9e530c9",
   "metadata": {},
   "outputs": [],
   "source": [
    "from sklearn.preprocessing import LabelEncoder\n",
    "le = LabelEncoder()\n",
    "merged_data['target'] = le.fit_transform(merged_data['target_column'])"
   ]
  },
  {
   "cell_type": "markdown",
   "id": "1dfc1c91",
   "metadata": {},
   "source": [
    "Split the data into training and testing sets."
   ]
  },
  {
   "cell_type": "code",
   "execution_count": null,
   "id": "490205b5",
   "metadata": {},
   "outputs": [],
   "source": [
    "from sklearn.model_selection import train_test_split\n",
    "X = merged_data.drop('target', axis=1)\n",
    "y = merged_data['target']\n",
    "X_train, X_test, y_train, y_test = train_test_split(X, y, test_size=0.2, random_state=42)"
   ]
  },
  {
   "cell_type": "markdown",
   "id": "98d55301",
   "metadata": {},
   "source": [
    "Train a Random Forest Classifier model using the training data."
   ]
  },
  {
   "cell_type": "code",
   "execution_count": null,
   "id": "e5247d82",
   "metadata": {},
   "outputs": [],
   "source": [
    "from sklearn.ensemble import RandomForestClassifier\n",
    "model = RandomForestClassifier()\n",
    "model.fit(X_train, y_train)"
   ]
  },
  {
   "cell_type": "markdown",
   "id": "2215c989",
   "metadata": {},
   "source": [
    "Make predictions on the test set."
   ]
  },
  {
   "cell_type": "code",
   "execution_count": null,
   "id": "545620df",
   "metadata": {},
   "outputs": [],
   "source": [
    "predictions = model.predict(X_test)"
   ]
  },
  {
   "cell_type": "markdown",
   "id": "042e6350",
   "metadata": {},
   "source": [
    "Evaluate model performance by calculating the accuracy score."
   ]
  },
  {
   "cell_type": "code",
   "execution_count": null,
   "id": "b6ee0796",
   "metadata": {},
   "outputs": [],
   "source": [
    "from sklearn.metrics import accuracy_score\n",
    "accuracy = accuracy_score(y_test, predictions)"
   ]
  }
 ],
 "metadata": {
  "kernelspec": {
   "display_name": "Python 3",
   "language": "python",
   "name": "python3"
  },
  "language_info": {
   "codemirror_mode": {
    "name": "ipython",
    "version": 3
   },
   "file_extension": ".py",
   "mimetype": "text/x-python",
   "name": "python",
   "nbconvert_exporter": "python",
   "pygments_lexer": "ipython3",
   "version": "3.8.5"
  }
 },
 "nbformat": 4,
 "nbformat_minor": 5
}
