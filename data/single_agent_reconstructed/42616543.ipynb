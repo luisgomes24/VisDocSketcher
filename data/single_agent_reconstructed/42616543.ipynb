{
 "cells": [
  {
   "cell_type": "markdown",
   "id": "023e6794",
   "metadata": {},
   "source": [
    "Load the dataset using Pandas from a CSV file."
   ]
  },
  {
   "cell_type": "code",
   "execution_count": null,
   "id": "8f2c83a3",
   "metadata": {},
   "outputs": [],
   "source": [
    "import pandas as pd\n",
    "\n",
    "data = pd.read_csv('data.csv')"
   ]
  },
  {
   "cell_type": "markdown",
   "id": "bae125fb",
   "metadata": {},
   "source": [
    "Prepare a list of URLs from a specified column in the data."
   ]
  },
  {
   "cell_type": "code",
   "execution_count": null,
   "id": "be3901fe",
   "metadata": {},
   "outputs": [],
   "source": [
    "urls = data['url_column'].tolist()"
   ]
  },
  {
   "cell_type": "markdown",
   "id": "03703b7f",
   "metadata": {},
   "source": [
    "Send HTTP GET requests to each URL and store the response times."
   ]
  },
  {
   "cell_type": "code",
   "execution_count": null,
   "id": "01ad528c",
   "metadata": {},
   "outputs": [],
   "source": [
    "import requests\n",
    "\n",
    "response_times = []\n",
    "for url in urls:\n",
    "    response = requests.get(url)\n",
    "    response_times.append(response.elapsed.total_seconds())"
   ]
  },
  {
   "cell_type": "markdown",
   "id": "6036a730",
   "metadata": {},
   "source": [
    "Store the response times in a CSV file for later analysis."
   ]
  },
  {
   "cell_type": "code",
   "execution_count": null,
   "id": "d8e7f8b4",
   "metadata": {},
   "outputs": [],
   "source": [
    "import numpy as np\n",
    "\n",
    "np.savetxt('response_times.csv', response_times, delimiter=',')"
   ]
  },
  {
   "cell_type": "markdown",
   "id": "656b18e4",
   "metadata": {},
   "source": [
    "Visualize the response times using a line plot."
   ]
  },
  {
   "cell_type": "code",
   "execution_count": null,
   "id": "bf2e788b",
   "metadata": {},
   "outputs": [],
   "source": [
    "import matplotlib.pyplot as plt\n",
    "\n",
    "plt.plot(response_times)\n",
    "plt.title('Response Times')\n",
    "plt.xlabel('Request Index')\n",
    "plt.ylabel('Time (seconds)')\n",
    "plt.show()"
   ]
  },
  {
   "cell_type": "markdown",
   "id": "86faac06",
   "metadata": {},
   "source": [
    "Calculate and print the average response time from the collected data."
   ]
  },
  {
   "cell_type": "code",
   "execution_count": null,
   "id": "8410c462",
   "metadata": {},
   "outputs": [],
   "source": [
    "average_time = np.mean(response_times)\n",
    "print(f'Average Response Time: {average_time} seconds')"
   ]
  }
 ],
 "metadata": {
  "kernelspec": {
   "display_name": "Python 3",
   "language": "python",
   "name": "python3"
  },
  "language_info": {
   "codemirror_mode": {
    "name": "ipython",
    "version": 3
   },
   "file_extension": ".py",
   "mimetype": "text/x-python",
   "name": "python",
   "nbconvert_exporter": "python",
   "pygments_lexer": "ipython3",
   "version": "3.8.5"
  }
 },
 "nbformat": 4,
 "nbformat_minor": 5
}
