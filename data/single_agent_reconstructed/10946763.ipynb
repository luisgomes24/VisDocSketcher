{
 "cells": [
  {
   "cell_type": "markdown",
   "id": "eb8d5daf",
   "metadata": {},
   "source": [
    "Load data from a CSV file using pandas."
   ]
  },
  {
   "cell_type": "code",
   "execution_count": null,
   "id": "db6dc9a0",
   "metadata": {},
   "outputs": [],
   "source": [
    "import pandas as pd\n",
    "\n",
    "data = pd.read_csv('data.csv')"
   ]
  },
  {
   "cell_type": "markdown",
   "id": "ecc09b6e",
   "metadata": {},
   "source": [
    "Preview the first few rows of the loaded data."
   ]
  },
  {
   "cell_type": "code",
   "execution_count": null,
   "id": "42c69700",
   "metadata": {},
   "outputs": [],
   "source": [
    "print(data.head())"
   ]
  },
  {
   "cell_type": "markdown",
   "id": "976e7275",
   "metadata": {},
   "source": [
    "Plot the distribution of a specific column."
   ]
  },
  {
   "cell_type": "code",
   "execution_count": null,
   "id": "e18903dd",
   "metadata": {},
   "outputs": [],
   "source": [
    "import matplotlib.pyplot as plt\n",
    "\n",
    "data['column_name'].hist()\n",
    "plt.show()"
   ]
  },
  {
   "cell_type": "markdown",
   "id": "380cad6b",
   "metadata": {},
   "source": [
    "Calculate and print the correlation matrix of the dataset."
   ]
  },
  {
   "cell_type": "code",
   "execution_count": null,
   "id": "be7dbb12",
   "metadata": {},
   "outputs": [],
   "source": [
    "correlation_matrix = data.corr()\n",
    "print(correlation_matrix)"
   ]
  },
  {
   "cell_type": "markdown",
   "id": "ed2f92b1",
   "metadata": {},
   "source": [
    "Create scatter plots to examine relationships between variables."
   ]
  },
  {
   "cell_type": "code",
   "execution_count": null,
   "id": "de7cf4ac",
   "metadata": {},
   "outputs": [],
   "source": [
    "import seaborn as sns\n",
    "\n",
    "sns.scatterplot(x='column_x', y='column_y', data=data)\n",
    "plt.show()"
   ]
  },
  {
   "cell_type": "markdown",
   "id": "fc899cb3",
   "metadata": {},
   "source": [
    "Create density plots to visualize the distribution of a column."
   ]
  },
  {
   "cell_type": "code",
   "execution_count": null,
   "id": "0821a1fd",
   "metadata": {},
   "outputs": [],
   "source": [
    "sns.kdeplot(data['column_name'])\n",
    "plt.show()"
   ]
  }
 ],
 "metadata": {
  "kernelspec": {
   "display_name": "Python 3",
   "language": "python",
   "name": "python3"
  },
  "language_info": {
   "codemirror_mode": {
    "name": "ipython",
    "version": 3
   },
   "file_extension": ".py",
   "mimetype": "text/x-python",
   "name": "python",
   "nbconvert_exporter": "python",
   "pygments_lexer": "ipython3",
   "version": "3.8.5"
  }
 },
 "nbformat": 4,
 "nbformat_minor": 5
}
