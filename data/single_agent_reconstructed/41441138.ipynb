{
 "cells": [
  {
   "cell_type": "markdown",
   "id": "fa37f22f",
   "metadata": {},
   "source": [
    "Load the CSV data into a Pandas DataFrame."
   ]
  },
  {
   "cell_type": "code",
   "execution_count": null,
   "id": "8ded3dc4",
   "metadata": {},
   "outputs": [],
   "source": [
    "import pandas as pd\n",
    "\n",
    "data = pd.read_csv('data.csv')"
   ]
  },
  {
   "cell_type": "markdown",
   "id": "00c64fde",
   "metadata": {},
   "source": [
    "Examine the data by obtaining information and descriptive statistics."
   ]
  },
  {
   "cell_type": "code",
   "execution_count": null,
   "id": "6e6427a6",
   "metadata": {},
   "outputs": [],
   "source": [
    "print(data.info())\n",
    "print(data.describe())"
   ]
  },
  {
   "cell_type": "markdown",
   "id": "6a12fff2",
   "metadata": {},
   "source": [
    "Create a count plot to visualize the number of crimes per victim's age."
   ]
  },
  {
   "cell_type": "code",
   "execution_count": null,
   "id": "dbfb87c4",
   "metadata": {},
   "outputs": [],
   "source": [
    "import seaborn as sns\n",
    "import matplotlib.pyplot as plt\n",
    "\n",
    "sns.countplot(x='age', data=data)\n",
    "plt.title(\"Number of Crimes per Victim's Age\")\n",
    "plt.show()"
   ]
  }
 ],
 "metadata": {
  "kernelspec": {
   "display_name": "Python 3",
   "language": "python",
   "name": "python3"
  },
  "language_info": {
   "codemirror_mode": {
    "name": "ipython",
    "version": 3
   },
   "file_extension": ".py",
   "mimetype": "text/x-python",
   "name": "python",
   "nbconvert_exporter": "python",
   "pygments_lexer": "ipython3",
   "version": "3.8.5"
  }
 },
 "nbformat": 4,
 "nbformat_minor": 5
}
