{
 "cells": [
  {
   "cell_type": "markdown",
   "id": "b2a264d8",
   "metadata": {},
   "source": [
    "Load dataset from a CSV file using pandas."
   ]
  },
  {
   "cell_type": "code",
   "execution_count": null,
   "id": "7338c1e5",
   "metadata": {},
   "outputs": [],
   "source": [
    "import pandas as pd\n",
    "data = pd.read_csv('data.csv')"
   ]
  },
  {
   "cell_type": "markdown",
   "id": "b464136b",
   "metadata": {},
   "source": [
    "Create a basic NumPy ndarray."
   ]
  },
  {
   "cell_type": "code",
   "execution_count": null,
   "id": "5ca0dda5",
   "metadata": {},
   "outputs": [],
   "source": [
    "import numpy as np\n",
    "array_basic = np.array([1, 2, 3])"
   ]
  },
  {
   "cell_type": "markdown",
   "id": "a67aeb3a",
   "metadata": {},
   "source": [
    "Create an array filled with zeros of shape (2, 3)."
   ]
  },
  {
   "cell_type": "code",
   "execution_count": null,
   "id": "7549f9e6",
   "metadata": {},
   "outputs": [],
   "source": [
    "array_zeros = np.zeros((2, 3))"
   ]
  },
  {
   "cell_type": "markdown",
   "id": "162c0f2a",
   "metadata": {},
   "source": [
    "Create an array filled with ones of shape (2, 3)."
   ]
  },
  {
   "cell_type": "code",
   "execution_count": null,
   "id": "09048097",
   "metadata": {},
   "outputs": [],
   "source": [
    "array_ones = np.ones((2, 3))"
   ]
  },
  {
   "cell_type": "markdown",
   "id": "ec2c99df",
   "metadata": {},
   "source": [
    "Generate a 3x2 array of random numbers."
   ]
  },
  {
   "cell_type": "code",
   "execution_count": null,
   "id": "c3b2e682",
   "metadata": {},
   "outputs": [],
   "source": [
    "random_numbers = np.random.rand(3, 2)"
   ]
  },
  {
   "cell_type": "markdown",
   "id": "07fc688c",
   "metadata": {},
   "source": [
    "Create an array of 5 evenly spaced numbers between 0 and 10."
   ]
  },
  {
   "cell_type": "code",
   "execution_count": null,
   "id": "d65ae958",
   "metadata": {},
   "outputs": [],
   "source": [
    "evenly_spaced_array = np.linspace(0, 10, 5)"
   ]
  },
  {
   "cell_type": "markdown",
   "id": "ecf6f4c3",
   "metadata": {},
   "source": [
    "Create a 3x3 identity matrix."
   ]
  },
  {
   "cell_type": "code",
   "execution_count": null,
   "id": "2a9e1f54",
   "metadata": {},
   "outputs": [],
   "source": [
    "identity_matrix = np.eye(3)"
   ]
  },
  {
   "cell_type": "markdown",
   "id": "7a3beb60",
   "metadata": {},
   "source": [
    "Reshape an array of ones into shape (1, 6)."
   ]
  },
  {
   "cell_type": "code",
   "execution_count": null,
   "id": "f303e56a",
   "metadata": {},
   "outputs": [],
   "source": [
    "reshaped_array = array_ones.reshape((1, 6))"
   ]
  },
  {
   "cell_type": "markdown",
   "id": "87af7d64",
   "metadata": {},
   "source": [
    "Flatten the reshaped array into a 1D array."
   ]
  },
  {
   "cell_type": "code",
   "execution_count": null,
   "id": "83df591c",
   "metadata": {},
   "outputs": [],
   "source": [
    "flattened_array = reshaped_array.flatten()"
   ]
  },
  {
   "cell_type": "markdown",
   "id": "9825f115",
   "metadata": {},
   "source": [
    "Perform element-wise addition on NumPy arrays."
   ]
  },
  {
   "cell_type": "code",
   "execution_count": null,
   "id": "10f99ed4",
   "metadata": {},
   "outputs": [],
   "source": [
    "math_result = np.add(array_ones, array_zeros)"
   ]
  },
  {
   "cell_type": "markdown",
   "id": "ce798f29",
   "metadata": {},
   "source": [
    "Calculate the mean of random numbers."
   ]
  },
  {
   "cell_type": "code",
   "execution_count": null,
   "id": "6cb2cd86",
   "metadata": {},
   "outputs": [],
   "source": [
    "mean_value = np.mean(random_numbers)"
   ]
  },
  {
   "cell_type": "markdown",
   "id": "e8500839",
   "metadata": {},
   "source": [
    "Sort the array of evenly spaced numbers."
   ]
  },
  {
   "cell_type": "code",
   "execution_count": null,
   "id": "7cf23d72",
   "metadata": {},
   "outputs": [],
   "source": [
    "sorted_array = np.sort(evenly_spaced_array)"
   ]
  },
  {
   "cell_type": "markdown",
   "id": "c817941c",
   "metadata": {},
   "source": [
    "Slice the sorted array to get elements from index 1 to 3."
   ]
  },
  {
   "cell_type": "code",
   "execution_count": null,
   "id": "fb4f773a",
   "metadata": {},
   "outputs": [],
   "source": [
    "sliced_array = sorted_array[1:4]"
   ]
  },
  {
   "cell_type": "markdown",
   "id": "d072f8f7",
   "metadata": {},
   "source": [
    "Display the generated random number array as an image."
   ]
  },
  {
   "cell_type": "code",
   "execution_count": null,
   "id": "24b7d50a",
   "metadata": {},
   "outputs": [],
   "source": [
    "import matplotlib.pyplot as plt\n",
    "plt.imshow(random_numbers)"
   ]
  },
  {
   "cell_type": "markdown",
   "id": "b4116fc7",
   "metadata": {},
   "source": [
    "Flip the image vertically."
   ]
  },
  {
   "cell_type": "code",
   "execution_count": null,
   "id": "60821f78",
   "metadata": {},
   "outputs": [],
   "source": [
    "flipped_image = np.flip(random_numbers, axis=0)"
   ]
  },
  {
   "cell_type": "markdown",
   "id": "75e4ad9c",
   "metadata": {},
   "source": [
    "Convert a color image to grayscale using the weighted sum."
   ]
  },
  {
   "cell_type": "code",
   "execution_count": null,
   "id": "fd7b419c",
   "metadata": {},
   "outputs": [],
   "source": [
    "gray_image = np.dot(flipped_image[...,:3], [0.299, 0.587, 0.114])"
   ]
  }
 ],
 "metadata": {
  "kernelspec": {
   "display_name": "Python 3",
   "language": "python",
   "name": "python3"
  },
  "language_info": {
   "codemirror_mode": {
    "name": "ipython",
    "version": 3
   },
   "file_extension": ".py",
   "mimetype": "text/x-python",
   "name": "python",
   "nbconvert_exporter": "python",
   "pygments_lexer": "ipython3",
   "version": "3.8.5"
  }
 },
 "nbformat": 4,
 "nbformat_minor": 5
}
