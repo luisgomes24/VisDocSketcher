{
 "cells": [
  {
   "cell_type": "markdown",
   "id": "b80744fb",
   "metadata": {},
   "source": [
    "Load the dataset from a CSV file into a pandas DataFrame."
   ]
  },
  {
   "cell_type": "code",
   "execution_count": null,
   "id": "286976e0",
   "metadata": {},
   "outputs": [],
   "source": [
    "import pandas as pd\n",
    "\n",
    "data = pd.read_csv('petrol_data.csv')"
   ]
  },
  {
   "cell_type": "markdown",
   "id": "aecbd61d",
   "metadata": {},
   "source": [
    "Get an overview of the DataFrame including data types and non-null counts."
   ]
  },
  {
   "cell_type": "code",
   "execution_count": null,
   "id": "089e8c74",
   "metadata": {},
   "outputs": [],
   "source": [
    "data.info()"
   ]
  },
  {
   "cell_type": "markdown",
   "id": "83b36c61",
   "metadata": {},
   "source": [
    "Generate descriptive statistics for numerical columns in the DataFrame."
   ]
  },
  {
   "cell_type": "code",
   "execution_count": null,
   "id": "2c7e9946",
   "metadata": {},
   "outputs": [],
   "source": [
    "data.describe()"
   ]
  },
  {
   "cell_type": "markdown",
   "id": "45cd952e",
   "metadata": {},
   "source": [
    "Filter the data to only include entries from the selected city."
   ]
  },
  {
   "cell_type": "code",
   "execution_count": null,
   "id": "14b7bdf8",
   "metadata": {},
   "outputs": [],
   "source": [
    "city_data = data[data['City'] == 'Selected City']"
   ]
  },
  {
   "cell_type": "markdown",
   "id": "90ef6837",
   "metadata": {},
   "source": [
    "Reset the index of the filtered DataFrame."
   ]
  },
  {
   "cell_type": "code",
   "execution_count": null,
   "id": "4793cb9b",
   "metadata": {},
   "outputs": [],
   "source": [
    "city_data.reset_index(drop=True, inplace=True)"
   ]
  },
  {
   "cell_type": "markdown",
   "id": "8d727256",
   "metadata": {},
   "source": [
    "Select relevant columns for further analysis."
   ]
  },
  {
   "cell_type": "code",
   "execution_count": null,
   "id": "96718607",
   "metadata": {},
   "outputs": [],
   "source": [
    "city_data = city_data[['Column1', 'Column2', ...]]"
   ]
  },
  {
   "cell_type": "markdown",
   "id": "16fc759d",
   "metadata": {},
   "source": [
    "Fill missing values using forward fill method."
   ]
  },
  {
   "cell_type": "code",
   "execution_count": null,
   "id": "c9dcbda6",
   "metadata": {},
   "outputs": [],
   "source": [
    "city_data.fillna(method='ffill', inplace=True)"
   ]
  },
  {
   "cell_type": "markdown",
   "id": "7efd3d64",
   "metadata": {},
   "source": [
    "Visualize the data as a time series plot."
   ]
  },
  {
   "cell_type": "code",
   "execution_count": null,
   "id": "70499330",
   "metadata": {},
   "outputs": [],
   "source": [
    "import matplotlib.pyplot as plt\n",
    "\n",
    "plt.plot(city_data['Date'], city_data['Value'])\n",
    "plt.title('Time Series Visualization')\n",
    "plt.show()"
   ]
  },
  {
   "cell_type": "markdown",
   "id": "b995f7b7",
   "metadata": {},
   "source": [
    "Setup an experiment using the TimeSeriesExperiment class."
   ]
  },
  {
   "cell_type": "code",
   "execution_count": null,
   "id": "9dc30d83",
   "metadata": {},
   "outputs": [],
   "source": [
    "from ts_experiment import TimeSeriesExperiment\n",
    "\n",
    "experiment = TimeSeriesExperiment(data=city_data)"
   ]
  },
  {
   "cell_type": "markdown",
   "id": "350c0103",
   "metadata": {},
   "source": [
    "Compare the performance of different models on the time series data."
   ]
  },
  {
   "cell_type": "code",
   "execution_count": null,
   "id": "6106c409",
   "metadata": {},
   "outputs": [],
   "source": [
    "experiment.compare_models()"
   ]
  }
 ],
 "metadata": {
  "kernelspec": {
   "display_name": "Python 3",
   "language": "python",
   "name": "python3"
  },
  "language_info": {
   "codemirror_mode": {
    "name": "ipython",
    "version": 3
   },
   "file_extension": ".py",
   "mimetype": "text/x-python",
   "name": "python",
   "nbconvert_exporter": "python",
   "pygments_lexer": "ipython3",
   "version": "3.8.5"
  }
 },
 "nbformat": 4,
 "nbformat_minor": 5
}
