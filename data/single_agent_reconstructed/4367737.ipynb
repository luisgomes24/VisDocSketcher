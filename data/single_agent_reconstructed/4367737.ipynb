{
 "cells": [
  {
   "cell_type": "markdown",
   "id": "6627e1cb",
   "metadata": {},
   "source": [
    "Load the dataset using pandas, specifying the file path."
   ]
  },
  {
   "cell_type": "code",
   "execution_count": null,
   "id": "156dbe6a",
   "metadata": {},
   "outputs": [],
   "source": [
    "import pandas as pd\n",
    "data = pd.read_csv('data.csv')"
   ]
  },
  {
   "cell_type": "markdown",
   "id": "0c1172b2",
   "metadata": {},
   "source": [
    "Preview the first few rows of the dataset to understand its structure."
   ]
  },
  {
   "cell_type": "code",
   "execution_count": null,
   "id": "2a860e2a",
   "metadata": {},
   "outputs": [],
   "source": [
    "print(data.head())"
   ]
  },
  {
   "cell_type": "markdown",
   "id": "3425c0c2",
   "metadata": {},
   "source": [
    "Create distribution graphs using boxplots to visualize data distributions."
   ]
  },
  {
   "cell_type": "code",
   "execution_count": null,
   "id": "891888e0",
   "metadata": {},
   "outputs": [],
   "source": [
    "import seaborn as sns\n",
    "sns.boxplot(data=data)"
   ]
  },
  {
   "cell_type": "markdown",
   "id": "6511663b",
   "metadata": {},
   "source": [
    "Calculate and visualize the correlation matrix using a heatmap."
   ]
  },
  {
   "cell_type": "code",
   "execution_count": null,
   "id": "86f2f8ea",
   "metadata": {},
   "outputs": [],
   "source": [
    "correlation_matrix = data.corr()\n",
    "sns.heatmap(correlation_matrix, annot=True)"
   ]
  },
  {
   "cell_type": "markdown",
   "id": "2351a0e2",
   "metadata": {},
   "source": [
    "Generate scatter and density plots to observe relationships in the data."
   ]
  },
  {
   "cell_type": "code",
   "execution_count": null,
   "id": "0aa68701",
   "metadata": {},
   "outputs": [],
   "source": [
    "sns.scatterplot(x='X Axis', y='Y Axis', data=data)\n",
    "sns.kdeplot(data['X Axis'], data['Y Axis'])"
   ]
  }
 ],
 "metadata": {
  "kernelspec": {
   "display_name": "Python 3",
   "language": "python",
   "name": "python3"
  },
  "language_info": {
   "codemirror_mode": {
    "name": "ipython",
    "version": 3
   },
   "file_extension": ".py",
   "mimetype": "text/x-python",
   "name": "python",
   "nbconvert_exporter": "python",
   "pygments_lexer": "ipython3",
   "version": "3.8.5"
  }
 },
 "nbformat": 4,
 "nbformat_minor": 5
}
