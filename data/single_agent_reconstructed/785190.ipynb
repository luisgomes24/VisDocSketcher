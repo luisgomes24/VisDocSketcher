{
 "cells": [
  {
   "cell_type": "markdown",
   "id": "6262dd16",
   "metadata": {},
   "source": [
    "Load data from a CSV file into a pandas DataFrame."
   ]
  },
  {
   "cell_type": "code",
   "execution_count": null,
   "id": "d9310af0",
   "metadata": {},
   "outputs": [],
   "source": [
    "import pandas as pd\n",
    "\n",
    "data = pd.read_csv('data.csv')"
   ]
  },
  {
   "cell_type": "markdown",
   "id": "e325b700",
   "metadata": {},
   "source": [
    "Check the first few entries in the date column for correctness."
   ]
  },
  {
   "cell_type": "code",
   "execution_count": null,
   "id": "1e57469c",
   "metadata": {},
   "outputs": [],
   "source": [
    "print(data['date_column'].head())"
   ]
  },
  {
   "cell_type": "markdown",
   "id": "c722dce2",
   "metadata": {},
   "source": [
    "Convert the date column to datetime format for proper handling."
   ]
  },
  {
   "cell_type": "code",
   "execution_count": null,
   "id": "b121c54b",
   "metadata": {},
   "outputs": [],
   "source": [
    "data['date_column'] = pd.to_datetime(data['date_column'])"
   ]
  },
  {
   "cell_type": "markdown",
   "id": "a247bfcc",
   "metadata": {},
   "source": [
    "Plot a histogram of the month extracted from the date column."
   ]
  },
  {
   "cell_type": "code",
   "execution_count": null,
   "id": "86f030fa",
   "metadata": {},
   "outputs": [],
   "source": [
    "import matplotlib.pyplot as plt\n",
    "\n",
    "plt.hist(data['date_column'].dt.month, bins=12)\n",
    "plt.xlabel('Month')\n",
    "plt.ylabel('Frequency')\n",
    "plt.title('Date Parsing')\n",
    "plt.show()"
   ]
  },
  {
   "cell_type": "markdown",
   "id": "a84bfabb",
   "metadata": {},
   "source": [
    "Extract the day of the month from the datetime column."
   ]
  },
  {
   "cell_type": "code",
   "execution_count": null,
   "id": "437218c1",
   "metadata": {},
   "outputs": [],
   "source": [
    "data['day_of_month'] = data['date_column'].dt.day"
   ]
  },
  {
   "cell_type": "markdown",
   "id": "ac2ace4c",
   "metadata": {},
   "source": [
    "Visualize the distribution of days in the month using a histogram."
   ]
  },
  {
   "cell_type": "code",
   "execution_count": null,
   "id": "8498e4ca",
   "metadata": {},
   "outputs": [],
   "source": [
    "plt.hist(data['day_of_month'], bins=31)\n",
    "plt.xlabel('Day of Month')\n",
    "plt.ylabel('Frequency')\n",
    "plt.title('Day Distribution')\n",
    "plt.show()"
   ]
  }
 ],
 "metadata": {
  "kernelspec": {
   "display_name": "Python 3",
   "language": "python",
   "name": "python3"
  },
  "language_info": {
   "codemirror_mode": {
    "name": "ipython",
    "version": 3
   },
   "file_extension": ".py",
   "mimetype": "text/x-python",
   "name": "python",
   "nbconvert_exporter": "python",
   "pygments_lexer": "ipython3",
   "version": "3.8.5"
  }
 },
 "nbformat": 4,
 "nbformat_minor": 5
}
