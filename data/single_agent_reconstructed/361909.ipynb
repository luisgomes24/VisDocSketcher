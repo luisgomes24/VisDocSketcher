{
 "cells": [
  {
   "cell_type": "markdown",
   "id": "bc78c6f3",
   "metadata": {},
   "source": [
    "Load data from CSV file."
   ]
  },
  {
   "cell_type": "code",
   "execution_count": null,
   "id": "41eb0aa0",
   "metadata": {},
   "outputs": [],
   "source": [
    "import pandas as pd\n",
    "\n",
    "data = pd.read_csv('data.csv')\n"
   ]
  },
  {
   "cell_type": "markdown",
   "id": "44488759",
   "metadata": {},
   "source": [
    "Filter to keep only 'Match', 'Team', and 'Country' columns."
   ]
  },
  {
   "cell_type": "code",
   "execution_count": null,
   "id": "0f9999c9",
   "metadata": {},
   "outputs": [],
   "source": [
    "data = data[['Match', 'Team', 'Country']]\n"
   ]
  },
  {
   "cell_type": "markdown",
   "id": "1a5d7344",
   "metadata": {},
   "source": [
    "Drop rows with NaN values."
   ]
  },
  {
   "cell_type": "code",
   "execution_count": null,
   "id": "8517e94d",
   "metadata": {},
   "outputs": [],
   "source": [
    "data.dropna(inplace=True)\n"
   ]
  },
  {
   "cell_type": "markdown",
   "id": "b4737720",
   "metadata": {},
   "source": [
    "Extract bet status information."
   ]
  },
  {
   "cell_type": "code",
   "execution_count": null,
   "id": "ce670ca3",
   "metadata": {},
   "outputs": [],
   "source": [
    "bet_status = data['Bet Status']\n"
   ]
  },
  {
   "cell_type": "markdown",
   "id": "637f3473",
   "metadata": {},
   "source": [
    "Merge countries and bet status data."
   ]
  },
  {
   "cell_type": "code",
   "execution_count": null,
   "id": "f2ee12ef",
   "metadata": {},
   "outputs": [],
   "source": [
    "merged_data = pd.merge(data[['Country']], bet_status, on='Country')\n"
   ]
  },
  {
   "cell_type": "markdown",
   "id": "1b5412b1",
   "metadata": {},
   "source": [
    "Calculate accuracy scores for predictions."
   ]
  },
  {
   "cell_type": "code",
   "execution_count": null,
   "id": "1a103f71",
   "metadata": {},
   "outputs": [],
   "source": [
    "from sklearn.metrics import accuracy_score\n",
    "accuracy = accuracy_score(y_true, y_pred)\n"
   ]
  },
  {
   "cell_type": "markdown",
   "id": "0492ea15",
   "metadata": {},
   "source": [
    "Analyze PSG's game data and results."
   ]
  },
  {
   "cell_type": "code",
   "execution_count": null,
   "id": "f787f3a7",
   "metadata": {},
   "outputs": [],
   "source": [
    "# Analyze PSG's game data\n",
    "psg_data_analysis = analyze_psg_data(psg_data)\n"
   ]
  },
  {
   "cell_type": "markdown",
   "id": "bde318cd",
   "metadata": {},
   "source": [
    "Visualize goals and performance streaks."
   ]
  },
  {
   "cell_type": "code",
   "execution_count": null,
   "id": "b5951884",
   "metadata": {},
   "outputs": [],
   "source": [
    "import matplotlib.pyplot as plt\n",
    "plt.plot(goals, performance_streaks)\n",
    "plt.show()\n"
   ]
  },
  {
   "cell_type": "markdown",
   "id": "65a5187e",
   "metadata": {},
   "source": [
    "Conduct betting accuracy analysis."
   ]
  },
  {
   "cell_type": "code",
   "execution_count": null,
   "id": "27ab69f2",
   "metadata": {},
   "outputs": [],
   "source": [
    "betting_accuracy = calculate_betting_accuracy(data)\n"
   ]
  }
 ],
 "metadata": {
  "kernelspec": {
   "display_name": "Python 3",
   "language": "python",
   "name": "python3"
  },
  "language_info": {
   "codemirror_mode": {
    "name": "ipython",
    "version": 3
   },
   "file_extension": ".py",
   "mimetype": "text/x-python",
   "name": "python",
   "nbconvert_exporter": "python",
   "pygments_lexer": "ipython3",
   "version": "3.8.5"
  }
 },
 "nbformat": 4,
 "nbformat_minor": 5
}
