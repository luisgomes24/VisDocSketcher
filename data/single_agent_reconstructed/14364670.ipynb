{
 "cells": [
  {
   "cell_type": "markdown",
   "id": "36bc58b4",
   "metadata": {},
   "source": [
    "Generate toy data using NumPy and add some noise."
   ]
  },
  {
   "cell_type": "code",
   "execution_count": null,
   "id": "4ef010ba",
   "metadata": {},
   "outputs": [],
   "source": [
    "import numpy as np\n",
    "import matplotlib.pyplot as plt\n",
    "\n",
    "# Generate toy data\n",
    "np.random.seed(0)\n",
    "X = np.sort(5 * np.random.rand(80, 1), axis=0)\n",
    "Y = np.sin(X) + np.random.normal(0, 0.2, X.shape)\n"
   ]
  },
  {
   "cell_type": "markdown",
   "id": "591b3c6e",
   "metadata": {},
   "source": [
    "Plot the generated data points."
   ]
  },
  {
   "cell_type": "code",
   "execution_count": null,
   "id": "aad0a4d5",
   "metadata": {},
   "outputs": [],
   "source": [
    "plt.scatter(X, Y)\n",
    "plt.title('Plot Data Points')\n",
    "plt.xlabel('X-axis')\n",
    "plt.ylabel('Y-axis')\n",
    "plt.show()\n"
   ]
  },
  {
   "cell_type": "markdown",
   "id": "d4e6ae1b",
   "metadata": {},
   "source": [
    "Fit a polynomial regression model of degree 1."
   ]
  },
  {
   "cell_type": "code",
   "execution_count": null,
   "id": "28f75f18",
   "metadata": {},
   "outputs": [],
   "source": [
    "from sklearn.preprocessing import PolynomialFeatures\n",
    "from sklearn.linear_model import LinearRegression\n",
    "\n",
    "poly = PolynomialFeatures(degree=1)\n",
    "X_poly = poly.fit_transform(X)\n",
    "model = LinearRegression().fit(X_poly, Y)\n",
    "Y_pred = model.predict(X_poly)\n"
   ]
  },
  {
   "cell_type": "markdown",
   "id": "8db6eb26",
   "metadata": {},
   "source": [
    "Visualize the predictions from the degree 1 polynomial model."
   ]
  },
  {
   "cell_type": "code",
   "execution_count": null,
   "id": "81ebffea",
   "metadata": {},
   "outputs": [],
   "source": [
    "plt.scatter(X, Y)\n",
    "plt.plot(X, Y_pred, color='red')\n",
    "plt.title('Model Prediction Plot (Degree 1)')\n",
    "plt.xlabel('X-axis')\n",
    "plt.ylabel('Y-axis')\n",
    "plt.show()\n"
   ]
  },
  {
   "cell_type": "markdown",
   "id": "da620319",
   "metadata": {},
   "source": [
    "Fit a polynomial regression model of degree 3."
   ]
  },
  {
   "cell_type": "code",
   "execution_count": null,
   "id": "91f21f0e",
   "metadata": {},
   "outputs": [],
   "source": [
    "poly = PolynomialFeatures(degree=3)\n",
    "X_poly = poly.fit_transform(X)\n",
    "model = LinearRegression().fit(X_poly, Y)\n",
    "Y_pred = model.predict(X_poly)\n"
   ]
  },
  {
   "cell_type": "markdown",
   "id": "36c1ea21",
   "metadata": {},
   "source": [
    "Visualize the predictions from the degree 3 polynomial model."
   ]
  },
  {
   "cell_type": "code",
   "execution_count": null,
   "id": "4d27e6a5",
   "metadata": {},
   "outputs": [],
   "source": [
    "plt.scatter(X, Y)\n",
    "plt.plot(X, Y_pred, color='blue')\n",
    "plt.title('Model Prediction Plot (Degree 3)')\n",
    "plt.xlabel('X-axis')\n",
    "plt.ylabel('Y-axis')\n",
    "plt.show()\n"
   ]
  },
  {
   "cell_type": "markdown",
   "id": "04582211",
   "metadata": {},
   "source": [
    "Generate predictions for polynomial degrees 1 to 8 and record their R² scores."
   ]
  },
  {
   "cell_type": "code",
   "execution_count": null,
   "id": "50dfeacf",
   "metadata": {},
   "outputs": [],
   "source": [
    "r2_scores = []\n",
    "for degree in range(1, 9):\n",
    "    poly = PolynomialFeatures(degree=degree)\n",
    "    X_poly = poly.fit_transform(X)\n",
    "    model = LinearRegression().fit(X_poly, Y)\n",
    "    r2_scores.append(model.score(X_poly, Y))\n"
   ]
  },
  {
   "cell_type": "markdown",
   "id": "f9fa0701",
   "metadata": {},
   "source": [
    "Visualize the R² scores of the trained models."
   ]
  },
  {
   "cell_type": "code",
   "execution_count": null,
   "id": "0ed2010e",
   "metadata": {},
   "outputs": [],
   "source": [
    "plt.plot(range(1, 9), r2_scores, marker='o')\n",
    "plt.title('R² Scores for Train Data')\n",
    "plt.xlabel('Polynomial Degree')\n",
    "plt.ylabel('R² Score')\n",
    "plt.xticks(range(1, 9))\n",
    "plt.show()\n"
   ]
  },
  {
   "cell_type": "markdown",
   "id": "f3424fd6",
   "metadata": {},
   "source": [
    "Generate testing data for model evaluation."
   ]
  },
  {
   "cell_type": "code",
   "execution_count": null,
   "id": "43fec415",
   "metadata": {},
   "outputs": [],
   "source": [
    "X_test = np.sort(5 * np.random.rand(20, 1), axis=0)\n",
    "Y_test = np.sin(X_test) + np.random.normal(0, 0.2, X_test.shape)\n"
   ]
  },
  {
   "cell_type": "markdown",
   "id": "10f675b3",
   "metadata": {},
   "source": [
    "Make predictions on the test data and record their R² scores."
   ]
  },
  {
   "cell_type": "code",
   "execution_count": null,
   "id": "908ada18",
   "metadata": {},
   "outputs": [],
   "source": [
    "r2_scores_test = []\n",
    "for degree in range(1, 9):\n",
    "    poly = PolynomialFeatures(degree=degree)\n",
    "    X_poly_test = poly.fit_transform(X_test)\n",
    "    model = LinearRegression().fit(X_poly, Y)\n",
    "    r2_scores_test.append(model.score(X_poly_test, Y_test))\n"
   ]
  },
  {
   "cell_type": "markdown",
   "id": "adf1b9a4",
   "metadata": {},
   "source": [
    "Visualize the R² scores for the test data models."
   ]
  },
  {
   "cell_type": "code",
   "execution_count": null,
   "id": "63fbcdf4",
   "metadata": {},
   "outputs": [],
   "source": [
    "plt.plot(range(1, 9), r2_scores_test, marker='o')\n",
    "plt.title('R² Scores for Test Data')\n",
    "plt.xlabel('Polynomial Degree')\n",
    "plt.ylabel('R² Score')\n",
    "plt.xticks(range(1, 9))\n",
    "plt.show()\n"
   ]
  },
  {
   "cell_type": "markdown",
   "id": "24d4fcda",
   "metadata": {},
   "source": [
    "Collect and compare training and testing R² scores in a single plot."
   ]
  },
  {
   "cell_type": "code",
   "execution_count": null,
   "id": "0a047314",
   "metadata": {},
   "outputs": [],
   "source": [
    "plt.plot(range(1, 9), r2_scores, marker='o', label='Train R²')\n",
    "plt.plot(range(1, 9), r2_scores_test, marker='x', label='Test R²')\n",
    "plt.title('Compare Training and Testing Scores')\n",
    "plt.xlabel('Polynomial Degree')\n",
    "plt.ylabel('R² Score')\n",
    "plt.legend()\n",
    "plt.show()\n"
   ]
  },
  {
   "cell_type": "markdown",
   "id": "0f0e15e3",
   "metadata": {},
   "source": [
    "Display a run chart for visual comparison of R² scores across model degrees."
   ]
  },
  {
   "cell_type": "code",
   "execution_count": null,
   "id": "a8e59b19",
   "metadata": {},
   "outputs": [],
   "source": [
    "plt.plot(range(1, 9), r2_scores, marker='o', label='Train R²')\n",
    "plt.plot(range(1, 9), r2_scores_test, marker='x', label='Test R²')\n",
    "plt.title('R² Scores Run Chart')\n",
    "plt.xlabel('Polynomial Degree')\n",
    "plt.ylabel('R² Score')\n",
    "plt.legend()\n",
    "plt.show()\n"
   ]
  }
 ],
 "metadata": {
  "kernelspec": {
   "display_name": "Python 3",
   "language": "python",
   "name": "python3"
  },
  "language_info": {
   "codemirror_mode": {
    "name": "ipython",
    "version": 3
   },
   "file_extension": ".py",
   "mimetype": "text/x-python",
   "name": "python",
   "nbconvert_exporter": "python",
   "pygments_lexer": "ipython3",
   "version": "3.8.5"
  }
 },
 "nbformat": 4,
 "nbformat_minor": 5
}
