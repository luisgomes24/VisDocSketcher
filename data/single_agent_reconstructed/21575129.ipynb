{
 "cells": [
  {
   "cell_type": "markdown",
   "id": "07df8a18",
   "metadata": {},
   "source": [
    "Load the NBA players data from a CSV file using pandas."
   ]
  },
  {
   "cell_type": "code",
   "execution_count": null,
   "id": "95bb08dc",
   "metadata": {},
   "outputs": [],
   "source": [
    "import pandas as pd\n",
    "\n",
    "df = pd.read_csv('nba_players.csv')"
   ]
  },
  {
   "cell_type": "markdown",
   "id": "c3e7b8c7",
   "metadata": {},
   "source": [
    "Inspect the first few rows of the dataset."
   ]
  },
  {
   "cell_type": "code",
   "execution_count": null,
   "id": "d5e769e5",
   "metadata": {},
   "outputs": [],
   "source": [
    "df.head()"
   ]
  },
  {
   "cell_type": "markdown",
   "id": "febf2b38",
   "metadata": {},
   "source": [
    "Get the shape of the DataFrame to see the number of rows and columns."
   ]
  },
  {
   "cell_type": "code",
   "execution_count": null,
   "id": "0e6013fc",
   "metadata": {},
   "outputs": [],
   "source": [
    "df.shape"
   ]
  },
  {
   "cell_type": "markdown",
   "id": "63126cf2",
   "metadata": {},
   "source": [
    "Generate summary statistics for the numerical columns in the DataFrame."
   ]
  },
  {
   "cell_type": "code",
   "execution_count": null,
   "id": "6fe4f9df",
   "metadata": {},
   "outputs": [],
   "source": [
    "df.describe()"
   ]
  },
  {
   "cell_type": "markdown",
   "id": "d0a3cbcd",
   "metadata": {},
   "source": [
    "Sort the DataFrame by the 'Points' column in descending order."
   ]
  },
  {
   "cell_type": "code",
   "execution_count": null,
   "id": "48322e96",
   "metadata": {},
   "outputs": [],
   "source": [
    "df.sort_values(by='Points', ascending=False)"
   ]
  },
  {
   "cell_type": "markdown",
   "id": "42c97c61",
   "metadata": {},
   "source": [
    "Filter the DataFrame to get players who are Guards."
   ]
  },
  {
   "cell_type": "code",
   "execution_count": null,
   "id": "bd0d32ea",
   "metadata": {},
   "outputs": [],
   "source": [
    "df[df['Position'] == 'Guard']"
   ]
  },
  {
   "cell_type": "markdown",
   "id": "349445f9",
   "metadata": {},
   "source": [
    "Compare statistics of players grouped by their positions."
   ]
  },
  {
   "cell_type": "code",
   "execution_count": null,
   "id": "668cc83e",
   "metadata": {},
   "outputs": [],
   "source": [
    "df.groupby('Position').describe()"
   ]
  }
 ],
 "metadata": {
  "kernelspec": {
   "display_name": "Python 3",
   "language": "python",
   "name": "python3"
  },
  "language_info": {
   "codemirror_mode": {
    "name": "ipython",
    "version": 3
   },
   "file_extension": ".py",
   "mimetype": "text/x-python",
   "name": "python",
   "nbconvert_exporter": "python",
   "pygments_lexer": "ipython3",
   "version": "3.8.5"
  }
 },
 "nbformat": 4,
 "nbformat_minor": 5
}
