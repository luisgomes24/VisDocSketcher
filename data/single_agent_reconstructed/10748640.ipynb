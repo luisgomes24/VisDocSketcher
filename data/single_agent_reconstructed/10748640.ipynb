{
 "cells": [
  {
   "cell_type": "markdown",
   "id": "530bb90d",
   "metadata": {},
   "source": [
    "Load data from a CSV file into a DataFrame."
   ]
  },
  {
   "cell_type": "code",
   "execution_count": null,
   "id": "b469a8d6",
   "metadata": {},
   "outputs": [],
   "source": [
    "import pandas as pd\n",
    "data = pd.read_csv('data.csv')"
   ]
  },
  {
   "cell_type": "markdown",
   "id": "9d9b0a1d",
   "metadata": {},
   "source": [
    "Preprocess the data by cleaning and formatting."
   ]
  },
  {
   "cell_type": "code",
   "execution_count": null,
   "id": "b0f42a64",
   "metadata": {},
   "outputs": [],
   "source": [
    "data = data.dropna()\n",
    "data['date'] = pd.to_datetime(data['date'])"
   ]
  },
  {
   "cell_type": "markdown",
   "id": "e68dab5b",
   "metadata": {},
   "source": [
    "Create the 'market_value' feature based on price and volume."
   ]
  },
  {
   "cell_type": "code",
   "execution_count": null,
   "id": "12dc9020",
   "metadata": {},
   "outputs": [],
   "source": [
    "data['market_value'] = data['price'] * data['volume']"
   ]
  },
  {
   "cell_type": "markdown",
   "id": "adb689d6",
   "metadata": {},
   "source": [
    "Calculate percentage change to create returns."
   ]
  },
  {
   "cell_type": "code",
   "execution_count": null,
   "id": "b4f484be",
   "metadata": {},
   "outputs": [],
   "source": [
    "data['returns'] = data['market_value'].pct_change()"
   ]
  },
  {
   "cell_type": "markdown",
   "id": "bc98c7c5",
   "metadata": {},
   "source": [
    "Fit an ARMA(1,1) model to the returns."
   ]
  },
  {
   "cell_type": "code",
   "execution_count": null,
   "id": "2dfb0a67",
   "metadata": {},
   "outputs": [],
   "source": [
    "from statsmodels.tsa.arima.model import ARIMA\n",
    "model = ARIMA(data['returns'], order=(1, 0, 1)).fit()"
   ]
  },
  {
   "cell_type": "markdown",
   "id": "d634242b",
   "metadata": {},
   "source": [
    "Evaluate the LLR test for model comparison."
   ]
  },
  {
   "cell_type": "code",
   "execution_count": null,
   "id": "100850a4",
   "metadata": {},
   "outputs": [],
   "source": [
    "from statsmodels.stats.diagnostic import lilliefors\n",
    "stat, p_value = lilliefors(data['returns'])"
   ]
  },
  {
   "cell_type": "markdown",
   "id": "d6c7a972",
   "metadata": {},
   "source": [
    "Fit and evaluate higher-lag ARMA models."
   ]
  },
  {
   "cell_type": "code",
   "execution_count": null,
   "id": "1baa03aa",
   "metadata": {},
   "outputs": [],
   "source": [
    "higher_lag_models = [ARIMA(data['returns'], order=(p, 0, q)).fit() for p in range(1, 4) for q in range(1, 4)]"
   ]
  },
  {
   "cell_type": "markdown",
   "id": "59fa792e",
   "metadata": {},
   "source": [
    "Perform residual analysis by plotting the ACF of residuals."
   ]
  },
  {
   "cell_type": "code",
   "execution_count": null,
   "id": "a8454181",
   "metadata": {},
   "outputs": [],
   "source": [
    "import matplotlib.pyplot as plt\n",
    "plot_acf(model.resid) \n",
    "plt.show()"
   ]
  },
  {
   "cell_type": "markdown",
   "id": "9ab66178",
   "metadata": {},
   "source": [
    "Reevaluate the model by fitting new models."
   ]
  },
  {
   "cell_type": "code",
   "execution_count": null,
   "id": "2284dd80",
   "metadata": {},
   "outputs": [],
   "source": [
    "new_model = ARIMA(data['returns'], order=(2, 0, 2)).fit()"
   ]
  },
  {
   "cell_type": "markdown",
   "id": "28b0f015",
   "metadata": {},
   "source": [
    "Analyze residuals by plotting the ACF of the new model."
   ]
  },
  {
   "cell_type": "code",
   "execution_count": null,
   "id": "5ae58f02",
   "metadata": {},
   "outputs": [],
   "source": [
    "plot_acf(new_model.resid)\n",
    "plt.show()"
   ]
  },
  {
   "cell_type": "markdown",
   "id": "d5414230",
   "metadata": {},
   "source": [
    "Fit ARMA models for prices."
   ]
  },
  {
   "cell_type": "code",
   "execution_count": null,
   "id": "2683ec44",
   "metadata": {},
   "outputs": [],
   "source": [
    "price_model = ARIMA(data['price'], order=(1, 0, 1)).fit()"
   ]
  },
  {
   "cell_type": "markdown",
   "id": "4777b088",
   "metadata": {},
   "source": [
    "Compare ARMA models for returns and prices."
   ]
  },
  {
   "cell_type": "code",
   "execution_count": null,
   "id": "b9d0d863",
   "metadata": {},
   "outputs": [],
   "source": [
    "compare_results = pd.DataFrame({'returns_model': model.aic, 'prices_model': price_model.aic})"
   ]
  }
 ],
 "metadata": {
  "kernelspec": {
   "display_name": "Python 3",
   "language": "python",
   "name": "python3"
  },
  "language_info": {
   "codemirror_mode": {
    "name": "ipython",
    "version": 3
   },
   "file_extension": ".py",
   "mimetype": "text/x-python",
   "name": "python",
   "nbconvert_exporter": "python",
   "pygments_lexer": "ipython3",
   "version": "3.8.5"
  }
 },
 "nbformat": 4,
 "nbformat_minor": 5
}
