{
 "cells": [
  {
   "cell_type": "markdown",
   "id": "01df6583",
   "metadata": {},
   "source": [
    "Load data from a CSV file using pandas."
   ]
  },
  {
   "cell_type": "code",
   "execution_count": null,
   "id": "679a2763",
   "metadata": {},
   "outputs": [],
   "source": [
    "import pandas as pd\n",
    "data = pd.read_csv('data.csv')"
   ]
  },
  {
   "cell_type": "markdown",
   "id": "96c0932e",
   "metadata": {},
   "source": [
    "Perform exploratory data analysis and create boxplots for species."
   ]
  },
  {
   "cell_type": "code",
   "execution_count": null,
   "id": "b3237012",
   "metadata": {},
   "outputs": [],
   "source": [
    "import matplotlib.pyplot as plt\n",
    "import seaborn as sns\n",
    "sns.boxplot(x='species', y='value', data=data)\n",
    "plt.show()"
   ]
  },
  {
   "cell_type": "markdown",
   "id": "a8ecb207",
   "metadata": {},
   "source": [
    "Clean the data by removing missing values."
   ]
  },
  {
   "cell_type": "code",
   "execution_count": null,
   "id": "03d203c8",
   "metadata": {},
   "outputs": [],
   "source": [
    "data = data.dropna()"
   ]
  },
  {
   "cell_type": "markdown",
   "id": "56a74494",
   "metadata": {},
   "source": [
    "Create pairplot visualizations for insights into species relationships."
   ]
  },
  {
   "cell_type": "code",
   "execution_count": null,
   "id": "1b608f28",
   "metadata": {},
   "outputs": [],
   "source": [
    "sns.pairplot(data, hue='species')\n",
    "plt.show()"
   ]
  },
  {
   "cell_type": "markdown",
   "id": "3c7fbe9f",
   "metadata": {},
   "source": [
    "Encode categorical data for preparation."
   ]
  },
  {
   "cell_type": "code",
   "execution_count": null,
   "id": "8dafc256",
   "metadata": {},
   "outputs": [],
   "source": [
    "from sklearn.preprocessing import LabelEncoder\n",
    "le = LabelEncoder()\n",
    "data['species'] = le.fit_transform(data['species'])"
   ]
  },
  {
   "cell_type": "markdown",
   "id": "aabaee1c",
   "metadata": {},
   "source": [
    "Split the data into training and testing sets."
   ]
  },
  {
   "cell_type": "code",
   "execution_count": null,
   "id": "4a97e2b5",
   "metadata": {},
   "outputs": [],
   "source": [
    "from sklearn.model_selection import train_test_split\n",
    "X = data.drop('target', axis=1)\n",
    "y = data['target']\n",
    "X_train, X_test, y_train, y_test = train_test_split(X, y, test_size=0.2)"
   ]
  },
  {
   "cell_type": "markdown",
   "id": "44f91fe3",
   "metadata": {},
   "source": [
    "Train a multiple linear regression model using Scikit-learn."
   ]
  },
  {
   "cell_type": "code",
   "execution_count": null,
   "id": "926d98c4",
   "metadata": {},
   "outputs": [],
   "source": [
    "from sklearn.linear_model import LinearRegression\n",
    "model = LinearRegression()\n",
    "model.fit(X_train, y_train)"
   ]
  },
  {
   "cell_type": "markdown",
   "id": "1a6e4cc9",
   "metadata": {},
   "source": [
    "Evaluate results using mean squared error metric."
   ]
  },
  {
   "cell_type": "code",
   "execution_count": null,
   "id": "0eb7613b",
   "metadata": {},
   "outputs": [],
   "source": [
    "from sklearn.metrics import mean_squared_error\n",
    "predictions = model.predict(X_test)\n",
    "mse = mean_squared_error(y_test, predictions)"
   ]
  },
  {
   "cell_type": "markdown",
   "id": "460556d5",
   "metadata": {},
   "source": [
    "Train a multiple linear regression model using gradient descent."
   ]
  },
  {
   "cell_type": "code",
   "execution_count": null,
   "id": "becb5d5a",
   "metadata": {},
   "outputs": [],
   "source": [
    "import numpy as np\n",
    "X_b = np.c_[np.ones((X_train.shape[0], 1)), X_train]\n",
    "w = np.random.randn(X_b.shape[1], 1)\n",
    "y_train = y_train.values.reshape(-1, 1)\n",
    "eta = 0.01\n",
    "epochs = 1000\n",
    "for epoch in range(epochs):\n",
    "    gradients = 2/X_b.shape[0] * X_b.T.dot(X_b.dot(w) - y_train)\n",
    "    w -= eta * gradients"
   ]
  },
  {
   "cell_type": "markdown",
   "id": "ce5822ba",
   "metadata": {},
   "source": [
    "Evaluate results from the gradient descent model."
   ]
  },
  {
   "cell_type": "code",
   "execution_count": null,
   "id": "a61f66aa",
   "metadata": {},
   "outputs": [],
   "source": [
    "predictions_gd = X_test.dot(w)\n",
    "mse_gd = mean_squared_error(y_test, predictions_gd)"
   ]
  },
  {
   "cell_type": "markdown",
   "id": "26eff560",
   "metadata": {},
   "source": [
    "Train model using the normal equation for linear regression."
   ]
  },
  {
   "cell_type": "code",
   "execution_count": null,
   "id": "b8729109",
   "metadata": {},
   "outputs": [],
   "source": [
    "X_b_normal = np.c_[np.ones((X_train.shape[0], 1)), X_train]\n",
    "w_normal = np.linalg.inv(X_b_normal.T.dot(X_b_normal)).dot(X_b_normal.T).dot(y_train)"
   ]
  },
  {
   "cell_type": "markdown",
   "id": "db2723c8",
   "metadata": {},
   "source": [
    "Evaluate results from the normal equation model."
   ]
  },
  {
   "cell_type": "code",
   "execution_count": null,
   "id": "2d7a4ee6",
   "metadata": {},
   "outputs": [],
   "source": [
    "predictions_normal = X_test.dot(w_normal)\n",
    "mse_normal = mean_squared_error(y_test, predictions_normal)"
   ]
  },
  {
   "cell_type": "markdown",
   "id": "963b101e",
   "metadata": {},
   "source": [
    "Print conclusions based on model evaluation metrics."
   ]
  },
  {
   "cell_type": "code",
   "execution_count": null,
   "id": "3407836c",
   "metadata": {},
   "outputs": [],
   "source": [
    "print('Conclusions:')\n",
    "print(f'MSE (Scikit-learn): {mse}')\n",
    "print(f'MSE (Gradient Descent): {mse_gd}')\n",
    "print(f'MSE (Normal Equation): {mse_normal}')"
   ]
  }
 ],
 "metadata": {
  "kernelspec": {
   "display_name": "Python 3",
   "language": "python",
   "name": "python3"
  },
  "language_info": {
   "codemirror_mode": {
    "name": "ipython",
    "version": 3
   },
   "file_extension": ".py",
   "mimetype": "text/x-python",
   "name": "python",
   "nbconvert_exporter": "python",
   "pygments_lexer": "ipython3",
   "version": "3.8.5"
  }
 },
 "nbformat": 4,
 "nbformat_minor": 5
}
