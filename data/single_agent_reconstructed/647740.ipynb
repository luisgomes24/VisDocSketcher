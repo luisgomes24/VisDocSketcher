{
 "cells": [
  {
   "cell_type": "markdown",
   "id": "5c13c80a",
   "metadata": {},
   "source": [
    "Load data from BigQuery using the BigQuery client and execute a SQL query."
   ]
  },
  {
   "cell_type": "code",
   "execution_count": null,
   "id": "cf26ad30",
   "metadata": {},
   "outputs": [],
   "source": [
    "from google.cloud import bigquery\n",
    "client = bigquery.Client()\n",
    "query = 'SELECT * FROM `your_project.your_dataset.your_table`'\n",
    "\n",
    "# Load Data from BigQuery\n",
    "data = client.query(query).to_dataframe()"
   ]
  },
  {
   "cell_type": "markdown",
   "id": "97b96c96",
   "metadata": {},
   "source": [
    "View the first few rows of the tables loaded from BigQuery."
   ]
  },
  {
   "cell_type": "code",
   "execution_count": null,
   "id": "d76e2b60",
   "metadata": {},
   "outputs": [],
   "source": [
    "data.head()"
   ]
  },
  {
   "cell_type": "markdown",
   "id": "512189aa",
   "metadata": {},
   "source": [
    "View the schema of the data to see the data types of each column."
   ]
  },
  {
   "cell_type": "code",
   "execution_count": null,
   "id": "f2c922c2",
   "metadata": {},
   "outputs": [],
   "source": [
    "print(data.dtypes)"
   ]
  },
  {
   "cell_type": "markdown",
   "id": "586d679b",
   "metadata": {},
   "source": [
    "Display a sample of 5 rows of data to understand its structure."
   ]
  },
  {
   "cell_type": "code",
   "execution_count": null,
   "id": "cb1c1d0f",
   "metadata": {},
   "outputs": [],
   "source": [
    "data.sample(5)"
   ]
  },
  {
   "cell_type": "markdown",
   "id": "e9b0d16b",
   "metadata": {},
   "source": [
    "Estimate the size of the data in memory for performance considerations."
   ]
  },
  {
   "cell_type": "code",
   "execution_count": null,
   "id": "a64e2358",
   "metadata": {},
   "outputs": [],
   "source": [
    "estimated_size = data.memory_usage(deep=True).sum()"
   ]
  },
  {
   "cell_type": "markdown",
   "id": "06521921",
   "metadata": {},
   "source": [
    "Analyze the country counts from the data."
   ]
  },
  {
   "cell_type": "code",
   "execution_count": null,
   "id": "8c615268",
   "metadata": {},
   "outputs": [],
   "source": [
    "country_counts = data['country'].value_counts()"
   ]
  },
  {
   "cell_type": "markdown",
   "id": "b4550657",
   "metadata": {},
   "source": [
    "Save the analyzed country counts to a CSV file."
   ]
  },
  {
   "cell_type": "code",
   "execution_count": null,
   "id": "98c73f20",
   "metadata": {},
   "outputs": [],
   "source": [
    "country_counts.to_csv('country_counts.csv')"
   ]
  }
 ],
 "metadata": {
  "kernelspec": {
   "display_name": "Python 3",
   "language": "python",
   "name": "python3"
  },
  "language_info": {
   "codemirror_mode": {
    "name": "ipython",
    "version": 3
   },
   "file_extension": ".py",
   "mimetype": "text/x-python",
   "name": "python",
   "nbconvert_exporter": "python",
   "pygments_lexer": "ipython3",
   "version": "3.8.5"
  }
 },
 "nbformat": 4,
 "nbformat_minor": 5
}
