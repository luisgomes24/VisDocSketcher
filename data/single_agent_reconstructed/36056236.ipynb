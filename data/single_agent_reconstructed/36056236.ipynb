{
 "cells": [
  {
   "cell_type": "markdown",
   "id": "486e5282",
   "metadata": {},
   "source": [
    "Load the dataset from a CSV file using pandas."
   ]
  },
  {
   "cell_type": "code",
   "execution_count": null,
   "id": "793f2081",
   "metadata": {},
   "outputs": [],
   "source": [
    "import pandas as pd\n",
    "data = pd.read_csv('data.csv')"
   ]
  },
  {
   "cell_type": "markdown",
   "id": "2f3a1840",
   "metadata": {},
   "source": [
    "Preview the first few rows of the data."
   ]
  },
  {
   "cell_type": "code",
   "execution_count": null,
   "id": "fe2d88fa",
   "metadata": {},
   "outputs": [],
   "source": [
    "print(data.head())"
   ]
  },
  {
   "cell_type": "markdown",
   "id": "8a9c8083",
   "metadata": {},
   "source": [
    "Get a summary of the DataFrame, including data types and non-null counts."
   ]
  },
  {
   "cell_type": "code",
   "execution_count": null,
   "id": "1949c87e",
   "metadata": {},
   "outputs": [],
   "source": [
    "print(data.info())"
   ]
  },
  {
   "cell_type": "markdown",
   "id": "021c4989",
   "metadata": {},
   "source": [
    "Convert date columns from string format to datetime format."
   ]
  },
  {
   "cell_type": "code",
   "execution_count": null,
   "id": "c1d71456",
   "metadata": {},
   "outputs": [],
   "source": [
    "data['date_column'] = pd.to_datetime(data['date_column'])"
   ]
  },
  {
   "cell_type": "markdown",
   "id": "7c72f976",
   "metadata": {},
   "source": [
    "Group the data by year and sum values for each year."
   ]
  },
  {
   "cell_type": "code",
   "execution_count": null,
   "id": "7f7afee4",
   "metadata": {},
   "outputs": [],
   "source": [
    "grouped_data = data.groupby(data['date_column'].dt.year).sum()"
   ]
  },
  {
   "cell_type": "markdown",
   "id": "43dc88b0",
   "metadata": {},
   "source": [
    "Visualize the market share for major brands over the years."
   ]
  },
  {
   "cell_type": "code",
   "execution_count": null,
   "id": "a0a11bb9",
   "metadata": {},
   "outputs": [],
   "source": [
    "import matplotlib.pyplot as plt\n",
    "plt.plot(grouped_data.index, grouped_data['major_brand'])\n",
    "plt.title('Market Share - Major Brands')\n",
    "plt.xlabel('Year')\n",
    "plt.ylabel('Market Share')\n",
    "plt.show()"
   ]
  },
  {
   "cell_type": "markdown",
   "id": "21b44585",
   "metadata": {},
   "source": [
    "Visualize the market share for budget brands over the years."
   ]
  },
  {
   "cell_type": "code",
   "execution_count": null,
   "id": "3bc6f8af",
   "metadata": {},
   "outputs": [],
   "source": [
    "plt.plot(grouped_data.index, grouped_data['budget_brand'])\n",
    "plt.title('Market Share - Budget Brands')\n",
    "plt.xlabel('Year')\n",
    "plt.ylabel('Market Share')\n",
    "plt.show()"
   ]
  },
  {
   "cell_type": "markdown",
   "id": "8d710035",
   "metadata": {},
   "source": [
    "Visualize the market share for homegrown brands over the years."
   ]
  },
  {
   "cell_type": "code",
   "execution_count": null,
   "id": "4f13b337",
   "metadata": {},
   "outputs": [],
   "source": [
    "plt.plot(grouped_data.index, grouped_data['homegrown_brand'])\n",
    "plt.title('Market Share - Homegrown Brands')\n",
    "plt.xlabel('Year')\n",
    "plt.ylabel('Market Share')\n",
    "plt.show()"
   ]
  }
 ],
 "metadata": {
  "kernelspec": {
   "display_name": "Python 3",
   "language": "python",
   "name": "python3"
  },
  "language_info": {
   "codemirror_mode": {
    "name": "ipython",
    "version": 3
   },
   "file_extension": ".py",
   "mimetype": "text/x-python",
   "name": "python",
   "nbconvert_exporter": "python",
   "pygments_lexer": "ipython3",
   "version": "3.8.5"
  }
 },
 "nbformat": 4,
 "nbformat_minor": 5
}
