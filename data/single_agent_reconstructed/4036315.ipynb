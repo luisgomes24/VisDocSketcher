{
 "cells": [
  {
   "cell_type": "markdown",
   "id": "41c0474e",
   "metadata": {},
   "source": [
    "Load the dataset from a CSV file."
   ]
  },
  {
   "cell_type": "code",
   "execution_count": null,
   "id": "826eca62",
   "metadata": {},
   "outputs": [],
   "source": [
    "import pandas as pd\n",
    "\n",
    "# Load Data\n",
    "data = pd.read_csv('data.csv')"
   ]
  },
  {
   "cell_type": "markdown",
   "id": "0e9ed641",
   "metadata": {},
   "source": [
    "Check the dimensions of the dataset."
   ]
  },
  {
   "cell_type": "code",
   "execution_count": null,
   "id": "ed79ba3d",
   "metadata": {},
   "outputs": [],
   "source": [
    "data.shape"
   ]
  },
  {
   "cell_type": "markdown",
   "id": "2ec1fd1c",
   "metadata": {},
   "source": [
    "Explore the data types of each column."
   ]
  },
  {
   "cell_type": "code",
   "execution_count": null,
   "id": "6ef9f35d",
   "metadata": {},
   "outputs": [],
   "source": [
    "data.dtypes"
   ]
  },
  {
   "cell_type": "markdown",
   "id": "1504b9f8",
   "metadata": {},
   "source": [
    "Select features for the model."
   ]
  },
  {
   "cell_type": "code",
   "execution_count": null,
   "id": "d090947b",
   "metadata": {},
   "outputs": [],
   "source": [
    "features = data.columns.tolist()"
   ]
  },
  {
   "cell_type": "markdown",
   "id": "8e499de8",
   "metadata": {},
   "source": [
    "Merge train and test datasets."
   ]
  },
  {
   "cell_type": "code",
   "execution_count": null,
   "id": "ddd03ca0",
   "metadata": {},
   "outputs": [],
   "source": [
    "train_data, test_data = train_test_split(data, test_size=0.2)"
   ]
  },
  {
   "cell_type": "markdown",
   "id": "afce1eb2",
   "metadata": {},
   "source": [
    "Visualize the target distribution."
   ]
  },
  {
   "cell_type": "code",
   "execution_count": null,
   "id": "f34e47b8",
   "metadata": {},
   "outputs": [],
   "source": [
    "data['target'].value_counts().plot(kind='bar')"
   ]
  },
  {
   "cell_type": "markdown",
   "id": "884aae67",
   "metadata": {},
   "source": [
    "Apply log transformation to the target variable."
   ]
  },
  {
   "cell_type": "code",
   "execution_count": null,
   "id": "96311b33",
   "metadata": {},
   "outputs": [],
   "source": [
    "data['target'] = np.log1p(data['target'])"
   ]
  },
  {
   "cell_type": "markdown",
   "id": "2a98dafb",
   "metadata": {},
   "source": [
    "Check for missing values in the dataset."
   ]
  },
  {
   "cell_type": "code",
   "execution_count": null,
   "id": "831d5b22",
   "metadata": {},
   "outputs": [],
   "source": [
    "missing_values = data.isnull().sum()"
   ]
  },
  {
   "cell_type": "markdown",
   "id": "ac4d5523",
   "metadata": {},
   "source": [
    "Impute missing values with the column mean."
   ]
  },
  {
   "cell_type": "code",
   "execution_count": null,
   "id": "8c70227d",
   "metadata": {},
   "outputs": [],
   "source": [
    "data.fillna(data.mean(), inplace=True)"
   ]
  },
  {
   "cell_type": "markdown",
   "id": "371cc579",
   "metadata": {},
   "source": [
    "Encode categorical features using one-hot encoding."
   ]
  },
  {
   "cell_type": "code",
   "execution_count": null,
   "id": "c3edbc23",
   "metadata": {},
   "outputs": [],
   "source": [
    "data = pd.get_dummies(data, drop_first=True)"
   ]
  },
  {
   "cell_type": "markdown",
   "id": "6074619e",
   "metadata": {},
   "source": [
    "Validate that all numeric values are present."
   ]
  },
  {
   "cell_type": "code",
   "execution_count": null,
   "id": "23de0807",
   "metadata": {},
   "outputs": [],
   "source": [
    "assert data.select_dtypes(include=['number']).notnull().all().all()"
   ]
  },
  {
   "cell_type": "markdown",
   "id": "033c7866",
   "metadata": {},
   "source": [
    "Build the first machine learning model."
   ]
  },
  {
   "cell_type": "code",
   "execution_count": null,
   "id": "a4409cb0",
   "metadata": {},
   "outputs": [],
   "source": [
    "from sklearn.linear_model import LinearRegression\n",
    "model = LinearRegression()"
   ]
  },
  {
   "cell_type": "markdown",
   "id": "8daf9b7a",
   "metadata": {},
   "source": [
    "Split data into training and validation sets."
   ]
  },
  {
   "cell_type": "code",
   "execution_count": null,
   "id": "0c97bae5",
   "metadata": {},
   "outputs": [],
   "source": [
    "X_train, X_val, y_train, y_val = train_test_split(features, target, test_size=0.2)"
   ]
  },
  {
   "cell_type": "markdown",
   "id": "da80083d",
   "metadata": {},
   "source": [
    "Train the model with the training data."
   ]
  },
  {
   "cell_type": "code",
   "execution_count": null,
   "id": "5196a835",
   "metadata": {},
   "outputs": [],
   "source": [
    "model.fit(X_train, y_train)"
   ]
  },
  {
   "cell_type": "markdown",
   "id": "e0a4aecd",
   "metadata": {},
   "source": [
    "Predict and evaluate on the validation set."
   ]
  },
  {
   "cell_type": "code",
   "execution_count": null,
   "id": "80fe37ca",
   "metadata": {},
   "outputs": [],
   "source": [
    "predictions = model.predict(X_val)"
   ]
  },
  {
   "cell_type": "markdown",
   "id": "ed0f5f57",
   "metadata": {},
   "source": [
    "Predict on the test data."
   ]
  },
  {
   "cell_type": "code",
   "execution_count": null,
   "id": "4027a7ae",
   "metadata": {},
   "outputs": [],
   "source": [
    "test_predictions = model.predict(X_test)"
   ]
  },
  {
   "cell_type": "markdown",
   "id": "1aa71f7a",
   "metadata": {},
   "source": [
    "Exponentiate the predictions to reverse log transformation."
   ]
  },
  {
   "cell_type": "code",
   "execution_count": null,
   "id": "08e8e6e5",
   "metadata": {},
   "outputs": [],
   "source": [
    "final_predictions = np.expm1(test_predictions)"
   ]
  },
  {
   "cell_type": "markdown",
   "id": "19415ce4",
   "metadata": {},
   "source": [
    "Create a submission DataFrame."
   ]
  },
  {
   "cell_type": "code",
   "execution_count": null,
   "id": "b9e34c3a",
   "metadata": {},
   "outputs": [],
   "source": [
    "submission = pd.DataFrame({'Id': test_data['Id'], 'Prediction': final_predictions})"
   ]
  },
  {
   "cell_type": "markdown",
   "id": "ef5cffde",
   "metadata": {},
   "source": [
    "Save the submission file."
   ]
  },
  {
   "cell_type": "code",
   "execution_count": null,
   "id": "0a8fd115",
   "metadata": {},
   "outputs": [],
   "source": [
    "submission.to_csv('submission.csv', index=False)"
   ]
  },
  {
   "cell_type": "markdown",
   "id": "2fc5692f",
   "metadata": {},
   "source": [
    "Check for outliers in the dataset."
   ]
  },
  {
   "cell_type": "code",
   "execution_count": null,
   "id": "472e8da2",
   "metadata": {},
   "outputs": [],
   "source": [
    "outliers = detect_outliers(data)"
   ]
  },
  {
   "cell_type": "markdown",
   "id": "02691dcb",
   "metadata": {},
   "source": [
    "Remove the outliers from the dataset."
   ]
  },
  {
   "cell_type": "code",
   "execution_count": null,
   "id": "97d0fe47",
   "metadata": {},
   "outputs": [],
   "source": [
    "data = data[~data.index.isin(outliers)]"
   ]
  },
  {
   "cell_type": "markdown",
   "id": "8892f13c",
   "metadata": {},
   "source": [
    "Apply feature engineering techniques."
   ]
  },
  {
   "cell_type": "code",
   "execution_count": null,
   "id": "f5ec9775",
   "metadata": {},
   "outputs": [],
   "source": [
    "data['feature_engineered'] = feature_engineering_function(data)"
   ]
  },
  {
   "cell_type": "markdown",
   "id": "9241578a",
   "metadata": {},
   "source": [
    "Blend two models together."
   ]
  },
  {
   "cell_type": "code",
   "execution_count": null,
   "id": "17c995b5",
   "metadata": {},
   "outputs": [],
   "source": [
    "model2 = AnotherModel()\n",
    "model2.fit(X_train, y_train)"
   ]
  },
  {
   "cell_type": "markdown",
   "id": "755a2e6e",
   "metadata": {},
   "source": [
    "Create a submission for blended predictions."
   ]
  },
  {
   "cell_type": "code",
   "execution_count": null,
   "id": "f41649f4",
   "metadata": {},
   "outputs": [],
   "source": [
    "blended_predictions = blend_predictions(model1, model2, X_test)"
   ]
  },
  {
   "cell_type": "markdown",
   "id": "80dfb1df",
   "metadata": {},
   "source": [
    "Finish and prepare for the next steps in the project."
   ]
  },
  {
   "cell_type": "code",
   "execution_count": null,
   "id": "2a59b82c",
   "metadata": {},
   "outputs": [],
   "source": [
    "prepare_next_steps(blended_predictions)"
   ]
  }
 ],
 "metadata": {
  "kernelspec": {
   "display_name": "Python 3",
   "language": "python",
   "name": "python3"
  },
  "language_info": {
   "codemirror_mode": {
    "name": "ipython",
    "version": 3
   },
   "file_extension": ".py",
   "mimetype": "text/x-python",
   "name": "python",
   "nbconvert_exporter": "python",
   "pygments_lexer": "ipython3",
   "version": "3.8.5"
  }
 },
 "nbformat": 4,
 "nbformat_minor": 5
}
