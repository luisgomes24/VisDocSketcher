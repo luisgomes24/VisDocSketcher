{
 "cells": [
  {
   "cell_type": "markdown",
   "id": "2e2d9ad5",
   "metadata": {},
   "source": [
    "Load the CSV file into a DataFrame."
   ]
  },
  {
   "cell_type": "code",
   "execution_count": null,
   "id": "20f27ceb",
   "metadata": {},
   "outputs": [],
   "source": [
    "import pandas as pd\n",
    "df1 = pd.read_csv('data.csv')"
   ]
  },
  {
   "cell_type": "markdown",
   "id": "8e67f4da",
   "metadata": {},
   "source": [
    "Preview the first few rows of the data."
   ]
  },
  {
   "cell_type": "code",
   "execution_count": null,
   "id": "2c10565b",
   "metadata": {},
   "outputs": [],
   "source": [
    "df1.head()"
   ]
  },
  {
   "cell_type": "markdown",
   "id": "686232db",
   "metadata": {},
   "source": [
    "Plot distribution graphs for each column."
   ]
  },
  {
   "cell_type": "code",
   "execution_count": null,
   "id": "58827a33",
   "metadata": {},
   "outputs": [],
   "source": [
    "def plotPerColumnDistribution(df):\n",
    "    import matplotlib.pyplot as plt\n",
    "    df.hist(bins=50, figsize=(20,15))\n",
    "    plt.show() \n",
    "plotPerColumnDistribution(df1)"
   ]
  },
  {
   "cell_type": "markdown",
   "id": "830fe4c7",
   "metadata": {},
   "source": [
    "Display the correlation matrix as a heatmap."
   ]
  },
  {
   "cell_type": "code",
   "execution_count": null,
   "id": "fa7047f9",
   "metadata": {},
   "outputs": [],
   "source": [
    "def plotCorrelationMatrix(df):\n",
    "    import seaborn as sns\n",
    "    import matplotlib.pyplot as plt\n",
    "    plt.figure(figsize=(10,8))\n",
    "    sns.heatmap(df.corr(), annot=True, cmap='coolwarm')\n",
    "    plt.show()\n",
    "plotCorrelationMatrix(df1)"
   ]
  },
  {
   "cell_type": "markdown",
   "id": "db16388a",
   "metadata": {},
   "source": [
    "Create scatter and density plots for the DataFrame."
   ]
  },
  {
   "cell_type": "code",
   "execution_count": null,
   "id": "a087e881",
   "metadata": {},
   "outputs": [],
   "source": [
    "def plotScatterMatrix(df):\n",
    "    from pandas.plotting import scatter_matrix\n",
    "    import matplotlib.pyplot as plt\n",
    "    scatter_matrix(df, figsize=(15, 15))\n",
    "    plt.show()\n",
    "plotScatterMatrix(df1)"
   ]
  },
  {
   "cell_type": "markdown",
   "id": "d1afa49c",
   "metadata": {},
   "source": [
    "Summarize the findings and conclude the analysis."
   ]
  },
  {
   "cell_type": "code",
   "execution_count": null,
   "id": "17232c67",
   "metadata": {},
   "outputs": [],
   "source": [
    "# Conclusion: Data analysis complete."
   ]
  }
 ],
 "metadata": {
  "kernelspec": {
   "display_name": "Python 3",
   "language": "python",
   "name": "python3"
  },
  "language_info": {
   "codemirror_mode": {
    "name": "ipython",
    "version": 3
   },
   "file_extension": ".py",
   "mimetype": "text/x-python",
   "name": "python",
   "nbconvert_exporter": "python",
   "pygments_lexer": "ipython3",
   "version": "3.8.5"
  }
 },
 "nbformat": 4,
 "nbformat_minor": 5
}
