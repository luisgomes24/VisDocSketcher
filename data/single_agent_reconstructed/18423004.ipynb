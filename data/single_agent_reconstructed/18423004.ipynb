{
 "cells": [
  {
   "cell_type": "markdown",
   "id": "34db6aea",
   "metadata": {},
   "source": [
    "Load the earthquake data from a CSV file into a Pandas DataFrame."
   ]
  },
  {
   "cell_type": "code",
   "execution_count": null,
   "id": "5dec12d8",
   "metadata": {},
   "outputs": [],
   "source": [
    "import pandas as pd\n",
    "\n",
    "data = pd.read_csv('data.csv')"
   ]
  },
  {
   "cell_type": "markdown",
   "id": "58f1a1e7",
   "metadata": {},
   "source": [
    "Visualize the distribution of earthquake magnitudes using a histogram."
   ]
  },
  {
   "cell_type": "code",
   "execution_count": null,
   "id": "4f22e517",
   "metadata": {},
   "outputs": [],
   "source": [
    "import matplotlib.pyplot as plt\n",
    "\n",
    "plt.hist(data['Magnitude'], bins=30)\n",
    "plt.title('Magnitude Distribution')\n",
    "plt.xlabel('Magnitude')\n",
    "plt.ylabel('Frequency')\n",
    "plt.show()"
   ]
  },
  {
   "cell_type": "markdown",
   "id": "94cb34c2",
   "metadata": {},
   "source": [
    "Create a joint plot to show the relationship between depth and magnitude."
   ]
  },
  {
   "cell_type": "code",
   "execution_count": null,
   "id": "a14aa2e6",
   "metadata": {},
   "outputs": [],
   "source": [
    "import seaborn as sns\n",
    "\n",
    "sns.jointplot(x='Magnitude', y='Depth', data=data)\n",
    "plt.title('Joint Plot of Depth & Magnitude')\n",
    "plt.show()"
   ]
  },
  {
   "cell_type": "markdown",
   "id": "72aa8fa8",
   "metadata": {},
   "source": [
    "Plot a time series of earthquake magnitudes over time."
   ]
  },
  {
   "cell_type": "code",
   "execution_count": null,
   "id": "a19afd65",
   "metadata": {},
   "outputs": [],
   "source": [
    "data['Time'] = pd.to_datetime(data['Date'])\n",
    "plt.plot(data['Time'], data['Magnitude'], marker='o')\n",
    "plt.title('Time Series of Magnitude')\n",
    "plt.xlabel('Date')\n",
    "plt.ylabel('Magnitude')\n",
    "plt.show()"
   ]
  },
  {
   "cell_type": "markdown",
   "id": "622d762e",
   "metadata": {},
   "source": [
    "Plot a time series of earthquake depths over time."
   ]
  },
  {
   "cell_type": "code",
   "execution_count": null,
   "id": "317d208f",
   "metadata": {},
   "outputs": [],
   "source": [
    "plt.plot(data['Time'], data['Depth'], marker='o')\n",
    "plt.title('Time Series of Depth')\n",
    "plt.xlabel('Date')\n",
    "plt.ylabel('Depth')\n",
    "plt.show()"
   ]
  },
  {
   "cell_type": "markdown",
   "id": "fbdc9b99",
   "metadata": {},
   "source": [
    "Add separate columns for year and month derived from the date."
   ]
  },
  {
   "cell_type": "code",
   "execution_count": null,
   "id": "cf0f36fc",
   "metadata": {},
   "outputs": [],
   "source": [
    "data['Year'] = data['Time'].dt.year\n",
    "data['Month'] = data['Time'].dt.month"
   ]
  },
  {
   "cell_type": "markdown",
   "id": "76858b5c",
   "metadata": {},
   "source": [
    "Filter the dataset to keep only significant earthquakes with magnitude 5.0 or higher."
   ]
  },
  {
   "cell_type": "code",
   "execution_count": null,
   "id": "23fa11f6",
   "metadata": {},
   "outputs": [],
   "source": [
    "significant_earthquakes = data[data['Magnitude'] >= 5.0]"
   ]
  },
  {
   "cell_type": "markdown",
   "id": "e3fd9677",
   "metadata": {},
   "source": [
    "Visualize the locations of significant earthquakes on a scatter plot."
   ]
  },
  {
   "cell_type": "code",
   "execution_count": null,
   "id": "e125f1db",
   "metadata": {},
   "outputs": [],
   "source": [
    "plt.scatter(significant_earthquakes['Longitude'], significant_earthquakes['Latitude'], c='red')\n",
    "plt.title('Visualize Earthquake Locations')\n",
    "plt.xlabel('Longitude')\n",
    "plt.ylabel('Latitude')\n",
    "plt.show()"
   ]
  }
 ],
 "metadata": {
  "kernelspec": {
   "display_name": "Python 3",
   "language": "python",
   "name": "python3"
  },
  "language_info": {
   "codemirror_mode": {
    "name": "ipython",
    "version": 3
   },
   "file_extension": ".py",
   "mimetype": "text/x-python",
   "name": "python",
   "nbconvert_exporter": "python",
   "pygments_lexer": "ipython3",
   "version": "3.8.5"
  }
 },
 "nbformat": 4,
 "nbformat_minor": 5
}
