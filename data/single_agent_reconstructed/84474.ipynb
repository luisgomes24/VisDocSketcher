{
 "cells": [
  {
   "cell_type": "markdown",
   "id": "e20fd6cf",
   "metadata": {},
   "source": [
    "Load the events data from a CSV file."
   ]
  },
  {
   "cell_type": "code",
   "execution_count": null,
   "id": "b14b1fa4",
   "metadata": {},
   "outputs": [],
   "source": [
    "import pandas as pd\n",
    "import matplotlib.pyplot as plt\n",
    "\n",
    "# Load Events Data\n",
    "events_data = pd.read_csv('events.csv')"
   ]
  },
  {
   "cell_type": "markdown",
   "id": "fb92370a",
   "metadata": {},
   "source": [
    "Filter the events to include only those in Beijing."
   ]
  },
  {
   "cell_type": "code",
   "execution_count": null,
   "id": "bf7c8020",
   "metadata": {},
   "outputs": [],
   "source": [
    "beijing_events = events_data[events_data['location'] == 'Beijing']"
   ]
  },
  {
   "cell_type": "markdown",
   "id": "ad1ef48d",
   "metadata": {},
   "source": [
    "Create a histogram of events by day."
   ]
  },
  {
   "cell_type": "code",
   "execution_count": null,
   "id": "e0b7cb33",
   "metadata": {},
   "outputs": [],
   "source": [
    "beijing_events['date'].hist(bins=30)\n",
    "plt.title('Histogram of Events by Day')\n",
    "plt.xlabel('Date')\n",
    "plt.ylabel('Frequency')\n",
    "plt.show()"
   ]
  },
  {
   "cell_type": "markdown",
   "id": "59c069e0",
   "metadata": {},
   "source": [
    "Create a histogram of events by hour."
   ]
  },
  {
   "cell_type": "code",
   "execution_count": null,
   "id": "2d25193d",
   "metadata": {},
   "outputs": [],
   "source": [
    "beijing_events['hour'].hist(bins=24)\n",
    "plt.title('Histogram of Events by Hour')\n",
    "plt.xlabel('Hour')\n",
    "plt.ylabel('Frequency')\n",
    "plt.show()"
   ]
  },
  {
   "cell_type": "markdown",
   "id": "a57bd89d",
   "metadata": {},
   "source": [
    "Load the gender and age data from another CSV file."
   ]
  },
  {
   "cell_type": "code",
   "execution_count": null,
   "id": "86dd735d",
   "metadata": {},
   "outputs": [],
   "source": [
    "gender_age_data = pd.read_csv('gender_age.csv')"
   ]
  },
  {
   "cell_type": "markdown",
   "id": "f04d8403",
   "metadata": {},
   "source": [
    "Merge gender and age data with Beijing event data."
   ]
  },
  {
   "cell_type": "code",
   "execution_count": null,
   "id": "895a71ee",
   "metadata": {},
   "outputs": [],
   "source": [
    "merged_data = pd.merge(beijing_events, gender_age_data, on='event_id')"
   ]
  },
  {
   "cell_type": "markdown",
   "id": "03f28142",
   "metadata": {},
   "source": [
    "Create a histogram of female events by hour."
   ]
  },
  {
   "cell_type": "code",
   "execution_count": null,
   "id": "1075af5e",
   "metadata": {},
   "outputs": [],
   "source": [
    "female_events = merged_data[merged_data['gender'] == 'Female']\n",
    "female_events['hour'].hist(bins=24)\n",
    "plt.title('Histogram of Female Events by Hour')\n",
    "plt.xlabel('Hour')\n",
    "plt.ylabel('Frequency')\n",
    "plt.show()"
   ]
  },
  {
   "cell_type": "markdown",
   "id": "94a914aa",
   "metadata": {},
   "source": [
    "Create a histogram of male events by hour."
   ]
  },
  {
   "cell_type": "code",
   "execution_count": null,
   "id": "8f7ea34c",
   "metadata": {},
   "outputs": [],
   "source": [
    "male_events = merged_data[merged_data['gender'] == 'Male']\n",
    "male_events['hour'].hist(bins=24)\n",
    "plt.title('Histogram of Male Events by Hour')\n",
    "plt.xlabel('Hour')\n",
    "plt.ylabel('Frequency')\n",
    "plt.show()"
   ]
  },
  {
   "cell_type": "markdown",
   "id": "86765a1c",
   "metadata": {},
   "source": [
    "Create a histogram of events for attendees under 30 by hour."
   ]
  },
  {
   "cell_type": "code",
   "execution_count": null,
   "id": "25411493",
   "metadata": {},
   "outputs": [],
   "source": [
    "under_30_events = merged_data[merged_data['age'] < 30]\n",
    "under_30_events['hour'].hist(bins=24)\n",
    "plt.title('Histogram of Under-30s Events by Hour')\n",
    "plt.xlabel('Hour')\n",
    "plt.ylabel('Frequency')\n",
    "plt.show()"
   ]
  },
  {
   "cell_type": "markdown",
   "id": "f67e9fbe",
   "metadata": {},
   "source": [
    "Create a histogram for attendees in their 30s by hour."
   ]
  },
  {
   "cell_type": "code",
   "execution_count": null,
   "id": "bb128f88",
   "metadata": {},
   "outputs": [],
   "source": [
    "between_30_40_events = merged_data[(merged_data['age'] >= 30) & (merged_data['age'] < 40)]\n",
    "between_30_40_events['hour'].hist(bins=24)\n",
    "plt.title('Histogram of 30-something Events by Hour')\n",
    "plt.xlabel('Hour')\n",
    "plt.ylabel('Frequency')\n",
    "plt.show()"
   ]
  },
  {
   "cell_type": "markdown",
   "id": "2ac7cabf",
   "metadata": {},
   "source": [
    "Create a histogram for attendees over 40 by hour."
   ]
  },
  {
   "cell_type": "code",
   "execution_count": null,
   "id": "8e9b3d57",
   "metadata": {},
   "outputs": [],
   "source": [
    "over_40_events = merged_data[merged_data['age'] >= 40]\n",
    "over_40_events['hour'].hist(bins=24)\n",
    "plt.title('Histogram of Over-40s Events by Hour')\n",
    "plt.xlabel('Hour')\n",
    "plt.ylabel('Frequency')\n",
    "plt.show()"
   ]
  },
  {
   "cell_type": "markdown",
   "id": "7e468eb2",
   "metadata": {},
   "source": [
    "Analyze events that occur on Friday nights."
   ]
  },
  {
   "cell_type": "code",
   "execution_count": null,
   "id": "ea3feefc",
   "metadata": {},
   "outputs": [],
   "source": [
    "friday_night_events = merged_data[merged_data['day_of_week'] == 'Friday']\n",
    "friday_night_events['hour'].hist(bins=24)\n",
    "plt.title('Analyze Friday Night Events')\n",
    "plt.xlabel('Hour')\n",
    "plt.ylabel('Frequency')\n",
    "plt.show()"
   ]
  },
  {
   "cell_type": "markdown",
   "id": "87e24b12",
   "metadata": {},
   "source": [
    "Display the counts of different user groups."
   ]
  },
  {
   "cell_type": "code",
   "execution_count": null,
   "id": "80dc2b62",
   "metadata": {},
   "outputs": [],
   "source": [
    "user_group_counts = merged_data['user_group'].value_counts()\n",
    "user_group_counts.plot(kind='bar')\n",
    "plt.title('User Group Counts')\n",
    "plt.xlabel('User Group')\n",
    "plt.ylabel('Counts')\n",
    "plt.show()"
   ]
  }
 ],
 "metadata": {
  "kernelspec": {
   "display_name": "Python 3",
   "language": "python",
   "name": "python3"
  },
  "language_info": {
   "codemirror_mode": {
    "name": "ipython",
    "version": 3
   },
   "file_extension": ".py",
   "mimetype": "text/x-python",
   "name": "python",
   "nbconvert_exporter": "python",
   "pygments_lexer": "ipython3",
   "version": "3.8.5"
  }
 },
 "nbformat": 4,
 "nbformat_minor": 5
}
