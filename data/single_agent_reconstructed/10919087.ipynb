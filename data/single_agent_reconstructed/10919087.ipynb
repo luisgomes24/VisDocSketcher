{
 "cells": [
  {
   "cell_type": "markdown",
   "id": "15453fe5",
   "metadata": {},
   "source": [
    "Load the data from a CSV file into a Pandas DataFrame."
   ]
  },
  {
   "cell_type": "code",
   "execution_count": null,
   "id": "549ae5f9",
   "metadata": {},
   "outputs": [],
   "source": [
    "import pandas as pd\n",
    "\n",
    "df = pd.read_csv('data.csv')"
   ]
  },
  {
   "cell_type": "markdown",
   "id": "fca668b3",
   "metadata": {},
   "source": [
    "View the shape of the data (rows, columns)."
   ]
  },
  {
   "cell_type": "code",
   "execution_count": null,
   "id": "8894c15e",
   "metadata": {},
   "outputs": [],
   "source": [
    "print(df.shape)"
   ]
  },
  {
   "cell_type": "markdown",
   "id": "64581445",
   "metadata": {},
   "source": [
    "Get a concise summary of the DataFrame, including non-null counts."
   ]
  },
  {
   "cell_type": "code",
   "execution_count": null,
   "id": "dfec6b43",
   "metadata": {},
   "outputs": [],
   "source": [
    "print(df.info())"
   ]
  },
  {
   "cell_type": "markdown",
   "id": "80a8f4d3",
   "metadata": {},
   "source": [
    "Remove rows with missing values."
   ]
  },
  {
   "cell_type": "code",
   "execution_count": null,
   "id": "86ebac1e",
   "metadata": {},
   "outputs": [],
   "source": [
    "df.dropna(inplace=True)"
   ]
  },
  {
   "cell_type": "markdown",
   "id": "8dc90c83",
   "metadata": {},
   "source": [
    "View the shape of the data after removing nulls."
   ]
  },
  {
   "cell_type": "code",
   "execution_count": null,
   "id": "2a2749bc",
   "metadata": {},
   "outputs": [],
   "source": [
    "print(df.shape)"
   ]
  },
  {
   "cell_type": "markdown",
   "id": "c7002c1f",
   "metadata": {},
   "source": [
    "Display the first few rows of the DataFrame."
   ]
  },
  {
   "cell_type": "code",
   "execution_count": null,
   "id": "3d229d87",
   "metadata": {},
   "outputs": [],
   "source": [
    "print(df.head())"
   ]
  },
  {
   "cell_type": "markdown",
   "id": "49545811",
   "metadata": {},
   "source": [
    "Drop the unnamed column from the DataFrame."
   ]
  },
  {
   "cell_type": "code",
   "execution_count": null,
   "id": "2aa0ae24",
   "metadata": {},
   "outputs": [],
   "source": [
    "df.drop(columns=['Unnamed: 0'], inplace=True)"
   ]
  },
  {
   "cell_type": "markdown",
   "id": "d41d36ab",
   "metadata": {},
   "source": [
    "Display the updated DataFrame after dropping the unnamed column."
   ]
  },
  {
   "cell_type": "code",
   "execution_count": null,
   "id": "9f976a53",
   "metadata": {},
   "outputs": [],
   "source": [
    "print(df.head())"
   ]
  },
  {
   "cell_type": "markdown",
   "id": "c4e7e238",
   "metadata": {},
   "source": [
    "Create a correlation heatmap to visualize relationships between variables."
   ]
  },
  {
   "cell_type": "code",
   "execution_count": null,
   "id": "97b5d782",
   "metadata": {},
   "outputs": [],
   "source": [
    "import seaborn as sns\n",
    "import matplotlib.pyplot as plt\n",
    "\n",
    "sns.heatmap(df.corr(), annot=True)\n",
    "plt.show()"
   ]
  },
  {
   "cell_type": "markdown",
   "id": "e9c04b22",
   "metadata": {},
   "source": [
    "Create a barplot to visualize the count of each programming language."
   ]
  },
  {
   "cell_type": "code",
   "execution_count": null,
   "id": "2764d17e",
   "metadata": {},
   "outputs": [],
   "source": [
    "sns.barplot(x='language', y='count', data=df)\n",
    "plt.show()"
   ]
  },
  {
   "cell_type": "markdown",
   "id": "6ab0c784",
   "metadata": {},
   "source": [
    "Group the data by language and calculate the average for each group."
   ]
  },
  {
   "cell_type": "code",
   "execution_count": null,
   "id": "e4dc1aa4",
   "metadata": {},
   "outputs": [],
   "source": [
    "grouped = df.groupby('language').mean()"
   ]
  },
  {
   "cell_type": "markdown",
   "id": "dd913c6c",
   "metadata": {},
   "source": [
    "Filter the DataFrame for entries with a vote average greater than 3."
   ]
  },
  {
   "cell_type": "code",
   "execution_count": null,
   "id": "1c66eb6d",
   "metadata": {},
   "outputs": [],
   "source": [
    "filtered = df[df['vote_average'] > 3]"
   ]
  },
  {
   "cell_type": "markdown",
   "id": "4c7c1cd2",
   "metadata": {},
   "source": [
    "Get an overview of the data with descriptive statistics."
   ]
  },
  {
   "cell_type": "code",
   "execution_count": null,
   "id": "da2b5dc9",
   "metadata": {},
   "outputs": [],
   "source": [
    "example_overview = df.describe()"
   ]
  },
  {
   "cell_type": "markdown",
   "id": "872b8550",
   "metadata": {},
   "source": [
    "Process text data by converting it into a matrix of token counts."
   ]
  },
  {
   "cell_type": "code",
   "execution_count": null,
   "id": "153e0bcd",
   "metadata": {},
   "outputs": [],
   "source": [
    "from sklearn.feature_extraction.text import CountVectorizer\n",
    "\n",
    "vectorizer = CountVectorizer()\n",
    "X = vectorizer.fit_transform(df['text'])"
   ]
  },
  {
   "cell_type": "markdown",
   "id": "8acaf2ce",
   "metadata": {},
   "source": [
    "Remove stopwords from the text column."
   ]
  },
  {
   "cell_type": "code",
   "execution_count": null,
   "id": "15c17a01",
   "metadata": {},
   "outputs": [],
   "source": [
    "from nltk.corpus import stopwords\n",
    "\n",
    "stop_words = set(stopwords.words('english'))\n",
    "df['processed_text'] = df['text'].apply(lambda x: ' '.join([word for word in x.split() if word not in stop_words]))"
   ]
  },
  {
   "cell_type": "markdown",
   "id": "fe96dae9",
   "metadata": {},
   "source": [
    "Stem the words in the processed text."
   ]
  },
  {
   "cell_type": "code",
   "execution_count": null,
   "id": "6fee9c1c",
   "metadata": {},
   "outputs": [],
   "source": [
    "from nltk.stem import PorterStemmer\n",
    "\n",
    "stemmer = PorterStemmer()\n",
    "df['stemmed_text'] = df['processed_text'].apply(lambda x: ' '.join([stemmer.stem(word) for word in x.split()]))"
   ]
  }
 ],
 "metadata": {
  "kernelspec": {
   "display_name": "Python 3",
   "language": "python",
   "name": "python3"
  },
  "language_info": {
   "codemirror_mode": {
    "name": "ipython",
    "version": 3
   },
   "file_extension": ".py",
   "mimetype": "text/x-python",
   "name": "python",
   "nbconvert_exporter": "python",
   "pygments_lexer": "ipython3",
   "version": "3.8.5"
  }
 },
 "nbformat": 4,
 "nbformat_minor": 5
}
