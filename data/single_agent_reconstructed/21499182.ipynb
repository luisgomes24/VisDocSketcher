{
 "cells": [
  {
   "cell_type": "markdown",
   "id": "33aac13f",
   "metadata": {},
   "source": [
    "Load data from a CSV file into a DataFrame."
   ]
  },
  {
   "cell_type": "code",
   "execution_count": null,
   "id": "4d360d01",
   "metadata": {},
   "outputs": [],
   "source": [
    "import pandas as pd\n",
    "df = pd.read_csv('data.csv')"
   ]
  },
  {
   "cell_type": "markdown",
   "id": "c6310fe4",
   "metadata": {},
   "source": [
    "Inspect the first few rows of the DataFrame."
   ]
  },
  {
   "cell_type": "code",
   "execution_count": null,
   "id": "0c84a2df",
   "metadata": {},
   "outputs": [],
   "source": [
    "print(df.head())"
   ]
  },
  {
   "cell_type": "markdown",
   "id": "e238ba8e",
   "metadata": {},
   "source": [
    "Check for columns with null values."
   ]
  },
  {
   "cell_type": "code",
   "execution_count": null,
   "id": "4aaa386d",
   "metadata": {},
   "outputs": [],
   "source": [
    "null_cols = df.columns[df.isnull().any()]\n",
    "print(null_cols)"
   ]
  },
  {
   "cell_type": "markdown",
   "id": "59b2d2d0",
   "metadata": {},
   "source": [
    "Preprocess the data by removing rows with null values."
   ]
  },
  {
   "cell_type": "code",
   "execution_count": null,
   "id": "b8eea476",
   "metadata": {},
   "outputs": [],
   "source": [
    "df = df.dropna()"
   ]
  },
  {
   "cell_type": "markdown",
   "id": "d26740cf",
   "metadata": {},
   "source": [
    "Map month names to their corresponding numerical values."
   ]
  },
  {
   "cell_type": "code",
   "execution_count": null,
   "id": "0f5576da",
   "metadata": {},
   "outputs": [],
   "source": [
    "MonthDict = {'Jan': 1, 'Feb': 2, 'Mar': 3}\n",
    "df['Month'] = df['Month'].map(MonthDict)"
   ]
  },
  {
   "cell_type": "markdown",
   "id": "b5de324f",
   "metadata": {},
   "source": [
    "Determine clusters by plotting costs to visualize the optimal number of clusters."
   ]
  },
  {
   "cell_type": "code",
   "execution_count": null,
   "id": "44ba2dc6",
   "metadata": {},
   "outputs": [],
   "source": [
    "import matplotlib.pyplot as plt\n",
    "plt.plot(costs)\n",
    "plt.show()"
   ]
  },
  {
   "cell_type": "markdown",
   "id": "f4865a05",
   "metadata": {},
   "source": [
    "Fit a K-Prototypes model to the data."
   ]
  },
  {
   "cell_type": "code",
   "execution_count": null,
   "id": "0edf5489",
   "metadata": {},
   "outputs": [],
   "source": [
    "from kmodes.kprototypes import KPrototypes\n",
    "model = KPrototypes(n_clusters=3)\n",
    "clusters = model.fit_predict(df, categorical=[categorical_indices])"
   ]
  },
  {
   "cell_type": "markdown",
   "id": "ed0ad5d3",
   "metadata": {},
   "source": [
    "Assign the resulting cluster IDs back to the DataFrame."
   ]
  },
  {
   "cell_type": "code",
   "execution_count": null,
   "id": "4a8ffe02",
   "metadata": {},
   "outputs": [],
   "source": [
    "df['cluster_id'] = clusters"
   ]
  },
  {
   "cell_type": "markdown",
   "id": "4759af06",
   "metadata": {},
   "source": [
    "Visualize age distribution by cluster using a box plot."
   ]
  },
  {
   "cell_type": "code",
   "execution_count": null,
   "id": "600b3a6f",
   "metadata": {},
   "outputs": [],
   "source": [
    "import seaborn as sns\n",
    "sns.boxplot(x='cluster_id', y='Age', data=df)"
   ]
  },
  {
   "cell_type": "markdown",
   "id": "4de6f1f4",
   "metadata": {},
   "source": [
    "Display the distribution of crash types using a bar plot."
   ]
  },
  {
   "cell_type": "code",
   "execution_count": null,
   "id": "ffd11335",
   "metadata": {},
   "outputs": [],
   "source": [
    "df['Crash_Type'].value_counts().plot(kind='bar')"
   ]
  }
 ],
 "metadata": {
  "kernelspec": {
   "display_name": "Python 3",
   "language": "python",
   "name": "python3"
  },
  "language_info": {
   "codemirror_mode": {
    "name": "ipython",
    "version": 3
   },
   "file_extension": ".py",
   "mimetype": "text/x-python",
   "name": "python",
   "nbconvert_exporter": "python",
   "pygments_lexer": "ipython3",
   "version": "3.8.5"
  }
 },
 "nbformat": 4,
 "nbformat_minor": 5
}
