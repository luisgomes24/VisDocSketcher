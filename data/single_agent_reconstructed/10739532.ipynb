{
 "cells": [
  {
   "cell_type": "markdown",
   "id": "4e858eba",
   "metadata": {},
   "source": [
    "Load the dataset from a CSV file into a pandas DataFrame."
   ]
  },
  {
   "cell_type": "code",
   "execution_count": null,
   "id": "b9c60698",
   "metadata": {},
   "outputs": [],
   "source": [
    "import pandas as pd\n",
    "\n",
    "data = pd.read_csv('data.csv')"
   ]
  },
  {
   "cell_type": "markdown",
   "id": "eb501a46",
   "metadata": {},
   "source": [
    "Preprocess the data by removing any missing values."
   ]
  },
  {
   "cell_type": "code",
   "execution_count": null,
   "id": "ccddda09",
   "metadata": {},
   "outputs": [],
   "source": [
    "data = data.dropna()"
   ]
  },
  {
   "cell_type": "markdown",
   "id": "f8d882d4",
   "metadata": {},
   "source": [
    "Visualize the count of BCG strains across different years using a bar chart."
   ]
  },
  {
   "cell_type": "code",
   "execution_count": null,
   "id": "894d0db1",
   "metadata": {},
   "outputs": [],
   "source": [
    "import matplotlib.pyplot as plt\n",
    "\n",
    "plt.figure(figsize=(10,6))\n",
    "data['Year'].value_counts().plot(kind='bar')\n",
    "plt.title('BCG Strains Over the Years')\n",
    "plt.show()"
   ]
  },
  {
   "cell_type": "markdown",
   "id": "77cb12b9",
   "metadata": {},
   "source": [
    "Create a count plot for the original BCG strains."
   ]
  },
  {
   "cell_type": "code",
   "execution_count": null,
   "id": "d0b1d9aa",
   "metadata": {},
   "outputs": [],
   "source": [
    "plt.figure(figsize=(10,6))\n",
    "data['Strain Original'].value_counts().plot(kind='bar')\n",
    "plt.title('Countplot of BCG Strain Original')\n",
    "plt.show()"
   ]
  },
  {
   "cell_type": "markdown",
   "id": "72a3d84d",
   "metadata": {},
   "source": [
    "Generate a count plot for BCG vaccination timing."
   ]
  },
  {
   "cell_type": "code",
   "execution_count": null,
   "id": "a890de0d",
   "metadata": {},
   "outputs": [],
   "source": [
    "plt.figure(figsize=(10,6))\n",
    "data['Vaccination Timing'].value_counts().plot(kind='bar')\n",
    "plt.title('Countplot of BCG Vaccination Timing')\n",
    "plt.show()"
   ]
  },
  {
   "cell_type": "markdown",
   "id": "7c0c1cb1",
   "metadata": {},
   "source": [
    "Plot the count of BCG policy in the first year for the original data."
   ]
  },
  {
   "cell_type": "code",
   "execution_count": null,
   "id": "7f8071e1",
   "metadata": {},
   "outputs": [],
   "source": [
    "plt.figure(figsize=(10,6))\n",
    "data['Policy 1st Year Original'].value_counts().plot(kind='bar')\n",
    "plt.title('BCG Policy 1st Year Original')\n",
    "plt.show()"
   ]
  },
  {
   "cell_type": "markdown",
   "id": "42a0695c",
   "metadata": {},
   "source": [
    "Visualize the BCG policy data from the last year."
   ]
  },
  {
   "cell_type": "code",
   "execution_count": null,
   "id": "db3e9d1d",
   "metadata": {},
   "outputs": [],
   "source": [
    "plt.figure(figsize=(10,6))\n",
    "data['Policy Last Year Original'].value_counts().plot(kind='bar')\n",
    "plt.title('BCG Policy Last Year Original')\n",
    "plt.show()"
   ]
  },
  {
   "cell_type": "markdown",
   "id": "8002e7e6",
   "metadata": {},
   "source": [
    "Analyze the timing for revaccination through a bar chart."
   ]
  },
  {
   "cell_type": "code",
   "execution_count": null,
   "id": "79a1f9e4",
   "metadata": {},
   "outputs": [],
   "source": [
    "plt.figure(figsize=(10,6))\n",
    "data['Revaccination Timing'].value_counts().plot(kind='bar')\n",
    "plt.title('Revaccination Timing Analysis')\n",
    "plt.show()"
   ]
  },
  {
   "cell_type": "markdown",
   "id": "2a3fec9a",
   "metadata": {},
   "source": [
    "Examine the distribution of high-risk groups."
   ]
  },
  {
   "cell_type": "code",
   "execution_count": null,
   "id": "ad2a0d55",
   "metadata": {},
   "outputs": [],
   "source": [
    "plt.figure(figsize=(10,6))\n",
    "data['High-risk Groups'].value_counts().plot(kind='bar')\n",
    "plt.title('Analyze High-risk Groups')\n",
    "plt.show()"
   ]
  },
  {
   "cell_type": "markdown",
   "id": "67c0be33",
   "metadata": {},
   "source": [
    "Evaluate data insights by generating descriptive statistics."
   ]
  },
  {
   "cell_type": "code",
   "execution_count": null,
   "id": "5c815bfa",
   "metadata": {},
   "outputs": [],
   "source": [
    "insights = data.describe()"
   ]
  }
 ],
 "metadata": {
  "kernelspec": {
   "display_name": "Python 3",
   "language": "python",
   "name": "python3"
  },
  "language_info": {
   "codemirror_mode": {
    "name": "ipython",
    "version": 3
   },
   "file_extension": ".py",
   "mimetype": "text/x-python",
   "name": "python",
   "nbconvert_exporter": "python",
   "pygments_lexer": "ipython3",
   "version": "3.8.5"
  }
 },
 "nbformat": 4,
 "nbformat_minor": 5
}
