{
 "cells": [
  {
   "cell_type": "markdown",
   "id": "04dd8227",
   "metadata": {},
   "source": [
    "Load configuration from a JSON file using the specified file path."
   ]
  },
  {
   "cell_type": "code",
   "execution_count": null,
   "id": "f838f591",
   "metadata": {},
   "outputs": [],
   "source": [
    "import json\n",
    "\n",
    "def load_config(config_path):\n",
    "    with open(config_path, 'r') as file:\n",
    "        config = json.load(file)\n",
    "    return config"
   ]
  },
  {
   "cell_type": "markdown",
   "id": "fe104816",
   "metadata": {},
   "source": [
    "Read data from a CSV file using the specified data path."
   ]
  },
  {
   "cell_type": "code",
   "execution_count": null,
   "id": "cdd154ef",
   "metadata": {},
   "outputs": [],
   "source": [
    "import pandas as pd\n",
    "\n",
    "def read_data(data_path):\n",
    "    data = pd.read_csv(data_path)\n",
    "    return data"
   ]
  }
 ],
 "metadata": {
  "kernelspec": {
   "display_name": "Python 3",
   "language": "python",
   "name": "python3"
  },
  "language_info": {
   "codemirror_mode": {
    "name": "ipython",
    "version": 3
   },
   "file_extension": ".py",
   "mimetype": "text/x-python",
   "name": "python",
   "nbconvert_exporter": "python",
   "pygments_lexer": "ipython3",
   "version": "3.8.5"
  }
 },
 "nbformat": 4,
 "nbformat_minor": 5
}
