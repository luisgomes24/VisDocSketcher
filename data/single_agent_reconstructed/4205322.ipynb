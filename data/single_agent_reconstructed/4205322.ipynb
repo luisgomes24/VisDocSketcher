{
 "cells": [
  {
   "cell_type": "markdown",
   "id": "681f92ab",
   "metadata": {},
   "source": [
    "Load the dataset from a CSV file into a pandas DataFrame."
   ]
  },
  {
   "cell_type": "code",
   "execution_count": null,
   "id": "68661b8e",
   "metadata": {},
   "outputs": [],
   "source": [
    "import pandas as pd\n",
    "museum_data = pd.read_csv('museum_data.csv')"
   ]
  },
  {
   "cell_type": "markdown",
   "id": "d5899b0e",
   "metadata": {},
   "source": [
    "Display the first few rows of the dataset to review its structure."
   ]
  },
  {
   "cell_type": "code",
   "execution_count": null,
   "id": "f73c64c8",
   "metadata": {},
   "outputs": [],
   "source": [
    "print(museum_data.head())"
   ]
  },
  {
   "cell_type": "markdown",
   "id": "fab73219",
   "metadata": {},
   "source": [
    "Create a line chart to visualize the monthly visitor trends."
   ]
  },
  {
   "cell_type": "code",
   "execution_count": null,
   "id": "36be0b50",
   "metadata": {},
   "outputs": [],
   "source": [
    "import matplotlib.pyplot as plt\n",
    "\n",
    "plt.figure(figsize=(10, 5))\n",
    "plt.plot(museum_data['Month'], museum_data['Visitors'], marker='o')\n",
    "plt.title('Monthly Visitors')\n",
    "plt.xlabel('Month')\n",
    "plt.ylabel('Number of Visitors')\n",
    "plt.grid()\n",
    "plt.show()"
   ]
  },
  {
   "cell_type": "markdown",
   "id": "82de2a8e",
   "metadata": {},
   "source": [
    "Filter data for Avila Adobe and plot the visitor trends."
   ]
  },
  {
   "cell_type": "code",
   "execution_count": null,
   "id": "00a65655",
   "metadata": {},
   "outputs": [],
   "source": [
    "avil_adobe_visitors = museum_data[museum_data['Location'] == 'Avila Adobe']\n",
    "plt.figure(figsize=(10, 5))\n",
    "plt.plot(avil_adobe_visitors['Month'], avil_adobe_visitors['Visitors'], marker='o')\n",
    "plt.title('Avila Adobe Visitors')\n",
    "plt.xlabel('Month')\n",
    "plt.ylabel('Number of Visitors')\n",
    "plt.grid()\n",
    "plt.show()"
   ]
  },
  {
   "cell_type": "markdown",
   "id": "66e41e57",
   "metadata": {},
   "source": [
    "Plot the overall visitor trends to assess seasonality over time."
   ]
  },
  {
   "cell_type": "code",
   "execution_count": null,
   "id": "02dfdec7",
   "metadata": {},
   "outputs": [],
   "source": [
    "plt.figure(figsize=(10, 5))\n",
    "plt.plot(museum_data['Month'], museum_data['Visitors'], marker='o')\n",
    "plt.title('Assess Seasonality')\n",
    "plt.xlabel('Month')\n",
    "plt.ylabel('Number of Visitors')\n",
    "plt.grid()\n",
    "plt.show()"
   ]
  }
 ],
 "metadata": {
  "kernelspec": {
   "display_name": "Python 3",
   "language": "python",
   "name": "python3"
  },
  "language_info": {
   "codemirror_mode": {
    "name": "ipython",
    "version": 3
   },
   "file_extension": ".py",
   "mimetype": "text/x-python",
   "name": "python",
   "nbconvert_exporter": "python",
   "pygments_lexer": "ipython3",
   "version": "3.8.5"
  }
 },
 "nbformat": 4,
 "nbformat_minor": 5
}
