{
 "cells": [
  {
   "cell_type": "markdown",
   "id": "2dfe4d1f",
   "metadata": {},
   "source": [
    "Load the dataset from a CSV file into a DataFrame."
   ]
  },
  {
   "cell_type": "code",
   "execution_count": null,
   "id": "97476c50",
   "metadata": {},
   "outputs": [],
   "source": [
    "import pandas as pd\n",
    "data = pd.read_csv('data.csv')"
   ]
  },
  {
   "cell_type": "markdown",
   "id": "f09f632a",
   "metadata": {},
   "source": [
    "Select the relevant features for the scatter plot."
   ]
  },
  {
   "cell_type": "code",
   "execution_count": null,
   "id": "bc7e72b4",
   "metadata": {},
   "outputs": [],
   "source": [
    "scatter_data = data[['feature1', 'feature2']]"
   ]
  },
  {
   "cell_type": "markdown",
   "id": "84f3ed55",
   "metadata": {},
   "source": [
    "Create a basic scatter plot using the selected features."
   ]
  },
  {
   "cell_type": "code",
   "execution_count": null,
   "id": "16578e5b",
   "metadata": {},
   "outputs": [],
   "source": [
    "import matplotlib.pyplot as plt\n",
    "plt.scatter(scatter_data['feature1'], scatter_data['feature2'])\n",
    "plt.show()"
   ]
  },
  {
   "cell_type": "markdown",
   "id": "dd9e6123",
   "metadata": {},
   "source": [
    "Enhance the scatter plot by adding color and size based on additional features."
   ]
  },
  {
   "cell_type": "code",
   "execution_count": null,
   "id": "a58ab3c4",
   "metadata": {},
   "outputs": [],
   "source": [
    "plt.scatter(scatter_data['feature1'], scatter_data['feature2'], c=data['color_feature'], s=data['size_feature'])\n",
    "plt.show()"
   ]
  },
  {
   "cell_type": "markdown",
   "id": "7c8869c2",
   "metadata": {},
   "source": [
    "Generate a categorical plot to visualize the relationship between categorical and numerical features."
   ]
  },
  {
   "cell_type": "code",
   "execution_count": null,
   "id": "f09acc5f",
   "metadata": {},
   "outputs": [],
   "source": [
    "import seaborn as sns\n",
    "sns.catplot(x='categorical_feature', y='numerical_feature', data=data, kind='bar')"
   ]
  },
  {
   "cell_type": "markdown",
   "id": "291d32a1",
   "metadata": {},
   "source": [
    "Overlay both line and scatter plots to display the trends and point data simultaneously."
   ]
  },
  {
   "cell_type": "code",
   "execution_count": null,
   "id": "c67b9ed5",
   "metadata": {},
   "outputs": [],
   "source": [
    "plt.plot(data['x_feature'], data['y_feature'], label='Line Plot')\n",
    "plt.scatter(data['x_feature'], data['y_feature'], label='Scatter Plot')\n",
    "plt.legend()\n",
    "plt.show()"
   ]
  }
 ],
 "metadata": {
  "kernelspec": {
   "display_name": "Python 3",
   "language": "python",
   "name": "python3"
  },
  "language_info": {
   "codemirror_mode": {
    "name": "ipython",
    "version": 3
   },
   "file_extension": ".py",
   "mimetype": "text/x-python",
   "name": "python",
   "nbconvert_exporter": "python",
   "pygments_lexer": "ipython3",
   "version": "3.8.5"
  }
 },
 "nbformat": 4,
 "nbformat_minor": 5
}
