{
 "cells": [
  {
   "cell_type": "markdown",
   "id": "c15b5cad",
   "metadata": {},
   "source": [
    "Load the data from 'apps.csv' and preview the first 5 rows."
   ]
  },
  {
   "cell_type": "code",
   "execution_count": null,
   "id": "5f0d0829",
   "metadata": {},
   "outputs": [],
   "source": [
    "import pandas as pd\n",
    "df1 = pd.read_csv('apps.csv')\n",
    "df1.head(5)"
   ]
  },
  {
   "cell_type": "markdown",
   "id": "c77aa6ac",
   "metadata": {},
   "source": [
    "Generate distribution graphs for each column in the first dataframe."
   ]
  },
  {
   "cell_type": "code",
   "execution_count": null,
   "id": "f534dbf0",
   "metadata": {},
   "outputs": [],
   "source": [
    "plotPerColumnDistribution(df1, 10, 5)"
   ]
  },
  {
   "cell_type": "markdown",
   "id": "87a2c351",
   "metadata": {},
   "source": [
    "Create a correlation matrix to visualize relationships between variables in df1."
   ]
  },
  {
   "cell_type": "code",
   "execution_count": null,
   "id": "62cff201",
   "metadata": {},
   "outputs": [],
   "source": [
    "plotCorrelationMatrix(df1, 8)"
   ]
  },
  {
   "cell_type": "markdown",
   "id": "dfa2040b",
   "metadata": {},
   "source": [
    "Draw a scatter matrix to examine the relationships between selected columns in df1."
   ]
  },
  {
   "cell_type": "code",
   "execution_count": null,
   "id": "502d20c2",
   "metadata": {},
   "outputs": [],
   "source": [
    "plotScatterMatrix(df1, 9, 10)"
   ]
  },
  {
   "cell_type": "markdown",
   "id": "fcfed905",
   "metadata": {},
   "source": [
    "Load the data from 'user_reviews.csv' and preview the first 5 rows."
   ]
  },
  {
   "cell_type": "code",
   "execution_count": null,
   "id": "ca2fda98",
   "metadata": {},
   "outputs": [],
   "source": [
    "df2 = pd.read_csv('user_reviews.csv')\n",
    "df2.head(5)"
   ]
  },
  {
   "cell_type": "markdown",
   "id": "104a4c19",
   "metadata": {},
   "source": [
    "Generate distribution graphs for each column in the second dataframe."
   ]
  },
  {
   "cell_type": "code",
   "execution_count": null,
   "id": "6f197cb6",
   "metadata": {},
   "outputs": [],
   "source": [
    "plotPerColumnDistribution(df2, 10, 5)"
   ]
  },
  {
   "cell_type": "markdown",
   "id": "2a7ded58",
   "metadata": {},
   "source": [
    "Create a correlation matrix for the second dataframe to explore variable relationships."
   ]
  },
  {
   "cell_type": "code",
   "execution_count": null,
   "id": "36ef1dec",
   "metadata": {},
   "outputs": [],
   "source": [
    "plotCorrelationMatrix(df2, 8)"
   ]
  },
  {
   "cell_type": "markdown",
   "id": "203652de",
   "metadata": {},
   "source": [
    "Draw a scatter matrix for df2 to visualize relationships between specific columns."
   ]
  },
  {
   "cell_type": "code",
   "execution_count": null,
   "id": "b1619a03",
   "metadata": {},
   "outputs": [],
   "source": [
    "plotScatterMatrix(df2, 6, 15)"
   ]
  },
  {
   "cell_type": "markdown",
   "id": "4bf0bd7f",
   "metadata": {},
   "source": [
    "Finalize the analysis with any conclusions drawn from the data."
   ]
  },
  {
   "cell_type": "code",
   "execution_count": null,
   "id": "bcf31ed1",
   "metadata": {},
   "outputs": [],
   "source": [
    "# Conclusion code goes here"
   ]
  }
 ],
 "metadata": {
  "kernelspec": {
   "display_name": "Python 3",
   "language": "python",
   "name": "python3"
  },
  "language_info": {
   "codemirror_mode": {
    "name": "ipython",
    "version": 3
   },
   "file_extension": ".py",
   "mimetype": "text/x-python",
   "name": "python",
   "nbconvert_exporter": "python",
   "pygments_lexer": "ipython3",
   "version": "3.8.5"
  }
 },
 "nbformat": 4,
 "nbformat_minor": 5
}
