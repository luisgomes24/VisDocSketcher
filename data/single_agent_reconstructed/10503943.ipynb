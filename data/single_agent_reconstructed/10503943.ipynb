{
 "cells": [
  {
   "cell_type": "markdown",
   "id": "263ef0e0",
   "metadata": {},
   "source": [
    "Load data from a CSV file using pandas."
   ]
  },
  {
   "cell_type": "code",
   "execution_count": null,
   "id": "3870b77d",
   "metadata": {},
   "outputs": [],
   "source": [
    "import pandas as pd\n",
    "data = pd.read_csv('data.csv')"
   ]
  },
  {
   "cell_type": "markdown",
   "id": "b99bac98",
   "metadata": {},
   "source": [
    "Preview the first few rows of the loaded data."
   ]
  },
  {
   "cell_type": "code",
   "execution_count": null,
   "id": "e8d41ca5",
   "metadata": {},
   "outputs": [],
   "source": [
    "print(data.head())"
   ]
  },
  {
   "cell_type": "markdown",
   "id": "8a8aa1bc",
   "metadata": {},
   "source": [
    "Plot distribution graphs for each column in the dataset."
   ]
  },
  {
   "cell_type": "code",
   "execution_count": null,
   "id": "e0f4407c",
   "metadata": {},
   "outputs": [],
   "source": [
    "import matplotlib.pyplot as plt\n",
    "import seaborn as sns\n",
    "sns.histplot(data)\n",
    "plt.show()"
   ]
  },
  {
   "cell_type": "markdown",
   "id": "7c8ed409",
   "metadata": {},
   "source": [
    "Generate a correlation matrix and visualize it."
   ]
  },
  {
   "cell_type": "code",
   "execution_count": null,
   "id": "8747b1e6",
   "metadata": {},
   "outputs": [],
   "source": [
    "correlation_matrix = data.corr()\n",
    "sns.heatmap(correlation_matrix, annot=True)\n",
    "plt.show()"
   ]
  },
  {
   "cell_type": "markdown",
   "id": "15abca6d",
   "metadata": {},
   "source": [
    "Create scatter and density plots for visualizing relationships between pairs of variables."
   ]
  },
  {
   "cell_type": "code",
   "execution_count": null,
   "id": "73405eeb",
   "metadata": {},
   "outputs": [],
   "source": [
    "sns.pairplot(data)\n",
    "plt.show()"
   ]
  }
 ],
 "metadata": {
  "kernelspec": {
   "display_name": "Python 3",
   "language": "python",
   "name": "python3"
  },
  "language_info": {
   "codemirror_mode": {
    "name": "ipython",
    "version": 3
   },
   "file_extension": ".py",
   "mimetype": "text/x-python",
   "name": "python",
   "nbconvert_exporter": "python",
   "pygments_lexer": "ipython3",
   "version": "3.8.5"
  }
 },
 "nbformat": 4,
 "nbformat_minor": 5
}
