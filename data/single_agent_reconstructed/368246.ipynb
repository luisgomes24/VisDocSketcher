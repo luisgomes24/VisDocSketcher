{
 "cells": [
  {
   "cell_type": "markdown",
   "id": "bc7a8555",
   "metadata": {},
   "source": [
    "Load the Titanic dataset from a CSV file."
   ]
  },
  {
   "cell_type": "code",
   "execution_count": null,
   "id": "627ea88d",
   "metadata": {},
   "outputs": [],
   "source": [
    "import pandas as pd\n",
    "\n",
    "titanic_df = pd.read_csv('../input/train.csv')"
   ]
  },
  {
   "cell_type": "markdown",
   "id": "c394745e",
   "metadata": {},
   "source": [
    "Display the first few rows of the dataset."
   ]
  },
  {
   "cell_type": "code",
   "execution_count": null,
   "id": "e699878a",
   "metadata": {},
   "outputs": [],
   "source": [
    "titanic_df.head()"
   ]
  },
  {
   "cell_type": "markdown",
   "id": "fc2c9bac",
   "metadata": {},
   "source": [
    "Plot the count of survival statuses."
   ]
  },
  {
   "cell_type": "code",
   "execution_count": null,
   "id": "faa0c062",
   "metadata": {},
   "outputs": [],
   "source": [
    "import matplotlib.pyplot as plt\n",
    "import seaborn as sns\n",
    "sns.countplot(x='Survived', data=titanic_df)\n",
    "plt.show()"
   ]
  },
  {
   "cell_type": "markdown",
   "id": "8cac2604",
   "metadata": {},
   "source": [
    "Plot the count of passengers by gender."
   ]
  },
  {
   "cell_type": "code",
   "execution_count": null,
   "id": "93202a02",
   "metadata": {},
   "outputs": [],
   "source": [
    "sns.countplot(x='Sex', data=titanic_df)\n",
    "plt.show()"
   ]
  },
  {
   "cell_type": "markdown",
   "id": "0c4712b5",
   "metadata": {},
   "source": [
    "Plot the count of passengers by class."
   ]
  },
  {
   "cell_type": "code",
   "execution_count": null,
   "id": "6dc3d6d7",
   "metadata": {},
   "outputs": [],
   "source": [
    "sns.countplot(x='Pclass', data=titanic_df)\n",
    "plt.show()"
   ]
  },
  {
   "cell_type": "markdown",
   "id": "678a5206",
   "metadata": {},
   "source": [
    "Show the survival count distributed by class."
   ]
  },
  {
   "cell_type": "code",
   "execution_count": null,
   "id": "a843d6a6",
   "metadata": {},
   "outputs": [],
   "source": [
    "sns.countplot(x='Pclass', hue='Survived', data=titanic_df)\n",
    "plt.show()"
   ]
  },
  {
   "cell_type": "markdown",
   "id": "0e8b2a9a",
   "metadata": {},
   "source": [
    "Show the survival distribution by gender."
   ]
  },
  {
   "cell_type": "code",
   "execution_count": null,
   "id": "a3f5e88f",
   "metadata": {},
   "outputs": [],
   "source": [
    "sns.countplot(x='Sex', hue='Survived', data=titanic_df)\n",
    "plt.show()"
   ]
  },
  {
   "cell_type": "markdown",
   "id": "5ade483c",
   "metadata": {},
   "source": [
    "Display survival probability by class and gender."
   ]
  },
  {
   "cell_type": "code",
   "execution_count": null,
   "id": "28edd56c",
   "metadata": {},
   "outputs": [],
   "source": [
    "sns.catplot(x='Pclass', y='Survived', hue='Sex', kind='bar', data=titanic_df)\n",
    "plt.show()"
   ]
  },
  {
   "cell_type": "markdown",
   "id": "52431906",
   "metadata": {},
   "source": [
    "Analyze the passenger embarkation ports."
   ]
  },
  {
   "cell_type": "code",
   "execution_count": null,
   "id": "33af8f5d",
   "metadata": {},
   "outputs": [],
   "source": [
    "sns.countplot(x='Embarked', data=titanic_df)\n",
    "plt.show()"
   ]
  },
  {
   "cell_type": "markdown",
   "id": "5460a7fe",
   "metadata": {},
   "source": [
    "Show embarkation port distribution by class."
   ]
  },
  {
   "cell_type": "code",
   "execution_count": null,
   "id": "e4a137a2",
   "metadata": {},
   "outputs": [],
   "source": [
    "sns.countplot(x='Embarked', hue='Pclass', data=titanic_df)\n",
    "plt.show()"
   ]
  },
  {
   "cell_type": "markdown",
   "id": "e8dbff86",
   "metadata": {},
   "source": [
    "Show embarkation port distribution by gender."
   ]
  },
  {
   "cell_type": "code",
   "execution_count": null,
   "id": "b38b47ef",
   "metadata": {},
   "outputs": [],
   "source": [
    "sns.countplot(x='Embarked', hue='Sex', data=titanic_df)\n",
    "plt.show()"
   ]
  },
  {
   "cell_type": "markdown",
   "id": "644f16c0",
   "metadata": {},
   "source": [
    "Plot the age distribution of passengers."
   ]
  },
  {
   "cell_type": "code",
   "execution_count": null,
   "id": "ba252309",
   "metadata": {},
   "outputs": [],
   "source": [
    "sns.histplot(titanic_df['Age'], bins=30, kde=True)\n",
    "plt.show()"
   ]
  },
  {
   "cell_type": "markdown",
   "id": "09d8d0bb",
   "metadata": {},
   "source": [
    "Plot the fare distribution of passengers."
   ]
  },
  {
   "cell_type": "code",
   "execution_count": null,
   "id": "f061611b",
   "metadata": {},
   "outputs": [],
   "source": [
    "sns.histplot(titanic_df['Fare'], bins=30, kde=True)\n",
    "plt.show()"
   ]
  },
  {
   "cell_type": "markdown",
   "id": "216489df",
   "metadata": {},
   "source": [
    "Create a joint plot of age and fare."
   ]
  },
  {
   "cell_type": "code",
   "execution_count": null,
   "id": "79971930",
   "metadata": {},
   "outputs": [],
   "source": [
    "sns.jointplot(x='Age', y='Fare', data=titanic_df, kind='scatter')\n",
    "plt.show()"
   ]
  },
  {
   "cell_type": "markdown",
   "id": "c7f1fb04",
   "metadata": {},
   "source": [
    "Analyze the cabin distribution of passengers."
   ]
  },
  {
   "cell_type": "code",
   "execution_count": null,
   "id": "9a57887c",
   "metadata": {},
   "outputs": [],
   "source": [
    "sns.countplot(x='Cabin', data=titanic_df)\n",
    "plt.show()"
   ]
  },
  {
   "cell_type": "markdown",
   "id": "2bc0277d",
   "metadata": {},
   "source": [
    "Identify and display specific cabins."
   ]
  },
  {
   "cell_type": "code",
   "execution_count": null,
   "id": "4d46b84b",
   "metadata": {},
   "outputs": [],
   "source": [
    "specific_cabins = titanic_df[titanic_df['Cabin'].notnull()]\n",
    "specific_cabins.head()"
   ]
  }
 ],
 "metadata": {
  "kernelspec": {
   "display_name": "Python 3",
   "language": "python",
   "name": "python3"
  },
  "language_info": {
   "codemirror_mode": {
    "name": "ipython",
    "version": 3
   },
   "file_extension": ".py",
   "mimetype": "text/x-python",
   "name": "python",
   "nbconvert_exporter": "python",
   "pygments_lexer": "ipython3",
   "version": "3.8.5"
  }
 },
 "nbformat": 4,
 "nbformat_minor": 5
}
