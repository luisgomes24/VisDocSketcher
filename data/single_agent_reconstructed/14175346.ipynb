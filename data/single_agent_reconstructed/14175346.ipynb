{
 "cells": [
  {
   "cell_type": "markdown",
   "id": "625da9a2",
   "metadata": {},
   "source": [
    "Load the training and test data from CSV files using pandas."
   ]
  },
  {
   "cell_type": "code",
   "execution_count": null,
   "id": "7fc560aa",
   "metadata": {},
   "outputs": [],
   "source": [
    "import pandas as pd\n",
    "train_df = pd.read_csv('train.csv')\n",
    "test_df = pd.read_csv('test.csv')"
   ]
  },
  {
   "cell_type": "markdown",
   "id": "591b986b",
   "metadata": {},
   "source": [
    "Explore the data by printing the first few rows and summary statistics."
   ]
  },
  {
   "cell_type": "code",
   "execution_count": null,
   "id": "b1da9dc9",
   "metadata": {},
   "outputs": [],
   "source": [
    "print(train_df.head())\n",
    "print(train_df.describe())"
   ]
  },
  {
   "cell_type": "markdown",
   "id": "c4672952",
   "metadata": {},
   "source": [
    "Preprocess the data and create DataLoaders for training and validation."
   ]
  },
  {
   "cell_type": "code",
   "execution_count": null,
   "id": "40ed244b",
   "metadata": {},
   "outputs": [],
   "source": [
    "from fastai.tabular.all import TabularPandas\n",
    "\n",
    "splits = RandomSplitter()(range_of(train_df))\n",
    "dls = TabularDataLoaders.from_df(train_df, y_names='target', valid_idx=splits[1])"
   ]
  },
  {
   "cell_type": "markdown",
   "id": "8d1e014e",
   "metadata": {},
   "source": [
    "Build a model using the tabular_learner function from fastai."
   ]
  },
  {
   "cell_type": "code",
   "execution_count": null,
   "id": "c6c7dbbd",
   "metadata": {},
   "outputs": [],
   "source": [
    "from fastai.tabular.all import tabular_learner\n",
    "\n",
    "learn = tabular_learner(dls, metrics=accuracy)"
   ]
  },
  {
   "cell_type": "markdown",
   "id": "530d79f4",
   "metadata": {},
   "source": [
    "Train the model for 5 epochs using the fit_one_cycle method."
   ]
  },
  {
   "cell_type": "code",
   "execution_count": null,
   "id": "bfb55288",
   "metadata": {},
   "outputs": [],
   "source": [
    "learn.fit_one_cycle(5)"
   ]
  },
  {
   "cell_type": "markdown",
   "id": "da6c0bab",
   "metadata": {},
   "source": [
    "Make predictions on the test data and store them in a DataFrame."
   ]
  },
  {
   "cell_type": "code",
   "execution_count": null,
   "id": "c7d0f893",
   "metadata": {},
   "outputs": [],
   "source": [
    "predictions = learn.get_preds(dl=dls.test)\n",
    "\n",
    "predictions_df = pd.DataFrame(predictions[0], columns=['Predictions'])"
   ]
  },
  {
   "cell_type": "markdown",
   "id": "ef6778f9",
   "metadata": {},
   "source": [
    "Create a submission file by saving predictions to a CSV file."
   ]
  },
  {
   "cell_type": "code",
   "execution_count": null,
   "id": "9d399a23",
   "metadata": {},
   "outputs": [],
   "source": [
    "predictions_df.to_csv('submission.csv', index=False)"
   ]
  }
 ],
 "metadata": {
  "kernelspec": {
   "display_name": "Python 3",
   "language": "python",
   "name": "python3"
  },
  "language_info": {
   "codemirror_mode": {
    "name": "ipython",
    "version": 3
   },
   "file_extension": ".py",
   "mimetype": "text/x-python",
   "name": "python",
   "nbconvert_exporter": "python",
   "pygments_lexer": "ipython3",
   "version": "3.8.5"
  }
 },
 "nbformat": 4,
 "nbformat_minor": 5
}
