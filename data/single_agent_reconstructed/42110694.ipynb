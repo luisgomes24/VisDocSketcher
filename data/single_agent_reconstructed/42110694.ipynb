{
 "cells": [
  {
   "cell_type": "markdown",
   "id": "22fd7259",
   "metadata": {},
   "source": [
    "Load the dataset from a CSV file using pandas."
   ]
  },
  {
   "cell_type": "code",
   "execution_count": null,
   "id": "ad610509",
   "metadata": {},
   "outputs": [],
   "source": [
    "import pandas as pd\n",
    "df = pd.read_csv('data.csv')"
   ]
  },
  {
   "cell_type": "markdown",
   "id": "f3565103",
   "metadata": {},
   "source": [
    "Get the shape of the DataFrame, indicating the number of rows and columns."
   ]
  },
  {
   "cell_type": "code",
   "execution_count": null,
   "id": "d01dacdb",
   "metadata": {},
   "outputs": [],
   "source": [
    "df_shape = df.shape"
   ]
  },
  {
   "cell_type": "markdown",
   "id": "f482aaab",
   "metadata": {},
   "source": [
    "Obtain a summary of the DataFrame, including data types and non-null counts."
   ]
  },
  {
   "cell_type": "code",
   "execution_count": null,
   "id": "24a21616",
   "metadata": {},
   "outputs": [],
   "source": [
    "df_info = df.info()"
   ]
  },
  {
   "cell_type": "markdown",
   "id": "4ef5125b",
   "metadata": {},
   "source": [
    "Generate descriptive statistics for numerical columns in the DataFrame."
   ]
  },
  {
   "cell_type": "code",
   "execution_count": null,
   "id": "b0761669",
   "metadata": {},
   "outputs": [],
   "source": [
    "df_description = df.describe()"
   ]
  }
 ],
 "metadata": {
  "kernelspec": {
   "display_name": "Python 3",
   "language": "python",
   "name": "python3"
  },
  "language_info": {
   "codemirror_mode": {
    "name": "ipython",
    "version": 3
   },
   "file_extension": ".py",
   "mimetype": "text/x-python",
   "name": "python",
   "nbconvert_exporter": "python",
   "pygments_lexer": "ipython3",
   "version": "3.8.5"
  }
 },
 "nbformat": 4,
 "nbformat_minor": 5
}
