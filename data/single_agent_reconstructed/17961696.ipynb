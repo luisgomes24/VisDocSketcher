{
 "cells": [
  {
   "cell_type": "markdown",
   "id": "d6639d08",
   "metadata": {},
   "source": [
    "Load the dataset from a CSV file into a DataFrame."
   ]
  },
  {
   "cell_type": "code",
   "execution_count": null,
   "id": "c8d8342a",
   "metadata": {},
   "outputs": [],
   "source": [
    "import pandas as pd\n",
    "df = pd.read_csv('data.csv')"
   ]
  },
  {
   "cell_type": "markdown",
   "id": "57c9b6c1",
   "metadata": {},
   "source": [
    "Display the first few rows of the DataFrame to understand its structure."
   ]
  },
  {
   "cell_type": "code",
   "execution_count": null,
   "id": "9980973c",
   "metadata": {},
   "outputs": [],
   "source": [
    "df.head()"
   ]
  },
  {
   "cell_type": "markdown",
   "id": "af5f4f81",
   "metadata": {},
   "source": [
    "Get the dimensions of the DataFrame."
   ]
  },
  {
   "cell_type": "code",
   "execution_count": null,
   "id": "0f591643",
   "metadata": {},
   "outputs": [],
   "source": [
    "df.shape"
   ]
  },
  {
   "cell_type": "markdown",
   "id": "048fc8bb",
   "metadata": {},
   "source": [
    "Get a summary of the DataFrame, including data types."
   ]
  },
  {
   "cell_type": "code",
   "execution_count": null,
   "id": "5d85ff25",
   "metadata": {},
   "outputs": [],
   "source": [
    "df.info()"
   ]
  },
  {
   "cell_type": "markdown",
   "id": "3423b898",
   "metadata": {},
   "source": [
    "Check for null values in the DataFrame."
   ]
  },
  {
   "cell_type": "code",
   "execution_count": null,
   "id": "05738766",
   "metadata": {},
   "outputs": [],
   "source": [
    "df.isnull().sum()"
   ]
  },
  {
   "cell_type": "markdown",
   "id": "56162e3d",
   "metadata": {},
   "source": [
    "Fill or drop missing values in the DataFrame."
   ]
  },
  {
   "cell_type": "code",
   "execution_count": null,
   "id": "8d809d95",
   "metadata": {},
   "outputs": [],
   "source": [
    "df.fillna(value, inplace=True)\n",
    "df.dropna(inplace=True)"
   ]
  },
  {
   "cell_type": "markdown",
   "id": "7bf117b7",
   "metadata": {},
   "source": [
    "Aggregate data by year for total injuries and deaths."
   ]
  },
  {
   "cell_type": "code",
   "execution_count": null,
   "id": "11465102",
   "metadata": {},
   "outputs": [],
   "source": [
    "amdf = df.groupby('Year').agg({'Injuries': 'sum', 'Deaths': 'sum'})"
   ]
  },
  {
   "cell_type": "markdown",
   "id": "8a365e41",
   "metadata": {},
   "source": [
    "Generate a profile report for the DataFrame."
   ]
  },
  {
   "cell_type": "code",
   "execution_count": null,
   "id": "d4713330",
   "metadata": {},
   "outputs": [],
   "source": [
    "import pandas_profiling as pp\n",
    "report = pp.ProfileReport(df)"
   ]
  },
  {
   "cell_type": "markdown",
   "id": "d10a3274",
   "metadata": {},
   "source": [
    "Calculate the total body count from the DataFrame."
   ]
  },
  {
   "cell_type": "code",
   "execution_count": null,
   "id": "2ce02939",
   "metadata": {},
   "outputs": [],
   "source": [
    "total_body_count = df['Deaths'].sum()"
   ]
  }
 ],
 "metadata": {
  "kernelspec": {
   "display_name": "Python 3",
   "language": "python",
   "name": "python3"
  },
  "language_info": {
   "codemirror_mode": {
    "name": "ipython",
    "version": 3
   },
   "file_extension": ".py",
   "mimetype": "text/x-python",
   "name": "python",
   "nbconvert_exporter": "python",
   "pygments_lexer": "ipython3",
   "version": "3.8.5"
  }
 },
 "nbformat": 4,
 "nbformat_minor": 5
}
