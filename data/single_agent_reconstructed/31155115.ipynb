{
 "cells": [
  {
   "cell_type": "markdown",
   "id": "ba6970bc",
   "metadata": {},
   "source": [
    "Load the dataset from a CSV file using pandas."
   ]
  },
  {
   "cell_type": "code",
   "execution_count": null,
   "id": "ac48b229",
   "metadata": {},
   "outputs": [],
   "source": [
    "import pandas as pd\n",
    "\n",
    "data = pd.read_csv('ds_salaries.csv')"
   ]
  },
  {
   "cell_type": "markdown",
   "id": "a2aa0c90",
   "metadata": {},
   "source": [
    "Display the first few rows of the dataset for initial inspection."
   ]
  },
  {
   "cell_type": "code",
   "execution_count": null,
   "id": "ecdcd929",
   "metadata": {},
   "outputs": [],
   "source": [
    "data.head()"
   ]
  },
  {
   "cell_type": "markdown",
   "id": "adcffd62",
   "metadata": {},
   "source": [
    "Create a bar plot showing the mean salary for each job."
   ]
  },
  {
   "cell_type": "code",
   "execution_count": null,
   "id": "52548382",
   "metadata": {},
   "outputs": [],
   "source": [
    "import seaborn as sns\n",
    "import matplotlib.pyplot as plt\n",
    "\n",
    "mean_salary_by_job = data.groupby('job')['salary'].mean().reset_index()\n",
    "sns.barplot(x='job', y='salary', data=mean_salary_by_job)\n",
    "plt.title('Mean Salary by Job')\n",
    "plt.show()"
   ]
  },
  {
   "cell_type": "markdown",
   "id": "52666805",
   "metadata": {},
   "source": [
    "Plot mean salary by job and experience level."
   ]
  },
  {
   "cell_type": "code",
   "execution_count": null,
   "id": "6fad005a",
   "metadata": {},
   "outputs": [],
   "source": [
    "mean_salary_by_exp = data.groupby(['job', 'experience'])['salary'].mean().reset_index()\n",
    "sns.barplot(x='experience', y='salary', hue='job', data=mean_salary_by_exp)\n",
    "plt.title('Mean Salary by Job & Experience')\n",
    "plt.show()"
   ]
  },
  {
   "cell_type": "markdown",
   "id": "1d4bc774",
   "metadata": {},
   "source": [
    "Display a bar plot of maximum salaries by job, experience, and employment type."
   ]
  },
  {
   "cell_type": "code",
   "execution_count": null,
   "id": "46322fc0",
   "metadata": {},
   "outputs": [],
   "source": [
    "max_salary_by_emp = data.groupby(['job', 'experience', 'employment'])['salary'].max().reset_index()\n",
    "sns.barplot(x='job', y='salary', hue='employment', data=max_salary_by_emp)\n",
    "plt.title('Max Salary by Job, Experience & Employment')\n",
    "plt.show()"
   ]
  },
  {
   "cell_type": "markdown",
   "id": "f66ef3ca",
   "metadata": {},
   "source": [
    "Generate a pie chart showcasing the distribution of machine learning jobs."
   ]
  },
  {
   "cell_type": "code",
   "execution_count": null,
   "id": "5996252b",
   "metadata": {},
   "outputs": [],
   "source": [
    "ml_jobs_count = data[data['job'].str.contains('Machine Learning')]['job'].value_counts()\n",
    "plt.pie(ml_jobs_count, labels=ml_jobs_count.index, autopct='%1.1f%%')\n",
    "plt.title('Machine Learning Jobs Distribution')\n",
    "plt.show()"
   ]
  },
  {
   "cell_type": "markdown",
   "id": "bfb326b9",
   "metadata": {},
   "source": [
    "Create a histogram to visualize the distribution of salaries."
   ]
  },
  {
   "cell_type": "code",
   "execution_count": null,
   "id": "1d2df48e",
   "metadata": {},
   "outputs": [],
   "source": [
    "sns.histplot(data['salary'], bins=30, kde=True)\n",
    "plt.title('Salary Distribution')\n",
    "plt.xlabel('Salary')\n",
    "plt.ylabel('Frequency')\n",
    "plt.show()"
   ]
  },
  {
   "cell_type": "markdown",
   "id": "f69b4060",
   "metadata": {},
   "source": [
    "Display a box plot showing the salary distribution for ML Scientists."
   ]
  },
  {
   "cell_type": "code",
   "execution_count": null,
   "id": "6d3306a0",
   "metadata": {},
   "outputs": [],
   "source": [
    "sns.boxplot(x='job', y='salary', data=data[data['job'] == 'ML Scientist'])\n",
    "plt.title('Boxplot of ML Scientist Salaries')\n",
    "plt.show()"
   ]
  }
 ],
 "metadata": {
  "kernelspec": {
   "display_name": "Python 3",
   "language": "python",
   "name": "python3"
  },
  "language_info": {
   "codemirror_mode": {
    "name": "ipython",
    "version": 3
   },
   "file_extension": ".py",
   "mimetype": "text/x-python",
   "name": "python",
   "nbconvert_exporter": "python",
   "pygments_lexer": "ipython3",
   "version": "3.8.5"
  }
 },
 "nbformat": 4,
 "nbformat_minor": 5
}
