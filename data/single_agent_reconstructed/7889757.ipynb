{
 "cells": [
  {
   "cell_type": "markdown",
   "id": "724d26bf",
   "metadata": {},
   "source": [
    "Load data from a CSV file into a pandas DataFrame."
   ]
  },
  {
   "cell_type": "code",
   "execution_count": null,
   "id": "f3918598",
   "metadata": {},
   "outputs": [],
   "source": [
    "import pandas as pd\n",
    "\n",
    "data = pd.read_csv('data.csv')"
   ]
  },
  {
   "cell_type": "markdown",
   "id": "3c22978a",
   "metadata": {},
   "source": [
    "Explore the data by displaying the first few rows and summary statistics."
   ]
  },
  {
   "cell_type": "code",
   "execution_count": null,
   "id": "fe69b35e",
   "metadata": {},
   "outputs": [],
   "source": [
    "print(data.head())\n",
    "print(data.describe())"
   ]
  },
  {
   "cell_type": "markdown",
   "id": "532d9707",
   "metadata": {},
   "source": [
    "Preprocess the data by splitting it into features and target variable, then into train and test sets."
   ]
  },
  {
   "cell_type": "code",
   "execution_count": null,
   "id": "1cee9ff1",
   "metadata": {},
   "outputs": [],
   "source": [
    "from sklearn.model_selection import train_test_split\n",
    "X = data.drop('Price', axis=1)\n",
    "y = data['Price']\n",
    "X_train, X_test, y_train, y_test = train_test_split(X, y, test_size=0.2, random_state=42)"
   ]
  },
  {
   "cell_type": "markdown",
   "id": "b689a910",
   "metadata": {},
   "source": [
    "Visualize the price by date using a line plot."
   ]
  },
  {
   "cell_type": "code",
   "execution_count": null,
   "id": "be397bd3",
   "metadata": {},
   "outputs": [],
   "source": [
    "import matplotlib.pyplot as plt\n",
    "plt.plot(data['Date'], data['Price'])\n",
    "plt.title('Price by Date')\n",
    "plt.xlabel('Date')\n",
    "plt.ylabel('Price')\n",
    "plt.show()"
   ]
  },
  {
   "cell_type": "markdown",
   "id": "9563c3dd",
   "metadata": {},
   "source": [
    "Create a Kernel Density Estimate (KDE) plot for the price."
   ]
  },
  {
   "cell_type": "code",
   "execution_count": null,
   "id": "9c1be194",
   "metadata": {},
   "outputs": [],
   "source": [
    "import seaborn as sns\n",
    "sns.kdeplot(data['Price'])\n",
    "plt.title('KDE Plot for Price')\n",
    "plt.show()"
   ]
  },
  {
   "cell_type": "markdown",
   "id": "46921605",
   "metadata": {},
   "source": [
    "Generate a pair plot to visualize relationships between variables."
   ]
  },
  {
   "cell_type": "code",
   "execution_count": null,
   "id": "4a28b21d",
   "metadata": {},
   "outputs": [],
   "source": [
    "sns.pairplot(data)\n",
    "plt.title('Pair Plot')\n",
    "plt.show()"
   ]
  },
  {
   "cell_type": "markdown",
   "id": "d511692d",
   "metadata": {},
   "source": [
    "Train a linear regression model using the training data."
   ]
  },
  {
   "cell_type": "code",
   "execution_count": null,
   "id": "7ddca46b",
   "metadata": {},
   "outputs": [],
   "source": [
    "from sklearn.linear_model import LinearRegression\n",
    "model = LinearRegression()\n",
    "model.fit(X_train, y_train)"
   ]
  },
  {
   "cell_type": "markdown",
   "id": "813488db",
   "metadata": {},
   "source": [
    "Compare predictions with actual prices using a scatter plot."
   ]
  },
  {
   "cell_type": "code",
   "execution_count": null,
   "id": "716018d7",
   "metadata": {},
   "outputs": [],
   "source": [
    "predictions = model.predict(X_test)\n",
    "plt.scatter(y_test, predictions)\n",
    "plt.xlabel('Actual Prices')\n",
    "plt.ylabel('Predicted Prices')\n",
    "plt.title('Predictions vs Actual Prices')\n",
    "plt.show()"
   ]
  },
  {
   "cell_type": "markdown",
   "id": "0e832790",
   "metadata": {},
   "source": [
    "Visualize the distribution of errors between actual and predicted prices."
   ]
  },
  {
   "cell_type": "code",
   "execution_count": null,
   "id": "2cb45e2e",
   "metadata": {},
   "outputs": [],
   "source": [
    "sns.histplot(y_test - predictions, kde=True)\n",
    "plt.title('Error Distribution')\n",
    "plt.show()"
   ]
  },
  {
   "cell_type": "markdown",
   "id": "2397ad41",
   "metadata": {},
   "source": [
    "Calculate and display evaluation metrics: Mean Squared Error and R-squared."
   ]
  },
  {
   "cell_type": "code",
   "execution_count": null,
   "id": "c60a57e6",
   "metadata": {},
   "outputs": [],
   "source": [
    "from sklearn.metrics import mean_squared_error, r2_score\n",
    "mse = mean_squared_error(y_test, predictions)\n",
    "r2 = r2_score(y_test, predictions)\n",
    "print(f'MSE: {mse}, R2: {r2}')"
   ]
  }
 ],
 "metadata": {
  "kernelspec": {
   "display_name": "Python 3",
   "language": "python",
   "name": "python3"
  },
  "language_info": {
   "codemirror_mode": {
    "name": "ipython",
    "version": 3
   },
   "file_extension": ".py",
   "mimetype": "text/x-python",
   "name": "python",
   "nbconvert_exporter": "python",
   "pygments_lexer": "ipython3",
   "version": "3.8.5"
  }
 },
 "nbformat": 4,
 "nbformat_minor": 5
}
