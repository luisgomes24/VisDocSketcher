{
 "cells": [
  {
   "cell_type": "markdown",
   "id": "bcf64fc2",
   "metadata": {},
   "source": [
    "Load the dataset from a CSV file using pandas."
   ]
  },
  {
   "cell_type": "code",
   "execution_count": null,
   "id": "c66bec2e",
   "metadata": {},
   "outputs": [],
   "source": [
    "import pandas as pd\n",
    "data = pd.read_csv('data.csv')"
   ]
  },
  {
   "cell_type": "markdown",
   "id": "244fdc87",
   "metadata": {},
   "source": [
    "Display basic information about the dataset, including data types and non-null counts."
   ]
  },
  {
   "cell_type": "code",
   "execution_count": null,
   "id": "0db899cf",
   "metadata": {},
   "outputs": [],
   "source": [
    "data.info()"
   ]
  },
  {
   "cell_type": "markdown",
   "id": "9dbe92b3",
   "metadata": {},
   "source": [
    "Select specific features from the dataset for analysis."
   ]
  },
  {
   "cell_type": "code",
   "execution_count": null,
   "id": "0f58a6a9",
   "metadata": {},
   "outputs": [],
   "source": [
    "features = data[['feature1', 'feature2', 'feature3']]"
   ]
  },
  {
   "cell_type": "markdown",
   "id": "6f8422b7",
   "metadata": {},
   "source": [
    "Clean the data by removing any rows with missing values."
   ]
  },
  {
   "cell_type": "code",
   "execution_count": null,
   "id": "22916780",
   "metadata": {},
   "outputs": [],
   "source": [
    "data_cleaned = features.dropna()"
   ]
  },
  {
   "cell_type": "markdown",
   "id": "b0a2f61a",
   "metadata": {},
   "source": [
    "Perform correlation analysis to identify relationships between features."
   ]
  },
  {
   "cell_type": "code",
   "execution_count": null,
   "id": "44be909d",
   "metadata": {},
   "outputs": [],
   "source": [
    "correlation_matrix = data_cleaned.corr()"
   ]
  },
  {
   "cell_type": "markdown",
   "id": "91022479",
   "metadata": {},
   "source": [
    "Visualize the correlation matrix using a heatmap."
   ]
  },
  {
   "cell_type": "code",
   "execution_count": null,
   "id": "1a44b192",
   "metadata": {},
   "outputs": [],
   "source": [
    "import seaborn as sns\n",
    "import matplotlib.pyplot as plt\n",
    "sns.heatmap(correlation_matrix)\n",
    "plt.show()"
   ]
  },
  {
   "cell_type": "markdown",
   "id": "e5568816",
   "metadata": {},
   "source": [
    "Find the top 10 cars based on a specified metric."
   ]
  },
  {
   "cell_type": "code",
   "execution_count": null,
   "id": "be3c832c",
   "metadata": {},
   "outputs": [],
   "source": [
    "top_cars = data_cleaned.nlargest(10, 'metric')"
   ]
  },
  {
   "cell_type": "markdown",
   "id": "627159d0",
   "metadata": {},
   "source": [
    "Display the specifications of the top cars found."
   ]
  },
  {
   "cell_type": "code",
   "execution_count": null,
   "id": "2af8af82",
   "metadata": {},
   "outputs": [],
   "source": [
    "print(top_cars[['spec1', 'spec2']])"
   ]
  },
  {
   "cell_type": "markdown",
   "id": "06eec6d8",
   "metadata": {},
   "source": [
    "Retrieve the top 10 easiest cars to handle based on a handling metric."
   ]
  },
  {
   "cell_type": "code",
   "execution_count": null,
   "id": "e83aa145",
   "metadata": {},
   "outputs": [],
   "source": [
    "easy_to_handle = data_cleaned.nsmallest(10, 'handling_metric')"
   ]
  },
  {
   "cell_type": "markdown",
   "id": "7d06bb35",
   "metadata": {},
   "source": [
    "Display the easiest cars to handle."
   ]
  },
  {
   "cell_type": "code",
   "execution_count": null,
   "id": "bc991e9b",
   "metadata": {},
   "outputs": [],
   "source": [
    "print(easy_to_handle[['car_name', 'handling_metric']])"
   ]
  },
  {
   "cell_type": "markdown",
   "id": "b1e82e57",
   "metadata": {},
   "source": [
    "Find the top 10 high-speed cars based on a speed metric."
   ]
  },
  {
   "cell_type": "code",
   "execution_count": null,
   "id": "3e8e1001",
   "metadata": {},
   "outputs": [],
   "source": [
    "high_speed_cars = data_cleaned.nlargest(10, 'speed_metric')"
   ]
  },
  {
   "cell_type": "markdown",
   "id": "f51854e6",
   "metadata": {},
   "source": [
    "Display the high-speed cars."
   ]
  },
  {
   "cell_type": "code",
   "execution_count": null,
   "id": "8e3075ce",
   "metadata": {},
   "outputs": [],
   "source": [
    "print(high_speed_cars[['car_name', 'speed_metric']])"
   ]
  }
 ],
 "metadata": {
  "kernelspec": {
   "display_name": "Python 3",
   "language": "python",
   "name": "python3"
  },
  "language_info": {
   "codemirror_mode": {
    "name": "ipython",
    "version": 3
   },
   "file_extension": ".py",
   "mimetype": "text/x-python",
   "name": "python",
   "nbconvert_exporter": "python",
   "pygments_lexer": "ipython3",
   "version": "3.8.5"
  }
 },
 "nbformat": 4,
 "nbformat_minor": 5
}
