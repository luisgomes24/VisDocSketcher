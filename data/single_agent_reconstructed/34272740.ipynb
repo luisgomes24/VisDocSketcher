{
 "cells": [
  {
   "cell_type": "markdown",
   "id": "55b8f463",
   "metadata": {},
   "source": [
    "Load the population data from a CSV file."
   ]
  },
  {
   "cell_type": "code",
   "execution_count": null,
   "id": "9bfcdbe9",
   "metadata": {},
   "outputs": [],
   "source": [
    "import pandas as pd\n",
    "data = pd.read_csv('population.csv')"
   ]
  },
  {
   "cell_type": "markdown",
   "id": "d664f457",
   "metadata": {},
   "source": [
    "View the first few rows of the dataset."
   ]
  },
  {
   "cell_type": "code",
   "execution_count": null,
   "id": "c5134209",
   "metadata": {},
   "outputs": [],
   "source": [
    "data.head()"
   ]
  },
  {
   "cell_type": "markdown",
   "id": "519ac7ea",
   "metadata": {},
   "source": [
    "View the last few rows of the dataset."
   ]
  },
  {
   "cell_type": "code",
   "execution_count": null,
   "id": "0b3d39a7",
   "metadata": {},
   "outputs": [],
   "source": [
    "data.tail()"
   ]
  },
  {
   "cell_type": "markdown",
   "id": "b02fb858",
   "metadata": {},
   "source": [
    "Get a statistical summary of the dataset."
   ]
  },
  {
   "cell_type": "code",
   "execution_count": null,
   "id": "0e30b6e5",
   "metadata": {},
   "outputs": [],
   "source": [
    "data.describe()"
   ]
  },
  {
   "cell_type": "markdown",
   "id": "0183f5f0",
   "metadata": {},
   "source": [
    "Check the information about the dataset including data types."
   ]
  },
  {
   "cell_type": "code",
   "execution_count": null,
   "id": "6a5e3b10",
   "metadata": {},
   "outputs": [],
   "source": [
    "data.info()"
   ]
  },
  {
   "cell_type": "markdown",
   "id": "18f81c12",
   "metadata": {},
   "source": [
    "Check for any missing values in the dataset."
   ]
  },
  {
   "cell_type": "code",
   "execution_count": null,
   "id": "35ae3c00",
   "metadata": {},
   "outputs": [],
   "source": [
    "data.isnull().sum()"
   ]
  },
  {
   "cell_type": "markdown",
   "id": "a92dea14",
   "metadata": {},
   "source": [
    "List all the column names in the dataset."
   ]
  },
  {
   "cell_type": "code",
   "execution_count": null,
   "id": "a2d1fc85",
   "metadata": {},
   "outputs": [],
   "source": [
    "data.columns.tolist()"
   ]
  },
  {
   "cell_type": "markdown",
   "id": "7ae75ae4",
   "metadata": {},
   "source": [
    "Create a sub-dataframe for the top 20 populated countries (2020)."
   ]
  },
  {
   "cell_type": "code",
   "execution_count": null,
   "id": "757e65a9",
   "metadata": {},
   "outputs": [],
   "source": [
    "top_20_populated = data.nlargest(20, 'Population')"
   ]
  },
  {
   "cell_type": "markdown",
   "id": "544f601d",
   "metadata": {},
   "source": [
    "Create a sub-dataframe for the least 20 populated countries (2020)."
   ]
  },
  {
   "cell_type": "code",
   "execution_count": null,
   "id": "71691a62",
   "metadata": {},
   "outputs": [],
   "source": [
    "least_20_populated = data.nsmallest(20, 'Population')"
   ]
  },
  {
   "cell_type": "markdown",
   "id": "a074d22a",
   "metadata": {},
   "source": [
    "Create a sub-dataframe for the top 20 ranked countries (2020)."
   ]
  },
  {
   "cell_type": "code",
   "execution_count": null,
   "id": "7a3bace3",
   "metadata": {},
   "outputs": [],
   "source": [
    "top_20_ranked = data.nlargest(20, 'Rank')"
   ]
  },
  {
   "cell_type": "markdown",
   "id": "0a8a4343",
   "metadata": {},
   "source": [
    "Create a sub-dataframe for the least 20 ranked countries (2020)."
   ]
  },
  {
   "cell_type": "code",
   "execution_count": null,
   "id": "a759d26b",
   "metadata": {},
   "outputs": [],
   "source": [
    "least_20_ranked = data.nsmallest(20, 'Rank')"
   ]
  },
  {
   "cell_type": "markdown",
   "id": "1c1b8803",
   "metadata": {},
   "source": [
    "Create a sub-dataframe for the top 20 % change countries (2020)."
   ]
  },
  {
   "cell_type": "code",
   "execution_count": null,
   "id": "d64f00aa",
   "metadata": {},
   "outputs": [],
   "source": [
    "top_20_growth = data.nlargest(20, 'Growth Rate')"
   ]
  },
  {
   "cell_type": "markdown",
   "id": "8af0c2ee",
   "metadata": {},
   "source": [
    "Create a sub-dataframe for the least 20 % change countries (2020)."
   ]
  },
  {
   "cell_type": "code",
   "execution_count": null,
   "id": "4a9a1ca6",
   "metadata": {},
   "outputs": [],
   "source": [
    "least_20_growth = data.nsmallest(20, 'Growth Rate')"
   ]
  },
  {
   "cell_type": "markdown",
   "id": "011cecdf",
   "metadata": {},
   "source": [
    "Create a sub-dataframe for the countries with the top 30 median ages."
   ]
  },
  {
   "cell_type": "code",
   "execution_count": null,
   "id": "016d6008",
   "metadata": {},
   "outputs": [],
   "source": [
    "median_age = data.nlargest(30, 'Median Age')"
   ]
  },
  {
   "cell_type": "markdown",
   "id": "4ab02a58",
   "metadata": {},
   "source": [
    "Create a sub-dataframe comparing age and fertility rate for the top 30."
   ]
  },
  {
   "cell_type": "code",
   "execution_count": null,
   "id": "e9b670ab",
   "metadata": {},
   "outputs": [],
   "source": [
    "age_vs_fertility = data[['Age', 'Fertility Rate']].nlargest(30, 'Age')"
   ]
  }
 ],
 "metadata": {
  "kernelspec": {
   "display_name": "Python 3",
   "language": "python",
   "name": "python3"
  },
  "language_info": {
   "codemirror_mode": {
    "name": "ipython",
    "version": 3
   },
   "file_extension": ".py",
   "mimetype": "text/x-python",
   "name": "python",
   "nbconvert_exporter": "python",
   "pygments_lexer": "ipython3",
   "version": "3.8.5"
  }
 },
 "nbformat": 4,
 "nbformat_minor": 5
}
