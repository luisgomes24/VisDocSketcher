{
 "cells": [
  {
   "cell_type": "markdown",
   "id": "9ed683b2",
   "metadata": {},
   "source": [
    "Load the dataset from a CSV file into a pandas DataFrame."
   ]
  },
  {
   "cell_type": "code",
   "execution_count": null,
   "id": "5416fd15",
   "metadata": {},
   "outputs": [],
   "source": [
    "import pandas as pd\n",
    "df = pd.read_csv('data.csv')"
   ]
  },
  {
   "cell_type": "markdown",
   "id": "ce32a9db",
   "metadata": {},
   "source": [
    "Explore the data by viewing the first few rows and getting summary statistics."
   ]
  },
  {
   "cell_type": "code",
   "execution_count": null,
   "id": "39d45ab3",
   "metadata": {},
   "outputs": [],
   "source": [
    "print(df.head())\n",
    "df.describe()"
   ]
  },
  {
   "cell_type": "markdown",
   "id": "b10d0cbe",
   "metadata": {},
   "source": [
    "Preprocess the data by removing any rows with missing values."
   ]
  },
  {
   "cell_type": "code",
   "execution_count": null,
   "id": "d657e541",
   "metadata": {},
   "outputs": [],
   "source": [
    "df.dropna(inplace=True)"
   ]
  },
  {
   "cell_type": "markdown",
   "id": "5d6a8d22",
   "metadata": {},
   "source": [
    "Create a bar plot to visualize the counts of ticket registrations by state."
   ]
  },
  {
   "cell_type": "code",
   "execution_count": null,
   "id": "932e4ddd",
   "metadata": {},
   "outputs": [],
   "source": [
    "import matplotlib.pyplot as plt\n",
    "import seaborn as sns\n",
    "sns.countplot(y='Registration State', data=df)\n",
    "plt.title('Barplot of Registration State')\n",
    "plt.show()"
   ]
  },
  {
   "cell_type": "markdown",
   "id": "1311cd5a",
   "metadata": {},
   "source": [
    "Count and visualize the number of tickets issued monthly."
   ]
  },
  {
   "cell_type": "code",
   "execution_count": null,
   "id": "d251df15",
   "metadata": {},
   "outputs": [],
   "source": [
    "monthly_counts = df['Date'].dt.to_period('M').value_counts().sort_index()\n",
    "monthly_counts.plot(kind='bar')\n",
    "plt.title('Monthly Ticket Counts')\n",
    "plt.show()"
   ]
  },
  {
   "cell_type": "markdown",
   "id": "17aa93a1",
   "metadata": {},
   "source": [
    "Calculate and plot the frequency of each violation code."
   ]
  },
  {
   "cell_type": "code",
   "execution_count": null,
   "id": "b55d1902",
   "metadata": {},
   "outputs": [],
   "source": [
    "violation_counts = df['Violation Code'].value_counts()\n",
    "violation_counts.plot(kind='bar')\n",
    "plt.title('Violation Code Counts')\n",
    "plt.show()"
   ]
  },
  {
   "cell_type": "markdown",
   "id": "ab956138",
   "metadata": {},
   "source": [
    "Count and visualize the number of tickets by vehicle body type."
   ]
  },
  {
   "cell_type": "code",
   "execution_count": null,
   "id": "ed0ad60b",
   "metadata": {},
   "outputs": [],
   "source": [
    "body_type_counts = df['Body Type'].value_counts()\n",
    "body_type_counts.plot(kind='bar')\n",
    "plt.title('Body Type Ticket Counts')\n",
    "plt.show()"
   ]
  },
  {
   "cell_type": "markdown",
   "id": "670efb65",
   "metadata": {},
   "source": [
    "Count and visualize the number of tickets by vehicle make."
   ]
  },
  {
   "cell_type": "code",
   "execution_count": null,
   "id": "4c739790",
   "metadata": {},
   "outputs": [],
   "source": [
    "make_counts = df['Vehicle Make'].value_counts()\n",
    "make_counts.plot(kind='bar')\n",
    "plt.title('Vehicle Make Counts')\n",
    "plt.show()"
   ]
  },
  {
   "cell_type": "markdown",
   "id": "b93dcf36",
   "metadata": {},
   "source": [
    "Extract the hour from the date and visualize ticket counts by time of day."
   ]
  },
  {
   "cell_type": "code",
   "execution_count": null,
   "id": "2f23467c",
   "metadata": {},
   "outputs": [],
   "source": [
    "df['Time of Day'] = df['Date'].dt.hour\n",
    "time_counts = df['Time of Day'].value_counts()\n",
    "time_counts.plot(kind='bar')\n",
    "plt.title('Time of Day Ticket Counts')\n",
    "plt.show()"
   ]
  },
  {
   "cell_type": "markdown",
   "id": "58d915a5",
   "metadata": {},
   "source": [
    "Count and visualize the number of tickets issued per county."
   ]
  },
  {
   "cell_type": "code",
   "execution_count": null,
   "id": "5aa4db3f",
   "metadata": {},
   "outputs": [],
   "source": [
    "county_counts = df['County'].value_counts()\n",
    "county_counts.plot(kind='bar')\n",
    "plt.title('County Ticket Counts')\n",
    "plt.show()"
   ]
  }
 ],
 "metadata": {
  "kernelspec": {
   "display_name": "Python 3",
   "language": "python",
   "name": "python3"
  },
  "language_info": {
   "codemirror_mode": {
    "name": "ipython",
    "version": 3
   },
   "file_extension": ".py",
   "mimetype": "text/x-python",
   "name": "python",
   "nbconvert_exporter": "python",
   "pygments_lexer": "ipython3",
   "version": "3.8.5"
  }
 },
 "nbformat": 4,
 "nbformat_minor": 5
}
