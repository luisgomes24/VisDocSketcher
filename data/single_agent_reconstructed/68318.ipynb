{
 "cells": [
  {
   "cell_type": "markdown",
   "id": "f7c4a4d5",
   "metadata": {},
   "source": [
    "Load data from a CSV file into a Pandas DataFrame."
   ]
  },
  {
   "cell_type": "code",
   "execution_count": null,
   "id": "93a6c352",
   "metadata": {},
   "outputs": [],
   "source": [
    "import pandas as pd\n",
    "\n",
    "data = pd.read_csv('data.csv')"
   ]
  },
  {
   "cell_type": "markdown",
   "id": "120b599a",
   "metadata": {},
   "source": [
    "Get an overview of the dataset, including data types and non-null counts."
   ]
  },
  {
   "cell_type": "code",
   "execution_count": null,
   "id": "50bc3a41",
   "metadata": {},
   "outputs": [],
   "source": [
    "data.info()"
   ]
  },
  {
   "cell_type": "markdown",
   "id": "a601f744",
   "metadata": {},
   "source": [
    "Visualize the distribution of school majors using a bar chart."
   ]
  },
  {
   "cell_type": "code",
   "execution_count": null,
   "id": "d33b6987",
   "metadata": {},
   "outputs": [],
   "source": [
    "data['School Major'].value_counts().plot(kind='bar')"
   ]
  },
  {
   "cell_type": "markdown",
   "id": "ce52f1be",
   "metadata": {},
   "source": [
    "Visualize the distribution of school degrees using a bar chart."
   ]
  },
  {
   "cell_type": "code",
   "execution_count": null,
   "id": "d346b98d",
   "metadata": {},
   "outputs": [],
   "source": [
    "data['School Degree'].value_counts().plot(kind='bar')"
   ]
  },
  {
   "cell_type": "markdown",
   "id": "b7a3a4c2",
   "metadata": {},
   "source": [
    "Plot a histogram to show the distribution of salaries after bootcamp."
   ]
  },
  {
   "cell_type": "code",
   "execution_count": null,
   "id": "a9ca7b16",
   "metadata": {},
   "outputs": [],
   "source": [
    "data['Salary After Bootcamp'].hist(bins=20)"
   ]
  },
  {
   "cell_type": "markdown",
   "id": "ee9c1c0c",
   "metadata": {},
   "source": [
    "Visualize the age distribution with a histogram."
   ]
  },
  {
   "cell_type": "code",
   "execution_count": null,
   "id": "a5bc9fea",
   "metadata": {},
   "outputs": [],
   "source": [
    "data['Age'].hist(bins=20)"
   ]
  },
  {
   "cell_type": "markdown",
   "id": "ab96f6f1",
   "metadata": {},
   "source": [
    "Create a scatter plot to observe the relationship between age and salary."
   ]
  },
  {
   "cell_type": "code",
   "execution_count": null,
   "id": "711deee4",
   "metadata": {},
   "outputs": [],
   "source": [
    "import matplotlib.pyplot as plt\n",
    "\n",
    "plt.scatter(data['Age'], data['Salary After Bootcamp'])"
   ]
  },
  {
   "cell_type": "markdown",
   "id": "33663b08",
   "metadata": {},
   "source": [
    "Enhance the scatter plot using Seaborn for better visualization."
   ]
  },
  {
   "cell_type": "code",
   "execution_count": null,
   "id": "1268346a",
   "metadata": {},
   "outputs": [],
   "source": [
    "import seaborn as sns\n",
    "\n",
    "sns.scatterplot(x='Age', y='Salary After Bootcamp', data=data).set_title('Age vs Salary')"
   ]
  }
 ],
 "metadata": {
  "kernelspec": {
   "display_name": "Python 3",
   "language": "python",
   "name": "python3"
  },
  "language_info": {
   "codemirror_mode": {
    "name": "ipython",
    "version": 3
   },
   "file_extension": ".py",
   "mimetype": "text/x-python",
   "name": "python",
   "nbconvert_exporter": "python",
   "pygments_lexer": "ipython3",
   "version": "3.8.5"
  }
 },
 "nbformat": 4,
 "nbformat_minor": 5
}
