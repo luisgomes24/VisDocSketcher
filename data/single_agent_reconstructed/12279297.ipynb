{
 "cells": [
  {
   "cell_type": "markdown",
   "id": "1b250ac8",
   "metadata": {},
   "source": [
    "Load the crime data from a CSV file."
   ]
  },
  {
   "cell_type": "code",
   "execution_count": null,
   "id": "87e308d2",
   "metadata": {},
   "outputs": [],
   "source": [
    "import pandas as pd\n",
    "crime_data = pd.read_csv('crime_data.csv')"
   ]
  },
  {
   "cell_type": "markdown",
   "id": "de03c633",
   "metadata": {},
   "source": [
    "Check for missing values in the dataset."
   ]
  },
  {
   "cell_type": "code",
   "execution_count": null,
   "id": "579bbbbb",
   "metadata": {},
   "outputs": [],
   "source": [
    "missing_values = crime_data.isnull().sum()"
   ]
  },
  {
   "cell_type": "markdown",
   "id": "ccca22e9",
   "metadata": {},
   "source": [
    "Generate a summary of the data for numerical features."
   ]
  },
  {
   "cell_type": "code",
   "execution_count": null,
   "id": "f3c88c31",
   "metadata": {},
   "outputs": [],
   "source": [
    "data_summary = crime_data.describe()"
   ]
  },
  {
   "cell_type": "markdown",
   "id": "f5858ec5",
   "metadata": {},
   "source": [
    "Display histograms for the distribution of cases."
   ]
  },
  {
   "cell_type": "code",
   "execution_count": null,
   "id": "e1c0aaba",
   "metadata": {},
   "outputs": [],
   "source": [
    "import matplotlib.pyplot as plt\n",
    "crime_data.hist()\n",
    "plt.show()"
   ]
  },
  {
   "cell_type": "markdown",
   "id": "64fb6863",
   "metadata": {},
   "source": [
    "Analyze the distribution of age groups."
   ]
  },
  {
   "cell_type": "code",
   "execution_count": null,
   "id": "aa8479e1",
   "metadata": {},
   "outputs": [],
   "source": [
    "age_group_analysis = crime_data['Age Group'].value_counts()"
   ]
  },
  {
   "cell_type": "markdown",
   "id": "64be0e52",
   "metadata": {},
   "source": [
    "Create a pie chart for age distribution."
   ]
  },
  {
   "cell_type": "code",
   "execution_count": null,
   "id": "af164e4a",
   "metadata": {},
   "outputs": [],
   "source": [
    "age_group_analysis.plot(kind='pie')\n",
    "plt.title('Age Distribution')\n",
    "plt.show()"
   ]
  },
  {
   "cell_type": "markdown",
   "id": "c1617b9b",
   "metadata": {},
   "source": [
    "Aggregate yearly rape cases."
   ]
  },
  {
   "cell_type": "code",
   "execution_count": null,
   "id": "98e309ef",
   "metadata": {},
   "outputs": [],
   "source": [
    "yearly_rape_cases = crime_data[crime_data['Crime Type'] == 'Rape'].groupby('Year').size()"
   ]
  },
  {
   "cell_type": "markdown",
   "id": "6710d9bf",
   "metadata": {},
   "source": [
    "Display a bar plot for yearly rape cases."
   ]
  },
  {
   "cell_type": "code",
   "execution_count": null,
   "id": "e333a946",
   "metadata": {},
   "outputs": [],
   "source": [
    "yearly_rape_cases.plot(kind='bar')\n",
    "plt.title('Yearly Rape Cases')\n",
    "plt.show()"
   ]
  },
  {
   "cell_type": "markdown",
   "id": "1d53787f",
   "metadata": {},
   "source": [
    "Filter victims of incest rape."
   ]
  },
  {
   "cell_type": "code",
   "execution_count": null,
   "id": "292b60fe",
   "metadata": {},
   "outputs": [],
   "source": [
    "filtered_incest_rape = crime_data[crime_data['Crime Type'] == 'Incest Rape']"
   ]
  },
  {
   "cell_type": "markdown",
   "id": "bc8722b4",
   "metadata": {},
   "source": [
    "Filter victims of other types of rape."
   ]
  },
  {
   "cell_type": "code",
   "execution_count": null,
   "id": "c1dd2966",
   "metadata": {},
   "outputs": [],
   "source": [
    "filtered_other_rape = crime_data[crime_data['Crime Type'] == 'Other Rape']"
   ]
  },
  {
   "cell_type": "markdown",
   "id": "ea3068e4",
   "metadata": {},
   "source": [
    "Analyze actions related to stolen automobiles."
   ]
  },
  {
   "cell_type": "code",
   "execution_count": null,
   "id": "3ad59703",
   "metadata": {},
   "outputs": [],
   "source": [
    "stolen_automobiles = crime_data[crime_data['Crime Type'] == 'Auto Theft']"
   ]
  },
  {
   "cell_type": "markdown",
   "id": "7f8170d4",
   "metadata": {},
   "source": [
    "Load the auto theft data from a CSV file."
   ]
  },
  {
   "cell_type": "code",
   "execution_count": null,
   "id": "765afdec",
   "metadata": {},
   "outputs": [],
   "source": [
    "auto_theft_data = pd.read_csv('auto_theft_data.csv')"
   ]
  },
  {
   "cell_type": "markdown",
   "id": "f88e2895",
   "metadata": {},
   "source": [
    "Check for missing values in the auto theft data."
   ]
  },
  {
   "cell_type": "code",
   "execution_count": null,
   "id": "8dfb4126",
   "metadata": {},
   "outputs": [],
   "source": [
    "missing_auto_values = auto_theft_data.isnull().sum()"
   ]
  },
  {
   "cell_type": "markdown",
   "id": "e155c2cc",
   "metadata": {},
   "source": [
    "Display histograms for auto theft data."
   ]
  },
  {
   "cell_type": "code",
   "execution_count": null,
   "id": "25238d9c",
   "metadata": {},
   "outputs": [],
   "source": [
    "auto_theft_data.hist()\n",
    "plt.show()"
   ]
  },
  {
   "cell_type": "markdown",
   "id": "9bfc70c9",
   "metadata": {},
   "source": [
    "Analyze actions related to auto theft."
   ]
  },
  {
   "cell_type": "code",
   "execution_count": null,
   "id": "1636d637",
   "metadata": {},
   "outputs": [],
   "source": [
    "auto_theft_actions = auto_theft_data['Action'].value_counts()"
   ]
  },
  {
   "cell_type": "markdown",
   "id": "5f9c9660",
   "metadata": {},
   "source": [
    "Display a bar plot for auto theft actions."
   ]
  },
  {
   "cell_type": "code",
   "execution_count": null,
   "id": "9e9064ed",
   "metadata": {},
   "outputs": [],
   "source": [
    "auto_theft_actions.plot(kind='bar')\n",
    "plt.title('Auto Theft Actions')\n",
    "plt.show()"
   ]
  },
  {
   "cell_type": "markdown",
   "id": "dd0f1dbb",
   "metadata": {},
   "source": [
    "Aggregate yearly stolen cars."
   ]
  },
  {
   "cell_type": "code",
   "execution_count": null,
   "id": "00533dcb",
   "metadata": {},
   "outputs": [],
   "source": [
    "yearly_stolen_cars = auto_theft_data.groupby('Year').size()"
   ]
  },
  {
   "cell_type": "markdown",
   "id": "f3d1660e",
   "metadata": {},
   "source": [
    "Display a bar plot for yearly stolen cars."
   ]
  },
  {
   "cell_type": "code",
   "execution_count": null,
   "id": "8b1a57c7",
   "metadata": {},
   "outputs": [],
   "source": [
    "yearly_stolen_cars.plot(kind='bar')\n",
    "plt.title('Yearly Stolen Cars')\n",
    "plt.show()"
   ]
  },
  {
   "cell_type": "markdown",
   "id": "49a94fc8",
   "metadata": {},
   "source": [
    "Aggregate yearly traced cars."
   ]
  },
  {
   "cell_type": "code",
   "execution_count": null,
   "id": "72b6dea7",
   "metadata": {},
   "outputs": [],
   "source": [
    "yearly_traced_cars = auto_theft_data[auto_theft_data['Action'] == 'Traced'].groupby('Year').size()"
   ]
  },
  {
   "cell_type": "markdown",
   "id": "eef55f6b",
   "metadata": {},
   "source": [
    "Display a bar plot for yearly traced cars."
   ]
  },
  {
   "cell_type": "code",
   "execution_count": null,
   "id": "82642df8",
   "metadata": {},
   "outputs": [],
   "source": [
    "yearly_traced_cars.plot(kind='bar')\n",
    "plt.title('Yearly Traced Cars')\n",
    "plt.show()"
   ]
  },
  {
   "cell_type": "markdown",
   "id": "0f8c055a",
   "metadata": {},
   "source": [
    "Aggregate yearly recovered cars."
   ]
  },
  {
   "cell_type": "code",
   "execution_count": null,
   "id": "1dc5cde3",
   "metadata": {},
   "outputs": [],
   "source": [
    "yearly_recovered_cars = auto_theft_data[auto_theft_data['Action'] == 'Recovered'].groupby('Year').size()"
   ]
  },
  {
   "cell_type": "markdown",
   "id": "e60a8423",
   "metadata": {},
   "source": [
    "Display a bar plot for yearly recovered cars."
   ]
  },
  {
   "cell_type": "code",
   "execution_count": null,
   "id": "f439008f",
   "metadata": {},
   "outputs": [],
   "source": [
    "yearly_recovered_cars.plot(kind='bar')\n",
    "plt.title('Yearly Recovered Cars')\n",
    "plt.show()"
   ]
  }
 ],
 "metadata": {
  "kernelspec": {
   "display_name": "Python 3",
   "language": "python",
   "name": "python3"
  },
  "language_info": {
   "codemirror_mode": {
    "name": "ipython",
    "version": 3
   },
   "file_extension": ".py",
   "mimetype": "text/x-python",
   "name": "python",
   "nbconvert_exporter": "python",
   "pygments_lexer": "ipython3",
   "version": "3.8.5"
  }
 },
 "nbformat": 4,
 "nbformat_minor": 5
}
