{
 "cells": [
  {
   "cell_type": "markdown",
   "id": "17dd3613",
   "metadata": {},
   "source": [
    "Load training and testing data from CSV files."
   ]
  },
  {
   "cell_type": "code",
   "execution_count": null,
   "id": "e7c93340",
   "metadata": {},
   "outputs": [],
   "source": [
    "import pandas as pd\n",
    "test_data = pd.read_csv('test_data.csv')\n",
    "train_data = pd.read_csv('train_data.csv')"
   ]
  },
  {
   "cell_type": "markdown",
   "id": "deaeb651",
   "metadata": {},
   "source": [
    "Preprocess data by dropping NaN values and selecting numeric types."
   ]
  },
  {
   "cell_type": "code",
   "execution_count": null,
   "id": "e6ea388c",
   "metadata": {},
   "outputs": [],
   "source": [
    "train_data = train_data.dropna()\n",
    "train_data = train_data.select_dtypes(include=['float64', 'int64'])"
   ]
  },
  {
   "cell_type": "markdown",
   "id": "121ee8a8",
   "metadata": {},
   "source": [
    "Visualize the first few rows of the training data."
   ]
  },
  {
   "cell_type": "code",
   "execution_count": null,
   "id": "5e044e5f",
   "metadata": {},
   "outputs": [],
   "source": [
    "print(train_data.head())"
   ]
  },
  {
   "cell_type": "markdown",
   "id": "3409899b",
   "metadata": {},
   "source": [
    "Build a Random Forest model for regression."
   ]
  },
  {
   "cell_type": "code",
   "execution_count": null,
   "id": "b68fff58",
   "metadata": {},
   "outputs": [],
   "source": [
    "from sklearn.ensemble import RandomForestRegressor\n",
    "model = RandomForestRegressor()"
   ]
  },
  {
   "cell_type": "markdown",
   "id": "0b88c6b2",
   "metadata": {},
   "source": [
    "Cross-validate the model using 5-fold CV to evaluate performance."
   ]
  },
  {
   "cell_type": "code",
   "execution_count": null,
   "id": "0f5a7e04",
   "metadata": {},
   "outputs": [],
   "source": [
    "from sklearn.model_selection import cross_val_score\n",
    "scores = cross_val_score(model, train_data.drop('target', axis=1), train_data['target'], cv=5)"
   ]
  },
  {
   "cell_type": "markdown",
   "id": "96536a07",
   "metadata": {},
   "source": [
    "Define a function to compute the model score."
   ]
  },
  {
   "cell_type": "code",
   "execution_count": null,
   "id": "d1639bf8",
   "metadata": {},
   "outputs": [],
   "source": [
    "def get_score(model, data):\n",
    "    return model.score(data.drop('target', axis=1), data['target'])"
   ]
  },
  {
   "cell_type": "markdown",
   "id": "935cc2f1",
   "metadata": {},
   "source": [
    "Test different parameters and store results in a dictionary."
   ]
  },
  {
   "cell_type": "code",
   "execution_count": null,
   "id": "31049704",
   "metadata": {},
   "outputs": [],
   "source": [
    "results = {'n_estimators': [], 'score': []}\n",
    "for n in range(10, 101, 10):\n",
    "    model = RandomForestRegressor(n_estimators=n)\n",
    "    results['n_estimators'].append(n)\n",
    "    results['score'].append(get_score(model, train_data))"
   ]
  },
  {
   "cell_type": "markdown",
   "id": "12df229a",
   "metadata": {},
   "source": [
    "Plot the results to visualize the model score against n_estimators."
   ]
  },
  {
   "cell_type": "code",
   "execution_count": null,
   "id": "bf2b0a04",
   "metadata": {},
   "outputs": [],
   "source": [
    "import matplotlib.pyplot as plt\n",
    "plt.plot(results['n_estimators'], results['score'])\n",
    "plt.title('Model Score vs. n_estimators')\n",
    "plt.xlabel('n_estimators')\n",
    "plt.ylabel('Score')\n",
    "plt.show()"
   ]
  },
  {
   "cell_type": "markdown",
   "id": "cc8b1391",
   "metadata": {},
   "source": [
    "Optimize parameters to find the best n_estimators based on score."
   ]
  },
  {
   "cell_type": "code",
   "execution_count": null,
   "id": "4ac1e1cd",
   "metadata": {},
   "outputs": [],
   "source": [
    "n_estimators_best = results['n_estimators'][results['score'].index(max(results['score']))]"
   ]
  }
 ],
 "metadata": {
  "kernelspec": {
   "display_name": "Python 3",
   "language": "python",
   "name": "python3"
  },
  "language_info": {
   "codemirror_mode": {
    "name": "ipython",
    "version": 3
   },
   "file_extension": ".py",
   "mimetype": "text/x-python",
   "name": "python",
   "nbconvert_exporter": "python",
   "pygments_lexer": "ipython3",
   "version": "3.8.5"
  }
 },
 "nbformat": 4,
 "nbformat_minor": 5
}
