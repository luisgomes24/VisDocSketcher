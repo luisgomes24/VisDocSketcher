{
 "cells": [
  {
   "cell_type": "markdown",
   "id": "e81fe5f9",
   "metadata": {},
   "source": [
    "Load the first dataset from a CSV file."
   ]
  },
  {
   "cell_type": "code",
   "execution_count": null,
   "id": "ef39b33f",
   "metadata": {},
   "outputs": [],
   "source": [
    "import pandas as pd\n",
    "\n",
    "dataset1 = pd.read_csv('dataset1.csv')"
   ]
  },
  {
   "cell_type": "markdown",
   "id": "a2c9f17f",
   "metadata": {},
   "source": [
    "Preview the first few rows of the loaded dataset."
   ]
  },
  {
   "cell_type": "code",
   "execution_count": null,
   "id": "0cc2b0be",
   "metadata": {},
   "outputs": [],
   "source": [
    "print(dataset1.head())"
   ]
  },
  {
   "cell_type": "markdown",
   "id": "4c899132",
   "metadata": {},
   "source": [
    "Create distribution graphs for a specified column in the dataset."
   ]
  },
  {
   "cell_type": "code",
   "execution_count": null,
   "id": "dd40ca5b",
   "metadata": {},
   "outputs": [],
   "source": [
    "import seaborn as sns\n",
    "import matplotlib.pyplot as plt\n",
    "sns.histplot(dataset1['column_name'])\n",
    "plt.show()"
   ]
  },
  {
   "cell_type": "markdown",
   "id": "d2b8ea23",
   "metadata": {},
   "source": [
    "Load the next dataset from a different CSV file."
   ]
  },
  {
   "cell_type": "code",
   "execution_count": null,
   "id": "b15a7709",
   "metadata": {},
   "outputs": [],
   "source": [
    "import pandas as pd\n",
    "dataset2 = pd.read_csv('dataset2.csv')"
   ]
  },
  {
   "cell_type": "markdown",
   "id": "06dc7e0c",
   "metadata": {},
   "source": [
    "Preview the first few rows of the second dataset."
   ]
  },
  {
   "cell_type": "code",
   "execution_count": null,
   "id": "62b710e0",
   "metadata": {},
   "outputs": [],
   "source": [
    "print(dataset2.head())"
   ]
  },
  {
   "cell_type": "markdown",
   "id": "f61ddbbf",
   "metadata": {},
   "source": [
    "Create distribution graphs for a specified column in the second dataset."
   ]
  },
  {
   "cell_type": "code",
   "execution_count": null,
   "id": "4157fce4",
   "metadata": {},
   "outputs": [],
   "source": [
    "sns.histplot(dataset2['column_name'])\n",
    "plt.show()"
   ]
  },
  {
   "cell_type": "markdown",
   "id": "3b7a06d4",
   "metadata": {},
   "source": [
    "Plot the distribution of columns from both datasets on the same graph."
   ]
  },
  {
   "cell_type": "code",
   "execution_count": null,
   "id": "b7e862a6",
   "metadata": {},
   "outputs": [],
   "source": [
    "plt.figure(figsize=(10, 6))\n",
    "sns.histplot(dataset1['column_name'], color='blue', label='Dataset 1', alpha=0.5)\n",
    "sns.histplot(dataset2['column_name'], color='orange', label='Dataset 2', alpha=0.5)\n",
    "plt.legend()\n",
    "plt.title('Plot Distribution of Columns')\n",
    "plt.show()"
   ]
  }
 ],
 "metadata": {
  "kernelspec": {
   "display_name": "Python 3",
   "language": "python",
   "name": "python3"
  },
  "language_info": {
   "codemirror_mode": {
    "name": "ipython",
    "version": 3
   },
   "file_extension": ".py",
   "mimetype": "text/x-python",
   "name": "python",
   "nbconvert_exporter": "python",
   "pygments_lexer": "ipython3",
   "version": "3.8.5"
  }
 },
 "nbformat": 4,
 "nbformat_minor": 5
}
