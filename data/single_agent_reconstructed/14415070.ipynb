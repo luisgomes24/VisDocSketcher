{
 "cells": [
  {
   "cell_type": "markdown",
   "id": "5d3c8e26",
   "metadata": {},
   "source": [
    "Load the dataset containing book sales information."
   ]
  },
  {
   "cell_type": "code",
   "execution_count": null,
   "id": "96a78b7b",
   "metadata": {},
   "outputs": [],
   "source": [
    "import pandas as pd\n",
    "\n",
    "data = pd.read_csv('books_data.csv')"
   ]
  },
  {
   "cell_type": "markdown",
   "id": "0d685b64",
   "metadata": {},
   "source": [
    "Extract unique book names for preprocessing."
   ]
  },
  {
   "cell_type": "code",
   "execution_count": null,
   "id": "f2c97bf3",
   "metadata": {},
   "outputs": [],
   "source": [
    "book_names = data['Book Name'].unique()"
   ]
  },
  {
   "cell_type": "markdown",
   "id": "8a8a2274",
   "metadata": {},
   "source": [
    "Identify the top 10 selling books based on total sales."
   ]
  },
  {
   "cell_type": "code",
   "execution_count": null,
   "id": "bf3b9d0f",
   "metadata": {},
   "outputs": [],
   "source": [
    "top_selling = data.groupby('Book Name')['Sales'].sum().nlargest(10)"
   ]
  },
  {
   "cell_type": "markdown",
   "id": "afa3c5b0",
   "metadata": {},
   "source": [
    "Identify the least selling books based on total sales."
   ]
  },
  {
   "cell_type": "code",
   "execution_count": null,
   "id": "46a5edc2",
   "metadata": {},
   "outputs": [],
   "source": [
    "least_selling = data.groupby('Book Name')['Sales'].sum().nsmallest(10)"
   ]
  },
  {
   "cell_type": "markdown",
   "id": "bf0ae76d",
   "metadata": {},
   "source": [
    "Visualize the top selling books using a bar chart."
   ]
  },
  {
   "cell_type": "code",
   "execution_count": null,
   "id": "f8cd7d40",
   "metadata": {},
   "outputs": [],
   "source": [
    "import matplotlib.pyplot as plt\n",
    "\n",
    "plt.bar(top_selling.index, top_selling.values)\n",
    "plt.title('Top Selling Books')\n",
    "plt.show()"
   ]
  },
  {
   "cell_type": "markdown",
   "id": "4761ba5c",
   "metadata": {},
   "source": [
    "Visualize the status of orders in a count plot."
   ]
  },
  {
   "cell_type": "code",
   "execution_count": null,
   "id": "539c5408",
   "metadata": {},
   "outputs": [],
   "source": [
    "import seaborn as sns\n",
    "\n",
    "sns.countplot(data='Order Status')\n",
    "plt.title('Visualizing Order Status')\n",
    "plt.show()"
   ]
  },
  {
   "cell_type": "markdown",
   "id": "5bb84ebc",
   "metadata": {},
   "source": [
    "Filter orders that have been returned for further analysis."
   ]
  },
  {
   "cell_type": "code",
   "execution_count": null,
   "id": "05870be7",
   "metadata": {},
   "outputs": [],
   "source": [
    "returned_orders = data[data['Status'] == 'Returned']"
   ]
  },
  {
   "cell_type": "markdown",
   "id": "a2d1ca45",
   "metadata": {},
   "source": [
    "Calculate the frequency of returned orders by day."
   ]
  },
  {
   "cell_type": "code",
   "execution_count": null,
   "id": "9c15e375",
   "metadata": {},
   "outputs": [],
   "source": [
    "order_frequency = returned_orders['Order Date'].value_counts().sort_index()"
   ]
  },
  {
   "cell_type": "markdown",
   "id": "caae7965",
   "metadata": {},
   "source": [
    "Visualize the frequency of returned orders by day."
   ]
  },
  {
   "cell_type": "code",
   "execution_count": null,
   "id": "d9f27612",
   "metadata": {},
   "outputs": [],
   "source": [
    "plt.plot(order_frequency.index, order_frequency.values)\n",
    "plt.title('Order Frequency by Day')\n",
    "plt.show()"
   ]
  },
  {
   "cell_type": "markdown",
   "id": "99950a30",
   "metadata": {},
   "source": [
    "Compile key findings from the analysis into a summary."
   ]
  },
  {
   "cell_type": "code",
   "execution_count": null,
   "id": "6ea249b5",
   "metadata": {},
   "outputs": [],
   "source": [
    "findings = {'Top Selling Books': top_selling, 'Least Selling Books': least_selling, 'Returned Orders': order_frequency}"
   ]
  }
 ],
 "metadata": {
  "kernelspec": {
   "display_name": "Python 3",
   "language": "python",
   "name": "python3"
  },
  "language_info": {
   "codemirror_mode": {
    "name": "ipython",
    "version": 3
   },
   "file_extension": ".py",
   "mimetype": "text/x-python",
   "name": "python",
   "nbconvert_exporter": "python",
   "pygments_lexer": "ipython3",
   "version": "3.8.5"
  }
 },
 "nbformat": 4,
 "nbformat_minor": 5
}
