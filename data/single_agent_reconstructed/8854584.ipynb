{
 "cells": [
  {
   "cell_type": "markdown",
   "id": "50223c21",
   "metadata": {},
   "source": [
    "Load the dataset from a CSV file into a DataFrame."
   ]
  },
  {
   "cell_type": "code",
   "execution_count": null,
   "id": "054e689f",
   "metadata": {},
   "outputs": [],
   "source": [
    "import pandas as pd\n",
    "\n",
    "df = pd.read_csv('data.csv')"
   ]
  },
  {
   "cell_type": "markdown",
   "id": "7732a80f",
   "metadata": {},
   "source": [
    "Display the first few rows of the DataFrame to check its structure."
   ]
  },
  {
   "cell_type": "code",
   "execution_count": null,
   "id": "c5db3358",
   "metadata": {},
   "outputs": [],
   "source": [
    "df.head()"
   ]
  },
  {
   "cell_type": "markdown",
   "id": "c7c88889",
   "metadata": {},
   "source": [
    "Create a single line plot to visualize data over time."
   ]
  },
  {
   "cell_type": "code",
   "execution_count": null,
   "id": "0f925c1a",
   "metadata": {},
   "outputs": [],
   "source": [
    "import matplotlib.pyplot as plt\n",
    "\n",
    "plt.plot(df['Time'], df['Value'])\n",
    "plt.title('Single Line Plot')\n",
    "plt.show()"
   ]
  },
  {
   "cell_type": "markdown",
   "id": "6b003fd9",
   "metadata": {},
   "source": [
    "Create multiple line plots to compare different data series over time."
   ]
  },
  {
   "cell_type": "code",
   "execution_count": null,
   "id": "bb664838",
   "metadata": {},
   "outputs": [],
   "source": [
    "plt.plot(df['Time'], df['Value1'], label='Value 1')\n",
    "plt.plot(df['Time'], df['Value2'], label='Value 2')\n",
    "plt.title('Multiple Line Plot')\n",
    "plt.legend()\n",
    "plt.show()"
   ]
  },
  {
   "cell_type": "markdown",
   "id": "ffd95129",
   "metadata": {},
   "source": [
    "Create a scatter plot to visualize the relationship between two variables."
   ]
  },
  {
   "cell_type": "code",
   "execution_count": null,
   "id": "363f1dfb",
   "metadata": {},
   "outputs": [],
   "source": [
    "plt.scatter(df['x_axis'], df['y_axis'])\n",
    "plt.title('Scatter Plot')\n",
    "plt.xlabel('X Axis')\n",
    "plt.ylabel('Y Axis')\n",
    "plt.show()"
   ]
  },
  {
   "cell_type": "markdown",
   "id": "ec6944fa",
   "metadata": {},
   "source": [
    "Create a scatter plot with custom colors for better visual distinction."
   ]
  },
  {
   "cell_type": "code",
   "execution_count": null,
   "id": "8a86051b",
   "metadata": {},
   "outputs": [],
   "source": [
    "plt.scatter(df['x_axis'], df['y_axis'], c='red')\n",
    "plt.title('Scatter Plot with Custom Colors')\n",
    "plt.xlabel('X Axis')\n",
    "plt.ylabel('Y Axis')\n",
    "plt.show()"
   ]
  },
  {
   "cell_type": "markdown",
   "id": "79c67d3a",
   "metadata": {},
   "source": [
    "Create a single bar plot to visualize counts of categories."
   ]
  },
  {
   "cell_type": "code",
   "execution_count": null,
   "id": "43d5bfd8",
   "metadata": {},
   "outputs": [],
   "source": [
    "df['Category'].value_counts().plot(kind='bar')\n",
    "plt.title('Bar Plot - Single')\n",
    "plt.ylabel('Count')\n",
    "plt.show()"
   ]
  },
  {
   "cell_type": "markdown",
   "id": "8004f741",
   "metadata": {},
   "source": [
    "Create a grouped bar plot to compare average values across multiple groups."
   ]
  },
  {
   "cell_type": "code",
   "execution_count": null,
   "id": "4fc6ef6d",
   "metadata": {},
   "outputs": [],
   "source": [
    "df.groupby('Group')['Value'].mean().unstack().plot(kind='bar')\n",
    "plt.title('Bar Plot - Grouped')\n",
    "plt.ylabel('Average Value')\n",
    "plt.show()"
   ]
  }
 ],
 "metadata": {
  "kernelspec": {
   "display_name": "Python 3",
   "language": "python",
   "name": "python3"
  },
  "language_info": {
   "codemirror_mode": {
    "name": "ipython",
    "version": 3
   },
   "file_extension": ".py",
   "mimetype": "text/x-python",
   "name": "python",
   "nbconvert_exporter": "python",
   "pygments_lexer": "ipython3",
   "version": "3.8.5"
  }
 },
 "nbformat": 4,
 "nbformat_minor": 5
}
