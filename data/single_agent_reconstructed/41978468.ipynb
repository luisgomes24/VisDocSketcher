{
 "cells": [
  {
   "cell_type": "markdown",
   "id": "22e4f42c",
   "metadata": {},
   "source": [
    "Load data from a CSV file into a DataFrame using pandas."
   ]
  },
  {
   "cell_type": "code",
   "execution_count": null,
   "id": "8bd3a459",
   "metadata": {},
   "outputs": [],
   "source": [
    "import pandas as pd\n",
    "data = pd.read_csv('data.csv')"
   ]
  },
  {
   "cell_type": "markdown",
   "id": "6099abbf",
   "metadata": {},
   "source": [
    "Preview the first few rows of the dataset."
   ]
  },
  {
   "cell_type": "code",
   "execution_count": null,
   "id": "155b26b1",
   "metadata": {},
   "outputs": [],
   "source": [
    "print(data.head())"
   ]
  },
  {
   "cell_type": "markdown",
   "id": "88f7ec63",
   "metadata": {},
   "source": [
    "Visualize the gender distribution as a bar chart."
   ]
  },
  {
   "cell_type": "code",
   "execution_count": null,
   "id": "a6042ee2",
   "metadata": {},
   "outputs": [],
   "source": [
    "import matplotlib.pyplot as plt\n",
    "\n",
    "data['Gender'].value_counts().plot(kind='bar')\n",
    "plt.title('Gender Distribution')\n",
    "plt.xlabel('Gender')\n",
    "plt.ylabel('Counts')\n",
    "plt.show()"
   ]
  },
  {
   "cell_type": "markdown",
   "id": "ee179cf7",
   "metadata": {},
   "source": [
    "Display the proportional gender distribution as a percentage."
   ]
  },
  {
   "cell_type": "code",
   "execution_count": null,
   "id": "be138173",
   "metadata": {},
   "outputs": [],
   "source": [
    "gender_distribution = data['Gender'].value_counts(normalize=True) * 100\n",
    "gender_distribution.plot(kind='bar')\n",
    "plt.title('Proportional Gender Distribution')\n",
    "plt.xlabel('Gender')\n",
    "plt.ylabel('Percentage (%)')\n",
    "plt.show()"
   ]
  },
  {
   "cell_type": "markdown",
   "id": "402161a8",
   "metadata": {},
   "source": [
    "Summarize your findings and observations from the data analysis."
   ]
  },
  {
   "cell_type": "code",
   "execution_count": null,
   "id": "a3c7cade",
   "metadata": {},
   "outputs": [],
   "source": [
    "print('Insights and Observations:')"
   ]
  }
 ],
 "metadata": {
  "kernelspec": {
   "display_name": "Python 3",
   "language": "python",
   "name": "python3"
  },
  "language_info": {
   "codemirror_mode": {
    "name": "ipython",
    "version": 3
   },
   "file_extension": ".py",
   "mimetype": "text/x-python",
   "name": "python",
   "nbconvert_exporter": "python",
   "pygments_lexer": "ipython3",
   "version": "3.8.5"
  }
 },
 "nbformat": 4,
 "nbformat_minor": 5
}
