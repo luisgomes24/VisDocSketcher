{
 "cells": [
  {
   "cell_type": "markdown",
   "id": "71490e2c",
   "metadata": {},
   "source": [
    "Load the dataset from a CSV file using pandas."
   ]
  },
  {
   "cell_type": "code",
   "execution_count": null,
   "id": "b47c2e5e",
   "metadata": {},
   "outputs": [],
   "source": [
    "import pandas as pd\n",
    "\n",
    "# Load data\n",
    "file_path = 'data.csv'\n",
    "data = pd.read_csv(file_path)"
   ]
  },
  {
   "cell_type": "markdown",
   "id": "ffb9583b",
   "metadata": {},
   "source": [
    "Set up data augmentation to enhance training data with transformations."
   ]
  },
  {
   "cell_type": "code",
   "execution_count": null,
   "id": "dc2b09bb",
   "metadata": {},
   "outputs": [],
   "source": [
    "from keras.preprocessing.image import ImageDataGenerator\n",
    "\n",
    "datagen = ImageDataGenerator(rotation_range=40, width_shift_range=0.2, height_shift_range=0.2, shear_range=0.2, zoom_range=0.2, horizontal_flip=True, fill_mode='nearest')"
   ]
  },
  {
   "cell_type": "markdown",
   "id": "1bab6346",
   "metadata": {},
   "source": [
    "Split the data into training and validation sets."
   ]
  },
  {
   "cell_type": "code",
   "execution_count": null,
   "id": "bcee5146",
   "metadata": {},
   "outputs": [],
   "source": [
    "# Prepare data\n",
    "train_data, val_data = train_test_split(data, test_size=0.2)"
   ]
  },
  {
   "cell_type": "markdown",
   "id": "1effeed4",
   "metadata": {},
   "source": [
    "Create a bar chart to visualize samples in different categories."
   ]
  },
  {
   "cell_type": "code",
   "execution_count": null,
   "id": "d09e1058",
   "metadata": {},
   "outputs": [],
   "source": [
    "import matplotlib.pyplot as plt\n",
    "\n",
    "# Visualize samples\n",
    "plt.bar(data['Category'], data['Value'])\n",
    "plt.show()"
   ]
  },
  {
   "cell_type": "markdown",
   "id": "bfeac249",
   "metadata": {},
   "source": [
    "Use a pre-trained VGG16 model for transfer learning."
   ]
  },
  {
   "cell_type": "code",
   "execution_count": null,
   "id": "89017b02",
   "metadata": {},
   "outputs": [],
   "source": [
    "from keras.applications import VGG16\n",
    "\n",
    "# Transfer learning\n",
    "base_model = VGG16(weights='imagenet', include_top=False, input_shape=(224, 224, 3))"
   ]
  },
  {
   "cell_type": "markdown",
   "id": "7e3bf892",
   "metadata": {},
   "source": [
    "Construct a new model by adding layers on top of the base model."
   ]
  },
  {
   "cell_type": "code",
   "execution_count": null,
   "id": "699c704b",
   "metadata": {},
   "outputs": [],
   "source": [
    "from keras.models import Model\n",
    "from keras.layers import Dense, Flatten\n",
    "\n",
    "# Build the model\n",
    "x = Flatten()(base_model.output)\n",
    "y = Dense(1, activation='sigmoid')(x)\n",
    "model = Model(inputs=base_model.input, outputs=y)"
   ]
  },
  {
   "cell_type": "markdown",
   "id": "57f887ae",
   "metadata": {},
   "source": [
    "Compile and train the model using the training data."
   ]
  },
  {
   "cell_type": "code",
   "execution_count": null,
   "id": "df289c56",
   "metadata": {},
   "outputs": [],
   "source": [
    "model.compile(optimizer='adam', loss='binary_crossentropy', metrics=['accuracy'])\n",
    "\n",
    "# Train model\n",
    "model.fit(train_data, epochs=10, validation_data=val_data)"
   ]
  },
  {
   "cell_type": "markdown",
   "id": "e3c6474f",
   "metadata": {},
   "source": [
    "Plot learning curves to visualize the model's training performance."
   ]
  },
  {
   "cell_type": "code",
   "execution_count": null,
   "id": "4553cafe",
   "metadata": {},
   "outputs": [],
   "source": [
    "history = model.fit(train_data, epochs=10)\n",
    "\n",
    "# Learning curves\n",
    "plt.plot(history.history['accuracy'])\n",
    "plt.xlabel('Epochs')\n",
    "plt.ylabel('Accuracy')\n",
    "plt.show()"
   ]
  },
  {
   "cell_type": "markdown",
   "id": "f92085e1",
   "metadata": {},
   "source": [
    "Evaluate the model and visualize the confusion matrix using seaborn."
   ]
  },
  {
   "cell_type": "code",
   "execution_count": null,
   "id": "2adb379d",
   "metadata": {},
   "outputs": [],
   "source": [
    "from sklearn.metrics import confusion_matrix\n",
    "import seaborn as sns\n",
    "\n",
    "# Evaluate model\n",
    "y_pred = model.predict(val_data)\n",
    "cm = confusion_matrix(y_true, y_pred)\n",
    "sns.heatmap(cm, annot=True)"
   ]
  }
 ],
 "metadata": {
  "kernelspec": {
   "display_name": "Python 3",
   "language": "python",
   "name": "python3"
  },
  "language_info": {
   "codemirror_mode": {
    "name": "ipython",
    "version": 3
   },
   "file_extension": ".py",
   "mimetype": "text/x-python",
   "name": "python",
   "nbconvert_exporter": "python",
   "pygments_lexer": "ipython3",
   "version": "3.8.5"
  }
 },
 "nbformat": 4,
 "nbformat_minor": 5
}
