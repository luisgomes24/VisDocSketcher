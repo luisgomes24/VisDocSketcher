{
 "cells": [
  {
   "cell_type": "markdown",
   "id": "94131361",
   "metadata": {},
   "source": [
    "Load CSV data using pandas."
   ]
  },
  {
   "cell_type": "code",
   "execution_count": null,
   "id": "89555ed0",
   "metadata": {},
   "outputs": [],
   "source": [
    "import pandas as pd\n",
    "\n",
    "def load_data(file_path):\n",
    "    return pd.read_csv(file_path)"
   ]
  },
  {
   "cell_type": "markdown",
   "id": "2de93241",
   "metadata": {},
   "source": [
    "Explore data with summary statistics and info."
   ]
  },
  {
   "cell_type": "code",
   "execution_count": null,
   "id": "fb99f2d8",
   "metadata": {},
   "outputs": [],
   "source": [
    "def explore_data(df):\n",
    "    print(df.describe())\n",
    "    print(df.info())"
   ]
  },
  {
   "cell_type": "markdown",
   "id": "0a87b633",
   "metadata": {},
   "source": [
    "Plot histogram for specified column data."
   ]
  },
  {
   "cell_type": "code",
   "execution_count": null,
   "id": "ad5905da",
   "metadata": {},
   "outputs": [],
   "source": [
    "def plot_histogram(df, column):\n",
    "    df[column].hist()\n",
    "    plt.show()"
   ]
  },
  {
   "cell_type": "markdown",
   "id": "857bb1d1",
   "metadata": {},
   "source": [
    "Generate a correlation matrix heatmap."
   ]
  },
  {
   "cell_type": "code",
   "execution_count": null,
   "id": "7a9df57f",
   "metadata": {},
   "outputs": [],
   "source": [
    "def plot_correlation_matrix(df):\n",
    "    import seaborn as sns\n",
    "    import matplotlib.pyplot as plt\n",
    "    sns.heatmap(df.corr(), annot=True)\n",
    "    plt.show()"
   ]
  },
  {
   "cell_type": "markdown",
   "id": "2c348a26",
   "metadata": {},
   "source": [
    "Create scatter and density plots for given columns."
   ]
  },
  {
   "cell_type": "code",
   "execution_count": null,
   "id": "c027c983",
   "metadata": {},
   "outputs": [],
   "source": [
    "def plot_scatter_density(df, x_col, y_col):\n",
    "    import seaborn as sns\n",
    "    import matplotlib.pyplot as plt\n",
    "    sns.scatterplot(x=x_col, y=y_col, data=df)\n",
    "    sns.kdeplot(x=df[x_col], y=df[y_col])\n",
    "    plt.show()"
   ]
  },
  {
   "cell_type": "markdown",
   "id": "cd2a5d37",
   "metadata": {},
   "source": [
    "Iterate over data files, performing analysis for each."
   ]
  },
  {
   "cell_type": "code",
   "execution_count": null,
   "id": "5cb9b4e5",
   "metadata": {},
   "outputs": [],
   "source": [
    "files = ['IDAcountry.csv', 'IDAcountry-Series.csv', 'IDAdata.csv']\n",
    "\n",
    "for file in files:\n",
    "    df = load_data(file)\n",
    "    explore_data(df)\n",
    "    plot_histogram(df, 'your_column_name')  # Replace with actual column\n",
    "    plot_correlation_matrix(df)\n",
    "    plot_scatter_density(df, 'x_column', 'y_column')  # Replace with actual columns"
   ]
  }
 ],
 "metadata": {
  "kernelspec": {
   "display_name": "Python 3",
   "language": "python",
   "name": "python3"
  },
  "language_info": {
   "codemirror_mode": {
    "name": "ipython",
    "version": 3
   },
   "file_extension": ".py",
   "mimetype": "text/x-python",
   "name": "python",
   "nbconvert_exporter": "python",
   "pygments_lexer": "ipython3",
   "version": "3.8.5"
  }
 },
 "nbformat": 4,
 "nbformat_minor": 5
}
