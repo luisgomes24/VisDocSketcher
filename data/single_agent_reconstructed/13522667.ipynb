{
 "cells": [
  {
   "cell_type": "markdown",
   "id": "965b4686",
   "metadata": {},
   "source": [
    "Load the dataset from a CSV file."
   ]
  },
  {
   "cell_type": "code",
   "execution_count": null,
   "id": "0c737dac",
   "metadata": {},
   "outputs": [],
   "source": [
    "import pandas as pd\n",
    "\n",
    "data = pd.read_csv('data.csv')"
   ]
  },
  {
   "cell_type": "markdown",
   "id": "5c12a8d0",
   "metadata": {},
   "source": [
    "Display an overview of the data, including types and summary statistics."
   ]
  },
  {
   "cell_type": "code",
   "execution_count": null,
   "id": "9fdcfed7",
   "metadata": {},
   "outputs": [],
   "source": [
    "print(data.info())\n",
    "print(data.describe())"
   ]
  },
  {
   "cell_type": "markdown",
   "id": "9414dd52",
   "metadata": {},
   "source": [
    "Check for missing values in each column."
   ]
  },
  {
   "cell_type": "code",
   "execution_count": null,
   "id": "5652c06d",
   "metadata": {},
   "outputs": [],
   "source": [
    "missing_values = data.isnull().sum()\n",
    "print(missing_values)"
   ]
  },
  {
   "cell_type": "markdown",
   "id": "4f0b123c",
   "metadata": {},
   "source": [
    "Visualize the distribution of the fraud class."
   ]
  },
  {
   "cell_type": "code",
   "execution_count": null,
   "id": "369a94a9",
   "metadata": {},
   "outputs": [],
   "source": [
    "import matplotlib.pyplot as plt\n",
    "import seaborn as sns\n",
    "sns.countplot(x='fraud', data=data)\n",
    "plt.show()"
   ]
  },
  {
   "cell_type": "markdown",
   "id": "5ba44153",
   "metadata": {},
   "source": [
    "Create a heatmap to show the correlation between features."
   ]
  },
  {
   "cell_type": "code",
   "execution_count": null,
   "id": "8e94c107",
   "metadata": {},
   "outputs": [],
   "source": [
    "correlation = data.corr()\n",
    "sns.heatmap(correlation, annot=True)\n",
    "plt.show()"
   ]
  },
  {
   "cell_type": "markdown",
   "id": "c129ede4",
   "metadata": {},
   "source": [
    "Split the data into training and testing sets."
   ]
  },
  {
   "cell_type": "code",
   "execution_count": null,
   "id": "ea56b671",
   "metadata": {},
   "outputs": [],
   "source": [
    "from sklearn.model_selection import train_test_split\n",
    "X = data.drop('target', axis=1)\n",
    "y = data['target']\n",
    "X_train, X_test, y_train, y_test = train_test_split(X, y, test_size=0.2)"
   ]
  },
  {
   "cell_type": "markdown",
   "id": "6acac0cf",
   "metadata": {},
   "source": [
    "Perform undersampling to address class imbalance."
   ]
  },
  {
   "cell_type": "code",
   "execution_count": null,
   "id": "ab16a763",
   "metadata": {},
   "outputs": [],
   "source": [
    "from imblearn.under_sampling import RandomUnderSampler\n",
    "undersample = RandomUnderSampler()\n",
    "X_res, y_res = undersample.fit_resample(X_train, y_train)"
   ]
  },
  {
   "cell_type": "markdown",
   "id": "fd2d8985",
   "metadata": {},
   "source": [
    "Show correlation after undersampling."
   ]
  },
  {
   "cell_type": "code",
   "execution_count": null,
   "id": "8c83847f",
   "metadata": {},
   "outputs": [],
   "source": [
    "correlation_resampled = pd.DataFrame(X_res).corr()\n",
    "sns.heatmap(correlation_resampled, annot=True)\n",
    "plt.show()"
   ]
  },
  {
   "cell_type": "markdown",
   "id": "6f4a0e45",
   "metadata": {},
   "source": [
    "Train a Logistic Regression model."
   ]
  },
  {
   "cell_type": "code",
   "execution_count": null,
   "id": "b926eb8a",
   "metadata": {},
   "outputs": [],
   "source": [
    "from sklearn.linear_model import LogisticRegression\n",
    "model = LogisticRegression()\n",
    "model.fit(X_res, y_res)"
   ]
  },
  {
   "cell_type": "markdown",
   "id": "cecde652",
   "metadata": {},
   "source": [
    "Make predictions and calculate the confusion matrix for Logistic Regression."
   ]
  },
  {
   "cell_type": "code",
   "execution_count": null,
   "id": "c715de09",
   "metadata": {},
   "outputs": [],
   "source": [
    "y_pred_logistic = model.predict(X_test)\n",
    "from sklearn.metrics import confusion_matrix, classification_report\n",
    "confusion_logistic = confusion_matrix(y_test, y_pred_logistic)"
   ]
  },
  {
   "cell_type": "markdown",
   "id": "8e940478",
   "metadata": {},
   "source": [
    "Train a Decision Tree model."
   ]
  },
  {
   "cell_type": "code",
   "execution_count": null,
   "id": "0609d8ee",
   "metadata": {},
   "outputs": [],
   "source": [
    "from sklearn.tree import DecisionTreeClassifier\n",
    "decision_tree_model = DecisionTreeClassifier()\n",
    "decision_tree_model.fit(X_res, y_res)"
   ]
  },
  {
   "cell_type": "markdown",
   "id": "4878454a",
   "metadata": {},
   "source": [
    "Make predictions and calculate the confusion matrix for Decision Tree."
   ]
  },
  {
   "cell_type": "code",
   "execution_count": null,
   "id": "337ed772",
   "metadata": {},
   "outputs": [],
   "source": [
    "y_pred_tree = decision_tree_model.predict(X_test)\n",
    "confusion_tree = confusion_matrix(y_test, y_pred_tree)"
   ]
  },
  {
   "cell_type": "markdown",
   "id": "43f32757",
   "metadata": {},
   "source": [
    "Summarize the results in a table format."
   ]
  },
  {
   "cell_type": "code",
   "execution_count": null,
   "id": "991f7e99",
   "metadata": {},
   "outputs": [],
   "source": [
    "import pandas as pd\n",
    "results = pd.DataFrame({'Logistic Regression Confusion Matrix': [confusion_logistic], 'Decision Tree Confusion Matrix': [confusion_tree]})\n",
    "print(results)"
   ]
  }
 ],
 "metadata": {
  "kernelspec": {
   "display_name": "Python 3",
   "language": "python",
   "name": "python3"
  },
  "language_info": {
   "codemirror_mode": {
    "name": "ipython",
    "version": 3
   },
   "file_extension": ".py",
   "mimetype": "text/x-python",
   "name": "python",
   "nbconvert_exporter": "python",
   "pygments_lexer": "ipython3",
   "version": "3.8.5"
  }
 },
 "nbformat": 4,
 "nbformat_minor": 5
}
