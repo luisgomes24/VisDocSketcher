{
 "cells": [
  {
   "cell_type": "markdown",
   "id": "c16f4fd9",
   "metadata": {},
   "source": [
    "Load the ratings data from a CSV file into a DataFrame."
   ]
  },
  {
   "cell_type": "code",
   "execution_count": null,
   "id": "ed5b8be5",
   "metadata": {},
   "outputs": [],
   "source": [
    "import pandas as pd\n",
    "ratings = pd.read_csv('ratings.csv')"
   ]
  },
  {
   "cell_type": "markdown",
   "id": "1469498d",
   "metadata": {},
   "source": [
    "Load the books data from a CSV file into a DataFrame."
   ]
  },
  {
   "cell_type": "code",
   "execution_count": null,
   "id": "ae28a8a1",
   "metadata": {},
   "outputs": [],
   "source": [
    "books = pd.read_csv('books.csv')"
   ]
  },
  {
   "cell_type": "markdown",
   "id": "7a8f5330",
   "metadata": {},
   "source": [
    "Merge the ratings and books DataFrames on the 'book_id' column."
   ]
  },
  {
   "cell_type": "code",
   "execution_count": null,
   "id": "85431dcc",
   "metadata": {},
   "outputs": [],
   "source": [
    "merged_data = pd.merge(ratings, books, on='book_id')"
   ]
  },
  {
   "cell_type": "markdown",
   "id": "416d6cd1",
   "metadata": {},
   "source": [
    "Check for missing values in the merged DataFrame."
   ]
  },
  {
   "cell_type": "code",
   "execution_count": null,
   "id": "7b88d8fa",
   "metadata": {},
   "outputs": [],
   "source": [
    "missing_values = merged_data.isnull().sum()"
   ]
  },
  {
   "cell_type": "markdown",
   "id": "20dfe9ec",
   "metadata": {},
   "source": [
    "Pivot the user ratings to create a user-item matrix."
   ]
  },
  {
   "cell_type": "code",
   "execution_count": null,
   "id": "9b1c7e5c",
   "metadata": {},
   "outputs": [],
   "source": [
    "user_ratings = merged_data.pivot_table(index='user_id', columns='book_id', values='rating')"
   ]
  },
  {
   "cell_type": "markdown",
   "id": "6097b597",
   "metadata": {},
   "source": [
    "Filter the ratings by filling missing values with zeros."
   ]
  },
  {
   "cell_type": "code",
   "execution_count": null,
   "id": "2198d8e4",
   "metadata": {},
   "outputs": [],
   "source": [
    "filtered_ratings = user_ratings.fillna(0)"
   ]
  },
  {
   "cell_type": "markdown",
   "id": "61031765",
   "metadata": {},
   "source": [
    "Calculate item similarity using cosine similarity on the transposed user-item matrix."
   ]
  },
  {
   "cell_type": "code",
   "execution_count": null,
   "id": "ee273150",
   "metadata": {},
   "outputs": [],
   "source": [
    "from sklearn.metrics.pairwise import cosine_similarity\n",
    "item_similarity = cosine_similarity(filtered_ratings.T)"
   ]
  },
  {
   "cell_type": "markdown",
   "id": "93002e7a",
   "metadata": {},
   "source": [
    "Make predictions based on the dot product of user ratings and item similarities."
   ]
  },
  {
   "cell_type": "code",
   "execution_count": null,
   "id": "6dc065c2",
   "metadata": {},
   "outputs": [],
   "source": [
    "import numpy as np\n",
    "predictions = np.dot(filtered_ratings, item_similarity)"
   ]
  },
  {
   "cell_type": "markdown",
   "id": "bf3ec613",
   "metadata": {},
   "source": [
    "Evaluate the model by splitting the data into training and test sets."
   ]
  },
  {
   "cell_type": "code",
   "execution_count": null,
   "id": "5ecde6cd",
   "metadata": {},
   "outputs": [],
   "source": [
    "from sklearn.model_selection import train_test_split\n",
    "train_data, test_data = train_test_split(merged_data, test_size=0.2)"
   ]
  },
  {
   "cell_type": "markdown",
   "id": "4d77fdb7",
   "metadata": {},
   "source": [
    "Generate recommendations by sorting the predicted ratings."
   ]
  },
  {
   "cell_type": "code",
   "execution_count": null,
   "id": "818242d7",
   "metadata": {},
   "outputs": [],
   "source": [
    "recommendations = np.argsort(predictions, axis=1)"
   ]
  },
  {
   "cell_type": "markdown",
   "id": "07855100",
   "metadata": {},
   "source": [
    "Build the item-based model using the filtered ratings."
   ]
  },
  {
   "cell_type": "code",
   "execution_count": null,
   "id": "8f71ce6e",
   "metadata": {},
   "outputs": [],
   "source": [
    "item_model = cosine_similarity(filtered_ratings)"
   ]
  },
  {
   "cell_type": "markdown",
   "id": "f2e76b8f",
   "metadata": {},
   "source": [
    "Make predictions using the item-based model."
   ]
  },
  {
   "cell_type": "code",
   "execution_count": null,
   "id": "f2991a2a",
   "metadata": {},
   "outputs": [],
   "source": [
    "item_predictions = np.dot(filtered_ratings, item_model)"
   ]
  },
  {
   "cell_type": "markdown",
   "id": "4117150e",
   "metadata": {},
   "source": [
    "Evaluate the item model by splitting it into training and test datasets."
   ]
  },
  {
   "cell_type": "code",
   "execution_count": null,
   "id": "0b05a3d8",
   "metadata": {},
   "outputs": [],
   "source": [
    "item_test_data, item_train_data = train_test_split(item_model, test_size=0.2)"
   ]
  }
 ],
 "metadata": {
  "kernelspec": {
   "display_name": "Python 3",
   "language": "python",
   "name": "python3"
  },
  "language_info": {
   "codemirror_mode": {
    "name": "ipython",
    "version": 3
   },
   "file_extension": ".py",
   "mimetype": "text/x-python",
   "name": "python",
   "nbconvert_exporter": "python",
   "pygments_lexer": "ipython3",
   "version": "3.8.5"
  }
 },
 "nbformat": 4,
 "nbformat_minor": 5
}
