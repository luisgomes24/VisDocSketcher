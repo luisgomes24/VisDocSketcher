{
 "cells": [
  {
   "cell_type": "markdown",
   "id": "abae802a",
   "metadata": {},
   "source": [
    "Load data from a CSV file using pandas."
   ]
  },
  {
   "cell_type": "code",
   "execution_count": null,
   "id": "8ccc21a0",
   "metadata": {},
   "outputs": [],
   "source": [
    "import pandas as pd\n",
    "\n",
    "def load_data(file_path):\n",
    "    return pd.read_csv(file_path)"
   ]
  },
  {
   "cell_type": "markdown",
   "id": "1ef99c1b",
   "metadata": {},
   "source": [
    "Read county data."
   ]
  },
  {
   "cell_type": "code",
   "execution_count": null,
   "id": "c0242c22",
   "metadata": {},
   "outputs": [],
   "source": [
    "county_data = load_data('county_data.csv')"
   ]
  },
  {
   "cell_type": "markdown",
   "id": "8d51d4b2",
   "metadata": {},
   "source": [
    "Read governors county candidate data."
   ]
  },
  {
   "cell_type": "code",
   "execution_count": null,
   "id": "3ae74416",
   "metadata": {},
   "outputs": [],
   "source": [
    "candidate_data = load_data('governors_county_candidate_data.csv')"
   ]
  },
  {
   "cell_type": "markdown",
   "id": "bfceba37",
   "metadata": {},
   "source": [
    "Read governors state data."
   ]
  },
  {
   "cell_type": "code",
   "execution_count": null,
   "id": "c3148827",
   "metadata": {},
   "outputs": [],
   "source": [
    "state_data = load_data('governors_state_data.csv')"
   ]
  },
  {
   "cell_type": "markdown",
   "id": "ebf920c9",
   "metadata": {},
   "source": [
    "Read house candidate data."
   ]
  },
  {
   "cell_type": "code",
   "execution_count": null,
   "id": "ede7af0e",
   "metadata": {},
   "outputs": [],
   "source": [
    "house_candidate_data = load_data('house_candidate_data.csv')"
   ]
  },
  {
   "cell_type": "markdown",
   "id": "ce3b7970",
   "metadata": {},
   "source": [
    "Read house state data."
   ]
  },
  {
   "cell_type": "code",
   "execution_count": null,
   "id": "88a8f8fe",
   "metadata": {},
   "outputs": [],
   "source": [
    "house_state_data = load_data('house_state_data.csv')"
   ]
  },
  {
   "cell_type": "markdown",
   "id": "43516f41",
   "metadata": {},
   "source": [
    "Read president county data."
   ]
  },
  {
   "cell_type": "code",
   "execution_count": null,
   "id": "0033660a",
   "metadata": {},
   "outputs": [],
   "source": [
    "president_county_data = load_data('president_county_data.csv')"
   ]
  },
  {
   "cell_type": "markdown",
   "id": "5c9ed1ce",
   "metadata": {},
   "source": [
    "Read president county candidate data."
   ]
  },
  {
   "cell_type": "code",
   "execution_count": null,
   "id": "c754ef7f",
   "metadata": {},
   "outputs": [],
   "source": [
    "president_candidate_data = load_data('president_county_candidate_data.csv')"
   ]
  },
  {
   "cell_type": "markdown",
   "id": "64d39c29",
   "metadata": {},
   "source": [
    "Read president state data."
   ]
  },
  {
   "cell_type": "code",
   "execution_count": null,
   "id": "b11a8d08",
   "metadata": {},
   "outputs": [],
   "source": [
    "president_state_data = load_data('president_state_data.csv')"
   ]
  },
  {
   "cell_type": "markdown",
   "id": "0ad38c88",
   "metadata": {},
   "source": [
    "Read senate county data."
   ]
  },
  {
   "cell_type": "code",
   "execution_count": null,
   "id": "2bcec7c5",
   "metadata": {},
   "outputs": [],
   "source": [
    "senate_county_data = load_data('senate_county_data.csv')"
   ]
  },
  {
   "cell_type": "markdown",
   "id": "339f1c80",
   "metadata": {},
   "source": [
    "Read senate county candidate data."
   ]
  },
  {
   "cell_type": "code",
   "execution_count": null,
   "id": "62f6096b",
   "metadata": {},
   "outputs": [],
   "source": [
    "senate_candidate_data = load_data('senate_candidate_data.csv')"
   ]
  },
  {
   "cell_type": "markdown",
   "id": "31aec10a",
   "metadata": {},
   "source": [
    "Define a function to drop unnecessary columns from a DataFrame."
   ]
  },
  {
   "cell_type": "code",
   "execution_count": null,
   "id": "d86f27d5",
   "metadata": {},
   "outputs": [],
   "source": [
    "def drop_unnecessary_columns(df, columns):\n",
    "    return df.drop(columns=columns)"
   ]
  },
  {
   "cell_type": "markdown",
   "id": "15822799",
   "metadata": {},
   "source": [
    "Preprocess governors county data to drop unnecessary columns."
   ]
  },
  {
   "cell_type": "code",
   "execution_count": null,
   "id": "9f820c78",
   "metadata": {},
   "outputs": [],
   "source": [
    "governors_county_clean = drop_unnecessary_columns(county_data, ['unwanted_col1', 'unwanted_col2'])"
   ]
  },
  {
   "cell_type": "markdown",
   "id": "405487c3",
   "metadata": {},
   "source": [
    "Preprocess governors state data to drop unnecessary columns."
   ]
  },
  {
   "cell_type": "code",
   "execution_count": null,
   "id": "9f181301",
   "metadata": {},
   "outputs": [],
   "source": [
    "governors_state_clean = drop_unnecessary_columns(state_data, ['unwanted_col1', 'unwanted_col2'])"
   ]
  },
  {
   "cell_type": "markdown",
   "id": "314f4b07",
   "metadata": {},
   "source": [
    "Preprocess house candidate data to drop unnecessary columns."
   ]
  },
  {
   "cell_type": "code",
   "execution_count": null,
   "id": "60b17fff",
   "metadata": {},
   "outputs": [],
   "source": [
    "house_candidate_clean = drop_unnecessary_columns(house_candidate_data, ['unwanted_col1', 'unwanted_col2'])"
   ]
  },
  {
   "cell_type": "markdown",
   "id": "87ea3fcf",
   "metadata": {},
   "source": [
    "Preprocess house state data to drop unnecessary columns."
   ]
  },
  {
   "cell_type": "code",
   "execution_count": null,
   "id": "298cb155",
   "metadata": {},
   "outputs": [],
   "source": [
    "house_state_clean = drop_unnecessary_columns(house_state_data, ['unwanted_col1', 'unwanted_col2'])"
   ]
  },
  {
   "cell_type": "markdown",
   "id": "c36c1d0f",
   "metadata": {},
   "source": [
    "Preprocess president county data to remove the first column."
   ]
  },
  {
   "cell_type": "code",
   "execution_count": null,
   "id": "ddbe92b5",
   "metadata": {},
   "outputs": [],
   "source": [
    "president_county_clean = drop_unnecessary_columns(president_county_data, ['First_Column'])"
   ]
  },
  {
   "cell_type": "markdown",
   "id": "f314048e",
   "metadata": {},
   "source": [
    "Preprocess president county candidate data to drop unnecessary columns."
   ]
  },
  {
   "cell_type": "code",
   "execution_count": null,
   "id": "c8d17ef5",
   "metadata": {},
   "outputs": [],
   "source": [
    "president_candidate_clean = drop_unnecessary_columns(president_candidate_data, ['unwanted_col1', 'unwanted_col2'])"
   ]
  },
  {
   "cell_type": "markdown",
   "id": "e488bfb7",
   "metadata": {},
   "source": [
    "Preprocess president state data to drop unnecessary columns."
   ]
  },
  {
   "cell_type": "code",
   "execution_count": null,
   "id": "f552fcc5",
   "metadata": {},
   "outputs": [],
   "source": [
    "president_state_clean = drop_unnecessary_columns(president_state_data, ['unwanted_col1', 'unwanted_col2'])"
   ]
  },
  {
   "cell_type": "markdown",
   "id": "abaeaf46",
   "metadata": {},
   "source": [
    "Preprocess senate county data to drop unnecessary columns."
   ]
  },
  {
   "cell_type": "code",
   "execution_count": null,
   "id": "08fce49c",
   "metadata": {},
   "outputs": [],
   "source": [
    "senate_county_clean = drop_unnecessary_columns(senate_county_data, ['unwanted_col1', 'unwanted_col2'])"
   ]
  },
  {
   "cell_type": "markdown",
   "id": "3536ed15",
   "metadata": {},
   "source": [
    "Preprocess senate candidate data to drop unnecessary columns."
   ]
  },
  {
   "cell_type": "code",
   "execution_count": null,
   "id": "2cb2e1f0",
   "metadata": {},
   "outputs": [],
   "source": [
    "senate_candidate_clean = drop_unnecessary_columns(senate_candidate_data, ['unwanted_col1', 'unwanted_col2'])"
   ]
  },
  {
   "cell_type": "markdown",
   "id": "5e699d07",
   "metadata": {},
   "source": [
    "Define a function to visualize data as a bar plot."
   ]
  },
  {
   "cell_type": "code",
   "execution_count": null,
   "id": "c8d49d73",
   "metadata": {},
   "outputs": [],
   "source": [
    "import matplotlib.pyplot as plt\n",
    "\n",
    "def visualize_barplot(data):\n",
    "    data.plot(kind='bar')\n",
    "    plt.show()"
   ]
  },
  {
   "cell_type": "markdown",
   "id": "8525443f",
   "metadata": {},
   "source": [
    "Visualize the processed governors county data with a bar plot."
   ]
  },
  {
   "cell_type": "code",
   "execution_count": null,
   "id": "b9834442",
   "metadata": {},
   "outputs": [],
   "source": [
    "visualize_barplot(governors_county_clean)"
   ]
  },
  {
   "cell_type": "markdown",
   "id": "dfd02712",
   "metadata": {},
   "source": [
    "Visualize the processed governors state data with a bar plot."
   ]
  },
  {
   "cell_type": "code",
   "execution_count": null,
   "id": "c58871ea",
   "metadata": {},
   "outputs": [],
   "source": [
    "visualize_barplot(governors_state_clean)"
   ]
  },
  {
   "cell_type": "markdown",
   "id": "aadb94a3",
   "metadata": {},
   "source": [
    "Visualize the processed house candidate data with a bar plot."
   ]
  },
  {
   "cell_type": "code",
   "execution_count": null,
   "id": "054d545f",
   "metadata": {},
   "outputs": [],
   "source": [
    "visualize_barplot(house_candidate_clean)"
   ]
  },
  {
   "cell_type": "markdown",
   "id": "ca0275bf",
   "metadata": {},
   "source": [
    "Visualize the processed house state data with a bar plot."
   ]
  },
  {
   "cell_type": "code",
   "execution_count": null,
   "id": "36c4d7ba",
   "metadata": {},
   "outputs": [],
   "source": [
    "visualize_barplot(house_state_clean)"
   ]
  },
  {
   "cell_type": "markdown",
   "id": "0c831dab",
   "metadata": {},
   "source": [
    "Visualize the processed president county data with a bar plot."
   ]
  },
  {
   "cell_type": "code",
   "execution_count": null,
   "id": "b7fe5164",
   "metadata": {},
   "outputs": [],
   "source": [
    "visualize_barplot(president_county_clean)"
   ]
  },
  {
   "cell_type": "markdown",
   "id": "fb869619",
   "metadata": {},
   "source": [
    "Visualize the processed president county candidate data with a bar plot."
   ]
  },
  {
   "cell_type": "code",
   "execution_count": null,
   "id": "b7f3d306",
   "metadata": {},
   "outputs": [],
   "source": [
    "visualize_barplot(president_candidate_clean)"
   ]
  },
  {
   "cell_type": "markdown",
   "id": "d37eb06c",
   "metadata": {},
   "source": [
    "Visualize the processed president state data with a bar plot."
   ]
  },
  {
   "cell_type": "code",
   "execution_count": null,
   "id": "e6f2a1b6",
   "metadata": {},
   "outputs": [],
   "source": [
    "visualize_barplot(president_state_clean)"
   ]
  },
  {
   "cell_type": "markdown",
   "id": "f65c1ca1",
   "metadata": {},
   "source": [
    "Define a function to visualize data as a box plot."
   ]
  },
  {
   "cell_type": "code",
   "execution_count": null,
   "id": "89069b37",
   "metadata": {},
   "outputs": [],
   "source": [
    "import seaborn as sns\n",
    "\n",
    "def visualize_boxplot(data):\n",
    "    sns.boxplot(data=data)\n",
    "    plt.show()"
   ]
  },
  {
   "cell_type": "markdown",
   "id": "7767dc07",
   "metadata": {},
   "source": [
    "Visualize the processed senate county data with a box plot."
   ]
  },
  {
   "cell_type": "code",
   "execution_count": null,
   "id": "f2da5b9d",
   "metadata": {},
   "outputs": [],
   "source": [
    "visualize_boxplot(senate_county_clean)"
   ]
  },
  {
   "cell_type": "markdown",
   "id": "47ed9014",
   "metadata": {},
   "source": [
    "Visualize the processed senate county candidate data with a bar plot."
   ]
  },
  {
   "cell_type": "code",
   "execution_count": null,
   "id": "4beaafb4",
   "metadata": {},
   "outputs": [],
   "source": [
    "visualize_barplot(senate_candidate_clean)"
   ]
  }
 ],
 "metadata": {
  "kernelspec": {
   "display_name": "Python 3",
   "language": "python",
   "name": "python3"
  },
  "language_info": {
   "codemirror_mode": {
    "name": "ipython",
    "version": 3
   },
   "file_extension": ".py",
   "mimetype": "text/x-python",
   "name": "python",
   "nbconvert_exporter": "python",
   "pygments_lexer": "ipython3",
   "version": "3.8.5"
  }
 },
 "nbformat": 4,
 "nbformat_minor": 5
}
