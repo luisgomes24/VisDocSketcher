{
 "cells": [
  {
   "cell_type": "markdown",
   "id": "539004e5",
   "metadata": {},
   "source": [
    "Load necessary libraries for data manipulation and fuzzy matching."
   ]
  },
  {
   "cell_type": "code",
   "execution_count": null,
   "id": "c83d7c35",
   "metadata": {},
   "outputs": [],
   "source": [
    "import pandas as pd\n",
    "import numpy as np\n",
    "from fuzzywuzzy import process"
   ]
  },
  {
   "cell_type": "markdown",
   "id": "f8f053bf",
   "metadata": {},
   "source": [
    "Read the dataset from a CSV file into a pandas DataFrame."
   ]
  },
  {
   "cell_type": "code",
   "execution_count": null,
   "id": "390e8a51",
   "metadata": {},
   "outputs": [],
   "source": [
    "data = pd.read_csv('datafile.csv')"
   ]
  },
  {
   "cell_type": "markdown",
   "id": "51b58509",
   "metadata": {},
   "source": [
    "Check the encoding and data types of each column in the DataFrame."
   ]
  },
  {
   "cell_type": "code",
   "execution_count": null,
   "id": "f0c2bf85",
   "metadata": {},
   "outputs": [],
   "source": [
    "print(data.dtypes)"
   ]
  },
  {
   "cell_type": "markdown",
   "id": "4453c1f2",
   "metadata": {},
   "source": [
    "Preprocess the 'City' column by stripping whitespace and capitalizing city names."
   ]
  },
  {
   "cell_type": "code",
   "execution_count": null,
   "id": "3a821a0a",
   "metadata": {},
   "outputs": [],
   "source": [
    "data['City'] = data['City'].str.strip().str.title()"
   ]
  },
  {
   "cell_type": "markdown",
   "id": "fa261823",
   "metadata": {},
   "source": [
    "Extract unique city values from the 'City' column."
   ]
  },
  {
   "cell_type": "code",
   "execution_count": null,
   "id": "dae45eef",
   "metadata": {},
   "outputs": [],
   "source": [
    "unique_cities = data['City'].unique()"
   ]
  },
  {
   "cell_type": "markdown",
   "id": "4f6378e0",
   "metadata": {},
   "source": [
    "Apply fuzzy matching to find potential corrections for city names."
   ]
  },
  {
   "cell_type": "code",
   "execution_count": null,
   "id": "a06fb604",
   "metadata": {},
   "outputs": [],
   "source": [
    "matches = process.extractBests(\"city_name\", unique_cities, score_cutoff=80)"
   ]
  },
  {
   "cell_type": "markdown",
   "id": "ec9d15d5",
   "metadata": {},
   "source": [
    "Replace matches in the 'City' column with corrected city names."
   ]
  },
  {
   "cell_type": "code",
   "execution_count": null,
   "id": "03f7e73f",
   "metadata": {},
   "outputs": [],
   "source": [
    "for match in matches:\n",
    "    data['City'].replace(match[0], match[1], inplace=True)"
   ]
  },
  {
   "cell_type": "markdown",
   "id": "de891716",
   "metadata": {},
   "source": [
    "Visualize the cleaned data using a box plot to verify data quality."
   ]
  },
  {
   "cell_type": "code",
   "execution_count": null,
   "id": "72d4542b",
   "metadata": {},
   "outputs": [],
   "source": [
    "import matplotlib.pyplot as plt\n",
    "plt.boxplot(data['Value'])\n",
    "plt.show()"
   ]
  },
  {
   "cell_type": "markdown",
   "id": "7f341ff0",
   "metadata": {},
   "source": [
    "Encourage personal data correction and enhancement based on the explored data."
   ]
  },
  {
   "cell_type": "code",
   "execution_count": null,
   "id": "a93862b1",
   "metadata": {},
   "outputs": [],
   "source": [
    "# Your Turn: Define your own cleaning function to handle additional errors."
   ]
  }
 ],
 "metadata": {
  "kernelspec": {
   "display_name": "Python 3",
   "language": "python",
   "name": "python3"
  },
  "language_info": {
   "codemirror_mode": {
    "name": "ipython",
    "version": 3
   },
   "file_extension": ".py",
   "mimetype": "text/x-python",
   "name": "python",
   "nbconvert_exporter": "python",
   "pygments_lexer": "ipython3",
   "version": "3.8.5"
  }
 },
 "nbformat": 4,
 "nbformat_minor": 5
}
