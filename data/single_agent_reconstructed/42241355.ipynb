{
 "cells": [
  {
   "cell_type": "markdown",
   "id": "c6ef501a",
   "metadata": {},
   "source": [
    "Load the dataset from a CSV file using pandas."
   ]
  },
  {
   "cell_type": "code",
   "execution_count": null,
   "id": "f80332e1",
   "metadata": {},
   "outputs": [],
   "source": [
    "import pandas as pd\n",
    "df = pd.read_csv('data.csv')"
   ]
  },
  {
   "cell_type": "markdown",
   "id": "6576c081",
   "metadata": {},
   "source": [
    "Remove any rows with missing values to ensure clean data."
   ]
  },
  {
   "cell_type": "code",
   "execution_count": null,
   "id": "e4ec7d26",
   "metadata": {},
   "outputs": [],
   "source": [
    "df = df.dropna()"
   ]
  },
  {
   "cell_type": "markdown",
   "id": "622c5976",
   "metadata": {},
   "source": [
    "Visualize average emissions over time with a line plot."
   ]
  },
  {
   "cell_type": "code",
   "execution_count": null,
   "id": "1697e4ec",
   "metadata": {},
   "outputs": [],
   "source": [
    "import matplotlib.pyplot as plt\n",
    "plt.plot(df['Time'], df['Emissions'])\n",
    "plt.title('Average Emissions')\n",
    "plt.xlabel('Time')\n",
    "plt.ylabel('Emissions')\n",
    "plt.show()"
   ]
  },
  {
   "cell_type": "markdown",
   "id": "54b67427",
   "metadata": {},
   "source": [
    "Adjust the predicted emissions by multiplying by a factor."
   ]
  },
  {
   "cell_type": "code",
   "execution_count": null,
   "id": "bc7dfb72",
   "metadata": {},
   "outputs": [],
   "source": [
    "df['Adjusted_Emissions'] = df['Emissions'] * 0.9"
   ]
  },
  {
   "cell_type": "markdown",
   "id": "18bdeabf",
   "metadata": {},
   "source": [
    "Create a final visualization for adjusted emissions."
   ]
  },
  {
   "cell_type": "code",
   "execution_count": null,
   "id": "1d918878",
   "metadata": {},
   "outputs": [],
   "source": [
    "plt.plot(df['Time'], df['Adjusted_Emissions'])\n",
    "plt.title('Final Visualization')\n",
    "plt.xlabel('Time')\n",
    "plt.ylabel('Adjusted Emissions')\n",
    "plt.show()"
   ]
  },
  {
   "cell_type": "markdown",
   "id": "1eee8742",
   "metadata": {},
   "source": [
    "Save the final dataframe to a CSV file for submission."
   ]
  },
  {
   "cell_type": "code",
   "execution_count": null,
   "id": "74a7a94e",
   "metadata": {},
   "outputs": [],
   "source": [
    "df.to_csv('submission.csv', index=False)"
   ]
  }
 ],
 "metadata": {
  "kernelspec": {
   "display_name": "Python 3",
   "language": "python",
   "name": "python3"
  },
  "language_info": {
   "codemirror_mode": {
    "name": "ipython",
    "version": 3
   },
   "file_extension": ".py",
   "mimetype": "text/x-python",
   "name": "python",
   "nbconvert_exporter": "python",
   "pygments_lexer": "ipython3",
   "version": "3.8.5"
  }
 },
 "nbformat": 4,
 "nbformat_minor": 5
}
