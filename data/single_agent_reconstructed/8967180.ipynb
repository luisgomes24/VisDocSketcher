{
 "cells": [
  {
   "cell_type": "markdown",
   "id": "c99b8738",
   "metadata": {},
   "source": [
    "Load two datasets using pandas."
   ]
  },
  {
   "cell_type": "code",
   "execution_count": null,
   "id": "69ff5116",
   "metadata": {},
   "outputs": [],
   "source": [
    "import pandas as pd\n",
    "data1 = pd.read_csv('data1.csv')\n",
    "data2 = pd.read_csv('data2.csv')"
   ]
  },
  {
   "cell_type": "markdown",
   "id": "5bdcf309",
   "metadata": {},
   "source": [
    "Generate a statistical overview of both datasets."
   ]
  },
  {
   "cell_type": "code",
   "execution_count": null,
   "id": "1d2de80f",
   "metadata": {},
   "outputs": [],
   "source": [
    "data1_overview = data1.describe()\n",
    "data2_overview = data2.describe()"
   ]
  },
  {
   "cell_type": "markdown",
   "id": "ebcdffce",
   "metadata": {},
   "source": [
    "Create a distribution plot for the first dataset."
   ]
  },
  {
   "cell_type": "code",
   "execution_count": null,
   "id": "f6ce3699",
   "metadata": {},
   "outputs": [],
   "source": [
    "import matplotlib.pyplot as plt\n",
    "import seaborn as sns\n",
    "sns.histplot(data1)\n",
    "plt.show()"
   ]
  },
  {
   "cell_type": "markdown",
   "id": "a2c01142",
   "metadata": {},
   "source": [
    "Create a scatter plot for relationships in the first dataset."
   ]
  },
  {
   "cell_type": "code",
   "execution_count": null,
   "id": "759560be",
   "metadata": {},
   "outputs": [],
   "source": [
    "sns.scatterplot(x='feature1', y='feature2', data=data1)\n",
    "plt.show()"
   ]
  },
  {
   "cell_type": "markdown",
   "id": "46be4a4a",
   "metadata": {},
   "source": [
    "Generate a correlation matrix for the first dataset."
   ]
  },
  {
   "cell_type": "code",
   "execution_count": null,
   "id": "c9bc6a8f",
   "metadata": {},
   "outputs": [],
   "source": [
    "correlation_matrix1 = data1.corr()\n",
    "sns.heatmap(correlation_matrix1, annot=True)\n",
    "plt.show()"
   ]
  },
  {
   "cell_type": "markdown",
   "id": "d41931ea",
   "metadata": {},
   "source": [
    "Create a distribution plot for the second dataset."
   ]
  },
  {
   "cell_type": "code",
   "execution_count": null,
   "id": "0eed8691",
   "metadata": {},
   "outputs": [],
   "source": [
    "sns.histplot(data2)\n",
    "plt.show()"
   ]
  },
  {
   "cell_type": "markdown",
   "id": "70b3f5b6",
   "metadata": {},
   "source": [
    "Create a scatter plot for relationships in the second dataset."
   ]
  },
  {
   "cell_type": "code",
   "execution_count": null,
   "id": "59482943",
   "metadata": {},
   "outputs": [],
   "source": [
    "sns.scatterplot(x='feature1', y='feature2', data=data2)\n",
    "plt.show()"
   ]
  },
  {
   "cell_type": "markdown",
   "id": "93f3e046",
   "metadata": {},
   "source": [
    "Generate a correlation matrix for the second dataset."
   ]
  },
  {
   "cell_type": "code",
   "execution_count": null,
   "id": "a82874d0",
   "metadata": {},
   "outputs": [],
   "source": [
    "correlation_matrix2 = data2.corr()\n",
    "sns.heatmap(correlation_matrix2, annot=True)\n",
    "plt.show()"
   ]
  }
 ],
 "metadata": {
  "kernelspec": {
   "display_name": "Python 3",
   "language": "python",
   "name": "python3"
  },
  "language_info": {
   "codemirror_mode": {
    "name": "ipython",
    "version": 3
   },
   "file_extension": ".py",
   "mimetype": "text/x-python",
   "name": "python",
   "nbconvert_exporter": "python",
   "pygments_lexer": "ipython3",
   "version": "3.8.5"
  }
 },
 "nbformat": 4,
 "nbformat_minor": 5
}
