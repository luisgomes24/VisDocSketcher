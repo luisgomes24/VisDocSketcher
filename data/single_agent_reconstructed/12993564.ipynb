{
 "cells": [
  {
   "cell_type": "markdown",
   "id": "df44d043",
   "metadata": {},
   "source": [
    "Import data from a CSV file into a DataFrame."
   ]
  },
  {
   "cell_type": "code",
   "execution_count": null,
   "id": "d2cf45e6",
   "metadata": {},
   "outputs": [],
   "source": [
    "import pandas as pd\n",
    "\n",
    "data = pd.read_csv('data.csv')"
   ]
  },
  {
   "cell_type": "markdown",
   "id": "8afa4840",
   "metadata": {},
   "source": [
    "Display the first few rows of the dataset."
   ]
  },
  {
   "cell_type": "code",
   "execution_count": null,
   "id": "52fa4e7c",
   "metadata": {},
   "outputs": [],
   "source": [
    "data.head()"
   ]
  },
  {
   "cell_type": "markdown",
   "id": "eff21b14",
   "metadata": {},
   "source": [
    "Convert the 'Salary' column to a float type for analysis."
   ]
  },
  {
   "cell_type": "code",
   "execution_count": null,
   "id": "8855c966",
   "metadata": {},
   "outputs": [],
   "source": [
    "data['Salary'] = data['Salary'].astype(float)"
   ]
  },
  {
   "cell_type": "markdown",
   "id": "1b90cd0f",
   "metadata": {},
   "source": [
    "Get summary statistics for numeric columns in the DataFrame."
   ]
  },
  {
   "cell_type": "code",
   "execution_count": null,
   "id": "d7ef85da",
   "metadata": {},
   "outputs": [],
   "source": [
    "data.describe()"
   ]
  },
  {
   "cell_type": "markdown",
   "id": "7fd8401c",
   "metadata": {},
   "source": [
    "Calculate the median starting salary grouped by major."
   ]
  },
  {
   "cell_type": "code",
   "execution_count": null,
   "id": "a787dd87",
   "metadata": {},
   "outputs": [],
   "source": [
    "median_salary_by_major = data.groupby('Major')['Salary'].median()"
   ]
  },
  {
   "cell_type": "markdown",
   "id": "51defe5c",
   "metadata": {},
   "source": [
    "Create a bar plot to visualize the median salary by major."
   ]
  },
  {
   "cell_type": "code",
   "execution_count": null,
   "id": "917e53be",
   "metadata": {},
   "outputs": [],
   "source": [
    "import seaborn as sns\n",
    "import matplotlib.pyplot as plt\n",
    "\n",
    "sns.barplot(x=median_salary_by_major.index, y=median_salary_by_major.values)\n",
    "plt.title('Median Salary by Major')\n",
    "plt.xlabel('Major')\n",
    "plt.ylabel('Median Salary')\n",
    "plt.show()"
   ]
  },
  {
   "cell_type": "markdown",
   "id": "f5b73680",
   "metadata": {},
   "source": [
    "Split the dataset into training and testing sets."
   ]
  },
  {
   "cell_type": "code",
   "execution_count": null,
   "id": "0f1c96ff",
   "metadata": {},
   "outputs": [],
   "source": [
    "from sklearn.model_selection import train_test_split\n",
    "X = data[['Feature1', 'Feature2']]\n",
    "y = data['Target']\n",
    "X_train, X_test, y_train, y_test = train_test_split(X, y, test_size=0.2, random_state=42)"
   ]
  },
  {
   "cell_type": "markdown",
   "id": "853f5b5f",
   "metadata": {},
   "source": [
    "Train a linear regression model using the training data."
   ]
  },
  {
   "cell_type": "code",
   "execution_count": null,
   "id": "f738224e",
   "metadata": {},
   "outputs": [],
   "source": [
    "from sklearn.linear_model import LinearRegression\n",
    "model = LinearRegression()\n",
    "model.fit(X_train, y_train)"
   ]
  },
  {
   "cell_type": "markdown",
   "id": "2e1ad75d",
   "metadata": {},
   "source": [
    "Use the trained model to predict outcomes on the test set."
   ]
  },
  {
   "cell_type": "code",
   "execution_count": null,
   "id": "bc5b80cf",
   "metadata": {},
   "outputs": [],
   "source": [
    "y_pred = model.predict(X_test)"
   ]
  },
  {
   "cell_type": "markdown",
   "id": "65e82264",
   "metadata": {},
   "source": [
    "Evaluate the model's performance using mean squared error."
   ]
  },
  {
   "cell_type": "code",
   "execution_count": null,
   "id": "68cca6f4",
   "metadata": {},
   "outputs": [],
   "source": [
    "from sklearn.metrics import mean_squared_error\n",
    "mse = mean_squared_error(y_test, y_pred)"
   ]
  },
  {
   "cell_type": "markdown",
   "id": "d9c5394a",
   "metadata": {},
   "source": [
    "Visualize the model's predictions compared to actual values."
   ]
  },
  {
   "cell_type": "code",
   "execution_count": null,
   "id": "08fb7918",
   "metadata": {},
   "outputs": [],
   "source": [
    "plt.scatter(X_test['Feature1'], y_test, color='blue')\n",
    "plt.scatter(X_test['Feature1'], y_pred, color='red')\n",
    "plt.title('Model Predictions vs Actual')\n",
    "plt.xlabel('Feature1')\n",
    "plt.ylabel('Target')\n",
    "plt.show()"
   ]
  }
 ],
 "metadata": {
  "kernelspec": {
   "display_name": "Python 3",
   "language": "python",
   "name": "python3"
  },
  "language_info": {
   "codemirror_mode": {
    "name": "ipython",
    "version": 3
   },
   "file_extension": ".py",
   "mimetype": "text/x-python",
   "name": "python",
   "nbconvert_exporter": "python",
   "pygments_lexer": "ipython3",
   "version": "3.8.5"
  }
 },
 "nbformat": 4,
 "nbformat_minor": 5
}
