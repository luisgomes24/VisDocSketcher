{
 "cells": [
  {
   "cell_type": "markdown",
   "id": "5734b468",
   "metadata": {},
   "source": [
    "Load the dataset and split it into training and testing sets."
   ]
  },
  {
   "cell_type": "code",
   "execution_count": null,
   "id": "7012c483",
   "metadata": {},
   "outputs": [],
   "source": [
    "import pandas as pd\n",
    "\n",
    "data = pd.read_csv('data.csv')\n",
    "train_data = data[data['DataType'] == 'train']\n",
    "test_data = data[data['DataType'] == 'test']"
   ]
  },
  {
   "cell_type": "markdown",
   "id": "c3a50c58",
   "metadata": {},
   "source": [
    "Visualize the distribution of SalePrice in the training data."
   ]
  },
  {
   "cell_type": "code",
   "execution_count": null,
   "id": "a118ffa2",
   "metadata": {},
   "outputs": [],
   "source": [
    "import matplotlib.pyplot as plt\n",
    "import seaborn as sns\n",
    "\n",
    "plt.figure(figsize=(10, 6))\n",
    "sns.histplot(train_data['SalePrice'], kde=True)\n",
    "plt.title('Distribution of SalePrice')\n",
    "plt.show()"
   ]
  },
  {
   "cell_type": "markdown",
   "id": "010e7946",
   "metadata": {},
   "source": [
    "Handle missing values by filling them with the mean of the respective columns."
   ]
  },
  {
   "cell_type": "code",
   "execution_count": null,
   "id": "ff64a408",
   "metadata": {},
   "outputs": [],
   "source": [
    "train_data.fillna(train_data.mean(), inplace=True)"
   ]
  },
  {
   "cell_type": "markdown",
   "id": "fb4d36c8",
   "metadata": {},
   "source": [
    "Visualize the correlation between features using a heatmap."
   ]
  },
  {
   "cell_type": "code",
   "execution_count": null,
   "id": "8265a6d4",
   "metadata": {},
   "outputs": [],
   "source": [
    "correlation_matrix = train_data.corr()\n",
    "sns.heatmap(correlation_matrix, annot=True)\n",
    "plt.title('Correlation Matrix')\n",
    "plt.show()"
   ]
  },
  {
   "cell_type": "markdown",
   "id": "1e7f83ba",
   "metadata": {},
   "source": [
    "Remove any unwanted features from the dataset."
   ]
  },
  {
   "cell_type": "code",
   "execution_count": null,
   "id": "36cc38c0",
   "metadata": {},
   "outputs": [],
   "source": [
    "train_data.drop(columns=['UnwantedFeature1', 'UnwantedFeature2'], inplace=True)"
   ]
  },
  {
   "cell_type": "markdown",
   "id": "493c1c4a",
   "metadata": {},
   "source": [
    "Transform features by scaling them to a standard format."
   ]
  },
  {
   "cell_type": "code",
   "execution_count": null,
   "id": "c0832584",
   "metadata": {},
   "outputs": [],
   "source": [
    "from sklearn.preprocessing import StandardScaler\n",
    "\n",
    "scaler = StandardScaler()\n",
    "data_scaled = scaler.fit_transform(train_data.drop('SalePrice', axis=1))"
   ]
  },
  {
   "cell_type": "markdown",
   "id": "4f0b5cd3",
   "metadata": {},
   "source": [
    "Encode categorical variables using one-hot encoding."
   ]
  },
  {
   "cell_type": "code",
   "execution_count": null,
   "id": "ee609738",
   "metadata": {},
   "outputs": [],
   "source": [
    "from sklearn.preprocessing import OneHotEncoder\n",
    "\n",
    "encoder = OneHotEncoder()\n",
    "categorical_features = encoder.fit_transform(train_data[['CategoricalFeature']])"
   ]
  },
  {
   "cell_type": "markdown",
   "id": "78d77cf2",
   "metadata": {},
   "source": [
    "Split the dataset into features (X) and target (Y)."
   ]
  },
  {
   "cell_type": "code",
   "execution_count": null,
   "id": "6cd2b1cc",
   "metadata": {},
   "outputs": [],
   "source": [
    "X = data_scaled\n",
    "Y = train_data['SalePrice']"
   ]
  },
  {
   "cell_type": "markdown",
   "id": "db52676c",
   "metadata": {},
   "source": [
    "Further split the data into training and testing sets for the model."
   ]
  },
  {
   "cell_type": "code",
   "execution_count": null,
   "id": "d1448359",
   "metadata": {},
   "outputs": [],
   "source": [
    "from sklearn.model_selection import train_test_split\n",
    "\n",
    "X_train, X_test, Y_train, Y_test = train_test_split(X, Y, test_size=0.2, random_state=42)"
   ]
  },
  {
   "cell_type": "markdown",
   "id": "ccb85b3a",
   "metadata": {},
   "source": [
    "Train a linear regression model on the training data."
   ]
  },
  {
   "cell_type": "code",
   "execution_count": null,
   "id": "6949470b",
   "metadata": {},
   "outputs": [],
   "source": [
    "from sklearn.linear_model import LinearRegression\n",
    "\n",
    "model = LinearRegression()\n",
    "model.fit(X_train, Y_train)"
   ]
  },
  {
   "cell_type": "markdown",
   "id": "fb204db0",
   "metadata": {},
   "source": [
    "Evaluate model performance using mean squared error."
   ]
  },
  {
   "cell_type": "code",
   "execution_count": null,
   "id": "2262cd6c",
   "metadata": {},
   "outputs": [],
   "source": [
    "from sklearn.metrics import mean_squared_error\n",
    "\n",
    "predictions = model.predict(X_test)\n",
    "error = mean_squared_error(Y_test, predictions)"
   ]
  },
  {
   "cell_type": "markdown",
   "id": "29d73f0f",
   "metadata": {},
   "source": [
    "Make predictions on the test dataset."
   ]
  },
  {
   "cell_type": "code",
   "execution_count": null,
   "id": "f82d9401",
   "metadata": {},
   "outputs": [],
   "source": [
    "final_predictions = model.predict(test_data.drop('SalePrice', axis=1))"
   ]
  },
  {
   "cell_type": "markdown",
   "id": "cbb5f106",
   "metadata": {},
   "source": [
    "Prepare the submission file and save predictions to a CSV."
   ]
  },
  {
   "cell_type": "code",
   "execution_count": null,
   "id": "41fd5982",
   "metadata": {},
   "outputs": [],
   "source": [
    "submission = pd.DataFrame({'Id': test_data['Id'], 'SalePrice': final_predictions})\n",
    "submission.to_csv('submission.csv', index=False)"
   ]
  }
 ],
 "metadata": {
  "kernelspec": {
   "display_name": "Python 3",
   "language": "python",
   "name": "python3"
  },
  "language_info": {
   "codemirror_mode": {
    "name": "ipython",
    "version": 3
   },
   "file_extension": ".py",
   "mimetype": "text/x-python",
   "name": "python",
   "nbconvert_exporter": "python",
   "pygments_lexer": "ipython3",
   "version": "3.8.5"
  }
 },
 "nbformat": 4,
 "nbformat_minor": 5
}
