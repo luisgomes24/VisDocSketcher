{
 "cells": [
  {
   "cell_type": "markdown",
   "id": "04b5c2a5",
   "metadata": {},
   "source": [
    "Load the dataset from a CSV file into a Pandas DataFrame."
   ]
  },
  {
   "cell_type": "code",
   "execution_count": null,
   "id": "a098cbd5",
   "metadata": {},
   "outputs": [],
   "source": [
    "import pandas as pd\n",
    "data = pd.read_csv('data.csv')"
   ]
  },
  {
   "cell_type": "markdown",
   "id": "8e04934d",
   "metadata": {},
   "source": [
    "Convert the 'date' column to Python's DateTime format for easier manipulation."
   ]
  },
  {
   "cell_type": "code",
   "execution_count": null,
   "id": "25c18c62",
   "metadata": {},
   "outputs": [],
   "source": [
    "data['date'] = pd.to_datetime(data['date'])"
   ]
  },
  {
   "cell_type": "markdown",
   "id": "bcd21646",
   "metadata": {},
   "source": [
    "Perform a quick check of the DataFrame to understand its structure and data types."
   ]
  },
  {
   "cell_type": "code",
   "execution_count": null,
   "id": "59e3e39c",
   "metadata": {},
   "outputs": [],
   "source": [
    "data.info()"
   ]
  },
  {
   "cell_type": "markdown",
   "id": "9ac4691d",
   "metadata": {},
   "source": [
    "Preprocess the data by filling in any missing values using forward filling."
   ]
  },
  {
   "cell_type": "code",
   "execution_count": null,
   "id": "93575bb1",
   "metadata": {},
   "outputs": [],
   "source": [
    "data.fillna(method='ffill', inplace=True)"
   ]
  },
  {
   "cell_type": "markdown",
   "id": "1be786f5",
   "metadata": {},
   "source": [
    "Set the 'date' column as the index for time series analysis."
   ]
  },
  {
   "cell_type": "code",
   "execution_count": null,
   "id": "441ef3ef",
   "metadata": {},
   "outputs": [],
   "source": [
    "data.set_index('date', inplace=True)"
   ]
  },
  {
   "cell_type": "markdown",
   "id": "7ed16c39",
   "metadata": {},
   "source": [
    "Calculate active cases by subtracting recovered cases from confirmed cases."
   ]
  },
  {
   "cell_type": "code",
   "execution_count": null,
   "id": "4134b1f1",
   "metadata": {},
   "outputs": [],
   "source": [
    "data['active_cases'] = data['confirmed'] - data['recovered']"
   ]
  },
  {
   "cell_type": "markdown",
   "id": "218348c6",
   "metadata": {},
   "source": [
    "Identify any columns with missing values in the dataset."
   ]
  },
  {
   "cell_type": "code",
   "execution_count": null,
   "id": "18e87da7",
   "metadata": {},
   "outputs": [],
   "source": [
    "missing_data = data.isnull().sum()"
   ]
  },
  {
   "cell_type": "markdown",
   "id": "cd4b95e2",
   "metadata": {},
   "source": [
    "Remove any rows that contain missing data entries."
   ]
  },
  {
   "cell_type": "code",
   "execution_count": null,
   "id": "1bbaa4e2",
   "metadata": {},
   "outputs": [],
   "source": [
    "data.dropna(inplace=True)"
   ]
  },
  {
   "cell_type": "markdown",
   "id": "dc82a291",
   "metadata": {},
   "source": [
    "Calculate the daily increase in tests conducted."
   ]
  },
  {
   "cell_type": "code",
   "execution_count": null,
   "id": "52519ef3",
   "metadata": {},
   "outputs": [],
   "source": [
    "data['daily_test_increase'] = data['tests'].diff()"
   ]
  },
  {
   "cell_type": "markdown",
   "id": "0bf75edf",
   "metadata": {},
   "source": [
    "Compute the correlation matrix to examine relationships between variables."
   ]
  },
  {
   "cell_type": "code",
   "execution_count": null,
   "id": "0435d3da",
   "metadata": {},
   "outputs": [],
   "source": [
    "correlation_matrix = data.corr()"
   ]
  },
  {
   "cell_type": "markdown",
   "id": "7280677f",
   "metadata": {},
   "source": [
    "Aggregate total confirmed cases by region."
   ]
  },
  {
   "cell_type": "code",
   "execution_count": null,
   "id": "90731545",
   "metadata": {},
   "outputs": [],
   "source": [
    "total_cases_by_region = data.groupby('region')['confirmed'].sum()"
   ]
  },
  {
   "cell_type": "markdown",
   "id": "e981d3f1",
   "metadata": {},
   "source": [
    "Visualize the number of active cases over time."
   ]
  },
  {
   "cell_type": "code",
   "execution_count": null,
   "id": "8bc718fd",
   "metadata": {},
   "outputs": [],
   "source": [
    "data['active_cases'].plot()"
   ]
  },
  {
   "cell_type": "markdown",
   "id": "cf7c79eb",
   "metadata": {},
   "source": [
    "Calculate the percentage distribution of confirmed cases."
   ]
  },
  {
   "cell_type": "code",
   "execution_count": null,
   "id": "64548a79",
   "metadata": {},
   "outputs": [],
   "source": [
    "percentage_distribution = (data['confirmed'] / data['confirmed'].sum()) * 100"
   ]
  },
  {
   "cell_type": "markdown",
   "id": "f176cd4d",
   "metadata": {},
   "source": [
    "Create a bar graph to visualize total cases."
   ]
  },
  {
   "cell_type": "code",
   "execution_count": null,
   "id": "6d4c78dd",
   "metadata": {},
   "outputs": [],
   "source": [
    "data['total_cases'].plot(kind='bar')"
   ]
  },
  {
   "cell_type": "markdown",
   "id": "426296c1",
   "metadata": {},
   "source": [
    "Initialize and fit a Prophet model for forecasting confirmed cases."
   ]
  },
  {
   "cell_type": "code",
   "execution_count": null,
   "id": "78e52627",
   "metadata": {},
   "outputs": [],
   "source": [
    "from fbprophet import Prophet\n",
    "model = Prophet()\n",
    "model.fit(data[['date', 'confirmed']])"
   ]
  },
  {
   "cell_type": "markdown",
   "id": "9ed9bc7a",
   "metadata": {},
   "source": [
    "Generate future dates for predictions and obtain forecasted values."
   ]
  },
  {
   "cell_type": "code",
   "execution_count": null,
   "id": "176484cc",
   "metadata": {},
   "outputs": [],
   "source": [
    "future = model.make_future_dataframe(periods=30)\n",
    "predictions = model.predict(future)"
   ]
  },
  {
   "cell_type": "markdown",
   "id": "d545bd59",
   "metadata": {},
   "source": [
    "Calculate predicted daily cases based on the forecast."
   ]
  },
  {
   "cell_type": "code",
   "execution_count": null,
   "id": "07fca73c",
   "metadata": {},
   "outputs": [],
   "source": [
    "new_daily_cases = predictions['yhat'].diff()"
   ]
  },
  {
   "cell_type": "markdown",
   "id": "21f4ca30",
   "metadata": {},
   "source": [
    "Estimate total deaths using the predicted confirmed cases and a defined death rate."
   ]
  },
  {
   "cell_type": "code",
   "execution_count": null,
   "id": "46a0b9ab",
   "metadata": {},
   "outputs": [],
   "source": [
    "predicted_deaths = (predictions['yhat'] * death_rate)"
   ]
  }
 ],
 "metadata": {
  "kernelspec": {
   "display_name": "Python 3",
   "language": "python",
   "name": "python3"
  },
  "language_info": {
   "codemirror_mode": {
    "name": "ipython",
    "version": 3
   },
   "file_extension": ".py",
   "mimetype": "text/x-python",
   "name": "python",
   "nbconvert_exporter": "python",
   "pygments_lexer": "ipython3",
   "version": "3.8.5"
  }
 },
 "nbformat": 4,
 "nbformat_minor": 5
}
