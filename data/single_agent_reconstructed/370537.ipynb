{
 "cells": [
  {
   "cell_type": "markdown",
   "id": "33273c3b",
   "metadata": {},
   "source": [
    "Load images from a specified folder using OpenCV."
   ]
  },
  {
   "cell_type": "code",
   "execution_count": null,
   "id": "afbaed26",
   "metadata": {},
   "outputs": [],
   "source": [
    "import cv2\n",
    "import os\n",
    "\n",
    "image_folder = 'path/to/images'\n",
    "images = [cv2.imread(os.path.join(image_folder, img)) for img in os.listdir(image_folder)]"
   ]
  },
  {
   "cell_type": "markdown",
   "id": "238631f2",
   "metadata": {},
   "source": [
    "Convert images to grayscale for easier processing."
   ]
  },
  {
   "cell_type": "code",
   "execution_count": null,
   "id": "ce3b8e72",
   "metadata": {},
   "outputs": [],
   "source": [
    "def preprocess_images(images):\n",
    "    return [cv2.cvtColor(img, cv2.COLOR_BGR2GRAY) for img in images]\n",
    "\n",
    "preprocessed_images = preprocess_images(images)"
   ]
  },
  {
   "cell_type": "markdown",
   "id": "b6d42ffc",
   "metadata": {},
   "source": [
    "Apply Canny edge detection to highlight edges in images."
   ]
  },
  {
   "cell_type": "code",
   "execution_count": null,
   "id": "2a6210c6",
   "metadata": {},
   "outputs": [],
   "source": [
    "edges = [cv2.Canny(img, 100, 200) for img in preprocessed_images]"
   ]
  },
  {
   "cell_type": "markdown",
   "id": "171da5be",
   "metadata": {},
   "source": [
    "Detect circles in the edge-detected images using Hough Transform."
   ]
  },
  {
   "cell_type": "code",
   "execution_count": null,
   "id": "af2f6983",
   "metadata": {},
   "outputs": [],
   "source": [
    "def hough_circle_transform(edges):\n",
    "    circles = []\n",
    "    for img in edges:\n",
    "        detected_circles = cv2.HoughCircles(img, cv2.HOUGH_GRADIENT, dp=1, minDist=20, param1=50, param2=30, minRadius=0, maxRadius=0)\n",
    "        circles.append(detected_circles)\n",
    "    return circles\n",
    "\n",
    "detected_circles = hough_circle_transform(edges)"
   ]
  },
  {
   "cell_type": "markdown",
   "id": "fe7a2501",
   "metadata": {},
   "source": [
    "Save the images with detected circles highlighted."
   ]
  },
  {
   "cell_type": "code",
   "execution_count": null,
   "id": "3edadf1b",
   "metadata": {},
   "outputs": [],
   "source": [
    "for i, circles in enumerate(detected_circles):\n",
    "    img_with_circles = images[i]\n",
    "    if circles is not None:\n",
    "        for circle in circles[0]:\n",
    "            cv2.circle(img_with_circles, (circle[0], circle[1]), circle[2], (0, 255, 0), 4)\n",
    "    cv2.imwrite(f'output/circles_{i}.png', img_with_circles)"
   ]
  }
 ],
 "metadata": {
  "kernelspec": {
   "display_name": "Python 3",
   "language": "python",
   "name": "python3"
  },
  "language_info": {
   "codemirror_mode": {
    "name": "ipython",
    "version": 3
   },
   "file_extension": ".py",
   "mimetype": "text/x-python",
   "name": "python",
   "nbconvert_exporter": "python",
   "pygments_lexer": "ipython3",
   "version": "3.8.5"
  }
 },
 "nbformat": 4,
 "nbformat_minor": 5
}
