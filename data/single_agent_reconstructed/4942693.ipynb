{
 "cells": [
  {
   "cell_type": "markdown",
   "id": "af83f157",
   "metadata": {},
   "source": [
    "Establish a connection to the database."
   ]
  },
  {
   "cell_type": "code",
   "execution_count": null,
   "id": "d6c2662b",
   "metadata": {},
   "outputs": [],
   "source": [
    "import sqlite3\n",
    "\n",
    "connection = sqlite3.connect('database.db')"
   ]
  },
  {
   "cell_type": "markdown",
   "id": "f1fb530c",
   "metadata": {},
   "source": [
    "Fetch international education data from the database."
   ]
  },
  {
   "cell_type": "code",
   "execution_count": null,
   "id": "cec42586",
   "metadata": {},
   "outputs": [],
   "source": [
    "education_data = connection.execute('SELECT * FROM international_education_data').fetchall()"
   ]
  },
  {
   "cell_type": "markdown",
   "id": "e57423e8",
   "metadata": {},
   "source": [
    "Query the average education spending from the database."
   ]
  },
  {
   "cell_type": "code",
   "execution_count": null,
   "id": "414675db",
   "metadata": {},
   "outputs": [],
   "source": [
    "avg_education_spending = connection.execute('SELECT AVG(spending) FROM education_spending').fetchall()"
   ]
  },
  {
   "cell_type": "markdown",
   "id": "58fe56c5",
   "metadata": {},
   "source": [
    "Query for interesting indicator codes from the indicators table."
   ]
  },
  {
   "cell_type": "code",
   "execution_count": null,
   "id": "67d8a279",
   "metadata": {},
   "outputs": [],
   "source": [
    "interesting_indicator_codes = connection.execute('SELECT code FROM indicators WHERE interesting = 1').fetchall()"
   ]
  },
  {
   "cell_type": "markdown",
   "id": "5afb7a17",
   "metadata": {},
   "source": [
    "Visualize the results for the interesting indicator codes using a boxplot."
   ]
  },
  {
   "cell_type": "code",
   "execution_count": null,
   "id": "c6847168",
   "metadata": {},
   "outputs": [],
   "source": [
    "import matplotlib.pyplot as plt\n",
    "plt.boxplot([data1, data2, data3])\n",
    "plt.show()"
   ]
  },
  {
   "cell_type": "markdown",
   "id": "35053cac",
   "metadata": {},
   "source": [
    "Visualize the average education percentage results using a bar chart."
   ]
  },
  {
   "cell_type": "code",
   "execution_count": null,
   "id": "d1f16dfb",
   "metadata": {},
   "outputs": [],
   "source": [
    "plt.bar(['A', 'B', 'C'], [valueA, valueB, valueC])\n",
    "plt.show()"
   ]
  }
 ],
 "metadata": {
  "kernelspec": {
   "display_name": "Python 3",
   "language": "python",
   "name": "python3"
  },
  "language_info": {
   "codemirror_mode": {
    "name": "ipython",
    "version": 3
   },
   "file_extension": ".py",
   "mimetype": "text/x-python",
   "name": "python",
   "nbconvert_exporter": "python",
   "pygments_lexer": "ipython3",
   "version": "3.8.5"
  }
 },
 "nbformat": 4,
 "nbformat_minor": 5
}
