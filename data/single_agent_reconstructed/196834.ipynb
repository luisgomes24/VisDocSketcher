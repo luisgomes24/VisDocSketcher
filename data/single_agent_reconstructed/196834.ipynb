{
 "cells": [
  {
   "cell_type": "markdown",
   "id": "e605cc16",
   "metadata": {},
   "source": [
    "Load training data from a CSV file into a DataFrame."
   ]
  },
  {
   "cell_type": "code",
   "execution_count": null,
   "id": "f7798b72",
   "metadata": {},
   "outputs": [],
   "source": [
    "import pandas as pd\n",
    "train_data = pd.read_csv('train_data.csv')"
   ]
  },
  {
   "cell_type": "markdown",
   "id": "d0fce407",
   "metadata": {},
   "source": [
    "Load test data from a CSV file into a DataFrame."
   ]
  },
  {
   "cell_type": "code",
   "execution_count": null,
   "id": "81bf8c13",
   "metadata": {},
   "outputs": [],
   "source": [
    "test_data = pd.read_csv('test_data.csv')"
   ]
  },
  {
   "cell_type": "markdown",
   "id": "b98ccac0",
   "metadata": {},
   "source": [
    "Preprocess the data by standardizing it using StandardScaler."
   ]
  },
  {
   "cell_type": "code",
   "execution_count": null,
   "id": "6c168fdb",
   "metadata": {},
   "outputs": [],
   "source": [
    "from sklearn.preprocessing import StandardScaler\n",
    "scaler = StandardScaler()\n",
    "train_data_scaled = scaler.fit_transform(train_data)\n",
    "test_data_scaled = scaler.transform(test_data)"
   ]
  },
  {
   "cell_type": "markdown",
   "id": "bc93ecc3",
   "metadata": {},
   "source": [
    "Train a model using Singular Value Decomposition (SVD) on the scaled training data."
   ]
  },
  {
   "cell_type": "code",
   "execution_count": null,
   "id": "350c443e",
   "metadata": {},
   "outputs": [],
   "source": [
    "from sklearn.decomposition import TruncatedSVD\n",
    "svd = TruncatedSVD(n_components=2)\n",
    "train_data_svd = svd.fit_transform(train_data_scaled)"
   ]
  },
  {
   "cell_type": "markdown",
   "id": "ac5a87df",
   "metadata": {},
   "source": [
    "Visualize similarity results using a scatter plot of the SVD output."
   ]
  },
  {
   "cell_type": "code",
   "execution_count": null,
   "id": "da7d40b3",
   "metadata": {},
   "outputs": [],
   "source": [
    "import matplotlib.pyplot as plt\n",
    "plt.scatter(train_data_svd[:, 0], train_data_svd[:, 1])\n",
    "plt.title('Similarity Results')\n",
    "plt.xlabel('Component 1')\n",
    "plt.ylabel('Component 2')\n",
    "plt.show()"
   ]
  },
  {
   "cell_type": "markdown",
   "id": "ff4df405",
   "metadata": {},
   "source": [
    "Visualize the training data in the SVD-transformed space."
   ]
  },
  {
   "cell_type": "code",
   "execution_count": null,
   "id": "28c08826",
   "metadata": {},
   "outputs": [],
   "source": [
    "plt.scatter(train_data_svd[:, 0], train_data_svd[:, 1])\n",
    "plt.title('Training Data Visualization')\n",
    "plt.xlabel('Component 1')\n",
    "plt.ylabel('Component 2')\n",
    "plt.show()"
   ]
  },
  {
   "cell_type": "markdown",
   "id": "163c0d16",
   "metadata": {},
   "source": [
    "Visualize the test data in the SVD-transformed space."
   ]
  },
  {
   "cell_type": "code",
   "execution_count": null,
   "id": "fa891071",
   "metadata": {},
   "outputs": [],
   "source": [
    "test_data_svd = svd.transform(test_data_scaled)\n",
    "plt.scatter(test_data_svd[:, 0], test_data_svd[:, 1])\n",
    "plt.title('Test Data Visualization')\n",
    "plt.xlabel('Component 1')\n",
    "plt.ylabel('Component 2')\n",
    "plt.show()"
   ]
  },
  {
   "cell_type": "markdown",
   "id": "480495ad",
   "metadata": {},
   "source": [
    "Display an image from the training data."
   ]
  },
  {
   "cell_type": "code",
   "execution_count": null,
   "id": "5c280433",
   "metadata": {},
   "outputs": [],
   "source": [
    "plt.imshow(train_data.iloc[0].reshape(28, 28), cmap='gray')\n",
    "plt.title('Image Results')\n",
    "plt.axis('off')\n",
    "plt.show()"
   ]
  }
 ],
 "metadata": {
  "kernelspec": {
   "display_name": "Python 3",
   "language": "python",
   "name": "python3"
  },
  "language_info": {
   "codemirror_mode": {
    "name": "ipython",
    "version": 3
   },
   "file_extension": ".py",
   "mimetype": "text/x-python",
   "name": "python",
   "nbconvert_exporter": "python",
   "pygments_lexer": "ipython3",
   "version": "3.8.5"
  }
 },
 "nbformat": 4,
 "nbformat_minor": 5
}
