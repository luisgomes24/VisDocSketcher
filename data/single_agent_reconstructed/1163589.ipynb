{
 "cells": [
  {
   "cell_type": "markdown",
   "id": "6858a7b1",
   "metadata": {},
   "source": [
    "Load training and testing datasets using pandas."
   ]
  },
  {
   "cell_type": "code",
   "execution_count": null,
   "id": "a1333b77",
   "metadata": {},
   "outputs": [],
   "source": [
    "import pandas as pd\n",
    "train_data = pd.read_csv('train.csv')\n",
    "test_data = pd.read_csv('test.csv')"
   ]
  },
  {
   "cell_type": "markdown",
   "id": "b12add23",
   "metadata": {},
   "source": [
    "Explore the data by generating descriptive statistics."
   ]
  },
  {
   "cell_type": "code",
   "execution_count": null,
   "id": "33560335",
   "metadata": {},
   "outputs": [],
   "source": [
    "train_data.describe()"
   ]
  },
  {
   "cell_type": "markdown",
   "id": "4178599f",
   "metadata": {},
   "source": [
    "Handle missing values by filling them with column mean."
   ]
  },
  {
   "cell_type": "code",
   "execution_count": null,
   "id": "4dd92a71",
   "metadata": {},
   "outputs": [],
   "source": [
    "train_data.fillna(train_data.mean(), inplace=True)"
   ]
  },
  {
   "cell_type": "markdown",
   "id": "cf9cea3f",
   "metadata": {},
   "source": [
    "Visualize the distribution of the 'Embarked' feature."
   ]
  },
  {
   "cell_type": "code",
   "execution_count": null,
   "id": "9d1cee7d",
   "metadata": {},
   "outputs": [],
   "source": [
    "import seaborn as sns\n",
    "sns.countplot(x='Embarked', data=train_data)"
   ]
  },
  {
   "cell_type": "markdown",
   "id": "5f9788b7",
   "metadata": {},
   "source": [
    "Visualize the distribution of fare prices."
   ]
  },
  {
   "cell_type": "code",
   "execution_count": null,
   "id": "f01e524a",
   "metadata": {},
   "outputs": [],
   "source": [
    "import matplotlib.pyplot as plt\n",
    "plt.hist(train_data['Fare'])\n",
    "plt.title('Fare Distribution')\n",
    "plt.show()"
   ]
  },
  {
   "cell_type": "markdown",
   "id": "55f93ca6",
   "metadata": {},
   "source": [
    "Train a Logistic Regression model on the training data."
   ]
  },
  {
   "cell_type": "code",
   "execution_count": null,
   "id": "06d2d4f9",
   "metadata": {},
   "outputs": [],
   "source": [
    "from sklearn.linear_model import LogisticRegression\n",
    "log_reg = LogisticRegression()\n",
    "log_reg.fit(X_train, y_train)"
   ]
  },
  {
   "cell_type": "markdown",
   "id": "4d512cde",
   "metadata": {},
   "source": [
    "Train a Support Vector Machine model."
   ]
  },
  {
   "cell_type": "code",
   "execution_count": null,
   "id": "2551add5",
   "metadata": {},
   "outputs": [],
   "source": [
    "from sklearn.svm import SVC\n",
    "svm_model = SVC()\n",
    "svm_model.fit(X_train, y_train)"
   ]
  },
  {
   "cell_type": "markdown",
   "id": "306153e6",
   "metadata": {},
   "source": [
    "Train a Random Forest model."
   ]
  },
  {
   "cell_type": "code",
   "execution_count": null,
   "id": "cac34e67",
   "metadata": {},
   "outputs": [],
   "source": [
    "from sklearn.ensemble import RandomForestClassifier\n",
    "rf_model = RandomForestClassifier()\n",
    "rf_model.fit(X_train, y_train)"
   ]
  },
  {
   "cell_type": "markdown",
   "id": "7b9886e9",
   "metadata": {},
   "source": [
    "Train a K-Nearest Neighbors model."
   ]
  },
  {
   "cell_type": "code",
   "execution_count": null,
   "id": "35f172d7",
   "metadata": {},
   "outputs": [],
   "source": [
    "from sklearn.neighbors import KNeighborsClassifier\n",
    "knn_model = KNeighborsClassifier()\n",
    "knn_model.fit(X_train, y_train)"
   ]
  },
  {
   "cell_type": "markdown",
   "id": "0204c6fe",
   "metadata": {},
   "source": [
    "Train a Naive Bayes model."
   ]
  },
  {
   "cell_type": "code",
   "execution_count": null,
   "id": "0a354043",
   "metadata": {},
   "outputs": [],
   "source": [
    "from sklearn.naive_bayes import GaussianNB\n",
    "nb_model = GaussianNB()\n",
    "nb_model.fit(X_train, y_train)"
   ]
  },
  {
   "cell_type": "markdown",
   "id": "fb4805bb",
   "metadata": {},
   "source": [
    "Evaluate the model's performance using accuracy."
   ]
  },
  {
   "cell_type": "code",
   "execution_count": null,
   "id": "e3efb228",
   "metadata": {},
   "outputs": [],
   "source": [
    "from sklearn.metrics import accuracy_score\n",
    "accuracy = accuracy_score(y_test, y_pred)"
   ]
  },
  {
   "cell_type": "markdown",
   "id": "32615a6a",
   "metadata": {},
   "source": [
    "Generate a submission file for predictions."
   ]
  },
  {
   "cell_type": "code",
   "execution_count": null,
   "id": "05925fc2",
   "metadata": {},
   "outputs": [],
   "source": [
    "submission = pd.DataFrame({'PassengerId': test_data['PassengerId'], 'Survived': y_pred})\n",
    "submission.to_csv('submission.csv', index=False)"
   ]
  }
 ],
 "metadata": {
  "kernelspec": {
   "display_name": "Python 3",
   "language": "python",
   "name": "python3"
  },
  "language_info": {
   "codemirror_mode": {
    "name": "ipython",
    "version": 3
   },
   "file_extension": ".py",
   "mimetype": "text/x-python",
   "name": "python",
   "nbconvert_exporter": "python",
   "pygments_lexer": "ipython3",
   "version": "3.8.5"
  }
 },
 "nbformat": 4,
 "nbformat_minor": 5
}
