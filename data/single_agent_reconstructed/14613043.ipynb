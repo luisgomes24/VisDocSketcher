{
 "cells": [
  {
   "cell_type": "markdown",
   "id": "9d8a4f8f",
   "metadata": {},
   "source": [
    "Load the training, testing, and sample data from CSV files."
   ]
  },
  {
   "cell_type": "code",
   "execution_count": null,
   "id": "8547e1fb",
   "metadata": {},
   "outputs": [],
   "source": [
    "import pandas as pd\n",
    "df_train = pd.read_csv('train.csv')\n",
    "df_test = pd.read_csv('test.csv')\n",
    "df_sample = pd.read_csv('sample.csv')"
   ]
  },
  {
   "cell_type": "markdown",
   "id": "4ce4fbe6",
   "metadata": {},
   "source": [
    "Preprocess data using One-Hot Encoding for categorical features."
   ]
  },
  {
   "cell_type": "code",
   "execution_count": null,
   "id": "f4497e33",
   "metadata": {},
   "outputs": [],
   "source": [
    "from sklearn.preprocessing import OneHotEncoder\n",
    "encoder = OneHotEncoder()\n",
    "train_ohe = encoder.fit_transform(df_train[['categorical_column']]).toarray()\n",
    "test_ohe = encoder.transform(df_test[['categorical_column']]).toarray()"
   ]
  },
  {
   "cell_type": "markdown",
   "id": "a6e46e74",
   "metadata": {},
   "source": [
    "Combine One-Hot Encoded features with numerical features."
   ]
  },
  {
   "cell_type": "code",
   "execution_count": null,
   "id": "dd1a386d",
   "metadata": {},
   "outputs": [],
   "source": [
    "import numpy as np\n",
    "train_x = np.concatenate([train_ohe, df_train[['numerical_column']].values], axis=1)\n",
    "test_x = np.concatenate([test_ohe, df_test[['numerical_column']].values], axis=1)"
   ]
  },
  {
   "cell_type": "markdown",
   "id": "9b005552",
   "metadata": {},
   "source": [
    "Train the LightGBM model using the prepared training features."
   ]
  },
  {
   "cell_type": "code",
   "execution_count": null,
   "id": "c0b07227",
   "metadata": {},
   "outputs": [],
   "source": [
    "from lightgbm import LGBMRegressor\n",
    "model = LGBMRegressor()\n",
    "model.fit(train_x, df_train['target'])"
   ]
  },
  {
   "cell_type": "markdown",
   "id": "48deeca1",
   "metadata": {},
   "source": [
    "Optimize model parameters with Optuna's TunerCV."
   ]
  },
  {
   "cell_type": "code",
   "execution_count": null,
   "id": "4d809759",
   "metadata": {},
   "outputs": [],
   "source": [
    "from optuna import create_study\n",
    "study = create_study()\n",
    "study.optimize(lambda trial: ... , n_trials=100)"
   ]
  },
  {
   "cell_type": "markdown",
   "id": "9fa80ed2",
   "metadata": {},
   "source": [
    "Calculate feature importance from the trained model."
   ]
  },
  {
   "cell_type": "code",
   "execution_count": null,
   "id": "36285d31",
   "metadata": {},
   "outputs": [],
   "source": [
    "importances = model.feature_importances_"
   ]
  },
  {
   "cell_type": "markdown",
   "id": "37f2b231",
   "metadata": {},
   "source": [
    "Evaluate the model by calculating the RMSE on the test dataset."
   ]
  },
  {
   "cell_type": "code",
   "execution_count": null,
   "id": "0ef59d55",
   "metadata": {},
   "outputs": [],
   "source": [
    "from sklearn.metrics import mean_squared_error\n",
    "preds = model.predict(test_x)\n",
    "rmse = np.sqrt(mean_squared_error(df_test['target'], preds))"
   ]
  },
  {
   "cell_type": "markdown",
   "id": "394e9cb6",
   "metadata": {},
   "source": [
    "Prepare and save the submission file as a CSV."
   ]
  },
  {
   "cell_type": "code",
   "execution_count": null,
   "id": "920ae0df",
   "metadata": {},
   "outputs": [],
   "source": [
    "submission = pd.DataFrame({'Id': df_test['Id'], 'Predicted': preds})\n",
    "submission.to_csv('submission_optuna_lgbm_ohe_v1.csv', index=False)"
   ]
  }
 ],
 "metadata": {
  "kernelspec": {
   "display_name": "Python 3",
   "language": "python",
   "name": "python3"
  },
  "language_info": {
   "codemirror_mode": {
    "name": "ipython",
    "version": 3
   },
   "file_extension": ".py",
   "mimetype": "text/x-python",
   "name": "python",
   "nbconvert_exporter": "python",
   "pygments_lexer": "ipython3",
   "version": "3.8.5"
  }
 },
 "nbformat": 4,
 "nbformat_minor": 5
}
