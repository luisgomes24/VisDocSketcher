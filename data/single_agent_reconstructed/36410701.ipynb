{
 "cells": [
  {
   "cell_type": "markdown",
   "id": "6d4b5979",
   "metadata": {},
   "source": [
    "Load data from a CSV file into a pandas DataFrame."
   ]
  },
  {
   "cell_type": "code",
   "execution_count": null,
   "id": "d00ca6f7",
   "metadata": {},
   "outputs": [],
   "source": [
    "import pandas as pd\n",
    "\n",
    "data = pd.read_csv('data.csv')"
   ]
  },
  {
   "cell_type": "markdown",
   "id": "abec7450",
   "metadata": {},
   "source": [
    "Prepare the data by splitting it into training and testing sets."
   ]
  },
  {
   "cell_type": "code",
   "execution_count": null,
   "id": "764fcf85",
   "metadata": {},
   "outputs": [],
   "source": [
    "from sklearn.model_selection import train_test_split\n",
    "\n",
    "train_data, test_data = train_test_split(data, test_size=0.2)"
   ]
  },
  {
   "cell_type": "markdown",
   "id": "7d79255a",
   "metadata": {},
   "source": [
    "Visualize images using a boxplot to analyze feature distributions."
   ]
  },
  {
   "cell_type": "code",
   "execution_count": null,
   "id": "597965e3",
   "metadata": {},
   "outputs": [],
   "source": [
    "import matplotlib.pyplot as plt\n",
    "\n",
    "plt.boxplot(data['feature'])\n",
    "plt.title('Boxplot of Features')\n",
    "plt.show()"
   ]
  },
  {
   "cell_type": "markdown",
   "id": "e496f742",
   "metadata": {},
   "source": [
    "Show EDA with a barplot depicting the distribution of class labels."
   ]
  },
  {
   "cell_type": "code",
   "execution_count": null,
   "id": "69211418",
   "metadata": {},
   "outputs": [],
   "source": [
    "import seaborn as sns\n",
    "\n",
    "sns.countplot(x='label', data=data)\n",
    "plt.title('Barplot of Class Distribution')\n",
    "plt.show()"
   ]
  },
  {
   "cell_type": "markdown",
   "id": "05f77064",
   "metadata": {},
   "source": [
    "Build a CoatNet model using Keras."
   ]
  },
  {
   "cell_type": "code",
   "execution_count": null,
   "id": "326fc951",
   "metadata": {},
   "outputs": [],
   "source": [
    "from keras.models import Sequential\n",
    "from keras.layers import Conv2D, MaxPooling2D, Flatten, Dense\n",
    "\n",
    "model = Sequential()\n",
    "model.add(Conv2D(32, (3, 3), activation='relu', input_shape=(image_height, image_width, channels)))\n",
    "model.add(MaxPooling2D(pool_size=(2, 2)))\n",
    "model.add(Flatten())\n",
    "model.add(Dense(64, activation='relu'))\n",
    "model.add(Dense(num_classes, activation='softmax'))"
   ]
  },
  {
   "cell_type": "markdown",
   "id": "1071ed0e",
   "metadata": {},
   "source": [
    "Compile the model with an optimizer and loss function."
   ]
  },
  {
   "cell_type": "code",
   "execution_count": null,
   "id": "baa412b4",
   "metadata": {},
   "outputs": [],
   "source": [
    "model.compile(optimizer='adam', loss='sparse_categorical_crossentropy', metrics=['accuracy'])"
   ]
  },
  {
   "cell_type": "markdown",
   "id": "1cc3cc02",
   "metadata": {},
   "source": [
    "Train the model on the training data for a specified number of epochs."
   ]
  },
  {
   "cell_type": "code",
   "execution_count": null,
   "id": "7eb3508d",
   "metadata": {},
   "outputs": [],
   "source": [
    "history = model.fit(train_data, train_labels, epochs=10, validation_data=(test_data, test_labels))"
   ]
  },
  {
   "cell_type": "markdown",
   "id": "d9815556",
   "metadata": {},
   "source": [
    "Evaluate the model using the test data to obtain loss and accuracy."
   ]
  },
  {
   "cell_type": "code",
   "execution_count": null,
   "id": "99554fa7",
   "metadata": {},
   "outputs": [],
   "source": [
    "loss, accuracy = model.evaluate(test_data, test_labels)"
   ]
  },
  {
   "cell_type": "markdown",
   "id": "5395f926",
   "metadata": {},
   "source": [
    "Plot training loss and accuracy over the epochs."
   ]
  },
  {
   "cell_type": "code",
   "execution_count": null,
   "id": "be399e6b",
   "metadata": {},
   "outputs": [],
   "source": [
    "plt.plot(history.history['loss'], label='Loss')\n",
    "plt.plot(history.history['accuracy'], label='Accuracy')\n",
    "plt.title('Loss and Accuracy over Epochs')\n",
    "plt.legend()\n",
    "plt.show()"
   ]
  },
  {
   "cell_type": "markdown",
   "id": "f7ba16b7",
   "metadata": {},
   "source": [
    "Make predictions using the trained model on test data."
   ]
  },
  {
   "cell_type": "code",
   "execution_count": null,
   "id": "afce74c4",
   "metadata": {},
   "outputs": [],
   "source": [
    "predictions = model.predict(test_data)"
   ]
  },
  {
   "cell_type": "markdown",
   "id": "a2ae09e2",
   "metadata": {},
   "source": [
    "Generate and visualize the confusion matrix."
   ]
  },
  {
   "cell_type": "code",
   "execution_count": null,
   "id": "5903c456",
   "metadata": {},
   "outputs": [],
   "source": [
    "from sklearn.metrics import confusion_matrix\n",
    "import seaborn as sns\n",
    "\n",
    "cm = confusion_matrix(test_labels, predictions.argmax(axis=1))\n",
    "sns.heatmap(cm, annot=True)\n",
    "plt.title('Confusion Matrix Visualization')\n",
    "plt.show()"
   ]
  },
  {
   "cell_type": "markdown",
   "id": "37c98428",
   "metadata": {},
   "source": [
    "Display the classification report with precision, recall, and F1-score."
   ]
  },
  {
   "cell_type": "code",
   "execution_count": null,
   "id": "a7d63558",
   "metadata": {},
   "outputs": [],
   "source": [
    "from sklearn.metrics import classification_report\n",
    "\n",
    "report = classification_report(test_labels, predictions.argmax(axis=1))\n",
    "print(report)"
   ]
  },
  {
   "cell_type": "markdown",
   "id": "0b313b31",
   "metadata": {},
   "source": [
    "Calculate and display aggregated classification metrics like accuracy."
   ]
  },
  {
   "cell_type": "code",
   "execution_count": null,
   "id": "4c27ba2a",
   "metadata": {},
   "outputs": [],
   "source": [
    "from sklearn.metrics import accuracy_score\n",
    "\n",
    "accuracy = accuracy_score(test_labels, predictions.argmax(axis=1))\n",
    "print(f'Aggregated Accuracy: {accuracy}')"
   ]
  }
 ],
 "metadata": {
  "kernelspec": {
   "display_name": "Python 3",
   "language": "python",
   "name": "python3"
  },
  "language_info": {
   "codemirror_mode": {
    "name": "ipython",
    "version": 3
   },
   "file_extension": ".py",
   "mimetype": "text/x-python",
   "name": "python",
   "nbconvert_exporter": "python",
   "pygments_lexer": "ipython3",
   "version": "3.8.5"
  }
 },
 "nbformat": 4,
 "nbformat_minor": 5
}
