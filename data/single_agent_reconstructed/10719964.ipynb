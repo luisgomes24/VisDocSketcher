{
 "cells": [
  {
   "cell_type": "markdown",
   "id": "5ee84146",
   "metadata": {},
   "source": [
    "Load the dataset from a CSV file using Pandas."
   ]
  },
  {
   "cell_type": "code",
   "execution_count": null,
   "id": "a09f0932",
   "metadata": {},
   "outputs": [],
   "source": [
    "import pandas as pd\n",
    "data = pd.read_csv('data.csv')"
   ]
  },
  {
   "cell_type": "markdown",
   "id": "9b38c979",
   "metadata": {},
   "source": [
    "Preprocess the data by dropping missing values and resetting the index."
   ]
  },
  {
   "cell_type": "code",
   "execution_count": null,
   "id": "c8d4adb1",
   "metadata": {},
   "outputs": [],
   "source": [
    "def preprocess_data(data): return data.dropna().reset_index(drop=True)"
   ]
  },
  {
   "cell_type": "markdown",
   "id": "7db763db",
   "metadata": {},
   "source": [
    "Clean the text by removing non-alphanumeric characters."
   ]
  },
  {
   "cell_type": "code",
   "execution_count": null,
   "id": "fc1d20b5",
   "metadata": {},
   "outputs": [],
   "source": [
    "def clean_text(text): return text.str.replace('[^a-zA-Z0-9 ]', '', regex=True)"
   ]
  },
  {
   "cell_type": "markdown",
   "id": "0084936b",
   "metadata": {},
   "source": [
    "Tokenize the cleaned text into individual words."
   ]
  },
  {
   "cell_type": "code",
   "execution_count": null,
   "id": "84ea6029",
   "metadata": {},
   "outputs": [],
   "source": [
    "from nltk.tokenize import word_tokenize\n",
    "data['tokens'] = data['text'].apply(word_tokenize)"
   ]
  },
  {
   "cell_type": "markdown",
   "id": "4aa5da07",
   "metadata": {},
   "source": [
    "Calculate summary statistics for the claps metric."
   ]
  },
  {
   "cell_type": "code",
   "execution_count": null,
   "id": "ab37a3e6",
   "metadata": {},
   "outputs": [],
   "source": [
    "data['claps'] = data['claps'].describe()"
   ]
  },
  {
   "cell_type": "markdown",
   "id": "63a364c1",
   "metadata": {},
   "source": [
    "Visualize the distribution of claps per hero using a bar chart."
   ]
  },
  {
   "cell_type": "code",
   "execution_count": null,
   "id": "23595519",
   "metadata": {},
   "outputs": [],
   "source": [
    "import matplotlib.pyplot as plt\n",
    "plt.bar(data['heroes'], data['claps'])\n",
    "plt.title('Claps by Heroes')\n",
    "plt.show()"
   ]
  },
  {
   "cell_type": "markdown",
   "id": "3ccaf7ba",
   "metadata": {},
   "source": [
    "Create a boxplot to display the lengths of scripts."
   ]
  },
  {
   "cell_type": "code",
   "execution_count": null,
   "id": "e237bfc2",
   "metadata": {},
   "outputs": [],
   "source": [
    "plt.boxplot(data['script_lengths'])\n",
    "plt.title('Boxplot of Script Lengths')\n",
    "plt.show()"
   ]
  },
  {
   "cell_type": "markdown",
   "id": "98ddb500",
   "metadata": {},
   "source": [
    "Display a histogram showing the frequency distribution of word counts."
   ]
  },
  {
   "cell_type": "code",
   "execution_count": null,
   "id": "2a44546a",
   "metadata": {},
   "outputs": [],
   "source": [
    "plt.hist(data['word_counts'], bins=10)\n",
    "plt.title('Frequency Distribution of Words')\n",
    "plt.show()"
   ]
  }
 ],
 "metadata": {
  "kernelspec": {
   "display_name": "Python 3",
   "language": "python",
   "name": "python3"
  },
  "language_info": {
   "codemirror_mode": {
    "name": "ipython",
    "version": 3
   },
   "file_extension": ".py",
   "mimetype": "text/x-python",
   "name": "python",
   "nbconvert_exporter": "python",
   "pygments_lexer": "ipython3",
   "version": "3.8.5"
  }
 },
 "nbformat": 4,
 "nbformat_minor": 5
}
