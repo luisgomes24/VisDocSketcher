{
 "cells": [
  {
   "cell_type": "markdown",
   "id": "444ce77e",
   "metadata": {},
   "source": [
    "Load the dataset from a CSV file into a pandas DataFrame."
   ]
  },
  {
   "cell_type": "code",
   "execution_count": null,
   "id": "7ee4cb7c",
   "metadata": {},
   "outputs": [],
   "source": [
    "data = pd.read_csv('file.csv')"
   ]
  },
  {
   "cell_type": "markdown",
   "id": "7643a1f9",
   "metadata": {},
   "source": [
    "Convert the 'Date' column to datetime format for easier analysis."
   ]
  },
  {
   "cell_type": "code",
   "execution_count": null,
   "id": "cdb3da22",
   "metadata": {},
   "outputs": [],
   "source": [
    "data['Date'] = pd.to_datetime(data['Date'])"
   ]
  },
  {
   "cell_type": "markdown",
   "id": "f6258352",
   "metadata": {},
   "source": [
    "Visualize the average humidity using a line plot."
   ]
  },
  {
   "cell_type": "code",
   "execution_count": null,
   "id": "2413d467",
   "metadata": {},
   "outputs": [],
   "source": [
    "year_humi.plot()"
   ]
  },
  {
   "cell_type": "markdown",
   "id": "b4526c43",
   "metadata": {},
   "source": [
    "Visualize the average heat temperature using a line plot."
   ]
  },
  {
   "cell_type": "code",
   "execution_count": null,
   "id": "2a42f55e",
   "metadata": {},
   "outputs": [],
   "source": [
    "year_heat.plot()"
   ]
  },
  {
   "cell_type": "markdown",
   "id": "422ee4e6",
   "metadata": {},
   "source": [
    "Visualize the average rainfall using a line plot."
   ]
  },
  {
   "cell_type": "code",
   "execution_count": null,
   "id": "4453756e",
   "metadata": {},
   "outputs": [],
   "source": [
    "year_rain.plot()"
   ]
  },
  {
   "cell_type": "markdown",
   "id": "2b9ec0c7",
   "metadata": {},
   "source": [
    "Create a strip plot to visualize the correlation between humidity and heat."
   ]
  },
  {
   "cell_type": "code",
   "execution_count": null,
   "id": "a2948f04",
   "metadata": {},
   "outputs": [],
   "source": [
    "sns.stripplot(x='Humidity', y='Heat', data=data)"
   ]
  },
  {
   "cell_type": "markdown",
   "id": "60485d3f",
   "metadata": {},
   "source": [
    "Generate heatmaps for the weather data."
   ]
  },
  {
   "cell_type": "code",
   "execution_count": null,
   "id": "3137a111",
   "metadata": {},
   "outputs": [],
   "source": [
    "weather_calendar()"
   ]
  },
  {
   "cell_type": "markdown",
   "id": "e29b0a36",
   "metadata": {},
   "source": [
    "Create a weather calendar to visualize rain data."
   ]
  },
  {
   "cell_type": "code",
   "execution_count": null,
   "id": "eb598760",
   "metadata": {},
   "outputs": [],
   "source": [
    "weather_calendar()"
   ]
  },
  {
   "cell_type": "markdown",
   "id": "7c0732b7",
   "metadata": {},
   "source": [
    "Generate a weather calendar to visualize fog data."
   ]
  },
  {
   "cell_type": "code",
   "execution_count": null,
   "id": "b07f3732",
   "metadata": {},
   "outputs": [],
   "source": [
    "weather_calendar()"
   ]
  }
 ],
 "metadata": {
  "kernelspec": {
   "display_name": "Python 3",
   "language": "python",
   "name": "python3"
  },
  "language_info": {
   "codemirror_mode": {
    "name": "ipython",
    "version": 3
   },
   "file_extension": ".py",
   "mimetype": "text/x-python",
   "name": "python",
   "nbconvert_exporter": "python",
   "pygments_lexer": "ipython3",
   "version": "3.8.5"
  }
 },
 "nbformat": 4,
 "nbformat_minor": 5
}
