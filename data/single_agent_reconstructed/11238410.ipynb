{
 "cells": [
  {
   "cell_type": "markdown",
   "id": "7c916dff",
   "metadata": {},
   "source": [
    "Load the dataset from a CSV file into a Pandas DataFrame."
   ]
  },
  {
   "cell_type": "code",
   "execution_count": null,
   "id": "d881df50",
   "metadata": {},
   "outputs": [],
   "source": [
    "import pandas as pd\n",
    "data = pd.read_csv('data.csv')"
   ]
  },
  {
   "cell_type": "markdown",
   "id": "7c38d983",
   "metadata": {},
   "source": [
    "Explore the data by displaying the first few rows and summary statistics."
   ]
  },
  {
   "cell_type": "code",
   "execution_count": null,
   "id": "cbbff9af",
   "metadata": {},
   "outputs": [],
   "source": [
    "print(data.head())\n",
    "print(data.describe())"
   ]
  },
  {
   "cell_type": "markdown",
   "id": "40257f98",
   "metadata": {},
   "source": [
    "Create distribution plots for a specified column using Seaborn."
   ]
  },
  {
   "cell_type": "code",
   "execution_count": null,
   "id": "50fac771",
   "metadata": {},
   "outputs": [],
   "source": [
    "import seaborn as sns\n",
    "import matplotlib.pyplot as plt\n",
    "sns.histplot(data['column_name'])\n",
    "plt.show()"
   ]
  },
  {
   "cell_type": "markdown",
   "id": "e7f5ff50",
   "metadata": {},
   "source": [
    "Load a second dataset from a CSV file into another DataFrame."
   ]
  },
  {
   "cell_type": "code",
   "execution_count": null,
   "id": "07777f81",
   "metadata": {},
   "outputs": [],
   "source": [
    "data2 = pd.read_csv('data2.csv')"
   ]
  },
  {
   "cell_type": "markdown",
   "id": "381e7cdf",
   "metadata": {},
   "source": [
    "Explore the second dataset by displaying its first few rows and summary statistics."
   ]
  },
  {
   "cell_type": "code",
   "execution_count": null,
   "id": "61554339",
   "metadata": {},
   "outputs": [],
   "source": [
    "print(data2.head())\n",
    "print(data2.describe())"
   ]
  },
  {
   "cell_type": "markdown",
   "id": "21b08dc8",
   "metadata": {},
   "source": [
    "Create distribution plots for a specified column in the second dataset."
   ]
  },
  {
   "cell_type": "code",
   "execution_count": null,
   "id": "ae599641",
   "metadata": {},
   "outputs": [],
   "source": [
    "sns.histplot(data2['column_name'])\n",
    "plt.show()"
   ]
  }
 ],
 "metadata": {
  "kernelspec": {
   "display_name": "Python 3",
   "language": "python",
   "name": "python3"
  },
  "language_info": {
   "codemirror_mode": {
    "name": "ipython",
    "version": 3
   },
   "file_extension": ".py",
   "mimetype": "text/x-python",
   "name": "python",
   "nbconvert_exporter": "python",
   "pygments_lexer": "ipython3",
   "version": "3.8.5"
  }
 },
 "nbformat": 4,
 "nbformat_minor": 5
}
