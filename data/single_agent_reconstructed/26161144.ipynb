{
 "cells": [
  {
   "cell_type": "markdown",
   "id": "af35ddd7",
   "metadata": {},
   "source": [
    "Load the toy dataset from a CSV file using pandas."
   ]
  },
  {
   "cell_type": "code",
   "execution_count": null,
   "id": "1eef37fd",
   "metadata": {},
   "outputs": [],
   "source": [
    "import pandas as pd\n",
    "\n",
    "data = pd.read_csv('toy_data_1.csv')"
   ]
  },
  {
   "cell_type": "markdown",
   "id": "cb1c318e",
   "metadata": {},
   "source": [
    "Initialize the Decision Tree Classifier."
   ]
  },
  {
   "cell_type": "code",
   "execution_count": null,
   "id": "a222a8d0",
   "metadata": {},
   "outputs": [],
   "source": [
    "from sklearn.tree import DecisionTreeClassifier\n",
    "\n",
    "decision_tree = DecisionTreeClassifier()"
   ]
  },
  {
   "cell_type": "markdown",
   "id": "5b9cde9b",
   "metadata": {},
   "source": [
    "Fit the Decision Tree model on the training data."
   ]
  },
  {
   "cell_type": "code",
   "execution_count": null,
   "id": "75f33e9b",
   "metadata": {},
   "outputs": [],
   "source": [
    "decision_tree.fit(X_train, y_train)"
   ]
  },
  {
   "cell_type": "markdown",
   "id": "e325b376",
   "metadata": {},
   "source": [
    "Make predictions on the toy data using the fitted model."
   ]
  },
  {
   "cell_type": "code",
   "execution_count": null,
   "id": "f36bf57a",
   "metadata": {},
   "outputs": [],
   "source": [
    "predictions = decision_tree.predict(X_test)"
   ]
  },
  {
   "cell_type": "markdown",
   "id": "05ce5c48",
   "metadata": {},
   "source": [
    "Load the breast cancer dataset from a CSV file."
   ]
  },
  {
   "cell_type": "code",
   "execution_count": null,
   "id": "f7ad5a04",
   "metadata": {},
   "outputs": [],
   "source": [
    "breast_cancer_data = pd.read_csv('breast_cancer.csv')"
   ]
  },
  {
   "cell_type": "markdown",
   "id": "895e3c62",
   "metadata": {},
   "source": [
    "Preprocess the breast cancer data for modeling."
   ]
  },
  {
   "cell_type": "code",
   "execution_count": null,
   "id": "fc2580e3",
   "metadata": {},
   "outputs": [],
   "source": [
    "X_processed, y_processed = preprocess_data(breast_cancer_data)"
   ]
  },
  {
   "cell_type": "markdown",
   "id": "43f2e31f",
   "metadata": {},
   "source": [
    "Initialize a new Decision Tree Classifier for the breast cancer dataset."
   ]
  },
  {
   "cell_type": "code",
   "execution_count": null,
   "id": "6e981067",
   "metadata": {},
   "outputs": [],
   "source": [
    "decision_tree_bc = DecisionTreeClassifier()"
   ]
  },
  {
   "cell_type": "markdown",
   "id": "4f2dfca4",
   "metadata": {},
   "source": [
    "Fit the Decision Tree model on the breast cancer data."
   ]
  },
  {
   "cell_type": "code",
   "execution_count": null,
   "id": "7ee1e4bb",
   "metadata": {},
   "outputs": [],
   "source": [
    "decision_tree_bc.fit(X_processed, y_processed)"
   ]
  },
  {
   "cell_type": "markdown",
   "id": "37ee75cd",
   "metadata": {},
   "source": [
    "Make predictions on the breast cancer data using the fitted model."
   ]
  },
  {
   "cell_type": "code",
   "execution_count": null,
   "id": "02f4e078",
   "metadata": {},
   "outputs": [],
   "source": [
    "predictions_bc = decision_tree_bc.predict(X_test_bc)"
   ]
  },
  {
   "cell_type": "markdown",
   "id": "ceb3aeed",
   "metadata": {},
   "source": [
    "Compute the ROC curve values from scratch."
   ]
  },
  {
   "cell_type": "code",
   "execution_count": null,
   "id": "6634632d",
   "metadata": {},
   "outputs": [],
   "source": [
    "from sklearn.metrics import roc_curve\n",
    "\n",
    "fpr, tpr, thresholds = roc_curve(y_true, predictions_bc)"
   ]
  },
  {
   "cell_type": "markdown",
   "id": "8349ba7e",
   "metadata": {},
   "source": [
    "Visualize the ROC curve using matplotlib."
   ]
  },
  {
   "cell_type": "code",
   "execution_count": null,
   "id": "aac34032",
   "metadata": {},
   "outputs": [],
   "source": [
    "import matplotlib.pyplot as plt\n",
    "\n",
    "plt.plot(fpr, tpr)\n",
    "plt.title('ROC Curve')\n",
    "plt.show()"
   ]
  },
  {
   "cell_type": "markdown",
   "id": "7be4db93",
   "metadata": {},
   "source": [
    "Compare the custom ROC curve with sklearn's implementation."
   ]
  },
  {
   "cell_type": "code",
   "execution_count": null,
   "id": "ac8831e1",
   "metadata": {},
   "outputs": [],
   "source": [
    "from sklearn.metrics import RocCurveDisplay\n",
    "\n",
    "RocCurveDisplay.from_estimator(decision_tree_bc, X_test_bc, y_test_bc)"
   ]
  },
  {
   "cell_type": "markdown",
   "id": "9fa8d896",
   "metadata": {},
   "source": [
    "Display the final comparison of ROC curves."
   ]
  },
  {
   "cell_type": "code",
   "execution_count": null,
   "id": "18ffb11b",
   "metadata": {},
   "outputs": [],
   "source": [
    "plt.plot(fpr, tpr, label='Custom ROC')\n",
    "RocCurveDisplay.from_estimator(decision_tree_bc, X_test_bc, y_test_bc)\n",
    "plt.legend()\n",
    "plt.title('Final ROC Curve Comparison')\n",
    "plt.show()"
   ]
  }
 ],
 "metadata": {
  "kernelspec": {
   "display_name": "Python 3",
   "language": "python",
   "name": "python3"
  },
  "language_info": {
   "codemirror_mode": {
    "name": "ipython",
    "version": 3
   },
   "file_extension": ".py",
   "mimetype": "text/x-python",
   "name": "python",
   "nbconvert_exporter": "python",
   "pygments_lexer": "ipython3",
   "version": "3.8.5"
  }
 },
 "nbformat": 4,
 "nbformat_minor": 5
}
