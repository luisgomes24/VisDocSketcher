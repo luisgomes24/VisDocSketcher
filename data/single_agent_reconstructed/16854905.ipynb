{
 "cells": [
  {
   "cell_type": "markdown",
   "id": "52010a35",
   "metadata": {},
   "source": [
    "Load training and testing data from CSV files."
   ]
  },
  {
   "cell_type": "code",
   "execution_count": null,
   "id": "8d04510e",
   "metadata": {},
   "outputs": [],
   "source": [
    "import pandas as pd\n",
    "df_train = pd.read_csv('train_data.csv')\n",
    "df_test = pd.read_csv('test_data.csv')"
   ]
  },
  {
   "cell_type": "markdown",
   "id": "d10c59e9",
   "metadata": {},
   "source": [
    "Check for missing values in the training data."
   ]
  },
  {
   "cell_type": "code",
   "execution_count": null,
   "id": "bb189946",
   "metadata": {},
   "outputs": [],
   "source": [
    "df_train.isnull().sum()"
   ]
  },
  {
   "cell_type": "markdown",
   "id": "6dfb000b",
   "metadata": {},
   "source": [
    "Fill missing values with the mean of each column."
   ]
  },
  {
   "cell_type": "code",
   "execution_count": null,
   "id": "773e9f23",
   "metadata": {},
   "outputs": [],
   "source": [
    "df_train.fillna(df_train.mean(), inplace=True)"
   ]
  },
  {
   "cell_type": "markdown",
   "id": "59d3e517",
   "metadata": {},
   "source": [
    "Drop unnecessary columns from the training data."
   ]
  },
  {
   "cell_type": "code",
   "execution_count": null,
   "id": "477c4d47",
   "metadata": {},
   "outputs": [],
   "source": [
    "df_train.drop(columns=['employee_id'], inplace=True)"
   ]
  },
  {
   "cell_type": "markdown",
   "id": "00f3fce3",
   "metadata": {},
   "source": [
    "One-hot encode the 'gender' feature."
   ]
  },
  {
   "cell_type": "code",
   "execution_count": null,
   "id": "74a4ffbf",
   "metadata": {},
   "outputs": [],
   "source": [
    "df_train = pd.get_dummies(df_train, columns=['gender'], drop_first=True)"
   ]
  },
  {
   "cell_type": "markdown",
   "id": "7017e6c6",
   "metadata": {},
   "source": [
    "Split the data into training and testing sets."
   ]
  },
  {
   "cell_type": "code",
   "execution_count": null,
   "id": "31a1146c",
   "metadata": {},
   "outputs": [],
   "source": [
    "from sklearn.model_selection import train_test_split\n",
    "X = df_train.drop('target', axis=1)\n",
    "y = df_train['target']\n",
    "X_train, X_test, y_train, y_test = train_test_split(X, y, test_size=0.2, random_state=42)"
   ]
  },
  {
   "cell_type": "markdown",
   "id": "f388555d",
   "metadata": {},
   "source": [
    "Train the Random Forest model on the training data."
   ]
  },
  {
   "cell_type": "code",
   "execution_count": null,
   "id": "3111be6e",
   "metadata": {},
   "outputs": [],
   "source": [
    "from sklearn.ensemble import RandomForestClassifier\n",
    "model = RandomForestClassifier()\n",
    "model.fit(X_train, y_train)"
   ]
  },
  {
   "cell_type": "markdown",
   "id": "32c0a5c3",
   "metadata": {},
   "source": [
    "Make predictions on the test dataset."
   ]
  },
  {
   "cell_type": "code",
   "execution_count": null,
   "id": "04c43b34",
   "metadata": {},
   "outputs": [],
   "source": [
    "predictions = model.predict(X_test)"
   ]
  },
  {
   "cell_type": "markdown",
   "id": "100cd311",
   "metadata": {},
   "source": [
    "Create a submission file with predictions and save it as a CSV."
   ]
  },
  {
   "cell_type": "code",
   "execution_count": null,
   "id": "80d8eea5",
   "metadata": {},
   "outputs": [],
   "source": [
    "submission = pd.DataFrame({'Id': df_test['Id'], 'Prediction': predictions})\n",
    "submission.to_csv('submission.csv', index=False)"
   ]
  }
 ],
 "metadata": {
  "kernelspec": {
   "display_name": "Python 3",
   "language": "python",
   "name": "python3"
  },
  "language_info": {
   "codemirror_mode": {
    "name": "ipython",
    "version": 3
   },
   "file_extension": ".py",
   "mimetype": "text/x-python",
   "name": "python",
   "nbconvert_exporter": "python",
   "pygments_lexer": "ipython3",
   "version": "3.8.5"
  }
 },
 "nbformat": 4,
 "nbformat_minor": 5
}
