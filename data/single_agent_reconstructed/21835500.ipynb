{
 "cells": [
  {
   "cell_type": "markdown",
   "id": "47a54dca",
   "metadata": {},
   "source": [
    "Load data from a CSV file using pandas."
   ]
  },
  {
   "cell_type": "code",
   "execution_count": null,
   "id": "a4a728d8",
   "metadata": {},
   "outputs": [],
   "source": [
    "import pandas as pd\n",
    "data = pd.read_csv('data.csv')"
   ]
  },
  {
   "cell_type": "markdown",
   "id": "1868fa87",
   "metadata": {},
   "source": [
    "Preprocess data by removing any missing values."
   ]
  },
  {
   "cell_type": "code",
   "execution_count": null,
   "id": "9b16ba5d",
   "metadata": {},
   "outputs": [],
   "source": [
    "data.dropna(inplace=True)"
   ]
  },
  {
   "cell_type": "markdown",
   "id": "60a1ceb5",
   "metadata": {},
   "source": [
    "Perform exploratory data analysis to see summary statistics."
   ]
  },
  {
   "cell_type": "code",
   "execution_count": null,
   "id": "7226a300",
   "metadata": {},
   "outputs": [],
   "source": [
    "data.describe()"
   ]
  },
  {
   "cell_type": "markdown",
   "id": "85d3998c",
   "metadata": {},
   "source": [
    "Import visualization libraries for plotting."
   ]
  },
  {
   "cell_type": "code",
   "execution_count": null,
   "id": "68dd5f50",
   "metadata": {},
   "outputs": [],
   "source": [
    "import matplotlib.pyplot as plt\n",
    "import seaborn as sns\n",
    "sns.set_style('whitegrid')"
   ]
  },
  {
   "cell_type": "markdown",
   "id": "02f4d0ec",
   "metadata": {},
   "source": [
    "Generate a bar graph for Czech Titles."
   ]
  },
  {
   "cell_type": "code",
   "execution_count": null,
   "id": "ee2af7c7",
   "metadata": {},
   "outputs": [],
   "source": [
    "plt.bar(data['Category'], data['Value'])\n",
    "plt.title('Czech Titles')\n",
    "plt.show()"
   ]
  },
  {
   "cell_type": "markdown",
   "id": "62bc8cfa",
   "metadata": {},
   "source": [
    "Generate a bar graph for Czech Authors."
   ]
  },
  {
   "cell_type": "code",
   "execution_count": null,
   "id": "212d094e",
   "metadata": {},
   "outputs": [],
   "source": [
    "plt.bar(data['Category'], data['Value'])\n",
    "plt.title('Czech Authors')\n",
    "plt.show()"
   ]
  }
 ],
 "metadata": {
  "kernelspec": {
   "display_name": "Python 3",
   "language": "python",
   "name": "python3"
  },
  "language_info": {
   "codemirror_mode": {
    "name": "ipython",
    "version": 3
   },
   "file_extension": ".py",
   "mimetype": "text/x-python",
   "name": "python",
   "nbconvert_exporter": "python",
   "pygments_lexer": "ipython3",
   "version": "3.8.5"
  }
 },
 "nbformat": 4,
 "nbformat_minor": 5
}
