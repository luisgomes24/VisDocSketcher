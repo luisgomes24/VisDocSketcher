{
 "cells": [
  {
   "cell_type": "markdown",
   "id": "ae68838b",
   "metadata": {},
   "source": [
    "Load the dataset from a CSV file into a Pandas DataFrame."
   ]
  },
  {
   "cell_type": "code",
   "execution_count": null,
   "id": "f1c707cb",
   "metadata": {},
   "outputs": [],
   "source": [
    "import pandas as pd\n",
    "df = pd.read_csv('data.csv')"
   ]
  },
  {
   "cell_type": "markdown",
   "id": "ec55279f",
   "metadata": {},
   "source": [
    "Get an overview of the dataset's structure and summary statistics."
   ]
  },
  {
   "cell_type": "code",
   "execution_count": null,
   "id": "8f7a807a",
   "metadata": {},
   "outputs": [],
   "source": [
    "df.info()\n",
    "df.describe()"
   ]
  },
  {
   "cell_type": "markdown",
   "id": "328f6d69",
   "metadata": {},
   "source": [
    "Inspect the first few rows of the dataset."
   ]
  },
  {
   "cell_type": "code",
   "execution_count": null,
   "id": "741733dc",
   "metadata": {},
   "outputs": [],
   "source": [
    "df.head()"
   ]
  },
  {
   "cell_type": "markdown",
   "id": "bb8d00bc",
   "metadata": {},
   "source": [
    "Remove any rows with missing values for data cleaning."
   ]
  },
  {
   "cell_type": "code",
   "execution_count": null,
   "id": "e387878b",
   "metadata": {},
   "outputs": [],
   "source": [
    "df.dropna(inplace=True)"
   ]
  },
  {
   "cell_type": "markdown",
   "id": "84afd406",
   "metadata": {},
   "source": [
    "Visualize the distribution of school regions using a histogram."
   ]
  },
  {
   "cell_type": "code",
   "execution_count": null,
   "id": "c697e306",
   "metadata": {},
   "outputs": [],
   "source": [
    "import matplotlib.pyplot as plt\n",
    "import seaborn as sns\n",
    "sns.histplot(df['school_region'])"
   ]
  },
  {
   "cell_type": "markdown",
   "id": "a0ed9232",
   "metadata": {},
   "source": [
    "Analyze and plot the total number of schools by city."
   ]
  },
  {
   "cell_type": "code",
   "execution_count": null,
   "id": "2ffb09d0",
   "metadata": {},
   "outputs": [],
   "source": [
    "school_distribution = df['city'].value_counts()\n",
    "school_distribution.plot(kind='bar')"
   ]
  },
  {
   "cell_type": "markdown",
   "id": "25af33d3",
   "metadata": {},
   "source": [
    "Filter and explore the dataset specifically for Brooklyn."
   ]
  },
  {
   "cell_type": "code",
   "execution_count": null,
   "id": "e9693e73",
   "metadata": {},
   "outputs": [],
   "source": [
    "brooklyn_data = df[df['city'] == 'Brooklyn']\n",
    "brooklyn_data.describe()"
   ]
  },
  {
   "cell_type": "markdown",
   "id": "7a64b449",
   "metadata": {},
   "source": [
    "Split the data into training and testing sets for modeling."
   ]
  },
  {
   "cell_type": "code",
   "execution_count": null,
   "id": "460ef5b5",
   "metadata": {},
   "outputs": [],
   "source": [
    "from sklearn.model_selection import train_test_split\n",
    "X_train, X_test, y_train, y_test = train_test_split(df.drop('target', axis=1), df['target'], test_size=0.2)"
   ]
  },
  {
   "cell_type": "markdown",
   "id": "cb7655f3",
   "metadata": {},
   "source": [
    "Train a Random Forest model on the training data."
   ]
  },
  {
   "cell_type": "code",
   "execution_count": null,
   "id": "25d18dc2",
   "metadata": {},
   "outputs": [],
   "source": [
    "from sklearn.ensemble import RandomForestClassifier\n",
    "model = RandomForestClassifier()\n",
    "model.fit(X_train, y_train)"
   ]
  },
  {
   "cell_type": "markdown",
   "id": "b9221718",
   "metadata": {},
   "source": [
    "Evaluate the model's accuracy on the test data."
   ]
  },
  {
   "cell_type": "code",
   "execution_count": null,
   "id": "f2be9753",
   "metadata": {},
   "outputs": [],
   "source": [
    "accuracy = model.score(X_test, y_test)\n",
    "print(f'Accuracy: {accuracy}')"
   ]
  }
 ],
 "metadata": {
  "kernelspec": {
   "display_name": "Python 3",
   "language": "python",
   "name": "python3"
  },
  "language_info": {
   "codemirror_mode": {
    "name": "ipython",
    "version": 3
   },
   "file_extension": ".py",
   "mimetype": "text/x-python",
   "name": "python",
   "nbconvert_exporter": "python",
   "pygments_lexer": "ipython3",
   "version": "3.8.5"
  }
 },
 "nbformat": 4,
 "nbformat_minor": 5
}
