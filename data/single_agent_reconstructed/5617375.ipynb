{
 "cells": [
  {
   "cell_type": "markdown",
   "id": "b5cd767b",
   "metadata": {},
   "source": [
    "Load the training, testing, and submission datasets from CSV files."
   ]
  },
  {
   "cell_type": "code",
   "execution_count": null,
   "id": "a4fc4e2f",
   "metadata": {},
   "outputs": [],
   "source": [
    "import pandas as pd\n",
    "train_df = pd.read_csv('train.csv')\n",
    "test_df = pd.read_csv('test.csv')\n",
    "submission_df = pd.read_csv('submission.csv')"
   ]
  },
  {
   "cell_type": "markdown",
   "id": "2fb4cef5",
   "metadata": {},
   "source": [
    "Explore the shapes of the loaded data to understand the number of rows and columns."
   ]
  },
  {
   "cell_type": "code",
   "execution_count": null,
   "id": "d109f6a6",
   "metadata": {},
   "outputs": [],
   "source": [
    "print(train_df.shape)\n",
    "print(test_df.shape)\n",
    "print(submission_df.shape)"
   ]
  },
  {
   "cell_type": "markdown",
   "id": "d6b83253",
   "metadata": {},
   "source": [
    "Prepare the data by tokenizing the text data from the training set."
   ]
  },
  {
   "cell_type": "code",
   "execution_count": null,
   "id": "e706e920",
   "metadata": {},
   "outputs": [],
   "source": [
    "from keras.preprocessing.text import Tokenizer\n",
    "\n",
    "tokenizer = Tokenizer()\n",
    "tokenizer.fit_on_texts(train_df['text'])"
   ]
  },
  {
   "cell_type": "markdown",
   "id": "f711045b",
   "metadata": {},
   "source": [
    "Build an LSTM model for sequence classification using Keras."
   ]
  },
  {
   "cell_type": "code",
   "execution_count": null,
   "id": "4ad34944",
   "metadata": {},
   "outputs": [],
   "source": [
    "from keras.models import Sequential\n",
    "from keras.layers import LSTM, Dense, Embedding, SpatialDropout1D\n",
    "\n",
    "model = Sequential()\n",
    "model.add(Embedding(input_dim=vocab_size, output_dim=embedding_dim, input_length=max_length))\n",
    "model.add(SpatialDropout1D(0.2))\n",
    "model.add(LSTM(100, dropout=0.2, recurrent_dropout=0.2))\n",
    "model.add(Dense(1, activation='sigmoid'))"
   ]
  },
  {
   "cell_type": "markdown",
   "id": "bf51c3a7",
   "metadata": {},
   "source": [
    "Compile the model with a loss function and optimizer."
   ]
  },
  {
   "cell_type": "code",
   "execution_count": null,
   "id": "e026f7c6",
   "metadata": {},
   "outputs": [],
   "source": [
    "model.compile(loss='binary_crossentropy', optimizer='adam', metrics=['accuracy'])"
   ]
  },
  {
   "cell_type": "markdown",
   "id": "a9bd54a1",
   "metadata": {},
   "source": [
    "Train the model using the training data with validation."
   ]
  },
  {
   "cell_type": "code",
   "execution_count": null,
   "id": "db4c8f90",
   "metadata": {},
   "outputs": [],
   "source": [
    "history = model.fit(X_train, y_train, epochs=5, batch_size=64, validation_data=(X_val, y_val))"
   ]
  },
  {
   "cell_type": "markdown",
   "id": "31c84089",
   "metadata": {},
   "source": [
    "Evaluate the model on the test set to obtain the accuracy."
   ]
  },
  {
   "cell_type": "code",
   "execution_count": null,
   "id": "1fd4ef2b",
   "metadata": {},
   "outputs": [],
   "source": [
    "loss, accuracy = model.evaluate(X_test, y_test)"
   ]
  },
  {
   "cell_type": "markdown",
   "id": "b93bee9a",
   "metadata": {},
   "source": [
    "Generate predictions for the test data and convert them to binary format."
   ]
  },
  {
   "cell_type": "code",
   "execution_count": null,
   "id": "a9c7b8ac",
   "metadata": {},
   "outputs": [],
   "source": [
    "predictions = model.predict(test_data)\n",
    "predictions = (predictions > 0.5).astype(int)"
   ]
  },
  {
   "cell_type": "markdown",
   "id": "5fde9deb",
   "metadata": {},
   "source": [
    "Prepare the submission by saving the predictions into a new CSV file."
   ]
  },
  {
   "cell_type": "code",
   "execution_count": null,
   "id": "b25f1657",
   "metadata": {},
   "outputs": [],
   "source": [
    "submission_df['predictions'] = predictions\n",
    "submission_df.to_csv('final_submission.csv', index=False)"
   ]
  }
 ],
 "metadata": {
  "kernelspec": {
   "display_name": "Python 3",
   "language": "python",
   "name": "python3"
  },
  "language_info": {
   "codemirror_mode": {
    "name": "ipython",
    "version": 3
   },
   "file_extension": ".py",
   "mimetype": "text/x-python",
   "name": "python",
   "nbconvert_exporter": "python",
   "pygments_lexer": "ipython3",
   "version": "3.8.5"
  }
 },
 "nbformat": 4,
 "nbformat_minor": 5
}
