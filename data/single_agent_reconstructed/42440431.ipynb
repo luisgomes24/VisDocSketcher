{
 "cells": [
  {
   "cell_type": "markdown",
   "id": "45633eaa",
   "metadata": {},
   "source": [
    "Load the dataset using pandas."
   ]
  },
  {
   "cell_type": "code",
   "execution_count": null,
   "id": "6848bc07",
   "metadata": {},
   "outputs": [],
   "source": [
    "import pandas as pd\n",
    "\n",
    "dataset = pd.read_csv('data.csv')"
   ]
  },
  {
   "cell_type": "markdown",
   "id": "fc0ada19",
   "metadata": {},
   "source": [
    "Preprocess the data by scaling it."
   ]
  },
  {
   "cell_type": "code",
   "execution_count": null,
   "id": "658ea168",
   "metadata": {},
   "outputs": [],
   "source": [
    "from sklearn.preprocessing import StandardScaler\n",
    "\n",
    "scaler = StandardScaler()\n",
    "data_scaled = scaler.fit_transform(dataset)"
   ]
  },
  {
   "cell_type": "markdown",
   "id": "3c92db49",
   "metadata": {},
   "source": [
    "Create and display the initial scatter plot."
   ]
  },
  {
   "cell_type": "code",
   "execution_count": null,
   "id": "c635fc42",
   "metadata": {},
   "outputs": [],
   "source": [
    "import matplotlib.pyplot as plt\n",
    "\n",
    "plt.scatter(dataset['Feature1'], dataset['Feature2'])\n",
    "plt.title('Initial Scatter Plot')\n",
    "plt.xlabel('Feature1')\n",
    "plt.ylabel('Feature2')\n",
    "plt.show()"
   ]
  },
  {
   "cell_type": "markdown",
   "id": "c950a6f7",
   "metadata": {},
   "source": [
    "Model the data using K-Means clustering."
   ]
  },
  {
   "cell_type": "code",
   "execution_count": null,
   "id": "811e9096",
   "metadata": {},
   "outputs": [],
   "source": [
    "from sklearn.cluster import KMeans\n",
    "model = KMeans(n_clusters=3)\n",
    "clusters = model.fit_predict(data_scaled)"
   ]
  },
  {
   "cell_type": "markdown",
   "id": "32bcaf23",
   "metadata": {},
   "source": [
    "Visualize the clustering results."
   ]
  },
  {
   "cell_type": "code",
   "execution_count": null,
   "id": "2c903590",
   "metadata": {},
   "outputs": [],
   "source": [
    "plt.scatter(dataset['Feature1'], dataset['Feature2'], c=clusters)\n",
    "plt.title('Cluster Visualization')\n",
    "plt.xlabel('Feature1')\n",
    "plt.ylabel('Feature2')\n",
    "plt.show()"
   ]
  },
  {
   "cell_type": "markdown",
   "id": "0fa47481",
   "metadata": {},
   "source": [
    "Scale the data for improved clustering performance."
   ]
  },
  {
   "cell_type": "code",
   "execution_count": null,
   "id": "047cae0b",
   "metadata": {},
   "outputs": [],
   "source": [
    "data_scaled = scaler.fit_transform(dataset)"
   ]
  },
  {
   "cell_type": "markdown",
   "id": "06a84df3",
   "metadata": {},
   "source": [
    "Model the scaled data using K-Means."
   ]
  },
  {
   "cell_type": "code",
   "execution_count": null,
   "id": "7a25ec70",
   "metadata": {},
   "outputs": [],
   "source": [
    "clusters_scaled = model.fit_predict(data_scaled)"
   ]
  },
  {
   "cell_type": "markdown",
   "id": "17bacb02",
   "metadata": {},
   "source": [
    "Visualize the clustering results for scaled data."
   ]
  },
  {
   "cell_type": "code",
   "execution_count": null,
   "id": "5b306acc",
   "metadata": {},
   "outputs": [],
   "source": [
    "plt.scatter(dataset['Feature1'], dataset['Feature2'], c=clusters_scaled)\n",
    "plt.title('Scaled Cluster Results')\n",
    "plt.xlabel('Feature1')\n",
    "plt.ylabel('Feature2')\n",
    "plt.show()"
   ]
  },
  {
   "cell_type": "markdown",
   "id": "732ec329",
   "metadata": {},
   "source": [
    "Calculate SSE using the elbow method for different cluster counts."
   ]
  },
  {
   "cell_type": "code",
   "execution_count": null,
   "id": "bac97b8f",
   "metadata": {},
   "outputs": [],
   "source": [
    "inertia = []\n",
    "for i in range(1, 11):\n",
    "    model = KMeans(n_clusters=i)\n",
    "    model.fit(data_scaled)\n",
    "    inertia.append(model.inertia_)\n"
   ]
  },
  {
   "cell_type": "markdown",
   "id": "ad90d5a2",
   "metadata": {},
   "source": [
    "Display the elbow chart to determine optimal clusters."
   ]
  },
  {
   "cell_type": "code",
   "execution_count": null,
   "id": "703e5a32",
   "metadata": {},
   "outputs": [],
   "source": [
    "plt.plot(range(1, 11), inertia)\n",
    "plt.title('Elbow Chart')\n",
    "plt.xlabel('Number of Clusters')\n",
    "plt.ylabel('SSE')\n",
    "plt.show()"
   ]
  },
  {
   "cell_type": "markdown",
   "id": "12c19dd5",
   "metadata": {},
   "source": [
    "Perform final modeling using the optimal number of clusters."
   ]
  },
  {
   "cell_type": "code",
   "execution_count": null,
   "id": "8572891a",
   "metadata": {},
   "outputs": [],
   "source": [
    "optimal_model = KMeans(n_clusters=2)\n",
    "final_clusters = optimal_model.fit_predict(data_scaled)"
   ]
  },
  {
   "cell_type": "markdown",
   "id": "106c4a8b",
   "metadata": {},
   "source": [
    "Visualize the final clustering results."
   ]
  },
  {
   "cell_type": "code",
   "execution_count": null,
   "id": "fd7cff28",
   "metadata": {},
   "outputs": [],
   "source": [
    "plt.scatter(dataset['Feature1'], dataset['Feature2'], c=final_clusters)\n",
    "plt.title('Final Cluster Results')\n",
    "plt.xlabel('Feature1')\n",
    "plt.ylabel('Feature2')\n",
    "plt.show()"
   ]
  },
  {
   "cell_type": "markdown",
   "id": "4cabf5d4",
   "metadata": {},
   "source": [
    "Create the final cluster visualization."
   ]
  },
  {
   "cell_type": "code",
   "execution_count": null,
   "id": "39d00f53",
   "metadata": {},
   "outputs": [],
   "source": [
    "plt.scatter(dataset['Feature1'], dataset['Feature2'], c=final_clusters)\n",
    "plt.title('Final Cluster Visualization')\n",
    "plt.xlabel('Feature1')\n",
    "plt.ylabel('Feature2')\n",
    "plt.show()"
   ]
  }
 ],
 "metadata": {
  "kernelspec": {
   "display_name": "Python 3",
   "language": "python",
   "name": "python3"
  },
  "language_info": {
   "codemirror_mode": {
    "name": "ipython",
    "version": 3
   },
   "file_extension": ".py",
   "mimetype": "text/x-python",
   "name": "python",
   "nbconvert_exporter": "python",
   "pygments_lexer": "ipython3",
   "version": "3.8.5"
  }
 },
 "nbformat": 4,
 "nbformat_minor": 5
}
