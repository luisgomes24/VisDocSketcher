{
 "cells": [
  {
   "cell_type": "markdown",
   "id": "9db165a6",
   "metadata": {},
   "source": [
    "Load the dataset from a CSV file."
   ]
  },
  {
   "cell_type": "code",
   "execution_count": null,
   "id": "124d9515",
   "metadata": {},
   "outputs": [],
   "source": [
    "import pandas as pd\n",
    "\n",
    "data = pd.read_csv('data.csv')"
   ]
  },
  {
   "cell_type": "markdown",
   "id": "f06fb13d",
   "metadata": {},
   "source": [
    "Display a summary overview of the data."
   ]
  },
  {
   "cell_type": "code",
   "execution_count": null,
   "id": "8879edd4",
   "metadata": {},
   "outputs": [],
   "source": [
    "print(data.describe())"
   ]
  },
  {
   "cell_type": "markdown",
   "id": "8510fe8e",
   "metadata": {},
   "source": [
    "Visualize the distribution of classes in the dataset."
   ]
  },
  {
   "cell_type": "code",
   "execution_count": null,
   "id": "ccff00a5",
   "metadata": {},
   "outputs": [],
   "source": [
    "import matplotlib.pyplot as plt\n",
    "\n",
    "plt.hist(data['label'], bins=10)\n",
    "plt.title('Label Class Distribution')\n",
    "plt.show()"
   ]
  },
  {
   "cell_type": "markdown",
   "id": "7e01d90b",
   "metadata": {},
   "source": [
    "Display a sample of images from the dataset."
   ]
  },
  {
   "cell_type": "code",
   "execution_count": null,
   "id": "99a1283a",
   "metadata": {},
   "outputs": [],
   "source": [
    "import random\n",
    "\n",
    "sample_images = random.sample(list(data['image']), 5)\n",
    "plt.imshow(sample_images[0])"
   ]
  },
  {
   "cell_type": "markdown",
   "id": "995e30e1",
   "metadata": {},
   "source": [
    "Preprocess the data by splitting it into training and testing sets."
   ]
  },
  {
   "cell_type": "code",
   "execution_count": null,
   "id": "c364eea1",
   "metadata": {},
   "outputs": [],
   "source": [
    "from sklearn.model_selection import train_test_split\n",
    "\n",
    "X_train, X_test, y_train, y_test = train_test_split(data['image'], data['label'], test_size=0.2)"
   ]
  },
  {
   "cell_type": "markdown",
   "id": "73b9fc7c",
   "metadata": {},
   "source": [
    "Create a data generator for augmenting images during training."
   ]
  },
  {
   "cell_type": "code",
   "execution_count": null,
   "id": "477d8a30",
   "metadata": {},
   "outputs": [],
   "source": [
    "from keras.preprocessing.image import ImageDataGenerator\n",
    "\n",
    "datagen = ImageDataGenerator(rescale=1./255)\n",
    "train_generator = datagen.flow(X_train, y_train, batch_size=32)"
   ]
  },
  {
   "cell_type": "markdown",
   "id": "e9e65c44",
   "metadata": {},
   "source": [
    "Create a Convolutional Neural Network model."
   ]
  },
  {
   "cell_type": "code",
   "execution_count": null,
   "id": "72c0f34e",
   "metadata": {},
   "outputs": [],
   "source": [
    "from keras.models import Sequential\n",
    "from keras.layers import Dense, Flatten, Conv2D\n",
    "\n",
    "model = Sequential()\n",
    "model.add(Conv2D(32, (3, 3), activation='relu', input_shape=(image_height, image_width, channels)))\n",
    "model.add(Flatten())\n",
    "model.add(Dense(1, activation='sigmoid'))"
   ]
  },
  {
   "cell_type": "markdown",
   "id": "b99ae082",
   "metadata": {},
   "source": [
    "Train the model on the top layers."
   ]
  },
  {
   "cell_type": "code",
   "execution_count": null,
   "id": "129c823b",
   "metadata": {},
   "outputs": [],
   "source": [
    "model.fit(train_generator, epochs=10)"
   ]
  },
  {
   "cell_type": "markdown",
   "id": "3dca1cbe",
   "metadata": {},
   "source": [
    "Fine-tune the model with a compiled optimizer and loss function."
   ]
  },
  {
   "cell_type": "code",
   "execution_count": null,
   "id": "0ee5ef75",
   "metadata": {},
   "outputs": [],
   "source": [
    "model.compile(optimizer='adam', loss='binary_crossentropy', metrics=['accuracy'])\n",
    "model.fit(train_generator, epochs=10)"
   ]
  },
  {
   "cell_type": "markdown",
   "id": "38a2493c",
   "metadata": {},
   "source": [
    "Plot the loss graph during model training."
   ]
  },
  {
   "cell_type": "code",
   "execution_count": null,
   "id": "ee053d76",
   "metadata": {},
   "outputs": [],
   "source": [
    "history = model.fit(train_generator, validation_data=(X_test, y_test), epochs=10)\n",
    "plt.plot(history.history['loss'])\n",
    "plt.title('Model Loss Graph')\n",
    "plt.show()"
   ]
  },
  {
   "cell_type": "markdown",
   "id": "a1c505c6",
   "metadata": {},
   "source": [
    "Evaluate the model's performance on the test set."
   ]
  },
  {
   "cell_type": "code",
   "execution_count": null,
   "id": "245c3213",
   "metadata": {},
   "outputs": [],
   "source": [
    "test_loss, test_accuracy = model.evaluate(X_test, y_test)"
   ]
  },
  {
   "cell_type": "markdown",
   "id": "4e8d6aca",
   "metadata": {},
   "source": [
    "Generate and visualize the confusion matrix."
   ]
  },
  {
   "cell_type": "code",
   "execution_count": null,
   "id": "1ee71e0e",
   "metadata": {},
   "outputs": [],
   "source": [
    "from sklearn.metrics import confusion_matrix\n",
    "import seaborn as sns\n",
    "\n",
    "y_pred = model.predict(X_test)\n",
    "cm = confusion_matrix(y_test, y_pred)\n",
    "sns.heatmap(cm, annot=True)"
   ]
  },
  {
   "cell_type": "markdown",
   "id": "32bfe173",
   "metadata": {},
   "source": [
    "Calculate the Quadratic Weighted Kappa for model evaluation."
   ]
  },
  {
   "cell_type": "code",
   "execution_count": null,
   "id": "3836ac8e",
   "metadata": {},
   "outputs": [],
   "source": [
    "from sklearn.metrics import cohen_kappa_score\n",
    "\n",
    "kappa = cohen_kappa_score(y_test, y_pred.round())"
   ]
  },
  {
   "cell_type": "markdown",
   "id": "44eaf278",
   "metadata": {},
   "source": [
    "Apply the model to the test set and visualize the prediction distribution."
   ]
  },
  {
   "cell_type": "code",
   "execution_count": null,
   "id": "59ee7fd3",
   "metadata": {},
   "outputs": [],
   "source": [
    "predictions = model.predict(X_test)\n",
    "plt.hist(predictions, bins=10)\n",
    "plt.title('Predictions Class Distribution')\n",
    "plt.show()"
   ]
  }
 ],
 "metadata": {
  "kernelspec": {
   "display_name": "Python 3",
   "language": "python",
   "name": "python3"
  },
  "language_info": {
   "codemirror_mode": {
    "name": "ipython",
    "version": 3
   },
   "file_extension": ".py",
   "mimetype": "text/x-python",
   "name": "python",
   "nbconvert_exporter": "python",
   "pygments_lexer": "ipython3",
   "version": "3.8.5"
  }
 },
 "nbformat": 4,
 "nbformat_minor": 5
}
