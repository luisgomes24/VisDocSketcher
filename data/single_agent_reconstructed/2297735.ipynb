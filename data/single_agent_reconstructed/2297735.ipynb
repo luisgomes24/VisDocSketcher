{
 "cells": [
  {
   "cell_type": "markdown",
   "id": "941fe07d",
   "metadata": {},
   "source": [
    "Load train and test data from CSV files."
   ]
  },
  {
   "cell_type": "code",
   "execution_count": null,
   "id": "0ec1751a",
   "metadata": {},
   "outputs": [],
   "source": [
    "import pandas as pd\n",
    "train_data = pd.read_csv('train_data.csv')\n",
    "test_data = pd.read_csv('test_data.csv')"
   ]
  },
  {
   "cell_type": "markdown",
   "id": "01225c6b",
   "metadata": {},
   "source": [
    "Explore the train data to understand its structure and statistics."
   ]
  },
  {
   "cell_type": "code",
   "execution_count": null,
   "id": "1f6bf9ac",
   "metadata": {},
   "outputs": [],
   "source": [
    "train_data.describe()"
   ]
  },
  {
   "cell_type": "markdown",
   "id": "3be6f0a5",
   "metadata": {},
   "source": [
    "Analyze monthly customer loyalty by counting unique customers."
   ]
  },
  {
   "cell_type": "code",
   "execution_count": null,
   "id": "54fae7b4",
   "metadata": {},
   "outputs": [],
   "source": [
    "monthly_loyalty = train_data.groupby('month')['customer_id'].nunique()"
   ]
  },
  {
   "cell_type": "markdown",
   "id": "176b4bab",
   "metadata": {},
   "source": [
    "Plot a bar chart to visualize monthly customer loyalty."
   ]
  },
  {
   "cell_type": "code",
   "execution_count": null,
   "id": "5a9dc23a",
   "metadata": {},
   "outputs": [],
   "source": [
    "import matplotlib.pyplot as plt\n",
    "monthly_loyalty.plot(kind='bar')\n",
    "plt.title('Monthly Customer Loyalty')\n",
    "plt.show()"
   ]
  },
  {
   "cell_type": "markdown",
   "id": "8930b54d",
   "metadata": {},
   "source": [
    "Count the first active month for customers in the train data."
   ]
  },
  {
   "cell_type": "code",
   "execution_count": null,
   "id": "eb30db07",
   "metadata": {},
   "outputs": [],
   "source": [
    "first_active_counts_train = train_data['first_active_month'].value_counts()"
   ]
  },
  {
   "cell_type": "markdown",
   "id": "c5a68200",
   "metadata": {},
   "source": [
    "Plot the counts of first active months in the train data."
   ]
  },
  {
   "cell_type": "code",
   "execution_count": null,
   "id": "c8132c3a",
   "metadata": {},
   "outputs": [],
   "source": [
    "first_active_counts_train.plot(kind='bar')\n",
    "plt.title('First Active Month Counts (Train)')\n",
    "plt.show()"
   ]
  },
  {
   "cell_type": "markdown",
   "id": "9192fa54",
   "metadata": {},
   "source": [
    "Count the first active month for customers in the test data."
   ]
  },
  {
   "cell_type": "code",
   "execution_count": null,
   "id": "2f63bb3b",
   "metadata": {},
   "outputs": [],
   "source": [
    "first_active_counts_test = test_data['first_active_month'].value_counts()"
   ]
  },
  {
   "cell_type": "markdown",
   "id": "41c666f6",
   "metadata": {},
   "source": [
    "Plot the counts of first active months in the test data."
   ]
  },
  {
   "cell_type": "code",
   "execution_count": null,
   "id": "0e38bac9",
   "metadata": {},
   "outputs": [],
   "source": [
    "first_active_counts_test.plot(kind='bar')\n",
    "plt.title('First Active Month Counts (Test)')\n",
    "plt.show()"
   ]
  },
  {
   "cell_type": "markdown",
   "id": "ec2df792",
   "metadata": {},
   "source": [
    "Create a violin plot to visualize customer loyalty distribution."
   ]
  },
  {
   "cell_type": "code",
   "execution_count": null,
   "id": "d8f3aced",
   "metadata": {},
   "outputs": [],
   "source": [
    "import seaborn as sns\n",
    "sns.violinplot(x=train_data['customer_loyalty'])\n",
    "plt.title('Violin Plot for Customer Loyalty')\n",
    "plt.show()"
   ]
  },
  {
   "cell_type": "markdown",
   "id": "b7a0aefe",
   "metadata": {},
   "source": [
    "Plot a histogram to show the frequency distribution of customer loyalty."
   ]
  },
  {
   "cell_type": "code",
   "execution_count": null,
   "id": "96fab7a7",
   "metadata": {},
   "outputs": [],
   "source": [
    "sns.histplot(train_data['customer_loyalty'], bins=30)\n",
    "plt.title('Histogram for Customer Loyalty')\n",
    "plt.show()"
   ]
  },
  {
   "cell_type": "markdown",
   "id": "f3d51c1c",
   "metadata": {},
   "source": [
    "Remove outliers based on a defined threshold for customer loyalty."
   ]
  },
  {
   "cell_type": "code",
   "execution_count": null,
   "id": "f916990b",
   "metadata": {},
   "outputs": [],
   "source": [
    "train_data = train_data[train_data['customer_loyalty'] < threshold]"
   ]
  },
  {
   "cell_type": "markdown",
   "id": "bc2cff9d",
   "metadata": {},
   "source": [
    "Display a violin plot of customer loyalty post-outlier removal."
   ]
  },
  {
   "cell_type": "code",
   "execution_count": null,
   "id": "5da1b303",
   "metadata": {},
   "outputs": [],
   "source": [
    "sns.violinplot(x=train_data['customer_loyalty'])\n",
    "plt.title('Violin Plot After Outlier Removal')\n",
    "plt.show()"
   ]
  },
  {
   "cell_type": "markdown",
   "id": "82dd3c5a",
   "metadata": {},
   "source": [
    "Plot the histogram of customer loyalty after outlier removal."
   ]
  },
  {
   "cell_type": "code",
   "execution_count": null,
   "id": "41229109",
   "metadata": {},
   "outputs": [],
   "source": [
    "sns.histplot(train_data['customer_loyalty'], bins=30)\n",
    "plt.title('Histogram After Outlier Removal')\n",
    "plt.show()"
   ]
  },
  {
   "cell_type": "markdown",
   "id": "95e25bf8",
   "metadata": {},
   "source": [
    "Analyze the features in the train data using correlation."
   ]
  },
  {
   "cell_type": "code",
   "execution_count": null,
   "id": "3ff5d616",
   "metadata": {},
   "outputs": [],
   "source": [
    "feature_analysis = train_data.corr()"
   ]
  },
  {
   "cell_type": "markdown",
   "id": "849e31aa",
   "metadata": {},
   "source": [
    "Visualize the relationships between features and customer loyalty."
   ]
  },
  {
   "cell_type": "code",
   "execution_count": null,
   "id": "0c3d2f6f",
   "metadata": {},
   "outputs": [],
   "source": [
    "sns.barplot(x=feature_analysis.index, y=feature_analysis['customer_loyalty'])\n",
    "plt.title('Bar Plot for Feature Relationships')\n",
    "plt.show()"
   ]
  }
 ],
 "metadata": {
  "kernelspec": {
   "display_name": "Python 3",
   "language": "python",
   "name": "python3"
  },
  "language_info": {
   "codemirror_mode": {
    "name": "ipython",
    "version": 3
   },
   "file_extension": ".py",
   "mimetype": "text/x-python",
   "name": "python",
   "nbconvert_exporter": "python",
   "pygments_lexer": "ipython3",
   "version": "3.8.5"
  }
 },
 "nbformat": 4,
 "nbformat_minor": 5
}
