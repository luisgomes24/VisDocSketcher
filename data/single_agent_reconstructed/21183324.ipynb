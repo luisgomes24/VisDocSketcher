{
 "cells": [
  {
   "cell_type": "markdown",
   "id": "15a6a73d",
   "metadata": {},
   "source": [
    "Load the IPL matches dataset from a CSV file."
   ]
  },
  {
   "cell_type": "code",
   "execution_count": null,
   "id": "848d37e9",
   "metadata": {},
   "outputs": [],
   "source": [
    "import pandas as pd\n",
    "\n",
    "dataset = pd.read_csv('ipl_matches.csv')"
   ]
  },
  {
   "cell_type": "markdown",
   "id": "c0f38fd8",
   "metadata": {},
   "source": [
    "Convert the 'Date' column to datetime format."
   ]
  },
  {
   "cell_type": "code",
   "execution_count": null,
   "id": "1c72c941",
   "metadata": {},
   "outputs": [],
   "source": [
    "dataset['Date'] = pd.to_datetime(dataset['Date'])"
   ]
  },
  {
   "cell_type": "markdown",
   "id": "447fe9ba",
   "metadata": {},
   "source": [
    "Filter data to include only matches from the last 3 years (2018-2020)."
   ]
  },
  {
   "cell_type": "code",
   "execution_count": null,
   "id": "5899bb34",
   "metadata": {},
   "outputs": [],
   "source": [
    "filtered_data = dataset[(dataset['Date'].dt.year >= 2018) & (dataset['Date'].dt.year <= 2020)]"
   ]
  },
  {
   "cell_type": "markdown",
   "id": "d8ebd615",
   "metadata": {},
   "source": [
    "Create a DataFrame for matches played by CSK."
   ]
  },
  {
   "cell_type": "code",
   "execution_count": null,
   "id": "cf32039b",
   "metadata": {},
   "outputs": [],
   "source": [
    "csk_matches = filtered_data[filtered_data['Team1'] == 'CSK'] | (filtered_data['Team2'] == 'CSK')"
   ]
  },
  {
   "cell_type": "markdown",
   "id": "ceeabc4c",
   "metadata": {},
   "source": [
    "Add a column for match results."
   ]
  },
  {
   "cell_type": "code",
   "execution_count": null,
   "id": "4ccf1fe1",
   "metadata": {},
   "outputs": [],
   "source": [
    "csk_matches['Match_Result'] = csk_matches['Result'].replace({'runs': 'Won', 'wickets': 'Won', 'no result': 'Draw'})"
   ]
  },
  {
   "cell_type": "markdown",
   "id": "fbfac910",
   "metadata": {},
   "source": [
    "Add a column for toss decision based on the toss winner."
   ]
  },
  {
   "cell_type": "code",
   "execution_count": null,
   "id": "f66642b6",
   "metadata": {},
   "outputs": [],
   "source": [
    "csk_matches['Toss_Decision'] = csk_matches['Toss_Winner'].apply(lambda x: 'Bat' if x == 'CSK' else 'Bowl')"
   ]
  },
  {
   "cell_type": "markdown",
   "id": "29ffd42f",
   "metadata": {},
   "source": [
    "Create a contingency table for the hypothesis test."
   ]
  },
  {
   "cell_type": "code",
   "execution_count": null,
   "id": "bcaa0e06",
   "metadata": {},
   "outputs": [],
   "source": [
    "contingency_table = pd.crosstab(csk_matches['Match_Result'], csk_matches['Toss_Decision'])"
   ]
  },
  {
   "cell_type": "markdown",
   "id": "681c56b0",
   "metadata": {},
   "source": [
    "Perform the Chi-Square test on the contingency table."
   ]
  },
  {
   "cell_type": "code",
   "execution_count": null,
   "id": "069dca84",
   "metadata": {},
   "outputs": [],
   "source": [
    "from scipy.stats import chi2_contingency\n",
    "stat, p, dof, expected = chi2_contingency(contingency_table)"
   ]
  },
  {
   "cell_type": "markdown",
   "id": "6ad9bd80",
   "metadata": {},
   "source": [
    "Evaluate the results of the Chi-Square test by analyzing the p-value."
   ]
  },
  {
   "cell_type": "code",
   "execution_count": null,
   "id": "a5f69caf",
   "metadata": {},
   "outputs": [],
   "source": [
    "alpha = 0.05\n",
    "if p < alpha:\n",
    "    print('Reject the null hypothesis')\n",
    "else:\n",
    "    print('Fail to reject the null hypothesis')"
   ]
  }
 ],
 "metadata": {
  "kernelspec": {
   "display_name": "Python 3",
   "language": "python",
   "name": "python3"
  },
  "language_info": {
   "codemirror_mode": {
    "name": "ipython",
    "version": 3
   },
   "file_extension": ".py",
   "mimetype": "text/x-python",
   "name": "python",
   "nbconvert_exporter": "python",
   "pygments_lexer": "ipython3",
   "version": "3.8.5"
  }
 },
 "nbformat": 4,
 "nbformat_minor": 5
}
