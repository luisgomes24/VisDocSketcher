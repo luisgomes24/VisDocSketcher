{
 "cells": [
  {
   "cell_type": "markdown",
   "id": "945da976",
   "metadata": {},
   "source": [
    "Load data from a CSV file into a DataFrame."
   ]
  },
  {
   "cell_type": "code",
   "execution_count": null,
   "id": "80399cc2",
   "metadata": {},
   "outputs": [],
   "source": [
    "import pandas as pd\n",
    "data = pd.read_csv('data.csv')"
   ]
  },
  {
   "cell_type": "markdown",
   "id": "796d5870",
   "metadata": {},
   "source": [
    "Create a histogram of the specified column in the data."
   ]
  },
  {
   "cell_type": "code",
   "execution_count": null,
   "id": "2d00d858",
   "metadata": {},
   "outputs": [],
   "source": [
    "import matplotlib.pyplot as plt\n",
    "plt.hist(data['column_name'], bins=10)\n",
    "plt.show()"
   ]
  },
  {
   "cell_type": "markdown",
   "id": "274356ec",
   "metadata": {},
   "source": [
    "Estimate parameters for a normal distribution fit."
   ]
  },
  {
   "cell_type": "code",
   "execution_count": null,
   "id": "a9f30611",
   "metadata": {},
   "outputs": [],
   "source": [
    "import scipy.stats as stats\n",
    "params = stats.norm.fit(data['column_name'])"
   ]
  },
  {
   "cell_type": "markdown",
   "id": "761888dc",
   "metadata": {},
   "source": [
    "Generate the probability density function (PDF) for the fitted distribution."
   ]
  },
  {
   "cell_type": "code",
   "execution_count": null,
   "id": "9b03f280",
   "metadata": {},
   "outputs": [],
   "source": [
    "import numpy as np\n",
    "x = np.linspace(data['column_name'].min(), data['column_name'].max(), 100)\n",
    "_pdf = stats.norm.pdf(x, *params)"
   ]
  },
  {
   "cell_type": "markdown",
   "id": "d1abbb4e",
   "metadata": {},
   "source": [
    "Evaluate fit by comparing the PDF with the histogram."
   ]
  },
  {
   "cell_type": "code",
   "execution_count": null,
   "id": "e05e352d",
   "metadata": {},
   "outputs": [],
   "source": [
    "plt.hist(data['column_name'], bins=10, density=True, alpha=0.5)\n",
    "plt.plot(x, _pdf, 'r-')\n",
    "plt.show()"
   ]
  },
  {
   "cell_type": "markdown",
   "id": "6210e8bd",
   "metadata": {},
   "source": [
    "Review and adjust data by filtering out outliers."
   ]
  },
  {
   "cell_type": "code",
   "execution_count": null,
   "id": "382223e9",
   "metadata": {},
   "outputs": [],
   "source": [
    "data_cleaned = data[data['column_name'] < threshold]"
   ]
  },
  {
   "cell_type": "markdown",
   "id": "e6c6b9ed",
   "metadata": {},
   "source": [
    "Perform non-parametric estimation using Kernel Density Estimation (KDE)."
   ]
  },
  {
   "cell_type": "code",
   "execution_count": null,
   "id": "0ae60f8a",
   "metadata": {},
   "outputs": [],
   "source": [
    "from sklearn.neighbors import KernelDensity\n",
    "kde = KernelDensity(kernel='gaussian', bandwidth=0.5).fit(data_cleaned[['column_name']])"
   ]
  },
  {
   "cell_type": "markdown",
   "id": "beffacff",
   "metadata": {},
   "source": [
    "Fit the KDE model and obtain density estimates."
   ]
  },
  {
   "cell_type": "code",
   "execution_count": null,
   "id": "7d9bc68e",
   "metadata": {},
   "outputs": [],
   "source": [
    "x_d = np.linspace(data_cleaned['column_name'].min(), data_cleaned['column_name'].max(), 1000)\n",
    "density = np.exp(kde.score_samples(x_d.reshape(-1, 1)))"
   ]
  },
  {
   "cell_type": "markdown",
   "id": "29ce74f6",
   "metadata": {},
   "source": [
    "Compare the KDE with the histogram of the cleaned data."
   ]
  },
  {
   "cell_type": "code",
   "execution_count": null,
   "id": "55eec057",
   "metadata": {},
   "outputs": [],
   "source": [
    "plt.hist(data_cleaned['column_name'], bins=10, density=True, alpha=0.5)\n",
    "plt.plot(x_d, density, 'r-')\n",
    "plt.show()"
   ]
  }
 ],
 "metadata": {
  "kernelspec": {
   "display_name": "Python 3",
   "language": "python",
   "name": "python3"
  },
  "language_info": {
   "codemirror_mode": {
    "name": "ipython",
    "version": 3
   },
   "file_extension": ".py",
   "mimetype": "text/x-python",
   "name": "python",
   "nbconvert_exporter": "python",
   "pygments_lexer": "ipython3",
   "version": "3.8.5"
  }
 },
 "nbformat": 4,
 "nbformat_minor": 5
}
