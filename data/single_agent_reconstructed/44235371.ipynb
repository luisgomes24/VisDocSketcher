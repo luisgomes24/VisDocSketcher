{
 "cells": [
  {
   "cell_type": "markdown",
   "id": "c499fe8a",
   "metadata": {},
   "source": [
    "Load the dataset using pandas."
   ]
  },
  {
   "cell_type": "code",
   "execution_count": null,
   "id": "e566d421",
   "metadata": {},
   "outputs": [],
   "source": [
    "import pandas as pd\n",
    "\n",
    "data = pd.read_csv('data.csv')"
   ]
  },
  {
   "cell_type": "markdown",
   "id": "28c67921",
   "metadata": {},
   "source": [
    "Display the first few rows of the dataset."
   ]
  },
  {
   "cell_type": "code",
   "execution_count": null,
   "id": "d0dbb518",
   "metadata": {},
   "outputs": [],
   "source": [
    "print(data.head())"
   ]
  },
  {
   "cell_type": "markdown",
   "id": "99453c73",
   "metadata": {},
   "source": [
    "Show the last few rows of the dataset."
   ]
  },
  {
   "cell_type": "code",
   "execution_count": null,
   "id": "f99d0c3b",
   "metadata": {},
   "outputs": [],
   "source": [
    "print(data.tail())"
   ]
  },
  {
   "cell_type": "markdown",
   "id": "e45b940d",
   "metadata": {},
   "source": [
    "Get a summary of the dataset, including data types and non-null counts."
   ]
  },
  {
   "cell_type": "code",
   "execution_count": null,
   "id": "a0db2d1a",
   "metadata": {},
   "outputs": [],
   "source": [
    "print(data.info())"
   ]
  },
  {
   "cell_type": "markdown",
   "id": "dfb13393",
   "metadata": {},
   "source": [
    "Check for missing values in each column."
   ]
  },
  {
   "cell_type": "code",
   "execution_count": null,
   "id": "9c440262",
   "metadata": {},
   "outputs": [],
   "source": [
    "print(data.isnull().sum())"
   ]
  },
  {
   "cell_type": "markdown",
   "id": "9ff0b657",
   "metadata": {},
   "source": [
    "Fill missing values with the mean of each column."
   ]
  },
  {
   "cell_type": "code",
   "execution_count": null,
   "id": "8073be15",
   "metadata": {},
   "outputs": [],
   "source": [
    "data.fillna(data.mean(), inplace=True)"
   ]
  },
  {
   "cell_type": "markdown",
   "id": "ed59d2f3",
   "metadata": {},
   "source": [
    "Remove duplicate rows from the dataset."
   ]
  },
  {
   "cell_type": "code",
   "execution_count": null,
   "id": "8936e493",
   "metadata": {},
   "outputs": [],
   "source": [
    "data_cleaned = data.drop_duplicates()"
   ]
  },
  {
   "cell_type": "markdown",
   "id": "7656a7d1",
   "metadata": {},
   "source": [
    "Create a time series plot for the data."
   ]
  },
  {
   "cell_type": "code",
   "execution_count": null,
   "id": "4b913ca5",
   "metadata": {},
   "outputs": [],
   "source": [
    "import matplotlib.pyplot as plt\n",
    "\n",
    "plt.plot(data['date'], data['value'])\n",
    "plt.title('Time Series Plot')\n",
    "plt.show()"
   ]
  },
  {
   "cell_type": "markdown",
   "id": "b5efe258",
   "metadata": {},
   "source": [
    "Get descriptive statistics for the dataset."
   ]
  },
  {
   "cell_type": "code",
   "execution_count": null,
   "id": "bcfeb482",
   "metadata": {},
   "outputs": [],
   "source": [
    "print(data.describe())"
   ]
  },
  {
   "cell_type": "markdown",
   "id": "fba61413",
   "metadata": {},
   "source": [
    "Extract unique countries from the dataset."
   ]
  },
  {
   "cell_type": "code",
   "execution_count": null,
   "id": "8626fac5",
   "metadata": {},
   "outputs": [],
   "source": [
    "unique_countries = data['country'].unique()"
   ]
  },
  {
   "cell_type": "markdown",
   "id": "6652590a",
   "metadata": {},
   "source": [
    "Generate time series plots for each unique country."
   ]
  },
  {
   "cell_type": "code",
   "execution_count": null,
   "id": "3a650d24",
   "metadata": {},
   "outputs": [],
   "source": [
    "for country in unique_countries:\n",
    "    plt.plot(data[data['country'] == country]['date'], \n",
    "             data[data['country'] == country]['value'])\n",
    "    plt.title(f'Time Series Plot for {country}')\n",
    "    plt.show()"
   ]
  },
  {
   "cell_type": "markdown",
   "id": "8d17700d",
   "metadata": {},
   "source": [
    "Create inflation plots for each country."
   ]
  },
  {
   "cell_type": "code",
   "execution_count": null,
   "id": "11bd7912",
   "metadata": {},
   "outputs": [],
   "source": [
    "for country in unique_countries:\n",
    "    plt.plot(data[data['country'] == country]['date'], \n",
    "             data[data['country'] == country]['inflation'])\n",
    "    plt.title(f'Inflation Plot for {country}')\n",
    "    plt.show()"
   ]
  }
 ],
 "metadata": {
  "kernelspec": {
   "display_name": "Python 3",
   "language": "python",
   "name": "python3"
  },
  "language_info": {
   "codemirror_mode": {
    "name": "ipython",
    "version": 3
   },
   "file_extension": ".py",
   "mimetype": "text/x-python",
   "name": "python",
   "nbconvert_exporter": "python",
   "pygments_lexer": "ipython3",
   "version": "3.8.5"
  }
 },
 "nbformat": 4,
 "nbformat_minor": 5
}
