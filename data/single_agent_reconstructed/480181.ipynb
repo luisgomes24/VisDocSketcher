{
 "cells": [
  {
   "cell_type": "markdown",
   "id": "8caf7f41",
   "metadata": {},
   "source": [
    "Load data from 'train.csv' into a DataFrame."
   ]
  },
  {
   "cell_type": "code",
   "execution_count": null,
   "id": "5a5c538b",
   "metadata": {},
   "outputs": [],
   "source": [
    "import pandas as pd\n",
    "data = pd.read_csv('train.csv')"
   ]
  },
  {
   "cell_type": "markdown",
   "id": "f8f9afe5",
   "metadata": {},
   "source": [
    "Display the first few rows of the DataFrame for an overview."
   ]
  },
  {
   "cell_type": "code",
   "execution_count": null,
   "id": "6be69549",
   "metadata": {},
   "outputs": [],
   "source": [
    "print(data.head())"
   ]
  },
  {
   "cell_type": "markdown",
   "id": "5e5644ac",
   "metadata": {},
   "source": [
    "Check and display the data types of each column."
   ]
  },
  {
   "cell_type": "code",
   "execution_count": null,
   "id": "3348212b",
   "metadata": {},
   "outputs": [],
   "source": [
    "print(data.dtypes)"
   ]
  },
  {
   "cell_type": "markdown",
   "id": "a0165b8e",
   "metadata": {},
   "source": [
    "Check and display the number of unique values for each column."
   ]
  },
  {
   "cell_type": "code",
   "execution_count": null,
   "id": "9966da4d",
   "metadata": {},
   "outputs": [],
   "source": [
    "for column in data.columns:\n",
    "    print(data[column].nunique())"
   ]
  },
  {
   "cell_type": "markdown",
   "id": "296f608e",
   "metadata": {},
   "source": [
    "Check and display the count of missing values in each column."
   ]
  },
  {
   "cell_type": "code",
   "execution_count": null,
   "id": "9f23fe50",
   "metadata": {},
   "outputs": [],
   "source": [
    "print(data.isnull().sum())"
   ]
  },
  {
   "cell_type": "markdown",
   "id": "fcaf217a",
   "metadata": {},
   "source": [
    "Perform Chi-square test for the 'BldgType' variable."
   ]
  },
  {
   "cell_type": "code",
   "execution_count": null,
   "id": "c27d7d93",
   "metadata": {},
   "outputs": [],
   "source": [
    "from scipy.stats import chi2_contingency\n",
    "\n",
    "# Assume 'BldgType' and 'target' are columns\n",
    "chi2, p, dof, ex = chi2_contingency(pd.crosstab(data['BldgType'], data['target']))"
   ]
  },
  {
   "cell_type": "markdown",
   "id": "5df5ed42",
   "metadata": {},
   "source": [
    "Perform Chi-square test for the 'HeatingQC' variable."
   ]
  },
  {
   "cell_type": "code",
   "execution_count": null,
   "id": "dc66083a",
   "metadata": {},
   "outputs": [],
   "source": [
    "chi2, p, dof, ex = chi2_contingency(pd.crosstab(data['HeatingQC'], data['target']))"
   ]
  },
  {
   "cell_type": "markdown",
   "id": "74dfe21d",
   "metadata": {},
   "source": [
    "Perform Chi-square test for independence between 'BldgType' and 'HeatingQC'."
   ]
  },
  {
   "cell_type": "code",
   "execution_count": null,
   "id": "9f304c7c",
   "metadata": {},
   "outputs": [],
   "source": [
    "chi2, p, dof, ex = chi2_contingency(pd.crosstab(data['BldgType'], data['HeatingQC']))"
   ]
  },
  {
   "cell_type": "markdown",
   "id": "f33c98b8",
   "metadata": {},
   "source": [
    "Visualize the distribution of 'BldgType' using a count plot."
   ]
  },
  {
   "cell_type": "code",
   "execution_count": null,
   "id": "1146b1a6",
   "metadata": {},
   "outputs": [],
   "source": [
    "import seaborn as sns\n",
    "import matplotlib.pyplot as plt\n",
    "sns.countplot(x='BldgType', data=data)\n",
    "plt.show()"
   ]
  },
  {
   "cell_type": "markdown",
   "id": "03b2e4fe",
   "metadata": {},
   "source": [
    "Visualize the distribution of 'HeatingQC' using a count plot."
   ]
  },
  {
   "cell_type": "code",
   "execution_count": null,
   "id": "c5e56691",
   "metadata": {},
   "outputs": [],
   "source": [
    "sns.countplot(x='HeatingQC', data=data)\n",
    "plt.show()"
   ]
  },
  {
   "cell_type": "markdown",
   "id": "90ca8ff3",
   "metadata": {},
   "source": [
    "Visualize a grouped count plot of 'HeatingQC' by 'BldgType'."
   ]
  },
  {
   "cell_type": "code",
   "execution_count": null,
   "id": "122a58e0",
   "metadata": {},
   "outputs": [],
   "source": [
    "sns.countplot(x='HeatingQC', hue='BldgType', data=data)\n",
    "plt.show()"
   ]
  }
 ],
 "metadata": {
  "kernelspec": {
   "display_name": "Python 3",
   "language": "python",
   "name": "python3"
  },
  "language_info": {
   "codemirror_mode": {
    "name": "ipython",
    "version": 3
   },
   "file_extension": ".py",
   "mimetype": "text/x-python",
   "name": "python",
   "nbconvert_exporter": "python",
   "pygments_lexer": "ipython3",
   "version": "3.8.5"
  }
 },
 "nbformat": 4,
 "nbformat_minor": 5
}
