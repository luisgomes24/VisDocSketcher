{
 "cells": [
  {
   "cell_type": "markdown",
   "id": "ecdaf364",
   "metadata": {},
   "source": [
    "Load the dataset from a CSV file into a Pandas DataFrame."
   ]
  },
  {
   "cell_type": "code",
   "execution_count": null,
   "id": "cc0ca458",
   "metadata": {},
   "outputs": [],
   "source": [
    "import pandas as pd\n",
    "df = pd.read_csv('data.csv')"
   ]
  },
  {
   "cell_type": "markdown",
   "id": "bd7df4be",
   "metadata": {},
   "source": [
    "Check the first few rows of the dataset and display its info for understanding its structure."
   ]
  },
  {
   "cell_type": "code",
   "execution_count": null,
   "id": "7b3d2a3f",
   "metadata": {},
   "outputs": [],
   "source": [
    "print(df.head())\n",
    "print(df.info())"
   ]
  },
  {
   "cell_type": "markdown",
   "id": "537cf3fb",
   "metadata": {},
   "source": [
    "Visualize the count of powerful women based on their locations using a bar chart."
   ]
  },
  {
   "cell_type": "code",
   "execution_count": null,
   "id": "be8f53f5",
   "metadata": {},
   "outputs": [],
   "source": [
    "df.groupby('Location').size().plot(kind='bar')\n",
    "plt.title('Most Powerful Women by Location')\n",
    "plt.xlabel('Location')\n",
    "plt.ylabel('Count')\n",
    "plt.show()"
   ]
  },
  {
   "cell_type": "markdown",
   "id": "9cf6b968",
   "metadata": {},
   "source": [
    "Visualize the count of powerful women categorized by their roles using a bar chart."
   ]
  },
  {
   "cell_type": "code",
   "execution_count": null,
   "id": "f1c9d887",
   "metadata": {},
   "outputs": [],
   "source": [
    "df.groupby('Category').size().plot(kind='bar')\n",
    "plt.title('Most Powerful Women by Category')\n",
    "plt.xlabel('Category')\n",
    "plt.ylabel('Count')\n",
    "plt.show()"
   ]
  },
  {
   "cell_type": "markdown",
   "id": "6b3cb236",
   "metadata": {},
   "source": [
    "Visualize the count of powerful women by age using a bar chart."
   ]
  },
  {
   "cell_type": "code",
   "execution_count": null,
   "id": "b35dcd88",
   "metadata": {},
   "outputs": [],
   "source": [
    "df.groupby('Age').size().plot(kind='bar')\n",
    "plt.title('Most Powerful Women by Age')\n",
    "plt.xlabel('Age')\n",
    "plt.ylabel('Count')\n",
    "plt.show()"
   ]
  }
 ],
 "metadata": {
  "kernelspec": {
   "display_name": "Python 3",
   "language": "python",
   "name": "python3"
  },
  "language_info": {
   "codemirror_mode": {
    "name": "ipython",
    "version": 3
   },
   "file_extension": ".py",
   "mimetype": "text/x-python",
   "name": "python",
   "nbconvert_exporter": "python",
   "pygments_lexer": "ipython3",
   "version": "3.8.5"
  }
 },
 "nbformat": 4,
 "nbformat_minor": 5
}
