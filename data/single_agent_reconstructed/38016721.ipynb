{
 "cells": [
  {
   "cell_type": "markdown",
   "id": "ea806eaf",
   "metadata": {},
   "source": [
    "Load the dataset from a CSV file into a DataFrame."
   ]
  },
  {
   "cell_type": "code",
   "execution_count": null,
   "id": "a86196aa",
   "metadata": {},
   "outputs": [],
   "source": [
    "import pandas as pd\n",
    "data = pd.read_csv('train.csv')"
   ]
  },
  {
   "cell_type": "markdown",
   "id": "00627e67",
   "metadata": {},
   "source": [
    "Preview the first few rows of the dataset."
   ]
  },
  {
   "cell_type": "code",
   "execution_count": null,
   "id": "6e335125",
   "metadata": {},
   "outputs": [],
   "source": [
    "print(data.head())"
   ]
  },
  {
   "cell_type": "markdown",
   "id": "07aa8f8a",
   "metadata": {},
   "source": [
    "Check the data types and non-null counts in the DataFrame."
   ]
  },
  {
   "cell_type": "code",
   "execution_count": null,
   "id": "aba781e0",
   "metadata": {},
   "outputs": [],
   "source": [
    "data.info()"
   ]
  },
  {
   "cell_type": "markdown",
   "id": "49e29596",
   "metadata": {},
   "source": [
    "Handle missing values by dropping 'Cabin' and filling 'Age' and 'Embarked'."
   ]
  },
  {
   "cell_type": "code",
   "execution_count": null,
   "id": "70a17521",
   "metadata": {},
   "outputs": [],
   "source": [
    "data = data.drop('Cabin', axis=1)\n",
    "data['Age'].fillna(data['Age'].mean(), inplace=True)\n",
    "data['Embarked'].fillna(data['Embarked'].mode()[0], inplace=True)"
   ]
  },
  {
   "cell_type": "markdown",
   "id": "02e9b071",
   "metadata": {},
   "source": [
    "One-hot encode the 'Embarked' categorical variable."
   ]
  },
  {
   "cell_type": "code",
   "execution_count": null,
   "id": "f89cfabf",
   "metadata": {},
   "outputs": [],
   "source": [
    "data = pd.get_dummies(data, columns=['Embarked'], drop_first=True)"
   ]
  },
  {
   "cell_type": "markdown",
   "id": "991f2c4c",
   "metadata": {},
   "source": [
    "Visualize the distribution of the target variable 'Survived'."
   ]
  },
  {
   "cell_type": "code",
   "execution_count": null,
   "id": "7abf18fb",
   "metadata": {},
   "outputs": [],
   "source": [
    "import seaborn as sns\n",
    "import matplotlib.pyplot as plt\n",
    "sns.countplot(x='Survived', data=data)\n",
    "plt.show()"
   ]
  },
  {
   "cell_type": "markdown",
   "id": "72e49317",
   "metadata": {},
   "source": [
    "Split the data into training and testing sets."
   ]
  },
  {
   "cell_type": "code",
   "execution_count": null,
   "id": "102deebe",
   "metadata": {},
   "outputs": [],
   "source": [
    "from sklearn.model_selection import train_test_split\n",
    "X = data.drop('Survived', axis=1)\n",
    "y = data['Survived']\n",
    "X_train, X_test, y_train, y_test = train_test_split(X, y, test_size=0.2, random_state=42)"
   ]
  },
  {
   "cell_type": "markdown",
   "id": "7b2b5f8f",
   "metadata": {},
   "source": [
    "Train a logistic regression model on the training set."
   ]
  },
  {
   "cell_type": "code",
   "execution_count": null,
   "id": "aff9a167",
   "metadata": {},
   "outputs": [],
   "source": [
    "from sklearn.linear_model import LogisticRegression\n",
    "model_lr = LogisticRegression()\n",
    "model_lr.fit(X_train, y_train)"
   ]
  },
  {
   "cell_type": "markdown",
   "id": "e4d67ba9",
   "metadata": {},
   "source": [
    "Train a random forest model on the training set."
   ]
  },
  {
   "cell_type": "code",
   "execution_count": null,
   "id": "06e7e417",
   "metadata": {},
   "outputs": [],
   "source": [
    "from sklearn.ensemble import RandomForestClassifier\n",
    "model_rf = RandomForestClassifier()\n",
    "model_rf.fit(X_train, y_train)"
   ]
  },
  {
   "cell_type": "markdown",
   "id": "fd1aba43",
   "metadata": {},
   "source": [
    "Evaluate the models and calculate their accuracy on the test set."
   ]
  },
  {
   "cell_type": "code",
   "execution_count": null,
   "id": "c2b6984d",
   "metadata": {},
   "outputs": [],
   "source": [
    "from sklearn.metrics import accuracy_score\n",
    "pred_lr = model_lr.predict(X_test)\n",
    "pred_rf = model_rf.predict(X_test)\n",
    "accuracy_lr = accuracy_score(y_test, pred_lr)\n",
    "accuracy_rf = accuracy_score(y_test, pred_rf)"
   ]
  },
  {
   "cell_type": "markdown",
   "id": "35c87d99",
   "metadata": {},
   "source": [
    "Display the evaluation results for both models."
   ]
  },
  {
   "cell_type": "code",
   "execution_count": null,
   "id": "ee279eed",
   "metadata": {},
   "outputs": [],
   "source": [
    "print(f'Logistic Regression Accuracy: {accuracy_lr}')\n",
    "print(f'Random Forest Accuracy: {accuracy_rf}')"
   ]
  }
 ],
 "metadata": {
  "kernelspec": {
   "display_name": "Python 3",
   "language": "python",
   "name": "python3"
  },
  "language_info": {
   "codemirror_mode": {
    "name": "ipython",
    "version": 3
   },
   "file_extension": ".py",
   "mimetype": "text/x-python",
   "name": "python",
   "nbconvert_exporter": "python",
   "pygments_lexer": "ipython3",
   "version": "3.8.5"
  }
 },
 "nbformat": 4,
 "nbformat_minor": 5
}
