{
 "cells": [
  {
   "cell_type": "markdown",
   "id": "df7419ba",
   "metadata": {},
   "source": [
    "Load the CSV file into a pandas DataFrame."
   ]
  },
  {
   "cell_type": "code",
   "execution_count": null,
   "id": "5430630a",
   "metadata": {},
   "outputs": [],
   "source": [
    "import pandas as pd\n",
    "data = pd.read_csv('data.csv')"
   ]
  },
  {
   "cell_type": "markdown",
   "id": "c9f4953c",
   "metadata": {},
   "source": [
    "Display the first few rows of the DataFrame to explore the data."
   ]
  },
  {
   "cell_type": "code",
   "execution_count": null,
   "id": "c363e148",
   "metadata": {},
   "outputs": [],
   "source": [
    "print(data.head())"
   ]
  },
  {
   "cell_type": "markdown",
   "id": "4f53bd99",
   "metadata": {},
   "source": [
    "Define a function to plot the distribution of each column."
   ]
  },
  {
   "cell_type": "code",
   "execution_count": null,
   "id": "b805e6cd",
   "metadata": {},
   "outputs": [],
   "source": [
    "import matplotlib.pyplot as plt\n",
    "import seaborn as sns\n",
    "def plotPerColumnDistribution(data):\n",
    "    data.hist(figsize=(10,10))\n",
    "    plt.show()"
   ]
  },
  {
   "cell_type": "markdown",
   "id": "d6831151",
   "metadata": {},
   "source": [
    "Define a function to visualize the correlation matrix."
   ]
  },
  {
   "cell_type": "code",
   "execution_count": null,
   "id": "b43bba04",
   "metadata": {},
   "outputs": [],
   "source": [
    "def plotCorrelationMatrix(data):\n",
    "    corr = data.corr()\n",
    "    sns.heatmap(corr, annot=True, cmap='coolwarm')\n",
    "    plt.show()"
   ]
  },
  {
   "cell_type": "markdown",
   "id": "159f5bb5",
   "metadata": {},
   "source": [
    "Define a function to create scatter and density plots."
   ]
  },
  {
   "cell_type": "code",
   "execution_count": null,
   "id": "04680f36",
   "metadata": {},
   "outputs": [],
   "source": [
    "def plotScatterMatrix(data):\n",
    "    sns.pairplot(data)\n",
    "    plt.show()"
   ]
  }
 ],
 "metadata": {
  "kernelspec": {
   "display_name": "Python 3",
   "language": "python",
   "name": "python3"
  },
  "language_info": {
   "codemirror_mode": {
    "name": "ipython",
    "version": 3
   },
   "file_extension": ".py",
   "mimetype": "text/x-python",
   "name": "python",
   "nbconvert_exporter": "python",
   "pygments_lexer": "ipython3",
   "version": "3.8.5"
  }
 },
 "nbformat": 4,
 "nbformat_minor": 5
}
