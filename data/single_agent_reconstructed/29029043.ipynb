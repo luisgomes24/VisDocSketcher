{
 "cells": [
  {
   "cell_type": "markdown",
   "id": "1757df2f",
   "metadata": {},
   "source": [
    "Load the dataset from a CSV file using pandas."
   ]
  },
  {
   "cell_type": "code",
   "execution_count": null,
   "id": "907ca278",
   "metadata": {},
   "outputs": [],
   "source": [
    "import pandas as pd\n",
    "df = pd.read_csv('data.csv')"
   ]
  },
  {
   "cell_type": "markdown",
   "id": "ab83a6f7",
   "metadata": {},
   "source": [
    "Preview the first few rows of the dataset."
   ]
  },
  {
   "cell_type": "code",
   "execution_count": null,
   "id": "7db0f7c4",
   "metadata": {},
   "outputs": [],
   "source": [
    "print(df.head())"
   ]
  },
  {
   "cell_type": "markdown",
   "id": "15fc570e",
   "metadata": {},
   "source": [
    "Generate descriptive statistics of the dataset."
   ]
  },
  {
   "cell_type": "code",
   "execution_count": null,
   "id": "36eab829",
   "metadata": {},
   "outputs": [],
   "source": [
    "print(df.describe())"
   ]
  },
  {
   "cell_type": "markdown",
   "id": "9458732b",
   "metadata": {},
   "source": [
    "Get a concise summary of the DataFrame."
   ]
  },
  {
   "cell_type": "code",
   "execution_count": null,
   "id": "18f1cf2e",
   "metadata": {},
   "outputs": [],
   "source": [
    "print(df.info())"
   ]
  },
  {
   "cell_type": "markdown",
   "id": "93017275",
   "metadata": {},
   "source": [
    "Access Life Expectancy and Death Rate columns."
   ]
  },
  {
   "cell_type": "code",
   "execution_count": null,
   "id": "30db0ead",
   "metadata": {},
   "outputs": [],
   "source": [
    "df['Life Expectancy'], df['Death Rate']"
   ]
  },
  {
   "cell_type": "markdown",
   "id": "ab255683",
   "metadata": {},
   "source": [
    "Access the Fertility Rate column."
   ]
  },
  {
   "cell_type": "code",
   "execution_count": null,
   "id": "91b413ae",
   "metadata": {},
   "outputs": [],
   "source": [
    "df['Fertility Rate']"
   ]
  },
  {
   "cell_type": "markdown",
   "id": "512352a2",
   "metadata": {},
   "source": [
    "Access both Birth Rate and Infant Mortality Rate columns."
   ]
  },
  {
   "cell_type": "code",
   "execution_count": null,
   "id": "5f17df8a",
   "metadata": {},
   "outputs": [],
   "source": [
    "df[['Birth Rate', 'Infant Mortality Rate']]"
   ]
  },
  {
   "cell_type": "markdown",
   "id": "563aa136",
   "metadata": {},
   "source": [
    "Access the Net Migration Rate column."
   ]
  },
  {
   "cell_type": "code",
   "execution_count": null,
   "id": "53a3bab1",
   "metadata": {},
   "outputs": [],
   "source": [
    "df['Net Migration Rate']"
   ]
  }
 ],
 "metadata": {
  "kernelspec": {
   "display_name": "Python 3",
   "language": "python",
   "name": "python3"
  },
  "language_info": {
   "codemirror_mode": {
    "name": "ipython",
    "version": 3
   },
   "file_extension": ".py",
   "mimetype": "text/x-python",
   "name": "python",
   "nbconvert_exporter": "python",
   "pygments_lexer": "ipython3",
   "version": "3.8.5"
  }
 },
 "nbformat": 4,
 "nbformat_minor": 5
}
