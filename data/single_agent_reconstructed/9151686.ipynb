{
 "cells": [
  {
   "cell_type": "markdown",
   "id": "1a42613c",
   "metadata": {},
   "source": [
    "Load the main dataset for analysis from a CSV file."
   ]
  },
  {
   "cell_type": "code",
   "execution_count": null,
   "id": "8249c12e",
   "metadata": {},
   "outputs": [],
   "source": [
    "import pandas as pd\n",
    "\n",
    "# Load Data\n",
    "lol_data = pd.read_csv('lol_version_Date.csv')"
   ]
  },
  {
   "cell_type": "markdown",
   "id": "9443f7e7",
   "metadata": {},
   "source": [
    "Preview the first few rows of the loaded dataset."
   ]
  },
  {
   "cell_type": "code",
   "execution_count": null,
   "id": "4277c5b4",
   "metadata": {},
   "outputs": [],
   "source": [
    "lol_data.head()"
   ]
  },
  {
   "cell_type": "markdown",
   "id": "206a8036",
   "metadata": {},
   "source": [
    "Generate and display a distribution graph for a selected column."
   ]
  },
  {
   "cell_type": "code",
   "execution_count": null,
   "id": "11a3ce5c",
   "metadata": {},
   "outputs": [],
   "source": [
    "import matplotlib.pyplot as plt\n",
    "import seaborn as sns\n",
    "\n",
    "# Distribution Graphs\n",
    "sns.histplot(lol_data['column_name'], kde=True)\n",
    "plt.title('Distribution of Column')\n",
    "plt.show()"
   ]
  },
  {
   "cell_type": "markdown",
   "id": "cb4467fc",
   "metadata": {},
   "source": [
    "Load the second dataset for analysis from a CSV file."
   ]
  },
  {
   "cell_type": "code",
   "execution_count": null,
   "id": "fdc0f36b",
   "metadata": {},
   "outputs": [],
   "source": [
    "lose_data = pd.read_csv('lose_team_stats.csv')"
   ]
  },
  {
   "cell_type": "markdown",
   "id": "73f67eca",
   "metadata": {},
   "source": [
    "Preview the first few rows of the second loaded dataset."
   ]
  },
  {
   "cell_type": "code",
   "execution_count": null,
   "id": "7dcc1ea0",
   "metadata": {},
   "outputs": [],
   "source": [
    "lose_data.head()"
   ]
  },
  {
   "cell_type": "markdown",
   "id": "511f5ea4",
   "metadata": {},
   "source": [
    "Generate and display a distribution graph for a column in the second dataset."
   ]
  },
  {
   "cell_type": "code",
   "execution_count": null,
   "id": "b8b261e9",
   "metadata": {},
   "outputs": [],
   "source": [
    "sns.histplot(lose_data['column_name'], kde=True)\n",
    "plt.title('Distribution of Column')\n",
    "plt.show()"
   ]
  },
  {
   "cell_type": "markdown",
   "id": "c5976b2e",
   "metadata": {},
   "source": [
    "Calculate and display the correlation matrix for the first dataset."
   ]
  },
  {
   "cell_type": "code",
   "execution_count": null,
   "id": "4d30f149",
   "metadata": {},
   "outputs": [],
   "source": [
    "correlation_matrix = lol_data.corr()\n",
    "sns.heatmap(correlation_matrix, annot=True, cmap='coolwarm')\n",
    "plt.title('Correlation Matrix for LOL Data')\n",
    "plt.show()"
   ]
  },
  {
   "cell_type": "markdown",
   "id": "71869d15",
   "metadata": {},
   "source": [
    "Calculate and display the correlation matrix for the second dataset."
   ]
  },
  {
   "cell_type": "code",
   "execution_count": null,
   "id": "d2b1ee58",
   "metadata": {},
   "outputs": [],
   "source": [
    "correlation_matrix_lose = lose_data.corr()\n",
    "sns.heatmap(correlation_matrix_lose, annot=True, cmap='coolwarm')\n",
    "plt.title('Correlation Matrix for Lose Data')\n",
    "plt.show()"
   ]
  },
  {
   "cell_type": "markdown",
   "id": "11dc1dd0",
   "metadata": {},
   "source": [
    "Generate and display a scatter and density plot for the first dataset."
   ]
  },
  {
   "cell_type": "code",
   "execution_count": null,
   "id": "a4a94c52",
   "metadata": {},
   "outputs": [],
   "source": [
    "sns.scatterplot(data=lol_data, x='column_x', y='column_y')\n",
    "plt.title('Scatter and Density Plot for LOL')\n",
    "plt.show()"
   ]
  },
  {
   "cell_type": "markdown",
   "id": "f3fc19f5",
   "metadata": {},
   "source": [
    "Generate and display a scatter and density plot for the second dataset."
   ]
  },
  {
   "cell_type": "code",
   "execution_count": null,
   "id": "889e2e80",
   "metadata": {},
   "outputs": [],
   "source": [
    "sns.scatterplot(data=lose_data, x='column_x', y='column_y')\n",
    "plt.title('Scatter and Density Plot for Lose')\n",
    "plt.show()"
   ]
  },
  {
   "cell_type": "markdown",
   "id": "79edee7a",
   "metadata": {},
   "source": [
    "Summarize the findings from the analysis."
   ]
  },
  {
   "cell_type": "code",
   "execution_count": null,
   "id": "2f9360e1",
   "metadata": {},
   "outputs": [],
   "source": [
    "# Conclusion\n",
    "# Final insights derived from the analysis can be stated here."
   ]
  }
 ],
 "metadata": {
  "kernelspec": {
   "display_name": "Python 3",
   "language": "python",
   "name": "python3"
  },
  "language_info": {
   "codemirror_mode": {
    "name": "ipython",
    "version": 3
   },
   "file_extension": ".py",
   "mimetype": "text/x-python",
   "name": "python",
   "nbconvert_exporter": "python",
   "pygments_lexer": "ipython3",
   "version": "3.8.5"
  }
 },
 "nbformat": 4,
 "nbformat_minor": 5
}
