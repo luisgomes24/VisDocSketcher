{
 "cells": [
  {
   "cell_type": "markdown",
   "id": "00a16908",
   "metadata": {},
   "source": [
    "Load the wine reviews data from a CSV file."
   ]
  },
  {
   "cell_type": "code",
   "execution_count": null,
   "id": "98a2e960",
   "metadata": {},
   "outputs": [],
   "source": [
    "import pandas as pd\n",
    "wine_reviews = pd.read_csv('wine_reviews.csv')"
   ]
  },
  {
   "cell_type": "markdown",
   "id": "ed5ae478",
   "metadata": {},
   "source": [
    "Display the first few rows of the data."
   ]
  },
  {
   "cell_type": "code",
   "execution_count": null,
   "id": "04fff9b7",
   "metadata": {},
   "outputs": [],
   "source": [
    "print(wine_reviews.head())"
   ]
  },
  {
   "cell_type": "markdown",
   "id": "c7572b6a",
   "metadata": {},
   "source": [
    "Rename the columns 'region_1' and 'region_2'."
   ]
  },
  {
   "cell_type": "code",
   "execution_count": null,
   "id": "f140003f",
   "metadata": {},
   "outputs": [],
   "source": [
    "wine_reviews.rename(columns={'region_1': 'Region 1', 'region_2': 'Region 2'}, inplace=True)"
   ]
  },
  {
   "cell_type": "markdown",
   "id": "5cb4a37e",
   "metadata": {},
   "source": [
    "View the renamed data."
   ]
  },
  {
   "cell_type": "code",
   "execution_count": null,
   "id": "27f82fad",
   "metadata": {},
   "outputs": [],
   "source": [
    "print(wine_reviews.head())"
   ]
  },
  {
   "cell_type": "markdown",
   "id": "b2d413ef",
   "metadata": {},
   "source": [
    "Set the index of the DataFrame to the 'wines' column."
   ]
  },
  {
   "cell_type": "code",
   "execution_count": null,
   "id": "026ed7ec",
   "metadata": {},
   "outputs": [],
   "source": [
    "wine_reviews.set_index('wines', inplace=True)"
   ]
  },
  {
   "cell_type": "markdown",
   "id": "509eeb3d",
   "metadata": {},
   "source": [
    "Load additional data from a Reddit products CSV file."
   ]
  },
  {
   "cell_type": "code",
   "execution_count": null,
   "id": "08064890",
   "metadata": {},
   "outputs": [],
   "source": [
    "reddit_data = pd.read_csv('reddit_products.csv')"
   ]
  },
  {
   "cell_type": "markdown",
   "id": "788f4d8c",
   "metadata": {},
   "source": [
    "Combine the wine reviews and Reddit data into a single DataFrame."
   ]
  },
  {
   "cell_type": "code",
   "execution_count": null,
   "id": "e8c56d0d",
   "metadata": {},
   "outputs": [],
   "source": [
    "combined_data = pd.concat([wine_reviews, reddit_data], axis=0)"
   ]
  },
  {
   "cell_type": "markdown",
   "id": "e2f52b01",
   "metadata": {},
   "source": [
    "Load powerlifting data from a CSV file."
   ]
  },
  {
   "cell_type": "code",
   "execution_count": null,
   "id": "4897f214",
   "metadata": {},
   "outputs": [],
   "source": [
    "powerlifting_data = pd.read_csv('powerlifting_data.csv')"
   ]
  },
  {
   "cell_type": "markdown",
   "id": "28998454",
   "metadata": {},
   "source": [
    "Join the combined data with powerlifting data on the 'MeetID' column."
   ]
  },
  {
   "cell_type": "code",
   "execution_count": null,
   "id": "99a43e66",
   "metadata": {},
   "outputs": [],
   "source": [
    "combined_powerlifting_data = pd.merge(combined_data, powerlifting_data, on='MeetID')"
   ]
  },
  {
   "cell_type": "markdown",
   "id": "8dd3e49a",
   "metadata": {},
   "source": [
    "Finish the process."
   ]
  },
  {
   "cell_type": "code",
   "execution_count": null,
   "id": "79a15e26",
   "metadata": {},
   "outputs": [],
   "source": [
    "print('Process completed')"
   ]
  }
 ],
 "metadata": {
  "kernelspec": {
   "display_name": "Python 3",
   "language": "python",
   "name": "python3"
  },
  "language_info": {
   "codemirror_mode": {
    "name": "ipython",
    "version": 3
   },
   "file_extension": ".py",
   "mimetype": "text/x-python",
   "name": "python",
   "nbconvert_exporter": "python",
   "pygments_lexer": "ipython3",
   "version": "3.8.5"
  }
 },
 "nbformat": 4,
 "nbformat_minor": 5
}
