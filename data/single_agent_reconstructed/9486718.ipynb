{
 "cells": [
  {
   "cell_type": "markdown",
   "id": "f941918f",
   "metadata": {},
   "source": [
    "Load the dataset from a CSV file using pandas."
   ]
  },
  {
   "cell_type": "code",
   "execution_count": null,
   "id": "d1dcc002",
   "metadata": {},
   "outputs": [],
   "source": [
    "import pandas as pd\n",
    "\n",
    "data = pd.read_csv('911.csv')"
   ]
  },
  {
   "cell_type": "markdown",
   "id": "c6dd19da",
   "metadata": {},
   "source": [
    "Check the data information to understand its structure and types."
   ]
  },
  {
   "cell_type": "code",
   "execution_count": null,
   "id": "a93f9c72",
   "metadata": {},
   "outputs": [],
   "source": [
    "data.info()"
   ]
  },
  {
   "cell_type": "markdown",
   "id": "75ff2323",
   "metadata": {},
   "source": [
    "Analyze basic statistics of the dataset."
   ]
  },
  {
   "cell_type": "code",
   "execution_count": null,
   "id": "23f84de7",
   "metadata": {},
   "outputs": [],
   "source": [
    "data.describe()"
   ]
  },
  {
   "cell_type": "markdown",
   "id": "90f3ebf2",
   "metadata": {},
   "source": [
    "Add a new date column by converting timestamps."
   ]
  },
  {
   "cell_type": "code",
   "execution_count": null,
   "id": "38eadbb3",
   "metadata": {},
   "outputs": [],
   "source": [
    "data['date'] = pd.to_datetime(data['timeStamp'])"
   ]
  },
  {
   "cell_type": "markdown",
   "id": "49fcdcd4",
   "metadata": {},
   "source": [
    "Extract the day of the week from the date column."
   ]
  },
  {
   "cell_type": "code",
   "execution_count": null,
   "id": "10e67868",
   "metadata": {},
   "outputs": [],
   "source": [
    "data['day_of_week'] = data['date'].dt.day_name()"
   ]
  },
  {
   "cell_type": "markdown",
   "id": "ebd281dd",
   "metadata": {},
   "source": [
    "Extract the month name from the date column."
   ]
  },
  {
   "cell_type": "code",
   "execution_count": null,
   "id": "2588d47c",
   "metadata": {},
   "outputs": [],
   "source": [
    "data['month'] = data['date'].dt.month_name()"
   ]
  },
  {
   "cell_type": "markdown",
   "id": "652f5a09",
   "metadata": {},
   "source": [
    "Get the top 5 ZIP codes based on call frequency."
   ]
  },
  {
   "cell_type": "code",
   "execution_count": null,
   "id": "03ae4f5a",
   "metadata": {},
   "outputs": [],
   "source": [
    "data['zip'].value_counts().head(5)"
   ]
  },
  {
   "cell_type": "markdown",
   "id": "cedd58c7",
   "metadata": {},
   "source": [
    "Get the top 5 townships based on call frequency."
   ]
  },
  {
   "cell_type": "code",
   "execution_count": null,
   "id": "dccc1658",
   "metadata": {},
   "outputs": [],
   "source": [
    "data['twp'].value_counts().head(5)"
   ]
  },
  {
   "cell_type": "markdown",
   "id": "4fa81cb8",
   "metadata": {},
   "source": [
    "Extract unique title codes from the dataset."
   ]
  },
  {
   "cell_type": "code",
   "execution_count": null,
   "id": "a917787f",
   "metadata": {},
   "outputs": [],
   "source": [
    "data['title'].unique()"
   ]
  },
  {
   "cell_type": "markdown",
   "id": "83351a5d",
   "metadata": {},
   "source": [
    "Extract the reason for each call from the title."
   ]
  },
  {
   "cell_type": "code",
   "execution_count": null,
   "id": "447546e2",
   "metadata": {},
   "outputs": [],
   "source": [
    "data['reason'] = data['title'].apply(lambda x: x.split()[0])"
   ]
  },
  {
   "cell_type": "markdown",
   "id": "91edc103",
   "metadata": {},
   "source": [
    "Count the most common reasons for the calls."
   ]
  },
  {
   "cell_type": "code",
   "execution_count": null,
   "id": "2ce6ec92",
   "metadata": {},
   "outputs": [],
   "source": [
    "data['reason'].value_counts()"
   ]
  },
  {
   "cell_type": "markdown",
   "id": "aef7ca5d",
   "metadata": {},
   "source": [
    "Visualize the count of calls by reason using a bar plot."
   ]
  },
  {
   "cell_type": "code",
   "execution_count": null,
   "id": "8043fca3",
   "metadata": {},
   "outputs": [],
   "source": [
    "data['reason'].value_counts().plot(kind='bar')"
   ]
  },
  {
   "cell_type": "markdown",
   "id": "dcf97a25",
   "metadata": {},
   "source": [
    "Visualize calls by day of the week."
   ]
  },
  {
   "cell_type": "code",
   "execution_count": null,
   "id": "25c6754a",
   "metadata": {},
   "outputs": [],
   "source": [
    "data.groupby('day_of_week').size().plot(kind='bar')"
   ]
  },
  {
   "cell_type": "markdown",
   "id": "89d52492",
   "metadata": {},
   "source": [
    "Visualize calls by month."
   ]
  },
  {
   "cell_type": "code",
   "execution_count": null,
   "id": "265e43b2",
   "metadata": {},
   "outputs": [],
   "source": [
    "data.groupby('month').size().plot(kind='bar')"
   ]
  },
  {
   "cell_type": "markdown",
   "id": "3cb02ac3",
   "metadata": {},
   "source": [
    "Create a regression plot for month vs township."
   ]
  },
  {
   "cell_type": "code",
   "execution_count": null,
   "id": "b54e1167",
   "metadata": {},
   "outputs": [],
   "source": [
    "import seaborn as sns\n",
    "\n",
    "sns.lmplot(x='month', y='twp', data=data)"
   ]
  },
  {
   "cell_type": "markdown",
   "id": "a1b43cf4",
   "metadata": {},
   "source": [
    "Filter the dataset for EMS calls."
   ]
  },
  {
   "cell_type": "code",
   "execution_count": null,
   "id": "0fdee517",
   "metadata": {},
   "outputs": [],
   "source": [
    "data['ems'] = data[data['title'].str.contains('EMS')]"
   ]
  },
  {
   "cell_type": "markdown",
   "id": "9daddc7d",
   "metadata": {},
   "source": [
    "Filter the dataset for fire calls."
   ]
  },
  {
   "cell_type": "code",
   "execution_count": null,
   "id": "d3407068",
   "metadata": {},
   "outputs": [],
   "source": [
    "data['fire'] = data[data['title'].str.contains('Fire')]"
   ]
  },
  {
   "cell_type": "markdown",
   "id": "b74725b9",
   "metadata": {},
   "source": [
    "Visualize traffic calls by month."
   ]
  },
  {
   "cell_type": "code",
   "execution_count": null,
   "id": "cdf3da39",
   "metadata": {},
   "outputs": [],
   "source": [
    "data.groupby('month')['twp'].value_counts().unstack().plot(kind='bar')"
   ]
  },
  {
   "cell_type": "markdown",
   "id": "a1200dee",
   "metadata": {},
   "source": [
    "Count fire calls by month."
   ]
  },
  {
   "cell_type": "code",
   "execution_count": null,
   "id": "0ca63279",
   "metadata": {},
   "outputs": [],
   "source": [
    "data.groupby('month')['fire'].count()"
   ]
  }
 ],
 "metadata": {
  "kernelspec": {
   "display_name": "Python 3",
   "language": "python",
   "name": "python3"
  },
  "language_info": {
   "codemirror_mode": {
    "name": "ipython",
    "version": 3
   },
   "file_extension": ".py",
   "mimetype": "text/x-python",
   "name": "python",
   "nbconvert_exporter": "python",
   "pygments_lexer": "ipython3",
   "version": "3.8.5"
  }
 },
 "nbformat": 4,
 "nbformat_minor": 5
}
