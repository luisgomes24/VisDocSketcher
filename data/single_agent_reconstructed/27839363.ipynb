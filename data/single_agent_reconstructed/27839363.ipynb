{
 "cells": [
  {
   "cell_type": "markdown",
   "id": "576de62f",
   "metadata": {},
   "source": [
    "Load the dataset from a CSV file."
   ]
  },
  {
   "cell_type": "code",
   "execution_count": null,
   "id": "1977256d",
   "metadata": {},
   "outputs": [],
   "source": [
    "import pandas as pd\n",
    "\n",
    "data = pd.read_csv('data.csv')"
   ]
  },
  {
   "cell_type": "markdown",
   "id": "9fc2d29c",
   "metadata": {},
   "source": [
    "Get an overview of the data structure and types."
   ]
  },
  {
   "cell_type": "code",
   "execution_count": null,
   "id": "d911c6a1",
   "metadata": {},
   "outputs": [],
   "source": [
    "print(data.info())"
   ]
  },
  {
   "cell_type": "markdown",
   "id": "03bdad98",
   "metadata": {},
   "source": [
    "Generate a correlation heatmap to visualize relationships between features."
   ]
  },
  {
   "cell_type": "code",
   "execution_count": null,
   "id": "17652606",
   "metadata": {},
   "outputs": [],
   "source": [
    "import seaborn as sns\n",
    "import matplotlib.pyplot as plt\n",
    "sns.heatmap(data.corr(), annot=True)\n",
    "plt.show()"
   ]
  },
  {
   "cell_type": "markdown",
   "id": "044fcbf1",
   "metadata": {},
   "source": [
    "Count the distribution of classes in the dataset."
   ]
  },
  {
   "cell_type": "code",
   "execution_count": null,
   "id": "dac0818a",
   "metadata": {},
   "outputs": [],
   "source": [
    "class_counts = data['Class'].value_counts()"
   ]
  },
  {
   "cell_type": "markdown",
   "id": "dbd18f34",
   "metadata": {},
   "source": [
    "Perform under-sampling to balance class distribution."
   ]
  },
  {
   "cell_type": "code",
   "execution_count": null,
   "id": "6e72e450",
   "metadata": {},
   "outputs": [],
   "source": [
    "from imblearn.under_sampling import RandomUnderSampler\n",
    "X_resampled, y_resampled = RandomUnderSampler().fit_resample(X, y)"
   ]
  },
  {
   "cell_type": "markdown",
   "id": "026dc4d7",
   "metadata": {},
   "source": [
    "Check the distribution of the resampled classes."
   ]
  },
  {
   "cell_type": "code",
   "execution_count": null,
   "id": "8c671698",
   "metadata": {},
   "outputs": [],
   "source": [
    "print(y_resampled.value_counts())"
   ]
  },
  {
   "cell_type": "markdown",
   "id": "22080599",
   "metadata": {},
   "source": [
    "Split the dataset into training and test sets."
   ]
  },
  {
   "cell_type": "code",
   "execution_count": null,
   "id": "1c27b911",
   "metadata": {},
   "outputs": [],
   "source": [
    "from sklearn.model_selection import train_test_split\n",
    "X_train, X_test, y_train, y_test = train_test_split(X_resampled, y_resampled, test_size=0.2, random_state=42)"
   ]
  },
  {
   "cell_type": "markdown",
   "id": "7a6eec1f",
   "metadata": {},
   "source": [
    "Scale the features for better accuracy in classification."
   ]
  },
  {
   "cell_type": "code",
   "execution_count": null,
   "id": "a1e152e4",
   "metadata": {},
   "outputs": [],
   "source": [
    "from sklearn.preprocessing import StandardScaler\n",
    "scaler = StandardScaler()\n",
    "X_train_scaled = scaler.fit_transform(X_train)\n",
    "X_test_scaled = scaler.transform(X_test)"
   ]
  },
  {
   "cell_type": "markdown",
   "id": "fc87d97f",
   "metadata": {},
   "source": [
    "Train a K-Nearest Neighbors classifier on the scaled training data."
   ]
  },
  {
   "cell_type": "code",
   "execution_count": null,
   "id": "c8b674f8",
   "metadata": {},
   "outputs": [],
   "source": [
    "from sklearn.neighbors import KNeighborsClassifier\n",
    "knn = KNeighborsClassifier()\n",
    "knn.fit(X_train_scaled, y_train)"
   ]
  },
  {
   "cell_type": "markdown",
   "id": "e1a3b51a",
   "metadata": {},
   "source": [
    "Calculate the accuracy of the KNN classifier on the test set."
   ]
  },
  {
   "cell_type": "code",
   "execution_count": null,
   "id": "dc60e6ee",
   "metadata": {},
   "outputs": [],
   "source": [
    "knn_accuracy = knn.score(X_test_scaled, y_test)"
   ]
  },
  {
   "cell_type": "markdown",
   "id": "95cfb2f4",
   "metadata": {},
   "source": [
    "Train a Decision Tree classifier on the scaled training data."
   ]
  },
  {
   "cell_type": "code",
   "execution_count": null,
   "id": "cc03f989",
   "metadata": {},
   "outputs": [],
   "source": [
    "from sklearn.tree import DecisionTreeClassifier\n",
    "decision_tree = DecisionTreeClassifier()\n",
    "decision_tree.fit(X_train_scaled, y_train)"
   ]
  },
  {
   "cell_type": "markdown",
   "id": "3a755d8b",
   "metadata": {},
   "source": [
    "Calculate the accuracy of the Decision Tree classifier on the test set."
   ]
  },
  {
   "cell_type": "code",
   "execution_count": null,
   "id": "1562e884",
   "metadata": {},
   "outputs": [],
   "source": [
    "decision_tree_accuracy = decision_tree.score(X_test_scaled, y_test)"
   ]
  },
  {
   "cell_type": "markdown",
   "id": "d6896778",
   "metadata": {},
   "source": [
    "Train a Random Forest classifier on the scaled training data."
   ]
  },
  {
   "cell_type": "code",
   "execution_count": null,
   "id": "b2cb32b1",
   "metadata": {},
   "outputs": [],
   "source": [
    "from sklearn.ensemble import RandomForestClassifier\n",
    "random_forest = RandomForestClassifier()\n",
    "random_forest.fit(X_train_scaled, y_train)"
   ]
  },
  {
   "cell_type": "markdown",
   "id": "4edcf5a8",
   "metadata": {},
   "source": [
    "Calculate the accuracy of the Random Forest classifier on the test set."
   ]
  },
  {
   "cell_type": "code",
   "execution_count": null,
   "id": "fafa46df",
   "metadata": {},
   "outputs": [],
   "source": [
    "random_forest_accuracy = random_forest.score(X_test_scaled, y_test)"
   ]
  }
 ],
 "metadata": {
  "kernelspec": {
   "display_name": "Python 3",
   "language": "python",
   "name": "python3"
  },
  "language_info": {
   "codemirror_mode": {
    "name": "ipython",
    "version": 3
   },
   "file_extension": ".py",
   "mimetype": "text/x-python",
   "name": "python",
   "nbconvert_exporter": "python",
   "pygments_lexer": "ipython3",
   "version": "3.8.5"
  }
 },
 "nbformat": 4,
 "nbformat_minor": 5
}
