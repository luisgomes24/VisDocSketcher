{
 "cells": [
  {
   "cell_type": "markdown",
   "id": "9edb96af",
   "metadata": {},
   "source": [
    "Load images from a specified directory using Keras' ImageDataGenerator."
   ]
  },
  {
   "cell_type": "code",
   "execution_count": null,
   "id": "9178b607",
   "metadata": {},
   "outputs": [],
   "source": [
    "import os\n",
    "from keras.preprocessing.image import ImageDataGenerator\n",
    "\n",
    "def load_data(directory):\n",
    "    datagen = ImageDataGenerator()\n",
    "    return datagen.flow_from_directory(directory, target_size=(150, 150), class_mode='binary')"
   ]
  },
  {
   "cell_type": "markdown",
   "id": "31fce035",
   "metadata": {},
   "source": [
    "Preprocess images by resizing them to 150x150 pixels."
   ]
  },
  {
   "cell_type": "code",
   "execution_count": null,
   "id": "583240d4",
   "metadata": {},
   "outputs": [],
   "source": [
    "def preprocess_images(images):\n",
    "    images_resized = tf.image.resize(images, [150, 150])\n",
    "    return images_resized"
   ]
  },
  {
   "cell_type": "markdown",
   "id": "a2764729",
   "metadata": {},
   "source": [
    "Define a Convolutional Neural Network (CNN) architecture."
   ]
  },
  {
   "cell_type": "code",
   "execution_count": null,
   "id": "c245654e",
   "metadata": {},
   "outputs": [],
   "source": [
    "from keras.models import Sequential\n",
    "from keras.layers import Conv2D, MaxPooling2D, Flatten, Dense\n",
    "\n",
    "def define_model():\n",
    "    model = Sequential()\n",
    "    model.add(Conv2D(32, (3, 3), activation='relu', input_shape=(150, 150, 3)))\n",
    "    model.add(MaxPooling2D(pool_size=(2, 2)))\n",
    "    model.add(Flatten())\n",
    "    model.add(Dense(128, activation='relu'))\n",
    "    model.add(Dense(1, activation='sigmoid'))\n",
    "    return model"
   ]
  },
  {
   "cell_type": "markdown",
   "id": "39ae5a6a",
   "metadata": {},
   "source": [
    "Compile the model using the Adam optimizer and binary crossentropy loss."
   ]
  },
  {
   "cell_type": "code",
   "execution_count": null,
   "id": "7ebbf848",
   "metadata": {},
   "outputs": [],
   "source": [
    "model = define_model()\n",
    "model.compile(optimizer='adam', loss='binary_crossentropy', metrics=['accuracy'])"
   ]
  },
  {
   "cell_type": "markdown",
   "id": "a466ad12",
   "metadata": {},
   "source": [
    "Train the model for 50 epochs on the training dataset."
   ]
  },
  {
   "cell_type": "code",
   "execution_count": null,
   "id": "bce6b4da",
   "metadata": {},
   "outputs": [],
   "source": [
    "history = model.fit(train_data, epochs=50)"
   ]
  },
  {
   "cell_type": "markdown",
   "id": "5cb47060",
   "metadata": {},
   "source": [
    "Save the trained model to a file for later use."
   ]
  },
  {
   "cell_type": "code",
   "execution_count": null,
   "id": "77fc4488",
   "metadata": {},
   "outputs": [],
   "source": [
    "model.save('trained_model.h5')"
   ]
  },
  {
   "cell_type": "markdown",
   "id": "4abf7962",
   "metadata": {},
   "source": [
    "Load the saved model for making predictions."
   ]
  },
  {
   "cell_type": "code",
   "execution_count": null,
   "id": "dc9242ba",
   "metadata": {},
   "outputs": [],
   "source": [
    "from keras.models import load_model\n",
    "\n",
    "model = load_model('trained_model.h5')"
   ]
  },
  {
   "cell_type": "markdown",
   "id": "c35603d2",
   "metadata": {},
   "source": [
    "Make predictions on the test images using the loaded model."
   ]
  },
  {
   "cell_type": "code",
   "execution_count": null,
   "id": "0125d885",
   "metadata": {},
   "outputs": [],
   "source": [
    "predictions = model.predict(test_images)"
   ]
  }
 ],
 "metadata": {
  "kernelspec": {
   "display_name": "Python 3",
   "language": "python",
   "name": "python3"
  },
  "language_info": {
   "codemirror_mode": {
    "name": "ipython",
    "version": 3
   },
   "file_extension": ".py",
   "mimetype": "text/x-python",
   "name": "python",
   "nbconvert_exporter": "python",
   "pygments_lexer": "ipython3",
   "version": "3.8.5"
  }
 },
 "nbformat": 4,
 "nbformat_minor": 5
}
