{
 "cells": [
  {
   "cell_type": "markdown",
   "id": "27ac8abb",
   "metadata": {},
   "source": [
    "Load the CSV file into a pandas DataFrame."
   ]
  },
  {
   "cell_type": "code",
   "execution_count": null,
   "id": "a17dff53",
   "metadata": {},
   "outputs": [],
   "source": [
    "import pandas as pd\n",
    "data = pd.read_csv('data.csv')"
   ]
  },
  {
   "cell_type": "markdown",
   "id": "5eabd453",
   "metadata": {},
   "source": [
    "Preview the first few rows of the DataFrame."
   ]
  },
  {
   "cell_type": "code",
   "execution_count": null,
   "id": "d5b6206b",
   "metadata": {},
   "outputs": [],
   "source": [
    "print(data.head())"
   ]
  },
  {
   "cell_type": "markdown",
   "id": "620c22e8",
   "metadata": {},
   "source": [
    "Define a function to plot distribution graphs for each column."
   ]
  },
  {
   "cell_type": "code",
   "execution_count": null,
   "id": "87db78b8",
   "metadata": {},
   "outputs": [],
   "source": [
    "def plotPerColumnDistribution(data):\n",
    "    import matplotlib.pyplot as plt\n",
    "    for column in data:\n",
    "        plt.figure()\n",
    "        data[column].hist()\n",
    "        plt.title(column)\n",
    "        plt.show()"
   ]
  },
  {
   "cell_type": "markdown",
   "id": "b29ea813",
   "metadata": {},
   "source": [
    "Call the function to visualize the distribution of each column."
   ]
  },
  {
   "cell_type": "code",
   "execution_count": null,
   "id": "e3629c40",
   "metadata": {},
   "outputs": [],
   "source": [
    "plotPerColumnDistribution(data)"
   ]
  },
  {
   "cell_type": "markdown",
   "id": "2a8661cd",
   "metadata": {},
   "source": [
    "Define a function to plot a correlation matrix."
   ]
  },
  {
   "cell_type": "code",
   "execution_count": null,
   "id": "fa10e21d",
   "metadata": {},
   "outputs": [],
   "source": [
    "def plotCorrelationMatrix(data):\n",
    "    import seaborn as sns\n",
    "    import matplotlib.pyplot as plt\n",
    "    corr = data.corr()\n",
    "    sns.heatmap(corr, annot=True)\n",
    "    plt.show()"
   ]
  },
  {
   "cell_type": "markdown",
   "id": "693a5e5a",
   "metadata": {},
   "source": [
    "Call the function to visualize the correlation matrix."
   ]
  },
  {
   "cell_type": "code",
   "execution_count": null,
   "id": "20726e34",
   "metadata": {},
   "outputs": [],
   "source": [
    "plotCorrelationMatrix(data)"
   ]
  },
  {
   "cell_type": "markdown",
   "id": "a58d3f6e",
   "metadata": {},
   "source": [
    "Define a function to plot a scatter matrix."
   ]
  },
  {
   "cell_type": "code",
   "execution_count": null,
   "id": "6021d425",
   "metadata": {},
   "outputs": [],
   "source": [
    "def plotScatterMatrix(data):\n",
    "    import seaborn as sns\n",
    "    sns.pairplot(data)\n",
    "    plt.show()"
   ]
  },
  {
   "cell_type": "markdown",
   "id": "ad23b393",
   "metadata": {},
   "source": [
    "Call the function to visualize the scatter matrix."
   ]
  },
  {
   "cell_type": "code",
   "execution_count": null,
   "id": "cba5bbb2",
   "metadata": {},
   "outputs": [],
   "source": [
    "plotScatterMatrix(data)"
   ]
  },
  {
   "cell_type": "markdown",
   "id": "d5be252b",
   "metadata": {},
   "source": [
    "Provide a conclusion after analysis."
   ]
  },
  {
   "cell_type": "code",
   "execution_count": null,
   "id": "29e67f44",
   "metadata": {},
   "outputs": [],
   "source": [
    "print('Analysis complete. Review results for insights.')"
   ]
  }
 ],
 "metadata": {
  "kernelspec": {
   "display_name": "Python 3",
   "language": "python",
   "name": "python3"
  },
  "language_info": {
   "codemirror_mode": {
    "name": "ipython",
    "version": 3
   },
   "file_extension": ".py",
   "mimetype": "text/x-python",
   "name": "python",
   "nbconvert_exporter": "python",
   "pygments_lexer": "ipython3",
   "version": "3.8.5"
  }
 },
 "nbformat": 4,
 "nbformat_minor": 5
}
