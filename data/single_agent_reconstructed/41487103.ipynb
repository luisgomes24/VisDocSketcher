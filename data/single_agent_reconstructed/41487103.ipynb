{
 "cells": [
  {
   "cell_type": "markdown",
   "id": "051db4b5",
   "metadata": {},
   "source": [
    "Load the CSV file containing the data."
   ]
  },
  {
   "cell_type": "code",
   "execution_count": null,
   "id": "9dd2ff70",
   "metadata": {},
   "outputs": [],
   "source": [
    "import pandas as pd\n",
    "data = pd.read_csv('train.csv')"
   ]
  },
  {
   "cell_type": "markdown",
   "id": "1a1f0702",
   "metadata": {},
   "source": [
    "Check and print the shape of the loaded data."
   ]
  },
  {
   "cell_type": "code",
   "execution_count": null,
   "id": "9d62c15e",
   "metadata": {},
   "outputs": [],
   "source": [
    "data_shape = data.shape\n",
    "print('Data shape:', data_shape)"
   ]
  },
  {
   "cell_type": "markdown",
   "id": "ee10006a",
   "metadata": {},
   "source": [
    "Load DICOM images from a specified directory."
   ]
  },
  {
   "cell_type": "code",
   "execution_count": null,
   "id": "5619d69f",
   "metadata": {},
   "outputs": [],
   "source": [
    "import pydicom\n",
    "import os\n",
    "images = []\n",
    "for filename in os.listdir('dicom_folder'):\n",
    "    ds = pydicom.dcmread(os.path.join('dicom_folder', filename))\n",
    "    images.append(ds)"
   ]
  },
  {
   "cell_type": "markdown",
   "id": "a4deb70c",
   "metadata": {},
   "source": [
    "Visualize the distribution of organ injuries using a histogram."
   ]
  },
  {
   "cell_type": "code",
   "execution_count": null,
   "id": "3e040098",
   "metadata": {},
   "outputs": [],
   "source": [
    "import matplotlib.pyplot as plt\n",
    "plt.hist(data['Organ Injury'])\n",
    "plt.title('Organ Injury Distribution')\n",
    "plt.xlabel('Injury Type')\n",
    "plt.ylabel('Frequency')\n",
    "plt.show()"
   ]
  },
  {
   "cell_type": "markdown",
   "id": "255e49ed",
   "metadata": {},
   "source": [
    "Create an animated display of CT scan images."
   ]
  },
  {
   "cell_type": "code",
   "execution_count": null,
   "id": "ab56c8bc",
   "metadata": {},
   "outputs": [],
   "source": [
    "import matplotlib.animation as animation\n",
    "fig = plt.figure()\n",
    "img = plt.imshow(images[0].pixel_array, cmap='gray')\n",
    "def update(frame):\n",
    "    img.set_array(images[frame].pixel_array)\n",
    "ani = animation.FuncAnimation(fig, update, frames=len(images))\n",
    "plt.show()"
   ]
  },
  {
   "cell_type": "markdown",
   "id": "319ceac8",
   "metadata": {},
   "source": [
    "Convert DICOM images to NumPy array format and save them."
   ]
  },
  {
   "cell_type": "code",
   "execution_count": null,
   "id": "b88e68cc",
   "metadata": {},
   "outputs": [],
   "source": [
    "import numpy as np\n",
    "for i, img in enumerate(images):\n",
    "    np.save(f'output_folder/image_{i}.npy', img.pixel_array)"
   ]
  },
  {
   "cell_type": "markdown",
   "id": "fc59bdc7",
   "metadata": {},
   "source": [
    "Wrap up the workflow and prepare for future work."
   ]
  },
  {
   "cell_type": "code",
   "execution_count": null,
   "id": "63ba6bee",
   "metadata": {},
   "outputs": [],
   "source": [
    "print('Processing completed. Ready for next steps.')"
   ]
  }
 ],
 "metadata": {
  "kernelspec": {
   "display_name": "Python 3",
   "language": "python",
   "name": "python3"
  },
  "language_info": {
   "codemirror_mode": {
    "name": "ipython",
    "version": 3
   },
   "file_extension": ".py",
   "mimetype": "text/x-python",
   "name": "python",
   "nbconvert_exporter": "python",
   "pygments_lexer": "ipython3",
   "version": "3.8.5"
  }
 },
 "nbformat": 4,
 "nbformat_minor": 5
}
