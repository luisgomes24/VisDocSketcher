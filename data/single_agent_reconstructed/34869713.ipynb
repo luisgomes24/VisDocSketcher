{
 "cells": [
  {
   "cell_type": "markdown",
   "id": "f04eee0f",
   "metadata": {},
   "source": [
    "Load the dataset from a CSV file into a DataFrame."
   ]
  },
  {
   "cell_type": "code",
   "execution_count": null,
   "id": "e77a7934",
   "metadata": {},
   "outputs": [],
   "source": [
    "import pandas as pd\n",
    "\n",
    "data = pd.read_csv('data.csv')"
   ]
  },
  {
   "cell_type": "markdown",
   "id": "82e4f92a",
   "metadata": {},
   "source": [
    "Inspect the data by checking its structure and summary statistics."
   ]
  },
  {
   "cell_type": "code",
   "execution_count": null,
   "id": "368958d9",
   "metadata": {},
   "outputs": [],
   "source": [
    "print(data.info())\n",
    "print(data.describe())"
   ]
  },
  {
   "cell_type": "markdown",
   "id": "f0e8dbc4",
   "metadata": {},
   "source": [
    "Check for missing values in each column of the dataset."
   ]
  },
  {
   "cell_type": "code",
   "execution_count": null,
   "id": "046360fe",
   "metadata": {},
   "outputs": [],
   "source": [
    "missing_values = data.isnull().sum()"
   ]
  },
  {
   "cell_type": "markdown",
   "id": "8f9a2080",
   "metadata": {},
   "source": [
    "Visualize the counts of DEATH_EVENT to understand the class distribution."
   ]
  },
  {
   "cell_type": "code",
   "execution_count": null,
   "id": "397896cc",
   "metadata": {},
   "outputs": [],
   "source": [
    "import matplotlib.pyplot as plt\n",
    "\n",
    "data['DEATH_EVENT'].value_counts().plot(kind='bar')\n",
    "plt.show()"
   ]
  },
  {
   "cell_type": "markdown",
   "id": "bd6c01db",
   "metadata": {},
   "source": [
    "Split the data into training and testing sets."
   ]
  },
  {
   "cell_type": "code",
   "execution_count": null,
   "id": "56bce7cc",
   "metadata": {},
   "outputs": [],
   "source": [
    "from sklearn.model_selection import train_test_split\n",
    "\n",
    "X = data.drop('DEATH_EVENT', axis=1)\n",
    "y = data['DEATH_EVENT']\n",
    "X_train, X_test, y_train, y_test = train_test_split(X, y, test_size=0.2, random_state=42)"
   ]
  },
  {
   "cell_type": "markdown",
   "id": "32bcb979",
   "metadata": {},
   "source": [
    "Apply SMOTE to balance the class distribution in the training set."
   ]
  },
  {
   "cell_type": "code",
   "execution_count": null,
   "id": "2c43c79e",
   "metadata": {},
   "outputs": [],
   "source": [
    "from imblearn.over_sampling import SMOTE\n",
    "\n",
    "smote = SMOTE()\n",
    "X_resampled, y_resampled = smote.fit_resample(X_train, y_train)"
   ]
  },
  {
   "cell_type": "markdown",
   "id": "1fbcfd84",
   "metadata": {},
   "source": [
    "Train a Random Forest model using the resampled training data."
   ]
  },
  {
   "cell_type": "code",
   "execution_count": null,
   "id": "4964bd60",
   "metadata": {},
   "outputs": [],
   "source": [
    "from sklearn.ensemble import RandomForestClassifier\n",
    "\n",
    "model = RandomForestClassifier()\n",
    "model.fit(X_resampled, y_resampled)"
   ]
  },
  {
   "cell_type": "markdown",
   "id": "6206cbb2",
   "metadata": {},
   "source": [
    "Evaluate the model using cross-validation to assess its performance."
   ]
  },
  {
   "cell_type": "code",
   "execution_count": null,
   "id": "948c5efa",
   "metadata": {},
   "outputs": [],
   "source": [
    "from sklearn.model_selection import cross_val_score\n",
    "\n",
    "cv_scores = cross_val_score(model, X_test, y_test, cv=5)"
   ]
  },
  {
   "cell_type": "markdown",
   "id": "0de3eb48",
   "metadata": {},
   "source": [
    "Calculate and display the mean cross-validation score."
   ]
  },
  {
   "cell_type": "code",
   "execution_count": null,
   "id": "2c6d4075",
   "metadata": {},
   "outputs": [],
   "source": [
    "import numpy as np\n",
    "\n",
    "mean_cv_score = np.mean(cv_scores)\n",
    "print(f'Mean CV Score: {mean_cv_score}')"
   ]
  }
 ],
 "metadata": {
  "kernelspec": {
   "display_name": "Python 3",
   "language": "python",
   "name": "python3"
  },
  "language_info": {
   "codemirror_mode": {
    "name": "ipython",
    "version": 3
   },
   "file_extension": ".py",
   "mimetype": "text/x-python",
   "name": "python",
   "nbconvert_exporter": "python",
   "pygments_lexer": "ipython3",
   "version": "3.8.5"
  }
 },
 "nbformat": 4,
 "nbformat_minor": 5
}
