{
 "cells": [
  {
   "cell_type": "markdown",
   "id": "9f61ca13",
   "metadata": {},
   "source": [
    "Load the dataset from a CSV file using pandas."
   ]
  },
  {
   "cell_type": "code",
   "execution_count": null,
   "id": "06bad8ea",
   "metadata": {},
   "outputs": [],
   "source": [
    "dataset = pd.read_csv('path/to/your/dataset.csv')"
   ]
  },
  {
   "cell_type": "markdown",
   "id": "11f7e3f1",
   "metadata": {},
   "source": [
    "Preview the first few rows of the dataset."
   ]
  },
  {
   "cell_type": "code",
   "execution_count": null,
   "id": "aebd3628",
   "metadata": {},
   "outputs": [],
   "source": [
    "dataset.head()"
   ]
  },
  {
   "cell_type": "markdown",
   "id": "f2149599",
   "metadata": {},
   "source": [
    "Preprocess data by selecting relevant columns up to 'label'."
   ]
  },
  {
   "cell_type": "code",
   "execution_count": null,
   "id": "1a6da7fc",
   "metadata": {},
   "outputs": [],
   "source": [
    "dataset = dataset.loc[:, :'label']"
   ]
  },
  {
   "cell_type": "markdown",
   "id": "4e504918",
   "metadata": {},
   "source": [
    "Shuffle the dataset and reset the index."
   ]
  },
  {
   "cell_type": "code",
   "execution_count": null,
   "id": "e95370ac",
   "metadata": {},
   "outputs": [],
   "source": [
    "dataset = dataset.sample(frac=1).reset_index(drop=True)"
   ]
  },
  {
   "cell_type": "markdown",
   "id": "edf51421",
   "metadata": {},
   "source": [
    "Display information about the dataset, including data types."
   ]
  },
  {
   "cell_type": "code",
   "execution_count": null,
   "id": "32938c3a",
   "metadata": {},
   "outputs": [],
   "source": [
    "dataset.info()"
   ]
  },
  {
   "cell_type": "markdown",
   "id": "3db969ed",
   "metadata": {},
   "source": [
    "Get the count of unique values in each column."
   ]
  },
  {
   "cell_type": "code",
   "execution_count": null,
   "id": "a4eea2ed",
   "metadata": {},
   "outputs": [],
   "source": [
    "unique_counts = dataset.nunique()"
   ]
  },
  {
   "cell_type": "markdown",
   "id": "77cae3de",
   "metadata": {},
   "source": [
    "Split the dataset into training and unseen data."
   ]
  },
  {
   "cell_type": "code",
   "execution_count": null,
   "id": "99e714d2",
   "metadata": {},
   "outputs": [],
   "source": [
    "model_data, unseen_data = train_test_split(dataset, test_size=0.2)"
   ]
  },
  {
   "cell_type": "markdown",
   "id": "c1833e14",
   "metadata": {},
   "source": [
    "Install the PyCaret library for model comparison."
   ]
  },
  {
   "cell_type": "code",
   "execution_count": null,
   "id": "aa245091",
   "metadata": {},
   "outputs": [],
   "source": [
    "!pip install pycaret"
   ]
  },
  {
   "cell_type": "markdown",
   "id": "bcfa056e",
   "metadata": {},
   "source": [
    "Setup PyCaret with the training data and specify the target variable."
   ]
  },
  {
   "cell_type": "code",
   "execution_count": null,
   "id": "fdc084e9",
   "metadata": {},
   "outputs": [],
   "source": [
    "exp_clf101 = setup(data=model_data, target='label')"
   ]
  },
  {
   "cell_type": "markdown",
   "id": "f733db49",
   "metadata": {},
   "source": [
    "Compare different models using PyCaret."
   ]
  },
  {
   "cell_type": "code",
   "execution_count": null,
   "id": "f0431532",
   "metadata": {},
   "outputs": [],
   "source": [
    "compare_models()"
   ]
  }
 ],
 "metadata": {
  "kernelspec": {
   "display_name": "Python 3",
   "language": "python",
   "name": "python3"
  },
  "language_info": {
   "codemirror_mode": {
    "name": "ipython",
    "version": 3
   },
   "file_extension": ".py",
   "mimetype": "text/x-python",
   "name": "python",
   "nbconvert_exporter": "python",
   "pygments_lexer": "ipython3",
   "version": "3.8.5"
  }
 },
 "nbformat": 4,
 "nbformat_minor": 5
}
