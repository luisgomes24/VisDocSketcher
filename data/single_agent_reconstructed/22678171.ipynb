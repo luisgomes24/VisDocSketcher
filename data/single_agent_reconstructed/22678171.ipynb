{
 "cells": [
  {
   "cell_type": "markdown",
   "id": "575b5495",
   "metadata": {},
   "source": [
    "Load data from a CSV file into a DataFrame."
   ]
  },
  {
   "cell_type": "code",
   "execution_count": null,
   "id": "003d4d6c",
   "metadata": {},
   "outputs": [],
   "source": [
    "import pandas as pd\n",
    "\n",
    "data = pd.read_csv('data.csv')"
   ]
  },
  {
   "cell_type": "markdown",
   "id": "1c5d7d23",
   "metadata": {},
   "source": [
    "Group and sort the departures based on time."
   ]
  },
  {
   "cell_type": "code",
   "execution_count": null,
   "id": "fe9bbf3a",
   "metadata": {},
   "outputs": [],
   "source": [
    "departures = data[data['Type'] == 'Departure'].sort_values(by='Time')"
   ]
  },
  {
   "cell_type": "markdown",
   "id": "cdaea6ae",
   "metadata": {},
   "source": [
    "Convert counts of departures to negative values."
   ]
  },
  {
   "cell_type": "code",
   "execution_count": null,
   "id": "de7bfc1e",
   "metadata": {},
   "outputs": [],
   "source": [
    "departures['Count'] = -departures['Count']"
   ]
  },
  {
   "cell_type": "markdown",
   "id": "b9a267be",
   "metadata": {},
   "source": [
    "Group and sort the arrivals based on time."
   ]
  },
  {
   "cell_type": "code",
   "execution_count": null,
   "id": "6f9a6233",
   "metadata": {},
   "outputs": [],
   "source": [
    "arrivals = data[data['Type'] == 'Arrival'].sort_values(by='Time')"
   ]
  },
  {
   "cell_type": "markdown",
   "id": "62ed5e98",
   "metadata": {},
   "source": [
    "Standardize the column names by stripping and replacing spaces."
   ]
  },
  {
   "cell_type": "code",
   "execution_count": null,
   "id": "2bf64a73",
   "metadata": {},
   "outputs": [],
   "source": [
    "data.columns = data.columns.str.strip().str.lower().str.replace(' ', '_')"
   ]
  },
  {
   "cell_type": "markdown",
   "id": "12221e10",
   "metadata": {},
   "source": [
    "Combine the departures and arrivals into a single DataFrame."
   ]
  },
  {
   "cell_type": "code",
   "execution_count": null,
   "id": "843fa01d",
   "metadata": {},
   "outputs": [],
   "source": [
    "combined_data = pd.concat([departures, arrivals])"
   ]
  },
  {
   "cell_type": "markdown",
   "id": "21750f21",
   "metadata": {},
   "source": [
    "Sort the combined data based on time."
   ]
  },
  {
   "cell_type": "code",
   "execution_count": null,
   "id": "6f94f963",
   "metadata": {},
   "outputs": [],
   "source": [
    "combined_data = combined_data.sort_values(by='time')"
   ]
  },
  {
   "cell_type": "markdown",
   "id": "6deb2ad9",
   "metadata": {},
   "source": [
    "Calculate availability by taking the cumulative sum of counts."
   ]
  },
  {
   "cell_type": "code",
   "execution_count": null,
   "id": "b37acb4a",
   "metadata": {},
   "outputs": [],
   "source": [
    "combined_data['availability'] = combined_data['Count'].cumsum()"
   ]
  },
  {
   "cell_type": "markdown",
   "id": "855370f9",
   "metadata": {},
   "source": [
    "Load trip data from a CSV file into a DataFrame."
   ]
  },
  {
   "cell_type": "code",
   "execution_count": null,
   "id": "b590633b",
   "metadata": {},
   "outputs": [],
   "source": [
    "trip_data = pd.read_csv('trip_data.csv')"
   ]
  },
  {
   "cell_type": "markdown",
   "id": "4c0d668c",
   "metadata": {},
   "source": [
    "Group and sort the trip data by Trip ID."
   ]
  },
  {
   "cell_type": "code",
   "execution_count": null,
   "id": "876b94e8",
   "metadata": {},
   "outputs": [],
   "source": [
    "grouped_trip_data = trip_data.sort_values(by='Trip_ID')"
   ]
  },
  {
   "cell_type": "markdown",
   "id": "8bb4da49",
   "metadata": {},
   "source": [
    "Identify discontinuities in the trip data."
   ]
  },
  {
   "cell_type": "code",
   "execution_count": null,
   "id": "d8da7e5e",
   "metadata": {},
   "outputs": [],
   "source": [
    "discontinuities = find_discontinuities(grouped_trip_data)"
   ]
  },
  {
   "cell_type": "markdown",
   "id": "394974ff",
   "metadata": {},
   "source": [
    "Create separate DataFrames for arrivals and departures."
   ]
  },
  {
   "cell_type": "code",
   "execution_count": null,
   "id": "ec944c0a",
   "metadata": {},
   "outputs": [],
   "source": [
    "arrival_df = combined_data[combined_data['Type'] == 'Arrival']\n",
    "departure_df = combined_data[combined_data['Type'] == 'Departure']"
   ]
  },
  {
   "cell_type": "markdown",
   "id": "21343749",
   "metadata": {},
   "source": [
    "Sort arrival and departure DataFrames by time."
   ]
  },
  {
   "cell_type": "code",
   "execution_count": null,
   "id": "16272e45",
   "metadata": {},
   "outputs": [],
   "source": [
    "arrival_df = arrival_df.sort_values(by='Time')\n",
    "departure_df = departure_df.sort_values(by='Time')"
   ]
  },
  {
   "cell_type": "markdown",
   "id": "51e9554b",
   "metadata": {},
   "source": [
    "Append arrivals and departures together."
   ]
  },
  {
   "cell_type": "code",
   "execution_count": null,
   "id": "497f20e6",
   "metadata": {},
   "outputs": [],
   "source": [
    "final_data = pd.concat([arrival_df, departure_df])"
   ]
  },
  {
   "cell_type": "markdown",
   "id": "fe9b944f",
   "metadata": {},
   "source": [
    "Calculate cumulative availability across the dataset."
   ]
  },
  {
   "cell_type": "code",
   "execution_count": null,
   "id": "a5ea0369",
   "metadata": {},
   "outputs": [],
   "source": [
    "final_data['cumulative_availability'] = final_data['availability'].cumsum()"
   ]
  },
  {
   "cell_type": "markdown",
   "id": "dc0162c7",
   "metadata": {},
   "source": [
    "Save the final DataFrame to a CSV file."
   ]
  },
  {
   "cell_type": "code",
   "execution_count": null,
   "id": "d3eb12e2",
   "metadata": {},
   "outputs": [],
   "source": [
    "final_data.to_csv('output.csv', index=False)"
   ]
  }
 ],
 "metadata": {
  "kernelspec": {
   "display_name": "Python 3",
   "language": "python",
   "name": "python3"
  },
  "language_info": {
   "codemirror_mode": {
    "name": "ipython",
    "version": 3
   },
   "file_extension": ".py",
   "mimetype": "text/x-python",
   "name": "python",
   "nbconvert_exporter": "python",
   "pygments_lexer": "ipython3",
   "version": "3.8.5"
  }
 },
 "nbformat": 4,
 "nbformat_minor": 5
}
