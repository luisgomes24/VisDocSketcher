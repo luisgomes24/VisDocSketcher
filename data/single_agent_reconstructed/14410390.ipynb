{
 "cells": [
  {
   "cell_type": "markdown",
   "id": "b9e80655",
   "metadata": {},
   "source": [
    "Load the dataset into a DataFrame."
   ]
  },
  {
   "cell_type": "code",
   "execution_count": null,
   "id": "c50d2bda",
   "metadata": {},
   "outputs": [],
   "source": [
    "import pandas as pd\n",
    "\n",
    "data = pd.read_csv('data.csv')"
   ]
  },
  {
   "cell_type": "markdown",
   "id": "3b264e82",
   "metadata": {},
   "source": [
    "Get an overview of the data, including column types and counts."
   ]
  },
  {
   "cell_type": "code",
   "execution_count": null,
   "id": "cef1dbf5",
   "metadata": {},
   "outputs": [],
   "source": [
    "data.info()"
   ]
  },
  {
   "cell_type": "markdown",
   "id": "0af05c94",
   "metadata": {},
   "source": [
    "Plot histograms to visualize the distribution of numerical features."
   ]
  },
  {
   "cell_type": "code",
   "execution_count": null,
   "id": "d8684225",
   "metadata": {},
   "outputs": [],
   "source": [
    "import matplotlib.pyplot as plt\n",
    "\n",
    "plt.hist(data['column_name'])\n",
    "plt.show()"
   ]
  },
  {
   "cell_type": "markdown",
   "id": "8b6d8869",
   "metadata": {},
   "source": [
    "Create scatter plots to examine relationships between features."
   ]
  },
  {
   "cell_type": "code",
   "execution_count": null,
   "id": "36fe068d",
   "metadata": {},
   "outputs": [],
   "source": [
    "plt.scatter(data['x_column'], data['y_column'])\n",
    "plt.xlabel('X Axis')\n",
    "plt.ylabel('Y Axis')\n",
    "plt.show()"
   ]
  },
  {
   "cell_type": "markdown",
   "id": "7630b87f",
   "metadata": {},
   "source": [
    "Calculate the correlation matrix to find relationships between variables."
   ]
  },
  {
   "cell_type": "code",
   "execution_count": null,
   "id": "42a3b9a0",
   "metadata": {},
   "outputs": [],
   "source": [
    "corr_matrix = data.corr()"
   ]
  },
  {
   "cell_type": "markdown",
   "id": "d36f7b9f",
   "metadata": {},
   "source": [
    "One-hot encode the 'sex' feature to prepare it for modeling."
   ]
  },
  {
   "cell_type": "code",
   "execution_count": null,
   "id": "849bf306",
   "metadata": {},
   "outputs": [],
   "source": [
    "data['sex'] = pd.get_dummies(data['sex'], drop_first=True)"
   ]
  },
  {
   "cell_type": "markdown",
   "id": "ed36105e",
   "metadata": {},
   "source": [
    "Fill missing values with the mean of each column."
   ]
  },
  {
   "cell_type": "code",
   "execution_count": null,
   "id": "115186e0",
   "metadata": {},
   "outputs": [],
   "source": [
    "data.fillna(data.mean(), inplace=True)"
   ]
  },
  {
   "cell_type": "markdown",
   "id": "655a3ba6",
   "metadata": {},
   "source": [
    "Label encode the 'embarked' feature for categorical handling."
   ]
  },
  {
   "cell_type": "code",
   "execution_count": null,
   "id": "7a9db8cc",
   "metadata": {},
   "outputs": [],
   "source": [
    "from sklearn.preprocessing import LabelEncoder\n",
    "\n",
    "le = LabelEncoder()\n",
    "data['embarked'] = le.fit_transform(data['embarked'])"
   ]
  },
  {
   "cell_type": "markdown",
   "id": "b5055c25",
   "metadata": {},
   "source": [
    "Finalize features for modeling by dropping unnecessary columns."
   ]
  },
  {
   "cell_type": "code",
   "execution_count": null,
   "id": "67c15b1f",
   "metadata": {},
   "outputs": [],
   "source": [
    "final_features = data.drop(['unwanted_column'], axis=1)"
   ]
  },
  {
   "cell_type": "markdown",
   "id": "aa66b339",
   "metadata": {},
   "source": [
    "Split the data into training and testing sets."
   ]
  },
  {
   "cell_type": "code",
   "execution_count": null,
   "id": "86247f3f",
   "metadata": {},
   "outputs": [],
   "source": [
    "from sklearn.model_selection import train_test_split\n",
    "\n",
    "X = final_features.drop('target', axis=1)\n",
    "y = final_features['target']\n",
    "X_train, X_test, y_train, y_test = train_test_split(X, y, test_size=0.2)"
   ]
  },
  {
   "cell_type": "markdown",
   "id": "e6512457",
   "metadata": {},
   "source": [
    "Prepare and train the model using a Random Forest classifier."
   ]
  },
  {
   "cell_type": "code",
   "execution_count": null,
   "id": "b24638c1",
   "metadata": {},
   "outputs": [],
   "source": [
    "from sklearn.ensemble import RandomForestClassifier\n",
    "\n",
    "model = RandomForestClassifier()\n",
    "model.fit(X_train, y_train)"
   ]
  },
  {
   "cell_type": "markdown",
   "id": "5fcea87f",
   "metadata": {},
   "source": [
    "Perform hyperparameter tuning to find the best model parameters."
   ]
  },
  {
   "cell_type": "code",
   "execution_count": null,
   "id": "b21d95d3",
   "metadata": {},
   "outputs": [],
   "source": [
    "from sklearn.model_selection import GridSearchCV\n",
    "\n",
    "param_grid = {'n_estimators': [10, 50, 100]}\n",
    "grid_search = GridSearchCV(model, param_grid, cv=5)\n",
    "grid_search.fit(X_train, y_train)"
   ]
  },
  {
   "cell_type": "markdown",
   "id": "7446920b",
   "metadata": {},
   "source": [
    "Evaluate the model's performance on the test set."
   ]
  },
  {
   "cell_type": "code",
   "execution_count": null,
   "id": "2b650e5f",
   "metadata": {},
   "outputs": [],
   "source": [
    "from sklearn.metrics import accuracy_score\n",
    "\n",
    "y_pred = model.predict(X_test)\n",
    "accuracy = accuracy_score(y_test, y_pred)"
   ]
  },
  {
   "cell_type": "markdown",
   "id": "5f56f5a5",
   "metadata": {},
   "source": [
    "Perform cross-validation to assess the model's generalization ability."
   ]
  },
  {
   "cell_type": "code",
   "execution_count": null,
   "id": "62b58887",
   "metadata": {},
   "outputs": [],
   "source": [
    "from sklearn.model_selection import cross_val_score\n",
    "\n",
    "cv_scores = cross_val_score(model, X, y, cv=5)"
   ]
  },
  {
   "cell_type": "markdown",
   "id": "419c009c",
   "metadata": {},
   "source": [
    "Save the trained model for future use."
   ]
  },
  {
   "cell_type": "code",
   "execution_count": null,
   "id": "87a6e006",
   "metadata": {},
   "outputs": [],
   "source": [
    "import joblib\n",
    "\n",
    "joblib.dump(model, 'model.pkl')"
   ]
  }
 ],
 "metadata": {
  "kernelspec": {
   "display_name": "Python 3",
   "language": "python",
   "name": "python3"
  },
  "language_info": {
   "codemirror_mode": {
    "name": "ipython",
    "version": 3
   },
   "file_extension": ".py",
   "mimetype": "text/x-python",
   "name": "python",
   "nbconvert_exporter": "python",
   "pygments_lexer": "ipython3",
   "version": "3.8.5"
  }
 },
 "nbformat": 4,
 "nbformat_minor": 5
}
