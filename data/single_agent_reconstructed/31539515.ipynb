{
 "cells": [
  {
   "cell_type": "markdown",
   "id": "ad757e2f",
   "metadata": {},
   "source": [
    "Load the dataset from a CSV file into a DataFrame."
   ]
  },
  {
   "cell_type": "code",
   "execution_count": null,
   "id": "1dfc5fe8",
   "metadata": {},
   "outputs": [],
   "source": [
    "import pandas as pd\n",
    "df = pd.read_csv('data.csv')"
   ]
  },
  {
   "cell_type": "markdown",
   "id": "96a6bced",
   "metadata": {},
   "source": [
    "Preprocess data by removing any rows with missing values."
   ]
  },
  {
   "cell_type": "code",
   "execution_count": null,
   "id": "c96a6a0b",
   "metadata": {},
   "outputs": [],
   "source": [
    "df.dropna(inplace=True)"
   ]
  },
  {
   "cell_type": "markdown",
   "id": "983617d5",
   "metadata": {},
   "source": [
    "Visualize the skew of the data using a scatter plot."
   ]
  },
  {
   "cell_type": "code",
   "execution_count": null,
   "id": "6eb70a5e",
   "metadata": {},
   "outputs": [],
   "source": [
    "import seaborn as sns\n",
    "import matplotlib.pyplot as plt\n",
    "sns.scatterplot(x='X Axis', y='Y Axis', data=df)\n",
    "plt.show()"
   ]
  },
  {
   "cell_type": "markdown",
   "id": "2ed3004a",
   "metadata": {},
   "source": [
    "Calculate the angle required for rotation based on the data's mean values."
   ]
  },
  {
   "cell_type": "code",
   "execution_count": null,
   "id": "90683eaa",
   "metadata": {},
   "outputs": [],
   "source": [
    "import numpy as np\n",
    "rotate_angle = np.arctan2(df['Y Axis'].mean(), df['X Axis'].mean()) * (180 / np.pi)"
   ]
  },
  {
   "cell_type": "markdown",
   "id": "123e619e",
   "metadata": {},
   "source": [
    "Calculate new features after rotating the positions by the angle."
   ]
  },
  {
   "cell_type": "code",
   "execution_count": null,
   "id": "e5487151",
   "metadata": {},
   "outputs": [],
   "source": [
    "features = df.copy()\n",
    "features['X Rotated'] = features['X Axis'] * np.cos(np.radians(rotate_angle)) - features['Y Axis'] * np.sin(np.radians(rotate_angle))\n",
    "features['Y Rotated'] = features['X Axis'] * np.sin(np.radians(rotate_angle)) + features['Y Axis'] * np.cos(np.radians(rotate_angle))"
   ]
  },
  {
   "cell_type": "markdown",
   "id": "1eb55ff0",
   "metadata": {},
   "source": [
    "Plot the newly calculated features against time."
   ]
  },
  {
   "cell_type": "code",
   "execution_count": null,
   "id": "ba35b2b7",
   "metadata": {},
   "outputs": [],
   "source": [
    "sns.lineplot(x='Time', y='Metric', data=features)\n",
    "plt.show()"
   ]
  },
  {
   "cell_type": "markdown",
   "id": "c4d112aa",
   "metadata": {},
   "source": [
    "Scatter plot the rotated positions to visualize the transformation."
   ]
  },
  {
   "cell_type": "code",
   "execution_count": null,
   "id": "6f87e22d",
   "metadata": {},
   "outputs": [],
   "source": [
    "sns.scatterplot(x='X Rotated', y='Y Rotated', data=features)\n",
    "plt.show()"
   ]
  }
 ],
 "metadata": {
  "kernelspec": {
   "display_name": "Python 3",
   "language": "python",
   "name": "python3"
  },
  "language_info": {
   "codemirror_mode": {
    "name": "ipython",
    "version": 3
   },
   "file_extension": ".py",
   "mimetype": "text/x-python",
   "name": "python",
   "nbconvert_exporter": "python",
   "pygments_lexer": "ipython3",
   "version": "3.8.5"
  }
 },
 "nbformat": 4,
 "nbformat_minor": 5
}
