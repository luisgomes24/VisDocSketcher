{
 "cells": [
  {
   "cell_type": "markdown",
   "id": "cb10a251",
   "metadata": {},
   "source": [
    "Load the dataset from a CSV file using pandas."
   ]
  },
  {
   "cell_type": "code",
   "execution_count": null,
   "id": "40a28cea",
   "metadata": {},
   "outputs": [],
   "source": [
    "import pandas as pd\n",
    "data = pd.read_csv('data.csv')"
   ]
  },
  {
   "cell_type": "markdown",
   "id": "724f1d64",
   "metadata": {},
   "source": [
    "Check for null values in the dataset."
   ]
  },
  {
   "cell_type": "code",
   "execution_count": null,
   "id": "7e20d288",
   "metadata": {},
   "outputs": [],
   "source": [
    "null_check = data.isnull().sum()"
   ]
  },
  {
   "cell_type": "markdown",
   "id": "a72d13d8",
   "metadata": {},
   "source": [
    "Confirm that there are no null values."
   ]
  },
  {
   "cell_type": "code",
   "execution_count": null,
   "id": "1095b438",
   "metadata": {},
   "outputs": [],
   "source": [
    "if null_check.sum() == 0:\n",
    "    print('No Null Values')"
   ]
  },
  {
   "cell_type": "markdown",
   "id": "11354f4a",
   "metadata": {},
   "source": [
    "Preprocess the data by scaling numerical features."
   ]
  },
  {
   "cell_type": "code",
   "execution_count": null,
   "id": "28c83fb5",
   "metadata": {},
   "outputs": [],
   "source": [
    "from sklearn.preprocessing import StandardScaler\n",
    "scaler = StandardScaler()\n",
    "data_scaled = scaler.fit_transform(data.select_dtypes(include=['float64', 'int']))"
   ]
  },
  {
   "cell_type": "markdown",
   "id": "3f08b3f5",
   "metadata": {},
   "source": [
    "Split the data into training and testing sets."
   ]
  },
  {
   "cell_type": "code",
   "execution_count": null,
   "id": "b4f276ca",
   "metadata": {},
   "outputs": [],
   "source": [
    "from sklearn.model_selection import train_test_split\n",
    "X_train, X_test, y_train, y_test = train_test_split(data_scaled, data['target'], test_size=0.2, random_state=42)"
   ]
  },
  {
   "cell_type": "markdown",
   "id": "ce61b0f8",
   "metadata": {},
   "source": [
    "Create and train a baseline model."
   ]
  },
  {
   "cell_type": "code",
   "execution_count": null,
   "id": "5fae3c18",
   "metadata": {},
   "outputs": [],
   "source": [
    "from sklearn.linear_model import LinearRegression\n",
    "model = LinearRegression()\n",
    "model.fit(X_train, y_train)"
   ]
  },
  {
   "cell_type": "markdown",
   "id": "984e2811",
   "metadata": {},
   "source": [
    "Tune hyperparameters using Optuna for optimal performance."
   ]
  },
  {
   "cell_type": "code",
   "execution_count": null,
   "id": "386d5af9",
   "metadata": {},
   "outputs": [],
   "source": [
    "import optuna\n",
    "def objective(trial):\n",
    "    param = {'alpha': trial.suggest_float('alpha', 0.0, 1.0)}\n",
    "    model = LinearRegression(**param)\n",
    "    model.fit(X_train, y_train)\n",
    "    return model.score(X_test, y_test)\n",
    "study = optuna.create_study()\n",
    "study.optimize(objective, n_trials=100)"
   ]
  },
  {
   "cell_type": "markdown",
   "id": "4720fbd2",
   "metadata": {},
   "source": [
    "Visualize the results of the hyperparameter tuning."
   ]
  },
  {
   "cell_type": "code",
   "execution_count": null,
   "id": "d19b3220",
   "metadata": {},
   "outputs": [],
   "source": [
    "optuna.visualization.plot_optimization_history(study)"
   ]
  },
  {
   "cell_type": "markdown",
   "id": "19166338",
   "metadata": {},
   "source": [
    "Retrieve the best parameters found during tuning."
   ]
  },
  {
   "cell_type": "code",
   "execution_count": null,
   "id": "94fdbac5",
   "metadata": {},
   "outputs": [],
   "source": [
    "best_params = study.best_params"
   ]
  },
  {
   "cell_type": "markdown",
   "id": "68cdac6c",
   "metadata": {},
   "source": [
    "Make predictions using the trained model."
   ]
  },
  {
   "cell_type": "code",
   "execution_count": null,
   "id": "ff5c9e6d",
   "metadata": {},
   "outputs": [],
   "source": [
    "predictions = model.predict(X_test)"
   ]
  },
  {
   "cell_type": "markdown",
   "id": "6f29b0f5",
   "metadata": {},
   "source": [
    "Create a submission file with predictions."
   ]
  },
  {
   "cell_type": "code",
   "execution_count": null,
   "id": "b9f664cd",
   "metadata": {},
   "outputs": [],
   "source": [
    "submission = pd.DataFrame({'Id': test_ids, 'Predictions': predictions})\n",
    "submission.to_csv('submission.csv', index=False)"
   ]
  },
  {
   "cell_type": "markdown",
   "id": "7301c23b",
   "metadata": {},
   "source": [
    "Preview the submission file."
   ]
  },
  {
   "cell_type": "code",
   "execution_count": null,
   "id": "32f03937",
   "metadata": {},
   "outputs": [],
   "source": [
    "submission.head()"
   ]
  }
 ],
 "metadata": {
  "kernelspec": {
   "display_name": "Python 3",
   "language": "python",
   "name": "python3"
  },
  "language_info": {
   "codemirror_mode": {
    "name": "ipython",
    "version": 3
   },
   "file_extension": ".py",
   "mimetype": "text/x-python",
   "name": "python",
   "nbconvert_exporter": "python",
   "pygments_lexer": "ipython3",
   "version": "3.8.5"
  }
 },
 "nbformat": 4,
 "nbformat_minor": 5
}
