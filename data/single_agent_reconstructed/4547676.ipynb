{
 "cells": [
  {
   "cell_type": "markdown",
   "id": "fc4267f5",
   "metadata": {},
   "source": [
    "Connect to the SQL database using SQLite."
   ]
  },
  {
   "cell_type": "code",
   "execution_count": null,
   "id": "c9d8f40a",
   "metadata": {},
   "outputs": [],
   "source": [
    "import sqlite3\n",
    "conn = sqlite3.connect('chicago_crime.db')"
   ]
  },
  {
   "cell_type": "markdown",
   "id": "9f59cbb9",
   "metadata": {},
   "source": [
    "Load the Chicago crime dataset into a DataFrame."
   ]
  },
  {
   "cell_type": "code",
   "execution_count": null,
   "id": "e2340eba",
   "metadata": {},
   "outputs": [],
   "source": [
    "import pandas as pd\n",
    "df = pd.read_sql_query('SELECT * FROM crime_data', conn)"
   ]
  },
  {
   "cell_type": "markdown",
   "id": "150a918c",
   "metadata": {},
   "source": [
    "Preview the first few rows of the dataset."
   ]
  },
  {
   "cell_type": "code",
   "execution_count": null,
   "id": "05f72c86",
   "metadata": {},
   "outputs": [],
   "source": [
    "print(df.head())"
   ]
  },
  {
   "cell_type": "markdown",
   "id": "d1127393",
   "metadata": {},
   "source": [
    "Analyze the schema of the dataset for data types and missing values."
   ]
  },
  {
   "cell_type": "code",
   "execution_count": null,
   "id": "e381eb2c",
   "metadata": {},
   "outputs": [],
   "source": [
    "print(df.info())"
   ]
  },
  {
   "cell_type": "markdown",
   "id": "b2e4dccd",
   "metadata": {},
   "source": [
    "Select specific features from the dataset for visualization."
   ]
  },
  {
   "cell_type": "code",
   "execution_count": null,
   "id": "b00ac8cf",
   "metadata": {},
   "outputs": [],
   "source": [
    "selected_features = df[['feature1', 'feature2', 'feature3']]"
   ]
  }
 ],
 "metadata": {
  "kernelspec": {
   "display_name": "Python 3",
   "language": "python",
   "name": "python3"
  },
  "language_info": {
   "codemirror_mode": {
    "name": "ipython",
    "version": 3
   },
   "file_extension": ".py",
   "mimetype": "text/x-python",
   "name": "python",
   "nbconvert_exporter": "python",
   "pygments_lexer": "ipython3",
   "version": "3.8.5"
  }
 },
 "nbformat": 4,
 "nbformat_minor": 5
}
