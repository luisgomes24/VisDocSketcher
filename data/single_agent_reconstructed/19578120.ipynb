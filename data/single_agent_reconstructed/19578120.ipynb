{
 "cells": [
  {
   "cell_type": "markdown",
   "id": "5dd7f571",
   "metadata": {},
   "source": [
    "Load data from a CSV file into a DataFrame."
   ]
  },
  {
   "cell_type": "code",
   "execution_count": null,
   "id": "5fd11376",
   "metadata": {},
   "outputs": [],
   "source": [
    "import pandas as pd\n",
    "df = pd.read_csv('data.csv')"
   ]
  },
  {
   "cell_type": "markdown",
   "id": "1d9d9d6c",
   "metadata": {},
   "source": [
    "Display the first few rows of the DataFrame for exploration."
   ]
  },
  {
   "cell_type": "code",
   "execution_count": null,
   "id": "f3e12905",
   "metadata": {},
   "outputs": [],
   "source": [
    "print(df.head())"
   ]
  },
  {
   "cell_type": "markdown",
   "id": "50555357",
   "metadata": {},
   "source": [
    "Prepare data for Pareto analysis by aggregating it based on categories."
   ]
  },
  {
   "cell_type": "code",
   "execution_count": null,
   "id": "43f692b4",
   "metadata": {},
   "outputs": [],
   "source": [
    "# Setup for Pareto Analysis\n",
    "pareto_data = df.groupby('category').sum()"
   ]
  },
  {
   "cell_type": "markdown",
   "id": "cfc36bc7",
   "metadata": {},
   "source": [
    "Create and display a Pareto chart for customers' sales."
   ]
  },
  {
   "cell_type": "code",
   "execution_count": null,
   "id": "cbe25c8a",
   "metadata": {},
   "outputs": [],
   "source": [
    "import matplotlib.pyplot as plt\n",
    "pareto_data['sales'].plot(kind='bar')\n",
    "plt.title('Pareto Chart for Customers')\n",
    "plt.show()"
   ]
  },
  {
   "cell_type": "markdown",
   "id": "1f5712c1",
   "metadata": {},
   "source": [
    "Create and display a Pareto chart for products' sales."
   ]
  },
  {
   "cell_type": "code",
   "execution_count": null,
   "id": "bf75fa5c",
   "metadata": {},
   "outputs": [],
   "source": [
    "pareto_data.plot(kind='bar')\n",
    "plt.title('Pareto Chart for Products')\n",
    "plt.show()"
   ]
  },
  {
   "cell_type": "markdown",
   "id": "de8de1a0",
   "metadata": {},
   "source": [
    "Analyze results by counting the number of sales per customer and product."
   ]
  },
  {
   "cell_type": "code",
   "execution_count": null,
   "id": "620cf3ee",
   "metadata": {},
   "outputs": [],
   "source": [
    "# Analyze Results\n",
    "customer_counts = df['customer_id'].value_counts()\n",
    "product_counts = df['product_id'].value_counts()"
   ]
  },
  {
   "cell_type": "markdown",
   "id": "6a5dfebe",
   "metadata": {},
   "source": [
    "Identify the top 10 customers and products based on sales."
   ]
  },
  {
   "cell_type": "code",
   "execution_count": null,
   "id": "05fde3c6",
   "metadata": {},
   "outputs": [],
   "source": [
    "top_customers = customer_counts.nlargest(10)\n",
    "top_products = product_counts.nlargest(10)"
   ]
  }
 ],
 "metadata": {
  "kernelspec": {
   "display_name": "Python 3",
   "language": "python",
   "name": "python3"
  },
  "language_info": {
   "codemirror_mode": {
    "name": "ipython",
    "version": 3
   },
   "file_extension": ".py",
   "mimetype": "text/x-python",
   "name": "python",
   "nbconvert_exporter": "python",
   "pygments_lexer": "ipython3",
   "version": "3.8.5"
  }
 },
 "nbformat": 4,
 "nbformat_minor": 5
}
