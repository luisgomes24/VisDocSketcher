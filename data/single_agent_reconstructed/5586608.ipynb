{
 "cells": [
  {
   "cell_type": "markdown",
   "id": "81c4f774",
   "metadata": {},
   "source": [
    "Load the dataset from a CSV file using pandas."
   ]
  },
  {
   "cell_type": "code",
   "execution_count": null,
   "id": "836fa2b6",
   "metadata": {},
   "outputs": [],
   "source": [
    "import pandas as pd\n",
    "dataset = pd.read_csv('commits.csv')"
   ]
  },
  {
   "cell_type": "markdown",
   "id": "97ac0790",
   "metadata": {},
   "source": [
    "Sample a table of commits and display the first 5 rows."
   ]
  },
  {
   "cell_type": "code",
   "execution_count": null,
   "id": "a0fbaad6",
   "metadata": {},
   "outputs": [],
   "source": [
    "sample_commits = dataset.sample(5)\n",
    "print(sample_commits)"
   ]
  },
  {
   "cell_type": "markdown",
   "id": "75f5acb1",
   "metadata": {},
   "source": [
    "Print the data types of each column to show the schema."
   ]
  },
  {
   "cell_type": "code",
   "execution_count": null,
   "id": "fc1f3b40",
   "metadata": {},
   "outputs": [],
   "source": [
    "print(dataset.dtypes)"
   ]
  },
  {
   "cell_type": "markdown",
   "id": "8dda109c",
   "metadata": {},
   "source": [
    "Query for the authors with the most commits in 2016."
   ]
  },
  {
   "cell_type": "code",
   "execution_count": null,
   "id": "23048e69",
   "metadata": {},
   "outputs": [],
   "source": [
    "most_commits_2016 = dataset[dataset['date'].dt.year == 2016].groupby('author').size().reset_index(name='commits').sort_values(by='commits', ascending=False)\n",
    "print(most_commits_2016.head())"
   ]
  },
  {
   "cell_type": "markdown",
   "id": "f6f5eaa5",
   "metadata": {},
   "source": [
    "Query to get the language info from the dataset."
   ]
  },
  {
   "cell_type": "code",
   "execution_count": null,
   "id": "8bc9131f",
   "metadata": {},
   "outputs": [],
   "source": [
    "language_info = dataset['language'].value_counts()\n",
    "print(language_info)"
   ]
  },
  {
   "cell_type": "markdown",
   "id": "2a919383",
   "metadata": {},
   "source": [
    "Query for the most popular programming language based on commit data."
   ]
  },
  {
   "cell_type": "code",
   "execution_count": null,
   "id": "6758be26",
   "metadata": {},
   "outputs": [],
   "source": [
    "popular_language = dataset['language'].mode()[0]\n",
    "print(f'Popular programming language: {popular_language}')"
   ]
  },
  {
   "cell_type": "markdown",
   "id": "637c2aa8",
   "metadata": {},
   "source": [
    "Query to list unique programming languages used in the repository."
   ]
  },
  {
   "cell_type": "code",
   "execution_count": null,
   "id": "41ea039b",
   "metadata": {},
   "outputs": [],
   "source": [
    "languages_in_repo = dataset['language'].unique()\n",
    "print(languages_in_repo)"
   ]
  },
  {
   "cell_type": "markdown",
   "id": "6cfac117",
   "metadata": {},
   "source": [
    "Visualize the results with a bar chart showing commit distribution by language."
   ]
  },
  {
   "cell_type": "code",
   "execution_count": null,
   "id": "2bb0bca5",
   "metadata": {},
   "outputs": [],
   "source": [
    "import matplotlib.pyplot as plt\n",
    "plt.bar(language_info.index, language_info.values)\n",
    "plt.xlabel('Languages')\n",
    "plt.ylabel('Number of Commits')\n",
    "plt.title('Commit Distribution by Language')\n",
    "plt.show()"
   ]
  }
 ],
 "metadata": {
  "kernelspec": {
   "display_name": "Python 3",
   "language": "python",
   "name": "python3"
  },
  "language_info": {
   "codemirror_mode": {
    "name": "ipython",
    "version": 3
   },
   "file_extension": ".py",
   "mimetype": "text/x-python",
   "name": "python",
   "nbconvert_exporter": "python",
   "pygments_lexer": "ipython3",
   "version": "3.8.5"
  }
 },
 "nbformat": 4,
 "nbformat_minor": 5
}
