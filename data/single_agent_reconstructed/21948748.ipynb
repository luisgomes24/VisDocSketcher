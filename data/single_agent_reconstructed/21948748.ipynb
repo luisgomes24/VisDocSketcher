{
 "cells": [
  {
   "cell_type": "markdown",
   "id": "b93e70a1",
   "metadata": {},
   "source": [
    "Load the dataset using Pandas from a CSV file."
   ]
  },
  {
   "cell_type": "code",
   "execution_count": null,
   "id": "7cccdabe",
   "metadata": {},
   "outputs": [],
   "source": [
    "import pandas as pd\n",
    "dataset = pd.read_csv('data.csv')"
   ]
  },
  {
   "cell_type": "markdown",
   "id": "c80a8d79",
   "metadata": {},
   "source": [
    "Visualize a data overview using a boxplot to understand feature distribution."
   ]
  },
  {
   "cell_type": "code",
   "execution_count": null,
   "id": "1b4cd15c",
   "metadata": {},
   "outputs": [],
   "source": [
    "import seaborn as sns\n",
    "import matplotlib.pyplot as plt\n",
    "sns.boxplot(data=dataset)\n",
    "plt.show()"
   ]
  },
  {
   "cell_type": "markdown",
   "id": "4b05d5e3",
   "metadata": {},
   "source": [
    "Create a countplot for categorical features to analyze class distribution."
   ]
  },
  {
   "cell_type": "code",
   "execution_count": null,
   "id": "76cae7d0",
   "metadata": {},
   "outputs": [],
   "source": [
    "sns.countplot(x='category', data=dataset)\n",
    "plt.show()"
   ]
  },
  {
   "cell_type": "markdown",
   "id": "ad6ca808",
   "metadata": {},
   "source": [
    "Preprocess data by splitting it into training and testing sets."
   ]
  },
  {
   "cell_type": "code",
   "execution_count": null,
   "id": "6d4f03a3",
   "metadata": {},
   "outputs": [],
   "source": [
    "from sklearn.model_selection import train_test_split\n",
    "X = dataset.drop('target', axis=1)\n",
    "y = dataset['target']\n",
    "X_train, X_test, y_train, y_test = train_test_split(X, y, test_size=0.2)"
   ]
  },
  {
   "cell_type": "markdown",
   "id": "c95f282a",
   "metadata": {},
   "source": [
    "Build a machine learning model using a Random Forest classifier."
   ]
  },
  {
   "cell_type": "code",
   "execution_count": null,
   "id": "884a6d22",
   "metadata": {},
   "outputs": [],
   "source": [
    "from sklearn.ensemble import RandomForestClassifier\n",
    "model = RandomForestClassifier()\n",
    "model.fit(X_train, y_train)"
   ]
  },
  {
   "cell_type": "markdown",
   "id": "44ac6c85",
   "metadata": {},
   "source": [
    "Visualize model training accuracy and loss over epochs."
   ]
  },
  {
   "cell_type": "code",
   "execution_count": null,
   "id": "1a8de678",
   "metadata": {},
   "outputs": [],
   "source": [
    "history = model.fit(X_train, y_train)\n",
    "plt.plot(history.history['accuracy'])\n",
    "plt.plot(history.history['loss'])\n",
    "plt.title('Model accuracy and loss')\n",
    "plt.show()"
   ]
  },
  {
   "cell_type": "markdown",
   "id": "3dec1d0b",
   "metadata": {},
   "source": [
    "Evaluate the model using a confusion matrix to assess predictions."
   ]
  },
  {
   "cell_type": "code",
   "execution_count": null,
   "id": "a6309b1d",
   "metadata": {},
   "outputs": [],
   "source": [
    "from sklearn.metrics import confusion_matrix\n",
    "import seaborn as sns\n",
    "import matplotlib.pyplot as plt\n",
    "predictions = model.predict(X_test)\n",
    "cm = confusion_matrix(y_test, predictions)\n",
    "sns.heatmap(cm, annot=True, fmt='d')\n",
    "plt.show()"
   ]
  },
  {
   "cell_type": "markdown",
   "id": "68425af3",
   "metadata": {},
   "source": [
    "Save the trained model to a file for future use."
   ]
  },
  {
   "cell_type": "code",
   "execution_count": null,
   "id": "68986b9e",
   "metadata": {},
   "outputs": [],
   "source": [
    "import joblib\n",
    "joblib.dump(model, 'saved_model.pkl')"
   ]
  }
 ],
 "metadata": {
  "kernelspec": {
   "display_name": "Python 3",
   "language": "python",
   "name": "python3"
  },
  "language_info": {
   "codemirror_mode": {
    "name": "ipython",
    "version": 3
   },
   "file_extension": ".py",
   "mimetype": "text/x-python",
   "name": "python",
   "nbconvert_exporter": "python",
   "pygments_lexer": "ipython3",
   "version": "3.8.5"
  }
 },
 "nbformat": 4,
 "nbformat_minor": 5
}
