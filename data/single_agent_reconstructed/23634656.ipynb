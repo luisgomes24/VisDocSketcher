{
 "cells": [
  {
   "cell_type": "markdown",
   "id": "fae95588",
   "metadata": {},
   "source": [
    "Get the input year from the user."
   ]
  },
  {
   "cell_type": "code",
   "execution_count": null,
   "id": "014d065e",
   "metadata": {},
   "outputs": [],
   "source": [
    "year = input('Enter the year: ')"
   ]
  },
  {
   "cell_type": "markdown",
   "id": "5eb6b20d",
   "metadata": {},
   "source": [
    "Set the vernal equinox date to March 21 of the input year."
   ]
  },
  {
   "cell_type": "code",
   "execution_count": null,
   "id": "bbc8ac7f",
   "metadata": {},
   "outputs": [],
   "source": [
    "vernal_equinox_date = datetime(year, 3, 21)"
   ]
  },
  {
   "cell_type": "markdown",
   "id": "7dbccd7d",
   "metadata": {},
   "source": [
    "Calculate the full moon date after the vernal equinox."
   ]
  },
  {
   "cell_type": "code",
   "execution_count": null,
   "id": "6a64483b",
   "metadata": {},
   "outputs": [],
   "source": [
    "full_moon_date = calculate_full_moon(vernal_equinox_date)"
   ]
  },
  {
   "cell_type": "markdown",
   "id": "c7f36b0e",
   "metadata": {},
   "source": [
    "Find the first Sunday following the full moon date."
   ]
  },
  {
   "cell_type": "code",
   "execution_count": null,
   "id": "7396fc23",
   "metadata": {},
   "outputs": [],
   "source": [
    "easter_date = find_first_sunday(full_moon_date)"
   ]
  },
  {
   "cell_type": "markdown",
   "id": "b9d8faef",
   "metadata": {},
   "source": [
    "Output the calculated Easter date."
   ]
  },
  {
   "cell_type": "code",
   "execution_count": null,
   "id": "17d246d6",
   "metadata": {},
   "outputs": [],
   "source": [
    "print('Easter date is:', easter_date)"
   ]
  }
 ],
 "metadata": {
  "kernelspec": {
   "display_name": "Python 3",
   "language": "python",
   "name": "python3"
  },
  "language_info": {
   "codemirror_mode": {
    "name": "ipython",
    "version": 3
   },
   "file_extension": ".py",
   "mimetype": "text/x-python",
   "name": "python",
   "nbconvert_exporter": "python",
   "pygments_lexer": "ipython3",
   "version": "3.8.5"
  }
 },
 "nbformat": 4,
 "nbformat_minor": 5
}
