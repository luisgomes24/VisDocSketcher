{
 "cells": [
  {
   "cell_type": "markdown",
   "id": "3d876271",
   "metadata": {},
   "source": [
    "Load CSV data into a DataFrame using Pandas."
   ]
  },
  {
   "cell_type": "code",
   "execution_count": null,
   "id": "6a72e88f",
   "metadata": {},
   "outputs": [],
   "source": [
    "import pandas as pd\n",
    "\n",
    "data = pd.read_csv('data.csv')"
   ]
  },
  {
   "cell_type": "markdown",
   "id": "b967b413",
   "metadata": {},
   "source": [
    "Display the first few rows of the data for an initial overview."
   ]
  },
  {
   "cell_type": "code",
   "execution_count": null,
   "id": "b7d80d4c",
   "metadata": {},
   "outputs": [],
   "source": [
    "print(data.head())"
   ]
  },
  {
   "cell_type": "markdown",
   "id": "e7be6548",
   "metadata": {},
   "source": [
    "Perform data preprocessing by removing missing values."
   ]
  },
  {
   "cell_type": "code",
   "execution_count": null,
   "id": "d3bf0ca2",
   "metadata": {},
   "outputs": [],
   "source": [
    "data_cleaned = data.dropna()"
   ]
  },
  {
   "cell_type": "markdown",
   "id": "b3f0cc24",
   "metadata": {},
   "source": [
    "Create histograms to visualize the distribution of a numeric variable."
   ]
  },
  {
   "cell_type": "code",
   "execution_count": null,
   "id": "41e6cb78",
   "metadata": {},
   "outputs": [],
   "source": [
    "import matplotlib.pyplot as plt\n",
    "\n",
    "plt.hist(data_cleaned['column_name'])"
   ]
  },
  {
   "cell_type": "markdown",
   "id": "27552996",
   "metadata": {},
   "source": [
    "Generate boxplots to check for outliers in a numeric variable."
   ]
  },
  {
   "cell_type": "code",
   "execution_count": null,
   "id": "27f1ad3c",
   "metadata": {},
   "outputs": [],
   "source": [
    "plt.boxplot(data_cleaned['column_name'])"
   ]
  },
  {
   "cell_type": "markdown",
   "id": "1b55e7af",
   "metadata": {},
   "source": [
    "Count the number of occurrences in each category."
   ]
  },
  {
   "cell_type": "code",
   "execution_count": null,
   "id": "a6b66a9c",
   "metadata": {},
   "outputs": [],
   "source": [
    "grouped_data = data_cleaned.groupby('category_column').count()"
   ]
  },
  {
   "cell_type": "markdown",
   "id": "fdd47d8d",
   "metadata": {},
   "source": [
    "Create scatter plots to visualize relationships between two variables."
   ]
  },
  {
   "cell_type": "code",
   "execution_count": null,
   "id": "d0fe98d2",
   "metadata": {},
   "outputs": [],
   "source": [
    "plt.scatter(data_cleaned['column_x'], data_cleaned['column_y'])"
   ]
  },
  {
   "cell_type": "markdown",
   "id": "41054e21",
   "metadata": {},
   "source": [
    "Create pivot tables to summarize data based on multiple dimensions."
   ]
  },
  {
   "cell_type": "code",
   "execution_count": null,
   "id": "a09e6639",
   "metadata": {},
   "outputs": [],
   "source": [
    "pivot_table = data_cleaned.pivot_table(values='value_column', index='index_column', columns='column_column', aggfunc='sum')"
   ]
  },
  {
   "cell_type": "markdown",
   "id": "0f9d591b",
   "metadata": {},
   "source": [
    "Compute joint distribution using cross-tabulation."
   ]
  },
  {
   "cell_type": "code",
   "execution_count": null,
   "id": "75c49572",
   "metadata": {},
   "outputs": [],
   "source": [
    "joint_distribution = pd.crosstab(data_cleaned['var1'], data_cleaned['var2'])"
   ]
  },
  {
   "cell_type": "markdown",
   "id": "3eb1ec1b",
   "metadata": {},
   "source": [
    "Encode categorical values for easier analysis."
   ]
  },
  {
   "cell_type": "code",
   "execution_count": null,
   "id": "bd7864eb",
   "metadata": {},
   "outputs": [],
   "source": [
    "data_cleaned['categorical_column'] = data_cleaned['categorical_column'].astype('category')"
   ]
  },
  {
   "cell_type": "markdown",
   "id": "53dbb27a",
   "metadata": {},
   "source": [
    "Transform target variable to a standardized range."
   ]
  },
  {
   "cell_type": "code",
   "execution_count": null,
   "id": "5d1942af",
   "metadata": {},
   "outputs": [],
   "source": [
    "data_cleaned['target_var'] = data_cleaned['target_var'].transform(lambda x: (x - x.min()) / (x.max() - x.min()))"
   ]
  }
 ],
 "metadata": {
  "kernelspec": {
   "display_name": "Python 3",
   "language": "python",
   "name": "python3"
  },
  "language_info": {
   "codemirror_mode": {
    "name": "ipython",
    "version": 3
   },
   "file_extension": ".py",
   "mimetype": "text/x-python",
   "name": "python",
   "nbconvert_exporter": "python",
   "pygments_lexer": "ipython3",
   "version": "3.8.5"
  }
 },
 "nbformat": 4,
 "nbformat_minor": 5
}
