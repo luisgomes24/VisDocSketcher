{
 "cells": [
  {
   "cell_type": "markdown",
   "id": "ee2e7945",
   "metadata": {},
   "source": [
    "Load the dataset using pandas."
   ]
  },
  {
   "cell_type": "code",
   "execution_count": null,
   "id": "a48e08b6",
   "metadata": {},
   "outputs": [],
   "source": [
    "import pandas as pd\n",
    "data = pd.read_csv('dataset.csv')"
   ]
  },
  {
   "cell_type": "markdown",
   "id": "00a49a71",
   "metadata": {},
   "source": [
    "Preprocess the data by removing missing values."
   ]
  },
  {
   "cell_type": "code",
   "execution_count": null,
   "id": "06bfcc9f",
   "metadata": {},
   "outputs": [],
   "source": [
    "data.dropna(inplace=True)"
   ]
  },
  {
   "cell_type": "markdown",
   "id": "99742c96",
   "metadata": {},
   "source": [
    "Convert the date column to datetime format."
   ]
  },
  {
   "cell_type": "code",
   "execution_count": null,
   "id": "be5a90aa",
   "metadata": {},
   "outputs": [],
   "source": [
    "data['date'] = pd.to_datetime(data['date'])"
   ]
  },
  {
   "cell_type": "markdown",
   "id": "5f730e5f",
   "metadata": {},
   "source": [
    "Filter the data by a specific date range."
   ]
  },
  {
   "cell_type": "code",
   "execution_count": null,
   "id": "37935e4e",
   "metadata": {},
   "outputs": [],
   "source": [
    "filtered_data = data[data['date'] >= '2020-01-01']"
   ]
  },
  {
   "cell_type": "markdown",
   "id": "0180832a",
   "metadata": {},
   "source": [
    "Sort the values of the dataset by date."
   ]
  },
  {
   "cell_type": "code",
   "execution_count": null,
   "id": "473d0a4a",
   "metadata": {},
   "outputs": [],
   "source": [
    "sorted_data = filtered_data.sort_values(by='date')"
   ]
  },
  {
   "cell_type": "markdown",
   "id": "2b010d46",
   "metadata": {},
   "source": [
    "Rename columns for clarity."
   ]
  },
  {
   "cell_type": "code",
   "execution_count": null,
   "id": "c1e7068e",
   "metadata": {},
   "outputs": [],
   "source": [
    "data.rename(columns={'old_name': 'new_name'}, inplace=True)"
   ]
  },
  {
   "cell_type": "markdown",
   "id": "656a024c",
   "metadata": {},
   "source": [
    "Format the Ibex values for numerical analysis."
   ]
  },
  {
   "cell_type": "code",
   "execution_count": null,
   "id": "ac2a525c",
   "metadata": {},
   "outputs": [],
   "source": [
    "data['ibex'] = data['ibex'].replace(',', '.', regex=True).astype(float)"
   ]
  },
  {
   "cell_type": "markdown",
   "id": "c8e571e0",
   "metadata": {},
   "source": [
    "Plot the time series data."
   ]
  },
  {
   "cell_type": "code",
   "execution_count": null,
   "id": "30f369c7",
   "metadata": {},
   "outputs": [],
   "source": [
    "import matplotlib.pyplot as plt\n",
    "plt.plot(data['date'], data['value'])\n",
    "plt.show()"
   ]
  },
  {
   "cell_type": "markdown",
   "id": "3c34f7a0",
   "metadata": {},
   "source": [
    "Apply log transformation to the value column."
   ]
  },
  {
   "cell_type": "code",
   "execution_count": null,
   "id": "e8318bef",
   "metadata": {},
   "outputs": [],
   "source": [
    "import numpy as np\n",
    "data['log_value'] = np.log(data['value'])"
   ]
  },
  {
   "cell_type": "markdown",
   "id": "aec947d9",
   "metadata": {},
   "source": [
    "Calculate the log difference to check for trends."
   ]
  },
  {
   "cell_type": "code",
   "execution_count": null,
   "id": "5ce7d0d8",
   "metadata": {},
   "outputs": [],
   "source": [
    "data['log_diff'] = data['log_value'].diff()"
   ]
  },
  {
   "cell_type": "markdown",
   "id": "85811f8a",
   "metadata": {},
   "source": [
    "Check for stationarity in the dataset."
   ]
  },
  {
   "cell_type": "code",
   "execution_count": null,
   "id": "48f103ba",
   "metadata": {},
   "outputs": [],
   "source": [
    "from statsmodels.tsa.stattools import adfuller\n",
    "result = adfuller(data['log_diff'].dropna())"
   ]
  },
  {
   "cell_type": "markdown",
   "id": "2ffc5ab9",
   "metadata": {},
   "source": [
    "Visualize ACF and PACF plots."
   ]
  },
  {
   "cell_type": "code",
   "execution_count": null,
   "id": "c21c3513",
   "metadata": {},
   "outputs": [],
   "source": [
    "from statsmodels.graphics.tsaplots import plot_acf, plot_pacf\n",
    "plot_acf(data['log_diff'].dropna())\n",
    "plot_pacf(data['log_diff'].dropna())\n",
    "plt.show()"
   ]
  },
  {
   "cell_type": "markdown",
   "id": "96a0f919",
   "metadata": {},
   "source": [
    "Prepare the train and test datasets."
   ]
  },
  {
   "cell_type": "code",
   "execution_count": null,
   "id": "ee9d032b",
   "metadata": {},
   "outputs": [],
   "source": [
    "train = data.iloc[:-12]\n",
    "test = data.iloc[-12:]"
   ]
  },
  {
   "cell_type": "markdown",
   "id": "f8a5bbcc",
   "metadata": {},
   "source": [
    "Optimize hyperparameters using auto ARIMA."
   ]
  },
  {
   "cell_type": "code",
   "execution_count": null,
   "id": "e47d4460",
   "metadata": {},
   "outputs": [],
   "source": [
    "from pmdarima import auto_arima\n",
    "model = auto_arima(train['value'], seasonal=True, m=12)"
   ]
  },
  {
   "cell_type": "markdown",
   "id": "cec39f86",
   "metadata": {},
   "source": [
    "Fit the SARIMAX model to the training data."
   ]
  },
  {
   "cell_type": "code",
   "execution_count": null,
   "id": "cf0aa1e1",
   "metadata": {},
   "outputs": [],
   "source": [
    "model.fit(train['value'])"
   ]
  },
  {
   "cell_type": "markdown",
   "id": "4fbb38d6",
   "metadata": {},
   "source": [
    "Make predictions for the test dataset."
   ]
  },
  {
   "cell_type": "code",
   "execution_count": null,
   "id": "bc04e58f",
   "metadata": {},
   "outputs": [],
   "source": [
    "predictions = model.predict(n_periods=len(test))"
   ]
  },
  {
   "cell_type": "markdown",
   "id": "bae4a4e0",
   "metadata": {},
   "source": [
    "Plot the actual values against the predictions."
   ]
  },
  {
   "cell_type": "code",
   "execution_count": null,
   "id": "5ed9d144",
   "metadata": {},
   "outputs": [],
   "source": [
    "plt.plot(test['date'], test['value'], label='Actual')\n",
    "plt.plot(test['date'], predictions, label='Predictions')\n",
    "plt.legend()\n",
    "plt.show()"
   ]
  }
 ],
 "metadata": {
  "kernelspec": {
   "display_name": "Python 3",
   "language": "python",
   "name": "python3"
  },
  "language_info": {
   "codemirror_mode": {
    "name": "ipython",
    "version": 3
   },
   "file_extension": ".py",
   "mimetype": "text/x-python",
   "name": "python",
   "nbconvert_exporter": "python",
   "pygments_lexer": "ipython3",
   "version": "3.8.5"
  }
 },
 "nbformat": 4,
 "nbformat_minor": 5
}
