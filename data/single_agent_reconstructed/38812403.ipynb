{
 "cells": [
  {
   "cell_type": "markdown",
   "id": "8d959b27",
   "metadata": {},
   "source": [
    "Load the image using OpenCV."
   ]
  },
  {
   "cell_type": "code",
   "execution_count": null,
   "id": "903c384e",
   "metadata": {},
   "outputs": [],
   "source": [
    "import cv2\n",
    "image = cv2.imread('wally.jpg')"
   ]
  },
  {
   "cell_type": "markdown",
   "id": "a4f4dfd3",
   "metadata": {},
   "source": [
    "Convert the image to float and split into color channels."
   ]
  },
  {
   "cell_type": "code",
   "execution_count": null,
   "id": "7ff92c9c",
   "metadata": {},
   "outputs": [],
   "source": [
    "image_float = image.astype('float32') / 255.0\n",
    "b, g, r = cv2.split(image_float)"
   ]
  },
  {
   "cell_type": "markdown",
   "id": "087620b3",
   "metadata": {},
   "source": [
    "Create a convolution pattern to enhance features."
   ]
  },
  {
   "cell_type": "code",
   "execution_count": null,
   "id": "dbbae5b0",
   "metadata": {},
   "outputs": [],
   "source": [
    "import numpy as np\n",
    "pattern = np.array([[0, -1, 0], [-1, 5, -1], [0, -1, 0]])"
   ]
  },
  {
   "cell_type": "markdown",
   "id": "1adf537b",
   "metadata": {},
   "source": [
    "Convolve the red channel with the pattern."
   ]
  },
  {
   "cell_type": "code",
   "execution_count": null,
   "id": "0102546a",
   "metadata": {},
   "outputs": [],
   "source": [
    "convolved = cv2.filter2D(r, -1, pattern)"
   ]
  },
  {
   "cell_type": "markdown",
   "id": "83950fd9",
   "metadata": {},
   "source": [
    "Create a mask by subtracting the green channel from the convolved red."
   ]
  },
  {
   "cell_type": "code",
   "execution_count": null,
   "id": "4442805b",
   "metadata": {},
   "outputs": [],
   "source": [
    "mask = np.clip(convolved - g, 0, 1)"
   ]
  },
  {
   "cell_type": "markdown",
   "id": "7104b9dd",
   "metadata": {},
   "source": [
    "Display the resulting image with the applied mask."
   ]
  },
  {
   "cell_type": "code",
   "execution_count": null,
   "id": "601c1f40",
   "metadata": {},
   "outputs": [],
   "source": [
    "result = cv2.merge([mask, g, b])\n",
    "cv2.imshow('Result', result)\n",
    "cv2.waitKey(0)\n",
    "cv2.destroyAllWindows()"
   ]
  }
 ],
 "metadata": {
  "kernelspec": {
   "display_name": "Python 3",
   "language": "python",
   "name": "python3"
  },
  "language_info": {
   "codemirror_mode": {
    "name": "ipython",
    "version": 3
   },
   "file_extension": ".py",
   "mimetype": "text/x-python",
   "name": "python",
   "nbconvert_exporter": "python",
   "pygments_lexer": "ipython3",
   "version": "3.8.5"
  }
 },
 "nbformat": 4,
 "nbformat_minor": 5
}
