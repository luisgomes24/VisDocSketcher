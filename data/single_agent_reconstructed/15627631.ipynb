{
 "cells": [
  {
   "cell_type": "markdown",
   "id": "7dd75513",
   "metadata": {},
   "source": [
    "Load the dataset 'train.csv' using pandas."
   ]
  },
  {
   "cell_type": "code",
   "execution_count": null,
   "id": "809b463e",
   "metadata": {},
   "outputs": [],
   "source": [
    "import pandas as pd\n",
    "df_orig = pd.read_csv('train.csv')"
   ]
  },
  {
   "cell_type": "markdown",
   "id": "47da1f78",
   "metadata": {},
   "source": [
    "Display the first few rows of the dataset for an overview."
   ]
  },
  {
   "cell_type": "code",
   "execution_count": null,
   "id": "f2c0fc13",
   "metadata": {},
   "outputs": [],
   "source": [
    "df_orig.head()"
   ]
  },
  {
   "cell_type": "markdown",
   "id": "e4ac46bd",
   "metadata": {},
   "source": [
    "Select numeric features from the dataset for analysis."
   ]
  },
  {
   "cell_type": "code",
   "execution_count": null,
   "id": "e2496f50",
   "metadata": {},
   "outputs": [],
   "source": [
    "import matplotlib.pyplot as plt\n",
    "import seaborn as sns\n",
    "numeric_features = df_orig.select_dtypes(include='number')"
   ]
  },
  {
   "cell_type": "markdown",
   "id": "88b0c3a2",
   "metadata": {},
   "source": [
    "Generate histograms for each numeric feature."
   ]
  },
  {
   "cell_type": "code",
   "execution_count": null,
   "id": "42b5406b",
   "metadata": {},
   "outputs": [],
   "source": [
    "numeric_features.hist(figsize=(15, 10))\n",
    "plt.tight_layout()\n",
    "plt.show()"
   ]
  },
  {
   "cell_type": "markdown",
   "id": "27fe4de6",
   "metadata": {},
   "source": [
    "Create bivariate plots to visualize relationships with SalePrice."
   ]
  },
  {
   "cell_type": "code",
   "execution_count": null,
   "id": "4e2e8999",
   "metadata": {},
   "outputs": [],
   "source": [
    "sns.pairplot(df_orig, x_vars=numeric_features.columns[1:], y_vars=['SalePrice'])\n",
    "plt.show()"
   ]
  },
  {
   "cell_type": "markdown",
   "id": "56011374",
   "metadata": {},
   "source": [
    "Select categorical features from the dataset."
   ]
  },
  {
   "cell_type": "code",
   "execution_count": null,
   "id": "0a304076",
   "metadata": {},
   "outputs": [],
   "source": [
    "categorical_features = df_orig.select_dtypes(include='object')"
   ]
  },
  {
   "cell_type": "markdown",
   "id": "ef2ab723",
   "metadata": {},
   "source": [
    "Create boxplots to visualize SalePrice distribution across categorical features."
   ]
  },
  {
   "cell_type": "code",
   "execution_count": null,
   "id": "41fdd4db",
   "metadata": {},
   "outputs": [],
   "source": [
    "sns.boxplot(x='SalePrice', y='categorical_feature_name', data=df_orig)\n",
    "plt.show()"
   ]
  }
 ],
 "metadata": {
  "kernelspec": {
   "display_name": "Python 3",
   "language": "python",
   "name": "python3"
  },
  "language_info": {
   "codemirror_mode": {
    "name": "ipython",
    "version": 3
   },
   "file_extension": ".py",
   "mimetype": "text/x-python",
   "name": "python",
   "nbconvert_exporter": "python",
   "pygments_lexer": "ipython3",
   "version": "3.8.5"
  }
 },
 "nbformat": 4,
 "nbformat_minor": 5
}
