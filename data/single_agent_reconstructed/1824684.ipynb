{
 "cells": [
  {
   "cell_type": "markdown",
   "id": "f8d74648",
   "metadata": {},
   "source": [
    "Load data from a CSV file into a DataFrame."
   ]
  },
  {
   "cell_type": "code",
   "execution_count": null,
   "id": "2a32a2a9",
   "metadata": {},
   "outputs": [],
   "source": [
    "import pandas as pd\n",
    "data = pd.read_csv('data.csv')"
   ]
  },
  {
   "cell_type": "markdown",
   "id": "f78f5cbe",
   "metadata": {},
   "source": [
    "Preprocess the data by scaling features using StandardScaler."
   ]
  },
  {
   "cell_type": "code",
   "execution_count": null,
   "id": "9875a4ed",
   "metadata": {},
   "outputs": [],
   "source": [
    "from sklearn.preprocessing import StandardScaler\n",
    "scaler = StandardScaler()\n",
    "data_scaled = scaler.fit_transform(data)"
   ]
  },
  {
   "cell_type": "markdown",
   "id": "e6afa7bc",
   "metadata": {},
   "source": [
    "Split the data into training and testing sets."
   ]
  },
  {
   "cell_type": "code",
   "execution_count": null,
   "id": "5dda100c",
   "metadata": {},
   "outputs": [],
   "source": [
    "from sklearn.model_selection import train_test_split\n",
    "X_train, X_test, y_train, y_test = train_test_split(data_scaled, target, test_size=0.2, random_state=42)"
   ]
  },
  {
   "cell_type": "markdown",
   "id": "981609a1",
   "metadata": {},
   "source": [
    "Fit a Decision Tree model using the training data."
   ]
  },
  {
   "cell_type": "code",
   "execution_count": null,
   "id": "e65bb918",
   "metadata": {},
   "outputs": [],
   "source": [
    "from sklearn.tree import DecisionTreeRegressor\n",
    "model = DecisionTreeRegressor()\n",
    "model.fit(X_train, y_train)"
   ]
  },
  {
   "cell_type": "markdown",
   "id": "1da2f8d1",
   "metadata": {},
   "source": [
    "Validate the model by calculating the Mean Absolute Error (MAE)."
   ]
  },
  {
   "cell_type": "code",
   "execution_count": null,
   "id": "6fb7678e",
   "metadata": {},
   "outputs": [],
   "source": [
    "from sklearn.metrics import mean_absolute_error\n",
    "predictions = model.predict(X_test)\n",
    "mae = mean_absolute_error(y_test, predictions)"
   ]
  },
  {
   "cell_type": "markdown",
   "id": "0057c375",
   "metadata": {},
   "source": [
    "Compare performance using different tree sizes."
   ]
  },
  {
   "cell_type": "code",
   "execution_count": null,
   "id": "ac6ec490",
   "metadata": {},
   "outputs": [],
   "source": [
    "tree_sizes = [1, 2, 3, 4, 5]\n",
    "results = {}\n",
    "for size in tree_sizes: \n",
    "    model = DecisionTreeRegressor(max_depth=size)\n",
    "    model.fit(X_train, y_train)\n",
    "    predictions = model.predict(X_test)\n",
    "    results[size] = mean_absolute_error(y_test, predictions)"
   ]
  },
  {
   "cell_type": "markdown",
   "id": "cf0b84a9",
   "metadata": {},
   "source": [
    "Fit the optimal Decision Tree model using all the data."
   ]
  },
  {
   "cell_type": "code",
   "execution_count": null,
   "id": "28ac1d29",
   "metadata": {},
   "outputs": [],
   "source": [
    "optimal_size = min(results, key=results.get)\n",
    "final_model = DecisionTreeRegressor(max_depth=optimal_size)\n",
    "final_model.fit(data_scaled, target)"
   ]
  },
  {
   "cell_type": "markdown",
   "id": "0170b4d6",
   "metadata": {},
   "source": [
    "The model is now tuned and ready for use."
   ]
  },
  {
   "cell_type": "code",
   "execution_count": null,
   "id": "f0657515",
   "metadata": {},
   "outputs": [],
   "source": [
    "tuned_model = final_model"
   ]
  }
 ],
 "metadata": {
  "kernelspec": {
   "display_name": "Python 3",
   "language": "python",
   "name": "python3"
  },
  "language_info": {
   "codemirror_mode": {
    "name": "ipython",
    "version": 3
   },
   "file_extension": ".py",
   "mimetype": "text/x-python",
   "name": "python",
   "nbconvert_exporter": "python",
   "pygments_lexer": "ipython3",
   "version": "3.8.5"
  }
 },
 "nbformat": 4,
 "nbformat_minor": 5
}
