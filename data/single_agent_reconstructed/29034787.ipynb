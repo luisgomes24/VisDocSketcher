{
 "cells": [
  {
   "cell_type": "markdown",
   "id": "0556537e",
   "metadata": {},
   "source": [
    "Load the dataset from a CSV file into a DataFrame."
   ]
  },
  {
   "cell_type": "code",
   "execution_count": null,
   "id": "45db8448",
   "metadata": {},
   "outputs": [],
   "source": [
    "import pandas as pd\n",
    "data = pd.read_csv('data.csv')"
   ]
  },
  {
   "cell_type": "markdown",
   "id": "850f59f0",
   "metadata": {},
   "source": [
    "Preprocess the data by scaling features to normalize ranges."
   ]
  },
  {
   "cell_type": "code",
   "execution_count": null,
   "id": "eb741ba2",
   "metadata": {},
   "outputs": [],
   "source": [
    "from sklearn.preprocessing import StandardScaler\n",
    "scaler = StandardScaler()\n",
    "data_scaled = scaler.fit_transform(data)"
   ]
  },
  {
   "cell_type": "markdown",
   "id": "049b7740",
   "metadata": {},
   "source": [
    "Split the dataset into training and testing sets with an 80-20 ratio."
   ]
  },
  {
   "cell_type": "code",
   "execution_count": null,
   "id": "43831819",
   "metadata": {},
   "outputs": [],
   "source": [
    "from sklearn.model_selection import train_test_split\n",
    "X_train, X_test, y_train, y_test = train_test_split(data_scaled, target, test_size=0.2, random_state=42)"
   ]
  },
  {
   "cell_type": "markdown",
   "id": "a66b8481",
   "metadata": {},
   "source": [
    "Import models: AdaBoost, Gradient Boosting, and XGBoost for training."
   ]
  },
  {
   "cell_type": "code",
   "execution_count": null,
   "id": "70a3b276",
   "metadata": {},
   "outputs": [],
   "source": [
    "from sklearn.ensemble import AdaBoostClassifier, GradientBoostingClassifier\n",
    "from xgboost import XGBClassifier"
   ]
  },
  {
   "cell_type": "markdown",
   "id": "e92289b8",
   "metadata": {},
   "source": [
    "Train the models on the training data."
   ]
  },
  {
   "cell_type": "code",
   "execution_count": null,
   "id": "c87f2681",
   "metadata": {},
   "outputs": [],
   "source": [
    "ada_model = AdaBoostClassifier().fit(X_train, y_train)\n",
    "grad_model = GradientBoostingClassifier().fit(X_train, y_train)\n",
    "xgb_model = XGBClassifier().fit(X_train, y_train)"
   ]
  },
  {
   "cell_type": "markdown",
   "id": "b7398809",
   "metadata": {},
   "source": [
    "Evaluate each model using accuracy score on the test set."
   ]
  },
  {
   "cell_type": "code",
   "execution_count": null,
   "id": "690fb5b4",
   "metadata": {},
   "outputs": [],
   "source": [
    "from sklearn.metrics import accuracy_score\n",
    "ada_pred = ada_model.predict(X_test)\n",
    "grad_pred = grad_model.predict(X_test)\n",
    "xgb_pred = xgb_model.predict(X_test)\n",
    "ada_accuracy = accuracy_score(y_test, ada_pred)\n",
    "grad_accuracy = accuracy_score(y_test, grad_pred)\n",
    "xgb_accuracy = accuracy_score(y_test, xgb_pred)"
   ]
  }
 ],
 "metadata": {
  "kernelspec": {
   "display_name": "Python 3",
   "language": "python",
   "name": "python3"
  },
  "language_info": {
   "codemirror_mode": {
    "name": "ipython",
    "version": 3
   },
   "file_extension": ".py",
   "mimetype": "text/x-python",
   "name": "python",
   "nbconvert_exporter": "python",
   "pygments_lexer": "ipython3",
   "version": "3.8.5"
  }
 },
 "nbformat": 4,
 "nbformat_minor": 5
}
