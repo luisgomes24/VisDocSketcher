{
 "cells": [
  {
   "cell_type": "markdown",
   "id": "413ae842",
   "metadata": {},
   "source": [
    "Load MIDI data using the music21 library."
   ]
  },
  {
   "cell_type": "code",
   "execution_count": null,
   "id": "75ed0480",
   "metadata": {},
   "outputs": [],
   "source": [
    "import numpy as np\n",
    "from music21 import converter\n",
    "\n",
    "midi_data = converter.parse('path/to/midi_file.mid')"
   ]
  },
  {
   "cell_type": "markdown",
   "id": "c3d826fa",
   "metadata": {},
   "source": [
    "Extract notes from the loaded MIDI data."
   ]
  },
  {
   "cell_type": "code",
   "execution_count": null,
   "id": "9e091e19",
   "metadata": {},
   "outputs": [],
   "source": [
    "notes = [note for note in midi_data.flat.notes]"
   ]
  },
  {
   "cell_type": "markdown",
   "id": "37b7e67d",
   "metadata": {},
   "source": [
    "Split the extracted notes into training and testing datasets."
   ]
  },
  {
   "cell_type": "code",
   "execution_count": null,
   "id": "5ec65b71",
   "metadata": {},
   "outputs": [],
   "source": [
    "from sklearn.model_selection import train_test_split\n",
    "train_notes, test_notes = train_test_split(notes, test_size=0.2)"
   ]
  },
  {
   "cell_type": "markdown",
   "id": "daf9f79d",
   "metadata": {},
   "source": [
    "Prepare input sequences of notes for model training."
   ]
  },
  {
   "cell_type": "code",
   "execution_count": null,
   "id": "65cdf2bf",
   "metadata": {},
   "outputs": [],
   "source": [
    "sequence_length = 100\n",
    "sequences = []\n",
    "for i in range(len(train_notes) - sequence_length):\n",
    "    sequences.append(train_notes[i:i + sequence_length])"
   ]
  },
  {
   "cell_type": "markdown",
   "id": "6f39a8cc",
   "metadata": {},
   "source": [
    "Define the architecture of the LSTM model."
   ]
  },
  {
   "cell_type": "code",
   "execution_count": null,
   "id": "d6ee4254",
   "metadata": {},
   "outputs": [],
   "source": [
    "from keras.models import Sequential\n",
    "from keras.layers import LSTM, Dense\n",
    "model = Sequential()\n",
    "model.add(LSTM(256, input_shape=(sequence_length, num_features)))\n",
    "model.add(Dense(num_features, activation='softmax'))"
   ]
  },
  {
   "cell_type": "markdown",
   "id": "138eab48",
   "metadata": {},
   "source": [
    "Train the model with the prepared sequences."
   ]
  },
  {
   "cell_type": "code",
   "execution_count": null,
   "id": "a6dc342e",
   "metadata": {},
   "outputs": [],
   "source": [
    "model.compile(loss='categorical_crossentropy', optimizer='adam')\n",
    "model.fit(sequences, epochs=100, batch_size=64)"
   ]
  },
  {
   "cell_type": "markdown",
   "id": "eae06cbd",
   "metadata": {},
   "source": [
    "Evaluate the model to obtain performance metrics."
   ]
  },
  {
   "cell_type": "code",
   "execution_count": null,
   "id": "d40fed55",
   "metadata": {},
   "outputs": [],
   "source": [
    "loss = model.evaluate(test_sequences)"
   ]
  },
  {
   "cell_type": "markdown",
   "id": "56da911b",
   "metadata": {},
   "source": [
    "Generate a starting pattern for music generation."
   ]
  },
  {
   "cell_type": "code",
   "execution_count": null,
   "id": "d154584e",
   "metadata": {},
   "outputs": [],
   "source": [
    "import random\n",
    "start = np.random.randint(0, len(train_notes) - sequence_length)\n",
    "pattern = train_notes[start:start + sequence_length]"
   ]
  },
  {
   "cell_type": "markdown",
   "id": "d29a701e",
   "metadata": {},
   "source": [
    "Generate new music notes using the trained model."
   ]
  },
  {
   "cell_type": "code",
   "execution_count": null,
   "id": "1f06704f",
   "metadata": {},
   "outputs": [],
   "source": [
    "generated_notes = []\n",
    "for note_index in range(100):\n",
    "    prediction_input = np.reshape(pattern, (1, len(pattern), 1))\n",
    "    prediction = model.predict(prediction_input, verbose=0)\n",
    "    index = np.argmax(prediction)\n",
    "    generated_notes.append(notes[index])"
   ]
  }
 ],
 "metadata": {
  "kernelspec": {
   "display_name": "Python 3",
   "language": "python",
   "name": "python3"
  },
  "language_info": {
   "codemirror_mode": {
    "name": "ipython",
    "version": 3
   },
   "file_extension": ".py",
   "mimetype": "text/x-python",
   "name": "python",
   "nbconvert_exporter": "python",
   "pygments_lexer": "ipython3",
   "version": "3.8.5"
  }
 },
 "nbformat": 4,
 "nbformat_minor": 5
}
