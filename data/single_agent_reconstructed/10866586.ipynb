{
 "cells": [
  {
   "cell_type": "markdown",
   "id": "26e75ff3",
   "metadata": {},
   "source": [
    "Load the training data from a CSV file into a DataFrame."
   ]
  },
  {
   "cell_type": "code",
   "execution_count": null,
   "id": "09013951",
   "metadata": {},
   "outputs": [],
   "source": [
    "import pandas as pd\n",
    "\n",
    "data = pd.read_csv('training_data.csv')"
   ]
  },
  {
   "cell_type": "markdown",
   "id": "9877ec19",
   "metadata": {},
   "source": [
    "Create the target variable (y) from the DataFrame."
   ]
  },
  {
   "cell_type": "code",
   "execution_count": null,
   "id": "3ec56b17",
   "metadata": {},
   "outputs": [],
   "source": [
    "y = data['target']"
   ]
  },
  {
   "cell_type": "markdown",
   "id": "0021eaa3",
   "metadata": {},
   "source": [
    "Select features (X) by dropping the target variable from the DataFrame."
   ]
  },
  {
   "cell_type": "code",
   "execution_count": null,
   "id": "277a3eea",
   "metadata": {},
   "outputs": [],
   "source": [
    "X = data.drop(columns=['target'])"
   ]
  },
  {
   "cell_type": "markdown",
   "id": "f66c52c0",
   "metadata": {},
   "source": [
    "Split the data into training and validation sets."
   ]
  },
  {
   "cell_type": "code",
   "execution_count": null,
   "id": "f32dd9f3",
   "metadata": {},
   "outputs": [],
   "source": [
    "from sklearn.model_selection import train_test_split\n",
    "X_train, X_val, y_train, y_val = train_test_split(X, y, test_size=0.2, random_state=42)"
   ]
  },
  {
   "cell_type": "markdown",
   "id": "9b525e59",
   "metadata": {},
   "source": [
    "Train a Decision Tree model on the training data."
   ]
  },
  {
   "cell_type": "code",
   "execution_count": null,
   "id": "3873b4fb",
   "metadata": {},
   "outputs": [],
   "source": [
    "from sklearn.tree import DecisionTreeRegressor\n",
    "model_dt = DecisionTreeRegressor()\n",
    "model_dt.fit(X_train, y_train)"
   ]
  },
  {
   "cell_type": "markdown",
   "id": "ae4c0c26",
   "metadata": {},
   "source": [
    "Evaluate the model using Mean Absolute Error (MAE) on the validation set."
   ]
  },
  {
   "cell_type": "code",
   "execution_count": null,
   "id": "39eed21a",
   "metadata": {},
   "outputs": [],
   "source": [
    "from sklearn.metrics import mean_absolute_error\n",
    "val_predictions = model_dt.predict(X_val)\n",
    "mae = mean_absolute_error(y_val, val_predictions)"
   ]
  },
  {
   "cell_type": "markdown",
   "id": "79f678af",
   "metadata": {},
   "source": [
    "Train a Random Forest model on the training data."
   ]
  },
  {
   "cell_type": "code",
   "execution_count": null,
   "id": "98eeeeee",
   "metadata": {},
   "outputs": [],
   "source": [
    "from sklearn.ensemble import RandomForestRegressor\n",
    "model_rf = RandomForestRegressor()\n",
    "model_rf.fit(X_train, y_train)"
   ]
  },
  {
   "cell_type": "markdown",
   "id": "c1993393",
   "metadata": {},
   "source": [
    "Make predictions using the Random Forest model on the validation set."
   ]
  },
  {
   "cell_type": "code",
   "execution_count": null,
   "id": "f44e3e47",
   "metadata": {},
   "outputs": [],
   "source": [
    "val_predictions_rf = model_rf.predict(X_val)"
   ]
  },
  {
   "cell_type": "markdown",
   "id": "130e5677",
   "metadata": {},
   "source": [
    "Load the test data from a CSV file."
   ]
  },
  {
   "cell_type": "code",
   "execution_count": null,
   "id": "d40f10b3",
   "metadata": {},
   "outputs": [],
   "source": [
    "test_data = pd.read_csv('test_data.csv')"
   ]
  },
  {
   "cell_type": "markdown",
   "id": "998d56ef",
   "metadata": {},
   "source": [
    "Prepare the test features by dropping the target variable."
   ]
  },
  {
   "cell_type": "code",
   "execution_count": null,
   "id": "f16b7f6f",
   "metadata": {},
   "outputs": [],
   "source": [
    "X_test = test_data.drop(columns=['target'])"
   ]
  },
  {
   "cell_type": "markdown",
   "id": "43d0a75d",
   "metadata": {},
   "source": [
    "Predict the target variable for the test features using the Random Forest model."
   ]
  },
  {
   "cell_type": "code",
   "execution_count": null,
   "id": "5845e19f",
   "metadata": {},
   "outputs": [],
   "source": [
    "test_predictions = model_rf.predict(X_test)"
   ]
  },
  {
   "cell_type": "markdown",
   "id": "ebdd4890",
   "metadata": {},
   "source": [
    "Save the predictions to a CSV file for submission."
   ]
  },
  {
   "cell_type": "code",
   "execution_count": null,
   "id": "3c5c9312",
   "metadata": {},
   "outputs": [],
   "source": [
    "submission = pd.DataFrame({'Id': test_data['Id'], 'Predictions': test_predictions})\n",
    "submission.to_csv('submission.csv', index=False)"
   ]
  }
 ],
 "metadata": {
  "kernelspec": {
   "display_name": "Python 3",
   "language": "python",
   "name": "python3"
  },
  "language_info": {
   "codemirror_mode": {
    "name": "ipython",
    "version": 3
   },
   "file_extension": ".py",
   "mimetype": "text/x-python",
   "name": "python",
   "nbconvert_exporter": "python",
   "pygments_lexer": "ipython3",
   "version": "3.8.5"
  }
 },
 "nbformat": 4,
 "nbformat_minor": 5
}
