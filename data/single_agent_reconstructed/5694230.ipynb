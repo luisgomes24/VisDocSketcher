{
 "cells": [
  {
   "cell_type": "markdown",
   "id": "fd2d7c20",
   "metadata": {},
   "source": [
    "Load the dataset from the specified CSV file into a DataFrame."
   ]
  },
  {
   "cell_type": "code",
   "execution_count": null,
   "id": "53dc731b",
   "metadata": {},
   "outputs": [],
   "source": [
    "import pandas as pd\n",
    "df1 = pd.read_csv('/kaggle/input/specialized_bikes_2019.csv')"
   ]
  },
  {
   "cell_type": "markdown",
   "id": "f62c41e5",
   "metadata": {},
   "source": [
    "Preview the first few rows of the DataFrame to understand its structure."
   ]
  },
  {
   "cell_type": "code",
   "execution_count": null,
   "id": "b1b0a5a5",
   "metadata": {},
   "outputs": [],
   "source": [
    "print(df1.head())"
   ]
  },
  {
   "cell_type": "markdown",
   "id": "da4ae639",
   "metadata": {},
   "source": [
    "Generate distribution graphs for each column in the DataFrame."
   ]
  },
  {
   "cell_type": "code",
   "execution_count": null,
   "id": "f506ba7f",
   "metadata": {},
   "outputs": [],
   "source": [
    "plotPerColumnDistribution(df1)"
   ]
  },
  {
   "cell_type": "markdown",
   "id": "4751e8a3",
   "metadata": {},
   "source": [
    "Create a correlation matrix to visualize the relationships between columns."
   ]
  },
  {
   "cell_type": "code",
   "execution_count": null,
   "id": "d45a08d7",
   "metadata": {},
   "outputs": [],
   "source": [
    "plotCorrelationMatrix(df1)"
   ]
  },
  {
   "cell_type": "markdown",
   "id": "25907d9e",
   "metadata": {},
   "source": [
    "Plot a scatter matrix to examine pairwise relationships in the dataset."
   ]
  },
  {
   "cell_type": "code",
   "execution_count": null,
   "id": "78b6d7f3",
   "metadata": {},
   "outputs": [],
   "source": [
    "plotScatterMatrix(df1)"
   ]
  }
 ],
 "metadata": {
  "kernelspec": {
   "display_name": "Python 3",
   "language": "python",
   "name": "python3"
  },
  "language_info": {
   "codemirror_mode": {
    "name": "ipython",
    "version": 3
   },
   "file_extension": ".py",
   "mimetype": "text/x-python",
   "name": "python",
   "nbconvert_exporter": "python",
   "pygments_lexer": "ipython3",
   "version": "3.8.5"
  }
 },
 "nbformat": 4,
 "nbformat_minor": 5
}
