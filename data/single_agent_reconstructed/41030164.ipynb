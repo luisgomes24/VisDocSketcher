{
 "cells": [
  {
   "cell_type": "markdown",
   "id": "2da9a8bc",
   "metadata": {},
   "source": [
    "Load the CSV file 'leaderboard.csv' into a pandas DataFrame."
   ]
  },
  {
   "cell_type": "code",
   "execution_count": null,
   "id": "2f53150e",
   "metadata": {},
   "outputs": [],
   "source": [
    "import pandas as pd\n",
    "data = pd.read_csv('leaderboard.csv')"
   ]
  },
  {
   "cell_type": "markdown",
   "id": "b11fc845",
   "metadata": {},
   "source": [
    "Preview the first few rows of the DataFrame to inspect the data."
   ]
  },
  {
   "cell_type": "code",
   "execution_count": null,
   "id": "65f39763",
   "metadata": {},
   "outputs": [],
   "source": [
    "print(data.head())"
   ]
  },
  {
   "cell_type": "markdown",
   "id": "1dcf9713",
   "metadata": {},
   "source": [
    "Save the DataFrame to a new CSV file named 'full_leaderboard.csv' without the index."
   ]
  },
  {
   "cell_type": "code",
   "execution_count": null,
   "id": "b5982d95",
   "metadata": {},
   "outputs": [],
   "source": [
    "data.to_csv('full_leaderboard.csv', index=False)"
   ]
  }
 ],
 "metadata": {
  "kernelspec": {
   "display_name": "Python 3",
   "language": "python",
   "name": "python3"
  },
  "language_info": {
   "codemirror_mode": {
    "name": "ipython",
    "version": 3
   },
   "file_extension": ".py",
   "mimetype": "text/x-python",
   "name": "python",
   "nbconvert_exporter": "python",
   "pygments_lexer": "ipython3",
   "version": "3.8.5"
  }
 },
 "nbformat": 4,
 "nbformat_minor": 5
}
