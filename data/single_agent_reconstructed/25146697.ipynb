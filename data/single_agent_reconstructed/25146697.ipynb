{
 "cells": [
  {
   "cell_type": "markdown",
   "id": "de996e96",
   "metadata": {},
   "source": [
    "Load the dataset from a CSV file."
   ]
  },
  {
   "cell_type": "code",
   "execution_count": null,
   "id": "9ad36429",
   "metadata": {},
   "outputs": [],
   "source": [
    "import pandas as pd\n",
    "\n",
    "dataset = pd.read_csv('dataset.csv')"
   ]
  },
  {
   "cell_type": "markdown",
   "id": "11900d07",
   "metadata": {},
   "source": [
    "Preprocess images by loading them from file paths."
   ]
  },
  {
   "cell_type": "code",
   "execution_count": null,
   "id": "0f4b20e2",
   "metadata": {},
   "outputs": [],
   "source": [
    "from PIL import Image\n",
    "\n",
    "images = [Image.open(filepath) for filepath in dataset['image_paths']]"
   ]
  },
  {
   "cell_type": "markdown",
   "id": "a7ef2bec",
   "metadata": {},
   "source": [
    "Convert loaded images to a flattened NumPy array for processing."
   ]
  },
  {
   "cell_type": "code",
   "execution_count": null,
   "id": "9b1e766c",
   "metadata": {},
   "outputs": [],
   "source": [
    "import numpy as np\n",
    "\n",
    "processed_data = np.array([np.array(image).flatten() for image in images])"
   ]
  },
  {
   "cell_type": "markdown",
   "id": "5c299243",
   "metadata": {},
   "source": [
    "Fit an archetype model using PCA for dimensionality reduction."
   ]
  },
  {
   "cell_type": "code",
   "execution_count": null,
   "id": "d7f1550d",
   "metadata": {},
   "outputs": [],
   "source": [
    "from sklearn.decomposition import PCA\n",
    "pca = PCA(n_components=2).fit(processed_data)"
   ]
  },
  {
   "cell_type": "markdown",
   "id": "87ccde76",
   "metadata": {},
   "source": [
    "Extract archetypes from the fitted PCA model."
   ]
  },
  {
   "cell_type": "code",
   "execution_count": null,
   "id": "fb7e856d",
   "metadata": {},
   "outputs": [],
   "source": [
    "archetypes = pca.components_"
   ]
  },
  {
   "cell_type": "markdown",
   "id": "9812b21f",
   "metadata": {},
   "source": [
    "Perform PCA analysis on the processed data."
   ]
  },
  {
   "cell_type": "code",
   "execution_count": null,
   "id": "1e2396bf",
   "metadata": {},
   "outputs": [],
   "source": [
    "pca_results = pca.transform(processed_data)"
   ]
  },
  {
   "cell_type": "markdown",
   "id": "45d7d71f",
   "metadata": {},
   "source": [
    "Save PCA components to a CSV file."
   ]
  },
  {
   "cell_type": "code",
   "execution_count": null,
   "id": "ae8f31eb",
   "metadata": {},
   "outputs": [],
   "source": [
    "np.savetxt('pca_components.csv', pca_results, delimiter=',')"
   ]
  },
  {
   "cell_type": "markdown",
   "id": "9c0ea2df",
   "metadata": {},
   "source": [
    "Apply K-Means clustering to the PCA results."
   ]
  },
  {
   "cell_type": "code",
   "execution_count": null,
   "id": "0f1ca20b",
   "metadata": {},
   "outputs": [],
   "source": [
    "from sklearn.cluster import KMeans\n",
    "kmeans = KMeans(n_clusters=3).fit(pca_results)"
   ]
  },
  {
   "cell_type": "markdown",
   "id": "b95ac9ce",
   "metadata": {},
   "source": [
    "Save the fitted K-Means model to a file."
   ]
  },
  {
   "cell_type": "code",
   "execution_count": null,
   "id": "2649abf2",
   "metadata": {},
   "outputs": [],
   "source": [
    "import joblib\n",
    "joblib.dump(kmeans, 'kmeans_model.pkl')"
   ]
  },
  {
   "cell_type": "markdown",
   "id": "efc788c5",
   "metadata": {},
   "source": [
    "Reconstruct images from PCA components."
   ]
  },
  {
   "cell_type": "code",
   "execution_count": null,
   "id": "c1818392",
   "metadata": {},
   "outputs": [],
   "source": [
    "reconstructed_images = pca.inverse_transform(pca_results)"
   ]
  },
  {
   "cell_type": "markdown",
   "id": "c1d114e9",
   "metadata": {},
   "source": [
    "Plot the results of the archetype analysis."
   ]
  },
  {
   "cell_type": "code",
   "execution_count": null,
   "id": "7e28f611",
   "metadata": {},
   "outputs": [],
   "source": [
    "import matplotlib.pyplot as plt\n",
    "plt.scatter(archetypes[0], archetypes[1])\n",
    "plt.title('Archetype Results')\n",
    "plt.show()"
   ]
  },
  {
   "cell_type": "markdown",
   "id": "87c3384c",
   "metadata": {},
   "source": [
    "Plot the PCA results."
   ]
  },
  {
   "cell_type": "code",
   "execution_count": null,
   "id": "73adb95a",
   "metadata": {},
   "outputs": [],
   "source": [
    "plt.scatter(pca_results[:, 0], pca_results[:, 1])\n",
    "plt.title('PCA Results')\n",
    "plt.show()"
   ]
  },
  {
   "cell_type": "markdown",
   "id": "45d3e532",
   "metadata": {},
   "source": [
    "Plot the results of K-Means clustering."
   ]
  },
  {
   "cell_type": "code",
   "execution_count": null,
   "id": "404112ae",
   "metadata": {},
   "outputs": [],
   "source": [
    "plt.scatter(pca_results[:, 0], pca_results[:, 1], c=kmeans.labels_)\n",
    "plt.title('K-Means Results')\n",
    "plt.show()"
   ]
  }
 ],
 "metadata": {
  "kernelspec": {
   "display_name": "Python 3",
   "language": "python",
   "name": "python3"
  },
  "language_info": {
   "codemirror_mode": {
    "name": "ipython",
    "version": 3
   },
   "file_extension": ".py",
   "mimetype": "text/x-python",
   "name": "python",
   "nbconvert_exporter": "python",
   "pygments_lexer": "ipython3",
   "version": "3.8.5"
  }
 },
 "nbformat": 4,
 "nbformat_minor": 5
}
