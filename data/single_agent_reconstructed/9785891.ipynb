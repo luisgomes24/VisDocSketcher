{
 "cells": [
  {
   "cell_type": "markdown",
   "id": "5a8488dd",
   "metadata": {},
   "source": [
    "Load the dataset from a CSV file."
   ]
  },
  {
   "cell_type": "code",
   "execution_count": null,
   "id": "63c85b30",
   "metadata": {},
   "outputs": [],
   "source": [
    "import pandas as pd\n",
    "\n",
    "data = pd.read_csv('data.csv')"
   ]
  },
  {
   "cell_type": "markdown",
   "id": "bf853d3d",
   "metadata": {},
   "source": [
    "Preprocess and split the data into training and testing sets."
   ]
  },
  {
   "cell_type": "code",
   "execution_count": null,
   "id": "d3c45174",
   "metadata": {},
   "outputs": [],
   "source": [
    "from sklearn.model_selection import train_test_split\n",
    "\n",
    "data = preprocess_data(data)\n",
    "X_train, X_test, y_train, y_test = train_test_split(data.drop('target', axis=1), data['target'], test_size=0.2, random_state=42)"
   ]
  },
  {
   "cell_type": "markdown",
   "id": "378c5645",
   "metadata": {},
   "source": [
    "Train a Perceptron model using the training data."
   ]
  },
  {
   "cell_type": "code",
   "execution_count": null,
   "id": "42470273",
   "metadata": {},
   "outputs": [],
   "source": [
    "from sklearn perceptron import Perceptron\n",
    "\n",
    "model_perceptron = Perceptron()\n",
    "model_perceptron.fit(X_train, y_train)"
   ]
  },
  {
   "cell_type": "markdown",
   "id": "0fec24b5",
   "metadata": {},
   "source": [
    "Evaluate the Perceptron model's performance on the test set."
   ]
  },
  {
   "cell_type": "code",
   "execution_count": null,
   "id": "c5ecc950",
   "metadata": {},
   "outputs": [],
   "source": [
    "from sklearn.metrics import accuracy_score\n",
    "\n",
    "y_pred_perceptron = model_perceptron.predict(X_test)\n",
    "accuracy_perceptron = accuracy_score(y_test, y_pred_perceptron)"
   ]
  },
  {
   "cell_type": "markdown",
   "id": "bcf65e35",
   "metadata": {},
   "source": [
    "Visualize the results of the Perceptron model."
   ]
  },
  {
   "cell_type": "code",
   "execution_count": null,
   "id": "20348ca9",
   "metadata": {},
   "outputs": [],
   "source": [
    "import matplotlib.pyplot as plt\n",
    "\n",
    "plt.scatter(X_test, y_pred_perceptron)\n",
    "plt.title('Perceptron Results')\n",
    "plt.show()"
   ]
  },
  {
   "cell_type": "markdown",
   "id": "154937d6",
   "metadata": {},
   "source": [
    "Train a Logistic Regression model using the training data."
   ]
  },
  {
   "cell_type": "code",
   "execution_count": null,
   "id": "7235e291",
   "metadata": {},
   "outputs": [],
   "source": [
    "from sklearn.linear_model import LogisticRegression\n",
    "\n",
    "model_logistic = LogisticRegression()\n",
    "model_logistic.fit(X_train, y_train)"
   ]
  },
  {
   "cell_type": "markdown",
   "id": "627a42a7",
   "metadata": {},
   "source": [
    "Evaluate the Logistic Regression model's performance on the test set."
   ]
  },
  {
   "cell_type": "code",
   "execution_count": null,
   "id": "802d60e7",
   "metadata": {},
   "outputs": [],
   "source": [
    "y_pred_logistic = model_logistic.predict(X_test)\n",
    "accuracy_logistic = accuracy_score(y_test, y_pred_logistic)"
   ]
  },
  {
   "cell_type": "markdown",
   "id": "143d5758",
   "metadata": {},
   "source": [
    "Visualize the results of the Logistic Regression model."
   ]
  },
  {
   "cell_type": "code",
   "execution_count": null,
   "id": "edb0e923",
   "metadata": {},
   "outputs": [],
   "source": [
    "plt.scatter(X_test, y_pred_logistic)\n",
    "plt.title('Logistic Regression Results')\n",
    "plt.show()"
   ]
  },
  {
   "cell_type": "markdown",
   "id": "ff0eef17",
   "metadata": {},
   "source": [
    "Load the MNIST dataset."
   ]
  },
  {
   "cell_type": "code",
   "execution_count": null,
   "id": "e4e210de",
   "metadata": {},
   "outputs": [],
   "source": [
    "from sklearn.datasets import fetch_openml\n",
    "\n",
    "mnist = fetch_openml('mnist_784')"
   ]
  },
  {
   "cell_type": "markdown",
   "id": "7c154c58",
   "metadata": {},
   "source": [
    "Preprocess the MNIST data."
   ]
  },
  {
   "cell_type": "code",
   "execution_count": null,
   "id": "4db5f5b9",
   "metadata": {},
   "outputs": [],
   "source": [
    "mnist_data = preprocess_mnist(mnist.data)"
   ]
  },
  {
   "cell_type": "markdown",
   "id": "11832474",
   "metadata": {},
   "source": [
    "Train a Softmax Regression model on the MNIST data."
   ]
  },
  {
   "cell_type": "code",
   "execution_count": null,
   "id": "e19a5495",
   "metadata": {},
   "outputs": [],
   "source": [
    "from sklearn.linear_model import LogisticRegression\n",
    "\n",
    "model_softmax = LogisticRegression(multi_class='multinomial', solver='lbfgs')\n",
    "model_softmax.fit(mnist_data, mnist.target)"
   ]
  },
  {
   "cell_type": "markdown",
   "id": "01e26a05",
   "metadata": {},
   "source": [
    "Evaluate the Softmax Regression model's performance."
   ]
  },
  {
   "cell_type": "code",
   "execution_count": null,
   "id": "a5064ce0",
   "metadata": {},
   "outputs": [],
   "source": [
    "y_pred_softmax = model_softmax.predict(mnist_data)\n",
    "accuracy_softmax = accuracy_score(mnist.target, y_pred_softmax)"
   ]
  },
  {
   "cell_type": "markdown",
   "id": "3025d2ad",
   "metadata": {},
   "source": [
    "Visualize the results of the Softmax Regression model."
   ]
  },
  {
   "cell_type": "code",
   "execution_count": null,
   "id": "24acdfbb",
   "metadata": {},
   "outputs": [],
   "source": [
    "plt.scatter(mnist.data, y_pred_softmax)\n",
    "plt.title('Softmax Regression Results')\n",
    "plt.show()"
   ]
  },
  {
   "cell_type": "markdown",
   "id": "a1183042",
   "metadata": {},
   "source": [
    "Load sample flower color images."
   ]
  },
  {
   "cell_type": "code",
   "execution_count": null,
   "id": "e42fba21",
   "metadata": {},
   "outputs": [],
   "source": [
    "from sklearn.datasets import load_sample_images\n",
    "\n",
    "flower_images = load_sample_images()"
   ]
  },
  {
   "cell_type": "markdown",
   "id": "922724af",
   "metadata": {},
   "source": [
    "Preprocess the flower data."
   ]
  },
  {
   "cell_type": "code",
   "execution_count": null,
   "id": "626a1f51",
   "metadata": {},
   "outputs": [],
   "source": [
    "flower_data = preprocess_flower(flower_images)"
   ]
  },
  {
   "cell_type": "markdown",
   "id": "df2e8a51",
   "metadata": {},
   "source": [
    "Train a model using the flower data."
   ]
  },
  {
   "cell_type": "code",
   "execution_count": null,
   "id": "989e0608",
   "metadata": {},
   "outputs": [],
   "source": [
    "model_flower = train_flower_model(flower_data)"
   ]
  },
  {
   "cell_type": "markdown",
   "id": "2cba6f17",
   "metadata": {},
   "source": [
    "Evaluate the performance of the flower model."
   ]
  },
  {
   "cell_type": "code",
   "execution_count": null,
   "id": "2691aef9",
   "metadata": {},
   "outputs": [],
   "source": [
    "flower_predictions = model_flower.predict(flower_data)\n",
    "flower_accuracy = evaluate_flower_model(flower_predictions)"
   ]
  },
  {
   "cell_type": "markdown",
   "id": "24f4d4e5",
   "metadata": {},
   "source": [
    "Visualize the results of the flower model."
   ]
  },
  {
   "cell_type": "code",
   "execution_count": null,
   "id": "c9bf5d9b",
   "metadata": {},
   "outputs": [],
   "source": [
    "plt.scatter(flower_data, flower_predictions)\n",
    "plt.title('Flower Model Results')\n",
    "plt.show()"
   ]
  }
 ],
 "metadata": {
  "kernelspec": {
   "display_name": "Python 3",
   "language": "python",
   "name": "python3"
  },
  "language_info": {
   "codemirror_mode": {
    "name": "ipython",
    "version": 3
   },
   "file_extension": ".py",
   "mimetype": "text/x-python",
   "name": "python",
   "nbconvert_exporter": "python",
   "pygments_lexer": "ipython3",
   "version": "3.8.5"
  }
 },
 "nbformat": 4,
 "nbformat_minor": 5
}
