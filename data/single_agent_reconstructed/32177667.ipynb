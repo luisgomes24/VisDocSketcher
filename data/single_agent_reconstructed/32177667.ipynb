{
 "cells": [
  {
   "cell_type": "markdown",
   "id": "bad15a27",
   "metadata": {},
   "source": [
    "Load CSV data into a pandas DataFrame."
   ]
  },
  {
   "cell_type": "code",
   "execution_count": null,
   "id": "c6ba706f",
   "metadata": {},
   "outputs": [],
   "source": [
    "import pandas as pd\n",
    "\n",
    "df = pd.read_csv('data.csv')"
   ]
  },
  {
   "cell_type": "markdown",
   "id": "2d40cc10",
   "metadata": {},
   "source": [
    "Get the top 20 kernel creators by count."
   ]
  },
  {
   "cell_type": "code",
   "execution_count": null,
   "id": "74c8147a",
   "metadata": {},
   "outputs": [],
   "source": [
    "top_creators = df['KernelAuthor'].value_counts().head(20)"
   ]
  },
  {
   "cell_type": "markdown",
   "id": "8af2d5d9",
   "metadata": {},
   "source": [
    "Count the number of entries for each performance tier."
   ]
  },
  {
   "cell_type": "code",
   "execution_count": null,
   "id": "04df0940",
   "metadata": {},
   "outputs": [],
   "source": [
    "performance_tiers = df['KernelAuthorPerformanceTier'].value_counts()"
   ]
  },
  {
   "cell_type": "markdown",
   "id": "b17efa79",
   "metadata": {},
   "source": [
    "Count the number of kernels by medal type."
   ]
  },
  {
   "cell_type": "code",
   "execution_count": null,
   "id": "9e67137f",
   "metadata": {},
   "outputs": [],
   "source": [
    "kernel_medals = df['medal'].value_counts()"
   ]
  },
  {
   "cell_type": "markdown",
   "id": "2d90ef82",
   "metadata": {},
   "source": [
    "Count the number of kernels per programming language."
   ]
  },
  {
   "cell_type": "code",
   "execution_count": null,
   "id": "03984c2e",
   "metadata": {},
   "outputs": [],
   "source": [
    "kernels_by_language = df['languageName'].value_counts()"
   ]
  },
  {
   "cell_type": "markdown",
   "id": "f0f72213",
   "metadata": {},
   "source": [
    "Calculate the mean of forks, treating NaN as 0."
   ]
  },
  {
   "cell_type": "code",
   "execution_count": null,
   "id": "ab970c2f",
   "metadata": {},
   "outputs": [],
   "source": [
    "forks_analysis = df['isFork'].fillna(0).mean()"
   ]
  },
  {
   "cell_type": "markdown",
   "id": "35c2062a",
   "metadata": {},
   "source": [
    "Get descriptive statistics for lines changed in forks."
   ]
  },
  {
   "cell_type": "code",
   "execution_count": null,
   "id": "659d1d3c",
   "metadata": {},
   "outputs": [],
   "source": [
    "lines_changed_forks = df['ForkLinesChanged'].describe()"
   ]
  },
  {
   "cell_type": "markdown",
   "id": "02d3014f",
   "metadata": {},
   "source": [
    "Calculate the mean usage of GPU, treating NaN as 0."
   ]
  },
  {
   "cell_type": "code",
   "execution_count": null,
   "id": "6bb25c00",
   "metadata": {},
   "outputs": [],
   "source": [
    "gpu_usage = df['isGpuEnabled'].fillna(0).mean()"
   ]
  },
  {
   "cell_type": "markdown",
   "id": "e105f50f",
   "metadata": {},
   "source": [
    "Visualize the relationship between upvotes and views."
   ]
  },
  {
   "cell_type": "code",
   "execution_count": null,
   "id": "550d327e",
   "metadata": {},
   "outputs": [],
   "source": [
    "upvotes_vs_views = df.plot.scatter(x='upvotes', y='views')"
   ]
  },
  {
   "cell_type": "markdown",
   "id": "32c3f28e",
   "metadata": {},
   "source": [
    "Sort kernels by the total number of comments."
   ]
  },
  {
   "cell_type": "code",
   "execution_count": null,
   "id": "ee9aa404",
   "metadata": {},
   "outputs": [],
   "source": [
    "best_score vs total_comments = df[['title', 'totalComments']].sort_values(by='totalComments')"
   ]
  },
  {
   "cell_type": "markdown",
   "id": "c6080d00",
   "metadata": {},
   "source": [
    "Create a directed graph for the kernels."
   ]
  },
  {
   "cell_type": "code",
   "execution_count": null,
   "id": "cea1fe5e",
   "metadata": {},
   "outputs": [],
   "source": [
    "import networkx as nx\n",
    "G = nx.DiGraph()"
   ]
  },
  {
   "cell_type": "markdown",
   "id": "6e0d158b",
   "metadata": {},
   "source": [
    "Clean up connected components in the graph."
   ]
  },
  {
   "cell_type": "code",
   "execution_count": null,
   "id": "f05dc6b4",
   "metadata": {},
   "outputs": [],
   "source": [
    "cleaned_components = [c for c in nx.connected_components(G)]"
   ]
  },
  {
   "cell_type": "markdown",
   "id": "e4d6a54a",
   "metadata": {},
   "source": [
    "Visualize the fork graph."
   ]
  },
  {
   "cell_type": "code",
   "execution_count": null,
   "id": "5114d358",
   "metadata": {},
   "outputs": [],
   "source": [
    "nx.draw(G)"
   ]
  },
  {
   "cell_type": "markdown",
   "id": "a725c994",
   "metadata": {},
   "source": [
    "Calculate average subtree size and votes."
   ]
  },
  {
   "cell_type": "code",
   "execution_count": null,
   "id": "1faacda5",
   "metadata": {},
   "outputs": [],
   "source": [
    "subtree_size_votes = forks[['subtreeSize', 'votes']].mean()"
   ]
  },
  {
   "cell_type": "markdown",
   "id": "9421b76b",
   "metadata": {},
   "source": [
    "Get the top 20 most forked kernels."
   ]
  },
  {
   "cell_type": "code",
   "execution_count": null,
   "id": "14a828f4",
   "metadata": {},
   "outputs": [],
   "source": [
    "most_forked_kernels = forks.sort_values('TotalForkedKernels', ascending=False).head(20)"
   ]
  },
  {
   "cell_type": "markdown",
   "id": "5850d838",
   "metadata": {},
   "source": [
    "Get the top 20 kernels with the most cumulative votes."
   ]
  },
  {
   "cell_type": "code",
   "execution_count": null,
   "id": "bdc2c755",
   "metadata": {},
   "outputs": [],
   "source": [
    "most_cumulative_votes = forks.sort_values('CumulatedVotes', ascending=False).head(20)"
   ]
  }
 ],
 "metadata": {
  "kernelspec": {
   "display_name": "Python 3",
   "language": "python",
   "name": "python3"
  },
  "language_info": {
   "codemirror_mode": {
    "name": "ipython",
    "version": 3
   },
   "file_extension": ".py",
   "mimetype": "text/x-python",
   "name": "python",
   "nbconvert_exporter": "python",
   "pygments_lexer": "ipython3",
   "version": "3.8.5"
  }
 },
 "nbformat": 4,
 "nbformat_minor": 5
}
