{
 "cells": [
  {
   "cell_type": "markdown",
   "id": "69c7c05a",
   "metadata": {},
   "source": [
    "Load data from a CSV file into a pandas DataFrame."
   ]
  },
  {
   "cell_type": "code",
   "execution_count": null,
   "id": "cbe31c9b",
   "metadata": {},
   "outputs": [],
   "source": [
    "import pandas as pd\n",
    "data = pd.read_csv('data.csv')"
   ]
  },
  {
   "cell_type": "markdown",
   "id": "b5c843df",
   "metadata": {},
   "source": [
    "Display the first few rows of the dataset to understand its structure."
   ]
  },
  {
   "cell_type": "code",
   "execution_count": null,
   "id": "5e4c40fc",
   "metadata": {},
   "outputs": [],
   "source": [
    "print(data.head())"
   ]
  },
  {
   "cell_type": "markdown",
   "id": "636a3bc6",
   "metadata": {},
   "source": [
    "Create distribution graphs for each column in the dataset."
   ]
  },
  {
   "cell_type": "code",
   "execution_count": null,
   "id": "4226abf0",
   "metadata": {},
   "outputs": [],
   "source": [
    "import matplotlib.pyplot as plt\n",
    "import seaborn as sns\n",
    "def plotPerColumnDistribution(data):\n",
    "    for column in data.columns:\n",
    "        plt.figure(figsize=(10, 4))\n",
    "        sns.histplot(data[column])\n",
    "        plt.title(f'Distribution of {column}')\n",
    "        plt.show()"
   ]
  },
  {
   "cell_type": "markdown",
   "id": "0bfc57d8",
   "metadata": {},
   "source": [
    "Generate a correlation matrix to visualize relationships between variables."
   ]
  },
  {
   "cell_type": "code",
   "execution_count": null,
   "id": "c98dcbdc",
   "metadata": {},
   "outputs": [],
   "source": [
    "def plotCorrelationMatrix(data):\n",
    "    plt.figure(figsize=(10, 8))\n",
    "    sns.heatmap(data.corr(), annot=True, fmt='.2f', cmap='coolwarm')\n",
    "    plt.title('Correlation Matrix')\n",
    "    plt.show()"
   ]
  },
  {
   "cell_type": "markdown",
   "id": "60d60250",
   "metadata": {},
   "source": [
    "Create scatter and density plots for visual inspection of feature relationships."
   ]
  },
  {
   "cell_type": "code",
   "execution_count": null,
   "id": "aa0dd8f4",
   "metadata": {},
   "outputs": [],
   "source": [
    "def plotScatterMatrix(data):\n",
    "    sns.pairplot(data)\n",
    "    plt.title('Scatter & Density Plots')\n",
    "    plt.show()"
   ]
  },
  {
   "cell_type": "markdown",
   "id": "9c2361b6",
   "metadata": {},
   "source": [
    "Summarize the insights gained from the data exploration."
   ]
  },
  {
   "cell_type": "code",
   "execution_count": null,
   "id": "dda24c87",
   "metadata": {},
   "outputs": [],
   "source": [
    "# Conclusion\n",
    "# Analyze the key findings from the visualizations."
   ]
  }
 ],
 "metadata": {
  "kernelspec": {
   "display_name": "Python 3",
   "language": "python",
   "name": "python3"
  },
  "language_info": {
   "codemirror_mode": {
    "name": "ipython",
    "version": 3
   },
   "file_extension": ".py",
   "mimetype": "text/x-python",
   "name": "python",
   "nbconvert_exporter": "python",
   "pygments_lexer": "ipython3",
   "version": "3.8.5"
  }
 },
 "nbformat": 4,
 "nbformat_minor": 5
}
