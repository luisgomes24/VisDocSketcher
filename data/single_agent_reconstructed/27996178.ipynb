{
 "cells": [
  {
   "cell_type": "markdown",
   "id": "4edc509b",
   "metadata": {},
   "source": [
    "Load the CSV file into a DataFrame using pandas."
   ]
  },
  {
   "cell_type": "code",
   "execution_count": null,
   "id": "6e3feb9e",
   "metadata": {},
   "outputs": [],
   "source": [
    "import pandas as pd\n",
    "\n",
    "data = pd.read_csv('data.csv')"
   ]
  },
  {
   "cell_type": "markdown",
   "id": "b4cc2037",
   "metadata": {},
   "source": [
    "Inspect the data to understand its structure and types."
   ]
  },
  {
   "cell_type": "code",
   "execution_count": null,
   "id": "e06299c4",
   "metadata": {},
   "outputs": [],
   "source": [
    "data.info()"
   ]
  },
  {
   "cell_type": "markdown",
   "id": "afd5b1a1",
   "metadata": {},
   "source": [
    "Check for invalid entries with missing values."
   ]
  },
  {
   "cell_type": "code",
   "execution_count": null,
   "id": "6beb116c",
   "metadata": {},
   "outputs": [],
   "source": [
    "invalid_data = data[data.isnull().any(axis=1)]"
   ]
  },
  {
   "cell_type": "markdown",
   "id": "c66461a0",
   "metadata": {},
   "source": [
    "Remove the invalid entries from the DataFrame."
   ]
  },
  {
   "cell_type": "code",
   "execution_count": null,
   "id": "bce5a28f",
   "metadata": {},
   "outputs": [],
   "source": [
    "data = data.dropna()"
   ]
  },
  {
   "cell_type": "markdown",
   "id": "fa71e7bd",
   "metadata": {},
   "source": [
    "Visualize sales by regions using a bar chart."
   ]
  },
  {
   "cell_type": "code",
   "execution_count": null,
   "id": "ebbaec37",
   "metadata": {},
   "outputs": [],
   "source": [
    "data['Region'].value_counts().plot(kind='bar')"
   ]
  },
  {
   "cell_type": "markdown",
   "id": "bed94d3f",
   "metadata": {},
   "source": [
    "Visualize sales by categories using a bar chart."
   ]
  },
  {
   "cell_type": "code",
   "execution_count": null,
   "id": "028aa92c",
   "metadata": {},
   "outputs": [],
   "source": [
    "data['Category'].value_counts().plot(kind='bar')"
   ]
  },
  {
   "cell_type": "markdown",
   "id": "0becb3e9",
   "metadata": {},
   "source": [
    "Visualize sales by sub-categories using a bar chart."
   ]
  },
  {
   "cell_type": "code",
   "execution_count": null,
   "id": "f26a41a1",
   "metadata": {},
   "outputs": [],
   "source": [
    "data['Sub-Category'].value_counts().plot(kind='bar')"
   ]
  },
  {
   "cell_type": "markdown",
   "id": "cff050ca",
   "metadata": {},
   "source": [
    "Calculate the average profit margin."
   ]
  },
  {
   "cell_type": "code",
   "execution_count": null,
   "id": "a9ffb166",
   "metadata": {},
   "outputs": [],
   "source": [
    "data['Profit'].mean()"
   ]
  },
  {
   "cell_type": "markdown",
   "id": "fa249609",
   "metadata": {},
   "source": [
    "Analyze yearly sales and orders."
   ]
  },
  {
   "cell_type": "code",
   "execution_count": null,
   "id": "8ed8ef47",
   "metadata": {},
   "outputs": [],
   "source": [
    "yearly_sales = data.groupby(data['Order Date'].dt.year).sum()"
   ]
  },
  {
   "cell_type": "markdown",
   "id": "35562b0f",
   "metadata": {},
   "source": [
    "Visualize yearly sales with a bar chart."
   ]
  },
  {
   "cell_type": "code",
   "execution_count": null,
   "id": "4f985d15",
   "metadata": {},
   "outputs": [],
   "source": [
    "yearly_sales['Sales'].plot(kind='bar')"
   ]
  },
  {
   "cell_type": "markdown",
   "id": "28c5cd12",
   "metadata": {},
   "source": [
    "Calculate monthly sales."
   ]
  },
  {
   "cell_type": "code",
   "execution_count": null,
   "id": "ea76054a",
   "metadata": {},
   "outputs": [],
   "source": [
    "monthly_sales = data.groupby(data['Order Date'].dt.month).sum()"
   ]
  },
  {
   "cell_type": "markdown",
   "id": "be358368",
   "metadata": {},
   "source": [
    "Visualize monthly sales with a bar chart."
   ]
  },
  {
   "cell_type": "code",
   "execution_count": null,
   "id": "3f10f68b",
   "metadata": {},
   "outputs": [],
   "source": [
    "monthly_sales['Sales'].plot(kind='bar')"
   ]
  }
 ],
 "metadata": {
  "kernelspec": {
   "display_name": "Python 3",
   "language": "python",
   "name": "python3"
  },
  "language_info": {
   "codemirror_mode": {
    "name": "ipython",
    "version": 3
   },
   "file_extension": ".py",
   "mimetype": "text/x-python",
   "name": "python",
   "nbconvert_exporter": "python",
   "pygments_lexer": "ipython3",
   "version": "3.8.5"
  }
 },
 "nbformat": 4,
 "nbformat_minor": 5
}
