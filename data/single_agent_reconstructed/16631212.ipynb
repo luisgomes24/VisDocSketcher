{
 "cells": [
  {
   "cell_type": "markdown",
   "id": "d6f85adf",
   "metadata": {},
   "source": [
    "Load the data from a CSV file using Pandas."
   ]
  },
  {
   "cell_type": "code",
   "execution_count": null,
   "id": "a9c1dfab",
   "metadata": {},
   "outputs": [],
   "source": [
    "import pandas as pd\n",
    "data = pd.read_csv('data.csv')"
   ]
  },
  {
   "cell_type": "markdown",
   "id": "27699ab2",
   "metadata": {},
   "source": [
    "Handle NaN values by forwarding filling missing values."
   ]
  },
  {
   "cell_type": "code",
   "execution_count": null,
   "id": "bb57b665",
   "metadata": {},
   "outputs": [],
   "source": [
    "data.fillna(method='ffill', inplace=True)"
   ]
  },
  {
   "cell_type": "markdown",
   "id": "5230bc59",
   "metadata": {},
   "source": [
    "Create a histogram to visualize the age distribution."
   ]
  },
  {
   "cell_type": "code",
   "execution_count": null,
   "id": "650aac64",
   "metadata": {},
   "outputs": [],
   "source": [
    "import matplotlib.pyplot as plt\n",
    "plt.hist(data['Age'])\n",
    "plt.title('Age Distribution')\n",
    "plt.show()"
   ]
  },
  {
   "cell_type": "markdown",
   "id": "1c5b40a8",
   "metadata": {},
   "source": [
    "Create a boxplot to represent shooting accuracy."
   ]
  },
  {
   "cell_type": "code",
   "execution_count": null,
   "id": "1a7a6356",
   "metadata": {},
   "outputs": [],
   "source": [
    "plt.boxplot(data['ShootingAccuracy'])\n",
    "plt.title('Shooting Accuracy')\n",
    "plt.show()"
   ]
  },
  {
   "cell_type": "markdown",
   "id": "8d61c793",
   "metadata": {},
   "source": [
    "Visualize appearances by nationality using an ANOVA boxplot."
   ]
  },
  {
   "cell_type": "code",
   "execution_count": null,
   "id": "fea4883f",
   "metadata": {},
   "outputs": [],
   "source": [
    "import seaborn as sns\n",
    "sns.boxplot(x='Nationality', y='Appearances', data=data)\n",
    "plt.title('ANOVA Boxplot')\n",
    "plt.show()"
   ]
  },
  {
   "cell_type": "markdown",
   "id": "a573b2a5",
   "metadata": {},
   "source": [
    "Perform a one-sample t-test."
   ]
  },
  {
   "cell_type": "code",
   "execution_count": null,
   "id": "0f8264a1",
   "metadata": {},
   "outputs": [],
   "source": [
    "from scipy import stats\n",
    "t_statistic, p_value = stats.ttest_1samp(data['value'], popmean=0)"
   ]
  },
  {
   "cell_type": "markdown",
   "id": "8a7abf4e",
   "metadata": {},
   "source": [
    "Conduct a two-sample t-test."
   ]
  },
  {
   "cell_type": "code",
   "execution_count": null,
   "id": "282817cc",
   "metadata": {},
   "outputs": [],
   "source": [
    "t_statistic, p_value = stats.ttest_ind(data['group1'], data['group2'])"
   ]
  },
  {
   "cell_type": "markdown",
   "id": "8fdb3ae9",
   "metadata": {},
   "source": [
    "Perform a paired t-test."
   ]
  },
  {
   "cell_type": "code",
   "execution_count": null,
   "id": "e41106d7",
   "metadata": {},
   "outputs": [],
   "source": [
    "t_statistic, p_value = stats.ttest_rel(data['before'], data['after'])"
   ]
  },
  {
   "cell_type": "markdown",
   "id": "b03b32d8",
   "metadata": {},
   "source": [
    "Conduct an ANOVA test."
   ]
  },
  {
   "cell_type": "code",
   "execution_count": null,
   "id": "c749ea6d",
   "metadata": {},
   "outputs": [],
   "source": [
    "anova_result = stats.f_oneway(data['group1'], data['group2'], data['group3'])"
   ]
  },
  {
   "cell_type": "markdown",
   "id": "ff13c594",
   "metadata": {},
   "source": [
    "Calculate Pearson correlation."
   ]
  },
  {
   "cell_type": "code",
   "execution_count": null,
   "id": "b52f9c82",
   "metadata": {},
   "outputs": [],
   "source": [
    "correlation, p_value = stats.pearsonr(data['x'], data['y'])"
   ]
  },
  {
   "cell_type": "markdown",
   "id": "2b30e981",
   "metadata": {},
   "source": [
    "Create and fit a linear regression model."
   ]
  },
  {
   "cell_type": "code",
   "execution_count": null,
   "id": "58cedc93",
   "metadata": {},
   "outputs": [],
   "source": [
    "from sklearn.linear_model import LinearRegression\n",
    "model = LinearRegression()\n",
    "model.fit(X, y)"
   ]
  },
  {
   "cell_type": "markdown",
   "id": "85683ecd",
   "metadata": {},
   "source": [
    "Evaluate the model using the R² score."
   ]
  },
  {
   "cell_type": "code",
   "execution_count": null,
   "id": "59585891",
   "metadata": {},
   "outputs": [],
   "source": [
    "r_squared = model.score(X, y)"
   ]
  }
 ],
 "metadata": {
  "kernelspec": {
   "display_name": "Python 3",
   "language": "python",
   "name": "python3"
  },
  "language_info": {
   "codemirror_mode": {
    "name": "ipython",
    "version": 3
   },
   "file_extension": ".py",
   "mimetype": "text/x-python",
   "name": "python",
   "nbconvert_exporter": "python",
   "pygments_lexer": "ipython3",
   "version": "3.8.5"
  }
 },
 "nbformat": 4,
 "nbformat_minor": 5
}
