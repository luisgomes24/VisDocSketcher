{
 "cells": [
  {
   "cell_type": "markdown",
   "id": "4380f3b8",
   "metadata": {},
   "source": [
    "Function to load data from a specified CSV file."
   ]
  },
  {
   "cell_type": "code",
   "execution_count": null,
   "id": "a34ad326",
   "metadata": {},
   "outputs": [],
   "source": [
    "import pandas as pd\n",
    "\n",
    "def load_data(file_path):\n",
    "    return pd.read_csv(file_path)"
   ]
  },
  {
   "cell_type": "markdown",
   "id": "23e44a60",
   "metadata": {},
   "source": [
    "Load the CSV file into a DataFrame."
   ]
  },
  {
   "cell_type": "code",
   "execution_count": null,
   "id": "15b50e6c",
   "metadata": {},
   "outputs": [],
   "source": [
    "df = load_data('data.csv')"
   ]
  },
  {
   "cell_type": "markdown",
   "id": "d027ab39",
   "metadata": {},
   "source": [
    "Preview the first few rows of the DataFrame."
   ]
  },
  {
   "cell_type": "code",
   "execution_count": null,
   "id": "ccec9cfd",
   "metadata": {},
   "outputs": [],
   "source": [
    "print(df.head())"
   ]
  },
  {
   "cell_type": "markdown",
   "id": "c1938481",
   "metadata": {},
   "source": [
    "Generate distribution graphs for a specific column in the DataFrame."
   ]
  },
  {
   "cell_type": "code",
   "execution_count": null,
   "id": "9ba17d07",
   "metadata": {},
   "outputs": [],
   "source": [
    "import matplotlib.pyplot as plt\n",
    "import seaborn as sns\n",
    "\n",
    "sns.histplot(df['column_name'], kde=True)\n",
    "plt.show()"
   ]
  },
  {
   "cell_type": "markdown",
   "id": "13370ddd",
   "metadata": {},
   "source": [
    "Create a correlation matrix and visualize it using a heatmap."
   ]
  },
  {
   "cell_type": "code",
   "execution_count": null,
   "id": "946997ab",
   "metadata": {},
   "outputs": [],
   "source": [
    "correlation_matrix = df.corr()\n",
    "sns.heatmap(correlation_matrix, annot=True)\n",
    "plt.show()"
   ]
  },
  {
   "cell_type": "markdown",
   "id": "bcb4a1a5",
   "metadata": {},
   "source": [
    "Generate scatter plots for two specified columns in the DataFrame."
   ]
  },
  {
   "cell_type": "code",
   "execution_count": null,
   "id": "504102e0",
   "metadata": {},
   "outputs": [],
   "source": [
    "sns.scatterplot(data=df, x='column_x', y='column_y')\n",
    "plt.show()"
   ]
  },
  {
   "cell_type": "markdown",
   "id": "bb1a7476",
   "metadata": {},
   "source": [
    "Load the CSV file into a DataFrame again."
   ]
  },
  {
   "cell_type": "code",
   "execution_count": null,
   "id": "a8338be5",
   "metadata": {},
   "outputs": [],
   "source": [
    "df = load_data('data.csv')"
   ]
  },
  {
   "cell_type": "markdown",
   "id": "86a4caa5",
   "metadata": {},
   "source": [
    "Preview the first few rows of the DataFrame again."
   ]
  },
  {
   "cell_type": "code",
   "execution_count": null,
   "id": "49245a0d",
   "metadata": {},
   "outputs": [],
   "source": [
    "print(df.head())"
   ]
  },
  {
   "cell_type": "markdown",
   "id": "d3e59717",
   "metadata": {},
   "source": [
    "Generate distribution graphs for a specific column in the DataFrame again."
   ]
  },
  {
   "cell_type": "code",
   "execution_count": null,
   "id": "5aad25c5",
   "metadata": {},
   "outputs": [],
   "source": [
    "sns.histplot(df['column_name'], kde=True)\n",
    "plt.show()"
   ]
  },
  {
   "cell_type": "markdown",
   "id": "5f5b108d",
   "metadata": {},
   "source": [
    "Create a correlation matrix and visualize it using a heatmap again."
   ]
  },
  {
   "cell_type": "code",
   "execution_count": null,
   "id": "6dacf481",
   "metadata": {},
   "outputs": [],
   "source": [
    "correlation_matrix = df.corr()\n",
    "sns.heatmap(correlation_matrix, annot=True)\n",
    "plt.show()"
   ]
  },
  {
   "cell_type": "markdown",
   "id": "ac58e92c",
   "metadata": {},
   "source": [
    "Generate scatter plots for two specified columns in the DataFrame again."
   ]
  },
  {
   "cell_type": "code",
   "execution_count": null,
   "id": "80ddd780",
   "metadata": {},
   "outputs": [],
   "source": [
    "sns.scatterplot(data=df, x='column_x', y='column_y')\n",
    "plt.show()"
   ]
  }
 ],
 "metadata": {
  "kernelspec": {
   "display_name": "Python 3",
   "language": "python",
   "name": "python3"
  },
  "language_info": {
   "codemirror_mode": {
    "name": "ipython",
    "version": 3
   },
   "file_extension": ".py",
   "mimetype": "text/x-python",
   "name": "python",
   "nbconvert_exporter": "python",
   "pygments_lexer": "ipython3",
   "version": "3.8.5"
  }
 },
 "nbformat": 4,
 "nbformat_minor": 5
}
