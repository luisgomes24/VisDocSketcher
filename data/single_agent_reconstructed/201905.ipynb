{
 "cells": [
  {
   "cell_type": "markdown",
   "id": "24b867bc",
   "metadata": {},
   "source": [
    "Load the dataset from a CSV file into a Pandas DataFrame."
   ]
  },
  {
   "cell_type": "code",
   "execution_count": null,
   "id": "28259806",
   "metadata": {},
   "outputs": [],
   "source": [
    "import pandas as pd\n",
    "\n",
    "data = pd.read_csv('data.csv')"
   ]
  },
  {
   "cell_type": "markdown",
   "id": "a58aaeb9",
   "metadata": {},
   "source": [
    "Remove any rows with missing values for data cleansing."
   ]
  },
  {
   "cell_type": "code",
   "execution_count": null,
   "id": "aeb21f27",
   "metadata": {},
   "outputs": [],
   "source": [
    "data.dropna(inplace=True)"
   ]
  },
  {
   "cell_type": "markdown",
   "id": "c0b7e3c1",
   "metadata": {},
   "source": [
    "Visualize the distribution of text lengths using a histogram."
   ]
  },
  {
   "cell_type": "code",
   "execution_count": null,
   "id": "dab95203",
   "metadata": {},
   "outputs": [],
   "source": [
    "import matplotlib.pyplot as plt\n",
    "plt.hist(data['text'].str.len(), bins=30)\n",
    "plt.show()"
   ]
  },
  {
   "cell_type": "markdown",
   "id": "b900f44a",
   "metadata": {},
   "source": [
    "Generate and display a word cloud from the text data."
   ]
  },
  {
   "cell_type": "code",
   "execution_count": null,
   "id": "195592b8",
   "metadata": {},
   "outputs": [],
   "source": [
    "from wordcloud import WordCloud\n",
    "wordcloud = WordCloud().generate(' '.join(data['text']))\n",
    "plt.imshow(wordcloud, interpolation='bilinear')\n",
    "plt.axis('off')\n",
    "plt.show()"
   ]
  },
  {
   "cell_type": "markdown",
   "id": "25f34471",
   "metadata": {},
   "source": [
    "Split the dataset into training and testing sets."
   ]
  },
  {
   "cell_type": "code",
   "execution_count": null,
   "id": "202d1f42",
   "metadata": {},
   "outputs": [],
   "source": [
    "from sklearn.model_selection import train_test_split\n",
    "train, test = train_test_split(data, test_size=0.2)"
   ]
  },
  {
   "cell_type": "markdown",
   "id": "24c54151",
   "metadata": {},
   "source": [
    "Create TF-IDF variables for the text data."
   ]
  },
  {
   "cell_type": "code",
   "execution_count": null,
   "id": "b79896a2",
   "metadata": {},
   "outputs": [],
   "source": [
    "from sklearn.feature_extraction.text import TfidfVectorizer\n",
    "tfidf = TfidfVectorizer()\n",
    "X_train = tfidf.fit_transform(train['text'])\n",
    "X_test = tfidf.transform(test['text'])"
   ]
  },
  {
   "cell_type": "markdown",
   "id": "869300a5",
   "metadata": {},
   "source": [
    "Train a Random Forest model using the training data."
   ]
  },
  {
   "cell_type": "code",
   "execution_count": null,
   "id": "c13129d1",
   "metadata": {},
   "outputs": [],
   "source": [
    "from sklearn.ensemble import RandomForestClassifier\n",
    "model = RandomForestClassifier()\n",
    "model.fit(X_train, train['label'])"
   ]
  },
  {
   "cell_type": "markdown",
   "id": "e1a4aa46",
   "metadata": {},
   "source": [
    "Evaluate the model's accuracy on the test set."
   ]
  },
  {
   "cell_type": "code",
   "execution_count": null,
   "id": "965310c6",
   "metadata": {},
   "outputs": [],
   "source": [
    "from sklearn.metrics import accuracy_score\n",
    "y_pred = model.predict(X_test)\n",
    "accuracy = accuracy_score(test['label'], y_pred)"
   ]
  },
  {
   "cell_type": "markdown",
   "id": "63505185",
   "metadata": {},
   "source": [
    "Calculate and sort feature importance from the trained model."
   ]
  },
  {
   "cell_type": "code",
   "execution_count": null,
   "id": "fde2f3db",
   "metadata": {},
   "outputs": [],
   "source": [
    "importances = model.feature_importances_\n",
    "features = tfidf.get_feature_names_out()\n",
    "indices = np.argsort(importances)[::-1]"
   ]
  }
 ],
 "metadata": {
  "kernelspec": {
   "display_name": "Python 3",
   "language": "python",
   "name": "python3"
  },
  "language_info": {
   "codemirror_mode": {
    "name": "ipython",
    "version": 3
   },
   "file_extension": ".py",
   "mimetype": "text/x-python",
   "name": "python",
   "nbconvert_exporter": "python",
   "pygments_lexer": "ipython3",
   "version": "3.8.5"
  }
 },
 "nbformat": 4,
 "nbformat_minor": 5
}
