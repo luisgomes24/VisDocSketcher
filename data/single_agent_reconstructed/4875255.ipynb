{
 "cells": [
  {
   "cell_type": "markdown",
   "id": "ce8d1d52",
   "metadata": {},
   "source": [
    "Load the data from a CSV file into a pandas DataFrame."
   ]
  },
  {
   "cell_type": "code",
   "execution_count": null,
   "id": "9d75c444",
   "metadata": {},
   "outputs": [],
   "source": [
    "import pandas as pd\n",
    "\n",
    "df = pd.read_csv('trips_data.csv')"
   ]
  },
  {
   "cell_type": "markdown",
   "id": "d6670e85",
   "metadata": {},
   "source": [
    "Display the first few rows of the DataFrame to preview the data."
   ]
  },
  {
   "cell_type": "code",
   "execution_count": null,
   "id": "1c591c1b",
   "metadata": {},
   "outputs": [],
   "source": [
    "print(df.head())"
   ]
  },
  {
   "cell_type": "markdown",
   "id": "5e4ef8f0",
   "metadata": {},
   "source": [
    "Count the number of trips for each year using groupby."
   ]
  },
  {
   "cell_type": "code",
   "execution_count": null,
   "id": "b6b03ccc",
   "metadata": {},
   "outputs": [],
   "source": [
    "trips_by_year = df.groupby(df['date'].dt.year).size()"
   ]
  },
  {
   "cell_type": "markdown",
   "id": "34a3ffdf",
   "metadata": {},
   "source": [
    "Count the number of trips for each month using groupby on a period."
   ]
  },
  {
   "cell_type": "code",
   "execution_count": null,
   "id": "346b698f",
   "metadata": {},
   "outputs": [],
   "source": [
    "trips_by_month = df.groupby(df['date'].dt.to_period('M')).size()"
   ]
  },
  {
   "cell_type": "markdown",
   "id": "c5140583",
   "metadata": {},
   "source": [
    "Analyze the average speed of trips per hour."
   ]
  },
  {
   "cell_type": "code",
   "execution_count": null,
   "id": "77b5d7a7",
   "metadata": {},
   "outputs": [],
   "source": [
    "speed_analysis = df.groupby(df['hour']).agg({'speed': 'mean'})"
   ]
  },
  {
   "cell_type": "markdown",
   "id": "7cd22994",
   "metadata": {},
   "source": [
    "Evaluate and display the results of the analysis."
   ]
  },
  {
   "cell_type": "code",
   "execution_count": null,
   "id": "3cc73f34",
   "metadata": {},
   "outputs": [],
   "source": [
    "print(speed_analysis)\n",
    "print(trips_by_year)\n",
    "print(trips_by_month)"
   ]
  }
 ],
 "metadata": {
  "kernelspec": {
   "display_name": "Python 3",
   "language": "python",
   "name": "python3"
  },
  "language_info": {
   "codemirror_mode": {
    "name": "ipython",
    "version": 3
   },
   "file_extension": ".py",
   "mimetype": "text/x-python",
   "name": "python",
   "nbconvert_exporter": "python",
   "pygments_lexer": "ipython3",
   "version": "3.8.5"
  }
 },
 "nbformat": 4,
 "nbformat_minor": 5
}
