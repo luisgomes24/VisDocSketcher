{
 "cells": [
  {
   "cell_type": "markdown",
   "id": "df6627ce",
   "metadata": {},
   "source": [
    "This step loads the CSV data into a DataFrame using pandas."
   ]
  },
  {
   "cell_type": "code",
   "execution_count": null,
   "id": "691d3370",
   "metadata": {},
   "outputs": [],
   "source": [
    "import pandas as pd\n",
    "data = pd.read_csv('data.csv')"
   ]
  },
  {
   "cell_type": "markdown",
   "id": "de8722a0",
   "metadata": {},
   "source": [
    "This previews the first few rows of the DataFrame to understand its structure."
   ]
  },
  {
   "cell_type": "code",
   "execution_count": null,
   "id": "37a5fe13",
   "metadata": {},
   "outputs": [],
   "source": [
    "print(data.head())"
   ]
  },
  {
   "cell_type": "markdown",
   "id": "91c18a81",
   "metadata": {},
   "source": [
    "This function plots histograms for each column in the DataFrame to visualize distributions."
   ]
  },
  {
   "cell_type": "code",
   "execution_count": null,
   "id": "f43a3716",
   "metadata": {},
   "outputs": [],
   "source": [
    "import matplotlib.pyplot as plt\n",
    "\n",
    "def plotPerColumnDistribution(data):\n",
    "    data.hist(figsize=(10, 10))\n",
    "    plt.show()"
   ]
  },
  {
   "cell_type": "markdown",
   "id": "f5e39607",
   "metadata": {},
   "source": [
    "This function creates a heatmap of the correlation matrix using seaborn."
   ]
  },
  {
   "cell_type": "code",
   "execution_count": null,
   "id": "77165adb",
   "metadata": {},
   "outputs": [],
   "source": [
    "import seaborn as sns\n",
    "\n",
    "def plotCorrelationMatrix(data):\n",
    "    sns.heatmap(data.corr(), annot=True)\n",
    "    plt.show()"
   ]
  },
  {
   "cell_type": "markdown",
   "id": "30ba3cf5",
   "metadata": {},
   "source": [
    "This function produces scatter plots for each pair of features in the DataFrame."
   ]
  },
  {
   "cell_type": "code",
   "execution_count": null,
   "id": "8223f137",
   "metadata": {},
   "outputs": [],
   "source": [
    "import seaborn as sns\n",
    "\n",
    " def plotScatterMatrix(data):\n",
    "    sns.pairplot(data)\n",
    "    plt.show()"
   ]
  }
 ],
 "metadata": {
  "kernelspec": {
   "display_name": "Python 3",
   "language": "python",
   "name": "python3"
  },
  "language_info": {
   "codemirror_mode": {
    "name": "ipython",
    "version": 3
   },
   "file_extension": ".py",
   "mimetype": "text/x-python",
   "name": "python",
   "nbconvert_exporter": "python",
   "pygments_lexer": "ipython3",
   "version": "3.8.5"
  }
 },
 "nbformat": 4,
 "nbformat_minor": 5
}
