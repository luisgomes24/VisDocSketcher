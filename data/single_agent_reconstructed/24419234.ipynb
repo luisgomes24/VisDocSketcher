{
 "cells": [
  {
   "cell_type": "markdown",
   "id": "14093e39",
   "metadata": {},
   "source": [
    "Load the training data from 'train.csv' using pandas."
   ]
  },
  {
   "cell_type": "code",
   "execution_count": null,
   "id": "3ea0296a",
   "metadata": {},
   "outputs": [],
   "source": [
    "import pandas as pd\n",
    "train_data = pd.read_csv('train.csv')"
   ]
  },
  {
   "cell_type": "markdown",
   "id": "8cb968d3",
   "metadata": {},
   "source": [
    "Load the test data from 'test.csv' using pandas."
   ]
  },
  {
   "cell_type": "code",
   "execution_count": null,
   "id": "be694636",
   "metadata": {},
   "outputs": [],
   "source": [
    "test_data = pd.read_csv('test.csv')"
   ]
  },
  {
   "cell_type": "markdown",
   "id": "272a1bb1",
   "metadata": {},
   "source": [
    "Inspect the training data to understand its structure and summary."
   ]
  },
  {
   "cell_type": "code",
   "execution_count": null,
   "id": "f0be009d",
   "metadata": {},
   "outputs": [],
   "source": [
    "print(train_data.info())\n",
    "print(train_data.describe())"
   ]
  },
  {
   "cell_type": "markdown",
   "id": "d6d94141",
   "metadata": {},
   "source": [
    "Preprocess the data by scaling features with StandardScaler."
   ]
  },
  {
   "cell_type": "code",
   "execution_count": null,
   "id": "891e32bd",
   "metadata": {},
   "outputs": [],
   "source": [
    "from sklearn.preprocessing import StandardScaler\n",
    "scaler = StandardScaler()\n",
    "X = scaler.fit_transform(train_data.drop('target', axis=1))\n",
    "y = train_data['target']"
   ]
  },
  {
   "cell_type": "markdown",
   "id": "104a8ce1",
   "metadata": {},
   "source": [
    "Set up the model by splitting the data into training and validation sets."
   ]
  },
  {
   "cell_type": "code",
   "execution_count": null,
   "id": "09ac911e",
   "metadata": {},
   "outputs": [],
   "source": [
    "from sklearn.model_selection import train_test_split\n",
    "X_train, X_val, y_train, y_val = train_test_split(X, y, test_size=0.2, random_state=42)"
   ]
  },
  {
   "cell_type": "markdown",
   "id": "9125ad12",
   "metadata": {},
   "source": [
    "Create a model instance using Random Forest Classifier."
   ]
  },
  {
   "cell_type": "code",
   "execution_count": null,
   "id": "8e370df2",
   "metadata": {},
   "outputs": [],
   "source": [
    "from sklearn.ensemble import RandomForestClassifier\n",
    "model = RandomForestClassifier()"
   ]
  },
  {
   "cell_type": "markdown",
   "id": "08171da5",
   "metadata": {},
   "source": [
    "Train the model using the training data."
   ]
  },
  {
   "cell_type": "code",
   "execution_count": null,
   "id": "d5df6325",
   "metadata": {},
   "outputs": [],
   "source": [
    "model.fit(X_train, y_train)"
   ]
  },
  {
   "cell_type": "markdown",
   "id": "66f5b510",
   "metadata": {},
   "source": [
    "Plot the confusion matrix to evaluate the model's performance."
   ]
  },
  {
   "cell_type": "code",
   "execution_count": null,
   "id": "0c35cd12",
   "metadata": {},
   "outputs": [],
   "source": [
    "from sklearn.metrics import ConfusionMatrixDisplay\n",
    "import matplotlib.pyplot as plt\n",
    "ConfusionMatrixDisplay.from_estimator(model, X_val, y_val)\n",
    "plt.show()"
   ]
  },
  {
   "cell_type": "markdown",
   "id": "7609e2b1",
   "metadata": {},
   "source": [
    "Plot the AUC curve to assess the model's classification performance."
   ]
  },
  {
   "cell_type": "code",
   "execution_count": null,
   "id": "2e5ff1a2",
   "metadata": {},
   "outputs": [],
   "source": [
    "from sklearn.metrics import roc_curve, auc\n",
    "probs = model.predict_proba(X_val)[:, 1]\n",
    "fpr, tpr, _ = roc_curve(y_val, probs)\n",
    "roc_auc = auc(fpr, tpr)\n",
    "plt.plot(fpr, tpr, label='AUC = {:.2f}'.format(roc_auc))\n",
    "plt.show()"
   ]
  },
  {
   "cell_type": "markdown",
   "id": "a449beba",
   "metadata": {},
   "source": [
    "Make predictions on the test data using the trained model."
   ]
  },
  {
   "cell_type": "code",
   "execution_count": null,
   "id": "89c8feb8",
   "metadata": {},
   "outputs": [],
   "source": [
    "predictions = model.predict(test_data)"
   ]
  },
  {
   "cell_type": "markdown",
   "id": "085999f8",
   "metadata": {},
   "source": [
    "Prepare the submission DataFrame and save it as 'submission.csv'."
   ]
  },
  {
   "cell_type": "code",
   "execution_count": null,
   "id": "bda8870c",
   "metadata": {},
   "outputs": [],
   "source": [
    "submission = pd.DataFrame({'Id': test_data['Id'], 'Predictions': predictions})\n",
    "submission.to_csv('submission.csv', index=False)"
   ]
  },
  {
   "cell_type": "markdown",
   "id": "608b9f1d",
   "metadata": {},
   "source": [
    "Confirm that the submission file has been saved successfully."
   ]
  },
  {
   "cell_type": "code",
   "execution_count": null,
   "id": "84b13104",
   "metadata": {},
   "outputs": [],
   "source": [
    "print('Submission saved as submission.csv')"
   ]
  }
 ],
 "metadata": {
  "kernelspec": {
   "display_name": "Python 3",
   "language": "python",
   "name": "python3"
  },
  "language_info": {
   "codemirror_mode": {
    "name": "ipython",
    "version": 3
   },
   "file_extension": ".py",
   "mimetype": "text/x-python",
   "name": "python",
   "nbconvert_exporter": "python",
   "pygments_lexer": "ipython3",
   "version": "3.8.5"
  }
 },
 "nbformat": 4,
 "nbformat_minor": 5
}
