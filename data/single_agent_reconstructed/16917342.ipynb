{
 "cells": [
  {
   "cell_type": "markdown",
   "id": "bcb109ee",
   "metadata": {},
   "source": [
    "Load the first dataset from 'Dataset1_train.csv'."
   ]
  },
  {
   "cell_type": "code",
   "execution_count": null,
   "id": "09a68f89",
   "metadata": {},
   "outputs": [],
   "source": [
    "import pandas as pd\n",
    "\n",
    "dataset1 = pd.read_csv('Dataset1_train.csv')"
   ]
  },
  {
   "cell_type": "markdown",
   "id": "c509152c",
   "metadata": {},
   "source": [
    "Plot the series A1 and A4 from the first dataset."
   ]
  },
  {
   "cell_type": "code",
   "execution_count": null,
   "id": "0ca298c6",
   "metadata": {},
   "outputs": [],
   "source": [
    "import matplotlib.pyplot as plt\n",
    "\n",
    "plt.plot(dataset1['A1'], dataset1['A4'])\n",
    "plt.title('Plot of A1 and A4')\n",
    "plt.show()"
   ]
  },
  {
   "cell_type": "markdown",
   "id": "9bc1c62d",
   "metadata": {},
   "source": [
    "Load the second dataset from 'Dataset3_train.csv'."
   ]
  },
  {
   "cell_type": "code",
   "execution_count": null,
   "id": "fefc96c4",
   "metadata": {},
   "outputs": [],
   "source": [
    "dataset3 = pd.read_csv('Dataset3_train.csv')"
   ]
  },
  {
   "cell_type": "markdown",
   "id": "62f109c3",
   "metadata": {},
   "source": [
    "Plot the series A1 and A2 from the second dataset."
   ]
  },
  {
   "cell_type": "code",
   "execution_count": null,
   "id": "709706a7",
   "metadata": {},
   "outputs": [],
   "source": [
    "plt.plot(dataset3['A1'], dataset3['A2'])\n",
    "plt.title('Plot of A1 and A2')\n",
    "plt.show()"
   ]
  },
  {
   "cell_type": "markdown",
   "id": "975432fc",
   "metadata": {},
   "source": [
    "Load the third dataset from 'Dataset2_train.csv'."
   ]
  },
  {
   "cell_type": "code",
   "execution_count": null,
   "id": "e3c0dce4",
   "metadata": {},
   "outputs": [],
   "source": [
    "dataset2 = pd.read_csv('Dataset2_train.csv')"
   ]
  },
  {
   "cell_type": "markdown",
   "id": "c173ae7d",
   "metadata": {},
   "source": [
    "Plot the series A1 and A2 from the third dataset."
   ]
  },
  {
   "cell_type": "code",
   "execution_count": null,
   "id": "bae547ed",
   "metadata": {},
   "outputs": [],
   "source": [
    "plt.plot(dataset2['A1'], dataset2['A2'])\n",
    "plt.title('Plot of A1 and A2')\n",
    "plt.show()"
   ]
  }
 ],
 "metadata": {
  "kernelspec": {
   "display_name": "Python 3",
   "language": "python",
   "name": "python3"
  },
  "language_info": {
   "codemirror_mode": {
    "name": "ipython",
    "version": 3
   },
   "file_extension": ".py",
   "mimetype": "text/x-python",
   "name": "python",
   "nbconvert_exporter": "python",
   "pygments_lexer": "ipython3",
   "version": "3.8.5"
  }
 },
 "nbformat": 4,
 "nbformat_minor": 5
}
