{
 "cells": [
  {
   "cell_type": "markdown",
   "id": "c1af8ed6",
   "metadata": {},
   "source": [
    "Load the dataset from a CSV file into a DataFrame."
   ]
  },
  {
   "cell_type": "code",
   "execution_count": null,
   "id": "da3a6c7f",
   "metadata": {},
   "outputs": [],
   "source": [
    "import pandas as pd\n",
    "\n",
    "df = pd.read_csv('data.csv')"
   ]
  },
  {
   "cell_type": "markdown",
   "id": "72cf0038",
   "metadata": {},
   "source": [
    "Remove columns that are not needed for analysis."
   ]
  },
  {
   "cell_type": "code",
   "execution_count": null,
   "id": "8bd0c56e",
   "metadata": {},
   "outputs": [],
   "source": [
    "df = df.drop(columns=['unwanted_column1', 'unwanted_column2'])"
   ]
  },
  {
   "cell_type": "markdown",
   "id": "89f84a84",
   "metadata": {},
   "source": [
    "Check for null values in each column of the DataFrame."
   ]
  },
  {
   "cell_type": "code",
   "execution_count": null,
   "id": "3b3b15a8",
   "metadata": {},
   "outputs": [],
   "source": [
    "null_counts = df.isnull().sum()"
   ]
  },
  {
   "cell_type": "markdown",
   "id": "b2ce4b82",
   "metadata": {},
   "source": [
    "Remove rows where the 'revenue' column has missing values."
   ]
  },
  {
   "cell_type": "code",
   "execution_count": null,
   "id": "1c25bb22",
   "metadata": {},
   "outputs": [],
   "source": [
    "df = df.dropna(subset=['revenue'])"
   ]
  },
  {
   "cell_type": "markdown",
   "id": "a1c5bb41",
   "metadata": {},
   "source": [
    "Generate a statistical summary of the DataFrame."
   ]
  },
  {
   "cell_type": "code",
   "execution_count": null,
   "id": "82787c19",
   "metadata": {},
   "outputs": [],
   "source": [
    "summary = df.describe()"
   ]
  },
  {
   "cell_type": "markdown",
   "id": "681179b0",
   "metadata": {},
   "source": [
    "Define a function to analyze revenue and rating for a specified year."
   ]
  },
  {
   "cell_type": "code",
   "execution_count": null,
   "id": "de8be6c9",
   "metadata": {},
   "outputs": [],
   "source": [
    "def analyze_year(year):\n",
    "    return df[df['year'] == year][['revenue', 'rating']]"
   ]
  },
  {
   "cell_type": "markdown",
   "id": "5919364b",
   "metadata": {},
   "source": [
    "Analyze revenue and rating for the year 2015."
   ]
  },
  {
   "cell_type": "code",
   "execution_count": null,
   "id": "b4abe63f",
   "metadata": {},
   "outputs": [],
   "source": [
    "revenue_2015 = analyze_year(2015)"
   ]
  },
  {
   "cell_type": "markdown",
   "id": "19ab4f95",
   "metadata": {},
   "source": [
    "Analyze revenue and rating for the year 2016."
   ]
  },
  {
   "cell_type": "code",
   "execution_count": null,
   "id": "7502da1e",
   "metadata": {},
   "outputs": [],
   "source": [
    "revenue_2016 = analyze_year(2016)"
   ]
  }
 ],
 "metadata": {
  "kernelspec": {
   "display_name": "Python 3",
   "language": "python",
   "name": "python3"
  },
  "language_info": {
   "codemirror_mode": {
    "name": "ipython",
    "version": 3
   },
   "file_extension": ".py",
   "mimetype": "text/x-python",
   "name": "python",
   "nbconvert_exporter": "python",
   "pygments_lexer": "ipython3",
   "version": "3.8.5"
  }
 },
 "nbformat": 4,
 "nbformat_minor": 5
}
