{
 "cells": [
  {
   "cell_type": "markdown",
   "id": "6945e6bc",
   "metadata": {},
   "source": [
    "Read the dataset from a CSV file using pandas."
   ]
  },
  {
   "cell_type": "code",
   "execution_count": null,
   "id": "3736f28b",
   "metadata": {},
   "outputs": [],
   "source": [
    "import pandas as pd\n",
    "df = pd.read_csv('Salary_Data.csv')"
   ]
  },
  {
   "cell_type": "markdown",
   "id": "74d82d8c",
   "metadata": {},
   "source": [
    "Display the first few rows of the dataset to discover its structure."
   ]
  },
  {
   "cell_type": "code",
   "execution_count": null,
   "id": "c363b1a7",
   "metadata": {},
   "outputs": [],
   "source": [
    "df.head()"
   ]
  },
  {
   "cell_type": "markdown",
   "id": "ffa7dd2e",
   "metadata": {},
   "source": [
    "Get concise information about the dataset, including column types and non-null counts."
   ]
  },
  {
   "cell_type": "code",
   "execution_count": null,
   "id": "19bb4006",
   "metadata": {},
   "outputs": [],
   "source": [
    "df.info()"
   ]
  },
  {
   "cell_type": "markdown",
   "id": "1aff410b",
   "metadata": {},
   "source": [
    "Generate descriptive statistics for numerical columns in the dataset."
   ]
  },
  {
   "cell_type": "code",
   "execution_count": null,
   "id": "7e978469",
   "metadata": {},
   "outputs": [],
   "source": [
    "df.describe()"
   ]
  },
  {
   "cell_type": "markdown",
   "id": "66597204",
   "metadata": {},
   "source": [
    "Check for null values in the dataset by summing them for each column."
   ]
  },
  {
   "cell_type": "code",
   "execution_count": null,
   "id": "373bb36d",
   "metadata": {},
   "outputs": [],
   "source": [
    "df.isnull().sum()"
   ]
  },
  {
   "cell_type": "markdown",
   "id": "5af21d9a",
   "metadata": {},
   "source": [
    "Visualize the dataset using pair plots to explore relationships between variables."
   ]
  },
  {
   "cell_type": "code",
   "execution_count": null,
   "id": "8e5b1126",
   "metadata": {},
   "outputs": [],
   "source": [
    "import seaborn as sns\n",
    "import matplotlib.pyplot as plt\n",
    "sns.pairplot(df)\n",
    "plt.show()"
   ]
  },
  {
   "cell_type": "markdown",
   "id": "7ec10375",
   "metadata": {},
   "source": [
    "Create a correlation heatmap to visualize correlations between features."
   ]
  },
  {
   "cell_type": "code",
   "execution_count": null,
   "id": "632ce2b6",
   "metadata": {},
   "outputs": [],
   "source": [
    "sns.heatmap(df.corr(), annot=True)\n",
    "plt.show()"
   ]
  },
  {
   "cell_type": "markdown",
   "id": "f59f66ce",
   "metadata": {},
   "source": [
    "Split the dataset into training and testing sets."
   ]
  },
  {
   "cell_type": "code",
   "execution_count": null,
   "id": "885dbabc",
   "metadata": {},
   "outputs": [],
   "source": [
    "from sklearn.model_selection import train_test_split\n",
    "X = df[['YearsExperience']]\n",
    "y = df['Salary']\n",
    "X_train, X_test, y_train, y_test = train_test_split(X, y, test_size=0.2, random_state=42)"
   ]
  },
  {
   "cell_type": "markdown",
   "id": "885fe239",
   "metadata": {},
   "source": [
    "Fit a linear regression model using the training data."
   ]
  },
  {
   "cell_type": "code",
   "execution_count": null,
   "id": "3da4c32a",
   "metadata": {},
   "outputs": [],
   "source": [
    "from sklearn.linear_model import LinearRegression\n",
    "model = LinearRegression()\n",
    "model.fit(X_train, y_train)"
   ]
  },
  {
   "cell_type": "markdown",
   "id": "87627bca",
   "metadata": {},
   "source": [
    "Make predictions and evaluate the model using mean squared error."
   ]
  },
  {
   "cell_type": "code",
   "execution_count": null,
   "id": "5f8d54a7",
   "metadata": {},
   "outputs": [],
   "source": [
    "from sklearn.metrics import mean_squared_error\n",
    "y_pred = model.predict(X_test)\n",
    "mse = mean_squared_error(y_test, y_pred)"
   ]
  },
  {
   "cell_type": "markdown",
   "id": "21259d1c",
   "metadata": {},
   "source": [
    "Visualize the model predictions compared to the actual test data."
   ]
  },
  {
   "cell_type": "code",
   "execution_count": null,
   "id": "b07ec09e",
   "metadata": {},
   "outputs": [],
   "source": [
    "plt.scatter(X_test, y_test, color='blue')\n",
    "plt.plot(X_test, y_pred, color='red')\n",
    "plt.xlabel('Years Experience')\n",
    "plt.ylabel('Salary')\n",
    "plt.title('Test Data vs Predictions')\n",
    "plt.show()"
   ]
  },
  {
   "cell_type": "markdown",
   "id": "8878a08a",
   "metadata": {},
   "source": [
    "Experiment with a 50% train-test split ratio and fit the model."
   ]
  },
  {
   "cell_type": "code",
   "execution_count": null,
   "id": "41fa71b1",
   "metadata": {},
   "outputs": [],
   "source": [
    "X_train, X_test, y_train, y_test = train_test_split(X, y, test_size=0.5, random_state=42)\n",
    "model.fit(X_train, y_train)\n",
    "y_pred = model.predict(X_test)"
   ]
  },
  {
   "cell_type": "markdown",
   "id": "7d277472",
   "metadata": {},
   "source": [
    "Experiment with a 30% train-test split ratio and fit the model."
   ]
  },
  {
   "cell_type": "code",
   "execution_count": null,
   "id": "b0fb5294",
   "metadata": {},
   "outputs": [],
   "source": [
    "X_train, X_test, y_train, y_test = train_test_split(X, y, test_size=0.3, random_state=42)\n",
    "model.fit(X_train, y_train)\n",
    "y_pred = model.predict(X_test)"
   ]
  },
  {
   "cell_type": "markdown",
   "id": "4c75ac7a",
   "metadata": {},
   "source": [
    "Experiment with a 20% train-test split ratio and fit the model."
   ]
  },
  {
   "cell_type": "code",
   "execution_count": null,
   "id": "5b45ddcf",
   "metadata": {},
   "outputs": [],
   "source": [
    "X_train, X_test, y_train, y_test = train_test_split(X, y, test_size=0.2, random_state=42)\n",
    "model.fit(X_train, y_train)\n",
    "y_pred = model.predict(X_test)"
   ]
  }
 ],
 "metadata": {
  "kernelspec": {
   "display_name": "Python 3",
   "language": "python",
   "name": "python3"
  },
  "language_info": {
   "codemirror_mode": {
    "name": "ipython",
    "version": 3
   },
   "file_extension": ".py",
   "mimetype": "text/x-python",
   "name": "python",
   "nbconvert_exporter": "python",
   "pygments_lexer": "ipython3",
   "version": "3.8.5"
  }
 },
 "nbformat": 4,
 "nbformat_minor": 5
}
