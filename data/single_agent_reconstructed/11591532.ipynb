{
 "cells": [
  {
   "cell_type": "markdown",
   "id": "d470f535",
   "metadata": {},
   "source": [
    "Load an image from a specified path using the Pillow library."
   ]
  },
  {
   "cell_type": "code",
   "execution_count": null,
   "id": "ac313f8d",
   "metadata": {},
   "outputs": [],
   "source": [
    "from PIL import Image\n",
    "\n",
    "image = Image.open('path_to_image')"
   ]
  },
  {
   "cell_type": "markdown",
   "id": "b1bb8a7b",
   "metadata": {},
   "source": [
    "Preprocess the loaded image to prepare it for the model."
   ]
  },
  {
   "cell_type": "code",
   "execution_count": null,
   "id": "3ee5c285",
   "metadata": {},
   "outputs": [],
   "source": [
    "image = preprocess_image(image)"
   ]
  },
  {
   "cell_type": "markdown",
   "id": "01a13d54",
   "metadata": {},
   "source": [
    "Load the content and style images from their respective paths."
   ]
  },
  {
   "cell_type": "code",
   "execution_count": null,
   "id": "5ada4860",
   "metadata": {},
   "outputs": [],
   "source": [
    "content_image = Image.open('path_to_content_image')\n",
    "style_image = Image.open('path_to_style_image')"
   ]
  },
  {
   "cell_type": "markdown",
   "id": "70a162af",
   "metadata": {},
   "source": [
    "Display the loaded content and style images."
   ]
  },
  {
   "cell_type": "code",
   "execution_count": null,
   "id": "8c57b50d",
   "metadata": {},
   "outputs": [],
   "source": [
    "display(content_image)\n",
    "display(style_image)"
   ]
  },
  {
   "cell_type": "markdown",
   "id": "4228f6aa",
   "metadata": {},
   "source": [
    "Initialize the VGG19 model to extract features from images."
   ]
  },
  {
   "cell_type": "code",
   "execution_count": null,
   "id": "f121a573",
   "metadata": {},
   "outputs": [],
   "source": [
    "import torch\n",
    "from torchvision import models\n",
    "\n",
    "vgg = models.vgg19(pretrained=True).features.eval()"
   ]
  },
  {
   "cell_type": "markdown",
   "id": "4e615ede",
   "metadata": {},
   "source": [
    "Extract features from the content and style images using the VGG model."
   ]
  },
  {
   "cell_type": "code",
   "execution_count": null,
   "id": "a6091c18",
   "metadata": {},
   "outputs": [],
   "source": [
    "content_features = extract_features(content_image, vgg)\n",
    "style_features = extract_features(style_image, vgg)"
   ]
  },
  {
   "cell_type": "markdown",
   "id": "a917dc67",
   "metadata": {},
   "source": [
    "Compute the Gram matrix from the extracted style features."
   ]
  },
  {
   "cell_type": "code",
   "execution_count": null,
   "id": "d9203b85",
   "metadata": {},
   "outputs": [],
   "source": [
    "gram_matrix = compute_gram_matrix(style_features)"
   ]
  },
  {
   "cell_type": "markdown",
   "id": "6aae8dba",
   "metadata": {},
   "source": [
    "Set the weights for style and content in the optimization process."
   ]
  },
  {
   "cell_type": "code",
   "execution_count": null,
   "id": "a0e026f4",
   "metadata": {},
   "outputs": [],
   "source": [
    "style_weight = 1e6\n",
    "content_weight = 1\n",
    "weights = {'style': style_weight, 'content': content_weight}"
   ]
  },
  {
   "cell_type": "markdown",
   "id": "6f57a5cb",
   "metadata": {},
   "source": [
    "Optimize the target image to minimize the loss based on style and content."
   ]
  },
  {
   "cell_type": "code",
   "execution_count": null,
   "id": "5978028d",
   "metadata": {},
   "outputs": [],
   "source": [
    "target_image = optimize_image(content_image, style_image, weights)"
   ]
  },
  {
   "cell_type": "markdown",
   "id": "a9952169",
   "metadata": {},
   "source": [
    "Display the final optimized target image."
   ]
  },
  {
   "cell_type": "code",
   "execution_count": null,
   "id": "df911b9a",
   "metadata": {},
   "outputs": [],
   "source": [
    "display(target_image)"
   ]
  }
 ],
 "metadata": {
  "kernelspec": {
   "display_name": "Python 3",
   "language": "python",
   "name": "python3"
  },
  "language_info": {
   "codemirror_mode": {
    "name": "ipython",
    "version": 3
   },
   "file_extension": ".py",
   "mimetype": "text/x-python",
   "name": "python",
   "nbconvert_exporter": "python",
   "pygments_lexer": "ipython3",
   "version": "3.8.5"
  }
 },
 "nbformat": 4,
 "nbformat_minor": 5
}
