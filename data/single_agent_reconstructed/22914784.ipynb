{
 "cells": [
  {
   "cell_type": "markdown",
   "id": "ca71c8e5",
   "metadata": {},
   "source": [
    "Load the training and testing datasets from CSV files."
   ]
  },
  {
   "cell_type": "code",
   "execution_count": null,
   "id": "f0b55d41",
   "metadata": {},
   "outputs": [],
   "source": [
    "import pandas as pd\n",
    "train_data = pd.read_csv('train.csv')\n",
    "test_data = pd.read_csv('test.csv')"
   ]
  },
  {
   "cell_type": "markdown",
   "id": "72c4d842",
   "metadata": {},
   "source": [
    "Explore the data structure by checking column types and identifying NaN values."
   ]
  },
  {
   "cell_type": "code",
   "execution_count": null,
   "id": "7116e9b5",
   "metadata": {},
   "outputs": [],
   "source": [
    "train_data.info()\n",
    "test_data.info()"
   ]
  },
  {
   "cell_type": "markdown",
   "id": "9c50b8fa",
   "metadata": {},
   "source": [
    "Preprocess the data by removing any rows with missing values."
   ]
  },
  {
   "cell_type": "code",
   "execution_count": null,
   "id": "77fcd751",
   "metadata": {},
   "outputs": [],
   "source": [
    "train_data.dropna(inplace=True)"
   ]
  },
  {
   "cell_type": "markdown",
   "id": "43e775e2",
   "metadata": {},
   "source": [
    "Split the data into training and validation sets."
   ]
  },
  {
   "cell_type": "code",
   "execution_count": null,
   "id": "db085236",
   "metadata": {},
   "outputs": [],
   "source": [
    "from sklearn.model_selection import train_test_split\n",
    "X = train_data.drop('target', axis=1)\n",
    "y = train_data['target']\n",
    "X_train, X_val, y_train, y_val = train_test_split(X, y, test_size=0.2, random_state=42)"
   ]
  },
  {
   "cell_type": "markdown",
   "id": "3a07766f",
   "metadata": {},
   "source": [
    "Apply one-hot encoding to the categorical features."
   ]
  },
  {
   "cell_type": "code",
   "execution_count": null,
   "id": "669fd2c5",
   "metadata": {},
   "outputs": [],
   "source": [
    "X_encoded = pd.get_dummies(X_train)\n",
    "X_val_encoded = pd.get_dummies(X_val)"
   ]
  },
  {
   "cell_type": "markdown",
   "id": "c4c3a07d",
   "metadata": {},
   "source": [
    "Train the model using the XGBoost regressor."
   ]
  },
  {
   "cell_type": "code",
   "execution_count": null,
   "id": "0a75fba2",
   "metadata": {},
   "outputs": [],
   "source": [
    "from xgboost import XGBRegressor\n",
    "model = XGBRegressor()\n",
    "model.fit(X_encoded, y_train)"
   ]
  },
  {
   "cell_type": "markdown",
   "id": "c36a64d0",
   "metadata": {},
   "source": [
    "Evaluate the model's performance using the Mean Squared Error metric."
   ]
  },
  {
   "cell_type": "code",
   "execution_count": null,
   "id": "2105ad03",
   "metadata": {},
   "outputs": [],
   "source": [
    "from sklearn.metrics import mean_squared_error\n",
    "y_pred = model.predict(X_val_encoded)\n",
    "mse = mean_squared_error(y_val, y_pred)"
   ]
  },
  {
   "cell_type": "markdown",
   "id": "f581ce29",
   "metadata": {},
   "source": [
    "Make predictions on the test dataset."
   ]
  },
  {
   "cell_type": "code",
   "execution_count": null,
   "id": "f6f79477",
   "metadata": {},
   "outputs": [],
   "source": [
    "y_test_pred = model.predict(pd.get_dummies(test_data))"
   ]
  },
  {
   "cell_type": "markdown",
   "id": "03aeafb7",
   "metadata": {},
   "source": [
    "Export the predictions to a CSV file."
   ]
  },
  {
   "cell_type": "code",
   "execution_count": null,
   "id": "c3c7f16b",
   "metadata": {},
   "outputs": [],
   "source": [
    "submission = pd.DataFrame({'Id': test_data['Id'], 'Target': y_test_pred})\n",
    "submission.to_csv('submission.csv', index=False)"
   ]
  }
 ],
 "metadata": {
  "kernelspec": {
   "display_name": "Python 3",
   "language": "python",
   "name": "python3"
  },
  "language_info": {
   "codemirror_mode": {
    "name": "ipython",
    "version": 3
   },
   "file_extension": ".py",
   "mimetype": "text/x-python",
   "name": "python",
   "nbconvert_exporter": "python",
   "pygments_lexer": "ipython3",
   "version": "3.8.5"
  }
 },
 "nbformat": 4,
 "nbformat_minor": 5
}
