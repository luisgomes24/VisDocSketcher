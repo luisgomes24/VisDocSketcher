{
 "cells": [
  {
   "cell_type": "markdown",
   "id": "046bd2e7",
   "metadata": {},
   "source": [
    "Load the Delaney dataset from a CSV file using pandas."
   ]
  },
  {
   "cell_type": "code",
   "execution_count": null,
   "id": "1fbb7269",
   "metadata": {},
   "outputs": [],
   "source": [
    "import pandas as pd\n",
    "delaney_data = pd.read_csv('delaney.csv')"
   ]
  },
  {
   "cell_type": "markdown",
   "id": "b7586abc",
   "metadata": {},
   "source": [
    "Inspect the first few rows of the loaded dataset."
   ]
  },
  {
   "cell_type": "code",
   "execution_count": null,
   "id": "5157a34f",
   "metadata": {},
   "outputs": [],
   "source": [
    "print(delaney_data.head())"
   ]
  },
  {
   "cell_type": "markdown",
   "id": "d9e6ab51",
   "metadata": {},
   "source": [
    "Count the number of datasets (features) in the dataset."
   ]
  },
  {
   "cell_type": "code",
   "execution_count": null,
   "id": "aa666db8",
   "metadata": {},
   "outputs": [],
   "source": [
    "num_datasets = len(delaney_data.columns) - 1"
   ]
  },
  {
   "cell_type": "markdown",
   "id": "38aaf18e",
   "metadata": {},
   "source": [
    "Get an overview of dataset categories by counting occurrences."
   ]
  },
  {
   "cell_type": "code",
   "execution_count": null,
   "id": "4520f025",
   "metadata": {},
   "outputs": [],
   "source": [
    "categories = delaney_data['type'].value_counts()"
   ]
  },
  {
   "cell_type": "markdown",
   "id": "3f887107",
   "metadata": {},
   "source": [
    "Generate descriptive statistics to explain the data usage."
   ]
  },
  {
   "cell_type": "code",
   "execution_count": null,
   "id": "a1f47314",
   "metadata": {},
   "outputs": [],
   "source": [
    "usage_stats = delaney_data.describe()"
   ]
  },
  {
   "cell_type": "markdown",
   "id": "6112721d",
   "metadata": {},
   "source": [
    "Filter the dataset to load only the Delaney dataset."
   ]
  },
  {
   "cell_type": "code",
   "execution_count": null,
   "id": "ee1964b4",
   "metadata": {},
   "outputs": [],
   "source": [
    "delaney_data = delaney_data[delaney_data['type'] == 'delaney']"
   ]
  },
  {
   "cell_type": "markdown",
   "id": "e5d38081",
   "metadata": {},
   "source": [
    "Define the tasks to be performed on the dataset."
   ]
  },
  {
   "cell_type": "code",
   "execution_count": null,
   "id": "73ea419b",
   "metadata": {},
   "outputs": [],
   "source": [
    "tasks = {'task1': 'regression', 'task2': 'classification'}"
   ]
  },
  {
   "cell_type": "markdown",
   "id": "d7aa46df",
   "metadata": {},
   "source": [
    "Split the dataset into training and testing subsets."
   ]
  },
  {
   "cell_type": "code",
   "execution_count": null,
   "id": "5b9073b6",
   "metadata": {},
   "outputs": [],
   "source": [
    "from sklearn.model_selection import train_test_split\n",
    "train_data, test_data = train_test_split(delaney_data, test_size=0.2)"
   ]
  },
  {
   "cell_type": "markdown",
   "id": "11a9bdff",
   "metadata": {},
   "source": [
    "Examine samples from the training dataset for verification."
   ]
  },
  {
   "cell_type": "code",
   "execution_count": null,
   "id": "dea25e64",
   "metadata": {},
   "outputs": [],
   "source": [
    "print(train_data.head())"
   ]
  }
 ],
 "metadata": {
  "kernelspec": {
   "display_name": "Python 3",
   "language": "python",
   "name": "python3"
  },
  "language_info": {
   "codemirror_mode": {
    "name": "ipython",
    "version": 3
   },
   "file_extension": ".py",
   "mimetype": "text/x-python",
   "name": "python",
   "nbconvert_exporter": "python",
   "pygments_lexer": "ipython3",
   "version": "3.8.5"
  }
 },
 "nbformat": 4,
 "nbformat_minor": 5
}
