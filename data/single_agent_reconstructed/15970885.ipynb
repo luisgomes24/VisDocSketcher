{
 "cells": [
  {
   "cell_type": "markdown",
   "id": "90e87fa7",
   "metadata": {},
   "source": [
    "Load the dataset from a CSV file using pandas."
   ]
  },
  {
   "cell_type": "code",
   "execution_count": null,
   "id": "cac86be4",
   "metadata": {},
   "outputs": [],
   "source": [
    "import pandas as pd\n",
    "data = pd.read_csv('data.csv')"
   ]
  },
  {
   "cell_type": "markdown",
   "id": "91261873",
   "metadata": {},
   "source": [
    "Preprocess the data by handling missing values and dropping unnecessary columns."
   ]
  },
  {
   "cell_type": "code",
   "execution_count": null,
   "id": "6c3b11d3",
   "metadata": {},
   "outputs": [],
   "source": [
    "data.fillna(method='ffill', inplace=True)\n",
    "data.drop(['unnecessary_column'], axis=1, inplace=True)"
   ]
  },
  {
   "cell_type": "markdown",
   "id": "bebee969",
   "metadata": {},
   "source": [
    "Visualize the data with a scatter plot to observe relationships."
   ]
  },
  {
   "cell_type": "code",
   "execution_count": null,
   "id": "26935dc4",
   "metadata": {},
   "outputs": [],
   "source": [
    "import matplotlib.pyplot as plt\n",
    "plt.scatter(data['X'], data['Y'])\n",
    "plt.xlabel('X Axis')\n",
    "plt.ylabel('Y Axis')\n",
    "plt.title('Scatter Plot')\n",
    "plt.show()"
   ]
  },
  {
   "cell_type": "markdown",
   "id": "75481e4b",
   "metadata": {},
   "source": [
    "Split the data into training and testing sets for model training."
   ]
  },
  {
   "cell_type": "code",
   "execution_count": null,
   "id": "bbfa9bd4",
   "metadata": {},
   "outputs": [],
   "source": [
    "from sklearn.model_selection import train_test_split\n",
    "X_train, X_test, y_train, y_test = train_test_split(data[['X']], data['Y'], test_size=0.2)"
   ]
  },
  {
   "cell_type": "markdown",
   "id": "6588232c",
   "metadata": {},
   "source": [
    "Create and train a linear regression model on the training data."
   ]
  },
  {
   "cell_type": "code",
   "execution_count": null,
   "id": "443e1fc7",
   "metadata": {},
   "outputs": [],
   "source": [
    "from sklearn.linear_model import LinearRegression\n",
    "model = LinearRegression()\n",
    "model.fit(X_train, y_train)"
   ]
  },
  {
   "cell_type": "markdown",
   "id": "e18078c3",
   "metadata": {},
   "source": [
    "Evaluate the model performance using mean squared error on the test data."
   ]
  },
  {
   "cell_type": "code",
   "execution_count": null,
   "id": "2a0bf943",
   "metadata": {},
   "outputs": [],
   "source": [
    "predictions = model.predict(X_test)\n",
    "from sklearn.metrics import mean_squared_error\n",
    "mse = mean_squared_error(y_test, predictions)"
   ]
  }
 ],
 "metadata": {
  "kernelspec": {
   "display_name": "Python 3",
   "language": "python",
   "name": "python3"
  },
  "language_info": {
   "codemirror_mode": {
    "name": "ipython",
    "version": 3
   },
   "file_extension": ".py",
   "mimetype": "text/x-python",
   "name": "python",
   "nbconvert_exporter": "python",
   "pygments_lexer": "ipython3",
   "version": "3.8.5"
  }
 },
 "nbformat": 4,
 "nbformat_minor": 5
}
