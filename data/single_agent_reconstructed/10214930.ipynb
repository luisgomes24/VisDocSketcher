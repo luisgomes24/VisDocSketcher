{
 "cells": [
  {
   "cell_type": "markdown",
   "id": "49a71c7d",
   "metadata": {},
   "source": [
    "Load the dataset from a CSV file into a pandas DataFrame."
   ]
  },
  {
   "cell_type": "code",
   "execution_count": null,
   "id": "d9949cba",
   "metadata": {},
   "outputs": [],
   "source": [
    "import pandas as pd\n",
    "\n",
    "data = pd.read_csv('cars_dataset.csv')"
   ]
  },
  {
   "cell_type": "markdown",
   "id": "cf9d5e2f",
   "metadata": {},
   "source": [
    "Define a function to plot distribution graphs for each column."
   ]
  },
  {
   "cell_type": "code",
   "execution_count": null,
   "id": "75a4220a",
   "metadata": {},
   "outputs": [],
   "source": [
    "def plotPerColumnDistribution(df):\n",
    "    df.hist(bins=30, figsize=(10, 7))\n",
    "    plt.tight_layout()\n",
    "    plt.show()"
   ]
  },
  {
   "cell_type": "markdown",
   "id": "c2d44f44",
   "metadata": {},
   "source": [
    "Define a function to create a correlation matrix using seaborn."
   ]
  },
  {
   "cell_type": "code",
   "execution_count": null,
   "id": "659147f2",
   "metadata": {},
   "outputs": [],
   "source": [
    "def plotCorrelationMatrix(df):\n",
    "    import seaborn as sns\n",
    "    import matplotlib.pyplot as plt\n",
    "    correlation = df.corr()\n",
    "    sns.heatmap(correlation, annot=True)\n",
    "    plt.show()"
   ]
  },
  {
   "cell_type": "markdown",
   "id": "2c506874",
   "metadata": {},
   "source": [
    "Define a function to plot scatter and density plots using seaborn."
   ]
  },
  {
   "cell_type": "code",
   "execution_count": null,
   "id": "26c56ec5",
   "metadata": {},
   "outputs": [],
   "source": [
    "def plotScatterMatrix(df):\n",
    "    import seaborn as sns\n",
    "    import matplotlib.pyplot as plt\n",
    "    sns.pairplot(df)\n",
    "    plt.show()"
   ]
  },
  {
   "cell_type": "markdown",
   "id": "4d6d93e2",
   "metadata": {},
   "source": [
    "Call the plotting functions to visualize the data distribution and correlations."
   ]
  },
  {
   "cell_type": "code",
   "execution_count": null,
   "id": "aa6e21d0",
   "metadata": {},
   "outputs": [],
   "source": [
    "plotPerColumnDistribution(data)\n",
    "plotCorrelationMatrix(data)\n",
    "plotScatterMatrix(data)"
   ]
  },
  {
   "cell_type": "markdown",
   "id": "1bb49414",
   "metadata": {},
   "source": [
    "Print the conclusion acknowledging the completion of data visualization."
   ]
  },
  {
   "cell_type": "code",
   "execution_count": null,
   "id": "048adffa",
   "metadata": {},
   "outputs": [],
   "source": [
    "print('Conclusion: Visual analysis is complete, and insights have been gained.')"
   ]
  }
 ],
 "metadata": {
  "kernelspec": {
   "display_name": "Python 3",
   "language": "python",
   "name": "python3"
  },
  "language_info": {
   "codemirror_mode": {
    "name": "ipython",
    "version": 3
   },
   "file_extension": ".py",
   "mimetype": "text/x-python",
   "name": "python",
   "nbconvert_exporter": "python",
   "pygments_lexer": "ipython3",
   "version": "3.8.5"
  }
 },
 "nbformat": 4,
 "nbformat_minor": 5
}
