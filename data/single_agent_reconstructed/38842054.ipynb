{
 "cells": [
  {
   "cell_type": "markdown",
   "id": "d204390f",
   "metadata": {},
   "source": [
    "Load data from a CSV file using pandas."
   ]
  },
  {
   "cell_type": "code",
   "execution_count": null,
   "id": "22b33a2e",
   "metadata": {},
   "outputs": [],
   "source": [
    "import pandas as pd\n",
    "data = pd.read_csv('data.csv')"
   ]
  },
  {
   "cell_type": "markdown",
   "id": "fb41264d",
   "metadata": {},
   "source": [
    "Process the data by removing any missing values."
   ]
  },
  {
   "cell_type": "code",
   "execution_count": null,
   "id": "d2c2c5b8",
   "metadata": {},
   "outputs": [],
   "source": [
    "def process_data(data): return data.dropna()"
   ]
  },
  {
   "cell_type": "markdown",
   "id": "34f70af0",
   "metadata": {},
   "source": [
    "Create a character index mapping characters to unique indices."
   ]
  },
  {
   "cell_type": "code",
   "execution_count": null,
   "id": "c3e33556",
   "metadata": {},
   "outputs": [],
   "source": [
    "character_index = {char: idx for idx, char in enumerate(set(data['text'].str.cat()))}"
   ]
  },
  {
   "cell_type": "markdown",
   "id": "5fd30614",
   "metadata": {},
   "source": [
    "Convert text data into sequences of character indices."
   ]
  },
  {
   "cell_type": "code",
   "execution_count": null,
   "id": "713420a7",
   "metadata": {},
   "outputs": [],
   "source": [
    "sequences = data['text'].apply(lambda x: [character_index[char] for char in x])"
   ]
  },
  {
   "cell_type": "markdown",
   "id": "bbf41439",
   "metadata": {},
   "source": [
    "Extract labels into a list."
   ]
  },
  {
   "cell_type": "code",
   "execution_count": null,
   "id": "0c7ab3f4",
   "metadata": {},
   "outputs": [],
   "source": [
    "labels = data['label'].tolist()"
   ]
  },
  {
   "cell_type": "markdown",
   "id": "bad7c372",
   "metadata": {},
   "source": [
    "Create start and length lists from the sequences."
   ]
  },
  {
   "cell_type": "code",
   "execution_count": null,
   "id": "e58868c7",
   "metadata": {},
   "outputs": [],
   "source": [
    "start_lengths = [(len(seq), seq[0]) for seq in sequences]"
   ]
  },
  {
   "cell_type": "markdown",
   "id": "fc0fdc60",
   "metadata": {},
   "source": [
    "Save the processed data as a dictionary."
   ]
  },
  {
   "cell_type": "code",
   "execution_count": null,
   "id": "c2cc73d2",
   "metadata": {},
   "outputs": [],
   "source": [
    "processed_data = {'sequences': sequences, 'labels': labels}"
   ]
  },
  {
   "cell_type": "markdown",
   "id": "6cd33f66",
   "metadata": {},
   "source": [
    "Prepare data for numpy by converting sequences into a numpy array."
   ]
  },
  {
   "cell_type": "code",
   "execution_count": null,
   "id": "12c55c4e",
   "metadata": {},
   "outputs": [],
   "source": [
    "import numpy as np\n",
    "numpy_data = np.array(processed_data['sequences'])"
   ]
  },
  {
   "cell_type": "markdown",
   "id": "4cbc6cbf",
   "metadata": {},
   "source": [
    "Save the numpy array to a file."
   ]
  },
  {
   "cell_type": "code",
   "execution_count": null,
   "id": "8dbccf85",
   "metadata": {},
   "outputs": [],
   "source": [
    "np.save('numpy_data.npy', numpy_data)"
   ]
  }
 ],
 "metadata": {
  "kernelspec": {
   "display_name": "Python 3",
   "language": "python",
   "name": "python3"
  },
  "language_info": {
   "codemirror_mode": {
    "name": "ipython",
    "version": 3
   },
   "file_extension": ".py",
   "mimetype": "text/x-python",
   "name": "python",
   "nbconvert_exporter": "python",
   "pygments_lexer": "ipython3",
   "version": "3.8.5"
  }
 },
 "nbformat": 4,
 "nbformat_minor": 5
}
