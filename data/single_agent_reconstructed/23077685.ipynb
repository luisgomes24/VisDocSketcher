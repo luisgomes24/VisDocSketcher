{
 "cells": [
  {
   "cell_type": "markdown",
   "id": "c3c90479",
   "metadata": {},
   "source": [
    "Load the dataset from a CSV file into a DataFrame."
   ]
  },
  {
   "cell_type": "code",
   "execution_count": null,
   "id": "fa27f9fb",
   "metadata": {},
   "outputs": [],
   "source": [
    "import pandas as pd\n",
    "\n",
    "df = pd.read_csv('./input/bmidataset/bmi.csv')"
   ]
  },
  {
   "cell_type": "markdown",
   "id": "9ebf7db9",
   "metadata": {},
   "source": [
    "Display the first few rows and a statistical summary of the dataset."
   ]
  },
  {
   "cell_type": "code",
   "execution_count": null,
   "id": "62ea4cdb",
   "metadata": {},
   "outputs": [],
   "source": [
    "df.head(), df.describe()"
   ]
  },
  {
   "cell_type": "markdown",
   "id": "0a10decb",
   "metadata": {},
   "source": [
    "Calculate the correlation matrix to assess relationships between variables."
   ]
  },
  {
   "cell_type": "code",
   "execution_count": null,
   "id": "b1a8142e",
   "metadata": {},
   "outputs": [],
   "source": [
    "df.corr()"
   ]
  },
  {
   "cell_type": "markdown",
   "id": "96560648",
   "metadata": {},
   "source": [
    "Create a boxplot to examine the distribution of BMI across different indices."
   ]
  },
  {
   "cell_type": "code",
   "execution_count": null,
   "id": "b450411d",
   "metadata": {},
   "outputs": [],
   "source": [
    "import seaborn as sns\n",
    "import matplotlib.pyplot as plt\n",
    "sns.boxplot(x='Index', y='BMI', data=df)\n",
    "plt.show()"
   ]
  },
  {
   "cell_type": "markdown",
   "id": "1ce0aaa8",
   "metadata": {},
   "source": [
    "Calculate the average height for each index."
   ]
  },
  {
   "cell_type": "code",
   "execution_count": null,
   "id": "1290c0a2",
   "metadata": {},
   "outputs": [],
   "source": [
    "avg_height = df.groupby('Index')['Height'].mean()"
   ]
  },
  {
   "cell_type": "markdown",
   "id": "f3e13ff9",
   "metadata": {},
   "source": [
    "Calculate the average weight for each index."
   ]
  },
  {
   "cell_type": "code",
   "execution_count": null,
   "id": "e8bf44d6",
   "metadata": {},
   "outputs": [],
   "source": [
    "avg_weight = df.groupby('Index')['Weight'].mean()"
   ]
  },
  {
   "cell_type": "markdown",
   "id": "f6858f7d",
   "metadata": {},
   "source": [
    "Plot histograms for all numeric variables in the dataset."
   ]
  },
  {
   "cell_type": "code",
   "execution_count": null,
   "id": "3a93ed56",
   "metadata": {},
   "outputs": [],
   "source": [
    "df.hist()"
   ]
  },
  {
   "cell_type": "markdown",
   "id": "1a3fc013",
   "metadata": {},
   "source": [
    "Generate a profile report for a comprehensive overview of the dataset."
   ]
  },
  {
   "cell_type": "code",
   "execution_count": null,
   "id": "17aee4ea",
   "metadata": {},
   "outputs": [],
   "source": [
    "from pandas_profiling import ProfileReport\n",
    "profile = ProfileReport(df)\n",
    "profile.to_notebook_iframe()"
   ]
  },
  {
   "cell_type": "markdown",
   "id": "6ea6bb5d",
   "metadata": {},
   "source": [
    "Split the dataset into training and testing sets."
   ]
  },
  {
   "cell_type": "code",
   "execution_count": null,
   "id": "8a5f949f",
   "metadata": {},
   "outputs": [],
   "source": [
    "from sklearn.model_selection import train_test_split\n",
    "X = df.drop('target', axis=1)\n",
    "y = df['target']\n",
    "X_train, X_test, y_train, y_test = train_test_split(X, y, test_size=0.2, random_state=42)"
   ]
  },
  {
   "cell_type": "markdown",
   "id": "885bf78d",
   "metadata": {},
   "source": [
    "Initialize the Quadratic Discriminant Analysis classifier."
   ]
  },
  {
   "cell_type": "code",
   "execution_count": null,
   "id": "82a3120b",
   "metadata": {},
   "outputs": [],
   "source": [
    "from sklearn.qda import QuadraticDiscriminantAnalysis\n",
    "qda = QuadraticDiscriminantAnalysis()"
   ]
  },
  {
   "cell_type": "markdown",
   "id": "cf62ea7e",
   "metadata": {},
   "source": [
    "Train the classifier using the training data."
   ]
  },
  {
   "cell_type": "code",
   "execution_count": null,
   "id": "683f540e",
   "metadata": {},
   "outputs": [],
   "source": [
    "qda.fit(X_train, y_train)"
   ]
  },
  {
   "cell_type": "markdown",
   "id": "9e973c60",
   "metadata": {},
   "source": [
    "Evaluate the model by calculating the accuracy score."
   ]
  },
  {
   "cell_type": "code",
   "execution_count": null,
   "id": "28893f83",
   "metadata": {},
   "outputs": [],
   "source": [
    "accuracy = qda.score(X_test, y_test)"
   ]
  },
  {
   "cell_type": "markdown",
   "id": "4656587b",
   "metadata": {},
   "source": [
    "Generate the confusion matrix to visualize the model's performance."
   ]
  },
  {
   "cell_type": "code",
   "execution_count": null,
   "id": "56e94c4f",
   "metadata": {},
   "outputs": [],
   "source": [
    "from sklearn.metrics import confusion_matrix\n",
    "cm = confusion_matrix(y_test, qda.predict(X_test))"
   ]
  },
  {
   "cell_type": "markdown",
   "id": "dbf2b47d",
   "metadata": {},
   "source": [
    "Create a classification report detailing precision, recall, and F1 scores."
   ]
  },
  {
   "cell_type": "code",
   "execution_count": null,
   "id": "99a2be4d",
   "metadata": {},
   "outputs": [],
   "source": [
    "from sklearn.metrics import classification_report\n",
    "report = classification_report(y_test, qda.predict(X_test))"
   ]
  },
  {
   "cell_type": "markdown",
   "id": "938c4b48",
   "metadata": {},
   "source": [
    "Save the trained model to a file for future use."
   ]
  },
  {
   "cell_type": "code",
   "execution_count": null,
   "id": "cc55c0cc",
   "metadata": {},
   "outputs": [],
   "source": [
    "import pickle\n",
    "pickle.dump(qda, open('quadratic_discriminant_analysis.pkl', 'wb'))"
   ]
  }
 ],
 "metadata": {
  "kernelspec": {
   "display_name": "Python 3",
   "language": "python",
   "name": "python3"
  },
  "language_info": {
   "codemirror_mode": {
    "name": "ipython",
    "version": 3
   },
   "file_extension": ".py",
   "mimetype": "text/x-python",
   "name": "python",
   "nbconvert_exporter": "python",
   "pygments_lexer": "ipython3",
   "version": "3.8.5"
  }
 },
 "nbformat": 4,
 "nbformat_minor": 5
}
