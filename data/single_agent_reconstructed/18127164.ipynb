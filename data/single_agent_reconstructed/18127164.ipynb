{
 "cells": [
  {
   "cell_type": "markdown",
   "id": "48f07cc2",
   "metadata": {},
   "source": [
    "Load train and test datasets using pandas."
   ]
  },
  {
   "cell_type": "code",
   "execution_count": null,
   "id": "0e59b08d",
   "metadata": {},
   "outputs": [],
   "source": [
    "import pandas as pd\n",
    "train_data = pd.read_csv('train.csv')\n",
    "test_data = pd.read_csv('test.csv')"
   ]
  },
  {
   "cell_type": "markdown",
   "id": "01ed21c2",
   "metadata": {},
   "source": [
    "Check the info and describe the datasets to understand their structure."
   ]
  },
  {
   "cell_type": "code",
   "execution_count": null,
   "id": "1bb4f079",
   "metadata": {},
   "outputs": [],
   "source": [
    "print(train_data.info())\n",
    "print(train_data.describe())"
   ]
  },
  {
   "cell_type": "markdown",
   "id": "b8afadc5",
   "metadata": {},
   "source": [
    "Handle missing values by forward filling."
   ]
  },
  {
   "cell_type": "code",
   "execution_count": null,
   "id": "2ab9700d",
   "metadata": {},
   "outputs": [],
   "source": [
    "train_data.fillna(method='ffill', inplace=True)\n",
    "test_data.fillna(method='ffill', inplace=True)"
   ]
  },
  {
   "cell_type": "markdown",
   "id": "626a22f1",
   "metadata": {},
   "source": [
    "Create various plots for insights using seaborn."
   ]
  },
  {
   "cell_type": "code",
   "execution_count": null,
   "id": "c105a072",
   "metadata": {},
   "outputs": [],
   "source": [
    "import matplotlib.pyplot as plt\n",
    "import seaborn as sns\n",
    "sns.pairplot(train_data)\n",
    "plt.show()"
   ]
  },
  {
   "cell_type": "markdown",
   "id": "63a61f28",
   "metadata": {},
   "source": [
    "Train a logistic regression model."
   ]
  },
  {
   "cell_type": "code",
   "execution_count": null,
   "id": "839f7f2c",
   "metadata": {},
   "outputs": [],
   "source": [
    "from sklearn.linear_model import LogisticRegression\n",
    "model = LogisticRegression()\n",
    "model.fit(train_data[['feature1', 'feature2']], train_data['target'])"
   ]
  },
  {
   "cell_type": "markdown",
   "id": "9af6139f",
   "metadata": {},
   "source": [
    "Evaluate model accuracy on the test dataset."
   ]
  },
  {
   "cell_type": "code",
   "execution_count": null,
   "id": "6008fd92",
   "metadata": {},
   "outputs": [],
   "source": [
    "accuracy = model.score(test_data[['feature1', 'feature2']], test_data['target'])\n",
    "print(f'Accuracy: {accuracy}')"
   ]
  },
  {
   "cell_type": "markdown",
   "id": "d104f6d0",
   "metadata": {},
   "source": [
    "Predict on the test data using the trained model."
   ]
  },
  {
   "cell_type": "code",
   "execution_count": null,
   "id": "98ac8d05",
   "metadata": {},
   "outputs": [],
   "source": [
    "predictions = model.predict(test_data[['feature1', 'feature2']])"
   ]
  },
  {
   "cell_type": "markdown",
   "id": "7457c233",
   "metadata": {},
   "source": [
    "Export the trained model using pickle."
   ]
  },
  {
   "cell_type": "code",
   "execution_count": null,
   "id": "a8c1c3bf",
   "metadata": {},
   "outputs": [],
   "source": [
    "import pickle\n",
    "with open('model.pkl', 'wb') as file:\n",
    "    pickle.dump(model, file)"
   ]
  },
  {
   "cell_type": "markdown",
   "id": "9247e3f7",
   "metadata": {},
   "source": [
    "Deploy model by loading it using joblib."
   ]
  },
  {
   "cell_type": "code",
   "execution_count": null,
   "id": "eb44f4a8",
   "metadata": {},
   "outputs": [],
   "source": [
    "import joblib\n",
    "joblib.load('model.pkl')"
   ]
  }
 ],
 "metadata": {
  "kernelspec": {
   "display_name": "Python 3",
   "language": "python",
   "name": "python3"
  },
  "language_info": {
   "codemirror_mode": {
    "name": "ipython",
    "version": 3
   },
   "file_extension": ".py",
   "mimetype": "text/x-python",
   "name": "python",
   "nbconvert_exporter": "python",
   "pygments_lexer": "ipython3",
   "version": "3.8.5"
  }
 },
 "nbformat": 4,
 "nbformat_minor": 5
}
