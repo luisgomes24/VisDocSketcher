{
 "cells": [
  {
   "cell_type": "markdown",
   "id": "3a83a790",
   "metadata": {},
   "source": [
    "Load the NFL and San Francisco permits data from CSV files."
   ]
  },
  {
   "cell_type": "code",
   "execution_count": null,
   "id": "b62d1e1e",
   "metadata": {},
   "outputs": [],
   "source": [
    "import pandas as pd\n",
    "nfl_data = pd.read_csv('nfl_data.csv')\n",
    "sf_permits = pd.read_csv('sf_permits.csv')"
   ]
  },
  {
   "cell_type": "markdown",
   "id": "da2714a8",
   "metadata": {},
   "source": [
    "Take a first look at the data by displaying the first few rows."
   ]
  },
  {
   "cell_type": "code",
   "execution_count": null,
   "id": "d0657e72",
   "metadata": {},
   "outputs": [],
   "source": [
    "print(nfl_data.head())\n",
    "print(sf_permits.head())"
   ]
  },
  {
   "cell_type": "markdown",
   "id": "bce4d60b",
   "metadata": {},
   "source": [
    "Check for missing values in both datasets."
   ]
  },
  {
   "cell_type": "code",
   "execution_count": null,
   "id": "4b4ad24d",
   "metadata": {},
   "outputs": [],
   "source": [
    "missing_data_nfl = nfl_data.isnull().sum()\n",
    "missing_data_sf = sf_permits.isnull().sum()"
   ]
  },
  {
   "cell_type": "markdown",
   "id": "cd898e41",
   "metadata": {},
   "source": [
    "Analyze missing data visually using a bar chart for NFL dataset."
   ]
  },
  {
   "cell_type": "code",
   "execution_count": null,
   "id": "098893fe",
   "metadata": {},
   "outputs": [],
   "source": [
    "import matplotlib.pyplot as plt\n",
    "missing_data_nfl.plot(kind='bar')\n",
    "plt.title('Missing Values in NFL Data')\n",
    "plt.show()"
   ]
  },
  {
   "cell_type": "markdown",
   "id": "11faa52a",
   "metadata": {},
   "source": [
    "Figure out why data is missing by assessing the average missing values."
   ]
  },
  {
   "cell_type": "code",
   "execution_count": null,
   "id": "6332acb3",
   "metadata": {},
   "outputs": [],
   "source": [
    "missing_reason_nfl = nfl_data.isnull().sum(axis=1).mean()\n",
    "missing_reason_sf = sf_permits.isnull().sum(axis=1).mean()"
   ]
  },
  {
   "cell_type": "markdown",
   "id": "a72bd92a",
   "metadata": {},
   "source": [
    "Drop rows with missing values from both datasets."
   ]
  },
  {
   "cell_type": "code",
   "execution_count": null,
   "id": "1e6ebf47",
   "metadata": {},
   "outputs": [],
   "source": [
    "nfl_data_dropped = nfl_data.dropna()\n",
    "sf_permits_dropped = sf_permits.dropna()"
   ]
  },
  {
   "cell_type": "markdown",
   "id": "45bb0faa",
   "metadata": {},
   "source": [
    "Evaluate data loss after dropping missing values."
   ]
  },
  {
   "cell_type": "code",
   "execution_count": null,
   "id": "e83c423b",
   "metadata": {},
   "outputs": [],
   "source": [
    "data_loss_nfl = 1 - len(nfl_data_dropped) / len(nfl_data)\n",
    "data_loss_sf = 1 - len(sf_permits_dropped) / len(sf_permits)"
   ]
  },
  {
   "cell_type": "markdown",
   "id": "2504da73",
   "metadata": {},
   "source": [
    "Fill missing values with the mean of each column."
   ]
  },
  {
   "cell_type": "code",
   "execution_count": null,
   "id": "d4b14d44",
   "metadata": {},
   "outputs": [],
   "source": [
    "nfl_data_filled = nfl_data.fillna(nfl_data.mean())\n",
    "sf_permits_filled = sf_permits.fillna(sf_permits.mean())"
   ]
  },
  {
   "cell_type": "markdown",
   "id": "8e016ad9",
   "metadata": {},
   "source": [
    "Apply imputation techniques to handle missing values using sklearn."
   ]
  },
  {
   "cell_type": "code",
   "execution_count": null,
   "id": "6e14be9e",
   "metadata": {},
   "outputs": [],
   "source": [
    "from sklearn.impute import SimpleImputer\n",
    "imputer = SimpleImputer(strategy='mean')\n",
    "nfl_data_imputed = imputer.fit_transform(nfl_data)\n",
    "sf_permits_imputed = imputer.fit_transform(sf_permits)"
   ]
  },
  {
   "cell_type": "markdown",
   "id": "f0efa73a",
   "metadata": {},
   "source": [
    "Review the datasets after applying imputation techniques."
   ]
  },
  {
   "cell_type": "code",
   "execution_count": null,
   "id": "592cf42f",
   "metadata": {},
   "outputs": [],
   "source": [
    "print(nfl_data_imputed) \n",
    "print(sf_permits_imputed)"
   ]
  }
 ],
 "metadata": {
  "kernelspec": {
   "display_name": "Python 3",
   "language": "python",
   "name": "python3"
  },
  "language_info": {
   "codemirror_mode": {
    "name": "ipython",
    "version": 3
   },
   "file_extension": ".py",
   "mimetype": "text/x-python",
   "name": "python",
   "nbconvert_exporter": "python",
   "pygments_lexer": "ipython3",
   "version": "3.8.5"
  }
 },
 "nbformat": 4,
 "nbformat_minor": 5
}
