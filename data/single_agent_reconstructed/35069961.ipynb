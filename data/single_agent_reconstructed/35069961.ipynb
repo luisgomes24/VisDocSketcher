{
 "cells": [
  {
   "cell_type": "markdown",
   "id": "0775f1cc",
   "metadata": {},
   "source": [
    "Load data from a CSV file using Pandas."
   ]
  },
  {
   "cell_type": "code",
   "execution_count": null,
   "id": "d5c857b6",
   "metadata": {},
   "outputs": [],
   "source": [
    "import pandas as pd\n",
    "\n",
    "df = pd.read_csv('data.csv')"
   ]
  },
  {
   "cell_type": "markdown",
   "id": "dc555237",
   "metadata": {},
   "source": [
    "Explore the first few rows of the dataset."
   ]
  },
  {
   "cell_type": "code",
   "execution_count": null,
   "id": "5984b63f",
   "metadata": {},
   "outputs": [],
   "source": [
    "df.head()"
   ]
  },
  {
   "cell_type": "markdown",
   "id": "4d290a53",
   "metadata": {},
   "source": [
    "Drop the ID column from the dataframe."
   ]
  },
  {
   "cell_type": "code",
   "execution_count": null,
   "id": "60cbbd66",
   "metadata": {},
   "outputs": [],
   "source": [
    "df = df.drop(columns=['ID'])"
   ]
  },
  {
   "cell_type": "markdown",
   "id": "bd6542f4",
   "metadata": {},
   "source": [
    "Display information about the dataframe including data types."
   ]
  },
  {
   "cell_type": "code",
   "execution_count": null,
   "id": "815578dc",
   "metadata": {},
   "outputs": [],
   "source": [
    "print(df.info())"
   ]
  },
  {
   "cell_type": "markdown",
   "id": "8f07e7f6",
   "metadata": {},
   "source": [
    "Preprocess 'Levy' by filling missing values with the mean."
   ]
  },
  {
   "cell_type": "code",
   "execution_count": null,
   "id": "d4eb2891",
   "metadata": {},
   "outputs": [],
   "source": [
    "df['Levy'] = df['Levy'].fillna(df['Levy'].mean())"
   ]
  },
  {
   "cell_type": "markdown",
   "id": "98e4c2f3",
   "metadata": {},
   "source": [
    "Convert 'Leather Interior' column to categorical type."
   ]
  },
  {
   "cell_type": "code",
   "execution_count": null,
   "id": "c2997e7d",
   "metadata": {},
   "outputs": [],
   "source": [
    "df['Leather_Interior'] = df['Leather_Interior'].astype('category')"
   ]
  },
  {
   "cell_type": "markdown",
   "id": "02e9f876",
   "metadata": {},
   "source": [
    "Preprocess 'Mileage' by filling missing values with the mean."
   ]
  },
  {
   "cell_type": "code",
   "execution_count": null,
   "id": "7bc9b332",
   "metadata": {},
   "outputs": [],
   "source": [
    "df['Mileage'] = df['Mileage'].fillna(df['Mileage'].mean())"
   ]
  },
  {
   "cell_type": "markdown",
   "id": "fddf3882",
   "metadata": {},
   "source": [
    "Replace zeros in 'Engine Volume' with the median."
   ]
  },
  {
   "cell_type": "code",
   "execution_count": null,
   "id": "fe0a85f6",
   "metadata": {},
   "outputs": [],
   "source": [
    "df['Engine_Volume'] = df['Engine_Volume'].replace(0, df['Engine_Volume'].median())"
   ]
  },
  {
   "cell_type": "markdown",
   "id": "74ab796f",
   "metadata": {},
   "source": [
    "Visualize relationships between features using a pairplot."
   ]
  },
  {
   "cell_type": "code",
   "execution_count": null,
   "id": "cd6a3979",
   "metadata": {},
   "outputs": [],
   "source": [
    "import matplotlib.pyplot as plt\n",
    "import seaborn as sns\n",
    "\n",
    "sns.pairplot(df)\n",
    "plt.show()"
   ]
  },
  {
   "cell_type": "markdown",
   "id": "fedb0d03",
   "metadata": {},
   "source": [
    "Prepare data for modeling by splitting into train and test sets."
   ]
  },
  {
   "cell_type": "code",
   "execution_count": null,
   "id": "c09d0892",
   "metadata": {},
   "outputs": [],
   "source": [
    "from sklearn.model_selection import train_test_split\n",
    "X = df.drop('Target', axis=1)\n",
    "y = df['Target']\n",
    "X_train, X_test, y_train, y_test = train_test_split(X, y, test_size=0.2, random_state=42)"
   ]
  },
  {
   "cell_type": "markdown",
   "id": "08625435",
   "metadata": {},
   "source": [
    "Scale the features using StandardScaler."
   ]
  },
  {
   "cell_type": "code",
   "execution_count": null,
   "id": "5a3d9aeb",
   "metadata": {},
   "outputs": [],
   "source": [
    "from sklearn.preprocessing import StandardScaler\n",
    "scaler = StandardScaler()\n",
    "X_train = scaler.fit_transform(X_train)\n",
    "X_test = scaler.transform(X_test)"
   ]
  },
  {
   "cell_type": "markdown",
   "id": "9a1872c2",
   "metadata": {},
   "source": [
    "Train a Random Forest model on the training data."
   ]
  },
  {
   "cell_type": "code",
   "execution_count": null,
   "id": "460e906d",
   "metadata": {},
   "outputs": [],
   "source": [
    "from sklearn.ensemble import RandomForestRegressor\n",
    "model = RandomForestRegressor()\n",
    "model.fit(X_train, y_train)"
   ]
  },
  {
   "cell_type": "markdown",
   "id": "fc831b18",
   "metadata": {},
   "source": [
    "Evaluate the model using Mean Squared Error."
   ]
  },
  {
   "cell_type": "code",
   "execution_count": null,
   "id": "0b8fd9d1",
   "metadata": {},
   "outputs": [],
   "source": [
    "from sklearn.metrics import mean_squared_error\n",
    "predictions = model.predict(X_test)\n",
    "mse = mean_squared_error(y_test, predictions)\n",
    "print('Mean Squared Error:', mse)"
   ]
  }
 ],
 "metadata": {
  "kernelspec": {
   "display_name": "Python 3",
   "language": "python",
   "name": "python3"
  },
  "language_info": {
   "codemirror_mode": {
    "name": "ipython",
    "version": 3
   },
   "file_extension": ".py",
   "mimetype": "text/x-python",
   "name": "python",
   "nbconvert_exporter": "python",
   "pygments_lexer": "ipython3",
   "version": "3.8.5"
  }
 },
 "nbformat": 4,
 "nbformat_minor": 5
}
