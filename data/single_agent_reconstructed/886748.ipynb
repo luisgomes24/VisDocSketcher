{
 "cells": [
  {
   "cell_type": "markdown",
   "id": "70019900",
   "metadata": {},
   "source": [
    "Create the first DataFrame with sample data."
   ]
  },
  {
   "cell_type": "code",
   "execution_count": null,
   "id": "dc6e823d",
   "metadata": {},
   "outputs": [],
   "source": [
    "import pandas as pd\n",
    "\n",
    "dataframe1 = pd.DataFrame({'Column1': [1, 2, 3], 'Column2': [4, 5, 6]})"
   ]
  },
  {
   "cell_type": "markdown",
   "id": "470beeb7",
   "metadata": {},
   "source": [
    "Create the second DataFrame with different sample data."
   ]
  },
  {
   "cell_type": "code",
   "execution_count": null,
   "id": "1ff155f0",
   "metadata": {},
   "outputs": [],
   "source": [
    "dataframe2 = pd.DataFrame({'ColumnA': [7, 8, 9], 'ColumnB': [10, 11, 12]})"
   ]
  },
  {
   "cell_type": "markdown",
   "id": "0868a734",
   "metadata": {},
   "source": [
    "Create a Pandas Series for analysis."
   ]
  },
  {
   "cell_type": "code",
   "execution_count": null,
   "id": "440ced51",
   "metadata": {},
   "outputs": [],
   "source": [
    "series = pd.Series([1, 2, 3, 4])"
   ]
  },
  {
   "cell_type": "markdown",
   "id": "01789c8f",
   "metadata": {},
   "source": [
    "Load data from a CSV file."
   ]
  },
  {
   "cell_type": "code",
   "execution_count": null,
   "id": "59c1f7dc",
   "metadata": {},
   "outputs": [],
   "source": [
    "df_csv = pd.read_csv('data.csv')"
   ]
  },
  {
   "cell_type": "markdown",
   "id": "87441cdf",
   "metadata": {},
   "source": [
    "Load data from an Excel file."
   ]
  },
  {
   "cell_type": "code",
   "execution_count": null,
   "id": "9df561c7",
   "metadata": {},
   "outputs": [],
   "source": [
    "df_xls = pd.read_excel('data.xlsx')"
   ]
  },
  {
   "cell_type": "markdown",
   "id": "00e772cd",
   "metadata": {},
   "source": [
    "Create a DataFrame specifically for Exercise 6."
   ]
  },
  {
   "cell_type": "code",
   "execution_count": null,
   "id": "6448445e",
   "metadata": {},
   "outputs": [],
   "source": [
    "exercise6_df = pd.DataFrame({'Exercise': ['A', 'B'], 'Value': [1, 2]})"
   ]
  },
  {
   "cell_type": "markdown",
   "id": "bc0ad933",
   "metadata": {},
   "source": [
    "Save the DataFrame to a CSV file."
   ]
  },
  {
   "cell_type": "code",
   "execution_count": null,
   "id": "b3dbebdf",
   "metadata": {},
   "outputs": [],
   "source": [
    "df_csv.to_csv('output.csv', index=False)"
   ]
  },
  {
   "cell_type": "markdown",
   "id": "b852bea3",
   "metadata": {},
   "source": [
    "Load data from a SQL database."
   ]
  },
  {
   "cell_type": "code",
   "execution_count": null,
   "id": "a3670ba3",
   "metadata": {},
   "outputs": [],
   "source": [
    "df_sql = pd.read_sql('SELECT * FROM table_name', con=connection)"
   ]
  }
 ],
 "metadata": {
  "kernelspec": {
   "display_name": "Python 3",
   "language": "python",
   "name": "python3"
  },
  "language_info": {
   "codemirror_mode": {
    "name": "ipython",
    "version": 3
   },
   "file_extension": ".py",
   "mimetype": "text/x-python",
   "name": "python",
   "nbconvert_exporter": "python",
   "pygments_lexer": "ipython3",
   "version": "3.8.5"
  }
 },
 "nbformat": 4,
 "nbformat_minor": 5
}
