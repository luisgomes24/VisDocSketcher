{
 "cells": [
  {
   "cell_type": "markdown",
   "id": "30c65c31",
   "metadata": {},
   "source": [
    "Load the training data from a CSV file using pandas."
   ]
  },
  {
   "cell_type": "code",
   "execution_count": null,
   "id": "2bf378a7",
   "metadata": {},
   "outputs": [],
   "source": [
    "import pandas as pd\n",
    "import numpy as np\n",
    "from sklearn.model_selection import train_test_split\n",
    "from keras.utils import to_categorical\n",
    "from keras.models import Sequential\n",
    "from keras.layers import Conv2D, MaxPooling2D, Flatten, Dense, Dropout\n",
    "import matplotlib.pyplot as plt\n",
    "\n",
    "# Load Data\n",
    "train_data = pd.read_csv('train_data.csv')"
   ]
  },
  {
   "cell_type": "markdown",
   "id": "5dcd6608",
   "metadata": {},
   "source": [
    "Prepare image data and labels by splitting the dataset."
   ]
  },
  {
   "cell_type": "code",
   "execution_count": null,
   "id": "dc7d78e6",
   "metadata": {},
   "outputs": [],
   "source": [
    "image_data = train_data.iloc[:, :-1].values\n",
    "labels = train_data.iloc[:, -1].values"
   ]
  },
  {
   "cell_type": "markdown",
   "id": "bdf6d8ef",
   "metadata": {},
   "source": [
    "Convert labels to one-hot encoded format for classification."
   ]
  },
  {
   "cell_type": "code",
   "execution_count": null,
   "id": "db5bd444",
   "metadata": {},
   "outputs": [],
   "source": [
    "labels = to_categorical(labels)"
   ]
  },
  {
   "cell_type": "markdown",
   "id": "1348147a",
   "metadata": {},
   "source": [
    "Split the dataset into training and validation sets."
   ]
  },
  {
   "cell_type": "code",
   "execution_count": null,
   "id": "093303ed",
   "metadata": {},
   "outputs": [],
   "source": [
    "X_train, X_val, y_train, y_val = train_test_split(image_data, labels, test_size=0.2, random_state=42)"
   ]
  },
  {
   "cell_type": "markdown",
   "id": "794dc128",
   "metadata": {},
   "source": [
    "Define the neural network structure using a Sequential model."
   ]
  },
  {
   "cell_type": "code",
   "execution_count": null,
   "id": "49009a8f",
   "metadata": {},
   "outputs": [],
   "source": [
    "model = Sequential()"
   ]
  },
  {
   "cell_type": "markdown",
   "id": "71b83cb0",
   "metadata": {},
   "source": [
    "Build the first convolutional layer followed by max pooling."
   ]
  },
  {
   "cell_type": "code",
   "execution_count": null,
   "id": "09a1feaa",
   "metadata": {},
   "outputs": [],
   "source": [
    "model.add(Conv2D(32, (3, 3), activation='relu', input_shape=(image_height, image_width, channels)))\n",
    "model.add(MaxPooling2D(pool_size=(2, 2)))"
   ]
  },
  {
   "cell_type": "markdown",
   "id": "7bb5dcb1",
   "metadata": {},
   "source": [
    "Add a fully connected layer after flattening the convolved features."
   ]
  },
  {
   "cell_type": "code",
   "execution_count": null,
   "id": "ceef16b8",
   "metadata": {},
   "outputs": [],
   "source": [
    "model.add(Flatten())\n",
    "model.add(Dense(128, activation='relu'))"
   ]
  },
  {
   "cell_type": "markdown",
   "id": "5a101dad",
   "metadata": {},
   "source": [
    "Apply dropout to reduce overfitting."
   ]
  },
  {
   "cell_type": "code",
   "execution_count": null,
   "id": "08023d2e",
   "metadata": {},
   "outputs": [],
   "source": [
    "model.add(Dropout(0.5))"
   ]
  },
  {
   "cell_type": "markdown",
   "id": "2b577fa7",
   "metadata": {},
   "source": [
    "Create the output readout layer with softmax activation."
   ]
  },
  {
   "cell_type": "code",
   "execution_count": null,
   "id": "f3b77279",
   "metadata": {},
   "outputs": [],
   "source": [
    "model.add(Dense(num_classes, activation='softmax'))"
   ]
  },
  {
   "cell_type": "markdown",
   "id": "1c29f11b",
   "metadata": {},
   "source": [
    "Define the loss function and compile the model."
   ]
  },
  {
   "cell_type": "code",
   "execution_count": null,
   "id": "1c5fd9d2",
   "metadata": {},
   "outputs": [],
   "source": [
    "model.compile(loss='categorical_crossentropy', optimizer='adam', metrics=['accuracy'])"
   ]
  },
  {
   "cell_type": "markdown",
   "id": "edebc9dd",
   "metadata": {},
   "source": [
    "Train the model using the training data."
   ]
  },
  {
   "cell_type": "code",
   "execution_count": null,
   "id": "de8f382c",
   "metadata": {},
   "outputs": [],
   "source": [
    "history = model.fit(X_train, y_train, validation_data=(X_val, y_val), epochs=10, batch_size=32)"
   ]
  },
  {
   "cell_type": "markdown",
   "id": "f7f02fb2",
   "metadata": {},
   "source": [
    "Visualize model accuracy over time using matplotlib."
   ]
  },
  {
   "cell_type": "code",
   "execution_count": null,
   "id": "49ee5240",
   "metadata": {},
   "outputs": [],
   "source": [
    "plt.plot(history.history['accuracy'], label='accuracy')\n",
    "plt.plot(history.history['val_accuracy'], label='val_accuracy')\n",
    "plt.title('Model accuracy')\n",
    "plt.xlabel('Epoch')\n",
    "plt.ylabel('Accuracy')\n",
    "plt.legend()\n",
    "plt.show()"
   ]
  },
  {
   "cell_type": "markdown",
   "id": "85602b70",
   "metadata": {},
   "source": [
    "Load the test data for predictions."
   ]
  },
  {
   "cell_type": "code",
   "execution_count": null,
   "id": "611e71fd",
   "metadata": {},
   "outputs": [],
   "source": [
    "test_data = pd.read_csv('test_data.csv')\n",
    "X_test = test_data.values"
   ]
  },
  {
   "cell_type": "markdown",
   "id": "5fec2a77",
   "metadata": {},
   "source": [
    "Predict labels for the test data using the trained model."
   ]
  },
  {
   "cell_type": "code",
   "execution_count": null,
   "id": "663bff50",
   "metadata": {},
   "outputs": [],
   "source": [
    "predictions = model.predict(X_test)"
   ]
  },
  {
   "cell_type": "markdown",
   "id": "1006260d",
   "metadata": {},
   "source": [
    "Convert the predictions to label indices."
   ]
  },
  {
   "cell_type": "code",
   "execution_count": null,
   "id": "81661f86",
   "metadata": {},
   "outputs": [],
   "source": [
    "predicted_labels = np.argmax(predictions, axis=1)"
   ]
  },
  {
   "cell_type": "markdown",
   "id": "764e824c",
   "metadata": {},
   "source": [
    "Save the predictions to a CSV file."
   ]
  },
  {
   "cell_type": "code",
   "execution_count": null,
   "id": "332f354c",
   "metadata": {},
   "outputs": [],
   "source": [
    "np.savetxt('predictions.csv', predicted_labels, delimiter=',')"
   ]
  },
  {
   "cell_type": "markdown",
   "id": "1fb37b8b",
   "metadata": {},
   "source": [
    "Display a test image along with its predicted label."
   ]
  },
  {
   "cell_type": "code",
   "execution_count": null,
   "id": "35aba9f2",
   "metadata": {},
   "outputs": [],
   "source": [
    "plt.imshow(X_test[0].reshape(image_height, image_width, channels))\n",
    "plt.title(f'Predicted Label: {predicted_labels[0]}')\n",
    "plt.show()"
   ]
  },
  {
   "cell_type": "markdown",
   "id": "ddbfe323",
   "metadata": {},
   "source": [
    "Clear the session to free resources after the predictions."
   ]
  },
  {
   "cell_type": "code",
   "execution_count": null,
   "id": "ac7bac3c",
   "metadata": {},
   "outputs": [],
   "source": [
    "import keras.backend as K\n",
    "K.clear_session()"
   ]
  }
 ],
 "metadata": {
  "kernelspec": {
   "display_name": "Python 3",
   "language": "python",
   "name": "python3"
  },
  "language_info": {
   "codemirror_mode": {
    "name": "ipython",
    "version": 3
   },
   "file_extension": ".py",
   "mimetype": "text/x-python",
   "name": "python",
   "nbconvert_exporter": "python",
   "pygments_lexer": "ipython3",
   "version": "3.8.5"
  }
 },
 "nbformat": 4,
 "nbformat_minor": 5
}
