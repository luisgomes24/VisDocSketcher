{
 "cells": [
  {
   "cell_type": "markdown",
   "id": "436db449",
   "metadata": {},
   "source": [
    "Import the pandas library for data manipulation."
   ]
  },
  {
   "cell_type": "code",
   "execution_count": null,
   "id": "e6f5dbd4",
   "metadata": {},
   "outputs": [],
   "source": [
    "import pandas as pd"
   ]
  },
  {
   "cell_type": "markdown",
   "id": "054601cb",
   "metadata": {},
   "source": [
    "Create a dictionary to hold data for the DataFrame."
   ]
  },
  {
   "cell_type": "code",
   "execution_count": null,
   "id": "5971eca1",
   "metadata": {},
   "outputs": [],
   "source": [
    "data = {'column1': [1, 2], 'column2': [3, 4]}"
   ]
  },
  {
   "cell_type": "markdown",
   "id": "b7ca8fe7",
   "metadata": {},
   "source": [
    "Create the first DataFrame using the data dictionary."
   ]
  },
  {
   "cell_type": "code",
   "execution_count": null,
   "id": "ac8e2450",
   "metadata": {},
   "outputs": [],
   "source": [
    "df1 = pd.DataFrame(data)"
   ]
  },
  {
   "cell_type": "markdown",
   "id": "bd7be2a8",
   "metadata": {},
   "source": [
    "Create a Series from a list of values."
   ]
  },
  {
   "cell_type": "code",
   "execution_count": null,
   "id": "bbb8524c",
   "metadata": {},
   "outputs": [],
   "source": [
    "series = pd.Series([1, 2, 3])"
   ]
  },
  {
   "cell_type": "markdown",
   "id": "8835a7d9",
   "metadata": {},
   "source": [
    "Load data from a CSV file into a DataFrame."
   ]
  },
  {
   "cell_type": "code",
   "execution_count": null,
   "id": "6bcfa48b",
   "metadata": {},
   "outputs": [],
   "source": [
    "df2 = pd.read_csv('file.csv')"
   ]
  },
  {
   "cell_type": "markdown",
   "id": "c93f6d8c",
   "metadata": {},
   "source": [
    "Create a DataFrame from the CSV data."
   ]
  },
  {
   "cell_type": "code",
   "execution_count": null,
   "id": "c3e14df3",
   "metadata": {},
   "outputs": [],
   "source": [
    "df3 = pd.DataFrame(df2)"
   ]
  },
  {
   "cell_type": "markdown",
   "id": "e5ac1a1d",
   "metadata": {},
   "source": [
    "Save the DataFrame to a new CSV file without the index."
   ]
  },
  {
   "cell_type": "code",
   "execution_count": null,
   "id": "20c36674",
   "metadata": {},
   "outputs": [],
   "source": [
    "df3.to_csv('output.csv', index=False)"
   ]
  }
 ],
 "metadata": {
  "kernelspec": {
   "display_name": "Python 3",
   "language": "python",
   "name": "python3"
  },
  "language_info": {
   "codemirror_mode": {
    "name": "ipython",
    "version": 3
   },
   "file_extension": ".py",
   "mimetype": "text/x-python",
   "name": "python",
   "nbconvert_exporter": "python",
   "pygments_lexer": "ipython3",
   "version": "3.8.5"
  }
 },
 "nbformat": 4,
 "nbformat_minor": 5
}
