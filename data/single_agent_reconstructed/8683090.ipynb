{
 "cells": [
  {
   "cell_type": "markdown",
   "id": "9baecfb3",
   "metadata": {},
   "source": [
    "Load the CSV data into a DataFrame using pandas."
   ]
  },
  {
   "cell_type": "code",
   "execution_count": null,
   "id": "be30f993",
   "metadata": {},
   "outputs": [],
   "source": [
    "import pandas as pd\n",
    "df = pd.read_csv('data.csv')"
   ]
  },
  {
   "cell_type": "markdown",
   "id": "ad9dca93",
   "metadata": {},
   "source": [
    "Drop columns that are not needed for analysis."
   ]
  },
  {
   "cell_type": "code",
   "execution_count": null,
   "id": "cc380a57",
   "metadata": {},
   "outputs": [],
   "source": [
    "df.drop(['unnecessary_column1', 'unnecessary_column2'], axis=1, inplace=True)"
   ]
  },
  {
   "cell_type": "markdown",
   "id": "c5f0ee94",
   "metadata": {},
   "source": [
    "Aggregate data by summing values for each region."
   ]
  },
  {
   "cell_type": "code",
   "execution_count": null,
   "id": "678da02e",
   "metadata": {},
   "outputs": [],
   "source": [
    "df_reg = df.groupby(['region']).sum()"
   ]
  },
  {
   "cell_type": "markdown",
   "id": "113c2330",
   "metadata": {},
   "source": [
    "Display summary statistics of the aggregated data."
   ]
  },
  {
   "cell_type": "code",
   "execution_count": null,
   "id": "2661cb53",
   "metadata": {},
   "outputs": [],
   "source": [
    "df_reg.describe()"
   ]
  },
  {
   "cell_type": "markdown",
   "id": "80947e30",
   "metadata": {},
   "source": [
    "Create a boxplot to visualize the distribution of cases."
   ]
  },
  {
   "cell_type": "code",
   "execution_count": null,
   "id": "7f6384f5",
   "metadata": {},
   "outputs": [],
   "source": [
    "import matplotlib.pyplot as plt\n",
    "plt.boxplot(df['cases'])\n",
    "plt.show()"
   ]
  },
  {
   "cell_type": "markdown",
   "id": "cd59178c",
   "metadata": {},
   "source": [
    "Create a pie chart to represent the distribution of cases."
   ]
  },
  {
   "cell_type": "code",
   "execution_count": null,
   "id": "d2a9be15",
   "metadata": {},
   "outputs": [],
   "source": [
    "plt.pie(df['cases'].value_counts(), labels=df['cases'].unique())\n",
    "plt.show()"
   ]
  },
  {
   "cell_type": "markdown",
   "id": "ba5bc48d",
   "metadata": {},
   "source": [
    "Create a pie chart to represent the distribution of deaths."
   ]
  },
  {
   "cell_type": "code",
   "execution_count": null,
   "id": "8654c8b5",
   "metadata": {},
   "outputs": [],
   "source": [
    "plt.pie(df['deaths'].value_counts(), labels=df['deaths'].unique())\n",
    "plt.show()"
   ]
  },
  {
   "cell_type": "markdown",
   "id": "3288b5b9",
   "metadata": {},
   "source": [
    "Aggregate data by date for time series analysis."
   ]
  },
  {
   "cell_type": "code",
   "execution_count": null,
   "id": "a0a34fa0",
   "metadata": {},
   "outputs": [],
   "source": [
    "df_county = df.groupby(['date']).sum()"
   ]
  },
  {
   "cell_type": "markdown",
   "id": "d0a44fef",
   "metadata": {},
   "source": [
    "Calculate active cases by subtracting deaths from total cases."
   ]
  },
  {
   "cell_type": "code",
   "execution_count": null,
   "id": "a75d9ca9",
   "metadata": {},
   "outputs": [],
   "source": [
    "df['active_cases'] = df['cases'] - df['deaths']"
   ]
  },
  {
   "cell_type": "markdown",
   "id": "dda29bb9",
   "metadata": {},
   "source": [
    "Visualize the trend of cases over time using a line chart."
   ]
  },
  {
   "cell_type": "code",
   "execution_count": null,
   "id": "20f880a9",
   "metadata": {},
   "outputs": [],
   "source": [
    "plt.plot(df_county.index, df_county['cases'])\n",
    "plt.show()"
   ]
  }
 ],
 "metadata": {
  "kernelspec": {
   "display_name": "Python 3",
   "language": "python",
   "name": "python3"
  },
  "language_info": {
   "codemirror_mode": {
    "name": "ipython",
    "version": 3
   },
   "file_extension": ".py",
   "mimetype": "text/x-python",
   "name": "python",
   "nbconvert_exporter": "python",
   "pygments_lexer": "ipython3",
   "version": "3.8.5"
  }
 },
 "nbformat": 4,
 "nbformat_minor": 5
}
