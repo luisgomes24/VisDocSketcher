{
 "cells": [
  {
   "cell_type": "markdown",
   "id": "a13db361",
   "metadata": {},
   "source": [
    "Load the dataset from a CSV file using pandas."
   ]
  },
  {
   "cell_type": "code",
   "execution_count": null,
   "id": "9cb722ee",
   "metadata": {},
   "outputs": [],
   "source": [
    "import pandas as pd\n",
    "data = pd.read_csv('Datos finales.csv')"
   ]
  },
  {
   "cell_type": "markdown",
   "id": "58b07ffd",
   "metadata": {},
   "source": [
    "Create distribution graphs to visualize the frequency of categories."
   ]
  },
  {
   "cell_type": "code",
   "execution_count": null,
   "id": "563e5eab",
   "metadata": {},
   "outputs": [],
   "source": [
    "import seaborn as sns\n",
    "import matplotlib.pyplot as plt\n",
    "sns.histplot(data['Category'])\n",
    "plt.show()"
   ]
  },
  {
   "cell_type": "markdown",
   "id": "c9420faa",
   "metadata": {},
   "source": [
    "Generate a correlation matrix heatmap to visualize relationships between features."
   ]
  },
  {
   "cell_type": "code",
   "execution_count": null,
   "id": "80da233a",
   "metadata": {},
   "outputs": [],
   "source": [
    "correlation_matrix = data.corr()\n",
    "sns.heatmap(correlation_matrix, annot=True, cmap='coolwarm')\n",
    "plt.show()"
   ]
  },
  {
   "cell_type": "markdown",
   "id": "fa21a303",
   "metadata": {},
   "source": [
    "Create scatter plots to visualize the relationship between two variables."
   ]
  },
  {
   "cell_type": "code",
   "execution_count": null,
   "id": "cd4b2933",
   "metadata": {},
   "outputs": [],
   "source": [
    "sns.scatterplot(x='X Axis', y='Y Axis', data=data)\n",
    "plt.show()"
   ]
  },
  {
   "cell_type": "markdown",
   "id": "1a70ca0d",
   "metadata": {},
   "source": [
    "Generate density plots to visualize the distribution of data in two dimensions."
   ]
  },
  {
   "cell_type": "code",
   "execution_count": null,
   "id": "add498a7",
   "metadata": {},
   "outputs": [],
   "source": [
    "sns.kdeplot(data['X Axis'], data['Y Axis'], fill=True)\n",
    "plt.show()"
   ]
  }
 ],
 "metadata": {
  "kernelspec": {
   "display_name": "Python 3",
   "language": "python",
   "name": "python3"
  },
  "language_info": {
   "codemirror_mode": {
    "name": "ipython",
    "version": 3
   },
   "file_extension": ".py",
   "mimetype": "text/x-python",
   "name": "python",
   "nbconvert_exporter": "python",
   "pygments_lexer": "ipython3",
   "version": "3.8.5"
  }
 },
 "nbformat": 4,
 "nbformat_minor": 5
}
