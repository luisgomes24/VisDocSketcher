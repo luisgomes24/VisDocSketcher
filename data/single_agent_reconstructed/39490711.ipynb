{
 "cells": [
  {
   "cell_type": "markdown",
   "id": "e909637b",
   "metadata": {},
   "source": [
    "Load the dataset from a CSV file using pandas."
   ]
  },
  {
   "cell_type": "code",
   "execution_count": null,
   "id": "3a6ac539",
   "metadata": {},
   "outputs": [],
   "source": [
    "import pandas as pd\n",
    "train = pd.read_csv('data.csv')"
   ]
  },
  {
   "cell_type": "markdown",
   "id": "46d3ef45",
   "metadata": {},
   "source": [
    "Display the first few rows of the dataset for exploration."
   ]
  },
  {
   "cell_type": "code",
   "execution_count": null,
   "id": "14484a0a",
   "metadata": {},
   "outputs": [],
   "source": [
    "print(train.head())"
   ]
  },
  {
   "cell_type": "markdown",
   "id": "27c1368a",
   "metadata": {},
   "source": [
    "Generate descriptive statistics of the dataset."
   ]
  },
  {
   "cell_type": "code",
   "execution_count": null,
   "id": "3d94daea",
   "metadata": {},
   "outputs": [],
   "source": [
    "print(train.describe())"
   ]
  },
  {
   "cell_type": "markdown",
   "id": "54daf6d6",
   "metadata": {},
   "source": [
    "Define a function to clean text data."
   ]
  },
  {
   "cell_type": "code",
   "execution_count": null,
   "id": "834159f3",
   "metadata": {},
   "outputs": [],
   "source": [
    "def preprocess_text(text):\n",
    "    # Implement text cleaning steps here\n",
    "    return cleaned_text"
   ]
  },
  {
   "cell_type": "markdown",
   "id": "e121c850",
   "metadata": {},
   "source": [
    "Apply the cleaning function to the text column."
   ]
  },
  {
   "cell_type": "code",
   "execution_count": null,
   "id": "1279d26f",
   "metadata": {},
   "outputs": [],
   "source": [
    "train['cleaned_text'] = train['text'].apply(preprocess_text)"
   ]
  },
  {
   "cell_type": "markdown",
   "id": "802beb55",
   "metadata": {},
   "source": [
    "Remove stopwords from the cleaned text."
   ]
  },
  {
   "cell_type": "code",
   "execution_count": null,
   "id": "6d7525e4",
   "metadata": {},
   "outputs": [],
   "source": [
    "stopwords = set(['a', 'the', 'and', 'is'])\n",
    "train['cleaned_text'] = train['cleaned_text'].apply(lambda x: ' '.join([word for word in x.split() if word not in stopwords]))"
   ]
  },
  {
   "cell_type": "markdown",
   "id": "f228e4cc",
   "metadata": {},
   "source": [
    "Apply stemming to the cleaned text."
   ]
  },
  {
   "cell_type": "code",
   "execution_count": null,
   "id": "1f054445",
   "metadata": {},
   "outputs": [],
   "source": [
    "from nltk.stem import PorterStemmer\n",
    "stemmer = PorterStemmer()\n",
    "train['stemmed_text'] = train['cleaned_text'].apply(lambda x: ' '.join([stemmer.stem(word) for word in x.split()]))"
   ]
  },
  {
   "cell_type": "markdown",
   "id": "d614bcdb",
   "metadata": {},
   "source": [
    "Transform the text data into TF-IDF features."
   ]
  },
  {
   "cell_type": "code",
   "execution_count": null,
   "id": "778d67fb",
   "metadata": {},
   "outputs": [],
   "source": [
    "from sklearn.feature_extraction.text import TfidfVectorizer\n",
    "vectorizer = TfidfVectorizer()\n",
    "X = vectorizer.fit_transform(train['stemmed_text'])"
   ]
  },
  {
   "cell_type": "markdown",
   "id": "16aa9e6a",
   "metadata": {},
   "source": [
    "Split the dataset into training and testing sets."
   ]
  },
  {
   "cell_type": "code",
   "execution_count": null,
   "id": "c394f8c6",
   "metadata": {},
   "outputs": [],
   "source": [
    "from sklearn.model_selection import train_test_split\n",
    "X_train, X_test, y_train, y_test = train_test_split(X, train['label'], test_size=0.2, random_state=42)"
   ]
  },
  {
   "cell_type": "markdown",
   "id": "4892916a",
   "metadata": {},
   "source": [
    "Train a Multinomial Naive Bayes model on the training data."
   ]
  },
  {
   "cell_type": "code",
   "execution_count": null,
   "id": "a3a4dc6a",
   "metadata": {},
   "outputs": [],
   "source": [
    "from sklearn.naive_bayes import MultinomialNB\n",
    "mnb = MultinomialNB()\n",
    "mnb.fit(X_train, y_train)"
   ]
  },
  {
   "cell_type": "markdown",
   "id": "c8b59bb9",
   "metadata": {},
   "source": [
    "Evaluate the model and print the accuracy score."
   ]
  },
  {
   "cell_type": "code",
   "execution_count": null,
   "id": "81b97eba",
   "metadata": {},
   "outputs": [],
   "source": [
    "accuracy = mnb.score(X_test, y_test)\n",
    "print('Model Accuracy:', accuracy)"
   ]
  },
  {
   "cell_type": "markdown",
   "id": "438d97db",
   "metadata": {},
   "source": [
    "Generate predictions on the test set and store them in a DataFrame."
   ]
  },
  {
   "cell_type": "code",
   "execution_count": null,
   "id": "51aa4549",
   "metadata": {},
   "outputs": [],
   "source": [
    "predictions = mnb.predict(X_test)\n",
    "pred_df = pd.DataFrame(predictions, columns=['Predicted'])"
   ]
  },
  {
   "cell_type": "markdown",
   "id": "b834a70b",
   "metadata": {},
   "source": [
    "Save the predictions to a CSV file for submission."
   ]
  },
  {
   "cell_type": "code",
   "execution_count": null,
   "id": "5775bfb7",
   "metadata": {},
   "outputs": [],
   "source": [
    "pred_df.to_csv('submission.csv', index=False)"
   ]
  }
 ],
 "metadata": {
  "kernelspec": {
   "display_name": "Python 3",
   "language": "python",
   "name": "python3"
  },
  "language_info": {
   "codemirror_mode": {
    "name": "ipython",
    "version": 3
   },
   "file_extension": ".py",
   "mimetype": "text/x-python",
   "name": "python",
   "nbconvert_exporter": "python",
   "pygments_lexer": "ipython3",
   "version": "3.8.5"
  }
 },
 "nbformat": 4,
 "nbformat_minor": 5
}
