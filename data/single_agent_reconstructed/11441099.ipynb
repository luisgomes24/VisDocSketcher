{
 "cells": [
  {
   "cell_type": "markdown",
   "id": "f0a3fa3a",
   "metadata": {},
   "source": [
    "Load the first dataset from a CSV file."
   ]
  },
  {
   "cell_type": "code",
   "execution_count": null,
   "id": "5f8e0d59",
   "metadata": {},
   "outputs": [],
   "source": [
    "import pandas as pd\n",
    "df1 = pd.read_csv('file1.csv')"
   ]
  },
  {
   "cell_type": "markdown",
   "id": "42dc8a8e",
   "metadata": {},
   "source": [
    "Load the second dataset from another CSV file."
   ]
  },
  {
   "cell_type": "code",
   "execution_count": null,
   "id": "e70e3131",
   "metadata": {},
   "outputs": [],
   "source": [
    "df2 = pd.read_csv('file2.csv')"
   ]
  },
  {
   "cell_type": "markdown",
   "id": "11b8910b",
   "metadata": {},
   "source": [
    "Preview the first few rows of the first dataset."
   ]
  },
  {
   "cell_type": "code",
   "execution_count": null,
   "id": "5f9ac0c5",
   "metadata": {},
   "outputs": [],
   "source": [
    "print(df1.head())"
   ]
  },
  {
   "cell_type": "markdown",
   "id": "3581abdc",
   "metadata": {},
   "source": [
    "Preview the first few rows of the second dataset."
   ]
  },
  {
   "cell_type": "code",
   "execution_count": null,
   "id": "40fcc50f",
   "metadata": {},
   "outputs": [],
   "source": [
    "print(df2.head())"
   ]
  },
  {
   "cell_type": "markdown",
   "id": "e2ede323",
   "metadata": {},
   "source": [
    "Create distribution graphs for the first dataset."
   ]
  },
  {
   "cell_type": "code",
   "execution_count": null,
   "id": "74af528e",
   "metadata": {},
   "outputs": [],
   "source": [
    "import seaborn as sns\n",
    "import matplotlib.pyplot as plt\n",
    "sns.histplot(df1['column_name'])\n",
    "plt.show()"
   ]
  },
  {
   "cell_type": "markdown",
   "id": "d99b4c2e",
   "metadata": {},
   "source": [
    "Create distribution graphs for the second dataset."
   ]
  },
  {
   "cell_type": "code",
   "execution_count": null,
   "id": "bf011b79",
   "metadata": {},
   "outputs": [],
   "source": [
    "sns.histplot(df2['column_name'])\n",
    "plt.show()"
   ]
  },
  {
   "cell_type": "markdown",
   "id": "7ce73647",
   "metadata": {},
   "source": [
    "Calculate the correlation matrix for the first dataset."
   ]
  },
  {
   "cell_type": "code",
   "execution_count": null,
   "id": "cf21d283",
   "metadata": {},
   "outputs": [],
   "source": [
    "correlation_matrix1 = df1.corr()"
   ]
  },
  {
   "cell_type": "markdown",
   "id": "3ecd5005",
   "metadata": {},
   "source": [
    "Calculate the correlation matrix for the second dataset."
   ]
  },
  {
   "cell_type": "code",
   "execution_count": null,
   "id": "bb921e86",
   "metadata": {},
   "outputs": [],
   "source": [
    "correlation_matrix2 = df2.corr()"
   ]
  },
  {
   "cell_type": "markdown",
   "id": "e352c37b",
   "metadata": {},
   "source": [
    "Visualize the correlation matrix of the first dataset."
   ]
  },
  {
   "cell_type": "code",
   "execution_count": null,
   "id": "18314a4d",
   "metadata": {},
   "outputs": [],
   "source": [
    "sns.heatmap(correlation_matrix1, annot=True)\n",
    "plt.show()"
   ]
  },
  {
   "cell_type": "markdown",
   "id": "43380db7",
   "metadata": {},
   "source": [
    "Visualize the correlation matrix of the second dataset."
   ]
  },
  {
   "cell_type": "code",
   "execution_count": null,
   "id": "50e168b0",
   "metadata": {},
   "outputs": [],
   "source": [
    "sns.heatmap(correlation_matrix2, annot=True)\n",
    "plt.show()"
   ]
  },
  {
   "cell_type": "markdown",
   "id": "962e4722",
   "metadata": {},
   "source": [
    "Create a scatter matrix for the first dataset."
   ]
  },
  {
   "cell_type": "code",
   "execution_count": null,
   "id": "fdd15c40",
   "metadata": {},
   "outputs": [],
   "source": [
    "sns.pairplot(df1)\n",
    "plt.show()"
   ]
  },
  {
   "cell_type": "markdown",
   "id": "6fbf9485",
   "metadata": {},
   "source": [
    "Create a scatter matrix for the second dataset."
   ]
  },
  {
   "cell_type": "code",
   "execution_count": null,
   "id": "0e9b738d",
   "metadata": {},
   "outputs": [],
   "source": [
    "sns.pairplot(df2)\n",
    "plt.show()"
   ]
  }
 ],
 "metadata": {
  "kernelspec": {
   "display_name": "Python 3",
   "language": "python",
   "name": "python3"
  },
  "language_info": {
   "codemirror_mode": {
    "name": "ipython",
    "version": 3
   },
   "file_extension": ".py",
   "mimetype": "text/x-python",
   "name": "python",
   "nbconvert_exporter": "python",
   "pygments_lexer": "ipython3",
   "version": "3.8.5"
  }
 },
 "nbformat": 4,
 "nbformat_minor": 5
}
