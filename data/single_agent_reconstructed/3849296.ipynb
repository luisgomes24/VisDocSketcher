{
 "cells": [
  {
   "cell_type": "markdown",
   "id": "d6636165",
   "metadata": {},
   "source": [
    "Load the dataset from a CSV file into a DataFrame."
   ]
  },
  {
   "cell_type": "code",
   "execution_count": null,
   "id": "8aa74019",
   "metadata": {},
   "outputs": [],
   "source": [
    "import pandas as pd\n",
    "\n",
    "df = pd.read_csv('data.csv')"
   ]
  },
  {
   "cell_type": "markdown",
   "id": "10669bed",
   "metadata": {},
   "source": [
    "Split the data into training and testing sets using an 80-20 ratio."
   ]
  },
  {
   "cell_type": "code",
   "execution_count": null,
   "id": "73aba2e8",
   "metadata": {},
   "outputs": [],
   "source": [
    "from sklearn.model_selection import train_test_split\n",
    "\n",
    "train_data, test_data = train_test_split(df, test_size=0.2)"
   ]
  },
  {
   "cell_type": "markdown",
   "id": "19947342",
   "metadata": {},
   "source": [
    "Specify the model to be used, in this case, a linear regression model."
   ]
  },
  {
   "cell_type": "code",
   "execution_count": null,
   "id": "626e03b4",
   "metadata": {},
   "outputs": [],
   "source": [
    "from sklearn.linear_model import LinearRegression\n",
    "\n",
    "model = LinearRegression()"
   ]
  },
  {
   "cell_type": "markdown",
   "id": "090c09ca",
   "metadata": {},
   "source": [
    "Fit the model to the training data using selected features."
   ]
  },
  {
   "cell_type": "code",
   "execution_count": null,
   "id": "07bc06cd",
   "metadata": {},
   "outputs": [],
   "source": [
    "model.fit(train_data[['feature1', 'feature2']], train_data['target'])"
   ]
  },
  {
   "cell_type": "markdown",
   "id": "2108c65c",
   "metadata": {},
   "source": [
    "Make predictions on the test data using the fitted model."
   ]
  },
  {
   "cell_type": "code",
   "execution_count": null,
   "id": "56fd0fca",
   "metadata": {},
   "outputs": [],
   "source": [
    "predictions = model.predict(test_data[['feature1', 'feature2']])"
   ]
  },
  {
   "cell_type": "markdown",
   "id": "19c009ac",
   "metadata": {},
   "source": [
    "Calculate the Mean Absolute Error (MAE) to evaluate the model's performance."
   ]
  },
  {
   "cell_type": "code",
   "execution_count": null,
   "id": "a69dfcf8",
   "metadata": {},
   "outputs": [],
   "source": [
    "from sklearn.metrics import mean_absolute_error\n",
    "\n",
    "mae = mean_absolute_error(test_data['target'], predictions)"
   ]
  }
 ],
 "metadata": {
  "kernelspec": {
   "display_name": "Python 3",
   "language": "python",
   "name": "python3"
  },
  "language_info": {
   "codemirror_mode": {
    "name": "ipython",
    "version": 3
   },
   "file_extension": ".py",
   "mimetype": "text/x-python",
   "name": "python",
   "nbconvert_exporter": "python",
   "pygments_lexer": "ipython3",
   "version": "3.8.5"
  }
 },
 "nbformat": 4,
 "nbformat_minor": 5
}
