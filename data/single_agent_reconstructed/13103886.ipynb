{
 "cells": [
  {
   "cell_type": "markdown",
   "id": "75b7213e",
   "metadata": {},
   "source": [
    "Load data from a CSV file into a DataFrame."
   ]
  },
  {
   "cell_type": "code",
   "execution_count": null,
   "id": "00e6be79",
   "metadata": {},
   "outputs": [],
   "source": [
    "import pandas as pd\n",
    "\n",
    "df = pd.read_csv('data.csv')"
   ]
  },
  {
   "cell_type": "markdown",
   "id": "48c61355",
   "metadata": {},
   "source": [
    "Check the initial structure and types of the DataFrame."
   ]
  },
  {
   "cell_type": "code",
   "execution_count": null,
   "id": "d767651d",
   "metadata": {},
   "outputs": [],
   "source": [
    "df.info()"
   ]
  },
  {
   "cell_type": "markdown",
   "id": "217a0af5",
   "metadata": {},
   "source": [
    "Check for null values in the DataFrame."
   ]
  },
  {
   "cell_type": "code",
   "execution_count": null,
   "id": "58f08749",
   "metadata": {},
   "outputs": [],
   "source": [
    "df.isnull().sum()"
   ]
  },
  {
   "cell_type": "markdown",
   "id": "1653ad00",
   "metadata": {},
   "source": [
    "Drop rows with any null values from the DataFrame."
   ]
  },
  {
   "cell_type": "code",
   "execution_count": null,
   "id": "6f5088d0",
   "metadata": {},
   "outputs": [],
   "source": [
    "df = df.dropna()"
   ]
  },
  {
   "cell_type": "markdown",
   "id": "7ba3aac7",
   "metadata": {},
   "source": [
    "Encode categorical variables into numerical format."
   ]
  },
  {
   "cell_type": "code",
   "execution_count": null,
   "id": "a863c66c",
   "metadata": {},
   "outputs": [],
   "source": [
    "df = pd.get_dummies(df, drop_first=True)"
   ]
  },
  {
   "cell_type": "markdown",
   "id": "1f915444",
   "metadata": {},
   "source": [
    "Conduct a basic statistical analysis of the DataFrame."
   ]
  },
  {
   "cell_type": "code",
   "execution_count": null,
   "id": "20be23c6",
   "metadata": {},
   "outputs": [],
   "source": [
    "df.describe()"
   ]
  },
  {
   "cell_type": "markdown",
   "id": "b77a39de",
   "metadata": {},
   "source": [
    "Generate a correlation heatmap to visualize relationships between variables."
   ]
  },
  {
   "cell_type": "code",
   "execution_count": null,
   "id": "db7d3024",
   "metadata": {},
   "outputs": [],
   "source": [
    "import seaborn as sns\n",
    "import matplotlib.pyplot as plt\n",
    "\n",
    "sns.heatmap(df.corr(), annot=True)\n",
    "plt.show()"
   ]
  },
  {
   "cell_type": "markdown",
   "id": "306f0448",
   "metadata": {},
   "source": [
    "Visualize female labor force participation by country."
   ]
  },
  {
   "cell_type": "code",
   "execution_count": null,
   "id": "f333b06c",
   "metadata": {},
   "outputs": [],
   "source": [
    "sns.barplot(x='Country', y='Female Participation', data=df)\n",
    "plt.show()"
   ]
  },
  {
   "cell_type": "markdown",
   "id": "46285f86",
   "metadata": {},
   "source": [
    "Display the distribution of the level of development."
   ]
  },
  {
   "cell_type": "code",
   "execution_count": null,
   "id": "fdb7b1c6",
   "metadata": {},
   "outputs": [],
   "source": [
    "sns.histplot(df['Level of Development'])\n",
    "plt.show()"
   ]
  },
  {
   "cell_type": "markdown",
   "id": "184373fd",
   "metadata": {},
   "source": [
    "Examine the relationship between level of development and female participation."
   ]
  },
  {
   "cell_type": "code",
   "execution_count": null,
   "id": "c65d3e23",
   "metadata": {},
   "outputs": [],
   "source": [
    "sns.scatterplot(x='Level of Development', y='Female Participation', data=df)\n",
    "plt.show()"
   ]
  },
  {
   "cell_type": "markdown",
   "id": "947cd35c",
   "metadata": {},
   "source": [
    "Visualize the Women Entrepreneurship Index by country."
   ]
  },
  {
   "cell_type": "code",
   "execution_count": null,
   "id": "943e0b1a",
   "metadata": {},
   "outputs": [],
   "source": [
    "sns.barplot(x='Country', y='Women Entrepreneurship Index', data=df)\n",
    "plt.show()"
   ]
  },
  {
   "cell_type": "markdown",
   "id": "babc2989",
   "metadata": {},
   "source": [
    "Analyze the relationship between Women Entrepreneurship Index and female participation."
   ]
  },
  {
   "cell_type": "code",
   "execution_count": null,
   "id": "b2e1a48e",
   "metadata": {},
   "outputs": [],
   "source": [
    "sns.scatterplot(x='Women Entrepreneurship Index', y='Female Participation', data=df)\n",
    "plt.show()"
   ]
  },
  {
   "cell_type": "markdown",
   "id": "08eed8e4",
   "metadata": {},
   "source": [
    "Display the Entrepreneurship Index by country."
   ]
  },
  {
   "cell_type": "code",
   "execution_count": null,
   "id": "4f5fe64f",
   "metadata": {},
   "outputs": [],
   "source": [
    "sns.barplot(x='Country', y='Entrepreneurship Index', data=df)\n",
    "plt.show()"
   ]
  },
  {
   "cell_type": "markdown",
   "id": "5f39235e",
   "metadata": {},
   "source": [
    "Investigate the relationship between Entrepreneurship Index and Women Entrepreneurship Index."
   ]
  },
  {
   "cell_type": "code",
   "execution_count": null,
   "id": "ec7e68c7",
   "metadata": {},
   "outputs": [],
   "source": [
    "sns.scatterplot(x='Entrepreneurship Index', y='Women Entrepreneurship Index', data=df)\n",
    "plt.show()"
   ]
  },
  {
   "cell_type": "markdown",
   "id": "cf429de3",
   "metadata": {},
   "source": [
    "Visualize the inflation rate by country."
   ]
  },
  {
   "cell_type": "code",
   "execution_count": null,
   "id": "78e8ee57",
   "metadata": {},
   "outputs": [],
   "source": [
    "sns.barplot(x='Country', y='Inflation Rate', data=df)\n",
    "plt.show()"
   ]
  },
  {
   "cell_type": "markdown",
   "id": "8fb5e5f3",
   "metadata": {},
   "source": [
    "Examine the relationship between inflation rate and female participation."
   ]
  },
  {
   "cell_type": "code",
   "execution_count": null,
   "id": "fe19719a",
   "metadata": {},
   "outputs": [],
   "source": [
    "sns.scatterplot(x='Inflation Rate', y='Female Participation', data=df)\n",
    "plt.show()"
   ]
  }
 ],
 "metadata": {
  "kernelspec": {
   "display_name": "Python 3",
   "language": "python",
   "name": "python3"
  },
  "language_info": {
   "codemirror_mode": {
    "name": "ipython",
    "version": 3
   },
   "file_extension": ".py",
   "mimetype": "text/x-python",
   "name": "python",
   "nbconvert_exporter": "python",
   "pygments_lexer": "ipython3",
   "version": "3.8.5"
  }
 },
 "nbformat": 4,
 "nbformat_minor": 5
}
