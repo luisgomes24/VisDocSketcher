{
 "cells": [
  {
   "cell_type": "markdown",
   "id": "a85b23c6",
   "metadata": {},
   "source": [
    "Load data from a CSV file into a DataFrame."
   ]
  },
  {
   "cell_type": "code",
   "execution_count": null,
   "id": "417fe9d3",
   "metadata": {},
   "outputs": [],
   "source": [
    "import pandas as pd\n",
    "\n",
    "data = pd.read_csv('data.csv')"
   ]
  },
  {
   "cell_type": "markdown",
   "id": "3d1f0fd6",
   "metadata": {},
   "source": [
    "Explore the data by checking its structure and data types."
   ]
  },
  {
   "cell_type": "code",
   "execution_count": null,
   "id": "ea9784b1",
   "metadata": {},
   "outputs": [],
   "source": [
    "data.info()"
   ]
  },
  {
   "cell_type": "markdown",
   "id": "3acf9b67",
   "metadata": {},
   "source": [
    "Check for missing values in the dataset."
   ]
  },
  {
   "cell_type": "code",
   "execution_count": null,
   "id": "5c7bbc24",
   "metadata": {},
   "outputs": [],
   "source": [
    "missing_values = data.isnull().sum()"
   ]
  },
  {
   "cell_type": "markdown",
   "id": "7b74abc5",
   "metadata": {},
   "source": [
    "Perform data manipulation by removing rows with missing values."
   ]
  },
  {
   "cell_type": "code",
   "execution_count": null,
   "id": "8e8ef2da",
   "metadata": {},
   "outputs": [],
   "source": [
    "data = data.dropna()"
   ]
  },
  {
   "cell_type": "markdown",
   "id": "cd6e2f03",
   "metadata": {},
   "source": [
    "Visualize the total number of accidents."
   ]
  },
  {
   "cell_type": "code",
   "execution_count": null,
   "id": "2923ca1b",
   "metadata": {},
   "outputs": [],
   "source": [
    "import matplotlib.pyplot as plt\n",
    "\n",
    "plt.hist(data['accidents'])\n",
    "plt.title('Total Accidents')\n",
    "plt.show()"
   ]
  },
  {
   "cell_type": "markdown",
   "id": "c67f493b",
   "metadata": {},
   "source": [
    "Analyze military vs passenger flights by filtering the data."
   ]
  },
  {
   "cell_type": "code",
   "execution_count": null,
   "id": "78cfb306",
   "metadata": {},
   "outputs": [],
   "source": [
    "military_flights = data[data['type'] == 'Military']\n",
    "passenger_flights = data[data['type'] == 'Passenger']"
   ]
  },
  {
   "cell_type": "markdown",
   "id": "1eef1c60",
   "metadata": {},
   "source": [
    "Calculate the total number of fatalities."
   ]
  },
  {
   "cell_type": "code",
   "execution_count": null,
   "id": "f3aa3b5b",
   "metadata": {},
   "outputs": [],
   "source": [
    "total_fatalities = data['fatalities'].sum()"
   ]
  },
  {
   "cell_type": "markdown",
   "id": "46c066b6",
   "metadata": {},
   "source": [
    "Calculate fatalities ratio by year."
   ]
  },
  {
   "cell_type": "code",
   "execution_count": null,
   "id": "473051c5",
   "metadata": {},
   "outputs": [],
   "source": [
    "fatalities_by_year = data.groupby('year')['fatalities'].sum()"
   ]
  },
  {
   "cell_type": "markdown",
   "id": "893f9bb8",
   "metadata": {},
   "source": [
    "Clean up passenger data by removing duplicates."
   ]
  },
  {
   "cell_type": "code",
   "execution_count": null,
   "id": "26f3d316",
   "metadata": {},
   "outputs": [],
   "source": [
    "data_cleaned = data.drop_duplicates()"
   ]
  },
  {
   "cell_type": "markdown",
   "id": "443c702f",
   "metadata": {},
   "source": [
    "Visualize the relationship between fatalities and ratio."
   ]
  },
  {
   "cell_type": "code",
   "execution_count": null,
   "id": "79a5e51d",
   "metadata": {},
   "outputs": [],
   "source": [
    "plt.scatter(data['fatalities'], data['ratio'])\n",
    "plt.title('Fatalities vs Ratio')\n",
    "plt.show()"
   ]
  },
  {
   "cell_type": "markdown",
   "id": "2efc3270",
   "metadata": {},
   "source": [
    "Analyze the data based on different operators."
   ]
  },
  {
   "cell_type": "code",
   "execution_count": null,
   "id": "30dfd84b",
   "metadata": {},
   "outputs": [],
   "source": [
    "operators_analysis = data.groupby('operator').size()"
   ]
  },
  {
   "cell_type": "markdown",
   "id": "64d3bbea",
   "metadata": {},
   "source": [
    "Generate a word cloud based on operator names."
   ]
  },
  {
   "cell_type": "code",
   "execution_count": null,
   "id": "6dc7382a",
   "metadata": {},
   "outputs": [],
   "source": [
    "from wordcloud import WordCloud\n",
    "wordcloud = WordCloud().generate(' '.join(data['operator']))\n",
    "plt.imshow(wordcloud, interpolation='bilinear')\n",
    "plt.axis('off')\n",
    "plt.show()"
   ]
  },
  {
   "cell_type": "markdown",
   "id": "30541eff",
   "metadata": {},
   "source": [
    "Perform analysis specific to Aeroflot."
   ]
  },
  {
   "cell_type": "code",
   "execution_count": null,
   "id": "8d05ca27",
   "metadata": {},
   "outputs": [],
   "source": [
    "aeroflot_data = data[data['operator'] == 'Aeroflot']"
   ]
  },
  {
   "cell_type": "markdown",
   "id": "5267a72f",
   "metadata": {},
   "source": [
    "Count accidents for Aeroflot over the years."
   ]
  },
  {
   "cell_type": "code",
   "execution_count": null,
   "id": "4b16f40c",
   "metadata": {},
   "outputs": [],
   "source": [
    "accidents_count = aeroflot_data['year'].value_counts()"
   ]
  },
  {
   "cell_type": "markdown",
   "id": "bf742d0b",
   "metadata": {},
   "source": [
    "Output the conclusion after completing the analysis."
   ]
  },
  {
   "cell_type": "code",
   "execution_count": null,
   "id": "4f79c70a",
   "metadata": {},
   "outputs": [],
   "source": [
    "print('Conclusion: Analysis complete.')"
   ]
  }
 ],
 "metadata": {
  "kernelspec": {
   "display_name": "Python 3",
   "language": "python",
   "name": "python3"
  },
  "language_info": {
   "codemirror_mode": {
    "name": "ipython",
    "version": 3
   },
   "file_extension": ".py",
   "mimetype": "text/x-python",
   "name": "python",
   "nbconvert_exporter": "python",
   "pygments_lexer": "ipython3",
   "version": "3.8.5"
  }
 },
 "nbformat": 4,
 "nbformat_minor": 5
}
