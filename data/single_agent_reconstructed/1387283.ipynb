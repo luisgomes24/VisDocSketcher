{
 "cells": [
  {
   "cell_type": "markdown",
   "id": "77539cc8",
   "metadata": {},
   "source": [
    "Load the dataset from a CSV file using pandas."
   ]
  },
  {
   "cell_type": "code",
   "execution_count": null,
   "id": "729a7f6d",
   "metadata": {},
   "outputs": [],
   "source": [
    "import pandas as pd\n",
    "\n",
    "data = pd.read_csv('rodent-inspection.csv')"
   ]
  },
  {
   "cell_type": "markdown",
   "id": "dd458ead",
   "metadata": {},
   "source": [
    "Explore and print the shape of the dataset to understand its dimensions."
   ]
  },
  {
   "cell_type": "code",
   "execution_count": null,
   "id": "130cb647",
   "metadata": {},
   "outputs": [],
   "source": [
    "data_shape = data.shape\n",
    "print(data_shape)"
   ]
  },
  {
   "cell_type": "markdown",
   "id": "9fff215f",
   "metadata": {},
   "source": [
    "Create a histogram for a specific column to visualize its distribution."
   ]
  },
  {
   "cell_type": "code",
   "execution_count": null,
   "id": "6b0eee6f",
   "metadata": {},
   "outputs": [],
   "source": [
    "import matplotlib.pyplot as plt\n",
    "\n",
    "plt.hist(data['column_name'], bins=10)\n",
    "plt.title('Histogram of Columns')\n",
    "plt.xlabel('Value Range')\n",
    "plt.ylabel('Frequency')\n",
    "plt.show()"
   ]
  },
  {
   "cell_type": "markdown",
   "id": "aa740ffb",
   "metadata": {},
   "source": [
    "Calculate and visualize the correlation matrix using seaborn."
   ]
  },
  {
   "cell_type": "code",
   "execution_count": null,
   "id": "9a965d2e",
   "metadata": {},
   "outputs": [],
   "source": [
    "correlation_matrix = data.corr()\n",
    "import seaborn as sns\n",
    "sns.heatmap(correlation_matrix, annot=True)\n",
    "plt.title('Correlation Matrix')\n",
    "plt.show()"
   ]
  },
  {
   "cell_type": "markdown",
   "id": "b2d6cb2e",
   "metadata": {},
   "source": [
    "Create scatter plots to analyze the relationship between two variables."
   ]
  },
  {
   "cell_type": "code",
   "execution_count": null,
   "id": "64822961",
   "metadata": {},
   "outputs": [],
   "source": [
    "sns.scatterplot(x='x_column', y='y_column', data=data)\n",
    "plt.title('Scatter Plot')\n",
    "plt.show()"
   ]
  },
  {
   "cell_type": "markdown",
   "id": "f86d791d",
   "metadata": {},
   "source": [
    "Generate a density plot to visualize the distribution of data points."
   ]
  },
  {
   "cell_type": "code",
   "execution_count": null,
   "id": "de7b9cca",
   "metadata": {},
   "outputs": [],
   "source": [
    "sns.kdeplot(data['column_name'])\n",
    "plt.title('Density Plot')\n",
    "plt.show()"
   ]
  },
  {
   "cell_type": "markdown",
   "id": "06e5a8d8",
   "metadata": {},
   "source": [
    "Perform PCA and plot the results to visualize reduced dimensions."
   ]
  },
  {
   "cell_type": "code",
   "execution_count": null,
   "id": "2b308df3",
   "metadata": {},
   "outputs": [],
   "source": [
    "from sklearn.decomposition import PCA\n",
    "from sklearn.preprocessing import StandardScaler\n",
    "\n",
    "scaled_data = StandardScaler().fit_transform(data)\n",
    "pca = PCA(n_components=2)\n",
    "pca_result = pca.fit_transform(scaled_data)\n",
    "plt.plot(pca_result)\n",
    "plt.title('PCA Plots')\n",
    "plt.show()"
   ]
  }
 ],
 "metadata": {
  "kernelspec": {
   "display_name": "Python 3",
   "language": "python",
   "name": "python3"
  },
  "language_info": {
   "codemirror_mode": {
    "name": "ipython",
    "version": 3
   },
   "file_extension": ".py",
   "mimetype": "text/x-python",
   "name": "python",
   "nbconvert_exporter": "python",
   "pygments_lexer": "ipython3",
   "version": "3.8.5"
  }
 },
 "nbformat": 4,
 "nbformat_minor": 5
}
