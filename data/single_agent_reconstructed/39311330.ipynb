{
 "cells": [
  {
   "cell_type": "markdown",
   "id": "8d515701",
   "metadata": {},
   "source": [
    "Load the dataset from a CSV file into a pandas DataFrame."
   ]
  },
  {
   "cell_type": "code",
   "execution_count": null,
   "id": "3138c7b3",
   "metadata": {},
   "outputs": [],
   "source": [
    "import pandas as pd\n",
    "data = pd.read_csv('starbucks.csv')"
   ]
  },
  {
   "cell_type": "markdown",
   "id": "78454685",
   "metadata": {},
   "source": [
    "Visualize the distribution of calorie values using a histogram."
   ]
  },
  {
   "cell_type": "code",
   "execution_count": null,
   "id": "859d172e",
   "metadata": {},
   "outputs": [],
   "source": [
    "import seaborn as sns\n",
    "import matplotlib.pyplot as plt\n",
    "sns.histplot(data['calories'], bins=20)\n",
    "plt.title('Distribution of Calories')\n",
    "plt.show()"
   ]
  },
  {
   "cell_type": "markdown",
   "id": "0c26f96c",
   "metadata": {},
   "source": [
    "Create a box plot to visualize calories grouped by beverage type."
   ]
  },
  {
   "cell_type": "code",
   "execution_count": null,
   "id": "fe014218",
   "metadata": {},
   "outputs": [],
   "source": [
    "sns.boxplot(x='type', y='calories', data=data)\n",
    "plt.title('Calories by Type')\n",
    "plt.show()"
   ]
  },
  {
   "cell_type": "markdown",
   "id": "726e12c9",
   "metadata": {},
   "source": [
    "Display the correlation matrix using a heatmap to identify relationships between features."
   ]
  },
  {
   "cell_type": "code",
   "execution_count": null,
   "id": "45e943ba",
   "metadata": {},
   "outputs": [],
   "source": [
    "correlation_matrix = data.corr()\n",
    "sns.heatmap(correlation_matrix, annot=True)\n",
    "plt.title('Correlation Matrix')\n",
    "plt.show()"
   ]
  },
  {
   "cell_type": "markdown",
   "id": "f4c1795a",
   "metadata": {},
   "source": [
    "Split the data into training and testing sets, with 20% reserved for testing."
   ]
  },
  {
   "cell_type": "code",
   "execution_count": null,
   "id": "89897110",
   "metadata": {},
   "outputs": [],
   "source": [
    "from sklearn.model_selection import train_test_split\n",
    "X = data.drop('calories', axis=1)\n",
    "y = data['calories']\n",
    "X_train, X_test, y_train, y_test = train_test_split(X, y, test_size=0.2, random_state=42)"
   ]
  },
  {
   "cell_type": "markdown",
   "id": "a30c6720",
   "metadata": {},
   "source": [
    "Initialize a linear regression model for training."
   ]
  },
  {
   "cell_type": "code",
   "execution_count": null,
   "id": "31039a68",
   "metadata": {},
   "outputs": [],
   "source": [
    "from sklearn.linear_model import LinearRegression\n",
    "model = LinearRegression()"
   ]
  },
  {
   "cell_type": "markdown",
   "id": "05031d17",
   "metadata": {},
   "source": [
    "Train the model using the training data."
   ]
  },
  {
   "cell_type": "code",
   "execution_count": null,
   "id": "47cb1148",
   "metadata": {},
   "outputs": [],
   "source": [
    "model.fit(X_train, y_train)"
   ]
  },
  {
   "cell_type": "markdown",
   "id": "8be75245",
   "metadata": {},
   "source": [
    "Evaluate the model using MSE, RMSE, and MAE to assess performance."
   ]
  },
  {
   "cell_type": "code",
   "execution_count": null,
   "id": "34fac4aa",
   "metadata": {},
   "outputs": [],
   "source": [
    "from sklearn.metrics import mean_squared_error, mean_absolute_error\n",
    "predictions = model.predict(X_test)\n",
    "mse = mean_squared_error(y_test, predictions)\n",
    "rmse = mse ** 0.5\n",
    "mae = mean_absolute_error(y_test, predictions)"
   ]
  }
 ],
 "metadata": {
  "kernelspec": {
   "display_name": "Python 3",
   "language": "python",
   "name": "python3"
  },
  "language_info": {
   "codemirror_mode": {
    "name": "ipython",
    "version": 3
   },
   "file_extension": ".py",
   "mimetype": "text/x-python",
   "name": "python",
   "nbconvert_exporter": "python",
   "pygments_lexer": "ipython3",
   "version": "3.8.5"
  }
 },
 "nbformat": 4,
 "nbformat_minor": 5
}
