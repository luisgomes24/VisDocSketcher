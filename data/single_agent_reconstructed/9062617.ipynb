{
 "cells": [
  {
   "cell_type": "markdown",
   "id": "fe1d3c51",
   "metadata": {},
   "source": [
    "Load the training data from a CSV file."
   ]
  },
  {
   "cell_type": "code",
   "execution_count": null,
   "id": "71e0e3f0",
   "metadata": {},
   "outputs": [],
   "source": [
    "import pandas as pd\n",
    "train_data = pd.read_csv('train_data.csv')"
   ]
  },
  {
   "cell_type": "markdown",
   "id": "c5117bd6",
   "metadata": {},
   "source": [
    "Profile the training data to generate a report."
   ]
  },
  {
   "cell_type": "code",
   "execution_count": null,
   "id": "9b079131",
   "metadata": {},
   "outputs": [],
   "source": [
    "from pandas_profiling import ProfileReport\n",
    "train_profile = ProfileReport(train_data)"
   ]
  },
  {
   "cell_type": "markdown",
   "id": "7a219dbc",
   "metadata": {},
   "source": [
    "Save the training profile report as an HTML file."
   ]
  },
  {
   "cell_type": "code",
   "execution_count": null,
   "id": "9949035f",
   "metadata": {},
   "outputs": [],
   "source": [
    "train_profile.to_file('train_profile_report.html')"
   ]
  },
  {
   "cell_type": "markdown",
   "id": "a8c96f7e",
   "metadata": {},
   "source": [
    "Display the training profile report in a notebook."
   ]
  },
  {
   "cell_type": "code",
   "execution_count": null,
   "id": "238de6e9",
   "metadata": {},
   "outputs": [],
   "source": [
    "train_profile.to_notebook_iframe()"
   ]
  },
  {
   "cell_type": "markdown",
   "id": "4c7591cd",
   "metadata": {},
   "source": [
    "Load the test data from a CSV file."
   ]
  },
  {
   "cell_type": "code",
   "execution_count": null,
   "id": "ba2ba5f8",
   "metadata": {},
   "outputs": [],
   "source": [
    "test_data = pd.read_csv('test_data.csv')"
   ]
  },
  {
   "cell_type": "markdown",
   "id": "6b9ba004",
   "metadata": {},
   "source": [
    "Profile the test data to generate a report."
   ]
  },
  {
   "cell_type": "code",
   "execution_count": null,
   "id": "f8d32afb",
   "metadata": {},
   "outputs": [],
   "source": [
    "test_profile = ProfileReport(test_data)"
   ]
  },
  {
   "cell_type": "markdown",
   "id": "ac71c6bb",
   "metadata": {},
   "source": [
    "Save the test profile report as an HTML file."
   ]
  },
  {
   "cell_type": "code",
   "execution_count": null,
   "id": "d609176b",
   "metadata": {},
   "outputs": [],
   "source": [
    "test_profile.to_file('test_profile_report.html')"
   ]
  },
  {
   "cell_type": "markdown",
   "id": "81b31f7f",
   "metadata": {},
   "source": [
    "Display the test profile report in a notebook."
   ]
  },
  {
   "cell_type": "code",
   "execution_count": null,
   "id": "7ade9375",
   "metadata": {},
   "outputs": [],
   "source": [
    "test_profile.to_notebook_iframe()"
   ]
  }
 ],
 "metadata": {
  "kernelspec": {
   "display_name": "Python 3",
   "language": "python",
   "name": "python3"
  },
  "language_info": {
   "codemirror_mode": {
    "name": "ipython",
    "version": 3
   },
   "file_extension": ".py",
   "mimetype": "text/x-python",
   "name": "python",
   "nbconvert_exporter": "python",
   "pygments_lexer": "ipython3",
   "version": "3.8.5"
  }
 },
 "nbformat": 4,
 "nbformat_minor": 5
}
