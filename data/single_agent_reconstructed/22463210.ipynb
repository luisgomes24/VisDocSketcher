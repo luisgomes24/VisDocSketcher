{
 "cells": [
  {
   "cell_type": "markdown",
   "id": "6a623cce",
   "metadata": {},
   "source": [
    "Load the dataset from a CSV file into a DataFrame."
   ]
  },
  {
   "cell_type": "code",
   "execution_count": null,
   "id": "f8276b0b",
   "metadata": {},
   "outputs": [],
   "source": [
    "import pandas as pd\n",
    "df = pd.read_csv('dataset.csv')"
   ]
  },
  {
   "cell_type": "markdown",
   "id": "5ca05b1d",
   "metadata": {},
   "source": [
    "Display an overview of the dataset with sample data and statistics."
   ]
  },
  {
   "cell_type": "code",
   "execution_count": null,
   "id": "f1ec81c4",
   "metadata": {},
   "outputs": [],
   "source": [
    "print(df.head())\n",
    "print(df.describe())"
   ]
  },
  {
   "cell_type": "markdown",
   "id": "b874eb38",
   "metadata": {},
   "source": [
    "Find the top 10 most popular game publishers based on counts."
   ]
  },
  {
   "cell_type": "code",
   "execution_count": null,
   "id": "0c91ed72",
   "metadata": {},
   "outputs": [],
   "source": [
    "popular_publishers = df['Publisher'].value_counts().head(10)"
   ]
  },
  {
   "cell_type": "markdown",
   "id": "34bbf5db",
   "metadata": {},
   "source": [
    "Identify the top 10 most popular game developers."
   ]
  },
  {
   "cell_type": "code",
   "execution_count": null,
   "id": "bb3e3d0b",
   "metadata": {},
   "outputs": [],
   "source": [
    "popular_developers = df['Developer'].value_counts().head(10)"
   ]
  },
  {
   "cell_type": "markdown",
   "id": "32f218a9",
   "metadata": {},
   "source": [
    "Analyze the distribution of games by release year."
   ]
  },
  {
   "cell_type": "code",
   "execution_count": null,
   "id": "4dc693b5",
   "metadata": {},
   "outputs": [],
   "source": [
    "release_year_distribution = df['Release_Year'].value_counts().sort_index()"
   ]
  },
  {
   "cell_type": "markdown",
   "id": "cfdc321e",
   "metadata": {},
   "source": [
    "Convert release dates to datetime and analyze their distribution over the years."
   ]
  },
  {
   "cell_type": "code",
   "execution_count": null,
   "id": "275f64fb",
   "metadata": {},
   "outputs": [],
   "source": [
    "df['Release_Date'] = pd.to_datetime(df['Release_Date'])\n",
    "rdate_analysis = df['Release_Date'].dt.year.value_counts()"
   ]
  },
  {
   "cell_type": "markdown",
   "id": "29c0beed",
   "metadata": {},
   "source": [
    "Determine the top 10 most popular game genres."
   ]
  },
  {
   "cell_type": "code",
   "execution_count": null,
   "id": "11e561ef",
   "metadata": {},
   "outputs": [],
   "source": [
    "popular_genres = df['Genre'].value_counts().head(10)"
   ]
  },
  {
   "cell_type": "markdown",
   "id": "61ad1d12",
   "metadata": {},
   "source": [
    "Find the 10 games with the largest file sizes."
   ]
  },
  {
   "cell_type": "code",
   "execution_count": null,
   "id": "be22b0ac",
   "metadata": {},
   "outputs": [],
   "source": [
    "largest_game_sizes = df['Size_MBs'].nlargest(10)"
   ]
  },
  {
   "cell_type": "markdown",
   "id": "9ab1b2fd",
   "metadata": {},
   "source": [
    "Summarize the game completion times using descriptive statistics."
   ]
  },
  {
   "cell_type": "code",
   "execution_count": null,
   "id": "db469a5f",
   "metadata": {},
   "outputs": [],
   "source": [
    "completion_times = df['Completion_Time'].describe()"
   ]
  },
  {
   "cell_type": "markdown",
   "id": "b1f7a433",
   "metadata": {},
   "source": [
    "Compile all insights into a summary dictionary."
   ]
  },
  {
   "cell_type": "code",
   "execution_count": null,
   "id": "c428ce89",
   "metadata": {},
   "outputs": [],
   "source": [
    "summary = {\n",
    "    'Most Popular Publishers': popular_publishers,\n",
    "    'Most Popular Developers': popular_developers,\n",
    "    'Release Year Distribution': release_year_distribution,\n",
    "    'Release Date Analysis': rdate_analysis,\n",
    "    'Most Popular Genres': popular_genres,\n",
    "    'Largest Game Sizes': largest_game_sizes,\n",
    "    'Game Completion Times': completion_times\n",
    "}"
   ]
  }
 ],
 "metadata": {
  "kernelspec": {
   "display_name": "Python 3",
   "language": "python",
   "name": "python3"
  },
  "language_info": {
   "codemirror_mode": {
    "name": "ipython",
    "version": 3
   },
   "file_extension": ".py",
   "mimetype": "text/x-python",
   "name": "python",
   "nbconvert_exporter": "python",
   "pygments_lexer": "ipython3",
   "version": "3.8.5"
  }
 },
 "nbformat": 4,
 "nbformat_minor": 5
}
