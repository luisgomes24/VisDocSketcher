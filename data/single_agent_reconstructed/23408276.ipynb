{
 "cells": [
  {
   "cell_type": "markdown",
   "id": "fa1835c5",
   "metadata": {},
   "source": [
    "Load the dataset using pandas."
   ]
  },
  {
   "cell_type": "code",
   "execution_count": null,
   "id": "a5557fa2",
   "metadata": {},
   "outputs": [],
   "source": [
    "import pandas as pd\n",
    "df = pd.read_csv('data.csv')"
   ]
  },
  {
   "cell_type": "markdown",
   "id": "5110cd9a",
   "metadata": {},
   "source": [
    "Drop unnecessary columns from the DataFrame."
   ]
  },
  {
   "cell_type": "code",
   "execution_count": null,
   "id": "cef24144",
   "metadata": {},
   "outputs": [],
   "source": [
    "df.drop(columns=['unnecessary_column1', 'unnecessary_column2'], inplace=True)"
   ]
  },
  {
   "cell_type": "markdown",
   "id": "72e790f1",
   "metadata": {},
   "source": [
    "Rename columns for better clarity."
   ]
  },
  {
   "cell_type": "code",
   "execution_count": null,
   "id": "bb1bf16e",
   "metadata": {},
   "outputs": [],
   "source": [
    "df.rename(columns={'old_name': 'new_name'}, inplace=True)"
   ]
  },
  {
   "cell_type": "markdown",
   "id": "b18a8b78",
   "metadata": {},
   "source": [
    "Identify sentiment using a custom function."
   ]
  },
  {
   "cell_type": "code",
   "execution_count": null,
   "id": "cb7b65b1",
   "metadata": {},
   "outputs": [],
   "source": [
    "df['sentiment'] = df['text'].apply(analyze_sentiment)"
   ]
  },
  {
   "cell_type": "markdown",
   "id": "1cef10de",
   "metadata": {},
   "source": [
    "Visualize the class distribution in the dataset."
   ]
  },
  {
   "cell_type": "code",
   "execution_count": null,
   "id": "af104c17",
   "metadata": {},
   "outputs": [],
   "source": [
    "df['sentiment'].value_counts().plot(kind='bar')"
   ]
  },
  {
   "cell_type": "markdown",
   "id": "806ec261",
   "metadata": {},
   "source": [
    "Plot the sentiment distribution."
   ]
  },
  {
   "cell_type": "code",
   "execution_count": null,
   "id": "2db2efea",
   "metadata": {},
   "outputs": [],
   "source": [
    "import seaborn as sns\n",
    "sns.countplot(x='sentiment', data=df)"
   ]
  },
  {
   "cell_type": "markdown",
   "id": "a7512dd8",
   "metadata": {},
   "source": [
    "Prepare features and labels for modeling."
   ]
  },
  {
   "cell_type": "code",
   "execution_count": null,
   "id": "9188211a",
   "metadata": {},
   "outputs": [],
   "source": [
    "X = df['text']\n",
    "y = df['sentiment']"
   ]
  },
  {
   "cell_type": "markdown",
   "id": "2dc3abdd",
   "metadata": {},
   "source": [
    "Vectorize the text data for model training."
   ]
  },
  {
   "cell_type": "code",
   "execution_count": null,
   "id": "0a453700",
   "metadata": {},
   "outputs": [],
   "source": [
    "from sklearn.feature_extraction.text import CountVectorizer\n",
    "vectorizer = CountVectorizer()\n",
    "X_vectorized = vectorizer.fit_transform(X)"
   ]
  },
  {
   "cell_type": "markdown",
   "id": "d0487678",
   "metadata": {},
   "source": [
    "Split the data into training and testing sets."
   ]
  },
  {
   "cell_type": "code",
   "execution_count": null,
   "id": "6fefd421",
   "metadata": {},
   "outputs": [],
   "source": [
    "from sklearn.model_selection import train_test_split\n",
    "X_train, X_test, y_train, y_test = train_test_split(X_vectorized, y, test_size=0.2)"
   ]
  },
  {
   "cell_type": "markdown",
   "id": "d683bb9e",
   "metadata": {},
   "source": [
    "Train a machine learning model."
   ]
  },
  {
   "cell_type": "code",
   "execution_count": null,
   "id": "d6b611d6",
   "metadata": {},
   "outputs": [],
   "source": [
    "from sklearn.ensemble import RandomForestClassifier\n",
    "model = RandomForestClassifier()\n",
    "model.fit(X_train, y_train)"
   ]
  },
  {
   "cell_type": "markdown",
   "id": "412979ea",
   "metadata": {},
   "source": [
    "Compute model accuracy and confusion matrix."
   ]
  },
  {
   "cell_type": "code",
   "execution_count": null,
   "id": "06e8dbed",
   "metadata": {},
   "outputs": [],
   "source": [
    "from sklearn.metrics import accuracy_score, confusion_matrix\n",
    "predictions = model.predict(X_test)\n",
    "accuracy = accuracy_score(y_test, predictions)\n",
    "conf_matrix = confusion_matrix(y_test, predictions)"
   ]
  },
  {
   "cell_type": "markdown",
   "id": "0e648983",
   "metadata": {},
   "source": [
    "Visualize the confusion matrix."
   ]
  },
  {
   "cell_type": "code",
   "execution_count": null,
   "id": "0db41933",
   "metadata": {},
   "outputs": [],
   "source": [
    "import matplotlib.pyplot as plt\n",
    "sns.heatmap(conf_matrix, annot=True, fmt='d')"
   ]
  },
  {
   "cell_type": "markdown",
   "id": "73d8de6d",
   "metadata": {},
   "source": [
    "Define a function for making predictions on new data."
   ]
  },
  {
   "cell_type": "code",
   "execution_count": null,
   "id": "e5f62cce",
   "metadata": {},
   "outputs": [],
   "source": [
    "def make_inference(text):\n",
    "    vectorized_text = vectorizer.transform([text])\n",
    "    return model.predict(vectorized_text)"
   ]
  }
 ],
 "metadata": {
  "kernelspec": {
   "display_name": "Python 3",
   "language": "python",
   "name": "python3"
  },
  "language_info": {
   "codemirror_mode": {
    "name": "ipython",
    "version": 3
   },
   "file_extension": ".py",
   "mimetype": "text/x-python",
   "name": "python",
   "nbconvert_exporter": "python",
   "pygments_lexer": "ipython3",
   "version": "3.8.5"
  }
 },
 "nbformat": 4,
 "nbformat_minor": 5
}
