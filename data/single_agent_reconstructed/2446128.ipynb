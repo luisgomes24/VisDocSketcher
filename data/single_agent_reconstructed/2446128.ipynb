{
 "cells": [
  {
   "cell_type": "markdown",
   "id": "174d80a6",
   "metadata": {},
   "source": [
    "Load the dataset from a CSV file using pandas."
   ]
  },
  {
   "cell_type": "code",
   "execution_count": null,
   "id": "4717d93c",
   "metadata": {},
   "outputs": [],
   "source": [
    "import pandas as pd\n",
    "\n",
    "data = pd.read_csv('data.csv')"
   ]
  },
  {
   "cell_type": "markdown",
   "id": "8cc4ecb5",
   "metadata": {},
   "source": [
    "Perform exploratory data analysis (EDA) with pair plots."
   ]
  },
  {
   "cell_type": "code",
   "execution_count": null,
   "id": "0ffa4109",
   "metadata": {},
   "outputs": [],
   "source": [
    "import seaborn as sns\n",
    "import matplotlib.pyplot as plt\n",
    "sns.pairplot(data)\n",
    "plt.show()"
   ]
  },
  {
   "cell_type": "markdown",
   "id": "3711a019",
   "metadata": {},
   "source": [
    "Split the dataset into training and testing sets."
   ]
  },
  {
   "cell_type": "code",
   "execution_count": null,
   "id": "c706c732",
   "metadata": {},
   "outputs": [],
   "source": [
    "from sklearn.model_selection import train_test_split\n",
    "train, test = train_test_split(data, test_size=0.2)"
   ]
  },
  {
   "cell_type": "markdown",
   "id": "95d591ae",
   "metadata": {},
   "source": [
    "Preprocess data by standardizing features."
   ]
  },
  {
   "cell_type": "code",
   "execution_count": null,
   "id": "2857f4d5",
   "metadata": {},
   "outputs": [],
   "source": [
    "from sklearn.preprocessing import StandardScaler\n",
    "scaler = StandardScaler()\n",
    "train_scaled = scaler.fit_transform(train)\n",
    "test_scaled = scaler.transform(test)"
   ]
  },
  {
   "cell_type": "markdown",
   "id": "be71922f",
   "metadata": {},
   "source": [
    "Create a DataBlock for organizing data."
   ]
  },
  {
   "cell_type": "code",
   "execution_count": null,
   "id": "f8e297b6",
   "metadata": {},
   "outputs": [],
   "source": [
    "from fastai.vision.all import DataBlock, RandomSplitter, Categorify, Normalize\n",
    "\n",
    "db = DataBlock(blocks=(ImageBlock, CategoryBlock),\n",
    "               get_items=get_image_files,\n",
    "               splitter=RandomSplitter(),\n",
    "               get_y=using_attr(RegexLabeller(r'(.+)_\\d+'), 'name'),\n",
    "               item_tfms=Resize(128))"
   ]
  },
  {
   "cell_type": "markdown",
   "id": "5b0f1a7f",
   "metadata": {},
   "source": [
    "Create data loaders from the DataBlock."
   ]
  },
  {
   "cell_type": "code",
   "execution_count": null,
   "id": "d0eca6bc",
   "metadata": {},
   "outputs": [],
   "source": [
    "dls = db.dataloaders(path)"
   ]
  },
  {
   "cell_type": "markdown",
   "id": "76339fcc",
   "metadata": {},
   "source": [
    "Build the model using a pre-trained CNN architecture."
   ]
  },
  {
   "cell_type": "code",
   "execution_count": null,
   "id": "24393c02",
   "metadata": {},
   "outputs": [],
   "source": [
    "from fastai.vision.learner import cnn_learner\n",
    "from fastai.metrics import accuracy\n",
    "\n",
    "learn = cnn_learner(dls, resnet34, metrics=accuracy)"
   ]
  },
  {
   "cell_type": "markdown",
   "id": "be997349",
   "metadata": {},
   "source": [
    "Fine-tune the model with a few epochs."
   ]
  },
  {
   "cell_type": "code",
   "execution_count": null,
   "id": "5a9d214c",
   "metadata": {},
   "outputs": [],
   "source": [
    "learn.fine_tune(5)"
   ]
  },
  {
   "cell_type": "markdown",
   "id": "09cf60ec",
   "metadata": {},
   "source": [
    "Save the trained model to a file."
   ]
  },
  {
   "cell_type": "code",
   "execution_count": null,
   "id": "bf547a6e",
   "metadata": {},
   "outputs": [],
   "source": [
    "learn.export('model.pkl')"
   ]
  },
  {
   "cell_type": "markdown",
   "id": "6be4200a",
   "metadata": {},
   "source": [
    "Generate and visualize the confusion matrix."
   ]
  },
  {
   "cell_type": "code",
   "execution_count": null,
   "id": "35b5f4be",
   "metadata": {},
   "outputs": [],
   "source": [
    "from sklearn.metrics import confusion_matrix\n",
    "import seaborn as sns\n",
    "import matplotlib.pyplot as plt\n",
    "\n",
    "preds, truths = learn.get_preds()\n",
    "cm = confusion_matrix(truths, preds)\n",
    "sns.heatmap(cm, annot=True)\n",
    "plt.show()"
   ]
  },
  {
   "cell_type": "markdown",
   "id": "513fb5db",
   "metadata": {},
   "source": [
    "Obtain predictions from the model."
   ]
  },
  {
   "cell_type": "code",
   "execution_count": null,
   "id": "9b4f9bf5",
   "metadata": {},
   "outputs": [],
   "source": [
    "preds = learn.get_preds()"
   ]
  },
  {
   "cell_type": "markdown",
   "id": "952fd079",
   "metadata": {},
   "source": [
    "Generate a classification report."
   ]
  },
  {
   "cell_type": "code",
   "execution_count": null,
   "id": "3b64a930",
   "metadata": {},
   "outputs": [],
   "source": [
    "from sklearn.metrics import classification_report\n",
    "\n",
    "report = classification_report(truths, preds)\n",
    "print(report)"
   ]
  },
  {
   "cell_type": "markdown",
   "id": "71192f26",
   "metadata": {},
   "source": [
    "Display the results of predictions visually."
   ]
  },
  {
   "cell_type": "code",
   "execution_count": null,
   "id": "ee279d75",
   "metadata": {},
   "outputs": [],
   "source": [
    "import matplotlib.pyplot as plt\n",
    "\n",
    "plt.imshow(image)\n",
    "plt.title('Predictions')\n",
    "plt.show()"
   ]
  }
 ],
 "metadata": {
  "kernelspec": {
   "display_name": "Python 3",
   "language": "python",
   "name": "python3"
  },
  "language_info": {
   "codemirror_mode": {
    "name": "ipython",
    "version": 3
   },
   "file_extension": ".py",
   "mimetype": "text/x-python",
   "name": "python",
   "nbconvert_exporter": "python",
   "pygments_lexer": "ipython3",
   "version": "3.8.5"
  }
 },
 "nbformat": 4,
 "nbformat_minor": 5
}
