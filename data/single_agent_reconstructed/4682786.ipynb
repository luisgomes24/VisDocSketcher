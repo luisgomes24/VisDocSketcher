{
 "cells": [
  {
   "cell_type": "markdown",
   "id": "024a532c",
   "metadata": {},
   "source": [
    "Load the dataset from a CSV file into a pandas DataFrame."
   ]
  },
  {
   "cell_type": "code",
   "execution_count": null,
   "id": "e956a299",
   "metadata": {},
   "outputs": [],
   "source": [
    "import pandas as pd\n",
    "data = pd.read_csv('data.csv')"
   ]
  },
  {
   "cell_type": "markdown",
   "id": "8dc45418",
   "metadata": {},
   "source": [
    "Drop columns that are not needed for the analysis."
   ]
  },
  {
   "cell_type": "code",
   "execution_count": null,
   "id": "1d36bebe",
   "metadata": {},
   "outputs": [],
   "source": [
    "data.drop(columns=['unnecessary_column1', 'unnecessary_column2'], inplace=True)"
   ]
  },
  {
   "cell_type": "markdown",
   "id": "51777524",
   "metadata": {},
   "source": [
    "Split the DataFrame into features (X) and target variable (y)."
   ]
  },
  {
   "cell_type": "code",
   "execution_count": null,
   "id": "c92da0b2",
   "metadata": {},
   "outputs": [],
   "source": [
    "X = data.drop('target_column', axis=1)\n",
    "y = data['target_column']"
   ]
  },
  {
   "cell_type": "markdown",
   "id": "9c82a4b5",
   "metadata": {},
   "source": [
    "Normalize features using standard scaling to improve model performance."
   ]
  },
  {
   "cell_type": "code",
   "execution_count": null,
   "id": "7bc6607e",
   "metadata": {},
   "outputs": [],
   "source": [
    "from sklearn.preprocessing import StandardScaler\n",
    "scaler = StandardScaler()\n",
    "X_scaled = scaler.fit_transform(X)"
   ]
  },
  {
   "cell_type": "markdown",
   "id": "88650eab",
   "metadata": {},
   "source": [
    "Visualize attributes to understand relationships between variables."
   ]
  },
  {
   "cell_type": "code",
   "execution_count": null,
   "id": "2bfb39ee",
   "metadata": {},
   "outputs": [],
   "source": [
    "import seaborn as sns\n",
    "import matplotlib.pyplot as plt\n",
    "sns.pairplot(data)\n",
    "plt.show()"
   ]
  },
  {
   "cell_type": "markdown",
   "id": "6576c879",
   "metadata": {},
   "source": [
    "Split dataset into training and testing sets."
   ]
  },
  {
   "cell_type": "code",
   "execution_count": null,
   "id": "d1da03e0",
   "metadata": {},
   "outputs": [],
   "source": [
    "from sklearn.model_selection import train_test_split\n",
    "X_train, X_test, y_train, y_test = train_test_split(X_scaled, y, test_size=0.2, random_state=42)"
   ]
  },
  {
   "cell_type": "markdown",
   "id": "b7c1b978",
   "metadata": {},
   "source": [
    "Train the model using a Linear Regression algorithm."
   ]
  },
  {
   "cell_type": "code",
   "execution_count": null,
   "id": "644504e9",
   "metadata": {},
   "outputs": [],
   "source": [
    "from sklearn.linear_model import LinearRegression\n",
    "model = LinearRegression()\n",
    "model.fit(X_train, y_train)"
   ]
  },
  {
   "cell_type": "markdown",
   "id": "5142bb59",
   "metadata": {},
   "source": [
    "Make predictions on the test dataset using the trained model."
   ]
  },
  {
   "cell_type": "code",
   "execution_count": null,
   "id": "7ddac98c",
   "metadata": {},
   "outputs": [],
   "source": [
    "predictions = model.predict(X_test)"
   ]
  },
  {
   "cell_type": "markdown",
   "id": "7f6ae5e6",
   "metadata": {},
   "source": [
    "Visualize predictions to assess how well the model performed."
   ]
  },
  {
   "cell_type": "code",
   "execution_count": null,
   "id": "737762d8",
   "metadata": {},
   "outputs": [],
   "source": [
    "plt.scatter(y_test, predictions)\n",
    "plt.xlabel('Actual Values')\n",
    "plt.ylabel('Predicted Values')\n",
    "plt.title('Predictions vs Actual')\n",
    "plt.show()"
   ]
  },
  {
   "cell_type": "markdown",
   "id": "547b5bdb",
   "metadata": {},
   "source": [
    "Evaluate the model performance using mean squared error and R² score."
   ]
  },
  {
   "cell_type": "code",
   "execution_count": null,
   "id": "a6468e01",
   "metadata": {},
   "outputs": [],
   "source": [
    "from sklearn.metrics import mean_squared_error, r2_score\n",
    "mse = mean_squared_error(y_test, predictions)\n",
    "r2 = r2_score(y_test, predictions)"
   ]
  }
 ],
 "metadata": {
  "kernelspec": {
   "display_name": "Python 3",
   "language": "python",
   "name": "python3"
  },
  "language_info": {
   "codemirror_mode": {
    "name": "ipython",
    "version": 3
   },
   "file_extension": ".py",
   "mimetype": "text/x-python",
   "name": "python",
   "nbconvert_exporter": "python",
   "pygments_lexer": "ipython3",
   "version": "3.8.5"
  }
 },
 "nbformat": 4,
 "nbformat_minor": 5
}
