{
 "cells": [
  {
   "cell_type": "markdown",
   "id": "cc5d81fc",
   "metadata": {},
   "source": [
    "Load the dataset from a CSV file."
   ]
  },
  {
   "cell_type": "code",
   "execution_count": null,
   "id": "1346a435",
   "metadata": {},
   "outputs": [],
   "source": [
    "import pandas as pd\n",
    "\n",
    "data = pd.read_csv('data.csv')"
   ]
  },
  {
   "cell_type": "markdown",
   "id": "1a33f915",
   "metadata": {},
   "source": [
    "Generate synthetic test data for evaluation."
   ]
  },
  {
   "cell_type": "code",
   "execution_count": null,
   "id": "3906d408",
   "metadata": {},
   "outputs": [],
   "source": [
    "\n",
    "from sklearn.datasets import make_classification\n",
    "\n",
    "X_test, y_test = make_classification(n_samples=100, n_features=20)"
   ]
  },
  {
   "cell_type": "markdown",
   "id": "958025c2",
   "metadata": {},
   "source": [
    "Preprocess the data by scaling features for better model performance."
   ]
  },
  {
   "cell_type": "code",
   "execution_count": null,
   "id": "017ed2b6",
   "metadata": {},
   "outputs": [],
   "source": [
    "from sklearn.preprocessing import StandardScaler\n",
    "\n",
    "scaler = StandardScaler()\n",
    "X_train_scaled = scaler.fit_transform(X_train)\n",
    "X_test_scaled = scaler.transform(X_test)"
   ]
  },
  {
   "cell_type": "markdown",
   "id": "c3776690",
   "metadata": {},
   "source": [
    "Train a Neural Network model using the training data."
   ]
  },
  {
   "cell_type": "code",
   "execution_count": null,
   "id": "238cc176",
   "metadata": {},
   "outputs": [],
   "source": [
    "from keras.models import Sequential\n",
    "from keras.layers import Dense\n",
    "\n",
    "model_nn = Sequential()\n",
    "model_nn.add(Dense(64, activation='relu', input_shape=(X_train.shape[1],)))\n",
    "model_nn.add(Dense(1, activation='sigmoid'))\n",
    "model_nn.compile(optimizer='adam', loss='binary_crossentropy', metrics=['accuracy'])\n",
    "model_nn.fit(X_train_scaled, y_train, epochs=10, batch_size=32)"
   ]
  },
  {
   "cell_type": "markdown",
   "id": "beabf3fb",
   "metadata": {},
   "source": [
    "Train a LightGBM model using the training data."
   ]
  },
  {
   "cell_type": "code",
   "execution_count": null,
   "id": "2ee6f2a1",
   "metadata": {},
   "outputs": [],
   "source": [
    "import lightgbm as lgb\n",
    "\n",
    "model_lgb = lgb.LGBMClassifier()\n",
    "model_lgb.fit(X_train_scaled, y_train)"
   ]
  },
  {
   "cell_type": "markdown",
   "id": "ab6208bc",
   "metadata": {},
   "source": [
    "Make predictions using both the Neural Network and LightGBM models."
   ]
  },
  {
   "cell_type": "code",
   "execution_count": null,
   "id": "3daf4d1f",
   "metadata": {},
   "outputs": [],
   "source": [
    "predictions_nn = model_nn.predict(X_test_scaled)\n",
    "predictions_lgb = model_lgb.predict(X_test_scaled)"
   ]
  },
  {
   "cell_type": "markdown",
   "id": "c598df8b",
   "metadata": {},
   "source": [
    "Combine predictions from both models into a single array."
   ]
  },
  {
   "cell_type": "code",
   "execution_count": null,
   "id": "0d4374db",
   "metadata": {},
   "outputs": [],
   "source": [
    "import numpy as np\n",
    "\n",
    "combined_predictions = np.column_stack((predictions_nn, predictions_lgb))"
   ]
  },
  {
   "cell_type": "markdown",
   "id": "53a56cef",
   "metadata": {},
   "source": [
    "Save the combined predictions to a CSV file."
   ]
  },
  {
   "cell_type": "code",
   "execution_count": null,
   "id": "122b2d9c",
   "metadata": {},
   "outputs": [],
   "source": [
    "combined_df = pd.DataFrame(combined_predictions, columns=['NN_Predictions', 'LGB_Predictions'])\n",
    "combined_df.to_csv('predictions.csv', index=False)"
   ]
  }
 ],
 "metadata": {
  "kernelspec": {
   "display_name": "Python 3",
   "language": "python",
   "name": "python3"
  },
  "language_info": {
   "codemirror_mode": {
    "name": "ipython",
    "version": 3
   },
   "file_extension": ".py",
   "mimetype": "text/x-python",
   "name": "python",
   "nbconvert_exporter": "python",
   "pygments_lexer": "ipython3",
   "version": "3.8.5"
  }
 },
 "nbformat": 4,
 "nbformat_minor": 5
}
