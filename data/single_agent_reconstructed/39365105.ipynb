{
 "cells": [
  {
   "cell_type": "markdown",
   "id": "bba8dcdb",
   "metadata": {},
   "source": [
    "Load various datasets using pandas."
   ]
  },
  {
   "cell_type": "code",
   "execution_count": null,
   "id": "b4402f12",
   "metadata": {},
   "outputs": [],
   "source": [
    "import pandas as pd\n",
    "\n",
    "df_train = pd.read_csv('train.csv')\n",
    "df_test = pd.read_csv('test.csv')\n",
    "df_sample_submission = pd.read_csv('sample_submission.csv')\n",
    "df_revealed_test = pd.read_csv('revealed_test.csv')\n",
    "df_census_starter = pd.read_csv('census_starter.csv')"
   ]
  },
  {
   "cell_type": "markdown",
   "id": "8dd31c9f",
   "metadata": {},
   "source": [
    "Preprocess data by dropping unnecessary columns and converting date formats."
   ]
  },
  {
   "cell_type": "code",
   "execution_count": null,
   "id": "8b10db9c",
   "metadata": {},
   "outputs": [],
   "source": [
    "df_train.drop(columns=['unnecessary_column1', 'unnecessary_column2'], inplace=True)\n",
    "df_train['date_column'] = pd.to_datetime(df_train['date_column'])"
   ]
  },
  {
   "cell_type": "markdown",
   "id": "74024000",
   "metadata": {},
   "source": [
    "Analyze data by creating a correlation heatmap to visualize relationships."
   ]
  },
  {
   "cell_type": "code",
   "execution_count": null,
   "id": "ea9ae365",
   "metadata": {},
   "outputs": [],
   "source": [
    "import seaborn as sns\n",
    "import matplotlib.pyplot as plt\n",
    "\n",
    "correlation_matrix = df_train.corr()\n",
    "sns.heatmap(correlation_matrix, annot=True)\n",
    "plt.show()"
   ]
  },
  {
   "cell_type": "markdown",
   "id": "23deaa3d",
   "metadata": {},
   "source": [
    "Train the model using grid search to find the best hyperparameters."
   ]
  },
  {
   "cell_type": "code",
   "execution_count": null,
   "id": "5ecdc575",
   "metadata": {},
   "outputs": [],
   "source": [
    "from sklearn.model_selection import GridSearchCV\n",
    "from sklearn.ensemble import RandomForestRegressor\n",
    "\n",
    "model = RandomForestRegressor()\n",
    "param_grid = {'n_estimators': [100, 200], 'max_depth': [None, 10, 20]}\n",
    "grid_search = GridSearchCV(model, param_grid, cv=5)\n",
    "grid_search.fit(X_train, y_train)"
   ]
  },
  {
   "cell_type": "markdown",
   "id": "403d9d26",
   "metadata": {},
   "source": [
    "Evaluate models to find best parameters and calculate Mean Absolute Error (MAE)."
   ]
  },
  {
   "cell_type": "code",
   "execution_count": null,
   "id": "63bacace",
   "metadata": {},
   "outputs": [],
   "source": [
    "best_model = grid_search.best_estimator_\n",
    "y_pred = best_model.predict(X_test)\n",
    "mae = mean_absolute_error(y_test, y_pred)"
   ]
  },
  {
   "cell_type": "markdown",
   "id": "142b1161",
   "metadata": {},
   "source": [
    "Make predictions and save them in a submission file."
   ]
  },
  {
   "cell_type": "code",
   "execution_count": null,
   "id": "daddd8a2",
   "metadata": {},
   "outputs": [],
   "source": [
    "submission = pd.DataFrame({'Id': df_test['Id'], 'Predicted': y_pred})\n",
    "submission.to_csv('submission.csv', index=False)"
   ]
  }
 ],
 "metadata": {
  "kernelspec": {
   "display_name": "Python 3",
   "language": "python",
   "name": "python3"
  },
  "language_info": {
   "codemirror_mode": {
    "name": "ipython",
    "version": 3
   },
   "file_extension": ".py",
   "mimetype": "text/x-python",
   "name": "python",
   "nbconvert_exporter": "python",
   "pygments_lexer": "ipython3",
   "version": "3.8.5"
  }
 },
 "nbformat": 4,
 "nbformat_minor": 5
}
