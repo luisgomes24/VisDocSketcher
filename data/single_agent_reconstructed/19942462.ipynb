{
 "cells": [
  {
   "cell_type": "markdown",
   "id": "a3fe5490",
   "metadata": {},
   "source": [
    "Load the dataset from a CSV file into training and validation sets."
   ]
  },
  {
   "cell_type": "code",
   "execution_count": null,
   "id": "70426579",
   "metadata": {},
   "outputs": [],
   "source": [
    "import pandas as pd\n",
    "\n",
    "X_train, X_valid, y_train, y_valid = pd.read_csv('data.csv')"
   ]
  },
  {
   "cell_type": "markdown",
   "id": "8e35979c",
   "metadata": {},
   "source": [
    "Preprocess the data using one-hot encoding to convert categorical variables."
   ]
  },
  {
   "cell_type": "code",
   "execution_count": null,
   "id": "e33fbd84",
   "metadata": {},
   "outputs": [],
   "source": [
    "from sklearn.preprocessing import OneHotEncoder\n",
    "\n",
    "encoder = OneHotEncoder()\n",
    "X_train_encoded = encoder.fit_transform(X_train).toarray()"
   ]
  },
  {
   "cell_type": "markdown",
   "id": "6cc3cd36",
   "metadata": {},
   "source": [
    "Build the first XGBoost model using the preprocessed training data."
   ]
  },
  {
   "cell_type": "code",
   "execution_count": null,
   "id": "68b8df17",
   "metadata": {},
   "outputs": [],
   "source": [
    "import xgboost as xgb\n",
    "\n",
    "model1 = xgb.XGBRegressor()\n",
    "model1.fit(X_train_encoded, y_train)"
   ]
  },
  {
   "cell_type": "markdown",
   "id": "0f7a445b",
   "metadata": {},
   "source": [
    "Make predictions on the validation set using the first model."
   ]
  },
  {
   "cell_type": "code",
   "execution_count": null,
   "id": "5233d836",
   "metadata": {},
   "outputs": [],
   "source": [
    "preds1 = model1.predict(X_valid)\n"
   ]
  },
  {
   "cell_type": "markdown",
   "id": "3d832388",
   "metadata": {},
   "source": [
    "Evaluate the first model's performance using Mean Absolute Error (MAE)."
   ]
  },
  {
   "cell_type": "code",
   "execution_count": null,
   "id": "9d2ebd30",
   "metadata": {},
   "outputs": [],
   "source": [
    "from sklearn.metrics import mean_absolute_error\n",
    "mae1 = mean_absolute_error(y_valid, preds1)"
   ]
  },
  {
   "cell_type": "markdown",
   "id": "b87bab71",
   "metadata": {},
   "source": [
    "Build the second XGBoost model with hyperparameter tuning."
   ]
  },
  {
   "cell_type": "code",
   "execution_count": null,
   "id": "1048a09a",
   "metadata": {},
   "outputs": [],
   "source": [
    "model2 = xgb.XGBRegressor(learning_rate=0.1, n_estimators=100)\n",
    "model2.fit(X_train_encoded, y_train)"
   ]
  },
  {
   "cell_type": "markdown",
   "id": "d6da84ef",
   "metadata": {},
   "source": [
    "Make predictions on the validation set using the second model."
   ]
  },
  {
   "cell_type": "code",
   "execution_count": null,
   "id": "49bac73b",
   "metadata": {},
   "outputs": [],
   "source": [
    "preds2 = model2.predict(X_valid)\n"
   ]
  },
  {
   "cell_type": "markdown",
   "id": "d7c49ce2",
   "metadata": {},
   "source": [
    "Evaluate the second model's performance using Mean Absolute Error (MAE)."
   ]
  },
  {
   "cell_type": "code",
   "execution_count": null,
   "id": "d8799bd4",
   "metadata": {},
   "outputs": [],
   "source": [
    "mae2 = mean_absolute_error(y_valid, preds2)"
   ]
  },
  {
   "cell_type": "markdown",
   "id": "2298ca18",
   "metadata": {},
   "source": [
    "Build the third XGBoost model with poor parameters."
   ]
  },
  {
   "cell_type": "code",
   "execution_count": null,
   "id": "4b29b735",
   "metadata": {},
   "outputs": [],
   "source": [
    "model3 = xgb.XGBRegressor(max_depth=3, n_estimators=10)\n",
    "model3.fit(X_train_encoded, y_train)"
   ]
  },
  {
   "cell_type": "markdown",
   "id": "5a6d0577",
   "metadata": {},
   "source": [
    "Make predictions on the validation set using the third model."
   ]
  },
  {
   "cell_type": "code",
   "execution_count": null,
   "id": "270e8822",
   "metadata": {},
   "outputs": [],
   "source": [
    "preds3 = model3.predict(X_valid)\n"
   ]
  },
  {
   "cell_type": "markdown",
   "id": "92d58b22",
   "metadata": {},
   "source": [
    "Evaluate the third model's performance using Mean Absolute Error (MAE)."
   ]
  },
  {
   "cell_type": "code",
   "execution_count": null,
   "id": "eaf3e51e",
   "metadata": {},
   "outputs": [],
   "source": [
    "mae3 = mean_absolute_error(y_valid, preds3)"
   ]
  }
 ],
 "metadata": {
  "kernelspec": {
   "display_name": "Python 3",
   "language": "python",
   "name": "python3"
  },
  "language_info": {
   "codemirror_mode": {
    "name": "ipython",
    "version": 3
   },
   "file_extension": ".py",
   "mimetype": "text/x-python",
   "name": "python",
   "nbconvert_exporter": "python",
   "pygments_lexer": "ipython3",
   "version": "3.8.5"
  }
 },
 "nbformat": 4,
 "nbformat_minor": 5
}
