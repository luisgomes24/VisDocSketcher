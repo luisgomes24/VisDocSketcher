{
 "cells": [
  {
   "cell_type": "markdown",
   "id": "8281cecb",
   "metadata": {},
   "source": [
    "Load video metadata from a CSV file."
   ]
  },
  {
   "cell_type": "code",
   "execution_count": null,
   "id": "916bbd42",
   "metadata": {},
   "outputs": [],
   "source": [
    "import pandas as pd\n",
    "# Load data\n",
    "video_data = pd.read_csv('video_data.csv')"
   ]
  },
  {
   "cell_type": "markdown",
   "id": "e61a0b75",
   "metadata": {},
   "source": [
    "Extract frames from the video using OpenCV."
   ]
  },
  {
   "cell_type": "code",
   "execution_count": null,
   "id": "227763c1",
   "metadata": {},
   "outputs": [],
   "source": [
    "import cv2\n",
    "# Extract frames from video\n",
    "frames = []\n",
    "cap = cv2.VideoCapture('video.mp4')\n",
    "while cap.isOpened():\n",
    "    ret, frame = cap.read()\n",
    "    if not ret: break\n",
    "    frames.append(frame)\n",
    "cap.release()"
   ]
  },
  {
   "cell_type": "markdown",
   "id": "77efda58",
   "metadata": {},
   "source": [
    "Convert frames to grayscale for consistency."
   ]
  },
  {
   "cell_type": "code",
   "execution_count": null,
   "id": "2fd94fef",
   "metadata": {},
   "outputs": [],
   "source": [
    "# Data preprocessing (e.g., conversion to grayscale)\n",
    "preprocessed_frames = [cv2.cvtColor(frame, cv2.COLOR_BGR2GRAY) for frame in frames]"
   ]
  },
  {
   "cell_type": "markdown",
   "id": "b2bb2e29",
   "metadata": {},
   "source": [
    "Resize frames to 224x224 pixels for model input."
   ]
  },
  {
   "cell_type": "code",
   "execution_count": null,
   "id": "83dac325",
   "metadata": {},
   "outputs": [],
   "source": [
    "import cv2\n",
    "# Resize images\n",
    "resized_frames = [cv2.resize(frame, (224, 224)) for frame in preprocessed_frames]"
   ]
  },
  {
   "cell_type": "markdown",
   "id": "ddcb0fbb",
   "metadata": {},
   "source": [
    "Convert labels to a one-hot encoded format."
   ]
  },
  {
   "cell_type": "code",
   "execution_count": null,
   "id": "c46d5649",
   "metadata": {},
   "outputs": [],
   "source": [
    "from sklearn.preprocessing import OneHotEncoder\n",
    "# One-Hot Encoding\n",
    "encoder = OneHotEncoder(sparse=False)\n",
    "categorical_labels = encoder.fit_transform(video_data['label'].values.reshape(-1, 1))"
   ]
  },
  {
   "cell_type": "markdown",
   "id": "20df2ea7",
   "metadata": {},
   "source": [
    "Split the dataset into training and testing sets."
   ]
  },
  {
   "cell_type": "code",
   "execution_count": null,
   "id": "16ad5fdc",
   "metadata": {},
   "outputs": [],
   "source": [
    "from sklearn.model_selection import train_test_split\n",
    "# Train-Test Split\n",
    "X_train, X_test, y_train, y_test = train_test_split(resized_frames, categorical_labels, test_size=0.2)"
   ]
  },
  {
   "cell_type": "markdown",
   "id": "bc4c6374",
   "metadata": {},
   "source": [
    "Apply data augmentation techniques to training data."
   ]
  },
  {
   "cell_type": "code",
   "execution_count": null,
   "id": "aa170bc0",
   "metadata": {},
   "outputs": [],
   "source": [
    "from keras.preprocessing.image import ImageDataGenerator\n",
    "# Data Augmentation\n",
    "generator = ImageDataGenerator(rotation_range=20, width_shift_range=0.2, height_shift_range=0.2, shear_range=0.2, zoom_range=0.2, horizontal_flip=True)\n",
    "augmented_data = generator.flow(X_train, y_train)"
   ]
  },
  {
   "cell_type": "markdown",
   "id": "51da6c8e",
   "metadata": {},
   "source": [
    "Define a simple Convolutional Neural Network for classification."
   ]
  },
  {
   "cell_type": "code",
   "execution_count": null,
   "id": "7e527df4",
   "metadata": {},
   "outputs": [],
   "source": [
    "from keras.models import Sequential\n",
    "from keras.layers import Dense, Conv2D, MaxPooling2D, Flatten\n",
    "# Create Video Classification Model\n",
    "model = Sequential()\n",
    "model.add(Conv2D(32, (3, 3), activation='relu', input_shape=(224, 224, 1)))\n",
    "model.add(MaxPooling2D(pool_size=(2, 2)))\n",
    "model.add(Flatten())\n",
    "model.add(Dense(64, activation='relu'))\n",
    "model.add(Dense(categorical_labels.shape[1], activation='softmax'))"
   ]
  },
  {
   "cell_type": "markdown",
   "id": "a7b8d103",
   "metadata": {},
   "source": [
    "Compile the model with the Adam optimizer and categorical crossentropy loss."
   ]
  },
  {
   "cell_type": "code",
   "execution_count": null,
   "id": "aee6bbc4",
   "metadata": {},
   "outputs": [],
   "source": [
    "# Compile Model\n",
    "model.compile(optimizer='adam', loss='categorical_crossentropy', metrics=['accuracy'])"
   ]
  },
  {
   "cell_type": "markdown",
   "id": "421cded7",
   "metadata": {},
   "source": [
    "Train the model on the augmented dataset."
   ]
  },
  {
   "cell_type": "code",
   "execution_count": null,
   "id": "4c3c7dfd",
   "metadata": {},
   "outputs": [],
   "source": [
    "# Train Model\n",
    "history = model.fit(augmented_data, epochs=10, validation_data=(X_test, y_test))"
   ]
  },
  {
   "cell_type": "markdown",
   "id": "46c2237c",
   "metadata": {},
   "source": [
    "Evaluate the model's performance on the test set."
   ]
  },
  {
   "cell_type": "code",
   "execution_count": null,
   "id": "0b911a10",
   "metadata": {},
   "outputs": [],
   "source": [
    "# Evaluate Model\n",
    "loss, accuracy = model.evaluate(X_test, y_test)"
   ]
  },
  {
   "cell_type": "markdown",
   "id": "71f78c62",
   "metadata": {},
   "source": [
    "Visualize training and validation accuracy."
   ]
  },
  {
   "cell_type": "code",
   "execution_count": null,
   "id": "f2ff44b5",
   "metadata": {},
   "outputs": [],
   "source": [
    "import matplotlib.pyplot as plt\n",
    "# Plot Training Results\n",
    "plt.plot(history.history['accuracy'], label='accuracy')\n",
    "plt.plot(history.history['val_accuracy'], label='val_accuracy')\n",
    "plt.title('Model Accuracy')\n",
    "plt.ylabel('Accuracy')\n",
    "plt.xlabel('Epoch')\n",
    "plt.legend()\n",
    "plt.show()"
   ]
  },
  {
   "cell_type": "markdown",
   "id": "f6ac9577",
   "metadata": {},
   "source": [
    "Save the trained model to a file."
   ]
  },
  {
   "cell_type": "code",
   "execution_count": null,
   "id": "150ae4f2",
   "metadata": {},
   "outputs": [],
   "source": [
    "from keras.models import save_model\n",
    "# Serialize Model\n",
    "save_model(model, 'video_classification_model.h5')"
   ]
  },
  {
   "cell_type": "markdown",
   "id": "b7664f0b",
   "metadata": {},
   "source": [
    "Predict whether the video contains violence using the model."
   ]
  },
  {
   "cell_type": "code",
   "execution_count": null,
   "id": "d5a302ad",
   "metadata": {},
   "outputs": [],
   "source": [
    "# Predict Video for Violence\n",
    "predictions = model.predict(resized_frames)\n",
    "violence_predictions = predictions.argmax(axis=1)"
   ]
  }
 ],
 "metadata": {
  "kernelspec": {
   "display_name": "Python 3",
   "language": "python",
   "name": "python3"
  },
  "language_info": {
   "codemirror_mode": {
    "name": "ipython",
    "version": 3
   },
   "file_extension": ".py",
   "mimetype": "text/x-python",
   "name": "python",
   "nbconvert_exporter": "python",
   "pygments_lexer": "ipython3",
   "version": "3.8.5"
  }
 },
 "nbformat": 4,
 "nbformat_minor": 5
}
