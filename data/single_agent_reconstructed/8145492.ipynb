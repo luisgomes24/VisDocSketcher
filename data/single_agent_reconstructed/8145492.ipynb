{
 "cells": [
  {
   "cell_type": "markdown",
   "id": "40fd8756",
   "metadata": {},
   "source": [
    "Load the hotel bookings dataset from a CSV file."
   ]
  },
  {
   "cell_type": "code",
   "execution_count": null,
   "id": "6c403c95",
   "metadata": {},
   "outputs": [],
   "source": [
    "import pandas as pd\n",
    "\n",
    "df = pd.read_csv('../input/hotel-booking-demand/hotel_bookings.csv')"
   ]
  },
  {
   "cell_type": "markdown",
   "id": "72692172",
   "metadata": {},
   "source": [
    "Check the shape of the dataset to understand its dimensions."
   ]
  },
  {
   "cell_type": "code",
   "execution_count": null,
   "id": "6f579e6c",
   "metadata": {},
   "outputs": [],
   "source": [
    "df.shape"
   ]
  },
  {
   "cell_type": "markdown",
   "id": "afd2390d",
   "metadata": {},
   "source": [
    "Remove rows with missing values from the dataset."
   ]
  },
  {
   "cell_type": "code",
   "execution_count": null,
   "id": "8a8dd98e",
   "metadata": {},
   "outputs": [],
   "source": [
    "df = df.dropna()"
   ]
  },
  {
   "cell_type": "markdown",
   "id": "a21a21bd",
   "metadata": {},
   "source": [
    "Visualize missing data using a heatmap."
   ]
  },
  {
   "cell_type": "code",
   "execution_count": null,
   "id": "65014c9a",
   "metadata": {},
   "outputs": [],
   "source": [
    "import seaborn as sns\n",
    "import matplotlib.pyplot as plt\n",
    "sns.heatmap(df.isnull(), cbar=False)\n",
    "plt.show()"
   ]
  },
  {
   "cell_type": "markdown",
   "id": "a28063f2",
   "metadata": {},
   "source": [
    "Generate summary statistics of the dataset."
   ]
  },
  {
   "cell_type": "code",
   "execution_count": null,
   "id": "a0b44e5d",
   "metadata": {},
   "outputs": [],
   "source": [
    "df.describe()"
   ]
  },
  {
   "cell_type": "markdown",
   "id": "2e35c364",
   "metadata": {},
   "source": [
    "Analyze the number of bookings per month with a bar plot."
   ]
  },
  {
   "cell_type": "code",
   "execution_count": null,
   "id": "590fbb33",
   "metadata": {},
   "outputs": [],
   "source": [
    "sns.barplot(x='month', y='number_of_bookings', data=df)"
   ]
  },
  {
   "cell_type": "markdown",
   "id": "8de2be07",
   "metadata": {},
   "source": [
    "Visualize booking distribution per year using a pie chart."
   ]
  },
  {
   "cell_type": "code",
   "execution_count": null,
   "id": "693c4a76",
   "metadata": {},
   "outputs": [],
   "source": [
    "ax = df['year'].value_counts().plot.pie(autopct='%.1f%%')\n",
    "plt.title('Bookings per Year')\n",
    "plt.show()"
   ]
  },
  {
   "cell_type": "markdown",
   "id": "77e88a85",
   "metadata": {},
   "source": [
    "Initialize the linear regression model for prediction."
   ]
  },
  {
   "cell_type": "code",
   "execution_count": null,
   "id": "47c67e39",
   "metadata": {},
   "outputs": [],
   "source": [
    "from sklearn.linear_model import LinearRegression\n",
    "rm = LinearRegression()"
   ]
  },
  {
   "cell_type": "markdown",
   "id": "28d7f810",
   "metadata": {},
   "source": [
    "Fit the model with features X and target variable y."
   ]
  },
  {
   "cell_type": "code",
   "execution_count": null,
   "id": "a04e3068",
   "metadata": {},
   "outputs": [],
   "source": [
    "result = rm.fit(X, y)"
   ]
  },
  {
   "cell_type": "markdown",
   "id": "07e53895",
   "metadata": {},
   "source": [
    "Calculate the correlation matrix of the dataset."
   ]
  },
  {
   "cell_type": "code",
   "execution_count": null,
   "id": "0103c35c",
   "metadata": {},
   "outputs": [],
   "source": [
    "df.corr()"
   ]
  }
 ],
 "metadata": {
  "kernelspec": {
   "display_name": "Python 3",
   "language": "python",
   "name": "python3"
  },
  "language_info": {
   "codemirror_mode": {
    "name": "ipython",
    "version": 3
   },
   "file_extension": ".py",
   "mimetype": "text/x-python",
   "name": "python",
   "nbconvert_exporter": "python",
   "pygments_lexer": "ipython3",
   "version": "3.8.5"
  }
 },
 "nbformat": 4,
 "nbformat_minor": 5
}
