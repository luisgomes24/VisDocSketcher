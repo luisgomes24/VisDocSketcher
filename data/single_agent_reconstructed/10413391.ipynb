{
 "cells": [
  {
   "cell_type": "markdown",
   "id": "fc9677df",
   "metadata": {},
   "source": [
    "Load the diabetes dataset from a CSV file using Pandas."
   ]
  },
  {
   "cell_type": "code",
   "execution_count": null,
   "id": "ca8bed83",
   "metadata": {},
   "outputs": [],
   "source": [
    "import pandas as pd\n",
    "df = pd.read_csv('diabetes.csv')"
   ]
  },
  {
   "cell_type": "markdown",
   "id": "c08821b8",
   "metadata": {},
   "source": [
    "Display the first five rows of the dataset to explore its structure."
   ]
  },
  {
   "cell_type": "code",
   "execution_count": null,
   "id": "db02fbee",
   "metadata": {},
   "outputs": [],
   "source": [
    "print(df.head())"
   ]
  },
  {
   "cell_type": "markdown",
   "id": "5bd5d47d",
   "metadata": {},
   "source": [
    "Plot distribution histograms for each column in the dataset."
   ]
  },
  {
   "cell_type": "code",
   "execution_count": null,
   "id": "cd90f674",
   "metadata": {},
   "outputs": [],
   "source": [
    "import seaborn as sns\n",
    "import matplotlib.pyplot as plt\n",
    "sns.set(style='whitegrid')\n",
    "df.hist(figsize=(12, 10))\n",
    "plt.tight_layout()\n",
    "plt.show()"
   ]
  },
  {
   "cell_type": "markdown",
   "id": "0e345876",
   "metadata": {},
   "source": [
    "Calculate and plot the correlation matrix to visualize relationships between features."
   ]
  },
  {
   "cell_type": "code",
   "execution_count": null,
   "id": "754e19b2",
   "metadata": {},
   "outputs": [],
   "source": [
    "correlation_matrix = df.corr()\n",
    "sns.heatmap(correlation_matrix, annot=True, cmap='coolwarm')\n",
    "plt.show()"
   ]
  },
  {
   "cell_type": "markdown",
   "id": "3968e564",
   "metadata": {},
   "source": [
    "Create a scatter matrix to examine pairwise relationships and distributions."
   ]
  },
  {
   "cell_type": "code",
   "execution_count": null,
   "id": "67906b5c",
   "metadata": {},
   "outputs": [],
   "source": [
    "sns.pairplot(df)\n",
    "plt.show()"
   ]
  }
 ],
 "metadata": {
  "kernelspec": {
   "display_name": "Python 3",
   "language": "python",
   "name": "python3"
  },
  "language_info": {
   "codemirror_mode": {
    "name": "ipython",
    "version": 3
   },
   "file_extension": ".py",
   "mimetype": "text/x-python",
   "name": "python",
   "nbconvert_exporter": "python",
   "pygments_lexer": "ipython3",
   "version": "3.8.5"
  }
 },
 "nbformat": 4,
 "nbformat_minor": 5
}
