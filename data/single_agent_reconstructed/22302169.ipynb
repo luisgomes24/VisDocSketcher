{
 "cells": [
  {
   "cell_type": "markdown",
   "id": "46f43bcb",
   "metadata": {},
   "source": [
    "Load the dataset from a CSV file into a DataFrame."
   ]
  },
  {
   "cell_type": "code",
   "execution_count": null,
   "id": "efdbe150",
   "metadata": {},
   "outputs": [],
   "source": [
    "import pandas as pd\n",
    "\n",
    "data = pd.read_csv('data.csv')"
   ]
  },
  {
   "cell_type": "markdown",
   "id": "5dadeaa1",
   "metadata": {},
   "source": [
    "Define a function to preprocess the data."
   ]
  },
  {
   "cell_type": "code",
   "execution_count": null,
   "id": "b5292c92",
   "metadata": {},
   "outputs": [],
   "source": [
    "def preprocess_data(data):\n",
    "    # Perform preprocessing steps\n",
    "    return data"
   ]
  },
  {
   "cell_type": "markdown",
   "id": "7110bfc5",
   "metadata": {},
   "source": [
    "Calculate RMSE for cases where predictions are all zeros."
   ]
  },
  {
   "cell_type": "code",
   "execution_count": null,
   "id": "9b7ca42e",
   "metadata": {},
   "outputs": [],
   "source": [
    "import numpy as np\n",
    "\n",
    "rmse_all_zeros = np.sqrt(np.mean((data - 0) ** 2))"
   ]
  },
  {
   "cell_type": "markdown",
   "id": "63b6dd0f",
   "metadata": {},
   "source": [
    "Calculate the mean and standard deviation of the data."
   ]
  },
  {
   "cell_type": "code",
   "execution_count": null,
   "id": "2b235365",
   "metadata": {},
   "outputs": [],
   "source": [
    "mean = np.mean(data)\n",
    "std_dev = np.std(data)"
   ]
  },
  {
   "cell_type": "markdown",
   "id": "9706480a",
   "metadata": {},
   "source": [
    "Plot the distribution of RMSE values when predictions are all zeros."
   ]
  },
  {
   "cell_type": "code",
   "execution_count": null,
   "id": "380c6636",
   "metadata": {},
   "outputs": [],
   "source": [
    "import matplotlib.pyplot as plt\n",
    "\n",
    "plt.hist(data)\n",
    "plt.title('RMSE Distribution - All Zeros')\n",
    "plt.show()"
   ]
  },
  {
   "cell_type": "markdown",
   "id": "d7258022",
   "metadata": {},
   "source": [
    "Calculate RMSE using the training data mean."
   ]
  },
  {
   "cell_type": "code",
   "execution_count": null,
   "id": "0e56687a",
   "metadata": {},
   "outputs": [],
   "source": [
    "rmse_train_mean = np.sqrt(np.mean((data - mean) ** 2))"
   ]
  },
  {
   "cell_type": "markdown",
   "id": "f8b4f93e",
   "metadata": {},
   "source": [
    "Calculate the mean and standard deviation for the training data."
   ]
  },
  {
   "cell_type": "code",
   "execution_count": null,
   "id": "4d389971",
   "metadata": {},
   "outputs": [],
   "source": [
    "mean_train = np.mean(data)\n",
    "std_dev_train = np.std(data)"
   ]
  },
  {
   "cell_type": "markdown",
   "id": "8aea4e05",
   "metadata": {},
   "source": [
    "Plot the distribution of RMSE values using the training data mean."
   ]
  },
  {
   "cell_type": "code",
   "execution_count": null,
   "id": "8111bc3f",
   "metadata": {},
   "outputs": [],
   "source": [
    "plt.hist(data - mean_train)\n",
    "plt.title('RMSE Distribution - Train Mean')\n",
    "plt.show()"
   ]
  }
 ],
 "metadata": {
  "kernelspec": {
   "display_name": "Python 3",
   "language": "python",
   "name": "python3"
  },
  "language_info": {
   "codemirror_mode": {
    "name": "ipython",
    "version": 3
   },
   "file_extension": ".py",
   "mimetype": "text/x-python",
   "name": "python",
   "nbconvert_exporter": "python",
   "pygments_lexer": "ipython3",
   "version": "3.8.5"
  }
 },
 "nbformat": 4,
 "nbformat_minor": 5
}
